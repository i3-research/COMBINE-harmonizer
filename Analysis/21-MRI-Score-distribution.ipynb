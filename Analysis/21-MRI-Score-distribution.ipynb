{
 "cells": [
  {
   "cell_type": "code",
   "execution_count": 1,
   "id": "2deb6893-1147-40f8-815e-6ea10a6bc790",
   "metadata": {
    "execution": {
     "iopub.execute_input": "2025-01-11T15:04:18.116482Z",
     "iopub.status.busy": "2025-01-11T15:04:18.116320Z",
     "iopub.status.idle": "2025-01-11T15:04:19.224000Z",
     "shell.execute_reply": "2025-01-11T15:04:19.223628Z"
    }
   },
   "outputs": [],
   "source": [
    "import pandas as pd\n",
    "import os\n",
    "\n",
    "import COMBINE_harmonizer\n",
    "from COMBINE_harmonizer import cfg"
   ]
  },
  {
   "cell_type": "markdown",
   "id": "46c9532c",
   "metadata": {},
   "source": [
    "## Objective\n",
    "\n",
    "This is to explore the distribution of the MRI NRN Pattern of Injury scores in different studies and the merged dataset."
   ]
  },
  {
   "cell_type": "code",
   "execution_count": 2,
   "id": "d68ced68-700e-4e48-b886-025392aff393",
   "metadata": {
    "execution": {
     "iopub.execute_input": "2025-01-11T15:04:19.225866Z",
     "iopub.status.busy": "2025-01-11T15:04:19.225665Z",
     "iopub.status.idle": "2025-01-11T15:04:19.227722Z",
     "shell.execute_reply": "2025-01-11T15:04:19.227356Z"
    }
   },
   "outputs": [],
   "source": [
    "titles = [\n",
    "    'LH',\n",
    "    'OC',\n",
    "    'merged',\n",
    "    'publish',\n",
    "]"
   ]
  },
  {
   "cell_type": "code",
   "execution_count": 3,
   "id": "ce99c1ca-369a-4b1e-82f5-bb1006fbda86",
   "metadata": {
    "execution": {
     "iopub.execute_input": "2025-01-11T15:04:19.229231Z",
     "iopub.status.busy": "2025-01-11T15:04:19.229110Z",
     "iopub.status.idle": "2025-01-11T15:04:19.230926Z",
     "shell.execute_reply": "2025-01-11T15:04:19.230624Z"
    }
   },
   "outputs": [],
   "source": [
    "root_dir = '../'"
   ]
  },
  {
   "cell_type": "code",
   "execution_count": 4,
   "id": "f7734cf8",
   "metadata": {
    "execution": {
     "iopub.execute_input": "2025-01-11T15:04:19.232386Z",
     "iopub.status.busy": "2025-01-11T15:04:19.232229Z",
     "iopub.status.idle": "2025-01-11T15:04:19.235963Z",
     "shell.execute_reply": "2025-01-11T15:04:19.235674Z"
    }
   },
   "outputs": [],
   "source": [
    "COMBINE_harmonizer.init(f'{root_dir}/config.yaml')"
   ]
  },
  {
   "cell_type": "code",
   "execution_count": 5,
   "id": "8ddcc5a7",
   "metadata": {
    "execution": {
     "iopub.execute_input": "2025-01-11T15:04:19.237417Z",
     "iopub.status.busy": "2025-01-11T15:04:19.237305Z",
     "iopub.status.idle": "2025-01-11T15:04:19.252392Z",
     "shell.execute_reply": "2025-01-11T15:04:19.252052Z"
    }
   },
   "outputs": [],
   "source": [
    "out_dir = f\"{cfg.config['out_dir']}/stats/MRI-hist\"\n",
    "os.makedirs(out_dir, exist_ok=True)"
   ]
  },
  {
   "cell_type": "code",
   "execution_count": 6,
   "id": "7845e4fe-9ad4-42ee-bc63-004ddc041edc",
   "metadata": {
    "execution": {
     "iopub.execute_input": "2025-01-11T15:04:19.254028Z",
     "iopub.status.busy": "2025-01-11T15:04:19.253926Z",
     "iopub.status.idle": "2025-01-11T15:04:19.255891Z",
     "shell.execute_reply": "2025-01-11T15:04:19.255621Z"
    }
   },
   "outputs": [],
   "source": [
    "input_dirs = {each: f\"{cfg.config['out_dir']}/out-{each}-normalized\" for each in titles}"
   ]
  },
  {
   "cell_type": "markdown",
   "id": "6b18d7a4-878c-4f22-9c84-cc5509ec9e68",
   "metadata": {},
   "source": [
    "## 01-main"
   ]
  },
  {
   "cell_type": "code",
   "execution_count": 7,
   "id": "65e81ce4-1baf-4f48-bbc3-6ee6b11ba6f1",
   "metadata": {
    "execution": {
     "iopub.execute_input": "2025-01-11T15:04:19.257366Z",
     "iopub.status.busy": "2025-01-11T15:04:19.257277Z",
     "iopub.status.idle": "2025-01-11T15:04:19.259000Z",
     "shell.execute_reply": "2025-01-11T15:04:19.258749Z"
    }
   },
   "outputs": [],
   "source": [
    "base_filename = '01-02-screening.csv'"
   ]
  },
  {
   "cell_type": "code",
   "execution_count": 8,
   "id": "8a1ce315-bd5a-4e6f-8115-498e84766220",
   "metadata": {
    "execution": {
     "iopub.execute_input": "2025-01-11T15:04:19.260384Z",
     "iopub.status.busy": "2025-01-11T15:04:19.260247Z",
     "iopub.status.idle": "2025-01-11T15:04:19.262258Z",
     "shell.execute_reply": "2025-01-11T15:04:19.261996Z"
    }
   },
   "outputs": [],
   "source": [
    "filenames = {each: os.sep.join([input_dir, base_filename]) for each, input_dir in input_dirs.items()}"
   ]
  },
  {
   "cell_type": "code",
   "execution_count": 9,
   "id": "0dd4d955-9dc7-4da8-a7b3-c9677e2c12f5",
   "metadata": {
    "execution": {
     "iopub.execute_input": "2025-01-11T15:04:19.263534Z",
     "iopub.status.busy": "2025-01-11T15:04:19.263459Z",
     "iopub.status.idle": "2025-01-11T15:04:19.400100Z",
     "shell.execute_reply": "2025-01-11T15:04:19.399779Z"
    }
   },
   "outputs": [],
   "source": [
    "dfs = {each: pd.read_csv(filename, dtype='O') for each, filename in filenames.items()}"
   ]
  },
  {
   "cell_type": "code",
   "execution_count": 10,
   "id": "39ad229a-803c-4893-a2f9-a19d8344dbb8",
   "metadata": {
    "execution": {
     "iopub.execute_input": "2025-01-11T15:04:19.401726Z",
     "iopub.status.busy": "2025-01-11T15:04:19.401620Z",
     "iopub.status.idle": "2025-01-11T15:04:19.404939Z",
     "shell.execute_reply": "2025-01-11T15:04:19.404683Z"
    }
   },
   "outputs": [
    {
     "data": {
      "text/plain": [
       "(168, 364, 532, 532)"
      ]
     },
     "execution_count": 10,
     "metadata": {},
     "output_type": "execute_result"
    }
   ],
   "source": [
    "len(dfs['LH']), len(dfs['OC']), len(dfs['merged']), len(dfs['publish'])"
   ]
  },
  {
   "cell_type": "markdown",
   "id": "33cebc59-cb90-45d3-b1b5-263492254b24",
   "metadata": {},
   "source": [
    "## 08-mri"
   ]
  },
  {
   "cell_type": "code",
   "execution_count": 11,
   "id": "aee8bc14-0dcb-4c30-b994-02f86862a1f4",
   "metadata": {
    "execution": {
     "iopub.execute_input": "2025-01-11T15:04:19.406400Z",
     "iopub.status.busy": "2025-01-11T15:04:19.406293Z",
     "iopub.status.idle": "2025-01-11T15:04:19.407837Z",
     "shell.execute_reply": "2025-01-11T15:04:19.407558Z"
    }
   },
   "outputs": [],
   "source": [
    "base_filename = '03-05-mri.csv'"
   ]
  },
  {
   "cell_type": "code",
   "execution_count": 12,
   "id": "ed596740-ece9-4d32-af4f-6e189506ff1b",
   "metadata": {
    "execution": {
     "iopub.execute_input": "2025-01-11T15:04:19.409298Z",
     "iopub.status.busy": "2025-01-11T15:04:19.409199Z",
     "iopub.status.idle": "2025-01-11T15:04:19.411269Z",
     "shell.execute_reply": "2025-01-11T15:04:19.410948Z"
    }
   },
   "outputs": [],
   "source": [
    "filenames = {each: os.sep.join([input_dir, base_filename]) for each, input_dir in input_dirs.items()}"
   ]
  },
  {
   "cell_type": "code",
   "execution_count": 13,
   "id": "81331a48-b924-40f7-987c-555b817e626c",
   "metadata": {
    "execution": {
     "iopub.execute_input": "2025-01-11T15:04:19.412620Z",
     "iopub.status.busy": "2025-01-11T15:04:19.412536Z",
     "iopub.status.idle": "2025-01-11T15:04:19.545776Z",
     "shell.execute_reply": "2025-01-11T15:04:19.545398Z"
    }
   },
   "outputs": [],
   "source": [
    "dfs = {each: pd.read_csv(filename, dtype='O') for each, filename in filenames.items()}\n",
    "dfs = {each: df.fillna('') for each, df in dfs.items()}"
   ]
  },
  {
   "cell_type": "code",
   "execution_count": 14,
   "id": "9d6522a0-10d2-4b3e-bd8f-19e336222fa2",
   "metadata": {
    "execution": {
     "iopub.execute_input": "2025-01-11T15:04:19.547596Z",
     "iopub.status.busy": "2025-01-11T15:04:19.547457Z",
     "iopub.status.idle": "2025-01-11T15:04:19.549642Z",
     "shell.execute_reply": "2025-01-11T15:04:19.549351Z"
    }
   },
   "outputs": [],
   "source": [
    "def _count(df, columns):\n",
    "    df_groupby = df.groupby(columns, as_index=False).agg(count=('uniqueID', 'count'))\n",
    "    total = float(df_groupby['count'].sum())\n",
    "    df_groupby['percent (%)'] = df_groupby['count'].apply(lambda x: f'{(float(x) * 100 / total):0.3f}')\n",
    "    return df_groupby"
   ]
  },
  {
   "cell_type": "code",
   "execution_count": 15,
   "id": "dd9f7d0d-db1f-4fa7-adca-f8afdd8b535c",
   "metadata": {
    "execution": {
     "iopub.execute_input": "2025-01-11T15:04:19.551117Z",
     "iopub.status.busy": "2025-01-11T15:04:19.550994Z",
     "iopub.status.idle": "2025-01-11T15:04:19.554214Z",
     "shell.execute_reply": "2025-01-11T15:04:19.553939Z"
    }
   },
   "outputs": [
    {
     "data": {
      "text/plain": [
       "(147, 2, 244, 317, 3, 671, 464, 915)"
      ]
     },
     "execution_count": 15,
     "metadata": {},
     "output_type": "execute_result"
    }
   ],
   "source": [
    "len(dfs['LH'].uniqueID.unique()), len(dfs['LH'].MRIReader.unique()), len(dfs['LH']), len(dfs['OC'].uniqueID.unique()), len(dfs['OC'].MRIReader.unique()), len(dfs['OC']), len(dfs['merged'].uniqueID.unique()), len(dfs['merged'])"
   ]
  },
  {
   "cell_type": "code",
   "execution_count": 16,
   "id": "d6c47ee9-29f3-48d7-bfc6-723a659caaa4",
   "metadata": {
    "execution": {
     "iopub.execute_input": "2025-01-11T15:04:19.555487Z",
     "iopub.status.busy": "2025-01-11T15:04:19.555411Z",
     "iopub.status.idle": "2025-01-11T15:04:19.557626Z",
     "shell.execute_reply": "2025-01-11T15:04:19.557362Z"
    }
   },
   "outputs": [
    {
     "data": {
      "text/plain": [
       "(array(['1', '2'], dtype=object), array(['1', '2', '3'], dtype=object))"
      ]
     },
     "execution_count": 16,
     "metadata": {},
     "output_type": "execute_result"
    }
   ],
   "source": [
    "dfs['LH'].MRIReader.unique(), dfs['OC'].MRIReader.unique()"
   ]
  },
  {
   "cell_type": "code",
   "execution_count": 17,
   "id": "3e3e29ef-cbb9-4470-81d7-a0603c70d084",
   "metadata": {
    "execution": {
     "iopub.execute_input": "2025-01-11T15:04:19.558879Z",
     "iopub.status.busy": "2025-01-11T15:04:19.558803Z",
     "iopub.status.idle": "2025-01-11T15:04:19.560391Z",
     "shell.execute_reply": "2025-01-11T15:04:19.560142Z"
    }
   },
   "outputs": [],
   "source": [
    "columns = ['MRINRNPatternOfInjury']\n",
    "# columns = ['MRIReader']"
   ]
  },
  {
   "cell_type": "code",
   "execution_count": 18,
   "id": "47a3274e-495c-4ed3-8a7e-57236125cae2",
   "metadata": {
    "execution": {
     "iopub.execute_input": "2025-01-11T15:04:19.561808Z",
     "iopub.status.busy": "2025-01-11T15:04:19.561695Z",
     "iopub.status.idle": "2025-01-11T15:04:19.570123Z",
     "shell.execute_reply": "2025-01-11T15:04:19.569777Z"
    }
   },
   "outputs": [],
   "source": [
    "df_groups = {each: _count(df, columns) for each, df in dfs.items()}"
   ]
  },
  {
   "cell_type": "code",
   "execution_count": 19,
   "id": "2fcafb83-8f97-400a-b14f-bde29273075c",
   "metadata": {
    "execution": {
     "iopub.execute_input": "2025-01-11T15:04:19.571718Z",
     "iopub.status.busy": "2025-01-11T15:04:19.571623Z",
     "iopub.status.idle": "2025-01-11T15:04:19.576282Z",
     "shell.execute_reply": "2025-01-11T15:04:19.576010Z"
    }
   },
   "outputs": [
    {
     "data": {
      "text/html": [
       "<div>\n",
       "<style scoped>\n",
       "    .dataframe tbody tr th:only-of-type {\n",
       "        vertical-align: middle;\n",
       "    }\n",
       "\n",
       "    .dataframe tbody tr th {\n",
       "        vertical-align: top;\n",
       "    }\n",
       "\n",
       "    .dataframe thead th {\n",
       "        text-align: right;\n",
       "    }\n",
       "</style>\n",
       "<table border=\"1\" class=\"dataframe\">\n",
       "  <thead>\n",
       "    <tr style=\"text-align: right;\">\n",
       "      <th></th>\n",
       "      <th>MRINRNPatternOfInjury</th>\n",
       "      <th>count</th>\n",
       "      <th>percent (%)</th>\n",
       "    </tr>\n",
       "  </thead>\n",
       "  <tbody>\n",
       "    <tr>\n",
       "      <th>0</th>\n",
       "      <td></td>\n",
       "      <td>11</td>\n",
       "      <td>4.508</td>\n",
       "    </tr>\n",
       "    <tr>\n",
       "      <th>1</th>\n",
       "      <td>0</td>\n",
       "      <td>51</td>\n",
       "      <td>20.902</td>\n",
       "    </tr>\n",
       "    <tr>\n",
       "      <th>2</th>\n",
       "      <td>1A</td>\n",
       "      <td>28</td>\n",
       "      <td>11.475</td>\n",
       "    </tr>\n",
       "    <tr>\n",
       "      <th>3</th>\n",
       "      <td>1B</td>\n",
       "      <td>20</td>\n",
       "      <td>8.197</td>\n",
       "    </tr>\n",
       "    <tr>\n",
       "      <th>4</th>\n",
       "      <td>2A</td>\n",
       "      <td>33</td>\n",
       "      <td>13.525</td>\n",
       "    </tr>\n",
       "    <tr>\n",
       "      <th>5</th>\n",
       "      <td>2B</td>\n",
       "      <td>61</td>\n",
       "      <td>25.000</td>\n",
       "    </tr>\n",
       "    <tr>\n",
       "      <th>6</th>\n",
       "      <td>3</td>\n",
       "      <td>40</td>\n",
       "      <td>16.393</td>\n",
       "    </tr>\n",
       "  </tbody>\n",
       "</table>\n",
       "</div>"
      ],
      "text/plain": [
       "  MRINRNPatternOfInjury  count percent (%)\n",
       "0                           11       4.508\n",
       "1                     0     51      20.902\n",
       "2                    1A     28      11.475\n",
       "3                    1B     20       8.197\n",
       "4                    2A     33      13.525\n",
       "5                    2B     61      25.000\n",
       "6                     3     40      16.393"
      ]
     },
     "execution_count": 19,
     "metadata": {},
     "output_type": "execute_result"
    }
   ],
   "source": [
    "df_groups['LH']"
   ]
  },
  {
   "cell_type": "code",
   "execution_count": 20,
   "id": "bc5ca077-bd01-444f-ae3a-bf5383710d93",
   "metadata": {
    "execution": {
     "iopub.execute_input": "2025-01-11T15:04:19.577681Z",
     "iopub.status.busy": "2025-01-11T15:04:19.577589Z",
     "iopub.status.idle": "2025-01-11T15:04:19.580895Z",
     "shell.execute_reply": "2025-01-11T15:04:19.580647Z"
    }
   },
   "outputs": [
    {
     "data": {
      "text/html": [
       "<div>\n",
       "<style scoped>\n",
       "    .dataframe tbody tr th:only-of-type {\n",
       "        vertical-align: middle;\n",
       "    }\n",
       "\n",
       "    .dataframe tbody tr th {\n",
       "        vertical-align: top;\n",
       "    }\n",
       "\n",
       "    .dataframe thead th {\n",
       "        text-align: right;\n",
       "    }\n",
       "</style>\n",
       "<table border=\"1\" class=\"dataframe\">\n",
       "  <thead>\n",
       "    <tr style=\"text-align: right;\">\n",
       "      <th></th>\n",
       "      <th>MRINRNPatternOfInjury</th>\n",
       "      <th>count</th>\n",
       "      <th>percent (%)</th>\n",
       "    </tr>\n",
       "  </thead>\n",
       "  <tbody>\n",
       "    <tr>\n",
       "      <th>0</th>\n",
       "      <td></td>\n",
       "      <td>6</td>\n",
       "      <td>0.894</td>\n",
       "    </tr>\n",
       "    <tr>\n",
       "      <th>1</th>\n",
       "      <td>0</td>\n",
       "      <td>163</td>\n",
       "      <td>24.292</td>\n",
       "    </tr>\n",
       "    <tr>\n",
       "      <th>2</th>\n",
       "      <td>1A</td>\n",
       "      <td>131</td>\n",
       "      <td>19.523</td>\n",
       "    </tr>\n",
       "    <tr>\n",
       "      <th>3</th>\n",
       "      <td>1B</td>\n",
       "      <td>60</td>\n",
       "      <td>8.942</td>\n",
       "    </tr>\n",
       "    <tr>\n",
       "      <th>4</th>\n",
       "      <td>2A</td>\n",
       "      <td>75</td>\n",
       "      <td>11.177</td>\n",
       "    </tr>\n",
       "    <tr>\n",
       "      <th>5</th>\n",
       "      <td>2B</td>\n",
       "      <td>143</td>\n",
       "      <td>21.311</td>\n",
       "    </tr>\n",
       "    <tr>\n",
       "      <th>6</th>\n",
       "      <td>3</td>\n",
       "      <td>93</td>\n",
       "      <td>13.860</td>\n",
       "    </tr>\n",
       "  </tbody>\n",
       "</table>\n",
       "</div>"
      ],
      "text/plain": [
       "  MRINRNPatternOfInjury  count percent (%)\n",
       "0                            6       0.894\n",
       "1                     0    163      24.292\n",
       "2                    1A    131      19.523\n",
       "3                    1B     60       8.942\n",
       "4                    2A     75      11.177\n",
       "5                    2B    143      21.311\n",
       "6                     3     93      13.860"
      ]
     },
     "execution_count": 20,
     "metadata": {},
     "output_type": "execute_result"
    }
   ],
   "source": [
    "df_groups['OC']"
   ]
  },
  {
   "cell_type": "code",
   "execution_count": 21,
   "id": "4a3feceb-ff97-4c13-a901-767472c31aae",
   "metadata": {
    "execution": {
     "iopub.execute_input": "2025-01-11T15:04:19.582164Z",
     "iopub.status.busy": "2025-01-11T15:04:19.582086Z",
     "iopub.status.idle": "2025-01-11T15:04:19.585099Z",
     "shell.execute_reply": "2025-01-11T15:04:19.584862Z"
    }
   },
   "outputs": [
    {
     "data": {
      "text/html": [
       "<div>\n",
       "<style scoped>\n",
       "    .dataframe tbody tr th:only-of-type {\n",
       "        vertical-align: middle;\n",
       "    }\n",
       "\n",
       "    .dataframe tbody tr th {\n",
       "        vertical-align: top;\n",
       "    }\n",
       "\n",
       "    .dataframe thead th {\n",
       "        text-align: right;\n",
       "    }\n",
       "</style>\n",
       "<table border=\"1\" class=\"dataframe\">\n",
       "  <thead>\n",
       "    <tr style=\"text-align: right;\">\n",
       "      <th></th>\n",
       "      <th>MRINRNPatternOfInjury</th>\n",
       "      <th>count</th>\n",
       "      <th>percent (%)</th>\n",
       "    </tr>\n",
       "  </thead>\n",
       "  <tbody>\n",
       "    <tr>\n",
       "      <th>0</th>\n",
       "      <td></td>\n",
       "      <td>17</td>\n",
       "      <td>1.858</td>\n",
       "    </tr>\n",
       "    <tr>\n",
       "      <th>1</th>\n",
       "      <td>0</td>\n",
       "      <td>214</td>\n",
       "      <td>23.388</td>\n",
       "    </tr>\n",
       "    <tr>\n",
       "      <th>2</th>\n",
       "      <td>1A</td>\n",
       "      <td>159</td>\n",
       "      <td>17.377</td>\n",
       "    </tr>\n",
       "    <tr>\n",
       "      <th>3</th>\n",
       "      <td>1B</td>\n",
       "      <td>80</td>\n",
       "      <td>8.743</td>\n",
       "    </tr>\n",
       "    <tr>\n",
       "      <th>4</th>\n",
       "      <td>2A</td>\n",
       "      <td>108</td>\n",
       "      <td>11.803</td>\n",
       "    </tr>\n",
       "    <tr>\n",
       "      <th>5</th>\n",
       "      <td>2B</td>\n",
       "      <td>204</td>\n",
       "      <td>22.295</td>\n",
       "    </tr>\n",
       "    <tr>\n",
       "      <th>6</th>\n",
       "      <td>3</td>\n",
       "      <td>133</td>\n",
       "      <td>14.536</td>\n",
       "    </tr>\n",
       "  </tbody>\n",
       "</table>\n",
       "</div>"
      ],
      "text/plain": [
       "  MRINRNPatternOfInjury  count percent (%)\n",
       "0                           17       1.858\n",
       "1                     0    214      23.388\n",
       "2                    1A    159      17.377\n",
       "3                    1B     80       8.743\n",
       "4                    2A    108      11.803\n",
       "5                    2B    204      22.295\n",
       "6                     3    133      14.536"
      ]
     },
     "execution_count": 21,
     "metadata": {},
     "output_type": "execute_result"
    }
   ],
   "source": [
    "df_groups['merged']"
   ]
  },
  {
   "cell_type": "code",
   "execution_count": 22,
   "id": "6322db20-5c14-46fc-a4db-9c9d44917d95",
   "metadata": {
    "execution": {
     "iopub.execute_input": "2025-01-11T15:04:19.586308Z",
     "iopub.status.busy": "2025-01-11T15:04:19.586237Z",
     "iopub.status.idle": "2025-01-11T15:04:19.588942Z",
     "shell.execute_reply": "2025-01-11T15:04:19.588728Z"
    }
   },
   "outputs": [
    {
     "data": {
      "text/html": [
       "<div>\n",
       "<style scoped>\n",
       "    .dataframe tbody tr th:only-of-type {\n",
       "        vertical-align: middle;\n",
       "    }\n",
       "\n",
       "    .dataframe tbody tr th {\n",
       "        vertical-align: top;\n",
       "    }\n",
       "\n",
       "    .dataframe thead th {\n",
       "        text-align: right;\n",
       "    }\n",
       "</style>\n",
       "<table border=\"1\" class=\"dataframe\">\n",
       "  <thead>\n",
       "    <tr style=\"text-align: right;\">\n",
       "      <th></th>\n",
       "      <th>MRINRNPatternOfInjury</th>\n",
       "      <th>count</th>\n",
       "      <th>percent (%)</th>\n",
       "    </tr>\n",
       "  </thead>\n",
       "  <tbody>\n",
       "    <tr>\n",
       "      <th>0</th>\n",
       "      <td></td>\n",
       "      <td>17</td>\n",
       "      <td>1.858</td>\n",
       "    </tr>\n",
       "    <tr>\n",
       "      <th>1</th>\n",
       "      <td>0</td>\n",
       "      <td>214</td>\n",
       "      <td>23.388</td>\n",
       "    </tr>\n",
       "    <tr>\n",
       "      <th>2</th>\n",
       "      <td>1A</td>\n",
       "      <td>159</td>\n",
       "      <td>17.377</td>\n",
       "    </tr>\n",
       "    <tr>\n",
       "      <th>3</th>\n",
       "      <td>1B</td>\n",
       "      <td>80</td>\n",
       "      <td>8.743</td>\n",
       "    </tr>\n",
       "    <tr>\n",
       "      <th>4</th>\n",
       "      <td>2A</td>\n",
       "      <td>108</td>\n",
       "      <td>11.803</td>\n",
       "    </tr>\n",
       "    <tr>\n",
       "      <th>5</th>\n",
       "      <td>2B</td>\n",
       "      <td>204</td>\n",
       "      <td>22.295</td>\n",
       "    </tr>\n",
       "    <tr>\n",
       "      <th>6</th>\n",
       "      <td>3</td>\n",
       "      <td>133</td>\n",
       "      <td>14.536</td>\n",
       "    </tr>\n",
       "  </tbody>\n",
       "</table>\n",
       "</div>"
      ],
      "text/plain": [
       "  MRINRNPatternOfInjury  count percent (%)\n",
       "0                           17       1.858\n",
       "1                     0    214      23.388\n",
       "2                    1A    159      17.377\n",
       "3                    1B     80       8.743\n",
       "4                    2A    108      11.803\n",
       "5                    2B    204      22.295\n",
       "6                     3    133      14.536"
      ]
     },
     "execution_count": 22,
     "metadata": {},
     "output_type": "execute_result"
    }
   ],
   "source": [
    "df_groups['publish']"
   ]
  },
  {
   "cell_type": "code",
   "execution_count": 23,
   "id": "bd885c95",
   "metadata": {
    "execution": {
     "iopub.execute_input": "2025-01-11T15:04:19.590033Z",
     "iopub.status.busy": "2025-01-11T15:04:19.589959Z",
     "iopub.status.idle": "2025-01-11T15:04:19.796228Z",
     "shell.execute_reply": "2025-01-11T15:04:19.795440Z"
    }
   },
   "outputs": [],
   "source": [
    "for each, df_group in df_groups.items():\n",
    "    out_base_filename = f\"{each}-{'_'.join(columns)}.csv\"\n",
    "    out_filename = os.sep.join([out_dir, out_base_filename])\n",
    "    df_group.to_csv(out_filename, index=False)"
   ]
  }
 ],
 "metadata": {
  "kernelspec": {
   "display_name": ".venv",
   "language": "python",
   "name": "python3"
  },
  "language_info": {
   "codemirror_mode": {
    "name": "ipython",
    "version": 3
   },
   "file_extension": ".py",
   "mimetype": "text/x-python",
   "name": "python",
   "nbconvert_exporter": "python",
   "pygments_lexer": "ipython3",
   "version": "3.13.0"
  }
 },
 "nbformat": 4,
 "nbformat_minor": 5
}
