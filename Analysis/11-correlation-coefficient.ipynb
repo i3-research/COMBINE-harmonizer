{
 "cells": [
  {
   "cell_type": "code",
   "execution_count": 1,
   "id": "99b890d0-fa09-4dad-becf-c467dcf49cbf",
   "metadata": {
    "execution": {
     "iopub.execute_input": "2025-05-10T00:16:43.287705Z",
     "iopub.status.busy": "2025-05-10T00:16:43.287427Z",
     "iopub.status.idle": "2025-05-10T00:16:44.657146Z",
     "shell.execute_reply": "2025-05-10T00:16:44.656771Z"
    },
    "tags": []
   },
   "outputs": [],
   "source": [
    "import pandas as pd\n",
    "import warnings\n",
    "warnings.simplefilter(action='ignore', category=pd.errors.PerformanceWarning)\n",
    "\n",
    "import numpy as np\n",
    "import re\n",
    "\n",
    "from tqdm import tqdm\n",
    "import os\n",
    "import matplotlib.pyplot as plt\n",
    "import scienceplots\n",
    "\n",
    "import COMBINE_harmonizer\n",
    "from COMBINE_harmonizer import cfg\n",
    "from COMBINE_harmonizer import utils_corr\n",
    "\n",
    "plt.style.use('nature')\n",
    "plt.rcParams['legend.frameon'] = False\n",
    "plt.rcParams['xtick.direction'] = 'in'\n",
    "plt.rcParams['ytick.direction'] = 'in'"
   ]
  },
  {
   "cell_type": "markdown",
   "id": "abe273f5",
   "metadata": {},
   "source": [
    "## 01. Init"
   ]
  },
  {
   "cell_type": "code",
   "execution_count": 2,
   "id": "cbd0a3d2-219f-4d37-9058-c4c669c2b09c",
   "metadata": {
    "execution": {
     "iopub.execute_input": "2025-05-10T00:16:44.658992Z",
     "iopub.status.busy": "2025-05-10T00:16:44.658764Z",
     "iopub.status.idle": "2025-05-10T00:16:44.660613Z",
     "shell.execute_reply": "2025-05-10T00:16:44.660389Z"
    },
    "tags": []
   },
   "outputs": [],
   "source": [
    "root_dir = '../'"
   ]
  },
  {
   "cell_type": "code",
   "execution_count": 3,
   "id": "140354eb-a369-4bba-9d75-0f8bc6c6b7c6",
   "metadata": {
    "execution": {
     "iopub.execute_input": "2025-05-10T00:16:44.661715Z",
     "iopub.status.busy": "2025-05-10T00:16:44.661644Z",
     "iopub.status.idle": "2025-05-10T00:16:44.669384Z",
     "shell.execute_reply": "2025-05-10T00:16:44.669131Z"
    },
    "tags": []
   },
   "outputs": [],
   "source": [
    "COMBINE_harmonizer.init(f'{root_dir}/config.yaml')"
   ]
  },
  {
   "cell_type": "code",
   "execution_count": 4,
   "id": "10f5d4d5-3279-4f15-a908-151b66b8f309",
   "metadata": {
    "execution": {
     "iopub.execute_input": "2025-05-10T00:16:44.670889Z",
     "iopub.status.busy": "2025-05-10T00:16:44.670807Z",
     "iopub.status.idle": "2025-05-10T00:16:44.682399Z",
     "shell.execute_reply": "2025-05-10T00:16:44.682163Z"
    },
    "tags": []
   },
   "outputs": [],
   "source": [
    "input_dir = f\"{cfg.config['out_dir']}/stats\"\n",
    "out_dir = f\"{cfg.config['out_dir']}/stats\"\n",
    "\n",
    "out_figure_dir = f\"{out_dir}/figure\"\n",
    "\n",
    "os.makedirs(out_figure_dir, exist_ok=True)\n",
    "\n",
    "data_dict_filename = f\"{root_dir}/{COMBINE_harmonizer.DATA_DICTIONARY_EXCEL}\""
   ]
  },
  {
   "cell_type": "code",
   "execution_count": 5,
   "id": "d2d4d6ad",
   "metadata": {
    "execution": {
     "iopub.execute_input": "2025-05-10T00:16:44.683718Z",
     "iopub.status.busy": "2025-05-10T00:16:44.683642Z",
     "iopub.status.idle": "2025-05-10T00:16:45.367903Z",
     "shell.execute_reply": "2025-05-10T00:16:45.367590Z"
    }
   },
   "outputs": [],
   "source": [
    "df_data_dict_main = COMBINE_harmonizer.load_data_dict(data_dict_filename, COMBINE_harmonizer.SHEET_MAIN)\n",
    "df_data_dict_followup = COMBINE_harmonizer.load_data_dict(data_dict_filename, COMBINE_harmonizer.SHEET_FOLLOW_UP)\n",
    "\n",
    "data_dict_main_map = {row[COMBINE_harmonizer.DATA_DICT_VAR_NAME]: row[COMBINE_harmonizer.DATA_DICT_VAR_TYPE] for idx, row in df_data_dict_main.iterrows()}\n",
    "data_dict_followup_map = {row[COMBINE_harmonizer.DATA_DICT_VAR_NAME]: row[COMBINE_harmonizer.DATA_DICT_VAR_TYPE] for idx, row in df_data_dict_followup.iterrows()}\n",
    "\n",
    "\n",
    "_DATA_DICT_MAP = {\n",
    "    COMBINE_harmonizer.SHEET_MAIN: data_dict_main_map,\n",
    "    COMBINE_harmonizer.SHEET_FOLLOW_UP: data_dict_followup_map,\n",
    "}"
   ]
  },
  {
   "cell_type": "code",
   "execution_count": 6,
   "id": "68c98ad8",
   "metadata": {
    "execution": {
     "iopub.execute_input": "2025-05-10T00:16:45.369437Z",
     "iopub.status.busy": "2025-05-10T00:16:45.369345Z",
     "iopub.status.idle": "2025-05-10T00:16:45.371457Z",
     "shell.execute_reply": "2025-05-10T00:16:45.371230Z"
    }
   },
   "outputs": [],
   "source": [
    "\n",
    "_FILENAME_INFO_DATA_DICT_MAP = {each['name']: _DATA_DICT_MAP[each['data_dict']] for each in COMBINE_harmonizer.FILENAME_INFOS}\n",
    "\n",
    "_PREFIX_DATA_DICT_MAP = {COMBINE_harmonizer.flatten_filename_prefix(filename): val for filename, val in _FILENAME_INFO_DATA_DICT_MAP.items()}"
   ]
  },
  {
   "cell_type": "markdown",
   "id": "8aad3e58-ed71-49c6-ad73-f4545da09933",
   "metadata": {},
   "source": [
    "## Load flatten"
   ]
  },
  {
   "cell_type": "code",
   "execution_count": 7,
   "id": "2010396f-71f3-4534-ba51-342a1b4779eb",
   "metadata": {
    "execution": {
     "iopub.execute_input": "2025-05-10T00:16:45.372731Z",
     "iopub.status.busy": "2025-05-10T00:16:45.372647Z",
     "iopub.status.idle": "2025-05-10T00:16:45.374307Z",
     "shell.execute_reply": "2025-05-10T00:16:45.374087Z"
    },
    "tags": []
   },
   "outputs": [],
   "source": [
    "filename = f'{input_dir}/zz-merged-flatten-numeric.csv'"
   ]
  },
  {
   "cell_type": "code",
   "execution_count": 8,
   "id": "2edb07d9-c881-4ba9-ad8b-c5c7d141e196",
   "metadata": {
    "execution": {
     "iopub.execute_input": "2025-05-10T00:16:45.375601Z",
     "iopub.status.busy": "2025-05-10T00:16:45.375522Z",
     "iopub.status.idle": "2025-05-10T00:16:45.646706Z",
     "shell.execute_reply": "2025-05-10T00:16:45.646317Z"
    },
    "tags": []
   },
   "outputs": [
    {
     "name": "stderr",
     "output_type": "stream",
     "text": [
      "/var/folders/84/vxdpc5mx2cqdr6zvp8p_tygc0000gn/T/ipykernel_79367/2373133381.py:1: DtypeWarning: Columns (6,40,44,45,161,163,166,198,201,207,210,212,216,217,220,228,229,230,231,236,240,241,242,243,248,252,253,254,255,256,260,262,2041,2042,2043,2044,2045,2869,2870,2871,2872,2873,2874,2875,2876,2877,2878,2879,2880,2881,2882,2883,2884,2885,2886,2887,2888,2889,2890,2891,2892,2893,2894,2895,2896,2897,2898,2899,2900,2901,2902,2903,2904,2905,2906,2907,2908,2909,2910,3273,3277,3280,3283,3284,3286,3287,3288,3290,3301,3302,3303,3311,3312,3316,3317,3318,3319,3321,3326,3327,3328,3330,3341,3342,3343,3346,3348,3349,3350,3351,3352,3353,3356,3357,3358,3359,3360,3376,3377,3378,3379,3466,3470,3471,3472,3478,3498,3499,3500,3501,3502,3503,3504,3505,3506,3510,3511,3512,3518,3524,3525,3758,3759,3760,3761,3762,3763,3764,3765,3766,3767,3768,3769,3770,3771,3772,3773,3774,3775,3776,3777,3778,3779,3780,3781,3782,3783,3784,3785,3786,3787,3788,3789,3793,3794,3795,3796,3797,3799,3801,3802,3803,3804,3805,3806,3807,3808,3809,3810,3811,3812,3813,3814,3815,3816,3817,3818,3819,3820,3821,3822,3823,3824,3825,3826,3827,3828,3829,3830,3831,3832,3833,3834,3838,3839,3840,3841,3842,3844,3846,3847,3938,3939,3940,3941,3942,3943,3944,3945,3946,3947,3948,3949,3950,3951,3952,3953,3954,3955,3956,3957,3958,3959,3960,3961,3962,3963,3964,3965,3966,3967,3968,3969,3973,3974,3975,3976,3977,3979,3981,3982,4527,4537,4597,4598,4612,4613,4627,4628,4647,4648,4667,4668,4687,4688,4707,4708,4709,4722,4723,4724,4737,4741,4757,4761,4773,4774,4775,4783,4784,4785,4803,4804,4805,4822,4842,4863,4864,4865,4867,4868,4869,4875,4876,4877,4883,4884,4885,4887,4888,4889,4904,4905,4906,4907,4981,4982,4983,4996,5001,5005,5006,5007,5013,5021,5022,5023,5024,5090,5091,5092,5093,5094,5095,5114,5115,5116,5122,5159,5160,5216,5217,5218,5219,5220,5221,5237,5238,5359,5360,5361,5362,5366,5367,5371,5372,5373,5397,5401,5425,5438,5457,5463,5524,5525,5526,5528,5529,5530,5532,5535,5584,5594,5607,5651,5714,5858,5864,5866,5867,5874,5877,5880,5883,5886,5926,5989,5990,5991,5992,5993,5994,5995,5996,5997,5998,5999,6000,6001,6002,6003,6007,6067,6069,6071,6084,6086,6088) have mixed types. Specify dtype option on import or set low_memory=False.\n",
      "  df_numeric = pd.read_csv(filename)\n"
     ]
    }
   ],
   "source": [
    "df_numeric = pd.read_csv(filename)"
   ]
  },
  {
   "cell_type": "code",
   "execution_count": 9,
   "id": "57e2d758-fbfa-468b-80f9-6cf87b9e4e14",
   "metadata": {
    "execution": {
     "iopub.execute_input": "2025-05-10T00:16:45.648351Z",
     "iopub.status.busy": "2025-05-10T00:16:45.648252Z",
     "iopub.status.idle": "2025-05-10T00:16:45.650438Z",
     "shell.execute_reply": "2025-05-10T00:16:45.650197Z"
    },
    "tags": []
   },
   "outputs": [],
   "source": [
    "columns = list(df_numeric.columns)"
   ]
  },
  {
   "cell_type": "code",
   "execution_count": 10,
   "id": "90ae9184-2bd2-4b94-ad37-ac6e6c3c490a",
   "metadata": {
    "execution": {
     "iopub.execute_input": "2025-05-10T00:16:45.651659Z",
     "iopub.status.busy": "2025-05-10T00:16:45.651557Z",
     "iopub.status.idle": "2025-05-10T00:16:45.653423Z",
     "shell.execute_reply": "2025-05-10T00:16:45.653199Z"
    },
    "tags": []
   },
   "outputs": [],
   "source": [
    "df_columns = pd.DataFrame({'columns': columns})"
   ]
  },
  {
   "cell_type": "code",
   "execution_count": 11,
   "id": "06fad630-224b-4579-a281-da70b8ead608",
   "metadata": {
    "execution": {
     "iopub.execute_input": "2025-05-10T00:16:45.654603Z",
     "iopub.status.busy": "2025-05-10T00:16:45.654513Z",
     "iopub.status.idle": "2025-05-10T00:16:45.660959Z",
     "shell.execute_reply": "2025-05-10T00:16:45.660729Z"
    },
    "tags": []
   },
   "outputs": [],
   "source": [
    "df_columns['column_tuple'] = df_columns['columns'].apply(COMBINE_harmonizer.flatten_column_tuple)\n",
    "df_columns['column_name'] = df_columns['column_tuple'].apply(lambda x: x[1])\n",
    "df_columns['column_prefix'] = df_columns['column_tuple'].apply(lambda x: x[0])"
   ]
  },
  {
   "cell_type": "code",
   "execution_count": 12,
   "id": "873cb3fd-2ba6-470e-8678-c0f1ff0a19a2",
   "metadata": {
    "execution": {
     "iopub.execute_input": "2025-05-10T00:16:45.662210Z",
     "iopub.status.busy": "2025-05-10T00:16:45.662125Z",
     "iopub.status.idle": "2025-05-10T00:16:45.665581Z",
     "shell.execute_reply": "2025-05-10T00:16:45.665246Z"
    },
    "tags": []
   },
   "outputs": [
    {
     "data": {
      "text/plain": [
       "array(['', '01-02', '01-03', '01-04', '01-05', '01-05_1', '01-05_2',\n",
       "       '01-06', '01-07', '01-08', '01-09', '01-10', '01-11', '01-12',\n",
       "       '01-12_1', '02-01', '02-02', '02-03', '02-04', '02-05', '02-05_s',\n",
       "       '02-06_s', '02-07', '02-08', '02-09', '02-11', '02-12', '02-13',\n",
       "       '02-14', '02-15', '02-16', '02-17', '03-01', '03-01_s', '03-02',\n",
       "       '03-03', '03-04', '03-04_1', '03-05', '03-05_s', '03-05_s1',\n",
       "       '04-01', '04-01_1', '04-02', '04-03', '04-04', '04-05', '04-06',\n",
       "       '04-07', '04-08', '04-09', '04-10', '04-11', '04-12', '04-12_1',\n",
       "       '04-13', '04-14', '04-15', '04-16', '04-17', '20-00', '20-01',\n",
       "       '20-02', '20-03', '20-04', '20-05', '20-06', '20-07', '20-08',\n",
       "       '20-09', '20-10', '20-10_1'], dtype=object)"
      ]
     },
     "execution_count": 12,
     "metadata": {},
     "output_type": "execute_result"
    }
   ],
   "source": [
    "df_columns['column_prefix'].unique()"
   ]
  },
  {
   "cell_type": "code",
   "execution_count": 13,
   "id": "cef05a20-aace-4af3-a08a-462fcedc51ad",
   "metadata": {
    "execution": {
     "iopub.execute_input": "2025-05-10T00:16:45.666838Z",
     "iopub.status.busy": "2025-05-10T00:16:45.666758Z",
     "iopub.status.idle": "2025-05-10T00:16:45.774415Z",
     "shell.execute_reply": "2025-05-10T00:16:45.774097Z"
    },
    "tags": []
   },
   "outputs": [
    {
     "name": "stderr",
     "output_type": "stream",
     "text": [
      "\r",
      "0it [00:00, ?it/s]"
     ]
    },
    {
     "name": "stderr",
     "output_type": "stream",
     "text": [
      "\r",
      "6119it [00:00, 1276354.99it/s]"
     ]
    },
    {
     "name": "stdout",
     "output_type": "stream",
     "text": [
      "[WARN] (0/6119) not in _PREFIX_DATA_DICT_MAP: column: _study prefix: \n",
      "[WARN] (1/6119) not in _PREFIX_DATA_DICT_MAP: column: center prefix: \n",
      "[WARN] (2/6119) not in _PREFIX_DATA_DICT_MAP: column: subjectID prefix: \n",
      "[WARN] (3/6119) not in _PREFIX_DATA_DICT_MAP: column: uniqueID prefix: \n",
      "[WARN] (5357/6119) not in DATA_DICT_MAP: MRI_ID\n",
      "[WARN] (5358/6119) not in DATA_DICT_MAP: MRI_ID\n",
      "[WARN] (5359/6119) not in DATA_DICT_MAP: MRI_ID\n",
      "[WARN] (5621/6119) not in DATA_DICT_MAP: uniqueFollowupID\n",
      "[WARN] (5629/6119) not in DATA_DICT_MAP: uniqueFollowupID\n",
      "[WARN] (5706/6119) not in DATA_DICT_MAP: uniqueFollowupID\n",
      "[WARN] (5773/6119) not in DATA_DICT_MAP: uniqueFollowupID\n",
      "[WARN] (5871/6119) not in DATA_DICT_MAP: uniqueFollowupID\n",
      "[WARN] (5915/6119) not in DATA_DICT_MAP: uniqueFollowupID\n",
      "[WARN] (5920/6119) not in DATA_DICT_MAP: uniqueFollowupID\n",
      "[WARN] (6031/6119) not in DATA_DICT_MAP: uniqueFollowupID\n",
      "[WARN] (6092/6119) not in DATA_DICT_MAP: uniqueFollowupID\n",
      "[WARN] (6104/6119) not in DATA_DICT_MAP: uniqueFollowupID\n"
     ]
    },
    {
     "name": "stderr",
     "output_type": "stream",
     "text": [
      "\n"
     ]
    }
   ],
   "source": [
    "columns = list(df_numeric.columns)\n",
    "valid_columns = []\n",
    "for idx, column in tqdm(enumerate(columns)):\n",
    "    prefix, var_name, postfix = COMBINE_harmonizer.flatten_column_tuple(column)\n",
    "    if prefix not in _PREFIX_DATA_DICT_MAP:\n",
    "        print(f'[WARN] ({idx}/{len(columns)}) not in _PREFIX_DATA_DICT_MAP: column: {column} prefix: {prefix}')\n",
    "        continue\n",
    "\n",
    "    data_dict_map = _PREFIX_DATA_DICT_MAP[prefix]\n",
    "    if var_name not in data_dict_map:\n",
    "        print(f'[WARN] ({idx}/{len(columns)}) not in DATA_DICT_MAP: {var_name}')\n",
    "        continue\n",
    "    valid_columns.append(column)\n",
    "\n",
    "df_numeric_valid = df_numeric[valid_columns]"
   ]
  },
  {
   "cell_type": "code",
   "execution_count": 14,
   "id": "f0f8bef5-18dc-4dec-9217-c0b484c685b8",
   "metadata": {
    "collapsed": true,
    "execution": {
     "iopub.execute_input": "2025-05-10T00:16:45.775772Z",
     "iopub.status.busy": "2025-05-10T00:16:45.775683Z",
     "iopub.status.idle": "2025-05-10T00:16:45.781486Z",
     "shell.execute_reply": "2025-05-10T00:16:45.781242Z"
    }
   },
   "outputs": [
    {
     "data": {
      "text/plain": [
       "(6102,\n",
       " ['01-02:siteID',\n",
       "  '01-02:birthNumber',\n",
       "  '01-02:screenComment',\n",
       "  '01-02:coreTempLess32p5CGreaterEq2Hr_e',\n",
       "  '01-02:coreTempLess33p5CGreater1Hr_e',\n",
       "  '01-02:coreTempLess34CGreater1Hr_e',\n",
       "  '01-02:first6HrCoolByClinicalProtocol_e',\n",
       "  '01-02:chromosomalAbnormality_e',\n",
       "  '01-02:majorCongenitalAnomaly_e',\n",
       "  '01-02:birthWeightLessEq1800g_e',\n",
       "  '01-02:infantUnlikelySurvive_e',\n",
       "  '01-02:first60MinAllBloodGasPHGreater7p15BaseDeficitLess10mEqPerL_e',\n",
       "  '01-02:postnatalAgeLess6HrOrGreater24Hr_e',\n",
       "  '01-02:enrolledConflictingTrial_e',\n",
       "  '01-02:first60MinAnyBloodGasPHLessEq7_i',\n",
       "  '01-02:first60MinAnyBloodGasBaseDeficitGreaterEq16mEqPerL_i',\n",
       "  '01-02:historyPerinatalEvent_i',\n",
       "  '01-02:at10MinApgarLessEq5OrVent_i',\n",
       "  '01-02:randomEligible',\n",
       "  '01-02:consentStatus',\n",
       "  '01-02:noConsentReason',\n",
       "  '01-02:noInStudyReason',\n",
       "  '01-02:random',\n",
       "  '01-02:noRandomReason',\n",
       "  '01-02:noRandomReasonText',\n",
       "  '01-02:randomDate',\n",
       "  '01-02:randomTime',\n",
       "  '01-02:ageRand_hr',\n",
       "  '01-02:randomNumber',\n",
       "  '01-02:randomTreatmentAssign',\n",
       "  '01-02:randomTreatmentReceive',\n",
       "  '01-02:treatmentBlanketType',\n",
       "  '01-02:treatmentAssignmentDuration_hr',\n",
       "  '01-02:treatmentAssignmentTemperature',\n",
       "  '01-02:usualCoolingTreatmentGroup',\n",
       "  '01-02:inOtherTrial',\n",
       "  '01-02:inOtherTrialText',\n",
       "  '01-02:birthDate',\n",
       "  '01-03:motherAge_year',\n",
       "  '01-03:motherRace',\n",
       "  '01-03:motherRaceOther1',\n",
       "  '01-03:motherRaceOther2',\n",
       "  '01-03:motherRaceOther3',\n",
       "  '01-03:motherRaceOther4',\n",
       "  '01-03:motherRaceOther5',\n",
       "  '01-03:motherRaceOther6',\n",
       "  '01-03:motherRace2',\n",
       "  '01-03:motherEthnicity',\n",
       "  '01-03:motherMaritalStatus',\n",
       "  '01-03:motherEducation',\n",
       "  '01-03:motherEducation2',\n",
       "  '01-03:motherInsurance',\n",
       "  '01-03:motherInsurancePublic',\n",
       "  '01-04:gravida',\n",
       "  '01-04:parity',\n",
       "  '01-04:multipleBirth',\n",
       "  '01-04:numFetus',\n",
       "  '01-04:prenatalCare',\n",
       "  '01-04:hypertensionEclampsia',\n",
       "  '01-04:antepartumHemorrhage',\n",
       "  '01-04:thyroidMalfunction',\n",
       "  '01-04:diabetes',\n",
       "  '01-05:maternalAdmissionDate',\n",
       "  '01-05:maternalAdmissionTime',\n",
       "  '01-05:ruptureDate',\n",
       "  '01-05:ruptureTime',\n",
       "  '01-05:ruptureGreater18Hr',\n",
       "  '01-05:ruptureBeforeDelivery',\n",
       "  '01-05:labor',\n",
       "  '01-05:laborOnsetDate',\n",
       "  '01-05:laborOnsetTime',\n",
       "  '01-05:deliveryMode',\n",
       "  '01-05:fetalDecelerate',\n",
       "  '01-05:cordMishap',\n",
       "  '01-05:uterineRupture',\n",
       "  '01-05:shoulderDystocia',\n",
       "  '01-05:placentalProblem',\n",
       "  '01-05:maternalHemorrhage',\n",
       "  '01-05:maternalTrauma',\n",
       "  '01-05:maternalCardioRespiratoryArrest',\n",
       "  '01-05:maternalSeizure',\n",
       "  '01-05:perinatalSentinelEvent',\n",
       "  '01-05:pyrexiaGreater37p6C',\n",
       "  '01-05:chorioamnionitis',\n",
       "  '01-05:placentalPathologyPerformed',\n",
       "  '01-05:histologicChorioamionitis',\n",
       "  '01-05:laborAntibiotics',\n",
       "  '01-05:laborAntibioticsCode1',\n",
       "  '01-05:laborAntibioticsCode2',\n",
       "  '01-05:laborAntibioticsCode3',\n",
       "  '01-05:laborAntibioticsCode4',\n",
       "  '01-05:laborAntibioticsCode5',\n",
       "  '01-05:laborAntibioticsCode6',\n",
       "  '01-05:emergencyCSection',\n",
       "  '01-05_1:cordMishap',\n",
       "  '01-05_1:uterineRupture',\n",
       "  '01-05_1:placentalProblem',\n",
       "  '01-05_1:shoulderDystocia',\n",
       "  '01-05_1:maternalHemorrhage',\n",
       "  '01-05_1:maternalTrauma',\n",
       "  '01-05_1:maternalCardioRespiratoryArrest',\n",
       "  '01-05_1:maternalSeizure',\n",
       "  '01-05_1:perinatalSentinelEvent',\n",
       "  '01-05_2:deliveryMode',\n",
       "  '01-05_2:emergencyCSection',\n",
       "  '01-06:encephalopathyLevel',\n",
       "  '01-06:randomInfantAge',\n",
       "  '01-06:birthWeight_g',\n",
       "  '01-06:birthLength_cm',\n",
       "  '01-06:birthHeadCircumference_cm',\n",
       "  '01-06:birthGestationalAge_week',\n",
       "  '01-06:infantSex',\n",
       "  '01-06:maleSex',\n",
       "  '01-06:infantOutborn',\n",
       "  '01-06:outbornInHospital',\n",
       "  '01-06:outbornOutHospital',\n",
       "  '01-06:neonateAdmissionDate',\n",
       "  '01-06:neonateAdmissionTime',\n",
       "  '01-06:Apgar1min',\n",
       "  '01-06:Apgar5min',\n",
       "  '01-06:Apgar10min',\n",
       "  '01-06:Apgar15min',\n",
       "  '01-06:Apgar20min',\n",
       "  '01-06:deliveryResuscitation',\n",
       "  '01-06:deliveryOxygen',\n",
       "  '01-06:deliveryBaggingAndMask',\n",
       "  '01-06:deliveryChestCompression',\n",
       "  '01-06:deliveryIntubation',\n",
       "  '01-06:deliveryDrug',\n",
       "  '01-06:at10MinContinueResuscitation',\n",
       "  '01-06:at10MinOxygen',\n",
       "  '01-06:at10MinBaggingAndMask',\n",
       "  '01-06:at10MinChestCompression',\n",
       "  '01-06:at10MinIntubation',\n",
       "  '01-06:at10MinDrug',\n",
       "  '01-06:spontaneousRespirationTime',\n",
       "  '01-06:cordBloodGas',\n",
       "  '01-06:cordBloodGasSrc',\n",
       "  '01-06:cordBloodGasPH',\n",
       "  '01-06:cordBloodGasPCO2_mmHg',\n",
       "  '01-06:cordBloodGasPO2_mmHg',\n",
       "  '01-06:cordBloodGasHCO3_mEqPerL',\n",
       "  '01-06:cordBloodGasBaseDeficit_mEqPerL',\n",
       "  '01-06:firstPostnatalBloodGas',\n",
       "  '01-06:firstPostnatalBloodGasSrc',\n",
       "  '01-06:firstPostnatalBloodGasDate',\n",
       "  '01-06:firstPostnatalBloodGasTime',\n",
       "  '01-06:firstPostnatalBloodGasPH',\n",
       "  '01-06:firstPostnatalBloodGasPCO2_mmHg',\n",
       "  '01-06:firstPostnatalBloodGasPO2_mmHg',\n",
       "  '01-06:firstPostnatalBloodGasHCO3_mEqPerL',\n",
       "  '01-06:firstPostnatalBloodGasBaseDeficit_mEqPerL',\n",
       "  '01-06:acidosis',\n",
       "  '01-06:Apgar10minLess5',\n",
       "  '01-06:Apgar10minLessEq5',\n",
       "  '01-06:Apgar5minLessEq5',\n",
       "  '01-06:initBloodGasBaseDeficit_mEqPerL',\n",
       "  '01-06:initBloodGasBaseDeficit_mEqPerLSrc',\n",
       "  '01-06:initBloodGasPH',\n",
       "  '01-06:initBloodGasPHSrc',\n",
       "  '01-06:birthDate',\n",
       "  '01-06:birthTime',\n",
       "  '01-07:targetTreatmentTemperature_C',\n",
       "  '01-07:pre_CoolInitiate',\n",
       "  '01-07:pre_CoolbyIceGelPack',\n",
       "  '01-07:pre_CoolPassively',\n",
       "  '01-07:pre_CoolClinically',\n",
       "  '01-07:pre_CoolInitiateDate',\n",
       "  '01-07:pre_CoolInitiateTime',\n",
       "  '01-07:pre_AfterOvershootReach33p5C',\n",
       "  '01-07:pre_AfterOvershootReach33p5CDate',\n",
       "  '01-07:pre_AfterOvershootReach33p5CTime',\n",
       "  '01-07:pre_TemperatureMinDate',\n",
       "  '01-07:pre_TemperatureMinTime',\n",
       "  '01-07:pre_SkinTemperatureMin_C',\n",
       "  '01-07:pre_AxillaryTemperatureMin_C',\n",
       "  '01-07:pre_EsophagealTemperatureMin_C',\n",
       "  '01-07:pre_ServoSetMin_C',\n",
       "  '01-07:pre_TemperatureMaxDate',\n",
       "  '01-07:pre_TemperatureMaxTime',\n",
       "  '01-07:pre_SkinTemperatureMax_C',\n",
       "  '01-07:pre_AxillaryTemperatureMax_C',\n",
       "  '01-07:pre_EsophagealTemperatureMax_C',\n",
       "  '01-07:pre_ServoSetMax_C',\n",
       "  '01-08:pre_CardioDate',\n",
       "  '01-08:pre_CardioTime',\n",
       "  '01-08:pre_CardioSystolicBloodPressure_mmHg',\n",
       "  '01-08:pre_CardioDiastolicBloodPressure_mmHg',\n",
       "  '01-08:pre_CardioHeartRate_BPM',\n",
       "  '01-08:pre_CardioVolumeExpand',\n",
       "  '01-08:pre_CardioInotropicAgent',\n",
       "  '01-08:pre_CardioBloodTransfusion',\n",
       "  '01-08:pre_CardioPlatelets',\n",
       "  '01-09:pre_PositiveCulture',\n",
       "  '01-09:pre_PositiveCultureSrc',\n",
       "  '01-09:pre_PositiveCultureDate',\n",
       "  '01-09:pre_PositiveCultureTime',\n",
       "  '01-09:pre_PositiveCultureOrganismCode1',\n",
       "  '01-09:pre_PositiveCultureOrganismCode2',\n",
       "  '01-09:pre_PositiveCultureOrganismCode3',\n",
       "  '01-09:pre_Antibiotics',\n",
       "  '01-09:pre_AntibioticsCode1',\n",
       "  '01-09:pre_AntibioticsCode2',\n",
       "  '01-09:pre_AntibioticsCode3',\n",
       "  '01-10:pre_OtherMedTargetDate',\n",
       "  '01-10:pre_OtherMedTargetTime',\n",
       "  '01-10:pre_Anticonvulsants',\n",
       "  '01-10:pre_Anticonvulsants1',\n",
       "  '01-10:pre_Anticonvulsants2',\n",
       "  '01-10:pre_Anticonvulsants3',\n",
       "  '01-10:pre_AnalgesicsSedatives1',\n",
       "  '01-10:pre_AnalgesicsSedatives2',\n",
       "  '01-10:pre_AnalgesicsSedatives3',\n",
       "  '01-10:pre_Antipyretics1',\n",
       "  '01-10:pre_Antipyretics2',\n",
       "  '01-10:pre_Antipyretics3',\n",
       "  '01-10:pre_Paralytics1',\n",
       "  '01-10:pre_Paralytics2',\n",
       "  '01-10:pre_Paralytics3',\n",
       "  '01-10:pre_OtherMedFluidIntake_ccPerKg',\n",
       "  '01-10:pre_OtherMedUrineOutput_ccPerKg',\n",
       "  '01-11:pre_HeadSonogram',\n",
       "  '01-11:pre_HeadSonogramDate',\n",
       "  '01-11:pre_HeadSonogramTime',\n",
       "  '01-11:pre_HeadSonogramResult1',\n",
       "  '01-11:pre_HeadSonogramResult2',\n",
       "  '01-11:pre_HeadSonogramResult3',\n",
       "  '01-11:pre_HeadSonogramResult4',\n",
       "  '01-11:pre_HeadSonogramResult5',\n",
       "  '01-11:pre_HeadSonogramResult6',\n",
       "  '01-11:pre_HeadSonogramResult7',\n",
       "  '01-11:pre_HeadSonogramResult8',\n",
       "  '01-11:pre_HeadSonogramResultText',\n",
       "  '01-11:pre_HeadCT',\n",
       "  '01-11:pre_HeadCTDate',\n",
       "  '01-11:pre_HeadCTTime',\n",
       "  '01-11:pre_HeadCTResult1',\n",
       "  '01-11:pre_HeadCTResult2',\n",
       "  '01-11:pre_HeadCTResult3',\n",
       "  '01-11:pre_HeadCTResult4',\n",
       "  '01-11:pre_HeadCTResult5',\n",
       "  '01-11:pre_HeadCTResult6',\n",
       "  '01-11:pre_HeadCTResult7',\n",
       "  '01-11:pre_HeadCTResult8',\n",
       "  '01-11:pre_HeadCTResultText',\n",
       "  '01-11:pre_BrainMRI',\n",
       "  '01-11:pre_BrainMRIDate',\n",
       "  '01-11:pre_BrainMRITime',\n",
       "  '01-11:pre_BrainMRIResult1',\n",
       "  '01-11:pre_BrainMRIResult2',\n",
       "  '01-11:pre_BrainMRIResult3',\n",
       "  '01-11:pre_BrainMRIResult4',\n",
       "  '01-11:pre_BrainMRIResult5',\n",
       "  '01-11:pre_BrainMRIResult6',\n",
       "  '01-11:pre_BrainMRIResult7',\n",
       "  '01-11:pre_BrainMRIResult8',\n",
       "  '01-11:pre_BrainMRIResultText',\n",
       "  '01-12:pre_NeuroExam',\n",
       "  '01-12:pre_NoNeuroExamReason',\n",
       "  '01-12:pre_NeuroExamSignModerateSevereHIE3Category',\n",
       "  '01-12:pre_NeuroExamLevelConsciousness',\n",
       "  '01-12:pre_NeuroExamSpontaneousActivity',\n",
       "  '01-12:pre_NeuroExamPosture',\n",
       "  '01-12:pre_NeuroExamTone',\n",
       "  '01-12:pre_NeuroExamSuck',\n",
       "  '01-12:pre_NeuroExamMoro',\n",
       "  '01-12:pre_NeuroExamPupils',\n",
       "  '01-12:pre_NeuroExamHeartRate',\n",
       "  '01-12:pre_NeuroExamRespiration',\n",
       "  '01-12:pre_NeuroExamDate',\n",
       "  '01-12:pre_NeuroExamTime',\n",
       "  '01-12:pre_NeuroExamSedate',\n",
       "  '01-12:pre_NeuroExamSeizure',\n",
       "  '01-12_1:pre_NeuroExamLevelConsciousnessScore',\n",
       "  '01-12_1:pre_NeuroExamSpontaneousActivityScore',\n",
       "  '01-12_1:pre_NeuroExamPostureScore',\n",
       "  '01-12_1:pre_NeuroExamToneScore',\n",
       "  '01-12_1:pre_NeuroExamSuckScore',\n",
       "  '01-12_1:pre_NeuroExamMoroScore',\n",
       "  '01-12_1:pre_NeuroExamPupilsScore',\n",
       "  '01-12_1:pre_NeuroExamHeartRateScore',\n",
       "  '01-12_1:pre_NeuroExamRespirationScore',\n",
       "  '01-12_1:pre_NeuroExamReflexScore',\n",
       "  '01-12_1:pre_NeuroExamANSScore',\n",
       "  '01-12_1:pre_TotalModifiedSarnatScore',\n",
       "  '02-01:alterationSkinIntegrity:0',\n",
       "  '02-01:alterationSkinIntegrity:15',\n",
       "  '02-01:alterationSkinIntegrity:30',\n",
       "  '02-01:alterationSkinIntegrity:45',\n",
       "  '02-01:alterationSkinIntegrity:60',\n",
       "  '02-01:alterationSkinIntegrity:75',\n",
       "  '02-01:alterationSkinIntegrity:90',\n",
       "  '02-01:alterationSkinIntegrity:105',\n",
       "  '02-01:alterationSkinIntegrity:120',\n",
       "  '02-01:alterationSkinIntegrity:135',\n",
       "  '02-01:alterationSkinIntegrity:150',\n",
       "  '02-01:alterationSkinIntegrity:165',\n",
       "  '02-01:alterationSkinIntegrity:180',\n",
       "  '02-01:alterationSkinIntegrity:195',\n",
       "  '02-01:alterationSkinIntegrity:210',\n",
       "  '02-01:alterationSkinIntegrity:225',\n",
       "  '02-01:alterationSkinIntegrity:240',\n",
       "  '02-01:alterationSkinIntegrity:300',\n",
       "  '02-01:alterationSkinIntegrity:360',\n",
       "  '02-01:alterationSkinIntegrity:420',\n",
       "  '02-01:alterationSkinIntegrity:480',\n",
       "  '02-01:alterationSkinIntegrity:540',\n",
       "  '02-01:alterationSkinIntegrity:600',\n",
       "  '02-01:alterationSkinIntegrity:660',\n",
       "  '02-01:alterationSkinIntegrity:720',\n",
       "  '02-01:alterationSkinIntegrity:960',\n",
       "  '02-01:alterationSkinIntegrity:1200',\n",
       "  '02-01:alterationSkinIntegrity:1440',\n",
       "  '02-01:alterationSkinIntegrity:1680',\n",
       "  '02-01:alterationSkinIntegrity:1920',\n",
       "  '02-01:alterationSkinIntegrity:2160',\n",
       "  '02-01:alterationSkinIntegrity:2400',\n",
       "  '02-01:alterationSkinIntegrity:2640',\n",
       "  '02-01:alterationSkinIntegrity:2880',\n",
       "  '02-01:alterationSkinIntegrity:3120',\n",
       "  '02-01:alterationSkinIntegrity:3360',\n",
       "  '02-01:alterationSkinIntegrity:3600',\n",
       "  '02-01:alterationSkinIntegrity:3840',\n",
       "  '02-01:alterationSkinIntegrity:4080',\n",
       "  '02-01:alterationSkinIntegrity:4320',\n",
       "  '02-01:alterationSkinIntegrity:4440',\n",
       "  '02-01:alterationSkinIntegrity:4560',\n",
       "  '02-01:alterationSkinIntegrity:4680',\n",
       "  '02-01:alterationSkinIntegrity:4800',\n",
       "  '02-01:alterationSkinIntegrity:4920',\n",
       "  '02-01:alterationSkinIntegrity:5040',\n",
       "  '02-01:alterationSkinIntegrity:5160',\n",
       "  '02-01:alterationSkinIntegrity:5280',\n",
       "  '02-01:alterationSkinIntegrity:5400',\n",
       "  '02-01:alterationSkinIntegrity:5520',\n",
       "  '02-01:alterationSkinIntegrity:5640',\n",
       "  '02-01:alterationSkinIntegrity:5760',\n",
       "  '02-01:alterationSkinIntegrity:5880',\n",
       "  '02-01:alterationSkinIntegrity:6000',\n",
       "  '02-01:alterationSkinIntegrity:6120',\n",
       "  '02-01:alterationSkinIntegrity:6240',\n",
       "  '02-01:alterationSkinIntegrity:6360',\n",
       "  '02-01:alterationSkinIntegrity:6480',\n",
       "  '02-01:alterationSkinIntegrity:6600',\n",
       "  '02-01:alterationSkinIntegrity:6720',\n",
       "  '02-01:alterationSkinIntegrity:6840',\n",
       "  '02-01:alterationSkinIntegrity:6960',\n",
       "  '02-01:alterationSkinIntegrity:7080',\n",
       "  '02-01:alterationSkinIntegrity:7200',\n",
       "  '02-01:alterationSkinIntegrity:7320',\n",
       "  '02-01:alterationSkinIntegrity:7440',\n",
       "  '02-01:alterationSkinIntegrity:7560',\n",
       "  '02-01:alterationSkinIntegrity:7680',\n",
       "  '02-01:alterationSkinIntegrity:7800',\n",
       "  '02-01:alterationSkinIntegrity:7920',\n",
       "  '02-01:alterationSkinIntegrity:8040',\n",
       "  '02-01:alterationSkinIntegrity:8160',\n",
       "  '02-01:alterationSkinIntegrity:8280',\n",
       "  '02-01:alterationSkinIntegrity:8400',\n",
       "  '02-01:alterationSkinIntegrity:8520',\n",
       "  '02-01:alterationSkinIntegrity:8640',\n",
       "  '02-01:alterationSkinIntegrity:8760',\n",
       "  '02-01:alterationSkinIntegrity:8880',\n",
       "  '02-01:alterationSkinIntegrity:9000',\n",
       "  '02-01:alterationSkinIntegrity:9120',\n",
       "  '02-01:alterationSkinIntegrity:9240',\n",
       "  '02-01:alterationSkinIntegrity:9360',\n",
       "  '02-01:alterationSkinIntegrity:9480',\n",
       "  '02-01:alterationSkinIntegrity:9600',\n",
       "  '02-01:alterationSkinIntegrity:9720',\n",
       "  '02-01:alterationSkinIntegrity:9840',\n",
       "  '02-01:alterationSkinIntegrity:9960',\n",
       "  '02-01:axillaryTemperature_C:0',\n",
       "  '02-01:axillaryTemperature_C:15',\n",
       "  '02-01:axillaryTemperature_C:30',\n",
       "  '02-01:axillaryTemperature_C:45',\n",
       "  '02-01:axillaryTemperature_C:60',\n",
       "  '02-01:axillaryTemperature_C:75',\n",
       "  '02-01:axillaryTemperature_C:90',\n",
       "  '02-01:axillaryTemperature_C:105',\n",
       "  '02-01:axillaryTemperature_C:120',\n",
       "  '02-01:axillaryTemperature_C:135',\n",
       "  '02-01:axillaryTemperature_C:150',\n",
       "  '02-01:axillaryTemperature_C:165',\n",
       "  '02-01:axillaryTemperature_C:180',\n",
       "  '02-01:axillaryTemperature_C:195',\n",
       "  '02-01:axillaryTemperature_C:210',\n",
       "  '02-01:axillaryTemperature_C:225',\n",
       "  '02-01:axillaryTemperature_C:240',\n",
       "  '02-01:axillaryTemperature_C:300',\n",
       "  '02-01:axillaryTemperature_C:360',\n",
       "  '02-01:axillaryTemperature_C:420',\n",
       "  '02-01:axillaryTemperature_C:480',\n",
       "  '02-01:axillaryTemperature_C:540',\n",
       "  '02-01:axillaryTemperature_C:600',\n",
       "  '02-01:axillaryTemperature_C:660',\n",
       "  '02-01:axillaryTemperature_C:720',\n",
       "  '02-01:axillaryTemperature_C:960',\n",
       "  '02-01:axillaryTemperature_C:1200',\n",
       "  '02-01:axillaryTemperature_C:1440',\n",
       "  '02-01:axillaryTemperature_C:1680',\n",
       "  '02-01:axillaryTemperature_C:1920',\n",
       "  '02-01:axillaryTemperature_C:2160',\n",
       "  '02-01:axillaryTemperature_C:2400',\n",
       "  '02-01:axillaryTemperature_C:2640',\n",
       "  '02-01:axillaryTemperature_C:2880',\n",
       "  '02-01:axillaryTemperature_C:3120',\n",
       "  '02-01:axillaryTemperature_C:3360',\n",
       "  '02-01:axillaryTemperature_C:3600',\n",
       "  '02-01:axillaryTemperature_C:3840',\n",
       "  '02-01:axillaryTemperature_C:4080',\n",
       "  '02-01:axillaryTemperature_C:4320',\n",
       "  '02-01:axillaryTemperature_C:4440',\n",
       "  '02-01:axillaryTemperature_C:4560',\n",
       "  '02-01:axillaryTemperature_C:4680',\n",
       "  '02-01:axillaryTemperature_C:4800',\n",
       "  '02-01:axillaryTemperature_C:4920',\n",
       "  '02-01:axillaryTemperature_C:5040',\n",
       "  '02-01:axillaryTemperature_C:5160',\n",
       "  '02-01:axillaryTemperature_C:5280',\n",
       "  '02-01:axillaryTemperature_C:5400',\n",
       "  '02-01:axillaryTemperature_C:5520',\n",
       "  '02-01:axillaryTemperature_C:5640',\n",
       "  '02-01:axillaryTemperature_C:5760',\n",
       "  '02-01:axillaryTemperature_C:5880',\n",
       "  '02-01:axillaryTemperature_C:6000',\n",
       "  '02-01:axillaryTemperature_C:6120',\n",
       "  '02-01:axillaryTemperature_C:6240',\n",
       "  '02-01:axillaryTemperature_C:6360',\n",
       "  '02-01:axillaryTemperature_C:6480',\n",
       "  '02-01:axillaryTemperature_C:6600',\n",
       "  '02-01:axillaryTemperature_C:6720',\n",
       "  '02-01:axillaryTemperature_C:6840',\n",
       "  '02-01:axillaryTemperature_C:6960',\n",
       "  '02-01:axillaryTemperature_C:7080',\n",
       "  '02-01:axillaryTemperature_C:7200',\n",
       "  '02-01:axillaryTemperature_C:7320',\n",
       "  '02-01:axillaryTemperature_C:7440',\n",
       "  '02-01:axillaryTemperature_C:7560',\n",
       "  '02-01:axillaryTemperature_C:7680',\n",
       "  '02-01:axillaryTemperature_C:7800',\n",
       "  '02-01:axillaryTemperature_C:7920',\n",
       "  '02-01:axillaryTemperature_C:8040',\n",
       "  '02-01:axillaryTemperature_C:8160',\n",
       "  '02-01:axillaryTemperature_C:8280',\n",
       "  '02-01:axillaryTemperature_C:8400',\n",
       "  '02-01:axillaryTemperature_C:8520',\n",
       "  '02-01:axillaryTemperature_C:8640',\n",
       "  '02-01:axillaryTemperature_C:8760',\n",
       "  '02-01:axillaryTemperature_C:8880',\n",
       "  '02-01:axillaryTemperature_C:9000',\n",
       "  '02-01:axillaryTemperature_C:9120',\n",
       "  '02-01:axillaryTemperature_C:9240',\n",
       "  '02-01:axillaryTemperature_C:9360',\n",
       "  '02-01:axillaryTemperature_C:9480',\n",
       "  '02-01:axillaryTemperature_C:9600',\n",
       "  '02-01:axillaryTemperature_C:9720',\n",
       "  '02-01:axillaryTemperature_C:9840',\n",
       "  '02-01:axillaryTemperature_C:9960',\n",
       "  '02-01:blanketTemperature_C:0',\n",
       "  '02-01:blanketTemperature_C:15',\n",
       "  '02-01:blanketTemperature_C:30',\n",
       "  '02-01:blanketTemperature_C:45',\n",
       "  '02-01:blanketTemperature_C:60',\n",
       "  '02-01:blanketTemperature_C:75',\n",
       "  '02-01:blanketTemperature_C:90',\n",
       "  '02-01:blanketTemperature_C:105',\n",
       "  '02-01:blanketTemperature_C:120',\n",
       "  '02-01:blanketTemperature_C:135',\n",
       "  '02-01:blanketTemperature_C:150',\n",
       "  '02-01:blanketTemperature_C:165',\n",
       "  '02-01:blanketTemperature_C:180',\n",
       "  '02-01:blanketTemperature_C:195',\n",
       "  '02-01:blanketTemperature_C:210',\n",
       "  '02-01:blanketTemperature_C:225',\n",
       "  '02-01:blanketTemperature_C:240',\n",
       "  '02-01:blanketTemperature_C:300',\n",
       "  '02-01:blanketTemperature_C:360',\n",
       "  '02-01:blanketTemperature_C:420',\n",
       "  '02-01:blanketTemperature_C:480',\n",
       "  '02-01:blanketTemperature_C:540',\n",
       "  '02-01:blanketTemperature_C:600',\n",
       "  '02-01:blanketTemperature_C:660',\n",
       "  '02-01:blanketTemperature_C:720',\n",
       "  '02-01:blanketTemperature_C:960',\n",
       "  '02-01:blanketTemperature_C:1200',\n",
       "  '02-01:blanketTemperature_C:1440',\n",
       "  '02-01:blanketTemperature_C:1680',\n",
       "  '02-01:blanketTemperature_C:1920',\n",
       "  '02-01:blanketTemperature_C:2160',\n",
       "  '02-01:blanketTemperature_C:2400',\n",
       "  '02-01:blanketTemperature_C:2640',\n",
       "  '02-01:blanketTemperature_C:2880',\n",
       "  '02-01:blanketTemperature_C:3120',\n",
       "  '02-01:blanketTemperature_C:3360',\n",
       "  '02-01:blanketTemperature_C:3600',\n",
       "  '02-01:blanketTemperature_C:3840',\n",
       "  '02-01:blanketTemperature_C:4080',\n",
       "  '02-01:blanketTemperature_C:4320',\n",
       "  '02-01:blanketTemperature_C:4440',\n",
       "  '02-01:blanketTemperature_C:4560',\n",
       "  '02-01:blanketTemperature_C:4680',\n",
       "  '02-01:blanketTemperature_C:4800',\n",
       "  '02-01:blanketTemperature_C:4920',\n",
       "  '02-01:blanketTemperature_C:5040',\n",
       "  '02-01:blanketTemperature_C:5160',\n",
       "  '02-01:blanketTemperature_C:5280',\n",
       "  '02-01:blanketTemperature_C:5400',\n",
       "  '02-01:blanketTemperature_C:5520',\n",
       "  '02-01:blanketTemperature_C:5640',\n",
       "  '02-01:blanketTemperature_C:5760',\n",
       "  '02-01:blanketTemperature_C:5880',\n",
       "  '02-01:blanketTemperature_C:6000',\n",
       "  '02-01:blanketTemperature_C:6120',\n",
       "  '02-01:blanketTemperature_C:6240',\n",
       "  '02-01:blanketTemperature_C:6360',\n",
       "  '02-01:blanketTemperature_C:6480',\n",
       "  '02-01:blanketTemperature_C:6600',\n",
       "  '02-01:blanketTemperature_C:6720',\n",
       "  '02-01:blanketTemperature_C:6840',\n",
       "  '02-01:blanketTemperature_C:6960',\n",
       "  '02-01:blanketTemperature_C:7080',\n",
       "  '02-01:blanketTemperature_C:7200',\n",
       "  '02-01:blanketTemperature_C:7320',\n",
       "  '02-01:blanketTemperature_C:7440',\n",
       "  '02-01:blanketTemperature_C:7560',\n",
       "  '02-01:blanketTemperature_C:7680',\n",
       "  '02-01:blanketTemperature_C:7800',\n",
       "  '02-01:blanketTemperature_C:7920',\n",
       "  '02-01:blanketTemperature_C:8040',\n",
       "  '02-01:blanketTemperature_C:8160',\n",
       "  '02-01:blanketTemperature_C:8280',\n",
       "  '02-01:blanketTemperature_C:8400',\n",
       "  '02-01:blanketTemperature_C:8520',\n",
       "  '02-01:blanketTemperature_C:8640',\n",
       "  '02-01:blanketTemperature_C:8760',\n",
       "  '02-01:blanketTemperature_C:8880',\n",
       "  '02-01:blanketTemperature_C:9000',\n",
       "  '02-01:blanketTemperature_C:9120',\n",
       "  '02-01:blanketTemperature_C:9240',\n",
       "  '02-01:blanketTemperature_C:9360',\n",
       "  '02-01:blanketTemperature_C:9480',\n",
       "  '02-01:blanketTemperature_C:9600',\n",
       "  '02-01:blanketTemperature_C:9720',\n",
       "  '02-01:blanketTemperature_C:9840',\n",
       "  '02-01:blanketTemperature_C:9960',\n",
       "  '02-01:esophagealTemperature_C:0',\n",
       "  '02-01:esophagealTemperature_C:15',\n",
       "  '02-01:esophagealTemperature_C:30',\n",
       "  '02-01:esophagealTemperature_C:45',\n",
       "  '02-01:esophagealTemperature_C:60',\n",
       "  '02-01:esophagealTemperature_C:75',\n",
       "  '02-01:esophagealTemperature_C:90',\n",
       "  '02-01:esophagealTemperature_C:105',\n",
       "  '02-01:esophagealTemperature_C:120',\n",
       "  '02-01:esophagealTemperature_C:135',\n",
       "  '02-01:esophagealTemperature_C:150',\n",
       "  '02-01:esophagealTemperature_C:165',\n",
       "  '02-01:esophagealTemperature_C:180',\n",
       "  '02-01:esophagealTemperature_C:195',\n",
       "  '02-01:esophagealTemperature_C:210',\n",
       "  '02-01:esophagealTemperature_C:225',\n",
       "  '02-01:esophagealTemperature_C:240',\n",
       "  '02-01:esophagealTemperature_C:300',\n",
       "  '02-01:esophagealTemperature_C:360',\n",
       "  '02-01:esophagealTemperature_C:420',\n",
       "  '02-01:esophagealTemperature_C:480',\n",
       "  '02-01:esophagealTemperature_C:540',\n",
       "  '02-01:esophagealTemperature_C:600',\n",
       "  '02-01:esophagealTemperature_C:660',\n",
       "  '02-01:esophagealTemperature_C:720',\n",
       "  '02-01:esophagealTemperature_C:960',\n",
       "  '02-01:esophagealTemperature_C:1200',\n",
       "  '02-01:esophagealTemperature_C:1440',\n",
       "  '02-01:esophagealTemperature_C:1680',\n",
       "  '02-01:esophagealTemperature_C:1920',\n",
       "  '02-01:esophagealTemperature_C:2160',\n",
       "  '02-01:esophagealTemperature_C:2400',\n",
       "  '02-01:esophagealTemperature_C:2640',\n",
       "  '02-01:esophagealTemperature_C:2880',\n",
       "  '02-01:esophagealTemperature_C:3120',\n",
       "  '02-01:esophagealTemperature_C:3360',\n",
       "  '02-01:esophagealTemperature_C:3600',\n",
       "  '02-01:esophagealTemperature_C:3840',\n",
       "  '02-01:esophagealTemperature_C:4080',\n",
       "  '02-01:esophagealTemperature_C:4320',\n",
       "  '02-01:esophagealTemperature_C:4440',\n",
       "  '02-01:esophagealTemperature_C:4560',\n",
       "  '02-01:esophagealTemperature_C:4680',\n",
       "  '02-01:esophagealTemperature_C:4800',\n",
       "  '02-01:esophagealTemperature_C:4920',\n",
       "  '02-01:esophagealTemperature_C:5040',\n",
       "  '02-01:esophagealTemperature_C:5160',\n",
       "  '02-01:esophagealTemperature_C:5280',\n",
       "  '02-01:esophagealTemperature_C:5400',\n",
       "  '02-01:esophagealTemperature_C:5520',\n",
       "  '02-01:esophagealTemperature_C:5640',\n",
       "  '02-01:esophagealTemperature_C:5760',\n",
       "  '02-01:esophagealTemperature_C:5880',\n",
       "  '02-01:esophagealTemperature_C:6000',\n",
       "  '02-01:esophagealTemperature_C:6120',\n",
       "  '02-01:esophagealTemperature_C:6240',\n",
       "  '02-01:esophagealTemperature_C:6360',\n",
       "  '02-01:esophagealTemperature_C:6480',\n",
       "  '02-01:esophagealTemperature_C:6600',\n",
       "  '02-01:esophagealTemperature_C:6720',\n",
       "  '02-01:esophagealTemperature_C:6840',\n",
       "  '02-01:esophagealTemperature_C:6960',\n",
       "  '02-01:esophagealTemperature_C:7080',\n",
       "  '02-01:esophagealTemperature_C:7200',\n",
       "  '02-01:esophagealTemperature_C:7320',\n",
       "  '02-01:esophagealTemperature_C:7440',\n",
       "  '02-01:esophagealTemperature_C:7560',\n",
       "  '02-01:esophagealTemperature_C:7680',\n",
       "  '02-01:esophagealTemperature_C:7800',\n",
       "  '02-01:esophagealTemperature_C:7920',\n",
       "  '02-01:esophagealTemperature_C:8040',\n",
       "  '02-01:esophagealTemperature_C:8160',\n",
       "  '02-01:esophagealTemperature_C:8280',\n",
       "  '02-01:esophagealTemperature_C:8400',\n",
       "  '02-01:esophagealTemperature_C:8520',\n",
       "  '02-01:esophagealTemperature_C:8640',\n",
       "  '02-01:esophagealTemperature_C:8760',\n",
       "  '02-01:esophagealTemperature_C:8880',\n",
       "  '02-01:esophagealTemperature_C:9000',\n",
       "  '02-01:esophagealTemperature_C:9120',\n",
       "  '02-01:esophagealTemperature_C:9240',\n",
       "  '02-01:esophagealTemperature_C:9360',\n",
       "  '02-01:esophagealTemperature_C:9480',\n",
       "  '02-01:esophagealTemperature_C:9600',\n",
       "  '02-01:esophagealTemperature_C:9720',\n",
       "  '02-01:esophagealTemperature_C:9840',\n",
       "  '02-01:esophagealTemperature_C:9960',\n",
       "  '02-01:servoSetTemperature_C:0',\n",
       "  '02-01:servoSetTemperature_C:15',\n",
       "  '02-01:servoSetTemperature_C:30',\n",
       "  '02-01:servoSetTemperature_C:45',\n",
       "  '02-01:servoSetTemperature_C:60',\n",
       "  '02-01:servoSetTemperature_C:75',\n",
       "  '02-01:servoSetTemperature_C:90',\n",
       "  '02-01:servoSetTemperature_C:105',\n",
       "  '02-01:servoSetTemperature_C:120',\n",
       "  '02-01:servoSetTemperature_C:135',\n",
       "  '02-01:servoSetTemperature_C:150',\n",
       "  '02-01:servoSetTemperature_C:165',\n",
       "  '02-01:servoSetTemperature_C:180',\n",
       "  '02-01:servoSetTemperature_C:195',\n",
       "  '02-01:servoSetTemperature_C:210',\n",
       "  '02-01:servoSetTemperature_C:225',\n",
       "  '02-01:servoSetTemperature_C:240',\n",
       "  '02-01:servoSetTemperature_C:300',\n",
       "  '02-01:servoSetTemperature_C:360',\n",
       "  '02-01:servoSetTemperature_C:420',\n",
       "  '02-01:servoSetTemperature_C:480',\n",
       "  '02-01:servoSetTemperature_C:540',\n",
       "  '02-01:servoSetTemperature_C:600',\n",
       "  '02-01:servoSetTemperature_C:660',\n",
       "  '02-01:servoSetTemperature_C:720',\n",
       "  '02-01:servoSetTemperature_C:960',\n",
       "  '02-01:servoSetTemperature_C:1200',\n",
       "  '02-01:servoSetTemperature_C:1440',\n",
       "  '02-01:servoSetTemperature_C:1680',\n",
       "  '02-01:servoSetTemperature_C:1920',\n",
       "  '02-01:servoSetTemperature_C:2160',\n",
       "  '02-01:servoSetTemperature_C:2400',\n",
       "  '02-01:servoSetTemperature_C:2640',\n",
       "  '02-01:servoSetTemperature_C:2880',\n",
       "  '02-01:servoSetTemperature_C:3120',\n",
       "  '02-01:servoSetTemperature_C:3360',\n",
       "  '02-01:servoSetTemperature_C:3600',\n",
       "  '02-01:servoSetTemperature_C:3840',\n",
       "  '02-01:servoSetTemperature_C:4080',\n",
       "  '02-01:servoSetTemperature_C:4320',\n",
       "  '02-01:servoSetTemperature_C:4440',\n",
       "  '02-01:servoSetTemperature_C:4560',\n",
       "  '02-01:servoSetTemperature_C:4680',\n",
       "  '02-01:servoSetTemperature_C:4800',\n",
       "  '02-01:servoSetTemperature_C:4920',\n",
       "  '02-01:servoSetTemperature_C:5040',\n",
       "  '02-01:servoSetTemperature_C:5160',\n",
       "  '02-01:servoSetTemperature_C:5280',\n",
       "  '02-01:servoSetTemperature_C:5400',\n",
       "  '02-01:servoSetTemperature_C:5520',\n",
       "  '02-01:servoSetTemperature_C:5640',\n",
       "  '02-01:servoSetTemperature_C:5760',\n",
       "  '02-01:servoSetTemperature_C:5880',\n",
       "  '02-01:servoSetTemperature_C:6000',\n",
       "  '02-01:servoSetTemperature_C:6120',\n",
       "  '02-01:servoSetTemperature_C:6240',\n",
       "  '02-01:servoSetTemperature_C:6360',\n",
       "  '02-01:servoSetTemperature_C:6480',\n",
       "  '02-01:servoSetTemperature_C:6600',\n",
       "  '02-01:servoSetTemperature_C:6720',\n",
       "  '02-01:servoSetTemperature_C:6840',\n",
       "  '02-01:servoSetTemperature_C:6960',\n",
       "  '02-01:servoSetTemperature_C:7080',\n",
       "  '02-01:servoSetTemperature_C:7200',\n",
       "  '02-01:servoSetTemperature_C:7320',\n",
       "  '02-01:servoSetTemperature_C:7440',\n",
       "  '02-01:servoSetTemperature_C:7560',\n",
       "  '02-01:servoSetTemperature_C:7680',\n",
       "  '02-01:servoSetTemperature_C:7800',\n",
       "  '02-01:servoSetTemperature_C:7920',\n",
       "  '02-01:servoSetTemperature_C:8040',\n",
       "  '02-01:servoSetTemperature_C:8160',\n",
       "  '02-01:servoSetTemperature_C:8280',\n",
       "  '02-01:servoSetTemperature_C:8400',\n",
       "  '02-01:servoSetTemperature_C:8520',\n",
       "  '02-01:servoSetTemperature_C:8640',\n",
       "  '02-01:servoSetTemperature_C:8760',\n",
       "  '02-01:servoSetTemperature_C:8880',\n",
       "  '02-01:servoSetTemperature_C:9000',\n",
       "  '02-01:servoSetTemperature_C:9120',\n",
       "  '02-01:servoSetTemperature_C:9240',\n",
       "  '02-01:servoSetTemperature_C:9360',\n",
       "  '02-01:servoSetTemperature_C:9480',\n",
       "  '02-01:servoSetTemperature_C:9600',\n",
       "  '02-01:servoSetTemperature_C:9720',\n",
       "  '02-01:servoSetTemperature_C:9840',\n",
       "  '02-01:servoSetTemperature_C:9960',\n",
       "  '02-01:shiver:0',\n",
       "  '02-01:shiver:15',\n",
       "  '02-01:shiver:30',\n",
       "  '02-01:shiver:45',\n",
       "  '02-01:shiver:60',\n",
       "  '02-01:shiver:75',\n",
       "  '02-01:shiver:90',\n",
       "  '02-01:shiver:105',\n",
       "  '02-01:shiver:120',\n",
       "  '02-01:shiver:135',\n",
       "  '02-01:shiver:150',\n",
       "  '02-01:shiver:165',\n",
       "  '02-01:shiver:180',\n",
       "  '02-01:shiver:195',\n",
       "  '02-01:shiver:210',\n",
       "  '02-01:shiver:225',\n",
       "  '02-01:shiver:240',\n",
       "  '02-01:shiver:300',\n",
       "  '02-01:shiver:360',\n",
       "  '02-01:shiver:420',\n",
       "  '02-01:shiver:480',\n",
       "  '02-01:shiver:540',\n",
       "  '02-01:shiver:600',\n",
       "  '02-01:shiver:660',\n",
       "  '02-01:shiver:720',\n",
       "  '02-01:shiver:960',\n",
       "  '02-01:shiver:1200',\n",
       "  '02-01:shiver:1440',\n",
       "  '02-01:shiver:1680',\n",
       "  '02-01:shiver:1920',\n",
       "  '02-01:shiver:2160',\n",
       "  '02-01:shiver:2400',\n",
       "  '02-01:shiver:2640',\n",
       "  '02-01:shiver:2880',\n",
       "  '02-01:shiver:3120',\n",
       "  '02-01:shiver:3360',\n",
       "  '02-01:shiver:3600',\n",
       "  '02-01:shiver:3840',\n",
       "  '02-01:shiver:4080',\n",
       "  '02-01:shiver:4320',\n",
       "  '02-01:shiver:4440',\n",
       "  '02-01:shiver:4560',\n",
       "  '02-01:shiver:4680',\n",
       "  '02-01:shiver:4800',\n",
       "  '02-01:shiver:4920',\n",
       "  '02-01:shiver:5040',\n",
       "  '02-01:shiver:5160',\n",
       "  '02-01:shiver:5280',\n",
       "  '02-01:shiver:5400',\n",
       "  '02-01:shiver:5520',\n",
       "  '02-01:shiver:5640',\n",
       "  '02-01:shiver:5760',\n",
       "  '02-01:shiver:5880',\n",
       "  '02-01:shiver:6000',\n",
       "  '02-01:shiver:6120',\n",
       "  '02-01:shiver:6240',\n",
       "  '02-01:shiver:6360',\n",
       "  '02-01:shiver:6480',\n",
       "  '02-01:shiver:6600',\n",
       "  '02-01:shiver:6720',\n",
       "  '02-01:shiver:6840',\n",
       "  '02-01:shiver:6960',\n",
       "  '02-01:shiver:7080',\n",
       "  '02-01:shiver:7200',\n",
       "  '02-01:shiver:7320',\n",
       "  '02-01:shiver:7440',\n",
       "  '02-01:shiver:7560',\n",
       "  '02-01:shiver:7680',\n",
       "  '02-01:shiver:7800',\n",
       "  '02-01:shiver:7920',\n",
       "  '02-01:shiver:8040',\n",
       "  '02-01:shiver:8160',\n",
       "  '02-01:shiver:8280',\n",
       "  '02-01:shiver:8400',\n",
       "  '02-01:shiver:8520',\n",
       "  '02-01:shiver:8640',\n",
       "  '02-01:shiver:8760',\n",
       "  '02-01:shiver:8880',\n",
       "  '02-01:shiver:9000',\n",
       "  '02-01:shiver:9120',\n",
       "  '02-01:shiver:9240',\n",
       "  '02-01:shiver:9360',\n",
       "  '02-01:shiver:9480',\n",
       "  '02-01:shiver:9600',\n",
       "  '02-01:shiver:9720',\n",
       "  '02-01:shiver:9840',\n",
       "  '02-01:shiver:9960',\n",
       "  '02-01:skinTemperature_C:0',\n",
       "  '02-01:skinTemperature_C:15',\n",
       "  '02-01:skinTemperature_C:30',\n",
       "  '02-01:skinTemperature_C:45',\n",
       "  '02-01:skinTemperature_C:60',\n",
       "  '02-01:skinTemperature_C:75',\n",
       "  '02-01:skinTemperature_C:90',\n",
       "  '02-01:skinTemperature_C:105',\n",
       "  '02-01:skinTemperature_C:120',\n",
       "  '02-01:skinTemperature_C:135',\n",
       "  '02-01:skinTemperature_C:150',\n",
       "  '02-01:skinTemperature_C:165',\n",
       "  '02-01:skinTemperature_C:180',\n",
       "  '02-01:skinTemperature_C:195',\n",
       "  '02-01:skinTemperature_C:210',\n",
       "  '02-01:skinTemperature_C:225',\n",
       "  '02-01:skinTemperature_C:240',\n",
       "  '02-01:skinTemperature_C:300',\n",
       "  '02-01:skinTemperature_C:360',\n",
       "  '02-01:skinTemperature_C:420',\n",
       "  '02-01:skinTemperature_C:480',\n",
       "  '02-01:skinTemperature_C:540',\n",
       "  '02-01:skinTemperature_C:600',\n",
       "  '02-01:skinTemperature_C:660',\n",
       "  '02-01:skinTemperature_C:720',\n",
       "  '02-01:skinTemperature_C:960',\n",
       "  '02-01:skinTemperature_C:1200',\n",
       "  '02-01:skinTemperature_C:1440',\n",
       "  '02-01:skinTemperature_C:1680',\n",
       "  '02-01:skinTemperature_C:1920',\n",
       "  '02-01:skinTemperature_C:2160',\n",
       "  '02-01:skinTemperature_C:2400',\n",
       "  '02-01:skinTemperature_C:2640',\n",
       "  '02-01:skinTemperature_C:2880',\n",
       "  '02-01:skinTemperature_C:3120',\n",
       "  '02-01:skinTemperature_C:3360',\n",
       "  '02-01:skinTemperature_C:3600',\n",
       "  '02-01:skinTemperature_C:3840',\n",
       "  '02-01:skinTemperature_C:4080',\n",
       "  '02-01:skinTemperature_C:4320',\n",
       "  '02-01:skinTemperature_C:4440',\n",
       "  '02-01:skinTemperature_C:4560',\n",
       "  '02-01:skinTemperature_C:4680',\n",
       "  '02-01:skinTemperature_C:4800',\n",
       "  '02-01:skinTemperature_C:4920',\n",
       "  '02-01:skinTemperature_C:5040',\n",
       "  '02-01:skinTemperature_C:5160',\n",
       "  '02-01:skinTemperature_C:5280',\n",
       "  '02-01:skinTemperature_C:5400',\n",
       "  '02-01:skinTemperature_C:5520',\n",
       "  '02-01:skinTemperature_C:5640',\n",
       "  '02-01:skinTemperature_C:5760',\n",
       "  '02-01:skinTemperature_C:5880',\n",
       "  '02-01:skinTemperature_C:6000',\n",
       "  '02-01:skinTemperature_C:6120',\n",
       "  '02-01:skinTemperature_C:6240',\n",
       "  '02-01:skinTemperature_C:6360',\n",
       "  '02-01:skinTemperature_C:6480',\n",
       "  '02-01:skinTemperature_C:6600',\n",
       "  '02-01:skinTemperature_C:6720',\n",
       "  '02-01:skinTemperature_C:6840',\n",
       "  '02-01:skinTemperature_C:6960',\n",
       "  '02-01:skinTemperature_C:7080',\n",
       "  '02-01:skinTemperature_C:7200',\n",
       "  '02-01:skinTemperature_C:7320',\n",
       "  '02-01:skinTemperature_C:7440',\n",
       "  '02-01:skinTemperature_C:7560',\n",
       "  '02-01:skinTemperature_C:7680',\n",
       "  '02-01:skinTemperature_C:7800',\n",
       "  '02-01:skinTemperature_C:7920',\n",
       "  '02-01:skinTemperature_C:8040',\n",
       "  '02-01:skinTemperature_C:8160',\n",
       "  '02-01:skinTemperature_C:8280',\n",
       "  '02-01:skinTemperature_C:8400',\n",
       "  '02-01:skinTemperature_C:8520',\n",
       "  '02-01:skinTemperature_C:8640',\n",
       "  '02-01:skinTemperature_C:8760',\n",
       "  '02-01:skinTemperature_C:8880',\n",
       "  '02-01:skinTemperature_C:9000',\n",
       "  '02-01:skinTemperature_C:9120',\n",
       "  '02-01:skinTemperature_C:9240',\n",
       "  '02-01:skinTemperature_C:9360',\n",
       "  '02-01:skinTemperature_C:9480',\n",
       "  '02-01:skinTemperature_C:9600',\n",
       "  '02-01:skinTemperature_C:9720',\n",
       "  '02-01:skinTemperature_C:9840',\n",
       "  '02-01:skinTemperature_C:9960',\n",
       "  '02-01:temperatureDate:0',\n",
       "  '02-01:temperatureDate:15',\n",
       "  '02-01:temperatureDate:30',\n",
       "  '02-01:temperatureDate:45',\n",
       "  '02-01:temperatureDate:60',\n",
       "  '02-01:temperatureDate:75',\n",
       "  '02-01:temperatureDate:90',\n",
       "  '02-01:temperatureDate:105',\n",
       "  '02-01:temperatureDate:120',\n",
       "  '02-01:temperatureDate:135',\n",
       "  '02-01:temperatureDate:150',\n",
       "  '02-01:temperatureDate:165',\n",
       "  '02-01:temperatureDate:180',\n",
       "  '02-01:temperatureDate:195',\n",
       "  '02-01:temperatureDate:210',\n",
       "  '02-01:temperatureDate:225',\n",
       "  '02-01:temperatureDate:240',\n",
       "  '02-01:temperatureDate:300',\n",
       "  '02-01:temperatureDate:360',\n",
       "  '02-01:temperatureDate:420',\n",
       "  '02-01:temperatureDate:480',\n",
       "  '02-01:temperatureDate:540',\n",
       "  '02-01:temperatureDate:600',\n",
       "  '02-01:temperatureDate:660',\n",
       "  '02-01:temperatureDate:720',\n",
       "  '02-01:temperatureDate:960',\n",
       "  '02-01:temperatureDate:1200',\n",
       "  '02-01:temperatureDate:1440',\n",
       "  '02-01:temperatureDate:1680',\n",
       "  '02-01:temperatureDate:1920',\n",
       "  '02-01:temperatureDate:2160',\n",
       "  '02-01:temperatureDate:2400',\n",
       "  '02-01:temperatureDate:2640',\n",
       "  '02-01:temperatureDate:2880',\n",
       "  '02-01:temperatureDate:3120',\n",
       "  '02-01:temperatureDate:3360',\n",
       "  '02-01:temperatureDate:3600',\n",
       "  '02-01:temperatureDate:3840',\n",
       "  '02-01:temperatureDate:4080',\n",
       "  '02-01:temperatureDate:4320',\n",
       "  '02-01:temperatureDate:4440',\n",
       "  '02-01:temperatureDate:4560',\n",
       "  '02-01:temperatureDate:4680',\n",
       "  '02-01:temperatureDate:4800',\n",
       "  '02-01:temperatureDate:4920',\n",
       "  '02-01:temperatureDate:5040',\n",
       "  '02-01:temperatureDate:5160',\n",
       "  '02-01:temperatureDate:5280',\n",
       "  '02-01:temperatureDate:5400',\n",
       "  '02-01:temperatureDate:5520',\n",
       "  '02-01:temperatureDate:5640',\n",
       "  '02-01:temperatureDate:5760',\n",
       "  '02-01:temperatureDate:5880',\n",
       "  '02-01:temperatureDate:6000',\n",
       "  '02-01:temperatureDate:6120',\n",
       "  '02-01:temperatureDate:6240',\n",
       "  '02-01:temperatureDate:6360',\n",
       "  '02-01:temperatureDate:6480',\n",
       "  '02-01:temperatureDate:6600',\n",
       "  '02-01:temperatureDate:6720',\n",
       "  '02-01:temperatureDate:6840',\n",
       "  '02-01:temperatureDate:6960',\n",
       "  '02-01:temperatureDate:7080',\n",
       "  '02-01:temperatureDate:7200',\n",
       "  '02-01:temperatureDate:7320',\n",
       "  '02-01:temperatureDate:7440',\n",
       "  '02-01:temperatureDate:7560',\n",
       "  '02-01:temperatureDate:7680',\n",
       "  '02-01:temperatureDate:7800',\n",
       "  '02-01:temperatureDate:7920',\n",
       "  '02-01:temperatureDate:8040',\n",
       "  '02-01:temperatureDate:8160',\n",
       "  '02-01:temperatureDate:8280',\n",
       "  '02-01:temperatureDate:8400',\n",
       "  '02-01:temperatureDate:8520',\n",
       "  '02-01:temperatureDate:8640',\n",
       "  '02-01:temperatureDate:8760',\n",
       "  '02-01:temperatureDate:8880',\n",
       "  '02-01:temperatureDate:9000',\n",
       "  '02-01:temperatureDate:9120',\n",
       "  '02-01:temperatureDate:9240',\n",
       "  '02-01:temperatureDate:9360',\n",
       "  '02-01:temperatureDate:9480',\n",
       "  '02-01:temperatureDate:9600',\n",
       "  '02-01:temperatureDate:9720',\n",
       "  '02-01:temperatureDate:9840',\n",
       "  '02-01:temperatureDate:9960',\n",
       "  '02-01:temperatureTime:0',\n",
       "  '02-01:temperatureTime:15',\n",
       "  '02-01:temperatureTime:30',\n",
       "  '02-01:temperatureTime:45',\n",
       "  '02-01:temperatureTime:60',\n",
       "  '02-01:temperatureTime:75',\n",
       "  '02-01:temperatureTime:90',\n",
       "  '02-01:temperatureTime:105',\n",
       "  '02-01:temperatureTime:120',\n",
       "  '02-01:temperatureTime:135',\n",
       "  '02-01:temperatureTime:150',\n",
       "  '02-01:temperatureTime:165',\n",
       "  '02-01:temperatureTime:180',\n",
       "  '02-01:temperatureTime:195',\n",
       "  '02-01:temperatureTime:210',\n",
       "  '02-01:temperatureTime:225',\n",
       "  '02-01:temperatureTime:240',\n",
       "  '02-01:temperatureTime:300',\n",
       "  '02-01:temperatureTime:360',\n",
       "  ...])"
      ]
     },
     "execution_count": 14,
     "metadata": {},
     "output_type": "execute_result"
    }
   ],
   "source": [
    "len(df_numeric_valid.columns), list(df_numeric_valid.columns)"
   ]
  },
  {
   "cell_type": "markdown",
   "id": "1caead55",
   "metadata": {},
   "source": [
    "## 03. all"
   ]
  },
  {
   "cell_type": "code",
   "execution_count": 15,
   "id": "205470dd-0c2e-4327-bbae-45cd418ebd91",
   "metadata": {
    "execution": {
     "iopub.execute_input": "2025-05-10T00:16:45.782878Z",
     "iopub.status.busy": "2025-05-10T00:16:45.782775Z",
     "iopub.status.idle": "2025-05-10T00:16:45.784783Z",
     "shell.execute_reply": "2025-05-10T00:16:45.784562Z"
    }
   },
   "outputs": [],
   "source": [
    "y_columns = [\n",
    "    '20-10:moderateSevereDisabilityOrDeath',\n",
    "    '20-10:disabilityLevelDeath4Category',\n",
    "    '20-10_1:disabilityLevelDeath',\n",
    "\n",
    "    '20-04:BayleyIIICognitiveComposite',\n",
    "    '20-04:BayleyIIILanguageComposite',\n",
    "    '20-04:BayleyIIIMotorComposite',\n",
    "]\n",
    "\n",
    "value_columns = [\n",
    "    'corr',\n",
    "    'r2',\n",
    "    'pvalue',\n",
    "    'valid',\n",
    "    'valid_x',\n",
    "    'valid_y',\n",
    "    'valid_percent',\n",
    "]\n",
    "\n",
    "def _reorder_columns(y_columns, value_columns):\n",
    "    for y_column in y_columns:\n",
    "        for value_column in value_columns:\n",
    "            yield y_column, value_column\n",
    "\n",
    "reorder_columns = list(_reorder_columns(y_columns, value_columns))"
   ]
  },
  {
   "cell_type": "code",
   "execution_count": 16,
   "id": "aa84d8f4",
   "metadata": {
    "execution": {
     "iopub.execute_input": "2025-05-10T00:16:45.785943Z",
     "iopub.status.busy": "2025-05-10T00:16:45.785856Z",
     "iopub.status.idle": "2025-05-10T00:16:45.787916Z",
     "shell.execute_reply": "2025-05-10T00:16:45.787691Z"
    }
   },
   "outputs": [],
   "source": [
    "_EXCLUDE_COLUMNS = y_columns + [\n",
    "    '01-01:birthNumber', # 1: 525 2: 7\n",
    "    '01-01:coreTempBelow32p5COver2H', # 0: 532 (fit criteria),\n",
    "    '01-07:pre_CoolbyIceGelPack', # 0: 250, 1: 2\n",
    "\n",
    "    '20-09:blindness', # part of the outcome definition\n",
    "    '20-09:multipleImpairment', # part of the outcome defition\n",
    "    '20-09:moderateSevereCerebralPalsy', # part of the outcome defition\n",
    "    '20-09:hearingImpairedWithAid', # part of the outcome defition\n",
    "    '20-09:cerebralPalsyMerge', # part of the outcome defition\n",
    "    '20-09:afterDischargeSeizure', # part of the outcome defition\n",
    "    '20-09:grossMotorFunctionLevelSeverity', # part of the outcome defition\n",
    "\n",
    "    '04-01:deathAge_day', # related t the outcome definition\n",
    "\n",
    "    '20-10:normalPrimaryOutcome', # part of the outcome defition\n",
    "    '20-10:moderateSevereDisabilitySurvivor', # part of the outcome defition\n",
    "    '20-10:disabilityLevelSurvivor', # part of the outcome defition\n",
    "    '20-10:disabilityLevelDeath4Category', # part of the outcome defition\n",
    "    '20-10:outcomeGroup', # part of the outcome defition\n",
    "]\n",
    "\n",
    "_INCLUDE_COLUMN_PREFIX = [\n",
    "    '01-02',\n",
    "    '01-03',\n",
    "    '01-04',\n",
    "    '01-05',\n",
    "    '01-05_1',\n",
    "    '01-05_2',\n",
    "    '01-06',\n",
    "    '01-07',\n",
    "    '01-08',\n",
    "    '01-09',\n",
    "    '01-10',\n",
    "    '01-12',\n",
    "    '01-12_1',\n",
    "    '03-01_s',\n",
    "    '03-02',\n",
    "    '03-04',\n",
    "    '03-04_1',\n",
    "    '03-05',\n",
    "    '03-05_s',\n",
    "    '03-05_s1',\n",
    "    '04-01',\n",
    "    '04-01_1',\n",
    "    '04-02',\n",
    "    '04-03',\n",
    "    '04-04',\n",
    "    '04-05',\n",
    "    '04-06',\n",
    "    '04-07',\n",
    "    '04-08',\n",
    "    '04-09',\n",
    "    '04-10',\n",
    "    '04-11',\n",
    "    '04-12',\n",
    "    '04-12_1',\n",
    "    '04-13',\n",
    "    '04-14',\n",
    "    '04-15',\n",
    "]\n"
   ]
  },
  {
   "cell_type": "code",
   "execution_count": 17,
   "id": "0687240e",
   "metadata": {
    "execution": {
     "iopub.execute_input": "2025-05-10T00:16:45.789116Z",
     "iopub.status.busy": "2025-05-10T00:16:45.789025Z",
     "iopub.status.idle": "2025-05-10T00:16:45.791669Z",
     "shell.execute_reply": "2025-05-10T00:16:45.791453Z"
    }
   },
   "outputs": [],
   "source": [
    "def _valid_column(df, column):\n",
    "    if column in _EXCLUDE_COLUMNS:\n",
    "        return False\n",
    "\n",
    "    column_prefix, var_name, postfix = COMBINE_harmonizer.flatten_column_tuple(column)\n",
    "    if column_prefix not in _INCLUDE_COLUMN_PREFIX:\n",
    "        return\n",
    "\n",
    "    if 'Bayley' in column:\n",
    "        return False\n",
    "\n",
    "    if 'death' in column:\n",
    "        return False\n",
    "\n",
    "    if 'wdrawSupport' in column:\n",
    "        return False\n",
    "\n",
    "    if 'limitCare' in column:\n",
    "        return False\n",
    "\n",
    "    if re.search(r':followupCenter$', column):\n",
    "        return False\n",
    "\n",
    "    # XXX remove Date\n",
    "    if re.search(r'Date\\d*$', column):\n",
    "        return False\n",
    "\n",
    "    # XXX remove Time, but retain spontaneousRespirationTime\n",
    "    if re.search(r'Time\\d*$', column) and 'spontaneousRespirationTime' not in column:\n",
    "        return False\n",
    "\n",
    "    # with only MRINRNPatternOfInjury in MRI.\n",
    "    if column_prefix == '03-05':\n",
    "        if var_name != 'MRINRNPatternOfInjury':\n",
    "            return False\n",
    "\n",
    "    if df[column].dtype != np.float64:\n",
    "        print(f'[INFO] invalid dtype: column: {column} dtype: {df[column].dtype}')\n",
    "        return False\n",
    "\n",
    "    if (df[column].isnull() == False).sum() < 20:\n",
    "        print(f'[INFO] too few valid samples: column: {column} count: {(df[column].isnull() == False).sum()}')\n",
    "        return False\n",
    "\n",
    "    if (df[column].sem() == 0):\n",
    "        print(f'[INFO] constant column: {column}')\n",
    "        return False\n",
    "\n",
    "    return True"
   ]
  },
  {
   "cell_type": "code",
   "execution_count": 18,
   "id": "9058e59f-84e9-49d5-ae75-695b8585053b",
   "metadata": {
    "collapsed": true,
    "execution": {
     "iopub.execute_input": "2025-05-10T00:16:45.792846Z",
     "iopub.status.busy": "2025-05-10T00:16:45.792740Z",
     "iopub.status.idle": "2025-05-10T00:16:45.837318Z",
     "shell.execute_reply": "2025-05-10T00:16:45.837076Z"
    }
   },
   "outputs": [
    {
     "name": "stdout",
     "output_type": "stream",
     "text": [
      "[INFO] invalid dtype: column: 01-02:siteID dtype: object\n",
      "[INFO] invalid dtype: column: 01-02:screenComment dtype: object\n",
      "[INFO] constant column: 01-02:coreTempLess32p5CGreaterEq2Hr_e\n",
      "[INFO] constant column: 01-02:coreTempLess33p5CGreater1Hr_e\n",
      "[INFO] constant column: 01-02:coreTempLess34CGreater1Hr_e\n",
      "[INFO] constant column: 01-02:first6HrCoolByClinicalProtocol_e\n",
      "[INFO] constant column: 01-02:chromosomalAbnormality_e\n",
      "[INFO] constant column: 01-02:majorCongenitalAnomaly_e\n",
      "[INFO] constant column: 01-02:birthWeightLessEq1800g_e\n",
      "[INFO] constant column: 01-02:infantUnlikelySurvive_e\n",
      "[INFO] constant column: 01-02:first60MinAllBloodGasPHGreater7p15BaseDeficitLess10mEqPerL_e\n",
      "[INFO] constant column: 01-02:postnatalAgeLess6HrOrGreater24Hr_e\n",
      "[INFO] constant column: 01-02:enrolledConflictingTrial_e\n",
      "[INFO] constant column: 01-02:historyPerinatalEvent_i\n",
      "[INFO] constant column: 01-02:at10MinApgarLessEq5OrVent_i\n",
      "[INFO] constant column: 01-02:randomEligible\n",
      "[INFO] invalid dtype: column: 01-02:consentStatus dtype: object\n",
      "[INFO] too few valid samples: column: 01-02:noConsentReason count: 0\n",
      "[INFO] too few valid samples: column: 01-02:noInStudyReason count: 0\n",
      "[INFO] constant column: 01-02:random\n",
      "[INFO] too few valid samples: column: 01-02:noRandomReason count: 0\n",
      "[INFO] too few valid samples: column: 01-02:noRandomReasonText count: 0\n",
      "[INFO] invalid dtype: column: 01-02:randomNumber dtype: int64\n",
      "[INFO] invalid dtype: column: 01-02:randomTreatmentAssign dtype: object\n",
      "[INFO] constant column: 01-02:randomTreatmentReceive\n",
      "[INFO] invalid dtype: column: 01-02:inOtherTrialText dtype: object\n",
      "[INFO] invalid dtype: column: 01-03:motherRace dtype: object\n",
      "[INFO] invalid dtype: column: 01-03:motherRaceOther1 dtype: object\n",
      "[INFO] invalid dtype: column: 01-03:motherRaceOther2 dtype: object\n",
      "[INFO] too few valid samples: column: 01-03:motherRaceOther3 count: 0\n",
      "[INFO] too few valid samples: column: 01-03:motherRaceOther4 count: 0\n",
      "[INFO] too few valid samples: column: 01-03:motherRaceOther5 count: 0\n",
      "[INFO] too few valid samples: column: 01-03:motherRaceOther6 count: 0\n",
      "[INFO] invalid dtype: column: 01-03:motherEthnicity dtype: object\n",
      "[INFO] invalid dtype: column: 01-03:motherMaritalStatus dtype: object\n",
      "[INFO] too few valid samples: column: 01-04:numFetus count: 13\n",
      "[INFO] invalid dtype: column: 01-05:deliveryMode dtype: object\n",
      "[INFO] invalid dtype: column: 01-05:laborAntibioticsCode1 dtype: object\n",
      "[INFO] invalid dtype: column: 01-05:laborAntibioticsCode2 dtype: object\n",
      "[INFO] invalid dtype: column: 01-05:laborAntibioticsCode3 dtype: object\n",
      "[INFO] too few valid samples: column: 01-05:laborAntibioticsCode4 count: 0\n",
      "[INFO] too few valid samples: column: 01-05:laborAntibioticsCode5 count: 0\n",
      "[INFO] too few valid samples: column: 01-05:laborAntibioticsCode6 count: 0\n",
      "[INFO] invalid dtype: column: 01-05_2:deliveryMode dtype: object\n",
      "[INFO] invalid dtype: column: 01-06:cordBloodGasSrc dtype: object\n",
      "[INFO] invalid dtype: column: 01-06:firstPostnatalBloodGasSrc dtype: object\n",
      "[INFO] invalid dtype: column: 01-06:initBloodGasBaseDeficit_mEqPerLSrc dtype: object\n",
      "[INFO] invalid dtype: column: 01-06:initBloodGasPHSrc dtype: object\n",
      "[INFO] invalid dtype: column: 01-07:targetTreatmentTemperature_C dtype: object\n",
      "[INFO] invalid dtype: column: 01-09:pre_PositiveCultureSrc dtype: object\n",
      "[INFO] invalid dtype: column: 01-09:pre_PositiveCultureOrganismCode1 dtype: object\n",
      "[INFO] too few valid samples: column: 01-09:pre_PositiveCultureOrganismCode2 count: 0\n",
      "[INFO] too few valid samples: column: 01-09:pre_PositiveCultureOrganismCode3 count: 0\n",
      "[INFO] invalid dtype: column: 01-09:pre_AntibioticsCode1 dtype: object\n",
      "[INFO] invalid dtype: column: 01-09:pre_AntibioticsCode2 dtype: object\n",
      "[INFO] invalid dtype: column: 01-09:pre_AntibioticsCode3 dtype: object\n",
      "[INFO] invalid dtype: column: 01-10:pre_Anticonvulsants dtype: object\n",
      "[INFO] invalid dtype: column: 01-10:pre_Anticonvulsants1 dtype: object\n",
      "[INFO] invalid dtype: column: 01-10:pre_Anticonvulsants2 dtype: object\n",
      "[INFO] too few valid samples: column: 01-10:pre_Anticonvulsants3 count: 0\n",
      "[INFO] invalid dtype: column: 01-10:pre_AnalgesicsSedatives1 dtype: object\n",
      "[INFO] invalid dtype: column: 01-10:pre_AnalgesicsSedatives2 dtype: object\n",
      "[INFO] invalid dtype: column: 01-10:pre_AnalgesicsSedatives3 dtype: object\n",
      "[INFO] invalid dtype: column: 01-10:pre_Antipyretics1 dtype: object\n",
      "[INFO] too few valid samples: column: 01-10:pre_Antipyretics2 count: 0\n",
      "[INFO] too few valid samples: column: 01-10:pre_Antipyretics3 count: 0\n",
      "[INFO] invalid dtype: column: 01-10:pre_Paralytics1 dtype: object\n",
      "[INFO] too few valid samples: column: 01-10:pre_Paralytics2 count: 0\n",
      "[INFO] too few valid samples: column: 01-10:pre_Paralytics3 count: 0\n",
      "[INFO] too few valid samples: column: 01-10:pre_OtherMedFluidIntake_ccPerKg count: 0\n",
      "[INFO] too few valid samples: column: 01-10:pre_OtherMedUrineOutput_ccPerKg count: 0\n",
      "[INFO] invalid dtype: column: 01-12:pre_NoNeuroExamReason dtype: object\n",
      "[INFO] invalid dtype: column: 03-01_s:noNormothermiaReason dtype: object\n",
      "[INFO] invalid dtype: column: 03-01_s:coolAfterIntervention dtype: object\n",
      "[INFO] invalid dtype: column: 03-01_s:coolAfterInterventionText dtype: object\n",
      "[INFO] too few valid samples: column: 03-04:post_NeuroExamAsymTonicNeckReflex count: 0\n",
      "[INFO] invalid dtype: column: 03-05_s:MRIObtainWindow dtype: object\n",
      "[INFO] invalid dtype: column: 03-05_s:MRIObtainWindow_c dtype: object\n",
      "[INFO] too few valid samples: column: 03-05_s:MRIObtainComment count: 1\n",
      "[INFO] invalid dtype: column: 03-05_s:MRINoObtainReason dtype: object\n",
      "[INFO] invalid dtype: column: 03-05_s:MRINoObtainReason_c dtype: object\n",
      "[INFO] invalid dtype: column: 03-05_s:MRINoObtainReasonText dtype: object\n",
      "[INFO] constant column: 03-05_s:MRIRead\n",
      "[INFO] too few valid samples: column: 03-05_s:MRIScore count: 10\n",
      "[INFO] constant column: 03-05_s:MRINotDone\n",
      "[INFO] too few valid samples: column: 03-05_s:MRIUnread count: 19\n",
      "[INFO] constant column: 03-05_s:MRIAnalysis\n",
      "[INFO] invalid dtype: column: 03-05_s:MRILateralHemisphericDevastation dtype: object\n",
      "[INFO] invalid dtype: column: 03-05_s:MRILateralityMerge dtype: object\n",
      "[INFO] invalid dtype: column: 03-05_s:MRICerebralAtrophyGlobalLocalMerge dtype: object\n",
      "[INFO] invalid dtype: column: 04-01:status dtype: object\n",
      "[INFO] invalid dtype: column: 04-01:dischargeStatus dtype: object\n",
      "[INFO] invalid dtype: column: 04-01:transferReason dtype: object\n",
      "[INFO] invalid dtype: column: 04-01:transferOutcome dtype: object\n",
      "[INFO] constant column: 04-01:homeTherapyVentilator\n",
      "[INFO] constant column: 04-01:homeTherapyTemperatureBlanket\n",
      "[INFO] invalid dtype: column: 04-01:homeTherapyOtherText dtype: object\n",
      "[INFO] constant column: 04-08:dischargeSclerema\n",
      "[INFO] invalid dtype: column: 04-10:dischargeSurgeryCode1 dtype: object\n",
      "[INFO] invalid dtype: column: 04-10:dischargeSurgeryCode2 dtype: object\n",
      "[INFO] invalid dtype: column: 04-10:dischargeSurgeryCode3 dtype: object\n",
      "[INFO] invalid dtype: column: 04-11:dischargeSepticemiaOrganismCode1 dtype: object\n",
      "[INFO] invalid dtype: column: 04-11:dischargeSepticemiaOrganismCode2 dtype: object\n",
      "[INFO] invalid dtype: column: 04-11:dischargeSepticemiaOrganismCode3 dtype: object\n",
      "[INFO] invalid dtype: column: 04-11:dischargeMeningitisOrganismCode1 dtype: object\n",
      "[INFO] too few valid samples: column: 04-11:dischargeMeningitisOrganismCode2 count: 0\n",
      "[INFO] too few valid samples: column: 04-11:dischargeMeningitisOrganismCode3 count: 0\n",
      "[INFO] invalid dtype: column: 04-12:dischargeNeuroExamStatus dtype: object\n",
      "[INFO] invalid dtype: column: 04-14:dischargeBirthDefectCode1 dtype: object\n",
      "[INFO] invalid dtype: column: 04-14:dischargeBirthDefectCode2 dtype: object\n",
      "[INFO] too few valid samples: column: 04-14:dischargeBirthDefectCode3 count: 0\n",
      "[INFO] constant column: 04-15:dischargeHomeTherapyTemperatureBlanket\n",
      "[INFO] invalid dtype: column: 04-15:dischargeHomeTherapyOtherText dtype: object\n"
     ]
    },
    {
     "data": {
      "text/plain": [
       "336"
      ]
     },
     "execution_count": 18,
     "metadata": {},
     "output_type": "execute_result"
    }
   ],
   "source": [
    "x_columns = list(filter(lambda x: _valid_column(df_numeric, x), df_numeric.columns))\n",
    "len(x_columns)"
   ]
  },
  {
   "cell_type": "code",
   "execution_count": 19,
   "id": "a9c0f975-5079-4c64-a8a4-4d248e7eb131",
   "metadata": {
    "collapsed": true,
    "execution": {
     "iopub.execute_input": "2025-05-10T00:16:45.838700Z",
     "iopub.status.busy": "2025-05-10T00:16:45.838623Z",
     "iopub.status.idle": "2025-05-10T00:16:45.841503Z",
     "shell.execute_reply": "2025-05-10T00:16:45.841317Z"
    }
   },
   "outputs": [
    {
     "data": {
      "text/plain": [
       "['01-02:birthNumber',\n",
       " '01-02:first60MinAnyBloodGasPHLessEq7_i',\n",
       " '01-02:first60MinAnyBloodGasBaseDeficitGreaterEq16mEqPerL_i',\n",
       " '01-02:ageRand_hr',\n",
       " '01-02:treatmentBlanketType',\n",
       " '01-02:treatmentAssignmentDuration_hr',\n",
       " '01-02:treatmentAssignmentTemperature',\n",
       " '01-02:usualCoolingTreatmentGroup',\n",
       " '01-02:inOtherTrial',\n",
       " '01-03:motherAge_year',\n",
       " '01-03:motherRace2',\n",
       " '01-03:motherEducation',\n",
       " '01-03:motherEducation2',\n",
       " '01-03:motherInsurance',\n",
       " '01-03:motherInsurancePublic',\n",
       " '01-04:gravida',\n",
       " '01-04:parity',\n",
       " '01-04:multipleBirth',\n",
       " '01-04:prenatalCare',\n",
       " '01-04:hypertensionEclampsia',\n",
       " '01-04:antepartumHemorrhage',\n",
       " '01-04:thyroidMalfunction',\n",
       " '01-04:diabetes',\n",
       " '01-05:ruptureGreater18Hr',\n",
       " '01-05:ruptureBeforeDelivery',\n",
       " '01-05:labor',\n",
       " '01-05:fetalDecelerate',\n",
       " '01-05:cordMishap',\n",
       " '01-05:uterineRupture',\n",
       " '01-05:shoulderDystocia',\n",
       " '01-05:placentalProblem',\n",
       " '01-05:maternalHemorrhage',\n",
       " '01-05:maternalTrauma',\n",
       " '01-05:maternalCardioRespiratoryArrest',\n",
       " '01-05:maternalSeizure',\n",
       " '01-05:perinatalSentinelEvent',\n",
       " '01-05:pyrexiaGreater37p6C',\n",
       " '01-05:chorioamnionitis',\n",
       " '01-05:placentalPathologyPerformed',\n",
       " '01-05:histologicChorioamionitis',\n",
       " '01-05:laborAntibiotics',\n",
       " '01-05:emergencyCSection',\n",
       " '01-05_1:cordMishap',\n",
       " '01-05_1:uterineRupture',\n",
       " '01-05_1:placentalProblem',\n",
       " '01-05_1:shoulderDystocia',\n",
       " '01-05_1:maternalHemorrhage',\n",
       " '01-05_1:maternalTrauma',\n",
       " '01-05_1:maternalCardioRespiratoryArrest',\n",
       " '01-05_1:maternalSeizure',\n",
       " '01-05_1:perinatalSentinelEvent',\n",
       " '01-05_2:emergencyCSection',\n",
       " '01-06:encephalopathyLevel',\n",
       " '01-06:randomInfantAge',\n",
       " '01-06:birthWeight_g',\n",
       " '01-06:birthLength_cm',\n",
       " '01-06:birthHeadCircumference_cm',\n",
       " '01-06:birthGestationalAge_week',\n",
       " '01-06:infantSex',\n",
       " '01-06:maleSex',\n",
       " '01-06:infantOutborn',\n",
       " '01-06:outbornInHospital',\n",
       " '01-06:outbornOutHospital',\n",
       " '01-06:Apgar1min',\n",
       " '01-06:Apgar5min',\n",
       " '01-06:Apgar10min',\n",
       " '01-06:Apgar15min',\n",
       " '01-06:Apgar20min',\n",
       " '01-06:deliveryResuscitation',\n",
       " '01-06:deliveryOxygen',\n",
       " '01-06:deliveryBaggingAndMask',\n",
       " '01-06:deliveryChestCompression',\n",
       " '01-06:deliveryIntubation',\n",
       " '01-06:deliveryDrug',\n",
       " '01-06:at10MinContinueResuscitation',\n",
       " '01-06:at10MinOxygen',\n",
       " '01-06:at10MinBaggingAndMask',\n",
       " '01-06:at10MinChestCompression',\n",
       " '01-06:at10MinIntubation',\n",
       " '01-06:at10MinDrug',\n",
       " '01-06:spontaneousRespirationTime',\n",
       " '01-06:cordBloodGas',\n",
       " '01-06:cordBloodGasPH',\n",
       " '01-06:cordBloodGasPCO2_mmHg',\n",
       " '01-06:cordBloodGasPO2_mmHg',\n",
       " '01-06:cordBloodGasHCO3_mEqPerL',\n",
       " '01-06:cordBloodGasBaseDeficit_mEqPerL',\n",
       " '01-06:firstPostnatalBloodGas',\n",
       " '01-06:firstPostnatalBloodGasPH',\n",
       " '01-06:firstPostnatalBloodGasPCO2_mmHg',\n",
       " '01-06:firstPostnatalBloodGasPO2_mmHg',\n",
       " '01-06:firstPostnatalBloodGasHCO3_mEqPerL',\n",
       " '01-06:firstPostnatalBloodGasBaseDeficit_mEqPerL',\n",
       " '01-06:acidosis',\n",
       " '01-06:Apgar10minLess5',\n",
       " '01-06:Apgar10minLessEq5',\n",
       " '01-06:Apgar5minLessEq5',\n",
       " '01-06:initBloodGasBaseDeficit_mEqPerL',\n",
       " '01-06:initBloodGasPH',\n",
       " '01-07:pre_CoolInitiate',\n",
       " '01-07:pre_CoolPassively',\n",
       " '01-07:pre_CoolClinically',\n",
       " '01-07:pre_AfterOvershootReach33p5C',\n",
       " '01-07:pre_SkinTemperatureMin_C',\n",
       " '01-07:pre_AxillaryTemperatureMin_C',\n",
       " '01-07:pre_EsophagealTemperatureMin_C',\n",
       " '01-07:pre_ServoSetMin_C',\n",
       " '01-07:pre_SkinTemperatureMax_C',\n",
       " '01-07:pre_AxillaryTemperatureMax_C',\n",
       " '01-07:pre_EsophagealTemperatureMax_C',\n",
       " '01-07:pre_ServoSetMax_C',\n",
       " '01-08:pre_CardioSystolicBloodPressure_mmHg',\n",
       " '01-08:pre_CardioDiastolicBloodPressure_mmHg',\n",
       " '01-08:pre_CardioHeartRate_BPM',\n",
       " '01-08:pre_CardioVolumeExpand',\n",
       " '01-08:pre_CardioInotropicAgent',\n",
       " '01-08:pre_CardioBloodTransfusion',\n",
       " '01-08:pre_CardioPlatelets',\n",
       " '01-09:pre_PositiveCulture',\n",
       " '01-09:pre_Antibiotics',\n",
       " '01-12:pre_NeuroExam',\n",
       " '01-12:pre_NeuroExamSignModerateSevereHIE3Category',\n",
       " '01-12:pre_NeuroExamLevelConsciousness',\n",
       " '01-12:pre_NeuroExamSpontaneousActivity',\n",
       " '01-12:pre_NeuroExamPosture',\n",
       " '01-12:pre_NeuroExamTone',\n",
       " '01-12:pre_NeuroExamSuck',\n",
       " '01-12:pre_NeuroExamMoro',\n",
       " '01-12:pre_NeuroExamPupils',\n",
       " '01-12:pre_NeuroExamHeartRate',\n",
       " '01-12:pre_NeuroExamRespiration',\n",
       " '01-12:pre_NeuroExamSedate',\n",
       " '01-12:pre_NeuroExamSeizure',\n",
       " '01-12_1:pre_NeuroExamLevelConsciousnessScore',\n",
       " '01-12_1:pre_NeuroExamSpontaneousActivityScore',\n",
       " '01-12_1:pre_NeuroExamPostureScore',\n",
       " '01-12_1:pre_NeuroExamToneScore',\n",
       " '01-12_1:pre_NeuroExamSuckScore',\n",
       " '01-12_1:pre_NeuroExamMoroScore',\n",
       " '01-12_1:pre_NeuroExamPupilsScore',\n",
       " '01-12_1:pre_NeuroExamHeartRateScore',\n",
       " '01-12_1:pre_NeuroExamRespirationScore',\n",
       " '01-12_1:pre_NeuroExamReflexScore',\n",
       " '01-12_1:pre_NeuroExamANSScore',\n",
       " '01-12_1:pre_TotalModifiedSarnatScore',\n",
       " '03-01_s:normothermiaAtEndIntervention',\n",
       " '03-01_s:normothermiaAxillaryTemperature_C',\n",
       " '03-02:post_BloodValueASTSGOT_UPerL',\n",
       " '03-02:post_BloodValueALTSGPT_UPerL',\n",
       " '03-02:post_BloodValueTotalBilirubin_mgPerdL',\n",
       " '03-04:post_NeuroExamLevelConsciousness',\n",
       " '03-04:post_NeuroExamSpontaneousActivity',\n",
       " '03-04:post_NeuroExamPosture',\n",
       " '03-04:post_NeuroExamTone',\n",
       " '03-04:post_NeuroExamSuck',\n",
       " '03-04:post_NeuroExamMoro',\n",
       " '03-04:post_NeuroExamPupils',\n",
       " '03-04:post_NeuroExamHeartRate',\n",
       " '03-04:post_NeuroExamRespiration',\n",
       " '03-04:post_NeuroExamSeizure',\n",
       " '03-04:post_NeuroExamSedate',\n",
       " '03-04:post_NeuroExamClonusSustained',\n",
       " '03-04:post_NeuroExamFistedHand',\n",
       " '03-04:post_NeuroExamAbnormalMovement',\n",
       " '03-04:post_NeuroExamGagReflexAbsent',\n",
       " '03-04:post_NeuroExamHypertonia',\n",
       " '03-04_1:post_NeuroExamLevelConsciousnessScore',\n",
       " '03-04_1:post_NeuroExamSpontaneousActivityScore',\n",
       " '03-04_1:post_NeuroExamPostureScore',\n",
       " '03-04_1:post_NeuroExamToneScore',\n",
       " '03-04_1:post_NeuroExamSuckScore',\n",
       " '03-04_1:post_NeuroExamMoroScore',\n",
       " '03-04_1:post_NeuroExamPupilsScore',\n",
       " '03-04_1:post_NeuroExamHeartRateScore',\n",
       " '03-04_1:post_NeuroExamRespirationScore',\n",
       " '03-04_1:post_NeuroExamReflexScore',\n",
       " '03-04_1:post_NeuroExamANSScore',\n",
       " '03-04_1:post_TotalModifiedSarnatScore',\n",
       " '03-05:MRINRNPatternOfInjury:1',\n",
       " '03-05:MRINRNPatternOfInjury:2',\n",
       " '03-05:MRINRNPatternOfInjury:3',\n",
       " '03-05_s:MRIAvailable',\n",
       " '03-05_s:MRIAvailable_c',\n",
       " '03-05_s:MRIObtain',\n",
       " '03-05_s:MRI2LevelPatternOfInjury',\n",
       " '03-05_s:MRIAge_day',\n",
       " '03-05_s:MRIOverallDiagnosisMerge',\n",
       " '03-05_s:MRINRNPatternOfInjury',\n",
       " '03-05_s:MRIAbnormalResult',\n",
       " '03-05_s:MRINRNPatternOfInjuryWSvsBGTPLIC',\n",
       " '03-05_s:MRICerebralLesion',\n",
       " '03-05_s:MRICerebellarLesion',\n",
       " '03-05_s:MRIBasalGangliaLesion',\n",
       " '03-05_s:MRIBrainstemLesion',\n",
       " '03-05_s:MRICorpusCallosumLesion',\n",
       " '03-05_s:MRICerebralLesionLobe',\n",
       " '03-05_s:MRICoronaRadiataLesion',\n",
       " '03-05_s:MRIEdema',\n",
       " '03-05_s:MRIExtraAxialLesion',\n",
       " '03-05_s:MRIExtent',\n",
       " '03-05_s:MRIFrontalParietalLesion',\n",
       " '03-05_s:MRIFrontalLesion',\n",
       " '03-05_s:MRIHippocampusLesion',\n",
       " '03-05_s:MRIHypothalamusLesion',\n",
       " '03-05_s:MRIInsularLesion',\n",
       " '03-05_s:MRIBGTMerge',\n",
       " '03-05_s:MRIPLICMerge',\n",
       " '03-05_s:MRIWatershedMerge',\n",
       " '03-05_s:MRIWhiteMatterInjuryMerge',\n",
       " '03-05_s:MRIOccipitalLesion',\n",
       " '03-05_s:MRIOpticChiasmLesion',\n",
       " '03-05_s:MRIOtherLesion',\n",
       " '03-05_s:MRIOtherCerebralLesion',\n",
       " '03-05_s:MRIParasagittalLesion',\n",
       " '03-05_s:MRIParietalLesion',\n",
       " '03-05_s:MRIPreirolandicLesion',\n",
       " '03-05_s:MRIPerisylvianLesion',\n",
       " '03-05_s:MRIPituitaryLesion',\n",
       " '03-05_s:MRIParietalOccipitalLesion',\n",
       " '03-05_s:MRIParietalTemporalLesion',\n",
       " '03-05_s:MRIScalpLesion',\n",
       " '03-05_s:MRIThalamusLesion',\n",
       " '03-05_s:MRITemporalLesion',\n",
       " '03-05_s:MRITemporalOccipitalLesion',\n",
       " '03-05_s:MRICerebralAtrophyMerge',\n",
       " '03-05_s:MRICerebralAtrophyQualAssessCCMerge',\n",
       " '03-05_s:MRIVascularTerritoryInfarctionMerge',\n",
       " '03-05_s:MRIVascularTerritoryInfarctionLeftMerge',\n",
       " '03-05_s:MRIVascularTerritoryInfarctionRightMerge',\n",
       " '03-05_s:MRIHemisphericDevastation',\n",
       " '03-05_s:MRIVentricularDilatation',\n",
       " '03-05_s:MRIVascularLesion',\n",
       " '03-05_s:MRIIntraventricularLesion',\n",
       " '03-05_s1:MRINRNPatternOfInjuryMerge',\n",
       " '03-05_s1:MRINRNPatternOfInjuryAvg',\n",
       " '03-05_s1:MRINRNPatternOfInjuryMax',\n",
       " '04-01:dischargeWeight_g',\n",
       " '04-01:dischargeLength_cm',\n",
       " '04-01:dischargeHeadCircumference_cm',\n",
       " '04-01:transferWeight_g',\n",
       " '04-01:transferLength_cm',\n",
       " '04-01:transferHeadCircumference_cm',\n",
       " '04-01:homeTherapyStatus',\n",
       " '04-01:homeTherapyOxygen',\n",
       " '04-01:homeTherapyGavageTubeFeed',\n",
       " '04-01:homeTherapyGastrostomyTubeFeed',\n",
       " '04-01:homeTherapyAnticonvulsantMedication',\n",
       " '04-01:homeTherapyOther',\n",
       " '04-01_1:lengthOfStay_day',\n",
       " '04-02:dischargeCardiomegaly',\n",
       " '04-02:dischargeCardiacFailure',\n",
       " '04-02:dischargeCardiacDysfunctionByEcho',\n",
       " '04-02:dischargeCardiacIschemiaByEKG',\n",
       " '04-02:dischargeHypotension',\n",
       " '04-02:dischargeArrhythmia',\n",
       " '04-02:dischargeInotropicAgent',\n",
       " '04-03:dischargeMeconiumAspirationSyndrome',\n",
       " '04-03:dischargePPHN',\n",
       " '04-03:dischargePulmonaryHemorrhage',\n",
       " '04-03:dischargePenumonia',\n",
       " '04-03:dischargeChronicLungDisease',\n",
       " '04-03:dischargeECMO',\n",
       " '04-03:dischargeINO',\n",
       " '04-03:dischargeVentilator_day',\n",
       " '04-03:dischargeOxygen_day',\n",
       " '04-03:dischargeCPAP_day',\n",
       " '04-04:dischargeDIC',\n",
       " '04-05:dischargeHypoglycemia',\n",
       " '04-05:dischargeHypocalcemia',\n",
       " '04-05:dischargeHypomagnesemia',\n",
       " '04-06:dischargeOliguria',\n",
       " '04-06:dischargeAnuria',\n",
       " '04-06:dischargeDialysis',\n",
       " '04-07:dischargeEnteralFeedStart_day',\n",
       " '04-07:dischargeTubeFeedingDuration_day',\n",
       " '04-07:dischargeFullNippleFeed',\n",
       " '04-07:dischargeFullNippleFeed_day',\n",
       " '04-07:dischargeNEC',\n",
       " '04-07:dischargeHepaticDysfunction',\n",
       " '04-08:dischargeAlteredSkinItegrityPostIntervention',\n",
       " '04-08:dischargeErythema',\n",
       " '04-08:dischargeCyanosis',\n",
       " '04-08:dischargeSubFatNecrosis',\n",
       " '04-09:dischargeHearingTest',\n",
       " '04-09:dischargeHearingTestNormal',\n",
       " '04-10:dischargeMajorSurgery',\n",
       " '04-11:dischargeSepticemia',\n",
       " '04-11:dischargeMeningitisEncephalitis',\n",
       " '04-12:dischargeNeuroExamLevelConsciousness',\n",
       " '04-12:dischargeNeuroExamSpontaneousActivity',\n",
       " '04-12:dischargeNeuroExamPosture',\n",
       " '04-12:dischargeNeuroExamTone',\n",
       " '04-12:dischargeNeuroExamSuck',\n",
       " '04-12:dischargeNeuroExamMoro',\n",
       " '04-12:dischargeNeuroExamPupils',\n",
       " '04-12:dischargeNeuroExamHeartRate',\n",
       " '04-12:dischargeNeuroExamRespiration',\n",
       " '04-12:dischargeNeuroExamSeizure',\n",
       " '04-12:dischargeNeuroExamClonusSustained',\n",
       " '04-12:dischargeNeuroExamFistedHand',\n",
       " '04-12:dischargeNeuroExamAbnormalMovement',\n",
       " '04-12:dischargeNeuroExamGagReflexAbsent',\n",
       " '04-12:dischargeNeuroExamSedate',\n",
       " '04-12:dischargeNeuroExamHypertonia',\n",
       " '04-12:dischargeNeuroExamAsymTonicNeckReflex',\n",
       " '04-12_1:dischargeNeuroExamLevelConsciousnessScore',\n",
       " '04-12_1:dischargeNeuroExamSpontaneousActivityScore',\n",
       " '04-12_1:dischargeNeuroExamPostureScore',\n",
       " '04-12_1:dischargeNeuroExamToneScore',\n",
       " '04-12_1:dischargeNeuroExamSuckScore',\n",
       " '04-12_1:dischargeNeuroExamMoroScore',\n",
       " '04-12_1:dischargeNeuroExamPupilsScore',\n",
       " '04-12_1:dischargeNeuroExamHeartRateScore',\n",
       " '04-12_1:dischargeNeuroExamRespirationScore',\n",
       " '04-12_1:dischargeNeuroExamReflexScore',\n",
       " '04-12_1:dischargeNeuroExamANSScore',\n",
       " '04-12_1:dischargeTotalModifiedSarnatScore',\n",
       " '04-13:dischargeSeizure',\n",
       " '04-13:dischargeSeizurePreIntervention',\n",
       " '04-13:dischargeSeizureAfterBaseline',\n",
       " '04-13:dischargeSeizureMaintenance',\n",
       " '04-13:dischargeSeizureRewarming',\n",
       " '04-13:dischargeSeizurePostIntervention',\n",
       " '04-13:dischargeEEG',\n",
       " '04-13:dischargeEEGFindingConsistentWithSeizure',\n",
       " '04-13:dischargeEEGAbnormalBackgroundActivity',\n",
       " '04-13:dischargeAnticonvulsantsGreater72H',\n",
       " '04-13:dischargeAnticonvulsants',\n",
       " '04-14:dischargeSyndromeMalformation',\n",
       " '04-15:dischargeHomeTherapy',\n",
       " '04-15:dischargeHomeTherapyVentilator',\n",
       " '04-15:dischargeHomeTherapyOxygen',\n",
       " '04-15:dischargeHomeTherapyGavageTubeFeed',\n",
       " '04-15:dischargeHomeTherapyGastrostomyTubeFeed',\n",
       " '04-15:dischargeHomeTherapyAnticonvulsantMedication',\n",
       " '04-15:dischargeHomeTherapyOther']"
      ]
     },
     "execution_count": 19,
     "metadata": {},
     "output_type": "execute_result"
    }
   ],
   "source": [
    "x_columns"
   ]
  },
  {
   "cell_type": "code",
   "execution_count": 20,
   "id": "f6d7c949-2485-42f4-9039-71628d63a22f",
   "metadata": {
    "collapsed": true,
    "execution": {
     "iopub.execute_input": "2025-05-10T00:16:45.842630Z",
     "iopub.status.busy": "2025-05-10T00:16:45.842561Z",
     "iopub.status.idle": "2025-05-10T00:17:57.846728Z",
     "shell.execute_reply": "2025-05-10T00:17:57.846461Z"
    }
   },
   "outputs": [
    {
     "name": "stderr",
     "output_type": "stream",
     "text": [
      "\r",
      "  0%|          | 0/336 [00:00<?, ?it/s]"
     ]
    },
    {
     "name": "stdout",
     "output_type": "stream",
     "text": [
      "_corr_coeff: to eval: x: 01-02:birthNumber y: 20-10:moderateSevereDisabilityOrDeath valid_x: 532 valid_y: 504\n",
      "_corr_coeff: done: x: 01-02:birthNumber y: 20-10:moderateSevereDisabilityOrDeath\n"
     ]
    },
    {
     "name": "stdout",
     "output_type": "stream",
     "text": [
      "_corr_coeff: to eval: x: 01-02:birthNumber y: 20-10:disabilityLevelDeath4Category valid_x: 532 valid_y: 498\n",
      "_corr_coeff: done: x: 01-02:birthNumber y: 20-10:disabilityLevelDeath4Category\n",
      "_corr_coeff: to eval: x: 01-02:birthNumber y: 20-10_1:disabilityLevelDeath valid_x: 532 valid_y: 498\n",
      "_corr_coeff: done: x: 01-02:birthNumber y: 20-10_1:disabilityLevelDeath\n",
      "_corr_coeff: to eval: x: 01-02:birthNumber y: 20-04:BayleyIIICognitiveComposite valid_x: 532 valid_y: 421\n",
      "_corr_coeff: done: x: 01-02:birthNumber y: 20-04:BayleyIIICognitiveComposite\n"
     ]
    },
    {
     "name": "stderr",
     "output_type": "stream",
     "text": [
      "\r",
      "  0%|          | 1/336 [00:00<01:10,  4.74it/s]"
     ]
    },
    {
     "name": "stdout",
     "output_type": "stream",
     "text": [
      "_corr_coeff: to eval: x: 01-02:birthNumber y: 20-04:BayleyIIILanguageComposite valid_x: 532 valid_y: 411\n",
      "_corr_coeff: done: x: 01-02:birthNumber y: 20-04:BayleyIIILanguageComposite\n",
      "_corr_coeff: to eval: x: 01-02:birthNumber y: 20-04:BayleyIIIMotorComposite valid_x: 532 valid_y: 415\n",
      "_corr_coeff: done: x: 01-02:birthNumber y: 20-04:BayleyIIIMotorComposite\n"
     ]
    },
    {
     "name": "stdout",
     "output_type": "stream",
     "text": [
      "_corr_coeff: to eval: x: 01-02:first60MinAnyBloodGasPHLessEq7_i y: 20-10:moderateSevereDisabilityOrDeath valid_x: 506 valid_y: 504\n",
      "_corr_coeff: done: x: 01-02:first60MinAnyBloodGasPHLessEq7_i y: 20-10:moderateSevereDisabilityOrDeath\n",
      "_corr_coeff: to eval: x: 01-02:first60MinAnyBloodGasPHLessEq7_i y: 20-10:disabilityLevelDeath4Category valid_x: 506 valid_y: 498\n",
      "_corr_coeff: done: x: 01-02:first60MinAnyBloodGasPHLessEq7_i y: 20-10:disabilityLevelDeath4Category\n"
     ]
    },
    {
     "name": "stdout",
     "output_type": "stream",
     "text": [
      "_corr_coeff: to eval: x: 01-02:first60MinAnyBloodGasPHLessEq7_i y: 20-10_1:disabilityLevelDeath valid_x: 506 valid_y: 498\n",
      "_corr_coeff: done: x: 01-02:first60MinAnyBloodGasPHLessEq7_i y: 20-10_1:disabilityLevelDeath\n",
      "_corr_coeff: to eval: x: 01-02:first60MinAnyBloodGasPHLessEq7_i y: 20-04:BayleyIIICognitiveComposite valid_x: 506 valid_y: 421\n",
      "_corr_coeff: done: x: 01-02:first60MinAnyBloodGasPHLessEq7_i y: 20-04:BayleyIIICognitiveComposite\n"
     ]
    },
    {
     "name": "stdout",
     "output_type": "stream",
     "text": [
      "_corr_coeff: to eval: x: 01-02:first60MinAnyBloodGasPHLessEq7_i y: 20-04:BayleyIIILanguageComposite valid_x: 506 valid_y: 411\n",
      "_corr_coeff: done: x: 01-02:first60MinAnyBloodGasPHLessEq7_i y: 20-04:BayleyIIILanguageComposite\n"
     ]
    },
    {
     "name": "stderr",
     "output_type": "stream",
     "text": [
      "\r",
      "  1%|          | 2/336 [00:00<01:18,  4.23it/s]"
     ]
    },
    {
     "name": "stdout",
     "output_type": "stream",
     "text": [
      "_corr_coeff: to eval: x: 01-02:first60MinAnyBloodGasPHLessEq7_i y: 20-04:BayleyIIIMotorComposite valid_x: 506 valid_y: 415\n",
      "_corr_coeff: done: x: 01-02:first60MinAnyBloodGasPHLessEq7_i y: 20-04:BayleyIIIMotorComposite\n",
      "_corr_coeff: to eval: x: 01-02:first60MinAnyBloodGasBaseDeficitGreaterEq16mEqPerL_i y: 20-10:moderateSevereDisabilityOrDeath valid_x: 481 valid_y: 504\n",
      "_corr_coeff: done: x: 01-02:first60MinAnyBloodGasBaseDeficitGreaterEq16mEqPerL_i y: 20-10:moderateSevereDisabilityOrDeath\n"
     ]
    },
    {
     "name": "stdout",
     "output_type": "stream",
     "text": [
      "_corr_coeff: to eval: x: 01-02:first60MinAnyBloodGasBaseDeficitGreaterEq16mEqPerL_i y: 20-10:disabilityLevelDeath4Category valid_x: 481 valid_y: 498\n",
      "_corr_coeff: done: x: 01-02:first60MinAnyBloodGasBaseDeficitGreaterEq16mEqPerL_i y: 20-10:disabilityLevelDeath4Category\n",
      "_corr_coeff: to eval: x: 01-02:first60MinAnyBloodGasBaseDeficitGreaterEq16mEqPerL_i y: 20-10_1:disabilityLevelDeath valid_x: 481 valid_y: 498\n",
      "_corr_coeff: done: x: 01-02:first60MinAnyBloodGasBaseDeficitGreaterEq16mEqPerL_i y: 20-10_1:disabilityLevelDeath\n",
      "_corr_coeff: to eval: x: 01-02:first60MinAnyBloodGasBaseDeficitGreaterEq16mEqPerL_i y: 20-04:BayleyIIICognitiveComposite valid_x: 481 valid_y: 421\n",
      "_corr_coeff: done: x: 01-02:first60MinAnyBloodGasBaseDeficitGreaterEq16mEqPerL_i y: 20-04:BayleyIIICognitiveComposite\n",
      "_corr_coeff: to eval: x: 01-02:first60MinAnyBloodGasBaseDeficitGreaterEq16mEqPerL_i y: 20-04:BayleyIIILanguageComposite valid_x: 481 valid_y: 411\n",
      "_corr_coeff: done: x: 01-02:first60MinAnyBloodGasBaseDeficitGreaterEq16mEqPerL_i y: 20-04:BayleyIIILanguageComposite\n"
     ]
    },
    {
     "name": "stderr",
     "output_type": "stream",
     "text": [
      "\r",
      "  1%|          | 3/336 [00:00<01:12,  4.57it/s]"
     ]
    },
    {
     "name": "stdout",
     "output_type": "stream",
     "text": [
      "_corr_coeff: to eval: x: 01-02:first60MinAnyBloodGasBaseDeficitGreaterEq16mEqPerL_i y: 20-04:BayleyIIIMotorComposite valid_x: 481 valid_y: 415\n",
      "_corr_coeff: done: x: 01-02:first60MinAnyBloodGasBaseDeficitGreaterEq16mEqPerL_i y: 20-04:BayleyIIIMotorComposite\n"
     ]
    },
    {
     "name": "stdout",
     "output_type": "stream",
     "text": [
      "_corr_coeff: to eval: x: 01-02:ageRand_hr y: 20-10:moderateSevereDisabilityOrDeath valid_x: 363 valid_y: 504\n",
      "_corr_coeff: done: x: 01-02:ageRand_hr y: 20-10:moderateSevereDisabilityOrDeath\n",
      "_corr_coeff: to eval: x: 01-02:ageRand_hr y: 20-10:disabilityLevelDeath4Category valid_x: 363 valid_y: 498\n",
      "_corr_coeff: done: x: 01-02:ageRand_hr y: 20-10:disabilityLevelDeath4Category\n"
     ]
    },
    {
     "name": "stdout",
     "output_type": "stream",
     "text": [
      "_corr_coeff: to eval: x: 01-02:ageRand_hr y: 20-10_1:disabilityLevelDeath valid_x: 363 valid_y: 498\n",
      "_corr_coeff: done: x: 01-02:ageRand_hr y: 20-10_1:disabilityLevelDeath\n",
      "_corr_coeff: to eval: x: 01-02:ageRand_hr y: 20-04:BayleyIIICognitiveComposite valid_x: 363 valid_y: 421\n",
      "_corr_coeff: done: x: 01-02:ageRand_hr y: 20-04:BayleyIIICognitiveComposite\n"
     ]
    },
    {
     "name": "stdout",
     "output_type": "stream",
     "text": [
      "_corr_coeff: to eval: x: 01-02:ageRand_hr y: 20-04:BayleyIIILanguageComposite valid_x: 363 valid_y: 411\n",
      "_corr_coeff: done: x: 01-02:ageRand_hr y: 20-04:BayleyIIILanguageComposite\n",
      "_corr_coeff: to eval: x: 01-02:ageRand_hr y: 20-04:BayleyIIIMotorComposite valid_x: 363 valid_y: 415\n",
      "_corr_coeff: done: x: 01-02:ageRand_hr y: 20-04:BayleyIIIMotorComposite\n"
     ]
    },
    {
     "name": "stderr",
     "output_type": "stream",
     "text": [
      "\r",
      "  1%|          | 4/336 [00:00<01:14,  4.43it/s]"
     ]
    },
    {
     "name": "stdout",
     "output_type": "stream",
     "text": [
      "_corr_coeff: to eval: x: 01-02:treatmentBlanketType y: 20-10:moderateSevereDisabilityOrDeath valid_x: 364 valid_y: 504\n",
      "_corr_coeff: done: x: 01-02:treatmentBlanketType y: 20-10:moderateSevereDisabilityOrDeath\n"
     ]
    },
    {
     "name": "stdout",
     "output_type": "stream",
     "text": [
      "_corr_coeff: to eval: x: 01-02:treatmentBlanketType y: 20-10:disabilityLevelDeath4Category valid_x: 364 valid_y: 498\n",
      "_corr_coeff: done: x: 01-02:treatmentBlanketType y: 20-10:disabilityLevelDeath4Category\n",
      "_corr_coeff: to eval: x: 01-02:treatmentBlanketType y: 20-10_1:disabilityLevelDeath valid_x: 364 valid_y: 498\n",
      "_corr_coeff: done: x: 01-02:treatmentBlanketType y: 20-10_1:disabilityLevelDeath\n",
      "_corr_coeff: to eval: x: 01-02:treatmentBlanketType y: 20-04:BayleyIIICognitiveComposite valid_x: 364 valid_y: 421\n",
      "_corr_coeff: done: x: 01-02:treatmentBlanketType y: 20-04:BayleyIIICognitiveComposite\n",
      "_corr_coeff: to eval: x: 01-02:treatmentBlanketType y: 20-04:BayleyIIILanguageComposite valid_x: 364 valid_y: 411\n",
      "_corr_coeff: done: x: 01-02:treatmentBlanketType y: 20-04:BayleyIIILanguageComposite\n"
     ]
    },
    {
     "name": "stderr",
     "output_type": "stream",
     "text": [
      "\r",
      "  1%|▏         | 5/336 [00:01<01:09,  4.75it/s]"
     ]
    },
    {
     "name": "stdout",
     "output_type": "stream",
     "text": [
      "_corr_coeff: to eval: x: 01-02:treatmentBlanketType y: 20-04:BayleyIIIMotorComposite valid_x: 364 valid_y: 415\n",
      "_corr_coeff: done: x: 01-02:treatmentBlanketType y: 20-04:BayleyIIIMotorComposite\n",
      "_corr_coeff: to eval: x: 01-02:treatmentAssignmentDuration_hr y: 20-10:moderateSevereDisabilityOrDeath valid_x: 364 valid_y: 504\n",
      "_corr_coeff: done: x: 01-02:treatmentAssignmentDuration_hr y: 20-10:moderateSevereDisabilityOrDeath\n"
     ]
    },
    {
     "name": "stdout",
     "output_type": "stream",
     "text": [
      "_corr_coeff: to eval: x: 01-02:treatmentAssignmentDuration_hr y: 20-10:disabilityLevelDeath4Category valid_x: 364 valid_y: 498\n",
      "_corr_coeff: done: x: 01-02:treatmentAssignmentDuration_hr y: 20-10:disabilityLevelDeath4Category\n"
     ]
    },
    {
     "name": "stdout",
     "output_type": "stream",
     "text": [
      "_corr_coeff: to eval: x: 01-02:treatmentAssignmentDuration_hr y: 20-10_1:disabilityLevelDeath valid_x: 364 valid_y: 498\n",
      "_corr_coeff: done: x: 01-02:treatmentAssignmentDuration_hr y: 20-10_1:disabilityLevelDeath\n",
      "_corr_coeff: to eval: x: 01-02:treatmentAssignmentDuration_hr y: 20-04:BayleyIIICognitiveComposite valid_x: 364 valid_y: 421\n",
      "_corr_coeff: done: x: 01-02:treatmentAssignmentDuration_hr y: 20-04:BayleyIIICognitiveComposite\n"
     ]
    },
    {
     "name": "stdout",
     "output_type": "stream",
     "text": [
      "_corr_coeff: to eval: x: 01-02:treatmentAssignmentDuration_hr y: 20-04:BayleyIIILanguageComposite valid_x: 364 valid_y: 411\n",
      "_corr_coeff: done: x: 01-02:treatmentAssignmentDuration_hr y: 20-04:BayleyIIILanguageComposite\n"
     ]
    },
    {
     "name": "stderr",
     "output_type": "stream",
     "text": [
      "\r",
      "  2%|▏         | 6/336 [00:01<01:16,  4.32it/s]"
     ]
    },
    {
     "name": "stdout",
     "output_type": "stream",
     "text": [
      "_corr_coeff: to eval: x: 01-02:treatmentAssignmentDuration_hr y: 20-04:BayleyIIIMotorComposite valid_x: 364 valid_y: 415\n",
      "_corr_coeff: done: x: 01-02:treatmentAssignmentDuration_hr y: 20-04:BayleyIIIMotorComposite\n",
      "_corr_coeff: to eval: x: 01-02:treatmentAssignmentTemperature y: 20-10:moderateSevereDisabilityOrDeath valid_x: 364 valid_y: 504\n",
      "_corr_coeff: done: x: 01-02:treatmentAssignmentTemperature y: 20-10:moderateSevereDisabilityOrDeath\n",
      "_corr_coeff: to eval: x: 01-02:treatmentAssignmentTemperature y: 20-10:disabilityLevelDeath4Category valid_x: 364 valid_y: 498\n",
      "_corr_coeff: done: x: 01-02:treatmentAssignmentTemperature y: 20-10:disabilityLevelDeath4Category\n"
     ]
    },
    {
     "name": "stdout",
     "output_type": "stream",
     "text": [
      "_corr_coeff: to eval: x: 01-02:treatmentAssignmentTemperature y: 20-10_1:disabilityLevelDeath valid_x: 364 valid_y: 498\n",
      "_corr_coeff: done: x: 01-02:treatmentAssignmentTemperature y: 20-10_1:disabilityLevelDeath\n",
      "_corr_coeff: to eval: x: 01-02:treatmentAssignmentTemperature y: 20-04:BayleyIIICognitiveComposite valid_x: 364 valid_y: 421\n",
      "_corr_coeff: done: x: 01-02:treatmentAssignmentTemperature y: 20-04:BayleyIIICognitiveComposite\n",
      "_corr_coeff: to eval: x: 01-02:treatmentAssignmentTemperature y: 20-04:BayleyIIILanguageComposite valid_x: 364 valid_y: 411\n",
      "_corr_coeff: done: x: 01-02:treatmentAssignmentTemperature y: 20-04:BayleyIIILanguageComposite\n"
     ]
    },
    {
     "name": "stderr",
     "output_type": "stream",
     "text": [
      "\r",
      "  2%|▏         | 7/336 [00:01<01:10,  4.63it/s]"
     ]
    },
    {
     "name": "stdout",
     "output_type": "stream",
     "text": [
      "_corr_coeff: to eval: x: 01-02:treatmentAssignmentTemperature y: 20-04:BayleyIIIMotorComposite valid_x: 364 valid_y: 415\n",
      "_corr_coeff: done: x: 01-02:treatmentAssignmentTemperature y: 20-04:BayleyIIIMotorComposite\n"
     ]
    },
    {
     "name": "stdout",
     "output_type": "stream",
     "text": [
      "_corr_coeff: to eval: x: 01-02:usualCoolingTreatmentGroup y: 20-10:moderateSevereDisabilityOrDeath valid_x: 364 valid_y: 504\n",
      "_corr_coeff: done: x: 01-02:usualCoolingTreatmentGroup y: 20-10:moderateSevereDisabilityOrDeath\n"
     ]
    },
    {
     "name": "stdout",
     "output_type": "stream",
     "text": [
      "_corr_coeff: to eval: x: 01-02:usualCoolingTreatmentGroup y: 20-10:disabilityLevelDeath4Category valid_x: 364 valid_y: 498\n",
      "_corr_coeff: done: x: 01-02:usualCoolingTreatmentGroup y: 20-10:disabilityLevelDeath4Category\n",
      "_corr_coeff: to eval: x: 01-02:usualCoolingTreatmentGroup y: 20-10_1:disabilityLevelDeath valid_x: 364 valid_y: 498\n",
      "_corr_coeff: done: x: 01-02:usualCoolingTreatmentGroup y: 20-10_1:disabilityLevelDeath\n",
      "_corr_coeff: to eval: x: 01-02:usualCoolingTreatmentGroup y: 20-04:BayleyIIICognitiveComposite valid_x: 364 valid_y: 421\n",
      "_corr_coeff: done: x: 01-02:usualCoolingTreatmentGroup y: 20-04:BayleyIIICognitiveComposite\n"
     ]
    },
    {
     "name": "stdout",
     "output_type": "stream",
     "text": [
      "_corr_coeff: to eval: x: 01-02:usualCoolingTreatmentGroup y: 20-04:BayleyIIILanguageComposite valid_x: 364 valid_y: 411\n",
      "_corr_coeff: done: x: 01-02:usualCoolingTreatmentGroup y: 20-04:BayleyIIILanguageComposite\n"
     ]
    },
    {
     "name": "stderr",
     "output_type": "stream",
     "text": [
      "\r",
      "  2%|▏         | 8/336 [00:01<01:14,  4.41it/s]"
     ]
    },
    {
     "name": "stdout",
     "output_type": "stream",
     "text": [
      "_corr_coeff: to eval: x: 01-02:usualCoolingTreatmentGroup y: 20-04:BayleyIIIMotorComposite valid_x: 364 valid_y: 415\n",
      "_corr_coeff: done: x: 01-02:usualCoolingTreatmentGroup y: 20-04:BayleyIIIMotorComposite\n",
      "_corr_coeff: to eval: x: 01-02:inOtherTrial y: 20-10:moderateSevereDisabilityOrDeath valid_x: 531 valid_y: 504\n",
      "_corr_coeff: done: x: 01-02:inOtherTrial y: 20-10:moderateSevereDisabilityOrDeath\n",
      "_corr_coeff: to eval: x: 01-02:inOtherTrial y: 20-10:disabilityLevelDeath4Category valid_x: 531 valid_y: 498\n",
      "_corr_coeff: done: x: 01-02:inOtherTrial y: 20-10:disabilityLevelDeath4Category\n"
     ]
    },
    {
     "name": "stdout",
     "output_type": "stream",
     "text": [
      "_corr_coeff: to eval: x: 01-02:inOtherTrial y: 20-10_1:disabilityLevelDeath valid_x: 531 valid_y: 498\n",
      "_corr_coeff: done: x: 01-02:inOtherTrial y: 20-10_1:disabilityLevelDeath\n",
      "_corr_coeff: to eval: x: 01-02:inOtherTrial y: 20-04:BayleyIIICognitiveComposite valid_x: 531 valid_y: 421\n",
      "_corr_coeff: done: x: 01-02:inOtherTrial y: 20-04:BayleyIIICognitiveComposite\n",
      "_corr_coeff: to eval: x: 01-02:inOtherTrial y: 20-04:BayleyIIILanguageComposite valid_x: 531 valid_y: 411\n",
      "_corr_coeff: done: x: 01-02:inOtherTrial y: 20-04:BayleyIIILanguageComposite\n"
     ]
    },
    {
     "name": "stdout",
     "output_type": "stream",
     "text": [
      "_corr_coeff: to eval: x: 01-02:inOtherTrial y: 20-04:BayleyIIIMotorComposite valid_x: 531 valid_y: 415\n",
      "_corr_coeff: done: x: 01-02:inOtherTrial y: 20-04:BayleyIIIMotorComposite\n"
     ]
    },
    {
     "name": "stderr",
     "output_type": "stream",
     "text": [
      "\r",
      "  3%|▎         | 9/336 [00:01<01:11,  4.55it/s]"
     ]
    },
    {
     "name": "stdout",
     "output_type": "stream",
     "text": [
      "_corr_coeff: to eval: x: 01-03:motherAge_year y: 20-10:moderateSevereDisabilityOrDeath valid_x: 532 valid_y: 504\n",
      "_corr_coeff: done: x: 01-03:motherAge_year y: 20-10:moderateSevereDisabilityOrDeath\n"
     ]
    },
    {
     "name": "stdout",
     "output_type": "stream",
     "text": [
      "_corr_coeff: to eval: x: 01-03:motherAge_year y: 20-10:disabilityLevelDeath4Category valid_x: 532 valid_y: 498\n",
      "_corr_coeff: done: x: 01-03:motherAge_year y: 20-10:disabilityLevelDeath4Category\n",
      "_corr_coeff: to eval: x: 01-03:motherAge_year y: 20-10_1:disabilityLevelDeath valid_x: 532 valid_y: 498\n",
      "_corr_coeff: done: x: 01-03:motherAge_year y: 20-10_1:disabilityLevelDeath\n",
      "_corr_coeff: to eval: x: 01-03:motherAge_year y: 20-04:BayleyIIICognitiveComposite valid_x: 532 valid_y: 421\n",
      "_corr_coeff: done: x: 01-03:motherAge_year y: 20-04:BayleyIIICognitiveComposite\n"
     ]
    },
    {
     "name": "stderr",
     "output_type": "stream",
     "text": [
      "\r",
      "  3%|▎         | 10/336 [00:02<01:15,  4.31it/s]"
     ]
    },
    {
     "name": "stdout",
     "output_type": "stream",
     "text": [
      "_corr_coeff: to eval: x: 01-03:motherAge_year y: 20-04:BayleyIIILanguageComposite valid_x: 532 valid_y: 411\n",
      "_corr_coeff: done: x: 01-03:motherAge_year y: 20-04:BayleyIIILanguageComposite\n",
      "_corr_coeff: to eval: x: 01-03:motherAge_year y: 20-04:BayleyIIIMotorComposite valid_x: 532 valid_y: 415\n",
      "_corr_coeff: done: x: 01-03:motherAge_year y: 20-04:BayleyIIIMotorComposite\n"
     ]
    },
    {
     "name": "stdout",
     "output_type": "stream",
     "text": [
      "_corr_coeff: to eval: x: 01-03:motherRace2 y: 20-10:moderateSevereDisabilityOrDeath valid_x: 358 valid_y: 504\n",
      "_corr_coeff: done: x: 01-03:motherRace2 y: 20-10:moderateSevereDisabilityOrDeath\n",
      "_corr_coeff: to eval: x: 01-03:motherRace2 y: 20-10:disabilityLevelDeath4Category valid_x: 358 valid_y: 498\n",
      "_corr_coeff: done: x: 01-03:motherRace2 y: 20-10:disabilityLevelDeath4Category\n"
     ]
    },
    {
     "name": "stdout",
     "output_type": "stream",
     "text": [
      "_corr_coeff: to eval: x: 01-03:motherRace2 y: 20-10_1:disabilityLevelDeath valid_x: 358 valid_y: 498\n",
      "_corr_coeff: done: x: 01-03:motherRace2 y: 20-10_1:disabilityLevelDeath\n",
      "_corr_coeff: to eval: x: 01-03:motherRace2 y: 20-04:BayleyIIICognitiveComposite valid_x: 358 valid_y: 421\n",
      "_corr_coeff: done: x: 01-03:motherRace2 y: 20-04:BayleyIIICognitiveComposite\n",
      "_corr_coeff: to eval: x: 01-03:motherRace2 y: 20-04:BayleyIIILanguageComposite valid_x: 358 valid_y: 411\n",
      "_corr_coeff: done: x: 01-03:motherRace2 y: 20-04:BayleyIIILanguageComposite\n"
     ]
    },
    {
     "name": "stderr",
     "output_type": "stream",
     "text": [
      "\r",
      "  3%|▎         | 11/336 [00:02<01:16,  4.25it/s]"
     ]
    },
    {
     "name": "stdout",
     "output_type": "stream",
     "text": [
      "_corr_coeff: to eval: x: 01-03:motherRace2 y: 20-04:BayleyIIIMotorComposite valid_x: 358 valid_y: 415\n",
      "_corr_coeff: done: x: 01-03:motherRace2 y: 20-04:BayleyIIIMotorComposite\n",
      "_corr_coeff: to eval: x: 01-03:motherEducation y: 20-10:moderateSevereDisabilityOrDeath valid_x: 450 valid_y: 504\n",
      "_corr_coeff: done: x: 01-03:motherEducation y: 20-10:moderateSevereDisabilityOrDeath\n"
     ]
    },
    {
     "name": "stderr",
     "output_type": "stream",
     "text": [
      "\r",
      "  4%|▎         | 12/336 [00:02<01:12,  4.48it/s]"
     ]
    },
    {
     "name": "stdout",
     "output_type": "stream",
     "text": [
      "_corr_coeff: to eval: x: 01-03:motherEducation y: 20-10:disabilityLevelDeath4Category valid_x: 450 valid_y: 498\n",
      "_corr_coeff: done: x: 01-03:motherEducation y: 20-10:disabilityLevelDeath4Category\n",
      "_corr_coeff: to eval: x: 01-03:motherEducation y: 20-10_1:disabilityLevelDeath valid_x: 450 valid_y: 498\n",
      "_corr_coeff: done: x: 01-03:motherEducation y: 20-10_1:disabilityLevelDeath\n",
      "_corr_coeff: to eval: x: 01-03:motherEducation y: 20-04:BayleyIIICognitiveComposite valid_x: 450 valid_y: 421\n",
      "_corr_coeff: done: x: 01-03:motherEducation y: 20-04:BayleyIIICognitiveComposite\n",
      "_corr_coeff: to eval: x: 01-03:motherEducation y: 20-04:BayleyIIILanguageComposite valid_x: 450 valid_y: 411\n",
      "_corr_coeff: done: x: 01-03:motherEducation y: 20-04:BayleyIIILanguageComposite\n",
      "_corr_coeff: to eval: x: 01-03:motherEducation y: 20-04:BayleyIIIMotorComposite valid_x: 450 valid_y: 415\n",
      "_corr_coeff: done: x: 01-03:motherEducation y: 20-04:BayleyIIIMotorComposite\n"
     ]
    },
    {
     "name": "stdout",
     "output_type": "stream",
     "text": [
      "_corr_coeff: to eval: x: 01-03:motherEducation2 y: 20-10:moderateSevereDisabilityOrDeath valid_x: 313 valid_y: 504\n",
      "_corr_coeff: done: x: 01-03:motherEducation2 y: 20-10:moderateSevereDisabilityOrDeath\n",
      "_corr_coeff: to eval: x: 01-03:motherEducation2 y: 20-10:disabilityLevelDeath4Category valid_x: 313 valid_y: 498\n",
      "_corr_coeff: done: x: 01-03:motherEducation2 y: 20-10:disabilityLevelDeath4Category\n"
     ]
    },
    {
     "name": "stdout",
     "output_type": "stream",
     "text": [
      "_corr_coeff: to eval: x: 01-03:motherEducation2 y: 20-10_1:disabilityLevelDeath valid_x: 313 valid_y: 498\n",
      "_corr_coeff: done: x: 01-03:motherEducation2 y: 20-10_1:disabilityLevelDeath\n",
      "_corr_coeff: to eval: x: 01-03:motherEducation2 y: 20-04:BayleyIIICognitiveComposite valid_x: 313 valid_y: 421\n",
      "_corr_coeff: done: x: 01-03:motherEducation2 y: 20-04:BayleyIIICognitiveComposite\n",
      "_corr_coeff: to eval: x: 01-03:motherEducation2 y: 20-04:BayleyIIILanguageComposite valid_x: 313 valid_y: 411\n",
      "_corr_coeff: done: x: 01-03:motherEducation2 y: 20-04:BayleyIIILanguageComposite\n"
     ]
    },
    {
     "name": "stderr",
     "output_type": "stream",
     "text": [
      "\r",
      "  4%|▍         | 13/336 [00:02<01:13,  4.39it/s]"
     ]
    },
    {
     "name": "stdout",
     "output_type": "stream",
     "text": [
      "_corr_coeff: to eval: x: 01-03:motherEducation2 y: 20-04:BayleyIIIMotorComposite valid_x: 313 valid_y: 415\n",
      "_corr_coeff: done: x: 01-03:motherEducation2 y: 20-04:BayleyIIIMotorComposite\n",
      "_corr_coeff: to eval: x: 01-03:motherInsurance y: 20-10:moderateSevereDisabilityOrDeath valid_x: 359 valid_y: 504\n",
      "_corr_coeff: done: x: 01-03:motherInsurance y: 20-10:moderateSevereDisabilityOrDeath\n"
     ]
    },
    {
     "name": "stderr",
     "output_type": "stream",
     "text": [
      "\r",
      "  4%|▍         | 14/336 [00:03<01:09,  4.65it/s]"
     ]
    },
    {
     "name": "stdout",
     "output_type": "stream",
     "text": [
      "_corr_coeff: to eval: x: 01-03:motherInsurance y: 20-10:disabilityLevelDeath4Category valid_x: 359 valid_y: 498\n",
      "_corr_coeff: done: x: 01-03:motherInsurance y: 20-10:disabilityLevelDeath4Category\n",
      "_corr_coeff: to eval: x: 01-03:motherInsurance y: 20-10_1:disabilityLevelDeath valid_x: 359 valid_y: 498\n",
      "_corr_coeff: done: x: 01-03:motherInsurance y: 20-10_1:disabilityLevelDeath\n",
      "_corr_coeff: to eval: x: 01-03:motherInsurance y: 20-04:BayleyIIICognitiveComposite valid_x: 359 valid_y: 421\n",
      "_corr_coeff: done: x: 01-03:motherInsurance y: 20-04:BayleyIIICognitiveComposite\n",
      "_corr_coeff: to eval: x: 01-03:motherInsurance y: 20-04:BayleyIIILanguageComposite valid_x: 359 valid_y: 411\n",
      "_corr_coeff: done: x: 01-03:motherInsurance y: 20-04:BayleyIIILanguageComposite\n",
      "_corr_coeff: to eval: x: 01-03:motherInsurance y: 20-04:BayleyIIIMotorComposite valid_x: 359 valid_y: 415\n",
      "_corr_coeff: done: x: 01-03:motherInsurance y: 20-04:BayleyIIIMotorComposite\n"
     ]
    },
    {
     "name": "stdout",
     "output_type": "stream",
     "text": [
      "_corr_coeff: to eval: x: 01-03:motherInsurancePublic y: 20-10:moderateSevereDisabilityOrDeath valid_x: 359 valid_y: 504\n",
      "_corr_coeff: done: x: 01-03:motherInsurancePublic y: 20-10:moderateSevereDisabilityOrDeath\n",
      "_corr_coeff: to eval: x: 01-03:motherInsurancePublic y: 20-10:disabilityLevelDeath4Category valid_x: 359 valid_y: 498\n",
      "_corr_coeff: done: x: 01-03:motherInsurancePublic y: 20-10:disabilityLevelDeath4Category\n"
     ]
    },
    {
     "name": "stdout",
     "output_type": "stream",
     "text": [
      "_corr_coeff: to eval: x: 01-03:motherInsurancePublic y: 20-10_1:disabilityLevelDeath valid_x: 359 valid_y: 498\n",
      "_corr_coeff: done: x: 01-03:motherInsurancePublic y: 20-10_1:disabilityLevelDeath\n",
      "_corr_coeff: to eval: x: 01-03:motherInsurancePublic y: 20-04:BayleyIIICognitiveComposite valid_x: 359 valid_y: 421\n",
      "_corr_coeff: done: x: 01-03:motherInsurancePublic y: 20-04:BayleyIIICognitiveComposite\n",
      "_corr_coeff: to eval: x: 01-03:motherInsurancePublic y: 20-04:BayleyIIILanguageComposite valid_x: 359 valid_y: 411\n",
      "_corr_coeff: done: x: 01-03:motherInsurancePublic y: 20-04:BayleyIIILanguageComposite\n"
     ]
    },
    {
     "name": "stderr",
     "output_type": "stream",
     "text": [
      "\r",
      "  4%|▍         | 15/336 [00:03<01:11,  4.48it/s]"
     ]
    },
    {
     "name": "stdout",
     "output_type": "stream",
     "text": [
      "_corr_coeff: to eval: x: 01-03:motherInsurancePublic y: 20-04:BayleyIIIMotorComposite valid_x: 359 valid_y: 415\n",
      "_corr_coeff: done: x: 01-03:motherInsurancePublic y: 20-04:BayleyIIIMotorComposite\n",
      "_corr_coeff: to eval: x: 01-04:gravida y: 20-10:moderateSevereDisabilityOrDeath valid_x: 532 valid_y: 504\n",
      "_corr_coeff: done: x: 01-04:gravida y: 20-10:moderateSevereDisabilityOrDeath\n"
     ]
    },
    {
     "name": "stdout",
     "output_type": "stream",
     "text": [
      "_corr_coeff: to eval: x: 01-04:gravida y: 20-10:disabilityLevelDeath4Category valid_x: 532 valid_y: 498\n",
      "_corr_coeff: done: x: 01-04:gravida y: 20-10:disabilityLevelDeath4Category\n",
      "_corr_coeff: to eval: x: 01-04:gravida y: 20-10_1:disabilityLevelDeath valid_x: 532 valid_y: 498\n",
      "_corr_coeff: done: x: 01-04:gravida y: 20-10_1:disabilityLevelDeath\n",
      "_corr_coeff: to eval: x: 01-04:gravida y: 20-04:BayleyIIICognitiveComposite valid_x: 532 valid_y: 421\n",
      "_corr_coeff: done: x: 01-04:gravida y: 20-04:BayleyIIICognitiveComposite\n",
      "_corr_coeff: to eval: x: 01-04:gravida y: 20-04:BayleyIIILanguageComposite valid_x: 532 valid_y: 411\n",
      "_corr_coeff: done: x: 01-04:gravida y: 20-04:BayleyIIILanguageComposite\n",
      "_corr_coeff: to eval: x: 01-04:gravida y: 20-04:BayleyIIIMotorComposite valid_x: 532 valid_y: 415\n",
      "_corr_coeff: done: x: 01-04:gravida y: 20-04:BayleyIIIMotorComposite\n"
     ]
    },
    {
     "name": "stderr",
     "output_type": "stream",
     "text": [
      "\r",
      "  5%|▍         | 16/336 [00:03<01:09,  4.60it/s]"
     ]
    },
    {
     "name": "stdout",
     "output_type": "stream",
     "text": [
      "_corr_coeff: to eval: x: 01-04:parity y: 20-10:moderateSevereDisabilityOrDeath valid_x: 532 valid_y: 504\n",
      "_corr_coeff: done: x: 01-04:parity y: 20-10:moderateSevereDisabilityOrDeath\n",
      "_corr_coeff: to eval: x: 01-04:parity y: 20-10:disabilityLevelDeath4Category valid_x: 532 valid_y: 498\n",
      "_corr_coeff: done: x: 01-04:parity y: 20-10:disabilityLevelDeath4Category\n"
     ]
    },
    {
     "name": "stdout",
     "output_type": "stream",
     "text": [
      "_corr_coeff: to eval: x: 01-04:parity y: 20-10_1:disabilityLevelDeath valid_x: 532 valid_y: 498\n",
      "_corr_coeff: done: x: 01-04:parity y: 20-10_1:disabilityLevelDeath\n",
      "_corr_coeff: to eval: x: 01-04:parity y: 20-04:BayleyIIICognitiveComposite valid_x: 532 valid_y: 421\n",
      "_corr_coeff: done: x: 01-04:parity y: 20-04:BayleyIIICognitiveComposite\n",
      "_corr_coeff: to eval: x: 01-04:parity y: 20-04:BayleyIIILanguageComposite valid_x: 532 valid_y: 411\n",
      "_corr_coeff: done: x: 01-04:parity y: 20-04:BayleyIIILanguageComposite\n"
     ]
    },
    {
     "name": "stderr",
     "output_type": "stream",
     "text": [
      "\r",
      "  5%|▌         | 17/336 [00:03<01:13,  4.36it/s]"
     ]
    },
    {
     "name": "stdout",
     "output_type": "stream",
     "text": [
      "_corr_coeff: to eval: x: 01-04:parity y: 20-04:BayleyIIIMotorComposite valid_x: 532 valid_y: 415\n",
      "_corr_coeff: done: x: 01-04:parity y: 20-04:BayleyIIIMotorComposite\n",
      "_corr_coeff: to eval: x: 01-04:multipleBirth y: 20-10:moderateSevereDisabilityOrDeath valid_x: 532 valid_y: 504\n",
      "_corr_coeff: done: x: 01-04:multipleBirth y: 20-10:moderateSevereDisabilityOrDeath\n"
     ]
    },
    {
     "name": "stdout",
     "output_type": "stream",
     "text": [
      "_corr_coeff: to eval: x: 01-04:multipleBirth y: 20-10:disabilityLevelDeath4Category valid_x: 532 valid_y: 498\n",
      "_corr_coeff: done: x: 01-04:multipleBirth y: 20-10:disabilityLevelDeath4Category\n",
      "_corr_coeff: to eval: x: 01-04:multipleBirth y: 20-10_1:disabilityLevelDeath valid_x: 532 valid_y: 498\n",
      "_corr_coeff: done: x: 01-04:multipleBirth y: 20-10_1:disabilityLevelDeath\n",
      "_corr_coeff: to eval: x: 01-04:multipleBirth y: 20-04:BayleyIIICognitiveComposite valid_x: 532 valid_y: 421\n",
      "_corr_coeff: done: x: 01-04:multipleBirth y: 20-04:BayleyIIICognitiveComposite\n",
      "_corr_coeff: to eval: x: 01-04:multipleBirth y: 20-04:BayleyIIILanguageComposite valid_x: 532 valid_y: 411\n",
      "_corr_coeff: done: x: 01-04:multipleBirth y: 20-04:BayleyIIILanguageComposite\n",
      "_corr_coeff: to eval: x: 01-04:multipleBirth y: 20-04:BayleyIIIMotorComposite valid_x: 532 valid_y: 415\n",
      "_corr_coeff: done: x: 01-04:multipleBirth y: 20-04:BayleyIIIMotorComposite\n"
     ]
    },
    {
     "name": "stderr",
     "output_type": "stream",
     "text": [
      "\r",
      "  5%|▌         | 18/336 [00:04<01:10,  4.53it/s]"
     ]
    },
    {
     "name": "stdout",
     "output_type": "stream",
     "text": [
      "_corr_coeff: to eval: x: 01-04:prenatalCare y: 20-10:moderateSevereDisabilityOrDeath valid_x: 528 valid_y: 504\n",
      "_corr_coeff: done: x: 01-04:prenatalCare y: 20-10:moderateSevereDisabilityOrDeath\n",
      "_corr_coeff: to eval: x: 01-04:prenatalCare y: 20-10:disabilityLevelDeath4Category valid_x: 528 valid_y: 498\n",
      "_corr_coeff: done: x: 01-04:prenatalCare y: 20-10:disabilityLevelDeath4Category\n"
     ]
    },
    {
     "name": "stderr",
     "output_type": "stream",
     "text": [
      "\r",
      "  6%|▌         | 19/336 [00:04<01:08,  4.65it/s]"
     ]
    },
    {
     "name": "stdout",
     "output_type": "stream",
     "text": [
      "_corr_coeff: to eval: x: 01-04:prenatalCare y: 20-10_1:disabilityLevelDeath valid_x: 528 valid_y: 498\n",
      "_corr_coeff: done: x: 01-04:prenatalCare y: 20-10_1:disabilityLevelDeath\n",
      "_corr_coeff: to eval: x: 01-04:prenatalCare y: 20-04:BayleyIIICognitiveComposite valid_x: 528 valid_y: 421\n",
      "_corr_coeff: done: x: 01-04:prenatalCare y: 20-04:BayleyIIICognitiveComposite\n",
      "_corr_coeff: to eval: x: 01-04:prenatalCare y: 20-04:BayleyIIILanguageComposite valid_x: 528 valid_y: 411\n",
      "_corr_coeff: done: x: 01-04:prenatalCare y: 20-04:BayleyIIILanguageComposite\n",
      "_corr_coeff: to eval: x: 01-04:prenatalCare y: 20-04:BayleyIIIMotorComposite valid_x: 528 valid_y: 415\n",
      "_corr_coeff: done: x: 01-04:prenatalCare y: 20-04:BayleyIIIMotorComposite\n",
      "_corr_coeff: to eval: x: 01-04:hypertensionEclampsia y: 20-10:moderateSevereDisabilityOrDeath valid_x: 529 valid_y: 504\n",
      "_corr_coeff: done: x: 01-04:hypertensionEclampsia y: 20-10:moderateSevereDisabilityOrDeath\n"
     ]
    },
    {
     "name": "stdout",
     "output_type": "stream",
     "text": [
      "_corr_coeff: to eval: x: 01-04:hypertensionEclampsia y: 20-10:disabilityLevelDeath4Category valid_x: 529 valid_y: 498\n",
      "_corr_coeff: done: x: 01-04:hypertensionEclampsia y: 20-10:disabilityLevelDeath4Category\n",
      "_corr_coeff: to eval: x: 01-04:hypertensionEclampsia y: 20-10_1:disabilityLevelDeath valid_x: 529 valid_y: 498\n",
      "_corr_coeff: done: x: 01-04:hypertensionEclampsia y: 20-10_1:disabilityLevelDeath\n"
     ]
    },
    {
     "name": "stderr",
     "output_type": "stream",
     "text": [
      "\r",
      "  6%|▌         | 20/336 [00:04<01:06,  4.72it/s]"
     ]
    },
    {
     "name": "stdout",
     "output_type": "stream",
     "text": [
      "_corr_coeff: to eval: x: 01-04:hypertensionEclampsia y: 20-04:BayleyIIICognitiveComposite valid_x: 529 valid_y: 421\n",
      "_corr_coeff: done: x: 01-04:hypertensionEclampsia y: 20-04:BayleyIIICognitiveComposite\n",
      "_corr_coeff: to eval: x: 01-04:hypertensionEclampsia y: 20-04:BayleyIIILanguageComposite valid_x: 529 valid_y: 411\n",
      "_corr_coeff: done: x: 01-04:hypertensionEclampsia y: 20-04:BayleyIIILanguageComposite\n",
      "_corr_coeff: to eval: x: 01-04:hypertensionEclampsia y: 20-04:BayleyIIIMotorComposite valid_x: 529 valid_y: 415\n",
      "_corr_coeff: done: x: 01-04:hypertensionEclampsia y: 20-04:BayleyIIIMotorComposite\n",
      "_corr_coeff: to eval: x: 01-04:antepartumHemorrhage y: 20-10:moderateSevereDisabilityOrDeath valid_x: 529 valid_y: 504\n",
      "_corr_coeff: done: x: 01-04:antepartumHemorrhage y: 20-10:moderateSevereDisabilityOrDeath\n",
      "_corr_coeff: to eval: x: 01-04:antepartumHemorrhage y: 20-10:disabilityLevelDeath4Category valid_x: 529 valid_y: 498\n",
      "_corr_coeff: done: x: 01-04:antepartumHemorrhage y: 20-10:disabilityLevelDeath4Category\n"
     ]
    },
    {
     "name": "stdout",
     "output_type": "stream",
     "text": [
      "_corr_coeff: to eval: x: 01-04:antepartumHemorrhage y: 20-10_1:disabilityLevelDeath valid_x: 529 valid_y: 498\n",
      "_corr_coeff: done: x: 01-04:antepartumHemorrhage y: 20-10_1:disabilityLevelDeath\n",
      "_corr_coeff: to eval: x: 01-04:antepartumHemorrhage y: 20-04:BayleyIIICognitiveComposite valid_x: 529 valid_y: 421\n",
      "_corr_coeff: done: x: 01-04:antepartumHemorrhage y: 20-04:BayleyIIICognitiveComposite\n"
     ]
    },
    {
     "name": "stderr",
     "output_type": "stream",
     "text": [
      "\r",
      "  6%|▋         | 21/336 [00:04<01:05,  4.80it/s]"
     ]
    },
    {
     "name": "stdout",
     "output_type": "stream",
     "text": [
      "_corr_coeff: to eval: x: 01-04:antepartumHemorrhage y: 20-04:BayleyIIILanguageComposite valid_x: 529 valid_y: 411\n",
      "_corr_coeff: done: x: 01-04:antepartumHemorrhage y: 20-04:BayleyIIILanguageComposite\n",
      "_corr_coeff: to eval: x: 01-04:antepartumHemorrhage y: 20-04:BayleyIIIMotorComposite valid_x: 529 valid_y: 415\n",
      "_corr_coeff: done: x: 01-04:antepartumHemorrhage y: 20-04:BayleyIIIMotorComposite\n",
      "_corr_coeff: to eval: x: 01-04:thyroidMalfunction y: 20-10:moderateSevereDisabilityOrDeath valid_x: 527 valid_y: 504\n",
      "_corr_coeff: done: x: 01-04:thyroidMalfunction y: 20-10:moderateSevereDisabilityOrDeath\n",
      "_corr_coeff: to eval: x: 01-04:thyroidMalfunction y: 20-10:disabilityLevelDeath4Category valid_x: 527 valid_y: 498\n",
      "_corr_coeff: done: x: 01-04:thyroidMalfunction y: 20-10:disabilityLevelDeath4Category\n",
      "_corr_coeff: to eval: x: 01-04:thyroidMalfunction y: 20-10_1:disabilityLevelDeath valid_x: 527 valid_y: 498\n",
      "_corr_coeff: done: x: 01-04:thyroidMalfunction y: 20-10_1:disabilityLevelDeath\n"
     ]
    },
    {
     "name": "stdout",
     "output_type": "stream",
     "text": [
      "_corr_coeff: to eval: x: 01-04:thyroidMalfunction y: 20-04:BayleyIIICognitiveComposite valid_x: 527 valid_y: 421\n",
      "_corr_coeff: done: x: 01-04:thyroidMalfunction y: 20-04:BayleyIIICognitiveComposite\n",
      "_corr_coeff: to eval: x: 01-04:thyroidMalfunction y: 20-04:BayleyIIILanguageComposite valid_x: 527 valid_y: 411\n",
      "_corr_coeff: done: x: 01-04:thyroidMalfunction y: 20-04:BayleyIIILanguageComposite\n"
     ]
    },
    {
     "name": "stderr",
     "output_type": "stream",
     "text": [
      "\r",
      "  7%|▋         | 22/336 [00:04<01:04,  4.86it/s]"
     ]
    },
    {
     "name": "stdout",
     "output_type": "stream",
     "text": [
      "_corr_coeff: to eval: x: 01-04:thyroidMalfunction y: 20-04:BayleyIIIMotorComposite valid_x: 527 valid_y: 415\n",
      "_corr_coeff: done: x: 01-04:thyroidMalfunction y: 20-04:BayleyIIIMotorComposite\n",
      "_corr_coeff: to eval: x: 01-04:diabetes y: 20-10:moderateSevereDisabilityOrDeath valid_x: 528 valid_y: 504\n",
      "_corr_coeff: done: x: 01-04:diabetes y: 20-10:moderateSevereDisabilityOrDeath\n",
      "_corr_coeff: to eval: x: 01-04:diabetes y: 20-10:disabilityLevelDeath4Category valid_x: 528 valid_y: 498\n",
      "_corr_coeff: done: x: 01-04:diabetes y: 20-10:disabilityLevelDeath4Category\n",
      "_corr_coeff: to eval: x: 01-04:diabetes y: 20-10_1:disabilityLevelDeath valid_x: 528 valid_y: 498\n",
      "_corr_coeff: done: x: 01-04:diabetes y: 20-10_1:disabilityLevelDeath\n"
     ]
    },
    {
     "name": "stdout",
     "output_type": "stream",
     "text": [
      "_corr_coeff: to eval: x: 01-04:diabetes y: 20-04:BayleyIIICognitiveComposite valid_x: 528 valid_y: 421\n",
      "_corr_coeff: done: x: 01-04:diabetes y: 20-04:BayleyIIICognitiveComposite\n"
     ]
    },
    {
     "name": "stderr",
     "output_type": "stream",
     "text": [
      "\r",
      "  7%|▋         | 23/336 [00:05<01:09,  4.53it/s]"
     ]
    },
    {
     "name": "stdout",
     "output_type": "stream",
     "text": [
      "_corr_coeff: to eval: x: 01-04:diabetes y: 20-04:BayleyIIILanguageComposite valid_x: 528 valid_y: 411\n",
      "_corr_coeff: done: x: 01-04:diabetes y: 20-04:BayleyIIILanguageComposite\n",
      "_corr_coeff: to eval: x: 01-04:diabetes y: 20-04:BayleyIIIMotorComposite valid_x: 528 valid_y: 415\n",
      "_corr_coeff: done: x: 01-04:diabetes y: 20-04:BayleyIIIMotorComposite\n",
      "_corr_coeff: to eval: x: 01-05:ruptureGreater18Hr y: 20-10:moderateSevereDisabilityOrDeath valid_x: 46 valid_y: 504\n",
      "_corr_coeff: done: x: 01-05:ruptureGreater18Hr y: 20-10:moderateSevereDisabilityOrDeath\n",
      "_corr_coeff: to eval: x: 01-05:ruptureGreater18Hr y: 20-10:disabilityLevelDeath4Category valid_x: 46 valid_y: 498\n",
      "_corr_coeff: done: x: 01-05:ruptureGreater18Hr y: 20-10:disabilityLevelDeath4Category\n",
      "_corr_coeff: to eval: x: 01-05:ruptureGreater18Hr y: 20-10_1:disabilityLevelDeath valid_x: 46 valid_y: 498\n",
      "_corr_coeff: done: x: 01-05:ruptureGreater18Hr y: 20-10_1:disabilityLevelDeath\n",
      "_corr_coeff: to eval: x: 01-05:ruptureGreater18Hr y: 20-04:BayleyIIICognitiveComposite valid_x: 46 valid_y: 421\n",
      "_corr_coeff: done: x: 01-05:ruptureGreater18Hr y: 20-04:BayleyIIICognitiveComposite\n",
      "_corr_coeff: to eval: x: 01-05:ruptureGreater18Hr y: 20-04:BayleyIIILanguageComposite valid_x: 46 valid_y: 411\n",
      "_corr_coeff: done: x: 01-05:ruptureGreater18Hr y: 20-04:BayleyIIILanguageComposite\n"
     ]
    },
    {
     "name": "stderr",
     "output_type": "stream",
     "text": [
      "\r",
      "  7%|▋         | 24/336 [00:05<01:01,  5.04it/s]"
     ]
    },
    {
     "name": "stdout",
     "output_type": "stream",
     "text": [
      "_corr_coeff: to eval: x: 01-05:ruptureGreater18Hr y: 20-04:BayleyIIIMotorComposite valid_x: 46 valid_y: 415\n",
      "_corr_coeff: done: x: 01-05:ruptureGreater18Hr y: 20-04:BayleyIIIMotorComposite\n"
     ]
    },
    {
     "name": "stderr",
     "output_type": "stream",
     "text": [
      "\r",
      "  7%|▋         | 25/336 [00:05<00:59,  5.21it/s]"
     ]
    },
    {
     "name": "stdout",
     "output_type": "stream",
     "text": [
      "_corr_coeff: to eval: x: 01-05:ruptureBeforeDelivery y: 20-10:moderateSevereDisabilityOrDeath valid_x: 351 valid_y: 504\n",
      "_corr_coeff: done: x: 01-05:ruptureBeforeDelivery y: 20-10:moderateSevereDisabilityOrDeath\n",
      "_corr_coeff: to eval: x: 01-05:ruptureBeforeDelivery y: 20-10:disabilityLevelDeath4Category valid_x: 351 valid_y: 498\n",
      "_corr_coeff: done: x: 01-05:ruptureBeforeDelivery y: 20-10:disabilityLevelDeath4Category\n",
      "_corr_coeff: to eval: x: 01-05:ruptureBeforeDelivery y: 20-10_1:disabilityLevelDeath valid_x: 351 valid_y: 498\n",
      "_corr_coeff: done: x: 01-05:ruptureBeforeDelivery y: 20-10_1:disabilityLevelDeath\n",
      "_corr_coeff: to eval: x: 01-05:ruptureBeforeDelivery y: 20-04:BayleyIIICognitiveComposite valid_x: 351 valid_y: 421\n",
      "_corr_coeff: done: x: 01-05:ruptureBeforeDelivery y: 20-04:BayleyIIICognitiveComposite\n",
      "_corr_coeff: to eval: x: 01-05:ruptureBeforeDelivery y: 20-04:BayleyIIILanguageComposite valid_x: 351 valid_y: 411\n",
      "_corr_coeff: done: x: 01-05:ruptureBeforeDelivery y: 20-04:BayleyIIILanguageComposite\n",
      "_corr_coeff: to eval: x: 01-05:ruptureBeforeDelivery y: 20-04:BayleyIIIMotorComposite valid_x: 351 valid_y: 415\n",
      "_corr_coeff: done: x: 01-05:ruptureBeforeDelivery y: 20-04:BayleyIIIMotorComposite\n"
     ]
    },
    {
     "name": "stdout",
     "output_type": "stream",
     "text": [
      "_corr_coeff: to eval: x: 01-05:labor y: 20-10:moderateSevereDisabilityOrDeath valid_x: 165 valid_y: 504\n",
      "_corr_coeff: done: x: 01-05:labor y: 20-10:moderateSevereDisabilityOrDeath\n",
      "_corr_coeff: to eval: x: 01-05:labor y: 20-10:disabilityLevelDeath4Category valid_x: 165 valid_y: 498\n",
      "_corr_coeff: done: x: 01-05:labor y: 20-10:disabilityLevelDeath4Category\n"
     ]
    },
    {
     "name": "stderr",
     "output_type": "stream",
     "text": [
      "\r",
      "  8%|▊         | 26/336 [00:05<01:02,  4.98it/s]"
     ]
    },
    {
     "name": "stdout",
     "output_type": "stream",
     "text": [
      "_corr_coeff: to eval: x: 01-05:labor y: 20-10_1:disabilityLevelDeath valid_x: 165 valid_y: 498\n",
      "_corr_coeff: done: x: 01-05:labor y: 20-10_1:disabilityLevelDeath\n",
      "_corr_coeff: to eval: x: 01-05:labor y: 20-04:BayleyIIICognitiveComposite valid_x: 165 valid_y: 421\n",
      "_corr_coeff: done: x: 01-05:labor y: 20-04:BayleyIIICognitiveComposite\n",
      "_corr_coeff: to eval: x: 01-05:labor y: 20-04:BayleyIIILanguageComposite valid_x: 165 valid_y: 411\n",
      "_corr_coeff: done: x: 01-05:labor y: 20-04:BayleyIIILanguageComposite\n",
      "_corr_coeff: to eval: x: 01-05:labor y: 20-04:BayleyIIIMotorComposite valid_x: 165 valid_y: 415\n",
      "_corr_coeff: done: x: 01-05:labor y: 20-04:BayleyIIIMotorComposite\n"
     ]
    },
    {
     "name": "stdout",
     "output_type": "stream",
     "text": [
      "_corr_coeff: to eval: x: 01-05:fetalDecelerate y: 20-10:moderateSevereDisabilityOrDeath valid_x: 527 valid_y: 504\n",
      "_corr_coeff: done: x: 01-05:fetalDecelerate y: 20-10:moderateSevereDisabilityOrDeath\n",
      "_corr_coeff: to eval: x: 01-05:fetalDecelerate y: 20-10:disabilityLevelDeath4Category valid_x: 527 valid_y: 498\n",
      "_corr_coeff: done: x: 01-05:fetalDecelerate y: 20-10:disabilityLevelDeath4Category\n"
     ]
    },
    {
     "name": "stderr",
     "output_type": "stream",
     "text": [
      "\r",
      "  8%|▊         | 27/336 [00:05<01:01,  4.99it/s]"
     ]
    },
    {
     "name": "stdout",
     "output_type": "stream",
     "text": [
      "_corr_coeff: to eval: x: 01-05:fetalDecelerate y: 20-10_1:disabilityLevelDeath valid_x: 527 valid_y: 498\n",
      "_corr_coeff: done: x: 01-05:fetalDecelerate y: 20-10_1:disabilityLevelDeath\n",
      "_corr_coeff: to eval: x: 01-05:fetalDecelerate y: 20-04:BayleyIIICognitiveComposite valid_x: 527 valid_y: 421\n",
      "_corr_coeff: done: x: 01-05:fetalDecelerate y: 20-04:BayleyIIICognitiveComposite\n",
      "_corr_coeff: to eval: x: 01-05:fetalDecelerate y: 20-04:BayleyIIILanguageComposite valid_x: 527 valid_y: 411\n",
      "_corr_coeff: done: x: 01-05:fetalDecelerate y: 20-04:BayleyIIILanguageComposite\n",
      "_corr_coeff: to eval: x: 01-05:fetalDecelerate y: 20-04:BayleyIIIMotorComposite valid_x: 527 valid_y: 415\n",
      "_corr_coeff: done: x: 01-05:fetalDecelerate y: 20-04:BayleyIIIMotorComposite\n",
      "_corr_coeff: to eval: x: 01-05:cordMishap y: 20-10:moderateSevereDisabilityOrDeath valid_x: 532 valid_y: 504\n",
      "_corr_coeff: done: x: 01-05:cordMishap y: 20-10:moderateSevereDisabilityOrDeath\n"
     ]
    },
    {
     "name": "stdout",
     "output_type": "stream",
     "text": [
      "_corr_coeff: to eval: x: 01-05:cordMishap y: 20-10:disabilityLevelDeath4Category valid_x: 532 valid_y: 498\n",
      "_corr_coeff: done: x: 01-05:cordMishap y: 20-10:disabilityLevelDeath4Category\n",
      "_corr_coeff: to eval: x: 01-05:cordMishap y: 20-10_1:disabilityLevelDeath valid_x: 532 valid_y: 498\n",
      "_corr_coeff: done: x: 01-05:cordMishap y: 20-10_1:disabilityLevelDeath\n"
     ]
    },
    {
     "name": "stderr",
     "output_type": "stream",
     "text": [
      "\r",
      "  8%|▊         | 28/336 [00:06<01:06,  4.66it/s]"
     ]
    },
    {
     "name": "stdout",
     "output_type": "stream",
     "text": [
      "_corr_coeff: to eval: x: 01-05:cordMishap y: 20-04:BayleyIIICognitiveComposite valid_x: 532 valid_y: 421\n",
      "_corr_coeff: done: x: 01-05:cordMishap y: 20-04:BayleyIIICognitiveComposite\n",
      "_corr_coeff: to eval: x: 01-05:cordMishap y: 20-04:BayleyIIILanguageComposite valid_x: 532 valid_y: 411\n",
      "_corr_coeff: done: x: 01-05:cordMishap y: 20-04:BayleyIIILanguageComposite\n",
      "_corr_coeff: to eval: x: 01-05:cordMishap y: 20-04:BayleyIIIMotorComposite valid_x: 532 valid_y: 415\n",
      "_corr_coeff: done: x: 01-05:cordMishap y: 20-04:BayleyIIIMotorComposite\n"
     ]
    },
    {
     "name": "stdout",
     "output_type": "stream",
     "text": [
      "_corr_coeff: to eval: x: 01-05:uterineRupture y: 20-10:moderateSevereDisabilityOrDeath valid_x: 532 valid_y: 504\n",
      "_corr_coeff: done: x: 01-05:uterineRupture y: 20-10:moderateSevereDisabilityOrDeath\n",
      "_corr_coeff: to eval: x: 01-05:uterineRupture y: 20-10:disabilityLevelDeath4Category valid_x: 532 valid_y: 498\n",
      "_corr_coeff: done: x: 01-05:uterineRupture y: 20-10:disabilityLevelDeath4Category\n"
     ]
    },
    {
     "name": "stderr",
     "output_type": "stream",
     "text": [
      "\r",
      "  9%|▊         | 29/336 [00:06<01:04,  4.73it/s]"
     ]
    },
    {
     "name": "stdout",
     "output_type": "stream",
     "text": [
      "_corr_coeff: to eval: x: 01-05:uterineRupture y: 20-10_1:disabilityLevelDeath valid_x: 532 valid_y: 498\n",
      "_corr_coeff: done: x: 01-05:uterineRupture y: 20-10_1:disabilityLevelDeath\n",
      "_corr_coeff: to eval: x: 01-05:uterineRupture y: 20-04:BayleyIIICognitiveComposite valid_x: 532 valid_y: 421\n",
      "_corr_coeff: done: x: 01-05:uterineRupture y: 20-04:BayleyIIICognitiveComposite\n",
      "_corr_coeff: to eval: x: 01-05:uterineRupture y: 20-04:BayleyIIILanguageComposite valid_x: 532 valid_y: 411\n",
      "_corr_coeff: done: x: 01-05:uterineRupture y: 20-04:BayleyIIILanguageComposite\n",
      "_corr_coeff: to eval: x: 01-05:uterineRupture y: 20-04:BayleyIIIMotorComposite valid_x: 532 valid_y: 415\n",
      "_corr_coeff: done: x: 01-05:uterineRupture y: 20-04:BayleyIIIMotorComposite\n",
      "_corr_coeff: to eval: x: 01-05:shoulderDystocia y: 20-10:moderateSevereDisabilityOrDeath valid_x: 531 valid_y: 504\n",
      "_corr_coeff: done: x: 01-05:shoulderDystocia y: 20-10:moderateSevereDisabilityOrDeath\n"
     ]
    },
    {
     "name": "stdout",
     "output_type": "stream",
     "text": [
      "_corr_coeff: to eval: x: 01-05:shoulderDystocia y: 20-10:disabilityLevelDeath4Category valid_x: 531 valid_y: 498\n",
      "_corr_coeff: done: x: 01-05:shoulderDystocia y: 20-10:disabilityLevelDeath4Category\n",
      "_corr_coeff: to eval: x: 01-05:shoulderDystocia y: 20-10_1:disabilityLevelDeath valid_x: 531 valid_y: 498\n",
      "_corr_coeff: done: x: 01-05:shoulderDystocia y: 20-10_1:disabilityLevelDeath\n"
     ]
    },
    {
     "name": "stderr",
     "output_type": "stream",
     "text": [
      "\r",
      "  9%|▉         | 30/336 [00:06<01:08,  4.47it/s]"
     ]
    },
    {
     "name": "stdout",
     "output_type": "stream",
     "text": [
      "_corr_coeff: to eval: x: 01-05:shoulderDystocia y: 20-04:BayleyIIICognitiveComposite valid_x: 531 valid_y: 421\n",
      "_corr_coeff: done: x: 01-05:shoulderDystocia y: 20-04:BayleyIIICognitiveComposite\n",
      "_corr_coeff: to eval: x: 01-05:shoulderDystocia y: 20-04:BayleyIIILanguageComposite valid_x: 531 valid_y: 411\n",
      "_corr_coeff: done: x: 01-05:shoulderDystocia y: 20-04:BayleyIIILanguageComposite\n",
      "_corr_coeff: to eval: x: 01-05:shoulderDystocia y: 20-04:BayleyIIIMotorComposite valid_x: 531 valid_y: 415\n",
      "_corr_coeff: done: x: 01-05:shoulderDystocia y: 20-04:BayleyIIIMotorComposite\n"
     ]
    },
    {
     "name": "stdout",
     "output_type": "stream",
     "text": [
      "_corr_coeff: to eval: x: 01-05:placentalProblem y: 20-10:moderateSevereDisabilityOrDeath valid_x: 532 valid_y: 504\n",
      "_corr_coeff: done: x: 01-05:placentalProblem y: 20-10:moderateSevereDisabilityOrDeath\n",
      "_corr_coeff: to eval: x: 01-05:placentalProblem y: 20-10:disabilityLevelDeath4Category valid_x: 532 valid_y: 498\n",
      "_corr_coeff: done: x: 01-05:placentalProblem y: 20-10:disabilityLevelDeath4Category\n"
     ]
    },
    {
     "name": "stderr",
     "output_type": "stream",
     "text": [
      "\r",
      "  9%|▉         | 31/336 [00:06<01:06,  4.60it/s]"
     ]
    },
    {
     "name": "stdout",
     "output_type": "stream",
     "text": [
      "_corr_coeff: to eval: x: 01-05:placentalProblem y: 20-10_1:disabilityLevelDeath valid_x: 532 valid_y: 498\n",
      "_corr_coeff: done: x: 01-05:placentalProblem y: 20-10_1:disabilityLevelDeath\n",
      "_corr_coeff: to eval: x: 01-05:placentalProblem y: 20-04:BayleyIIICognitiveComposite valid_x: 532 valid_y: 421\n",
      "_corr_coeff: done: x: 01-05:placentalProblem y: 20-04:BayleyIIICognitiveComposite\n",
      "_corr_coeff: to eval: x: 01-05:placentalProblem y: 20-04:BayleyIIILanguageComposite valid_x: 532 valid_y: 411\n",
      "_corr_coeff: done: x: 01-05:placentalProblem y: 20-04:BayleyIIILanguageComposite\n",
      "_corr_coeff: to eval: x: 01-05:placentalProblem y: 20-04:BayleyIIIMotorComposite valid_x: 532 valid_y: 415\n",
      "_corr_coeff: done: x: 01-05:placentalProblem y: 20-04:BayleyIIIMotorComposite\n",
      "_corr_coeff: to eval: x: 01-05:maternalHemorrhage y: 20-10:moderateSevereDisabilityOrDeath valid_x: 532 valid_y: 504\n",
      "_corr_coeff: done: x: 01-05:maternalHemorrhage y: 20-10:moderateSevereDisabilityOrDeath\n"
     ]
    },
    {
     "name": "stdout",
     "output_type": "stream",
     "text": [
      "_corr_coeff: to eval: x: 01-05:maternalHemorrhage y: 20-10:disabilityLevelDeath4Category valid_x: 532 valid_y: 498\n",
      "_corr_coeff: done: x: 01-05:maternalHemorrhage y: 20-10:disabilityLevelDeath4Category\n",
      "_corr_coeff: to eval: x: 01-05:maternalHemorrhage y: 20-10_1:disabilityLevelDeath valid_x: 532 valid_y: 498\n",
      "_corr_coeff: done: x: 01-05:maternalHemorrhage y: 20-10_1:disabilityLevelDeath\n"
     ]
    },
    {
     "name": "stderr",
     "output_type": "stream",
     "text": [
      "\r",
      " 10%|▉         | 32/336 [00:06<01:08,  4.41it/s]"
     ]
    },
    {
     "name": "stdout",
     "output_type": "stream",
     "text": [
      "_corr_coeff: to eval: x: 01-05:maternalHemorrhage y: 20-04:BayleyIIICognitiveComposite valid_x: 532 valid_y: 421\n",
      "_corr_coeff: done: x: 01-05:maternalHemorrhage y: 20-04:BayleyIIICognitiveComposite\n",
      "_corr_coeff: to eval: x: 01-05:maternalHemorrhage y: 20-04:BayleyIIILanguageComposite valid_x: 532 valid_y: 411\n",
      "_corr_coeff: done: x: 01-05:maternalHemorrhage y: 20-04:BayleyIIILanguageComposite\n",
      "_corr_coeff: to eval: x: 01-05:maternalHemorrhage y: 20-04:BayleyIIIMotorComposite valid_x: 532 valid_y: 415\n",
      "_corr_coeff: done: x: 01-05:maternalHemorrhage y: 20-04:BayleyIIIMotorComposite\n"
     ]
    },
    {
     "name": "stdout",
     "output_type": "stream",
     "text": [
      "_corr_coeff: to eval: x: 01-05:maternalTrauma y: 20-10:moderateSevereDisabilityOrDeath valid_x: 532 valid_y: 504\n",
      "_corr_coeff: done: x: 01-05:maternalTrauma y: 20-10:moderateSevereDisabilityOrDeath\n",
      "_corr_coeff: to eval: x: 01-05:maternalTrauma y: 20-10:disabilityLevelDeath4Category valid_x: 532 valid_y: 498\n",
      "_corr_coeff: done: x: 01-05:maternalTrauma y: 20-10:disabilityLevelDeath4Category\n",
      "_corr_coeff: to eval: x: 01-05:maternalTrauma y: 20-10_1:disabilityLevelDeath valid_x: 532 valid_y: 498\n",
      "_corr_coeff: done: x: 01-05:maternalTrauma y: 20-10_1:disabilityLevelDeath\n",
      "_corr_coeff: to eval: x: 01-05:maternalTrauma y: 20-04:BayleyIIICognitiveComposite valid_x: 532 valid_y: 421\n",
      "_corr_coeff: done: x: 01-05:maternalTrauma y: 20-04:BayleyIIICognitiveComposite\n"
     ]
    },
    {
     "name": "stderr",
     "output_type": "stream",
     "text": [
      "\r",
      " 10%|▉         | 33/336 [00:07<01:06,  4.57it/s]"
     ]
    },
    {
     "name": "stdout",
     "output_type": "stream",
     "text": [
      "_corr_coeff: to eval: x: 01-05:maternalTrauma y: 20-04:BayleyIIILanguageComposite valid_x: 532 valid_y: 411\n",
      "_corr_coeff: done: x: 01-05:maternalTrauma y: 20-04:BayleyIIILanguageComposite\n",
      "_corr_coeff: to eval: x: 01-05:maternalTrauma y: 20-04:BayleyIIIMotorComposite valid_x: 532 valid_y: 415\n",
      "_corr_coeff: done: x: 01-05:maternalTrauma y: 20-04:BayleyIIIMotorComposite\n",
      "_corr_coeff: to eval: x: 01-05:maternalCardioRespiratoryArrest y: 20-10:moderateSevereDisabilityOrDeath valid_x: 532 valid_y: 504\n",
      "_corr_coeff: done: x: 01-05:maternalCardioRespiratoryArrest y: 20-10:moderateSevereDisabilityOrDeath\n"
     ]
    },
    {
     "name": "stdout",
     "output_type": "stream",
     "text": [
      "_corr_coeff: to eval: x: 01-05:maternalCardioRespiratoryArrest y: 20-10:disabilityLevelDeath4Category valid_x: 532 valid_y: 498\n",
      "_corr_coeff: done: x: 01-05:maternalCardioRespiratoryArrest y: 20-10:disabilityLevelDeath4Category\n",
      "_corr_coeff: to eval: x: 01-05:maternalCardioRespiratoryArrest y: 20-10_1:disabilityLevelDeath valid_x: 532 valid_y: 498\n",
      "_corr_coeff: done: x: 01-05:maternalCardioRespiratoryArrest y: 20-10_1:disabilityLevelDeath\n"
     ]
    },
    {
     "name": "stderr",
     "output_type": "stream",
     "text": [
      "\r",
      " 10%|█         | 34/336 [00:07<01:09,  4.34it/s]"
     ]
    },
    {
     "name": "stdout",
     "output_type": "stream",
     "text": [
      "_corr_coeff: to eval: x: 01-05:maternalCardioRespiratoryArrest y: 20-04:BayleyIIICognitiveComposite valid_x: 532 valid_y: 421\n",
      "_corr_coeff: done: x: 01-05:maternalCardioRespiratoryArrest y: 20-04:BayleyIIICognitiveComposite\n",
      "_corr_coeff: to eval: x: 01-05:maternalCardioRespiratoryArrest y: 20-04:BayleyIIILanguageComposite valid_x: 532 valid_y: 411\n",
      "_corr_coeff: done: x: 01-05:maternalCardioRespiratoryArrest y: 20-04:BayleyIIILanguageComposite\n",
      "_corr_coeff: to eval: x: 01-05:maternalCardioRespiratoryArrest y: 20-04:BayleyIIIMotorComposite valid_x: 532 valid_y: 415\n",
      "_corr_coeff: done: x: 01-05:maternalCardioRespiratoryArrest y: 20-04:BayleyIIIMotorComposite\n"
     ]
    },
    {
     "name": "stdout",
     "output_type": "stream",
     "text": [
      "_corr_coeff: to eval: x: 01-05:maternalSeizure y: 20-10:moderateSevereDisabilityOrDeath valid_x: 531 valid_y: 504\n",
      "_corr_coeff: done: x: 01-05:maternalSeizure y: 20-10:moderateSevereDisabilityOrDeath\n",
      "_corr_coeff: to eval: x: 01-05:maternalSeizure y: 20-10:disabilityLevelDeath4Category valid_x: 531 valid_y: 498\n",
      "_corr_coeff: done: x: 01-05:maternalSeizure y: 20-10:disabilityLevelDeath4Category\n",
      "_corr_coeff: to eval: x: 01-05:maternalSeizure y: 20-10_1:disabilityLevelDeath valid_x: 531 valid_y: 498\n",
      "_corr_coeff: done: x: 01-05:maternalSeizure y: 20-10_1:disabilityLevelDeath\n",
      "_corr_coeff: to eval: x: 01-05:maternalSeizure y: 20-04:BayleyIIICognitiveComposite valid_x: 531 valid_y: 421\n",
      "_corr_coeff: done: x: 01-05:maternalSeizure y: 20-04:BayleyIIICognitiveComposite\n"
     ]
    },
    {
     "name": "stderr",
     "output_type": "stream",
     "text": [
      "\r",
      " 10%|█         | 35/336 [00:07<01:07,  4.49it/s]"
     ]
    },
    {
     "name": "stdout",
     "output_type": "stream",
     "text": [
      "_corr_coeff: to eval: x: 01-05:maternalSeizure y: 20-04:BayleyIIILanguageComposite valid_x: 531 valid_y: 411\n",
      "_corr_coeff: done: x: 01-05:maternalSeizure y: 20-04:BayleyIIILanguageComposite\n",
      "_corr_coeff: to eval: x: 01-05:maternalSeizure y: 20-04:BayleyIIIMotorComposite valid_x: 531 valid_y: 415\n",
      "_corr_coeff: done: x: 01-05:maternalSeizure y: 20-04:BayleyIIIMotorComposite\n",
      "_corr_coeff: to eval: x: 01-05:perinatalSentinelEvent y: 20-10:moderateSevereDisabilityOrDeath valid_x: 362 valid_y: 504\n",
      "_corr_coeff: done: x: 01-05:perinatalSentinelEvent y: 20-10:moderateSevereDisabilityOrDeath\n"
     ]
    },
    {
     "name": "stdout",
     "output_type": "stream",
     "text": [
      "_corr_coeff: to eval: x: 01-05:perinatalSentinelEvent y: 20-10:disabilityLevelDeath4Category valid_x: 362 valid_y: 498\n",
      "_corr_coeff: done: x: 01-05:perinatalSentinelEvent y: 20-10:disabilityLevelDeath4Category\n",
      "_corr_coeff: to eval: x: 01-05:perinatalSentinelEvent y: 20-10_1:disabilityLevelDeath valid_x: 362 valid_y: 498\n",
      "_corr_coeff: done: x: 01-05:perinatalSentinelEvent y: 20-10_1:disabilityLevelDeath\n"
     ]
    },
    {
     "name": "stderr",
     "output_type": "stream",
     "text": [
      "\r",
      " 11%|█         | 36/336 [00:07<01:08,  4.38it/s]"
     ]
    },
    {
     "name": "stdout",
     "output_type": "stream",
     "text": [
      "_corr_coeff: to eval: x: 01-05:perinatalSentinelEvent y: 20-04:BayleyIIICognitiveComposite valid_x: 362 valid_y: 421\n",
      "_corr_coeff: done: x: 01-05:perinatalSentinelEvent y: 20-04:BayleyIIICognitiveComposite\n",
      "_corr_coeff: to eval: x: 01-05:perinatalSentinelEvent y: 20-04:BayleyIIILanguageComposite valid_x: 362 valid_y: 411\n",
      "_corr_coeff: done: x: 01-05:perinatalSentinelEvent y: 20-04:BayleyIIILanguageComposite\n",
      "_corr_coeff: to eval: x: 01-05:perinatalSentinelEvent y: 20-04:BayleyIIIMotorComposite valid_x: 362 valid_y: 415\n",
      "_corr_coeff: done: x: 01-05:perinatalSentinelEvent y: 20-04:BayleyIIIMotorComposite\n",
      "_corr_coeff: to eval: x: 01-05:pyrexiaGreater37p6C y: 20-10:moderateSevereDisabilityOrDeath valid_x: 525 valid_y: 504\n",
      "_corr_coeff: done: x: 01-05:pyrexiaGreater37p6C y: 20-10:moderateSevereDisabilityOrDeath\n",
      "_corr_coeff: to eval: x: 01-05:pyrexiaGreater37p6C y: 20-10:disabilityLevelDeath4Category valid_x: 525 valid_y: 498\n",
      "_corr_coeff: done: x: 01-05:pyrexiaGreater37p6C y: 20-10:disabilityLevelDeath4Category\n"
     ]
    },
    {
     "name": "stdout",
     "output_type": "stream",
     "text": [
      "_corr_coeff: to eval: x: 01-05:pyrexiaGreater37p6C y: 20-10_1:disabilityLevelDeath valid_x: 525 valid_y: 498\n",
      "_corr_coeff: done: x: 01-05:pyrexiaGreater37p6C y: 20-10_1:disabilityLevelDeath\n",
      "_corr_coeff: to eval: x: 01-05:pyrexiaGreater37p6C y: 20-04:BayleyIIICognitiveComposite valid_x: 525 valid_y: 421\n",
      "_corr_coeff: done: x: 01-05:pyrexiaGreater37p6C y: 20-04:BayleyIIICognitiveComposite\n"
     ]
    },
    {
     "name": "stderr",
     "output_type": "stream",
     "text": [
      "\r",
      " 11%|█         | 37/336 [00:08<01:05,  4.53it/s]"
     ]
    },
    {
     "name": "stdout",
     "output_type": "stream",
     "text": [
      "_corr_coeff: to eval: x: 01-05:pyrexiaGreater37p6C y: 20-04:BayleyIIILanguageComposite valid_x: 525 valid_y: 411\n",
      "_corr_coeff: done: x: 01-05:pyrexiaGreater37p6C y: 20-04:BayleyIIILanguageComposite\n",
      "_corr_coeff: to eval: x: 01-05:pyrexiaGreater37p6C y: 20-04:BayleyIIIMotorComposite valid_x: 525 valid_y: 415\n",
      "_corr_coeff: done: x: 01-05:pyrexiaGreater37p6C y: 20-04:BayleyIIIMotorComposite\n",
      "_corr_coeff: to eval: x: 01-05:chorioamnionitis y: 20-10:moderateSevereDisabilityOrDeath valid_x: 519 valid_y: 504\n",
      "_corr_coeff: done: x: 01-05:chorioamnionitis y: 20-10:moderateSevereDisabilityOrDeath\n"
     ]
    },
    {
     "name": "stdout",
     "output_type": "stream",
     "text": [
      "_corr_coeff: to eval: x: 01-05:chorioamnionitis y: 20-10:disabilityLevelDeath4Category valid_x: 519 valid_y: 498\n",
      "_corr_coeff: done: x: 01-05:chorioamnionitis y: 20-10:disabilityLevelDeath4Category\n",
      "_corr_coeff: to eval: x: 01-05:chorioamnionitis y: 20-10_1:disabilityLevelDeath valid_x: 519 valid_y: 498\n",
      "_corr_coeff: done: x: 01-05:chorioamnionitis y: 20-10_1:disabilityLevelDeath\n"
     ]
    },
    {
     "name": "stderr",
     "output_type": "stream",
     "text": [
      "\r",
      " 11%|█▏        | 38/336 [00:08<01:08,  4.33it/s]"
     ]
    },
    {
     "name": "stdout",
     "output_type": "stream",
     "text": [
      "_corr_coeff: to eval: x: 01-05:chorioamnionitis y: 20-04:BayleyIIICognitiveComposite valid_x: 519 valid_y: 421\n",
      "_corr_coeff: done: x: 01-05:chorioamnionitis y: 20-04:BayleyIIICognitiveComposite\n",
      "_corr_coeff: to eval: x: 01-05:chorioamnionitis y: 20-04:BayleyIIILanguageComposite valid_x: 519 valid_y: 411\n",
      "_corr_coeff: done: x: 01-05:chorioamnionitis y: 20-04:BayleyIIILanguageComposite\n",
      "_corr_coeff: to eval: x: 01-05:chorioamnionitis y: 20-04:BayleyIIIMotorComposite valid_x: 519 valid_y: 415\n",
      "_corr_coeff: done: x: 01-05:chorioamnionitis y: 20-04:BayleyIIIMotorComposite\n",
      "_corr_coeff: to eval: x: 01-05:placentalPathologyPerformed y: 20-10:moderateSevereDisabilityOrDeath valid_x: 430 valid_y: 504\n",
      "_corr_coeff: done: x: 01-05:placentalPathologyPerformed y: 20-10:moderateSevereDisabilityOrDeath\n",
      "_corr_coeff: to eval: x: 01-05:placentalPathologyPerformed y: 20-10:disabilityLevelDeath4Category valid_x: 430 valid_y: 498\n",
      "_corr_coeff: done: x: 01-05:placentalPathologyPerformed y: 20-10:disabilityLevelDeath4Category\n"
     ]
    },
    {
     "name": "stdout",
     "output_type": "stream",
     "text": [
      "_corr_coeff: to eval: x: 01-05:placentalPathologyPerformed y: 20-10_1:disabilityLevelDeath valid_x: 430 valid_y: 498\n",
      "_corr_coeff: done: x: 01-05:placentalPathologyPerformed y: 20-10_1:disabilityLevelDeath\n",
      "_corr_coeff: to eval: x: 01-05:placentalPathologyPerformed y: 20-04:BayleyIIICognitiveComposite valid_x: 430 valid_y: 421\n",
      "_corr_coeff: done: x: 01-05:placentalPathologyPerformed y: 20-04:BayleyIIICognitiveComposite\n"
     ]
    },
    {
     "name": "stderr",
     "output_type": "stream",
     "text": [
      "\r",
      " 12%|█▏        | 39/336 [00:08<01:10,  4.23it/s]"
     ]
    },
    {
     "name": "stdout",
     "output_type": "stream",
     "text": [
      "_corr_coeff: to eval: x: 01-05:placentalPathologyPerformed y: 20-04:BayleyIIILanguageComposite valid_x: 430 valid_y: 411\n",
      "_corr_coeff: done: x: 01-05:placentalPathologyPerformed y: 20-04:BayleyIIILanguageComposite\n",
      "_corr_coeff: to eval: x: 01-05:placentalPathologyPerformed y: 20-04:BayleyIIIMotorComposite valid_x: 430 valid_y: 415\n",
      "_corr_coeff: done: x: 01-05:placentalPathologyPerformed y: 20-04:BayleyIIIMotorComposite\n",
      "_corr_coeff: to eval: x: 01-05:histologicChorioamionitis y: 20-10:moderateSevereDisabilityOrDeath valid_x: 240 valid_y: 504\n",
      "_corr_coeff: done: x: 01-05:histologicChorioamionitis y: 20-10:moderateSevereDisabilityOrDeath\n"
     ]
    },
    {
     "name": "stdout",
     "output_type": "stream",
     "text": [
      "_corr_coeff: to eval: x: 01-05:histologicChorioamionitis y: 20-10:disabilityLevelDeath4Category valid_x: 240 valid_y: 498\n",
      "_corr_coeff: done: x: 01-05:histologicChorioamionitis y: 20-10:disabilityLevelDeath4Category\n",
      "_corr_coeff: to eval: x: 01-05:histologicChorioamionitis y: 20-10_1:disabilityLevelDeath valid_x: 240 valid_y: 498\n",
      "_corr_coeff: done: x: 01-05:histologicChorioamionitis y: 20-10_1:disabilityLevelDeath\n",
      "_corr_coeff: to eval: x: 01-05:histologicChorioamionitis y: 20-04:BayleyIIICognitiveComposite valid_x: 240 valid_y: 421\n",
      "_corr_coeff: done: x: 01-05:histologicChorioamionitis y: 20-04:BayleyIIICognitiveComposite\n"
     ]
    },
    {
     "name": "stderr",
     "output_type": "stream",
     "text": [
      "\r",
      " 12%|█▏        | 40/336 [00:08<01:04,  4.58it/s]"
     ]
    },
    {
     "name": "stdout",
     "output_type": "stream",
     "text": [
      "_corr_coeff: to eval: x: 01-05:histologicChorioamionitis y: 20-04:BayleyIIILanguageComposite valid_x: 240 valid_y: 411\n",
      "_corr_coeff: done: x: 01-05:histologicChorioamionitis y: 20-04:BayleyIIILanguageComposite\n",
      "_corr_coeff: to eval: x: 01-05:histologicChorioamionitis y: 20-04:BayleyIIIMotorComposite valid_x: 240 valid_y: 415\n",
      "_corr_coeff: done: x: 01-05:histologicChorioamionitis y: 20-04:BayleyIIIMotorComposite\n",
      "_corr_coeff: to eval: x: 01-05:laborAntibiotics y: 20-10:moderateSevereDisabilityOrDeath valid_x: 506 valid_y: 504\n",
      "_corr_coeff: done: x: 01-05:laborAntibiotics y: 20-10:moderateSevereDisabilityOrDeath\n",
      "_corr_coeff: to eval: x: 01-05:laborAntibiotics y: 20-10:disabilityLevelDeath4Category valid_x: 506 valid_y: 498\n",
      "_corr_coeff: done: x: 01-05:laborAntibiotics y: 20-10:disabilityLevelDeath4Category\n"
     ]
    },
    {
     "name": "stdout",
     "output_type": "stream",
     "text": [
      "_corr_coeff: to eval: x: 01-05:laborAntibiotics y: 20-10_1:disabilityLevelDeath valid_x: 506 valid_y: 498\n",
      "_corr_coeff: done: x: 01-05:laborAntibiotics y: 20-10_1:disabilityLevelDeath\n",
      "_corr_coeff: to eval: x: 01-05:laborAntibiotics y: 20-04:BayleyIIICognitiveComposite valid_x: 506 valid_y: 421\n",
      "_corr_coeff: done: x: 01-05:laborAntibiotics y: 20-04:BayleyIIICognitiveComposite\n"
     ]
    },
    {
     "name": "stderr",
     "output_type": "stream",
     "text": [
      "\r",
      " 12%|█▏        | 41/336 [00:09<01:08,  4.29it/s]"
     ]
    },
    {
     "name": "stdout",
     "output_type": "stream",
     "text": [
      "_corr_coeff: to eval: x: 01-05:laborAntibiotics y: 20-04:BayleyIIILanguageComposite valid_x: 506 valid_y: 411\n",
      "_corr_coeff: done: x: 01-05:laborAntibiotics y: 20-04:BayleyIIILanguageComposite\n",
      "_corr_coeff: to eval: x: 01-05:laborAntibiotics y: 20-04:BayleyIIIMotorComposite valid_x: 506 valid_y: 415\n",
      "_corr_coeff: done: x: 01-05:laborAntibiotics y: 20-04:BayleyIIIMotorComposite\n",
      "_corr_coeff: to eval: x: 01-05:emergencyCSection y: 20-10:moderateSevereDisabilityOrDeath valid_x: 364 valid_y: 504\n",
      "_corr_coeff: done: x: 01-05:emergencyCSection y: 20-10:moderateSevereDisabilityOrDeath\n"
     ]
    },
    {
     "name": "stdout",
     "output_type": "stream",
     "text": [
      "_corr_coeff: to eval: x: 01-05:emergencyCSection y: 20-10:disabilityLevelDeath4Category valid_x: 364 valid_y: 498\n",
      "_corr_coeff: done: x: 01-05:emergencyCSection y: 20-10:disabilityLevelDeath4Category\n",
      "_corr_coeff: to eval: x: 01-05:emergencyCSection y: 20-10_1:disabilityLevelDeath valid_x: 364 valid_y: 498\n",
      "_corr_coeff: done: x: 01-05:emergencyCSection y: 20-10_1:disabilityLevelDeath\n",
      "_corr_coeff: to eval: x: 01-05:emergencyCSection y: 20-04:BayleyIIICognitiveComposite valid_x: 364 valid_y: 421\n",
      "_corr_coeff: done: x: 01-05:emergencyCSection y: 20-04:BayleyIIICognitiveComposite\n",
      "_corr_coeff: to eval: x: 01-05:emergencyCSection y: 20-04:BayleyIIILanguageComposite valid_x: 364 valid_y: 411\n",
      "_corr_coeff: done: x: 01-05:emergencyCSection y: 20-04:BayleyIIILanguageComposite\n"
     ]
    },
    {
     "name": "stderr",
     "output_type": "stream",
     "text": [
      "\r",
      " 12%|█▎        | 42/336 [00:09<01:04,  4.57it/s]"
     ]
    },
    {
     "name": "stdout",
     "output_type": "stream",
     "text": [
      "_corr_coeff: to eval: x: 01-05:emergencyCSection y: 20-04:BayleyIIIMotorComposite valid_x: 364 valid_y: 415\n",
      "_corr_coeff: done: x: 01-05:emergencyCSection y: 20-04:BayleyIIIMotorComposite\n",
      "_corr_coeff: to eval: x: 01-05_1:cordMishap y: 20-10:moderateSevereDisabilityOrDeath valid_x: 532 valid_y: 504\n",
      "_corr_coeff: done: x: 01-05_1:cordMishap y: 20-10:moderateSevereDisabilityOrDeath\n",
      "_corr_coeff: to eval: x: 01-05_1:cordMishap y: 20-10:disabilityLevelDeath4Category valid_x: 532 valid_y: 498\n",
      "_corr_coeff: done: x: 01-05_1:cordMishap y: 20-10:disabilityLevelDeath4Category\n"
     ]
    },
    {
     "name": "stdout",
     "output_type": "stream",
     "text": [
      "_corr_coeff: to eval: x: 01-05_1:cordMishap y: 20-10_1:disabilityLevelDeath valid_x: 532 valid_y: 498\n",
      "_corr_coeff: done: x: 01-05_1:cordMishap y: 20-10_1:disabilityLevelDeath\n",
      "_corr_coeff: to eval: x: 01-05_1:cordMishap y: 20-04:BayleyIIICognitiveComposite valid_x: 532 valid_y: 421\n",
      "_corr_coeff: done: x: 01-05_1:cordMishap y: 20-04:BayleyIIICognitiveComposite\n"
     ]
    },
    {
     "name": "stderr",
     "output_type": "stream",
     "text": [
      "\r",
      " 13%|█▎        | 43/336 [00:09<01:08,  4.27it/s]"
     ]
    },
    {
     "name": "stdout",
     "output_type": "stream",
     "text": [
      "_corr_coeff: to eval: x: 01-05_1:cordMishap y: 20-04:BayleyIIILanguageComposite valid_x: 532 valid_y: 411\n",
      "_corr_coeff: done: x: 01-05_1:cordMishap y: 20-04:BayleyIIILanguageComposite\n",
      "_corr_coeff: to eval: x: 01-05_1:cordMishap y: 20-04:BayleyIIIMotorComposite valid_x: 532 valid_y: 415\n",
      "_corr_coeff: done: x: 01-05_1:cordMishap y: 20-04:BayleyIIIMotorComposite\n",
      "_corr_coeff: to eval: x: 01-05_1:uterineRupture y: 20-10:moderateSevereDisabilityOrDeath valid_x: 532 valid_y: 504\n",
      "_corr_coeff: done: x: 01-05_1:uterineRupture y: 20-10:moderateSevereDisabilityOrDeath\n"
     ]
    },
    {
     "name": "stdout",
     "output_type": "stream",
     "text": [
      "_corr_coeff: to eval: x: 01-05_1:uterineRupture y: 20-10:disabilityLevelDeath4Category valid_x: 532 valid_y: 498\n",
      "_corr_coeff: done: x: 01-05_1:uterineRupture y: 20-10:disabilityLevelDeath4Category\n",
      "_corr_coeff: to eval: x: 01-05_1:uterineRupture y: 20-10_1:disabilityLevelDeath valid_x: 532 valid_y: 498\n",
      "_corr_coeff: done: x: 01-05_1:uterineRupture y: 20-10_1:disabilityLevelDeath\n",
      "_corr_coeff: to eval: x: 01-05_1:uterineRupture y: 20-04:BayleyIIICognitiveComposite valid_x: 532 valid_y: 421\n",
      "_corr_coeff: done: x: 01-05_1:uterineRupture y: 20-04:BayleyIIICognitiveComposite\n"
     ]
    },
    {
     "name": "stderr",
     "output_type": "stream",
     "text": [
      "\r",
      " 13%|█▎        | 44/336 [00:09<01:07,  4.34it/s]"
     ]
    },
    {
     "name": "stdout",
     "output_type": "stream",
     "text": [
      "_corr_coeff: to eval: x: 01-05_1:uterineRupture y: 20-04:BayleyIIILanguageComposite valid_x: 532 valid_y: 411\n",
      "_corr_coeff: done: x: 01-05_1:uterineRupture y: 20-04:BayleyIIILanguageComposite\n",
      "_corr_coeff: to eval: x: 01-05_1:uterineRupture y: 20-04:BayleyIIIMotorComposite valid_x: 532 valid_y: 415\n",
      "_corr_coeff: done: x: 01-05_1:uterineRupture y: 20-04:BayleyIIIMotorComposite\n",
      "_corr_coeff: to eval: x: 01-05_1:placentalProblem y: 20-10:moderateSevereDisabilityOrDeath valid_x: 532 valid_y: 504\n",
      "_corr_coeff: done: x: 01-05_1:placentalProblem y: 20-10:moderateSevereDisabilityOrDeath\n"
     ]
    },
    {
     "name": "stdout",
     "output_type": "stream",
     "text": [
      "_corr_coeff: to eval: x: 01-05_1:placentalProblem y: 20-10:disabilityLevelDeath4Category valid_x: 532 valid_y: 498\n",
      "_corr_coeff: done: x: 01-05_1:placentalProblem y: 20-10:disabilityLevelDeath4Category\n",
      "_corr_coeff: to eval: x: 01-05_1:placentalProblem y: 20-10_1:disabilityLevelDeath valid_x: 532 valid_y: 498\n",
      "_corr_coeff: done: x: 01-05_1:placentalProblem y: 20-10_1:disabilityLevelDeath\n"
     ]
    },
    {
     "name": "stdout",
     "output_type": "stream",
     "text": [
      "_corr_coeff: to eval: x: 01-05_1:placentalProblem y: 20-04:BayleyIIICognitiveComposite valid_x: 532 valid_y: 421\n",
      "_corr_coeff: done: x: 01-05_1:placentalProblem y: 20-04:BayleyIIICognitiveComposite\n",
      "_corr_coeff: to eval: x: 01-05_1:placentalProblem y: 20-04:BayleyIIILanguageComposite valid_x: 532 valid_y: 411\n",
      "_corr_coeff: done: x: 01-05_1:placentalProblem y: 20-04:BayleyIIILanguageComposite\n"
     ]
    },
    {
     "name": "stderr",
     "output_type": "stream",
     "text": [
      "\r",
      " 13%|█▎        | 45/336 [00:10<01:12,  4.02it/s]"
     ]
    },
    {
     "name": "stdout",
     "output_type": "stream",
     "text": [
      "_corr_coeff: to eval: x: 01-05_1:placentalProblem y: 20-04:BayleyIIIMotorComposite valid_x: 532 valid_y: 415\n",
      "_corr_coeff: done: x: 01-05_1:placentalProblem y: 20-04:BayleyIIIMotorComposite\n",
      "_corr_coeff: to eval: x: 01-05_1:shoulderDystocia y: 20-10:moderateSevereDisabilityOrDeath valid_x: 531 valid_y: 504\n",
      "_corr_coeff: done: x: 01-05_1:shoulderDystocia y: 20-10:moderateSevereDisabilityOrDeath\n",
      "_corr_coeff: to eval: x: 01-05_1:shoulderDystocia y: 20-10:disabilityLevelDeath4Category valid_x: 531 valid_y: 498\n",
      "_corr_coeff: done: x: 01-05_1:shoulderDystocia y: 20-10:disabilityLevelDeath4Category\n",
      "_corr_coeff: to eval: x: 01-05_1:shoulderDystocia y: 20-10_1:disabilityLevelDeath valid_x: 531 valid_y: 498\n",
      "_corr_coeff: done: x: 01-05_1:shoulderDystocia y: 20-10_1:disabilityLevelDeath\n"
     ]
    },
    {
     "name": "stdout",
     "output_type": "stream",
     "text": [
      "_corr_coeff: to eval: x: 01-05_1:shoulderDystocia y: 20-04:BayleyIIICognitiveComposite valid_x: 531 valid_y: 421\n",
      "_corr_coeff: done: x: 01-05_1:shoulderDystocia y: 20-04:BayleyIIICognitiveComposite\n",
      "_corr_coeff: to eval: x: 01-05_1:shoulderDystocia y: 20-04:BayleyIIILanguageComposite valid_x: 531 valid_y: 411\n",
      "_corr_coeff: done: x: 01-05_1:shoulderDystocia y: 20-04:BayleyIIILanguageComposite\n"
     ]
    },
    {
     "name": "stderr",
     "output_type": "stream",
     "text": [
      "\r",
      " 14%|█▎        | 46/336 [00:10<01:09,  4.16it/s]"
     ]
    },
    {
     "name": "stdout",
     "output_type": "stream",
     "text": [
      "_corr_coeff: to eval: x: 01-05_1:shoulderDystocia y: 20-04:BayleyIIIMotorComposite valid_x: 531 valid_y: 415\n",
      "_corr_coeff: done: x: 01-05_1:shoulderDystocia y: 20-04:BayleyIIIMotorComposite\n",
      "_corr_coeff: to eval: x: 01-05_1:maternalHemorrhage y: 20-10:moderateSevereDisabilityOrDeath valid_x: 532 valid_y: 504\n",
      "_corr_coeff: done: x: 01-05_1:maternalHemorrhage y: 20-10:moderateSevereDisabilityOrDeath\n",
      "_corr_coeff: to eval: x: 01-05_1:maternalHemorrhage y: 20-10:disabilityLevelDeath4Category valid_x: 532 valid_y: 498\n",
      "_corr_coeff: done: x: 01-05_1:maternalHemorrhage y: 20-10:disabilityLevelDeath4Category\n",
      "_corr_coeff: to eval: x: 01-05_1:maternalHemorrhage y: 20-10_1:disabilityLevelDeath valid_x: 532 valid_y: 498\n",
      "_corr_coeff: done: x: 01-05_1:maternalHemorrhage y: 20-10_1:disabilityLevelDeath\n",
      "_corr_coeff: to eval: x: 01-05_1:maternalHemorrhage y: 20-04:BayleyIIICognitiveComposite valid_x: 532 valid_y: 421\n",
      "_corr_coeff: done: x: 01-05_1:maternalHemorrhage y: 20-04:BayleyIIICognitiveComposite\n"
     ]
    },
    {
     "name": "stdout",
     "output_type": "stream",
     "text": [
      "_corr_coeff: to eval: x: 01-05_1:maternalHemorrhage y: 20-04:BayleyIIILanguageComposite valid_x: 532 valid_y: 411\n",
      "_corr_coeff: done: x: 01-05_1:maternalHemorrhage y: 20-04:BayleyIIILanguageComposite\n",
      "_corr_coeff: to eval: x: 01-05_1:maternalHemorrhage y: 20-04:BayleyIIIMotorComposite valid_x: 532 valid_y: 415\n",
      "_corr_coeff: done: x: 01-05_1:maternalHemorrhage y: 20-04:BayleyIIIMotorComposite\n"
     ]
    },
    {
     "name": "stderr",
     "output_type": "stream",
     "text": [
      "\r",
      " 14%|█▍        | 47/336 [00:10<01:06,  4.37it/s]"
     ]
    },
    {
     "name": "stdout",
     "output_type": "stream",
     "text": [
      "_corr_coeff: to eval: x: 01-05_1:maternalTrauma y: 20-10:moderateSevereDisabilityOrDeath valid_x: 532 valid_y: 504\n",
      "_corr_coeff: done: x: 01-05_1:maternalTrauma y: 20-10:moderateSevereDisabilityOrDeath\n",
      "_corr_coeff: to eval: x: 01-05_1:maternalTrauma y: 20-10:disabilityLevelDeath4Category valid_x: 532 valid_y: 498\n",
      "_corr_coeff: done: x: 01-05_1:maternalTrauma y: 20-10:disabilityLevelDeath4Category\n",
      "_corr_coeff: to eval: x: 01-05_1:maternalTrauma y: 20-10_1:disabilityLevelDeath valid_x: 532 valid_y: 498\n",
      "_corr_coeff: done: x: 01-05_1:maternalTrauma y: 20-10_1:disabilityLevelDeath\n",
      "_corr_coeff: to eval: x: 01-05_1:maternalTrauma y: 20-04:BayleyIIICognitiveComposite valid_x: 532 valid_y: 421\n",
      "_corr_coeff: done: x: 01-05_1:maternalTrauma y: 20-04:BayleyIIICognitiveComposite\n"
     ]
    },
    {
     "name": "stderr",
     "output_type": "stream",
     "text": [
      "\r",
      " 14%|█▍        | 48/336 [00:10<01:05,  4.42it/s]"
     ]
    },
    {
     "name": "stdout",
     "output_type": "stream",
     "text": [
      "_corr_coeff: to eval: x: 01-05_1:maternalTrauma y: 20-04:BayleyIIILanguageComposite valid_x: 532 valid_y: 411\n",
      "_corr_coeff: done: x: 01-05_1:maternalTrauma y: 20-04:BayleyIIILanguageComposite\n",
      "_corr_coeff: to eval: x: 01-05_1:maternalTrauma y: 20-04:BayleyIIIMotorComposite valid_x: 532 valid_y: 415\n",
      "_corr_coeff: done: x: 01-05_1:maternalTrauma y: 20-04:BayleyIIIMotorComposite\n"
     ]
    },
    {
     "name": "stdout",
     "output_type": "stream",
     "text": [
      "_corr_coeff: to eval: x: 01-05_1:maternalCardioRespiratoryArrest y: 20-10:moderateSevereDisabilityOrDeath valid_x: 532 valid_y: 504\n",
      "_corr_coeff: done: x: 01-05_1:maternalCardioRespiratoryArrest y: 20-10:moderateSevereDisabilityOrDeath\n",
      "_corr_coeff: to eval: x: 01-05_1:maternalCardioRespiratoryArrest y: 20-10:disabilityLevelDeath4Category valid_x: 532 valid_y: 498\n",
      "_corr_coeff: done: x: 01-05_1:maternalCardioRespiratoryArrest y: 20-10:disabilityLevelDeath4Category\n",
      "_corr_coeff: to eval: x: 01-05_1:maternalCardioRespiratoryArrest y: 20-10_1:disabilityLevelDeath valid_x: 532 valid_y: 498\n",
      "_corr_coeff: done: x: 01-05_1:maternalCardioRespiratoryArrest y: 20-10_1:disabilityLevelDeath\n",
      "_corr_coeff: to eval: x: 01-05_1:maternalCardioRespiratoryArrest y: 20-04:BayleyIIICognitiveComposite valid_x: 532 valid_y: 421\n",
      "_corr_coeff: done: x: 01-05_1:maternalCardioRespiratoryArrest y: 20-04:BayleyIIICognitiveComposite\n",
      "_corr_coeff: to eval: x: 01-05_1:maternalCardioRespiratoryArrest y: 20-04:BayleyIIILanguageComposite valid_x: 532 valid_y: 411\n",
      "_corr_coeff: done: x: 01-05_1:maternalCardioRespiratoryArrest y: 20-04:BayleyIIILanguageComposite\n"
     ]
    },
    {
     "name": "stderr",
     "output_type": "stream",
     "text": [
      "\r",
      " 15%|█▍        | 49/336 [00:10<01:02,  4.59it/s]"
     ]
    },
    {
     "name": "stdout",
     "output_type": "stream",
     "text": [
      "_corr_coeff: to eval: x: 01-05_1:maternalCardioRespiratoryArrest y: 20-04:BayleyIIIMotorComposite valid_x: 532 valid_y: 415\n",
      "_corr_coeff: done: x: 01-05_1:maternalCardioRespiratoryArrest y: 20-04:BayleyIIIMotorComposite\n",
      "_corr_coeff: to eval: x: 01-05_1:maternalSeizure y: 20-10:moderateSevereDisabilityOrDeath valid_x: 531 valid_y: 504\n",
      "_corr_coeff: done: x: 01-05_1:maternalSeizure y: 20-10:moderateSevereDisabilityOrDeath\n"
     ]
    },
    {
     "name": "stderr",
     "output_type": "stream",
     "text": [
      "\r",
      " 15%|█▍        | 50/336 [00:11<01:00,  4.72it/s]"
     ]
    },
    {
     "name": "stdout",
     "output_type": "stream",
     "text": [
      "_corr_coeff: to eval: x: 01-05_1:maternalSeizure y: 20-10:disabilityLevelDeath4Category valid_x: 531 valid_y: 498\n",
      "_corr_coeff: done: x: 01-05_1:maternalSeizure y: 20-10:disabilityLevelDeath4Category\n",
      "_corr_coeff: to eval: x: 01-05_1:maternalSeizure y: 20-10_1:disabilityLevelDeath valid_x: 531 valid_y: 498\n",
      "_corr_coeff: done: x: 01-05_1:maternalSeizure y: 20-10_1:disabilityLevelDeath\n",
      "_corr_coeff: to eval: x: 01-05_1:maternalSeizure y: 20-04:BayleyIIICognitiveComposite valid_x: 531 valid_y: 421\n",
      "_corr_coeff: done: x: 01-05_1:maternalSeizure y: 20-04:BayleyIIICognitiveComposite\n",
      "_corr_coeff: to eval: x: 01-05_1:maternalSeizure y: 20-04:BayleyIIILanguageComposite valid_x: 531 valid_y: 411\n",
      "_corr_coeff: done: x: 01-05_1:maternalSeizure y: 20-04:BayleyIIILanguageComposite\n",
      "_corr_coeff: to eval: x: 01-05_1:maternalSeizure y: 20-04:BayleyIIIMotorComposite valid_x: 531 valid_y: 415\n",
      "_corr_coeff: done: x: 01-05_1:maternalSeizure y: 20-04:BayleyIIIMotorComposite\n"
     ]
    },
    {
     "name": "stdout",
     "output_type": "stream",
     "text": [
      "_corr_coeff: to eval: x: 01-05_1:perinatalSentinelEvent y: 20-10:moderateSevereDisabilityOrDeath valid_x: 532 valid_y: 504\n",
      "_corr_coeff: done: x: 01-05_1:perinatalSentinelEvent y: 20-10:moderateSevereDisabilityOrDeath\n",
      "_corr_coeff: to eval: x: 01-05_1:perinatalSentinelEvent y: 20-10:disabilityLevelDeath4Category valid_x: 532 valid_y: 498\n",
      "_corr_coeff: done: x: 01-05_1:perinatalSentinelEvent y: 20-10:disabilityLevelDeath4Category\n"
     ]
    },
    {
     "name": "stdout",
     "output_type": "stream",
     "text": [
      "_corr_coeff: to eval: x: 01-05_1:perinatalSentinelEvent y: 20-10_1:disabilityLevelDeath valid_x: 532 valid_y: 498\n",
      "_corr_coeff: done: x: 01-05_1:perinatalSentinelEvent y: 20-10_1:disabilityLevelDeath\n",
      "_corr_coeff: to eval: x: 01-05_1:perinatalSentinelEvent y: 20-04:BayleyIIICognitiveComposite valid_x: 532 valid_y: 421\n",
      "_corr_coeff: done: x: 01-05_1:perinatalSentinelEvent y: 20-04:BayleyIIICognitiveComposite\n",
      "_corr_coeff: to eval: x: 01-05_1:perinatalSentinelEvent y: 20-04:BayleyIIILanguageComposite valid_x: 532 valid_y: 411\n",
      "_corr_coeff: done: x: 01-05_1:perinatalSentinelEvent y: 20-04:BayleyIIILanguageComposite\n"
     ]
    },
    {
     "name": "stderr",
     "output_type": "stream",
     "text": [
      "\r",
      " 15%|█▌        | 51/336 [00:11<01:03,  4.48it/s]"
     ]
    },
    {
     "name": "stdout",
     "output_type": "stream",
     "text": [
      "_corr_coeff: to eval: x: 01-05_1:perinatalSentinelEvent y: 20-04:BayleyIIIMotorComposite valid_x: 532 valid_y: 415\n",
      "_corr_coeff: done: x: 01-05_1:perinatalSentinelEvent y: 20-04:BayleyIIIMotorComposite\n",
      "_corr_coeff: to eval: x: 01-05_2:emergencyCSection y: 20-10:moderateSevereDisabilityOrDeath valid_x: 532 valid_y: 504\n",
      "_corr_coeff: done: x: 01-05_2:emergencyCSection y: 20-10:moderateSevereDisabilityOrDeath\n"
     ]
    },
    {
     "name": "stderr",
     "output_type": "stream",
     "text": [
      "\r",
      " 15%|█▌        | 52/336 [00:11<01:01,  4.63it/s]"
     ]
    },
    {
     "name": "stdout",
     "output_type": "stream",
     "text": [
      "_corr_coeff: to eval: x: 01-05_2:emergencyCSection y: 20-10:disabilityLevelDeath4Category valid_x: 532 valid_y: 498\n",
      "_corr_coeff: done: x: 01-05_2:emergencyCSection y: 20-10:disabilityLevelDeath4Category\n",
      "_corr_coeff: to eval: x: 01-05_2:emergencyCSection y: 20-10_1:disabilityLevelDeath valid_x: 532 valid_y: 498\n",
      "_corr_coeff: done: x: 01-05_2:emergencyCSection y: 20-10_1:disabilityLevelDeath\n",
      "_corr_coeff: to eval: x: 01-05_2:emergencyCSection y: 20-04:BayleyIIICognitiveComposite valid_x: 532 valid_y: 421\n",
      "_corr_coeff: done: x: 01-05_2:emergencyCSection y: 20-04:BayleyIIICognitiveComposite\n",
      "_corr_coeff: to eval: x: 01-05_2:emergencyCSection y: 20-04:BayleyIIILanguageComposite valid_x: 532 valid_y: 411\n",
      "_corr_coeff: done: x: 01-05_2:emergencyCSection y: 20-04:BayleyIIILanguageComposite\n",
      "_corr_coeff: to eval: x: 01-05_2:emergencyCSection y: 20-04:BayleyIIIMotorComposite valid_x: 532 valid_y: 415\n",
      "_corr_coeff: done: x: 01-05_2:emergencyCSection y: 20-04:BayleyIIIMotorComposite\n"
     ]
    },
    {
     "name": "stdout",
     "output_type": "stream",
     "text": [
      "_corr_coeff: to eval: x: 01-06:encephalopathyLevel y: 20-10:moderateSevereDisabilityOrDeath valid_x: 532 valid_y: 504\n",
      "_corr_coeff: done: x: 01-06:encephalopathyLevel y: 20-10:moderateSevereDisabilityOrDeath\n",
      "_corr_coeff: to eval: x: 01-06:encephalopathyLevel y: 20-10:disabilityLevelDeath4Category valid_x: 532 valid_y: 498\n",
      "_corr_coeff: done: x: 01-06:encephalopathyLevel y: 20-10:disabilityLevelDeath4Category\n"
     ]
    },
    {
     "name": "stderr",
     "output_type": "stream",
     "text": [
      "\r",
      " 16%|█▌        | 53/336 [00:11<00:59,  4.74it/s]"
     ]
    },
    {
     "name": "stdout",
     "output_type": "stream",
     "text": [
      "_corr_coeff: to eval: x: 01-06:encephalopathyLevel y: 20-10_1:disabilityLevelDeath valid_x: 532 valid_y: 498\n",
      "_corr_coeff: done: x: 01-06:encephalopathyLevel y: 20-10_1:disabilityLevelDeath\n",
      "_corr_coeff: to eval: x: 01-06:encephalopathyLevel y: 20-04:BayleyIIICognitiveComposite valid_x: 532 valid_y: 421\n",
      "_corr_coeff: done: x: 01-06:encephalopathyLevel y: 20-04:BayleyIIICognitiveComposite\n",
      "_corr_coeff: to eval: x: 01-06:encephalopathyLevel y: 20-04:BayleyIIILanguageComposite valid_x: 532 valid_y: 411\n",
      "_corr_coeff: done: x: 01-06:encephalopathyLevel y: 20-04:BayleyIIILanguageComposite\n",
      "_corr_coeff: to eval: x: 01-06:encephalopathyLevel y: 20-04:BayleyIIIMotorComposite valid_x: 532 valid_y: 415\n",
      "_corr_coeff: done: x: 01-06:encephalopathyLevel y: 20-04:BayleyIIIMotorComposite\n",
      "_corr_coeff: to eval: x: 01-06:randomInfantAge y: 20-10:moderateSevereDisabilityOrDeath valid_x: 168 valid_y: 504\n",
      "_corr_coeff: done: x: 01-06:randomInfantAge y: 20-10:moderateSevereDisabilityOrDeath\n"
     ]
    },
    {
     "name": "stdout",
     "output_type": "stream",
     "text": [
      "_corr_coeff: to eval: x: 01-06:randomInfantAge y: 20-10:disabilityLevelDeath4Category valid_x: 168 valid_y: 498\n",
      "_corr_coeff: done: x: 01-06:randomInfantAge y: 20-10:disabilityLevelDeath4Category\n",
      "_corr_coeff: to eval: x: 01-06:randomInfantAge y: 20-10_1:disabilityLevelDeath valid_x: 168 valid_y: 498\n",
      "_corr_coeff: done: x: 01-06:randomInfantAge y: 20-10_1:disabilityLevelDeath\n"
     ]
    },
    {
     "name": "stderr",
     "output_type": "stream",
     "text": [
      "\r",
      " 16%|█▌        | 54/336 [00:11<00:59,  4.71it/s]"
     ]
    },
    {
     "name": "stdout",
     "output_type": "stream",
     "text": [
      "_corr_coeff: to eval: x: 01-06:randomInfantAge y: 20-04:BayleyIIICognitiveComposite valid_x: 168 valid_y: 421\n",
      "_corr_coeff: done: x: 01-06:randomInfantAge y: 20-04:BayleyIIICognitiveComposite\n",
      "_corr_coeff: to eval: x: 01-06:randomInfantAge y: 20-04:BayleyIIILanguageComposite valid_x: 168 valid_y: 411\n",
      "_corr_coeff: done: x: 01-06:randomInfantAge y: 20-04:BayleyIIILanguageComposite\n",
      "_corr_coeff: to eval: x: 01-06:randomInfantAge y: 20-04:BayleyIIIMotorComposite valid_x: 168 valid_y: 415\n",
      "_corr_coeff: done: x: 01-06:randomInfantAge y: 20-04:BayleyIIIMotorComposite\n",
      "_corr_coeff: to eval: x: 01-06:birthWeight_g y: 20-10:moderateSevereDisabilityOrDeath valid_x: 531 valid_y: 504\n",
      "_corr_coeff: done: x: 01-06:birthWeight_g y: 20-10:moderateSevereDisabilityOrDeath\n"
     ]
    },
    {
     "name": "stdout",
     "output_type": "stream",
     "text": [
      "_corr_coeff: to eval: x: 01-06:birthWeight_g y: 20-10:disabilityLevelDeath4Category valid_x: 531 valid_y: 498\n",
      "_corr_coeff: done: x: 01-06:birthWeight_g y: 20-10:disabilityLevelDeath4Category\n",
      "_corr_coeff: to eval: x: 01-06:birthWeight_g y: 20-10_1:disabilityLevelDeath valid_x: 531 valid_y: 498\n",
      "_corr_coeff: done: x: 01-06:birthWeight_g y: 20-10_1:disabilityLevelDeath\n"
     ]
    },
    {
     "name": "stderr",
     "output_type": "stream",
     "text": [
      "\r",
      " 16%|█▋        | 55/336 [00:12<00:58,  4.78it/s]"
     ]
    },
    {
     "name": "stdout",
     "output_type": "stream",
     "text": [
      "_corr_coeff: to eval: x: 01-06:birthWeight_g y: 20-04:BayleyIIICognitiveComposite valid_x: 531 valid_y: 421\n",
      "_corr_coeff: done: x: 01-06:birthWeight_g y: 20-04:BayleyIIICognitiveComposite\n",
      "_corr_coeff: to eval: x: 01-06:birthWeight_g y: 20-04:BayleyIIILanguageComposite valid_x: 531 valid_y: 411\n",
      "_corr_coeff: done: x: 01-06:birthWeight_g y: 20-04:BayleyIIILanguageComposite\n",
      "_corr_coeff: to eval: x: 01-06:birthWeight_g y: 20-04:BayleyIIIMotorComposite valid_x: 531 valid_y: 415\n",
      "_corr_coeff: done: x: 01-06:birthWeight_g y: 20-04:BayleyIIIMotorComposite\n",
      "_corr_coeff: to eval: x: 01-06:birthLength_cm y: 20-10:moderateSevereDisabilityOrDeath valid_x: 506 valid_y: 504\n",
      "_corr_coeff: done: x: 01-06:birthLength_cm y: 20-10:moderateSevereDisabilityOrDeath\n",
      "_corr_coeff: to eval: x: 01-06:birthLength_cm y: 20-10:disabilityLevelDeath4Category valid_x: 506 valid_y: 498\n",
      "_corr_coeff: done: x: 01-06:birthLength_cm y: 20-10:disabilityLevelDeath4Category\n"
     ]
    },
    {
     "name": "stdout",
     "output_type": "stream",
     "text": [
      "_corr_coeff: to eval: x: 01-06:birthLength_cm y: 20-10_1:disabilityLevelDeath valid_x: 506 valid_y: 498\n",
      "_corr_coeff: done: x: 01-06:birthLength_cm y: 20-10_1:disabilityLevelDeath\n",
      "_corr_coeff: to eval: x: 01-06:birthLength_cm y: 20-04:BayleyIIICognitiveComposite valid_x: 506 valid_y: 421\n",
      "_corr_coeff: done: x: 01-06:birthLength_cm y: 20-04:BayleyIIICognitiveComposite\n"
     ]
    },
    {
     "name": "stderr",
     "output_type": "stream",
     "text": [
      "\r",
      " 17%|█▋        | 56/336 [00:12<01:01,  4.54it/s]"
     ]
    },
    {
     "name": "stdout",
     "output_type": "stream",
     "text": [
      "_corr_coeff: to eval: x: 01-06:birthLength_cm y: 20-04:BayleyIIILanguageComposite valid_x: 506 valid_y: 411\n",
      "_corr_coeff: done: x: 01-06:birthLength_cm y: 20-04:BayleyIIILanguageComposite\n",
      "_corr_coeff: to eval: x: 01-06:birthLength_cm y: 20-04:BayleyIIIMotorComposite valid_x: 506 valid_y: 415\n",
      "_corr_coeff: done: x: 01-06:birthLength_cm y: 20-04:BayleyIIIMotorComposite\n",
      "_corr_coeff: to eval: x: 01-06:birthHeadCircumference_cm y: 20-10:moderateSevereDisabilityOrDeath valid_x: 509 valid_y: 504\n",
      "_corr_coeff: done: x: 01-06:birthHeadCircumference_cm y: 20-10:moderateSevereDisabilityOrDeath\n"
     ]
    },
    {
     "name": "stdout",
     "output_type": "stream",
     "text": [
      "_corr_coeff: to eval: x: 01-06:birthHeadCircumference_cm y: 20-10:disabilityLevelDeath4Category valid_x: 509 valid_y: 498\n",
      "_corr_coeff: done: x: 01-06:birthHeadCircumference_cm y: 20-10:disabilityLevelDeath4Category\n",
      "_corr_coeff: to eval: x: 01-06:birthHeadCircumference_cm y: 20-10_1:disabilityLevelDeath valid_x: 509 valid_y: 498\n",
      "_corr_coeff: done: x: 01-06:birthHeadCircumference_cm y: 20-10_1:disabilityLevelDeath\n"
     ]
    },
    {
     "name": "stderr",
     "output_type": "stream",
     "text": [
      "\r",
      " 17%|█▋        | 57/336 [00:12<00:59,  4.66it/s]"
     ]
    },
    {
     "name": "stdout",
     "output_type": "stream",
     "text": [
      "_corr_coeff: to eval: x: 01-06:birthHeadCircumference_cm y: 20-04:BayleyIIICognitiveComposite valid_x: 509 valid_y: 421\n",
      "_corr_coeff: done: x: 01-06:birthHeadCircumference_cm y: 20-04:BayleyIIICognitiveComposite\n",
      "_corr_coeff: to eval: x: 01-06:birthHeadCircumference_cm y: 20-04:BayleyIIILanguageComposite valid_x: 509 valid_y: 411\n",
      "_corr_coeff: done: x: 01-06:birthHeadCircumference_cm y: 20-04:BayleyIIILanguageComposite\n",
      "_corr_coeff: to eval: x: 01-06:birthHeadCircumference_cm y: 20-04:BayleyIIIMotorComposite valid_x: 509 valid_y: 415\n",
      "_corr_coeff: done: x: 01-06:birthHeadCircumference_cm y: 20-04:BayleyIIIMotorComposite\n",
      "_corr_coeff: to eval: x: 01-06:birthGestationalAge_week y: 20-10:moderateSevereDisabilityOrDeath valid_x: 531 valid_y: 504\n",
      "_corr_coeff: done: x: 01-06:birthGestationalAge_week y: 20-10:moderateSevereDisabilityOrDeath\n"
     ]
    },
    {
     "name": "stdout",
     "output_type": "stream",
     "text": [
      "_corr_coeff: to eval: x: 01-06:birthGestationalAge_week y: 20-10:disabilityLevelDeath4Category valid_x: 531 valid_y: 498\n",
      "_corr_coeff: done: x: 01-06:birthGestationalAge_week y: 20-10:disabilityLevelDeath4Category\n",
      "_corr_coeff: to eval: x: 01-06:birthGestationalAge_week y: 20-10_1:disabilityLevelDeath valid_x: 531 valid_y: 498\n",
      "_corr_coeff: done: x: 01-06:birthGestationalAge_week y: 20-10_1:disabilityLevelDeath\n"
     ]
    },
    {
     "name": "stderr",
     "output_type": "stream",
     "text": [
      "\r",
      " 17%|█▋        | 58/336 [00:12<01:03,  4.39it/s]"
     ]
    },
    {
     "name": "stdout",
     "output_type": "stream",
     "text": [
      "_corr_coeff: to eval: x: 01-06:birthGestationalAge_week y: 20-04:BayleyIIICognitiveComposite valid_x: 531 valid_y: 421\n",
      "_corr_coeff: done: x: 01-06:birthGestationalAge_week y: 20-04:BayleyIIICognitiveComposite\n",
      "_corr_coeff: to eval: x: 01-06:birthGestationalAge_week y: 20-04:BayleyIIILanguageComposite valid_x: 531 valid_y: 411\n",
      "_corr_coeff: done: x: 01-06:birthGestationalAge_week y: 20-04:BayleyIIILanguageComposite\n",
      "_corr_coeff: to eval: x: 01-06:birthGestationalAge_week y: 20-04:BayleyIIIMotorComposite valid_x: 531 valid_y: 415\n",
      "_corr_coeff: done: x: 01-06:birthGestationalAge_week y: 20-04:BayleyIIIMotorComposite\n"
     ]
    },
    {
     "name": "stdout",
     "output_type": "stream",
     "text": [
      "_corr_coeff: to eval: x: 01-06:infantSex y: 20-10:moderateSevereDisabilityOrDeath valid_x: 532 valid_y: 504\n",
      "_corr_coeff: done: x: 01-06:infantSex y: 20-10:moderateSevereDisabilityOrDeath\n",
      "_corr_coeff: to eval: x: 01-06:infantSex y: 20-10:disabilityLevelDeath4Category valid_x: 532 valid_y: 498\n",
      "_corr_coeff: done: x: 01-06:infantSex y: 20-10:disabilityLevelDeath4Category\n"
     ]
    },
    {
     "name": "stderr",
     "output_type": "stream",
     "text": [
      "\r",
      " 18%|█▊        | 59/336 [00:13<01:01,  4.53it/s]"
     ]
    },
    {
     "name": "stdout",
     "output_type": "stream",
     "text": [
      "_corr_coeff: to eval: x: 01-06:infantSex y: 20-10_1:disabilityLevelDeath valid_x: 532 valid_y: 498\n",
      "_corr_coeff: done: x: 01-06:infantSex y: 20-10_1:disabilityLevelDeath\n",
      "_corr_coeff: to eval: x: 01-06:infantSex y: 20-04:BayleyIIICognitiveComposite valid_x: 532 valid_y: 421\n",
      "_corr_coeff: done: x: 01-06:infantSex y: 20-04:BayleyIIICognitiveComposite\n",
      "_corr_coeff: to eval: x: 01-06:infantSex y: 20-04:BayleyIIILanguageComposite valid_x: 532 valid_y: 411\n",
      "_corr_coeff: done: x: 01-06:infantSex y: 20-04:BayleyIIILanguageComposite\n",
      "_corr_coeff: to eval: x: 01-06:infantSex y: 20-04:BayleyIIIMotorComposite valid_x: 532 valid_y: 415\n",
      "_corr_coeff: done: x: 01-06:infantSex y: 20-04:BayleyIIIMotorComposite\n",
      "_corr_coeff: to eval: x: 01-06:maleSex y: 20-10:moderateSevereDisabilityOrDeath valid_x: 364 valid_y: 504\n",
      "_corr_coeff: done: x: 01-06:maleSex y: 20-10:moderateSevereDisabilityOrDeath\n"
     ]
    },
    {
     "name": "stdout",
     "output_type": "stream",
     "text": [
      "_corr_coeff: to eval: x: 01-06:maleSex y: 20-10:disabilityLevelDeath4Category valid_x: 364 valid_y: 498\n",
      "_corr_coeff: done: x: 01-06:maleSex y: 20-10:disabilityLevelDeath4Category\n",
      "_corr_coeff: to eval: x: 01-06:maleSex y: 20-10_1:disabilityLevelDeath valid_x: 364 valid_y: 498\n",
      "_corr_coeff: done: x: 01-06:maleSex y: 20-10_1:disabilityLevelDeath\n"
     ]
    },
    {
     "name": "stderr",
     "output_type": "stream",
     "text": [
      "\r",
      " 18%|█▊        | 60/336 [00:13<01:02,  4.43it/s]"
     ]
    },
    {
     "name": "stdout",
     "output_type": "stream",
     "text": [
      "_corr_coeff: to eval: x: 01-06:maleSex y: 20-04:BayleyIIICognitiveComposite valid_x: 364 valid_y: 421\n",
      "_corr_coeff: done: x: 01-06:maleSex y: 20-04:BayleyIIICognitiveComposite\n",
      "_corr_coeff: to eval: x: 01-06:maleSex y: 20-04:BayleyIIILanguageComposite valid_x: 364 valid_y: 411\n",
      "_corr_coeff: done: x: 01-06:maleSex y: 20-04:BayleyIIILanguageComposite\n",
      "_corr_coeff: to eval: x: 01-06:maleSex y: 20-04:BayleyIIIMotorComposite valid_x: 364 valid_y: 415\n",
      "_corr_coeff: done: x: 01-06:maleSex y: 20-04:BayleyIIIMotorComposite\n"
     ]
    },
    {
     "name": "stdout",
     "output_type": "stream",
     "text": [
      "_corr_coeff: to eval: x: 01-06:infantOutborn y: 20-10:moderateSevereDisabilityOrDeath valid_x: 532 valid_y: 504\n",
      "_corr_coeff: done: x: 01-06:infantOutborn y: 20-10:moderateSevereDisabilityOrDeath\n",
      "_corr_coeff: to eval: x: 01-06:infantOutborn y: 20-10:disabilityLevelDeath4Category valid_x: 532 valid_y: 498\n",
      "_corr_coeff: done: x: 01-06:infantOutborn y: 20-10:disabilityLevelDeath4Category\n",
      "_corr_coeff: to eval: x: 01-06:infantOutborn y: 20-10_1:disabilityLevelDeath valid_x: 532 valid_y: 498\n",
      "_corr_coeff: done: x: 01-06:infantOutborn y: 20-10_1:disabilityLevelDeath\n",
      "_corr_coeff: to eval: x: 01-06:infantOutborn y: 20-04:BayleyIIICognitiveComposite valid_x: 532 valid_y: 421\n",
      "_corr_coeff: done: x: 01-06:infantOutborn y: 20-04:BayleyIIICognitiveComposite\n"
     ]
    },
    {
     "name": "stderr",
     "output_type": "stream",
     "text": [
      "\r",
      " 18%|█▊        | 61/336 [00:13<01:00,  4.57it/s]"
     ]
    },
    {
     "name": "stdout",
     "output_type": "stream",
     "text": [
      "_corr_coeff: to eval: x: 01-06:infantOutborn y: 20-04:BayleyIIILanguageComposite valid_x: 532 valid_y: 411\n",
      "_corr_coeff: done: x: 01-06:infantOutborn y: 20-04:BayleyIIILanguageComposite\n",
      "_corr_coeff: to eval: x: 01-06:infantOutborn y: 20-04:BayleyIIIMotorComposite valid_x: 532 valid_y: 415\n",
      "_corr_coeff: done: x: 01-06:infantOutborn y: 20-04:BayleyIIIMotorComposite\n",
      "_corr_coeff: to eval: x: 01-06:outbornInHospital y: 20-10:moderateSevereDisabilityOrDeath valid_x: 380 valid_y: 504\n",
      "_corr_coeff: done: x: 01-06:outbornInHospital y: 20-10:moderateSevereDisabilityOrDeath\n"
     ]
    },
    {
     "name": "stdout",
     "output_type": "stream",
     "text": [
      "_corr_coeff: to eval: x: 01-06:outbornInHospital y: 20-10:disabilityLevelDeath4Category valid_x: 380 valid_y: 498\n",
      "_corr_coeff: done: x: 01-06:outbornInHospital y: 20-10:disabilityLevelDeath4Category\n",
      "_corr_coeff: to eval: x: 01-06:outbornInHospital y: 20-10_1:disabilityLevelDeath valid_x: 380 valid_y: 498\n",
      "_corr_coeff: done: x: 01-06:outbornInHospital y: 20-10_1:disabilityLevelDeath\n"
     ]
    },
    {
     "name": "stderr",
     "output_type": "stream",
     "text": [
      "\r",
      " 18%|█▊        | 62/336 [00:13<01:01,  4.44it/s]"
     ]
    },
    {
     "name": "stdout",
     "output_type": "stream",
     "text": [
      "_corr_coeff: to eval: x: 01-06:outbornInHospital y: 20-04:BayleyIIICognitiveComposite valid_x: 380 valid_y: 421\n",
      "_corr_coeff: done: x: 01-06:outbornInHospital y: 20-04:BayleyIIICognitiveComposite\n",
      "_corr_coeff: to eval: x: 01-06:outbornInHospital y: 20-04:BayleyIIILanguageComposite valid_x: 380 valid_y: 411\n",
      "_corr_coeff: done: x: 01-06:outbornInHospital y: 20-04:BayleyIIILanguageComposite\n",
      "_corr_coeff: to eval: x: 01-06:outbornInHospital y: 20-04:BayleyIIIMotorComposite valid_x: 380 valid_y: 415\n",
      "_corr_coeff: done: x: 01-06:outbornInHospital y: 20-04:BayleyIIIMotorComposite\n"
     ]
    },
    {
     "name": "stdout",
     "output_type": "stream",
     "text": [
      "_corr_coeff: to eval: x: 01-06:outbornOutHospital y: 20-10:moderateSevereDisabilityOrDeath valid_x: 380 valid_y: 504\n",
      "_corr_coeff: done: x: 01-06:outbornOutHospital y: 20-10:moderateSevereDisabilityOrDeath\n",
      "_corr_coeff: to eval: x: 01-06:outbornOutHospital y: 20-10:disabilityLevelDeath4Category valid_x: 380 valid_y: 498\n",
      "_corr_coeff: done: x: 01-06:outbornOutHospital y: 20-10:disabilityLevelDeath4Category\n",
      "_corr_coeff: to eval: x: 01-06:outbornOutHospital y: 20-10_1:disabilityLevelDeath valid_x: 380 valid_y: 498\n",
      "_corr_coeff: done: x: 01-06:outbornOutHospital y: 20-10_1:disabilityLevelDeath\n",
      "_corr_coeff: to eval: x: 01-06:outbornOutHospital y: 20-04:BayleyIIICognitiveComposite valid_x: 380 valid_y: 421\n",
      "_corr_coeff: done: x: 01-06:outbornOutHospital y: 20-04:BayleyIIICognitiveComposite\n"
     ]
    },
    {
     "name": "stderr",
     "output_type": "stream",
     "text": [
      "\r",
      " 19%|█▉        | 63/336 [00:13<00:58,  4.70it/s]"
     ]
    },
    {
     "name": "stdout",
     "output_type": "stream",
     "text": [
      "_corr_coeff: to eval: x: 01-06:outbornOutHospital y: 20-04:BayleyIIILanguageComposite valid_x: 380 valid_y: 411\n",
      "_corr_coeff: done: x: 01-06:outbornOutHospital y: 20-04:BayleyIIILanguageComposite\n",
      "_corr_coeff: to eval: x: 01-06:outbornOutHospital y: 20-04:BayleyIIIMotorComposite valid_x: 380 valid_y: 415\n",
      "_corr_coeff: done: x: 01-06:outbornOutHospital y: 20-04:BayleyIIIMotorComposite\n",
      "_corr_coeff: to eval: x: 01-06:Apgar1min y: 20-10:moderateSevereDisabilityOrDeath valid_x: 528 valid_y: 504\n",
      "_corr_coeff: done: x: 01-06:Apgar1min y: 20-10:moderateSevereDisabilityOrDeath\n"
     ]
    },
    {
     "name": "stdout",
     "output_type": "stream",
     "text": [
      "_corr_coeff: to eval: x: 01-06:Apgar1min y: 20-10:disabilityLevelDeath4Category valid_x: 528 valid_y: 498\n",
      "_corr_coeff: done: x: 01-06:Apgar1min y: 20-10:disabilityLevelDeath4Category\n",
      "_corr_coeff: to eval: x: 01-06:Apgar1min y: 20-10_1:disabilityLevelDeath valid_x: 528 valid_y: 498\n",
      "_corr_coeff: done: x: 01-06:Apgar1min y: 20-10_1:disabilityLevelDeath\n"
     ]
    },
    {
     "name": "stderr",
     "output_type": "stream",
     "text": [
      "\r",
      " 19%|█▉        | 64/336 [00:14<01:00,  4.46it/s]"
     ]
    },
    {
     "name": "stdout",
     "output_type": "stream",
     "text": [
      "_corr_coeff: to eval: x: 01-06:Apgar1min y: 20-04:BayleyIIICognitiveComposite valid_x: 528 valid_y: 421\n",
      "_corr_coeff: done: x: 01-06:Apgar1min y: 20-04:BayleyIIICognitiveComposite\n",
      "_corr_coeff: to eval: x: 01-06:Apgar1min y: 20-04:BayleyIIILanguageComposite valid_x: 528 valid_y: 411\n",
      "_corr_coeff: done: x: 01-06:Apgar1min y: 20-04:BayleyIIILanguageComposite\n",
      "_corr_coeff: to eval: x: 01-06:Apgar1min y: 20-04:BayleyIIIMotorComposite valid_x: 528 valid_y: 415\n",
      "_corr_coeff: done: x: 01-06:Apgar1min y: 20-04:BayleyIIIMotorComposite\n",
      "_corr_coeff: to eval: x: 01-06:Apgar5min y: 20-10:moderateSevereDisabilityOrDeath valid_x: 529 valid_y: 504\n",
      "_corr_coeff: done: x: 01-06:Apgar5min y: 20-10:moderateSevereDisabilityOrDeath\n",
      "_corr_coeff: to eval: x: 01-06:Apgar5min y: 20-10:disabilityLevelDeath4Category valid_x: 529 valid_y: 498\n",
      "_corr_coeff: done: x: 01-06:Apgar5min y: 20-10:disabilityLevelDeath4Category\n"
     ]
    },
    {
     "name": "stdout",
     "output_type": "stream",
     "text": [
      "_corr_coeff: to eval: x: 01-06:Apgar5min y: 20-10_1:disabilityLevelDeath valid_x: 529 valid_y: 498\n",
      "_corr_coeff: done: x: 01-06:Apgar5min y: 20-10_1:disabilityLevelDeath\n",
      "_corr_coeff: to eval: x: 01-06:Apgar5min y: 20-04:BayleyIIICognitiveComposite valid_x: 529 valid_y: 421\n",
      "_corr_coeff: done: x: 01-06:Apgar5min y: 20-04:BayleyIIICognitiveComposite\n"
     ]
    },
    {
     "name": "stderr",
     "output_type": "stream",
     "text": [
      "\r",
      " 19%|█▉        | 65/336 [00:14<00:59,  4.58it/s]"
     ]
    },
    {
     "name": "stdout",
     "output_type": "stream",
     "text": [
      "_corr_coeff: to eval: x: 01-06:Apgar5min y: 20-04:BayleyIIILanguageComposite valid_x: 529 valid_y: 411\n",
      "_corr_coeff: done: x: 01-06:Apgar5min y: 20-04:BayleyIIILanguageComposite\n",
      "_corr_coeff: to eval: x: 01-06:Apgar5min y: 20-04:BayleyIIIMotorComposite valid_x: 529 valid_y: 415\n",
      "_corr_coeff: done: x: 01-06:Apgar5min y: 20-04:BayleyIIIMotorComposite\n",
      "_corr_coeff: to eval: x: 01-06:Apgar10min y: 20-10:moderateSevereDisabilityOrDeath valid_x: 464 valid_y: 504\n",
      "_corr_coeff: done: x: 01-06:Apgar10min y: 20-10:moderateSevereDisabilityOrDeath\n"
     ]
    },
    {
     "name": "stdout",
     "output_type": "stream",
     "text": [
      "_corr_coeff: to eval: x: 01-06:Apgar10min y: 20-10:disabilityLevelDeath4Category valid_x: 464 valid_y: 498\n",
      "_corr_coeff: done: x: 01-06:Apgar10min y: 20-10:disabilityLevelDeath4Category\n",
      "_corr_coeff: to eval: x: 01-06:Apgar10min y: 20-10_1:disabilityLevelDeath valid_x: 464 valid_y: 498\n",
      "_corr_coeff: done: x: 01-06:Apgar10min y: 20-10_1:disabilityLevelDeath\n"
     ]
    },
    {
     "name": "stderr",
     "output_type": "stream",
     "text": [
      "\r",
      " 20%|█▉        | 66/336 [00:14<01:01,  4.41it/s]"
     ]
    },
    {
     "name": "stdout",
     "output_type": "stream",
     "text": [
      "_corr_coeff: to eval: x: 01-06:Apgar10min y: 20-04:BayleyIIICognitiveComposite valid_x: 464 valid_y: 421\n",
      "_corr_coeff: done: x: 01-06:Apgar10min y: 20-04:BayleyIIICognitiveComposite\n",
      "_corr_coeff: to eval: x: 01-06:Apgar10min y: 20-04:BayleyIIILanguageComposite valid_x: 464 valid_y: 411\n",
      "_corr_coeff: done: x: 01-06:Apgar10min y: 20-04:BayleyIIILanguageComposite\n",
      "_corr_coeff: to eval: x: 01-06:Apgar10min y: 20-04:BayleyIIIMotorComposite valid_x: 464 valid_y: 415\n",
      "_corr_coeff: done: x: 01-06:Apgar10min y: 20-04:BayleyIIIMotorComposite\n",
      "_corr_coeff: to eval: x: 01-06:Apgar15min y: 20-10:moderateSevereDisabilityOrDeath valid_x: 123 valid_y: 504\n",
      "_corr_coeff: done: x: 01-06:Apgar15min y: 20-10:moderateSevereDisabilityOrDeath\n",
      "_corr_coeff: to eval: x: 01-06:Apgar15min y: 20-10:disabilityLevelDeath4Category valid_x: 123 valid_y: 498\n",
      "_corr_coeff: done: x: 01-06:Apgar15min y: 20-10:disabilityLevelDeath4Category\n"
     ]
    },
    {
     "name": "stdout",
     "output_type": "stream",
     "text": [
      "_corr_coeff: to eval: x: 01-06:Apgar15min y: 20-10_1:disabilityLevelDeath valid_x: 123 valid_y: 498\n",
      "_corr_coeff: done: x: 01-06:Apgar15min y: 20-10_1:disabilityLevelDeath\n",
      "_corr_coeff: to eval: x: 01-06:Apgar15min y: 20-04:BayleyIIICognitiveComposite valid_x: 123 valid_y: 421\n",
      "_corr_coeff: done: x: 01-06:Apgar15min y: 20-04:BayleyIIICognitiveComposite\n",
      "_corr_coeff: to eval: x: 01-06:Apgar15min y: 20-04:BayleyIIILanguageComposite valid_x: 123 valid_y: 411\n",
      "_corr_coeff: done: x: 01-06:Apgar15min y: 20-04:BayleyIIILanguageComposite\n"
     ]
    },
    {
     "name": "stderr",
     "output_type": "stream",
     "text": [
      "\r",
      " 20%|█▉        | 67/336 [00:14<00:59,  4.49it/s]"
     ]
    },
    {
     "name": "stdout",
     "output_type": "stream",
     "text": [
      "_corr_coeff: to eval: x: 01-06:Apgar15min y: 20-04:BayleyIIIMotorComposite valid_x: 123 valid_y: 415\n",
      "_corr_coeff: done: x: 01-06:Apgar15min y: 20-04:BayleyIIIMotorComposite\n",
      "_corr_coeff: to eval: x: 01-06:Apgar20min y: 20-10:moderateSevereDisabilityOrDeath valid_x: 107 valid_y: 504\n",
      "_corr_coeff: done: x: 01-06:Apgar20min y: 20-10:moderateSevereDisabilityOrDeath\n",
      "_corr_coeff: to eval: x: 01-06:Apgar20min y: 20-10:disabilityLevelDeath4Category valid_x: 107 valid_y: 498\n",
      "_corr_coeff: done: x: 01-06:Apgar20min y: 20-10:disabilityLevelDeath4Category\n"
     ]
    },
    {
     "name": "stderr",
     "output_type": "stream",
     "text": [
      "\r",
      " 20%|██        | 68/336 [00:14<00:54,  4.93it/s]"
     ]
    },
    {
     "name": "stdout",
     "output_type": "stream",
     "text": [
      "_corr_coeff: to eval: x: 01-06:Apgar20min y: 20-10_1:disabilityLevelDeath valid_x: 107 valid_y: 498\n",
      "_corr_coeff: done: x: 01-06:Apgar20min y: 20-10_1:disabilityLevelDeath\n",
      "_corr_coeff: to eval: x: 01-06:Apgar20min y: 20-04:BayleyIIICognitiveComposite valid_x: 107 valid_y: 421\n",
      "_corr_coeff: done: x: 01-06:Apgar20min y: 20-04:BayleyIIICognitiveComposite\n",
      "_corr_coeff: to eval: x: 01-06:Apgar20min y: 20-04:BayleyIIILanguageComposite valid_x: 107 valid_y: 411\n",
      "_corr_coeff: done: x: 01-06:Apgar20min y: 20-04:BayleyIIILanguageComposite\n",
      "_corr_coeff: to eval: x: 01-06:Apgar20min y: 20-04:BayleyIIIMotorComposite valid_x: 107 valid_y: 415\n",
      "_corr_coeff: done: x: 01-06:Apgar20min y: 20-04:BayleyIIIMotorComposite\n",
      "_corr_coeff: to eval: x: 01-06:deliveryResuscitation y: 20-10:moderateSevereDisabilityOrDeath valid_x: 531 valid_y: 504\n",
      "_corr_coeff: done: x: 01-06:deliveryResuscitation y: 20-10:moderateSevereDisabilityOrDeath\n"
     ]
    },
    {
     "name": "stdout",
     "output_type": "stream",
     "text": [
      "_corr_coeff: to eval: x: 01-06:deliveryResuscitation y: 20-10:disabilityLevelDeath4Category valid_x: 531 valid_y: 498\n",
      "_corr_coeff: done: x: 01-06:deliveryResuscitation y: 20-10:disabilityLevelDeath4Category\n",
      "_corr_coeff: to eval: x: 01-06:deliveryResuscitation y: 20-10_1:disabilityLevelDeath valid_x: 531 valid_y: 498\n",
      "_corr_coeff: done: x: 01-06:deliveryResuscitation y: 20-10_1:disabilityLevelDeath\n"
     ]
    },
    {
     "name": "stderr",
     "output_type": "stream",
     "text": [
      "\r",
      " 21%|██        | 69/336 [00:15<00:58,  4.58it/s]"
     ]
    },
    {
     "name": "stdout",
     "output_type": "stream",
     "text": [
      "_corr_coeff: to eval: x: 01-06:deliveryResuscitation y: 20-04:BayleyIIICognitiveComposite valid_x: 531 valid_y: 421\n",
      "_corr_coeff: done: x: 01-06:deliveryResuscitation y: 20-04:BayleyIIICognitiveComposite\n",
      "_corr_coeff: to eval: x: 01-06:deliveryResuscitation y: 20-04:BayleyIIILanguageComposite valid_x: 531 valid_y: 411\n",
      "_corr_coeff: done: x: 01-06:deliveryResuscitation y: 20-04:BayleyIIILanguageComposite\n",
      "_corr_coeff: to eval: x: 01-06:deliveryResuscitation y: 20-04:BayleyIIIMotorComposite valid_x: 531 valid_y: 415\n",
      "_corr_coeff: done: x: 01-06:deliveryResuscitation y: 20-04:BayleyIIIMotorComposite\n"
     ]
    },
    {
     "name": "stdout",
     "output_type": "stream",
     "text": [
      "_corr_coeff: to eval: x: 01-06:deliveryOxygen y: 20-10:moderateSevereDisabilityOrDeath valid_x: 529 valid_y: 504\n",
      "_corr_coeff: done: x: 01-06:deliveryOxygen y: 20-10:moderateSevereDisabilityOrDeath\n",
      "_corr_coeff: to eval: x: 01-06:deliveryOxygen y: 20-10:disabilityLevelDeath4Category valid_x: 529 valid_y: 498\n",
      "_corr_coeff: done: x: 01-06:deliveryOxygen y: 20-10:disabilityLevelDeath4Category\n"
     ]
    },
    {
     "name": "stderr",
     "output_type": "stream",
     "text": [
      "\r",
      " 21%|██        | 70/336 [00:15<00:57,  4.64it/s]"
     ]
    },
    {
     "name": "stdout",
     "output_type": "stream",
     "text": [
      "_corr_coeff: to eval: x: 01-06:deliveryOxygen y: 20-10_1:disabilityLevelDeath valid_x: 529 valid_y: 498\n",
      "_corr_coeff: done: x: 01-06:deliveryOxygen y: 20-10_1:disabilityLevelDeath\n",
      "_corr_coeff: to eval: x: 01-06:deliveryOxygen y: 20-04:BayleyIIICognitiveComposite valid_x: 529 valid_y: 421\n",
      "_corr_coeff: done: x: 01-06:deliveryOxygen y: 20-04:BayleyIIICognitiveComposite\n",
      "_corr_coeff: to eval: x: 01-06:deliveryOxygen y: 20-04:BayleyIIILanguageComposite valid_x: 529 valid_y: 411\n",
      "_corr_coeff: done: x: 01-06:deliveryOxygen y: 20-04:BayleyIIILanguageComposite\n",
      "_corr_coeff: to eval: x: 01-06:deliveryOxygen y: 20-04:BayleyIIIMotorComposite valid_x: 529 valid_y: 415\n",
      "_corr_coeff: done: x: 01-06:deliveryOxygen y: 20-04:BayleyIIIMotorComposite\n"
     ]
    },
    {
     "name": "stdout",
     "output_type": "stream",
     "text": [
      "_corr_coeff: to eval: x: 01-06:deliveryBaggingAndMask y: 20-10:moderateSevereDisabilityOrDeath valid_x: 528 valid_y: 504\n",
      "_corr_coeff: done: x: 01-06:deliveryBaggingAndMask y: 20-10:moderateSevereDisabilityOrDeath\n",
      "_corr_coeff: to eval: x: 01-06:deliveryBaggingAndMask y: 20-10:disabilityLevelDeath4Category valid_x: 528 valid_y: 498\n",
      "_corr_coeff: done: x: 01-06:deliveryBaggingAndMask y: 20-10:disabilityLevelDeath4Category\n"
     ]
    },
    {
     "name": "stdout",
     "output_type": "stream",
     "text": [
      "_corr_coeff: to eval: x: 01-06:deliveryBaggingAndMask y: 20-10_1:disabilityLevelDeath valid_x: 528 valid_y: 498\n",
      "_corr_coeff: done: x: 01-06:deliveryBaggingAndMask y: 20-10_1:disabilityLevelDeath\n",
      "_corr_coeff: to eval: x: 01-06:deliveryBaggingAndMask y: 20-04:BayleyIIICognitiveComposite valid_x: 528 valid_y: 421\n",
      "_corr_coeff: done: x: 01-06:deliveryBaggingAndMask y: 20-04:BayleyIIICognitiveComposite\n",
      "_corr_coeff: to eval: x: 01-06:deliveryBaggingAndMask y: 20-04:BayleyIIILanguageComposite valid_x: 528 valid_y: 411\n",
      "_corr_coeff: done: x: 01-06:deliveryBaggingAndMask y: 20-04:BayleyIIILanguageComposite\n"
     ]
    },
    {
     "name": "stderr",
     "output_type": "stream",
     "text": [
      "\r",
      " 21%|██        | 71/336 [00:15<01:00,  4.40it/s]"
     ]
    },
    {
     "name": "stdout",
     "output_type": "stream",
     "text": [
      "_corr_coeff: to eval: x: 01-06:deliveryBaggingAndMask y: 20-04:BayleyIIIMotorComposite valid_x: 528 valid_y: 415\n",
      "_corr_coeff: done: x: 01-06:deliveryBaggingAndMask y: 20-04:BayleyIIIMotorComposite\n",
      "_corr_coeff: to eval: x: 01-06:deliveryChestCompression y: 20-10:moderateSevereDisabilityOrDeath valid_x: 529 valid_y: 504\n",
      "_corr_coeff: done: x: 01-06:deliveryChestCompression y: 20-10:moderateSevereDisabilityOrDeath\n"
     ]
    },
    {
     "name": "stdout",
     "output_type": "stream",
     "text": [
      "_corr_coeff: to eval: x: 01-06:deliveryChestCompression y: 20-10:disabilityLevelDeath4Category valid_x: 529 valid_y: 498\n",
      "_corr_coeff: done: x: 01-06:deliveryChestCompression y: 20-10:disabilityLevelDeath4Category\n",
      "_corr_coeff: to eval: x: 01-06:deliveryChestCompression y: 20-10_1:disabilityLevelDeath valid_x: 529 valid_y: 498\n",
      "_corr_coeff: done: x: 01-06:deliveryChestCompression y: 20-10_1:disabilityLevelDeath\n",
      "_corr_coeff: to eval: x: 01-06:deliveryChestCompression y: 20-04:BayleyIIICognitiveComposite valid_x: 529 valid_y: 421\n",
      "_corr_coeff: done: x: 01-06:deliveryChestCompression y: 20-04:BayleyIIICognitiveComposite\n",
      "_corr_coeff: to eval: x: 01-06:deliveryChestCompression y: 20-04:BayleyIIILanguageComposite valid_x: 529 valid_y: 411\n",
      "_corr_coeff: done: x: 01-06:deliveryChestCompression y: 20-04:BayleyIIILanguageComposite\n"
     ]
    },
    {
     "name": "stderr",
     "output_type": "stream",
     "text": [
      "\r",
      " 21%|██▏       | 72/336 [00:15<00:58,  4.52it/s]"
     ]
    },
    {
     "name": "stdout",
     "output_type": "stream",
     "text": [
      "_corr_coeff: to eval: x: 01-06:deliveryChestCompression y: 20-04:BayleyIIIMotorComposite valid_x: 529 valid_y: 415\n",
      "_corr_coeff: done: x: 01-06:deliveryChestCompression y: 20-04:BayleyIIIMotorComposite\n",
      "_corr_coeff: to eval: x: 01-06:deliveryIntubation y: 20-10:moderateSevereDisabilityOrDeath valid_x: 529 valid_y: 504\n",
      "_corr_coeff: done: x: 01-06:deliveryIntubation y: 20-10:moderateSevereDisabilityOrDeath\n",
      "_corr_coeff: to eval: x: 01-06:deliveryIntubation y: 20-10:disabilityLevelDeath4Category valid_x: 529 valid_y: 498\n",
      "_corr_coeff: done: x: 01-06:deliveryIntubation y: 20-10:disabilityLevelDeath4Category\n"
     ]
    },
    {
     "name": "stdout",
     "output_type": "stream",
     "text": [
      "_corr_coeff: to eval: x: 01-06:deliveryIntubation y: 20-10_1:disabilityLevelDeath valid_x: 529 valid_y: 498\n",
      "_corr_coeff: done: x: 01-06:deliveryIntubation y: 20-10_1:disabilityLevelDeath\n",
      "_corr_coeff: to eval: x: 01-06:deliveryIntubation y: 20-04:BayleyIIICognitiveComposite valid_x: 529 valid_y: 421\n",
      "_corr_coeff: done: x: 01-06:deliveryIntubation y: 20-04:BayleyIIICognitiveComposite\n"
     ]
    },
    {
     "name": "stderr",
     "output_type": "stream",
     "text": [
      "\r",
      " 22%|██▏       | 73/336 [00:16<01:00,  4.36it/s]"
     ]
    },
    {
     "name": "stdout",
     "output_type": "stream",
     "text": [
      "_corr_coeff: to eval: x: 01-06:deliveryIntubation y: 20-04:BayleyIIILanguageComposite valid_x: 529 valid_y: 411\n",
      "_corr_coeff: done: x: 01-06:deliveryIntubation y: 20-04:BayleyIIILanguageComposite\n",
      "_corr_coeff: to eval: x: 01-06:deliveryIntubation y: 20-04:BayleyIIIMotorComposite valid_x: 529 valid_y: 415\n",
      "_corr_coeff: done: x: 01-06:deliveryIntubation y: 20-04:BayleyIIIMotorComposite\n",
      "_corr_coeff: to eval: x: 01-06:deliveryDrug y: 20-10:moderateSevereDisabilityOrDeath valid_x: 529 valid_y: 504\n",
      "_corr_coeff: done: x: 01-06:deliveryDrug y: 20-10:moderateSevereDisabilityOrDeath\n"
     ]
    },
    {
     "name": "stdout",
     "output_type": "stream",
     "text": [
      "_corr_coeff: to eval: x: 01-06:deliveryDrug y: 20-10:disabilityLevelDeath4Category valid_x: 529 valid_y: 498\n",
      "_corr_coeff: done: x: 01-06:deliveryDrug y: 20-10:disabilityLevelDeath4Category\n",
      "_corr_coeff: to eval: x: 01-06:deliveryDrug y: 20-10_1:disabilityLevelDeath valid_x: 529 valid_y: 498\n",
      "_corr_coeff: done: x: 01-06:deliveryDrug y: 20-10_1:disabilityLevelDeath\n",
      "_corr_coeff: to eval: x: 01-06:deliveryDrug y: 20-04:BayleyIIICognitiveComposite valid_x: 529 valid_y: 421\n",
      "_corr_coeff: done: x: 01-06:deliveryDrug y: 20-04:BayleyIIICognitiveComposite\n",
      "_corr_coeff: to eval: x: 01-06:deliveryDrug y: 20-04:BayleyIIILanguageComposite valid_x: 529 valid_y: 411\n",
      "_corr_coeff: done: x: 01-06:deliveryDrug y: 20-04:BayleyIIILanguageComposite\n"
     ]
    },
    {
     "name": "stderr",
     "output_type": "stream",
     "text": [
      "\r",
      " 22%|██▏       | 74/336 [00:16<00:57,  4.53it/s]"
     ]
    },
    {
     "name": "stdout",
     "output_type": "stream",
     "text": [
      "_corr_coeff: to eval: x: 01-06:deliveryDrug y: 20-04:BayleyIIIMotorComposite valid_x: 529 valid_y: 415\n",
      "_corr_coeff: done: x: 01-06:deliveryDrug y: 20-04:BayleyIIIMotorComposite\n",
      "_corr_coeff: to eval: x: 01-06:at10MinContinueResuscitation y: 20-10:moderateSevereDisabilityOrDeath valid_x: 527 valid_y: 504\n",
      "_corr_coeff: done: x: 01-06:at10MinContinueResuscitation y: 20-10:moderateSevereDisabilityOrDeath\n",
      "_corr_coeff: to eval: x: 01-06:at10MinContinueResuscitation y: 20-10:disabilityLevelDeath4Category valid_x: 527 valid_y: 498\n",
      "_corr_coeff: done: x: 01-06:at10MinContinueResuscitation y: 20-10:disabilityLevelDeath4Category\n"
     ]
    },
    {
     "name": "stderr",
     "output_type": "stream",
     "text": [
      "\r",
      " 22%|██▏       | 75/336 [00:16<00:55,  4.67it/s]"
     ]
    },
    {
     "name": "stdout",
     "output_type": "stream",
     "text": [
      "_corr_coeff: to eval: x: 01-06:at10MinContinueResuscitation y: 20-10_1:disabilityLevelDeath valid_x: 527 valid_y: 498\n",
      "_corr_coeff: done: x: 01-06:at10MinContinueResuscitation y: 20-10_1:disabilityLevelDeath\n",
      "_corr_coeff: to eval: x: 01-06:at10MinContinueResuscitation y: 20-04:BayleyIIICognitiveComposite valid_x: 527 valid_y: 421\n",
      "_corr_coeff: done: x: 01-06:at10MinContinueResuscitation y: 20-04:BayleyIIICognitiveComposite\n",
      "_corr_coeff: to eval: x: 01-06:at10MinContinueResuscitation y: 20-04:BayleyIIILanguageComposite valid_x: 527 valid_y: 411\n",
      "_corr_coeff: done: x: 01-06:at10MinContinueResuscitation y: 20-04:BayleyIIILanguageComposite\n",
      "_corr_coeff: to eval: x: 01-06:at10MinContinueResuscitation y: 20-04:BayleyIIIMotorComposite valid_x: 527 valid_y: 415\n",
      "_corr_coeff: done: x: 01-06:at10MinContinueResuscitation y: 20-04:BayleyIIIMotorComposite\n"
     ]
    },
    {
     "name": "stdout",
     "output_type": "stream",
     "text": [
      "_corr_coeff: to eval: x: 01-06:at10MinOxygen y: 20-10:moderateSevereDisabilityOrDeath valid_x: 430 valid_y: 504\n",
      "_corr_coeff: done: x: 01-06:at10MinOxygen y: 20-10:moderateSevereDisabilityOrDeath\n",
      "_corr_coeff: to eval: x: 01-06:at10MinOxygen y: 20-10:disabilityLevelDeath4Category valid_x: 430 valid_y: 498\n",
      "_corr_coeff: done: x: 01-06:at10MinOxygen y: 20-10:disabilityLevelDeath4Category\n",
      "_corr_coeff: to eval: x: 01-06:at10MinOxygen y: 20-10_1:disabilityLevelDeath valid_x: 430 valid_y: 498\n",
      "_corr_coeff: done: x: 01-06:at10MinOxygen y: 20-10_1:disabilityLevelDeath\n"
     ]
    },
    {
     "name": "stderr",
     "output_type": "stream",
     "text": [
      "\r",
      " 23%|██▎       | 76/336 [00:16<00:53,  4.83it/s]"
     ]
    },
    {
     "name": "stdout",
     "output_type": "stream",
     "text": [
      "_corr_coeff: to eval: x: 01-06:at10MinOxygen y: 20-04:BayleyIIICognitiveComposite valid_x: 430 valid_y: 421\n",
      "_corr_coeff: done: x: 01-06:at10MinOxygen y: 20-04:BayleyIIICognitiveComposite\n",
      "_corr_coeff: to eval: x: 01-06:at10MinOxygen y: 20-04:BayleyIIILanguageComposite valid_x: 430 valid_y: 411\n",
      "_corr_coeff: done: x: 01-06:at10MinOxygen y: 20-04:BayleyIIILanguageComposite\n",
      "_corr_coeff: to eval: x: 01-06:at10MinOxygen y: 20-04:BayleyIIIMotorComposite valid_x: 430 valid_y: 415\n",
      "_corr_coeff: done: x: 01-06:at10MinOxygen y: 20-04:BayleyIIIMotorComposite\n",
      "_corr_coeff: to eval: x: 01-06:at10MinBaggingAndMask y: 20-10:moderateSevereDisabilityOrDeath valid_x: 430 valid_y: 504\n",
      "_corr_coeff: done: x: 01-06:at10MinBaggingAndMask y: 20-10:moderateSevereDisabilityOrDeath\n"
     ]
    },
    {
     "name": "stdout",
     "output_type": "stream",
     "text": [
      "_corr_coeff: to eval: x: 01-06:at10MinBaggingAndMask y: 20-10:disabilityLevelDeath4Category valid_x: 430 valid_y: 498\n",
      "_corr_coeff: done: x: 01-06:at10MinBaggingAndMask y: 20-10:disabilityLevelDeath4Category\n",
      "_corr_coeff: to eval: x: 01-06:at10MinBaggingAndMask y: 20-10_1:disabilityLevelDeath valid_x: 430 valid_y: 498\n",
      "_corr_coeff: done: x: 01-06:at10MinBaggingAndMask y: 20-10_1:disabilityLevelDeath\n",
      "_corr_coeff: to eval: x: 01-06:at10MinBaggingAndMask y: 20-04:BayleyIIICognitiveComposite valid_x: 430 valid_y: 421\n",
      "_corr_coeff: done: x: 01-06:at10MinBaggingAndMask y: 20-04:BayleyIIICognitiveComposite\n"
     ]
    },
    {
     "name": "stderr",
     "output_type": "stream",
     "text": [
      "\r",
      " 23%|██▎       | 77/336 [00:16<00:52,  4.96it/s]"
     ]
    },
    {
     "name": "stdout",
     "output_type": "stream",
     "text": [
      "_corr_coeff: to eval: x: 01-06:at10MinBaggingAndMask y: 20-04:BayleyIIILanguageComposite valid_x: 430 valid_y: 411\n",
      "_corr_coeff: done: x: 01-06:at10MinBaggingAndMask y: 20-04:BayleyIIILanguageComposite\n",
      "_corr_coeff: to eval: x: 01-06:at10MinBaggingAndMask y: 20-04:BayleyIIIMotorComposite valid_x: 430 valid_y: 415\n",
      "_corr_coeff: done: x: 01-06:at10MinBaggingAndMask y: 20-04:BayleyIIIMotorComposite\n",
      "_corr_coeff: to eval: x: 01-06:at10MinChestCompression y: 20-10:moderateSevereDisabilityOrDeath valid_x: 428 valid_y: 504\n",
      "_corr_coeff: done: x: 01-06:at10MinChestCompression y: 20-10:moderateSevereDisabilityOrDeath\n",
      "_corr_coeff: to eval: x: 01-06:at10MinChestCompression y: 20-10:disabilityLevelDeath4Category valid_x: 428 valid_y: 498\n",
      "_corr_coeff: done: x: 01-06:at10MinChestCompression y: 20-10:disabilityLevelDeath4Category\n"
     ]
    },
    {
     "name": "stdout",
     "output_type": "stream",
     "text": [
      "_corr_coeff: to eval: x: 01-06:at10MinChestCompression y: 20-10_1:disabilityLevelDeath valid_x: 428 valid_y: 498\n",
      "_corr_coeff: done: x: 01-06:at10MinChestCompression y: 20-10_1:disabilityLevelDeath\n",
      "_corr_coeff: to eval: x: 01-06:at10MinChestCompression y: 20-04:BayleyIIICognitiveComposite valid_x: 428 valid_y: 421\n",
      "_corr_coeff: done: x: 01-06:at10MinChestCompression y: 20-04:BayleyIIICognitiveComposite\n",
      "_corr_coeff: to eval: x: 01-06:at10MinChestCompression y: 20-04:BayleyIIILanguageComposite valid_x: 428 valid_y: 411\n",
      "_corr_coeff: done: x: 01-06:at10MinChestCompression y: 20-04:BayleyIIILanguageComposite\n"
     ]
    },
    {
     "name": "stderr",
     "output_type": "stream",
     "text": [
      "\r",
      " 23%|██▎       | 78/336 [00:17<00:50,  5.06it/s]"
     ]
    },
    {
     "name": "stdout",
     "output_type": "stream",
     "text": [
      "_corr_coeff: to eval: x: 01-06:at10MinChestCompression y: 20-04:BayleyIIIMotorComposite valid_x: 428 valid_y: 415\n",
      "_corr_coeff: done: x: 01-06:at10MinChestCompression y: 20-04:BayleyIIIMotorComposite\n",
      "_corr_coeff: to eval: x: 01-06:at10MinIntubation y: 20-10:moderateSevereDisabilityOrDeath valid_x: 429 valid_y: 504\n",
      "_corr_coeff: done: x: 01-06:at10MinIntubation y: 20-10:moderateSevereDisabilityOrDeath\n",
      "_corr_coeff: to eval: x: 01-06:at10MinIntubation y: 20-10:disabilityLevelDeath4Category valid_x: 429 valid_y: 498\n",
      "_corr_coeff: done: x: 01-06:at10MinIntubation y: 20-10:disabilityLevelDeath4Category\n",
      "_corr_coeff: to eval: x: 01-06:at10MinIntubation y: 20-10_1:disabilityLevelDeath valid_x: 429 valid_y: 498\n",
      "_corr_coeff: done: x: 01-06:at10MinIntubation y: 20-10_1:disabilityLevelDeath\n"
     ]
    },
    {
     "name": "stdout",
     "output_type": "stream",
     "text": [
      "_corr_coeff: to eval: x: 01-06:at10MinIntubation y: 20-04:BayleyIIICognitiveComposite valid_x: 429 valid_y: 421\n",
      "_corr_coeff: done: x: 01-06:at10MinIntubation y: 20-04:BayleyIIICognitiveComposite\n"
     ]
    },
    {
     "name": "stderr",
     "output_type": "stream",
     "text": [
      "\r",
      " 24%|██▎       | 79/336 [00:17<00:53,  4.77it/s]"
     ]
    },
    {
     "name": "stdout",
     "output_type": "stream",
     "text": [
      "_corr_coeff: to eval: x: 01-06:at10MinIntubation y: 20-04:BayleyIIILanguageComposite valid_x: 429 valid_y: 411\n",
      "_corr_coeff: done: x: 01-06:at10MinIntubation y: 20-04:BayleyIIILanguageComposite\n",
      "_corr_coeff: to eval: x: 01-06:at10MinIntubation y: 20-04:BayleyIIIMotorComposite valid_x: 429 valid_y: 415\n",
      "_corr_coeff: done: x: 01-06:at10MinIntubation y: 20-04:BayleyIIIMotorComposite\n",
      "_corr_coeff: to eval: x: 01-06:at10MinDrug y: 20-10:moderateSevereDisabilityOrDeath valid_x: 428 valid_y: 504\n",
      "_corr_coeff: done: x: 01-06:at10MinDrug y: 20-10:moderateSevereDisabilityOrDeath\n",
      "_corr_coeff: to eval: x: 01-06:at10MinDrug y: 20-10:disabilityLevelDeath4Category valid_x: 428 valid_y: 498\n",
      "_corr_coeff: done: x: 01-06:at10MinDrug y: 20-10:disabilityLevelDeath4Category\n"
     ]
    },
    {
     "name": "stdout",
     "output_type": "stream",
     "text": [
      "_corr_coeff: to eval: x: 01-06:at10MinDrug y: 20-10_1:disabilityLevelDeath valid_x: 428 valid_y: 498\n",
      "_corr_coeff: done: x: 01-06:at10MinDrug y: 20-10_1:disabilityLevelDeath\n",
      "_corr_coeff: to eval: x: 01-06:at10MinDrug y: 20-04:BayleyIIICognitiveComposite valid_x: 428 valid_y: 421\n",
      "_corr_coeff: done: x: 01-06:at10MinDrug y: 20-04:BayleyIIICognitiveComposite\n",
      "_corr_coeff: to eval: x: 01-06:at10MinDrug y: 20-04:BayleyIIILanguageComposite valid_x: 428 valid_y: 411\n",
      "_corr_coeff: done: x: 01-06:at10MinDrug y: 20-04:BayleyIIILanguageComposite\n"
     ]
    },
    {
     "name": "stderr",
     "output_type": "stream",
     "text": [
      "\r",
      " 24%|██▍       | 80/336 [00:17<00:51,  4.93it/s]"
     ]
    },
    {
     "name": "stdout",
     "output_type": "stream",
     "text": [
      "_corr_coeff: to eval: x: 01-06:at10MinDrug y: 20-04:BayleyIIIMotorComposite valid_x: 428 valid_y: 415\n",
      "_corr_coeff: done: x: 01-06:at10MinDrug y: 20-04:BayleyIIIMotorComposite\n",
      "_corr_coeff: to eval: x: 01-06:spontaneousRespirationTime y: 20-10:moderateSevereDisabilityOrDeath valid_x: 504 valid_y: 504\n",
      "_corr_coeff: done: x: 01-06:spontaneousRespirationTime y: 20-10:moderateSevereDisabilityOrDeath\n",
      "_corr_coeff: to eval: x: 01-06:spontaneousRespirationTime y: 20-10:disabilityLevelDeath4Category valid_x: 504 valid_y: 498\n",
      "_corr_coeff: done: x: 01-06:spontaneousRespirationTime y: 20-10:disabilityLevelDeath4Category\n",
      "_corr_coeff: to eval: x: 01-06:spontaneousRespirationTime y: 20-10_1:disabilityLevelDeath valid_x: 504 valid_y: 498\n",
      "_corr_coeff: done: x: 01-06:spontaneousRespirationTime y: 20-10_1:disabilityLevelDeath\n"
     ]
    },
    {
     "name": "stderr",
     "output_type": "stream",
     "text": [
      "\r",
      " 24%|██▍       | 81/336 [00:17<00:51,  4.99it/s]"
     ]
    },
    {
     "name": "stdout",
     "output_type": "stream",
     "text": [
      "_corr_coeff: to eval: x: 01-06:spontaneousRespirationTime y: 20-04:BayleyIIICognitiveComposite valid_x: 504 valid_y: 421\n",
      "_corr_coeff: done: x: 01-06:spontaneousRespirationTime y: 20-04:BayleyIIICognitiveComposite\n",
      "_corr_coeff: to eval: x: 01-06:spontaneousRespirationTime y: 20-04:BayleyIIILanguageComposite valid_x: 504 valid_y: 411\n",
      "_corr_coeff: done: x: 01-06:spontaneousRespirationTime y: 20-04:BayleyIIILanguageComposite\n",
      "_corr_coeff: to eval: x: 01-06:spontaneousRespirationTime y: 20-04:BayleyIIIMotorComposite valid_x: 504 valid_y: 415\n",
      "_corr_coeff: done: x: 01-06:spontaneousRespirationTime y: 20-04:BayleyIIIMotorComposite\n"
     ]
    },
    {
     "name": "stdout",
     "output_type": "stream",
     "text": [
      "_corr_coeff: to eval: x: 01-06:cordBloodGas y: 20-10:moderateSevereDisabilityOrDeath valid_x: 528 valid_y: 504\n",
      "_corr_coeff: done: x: 01-06:cordBloodGas y: 20-10:moderateSevereDisabilityOrDeath\n",
      "_corr_coeff: to eval: x: 01-06:cordBloodGas y: 20-10:disabilityLevelDeath4Category valid_x: 528 valid_y: 498\n",
      "_corr_coeff: done: x: 01-06:cordBloodGas y: 20-10:disabilityLevelDeath4Category\n",
      "_corr_coeff: to eval: x: 01-06:cordBloodGas y: 20-10_1:disabilityLevelDeath valid_x: 528 valid_y: 498\n",
      "_corr_coeff: done: x: 01-06:cordBloodGas y: 20-10_1:disabilityLevelDeath\n",
      "_corr_coeff: to eval: x: 01-06:cordBloodGas y: 20-04:BayleyIIICognitiveComposite valid_x: 528 valid_y: 421\n",
      "_corr_coeff: done: x: 01-06:cordBloodGas y: 20-04:BayleyIIICognitiveComposite\n"
     ]
    },
    {
     "name": "stdout",
     "output_type": "stream",
     "text": [
      "_corr_coeff: to eval: x: 01-06:cordBloodGas y: 20-04:BayleyIIILanguageComposite valid_x: 528 valid_y: 411\n",
      "_corr_coeff: done: x: 01-06:cordBloodGas y: 20-04:BayleyIIILanguageComposite\n"
     ]
    },
    {
     "name": "stderr",
     "output_type": "stream",
     "text": [
      "\r",
      " 24%|██▍       | 82/336 [00:17<00:54,  4.64it/s]"
     ]
    },
    {
     "name": "stdout",
     "output_type": "stream",
     "text": [
      "_corr_coeff: to eval: x: 01-06:cordBloodGas y: 20-04:BayleyIIIMotorComposite valid_x: 528 valid_y: 415\n",
      "_corr_coeff: done: x: 01-06:cordBloodGas y: 20-04:BayleyIIIMotorComposite\n",
      "_corr_coeff: to eval: x: 01-06:cordBloodGasPH y: 20-10:moderateSevereDisabilityOrDeath valid_x: 415 valid_y: 504\n",
      "_corr_coeff: done: x: 01-06:cordBloodGasPH y: 20-10:moderateSevereDisabilityOrDeath\n",
      "_corr_coeff: to eval: x: 01-06:cordBloodGasPH y: 20-10:disabilityLevelDeath4Category valid_x: 415 valid_y: 498\n",
      "_corr_coeff: done: x: 01-06:cordBloodGasPH y: 20-10:disabilityLevelDeath4Category\n",
      "_corr_coeff: to eval: x: 01-06:cordBloodGasPH y: 20-10_1:disabilityLevelDeath valid_x: 415 valid_y: 498\n",
      "_corr_coeff: done: x: 01-06:cordBloodGasPH y: 20-10_1:disabilityLevelDeath\n"
     ]
    },
    {
     "name": "stderr",
     "output_type": "stream",
     "text": [
      "\r",
      " 25%|██▍       | 83/336 [00:18<00:52,  4.83it/s]"
     ]
    },
    {
     "name": "stdout",
     "output_type": "stream",
     "text": [
      "_corr_coeff: to eval: x: 01-06:cordBloodGasPH y: 20-04:BayleyIIICognitiveComposite valid_x: 415 valid_y: 421\n",
      "_corr_coeff: done: x: 01-06:cordBloodGasPH y: 20-04:BayleyIIICognitiveComposite\n",
      "_corr_coeff: to eval: x: 01-06:cordBloodGasPH y: 20-04:BayleyIIILanguageComposite valid_x: 415 valid_y: 411\n",
      "_corr_coeff: done: x: 01-06:cordBloodGasPH y: 20-04:BayleyIIILanguageComposite\n",
      "_corr_coeff: to eval: x: 01-06:cordBloodGasPH y: 20-04:BayleyIIIMotorComposite valid_x: 415 valid_y: 415\n",
      "_corr_coeff: done: x: 01-06:cordBloodGasPH y: 20-04:BayleyIIIMotorComposite\n"
     ]
    },
    {
     "name": "stdout",
     "output_type": "stream",
     "text": [
      "_corr_coeff: to eval: x: 01-06:cordBloodGasPCO2_mmHg y: 20-10:moderateSevereDisabilityOrDeath valid_x: 359 valid_y: 504\n",
      "_corr_coeff: done: x: 01-06:cordBloodGasPCO2_mmHg y: 20-10:moderateSevereDisabilityOrDeath\n",
      "_corr_coeff: to eval: x: 01-06:cordBloodGasPCO2_mmHg y: 20-10:disabilityLevelDeath4Category valid_x: 359 valid_y: 498\n",
      "_corr_coeff: done: x: 01-06:cordBloodGasPCO2_mmHg y: 20-10:disabilityLevelDeath4Category\n",
      "_corr_coeff: to eval: x: 01-06:cordBloodGasPCO2_mmHg y: 20-10_1:disabilityLevelDeath valid_x: 359 valid_y: 498\n",
      "_corr_coeff: done: x: 01-06:cordBloodGasPCO2_mmHg y: 20-10_1:disabilityLevelDeath\n",
      "_corr_coeff: to eval: x: 01-06:cordBloodGasPCO2_mmHg y: 20-04:BayleyIIICognitiveComposite valid_x: 359 valid_y: 421\n",
      "_corr_coeff: done: x: 01-06:cordBloodGasPCO2_mmHg y: 20-04:BayleyIIICognitiveComposite\n"
     ]
    },
    {
     "name": "stderr",
     "output_type": "stream",
     "text": [
      "\r",
      " 25%|██▌       | 84/336 [00:18<00:50,  5.00it/s]"
     ]
    },
    {
     "name": "stdout",
     "output_type": "stream",
     "text": [
      "_corr_coeff: to eval: x: 01-06:cordBloodGasPCO2_mmHg y: 20-04:BayleyIIILanguageComposite valid_x: 359 valid_y: 411\n",
      "_corr_coeff: done: x: 01-06:cordBloodGasPCO2_mmHg y: 20-04:BayleyIIILanguageComposite\n",
      "_corr_coeff: to eval: x: 01-06:cordBloodGasPCO2_mmHg y: 20-04:BayleyIIIMotorComposite valid_x: 359 valid_y: 415\n",
      "_corr_coeff: done: x: 01-06:cordBloodGasPCO2_mmHg y: 20-04:BayleyIIIMotorComposite\n"
     ]
    },
    {
     "name": "stdout",
     "output_type": "stream",
     "text": [
      "_corr_coeff: to eval: x: 01-06:cordBloodGasPO2_mmHg y: 20-10:moderateSevereDisabilityOrDeath valid_x: 320 valid_y: 504\n",
      "_corr_coeff: done: x: 01-06:cordBloodGasPO2_mmHg y: 20-10:moderateSevereDisabilityOrDeath\n",
      "_corr_coeff: to eval: x: 01-06:cordBloodGasPO2_mmHg y: 20-10:disabilityLevelDeath4Category valid_x: 320 valid_y: 498\n",
      "_corr_coeff: done: x: 01-06:cordBloodGasPO2_mmHg y: 20-10:disabilityLevelDeath4Category\n",
      "_corr_coeff: to eval: x: 01-06:cordBloodGasPO2_mmHg y: 20-10_1:disabilityLevelDeath valid_x: 320 valid_y: 498\n",
      "_corr_coeff: done: x: 01-06:cordBloodGasPO2_mmHg y: 20-10_1:disabilityLevelDeath\n",
      "_corr_coeff: to eval: x: 01-06:cordBloodGasPO2_mmHg y: 20-04:BayleyIIICognitiveComposite valid_x: 320 valid_y: 421\n",
      "_corr_coeff: done: x: 01-06:cordBloodGasPO2_mmHg y: 20-04:BayleyIIICognitiveComposite\n"
     ]
    },
    {
     "name": "stderr",
     "output_type": "stream",
     "text": [
      "\r",
      " 25%|██▌       | 85/336 [00:18<00:52,  4.76it/s]"
     ]
    },
    {
     "name": "stdout",
     "output_type": "stream",
     "text": [
      "_corr_coeff: to eval: x: 01-06:cordBloodGasPO2_mmHg y: 20-04:BayleyIIILanguageComposite valid_x: 320 valid_y: 411\n",
      "_corr_coeff: done: x: 01-06:cordBloodGasPO2_mmHg y: 20-04:BayleyIIILanguageComposite\n",
      "_corr_coeff: to eval: x: 01-06:cordBloodGasPO2_mmHg y: 20-04:BayleyIIIMotorComposite valid_x: 320 valid_y: 415\n",
      "_corr_coeff: done: x: 01-06:cordBloodGasPO2_mmHg y: 20-04:BayleyIIIMotorComposite\n",
      "_corr_coeff: to eval: x: 01-06:cordBloodGasHCO3_mEqPerL y: 20-10:moderateSevereDisabilityOrDeath valid_x: 299 valid_y: 504\n",
      "_corr_coeff: done: x: 01-06:cordBloodGasHCO3_mEqPerL y: 20-10:moderateSevereDisabilityOrDeath\n"
     ]
    },
    {
     "name": "stdout",
     "output_type": "stream",
     "text": [
      "_corr_coeff: to eval: x: 01-06:cordBloodGasHCO3_mEqPerL y: 20-10:disabilityLevelDeath4Category valid_x: 299 valid_y: 498\n",
      "_corr_coeff: done: x: 01-06:cordBloodGasHCO3_mEqPerL y: 20-10:disabilityLevelDeath4Category\n",
      "_corr_coeff: to eval: x: 01-06:cordBloodGasHCO3_mEqPerL y: 20-10_1:disabilityLevelDeath valid_x: 299 valid_y: 498\n",
      "_corr_coeff: done: x: 01-06:cordBloodGasHCO3_mEqPerL y: 20-10_1:disabilityLevelDeath\n",
      "_corr_coeff: to eval: x: 01-06:cordBloodGasHCO3_mEqPerL y: 20-04:BayleyIIICognitiveComposite valid_x: 299 valid_y: 421\n",
      "_corr_coeff: done: x: 01-06:cordBloodGasHCO3_mEqPerL y: 20-04:BayleyIIICognitiveComposite\n",
      "_corr_coeff: to eval: x: 01-06:cordBloodGasHCO3_mEqPerL y: 20-04:BayleyIIILanguageComposite valid_x: 299 valid_y: 411\n",
      "_corr_coeff: done: x: 01-06:cordBloodGasHCO3_mEqPerL y: 20-04:BayleyIIILanguageComposite\n"
     ]
    },
    {
     "name": "stderr",
     "output_type": "stream",
     "text": [
      "\r",
      " 26%|██▌       | 86/336 [00:18<00:54,  4.58it/s]"
     ]
    },
    {
     "name": "stdout",
     "output_type": "stream",
     "text": [
      "_corr_coeff: to eval: x: 01-06:cordBloodGasHCO3_mEqPerL y: 20-04:BayleyIIIMotorComposite valid_x: 299 valid_y: 415\n",
      "_corr_coeff: done: x: 01-06:cordBloodGasHCO3_mEqPerL y: 20-04:BayleyIIIMotorComposite\n"
     ]
    },
    {
     "name": "stderr",
     "output_type": "stream",
     "text": [
      "\r",
      " 26%|██▌       | 87/336 [00:18<00:51,  4.82it/s]"
     ]
    },
    {
     "name": "stdout",
     "output_type": "stream",
     "text": [
      "_corr_coeff: to eval: x: 01-06:cordBloodGasBaseDeficit_mEqPerL y: 20-10:moderateSevereDisabilityOrDeath valid_x: 347 valid_y: 504\n",
      "_corr_coeff: done: x: 01-06:cordBloodGasBaseDeficit_mEqPerL y: 20-10:moderateSevereDisabilityOrDeath\n",
      "_corr_coeff: to eval: x: 01-06:cordBloodGasBaseDeficit_mEqPerL y: 20-10:disabilityLevelDeath4Category valid_x: 347 valid_y: 498\n",
      "_corr_coeff: done: x: 01-06:cordBloodGasBaseDeficit_mEqPerL y: 20-10:disabilityLevelDeath4Category\n",
      "_corr_coeff: to eval: x: 01-06:cordBloodGasBaseDeficit_mEqPerL y: 20-10_1:disabilityLevelDeath valid_x: 347 valid_y: 498\n",
      "_corr_coeff: done: x: 01-06:cordBloodGasBaseDeficit_mEqPerL y: 20-10_1:disabilityLevelDeath\n",
      "_corr_coeff: to eval: x: 01-06:cordBloodGasBaseDeficit_mEqPerL y: 20-04:BayleyIIICognitiveComposite valid_x: 347 valid_y: 421\n",
      "_corr_coeff: done: x: 01-06:cordBloodGasBaseDeficit_mEqPerL y: 20-04:BayleyIIICognitiveComposite\n",
      "_corr_coeff: to eval: x: 01-06:cordBloodGasBaseDeficit_mEqPerL y: 20-04:BayleyIIILanguageComposite valid_x: 347 valid_y: 411\n",
      "_corr_coeff: done: x: 01-06:cordBloodGasBaseDeficit_mEqPerL y: 20-04:BayleyIIILanguageComposite\n",
      "_corr_coeff: to eval: x: 01-06:cordBloodGasBaseDeficit_mEqPerL y: 20-04:BayleyIIIMotorComposite valid_x: 347 valid_y: 415\n",
      "_corr_coeff: done: x: 01-06:cordBloodGasBaseDeficit_mEqPerL y: 20-04:BayleyIIIMotorComposite\n"
     ]
    },
    {
     "name": "stdout",
     "output_type": "stream",
     "text": [
      "_corr_coeff: to eval: x: 01-06:firstPostnatalBloodGas y: 20-10:moderateSevereDisabilityOrDeath valid_x: 531 valid_y: 504\n",
      "_corr_coeff: done: x: 01-06:firstPostnatalBloodGas y: 20-10:moderateSevereDisabilityOrDeath\n"
     ]
    },
    {
     "name": "stdout",
     "output_type": "stream",
     "text": [
      "_corr_coeff: to eval: x: 01-06:firstPostnatalBloodGas y: 20-10:disabilityLevelDeath4Category valid_x: 531 valid_y: 498\n",
      "_corr_coeff: done: x: 01-06:firstPostnatalBloodGas y: 20-10:disabilityLevelDeath4Category\n",
      "_corr_coeff: to eval: x: 01-06:firstPostnatalBloodGas y: 20-10_1:disabilityLevelDeath valid_x: 531 valid_y: 498\n",
      "_corr_coeff: done: x: 01-06:firstPostnatalBloodGas y: 20-10_1:disabilityLevelDeath\n",
      "_corr_coeff: to eval: x: 01-06:firstPostnatalBloodGas y: 20-04:BayleyIIICognitiveComposite valid_x: 531 valid_y: 421\n",
      "_corr_coeff: done: x: 01-06:firstPostnatalBloodGas y: 20-04:BayleyIIICognitiveComposite\n",
      "_corr_coeff: to eval: x: 01-06:firstPostnatalBloodGas y: 20-04:BayleyIIILanguageComposite valid_x: 531 valid_y: 411\n",
      "_corr_coeff: done: x: 01-06:firstPostnatalBloodGas y: 20-04:BayleyIIILanguageComposite\n"
     ]
    },
    {
     "name": "stderr",
     "output_type": "stream",
     "text": [
      "\r",
      " 26%|██▌       | 88/336 [00:19<00:55,  4.51it/s]"
     ]
    },
    {
     "name": "stdout",
     "output_type": "stream",
     "text": [
      "_corr_coeff: to eval: x: 01-06:firstPostnatalBloodGas y: 20-04:BayleyIIIMotorComposite valid_x: 531 valid_y: 415\n",
      "_corr_coeff: done: x: 01-06:firstPostnatalBloodGas y: 20-04:BayleyIIIMotorComposite\n"
     ]
    },
    {
     "name": "stdout",
     "output_type": "stream",
     "text": [
      "_corr_coeff: to eval: x: 01-06:firstPostnatalBloodGasPH y: 20-10:moderateSevereDisabilityOrDeath valid_x: 516 valid_y: 504\n",
      "_corr_coeff: done: x: 01-06:firstPostnatalBloodGasPH y: 20-10:moderateSevereDisabilityOrDeath\n",
      "_corr_coeff: to eval: x: 01-06:firstPostnatalBloodGasPH y: 20-10:disabilityLevelDeath4Category valid_x: 516 valid_y: 498\n",
      "_corr_coeff: done: x: 01-06:firstPostnatalBloodGasPH y: 20-10:disabilityLevelDeath4Category\n",
      "_corr_coeff: to eval: x: 01-06:firstPostnatalBloodGasPH y: 20-10_1:disabilityLevelDeath valid_x: 516 valid_y: 498\n",
      "_corr_coeff: done: x: 01-06:firstPostnatalBloodGasPH y: 20-10_1:disabilityLevelDeath\n",
      "_corr_coeff: to eval: x: 01-06:firstPostnatalBloodGasPH y: 20-04:BayleyIIICognitiveComposite valid_x: 516 valid_y: 421\n",
      "_corr_coeff: done: x: 01-06:firstPostnatalBloodGasPH y: 20-04:BayleyIIICognitiveComposite\n",
      "_corr_coeff: to eval: x: 01-06:firstPostnatalBloodGasPH y: 20-04:BayleyIIILanguageComposite valid_x: 516 valid_y: 411\n",
      "_corr_coeff: done: x: 01-06:firstPostnatalBloodGasPH y: 20-04:BayleyIIILanguageComposite\n",
      "_corr_coeff: to eval: x: 01-06:firstPostnatalBloodGasPH y: 20-04:BayleyIIIMotorComposite valid_x: 516 valid_y: 415\n",
      "_corr_coeff: done: x: 01-06:firstPostnatalBloodGasPH y: 20-04:BayleyIIIMotorComposite\n"
     ]
    },
    {
     "name": "stderr",
     "output_type": "stream",
     "text": [
      "\r",
      " 26%|██▋       | 89/336 [00:19<00:53,  4.62it/s]"
     ]
    },
    {
     "name": "stdout",
     "output_type": "stream",
     "text": [
      "_corr_coeff: to eval: x: 01-06:firstPostnatalBloodGasPCO2_mmHg y: 20-10:moderateSevereDisabilityOrDeath valid_x: 511 valid_y: 504"
     ]
    },
    {
     "name": "stdout",
     "output_type": "stream",
     "text": [
      "\n",
      "_corr_coeff: done: x: 01-06:firstPostnatalBloodGasPCO2_mmHg y: 20-10:moderateSevereDisabilityOrDeath\n",
      "_corr_coeff: to eval: x: 01-06:firstPostnatalBloodGasPCO2_mmHg y: 20-10:disabilityLevelDeath4Category valid_x: 511 valid_y: 498\n",
      "_corr_coeff: done: x: 01-06:firstPostnatalBloodGasPCO2_mmHg y: 20-10:disabilityLevelDeath4Category\n",
      "_corr_coeff: to eval: x: 01-06:firstPostnatalBloodGasPCO2_mmHg y: 20-10_1:disabilityLevelDeath valid_x: 511 valid_y: 498\n",
      "_corr_coeff: done: x: 01-06:firstPostnatalBloodGasPCO2_mmHg y: 20-10_1:disabilityLevelDeath\n",
      "_corr_coeff: to eval: x: 01-06:firstPostnatalBloodGasPCO2_mmHg y: 20-04:BayleyIIICognitiveComposite valid_x: 511 valid_y: 421\n",
      "_corr_coeff: done: x: 01-06:firstPostnatalBloodGasPCO2_mmHg y: 20-04:BayleyIIICognitiveComposite\n",
      "_corr_coeff: to eval: x: 01-06:firstPostnatalBloodGasPCO2_mmHg y: 20-04:BayleyIIILanguageComposite valid_x: 511 valid_y: 411\n",
      "_corr_coeff: done: x: 01-06:firstPostnatalBloodGasPCO2_mmHg y: 20-04:BayleyIIILanguageComposite\n"
     ]
    },
    {
     "name": "stderr",
     "output_type": "stream",
     "text": [
      "\r",
      " 27%|██▋       | 90/336 [00:19<00:56,  4.37it/s]"
     ]
    },
    {
     "name": "stdout",
     "output_type": "stream",
     "text": [
      "_corr_coeff: to eval: x: 01-06:firstPostnatalBloodGasPCO2_mmHg y: 20-04:BayleyIIIMotorComposite valid_x: 511 valid_y: 415\n",
      "_corr_coeff: done: x: 01-06:firstPostnatalBloodGasPCO2_mmHg y: 20-04:BayleyIIIMotorComposite\n",
      "_corr_coeff: to eval: x: 01-06:firstPostnatalBloodGasPO2_mmHg y: 20-10:moderateSevereDisabilityOrDeath valid_x: 498 valid_y: 504\n",
      "_corr_coeff: done: x: 01-06:firstPostnatalBloodGasPO2_mmHg y: 20-10:moderateSevereDisabilityOrDeath\n",
      "_corr_coeff: to eval: x: 01-06:firstPostnatalBloodGasPO2_mmHg y: 20-10:disabilityLevelDeath4Category valid_x: 498 valid_y: 498\n",
      "_corr_coeff: done: x: 01-06:firstPostnatalBloodGasPO2_mmHg y: 20-10:disabilityLevelDeath4Category\n",
      "_corr_coeff: to eval: x: 01-06:firstPostnatalBloodGasPO2_mmHg y: 20-10_1:disabilityLevelDeath valid_x: 498 valid_y: 498\n",
      "_corr_coeff: done: x: 01-06:firstPostnatalBloodGasPO2_mmHg y: 20-10_1:disabilityLevelDeath\n",
      "_corr_coeff: to eval: x: 01-06:firstPostnatalBloodGasPO2_mmHg y: 20-04:BayleyIIICognitiveComposite valid_x: 498 valid_y: 421\n",
      "_corr_coeff: done: x: 01-06:firstPostnatalBloodGasPO2_mmHg y: 20-04:BayleyIIICognitiveComposite\n",
      "_corr_coeff: to eval: x: 01-06:firstPostnatalBloodGasPO2_mmHg y: 20-04:BayleyIIILanguageComposite valid_x: 498 valid_y: 411\n",
      "_corr_coeff: done: x: 01-06:firstPostnatalBloodGasPO2_mmHg y: 20-04:BayleyIIILanguageComposite\n",
      "_corr_coeff: to eval: x: 01-06:firstPostnatalBloodGasPO2_mmHg y: 20-04:BayleyIIIMotorComposite valid_x: 498 valid_y: 415\n",
      "_corr_coeff: done: x: 01-06:firstPostnatalBloodGasPO2_mmHg y: 20-04:BayleyIIIMotorComposite\n"
     ]
    },
    {
     "name": "stderr",
     "output_type": "stream",
     "text": [
      "\r",
      " 27%|██▋       | 91/336 [00:19<00:54,  4.53it/s]"
     ]
    },
    {
     "name": "stdout",
     "output_type": "stream",
     "text": [
      "_corr_coeff: to eval: x: 01-06:firstPostnatalBloodGasHCO3_mEqPerL y: 20-10:moderateSevereDisabilityOrDeath valid_x: 467 valid_y: 504\n",
      "_corr_coeff: done: x: 01-06:firstPostnatalBloodGasHCO3_mEqPerL y: 20-10:moderateSevereDisabilityOrDeath\n",
      "_corr_coeff: to eval: x: 01-06:firstPostnatalBloodGasHCO3_mEqPerL y: 20-10:disabilityLevelDeath4Category valid_x: 467 valid_y: 498\n",
      "_corr_coeff: done: x: 01-06:firstPostnatalBloodGasHCO3_mEqPerL y: 20-10:disabilityLevelDeath4Category\n",
      "_corr_coeff: to eval: x: 01-06:firstPostnatalBloodGasHCO3_mEqPerL y: 20-10_1:disabilityLevelDeath valid_x: 467 valid_y: 498\n",
      "_corr_coeff: done: x: 01-06:firstPostnatalBloodGasHCO3_mEqPerL y: 20-10_1:disabilityLevelDeath\n",
      "_corr_coeff: to eval: x: 01-06:firstPostnatalBloodGasHCO3_mEqPerL y: 20-04:BayleyIIICognitiveComposite valid_x: 467 valid_y: 421\n",
      "_corr_coeff: done: x: 01-06:firstPostnatalBloodGasHCO3_mEqPerL y: 20-04:BayleyIIICognitiveComposite\n",
      "_corr_coeff: to eval: x: 01-06:firstPostnatalBloodGasHCO3_mEqPerL y: 20-04:BayleyIIILanguageComposite valid_x: 467 valid_y: 411\n",
      "_corr_coeff: done: x: 01-06:firstPostnatalBloodGasHCO3_mEqPerL y: 20-04:BayleyIIILanguageComposite\n"
     ]
    },
    {
     "name": "stderr",
     "output_type": "stream",
     "text": [
      "\r",
      " 27%|██▋       | 92/336 [00:20<00:56,  4.34it/s]"
     ]
    },
    {
     "name": "stdout",
     "output_type": "stream",
     "text": [
      "_corr_coeff: to eval: x: 01-06:firstPostnatalBloodGasHCO3_mEqPerL y: 20-04:BayleyIIIMotorComposite valid_x: 467 valid_y: 415\n",
      "_corr_coeff: done: x: 01-06:firstPostnatalBloodGasHCO3_mEqPerL y: 20-04:BayleyIIIMotorComposite\n",
      "_corr_coeff: to eval: x: 01-06:firstPostnatalBloodGasBaseDeficit_mEqPerL y: 20-10:moderateSevereDisabilityOrDeath valid_x: 495 valid_y: 504\n",
      "_corr_coeff: done: x: 01-06:firstPostnatalBloodGasBaseDeficit_mEqPerL y: 20-10:moderateSevereDisabilityOrDeath\n",
      "_corr_coeff: to eval: x: 01-06:firstPostnatalBloodGasBaseDeficit_mEqPerL y: 20-10:disabilityLevelDeath4Category valid_x: 495 valid_y: 498\n",
      "_corr_coeff: done: x: 01-06:firstPostnatalBloodGasBaseDeficit_mEqPerL y: 20-10:disabilityLevelDeath4Category\n",
      "_corr_coeff: to eval: x: 01-06:firstPostnatalBloodGasBaseDeficit_mEqPerL y: 20-10_1:disabilityLevelDeath valid_x: 495 valid_y: 498\n",
      "_corr_coeff: done: x: 01-06:firstPostnatalBloodGasBaseDeficit_mEqPerL y: 20-10_1:disabilityLevelDeath\n",
      "_corr_coeff: to eval: x: 01-06:firstPostnatalBloodGasBaseDeficit_mEqPerL y: 20-04:BayleyIIICognitiveComposite valid_x: 495 valid_y: 421\n",
      "_corr_coeff: done: x: 01-06:firstPostnatalBloodGasBaseDeficit_mEqPerL y: 20-04:BayleyIIICognitiveComposite\n",
      "_corr_coeff: to eval: x: 01-06:firstPostnatalBloodGasBaseDeficit_mEqPerL y: 20-04:BayleyIIILanguageComposite valid_x: 495 valid_y: 411\n",
      "_corr_coeff: done: x: 01-06:firstPostnatalBloodGasBaseDeficit_mEqPerL y: 20-04:BayleyIIILanguageComposite\n",
      "_corr_coeff: to eval: x: 01-06:firstPostnatalBloodGasBaseDeficit_mEqPerL y: 20-04:BayleyIIIMotorComposite valid_x: 495 valid_y: 415\n",
      "_corr_coeff: done: x: 01-06:firstPostnatalBloodGasBaseDeficit_mEqPerL y: 20-04:BayleyIIIMotorComposite\n"
     ]
    },
    {
     "name": "stderr",
     "output_type": "stream",
     "text": [
      "\r",
      " 28%|██▊       | 93/336 [00:20<00:53,  4.50it/s]"
     ]
    },
    {
     "name": "stdout",
     "output_type": "stream",
     "text": [
      "_corr_coeff: to eval: x: 01-06:acidosis y: 20-10:moderateSevereDisabilityOrDeath valid_x: 363 valid_y: 504\n",
      "_corr_coeff: done: x: 01-06:acidosis y: 20-10:moderateSevereDisabilityOrDeath\n",
      "_corr_coeff: to eval: x: 01-06:acidosis y: 20-10:disabilityLevelDeath4Category valid_x: 363 valid_y: 498\n",
      "_corr_coeff: done: x: 01-06:acidosis y: 20-10:disabilityLevelDeath4Category\n",
      "_corr_coeff: to eval: x: 01-06:acidosis y: 20-10_1:disabilityLevelDeath valid_x: 363 valid_y: 498\n",
      "_corr_coeff: done: x: 01-06:acidosis y: 20-10_1:disabilityLevelDeath\n",
      "_corr_coeff: to eval: x: 01-06:acidosis y: 20-04:BayleyIIICognitiveComposite valid_x: 363 valid_y: 421\n",
      "_corr_coeff: done: x: 01-06:acidosis y: 20-04:BayleyIIICognitiveComposite\n",
      "_corr_coeff: to eval: x: 01-06:acidosis y: 20-04:BayleyIIILanguageComposite valid_x: 363 valid_y: 411\n",
      "_corr_coeff: done: x: 01-06:acidosis y: 20-04:BayleyIIILanguageComposite\n"
     ]
    },
    {
     "name": "stderr",
     "output_type": "stream",
     "text": [
      "\r",
      " 28%|██▊       | 94/336 [00:20<00:55,  4.38it/s]"
     ]
    },
    {
     "name": "stdout",
     "output_type": "stream",
     "text": [
      "_corr_coeff: to eval: x: 01-06:acidosis y: 20-04:BayleyIIIMotorComposite valid_x: 363 valid_y: 415\n",
      "_corr_coeff: done: x: 01-06:acidosis y: 20-04:BayleyIIIMotorComposite\n",
      "_corr_coeff: to eval: x: 01-06:Apgar10minLess5 y: 20-10:moderateSevereDisabilityOrDeath valid_x: 324 valid_y: 504\n",
      "_corr_coeff: done: x: 01-06:Apgar10minLess5 y: 20-10:moderateSevereDisabilityOrDeath\n",
      "_corr_coeff: to eval: x: 01-06:Apgar10minLess5 y: 20-10:disabilityLevelDeath4Category valid_x: 324 valid_y: 498\n",
      "_corr_coeff: done: x: 01-06:Apgar10minLess5 y: 20-10:disabilityLevelDeath4Category\n",
      "_corr_coeff: to eval: x: 01-06:Apgar10minLess5 y: 20-10_1:disabilityLevelDeath valid_x: 324 valid_y: 498\n",
      "_corr_coeff: done: x: 01-06:Apgar10minLess5 y: 20-10_1:disabilityLevelDeath\n",
      "_corr_coeff: to eval: x: 01-06:Apgar10minLess5 y: 20-04:BayleyIIICognitiveComposite valid_x: 324 valid_y: 421\n",
      "_corr_coeff: done: x: 01-06:Apgar10minLess5 y: 20-04:BayleyIIICognitiveComposite\n",
      "_corr_coeff: to eval: x: 01-06:Apgar10minLess5 y: 20-04:BayleyIIILanguageComposite valid_x: 324 valid_y: 411\n",
      "_corr_coeff: done: x: 01-06:Apgar10minLess5 y: 20-04:BayleyIIILanguageComposite\n"
     ]
    },
    {
     "name": "stderr",
     "output_type": "stream",
     "text": [
      "\r",
      " 28%|██▊       | 95/336 [00:20<00:53,  4.51it/s]"
     ]
    },
    {
     "name": "stdout",
     "output_type": "stream",
     "text": [
      "_corr_coeff: to eval: x: 01-06:Apgar10minLess5 y: 20-04:BayleyIIIMotorComposite valid_x: 324 valid_y: 415\n",
      "_corr_coeff: done: x: 01-06:Apgar10minLess5 y: 20-04:BayleyIIIMotorComposite\n",
      "_corr_coeff: to eval: x: 01-06:Apgar10minLessEq5 y: 20-10:moderateSevereDisabilityOrDeath valid_x: 324 valid_y: 504\n",
      "_corr_coeff: done: x: 01-06:Apgar10minLessEq5 y: 20-10:moderateSevereDisabilityOrDeath\n",
      "_corr_coeff: to eval: x: 01-06:Apgar10minLessEq5 y: 20-10:disabilityLevelDeath4Category valid_x: 324 valid_y: 498\n",
      "_corr_coeff: done: x: 01-06:Apgar10minLessEq5 y: 20-10:disabilityLevelDeath4Category\n",
      "_corr_coeff: to eval: x: 01-06:Apgar10minLessEq5 y: 20-10_1:disabilityLevelDeath valid_x: 324 valid_y: 498\n",
      "_corr_coeff: done: x: 01-06:Apgar10minLessEq5 y: 20-10_1:disabilityLevelDeath\n",
      "_corr_coeff: to eval: x: 01-06:Apgar10minLessEq5 y: 20-04:BayleyIIICognitiveComposite valid_x: 324 valid_y: 421\n",
      "_corr_coeff: done: x: 01-06:Apgar10minLessEq5 y: 20-04:BayleyIIICognitiveComposite\n"
     ]
    },
    {
     "name": "stderr",
     "output_type": "stream",
     "text": [
      "\r",
      " 29%|██▊       | 96/336 [00:21<00:54,  4.37it/s]"
     ]
    },
    {
     "name": "stdout",
     "output_type": "stream",
     "text": [
      "_corr_coeff: to eval: x: 01-06:Apgar10minLessEq5 y: 20-04:BayleyIIILanguageComposite valid_x: 324 valid_y: 411\n",
      "_corr_coeff: done: x: 01-06:Apgar10minLessEq5 y: 20-04:BayleyIIILanguageComposite\n",
      "_corr_coeff: to eval: x: 01-06:Apgar10minLessEq5 y: 20-04:BayleyIIIMotorComposite valid_x: 324 valid_y: 415\n",
      "_corr_coeff: done: x: 01-06:Apgar10minLessEq5 y: 20-04:BayleyIIIMotorComposite\n",
      "_corr_coeff: to eval: x: 01-06:Apgar5minLessEq5 y: 20-10:moderateSevereDisabilityOrDeath valid_x: 361 valid_y: 504\n",
      "_corr_coeff: done: x: 01-06:Apgar5minLessEq5 y: 20-10:moderateSevereDisabilityOrDeath\n",
      "_corr_coeff: to eval: x: 01-06:Apgar5minLessEq5 y: 20-10:disabilityLevelDeath4Category valid_x: 361 valid_y: 498\n",
      "_corr_coeff: done: x: 01-06:Apgar5minLessEq5 y: 20-10:disabilityLevelDeath4Category\n",
      "_corr_coeff: to eval: x: 01-06:Apgar5minLessEq5 y: 20-10_1:disabilityLevelDeath valid_x: 361 valid_y: 498\n",
      "_corr_coeff: done: x: 01-06:Apgar5minLessEq5 y: 20-10_1:disabilityLevelDeath\n",
      "_corr_coeff: to eval: x: 01-06:Apgar5minLessEq5 y: 20-04:BayleyIIICognitiveComposite valid_x: 361 valid_y: 421\n",
      "_corr_coeff: done: x: 01-06:Apgar5minLessEq5 y: 20-04:BayleyIIICognitiveComposite\n",
      "_corr_coeff: to eval: x: 01-06:Apgar5minLessEq5 y: 20-04:BayleyIIILanguageComposite valid_x: 361 valid_y: 411\n",
      "_corr_coeff: done: x: 01-06:Apgar5minLessEq5 y: 20-04:BayleyIIILanguageComposite\n"
     ]
    },
    {
     "name": "stderr",
     "output_type": "stream",
     "text": [
      "\r",
      " 29%|██▉       | 97/336 [00:21<00:56,  4.26it/s]"
     ]
    },
    {
     "name": "stderr",
     "output_type": "stream",
     "text": [
      "\r",
      " 29%|██▉       | 98/336 [00:21<00:52,  4.53it/s]"
     ]
    },
    {
     "name": "stdout",
     "output_type": "stream",
     "text": [
      "_corr_coeff: to eval: x: 01-06:Apgar5minLessEq5 y: 20-04:BayleyIIIMotorComposite valid_x: 361 valid_y: 415\n",
      "_corr_coeff: done: x: 01-06:Apgar5minLessEq5 y: 20-04:BayleyIIIMotorComposite\n",
      "_corr_coeff: to eval: x: 01-06:initBloodGasBaseDeficit_mEqPerL y: 20-10:moderateSevereDisabilityOrDeath valid_x: 351 valid_y: 504\n",
      "_corr_coeff: done: x: 01-06:initBloodGasBaseDeficit_mEqPerL y: 20-10:moderateSevereDisabilityOrDeath\n",
      "_corr_coeff: to eval: x: 01-06:initBloodGasBaseDeficit_mEqPerL y: 20-10:disabilityLevelDeath4Category valid_x: 351 valid_y: 498\n",
      "_corr_coeff: done: x: 01-06:initBloodGasBaseDeficit_mEqPerL y: 20-10:disabilityLevelDeath4Category\n",
      "_corr_coeff: to eval: x: 01-06:initBloodGasBaseDeficit_mEqPerL y: 20-10_1:disabilityLevelDeath valid_x: 351 valid_y: 498\n",
      "_corr_coeff: done: x: 01-06:initBloodGasBaseDeficit_mEqPerL y: 20-10_1:disabilityLevelDeath\n",
      "_corr_coeff: to eval: x: 01-06:initBloodGasBaseDeficit_mEqPerL y: 20-04:BayleyIIICognitiveComposite valid_x: 351 valid_y: 421\n",
      "_corr_coeff: done: x: 01-06:initBloodGasBaseDeficit_mEqPerL y: 20-04:BayleyIIICognitiveComposite\n",
      "_corr_coeff: to eval: x: 01-06:initBloodGasBaseDeficit_mEqPerL y: 20-04:BayleyIIILanguageComposite valid_x: 351 valid_y: 411\n",
      "_corr_coeff: done: x: 01-06:initBloodGasBaseDeficit_mEqPerL y: 20-04:BayleyIIILanguageComposite\n",
      "_corr_coeff: to eval: x: 01-06:initBloodGasBaseDeficit_mEqPerL y: 20-04:BayleyIIIMotorComposite valid_x: 351 valid_y: 415\n",
      "_corr_coeff: done: x: 01-06:initBloodGasBaseDeficit_mEqPerL y: 20-04:BayleyIIIMotorComposite\n"
     ]
    },
    {
     "name": "stdout",
     "output_type": "stream",
     "text": [
      "_corr_coeff: to eval: x: 01-06:initBloodGasPH y: 20-10:moderateSevereDisabilityOrDeath valid_x: 363 valid_y: 504\n",
      "_corr_coeff: done: x: 01-06:initBloodGasPH y: 20-10:moderateSevereDisabilityOrDeath\n",
      "_corr_coeff: to eval: x: 01-06:initBloodGasPH y: 20-10:disabilityLevelDeath4Category valid_x: 363 valid_y: 498\n",
      "_corr_coeff: done: x: 01-06:initBloodGasPH y: 20-10:disabilityLevelDeath4Category\n",
      "_corr_coeff: to eval: x: 01-06:initBloodGasPH y: 20-10_1:disabilityLevelDeath valid_x: 363 valid_y: 498\n",
      "_corr_coeff: done: x: 01-06:initBloodGasPH y: 20-10_1:disabilityLevelDeath\n",
      "_corr_coeff: to eval: x: 01-06:initBloodGasPH y: 20-04:BayleyIIICognitiveComposite valid_x: 363 valid_y: 421\n",
      "_corr_coeff: done: x: 01-06:initBloodGasPH y: 20-04:BayleyIIICognitiveComposite\n",
      "_corr_coeff: to eval: x: 01-06:initBloodGasPH y: 20-04:BayleyIIILanguageComposite valid_x: 363 valid_y: 411\n",
      "_corr_coeff: done: x: 01-06:initBloodGasPH y: 20-04:BayleyIIILanguageComposite\n"
     ]
    },
    {
     "name": "stderr",
     "output_type": "stream",
     "text": [
      "\r",
      " 29%|██▉       | 99/336 [00:21<00:53,  4.42it/s]"
     ]
    },
    {
     "name": "stderr",
     "output_type": "stream",
     "text": [
      "\r",
      " 30%|██▉       | 100/336 [00:21<00:50,  4.69it/s]"
     ]
    },
    {
     "name": "stdout",
     "output_type": "stream",
     "text": [
      "_corr_coeff: to eval: x: 01-06:initBloodGasPH y: 20-04:BayleyIIIMotorComposite valid_x: 363 valid_y: 415\n",
      "_corr_coeff: done: x: 01-06:initBloodGasPH y: 20-04:BayleyIIIMotorComposite\n",
      "_corr_coeff: to eval: x: 01-07:pre_CoolInitiate y: 20-10:moderateSevereDisabilityOrDeath valid_x: 364 valid_y: 504\n",
      "_corr_coeff: done: x: 01-07:pre_CoolInitiate y: 20-10:moderateSevereDisabilityOrDeath\n",
      "_corr_coeff: to eval: x: 01-07:pre_CoolInitiate y: 20-10:disabilityLevelDeath4Category valid_x: 364 valid_y: 498\n",
      "_corr_coeff: done: x: 01-07:pre_CoolInitiate y: 20-10:disabilityLevelDeath4Category\n",
      "_corr_coeff: to eval: x: 01-07:pre_CoolInitiate y: 20-10_1:disabilityLevelDeath valid_x: 364 valid_y: 498\n",
      "_corr_coeff: done: x: 01-07:pre_CoolInitiate y: 20-10_1:disabilityLevelDeath\n",
      "_corr_coeff: to eval: x: 01-07:pre_CoolInitiate y: 20-04:BayleyIIICognitiveComposite valid_x: 364 valid_y: 421\n",
      "_corr_coeff: done: x: 01-07:pre_CoolInitiate y: 20-04:BayleyIIICognitiveComposite\n",
      "_corr_coeff: to eval: x: 01-07:pre_CoolInitiate y: 20-04:BayleyIIILanguageComposite valid_x: 364 valid_y: 411\n",
      "_corr_coeff: done: x: 01-07:pre_CoolInitiate y: 20-04:BayleyIIILanguageComposite\n",
      "_corr_coeff: to eval: x: 01-07:pre_CoolInitiate y: 20-04:BayleyIIIMotorComposite valid_x: 364 valid_y: 415\n",
      "_corr_coeff: done: x: 01-07:pre_CoolInitiate y: 20-04:BayleyIIIMotorComposite\n"
     ]
    },
    {
     "name": "stderr",
     "output_type": "stream",
     "text": [
      "\r",
      " 30%|███       | 101/336 [00:22<00:51,  4.57it/s]"
     ]
    },
    {
     "name": "stdout",
     "output_type": "stream",
     "text": [
      "_corr_coeff: to eval: x: 01-07:pre_CoolPassively y: 20-10:moderateSevereDisabilityOrDeath valid_x: 251 valid_y: 504\n",
      "_corr_coeff: done: x: 01-07:pre_CoolPassively y: 20-10:moderateSevereDisabilityOrDeath\n",
      "_corr_coeff: to eval: x: 01-07:pre_CoolPassively y: 20-10:disabilityLevelDeath4Category valid_x: 251 valid_y: 498\n",
      "_corr_coeff: done: x: 01-07:pre_CoolPassively y: 20-10:disabilityLevelDeath4Category\n",
      "_corr_coeff: to eval: x: 01-07:pre_CoolPassively y: 20-10_1:disabilityLevelDeath valid_x: 251 valid_y: 498\n",
      "_corr_coeff: done: x: 01-07:pre_CoolPassively y: 20-10_1:disabilityLevelDeath\n",
      "_corr_coeff: to eval: x: 01-07:pre_CoolPassively y: 20-04:BayleyIIICognitiveComposite valid_x: 251 valid_y: 421\n",
      "_corr_coeff: done: x: 01-07:pre_CoolPassively y: 20-04:BayleyIIICognitiveComposite\n",
      "_corr_coeff: to eval: x: 01-07:pre_CoolPassively y: 20-04:BayleyIIILanguageComposite valid_x: 251 valid_y: 411\n",
      "_corr_coeff: done: x: 01-07:pre_CoolPassively y: 20-04:BayleyIIILanguageComposite\n",
      "_corr_coeff: to eval: x: 01-07:pre_CoolPassively y: 20-04:BayleyIIIMotorComposite valid_x: 251 valid_y: 415\n",
      "_corr_coeff: done: x: 01-07:pre_CoolPassively y: 20-04:BayleyIIIMotorComposite\n"
     ]
    },
    {
     "name": "stderr",
     "output_type": "stream",
     "text": [
      "\r",
      " 30%|███       | 102/336 [00:22<00:47,  4.92it/s]"
     ]
    },
    {
     "name": "stdout",
     "output_type": "stream",
     "text": [
      "_corr_coeff: to eval: x: 01-07:pre_CoolClinically y: 20-10:moderateSevereDisabilityOrDeath valid_x: 252 valid_y: 504\n",
      "_corr_coeff: done: x: 01-07:pre_CoolClinically y: 20-10:moderateSevereDisabilityOrDeath\n",
      "_corr_coeff: to eval: x: 01-07:pre_CoolClinically y: 20-10:disabilityLevelDeath4Category valid_x: 252 valid_y: 498\n",
      "_corr_coeff: done: x: 01-07:pre_CoolClinically y: 20-10:disabilityLevelDeath4Category\n",
      "_corr_coeff: to eval: x: 01-07:pre_CoolClinically y: 20-10_1:disabilityLevelDeath valid_x: 252 valid_y: 498\n",
      "_corr_coeff: done: x: 01-07:pre_CoolClinically y: 20-10_1:disabilityLevelDeath\n",
      "_corr_coeff: to eval: x: 01-07:pre_CoolClinically y: 20-04:BayleyIIICognitiveComposite valid_x: 252 valid_y: 421\n",
      "_corr_coeff: done: x: 01-07:pre_CoolClinically y: 20-04:BayleyIIICognitiveComposite\n",
      "_corr_coeff: to eval: x: 01-07:pre_CoolClinically y: 20-04:BayleyIIILanguageComposite valid_x: 252 valid_y: 411\n",
      "_corr_coeff: done: x: 01-07:pre_CoolClinically y: 20-04:BayleyIIILanguageComposite\n",
      "_corr_coeff: to eval: x: 01-07:pre_CoolClinically y: 20-04:BayleyIIIMotorComposite valid_x: 252 valid_y: 415\n",
      "_corr_coeff: done: x: 01-07:pre_CoolClinically y: 20-04:BayleyIIIMotorComposite\n",
      "_corr_coeff: to eval: x: 01-07:pre_AfterOvershootReach33p5C y: 20-10:moderateSevereDisabilityOrDeath valid_x: 355 valid_y: 504\n",
      "_corr_coeff: done: x: 01-07:pre_AfterOvershootReach33p5C y: 20-10:moderateSevereDisabilityOrDeath\n",
      "_corr_coeff: to eval: x: 01-07:pre_AfterOvershootReach33p5C y: 20-10:disabilityLevelDeath4Category valid_x: 355 valid_y: 498\n",
      "_corr_coeff: done: x: 01-07:pre_AfterOvershootReach33p5C y: 20-10:disabilityLevelDeath4Category\n"
     ]
    },
    {
     "name": "stderr",
     "output_type": "stream",
     "text": [
      "\r",
      " 31%|███       | 103/336 [00:22<00:45,  5.10it/s]"
     ]
    },
    {
     "name": "stdout",
     "output_type": "stream",
     "text": [
      "_corr_coeff: to eval: x: 01-07:pre_AfterOvershootReach33p5C y: 20-10_1:disabilityLevelDeath valid_x: 355 valid_y: 498\n",
      "_corr_coeff: done: x: 01-07:pre_AfterOvershootReach33p5C y: 20-10_1:disabilityLevelDeath\n",
      "_corr_coeff: to eval: x: 01-07:pre_AfterOvershootReach33p5C y: 20-04:BayleyIIICognitiveComposite valid_x: 355 valid_y: 421\n",
      "_corr_coeff: done: x: 01-07:pre_AfterOvershootReach33p5C y: 20-04:BayleyIIICognitiveComposite\n",
      "_corr_coeff: to eval: x: 01-07:pre_AfterOvershootReach33p5C y: 20-04:BayleyIIILanguageComposite valid_x: 355 valid_y: 411\n",
      "_corr_coeff: done: x: 01-07:pre_AfterOvershootReach33p5C y: 20-04:BayleyIIILanguageComposite\n",
      "_corr_coeff: to eval: x: 01-07:pre_AfterOvershootReach33p5C y: 20-04:BayleyIIIMotorComposite valid_x: 355 valid_y: 415\n",
      "_corr_coeff: done: x: 01-07:pre_AfterOvershootReach33p5C y: 20-04:BayleyIIIMotorComposite\n",
      "_corr_coeff: to eval: x: 01-07:pre_SkinTemperatureMin_C y: 20-10:moderateSevereDisabilityOrDeath valid_x: 234 valid_y: 504\n",
      "_corr_coeff: done: x: 01-07:pre_SkinTemperatureMin_C y: 20-10:moderateSevereDisabilityOrDeath\n",
      "_corr_coeff: to eval: x: 01-07:pre_SkinTemperatureMin_C y: 20-10:disabilityLevelDeath4Category valid_x: 234 valid_y: 498\n",
      "_corr_coeff: done: x: 01-07:pre_SkinTemperatureMin_C y: 20-10:disabilityLevelDeath4Category\n",
      "_corr_coeff: to eval: x: 01-07:pre_SkinTemperatureMin_C y: 20-10_1:disabilityLevelDeath valid_x: 234 valid_y: 498\n",
      "_corr_coeff: done: x: 01-07:pre_SkinTemperatureMin_C y: 20-10_1:disabilityLevelDeath\n",
      "_corr_coeff: to eval: x: 01-07:pre_SkinTemperatureMin_C y: 20-04:BayleyIIICognitiveComposite valid_x: 234 valid_y: 421\n",
      "_corr_coeff: done: x: 01-07:pre_SkinTemperatureMin_C y: 20-04:BayleyIIICognitiveComposite\n"
     ]
    },
    {
     "name": "stderr",
     "output_type": "stream",
     "text": [
      "\r",
      " 31%|███       | 104/336 [00:22<00:43,  5.32it/s]"
     ]
    },
    {
     "name": "stdout",
     "output_type": "stream",
     "text": [
      "_corr_coeff: to eval: x: 01-07:pre_SkinTemperatureMin_C y: 20-04:BayleyIIILanguageComposite valid_x: 234 valid_y: 411\n",
      "_corr_coeff: done: x: 01-07:pre_SkinTemperatureMin_C y: 20-04:BayleyIIILanguageComposite\n",
      "_corr_coeff: to eval: x: 01-07:pre_SkinTemperatureMin_C y: 20-04:BayleyIIIMotorComposite valid_x: 234 valid_y: 415\n",
      "_corr_coeff: done: x: 01-07:pre_SkinTemperatureMin_C y: 20-04:BayleyIIIMotorComposite\n",
      "_corr_coeff: to eval: x: 01-07:pre_AxillaryTemperatureMin_C y: 20-10:moderateSevereDisabilityOrDeath valid_x: 378 valid_y: 504\n",
      "_corr_coeff: done: x: 01-07:pre_AxillaryTemperatureMin_C y: 20-10:moderateSevereDisabilityOrDeath\n",
      "_corr_coeff: to eval: x: 01-07:pre_AxillaryTemperatureMin_C y: 20-10:disabilityLevelDeath4Category valid_x: 378 valid_y: 498\n",
      "_corr_coeff: done: x: 01-07:pre_AxillaryTemperatureMin_C y: 20-10:disabilityLevelDeath4Category\n",
      "_corr_coeff: to eval: x: 01-07:pre_AxillaryTemperatureMin_C y: 20-10_1:disabilityLevelDeath valid_x: 378 valid_y: 498\n",
      "_corr_coeff: done: x: 01-07:pre_AxillaryTemperatureMin_C y: 20-10_1:disabilityLevelDeath\n",
      "_corr_coeff: to eval: x: 01-07:pre_AxillaryTemperatureMin_C y: 20-04:BayleyIIICognitiveComposite valid_x: 378 valid_y: 421\n",
      "_corr_coeff: done: x: 01-07:pre_AxillaryTemperatureMin_C y: 20-04:BayleyIIICognitiveComposite\n",
      "_corr_coeff: to eval: x: 01-07:pre_AxillaryTemperatureMin_C y: 20-04:BayleyIIILanguageComposite valid_x: 378 valid_y: 411\n",
      "_corr_coeff: done: x: 01-07:pre_AxillaryTemperatureMin_C y: 20-04:BayleyIIILanguageComposite\n"
     ]
    },
    {
     "name": "stderr",
     "output_type": "stream",
     "text": [
      "\r",
      " 31%|███▏      | 105/336 [00:22<00:43,  5.36it/s]"
     ]
    },
    {
     "name": "stderr",
     "output_type": "stream",
     "text": [
      "\r",
      " 32%|███▏      | 106/336 [00:23<00:40,  5.65it/s]"
     ]
    },
    {
     "name": "stdout",
     "output_type": "stream",
     "text": [
      "_corr_coeff: to eval: x: 01-07:pre_AxillaryTemperatureMin_C y: 20-04:BayleyIIIMotorComposite valid_x: 378 valid_y: 415\n",
      "_corr_coeff: done: x: 01-07:pre_AxillaryTemperatureMin_C y: 20-04:BayleyIIIMotorComposite\n",
      "_corr_coeff: to eval: x: 01-07:pre_EsophagealTemperatureMin_C y: 20-10:moderateSevereDisabilityOrDeath valid_x: 138 valid_y: 504\n",
      "_corr_coeff: done: x: 01-07:pre_EsophagealTemperatureMin_C y: 20-10:moderateSevereDisabilityOrDeath\n",
      "_corr_coeff: to eval: x: 01-07:pre_EsophagealTemperatureMin_C y: 20-10:disabilityLevelDeath4Category valid_x: 138 valid_y: 498\n",
      "_corr_coeff: done: x: 01-07:pre_EsophagealTemperatureMin_C y: 20-10:disabilityLevelDeath4Category\n",
      "_corr_coeff: to eval: x: 01-07:pre_EsophagealTemperatureMin_C y: 20-10_1:disabilityLevelDeath valid_x: 138 valid_y: 498\n",
      "_corr_coeff: done: x: 01-07:pre_EsophagealTemperatureMin_C y: 20-10_1:disabilityLevelDeath\n",
      "_corr_coeff: to eval: x: 01-07:pre_EsophagealTemperatureMin_C y: 20-04:BayleyIIICognitiveComposite valid_x: 138 valid_y: 421\n",
      "_corr_coeff: done: x: 01-07:pre_EsophagealTemperatureMin_C y: 20-04:BayleyIIICognitiveComposite\n",
      "_corr_coeff: to eval: x: 01-07:pre_EsophagealTemperatureMin_C y: 20-04:BayleyIIILanguageComposite valid_x: 138 valid_y: 411\n",
      "_corr_coeff: done: x: 01-07:pre_EsophagealTemperatureMin_C y: 20-04:BayleyIIILanguageComposite\n",
      "_corr_coeff: to eval: x: 01-07:pre_EsophagealTemperatureMin_C y: 20-04:BayleyIIIMotorComposite valid_x: 138 valid_y: 415\n",
      "_corr_coeff: done: x: 01-07:pre_EsophagealTemperatureMin_C y: 20-04:BayleyIIIMotorComposite\n",
      "_corr_coeff: to eval: x: 01-07:pre_ServoSetMin_C y: 20-10:moderateSevereDisabilityOrDeath valid_x: 233 valid_y: 504\n",
      "_corr_coeff: done: x: 01-07:pre_ServoSetMin_C y: 20-10:moderateSevereDisabilityOrDeath\n"
     ]
    },
    {
     "name": "stderr",
     "output_type": "stream",
     "text": [
      "\r",
      " 32%|███▏      | 107/336 [00:23<00:43,  5.30it/s]"
     ]
    },
    {
     "name": "stdout",
     "output_type": "stream",
     "text": [
      "_corr_coeff: to eval: x: 01-07:pre_ServoSetMin_C y: 20-10:disabilityLevelDeath4Category valid_x: 233 valid_y: 498\n",
      "_corr_coeff: done: x: 01-07:pre_ServoSetMin_C y: 20-10:disabilityLevelDeath4Category\n",
      "_corr_coeff: to eval: x: 01-07:pre_ServoSetMin_C y: 20-10_1:disabilityLevelDeath valid_x: 233 valid_y: 498\n",
      "_corr_coeff: done: x: 01-07:pre_ServoSetMin_C y: 20-10_1:disabilityLevelDeath\n",
      "_corr_coeff: to eval: x: 01-07:pre_ServoSetMin_C y: 20-04:BayleyIIICognitiveComposite valid_x: 233 valid_y: 421\n",
      "_corr_coeff: done: x: 01-07:pre_ServoSetMin_C y: 20-04:BayleyIIICognitiveComposite\n",
      "_corr_coeff: to eval: x: 01-07:pre_ServoSetMin_C y: 20-04:BayleyIIILanguageComposite valid_x: 233 valid_y: 411\n",
      "_corr_coeff: done: x: 01-07:pre_ServoSetMin_C y: 20-04:BayleyIIILanguageComposite\n",
      "_corr_coeff: to eval: x: 01-07:pre_ServoSetMin_C y: 20-04:BayleyIIIMotorComposite valid_x: 233 valid_y: 415\n",
      "_corr_coeff: done: x: 01-07:pre_ServoSetMin_C y: 20-04:BayleyIIIMotorComposite\n",
      "_corr_coeff: to eval: x: 01-07:pre_SkinTemperatureMax_C y: 20-10:moderateSevereDisabilityOrDeath valid_x: 203 valid_y: 504\n",
      "_corr_coeff: done: x: 01-07:pre_SkinTemperatureMax_C y: 20-10:moderateSevereDisabilityOrDeath\n"
     ]
    },
    {
     "name": "stderr",
     "output_type": "stream",
     "text": [
      "\r",
      " 32%|███▏      | 108/336 [00:23<00:41,  5.53it/s]"
     ]
    },
    {
     "name": "stdout",
     "output_type": "stream",
     "text": [
      "_corr_coeff: to eval: x: 01-07:pre_SkinTemperatureMax_C y: 20-10:disabilityLevelDeath4Category valid_x: 203 valid_y: 498\n",
      "_corr_coeff: done: x: 01-07:pre_SkinTemperatureMax_C y: 20-10:disabilityLevelDeath4Category\n",
      "_corr_coeff: to eval: x: 01-07:pre_SkinTemperatureMax_C y: 20-10_1:disabilityLevelDeath valid_x: 203 valid_y: 498\n",
      "_corr_coeff: done: x: 01-07:pre_SkinTemperatureMax_C y: 20-10_1:disabilityLevelDeath\n",
      "_corr_coeff: to eval: x: 01-07:pre_SkinTemperatureMax_C y: 20-04:BayleyIIICognitiveComposite valid_x: 203 valid_y: 421\n",
      "_corr_coeff: done: x: 01-07:pre_SkinTemperatureMax_C y: 20-04:BayleyIIICognitiveComposite\n",
      "_corr_coeff: to eval: x: 01-07:pre_SkinTemperatureMax_C y: 20-04:BayleyIIILanguageComposite valid_x: 203 valid_y: 411\n",
      "_corr_coeff: done: x: 01-07:pre_SkinTemperatureMax_C y: 20-04:BayleyIIILanguageComposite\n",
      "_corr_coeff: to eval: x: 01-07:pre_SkinTemperatureMax_C y: 20-04:BayleyIIIMotorComposite valid_x: 203 valid_y: 415\n",
      "_corr_coeff: done: x: 01-07:pre_SkinTemperatureMax_C y: 20-04:BayleyIIIMotorComposite\n",
      "_corr_coeff: to eval: x: 01-07:pre_AxillaryTemperatureMax_C y: 20-10:moderateSevereDisabilityOrDeath valid_x: 418 valid_y: 504\n",
      "_corr_coeff: done: x: 01-07:pre_AxillaryTemperatureMax_C y: 20-10:moderateSevereDisabilityOrDeath\n",
      "_corr_coeff: to eval: x: 01-07:pre_AxillaryTemperatureMax_C y: 20-10:disabilityLevelDeath4Category valid_x: 418 valid_y: 498\n",
      "_corr_coeff: done: x: 01-07:pre_AxillaryTemperatureMax_C y: 20-10:disabilityLevelDeath4Category\n",
      "_corr_coeff: to eval: x: 01-07:pre_AxillaryTemperatureMax_C y: 20-10_1:disabilityLevelDeath valid_x: 418 valid_y: 498\n",
      "_corr_coeff: done: x: 01-07:pre_AxillaryTemperatureMax_C y: 20-10_1:disabilityLevelDeath\n"
     ]
    },
    {
     "name": "stderr",
     "output_type": "stream",
     "text": [
      "\r",
      " 32%|███▏      | 109/336 [00:23<00:41,  5.48it/s]"
     ]
    },
    {
     "name": "stdout",
     "output_type": "stream",
     "text": [
      "_corr_coeff: to eval: x: 01-07:pre_AxillaryTemperatureMax_C y: 20-04:BayleyIIICognitiveComposite valid_x: 418 valid_y: 421\n",
      "_corr_coeff: done: x: 01-07:pre_AxillaryTemperatureMax_C y: 20-04:BayleyIIICognitiveComposite\n",
      "_corr_coeff: to eval: x: 01-07:pre_AxillaryTemperatureMax_C y: 20-04:BayleyIIILanguageComposite valid_x: 418 valid_y: 411\n",
      "_corr_coeff: done: x: 01-07:pre_AxillaryTemperatureMax_C y: 20-04:BayleyIIILanguageComposite\n",
      "_corr_coeff: to eval: x: 01-07:pre_AxillaryTemperatureMax_C y: 20-04:BayleyIIIMotorComposite valid_x: 418 valid_y: 415\n",
      "_corr_coeff: done: x: 01-07:pre_AxillaryTemperatureMax_C y: 20-04:BayleyIIIMotorComposite\n",
      "_corr_coeff: to eval: x: 01-07:pre_EsophagealTemperatureMax_C y: 20-10:moderateSevereDisabilityOrDeath valid_x: 68 valid_y: 504\n",
      "_corr_coeff: done: x: 01-07:pre_EsophagealTemperatureMax_C y: 20-10:moderateSevereDisabilityOrDeath\n",
      "_corr_coeff: to eval: x: 01-07:pre_EsophagealTemperatureMax_C y: 20-10:disabilityLevelDeath4Category valid_x: 68 valid_y: 498\n",
      "_corr_coeff: done: x: 01-07:pre_EsophagealTemperatureMax_C y: 20-10:disabilityLevelDeath4Category\n",
      "_corr_coeff: to eval: x: 01-07:pre_EsophagealTemperatureMax_C y: 20-10_1:disabilityLevelDeath valid_x: 68 valid_y: 498\n",
      "_corr_coeff: done: x: 01-07:pre_EsophagealTemperatureMax_C y: 20-10_1:disabilityLevelDeath\n",
      "_corr_coeff: to eval: x: 01-07:pre_EsophagealTemperatureMax_C y: 20-04:BayleyIIICognitiveComposite valid_x: 68 valid_y: 421\n",
      "_corr_coeff: done: x: 01-07:pre_EsophagealTemperatureMax_C y: 20-04:BayleyIIICognitiveComposite\n",
      "_corr_coeff: to eval: x: 01-07:pre_EsophagealTemperatureMax_C y: 20-04:BayleyIIILanguageComposite valid_x: 68 valid_y: 411\n",
      "_corr_coeff: done: x: 01-07:pre_EsophagealTemperatureMax_C y: 20-04:BayleyIIILanguageComposite\n"
     ]
    },
    {
     "name": "stderr",
     "output_type": "stream",
     "text": [
      "\r",
      " 33%|███▎      | 110/336 [00:23<00:38,  5.81it/s]"
     ]
    },
    {
     "name": "stdout",
     "output_type": "stream",
     "text": [
      "_corr_coeff: to eval: x: 01-07:pre_EsophagealTemperatureMax_C y: 20-04:BayleyIIIMotorComposite valid_x: 68 valid_y: 415\n",
      "_corr_coeff: done: x: 01-07:pre_EsophagealTemperatureMax_C y: 20-04:BayleyIIIMotorComposite\n",
      "_corr_coeff: to eval: x: 01-07:pre_ServoSetMax_C y: 20-10:moderateSevereDisabilityOrDeath valid_x: 187 valid_y: 504\n",
      "_corr_coeff: done: x: 01-07:pre_ServoSetMax_C y: 20-10:moderateSevereDisabilityOrDeath\n",
      "_corr_coeff: to eval: x: 01-07:pre_ServoSetMax_C y: 20-10:disabilityLevelDeath4Category valid_x: 187 valid_y: 498\n",
      "_corr_coeff: done: x: 01-07:pre_ServoSetMax_C y: 20-10:disabilityLevelDeath4Category\n",
      "_corr_coeff: to eval: x: 01-07:pre_ServoSetMax_C y: 20-10_1:disabilityLevelDeath valid_x: 187 valid_y: 498\n",
      "_corr_coeff: done: x: 01-07:pre_ServoSetMax_C y: 20-10_1:disabilityLevelDeath\n",
      "_corr_coeff: to eval: x: 01-07:pre_ServoSetMax_C y: 20-04:BayleyIIICognitiveComposite valid_x: 187 valid_y: 421\n",
      "_corr_coeff: done: x: 01-07:pre_ServoSetMax_C y: 20-04:BayleyIIICognitiveComposite\n",
      "_corr_coeff: to eval: x: 01-07:pre_ServoSetMax_C y: 20-04:BayleyIIILanguageComposite valid_x: 187 valid_y: 411\n",
      "_corr_coeff: done: x: 01-07:pre_ServoSetMax_C y: 20-04:BayleyIIILanguageComposite\n"
     ]
    },
    {
     "name": "stderr",
     "output_type": "stream",
     "text": [
      "\r",
      " 33%|███▎      | 111/336 [00:23<00:41,  5.40it/s]"
     ]
    },
    {
     "name": "stderr",
     "output_type": "stream",
     "text": [
      "\r",
      " 33%|███▎      | 112/336 [00:24<00:42,  5.32it/s]"
     ]
    },
    {
     "name": "stdout",
     "output_type": "stream",
     "text": [
      "_corr_coeff: to eval: x: 01-07:pre_ServoSetMax_C y: 20-04:BayleyIIIMotorComposite valid_x: 187 valid_y: 415\n",
      "_corr_coeff: done: x: 01-07:pre_ServoSetMax_C y: 20-04:BayleyIIIMotorComposite\n",
      "_corr_coeff: to eval: x: 01-08:pre_CardioSystolicBloodPressure_mmHg y: 20-10:moderateSevereDisabilityOrDeath valid_x: 508 valid_y: 504\n",
      "_corr_coeff: done: x: 01-08:pre_CardioSystolicBloodPressure_mmHg y: 20-10:moderateSevereDisabilityOrDeath\n",
      "_corr_coeff: to eval: x: 01-08:pre_CardioSystolicBloodPressure_mmHg y: 20-10:disabilityLevelDeath4Category valid_x: 508 valid_y: 498\n",
      "_corr_coeff: done: x: 01-08:pre_CardioSystolicBloodPressure_mmHg y: 20-10:disabilityLevelDeath4Category\n",
      "_corr_coeff: to eval: x: 01-08:pre_CardioSystolicBloodPressure_mmHg y: 20-10_1:disabilityLevelDeath valid_x: 508 valid_y: 498\n",
      "_corr_coeff: done: x: 01-08:pre_CardioSystolicBloodPressure_mmHg y: 20-10_1:disabilityLevelDeath\n",
      "_corr_coeff: to eval: x: 01-08:pre_CardioSystolicBloodPressure_mmHg y: 20-04:BayleyIIICognitiveComposite valid_x: 508 valid_y: 421\n",
      "_corr_coeff: done: x: 01-08:pre_CardioSystolicBloodPressure_mmHg y: 20-04:BayleyIIICognitiveComposite\n",
      "_corr_coeff: to eval: x: 01-08:pre_CardioSystolicBloodPressure_mmHg y: 20-04:BayleyIIILanguageComposite valid_x: 508 valid_y: 411\n",
      "_corr_coeff: done: x: 01-08:pre_CardioSystolicBloodPressure_mmHg y: 20-04:BayleyIIILanguageComposite\n",
      "_corr_coeff: to eval: x: 01-08:pre_CardioSystolicBloodPressure_mmHg y: 20-04:BayleyIIIMotorComposite valid_x: 508 valid_y: 415\n",
      "_corr_coeff: done: x: 01-08:pre_CardioSystolicBloodPressure_mmHg y: 20-04:BayleyIIIMotorComposite\n"
     ]
    },
    {
     "name": "stdout",
     "output_type": "stream",
     "text": [
      "_corr_coeff: to eval: x: 01-08:pre_CardioDiastolicBloodPressure_mmHg y: 20-10:moderateSevereDisabilityOrDeath valid_x: 508 valid_y: 504\n",
      "_corr_coeff: done: x: 01-08:pre_CardioDiastolicBloodPressure_mmHg y: 20-10:moderateSevereDisabilityOrDeath\n",
      "_corr_coeff: to eval: x: 01-08:pre_CardioDiastolicBloodPressure_mmHg y: 20-10:disabilityLevelDeath4Category valid_x: 508 valid_y: 498\n",
      "_corr_coeff: done: x: 01-08:pre_CardioDiastolicBloodPressure_mmHg y: 20-10:disabilityLevelDeath4Category\n",
      "_corr_coeff: to eval: x: 01-08:pre_CardioDiastolicBloodPressure_mmHg y: 20-10_1:disabilityLevelDeath valid_x: 508 valid_y: 498\n",
      "_corr_coeff: done: x: 01-08:pre_CardioDiastolicBloodPressure_mmHg y: 20-10_1:disabilityLevelDeath\n",
      "_corr_coeff: to eval: x: 01-08:pre_CardioDiastolicBloodPressure_mmHg y: 20-04:BayleyIIICognitiveComposite valid_x: 508 valid_y: 421\n",
      "_corr_coeff: done: x: 01-08:pre_CardioDiastolicBloodPressure_mmHg y: 20-04:BayleyIIICognitiveComposite\n",
      "_corr_coeff: to eval: x: 01-08:pre_CardioDiastolicBloodPressure_mmHg y: 20-04:BayleyIIILanguageComposite valid_x: 508 valid_y: 411\n",
      "_corr_coeff: done: x: 01-08:pre_CardioDiastolicBloodPressure_mmHg y: 20-04:BayleyIIILanguageComposite\n"
     ]
    },
    {
     "name": "stderr",
     "output_type": "stream",
     "text": [
      "\r",
      " 34%|███▎      | 113/336 [00:24<00:45,  4.86it/s]"
     ]
    },
    {
     "name": "stderr",
     "output_type": "stream",
     "text": [
      "\r",
      " 34%|███▍      | 114/336 [00:24<00:45,  4.91it/s]"
     ]
    },
    {
     "name": "stdout",
     "output_type": "stream",
     "text": [
      "_corr_coeff: to eval: x: 01-08:pre_CardioDiastolicBloodPressure_mmHg y: 20-04:BayleyIIIMotorComposite valid_x: 508 valid_y: 415\n",
      "_corr_coeff: done: x: 01-08:pre_CardioDiastolicBloodPressure_mmHg y: 20-04:BayleyIIIMotorComposite\n",
      "_corr_coeff: to eval: x: 01-08:pre_CardioHeartRate_BPM y: 20-10:moderateSevereDisabilityOrDeath valid_x: 513 valid_y: 504\n",
      "_corr_coeff: done: x: 01-08:pre_CardioHeartRate_BPM y: 20-10:moderateSevereDisabilityOrDeath\n",
      "_corr_coeff: to eval: x: 01-08:pre_CardioHeartRate_BPM y: 20-10:disabilityLevelDeath4Category valid_x: 513 valid_y: 498\n",
      "_corr_coeff: done: x: 01-08:pre_CardioHeartRate_BPM y: 20-10:disabilityLevelDeath4Category\n",
      "_corr_coeff: to eval: x: 01-08:pre_CardioHeartRate_BPM y: 20-10_1:disabilityLevelDeath valid_x: 513 valid_y: 498\n",
      "_corr_coeff: done: x: 01-08:pre_CardioHeartRate_BPM y: 20-10_1:disabilityLevelDeath\n",
      "_corr_coeff: to eval: x: 01-08:pre_CardioHeartRate_BPM y: 20-04:BayleyIIICognitiveComposite valid_x: 513 valid_y: 421\n",
      "_corr_coeff: done: x: 01-08:pre_CardioHeartRate_BPM y: 20-04:BayleyIIICognitiveComposite\n",
      "_corr_coeff: to eval: x: 01-08:pre_CardioHeartRate_BPM y: 20-04:BayleyIIILanguageComposite valid_x: 513 valid_y: 411\n",
      "_corr_coeff: done: x: 01-08:pre_CardioHeartRate_BPM y: 20-04:BayleyIIILanguageComposite\n",
      "_corr_coeff: to eval: x: 01-08:pre_CardioHeartRate_BPM y: 20-04:BayleyIIIMotorComposite valid_x: 513 valid_y: 415\n",
      "_corr_coeff: done: x: 01-08:pre_CardioHeartRate_BPM y: 20-04:BayleyIIIMotorComposite\n"
     ]
    },
    {
     "name": "stderr",
     "output_type": "stream",
     "text": [
      "\r",
      " 34%|███▍      | 115/336 [00:24<00:48,  4.60it/s]"
     ]
    },
    {
     "name": "stdout",
     "output_type": "stream",
     "text": [
      "_corr_coeff: to eval: x: 01-08:pre_CardioVolumeExpand y: 20-10:moderateSevereDisabilityOrDeath valid_x: 517 valid_y: 504\n",
      "_corr_coeff: done: x: 01-08:pre_CardioVolumeExpand y: 20-10:moderateSevereDisabilityOrDeath\n",
      "_corr_coeff: to eval: x: 01-08:pre_CardioVolumeExpand y: 20-10:disabilityLevelDeath4Category valid_x: 517 valid_y: 498\n",
      "_corr_coeff: done: x: 01-08:pre_CardioVolumeExpand y: 20-10:disabilityLevelDeath4Category\n",
      "_corr_coeff: to eval: x: 01-08:pre_CardioVolumeExpand y: 20-10_1:disabilityLevelDeath valid_x: 517 valid_y: 498\n",
      "_corr_coeff: done: x: 01-08:pre_CardioVolumeExpand y: 20-10_1:disabilityLevelDeath\n",
      "_corr_coeff: to eval: x: 01-08:pre_CardioVolumeExpand y: 20-04:BayleyIIICognitiveComposite valid_x: 517 valid_y: 421\n",
      "_corr_coeff: done: x: 01-08:pre_CardioVolumeExpand y: 20-04:BayleyIIICognitiveComposite\n",
      "_corr_coeff: to eval: x: 01-08:pre_CardioVolumeExpand y: 20-04:BayleyIIILanguageComposite valid_x: 517 valid_y: 411\n",
      "_corr_coeff: done: x: 01-08:pre_CardioVolumeExpand y: 20-04:BayleyIIILanguageComposite\n",
      "_corr_coeff: to eval: x: 01-08:pre_CardioVolumeExpand y: 20-04:BayleyIIIMotorComposite valid_x: 517 valid_y: 415\n",
      "_corr_coeff: done: x: 01-08:pre_CardioVolumeExpand y: 20-04:BayleyIIIMotorComposite\n",
      "_corr_coeff: to eval: x: 01-08:pre_CardioInotropicAgent y: 20-10:moderateSevereDisabilityOrDeath valid_x: 517 valid_y: 504\n",
      "_corr_coeff: done: x: 01-08:pre_CardioInotropicAgent y: 20-10:moderateSevereDisabilityOrDeath\n"
     ]
    },
    {
     "name": "stderr",
     "output_type": "stream",
     "text": [
      "\r",
      " 35%|███▍      | 116/336 [00:25<00:50,  4.36it/s]"
     ]
    },
    {
     "name": "stdout",
     "output_type": "stream",
     "text": [
      "_corr_coeff: to eval: x: 01-08:pre_CardioInotropicAgent y: 20-10:disabilityLevelDeath4Category valid_x: 517 valid_y: 498\n",
      "_corr_coeff: done: x: 01-08:pre_CardioInotropicAgent y: 20-10:disabilityLevelDeath4Category\n",
      "_corr_coeff: to eval: x: 01-08:pre_CardioInotropicAgent y: 20-10_1:disabilityLevelDeath valid_x: 517 valid_y: 498\n",
      "_corr_coeff: done: x: 01-08:pre_CardioInotropicAgent y: 20-10_1:disabilityLevelDeath\n",
      "_corr_coeff: to eval: x: 01-08:pre_CardioInotropicAgent y: 20-04:BayleyIIICognitiveComposite valid_x: 517 valid_y: 421\n",
      "_corr_coeff: done: x: 01-08:pre_CardioInotropicAgent y: 20-04:BayleyIIICognitiveComposite\n",
      "_corr_coeff: to eval: x: 01-08:pre_CardioInotropicAgent y: 20-04:BayleyIIILanguageComposite valid_x: 517 valid_y: 411\n",
      "_corr_coeff: done: x: 01-08:pre_CardioInotropicAgent y: 20-04:BayleyIIILanguageComposite\n",
      "_corr_coeff: to eval: x: 01-08:pre_CardioInotropicAgent y: 20-04:BayleyIIIMotorComposite valid_x: 517 valid_y: 415\n",
      "_corr_coeff: done: x: 01-08:pre_CardioInotropicAgent y: 20-04:BayleyIIIMotorComposite\n"
     ]
    },
    {
     "name": "stderr",
     "output_type": "stream",
     "text": [
      "\r",
      " 35%|███▍      | 117/336 [00:25<00:48,  4.54it/s]"
     ]
    },
    {
     "name": "stdout",
     "output_type": "stream",
     "text": [
      "_corr_coeff: to eval: x: 01-08:pre_CardioBloodTransfusion y: 20-10:moderateSevereDisabilityOrDeath valid_x: 517 valid_y: 504\n",
      "_corr_coeff: done: x: 01-08:pre_CardioBloodTransfusion y: 20-10:moderateSevereDisabilityOrDeath\n",
      "_corr_coeff: to eval: x: 01-08:pre_CardioBloodTransfusion y: 20-10:disabilityLevelDeath4Category valid_x: 517 valid_y: 498\n",
      "_corr_coeff: done: x: 01-08:pre_CardioBloodTransfusion y: 20-10:disabilityLevelDeath4Category\n",
      "_corr_coeff: to eval: x: 01-08:pre_CardioBloodTransfusion y: 20-10_1:disabilityLevelDeath valid_x: 517 valid_y: 498\n",
      "_corr_coeff: done: x: 01-08:pre_CardioBloodTransfusion y: 20-10_1:disabilityLevelDeath\n",
      "_corr_coeff: to eval: x: 01-08:pre_CardioBloodTransfusion y: 20-04:BayleyIIICognitiveComposite valid_x: 517 valid_y: 421\n",
      "_corr_coeff: done: x: 01-08:pre_CardioBloodTransfusion y: 20-04:BayleyIIICognitiveComposite\n",
      "_corr_coeff: to eval: x: 01-08:pre_CardioBloodTransfusion y: 20-04:BayleyIIILanguageComposite valid_x: 517 valid_y: 411\n",
      "_corr_coeff: done: x: 01-08:pre_CardioBloodTransfusion y: 20-04:BayleyIIILanguageComposite\n",
      "_corr_coeff: to eval: x: 01-08:pre_CardioBloodTransfusion y: 20-04:BayleyIIIMotorComposite valid_x: 517 valid_y: 415\n",
      "_corr_coeff: done: x: 01-08:pre_CardioBloodTransfusion y: 20-04:BayleyIIIMotorComposite\n",
      "_corr_coeff: to eval: x: 01-08:pre_CardioPlatelets y: 20-10:moderateSevereDisabilityOrDeath valid_x: 518 valid_y: 504\n",
      "_corr_coeff: done: x: 01-08:pre_CardioPlatelets y: 20-10:moderateSevereDisabilityOrDeath\n"
     ]
    },
    {
     "name": "stderr",
     "output_type": "stream",
     "text": [
      "\r",
      " 35%|███▌      | 118/336 [00:25<00:49,  4.36it/s]"
     ]
    },
    {
     "name": "stdout",
     "output_type": "stream",
     "text": [
      "_corr_coeff: to eval: x: 01-08:pre_CardioPlatelets y: 20-10:disabilityLevelDeath4Category valid_x: 518 valid_y: 498\n",
      "_corr_coeff: done: x: 01-08:pre_CardioPlatelets y: 20-10:disabilityLevelDeath4Category\n",
      "_corr_coeff: to eval: x: 01-08:pre_CardioPlatelets y: 20-10_1:disabilityLevelDeath valid_x: 518 valid_y: 498\n",
      "_corr_coeff: done: x: 01-08:pre_CardioPlatelets y: 20-10_1:disabilityLevelDeath\n",
      "_corr_coeff: to eval: x: 01-08:pre_CardioPlatelets y: 20-04:BayleyIIICognitiveComposite valid_x: 518 valid_y: 421\n",
      "_corr_coeff: done: x: 01-08:pre_CardioPlatelets y: 20-04:BayleyIIICognitiveComposite\n",
      "_corr_coeff: to eval: x: 01-08:pre_CardioPlatelets y: 20-04:BayleyIIILanguageComposite valid_x: 518 valid_y: 411\n",
      "_corr_coeff: done: x: 01-08:pre_CardioPlatelets y: 20-04:BayleyIIILanguageComposite\n",
      "_corr_coeff: to eval: x: 01-08:pre_CardioPlatelets y: 20-04:BayleyIIIMotorComposite valid_x: 518 valid_y: 415\n",
      "_corr_coeff: done: x: 01-08:pre_CardioPlatelets y: 20-04:BayleyIIIMotorComposite\n"
     ]
    },
    {
     "name": "stderr",
     "output_type": "stream",
     "text": [
      "\r",
      " 35%|███▌      | 119/336 [00:25<00:45,  4.77it/s]"
     ]
    },
    {
     "name": "stdout",
     "output_type": "stream",
     "text": [
      "_corr_coeff: to eval: x: 01-09:pre_PositiveCulture y: 20-10:moderateSevereDisabilityOrDeath valid_x: 168 valid_y: 504\n",
      "_corr_coeff: done: x: 01-09:pre_PositiveCulture y: 20-10:moderateSevereDisabilityOrDeath\n",
      "_corr_coeff: to eval: x: 01-09:pre_PositiveCulture y: 20-10:disabilityLevelDeath4Category valid_x: 168 valid_y: 498\n",
      "_corr_coeff: done: x: 01-09:pre_PositiveCulture y: 20-10:disabilityLevelDeath4Category\n",
      "_corr_coeff: to eval: x: 01-09:pre_PositiveCulture y: 20-10_1:disabilityLevelDeath valid_x: 168 valid_y: 498\n",
      "_corr_coeff: done: x: 01-09:pre_PositiveCulture y: 20-10_1:disabilityLevelDeath\n",
      "_corr_coeff: to eval: x: 01-09:pre_PositiveCulture y: 20-04:BayleyIIICognitiveComposite valid_x: 168 valid_y: 421\n",
      "_corr_coeff: done: x: 01-09:pre_PositiveCulture y: 20-04:BayleyIIICognitiveComposite\n",
      "_corr_coeff: to eval: x: 01-09:pre_PositiveCulture y: 20-04:BayleyIIILanguageComposite valid_x: 168 valid_y: 411\n",
      "_corr_coeff: done: x: 01-09:pre_PositiveCulture y: 20-04:BayleyIIILanguageComposite\n",
      "_corr_coeff: to eval: x: 01-09:pre_PositiveCulture y: 20-04:BayleyIIIMotorComposite valid_x: 168 valid_y: 415\n",
      "_corr_coeff: done: x: 01-09:pre_PositiveCulture y: 20-04:BayleyIIIMotorComposite\n",
      "_corr_coeff: to eval: x: 01-09:pre_Antibiotics y: 20-10:moderateSevereDisabilityOrDeath valid_x: 530 valid_y: 504\n",
      "_corr_coeff: done: x: 01-09:pre_Antibiotics y: 20-10:moderateSevereDisabilityOrDeath\n"
     ]
    },
    {
     "name": "stderr",
     "output_type": "stream",
     "text": [
      "\r",
      " 36%|███▌      | 120/336 [00:25<00:48,  4.47it/s]"
     ]
    },
    {
     "name": "stdout",
     "output_type": "stream",
     "text": [
      "_corr_coeff: to eval: x: 01-09:pre_Antibiotics y: 20-10:disabilityLevelDeath4Category valid_x: 530 valid_y: 498\n",
      "_corr_coeff: done: x: 01-09:pre_Antibiotics y: 20-10:disabilityLevelDeath4Category\n",
      "_corr_coeff: to eval: x: 01-09:pre_Antibiotics y: 20-10_1:disabilityLevelDeath valid_x: 530 valid_y: 498\n",
      "_corr_coeff: done: x: 01-09:pre_Antibiotics y: 20-10_1:disabilityLevelDeath\n",
      "_corr_coeff: to eval: x: 01-09:pre_Antibiotics y: 20-04:BayleyIIICognitiveComposite valid_x: 530 valid_y: 421\n",
      "_corr_coeff: done: x: 01-09:pre_Antibiotics y: 20-04:BayleyIIICognitiveComposite\n",
      "_corr_coeff: to eval: x: 01-09:pre_Antibiotics y: 20-04:BayleyIIILanguageComposite valid_x: 530 valid_y: 411\n",
      "_corr_coeff: done: x: 01-09:pre_Antibiotics y: 20-04:BayleyIIILanguageComposite\n",
      "_corr_coeff: to eval: x: 01-09:pre_Antibiotics y: 20-04:BayleyIIIMotorComposite valid_x: 530 valid_y: 415\n",
      "_corr_coeff: done: x: 01-09:pre_Antibiotics y: 20-04:BayleyIIIMotorComposite\n"
     ]
    },
    {
     "name": "stderr",
     "output_type": "stream",
     "text": [
      "\r",
      " 36%|███▌      | 121/336 [00:26<00:46,  4.63it/s]"
     ]
    },
    {
     "name": "stdout",
     "output_type": "stream",
     "text": [
      "_corr_coeff: to eval: x: 01-12:pre_NeuroExam y: 20-10:moderateSevereDisabilityOrDeath valid_x: 532 valid_y: 504\n",
      "_corr_coeff: done: x: 01-12:pre_NeuroExam y: 20-10:moderateSevereDisabilityOrDeath\n",
      "_corr_coeff: to eval: x: 01-12:pre_NeuroExam y: 20-10:disabilityLevelDeath4Category valid_x: 532 valid_y: 498\n",
      "_corr_coeff: done: x: 01-12:pre_NeuroExam y: 20-10:disabilityLevelDeath4Category\n",
      "_corr_coeff: to eval: x: 01-12:pre_NeuroExam y: 20-10_1:disabilityLevelDeath valid_x: 532 valid_y: 498\n",
      "_corr_coeff: done: x: 01-12:pre_NeuroExam y: 20-10_1:disabilityLevelDeath\n",
      "_corr_coeff: to eval: x: 01-12:pre_NeuroExam y: 20-04:BayleyIIICognitiveComposite valid_x: 532 valid_y: 421\n",
      "_corr_coeff: done: x: 01-12:pre_NeuroExam y: 20-04:BayleyIIICognitiveComposite\n",
      "_corr_coeff: to eval: x: 01-12:pre_NeuroExam y: 20-04:BayleyIIILanguageComposite valid_x: 532 valid_y: 411\n",
      "_corr_coeff: done: x: 01-12:pre_NeuroExam y: 20-04:BayleyIIILanguageComposite\n",
      "_corr_coeff: to eval: x: 01-12:pre_NeuroExam y: 20-04:BayleyIIIMotorComposite valid_x: 532 valid_y: 415\n",
      "_corr_coeff: done: x: 01-12:pre_NeuroExam y: 20-04:BayleyIIIMotorComposite\n",
      "_corr_coeff: to eval: x: 01-12:pre_NeuroExamSignModerateSevereHIE3Category y: 20-10:moderateSevereDisabilityOrDeath valid_x: 530 valid_y: 504\n",
      "_corr_coeff: done: x: 01-12:pre_NeuroExamSignModerateSevereHIE3Category y: 20-10:moderateSevereDisabilityOrDeath\n"
     ]
    },
    {
     "name": "stderr",
     "output_type": "stream",
     "text": [
      "\r",
      " 36%|███▋      | 122/336 [00:26<00:48,  4.37it/s]"
     ]
    },
    {
     "name": "stdout",
     "output_type": "stream",
     "text": [
      "_corr_coeff: to eval: x: 01-12:pre_NeuroExamSignModerateSevereHIE3Category y: 20-10:disabilityLevelDeath4Category valid_x: 530 valid_y: 498\n",
      "_corr_coeff: done: x: 01-12:pre_NeuroExamSignModerateSevereHIE3Category y: 20-10:disabilityLevelDeath4Category\n",
      "_corr_coeff: to eval: x: 01-12:pre_NeuroExamSignModerateSevereHIE3Category y: 20-10_1:disabilityLevelDeath valid_x: 530 valid_y: 498\n",
      "_corr_coeff: done: x: 01-12:pre_NeuroExamSignModerateSevereHIE3Category y: 20-10_1:disabilityLevelDeath\n",
      "_corr_coeff: to eval: x: 01-12:pre_NeuroExamSignModerateSevereHIE3Category y: 20-04:BayleyIIICognitiveComposite valid_x: 530 valid_y: 421\n",
      "_corr_coeff: done: x: 01-12:pre_NeuroExamSignModerateSevereHIE3Category y: 20-04:BayleyIIICognitiveComposite\n",
      "_corr_coeff: to eval: x: 01-12:pre_NeuroExamSignModerateSevereHIE3Category y: 20-04:BayleyIIILanguageComposite valid_x: 530 valid_y: 411\n",
      "_corr_coeff: done: x: 01-12:pre_NeuroExamSignModerateSevereHIE3Category y: 20-04:BayleyIIILanguageComposite\n",
      "_corr_coeff: to eval: x: 01-12:pre_NeuroExamSignModerateSevereHIE3Category y: 20-04:BayleyIIIMotorComposite valid_x: 530 valid_y: 415\n",
      "_corr_coeff: done: x: 01-12:pre_NeuroExamSignModerateSevereHIE3Category y: 20-04:BayleyIIIMotorComposite\n"
     ]
    },
    {
     "name": "stderr",
     "output_type": "stream",
     "text": [
      "\r",
      " 37%|███▋      | 123/336 [00:26<00:47,  4.49it/s]"
     ]
    },
    {
     "name": "stdout",
     "output_type": "stream",
     "text": [
      "_corr_coeff: to eval: x: 01-12:pre_NeuroExamLevelConsciousness y: 20-10:moderateSevereDisabilityOrDeath valid_x: 530 valid_y: 504\n",
      "_corr_coeff: done: x: 01-12:pre_NeuroExamLevelConsciousness y: 20-10:moderateSevereDisabilityOrDeath\n",
      "_corr_coeff: to eval: x: 01-12:pre_NeuroExamLevelConsciousness y: 20-10:disabilityLevelDeath4Category valid_x: 530 valid_y: 498\n",
      "_corr_coeff: done: x: 01-12:pre_NeuroExamLevelConsciousness y: 20-10:disabilityLevelDeath4Category\n",
      "_corr_coeff: to eval: x: 01-12:pre_NeuroExamLevelConsciousness y: 20-10_1:disabilityLevelDeath valid_x: 530 valid_y: 498\n",
      "_corr_coeff: done: x: 01-12:pre_NeuroExamLevelConsciousness y: 20-10_1:disabilityLevelDeath\n",
      "_corr_coeff: to eval: x: 01-12:pre_NeuroExamLevelConsciousness y: 20-04:BayleyIIICognitiveComposite valid_x: 530 valid_y: 421\n",
      "_corr_coeff: done: x: 01-12:pre_NeuroExamLevelConsciousness y: 20-04:BayleyIIICognitiveComposite\n",
      "_corr_coeff: to eval: x: 01-12:pre_NeuroExamLevelConsciousness y: 20-04:BayleyIIILanguageComposite valid_x: 530 valid_y: 411\n",
      "_corr_coeff: done: x: 01-12:pre_NeuroExamLevelConsciousness y: 20-04:BayleyIIILanguageComposite\n",
      "_corr_coeff: to eval: x: 01-12:pre_NeuroExamLevelConsciousness y: 20-04:BayleyIIIMotorComposite valid_x: 530 valid_y: 415\n",
      "_corr_coeff: done: x: 01-12:pre_NeuroExamLevelConsciousness y: 20-04:BayleyIIIMotorComposite\n"
     ]
    },
    {
     "name": "stdout",
     "output_type": "stream",
     "text": [
      "_corr_coeff: to eval: x: 01-12:pre_NeuroExamSpontaneousActivity y: 20-10:moderateSevereDisabilityOrDeath valid_x: 530 valid_y: 504\n",
      "_corr_coeff: done: x: 01-12:pre_NeuroExamSpontaneousActivity y: 20-10:moderateSevereDisabilityOrDeath\n",
      "_corr_coeff: to eval: x: 01-12:pre_NeuroExamSpontaneousActivity y: 20-10:disabilityLevelDeath4Category valid_x: 530 valid_y: 498\n",
      "_corr_coeff: done: x: 01-12:pre_NeuroExamSpontaneousActivity y: 20-10:disabilityLevelDeath4Category\n",
      "_corr_coeff: to eval: x: 01-12:pre_NeuroExamSpontaneousActivity y: 20-10_1:disabilityLevelDeath valid_x: 530 valid_y: 498\n",
      "_corr_coeff: done: x: 01-12:pre_NeuroExamSpontaneousActivity y: 20-10_1:disabilityLevelDeath\n",
      "_corr_coeff: to eval: x: 01-12:pre_NeuroExamSpontaneousActivity y: 20-04:BayleyIIICognitiveComposite valid_x: 530 valid_y: 421\n",
      "_corr_coeff: done: x: 01-12:pre_NeuroExamSpontaneousActivity y: 20-04:BayleyIIICognitiveComposite\n",
      "_corr_coeff: to eval: x: 01-12:pre_NeuroExamSpontaneousActivity y: 20-04:BayleyIIILanguageComposite valid_x: 530 valid_y: 411\n",
      "_corr_coeff: done: x: 01-12:pre_NeuroExamSpontaneousActivity y: 20-04:BayleyIIILanguageComposite\n"
     ]
    },
    {
     "name": "stderr",
     "output_type": "stream",
     "text": [
      "\r",
      " 37%|███▋      | 124/336 [00:26<00:49,  4.28it/s]"
     ]
    },
    {
     "name": "stdout",
     "output_type": "stream",
     "text": [
      "_corr_coeff: to eval: x: 01-12:pre_NeuroExamSpontaneousActivity y: 20-04:BayleyIIIMotorComposite valid_x: 530 valid_y: 415\n",
      "_corr_coeff: done: x: 01-12:pre_NeuroExamSpontaneousActivity y: 20-04:BayleyIIIMotorComposite\n",
      "_corr_coeff: to eval: x: 01-12:pre_NeuroExamPosture y: 20-10:moderateSevereDisabilityOrDeath valid_x: 527 valid_y: 504\n",
      "_corr_coeff: done: x: 01-12:pre_NeuroExamPosture y: 20-10:moderateSevereDisabilityOrDeath\n",
      "_corr_coeff: to eval: x: 01-12:pre_NeuroExamPosture y: 20-10:disabilityLevelDeath4Category valid_x: 527 valid_y: 498\n",
      "_corr_coeff: done: x: 01-12:pre_NeuroExamPosture y: 20-10:disabilityLevelDeath4Category\n",
      "_corr_coeff: to eval: x: 01-12:pre_NeuroExamPosture y: 20-10_1:disabilityLevelDeath valid_x: 527 valid_y: 498\n",
      "_corr_coeff: done: x: 01-12:pre_NeuroExamPosture y: 20-10_1:disabilityLevelDeath\n",
      "_corr_coeff: to eval: x: 01-12:pre_NeuroExamPosture y: 20-04:BayleyIIICognitiveComposite valid_x: 527 valid_y: 421\n",
      "_corr_coeff: done: x: 01-12:pre_NeuroExamPosture y: 20-04:BayleyIIICognitiveComposite\n",
      "_corr_coeff: to eval: x: 01-12:pre_NeuroExamPosture y: 20-04:BayleyIIILanguageComposite valid_x: 527 valid_y: 411\n",
      "_corr_coeff: done: x: 01-12:pre_NeuroExamPosture y: 20-04:BayleyIIILanguageComposite\n"
     ]
    },
    {
     "name": "stderr",
     "output_type": "stream",
     "text": [
      "\r",
      " 37%|███▋      | 125/336 [00:27<00:47,  4.45it/s]"
     ]
    },
    {
     "name": "stdout",
     "output_type": "stream",
     "text": [
      "_corr_coeff: to eval: x: 01-12:pre_NeuroExamPosture y: 20-04:BayleyIIIMotorComposite valid_x: 527 valid_y: 415\n",
      "_corr_coeff: done: x: 01-12:pre_NeuroExamPosture y: 20-04:BayleyIIIMotorComposite\n",
      "_corr_coeff: to eval: x: 01-12:pre_NeuroExamTone y: 20-10:moderateSevereDisabilityOrDeath valid_x: 530 valid_y: 504\n",
      "_corr_coeff: done: x: 01-12:pre_NeuroExamTone y: 20-10:moderateSevereDisabilityOrDeath\n",
      "_corr_coeff: to eval: x: 01-12:pre_NeuroExamTone y: 20-10:disabilityLevelDeath4Category valid_x: 530 valid_y: 498\n",
      "_corr_coeff: done: x: 01-12:pre_NeuroExamTone y: 20-10:disabilityLevelDeath4Category\n",
      "_corr_coeff: to eval: x: 01-12:pre_NeuroExamTone y: 20-10_1:disabilityLevelDeath valid_x: 530 valid_y: 498\n",
      "_corr_coeff: done: x: 01-12:pre_NeuroExamTone y: 20-10_1:disabilityLevelDeath\n",
      "_corr_coeff: to eval: x: 01-12:pre_NeuroExamTone y: 20-04:BayleyIIICognitiveComposite valid_x: 530 valid_y: 421\n",
      "_corr_coeff: done: x: 01-12:pre_NeuroExamTone y: 20-04:BayleyIIICognitiveComposite\n"
     ]
    },
    {
     "name": "stderr",
     "output_type": "stream",
     "text": [
      "\r",
      " 38%|███▊      | 126/336 [00:27<00:49,  4.27it/s]"
     ]
    },
    {
     "name": "stdout",
     "output_type": "stream",
     "text": [
      "_corr_coeff: to eval: x: 01-12:pre_NeuroExamTone y: 20-04:BayleyIIILanguageComposite valid_x: 530 valid_y: 411\n",
      "_corr_coeff: done: x: 01-12:pre_NeuroExamTone y: 20-04:BayleyIIILanguageComposite\n",
      "_corr_coeff: to eval: x: 01-12:pre_NeuroExamTone y: 20-04:BayleyIIIMotorComposite valid_x: 530 valid_y: 415\n",
      "_corr_coeff: done: x: 01-12:pre_NeuroExamTone y: 20-04:BayleyIIIMotorComposite\n",
      "_corr_coeff: to eval: x: 01-12:pre_NeuroExamSuck y: 20-10:moderateSevereDisabilityOrDeath valid_x: 525 valid_y: 504\n",
      "_corr_coeff: done: x: 01-12:pre_NeuroExamSuck y: 20-10:moderateSevereDisabilityOrDeath\n",
      "_corr_coeff: to eval: x: 01-12:pre_NeuroExamSuck y: 20-10:disabilityLevelDeath4Category valid_x: 525 valid_y: 498\n",
      "_corr_coeff: done: x: 01-12:pre_NeuroExamSuck y: 20-10:disabilityLevelDeath4Category\n",
      "_corr_coeff: to eval: x: 01-12:pre_NeuroExamSuck y: 20-10_1:disabilityLevelDeath valid_x: 525 valid_y: 498\n",
      "_corr_coeff: done: x: 01-12:pre_NeuroExamSuck y: 20-10_1:disabilityLevelDeath\n",
      "_corr_coeff: to eval: x: 01-12:pre_NeuroExamSuck y: 20-04:BayleyIIICognitiveComposite valid_x: 525 valid_y: 421\n",
      "_corr_coeff: done: x: 01-12:pre_NeuroExamSuck y: 20-04:BayleyIIICognitiveComposite\n",
      "_corr_coeff: to eval: x: 01-12:pre_NeuroExamSuck y: 20-04:BayleyIIILanguageComposite valid_x: 525 valid_y: 411\n",
      "_corr_coeff: done: x: 01-12:pre_NeuroExamSuck y: 20-04:BayleyIIILanguageComposite\n"
     ]
    },
    {
     "name": "stderr",
     "output_type": "stream",
     "text": [
      "\r",
      " 38%|███▊      | 127/336 [00:27<00:50,  4.16it/s]"
     ]
    },
    {
     "name": "stderr",
     "output_type": "stream",
     "text": [
      "\r",
      " 38%|███▊      | 128/336 [00:27<00:47,  4.38it/s]"
     ]
    },
    {
     "name": "stdout",
     "output_type": "stream",
     "text": [
      "_corr_coeff: to eval: x: 01-12:pre_NeuroExamSuck y: 20-04:BayleyIIIMotorComposite valid_x: 525 valid_y: 415\n",
      "_corr_coeff: done: x: 01-12:pre_NeuroExamSuck y: 20-04:BayleyIIIMotorComposite\n",
      "_corr_coeff: to eval: x: 01-12:pre_NeuroExamMoro y: 20-10:moderateSevereDisabilityOrDeath valid_x: 512 valid_y: 504\n",
      "_corr_coeff: done: x: 01-12:pre_NeuroExamMoro y: 20-10:moderateSevereDisabilityOrDeath\n",
      "_corr_coeff: to eval: x: 01-12:pre_NeuroExamMoro y: 20-10:disabilityLevelDeath4Category valid_x: 512 valid_y: 498\n",
      "_corr_coeff: done: x: 01-12:pre_NeuroExamMoro y: 20-10:disabilityLevelDeath4Category\n",
      "_corr_coeff: to eval: x: 01-12:pre_NeuroExamMoro y: 20-10_1:disabilityLevelDeath valid_x: 512 valid_y: 498\n",
      "_corr_coeff: done: x: 01-12:pre_NeuroExamMoro y: 20-10_1:disabilityLevelDeath\n",
      "_corr_coeff: to eval: x: 01-12:pre_NeuroExamMoro y: 20-04:BayleyIIICognitiveComposite valid_x: 512 valid_y: 421\n",
      "_corr_coeff: done: x: 01-12:pre_NeuroExamMoro y: 20-04:BayleyIIICognitiveComposite\n",
      "_corr_coeff: to eval: x: 01-12:pre_NeuroExamMoro y: 20-04:BayleyIIILanguageComposite valid_x: 512 valid_y: 411\n",
      "_corr_coeff: done: x: 01-12:pre_NeuroExamMoro y: 20-04:BayleyIIILanguageComposite\n",
      "_corr_coeff: to eval: x: 01-12:pre_NeuroExamMoro y: 20-04:BayleyIIIMotorComposite valid_x: 512 valid_y: 415\n",
      "_corr_coeff: done: x: 01-12:pre_NeuroExamMoro y: 20-04:BayleyIIIMotorComposite\n"
     ]
    },
    {
     "name": "stdout",
     "output_type": "stream",
     "text": [
      "_corr_coeff: to eval: x: 01-12:pre_NeuroExamPupils y: 20-10:moderateSevereDisabilityOrDeath valid_x: 515 valid_y: 504\n",
      "_corr_coeff: done: x: 01-12:pre_NeuroExamPupils y: 20-10:moderateSevereDisabilityOrDeath\n",
      "_corr_coeff: to eval: x: 01-12:pre_NeuroExamPupils y: 20-10:disabilityLevelDeath4Category valid_x: 515 valid_y: 498\n",
      "_corr_coeff: done: x: 01-12:pre_NeuroExamPupils y: 20-10:disabilityLevelDeath4Category\n",
      "_corr_coeff: to eval: x: 01-12:pre_NeuroExamPupils y: 20-10_1:disabilityLevelDeath valid_x: 515 valid_y: 498\n",
      "_corr_coeff: done: x: 01-12:pre_NeuroExamPupils y: 20-10_1:disabilityLevelDeath\n",
      "_corr_coeff: to eval: x: 01-12:pre_NeuroExamPupils y: 20-04:BayleyIIICognitiveComposite valid_x: 515 valid_y: 421\n",
      "_corr_coeff: done: x: 01-12:pre_NeuroExamPupils y: 20-04:BayleyIIICognitiveComposite\n",
      "_corr_coeff: to eval: x: 01-12:pre_NeuroExamPupils y: 20-04:BayleyIIILanguageComposite valid_x: 515 valid_y: 411\n",
      "_corr_coeff: done: x: 01-12:pre_NeuroExamPupils y: 20-04:BayleyIIILanguageComposite\n"
     ]
    },
    {
     "name": "stderr",
     "output_type": "stream",
     "text": [
      "\r",
      " 38%|███▊      | 129/336 [00:28<00:49,  4.22it/s]"
     ]
    },
    {
     "name": "stdout",
     "output_type": "stream",
     "text": [
      "_corr_coeff: to eval: x: 01-12:pre_NeuroExamPupils y: 20-04:BayleyIIIMotorComposite valid_x: 515 valid_y: 415\n",
      "_corr_coeff: done: x: 01-12:pre_NeuroExamPupils y: 20-04:BayleyIIIMotorComposite\n",
      "_corr_coeff: to eval: x: 01-12:pre_NeuroExamHeartRate y: 20-10:moderateSevereDisabilityOrDeath valid_x: 529 valid_y: 504\n",
      "_corr_coeff: done: x: 01-12:pre_NeuroExamHeartRate y: 20-10:moderateSevereDisabilityOrDeath\n",
      "_corr_coeff: to eval: x: 01-12:pre_NeuroExamHeartRate y: 20-10:disabilityLevelDeath4Category valid_x: 529 valid_y: 498\n",
      "_corr_coeff: done: x: 01-12:pre_NeuroExamHeartRate y: 20-10:disabilityLevelDeath4Category\n",
      "_corr_coeff: to eval: x: 01-12:pre_NeuroExamHeartRate y: 20-10_1:disabilityLevelDeath valid_x: 529 valid_y: 498\n",
      "_corr_coeff: done: x: 01-12:pre_NeuroExamHeartRate y: 20-10_1:disabilityLevelDeath\n",
      "_corr_coeff: to eval: x: 01-12:pre_NeuroExamHeartRate y: 20-04:BayleyIIICognitiveComposite valid_x: 529 valid_y: 421\n",
      "_corr_coeff: done: x: 01-12:pre_NeuroExamHeartRate y: 20-04:BayleyIIICognitiveComposite\n",
      "_corr_coeff: to eval: x: 01-12:pre_NeuroExamHeartRate y: 20-04:BayleyIIILanguageComposite valid_x: 529 valid_y: 411\n",
      "_corr_coeff: done: x: 01-12:pre_NeuroExamHeartRate y: 20-04:BayleyIIILanguageComposite\n",
      "_corr_coeff: to eval: x: 01-12:pre_NeuroExamHeartRate y: 20-04:BayleyIIIMotorComposite valid_x: 529 valid_y: 415\n",
      "_corr_coeff: done: x: 01-12:pre_NeuroExamHeartRate y: 20-04:BayleyIIIMotorComposite\n"
     ]
    },
    {
     "name": "stderr",
     "output_type": "stream",
     "text": [
      "\r",
      " 39%|███▊      | 130/336 [00:28<00:46,  4.42it/s]"
     ]
    },
    {
     "name": "stderr",
     "output_type": "stream",
     "text": [
      "\r",
      " 39%|███▉      | 131/336 [00:28<00:44,  4.58it/s]"
     ]
    },
    {
     "name": "stdout",
     "output_type": "stream",
     "text": [
      "_corr_coeff: to eval: x: 01-12:pre_NeuroExamRespiration y: 20-10:moderateSevereDisabilityOrDeath valid_x: 529 valid_y: 504\n",
      "_corr_coeff: done: x: 01-12:pre_NeuroExamRespiration y: 20-10:moderateSevereDisabilityOrDeath\n",
      "_corr_coeff: to eval: x: 01-12:pre_NeuroExamRespiration y: 20-10:disabilityLevelDeath4Category valid_x: 529 valid_y: 498\n",
      "_corr_coeff: done: x: 01-12:pre_NeuroExamRespiration y: 20-10:disabilityLevelDeath4Category\n",
      "_corr_coeff: to eval: x: 01-12:pre_NeuroExamRespiration y: 20-10_1:disabilityLevelDeath valid_x: 529 valid_y: 498\n",
      "_corr_coeff: done: x: 01-12:pre_NeuroExamRespiration y: 20-10_1:disabilityLevelDeath\n",
      "_corr_coeff: to eval: x: 01-12:pre_NeuroExamRespiration y: 20-04:BayleyIIICognitiveComposite valid_x: 529 valid_y: 421\n",
      "_corr_coeff: done: x: 01-12:pre_NeuroExamRespiration y: 20-04:BayleyIIICognitiveComposite\n",
      "_corr_coeff: to eval: x: 01-12:pre_NeuroExamRespiration y: 20-04:BayleyIIILanguageComposite valid_x: 529 valid_y: 411\n",
      "_corr_coeff: done: x: 01-12:pre_NeuroExamRespiration y: 20-04:BayleyIIILanguageComposite\n",
      "_corr_coeff: to eval: x: 01-12:pre_NeuroExamRespiration y: 20-04:BayleyIIIMotorComposite valid_x: 529 valid_y: 415\n",
      "_corr_coeff: done: x: 01-12:pre_NeuroExamRespiration y: 20-04:BayleyIIIMotorComposite\n",
      "_corr_coeff: to eval: x: 01-12:pre_NeuroExamSedate y: 20-10:moderateSevereDisabilityOrDeath valid_x: 530 valid_y: 504\n",
      "_corr_coeff: done: x: 01-12:pre_NeuroExamSedate y: 20-10:moderateSevereDisabilityOrDeath\n"
     ]
    },
    {
     "name": "stderr",
     "output_type": "stream",
     "text": [
      "\r",
      " 39%|███▉      | 132/336 [00:28<00:43,  4.71it/s]"
     ]
    },
    {
     "name": "stdout",
     "output_type": "stream",
     "text": [
      "_corr_coeff: to eval: x: 01-12:pre_NeuroExamSedate y: 20-10:disabilityLevelDeath4Category valid_x: 530 valid_y: 498\n",
      "_corr_coeff: done: x: 01-12:pre_NeuroExamSedate y: 20-10:disabilityLevelDeath4Category\n",
      "_corr_coeff: to eval: x: 01-12:pre_NeuroExamSedate y: 20-10_1:disabilityLevelDeath valid_x: 530 valid_y: 498\n",
      "_corr_coeff: done: x: 01-12:pre_NeuroExamSedate y: 20-10_1:disabilityLevelDeath\n",
      "_corr_coeff: to eval: x: 01-12:pre_NeuroExamSedate y: 20-04:BayleyIIICognitiveComposite valid_x: 530 valid_y: 421\n",
      "_corr_coeff: done: x: 01-12:pre_NeuroExamSedate y: 20-04:BayleyIIICognitiveComposite\n",
      "_corr_coeff: to eval: x: 01-12:pre_NeuroExamSedate y: 20-04:BayleyIIILanguageComposite valid_x: 530 valid_y: 411\n",
      "_corr_coeff: done: x: 01-12:pre_NeuroExamSedate y: 20-04:BayleyIIILanguageComposite\n",
      "_corr_coeff: to eval: x: 01-12:pre_NeuroExamSedate y: 20-04:BayleyIIIMotorComposite valid_x: 530 valid_y: 415\n",
      "_corr_coeff: done: x: 01-12:pre_NeuroExamSedate y: 20-04:BayleyIIIMotorComposite\n",
      "_corr_coeff: to eval: x: 01-12:pre_NeuroExamSeizure y: 20-10:moderateSevereDisabilityOrDeath valid_x: 532 valid_y: 504\n",
      "_corr_coeff: done: x: 01-12:pre_NeuroExamSeizure y: 20-10:moderateSevereDisabilityOrDeath\n",
      "_corr_coeff: to eval: x: 01-12:pre_NeuroExamSeizure y: 20-10:disabilityLevelDeath4Category valid_x: 532 valid_y: 498\n",
      "_corr_coeff: done: x: 01-12:pre_NeuroExamSeizure y: 20-10:disabilityLevelDeath4Category\n"
     ]
    },
    {
     "name": "stderr",
     "output_type": "stream",
     "text": [
      "\r",
      " 40%|███▉      | 133/336 [00:28<00:42,  4.81it/s]"
     ]
    },
    {
     "name": "stdout",
     "output_type": "stream",
     "text": [
      "_corr_coeff: to eval: x: 01-12:pre_NeuroExamSeizure y: 20-10_1:disabilityLevelDeath valid_x: 532 valid_y: 498\n",
      "_corr_coeff: done: x: 01-12:pre_NeuroExamSeizure y: 20-10_1:disabilityLevelDeath\n",
      "_corr_coeff: to eval: x: 01-12:pre_NeuroExamSeizure y: 20-04:BayleyIIICognitiveComposite valid_x: 532 valid_y: 421\n",
      "_corr_coeff: done: x: 01-12:pre_NeuroExamSeizure y: 20-04:BayleyIIICognitiveComposite\n",
      "_corr_coeff: to eval: x: 01-12:pre_NeuroExamSeizure y: 20-04:BayleyIIILanguageComposite valid_x: 532 valid_y: 411\n",
      "_corr_coeff: done: x: 01-12:pre_NeuroExamSeizure y: 20-04:BayleyIIILanguageComposite\n",
      "_corr_coeff: to eval: x: 01-12:pre_NeuroExamSeizure y: 20-04:BayleyIIIMotorComposite valid_x: 532 valid_y: 415\n",
      "_corr_coeff: done: x: 01-12:pre_NeuroExamSeizure y: 20-04:BayleyIIIMotorComposite\n",
      "_corr_coeff: to eval: x: 01-12_1:pre_NeuroExamLevelConsciousnessScore y: 20-10:moderateSevereDisabilityOrDeath valid_x: 530 valid_y: 504\n",
      "_corr_coeff: done: x: 01-12_1:pre_NeuroExamLevelConsciousnessScore y: 20-10:moderateSevereDisabilityOrDeath\n",
      "_corr_coeff: to eval: x: 01-12_1:pre_NeuroExamLevelConsciousnessScore y: 20-10:disabilityLevelDeath4Category valid_x: 530 valid_y: 498\n",
      "_corr_coeff: done: x: 01-12_1:pre_NeuroExamLevelConsciousnessScore y: 20-10:disabilityLevelDeath4Category\n",
      "_corr_coeff: to eval: x: 01-12_1:pre_NeuroExamLevelConsciousnessScore y: 20-10_1:disabilityLevelDeath valid_x: 530 valid_y: 498\n",
      "_corr_coeff: done: x: 01-12_1:pre_NeuroExamLevelConsciousnessScore y: 20-10_1:disabilityLevelDeath\n"
     ]
    },
    {
     "name": "stderr",
     "output_type": "stream",
     "text": [
      "\r",
      " 40%|███▉      | 134/336 [00:29<00:41,  4.89it/s]"
     ]
    },
    {
     "name": "stdout",
     "output_type": "stream",
     "text": [
      "_corr_coeff: to eval: x: 01-12_1:pre_NeuroExamLevelConsciousnessScore y: 20-04:BayleyIIICognitiveComposite valid_x: 530 valid_y: 421\n",
      "_corr_coeff: done: x: 01-12_1:pre_NeuroExamLevelConsciousnessScore y: 20-04:BayleyIIICognitiveComposite\n",
      "_corr_coeff: to eval: x: 01-12_1:pre_NeuroExamLevelConsciousnessScore y: 20-04:BayleyIIILanguageComposite valid_x: 530 valid_y: 411\n",
      "_corr_coeff: done: x: 01-12_1:pre_NeuroExamLevelConsciousnessScore y: 20-04:BayleyIIILanguageComposite\n",
      "_corr_coeff: to eval: x: 01-12_1:pre_NeuroExamLevelConsciousnessScore y: 20-04:BayleyIIIMotorComposite valid_x: 530 valid_y: 415\n",
      "_corr_coeff: done: x: 01-12_1:pre_NeuroExamLevelConsciousnessScore y: 20-04:BayleyIIIMotorComposite\n",
      "_corr_coeff: to eval: x: 01-12_1:pre_NeuroExamSpontaneousActivityScore y: 20-10:moderateSevereDisabilityOrDeath valid_x: 530 valid_y: 504\n",
      "_corr_coeff: done: x: 01-12_1:pre_NeuroExamSpontaneousActivityScore y: 20-10:moderateSevereDisabilityOrDeath\n",
      "_corr_coeff: to eval: x: 01-12_1:pre_NeuroExamSpontaneousActivityScore y: 20-10:disabilityLevelDeath4Category valid_x: 530 valid_y: 498\n",
      "_corr_coeff: done: x: 01-12_1:pre_NeuroExamSpontaneousActivityScore y: 20-10:disabilityLevelDeath4Category\n",
      "_corr_coeff: to eval: x: 01-12_1:pre_NeuroExamSpontaneousActivityScore y: 20-10_1:disabilityLevelDeath valid_x: 530 valid_y: 498\n",
      "_corr_coeff: done: x: 01-12_1:pre_NeuroExamSpontaneousActivityScore y: 20-10_1:disabilityLevelDeath\n",
      "_corr_coeff: to eval: x: 01-12_1:pre_NeuroExamSpontaneousActivityScore y: 20-04:BayleyIIICognitiveComposite valid_x: 530 valid_y: 421\n",
      "_corr_coeff: done: x: 01-12_1:pre_NeuroExamSpontaneousActivityScore y: 20-04:BayleyIIICognitiveComposite\n"
     ]
    },
    {
     "name": "stderr",
     "output_type": "stream",
     "text": [
      "\r",
      " 40%|████      | 135/336 [00:29<00:41,  4.89it/s]"
     ]
    },
    {
     "name": "stdout",
     "output_type": "stream",
     "text": [
      "_corr_coeff: to eval: x: 01-12_1:pre_NeuroExamSpontaneousActivityScore y: 20-04:BayleyIIILanguageComposite valid_x: 530 valid_y: 411\n",
      "_corr_coeff: done: x: 01-12_1:pre_NeuroExamSpontaneousActivityScore y: 20-04:BayleyIIILanguageComposite\n",
      "_corr_coeff: to eval: x: 01-12_1:pre_NeuroExamSpontaneousActivityScore y: 20-04:BayleyIIIMotorComposite valid_x: 530 valid_y: 415\n",
      "_corr_coeff: done: x: 01-12_1:pre_NeuroExamSpontaneousActivityScore y: 20-04:BayleyIIIMotorComposite\n",
      "_corr_coeff: to eval: x: 01-12_1:pre_NeuroExamPostureScore y: 20-10:moderateSevereDisabilityOrDeath valid_x: 530 valid_y: 504\n",
      "_corr_coeff: done: x: 01-12_1:pre_NeuroExamPostureScore y: 20-10:moderateSevereDisabilityOrDeath\n",
      "_corr_coeff: to eval: x: 01-12_1:pre_NeuroExamPostureScore y: 20-10:disabilityLevelDeath4Category valid_x: 530 valid_y: 498\n",
      "_corr_coeff: done: x: 01-12_1:pre_NeuroExamPostureScore y: 20-10:disabilityLevelDeath4Category\n",
      "_corr_coeff: to eval: x: 01-12_1:pre_NeuroExamPostureScore y: 20-10_1:disabilityLevelDeath valid_x: 530 valid_y: 498\n",
      "_corr_coeff: done: x: 01-12_1:pre_NeuroExamPostureScore y: 20-10_1:disabilityLevelDeath\n"
     ]
    },
    {
     "name": "stderr",
     "output_type": "stream",
     "text": [
      "\r",
      " 40%|████      | 136/336 [00:29<00:43,  4.55it/s]"
     ]
    },
    {
     "name": "stdout",
     "output_type": "stream",
     "text": [
      "_corr_coeff: to eval: x: 01-12_1:pre_NeuroExamPostureScore y: 20-04:BayleyIIICognitiveComposite valid_x: 530 valid_y: 421\n",
      "_corr_coeff: done: x: 01-12_1:pre_NeuroExamPostureScore y: 20-04:BayleyIIICognitiveComposite\n",
      "_corr_coeff: to eval: x: 01-12_1:pre_NeuroExamPostureScore y: 20-04:BayleyIIILanguageComposite valid_x: 530 valid_y: 411\n",
      "_corr_coeff: done: x: 01-12_1:pre_NeuroExamPostureScore y: 20-04:BayleyIIILanguageComposite\n",
      "_corr_coeff: to eval: x: 01-12_1:pre_NeuroExamPostureScore y: 20-04:BayleyIIIMotorComposite valid_x: 530 valid_y: 415\n",
      "_corr_coeff: done: x: 01-12_1:pre_NeuroExamPostureScore y: 20-04:BayleyIIIMotorComposite\n",
      "_corr_coeff: to eval: x: 01-12_1:pre_NeuroExamToneScore y: 20-10:moderateSevereDisabilityOrDeath valid_x: 530 valid_y: 504\n",
      "_corr_coeff: done: x: 01-12_1:pre_NeuroExamToneScore y: 20-10:moderateSevereDisabilityOrDeath\n",
      "_corr_coeff: to eval: x: 01-12_1:pre_NeuroExamToneScore y: 20-10:disabilityLevelDeath4Category valid_x: 530 valid_y: 498\n",
      "_corr_coeff: done: x: 01-12_1:pre_NeuroExamToneScore y: 20-10:disabilityLevelDeath4Category\n",
      "_corr_coeff: to eval: x: 01-12_1:pre_NeuroExamToneScore y: 20-10_1:disabilityLevelDeath valid_x: 530 valid_y: 498\n",
      "_corr_coeff: done: x: 01-12_1:pre_NeuroExamToneScore y: 20-10_1:disabilityLevelDeath\n",
      "_corr_coeff: to eval: x: 01-12_1:pre_NeuroExamToneScore y: 20-04:BayleyIIICognitiveComposite valid_x: 530 valid_y: 421\n",
      "_corr_coeff: done: x: 01-12_1:pre_NeuroExamToneScore y: 20-04:BayleyIIICognitiveComposite\n"
     ]
    },
    {
     "name": "stderr",
     "output_type": "stream",
     "text": [
      "\r",
      " 41%|████      | 137/336 [00:29<00:42,  4.69it/s]"
     ]
    },
    {
     "name": "stdout",
     "output_type": "stream",
     "text": [
      "_corr_coeff: to eval: x: 01-12_1:pre_NeuroExamToneScore y: 20-04:BayleyIIILanguageComposite valid_x: 530 valid_y: 411\n",
      "_corr_coeff: done: x: 01-12_1:pre_NeuroExamToneScore y: 20-04:BayleyIIILanguageComposite\n",
      "_corr_coeff: to eval: x: 01-12_1:pre_NeuroExamToneScore y: 20-04:BayleyIIIMotorComposite valid_x: 530 valid_y: 415\n",
      "_corr_coeff: done: x: 01-12_1:pre_NeuroExamToneScore y: 20-04:BayleyIIIMotorComposite\n",
      "_corr_coeff: to eval: x: 01-12_1:pre_NeuroExamSuckScore y: 20-10:moderateSevereDisabilityOrDeath valid_x: 530 valid_y: 504\n",
      "_corr_coeff: done: x: 01-12_1:pre_NeuroExamSuckScore y: 20-10:moderateSevereDisabilityOrDeath\n",
      "_corr_coeff: to eval: x: 01-12_1:pre_NeuroExamSuckScore y: 20-10:disabilityLevelDeath4Category valid_x: 530 valid_y: 498\n",
      "_corr_coeff: done: x: 01-12_1:pre_NeuroExamSuckScore y: 20-10:disabilityLevelDeath4Category\n",
      "_corr_coeff: to eval: x: 01-12_1:pre_NeuroExamSuckScore y: 20-10_1:disabilityLevelDeath valid_x: 530 valid_y: 498\n",
      "_corr_coeff: done: x: 01-12_1:pre_NeuroExamSuckScore y: 20-10_1:disabilityLevelDeath\n",
      "_corr_coeff: to eval: x: 01-12_1:pre_NeuroExamSuckScore y: 20-04:BayleyIIICognitiveComposite valid_x: 530 valid_y: 421\n",
      "_corr_coeff: done: x: 01-12_1:pre_NeuroExamSuckScore y: 20-04:BayleyIIICognitiveComposite\n",
      "_corr_coeff: to eval: x: 01-12_1:pre_NeuroExamSuckScore y: 20-04:BayleyIIILanguageComposite valid_x: 530 valid_y: 411\n",
      "_corr_coeff: done: x: 01-12_1:pre_NeuroExamSuckScore y: 20-04:BayleyIIILanguageComposite\n"
     ]
    },
    {
     "name": "stderr",
     "output_type": "stream",
     "text": [
      "\r",
      " 41%|████      | 138/336 [00:29<00:41,  4.82it/s]"
     ]
    },
    {
     "name": "stdout",
     "output_type": "stream",
     "text": [
      "_corr_coeff: to eval: x: 01-12_1:pre_NeuroExamSuckScore y: 20-04:BayleyIIIMotorComposite valid_x: 530 valid_y: 415\n",
      "_corr_coeff: done: x: 01-12_1:pre_NeuroExamSuckScore y: 20-04:BayleyIIIMotorComposite\n",
      "_corr_coeff: to eval: x: 01-12_1:pre_NeuroExamMoroScore y: 20-10:moderateSevereDisabilityOrDeath valid_x: 530 valid_y: 504\n",
      "_corr_coeff: done: x: 01-12_1:pre_NeuroExamMoroScore y: 20-10:moderateSevereDisabilityOrDeath\n",
      "_corr_coeff: to eval: x: 01-12_1:pre_NeuroExamMoroScore y: 20-10:disabilityLevelDeath4Category valid_x: 530 valid_y: 498\n",
      "_corr_coeff: done: x: 01-12_1:pre_NeuroExamMoroScore y: 20-10:disabilityLevelDeath4Category\n",
      "_corr_coeff: to eval: x: 01-12_1:pre_NeuroExamMoroScore y: 20-10_1:disabilityLevelDeath valid_x: 530 valid_y: 498\n",
      "_corr_coeff: done: x: 01-12_1:pre_NeuroExamMoroScore y: 20-10_1:disabilityLevelDeath\n",
      "_corr_coeff: to eval: x: 01-12_1:pre_NeuroExamMoroScore y: 20-04:BayleyIIICognitiveComposite valid_x: 530 valid_y: 421\n",
      "_corr_coeff: done: x: 01-12_1:pre_NeuroExamMoroScore y: 20-04:BayleyIIICognitiveComposite\n"
     ]
    },
    {
     "name": "stderr",
     "output_type": "stream",
     "text": [
      "\r",
      " 41%|████▏     | 139/336 [00:30<00:44,  4.45it/s]"
     ]
    },
    {
     "name": "stdout",
     "output_type": "stream",
     "text": [
      "_corr_coeff: to eval: x: 01-12_1:pre_NeuroExamMoroScore y: 20-04:BayleyIIILanguageComposite valid_x: 530 valid_y: 411\n",
      "_corr_coeff: done: x: 01-12_1:pre_NeuroExamMoroScore y: 20-04:BayleyIIILanguageComposite\n",
      "_corr_coeff: to eval: x: 01-12_1:pre_NeuroExamMoroScore y: 20-04:BayleyIIIMotorComposite valid_x: 530 valid_y: 415\n",
      "_corr_coeff: done: x: 01-12_1:pre_NeuroExamMoroScore y: 20-04:BayleyIIIMotorComposite\n",
      "_corr_coeff: to eval: x: 01-12_1:pre_NeuroExamPupilsScore y: 20-10:moderateSevereDisabilityOrDeath valid_x: 530 valid_y: 504\n",
      "_corr_coeff: done: x: 01-12_1:pre_NeuroExamPupilsScore y: 20-10:moderateSevereDisabilityOrDeath\n",
      "_corr_coeff: to eval: x: 01-12_1:pre_NeuroExamPupilsScore y: 20-10:disabilityLevelDeath4Category valid_x: 530 valid_y: 498\n",
      "_corr_coeff: done: x: 01-12_1:pre_NeuroExamPupilsScore y: 20-10:disabilityLevelDeath4Category\n",
      "_corr_coeff: to eval: x: 01-12_1:pre_NeuroExamPupilsScore y: 20-10_1:disabilityLevelDeath valid_x: 530 valid_y: 498\n",
      "_corr_coeff: done: x: 01-12_1:pre_NeuroExamPupilsScore y: 20-10_1:disabilityLevelDeath\n",
      "_corr_coeff: to eval: x: 01-12_1:pre_NeuroExamPupilsScore y: 20-04:BayleyIIICognitiveComposite valid_x: 530 valid_y: 421\n",
      "_corr_coeff: done: x: 01-12_1:pre_NeuroExamPupilsScore y: 20-04:BayleyIIICognitiveComposite\n",
      "_corr_coeff: to eval: x: 01-12_1:pre_NeuroExamPupilsScore y: 20-04:BayleyIIILanguageComposite valid_x: 530 valid_y: 411\n",
      "_corr_coeff: done: x: 01-12_1:pre_NeuroExamPupilsScore y: 20-04:BayleyIIILanguageComposite\n"
     ]
    },
    {
     "name": "stderr",
     "output_type": "stream",
     "text": [
      "\r",
      " 42%|████▏     | 140/336 [00:30<00:42,  4.59it/s]"
     ]
    },
    {
     "name": "stdout",
     "output_type": "stream",
     "text": [
      "_corr_coeff: to eval: x: 01-12_1:pre_NeuroExamPupilsScore y: 20-04:BayleyIIIMotorComposite valid_x: 530 valid_y: 415\n",
      "_corr_coeff: done: x: 01-12_1:pre_NeuroExamPupilsScore y: 20-04:BayleyIIIMotorComposite\n",
      "_corr_coeff: to eval: x: 01-12_1:pre_NeuroExamHeartRateScore y: 20-10:moderateSevereDisabilityOrDeath valid_x: 530 valid_y: 504\n",
      "_corr_coeff: done: x: 01-12_1:pre_NeuroExamHeartRateScore y: 20-10:moderateSevereDisabilityOrDeath\n",
      "_corr_coeff: to eval: x: 01-12_1:pre_NeuroExamHeartRateScore y: 20-10:disabilityLevelDeath4Category valid_x: 530 valid_y: 498\n",
      "_corr_coeff: done: x: 01-12_1:pre_NeuroExamHeartRateScore y: 20-10:disabilityLevelDeath4Category\n",
      "_corr_coeff: to eval: x: 01-12_1:pre_NeuroExamHeartRateScore y: 20-10_1:disabilityLevelDeath valid_x: 530 valid_y: 498\n",
      "_corr_coeff: done: x: 01-12_1:pre_NeuroExamHeartRateScore y: 20-10_1:disabilityLevelDeath\n",
      "_corr_coeff: to eval: x: 01-12_1:pre_NeuroExamHeartRateScore y: 20-04:BayleyIIICognitiveComposite valid_x: 530 valid_y: 421\n",
      "_corr_coeff: done: x: 01-12_1:pre_NeuroExamHeartRateScore y: 20-04:BayleyIIICognitiveComposite\n"
     ]
    },
    {
     "name": "stderr",
     "output_type": "stream",
     "text": [
      "\r",
      " 42%|████▏     | 141/336 [00:30<00:44,  4.34it/s]"
     ]
    },
    {
     "name": "stdout",
     "output_type": "stream",
     "text": [
      "_corr_coeff: to eval: x: 01-12_1:pre_NeuroExamHeartRateScore y: 20-04:BayleyIIILanguageComposite valid_x: 530 valid_y: 411\n",
      "_corr_coeff: done: x: 01-12_1:pre_NeuroExamHeartRateScore y: 20-04:BayleyIIILanguageComposite\n",
      "_corr_coeff: to eval: x: 01-12_1:pre_NeuroExamHeartRateScore y: 20-04:BayleyIIIMotorComposite valid_x: 530 valid_y: 415\n",
      "_corr_coeff: done: x: 01-12_1:pre_NeuroExamHeartRateScore y: 20-04:BayleyIIIMotorComposite\n",
      "_corr_coeff: to eval: x: 01-12_1:pre_NeuroExamRespirationScore y: 20-10:moderateSevereDisabilityOrDeath valid_x: 530 valid_y: 504\n",
      "_corr_coeff: done: x: 01-12_1:pre_NeuroExamRespirationScore y: 20-10:moderateSevereDisabilityOrDeath\n",
      "_corr_coeff: to eval: x: 01-12_1:pre_NeuroExamRespirationScore y: 20-10:disabilityLevelDeath4Category valid_x: 530 valid_y: 498\n",
      "_corr_coeff: done: x: 01-12_1:pre_NeuroExamRespirationScore y: 20-10:disabilityLevelDeath4Category\n",
      "_corr_coeff: to eval: x: 01-12_1:pre_NeuroExamRespirationScore y: 20-10_1:disabilityLevelDeath valid_x: 530 valid_y: 498\n",
      "_corr_coeff: done: x: 01-12_1:pre_NeuroExamRespirationScore y: 20-10_1:disabilityLevelDeath\n",
      "_corr_coeff: to eval: x: 01-12_1:pre_NeuroExamRespirationScore y: 20-04:BayleyIIICognitiveComposite valid_x: 530 valid_y: 421\n",
      "_corr_coeff: done: x: 01-12_1:pre_NeuroExamRespirationScore y: 20-04:BayleyIIICognitiveComposite\n"
     ]
    },
    {
     "name": "stderr",
     "output_type": "stream",
     "text": [
      "\r",
      " 42%|████▏     | 142/336 [00:30<00:43,  4.48it/s]"
     ]
    },
    {
     "name": "stdout",
     "output_type": "stream",
     "text": [
      "_corr_coeff: to eval: x: 01-12_1:pre_NeuroExamRespirationScore y: 20-04:BayleyIIILanguageComposite valid_x: 530 valid_y: 411\n",
      "_corr_coeff: done: x: 01-12_1:pre_NeuroExamRespirationScore y: 20-04:BayleyIIILanguageComposite\n",
      "_corr_coeff: to eval: x: 01-12_1:pre_NeuroExamRespirationScore y: 20-04:BayleyIIIMotorComposite valid_x: 530 valid_y: 415\n",
      "_corr_coeff: done: x: 01-12_1:pre_NeuroExamRespirationScore y: 20-04:BayleyIIIMotorComposite\n",
      "_corr_coeff: to eval: x: 01-12_1:pre_NeuroExamReflexScore y: 20-10:moderateSevereDisabilityOrDeath valid_x: 530 valid_y: 504\n",
      "_corr_coeff: done: x: 01-12_1:pre_NeuroExamReflexScore y: 20-10:moderateSevereDisabilityOrDeath\n",
      "_corr_coeff: to eval: x: 01-12_1:pre_NeuroExamReflexScore y: 20-10:disabilityLevelDeath4Category valid_x: 530 valid_y: 498\n",
      "_corr_coeff: done: x: 01-12_1:pre_NeuroExamReflexScore y: 20-10:disabilityLevelDeath4Category\n",
      "_corr_coeff: to eval: x: 01-12_1:pre_NeuroExamReflexScore y: 20-10_1:disabilityLevelDeath valid_x: 530 valid_y: 498\n",
      "_corr_coeff: done: x: 01-12_1:pre_NeuroExamReflexScore y: 20-10_1:disabilityLevelDeath\n"
     ]
    },
    {
     "name": "stderr",
     "output_type": "stream",
     "text": [
      "\r",
      " 43%|████▎     | 143/336 [00:31<00:46,  4.13it/s]"
     ]
    },
    {
     "name": "stdout",
     "output_type": "stream",
     "text": [
      "_corr_coeff: to eval: x: 01-12_1:pre_NeuroExamReflexScore y: 20-04:BayleyIIICognitiveComposite valid_x: 530 valid_y: 421\n",
      "_corr_coeff: done: x: 01-12_1:pre_NeuroExamReflexScore y: 20-04:BayleyIIICognitiveComposite\n",
      "_corr_coeff: to eval: x: 01-12_1:pre_NeuroExamReflexScore y: 20-04:BayleyIIILanguageComposite valid_x: 530 valid_y: 411\n",
      "_corr_coeff: done: x: 01-12_1:pre_NeuroExamReflexScore y: 20-04:BayleyIIILanguageComposite\n",
      "_corr_coeff: to eval: x: 01-12_1:pre_NeuroExamReflexScore y: 20-04:BayleyIIIMotorComposite valid_x: 530 valid_y: 415\n",
      "_corr_coeff: done: x: 01-12_1:pre_NeuroExamReflexScore y: 20-04:BayleyIIIMotorComposite\n",
      "_corr_coeff: to eval: x: 01-12_1:pre_NeuroExamANSScore y: 20-10:moderateSevereDisabilityOrDeath valid_x: 530 valid_y: 504\n",
      "_corr_coeff: done: x: 01-12_1:pre_NeuroExamANSScore y: 20-10:moderateSevereDisabilityOrDeath\n",
      "_corr_coeff: to eval: x: 01-12_1:pre_NeuroExamANSScore y: 20-10:disabilityLevelDeath4Category valid_x: 530 valid_y: 498\n",
      "_corr_coeff: done: x: 01-12_1:pre_NeuroExamANSScore y: 20-10:disabilityLevelDeath4Category\n",
      "_corr_coeff: to eval: x: 01-12_1:pre_NeuroExamANSScore y: 20-10_1:disabilityLevelDeath valid_x: 530 valid_y: 498\n",
      "_corr_coeff: done: x: 01-12_1:pre_NeuroExamANSScore y: 20-10_1:disabilityLevelDeath\n"
     ]
    },
    {
     "name": "stderr",
     "output_type": "stream",
     "text": [
      "\r",
      " 43%|████▎     | 144/336 [00:31<00:44,  4.30it/s]"
     ]
    },
    {
     "name": "stdout",
     "output_type": "stream",
     "text": [
      "_corr_coeff: to eval: x: 01-12_1:pre_NeuroExamANSScore y: 20-04:BayleyIIICognitiveComposite valid_x: 530 valid_y: 421\n",
      "_corr_coeff: done: x: 01-12_1:pre_NeuroExamANSScore y: 20-04:BayleyIIICognitiveComposite\n",
      "_corr_coeff: to eval: x: 01-12_1:pre_NeuroExamANSScore y: 20-04:BayleyIIILanguageComposite valid_x: 530 valid_y: 411\n",
      "_corr_coeff: done: x: 01-12_1:pre_NeuroExamANSScore y: 20-04:BayleyIIILanguageComposite\n",
      "_corr_coeff: to eval: x: 01-12_1:pre_NeuroExamANSScore y: 20-04:BayleyIIIMotorComposite valid_x: 530 valid_y: 415\n",
      "_corr_coeff: done: x: 01-12_1:pre_NeuroExamANSScore y: 20-04:BayleyIIIMotorComposite\n",
      "_corr_coeff: to eval: x: 01-12_1:pre_TotalModifiedSarnatScore y: 20-10:moderateSevereDisabilityOrDeath valid_x: 530 valid_y: 504\n",
      "_corr_coeff: done: x: 01-12_1:pre_TotalModifiedSarnatScore y: 20-10:moderateSevereDisabilityOrDeath\n",
      "_corr_coeff: to eval: x: 01-12_1:pre_TotalModifiedSarnatScore y: 20-10:disabilityLevelDeath4Category valid_x: 530 valid_y: 498\n",
      "_corr_coeff: done: x: 01-12_1:pre_TotalModifiedSarnatScore y: 20-10:disabilityLevelDeath4Category\n"
     ]
    },
    {
     "name": "stderr",
     "output_type": "stream",
     "text": [
      "\r",
      " 43%|████▎     | 145/336 [00:31<00:45,  4.16it/s]"
     ]
    },
    {
     "name": "stdout",
     "output_type": "stream",
     "text": [
      "_corr_coeff: to eval: x: 01-12_1:pre_TotalModifiedSarnatScore y: 20-10_1:disabilityLevelDeath valid_x: 530 valid_y: 498\n",
      "_corr_coeff: done: x: 01-12_1:pre_TotalModifiedSarnatScore y: 20-10_1:disabilityLevelDeath\n",
      "_corr_coeff: to eval: x: 01-12_1:pre_TotalModifiedSarnatScore y: 20-04:BayleyIIICognitiveComposite valid_x: 530 valid_y: 421\n",
      "_corr_coeff: done: x: 01-12_1:pre_TotalModifiedSarnatScore y: 20-04:BayleyIIICognitiveComposite\n",
      "_corr_coeff: to eval: x: 01-12_1:pre_TotalModifiedSarnatScore y: 20-04:BayleyIIILanguageComposite valid_x: 530 valid_y: 411\n",
      "_corr_coeff: done: x: 01-12_1:pre_TotalModifiedSarnatScore y: 20-04:BayleyIIILanguageComposite\n",
      "_corr_coeff: to eval: x: 01-12_1:pre_TotalModifiedSarnatScore y: 20-04:BayleyIIIMotorComposite valid_x: 530 valid_y: 415\n",
      "_corr_coeff: done: x: 01-12_1:pre_TotalModifiedSarnatScore y: 20-04:BayleyIIIMotorComposite\n",
      "_corr_coeff: to eval: x: 03-01_s:normothermiaAtEndIntervention y: 20-10:moderateSevereDisabilityOrDeath valid_x: 363 valid_y: 504\n",
      "_corr_coeff: done: x: 03-01_s:normothermiaAtEndIntervention y: 20-10:moderateSevereDisabilityOrDeath\n",
      "_corr_coeff: to eval: x: 03-01_s:normothermiaAtEndIntervention y: 20-10:disabilityLevelDeath4Category valid_x: 363 valid_y: 498\n",
      "_corr_coeff: done: x: 03-01_s:normothermiaAtEndIntervention y: 20-10:disabilityLevelDeath4Category\n",
      "_corr_coeff: to eval: x: 03-01_s:normothermiaAtEndIntervention y: 20-10_1:disabilityLevelDeath valid_x: 363 valid_y: 498\n",
      "_corr_coeff: done: x: 03-01_s:normothermiaAtEndIntervention y: 20-10_1:disabilityLevelDeath\n"
     ]
    },
    {
     "name": "stderr",
     "output_type": "stream",
     "text": [
      "\r",
      " 43%|████▎     | 146/336 [00:31<00:45,  4.20it/s]"
     ]
    },
    {
     "name": "stdout",
     "output_type": "stream",
     "text": [
      "_corr_coeff: to eval: x: 03-01_s:normothermiaAtEndIntervention y: 20-04:BayleyIIICognitiveComposite valid_x: 363 valid_y: 421\n",
      "_corr_coeff: done: x: 03-01_s:normothermiaAtEndIntervention y: 20-04:BayleyIIICognitiveComposite\n",
      "_corr_coeff: to eval: x: 03-01_s:normothermiaAtEndIntervention y: 20-04:BayleyIIILanguageComposite valid_x: 363 valid_y: 411\n",
      "_corr_coeff: done: x: 03-01_s:normothermiaAtEndIntervention y: 20-04:BayleyIIILanguageComposite\n",
      "_corr_coeff: to eval: x: 03-01_s:normothermiaAtEndIntervention y: 20-04:BayleyIIIMotorComposite valid_x: 363 valid_y: 415\n",
      "_corr_coeff: done: x: 03-01_s:normothermiaAtEndIntervention y: 20-04:BayleyIIIMotorComposite\n",
      "_corr_coeff: to eval: x: 03-01_s:normothermiaAxillaryTemperature_C y: 20-10:moderateSevereDisabilityOrDeath valid_x: 268 valid_y: 504\n",
      "_corr_coeff: done: x: 03-01_s:normothermiaAxillaryTemperature_C y: 20-10:moderateSevereDisabilityOrDeath\n",
      "_corr_coeff: to eval: x: 03-01_s:normothermiaAxillaryTemperature_C y: 20-10:disabilityLevelDeath4Category valid_x: 268 valid_y: 498\n",
      "_corr_coeff: done: x: 03-01_s:normothermiaAxillaryTemperature_C y: 20-10:disabilityLevelDeath4Category\n"
     ]
    },
    {
     "name": "stderr",
     "output_type": "stream",
     "text": [
      "\r",
      " 44%|████▍     | 147/336 [00:31<00:41,  4.50it/s]"
     ]
    },
    {
     "name": "stdout",
     "output_type": "stream",
     "text": [
      "_corr_coeff: to eval: x: 03-01_s:normothermiaAxillaryTemperature_C y: 20-10_1:disabilityLevelDeath valid_x: 268 valid_y: 498\n",
      "_corr_coeff: done: x: 03-01_s:normothermiaAxillaryTemperature_C y: 20-10_1:disabilityLevelDeath\n",
      "_corr_coeff: to eval: x: 03-01_s:normothermiaAxillaryTemperature_C y: 20-04:BayleyIIICognitiveComposite valid_x: 268 valid_y: 421\n",
      "_corr_coeff: done: x: 03-01_s:normothermiaAxillaryTemperature_C y: 20-04:BayleyIIICognitiveComposite\n",
      "_corr_coeff: to eval: x: 03-01_s:normothermiaAxillaryTemperature_C y: 20-04:BayleyIIILanguageComposite valid_x: 268 valid_y: 411\n",
      "_corr_coeff: done: x: 03-01_s:normothermiaAxillaryTemperature_C y: 20-04:BayleyIIILanguageComposite\n",
      "_corr_coeff: to eval: x: 03-01_s:normothermiaAxillaryTemperature_C y: 20-04:BayleyIIIMotorComposite valid_x: 268 valid_y: 415\n",
      "_corr_coeff: done: x: 03-01_s:normothermiaAxillaryTemperature_C y: 20-04:BayleyIIIMotorComposite\n",
      "_corr_coeff: to eval: x: 03-02:post_BloodValueASTSGOT_UPerL y: 20-10:moderateSevereDisabilityOrDeath valid_x: 272 valid_y: 504\n",
      "_corr_coeff: done: x: 03-02:post_BloodValueASTSGOT_UPerL y: 20-10:moderateSevereDisabilityOrDeath\n",
      "_corr_coeff: to eval: x: 03-02:post_BloodValueASTSGOT_UPerL y: 20-10:disabilityLevelDeath4Category valid_x: 272 valid_y: 498\n",
      "_corr_coeff: done: x: 03-02:post_BloodValueASTSGOT_UPerL y: 20-10:disabilityLevelDeath4Category\n",
      "_corr_coeff: to eval: x: 03-02:post_BloodValueASTSGOT_UPerL y: 20-10_1:disabilityLevelDeath valid_x: 272 valid_y: 498\n",
      "_corr_coeff: done: x: 03-02:post_BloodValueASTSGOT_UPerL y: 20-10_1:disabilityLevelDeath\n",
      "_corr_coeff: to eval: x: 03-02:post_BloodValueASTSGOT_UPerL y: 20-04:BayleyIIICognitiveComposite valid_x: 272 valid_y: 421\n",
      "_corr_coeff: done: x: 03-02:post_BloodValueASTSGOT_UPerL y: 20-04:BayleyIIICognitiveComposite\n"
     ]
    },
    {
     "name": "stderr",
     "output_type": "stream",
     "text": [
      "\r",
      " 44%|████▍     | 148/336 [00:32<00:42,  4.47it/s]"
     ]
    },
    {
     "name": "stdout",
     "output_type": "stream",
     "text": [
      "_corr_coeff: to eval: x: 03-02:post_BloodValueASTSGOT_UPerL y: 20-04:BayleyIIILanguageComposite valid_x: 272 valid_y: 411\n",
      "_corr_coeff: done: x: 03-02:post_BloodValueASTSGOT_UPerL y: 20-04:BayleyIIILanguageComposite\n",
      "_corr_coeff: to eval: x: 03-02:post_BloodValueASTSGOT_UPerL y: 20-04:BayleyIIIMotorComposite valid_x: 272 valid_y: 415\n",
      "_corr_coeff: done: x: 03-02:post_BloodValueASTSGOT_UPerL y: 20-04:BayleyIIIMotorComposite\n",
      "_corr_coeff: to eval: x: 03-02:post_BloodValueALTSGPT_UPerL y: 20-10:moderateSevereDisabilityOrDeath valid_x: 278 valid_y: 504\n",
      "_corr_coeff: done: x: 03-02:post_BloodValueALTSGPT_UPerL y: 20-10:moderateSevereDisabilityOrDeath\n",
      "_corr_coeff: to eval: x: 03-02:post_BloodValueALTSGPT_UPerL y: 20-10:disabilityLevelDeath4Category valid_x: 278 valid_y: 498\n",
      "_corr_coeff: done: x: 03-02:post_BloodValueALTSGPT_UPerL y: 20-10:disabilityLevelDeath4Category\n",
      "_corr_coeff: to eval: x: 03-02:post_BloodValueALTSGPT_UPerL y: 20-10_1:disabilityLevelDeath valid_x: 278 valid_y: 498\n",
      "_corr_coeff: done: x: 03-02:post_BloodValueALTSGPT_UPerL y: 20-10_1:disabilityLevelDeath\n",
      "_corr_coeff: to eval: x: 03-02:post_BloodValueALTSGPT_UPerL y: 20-04:BayleyIIICognitiveComposite valid_x: 278 valid_y: 421\n",
      "_corr_coeff: done: x: 03-02:post_BloodValueALTSGPT_UPerL y: 20-04:BayleyIIICognitiveComposite\n",
      "_corr_coeff: to eval: x: 03-02:post_BloodValueALTSGPT_UPerL y: 20-04:BayleyIIILanguageComposite valid_x: 278 valid_y: 411\n",
      "_corr_coeff: done: x: 03-02:post_BloodValueALTSGPT_UPerL y: 20-04:BayleyIIILanguageComposite\n",
      "_corr_coeff: to eval: x: 03-02:post_BloodValueALTSGPT_UPerL y: 20-04:BayleyIIIMotorComposite valid_x: 278 valid_y: 415\n",
      "_corr_coeff: done: x: 03-02:post_BloodValueALTSGPT_UPerL y: 20-04:BayleyIIIMotorComposite\n"
     ]
    },
    {
     "name": "stderr",
     "output_type": "stream",
     "text": [
      "\r",
      " 44%|████▍     | 149/336 [00:32<00:39,  4.79it/s]"
     ]
    },
    {
     "name": "stderr",
     "output_type": "stream",
     "text": [
      "\r",
      " 45%|████▍     | 150/336 [00:32<00:39,  4.66it/s]"
     ]
    },
    {
     "name": "stdout",
     "output_type": "stream",
     "text": [
      "_corr_coeff: to eval: x: 03-02:post_BloodValueTotalBilirubin_mgPerdL y: 20-10:moderateSevereDisabilityOrDeath valid_x: 281 valid_y: 504\n",
      "_corr_coeff: done: x: 03-02:post_BloodValueTotalBilirubin_mgPerdL y: 20-10:moderateSevereDisabilityOrDeath\n",
      "_corr_coeff: to eval: x: 03-02:post_BloodValueTotalBilirubin_mgPerdL y: 20-10:disabilityLevelDeath4Category valid_x: 281 valid_y: 498\n",
      "_corr_coeff: done: x: 03-02:post_BloodValueTotalBilirubin_mgPerdL y: 20-10:disabilityLevelDeath4Category\n",
      "_corr_coeff: to eval: x: 03-02:post_BloodValueTotalBilirubin_mgPerdL y: 20-10_1:disabilityLevelDeath valid_x: 281 valid_y: 498\n",
      "_corr_coeff: done: x: 03-02:post_BloodValueTotalBilirubin_mgPerdL y: 20-10_1:disabilityLevelDeath\n",
      "_corr_coeff: to eval: x: 03-02:post_BloodValueTotalBilirubin_mgPerdL y: 20-04:BayleyIIICognitiveComposite valid_x: 281 valid_y: 421\n",
      "_corr_coeff: done: x: 03-02:post_BloodValueTotalBilirubin_mgPerdL y: 20-04:BayleyIIICognitiveComposite\n",
      "_corr_coeff: to eval: x: 03-02:post_BloodValueTotalBilirubin_mgPerdL y: 20-04:BayleyIIILanguageComposite valid_x: 281 valid_y: 411\n",
      "_corr_coeff: done: x: 03-02:post_BloodValueTotalBilirubin_mgPerdL y: 20-04:BayleyIIILanguageComposite\n",
      "_corr_coeff: to eval: x: 03-02:post_BloodValueTotalBilirubin_mgPerdL y: 20-04:BayleyIIIMotorComposite valid_x: 281 valid_y: 415\n",
      "_corr_coeff: done: x: 03-02:post_BloodValueTotalBilirubin_mgPerdL y: 20-04:BayleyIIIMotorComposite\n"
     ]
    },
    {
     "name": "stderr",
     "output_type": "stream",
     "text": [
      "\r",
      " 45%|████▍     | 151/336 [00:32<00:38,  4.75it/s]"
     ]
    },
    {
     "name": "stdout",
     "output_type": "stream",
     "text": [
      "_corr_coeff: to eval: x: 03-04:post_NeuroExamLevelConsciousness y: 20-10:moderateSevereDisabilityOrDeath valid_x: 460 valid_y: 504\n",
      "_corr_coeff: done: x: 03-04:post_NeuroExamLevelConsciousness y: 20-10:moderateSevereDisabilityOrDeath\n",
      "_corr_coeff: to eval: x: 03-04:post_NeuroExamLevelConsciousness y: 20-10:disabilityLevelDeath4Category valid_x: 460 valid_y: 498\n",
      "_corr_coeff: done: x: 03-04:post_NeuroExamLevelConsciousness y: 20-10:disabilityLevelDeath4Category\n",
      "_corr_coeff: to eval: x: 03-04:post_NeuroExamLevelConsciousness y: 20-10_1:disabilityLevelDeath valid_x: 460 valid_y: 498\n",
      "_corr_coeff: done: x: 03-04:post_NeuroExamLevelConsciousness y: 20-10_1:disabilityLevelDeath\n",
      "_corr_coeff: to eval: x: 03-04:post_NeuroExamLevelConsciousness y: 20-04:BayleyIIICognitiveComposite valid_x: 460 valid_y: 421\n",
      "_corr_coeff: done: x: 03-04:post_NeuroExamLevelConsciousness y: 20-04:BayleyIIICognitiveComposite\n",
      "_corr_coeff: to eval: x: 03-04:post_NeuroExamLevelConsciousness y: 20-04:BayleyIIILanguageComposite valid_x: 460 valid_y: 411\n",
      "_corr_coeff: done: x: 03-04:post_NeuroExamLevelConsciousness y: 20-04:BayleyIIILanguageComposite\n",
      "_corr_coeff: to eval: x: 03-04:post_NeuroExamLevelConsciousness y: 20-04:BayleyIIIMotorComposite valid_x: 460 valid_y: 415\n",
      "_corr_coeff: done: x: 03-04:post_NeuroExamLevelConsciousness y: 20-04:BayleyIIIMotorComposite\n",
      "_corr_coeff: to eval: x: 03-04:post_NeuroExamSpontaneousActivity y: 20-10:moderateSevereDisabilityOrDeath valid_x: 460 valid_y: 504\n",
      "_corr_coeff: done: x: 03-04:post_NeuroExamSpontaneousActivity y: 20-10:moderateSevereDisabilityOrDeath\n"
     ]
    },
    {
     "name": "stderr",
     "output_type": "stream",
     "text": [
      "\r",
      " 45%|████▌     | 152/336 [00:33<00:40,  4.49it/s]"
     ]
    },
    {
     "name": "stdout",
     "output_type": "stream",
     "text": [
      "_corr_coeff: to eval: x: 03-04:post_NeuroExamSpontaneousActivity y: 20-10:disabilityLevelDeath4Category valid_x: 460 valid_y: 498\n",
      "_corr_coeff: done: x: 03-04:post_NeuroExamSpontaneousActivity y: 20-10:disabilityLevelDeath4Category\n",
      "_corr_coeff: to eval: x: 03-04:post_NeuroExamSpontaneousActivity y: 20-10_1:disabilityLevelDeath valid_x: 460 valid_y: 498\n",
      "_corr_coeff: done: x: 03-04:post_NeuroExamSpontaneousActivity y: 20-10_1:disabilityLevelDeath\n",
      "_corr_coeff: to eval: x: 03-04:post_NeuroExamSpontaneousActivity y: 20-04:BayleyIIICognitiveComposite valid_x: 460 valid_y: 421\n",
      "_corr_coeff: done: x: 03-04:post_NeuroExamSpontaneousActivity y: 20-04:BayleyIIICognitiveComposite\n",
      "_corr_coeff: to eval: x: 03-04:post_NeuroExamSpontaneousActivity y: 20-04:BayleyIIILanguageComposite valid_x: 460 valid_y: 411\n",
      "_corr_coeff: done: x: 03-04:post_NeuroExamSpontaneousActivity y: 20-04:BayleyIIILanguageComposite\n",
      "_corr_coeff: to eval: x: 03-04:post_NeuroExamSpontaneousActivity y: 20-04:BayleyIIIMotorComposite valid_x: 460 valid_y: 415\n",
      "_corr_coeff: done: x: 03-04:post_NeuroExamSpontaneousActivity y: 20-04:BayleyIIIMotorComposite\n"
     ]
    },
    {
     "name": "stderr",
     "output_type": "stream",
     "text": [
      "\r",
      " 46%|████▌     | 153/336 [00:33<00:39,  4.63it/s]"
     ]
    },
    {
     "name": "stdout",
     "output_type": "stream",
     "text": [
      "_corr_coeff: to eval: x: 03-04:post_NeuroExamPosture y: 20-10:moderateSevereDisabilityOrDeath valid_x: 459 valid_y: 504\n",
      "_corr_coeff: done: x: 03-04:post_NeuroExamPosture y: 20-10:moderateSevereDisabilityOrDeath\n",
      "_corr_coeff: to eval: x: 03-04:post_NeuroExamPosture y: 20-10:disabilityLevelDeath4Category valid_x: 459 valid_y: 498\n",
      "_corr_coeff: done: x: 03-04:post_NeuroExamPosture y: 20-10:disabilityLevelDeath4Category\n",
      "_corr_coeff: to eval: x: 03-04:post_NeuroExamPosture y: 20-10_1:disabilityLevelDeath valid_x: 459 valid_y: 498\n",
      "_corr_coeff: done: x: 03-04:post_NeuroExamPosture y: 20-10_1:disabilityLevelDeath\n",
      "_corr_coeff: to eval: x: 03-04:post_NeuroExamPosture y: 20-04:BayleyIIICognitiveComposite valid_x: 459 valid_y: 421\n",
      "_corr_coeff: done: x: 03-04:post_NeuroExamPosture y: 20-04:BayleyIIICognitiveComposite\n",
      "_corr_coeff: to eval: x: 03-04:post_NeuroExamPosture y: 20-04:BayleyIIILanguageComposite valid_x: 459 valid_y: 411\n",
      "_corr_coeff: done: x: 03-04:post_NeuroExamPosture y: 20-04:BayleyIIILanguageComposite\n",
      "_corr_coeff: to eval: x: 03-04:post_NeuroExamPosture y: 20-04:BayleyIIIMotorComposite valid_x: 459 valid_y: 415\n",
      "_corr_coeff: done: x: 03-04:post_NeuroExamPosture y: 20-04:BayleyIIIMotorComposite\n",
      "_corr_coeff: to eval: x: 03-04:post_NeuroExamTone y: 20-10:moderateSevereDisabilityOrDeath valid_x: 431 valid_y: 504\n",
      "_corr_coeff: done: x: 03-04:post_NeuroExamTone y: 20-10:moderateSevereDisabilityOrDeath\n"
     ]
    },
    {
     "name": "stderr",
     "output_type": "stream",
     "text": [
      "\r",
      " 46%|████▌     | 154/336 [00:33<00:40,  4.44it/s]"
     ]
    },
    {
     "name": "stdout",
     "output_type": "stream",
     "text": [
      "_corr_coeff: to eval: x: 03-04:post_NeuroExamTone y: 20-10:disabilityLevelDeath4Category valid_x: 431 valid_y: 498\n",
      "_corr_coeff: done: x: 03-04:post_NeuroExamTone y: 20-10:disabilityLevelDeath4Category\n",
      "_corr_coeff: to eval: x: 03-04:post_NeuroExamTone y: 20-10_1:disabilityLevelDeath valid_x: 431 valid_y: 498\n",
      "_corr_coeff: done: x: 03-04:post_NeuroExamTone y: 20-10_1:disabilityLevelDeath\n",
      "_corr_coeff: to eval: x: 03-04:post_NeuroExamTone y: 20-04:BayleyIIICognitiveComposite valid_x: 431 valid_y: 421\n",
      "_corr_coeff: done: x: 03-04:post_NeuroExamTone y: 20-04:BayleyIIICognitiveComposite\n",
      "_corr_coeff: to eval: x: 03-04:post_NeuroExamTone y: 20-04:BayleyIIILanguageComposite valid_x: 431 valid_y: 411\n",
      "_corr_coeff: done: x: 03-04:post_NeuroExamTone y: 20-04:BayleyIIILanguageComposite\n",
      "_corr_coeff: to eval: x: 03-04:post_NeuroExamTone y: 20-04:BayleyIIIMotorComposite valid_x: 431 valid_y: 415\n",
      "_corr_coeff: done: x: 03-04:post_NeuroExamTone y: 20-04:BayleyIIIMotorComposite\n",
      "_corr_coeff: to eval: x: 03-04:post_NeuroExamSuck y: 20-10:moderateSevereDisabilityOrDeath valid_x: 455 valid_y: 504\n",
      "_corr_coeff: done: x: 03-04:post_NeuroExamSuck y: 20-10:moderateSevereDisabilityOrDeath\n",
      "_corr_coeff: to eval: x: 03-04:post_NeuroExamSuck y: 20-10:disabilityLevelDeath4Category valid_x: 455 valid_y: 498\n",
      "_corr_coeff: done: x: 03-04:post_NeuroExamSuck y: 20-10:disabilityLevelDeath4Category\n"
     ]
    },
    {
     "name": "stderr",
     "output_type": "stream",
     "text": [
      "\r",
      " 46%|████▌     | 155/336 [00:33<00:39,  4.61it/s]"
     ]
    },
    {
     "name": "stdout",
     "output_type": "stream",
     "text": [
      "_corr_coeff: to eval: x: 03-04:post_NeuroExamSuck y: 20-10_1:disabilityLevelDeath valid_x: 455 valid_y: 498\n",
      "_corr_coeff: done: x: 03-04:post_NeuroExamSuck y: 20-10_1:disabilityLevelDeath\n",
      "_corr_coeff: to eval: x: 03-04:post_NeuroExamSuck y: 20-04:BayleyIIICognitiveComposite valid_x: 455 valid_y: 421\n",
      "_corr_coeff: done: x: 03-04:post_NeuroExamSuck y: 20-04:BayleyIIICognitiveComposite\n",
      "_corr_coeff: to eval: x: 03-04:post_NeuroExamSuck y: 20-04:BayleyIIILanguageComposite valid_x: 455 valid_y: 411\n",
      "_corr_coeff: done: x: 03-04:post_NeuroExamSuck y: 20-04:BayleyIIILanguageComposite\n",
      "_corr_coeff: to eval: x: 03-04:post_NeuroExamSuck y: 20-04:BayleyIIIMotorComposite valid_x: 455 valid_y: 415\n",
      "_corr_coeff: done: x: 03-04:post_NeuroExamSuck y: 20-04:BayleyIIIMotorComposite\n",
      "_corr_coeff: to eval: x: 03-04:post_NeuroExamMoro y: 20-10:moderateSevereDisabilityOrDeath valid_x: 436 valid_y: 504\n",
      "_corr_coeff: done: x: 03-04:post_NeuroExamMoro y: 20-10:moderateSevereDisabilityOrDeath\n"
     ]
    },
    {
     "name": "stderr",
     "output_type": "stream",
     "text": [
      "\r",
      " 46%|████▋     | 156/336 [00:33<00:40,  4.39it/s]"
     ]
    },
    {
     "name": "stdout",
     "output_type": "stream",
     "text": [
      "_corr_coeff: to eval: x: 03-04:post_NeuroExamMoro y: 20-10:disabilityLevelDeath4Category valid_x: 436 valid_y: 498\n",
      "_corr_coeff: done: x: 03-04:post_NeuroExamMoro y: 20-10:disabilityLevelDeath4Category\n",
      "_corr_coeff: to eval: x: 03-04:post_NeuroExamMoro y: 20-10_1:disabilityLevelDeath valid_x: 436 valid_y: 498\n",
      "_corr_coeff: done: x: 03-04:post_NeuroExamMoro y: 20-10_1:disabilityLevelDeath\n",
      "_corr_coeff: to eval: x: 03-04:post_NeuroExamMoro y: 20-04:BayleyIIICognitiveComposite valid_x: 436 valid_y: 421\n",
      "_corr_coeff: done: x: 03-04:post_NeuroExamMoro y: 20-04:BayleyIIICognitiveComposite\n",
      "_corr_coeff: to eval: x: 03-04:post_NeuroExamMoro y: 20-04:BayleyIIILanguageComposite valid_x: 436 valid_y: 411\n",
      "_corr_coeff: done: x: 03-04:post_NeuroExamMoro y: 20-04:BayleyIIILanguageComposite\n",
      "_corr_coeff: to eval: x: 03-04:post_NeuroExamMoro y: 20-04:BayleyIIIMotorComposite valid_x: 436 valid_y: 415\n",
      "_corr_coeff: done: x: 03-04:post_NeuroExamMoro y: 20-04:BayleyIIIMotorComposite\n",
      "_corr_coeff: to eval: x: 03-04:post_NeuroExamPupils y: 20-10:moderateSevereDisabilityOrDeath valid_x: 441 valid_y: 504\n",
      "_corr_coeff: done: x: 03-04:post_NeuroExamPupils y: 20-10:moderateSevereDisabilityOrDeath\n",
      "_corr_coeff: to eval: x: 03-04:post_NeuroExamPupils y: 20-10:disabilityLevelDeath4Category valid_x: 441 valid_y: 498\n",
      "_corr_coeff: done: x: 03-04:post_NeuroExamPupils y: 20-10:disabilityLevelDeath4Category\n"
     ]
    },
    {
     "name": "stderr",
     "output_type": "stream",
     "text": [
      "\r",
      " 47%|████▋     | 157/336 [00:34<00:39,  4.56it/s]"
     ]
    },
    {
     "name": "stdout",
     "output_type": "stream",
     "text": [
      "_corr_coeff: to eval: x: 03-04:post_NeuroExamPupils y: 20-10_1:disabilityLevelDeath valid_x: 441 valid_y: 498\n",
      "_corr_coeff: done: x: 03-04:post_NeuroExamPupils y: 20-10_1:disabilityLevelDeath\n",
      "_corr_coeff: to eval: x: 03-04:post_NeuroExamPupils y: 20-04:BayleyIIICognitiveComposite valid_x: 441 valid_y: 421\n",
      "_corr_coeff: done: x: 03-04:post_NeuroExamPupils y: 20-04:BayleyIIICognitiveComposite\n",
      "_corr_coeff: to eval: x: 03-04:post_NeuroExamPupils y: 20-04:BayleyIIILanguageComposite valid_x: 441 valid_y: 411\n",
      "_corr_coeff: done: x: 03-04:post_NeuroExamPupils y: 20-04:BayleyIIILanguageComposite\n",
      "_corr_coeff: to eval: x: 03-04:post_NeuroExamPupils y: 20-04:BayleyIIIMotorComposite valid_x: 441 valid_y: 415\n",
      "_corr_coeff: done: x: 03-04:post_NeuroExamPupils y: 20-04:BayleyIIIMotorComposite\n",
      "_corr_coeff: to eval: x: 03-04:post_NeuroExamHeartRate y: 20-10:moderateSevereDisabilityOrDeath valid_x: 458 valid_y: 504\n",
      "_corr_coeff: done: x: 03-04:post_NeuroExamHeartRate y: 20-10:moderateSevereDisabilityOrDeath\n"
     ]
    },
    {
     "name": "stderr",
     "output_type": "stream",
     "text": [
      "\r",
      " 47%|████▋     | 158/336 [00:34<00:40,  4.40it/s]"
     ]
    },
    {
     "name": "stdout",
     "output_type": "stream",
     "text": [
      "_corr_coeff: to eval: x: 03-04:post_NeuroExamHeartRate y: 20-10:disabilityLevelDeath4Category valid_x: 458 valid_y: 498\n",
      "_corr_coeff: done: x: 03-04:post_NeuroExamHeartRate y: 20-10:disabilityLevelDeath4Category\n",
      "_corr_coeff: to eval: x: 03-04:post_NeuroExamHeartRate y: 20-10_1:disabilityLevelDeath valid_x: 458 valid_y: 498\n",
      "_corr_coeff: done: x: 03-04:post_NeuroExamHeartRate y: 20-10_1:disabilityLevelDeath\n",
      "_corr_coeff: to eval: x: 03-04:post_NeuroExamHeartRate y: 20-04:BayleyIIICognitiveComposite valid_x: 458 valid_y: 421\n",
      "_corr_coeff: done: x: 03-04:post_NeuroExamHeartRate y: 20-04:BayleyIIICognitiveComposite\n",
      "_corr_coeff: to eval: x: 03-04:post_NeuroExamHeartRate y: 20-04:BayleyIIILanguageComposite valid_x: 458 valid_y: 411\n",
      "_corr_coeff: done: x: 03-04:post_NeuroExamHeartRate y: 20-04:BayleyIIILanguageComposite\n",
      "_corr_coeff: to eval: x: 03-04:post_NeuroExamHeartRate y: 20-04:BayleyIIIMotorComposite valid_x: 458 valid_y: 415\n",
      "_corr_coeff: done: x: 03-04:post_NeuroExamHeartRate y: 20-04:BayleyIIIMotorComposite\n",
      "_corr_coeff: to eval: x: 03-04:post_NeuroExamRespiration y: 20-10:moderateSevereDisabilityOrDeath valid_x: 459 valid_y: 504\n",
      "_corr_coeff: done: x: 03-04:post_NeuroExamRespiration y: 20-10:moderateSevereDisabilityOrDeath\n",
      "_corr_coeff: to eval: x: 03-04:post_NeuroExamRespiration y: 20-10:disabilityLevelDeath4Category valid_x: 459 valid_y: 498\n",
      "_corr_coeff: done: x: 03-04:post_NeuroExamRespiration y: 20-10:disabilityLevelDeath4Category\n"
     ]
    },
    {
     "name": "stderr",
     "output_type": "stream",
     "text": [
      "\r",
      " 47%|████▋     | 159/336 [00:34<00:38,  4.58it/s]"
     ]
    },
    {
     "name": "stdout",
     "output_type": "stream",
     "text": [
      "_corr_coeff: to eval: x: 03-04:post_NeuroExamRespiration y: 20-10_1:disabilityLevelDeath valid_x: 459 valid_y: 498\n",
      "_corr_coeff: done: x: 03-04:post_NeuroExamRespiration y: 20-10_1:disabilityLevelDeath\n",
      "_corr_coeff: to eval: x: 03-04:post_NeuroExamRespiration y: 20-04:BayleyIIICognitiveComposite valid_x: 459 valid_y: 421\n",
      "_corr_coeff: done: x: 03-04:post_NeuroExamRespiration y: 20-04:BayleyIIICognitiveComposite\n",
      "_corr_coeff: to eval: x: 03-04:post_NeuroExamRespiration y: 20-04:BayleyIIILanguageComposite valid_x: 459 valid_y: 411\n",
      "_corr_coeff: done: x: 03-04:post_NeuroExamRespiration y: 20-04:BayleyIIILanguageComposite\n",
      "_corr_coeff: to eval: x: 03-04:post_NeuroExamRespiration y: 20-04:BayleyIIIMotorComposite valid_x: 459 valid_y: 415\n",
      "_corr_coeff: done: x: 03-04:post_NeuroExamRespiration y: 20-04:BayleyIIIMotorComposite\n",
      "_corr_coeff: to eval: x: 03-04:post_NeuroExamSeizure y: 20-10:moderateSevereDisabilityOrDeath valid_x: 459 valid_y: 504\n",
      "_corr_coeff: done: x: 03-04:post_NeuroExamSeizure y: 20-10:moderateSevereDisabilityOrDeath\n",
      "_corr_coeff: to eval: x: 03-04:post_NeuroExamSeizure y: 20-10:disabilityLevelDeath4Category valid_x: 459 valid_y: 498\n",
      "_corr_coeff: done: x: 03-04:post_NeuroExamSeizure y: 20-10:disabilityLevelDeath4Category\n",
      "_corr_coeff: to eval: x: 03-04:post_NeuroExamSeizure y: 20-10_1:disabilityLevelDeath valid_x: 459 valid_y: 498\n",
      "_corr_coeff: done: x: 03-04:post_NeuroExamSeizure y: 20-10_1:disabilityLevelDeath\n"
     ]
    },
    {
     "name": "stderr",
     "output_type": "stream",
     "text": [
      "\r",
      " 48%|████▊     | 160/336 [00:34<00:37,  4.75it/s]"
     ]
    },
    {
     "name": "stdout",
     "output_type": "stream",
     "text": [
      "_corr_coeff: to eval: x: 03-04:post_NeuroExamSeizure y: 20-04:BayleyIIICognitiveComposite valid_x: 459 valid_y: 421\n",
      "_corr_coeff: done: x: 03-04:post_NeuroExamSeizure y: 20-04:BayleyIIICognitiveComposite\n",
      "_corr_coeff: to eval: x: 03-04:post_NeuroExamSeizure y: 20-04:BayleyIIILanguageComposite valid_x: 459 valid_y: 411\n",
      "_corr_coeff: done: x: 03-04:post_NeuroExamSeizure y: 20-04:BayleyIIILanguageComposite\n",
      "_corr_coeff: to eval: x: 03-04:post_NeuroExamSeizure y: 20-04:BayleyIIIMotorComposite valid_x: 459 valid_y: 415\n",
      "_corr_coeff: done: x: 03-04:post_NeuroExamSeizure y: 20-04:BayleyIIIMotorComposite\n",
      "_corr_coeff: to eval: x: 03-04:post_NeuroExamSedate y: 20-10:moderateSevereDisabilityOrDeath valid_x: 459 valid_y: 504\n",
      "_corr_coeff: done: x: 03-04:post_NeuroExamSedate y: 20-10:moderateSevereDisabilityOrDeath\n",
      "_corr_coeff: to eval: x: 03-04:post_NeuroExamSedate y: 20-10:disabilityLevelDeath4Category valid_x: 459 valid_y: 498\n",
      "_corr_coeff: done: x: 03-04:post_NeuroExamSedate y: 20-10:disabilityLevelDeath4Category\n",
      "_corr_coeff: to eval: x: 03-04:post_NeuroExamSedate y: 20-10_1:disabilityLevelDeath valid_x: 459 valid_y: 498\n",
      "_corr_coeff: done: x: 03-04:post_NeuroExamSedate y: 20-10_1:disabilityLevelDeath\n",
      "_corr_coeff: to eval: x: 03-04:post_NeuroExamSedate y: 20-04:BayleyIIICognitiveComposite valid_x: 459 valid_y: 421\n",
      "_corr_coeff: done: x: 03-04:post_NeuroExamSedate y: 20-04:BayleyIIICognitiveComposite\n"
     ]
    },
    {
     "name": "stderr",
     "output_type": "stream",
     "text": [
      "\r",
      " 48%|████▊     | 161/336 [00:35<00:36,  4.86it/s]"
     ]
    },
    {
     "name": "stdout",
     "output_type": "stream",
     "text": [
      "_corr_coeff: to eval: x: 03-04:post_NeuroExamSedate y: 20-04:BayleyIIILanguageComposite valid_x: 459 valid_y: 411\n",
      "_corr_coeff: done: x: 03-04:post_NeuroExamSedate y: 20-04:BayleyIIILanguageComposite\n",
      "_corr_coeff: to eval: x: 03-04:post_NeuroExamSedate y: 20-04:BayleyIIIMotorComposite valid_x: 459 valid_y: 415\n",
      "_corr_coeff: done: x: 03-04:post_NeuroExamSedate y: 20-04:BayleyIIIMotorComposite\n",
      "_corr_coeff: to eval: x: 03-04:post_NeuroExamClonusSustained y: 20-10:moderateSevereDisabilityOrDeath valid_x: 456 valid_y: 504\n",
      "_corr_coeff: done: x: 03-04:post_NeuroExamClonusSustained y: 20-10:moderateSevereDisabilityOrDeath\n",
      "_corr_coeff: to eval: x: 03-04:post_NeuroExamClonusSustained y: 20-10:disabilityLevelDeath4Category valid_x: 456 valid_y: 498\n",
      "_corr_coeff: done: x: 03-04:post_NeuroExamClonusSustained y: 20-10:disabilityLevelDeath4Category\n",
      "_corr_coeff: to eval: x: 03-04:post_NeuroExamClonusSustained y: 20-10_1:disabilityLevelDeath valid_x: 456 valid_y: 498\n",
      "_corr_coeff: done: x: 03-04:post_NeuroExamClonusSustained y: 20-10_1:disabilityLevelDeath\n",
      "_corr_coeff: to eval: x: 03-04:post_NeuroExamClonusSustained y: 20-04:BayleyIIICognitiveComposite valid_x: 456 valid_y: 421\n",
      "_corr_coeff: done: x: 03-04:post_NeuroExamClonusSustained y: 20-04:BayleyIIICognitiveComposite\n",
      "_corr_coeff: to eval: x: 03-04:post_NeuroExamClonusSustained y: 20-04:BayleyIIILanguageComposite valid_x: 456 valid_y: 411\n",
      "_corr_coeff: done: x: 03-04:post_NeuroExamClonusSustained y: 20-04:BayleyIIILanguageComposite\n"
     ]
    },
    {
     "name": "stderr",
     "output_type": "stream",
     "text": [
      "\r",
      " 48%|████▊     | 162/336 [00:35<00:35,  4.93it/s]"
     ]
    },
    {
     "name": "stderr",
     "output_type": "stream",
     "text": [
      "\r",
      " 49%|████▊     | 163/336 [00:35<00:34,  5.02it/s]"
     ]
    },
    {
     "name": "stdout",
     "output_type": "stream",
     "text": [
      "_corr_coeff: to eval: x: 03-04:post_NeuroExamClonusSustained y: 20-04:BayleyIIIMotorComposite valid_x: 456 valid_y: 415\n",
      "_corr_coeff: done: x: 03-04:post_NeuroExamClonusSustained y: 20-04:BayleyIIIMotorComposite\n",
      "_corr_coeff: to eval: x: 03-04:post_NeuroExamFistedHand y: 20-10:moderateSevereDisabilityOrDeath valid_x: 455 valid_y: 504\n",
      "_corr_coeff: done: x: 03-04:post_NeuroExamFistedHand y: 20-10:moderateSevereDisabilityOrDeath\n",
      "_corr_coeff: to eval: x: 03-04:post_NeuroExamFistedHand y: 20-10:disabilityLevelDeath4Category valid_x: 455 valid_y: 498\n",
      "_corr_coeff: done: x: 03-04:post_NeuroExamFistedHand y: 20-10:disabilityLevelDeath4Category\n",
      "_corr_coeff: to eval: x: 03-04:post_NeuroExamFistedHand y: 20-10_1:disabilityLevelDeath valid_x: 455 valid_y: 498\n",
      "_corr_coeff: done: x: 03-04:post_NeuroExamFistedHand y: 20-10_1:disabilityLevelDeath\n",
      "_corr_coeff: to eval: x: 03-04:post_NeuroExamFistedHand y: 20-04:BayleyIIICognitiveComposite valid_x: 455 valid_y: 421\n",
      "_corr_coeff: done: x: 03-04:post_NeuroExamFistedHand y: 20-04:BayleyIIICognitiveComposite\n",
      "_corr_coeff: to eval: x: 03-04:post_NeuroExamFistedHand y: 20-04:BayleyIIILanguageComposite valid_x: 455 valid_y: 411\n",
      "_corr_coeff: done: x: 03-04:post_NeuroExamFistedHand y: 20-04:BayleyIIILanguageComposite\n",
      "_corr_coeff: to eval: x: 03-04:post_NeuroExamFistedHand y: 20-04:BayleyIIIMotorComposite valid_x: 455 valid_y: 415\n",
      "_corr_coeff: done: x: 03-04:post_NeuroExamFistedHand y: 20-04:BayleyIIIMotorComposite\n"
     ]
    },
    {
     "name": "stdout",
     "output_type": "stream",
     "text": [
      "_corr_coeff: to eval: x: 03-04:post_NeuroExamAbnormalMovement y: 20-10:moderateSevereDisabilityOrDeath valid_x: 457 valid_y: 504\n",
      "_corr_coeff: done: x: 03-04:post_NeuroExamAbnormalMovement y: 20-10:moderateSevereDisabilityOrDeath\n",
      "_corr_coeff: to eval: x: 03-04:post_NeuroExamAbnormalMovement y: 20-10:disabilityLevelDeath4Category valid_x: 457 valid_y: 498\n",
      "_corr_coeff: done: x: 03-04:post_NeuroExamAbnormalMovement y: 20-10:disabilityLevelDeath4Category\n",
      "_corr_coeff: to eval: x: 03-04:post_NeuroExamAbnormalMovement y: 20-10_1:disabilityLevelDeath valid_x: 457 valid_y: 498\n",
      "_corr_coeff: done: x: 03-04:post_NeuroExamAbnormalMovement y: 20-10_1:disabilityLevelDeath\n",
      "_corr_coeff: to eval: x: 03-04:post_NeuroExamAbnormalMovement y: 20-04:BayleyIIICognitiveComposite valid_x: 457 valid_y: 421\n",
      "_corr_coeff: done: x: 03-04:post_NeuroExamAbnormalMovement y: 20-04:BayleyIIICognitiveComposite\n",
      "_corr_coeff: to eval: x: 03-04:post_NeuroExamAbnormalMovement y: 20-04:BayleyIIILanguageComposite valid_x: 457 valid_y: 411\n",
      "_corr_coeff: done: x: 03-04:post_NeuroExamAbnormalMovement y: 20-04:BayleyIIILanguageComposite\n"
     ]
    },
    {
     "name": "stderr",
     "output_type": "stream",
     "text": [
      "\r",
      " 49%|████▉     | 164/336 [00:35<00:36,  4.69it/s]"
     ]
    },
    {
     "name": "stderr",
     "output_type": "stream",
     "text": [
      "\r",
      " 49%|████▉     | 165/336 [00:35<00:35,  4.86it/s]"
     ]
    },
    {
     "name": "stdout",
     "output_type": "stream",
     "text": [
      "_corr_coeff: to eval: x: 03-04:post_NeuroExamAbnormalMovement y: 20-04:BayleyIIIMotorComposite valid_x: 457 valid_y: 415\n",
      "_corr_coeff: done: x: 03-04:post_NeuroExamAbnormalMovement y: 20-04:BayleyIIIMotorComposite\n",
      "_corr_coeff: to eval: x: 03-04:post_NeuroExamGagReflexAbsent y: 20-10:moderateSevereDisabilityOrDeath valid_x: 451 valid_y: 504\n",
      "_corr_coeff: done: x: 03-04:post_NeuroExamGagReflexAbsent y: 20-10:moderateSevereDisabilityOrDeath\n",
      "_corr_coeff: to eval: x: 03-04:post_NeuroExamGagReflexAbsent y: 20-10:disabilityLevelDeath4Category valid_x: 451 valid_y: 498\n",
      "_corr_coeff: done: x: 03-04:post_NeuroExamGagReflexAbsent y: 20-10:disabilityLevelDeath4Category\n",
      "_corr_coeff: to eval: x: 03-04:post_NeuroExamGagReflexAbsent y: 20-10_1:disabilityLevelDeath valid_x: 451 valid_y: 498\n",
      "_corr_coeff: done: x: 03-04:post_NeuroExamGagReflexAbsent y: 20-10_1:disabilityLevelDeath\n",
      "_corr_coeff: to eval: x: 03-04:post_NeuroExamGagReflexAbsent y: 20-04:BayleyIIICognitiveComposite valid_x: 451 valid_y: 421\n",
      "_corr_coeff: done: x: 03-04:post_NeuroExamGagReflexAbsent y: 20-04:BayleyIIICognitiveComposite\n",
      "_corr_coeff: to eval: x: 03-04:post_NeuroExamGagReflexAbsent y: 20-04:BayleyIIILanguageComposite valid_x: 451 valid_y: 411\n",
      "_corr_coeff: done: x: 03-04:post_NeuroExamGagReflexAbsent y: 20-04:BayleyIIILanguageComposite\n",
      "_corr_coeff: to eval: x: 03-04:post_NeuroExamGagReflexAbsent y: 20-04:BayleyIIIMotorComposite valid_x: 451 valid_y: 415\n",
      "_corr_coeff: done: x: 03-04:post_NeuroExamGagReflexAbsent y: 20-04:BayleyIIIMotorComposite\n"
     ]
    },
    {
     "name": "stderr",
     "output_type": "stream",
     "text": [
      "\r",
      " 49%|████▉     | 166/336 [00:35<00:32,  5.19it/s]"
     ]
    },
    {
     "name": "stdout",
     "output_type": "stream",
     "text": [
      "_corr_coeff: to eval: x: 03-04:post_NeuroExamHypertonia y: 20-10:moderateSevereDisabilityOrDeath valid_x: 151 valid_y: 504\n",
      "_corr_coeff: done: x: 03-04:post_NeuroExamHypertonia y: 20-10:moderateSevereDisabilityOrDeath\n",
      "_corr_coeff: to eval: x: 03-04:post_NeuroExamHypertonia y: 20-10:disabilityLevelDeath4Category valid_x: 151 valid_y: 498\n",
      "_corr_coeff: done: x: 03-04:post_NeuroExamHypertonia y: 20-10:disabilityLevelDeath4Category\n",
      "_corr_coeff: to eval: x: 03-04:post_NeuroExamHypertonia y: 20-10_1:disabilityLevelDeath valid_x: 151 valid_y: 498\n",
      "_corr_coeff: done: x: 03-04:post_NeuroExamHypertonia y: 20-10_1:disabilityLevelDeath\n",
      "_corr_coeff: to eval: x: 03-04:post_NeuroExamHypertonia y: 20-04:BayleyIIICognitiveComposite valid_x: 151 valid_y: 421\n",
      "_corr_coeff: done: x: 03-04:post_NeuroExamHypertonia y: 20-04:BayleyIIICognitiveComposite\n",
      "_corr_coeff: to eval: x: 03-04:post_NeuroExamHypertonia y: 20-04:BayleyIIILanguageComposite valid_x: 151 valid_y: 411\n",
      "_corr_coeff: done: x: 03-04:post_NeuroExamHypertonia y: 20-04:BayleyIIILanguageComposite\n",
      "_corr_coeff: to eval: x: 03-04:post_NeuroExamHypertonia y: 20-04:BayleyIIIMotorComposite valid_x: 151 valid_y: 415\n",
      "_corr_coeff: done: x: 03-04:post_NeuroExamHypertonia y: 20-04:BayleyIIIMotorComposite\n",
      "_corr_coeff: to eval: x: 03-04_1:post_NeuroExamLevelConsciousnessScore y: 20-10:moderateSevereDisabilityOrDeath valid_x: 460 valid_y: 504\n",
      "_corr_coeff: done: x: 03-04_1:post_NeuroExamLevelConsciousnessScore y: 20-10:moderateSevereDisabilityOrDeath\n",
      "_corr_coeff: to eval: x: 03-04_1:post_NeuroExamLevelConsciousnessScore y: 20-10:disabilityLevelDeath4Category valid_x: 460 valid_y: 498\n",
      "_corr_coeff: done: x: 03-04_1:post_NeuroExamLevelConsciousnessScore y: 20-10:disabilityLevelDeath4Category\n"
     ]
    },
    {
     "name": "stderr",
     "output_type": "stream",
     "text": [
      "\r",
      " 50%|████▉     | 167/336 [00:36<00:35,  4.80it/s]"
     ]
    },
    {
     "name": "stdout",
     "output_type": "stream",
     "text": [
      "_corr_coeff: to eval: x: 03-04_1:post_NeuroExamLevelConsciousnessScore y: 20-10_1:disabilityLevelDeath valid_x: 460 valid_y: 498\n",
      "_corr_coeff: done: x: 03-04_1:post_NeuroExamLevelConsciousnessScore y: 20-10_1:disabilityLevelDeath\n",
      "_corr_coeff: to eval: x: 03-04_1:post_NeuroExamLevelConsciousnessScore y: 20-04:BayleyIIICognitiveComposite valid_x: 460 valid_y: 421\n",
      "_corr_coeff: done: x: 03-04_1:post_NeuroExamLevelConsciousnessScore y: 20-04:BayleyIIICognitiveComposite\n",
      "_corr_coeff: to eval: x: 03-04_1:post_NeuroExamLevelConsciousnessScore y: 20-04:BayleyIIILanguageComposite valid_x: 460 valid_y: 411\n",
      "_corr_coeff: done: x: 03-04_1:post_NeuroExamLevelConsciousnessScore y: 20-04:BayleyIIILanguageComposite\n",
      "_corr_coeff: to eval: x: 03-04_1:post_NeuroExamLevelConsciousnessScore y: 20-04:BayleyIIIMotorComposite valid_x: 460 valid_y: 415\n",
      "_corr_coeff: done: x: 03-04_1:post_NeuroExamLevelConsciousnessScore y: 20-04:BayleyIIIMotorComposite\n",
      "_corr_coeff: to eval: x: 03-04_1:post_NeuroExamSpontaneousActivityScore y: 20-10:moderateSevereDisabilityOrDeath valid_x: 460 valid_y: 504\n",
      "_corr_coeff: done: x: 03-04_1:post_NeuroExamSpontaneousActivityScore y: 20-10:moderateSevereDisabilityOrDeath\n",
      "_corr_coeff: to eval: x: 03-04_1:post_NeuroExamSpontaneousActivityScore y: 20-10:disabilityLevelDeath4Category valid_x: 460 valid_y: 498\n",
      "_corr_coeff: done: x: 03-04_1:post_NeuroExamSpontaneousActivityScore y: 20-10:disabilityLevelDeath4Category\n",
      "_corr_coeff: to eval: x: 03-04_1:post_NeuroExamSpontaneousActivityScore y: 20-10_1:disabilityLevelDeath valid_x: 460 valid_y: 498\n",
      "_corr_coeff: done: x: 03-04_1:post_NeuroExamSpontaneousActivityScore y: 20-10_1:disabilityLevelDeath\n"
     ]
    },
    {
     "name": "stderr",
     "output_type": "stream",
     "text": [
      "\r",
      " 50%|█████     | 168/336 [00:36<00:34,  4.91it/s]"
     ]
    },
    {
     "name": "stdout",
     "output_type": "stream",
     "text": [
      "_corr_coeff: to eval: x: 03-04_1:post_NeuroExamSpontaneousActivityScore y: 20-04:BayleyIIICognitiveComposite valid_x: 460 valid_y: 421\n",
      "_corr_coeff: done: x: 03-04_1:post_NeuroExamSpontaneousActivityScore y: 20-04:BayleyIIICognitiveComposite\n",
      "_corr_coeff: to eval: x: 03-04_1:post_NeuroExamSpontaneousActivityScore y: 20-04:BayleyIIILanguageComposite valid_x: 460 valid_y: 411\n",
      "_corr_coeff: done: x: 03-04_1:post_NeuroExamSpontaneousActivityScore y: 20-04:BayleyIIILanguageComposite\n",
      "_corr_coeff: to eval: x: 03-04_1:post_NeuroExamSpontaneousActivityScore y: 20-04:BayleyIIIMotorComposite valid_x: 460 valid_y: 415\n",
      "_corr_coeff: done: x: 03-04_1:post_NeuroExamSpontaneousActivityScore y: 20-04:BayleyIIIMotorComposite\n",
      "_corr_coeff: to eval: x: 03-04_1:post_NeuroExamPostureScore y: 20-10:moderateSevereDisabilityOrDeath valid_x: 460 valid_y: 504\n",
      "_corr_coeff: done: x: 03-04_1:post_NeuroExamPostureScore y: 20-10:moderateSevereDisabilityOrDeath\n",
      "_corr_coeff: to eval: x: 03-04_1:post_NeuroExamPostureScore y: 20-10:disabilityLevelDeath4Category valid_x: 460 valid_y: 498\n",
      "_corr_coeff: done: x: 03-04_1:post_NeuroExamPostureScore y: 20-10:disabilityLevelDeath4Category\n",
      "_corr_coeff: to eval: x: 03-04_1:post_NeuroExamPostureScore y: 20-10_1:disabilityLevelDeath valid_x: 460 valid_y: 498\n",
      "_corr_coeff: done: x: 03-04_1:post_NeuroExamPostureScore y: 20-10_1:disabilityLevelDeath\n"
     ]
    },
    {
     "name": "stderr",
     "output_type": "stream",
     "text": [
      "\r",
      " 50%|█████     | 169/336 [00:36<00:35,  4.64it/s]"
     ]
    },
    {
     "name": "stdout",
     "output_type": "stream",
     "text": [
      "_corr_coeff: to eval: x: 03-04_1:post_NeuroExamPostureScore y: 20-04:BayleyIIICognitiveComposite valid_x: 460 valid_y: 421\n",
      "_corr_coeff: done: x: 03-04_1:post_NeuroExamPostureScore y: 20-04:BayleyIIICognitiveComposite\n",
      "_corr_coeff: to eval: x: 03-04_1:post_NeuroExamPostureScore y: 20-04:BayleyIIILanguageComposite valid_x: 460 valid_y: 411\n",
      "_corr_coeff: done: x: 03-04_1:post_NeuroExamPostureScore y: 20-04:BayleyIIILanguageComposite\n",
      "_corr_coeff: to eval: x: 03-04_1:post_NeuroExamPostureScore y: 20-04:BayleyIIIMotorComposite valid_x: 460 valid_y: 415\n",
      "_corr_coeff: done: x: 03-04_1:post_NeuroExamPostureScore y: 20-04:BayleyIIIMotorComposite\n",
      "_corr_coeff: to eval: x: 03-04_1:post_NeuroExamToneScore y: 20-10:moderateSevereDisabilityOrDeath valid_x: 460 valid_y: 504\n",
      "_corr_coeff: done: x: 03-04_1:post_NeuroExamToneScore y: 20-10:moderateSevereDisabilityOrDeath\n",
      "_corr_coeff: to eval: x: 03-04_1:post_NeuroExamToneScore y: 20-10:disabilityLevelDeath4Category valid_x: 460 valid_y: 498\n",
      "_corr_coeff: done: x: 03-04_1:post_NeuroExamToneScore y: 20-10:disabilityLevelDeath4Category\n",
      "_corr_coeff: to eval: x: 03-04_1:post_NeuroExamToneScore y: 20-10_1:disabilityLevelDeath valid_x: 460 valid_y: 498\n",
      "_corr_coeff: done: x: 03-04_1:post_NeuroExamToneScore y: 20-10_1:disabilityLevelDeath\n",
      "_corr_coeff: to eval: x: 03-04_1:post_NeuroExamToneScore y: 20-04:BayleyIIICognitiveComposite valid_x: 460 valid_y: 421\n",
      "_corr_coeff: done: x: 03-04_1:post_NeuroExamToneScore y: 20-04:BayleyIIICognitiveComposite\n"
     ]
    },
    {
     "name": "stderr",
     "output_type": "stream",
     "text": [
      "\r",
      " 51%|█████     | 170/336 [00:36<00:34,  4.80it/s]"
     ]
    },
    {
     "name": "stdout",
     "output_type": "stream",
     "text": [
      "_corr_coeff: to eval: x: 03-04_1:post_NeuroExamToneScore y: 20-04:BayleyIIILanguageComposite valid_x: 460 valid_y: 411\n",
      "_corr_coeff: done: x: 03-04_1:post_NeuroExamToneScore y: 20-04:BayleyIIILanguageComposite\n",
      "_corr_coeff: to eval: x: 03-04_1:post_NeuroExamToneScore y: 20-04:BayleyIIIMotorComposite valid_x: 460 valid_y: 415\n",
      "_corr_coeff: done: x: 03-04_1:post_NeuroExamToneScore y: 20-04:BayleyIIIMotorComposite\n",
      "_corr_coeff: to eval: x: 03-04_1:post_NeuroExamSuckScore y: 20-10:moderateSevereDisabilityOrDeath valid_x: 460 valid_y: 504\n",
      "_corr_coeff: done: x: 03-04_1:post_NeuroExamSuckScore y: 20-10:moderateSevereDisabilityOrDeath\n",
      "_corr_coeff: to eval: x: 03-04_1:post_NeuroExamSuckScore y: 20-10:disabilityLevelDeath4Category valid_x: 460 valid_y: 498\n",
      "_corr_coeff: done: x: 03-04_1:post_NeuroExamSuckScore y: 20-10:disabilityLevelDeath4Category\n",
      "_corr_coeff: to eval: x: 03-04_1:post_NeuroExamSuckScore y: 20-10_1:disabilityLevelDeath valid_x: 460 valid_y: 498\n",
      "_corr_coeff: done: x: 03-04_1:post_NeuroExamSuckScore y: 20-10_1:disabilityLevelDeath\n"
     ]
    },
    {
     "name": "stderr",
     "output_type": "stream",
     "text": [
      "\r",
      " 51%|█████     | 171/336 [00:37<00:36,  4.54it/s]"
     ]
    },
    {
     "name": "stdout",
     "output_type": "stream",
     "text": [
      "_corr_coeff: to eval: x: 03-04_1:post_NeuroExamSuckScore y: 20-04:BayleyIIICognitiveComposite valid_x: 460 valid_y: 421\n",
      "_corr_coeff: done: x: 03-04_1:post_NeuroExamSuckScore y: 20-04:BayleyIIICognitiveComposite\n",
      "_corr_coeff: to eval: x: 03-04_1:post_NeuroExamSuckScore y: 20-04:BayleyIIILanguageComposite valid_x: 460 valid_y: 411\n",
      "_corr_coeff: done: x: 03-04_1:post_NeuroExamSuckScore y: 20-04:BayleyIIILanguageComposite\n",
      "_corr_coeff: to eval: x: 03-04_1:post_NeuroExamSuckScore y: 20-04:BayleyIIIMotorComposite valid_x: 460 valid_y: 415\n",
      "_corr_coeff: done: x: 03-04_1:post_NeuroExamSuckScore y: 20-04:BayleyIIIMotorComposite\n",
      "_corr_coeff: to eval: x: 03-04_1:post_NeuroExamMoroScore y: 20-10:moderateSevereDisabilityOrDeath valid_x: 460 valid_y: 504\n",
      "_corr_coeff: done: x: 03-04_1:post_NeuroExamMoroScore y: 20-10:moderateSevereDisabilityOrDeath\n",
      "_corr_coeff: to eval: x: 03-04_1:post_NeuroExamMoroScore y: 20-10:disabilityLevelDeath4Category valid_x: 460 valid_y: 498\n",
      "_corr_coeff: done: x: 03-04_1:post_NeuroExamMoroScore y: 20-10:disabilityLevelDeath4Category\n",
      "_corr_coeff: to eval: x: 03-04_1:post_NeuroExamMoroScore y: 20-10_1:disabilityLevelDeath valid_x: 460 valid_y: 498\n",
      "_corr_coeff: done: x: 03-04_1:post_NeuroExamMoroScore y: 20-10_1:disabilityLevelDeath\n",
      "_corr_coeff: to eval: x: 03-04_1:post_NeuroExamMoroScore y: 20-04:BayleyIIICognitiveComposite valid_x: 460 valid_y: 421\n",
      "_corr_coeff: done: x: 03-04_1:post_NeuroExamMoroScore y: 20-04:BayleyIIICognitiveComposite\n"
     ]
    },
    {
     "name": "stderr",
     "output_type": "stream",
     "text": [
      "\r",
      " 51%|█████     | 172/336 [00:37<00:34,  4.69it/s]"
     ]
    },
    {
     "name": "stdout",
     "output_type": "stream",
     "text": [
      "_corr_coeff: to eval: x: 03-04_1:post_NeuroExamMoroScore y: 20-04:BayleyIIILanguageComposite valid_x: 460 valid_y: 411\n",
      "_corr_coeff: done: x: 03-04_1:post_NeuroExamMoroScore y: 20-04:BayleyIIILanguageComposite\n",
      "_corr_coeff: to eval: x: 03-04_1:post_NeuroExamMoroScore y: 20-04:BayleyIIIMotorComposite valid_x: 460 valid_y: 415\n",
      "_corr_coeff: done: x: 03-04_1:post_NeuroExamMoroScore y: 20-04:BayleyIIIMotorComposite\n",
      "_corr_coeff: to eval: x: 03-04_1:post_NeuroExamPupilsScore y: 20-10:moderateSevereDisabilityOrDeath valid_x: 460 valid_y: 504\n",
      "_corr_coeff: done: x: 03-04_1:post_NeuroExamPupilsScore y: 20-10:moderateSevereDisabilityOrDeath\n",
      "_corr_coeff: to eval: x: 03-04_1:post_NeuroExamPupilsScore y: 20-10:disabilityLevelDeath4Category valid_x: 460 valid_y: 498\n",
      "_corr_coeff: done: x: 03-04_1:post_NeuroExamPupilsScore y: 20-10:disabilityLevelDeath4Category\n",
      "_corr_coeff: to eval: x: 03-04_1:post_NeuroExamPupilsScore y: 20-10_1:disabilityLevelDeath valid_x: 460 valid_y: 498\n",
      "_corr_coeff: done: x: 03-04_1:post_NeuroExamPupilsScore y: 20-10_1:disabilityLevelDeath\n"
     ]
    },
    {
     "name": "stderr",
     "output_type": "stream",
     "text": [
      "\r",
      " 51%|█████▏    | 173/336 [00:37<00:36,  4.48it/s]"
     ]
    },
    {
     "name": "stdout",
     "output_type": "stream",
     "text": [
      "_corr_coeff: to eval: x: 03-04_1:post_NeuroExamPupilsScore y: 20-04:BayleyIIICognitiveComposite valid_x: 460 valid_y: 421\n",
      "_corr_coeff: done: x: 03-04_1:post_NeuroExamPupilsScore y: 20-04:BayleyIIICognitiveComposite\n",
      "_corr_coeff: to eval: x: 03-04_1:post_NeuroExamPupilsScore y: 20-04:BayleyIIILanguageComposite valid_x: 460 valid_y: 411\n",
      "_corr_coeff: done: x: 03-04_1:post_NeuroExamPupilsScore y: 20-04:BayleyIIILanguageComposite\n",
      "_corr_coeff: to eval: x: 03-04_1:post_NeuroExamPupilsScore y: 20-04:BayleyIIIMotorComposite valid_x: 460 valid_y: 415\n",
      "_corr_coeff: done: x: 03-04_1:post_NeuroExamPupilsScore y: 20-04:BayleyIIIMotorComposite\n",
      "_corr_coeff: to eval: x: 03-04_1:post_NeuroExamHeartRateScore y: 20-10:moderateSevereDisabilityOrDeath valid_x: 460 valid_y: 504\n",
      "_corr_coeff: done: x: 03-04_1:post_NeuroExamHeartRateScore y: 20-10:moderateSevereDisabilityOrDeath\n",
      "_corr_coeff: to eval: x: 03-04_1:post_NeuroExamHeartRateScore y: 20-10:disabilityLevelDeath4Category valid_x: 460 valid_y: 498\n",
      "_corr_coeff: done: x: 03-04_1:post_NeuroExamHeartRateScore y: 20-10:disabilityLevelDeath4Category\n",
      "_corr_coeff: to eval: x: 03-04_1:post_NeuroExamHeartRateScore y: 20-10_1:disabilityLevelDeath valid_x: 460 valid_y: 498\n",
      "_corr_coeff: done: x: 03-04_1:post_NeuroExamHeartRateScore y: 20-10_1:disabilityLevelDeath\n",
      "_corr_coeff: to eval: x: 03-04_1:post_NeuroExamHeartRateScore y: 20-04:BayleyIIICognitiveComposite valid_x: 460 valid_y: 421\n",
      "_corr_coeff: done: x: 03-04_1:post_NeuroExamHeartRateScore y: 20-04:BayleyIIICognitiveComposite\n"
     ]
    },
    {
     "name": "stderr",
     "output_type": "stream",
     "text": [
      "\r",
      " 52%|█████▏    | 174/336 [00:37<00:34,  4.68it/s]"
     ]
    },
    {
     "name": "stdout",
     "output_type": "stream",
     "text": [
      "_corr_coeff: to eval: x: 03-04_1:post_NeuroExamHeartRateScore y: 20-04:BayleyIIILanguageComposite valid_x: 460 valid_y: 411\n",
      "_corr_coeff: done: x: 03-04_1:post_NeuroExamHeartRateScore y: 20-04:BayleyIIILanguageComposite\n",
      "_corr_coeff: to eval: x: 03-04_1:post_NeuroExamHeartRateScore y: 20-04:BayleyIIIMotorComposite valid_x: 460 valid_y: 415\n",
      "_corr_coeff: done: x: 03-04_1:post_NeuroExamHeartRateScore y: 20-04:BayleyIIIMotorComposite\n",
      "_corr_coeff: to eval: x: 03-04_1:post_NeuroExamRespirationScore y: 20-10:moderateSevereDisabilityOrDeath valid_x: 460 valid_y: 504\n",
      "_corr_coeff: done: x: 03-04_1:post_NeuroExamRespirationScore y: 20-10:moderateSevereDisabilityOrDeath\n",
      "_corr_coeff: to eval: x: 03-04_1:post_NeuroExamRespirationScore y: 20-10:disabilityLevelDeath4Category valid_x: 460 valid_y: 498\n",
      "_corr_coeff: done: x: 03-04_1:post_NeuroExamRespirationScore y: 20-10:disabilityLevelDeath4Category\n",
      "_corr_coeff: to eval: x: 03-04_1:post_NeuroExamRespirationScore y: 20-10_1:disabilityLevelDeath valid_x: 460 valid_y: 498\n",
      "_corr_coeff: done: x: 03-04_1:post_NeuroExamRespirationScore y: 20-10_1:disabilityLevelDeath\n"
     ]
    },
    {
     "name": "stderr",
     "output_type": "stream",
     "text": [
      "\r",
      " 52%|█████▏    | 175/336 [00:37<00:35,  4.48it/s]"
     ]
    },
    {
     "name": "stdout",
     "output_type": "stream",
     "text": [
      "_corr_coeff: to eval: x: 03-04_1:post_NeuroExamRespirationScore y: 20-04:BayleyIIICognitiveComposite valid_x: 460 valid_y: 421\n",
      "_corr_coeff: done: x: 03-04_1:post_NeuroExamRespirationScore y: 20-04:BayleyIIICognitiveComposite\n",
      "_corr_coeff: to eval: x: 03-04_1:post_NeuroExamRespirationScore y: 20-04:BayleyIIILanguageComposite valid_x: 460 valid_y: 411\n",
      "_corr_coeff: done: x: 03-04_1:post_NeuroExamRespirationScore y: 20-04:BayleyIIILanguageComposite\n",
      "_corr_coeff: to eval: x: 03-04_1:post_NeuroExamRespirationScore y: 20-04:BayleyIIIMotorComposite valid_x: 460 valid_y: 415\n",
      "_corr_coeff: done: x: 03-04_1:post_NeuroExamRespirationScore y: 20-04:BayleyIIIMotorComposite\n",
      "_corr_coeff: to eval: x: 03-04_1:post_NeuroExamReflexScore y: 20-10:moderateSevereDisabilityOrDeath valid_x: 460 valid_y: 504\n",
      "_corr_coeff: done: x: 03-04_1:post_NeuroExamReflexScore y: 20-10:moderateSevereDisabilityOrDeath\n",
      "_corr_coeff: to eval: x: 03-04_1:post_NeuroExamReflexScore y: 20-10:disabilityLevelDeath4Category valid_x: 460 valid_y: 498\n",
      "_corr_coeff: done: x: 03-04_1:post_NeuroExamReflexScore y: 20-10:disabilityLevelDeath4Category\n",
      "_corr_coeff: to eval: x: 03-04_1:post_NeuroExamReflexScore y: 20-10_1:disabilityLevelDeath valid_x: 460 valid_y: 498\n",
      "_corr_coeff: done: x: 03-04_1:post_NeuroExamReflexScore y: 20-10_1:disabilityLevelDeath\n",
      "_corr_coeff: to eval: x: 03-04_1:post_NeuroExamReflexScore y: 20-04:BayleyIIICognitiveComposite valid_x: 460 valid_y: 421\n",
      "_corr_coeff: done: x: 03-04_1:post_NeuroExamReflexScore y: 20-04:BayleyIIICognitiveComposite\n"
     ]
    },
    {
     "name": "stderr",
     "output_type": "stream",
     "text": [
      "\r",
      " 52%|█████▏    | 176/336 [00:38<00:36,  4.37it/s]"
     ]
    },
    {
     "name": "stdout",
     "output_type": "stream",
     "text": [
      "_corr_coeff: to eval: x: 03-04_1:post_NeuroExamReflexScore y: 20-04:BayleyIIILanguageComposite valid_x: 460 valid_y: 411\n",
      "_corr_coeff: done: x: 03-04_1:post_NeuroExamReflexScore y: 20-04:BayleyIIILanguageComposite\n",
      "_corr_coeff: to eval: x: 03-04_1:post_NeuroExamReflexScore y: 20-04:BayleyIIIMotorComposite valid_x: 460 valid_y: 415\n",
      "_corr_coeff: done: x: 03-04_1:post_NeuroExamReflexScore y: 20-04:BayleyIIIMotorComposite\n",
      "_corr_coeff: to eval: x: 03-04_1:post_NeuroExamANSScore y: 20-10:moderateSevereDisabilityOrDeath valid_x: 460 valid_y: 504\n",
      "_corr_coeff: done: x: 03-04_1:post_NeuroExamANSScore y: 20-10:moderateSevereDisabilityOrDeath\n",
      "_corr_coeff: to eval: x: 03-04_1:post_NeuroExamANSScore y: 20-10:disabilityLevelDeath4Category valid_x: 460 valid_y: 498\n",
      "_corr_coeff: done: x: 03-04_1:post_NeuroExamANSScore y: 20-10:disabilityLevelDeath4Category\n",
      "_corr_coeff: to eval: x: 03-04_1:post_NeuroExamANSScore y: 20-10_1:disabilityLevelDeath valid_x: 460 valid_y: 498\n",
      "_corr_coeff: done: x: 03-04_1:post_NeuroExamANSScore y: 20-10_1:disabilityLevelDeath\n"
     ]
    },
    {
     "name": "stderr",
     "output_type": "stream",
     "text": [
      "\r",
      " 53%|█████▎    | 177/336 [00:38<00:34,  4.58it/s]"
     ]
    },
    {
     "name": "stdout",
     "output_type": "stream",
     "text": [
      "_corr_coeff: to eval: x: 03-04_1:post_NeuroExamANSScore y: 20-04:BayleyIIICognitiveComposite valid_x: 460 valid_y: 421\n",
      "_corr_coeff: done: x: 03-04_1:post_NeuroExamANSScore y: 20-04:BayleyIIICognitiveComposite\n",
      "_corr_coeff: to eval: x: 03-04_1:post_NeuroExamANSScore y: 20-04:BayleyIIILanguageComposite valid_x: 460 valid_y: 411\n",
      "_corr_coeff: done: x: 03-04_1:post_NeuroExamANSScore y: 20-04:BayleyIIILanguageComposite\n",
      "_corr_coeff: to eval: x: 03-04_1:post_NeuroExamANSScore y: 20-04:BayleyIIIMotorComposite valid_x: 460 valid_y: 415\n",
      "_corr_coeff: done: x: 03-04_1:post_NeuroExamANSScore y: 20-04:BayleyIIIMotorComposite\n",
      "_corr_coeff: to eval: x: 03-04_1:post_TotalModifiedSarnatScore y: 20-10:moderateSevereDisabilityOrDeath valid_x: 460 valid_y: 504\n",
      "_corr_coeff: done: x: 03-04_1:post_TotalModifiedSarnatScore y: 20-10:moderateSevereDisabilityOrDeath\n",
      "_corr_coeff: to eval: x: 03-04_1:post_TotalModifiedSarnatScore y: 20-10:disabilityLevelDeath4Category valid_x: 460 valid_y: 498\n",
      "_corr_coeff: done: x: 03-04_1:post_TotalModifiedSarnatScore y: 20-10:disabilityLevelDeath4Category\n",
      "_corr_coeff: to eval: x: 03-04_1:post_TotalModifiedSarnatScore y: 20-10_1:disabilityLevelDeath valid_x: 460 valid_y: 498\n",
      "_corr_coeff: done: x: 03-04_1:post_TotalModifiedSarnatScore y: 20-10_1:disabilityLevelDeath\n",
      "_corr_coeff: to eval: x: 03-04_1:post_TotalModifiedSarnatScore y: 20-04:BayleyIIICognitiveComposite valid_x: 460 valid_y: 421\n",
      "_corr_coeff: done: x: 03-04_1:post_TotalModifiedSarnatScore y: 20-04:BayleyIIICognitiveComposite\n"
     ]
    },
    {
     "name": "stderr",
     "output_type": "stream",
     "text": [
      "\r",
      " 53%|█████▎    | 178/336 [00:38<00:35,  4.39it/s]"
     ]
    },
    {
     "name": "stdout",
     "output_type": "stream",
     "text": [
      "_corr_coeff: to eval: x: 03-04_1:post_TotalModifiedSarnatScore y: 20-04:BayleyIIILanguageComposite valid_x: 460 valid_y: 411\n",
      "_corr_coeff: done: x: 03-04_1:post_TotalModifiedSarnatScore y: 20-04:BayleyIIILanguageComposite\n",
      "_corr_coeff: to eval: x: 03-04_1:post_TotalModifiedSarnatScore y: 20-04:BayleyIIIMotorComposite valid_x: 460 valid_y: 415\n",
      "_corr_coeff: done: x: 03-04_1:post_TotalModifiedSarnatScore y: 20-04:BayleyIIIMotorComposite\n",
      "_corr_coeff: to eval: x: 03-05:MRINRNPatternOfInjury:1 y: 20-10:moderateSevereDisabilityOrDeath valid_x: 355 valid_y: 504\n",
      "_corr_coeff: done: x: 03-05:MRINRNPatternOfInjury:1 y: 20-10:moderateSevereDisabilityOrDeath\n",
      "_corr_coeff: to eval: x: 03-05:MRINRNPatternOfInjury:1 y: 20-10:disabilityLevelDeath4Category valid_x: 355 valid_y: 498\n",
      "_corr_coeff: done: x: 03-05:MRINRNPatternOfInjury:1 y: 20-10:disabilityLevelDeath4Category\n",
      "_corr_coeff: to eval: x: 03-05:MRINRNPatternOfInjury:1 y: 20-10_1:disabilityLevelDeath valid_x: 355 valid_y: 498\n",
      "_corr_coeff: done: x: 03-05:MRINRNPatternOfInjury:1 y: 20-10_1:disabilityLevelDeath\n",
      "_corr_coeff: to eval: x: 03-05:MRINRNPatternOfInjury:1 y: 20-04:BayleyIIICognitiveComposite valid_x: 355 valid_y: 421\n",
      "_corr_coeff: done: x: 03-05:MRINRNPatternOfInjury:1 y: 20-04:BayleyIIICognitiveComposite\n",
      "_corr_coeff: to eval: x: 03-05:MRINRNPatternOfInjury:1 y: 20-04:BayleyIIILanguageComposite valid_x: 355 valid_y: 411\n",
      "_corr_coeff: done: x: 03-05:MRINRNPatternOfInjury:1 y: 20-04:BayleyIIILanguageComposite\n"
     ]
    },
    {
     "name": "stderr",
     "output_type": "stream",
     "text": [
      "\r",
      " 53%|█████▎    | 179/336 [00:38<00:34,  4.53it/s]"
     ]
    },
    {
     "name": "stdout",
     "output_type": "stream",
     "text": [
      "_corr_coeff: to eval: x: 03-05:MRINRNPatternOfInjury:1 y: 20-04:BayleyIIIMotorComposite valid_x: 355 valid_y: 415\n",
      "_corr_coeff: done: x: 03-05:MRINRNPatternOfInjury:1 y: 20-04:BayleyIIIMotorComposite\n",
      "_corr_coeff: to eval: x: 03-05:MRINRNPatternOfInjury:2 y: 20-10:moderateSevereDisabilityOrDeath valid_x: 354 valid_y: 504\n",
      "_corr_coeff: done: x: 03-05:MRINRNPatternOfInjury:2 y: 20-10:moderateSevereDisabilityOrDeath\n",
      "_corr_coeff: to eval: x: 03-05:MRINRNPatternOfInjury:2 y: 20-10:disabilityLevelDeath4Category valid_x: 354 valid_y: 498\n",
      "_corr_coeff: done: x: 03-05:MRINRNPatternOfInjury:2 y: 20-10:disabilityLevelDeath4Category\n",
      "_corr_coeff: to eval: x: 03-05:MRINRNPatternOfInjury:2 y: 20-10_1:disabilityLevelDeath valid_x: 354 valid_y: 498\n",
      "_corr_coeff: done: x: 03-05:MRINRNPatternOfInjury:2 y: 20-10_1:disabilityLevelDeath\n",
      "_corr_coeff: to eval: x: 03-05:MRINRNPatternOfInjury:2 y: 20-04:BayleyIIICognitiveComposite valid_x: 354 valid_y: 421\n",
      "_corr_coeff: done: x: 03-05:MRINRNPatternOfInjury:2 y: 20-04:BayleyIIICognitiveComposite\n"
     ]
    },
    {
     "name": "stderr",
     "output_type": "stream",
     "text": [
      "\r",
      " 54%|█████▎    | 180/336 [00:39<00:35,  4.39it/s]"
     ]
    },
    {
     "name": "stderr",
     "output_type": "stream",
     "text": [
      "\r",
      " 54%|█████▍    | 181/336 [00:39<00:32,  4.77it/s]"
     ]
    },
    {
     "name": "stdout",
     "output_type": "stream",
     "text": [
      "_corr_coeff: to eval: x: 03-05:MRINRNPatternOfInjury:2 y: 20-04:BayleyIIILanguageComposite valid_x: 354 valid_y: 411\n",
      "_corr_coeff: done: x: 03-05:MRINRNPatternOfInjury:2 y: 20-04:BayleyIIILanguageComposite\n",
      "_corr_coeff: to eval: x: 03-05:MRINRNPatternOfInjury:2 y: 20-04:BayleyIIIMotorComposite valid_x: 354 valid_y: 415\n",
      "_corr_coeff: done: x: 03-05:MRINRNPatternOfInjury:2 y: 20-04:BayleyIIIMotorComposite\n",
      "_corr_coeff: to eval: x: 03-05:MRINRNPatternOfInjury:3 y: 20-10:moderateSevereDisabilityOrDeath valid_x: 189 valid_y: 504\n",
      "_corr_coeff: done: x: 03-05:MRINRNPatternOfInjury:3 y: 20-10:moderateSevereDisabilityOrDeath\n",
      "_corr_coeff: to eval: x: 03-05:MRINRNPatternOfInjury:3 y: 20-10:disabilityLevelDeath4Category valid_x: 189 valid_y: 498\n",
      "_corr_coeff: done: x: 03-05:MRINRNPatternOfInjury:3 y: 20-10:disabilityLevelDeath4Category\n",
      "_corr_coeff: to eval: x: 03-05:MRINRNPatternOfInjury:3 y: 20-10_1:disabilityLevelDeath valid_x: 189 valid_y: 498\n",
      "_corr_coeff: done: x: 03-05:MRINRNPatternOfInjury:3 y: 20-10_1:disabilityLevelDeath\n",
      "_corr_coeff: to eval: x: 03-05:MRINRNPatternOfInjury:3 y: 20-04:BayleyIIICognitiveComposite valid_x: 189 valid_y: 421\n",
      "_corr_coeff: done: x: 03-05:MRINRNPatternOfInjury:3 y: 20-04:BayleyIIICognitiveComposite\n",
      "_corr_coeff: to eval: x: 03-05:MRINRNPatternOfInjury:3 y: 20-04:BayleyIIILanguageComposite valid_x: 189 valid_y: 411\n",
      "_corr_coeff: done: x: 03-05:MRINRNPatternOfInjury:3 y: 20-04:BayleyIIILanguageComposite\n",
      "_corr_coeff: to eval: x: 03-05:MRINRNPatternOfInjury:3 y: 20-04:BayleyIIIMotorComposite valid_x: 189 valid_y: 415\n",
      "_corr_coeff: done: x: 03-05:MRINRNPatternOfInjury:3 y: 20-04:BayleyIIIMotorComposite\n"
     ]
    },
    {
     "name": "stdout",
     "output_type": "stream",
     "text": [
      "_corr_coeff: to eval: x: 03-05_s:MRIAvailable y: 20-10:moderateSevereDisabilityOrDeath valid_x: 477 valid_y: 504\n",
      "_corr_coeff: done: x: 03-05_s:MRIAvailable y: 20-10:moderateSevereDisabilityOrDeath\n",
      "_corr_coeff: to eval: x: 03-05_s:MRIAvailable y: 20-10:disabilityLevelDeath4Category valid_x: 477 valid_y: 498\n",
      "_corr_coeff: done: x: 03-05_s:MRIAvailable y: 20-10:disabilityLevelDeath4Category\n",
      "_corr_coeff: to eval: x: 03-05_s:MRIAvailable y: 20-10_1:disabilityLevelDeath valid_x: 477 valid_y: 498\n",
      "_corr_coeff: done: x: 03-05_s:MRIAvailable y: 20-10_1:disabilityLevelDeath\n",
      "_corr_coeff: to eval: x: 03-05_s:MRIAvailable y: 20-04:BayleyIIICognitiveComposite valid_x: 477 valid_y: 421\n",
      "_corr_coeff: done: x: 03-05_s:MRIAvailable y: 20-04:BayleyIIICognitiveComposite\n",
      "_corr_coeff: to eval: x: 03-05_s:MRIAvailable y: 20-04:BayleyIIILanguageComposite valid_x: 477 valid_y: 411\n",
      "_corr_coeff: done: x: 03-05_s:MRIAvailable y: 20-04:BayleyIIILanguageComposite\n"
     ]
    },
    {
     "name": "stderr",
     "output_type": "stream",
     "text": [
      "\r",
      " 54%|█████▍    | 182/336 [00:39<00:34,  4.47it/s]"
     ]
    },
    {
     "name": "stderr",
     "output_type": "stream",
     "text": [
      "\r",
      " 54%|█████▍    | 183/336 [00:39<00:32,  4.76it/s]"
     ]
    },
    {
     "name": "stdout",
     "output_type": "stream",
     "text": [
      "_corr_coeff: to eval: x: 03-05_s:MRIAvailable y: 20-04:BayleyIIIMotorComposite valid_x: 477 valid_y: 415\n",
      "_corr_coeff: done: x: 03-05_s:MRIAvailable y: 20-04:BayleyIIIMotorComposite\n",
      "_corr_coeff: to eval: x: 03-05_s:MRIAvailable_c y: 20-10:moderateSevereDisabilityOrDeath valid_x: 327 valid_y: 504\n",
      "_corr_coeff: done: x: 03-05_s:MRIAvailable_c y: 20-10:moderateSevereDisabilityOrDeath\n",
      "_corr_coeff: to eval: x: 03-05_s:MRIAvailable_c y: 20-10:disabilityLevelDeath4Category valid_x: 327 valid_y: 498\n",
      "_corr_coeff: done: x: 03-05_s:MRIAvailable_c y: 20-10:disabilityLevelDeath4Category\n",
      "_corr_coeff: to eval: x: 03-05_s:MRIAvailable_c y: 20-10_1:disabilityLevelDeath valid_x: 327 valid_y: 498\n",
      "_corr_coeff: done: x: 03-05_s:MRIAvailable_c y: 20-10_1:disabilityLevelDeath\n",
      "_corr_coeff: to eval: x: 03-05_s:MRIAvailable_c y: 20-04:BayleyIIICognitiveComposite valid_x: 327 valid_y: 421\n",
      "_corr_coeff: done: x: 03-05_s:MRIAvailable_c y: 20-04:BayleyIIICognitiveComposite\n",
      "_corr_coeff: to eval: x: 03-05_s:MRIAvailable_c y: 20-04:BayleyIIILanguageComposite valid_x: 327 valid_y: 411\n",
      "_corr_coeff: done: x: 03-05_s:MRIAvailable_c y: 20-04:BayleyIIILanguageComposite\n",
      "_corr_coeff: to eval: x: 03-05_s:MRIAvailable_c y: 20-04:BayleyIIIMotorComposite valid_x: 327 valid_y: 415\n",
      "_corr_coeff: done: x: 03-05_s:MRIAvailable_c y: 20-04:BayleyIIIMotorComposite\n"
     ]
    },
    {
     "name": "stderr",
     "output_type": "stream",
     "text": [
      "\r",
      " 55%|█████▍    | 184/336 [00:39<00:32,  4.71it/s]"
     ]
    },
    {
     "name": "stdout",
     "output_type": "stream",
     "text": [
      "_corr_coeff: to eval: x: 03-05_s:MRIObtain y: 20-10:moderateSevereDisabilityOrDeath valid_x: 148 valid_y: 504\n",
      "_corr_coeff: done: x: 03-05_s:MRIObtain y: 20-10:moderateSevereDisabilityOrDeath\n",
      "_corr_coeff: to eval: x: 03-05_s:MRIObtain y: 20-10:disabilityLevelDeath4Category valid_x: 148 valid_y: 498\n",
      "_corr_coeff: done: x: 03-05_s:MRIObtain y: 20-10:disabilityLevelDeath4Category\n",
      "_corr_coeff: to eval: x: 03-05_s:MRIObtain y: 20-10_1:disabilityLevelDeath valid_x: 148 valid_y: 498\n",
      "_corr_coeff: done: x: 03-05_s:MRIObtain y: 20-10_1:disabilityLevelDeath\n",
      "_corr_coeff: to eval: x: 03-05_s:MRIObtain y: 20-04:BayleyIIICognitiveComposite valid_x: 148 valid_y: 421\n",
      "_corr_coeff: done: x: 03-05_s:MRIObtain y: 20-04:BayleyIIICognitiveComposite\n",
      "_corr_coeff: to eval: x: 03-05_s:MRIObtain y: 20-04:BayleyIIILanguageComposite valid_x: 148 valid_y: 411\n",
      "_corr_coeff: done: x: 03-05_s:MRIObtain y: 20-04:BayleyIIILanguageComposite\n",
      "_corr_coeff: to eval: x: 03-05_s:MRIObtain y: 20-04:BayleyIIIMotorComposite valid_x: 148 valid_y: 415\n",
      "_corr_coeff: done: x: 03-05_s:MRIObtain y: 20-04:BayleyIIIMotorComposite\n"
     ]
    },
    {
     "name": "stderr",
     "output_type": "stream",
     "text": [
      "\r",
      " 55%|█████▌    | 185/336 [00:40<00:32,  4.71it/s]"
     ]
    },
    {
     "name": "stdout",
     "output_type": "stream",
     "text": [
      "_corr_coeff: to eval: x: 03-05_s:MRI2LevelPatternOfInjury y: 20-10:moderateSevereDisabilityOrDeath valid_x: 426 valid_y: 504\n",
      "_corr_coeff: done: x: 03-05_s:MRI2LevelPatternOfInjury y: 20-10:moderateSevereDisabilityOrDeath\n",
      "_corr_coeff: to eval: x: 03-05_s:MRI2LevelPatternOfInjury y: 20-10:disabilityLevelDeath4Category valid_x: 426 valid_y: 498\n",
      "_corr_coeff: done: x: 03-05_s:MRI2LevelPatternOfInjury y: 20-10:disabilityLevelDeath4Category\n",
      "_corr_coeff: to eval: x: 03-05_s:MRI2LevelPatternOfInjury y: 20-10_1:disabilityLevelDeath valid_x: 426 valid_y: 498\n",
      "_corr_coeff: done: x: 03-05_s:MRI2LevelPatternOfInjury y: 20-10_1:disabilityLevelDeath\n",
      "_corr_coeff: to eval: x: 03-05_s:MRI2LevelPatternOfInjury y: 20-04:BayleyIIICognitiveComposite valid_x: 426 valid_y: 421\n",
      "_corr_coeff: done: x: 03-05_s:MRI2LevelPatternOfInjury y: 20-04:BayleyIIICognitiveComposite\n",
      "_corr_coeff: to eval: x: 03-05_s:MRI2LevelPatternOfInjury y: 20-04:BayleyIIILanguageComposite valid_x: 426 valid_y: 411\n",
      "_corr_coeff: done: x: 03-05_s:MRI2LevelPatternOfInjury y: 20-04:BayleyIIILanguageComposite\n",
      "_corr_coeff: to eval: x: 03-05_s:MRI2LevelPatternOfInjury y: 20-04:BayleyIIIMotorComposite valid_x: 426 valid_y: 415\n",
      "_corr_coeff: done: x: 03-05_s:MRI2LevelPatternOfInjury y: 20-04:BayleyIIIMotorComposite\n",
      "_corr_coeff: to eval: x: 03-05_s:MRIAge_day y: 20-10:moderateSevereDisabilityOrDeath valid_x: 426 valid_y: 504\n",
      "_corr_coeff: done: x: 03-05_s:MRIAge_day y: 20-10:moderateSevereDisabilityOrDeath\n"
     ]
    },
    {
     "name": "stderr",
     "output_type": "stream",
     "text": [
      "\r",
      " 55%|█████▌    | 186/336 [00:40<00:33,  4.50it/s]"
     ]
    },
    {
     "name": "stdout",
     "output_type": "stream",
     "text": [
      "_corr_coeff: to eval: x: 03-05_s:MRIAge_day y: 20-10:disabilityLevelDeath4Category valid_x: 426 valid_y: 498\n",
      "_corr_coeff: done: x: 03-05_s:MRIAge_day y: 20-10:disabilityLevelDeath4Category\n",
      "_corr_coeff: to eval: x: 03-05_s:MRIAge_day y: 20-10_1:disabilityLevelDeath valid_x: 426 valid_y: 498\n",
      "_corr_coeff: done: x: 03-05_s:MRIAge_day y: 20-10_1:disabilityLevelDeath\n",
      "_corr_coeff: to eval: x: 03-05_s:MRIAge_day y: 20-04:BayleyIIICognitiveComposite valid_x: 426 valid_y: 421\n",
      "_corr_coeff: done: x: 03-05_s:MRIAge_day y: 20-04:BayleyIIICognitiveComposite\n",
      "_corr_coeff: to eval: x: 03-05_s:MRIAge_day y: 20-04:BayleyIIILanguageComposite valid_x: 426 valid_y: 411\n",
      "_corr_coeff: done: x: 03-05_s:MRIAge_day y: 20-04:BayleyIIILanguageComposite\n",
      "_corr_coeff: to eval: x: 03-05_s:MRIAge_day y: 20-04:BayleyIIIMotorComposite valid_x: 426 valid_y: 415\n",
      "_corr_coeff: done: x: 03-05_s:MRIAge_day y: 20-04:BayleyIIIMotorComposite\n",
      "_corr_coeff: to eval: x: 03-05_s:MRIOverallDiagnosisMerge y: 20-10:moderateSevereDisabilityOrDeath valid_x: 298 valid_y: 504\n",
      "_corr_coeff: done: x: 03-05_s:MRIOverallDiagnosisMerge y: 20-10:moderateSevereDisabilityOrDeath\n",
      "_corr_coeff: to eval: x: 03-05_s:MRIOverallDiagnosisMerge y: 20-10:disabilityLevelDeath4Category valid_x: 298 valid_y: 498\n",
      "_corr_coeff: done: x: 03-05_s:MRIOverallDiagnosisMerge y: 20-10:disabilityLevelDeath4Category\n"
     ]
    },
    {
     "name": "stderr",
     "output_type": "stream",
     "text": [
      "\r",
      " 56%|█████▌    | 187/336 [00:40<00:31,  4.80it/s]"
     ]
    },
    {
     "name": "stdout",
     "output_type": "stream",
     "text": [
      "_corr_coeff: to eval: x: 03-05_s:MRIOverallDiagnosisMerge y: 20-10_1:disabilityLevelDeath valid_x: 298 valid_y: 498\n",
      "_corr_coeff: done: x: 03-05_s:MRIOverallDiagnosisMerge y: 20-10_1:disabilityLevelDeath\n",
      "_corr_coeff: to eval: x: 03-05_s:MRIOverallDiagnosisMerge y: 20-04:BayleyIIICognitiveComposite valid_x: 298 valid_y: 421\n",
      "_corr_coeff: done: x: 03-05_s:MRIOverallDiagnosisMerge y: 20-04:BayleyIIICognitiveComposite\n",
      "_corr_coeff: to eval: x: 03-05_s:MRIOverallDiagnosisMerge y: 20-04:BayleyIIILanguageComposite valid_x: 298 valid_y: 411\n",
      "_corr_coeff: done: x: 03-05_s:MRIOverallDiagnosisMerge y: 20-04:BayleyIIILanguageComposite\n",
      "_corr_coeff: to eval: x: 03-05_s:MRIOverallDiagnosisMerge y: 20-04:BayleyIIIMotorComposite valid_x: 298 valid_y: 415\n",
      "_corr_coeff: done: x: 03-05_s:MRIOverallDiagnosisMerge y: 20-04:BayleyIIIMotorComposite\n",
      "_corr_coeff: to eval: x: 03-05_s:MRINRNPatternOfInjury y: 20-10:moderateSevereDisabilityOrDeath valid_x: 426 valid_y: 504\n",
      "_corr_coeff: done: x: 03-05_s:MRINRNPatternOfInjury y: 20-10:moderateSevereDisabilityOrDeath\n",
      "_corr_coeff: to eval: x: 03-05_s:MRINRNPatternOfInjury y: 20-10:disabilityLevelDeath4Category valid_x: 426 valid_y: 498\n",
      "_corr_coeff: done: x: 03-05_s:MRINRNPatternOfInjury y: 20-10:disabilityLevelDeath4Category\n",
      "_corr_coeff: to eval: x: 03-05_s:MRINRNPatternOfInjury y: 20-10_1:disabilityLevelDeath valid_x: 426 valid_y: 498\n",
      "_corr_coeff: done: x: 03-05_s:MRINRNPatternOfInjury y: 20-10_1:disabilityLevelDeath\n"
     ]
    },
    {
     "name": "stderr",
     "output_type": "stream",
     "text": [
      "\r",
      " 56%|█████▌    | 188/336 [00:40<00:30,  4.88it/s]"
     ]
    },
    {
     "name": "stdout",
     "output_type": "stream",
     "text": [
      "_corr_coeff: to eval: x: 03-05_s:MRINRNPatternOfInjury y: 20-04:BayleyIIICognitiveComposite valid_x: 426 valid_y: 421\n",
      "_corr_coeff: done: x: 03-05_s:MRINRNPatternOfInjury y: 20-04:BayleyIIICognitiveComposite\n",
      "_corr_coeff: to eval: x: 03-05_s:MRINRNPatternOfInjury y: 20-04:BayleyIIILanguageComposite valid_x: 426 valid_y: 411\n",
      "_corr_coeff: done: x: 03-05_s:MRINRNPatternOfInjury y: 20-04:BayleyIIILanguageComposite\n",
      "_corr_coeff: to eval: x: 03-05_s:MRINRNPatternOfInjury y: 20-04:BayleyIIIMotorComposite valid_x: 426 valid_y: 415\n",
      "_corr_coeff: done: x: 03-05_s:MRINRNPatternOfInjury y: 20-04:BayleyIIIMotorComposite\n",
      "_corr_coeff: to eval: x: 03-05_s:MRIAbnormalResult y: 20-10:moderateSevereDisabilityOrDeath valid_x: 298 valid_y: 504\n",
      "_corr_coeff: done: x: 03-05_s:MRIAbnormalResult y: 20-10:moderateSevereDisabilityOrDeath\n",
      "_corr_coeff: to eval: x: 03-05_s:MRIAbnormalResult y: 20-10:disabilityLevelDeath4Category valid_x: 298 valid_y: 498\n",
      "_corr_coeff: done: x: 03-05_s:MRIAbnormalResult y: 20-10:disabilityLevelDeath4Category\n",
      "_corr_coeff: to eval: x: 03-05_s:MRIAbnormalResult y: 20-10_1:disabilityLevelDeath valid_x: 298 valid_y: 498\n",
      "_corr_coeff: done: x: 03-05_s:MRIAbnormalResult y: 20-10_1:disabilityLevelDeath\n",
      "_corr_coeff: to eval: x: 03-05_s:MRIAbnormalResult y: 20-04:BayleyIIICognitiveComposite valid_x: 298 valid_y: 421\n",
      "_corr_coeff: done: x: 03-05_s:MRIAbnormalResult y: 20-04:BayleyIIICognitiveComposite\n"
     ]
    },
    {
     "name": "stderr",
     "output_type": "stream",
     "text": [
      "\r",
      " 56%|█████▋    | 189/336 [00:40<00:28,  5.11it/s]"
     ]
    },
    {
     "name": "stderr",
     "output_type": "stream",
     "text": [
      "\r",
      " 57%|█████▋    | 190/336 [00:41<00:27,  5.29it/s]"
     ]
    },
    {
     "name": "stdout",
     "output_type": "stream",
     "text": [
      "_corr_coeff: to eval: x: 03-05_s:MRIAbnormalResult y: 20-04:BayleyIIILanguageComposite valid_x: 298 valid_y: 411\n",
      "_corr_coeff: done: x: 03-05_s:MRIAbnormalResult y: 20-04:BayleyIIILanguageComposite\n",
      "_corr_coeff: to eval: x: 03-05_s:MRIAbnormalResult y: 20-04:BayleyIIIMotorComposite valid_x: 298 valid_y: 415\n",
      "_corr_coeff: done: x: 03-05_s:MRIAbnormalResult y: 20-04:BayleyIIIMotorComposite\n",
      "_corr_coeff: to eval: x: 03-05_s:MRINRNPatternOfInjuryWSvsBGTPLIC y: 20-10:moderateSevereDisabilityOrDeath valid_x: 296 valid_y: 504\n",
      "_corr_coeff: done: x: 03-05_s:MRINRNPatternOfInjuryWSvsBGTPLIC y: 20-10:moderateSevereDisabilityOrDeath\n",
      "_corr_coeff: to eval: x: 03-05_s:MRINRNPatternOfInjuryWSvsBGTPLIC y: 20-10:disabilityLevelDeath4Category valid_x: 296 valid_y: 498\n",
      "_corr_coeff: done: x: 03-05_s:MRINRNPatternOfInjuryWSvsBGTPLIC y: 20-10:disabilityLevelDeath4Category\n",
      "_corr_coeff: to eval: x: 03-05_s:MRINRNPatternOfInjuryWSvsBGTPLIC y: 20-10_1:disabilityLevelDeath valid_x: 296 valid_y: 498\n",
      "_corr_coeff: done: x: 03-05_s:MRINRNPatternOfInjuryWSvsBGTPLIC y: 20-10_1:disabilityLevelDeath\n",
      "_corr_coeff: to eval: x: 03-05_s:MRINRNPatternOfInjuryWSvsBGTPLIC y: 20-04:BayleyIIICognitiveComposite valid_x: 296 valid_y: 421\n",
      "_corr_coeff: done: x: 03-05_s:MRINRNPatternOfInjuryWSvsBGTPLIC y: 20-04:BayleyIIICognitiveComposite\n",
      "_corr_coeff: to eval: x: 03-05_s:MRINRNPatternOfInjuryWSvsBGTPLIC y: 20-04:BayleyIIILanguageComposite valid_x: 296 valid_y: 411\n",
      "_corr_coeff: done: x: 03-05_s:MRINRNPatternOfInjuryWSvsBGTPLIC y: 20-04:BayleyIIILanguageComposite\n",
      "_corr_coeff: to eval: x: 03-05_s:MRINRNPatternOfInjuryWSvsBGTPLIC y: 20-04:BayleyIIIMotorComposite valid_x: 296 valid_y: 415\n",
      "_corr_coeff: done: x: 03-05_s:MRINRNPatternOfInjuryWSvsBGTPLIC y: 20-04:BayleyIIIMotorComposite\n"
     ]
    },
    {
     "name": "stderr",
     "output_type": "stream",
     "text": [
      "\r",
      " 57%|█████▋    | 191/336 [00:41<00:26,  5.39it/s]"
     ]
    },
    {
     "name": "stdout",
     "output_type": "stream",
     "text": [
      "_corr_coeff: to eval: x: 03-05_s:MRICerebralLesion y: 20-10:moderateSevereDisabilityOrDeath valid_x: 298 valid_y: 504\n",
      "_corr_coeff: done: x: 03-05_s:MRICerebralLesion y: 20-10:moderateSevereDisabilityOrDeath\n",
      "_corr_coeff: to eval: x: 03-05_s:MRICerebralLesion y: 20-10:disabilityLevelDeath4Category valid_x: 298 valid_y: 498\n",
      "_corr_coeff: done: x: 03-05_s:MRICerebralLesion y: 20-10:disabilityLevelDeath4Category\n",
      "_corr_coeff: to eval: x: 03-05_s:MRICerebralLesion y: 20-10_1:disabilityLevelDeath valid_x: 298 valid_y: 498\n",
      "_corr_coeff: done: x: 03-05_s:MRICerebralLesion y: 20-10_1:disabilityLevelDeath\n",
      "_corr_coeff: to eval: x: 03-05_s:MRICerebralLesion y: 20-04:BayleyIIICognitiveComposite valid_x: 298 valid_y: 421\n",
      "_corr_coeff: done: x: 03-05_s:MRICerebralLesion y: 20-04:BayleyIIICognitiveComposite\n",
      "_corr_coeff: to eval: x: 03-05_s:MRICerebralLesion y: 20-04:BayleyIIILanguageComposite valid_x: 298 valid_y: 411\n",
      "_corr_coeff: done: x: 03-05_s:MRICerebralLesion y: 20-04:BayleyIIILanguageComposite\n",
      "_corr_coeff: to eval: x: 03-05_s:MRICerebralLesion y: 20-04:BayleyIIIMotorComposite valid_x: 298 valid_y: 415\n",
      "_corr_coeff: done: x: 03-05_s:MRICerebralLesion y: 20-04:BayleyIIIMotorComposite\n",
      "_corr_coeff: to eval: x: 03-05_s:MRICerebellarLesion y: 20-10:moderateSevereDisabilityOrDeath valid_x: 298 valid_y: 504\n",
      "_corr_coeff: done: x: 03-05_s:MRICerebellarLesion y: 20-10:moderateSevereDisabilityOrDeath\n",
      "_corr_coeff: to eval: x: 03-05_s:MRICerebellarLesion y: 20-10:disabilityLevelDeath4Category valid_x: 298 valid_y: 498\n",
      "_corr_coeff: done: x: 03-05_s:MRICerebellarLesion y: 20-10:disabilityLevelDeath4Category\n"
     ]
    },
    {
     "name": "stderr",
     "output_type": "stream",
     "text": [
      "\r",
      " 57%|█████▋    | 192/336 [00:41<00:28,  5.07it/s]"
     ]
    },
    {
     "name": "stdout",
     "output_type": "stream",
     "text": [
      "_corr_coeff: to eval: x: 03-05_s:MRICerebellarLesion y: 20-10_1:disabilityLevelDeath valid_x: 298 valid_y: 498\n",
      "_corr_coeff: done: x: 03-05_s:MRICerebellarLesion y: 20-10_1:disabilityLevelDeath\n",
      "_corr_coeff: to eval: x: 03-05_s:MRICerebellarLesion y: 20-04:BayleyIIICognitiveComposite valid_x: 298 valid_y: 421\n",
      "_corr_coeff: done: x: 03-05_s:MRICerebellarLesion y: 20-04:BayleyIIICognitiveComposite\n",
      "_corr_coeff: to eval: x: 03-05_s:MRICerebellarLesion y: 20-04:BayleyIIILanguageComposite valid_x: 298 valid_y: 411\n",
      "_corr_coeff: done: x: 03-05_s:MRICerebellarLesion y: 20-04:BayleyIIILanguageComposite\n",
      "_corr_coeff: to eval: x: 03-05_s:MRICerebellarLesion y: 20-04:BayleyIIIMotorComposite valid_x: 298 valid_y: 415\n",
      "_corr_coeff: done: x: 03-05_s:MRICerebellarLesion y: 20-04:BayleyIIIMotorComposite\n",
      "_corr_coeff: to eval: x: 03-05_s:MRIBasalGangliaLesion y: 20-10:moderateSevereDisabilityOrDeath valid_x: 298 valid_y: 504\n",
      "_corr_coeff: done: x: 03-05_s:MRIBasalGangliaLesion y: 20-10:moderateSevereDisabilityOrDeath\n",
      "_corr_coeff: to eval: x: 03-05_s:MRIBasalGangliaLesion y: 20-10:disabilityLevelDeath4Category valid_x: 298 valid_y: 498\n",
      "_corr_coeff: done: x: 03-05_s:MRIBasalGangliaLesion y: 20-10:disabilityLevelDeath4Category\n",
      "_corr_coeff: to eval: x: 03-05_s:MRIBasalGangliaLesion y: 20-10_1:disabilityLevelDeath valid_x: 298 valid_y: 498\n",
      "_corr_coeff: done: x: 03-05_s:MRIBasalGangliaLesion y: 20-10_1:disabilityLevelDeath\n"
     ]
    },
    {
     "name": "stderr",
     "output_type": "stream",
     "text": [
      "\r",
      " 57%|█████▋    | 193/336 [00:41<00:27,  5.23it/s]"
     ]
    },
    {
     "name": "stdout",
     "output_type": "stream",
     "text": [
      "_corr_coeff: to eval: x: 03-05_s:MRIBasalGangliaLesion y: 20-04:BayleyIIICognitiveComposite valid_x: 298 valid_y: 421\n",
      "_corr_coeff: done: x: 03-05_s:MRIBasalGangliaLesion y: 20-04:BayleyIIICognitiveComposite\n",
      "_corr_coeff: to eval: x: 03-05_s:MRIBasalGangliaLesion y: 20-04:BayleyIIILanguageComposite valid_x: 298 valid_y: 411\n",
      "_corr_coeff: done: x: 03-05_s:MRIBasalGangliaLesion y: 20-04:BayleyIIILanguageComposite\n",
      "_corr_coeff: to eval: x: 03-05_s:MRIBasalGangliaLesion y: 20-04:BayleyIIIMotorComposite valid_x: 298 valid_y: 415\n",
      "_corr_coeff: done: x: 03-05_s:MRIBasalGangliaLesion y: 20-04:BayleyIIIMotorComposite\n",
      "_corr_coeff: to eval: x: 03-05_s:MRIBrainstemLesion y: 20-10:moderateSevereDisabilityOrDeath valid_x: 298 valid_y: 504\n",
      "_corr_coeff: done: x: 03-05_s:MRIBrainstemLesion y: 20-10:moderateSevereDisabilityOrDeath\n",
      "_corr_coeff: to eval: x: 03-05_s:MRIBrainstemLesion y: 20-10:disabilityLevelDeath4Category valid_x: 298 valid_y: 498\n",
      "_corr_coeff: done: x: 03-05_s:MRIBrainstemLesion y: 20-10:disabilityLevelDeath4Category\n",
      "_corr_coeff: to eval: x: 03-05_s:MRIBrainstemLesion y: 20-10_1:disabilityLevelDeath valid_x: 298 valid_y: 498\n",
      "_corr_coeff: done: x: 03-05_s:MRIBrainstemLesion y: 20-10_1:disabilityLevelDeath\n",
      "_corr_coeff: to eval: x: 03-05_s:MRIBrainstemLesion y: 20-04:BayleyIIICognitiveComposite valid_x: 298 valid_y: 421\n",
      "_corr_coeff: done: x: 03-05_s:MRIBrainstemLesion y: 20-04:BayleyIIICognitiveComposite\n",
      "_corr_coeff: to eval: x: 03-05_s:MRIBrainstemLesion y: 20-04:BayleyIIILanguageComposite valid_x: 298 valid_y: 411\n",
      "_corr_coeff: done: x: 03-05_s:MRIBrainstemLesion y: 20-04:BayleyIIILanguageComposite\n"
     ]
    },
    {
     "name": "stderr",
     "output_type": "stream",
     "text": [
      "\r",
      " 58%|█████▊    | 194/336 [00:41<00:26,  5.36it/s]"
     ]
    },
    {
     "name": "stdout",
     "output_type": "stream",
     "text": [
      "_corr_coeff: to eval: x: 03-05_s:MRIBrainstemLesion y: 20-04:BayleyIIIMotorComposite valid_x: 298 valid_y: 415\n",
      "_corr_coeff: done: x: 03-05_s:MRIBrainstemLesion y: 20-04:BayleyIIIMotorComposite\n",
      "_corr_coeff: to eval: x: 03-05_s:MRICorpusCallosumLesion y: 20-10:moderateSevereDisabilityOrDeath valid_x: 298 valid_y: 504\n",
      "_corr_coeff: done: x: 03-05_s:MRICorpusCallosumLesion y: 20-10:moderateSevereDisabilityOrDeath\n",
      "_corr_coeff: to eval: x: 03-05_s:MRICorpusCallosumLesion y: 20-10:disabilityLevelDeath4Category valid_x: 298 valid_y: 498\n",
      "_corr_coeff: done: x: 03-05_s:MRICorpusCallosumLesion y: 20-10:disabilityLevelDeath4Category\n",
      "_corr_coeff: to eval: x: 03-05_s:MRICorpusCallosumLesion y: 20-10_1:disabilityLevelDeath valid_x: 298 valid_y: 498\n",
      "_corr_coeff: done: x: 03-05_s:MRICorpusCallosumLesion y: 20-10_1:disabilityLevelDeath\n",
      "_corr_coeff: to eval: x: 03-05_s:MRICorpusCallosumLesion y: 20-04:BayleyIIICognitiveComposite valid_x: 298 valid_y: 421\n",
      "_corr_coeff: done: x: 03-05_s:MRICorpusCallosumLesion y: 20-04:BayleyIIICognitiveComposite\n",
      "_corr_coeff: to eval: x: 03-05_s:MRICorpusCallosumLesion y: 20-04:BayleyIIILanguageComposite valid_x: 298 valid_y: 411\n",
      "_corr_coeff: done: x: 03-05_s:MRICorpusCallosumLesion y: 20-04:BayleyIIILanguageComposite\n"
     ]
    },
    {
     "name": "stderr",
     "output_type": "stream",
     "text": [
      "\r",
      " 58%|█████▊    | 195/336 [00:42<00:28,  5.01it/s]"
     ]
    },
    {
     "name": "stderr",
     "output_type": "stream",
     "text": [
      "\r",
      " 58%|█████▊    | 196/336 [00:42<00:26,  5.20it/s]"
     ]
    },
    {
     "name": "stdout",
     "output_type": "stream",
     "text": [
      "_corr_coeff: to eval: x: 03-05_s:MRICorpusCallosumLesion y: 20-04:BayleyIIIMotorComposite valid_x: 298 valid_y: 415\n",
      "_corr_coeff: done: x: 03-05_s:MRICorpusCallosumLesion y: 20-04:BayleyIIIMotorComposite\n",
      "_corr_coeff: to eval: x: 03-05_s:MRICerebralLesionLobe y: 20-10:moderateSevereDisabilityOrDeath valid_x: 298 valid_y: 504\n",
      "_corr_coeff: done: x: 03-05_s:MRICerebralLesionLobe y: 20-10:moderateSevereDisabilityOrDeath\n",
      "_corr_coeff: to eval: x: 03-05_s:MRICerebralLesionLobe y: 20-10:disabilityLevelDeath4Category valid_x: 298 valid_y: 498\n",
      "_corr_coeff: done: x: 03-05_s:MRICerebralLesionLobe y: 20-10:disabilityLevelDeath4Category\n",
      "_corr_coeff: to eval: x: 03-05_s:MRICerebralLesionLobe y: 20-10_1:disabilityLevelDeath valid_x: 298 valid_y: 498\n",
      "_corr_coeff: done: x: 03-05_s:MRICerebralLesionLobe y: 20-10_1:disabilityLevelDeath\n",
      "_corr_coeff: to eval: x: 03-05_s:MRICerebralLesionLobe y: 20-04:BayleyIIICognitiveComposite valid_x: 298 valid_y: 421\n",
      "_corr_coeff: done: x: 03-05_s:MRICerebralLesionLobe y: 20-04:BayleyIIICognitiveComposite\n",
      "_corr_coeff: to eval: x: 03-05_s:MRICerebralLesionLobe y: 20-04:BayleyIIILanguageComposite valid_x: 298 valid_y: 411\n",
      "_corr_coeff: done: x: 03-05_s:MRICerebralLesionLobe y: 20-04:BayleyIIILanguageComposite\n",
      "_corr_coeff: to eval: x: 03-05_s:MRICerebralLesionLobe y: 20-04:BayleyIIIMotorComposite valid_x: 298 valid_y: 415\n",
      "_corr_coeff: done: x: 03-05_s:MRICerebralLesionLobe y: 20-04:BayleyIIIMotorComposite\n"
     ]
    },
    {
     "name": "stdout",
     "output_type": "stream",
     "text": [
      "_corr_coeff: to eval: x: 03-05_s:MRICoronaRadiataLesion y: 20-10:moderateSevereDisabilityOrDeath valid_x: 298 valid_y: 504\n",
      "_corr_coeff: done: x: 03-05_s:MRICoronaRadiataLesion y: 20-10:moderateSevereDisabilityOrDeath\n",
      "_corr_coeff: to eval: x: 03-05_s:MRICoronaRadiataLesion y: 20-10:disabilityLevelDeath4Category valid_x: 298 valid_y: 498\n",
      "_corr_coeff: done: x: 03-05_s:MRICoronaRadiataLesion y: 20-10:disabilityLevelDeath4Category\n",
      "_corr_coeff: to eval: x: 03-05_s:MRICoronaRadiataLesion y: 20-10_1:disabilityLevelDeath valid_x: 298 valid_y: 498\n",
      "_corr_coeff: done: x: 03-05_s:MRICoronaRadiataLesion y: 20-10_1:disabilityLevelDeath\n",
      "_corr_coeff: to eval: x: 03-05_s:MRICoronaRadiataLesion y: 20-04:BayleyIIICognitiveComposite valid_x: 298 valid_y: 421\n",
      "_corr_coeff: done: x: 03-05_s:MRICoronaRadiataLesion y: 20-04:BayleyIIICognitiveComposite\n",
      "_corr_coeff: to eval: x: 03-05_s:MRICoronaRadiataLesion y: 20-04:BayleyIIILanguageComposite valid_x: 298 valid_y: 411\n",
      "_corr_coeff: done: x: 03-05_s:MRICoronaRadiataLesion y: 20-04:BayleyIIILanguageComposite\n",
      "_corr_coeff: to eval: x: 03-05_s:MRICoronaRadiataLesion y: 20-04:BayleyIIIMotorComposite valid_x: 298 valid_y: 415\n",
      "_corr_coeff: done: x: 03-05_s:MRICoronaRadiataLesion y: 20-04:BayleyIIIMotorComposite\n"
     ]
    },
    {
     "name": "stderr",
     "output_type": "stream",
     "text": [
      "\r",
      " 59%|█████▊    | 197/336 [00:42<00:28,  4.90it/s]"
     ]
    },
    {
     "name": "stderr",
     "output_type": "stream",
     "text": [
      "\r",
      " 59%|█████▉    | 198/336 [00:42<00:26,  5.12it/s]"
     ]
    },
    {
     "name": "stdout",
     "output_type": "stream",
     "text": [
      "_corr_coeff: to eval: x: 03-05_s:MRIEdema y: 20-10:moderateSevereDisabilityOrDeath valid_x: 298 valid_y: 504\n",
      "_corr_coeff: done: x: 03-05_s:MRIEdema y: 20-10:moderateSevereDisabilityOrDeath\n",
      "_corr_coeff: to eval: x: 03-05_s:MRIEdema y: 20-10:disabilityLevelDeath4Category valid_x: 298 valid_y: 498\n",
      "_corr_coeff: done: x: 03-05_s:MRIEdema y: 20-10:disabilityLevelDeath4Category\n",
      "_corr_coeff: to eval: x: 03-05_s:MRIEdema y: 20-10_1:disabilityLevelDeath valid_x: 298 valid_y: 498\n",
      "_corr_coeff: done: x: 03-05_s:MRIEdema y: 20-10_1:disabilityLevelDeath\n",
      "_corr_coeff: to eval: x: 03-05_s:MRIEdema y: 20-04:BayleyIIICognitiveComposite valid_x: 298 valid_y: 421\n",
      "_corr_coeff: done: x: 03-05_s:MRIEdema y: 20-04:BayleyIIICognitiveComposite\n",
      "_corr_coeff: to eval: x: 03-05_s:MRIEdema y: 20-04:BayleyIIILanguageComposite valid_x: 298 valid_y: 411\n",
      "_corr_coeff: done: x: 03-05_s:MRIEdema y: 20-04:BayleyIIILanguageComposite\n",
      "_corr_coeff: to eval: x: 03-05_s:MRIEdema y: 20-04:BayleyIIIMotorComposite valid_x: 298 valid_y: 415\n",
      "_corr_coeff: done: x: 03-05_s:MRIEdema y: 20-04:BayleyIIIMotorComposite\n",
      "_corr_coeff: to eval: x: 03-05_s:MRIExtraAxialLesion y: 20-10:moderateSevereDisabilityOrDeath valid_x: 298 valid_y: 504\n",
      "_corr_coeff: done: x: 03-05_s:MRIExtraAxialLesion y: 20-10:moderateSevereDisabilityOrDeath\n"
     ]
    },
    {
     "name": "stderr",
     "output_type": "stream",
     "text": [
      "\r",
      " 59%|█████▉    | 199/336 [00:42<00:28,  4.84it/s]"
     ]
    },
    {
     "name": "stdout",
     "output_type": "stream",
     "text": [
      "_corr_coeff: to eval: x: 03-05_s:MRIExtraAxialLesion y: 20-10:disabilityLevelDeath4Category valid_x: 298 valid_y: 498\n",
      "_corr_coeff: done: x: 03-05_s:MRIExtraAxialLesion y: 20-10:disabilityLevelDeath4Category\n",
      "_corr_coeff: to eval: x: 03-05_s:MRIExtraAxialLesion y: 20-10_1:disabilityLevelDeath valid_x: 298 valid_y: 498\n",
      "_corr_coeff: done: x: 03-05_s:MRIExtraAxialLesion y: 20-10_1:disabilityLevelDeath\n",
      "_corr_coeff: to eval: x: 03-05_s:MRIExtraAxialLesion y: 20-04:BayleyIIICognitiveComposite valid_x: 298 valid_y: 421\n",
      "_corr_coeff: done: x: 03-05_s:MRIExtraAxialLesion y: 20-04:BayleyIIICognitiveComposite\n",
      "_corr_coeff: to eval: x: 03-05_s:MRIExtraAxialLesion y: 20-04:BayleyIIILanguageComposite valid_x: 298 valid_y: 411\n",
      "_corr_coeff: done: x: 03-05_s:MRIExtraAxialLesion y: 20-04:BayleyIIILanguageComposite\n",
      "_corr_coeff: to eval: x: 03-05_s:MRIExtraAxialLesion y: 20-04:BayleyIIIMotorComposite valid_x: 298 valid_y: 415\n",
      "_corr_coeff: done: x: 03-05_s:MRIExtraAxialLesion y: 20-04:BayleyIIIMotorComposite\n",
      "_corr_coeff: to eval: x: 03-05_s:MRIExtent y: 20-10:moderateSevereDisabilityOrDeath valid_x: 169 valid_y: 504\n",
      "_corr_coeff: done: x: 03-05_s:MRIExtent y: 20-10:moderateSevereDisabilityOrDeath\n"
     ]
    },
    {
     "name": "stderr",
     "output_type": "stream",
     "text": [
      "\r",
      " 60%|█████▉    | 200/336 [00:43<00:26,  5.18it/s]"
     ]
    },
    {
     "name": "stdout",
     "output_type": "stream",
     "text": [
      "_corr_coeff: to eval: x: 03-05_s:MRIExtent y: 20-10:disabilityLevelDeath4Category valid_x: 169 valid_y: 498\n",
      "_corr_coeff: done: x: 03-05_s:MRIExtent y: 20-10:disabilityLevelDeath4Category\n",
      "_corr_coeff: to eval: x: 03-05_s:MRIExtent y: 20-10_1:disabilityLevelDeath valid_x: 169 valid_y: 498\n",
      "_corr_coeff: done: x: 03-05_s:MRIExtent y: 20-10_1:disabilityLevelDeath\n",
      "_corr_coeff: to eval: x: 03-05_s:MRIExtent y: 20-04:BayleyIIICognitiveComposite valid_x: 169 valid_y: 421\n",
      "_corr_coeff: done: x: 03-05_s:MRIExtent y: 20-04:BayleyIIICognitiveComposite\n",
      "_corr_coeff: to eval: x: 03-05_s:MRIExtent y: 20-04:BayleyIIILanguageComposite valid_x: 169 valid_y: 411\n",
      "_corr_coeff: done: x: 03-05_s:MRIExtent y: 20-04:BayleyIIILanguageComposite\n",
      "_corr_coeff: to eval: x: 03-05_s:MRIExtent y: 20-04:BayleyIIIMotorComposite valid_x: 169 valid_y: 415\n",
      "_corr_coeff: done: x: 03-05_s:MRIExtent y: 20-04:BayleyIIIMotorComposite\n",
      "_corr_coeff: to eval: x: 03-05_s:MRIFrontalParietalLesion y: 20-10:moderateSevereDisabilityOrDeath valid_x: 298 valid_y: 504\n",
      "_corr_coeff: done: x: 03-05_s:MRIFrontalParietalLesion y: 20-10:moderateSevereDisabilityOrDeath\n",
      "_corr_coeff: to eval: x: 03-05_s:MRIFrontalParietalLesion y: 20-10:disabilityLevelDeath4Category valid_x: 298 valid_y: 498\n",
      "_corr_coeff: done: x: 03-05_s:MRIFrontalParietalLesion y: 20-10:disabilityLevelDeath4Category\n"
     ]
    },
    {
     "name": "stderr",
     "output_type": "stream",
     "text": [
      "\r",
      " 60%|█████▉    | 201/336 [00:43<00:27,  4.87it/s]"
     ]
    },
    {
     "name": "stdout",
     "output_type": "stream",
     "text": [
      "_corr_coeff: to eval: x: 03-05_s:MRIFrontalParietalLesion y: 20-10_1:disabilityLevelDeath valid_x: 298 valid_y: 498\n",
      "_corr_coeff: done: x: 03-05_s:MRIFrontalParietalLesion y: 20-10_1:disabilityLevelDeath\n",
      "_corr_coeff: to eval: x: 03-05_s:MRIFrontalParietalLesion y: 20-04:BayleyIIICognitiveComposite valid_x: 298 valid_y: 421\n",
      "_corr_coeff: done: x: 03-05_s:MRIFrontalParietalLesion y: 20-04:BayleyIIICognitiveComposite\n",
      "_corr_coeff: to eval: x: 03-05_s:MRIFrontalParietalLesion y: 20-04:BayleyIIILanguageComposite valid_x: 298 valid_y: 411\n",
      "_corr_coeff: done: x: 03-05_s:MRIFrontalParietalLesion y: 20-04:BayleyIIILanguageComposite\n",
      "_corr_coeff: to eval: x: 03-05_s:MRIFrontalParietalLesion y: 20-04:BayleyIIIMotorComposite valid_x: 298 valid_y: 415\n",
      "_corr_coeff: done: x: 03-05_s:MRIFrontalParietalLesion y: 20-04:BayleyIIIMotorComposite\n",
      "_corr_coeff: to eval: x: 03-05_s:MRIFrontalLesion y: 20-10:moderateSevereDisabilityOrDeath valid_x: 298 valid_y: 504\n",
      "_corr_coeff: done: x: 03-05_s:MRIFrontalLesion y: 20-10:moderateSevereDisabilityOrDeath\n",
      "_corr_coeff: to eval: x: 03-05_s:MRIFrontalLesion y: 20-10:disabilityLevelDeath4Category valid_x: 298 valid_y: 498\n",
      "_corr_coeff: done: x: 03-05_s:MRIFrontalLesion y: 20-10:disabilityLevelDeath4Category\n",
      "_corr_coeff: to eval: x: 03-05_s:MRIFrontalLesion y: 20-10_1:disabilityLevelDeath valid_x: 298 valid_y: 498\n",
      "_corr_coeff: done: x: 03-05_s:MRIFrontalLesion y: 20-10_1:disabilityLevelDeath\n"
     ]
    },
    {
     "name": "stderr",
     "output_type": "stream",
     "text": [
      "\r",
      " 60%|██████    | 202/336 [00:43<00:26,  5.05it/s]"
     ]
    },
    {
     "name": "stdout",
     "output_type": "stream",
     "text": [
      "_corr_coeff: to eval: x: 03-05_s:MRIFrontalLesion y: 20-04:BayleyIIICognitiveComposite valid_x: 298 valid_y: 421\n",
      "_corr_coeff: done: x: 03-05_s:MRIFrontalLesion y: 20-04:BayleyIIICognitiveComposite\n",
      "_corr_coeff: to eval: x: 03-05_s:MRIFrontalLesion y: 20-04:BayleyIIILanguageComposite valid_x: 298 valid_y: 411\n",
      "_corr_coeff: done: x: 03-05_s:MRIFrontalLesion y: 20-04:BayleyIIILanguageComposite\n",
      "_corr_coeff: to eval: x: 03-05_s:MRIFrontalLesion y: 20-04:BayleyIIIMotorComposite valid_x: 298 valid_y: 415\n",
      "_corr_coeff: done: x: 03-05_s:MRIFrontalLesion y: 20-04:BayleyIIIMotorComposite\n",
      "_corr_coeff: to eval: x: 03-05_s:MRIHippocampusLesion y: 20-10:moderateSevereDisabilityOrDeath valid_x: 298 valid_y: 504\n",
      "_corr_coeff: done: x: 03-05_s:MRIHippocampusLesion y: 20-10:moderateSevereDisabilityOrDeath\n",
      "_corr_coeff: to eval: x: 03-05_s:MRIHippocampusLesion y: 20-10:disabilityLevelDeath4Category valid_x: 298 valid_y: 498\n",
      "_corr_coeff: done: x: 03-05_s:MRIHippocampusLesion y: 20-10:disabilityLevelDeath4Category\n",
      "_corr_coeff: to eval: x: 03-05_s:MRIHippocampusLesion y: 20-10_1:disabilityLevelDeath valid_x: 298 valid_y: 498\n",
      "_corr_coeff: done: x: 03-05_s:MRIHippocampusLesion y: 20-10_1:disabilityLevelDeath\n"
     ]
    },
    {
     "name": "stderr",
     "output_type": "stream",
     "text": [
      "\r",
      " 60%|██████    | 203/336 [00:43<00:27,  4.81it/s]"
     ]
    },
    {
     "name": "stdout",
     "output_type": "stream",
     "text": [
      "_corr_coeff: to eval: x: 03-05_s:MRIHippocampusLesion y: 20-04:BayleyIIICognitiveComposite valid_x: 298 valid_y: 421\n",
      "_corr_coeff: done: x: 03-05_s:MRIHippocampusLesion y: 20-04:BayleyIIICognitiveComposite\n",
      "_corr_coeff: to eval: x: 03-05_s:MRIHippocampusLesion y: 20-04:BayleyIIILanguageComposite valid_x: 298 valid_y: 411\n",
      "_corr_coeff: done: x: 03-05_s:MRIHippocampusLesion y: 20-04:BayleyIIILanguageComposite\n",
      "_corr_coeff: to eval: x: 03-05_s:MRIHippocampusLesion y: 20-04:BayleyIIIMotorComposite valid_x: 298 valid_y: 415\n",
      "_corr_coeff: done: x: 03-05_s:MRIHippocampusLesion y: 20-04:BayleyIIIMotorComposite\n",
      "_corr_coeff: to eval: x: 03-05_s:MRIHypothalamusLesion y: 20-10:moderateSevereDisabilityOrDeath valid_x: 298 valid_y: 504\n",
      "_corr_coeff: done: x: 03-05_s:MRIHypothalamusLesion y: 20-10:moderateSevereDisabilityOrDeath\n",
      "_corr_coeff: to eval: x: 03-05_s:MRIHypothalamusLesion y: 20-10:disabilityLevelDeath4Category valid_x: 298 valid_y: 498\n",
      "_corr_coeff: done: x: 03-05_s:MRIHypothalamusLesion y: 20-10:disabilityLevelDeath4Category\n",
      "_corr_coeff: to eval: x: 03-05_s:MRIHypothalamusLesion y: 20-10_1:disabilityLevelDeath valid_x: 298 valid_y: 498\n",
      "_corr_coeff: done: x: 03-05_s:MRIHypothalamusLesion y: 20-10_1:disabilityLevelDeath\n",
      "_corr_coeff: to eval: x: 03-05_s:MRIHypothalamusLesion y: 20-04:BayleyIIICognitiveComposite valid_x: 298 valid_y: 421\n",
      "_corr_coeff: done: x: 03-05_s:MRIHypothalamusLesion y: 20-04:BayleyIIICognitiveComposite\n"
     ]
    },
    {
     "name": "stderr",
     "output_type": "stream",
     "text": [
      "\r",
      " 61%|██████    | 204/336 [00:43<00:26,  5.01it/s]"
     ]
    },
    {
     "name": "stdout",
     "output_type": "stream",
     "text": [
      "_corr_coeff: to eval: x: 03-05_s:MRIHypothalamusLesion y: 20-04:BayleyIIILanguageComposite valid_x: 298 valid_y: 411\n",
      "_corr_coeff: done: x: 03-05_s:MRIHypothalamusLesion y: 20-04:BayleyIIILanguageComposite\n",
      "_corr_coeff: to eval: x: 03-05_s:MRIHypothalamusLesion y: 20-04:BayleyIIIMotorComposite valid_x: 298 valid_y: 415\n",
      "_corr_coeff: done: x: 03-05_s:MRIHypothalamusLesion y: 20-04:BayleyIIIMotorComposite\n",
      "_corr_coeff: to eval: x: 03-05_s:MRIInsularLesion y: 20-10:moderateSevereDisabilityOrDeath valid_x: 298 valid_y: 504\n",
      "_corr_coeff: done: x: 03-05_s:MRIInsularLesion y: 20-10:moderateSevereDisabilityOrDeath\n",
      "_corr_coeff: to eval: x: 03-05_s:MRIInsularLesion y: 20-10:disabilityLevelDeath4Category valid_x: 298 valid_y: 498\n",
      "_corr_coeff: done: x: 03-05_s:MRIInsularLesion y: 20-10:disabilityLevelDeath4Category\n",
      "_corr_coeff: to eval: x: 03-05_s:MRIInsularLesion y: 20-10_1:disabilityLevelDeath valid_x: 298 valid_y: 498\n",
      "_corr_coeff: done: x: 03-05_s:MRIInsularLesion y: 20-10_1:disabilityLevelDeath\n"
     ]
    },
    {
     "name": "stderr",
     "output_type": "stream",
     "text": [
      "\r",
      " 61%|██████    | 205/336 [00:44<00:27,  4.71it/s]"
     ]
    },
    {
     "name": "stdout",
     "output_type": "stream",
     "text": [
      "_corr_coeff: to eval: x: 03-05_s:MRIInsularLesion y: 20-04:BayleyIIICognitiveComposite valid_x: 298 valid_y: 421\n",
      "_corr_coeff: done: x: 03-05_s:MRIInsularLesion y: 20-04:BayleyIIICognitiveComposite\n",
      "_corr_coeff: to eval: x: 03-05_s:MRIInsularLesion y: 20-04:BayleyIIILanguageComposite valid_x: 298 valid_y: 411\n",
      "_corr_coeff: done: x: 03-05_s:MRIInsularLesion y: 20-04:BayleyIIILanguageComposite\n",
      "_corr_coeff: to eval: x: 03-05_s:MRIInsularLesion y: 20-04:BayleyIIIMotorComposite valid_x: 298 valid_y: 415\n",
      "_corr_coeff: done: x: 03-05_s:MRIInsularLesion y: 20-04:BayleyIIIMotorComposite\n",
      "_corr_coeff: to eval: x: 03-05_s:MRIBGTMerge y: 20-10:moderateSevereDisabilityOrDeath valid_x: 298 valid_y: 504\n",
      "_corr_coeff: done: x: 03-05_s:MRIBGTMerge y: 20-10:moderateSevereDisabilityOrDeath\n",
      "_corr_coeff: to eval: x: 03-05_s:MRIBGTMerge y: 20-10:disabilityLevelDeath4Category valid_x: 298 valid_y: 498\n",
      "_corr_coeff: done: x: 03-05_s:MRIBGTMerge y: 20-10:disabilityLevelDeath4Category\n",
      "_corr_coeff: to eval: x: 03-05_s:MRIBGTMerge y: 20-10_1:disabilityLevelDeath valid_x: 298 valid_y: 498\n",
      "_corr_coeff: done: x: 03-05_s:MRIBGTMerge y: 20-10_1:disabilityLevelDeath\n",
      "_corr_coeff: to eval: x: 03-05_s:MRIBGTMerge y: 20-04:BayleyIIICognitiveComposite valid_x: 298 valid_y: 421\n",
      "_corr_coeff: done: x: 03-05_s:MRIBGTMerge y: 20-04:BayleyIIICognitiveComposite\n"
     ]
    },
    {
     "name": "stderr",
     "output_type": "stream",
     "text": [
      "\r",
      " 61%|██████▏   | 206/336 [00:44<00:28,  4.56it/s]"
     ]
    },
    {
     "name": "stdout",
     "output_type": "stream",
     "text": [
      "_corr_coeff: to eval: x: 03-05_s:MRIBGTMerge y: 20-04:BayleyIIILanguageComposite valid_x: 298 valid_y: 411\n",
      "_corr_coeff: done: x: 03-05_s:MRIBGTMerge y: 20-04:BayleyIIILanguageComposite\n",
      "_corr_coeff: to eval: x: 03-05_s:MRIBGTMerge y: 20-04:BayleyIIIMotorComposite valid_x: 298 valid_y: 415\n",
      "_corr_coeff: done: x: 03-05_s:MRIBGTMerge y: 20-04:BayleyIIIMotorComposite\n",
      "_corr_coeff: to eval: x: 03-05_s:MRIPLICMerge y: 20-10:moderateSevereDisabilityOrDeath valid_x: 298 valid_y: 504\n",
      "_corr_coeff: done: x: 03-05_s:MRIPLICMerge y: 20-10:moderateSevereDisabilityOrDeath\n",
      "_corr_coeff: to eval: x: 03-05_s:MRIPLICMerge y: 20-10:disabilityLevelDeath4Category valid_x: 298 valid_y: 498\n",
      "_corr_coeff: done: x: 03-05_s:MRIPLICMerge y: 20-10:disabilityLevelDeath4Category\n",
      "_corr_coeff: to eval: x: 03-05_s:MRIPLICMerge y: 20-10_1:disabilityLevelDeath valid_x: 298 valid_y: 498\n",
      "_corr_coeff: done: x: 03-05_s:MRIPLICMerge y: 20-10_1:disabilityLevelDeath\n"
     ]
    },
    {
     "name": "stderr",
     "output_type": "stream",
     "text": [
      "\r",
      " 62%|██████▏   | 207/336 [00:44<00:26,  4.79it/s]"
     ]
    },
    {
     "name": "stdout",
     "output_type": "stream",
     "text": [
      "_corr_coeff: to eval: x: 03-05_s:MRIPLICMerge y: 20-04:BayleyIIICognitiveComposite valid_x: 298 valid_y: 421\n",
      "_corr_coeff: done: x: 03-05_s:MRIPLICMerge y: 20-04:BayleyIIICognitiveComposite\n",
      "_corr_coeff: to eval: x: 03-05_s:MRIPLICMerge y: 20-04:BayleyIIILanguageComposite valid_x: 298 valid_y: 411\n",
      "_corr_coeff: done: x: 03-05_s:MRIPLICMerge y: 20-04:BayleyIIILanguageComposite\n",
      "_corr_coeff: to eval: x: 03-05_s:MRIPLICMerge y: 20-04:BayleyIIIMotorComposite valid_x: 298 valid_y: 415\n",
      "_corr_coeff: done: x: 03-05_s:MRIPLICMerge y: 20-04:BayleyIIIMotorComposite\n",
      "_corr_coeff: to eval: x: 03-05_s:MRIWatershedMerge y: 20-10:moderateSevereDisabilityOrDeath valid_x: 298 valid_y: 504\n",
      "_corr_coeff: done: x: 03-05_s:MRIWatershedMerge y: 20-10:moderateSevereDisabilityOrDeath\n",
      "_corr_coeff: to eval: x: 03-05_s:MRIWatershedMerge y: 20-10:disabilityLevelDeath4Category valid_x: 298 valid_y: 498\n",
      "_corr_coeff: done: x: 03-05_s:MRIWatershedMerge y: 20-10:disabilityLevelDeath4Category\n",
      "_corr_coeff: to eval: x: 03-05_s:MRIWatershedMerge y: 20-10_1:disabilityLevelDeath valid_x: 298 valid_y: 498\n",
      "_corr_coeff: done: x: 03-05_s:MRIWatershedMerge y: 20-10_1:disabilityLevelDeath\n",
      "_corr_coeff: to eval: x: 03-05_s:MRIWatershedMerge y: 20-04:BayleyIIICognitiveComposite valid_x: 298 valid_y: 421\n",
      "_corr_coeff: done: x: 03-05_s:MRIWatershedMerge y: 20-04:BayleyIIICognitiveComposite\n"
     ]
    },
    {
     "name": "stderr",
     "output_type": "stream",
     "text": [
      "\r",
      " 62%|██████▏   | 208/336 [00:44<00:27,  4.61it/s]"
     ]
    },
    {
     "name": "stderr",
     "output_type": "stream",
     "text": [
      "\r",
      " 62%|██████▏   | 209/336 [00:44<00:25,  5.02it/s]"
     ]
    },
    {
     "name": "stdout",
     "output_type": "stream",
     "text": [
      "_corr_coeff: to eval: x: 03-05_s:MRIWatershedMerge y: 20-04:BayleyIIILanguageComposite valid_x: 298 valid_y: 411\n",
      "_corr_coeff: done: x: 03-05_s:MRIWatershedMerge y: 20-04:BayleyIIILanguageComposite\n",
      "_corr_coeff: to eval: x: 03-05_s:MRIWatershedMerge y: 20-04:BayleyIIIMotorComposite valid_x: 298 valid_y: 415\n",
      "_corr_coeff: done: x: 03-05_s:MRIWatershedMerge y: 20-04:BayleyIIIMotorComposite\n",
      "_corr_coeff: to eval: x: 03-05_s:MRIWhiteMatterInjuryMerge y: 20-10:moderateSevereDisabilityOrDeath valid_x: 116 valid_y: 504\n",
      "_corr_coeff: done: x: 03-05_s:MRIWhiteMatterInjuryMerge y: 20-10:moderateSevereDisabilityOrDeath\n",
      "_corr_coeff: to eval: x: 03-05_s:MRIWhiteMatterInjuryMerge y: 20-10:disabilityLevelDeath4Category valid_x: 116 valid_y: 498\n",
      "_corr_coeff: done: x: 03-05_s:MRIWhiteMatterInjuryMerge y: 20-10:disabilityLevelDeath4Category\n",
      "_corr_coeff: to eval: x: 03-05_s:MRIWhiteMatterInjuryMerge y: 20-10_1:disabilityLevelDeath valid_x: 116 valid_y: 498\n",
      "_corr_coeff: done: x: 03-05_s:MRIWhiteMatterInjuryMerge y: 20-10_1:disabilityLevelDeath\n",
      "_corr_coeff: to eval: x: 03-05_s:MRIWhiteMatterInjuryMerge y: 20-04:BayleyIIICognitiveComposite valid_x: 116 valid_y: 421\n",
      "_corr_coeff: done: x: 03-05_s:MRIWhiteMatterInjuryMerge y: 20-04:BayleyIIICognitiveComposite\n",
      "_corr_coeff: to eval: x: 03-05_s:MRIWhiteMatterInjuryMerge y: 20-04:BayleyIIILanguageComposite valid_x: 116 valid_y: 411\n",
      "_corr_coeff: done: x: 03-05_s:MRIWhiteMatterInjuryMerge y: 20-04:BayleyIIILanguageComposite\n",
      "_corr_coeff: to eval: x: 03-05_s:MRIWhiteMatterInjuryMerge y: 20-04:BayleyIIIMotorComposite valid_x: 116 valid_y: 415\n",
      "_corr_coeff: done: x: 03-05_s:MRIWhiteMatterInjuryMerge y: 20-04:BayleyIIIMotorComposite\n"
     ]
    },
    {
     "name": "stderr",
     "output_type": "stream",
     "text": [
      "\r",
      " 62%|██████▎   | 210/336 [00:45<00:26,  4.79it/s]"
     ]
    },
    {
     "name": "stdout",
     "output_type": "stream",
     "text": [
      "_corr_coeff: to eval: x: 03-05_s:MRIOccipitalLesion y: 20-10:moderateSevereDisabilityOrDeath valid_x: 298 valid_y: 504\n",
      "_corr_coeff: done: x: 03-05_s:MRIOccipitalLesion y: 20-10:moderateSevereDisabilityOrDeath\n",
      "_corr_coeff: to eval: x: 03-05_s:MRIOccipitalLesion y: 20-10:disabilityLevelDeath4Category valid_x: 298 valid_y: 498\n",
      "_corr_coeff: done: x: 03-05_s:MRIOccipitalLesion y: 20-10:disabilityLevelDeath4Category\n",
      "_corr_coeff: to eval: x: 03-05_s:MRIOccipitalLesion y: 20-10_1:disabilityLevelDeath valid_x: 298 valid_y: 498\n",
      "_corr_coeff: done: x: 03-05_s:MRIOccipitalLesion y: 20-10_1:disabilityLevelDeath\n",
      "_corr_coeff: to eval: x: 03-05_s:MRIOccipitalLesion y: 20-04:BayleyIIICognitiveComposite valid_x: 298 valid_y: 421\n",
      "_corr_coeff: done: x: 03-05_s:MRIOccipitalLesion y: 20-04:BayleyIIICognitiveComposite\n",
      "_corr_coeff: to eval: x: 03-05_s:MRIOccipitalLesion y: 20-04:BayleyIIILanguageComposite valid_x: 298 valid_y: 411\n",
      "_corr_coeff: done: x: 03-05_s:MRIOccipitalLesion y: 20-04:BayleyIIILanguageComposite\n",
      "_corr_coeff: to eval: x: 03-05_s:MRIOccipitalLesion y: 20-04:BayleyIIIMotorComposite valid_x: 298 valid_y: 415\n",
      "_corr_coeff: done: x: 03-05_s:MRIOccipitalLesion y: 20-04:BayleyIIIMotorComposite\n"
     ]
    },
    {
     "name": "stderr",
     "output_type": "stream",
     "text": [
      "\r",
      " 63%|██████▎   | 211/336 [00:45<00:25,  4.94it/s]"
     ]
    },
    {
     "name": "stdout",
     "output_type": "stream",
     "text": [
      "_corr_coeff: to eval: x: 03-05_s:MRIOpticChiasmLesion y: 20-10:moderateSevereDisabilityOrDeath valid_x: 298 valid_y: 504\n",
      "_corr_coeff: done: x: 03-05_s:MRIOpticChiasmLesion y: 20-10:moderateSevereDisabilityOrDeath\n",
      "_corr_coeff: to eval: x: 03-05_s:MRIOpticChiasmLesion y: 20-10:disabilityLevelDeath4Category valid_x: 298 valid_y: 498\n",
      "_corr_coeff: done: x: 03-05_s:MRIOpticChiasmLesion y: 20-10:disabilityLevelDeath4Category\n",
      "_corr_coeff: to eval: x: 03-05_s:MRIOpticChiasmLesion y: 20-10_1:disabilityLevelDeath valid_x: 298 valid_y: 498\n",
      "_corr_coeff: done: x: 03-05_s:MRIOpticChiasmLesion y: 20-10_1:disabilityLevelDeath\n",
      "_corr_coeff: to eval: x: 03-05_s:MRIOpticChiasmLesion y: 20-04:BayleyIIICognitiveComposite valid_x: 298 valid_y: 421\n",
      "_corr_coeff: done: x: 03-05_s:MRIOpticChiasmLesion y: 20-04:BayleyIIICognitiveComposite\n",
      "_corr_coeff: to eval: x: 03-05_s:MRIOpticChiasmLesion y: 20-04:BayleyIIILanguageComposite valid_x: 298 valid_y: 411\n",
      "_corr_coeff: done: x: 03-05_s:MRIOpticChiasmLesion y: 20-04:BayleyIIILanguageComposite\n",
      "_corr_coeff: to eval: x: 03-05_s:MRIOpticChiasmLesion y: 20-04:BayleyIIIMotorComposite valid_x: 298 valid_y: 415\n",
      "_corr_coeff: done: x: 03-05_s:MRIOpticChiasmLesion y: 20-04:BayleyIIIMotorComposite\n",
      "_corr_coeff: to eval: x: 03-05_s:MRIOtherLesion y: 20-10:moderateSevereDisabilityOrDeath valid_x: 298 valid_y: 504\n",
      "_corr_coeff: done: x: 03-05_s:MRIOtherLesion y: 20-10:moderateSevereDisabilityOrDeath\n"
     ]
    },
    {
     "name": "stderr",
     "output_type": "stream",
     "text": [
      "\r",
      " 63%|██████▎   | 212/336 [00:45<00:26,  4.68it/s]"
     ]
    },
    {
     "name": "stdout",
     "output_type": "stream",
     "text": [
      "_corr_coeff: to eval: x: 03-05_s:MRIOtherLesion y: 20-10:disabilityLevelDeath4Category valid_x: 298 valid_y: 498\n",
      "_corr_coeff: done: x: 03-05_s:MRIOtherLesion y: 20-10:disabilityLevelDeath4Category\n",
      "_corr_coeff: to eval: x: 03-05_s:MRIOtherLesion y: 20-10_1:disabilityLevelDeath valid_x: 298 valid_y: 498\n",
      "_corr_coeff: done: x: 03-05_s:MRIOtherLesion y: 20-10_1:disabilityLevelDeath\n",
      "_corr_coeff: to eval: x: 03-05_s:MRIOtherLesion y: 20-04:BayleyIIICognitiveComposite valid_x: 298 valid_y: 421\n",
      "_corr_coeff: done: x: 03-05_s:MRIOtherLesion y: 20-04:BayleyIIICognitiveComposite\n",
      "_corr_coeff: to eval: x: 03-05_s:MRIOtherLesion y: 20-04:BayleyIIILanguageComposite valid_x: 298 valid_y: 411\n",
      "_corr_coeff: done: x: 03-05_s:MRIOtherLesion y: 20-04:BayleyIIILanguageComposite\n",
      "_corr_coeff: to eval: x: 03-05_s:MRIOtherLesion y: 20-04:BayleyIIIMotorComposite valid_x: 298 valid_y: 415\n",
      "_corr_coeff: done: x: 03-05_s:MRIOtherLesion y: 20-04:BayleyIIIMotorComposite\n"
     ]
    },
    {
     "name": "stderr",
     "output_type": "stream",
     "text": [
      "\r",
      " 63%|██████▎   | 213/336 [00:45<00:25,  4.88it/s]"
     ]
    },
    {
     "name": "stdout",
     "output_type": "stream",
     "text": [
      "_corr_coeff: to eval: x: 03-05_s:MRIOtherCerebralLesion y: 20-10:moderateSevereDisabilityOrDeath valid_x: 298 valid_y: 504\n",
      "_corr_coeff: done: x: 03-05_s:MRIOtherCerebralLesion y: 20-10:moderateSevereDisabilityOrDeath\n",
      "_corr_coeff: to eval: x: 03-05_s:MRIOtherCerebralLesion y: 20-10:disabilityLevelDeath4Category valid_x: 298 valid_y: 498\n",
      "_corr_coeff: done: x: 03-05_s:MRIOtherCerebralLesion y: 20-10:disabilityLevelDeath4Category\n",
      "_corr_coeff: to eval: x: 03-05_s:MRIOtherCerebralLesion y: 20-10_1:disabilityLevelDeath valid_x: 298 valid_y: 498\n",
      "_corr_coeff: done: x: 03-05_s:MRIOtherCerebralLesion y: 20-10_1:disabilityLevelDeath\n",
      "_corr_coeff: to eval: x: 03-05_s:MRIOtherCerebralLesion y: 20-04:BayleyIIICognitiveComposite valid_x: 298 valid_y: 421\n",
      "_corr_coeff: done: x: 03-05_s:MRIOtherCerebralLesion y: 20-04:BayleyIIICognitiveComposite\n",
      "_corr_coeff: to eval: x: 03-05_s:MRIOtherCerebralLesion y: 20-04:BayleyIIILanguageComposite valid_x: 298 valid_y: 411\n",
      "_corr_coeff: done: x: 03-05_s:MRIOtherCerebralLesion y: 20-04:BayleyIIILanguageComposite\n",
      "_corr_coeff: to eval: x: 03-05_s:MRIOtherCerebralLesion y: 20-04:BayleyIIIMotorComposite valid_x: 298 valid_y: 415\n",
      "_corr_coeff: done: x: 03-05_s:MRIOtherCerebralLesion y: 20-04:BayleyIIIMotorComposite\n",
      "_corr_coeff: to eval: x: 03-05_s:MRIParasagittalLesion y: 20-10:moderateSevereDisabilityOrDeath valid_x: 298 valid_y: 504\n",
      "_corr_coeff: done: x: 03-05_s:MRIParasagittalLesion y: 20-10:moderateSevereDisabilityOrDeath\n"
     ]
    },
    {
     "name": "stderr",
     "output_type": "stream",
     "text": [
      "\r",
      " 64%|██████▎   | 214/336 [00:46<00:25,  4.70it/s]"
     ]
    },
    {
     "name": "stdout",
     "output_type": "stream",
     "text": [
      "_corr_coeff: to eval: x: 03-05_s:MRIParasagittalLesion y: 20-10:disabilityLevelDeath4Category valid_x: 298 valid_y: 498\n",
      "_corr_coeff: done: x: 03-05_s:MRIParasagittalLesion y: 20-10:disabilityLevelDeath4Category\n",
      "_corr_coeff: to eval: x: 03-05_s:MRIParasagittalLesion y: 20-10_1:disabilityLevelDeath valid_x: 298 valid_y: 498\n",
      "_corr_coeff: done: x: 03-05_s:MRIParasagittalLesion y: 20-10_1:disabilityLevelDeath\n",
      "_corr_coeff: to eval: x: 03-05_s:MRIParasagittalLesion y: 20-04:BayleyIIICognitiveComposite valid_x: 298 valid_y: 421\n",
      "_corr_coeff: done: x: 03-05_s:MRIParasagittalLesion y: 20-04:BayleyIIICognitiveComposite\n",
      "_corr_coeff: to eval: x: 03-05_s:MRIParasagittalLesion y: 20-04:BayleyIIILanguageComposite valid_x: 298 valid_y: 411\n",
      "_corr_coeff: done: x: 03-05_s:MRIParasagittalLesion y: 20-04:BayleyIIILanguageComposite\n",
      "_corr_coeff: to eval: x: 03-05_s:MRIParasagittalLesion y: 20-04:BayleyIIIMotorComposite valid_x: 298 valid_y: 415\n",
      "_corr_coeff: done: x: 03-05_s:MRIParasagittalLesion y: 20-04:BayleyIIIMotorComposite\n",
      "_corr_coeff: to eval: x: 03-05_s:MRIParietalLesion y: 20-10:moderateSevereDisabilityOrDeath valid_x: 298 valid_y: 504\n",
      "_corr_coeff: done: x: 03-05_s:MRIParietalLesion y: 20-10:moderateSevereDisabilityOrDeath\n"
     ]
    },
    {
     "name": "stderr",
     "output_type": "stream",
     "text": [
      "\r",
      " 64%|██████▍   | 215/336 [00:46<00:24,  4.95it/s]"
     ]
    },
    {
     "name": "stdout",
     "output_type": "stream",
     "text": [
      "_corr_coeff: to eval: x: 03-05_s:MRIParietalLesion y: 20-10:disabilityLevelDeath4Category valid_x: 298 valid_y: 498\n",
      "_corr_coeff: done: x: 03-05_s:MRIParietalLesion y: 20-10:disabilityLevelDeath4Category\n",
      "_corr_coeff: to eval: x: 03-05_s:MRIParietalLesion y: 20-10_1:disabilityLevelDeath valid_x: 298 valid_y: 498\n",
      "_corr_coeff: done: x: 03-05_s:MRIParietalLesion y: 20-10_1:disabilityLevelDeath\n",
      "_corr_coeff: to eval: x: 03-05_s:MRIParietalLesion y: 20-04:BayleyIIICognitiveComposite valid_x: 298 valid_y: 421\n",
      "_corr_coeff: done: x: 03-05_s:MRIParietalLesion y: 20-04:BayleyIIICognitiveComposite\n",
      "_corr_coeff: to eval: x: 03-05_s:MRIParietalLesion y: 20-04:BayleyIIILanguageComposite valid_x: 298 valid_y: 411\n",
      "_corr_coeff: done: x: 03-05_s:MRIParietalLesion y: 20-04:BayleyIIILanguageComposite\n",
      "_corr_coeff: to eval: x: 03-05_s:MRIParietalLesion y: 20-04:BayleyIIIMotorComposite valid_x: 298 valid_y: 415\n",
      "_corr_coeff: done: x: 03-05_s:MRIParietalLesion y: 20-04:BayleyIIIMotorComposite\n",
      "_corr_coeff: to eval: x: 03-05_s:MRIPreirolandicLesion y: 20-10:moderateSevereDisabilityOrDeath valid_x: 298 valid_y: 504\n",
      "_corr_coeff: done: x: 03-05_s:MRIPreirolandicLesion y: 20-10:moderateSevereDisabilityOrDeath\n",
      "_corr_coeff: to eval: x: 03-05_s:MRIPreirolandicLesion y: 20-10:disabilityLevelDeath4Category valid_x: 298 valid_y: 498\n",
      "_corr_coeff: done: x: 03-05_s:MRIPreirolandicLesion y: 20-10:disabilityLevelDeath4Category\n",
      "_corr_coeff: to eval: x: 03-05_s:MRIPreirolandicLesion y: 20-10_1:disabilityLevelDeath valid_x: 298 valid_y: 498\n",
      "_corr_coeff: done: x: 03-05_s:MRIPreirolandicLesion y: 20-10_1:disabilityLevelDeath\n"
     ]
    },
    {
     "name": "stderr",
     "output_type": "stream",
     "text": [
      "\r",
      " 64%|██████▍   | 216/336 [00:46<00:23,  5.13it/s]"
     ]
    },
    {
     "name": "stdout",
     "output_type": "stream",
     "text": [
      "_corr_coeff: to eval: x: 03-05_s:MRIPreirolandicLesion y: 20-04:BayleyIIICognitiveComposite valid_x: 298 valid_y: 421\n",
      "_corr_coeff: done: x: 03-05_s:MRIPreirolandicLesion y: 20-04:BayleyIIICognitiveComposite\n",
      "_corr_coeff: to eval: x: 03-05_s:MRIPreirolandicLesion y: 20-04:BayleyIIILanguageComposite valid_x: 298 valid_y: 411\n",
      "_corr_coeff: done: x: 03-05_s:MRIPreirolandicLesion y: 20-04:BayleyIIILanguageComposite\n",
      "_corr_coeff: to eval: x: 03-05_s:MRIPreirolandicLesion y: 20-04:BayleyIIIMotorComposite valid_x: 298 valid_y: 415\n",
      "_corr_coeff: done: x: 03-05_s:MRIPreirolandicLesion y: 20-04:BayleyIIIMotorComposite\n",
      "_corr_coeff: to eval: x: 03-05_s:MRIPerisylvianLesion y: 20-10:moderateSevereDisabilityOrDeath valid_x: 298 valid_y: 504\n",
      "_corr_coeff: done: x: 03-05_s:MRIPerisylvianLesion y: 20-10:moderateSevereDisabilityOrDeath\n",
      "_corr_coeff: to eval: x: 03-05_s:MRIPerisylvianLesion y: 20-10:disabilityLevelDeath4Category valid_x: 298 valid_y: 498\n",
      "_corr_coeff: done: x: 03-05_s:MRIPerisylvianLesion y: 20-10:disabilityLevelDeath4Category\n",
      "_corr_coeff: to eval: x: 03-05_s:MRIPerisylvianLesion y: 20-10_1:disabilityLevelDeath valid_x: 298 valid_y: 498\n",
      "_corr_coeff: done: x: 03-05_s:MRIPerisylvianLesion y: 20-10_1:disabilityLevelDeath\n",
      "_corr_coeff: to eval: x: 03-05_s:MRIPerisylvianLesion y: 20-04:BayleyIIICognitiveComposite valid_x: 298 valid_y: 421\n",
      "_corr_coeff: done: x: 03-05_s:MRIPerisylvianLesion y: 20-04:BayleyIIICognitiveComposite\n"
     ]
    },
    {
     "name": "stderr",
     "output_type": "stream",
     "text": [
      "\r",
      " 65%|██████▍   | 217/336 [00:46<00:22,  5.27it/s]"
     ]
    },
    {
     "name": "stdout",
     "output_type": "stream",
     "text": [
      "_corr_coeff: to eval: x: 03-05_s:MRIPerisylvianLesion y: 20-04:BayleyIIILanguageComposite valid_x: 298 valid_y: 411\n",
      "_corr_coeff: done: x: 03-05_s:MRIPerisylvianLesion y: 20-04:BayleyIIILanguageComposite\n",
      "_corr_coeff: to eval: x: 03-05_s:MRIPerisylvianLesion y: 20-04:BayleyIIIMotorComposite valid_x: 298 valid_y: 415\n",
      "_corr_coeff: done: x: 03-05_s:MRIPerisylvianLesion y: 20-04:BayleyIIIMotorComposite\n",
      "_corr_coeff: to eval: x: 03-05_s:MRIPituitaryLesion y: 20-10:moderateSevereDisabilityOrDeath valid_x: 298 valid_y: 504\n",
      "_corr_coeff: done: x: 03-05_s:MRIPituitaryLesion y: 20-10:moderateSevereDisabilityOrDeath\n",
      "_corr_coeff: to eval: x: 03-05_s:MRIPituitaryLesion y: 20-10:disabilityLevelDeath4Category valid_x: 298 valid_y: 498\n",
      "_corr_coeff: done: x: 03-05_s:MRIPituitaryLesion y: 20-10:disabilityLevelDeath4Category\n",
      "_corr_coeff: to eval: x: 03-05_s:MRIPituitaryLesion y: 20-10_1:disabilityLevelDeath valid_x: 298 valid_y: 498\n",
      "_corr_coeff: done: x: 03-05_s:MRIPituitaryLesion y: 20-10_1:disabilityLevelDeath\n",
      "_corr_coeff: to eval: x: 03-05_s:MRIPituitaryLesion y: 20-04:BayleyIIICognitiveComposite valid_x: 298 valid_y: 421\n",
      "_corr_coeff: done: x: 03-05_s:MRIPituitaryLesion y: 20-04:BayleyIIICognitiveComposite\n",
      "_corr_coeff: to eval: x: 03-05_s:MRIPituitaryLesion y: 20-04:BayleyIIILanguageComposite valid_x: 298 valid_y: 411\n",
      "_corr_coeff: done: x: 03-05_s:MRIPituitaryLesion y: 20-04:BayleyIIILanguageComposite\n"
     ]
    },
    {
     "name": "stderr",
     "output_type": "stream",
     "text": [
      "\r",
      " 65%|██████▍   | 218/336 [00:46<00:21,  5.38it/s]"
     ]
    },
    {
     "name": "stderr",
     "output_type": "stream",
     "text": [
      "\r",
      " 65%|██████▌   | 219/336 [00:46<00:21,  5.49it/s]"
     ]
    },
    {
     "name": "stdout",
     "output_type": "stream",
     "text": [
      "_corr_coeff: to eval: x: 03-05_s:MRIPituitaryLesion y: 20-04:BayleyIIIMotorComposite valid_x: 298 valid_y: 415\n",
      "_corr_coeff: done: x: 03-05_s:MRIPituitaryLesion y: 20-04:BayleyIIIMotorComposite\n",
      "_corr_coeff: to eval: x: 03-05_s:MRIParietalOccipitalLesion y: 20-10:moderateSevereDisabilityOrDeath valid_x: 298 valid_y: 504\n",
      "_corr_coeff: done: x: 03-05_s:MRIParietalOccipitalLesion y: 20-10:moderateSevereDisabilityOrDeath\n",
      "_corr_coeff: to eval: x: 03-05_s:MRIParietalOccipitalLesion y: 20-10:disabilityLevelDeath4Category valid_x: 298 valid_y: 498\n",
      "_corr_coeff: done: x: 03-05_s:MRIParietalOccipitalLesion y: 20-10:disabilityLevelDeath4Category\n",
      "_corr_coeff: to eval: x: 03-05_s:MRIParietalOccipitalLesion y: 20-10_1:disabilityLevelDeath valid_x: 298 valid_y: 498\n",
      "_corr_coeff: done: x: 03-05_s:MRIParietalOccipitalLesion y: 20-10_1:disabilityLevelDeath\n",
      "_corr_coeff: to eval: x: 03-05_s:MRIParietalOccipitalLesion y: 20-04:BayleyIIICognitiveComposite valid_x: 298 valid_y: 421\n",
      "_corr_coeff: done: x: 03-05_s:MRIParietalOccipitalLesion y: 20-04:BayleyIIICognitiveComposite\n",
      "_corr_coeff: to eval: x: 03-05_s:MRIParietalOccipitalLesion y: 20-04:BayleyIIILanguageComposite valid_x: 298 valid_y: 411\n",
      "_corr_coeff: done: x: 03-05_s:MRIParietalOccipitalLesion y: 20-04:BayleyIIILanguageComposite\n",
      "_corr_coeff: to eval: x: 03-05_s:MRIParietalOccipitalLesion y: 20-04:BayleyIIIMotorComposite valid_x: 298 valid_y: 415\n",
      "_corr_coeff: done: x: 03-05_s:MRIParietalOccipitalLesion y: 20-04:BayleyIIIMotorComposite\n",
      "_corr_coeff: to eval: x: 03-05_s:MRIParietalTemporalLesion y: 20-10:moderateSevereDisabilityOrDeath valid_x: 298 valid_y: 504\n",
      "_corr_coeff: done: x: 03-05_s:MRIParietalTemporalLesion y: 20-10:moderateSevereDisabilityOrDeath\n"
     ]
    },
    {
     "name": "stderr",
     "output_type": "stream",
     "text": [
      "\r",
      " 65%|██████▌   | 220/336 [00:47<00:22,  5.12it/s]"
     ]
    },
    {
     "name": "stdout",
     "output_type": "stream",
     "text": [
      "_corr_coeff: to eval: x: 03-05_s:MRIParietalTemporalLesion y: 20-10:disabilityLevelDeath4Category valid_x: 298 valid_y: 498\n",
      "_corr_coeff: done: x: 03-05_s:MRIParietalTemporalLesion y: 20-10:disabilityLevelDeath4Category\n",
      "_corr_coeff: to eval: x: 03-05_s:MRIParietalTemporalLesion y: 20-10_1:disabilityLevelDeath valid_x: 298 valid_y: 498\n",
      "_corr_coeff: done: x: 03-05_s:MRIParietalTemporalLesion y: 20-10_1:disabilityLevelDeath\n",
      "_corr_coeff: to eval: x: 03-05_s:MRIParietalTemporalLesion y: 20-04:BayleyIIICognitiveComposite valid_x: 298 valid_y: 421\n",
      "_corr_coeff: done: x: 03-05_s:MRIParietalTemporalLesion y: 20-04:BayleyIIICognitiveComposite\n",
      "_corr_coeff: to eval: x: 03-05_s:MRIParietalTemporalLesion y: 20-04:BayleyIIILanguageComposite valid_x: 298 valid_y: 411\n",
      "_corr_coeff: done: x: 03-05_s:MRIParietalTemporalLesion y: 20-04:BayleyIIILanguageComposite\n",
      "_corr_coeff: to eval: x: 03-05_s:MRIParietalTemporalLesion y: 20-04:BayleyIIIMotorComposite valid_x: 298 valid_y: 415\n",
      "_corr_coeff: done: x: 03-05_s:MRIParietalTemporalLesion y: 20-04:BayleyIIIMotorComposite\n",
      "_corr_coeff: to eval: x: 03-05_s:MRIScalpLesion y: 20-10:moderateSevereDisabilityOrDeath valid_x: 298 valid_y: 504\n",
      "_corr_coeff: done: x: 03-05_s:MRIScalpLesion y: 20-10:moderateSevereDisabilityOrDeath\n"
     ]
    },
    {
     "name": "stderr",
     "output_type": "stream",
     "text": [
      "\r",
      " 66%|██████▌   | 221/336 [00:47<00:21,  5.24it/s]"
     ]
    },
    {
     "name": "stdout",
     "output_type": "stream",
     "text": [
      "_corr_coeff: to eval: x: 03-05_s:MRIScalpLesion y: 20-10:disabilityLevelDeath4Category valid_x: 298 valid_y: 498\n",
      "_corr_coeff: done: x: 03-05_s:MRIScalpLesion y: 20-10:disabilityLevelDeath4Category\n",
      "_corr_coeff: to eval: x: 03-05_s:MRIScalpLesion y: 20-10_1:disabilityLevelDeath valid_x: 298 valid_y: 498\n",
      "_corr_coeff: done: x: 03-05_s:MRIScalpLesion y: 20-10_1:disabilityLevelDeath\n",
      "_corr_coeff: to eval: x: 03-05_s:MRIScalpLesion y: 20-04:BayleyIIICognitiveComposite valid_x: 298 valid_y: 421\n",
      "_corr_coeff: done: x: 03-05_s:MRIScalpLesion y: 20-04:BayleyIIICognitiveComposite\n",
      "_corr_coeff: to eval: x: 03-05_s:MRIScalpLesion y: 20-04:BayleyIIILanguageComposite valid_x: 298 valid_y: 411\n",
      "_corr_coeff: done: x: 03-05_s:MRIScalpLesion y: 20-04:BayleyIIILanguageComposite\n",
      "_corr_coeff: to eval: x: 03-05_s:MRIScalpLesion y: 20-04:BayleyIIIMotorComposite valid_x: 298 valid_y: 415\n",
      "_corr_coeff: done: x: 03-05_s:MRIScalpLesion y: 20-04:BayleyIIIMotorComposite\n",
      "_corr_coeff: to eval: x: 03-05_s:MRIThalamusLesion y: 20-10:moderateSevereDisabilityOrDeath valid_x: 298 valid_y: 504\n",
      "_corr_coeff: done: x: 03-05_s:MRIThalamusLesion y: 20-10:moderateSevereDisabilityOrDeath\n",
      "_corr_coeff: to eval: x: 03-05_s:MRIThalamusLesion y: 20-10:disabilityLevelDeath4Category valid_x: 298 valid_y: 498\n",
      "_corr_coeff: done: x: 03-05_s:MRIThalamusLesion y: 20-10:disabilityLevelDeath4Category\n"
     ]
    },
    {
     "name": "stderr",
     "output_type": "stream",
     "text": [
      "\r",
      " 66%|██████▌   | 222/336 [00:47<00:21,  5.33it/s]"
     ]
    },
    {
     "name": "stdout",
     "output_type": "stream",
     "text": [
      "_corr_coeff: to eval: x: 03-05_s:MRIThalamusLesion y: 20-10_1:disabilityLevelDeath valid_x: 298 valid_y: 498\n",
      "_corr_coeff: done: x: 03-05_s:MRIThalamusLesion y: 20-10_1:disabilityLevelDeath\n",
      "_corr_coeff: to eval: x: 03-05_s:MRIThalamusLesion y: 20-04:BayleyIIICognitiveComposite valid_x: 298 valid_y: 421\n",
      "_corr_coeff: done: x: 03-05_s:MRIThalamusLesion y: 20-04:BayleyIIICognitiveComposite\n",
      "_corr_coeff: to eval: x: 03-05_s:MRIThalamusLesion y: 20-04:BayleyIIILanguageComposite valid_x: 298 valid_y: 411\n",
      "_corr_coeff: done: x: 03-05_s:MRIThalamusLesion y: 20-04:BayleyIIILanguageComposite\n",
      "_corr_coeff: to eval: x: 03-05_s:MRIThalamusLesion y: 20-04:BayleyIIIMotorComposite valid_x: 298 valid_y: 415\n",
      "_corr_coeff: done: x: 03-05_s:MRIThalamusLesion y: 20-04:BayleyIIIMotorComposite\n",
      "_corr_coeff: to eval: x: 03-05_s:MRITemporalLesion y: 20-10:moderateSevereDisabilityOrDeath valid_x: 298 valid_y: 504\n",
      "_corr_coeff: done: x: 03-05_s:MRITemporalLesion y: 20-10:moderateSevereDisabilityOrDeath\n",
      "_corr_coeff: to eval: x: 03-05_s:MRITemporalLesion y: 20-10:disabilityLevelDeath4Category valid_x: 298 valid_y: 498\n",
      "_corr_coeff: done: x: 03-05_s:MRITemporalLesion y: 20-10:disabilityLevelDeath4Category\n",
      "_corr_coeff: to eval: x: 03-05_s:MRITemporalLesion y: 20-10_1:disabilityLevelDeath valid_x: 298 valid_y: 498\n",
      "_corr_coeff: done: x: 03-05_s:MRITemporalLesion y: 20-10_1:disabilityLevelDeath\n"
     ]
    },
    {
     "name": "stderr",
     "output_type": "stream",
     "text": [
      "\r",
      " 66%|██████▋   | 223/336 [00:47<00:22,  5.00it/s]"
     ]
    },
    {
     "name": "stdout",
     "output_type": "stream",
     "text": [
      "_corr_coeff: to eval: x: 03-05_s:MRITemporalLesion y: 20-04:BayleyIIICognitiveComposite valid_x: 298 valid_y: 421\n",
      "_corr_coeff: done: x: 03-05_s:MRITemporalLesion y: 20-04:BayleyIIICognitiveComposite\n",
      "_corr_coeff: to eval: x: 03-05_s:MRITemporalLesion y: 20-04:BayleyIIILanguageComposite valid_x: 298 valid_y: 411\n",
      "_corr_coeff: done: x: 03-05_s:MRITemporalLesion y: 20-04:BayleyIIILanguageComposite\n",
      "_corr_coeff: to eval: x: 03-05_s:MRITemporalLesion y: 20-04:BayleyIIIMotorComposite valid_x: 298 valid_y: 415\n",
      "_corr_coeff: done: x: 03-05_s:MRITemporalLesion y: 20-04:BayleyIIIMotorComposite\n",
      "_corr_coeff: to eval: x: 03-05_s:MRITemporalOccipitalLesion y: 20-10:moderateSevereDisabilityOrDeath valid_x: 298 valid_y: 504\n",
      "_corr_coeff: done: x: 03-05_s:MRITemporalOccipitalLesion y: 20-10:moderateSevereDisabilityOrDeath\n",
      "_corr_coeff: to eval: x: 03-05_s:MRITemporalOccipitalLesion y: 20-10:disabilityLevelDeath4Category valid_x: 298 valid_y: 498\n",
      "_corr_coeff: done: x: 03-05_s:MRITemporalOccipitalLesion y: 20-10:disabilityLevelDeath4Category\n",
      "_corr_coeff: to eval: x: 03-05_s:MRITemporalOccipitalLesion y: 20-10_1:disabilityLevelDeath valid_x: 298 valid_y: 498\n",
      "_corr_coeff: done: x: 03-05_s:MRITemporalOccipitalLesion y: 20-10_1:disabilityLevelDeath\n"
     ]
    },
    {
     "name": "stderr",
     "output_type": "stream",
     "text": [
      "\r",
      " 67%|██████▋   | 224/336 [00:47<00:21,  5.18it/s]"
     ]
    },
    {
     "name": "stdout",
     "output_type": "stream",
     "text": [
      "_corr_coeff: to eval: x: 03-05_s:MRITemporalOccipitalLesion y: 20-04:BayleyIIICognitiveComposite valid_x: 298 valid_y: 421\n",
      "_corr_coeff: done: x: 03-05_s:MRITemporalOccipitalLesion y: 20-04:BayleyIIICognitiveComposite\n",
      "_corr_coeff: to eval: x: 03-05_s:MRITemporalOccipitalLesion y: 20-04:BayleyIIILanguageComposite valid_x: 298 valid_y: 411\n",
      "_corr_coeff: done: x: 03-05_s:MRITemporalOccipitalLesion y: 20-04:BayleyIIILanguageComposite\n",
      "_corr_coeff: to eval: x: 03-05_s:MRITemporalOccipitalLesion y: 20-04:BayleyIIIMotorComposite valid_x: 298 valid_y: 415\n",
      "_corr_coeff: done: x: 03-05_s:MRITemporalOccipitalLesion y: 20-04:BayleyIIIMotorComposite\n",
      "_corr_coeff: to eval: x: 03-05_s:MRICerebralAtrophyMerge y: 20-10:moderateSevereDisabilityOrDeath valid_x: 297 valid_y: 504\n",
      "_corr_coeff: done: x: 03-05_s:MRICerebralAtrophyMerge y: 20-10:moderateSevereDisabilityOrDeath\n",
      "_corr_coeff: to eval: x: 03-05_s:MRICerebralAtrophyMerge y: 20-10:disabilityLevelDeath4Category valid_x: 297 valid_y: 498\n",
      "_corr_coeff: done: x: 03-05_s:MRICerebralAtrophyMerge y: 20-10:disabilityLevelDeath4Category\n",
      "_corr_coeff: to eval: x: 03-05_s:MRICerebralAtrophyMerge y: 20-10_1:disabilityLevelDeath valid_x: 297 valid_y: 498\n",
      "_corr_coeff: done: x: 03-05_s:MRICerebralAtrophyMerge y: 20-10_1:disabilityLevelDeath\n",
      "_corr_coeff: to eval: x: 03-05_s:MRICerebralAtrophyMerge y: 20-04:BayleyIIICognitiveComposite valid_x: 297 valid_y: 421\n",
      "_corr_coeff: done: x: 03-05_s:MRICerebralAtrophyMerge y: 20-04:BayleyIIICognitiveComposite\n",
      "_corr_coeff: to eval: x: 03-05_s:MRICerebralAtrophyMerge y: 20-04:BayleyIIILanguageComposite valid_x: 297 valid_y: 411\n",
      "_corr_coeff: done: x: 03-05_s:MRICerebralAtrophyMerge y: 20-04:BayleyIIILanguageComposite\n"
     ]
    },
    {
     "name": "stderr",
     "output_type": "stream",
     "text": [
      "\r",
      " 67%|██████▋   | 225/336 [00:48<00:22,  4.91it/s]"
     ]
    },
    {
     "name": "stderr",
     "output_type": "stream",
     "text": [
      "\r",
      " 67%|██████▋   | 226/336 [00:48<00:21,  5.11it/s]"
     ]
    },
    {
     "name": "stdout",
     "output_type": "stream",
     "text": [
      "_corr_coeff: to eval: x: 03-05_s:MRICerebralAtrophyMerge y: 20-04:BayleyIIIMotorComposite valid_x: 297 valid_y: 415\n",
      "_corr_coeff: done: x: 03-05_s:MRICerebralAtrophyMerge y: 20-04:BayleyIIIMotorComposite\n",
      "_corr_coeff: to eval: x: 03-05_s:MRICerebralAtrophyQualAssessCCMerge y: 20-10:moderateSevereDisabilityOrDeath valid_x: 298 valid_y: 504\n",
      "_corr_coeff: done: x: 03-05_s:MRICerebralAtrophyQualAssessCCMerge y: 20-10:moderateSevereDisabilityOrDeath\n",
      "_corr_coeff: to eval: x: 03-05_s:MRICerebralAtrophyQualAssessCCMerge y: 20-10:disabilityLevelDeath4Category valid_x: 298 valid_y: 498\n",
      "_corr_coeff: done: x: 03-05_s:MRICerebralAtrophyQualAssessCCMerge y: 20-10:disabilityLevelDeath4Category\n",
      "_corr_coeff: to eval: x: 03-05_s:MRICerebralAtrophyQualAssessCCMerge y: 20-10_1:disabilityLevelDeath valid_x: 298 valid_y: 498\n",
      "_corr_coeff: done: x: 03-05_s:MRICerebralAtrophyQualAssessCCMerge y: 20-10_1:disabilityLevelDeath\n",
      "_corr_coeff: to eval: x: 03-05_s:MRICerebralAtrophyQualAssessCCMerge y: 20-04:BayleyIIICognitiveComposite valid_x: 298 valid_y: 421\n",
      "_corr_coeff: done: x: 03-05_s:MRICerebralAtrophyQualAssessCCMerge y: 20-04:BayleyIIICognitiveComposite\n",
      "_corr_coeff: to eval: x: 03-05_s:MRICerebralAtrophyQualAssessCCMerge y: 20-04:BayleyIIILanguageComposite valid_x: 298 valid_y: 411\n",
      "_corr_coeff: done: x: 03-05_s:MRICerebralAtrophyQualAssessCCMerge y: 20-04:BayleyIIILanguageComposite\n",
      "_corr_coeff: to eval: x: 03-05_s:MRICerebralAtrophyQualAssessCCMerge y: 20-04:BayleyIIIMotorComposite valid_x: 298 valid_y: 415\n",
      "_corr_coeff: done: x: 03-05_s:MRICerebralAtrophyQualAssessCCMerge y: 20-04:BayleyIIIMotorComposite\n"
     ]
    },
    {
     "name": "stderr",
     "output_type": "stream",
     "text": [
      "\r",
      " 68%|██████▊   | 227/336 [00:48<00:22,  4.86it/s]"
     ]
    },
    {
     "name": "stdout",
     "output_type": "stream",
     "text": [
      "_corr_coeff: to eval: x: 03-05_s:MRIVascularTerritoryInfarctionMerge y: 20-10:moderateSevereDisabilityOrDeath valid_x: 267 valid_y: 504\n",
      "_corr_coeff: done: x: 03-05_s:MRIVascularTerritoryInfarctionMerge y: 20-10:moderateSevereDisabilityOrDeath\n",
      "_corr_coeff: to eval: x: 03-05_s:MRIVascularTerritoryInfarctionMerge y: 20-10:disabilityLevelDeath4Category valid_x: 267 valid_y: 498\n",
      "_corr_coeff: done: x: 03-05_s:MRIVascularTerritoryInfarctionMerge y: 20-10:disabilityLevelDeath4Category\n",
      "_corr_coeff: to eval: x: 03-05_s:MRIVascularTerritoryInfarctionMerge y: 20-10_1:disabilityLevelDeath valid_x: 267 valid_y: 498\n",
      "_corr_coeff: done: x: 03-05_s:MRIVascularTerritoryInfarctionMerge y: 20-10_1:disabilityLevelDeath\n",
      "_corr_coeff: to eval: x: 03-05_s:MRIVascularTerritoryInfarctionMerge y: 20-04:BayleyIIICognitiveComposite valid_x: 267 valid_y: 421\n",
      "_corr_coeff: done: x: 03-05_s:MRIVascularTerritoryInfarctionMerge y: 20-04:BayleyIIICognitiveComposite\n",
      "_corr_coeff: to eval: x: 03-05_s:MRIVascularTerritoryInfarctionMerge y: 20-04:BayleyIIILanguageComposite valid_x: 267 valid_y: 411\n",
      "_corr_coeff: done: x: 03-05_s:MRIVascularTerritoryInfarctionMerge y: 20-04:BayleyIIILanguageComposite\n",
      "_corr_coeff: to eval: x: 03-05_s:MRIVascularTerritoryInfarctionMerge y: 20-04:BayleyIIIMotorComposite valid_x: 267 valid_y: 415\n",
      "_corr_coeff: done: x: 03-05_s:MRIVascularTerritoryInfarctionMerge y: 20-04:BayleyIIIMotorComposite\n"
     ]
    },
    {
     "name": "stderr",
     "output_type": "stream",
     "text": [
      "\r",
      " 68%|██████▊   | 228/336 [00:48<00:20,  5.23it/s]"
     ]
    },
    {
     "name": "stdout",
     "output_type": "stream",
     "text": [
      "_corr_coeff: to eval: x: 03-05_s:MRIVascularTerritoryInfarctionLeftMerge y: 20-10:moderateSevereDisabilityOrDeath valid_x: 128 valid_y: 504\n",
      "_corr_coeff: done: x: 03-05_s:MRIVascularTerritoryInfarctionLeftMerge y: 20-10:moderateSevereDisabilityOrDeath\n",
      "_corr_coeff: to eval: x: 03-05_s:MRIVascularTerritoryInfarctionLeftMerge y: 20-10:disabilityLevelDeath4Category valid_x: 128 valid_y: 498\n",
      "_corr_coeff: done: x: 03-05_s:MRIVascularTerritoryInfarctionLeftMerge y: 20-10:disabilityLevelDeath4Category\n",
      "_corr_coeff: to eval: x: 03-05_s:MRIVascularTerritoryInfarctionLeftMerge y: 20-10_1:disabilityLevelDeath valid_x: 128 valid_y: 498\n",
      "_corr_coeff: done: x: 03-05_s:MRIVascularTerritoryInfarctionLeftMerge y: 20-10_1:disabilityLevelDeath\n",
      "_corr_coeff: to eval: x: 03-05_s:MRIVascularTerritoryInfarctionLeftMerge y: 20-04:BayleyIIICognitiveComposite valid_x: 128 valid_y: 421\n",
      "_corr_coeff: done: x: 03-05_s:MRIVascularTerritoryInfarctionLeftMerge y: 20-04:BayleyIIICognitiveComposite\n",
      "_corr_coeff: to eval: x: 03-05_s:MRIVascularTerritoryInfarctionLeftMerge y: 20-04:BayleyIIILanguageComposite valid_x: 128 valid_y: 411\n",
      "_corr_coeff: done: x: 03-05_s:MRIVascularTerritoryInfarctionLeftMerge y: 20-04:BayleyIIILanguageComposite\n",
      "_corr_coeff: to eval: x: 03-05_s:MRIVascularTerritoryInfarctionLeftMerge y: 20-04:BayleyIIIMotorComposite valid_x: 128 valid_y: 415\n",
      "_corr_coeff: done: x: 03-05_s:MRIVascularTerritoryInfarctionLeftMerge y: 20-04:BayleyIIIMotorComposite\n",
      "_corr_coeff: to eval: x: 03-05_s:MRIVascularTerritoryInfarctionRightMerge y: 20-10:moderateSevereDisabilityOrDeath valid_x: 128 valid_y: 504\n",
      "_corr_coeff: done: x: 03-05_s:MRIVascularTerritoryInfarctionRightMerge y: 20-10:moderateSevereDisabilityOrDeath\n",
      "_corr_coeff: to eval: x: 03-05_s:MRIVascularTerritoryInfarctionRightMerge y: 20-10:disabilityLevelDeath4Category valid_x: 128 valid_y: 498\n",
      "_corr_coeff: done: x: 03-05_s:MRIVascularTerritoryInfarctionRightMerge y: 20-10:disabilityLevelDeath4Category\n"
     ]
    },
    {
     "name": "stderr",
     "output_type": "stream",
     "text": [
      "\r",
      " 68%|██████▊   | 229/336 [00:48<00:21,  5.04it/s]"
     ]
    },
    {
     "name": "stdout",
     "output_type": "stream",
     "text": [
      "_corr_coeff: to eval: x: 03-05_s:MRIVascularTerritoryInfarctionRightMerge y: 20-10_1:disabilityLevelDeath valid_x: 128 valid_y: 498\n",
      "_corr_coeff: done: x: 03-05_s:MRIVascularTerritoryInfarctionRightMerge y: 20-10_1:disabilityLevelDeath\n",
      "_corr_coeff: to eval: x: 03-05_s:MRIVascularTerritoryInfarctionRightMerge y: 20-04:BayleyIIICognitiveComposite valid_x: 128 valid_y: 421\n",
      "_corr_coeff: done: x: 03-05_s:MRIVascularTerritoryInfarctionRightMerge y: 20-04:BayleyIIICognitiveComposite\n",
      "_corr_coeff: to eval: x: 03-05_s:MRIVascularTerritoryInfarctionRightMerge y: 20-04:BayleyIIILanguageComposite valid_x: 128 valid_y: 411\n",
      "_corr_coeff: done: x: 03-05_s:MRIVascularTerritoryInfarctionRightMerge y: 20-04:BayleyIIILanguageComposite\n",
      "_corr_coeff: to eval: x: 03-05_s:MRIVascularTerritoryInfarctionRightMerge y: 20-04:BayleyIIIMotorComposite valid_x: 128 valid_y: 415\n",
      "_corr_coeff: done: x: 03-05_s:MRIVascularTerritoryInfarctionRightMerge y: 20-04:BayleyIIIMotorComposite\n",
      "_corr_coeff: to eval: x: 03-05_s:MRIHemisphericDevastation y: 20-10:moderateSevereDisabilityOrDeath valid_x: 298 valid_y: 504\n",
      "_corr_coeff: done: x: 03-05_s:MRIHemisphericDevastation y: 20-10:moderateSevereDisabilityOrDeath\n",
      "_corr_coeff: to eval: x: 03-05_s:MRIHemisphericDevastation y: 20-10:disabilityLevelDeath4Category valid_x: 298 valid_y: 498\n",
      "_corr_coeff: done: x: 03-05_s:MRIHemisphericDevastation y: 20-10:disabilityLevelDeath4Category\n"
     ]
    },
    {
     "name": "stderr",
     "output_type": "stream",
     "text": [
      "\r",
      " 68%|██████▊   | 230/336 [00:49<00:20,  5.18it/s]"
     ]
    },
    {
     "name": "stdout",
     "output_type": "stream",
     "text": [
      "_corr_coeff: to eval: x: 03-05_s:MRIHemisphericDevastation y: 20-10_1:disabilityLevelDeath valid_x: 298 valid_y: 498\n",
      "_corr_coeff: done: x: 03-05_s:MRIHemisphericDevastation y: 20-10_1:disabilityLevelDeath\n",
      "_corr_coeff: to eval: x: 03-05_s:MRIHemisphericDevastation y: 20-04:BayleyIIICognitiveComposite valid_x: 298 valid_y: 421\n",
      "_corr_coeff: done: x: 03-05_s:MRIHemisphericDevastation y: 20-04:BayleyIIICognitiveComposite\n",
      "_corr_coeff: to eval: x: 03-05_s:MRIHemisphericDevastation y: 20-04:BayleyIIILanguageComposite valid_x: 298 valid_y: 411\n",
      "_corr_coeff: done: x: 03-05_s:MRIHemisphericDevastation y: 20-04:BayleyIIILanguageComposite\n",
      "_corr_coeff: to eval: x: 03-05_s:MRIHemisphericDevastation y: 20-04:BayleyIIIMotorComposite valid_x: 298 valid_y: 415\n",
      "_corr_coeff: done: x: 03-05_s:MRIHemisphericDevastation y: 20-04:BayleyIIIMotorComposite\n",
      "_corr_coeff: to eval: x: 03-05_s:MRIVentricularDilatation y: 20-10:moderateSevereDisabilityOrDeath valid_x: 298 valid_y: 504\n",
      "_corr_coeff: done: x: 03-05_s:MRIVentricularDilatation y: 20-10:moderateSevereDisabilityOrDeath\n",
      "_corr_coeff: to eval: x: 03-05_s:MRIVentricularDilatation y: 20-10:disabilityLevelDeath4Category valid_x: 298 valid_y: 498\n",
      "_corr_coeff: done: x: 03-05_s:MRIVentricularDilatation y: 20-10:disabilityLevelDeath4Category\n"
     ]
    },
    {
     "name": "stderr",
     "output_type": "stream",
     "text": [
      "\r",
      " 69%|██████▉   | 231/336 [00:49<00:21,  4.88it/s]"
     ]
    },
    {
     "name": "stdout",
     "output_type": "stream",
     "text": [
      "_corr_coeff: to eval: x: 03-05_s:MRIVentricularDilatation y: 20-10_1:disabilityLevelDeath valid_x: 298 valid_y: 498\n",
      "_corr_coeff: done: x: 03-05_s:MRIVentricularDilatation y: 20-10_1:disabilityLevelDeath\n",
      "_corr_coeff: to eval: x: 03-05_s:MRIVentricularDilatation y: 20-04:BayleyIIICognitiveComposite valid_x: 298 valid_y: 421\n",
      "_corr_coeff: done: x: 03-05_s:MRIVentricularDilatation y: 20-04:BayleyIIICognitiveComposite\n",
      "_corr_coeff: to eval: x: 03-05_s:MRIVentricularDilatation y: 20-04:BayleyIIILanguageComposite valid_x: 298 valid_y: 411\n",
      "_corr_coeff: done: x: 03-05_s:MRIVentricularDilatation y: 20-04:BayleyIIILanguageComposite\n",
      "_corr_coeff: to eval: x: 03-05_s:MRIVentricularDilatation y: 20-04:BayleyIIIMotorComposite valid_x: 298 valid_y: 415\n",
      "_corr_coeff: done: x: 03-05_s:MRIVentricularDilatation y: 20-04:BayleyIIIMotorComposite\n",
      "_corr_coeff: to eval: x: 03-05_s:MRIVascularLesion y: 20-10:moderateSevereDisabilityOrDeath valid_x: 298 valid_y: 504\n",
      "_corr_coeff: done: x: 03-05_s:MRIVascularLesion y: 20-10:moderateSevereDisabilityOrDeath\n",
      "_corr_coeff: to eval: x: 03-05_s:MRIVascularLesion y: 20-10:disabilityLevelDeath4Category valid_x: 298 valid_y: 498\n",
      "_corr_coeff: done: x: 03-05_s:MRIVascularLesion y: 20-10:disabilityLevelDeath4Category\n",
      "_corr_coeff: to eval: x: 03-05_s:MRIVascularLesion y: 20-10_1:disabilityLevelDeath valid_x: 298 valid_y: 498\n",
      "_corr_coeff: done: x: 03-05_s:MRIVascularLesion y: 20-10_1:disabilityLevelDeath\n"
     ]
    },
    {
     "name": "stderr",
     "output_type": "stream",
     "text": [
      "\r",
      " 69%|██████▉   | 232/336 [00:49<00:20,  5.04it/s]"
     ]
    },
    {
     "name": "stdout",
     "output_type": "stream",
     "text": [
      "_corr_coeff: to eval: x: 03-05_s:MRIVascularLesion y: 20-04:BayleyIIICognitiveComposite valid_x: 298 valid_y: 421\n",
      "_corr_coeff: done: x: 03-05_s:MRIVascularLesion y: 20-04:BayleyIIICognitiveComposite\n",
      "_corr_coeff: to eval: x: 03-05_s:MRIVascularLesion y: 20-04:BayleyIIILanguageComposite valid_x: 298 valid_y: 411\n",
      "_corr_coeff: done: x: 03-05_s:MRIVascularLesion y: 20-04:BayleyIIILanguageComposite\n",
      "_corr_coeff: to eval: x: 03-05_s:MRIVascularLesion y: 20-04:BayleyIIIMotorComposite valid_x: 298 valid_y: 415\n",
      "_corr_coeff: done: x: 03-05_s:MRIVascularLesion y: 20-04:BayleyIIIMotorComposite\n",
      "_corr_coeff: to eval: x: 03-05_s:MRIIntraventricularLesion y: 20-10:moderateSevereDisabilityOrDeath valid_x: 298 valid_y: 504\n",
      "_corr_coeff: done: x: 03-05_s:MRIIntraventricularLesion y: 20-10:moderateSevereDisabilityOrDeath\n",
      "_corr_coeff: to eval: x: 03-05_s:MRIIntraventricularLesion y: 20-10:disabilityLevelDeath4Category valid_x: 298 valid_y: 498\n",
      "_corr_coeff: done: x: 03-05_s:MRIIntraventricularLesion y: 20-10:disabilityLevelDeath4Category\n",
      "_corr_coeff: to eval: x: 03-05_s:MRIIntraventricularLesion y: 20-10_1:disabilityLevelDeath valid_x: 298 valid_y: 498\n",
      "_corr_coeff: done: x: 03-05_s:MRIIntraventricularLesion y: 20-10_1:disabilityLevelDeath\n"
     ]
    },
    {
     "name": "stderr",
     "output_type": "stream",
     "text": [
      "\r",
      " 69%|██████▉   | 233/336 [00:49<00:21,  4.79it/s]"
     ]
    },
    {
     "name": "stdout",
     "output_type": "stream",
     "text": [
      "_corr_coeff: to eval: x: 03-05_s:MRIIntraventricularLesion y: 20-04:BayleyIIICognitiveComposite valid_x: 298 valid_y: 421\n",
      "_corr_coeff: done: x: 03-05_s:MRIIntraventricularLesion y: 20-04:BayleyIIICognitiveComposite\n",
      "_corr_coeff: to eval: x: 03-05_s:MRIIntraventricularLesion y: 20-04:BayleyIIILanguageComposite valid_x: 298 valid_y: 411\n",
      "_corr_coeff: done: x: 03-05_s:MRIIntraventricularLesion y: 20-04:BayleyIIILanguageComposite\n",
      "_corr_coeff: to eval: x: 03-05_s:MRIIntraventricularLesion y: 20-04:BayleyIIIMotorComposite valid_x: 298 valid_y: 415\n",
      "_corr_coeff: done: x: 03-05_s:MRIIntraventricularLesion y: 20-04:BayleyIIIMotorComposite\n",
      "_corr_coeff: to eval: x: 03-05_s1:MRINRNPatternOfInjuryMerge y: 20-10:moderateSevereDisabilityOrDeath valid_x: 458 valid_y: 504\n",
      "_corr_coeff: done: x: 03-05_s1:MRINRNPatternOfInjuryMerge y: 20-10:moderateSevereDisabilityOrDeath\n",
      "_corr_coeff: to eval: x: 03-05_s1:MRINRNPatternOfInjuryMerge y: 20-10:disabilityLevelDeath4Category valid_x: 458 valid_y: 498\n",
      "_corr_coeff: done: x: 03-05_s1:MRINRNPatternOfInjuryMerge y: 20-10:disabilityLevelDeath4Category\n",
      "_corr_coeff: to eval: x: 03-05_s1:MRINRNPatternOfInjuryMerge y: 20-10_1:disabilityLevelDeath valid_x: 458 valid_y: 498\n",
      "_corr_coeff: done: x: 03-05_s1:MRINRNPatternOfInjuryMerge y: 20-10_1:disabilityLevelDeath\n",
      "_corr_coeff: to eval: x: 03-05_s1:MRINRNPatternOfInjuryMerge y: 20-04:BayleyIIICognitiveComposite valid_x: 458 valid_y: 421\n",
      "_corr_coeff: done: x: 03-05_s1:MRINRNPatternOfInjuryMerge y: 20-04:BayleyIIICognitiveComposite\n"
     ]
    },
    {
     "name": "stderr",
     "output_type": "stream",
     "text": [
      "\r",
      " 70%|██████▉   | 234/336 [00:49<00:20,  4.87it/s]"
     ]
    },
    {
     "name": "stdout",
     "output_type": "stream",
     "text": [
      "_corr_coeff: to eval: x: 03-05_s1:MRINRNPatternOfInjuryMerge y: 20-04:BayleyIIILanguageComposite valid_x: 458 valid_y: 411\n",
      "_corr_coeff: done: x: 03-05_s1:MRINRNPatternOfInjuryMerge y: 20-04:BayleyIIILanguageComposite\n",
      "_corr_coeff: to eval: x: 03-05_s1:MRINRNPatternOfInjuryMerge y: 20-04:BayleyIIIMotorComposite valid_x: 458 valid_y: 415\n",
      "_corr_coeff: done: x: 03-05_s1:MRINRNPatternOfInjuryMerge y: 20-04:BayleyIIIMotorComposite\n",
      "_corr_coeff: to eval: x: 03-05_s1:MRINRNPatternOfInjuryAvg y: 20-10:moderateSevereDisabilityOrDeath valid_x: 456 valid_y: 504\n",
      "_corr_coeff: done: x: 03-05_s1:MRINRNPatternOfInjuryAvg y: 20-10:moderateSevereDisabilityOrDeath\n",
      "_corr_coeff: to eval: x: 03-05_s1:MRINRNPatternOfInjuryAvg y: 20-10:disabilityLevelDeath4Category valid_x: 456 valid_y: 498\n",
      "_corr_coeff: done: x: 03-05_s1:MRINRNPatternOfInjuryAvg y: 20-10:disabilityLevelDeath4Category\n",
      "_corr_coeff: to eval: x: 03-05_s1:MRINRNPatternOfInjuryAvg y: 20-10_1:disabilityLevelDeath valid_x: 456 valid_y: 498\n",
      "_corr_coeff: done: x: 03-05_s1:MRINRNPatternOfInjuryAvg y: 20-10_1:disabilityLevelDeath\n"
     ]
    },
    {
     "name": "stderr",
     "output_type": "stream",
     "text": [
      "\r",
      " 70%|██████▉   | 235/336 [00:50<00:22,  4.53it/s]"
     ]
    },
    {
     "name": "stdout",
     "output_type": "stream",
     "text": [
      "_corr_coeff: to eval: x: 03-05_s1:MRINRNPatternOfInjuryAvg y: 20-04:BayleyIIICognitiveComposite valid_x: 456 valid_y: 421\n",
      "_corr_coeff: done: x: 03-05_s1:MRINRNPatternOfInjuryAvg y: 20-04:BayleyIIICognitiveComposite\n",
      "_corr_coeff: to eval: x: 03-05_s1:MRINRNPatternOfInjuryAvg y: 20-04:BayleyIIILanguageComposite valid_x: 456 valid_y: 411\n",
      "_corr_coeff: done: x: 03-05_s1:MRINRNPatternOfInjuryAvg y: 20-04:BayleyIIILanguageComposite\n",
      "_corr_coeff: to eval: x: 03-05_s1:MRINRNPatternOfInjuryAvg y: 20-04:BayleyIIIMotorComposite valid_x: 456 valid_y: 415\n",
      "_corr_coeff: done: x: 03-05_s1:MRINRNPatternOfInjuryAvg y: 20-04:BayleyIIIMotorComposite\n",
      "_corr_coeff: to eval: x: 03-05_s1:MRINRNPatternOfInjuryMax y: 20-10:moderateSevereDisabilityOrDeath valid_x: 456 valid_y: 504\n",
      "_corr_coeff: done: x: 03-05_s1:MRINRNPatternOfInjuryMax y: 20-10:moderateSevereDisabilityOrDeath\n",
      "_corr_coeff: to eval: x: 03-05_s1:MRINRNPatternOfInjuryMax y: 20-10:disabilityLevelDeath4Category valid_x: 456 valid_y: 498\n",
      "_corr_coeff: done: x: 03-05_s1:MRINRNPatternOfInjuryMax y: 20-10:disabilityLevelDeath4Category\n",
      "_corr_coeff: to eval: x: 03-05_s1:MRINRNPatternOfInjuryMax y: 20-10_1:disabilityLevelDeath valid_x: 456 valid_y: 498\n",
      "_corr_coeff: done: x: 03-05_s1:MRINRNPatternOfInjuryMax y: 20-10_1:disabilityLevelDeath\n"
     ]
    },
    {
     "name": "stderr",
     "output_type": "stream",
     "text": [
      "\r",
      " 70%|███████   | 236/336 [00:50<00:23,  4.33it/s]"
     ]
    },
    {
     "name": "stdout",
     "output_type": "stream",
     "text": [
      "_corr_coeff: to eval: x: 03-05_s1:MRINRNPatternOfInjuryMax y: 20-04:BayleyIIICognitiveComposite valid_x: 456 valid_y: 421\n",
      "_corr_coeff: done: x: 03-05_s1:MRINRNPatternOfInjuryMax y: 20-04:BayleyIIICognitiveComposite\n",
      "_corr_coeff: to eval: x: 03-05_s1:MRINRNPatternOfInjuryMax y: 20-04:BayleyIIILanguageComposite valid_x: 456 valid_y: 411\n",
      "_corr_coeff: done: x: 03-05_s1:MRINRNPatternOfInjuryMax y: 20-04:BayleyIIILanguageComposite\n",
      "_corr_coeff: to eval: x: 03-05_s1:MRINRNPatternOfInjuryMax y: 20-04:BayleyIIIMotorComposite valid_x: 456 valid_y: 415\n",
      "_corr_coeff: done: x: 03-05_s1:MRINRNPatternOfInjuryMax y: 20-04:BayleyIIIMotorComposite\n",
      "_corr_coeff: to eval: x: 04-01:dischargeWeight_g y: 20-10:moderateSevereDisabilityOrDeath valid_x: 471 valid_y: 504\n",
      "_corr_coeff: done: x: 04-01:dischargeWeight_g y: 20-10:moderateSevereDisabilityOrDeath\n",
      "_corr_coeff: to eval: x: 04-01:dischargeWeight_g y: 20-10:disabilityLevelDeath4Category valid_x: 471 valid_y: 498\n",
      "_corr_coeff: done: x: 04-01:dischargeWeight_g y: 20-10:disabilityLevelDeath4Category\n"
     ]
    },
    {
     "name": "stderr",
     "output_type": "stream",
     "text": [
      "\r",
      " 71%|███████   | 237/336 [00:50<00:22,  4.50it/s]"
     ]
    },
    {
     "name": "stdout",
     "output_type": "stream",
     "text": [
      "_corr_coeff: to eval: x: 04-01:dischargeWeight_g y: 20-10_1:disabilityLevelDeath valid_x: 471 valid_y: 498\n",
      "_corr_coeff: done: x: 04-01:dischargeWeight_g y: 20-10_1:disabilityLevelDeath\n",
      "_corr_coeff: to eval: x: 04-01:dischargeWeight_g y: 20-04:BayleyIIICognitiveComposite valid_x: 471 valid_y: 421\n",
      "_corr_coeff: done: x: 04-01:dischargeWeight_g y: 20-04:BayleyIIICognitiveComposite\n",
      "_corr_coeff: to eval: x: 04-01:dischargeWeight_g y: 20-04:BayleyIIILanguageComposite valid_x: 471 valid_y: 411\n",
      "_corr_coeff: done: x: 04-01:dischargeWeight_g y: 20-04:BayleyIIILanguageComposite\n",
      "_corr_coeff: to eval: x: 04-01:dischargeWeight_g y: 20-04:BayleyIIIMotorComposite valid_x: 471 valid_y: 415\n",
      "_corr_coeff: done: x: 04-01:dischargeWeight_g y: 20-04:BayleyIIIMotorComposite\n",
      "_corr_coeff: to eval: x: 04-01:dischargeLength_cm y: 20-10:moderateSevereDisabilityOrDeath valid_x: 442 valid_y: 504\n",
      "_corr_coeff: done: x: 04-01:dischargeLength_cm y: 20-10:moderateSevereDisabilityOrDeath\n",
      "_corr_coeff: to eval: x: 04-01:dischargeLength_cm y: 20-10:disabilityLevelDeath4Category valid_x: 442 valid_y: 498\n",
      "_corr_coeff: done: x: 04-01:dischargeLength_cm y: 20-10:disabilityLevelDeath4Category\n",
      "_corr_coeff: to eval: x: 04-01:dischargeLength_cm y: 20-10_1:disabilityLevelDeath valid_x: 442 valid_y: 498\n",
      "_corr_coeff: done: x: 04-01:dischargeLength_cm y: 20-10_1:disabilityLevelDeath\n"
     ]
    },
    {
     "name": "stderr",
     "output_type": "stream",
     "text": [
      "\r",
      " 71%|███████   | 238/336 [00:50<00:22,  4.33it/s]"
     ]
    },
    {
     "name": "stdout",
     "output_type": "stream",
     "text": [
      "_corr_coeff: to eval: x: 04-01:dischargeLength_cm y: 20-04:BayleyIIICognitiveComposite valid_x: 442 valid_y: 421\n",
      "_corr_coeff: done: x: 04-01:dischargeLength_cm y: 20-04:BayleyIIICognitiveComposite\n",
      "_corr_coeff: to eval: x: 04-01:dischargeLength_cm y: 20-04:BayleyIIILanguageComposite valid_x: 442 valid_y: 411\n",
      "_corr_coeff: done: x: 04-01:dischargeLength_cm y: 20-04:BayleyIIILanguageComposite\n",
      "_corr_coeff: to eval: x: 04-01:dischargeLength_cm y: 20-04:BayleyIIIMotorComposite valid_x: 442 valid_y: 415\n",
      "_corr_coeff: done: x: 04-01:dischargeLength_cm y: 20-04:BayleyIIIMotorComposite\n",
      "_corr_coeff: to eval: x: 04-01:dischargeHeadCircumference_cm y: 20-10:moderateSevereDisabilityOrDeath valid_x: 446 valid_y: 504\n",
      "_corr_coeff: done: x: 04-01:dischargeHeadCircumference_cm y: 20-10:moderateSevereDisabilityOrDeath\n",
      "_corr_coeff: to eval: x: 04-01:dischargeHeadCircumference_cm y: 20-10:disabilityLevelDeath4Category valid_x: 446 valid_y: 498\n",
      "_corr_coeff: done: x: 04-01:dischargeHeadCircumference_cm y: 20-10:disabilityLevelDeath4Category\n"
     ]
    },
    {
     "name": "stderr",
     "output_type": "stream",
     "text": [
      "\r",
      " 71%|███████   | 239/336 [00:51<00:21,  4.51it/s]"
     ]
    },
    {
     "name": "stdout",
     "output_type": "stream",
     "text": [
      "_corr_coeff: to eval: x: 04-01:dischargeHeadCircumference_cm y: 20-10_1:disabilityLevelDeath valid_x: 446 valid_y: 498\n",
      "_corr_coeff: done: x: 04-01:dischargeHeadCircumference_cm y: 20-10_1:disabilityLevelDeath\n",
      "_corr_coeff: to eval: x: 04-01:dischargeHeadCircumference_cm y: 20-04:BayleyIIICognitiveComposite valid_x: 446 valid_y: 421\n",
      "_corr_coeff: done: x: 04-01:dischargeHeadCircumference_cm y: 20-04:BayleyIIICognitiveComposite\n",
      "_corr_coeff: to eval: x: 04-01:dischargeHeadCircumference_cm y: 20-04:BayleyIIILanguageComposite valid_x: 446 valid_y: 411\n",
      "_corr_coeff: done: x: 04-01:dischargeHeadCircumference_cm y: 20-04:BayleyIIILanguageComposite\n",
      "_corr_coeff: to eval: x: 04-01:dischargeHeadCircumference_cm y: 20-04:BayleyIIIMotorComposite valid_x: 446 valid_y: 415\n",
      "_corr_coeff: done: x: 04-01:dischargeHeadCircumference_cm y: 20-04:BayleyIIIMotorComposite\n",
      "_corr_coeff: to eval: x: 04-01:transferWeight_g y: 20-10:moderateSevereDisabilityOrDeath valid_x: 40 valid_y: 504\n",
      "_corr_coeff: done: x: 04-01:transferWeight_g y: 20-10:moderateSevereDisabilityOrDeath\n",
      "_corr_coeff: to eval: x: 04-01:transferWeight_g y: 20-10:disabilityLevelDeath4Category valid_x: 40 valid_y: 498\n",
      "_corr_coeff: done: x: 04-01:transferWeight_g y: 20-10:disabilityLevelDeath4Category\n",
      "_corr_coeff: to eval: x: 04-01:transferWeight_g y: 20-10_1:disabilityLevelDeath valid_x: 40 valid_y: 498\n",
      "_corr_coeff: done: x: 04-01:transferWeight_g y: 20-10_1:disabilityLevelDeath\n"
     ]
    },
    {
     "name": "stderr",
     "output_type": "stream",
     "text": [
      "\r",
      " 71%|███████▏  | 240/336 [00:51<00:20,  4.60it/s]"
     ]
    },
    {
     "name": "stderr",
     "output_type": "stream",
     "text": [
      "\r",
      " 72%|███████▏  | 241/336 [00:51<00:18,  5.05it/s]"
     ]
    },
    {
     "name": "stdout",
     "output_type": "stream",
     "text": [
      "_corr_coeff: to eval: x: 04-01:transferWeight_g y: 20-04:BayleyIIICognitiveComposite valid_x: 40 valid_y: 421\n",
      "_corr_coeff: done: x: 04-01:transferWeight_g y: 20-04:BayleyIIICognitiveComposite\n",
      "_corr_coeff: to eval: x: 04-01:transferWeight_g y: 20-04:BayleyIIILanguageComposite valid_x: 40 valid_y: 411\n",
      "_corr_coeff: done: x: 04-01:transferWeight_g y: 20-04:BayleyIIILanguageComposite\n",
      "_corr_coeff: to eval: x: 04-01:transferWeight_g y: 20-04:BayleyIIIMotorComposite valid_x: 40 valid_y: 415\n",
      "_corr_coeff: done: x: 04-01:transferWeight_g y: 20-04:BayleyIIIMotorComposite\n",
      "_corr_coeff: to eval: x: 04-01:transferLength_cm y: 20-10:moderateSevereDisabilityOrDeath valid_x: 34 valid_y: 504\n",
      "_corr_coeff: done: x: 04-01:transferLength_cm y: 20-10:moderateSevereDisabilityOrDeath\n",
      "_corr_coeff: to eval: x: 04-01:transferLength_cm y: 20-10:disabilityLevelDeath4Category valid_x: 34 valid_y: 498\n",
      "_corr_coeff: done: x: 04-01:transferLength_cm y: 20-10:disabilityLevelDeath4Category\n",
      "_corr_coeff: to eval: x: 04-01:transferLength_cm y: 20-10_1:disabilityLevelDeath valid_x: 34 valid_y: 498\n",
      "_corr_coeff: done: x: 04-01:transferLength_cm y: 20-10_1:disabilityLevelDeath\n",
      "_corr_coeff: to eval: x: 04-01:transferLength_cm y: 20-04:BayleyIIICognitiveComposite valid_x: 34 valid_y: 421\n",
      "_corr_coeff: done: x: 04-01:transferLength_cm y: 20-04:BayleyIIICognitiveComposite\n",
      "_corr_coeff: to eval: x: 04-01:transferLength_cm y: 20-04:BayleyIIILanguageComposite valid_x: 34 valid_y: 411\n",
      "_corr_coeff: done: x: 04-01:transferLength_cm y: 20-04:BayleyIIILanguageComposite\n",
      "_corr_coeff: to eval: x: 04-01:transferLength_cm y: 20-04:BayleyIIIMotorComposite valid_x: 34 valid_y: 415\n",
      "_corr_coeff: done: x: 04-01:transferLength_cm y: 20-04:BayleyIIIMotorComposite\n"
     ]
    },
    {
     "name": "stderr",
     "output_type": "stream",
     "text": [
      "\r",
      " 72%|███████▏  | 242/336 [00:51<00:18,  5.02it/s]"
     ]
    },
    {
     "name": "stdout",
     "output_type": "stream",
     "text": [
      "_corr_coeff: to eval: x: 04-01:transferHeadCircumference_cm y: 20-10:moderateSevereDisabilityOrDeath valid_x: 35 valid_y: 504\n",
      "_corr_coeff: done: x: 04-01:transferHeadCircumference_cm y: 20-10:moderateSevereDisabilityOrDeath\n",
      "_corr_coeff: to eval: x: 04-01:transferHeadCircumference_cm y: 20-10:disabilityLevelDeath4Category valid_x: 35 valid_y: 498\n",
      "_corr_coeff: done: x: 04-01:transferHeadCircumference_cm y: 20-10:disabilityLevelDeath4Category\n",
      "_corr_coeff: to eval: x: 04-01:transferHeadCircumference_cm y: 20-10_1:disabilityLevelDeath valid_x: 35 valid_y: 498\n",
      "_corr_coeff: done: x: 04-01:transferHeadCircumference_cm y: 20-10_1:disabilityLevelDeath\n",
      "_corr_coeff: to eval: x: 04-01:transferHeadCircumference_cm y: 20-04:BayleyIIICognitiveComposite valid_x: 35 valid_y: 421\n",
      "_corr_coeff: done: x: 04-01:transferHeadCircumference_cm y: 20-04:BayleyIIICognitiveComposite\n",
      "_corr_coeff: to eval: x: 04-01:transferHeadCircumference_cm y: 20-04:BayleyIIILanguageComposite valid_x: 35 valid_y: 411\n",
      "_corr_coeff: done: x: 04-01:transferHeadCircumference_cm y: 20-04:BayleyIIILanguageComposite\n",
      "_corr_coeff: to eval: x: 04-01:transferHeadCircumference_cm y: 20-04:BayleyIIIMotorComposite valid_x: 35 valid_y: 415\n",
      "_corr_coeff: done: x: 04-01:transferHeadCircumference_cm y: 20-04:BayleyIIIMotorComposite\n"
     ]
    },
    {
     "name": "stderr",
     "output_type": "stream",
     "text": [
      "\r",
      " 72%|███████▏  | 243/336 [00:51<00:17,  5.19it/s]"
     ]
    },
    {
     "name": "stdout",
     "output_type": "stream",
     "text": [
      "_corr_coeff: to eval: x: 04-01:homeTherapyStatus y: 20-10:moderateSevereDisabilityOrDeath valid_x: 328 valid_y: 504\n",
      "_corr_coeff: done: x: 04-01:homeTherapyStatus y: 20-10:moderateSevereDisabilityOrDeath\n",
      "_corr_coeff: to eval: x: 04-01:homeTherapyStatus y: 20-10:disabilityLevelDeath4Category valid_x: 328 valid_y: 498\n",
      "_corr_coeff: done: x: 04-01:homeTherapyStatus y: 20-10:disabilityLevelDeath4Category\n",
      "_corr_coeff: to eval: x: 04-01:homeTherapyStatus y: 20-10_1:disabilityLevelDeath valid_x: 328 valid_y: 498\n",
      "_corr_coeff: done: x: 04-01:homeTherapyStatus y: 20-10_1:disabilityLevelDeath\n",
      "_corr_coeff: to eval: x: 04-01:homeTherapyStatus y: 20-04:BayleyIIICognitiveComposite valid_x: 328 valid_y: 421\n",
      "_corr_coeff: done: x: 04-01:homeTherapyStatus y: 20-04:BayleyIIICognitiveComposite\n",
      "_corr_coeff: to eval: x: 04-01:homeTherapyStatus y: 20-04:BayleyIIILanguageComposite valid_x: 328 valid_y: 411\n",
      "_corr_coeff: done: x: 04-01:homeTherapyStatus y: 20-04:BayleyIIILanguageComposite\n",
      "_corr_coeff: to eval: x: 04-01:homeTherapyStatus y: 20-04:BayleyIIIMotorComposite valid_x: 328 valid_y: 415\n",
      "_corr_coeff: done: x: 04-01:homeTherapyStatus y: 20-04:BayleyIIIMotorComposite\n",
      "_corr_coeff: to eval: x: 04-01:homeTherapyOxygen y: 20-10:moderateSevereDisabilityOrDeath valid_x: 131 valid_y: 504\n",
      "_corr_coeff: done: x: 04-01:homeTherapyOxygen y: 20-10:moderateSevereDisabilityOrDeath\n",
      "_corr_coeff: to eval: x: 04-01:homeTherapyOxygen y: 20-10:disabilityLevelDeath4Category valid_x: 131 valid_y: 498\n",
      "_corr_coeff: done: x: 04-01:homeTherapyOxygen y: 20-10:disabilityLevelDeath4Category\n"
     ]
    },
    {
     "name": "stderr",
     "output_type": "stream",
     "text": [
      "\r",
      " 73%|███████▎  | 244/336 [00:52<00:16,  5.49it/s]"
     ]
    },
    {
     "name": "stdout",
     "output_type": "stream",
     "text": [
      "_corr_coeff: to eval: x: 04-01:homeTherapyOxygen y: 20-10_1:disabilityLevelDeath valid_x: 131 valid_y: 498\n",
      "_corr_coeff: done: x: 04-01:homeTherapyOxygen y: 20-10_1:disabilityLevelDeath\n",
      "_corr_coeff: to eval: x: 04-01:homeTherapyOxygen y: 20-04:BayleyIIICognitiveComposite valid_x: 131 valid_y: 421\n",
      "_corr_coeff: done: x: 04-01:homeTherapyOxygen y: 20-04:BayleyIIICognitiveComposite\n",
      "_corr_coeff: to eval: x: 04-01:homeTherapyOxygen y: 20-04:BayleyIIILanguageComposite valid_x: 131 valid_y: 411\n",
      "_corr_coeff: done: x: 04-01:homeTherapyOxygen y: 20-04:BayleyIIILanguageComposite\n",
      "_corr_coeff: to eval: x: 04-01:homeTherapyOxygen y: 20-04:BayleyIIIMotorComposite valid_x: 131 valid_y: 415\n",
      "_corr_coeff: done: x: 04-01:homeTherapyOxygen y: 20-04:BayleyIIIMotorComposite\n",
      "_corr_coeff: to eval: x: 04-01:homeTherapyGavageTubeFeed y: 20-10:moderateSevereDisabilityOrDeath valid_x: 131 valid_y: 504\n",
      "_corr_coeff: done: x: 04-01:homeTherapyGavageTubeFeed y: 20-10:moderateSevereDisabilityOrDeath\n",
      "_corr_coeff: to eval: x: 04-01:homeTherapyGavageTubeFeed y: 20-10:disabilityLevelDeath4Category valid_x: 131 valid_y: 498\n",
      "_corr_coeff: done: x: 04-01:homeTherapyGavageTubeFeed y: 20-10:disabilityLevelDeath4Category\n",
      "_corr_coeff: to eval: x: 04-01:homeTherapyGavageTubeFeed y: 20-10_1:disabilityLevelDeath valid_x: 131 valid_y: 498\n",
      "_corr_coeff: done: x: 04-01:homeTherapyGavageTubeFeed y: 20-10_1:disabilityLevelDeath\n",
      "_corr_coeff: to eval: x: 04-01:homeTherapyGavageTubeFeed y: 20-04:BayleyIIICognitiveComposite valid_x: 131 valid_y: 421\n",
      "_corr_coeff: done: x: 04-01:homeTherapyGavageTubeFeed y: 20-04:BayleyIIICognitiveComposite\n"
     ]
    },
    {
     "name": "stderr",
     "output_type": "stream",
     "text": [
      "\r",
      " 73%|███████▎  | 245/336 [00:52<00:15,  5.71it/s]"
     ]
    },
    {
     "name": "stderr",
     "output_type": "stream",
     "text": [
      "\r",
      " 73%|███████▎  | 246/336 [00:52<00:15,  5.85it/s]"
     ]
    },
    {
     "name": "stdout",
     "output_type": "stream",
     "text": [
      "_corr_coeff: to eval: x: 04-01:homeTherapyGavageTubeFeed y: 20-04:BayleyIIILanguageComposite valid_x: 131 valid_y: 411\n",
      "_corr_coeff: done: x: 04-01:homeTherapyGavageTubeFeed y: 20-04:BayleyIIILanguageComposite\n",
      "_corr_coeff: to eval: x: 04-01:homeTherapyGavageTubeFeed y: 20-04:BayleyIIIMotorComposite valid_x: 131 valid_y: 415\n",
      "_corr_coeff: done: x: 04-01:homeTherapyGavageTubeFeed y: 20-04:BayleyIIIMotorComposite\n",
      "_corr_coeff: to eval: x: 04-01:homeTherapyGastrostomyTubeFeed y: 20-10:moderateSevereDisabilityOrDeath valid_x: 131 valid_y: 504\n",
      "_corr_coeff: done: x: 04-01:homeTherapyGastrostomyTubeFeed y: 20-10:moderateSevereDisabilityOrDeath\n",
      "_corr_coeff: to eval: x: 04-01:homeTherapyGastrostomyTubeFeed y: 20-10:disabilityLevelDeath4Category valid_x: 131 valid_y: 498\n",
      "_corr_coeff: done: x: 04-01:homeTherapyGastrostomyTubeFeed y: 20-10:disabilityLevelDeath4Category\n",
      "_corr_coeff: to eval: x: 04-01:homeTherapyGastrostomyTubeFeed y: 20-10_1:disabilityLevelDeath valid_x: 131 valid_y: 498\n",
      "_corr_coeff: done: x: 04-01:homeTherapyGastrostomyTubeFeed y: 20-10_1:disabilityLevelDeath\n",
      "_corr_coeff: to eval: x: 04-01:homeTherapyGastrostomyTubeFeed y: 20-04:BayleyIIICognitiveComposite valid_x: 131 valid_y: 421\n",
      "_corr_coeff: done: x: 04-01:homeTherapyGastrostomyTubeFeed y: 20-04:BayleyIIICognitiveComposite\n",
      "_corr_coeff: to eval: x: 04-01:homeTherapyGastrostomyTubeFeed y: 20-04:BayleyIIILanguageComposite valid_x: 131 valid_y: 411\n",
      "_corr_coeff: done: x: 04-01:homeTherapyGastrostomyTubeFeed y: 20-04:BayleyIIILanguageComposite\n",
      "_corr_coeff: to eval: x: 04-01:homeTherapyGastrostomyTubeFeed y: 20-04:BayleyIIIMotorComposite valid_x: 131 valid_y: 415\n",
      "_corr_coeff: done: x: 04-01:homeTherapyGastrostomyTubeFeed y: 20-04:BayleyIIIMotorComposite\n"
     ]
    },
    {
     "name": "stderr",
     "output_type": "stream",
     "text": [
      "\r",
      " 74%|███████▎  | 247/336 [00:52<00:15,  5.91it/s]"
     ]
    },
    {
     "name": "stdout",
     "output_type": "stream",
     "text": [
      "_corr_coeff: to eval: x: 04-01:homeTherapyAnticonvulsantMedication y: 20-10:moderateSevereDisabilityOrDeath valid_x: 130 valid_y: 504\n",
      "_corr_coeff: done: x: 04-01:homeTherapyAnticonvulsantMedication y: 20-10:moderateSevereDisabilityOrDeath\n",
      "_corr_coeff: to eval: x: 04-01:homeTherapyAnticonvulsantMedication y: 20-10:disabilityLevelDeath4Category valid_x: 130 valid_y: 498\n",
      "_corr_coeff: done: x: 04-01:homeTherapyAnticonvulsantMedication y: 20-10:disabilityLevelDeath4Category\n",
      "_corr_coeff: to eval: x: 04-01:homeTherapyAnticonvulsantMedication y: 20-10_1:disabilityLevelDeath valid_x: 130 valid_y: 498\n",
      "_corr_coeff: done: x: 04-01:homeTherapyAnticonvulsantMedication y: 20-10_1:disabilityLevelDeath\n",
      "_corr_coeff: to eval: x: 04-01:homeTherapyAnticonvulsantMedication y: 20-04:BayleyIIICognitiveComposite valid_x: 130 valid_y: 421\n",
      "_corr_coeff: done: x: 04-01:homeTherapyAnticonvulsantMedication y: 20-04:BayleyIIICognitiveComposite\n",
      "_corr_coeff: to eval: x: 04-01:homeTherapyAnticonvulsantMedication y: 20-04:BayleyIIILanguageComposite valid_x: 130 valid_y: 411\n",
      "_corr_coeff: done: x: 04-01:homeTherapyAnticonvulsantMedication y: 20-04:BayleyIIILanguageComposite\n",
      "_corr_coeff: to eval: x: 04-01:homeTherapyAnticonvulsantMedication y: 20-04:BayleyIIIMotorComposite valid_x: 130 valid_y: 415\n",
      "_corr_coeff: done: x: 04-01:homeTherapyAnticonvulsantMedication y: 20-04:BayleyIIIMotorComposite\n",
      "_corr_coeff: to eval: x: 04-01:homeTherapyOther y: 20-10:moderateSevereDisabilityOrDeath valid_x: 131 valid_y: 504\n",
      "_corr_coeff: done: x: 04-01:homeTherapyOther y: 20-10:moderateSevereDisabilityOrDeath\n",
      "_corr_coeff: to eval: x: 04-01:homeTherapyOther y: 20-10:disabilityLevelDeath4Category valid_x: 131 valid_y: 498\n",
      "_corr_coeff: done: x: 04-01:homeTherapyOther y: 20-10:disabilityLevelDeath4Category\n"
     ]
    },
    {
     "name": "stderr",
     "output_type": "stream",
     "text": [
      "\r",
      " 74%|███████▍  | 248/336 [00:52<00:16,  5.42it/s]"
     ]
    },
    {
     "name": "stdout",
     "output_type": "stream",
     "text": [
      "_corr_coeff: to eval: x: 04-01:homeTherapyOther y: 20-10_1:disabilityLevelDeath valid_x: 131 valid_y: 498\n",
      "_corr_coeff: done: x: 04-01:homeTherapyOther y: 20-10_1:disabilityLevelDeath\n",
      "_corr_coeff: to eval: x: 04-01:homeTherapyOther y: 20-04:BayleyIIICognitiveComposite valid_x: 131 valid_y: 421\n",
      "_corr_coeff: done: x: 04-01:homeTherapyOther y: 20-04:BayleyIIICognitiveComposite\n",
      "_corr_coeff: to eval: x: 04-01:homeTherapyOther y: 20-04:BayleyIIILanguageComposite valid_x: 131 valid_y: 411\n",
      "_corr_coeff: done: x: 04-01:homeTherapyOther y: 20-04:BayleyIIILanguageComposite\n",
      "_corr_coeff: to eval: x: 04-01:homeTherapyOther y: 20-04:BayleyIIIMotorComposite valid_x: 131 valid_y: 415\n",
      "_corr_coeff: done: x: 04-01:homeTherapyOther y: 20-04:BayleyIIIMotorComposite\n",
      "_corr_coeff: to eval: x: 04-01_1:lengthOfStay_day y: 20-10:moderateSevereDisabilityOrDeath valid_x: 529 valid_y: 504\n",
      "_corr_coeff: done: x: 04-01_1:lengthOfStay_day y: 20-10:moderateSevereDisabilityOrDeath\n"
     ]
    },
    {
     "name": "stderr",
     "output_type": "stream",
     "text": [
      "\r",
      " 74%|███████▍  | 249/336 [00:52<00:16,  5.27it/s]"
     ]
    },
    {
     "name": "stdout",
     "output_type": "stream",
     "text": [
      "_corr_coeff: to eval: x: 04-01_1:lengthOfStay_day y: 20-10:disabilityLevelDeath4Category valid_x: 529 valid_y: 498\n",
      "_corr_coeff: done: x: 04-01_1:lengthOfStay_day y: 20-10:disabilityLevelDeath4Category\n",
      "_corr_coeff: to eval: x: 04-01_1:lengthOfStay_day y: 20-10_1:disabilityLevelDeath valid_x: 529 valid_y: 498\n",
      "_corr_coeff: done: x: 04-01_1:lengthOfStay_day y: 20-10_1:disabilityLevelDeath\n",
      "_corr_coeff: to eval: x: 04-01_1:lengthOfStay_day y: 20-04:BayleyIIICognitiveComposite valid_x: 529 valid_y: 421\n",
      "_corr_coeff: done: x: 04-01_1:lengthOfStay_day y: 20-04:BayleyIIICognitiveComposite\n",
      "_corr_coeff: to eval: x: 04-01_1:lengthOfStay_day y: 20-04:BayleyIIILanguageComposite valid_x: 529 valid_y: 411\n",
      "_corr_coeff: done: x: 04-01_1:lengthOfStay_day y: 20-04:BayleyIIILanguageComposite\n",
      "_corr_coeff: to eval: x: 04-01_1:lengthOfStay_day y: 20-04:BayleyIIIMotorComposite valid_x: 529 valid_y: 415\n",
      "_corr_coeff: done: x: 04-01_1:lengthOfStay_day y: 20-04:BayleyIIIMotorComposite\n",
      "_corr_coeff: to eval: x: 04-02:dischargeCardiomegaly y: 20-10:moderateSevereDisabilityOrDeath valid_x: 532 valid_y: 504\n",
      "_corr_coeff: done: x: 04-02:dischargeCardiomegaly y: 20-10:moderateSevereDisabilityOrDeath\n",
      "_corr_coeff: to eval: x: 04-02:dischargeCardiomegaly y: 20-10:disabilityLevelDeath4Category valid_x: 532 valid_y: 498\n",
      "_corr_coeff: done: x: 04-02:dischargeCardiomegaly y: 20-10:disabilityLevelDeath4Category\n"
     ]
    },
    {
     "name": "stderr",
     "output_type": "stream",
     "text": [
      "\r",
      " 74%|███████▍  | 250/336 [00:53<00:16,  5.16it/s]"
     ]
    },
    {
     "name": "stdout",
     "output_type": "stream",
     "text": [
      "_corr_coeff: to eval: x: 04-02:dischargeCardiomegaly y: 20-10_1:disabilityLevelDeath valid_x: 532 valid_y: 498\n",
      "_corr_coeff: done: x: 04-02:dischargeCardiomegaly y: 20-10_1:disabilityLevelDeath\n",
      "_corr_coeff: to eval: x: 04-02:dischargeCardiomegaly y: 20-04:BayleyIIICognitiveComposite valid_x: 532 valid_y: 421\n",
      "_corr_coeff: done: x: 04-02:dischargeCardiomegaly y: 20-04:BayleyIIICognitiveComposite\n",
      "_corr_coeff: to eval: x: 04-02:dischargeCardiomegaly y: 20-04:BayleyIIILanguageComposite valid_x: 532 valid_y: 411\n",
      "_corr_coeff: done: x: 04-02:dischargeCardiomegaly y: 20-04:BayleyIIILanguageComposite\n",
      "_corr_coeff: to eval: x: 04-02:dischargeCardiomegaly y: 20-04:BayleyIIIMotorComposite valid_x: 532 valid_y: 415\n",
      "_corr_coeff: done: x: 04-02:dischargeCardiomegaly y: 20-04:BayleyIIIMotorComposite\n",
      "_corr_coeff: to eval: x: 04-02:dischargeCardiacFailure y: 20-10:moderateSevereDisabilityOrDeath valid_x: 532 valid_y: 504\n",
      "_corr_coeff: done: x: 04-02:dischargeCardiacFailure y: 20-10:moderateSevereDisabilityOrDeath\n",
      "_corr_coeff: to eval: x: 04-02:dischargeCardiacFailure y: 20-10:disabilityLevelDeath4Category valid_x: 532 valid_y: 498\n",
      "_corr_coeff: done: x: 04-02:dischargeCardiacFailure y: 20-10:disabilityLevelDeath4Category\n",
      "_corr_coeff: to eval: x: 04-02:dischargeCardiacFailure y: 20-10_1:disabilityLevelDeath valid_x: 532 valid_y: 498\n",
      "_corr_coeff: done: x: 04-02:dischargeCardiacFailure y: 20-10_1:disabilityLevelDeath\n"
     ]
    },
    {
     "name": "stderr",
     "output_type": "stream",
     "text": [
      "\r",
      " 75%|███████▍  | 251/336 [00:53<00:18,  4.66it/s]"
     ]
    },
    {
     "name": "stdout",
     "output_type": "stream",
     "text": [
      "_corr_coeff: to eval: x: 04-02:dischargeCardiacFailure y: 20-04:BayleyIIICognitiveComposite valid_x: 532 valid_y: 421\n",
      "_corr_coeff: done: x: 04-02:dischargeCardiacFailure y: 20-04:BayleyIIICognitiveComposite\n",
      "_corr_coeff: to eval: x: 04-02:dischargeCardiacFailure y: 20-04:BayleyIIILanguageComposite valid_x: 532 valid_y: 411\n",
      "_corr_coeff: done: x: 04-02:dischargeCardiacFailure y: 20-04:BayleyIIILanguageComposite\n",
      "_corr_coeff: to eval: x: 04-02:dischargeCardiacFailure y: 20-04:BayleyIIIMotorComposite valid_x: 532 valid_y: 415\n",
      "_corr_coeff: done: x: 04-02:dischargeCardiacFailure y: 20-04:BayleyIIIMotorComposite\n",
      "_corr_coeff: to eval: x: 04-02:dischargeCardiacDysfunctionByEcho y: 20-10:moderateSevereDisabilityOrDeath valid_x: 531 valid_y: 504\n",
      "_corr_coeff: done: x: 04-02:dischargeCardiacDysfunctionByEcho y: 20-10:moderateSevereDisabilityOrDeath\n",
      "_corr_coeff: to eval: x: 04-02:dischargeCardiacDysfunctionByEcho y: 20-10:disabilityLevelDeath4Category valid_x: 531 valid_y: 498\n",
      "_corr_coeff: done: x: 04-02:dischargeCardiacDysfunctionByEcho y: 20-10:disabilityLevelDeath4Category\n"
     ]
    },
    {
     "name": "stderr",
     "output_type": "stream",
     "text": [
      "\r",
      " 75%|███████▌  | 252/336 [00:53<00:17,  4.74it/s]"
     ]
    },
    {
     "name": "stdout",
     "output_type": "stream",
     "text": [
      "_corr_coeff: to eval: x: 04-02:dischargeCardiacDysfunctionByEcho y: 20-10_1:disabilityLevelDeath valid_x: 531 valid_y: 498\n",
      "_corr_coeff: done: x: 04-02:dischargeCardiacDysfunctionByEcho y: 20-10_1:disabilityLevelDeath\n",
      "_corr_coeff: to eval: x: 04-02:dischargeCardiacDysfunctionByEcho y: 20-04:BayleyIIICognitiveComposite valid_x: 531 valid_y: 421\n",
      "_corr_coeff: done: x: 04-02:dischargeCardiacDysfunctionByEcho y: 20-04:BayleyIIICognitiveComposite\n",
      "_corr_coeff: to eval: x: 04-02:dischargeCardiacDysfunctionByEcho y: 20-04:BayleyIIILanguageComposite valid_x: 531 valid_y: 411\n",
      "_corr_coeff: done: x: 04-02:dischargeCardiacDysfunctionByEcho y: 20-04:BayleyIIILanguageComposite\n",
      "_corr_coeff: to eval: x: 04-02:dischargeCardiacDysfunctionByEcho y: 20-04:BayleyIIIMotorComposite valid_x: 531 valid_y: 415\n",
      "_corr_coeff: done: x: 04-02:dischargeCardiacDysfunctionByEcho y: 20-04:BayleyIIIMotorComposite\n",
      "_corr_coeff: to eval: x: 04-02:dischargeCardiacIschemiaByEKG y: 20-10:moderateSevereDisabilityOrDeath valid_x: 531 valid_y: 504\n",
      "_corr_coeff: done: x: 04-02:dischargeCardiacIschemiaByEKG y: 20-10:moderateSevereDisabilityOrDeath\n",
      "_corr_coeff: to eval: x: 04-02:dischargeCardiacIschemiaByEKG y: 20-10:disabilityLevelDeath4Category valid_x: 531 valid_y: 498\n",
      "_corr_coeff: done: x: 04-02:dischargeCardiacIschemiaByEKG y: 20-10:disabilityLevelDeath4Category\n",
      "_corr_coeff: to eval: x: 04-02:dischargeCardiacIschemiaByEKG y: 20-10_1:disabilityLevelDeath valid_x: 531 valid_y: 498\n",
      "_corr_coeff: done: x: 04-02:dischargeCardiacIschemiaByEKG y: 20-10_1:disabilityLevelDeath\n"
     ]
    },
    {
     "name": "stderr",
     "output_type": "stream",
     "text": [
      "\r",
      " 75%|███████▌  | 253/336 [00:53<00:17,  4.80it/s]"
     ]
    },
    {
     "name": "stdout",
     "output_type": "stream",
     "text": [
      "_corr_coeff: to eval: x: 04-02:dischargeCardiacIschemiaByEKG y: 20-04:BayleyIIICognitiveComposite valid_x: 531 valid_y: 421\n",
      "_corr_coeff: done: x: 04-02:dischargeCardiacIschemiaByEKG y: 20-04:BayleyIIICognitiveComposite\n",
      "_corr_coeff: to eval: x: 04-02:dischargeCardiacIschemiaByEKG y: 20-04:BayleyIIILanguageComposite valid_x: 531 valid_y: 411\n",
      "_corr_coeff: done: x: 04-02:dischargeCardiacIschemiaByEKG y: 20-04:BayleyIIILanguageComposite\n",
      "_corr_coeff: to eval: x: 04-02:dischargeCardiacIschemiaByEKG y: 20-04:BayleyIIIMotorComposite valid_x: 531 valid_y: 415\n",
      "_corr_coeff: done: x: 04-02:dischargeCardiacIschemiaByEKG y: 20-04:BayleyIIIMotorComposite\n",
      "_corr_coeff: to eval: x: 04-02:dischargeHypotension y: 20-10:moderateSevereDisabilityOrDeath valid_x: 529 valid_y: 504\n",
      "_corr_coeff: done: x: 04-02:dischargeHypotension y: 20-10:moderateSevereDisabilityOrDeath\n",
      "_corr_coeff: to eval: x: 04-02:dischargeHypotension y: 20-10:disabilityLevelDeath4Category valid_x: 529 valid_y: 498\n",
      "_corr_coeff: done: x: 04-02:dischargeHypotension y: 20-10:disabilityLevelDeath4Category\n"
     ]
    },
    {
     "name": "stderr",
     "output_type": "stream",
     "text": [
      "\r",
      " 76%|███████▌  | 254/336 [00:54<00:18,  4.49it/s]"
     ]
    },
    {
     "name": "stdout",
     "output_type": "stream",
     "text": [
      "_corr_coeff: to eval: x: 04-02:dischargeHypotension y: 20-10_1:disabilityLevelDeath valid_x: 529 valid_y: 498\n",
      "_corr_coeff: done: x: 04-02:dischargeHypotension y: 20-10_1:disabilityLevelDeath\n",
      "_corr_coeff: to eval: x: 04-02:dischargeHypotension y: 20-04:BayleyIIICognitiveComposite valid_x: 529 valid_y: 421\n",
      "_corr_coeff: done: x: 04-02:dischargeHypotension y: 20-04:BayleyIIICognitiveComposite\n",
      "_corr_coeff: to eval: x: 04-02:dischargeHypotension y: 20-04:BayleyIIILanguageComposite valid_x: 529 valid_y: 411\n",
      "_corr_coeff: done: x: 04-02:dischargeHypotension y: 20-04:BayleyIIILanguageComposite\n",
      "_corr_coeff: to eval: x: 04-02:dischargeHypotension y: 20-04:BayleyIIIMotorComposite valid_x: 529 valid_y: 415\n",
      "_corr_coeff: done: x: 04-02:dischargeHypotension y: 20-04:BayleyIIIMotorComposite\n",
      "_corr_coeff: to eval: x: 04-02:dischargeArrhythmia y: 20-10:moderateSevereDisabilityOrDeath valid_x: 532 valid_y: 504\n",
      "_corr_coeff: done: x: 04-02:dischargeArrhythmia y: 20-10:moderateSevereDisabilityOrDeath\n",
      "_corr_coeff: to eval: x: 04-02:dischargeArrhythmia y: 20-10:disabilityLevelDeath4Category valid_x: 532 valid_y: 498\n",
      "_corr_coeff: done: x: 04-02:dischargeArrhythmia y: 20-10:disabilityLevelDeath4Category\n",
      "_corr_coeff: to eval: x: 04-02:dischargeArrhythmia y: 20-10_1:disabilityLevelDeath valid_x: 532 valid_y: 498\n",
      "_corr_coeff: done: x: 04-02:dischargeArrhythmia y: 20-10_1:disabilityLevelDeath\n"
     ]
    },
    {
     "name": "stderr",
     "output_type": "stream",
     "text": [
      "\r",
      " 76%|███████▌  | 255/336 [00:54<00:18,  4.31it/s]"
     ]
    },
    {
     "name": "stdout",
     "output_type": "stream",
     "text": [
      "_corr_coeff: to eval: x: 04-02:dischargeArrhythmia y: 20-04:BayleyIIICognitiveComposite valid_x: 532 valid_y: 421\n",
      "_corr_coeff: done: x: 04-02:dischargeArrhythmia y: 20-04:BayleyIIICognitiveComposite\n",
      "_corr_coeff: to eval: x: 04-02:dischargeArrhythmia y: 20-04:BayleyIIILanguageComposite valid_x: 532 valid_y: 411\n",
      "_corr_coeff: done: x: 04-02:dischargeArrhythmia y: 20-04:BayleyIIILanguageComposite\n",
      "_corr_coeff: to eval: x: 04-02:dischargeArrhythmia y: 20-04:BayleyIIIMotorComposite valid_x: 532 valid_y: 415\n",
      "_corr_coeff: done: x: 04-02:dischargeArrhythmia y: 20-04:BayleyIIIMotorComposite\n",
      "_corr_coeff: to eval: x: 04-02:dischargeInotropicAgent y: 20-10:moderateSevereDisabilityOrDeath valid_x: 364 valid_y: 504\n",
      "_corr_coeff: done: x: 04-02:dischargeInotropicAgent y: 20-10:moderateSevereDisabilityOrDeath\n",
      "_corr_coeff: to eval: x: 04-02:dischargeInotropicAgent y: 20-10:disabilityLevelDeath4Category valid_x: 364 valid_y: 498\n",
      "_corr_coeff: done: x: 04-02:dischargeInotropicAgent y: 20-10:disabilityLevelDeath4Category\n"
     ]
    },
    {
     "name": "stderr",
     "output_type": "stream",
     "text": [
      "\r",
      " 76%|███████▌  | 256/336 [00:54<00:17,  4.58it/s]"
     ]
    },
    {
     "name": "stdout",
     "output_type": "stream",
     "text": [
      "_corr_coeff: to eval: x: 04-02:dischargeInotropicAgent y: 20-10_1:disabilityLevelDeath valid_x: 364 valid_y: 498\n",
      "_corr_coeff: done: x: 04-02:dischargeInotropicAgent y: 20-10_1:disabilityLevelDeath\n",
      "_corr_coeff: to eval: x: 04-02:dischargeInotropicAgent y: 20-04:BayleyIIICognitiveComposite valid_x: 364 valid_y: 421\n",
      "_corr_coeff: done: x: 04-02:dischargeInotropicAgent y: 20-04:BayleyIIICognitiveComposite\n",
      "_corr_coeff: to eval: x: 04-02:dischargeInotropicAgent y: 20-04:BayleyIIILanguageComposite valid_x: 364 valid_y: 411\n",
      "_corr_coeff: done: x: 04-02:dischargeInotropicAgent y: 20-04:BayleyIIILanguageComposite\n",
      "_corr_coeff: to eval: x: 04-02:dischargeInotropicAgent y: 20-04:BayleyIIIMotorComposite valid_x: 364 valid_y: 415\n",
      "_corr_coeff: done: x: 04-02:dischargeInotropicAgent y: 20-04:BayleyIIIMotorComposite\n",
      "_corr_coeff: to eval: x: 04-03:dischargeMeconiumAspirationSyndrome y: 20-10:moderateSevereDisabilityOrDeath valid_x: 532 valid_y: 504\n",
      "_corr_coeff: done: x: 04-03:dischargeMeconiumAspirationSyndrome y: 20-10:moderateSevereDisabilityOrDeath\n",
      "_corr_coeff: to eval: x: 04-03:dischargeMeconiumAspirationSyndrome y: 20-10:disabilityLevelDeath4Category valid_x: 532 valid_y: 498\n",
      "_corr_coeff: done: x: 04-03:dischargeMeconiumAspirationSyndrome y: 20-10:disabilityLevelDeath4Category\n",
      "_corr_coeff: to eval: x: 04-03:dischargeMeconiumAspirationSyndrome y: 20-10_1:disabilityLevelDeath valid_x: 532 valid_y: 498\n",
      "_corr_coeff: done: x: 04-03:dischargeMeconiumAspirationSyndrome y: 20-10_1:disabilityLevelDeath\n"
     ]
    },
    {
     "name": "stderr",
     "output_type": "stream",
     "text": [
      "\r",
      " 76%|███████▋  | 257/336 [00:54<00:18,  4.33it/s]"
     ]
    },
    {
     "name": "stdout",
     "output_type": "stream",
     "text": [
      "_corr_coeff: to eval: x: 04-03:dischargeMeconiumAspirationSyndrome y: 20-04:BayleyIIICognitiveComposite valid_x: 532 valid_y: 421\n",
      "_corr_coeff: done: x: 04-03:dischargeMeconiumAspirationSyndrome y: 20-04:BayleyIIICognitiveComposite\n",
      "_corr_coeff: to eval: x: 04-03:dischargeMeconiumAspirationSyndrome y: 20-04:BayleyIIILanguageComposite valid_x: 532 valid_y: 411\n",
      "_corr_coeff: done: x: 04-03:dischargeMeconiumAspirationSyndrome y: 20-04:BayleyIIILanguageComposite\n",
      "_corr_coeff: to eval: x: 04-03:dischargeMeconiumAspirationSyndrome y: 20-04:BayleyIIIMotorComposite valid_x: 532 valid_y: 415\n",
      "_corr_coeff: done: x: 04-03:dischargeMeconiumAspirationSyndrome y: 20-04:BayleyIIIMotorComposite\n",
      "_corr_coeff: to eval: x: 04-03:dischargePPHN y: 20-10:moderateSevereDisabilityOrDeath valid_x: 532 valid_y: 504\n",
      "_corr_coeff: done: x: 04-03:dischargePPHN y: 20-10:moderateSevereDisabilityOrDeath\n",
      "_corr_coeff: to eval: x: 04-03:dischargePPHN y: 20-10:disabilityLevelDeath4Category valid_x: 532 valid_y: 498\n",
      "_corr_coeff: done: x: 04-03:dischargePPHN y: 20-10:disabilityLevelDeath4Category\n"
     ]
    },
    {
     "name": "stderr",
     "output_type": "stream",
     "text": [
      "\r",
      " 77%|███████▋  | 258/336 [00:54<00:17,  4.49it/s]"
     ]
    },
    {
     "name": "stdout",
     "output_type": "stream",
     "text": [
      "_corr_coeff: to eval: x: 04-03:dischargePPHN y: 20-10_1:disabilityLevelDeath valid_x: 532 valid_y: 498\n",
      "_corr_coeff: done: x: 04-03:dischargePPHN y: 20-10_1:disabilityLevelDeath\n",
      "_corr_coeff: to eval: x: 04-03:dischargePPHN y: 20-04:BayleyIIICognitiveComposite valid_x: 532 valid_y: 421\n",
      "_corr_coeff: done: x: 04-03:dischargePPHN y: 20-04:BayleyIIICognitiveComposite\n",
      "_corr_coeff: to eval: x: 04-03:dischargePPHN y: 20-04:BayleyIIILanguageComposite valid_x: 532 valid_y: 411\n",
      "_corr_coeff: done: x: 04-03:dischargePPHN y: 20-04:BayleyIIILanguageComposite\n",
      "_corr_coeff: to eval: x: 04-03:dischargePPHN y: 20-04:BayleyIIIMotorComposite valid_x: 532 valid_y: 415\n",
      "_corr_coeff: done: x: 04-03:dischargePPHN y: 20-04:BayleyIIIMotorComposite\n",
      "_corr_coeff: to eval: x: 04-03:dischargePulmonaryHemorrhage y: 20-10:moderateSevereDisabilityOrDeath valid_x: 532 valid_y: 504\n",
      "_corr_coeff: done: x: 04-03:dischargePulmonaryHemorrhage y: 20-10:moderateSevereDisabilityOrDeath\n",
      "_corr_coeff: to eval: x: 04-03:dischargePulmonaryHemorrhage y: 20-10:disabilityLevelDeath4Category valid_x: 532 valid_y: 498\n",
      "_corr_coeff: done: x: 04-03:dischargePulmonaryHemorrhage y: 20-10:disabilityLevelDeath4Category\n",
      "_corr_coeff: to eval: x: 04-03:dischargePulmonaryHemorrhage y: 20-10_1:disabilityLevelDeath valid_x: 532 valid_y: 498\n",
      "_corr_coeff: done: x: 04-03:dischargePulmonaryHemorrhage y: 20-10_1:disabilityLevelDeath\n"
     ]
    },
    {
     "name": "stderr",
     "output_type": "stream",
     "text": [
      "\r",
      " 77%|███████▋  | 259/336 [00:55<00:18,  4.26it/s]"
     ]
    },
    {
     "name": "stdout",
     "output_type": "stream",
     "text": [
      "_corr_coeff: to eval: x: 04-03:dischargePulmonaryHemorrhage y: 20-04:BayleyIIICognitiveComposite valid_x: 532 valid_y: 421\n",
      "_corr_coeff: done: x: 04-03:dischargePulmonaryHemorrhage y: 20-04:BayleyIIICognitiveComposite\n",
      "_corr_coeff: to eval: x: 04-03:dischargePulmonaryHemorrhage y: 20-04:BayleyIIILanguageComposite valid_x: 532 valid_y: 411\n",
      "_corr_coeff: done: x: 04-03:dischargePulmonaryHemorrhage y: 20-04:BayleyIIILanguageComposite\n",
      "_corr_coeff: to eval: x: 04-03:dischargePulmonaryHemorrhage y: 20-04:BayleyIIIMotorComposite valid_x: 532 valid_y: 415\n",
      "_corr_coeff: done: x: 04-03:dischargePulmonaryHemorrhage y: 20-04:BayleyIIIMotorComposite\n",
      "_corr_coeff: to eval: x: 04-03:dischargePenumonia y: 20-10:moderateSevereDisabilityOrDeath valid_x: 532 valid_y: 504\n",
      "_corr_coeff: done: x: 04-03:dischargePenumonia y: 20-10:moderateSevereDisabilityOrDeath\n",
      "_corr_coeff: to eval: x: 04-03:dischargePenumonia y: 20-10:disabilityLevelDeath4Category valid_x: 532 valid_y: 498\n",
      "_corr_coeff: done: x: 04-03:dischargePenumonia y: 20-10:disabilityLevelDeath4Category\n",
      "_corr_coeff: to eval: x: 04-03:dischargePenumonia y: 20-10_1:disabilityLevelDeath valid_x: 532 valid_y: 498\n",
      "_corr_coeff: done: x: 04-03:dischargePenumonia y: 20-10_1:disabilityLevelDeath\n",
      "_corr_coeff: to eval: x: 04-03:dischargePenumonia y: 20-04:BayleyIIICognitiveComposite valid_x: 532 valid_y: 421\n",
      "_corr_coeff: done: x: 04-03:dischargePenumonia y: 20-04:BayleyIIICognitiveComposite\n"
     ]
    },
    {
     "name": "stderr",
     "output_type": "stream",
     "text": [
      "\r",
      " 77%|███████▋  | 260/336 [00:55<00:17,  4.42it/s]"
     ]
    },
    {
     "name": "stdout",
     "output_type": "stream",
     "text": [
      "_corr_coeff: to eval: x: 04-03:dischargePenumonia y: 20-04:BayleyIIILanguageComposite valid_x: 532 valid_y: 411\n",
      "_corr_coeff: done: x: 04-03:dischargePenumonia y: 20-04:BayleyIIILanguageComposite\n",
      "_corr_coeff: to eval: x: 04-03:dischargePenumonia y: 20-04:BayleyIIIMotorComposite valid_x: 532 valid_y: 415\n",
      "_corr_coeff: done: x: 04-03:dischargePenumonia y: 20-04:BayleyIIIMotorComposite\n",
      "_corr_coeff: to eval: x: 04-03:dischargeChronicLungDisease y: 20-10:moderateSevereDisabilityOrDeath valid_x: 532 valid_y: 504\n",
      "_corr_coeff: done: x: 04-03:dischargeChronicLungDisease y: 20-10:moderateSevereDisabilityOrDeath\n",
      "_corr_coeff: to eval: x: 04-03:dischargeChronicLungDisease y: 20-10:disabilityLevelDeath4Category valid_x: 532 valid_y: 498\n",
      "_corr_coeff: done: x: 04-03:dischargeChronicLungDisease y: 20-10:disabilityLevelDeath4Category\n",
      "_corr_coeff: to eval: x: 04-03:dischargeChronicLungDisease y: 20-10_1:disabilityLevelDeath valid_x: 532 valid_y: 498\n",
      "_corr_coeff: done: x: 04-03:dischargeChronicLungDisease y: 20-10_1:disabilityLevelDeath\n"
     ]
    },
    {
     "name": "stderr",
     "output_type": "stream",
     "text": [
      "\r",
      " 78%|███████▊  | 261/336 [00:55<00:17,  4.22it/s]"
     ]
    },
    {
     "name": "stdout",
     "output_type": "stream",
     "text": [
      "_corr_coeff: to eval: x: 04-03:dischargeChronicLungDisease y: 20-04:BayleyIIICognitiveComposite valid_x: 532 valid_y: 421\n",
      "_corr_coeff: done: x: 04-03:dischargeChronicLungDisease y: 20-04:BayleyIIICognitiveComposite\n",
      "_corr_coeff: to eval: x: 04-03:dischargeChronicLungDisease y: 20-04:BayleyIIILanguageComposite valid_x: 532 valid_y: 411\n",
      "_corr_coeff: done: x: 04-03:dischargeChronicLungDisease y: 20-04:BayleyIIILanguageComposite\n",
      "_corr_coeff: to eval: x: 04-03:dischargeChronicLungDisease y: 20-04:BayleyIIIMotorComposite valid_x: 532 valid_y: 415\n",
      "_corr_coeff: done: x: 04-03:dischargeChronicLungDisease y: 20-04:BayleyIIIMotorComposite\n",
      "_corr_coeff: to eval: x: 04-03:dischargeECMO y: 20-10:moderateSevereDisabilityOrDeath valid_x: 532 valid_y: 504\n",
      "_corr_coeff: done: x: 04-03:dischargeECMO y: 20-10:moderateSevereDisabilityOrDeath\n",
      "_corr_coeff: to eval: x: 04-03:dischargeECMO y: 20-10:disabilityLevelDeath4Category valid_x: 532 valid_y: 498\n",
      "_corr_coeff: done: x: 04-03:dischargeECMO y: 20-10:disabilityLevelDeath4Category\n",
      "_corr_coeff: to eval: x: 04-03:dischargeECMO y: 20-10_1:disabilityLevelDeath valid_x: 532 valid_y: 498\n",
      "_corr_coeff: done: x: 04-03:dischargeECMO y: 20-10_1:disabilityLevelDeath\n"
     ]
    },
    {
     "name": "stderr",
     "output_type": "stream",
     "text": [
      "\r",
      " 78%|███████▊  | 262/336 [00:55<00:16,  4.37it/s]"
     ]
    },
    {
     "name": "stdout",
     "output_type": "stream",
     "text": [
      "_corr_coeff: to eval: x: 04-03:dischargeECMO y: 20-04:BayleyIIICognitiveComposite valid_x: 532 valid_y: 421\n",
      "_corr_coeff: done: x: 04-03:dischargeECMO y: 20-04:BayleyIIICognitiveComposite\n",
      "_corr_coeff: to eval: x: 04-03:dischargeECMO y: 20-04:BayleyIIILanguageComposite valid_x: 532 valid_y: 411\n",
      "_corr_coeff: done: x: 04-03:dischargeECMO y: 20-04:BayleyIIILanguageComposite\n",
      "_corr_coeff: to eval: x: 04-03:dischargeECMO y: 20-04:BayleyIIIMotorComposite valid_x: 532 valid_y: 415\n",
      "_corr_coeff: done: x: 04-03:dischargeECMO y: 20-04:BayleyIIIMotorComposite\n",
      "_corr_coeff: to eval: x: 04-03:dischargeINO y: 20-10:moderateSevereDisabilityOrDeath valid_x: 532 valid_y: 504\n",
      "_corr_coeff: done: x: 04-03:dischargeINO y: 20-10:moderateSevereDisabilityOrDeath\n",
      "_corr_coeff: to eval: x: 04-03:dischargeINO y: 20-10:disabilityLevelDeath4Category valid_x: 532 valid_y: 498\n",
      "_corr_coeff: done: x: 04-03:dischargeINO y: 20-10:disabilityLevelDeath4Category\n"
     ]
    },
    {
     "name": "stderr",
     "output_type": "stream",
     "text": [
      "\r",
      " 78%|███████▊  | 263/336 [00:56<00:17,  4.16it/s]"
     ]
    },
    {
     "name": "stdout",
     "output_type": "stream",
     "text": [
      "_corr_coeff: to eval: x: 04-03:dischargeINO y: 20-10_1:disabilityLevelDeath valid_x: 532 valid_y: 498\n",
      "_corr_coeff: done: x: 04-03:dischargeINO y: 20-10_1:disabilityLevelDeath\n",
      "_corr_coeff: to eval: x: 04-03:dischargeINO y: 20-04:BayleyIIICognitiveComposite valid_x: 532 valid_y: 421\n",
      "_corr_coeff: done: x: 04-03:dischargeINO y: 20-04:BayleyIIICognitiveComposite\n",
      "_corr_coeff: to eval: x: 04-03:dischargeINO y: 20-04:BayleyIIILanguageComposite valid_x: 532 valid_y: 411\n",
      "_corr_coeff: done: x: 04-03:dischargeINO y: 20-04:BayleyIIILanguageComposite\n",
      "_corr_coeff: to eval: x: 04-03:dischargeINO y: 20-04:BayleyIIIMotorComposite valid_x: 532 valid_y: 415\n",
      "_corr_coeff: done: x: 04-03:dischargeINO y: 20-04:BayleyIIIMotorComposite\n",
      "_corr_coeff: to eval: x: 04-03:dischargeVentilator_day y: 20-10:moderateSevereDisabilityOrDeath valid_x: 532 valid_y: 504\n",
      "_corr_coeff: done: x: 04-03:dischargeVentilator_day y: 20-10:moderateSevereDisabilityOrDeath\n",
      "_corr_coeff: to eval: x: 04-03:dischargeVentilator_day y: 20-10:disabilityLevelDeath4Category valid_x: 532 valid_y: 498\n",
      "_corr_coeff: done: x: 04-03:dischargeVentilator_day y: 20-10:disabilityLevelDeath4Category\n"
     ]
    },
    {
     "name": "stderr",
     "output_type": "stream",
     "text": [
      "\r",
      " 79%|███████▊  | 264/336 [00:56<00:16,  4.34it/s]"
     ]
    },
    {
     "name": "stdout",
     "output_type": "stream",
     "text": [
      "_corr_coeff: to eval: x: 04-03:dischargeVentilator_day y: 20-10_1:disabilityLevelDeath valid_x: 532 valid_y: 498\n",
      "_corr_coeff: done: x: 04-03:dischargeVentilator_day y: 20-10_1:disabilityLevelDeath\n",
      "_corr_coeff: to eval: x: 04-03:dischargeVentilator_day y: 20-04:BayleyIIICognitiveComposite valid_x: 532 valid_y: 421\n",
      "_corr_coeff: done: x: 04-03:dischargeVentilator_day y: 20-04:BayleyIIICognitiveComposite\n",
      "_corr_coeff: to eval: x: 04-03:dischargeVentilator_day y: 20-04:BayleyIIILanguageComposite valid_x: 532 valid_y: 411\n",
      "_corr_coeff: done: x: 04-03:dischargeVentilator_day y: 20-04:BayleyIIILanguageComposite\n",
      "_corr_coeff: to eval: x: 04-03:dischargeVentilator_day y: 20-04:BayleyIIIMotorComposite valid_x: 532 valid_y: 415\n",
      "_corr_coeff: done: x: 04-03:dischargeVentilator_day y: 20-04:BayleyIIIMotorComposite\n",
      "_corr_coeff: to eval: x: 04-03:dischargeOxygen_day y: 20-10:moderateSevereDisabilityOrDeath valid_x: 532 valid_y: 504\n",
      "_corr_coeff: done: x: 04-03:dischargeOxygen_day y: 20-10:moderateSevereDisabilityOrDeath\n"
     ]
    },
    {
     "name": "stderr",
     "output_type": "stream",
     "text": [
      "\r",
      " 79%|███████▉  | 265/336 [00:56<00:17,  4.16it/s]"
     ]
    },
    {
     "name": "stdout",
     "output_type": "stream",
     "text": [
      "_corr_coeff: to eval: x: 04-03:dischargeOxygen_day y: 20-10:disabilityLevelDeath4Category valid_x: 532 valid_y: 498\n",
      "_corr_coeff: done: x: 04-03:dischargeOxygen_day y: 20-10:disabilityLevelDeath4Category\n",
      "_corr_coeff: to eval: x: 04-03:dischargeOxygen_day y: 20-10_1:disabilityLevelDeath valid_x: 532 valid_y: 498\n",
      "_corr_coeff: done: x: 04-03:dischargeOxygen_day y: 20-10_1:disabilityLevelDeath\n",
      "_corr_coeff: to eval: x: 04-03:dischargeOxygen_day y: 20-04:BayleyIIICognitiveComposite valid_x: 532 valid_y: 421\n",
      "_corr_coeff: done: x: 04-03:dischargeOxygen_day y: 20-04:BayleyIIICognitiveComposite\n",
      "_corr_coeff: to eval: x: 04-03:dischargeOxygen_day y: 20-04:BayleyIIILanguageComposite valid_x: 532 valid_y: 411\n",
      "_corr_coeff: done: x: 04-03:dischargeOxygen_day y: 20-04:BayleyIIILanguageComposite\n",
      "_corr_coeff: to eval: x: 04-03:dischargeOxygen_day y: 20-04:BayleyIIIMotorComposite valid_x: 532 valid_y: 415\n",
      "_corr_coeff: done: x: 04-03:dischargeOxygen_day y: 20-04:BayleyIIIMotorComposite\n",
      "_corr_coeff: to eval: x: 04-03:dischargeCPAP_day y: 20-10:moderateSevereDisabilityOrDeath valid_x: 532 valid_y: 504\n",
      "_corr_coeff: done: x: 04-03:dischargeCPAP_day y: 20-10:moderateSevereDisabilityOrDeath\n"
     ]
    },
    {
     "name": "stderr",
     "output_type": "stream",
     "text": [
      "\r",
      " 79%|███████▉  | 266/336 [00:56<00:17,  4.01it/s]"
     ]
    },
    {
     "name": "stdout",
     "output_type": "stream",
     "text": [
      "_corr_coeff: to eval: x: 04-03:dischargeCPAP_day y: 20-10:disabilityLevelDeath4Category valid_x: 532 valid_y: 498\n",
      "_corr_coeff: done: x: 04-03:dischargeCPAP_day y: 20-10:disabilityLevelDeath4Category\n",
      "_corr_coeff: to eval: x: 04-03:dischargeCPAP_day y: 20-10_1:disabilityLevelDeath valid_x: 532 valid_y: 498\n",
      "_corr_coeff: done: x: 04-03:dischargeCPAP_day y: 20-10_1:disabilityLevelDeath\n",
      "_corr_coeff: to eval: x: 04-03:dischargeCPAP_day y: 20-04:BayleyIIICognitiveComposite valid_x: 532 valid_y: 421\n",
      "_corr_coeff: done: x: 04-03:dischargeCPAP_day y: 20-04:BayleyIIICognitiveComposite\n",
      "_corr_coeff: to eval: x: 04-03:dischargeCPAP_day y: 20-04:BayleyIIILanguageComposite valid_x: 532 valid_y: 411\n",
      "_corr_coeff: done: x: 04-03:dischargeCPAP_day y: 20-04:BayleyIIILanguageComposite\n",
      "_corr_coeff: to eval: x: 04-03:dischargeCPAP_day y: 20-04:BayleyIIIMotorComposite valid_x: 532 valid_y: 415\n",
      "_corr_coeff: done: x: 04-03:dischargeCPAP_day y: 20-04:BayleyIIIMotorComposite\n"
     ]
    },
    {
     "name": "stderr",
     "output_type": "stream",
     "text": [
      "\r",
      " 79%|███████▉  | 267/336 [00:57<00:16,  4.20it/s]"
     ]
    },
    {
     "name": "stdout",
     "output_type": "stream",
     "text": [
      "_corr_coeff: to eval: x: 04-04:dischargeDIC y: 20-10:moderateSevereDisabilityOrDeath valid_x: 532 valid_y: 504\n",
      "_corr_coeff: done: x: 04-04:dischargeDIC y: 20-10:moderateSevereDisabilityOrDeath\n",
      "_corr_coeff: to eval: x: 04-04:dischargeDIC y: 20-10:disabilityLevelDeath4Category valid_x: 532 valid_y: 498\n",
      "_corr_coeff: done: x: 04-04:dischargeDIC y: 20-10:disabilityLevelDeath4Category\n",
      "_corr_coeff: to eval: x: 04-04:dischargeDIC y: 20-10_1:disabilityLevelDeath valid_x: 532 valid_y: 498\n",
      "_corr_coeff: done: x: 04-04:dischargeDIC y: 20-10_1:disabilityLevelDeath\n",
      "_corr_coeff: to eval: x: 04-04:dischargeDIC y: 20-04:BayleyIIICognitiveComposite valid_x: 532 valid_y: 421\n",
      "_corr_coeff: done: x: 04-04:dischargeDIC y: 20-04:BayleyIIICognitiveComposite\n",
      "_corr_coeff: to eval: x: 04-04:dischargeDIC y: 20-04:BayleyIIILanguageComposite valid_x: 532 valid_y: 411\n",
      "_corr_coeff: done: x: 04-04:dischargeDIC y: 20-04:BayleyIIILanguageComposite\n",
      "_corr_coeff: to eval: x: 04-04:dischargeDIC y: 20-04:BayleyIIIMotorComposite valid_x: 532 valid_y: 415\n",
      "_corr_coeff: done: x: 04-04:dischargeDIC y: 20-04:BayleyIIIMotorComposite\n"
     ]
    },
    {
     "name": "stdout",
     "output_type": "stream",
     "text": [
      "_corr_coeff: to eval: x: 04-05:dischargeHypoglycemia y: 20-10:moderateSevereDisabilityOrDeath valid_x: 532 valid_y: 504\n",
      "_corr_coeff: done: x: 04-05:dischargeHypoglycemia y: 20-10:moderateSevereDisabilityOrDeath\n",
      "_corr_coeff: to eval: x: 04-05:dischargeHypoglycemia y: 20-10:disabilityLevelDeath4Category valid_x: 532 valid_y: 498\n",
      "_corr_coeff: done: x: 04-05:dischargeHypoglycemia y: 20-10:disabilityLevelDeath4Category\n",
      "_corr_coeff: to eval: x: 04-05:dischargeHypoglycemia y: 20-10_1:disabilityLevelDeath valid_x: 532 valid_y: 498\n",
      "_corr_coeff: done: x: 04-05:dischargeHypoglycemia y: 20-10_1:disabilityLevelDeath\n",
      "_corr_coeff: to eval: x: 04-05:dischargeHypoglycemia y: 20-04:BayleyIIICognitiveComposite valid_x: 532 valid_y: 421\n",
      "_corr_coeff: done: x: 04-05:dischargeHypoglycemia y: 20-04:BayleyIIICognitiveComposite\n",
      "_corr_coeff: to eval: x: 04-05:dischargeHypoglycemia y: 20-04:BayleyIIILanguageComposite valid_x: 532 valid_y: 411\n",
      "_corr_coeff: done: x: 04-05:dischargeHypoglycemia y: 20-04:BayleyIIILanguageComposite\n"
     ]
    },
    {
     "name": "stderr",
     "output_type": "stream",
     "text": [
      "\r",
      " 80%|███████▉  | 268/336 [00:57<00:16,  4.07it/s]"
     ]
    },
    {
     "name": "stdout",
     "output_type": "stream",
     "text": [
      "_corr_coeff: to eval: x: 04-05:dischargeHypoglycemia y: 20-04:BayleyIIIMotorComposite valid_x: 532 valid_y: 415\n",
      "_corr_coeff: done: x: 04-05:dischargeHypoglycemia y: 20-04:BayleyIIIMotorComposite\n",
      "_corr_coeff: to eval: x: 04-05:dischargeHypocalcemia y: 20-10:moderateSevereDisabilityOrDeath valid_x: 531 valid_y: 504\n",
      "_corr_coeff: done: x: 04-05:dischargeHypocalcemia y: 20-10:moderateSevereDisabilityOrDeath\n",
      "_corr_coeff: to eval: x: 04-05:dischargeHypocalcemia y: 20-10:disabilityLevelDeath4Category valid_x: 531 valid_y: 498\n",
      "_corr_coeff: done: x: 04-05:dischargeHypocalcemia y: 20-10:disabilityLevelDeath4Category\n",
      "_corr_coeff: to eval: x: 04-05:dischargeHypocalcemia y: 20-10_1:disabilityLevelDeath valid_x: 531 valid_y: 498\n",
      "_corr_coeff: done: x: 04-05:dischargeHypocalcemia y: 20-10_1:disabilityLevelDeath\n",
      "_corr_coeff: to eval: x: 04-05:dischargeHypocalcemia y: 20-04:BayleyIIICognitiveComposite valid_x: 531 valid_y: 421\n",
      "_corr_coeff: done: x: 04-05:dischargeHypocalcemia y: 20-04:BayleyIIICognitiveComposite\n",
      "_corr_coeff: to eval: x: 04-05:dischargeHypocalcemia y: 20-04:BayleyIIILanguageComposite valid_x: 531 valid_y: 411\n",
      "_corr_coeff: done: x: 04-05:dischargeHypocalcemia y: 20-04:BayleyIIILanguageComposite\n"
     ]
    },
    {
     "name": "stderr",
     "output_type": "stream",
     "text": [
      "\r",
      " 80%|████████  | 269/336 [00:57<00:15,  4.28it/s]"
     ]
    },
    {
     "name": "stdout",
     "output_type": "stream",
     "text": [
      "_corr_coeff: to eval: x: 04-05:dischargeHypocalcemia y: 20-04:BayleyIIIMotorComposite valid_x: 531 valid_y: 415\n",
      "_corr_coeff: done: x: 04-05:dischargeHypocalcemia y: 20-04:BayleyIIIMotorComposite\n",
      "_corr_coeff: to eval: x: 04-05:dischargeHypomagnesemia y: 20-10:moderateSevereDisabilityOrDeath valid_x: 528 valid_y: 504\n",
      "_corr_coeff: done: x: 04-05:dischargeHypomagnesemia y: 20-10:moderateSevereDisabilityOrDeath\n",
      "_corr_coeff: to eval: x: 04-05:dischargeHypomagnesemia y: 20-10:disabilityLevelDeath4Category valid_x: 528 valid_y: 498\n",
      "_corr_coeff: done: x: 04-05:dischargeHypomagnesemia y: 20-10:disabilityLevelDeath4Category\n",
      "_corr_coeff: to eval: x: 04-05:dischargeHypomagnesemia y: 20-10_1:disabilityLevelDeath valid_x: 528 valid_y: 498\n",
      "_corr_coeff: done: x: 04-05:dischargeHypomagnesemia y: 20-10_1:disabilityLevelDeath\n",
      "_corr_coeff: to eval: x: 04-05:dischargeHypomagnesemia y: 20-04:BayleyIIICognitiveComposite valid_x: 528 valid_y: 421\n",
      "_corr_coeff: done: x: 04-05:dischargeHypomagnesemia y: 20-04:BayleyIIICognitiveComposite\n"
     ]
    },
    {
     "name": "stderr",
     "output_type": "stream",
     "text": [
      "\r",
      " 80%|████████  | 270/336 [00:57<00:15,  4.15it/s]"
     ]
    },
    {
     "name": "stdout",
     "output_type": "stream",
     "text": [
      "_corr_coeff: to eval: x: 04-05:dischargeHypomagnesemia y: 20-04:BayleyIIILanguageComposite valid_x: 528 valid_y: 411\n",
      "_corr_coeff: done: x: 04-05:dischargeHypomagnesemia y: 20-04:BayleyIIILanguageComposite\n",
      "_corr_coeff: to eval: x: 04-05:dischargeHypomagnesemia y: 20-04:BayleyIIIMotorComposite valid_x: 528 valid_y: 415\n",
      "_corr_coeff: done: x: 04-05:dischargeHypomagnesemia y: 20-04:BayleyIIIMotorComposite\n",
      "_corr_coeff: to eval: x: 04-06:dischargeOliguria y: 20-10:moderateSevereDisabilityOrDeath valid_x: 532 valid_y: 504\n",
      "_corr_coeff: done: x: 04-06:dischargeOliguria y: 20-10:moderateSevereDisabilityOrDeath\n",
      "_corr_coeff: to eval: x: 04-06:dischargeOliguria y: 20-10:disabilityLevelDeath4Category valid_x: 532 valid_y: 498\n",
      "_corr_coeff: done: x: 04-06:dischargeOliguria y: 20-10:disabilityLevelDeath4Category\n",
      "_corr_coeff: to eval: x: 04-06:dischargeOliguria y: 20-10_1:disabilityLevelDeath valid_x: 532 valid_y: 498\n",
      "_corr_coeff: done: x: 04-06:dischargeOliguria y: 20-10_1:disabilityLevelDeath\n",
      "_corr_coeff: to eval: x: 04-06:dischargeOliguria y: 20-04:BayleyIIICognitiveComposite valid_x: 532 valid_y: 421\n",
      "_corr_coeff: done: x: 04-06:dischargeOliguria y: 20-04:BayleyIIICognitiveComposite\n",
      "_corr_coeff: to eval: x: 04-06:dischargeOliguria y: 20-04:BayleyIIILanguageComposite valid_x: 532 valid_y: 411\n",
      "_corr_coeff: done: x: 04-06:dischargeOliguria y: 20-04:BayleyIIILanguageComposite\n"
     ]
    },
    {
     "name": "stderr",
     "output_type": "stream",
     "text": [
      "\r",
      " 81%|████████  | 271/336 [00:58<00:14,  4.36it/s]"
     ]
    },
    {
     "name": "stdout",
     "output_type": "stream",
     "text": [
      "_corr_coeff: to eval: x: 04-06:dischargeOliguria y: 20-04:BayleyIIIMotorComposite valid_x: 532 valid_y: 415\n",
      "_corr_coeff: done: x: 04-06:dischargeOliguria y: 20-04:BayleyIIIMotorComposite\n",
      "_corr_coeff: to eval: x: 04-06:dischargeAnuria y: 20-10:moderateSevereDisabilityOrDeath valid_x: 532 valid_y: 504\n",
      "_corr_coeff: done: x: 04-06:dischargeAnuria y: 20-10:moderateSevereDisabilityOrDeath\n",
      "_corr_coeff: to eval: x: 04-06:dischargeAnuria y: 20-10:disabilityLevelDeath4Category valid_x: 532 valid_y: 498\n",
      "_corr_coeff: done: x: 04-06:dischargeAnuria y: 20-10:disabilityLevelDeath4Category\n",
      "_corr_coeff: to eval: x: 04-06:dischargeAnuria y: 20-10_1:disabilityLevelDeath valid_x: 532 valid_y: 498\n",
      "_corr_coeff: done: x: 04-06:dischargeAnuria y: 20-10_1:disabilityLevelDeath\n",
      "_corr_coeff: to eval: x: 04-06:dischargeAnuria y: 20-04:BayleyIIICognitiveComposite valid_x: 532 valid_y: 421\n",
      "_corr_coeff: done: x: 04-06:dischargeAnuria y: 20-04:BayleyIIICognitiveComposite\n",
      "_corr_coeff: to eval: x: 04-06:dischargeAnuria y: 20-04:BayleyIIILanguageComposite valid_x: 532 valid_y: 411\n",
      "_corr_coeff: done: x: 04-06:dischargeAnuria y: 20-04:BayleyIIILanguageComposite\n"
     ]
    },
    {
     "name": "stderr",
     "output_type": "stream",
     "text": [
      "\r",
      " 81%|████████  | 272/336 [00:58<00:14,  4.49it/s]"
     ]
    },
    {
     "name": "stderr",
     "output_type": "stream",
     "text": [
      "/Users/chhsiao/bch/i3/COMBINE-harmonizer/COMBINE_harmonizer/utils_corr.py:79: ConstantInputWarning: An input array is constant; the correlation coefficient is not defined.\n",
      "  ret = stats.pearsonr(valid_x, valid_y)\n",
      "/Users/chhsiao/bch/i3/COMBINE-harmonizer/COMBINE_harmonizer/utils_corr.py:79: ConstantInputWarning: An input array is constant; the correlation coefficient is not defined.\n",
      "  ret = stats.pearsonr(valid_x, valid_y)\n",
      "/Users/chhsiao/bch/i3/COMBINE-harmonizer/COMBINE_harmonizer/utils_corr.py:79: ConstantInputWarning: An input array is constant; the correlation coefficient is not defined.\n",
      "  ret = stats.pearsonr(valid_x, valid_y)\n",
      "\r",
      " 81%|████████▏ | 273/336 [00:58<00:13,  4.63it/s]"
     ]
    },
    {
     "name": "stdout",
     "output_type": "stream",
     "text": [
      "_corr_coeff: to eval: x: 04-06:dischargeAnuria y: 20-04:BayleyIIIMotorComposite valid_x: 532 valid_y: 415\n",
      "_corr_coeff: done: x: 04-06:dischargeAnuria y: 20-04:BayleyIIIMotorComposite\n",
      "_corr_coeff: to eval: x: 04-06:dischargeDialysis y: 20-10:moderateSevereDisabilityOrDeath valid_x: 532 valid_y: 504\n",
      "_corr_coeff: done: x: 04-06:dischargeDialysis y: 20-10:moderateSevereDisabilityOrDeath\n",
      "_corr_coeff: to eval: x: 04-06:dischargeDialysis y: 20-10:disabilityLevelDeath4Category valid_x: 532 valid_y: 498\n",
      "_corr_coeff: done: x: 04-06:dischargeDialysis y: 20-10:disabilityLevelDeath4Category\n",
      "_corr_coeff: to eval: x: 04-06:dischargeDialysis y: 20-10_1:disabilityLevelDeath valid_x: 532 valid_y: 498\n",
      "_corr_coeff: done: x: 04-06:dischargeDialysis y: 20-10_1:disabilityLevelDeath\n",
      "_corr_coeff: to eval: x: 04-06:dischargeDialysis y: 20-04:BayleyIIICognitiveComposite valid_x: 532 valid_y: 421\n",
      "_corr_coeff: done: x: 04-06:dischargeDialysis y: 20-04:BayleyIIICognitiveComposite\n",
      "_corr_coeff: to eval: x: 04-06:dischargeDialysis y: 20-04:BayleyIIILanguageComposite valid_x: 532 valid_y: 411\n",
      "_corr_coeff: done: x: 04-06:dischargeDialysis y: 20-04:BayleyIIILanguageComposite\n",
      "_corr_coeff: to eval: x: 04-06:dischargeDialysis y: 20-04:BayleyIIIMotorComposite valid_x: 532 valid_y: 415\n",
      "_corr_coeff: done: x: 04-06:dischargeDialysis y: 20-04:BayleyIIIMotorComposite\n"
     ]
    },
    {
     "name": "stderr",
     "output_type": "stream",
     "text": [
      "\r",
      " 82%|████████▏ | 274/336 [00:58<00:12,  4.88it/s]"
     ]
    },
    {
     "name": "stdout",
     "output_type": "stream",
     "text": [
      "_corr_coeff: to eval: x: 04-07:dischargeEnteralFeedStart_day y: 20-10:moderateSevereDisabilityOrDeath valid_x: 337 valid_y: 504\n",
      "_corr_coeff: done: x: 04-07:dischargeEnteralFeedStart_day y: 20-10:moderateSevereDisabilityOrDeath\n",
      "_corr_coeff: to eval: x: 04-07:dischargeEnteralFeedStart_day y: 20-10:disabilityLevelDeath4Category valid_x: 337 valid_y: 498\n",
      "_corr_coeff: done: x: 04-07:dischargeEnteralFeedStart_day y: 20-10:disabilityLevelDeath4Category\n",
      "_corr_coeff: to eval: x: 04-07:dischargeEnteralFeedStart_day y: 20-10_1:disabilityLevelDeath valid_x: 337 valid_y: 498\n",
      "_corr_coeff: done: x: 04-07:dischargeEnteralFeedStart_day y: 20-10_1:disabilityLevelDeath\n",
      "_corr_coeff: to eval: x: 04-07:dischargeEnteralFeedStart_day y: 20-04:BayleyIIICognitiveComposite valid_x: 337 valid_y: 421\n",
      "_corr_coeff: done: x: 04-07:dischargeEnteralFeedStart_day y: 20-04:BayleyIIICognitiveComposite\n",
      "_corr_coeff: to eval: x: 04-07:dischargeEnteralFeedStart_day y: 20-04:BayleyIIILanguageComposite valid_x: 337 valid_y: 411\n",
      "_corr_coeff: done: x: 04-07:dischargeEnteralFeedStart_day y: 20-04:BayleyIIILanguageComposite\n",
      "_corr_coeff: to eval: x: 04-07:dischargeEnteralFeedStart_day y: 20-04:BayleyIIIMotorComposite valid_x: 337 valid_y: 415\n",
      "_corr_coeff: done: x: 04-07:dischargeEnteralFeedStart_day y: 20-04:BayleyIIIMotorComposite\n",
      "_corr_coeff: to eval: x: 04-07:dischargeTubeFeedingDuration_day y: 20-10:moderateSevereDisabilityOrDeath valid_x: 508 valid_y: 504\n",
      "_corr_coeff: done: x: 04-07:dischargeTubeFeedingDuration_day y: 20-10:moderateSevereDisabilityOrDeath\n"
     ]
    },
    {
     "name": "stderr",
     "output_type": "stream",
     "text": [
      "\r",
      " 82%|████████▏ | 275/336 [00:58<00:12,  4.91it/s]"
     ]
    },
    {
     "name": "stdout",
     "output_type": "stream",
     "text": [
      "_corr_coeff: to eval: x: 04-07:dischargeTubeFeedingDuration_day y: 20-10:disabilityLevelDeath4Category valid_x: 508 valid_y: 498\n",
      "_corr_coeff: done: x: 04-07:dischargeTubeFeedingDuration_day y: 20-10:disabilityLevelDeath4Category\n",
      "_corr_coeff: to eval: x: 04-07:dischargeTubeFeedingDuration_day y: 20-10_1:disabilityLevelDeath valid_x: 508 valid_y: 498\n",
      "_corr_coeff: done: x: 04-07:dischargeTubeFeedingDuration_day y: 20-10_1:disabilityLevelDeath\n",
      "_corr_coeff: to eval: x: 04-07:dischargeTubeFeedingDuration_day y: 20-04:BayleyIIICognitiveComposite valid_x: 508 valid_y: 421\n",
      "_corr_coeff: done: x: 04-07:dischargeTubeFeedingDuration_day y: 20-04:BayleyIIICognitiveComposite\n",
      "_corr_coeff: to eval: x: 04-07:dischargeTubeFeedingDuration_day y: 20-04:BayleyIIILanguageComposite valid_x: 508 valid_y: 411\n",
      "_corr_coeff: done: x: 04-07:dischargeTubeFeedingDuration_day y: 20-04:BayleyIIILanguageComposite\n",
      "_corr_coeff: to eval: x: 04-07:dischargeTubeFeedingDuration_day y: 20-04:BayleyIIIMotorComposite valid_x: 508 valid_y: 415\n",
      "_corr_coeff: done: x: 04-07:dischargeTubeFeedingDuration_day y: 20-04:BayleyIIIMotorComposite\n",
      "_corr_coeff: to eval: x: 04-07:dischargeFullNippleFeed y: 20-10:moderateSevereDisabilityOrDeath valid_x: 362 valid_y: 504\n",
      "_corr_coeff: done: x: 04-07:dischargeFullNippleFeed y: 20-10:moderateSevereDisabilityOrDeath\n",
      "_corr_coeff: to eval: x: 04-07:dischargeFullNippleFeed y: 20-10:disabilityLevelDeath4Category valid_x: 362 valid_y: 498\n",
      "_corr_coeff: done: x: 04-07:dischargeFullNippleFeed y: 20-10:disabilityLevelDeath4Category\n"
     ]
    },
    {
     "name": "stderr",
     "output_type": "stream",
     "text": [
      "\r",
      " 82%|████████▏ | 276/336 [00:59<00:12,  4.71it/s]"
     ]
    },
    {
     "name": "stdout",
     "output_type": "stream",
     "text": [
      "_corr_coeff: to eval: x: 04-07:dischargeFullNippleFeed y: 20-10_1:disabilityLevelDeath valid_x: 362 valid_y: 498\n",
      "_corr_coeff: done: x: 04-07:dischargeFullNippleFeed y: 20-10_1:disabilityLevelDeath\n",
      "_corr_coeff: to eval: x: 04-07:dischargeFullNippleFeed y: 20-04:BayleyIIICognitiveComposite valid_x: 362 valid_y: 421\n",
      "_corr_coeff: done: x: 04-07:dischargeFullNippleFeed y: 20-04:BayleyIIICognitiveComposite\n",
      "_corr_coeff: to eval: x: 04-07:dischargeFullNippleFeed y: 20-04:BayleyIIILanguageComposite valid_x: 362 valid_y: 411\n",
      "_corr_coeff: done: x: 04-07:dischargeFullNippleFeed y: 20-04:BayleyIIILanguageComposite\n",
      "_corr_coeff: to eval: x: 04-07:dischargeFullNippleFeed y: 20-04:BayleyIIIMotorComposite valid_x: 362 valid_y: 415\n",
      "_corr_coeff: done: x: 04-07:dischargeFullNippleFeed y: 20-04:BayleyIIIMotorComposite\n",
      "_corr_coeff: to eval: x: 04-07:dischargeFullNippleFeed_day y: 20-10:moderateSevereDisabilityOrDeath valid_x: 374 valid_y: 504\n",
      "_corr_coeff: done: x: 04-07:dischargeFullNippleFeed_day y: 20-10:moderateSevereDisabilityOrDeath\n",
      "_corr_coeff: to eval: x: 04-07:dischargeFullNippleFeed_day y: 20-10:disabilityLevelDeath4Category valid_x: 374 valid_y: 498\n",
      "_corr_coeff: done: x: 04-07:dischargeFullNippleFeed_day y: 20-10:disabilityLevelDeath4Category\n"
     ]
    },
    {
     "name": "stderr",
     "output_type": "stream",
     "text": [
      "\r",
      " 82%|████████▏ | 277/336 [00:59<00:12,  4.89it/s]"
     ]
    },
    {
     "name": "stdout",
     "output_type": "stream",
     "text": [
      "_corr_coeff: to eval: x: 04-07:dischargeFullNippleFeed_day y: 20-10_1:disabilityLevelDeath valid_x: 374 valid_y: 498\n",
      "_corr_coeff: done: x: 04-07:dischargeFullNippleFeed_day y: 20-10_1:disabilityLevelDeath\n",
      "_corr_coeff: to eval: x: 04-07:dischargeFullNippleFeed_day y: 20-04:BayleyIIICognitiveComposite valid_x: 374 valid_y: 421\n",
      "_corr_coeff: done: x: 04-07:dischargeFullNippleFeed_day y: 20-04:BayleyIIICognitiveComposite\n",
      "_corr_coeff: to eval: x: 04-07:dischargeFullNippleFeed_day y: 20-04:BayleyIIILanguageComposite valid_x: 374 valid_y: 411\n",
      "_corr_coeff: done: x: 04-07:dischargeFullNippleFeed_day y: 20-04:BayleyIIILanguageComposite\n",
      "_corr_coeff: to eval: x: 04-07:dischargeFullNippleFeed_day y: 20-04:BayleyIIIMotorComposite valid_x: 374 valid_y: 415\n",
      "_corr_coeff: done: x: 04-07:dischargeFullNippleFeed_day y: 20-04:BayleyIIIMotorComposite\n",
      "_corr_coeff: to eval: x: 04-07:dischargeNEC y: 20-10:moderateSevereDisabilityOrDeath valid_x: 532 valid_y: 504\n",
      "_corr_coeff: done: x: 04-07:dischargeNEC y: 20-10:moderateSevereDisabilityOrDeath\n",
      "_corr_coeff: to eval: x: 04-07:dischargeNEC y: 20-10:disabilityLevelDeath4Category valid_x: 532 valid_y: 498\n",
      "_corr_coeff: done: x: 04-07:dischargeNEC y: 20-10:disabilityLevelDeath4Category\n",
      "_corr_coeff: to eval: x: 04-07:dischargeNEC y: 20-10_1:disabilityLevelDeath valid_x: 532 valid_y: 498\n",
      "_corr_coeff: done: x: 04-07:dischargeNEC y: 20-10_1:disabilityLevelDeath\n"
     ]
    },
    {
     "name": "stderr",
     "output_type": "stream",
     "text": [
      "\r",
      " 83%|████████▎ | 278/336 [00:59<00:11,  4.95it/s]"
     ]
    },
    {
     "name": "stdout",
     "output_type": "stream",
     "text": [
      "_corr_coeff: to eval: x: 04-07:dischargeNEC y: 20-04:BayleyIIICognitiveComposite valid_x: 532 valid_y: 421\n",
      "_corr_coeff: done: x: 04-07:dischargeNEC y: 20-04:BayleyIIICognitiveComposite\n",
      "_corr_coeff: to eval: x: 04-07:dischargeNEC y: 20-04:BayleyIIILanguageComposite valid_x: 532 valid_y: 411\n",
      "_corr_coeff: done: x: 04-07:dischargeNEC y: 20-04:BayleyIIILanguageComposite\n",
      "_corr_coeff: to eval: x: 04-07:dischargeNEC y: 20-04:BayleyIIIMotorComposite valid_x: 532 valid_y: 415\n",
      "_corr_coeff: done: x: 04-07:dischargeNEC y: 20-04:BayleyIIIMotorComposite\n",
      "_corr_coeff: to eval: x: 04-07:dischargeHepaticDysfunction y: 20-10:moderateSevereDisabilityOrDeath valid_x: 532 valid_y: 504\n",
      "_corr_coeff: done: x: 04-07:dischargeHepaticDysfunction y: 20-10:moderateSevereDisabilityOrDeath\n",
      "_corr_coeff: to eval: x: 04-07:dischargeHepaticDysfunction y: 20-10:disabilityLevelDeath4Category valid_x: 532 valid_y: 498\n",
      "_corr_coeff: done: x: 04-07:dischargeHepaticDysfunction y: 20-10:disabilityLevelDeath4Category\n",
      "_corr_coeff: to eval: x: 04-07:dischargeHepaticDysfunction y: 20-10_1:disabilityLevelDeath valid_x: 532 valid_y: 498\n",
      "_corr_coeff: done: x: 04-07:dischargeHepaticDysfunction y: 20-10_1:disabilityLevelDeath\n",
      "_corr_coeff: to eval: x: 04-07:dischargeHepaticDysfunction y: 20-04:BayleyIIICognitiveComposite valid_x: 532 valid_y: 421\n",
      "_corr_coeff: done: x: 04-07:dischargeHepaticDysfunction y: 20-04:BayleyIIICognitiveComposite\n"
     ]
    },
    {
     "name": "stderr",
     "output_type": "stream",
     "text": [
      "\r",
      " 83%|████████▎ | 279/336 [00:59<00:11,  4.94it/s]"
     ]
    },
    {
     "name": "stdout",
     "output_type": "stream",
     "text": [
      "_corr_coeff: to eval: x: 04-07:dischargeHepaticDysfunction y: 20-04:BayleyIIILanguageComposite valid_x: 532 valid_y: 411\n",
      "_corr_coeff: done: x: 04-07:dischargeHepaticDysfunction y: 20-04:BayleyIIILanguageComposite\n",
      "_corr_coeff: to eval: x: 04-07:dischargeHepaticDysfunction y: 20-04:BayleyIIIMotorComposite valid_x: 532 valid_y: 415\n",
      "_corr_coeff: done: x: 04-07:dischargeHepaticDysfunction y: 20-04:BayleyIIIMotorComposite\n",
      "_corr_coeff: to eval: x: 04-08:dischargeAlteredSkinItegrityPostIntervention y: 20-10:moderateSevereDisabilityOrDeath valid_x: 364 valid_y: 504\n",
      "_corr_coeff: done: x: 04-08:dischargeAlteredSkinItegrityPostIntervention y: 20-10:moderateSevereDisabilityOrDeath\n",
      "_corr_coeff: to eval: x: 04-08:dischargeAlteredSkinItegrityPostIntervention y: 20-10:disabilityLevelDeath4Category valid_x: 364 valid_y: 498\n",
      "_corr_coeff: done: x: 04-08:dischargeAlteredSkinItegrityPostIntervention y: 20-10:disabilityLevelDeath4Category\n",
      "_corr_coeff: to eval: x: 04-08:dischargeAlteredSkinItegrityPostIntervention y: 20-10_1:disabilityLevelDeath valid_x: 364 valid_y: 498\n",
      "_corr_coeff: done: x: 04-08:dischargeAlteredSkinItegrityPostIntervention y: 20-10_1:disabilityLevelDeath\n"
     ]
    },
    {
     "name": "stderr",
     "output_type": "stream",
     "text": [
      "\r",
      " 83%|████████▎ | 280/336 [00:59<00:11,  4.72it/s]"
     ]
    },
    {
     "name": "stdout",
     "output_type": "stream",
     "text": [
      "_corr_coeff: to eval: x: 04-08:dischargeAlteredSkinItegrityPostIntervention y: 20-04:BayleyIIICognitiveComposite valid_x: 364 valid_y: 421\n",
      "_corr_coeff: done: x: 04-08:dischargeAlteredSkinItegrityPostIntervention y: 20-04:BayleyIIICognitiveComposite\n",
      "_corr_coeff: to eval: x: 04-08:dischargeAlteredSkinItegrityPostIntervention y: 20-04:BayleyIIILanguageComposite valid_x: 364 valid_y: 411\n",
      "_corr_coeff: done: x: 04-08:dischargeAlteredSkinItegrityPostIntervention y: 20-04:BayleyIIILanguageComposite\n",
      "_corr_coeff: to eval: x: 04-08:dischargeAlteredSkinItegrityPostIntervention y: 20-04:BayleyIIIMotorComposite valid_x: 364 valid_y: 415\n",
      "_corr_coeff: done: x: 04-08:dischargeAlteredSkinItegrityPostIntervention y: 20-04:BayleyIIIMotorComposite\n",
      "_corr_coeff: to eval: x: 04-08:dischargeErythema y: 20-10:moderateSevereDisabilityOrDeath valid_x: 27 valid_y: 504\n",
      "_corr_coeff: done: x: 04-08:dischargeErythema y: 20-10:moderateSevereDisabilityOrDeath\n",
      "_corr_coeff: to eval: x: 04-08:dischargeErythema y: 20-10:disabilityLevelDeath4Category valid_x: 27 valid_y: 498\n",
      "_corr_coeff: done: x: 04-08:dischargeErythema y: 20-10:disabilityLevelDeath4Category\n",
      "_corr_coeff: to eval: x: 04-08:dischargeErythema y: 20-10_1:disabilityLevelDeath valid_x: 27 valid_y: 498\n",
      "_corr_coeff: done: x: 04-08:dischargeErythema y: 20-10_1:disabilityLevelDeath\n",
      "_corr_coeff: to eval: x: 04-08:dischargeErythema y: 20-04:BayleyIIICognitiveComposite valid_x: 27 valid_y: 421\n",
      "_corr_coeff: done: x: 04-08:dischargeErythema y: 20-04:BayleyIIICognitiveComposite\n",
      "_corr_coeff: to eval: x: 04-08:dischargeErythema y: 20-04:BayleyIIILanguageComposite valid_x: 27 valid_y: 411\n",
      "_corr_coeff: done: x: 04-08:dischargeErythema y: 20-04:BayleyIIILanguageComposite\n",
      "_corr_coeff: to eval: x: 04-08:dischargeErythema y: 20-04:BayleyIIIMotorComposite valid_x: 27 valid_y: 415\n",
      "_corr_coeff: done: x: 04-08:dischargeErythema y: 20-04:BayleyIIIMotorComposite\n"
     ]
    },
    {
     "name": "stderr",
     "output_type": "stream",
     "text": [
      "\r",
      " 84%|████████▎ | 281/336 [01:00<00:10,  5.24it/s]"
     ]
    },
    {
     "name": "stderr",
     "output_type": "stream",
     "text": [
      "\r",
      " 84%|████████▍ | 282/336 [01:00<00:10,  5.18it/s]"
     ]
    },
    {
     "name": "stdout",
     "output_type": "stream",
     "text": [
      "_corr_coeff: to eval: x: 04-08:dischargeCyanosis y: 20-10:moderateSevereDisabilityOrDeath valid_x: 27 valid_y: 504\n",
      "_corr_coeff: done: x: 04-08:dischargeCyanosis y: 20-10:moderateSevereDisabilityOrDeath\n",
      "_corr_coeff: to eval: x: 04-08:dischargeCyanosis y: 20-10:disabilityLevelDeath4Category valid_x: 27 valid_y: 498\n",
      "_corr_coeff: done: x: 04-08:dischargeCyanosis y: 20-10:disabilityLevelDeath4Category\n",
      "_corr_coeff: to eval: x: 04-08:dischargeCyanosis y: 20-10_1:disabilityLevelDeath valid_x: 27 valid_y: 498\n",
      "_corr_coeff: done: x: 04-08:dischargeCyanosis y: 20-10_1:disabilityLevelDeath\n",
      "_corr_coeff: to eval: x: 04-08:dischargeCyanosis y: 20-04:BayleyIIICognitiveComposite valid_x: 27 valid_y: 421\n",
      "_corr_coeff: done: x: 04-08:dischargeCyanosis y: 20-04:BayleyIIICognitiveComposite\n",
      "_corr_coeff: to eval: x: 04-08:dischargeCyanosis y: 20-04:BayleyIIILanguageComposite valid_x: 27 valid_y: 411\n",
      "_corr_coeff: done: x: 04-08:dischargeCyanosis y: 20-04:BayleyIIILanguageComposite\n",
      "_corr_coeff: to eval: x: 04-08:dischargeCyanosis y: 20-04:BayleyIIIMotorComposite valid_x: 27 valid_y: 415\n",
      "_corr_coeff: done: x: 04-08:dischargeCyanosis y: 20-04:BayleyIIIMotorComposite\n",
      "_corr_coeff: to eval: x: 04-08:dischargeSubFatNecrosis y: 20-10:moderateSevereDisabilityOrDeath valid_x: 28 valid_y: 504\n",
      "_corr_coeff: done: x: 04-08:dischargeSubFatNecrosis y: 20-10:moderateSevereDisabilityOrDeath\n"
     ]
    },
    {
     "name": "stderr",
     "output_type": "stream",
     "text": [
      "\r",
      " 84%|████████▍ | 283/336 [01:00<00:09,  5.53it/s]"
     ]
    },
    {
     "name": "stdout",
     "output_type": "stream",
     "text": [
      "_corr_coeff: to eval: x: 04-08:dischargeSubFatNecrosis y: 20-10:disabilityLevelDeath4Category valid_x: 28 valid_y: 498\n",
      "_corr_coeff: done: x: 04-08:dischargeSubFatNecrosis y: 20-10:disabilityLevelDeath4Category\n",
      "_corr_coeff: to eval: x: 04-08:dischargeSubFatNecrosis y: 20-10_1:disabilityLevelDeath valid_x: 28 valid_y: 498\n",
      "_corr_coeff: done: x: 04-08:dischargeSubFatNecrosis y: 20-10_1:disabilityLevelDeath\n",
      "_corr_coeff: to eval: x: 04-08:dischargeSubFatNecrosis y: 20-04:BayleyIIICognitiveComposite valid_x: 28 valid_y: 421\n",
      "_corr_coeff: done: x: 04-08:dischargeSubFatNecrosis y: 20-04:BayleyIIICognitiveComposite\n",
      "_corr_coeff: to eval: x: 04-08:dischargeSubFatNecrosis y: 20-04:BayleyIIILanguageComposite valid_x: 28 valid_y: 411\n",
      "_corr_coeff: done: x: 04-08:dischargeSubFatNecrosis y: 20-04:BayleyIIILanguageComposite\n",
      "_corr_coeff: to eval: x: 04-08:dischargeSubFatNecrosis y: 20-04:BayleyIIIMotorComposite valid_x: 28 valid_y: 415\n",
      "_corr_coeff: done: x: 04-08:dischargeSubFatNecrosis y: 20-04:BayleyIIIMotorComposite\n",
      "_corr_coeff: to eval: x: 04-09:dischargeHearingTest y: 20-10:moderateSevereDisabilityOrDeath valid_x: 532 valid_y: 504\n",
      "_corr_coeff: done: x: 04-09:dischargeHearingTest y: 20-10:moderateSevereDisabilityOrDeath\n"
     ]
    },
    {
     "name": "stderr",
     "output_type": "stream",
     "text": [
      "\r",
      " 85%|████████▍ | 284/336 [01:00<00:10,  4.93it/s]"
     ]
    },
    {
     "name": "stdout",
     "output_type": "stream",
     "text": [
      "_corr_coeff: to eval: x: 04-09:dischargeHearingTest y: 20-10:disabilityLevelDeath4Category valid_x: 532 valid_y: 498\n",
      "_corr_coeff: done: x: 04-09:dischargeHearingTest y: 20-10:disabilityLevelDeath4Category\n",
      "_corr_coeff: to eval: x: 04-09:dischargeHearingTest y: 20-10_1:disabilityLevelDeath valid_x: 532 valid_y: 498\n",
      "_corr_coeff: done: x: 04-09:dischargeHearingTest y: 20-10_1:disabilityLevelDeath\n",
      "_corr_coeff: to eval: x: 04-09:dischargeHearingTest y: 20-04:BayleyIIICognitiveComposite valid_x: 532 valid_y: 421\n",
      "_corr_coeff: done: x: 04-09:dischargeHearingTest y: 20-04:BayleyIIICognitiveComposite\n",
      "_corr_coeff: to eval: x: 04-09:dischargeHearingTest y: 20-04:BayleyIIILanguageComposite valid_x: 532 valid_y: 411\n",
      "_corr_coeff: done: x: 04-09:dischargeHearingTest y: 20-04:BayleyIIILanguageComposite\n",
      "_corr_coeff: to eval: x: 04-09:dischargeHearingTest y: 20-04:BayleyIIIMotorComposite valid_x: 532 valid_y: 415\n",
      "_corr_coeff: done: x: 04-09:dischargeHearingTest y: 20-04:BayleyIIIMotorComposite\n",
      "_corr_coeff: to eval: x: 04-09:dischargeHearingTestNormal y: 20-10:moderateSevereDisabilityOrDeath valid_x: 421 valid_y: 504\n",
      "_corr_coeff: done: x: 04-09:dischargeHearingTestNormal y: 20-10:moderateSevereDisabilityOrDeath\n",
      "_corr_coeff: to eval: x: 04-09:dischargeHearingTestNormal y: 20-10:disabilityLevelDeath4Category valid_x: 421 valid_y: 498\n",
      "_corr_coeff: done: x: 04-09:dischargeHearingTestNormal y: 20-10:disabilityLevelDeath4Category\n"
     ]
    },
    {
     "name": "stderr",
     "output_type": "stream",
     "text": [
      "\r",
      " 85%|████████▍ | 285/336 [01:00<00:11,  4.61it/s]"
     ]
    },
    {
     "name": "stdout",
     "output_type": "stream",
     "text": [
      "_corr_coeff: to eval: x: 04-09:dischargeHearingTestNormal y: 20-10_1:disabilityLevelDeath valid_x: 421 valid_y: 498\n",
      "_corr_coeff: done: x: 04-09:dischargeHearingTestNormal y: 20-10_1:disabilityLevelDeath\n",
      "_corr_coeff: to eval: x: 04-09:dischargeHearingTestNormal y: 20-04:BayleyIIICognitiveComposite valid_x: 421 valid_y: 421\n",
      "_corr_coeff: done: x: 04-09:dischargeHearingTestNormal y: 20-04:BayleyIIICognitiveComposite\n",
      "_corr_coeff: to eval: x: 04-09:dischargeHearingTestNormal y: 20-04:BayleyIIILanguageComposite valid_x: 421 valid_y: 411\n",
      "_corr_coeff: done: x: 04-09:dischargeHearingTestNormal y: 20-04:BayleyIIILanguageComposite\n",
      "_corr_coeff: to eval: x: 04-09:dischargeHearingTestNormal y: 20-04:BayleyIIIMotorComposite valid_x: 421 valid_y: 415\n",
      "_corr_coeff: done: x: 04-09:dischargeHearingTestNormal y: 20-04:BayleyIIIMotorComposite\n",
      "_corr_coeff: to eval: x: 04-10:dischargeMajorSurgery y: 20-10:moderateSevereDisabilityOrDeath valid_x: 532 valid_y: 504\n",
      "_corr_coeff: done: x: 04-10:dischargeMajorSurgery y: 20-10:moderateSevereDisabilityOrDeath\n"
     ]
    },
    {
     "name": "stderr",
     "output_type": "stream",
     "text": [
      "\r",
      " 85%|████████▌ | 286/336 [01:01<00:10,  4.68it/s]"
     ]
    },
    {
     "name": "stdout",
     "output_type": "stream",
     "text": [
      "_corr_coeff: to eval: x: 04-10:dischargeMajorSurgery y: 20-10:disabilityLevelDeath4Category valid_x: 532 valid_y: 498\n",
      "_corr_coeff: done: x: 04-10:dischargeMajorSurgery y: 20-10:disabilityLevelDeath4Category\n",
      "_corr_coeff: to eval: x: 04-10:dischargeMajorSurgery y: 20-10_1:disabilityLevelDeath valid_x: 532 valid_y: 498\n",
      "_corr_coeff: done: x: 04-10:dischargeMajorSurgery y: 20-10_1:disabilityLevelDeath\n",
      "_corr_coeff: to eval: x: 04-10:dischargeMajorSurgery y: 20-04:BayleyIIICognitiveComposite valid_x: 532 valid_y: 421\n",
      "_corr_coeff: done: x: 04-10:dischargeMajorSurgery y: 20-04:BayleyIIICognitiveComposite\n",
      "_corr_coeff: to eval: x: 04-10:dischargeMajorSurgery y: 20-04:BayleyIIILanguageComposite valid_x: 532 valid_y: 411\n",
      "_corr_coeff: done: x: 04-10:dischargeMajorSurgery y: 20-04:BayleyIIILanguageComposite\n",
      "_corr_coeff: to eval: x: 04-10:dischargeMajorSurgery y: 20-04:BayleyIIIMotorComposite valid_x: 532 valid_y: 415\n",
      "_corr_coeff: done: x: 04-10:dischargeMajorSurgery y: 20-04:BayleyIIIMotorComposite\n",
      "_corr_coeff: to eval: x: 04-11:dischargeSepticemia y: 20-10:moderateSevereDisabilityOrDeath valid_x: 531 valid_y: 504\n",
      "_corr_coeff: done: x: 04-11:dischargeSepticemia y: 20-10:moderateSevereDisabilityOrDeath\n",
      "_corr_coeff: to eval: x: 04-11:dischargeSepticemia y: 20-10:disabilityLevelDeath4Category valid_x: 531 valid_y: 498\n",
      "_corr_coeff: done: x: 04-11:dischargeSepticemia y: 20-10:disabilityLevelDeath4Category\n"
     ]
    },
    {
     "name": "stderr",
     "output_type": "stream",
     "text": [
      "\r",
      " 85%|████████▌ | 287/336 [01:01<00:11,  4.41it/s]"
     ]
    },
    {
     "name": "stdout",
     "output_type": "stream",
     "text": [
      "_corr_coeff: to eval: x: 04-11:dischargeSepticemia y: 20-10_1:disabilityLevelDeath valid_x: 531 valid_y: 498\n",
      "_corr_coeff: done: x: 04-11:dischargeSepticemia y: 20-10_1:disabilityLevelDeath\n",
      "_corr_coeff: to eval: x: 04-11:dischargeSepticemia y: 20-04:BayleyIIICognitiveComposite valid_x: 531 valid_y: 421\n",
      "_corr_coeff: done: x: 04-11:dischargeSepticemia y: 20-04:BayleyIIICognitiveComposite\n",
      "_corr_coeff: to eval: x: 04-11:dischargeSepticemia y: 20-04:BayleyIIILanguageComposite valid_x: 531 valid_y: 411\n",
      "_corr_coeff: done: x: 04-11:dischargeSepticemia y: 20-04:BayleyIIILanguageComposite\n",
      "_corr_coeff: to eval: x: 04-11:dischargeSepticemia y: 20-04:BayleyIIIMotorComposite valid_x: 531 valid_y: 415\n",
      "_corr_coeff: done: x: 04-11:dischargeSepticemia y: 20-04:BayleyIIIMotorComposite\n",
      "_corr_coeff: to eval: x: 04-11:dischargeMeningitisEncephalitis y: 20-10:moderateSevereDisabilityOrDeath valid_x: 532 valid_y: 504\n",
      "_corr_coeff: done: x: 04-11:dischargeMeningitisEncephalitis y: 20-10:moderateSevereDisabilityOrDeath\n"
     ]
    },
    {
     "name": "stderr",
     "output_type": "stream",
     "text": [
      "\r",
      " 86%|████████▌ | 288/336 [01:01<00:10,  4.56it/s]"
     ]
    },
    {
     "name": "stdout",
     "output_type": "stream",
     "text": [
      "_corr_coeff: to eval: x: 04-11:dischargeMeningitisEncephalitis y: 20-10:disabilityLevelDeath4Category valid_x: 532 valid_y: 498\n",
      "_corr_coeff: done: x: 04-11:dischargeMeningitisEncephalitis y: 20-10:disabilityLevelDeath4Category\n",
      "_corr_coeff: to eval: x: 04-11:dischargeMeningitisEncephalitis y: 20-10_1:disabilityLevelDeath valid_x: 532 valid_y: 498\n",
      "_corr_coeff: done: x: 04-11:dischargeMeningitisEncephalitis y: 20-10_1:disabilityLevelDeath\n",
      "_corr_coeff: to eval: x: 04-11:dischargeMeningitisEncephalitis y: 20-04:BayleyIIICognitiveComposite valid_x: 532 valid_y: 421\n",
      "_corr_coeff: done: x: 04-11:dischargeMeningitisEncephalitis y: 20-04:BayleyIIICognitiveComposite\n",
      "_corr_coeff: to eval: x: 04-11:dischargeMeningitisEncephalitis y: 20-04:BayleyIIILanguageComposite valid_x: 532 valid_y: 411\n",
      "_corr_coeff: done: x: 04-11:dischargeMeningitisEncephalitis y: 20-04:BayleyIIILanguageComposite\n",
      "_corr_coeff: to eval: x: 04-11:dischargeMeningitisEncephalitis y: 20-04:BayleyIIIMotorComposite valid_x: 532 valid_y: 415\n",
      "_corr_coeff: done: x: 04-11:dischargeMeningitisEncephalitis y: 20-04:BayleyIIIMotorComposite\n",
      "_corr_coeff: to eval: x: 04-12:dischargeNeuroExamLevelConsciousness y: 20-10:moderateSevereDisabilityOrDeath valid_x: 490 valid_y: 504\n",
      "_corr_coeff: done: x: 04-12:dischargeNeuroExamLevelConsciousness y: 20-10:moderateSevereDisabilityOrDeath\n",
      "_corr_coeff: to eval: x: 04-12:dischargeNeuroExamLevelConsciousness y: 20-10:disabilityLevelDeath4Category valid_x: 490 valid_y: 498\n",
      "_corr_coeff: done: x: 04-12:dischargeNeuroExamLevelConsciousness y: 20-10:disabilityLevelDeath4Category\n"
     ]
    },
    {
     "name": "stderr",
     "output_type": "stream",
     "text": [
      "\r",
      " 86%|████████▌ | 289/336 [01:01<00:10,  4.35it/s]"
     ]
    },
    {
     "name": "stdout",
     "output_type": "stream",
     "text": [
      "_corr_coeff: to eval: x: 04-12:dischargeNeuroExamLevelConsciousness y: 20-10_1:disabilityLevelDeath valid_x: 490 valid_y: 498\n",
      "_corr_coeff: done: x: 04-12:dischargeNeuroExamLevelConsciousness y: 20-10_1:disabilityLevelDeath\n",
      "_corr_coeff: to eval: x: 04-12:dischargeNeuroExamLevelConsciousness y: 20-04:BayleyIIICognitiveComposite valid_x: 490 valid_y: 421\n",
      "_corr_coeff: done: x: 04-12:dischargeNeuroExamLevelConsciousness y: 20-04:BayleyIIICognitiveComposite\n",
      "_corr_coeff: to eval: x: 04-12:dischargeNeuroExamLevelConsciousness y: 20-04:BayleyIIILanguageComposite valid_x: 490 valid_y: 411\n",
      "_corr_coeff: done: x: 04-12:dischargeNeuroExamLevelConsciousness y: 20-04:BayleyIIILanguageComposite\n",
      "_corr_coeff: to eval: x: 04-12:dischargeNeuroExamLevelConsciousness y: 20-04:BayleyIIIMotorComposite valid_x: 490 valid_y: 415\n",
      "_corr_coeff: done: x: 04-12:dischargeNeuroExamLevelConsciousness y: 20-04:BayleyIIIMotorComposite\n",
      "_corr_coeff: to eval: x: 04-12:dischargeNeuroExamSpontaneousActivity y: 20-10:moderateSevereDisabilityOrDeath valid_x: 489 valid_y: 504\n",
      "_corr_coeff: done: x: 04-12:dischargeNeuroExamSpontaneousActivity y: 20-10:moderateSevereDisabilityOrDeath\n"
     ]
    },
    {
     "name": "stderr",
     "output_type": "stream",
     "text": [
      "\r",
      " 86%|████████▋ | 290/336 [01:01<00:10,  4.54it/s]"
     ]
    },
    {
     "name": "stdout",
     "output_type": "stream",
     "text": [
      "_corr_coeff: to eval: x: 04-12:dischargeNeuroExamSpontaneousActivity y: 20-10:disabilityLevelDeath4Category valid_x: 489 valid_y: 498\n",
      "_corr_coeff: done: x: 04-12:dischargeNeuroExamSpontaneousActivity y: 20-10:disabilityLevelDeath4Category\n",
      "_corr_coeff: to eval: x: 04-12:dischargeNeuroExamSpontaneousActivity y: 20-10_1:disabilityLevelDeath valid_x: 489 valid_y: 498\n",
      "_corr_coeff: done: x: 04-12:dischargeNeuroExamSpontaneousActivity y: 20-10_1:disabilityLevelDeath\n",
      "_corr_coeff: to eval: x: 04-12:dischargeNeuroExamSpontaneousActivity y: 20-04:BayleyIIICognitiveComposite valid_x: 489 valid_y: 421\n",
      "_corr_coeff: done: x: 04-12:dischargeNeuroExamSpontaneousActivity y: 20-04:BayleyIIICognitiveComposite\n",
      "_corr_coeff: to eval: x: 04-12:dischargeNeuroExamSpontaneousActivity y: 20-04:BayleyIIILanguageComposite valid_x: 489 valid_y: 411\n",
      "_corr_coeff: done: x: 04-12:dischargeNeuroExamSpontaneousActivity y: 20-04:BayleyIIILanguageComposite\n",
      "_corr_coeff: to eval: x: 04-12:dischargeNeuroExamSpontaneousActivity y: 20-04:BayleyIIIMotorComposite valid_x: 489 valid_y: 415\n",
      "_corr_coeff: done: x: 04-12:dischargeNeuroExamSpontaneousActivity y: 20-04:BayleyIIIMotorComposite\n",
      "_corr_coeff: to eval: x: 04-12:dischargeNeuroExamPosture y: 20-10:moderateSevereDisabilityOrDeath valid_x: 489 valid_y: 504\n",
      "_corr_coeff: done: x: 04-12:dischargeNeuroExamPosture y: 20-10:moderateSevereDisabilityOrDeath\n",
      "_corr_coeff: to eval: x: 04-12:dischargeNeuroExamPosture y: 20-10:disabilityLevelDeath4Category valid_x: 489 valid_y: 498\n",
      "_corr_coeff: done: x: 04-12:dischargeNeuroExamPosture y: 20-10:disabilityLevelDeath4Category\n"
     ]
    },
    {
     "name": "stderr",
     "output_type": "stream",
     "text": [
      "\r",
      " 87%|████████▋ | 291/336 [01:02<00:10,  4.35it/s]"
     ]
    },
    {
     "name": "stdout",
     "output_type": "stream",
     "text": [
      "_corr_coeff: to eval: x: 04-12:dischargeNeuroExamPosture y: 20-10_1:disabilityLevelDeath valid_x: 489 valid_y: 498\n",
      "_corr_coeff: done: x: 04-12:dischargeNeuroExamPosture y: 20-10_1:disabilityLevelDeath\n",
      "_corr_coeff: to eval: x: 04-12:dischargeNeuroExamPosture y: 20-04:BayleyIIICognitiveComposite valid_x: 489 valid_y: 421\n",
      "_corr_coeff: done: x: 04-12:dischargeNeuroExamPosture y: 20-04:BayleyIIICognitiveComposite\n",
      "_corr_coeff: to eval: x: 04-12:dischargeNeuroExamPosture y: 20-04:BayleyIIILanguageComposite valid_x: 489 valid_y: 411\n",
      "_corr_coeff: done: x: 04-12:dischargeNeuroExamPosture y: 20-04:BayleyIIILanguageComposite\n",
      "_corr_coeff: to eval: x: 04-12:dischargeNeuroExamPosture y: 20-04:BayleyIIIMotorComposite valid_x: 489 valid_y: 415\n",
      "_corr_coeff: done: x: 04-12:dischargeNeuroExamPosture y: 20-04:BayleyIIIMotorComposite\n",
      "_corr_coeff: to eval: x: 04-12:dischargeNeuroExamTone y: 20-10:moderateSevereDisabilityOrDeath valid_x: 460 valid_y: 504\n",
      "_corr_coeff: done: x: 04-12:dischargeNeuroExamTone y: 20-10:moderateSevereDisabilityOrDeath\n",
      "_corr_coeff: to eval: x: 04-12:dischargeNeuroExamTone y: 20-10:disabilityLevelDeath4Category valid_x: 460 valid_y: 498\n",
      "_corr_coeff: done: x: 04-12:dischargeNeuroExamTone y: 20-10:disabilityLevelDeath4Category\n",
      "_corr_coeff: to eval: x: 04-12:dischargeNeuroExamTone y: 20-10_1:disabilityLevelDeath valid_x: 460 valid_y: 498\n",
      "_corr_coeff: done: x: 04-12:dischargeNeuroExamTone y: 20-10_1:disabilityLevelDeath\n"
     ]
    },
    {
     "name": "stderr",
     "output_type": "stream",
     "text": [
      "\r",
      " 87%|████████▋ | 292/336 [01:02<00:09,  4.56it/s]"
     ]
    },
    {
     "name": "stdout",
     "output_type": "stream",
     "text": [
      "_corr_coeff: to eval: x: 04-12:dischargeNeuroExamTone y: 20-04:BayleyIIICognitiveComposite valid_x: 460 valid_y: 421\n",
      "_corr_coeff: done: x: 04-12:dischargeNeuroExamTone y: 20-04:BayleyIIICognitiveComposite\n",
      "_corr_coeff: to eval: x: 04-12:dischargeNeuroExamTone y: 20-04:BayleyIIILanguageComposite valid_x: 460 valid_y: 411\n",
      "_corr_coeff: done: x: 04-12:dischargeNeuroExamTone y: 20-04:BayleyIIILanguageComposite\n",
      "_corr_coeff: to eval: x: 04-12:dischargeNeuroExamTone y: 20-04:BayleyIIIMotorComposite valid_x: 460 valid_y: 415\n",
      "_corr_coeff: done: x: 04-12:dischargeNeuroExamTone y: 20-04:BayleyIIIMotorComposite\n",
      "_corr_coeff: to eval: x: 04-12:dischargeNeuroExamSuck y: 20-10:moderateSevereDisabilityOrDeath valid_x: 489 valid_y: 504\n",
      "_corr_coeff: done: x: 04-12:dischargeNeuroExamSuck y: 20-10:moderateSevereDisabilityOrDeath\n",
      "_corr_coeff: to eval: x: 04-12:dischargeNeuroExamSuck y: 20-10:disabilityLevelDeath4Category valid_x: 489 valid_y: 498\n",
      "_corr_coeff: done: x: 04-12:dischargeNeuroExamSuck y: 20-10:disabilityLevelDeath4Category\n"
     ]
    },
    {
     "name": "stderr",
     "output_type": "stream",
     "text": [
      "\r",
      " 87%|████████▋ | 293/336 [01:02<00:10,  4.15it/s]"
     ]
    },
    {
     "name": "stdout",
     "output_type": "stream",
     "text": [
      "_corr_coeff: to eval: x: 04-12:dischargeNeuroExamSuck y: 20-10_1:disabilityLevelDeath valid_x: 489 valid_y: 498\n",
      "_corr_coeff: done: x: 04-12:dischargeNeuroExamSuck y: 20-10_1:disabilityLevelDeath\n",
      "_corr_coeff: to eval: x: 04-12:dischargeNeuroExamSuck y: 20-04:BayleyIIICognitiveComposite valid_x: 489 valid_y: 421\n",
      "_corr_coeff: done: x: 04-12:dischargeNeuroExamSuck y: 20-04:BayleyIIICognitiveComposite\n",
      "_corr_coeff: to eval: x: 04-12:dischargeNeuroExamSuck y: 20-04:BayleyIIILanguageComposite valid_x: 489 valid_y: 411\n",
      "_corr_coeff: done: x: 04-12:dischargeNeuroExamSuck y: 20-04:BayleyIIILanguageComposite\n",
      "_corr_coeff: to eval: x: 04-12:dischargeNeuroExamSuck y: 20-04:BayleyIIIMotorComposite valid_x: 489 valid_y: 415\n",
      "_corr_coeff: done: x: 04-12:dischargeNeuroExamSuck y: 20-04:BayleyIIIMotorComposite\n",
      "_corr_coeff: to eval: x: 04-12:dischargeNeuroExamMoro y: 20-10:moderateSevereDisabilityOrDeath valid_x: 485 valid_y: 504\n",
      "_corr_coeff: done: x: 04-12:dischargeNeuroExamMoro y: 20-10:moderateSevereDisabilityOrDeath\n",
      "_corr_coeff: to eval: x: 04-12:dischargeNeuroExamMoro y: 20-10:disabilityLevelDeath4Category valid_x: 485 valid_y: 498\n",
      "_corr_coeff: done: x: 04-12:dischargeNeuroExamMoro y: 20-10:disabilityLevelDeath4Category\n"
     ]
    },
    {
     "name": "stderr",
     "output_type": "stream",
     "text": [
      "\r",
      " 88%|████████▊ | 294/336 [01:02<00:09,  4.38it/s]"
     ]
    },
    {
     "name": "stdout",
     "output_type": "stream",
     "text": [
      "_corr_coeff: to eval: x: 04-12:dischargeNeuroExamMoro y: 20-10_1:disabilityLevelDeath valid_x: 485 valid_y: 498\n",
      "_corr_coeff: done: x: 04-12:dischargeNeuroExamMoro y: 20-10_1:disabilityLevelDeath\n",
      "_corr_coeff: to eval: x: 04-12:dischargeNeuroExamMoro y: 20-04:BayleyIIICognitiveComposite valid_x: 485 valid_y: 421\n",
      "_corr_coeff: done: x: 04-12:dischargeNeuroExamMoro y: 20-04:BayleyIIICognitiveComposite\n",
      "_corr_coeff: to eval: x: 04-12:dischargeNeuroExamMoro y: 20-04:BayleyIIILanguageComposite valid_x: 485 valid_y: 411\n",
      "_corr_coeff: done: x: 04-12:dischargeNeuroExamMoro y: 20-04:BayleyIIILanguageComposite\n",
      "_corr_coeff: to eval: x: 04-12:dischargeNeuroExamMoro y: 20-04:BayleyIIIMotorComposite valid_x: 485 valid_y: 415\n",
      "_corr_coeff: done: x: 04-12:dischargeNeuroExamMoro y: 20-04:BayleyIIIMotorComposite\n",
      "_corr_coeff: to eval: x: 04-12:dischargeNeuroExamPupils y: 20-10:moderateSevereDisabilityOrDeath valid_x: 484 valid_y: 504\n",
      "_corr_coeff: done: x: 04-12:dischargeNeuroExamPupils y: 20-10:moderateSevereDisabilityOrDeath\n"
     ]
    },
    {
     "name": "stderr",
     "output_type": "stream",
     "text": [
      "\r",
      " 88%|████████▊ | 295/336 [01:03<00:09,  4.24it/s]"
     ]
    },
    {
     "name": "stdout",
     "output_type": "stream",
     "text": [
      "_corr_coeff: to eval: x: 04-12:dischargeNeuroExamPupils y: 20-10:disabilityLevelDeath4Category valid_x: 484 valid_y: 498\n",
      "_corr_coeff: done: x: 04-12:dischargeNeuroExamPupils y: 20-10:disabilityLevelDeath4Category\n",
      "_corr_coeff: to eval: x: 04-12:dischargeNeuroExamPupils y: 20-10_1:disabilityLevelDeath valid_x: 484 valid_y: 498\n",
      "_corr_coeff: done: x: 04-12:dischargeNeuroExamPupils y: 20-10_1:disabilityLevelDeath\n",
      "_corr_coeff: to eval: x: 04-12:dischargeNeuroExamPupils y: 20-04:BayleyIIICognitiveComposite valid_x: 484 valid_y: 421\n",
      "_corr_coeff: done: x: 04-12:dischargeNeuroExamPupils y: 20-04:BayleyIIICognitiveComposite\n",
      "_corr_coeff: to eval: x: 04-12:dischargeNeuroExamPupils y: 20-04:BayleyIIILanguageComposite valid_x: 484 valid_y: 411\n",
      "_corr_coeff: done: x: 04-12:dischargeNeuroExamPupils y: 20-04:BayleyIIILanguageComposite\n",
      "_corr_coeff: to eval: x: 04-12:dischargeNeuroExamPupils y: 20-04:BayleyIIIMotorComposite valid_x: 484 valid_y: 415\n",
      "_corr_coeff: done: x: 04-12:dischargeNeuroExamPupils y: 20-04:BayleyIIIMotorComposite\n",
      "_corr_coeff: to eval: x: 04-12:dischargeNeuroExamHeartRate y: 20-10:moderateSevereDisabilityOrDeath valid_x: 485 valid_y: 504\n",
      "_corr_coeff: done: x: 04-12:dischargeNeuroExamHeartRate y: 20-10:moderateSevereDisabilityOrDeath\n",
      "_corr_coeff: to eval: x: 04-12:dischargeNeuroExamHeartRate y: 20-10:disabilityLevelDeath4Category valid_x: 485 valid_y: 498\n",
      "_corr_coeff: done: x: 04-12:dischargeNeuroExamHeartRate y: 20-10:disabilityLevelDeath4Category\n"
     ]
    },
    {
     "name": "stderr",
     "output_type": "stream",
     "text": [
      "\r",
      " 88%|████████▊ | 296/336 [01:03<00:09,  4.14it/s]"
     ]
    },
    {
     "name": "stdout",
     "output_type": "stream",
     "text": [
      "_corr_coeff: to eval: x: 04-12:dischargeNeuroExamHeartRate y: 20-10_1:disabilityLevelDeath valid_x: 485 valid_y: 498\n",
      "_corr_coeff: done: x: 04-12:dischargeNeuroExamHeartRate y: 20-10_1:disabilityLevelDeath\n",
      "_corr_coeff: to eval: x: 04-12:dischargeNeuroExamHeartRate y: 20-04:BayleyIIICognitiveComposite valid_x: 485 valid_y: 421\n",
      "_corr_coeff: done: x: 04-12:dischargeNeuroExamHeartRate y: 20-04:BayleyIIICognitiveComposite\n",
      "_corr_coeff: to eval: x: 04-12:dischargeNeuroExamHeartRate y: 20-04:BayleyIIILanguageComposite valid_x: 485 valid_y: 411\n",
      "_corr_coeff: done: x: 04-12:dischargeNeuroExamHeartRate y: 20-04:BayleyIIILanguageComposite\n",
      "_corr_coeff: to eval: x: 04-12:dischargeNeuroExamHeartRate y: 20-04:BayleyIIIMotorComposite valid_x: 485 valid_y: 415\n",
      "_corr_coeff: done: x: 04-12:dischargeNeuroExamHeartRate y: 20-04:BayleyIIIMotorComposite\n",
      "_corr_coeff: to eval: x: 04-12:dischargeNeuroExamRespiration y: 20-10:moderateSevereDisabilityOrDeath valid_x: 490 valid_y: 504\n",
      "_corr_coeff: done: x: 04-12:dischargeNeuroExamRespiration y: 20-10:moderateSevereDisabilityOrDeath\n"
     ]
    },
    {
     "name": "stderr",
     "output_type": "stream",
     "text": [
      "\r",
      " 88%|████████▊ | 297/336 [01:03<00:08,  4.34it/s]"
     ]
    },
    {
     "name": "stdout",
     "output_type": "stream",
     "text": [
      "_corr_coeff: to eval: x: 04-12:dischargeNeuroExamRespiration y: 20-10:disabilityLevelDeath4Category valid_x: 490 valid_y: 498\n",
      "_corr_coeff: done: x: 04-12:dischargeNeuroExamRespiration y: 20-10:disabilityLevelDeath4Category\n",
      "_corr_coeff: to eval: x: 04-12:dischargeNeuroExamRespiration y: 20-10_1:disabilityLevelDeath valid_x: 490 valid_y: 498\n",
      "_corr_coeff: done: x: 04-12:dischargeNeuroExamRespiration y: 20-10_1:disabilityLevelDeath\n",
      "_corr_coeff: to eval: x: 04-12:dischargeNeuroExamRespiration y: 20-04:BayleyIIICognitiveComposite valid_x: 490 valid_y: 421\n",
      "_corr_coeff: done: x: 04-12:dischargeNeuroExamRespiration y: 20-04:BayleyIIICognitiveComposite\n",
      "_corr_coeff: to eval: x: 04-12:dischargeNeuroExamRespiration y: 20-04:BayleyIIILanguageComposite valid_x: 490 valid_y: 411\n",
      "_corr_coeff: done: x: 04-12:dischargeNeuroExamRespiration y: 20-04:BayleyIIILanguageComposite\n",
      "_corr_coeff: to eval: x: 04-12:dischargeNeuroExamRespiration y: 20-04:BayleyIIIMotorComposite valid_x: 490 valid_y: 415\n",
      "_corr_coeff: done: x: 04-12:dischargeNeuroExamRespiration y: 20-04:BayleyIIIMotorComposite\n",
      "_corr_coeff: to eval: x: 04-12:dischargeNeuroExamSeizure y: 20-10:moderateSevereDisabilityOrDeath valid_x: 487 valid_y: 504\n",
      "_corr_coeff: done: x: 04-12:dischargeNeuroExamSeizure y: 20-10:moderateSevereDisabilityOrDeath\n",
      "_corr_coeff: to eval: x: 04-12:dischargeNeuroExamSeizure y: 20-10:disabilityLevelDeath4Category valid_x: 487 valid_y: 498\n",
      "_corr_coeff: done: x: 04-12:dischargeNeuroExamSeizure y: 20-10:disabilityLevelDeath4Category\n"
     ]
    },
    {
     "name": "stderr",
     "output_type": "stream",
     "text": [
      "\r",
      " 89%|████████▊ | 298/336 [01:03<00:09,  4.21it/s]"
     ]
    },
    {
     "name": "stdout",
     "output_type": "stream",
     "text": [
      "_corr_coeff: to eval: x: 04-12:dischargeNeuroExamSeizure y: 20-10_1:disabilityLevelDeath valid_x: 487 valid_y: 498\n",
      "_corr_coeff: done: x: 04-12:dischargeNeuroExamSeizure y: 20-10_1:disabilityLevelDeath\n",
      "_corr_coeff: to eval: x: 04-12:dischargeNeuroExamSeizure y: 20-04:BayleyIIICognitiveComposite valid_x: 487 valid_y: 421\n",
      "_corr_coeff: done: x: 04-12:dischargeNeuroExamSeizure y: 20-04:BayleyIIICognitiveComposite\n",
      "_corr_coeff: to eval: x: 04-12:dischargeNeuroExamSeizure y: 20-04:BayleyIIILanguageComposite valid_x: 487 valid_y: 411\n",
      "_corr_coeff: done: x: 04-12:dischargeNeuroExamSeizure y: 20-04:BayleyIIILanguageComposite\n",
      "_corr_coeff: to eval: x: 04-12:dischargeNeuroExamSeizure y: 20-04:BayleyIIIMotorComposite valid_x: 487 valid_y: 415\n",
      "_corr_coeff: done: x: 04-12:dischargeNeuroExamSeizure y: 20-04:BayleyIIIMotorComposite\n",
      "_corr_coeff: to eval: x: 04-12:dischargeNeuroExamClonusSustained y: 20-10:moderateSevereDisabilityOrDeath valid_x: 484 valid_y: 504\n",
      "_corr_coeff: done: x: 04-12:dischargeNeuroExamClonusSustained y: 20-10:moderateSevereDisabilityOrDeath\n"
     ]
    },
    {
     "name": "stderr",
     "output_type": "stream",
     "text": [
      "\r",
      " 89%|████████▉ | 299/336 [01:04<00:08,  4.44it/s]"
     ]
    },
    {
     "name": "stdout",
     "output_type": "stream",
     "text": [
      "_corr_coeff: to eval: x: 04-12:dischargeNeuroExamClonusSustained y: 20-10:disabilityLevelDeath4Category valid_x: 484 valid_y: 498\n",
      "_corr_coeff: done: x: 04-12:dischargeNeuroExamClonusSustained y: 20-10:disabilityLevelDeath4Category\n",
      "_corr_coeff: to eval: x: 04-12:dischargeNeuroExamClonusSustained y: 20-10_1:disabilityLevelDeath valid_x: 484 valid_y: 498\n",
      "_corr_coeff: done: x: 04-12:dischargeNeuroExamClonusSustained y: 20-10_1:disabilityLevelDeath\n",
      "_corr_coeff: to eval: x: 04-12:dischargeNeuroExamClonusSustained y: 20-04:BayleyIIICognitiveComposite valid_x: 484 valid_y: 421\n",
      "_corr_coeff: done: x: 04-12:dischargeNeuroExamClonusSustained y: 20-04:BayleyIIICognitiveComposite\n",
      "_corr_coeff: to eval: x: 04-12:dischargeNeuroExamClonusSustained y: 20-04:BayleyIIILanguageComposite valid_x: 484 valid_y: 411\n",
      "_corr_coeff: done: x: 04-12:dischargeNeuroExamClonusSustained y: 20-04:BayleyIIILanguageComposite\n",
      "_corr_coeff: to eval: x: 04-12:dischargeNeuroExamClonusSustained y: 20-04:BayleyIIIMotorComposite valid_x: 484 valid_y: 415\n",
      "_corr_coeff: done: x: 04-12:dischargeNeuroExamClonusSustained y: 20-04:BayleyIIIMotorComposite\n",
      "_corr_coeff: to eval: x: 04-12:dischargeNeuroExamFistedHand y: 20-10:moderateSevereDisabilityOrDeath valid_x: 485 valid_y: 504\n",
      "_corr_coeff: done: x: 04-12:dischargeNeuroExamFistedHand y: 20-10:moderateSevereDisabilityOrDeath\n",
      "_corr_coeff: to eval: x: 04-12:dischargeNeuroExamFistedHand y: 20-10:disabilityLevelDeath4Category valid_x: 485 valid_y: 498\n",
      "_corr_coeff: done: x: 04-12:dischargeNeuroExamFistedHand y: 20-10:disabilityLevelDeath4Category\n"
     ]
    },
    {
     "name": "stderr",
     "output_type": "stream",
     "text": [
      "\r",
      " 89%|████████▉ | 300/336 [01:04<00:07,  4.61it/s]"
     ]
    },
    {
     "name": "stdout",
     "output_type": "stream",
     "text": [
      "_corr_coeff: to eval: x: 04-12:dischargeNeuroExamFistedHand y: 20-10_1:disabilityLevelDeath valid_x: 485 valid_y: 498\n",
      "_corr_coeff: done: x: 04-12:dischargeNeuroExamFistedHand y: 20-10_1:disabilityLevelDeath\n",
      "_corr_coeff: to eval: x: 04-12:dischargeNeuroExamFistedHand y: 20-04:BayleyIIICognitiveComposite valid_x: 485 valid_y: 421\n",
      "_corr_coeff: done: x: 04-12:dischargeNeuroExamFistedHand y: 20-04:BayleyIIICognitiveComposite\n",
      "_corr_coeff: to eval: x: 04-12:dischargeNeuroExamFistedHand y: 20-04:BayleyIIILanguageComposite valid_x: 485 valid_y: 411\n",
      "_corr_coeff: done: x: 04-12:dischargeNeuroExamFistedHand y: 20-04:BayleyIIILanguageComposite\n",
      "_corr_coeff: to eval: x: 04-12:dischargeNeuroExamFistedHand y: 20-04:BayleyIIIMotorComposite valid_x: 485 valid_y: 415\n",
      "_corr_coeff: done: x: 04-12:dischargeNeuroExamFistedHand y: 20-04:BayleyIIIMotorComposite\n",
      "_corr_coeff: to eval: x: 04-12:dischargeNeuroExamAbnormalMovement y: 20-10:moderateSevereDisabilityOrDeath valid_x: 487 valid_y: 504\n",
      "_corr_coeff: done: x: 04-12:dischargeNeuroExamAbnormalMovement y: 20-10:moderateSevereDisabilityOrDeath\n",
      "_corr_coeff: to eval: x: 04-12:dischargeNeuroExamAbnormalMovement y: 20-10:disabilityLevelDeath4Category valid_x: 487 valid_y: 498\n",
      "_corr_coeff: done: x: 04-12:dischargeNeuroExamAbnormalMovement y: 20-10:disabilityLevelDeath4Category\n",
      "_corr_coeff: to eval: x: 04-12:dischargeNeuroExamAbnormalMovement y: 20-10_1:disabilityLevelDeath valid_x: 487 valid_y: 498\n",
      "_corr_coeff: done: x: 04-12:dischargeNeuroExamAbnormalMovement y: 20-10_1:disabilityLevelDeath\n"
     ]
    },
    {
     "name": "stderr",
     "output_type": "stream",
     "text": [
      "\r",
      " 90%|████████▉ | 301/336 [01:04<00:07,  4.73it/s]"
     ]
    },
    {
     "name": "stdout",
     "output_type": "stream",
     "text": [
      "_corr_coeff: to eval: x: 04-12:dischargeNeuroExamAbnormalMovement y: 20-04:BayleyIIICognitiveComposite valid_x: 487 valid_y: 421\n",
      "_corr_coeff: done: x: 04-12:dischargeNeuroExamAbnormalMovement y: 20-04:BayleyIIICognitiveComposite\n",
      "_corr_coeff: to eval: x: 04-12:dischargeNeuroExamAbnormalMovement y: 20-04:BayleyIIILanguageComposite valid_x: 487 valid_y: 411\n",
      "_corr_coeff: done: x: 04-12:dischargeNeuroExamAbnormalMovement y: 20-04:BayleyIIILanguageComposite\n",
      "_corr_coeff: to eval: x: 04-12:dischargeNeuroExamAbnormalMovement y: 20-04:BayleyIIIMotorComposite valid_x: 487 valid_y: 415\n",
      "_corr_coeff: done: x: 04-12:dischargeNeuroExamAbnormalMovement y: 20-04:BayleyIIIMotorComposite\n",
      "_corr_coeff: to eval: x: 04-12:dischargeNeuroExamGagReflexAbsent y: 20-10:moderateSevereDisabilityOrDeath valid_x: 486 valid_y: 504\n",
      "_corr_coeff: done: x: 04-12:dischargeNeuroExamGagReflexAbsent y: 20-10:moderateSevereDisabilityOrDeath\n",
      "_corr_coeff: to eval: x: 04-12:dischargeNeuroExamGagReflexAbsent y: 20-10:disabilityLevelDeath4Category valid_x: 486 valid_y: 498\n",
      "_corr_coeff: done: x: 04-12:dischargeNeuroExamGagReflexAbsent y: 20-10:disabilityLevelDeath4Category\n",
      "_corr_coeff: to eval: x: 04-12:dischargeNeuroExamGagReflexAbsent y: 20-10_1:disabilityLevelDeath valid_x: 486 valid_y: 498\n",
      "_corr_coeff: done: x: 04-12:dischargeNeuroExamGagReflexAbsent y: 20-10_1:disabilityLevelDeath\n",
      "_corr_coeff: to eval: x: 04-12:dischargeNeuroExamGagReflexAbsent y: 20-04:BayleyIIICognitiveComposite valid_x: 486 valid_y: 421\n",
      "_corr_coeff: done: x: 04-12:dischargeNeuroExamGagReflexAbsent y: 20-04:BayleyIIICognitiveComposite\n"
     ]
    },
    {
     "name": "stderr",
     "output_type": "stream",
     "text": [
      "\r",
      " 90%|████████▉ | 302/336 [01:04<00:07,  4.83it/s]"
     ]
    },
    {
     "name": "stdout",
     "output_type": "stream",
     "text": [
      "_corr_coeff: to eval: x: 04-12:dischargeNeuroExamGagReflexAbsent y: 20-04:BayleyIIILanguageComposite valid_x: 486 valid_y: 411\n",
      "_corr_coeff: done: x: 04-12:dischargeNeuroExamGagReflexAbsent y: 20-04:BayleyIIILanguageComposite\n",
      "_corr_coeff: to eval: x: 04-12:dischargeNeuroExamGagReflexAbsent y: 20-04:BayleyIIIMotorComposite valid_x: 486 valid_y: 415\n",
      "_corr_coeff: done: x: 04-12:dischargeNeuroExamGagReflexAbsent y: 20-04:BayleyIIIMotorComposite\n",
      "_corr_coeff: to eval: x: 04-12:dischargeNeuroExamSedate y: 20-10:moderateSevereDisabilityOrDeath valid_x: 333 valid_y: 504\n",
      "_corr_coeff: done: x: 04-12:dischargeNeuroExamSedate y: 20-10:moderateSevereDisabilityOrDeath\n",
      "_corr_coeff: to eval: x: 04-12:dischargeNeuroExamSedate y: 20-10:disabilityLevelDeath4Category valid_x: 333 valid_y: 498\n",
      "_corr_coeff: done: x: 04-12:dischargeNeuroExamSedate y: 20-10:disabilityLevelDeath4Category\n",
      "_corr_coeff: to eval: x: 04-12:dischargeNeuroExamSedate y: 20-10_1:disabilityLevelDeath valid_x: 333 valid_y: 498\n",
      "_corr_coeff: done: x: 04-12:dischargeNeuroExamSedate y: 20-10_1:disabilityLevelDeath\n",
      "_corr_coeff: to eval: x: 04-12:dischargeNeuroExamSedate y: 20-04:BayleyIIICognitiveComposite valid_x: 333 valid_y: 421\n",
      "_corr_coeff: done: x: 04-12:dischargeNeuroExamSedate y: 20-04:BayleyIIICognitiveComposite\n",
      "_corr_coeff: to eval: x: 04-12:dischargeNeuroExamSedate y: 20-04:BayleyIIILanguageComposite valid_x: 333 valid_y: 411\n",
      "_corr_coeff: done: x: 04-12:dischargeNeuroExamSedate y: 20-04:BayleyIIILanguageComposite\n"
     ]
    },
    {
     "name": "stderr",
     "output_type": "stream",
     "text": [
      "\r",
      " 90%|█████████ | 303/336 [01:04<00:06,  5.03it/s]"
     ]
    },
    {
     "name": "stderr",
     "output_type": "stream",
     "text": [
      "\r",
      " 90%|█████████ | 304/336 [01:05<00:05,  5.34it/s]"
     ]
    },
    {
     "name": "stdout",
     "output_type": "stream",
     "text": [
      "_corr_coeff: to eval: x: 04-12:dischargeNeuroExamSedate y: 20-04:BayleyIIIMotorComposite valid_x: 333 valid_y: 415\n",
      "_corr_coeff: done: x: 04-12:dischargeNeuroExamSedate y: 20-04:BayleyIIIMotorComposite\n",
      "_corr_coeff: to eval: x: 04-12:dischargeNeuroExamHypertonia y: 20-10:moderateSevereDisabilityOrDeath valid_x: 157 valid_y: 504\n",
      "_corr_coeff: done: x: 04-12:dischargeNeuroExamHypertonia y: 20-10:moderateSevereDisabilityOrDeath\n",
      "_corr_coeff: to eval: x: 04-12:dischargeNeuroExamHypertonia y: 20-10:disabilityLevelDeath4Category valid_x: 157 valid_y: 498\n",
      "_corr_coeff: done: x: 04-12:dischargeNeuroExamHypertonia y: 20-10:disabilityLevelDeath4Category\n",
      "_corr_coeff: to eval: x: 04-12:dischargeNeuroExamHypertonia y: 20-10_1:disabilityLevelDeath valid_x: 157 valid_y: 498\n",
      "_corr_coeff: done: x: 04-12:dischargeNeuroExamHypertonia y: 20-10_1:disabilityLevelDeath\n",
      "_corr_coeff: to eval: x: 04-12:dischargeNeuroExamHypertonia y: 20-04:BayleyIIICognitiveComposite valid_x: 157 valid_y: 421\n",
      "_corr_coeff: done: x: 04-12:dischargeNeuroExamHypertonia y: 20-04:BayleyIIICognitiveComposite\n",
      "_corr_coeff: to eval: x: 04-12:dischargeNeuroExamHypertonia y: 20-04:BayleyIIILanguageComposite valid_x: 157 valid_y: 411\n",
      "_corr_coeff: done: x: 04-12:dischargeNeuroExamHypertonia y: 20-04:BayleyIIILanguageComposite\n",
      "_corr_coeff: to eval: x: 04-12:dischargeNeuroExamHypertonia y: 20-04:BayleyIIIMotorComposite valid_x: 157 valid_y: 415\n",
      "_corr_coeff: done: x: 04-12:dischargeNeuroExamHypertonia y: 20-04:BayleyIIIMotorComposite\n"
     ]
    },
    {
     "name": "stderr",
     "output_type": "stream",
     "text": [
      "\r",
      " 91%|█████████ | 305/336 [01:05<00:06,  5.03it/s]"
     ]
    },
    {
     "name": "stdout",
     "output_type": "stream",
     "text": [
      "_corr_coeff: to eval: x: 04-12:dischargeNeuroExamAsymTonicNeckReflex y: 20-10:moderateSevereDisabilityOrDeath valid_x: 309 valid_y: 504\n",
      "_corr_coeff: done: x: 04-12:dischargeNeuroExamAsymTonicNeckReflex y: 20-10:moderateSevereDisabilityOrDeath\n",
      "_corr_coeff: to eval: x: 04-12:dischargeNeuroExamAsymTonicNeckReflex y: 20-10:disabilityLevelDeath4Category valid_x: 309 valid_y: 498\n",
      "_corr_coeff: done: x: 04-12:dischargeNeuroExamAsymTonicNeckReflex y: 20-10:disabilityLevelDeath4Category\n",
      "_corr_coeff: to eval: x: 04-12:dischargeNeuroExamAsymTonicNeckReflex y: 20-10_1:disabilityLevelDeath valid_x: 309 valid_y: 498\n",
      "_corr_coeff: done: x: 04-12:dischargeNeuroExamAsymTonicNeckReflex y: 20-10_1:disabilityLevelDeath\n",
      "_corr_coeff: to eval: x: 04-12:dischargeNeuroExamAsymTonicNeckReflex y: 20-04:BayleyIIICognitiveComposite valid_x: 309 valid_y: 421\n",
      "_corr_coeff: done: x: 04-12:dischargeNeuroExamAsymTonicNeckReflex y: 20-04:BayleyIIICognitiveComposite\n",
      "_corr_coeff: to eval: x: 04-12:dischargeNeuroExamAsymTonicNeckReflex y: 20-04:BayleyIIILanguageComposite valid_x: 309 valid_y: 411\n",
      "_corr_coeff: done: x: 04-12:dischargeNeuroExamAsymTonicNeckReflex y: 20-04:BayleyIIILanguageComposite\n",
      "_corr_coeff: to eval: x: 04-12:dischargeNeuroExamAsymTonicNeckReflex y: 20-04:BayleyIIIMotorComposite valid_x: 309 valid_y: 415\n",
      "_corr_coeff: done: x: 04-12:dischargeNeuroExamAsymTonicNeckReflex y: 20-04:BayleyIIIMotorComposite\n",
      "_corr_coeff: to eval: x: 04-12_1:dischargeNeuroExamLevelConsciousnessScore y: 20-10:moderateSevereDisabilityOrDeath valid_x: 490 valid_y: 504\n",
      "_corr_coeff: done: x: 04-12_1:dischargeNeuroExamLevelConsciousnessScore y: 20-10:moderateSevereDisabilityOrDeath\n"
     ]
    },
    {
     "name": "stderr",
     "output_type": "stream",
     "text": [
      "\r",
      " 91%|█████████ | 306/336 [01:05<00:05,  5.05it/s]"
     ]
    },
    {
     "name": "stdout",
     "output_type": "stream",
     "text": [
      "_corr_coeff: to eval: x: 04-12_1:dischargeNeuroExamLevelConsciousnessScore y: 20-10:disabilityLevelDeath4Category valid_x: 490 valid_y: 498\n",
      "_corr_coeff: done: x: 04-12_1:dischargeNeuroExamLevelConsciousnessScore y: 20-10:disabilityLevelDeath4Category\n",
      "_corr_coeff: to eval: x: 04-12_1:dischargeNeuroExamLevelConsciousnessScore y: 20-10_1:disabilityLevelDeath valid_x: 490 valid_y: 498\n",
      "_corr_coeff: done: x: 04-12_1:dischargeNeuroExamLevelConsciousnessScore y: 20-10_1:disabilityLevelDeath\n",
      "_corr_coeff: to eval: x: 04-12_1:dischargeNeuroExamLevelConsciousnessScore y: 20-04:BayleyIIICognitiveComposite valid_x: 490 valid_y: 421\n",
      "_corr_coeff: done: x: 04-12_1:dischargeNeuroExamLevelConsciousnessScore y: 20-04:BayleyIIICognitiveComposite\n",
      "_corr_coeff: to eval: x: 04-12_1:dischargeNeuroExamLevelConsciousnessScore y: 20-04:BayleyIIILanguageComposite valid_x: 490 valid_y: 411\n",
      "_corr_coeff: done: x: 04-12_1:dischargeNeuroExamLevelConsciousnessScore y: 20-04:BayleyIIILanguageComposite\n",
      "_corr_coeff: to eval: x: 04-12_1:dischargeNeuroExamLevelConsciousnessScore y: 20-04:BayleyIIIMotorComposite valid_x: 490 valid_y: 415\n",
      "_corr_coeff: done: x: 04-12_1:dischargeNeuroExamLevelConsciousnessScore y: 20-04:BayleyIIIMotorComposite\n",
      "_corr_coeff: to eval: x: 04-12_1:dischargeNeuroExamSpontaneousActivityScore y: 20-10:moderateSevereDisabilityOrDeath valid_x: 490 valid_y: 504\n",
      "_corr_coeff: done: x: 04-12_1:dischargeNeuroExamSpontaneousActivityScore y: 20-10:moderateSevereDisabilityOrDeath\n",
      "_corr_coeff: to eval: x: 04-12_1:dischargeNeuroExamSpontaneousActivityScore y: 20-10:disabilityLevelDeath4Category valid_x: 490 valid_y: 498\n",
      "_corr_coeff: done: x: 04-12_1:dischargeNeuroExamSpontaneousActivityScore y: 20-10:disabilityLevelDeath4Category\n"
     ]
    },
    {
     "name": "stderr",
     "output_type": "stream",
     "text": [
      "\r",
      " 91%|█████████▏| 307/336 [01:05<00:05,  5.05it/s]"
     ]
    },
    {
     "name": "stdout",
     "output_type": "stream",
     "text": [
      "_corr_coeff: to eval: x: 04-12_1:dischargeNeuroExamSpontaneousActivityScore y: 20-10_1:disabilityLevelDeath valid_x: 490 valid_y: 498\n",
      "_corr_coeff: done: x: 04-12_1:dischargeNeuroExamSpontaneousActivityScore y: 20-10_1:disabilityLevelDeath\n",
      "_corr_coeff: to eval: x: 04-12_1:dischargeNeuroExamSpontaneousActivityScore y: 20-04:BayleyIIICognitiveComposite valid_x: 490 valid_y: 421\n",
      "_corr_coeff: done: x: 04-12_1:dischargeNeuroExamSpontaneousActivityScore y: 20-04:BayleyIIICognitiveComposite\n",
      "_corr_coeff: to eval: x: 04-12_1:dischargeNeuroExamSpontaneousActivityScore y: 20-04:BayleyIIILanguageComposite valid_x: 490 valid_y: 411\n",
      "_corr_coeff: done: x: 04-12_1:dischargeNeuroExamSpontaneousActivityScore y: 20-04:BayleyIIILanguageComposite\n",
      "_corr_coeff: to eval: x: 04-12_1:dischargeNeuroExamSpontaneousActivityScore y: 20-04:BayleyIIIMotorComposite valid_x: 490 valid_y: 415\n",
      "_corr_coeff: done: x: 04-12_1:dischargeNeuroExamSpontaneousActivityScore y: 20-04:BayleyIIIMotorComposite\n",
      "_corr_coeff: to eval: x: 04-12_1:dischargeNeuroExamPostureScore y: 20-10:moderateSevereDisabilityOrDeath valid_x: 490 valid_y: 504\n",
      "_corr_coeff: done: x: 04-12_1:dischargeNeuroExamPostureScore y: 20-10:moderateSevereDisabilityOrDeath\n"
     ]
    },
    {
     "name": "stderr",
     "output_type": "stream",
     "text": [
      "\r",
      " 92%|█████████▏| 308/336 [01:05<00:05,  4.67it/s]"
     ]
    },
    {
     "name": "stdout",
     "output_type": "stream",
     "text": [
      "_corr_coeff: to eval: x: 04-12_1:dischargeNeuroExamPostureScore y: 20-10:disabilityLevelDeath4Category valid_x: 490 valid_y: 498\n",
      "_corr_coeff: done: x: 04-12_1:dischargeNeuroExamPostureScore y: 20-10:disabilityLevelDeath4Category\n",
      "_corr_coeff: to eval: x: 04-12_1:dischargeNeuroExamPostureScore y: 20-10_1:disabilityLevelDeath valid_x: 490 valid_y: 498\n",
      "_corr_coeff: done: x: 04-12_1:dischargeNeuroExamPostureScore y: 20-10_1:disabilityLevelDeath\n",
      "_corr_coeff: to eval: x: 04-12_1:dischargeNeuroExamPostureScore y: 20-04:BayleyIIICognitiveComposite valid_x: 490 valid_y: 421\n",
      "_corr_coeff: done: x: 04-12_1:dischargeNeuroExamPostureScore y: 20-04:BayleyIIICognitiveComposite\n",
      "_corr_coeff: to eval: x: 04-12_1:dischargeNeuroExamPostureScore y: 20-04:BayleyIIILanguageComposite valid_x: 490 valid_y: 411\n",
      "_corr_coeff: done: x: 04-12_1:dischargeNeuroExamPostureScore y: 20-04:BayleyIIILanguageComposite\n",
      "_corr_coeff: to eval: x: 04-12_1:dischargeNeuroExamPostureScore y: 20-04:BayleyIIIMotorComposite valid_x: 490 valid_y: 415\n",
      "_corr_coeff: done: x: 04-12_1:dischargeNeuroExamPostureScore y: 20-04:BayleyIIIMotorComposite\n",
      "_corr_coeff: to eval: x: 04-12_1:dischargeNeuroExamToneScore y: 20-10:moderateSevereDisabilityOrDeath valid_x: 490 valid_y: 504\n",
      "_corr_coeff: done: x: 04-12_1:dischargeNeuroExamToneScore y: 20-10:moderateSevereDisabilityOrDeath\n",
      "_corr_coeff: to eval: x: 04-12_1:dischargeNeuroExamToneScore y: 20-10:disabilityLevelDeath4Category valid_x: 490 valid_y: 498\n",
      "_corr_coeff: done: x: 04-12_1:dischargeNeuroExamToneScore y: 20-10:disabilityLevelDeath4Category\n"
     ]
    },
    {
     "name": "stderr",
     "output_type": "stream",
     "text": [
      "\r",
      " 92%|█████████▏| 309/336 [01:06<00:05,  4.80it/s]"
     ]
    },
    {
     "name": "stdout",
     "output_type": "stream",
     "text": [
      "_corr_coeff: to eval: x: 04-12_1:dischargeNeuroExamToneScore y: 20-10_1:disabilityLevelDeath valid_x: 490 valid_y: 498\n",
      "_corr_coeff: done: x: 04-12_1:dischargeNeuroExamToneScore y: 20-10_1:disabilityLevelDeath\n",
      "_corr_coeff: to eval: x: 04-12_1:dischargeNeuroExamToneScore y: 20-04:BayleyIIICognitiveComposite valid_x: 490 valid_y: 421\n",
      "_corr_coeff: done: x: 04-12_1:dischargeNeuroExamToneScore y: 20-04:BayleyIIICognitiveComposite\n",
      "_corr_coeff: to eval: x: 04-12_1:dischargeNeuroExamToneScore y: 20-04:BayleyIIILanguageComposite valid_x: 490 valid_y: 411\n",
      "_corr_coeff: done: x: 04-12_1:dischargeNeuroExamToneScore y: 20-04:BayleyIIILanguageComposite\n",
      "_corr_coeff: to eval: x: 04-12_1:dischargeNeuroExamToneScore y: 20-04:BayleyIIIMotorComposite valid_x: 490 valid_y: 415\n",
      "_corr_coeff: done: x: 04-12_1:dischargeNeuroExamToneScore y: 20-04:BayleyIIIMotorComposite\n",
      "_corr_coeff: to eval: x: 04-12_1:dischargeNeuroExamSuckScore y: 20-10:moderateSevereDisabilityOrDeath valid_x: 490 valid_y: 504\n",
      "_corr_coeff: done: x: 04-12_1:dischargeNeuroExamSuckScore y: 20-10:moderateSevereDisabilityOrDeath\n",
      "_corr_coeff: to eval: x: 04-12_1:dischargeNeuroExamSuckScore y: 20-10:disabilityLevelDeath4Category valid_x: 490 valid_y: 498\n",
      "_corr_coeff: done: x: 04-12_1:dischargeNeuroExamSuckScore y: 20-10:disabilityLevelDeath4Category\n"
     ]
    },
    {
     "name": "stderr",
     "output_type": "stream",
     "text": [
      "\r",
      " 92%|█████████▏| 310/336 [01:06<00:05,  4.51it/s]"
     ]
    },
    {
     "name": "stdout",
     "output_type": "stream",
     "text": [
      "_corr_coeff: to eval: x: 04-12_1:dischargeNeuroExamSuckScore y: 20-10_1:disabilityLevelDeath valid_x: 490 valid_y: 498\n",
      "_corr_coeff: done: x: 04-12_1:dischargeNeuroExamSuckScore y: 20-10_1:disabilityLevelDeath\n",
      "_corr_coeff: to eval: x: 04-12_1:dischargeNeuroExamSuckScore y: 20-04:BayleyIIICognitiveComposite valid_x: 490 valid_y: 421\n",
      "_corr_coeff: done: x: 04-12_1:dischargeNeuroExamSuckScore y: 20-04:BayleyIIICognitiveComposite\n",
      "_corr_coeff: to eval: x: 04-12_1:dischargeNeuroExamSuckScore y: 20-04:BayleyIIILanguageComposite valid_x: 490 valid_y: 411\n",
      "_corr_coeff: done: x: 04-12_1:dischargeNeuroExamSuckScore y: 20-04:BayleyIIILanguageComposite\n",
      "_corr_coeff: to eval: x: 04-12_1:dischargeNeuroExamSuckScore y: 20-04:BayleyIIIMotorComposite valid_x: 490 valid_y: 415\n",
      "_corr_coeff: done: x: 04-12_1:dischargeNeuroExamSuckScore y: 20-04:BayleyIIIMotorComposite\n",
      "_corr_coeff: to eval: x: 04-12_1:dischargeNeuroExamMoroScore y: 20-10:moderateSevereDisabilityOrDeath valid_x: 490 valid_y: 504\n",
      "_corr_coeff: done: x: 04-12_1:dischargeNeuroExamMoroScore y: 20-10:moderateSevereDisabilityOrDeath\n",
      "_corr_coeff: to eval: x: 04-12_1:dischargeNeuroExamMoroScore y: 20-10:disabilityLevelDeath4Category valid_x: 490 valid_y: 498\n",
      "_corr_coeff: done: x: 04-12_1:dischargeNeuroExamMoroScore y: 20-10:disabilityLevelDeath4Category\n",
      "_corr_coeff: to eval: x: 04-12_1:dischargeNeuroExamMoroScore y: 20-10_1:disabilityLevelDeath valid_x: 490 valid_y: 498\n",
      "_corr_coeff: done: x: 04-12_1:dischargeNeuroExamMoroScore y: 20-10_1:disabilityLevelDeath\n"
     ]
    },
    {
     "name": "stderr",
     "output_type": "stream",
     "text": [
      "\r",
      " 93%|█████████▎| 311/336 [01:06<00:05,  4.67it/s]"
     ]
    },
    {
     "name": "stdout",
     "output_type": "stream",
     "text": [
      "_corr_coeff: to eval: x: 04-12_1:dischargeNeuroExamMoroScore y: 20-04:BayleyIIICognitiveComposite valid_x: 490 valid_y: 421\n",
      "_corr_coeff: done: x: 04-12_1:dischargeNeuroExamMoroScore y: 20-04:BayleyIIICognitiveComposite\n",
      "_corr_coeff: to eval: x: 04-12_1:dischargeNeuroExamMoroScore y: 20-04:BayleyIIILanguageComposite valid_x: 490 valid_y: 411\n",
      "_corr_coeff: done: x: 04-12_1:dischargeNeuroExamMoroScore y: 20-04:BayleyIIILanguageComposite\n",
      "_corr_coeff: to eval: x: 04-12_1:dischargeNeuroExamMoroScore y: 20-04:BayleyIIIMotorComposite valid_x: 490 valid_y: 415\n",
      "_corr_coeff: done: x: 04-12_1:dischargeNeuroExamMoroScore y: 20-04:BayleyIIIMotorComposite\n",
      "_corr_coeff: to eval: x: 04-12_1:dischargeNeuroExamPupilsScore y: 20-10:moderateSevereDisabilityOrDeath valid_x: 490 valid_y: 504\n",
      "_corr_coeff: done: x: 04-12_1:dischargeNeuroExamPupilsScore y: 20-10:moderateSevereDisabilityOrDeath\n",
      "_corr_coeff: to eval: x: 04-12_1:dischargeNeuroExamPupilsScore y: 20-10:disabilityLevelDeath4Category valid_x: 490 valid_y: 498\n",
      "_corr_coeff: done: x: 04-12_1:dischargeNeuroExamPupilsScore y: 20-10:disabilityLevelDeath4Category\n"
     ]
    },
    {
     "name": "stderr",
     "output_type": "stream",
     "text": [
      "\r",
      " 93%|█████████▎| 312/336 [01:06<00:05,  4.45it/s]"
     ]
    },
    {
     "name": "stdout",
     "output_type": "stream",
     "text": [
      "_corr_coeff: to eval: x: 04-12_1:dischargeNeuroExamPupilsScore y: 20-10_1:disabilityLevelDeath valid_x: 490 valid_y: 498\n",
      "_corr_coeff: done: x: 04-12_1:dischargeNeuroExamPupilsScore y: 20-10_1:disabilityLevelDeath\n",
      "_corr_coeff: to eval: x: 04-12_1:dischargeNeuroExamPupilsScore y: 20-04:BayleyIIICognitiveComposite valid_x: 490 valid_y: 421\n",
      "_corr_coeff: done: x: 04-12_1:dischargeNeuroExamPupilsScore y: 20-04:BayleyIIICognitiveComposite\n",
      "_corr_coeff: to eval: x: 04-12_1:dischargeNeuroExamPupilsScore y: 20-04:BayleyIIILanguageComposite valid_x: 490 valid_y: 411\n",
      "_corr_coeff: done: x: 04-12_1:dischargeNeuroExamPupilsScore y: 20-04:BayleyIIILanguageComposite\n",
      "_corr_coeff: to eval: x: 04-12_1:dischargeNeuroExamPupilsScore y: 20-04:BayleyIIIMotorComposite valid_x: 490 valid_y: 415\n",
      "_corr_coeff: done: x: 04-12_1:dischargeNeuroExamPupilsScore y: 20-04:BayleyIIIMotorComposite\n",
      "_corr_coeff: to eval: x: 04-12_1:dischargeNeuroExamHeartRateScore y: 20-10:moderateSevereDisabilityOrDeath valid_x: 490 valid_y: 504\n",
      "_corr_coeff: done: x: 04-12_1:dischargeNeuroExamHeartRateScore y: 20-10:moderateSevereDisabilityOrDeath\n",
      "_corr_coeff: to eval: x: 04-12_1:dischargeNeuroExamHeartRateScore y: 20-10:disabilityLevelDeath4Category valid_x: 490 valid_y: 498\n",
      "_corr_coeff: done: x: 04-12_1:dischargeNeuroExamHeartRateScore y: 20-10:disabilityLevelDeath4Category\n",
      "_corr_coeff: to eval: x: 04-12_1:dischargeNeuroExamHeartRateScore y: 20-10_1:disabilityLevelDeath valid_x: 490 valid_y: 498\n",
      "_corr_coeff: done: x: 04-12_1:dischargeNeuroExamHeartRateScore y: 20-10_1:disabilityLevelDeath\n"
     ]
    },
    {
     "name": "stderr",
     "output_type": "stream",
     "text": [
      "\r",
      " 93%|█████████▎| 313/336 [01:06<00:05,  4.60it/s]"
     ]
    },
    {
     "name": "stdout",
     "output_type": "stream",
     "text": [
      "_corr_coeff: to eval: x: 04-12_1:dischargeNeuroExamHeartRateScore y: 20-04:BayleyIIICognitiveComposite valid_x: 490 valid_y: 421\n",
      "_corr_coeff: done: x: 04-12_1:dischargeNeuroExamHeartRateScore y: 20-04:BayleyIIICognitiveComposite\n",
      "_corr_coeff: to eval: x: 04-12_1:dischargeNeuroExamHeartRateScore y: 20-04:BayleyIIILanguageComposite valid_x: 490 valid_y: 411\n",
      "_corr_coeff: done: x: 04-12_1:dischargeNeuroExamHeartRateScore y: 20-04:BayleyIIILanguageComposite\n",
      "_corr_coeff: to eval: x: 04-12_1:dischargeNeuroExamHeartRateScore y: 20-04:BayleyIIIMotorComposite valid_x: 490 valid_y: 415\n",
      "_corr_coeff: done: x: 04-12_1:dischargeNeuroExamHeartRateScore y: 20-04:BayleyIIIMotorComposite\n",
      "_corr_coeff: to eval: x: 04-12_1:dischargeNeuroExamRespirationScore y: 20-10:moderateSevereDisabilityOrDeath valid_x: 490 valid_y: 504\n",
      "_corr_coeff: done: x: 04-12_1:dischargeNeuroExamRespirationScore y: 20-10:moderateSevereDisabilityOrDeath\n",
      "_corr_coeff: to eval: x: 04-12_1:dischargeNeuroExamRespirationScore y: 20-10:disabilityLevelDeath4Category valid_x: 490 valid_y: 498\n",
      "_corr_coeff: done: x: 04-12_1:dischargeNeuroExamRespirationScore y: 20-10:disabilityLevelDeath4Category\n"
     ]
    },
    {
     "name": "stderr",
     "output_type": "stream",
     "text": [
      "\r",
      " 93%|█████████▎| 314/336 [01:07<00:05,  4.39it/s]"
     ]
    },
    {
     "name": "stdout",
     "output_type": "stream",
     "text": [
      "_corr_coeff: to eval: x: 04-12_1:dischargeNeuroExamRespirationScore y: 20-10_1:disabilityLevelDeath valid_x: 490 valid_y: 498\n",
      "_corr_coeff: done: x: 04-12_1:dischargeNeuroExamRespirationScore y: 20-10_1:disabilityLevelDeath\n",
      "_corr_coeff: to eval: x: 04-12_1:dischargeNeuroExamRespirationScore y: 20-04:BayleyIIICognitiveComposite valid_x: 490 valid_y: 421\n",
      "_corr_coeff: done: x: 04-12_1:dischargeNeuroExamRespirationScore y: 20-04:BayleyIIICognitiveComposite\n",
      "_corr_coeff: to eval: x: 04-12_1:dischargeNeuroExamRespirationScore y: 20-04:BayleyIIILanguageComposite valid_x: 490 valid_y: 411\n",
      "_corr_coeff: done: x: 04-12_1:dischargeNeuroExamRespirationScore y: 20-04:BayleyIIILanguageComposite\n",
      "_corr_coeff: to eval: x: 04-12_1:dischargeNeuroExamRespirationScore y: 20-04:BayleyIIIMotorComposite valid_x: 490 valid_y: 415\n",
      "_corr_coeff: done: x: 04-12_1:dischargeNeuroExamRespirationScore y: 20-04:BayleyIIIMotorComposite\n",
      "_corr_coeff: to eval: x: 04-12_1:dischargeNeuroExamReflexScore y: 20-10:moderateSevereDisabilityOrDeath valid_x: 490 valid_y: 504\n",
      "_corr_coeff: done: x: 04-12_1:dischargeNeuroExamReflexScore y: 20-10:moderateSevereDisabilityOrDeath\n",
      "_corr_coeff: to eval: x: 04-12_1:dischargeNeuroExamReflexScore y: 20-10:disabilityLevelDeath4Category valid_x: 490 valid_y: 498\n",
      "_corr_coeff: done: x: 04-12_1:dischargeNeuroExamReflexScore y: 20-10:disabilityLevelDeath4Category\n",
      "_corr_coeff: to eval: x: 04-12_1:dischargeNeuroExamReflexScore y: 20-10_1:disabilityLevelDeath valid_x: 490 valid_y: 498\n",
      "_corr_coeff: done: x: 04-12_1:dischargeNeuroExamReflexScore y: 20-10_1:disabilityLevelDeath\n"
     ]
    },
    {
     "name": "stderr",
     "output_type": "stream",
     "text": [
      "\r",
      " 94%|█████████▍| 315/336 [01:07<00:04,  4.24it/s]"
     ]
    },
    {
     "name": "stdout",
     "output_type": "stream",
     "text": [
      "_corr_coeff: to eval: x: 04-12_1:dischargeNeuroExamReflexScore y: 20-04:BayleyIIICognitiveComposite valid_x: 490 valid_y: 421\n",
      "_corr_coeff: done: x: 04-12_1:dischargeNeuroExamReflexScore y: 20-04:BayleyIIICognitiveComposite\n",
      "_corr_coeff: to eval: x: 04-12_1:dischargeNeuroExamReflexScore y: 20-04:BayleyIIILanguageComposite valid_x: 490 valid_y: 411\n",
      "_corr_coeff: done: x: 04-12_1:dischargeNeuroExamReflexScore y: 20-04:BayleyIIILanguageComposite\n",
      "_corr_coeff: to eval: x: 04-12_1:dischargeNeuroExamReflexScore y: 20-04:BayleyIIIMotorComposite valid_x: 490 valid_y: 415\n",
      "_corr_coeff: done: x: 04-12_1:dischargeNeuroExamReflexScore y: 20-04:BayleyIIIMotorComposite\n",
      "_corr_coeff: to eval: x: 04-12_1:dischargeNeuroExamANSScore y: 20-10:moderateSevereDisabilityOrDeath valid_x: 490 valid_y: 504\n",
      "_corr_coeff: done: x: 04-12_1:dischargeNeuroExamANSScore y: 20-10:moderateSevereDisabilityOrDeath\n",
      "_corr_coeff: to eval: x: 04-12_1:dischargeNeuroExamANSScore y: 20-10:disabilityLevelDeath4Category valid_x: 490 valid_y: 498\n",
      "_corr_coeff: done: x: 04-12_1:dischargeNeuroExamANSScore y: 20-10:disabilityLevelDeath4Category\n"
     ]
    },
    {
     "name": "stderr",
     "output_type": "stream",
     "text": [
      "\r",
      " 94%|█████████▍| 316/336 [01:07<00:04,  4.41it/s]"
     ]
    },
    {
     "name": "stdout",
     "output_type": "stream",
     "text": [
      "_corr_coeff: to eval: x: 04-12_1:dischargeNeuroExamANSScore y: 20-10_1:disabilityLevelDeath valid_x: 490 valid_y: 498\n",
      "_corr_coeff: done: x: 04-12_1:dischargeNeuroExamANSScore y: 20-10_1:disabilityLevelDeath\n",
      "_corr_coeff: to eval: x: 04-12_1:dischargeNeuroExamANSScore y: 20-04:BayleyIIICognitiveComposite valid_x: 490 valid_y: 421\n",
      "_corr_coeff: done: x: 04-12_1:dischargeNeuroExamANSScore y: 20-04:BayleyIIICognitiveComposite\n",
      "_corr_coeff: to eval: x: 04-12_1:dischargeNeuroExamANSScore y: 20-04:BayleyIIILanguageComposite valid_x: 490 valid_y: 411\n",
      "_corr_coeff: done: x: 04-12_1:dischargeNeuroExamANSScore y: 20-04:BayleyIIILanguageComposite\n",
      "_corr_coeff: to eval: x: 04-12_1:dischargeNeuroExamANSScore y: 20-04:BayleyIIIMotorComposite valid_x: 490 valid_y: 415\n",
      "_corr_coeff: done: x: 04-12_1:dischargeNeuroExamANSScore y: 20-04:BayleyIIIMotorComposite\n",
      "_corr_coeff: to eval: x: 04-12_1:dischargeTotalModifiedSarnatScore y: 20-10:moderateSevereDisabilityOrDeath valid_x: 490 valid_y: 504\n",
      "_corr_coeff: done: x: 04-12_1:dischargeTotalModifiedSarnatScore y: 20-10:moderateSevereDisabilityOrDeath\n",
      "_corr_coeff: to eval: x: 04-12_1:dischargeTotalModifiedSarnatScore y: 20-10:disabilityLevelDeath4Category valid_x: 490 valid_y: 498\n",
      "_corr_coeff: done: x: 04-12_1:dischargeTotalModifiedSarnatScore y: 20-10:disabilityLevelDeath4Category\n",
      "_corr_coeff: to eval: x: 04-12_1:dischargeTotalModifiedSarnatScore y: 20-10_1:disabilityLevelDeath valid_x: 490 valid_y: 498\n",
      "_corr_coeff: done: x: 04-12_1:dischargeTotalModifiedSarnatScore y: 20-10_1:disabilityLevelDeath\n"
     ]
    },
    {
     "name": "stderr",
     "output_type": "stream",
     "text": [
      "\r",
      " 94%|█████████▍| 317/336 [01:07<00:04,  4.25it/s]"
     ]
    },
    {
     "name": "stdout",
     "output_type": "stream",
     "text": [
      "_corr_coeff: to eval: x: 04-12_1:dischargeTotalModifiedSarnatScore y: 20-04:BayleyIIICognitiveComposite valid_x: 490 valid_y: 421\n",
      "_corr_coeff: done: x: 04-12_1:dischargeTotalModifiedSarnatScore y: 20-04:BayleyIIICognitiveComposite\n",
      "_corr_coeff: to eval: x: 04-12_1:dischargeTotalModifiedSarnatScore y: 20-04:BayleyIIILanguageComposite valid_x: 490 valid_y: 411\n",
      "_corr_coeff: done: x: 04-12_1:dischargeTotalModifiedSarnatScore y: 20-04:BayleyIIILanguageComposite\n",
      "_corr_coeff: to eval: x: 04-12_1:dischargeTotalModifiedSarnatScore y: 20-04:BayleyIIIMotorComposite valid_x: 490 valid_y: 415\n",
      "_corr_coeff: done: x: 04-12_1:dischargeTotalModifiedSarnatScore y: 20-04:BayleyIIIMotorComposite\n",
      "_corr_coeff: to eval: x: 04-13:dischargeSeizure y: 20-10:moderateSevereDisabilityOrDeath valid_x: 532 valid_y: 504\n",
      "_corr_coeff: done: x: 04-13:dischargeSeizure y: 20-10:moderateSevereDisabilityOrDeath\n",
      "_corr_coeff: to eval: x: 04-13:dischargeSeizure y: 20-10:disabilityLevelDeath4Category valid_x: 532 valid_y: 498\n",
      "_corr_coeff: done: x: 04-13:dischargeSeizure y: 20-10:disabilityLevelDeath4Category\n"
     ]
    },
    {
     "name": "stderr",
     "output_type": "stream",
     "text": [
      "\r",
      " 95%|█████████▍| 318/336 [01:08<00:04,  4.42it/s]"
     ]
    },
    {
     "name": "stdout",
     "output_type": "stream",
     "text": [
      "_corr_coeff: to eval: x: 04-13:dischargeSeizure y: 20-10_1:disabilityLevelDeath valid_x: 532 valid_y: 498\n",
      "_corr_coeff: done: x: 04-13:dischargeSeizure y: 20-10_1:disabilityLevelDeath\n",
      "_corr_coeff: to eval: x: 04-13:dischargeSeizure y: 20-04:BayleyIIICognitiveComposite valid_x: 532 valid_y: 421\n",
      "_corr_coeff: done: x: 04-13:dischargeSeizure y: 20-04:BayleyIIICognitiveComposite\n",
      "_corr_coeff: to eval: x: 04-13:dischargeSeizure y: 20-04:BayleyIIILanguageComposite valid_x: 532 valid_y: 411\n",
      "_corr_coeff: done: x: 04-13:dischargeSeizure y: 20-04:BayleyIIILanguageComposite\n",
      "_corr_coeff: to eval: x: 04-13:dischargeSeizure y: 20-04:BayleyIIIMotorComposite valid_x: 532 valid_y: 415\n",
      "_corr_coeff: done: x: 04-13:dischargeSeizure y: 20-04:BayleyIIIMotorComposite\n",
      "_corr_coeff: to eval: x: 04-13:dischargeSeizurePreIntervention y: 20-10:moderateSevereDisabilityOrDeath valid_x: 305 valid_y: 504\n",
      "_corr_coeff: done: x: 04-13:dischargeSeizurePreIntervention y: 20-10:moderateSevereDisabilityOrDeath\n",
      "_corr_coeff: to eval: x: 04-13:dischargeSeizurePreIntervention y: 20-10:disabilityLevelDeath4Category valid_x: 305 valid_y: 498\n",
      "_corr_coeff: done: x: 04-13:dischargeSeizurePreIntervention y: 20-10:disabilityLevelDeath4Category\n",
      "_corr_coeff: to eval: x: 04-13:dischargeSeizurePreIntervention y: 20-10_1:disabilityLevelDeath valid_x: 305 valid_y: 498\n",
      "_corr_coeff: done: x: 04-13:dischargeSeizurePreIntervention y: 20-10_1:disabilityLevelDeath\n"
     ]
    },
    {
     "name": "stderr",
     "output_type": "stream",
     "text": [
      "\r",
      " 95%|█████████▍| 319/336 [01:08<00:03,  4.37it/s]"
     ]
    },
    {
     "name": "stdout",
     "output_type": "stream",
     "text": [
      "_corr_coeff: to eval: x: 04-13:dischargeSeizurePreIntervention y: 20-04:BayleyIIICognitiveComposite valid_x: 305 valid_y: 421\n",
      "_corr_coeff: done: x: 04-13:dischargeSeizurePreIntervention y: 20-04:BayleyIIICognitiveComposite\n",
      "_corr_coeff: to eval: x: 04-13:dischargeSeizurePreIntervention y: 20-04:BayleyIIILanguageComposite valid_x: 305 valid_y: 411\n",
      "_corr_coeff: done: x: 04-13:dischargeSeizurePreIntervention y: 20-04:BayleyIIILanguageComposite\n",
      "_corr_coeff: to eval: x: 04-13:dischargeSeizurePreIntervention y: 20-04:BayleyIIIMotorComposite valid_x: 305 valid_y: 415\n",
      "_corr_coeff: done: x: 04-13:dischargeSeizurePreIntervention y: 20-04:BayleyIIIMotorComposite\n",
      "_corr_coeff: to eval: x: 04-13:dischargeSeizureAfterBaseline y: 20-10:moderateSevereDisabilityOrDeath valid_x: 177 valid_y: 504\n",
      "_corr_coeff: done: x: 04-13:dischargeSeizureAfterBaseline y: 20-10:moderateSevereDisabilityOrDeath\n",
      "_corr_coeff: to eval: x: 04-13:dischargeSeizureAfterBaseline y: 20-10:disabilityLevelDeath4Category valid_x: 177 valid_y: 498\n",
      "_corr_coeff: done: x: 04-13:dischargeSeizureAfterBaseline y: 20-10:disabilityLevelDeath4Category\n",
      "_corr_coeff: to eval: x: 04-13:dischargeSeizureAfterBaseline y: 20-10_1:disabilityLevelDeath valid_x: 177 valid_y: 498\n",
      "_corr_coeff: done: x: 04-13:dischargeSeizureAfterBaseline y: 20-10_1:disabilityLevelDeath\n",
      "_corr_coeff: to eval: x: 04-13:dischargeSeizureAfterBaseline y: 20-04:BayleyIIICognitiveComposite valid_x: 177 valid_y: 421\n",
      "_corr_coeff: done: x: 04-13:dischargeSeizureAfterBaseline y: 20-04:BayleyIIICognitiveComposite\n",
      "_corr_coeff: to eval: x: 04-13:dischargeSeizureAfterBaseline y: 20-04:BayleyIIILanguageComposite valid_x: 177 valid_y: 411\n",
      "_corr_coeff: done: x: 04-13:dischargeSeizureAfterBaseline y: 20-04:BayleyIIILanguageComposite\n"
     ]
    },
    {
     "name": "stderr",
     "output_type": "stream",
     "text": [
      "\r",
      " 95%|█████████▌| 320/336 [01:08<00:03,  4.77it/s]"
     ]
    },
    {
     "name": "stdout",
     "output_type": "stream",
     "text": [
      "_corr_coeff: to eval: x: 04-13:dischargeSeizureAfterBaseline y: 20-04:BayleyIIIMotorComposite valid_x: 177 valid_y: 415\n",
      "_corr_coeff: done: x: 04-13:dischargeSeizureAfterBaseline y: 20-04:BayleyIIIMotorComposite\n",
      "_corr_coeff: to eval: x: 04-13:dischargeSeizureMaintenance y: 20-10:moderateSevereDisabilityOrDeath valid_x: 303 valid_y: 504\n",
      "_corr_coeff: done: x: 04-13:dischargeSeizureMaintenance y: 20-10:moderateSevereDisabilityOrDeath\n",
      "_corr_coeff: to eval: x: 04-13:dischargeSeizureMaintenance y: 20-10:disabilityLevelDeath4Category valid_x: 303 valid_y: 498\n",
      "_corr_coeff: done: x: 04-13:dischargeSeizureMaintenance y: 20-10:disabilityLevelDeath4Category\n",
      "_corr_coeff: to eval: x: 04-13:dischargeSeizureMaintenance y: 20-10_1:disabilityLevelDeath valid_x: 303 valid_y: 498\n",
      "_corr_coeff: done: x: 04-13:dischargeSeizureMaintenance y: 20-10_1:disabilityLevelDeath\n",
      "_corr_coeff: to eval: x: 04-13:dischargeSeizureMaintenance y: 20-04:BayleyIIICognitiveComposite valid_x: 303 valid_y: 421\n",
      "_corr_coeff: done: x: 04-13:dischargeSeizureMaintenance y: 20-04:BayleyIIICognitiveComposite\n",
      "_corr_coeff: to eval: x: 04-13:dischargeSeizureMaintenance y: 20-04:BayleyIIILanguageComposite valid_x: 303 valid_y: 411\n",
      "_corr_coeff: done: x: 04-13:dischargeSeizureMaintenance y: 20-04:BayleyIIILanguageComposite\n"
     ]
    },
    {
     "name": "stderr",
     "output_type": "stream",
     "text": [
      "\r",
      " 96%|█████████▌| 321/336 [01:08<00:03,  4.63it/s]"
     ]
    },
    {
     "name": "stderr",
     "output_type": "stream",
     "text": [
      "\r",
      " 96%|█████████▌| 322/336 [01:08<00:02,  4.88it/s]"
     ]
    },
    {
     "name": "stdout",
     "output_type": "stream",
     "text": [
      "_corr_coeff: to eval: x: 04-13:dischargeSeizureMaintenance y: 20-04:BayleyIIIMotorComposite valid_x: 303 valid_y: 415\n",
      "_corr_coeff: done: x: 04-13:dischargeSeizureMaintenance y: 20-04:BayleyIIIMotorComposite\n",
      "_corr_coeff: to eval: x: 04-13:dischargeSeizureRewarming y: 20-10:moderateSevereDisabilityOrDeath valid_x: 296 valid_y: 504\n",
      "_corr_coeff: done: x: 04-13:dischargeSeizureRewarming y: 20-10:moderateSevereDisabilityOrDeath\n",
      "_corr_coeff: to eval: x: 04-13:dischargeSeizureRewarming y: 20-10:disabilityLevelDeath4Category valid_x: 296 valid_y: 498\n",
      "_corr_coeff: done: x: 04-13:dischargeSeizureRewarming y: 20-10:disabilityLevelDeath4Category\n",
      "_corr_coeff: to eval: x: 04-13:dischargeSeizureRewarming y: 20-10_1:disabilityLevelDeath valid_x: 296 valid_y: 498\n",
      "_corr_coeff: done: x: 04-13:dischargeSeizureRewarming y: 20-10_1:disabilityLevelDeath\n",
      "_corr_coeff: to eval: x: 04-13:dischargeSeizureRewarming y: 20-04:BayleyIIICognitiveComposite valid_x: 296 valid_y: 421\n",
      "_corr_coeff: done: x: 04-13:dischargeSeizureRewarming y: 20-04:BayleyIIICognitiveComposite\n",
      "_corr_coeff: to eval: x: 04-13:dischargeSeizureRewarming y: 20-04:BayleyIIILanguageComposite valid_x: 296 valid_y: 411\n",
      "_corr_coeff: done: x: 04-13:dischargeSeizureRewarming y: 20-04:BayleyIIILanguageComposite\n",
      "_corr_coeff: to eval: x: 04-13:dischargeSeizureRewarming y: 20-04:BayleyIIIMotorComposite valid_x: 296 valid_y: 415\n",
      "_corr_coeff: done: x: 04-13:dischargeSeizureRewarming y: 20-04:BayleyIIIMotorComposite\n"
     ]
    },
    {
     "name": "stderr",
     "output_type": "stream",
     "text": [
      "\r",
      " 96%|█████████▌| 323/336 [01:09<00:02,  4.70it/s]"
     ]
    },
    {
     "name": "stdout",
     "output_type": "stream",
     "text": [
      "_corr_coeff: to eval: x: 04-13:dischargeSeizurePostIntervention y: 20-10:moderateSevereDisabilityOrDeath valid_x: 295 valid_y: 504\n",
      "_corr_coeff: done: x: 04-13:dischargeSeizurePostIntervention y: 20-10:moderateSevereDisabilityOrDeath\n",
      "_corr_coeff: to eval: x: 04-13:dischargeSeizurePostIntervention y: 20-10:disabilityLevelDeath4Category valid_x: 295 valid_y: 498\n",
      "_corr_coeff: done: x: 04-13:dischargeSeizurePostIntervention y: 20-10:disabilityLevelDeath4Category\n",
      "_corr_coeff: to eval: x: 04-13:dischargeSeizurePostIntervention y: 20-10_1:disabilityLevelDeath valid_x: 295 valid_y: 498\n",
      "_corr_coeff: done: x: 04-13:dischargeSeizurePostIntervention y: 20-10_1:disabilityLevelDeath\n",
      "_corr_coeff: to eval: x: 04-13:dischargeSeizurePostIntervention y: 20-04:BayleyIIICognitiveComposite valid_x: 295 valid_y: 421\n",
      "_corr_coeff: done: x: 04-13:dischargeSeizurePostIntervention y: 20-04:BayleyIIICognitiveComposite\n",
      "_corr_coeff: to eval: x: 04-13:dischargeSeizurePostIntervention y: 20-04:BayleyIIILanguageComposite valid_x: 295 valid_y: 411\n",
      "_corr_coeff: done: x: 04-13:dischargeSeizurePostIntervention y: 20-04:BayleyIIILanguageComposite\n",
      "_corr_coeff: to eval: x: 04-13:dischargeSeizurePostIntervention y: 20-04:BayleyIIIMotorComposite valid_x: 295 valid_y: 415\n",
      "_corr_coeff: done: x: 04-13:dischargeSeizurePostIntervention y: 20-04:BayleyIIIMotorComposite\n"
     ]
    },
    {
     "name": "stderr",
     "output_type": "stream",
     "text": [
      "\r",
      " 96%|█████████▋| 324/336 [01:09<00:02,  4.75it/s]"
     ]
    },
    {
     "name": "stdout",
     "output_type": "stream",
     "text": [
      "_corr_coeff: to eval: x: 04-13:dischargeEEG y: 20-10:moderateSevereDisabilityOrDeath valid_x: 532 valid_y: 504\n",
      "_corr_coeff: done: x: 04-13:dischargeEEG y: 20-10:moderateSevereDisabilityOrDeath\n",
      "_corr_coeff: to eval: x: 04-13:dischargeEEG y: 20-10:disabilityLevelDeath4Category valid_x: 532 valid_y: 498\n",
      "_corr_coeff: done: x: 04-13:dischargeEEG y: 20-10:disabilityLevelDeath4Category\n",
      "_corr_coeff: to eval: x: 04-13:dischargeEEG y: 20-10_1:disabilityLevelDeath valid_x: 532 valid_y: 498\n",
      "_corr_coeff: done: x: 04-13:dischargeEEG y: 20-10_1:disabilityLevelDeath\n",
      "_corr_coeff: to eval: x: 04-13:dischargeEEG y: 20-04:BayleyIIICognitiveComposite valid_x: 532 valid_y: 421\n",
      "_corr_coeff: done: x: 04-13:dischargeEEG y: 20-04:BayleyIIICognitiveComposite\n",
      "_corr_coeff: to eval: x: 04-13:dischargeEEG y: 20-04:BayleyIIILanguageComposite valid_x: 532 valid_y: 411\n",
      "_corr_coeff: done: x: 04-13:dischargeEEG y: 20-04:BayleyIIILanguageComposite\n",
      "_corr_coeff: to eval: x: 04-13:dischargeEEG y: 20-04:BayleyIIIMotorComposite valid_x: 532 valid_y: 415\n",
      "_corr_coeff: done: x: 04-13:dischargeEEG y: 20-04:BayleyIIIMotorComposite\n"
     ]
    },
    {
     "name": "stderr",
     "output_type": "stream",
     "text": [
      "\r",
      " 97%|█████████▋| 325/336 [01:09<00:02,  4.51it/s]"
     ]
    },
    {
     "name": "stdout",
     "output_type": "stream",
     "text": [
      "_corr_coeff: to eval: x: 04-13:dischargeEEGFindingConsistentWithSeizure y: 20-10:moderateSevereDisabilityOrDeath valid_x: 402 valid_y: 504\n",
      "_corr_coeff: done: x: 04-13:dischargeEEGFindingConsistentWithSeizure y: 20-10:moderateSevereDisabilityOrDeath\n",
      "_corr_coeff: to eval: x: 04-13:dischargeEEGFindingConsistentWithSeizure y: 20-10:disabilityLevelDeath4Category valid_x: 402 valid_y: 498\n",
      "_corr_coeff: done: x: 04-13:dischargeEEGFindingConsistentWithSeizure y: 20-10:disabilityLevelDeath4Category\n",
      "_corr_coeff: to eval: x: 04-13:dischargeEEGFindingConsistentWithSeizure y: 20-10_1:disabilityLevelDeath valid_x: 402 valid_y: 498\n",
      "_corr_coeff: done: x: 04-13:dischargeEEGFindingConsistentWithSeizure y: 20-10_1:disabilityLevelDeath\n",
      "_corr_coeff: to eval: x: 04-13:dischargeEEGFindingConsistentWithSeizure y: 20-04:BayleyIIICognitiveComposite valid_x: 402 valid_y: 421\n",
      "_corr_coeff: done: x: 04-13:dischargeEEGFindingConsistentWithSeizure y: 20-04:BayleyIIICognitiveComposite\n",
      "_corr_coeff: to eval: x: 04-13:dischargeEEGFindingConsistentWithSeizure y: 20-04:BayleyIIILanguageComposite valid_x: 402 valid_y: 411\n",
      "_corr_coeff: done: x: 04-13:dischargeEEGFindingConsistentWithSeizure y: 20-04:BayleyIIILanguageComposite\n",
      "_corr_coeff: to eval: x: 04-13:dischargeEEGFindingConsistentWithSeizure y: 20-04:BayleyIIIMotorComposite valid_x: 402 valid_y: 415\n",
      "_corr_coeff: done: x: 04-13:dischargeEEGFindingConsistentWithSeizure y: 20-04:BayleyIIIMotorComposite\n",
      "_corr_coeff: to eval: x: 04-13:dischargeEEGAbnormalBackgroundActivity y: 20-10:moderateSevereDisabilityOrDeath valid_x: 452 valid_y: 504\n",
      "_corr_coeff: done: x: 04-13:dischargeEEGAbnormalBackgroundActivity y: 20-10:moderateSevereDisabilityOrDeath\n"
     ]
    },
    {
     "name": "stderr",
     "output_type": "stream",
     "text": [
      "\r",
      " 97%|█████████▋| 326/336 [01:09<00:02,  4.66it/s]"
     ]
    },
    {
     "name": "stdout",
     "output_type": "stream",
     "text": [
      "_corr_coeff: to eval: x: 04-13:dischargeEEGAbnormalBackgroundActivity y: 20-10:disabilityLevelDeath4Category valid_x: 452 valid_y: 498\n",
      "_corr_coeff: done: x: 04-13:dischargeEEGAbnormalBackgroundActivity y: 20-10:disabilityLevelDeath4Category\n",
      "_corr_coeff: to eval: x: 04-13:dischargeEEGAbnormalBackgroundActivity y: 20-10_1:disabilityLevelDeath valid_x: 452 valid_y: 498\n",
      "_corr_coeff: done: x: 04-13:dischargeEEGAbnormalBackgroundActivity y: 20-10_1:disabilityLevelDeath\n",
      "_corr_coeff: to eval: x: 04-13:dischargeEEGAbnormalBackgroundActivity y: 20-04:BayleyIIICognitiveComposite valid_x: 452 valid_y: 421\n",
      "_corr_coeff: done: x: 04-13:dischargeEEGAbnormalBackgroundActivity y: 20-04:BayleyIIICognitiveComposite\n",
      "_corr_coeff: to eval: x: 04-13:dischargeEEGAbnormalBackgroundActivity y: 20-04:BayleyIIILanguageComposite valid_x: 452 valid_y: 411\n",
      "_corr_coeff: done: x: 04-13:dischargeEEGAbnormalBackgroundActivity y: 20-04:BayleyIIILanguageComposite\n",
      "_corr_coeff: to eval: x: 04-13:dischargeEEGAbnormalBackgroundActivity y: 20-04:BayleyIIIMotorComposite valid_x: 452 valid_y: 415\n",
      "_corr_coeff: done: x: 04-13:dischargeEEGAbnormalBackgroundActivity y: 20-04:BayleyIIIMotorComposite\n"
     ]
    },
    {
     "name": "stderr",
     "output_type": "stream",
     "text": [
      "\r",
      " 97%|█████████▋| 327/336 [01:10<00:02,  4.43it/s]"
     ]
    },
    {
     "name": "stdout",
     "output_type": "stream",
     "text": [
      "_corr_coeff: to eval: x: 04-13:dischargeAnticonvulsantsGreater72H y: 20-10:moderateSevereDisabilityOrDeath valid_x: 532 valid_y: 504\n",
      "_corr_coeff: done: x: 04-13:dischargeAnticonvulsantsGreater72H y: 20-10:moderateSevereDisabilityOrDeath\n",
      "_corr_coeff: to eval: x: 04-13:dischargeAnticonvulsantsGreater72H y: 20-10:disabilityLevelDeath4Category valid_x: 532 valid_y: 498\n",
      "_corr_coeff: done: x: 04-13:dischargeAnticonvulsantsGreater72H y: 20-10:disabilityLevelDeath4Category\n",
      "_corr_coeff: to eval: x: 04-13:dischargeAnticonvulsantsGreater72H y: 20-10_1:disabilityLevelDeath valid_x: 532 valid_y: 498\n",
      "_corr_coeff: done: x: 04-13:dischargeAnticonvulsantsGreater72H y: 20-10_1:disabilityLevelDeath\n",
      "_corr_coeff: to eval: x: 04-13:dischargeAnticonvulsantsGreater72H y: 20-04:BayleyIIICognitiveComposite valid_x: 532 valid_y: 421\n",
      "_corr_coeff: done: x: 04-13:dischargeAnticonvulsantsGreater72H y: 20-04:BayleyIIICognitiveComposite\n",
      "_corr_coeff: to eval: x: 04-13:dischargeAnticonvulsantsGreater72H y: 20-04:BayleyIIILanguageComposite valid_x: 532 valid_y: 411\n",
      "_corr_coeff: done: x: 04-13:dischargeAnticonvulsantsGreater72H y: 20-04:BayleyIIILanguageComposite\n",
      "_corr_coeff: to eval: x: 04-13:dischargeAnticonvulsantsGreater72H y: 20-04:BayleyIIIMotorComposite valid_x: 532 valid_y: 415\n",
      "_corr_coeff: done: x: 04-13:dischargeAnticonvulsantsGreater72H y: 20-04:BayleyIIIMotorComposite\n"
     ]
    },
    {
     "name": "stderr",
     "output_type": "stream",
     "text": [
      "\r",
      " 98%|█████████▊| 328/336 [01:10<00:01,  4.59it/s]"
     ]
    },
    {
     "name": "stdout",
     "output_type": "stream",
     "text": [
      "_corr_coeff: to eval: x: 04-13:dischargeAnticonvulsants y: 20-10:moderateSevereDisabilityOrDeath valid_x: 502 valid_y: 504\n",
      "_corr_coeff: done: x: 04-13:dischargeAnticonvulsants y: 20-10:moderateSevereDisabilityOrDeath\n",
      "_corr_coeff: to eval: x: 04-13:dischargeAnticonvulsants y: 20-10:disabilityLevelDeath4Category valid_x: 502 valid_y: 498\n",
      "_corr_coeff: done: x: 04-13:dischargeAnticonvulsants y: 20-10:disabilityLevelDeath4Category\n",
      "_corr_coeff: to eval: x: 04-13:dischargeAnticonvulsants y: 20-10_1:disabilityLevelDeath valid_x: 502 valid_y: 498\n",
      "_corr_coeff: done: x: 04-13:dischargeAnticonvulsants y: 20-10_1:disabilityLevelDeath\n",
      "_corr_coeff: to eval: x: 04-13:dischargeAnticonvulsants y: 20-04:BayleyIIICognitiveComposite valid_x: 502 valid_y: 421\n",
      "_corr_coeff: done: x: 04-13:dischargeAnticonvulsants y: 20-04:BayleyIIICognitiveComposite\n",
      "_corr_coeff: to eval: x: 04-13:dischargeAnticonvulsants y: 20-04:BayleyIIILanguageComposite valid_x: 502 valid_y: 411\n",
      "_corr_coeff: done: x: 04-13:dischargeAnticonvulsants y: 20-04:BayleyIIILanguageComposite\n",
      "_corr_coeff: to eval: x: 04-13:dischargeAnticonvulsants y: 20-04:BayleyIIIMotorComposite valid_x: 502 valid_y: 415\n",
      "_corr_coeff: done: x: 04-13:dischargeAnticonvulsants y: 20-04:BayleyIIIMotorComposite\n",
      "_corr_coeff: to eval: x: 04-14:dischargeSyndromeMalformation y: 20-10:moderateSevereDisabilityOrDeath valid_x: 532 valid_y: 504\n",
      "_corr_coeff: done: x: 04-14:dischargeSyndromeMalformation y: 20-10:moderateSevereDisabilityOrDeath\n"
     ]
    },
    {
     "name": "stderr",
     "output_type": "stream",
     "text": [
      "\r",
      " 98%|█████████▊| 329/336 [01:10<00:01,  4.71it/s]"
     ]
    },
    {
     "name": "stdout",
     "output_type": "stream",
     "text": [
      "_corr_coeff: to eval: x: 04-14:dischargeSyndromeMalformation y: 20-10:disabilityLevelDeath4Category valid_x: 532 valid_y: 498\n",
      "_corr_coeff: done: x: 04-14:dischargeSyndromeMalformation y: 20-10:disabilityLevelDeath4Category\n",
      "_corr_coeff: to eval: x: 04-14:dischargeSyndromeMalformation y: 20-10_1:disabilityLevelDeath valid_x: 532 valid_y: 498\n",
      "_corr_coeff: done: x: 04-14:dischargeSyndromeMalformation y: 20-10_1:disabilityLevelDeath\n",
      "_corr_coeff: to eval: x: 04-14:dischargeSyndromeMalformation y: 20-04:BayleyIIICognitiveComposite valid_x: 532 valid_y: 421\n",
      "_corr_coeff: done: x: 04-14:dischargeSyndromeMalformation y: 20-04:BayleyIIICognitiveComposite\n",
      "_corr_coeff: to eval: x: 04-14:dischargeSyndromeMalformation y: 20-04:BayleyIIILanguageComposite valid_x: 532 valid_y: 411\n",
      "_corr_coeff: done: x: 04-14:dischargeSyndromeMalformation y: 20-04:BayleyIIILanguageComposite\n",
      "_corr_coeff: to eval: x: 04-14:dischargeSyndromeMalformation y: 20-04:BayleyIIIMotorComposite valid_x: 532 valid_y: 415\n",
      "_corr_coeff: done: x: 04-14:dischargeSyndromeMalformation y: 20-04:BayleyIIIMotorComposite\n",
      "_corr_coeff: to eval: x: 04-15:dischargeHomeTherapy y: 20-10:moderateSevereDisabilityOrDeath valid_x: 313 valid_y: 504\n",
      "_corr_coeff: done: x: 04-15:dischargeHomeTherapy y: 20-10:moderateSevereDisabilityOrDeath\n",
      "_corr_coeff: to eval: x: 04-15:dischargeHomeTherapy y: 20-10:disabilityLevelDeath4Category valid_x: 313 valid_y: 498\n",
      "_corr_coeff: done: x: 04-15:dischargeHomeTherapy y: 20-10:disabilityLevelDeath4Category\n"
     ]
    },
    {
     "name": "stderr",
     "output_type": "stream",
     "text": [
      "\r",
      " 98%|█████████▊| 330/336 [01:10<00:01,  4.97it/s]"
     ]
    },
    {
     "name": "stdout",
     "output_type": "stream",
     "text": [
      "_corr_coeff: to eval: x: 04-15:dischargeHomeTherapy y: 20-10_1:disabilityLevelDeath valid_x: 313 valid_y: 498\n",
      "_corr_coeff: done: x: 04-15:dischargeHomeTherapy y: 20-10_1:disabilityLevelDeath\n",
      "_corr_coeff: to eval: x: 04-15:dischargeHomeTherapy y: 20-04:BayleyIIICognitiveComposite valid_x: 313 valid_y: 421\n",
      "_corr_coeff: done: x: 04-15:dischargeHomeTherapy y: 20-04:BayleyIIICognitiveComposite\n",
      "_corr_coeff: to eval: x: 04-15:dischargeHomeTherapy y: 20-04:BayleyIIILanguageComposite valid_x: 313 valid_y: 411\n",
      "_corr_coeff: done: x: 04-15:dischargeHomeTherapy y: 20-04:BayleyIIILanguageComposite\n",
      "_corr_coeff: to eval: x: 04-15:dischargeHomeTherapy y: 20-04:BayleyIIIMotorComposite valid_x: 313 valid_y: 415\n",
      "_corr_coeff: done: x: 04-15:dischargeHomeTherapy y: 20-04:BayleyIIIMotorComposite\n",
      "_corr_coeff: to eval: x: 04-15:dischargeHomeTherapyVentilator y: 20-10:moderateSevereDisabilityOrDeath valid_x: 258 valid_y: 504\n",
      "_corr_coeff: done: x: 04-15:dischargeHomeTherapyVentilator y: 20-10:moderateSevereDisabilityOrDeath\n",
      "_corr_coeff: to eval: x: 04-15:dischargeHomeTherapyVentilator y: 20-10:disabilityLevelDeath4Category valid_x: 258 valid_y: 498\n",
      "_corr_coeff: done: x: 04-15:dischargeHomeTherapyVentilator y: 20-10:disabilityLevelDeath4Category\n",
      "_corr_coeff: to eval: x: 04-15:dischargeHomeTherapyVentilator y: 20-10_1:disabilityLevelDeath valid_x: 258 valid_y: 498\n",
      "_corr_coeff: done: x: 04-15:dischargeHomeTherapyVentilator y: 20-10_1:disabilityLevelDeath\n",
      "_corr_coeff: to eval: x: 04-15:dischargeHomeTherapyVentilator y: 20-04:BayleyIIICognitiveComposite valid_x: 258 valid_y: 421\n",
      "_corr_coeff: done: x: 04-15:dischargeHomeTherapyVentilator y: 20-04:BayleyIIICognitiveComposite\n"
     ]
    },
    {
     "name": "stderr",
     "output_type": "stream",
     "text": [
      "\r",
      " 99%|█████████▊| 331/336 [01:10<00:00,  5.20it/s]"
     ]
    },
    {
     "name": "stderr",
     "output_type": "stream",
     "text": [
      "\r",
      " 99%|█████████▉| 332/336 [01:11<00:00,  5.38it/s]"
     ]
    },
    {
     "name": "stdout",
     "output_type": "stream",
     "text": [
      "_corr_coeff: to eval: x: 04-15:dischargeHomeTherapyVentilator y: 20-04:BayleyIIILanguageComposite valid_x: 258 valid_y: 411\n",
      "_corr_coeff: done: x: 04-15:dischargeHomeTherapyVentilator y: 20-04:BayleyIIILanguageComposite\n",
      "_corr_coeff: to eval: x: 04-15:dischargeHomeTherapyVentilator y: 20-04:BayleyIIIMotorComposite valid_x: 258 valid_y: 415\n",
      "_corr_coeff: done: x: 04-15:dischargeHomeTherapyVentilator y: 20-04:BayleyIIIMotorComposite\n",
      "_corr_coeff: to eval: x: 04-15:dischargeHomeTherapyOxygen y: 20-10:moderateSevereDisabilityOrDeath valid_x: 258 valid_y: 504\n",
      "_corr_coeff: done: x: 04-15:dischargeHomeTherapyOxygen y: 20-10:moderateSevereDisabilityOrDeath\n",
      "_corr_coeff: to eval: x: 04-15:dischargeHomeTherapyOxygen y: 20-10:disabilityLevelDeath4Category valid_x: 258 valid_y: 498\n",
      "_corr_coeff: done: x: 04-15:dischargeHomeTherapyOxygen y: 20-10:disabilityLevelDeath4Category\n",
      "_corr_coeff: to eval: x: 04-15:dischargeHomeTherapyOxygen y: 20-10_1:disabilityLevelDeath valid_x: 258 valid_y: 498\n",
      "_corr_coeff: done: x: 04-15:dischargeHomeTherapyOxygen y: 20-10_1:disabilityLevelDeath\n",
      "_corr_coeff: to eval: x: 04-15:dischargeHomeTherapyOxygen y: 20-04:BayleyIIICognitiveComposite valid_x: 258 valid_y: 421\n",
      "_corr_coeff: done: x: 04-15:dischargeHomeTherapyOxygen y: 20-04:BayleyIIICognitiveComposite\n",
      "_corr_coeff: to eval: x: 04-15:dischargeHomeTherapyOxygen y: 20-04:BayleyIIILanguageComposite valid_x: 258 valid_y: 411\n",
      "_corr_coeff: done: x: 04-15:dischargeHomeTherapyOxygen y: 20-04:BayleyIIILanguageComposite\n",
      "_corr_coeff: to eval: x: 04-15:dischargeHomeTherapyOxygen y: 20-04:BayleyIIIMotorComposite valid_x: 258 valid_y: 415\n",
      "_corr_coeff: done: x: 04-15:dischargeHomeTherapyOxygen y: 20-04:BayleyIIIMotorComposite\n"
     ]
    },
    {
     "name": "stderr",
     "output_type": "stream",
     "text": [
      "\r",
      " 99%|█████████▉| 333/336 [01:11<00:00,  5.07it/s]"
     ]
    },
    {
     "name": "stdout",
     "output_type": "stream",
     "text": [
      "_corr_coeff: to eval: x: 04-15:dischargeHomeTherapyGavageTubeFeed y: 20-10:moderateSevereDisabilityOrDeath valid_x: 257 valid_y: 504\n",
      "_corr_coeff: done: x: 04-15:dischargeHomeTherapyGavageTubeFeed y: 20-10:moderateSevereDisabilityOrDeath\n",
      "_corr_coeff: to eval: x: 04-15:dischargeHomeTherapyGavageTubeFeed y: 20-10:disabilityLevelDeath4Category valid_x: 257 valid_y: 498\n",
      "_corr_coeff: done: x: 04-15:dischargeHomeTherapyGavageTubeFeed y: 20-10:disabilityLevelDeath4Category\n",
      "_corr_coeff: to eval: x: 04-15:dischargeHomeTherapyGavageTubeFeed y: 20-10_1:disabilityLevelDeath valid_x: 257 valid_y: 498\n",
      "_corr_coeff: done: x: 04-15:dischargeHomeTherapyGavageTubeFeed y: 20-10_1:disabilityLevelDeath\n",
      "_corr_coeff: to eval: x: 04-15:dischargeHomeTherapyGavageTubeFeed y: 20-04:BayleyIIICognitiveComposite valid_x: 257 valid_y: 421\n",
      "_corr_coeff: done: x: 04-15:dischargeHomeTherapyGavageTubeFeed y: 20-04:BayleyIIICognitiveComposite\n",
      "_corr_coeff: to eval: x: 04-15:dischargeHomeTherapyGavageTubeFeed y: 20-04:BayleyIIILanguageComposite valid_x: 257 valid_y: 411\n",
      "_corr_coeff: done: x: 04-15:dischargeHomeTherapyGavageTubeFeed y: 20-04:BayleyIIILanguageComposite\n",
      "_corr_coeff: to eval: x: 04-15:dischargeHomeTherapyGavageTubeFeed y: 20-04:BayleyIIIMotorComposite valid_x: 257 valid_y: 415\n",
      "_corr_coeff: done: x: 04-15:dischargeHomeTherapyGavageTubeFeed y: 20-04:BayleyIIIMotorComposite\n"
     ]
    },
    {
     "name": "stderr",
     "output_type": "stream",
     "text": [
      "\r",
      " 99%|█████████▉| 334/336 [01:11<00:00,  5.27it/s]"
     ]
    },
    {
     "name": "stdout",
     "output_type": "stream",
     "text": [
      "_corr_coeff: to eval: x: 04-15:dischargeHomeTherapyGastrostomyTubeFeed y: 20-10:moderateSevereDisabilityOrDeath valid_x: 257 valid_y: 504\n",
      "_corr_coeff: done: x: 04-15:dischargeHomeTherapyGastrostomyTubeFeed y: 20-10:moderateSevereDisabilityOrDeath\n",
      "_corr_coeff: to eval: x: 04-15:dischargeHomeTherapyGastrostomyTubeFeed y: 20-10:disabilityLevelDeath4Category valid_x: 257 valid_y: 498\n",
      "_corr_coeff: done: x: 04-15:dischargeHomeTherapyGastrostomyTubeFeed y: 20-10:disabilityLevelDeath4Category\n",
      "_corr_coeff: to eval: x: 04-15:dischargeHomeTherapyGastrostomyTubeFeed y: 20-10_1:disabilityLevelDeath valid_x: 257 valid_y: 498\n",
      "_corr_coeff: done: x: 04-15:dischargeHomeTherapyGastrostomyTubeFeed y: 20-10_1:disabilityLevelDeath\n",
      "_corr_coeff: to eval: x: 04-15:dischargeHomeTherapyGastrostomyTubeFeed y: 20-04:BayleyIIICognitiveComposite valid_x: 257 valid_y: 421\n",
      "_corr_coeff: done: x: 04-15:dischargeHomeTherapyGastrostomyTubeFeed y: 20-04:BayleyIIICognitiveComposite\n",
      "_corr_coeff: to eval: x: 04-15:dischargeHomeTherapyGastrostomyTubeFeed y: 20-04:BayleyIIILanguageComposite valid_x: 257 valid_y: 411\n",
      "_corr_coeff: done: x: 04-15:dischargeHomeTherapyGastrostomyTubeFeed y: 20-04:BayleyIIILanguageComposite\n",
      "_corr_coeff: to eval: x: 04-15:dischargeHomeTherapyGastrostomyTubeFeed y: 20-04:BayleyIIIMotorComposite valid_x: 257 valid_y: 415\n",
      "_corr_coeff: done: x: 04-15:dischargeHomeTherapyGastrostomyTubeFeed y: 20-04:BayleyIIIMotorComposite\n",
      "_corr_coeff: to eval: x: 04-15:dischargeHomeTherapyAnticonvulsantMedication y: 20-10:moderateSevereDisabilityOrDeath valid_x: 258 valid_y: 504\n",
      "_corr_coeff: done: x: 04-15:dischargeHomeTherapyAnticonvulsantMedication y: 20-10:moderateSevereDisabilityOrDeath\n",
      "_corr_coeff: to eval: x: 04-15:dischargeHomeTherapyAnticonvulsantMedication y: 20-10:disabilityLevelDeath4Category valid_x: 258 valid_y: 498\n",
      "_corr_coeff: done: x: 04-15:dischargeHomeTherapyAnticonvulsantMedication y: 20-10:disabilityLevelDeath4Category\n"
     ]
    },
    {
     "name": "stderr",
     "output_type": "stream",
     "text": [
      "\r",
      "100%|█████████▉| 335/336 [01:11<00:00,  5.41it/s]"
     ]
    },
    {
     "name": "stdout",
     "output_type": "stream",
     "text": [
      "_corr_coeff: to eval: x: 04-15:dischargeHomeTherapyAnticonvulsantMedication y: 20-10_1:disabilityLevelDeath valid_x: 258 valid_y: 498\n",
      "_corr_coeff: done: x: 04-15:dischargeHomeTherapyAnticonvulsantMedication y: 20-10_1:disabilityLevelDeath\n",
      "_corr_coeff: to eval: x: 04-15:dischargeHomeTherapyAnticonvulsantMedication y: 20-04:BayleyIIICognitiveComposite valid_x: 258 valid_y: 421\n",
      "_corr_coeff: done: x: 04-15:dischargeHomeTherapyAnticonvulsantMedication y: 20-04:BayleyIIICognitiveComposite\n",
      "_corr_coeff: to eval: x: 04-15:dischargeHomeTherapyAnticonvulsantMedication y: 20-04:BayleyIIILanguageComposite valid_x: 258 valid_y: 411\n",
      "_corr_coeff: done: x: 04-15:dischargeHomeTherapyAnticonvulsantMedication y: 20-04:BayleyIIILanguageComposite\n",
      "_corr_coeff: to eval: x: 04-15:dischargeHomeTherapyAnticonvulsantMedication y: 20-04:BayleyIIIMotorComposite valid_x: 258 valid_y: 415\n",
      "_corr_coeff: done: x: 04-15:dischargeHomeTherapyAnticonvulsantMedication y: 20-04:BayleyIIIMotorComposite\n",
      "_corr_coeff: to eval: x: 04-15:dischargeHomeTherapyOther y: 20-10:moderateSevereDisabilityOrDeath valid_x: 258 valid_y: 504\n",
      "_corr_coeff: done: x: 04-15:dischargeHomeTherapyOther y: 20-10:moderateSevereDisabilityOrDeath\n",
      "_corr_coeff: to eval: x: 04-15:dischargeHomeTherapyOther y: 20-10:disabilityLevelDeath4Category valid_x: 258 valid_y: 498\n",
      "_corr_coeff: done: x: 04-15:dischargeHomeTherapyOther y: 20-10:disabilityLevelDeath4Category\n"
     ]
    },
    {
     "name": "stderr",
     "output_type": "stream",
     "text": [
      "\r",
      "100%|██████████| 336/336 [01:11<00:00,  5.06it/s]"
     ]
    },
    {
     "name": "stderr",
     "output_type": "stream",
     "text": [
      "\r",
      "100%|██████████| 336/336 [01:11<00:00,  4.68it/s]"
     ]
    },
    {
     "name": "stdout",
     "output_type": "stream",
     "text": [
      "_corr_coeff: to eval: x: 04-15:dischargeHomeTherapyOther y: 20-10_1:disabilityLevelDeath valid_x: 258 valid_y: 498\n",
      "_corr_coeff: done: x: 04-15:dischargeHomeTherapyOther y: 20-10_1:disabilityLevelDeath\n",
      "_corr_coeff: to eval: x: 04-15:dischargeHomeTherapyOther y: 20-04:BayleyIIICognitiveComposite valid_x: 258 valid_y: 421\n",
      "_corr_coeff: done: x: 04-15:dischargeHomeTherapyOther y: 20-04:BayleyIIICognitiveComposite\n",
      "_corr_coeff: to eval: x: 04-15:dischargeHomeTherapyOther y: 20-04:BayleyIIILanguageComposite valid_x: 258 valid_y: 411\n",
      "_corr_coeff: done: x: 04-15:dischargeHomeTherapyOther y: 20-04:BayleyIIILanguageComposite\n",
      "_corr_coeff: to eval: x: 04-15:dischargeHomeTherapyOther y: 20-04:BayleyIIIMotorComposite valid_x: 258 valid_y: 415\n",
      "_corr_coeff: done: x: 04-15:dischargeHomeTherapyOther y: 20-04:BayleyIIIMotorComposite\n"
     ]
    },
    {
     "name": "stderr",
     "output_type": "stream",
     "text": [
      "\n"
     ]
    }
   ],
   "source": [
    "df_corr_all = COMBINE_harmonizer.corr(df_numeric, x_columns, y_columns)\n",
    "\n",
    "df_corr_all_pivot = pd.pivot_table(df_corr_all, index='x', columns='y', values=value_columns).transpose().swaplevel().transpose()\n",
    "\n",
    "df_corr_all_pivot[('pvalue_lt_threshold', '')] = df_corr_all_pivot[('20-04:BayleyIIICognitiveComposite', 'pvalue')] < COMBINE_harmonizer.P_VALUE_THRESHOLD\n",
    "\n",
    "all_reorder_columns = [('pvalue_lt_threshold', '')] + reorder_columns\n",
    "df_corr_all_pivot = df_corr_all_pivot[all_reorder_columns].sort_values(by=[('pvalue_lt_threshold', ''), ('20-04:BayleyIIICognitiveComposite', 'r2')], ascending=[False, False]).reset_index(drop=False)\n",
    "df_corr_all_pivot\n",
    "\n",
    "out_filename = f'{out_dir}/31-02-corr-all.csv'\n",
    "df_corr_all_pivot.to_csv(out_filename, index=False)"
   ]
  },
  {
   "cell_type": "code",
   "execution_count": 21,
   "id": "df831387-de24-49b3-9470-1570640a9fac",
   "metadata": {
    "execution": {
     "iopub.execute_input": "2025-05-10T00:17:57.848133Z",
     "iopub.status.busy": "2025-05-10T00:17:57.848047Z",
     "iopub.status.idle": "2025-05-10T00:17:57.861433Z",
     "shell.execute_reply": "2025-05-10T00:17:57.861181Z"
    }
   },
   "outputs": [
    {
     "data": {
      "text/html": [
       "<div>\n",
       "<style scoped>\n",
       "    .dataframe tbody tr th:only-of-type {\n",
       "        vertical-align: middle;\n",
       "    }\n",
       "\n",
       "    .dataframe tbody tr th {\n",
       "        vertical-align: top;\n",
       "    }\n",
       "\n",
       "    .dataframe thead tr th {\n",
       "        text-align: left;\n",
       "    }\n",
       "</style>\n",
       "<table border=\"1\" class=\"dataframe\">\n",
       "  <thead>\n",
       "    <tr>\n",
       "      <th>y</th>\n",
       "      <th>x</th>\n",
       "      <th>pvalue_lt_threshold</th>\n",
       "      <th colspan=\"7\" halign=\"left\">20-10:moderateSevereDisabilityOrDeath</th>\n",
       "      <th>20-10:disabilityLevelDeath4Category</th>\n",
       "      <th>...</th>\n",
       "      <th colspan=\"3\" halign=\"left\">20-04:BayleyIIILanguageComposite</th>\n",
       "      <th colspan=\"7\" halign=\"left\">20-04:BayleyIIIMotorComposite</th>\n",
       "    </tr>\n",
       "    <tr>\n",
       "      <th></th>\n",
       "      <th></th>\n",
       "      <th></th>\n",
       "      <th>corr</th>\n",
       "      <th>r2</th>\n",
       "      <th>pvalue</th>\n",
       "      <th>valid</th>\n",
       "      <th>valid_x</th>\n",
       "      <th>valid_y</th>\n",
       "      <th>valid_percent</th>\n",
       "      <th>corr</th>\n",
       "      <th>...</th>\n",
       "      <th>valid_x</th>\n",
       "      <th>valid_y</th>\n",
       "      <th>valid_percent</th>\n",
       "      <th>corr</th>\n",
       "      <th>r2</th>\n",
       "      <th>pvalue</th>\n",
       "      <th>valid</th>\n",
       "      <th>valid_x</th>\n",
       "      <th>valid_y</th>\n",
       "      <th>valid_percent</th>\n",
       "    </tr>\n",
       "  </thead>\n",
       "  <tbody>\n",
       "    <tr>\n",
       "      <th>0</th>\n",
       "      <td>03-05_s:MRIExtent</td>\n",
       "      <td>True</td>\n",
       "      <td>0.698431</td>\n",
       "      <td>0.487806</td>\n",
       "      <td>4.796415e-26</td>\n",
       "      <td>169.0</td>\n",
       "      <td>169.0</td>\n",
       "      <td>504.0</td>\n",
       "      <td>0.317669</td>\n",
       "      <td>0.687614</td>\n",
       "      <td>...</td>\n",
       "      <td>169.0</td>\n",
       "      <td>411.0</td>\n",
       "      <td>0.263158</td>\n",
       "      <td>-0.673434</td>\n",
       "      <td>0.453514</td>\n",
       "      <td>3.118979e-20</td>\n",
       "      <td>143.0</td>\n",
       "      <td>169.0</td>\n",
       "      <td>415.0</td>\n",
       "      <td>0.268797</td>\n",
       "    </tr>\n",
       "    <tr>\n",
       "      <th>1</th>\n",
       "      <td>03-05_s:MRIWhiteMatterInjuryMerge</td>\n",
       "      <td>True</td>\n",
       "      <td>0.715021</td>\n",
       "      <td>0.511255</td>\n",
       "      <td>1.960550e-19</td>\n",
       "      <td>116.0</td>\n",
       "      <td>116.0</td>\n",
       "      <td>504.0</td>\n",
       "      <td>0.218045</td>\n",
       "      <td>0.706771</td>\n",
       "      <td>...</td>\n",
       "      <td>116.0</td>\n",
       "      <td>411.0</td>\n",
       "      <td>0.172932</td>\n",
       "      <td>-0.636655</td>\n",
       "      <td>0.405329</td>\n",
       "      <td>4.073914e-12</td>\n",
       "      <td>95.0</td>\n",
       "      <td>116.0</td>\n",
       "      <td>415.0</td>\n",
       "      <td>0.178571</td>\n",
       "    </tr>\n",
       "    <tr>\n",
       "      <th>2</th>\n",
       "      <td>03-05_s:MRIBGTMerge</td>\n",
       "      <td>True</td>\n",
       "      <td>0.649612</td>\n",
       "      <td>0.421995</td>\n",
       "      <td>4.141362e-37</td>\n",
       "      <td>298.0</td>\n",
       "      <td>298.0</td>\n",
       "      <td>504.0</td>\n",
       "      <td>0.560150</td>\n",
       "      <td>0.650111</td>\n",
       "      <td>...</td>\n",
       "      <td>298.0</td>\n",
       "      <td>411.0</td>\n",
       "      <td>0.494361</td>\n",
       "      <td>-0.627301</td>\n",
       "      <td>0.393507</td>\n",
       "      <td>2.153775e-30</td>\n",
       "      <td>265.0</td>\n",
       "      <td>298.0</td>\n",
       "      <td>415.0</td>\n",
       "      <td>0.498120</td>\n",
       "    </tr>\n",
       "    <tr>\n",
       "      <th>3</th>\n",
       "      <td>03-05:MRINRNPatternOfInjury:1</td>\n",
       "      <td>True</td>\n",
       "      <td>0.549684</td>\n",
       "      <td>0.302152</td>\n",
       "      <td>5.320614e-28</td>\n",
       "      <td>337.0</td>\n",
       "      <td>355.0</td>\n",
       "      <td>504.0</td>\n",
       "      <td>0.633459</td>\n",
       "      <td>0.551901</td>\n",
       "      <td>...</td>\n",
       "      <td>355.0</td>\n",
       "      <td>411.0</td>\n",
       "      <td>0.554511</td>\n",
       "      <td>-0.504889</td>\n",
       "      <td>0.254912</td>\n",
       "      <td>8.241853e-21</td>\n",
       "      <td>300.0</td>\n",
       "      <td>355.0</td>\n",
       "      <td>415.0</td>\n",
       "      <td>0.563910</td>\n",
       "    </tr>\n",
       "    <tr>\n",
       "      <th>4</th>\n",
       "      <td>03-05_s:MRIPLICMerge</td>\n",
       "      <td>True</td>\n",
       "      <td>0.597946</td>\n",
       "      <td>0.357539</td>\n",
       "      <td>2.805184e-30</td>\n",
       "      <td>298.0</td>\n",
       "      <td>298.0</td>\n",
       "      <td>504.0</td>\n",
       "      <td>0.560150</td>\n",
       "      <td>0.596209</td>\n",
       "      <td>...</td>\n",
       "      <td>298.0</td>\n",
       "      <td>411.0</td>\n",
       "      <td>0.494361</td>\n",
       "      <td>-0.575369</td>\n",
       "      <td>0.331050</td>\n",
       "      <td>9.281420e-25</td>\n",
       "      <td>265.0</td>\n",
       "      <td>298.0</td>\n",
       "      <td>415.0</td>\n",
       "      <td>0.498120</td>\n",
       "    </tr>\n",
       "    <tr>\n",
       "      <th>...</th>\n",
       "      <td>...</td>\n",
       "      <td>...</td>\n",
       "      <td>...</td>\n",
       "      <td>...</td>\n",
       "      <td>...</td>\n",
       "      <td>...</td>\n",
       "      <td>...</td>\n",
       "      <td>...</td>\n",
       "      <td>...</td>\n",
       "      <td>...</td>\n",
       "      <td>...</td>\n",
       "      <td>...</td>\n",
       "      <td>...</td>\n",
       "      <td>...</td>\n",
       "      <td>...</td>\n",
       "      <td>...</td>\n",
       "      <td>...</td>\n",
       "      <td>...</td>\n",
       "      <td>...</td>\n",
       "      <td>...</td>\n",
       "      <td>...</td>\n",
       "    </tr>\n",
       "    <tr>\n",
       "      <th>331</th>\n",
       "      <td>01-06:at10MinIntubation</td>\n",
       "      <td>False</td>\n",
       "      <td>0.145105</td>\n",
       "      <td>0.021055</td>\n",
       "      <td>3.269784e-03</td>\n",
       "      <td>409.0</td>\n",
       "      <td>429.0</td>\n",
       "      <td>504.0</td>\n",
       "      <td>0.768797</td>\n",
       "      <td>0.136233</td>\n",
       "      <td>...</td>\n",
       "      <td>429.0</td>\n",
       "      <td>411.0</td>\n",
       "      <td>0.612782</td>\n",
       "      <td>-0.040079</td>\n",
       "      <td>0.001606</td>\n",
       "      <td>4.687589e-01</td>\n",
       "      <td>329.0</td>\n",
       "      <td>429.0</td>\n",
       "      <td>415.0</td>\n",
       "      <td>0.618421</td>\n",
       "    </tr>\n",
       "    <tr>\n",
       "      <th>332</th>\n",
       "      <td>04-04:dischargeDIC</td>\n",
       "      <td>False</td>\n",
       "      <td>0.228704</td>\n",
       "      <td>0.052306</td>\n",
       "      <td>2.096174e-07</td>\n",
       "      <td>504.0</td>\n",
       "      <td>532.0</td>\n",
       "      <td>504.0</td>\n",
       "      <td>0.947368</td>\n",
       "      <td>0.221352</td>\n",
       "      <td>...</td>\n",
       "      <td>532.0</td>\n",
       "      <td>411.0</td>\n",
       "      <td>0.772556</td>\n",
       "      <td>-0.026488</td>\n",
       "      <td>0.000702</td>\n",
       "      <td>5.905339e-01</td>\n",
       "      <td>415.0</td>\n",
       "      <td>532.0</td>\n",
       "      <td>415.0</td>\n",
       "      <td>0.780075</td>\n",
       "    </tr>\n",
       "    <tr>\n",
       "      <th>333</th>\n",
       "      <td>01-06:at10MinBaggingAndMask</td>\n",
       "      <td>False</td>\n",
       "      <td>0.016057</td>\n",
       "      <td>0.000258</td>\n",
       "      <td>7.458231e-01</td>\n",
       "      <td>410.0</td>\n",
       "      <td>430.0</td>\n",
       "      <td>504.0</td>\n",
       "      <td>0.770677</td>\n",
       "      <td>0.005861</td>\n",
       "      <td>...</td>\n",
       "      <td>430.0</td>\n",
       "      <td>411.0</td>\n",
       "      <td>0.612782</td>\n",
       "      <td>0.005669</td>\n",
       "      <td>0.000032</td>\n",
       "      <td>9.184135e-01</td>\n",
       "      <td>329.0</td>\n",
       "      <td>430.0</td>\n",
       "      <td>415.0</td>\n",
       "      <td>0.618421</td>\n",
       "    </tr>\n",
       "    <tr>\n",
       "      <th>334</th>\n",
       "      <td>04-13:dischargeSeizurePreIntervention</td>\n",
       "      <td>False</td>\n",
       "      <td>-0.074098</td>\n",
       "      <td>0.005490</td>\n",
       "      <td>2.083478e-01</td>\n",
       "      <td>290.0</td>\n",
       "      <td>305.0</td>\n",
       "      <td>504.0</td>\n",
       "      <td>0.545113</td>\n",
       "      <td>-0.087448</td>\n",
       "      <td>...</td>\n",
       "      <td>305.0</td>\n",
       "      <td>411.0</td>\n",
       "      <td>0.421053</td>\n",
       "      <td>0.058677</td>\n",
       "      <td>0.003443</td>\n",
       "      <td>3.799606e-01</td>\n",
       "      <td>226.0</td>\n",
       "      <td>305.0</td>\n",
       "      <td>415.0</td>\n",
       "      <td>0.424812</td>\n",
       "    </tr>\n",
       "    <tr>\n",
       "      <th>335</th>\n",
       "      <td>04-06:dischargeDialysis</td>\n",
       "      <td>False</td>\n",
       "      <td>0.068173</td>\n",
       "      <td>0.004648</td>\n",
       "      <td>1.263966e-01</td>\n",
       "      <td>504.0</td>\n",
       "      <td>532.0</td>\n",
       "      <td>504.0</td>\n",
       "      <td>0.947368</td>\n",
       "      <td>0.066167</td>\n",
       "      <td>...</td>\n",
       "      <td>532.0</td>\n",
       "      <td>411.0</td>\n",
       "      <td>0.772556</td>\n",
       "      <td>NaN</td>\n",
       "      <td>NaN</td>\n",
       "      <td>NaN</td>\n",
       "      <td>415.0</td>\n",
       "      <td>532.0</td>\n",
       "      <td>415.0</td>\n",
       "      <td>0.780075</td>\n",
       "    </tr>\n",
       "  </tbody>\n",
       "</table>\n",
       "<p>336 rows × 44 columns</p>\n",
       "</div>"
      ],
      "text/plain": [
       "y                                        x pvalue_lt_threshold  \\\n",
       "                                                                 \n",
       "0                        03-05_s:MRIExtent                True   \n",
       "1        03-05_s:MRIWhiteMatterInjuryMerge                True   \n",
       "2                      03-05_s:MRIBGTMerge                True   \n",
       "3            03-05:MRINRNPatternOfInjury:1                True   \n",
       "4                     03-05_s:MRIPLICMerge                True   \n",
       "..                                     ...                 ...   \n",
       "331                01-06:at10MinIntubation               False   \n",
       "332                     04-04:dischargeDIC               False   \n",
       "333            01-06:at10MinBaggingAndMask               False   \n",
       "334  04-13:dischargeSeizurePreIntervention               False   \n",
       "335                04-06:dischargeDialysis               False   \n",
       "\n",
       "y   20-10:moderateSevereDisabilityOrDeath                                 \\\n",
       "                                     corr        r2        pvalue  valid   \n",
       "0                                0.698431  0.487806  4.796415e-26  169.0   \n",
       "1                                0.715021  0.511255  1.960550e-19  116.0   \n",
       "2                                0.649612  0.421995  4.141362e-37  298.0   \n",
       "3                                0.549684  0.302152  5.320614e-28  337.0   \n",
       "4                                0.597946  0.357539  2.805184e-30  298.0   \n",
       "..                                    ...       ...           ...    ...   \n",
       "331                              0.145105  0.021055  3.269784e-03  409.0   \n",
       "332                              0.228704  0.052306  2.096174e-07  504.0   \n",
       "333                              0.016057  0.000258  7.458231e-01  410.0   \n",
       "334                             -0.074098  0.005490  2.083478e-01  290.0   \n",
       "335                              0.068173  0.004648  1.263966e-01  504.0   \n",
       "\n",
       "y                                 20-10:disabilityLevelDeath4Category  ...  \\\n",
       "    valid_x valid_y valid_percent                                corr  ...   \n",
       "0     169.0   504.0      0.317669                            0.687614  ...   \n",
       "1     116.0   504.0      0.218045                            0.706771  ...   \n",
       "2     298.0   504.0      0.560150                            0.650111  ...   \n",
       "3     355.0   504.0      0.633459                            0.551901  ...   \n",
       "4     298.0   504.0      0.560150                            0.596209  ...   \n",
       "..      ...     ...           ...                                 ...  ...   \n",
       "331   429.0   504.0      0.768797                            0.136233  ...   \n",
       "332   532.0   504.0      0.947368                            0.221352  ...   \n",
       "333   430.0   504.0      0.770677                            0.005861  ...   \n",
       "334   305.0   504.0      0.545113                           -0.087448  ...   \n",
       "335   532.0   504.0      0.947368                            0.066167  ...   \n",
       "\n",
       "y   20-04:BayleyIIILanguageComposite                        \\\n",
       "                             valid_x valid_y valid_percent   \n",
       "0                              169.0   411.0      0.263158   \n",
       "1                              116.0   411.0      0.172932   \n",
       "2                              298.0   411.0      0.494361   \n",
       "3                              355.0   411.0      0.554511   \n",
       "4                              298.0   411.0      0.494361   \n",
       "..                               ...     ...           ...   \n",
       "331                            429.0   411.0      0.612782   \n",
       "332                            532.0   411.0      0.772556   \n",
       "333                            430.0   411.0      0.612782   \n",
       "334                            305.0   411.0      0.421053   \n",
       "335                            532.0   411.0      0.772556   \n",
       "\n",
       "y   20-04:BayleyIIIMotorComposite                                         \\\n",
       "                             corr        r2        pvalue  valid valid_x   \n",
       "0                       -0.673434  0.453514  3.118979e-20  143.0   169.0   \n",
       "1                       -0.636655  0.405329  4.073914e-12   95.0   116.0   \n",
       "2                       -0.627301  0.393507  2.153775e-30  265.0   298.0   \n",
       "3                       -0.504889  0.254912  8.241853e-21  300.0   355.0   \n",
       "4                       -0.575369  0.331050  9.281420e-25  265.0   298.0   \n",
       "..                            ...       ...           ...    ...     ...   \n",
       "331                     -0.040079  0.001606  4.687589e-01  329.0   429.0   \n",
       "332                     -0.026488  0.000702  5.905339e-01  415.0   532.0   \n",
       "333                      0.005669  0.000032  9.184135e-01  329.0   430.0   \n",
       "334                      0.058677  0.003443  3.799606e-01  226.0   305.0   \n",
       "335                           NaN       NaN           NaN  415.0   532.0   \n",
       "\n",
       "y                          \n",
       "    valid_y valid_percent  \n",
       "0     415.0      0.268797  \n",
       "1     415.0      0.178571  \n",
       "2     415.0      0.498120  \n",
       "3     415.0      0.563910  \n",
       "4     415.0      0.498120  \n",
       "..      ...           ...  \n",
       "331   415.0      0.618421  \n",
       "332   415.0      0.780075  \n",
       "333   415.0      0.618421  \n",
       "334   415.0      0.424812  \n",
       "335   415.0      0.780075  \n",
       "\n",
       "[336 rows x 44 columns]"
      ]
     },
     "execution_count": 21,
     "metadata": {},
     "output_type": "execute_result"
    }
   ],
   "source": [
    "df_corr_all_pivot"
   ]
  },
  {
   "cell_type": "markdown",
   "id": "d6a39d6c",
   "metadata": {},
   "source": [
    "## 04. Plot"
   ]
  },
  {
   "cell_type": "code",
   "execution_count": 22,
   "id": "b716f227-fabf-44ff-a426-ed28daa0e5d2",
   "metadata": {
    "execution": {
     "iopub.execute_input": "2025-05-10T00:17:57.862927Z",
     "iopub.status.busy": "2025-05-10T00:17:57.862830Z",
     "iopub.status.idle": "2025-05-10T00:17:57.865495Z",
     "shell.execute_reply": "2025-05-10T00:17:57.865198Z"
    }
   },
   "outputs": [],
   "source": [
    "def _plot_corr(df, x_column, y_column, x_column_info=None, y_column_info=None, is_close=False):\n",
    "    fig = COMBINE_harmonizer.plot_corr(df, x_column, y_column, x_column_info, y_column_info)\n",
    "\n",
    "    x_str = re.sub(r':', '_', x_column)\n",
    "    y_str = re.sub(r':', '_', y_column)\n",
    "\n",
    "    fig.savefig(f'{out_figure_dir}/31-{x_str}-{y_str}-corr.pdf', bbox_inches='tight')\n",
    "    fig.savefig(f'{out_figure_dir}/31-{x_str}-{y_str}-corr.png', bbox_inches='tight')\n",
    "    fig.savefig(f'{out_figure_dir}/31-{x_str}-{y_str}-corr.eps', bbox_inches='tight')\n",
    "    if is_close:\n",
    "        plt.close(fig)\n"
   ]
  },
  {
   "cell_type": "code",
   "execution_count": 23,
   "id": "9e0ed2bb-48cd-45dd-92d2-ef969ad51834",
   "metadata": {
    "execution": {
     "iopub.execute_input": "2025-05-10T00:17:57.866773Z",
     "iopub.status.busy": "2025-05-10T00:17:57.866676Z",
     "iopub.status.idle": "2025-05-10T00:17:57.869472Z",
     "shell.execute_reply": "2025-05-10T00:17:57.869224Z"
    }
   },
   "outputs": [],
   "source": [
    "y_columns_map = {\n",
    "    '20-04:BayleyIIICognitiveComposite': {'title': 'Bayley III Cognitive Composite Score', 'unit': ''},\n",
    "    # '20-04:BayleyIIILanguageComposite': {'title': 'Bayley III Language Composite Score', 'unit': ''},\n",
    "    # '20-04:BayleyIIIMotorComposite': {'title': 'Bayley III Motor Composite Score', 'unit': ''},\n",
    "\n",
    "    # '30-02:moderateSevereDisabilityOrDeath': {'title': 'Death or Moderate/Severe Disability', 'unit': ''},\n",
    "\n",
    "    # '30-02:disabilityLevel': {'title': 'Disability Level', 'unit': ''},\n",
    "\n",
    "    '20-10_1:disabilityLevelDeath': {'title': 'Disability Level', 'unit': ''},\n",
    "}\n",
    "\n",
    "x_columns_map = {\n",
    "    # '01-06:firstPostnatalBloodGasPH': {'title': 'Blood Gas pH within 1st HR', 'unit': ''},\n",
    "\n",
    "    # '04-04:dischargeChronicLungDisease': {'title': 'Discharge - Chronic Lung Disease', 'unit': ''},\n",
    "\n",
    "    # '20-09:gastrostomyTube_b': {'title': 'Gastrostomy Tube', 'unit': ''},\n",
    "\n",
    "    # '04-08:dischargeFullNippleFeed': {'title': 'Discharge - Full Nipple Feed', 'unit': ''},\n",
    "\n",
    "    # '01-06:Apgar5min': {'title': 'Apgar Score at 5 min', 'unit': ''},\n",
    "\n",
    "    # '01-06:Apgar10min': {'title': 'Apgar Score at 10 min', 'unit': ''},\n",
    "\n",
    "    # '01-06:encephalopathyLevel': {'title': 'Encephalophathy Level', 'unit': ''},\n",
    "\n",
    "    # '01-06:initBloodGasPH': {'title': 'Blood Gas pH', 'unit': ''},\n",
    "\n",
    "    # '01-06:cordBloodGasPH': {'title': 'Cord Blood Gas pH', 'unit': ''},\n",
    "\n",
    "    # '03-05_s1:MRINRNPatternOfInjuryMerge': {'title': 'NRN Pattern of Injury', 'unit': ''},\n",
    "    # '03-05_s1:MRINRNPatternOfInjuryAvg': {'title': 'NRN Pattern of Injury - Mean', 'unit': ''},\n",
    "    # '03-05_s1:MRINRNPatternOfInjuryMax': {'title': 'NRN Pattern of Injury - Max', 'unit': ''},\n",
    "\n",
    "    # '03-05_s:MRI2LevelPatternOfInjury': {'title': 'NRN Pattern of Injury - 2 Level', 'unit': ''},\n",
    "    # '03-05_s:MRINRNPatternOfInjuryMerge': {'title': 'NRN Pattern of Injury', 'unit': ''},\n",
    "\n",
    "    # '01-12_1:pre_TotalModifiedSarnatScore': {'title': 'Total Modified Sarnat Score - Screening', 'unit': ''},\n",
    "    # '03-04_1:post_TotalModifiedSarnatScore': {'title': 'Total Modified Sarnat Score - Post-treatment', 'unit': ''},\n",
    "    # '04-12_1:dischargeTotalModifiedSarnatScore': {'title': 'Total Modified Sarnat Score - Discharge', 'unit': ''},\n",
    "\n",
    "    # '01-12:pre_NeuroExamSeizure': {'title': 'Seizure - Screening', 'unit': ''},\n",
    "\n",
    "    # '01-06:Apgar10minLte5': {'title': 'Apgar Score at 10 min $\\leq$ 5', 'unit': ''},\n",
    "\n",
    "    # '01-06:Apgar10minLt5': {'title': 'Apgar Score at 10 min < 5', 'unit': ''},\n",
    "\n",
    "    # '01-06:infantSex': {'title': 'Infant Sex', 'unit': ''},\n",
    "    # '01-06:maleSex': {'title': 'Infant Sex', 'unit': ''},\n",
    "\n",
    "    # '01-06:birthGestationalAge_week': {'title': 'Birth Gestational Age', 'unit': 'Week'},\n",
    "    # '01-03:motherEducation': {'title': 'Mother Education', 'unit': ''},\n",
    "    # '01-03:motherAge_year': {'title': 'Mother Age', 'unit': 'Year'},\n",
    "\n",
    "    # '01-06:birthWeight_g': {'title': 'Birth Weight', 'unit': 'g'},\n",
    "\n",
    "    # '04-01_1:lengthOfStay_day': {'title': 'Length of Stay', 'unit': 'Day'},\n",
    "}\n",
    "\n",
    "for x_column, x_column_info in x_columns_map.items():\n",
    "    for y_column, y_column_info in y_columns_map.items():\n",
    "        _plot_corr(df_numeric, x_column, y_column, x_column_info, y_column_info, is_close=True)"
   ]
  }
 ],
 "metadata": {
  "kernelspec": {
   "display_name": ".venv",
   "language": "python",
   "name": "python3"
  },
  "language_info": {
   "codemirror_mode": {
    "name": "ipython",
    "version": 3
   },
   "file_extension": ".py",
   "mimetype": "text/x-python",
   "name": "python",
   "nbconvert_exporter": "python",
   "pygments_lexer": "ipython3",
   "version": "3.13.2"
  }
 },
 "nbformat": 4,
 "nbformat_minor": 5
}
