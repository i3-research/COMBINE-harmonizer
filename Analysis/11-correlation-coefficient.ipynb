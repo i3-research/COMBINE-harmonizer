{
 "cells": [
  {
   "cell_type": "code",
   "execution_count": 1,
   "id": "99b890d0-fa09-4dad-becf-c467dcf49cbf",
   "metadata": {
    "execution": {
     "iopub.execute_input": "2025-05-15T04:32:20.074195Z",
     "iopub.status.busy": "2025-05-15T04:32:20.074023Z",
     "iopub.status.idle": "2025-05-15T04:32:21.356197Z",
     "shell.execute_reply": "2025-05-15T04:32:21.355870Z"
    },
    "tags": []
   },
   "outputs": [],
   "source": [
    "import pandas as pd\n",
    "import warnings\n",
    "warnings.simplefilter(action='ignore', category=pd.errors.PerformanceWarning)\n",
    "\n",
    "import numpy as np\n",
    "import re\n",
    "\n",
    "from tqdm import tqdm\n",
    "import os\n",
    "import matplotlib.pyplot as plt\n",
    "import scienceplots\n",
    "\n",
    "import COMBINE_harmonizer\n",
    "from COMBINE_harmonizer import cfg\n",
    "from COMBINE_harmonizer import utils_corr\n",
    "\n",
    "plt.style.use('nature')\n",
    "plt.rcParams['legend.frameon'] = False\n",
    "plt.rcParams['xtick.direction'] = 'in'\n",
    "plt.rcParams['ytick.direction'] = 'in'"
   ]
  },
  {
   "cell_type": "markdown",
   "id": "abe273f5",
   "metadata": {},
   "source": [
    "## 01. Init"
   ]
  },
  {
   "cell_type": "code",
   "execution_count": 2,
   "id": "cbd0a3d2-219f-4d37-9058-c4c669c2b09c",
   "metadata": {
    "execution": {
     "iopub.execute_input": "2025-05-15T04:32:21.357835Z",
     "iopub.status.busy": "2025-05-15T04:32:21.357625Z",
     "iopub.status.idle": "2025-05-15T04:32:21.359452Z",
     "shell.execute_reply": "2025-05-15T04:32:21.359247Z"
    },
    "tags": []
   },
   "outputs": [],
   "source": [
    "root_dir = '../'"
   ]
  },
  {
   "cell_type": "code",
   "execution_count": 3,
   "id": "140354eb-a369-4bba-9d75-0f8bc6c6b7c6",
   "metadata": {
    "execution": {
     "iopub.execute_input": "2025-05-15T04:32:21.360591Z",
     "iopub.status.busy": "2025-05-15T04:32:21.360507Z",
     "iopub.status.idle": "2025-05-15T04:32:21.363697Z",
     "shell.execute_reply": "2025-05-15T04:32:21.363490Z"
    },
    "tags": []
   },
   "outputs": [],
   "source": [
    "COMBINE_harmonizer.init(f'{root_dir}/config.yaml')"
   ]
  },
  {
   "cell_type": "code",
   "execution_count": 4,
   "id": "10f5d4d5-3279-4f15-a908-151b66b8f309",
   "metadata": {
    "execution": {
     "iopub.execute_input": "2025-05-15T04:32:21.364855Z",
     "iopub.status.busy": "2025-05-15T04:32:21.364787Z",
     "iopub.status.idle": "2025-05-15T04:32:21.377827Z",
     "shell.execute_reply": "2025-05-15T04:32:21.377620Z"
    },
    "tags": []
   },
   "outputs": [],
   "source": [
    "input_dir = f\"{cfg.config['out_dir']}/stats\"\n",
    "out_dir = f\"{cfg.config['out_dir']}/stats\"\n",
    "\n",
    "out_figure_dir = f\"{out_dir}/figure\"\n",
    "\n",
    "os.makedirs(out_figure_dir, exist_ok=True)\n",
    "\n",
    "data_dict_filename = f\"{root_dir}/{COMBINE_harmonizer.DATA_DICTIONARY_EXCEL}\""
   ]
  },
  {
   "cell_type": "code",
   "execution_count": 5,
   "id": "d2d4d6ad",
   "metadata": {
    "execution": {
     "iopub.execute_input": "2025-05-15T04:32:21.378979Z",
     "iopub.status.busy": "2025-05-15T04:32:21.378910Z",
     "iopub.status.idle": "2025-05-15T04:32:22.068891Z",
     "shell.execute_reply": "2025-05-15T04:32:22.068510Z"
    }
   },
   "outputs": [],
   "source": [
    "df_data_dict_main = COMBINE_harmonizer.load_data_dict(data_dict_filename, COMBINE_harmonizer.SHEET_MAIN)\n",
    "df_data_dict_followup = COMBINE_harmonizer.load_data_dict(data_dict_filename, COMBINE_harmonizer.SHEET_FOLLOW_UP)\n",
    "\n",
    "data_dict_main_map = {row[COMBINE_harmonizer.DATA_DICT_VAR_NAME]: row[COMBINE_harmonizer.DATA_DICT_VAR_TYPE] for idx, row in df_data_dict_main.iterrows()}\n",
    "data_dict_followup_map = {row[COMBINE_harmonizer.DATA_DICT_VAR_NAME]: row[COMBINE_harmonizer.DATA_DICT_VAR_TYPE] for idx, row in df_data_dict_followup.iterrows()}\n",
    "\n",
    "\n",
    "_DATA_DICT_MAP = {\n",
    "    COMBINE_harmonizer.SHEET_MAIN: data_dict_main_map,\n",
    "    COMBINE_harmonizer.SHEET_FOLLOW_UP: data_dict_followup_map,\n",
    "}"
   ]
  },
  {
   "cell_type": "code",
   "execution_count": 6,
   "id": "68c98ad8",
   "metadata": {
    "execution": {
     "iopub.execute_input": "2025-05-15T04:32:22.070473Z",
     "iopub.status.busy": "2025-05-15T04:32:22.070381Z",
     "iopub.status.idle": "2025-05-15T04:32:22.072430Z",
     "shell.execute_reply": "2025-05-15T04:32:22.072222Z"
    }
   },
   "outputs": [],
   "source": [
    "\n",
    "_FILENAME_INFO_DATA_DICT_MAP = {each['name']: _DATA_DICT_MAP[each['data_dict']] for each in COMBINE_harmonizer.FILENAME_INFOS}\n",
    "\n",
    "_PREFIX_DATA_DICT_MAP = {COMBINE_harmonizer.flatten_filename_prefix(filename): val for filename, val in _FILENAME_INFO_DATA_DICT_MAP.items()}"
   ]
  },
  {
   "cell_type": "markdown",
   "id": "8aad3e58-ed71-49c6-ad73-f4545da09933",
   "metadata": {},
   "source": [
    "## Load flatten"
   ]
  },
  {
   "cell_type": "code",
   "execution_count": 7,
   "id": "2010396f-71f3-4534-ba51-342a1b4779eb",
   "metadata": {
    "execution": {
     "iopub.execute_input": "2025-05-15T04:32:22.073540Z",
     "iopub.status.busy": "2025-05-15T04:32:22.073472Z",
     "iopub.status.idle": "2025-05-15T04:32:22.074894Z",
     "shell.execute_reply": "2025-05-15T04:32:22.074701Z"
    },
    "tags": []
   },
   "outputs": [],
   "source": [
    "filename = f'{input_dir}/zz-merged-flatten-numeric.csv'"
   ]
  },
  {
   "cell_type": "code",
   "execution_count": 8,
   "id": "2edb07d9-c881-4ba9-ad8b-c5c7d141e196",
   "metadata": {
    "execution": {
     "iopub.execute_input": "2025-05-15T04:32:22.075882Z",
     "iopub.status.busy": "2025-05-15T04:32:22.075815Z",
     "iopub.status.idle": "2025-05-15T04:32:22.361236Z",
     "shell.execute_reply": "2025-05-15T04:32:22.360988Z"
    },
    "tags": []
   },
   "outputs": [
    {
     "name": "stderr",
     "output_type": "stream",
     "text": [
      "/var/folders/84/vxdpc5mx2cqdr6zvp8p_tygc0000gn/T/ipykernel_77625/2373133381.py:1: DtypeWarning: Columns (6,40,44,45,161,163,171,203,206,212,215,217,221,222,225,233,234,235,236,241,245,246,247,248,253,257,258,259,260,261,265,267,2046,2047,2048,2049,2050,2874,2875,2876,2877,2878,2879,2880,2881,2882,2883,2884,2885,2886,2887,2888,2889,2890,2891,2892,2893,2894,2895,2896,2897,2898,2899,2900,2901,2902,2903,2904,2905,2906,2907,2908,2909,2910,2911,2912,2913,2914,2915,3278,3282,3285,3288,3289,3291,3292,3293,3295,3306,3307,3308,3316,3317,3321,3322,3323,3324,3326,3331,3332,3333,3335,3346,3347,3348,3351,3353,3354,3355,3356,3357,3358,3361,3362,3363,3364,3365,3381,3382,3383,3384,3471,3475,3476,3477,3483,3503,3504,3505,3506,3507,3508,3509,3510,3511,3515,3516,3517,3523,3529,3530,3763,3764,3765,3766,3767,3768,3769,3770,3771,3772,3773,3774,3775,3776,3777,3778,3779,3780,3781,3782,3783,3784,3785,3786,3787,3788,3789,3790,3791,3792,3793,3794,3798,3799,3800,3801,3802,3804,3806,3807,3808,3809,3810,3811,3812,3813,3814,3815,3816,3817,3818,3819,3820,3821,3822,3823,3824,3825,3826,3827,3828,3829,3830,3831,3832,3833,3834,3835,3836,3837,3838,3839,3843,3844,3845,3846,3847,3849,3851,3852,3943,3944,3945,3946,3947,3948,3949,3950,3951,3952,3953,3954,3955,3956,3957,3958,3959,3960,3961,3962,3963,3964,3965,3966,3967,3968,3969,3970,3971,3972,3973,3974,3978,3979,3980,3981,3982,3984,3986,3987,4532,4542,4602,4603,4617,4618,4632,4633,4652,4653,4672,4673,4692,4693,4712,4713,4714,4727,4728,4729,4742,4746,4762,4766,4778,4779,4780,4788,4789,4790,4808,4809,4810,4827,4847,4868,4869,4870,4872,4873,4874,4880,4881,4882,4888,4889,4890,4892,4893,4894,4909,4910,4911,4912,4986,4987,4988,5001,5006,5010,5011,5012,5018,5026,5027,5028,5029,5095,5096,5097,5098,5099,5100,5119,5120,5121,5127,5164,5165,5221,5222,5223,5224,5225,5226,5242,5243,5364,5365,5366,5367,5371,5372,5376,5377,5378,5402,5406,5430,5443,5462,5468,5529,5530,5531,5533,5534,5535,5537,5540,5589,5599,5612,5656,5719,5863,5869,5871,5872,5879,5882,5885,5888,5891,5931,5994,5995,5996,5997,5998,5999,6000,6001,6002,6003,6004,6005,6006,6007,6008,6012,6072,6074,6076,6089,6091,6093) have mixed types. Specify dtype option on import or set low_memory=False.\n",
      "  df_numeric = pd.read_csv(filename)\n"
     ]
    }
   ],
   "source": [
    "df_numeric = pd.read_csv(filename)"
   ]
  },
  {
   "cell_type": "code",
   "execution_count": 9,
   "id": "57e2d758-fbfa-468b-80f9-6cf87b9e4e14",
   "metadata": {
    "execution": {
     "iopub.execute_input": "2025-05-15T04:32:22.362554Z",
     "iopub.status.busy": "2025-05-15T04:32:22.362471Z",
     "iopub.status.idle": "2025-05-15T04:32:22.364816Z",
     "shell.execute_reply": "2025-05-15T04:32:22.364561Z"
    },
    "tags": []
   },
   "outputs": [],
   "source": [
    "columns = list(df_numeric.columns)"
   ]
  },
  {
   "cell_type": "code",
   "execution_count": 10,
   "id": "90ae9184-2bd2-4b94-ad37-ac6e6c3c490a",
   "metadata": {
    "execution": {
     "iopub.execute_input": "2025-05-15T04:32:22.366101Z",
     "iopub.status.busy": "2025-05-15T04:32:22.366022Z",
     "iopub.status.idle": "2025-05-15T04:32:22.368092Z",
     "shell.execute_reply": "2025-05-15T04:32:22.367865Z"
    },
    "tags": []
   },
   "outputs": [],
   "source": [
    "df_columns = pd.DataFrame({'columns': columns})"
   ]
  },
  {
   "cell_type": "code",
   "execution_count": 11,
   "id": "06fad630-224b-4579-a281-da70b8ead608",
   "metadata": {
    "execution": {
     "iopub.execute_input": "2025-05-15T04:32:22.369169Z",
     "iopub.status.busy": "2025-05-15T04:32:22.369092Z",
     "iopub.status.idle": "2025-05-15T04:32:22.375222Z",
     "shell.execute_reply": "2025-05-15T04:32:22.375002Z"
    },
    "tags": []
   },
   "outputs": [],
   "source": [
    "df_columns['column_tuple'] = df_columns['columns'].apply(COMBINE_harmonizer.flatten_column_tuple)\n",
    "df_columns['column_name'] = df_columns['column_tuple'].apply(lambda x: x[1])\n",
    "df_columns['column_prefix'] = df_columns['column_tuple'].apply(lambda x: x[0])"
   ]
  },
  {
   "cell_type": "code",
   "execution_count": 12,
   "id": "873cb3fd-2ba6-470e-8678-c0f1ff0a19a2",
   "metadata": {
    "execution": {
     "iopub.execute_input": "2025-05-15T04:32:22.376409Z",
     "iopub.status.busy": "2025-05-15T04:32:22.376331Z",
     "iopub.status.idle": "2025-05-15T04:32:22.379520Z",
     "shell.execute_reply": "2025-05-15T04:32:22.379332Z"
    },
    "tags": []
   },
   "outputs": [
    {
     "data": {
      "text/plain": [
       "array(['', '01-02', '01-03', '01-04', '01-05', '01-05_1', '01-05_2',\n",
       "       '01-06', '01-06_1', '01-07', '01-08', '01-09', '01-10', '01-11',\n",
       "       '01-12', '01-12_1', '02-01', '02-02', '02-03', '02-04', '02-05',\n",
       "       '02-05_s', '02-06_s', '02-07', '02-08', '02-09', '02-11', '02-12',\n",
       "       '02-13', '02-14', '02-15', '02-16', '02-17', '03-01', '03-01_s',\n",
       "       '03-02', '03-03', '03-04', '03-04_1', '03-05', '03-05_s',\n",
       "       '03-05_s1', '04-01', '04-01_1', '04-02', '04-03', '04-04', '04-05',\n",
       "       '04-06', '04-07', '04-08', '04-09', '04-10', '04-11', '04-12',\n",
       "       '04-12_1', '04-13', '04-14', '04-15', '04-16', '04-17', '20-00',\n",
       "       '20-01', '20-02', '20-03', '20-04', '20-05', '20-06', '20-07',\n",
       "       '20-08', '20-09', '20-10', '20-10_1'], dtype=object)"
      ]
     },
     "execution_count": 12,
     "metadata": {},
     "output_type": "execute_result"
    }
   ],
   "source": [
    "df_columns['column_prefix'].unique()"
   ]
  },
  {
   "cell_type": "code",
   "execution_count": 13,
   "id": "cef05a20-aace-4af3-a08a-462fcedc51ad",
   "metadata": {
    "execution": {
     "iopub.execute_input": "2025-05-15T04:32:22.380685Z",
     "iopub.status.busy": "2025-05-15T04:32:22.380613Z",
     "iopub.status.idle": "2025-05-15T04:32:22.489093Z",
     "shell.execute_reply": "2025-05-15T04:32:22.488818Z"
    },
    "tags": []
   },
   "outputs": [
    {
     "name": "stderr",
     "output_type": "stream",
     "text": [
      "\r",
      "0it [00:00, ?it/s]"
     ]
    },
    {
     "name": "stderr",
     "output_type": "stream",
     "text": [
      "\r",
      "6124it [00:00, 1389930.61it/s]"
     ]
    },
    {
     "name": "stdout",
     "output_type": "stream",
     "text": [
      "[WARN] (0/6124) not in _PREFIX_DATA_DICT_MAP: column: _study prefix: \n",
      "[WARN] (1/6124) not in _PREFIX_DATA_DICT_MAP: column: center prefix: \n",
      "[WARN] (2/6124) not in _PREFIX_DATA_DICT_MAP: column: subjectID prefix: \n",
      "[WARN] (3/6124) not in _PREFIX_DATA_DICT_MAP: column: uniqueID prefix: \n",
      "[WARN] (5362/6124) not in DATA_DICT_MAP: MRI_ID\n",
      "[WARN] (5363/6124) not in DATA_DICT_MAP: MRI_ID\n",
      "[WARN] (5364/6124) not in DATA_DICT_MAP: MRI_ID\n",
      "[WARN] (5626/6124) not in DATA_DICT_MAP: uniqueFollowupID\n",
      "[WARN] (5634/6124) not in DATA_DICT_MAP: uniqueFollowupID\n",
      "[WARN] (5711/6124) not in DATA_DICT_MAP: uniqueFollowupID\n",
      "[WARN] (5778/6124) not in DATA_DICT_MAP: uniqueFollowupID\n",
      "[WARN] (5876/6124) not in DATA_DICT_MAP: uniqueFollowupID\n",
      "[WARN] (5920/6124) not in DATA_DICT_MAP: uniqueFollowupID\n",
      "[WARN] (5925/6124) not in DATA_DICT_MAP: uniqueFollowupID\n",
      "[WARN] (6036/6124) not in DATA_DICT_MAP: uniqueFollowupID\n",
      "[WARN] (6097/6124) not in DATA_DICT_MAP: uniqueFollowupID\n",
      "[WARN] (6109/6124) not in DATA_DICT_MAP: uniqueFollowupID\n"
     ]
    },
    {
     "name": "stderr",
     "output_type": "stream",
     "text": [
      "\n"
     ]
    }
   ],
   "source": [
    "columns = list(df_numeric.columns)\n",
    "valid_columns = []\n",
    "for idx, column in tqdm(enumerate(columns)):\n",
    "    prefix, var_name, postfix = COMBINE_harmonizer.flatten_column_tuple(column)\n",
    "    if prefix not in _PREFIX_DATA_DICT_MAP:\n",
    "        print(f'[WARN] ({idx}/{len(columns)}) not in _PREFIX_DATA_DICT_MAP: column: {column} prefix: {prefix}')\n",
    "        continue\n",
    "\n",
    "    data_dict_map = _PREFIX_DATA_DICT_MAP[prefix]\n",
    "    if var_name not in data_dict_map:\n",
    "        print(f'[WARN] ({idx}/{len(columns)}) not in DATA_DICT_MAP: {var_name}')\n",
    "        continue\n",
    "    valid_columns.append(column)\n",
    "\n",
    "df_numeric_valid = df_numeric[valid_columns]"
   ]
  },
  {
   "cell_type": "code",
   "execution_count": 14,
   "id": "f0f8bef5-18dc-4dec-9217-c0b484c685b8",
   "metadata": {
    "collapsed": true,
    "execution": {
     "iopub.execute_input": "2025-05-15T04:32:22.490535Z",
     "iopub.status.busy": "2025-05-15T04:32:22.490441Z",
     "iopub.status.idle": "2025-05-15T04:32:22.496332Z",
     "shell.execute_reply": "2025-05-15T04:32:22.496095Z"
    }
   },
   "outputs": [
    {
     "data": {
      "text/plain": [
       "(6107,\n",
       " ['01-02:siteID',\n",
       "  '01-02:birthNumber',\n",
       "  '01-02:screenComment',\n",
       "  '01-02:coreTempLess32p5CGreaterEq2Hr_e',\n",
       "  '01-02:coreTempLess33p5CGreater1Hr_e',\n",
       "  '01-02:coreTempLess34CGreater1Hr_e',\n",
       "  '01-02:first6HrCoolByClinicalProtocol_e',\n",
       "  '01-02:chromosomalAbnormality_e',\n",
       "  '01-02:majorCongenitalAnomaly_e',\n",
       "  '01-02:birthWeightLessEq1800g_e',\n",
       "  '01-02:infantUnlikelySurvive_e',\n",
       "  '01-02:first60MinAllBloodGasPHGreater7p15BaseDeficitLess10mEqPerL_e',\n",
       "  '01-02:postnatalAgeLess6HrOrGreater24Hr_e',\n",
       "  '01-02:enrolledConflictingTrial_e',\n",
       "  '01-02:first60MinAnyBloodGasPHLessEq7_i',\n",
       "  '01-02:first60MinAnyBloodGasBaseDeficitGreaterEq16mEqPerL_i',\n",
       "  '01-02:historyPerinatalEvent_i',\n",
       "  '01-02:at10MinApgarLessEq5OrVent_i',\n",
       "  '01-02:randomEligible',\n",
       "  '01-02:consentStatus',\n",
       "  '01-02:noConsentReason',\n",
       "  '01-02:noInStudyReason',\n",
       "  '01-02:random',\n",
       "  '01-02:noRandomReason',\n",
       "  '01-02:noRandomReasonText',\n",
       "  '01-02:randomDate',\n",
       "  '01-02:randomTime',\n",
       "  '01-02:ageRand_hr',\n",
       "  '01-02:randomNumber',\n",
       "  '01-02:randomTreatmentAssign',\n",
       "  '01-02:randomTreatmentReceive',\n",
       "  '01-02:treatmentBlanketType',\n",
       "  '01-02:treatmentAssignmentDuration_hr',\n",
       "  '01-02:treatmentAssignmentTemperature',\n",
       "  '01-02:usualCoolingTreatmentGroup',\n",
       "  '01-02:inOtherTrial',\n",
       "  '01-02:inOtherTrialText',\n",
       "  '01-02:birthDate',\n",
       "  '01-03:motherAge_year',\n",
       "  '01-03:motherRace',\n",
       "  '01-03:motherRaceOther1',\n",
       "  '01-03:motherRaceOther2',\n",
       "  '01-03:motherRaceOther3',\n",
       "  '01-03:motherRaceOther4',\n",
       "  '01-03:motherRaceOther5',\n",
       "  '01-03:motherRaceOther6',\n",
       "  '01-03:motherRace2',\n",
       "  '01-03:motherEthnicity',\n",
       "  '01-03:motherMaritalStatus',\n",
       "  '01-03:motherEducation',\n",
       "  '01-03:motherEducation2',\n",
       "  '01-03:motherInsurance',\n",
       "  '01-03:motherInsurancePublic',\n",
       "  '01-04:gravida',\n",
       "  '01-04:parity',\n",
       "  '01-04:multipleBirth',\n",
       "  '01-04:numFetus',\n",
       "  '01-04:prenatalCare',\n",
       "  '01-04:hypertensionEclampsia',\n",
       "  '01-04:antepartumHemorrhage',\n",
       "  '01-04:thyroidMalfunction',\n",
       "  '01-04:diabetes',\n",
       "  '01-05:maternalAdmissionDate',\n",
       "  '01-05:maternalAdmissionTime',\n",
       "  '01-05:ruptureDate',\n",
       "  '01-05:ruptureTime',\n",
       "  '01-05:ruptureGreater18Hr',\n",
       "  '01-05:ruptureBeforeDelivery',\n",
       "  '01-05:labor',\n",
       "  '01-05:laborOnsetDate',\n",
       "  '01-05:laborOnsetTime',\n",
       "  '01-05:deliveryMode',\n",
       "  '01-05:fetalDecelerate',\n",
       "  '01-05:cordMishap',\n",
       "  '01-05:uterineRupture',\n",
       "  '01-05:shoulderDystocia',\n",
       "  '01-05:placentalProblem',\n",
       "  '01-05:maternalHemorrhage',\n",
       "  '01-05:maternalTrauma',\n",
       "  '01-05:maternalCardioRespiratoryArrest',\n",
       "  '01-05:maternalSeizure',\n",
       "  '01-05:perinatalSentinelEvent',\n",
       "  '01-05:pyrexiaGreater37p6C',\n",
       "  '01-05:chorioamnionitis',\n",
       "  '01-05:placentalPathologyPerformed',\n",
       "  '01-05:histologicChorioamionitis',\n",
       "  '01-05:laborAntibiotics',\n",
       "  '01-05:laborAntibioticsCode1',\n",
       "  '01-05:laborAntibioticsCode2',\n",
       "  '01-05:laborAntibioticsCode3',\n",
       "  '01-05:laborAntibioticsCode4',\n",
       "  '01-05:laborAntibioticsCode5',\n",
       "  '01-05:laborAntibioticsCode6',\n",
       "  '01-05:emergencyCSection',\n",
       "  '01-05_1:cordMishap',\n",
       "  '01-05_1:uterineRupture',\n",
       "  '01-05_1:placentalProblem',\n",
       "  '01-05_1:shoulderDystocia',\n",
       "  '01-05_1:maternalHemorrhage',\n",
       "  '01-05_1:maternalTrauma',\n",
       "  '01-05_1:maternalCardioRespiratoryArrest',\n",
       "  '01-05_1:maternalSeizure',\n",
       "  '01-05_1:perinatalSentinelEvent',\n",
       "  '01-05_2:deliveryMode',\n",
       "  '01-05_2:emergencyCSection',\n",
       "  '01-06:encephalopathyLevel',\n",
       "  '01-06:randomInfantAge',\n",
       "  '01-06:birthWeight_g',\n",
       "  '01-06:birthLength_cm',\n",
       "  '01-06:birthHeadCircumference_cm',\n",
       "  '01-06:birthGestationalAge_week',\n",
       "  '01-06:infantSex',\n",
       "  '01-06:maleSex',\n",
       "  '01-06:infantOutborn',\n",
       "  '01-06:outbornInHospital',\n",
       "  '01-06:outbornOutHospital',\n",
       "  '01-06:neonateAdmissionDate',\n",
       "  '01-06:neonateAdmissionTime',\n",
       "  '01-06:Apgar1min',\n",
       "  '01-06:Apgar5min',\n",
       "  '01-06:Apgar10min',\n",
       "  '01-06:Apgar15min',\n",
       "  '01-06:Apgar20min',\n",
       "  '01-06:deliveryResuscitation',\n",
       "  '01-06:deliveryOxygen',\n",
       "  '01-06:deliveryBaggingAndMask',\n",
       "  '01-06:deliveryChestCompression',\n",
       "  '01-06:deliveryIntubation',\n",
       "  '01-06:deliveryDrug',\n",
       "  '01-06:at10MinContinueResuscitation',\n",
       "  '01-06:at10MinOxygen',\n",
       "  '01-06:at10MinBaggingAndMask',\n",
       "  '01-06:at10MinChestCompression',\n",
       "  '01-06:at10MinIntubation',\n",
       "  '01-06:at10MinDrug',\n",
       "  '01-06:spontaneousRespirationTime',\n",
       "  '01-06:cordBloodGas',\n",
       "  '01-06:cordBloodGasSrc',\n",
       "  '01-06:cordBloodGasPH',\n",
       "  '01-06:cordBloodGasPCO2_mmHg',\n",
       "  '01-06:cordBloodGasPO2_mmHg',\n",
       "  '01-06:cordBloodGasHCO3_mEqPerL',\n",
       "  '01-06:cordBloodGasBaseDeficit_mEqPerL',\n",
       "  '01-06:firstPostnatalBloodGas',\n",
       "  '01-06:firstPostnatalBloodGasSrc',\n",
       "  '01-06:firstPostnatalBloodGasDate',\n",
       "  '01-06:firstPostnatalBloodGasTime',\n",
       "  '01-06:firstPostnatalBloodGasPH',\n",
       "  '01-06:firstPostnatalBloodGasPCO2_mmHg',\n",
       "  '01-06:firstPostnatalBloodGasPO2_mmHg',\n",
       "  '01-06:firstPostnatalBloodGasHCO3_mEqPerL',\n",
       "  '01-06:firstPostnatalBloodGasBaseDeficit_mEqPerL',\n",
       "  '01-06:acidosis',\n",
       "  '01-06:Apgar10minLess5',\n",
       "  '01-06:Apgar10minLessEq5',\n",
       "  '01-06:Apgar5minLessEq5',\n",
       "  '01-06:initBloodGasBaseDeficit_mEqPerL',\n",
       "  '01-06:initBloodGasBaseDeficit_mEqPerLSrc',\n",
       "  '01-06:initBloodGasPH',\n",
       "  '01-06:initBloodGasPHSrc',\n",
       "  '01-06:birthDate',\n",
       "  '01-06:birthTime',\n",
       "  '01-06_1:Apgar5min',\n",
       "  '01-06_1:Apgar10min',\n",
       "  '01-06_1:Apgar10minLess5',\n",
       "  '01-06_1:Apgar10minLessEq5',\n",
       "  '01-06_1:Apgar5minLessEq5',\n",
       "  '01-07:targetTreatmentTemperature_C',\n",
       "  '01-07:pre_CoolInitiate',\n",
       "  '01-07:pre_CoolbyIceGelPack',\n",
       "  '01-07:pre_CoolPassively',\n",
       "  '01-07:pre_CoolClinically',\n",
       "  '01-07:pre_CoolInitiateDate',\n",
       "  '01-07:pre_CoolInitiateTime',\n",
       "  '01-07:pre_AfterOvershootReach33p5C',\n",
       "  '01-07:pre_AfterOvershootReach33p5CDate',\n",
       "  '01-07:pre_AfterOvershootReach33p5CTime',\n",
       "  '01-07:pre_TemperatureMinDate',\n",
       "  '01-07:pre_TemperatureMinTime',\n",
       "  '01-07:pre_SkinTemperatureMin_C',\n",
       "  '01-07:pre_AxillaryTemperatureMin_C',\n",
       "  '01-07:pre_EsophagealTemperatureMin_C',\n",
       "  '01-07:pre_ServoSetMin_C',\n",
       "  '01-07:pre_TemperatureMaxDate',\n",
       "  '01-07:pre_TemperatureMaxTime',\n",
       "  '01-07:pre_SkinTemperatureMax_C',\n",
       "  '01-07:pre_AxillaryTemperatureMax_C',\n",
       "  '01-07:pre_EsophagealTemperatureMax_C',\n",
       "  '01-07:pre_ServoSetMax_C',\n",
       "  '01-08:pre_CardioDate',\n",
       "  '01-08:pre_CardioTime',\n",
       "  '01-08:pre_CardioSystolicBloodPressure_mmHg',\n",
       "  '01-08:pre_CardioDiastolicBloodPressure_mmHg',\n",
       "  '01-08:pre_CardioHeartRate_BPM',\n",
       "  '01-08:pre_CardioVolumeExpand',\n",
       "  '01-08:pre_CardioInotropicAgent',\n",
       "  '01-08:pre_CardioBloodTransfusion',\n",
       "  '01-08:pre_CardioPlatelets',\n",
       "  '01-09:pre_PositiveCulture',\n",
       "  '01-09:pre_PositiveCultureSrc',\n",
       "  '01-09:pre_PositiveCultureDate',\n",
       "  '01-09:pre_PositiveCultureTime',\n",
       "  '01-09:pre_PositiveCultureOrganismCode1',\n",
       "  '01-09:pre_PositiveCultureOrganismCode2',\n",
       "  '01-09:pre_PositiveCultureOrganismCode3',\n",
       "  '01-09:pre_Antibiotics',\n",
       "  '01-09:pre_AntibioticsCode1',\n",
       "  '01-09:pre_AntibioticsCode2',\n",
       "  '01-09:pre_AntibioticsCode3',\n",
       "  '01-10:pre_OtherMedTargetDate',\n",
       "  '01-10:pre_OtherMedTargetTime',\n",
       "  '01-10:pre_Anticonvulsants',\n",
       "  '01-10:pre_Anticonvulsants1',\n",
       "  '01-10:pre_Anticonvulsants2',\n",
       "  '01-10:pre_Anticonvulsants3',\n",
       "  '01-10:pre_AnalgesicsSedatives1',\n",
       "  '01-10:pre_AnalgesicsSedatives2',\n",
       "  '01-10:pre_AnalgesicsSedatives3',\n",
       "  '01-10:pre_Antipyretics1',\n",
       "  '01-10:pre_Antipyretics2',\n",
       "  '01-10:pre_Antipyretics3',\n",
       "  '01-10:pre_Paralytics1',\n",
       "  '01-10:pre_Paralytics2',\n",
       "  '01-10:pre_Paralytics3',\n",
       "  '01-10:pre_OtherMedFluidIntake_ccPerKg',\n",
       "  '01-10:pre_OtherMedUrineOutput_ccPerKg',\n",
       "  '01-11:pre_HeadSonogram',\n",
       "  '01-11:pre_HeadSonogramDate',\n",
       "  '01-11:pre_HeadSonogramTime',\n",
       "  '01-11:pre_HeadSonogramResult1',\n",
       "  '01-11:pre_HeadSonogramResult2',\n",
       "  '01-11:pre_HeadSonogramResult3',\n",
       "  '01-11:pre_HeadSonogramResult4',\n",
       "  '01-11:pre_HeadSonogramResult5',\n",
       "  '01-11:pre_HeadSonogramResult6',\n",
       "  '01-11:pre_HeadSonogramResult7',\n",
       "  '01-11:pre_HeadSonogramResult8',\n",
       "  '01-11:pre_HeadSonogramResultText',\n",
       "  '01-11:pre_HeadCT',\n",
       "  '01-11:pre_HeadCTDate',\n",
       "  '01-11:pre_HeadCTTime',\n",
       "  '01-11:pre_HeadCTResult1',\n",
       "  '01-11:pre_HeadCTResult2',\n",
       "  '01-11:pre_HeadCTResult3',\n",
       "  '01-11:pre_HeadCTResult4',\n",
       "  '01-11:pre_HeadCTResult5',\n",
       "  '01-11:pre_HeadCTResult6',\n",
       "  '01-11:pre_HeadCTResult7',\n",
       "  '01-11:pre_HeadCTResult8',\n",
       "  '01-11:pre_HeadCTResultText',\n",
       "  '01-11:pre_BrainMRI',\n",
       "  '01-11:pre_BrainMRIDate',\n",
       "  '01-11:pre_BrainMRITime',\n",
       "  '01-11:pre_BrainMRIResult1',\n",
       "  '01-11:pre_BrainMRIResult2',\n",
       "  '01-11:pre_BrainMRIResult3',\n",
       "  '01-11:pre_BrainMRIResult4',\n",
       "  '01-11:pre_BrainMRIResult5',\n",
       "  '01-11:pre_BrainMRIResult6',\n",
       "  '01-11:pre_BrainMRIResult7',\n",
       "  '01-11:pre_BrainMRIResult8',\n",
       "  '01-11:pre_BrainMRIResultText',\n",
       "  '01-12:pre_NeuroExam',\n",
       "  '01-12:pre_NoNeuroExamReason',\n",
       "  '01-12:pre_NeuroExamSignModerateSevereHIE3Category',\n",
       "  '01-12:pre_NeuroExamLevelConsciousness',\n",
       "  '01-12:pre_NeuroExamSpontaneousActivity',\n",
       "  '01-12:pre_NeuroExamPosture',\n",
       "  '01-12:pre_NeuroExamTone',\n",
       "  '01-12:pre_NeuroExamSuck',\n",
       "  '01-12:pre_NeuroExamMoro',\n",
       "  '01-12:pre_NeuroExamPupils',\n",
       "  '01-12:pre_NeuroExamHeartRate',\n",
       "  '01-12:pre_NeuroExamRespiration',\n",
       "  '01-12:pre_NeuroExamDate',\n",
       "  '01-12:pre_NeuroExamTime',\n",
       "  '01-12:pre_NeuroExamSedate',\n",
       "  '01-12:pre_NeuroExamSeizure',\n",
       "  '01-12_1:pre_NeuroExamLevelConsciousnessScore',\n",
       "  '01-12_1:pre_NeuroExamSpontaneousActivityScore',\n",
       "  '01-12_1:pre_NeuroExamPostureScore',\n",
       "  '01-12_1:pre_NeuroExamToneScore',\n",
       "  '01-12_1:pre_NeuroExamSuckScore',\n",
       "  '01-12_1:pre_NeuroExamMoroScore',\n",
       "  '01-12_1:pre_NeuroExamPupilsScore',\n",
       "  '01-12_1:pre_NeuroExamHeartRateScore',\n",
       "  '01-12_1:pre_NeuroExamRespirationScore',\n",
       "  '01-12_1:pre_NeuroExamReflexScore',\n",
       "  '01-12_1:pre_NeuroExamANSScore',\n",
       "  '01-12_1:pre_TotalModifiedSarnatScore',\n",
       "  '02-01:alterationSkinIntegrity:0',\n",
       "  '02-01:alterationSkinIntegrity:15',\n",
       "  '02-01:alterationSkinIntegrity:30',\n",
       "  '02-01:alterationSkinIntegrity:45',\n",
       "  '02-01:alterationSkinIntegrity:60',\n",
       "  '02-01:alterationSkinIntegrity:75',\n",
       "  '02-01:alterationSkinIntegrity:90',\n",
       "  '02-01:alterationSkinIntegrity:105',\n",
       "  '02-01:alterationSkinIntegrity:120',\n",
       "  '02-01:alterationSkinIntegrity:135',\n",
       "  '02-01:alterationSkinIntegrity:150',\n",
       "  '02-01:alterationSkinIntegrity:165',\n",
       "  '02-01:alterationSkinIntegrity:180',\n",
       "  '02-01:alterationSkinIntegrity:195',\n",
       "  '02-01:alterationSkinIntegrity:210',\n",
       "  '02-01:alterationSkinIntegrity:225',\n",
       "  '02-01:alterationSkinIntegrity:240',\n",
       "  '02-01:alterationSkinIntegrity:300',\n",
       "  '02-01:alterationSkinIntegrity:360',\n",
       "  '02-01:alterationSkinIntegrity:420',\n",
       "  '02-01:alterationSkinIntegrity:480',\n",
       "  '02-01:alterationSkinIntegrity:540',\n",
       "  '02-01:alterationSkinIntegrity:600',\n",
       "  '02-01:alterationSkinIntegrity:660',\n",
       "  '02-01:alterationSkinIntegrity:720',\n",
       "  '02-01:alterationSkinIntegrity:960',\n",
       "  '02-01:alterationSkinIntegrity:1200',\n",
       "  '02-01:alterationSkinIntegrity:1440',\n",
       "  '02-01:alterationSkinIntegrity:1680',\n",
       "  '02-01:alterationSkinIntegrity:1920',\n",
       "  '02-01:alterationSkinIntegrity:2160',\n",
       "  '02-01:alterationSkinIntegrity:2400',\n",
       "  '02-01:alterationSkinIntegrity:2640',\n",
       "  '02-01:alterationSkinIntegrity:2880',\n",
       "  '02-01:alterationSkinIntegrity:3120',\n",
       "  '02-01:alterationSkinIntegrity:3360',\n",
       "  '02-01:alterationSkinIntegrity:3600',\n",
       "  '02-01:alterationSkinIntegrity:3840',\n",
       "  '02-01:alterationSkinIntegrity:4080',\n",
       "  '02-01:alterationSkinIntegrity:4320',\n",
       "  '02-01:alterationSkinIntegrity:4440',\n",
       "  '02-01:alterationSkinIntegrity:4560',\n",
       "  '02-01:alterationSkinIntegrity:4680',\n",
       "  '02-01:alterationSkinIntegrity:4800',\n",
       "  '02-01:alterationSkinIntegrity:4920',\n",
       "  '02-01:alterationSkinIntegrity:5040',\n",
       "  '02-01:alterationSkinIntegrity:5160',\n",
       "  '02-01:alterationSkinIntegrity:5280',\n",
       "  '02-01:alterationSkinIntegrity:5400',\n",
       "  '02-01:alterationSkinIntegrity:5520',\n",
       "  '02-01:alterationSkinIntegrity:5640',\n",
       "  '02-01:alterationSkinIntegrity:5760',\n",
       "  '02-01:alterationSkinIntegrity:5880',\n",
       "  '02-01:alterationSkinIntegrity:6000',\n",
       "  '02-01:alterationSkinIntegrity:6120',\n",
       "  '02-01:alterationSkinIntegrity:6240',\n",
       "  '02-01:alterationSkinIntegrity:6360',\n",
       "  '02-01:alterationSkinIntegrity:6480',\n",
       "  '02-01:alterationSkinIntegrity:6600',\n",
       "  '02-01:alterationSkinIntegrity:6720',\n",
       "  '02-01:alterationSkinIntegrity:6840',\n",
       "  '02-01:alterationSkinIntegrity:6960',\n",
       "  '02-01:alterationSkinIntegrity:7080',\n",
       "  '02-01:alterationSkinIntegrity:7200',\n",
       "  '02-01:alterationSkinIntegrity:7320',\n",
       "  '02-01:alterationSkinIntegrity:7440',\n",
       "  '02-01:alterationSkinIntegrity:7560',\n",
       "  '02-01:alterationSkinIntegrity:7680',\n",
       "  '02-01:alterationSkinIntegrity:7800',\n",
       "  '02-01:alterationSkinIntegrity:7920',\n",
       "  '02-01:alterationSkinIntegrity:8040',\n",
       "  '02-01:alterationSkinIntegrity:8160',\n",
       "  '02-01:alterationSkinIntegrity:8280',\n",
       "  '02-01:alterationSkinIntegrity:8400',\n",
       "  '02-01:alterationSkinIntegrity:8520',\n",
       "  '02-01:alterationSkinIntegrity:8640',\n",
       "  '02-01:alterationSkinIntegrity:8760',\n",
       "  '02-01:alterationSkinIntegrity:8880',\n",
       "  '02-01:alterationSkinIntegrity:9000',\n",
       "  '02-01:alterationSkinIntegrity:9120',\n",
       "  '02-01:alterationSkinIntegrity:9240',\n",
       "  '02-01:alterationSkinIntegrity:9360',\n",
       "  '02-01:alterationSkinIntegrity:9480',\n",
       "  '02-01:alterationSkinIntegrity:9600',\n",
       "  '02-01:alterationSkinIntegrity:9720',\n",
       "  '02-01:alterationSkinIntegrity:9840',\n",
       "  '02-01:alterationSkinIntegrity:9960',\n",
       "  '02-01:axillaryTemperature_C:0',\n",
       "  '02-01:axillaryTemperature_C:15',\n",
       "  '02-01:axillaryTemperature_C:30',\n",
       "  '02-01:axillaryTemperature_C:45',\n",
       "  '02-01:axillaryTemperature_C:60',\n",
       "  '02-01:axillaryTemperature_C:75',\n",
       "  '02-01:axillaryTemperature_C:90',\n",
       "  '02-01:axillaryTemperature_C:105',\n",
       "  '02-01:axillaryTemperature_C:120',\n",
       "  '02-01:axillaryTemperature_C:135',\n",
       "  '02-01:axillaryTemperature_C:150',\n",
       "  '02-01:axillaryTemperature_C:165',\n",
       "  '02-01:axillaryTemperature_C:180',\n",
       "  '02-01:axillaryTemperature_C:195',\n",
       "  '02-01:axillaryTemperature_C:210',\n",
       "  '02-01:axillaryTemperature_C:225',\n",
       "  '02-01:axillaryTemperature_C:240',\n",
       "  '02-01:axillaryTemperature_C:300',\n",
       "  '02-01:axillaryTemperature_C:360',\n",
       "  '02-01:axillaryTemperature_C:420',\n",
       "  '02-01:axillaryTemperature_C:480',\n",
       "  '02-01:axillaryTemperature_C:540',\n",
       "  '02-01:axillaryTemperature_C:600',\n",
       "  '02-01:axillaryTemperature_C:660',\n",
       "  '02-01:axillaryTemperature_C:720',\n",
       "  '02-01:axillaryTemperature_C:960',\n",
       "  '02-01:axillaryTemperature_C:1200',\n",
       "  '02-01:axillaryTemperature_C:1440',\n",
       "  '02-01:axillaryTemperature_C:1680',\n",
       "  '02-01:axillaryTemperature_C:1920',\n",
       "  '02-01:axillaryTemperature_C:2160',\n",
       "  '02-01:axillaryTemperature_C:2400',\n",
       "  '02-01:axillaryTemperature_C:2640',\n",
       "  '02-01:axillaryTemperature_C:2880',\n",
       "  '02-01:axillaryTemperature_C:3120',\n",
       "  '02-01:axillaryTemperature_C:3360',\n",
       "  '02-01:axillaryTemperature_C:3600',\n",
       "  '02-01:axillaryTemperature_C:3840',\n",
       "  '02-01:axillaryTemperature_C:4080',\n",
       "  '02-01:axillaryTemperature_C:4320',\n",
       "  '02-01:axillaryTemperature_C:4440',\n",
       "  '02-01:axillaryTemperature_C:4560',\n",
       "  '02-01:axillaryTemperature_C:4680',\n",
       "  '02-01:axillaryTemperature_C:4800',\n",
       "  '02-01:axillaryTemperature_C:4920',\n",
       "  '02-01:axillaryTemperature_C:5040',\n",
       "  '02-01:axillaryTemperature_C:5160',\n",
       "  '02-01:axillaryTemperature_C:5280',\n",
       "  '02-01:axillaryTemperature_C:5400',\n",
       "  '02-01:axillaryTemperature_C:5520',\n",
       "  '02-01:axillaryTemperature_C:5640',\n",
       "  '02-01:axillaryTemperature_C:5760',\n",
       "  '02-01:axillaryTemperature_C:5880',\n",
       "  '02-01:axillaryTemperature_C:6000',\n",
       "  '02-01:axillaryTemperature_C:6120',\n",
       "  '02-01:axillaryTemperature_C:6240',\n",
       "  '02-01:axillaryTemperature_C:6360',\n",
       "  '02-01:axillaryTemperature_C:6480',\n",
       "  '02-01:axillaryTemperature_C:6600',\n",
       "  '02-01:axillaryTemperature_C:6720',\n",
       "  '02-01:axillaryTemperature_C:6840',\n",
       "  '02-01:axillaryTemperature_C:6960',\n",
       "  '02-01:axillaryTemperature_C:7080',\n",
       "  '02-01:axillaryTemperature_C:7200',\n",
       "  '02-01:axillaryTemperature_C:7320',\n",
       "  '02-01:axillaryTemperature_C:7440',\n",
       "  '02-01:axillaryTemperature_C:7560',\n",
       "  '02-01:axillaryTemperature_C:7680',\n",
       "  '02-01:axillaryTemperature_C:7800',\n",
       "  '02-01:axillaryTemperature_C:7920',\n",
       "  '02-01:axillaryTemperature_C:8040',\n",
       "  '02-01:axillaryTemperature_C:8160',\n",
       "  '02-01:axillaryTemperature_C:8280',\n",
       "  '02-01:axillaryTemperature_C:8400',\n",
       "  '02-01:axillaryTemperature_C:8520',\n",
       "  '02-01:axillaryTemperature_C:8640',\n",
       "  '02-01:axillaryTemperature_C:8760',\n",
       "  '02-01:axillaryTemperature_C:8880',\n",
       "  '02-01:axillaryTemperature_C:9000',\n",
       "  '02-01:axillaryTemperature_C:9120',\n",
       "  '02-01:axillaryTemperature_C:9240',\n",
       "  '02-01:axillaryTemperature_C:9360',\n",
       "  '02-01:axillaryTemperature_C:9480',\n",
       "  '02-01:axillaryTemperature_C:9600',\n",
       "  '02-01:axillaryTemperature_C:9720',\n",
       "  '02-01:axillaryTemperature_C:9840',\n",
       "  '02-01:axillaryTemperature_C:9960',\n",
       "  '02-01:blanketTemperature_C:0',\n",
       "  '02-01:blanketTemperature_C:15',\n",
       "  '02-01:blanketTemperature_C:30',\n",
       "  '02-01:blanketTemperature_C:45',\n",
       "  '02-01:blanketTemperature_C:60',\n",
       "  '02-01:blanketTemperature_C:75',\n",
       "  '02-01:blanketTemperature_C:90',\n",
       "  '02-01:blanketTemperature_C:105',\n",
       "  '02-01:blanketTemperature_C:120',\n",
       "  '02-01:blanketTemperature_C:135',\n",
       "  '02-01:blanketTemperature_C:150',\n",
       "  '02-01:blanketTemperature_C:165',\n",
       "  '02-01:blanketTemperature_C:180',\n",
       "  '02-01:blanketTemperature_C:195',\n",
       "  '02-01:blanketTemperature_C:210',\n",
       "  '02-01:blanketTemperature_C:225',\n",
       "  '02-01:blanketTemperature_C:240',\n",
       "  '02-01:blanketTemperature_C:300',\n",
       "  '02-01:blanketTemperature_C:360',\n",
       "  '02-01:blanketTemperature_C:420',\n",
       "  '02-01:blanketTemperature_C:480',\n",
       "  '02-01:blanketTemperature_C:540',\n",
       "  '02-01:blanketTemperature_C:600',\n",
       "  '02-01:blanketTemperature_C:660',\n",
       "  '02-01:blanketTemperature_C:720',\n",
       "  '02-01:blanketTemperature_C:960',\n",
       "  '02-01:blanketTemperature_C:1200',\n",
       "  '02-01:blanketTemperature_C:1440',\n",
       "  '02-01:blanketTemperature_C:1680',\n",
       "  '02-01:blanketTemperature_C:1920',\n",
       "  '02-01:blanketTemperature_C:2160',\n",
       "  '02-01:blanketTemperature_C:2400',\n",
       "  '02-01:blanketTemperature_C:2640',\n",
       "  '02-01:blanketTemperature_C:2880',\n",
       "  '02-01:blanketTemperature_C:3120',\n",
       "  '02-01:blanketTemperature_C:3360',\n",
       "  '02-01:blanketTemperature_C:3600',\n",
       "  '02-01:blanketTemperature_C:3840',\n",
       "  '02-01:blanketTemperature_C:4080',\n",
       "  '02-01:blanketTemperature_C:4320',\n",
       "  '02-01:blanketTemperature_C:4440',\n",
       "  '02-01:blanketTemperature_C:4560',\n",
       "  '02-01:blanketTemperature_C:4680',\n",
       "  '02-01:blanketTemperature_C:4800',\n",
       "  '02-01:blanketTemperature_C:4920',\n",
       "  '02-01:blanketTemperature_C:5040',\n",
       "  '02-01:blanketTemperature_C:5160',\n",
       "  '02-01:blanketTemperature_C:5280',\n",
       "  '02-01:blanketTemperature_C:5400',\n",
       "  '02-01:blanketTemperature_C:5520',\n",
       "  '02-01:blanketTemperature_C:5640',\n",
       "  '02-01:blanketTemperature_C:5760',\n",
       "  '02-01:blanketTemperature_C:5880',\n",
       "  '02-01:blanketTemperature_C:6000',\n",
       "  '02-01:blanketTemperature_C:6120',\n",
       "  '02-01:blanketTemperature_C:6240',\n",
       "  '02-01:blanketTemperature_C:6360',\n",
       "  '02-01:blanketTemperature_C:6480',\n",
       "  '02-01:blanketTemperature_C:6600',\n",
       "  '02-01:blanketTemperature_C:6720',\n",
       "  '02-01:blanketTemperature_C:6840',\n",
       "  '02-01:blanketTemperature_C:6960',\n",
       "  '02-01:blanketTemperature_C:7080',\n",
       "  '02-01:blanketTemperature_C:7200',\n",
       "  '02-01:blanketTemperature_C:7320',\n",
       "  '02-01:blanketTemperature_C:7440',\n",
       "  '02-01:blanketTemperature_C:7560',\n",
       "  '02-01:blanketTemperature_C:7680',\n",
       "  '02-01:blanketTemperature_C:7800',\n",
       "  '02-01:blanketTemperature_C:7920',\n",
       "  '02-01:blanketTemperature_C:8040',\n",
       "  '02-01:blanketTemperature_C:8160',\n",
       "  '02-01:blanketTemperature_C:8280',\n",
       "  '02-01:blanketTemperature_C:8400',\n",
       "  '02-01:blanketTemperature_C:8520',\n",
       "  '02-01:blanketTemperature_C:8640',\n",
       "  '02-01:blanketTemperature_C:8760',\n",
       "  '02-01:blanketTemperature_C:8880',\n",
       "  '02-01:blanketTemperature_C:9000',\n",
       "  '02-01:blanketTemperature_C:9120',\n",
       "  '02-01:blanketTemperature_C:9240',\n",
       "  '02-01:blanketTemperature_C:9360',\n",
       "  '02-01:blanketTemperature_C:9480',\n",
       "  '02-01:blanketTemperature_C:9600',\n",
       "  '02-01:blanketTemperature_C:9720',\n",
       "  '02-01:blanketTemperature_C:9840',\n",
       "  '02-01:blanketTemperature_C:9960',\n",
       "  '02-01:esophagealTemperature_C:0',\n",
       "  '02-01:esophagealTemperature_C:15',\n",
       "  '02-01:esophagealTemperature_C:30',\n",
       "  '02-01:esophagealTemperature_C:45',\n",
       "  '02-01:esophagealTemperature_C:60',\n",
       "  '02-01:esophagealTemperature_C:75',\n",
       "  '02-01:esophagealTemperature_C:90',\n",
       "  '02-01:esophagealTemperature_C:105',\n",
       "  '02-01:esophagealTemperature_C:120',\n",
       "  '02-01:esophagealTemperature_C:135',\n",
       "  '02-01:esophagealTemperature_C:150',\n",
       "  '02-01:esophagealTemperature_C:165',\n",
       "  '02-01:esophagealTemperature_C:180',\n",
       "  '02-01:esophagealTemperature_C:195',\n",
       "  '02-01:esophagealTemperature_C:210',\n",
       "  '02-01:esophagealTemperature_C:225',\n",
       "  '02-01:esophagealTemperature_C:240',\n",
       "  '02-01:esophagealTemperature_C:300',\n",
       "  '02-01:esophagealTemperature_C:360',\n",
       "  '02-01:esophagealTemperature_C:420',\n",
       "  '02-01:esophagealTemperature_C:480',\n",
       "  '02-01:esophagealTemperature_C:540',\n",
       "  '02-01:esophagealTemperature_C:600',\n",
       "  '02-01:esophagealTemperature_C:660',\n",
       "  '02-01:esophagealTemperature_C:720',\n",
       "  '02-01:esophagealTemperature_C:960',\n",
       "  '02-01:esophagealTemperature_C:1200',\n",
       "  '02-01:esophagealTemperature_C:1440',\n",
       "  '02-01:esophagealTemperature_C:1680',\n",
       "  '02-01:esophagealTemperature_C:1920',\n",
       "  '02-01:esophagealTemperature_C:2160',\n",
       "  '02-01:esophagealTemperature_C:2400',\n",
       "  '02-01:esophagealTemperature_C:2640',\n",
       "  '02-01:esophagealTemperature_C:2880',\n",
       "  '02-01:esophagealTemperature_C:3120',\n",
       "  '02-01:esophagealTemperature_C:3360',\n",
       "  '02-01:esophagealTemperature_C:3600',\n",
       "  '02-01:esophagealTemperature_C:3840',\n",
       "  '02-01:esophagealTemperature_C:4080',\n",
       "  '02-01:esophagealTemperature_C:4320',\n",
       "  '02-01:esophagealTemperature_C:4440',\n",
       "  '02-01:esophagealTemperature_C:4560',\n",
       "  '02-01:esophagealTemperature_C:4680',\n",
       "  '02-01:esophagealTemperature_C:4800',\n",
       "  '02-01:esophagealTemperature_C:4920',\n",
       "  '02-01:esophagealTemperature_C:5040',\n",
       "  '02-01:esophagealTemperature_C:5160',\n",
       "  '02-01:esophagealTemperature_C:5280',\n",
       "  '02-01:esophagealTemperature_C:5400',\n",
       "  '02-01:esophagealTemperature_C:5520',\n",
       "  '02-01:esophagealTemperature_C:5640',\n",
       "  '02-01:esophagealTemperature_C:5760',\n",
       "  '02-01:esophagealTemperature_C:5880',\n",
       "  '02-01:esophagealTemperature_C:6000',\n",
       "  '02-01:esophagealTemperature_C:6120',\n",
       "  '02-01:esophagealTemperature_C:6240',\n",
       "  '02-01:esophagealTemperature_C:6360',\n",
       "  '02-01:esophagealTemperature_C:6480',\n",
       "  '02-01:esophagealTemperature_C:6600',\n",
       "  '02-01:esophagealTemperature_C:6720',\n",
       "  '02-01:esophagealTemperature_C:6840',\n",
       "  '02-01:esophagealTemperature_C:6960',\n",
       "  '02-01:esophagealTemperature_C:7080',\n",
       "  '02-01:esophagealTemperature_C:7200',\n",
       "  '02-01:esophagealTemperature_C:7320',\n",
       "  '02-01:esophagealTemperature_C:7440',\n",
       "  '02-01:esophagealTemperature_C:7560',\n",
       "  '02-01:esophagealTemperature_C:7680',\n",
       "  '02-01:esophagealTemperature_C:7800',\n",
       "  '02-01:esophagealTemperature_C:7920',\n",
       "  '02-01:esophagealTemperature_C:8040',\n",
       "  '02-01:esophagealTemperature_C:8160',\n",
       "  '02-01:esophagealTemperature_C:8280',\n",
       "  '02-01:esophagealTemperature_C:8400',\n",
       "  '02-01:esophagealTemperature_C:8520',\n",
       "  '02-01:esophagealTemperature_C:8640',\n",
       "  '02-01:esophagealTemperature_C:8760',\n",
       "  '02-01:esophagealTemperature_C:8880',\n",
       "  '02-01:esophagealTemperature_C:9000',\n",
       "  '02-01:esophagealTemperature_C:9120',\n",
       "  '02-01:esophagealTemperature_C:9240',\n",
       "  '02-01:esophagealTemperature_C:9360',\n",
       "  '02-01:esophagealTemperature_C:9480',\n",
       "  '02-01:esophagealTemperature_C:9600',\n",
       "  '02-01:esophagealTemperature_C:9720',\n",
       "  '02-01:esophagealTemperature_C:9840',\n",
       "  '02-01:esophagealTemperature_C:9960',\n",
       "  '02-01:servoSetTemperature_C:0',\n",
       "  '02-01:servoSetTemperature_C:15',\n",
       "  '02-01:servoSetTemperature_C:30',\n",
       "  '02-01:servoSetTemperature_C:45',\n",
       "  '02-01:servoSetTemperature_C:60',\n",
       "  '02-01:servoSetTemperature_C:75',\n",
       "  '02-01:servoSetTemperature_C:90',\n",
       "  '02-01:servoSetTemperature_C:105',\n",
       "  '02-01:servoSetTemperature_C:120',\n",
       "  '02-01:servoSetTemperature_C:135',\n",
       "  '02-01:servoSetTemperature_C:150',\n",
       "  '02-01:servoSetTemperature_C:165',\n",
       "  '02-01:servoSetTemperature_C:180',\n",
       "  '02-01:servoSetTemperature_C:195',\n",
       "  '02-01:servoSetTemperature_C:210',\n",
       "  '02-01:servoSetTemperature_C:225',\n",
       "  '02-01:servoSetTemperature_C:240',\n",
       "  '02-01:servoSetTemperature_C:300',\n",
       "  '02-01:servoSetTemperature_C:360',\n",
       "  '02-01:servoSetTemperature_C:420',\n",
       "  '02-01:servoSetTemperature_C:480',\n",
       "  '02-01:servoSetTemperature_C:540',\n",
       "  '02-01:servoSetTemperature_C:600',\n",
       "  '02-01:servoSetTemperature_C:660',\n",
       "  '02-01:servoSetTemperature_C:720',\n",
       "  '02-01:servoSetTemperature_C:960',\n",
       "  '02-01:servoSetTemperature_C:1200',\n",
       "  '02-01:servoSetTemperature_C:1440',\n",
       "  '02-01:servoSetTemperature_C:1680',\n",
       "  '02-01:servoSetTemperature_C:1920',\n",
       "  '02-01:servoSetTemperature_C:2160',\n",
       "  '02-01:servoSetTemperature_C:2400',\n",
       "  '02-01:servoSetTemperature_C:2640',\n",
       "  '02-01:servoSetTemperature_C:2880',\n",
       "  '02-01:servoSetTemperature_C:3120',\n",
       "  '02-01:servoSetTemperature_C:3360',\n",
       "  '02-01:servoSetTemperature_C:3600',\n",
       "  '02-01:servoSetTemperature_C:3840',\n",
       "  '02-01:servoSetTemperature_C:4080',\n",
       "  '02-01:servoSetTemperature_C:4320',\n",
       "  '02-01:servoSetTemperature_C:4440',\n",
       "  '02-01:servoSetTemperature_C:4560',\n",
       "  '02-01:servoSetTemperature_C:4680',\n",
       "  '02-01:servoSetTemperature_C:4800',\n",
       "  '02-01:servoSetTemperature_C:4920',\n",
       "  '02-01:servoSetTemperature_C:5040',\n",
       "  '02-01:servoSetTemperature_C:5160',\n",
       "  '02-01:servoSetTemperature_C:5280',\n",
       "  '02-01:servoSetTemperature_C:5400',\n",
       "  '02-01:servoSetTemperature_C:5520',\n",
       "  '02-01:servoSetTemperature_C:5640',\n",
       "  '02-01:servoSetTemperature_C:5760',\n",
       "  '02-01:servoSetTemperature_C:5880',\n",
       "  '02-01:servoSetTemperature_C:6000',\n",
       "  '02-01:servoSetTemperature_C:6120',\n",
       "  '02-01:servoSetTemperature_C:6240',\n",
       "  '02-01:servoSetTemperature_C:6360',\n",
       "  '02-01:servoSetTemperature_C:6480',\n",
       "  '02-01:servoSetTemperature_C:6600',\n",
       "  '02-01:servoSetTemperature_C:6720',\n",
       "  '02-01:servoSetTemperature_C:6840',\n",
       "  '02-01:servoSetTemperature_C:6960',\n",
       "  '02-01:servoSetTemperature_C:7080',\n",
       "  '02-01:servoSetTemperature_C:7200',\n",
       "  '02-01:servoSetTemperature_C:7320',\n",
       "  '02-01:servoSetTemperature_C:7440',\n",
       "  '02-01:servoSetTemperature_C:7560',\n",
       "  '02-01:servoSetTemperature_C:7680',\n",
       "  '02-01:servoSetTemperature_C:7800',\n",
       "  '02-01:servoSetTemperature_C:7920',\n",
       "  '02-01:servoSetTemperature_C:8040',\n",
       "  '02-01:servoSetTemperature_C:8160',\n",
       "  '02-01:servoSetTemperature_C:8280',\n",
       "  '02-01:servoSetTemperature_C:8400',\n",
       "  '02-01:servoSetTemperature_C:8520',\n",
       "  '02-01:servoSetTemperature_C:8640',\n",
       "  '02-01:servoSetTemperature_C:8760',\n",
       "  '02-01:servoSetTemperature_C:8880',\n",
       "  '02-01:servoSetTemperature_C:9000',\n",
       "  '02-01:servoSetTemperature_C:9120',\n",
       "  '02-01:servoSetTemperature_C:9240',\n",
       "  '02-01:servoSetTemperature_C:9360',\n",
       "  '02-01:servoSetTemperature_C:9480',\n",
       "  '02-01:servoSetTemperature_C:9600',\n",
       "  '02-01:servoSetTemperature_C:9720',\n",
       "  '02-01:servoSetTemperature_C:9840',\n",
       "  '02-01:servoSetTemperature_C:9960',\n",
       "  '02-01:shiver:0',\n",
       "  '02-01:shiver:15',\n",
       "  '02-01:shiver:30',\n",
       "  '02-01:shiver:45',\n",
       "  '02-01:shiver:60',\n",
       "  '02-01:shiver:75',\n",
       "  '02-01:shiver:90',\n",
       "  '02-01:shiver:105',\n",
       "  '02-01:shiver:120',\n",
       "  '02-01:shiver:135',\n",
       "  '02-01:shiver:150',\n",
       "  '02-01:shiver:165',\n",
       "  '02-01:shiver:180',\n",
       "  '02-01:shiver:195',\n",
       "  '02-01:shiver:210',\n",
       "  '02-01:shiver:225',\n",
       "  '02-01:shiver:240',\n",
       "  '02-01:shiver:300',\n",
       "  '02-01:shiver:360',\n",
       "  '02-01:shiver:420',\n",
       "  '02-01:shiver:480',\n",
       "  '02-01:shiver:540',\n",
       "  '02-01:shiver:600',\n",
       "  '02-01:shiver:660',\n",
       "  '02-01:shiver:720',\n",
       "  '02-01:shiver:960',\n",
       "  '02-01:shiver:1200',\n",
       "  '02-01:shiver:1440',\n",
       "  '02-01:shiver:1680',\n",
       "  '02-01:shiver:1920',\n",
       "  '02-01:shiver:2160',\n",
       "  '02-01:shiver:2400',\n",
       "  '02-01:shiver:2640',\n",
       "  '02-01:shiver:2880',\n",
       "  '02-01:shiver:3120',\n",
       "  '02-01:shiver:3360',\n",
       "  '02-01:shiver:3600',\n",
       "  '02-01:shiver:3840',\n",
       "  '02-01:shiver:4080',\n",
       "  '02-01:shiver:4320',\n",
       "  '02-01:shiver:4440',\n",
       "  '02-01:shiver:4560',\n",
       "  '02-01:shiver:4680',\n",
       "  '02-01:shiver:4800',\n",
       "  '02-01:shiver:4920',\n",
       "  '02-01:shiver:5040',\n",
       "  '02-01:shiver:5160',\n",
       "  '02-01:shiver:5280',\n",
       "  '02-01:shiver:5400',\n",
       "  '02-01:shiver:5520',\n",
       "  '02-01:shiver:5640',\n",
       "  '02-01:shiver:5760',\n",
       "  '02-01:shiver:5880',\n",
       "  '02-01:shiver:6000',\n",
       "  '02-01:shiver:6120',\n",
       "  '02-01:shiver:6240',\n",
       "  '02-01:shiver:6360',\n",
       "  '02-01:shiver:6480',\n",
       "  '02-01:shiver:6600',\n",
       "  '02-01:shiver:6720',\n",
       "  '02-01:shiver:6840',\n",
       "  '02-01:shiver:6960',\n",
       "  '02-01:shiver:7080',\n",
       "  '02-01:shiver:7200',\n",
       "  '02-01:shiver:7320',\n",
       "  '02-01:shiver:7440',\n",
       "  '02-01:shiver:7560',\n",
       "  '02-01:shiver:7680',\n",
       "  '02-01:shiver:7800',\n",
       "  '02-01:shiver:7920',\n",
       "  '02-01:shiver:8040',\n",
       "  '02-01:shiver:8160',\n",
       "  '02-01:shiver:8280',\n",
       "  '02-01:shiver:8400',\n",
       "  '02-01:shiver:8520',\n",
       "  '02-01:shiver:8640',\n",
       "  '02-01:shiver:8760',\n",
       "  '02-01:shiver:8880',\n",
       "  '02-01:shiver:9000',\n",
       "  '02-01:shiver:9120',\n",
       "  '02-01:shiver:9240',\n",
       "  '02-01:shiver:9360',\n",
       "  '02-01:shiver:9480',\n",
       "  '02-01:shiver:9600',\n",
       "  '02-01:shiver:9720',\n",
       "  '02-01:shiver:9840',\n",
       "  '02-01:shiver:9960',\n",
       "  '02-01:skinTemperature_C:0',\n",
       "  '02-01:skinTemperature_C:15',\n",
       "  '02-01:skinTemperature_C:30',\n",
       "  '02-01:skinTemperature_C:45',\n",
       "  '02-01:skinTemperature_C:60',\n",
       "  '02-01:skinTemperature_C:75',\n",
       "  '02-01:skinTemperature_C:90',\n",
       "  '02-01:skinTemperature_C:105',\n",
       "  '02-01:skinTemperature_C:120',\n",
       "  '02-01:skinTemperature_C:135',\n",
       "  '02-01:skinTemperature_C:150',\n",
       "  '02-01:skinTemperature_C:165',\n",
       "  '02-01:skinTemperature_C:180',\n",
       "  '02-01:skinTemperature_C:195',\n",
       "  '02-01:skinTemperature_C:210',\n",
       "  '02-01:skinTemperature_C:225',\n",
       "  '02-01:skinTemperature_C:240',\n",
       "  '02-01:skinTemperature_C:300',\n",
       "  '02-01:skinTemperature_C:360',\n",
       "  '02-01:skinTemperature_C:420',\n",
       "  '02-01:skinTemperature_C:480',\n",
       "  '02-01:skinTemperature_C:540',\n",
       "  '02-01:skinTemperature_C:600',\n",
       "  '02-01:skinTemperature_C:660',\n",
       "  '02-01:skinTemperature_C:720',\n",
       "  '02-01:skinTemperature_C:960',\n",
       "  '02-01:skinTemperature_C:1200',\n",
       "  '02-01:skinTemperature_C:1440',\n",
       "  '02-01:skinTemperature_C:1680',\n",
       "  '02-01:skinTemperature_C:1920',\n",
       "  '02-01:skinTemperature_C:2160',\n",
       "  '02-01:skinTemperature_C:2400',\n",
       "  '02-01:skinTemperature_C:2640',\n",
       "  '02-01:skinTemperature_C:2880',\n",
       "  '02-01:skinTemperature_C:3120',\n",
       "  '02-01:skinTemperature_C:3360',\n",
       "  '02-01:skinTemperature_C:3600',\n",
       "  '02-01:skinTemperature_C:3840',\n",
       "  '02-01:skinTemperature_C:4080',\n",
       "  '02-01:skinTemperature_C:4320',\n",
       "  '02-01:skinTemperature_C:4440',\n",
       "  '02-01:skinTemperature_C:4560',\n",
       "  '02-01:skinTemperature_C:4680',\n",
       "  '02-01:skinTemperature_C:4800',\n",
       "  '02-01:skinTemperature_C:4920',\n",
       "  '02-01:skinTemperature_C:5040',\n",
       "  '02-01:skinTemperature_C:5160',\n",
       "  '02-01:skinTemperature_C:5280',\n",
       "  '02-01:skinTemperature_C:5400',\n",
       "  '02-01:skinTemperature_C:5520',\n",
       "  '02-01:skinTemperature_C:5640',\n",
       "  '02-01:skinTemperature_C:5760',\n",
       "  '02-01:skinTemperature_C:5880',\n",
       "  '02-01:skinTemperature_C:6000',\n",
       "  '02-01:skinTemperature_C:6120',\n",
       "  '02-01:skinTemperature_C:6240',\n",
       "  '02-01:skinTemperature_C:6360',\n",
       "  '02-01:skinTemperature_C:6480',\n",
       "  '02-01:skinTemperature_C:6600',\n",
       "  '02-01:skinTemperature_C:6720',\n",
       "  '02-01:skinTemperature_C:6840',\n",
       "  '02-01:skinTemperature_C:6960',\n",
       "  '02-01:skinTemperature_C:7080',\n",
       "  '02-01:skinTemperature_C:7200',\n",
       "  '02-01:skinTemperature_C:7320',\n",
       "  '02-01:skinTemperature_C:7440',\n",
       "  '02-01:skinTemperature_C:7560',\n",
       "  '02-01:skinTemperature_C:7680',\n",
       "  '02-01:skinTemperature_C:7800',\n",
       "  '02-01:skinTemperature_C:7920',\n",
       "  '02-01:skinTemperature_C:8040',\n",
       "  '02-01:skinTemperature_C:8160',\n",
       "  '02-01:skinTemperature_C:8280',\n",
       "  '02-01:skinTemperature_C:8400',\n",
       "  '02-01:skinTemperature_C:8520',\n",
       "  '02-01:skinTemperature_C:8640',\n",
       "  '02-01:skinTemperature_C:8760',\n",
       "  '02-01:skinTemperature_C:8880',\n",
       "  '02-01:skinTemperature_C:9000',\n",
       "  '02-01:skinTemperature_C:9120',\n",
       "  '02-01:skinTemperature_C:9240',\n",
       "  '02-01:skinTemperature_C:9360',\n",
       "  '02-01:skinTemperature_C:9480',\n",
       "  '02-01:skinTemperature_C:9600',\n",
       "  '02-01:skinTemperature_C:9720',\n",
       "  '02-01:skinTemperature_C:9840',\n",
       "  '02-01:skinTemperature_C:9960',\n",
       "  '02-01:temperatureDate:0',\n",
       "  '02-01:temperatureDate:15',\n",
       "  '02-01:temperatureDate:30',\n",
       "  '02-01:temperatureDate:45',\n",
       "  '02-01:temperatureDate:60',\n",
       "  '02-01:temperatureDate:75',\n",
       "  '02-01:temperatureDate:90',\n",
       "  '02-01:temperatureDate:105',\n",
       "  '02-01:temperatureDate:120',\n",
       "  '02-01:temperatureDate:135',\n",
       "  '02-01:temperatureDate:150',\n",
       "  '02-01:temperatureDate:165',\n",
       "  '02-01:temperatureDate:180',\n",
       "  '02-01:temperatureDate:195',\n",
       "  '02-01:temperatureDate:210',\n",
       "  '02-01:temperatureDate:225',\n",
       "  '02-01:temperatureDate:240',\n",
       "  '02-01:temperatureDate:300',\n",
       "  '02-01:temperatureDate:360',\n",
       "  '02-01:temperatureDate:420',\n",
       "  '02-01:temperatureDate:480',\n",
       "  '02-01:temperatureDate:540',\n",
       "  '02-01:temperatureDate:600',\n",
       "  '02-01:temperatureDate:660',\n",
       "  '02-01:temperatureDate:720',\n",
       "  '02-01:temperatureDate:960',\n",
       "  '02-01:temperatureDate:1200',\n",
       "  '02-01:temperatureDate:1440',\n",
       "  '02-01:temperatureDate:1680',\n",
       "  '02-01:temperatureDate:1920',\n",
       "  '02-01:temperatureDate:2160',\n",
       "  '02-01:temperatureDate:2400',\n",
       "  '02-01:temperatureDate:2640',\n",
       "  '02-01:temperatureDate:2880',\n",
       "  '02-01:temperatureDate:3120',\n",
       "  '02-01:temperatureDate:3360',\n",
       "  '02-01:temperatureDate:3600',\n",
       "  '02-01:temperatureDate:3840',\n",
       "  '02-01:temperatureDate:4080',\n",
       "  '02-01:temperatureDate:4320',\n",
       "  '02-01:temperatureDate:4440',\n",
       "  '02-01:temperatureDate:4560',\n",
       "  '02-01:temperatureDate:4680',\n",
       "  '02-01:temperatureDate:4800',\n",
       "  '02-01:temperatureDate:4920',\n",
       "  '02-01:temperatureDate:5040',\n",
       "  '02-01:temperatureDate:5160',\n",
       "  '02-01:temperatureDate:5280',\n",
       "  '02-01:temperatureDate:5400',\n",
       "  '02-01:temperatureDate:5520',\n",
       "  '02-01:temperatureDate:5640',\n",
       "  '02-01:temperatureDate:5760',\n",
       "  '02-01:temperatureDate:5880',\n",
       "  '02-01:temperatureDate:6000',\n",
       "  '02-01:temperatureDate:6120',\n",
       "  '02-01:temperatureDate:6240',\n",
       "  '02-01:temperatureDate:6360',\n",
       "  '02-01:temperatureDate:6480',\n",
       "  '02-01:temperatureDate:6600',\n",
       "  '02-01:temperatureDate:6720',\n",
       "  '02-01:temperatureDate:6840',\n",
       "  '02-01:temperatureDate:6960',\n",
       "  '02-01:temperatureDate:7080',\n",
       "  '02-01:temperatureDate:7200',\n",
       "  '02-01:temperatureDate:7320',\n",
       "  '02-01:temperatureDate:7440',\n",
       "  '02-01:temperatureDate:7560',\n",
       "  '02-01:temperatureDate:7680',\n",
       "  '02-01:temperatureDate:7800',\n",
       "  '02-01:temperatureDate:7920',\n",
       "  '02-01:temperatureDate:8040',\n",
       "  '02-01:temperatureDate:8160',\n",
       "  '02-01:temperatureDate:8280',\n",
       "  '02-01:temperatureDate:8400',\n",
       "  '02-01:temperatureDate:8520',\n",
       "  '02-01:temperatureDate:8640',\n",
       "  '02-01:temperatureDate:8760',\n",
       "  '02-01:temperatureDate:8880',\n",
       "  '02-01:temperatureDate:9000',\n",
       "  '02-01:temperatureDate:9120',\n",
       "  '02-01:temperatureDate:9240',\n",
       "  '02-01:temperatureDate:9360',\n",
       "  '02-01:temperatureDate:9480',\n",
       "  '02-01:temperatureDate:9600',\n",
       "  '02-01:temperatureDate:9720',\n",
       "  '02-01:temperatureDate:9840',\n",
       "  '02-01:temperatureDate:9960',\n",
       "  '02-01:temperatureTime:0',\n",
       "  '02-01:temperatureTime:15',\n",
       "  '02-01:temperatureTime:30',\n",
       "  '02-01:temperatureTime:45',\n",
       "  '02-01:temperatureTime:60',\n",
       "  '02-01:temperatureTime:75',\n",
       "  '02-01:temperatureTime:90',\n",
       "  '02-01:temperatureTime:105',\n",
       "  '02-01:temperatureTime:120',\n",
       "  '02-01:temperatureTime:135',\n",
       "  '02-01:temperatureTime:150',\n",
       "  '02-01:temperatureTime:165',\n",
       "  '02-01:temperatureTime:180',\n",
       "  '02-01:temperatureTime:195',\n",
       "  ...])"
      ]
     },
     "execution_count": 14,
     "metadata": {},
     "output_type": "execute_result"
    }
   ],
   "source": [
    "len(df_numeric_valid.columns), list(df_numeric_valid.columns)"
   ]
  },
  {
   "cell_type": "markdown",
   "id": "1caead55",
   "metadata": {},
   "source": [
    "## 03. all"
   ]
  },
  {
   "cell_type": "code",
   "execution_count": 15,
   "id": "205470dd-0c2e-4327-bbae-45cd418ebd91",
   "metadata": {
    "execution": {
     "iopub.execute_input": "2025-05-15T04:32:22.497722Z",
     "iopub.status.busy": "2025-05-15T04:32:22.497619Z",
     "iopub.status.idle": "2025-05-15T04:32:22.499644Z",
     "shell.execute_reply": "2025-05-15T04:32:22.499426Z"
    }
   },
   "outputs": [],
   "source": [
    "y_columns = [\n",
    "    '20-10:moderateSevereDisabilityOrDeath',\n",
    "    '20-10:disabilityLevelDeath4Category',\n",
    "    '20-10_1:disabilityLevelDeath',\n",
    "\n",
    "    '20-04:BayleyIIICognitiveComposite',\n",
    "    '20-04:BayleyIIILanguageComposite',\n",
    "    '20-04:BayleyIIIMotorComposite',\n",
    "]\n",
    "\n",
    "value_columns = [\n",
    "    'corr',\n",
    "    'r2',\n",
    "    'pvalue',\n",
    "    'valid',\n",
    "    'valid_x',\n",
    "    'valid_y',\n",
    "    'valid_percent',\n",
    "]\n",
    "\n",
    "def _reorder_columns(y_columns, value_columns):\n",
    "    for y_column in y_columns:\n",
    "        for value_column in value_columns:\n",
    "            yield y_column, value_column\n",
    "\n",
    "reorder_columns = list(_reorder_columns(y_columns, value_columns))"
   ]
  },
  {
   "cell_type": "code",
   "execution_count": 16,
   "id": "aa84d8f4",
   "metadata": {
    "execution": {
     "iopub.execute_input": "2025-05-15T04:32:22.500916Z",
     "iopub.status.busy": "2025-05-15T04:32:22.500817Z",
     "iopub.status.idle": "2025-05-15T04:32:22.503075Z",
     "shell.execute_reply": "2025-05-15T04:32:22.502791Z"
    }
   },
   "outputs": [],
   "source": [
    "_EXCLUDE_COLUMNS = y_columns + [\n",
    "    '01-01:birthNumber', # 1: 525 2: 7\n",
    "    '01-01:coreTempBelow32p5COver2H', # 0: 532 (fit criteria),\n",
    "    '01-07:pre_CoolbyIceGelPack', # 0: 250, 1: 2\n",
    "\n",
    "    '20-09:blindness', # part of the outcome definition\n",
    "    '20-09:multipleImpairment', # part of the outcome defition\n",
    "    '20-09:moderateSevereCerebralPalsy', # part of the outcome defition\n",
    "    '20-09:hearingImpairedWithAid', # part of the outcome defition\n",
    "    '20-09:cerebralPalsyMerge', # part of the outcome defition\n",
    "    '20-09:afterDischargeSeizure', # part of the outcome defition\n",
    "    '20-09:grossMotorFunctionLevelSeverity', # part of the outcome defition\n",
    "\n",
    "    '04-01:deathAge_day', # related t the outcome definition\n",
    "\n",
    "    '20-10:normalPrimaryOutcome', # part of the outcome defition\n",
    "    '20-10:moderateSevereDisabilitySurvivor', # part of the outcome defition\n",
    "    '20-10:disabilityLevelSurvivor', # part of the outcome defition\n",
    "    '20-10:disabilityLevelDeath4Category', # part of the outcome defition\n",
    "    '20-10:outcomeGroup', # part of the outcome defition\n",
    "]\n",
    "\n",
    "_INCLUDE_COLUMN_PREFIX = [\n",
    "    '01-02',\n",
    "    '01-03',\n",
    "    '01-04',\n",
    "    '01-05',\n",
    "    '01-05_1',\n",
    "    '01-05_2',\n",
    "    '01-06',\n",
    "    '01-06_1',\n",
    "    '01-07',\n",
    "    '01-08',\n",
    "    '01-09',\n",
    "    '01-10',\n",
    "    '01-12',\n",
    "    '01-12_1',\n",
    "    '03-01_s',\n",
    "    '03-02',\n",
    "    '03-04',\n",
    "    '03-04_1',\n",
    "    '03-05',\n",
    "    '03-05_s',\n",
    "    '03-05_s1',\n",
    "    '04-01',\n",
    "    '04-01_1',\n",
    "    '04-02',\n",
    "    '04-03',\n",
    "    '04-04',\n",
    "    '04-05',\n",
    "    '04-06',\n",
    "    '04-07',\n",
    "    '04-08',\n",
    "    '04-09',\n",
    "    '04-10',\n",
    "    '04-11',\n",
    "    '04-12',\n",
    "    '04-12_1',\n",
    "    '04-13',\n",
    "    '04-14',\n",
    "    '04-15',\n",
    "]\n"
   ]
  },
  {
   "cell_type": "code",
   "execution_count": 17,
   "id": "0687240e",
   "metadata": {
    "execution": {
     "iopub.execute_input": "2025-05-15T04:32:22.504340Z",
     "iopub.status.busy": "2025-05-15T04:32:22.504244Z",
     "iopub.status.idle": "2025-05-15T04:32:22.507061Z",
     "shell.execute_reply": "2025-05-15T04:32:22.506845Z"
    }
   },
   "outputs": [],
   "source": [
    "def _valid_column(df, column):\n",
    "    if column in _EXCLUDE_COLUMNS:\n",
    "        return False\n",
    "\n",
    "    column_prefix, var_name, postfix = COMBINE_harmonizer.flatten_column_tuple(column)\n",
    "    if column_prefix not in _INCLUDE_COLUMN_PREFIX:\n",
    "        return\n",
    "\n",
    "    if 'Bayley' in column:\n",
    "        return False\n",
    "\n",
    "    if 'death' in column:\n",
    "        return False\n",
    "\n",
    "    if 'wdrawSupport' in column:\n",
    "        return False\n",
    "\n",
    "    if 'limitCare' in column:\n",
    "        return False\n",
    "\n",
    "    if re.search(r':followupCenter$', column):\n",
    "        return False\n",
    "\n",
    "    # XXX remove Date\n",
    "    if re.search(r'Date\\d*$', column):\n",
    "        return False\n",
    "\n",
    "    # XXX remove Time, but retain spontaneousRespirationTime\n",
    "    if re.search(r'Time\\d*$', column) and 'spontaneousRespirationTime' not in column:\n",
    "        return False\n",
    "\n",
    "    # with only MRINRNPatternOfInjury in MRI.\n",
    "    if column_prefix == '03-05':\n",
    "        if var_name != 'MRINRNPatternOfInjury':\n",
    "            return False\n",
    "\n",
    "    if df[column].dtype != np.float64:\n",
    "        print(f'[INFO] invalid dtype: column: {column} dtype: {df[column].dtype}')\n",
    "        return False\n",
    "\n",
    "    if (df[column].isnull() == False).sum() < 20:\n",
    "        print(f'[INFO] too few valid samples: column: {column} count: {(df[column].isnull() == False).sum()}')\n",
    "        return False\n",
    "\n",
    "    if (df[column].sem() == 0):\n",
    "        print(f'[INFO] constant column: {column}')\n",
    "        return False\n",
    "\n",
    "    return True"
   ]
  },
  {
   "cell_type": "code",
   "execution_count": 18,
   "id": "9058e59f-84e9-49d5-ae75-695b8585053b",
   "metadata": {
    "collapsed": true,
    "execution": {
     "iopub.execute_input": "2025-05-15T04:32:22.508243Z",
     "iopub.status.busy": "2025-05-15T04:32:22.508145Z",
     "iopub.status.idle": "2025-05-15T04:32:22.553097Z",
     "shell.execute_reply": "2025-05-15T04:32:22.552690Z"
    }
   },
   "outputs": [
    {
     "name": "stdout",
     "output_type": "stream",
     "text": [
      "[INFO] invalid dtype: column: 01-02:siteID dtype: object\n",
      "[INFO] invalid dtype: column: 01-02:screenComment dtype: object\n",
      "[INFO] constant column: 01-02:coreTempLess32p5CGreaterEq2Hr_e\n",
      "[INFO] constant column: 01-02:coreTempLess33p5CGreater1Hr_e\n",
      "[INFO] constant column: 01-02:coreTempLess34CGreater1Hr_e\n",
      "[INFO] constant column: 01-02:first6HrCoolByClinicalProtocol_e\n",
      "[INFO] constant column: 01-02:chromosomalAbnormality_e\n",
      "[INFO] constant column: 01-02:majorCongenitalAnomaly_e\n",
      "[INFO] constant column: 01-02:birthWeightLessEq1800g_e\n",
      "[INFO] constant column: 01-02:infantUnlikelySurvive_e\n",
      "[INFO] constant column: 01-02:first60MinAllBloodGasPHGreater7p15BaseDeficitLess10mEqPerL_e\n",
      "[INFO] constant column: 01-02:postnatalAgeLess6HrOrGreater24Hr_e\n",
      "[INFO] constant column: 01-02:enrolledConflictingTrial_e\n",
      "[INFO] constant column: 01-02:historyPerinatalEvent_i\n",
      "[INFO] constant column: 01-02:at10MinApgarLessEq5OrVent_i\n",
      "[INFO] constant column: 01-02:randomEligible\n",
      "[INFO] invalid dtype: column: 01-02:consentStatus dtype: object\n",
      "[INFO] too few valid samples: column: 01-02:noConsentReason count: 0\n",
      "[INFO] too few valid samples: column: 01-02:noInStudyReason count: 0\n",
      "[INFO] constant column: 01-02:random\n",
      "[INFO] too few valid samples: column: 01-02:noRandomReason count: 0\n",
      "[INFO] too few valid samples: column: 01-02:noRandomReasonText count: 0\n",
      "[INFO] invalid dtype: column: 01-02:randomNumber dtype: int64\n",
      "[INFO] invalid dtype: column: 01-02:randomTreatmentAssign dtype: object\n",
      "[INFO] constant column: 01-02:randomTreatmentReceive\n",
      "[INFO] invalid dtype: column: 01-02:inOtherTrialText dtype: object\n",
      "[INFO] invalid dtype: column: 01-03:motherRace dtype: object\n",
      "[INFO] invalid dtype: column: 01-03:motherRaceOther1 dtype: object\n",
      "[INFO] invalid dtype: column: 01-03:motherRaceOther2 dtype: object\n",
      "[INFO] too few valid samples: column: 01-03:motherRaceOther3 count: 0\n",
      "[INFO] too few valid samples: column: 01-03:motherRaceOther4 count: 0\n",
      "[INFO] too few valid samples: column: 01-03:motherRaceOther5 count: 0\n",
      "[INFO] too few valid samples: column: 01-03:motherRaceOther6 count: 0\n",
      "[INFO] invalid dtype: column: 01-03:motherEthnicity dtype: object\n",
      "[INFO] invalid dtype: column: 01-03:motherMaritalStatus dtype: object\n",
      "[INFO] too few valid samples: column: 01-04:numFetus count: 13\n",
      "[INFO] invalid dtype: column: 01-05:deliveryMode dtype: object\n",
      "[INFO] invalid dtype: column: 01-05:laborAntibioticsCode1 dtype: object\n",
      "[INFO] invalid dtype: column: 01-05:laborAntibioticsCode2 dtype: object\n",
      "[INFO] invalid dtype: column: 01-05:laborAntibioticsCode3 dtype: object\n",
      "[INFO] too few valid samples: column: 01-05:laborAntibioticsCode4 count: 0\n",
      "[INFO] too few valid samples: column: 01-05:laborAntibioticsCode5 count: 0\n",
      "[INFO] too few valid samples: column: 01-05:laborAntibioticsCode6 count: 0\n",
      "[INFO] invalid dtype: column: 01-05_2:deliveryMode dtype: object\n",
      "[INFO] invalid dtype: column: 01-06:cordBloodGasSrc dtype: object\n",
      "[INFO] invalid dtype: column: 01-06:firstPostnatalBloodGasSrc dtype: object\n",
      "[INFO] invalid dtype: column: 01-06:initBloodGasBaseDeficit_mEqPerLSrc dtype: object\n",
      "[INFO] invalid dtype: column: 01-06:initBloodGasPHSrc dtype: object\n",
      "[INFO] invalid dtype: column: 01-07:targetTreatmentTemperature_C dtype: object\n",
      "[INFO] invalid dtype: column: 01-09:pre_PositiveCultureSrc dtype: object\n",
      "[INFO] invalid dtype: column: 01-09:pre_PositiveCultureOrganismCode1 dtype: object\n",
      "[INFO] too few valid samples: column: 01-09:pre_PositiveCultureOrganismCode2 count: 0\n",
      "[INFO] too few valid samples: column: 01-09:pre_PositiveCultureOrganismCode3 count: 0\n",
      "[INFO] invalid dtype: column: 01-09:pre_AntibioticsCode1 dtype: object\n",
      "[INFO] invalid dtype: column: 01-09:pre_AntibioticsCode2 dtype: object\n",
      "[INFO] invalid dtype: column: 01-09:pre_AntibioticsCode3 dtype: object\n",
      "[INFO] invalid dtype: column: 01-10:pre_Anticonvulsants dtype: object\n",
      "[INFO] invalid dtype: column: 01-10:pre_Anticonvulsants1 dtype: object\n",
      "[INFO] invalid dtype: column: 01-10:pre_Anticonvulsants2 dtype: object\n",
      "[INFO] too few valid samples: column: 01-10:pre_Anticonvulsants3 count: 0\n",
      "[INFO] invalid dtype: column: 01-10:pre_AnalgesicsSedatives1 dtype: object\n",
      "[INFO] invalid dtype: column: 01-10:pre_AnalgesicsSedatives2 dtype: object\n",
      "[INFO] invalid dtype: column: 01-10:pre_AnalgesicsSedatives3 dtype: object\n",
      "[INFO] invalid dtype: column: 01-10:pre_Antipyretics1 dtype: object\n",
      "[INFO] too few valid samples: column: 01-10:pre_Antipyretics2 count: 0\n",
      "[INFO] too few valid samples: column: 01-10:pre_Antipyretics3 count: 0\n",
      "[INFO] invalid dtype: column: 01-10:pre_Paralytics1 dtype: object\n",
      "[INFO] too few valid samples: column: 01-10:pre_Paralytics2 count: 0\n",
      "[INFO] too few valid samples: column: 01-10:pre_Paralytics3 count: 0\n",
      "[INFO] too few valid samples: column: 01-10:pre_OtherMedFluidIntake_ccPerKg count: 0\n",
      "[INFO] too few valid samples: column: 01-10:pre_OtherMedUrineOutput_ccPerKg count: 0\n",
      "[INFO] invalid dtype: column: 01-12:pre_NoNeuroExamReason dtype: object\n",
      "[INFO] invalid dtype: column: 03-01_s:noNormothermiaReason dtype: object\n",
      "[INFO] invalid dtype: column: 03-01_s:coolAfterIntervention dtype: object\n",
      "[INFO] invalid dtype: column: 03-01_s:coolAfterInterventionText dtype: object\n",
      "[INFO] too few valid samples: column: 03-04:post_NeuroExamAsymTonicNeckReflex count: 0\n",
      "[INFO] invalid dtype: column: 03-05_s:MRIObtainWindow dtype: object\n",
      "[INFO] invalid dtype: column: 03-05_s:MRIObtainWindow_c dtype: object\n",
      "[INFO] too few valid samples: column: 03-05_s:MRIObtainComment count: 1\n",
      "[INFO] invalid dtype: column: 03-05_s:MRINoObtainReason dtype: object\n",
      "[INFO] invalid dtype: column: 03-05_s:MRINoObtainReason_c dtype: object\n",
      "[INFO] invalid dtype: column: 03-05_s:MRINoObtainReasonText dtype: object\n",
      "[INFO] constant column: 03-05_s:MRIRead\n",
      "[INFO] too few valid samples: column: 03-05_s:MRIScore count: 10\n",
      "[INFO] constant column: 03-05_s:MRINotDone\n",
      "[INFO] too few valid samples: column: 03-05_s:MRIUnread count: 19\n",
      "[INFO] constant column: 03-05_s:MRIAnalysis\n",
      "[INFO] invalid dtype: column: 03-05_s:MRILateralHemisphericDevastation dtype: object\n",
      "[INFO] invalid dtype: column: 03-05_s:MRILateralityMerge dtype: object\n",
      "[INFO] invalid dtype: column: 03-05_s:MRICerebralAtrophyGlobalLocalMerge dtype: object\n",
      "[INFO] invalid dtype: column: 04-01:status dtype: object\n",
      "[INFO] invalid dtype: column: 04-01:dischargeStatus dtype: object\n",
      "[INFO] invalid dtype: column: 04-01:transferReason dtype: object\n",
      "[INFO] invalid dtype: column: 04-01:transferOutcome dtype: object\n",
      "[INFO] constant column: 04-01:homeTherapyVentilator\n",
      "[INFO] constant column: 04-01:homeTherapyTemperatureBlanket\n",
      "[INFO] invalid dtype: column: 04-01:homeTherapyOtherText dtype: object\n",
      "[INFO] constant column: 04-08:dischargeSclerema\n",
      "[INFO] invalid dtype: column: 04-10:dischargeSurgeryCode1 dtype: object\n",
      "[INFO] invalid dtype: column: 04-10:dischargeSurgeryCode2 dtype: object\n",
      "[INFO] invalid dtype: column: 04-10:dischargeSurgeryCode3 dtype: object\n",
      "[INFO] invalid dtype: column: 04-11:dischargeSepticemiaOrganismCode1 dtype: object\n",
      "[INFO] invalid dtype: column: 04-11:dischargeSepticemiaOrganismCode2 dtype: object\n",
      "[INFO] invalid dtype: column: 04-11:dischargeSepticemiaOrganismCode3 dtype: object\n",
      "[INFO] invalid dtype: column: 04-11:dischargeMeningitisOrganismCode1 dtype: object\n",
      "[INFO] too few valid samples: column: 04-11:dischargeMeningitisOrganismCode2 count: 0\n",
      "[INFO] too few valid samples: column: 04-11:dischargeMeningitisOrganismCode3 count: 0\n",
      "[INFO] invalid dtype: column: 04-12:dischargeNeuroExamStatus dtype: object\n",
      "[INFO] invalid dtype: column: 04-14:dischargeBirthDefectCode1 dtype: object\n",
      "[INFO] invalid dtype: column: 04-14:dischargeBirthDefectCode2 dtype: object\n",
      "[INFO] too few valid samples: column: 04-14:dischargeBirthDefectCode3 count: 0\n",
      "[INFO] constant column: 04-15:dischargeHomeTherapyTemperatureBlanket\n",
      "[INFO] invalid dtype: column: 04-15:dischargeHomeTherapyOtherText dtype: object\n"
     ]
    },
    {
     "data": {
      "text/plain": [
       "341"
      ]
     },
     "execution_count": 18,
     "metadata": {},
     "output_type": "execute_result"
    }
   ],
   "source": [
    "x_columns = list(filter(lambda x: _valid_column(df_numeric, x), df_numeric.columns))\n",
    "len(x_columns)"
   ]
  },
  {
   "cell_type": "code",
   "execution_count": 19,
   "id": "a9c0f975-5079-4c64-a8a4-4d248e7eb131",
   "metadata": {
    "collapsed": true,
    "execution": {
     "iopub.execute_input": "2025-05-15T04:32:22.554512Z",
     "iopub.status.busy": "2025-05-15T04:32:22.554404Z",
     "iopub.status.idle": "2025-05-15T04:32:22.557498Z",
     "shell.execute_reply": "2025-05-15T04:32:22.557258Z"
    }
   },
   "outputs": [
    {
     "data": {
      "text/plain": [
       "['01-02:birthNumber',\n",
       " '01-02:first60MinAnyBloodGasPHLessEq7_i',\n",
       " '01-02:first60MinAnyBloodGasBaseDeficitGreaterEq16mEqPerL_i',\n",
       " '01-02:ageRand_hr',\n",
       " '01-02:treatmentBlanketType',\n",
       " '01-02:treatmentAssignmentDuration_hr',\n",
       " '01-02:treatmentAssignmentTemperature',\n",
       " '01-02:usualCoolingTreatmentGroup',\n",
       " '01-02:inOtherTrial',\n",
       " '01-03:motherAge_year',\n",
       " '01-03:motherRace2',\n",
       " '01-03:motherEducation',\n",
       " '01-03:motherEducation2',\n",
       " '01-03:motherInsurance',\n",
       " '01-03:motherInsurancePublic',\n",
       " '01-04:gravida',\n",
       " '01-04:parity',\n",
       " '01-04:multipleBirth',\n",
       " '01-04:prenatalCare',\n",
       " '01-04:hypertensionEclampsia',\n",
       " '01-04:antepartumHemorrhage',\n",
       " '01-04:thyroidMalfunction',\n",
       " '01-04:diabetes',\n",
       " '01-05:ruptureGreater18Hr',\n",
       " '01-05:ruptureBeforeDelivery',\n",
       " '01-05:labor',\n",
       " '01-05:fetalDecelerate',\n",
       " '01-05:cordMishap',\n",
       " '01-05:uterineRupture',\n",
       " '01-05:shoulderDystocia',\n",
       " '01-05:placentalProblem',\n",
       " '01-05:maternalHemorrhage',\n",
       " '01-05:maternalTrauma',\n",
       " '01-05:maternalCardioRespiratoryArrest',\n",
       " '01-05:maternalSeizure',\n",
       " '01-05:perinatalSentinelEvent',\n",
       " '01-05:pyrexiaGreater37p6C',\n",
       " '01-05:chorioamnionitis',\n",
       " '01-05:placentalPathologyPerformed',\n",
       " '01-05:histologicChorioamionitis',\n",
       " '01-05:laborAntibiotics',\n",
       " '01-05:emergencyCSection',\n",
       " '01-05_1:cordMishap',\n",
       " '01-05_1:uterineRupture',\n",
       " '01-05_1:placentalProblem',\n",
       " '01-05_1:shoulderDystocia',\n",
       " '01-05_1:maternalHemorrhage',\n",
       " '01-05_1:maternalTrauma',\n",
       " '01-05_1:maternalCardioRespiratoryArrest',\n",
       " '01-05_1:maternalSeizure',\n",
       " '01-05_1:perinatalSentinelEvent',\n",
       " '01-05_2:emergencyCSection',\n",
       " '01-06:encephalopathyLevel',\n",
       " '01-06:randomInfantAge',\n",
       " '01-06:birthWeight_g',\n",
       " '01-06:birthLength_cm',\n",
       " '01-06:birthHeadCircumference_cm',\n",
       " '01-06:birthGestationalAge_week',\n",
       " '01-06:infantSex',\n",
       " '01-06:maleSex',\n",
       " '01-06:infantOutborn',\n",
       " '01-06:outbornInHospital',\n",
       " '01-06:outbornOutHospital',\n",
       " '01-06:Apgar1min',\n",
       " '01-06:Apgar5min',\n",
       " '01-06:Apgar10min',\n",
       " '01-06:Apgar15min',\n",
       " '01-06:Apgar20min',\n",
       " '01-06:deliveryResuscitation',\n",
       " '01-06:deliveryOxygen',\n",
       " '01-06:deliveryBaggingAndMask',\n",
       " '01-06:deliveryChestCompression',\n",
       " '01-06:deliveryIntubation',\n",
       " '01-06:deliveryDrug',\n",
       " '01-06:at10MinContinueResuscitation',\n",
       " '01-06:at10MinOxygen',\n",
       " '01-06:at10MinBaggingAndMask',\n",
       " '01-06:at10MinChestCompression',\n",
       " '01-06:at10MinIntubation',\n",
       " '01-06:at10MinDrug',\n",
       " '01-06:spontaneousRespirationTime',\n",
       " '01-06:cordBloodGas',\n",
       " '01-06:cordBloodGasPH',\n",
       " '01-06:cordBloodGasPCO2_mmHg',\n",
       " '01-06:cordBloodGasPO2_mmHg',\n",
       " '01-06:cordBloodGasHCO3_mEqPerL',\n",
       " '01-06:cordBloodGasBaseDeficit_mEqPerL',\n",
       " '01-06:firstPostnatalBloodGas',\n",
       " '01-06:firstPostnatalBloodGasPH',\n",
       " '01-06:firstPostnatalBloodGasPCO2_mmHg',\n",
       " '01-06:firstPostnatalBloodGasPO2_mmHg',\n",
       " '01-06:firstPostnatalBloodGasHCO3_mEqPerL',\n",
       " '01-06:firstPostnatalBloodGasBaseDeficit_mEqPerL',\n",
       " '01-06:acidosis',\n",
       " '01-06:Apgar10minLess5',\n",
       " '01-06:Apgar10minLessEq5',\n",
       " '01-06:Apgar5minLessEq5',\n",
       " '01-06:initBloodGasBaseDeficit_mEqPerL',\n",
       " '01-06:initBloodGasPH',\n",
       " '01-06_1:Apgar5min',\n",
       " '01-06_1:Apgar10min',\n",
       " '01-06_1:Apgar10minLess5',\n",
       " '01-06_1:Apgar10minLessEq5',\n",
       " '01-06_1:Apgar5minLessEq5',\n",
       " '01-07:pre_CoolInitiate',\n",
       " '01-07:pre_CoolPassively',\n",
       " '01-07:pre_CoolClinically',\n",
       " '01-07:pre_AfterOvershootReach33p5C',\n",
       " '01-07:pre_SkinTemperatureMin_C',\n",
       " '01-07:pre_AxillaryTemperatureMin_C',\n",
       " '01-07:pre_EsophagealTemperatureMin_C',\n",
       " '01-07:pre_ServoSetMin_C',\n",
       " '01-07:pre_SkinTemperatureMax_C',\n",
       " '01-07:pre_AxillaryTemperatureMax_C',\n",
       " '01-07:pre_EsophagealTemperatureMax_C',\n",
       " '01-07:pre_ServoSetMax_C',\n",
       " '01-08:pre_CardioSystolicBloodPressure_mmHg',\n",
       " '01-08:pre_CardioDiastolicBloodPressure_mmHg',\n",
       " '01-08:pre_CardioHeartRate_BPM',\n",
       " '01-08:pre_CardioVolumeExpand',\n",
       " '01-08:pre_CardioInotropicAgent',\n",
       " '01-08:pre_CardioBloodTransfusion',\n",
       " '01-08:pre_CardioPlatelets',\n",
       " '01-09:pre_PositiveCulture',\n",
       " '01-09:pre_Antibiotics',\n",
       " '01-12:pre_NeuroExam',\n",
       " '01-12:pre_NeuroExamSignModerateSevereHIE3Category',\n",
       " '01-12:pre_NeuroExamLevelConsciousness',\n",
       " '01-12:pre_NeuroExamSpontaneousActivity',\n",
       " '01-12:pre_NeuroExamPosture',\n",
       " '01-12:pre_NeuroExamTone',\n",
       " '01-12:pre_NeuroExamSuck',\n",
       " '01-12:pre_NeuroExamMoro',\n",
       " '01-12:pre_NeuroExamPupils',\n",
       " '01-12:pre_NeuroExamHeartRate',\n",
       " '01-12:pre_NeuroExamRespiration',\n",
       " '01-12:pre_NeuroExamSedate',\n",
       " '01-12:pre_NeuroExamSeizure',\n",
       " '01-12_1:pre_NeuroExamLevelConsciousnessScore',\n",
       " '01-12_1:pre_NeuroExamSpontaneousActivityScore',\n",
       " '01-12_1:pre_NeuroExamPostureScore',\n",
       " '01-12_1:pre_NeuroExamToneScore',\n",
       " '01-12_1:pre_NeuroExamSuckScore',\n",
       " '01-12_1:pre_NeuroExamMoroScore',\n",
       " '01-12_1:pre_NeuroExamPupilsScore',\n",
       " '01-12_1:pre_NeuroExamHeartRateScore',\n",
       " '01-12_1:pre_NeuroExamRespirationScore',\n",
       " '01-12_1:pre_NeuroExamReflexScore',\n",
       " '01-12_1:pre_NeuroExamANSScore',\n",
       " '01-12_1:pre_TotalModifiedSarnatScore',\n",
       " '03-01_s:normothermiaAtEndIntervention',\n",
       " '03-01_s:normothermiaAxillaryTemperature_C',\n",
       " '03-02:post_BloodValueASTSGOT_UPerL',\n",
       " '03-02:post_BloodValueALTSGPT_UPerL',\n",
       " '03-02:post_BloodValueTotalBilirubin_mgPerdL',\n",
       " '03-04:post_NeuroExamLevelConsciousness',\n",
       " '03-04:post_NeuroExamSpontaneousActivity',\n",
       " '03-04:post_NeuroExamPosture',\n",
       " '03-04:post_NeuroExamTone',\n",
       " '03-04:post_NeuroExamSuck',\n",
       " '03-04:post_NeuroExamMoro',\n",
       " '03-04:post_NeuroExamPupils',\n",
       " '03-04:post_NeuroExamHeartRate',\n",
       " '03-04:post_NeuroExamRespiration',\n",
       " '03-04:post_NeuroExamSeizure',\n",
       " '03-04:post_NeuroExamSedate',\n",
       " '03-04:post_NeuroExamClonusSustained',\n",
       " '03-04:post_NeuroExamFistedHand',\n",
       " '03-04:post_NeuroExamAbnormalMovement',\n",
       " '03-04:post_NeuroExamGagReflexAbsent',\n",
       " '03-04:post_NeuroExamHypertonia',\n",
       " '03-04_1:post_NeuroExamLevelConsciousnessScore',\n",
       " '03-04_1:post_NeuroExamSpontaneousActivityScore',\n",
       " '03-04_1:post_NeuroExamPostureScore',\n",
       " '03-04_1:post_NeuroExamToneScore',\n",
       " '03-04_1:post_NeuroExamSuckScore',\n",
       " '03-04_1:post_NeuroExamMoroScore',\n",
       " '03-04_1:post_NeuroExamPupilsScore',\n",
       " '03-04_1:post_NeuroExamHeartRateScore',\n",
       " '03-04_1:post_NeuroExamRespirationScore',\n",
       " '03-04_1:post_NeuroExamReflexScore',\n",
       " '03-04_1:post_NeuroExamANSScore',\n",
       " '03-04_1:post_TotalModifiedSarnatScore',\n",
       " '03-05:MRINRNPatternOfInjury:1',\n",
       " '03-05:MRINRNPatternOfInjury:2',\n",
       " '03-05:MRINRNPatternOfInjury:3',\n",
       " '03-05_s:MRIAvailable',\n",
       " '03-05_s:MRIAvailable_c',\n",
       " '03-05_s:MRIObtain',\n",
       " '03-05_s:MRI2LevelPatternOfInjury',\n",
       " '03-05_s:MRIAge_day',\n",
       " '03-05_s:MRIOverallDiagnosisMerge',\n",
       " '03-05_s:MRINRNPatternOfInjury',\n",
       " '03-05_s:MRIAbnormalResult',\n",
       " '03-05_s:MRINRNPatternOfInjuryWSvsBGTPLIC',\n",
       " '03-05_s:MRICerebralLesion',\n",
       " '03-05_s:MRICerebellarLesion',\n",
       " '03-05_s:MRIBasalGangliaLesion',\n",
       " '03-05_s:MRIBrainstemLesion',\n",
       " '03-05_s:MRICorpusCallosumLesion',\n",
       " '03-05_s:MRICerebralLesionLobe',\n",
       " '03-05_s:MRICoronaRadiataLesion',\n",
       " '03-05_s:MRIEdema',\n",
       " '03-05_s:MRIExtraAxialLesion',\n",
       " '03-05_s:MRIExtent',\n",
       " '03-05_s:MRIFrontalParietalLesion',\n",
       " '03-05_s:MRIFrontalLesion',\n",
       " '03-05_s:MRIHippocampusLesion',\n",
       " '03-05_s:MRIHypothalamusLesion',\n",
       " '03-05_s:MRIInsularLesion',\n",
       " '03-05_s:MRIBGTMerge',\n",
       " '03-05_s:MRIPLICMerge',\n",
       " '03-05_s:MRIWatershedMerge',\n",
       " '03-05_s:MRIWhiteMatterInjuryMerge',\n",
       " '03-05_s:MRIOccipitalLesion',\n",
       " '03-05_s:MRIOpticChiasmLesion',\n",
       " '03-05_s:MRIOtherLesion',\n",
       " '03-05_s:MRIOtherCerebralLesion',\n",
       " '03-05_s:MRIParasagittalLesion',\n",
       " '03-05_s:MRIParietalLesion',\n",
       " '03-05_s:MRIPreirolandicLesion',\n",
       " '03-05_s:MRIPerisylvianLesion',\n",
       " '03-05_s:MRIPituitaryLesion',\n",
       " '03-05_s:MRIParietalOccipitalLesion',\n",
       " '03-05_s:MRIParietalTemporalLesion',\n",
       " '03-05_s:MRIScalpLesion',\n",
       " '03-05_s:MRIThalamusLesion',\n",
       " '03-05_s:MRITemporalLesion',\n",
       " '03-05_s:MRITemporalOccipitalLesion',\n",
       " '03-05_s:MRICerebralAtrophyMerge',\n",
       " '03-05_s:MRICerebralAtrophyQualAssessCCMerge',\n",
       " '03-05_s:MRIVascularTerritoryInfarctionMerge',\n",
       " '03-05_s:MRIVascularTerritoryInfarctionLeftMerge',\n",
       " '03-05_s:MRIVascularTerritoryInfarctionRightMerge',\n",
       " '03-05_s:MRIHemisphericDevastation',\n",
       " '03-05_s:MRIVentricularDilatation',\n",
       " '03-05_s:MRIVascularLesion',\n",
       " '03-05_s:MRIIntraventricularLesion',\n",
       " '03-05_s1:MRINRNPatternOfInjuryMerge',\n",
       " '03-05_s1:MRINRNPatternOfInjuryAvg',\n",
       " '03-05_s1:MRINRNPatternOfInjuryMax',\n",
       " '04-01:dischargeWeight_g',\n",
       " '04-01:dischargeLength_cm',\n",
       " '04-01:dischargeHeadCircumference_cm',\n",
       " '04-01:transferWeight_g',\n",
       " '04-01:transferLength_cm',\n",
       " '04-01:transferHeadCircumference_cm',\n",
       " '04-01:homeTherapyStatus',\n",
       " '04-01:homeTherapyOxygen',\n",
       " '04-01:homeTherapyGavageTubeFeed',\n",
       " '04-01:homeTherapyGastrostomyTubeFeed',\n",
       " '04-01:homeTherapyAnticonvulsantMedication',\n",
       " '04-01:homeTherapyOther',\n",
       " '04-01_1:lengthOfStay_day',\n",
       " '04-02:dischargeCardiomegaly',\n",
       " '04-02:dischargeCardiacFailure',\n",
       " '04-02:dischargeCardiacDysfunctionByEcho',\n",
       " '04-02:dischargeCardiacIschemiaByEKG',\n",
       " '04-02:dischargeHypotension',\n",
       " '04-02:dischargeArrhythmia',\n",
       " '04-02:dischargeInotropicAgent',\n",
       " '04-03:dischargeMeconiumAspirationSyndrome',\n",
       " '04-03:dischargePPHN',\n",
       " '04-03:dischargePulmonaryHemorrhage',\n",
       " '04-03:dischargePenumonia',\n",
       " '04-03:dischargeChronicLungDisease',\n",
       " '04-03:dischargeECMO',\n",
       " '04-03:dischargeINO',\n",
       " '04-03:dischargeVentilator_day',\n",
       " '04-03:dischargeOxygen_day',\n",
       " '04-03:dischargeCPAP_day',\n",
       " '04-04:dischargeDIC',\n",
       " '04-05:dischargeHypoglycemia',\n",
       " '04-05:dischargeHypocalcemia',\n",
       " '04-05:dischargeHypomagnesemia',\n",
       " '04-06:dischargeOliguria',\n",
       " '04-06:dischargeAnuria',\n",
       " '04-06:dischargeDialysis',\n",
       " '04-07:dischargeEnteralFeedStart_day',\n",
       " '04-07:dischargeTubeFeedingDuration_day',\n",
       " '04-07:dischargeFullNippleFeed',\n",
       " '04-07:dischargeFullNippleFeed_day',\n",
       " '04-07:dischargeNEC',\n",
       " '04-07:dischargeHepaticDysfunction',\n",
       " '04-08:dischargeAlteredSkinItegrityPostIntervention',\n",
       " '04-08:dischargeErythema',\n",
       " '04-08:dischargeCyanosis',\n",
       " '04-08:dischargeSubFatNecrosis',\n",
       " '04-09:dischargeHearingTest',\n",
       " '04-09:dischargeHearingTestNormal',\n",
       " '04-10:dischargeMajorSurgery',\n",
       " '04-11:dischargeSepticemia',\n",
       " '04-11:dischargeMeningitisEncephalitis',\n",
       " '04-12:dischargeNeuroExamLevelConsciousness',\n",
       " '04-12:dischargeNeuroExamSpontaneousActivity',\n",
       " '04-12:dischargeNeuroExamPosture',\n",
       " '04-12:dischargeNeuroExamTone',\n",
       " '04-12:dischargeNeuroExamSuck',\n",
       " '04-12:dischargeNeuroExamMoro',\n",
       " '04-12:dischargeNeuroExamPupils',\n",
       " '04-12:dischargeNeuroExamHeartRate',\n",
       " '04-12:dischargeNeuroExamRespiration',\n",
       " '04-12:dischargeNeuroExamSeizure',\n",
       " '04-12:dischargeNeuroExamClonusSustained',\n",
       " '04-12:dischargeNeuroExamFistedHand',\n",
       " '04-12:dischargeNeuroExamAbnormalMovement',\n",
       " '04-12:dischargeNeuroExamGagReflexAbsent',\n",
       " '04-12:dischargeNeuroExamSedate',\n",
       " '04-12:dischargeNeuroExamHypertonia',\n",
       " '04-12:dischargeNeuroExamAsymTonicNeckReflex',\n",
       " '04-12_1:dischargeNeuroExamLevelConsciousnessScore',\n",
       " '04-12_1:dischargeNeuroExamSpontaneousActivityScore',\n",
       " '04-12_1:dischargeNeuroExamPostureScore',\n",
       " '04-12_1:dischargeNeuroExamToneScore',\n",
       " '04-12_1:dischargeNeuroExamSuckScore',\n",
       " '04-12_1:dischargeNeuroExamMoroScore',\n",
       " '04-12_1:dischargeNeuroExamPupilsScore',\n",
       " '04-12_1:dischargeNeuroExamHeartRateScore',\n",
       " '04-12_1:dischargeNeuroExamRespirationScore',\n",
       " '04-12_1:dischargeNeuroExamReflexScore',\n",
       " '04-12_1:dischargeNeuroExamANSScore',\n",
       " '04-12_1:dischargeTotalModifiedSarnatScore',\n",
       " '04-13:dischargeSeizure',\n",
       " '04-13:dischargeSeizurePreIntervention',\n",
       " '04-13:dischargeSeizureAfterBaseline',\n",
       " '04-13:dischargeSeizureMaintenance',\n",
       " '04-13:dischargeSeizureRewarming',\n",
       " '04-13:dischargeSeizurePostIntervention',\n",
       " '04-13:dischargeEEG',\n",
       " '04-13:dischargeEEGFindingConsistentWithSeizure',\n",
       " '04-13:dischargeEEGAbnormalBackgroundActivity',\n",
       " '04-13:dischargeAnticonvulsantsGreater72H',\n",
       " '04-13:dischargeAnticonvulsants',\n",
       " '04-14:dischargeSyndromeMalformation',\n",
       " '04-15:dischargeHomeTherapy',\n",
       " '04-15:dischargeHomeTherapyVentilator',\n",
       " '04-15:dischargeHomeTherapyOxygen',\n",
       " '04-15:dischargeHomeTherapyGavageTubeFeed',\n",
       " '04-15:dischargeHomeTherapyGastrostomyTubeFeed',\n",
       " '04-15:dischargeHomeTherapyAnticonvulsantMedication',\n",
       " '04-15:dischargeHomeTherapyOther']"
      ]
     },
     "execution_count": 19,
     "metadata": {},
     "output_type": "execute_result"
    }
   ],
   "source": [
    "x_columns"
   ]
  },
  {
   "cell_type": "code",
   "execution_count": 20,
   "id": "f6d7c949-2485-42f4-9039-71628d63a22f",
   "metadata": {
    "collapsed": true,
    "execution": {
     "iopub.execute_input": "2025-05-15T04:32:22.558749Z",
     "iopub.status.busy": "2025-05-15T04:32:22.558665Z",
     "iopub.status.idle": "2025-05-15T04:33:36.186044Z",
     "shell.execute_reply": "2025-05-15T04:33:36.185679Z"
    }
   },
   "outputs": [
    {
     "name": "stderr",
     "output_type": "stream",
     "text": [
      "\r",
      "  0%|          | 0/341 [00:00<?, ?it/s]"
     ]
    },
    {
     "name": "stdout",
     "output_type": "stream",
     "text": [
      "_corr_coeff: to eval: x: 01-02:birthNumber y: 20-10:moderateSevereDisabilityOrDeath valid_x: 532 valid_y: 504\n",
      "_corr_coeff: done: x: 01-02:birthNumber y: 20-10:moderateSevereDisabilityOrDeath\n"
     ]
    },
    {
     "name": "stdout",
     "output_type": "stream",
     "text": [
      "_corr_coeff: to eval: x: 01-02:birthNumber y: 20-10:disabilityLevelDeath4Category valid_x: 532 valid_y: 498\n",
      "_corr_coeff: done: x: 01-02:birthNumber y: 20-10:disabilityLevelDeath4Category\n",
      "_corr_coeff: to eval: x: 01-02:birthNumber y: 20-10_1:disabilityLevelDeath valid_x: 532 valid_y: 498\n",
      "_corr_coeff: done: x: 01-02:birthNumber y: 20-10_1:disabilityLevelDeath\n",
      "_corr_coeff: to eval: x: 01-02:birthNumber y: 20-04:BayleyIIICognitiveComposite valid_x: 532 valid_y: 421\n",
      "_corr_coeff: done: x: 01-02:birthNumber y: 20-04:BayleyIIICognitiveComposite\n"
     ]
    },
    {
     "name": "stderr",
     "output_type": "stream",
     "text": [
      "\r",
      "  0%|          | 1/341 [00:00<01:12,  4.70it/s]"
     ]
    },
    {
     "name": "stdout",
     "output_type": "stream",
     "text": [
      "_corr_coeff: to eval: x: 01-02:birthNumber y: 20-04:BayleyIIILanguageComposite valid_x: 532 valid_y: 411\n",
      "_corr_coeff: done: x: 01-02:birthNumber y: 20-04:BayleyIIILanguageComposite\n",
      "_corr_coeff: to eval: x: 01-02:birthNumber y: 20-04:BayleyIIIMotorComposite valid_x: 532 valid_y: 415\n",
      "_corr_coeff: done: x: 01-02:birthNumber y: 20-04:BayleyIIIMotorComposite\n"
     ]
    },
    {
     "name": "stdout",
     "output_type": "stream",
     "text": [
      "_corr_coeff: to eval: x: 01-02:first60MinAnyBloodGasPHLessEq7_i y: 20-10:moderateSevereDisabilityOrDeath valid_x: 506 valid_y: 504\n",
      "_corr_coeff: done: x: 01-02:first60MinAnyBloodGasPHLessEq7_i y: 20-10:moderateSevereDisabilityOrDeath\n"
     ]
    },
    {
     "name": "stdout",
     "output_type": "stream",
     "text": [
      "_corr_coeff: to eval: x: 01-02:first60MinAnyBloodGasPHLessEq7_i y: 20-10:disabilityLevelDeath4Category valid_x: 506 valid_y: 498\n",
      "_corr_coeff: done: x: 01-02:first60MinAnyBloodGasPHLessEq7_i y: 20-10:disabilityLevelDeath4Category\n",
      "_corr_coeff: to eval: x: 01-02:first60MinAnyBloodGasPHLessEq7_i y: 20-10_1:disabilityLevelDeath valid_x: 506 valid_y: 498\n",
      "_corr_coeff: done: x: 01-02:first60MinAnyBloodGasPHLessEq7_i y: 20-10_1:disabilityLevelDeath\n",
      "_corr_coeff: to eval: x: 01-02:first60MinAnyBloodGasPHLessEq7_i y: 20-04:BayleyIIICognitiveComposite valid_x: 506 valid_y: 421\n",
      "_corr_coeff: done: x: 01-02:first60MinAnyBloodGasPHLessEq7_i y: 20-04:BayleyIIICognitiveComposite\n"
     ]
    },
    {
     "name": "stdout",
     "output_type": "stream",
     "text": [
      "_corr_coeff: to eval: x: 01-02:first60MinAnyBloodGasPHLessEq7_i y: 20-04:BayleyIIILanguageComposite valid_x: 506 valid_y: 411\n",
      "_corr_coeff: done: x: 01-02:first60MinAnyBloodGasPHLessEq7_i y: 20-04:BayleyIIILanguageComposite\n"
     ]
    },
    {
     "name": "stderr",
     "output_type": "stream",
     "text": [
      "\r",
      "  1%|          | 2/341 [00:00<01:20,  4.21it/s]"
     ]
    },
    {
     "name": "stdout",
     "output_type": "stream",
     "text": [
      "_corr_coeff: to eval: x: 01-02:first60MinAnyBloodGasPHLessEq7_i y: 20-04:BayleyIIIMotorComposite valid_x: 506 valid_y: 415\n",
      "_corr_coeff: done: x: 01-02:first60MinAnyBloodGasPHLessEq7_i y: 20-04:BayleyIIIMotorComposite\n"
     ]
    },
    {
     "name": "stdout",
     "output_type": "stream",
     "text": [
      "_corr_coeff: to eval: x: 01-02:first60MinAnyBloodGasBaseDeficitGreaterEq16mEqPerL_i y: 20-10:moderateSevereDisabilityOrDeath valid_x: 481 valid_y: 504\n",
      "_corr_coeff: done: x: 01-02:first60MinAnyBloodGasBaseDeficitGreaterEq16mEqPerL_i y: 20-10:moderateSevereDisabilityOrDeath\n",
      "_corr_coeff: to eval: x: 01-02:first60MinAnyBloodGasBaseDeficitGreaterEq16mEqPerL_i y: 20-10:disabilityLevelDeath4Category valid_x: 481 valid_y: 498\n",
      "_corr_coeff: done: x: 01-02:first60MinAnyBloodGasBaseDeficitGreaterEq16mEqPerL_i y: 20-10:disabilityLevelDeath4Category\n",
      "_corr_coeff: to eval: x: 01-02:first60MinAnyBloodGasBaseDeficitGreaterEq16mEqPerL_i y: 20-10_1:disabilityLevelDeath valid_x: 481 valid_y: 498\n",
      "_corr_coeff: done: x: 01-02:first60MinAnyBloodGasBaseDeficitGreaterEq16mEqPerL_i y: 20-10_1:disabilityLevelDeath\n",
      "_corr_coeff: to eval: x: 01-02:first60MinAnyBloodGasBaseDeficitGreaterEq16mEqPerL_i y: 20-04:BayleyIIICognitiveComposite valid_x: 481 valid_y: 421\n",
      "_corr_coeff: done: x: 01-02:first60MinAnyBloodGasBaseDeficitGreaterEq16mEqPerL_i y: 20-04:BayleyIIICognitiveComposite\n",
      "_corr_coeff: to eval: x: 01-02:first60MinAnyBloodGasBaseDeficitGreaterEq16mEqPerL_i y: 20-04:BayleyIIILanguageComposite valid_x: 481 valid_y: 411\n",
      "_corr_coeff: done: x: 01-02:first60MinAnyBloodGasBaseDeficitGreaterEq16mEqPerL_i y: 20-04:BayleyIIILanguageComposite\n"
     ]
    },
    {
     "name": "stderr",
     "output_type": "stream",
     "text": [
      "\r",
      "  1%|          | 3/341 [00:00<01:14,  4.56it/s]"
     ]
    },
    {
     "name": "stdout",
     "output_type": "stream",
     "text": [
      "_corr_coeff: to eval: x: 01-02:first60MinAnyBloodGasBaseDeficitGreaterEq16mEqPerL_i y: 20-04:BayleyIIIMotorComposite valid_x: 481 valid_y: 415\n",
      "_corr_coeff: done: x: 01-02:first60MinAnyBloodGasBaseDeficitGreaterEq16mEqPerL_i y: 20-04:BayleyIIIMotorComposite\n"
     ]
    },
    {
     "name": "stdout",
     "output_type": "stream",
     "text": [
      "_corr_coeff: to eval: x: 01-02:ageRand_hr y: 20-10:moderateSevereDisabilityOrDeath valid_x: 363 valid_y: 504\n",
      "_corr_coeff: done: x: 01-02:ageRand_hr y: 20-10:moderateSevereDisabilityOrDeath\n"
     ]
    },
    {
     "name": "stdout",
     "output_type": "stream",
     "text": [
      "_corr_coeff: to eval: x: 01-02:ageRand_hr y: 20-10:disabilityLevelDeath4Category valid_x: 363 valid_y: 498\n",
      "_corr_coeff: done: x: 01-02:ageRand_hr y: 20-10:disabilityLevelDeath4Category\n",
      "_corr_coeff: to eval: x: 01-02:ageRand_hr y: 20-10_1:disabilityLevelDeath valid_x: 363 valid_y: 498\n",
      "_corr_coeff: done: x: 01-02:ageRand_hr y: 20-10_1:disabilityLevelDeath\n",
      "_corr_coeff: to eval: x: 01-02:ageRand_hr y: 20-04:BayleyIIICognitiveComposite valid_x: 363 valid_y: 421\n",
      "_corr_coeff: done: x: 01-02:ageRand_hr y: 20-04:BayleyIIICognitiveComposite\n"
     ]
    },
    {
     "name": "stdout",
     "output_type": "stream",
     "text": [
      "_corr_coeff: to eval: x: 01-02:ageRand_hr y: 20-04:BayleyIIILanguageComposite valid_x: 363 valid_y: 411\n",
      "_corr_coeff: done: x: 01-02:ageRand_hr y: 20-04:BayleyIIILanguageComposite\n",
      "_corr_coeff: to eval: x: 01-02:ageRand_hr y: 20-04:BayleyIIIMotorComposite valid_x: 363 valid_y: 415\n",
      "_corr_coeff: done: x: 01-02:ageRand_hr y: 20-04:BayleyIIIMotorComposite\n"
     ]
    },
    {
     "name": "stderr",
     "output_type": "stream",
     "text": [
      "\r",
      "  1%|          | 4/341 [00:00<01:16,  4.42it/s]"
     ]
    },
    {
     "name": "stdout",
     "output_type": "stream",
     "text": [
      "_corr_coeff: to eval: x: 01-02:treatmentBlanketType y: 20-10:moderateSevereDisabilityOrDeath valid_x: 364 valid_y: 504\n",
      "_corr_coeff: done: x: 01-02:treatmentBlanketType y: 20-10:moderateSevereDisabilityOrDeath\n"
     ]
    },
    {
     "name": "stdout",
     "output_type": "stream",
     "text": [
      "_corr_coeff: to eval: x: 01-02:treatmentBlanketType y: 20-10:disabilityLevelDeath4Category valid_x: 364 valid_y: 498\n",
      "_corr_coeff: done: x: 01-02:treatmentBlanketType y: 20-10:disabilityLevelDeath4Category\n",
      "_corr_coeff: to eval: x: 01-02:treatmentBlanketType y: 20-10_1:disabilityLevelDeath valid_x: 364 valid_y: 498\n",
      "_corr_coeff: done: x: 01-02:treatmentBlanketType y: 20-10_1:disabilityLevelDeath\n",
      "_corr_coeff: to eval: x: 01-02:treatmentBlanketType y: 20-04:BayleyIIICognitiveComposite valid_x: 364 valid_y: 421\n",
      "_corr_coeff: done: x: 01-02:treatmentBlanketType y: 20-04:BayleyIIICognitiveComposite\n",
      "_corr_coeff: to eval: x: 01-02:treatmentBlanketType y: 20-04:BayleyIIILanguageComposite valid_x: 364 valid_y: 411\n",
      "_corr_coeff: done: x: 01-02:treatmentBlanketType y: 20-04:BayleyIIILanguageComposite\n"
     ]
    },
    {
     "name": "stderr",
     "output_type": "stream",
     "text": [
      "\r",
      "  1%|▏         | 5/341 [00:01<01:10,  4.75it/s]"
     ]
    },
    {
     "name": "stdout",
     "output_type": "stream",
     "text": [
      "_corr_coeff: to eval: x: 01-02:treatmentBlanketType y: 20-04:BayleyIIIMotorComposite valid_x: 364 valid_y: 415\n",
      "_corr_coeff: done: x: 01-02:treatmentBlanketType y: 20-04:BayleyIIIMotorComposite\n",
      "_corr_coeff: to eval: x: 01-02:treatmentAssignmentDuration_hr y: 20-10:moderateSevereDisabilityOrDeath valid_x: 364 valid_y: 504\n",
      "_corr_coeff: done: x: 01-02:treatmentAssignmentDuration_hr y: 20-10:moderateSevereDisabilityOrDeath\n"
     ]
    },
    {
     "name": "stdout",
     "output_type": "stream",
     "text": [
      "_corr_coeff: to eval: x: 01-02:treatmentAssignmentDuration_hr y: 20-10:disabilityLevelDeath4Category valid_x: 364 valid_y: 498\n",
      "_corr_coeff: done: x: 01-02:treatmentAssignmentDuration_hr y: 20-10:disabilityLevelDeath4Category\n"
     ]
    },
    {
     "name": "stdout",
     "output_type": "stream",
     "text": [
      "_corr_coeff: to eval: x: 01-02:treatmentAssignmentDuration_hr y: 20-10_1:disabilityLevelDeath valid_x: 364 valid_y: 498\n",
      "_corr_coeff: done: x: 01-02:treatmentAssignmentDuration_hr y: 20-10_1:disabilityLevelDeath\n",
      "_corr_coeff: to eval: x: 01-02:treatmentAssignmentDuration_hr y: 20-04:BayleyIIICognitiveComposite valid_x: 364 valid_y: 421\n",
      "_corr_coeff: done: x: 01-02:treatmentAssignmentDuration_hr y: 20-04:BayleyIIICognitiveComposite\n"
     ]
    },
    {
     "name": "stderr",
     "output_type": "stream",
     "text": [
      "\r",
      "  2%|▏         | 6/341 [00:01<01:13,  4.53it/s]"
     ]
    },
    {
     "name": "stdout",
     "output_type": "stream",
     "text": [
      "_corr_coeff: to eval: x: 01-02:treatmentAssignmentDuration_hr y: 20-04:BayleyIIILanguageComposite valid_x: 364 valid_y: 411\n",
      "_corr_coeff: done: x: 01-02:treatmentAssignmentDuration_hr y: 20-04:BayleyIIILanguageComposite\n",
      "_corr_coeff: to eval: x: 01-02:treatmentAssignmentDuration_hr y: 20-04:BayleyIIIMotorComposite valid_x: 364 valid_y: 415\n",
      "_corr_coeff: done: x: 01-02:treatmentAssignmentDuration_hr y: 20-04:BayleyIIIMotorComposite\n"
     ]
    },
    {
     "name": "stdout",
     "output_type": "stream",
     "text": [
      "_corr_coeff: to eval: x: 01-02:treatmentAssignmentTemperature y: 20-10:moderateSevereDisabilityOrDeath valid_x: 364 valid_y: 504\n",
      "_corr_coeff: done: x: 01-02:treatmentAssignmentTemperature y: 20-10:moderateSevereDisabilityOrDeath\n",
      "_corr_coeff: to eval: x: 01-02:treatmentAssignmentTemperature y: 20-10:disabilityLevelDeath4Category valid_x: 364 valid_y: 498\n",
      "_corr_coeff: done: x: 01-02:treatmentAssignmentTemperature y: 20-10:disabilityLevelDeath4Category\n",
      "_corr_coeff: to eval: x: 01-02:treatmentAssignmentTemperature y: 20-10_1:disabilityLevelDeath valid_x: 364 valid_y: 498\n",
      "_corr_coeff: done: x: 01-02:treatmentAssignmentTemperature y: 20-10_1:disabilityLevelDeath\n"
     ]
    },
    {
     "name": "stdout",
     "output_type": "stream",
     "text": [
      "_corr_coeff: to eval: x: 01-02:treatmentAssignmentTemperature y: 20-04:BayleyIIICognitiveComposite valid_x: 364 valid_y: 421\n",
      "_corr_coeff: done: x: 01-02:treatmentAssignmentTemperature y: 20-04:BayleyIIICognitiveComposite\n",
      "_corr_coeff: to eval: x: 01-02:treatmentAssignmentTemperature y: 20-04:BayleyIIILanguageComposite valid_x: 364 valid_y: 411\n",
      "_corr_coeff: done: x: 01-02:treatmentAssignmentTemperature y: 20-04:BayleyIIILanguageComposite\n"
     ]
    },
    {
     "name": "stderr",
     "output_type": "stream",
     "text": [
      "\r",
      "  2%|▏         | 7/341 [00:01<01:10,  4.76it/s]"
     ]
    },
    {
     "name": "stdout",
     "output_type": "stream",
     "text": [
      "_corr_coeff: to eval: x: 01-02:treatmentAssignmentTemperature y: 20-04:BayleyIIIMotorComposite valid_x: 364 valid_y: 415\n",
      "_corr_coeff: done: x: 01-02:treatmentAssignmentTemperature y: 20-04:BayleyIIIMotorComposite\n",
      "_corr_coeff: to eval: x: 01-02:usualCoolingTreatmentGroup y: 20-10:moderateSevereDisabilityOrDeath valid_x: 364 valid_y: 504\n",
      "_corr_coeff: done: x: 01-02:usualCoolingTreatmentGroup y: 20-10:moderateSevereDisabilityOrDeath\n"
     ]
    },
    {
     "name": "stdout",
     "output_type": "stream",
     "text": [
      "_corr_coeff: to eval: x: 01-02:usualCoolingTreatmentGroup y: 20-10:disabilityLevelDeath4Category valid_x: 364 valid_y: 498\n",
      "_corr_coeff: done: x: 01-02:usualCoolingTreatmentGroup y: 20-10:disabilityLevelDeath4Category\n"
     ]
    },
    {
     "name": "stdout",
     "output_type": "stream",
     "text": [
      "_corr_coeff: to eval: x: 01-02:usualCoolingTreatmentGroup y: 20-10_1:disabilityLevelDeath valid_x: 364 valid_y: 498\n",
      "_corr_coeff: done: x: 01-02:usualCoolingTreatmentGroup y: 20-10_1:disabilityLevelDeath\n",
      "_corr_coeff: to eval: x: 01-02:usualCoolingTreatmentGroup y: 20-04:BayleyIIICognitiveComposite valid_x: 364 valid_y: 421\n",
      "_corr_coeff: done: x: 01-02:usualCoolingTreatmentGroup y: 20-04:BayleyIIICognitiveComposite\n"
     ]
    },
    {
     "name": "stderr",
     "output_type": "stream",
     "text": [
      "\r",
      "  2%|▏         | 8/341 [00:01<01:12,  4.57it/s]"
     ]
    },
    {
     "name": "stdout",
     "output_type": "stream",
     "text": [
      "_corr_coeff: to eval: x: 01-02:usualCoolingTreatmentGroup y: 20-04:BayleyIIILanguageComposite valid_x: 364 valid_y: 411\n",
      "_corr_coeff: done: x: 01-02:usualCoolingTreatmentGroup y: 20-04:BayleyIIILanguageComposite\n",
      "_corr_coeff: to eval: x: 01-02:usualCoolingTreatmentGroup y: 20-04:BayleyIIIMotorComposite valid_x: 364 valid_y: 415\n",
      "_corr_coeff: done: x: 01-02:usualCoolingTreatmentGroup y: 20-04:BayleyIIIMotorComposite\n",
      "_corr_coeff: to eval: x: 01-02:inOtherTrial y: 20-10:moderateSevereDisabilityOrDeath valid_x: 531 valid_y: 504\n",
      "_corr_coeff: done: x: 01-02:inOtherTrial y: 20-10:moderateSevereDisabilityOrDeath\n",
      "_corr_coeff: to eval: x: 01-02:inOtherTrial y: 20-10:disabilityLevelDeath4Category valid_x: 531 valid_y: 498\n",
      "_corr_coeff: done: x: 01-02:inOtherTrial y: 20-10:disabilityLevelDeath4Category\n"
     ]
    },
    {
     "name": "stdout",
     "output_type": "stream",
     "text": [
      "_corr_coeff: to eval: x: 01-02:inOtherTrial y: 20-10_1:disabilityLevelDeath valid_x: 531 valid_y: 498\n",
      "_corr_coeff: done: x: 01-02:inOtherTrial y: 20-10_1:disabilityLevelDeath\n"
     ]
    },
    {
     "name": "stdout",
     "output_type": "stream",
     "text": [
      "_corr_coeff: to eval: x: 01-02:inOtherTrial y: 20-04:BayleyIIICognitiveComposite valid_x: 531 valid_y: 421\n",
      "_corr_coeff: done: x: 01-02:inOtherTrial y: 20-04:BayleyIIICognitiveComposite\n",
      "_corr_coeff: to eval: x: 01-02:inOtherTrial y: 20-04:BayleyIIILanguageComposite valid_x: 531 valid_y: 411\n",
      "_corr_coeff: done: x: 01-02:inOtherTrial y: 20-04:BayleyIIILanguageComposite\n"
     ]
    },
    {
     "name": "stderr",
     "output_type": "stream",
     "text": [
      "\r",
      "  3%|▎         | 9/341 [00:01<01:11,  4.67it/s]"
     ]
    },
    {
     "name": "stdout",
     "output_type": "stream",
     "text": [
      "_corr_coeff: to eval: x: 01-02:inOtherTrial y: 20-04:BayleyIIIMotorComposite valid_x: 531 valid_y: 415\n",
      "_corr_coeff: done: x: 01-02:inOtherTrial y: 20-04:BayleyIIIMotorComposite\n",
      "_corr_coeff: to eval: x: 01-03:motherAge_year y: 20-10:moderateSevereDisabilityOrDeath valid_x: 532 valid_y: 504\n",
      "_corr_coeff: done: x: 01-03:motherAge_year y: 20-10:moderateSevereDisabilityOrDeath\n"
     ]
    },
    {
     "name": "stdout",
     "output_type": "stream",
     "text": [
      "_corr_coeff: to eval: x: 01-03:motherAge_year y: 20-10:disabilityLevelDeath4Category valid_x: 532 valid_y: 498\n",
      "_corr_coeff: done: x: 01-03:motherAge_year y: 20-10:disabilityLevelDeath4Category\n"
     ]
    },
    {
     "name": "stdout",
     "output_type": "stream",
     "text": [
      "_corr_coeff: to eval: x: 01-03:motherAge_year y: 20-10_1:disabilityLevelDeath valid_x: 532 valid_y: 498\n",
      "_corr_coeff: done: x: 01-03:motherAge_year y: 20-10_1:disabilityLevelDeath\n",
      "_corr_coeff: to eval: x: 01-03:motherAge_year y: 20-04:BayleyIIICognitiveComposite valid_x: 532 valid_y: 421\n",
      "_corr_coeff: done: x: 01-03:motherAge_year y: 20-04:BayleyIIICognitiveComposite\n"
     ]
    },
    {
     "name": "stderr",
     "output_type": "stream",
     "text": [
      "\r",
      "  3%|▎         | 10/341 [00:02<01:15,  4.38it/s]"
     ]
    },
    {
     "name": "stdout",
     "output_type": "stream",
     "text": [
      "_corr_coeff: to eval: x: 01-03:motherAge_year y: 20-04:BayleyIIILanguageComposite valid_x: 532 valid_y: 411\n",
      "_corr_coeff: done: x: 01-03:motherAge_year y: 20-04:BayleyIIILanguageComposite\n",
      "_corr_coeff: to eval: x: 01-03:motherAge_year y: 20-04:BayleyIIIMotorComposite valid_x: 532 valid_y: 415\n",
      "_corr_coeff: done: x: 01-03:motherAge_year y: 20-04:BayleyIIIMotorComposite\n",
      "_corr_coeff: to eval: x: 01-03:motherRace2 y: 20-10:moderateSevereDisabilityOrDeath valid_x: 358 valid_y: 504\n",
      "_corr_coeff: done: x: 01-03:motherRace2 y: 20-10:moderateSevereDisabilityOrDeath\n",
      "_corr_coeff: to eval: x: 01-03:motherRace2 y: 20-10:disabilityLevelDeath4Category valid_x: 358 valid_y: 498\n",
      "_corr_coeff: done: x: 01-03:motherRace2 y: 20-10:disabilityLevelDeath4Category\n"
     ]
    },
    {
     "name": "stdout",
     "output_type": "stream",
     "text": [
      "_corr_coeff: to eval: x: 01-03:motherRace2 y: 20-10_1:disabilityLevelDeath valid_x: 358 valid_y: 498\n",
      "_corr_coeff: done: x: 01-03:motherRace2 y: 20-10_1:disabilityLevelDeath\n"
     ]
    },
    {
     "name": "stdout",
     "output_type": "stream",
     "text": [
      "_corr_coeff: to eval: x: 01-03:motherRace2 y: 20-04:BayleyIIICognitiveComposite valid_x: 358 valid_y: 421\n",
      "_corr_coeff: done: x: 01-03:motherRace2 y: 20-04:BayleyIIICognitiveComposite\n",
      "_corr_coeff: to eval: x: 01-03:motherRace2 y: 20-04:BayleyIIILanguageComposite valid_x: 358 valid_y: 411\n",
      "_corr_coeff: done: x: 01-03:motherRace2 y: 20-04:BayleyIIILanguageComposite\n"
     ]
    },
    {
     "name": "stderr",
     "output_type": "stream",
     "text": [
      "\r",
      "  3%|▎         | 11/341 [00:02<01:16,  4.30it/s]"
     ]
    },
    {
     "name": "stdout",
     "output_type": "stream",
     "text": [
      "_corr_coeff: to eval: x: 01-03:motherRace2 y: 20-04:BayleyIIIMotorComposite valid_x: 358 valid_y: 415\n",
      "_corr_coeff: done: x: 01-03:motherRace2 y: 20-04:BayleyIIIMotorComposite\n",
      "_corr_coeff: to eval: x: 01-03:motherEducation y: 20-10:moderateSevereDisabilityOrDeath valid_x: 450 valid_y: 504\n",
      "_corr_coeff: done: x: 01-03:motherEducation y: 20-10:moderateSevereDisabilityOrDeath\n"
     ]
    },
    {
     "name": "stdout",
     "output_type": "stream",
     "text": [
      "_corr_coeff: to eval: x: 01-03:motherEducation y: 20-10:disabilityLevelDeath4Category valid_x: 450 valid_y: 498\n",
      "_corr_coeff: done: x: 01-03:motherEducation y: 20-10:disabilityLevelDeath4Category\n"
     ]
    },
    {
     "name": "stderr",
     "output_type": "stream",
     "text": [
      "\r",
      "  4%|▎         | 12/341 [00:02<01:12,  4.51it/s]"
     ]
    },
    {
     "name": "stdout",
     "output_type": "stream",
     "text": [
      "_corr_coeff: to eval: x: 01-03:motherEducation y: 20-10_1:disabilityLevelDeath valid_x: 450 valid_y: 498\n",
      "_corr_coeff: done: x: 01-03:motherEducation y: 20-10_1:disabilityLevelDeath\n",
      "_corr_coeff: to eval: x: 01-03:motherEducation y: 20-04:BayleyIIICognitiveComposite valid_x: 450 valid_y: 421\n",
      "_corr_coeff: done: x: 01-03:motherEducation y: 20-04:BayleyIIICognitiveComposite\n",
      "_corr_coeff: to eval: x: 01-03:motherEducation y: 20-04:BayleyIIILanguageComposite valid_x: 450 valid_y: 411\n",
      "_corr_coeff: done: x: 01-03:motherEducation y: 20-04:BayleyIIILanguageComposite\n",
      "_corr_coeff: to eval: x: 01-03:motherEducation y: 20-04:BayleyIIIMotorComposite valid_x: 450 valid_y: 415\n",
      "_corr_coeff: done: x: 01-03:motherEducation y: 20-04:BayleyIIIMotorComposite\n"
     ]
    },
    {
     "name": "stdout",
     "output_type": "stream",
     "text": [
      "_corr_coeff: to eval: x: 01-03:motherEducation2 y: 20-10:moderateSevereDisabilityOrDeath valid_x: 313 valid_y: 504\n",
      "_corr_coeff: done: x: 01-03:motherEducation2 y: 20-10:moderateSevereDisabilityOrDeath\n",
      "_corr_coeff: to eval: x: 01-03:motherEducation2 y: 20-10:disabilityLevelDeath4Category valid_x: 313 valid_y: 498\n",
      "_corr_coeff: done: x: 01-03:motherEducation2 y: 20-10:disabilityLevelDeath4Category\n"
     ]
    },
    {
     "name": "stdout",
     "output_type": "stream",
     "text": [
      "_corr_coeff: to eval: x: 01-03:motherEducation2 y: 20-10_1:disabilityLevelDeath valid_x: 313 valid_y: 498\n",
      "_corr_coeff: done: x: 01-03:motherEducation2 y: 20-10_1:disabilityLevelDeath\n"
     ]
    },
    {
     "name": "stdout",
     "output_type": "stream",
     "text": [
      "_corr_coeff: to eval: x: 01-03:motherEducation2 y: 20-04:BayleyIIICognitiveComposite valid_x: 313 valid_y: 421\n",
      "_corr_coeff: done: x: 01-03:motherEducation2 y: 20-04:BayleyIIICognitiveComposite\n",
      "_corr_coeff: to eval: x: 01-03:motherEducation2 y: 20-04:BayleyIIILanguageComposite valid_x: 313 valid_y: 411\n",
      "_corr_coeff: done: x: 01-03:motherEducation2 y: 20-04:BayleyIIILanguageComposite\n",
      "_corr_coeff: to eval: x: 01-03:motherEducation2 y: 20-04:BayleyIIIMotorComposite valid_x: 313 valid_y: 415\n",
      "_corr_coeff: done: x: 01-03:motherEducation2 y: 20-04:BayleyIIIMotorComposite\n"
     ]
    },
    {
     "name": "stderr",
     "output_type": "stream",
     "text": [
      "\r",
      "  4%|▍         | 13/341 [00:02<01:13,  4.44it/s]"
     ]
    },
    {
     "name": "stdout",
     "output_type": "stream",
     "text": [
      "_corr_coeff: to eval: x: 01-03:motherInsurance y: 20-10:moderateSevereDisabilityOrDeath valid_x: 359 valid_y: 504\n",
      "_corr_coeff: done: x: 01-03:motherInsurance y: 20-10:moderateSevereDisabilityOrDeath\n",
      "_corr_coeff: to eval: x: 01-03:motherInsurance y: 20-10:disabilityLevelDeath4Category valid_x: 359 valid_y: 498\n",
      "_corr_coeff: done: x: 01-03:motherInsurance y: 20-10:disabilityLevelDeath4Category\n"
     ]
    },
    {
     "name": "stderr",
     "output_type": "stream",
     "text": [
      "\r",
      "  4%|▍         | 14/341 [00:03<01:10,  4.67it/s]"
     ]
    },
    {
     "name": "stdout",
     "output_type": "stream",
     "text": [
      "_corr_coeff: to eval: x: 01-03:motherInsurance y: 20-10_1:disabilityLevelDeath valid_x: 359 valid_y: 498\n",
      "_corr_coeff: done: x: 01-03:motherInsurance y: 20-10_1:disabilityLevelDeath\n",
      "_corr_coeff: to eval: x: 01-03:motherInsurance y: 20-04:BayleyIIICognitiveComposite valid_x: 359 valid_y: 421\n",
      "_corr_coeff: done: x: 01-03:motherInsurance y: 20-04:BayleyIIICognitiveComposite\n",
      "_corr_coeff: to eval: x: 01-03:motherInsurance y: 20-04:BayleyIIILanguageComposite valid_x: 359 valid_y: 411\n",
      "_corr_coeff: done: x: 01-03:motherInsurance y: 20-04:BayleyIIILanguageComposite\n",
      "_corr_coeff: to eval: x: 01-03:motherInsurance y: 20-04:BayleyIIIMotorComposite valid_x: 359 valid_y: 415\n",
      "_corr_coeff: done: x: 01-03:motherInsurance y: 20-04:BayleyIIIMotorComposite\n",
      "_corr_coeff: to eval: x: 01-03:motherInsurancePublic y: 20-10:moderateSevereDisabilityOrDeath valid_x: 359 valid_y: 504\n",
      "_corr_coeff: done: x: 01-03:motherInsurancePublic y: 20-10:moderateSevereDisabilityOrDeath\n"
     ]
    },
    {
     "name": "stdout",
     "output_type": "stream",
     "text": [
      "_corr_coeff: to eval: x: 01-03:motherInsurancePublic y: 20-10:disabilityLevelDeath4Category valid_x: 359 valid_y: 498\n",
      "_corr_coeff: done: x: 01-03:motherInsurancePublic y: 20-10:disabilityLevelDeath4Category\n",
      "_corr_coeff: to eval: x: 01-03:motherInsurancePublic y: 20-10_1:disabilityLevelDeath valid_x: 359 valid_y: 498\n",
      "_corr_coeff: done: x: 01-03:motherInsurancePublic y: 20-10_1:disabilityLevelDeath\n"
     ]
    },
    {
     "name": "stderr",
     "output_type": "stream",
     "text": [
      "\r",
      "  4%|▍         | 15/341 [00:03<01:12,  4.50it/s]"
     ]
    },
    {
     "name": "stdout",
     "output_type": "stream",
     "text": [
      "_corr_coeff: to eval: x: 01-03:motherInsurancePublic y: 20-04:BayleyIIICognitiveComposite valid_x: 359 valid_y: 421\n",
      "_corr_coeff: done: x: 01-03:motherInsurancePublic y: 20-04:BayleyIIICognitiveComposite\n",
      "_corr_coeff: to eval: x: 01-03:motherInsurancePublic y: 20-04:BayleyIIILanguageComposite valid_x: 359 valid_y: 411\n",
      "_corr_coeff: done: x: 01-03:motherInsurancePublic y: 20-04:BayleyIIILanguageComposite\n",
      "_corr_coeff: to eval: x: 01-03:motherInsurancePublic y: 20-04:BayleyIIIMotorComposite valid_x: 359 valid_y: 415\n",
      "_corr_coeff: done: x: 01-03:motherInsurancePublic y: 20-04:BayleyIIIMotorComposite\n"
     ]
    },
    {
     "name": "stdout",
     "output_type": "stream",
     "text": [
      "_corr_coeff: to eval: x: 01-04:gravida y: 20-10:moderateSevereDisabilityOrDeath valid_x: 532 valid_y: 504\n",
      "_corr_coeff: done: x: 01-04:gravida y: 20-10:moderateSevereDisabilityOrDeath\n",
      "_corr_coeff: to eval: x: 01-04:gravida y: 20-10:disabilityLevelDeath4Category valid_x: 532 valid_y: 498\n",
      "_corr_coeff: done: x: 01-04:gravida y: 20-10:disabilityLevelDeath4Category\n",
      "_corr_coeff: to eval: x: 01-04:gravida y: 20-10_1:disabilityLevelDeath valid_x: 532 valid_y: 498\n",
      "_corr_coeff: done: x: 01-04:gravida y: 20-10_1:disabilityLevelDeath\n",
      "_corr_coeff: to eval: x: 01-04:gravida y: 20-04:BayleyIIICognitiveComposite valid_x: 532 valid_y: 421\n",
      "_corr_coeff: done: x: 01-04:gravida y: 20-04:BayleyIIICognitiveComposite\n"
     ]
    },
    {
     "name": "stderr",
     "output_type": "stream",
     "text": [
      "\r",
      "  5%|▍         | 16/341 [00:03<01:10,  4.63it/s]"
     ]
    },
    {
     "name": "stdout",
     "output_type": "stream",
     "text": [
      "_corr_coeff: to eval: x: 01-04:gravida y: 20-04:BayleyIIILanguageComposite valid_x: 532 valid_y: 411\n",
      "_corr_coeff: done: x: 01-04:gravida y: 20-04:BayleyIIILanguageComposite\n",
      "_corr_coeff: to eval: x: 01-04:gravida y: 20-04:BayleyIIIMotorComposite valid_x: 532 valid_y: 415\n",
      "_corr_coeff: done: x: 01-04:gravida y: 20-04:BayleyIIIMotorComposite\n",
      "_corr_coeff: to eval: x: 01-04:parity y: 20-10:moderateSevereDisabilityOrDeath valid_x: 532 valid_y: 504\n",
      "_corr_coeff: done: x: 01-04:parity y: 20-10:moderateSevereDisabilityOrDeath\n"
     ]
    },
    {
     "name": "stdout",
     "output_type": "stream",
     "text": [
      "_corr_coeff: to eval: x: 01-04:parity y: 20-10:disabilityLevelDeath4Category valid_x: 532 valid_y: 498\n",
      "_corr_coeff: done: x: 01-04:parity y: 20-10:disabilityLevelDeath4Category\n",
      "_corr_coeff: to eval: x: 01-04:parity y: 20-10_1:disabilityLevelDeath valid_x: 532 valid_y: 498\n",
      "_corr_coeff: done: x: 01-04:parity y: 20-10_1:disabilityLevelDeath\n"
     ]
    },
    {
     "name": "stderr",
     "output_type": "stream",
     "text": [
      "\r",
      "  5%|▍         | 17/341 [00:03<01:13,  4.38it/s]"
     ]
    },
    {
     "name": "stdout",
     "output_type": "stream",
     "text": [
      "_corr_coeff: to eval: x: 01-04:parity y: 20-04:BayleyIIICognitiveComposite valid_x: 532 valid_y: 421\n",
      "_corr_coeff: done: x: 01-04:parity y: 20-04:BayleyIIICognitiveComposite\n",
      "_corr_coeff: to eval: x: 01-04:parity y: 20-04:BayleyIIILanguageComposite valid_x: 532 valid_y: 411\n",
      "_corr_coeff: done: x: 01-04:parity y: 20-04:BayleyIIILanguageComposite\n",
      "_corr_coeff: to eval: x: 01-04:parity y: 20-04:BayleyIIIMotorComposite valid_x: 532 valid_y: 415\n",
      "_corr_coeff: done: x: 01-04:parity y: 20-04:BayleyIIIMotorComposite\n"
     ]
    },
    {
     "name": "stdout",
     "output_type": "stream",
     "text": [
      "_corr_coeff: to eval: x: 01-04:multipleBirth y: 20-10:moderateSevereDisabilityOrDeath valid_x: 532 valid_y: 504\n",
      "_corr_coeff: done: x: 01-04:multipleBirth y: 20-10:moderateSevereDisabilityOrDeath\n",
      "_corr_coeff: to eval: x: 01-04:multipleBirth y: 20-10:disabilityLevelDeath4Category valid_x: 532 valid_y: 498\n",
      "_corr_coeff: done: x: 01-04:multipleBirth y: 20-10:disabilityLevelDeath4Category\n",
      "_corr_coeff: to eval: x: 01-04:multipleBirth y: 20-10_1:disabilityLevelDeath valid_x: 532 valid_y: 498\n",
      "_corr_coeff: done: x: 01-04:multipleBirth y: 20-10_1:disabilityLevelDeath\n",
      "_corr_coeff: to eval: x: 01-04:multipleBirth y: 20-04:BayleyIIICognitiveComposite valid_x: 532 valid_y: 421\n",
      "_corr_coeff: done: x: 01-04:multipleBirth y: 20-04:BayleyIIICognitiveComposite\n"
     ]
    },
    {
     "name": "stderr",
     "output_type": "stream",
     "text": [
      "\r",
      "  5%|▌         | 18/341 [00:03<01:11,  4.53it/s]"
     ]
    },
    {
     "name": "stdout",
     "output_type": "stream",
     "text": [
      "_corr_coeff: to eval: x: 01-04:multipleBirth y: 20-04:BayleyIIILanguageComposite valid_x: 532 valid_y: 411\n",
      "_corr_coeff: done: x: 01-04:multipleBirth y: 20-04:BayleyIIILanguageComposite\n",
      "_corr_coeff: to eval: x: 01-04:multipleBirth y: 20-04:BayleyIIIMotorComposite valid_x: 532 valid_y: 415\n",
      "_corr_coeff: done: x: 01-04:multipleBirth y: 20-04:BayleyIIIMotorComposite\n"
     ]
    },
    {
     "name": "stdout",
     "output_type": "stream",
     "text": [
      "_corr_coeff: to eval: x: 01-04:prenatalCare y: 20-10:moderateSevereDisabilityOrDeath valid_x: 528 valid_y: 504\n",
      "_corr_coeff: done: x: 01-04:prenatalCare y: 20-10:moderateSevereDisabilityOrDeath\n",
      "_corr_coeff: to eval: x: 01-04:prenatalCare y: 20-10:disabilityLevelDeath4Category valid_x: 528 valid_y: 498\n",
      "_corr_coeff: done: x: 01-04:prenatalCare y: 20-10:disabilityLevelDeath4Category\n",
      "_corr_coeff: to eval: x: 01-04:prenatalCare y: 20-10_1:disabilityLevelDeath valid_x: 528 valid_y: 498\n",
      "_corr_coeff: done: x: 01-04:prenatalCare y: 20-10_1:disabilityLevelDeath\n",
      "_corr_coeff: to eval: x: 01-04:prenatalCare y: 20-04:BayleyIIICognitiveComposite valid_x: 528 valid_y: 421\n",
      "_corr_coeff: done: x: 01-04:prenatalCare y: 20-04:BayleyIIICognitiveComposite\n",
      "_corr_coeff: to eval: x: 01-04:prenatalCare y: 20-04:BayleyIIILanguageComposite valid_x: 528 valid_y: 411\n",
      "_corr_coeff: done: x: 01-04:prenatalCare y: 20-04:BayleyIIILanguageComposite\n"
     ]
    },
    {
     "name": "stderr",
     "output_type": "stream",
     "text": [
      "\r",
      "  6%|▌         | 19/341 [00:04<01:09,  4.64it/s]"
     ]
    },
    {
     "name": "stdout",
     "output_type": "stream",
     "text": [
      "_corr_coeff: to eval: x: 01-04:prenatalCare y: 20-04:BayleyIIIMotorComposite valid_x: 528 valid_y: 415\n",
      "_corr_coeff: done: x: 01-04:prenatalCare y: 20-04:BayleyIIIMotorComposite\n",
      "_corr_coeff: to eval: x: 01-04:hypertensionEclampsia y: 20-10:moderateSevereDisabilityOrDeath valid_x: 529 valid_y: 504\n",
      "_corr_coeff: done: x: 01-04:hypertensionEclampsia y: 20-10:moderateSevereDisabilityOrDeath\n"
     ]
    },
    {
     "name": "stderr",
     "output_type": "stream",
     "text": [
      "\r",
      "  6%|▌         | 20/341 [00:04<01:07,  4.74it/s]"
     ]
    },
    {
     "name": "stdout",
     "output_type": "stream",
     "text": [
      "_corr_coeff: to eval: x: 01-04:hypertensionEclampsia y: 20-10:disabilityLevelDeath4Category valid_x: 529 valid_y: 498\n",
      "_corr_coeff: done: x: 01-04:hypertensionEclampsia y: 20-10:disabilityLevelDeath4Category\n",
      "_corr_coeff: to eval: x: 01-04:hypertensionEclampsia y: 20-10_1:disabilityLevelDeath valid_x: 529 valid_y: 498\n",
      "_corr_coeff: done: x: 01-04:hypertensionEclampsia y: 20-10_1:disabilityLevelDeath\n",
      "_corr_coeff: to eval: x: 01-04:hypertensionEclampsia y: 20-04:BayleyIIICognitiveComposite valid_x: 529 valid_y: 421\n",
      "_corr_coeff: done: x: 01-04:hypertensionEclampsia y: 20-04:BayleyIIICognitiveComposite\n",
      "_corr_coeff: to eval: x: 01-04:hypertensionEclampsia y: 20-04:BayleyIIILanguageComposite valid_x: 529 valid_y: 411\n",
      "_corr_coeff: done: x: 01-04:hypertensionEclampsia y: 20-04:BayleyIIILanguageComposite\n",
      "_corr_coeff: to eval: x: 01-04:hypertensionEclampsia y: 20-04:BayleyIIIMotorComposite valid_x: 529 valid_y: 415\n",
      "_corr_coeff: done: x: 01-04:hypertensionEclampsia y: 20-04:BayleyIIIMotorComposite\n"
     ]
    },
    {
     "name": "stdout",
     "output_type": "stream",
     "text": [
      "_corr_coeff: to eval: x: 01-04:antepartumHemorrhage y: 20-10:moderateSevereDisabilityOrDeath valid_x: 529 valid_y: 504\n",
      "_corr_coeff: done: x: 01-04:antepartumHemorrhage y: 20-10:moderateSevereDisabilityOrDeath\n",
      "_corr_coeff: to eval: x: 01-04:antepartumHemorrhage y: 20-10:disabilityLevelDeath4Category valid_x: 529 valid_y: 498\n",
      "_corr_coeff: done: x: 01-04:antepartumHemorrhage y: 20-10:disabilityLevelDeath4Category\n"
     ]
    },
    {
     "name": "stderr",
     "output_type": "stream",
     "text": [
      "\r",
      "  6%|▌         | 21/341 [00:04<01:06,  4.82it/s]"
     ]
    },
    {
     "name": "stdout",
     "output_type": "stream",
     "text": [
      "_corr_coeff: to eval: x: 01-04:antepartumHemorrhage y: 20-10_1:disabilityLevelDeath valid_x: 529 valid_y: 498\n",
      "_corr_coeff: done: x: 01-04:antepartumHemorrhage y: 20-10_1:disabilityLevelDeath\n",
      "_corr_coeff: to eval: x: 01-04:antepartumHemorrhage y: 20-04:BayleyIIICognitiveComposite valid_x: 529 valid_y: 421\n",
      "_corr_coeff: done: x: 01-04:antepartumHemorrhage y: 20-04:BayleyIIICognitiveComposite\n",
      "_corr_coeff: to eval: x: 01-04:antepartumHemorrhage y: 20-04:BayleyIIILanguageComposite valid_x: 529 valid_y: 411\n",
      "_corr_coeff: done: x: 01-04:antepartumHemorrhage y: 20-04:BayleyIIILanguageComposite\n",
      "_corr_coeff: to eval: x: 01-04:antepartumHemorrhage y: 20-04:BayleyIIIMotorComposite valid_x: 529 valid_y: 415\n",
      "_corr_coeff: done: x: 01-04:antepartumHemorrhage y: 20-04:BayleyIIIMotorComposite\n",
      "_corr_coeff: to eval: x: 01-04:thyroidMalfunction y: 20-10:moderateSevereDisabilityOrDeath valid_x: 527 valid_y: 504\n",
      "_corr_coeff: done: x: 01-04:thyroidMalfunction y: 20-10:moderateSevereDisabilityOrDeath\n"
     ]
    },
    {
     "name": "stdout",
     "output_type": "stream",
     "text": [
      "_corr_coeff: to eval: x: 01-04:thyroidMalfunction y: 20-10:disabilityLevelDeath4Category valid_x: 527 valid_y: 498\n",
      "_corr_coeff: done: x: 01-04:thyroidMalfunction y: 20-10:disabilityLevelDeath4Category\n",
      "_corr_coeff: to eval: x: 01-04:thyroidMalfunction y: 20-10_1:disabilityLevelDeath valid_x: 527 valid_y: 498\n",
      "_corr_coeff: done: x: 01-04:thyroidMalfunction y: 20-10_1:disabilityLevelDeath\n"
     ]
    },
    {
     "name": "stderr",
     "output_type": "stream",
     "text": [
      "\r",
      "  6%|▋         | 22/341 [00:04<01:05,  4.86it/s]"
     ]
    },
    {
     "name": "stdout",
     "output_type": "stream",
     "text": [
      "_corr_coeff: to eval: x: 01-04:thyroidMalfunction y: 20-04:BayleyIIICognitiveComposite valid_x: 527 valid_y: 421\n",
      "_corr_coeff: done: x: 01-04:thyroidMalfunction y: 20-04:BayleyIIICognitiveComposite\n",
      "_corr_coeff: to eval: x: 01-04:thyroidMalfunction y: 20-04:BayleyIIILanguageComposite valid_x: 527 valid_y: 411\n",
      "_corr_coeff: done: x: 01-04:thyroidMalfunction y: 20-04:BayleyIIILanguageComposite\n",
      "_corr_coeff: to eval: x: 01-04:thyroidMalfunction y: 20-04:BayleyIIIMotorComposite valid_x: 527 valid_y: 415\n",
      "_corr_coeff: done: x: 01-04:thyroidMalfunction y: 20-04:BayleyIIIMotorComposite\n",
      "_corr_coeff: to eval: x: 01-04:diabetes y: 20-10:moderateSevereDisabilityOrDeath valid_x: 528 valid_y: 504\n",
      "_corr_coeff: done: x: 01-04:diabetes y: 20-10:moderateSevereDisabilityOrDeath\n",
      "_corr_coeff: to eval: x: 01-04:diabetes y: 20-10:disabilityLevelDeath4Category valid_x: 528 valid_y: 498\n",
      "_corr_coeff: done: x: 01-04:diabetes y: 20-10:disabilityLevelDeath4Category\n"
     ]
    },
    {
     "name": "stdout",
     "output_type": "stream",
     "text": [
      "_corr_coeff: to eval: x: 01-04:diabetes y: 20-10_1:disabilityLevelDeath valid_x: 528 valid_y: 498\n",
      "_corr_coeff: done: x: 01-04:diabetes y: 20-10_1:disabilityLevelDeath\n"
     ]
    },
    {
     "name": "stderr",
     "output_type": "stream",
     "text": [
      "\r",
      "  7%|▋         | 23/341 [00:05<01:09,  4.58it/s]"
     ]
    },
    {
     "name": "stdout",
     "output_type": "stream",
     "text": [
      "_corr_coeff: to eval: x: 01-04:diabetes y: 20-04:BayleyIIICognitiveComposite valid_x: 528 valid_y: 421\n",
      "_corr_coeff: done: x: 01-04:diabetes y: 20-04:BayleyIIICognitiveComposite\n",
      "_corr_coeff: to eval: x: 01-04:diabetes y: 20-04:BayleyIIILanguageComposite valid_x: 528 valid_y: 411\n",
      "_corr_coeff: done: x: 01-04:diabetes y: 20-04:BayleyIIILanguageComposite\n",
      "_corr_coeff: to eval: x: 01-04:diabetes y: 20-04:BayleyIIIMotorComposite valid_x: 528 valid_y: 415\n",
      "_corr_coeff: done: x: 01-04:diabetes y: 20-04:BayleyIIIMotorComposite\n",
      "_corr_coeff: to eval: x: 01-05:ruptureGreater18Hr y: 20-10:moderateSevereDisabilityOrDeath valid_x: 46 valid_y: 504\n",
      "_corr_coeff: done: x: 01-05:ruptureGreater18Hr y: 20-10:moderateSevereDisabilityOrDeath\n",
      "_corr_coeff: to eval: x: 01-05:ruptureGreater18Hr y: 20-10:disabilityLevelDeath4Category valid_x: 46 valid_y: 498\n",
      "_corr_coeff: done: x: 01-05:ruptureGreater18Hr y: 20-10:disabilityLevelDeath4Category\n"
     ]
    },
    {
     "name": "stdout",
     "output_type": "stream",
     "text": [
      "_corr_coeff: to eval: x: 01-05:ruptureGreater18Hr y: 20-10_1:disabilityLevelDeath valid_x: 46 valid_y: 498\n",
      "_corr_coeff: done: x: 01-05:ruptureGreater18Hr y: 20-10_1:disabilityLevelDeath\n",
      "_corr_coeff: to eval: x: 01-05:ruptureGreater18Hr y: 20-04:BayleyIIICognitiveComposite valid_x: 46 valid_y: 421\n",
      "_corr_coeff: done: x: 01-05:ruptureGreater18Hr y: 20-04:BayleyIIICognitiveComposite\n",
      "_corr_coeff: to eval: x: 01-05:ruptureGreater18Hr y: 20-04:BayleyIIILanguageComposite valid_x: 46 valid_y: 411\n",
      "_corr_coeff: done: x: 01-05:ruptureGreater18Hr y: 20-04:BayleyIIILanguageComposite\n"
     ]
    },
    {
     "name": "stderr",
     "output_type": "stream",
     "text": [
      "\r",
      "  7%|▋         | 24/341 [00:05<01:02,  5.04it/s]"
     ]
    },
    {
     "name": "stdout",
     "output_type": "stream",
     "text": [
      "_corr_coeff: to eval: x: 01-05:ruptureGreater18Hr y: 20-04:BayleyIIIMotorComposite valid_x: 46 valid_y: 415\n",
      "_corr_coeff: done: x: 01-05:ruptureGreater18Hr y: 20-04:BayleyIIIMotorComposite\n",
      "_corr_coeff: to eval: x: 01-05:ruptureBeforeDelivery y: 20-10:moderateSevereDisabilityOrDeath valid_x: 351 valid_y: 504\n",
      "_corr_coeff: done: x: 01-05:ruptureBeforeDelivery y: 20-10:moderateSevereDisabilityOrDeath\n",
      "_corr_coeff: to eval: x: 01-05:ruptureBeforeDelivery y: 20-10:disabilityLevelDeath4Category valid_x: 351 valid_y: 498\n",
      "_corr_coeff: done: x: 01-05:ruptureBeforeDelivery y: 20-10:disabilityLevelDeath4Category\n",
      "_corr_coeff: to eval: x: 01-05:ruptureBeforeDelivery y: 20-10_1:disabilityLevelDeath valid_x: 351 valid_y: 498\n",
      "_corr_coeff: done: x: 01-05:ruptureBeforeDelivery y: 20-10_1:disabilityLevelDeath\n",
      "_corr_coeff: to eval: x: 01-05:ruptureBeforeDelivery y: 20-04:BayleyIIICognitiveComposite valid_x: 351 valid_y: 421\n",
      "_corr_coeff: done: x: 01-05:ruptureBeforeDelivery y: 20-04:BayleyIIICognitiveComposite\n"
     ]
    },
    {
     "name": "stderr",
     "output_type": "stream",
     "text": [
      "\r",
      "  7%|▋         | 25/341 [00:05<01:00,  5.18it/s]"
     ]
    },
    {
     "name": "stdout",
     "output_type": "stream",
     "text": [
      "_corr_coeff: to eval: x: 01-05:ruptureBeforeDelivery y: 20-04:BayleyIIILanguageComposite valid_x: 351 valid_y: 411\n",
      "_corr_coeff: done: x: 01-05:ruptureBeforeDelivery y: 20-04:BayleyIIILanguageComposite\n",
      "_corr_coeff: to eval: x: 01-05:ruptureBeforeDelivery y: 20-04:BayleyIIIMotorComposite valid_x: 351 valid_y: 415\n",
      "_corr_coeff: done: x: 01-05:ruptureBeforeDelivery y: 20-04:BayleyIIIMotorComposite\n"
     ]
    },
    {
     "name": "stdout",
     "output_type": "stream",
     "text": [
      "_corr_coeff: to eval: x: 01-05:labor y: 20-10:moderateSevereDisabilityOrDeath valid_x: 165 valid_y: 504\n",
      "_corr_coeff: done: x: 01-05:labor y: 20-10:moderateSevereDisabilityOrDeath\n",
      "_corr_coeff: to eval: x: 01-05:labor y: 20-10:disabilityLevelDeath4Category valid_x: 165 valid_y: 498\n",
      "_corr_coeff: done: x: 01-05:labor y: 20-10:disabilityLevelDeath4Category\n",
      "_corr_coeff: to eval: x: 01-05:labor y: 20-10_1:disabilityLevelDeath valid_x: 165 valid_y: 498\n",
      "_corr_coeff: done: x: 01-05:labor y: 20-10_1:disabilityLevelDeath\n",
      "_corr_coeff: to eval: x: 01-05:labor y: 20-04:BayleyIIICognitiveComposite valid_x: 165 valid_y: 421\n",
      "_corr_coeff: done: x: 01-05:labor y: 20-04:BayleyIIICognitiveComposite\n"
     ]
    },
    {
     "name": "stderr",
     "output_type": "stream",
     "text": [
      "\r",
      "  8%|▊         | 26/341 [00:05<01:03,  4.98it/s]"
     ]
    },
    {
     "name": "stdout",
     "output_type": "stream",
     "text": [
      "_corr_coeff: to eval: x: 01-05:labor y: 20-04:BayleyIIILanguageComposite valid_x: 165 valid_y: 411\n",
      "_corr_coeff: done: x: 01-05:labor y: 20-04:BayleyIIILanguageComposite\n",
      "_corr_coeff: to eval: x: 01-05:labor y: 20-04:BayleyIIIMotorComposite valid_x: 165 valid_y: 415\n",
      "_corr_coeff: done: x: 01-05:labor y: 20-04:BayleyIIIMotorComposite\n"
     ]
    },
    {
     "name": "stdout",
     "output_type": "stream",
     "text": [
      "_corr_coeff: to eval: x: 01-05:fetalDecelerate y: 20-10:moderateSevereDisabilityOrDeath valid_x: 527 valid_y: 504\n",
      "_corr_coeff: done: x: 01-05:fetalDecelerate y: 20-10:moderateSevereDisabilityOrDeath\n",
      "_corr_coeff: to eval: x: 01-05:fetalDecelerate y: 20-10:disabilityLevelDeath4Category valid_x: 527 valid_y: 498\n",
      "_corr_coeff: done: x: 01-05:fetalDecelerate y: 20-10:disabilityLevelDeath4Category\n",
      "_corr_coeff: to eval: x: 01-05:fetalDecelerate y: 20-10_1:disabilityLevelDeath valid_x: 527 valid_y: 498\n",
      "_corr_coeff: done: x: 01-05:fetalDecelerate y: 20-10_1:disabilityLevelDeath\n",
      "_corr_coeff: to eval: x: 01-05:fetalDecelerate y: 20-04:BayleyIIICognitiveComposite valid_x: 527 valid_y: 421\n",
      "_corr_coeff: done: x: 01-05:fetalDecelerate y: 20-04:BayleyIIICognitiveComposite\n",
      "_corr_coeff: to eval: x: 01-05:fetalDecelerate y: 20-04:BayleyIIILanguageComposite valid_x: 527 valid_y: 411\n",
      "_corr_coeff: done: x: 01-05:fetalDecelerate y: 20-04:BayleyIIILanguageComposite\n"
     ]
    },
    {
     "name": "stderr",
     "output_type": "stream",
     "text": [
      "\r",
      "  8%|▊         | 27/341 [00:05<01:03,  4.98it/s]"
     ]
    },
    {
     "name": "stdout",
     "output_type": "stream",
     "text": [
      "_corr_coeff: to eval: x: 01-05:fetalDecelerate y: 20-04:BayleyIIIMotorComposite valid_x: 527 valid_y: 415\n",
      "_corr_coeff: done: x: 01-05:fetalDecelerate y: 20-04:BayleyIIIMotorComposite\n",
      "_corr_coeff: to eval: x: 01-05:cordMishap y: 20-10:moderateSevereDisabilityOrDeath valid_x: 532 valid_y: 504\n",
      "_corr_coeff: done: x: 01-05:cordMishap y: 20-10:moderateSevereDisabilityOrDeath\n"
     ]
    },
    {
     "name": "stdout",
     "output_type": "stream",
     "text": [
      "_corr_coeff: to eval: x: 01-05:cordMishap y: 20-10:disabilityLevelDeath4Category valid_x: 532 valid_y: 498\n",
      "_corr_coeff: done: x: 01-05:cordMishap y: 20-10:disabilityLevelDeath4Category\n",
      "_corr_coeff: to eval: x: 01-05:cordMishap y: 20-10_1:disabilityLevelDeath valid_x: 532 valid_y: 498\n",
      "_corr_coeff: done: x: 01-05:cordMishap y: 20-10_1:disabilityLevelDeath\n",
      "_corr_coeff: to eval: x: 01-05:cordMishap y: 20-04:BayleyIIICognitiveComposite valid_x: 532 valid_y: 421\n",
      "_corr_coeff: done: x: 01-05:cordMishap y: 20-04:BayleyIIICognitiveComposite\n",
      "_corr_coeff: to eval: x: 01-05:cordMishap y: 20-04:BayleyIIILanguageComposite valid_x: 532 valid_y: 411\n",
      "_corr_coeff: done: x: 01-05:cordMishap y: 20-04:BayleyIIILanguageComposite\n"
     ]
    },
    {
     "name": "stderr",
     "output_type": "stream",
     "text": [
      "\r",
      "  8%|▊         | 28/341 [00:06<01:07,  4.62it/s]"
     ]
    },
    {
     "name": "stdout",
     "output_type": "stream",
     "text": [
      "_corr_coeff: to eval: x: 01-05:cordMishap y: 20-04:BayleyIIIMotorComposite valid_x: 532 valid_y: 415\n",
      "_corr_coeff: done: x: 01-05:cordMishap y: 20-04:BayleyIIIMotorComposite\n"
     ]
    },
    {
     "name": "stdout",
     "output_type": "stream",
     "text": [
      "_corr_coeff: to eval: x: 01-05:uterineRupture y: 20-10:moderateSevereDisabilityOrDeath valid_x: 532 valid_y: 504\n",
      "_corr_coeff: done: x: 01-05:uterineRupture y: 20-10:moderateSevereDisabilityOrDeath\n",
      "_corr_coeff: to eval: x: 01-05:uterineRupture y: 20-10:disabilityLevelDeath4Category valid_x: 532 valid_y: 498\n",
      "_corr_coeff: done: x: 01-05:uterineRupture y: 20-10:disabilityLevelDeath4Category\n",
      "_corr_coeff: to eval: x: 01-05:uterineRupture y: 20-10_1:disabilityLevelDeath valid_x: 532 valid_y: 498\n",
      "_corr_coeff: done: x: 01-05:uterineRupture y: 20-10_1:disabilityLevelDeath\n",
      "_corr_coeff: to eval: x: 01-05:uterineRupture y: 20-04:BayleyIIICognitiveComposite valid_x: 532 valid_y: 421\n",
      "_corr_coeff: done: x: 01-05:uterineRupture y: 20-04:BayleyIIICognitiveComposite\n",
      "_corr_coeff: to eval: x: 01-05:uterineRupture y: 20-04:BayleyIIILanguageComposite valid_x: 532 valid_y: 411\n",
      "_corr_coeff: done: x: 01-05:uterineRupture y: 20-04:BayleyIIILanguageComposite\n"
     ]
    },
    {
     "name": "stderr",
     "output_type": "stream",
     "text": [
      "\r",
      "  9%|▊         | 29/341 [00:06<01:06,  4.67it/s]"
     ]
    },
    {
     "name": "stdout",
     "output_type": "stream",
     "text": [
      "_corr_coeff: to eval: x: 01-05:uterineRupture y: 20-04:BayleyIIIMotorComposite valid_x: 532 valid_y: 415\n",
      "_corr_coeff: done: x: 01-05:uterineRupture y: 20-04:BayleyIIIMotorComposite\n"
     ]
    },
    {
     "name": "stdout",
     "output_type": "stream",
     "text": [
      "_corr_coeff: to eval: x: 01-05:shoulderDystocia y: 20-10:moderateSevereDisabilityOrDeath valid_x: 531 valid_y: 504\n",
      "_corr_coeff: done: x: 01-05:shoulderDystocia y: 20-10:moderateSevereDisabilityOrDeath\n",
      "_corr_coeff: to eval: x: 01-05:shoulderDystocia y: 20-10:disabilityLevelDeath4Category valid_x: 531 valid_y: 498\n",
      "_corr_coeff: done: x: 01-05:shoulderDystocia y: 20-10:disabilityLevelDeath4Category\n",
      "_corr_coeff: to eval: x: 01-05:shoulderDystocia y: 20-10_1:disabilityLevelDeath valid_x: 531 valid_y: 498\n",
      "_corr_coeff: done: x: 01-05:shoulderDystocia y: 20-10_1:disabilityLevelDeath\n",
      "_corr_coeff: to eval: x: 01-05:shoulderDystocia y: 20-04:BayleyIIICognitiveComposite valid_x: 531 valid_y: 421\n",
      "_corr_coeff: done: x: 01-05:shoulderDystocia y: 20-04:BayleyIIICognitiveComposite\n"
     ]
    },
    {
     "name": "stdout",
     "output_type": "stream",
     "text": [
      "_corr_coeff: to eval: x: 01-05:shoulderDystocia y: 20-04:BayleyIIILanguageComposite valid_x: 531 valid_y: 411\n",
      "_corr_coeff: done: x: 01-05:shoulderDystocia y: 20-04:BayleyIIILanguageComposite\n"
     ]
    },
    {
     "name": "stderr",
     "output_type": "stream",
     "text": [
      "\r",
      "  9%|▉         | 30/341 [00:06<01:10,  4.43it/s]"
     ]
    },
    {
     "name": "stdout",
     "output_type": "stream",
     "text": [
      "_corr_coeff: to eval: x: 01-05:shoulderDystocia y: 20-04:BayleyIIIMotorComposite valid_x: 531 valid_y: 415\n",
      "_corr_coeff: done: x: 01-05:shoulderDystocia y: 20-04:BayleyIIIMotorComposite\n",
      "_corr_coeff: to eval: x: 01-05:placentalProblem y: 20-10:moderateSevereDisabilityOrDeath valid_x: 532 valid_y: 504\n",
      "_corr_coeff: done: x: 01-05:placentalProblem y: 20-10:moderateSevereDisabilityOrDeath\n",
      "_corr_coeff: to eval: x: 01-05:placentalProblem y: 20-10:disabilityLevelDeath4Category valid_x: 532 valid_y: 498\n",
      "_corr_coeff: done: x: 01-05:placentalProblem y: 20-10:disabilityLevelDeath4Category\n",
      "_corr_coeff: to eval: x: 01-05:placentalProblem y: 20-10_1:disabilityLevelDeath valid_x: 532 valid_y: 498\n",
      "_corr_coeff: done: x: 01-05:placentalProblem y: 20-10_1:disabilityLevelDeath\n",
      "_corr_coeff: to eval: x: 01-05:placentalProblem y: 20-04:BayleyIIICognitiveComposite valid_x: 532 valid_y: 421\n",
      "_corr_coeff: done: x: 01-05:placentalProblem y: 20-04:BayleyIIICognitiveComposite\n",
      "_corr_coeff: to eval: x: 01-05:placentalProblem y: 20-04:BayleyIIILanguageComposite valid_x: 532 valid_y: 411\n",
      "_corr_coeff: done: x: 01-05:placentalProblem y: 20-04:BayleyIIILanguageComposite\n"
     ]
    },
    {
     "name": "stdout",
     "output_type": "stream",
     "text": [
      "_corr_coeff: to eval: x: 01-05:placentalProblem y: 20-04:BayleyIIIMotorComposite valid_x: 532 valid_y: 415\n",
      "_corr_coeff: done: x: 01-05:placentalProblem y: 20-04:BayleyIIIMotorComposite\n"
     ]
    },
    {
     "name": "stderr",
     "output_type": "stream",
     "text": [
      "\r",
      "  9%|▉         | 31/341 [00:06<01:07,  4.58it/s]"
     ]
    },
    {
     "name": "stdout",
     "output_type": "stream",
     "text": [
      "_corr_coeff: to eval: x: 01-05:maternalHemorrhage y: 20-10:moderateSevereDisabilityOrDeath valid_x: 532 valid_y: 504\n",
      "_corr_coeff: done: x: 01-05:maternalHemorrhage y: 20-10:moderateSevereDisabilityOrDeath\n",
      "_corr_coeff: to eval: x: 01-05:maternalHemorrhage y: 20-10:disabilityLevelDeath4Category valid_x: 532 valid_y: 498\n",
      "_corr_coeff: done: x: 01-05:maternalHemorrhage y: 20-10:disabilityLevelDeath4Category\n",
      "_corr_coeff: to eval: x: 01-05:maternalHemorrhage y: 20-10_1:disabilityLevelDeath valid_x: 532 valid_y: 498\n",
      "_corr_coeff: done: x: 01-05:maternalHemorrhage y: 20-10_1:disabilityLevelDeath\n",
      "_corr_coeff: to eval: x: 01-05:maternalHemorrhage y: 20-04:BayleyIIICognitiveComposite valid_x: 532 valid_y: 421\n",
      "_corr_coeff: done: x: 01-05:maternalHemorrhage y: 20-04:BayleyIIICognitiveComposite\n"
     ]
    },
    {
     "name": "stdout",
     "output_type": "stream",
     "text": [
      "_corr_coeff: to eval: x: 01-05:maternalHemorrhage y: 20-04:BayleyIIILanguageComposite valid_x: 532 valid_y: 411\n",
      "_corr_coeff: done: x: 01-05:maternalHemorrhage y: 20-04:BayleyIIILanguageComposite\n"
     ]
    },
    {
     "name": "stderr",
     "output_type": "stream",
     "text": [
      "\r",
      "  9%|▉         | 32/341 [00:06<01:10,  4.38it/s]"
     ]
    },
    {
     "name": "stdout",
     "output_type": "stream",
     "text": [
      "_corr_coeff: to eval: x: 01-05:maternalHemorrhage y: 20-04:BayleyIIIMotorComposite valid_x: 532 valid_y: 415\n",
      "_corr_coeff: done: x: 01-05:maternalHemorrhage y: 20-04:BayleyIIIMotorComposite\n",
      "_corr_coeff: to eval: x: 01-05:maternalTrauma y: 20-10:moderateSevereDisabilityOrDeath valid_x: 532 valid_y: 504\n",
      "_corr_coeff: done: x: 01-05:maternalTrauma y: 20-10:moderateSevereDisabilityOrDeath\n",
      "_corr_coeff: to eval: x: 01-05:maternalTrauma y: 20-10:disabilityLevelDeath4Category valid_x: 532 valid_y: 498\n",
      "_corr_coeff: done: x: 01-05:maternalTrauma y: 20-10:disabilityLevelDeath4Category\n",
      "_corr_coeff: to eval: x: 01-05:maternalTrauma y: 20-10_1:disabilityLevelDeath valid_x: 532 valid_y: 498\n",
      "_corr_coeff: done: x: 01-05:maternalTrauma y: 20-10_1:disabilityLevelDeath\n",
      "_corr_coeff: to eval: x: 01-05:maternalTrauma y: 20-04:BayleyIIICognitiveComposite valid_x: 532 valid_y: 421\n",
      "_corr_coeff: done: x: 01-05:maternalTrauma y: 20-04:BayleyIIICognitiveComposite\n",
      "_corr_coeff: to eval: x: 01-05:maternalTrauma y: 20-04:BayleyIIILanguageComposite valid_x: 532 valid_y: 411\n",
      "_corr_coeff: done: x: 01-05:maternalTrauma y: 20-04:BayleyIIILanguageComposite\n"
     ]
    },
    {
     "name": "stdout",
     "output_type": "stream",
     "text": [
      "_corr_coeff: to eval: x: 01-05:maternalTrauma y: 20-04:BayleyIIIMotorComposite valid_x: 532 valid_y: 415\n",
      "_corr_coeff: done: x: 01-05:maternalTrauma y: 20-04:BayleyIIIMotorComposite\n"
     ]
    },
    {
     "name": "stderr",
     "output_type": "stream",
     "text": [
      "\r",
      " 10%|▉         | 33/341 [00:07<01:07,  4.55it/s]"
     ]
    },
    {
     "name": "stdout",
     "output_type": "stream",
     "text": [
      "_corr_coeff: to eval: x: 01-05:maternalCardioRespiratoryArrest y: 20-10:moderateSevereDisabilityOrDeath valid_x: 532 valid_y: 504\n",
      "_corr_coeff: done: x: 01-05:maternalCardioRespiratoryArrest y: 20-10:moderateSevereDisabilityOrDeath\n",
      "_corr_coeff: to eval: x: 01-05:maternalCardioRespiratoryArrest y: 20-10:disabilityLevelDeath4Category valid_x: 532 valid_y: 498\n",
      "_corr_coeff: done: x: 01-05:maternalCardioRespiratoryArrest y: 20-10:disabilityLevelDeath4Category\n",
      "_corr_coeff: to eval: x: 01-05:maternalCardioRespiratoryArrest y: 20-10_1:disabilityLevelDeath valid_x: 532 valid_y: 498\n",
      "_corr_coeff: done: x: 01-05:maternalCardioRespiratoryArrest y: 20-10_1:disabilityLevelDeath\n",
      "_corr_coeff: to eval: x: 01-05:maternalCardioRespiratoryArrest y: 20-04:BayleyIIICognitiveComposite valid_x: 532 valid_y: 421\n",
      "_corr_coeff: done: x: 01-05:maternalCardioRespiratoryArrest y: 20-04:BayleyIIICognitiveComposite\n"
     ]
    },
    {
     "name": "stdout",
     "output_type": "stream",
     "text": [
      "_corr_coeff: to eval: x: 01-05:maternalCardioRespiratoryArrest y: 20-04:BayleyIIILanguageComposite valid_x: 532 valid_y: 411\n",
      "_corr_coeff: done: x: 01-05:maternalCardioRespiratoryArrest y: 20-04:BayleyIIILanguageComposite\n"
     ]
    },
    {
     "name": "stderr",
     "output_type": "stream",
     "text": [
      "\r",
      " 10%|▉         | 34/341 [00:07<01:10,  4.33it/s]"
     ]
    },
    {
     "name": "stdout",
     "output_type": "stream",
     "text": [
      "_corr_coeff: to eval: x: 01-05:maternalCardioRespiratoryArrest y: 20-04:BayleyIIIMotorComposite valid_x: 532 valid_y: 415\n",
      "_corr_coeff: done: x: 01-05:maternalCardioRespiratoryArrest y: 20-04:BayleyIIIMotorComposite\n",
      "_corr_coeff: to eval: x: 01-05:maternalSeizure y: 20-10:moderateSevereDisabilityOrDeath valid_x: 531 valid_y: 504\n",
      "_corr_coeff: done: x: 01-05:maternalSeizure y: 20-10:moderateSevereDisabilityOrDeath\n",
      "_corr_coeff: to eval: x: 01-05:maternalSeizure y: 20-10:disabilityLevelDeath4Category valid_x: 531 valid_y: 498\n",
      "_corr_coeff: done: x: 01-05:maternalSeizure y: 20-10:disabilityLevelDeath4Category\n",
      "_corr_coeff: to eval: x: 01-05:maternalSeizure y: 20-10_1:disabilityLevelDeath valid_x: 531 valid_y: 498\n",
      "_corr_coeff: done: x: 01-05:maternalSeizure y: 20-10_1:disabilityLevelDeath\n",
      "_corr_coeff: to eval: x: 01-05:maternalSeizure y: 20-04:BayleyIIICognitiveComposite valid_x: 531 valid_y: 421\n",
      "_corr_coeff: done: x: 01-05:maternalSeizure y: 20-04:BayleyIIICognitiveComposite\n",
      "_corr_coeff: to eval: x: 01-05:maternalSeizure y: 20-04:BayleyIIILanguageComposite valid_x: 531 valid_y: 411\n",
      "_corr_coeff: done: x: 01-05:maternalSeizure y: 20-04:BayleyIIILanguageComposite\n"
     ]
    },
    {
     "name": "stdout",
     "output_type": "stream",
     "text": [
      "_corr_coeff: to eval: x: 01-05:maternalSeizure y: 20-04:BayleyIIIMotorComposite valid_x: 531 valid_y: 415\n",
      "_corr_coeff: done: x: 01-05:maternalSeizure y: 20-04:BayleyIIIMotorComposite\n"
     ]
    },
    {
     "name": "stderr",
     "output_type": "stream",
     "text": [
      "\r",
      " 10%|█         | 35/341 [00:07<01:08,  4.50it/s]"
     ]
    },
    {
     "name": "stdout",
     "output_type": "stream",
     "text": [
      "_corr_coeff: to eval: x: 01-05:perinatalSentinelEvent y: 20-10:moderateSevereDisabilityOrDeath valid_x: 362 valid_y: 504\n",
      "_corr_coeff: done: x: 01-05:perinatalSentinelEvent y: 20-10:moderateSevereDisabilityOrDeath\n",
      "_corr_coeff: to eval: x: 01-05:perinatalSentinelEvent y: 20-10:disabilityLevelDeath4Category valid_x: 362 valid_y: 498\n",
      "_corr_coeff: done: x: 01-05:perinatalSentinelEvent y: 20-10:disabilityLevelDeath4Category\n",
      "_corr_coeff: to eval: x: 01-05:perinatalSentinelEvent y: 20-10_1:disabilityLevelDeath valid_x: 362 valid_y: 498\n",
      "_corr_coeff: done: x: 01-05:perinatalSentinelEvent y: 20-10_1:disabilityLevelDeath\n",
      "_corr_coeff: to eval: x: 01-05:perinatalSentinelEvent y: 20-04:BayleyIIICognitiveComposite valid_x: 362 valid_y: 421\n",
      "_corr_coeff: done: x: 01-05:perinatalSentinelEvent y: 20-04:BayleyIIICognitiveComposite\n"
     ]
    },
    {
     "name": "stdout",
     "output_type": "stream",
     "text": [
      "_corr_coeff: to eval: x: 01-05:perinatalSentinelEvent y: 20-04:BayleyIIILanguageComposite valid_x: 362 valid_y: 411\n",
      "_corr_coeff: done: x: 01-05:perinatalSentinelEvent y: 20-04:BayleyIIILanguageComposite\n"
     ]
    },
    {
     "name": "stderr",
     "output_type": "stream",
     "text": [
      "\r",
      " 11%|█         | 36/341 [00:07<01:09,  4.41it/s]"
     ]
    },
    {
     "name": "stdout",
     "output_type": "stream",
     "text": [
      "_corr_coeff: to eval: x: 01-05:perinatalSentinelEvent y: 20-04:BayleyIIIMotorComposite valid_x: 362 valid_y: 415\n",
      "_corr_coeff: done: x: 01-05:perinatalSentinelEvent y: 20-04:BayleyIIIMotorComposite\n",
      "_corr_coeff: to eval: x: 01-05:pyrexiaGreater37p6C y: 20-10:moderateSevereDisabilityOrDeath valid_x: 525 valid_y: 504\n",
      "_corr_coeff: done: x: 01-05:pyrexiaGreater37p6C y: 20-10:moderateSevereDisabilityOrDeath\n",
      "_corr_coeff: to eval: x: 01-05:pyrexiaGreater37p6C y: 20-10:disabilityLevelDeath4Category valid_x: 525 valid_y: 498\n",
      "_corr_coeff: done: x: 01-05:pyrexiaGreater37p6C y: 20-10:disabilityLevelDeath4Category\n",
      "_corr_coeff: to eval: x: 01-05:pyrexiaGreater37p6C y: 20-10_1:disabilityLevelDeath valid_x: 525 valid_y: 498\n",
      "_corr_coeff: done: x: 01-05:pyrexiaGreater37p6C y: 20-10_1:disabilityLevelDeath\n",
      "_corr_coeff: to eval: x: 01-05:pyrexiaGreater37p6C y: 20-04:BayleyIIICognitiveComposite valid_x: 525 valid_y: 421\n",
      "_corr_coeff: done: x: 01-05:pyrexiaGreater37p6C y: 20-04:BayleyIIICognitiveComposite\n",
      "_corr_coeff: to eval: x: 01-05:pyrexiaGreater37p6C y: 20-04:BayleyIIILanguageComposite valid_x: 525 valid_y: 411\n",
      "_corr_coeff: done: x: 01-05:pyrexiaGreater37p6C y: 20-04:BayleyIIILanguageComposite\n"
     ]
    },
    {
     "name": "stderr",
     "output_type": "stream",
     "text": [
      "\r",
      " 11%|█         | 37/341 [00:08<01:06,  4.57it/s]"
     ]
    },
    {
     "name": "stdout",
     "output_type": "stream",
     "text": [
      "_corr_coeff: to eval: x: 01-05:pyrexiaGreater37p6C y: 20-04:BayleyIIIMotorComposite valid_x: 525 valid_y: 415\n",
      "_corr_coeff: done: x: 01-05:pyrexiaGreater37p6C y: 20-04:BayleyIIIMotorComposite\n"
     ]
    },
    {
     "name": "stdout",
     "output_type": "stream",
     "text": [
      "_corr_coeff: to eval: x: 01-05:chorioamnionitis y: 20-10:moderateSevereDisabilityOrDeath valid_x: 519 valid_y: 504\n",
      "_corr_coeff: done: x: 01-05:chorioamnionitis y: 20-10:moderateSevereDisabilityOrDeath\n",
      "_corr_coeff: to eval: x: 01-05:chorioamnionitis y: 20-10:disabilityLevelDeath4Category valid_x: 519 valid_y: 498\n",
      "_corr_coeff: done: x: 01-05:chorioamnionitis y: 20-10:disabilityLevelDeath4Category\n",
      "_corr_coeff: to eval: x: 01-05:chorioamnionitis y: 20-10_1:disabilityLevelDeath valid_x: 519 valid_y: 498\n",
      "_corr_coeff: done: x: 01-05:chorioamnionitis y: 20-10_1:disabilityLevelDeath\n",
      "_corr_coeff: to eval: x: 01-05:chorioamnionitis y: 20-04:BayleyIIICognitiveComposite valid_x: 519 valid_y: 421\n",
      "_corr_coeff: done: x: 01-05:chorioamnionitis y: 20-04:BayleyIIICognitiveComposite\n"
     ]
    },
    {
     "name": "stderr",
     "output_type": "stream",
     "text": [
      "\r",
      " 11%|█         | 38/341 [00:08<01:09,  4.38it/s]"
     ]
    },
    {
     "name": "stdout",
     "output_type": "stream",
     "text": [
      "_corr_coeff: to eval: x: 01-05:chorioamnionitis y: 20-04:BayleyIIILanguageComposite valid_x: 519 valid_y: 411\n",
      "_corr_coeff: done: x: 01-05:chorioamnionitis y: 20-04:BayleyIIILanguageComposite\n",
      "_corr_coeff: to eval: x: 01-05:chorioamnionitis y: 20-04:BayleyIIIMotorComposite valid_x: 519 valid_y: 415\n",
      "_corr_coeff: done: x: 01-05:chorioamnionitis y: 20-04:BayleyIIIMotorComposite\n",
      "_corr_coeff: to eval: x: 01-05:placentalPathologyPerformed y: 20-10:moderateSevereDisabilityOrDeath valid_x: 430 valid_y: 504\n",
      "_corr_coeff: done: x: 01-05:placentalPathologyPerformed y: 20-10:moderateSevereDisabilityOrDeath\n"
     ]
    },
    {
     "name": "stdout",
     "output_type": "stream",
     "text": [
      "_corr_coeff: to eval: x: 01-05:placentalPathologyPerformed y: 20-10:disabilityLevelDeath4Category valid_x: 430 valid_y: 498\n",
      "_corr_coeff: done: x: 01-05:placentalPathologyPerformed y: 20-10:disabilityLevelDeath4Category\n",
      "_corr_coeff: to eval: x: 01-05:placentalPathologyPerformed y: 20-10_1:disabilityLevelDeath valid_x: 430 valid_y: 498\n",
      "_corr_coeff: done: x: 01-05:placentalPathologyPerformed y: 20-10_1:disabilityLevelDeath\n",
      "_corr_coeff: to eval: x: 01-05:placentalPathologyPerformed y: 20-04:BayleyIIICognitiveComposite valid_x: 430 valid_y: 421\n",
      "_corr_coeff: done: x: 01-05:placentalPathologyPerformed y: 20-04:BayleyIIICognitiveComposite\n",
      "_corr_coeff: to eval: x: 01-05:placentalPathologyPerformed y: 20-04:BayleyIIILanguageComposite valid_x: 430 valid_y: 411\n",
      "_corr_coeff: done: x: 01-05:placentalPathologyPerformed y: 20-04:BayleyIIILanguageComposite\n"
     ]
    },
    {
     "name": "stderr",
     "output_type": "stream",
     "text": [
      "\r",
      " 11%|█▏        | 39/341 [00:08<01:11,  4.25it/s]"
     ]
    },
    {
     "name": "stdout",
     "output_type": "stream",
     "text": [
      "_corr_coeff: to eval: x: 01-05:placentalPathologyPerformed y: 20-04:BayleyIIIMotorComposite valid_x: 430 valid_y: 415\n",
      "_corr_coeff: done: x: 01-05:placentalPathologyPerformed y: 20-04:BayleyIIIMotorComposite\n"
     ]
    },
    {
     "name": "stderr",
     "output_type": "stream",
     "text": [
      "\r",
      " 12%|█▏        | 40/341 [00:08<01:05,  4.61it/s]"
     ]
    },
    {
     "name": "stdout",
     "output_type": "stream",
     "text": [
      "_corr_coeff: to eval: x: 01-05:histologicChorioamionitis y: 20-10:moderateSevereDisabilityOrDeath valid_x: 240 valid_y: 504\n",
      "_corr_coeff: done: x: 01-05:histologicChorioamionitis y: 20-10:moderateSevereDisabilityOrDeath\n",
      "_corr_coeff: to eval: x: 01-05:histologicChorioamionitis y: 20-10:disabilityLevelDeath4Category valid_x: 240 valid_y: 498\n",
      "_corr_coeff: done: x: 01-05:histologicChorioamionitis y: 20-10:disabilityLevelDeath4Category\n",
      "_corr_coeff: to eval: x: 01-05:histologicChorioamionitis y: 20-10_1:disabilityLevelDeath valid_x: 240 valid_y: 498\n",
      "_corr_coeff: done: x: 01-05:histologicChorioamionitis y: 20-10_1:disabilityLevelDeath\n",
      "_corr_coeff: to eval: x: 01-05:histologicChorioamionitis y: 20-04:BayleyIIICognitiveComposite valid_x: 240 valid_y: 421\n",
      "_corr_coeff: done: x: 01-05:histologicChorioamionitis y: 20-04:BayleyIIICognitiveComposite\n",
      "_corr_coeff: to eval: x: 01-05:histologicChorioamionitis y: 20-04:BayleyIIILanguageComposite valid_x: 240 valid_y: 411\n",
      "_corr_coeff: done: x: 01-05:histologicChorioamionitis y: 20-04:BayleyIIILanguageComposite\n",
      "_corr_coeff: to eval: x: 01-05:histologicChorioamionitis y: 20-04:BayleyIIIMotorComposite valid_x: 240 valid_y: 415\n",
      "_corr_coeff: done: x: 01-05:histologicChorioamionitis y: 20-04:BayleyIIIMotorComposite\n"
     ]
    },
    {
     "name": "stdout",
     "output_type": "stream",
     "text": [
      "_corr_coeff: to eval: x: 01-05:laborAntibiotics y: 20-10:moderateSevereDisabilityOrDeath valid_x: 506 valid_y: 504\n",
      "_corr_coeff: done: x: 01-05:laborAntibiotics y: 20-10:moderateSevereDisabilityOrDeath\n"
     ]
    },
    {
     "name": "stdout",
     "output_type": "stream",
     "text": [
      "_corr_coeff: to eval: x: 01-05:laborAntibiotics y: 20-10:disabilityLevelDeath4Category valid_x: 506 valid_y: 498\n",
      "_corr_coeff: done: x: 01-05:laborAntibiotics y: 20-10:disabilityLevelDeath4Category\n",
      "_corr_coeff: to eval: x: 01-05:laborAntibiotics y: 20-10_1:disabilityLevelDeath valid_x: 506 valid_y: 498\n",
      "_corr_coeff: done: x: 01-05:laborAntibiotics y: 20-10_1:disabilityLevelDeath\n",
      "_corr_coeff: to eval: x: 01-05:laborAntibiotics y: 20-04:BayleyIIICognitiveComposite valid_x: 506 valid_y: 421\n",
      "_corr_coeff: done: x: 01-05:laborAntibiotics y: 20-04:BayleyIIICognitiveComposite\n",
      "_corr_coeff: to eval: x: 01-05:laborAntibiotics y: 20-04:BayleyIIILanguageComposite valid_x: 506 valid_y: 411\n",
      "_corr_coeff: done: x: 01-05:laborAntibiotics y: 20-04:BayleyIIILanguageComposite\n"
     ]
    },
    {
     "name": "stderr",
     "output_type": "stream",
     "text": [
      "\r",
      " 12%|█▏        | 41/341 [00:08<01:08,  4.36it/s]"
     ]
    },
    {
     "name": "stdout",
     "output_type": "stream",
     "text": [
      "_corr_coeff: to eval: x: 01-05:laborAntibiotics y: 20-04:BayleyIIIMotorComposite valid_x: 506 valid_y: 415\n",
      "_corr_coeff: done: x: 01-05:laborAntibiotics y: 20-04:BayleyIIIMotorComposite\n"
     ]
    },
    {
     "name": "stderr",
     "output_type": "stream",
     "text": [
      "\r",
      " 12%|█▏        | 42/341 [00:09<01:05,  4.60it/s]"
     ]
    },
    {
     "name": "stdout",
     "output_type": "stream",
     "text": [
      "_corr_coeff: to eval: x: 01-05:emergencyCSection y: 20-10:moderateSevereDisabilityOrDeath valid_x: 364 valid_y: 504\n",
      "_corr_coeff: done: x: 01-05:emergencyCSection y: 20-10:moderateSevereDisabilityOrDeath\n",
      "_corr_coeff: to eval: x: 01-05:emergencyCSection y: 20-10:disabilityLevelDeath4Category valid_x: 364 valid_y: 498\n",
      "_corr_coeff: done: x: 01-05:emergencyCSection y: 20-10:disabilityLevelDeath4Category\n",
      "_corr_coeff: to eval: x: 01-05:emergencyCSection y: 20-10_1:disabilityLevelDeath valid_x: 364 valid_y: 498\n",
      "_corr_coeff: done: x: 01-05:emergencyCSection y: 20-10_1:disabilityLevelDeath\n",
      "_corr_coeff: to eval: x: 01-05:emergencyCSection y: 20-04:BayleyIIICognitiveComposite valid_x: 364 valid_y: 421\n",
      "_corr_coeff: done: x: 01-05:emergencyCSection y: 20-04:BayleyIIICognitiveComposite\n",
      "_corr_coeff: to eval: x: 01-05:emergencyCSection y: 20-04:BayleyIIILanguageComposite valid_x: 364 valid_y: 411\n",
      "_corr_coeff: done: x: 01-05:emergencyCSection y: 20-04:BayleyIIILanguageComposite\n",
      "_corr_coeff: to eval: x: 01-05:emergencyCSection y: 20-04:BayleyIIIMotorComposite valid_x: 364 valid_y: 415\n",
      "_corr_coeff: done: x: 01-05:emergencyCSection y: 20-04:BayleyIIIMotorComposite\n"
     ]
    },
    {
     "name": "stdout",
     "output_type": "stream",
     "text": [
      "_corr_coeff: to eval: x: 01-05_1:cordMishap y: 20-10:moderateSevereDisabilityOrDeath valid_x: 532 valid_y: 504\n",
      "_corr_coeff: done: x: 01-05_1:cordMishap y: 20-10:moderateSevereDisabilityOrDeath\n"
     ]
    },
    {
     "name": "stdout",
     "output_type": "stream",
     "text": [
      "_corr_coeff: to eval: x: 01-05_1:cordMishap y: 20-10:disabilityLevelDeath4Category valid_x: 532 valid_y: 498\n",
      "_corr_coeff: done: x: 01-05_1:cordMishap y: 20-10:disabilityLevelDeath4Category\n",
      "_corr_coeff: to eval: x: 01-05_1:cordMishap y: 20-10_1:disabilityLevelDeath valid_x: 532 valid_y: 498\n",
      "_corr_coeff: done: x: 01-05_1:cordMishap y: 20-10_1:disabilityLevelDeath\n",
      "_corr_coeff: to eval: x: 01-05_1:cordMishap y: 20-04:BayleyIIICognitiveComposite valid_x: 532 valid_y: 421\n",
      "_corr_coeff: done: x: 01-05_1:cordMishap y: 20-04:BayleyIIICognitiveComposite\n",
      "_corr_coeff: to eval: x: 01-05_1:cordMishap y: 20-04:BayleyIIILanguageComposite valid_x: 532 valid_y: 411\n",
      "_corr_coeff: done: x: 01-05_1:cordMishap y: 20-04:BayleyIIILanguageComposite\n"
     ]
    },
    {
     "name": "stderr",
     "output_type": "stream",
     "text": [
      "\r",
      " 13%|█▎        | 43/341 [00:09<01:08,  4.32it/s]"
     ]
    },
    {
     "name": "stdout",
     "output_type": "stream",
     "text": [
      "_corr_coeff: to eval: x: 01-05_1:cordMishap y: 20-04:BayleyIIIMotorComposite valid_x: 532 valid_y: 415\n",
      "_corr_coeff: done: x: 01-05_1:cordMishap y: 20-04:BayleyIIIMotorComposite\n"
     ]
    },
    {
     "name": "stdout",
     "output_type": "stream",
     "text": [
      "_corr_coeff: to eval: x: 01-05_1:uterineRupture y: 20-10:moderateSevereDisabilityOrDeath valid_x: 532 valid_y: 504\n",
      "_corr_coeff: done: x: 01-05_1:uterineRupture y: 20-10:moderateSevereDisabilityOrDeath\n",
      "_corr_coeff: to eval: x: 01-05_1:uterineRupture y: 20-10:disabilityLevelDeath4Category valid_x: 532 valid_y: 498\n",
      "_corr_coeff: done: x: 01-05_1:uterineRupture y: 20-10:disabilityLevelDeath4Category\n",
      "_corr_coeff: to eval: x: 01-05_1:uterineRupture y: 20-10_1:disabilityLevelDeath valid_x: 532 valid_y: 498\n",
      "_corr_coeff: done: x: 01-05_1:uterineRupture y: 20-10_1:disabilityLevelDeath\n",
      "_corr_coeff: to eval: x: 01-05_1:uterineRupture y: 20-04:BayleyIIICognitiveComposite valid_x: 532 valid_y: 421\n",
      "_corr_coeff: done: x: 01-05_1:uterineRupture y: 20-04:BayleyIIICognitiveComposite\n",
      "_corr_coeff: to eval: x: 01-05_1:uterineRupture y: 20-04:BayleyIIILanguageComposite valid_x: 532 valid_y: 411\n",
      "_corr_coeff: done: x: 01-05_1:uterineRupture y: 20-04:BayleyIIILanguageComposite\n"
     ]
    },
    {
     "name": "stderr",
     "output_type": "stream",
     "text": [
      "\r",
      " 13%|█▎        | 44/341 [00:09<01:07,  4.38it/s]"
     ]
    },
    {
     "name": "stdout",
     "output_type": "stream",
     "text": [
      "_corr_coeff: to eval: x: 01-05_1:uterineRupture y: 20-04:BayleyIIIMotorComposite valid_x: 532 valid_y: 415\n",
      "_corr_coeff: done: x: 01-05_1:uterineRupture y: 20-04:BayleyIIIMotorComposite\n"
     ]
    },
    {
     "name": "stdout",
     "output_type": "stream",
     "text": [
      "_corr_coeff: to eval: x: 01-05_1:placentalProblem y: 20-10:moderateSevereDisabilityOrDeath valid_x: 532 valid_y: 504\n",
      "_corr_coeff: done: x: 01-05_1:placentalProblem y: 20-10:moderateSevereDisabilityOrDeath\n",
      "_corr_coeff: to eval: x: 01-05_1:placentalProblem y: 20-10:disabilityLevelDeath4Category valid_x: 532 valid_y: 498\n",
      "_corr_coeff: done: x: 01-05_1:placentalProblem y: 20-10:disabilityLevelDeath4Category\n",
      "_corr_coeff: to eval: x: 01-05_1:placentalProblem y: 20-10_1:disabilityLevelDeath valid_x: 532 valid_y: 498\n",
      "_corr_coeff: done: x: 01-05_1:placentalProblem y: 20-10_1:disabilityLevelDeath\n",
      "_corr_coeff: to eval: x: 01-05_1:placentalProblem y: 20-04:BayleyIIICognitiveComposite valid_x: 532 valid_y: 421\n",
      "_corr_coeff: done: x: 01-05_1:placentalProblem y: 20-04:BayleyIIICognitiveComposite\n"
     ]
    },
    {
     "name": "stdout",
     "output_type": "stream",
     "text": [
      "_corr_coeff: to eval: x: 01-05_1:placentalProblem y: 20-04:BayleyIIILanguageComposite valid_x: 532 valid_y: 411\n",
      "_corr_coeff: done: x: 01-05_1:placentalProblem y: 20-04:BayleyIIILanguageComposite\n"
     ]
    },
    {
     "name": "stderr",
     "output_type": "stream",
     "text": [
      "\r",
      " 13%|█▎        | 45/341 [00:09<01:10,  4.21it/s]"
     ]
    },
    {
     "name": "stdout",
     "output_type": "stream",
     "text": [
      "_corr_coeff: to eval: x: 01-05_1:placentalProblem y: 20-04:BayleyIIIMotorComposite valid_x: 532 valid_y: 415\n",
      "_corr_coeff: done: x: 01-05_1:placentalProblem y: 20-04:BayleyIIIMotorComposite\n",
      "_corr_coeff: to eval: x: 01-05_1:shoulderDystocia y: 20-10:moderateSevereDisabilityOrDeath valid_x: 531 valid_y: 504\n",
      "_corr_coeff: done: x: 01-05_1:shoulderDystocia y: 20-10:moderateSevereDisabilityOrDeath\n",
      "_corr_coeff: to eval: x: 01-05_1:shoulderDystocia y: 20-10:disabilityLevelDeath4Category valid_x: 531 valid_y: 498\n",
      "_corr_coeff: done: x: 01-05_1:shoulderDystocia y: 20-10:disabilityLevelDeath4Category\n",
      "_corr_coeff: to eval: x: 01-05_1:shoulderDystocia y: 20-10_1:disabilityLevelDeath valid_x: 531 valid_y: 498\n",
      "_corr_coeff: done: x: 01-05_1:shoulderDystocia y: 20-10_1:disabilityLevelDeath\n",
      "_corr_coeff: to eval: x: 01-05_1:shoulderDystocia y: 20-04:BayleyIIICognitiveComposite valid_x: 531 valid_y: 421\n",
      "_corr_coeff: done: x: 01-05_1:shoulderDystocia y: 20-04:BayleyIIICognitiveComposite\n",
      "_corr_coeff: to eval: x: 01-05_1:shoulderDystocia y: 20-04:BayleyIIILanguageComposite valid_x: 531 valid_y: 411\n",
      "_corr_coeff: done: x: 01-05_1:shoulderDystocia y: 20-04:BayleyIIILanguageComposite\n"
     ]
    },
    {
     "name": "stderr",
     "output_type": "stream",
     "text": [
      "\r",
      " 13%|█▎        | 46/341 [00:10<01:06,  4.42it/s]"
     ]
    },
    {
     "name": "stdout",
     "output_type": "stream",
     "text": [
      "_corr_coeff: to eval: x: 01-05_1:shoulderDystocia y: 20-04:BayleyIIIMotorComposite valid_x: 531 valid_y: 415\n",
      "_corr_coeff: done: x: 01-05_1:shoulderDystocia y: 20-04:BayleyIIIMotorComposite\n"
     ]
    },
    {
     "name": "stderr",
     "output_type": "stream",
     "text": [
      "\r",
      " 14%|█▍        | 47/341 [00:10<01:04,  4.58it/s]"
     ]
    },
    {
     "name": "stdout",
     "output_type": "stream",
     "text": [
      "_corr_coeff: to eval: x: 01-05_1:maternalHemorrhage y: 20-10:moderateSevereDisabilityOrDeath valid_x: 532 valid_y: 504\n",
      "_corr_coeff: done: x: 01-05_1:maternalHemorrhage y: 20-10:moderateSevereDisabilityOrDeath\n",
      "_corr_coeff: to eval: x: 01-05_1:maternalHemorrhage y: 20-10:disabilityLevelDeath4Category valid_x: 532 valid_y: 498\n",
      "_corr_coeff: done: x: 01-05_1:maternalHemorrhage y: 20-10:disabilityLevelDeath4Category\n",
      "_corr_coeff: to eval: x: 01-05_1:maternalHemorrhage y: 20-10_1:disabilityLevelDeath valid_x: 532 valid_y: 498\n",
      "_corr_coeff: done: x: 01-05_1:maternalHemorrhage y: 20-10_1:disabilityLevelDeath\n",
      "_corr_coeff: to eval: x: 01-05_1:maternalHemorrhage y: 20-04:BayleyIIICognitiveComposite valid_x: 532 valid_y: 421\n",
      "_corr_coeff: done: x: 01-05_1:maternalHemorrhage y: 20-04:BayleyIIICognitiveComposite\n",
      "_corr_coeff: to eval: x: 01-05_1:maternalHemorrhage y: 20-04:BayleyIIILanguageComposite valid_x: 532 valid_y: 411\n",
      "_corr_coeff: done: x: 01-05_1:maternalHemorrhage y: 20-04:BayleyIIILanguageComposite\n",
      "_corr_coeff: to eval: x: 01-05_1:maternalHemorrhage y: 20-04:BayleyIIIMotorComposite valid_x: 532 valid_y: 415\n",
      "_corr_coeff: done: x: 01-05_1:maternalHemorrhage y: 20-04:BayleyIIIMotorComposite\n"
     ]
    },
    {
     "name": "stdout",
     "output_type": "stream",
     "text": [
      "_corr_coeff: to eval: x: 01-05_1:maternalTrauma y: 20-10:moderateSevereDisabilityOrDeath valid_x: 532 valid_y: 504\n",
      "_corr_coeff: done: x: 01-05_1:maternalTrauma y: 20-10:moderateSevereDisabilityOrDeath\n"
     ]
    },
    {
     "name": "stderr",
     "output_type": "stream",
     "text": [
      "\r",
      " 14%|█▍        | 48/341 [00:10<01:02,  4.70it/s]"
     ]
    },
    {
     "name": "stdout",
     "output_type": "stream",
     "text": [
      "_corr_coeff: to eval: x: 01-05_1:maternalTrauma y: 20-10:disabilityLevelDeath4Category valid_x: 532 valid_y: 498\n",
      "_corr_coeff: done: x: 01-05_1:maternalTrauma y: 20-10:disabilityLevelDeath4Category\n",
      "_corr_coeff: to eval: x: 01-05_1:maternalTrauma y: 20-10_1:disabilityLevelDeath valid_x: 532 valid_y: 498\n",
      "_corr_coeff: done: x: 01-05_1:maternalTrauma y: 20-10_1:disabilityLevelDeath\n",
      "_corr_coeff: to eval: x: 01-05_1:maternalTrauma y: 20-04:BayleyIIICognitiveComposite valid_x: 532 valid_y: 421\n",
      "_corr_coeff: done: x: 01-05_1:maternalTrauma y: 20-04:BayleyIIICognitiveComposite\n",
      "_corr_coeff: to eval: x: 01-05_1:maternalTrauma y: 20-04:BayleyIIILanguageComposite valid_x: 532 valid_y: 411\n",
      "_corr_coeff: done: x: 01-05_1:maternalTrauma y: 20-04:BayleyIIILanguageComposite\n",
      "_corr_coeff: to eval: x: 01-05_1:maternalTrauma y: 20-04:BayleyIIIMotorComposite valid_x: 532 valid_y: 415\n",
      "_corr_coeff: done: x: 01-05_1:maternalTrauma y: 20-04:BayleyIIIMotorComposite\n",
      "_corr_coeff: to eval: x: 01-05_1:maternalCardioRespiratoryArrest y: 20-10:moderateSevereDisabilityOrDeath valid_x: 532 valid_y: 504\n",
      "_corr_coeff: done: x: 01-05_1:maternalCardioRespiratoryArrest y: 20-10:moderateSevereDisabilityOrDeath\n"
     ]
    },
    {
     "name": "stdout",
     "output_type": "stream",
     "text": [
      "_corr_coeff: to eval: x: 01-05_1:maternalCardioRespiratoryArrest y: 20-10:disabilityLevelDeath4Category valid_x: 532 valid_y: 498\n",
      "_corr_coeff: done: x: 01-05_1:maternalCardioRespiratoryArrest y: 20-10:disabilityLevelDeath4Category\n"
     ]
    },
    {
     "name": "stderr",
     "output_type": "stream",
     "text": [
      "\r",
      " 14%|█▍        | 49/341 [00:10<01:00,  4.79it/s]"
     ]
    },
    {
     "name": "stdout",
     "output_type": "stream",
     "text": [
      "_corr_coeff: to eval: x: 01-05_1:maternalCardioRespiratoryArrest y: 20-10_1:disabilityLevelDeath valid_x: 532 valid_y: 498\n",
      "_corr_coeff: done: x: 01-05_1:maternalCardioRespiratoryArrest y: 20-10_1:disabilityLevelDeath\n",
      "_corr_coeff: to eval: x: 01-05_1:maternalCardioRespiratoryArrest y: 20-04:BayleyIIICognitiveComposite valid_x: 532 valid_y: 421\n",
      "_corr_coeff: done: x: 01-05_1:maternalCardioRespiratoryArrest y: 20-04:BayleyIIICognitiveComposite\n",
      "_corr_coeff: to eval: x: 01-05_1:maternalCardioRespiratoryArrest y: 20-04:BayleyIIILanguageComposite valid_x: 532 valid_y: 411\n",
      "_corr_coeff: done: x: 01-05_1:maternalCardioRespiratoryArrest y: 20-04:BayleyIIILanguageComposite\n",
      "_corr_coeff: to eval: x: 01-05_1:maternalCardioRespiratoryArrest y: 20-04:BayleyIIIMotorComposite valid_x: 532 valid_y: 415\n",
      "_corr_coeff: done: x: 01-05_1:maternalCardioRespiratoryArrest y: 20-04:BayleyIIIMotorComposite\n",
      "_corr_coeff: to eval: x: 01-05_1:maternalSeizure y: 20-10:moderateSevereDisabilityOrDeath valid_x: 531 valid_y: 504\n",
      "_corr_coeff: done: x: 01-05_1:maternalSeizure y: 20-10:moderateSevereDisabilityOrDeath\n",
      "_corr_coeff: to eval: x: 01-05_1:maternalSeizure y: 20-10:disabilityLevelDeath4Category valid_x: 531 valid_y: 498\n",
      "_corr_coeff: done: x: 01-05_1:maternalSeizure y: 20-10:disabilityLevelDeath4Category\n"
     ]
    },
    {
     "name": "stdout",
     "output_type": "stream",
     "text": [
      "_corr_coeff: to eval: x: 01-05_1:maternalSeizure y: 20-10_1:disabilityLevelDeath valid_x: 531 valid_y: 498\n",
      "_corr_coeff: done: x: 01-05_1:maternalSeizure y: 20-10_1:disabilityLevelDeath\n"
     ]
    },
    {
     "name": "stderr",
     "output_type": "stream",
     "text": [
      "\r",
      " 15%|█▍        | 50/341 [00:10<01:00,  4.83it/s]"
     ]
    },
    {
     "name": "stdout",
     "output_type": "stream",
     "text": [
      "_corr_coeff: to eval: x: 01-05_1:maternalSeizure y: 20-04:BayleyIIICognitiveComposite valid_x: 531 valid_y: 421\n",
      "_corr_coeff: done: x: 01-05_1:maternalSeizure y: 20-04:BayleyIIICognitiveComposite\n",
      "_corr_coeff: to eval: x: 01-05_1:maternalSeizure y: 20-04:BayleyIIILanguageComposite valid_x: 531 valid_y: 411\n",
      "_corr_coeff: done: x: 01-05_1:maternalSeizure y: 20-04:BayleyIIILanguageComposite\n",
      "_corr_coeff: to eval: x: 01-05_1:maternalSeizure y: 20-04:BayleyIIIMotorComposite valid_x: 531 valid_y: 415\n",
      "_corr_coeff: done: x: 01-05_1:maternalSeizure y: 20-04:BayleyIIIMotorComposite\n",
      "_corr_coeff: to eval: x: 01-05_1:perinatalSentinelEvent y: 20-10:moderateSevereDisabilityOrDeath valid_x: 532 valid_y: 504\n",
      "_corr_coeff: done: x: 01-05_1:perinatalSentinelEvent y: 20-10:moderateSevereDisabilityOrDeath\n",
      "_corr_coeff: to eval: x: 01-05_1:perinatalSentinelEvent y: 20-10:disabilityLevelDeath4Category valid_x: 532 valid_y: 498\n",
      "_corr_coeff: done: x: 01-05_1:perinatalSentinelEvent y: 20-10:disabilityLevelDeath4Category\n",
      "_corr_coeff: to eval: x: 01-05_1:perinatalSentinelEvent y: 20-10_1:disabilityLevelDeath valid_x: 532 valid_y: 498\n",
      "_corr_coeff: done: x: 01-05_1:perinatalSentinelEvent y: 20-10_1:disabilityLevelDeath\n"
     ]
    },
    {
     "name": "stderr",
     "output_type": "stream",
     "text": [
      "\r",
      " 15%|█▍        | 51/341 [00:11<01:03,  4.55it/s]"
     ]
    },
    {
     "name": "stdout",
     "output_type": "stream",
     "text": [
      "_corr_coeff: to eval: x: 01-05_1:perinatalSentinelEvent y: 20-04:BayleyIIICognitiveComposite valid_x: 532 valid_y: 421\n",
      "_corr_coeff: done: x: 01-05_1:perinatalSentinelEvent y: 20-04:BayleyIIICognitiveComposite\n",
      "_corr_coeff: to eval: x: 01-05_1:perinatalSentinelEvent y: 20-04:BayleyIIILanguageComposite valid_x: 532 valid_y: 411\n",
      "_corr_coeff: done: x: 01-05_1:perinatalSentinelEvent y: 20-04:BayleyIIILanguageComposite\n",
      "_corr_coeff: to eval: x: 01-05_1:perinatalSentinelEvent y: 20-04:BayleyIIIMotorComposite valid_x: 532 valid_y: 415\n",
      "_corr_coeff: done: x: 01-05_1:perinatalSentinelEvent y: 20-04:BayleyIIIMotorComposite\n",
      "_corr_coeff: to eval: x: 01-05_2:emergencyCSection y: 20-10:moderateSevereDisabilityOrDeath valid_x: 532 valid_y: 504\n",
      "_corr_coeff: done: x: 01-05_2:emergencyCSection y: 20-10:moderateSevereDisabilityOrDeath\n",
      "_corr_coeff: to eval: x: 01-05_2:emergencyCSection y: 20-10:disabilityLevelDeath4Category valid_x: 532 valid_y: 498\n",
      "_corr_coeff: done: x: 01-05_2:emergencyCSection y: 20-10:disabilityLevelDeath4Category\n",
      "_corr_coeff: to eval: x: 01-05_2:emergencyCSection y: 20-10_1:disabilityLevelDeath valid_x: 532 valid_y: 498\n",
      "_corr_coeff: done: x: 01-05_2:emergencyCSection y: 20-10_1:disabilityLevelDeath\n",
      "_corr_coeff: to eval: x: 01-05_2:emergencyCSection y: 20-04:BayleyIIICognitiveComposite valid_x: 532 valid_y: 421\n",
      "_corr_coeff: done: x: 01-05_2:emergencyCSection y: 20-04:BayleyIIICognitiveComposite\n"
     ]
    },
    {
     "name": "stderr",
     "output_type": "stream",
     "text": [
      "\r",
      " 15%|█▌        | 52/341 [00:11<01:01,  4.67it/s]"
     ]
    },
    {
     "name": "stdout",
     "output_type": "stream",
     "text": [
      "_corr_coeff: to eval: x: 01-05_2:emergencyCSection y: 20-04:BayleyIIILanguageComposite valid_x: 532 valid_y: 411\n",
      "_corr_coeff: done: x: 01-05_2:emergencyCSection y: 20-04:BayleyIIILanguageComposite\n",
      "_corr_coeff: to eval: x: 01-05_2:emergencyCSection y: 20-04:BayleyIIIMotorComposite valid_x: 532 valid_y: 415\n",
      "_corr_coeff: done: x: 01-05_2:emergencyCSection y: 20-04:BayleyIIIMotorComposite\n",
      "_corr_coeff: to eval: x: 01-06:encephalopathyLevel y: 20-10:moderateSevereDisabilityOrDeath valid_x: 532 valid_y: 504\n",
      "_corr_coeff: done: x: 01-06:encephalopathyLevel y: 20-10:moderateSevereDisabilityOrDeath\n",
      "_corr_coeff: to eval: x: 01-06:encephalopathyLevel y: 20-10:disabilityLevelDeath4Category valid_x: 532 valid_y: 498\n",
      "_corr_coeff: done: x: 01-06:encephalopathyLevel y: 20-10:disabilityLevelDeath4Category\n",
      "_corr_coeff: to eval: x: 01-06:encephalopathyLevel y: 20-10_1:disabilityLevelDeath valid_x: 532 valid_y: 498\n",
      "_corr_coeff: done: x: 01-06:encephalopathyLevel y: 20-10_1:disabilityLevelDeath\n",
      "_corr_coeff: to eval: x: 01-06:encephalopathyLevel y: 20-04:BayleyIIICognitiveComposite valid_x: 532 valid_y: 421\n",
      "_corr_coeff: done: x: 01-06:encephalopathyLevel y: 20-04:BayleyIIICognitiveComposite\n",
      "_corr_coeff: to eval: x: 01-06:encephalopathyLevel y: 20-04:BayleyIIILanguageComposite valid_x: 532 valid_y: 411\n",
      "_corr_coeff: done: x: 01-06:encephalopathyLevel y: 20-04:BayleyIIILanguageComposite\n"
     ]
    },
    {
     "name": "stderr",
     "output_type": "stream",
     "text": [
      "\r",
      " 16%|█▌        | 53/341 [00:11<01:00,  4.78it/s]"
     ]
    },
    {
     "name": "stdout",
     "output_type": "stream",
     "text": [
      "_corr_coeff: to eval: x: 01-06:encephalopathyLevel y: 20-04:BayleyIIIMotorComposite valid_x: 532 valid_y: 415\n",
      "_corr_coeff: done: x: 01-06:encephalopathyLevel y: 20-04:BayleyIIIMotorComposite\n",
      "_corr_coeff: to eval: x: 01-06:randomInfantAge y: 20-10:moderateSevereDisabilityOrDeath valid_x: 168 valid_y: 504\n",
      "_corr_coeff: done: x: 01-06:randomInfantAge y: 20-10:moderateSevereDisabilityOrDeath\n",
      "_corr_coeff: to eval: x: 01-06:randomInfantAge y: 20-10:disabilityLevelDeath4Category valid_x: 168 valid_y: 498\n",
      "_corr_coeff: done: x: 01-06:randomInfantAge y: 20-10:disabilityLevelDeath4Category\n",
      "_corr_coeff: to eval: x: 01-06:randomInfantAge y: 20-10_1:disabilityLevelDeath valid_x: 168 valid_y: 498\n",
      "_corr_coeff: done: x: 01-06:randomInfantAge y: 20-10_1:disabilityLevelDeath\n",
      "_corr_coeff: to eval: x: 01-06:randomInfantAge y: 20-04:BayleyIIICognitiveComposite valid_x: 168 valid_y: 421\n",
      "_corr_coeff: done: x: 01-06:randomInfantAge y: 20-04:BayleyIIICognitiveComposite\n",
      "_corr_coeff: to eval: x: 01-06:randomInfantAge y: 20-04:BayleyIIILanguageComposite valid_x: 168 valid_y: 411\n",
      "_corr_coeff: done: x: 01-06:randomInfantAge y: 20-04:BayleyIIILanguageComposite\n"
     ]
    },
    {
     "name": "stderr",
     "output_type": "stream",
     "text": [
      "\r",
      " 16%|█▌        | 54/341 [00:11<01:00,  4.75it/s]"
     ]
    },
    {
     "name": "stdout",
     "output_type": "stream",
     "text": [
      "_corr_coeff: to eval: x: 01-06:randomInfantAge y: 20-04:BayleyIIIMotorComposite valid_x: 168 valid_y: 415\n",
      "_corr_coeff: done: x: 01-06:randomInfantAge y: 20-04:BayleyIIIMotorComposite\n",
      "_corr_coeff: to eval: x: 01-06:birthWeight_g y: 20-10:moderateSevereDisabilityOrDeath valid_x: 531 valid_y: 504\n",
      "_corr_coeff: done: x: 01-06:birthWeight_g y: 20-10:moderateSevereDisabilityOrDeath\n",
      "_corr_coeff: to eval: x: 01-06:birthWeight_g y: 20-10:disabilityLevelDeath4Category valid_x: 531 valid_y: 498\n",
      "_corr_coeff: done: x: 01-06:birthWeight_g y: 20-10:disabilityLevelDeath4Category\n",
      "_corr_coeff: to eval: x: 01-06:birthWeight_g y: 20-10_1:disabilityLevelDeath valid_x: 531 valid_y: 498\n",
      "_corr_coeff: done: x: 01-06:birthWeight_g y: 20-10_1:disabilityLevelDeath\n",
      "_corr_coeff: to eval: x: 01-06:birthWeight_g y: 20-04:BayleyIIICognitiveComposite valid_x: 531 valid_y: 421\n",
      "_corr_coeff: done: x: 01-06:birthWeight_g y: 20-04:BayleyIIICognitiveComposite\n",
      "_corr_coeff: to eval: x: 01-06:birthWeight_g y: 20-04:BayleyIIILanguageComposite valid_x: 531 valid_y: 411\n",
      "_corr_coeff: done: x: 01-06:birthWeight_g y: 20-04:BayleyIIILanguageComposite\n",
      "_corr_coeff: to eval: x: 01-06:birthWeight_g y: 20-04:BayleyIIIMotorComposite valid_x: 531 valid_y: 415\n",
      "_corr_coeff: done: x: 01-06:birthWeight_g y: 20-04:BayleyIIIMotorComposite\n"
     ]
    },
    {
     "name": "stderr",
     "output_type": "stream",
     "text": [
      "\r",
      " 16%|█▌        | 55/341 [00:11<00:59,  4.81it/s]"
     ]
    },
    {
     "name": "stdout",
     "output_type": "stream",
     "text": [
      "_corr_coeff: to eval: x: 01-06:birthLength_cm y: 20-10:moderateSevereDisabilityOrDeath valid_x: 506 valid_y: 504\n",
      "_corr_coeff: done: x: 01-06:birthLength_cm y: 20-10:moderateSevereDisabilityOrDeath\n",
      "_corr_coeff: to eval: x: 01-06:birthLength_cm y: 20-10:disabilityLevelDeath4Category valid_x: 506 valid_y: 498\n",
      "_corr_coeff: done: x: 01-06:birthLength_cm y: 20-10:disabilityLevelDeath4Category\n",
      "_corr_coeff: to eval: x: 01-06:birthLength_cm y: 20-10_1:disabilityLevelDeath valid_x: 506 valid_y: 498\n",
      "_corr_coeff: done: x: 01-06:birthLength_cm y: 20-10_1:disabilityLevelDeath\n",
      "_corr_coeff: to eval: x: 01-06:birthLength_cm y: 20-04:BayleyIIICognitiveComposite valid_x: 506 valid_y: 421\n",
      "_corr_coeff: done: x: 01-06:birthLength_cm y: 20-04:BayleyIIICognitiveComposite\n",
      "_corr_coeff: to eval: x: 01-06:birthLength_cm y: 20-04:BayleyIIILanguageComposite valid_x: 506 valid_y: 411\n",
      "_corr_coeff: done: x: 01-06:birthLength_cm y: 20-04:BayleyIIILanguageComposite\n"
     ]
    },
    {
     "name": "stderr",
     "output_type": "stream",
     "text": [
      "\r",
      " 16%|█▋        | 56/341 [00:12<01:02,  4.54it/s]"
     ]
    },
    {
     "name": "stdout",
     "output_type": "stream",
     "text": [
      "_corr_coeff: to eval: x: 01-06:birthLength_cm y: 20-04:BayleyIIIMotorComposite valid_x: 506 valid_y: 415\n",
      "_corr_coeff: done: x: 01-06:birthLength_cm y: 20-04:BayleyIIIMotorComposite\n",
      "_corr_coeff: to eval: x: 01-06:birthHeadCircumference_cm y: 20-10:moderateSevereDisabilityOrDeath valid_x: 509 valid_y: 504\n",
      "_corr_coeff: done: x: 01-06:birthHeadCircumference_cm y: 20-10:moderateSevereDisabilityOrDeath\n",
      "_corr_coeff: to eval: x: 01-06:birthHeadCircumference_cm y: 20-10:disabilityLevelDeath4Category valid_x: 509 valid_y: 498\n",
      "_corr_coeff: done: x: 01-06:birthHeadCircumference_cm y: 20-10:disabilityLevelDeath4Category\n",
      "_corr_coeff: to eval: x: 01-06:birthHeadCircumference_cm y: 20-10_1:disabilityLevelDeath valid_x: 509 valid_y: 498\n",
      "_corr_coeff: done: x: 01-06:birthHeadCircumference_cm y: 20-10_1:disabilityLevelDeath\n",
      "_corr_coeff: to eval: x: 01-06:birthHeadCircumference_cm y: 20-04:BayleyIIICognitiveComposite valid_x: 509 valid_y: 421\n",
      "_corr_coeff: done: x: 01-06:birthHeadCircumference_cm y: 20-04:BayleyIIICognitiveComposite\n",
      "_corr_coeff: to eval: x: 01-06:birthHeadCircumference_cm y: 20-04:BayleyIIILanguageComposite valid_x: 509 valid_y: 411\n",
      "_corr_coeff: done: x: 01-06:birthHeadCircumference_cm y: 20-04:BayleyIIILanguageComposite\n",
      "_corr_coeff: to eval: x: 01-06:birthHeadCircumference_cm y: 20-04:BayleyIIIMotorComposite valid_x: 509 valid_y: 415\n",
      "_corr_coeff: done: x: 01-06:birthHeadCircumference_cm y: 20-04:BayleyIIIMotorComposite\n"
     ]
    },
    {
     "name": "stderr",
     "output_type": "stream",
     "text": [
      "\r",
      " 17%|█▋        | 57/341 [00:12<01:00,  4.66it/s]"
     ]
    },
    {
     "name": "stdout",
     "output_type": "stream",
     "text": [
      "_corr_coeff: to eval: x: 01-06:birthGestationalAge_week y: 20-10:moderateSevereDisabilityOrDeath valid_x: 531 valid_y: 504\n",
      "_corr_coeff: done: x: 01-06:birthGestationalAge_week y: 20-10:moderateSevereDisabilityOrDeath\n",
      "_corr_coeff: to eval: x: 01-06:birthGestationalAge_week y: 20-10:disabilityLevelDeath4Category valid_x: 531 valid_y: 498\n",
      "_corr_coeff: done: x: 01-06:birthGestationalAge_week y: 20-10:disabilityLevelDeath4Category\n",
      "_corr_coeff: to eval: x: 01-06:birthGestationalAge_week y: 20-10_1:disabilityLevelDeath valid_x: 531 valid_y: 498\n",
      "_corr_coeff: done: x: 01-06:birthGestationalAge_week y: 20-10_1:disabilityLevelDeath\n",
      "_corr_coeff: to eval: x: 01-06:birthGestationalAge_week y: 20-04:BayleyIIICognitiveComposite valid_x: 531 valid_y: 421\n",
      "_corr_coeff: done: x: 01-06:birthGestationalAge_week y: 20-04:BayleyIIICognitiveComposite\n",
      "_corr_coeff: to eval: x: 01-06:birthGestationalAge_week y: 20-04:BayleyIIILanguageComposite valid_x: 531 valid_y: 411\n",
      "_corr_coeff: done: x: 01-06:birthGestationalAge_week y: 20-04:BayleyIIILanguageComposite\n"
     ]
    },
    {
     "name": "stderr",
     "output_type": "stream",
     "text": [
      "\r",
      " 17%|█▋        | 58/341 [00:12<01:03,  4.44it/s]"
     ]
    },
    {
     "name": "stdout",
     "output_type": "stream",
     "text": [
      "_corr_coeff: to eval: x: 01-06:birthGestationalAge_week y: 20-04:BayleyIIIMotorComposite valid_x: 531 valid_y: 415\n",
      "_corr_coeff: done: x: 01-06:birthGestationalAge_week y: 20-04:BayleyIIIMotorComposite\n",
      "_corr_coeff: to eval: x: 01-06:infantSex y: 20-10:moderateSevereDisabilityOrDeath valid_x: 532 valid_y: 504\n",
      "_corr_coeff: done: x: 01-06:infantSex y: 20-10:moderateSevereDisabilityOrDeath\n",
      "_corr_coeff: to eval: x: 01-06:infantSex y: 20-10:disabilityLevelDeath4Category valid_x: 532 valid_y: 498\n",
      "_corr_coeff: done: x: 01-06:infantSex y: 20-10:disabilityLevelDeath4Category\n",
      "_corr_coeff: to eval: x: 01-06:infantSex y: 20-10_1:disabilityLevelDeath valid_x: 532 valid_y: 498\n",
      "_corr_coeff: done: x: 01-06:infantSex y: 20-10_1:disabilityLevelDeath\n",
      "_corr_coeff: to eval: x: 01-06:infantSex y: 20-04:BayleyIIICognitiveComposite valid_x: 532 valid_y: 421\n",
      "_corr_coeff: done: x: 01-06:infantSex y: 20-04:BayleyIIICognitiveComposite\n",
      "_corr_coeff: to eval: x: 01-06:infantSex y: 20-04:BayleyIIILanguageComposite valid_x: 532 valid_y: 411\n",
      "_corr_coeff: done: x: 01-06:infantSex y: 20-04:BayleyIIILanguageComposite\n",
      "_corr_coeff: to eval: x: 01-06:infantSex y: 20-04:BayleyIIIMotorComposite valid_x: 532 valid_y: 415\n",
      "_corr_coeff: done: x: 01-06:infantSex y: 20-04:BayleyIIIMotorComposite\n"
     ]
    },
    {
     "name": "stderr",
     "output_type": "stream",
     "text": [
      "\r",
      " 17%|█▋        | 59/341 [00:12<01:01,  4.59it/s]"
     ]
    },
    {
     "name": "stdout",
     "output_type": "stream",
     "text": [
      "_corr_coeff: to eval: x: 01-06:maleSex y: 20-10:moderateSevereDisabilityOrDeath valid_x: 364 valid_y: 504\n",
      "_corr_coeff: done: x: 01-06:maleSex y: 20-10:moderateSevereDisabilityOrDeath\n",
      "_corr_coeff: to eval: x: 01-06:maleSex y: 20-10:disabilityLevelDeath4Category valid_x: 364 valid_y: 498\n",
      "_corr_coeff: done: x: 01-06:maleSex y: 20-10:disabilityLevelDeath4Category\n",
      "_corr_coeff: to eval: x: 01-06:maleSex y: 20-10_1:disabilityLevelDeath valid_x: 364 valid_y: 498\n",
      "_corr_coeff: done: x: 01-06:maleSex y: 20-10_1:disabilityLevelDeath\n",
      "_corr_coeff: to eval: x: 01-06:maleSex y: 20-04:BayleyIIICognitiveComposite valid_x: 364 valid_y: 421\n",
      "_corr_coeff: done: x: 01-06:maleSex y: 20-04:BayleyIIICognitiveComposite\n",
      "_corr_coeff: to eval: x: 01-06:maleSex y: 20-04:BayleyIIILanguageComposite valid_x: 364 valid_y: 411\n",
      "_corr_coeff: done: x: 01-06:maleSex y: 20-04:BayleyIIILanguageComposite\n",
      "_corr_coeff: to eval: x: 01-06:maleSex y: 20-04:BayleyIIIMotorComposite valid_x: 364 valid_y: 415\n",
      "_corr_coeff: done: x: 01-06:maleSex y: 20-04:BayleyIIIMotorComposite\n"
     ]
    },
    {
     "name": "stderr",
     "output_type": "stream",
     "text": [
      "\r",
      " 18%|█▊        | 60/341 [00:13<01:02,  4.48it/s]"
     ]
    },
    {
     "name": "stderr",
     "output_type": "stream",
     "text": [
      "\r",
      " 18%|█▊        | 61/341 [00:13<01:00,  4.62it/s]"
     ]
    },
    {
     "name": "stdout",
     "output_type": "stream",
     "text": [
      "_corr_coeff: to eval: x: 01-06:infantOutborn y: 20-10:moderateSevereDisabilityOrDeath valid_x: 532 valid_y: 504\n",
      "_corr_coeff: done: x: 01-06:infantOutborn y: 20-10:moderateSevereDisabilityOrDeath\n",
      "_corr_coeff: to eval: x: 01-06:infantOutborn y: 20-10:disabilityLevelDeath4Category valid_x: 532 valid_y: 498\n",
      "_corr_coeff: done: x: 01-06:infantOutborn y: 20-10:disabilityLevelDeath4Category\n",
      "_corr_coeff: to eval: x: 01-06:infantOutborn y: 20-10_1:disabilityLevelDeath valid_x: 532 valid_y: 498\n",
      "_corr_coeff: done: x: 01-06:infantOutborn y: 20-10_1:disabilityLevelDeath\n",
      "_corr_coeff: to eval: x: 01-06:infantOutborn y: 20-04:BayleyIIICognitiveComposite valid_x: 532 valid_y: 421\n",
      "_corr_coeff: done: x: 01-06:infantOutborn y: 20-04:BayleyIIICognitiveComposite\n",
      "_corr_coeff: to eval: x: 01-06:infantOutborn y: 20-04:BayleyIIILanguageComposite valid_x: 532 valid_y: 411\n",
      "_corr_coeff: done: x: 01-06:infantOutborn y: 20-04:BayleyIIILanguageComposite\n",
      "_corr_coeff: to eval: x: 01-06:infantOutborn y: 20-04:BayleyIIIMotorComposite valid_x: 532 valid_y: 415\n",
      "_corr_coeff: done: x: 01-06:infantOutborn y: 20-04:BayleyIIIMotorComposite\n",
      "_corr_coeff: to eval: x: 01-06:outbornInHospital y: 20-10:moderateSevereDisabilityOrDeath valid_x: 380 valid_y: 504\n",
      "_corr_coeff: done: x: 01-06:outbornInHospital y: 20-10:moderateSevereDisabilityOrDeath\n"
     ]
    },
    {
     "name": "stderr",
     "output_type": "stream",
     "text": [
      "\r",
      " 18%|█▊        | 62/341 [00:13<01:02,  4.46it/s]"
     ]
    },
    {
     "name": "stdout",
     "output_type": "stream",
     "text": [
      "_corr_coeff: to eval: x: 01-06:outbornInHospital y: 20-10:disabilityLevelDeath4Category valid_x: 380 valid_y: 498\n",
      "_corr_coeff: done: x: 01-06:outbornInHospital y: 20-10:disabilityLevelDeath4Category\n",
      "_corr_coeff: to eval: x: 01-06:outbornInHospital y: 20-10_1:disabilityLevelDeath valid_x: 380 valid_y: 498\n",
      "_corr_coeff: done: x: 01-06:outbornInHospital y: 20-10_1:disabilityLevelDeath\n",
      "_corr_coeff: to eval: x: 01-06:outbornInHospital y: 20-04:BayleyIIICognitiveComposite valid_x: 380 valid_y: 421\n",
      "_corr_coeff: done: x: 01-06:outbornInHospital y: 20-04:BayleyIIICognitiveComposite\n",
      "_corr_coeff: to eval: x: 01-06:outbornInHospital y: 20-04:BayleyIIILanguageComposite valid_x: 380 valid_y: 411\n",
      "_corr_coeff: done: x: 01-06:outbornInHospital y: 20-04:BayleyIIILanguageComposite\n",
      "_corr_coeff: to eval: x: 01-06:outbornInHospital y: 20-04:BayleyIIIMotorComposite valid_x: 380 valid_y: 415\n",
      "_corr_coeff: done: x: 01-06:outbornInHospital y: 20-04:BayleyIIIMotorComposite\n"
     ]
    },
    {
     "name": "stderr",
     "output_type": "stream",
     "text": [
      "\r",
      " 18%|█▊        | 63/341 [00:13<00:59,  4.67it/s]"
     ]
    },
    {
     "name": "stdout",
     "output_type": "stream",
     "text": [
      "_corr_coeff: to eval: x: 01-06:outbornOutHospital y: 20-10:moderateSevereDisabilityOrDeath valid_x: 380 valid_y: 504\n",
      "_corr_coeff: done: x: 01-06:outbornOutHospital y: 20-10:moderateSevereDisabilityOrDeath\n",
      "_corr_coeff: to eval: x: 01-06:outbornOutHospital y: 20-10:disabilityLevelDeath4Category valid_x: 380 valid_y: 498\n",
      "_corr_coeff: done: x: 01-06:outbornOutHospital y: 20-10:disabilityLevelDeath4Category\n",
      "_corr_coeff: to eval: x: 01-06:outbornOutHospital y: 20-10_1:disabilityLevelDeath valid_x: 380 valid_y: 498\n",
      "_corr_coeff: done: x: 01-06:outbornOutHospital y: 20-10_1:disabilityLevelDeath\n",
      "_corr_coeff: to eval: x: 01-06:outbornOutHospital y: 20-04:BayleyIIICognitiveComposite valid_x: 380 valid_y: 421\n",
      "_corr_coeff: done: x: 01-06:outbornOutHospital y: 20-04:BayleyIIICognitiveComposite\n",
      "_corr_coeff: to eval: x: 01-06:outbornOutHospital y: 20-04:BayleyIIILanguageComposite valid_x: 380 valid_y: 411\n",
      "_corr_coeff: done: x: 01-06:outbornOutHospital y: 20-04:BayleyIIILanguageComposite\n",
      "_corr_coeff: to eval: x: 01-06:outbornOutHospital y: 20-04:BayleyIIIMotorComposite valid_x: 380 valid_y: 415\n",
      "_corr_coeff: done: x: 01-06:outbornOutHospital y: 20-04:BayleyIIIMotorComposite\n",
      "_corr_coeff: to eval: x: 01-06:Apgar1min y: 20-10:moderateSevereDisabilityOrDeath valid_x: 528 valid_y: 504\n",
      "_corr_coeff: done: x: 01-06:Apgar1min y: 20-10:moderateSevereDisabilityOrDeath\n"
     ]
    },
    {
     "name": "stderr",
     "output_type": "stream",
     "text": [
      "\r",
      " 19%|█▉        | 64/341 [00:14<01:02,  4.44it/s]"
     ]
    },
    {
     "name": "stdout",
     "output_type": "stream",
     "text": [
      "_corr_coeff: to eval: x: 01-06:Apgar1min y: 20-10:disabilityLevelDeath4Category valid_x: 528 valid_y: 498\n",
      "_corr_coeff: done: x: 01-06:Apgar1min y: 20-10:disabilityLevelDeath4Category\n",
      "_corr_coeff: to eval: x: 01-06:Apgar1min y: 20-10_1:disabilityLevelDeath valid_x: 528 valid_y: 498\n",
      "_corr_coeff: done: x: 01-06:Apgar1min y: 20-10_1:disabilityLevelDeath\n",
      "_corr_coeff: to eval: x: 01-06:Apgar1min y: 20-04:BayleyIIICognitiveComposite valid_x: 528 valid_y: 421\n",
      "_corr_coeff: done: x: 01-06:Apgar1min y: 20-04:BayleyIIICognitiveComposite\n",
      "_corr_coeff: to eval: x: 01-06:Apgar1min y: 20-04:BayleyIIILanguageComposite valid_x: 528 valid_y: 411\n",
      "_corr_coeff: done: x: 01-06:Apgar1min y: 20-04:BayleyIIILanguageComposite\n",
      "_corr_coeff: to eval: x: 01-06:Apgar1min y: 20-04:BayleyIIIMotorComposite valid_x: 528 valid_y: 415\n",
      "_corr_coeff: done: x: 01-06:Apgar1min y: 20-04:BayleyIIIMotorComposite\n",
      "_corr_coeff: to eval: x: 01-06:Apgar5min y: 20-10:moderateSevereDisabilityOrDeath valid_x: 529 valid_y: 504\n",
      "_corr_coeff: done: x: 01-06:Apgar5min y: 20-10:moderateSevereDisabilityOrDeath\n",
      "_corr_coeff: to eval: x: 01-06:Apgar5min y: 20-10:disabilityLevelDeath4Category valid_x: 529 valid_y: 498\n",
      "_corr_coeff: done: x: 01-06:Apgar5min y: 20-10:disabilityLevelDeath4Category\n"
     ]
    },
    {
     "name": "stderr",
     "output_type": "stream",
     "text": [
      "\r",
      " 19%|█▉        | 65/341 [00:14<01:00,  4.56it/s]"
     ]
    },
    {
     "name": "stdout",
     "output_type": "stream",
     "text": [
      "_corr_coeff: to eval: x: 01-06:Apgar5min y: 20-10_1:disabilityLevelDeath valid_x: 529 valid_y: 498\n",
      "_corr_coeff: done: x: 01-06:Apgar5min y: 20-10_1:disabilityLevelDeath\n",
      "_corr_coeff: to eval: x: 01-06:Apgar5min y: 20-04:BayleyIIICognitiveComposite valid_x: 529 valid_y: 421\n",
      "_corr_coeff: done: x: 01-06:Apgar5min y: 20-04:BayleyIIICognitiveComposite\n",
      "_corr_coeff: to eval: x: 01-06:Apgar5min y: 20-04:BayleyIIILanguageComposite valid_x: 529 valid_y: 411\n",
      "_corr_coeff: done: x: 01-06:Apgar5min y: 20-04:BayleyIIILanguageComposite\n",
      "_corr_coeff: to eval: x: 01-06:Apgar5min y: 20-04:BayleyIIIMotorComposite valid_x: 529 valid_y: 415\n",
      "_corr_coeff: done: x: 01-06:Apgar5min y: 20-04:BayleyIIIMotorComposite\n",
      "_corr_coeff: to eval: x: 01-06:Apgar10min y: 20-10:moderateSevereDisabilityOrDeath valid_x: 464 valid_y: 504\n",
      "_corr_coeff: done: x: 01-06:Apgar10min y: 20-10:moderateSevereDisabilityOrDeath\n"
     ]
    },
    {
     "name": "stderr",
     "output_type": "stream",
     "text": [
      "\r",
      " 19%|█▉        | 66/341 [00:14<01:02,  4.39it/s]"
     ]
    },
    {
     "name": "stdout",
     "output_type": "stream",
     "text": [
      "_corr_coeff: to eval: x: 01-06:Apgar10min y: 20-10:disabilityLevelDeath4Category valid_x: 464 valid_y: 498\n",
      "_corr_coeff: done: x: 01-06:Apgar10min y: 20-10:disabilityLevelDeath4Category\n",
      "_corr_coeff: to eval: x: 01-06:Apgar10min y: 20-10_1:disabilityLevelDeath valid_x: 464 valid_y: 498\n",
      "_corr_coeff: done: x: 01-06:Apgar10min y: 20-10_1:disabilityLevelDeath\n",
      "_corr_coeff: to eval: x: 01-06:Apgar10min y: 20-04:BayleyIIICognitiveComposite valid_x: 464 valid_y: 421\n",
      "_corr_coeff: done: x: 01-06:Apgar10min y: 20-04:BayleyIIICognitiveComposite\n",
      "_corr_coeff: to eval: x: 01-06:Apgar10min y: 20-04:BayleyIIILanguageComposite valid_x: 464 valid_y: 411\n",
      "_corr_coeff: done: x: 01-06:Apgar10min y: 20-04:BayleyIIILanguageComposite\n",
      "_corr_coeff: to eval: x: 01-06:Apgar10min y: 20-04:BayleyIIIMotorComposite valid_x: 464 valid_y: 415\n",
      "_corr_coeff: done: x: 01-06:Apgar10min y: 20-04:BayleyIIIMotorComposite\n",
      "_corr_coeff: to eval: x: 01-06:Apgar15min y: 20-10:moderateSevereDisabilityOrDeath valid_x: 123 valid_y: 504\n",
      "_corr_coeff: done: x: 01-06:Apgar15min y: 20-10:moderateSevereDisabilityOrDeath\n",
      "_corr_coeff: to eval: x: 01-06:Apgar15min y: 20-10:disabilityLevelDeath4Category valid_x: 123 valid_y: 498\n",
      "_corr_coeff: done: x: 01-06:Apgar15min y: 20-10:disabilityLevelDeath4Category\n"
     ]
    },
    {
     "name": "stderr",
     "output_type": "stream",
     "text": [
      "\r",
      " 20%|█▉        | 67/341 [00:14<01:01,  4.45it/s]"
     ]
    },
    {
     "name": "stdout",
     "output_type": "stream",
     "text": [
      "_corr_coeff: to eval: x: 01-06:Apgar15min y: 20-10_1:disabilityLevelDeath valid_x: 123 valid_y: 498\n",
      "_corr_coeff: done: x: 01-06:Apgar15min y: 20-10_1:disabilityLevelDeath\n",
      "_corr_coeff: to eval: x: 01-06:Apgar15min y: 20-04:BayleyIIICognitiveComposite valid_x: 123 valid_y: 421\n",
      "_corr_coeff: done: x: 01-06:Apgar15min y: 20-04:BayleyIIICognitiveComposite\n",
      "_corr_coeff: to eval: x: 01-06:Apgar15min y: 20-04:BayleyIIILanguageComposite valid_x: 123 valid_y: 411\n",
      "_corr_coeff: done: x: 01-06:Apgar15min y: 20-04:BayleyIIILanguageComposite\n",
      "_corr_coeff: to eval: x: 01-06:Apgar15min y: 20-04:BayleyIIIMotorComposite valid_x: 123 valid_y: 415\n",
      "_corr_coeff: done: x: 01-06:Apgar15min y: 20-04:BayleyIIIMotorComposite\n",
      "_corr_coeff: to eval: x: 01-06:Apgar20min y: 20-10:moderateSevereDisabilityOrDeath valid_x: 107 valid_y: 504\n",
      "_corr_coeff: done: x: 01-06:Apgar20min y: 20-10:moderateSevereDisabilityOrDeath\n",
      "_corr_coeff: to eval: x: 01-06:Apgar20min y: 20-10:disabilityLevelDeath4Category valid_x: 107 valid_y: 498\n",
      "_corr_coeff: done: x: 01-06:Apgar20min y: 20-10:disabilityLevelDeath4Category\n"
     ]
    },
    {
     "name": "stderr",
     "output_type": "stream",
     "text": [
      "\r",
      " 20%|█▉        | 68/341 [00:14<00:56,  4.86it/s]"
     ]
    },
    {
     "name": "stdout",
     "output_type": "stream",
     "text": [
      "_corr_coeff: to eval: x: 01-06:Apgar20min y: 20-10_1:disabilityLevelDeath valid_x: 107 valid_y: 498\n",
      "_corr_coeff: done: x: 01-06:Apgar20min y: 20-10_1:disabilityLevelDeath\n",
      "_corr_coeff: to eval: x: 01-06:Apgar20min y: 20-04:BayleyIIICognitiveComposite valid_x: 107 valid_y: 421\n",
      "_corr_coeff: done: x: 01-06:Apgar20min y: 20-04:BayleyIIICognitiveComposite\n",
      "_corr_coeff: to eval: x: 01-06:Apgar20min y: 20-04:BayleyIIILanguageComposite valid_x: 107 valid_y: 411\n",
      "_corr_coeff: done: x: 01-06:Apgar20min y: 20-04:BayleyIIILanguageComposite\n",
      "_corr_coeff: to eval: x: 01-06:Apgar20min y: 20-04:BayleyIIIMotorComposite valid_x: 107 valid_y: 415\n",
      "_corr_coeff: done: x: 01-06:Apgar20min y: 20-04:BayleyIIIMotorComposite\n",
      "_corr_coeff: to eval: x: 01-06:deliveryResuscitation y: 20-10:moderateSevereDisabilityOrDeath valid_x: 531 valid_y: 504\n",
      "_corr_coeff: done: x: 01-06:deliveryResuscitation y: 20-10:moderateSevereDisabilityOrDeath\n",
      "_corr_coeff: to eval: x: 01-06:deliveryResuscitation y: 20-10:disabilityLevelDeath4Category valid_x: 531 valid_y: 498\n",
      "_corr_coeff: done: x: 01-06:deliveryResuscitation y: 20-10:disabilityLevelDeath4Category\n",
      "_corr_coeff: to eval: x: 01-06:deliveryResuscitation y: 20-10_1:disabilityLevelDeath valid_x: 531 valid_y: 498\n",
      "_corr_coeff: done: x: 01-06:deliveryResuscitation y: 20-10_1:disabilityLevelDeath\n"
     ]
    },
    {
     "name": "stderr",
     "output_type": "stream",
     "text": [
      "\r",
      " 20%|██        | 69/341 [00:15<01:00,  4.51it/s]"
     ]
    },
    {
     "name": "stdout",
     "output_type": "stream",
     "text": [
      "_corr_coeff: to eval: x: 01-06:deliveryResuscitation y: 20-04:BayleyIIICognitiveComposite valid_x: 531 valid_y: 421\n",
      "_corr_coeff: done: x: 01-06:deliveryResuscitation y: 20-04:BayleyIIICognitiveComposite\n",
      "_corr_coeff: to eval: x: 01-06:deliveryResuscitation y: 20-04:BayleyIIILanguageComposite valid_x: 531 valid_y: 411\n",
      "_corr_coeff: done: x: 01-06:deliveryResuscitation y: 20-04:BayleyIIILanguageComposite\n",
      "_corr_coeff: to eval: x: 01-06:deliveryResuscitation y: 20-04:BayleyIIIMotorComposite valid_x: 531 valid_y: 415\n",
      "_corr_coeff: done: x: 01-06:deliveryResuscitation y: 20-04:BayleyIIIMotorComposite\n",
      "_corr_coeff: to eval: x: 01-06:deliveryOxygen y: 20-10:moderateSevereDisabilityOrDeath valid_x: 529 valid_y: 504\n",
      "_corr_coeff: done: x: 01-06:deliveryOxygen y: 20-10:moderateSevereDisabilityOrDeath\n",
      "_corr_coeff: to eval: x: 01-06:deliveryOxygen y: 20-10:disabilityLevelDeath4Category valid_x: 529 valid_y: 498\n",
      "_corr_coeff: done: x: 01-06:deliveryOxygen y: 20-10:disabilityLevelDeath4Category\n"
     ]
    },
    {
     "name": "stderr",
     "output_type": "stream",
     "text": [
      "\r",
      " 21%|██        | 70/341 [00:15<00:59,  4.58it/s]"
     ]
    },
    {
     "name": "stdout",
     "output_type": "stream",
     "text": [
      "_corr_coeff: to eval: x: 01-06:deliveryOxygen y: 20-10_1:disabilityLevelDeath valid_x: 529 valid_y: 498\n",
      "_corr_coeff: done: x: 01-06:deliveryOxygen y: 20-10_1:disabilityLevelDeath\n",
      "_corr_coeff: to eval: x: 01-06:deliveryOxygen y: 20-04:BayleyIIICognitiveComposite valid_x: 529 valid_y: 421\n",
      "_corr_coeff: done: x: 01-06:deliveryOxygen y: 20-04:BayleyIIICognitiveComposite\n",
      "_corr_coeff: to eval: x: 01-06:deliveryOxygen y: 20-04:BayleyIIILanguageComposite valid_x: 529 valid_y: 411\n",
      "_corr_coeff: done: x: 01-06:deliveryOxygen y: 20-04:BayleyIIILanguageComposite\n",
      "_corr_coeff: to eval: x: 01-06:deliveryOxygen y: 20-04:BayleyIIIMotorComposite valid_x: 529 valid_y: 415\n",
      "_corr_coeff: done: x: 01-06:deliveryOxygen y: 20-04:BayleyIIIMotorComposite\n",
      "_corr_coeff: to eval: x: 01-06:deliveryBaggingAndMask y: 20-10:moderateSevereDisabilityOrDeath valid_x: 528 valid_y: 504\n",
      "_corr_coeff: done: x: 01-06:deliveryBaggingAndMask y: 20-10:moderateSevereDisabilityOrDeath\n",
      "_corr_coeff: to eval: x: 01-06:deliveryBaggingAndMask y: 20-10:disabilityLevelDeath4Category valid_x: 528 valid_y: 498\n",
      "_corr_coeff: done: x: 01-06:deliveryBaggingAndMask y: 20-10:disabilityLevelDeath4Category\n"
     ]
    },
    {
     "name": "stderr",
     "output_type": "stream",
     "text": [
      "\r",
      " 21%|██        | 71/341 [00:15<01:02,  4.31it/s]"
     ]
    },
    {
     "name": "stdout",
     "output_type": "stream",
     "text": [
      "_corr_coeff: to eval: x: 01-06:deliveryBaggingAndMask y: 20-10_1:disabilityLevelDeath valid_x: 528 valid_y: 498\n",
      "_corr_coeff: done: x: 01-06:deliveryBaggingAndMask y: 20-10_1:disabilityLevelDeath\n",
      "_corr_coeff: to eval: x: 01-06:deliveryBaggingAndMask y: 20-04:BayleyIIICognitiveComposite valid_x: 528 valid_y: 421\n",
      "_corr_coeff: done: x: 01-06:deliveryBaggingAndMask y: 20-04:BayleyIIICognitiveComposite\n",
      "_corr_coeff: to eval: x: 01-06:deliveryBaggingAndMask y: 20-04:BayleyIIILanguageComposite valid_x: 528 valid_y: 411\n",
      "_corr_coeff: done: x: 01-06:deliveryBaggingAndMask y: 20-04:BayleyIIILanguageComposite\n",
      "_corr_coeff: to eval: x: 01-06:deliveryBaggingAndMask y: 20-04:BayleyIIIMotorComposite valid_x: 528 valid_y: 415\n",
      "_corr_coeff: done: x: 01-06:deliveryBaggingAndMask y: 20-04:BayleyIIIMotorComposite\n",
      "_corr_coeff: to eval: x: 01-06:deliveryChestCompression y: 20-10:moderateSevereDisabilityOrDeath valid_x: 529 valid_y: 504\n",
      "_corr_coeff: done: x: 01-06:deliveryChestCompression y: 20-10:moderateSevereDisabilityOrDeath\n"
     ]
    },
    {
     "name": "stderr",
     "output_type": "stream",
     "text": [
      "\r",
      " 21%|██        | 72/341 [00:15<01:00,  4.44it/s]"
     ]
    },
    {
     "name": "stdout",
     "output_type": "stream",
     "text": [
      "_corr_coeff: to eval: x: 01-06:deliveryChestCompression y: 20-10:disabilityLevelDeath4Category valid_x: 529 valid_y: 498\n",
      "_corr_coeff: done: x: 01-06:deliveryChestCompression y: 20-10:disabilityLevelDeath4Category\n",
      "_corr_coeff: to eval: x: 01-06:deliveryChestCompression y: 20-10_1:disabilityLevelDeath valid_x: 529 valid_y: 498\n",
      "_corr_coeff: done: x: 01-06:deliveryChestCompression y: 20-10_1:disabilityLevelDeath\n",
      "_corr_coeff: to eval: x: 01-06:deliveryChestCompression y: 20-04:BayleyIIICognitiveComposite valid_x: 529 valid_y: 421\n",
      "_corr_coeff: done: x: 01-06:deliveryChestCompression y: 20-04:BayleyIIICognitiveComposite\n",
      "_corr_coeff: to eval: x: 01-06:deliveryChestCompression y: 20-04:BayleyIIILanguageComposite valid_x: 529 valid_y: 411\n",
      "_corr_coeff: done: x: 01-06:deliveryChestCompression y: 20-04:BayleyIIILanguageComposite\n",
      "_corr_coeff: to eval: x: 01-06:deliveryChestCompression y: 20-04:BayleyIIIMotorComposite valid_x: 529 valid_y: 415\n",
      "_corr_coeff: done: x: 01-06:deliveryChestCompression y: 20-04:BayleyIIIMotorComposite\n",
      "_corr_coeff: to eval: x: 01-06:deliveryIntubation y: 20-10:moderateSevereDisabilityOrDeath valid_x: 529 valid_y: 504\n",
      "_corr_coeff: done: x: 01-06:deliveryIntubation y: 20-10:moderateSevereDisabilityOrDeath\n"
     ]
    },
    {
     "name": "stderr",
     "output_type": "stream",
     "text": [
      "\r",
      " 21%|██▏       | 73/341 [00:16<01:03,  4.25it/s]"
     ]
    },
    {
     "name": "stdout",
     "output_type": "stream",
     "text": [
      "_corr_coeff: to eval: x: 01-06:deliveryIntubation y: 20-10:disabilityLevelDeath4Category valid_x: 529 valid_y: 498\n",
      "_corr_coeff: done: x: 01-06:deliveryIntubation y: 20-10:disabilityLevelDeath4Category\n",
      "_corr_coeff: to eval: x: 01-06:deliveryIntubation y: 20-10_1:disabilityLevelDeath valid_x: 529 valid_y: 498\n",
      "_corr_coeff: done: x: 01-06:deliveryIntubation y: 20-10_1:disabilityLevelDeath\n",
      "_corr_coeff: to eval: x: 01-06:deliveryIntubation y: 20-04:BayleyIIICognitiveComposite valid_x: 529 valid_y: 421\n",
      "_corr_coeff: done: x: 01-06:deliveryIntubation y: 20-04:BayleyIIICognitiveComposite\n",
      "_corr_coeff: to eval: x: 01-06:deliveryIntubation y: 20-04:BayleyIIILanguageComposite valid_x: 529 valid_y: 411\n",
      "_corr_coeff: done: x: 01-06:deliveryIntubation y: 20-04:BayleyIIILanguageComposite\n",
      "_corr_coeff: to eval: x: 01-06:deliveryIntubation y: 20-04:BayleyIIIMotorComposite valid_x: 529 valid_y: 415\n",
      "_corr_coeff: done: x: 01-06:deliveryIntubation y: 20-04:BayleyIIIMotorComposite\n"
     ]
    },
    {
     "name": "stderr",
     "output_type": "stream",
     "text": [
      "\r",
      " 22%|██▏       | 74/341 [00:16<01:00,  4.44it/s]"
     ]
    },
    {
     "name": "stdout",
     "output_type": "stream",
     "text": [
      "_corr_coeff: to eval: x: 01-06:deliveryDrug y: 20-10:moderateSevereDisabilityOrDeath valid_x: 529 valid_y: 504\n",
      "_corr_coeff: done: x: 01-06:deliveryDrug y: 20-10:moderateSevereDisabilityOrDeath\n",
      "_corr_coeff: to eval: x: 01-06:deliveryDrug y: 20-10:disabilityLevelDeath4Category valid_x: 529 valid_y: 498\n",
      "_corr_coeff: done: x: 01-06:deliveryDrug y: 20-10:disabilityLevelDeath4Category\n",
      "_corr_coeff: to eval: x: 01-06:deliveryDrug y: 20-10_1:disabilityLevelDeath valid_x: 529 valid_y: 498\n",
      "_corr_coeff: done: x: 01-06:deliveryDrug y: 20-10_1:disabilityLevelDeath\n",
      "_corr_coeff: to eval: x: 01-06:deliveryDrug y: 20-04:BayleyIIICognitiveComposite valid_x: 529 valid_y: 421\n",
      "_corr_coeff: done: x: 01-06:deliveryDrug y: 20-04:BayleyIIICognitiveComposite\n",
      "_corr_coeff: to eval: x: 01-06:deliveryDrug y: 20-04:BayleyIIILanguageComposite valid_x: 529 valid_y: 411\n",
      "_corr_coeff: done: x: 01-06:deliveryDrug y: 20-04:BayleyIIILanguageComposite\n",
      "_corr_coeff: to eval: x: 01-06:deliveryDrug y: 20-04:BayleyIIIMotorComposite valid_x: 529 valid_y: 415\n",
      "_corr_coeff: done: x: 01-06:deliveryDrug y: 20-04:BayleyIIIMotorComposite\n",
      "_corr_coeff: to eval: x: 01-06:at10MinContinueResuscitation y: 20-10:moderateSevereDisabilityOrDeath valid_x: 527 valid_y: 504\n",
      "_corr_coeff: done: x: 01-06:at10MinContinueResuscitation y: 20-10:moderateSevereDisabilityOrDeath\n"
     ]
    },
    {
     "name": "stderr",
     "output_type": "stream",
     "text": [
      "\r",
      " 22%|██▏       | 75/341 [00:16<00:58,  4.54it/s]"
     ]
    },
    {
     "name": "stdout",
     "output_type": "stream",
     "text": [
      "_corr_coeff: to eval: x: 01-06:at10MinContinueResuscitation y: 20-10:disabilityLevelDeath4Category valid_x: 527 valid_y: 498\n",
      "_corr_coeff: done: x: 01-06:at10MinContinueResuscitation y: 20-10:disabilityLevelDeath4Category\n",
      "_corr_coeff: to eval: x: 01-06:at10MinContinueResuscitation y: 20-10_1:disabilityLevelDeath valid_x: 527 valid_y: 498\n",
      "_corr_coeff: done: x: 01-06:at10MinContinueResuscitation y: 20-10_1:disabilityLevelDeath\n",
      "_corr_coeff: to eval: x: 01-06:at10MinContinueResuscitation y: 20-04:BayleyIIICognitiveComposite valid_x: 527 valid_y: 421\n",
      "_corr_coeff: done: x: 01-06:at10MinContinueResuscitation y: 20-04:BayleyIIICognitiveComposite\n",
      "_corr_coeff: to eval: x: 01-06:at10MinContinueResuscitation y: 20-04:BayleyIIILanguageComposite valid_x: 527 valid_y: 411\n",
      "_corr_coeff: done: x: 01-06:at10MinContinueResuscitation y: 20-04:BayleyIIILanguageComposite\n",
      "_corr_coeff: to eval: x: 01-06:at10MinContinueResuscitation y: 20-04:BayleyIIIMotorComposite valid_x: 527 valid_y: 415\n",
      "_corr_coeff: done: x: 01-06:at10MinContinueResuscitation y: 20-04:BayleyIIIMotorComposite\n",
      "_corr_coeff: to eval: x: 01-06:at10MinOxygen y: 20-10:moderateSevereDisabilityOrDeath valid_x: 430 valid_y: 504\n",
      "_corr_coeff: done: x: 01-06:at10MinOxygen y: 20-10:moderateSevereDisabilityOrDeath\n",
      "_corr_coeff: to eval: x: 01-06:at10MinOxygen y: 20-10:disabilityLevelDeath4Category valid_x: 430 valid_y: 498\n",
      "_corr_coeff: done: x: 01-06:at10MinOxygen y: 20-10:disabilityLevelDeath4Category\n"
     ]
    },
    {
     "name": "stderr",
     "output_type": "stream",
     "text": [
      "\r",
      " 22%|██▏       | 76/341 [00:16<00:55,  4.74it/s]"
     ]
    },
    {
     "name": "stdout",
     "output_type": "stream",
     "text": [
      "_corr_coeff: to eval: x: 01-06:at10MinOxygen y: 20-10_1:disabilityLevelDeath valid_x: 430 valid_y: 498\n",
      "_corr_coeff: done: x: 01-06:at10MinOxygen y: 20-10_1:disabilityLevelDeath\n",
      "_corr_coeff: to eval: x: 01-06:at10MinOxygen y: 20-04:BayleyIIICognitiveComposite valid_x: 430 valid_y: 421\n",
      "_corr_coeff: done: x: 01-06:at10MinOxygen y: 20-04:BayleyIIICognitiveComposite\n",
      "_corr_coeff: to eval: x: 01-06:at10MinOxygen y: 20-04:BayleyIIILanguageComposite valid_x: 430 valid_y: 411\n",
      "_corr_coeff: done: x: 01-06:at10MinOxygen y: 20-04:BayleyIIILanguageComposite\n",
      "_corr_coeff: to eval: x: 01-06:at10MinOxygen y: 20-04:BayleyIIIMotorComposite valid_x: 430 valid_y: 415\n",
      "_corr_coeff: done: x: 01-06:at10MinOxygen y: 20-04:BayleyIIIMotorComposite\n",
      "_corr_coeff: to eval: x: 01-06:at10MinBaggingAndMask y: 20-10:moderateSevereDisabilityOrDeath valid_x: 430 valid_y: 504\n",
      "_corr_coeff: done: x: 01-06:at10MinBaggingAndMask y: 20-10:moderateSevereDisabilityOrDeath\n",
      "_corr_coeff: to eval: x: 01-06:at10MinBaggingAndMask y: 20-10:disabilityLevelDeath4Category valid_x: 430 valid_y: 498\n",
      "_corr_coeff: done: x: 01-06:at10MinBaggingAndMask y: 20-10:disabilityLevelDeath4Category\n",
      "_corr_coeff: to eval: x: 01-06:at10MinBaggingAndMask y: 20-10_1:disabilityLevelDeath valid_x: 430 valid_y: 498\n",
      "_corr_coeff: done: x: 01-06:at10MinBaggingAndMask y: 20-10_1:disabilityLevelDeath\n"
     ]
    },
    {
     "name": "stderr",
     "output_type": "stream",
     "text": [
      "\r",
      " 23%|██▎       | 77/341 [00:16<00:54,  4.86it/s]"
     ]
    },
    {
     "name": "stdout",
     "output_type": "stream",
     "text": [
      "_corr_coeff: to eval: x: 01-06:at10MinBaggingAndMask y: 20-04:BayleyIIICognitiveComposite valid_x: 430 valid_y: 421\n",
      "_corr_coeff: done: x: 01-06:at10MinBaggingAndMask y: 20-04:BayleyIIICognitiveComposite\n",
      "_corr_coeff: to eval: x: 01-06:at10MinBaggingAndMask y: 20-04:BayleyIIILanguageComposite valid_x: 430 valid_y: 411\n",
      "_corr_coeff: done: x: 01-06:at10MinBaggingAndMask y: 20-04:BayleyIIILanguageComposite\n",
      "_corr_coeff: to eval: x: 01-06:at10MinBaggingAndMask y: 20-04:BayleyIIIMotorComposite valid_x: 430 valid_y: 415\n",
      "_corr_coeff: done: x: 01-06:at10MinBaggingAndMask y: 20-04:BayleyIIIMotorComposite\n",
      "_corr_coeff: to eval: x: 01-06:at10MinChestCompression y: 20-10:moderateSevereDisabilityOrDeath valid_x: 428 valid_y: 504\n",
      "_corr_coeff: done: x: 01-06:at10MinChestCompression y: 20-10:moderateSevereDisabilityOrDeath\n",
      "_corr_coeff: to eval: x: 01-06:at10MinChestCompression y: 20-10:disabilityLevelDeath4Category valid_x: 428 valid_y: 498\n",
      "_corr_coeff: done: x: 01-06:at10MinChestCompression y: 20-10:disabilityLevelDeath4Category\n",
      "_corr_coeff: to eval: x: 01-06:at10MinChestCompression y: 20-10_1:disabilityLevelDeath valid_x: 428 valid_y: 498\n",
      "_corr_coeff: done: x: 01-06:at10MinChestCompression y: 20-10_1:disabilityLevelDeath\n",
      "_corr_coeff: to eval: x: 01-06:at10MinChestCompression y: 20-04:BayleyIIICognitiveComposite valid_x: 428 valid_y: 421\n",
      "_corr_coeff: done: x: 01-06:at10MinChestCompression y: 20-04:BayleyIIICognitiveComposite\n"
     ]
    },
    {
     "name": "stderr",
     "output_type": "stream",
     "text": [
      "\r",
      " 23%|██▎       | 78/341 [00:17<00:53,  4.95it/s]"
     ]
    },
    {
     "name": "stdout",
     "output_type": "stream",
     "text": [
      "_corr_coeff: to eval: x: 01-06:at10MinChestCompression y: 20-04:BayleyIIILanguageComposite valid_x: 428 valid_y: 411\n",
      "_corr_coeff: done: x: 01-06:at10MinChestCompression y: 20-04:BayleyIIILanguageComposite\n",
      "_corr_coeff: to eval: x: 01-06:at10MinChestCompression y: 20-04:BayleyIIIMotorComposite valid_x: 428 valid_y: 415\n",
      "_corr_coeff: done: x: 01-06:at10MinChestCompression y: 20-04:BayleyIIIMotorComposite\n",
      "_corr_coeff: to eval: x: 01-06:at10MinIntubation y: 20-10:moderateSevereDisabilityOrDeath valid_x: 429 valid_y: 504\n",
      "_corr_coeff: done: x: 01-06:at10MinIntubation y: 20-10:moderateSevereDisabilityOrDeath\n",
      "_corr_coeff: to eval: x: 01-06:at10MinIntubation y: 20-10:disabilityLevelDeath4Category valid_x: 429 valid_y: 498\n",
      "_corr_coeff: done: x: 01-06:at10MinIntubation y: 20-10:disabilityLevelDeath4Category\n",
      "_corr_coeff: to eval: x: 01-06:at10MinIntubation y: 20-10_1:disabilityLevelDeath valid_x: 429 valid_y: 498\n",
      "_corr_coeff: done: x: 01-06:at10MinIntubation y: 20-10_1:disabilityLevelDeath\n",
      "_corr_coeff: to eval: x: 01-06:at10MinIntubation y: 20-04:BayleyIIICognitiveComposite valid_x: 429 valid_y: 421\n",
      "_corr_coeff: done: x: 01-06:at10MinIntubation y: 20-04:BayleyIIICognitiveComposite\n"
     ]
    },
    {
     "name": "stderr",
     "output_type": "stream",
     "text": [
      "\r",
      " 23%|██▎       | 79/341 [00:17<00:55,  4.69it/s]"
     ]
    },
    {
     "name": "stdout",
     "output_type": "stream",
     "text": [
      "_corr_coeff: to eval: x: 01-06:at10MinIntubation y: 20-04:BayleyIIILanguageComposite valid_x: 429 valid_y: 411\n",
      "_corr_coeff: done: x: 01-06:at10MinIntubation y: 20-04:BayleyIIILanguageComposite\n",
      "_corr_coeff: to eval: x: 01-06:at10MinIntubation y: 20-04:BayleyIIIMotorComposite valid_x: 429 valid_y: 415\n",
      "_corr_coeff: done: x: 01-06:at10MinIntubation y: 20-04:BayleyIIIMotorComposite\n",
      "_corr_coeff: to eval: x: 01-06:at10MinDrug y: 20-10:moderateSevereDisabilityOrDeath valid_x: 428 valid_y: 504\n",
      "_corr_coeff: done: x: 01-06:at10MinDrug y: 20-10:moderateSevereDisabilityOrDeath\n",
      "_corr_coeff: to eval: x: 01-06:at10MinDrug y: 20-10:disabilityLevelDeath4Category valid_x: 428 valid_y: 498\n",
      "_corr_coeff: done: x: 01-06:at10MinDrug y: 20-10:disabilityLevelDeath4Category\n",
      "_corr_coeff: to eval: x: 01-06:at10MinDrug y: 20-10_1:disabilityLevelDeath valid_x: 428 valid_y: 498\n",
      "_corr_coeff: done: x: 01-06:at10MinDrug y: 20-10_1:disabilityLevelDeath\n",
      "_corr_coeff: to eval: x: 01-06:at10MinDrug y: 20-04:BayleyIIICognitiveComposite valid_x: 428 valid_y: 421\n",
      "_corr_coeff: done: x: 01-06:at10MinDrug y: 20-04:BayleyIIICognitiveComposite\n",
      "_corr_coeff: to eval: x: 01-06:at10MinDrug y: 20-04:BayleyIIILanguageComposite valid_x: 428 valid_y: 411\n",
      "_corr_coeff: done: x: 01-06:at10MinDrug y: 20-04:BayleyIIILanguageComposite\n"
     ]
    },
    {
     "name": "stderr",
     "output_type": "stream",
     "text": [
      "\r",
      " 23%|██▎       | 80/341 [00:17<00:54,  4.79it/s]"
     ]
    },
    {
     "name": "stdout",
     "output_type": "stream",
     "text": [
      "_corr_coeff: to eval: x: 01-06:at10MinDrug y: 20-04:BayleyIIIMotorComposite valid_x: 428 valid_y: 415\n",
      "_corr_coeff: done: x: 01-06:at10MinDrug y: 20-04:BayleyIIIMotorComposite\n",
      "_corr_coeff: to eval: x: 01-06:spontaneousRespirationTime y: 20-10:moderateSevereDisabilityOrDeath valid_x: 504 valid_y: 504\n",
      "_corr_coeff: done: x: 01-06:spontaneousRespirationTime y: 20-10:moderateSevereDisabilityOrDeath\n",
      "_corr_coeff: to eval: x: 01-06:spontaneousRespirationTime y: 20-10:disabilityLevelDeath4Category valid_x: 504 valid_y: 498\n",
      "_corr_coeff: done: x: 01-06:spontaneousRespirationTime y: 20-10:disabilityLevelDeath4Category\n",
      "_corr_coeff: to eval: x: 01-06:spontaneousRespirationTime y: 20-10_1:disabilityLevelDeath valid_x: 504 valid_y: 498\n",
      "_corr_coeff: done: x: 01-06:spontaneousRespirationTime y: 20-10_1:disabilityLevelDeath\n",
      "_corr_coeff: to eval: x: 01-06:spontaneousRespirationTime y: 20-04:BayleyIIICognitiveComposite valid_x: 504 valid_y: 421\n",
      "_corr_coeff: done: x: 01-06:spontaneousRespirationTime y: 20-04:BayleyIIICognitiveComposite\n",
      "_corr_coeff: to eval: x: 01-06:spontaneousRespirationTime y: 20-04:BayleyIIILanguageComposite valid_x: 504 valid_y: 411\n",
      "_corr_coeff: done: x: 01-06:spontaneousRespirationTime y: 20-04:BayleyIIILanguageComposite\n",
      "_corr_coeff: to eval: x: 01-06:spontaneousRespirationTime y: 20-04:BayleyIIIMotorComposite valid_x: 504 valid_y: 415\n",
      "_corr_coeff: done: x: 01-06:spontaneousRespirationTime y: 20-04:BayleyIIIMotorComposite\n"
     ]
    },
    {
     "name": "stderr",
     "output_type": "stream",
     "text": [
      "\r",
      " 24%|██▍       | 81/341 [00:17<00:53,  4.82it/s]"
     ]
    },
    {
     "name": "stdout",
     "output_type": "stream",
     "text": [
      "_corr_coeff: to eval: x: 01-06:cordBloodGas y: 20-10:moderateSevereDisabilityOrDeath valid_x: 528 valid_y: 504\n",
      "_corr_coeff: done: x: 01-06:cordBloodGas y: 20-10:moderateSevereDisabilityOrDeath\n",
      "_corr_coeff: to eval: x: 01-06:cordBloodGas y: 20-10:disabilityLevelDeath4Category valid_x: 528 valid_y: 498\n",
      "_corr_coeff: done: x: 01-06:cordBloodGas y: 20-10:disabilityLevelDeath4Category\n",
      "_corr_coeff: to eval: x: 01-06:cordBloodGas y: 20-10_1:disabilityLevelDeath valid_x: 528 valid_y: 498\n",
      "_corr_coeff: done: x: 01-06:cordBloodGas y: 20-10_1:disabilityLevelDeath\n",
      "_corr_coeff: to eval: x: 01-06:cordBloodGas y: 20-04:BayleyIIICognitiveComposite valid_x: 528 valid_y: 421\n",
      "_corr_coeff: done: x: 01-06:cordBloodGas y: 20-04:BayleyIIICognitiveComposite\n",
      "_corr_coeff: to eval: x: 01-06:cordBloodGas y: 20-04:BayleyIIILanguageComposite valid_x: 528 valid_y: 411\n",
      "_corr_coeff: done: x: 01-06:cordBloodGas y: 20-04:BayleyIIILanguageComposite\n"
     ]
    },
    {
     "name": "stderr",
     "output_type": "stream",
     "text": [
      "\r",
      " 24%|██▍       | 82/341 [00:17<00:57,  4.51it/s]"
     ]
    },
    {
     "name": "stderr",
     "output_type": "stream",
     "text": [
      "\r",
      " 24%|██▍       | 83/341 [00:18<00:54,  4.71it/s]"
     ]
    },
    {
     "name": "stdout",
     "output_type": "stream",
     "text": [
      "_corr_coeff: to eval: x: 01-06:cordBloodGas y: 20-04:BayleyIIIMotorComposite valid_x: 528 valid_y: 415\n",
      "_corr_coeff: done: x: 01-06:cordBloodGas y: 20-04:BayleyIIIMotorComposite\n",
      "_corr_coeff: to eval: x: 01-06:cordBloodGasPH y: 20-10:moderateSevereDisabilityOrDeath valid_x: 415 valid_y: 504\n",
      "_corr_coeff: done: x: 01-06:cordBloodGasPH y: 20-10:moderateSevereDisabilityOrDeath\n",
      "_corr_coeff: to eval: x: 01-06:cordBloodGasPH y: 20-10:disabilityLevelDeath4Category valid_x: 415 valid_y: 498\n",
      "_corr_coeff: done: x: 01-06:cordBloodGasPH y: 20-10:disabilityLevelDeath4Category\n",
      "_corr_coeff: to eval: x: 01-06:cordBloodGasPH y: 20-10_1:disabilityLevelDeath valid_x: 415 valid_y: 498\n",
      "_corr_coeff: done: x: 01-06:cordBloodGasPH y: 20-10_1:disabilityLevelDeath\n",
      "_corr_coeff: to eval: x: 01-06:cordBloodGasPH y: 20-04:BayleyIIICognitiveComposite valid_x: 415 valid_y: 421\n",
      "_corr_coeff: done: x: 01-06:cordBloodGasPH y: 20-04:BayleyIIICognitiveComposite\n",
      "_corr_coeff: to eval: x: 01-06:cordBloodGasPH y: 20-04:BayleyIIILanguageComposite valid_x: 415 valid_y: 411\n",
      "_corr_coeff: done: x: 01-06:cordBloodGasPH y: 20-04:BayleyIIILanguageComposite\n",
      "_corr_coeff: to eval: x: 01-06:cordBloodGasPH y: 20-04:BayleyIIIMotorComposite valid_x: 415 valid_y: 415\n",
      "_corr_coeff: done: x: 01-06:cordBloodGasPH y: 20-04:BayleyIIIMotorComposite\n"
     ]
    },
    {
     "name": "stderr",
     "output_type": "stream",
     "text": [
      "\r",
      " 25%|██▍       | 84/341 [00:18<00:52,  4.88it/s]"
     ]
    },
    {
     "name": "stdout",
     "output_type": "stream",
     "text": [
      "_corr_coeff: to eval: x: 01-06:cordBloodGasPCO2_mmHg y: 20-10:moderateSevereDisabilityOrDeath valid_x: 359 valid_y: 504\n",
      "_corr_coeff: done: x: 01-06:cordBloodGasPCO2_mmHg y: 20-10:moderateSevereDisabilityOrDeath\n",
      "_corr_coeff: to eval: x: 01-06:cordBloodGasPCO2_mmHg y: 20-10:disabilityLevelDeath4Category valid_x: 359 valid_y: 498\n",
      "_corr_coeff: done: x: 01-06:cordBloodGasPCO2_mmHg y: 20-10:disabilityLevelDeath4Category\n",
      "_corr_coeff: to eval: x: 01-06:cordBloodGasPCO2_mmHg y: 20-10_1:disabilityLevelDeath valid_x: 359 valid_y: 498\n",
      "_corr_coeff: done: x: 01-06:cordBloodGasPCO2_mmHg y: 20-10_1:disabilityLevelDeath\n",
      "_corr_coeff: to eval: x: 01-06:cordBloodGasPCO2_mmHg y: 20-04:BayleyIIICognitiveComposite valid_x: 359 valid_y: 421\n",
      "_corr_coeff: done: x: 01-06:cordBloodGasPCO2_mmHg y: 20-04:BayleyIIICognitiveComposite\n",
      "_corr_coeff: to eval: x: 01-06:cordBloodGasPCO2_mmHg y: 20-04:BayleyIIILanguageComposite valid_x: 359 valid_y: 411\n",
      "_corr_coeff: done: x: 01-06:cordBloodGasPCO2_mmHg y: 20-04:BayleyIIILanguageComposite\n",
      "_corr_coeff: to eval: x: 01-06:cordBloodGasPCO2_mmHg y: 20-04:BayleyIIIMotorComposite valid_x: 359 valid_y: 415\n",
      "_corr_coeff: done: x: 01-06:cordBloodGasPCO2_mmHg y: 20-04:BayleyIIIMotorComposite\n"
     ]
    },
    {
     "name": "stderr",
     "output_type": "stream",
     "text": [
      "\r",
      " 25%|██▍       | 85/341 [00:18<00:54,  4.69it/s]"
     ]
    },
    {
     "name": "stdout",
     "output_type": "stream",
     "text": [
      "_corr_coeff: to eval: x: 01-06:cordBloodGasPO2_mmHg y: 20-10:moderateSevereDisabilityOrDeath valid_x: 320 valid_y: 504\n",
      "_corr_coeff: done: x: 01-06:cordBloodGasPO2_mmHg y: 20-10:moderateSevereDisabilityOrDeath\n",
      "_corr_coeff: to eval: x: 01-06:cordBloodGasPO2_mmHg y: 20-10:disabilityLevelDeath4Category valid_x: 320 valid_y: 498\n",
      "_corr_coeff: done: x: 01-06:cordBloodGasPO2_mmHg y: 20-10:disabilityLevelDeath4Category\n",
      "_corr_coeff: to eval: x: 01-06:cordBloodGasPO2_mmHg y: 20-10_1:disabilityLevelDeath valid_x: 320 valid_y: 498\n",
      "_corr_coeff: done: x: 01-06:cordBloodGasPO2_mmHg y: 20-10_1:disabilityLevelDeath\n",
      "_corr_coeff: to eval: x: 01-06:cordBloodGasPO2_mmHg y: 20-04:BayleyIIICognitiveComposite valid_x: 320 valid_y: 421\n",
      "_corr_coeff: done: x: 01-06:cordBloodGasPO2_mmHg y: 20-04:BayleyIIICognitiveComposite\n",
      "_corr_coeff: to eval: x: 01-06:cordBloodGasPO2_mmHg y: 20-04:BayleyIIILanguageComposite valid_x: 320 valid_y: 411\n",
      "_corr_coeff: done: x: 01-06:cordBloodGasPO2_mmHg y: 20-04:BayleyIIILanguageComposite\n",
      "_corr_coeff: to eval: x: 01-06:cordBloodGasPO2_mmHg y: 20-04:BayleyIIIMotorComposite valid_x: 320 valid_y: 415\n",
      "_corr_coeff: done: x: 01-06:cordBloodGasPO2_mmHg y: 20-04:BayleyIIIMotorComposite\n",
      "_corr_coeff: to eval: x: 01-06:cordBloodGasHCO3_mEqPerL y: 20-10:moderateSevereDisabilityOrDeath valid_x: 299 valid_y: 504\n",
      "_corr_coeff: done: x: 01-06:cordBloodGasHCO3_mEqPerL y: 20-10:moderateSevereDisabilityOrDeath\n"
     ]
    },
    {
     "name": "stderr",
     "output_type": "stream",
     "text": [
      "\r",
      " 25%|██▌       | 86/341 [00:18<00:55,  4.57it/s]"
     ]
    },
    {
     "name": "stdout",
     "output_type": "stream",
     "text": [
      "_corr_coeff: to eval: x: 01-06:cordBloodGasHCO3_mEqPerL y: 20-10:disabilityLevelDeath4Category valid_x: 299 valid_y: 498\n",
      "_corr_coeff: done: x: 01-06:cordBloodGasHCO3_mEqPerL y: 20-10:disabilityLevelDeath4Category\n",
      "_corr_coeff: to eval: x: 01-06:cordBloodGasHCO3_mEqPerL y: 20-10_1:disabilityLevelDeath valid_x: 299 valid_y: 498\n",
      "_corr_coeff: done: x: 01-06:cordBloodGasHCO3_mEqPerL y: 20-10_1:disabilityLevelDeath\n",
      "_corr_coeff: to eval: x: 01-06:cordBloodGasHCO3_mEqPerL y: 20-04:BayleyIIICognitiveComposite valid_x: 299 valid_y: 421\n",
      "_corr_coeff: done: x: 01-06:cordBloodGasHCO3_mEqPerL y: 20-04:BayleyIIICognitiveComposite\n",
      "_corr_coeff: to eval: x: 01-06:cordBloodGasHCO3_mEqPerL y: 20-04:BayleyIIILanguageComposite valid_x: 299 valid_y: 411\n",
      "_corr_coeff: done: x: 01-06:cordBloodGasHCO3_mEqPerL y: 20-04:BayleyIIILanguageComposite\n",
      "_corr_coeff: to eval: x: 01-06:cordBloodGasHCO3_mEqPerL y: 20-04:BayleyIIIMotorComposite valid_x: 299 valid_y: 415\n",
      "_corr_coeff: done: x: 01-06:cordBloodGasHCO3_mEqPerL y: 20-04:BayleyIIIMotorComposite\n",
      "_corr_coeff: to eval: x: 01-06:cordBloodGasBaseDeficit_mEqPerL y: 20-10:moderateSevereDisabilityOrDeath valid_x: 347 valid_y: 504\n",
      "_corr_coeff: done: x: 01-06:cordBloodGasBaseDeficit_mEqPerL y: 20-10:moderateSevereDisabilityOrDeath\n"
     ]
    },
    {
     "name": "stderr",
     "output_type": "stream",
     "text": [
      "\r",
      " 26%|██▌       | 87/341 [00:18<00:52,  4.80it/s]"
     ]
    },
    {
     "name": "stdout",
     "output_type": "stream",
     "text": [
      "_corr_coeff: to eval: x: 01-06:cordBloodGasBaseDeficit_mEqPerL y: 20-10:disabilityLevelDeath4Category valid_x: 347 valid_y: 498\n",
      "_corr_coeff: done: x: 01-06:cordBloodGasBaseDeficit_mEqPerL y: 20-10:disabilityLevelDeath4Category\n",
      "_corr_coeff: to eval: x: 01-06:cordBloodGasBaseDeficit_mEqPerL y: 20-10_1:disabilityLevelDeath valid_x: 347 valid_y: 498\n",
      "_corr_coeff: done: x: 01-06:cordBloodGasBaseDeficit_mEqPerL y: 20-10_1:disabilityLevelDeath\n",
      "_corr_coeff: to eval: x: 01-06:cordBloodGasBaseDeficit_mEqPerL y: 20-04:BayleyIIICognitiveComposite valid_x: 347 valid_y: 421\n",
      "_corr_coeff: done: x: 01-06:cordBloodGasBaseDeficit_mEqPerL y: 20-04:BayleyIIICognitiveComposite\n",
      "_corr_coeff: to eval: x: 01-06:cordBloodGasBaseDeficit_mEqPerL y: 20-04:BayleyIIILanguageComposite valid_x: 347 valid_y: 411\n",
      "_corr_coeff: done: x: 01-06:cordBloodGasBaseDeficit_mEqPerL y: 20-04:BayleyIIILanguageComposite\n",
      "_corr_coeff: to eval: x: 01-06:cordBloodGasBaseDeficit_mEqPerL y: 20-04:BayleyIIIMotorComposite valid_x: 347 valid_y: 415\n",
      "_corr_coeff: done: x: 01-06:cordBloodGasBaseDeficit_mEqPerL y: 20-04:BayleyIIIMotorComposite\n",
      "_corr_coeff: to eval: x: 01-06:firstPostnatalBloodGas y: 20-10:moderateSevereDisabilityOrDeath valid_x: 531 valid_y: 504\n",
      "_corr_coeff: done: x: 01-06:firstPostnatalBloodGas y: 20-10:moderateSevereDisabilityOrDeath\n",
      "_corr_coeff: to eval: x: 01-06:firstPostnatalBloodGas y: 20-10:disabilityLevelDeath4Category valid_x: 531 valid_y: 498\n",
      "_corr_coeff: done: x: 01-06:firstPostnatalBloodGas y: 20-10:disabilityLevelDeath4Category\n"
     ]
    },
    {
     "name": "stderr",
     "output_type": "stream",
     "text": [
      "\r",
      " 26%|██▌       | 88/341 [00:19<00:56,  4.44it/s]"
     ]
    },
    {
     "name": "stdout",
     "output_type": "stream",
     "text": [
      "_corr_coeff: to eval: x: 01-06:firstPostnatalBloodGas y: 20-10_1:disabilityLevelDeath valid_x: 531 valid_y: 498\n",
      "_corr_coeff: done: x: 01-06:firstPostnatalBloodGas y: 20-10_1:disabilityLevelDeath\n",
      "_corr_coeff: to eval: x: 01-06:firstPostnatalBloodGas y: 20-04:BayleyIIICognitiveComposite valid_x: 531 valid_y: 421\n",
      "_corr_coeff: done: x: 01-06:firstPostnatalBloodGas y: 20-04:BayleyIIICognitiveComposite\n",
      "_corr_coeff: to eval: x: 01-06:firstPostnatalBloodGas y: 20-04:BayleyIIILanguageComposite valid_x: 531 valid_y: 411\n",
      "_corr_coeff: done: x: 01-06:firstPostnatalBloodGas y: 20-04:BayleyIIILanguageComposite\n",
      "_corr_coeff: to eval: x: 01-06:firstPostnatalBloodGas y: 20-04:BayleyIIIMotorComposite valid_x: 531 valid_y: 415\n",
      "_corr_coeff: done: x: 01-06:firstPostnatalBloodGas y: 20-04:BayleyIIIMotorComposite\n",
      "_corr_coeff: to eval: x: 01-06:firstPostnatalBloodGasPH y: 20-10:moderateSevereDisabilityOrDeath valid_x: 516 valid_y: 504\n",
      "_corr_coeff: done: x: 01-06:firstPostnatalBloodGasPH y: 20-10:moderateSevereDisabilityOrDeath\n"
     ]
    },
    {
     "name": "stderr",
     "output_type": "stream",
     "text": [
      "\r",
      " 26%|██▌       | 89/341 [00:19<00:55,  4.57it/s]"
     ]
    },
    {
     "name": "stdout",
     "output_type": "stream",
     "text": [
      "_corr_coeff: to eval: x: 01-06:firstPostnatalBloodGasPH y: 20-10:disabilityLevelDeath4Category valid_x: 516 valid_y: 498\n",
      "_corr_coeff: done: x: 01-06:firstPostnatalBloodGasPH y: 20-10:disabilityLevelDeath4Category\n",
      "_corr_coeff: to eval: x: 01-06:firstPostnatalBloodGasPH y: 20-10_1:disabilityLevelDeath valid_x: 516 valid_y: 498\n",
      "_corr_coeff: done: x: 01-06:firstPostnatalBloodGasPH y: 20-10_1:disabilityLevelDeath\n",
      "_corr_coeff: to eval: x: 01-06:firstPostnatalBloodGasPH y: 20-04:BayleyIIICognitiveComposite valid_x: 516 valid_y: 421\n",
      "_corr_coeff: done: x: 01-06:firstPostnatalBloodGasPH y: 20-04:BayleyIIICognitiveComposite\n",
      "_corr_coeff: to eval: x: 01-06:firstPostnatalBloodGasPH y: 20-04:BayleyIIILanguageComposite valid_x: 516 valid_y: 411\n",
      "_corr_coeff: done: x: 01-06:firstPostnatalBloodGasPH y: 20-04:BayleyIIILanguageComposite\n",
      "_corr_coeff: to eval: x: 01-06:firstPostnatalBloodGasPH y: 20-04:BayleyIIIMotorComposite valid_x: 516 valid_y: 415\n",
      "_corr_coeff: done: x: 01-06:firstPostnatalBloodGasPH y: 20-04:BayleyIIIMotorComposite\n",
      "_corr_coeff: to eval: x: 01-06:firstPostnatalBloodGasPCO2_mmHg y: 20-10:moderateSevereDisabilityOrDeath valid_x: 511 valid_y: 504\n",
      "_corr_coeff: done: x: 01-06:firstPostnatalBloodGasPCO2_mmHg y: 20-10:moderateSevereDisabilityOrDeath\n",
      "_corr_coeff: to eval: x: 01-06:firstPostnatalBloodGasPCO2_mmHg y: 20-10:disabilityLevelDeath4Category valid_x: 511 valid_y: 498\n",
      "_corr_coeff: done: x: 01-06:firstPostnatalBloodGasPCO2_mmHg y: 20-10:disabilityLevelDeath4Category\n"
     ]
    },
    {
     "name": "stderr",
     "output_type": "stream",
     "text": [
      "\r",
      " 26%|██▋       | 90/341 [00:19<00:57,  4.34it/s]"
     ]
    },
    {
     "name": "stdout",
     "output_type": "stream",
     "text": [
      "_corr_coeff: to eval: x: 01-06:firstPostnatalBloodGasPCO2_mmHg y: 20-10_1:disabilityLevelDeath valid_x: 511 valid_y: 498\n",
      "_corr_coeff: done: x: 01-06:firstPostnatalBloodGasPCO2_mmHg y: 20-10_1:disabilityLevelDeath\n",
      "_corr_coeff: to eval: x: 01-06:firstPostnatalBloodGasPCO2_mmHg y: 20-04:BayleyIIICognitiveComposite valid_x: 511 valid_y: 421\n",
      "_corr_coeff: done: x: 01-06:firstPostnatalBloodGasPCO2_mmHg y: 20-04:BayleyIIICognitiveComposite\n",
      "_corr_coeff: to eval: x: 01-06:firstPostnatalBloodGasPCO2_mmHg y: 20-04:BayleyIIILanguageComposite valid_x: 511 valid_y: 411\n",
      "_corr_coeff: done: x: 01-06:firstPostnatalBloodGasPCO2_mmHg y: 20-04:BayleyIIILanguageComposite\n",
      "_corr_coeff: to eval: x: 01-06:firstPostnatalBloodGasPCO2_mmHg y: 20-04:BayleyIIIMotorComposite valid_x: 511 valid_y: 415\n",
      "_corr_coeff: done: x: 01-06:firstPostnatalBloodGasPCO2_mmHg y: 20-04:BayleyIIIMotorComposite\n",
      "_corr_coeff: to eval: x: 01-06:firstPostnatalBloodGasPO2_mmHg y: 20-10:moderateSevereDisabilityOrDeath valid_x: 498 valid_y: 504\n",
      "_corr_coeff: done: x: 01-06:firstPostnatalBloodGasPO2_mmHg y: 20-10:moderateSevereDisabilityOrDeath\n"
     ]
    },
    {
     "name": "stderr",
     "output_type": "stream",
     "text": [
      "\r",
      " 27%|██▋       | 91/341 [00:19<00:55,  4.49it/s]"
     ]
    },
    {
     "name": "stdout",
     "output_type": "stream",
     "text": [
      "_corr_coeff: to eval: x: 01-06:firstPostnatalBloodGasPO2_mmHg y: 20-10:disabilityLevelDeath4Category valid_x: 498 valid_y: 498\n",
      "_corr_coeff: done: x: 01-06:firstPostnatalBloodGasPO2_mmHg y: 20-10:disabilityLevelDeath4Category\n",
      "_corr_coeff: to eval: x: 01-06:firstPostnatalBloodGasPO2_mmHg y: 20-10_1:disabilityLevelDeath valid_x: 498 valid_y: 498\n",
      "_corr_coeff: done: x: 01-06:firstPostnatalBloodGasPO2_mmHg y: 20-10_1:disabilityLevelDeath\n",
      "_corr_coeff: to eval: x: 01-06:firstPostnatalBloodGasPO2_mmHg y: 20-04:BayleyIIICognitiveComposite valid_x: 498 valid_y: 421\n",
      "_corr_coeff: done: x: 01-06:firstPostnatalBloodGasPO2_mmHg y: 20-04:BayleyIIICognitiveComposite\n",
      "_corr_coeff: to eval: x: 01-06:firstPostnatalBloodGasPO2_mmHg y: 20-04:BayleyIIILanguageComposite valid_x: 498 valid_y: 411\n",
      "_corr_coeff: done: x: 01-06:firstPostnatalBloodGasPO2_mmHg y: 20-04:BayleyIIILanguageComposite\n",
      "_corr_coeff: to eval: x: 01-06:firstPostnatalBloodGasPO2_mmHg y: 20-04:BayleyIIIMotorComposite valid_x: 498 valid_y: 415\n",
      "_corr_coeff: done: x: 01-06:firstPostnatalBloodGasPO2_mmHg y: 20-04:BayleyIIIMotorComposite\n",
      "_corr_coeff: to eval: x: 01-06:firstPostnatalBloodGasHCO3_mEqPerL y: 20-10:moderateSevereDisabilityOrDeath valid_x: 467 valid_y: 504\n",
      "_corr_coeff: done: x: 01-06:firstPostnatalBloodGasHCO3_mEqPerL y: 20-10:moderateSevereDisabilityOrDeath\n",
      "_corr_coeff: to eval: x: 01-06:firstPostnatalBloodGasHCO3_mEqPerL y: 20-10:disabilityLevelDeath4Category valid_x: 467 valid_y: 498\n",
      "_corr_coeff: done: x: 01-06:firstPostnatalBloodGasHCO3_mEqPerL y: 20-10:disabilityLevelDeath4Category\n"
     ]
    },
    {
     "name": "stderr",
     "output_type": "stream",
     "text": [
      "\r",
      " 27%|██▋       | 92/341 [00:20<00:57,  4.34it/s]"
     ]
    },
    {
     "name": "stdout",
     "output_type": "stream",
     "text": [
      "_corr_coeff: to eval: x: 01-06:firstPostnatalBloodGasHCO3_mEqPerL y: 20-10_1:disabilityLevelDeath valid_x: 467 valid_y: 498\n",
      "_corr_coeff: done: x: 01-06:firstPostnatalBloodGasHCO3_mEqPerL y: 20-10_1:disabilityLevelDeath\n",
      "_corr_coeff: to eval: x: 01-06:firstPostnatalBloodGasHCO3_mEqPerL y: 20-04:BayleyIIICognitiveComposite valid_x: 467 valid_y: 421\n",
      "_corr_coeff: done: x: 01-06:firstPostnatalBloodGasHCO3_mEqPerL y: 20-04:BayleyIIICognitiveComposite\n",
      "_corr_coeff: to eval: x: 01-06:firstPostnatalBloodGasHCO3_mEqPerL y: 20-04:BayleyIIILanguageComposite valid_x: 467 valid_y: 411\n",
      "_corr_coeff: done: x: 01-06:firstPostnatalBloodGasHCO3_mEqPerL y: 20-04:BayleyIIILanguageComposite\n",
      "_corr_coeff: to eval: x: 01-06:firstPostnatalBloodGasHCO3_mEqPerL y: 20-04:BayleyIIIMotorComposite valid_x: 467 valid_y: 415\n",
      "_corr_coeff: done: x: 01-06:firstPostnatalBloodGasHCO3_mEqPerL y: 20-04:BayleyIIIMotorComposite\n",
      "_corr_coeff: to eval: x: 01-06:firstPostnatalBloodGasBaseDeficit_mEqPerL y: 20-10:moderateSevereDisabilityOrDeath valid_x: 495 valid_y: 504\n",
      "_corr_coeff: done: x: 01-06:firstPostnatalBloodGasBaseDeficit_mEqPerL y: 20-10:moderateSevereDisabilityOrDeath\n",
      "_corr_coeff: to eval: x: 01-06:firstPostnatalBloodGasBaseDeficit_mEqPerL y: 20-10:disabilityLevelDeath4Category valid_x: 495 valid_y: 498\n",
      "_corr_coeff: done: x: 01-06:firstPostnatalBloodGasBaseDeficit_mEqPerL y: 20-10:disabilityLevelDeath4Category\n",
      "_corr_coeff: to eval: x: 01-06:firstPostnatalBloodGasBaseDeficit_mEqPerL y: 20-10_1:disabilityLevelDeath valid_x: 495 valid_y: 498\n",
      "_corr_coeff: done: x: 01-06:firstPostnatalBloodGasBaseDeficit_mEqPerL y: 20-10_1:disabilityLevelDeath\n"
     ]
    },
    {
     "name": "stderr",
     "output_type": "stream",
     "text": [
      "\r",
      " 27%|██▋       | 93/341 [00:20<00:55,  4.50it/s]"
     ]
    },
    {
     "name": "stdout",
     "output_type": "stream",
     "text": [
      "_corr_coeff: to eval: x: 01-06:firstPostnatalBloodGasBaseDeficit_mEqPerL y: 20-04:BayleyIIICognitiveComposite valid_x: 495 valid_y: 421\n",
      "_corr_coeff: done: x: 01-06:firstPostnatalBloodGasBaseDeficit_mEqPerL y: 20-04:BayleyIIICognitiveComposite\n",
      "_corr_coeff: to eval: x: 01-06:firstPostnatalBloodGasBaseDeficit_mEqPerL y: 20-04:BayleyIIILanguageComposite valid_x: 495 valid_y: 411\n",
      "_corr_coeff: done: x: 01-06:firstPostnatalBloodGasBaseDeficit_mEqPerL y: 20-04:BayleyIIILanguageComposite\n",
      "_corr_coeff: to eval: x: 01-06:firstPostnatalBloodGasBaseDeficit_mEqPerL y: 20-04:BayleyIIIMotorComposite valid_x: 495 valid_y: 415\n",
      "_corr_coeff: done: x: 01-06:firstPostnatalBloodGasBaseDeficit_mEqPerL y: 20-04:BayleyIIIMotorComposite\n",
      "_corr_coeff: to eval: x: 01-06:acidosis y: 20-10:moderateSevereDisabilityOrDeath valid_x: 363 valid_y: 504\n",
      "_corr_coeff: done: x: 01-06:acidosis y: 20-10:moderateSevereDisabilityOrDeath\n",
      "_corr_coeff: to eval: x: 01-06:acidosis y: 20-10:disabilityLevelDeath4Category valid_x: 363 valid_y: 498\n",
      "_corr_coeff: done: x: 01-06:acidosis y: 20-10:disabilityLevelDeath4Category\n"
     ]
    },
    {
     "name": "stderr",
     "output_type": "stream",
     "text": [
      "\r",
      " 28%|██▊       | 94/341 [00:20<00:56,  4.38it/s]"
     ]
    },
    {
     "name": "stdout",
     "output_type": "stream",
     "text": [
      "_corr_coeff: to eval: x: 01-06:acidosis y: 20-10_1:disabilityLevelDeath valid_x: 363 valid_y: 498\n",
      "_corr_coeff: done: x: 01-06:acidosis y: 20-10_1:disabilityLevelDeath\n",
      "_corr_coeff: to eval: x: 01-06:acidosis y: 20-04:BayleyIIICognitiveComposite valid_x: 363 valid_y: 421\n",
      "_corr_coeff: done: x: 01-06:acidosis y: 20-04:BayleyIIICognitiveComposite\n",
      "_corr_coeff: to eval: x: 01-06:acidosis y: 20-04:BayleyIIILanguageComposite valid_x: 363 valid_y: 411\n",
      "_corr_coeff: done: x: 01-06:acidosis y: 20-04:BayleyIIILanguageComposite\n",
      "_corr_coeff: to eval: x: 01-06:acidosis y: 20-04:BayleyIIIMotorComposite valid_x: 363 valid_y: 415\n",
      "_corr_coeff: done: x: 01-06:acidosis y: 20-04:BayleyIIIMotorComposite\n",
      "_corr_coeff: to eval: x: 01-06:Apgar10minLess5 y: 20-10:moderateSevereDisabilityOrDeath valid_x: 324 valid_y: 504\n",
      "_corr_coeff: done: x: 01-06:Apgar10minLess5 y: 20-10:moderateSevereDisabilityOrDeath\n",
      "_corr_coeff: to eval: x: 01-06:Apgar10minLess5 y: 20-10:disabilityLevelDeath4Category valid_x: 324 valid_y: 498\n",
      "_corr_coeff: done: x: 01-06:Apgar10minLess5 y: 20-10:disabilityLevelDeath4Category\n",
      "_corr_coeff: to eval: x: 01-06:Apgar10minLess5 y: 20-10_1:disabilityLevelDeath valid_x: 324 valid_y: 498\n",
      "_corr_coeff: done: x: 01-06:Apgar10minLess5 y: 20-10_1:disabilityLevelDeath\n"
     ]
    },
    {
     "name": "stderr",
     "output_type": "stream",
     "text": [
      "\r",
      " 28%|██▊       | 95/341 [00:20<00:52,  4.67it/s]"
     ]
    },
    {
     "name": "stdout",
     "output_type": "stream",
     "text": [
      "_corr_coeff: to eval: x: 01-06:Apgar10minLess5 y: 20-04:BayleyIIICognitiveComposite valid_x: 324 valid_y: 421\n",
      "_corr_coeff: done: x: 01-06:Apgar10minLess5 y: 20-04:BayleyIIICognitiveComposite\n",
      "_corr_coeff: to eval: x: 01-06:Apgar10minLess5 y: 20-04:BayleyIIILanguageComposite valid_x: 324 valid_y: 411\n",
      "_corr_coeff: done: x: 01-06:Apgar10minLess5 y: 20-04:BayleyIIILanguageComposite\n",
      "_corr_coeff: to eval: x: 01-06:Apgar10minLess5 y: 20-04:BayleyIIIMotorComposite valid_x: 324 valid_y: 415\n",
      "_corr_coeff: done: x: 01-06:Apgar10minLess5 y: 20-04:BayleyIIIMotorComposite\n",
      "_corr_coeff: to eval: x: 01-06:Apgar10minLessEq5 y: 20-10:moderateSevereDisabilityOrDeath valid_x: 324 valid_y: 504\n",
      "_corr_coeff: done: x: 01-06:Apgar10minLessEq5 y: 20-10:moderateSevereDisabilityOrDeath\n",
      "_corr_coeff: to eval: x: 01-06:Apgar10minLessEq5 y: 20-10:disabilityLevelDeath4Category valid_x: 324 valid_y: 498\n",
      "_corr_coeff: done: x: 01-06:Apgar10minLessEq5 y: 20-10:disabilityLevelDeath4Category\n"
     ]
    },
    {
     "name": "stderr",
     "output_type": "stream",
     "text": [
      "\r",
      " 28%|██▊       | 96/341 [00:20<00:54,  4.50it/s]"
     ]
    },
    {
     "name": "stdout",
     "output_type": "stream",
     "text": [
      "_corr_coeff: to eval: x: 01-06:Apgar10minLessEq5 y: 20-10_1:disabilityLevelDeath valid_x: 324 valid_y: 498\n",
      "_corr_coeff: done: x: 01-06:Apgar10minLessEq5 y: 20-10_1:disabilityLevelDeath\n",
      "_corr_coeff: to eval: x: 01-06:Apgar10minLessEq5 y: 20-04:BayleyIIICognitiveComposite valid_x: 324 valid_y: 421\n",
      "_corr_coeff: done: x: 01-06:Apgar10minLessEq5 y: 20-04:BayleyIIICognitiveComposite\n",
      "_corr_coeff: to eval: x: 01-06:Apgar10minLessEq5 y: 20-04:BayleyIIILanguageComposite valid_x: 324 valid_y: 411\n",
      "_corr_coeff: done: x: 01-06:Apgar10minLessEq5 y: 20-04:BayleyIIILanguageComposite\n",
      "_corr_coeff: to eval: x: 01-06:Apgar10minLessEq5 y: 20-04:BayleyIIIMotorComposite valid_x: 324 valid_y: 415\n",
      "_corr_coeff: done: x: 01-06:Apgar10minLessEq5 y: 20-04:BayleyIIIMotorComposite\n",
      "_corr_coeff: to eval: x: 01-06:Apgar5minLessEq5 y: 20-10:moderateSevereDisabilityOrDeath valid_x: 361 valid_y: 504\n",
      "_corr_coeff: done: x: 01-06:Apgar5minLessEq5 y: 20-10:moderateSevereDisabilityOrDeath\n",
      "_corr_coeff: to eval: x: 01-06:Apgar5minLessEq5 y: 20-10:disabilityLevelDeath4Category valid_x: 361 valid_y: 498\n",
      "_corr_coeff: done: x: 01-06:Apgar5minLessEq5 y: 20-10:disabilityLevelDeath4Category\n",
      "_corr_coeff: to eval: x: 01-06:Apgar5minLessEq5 y: 20-10_1:disabilityLevelDeath valid_x: 361 valid_y: 498\n",
      "_corr_coeff: done: x: 01-06:Apgar5minLessEq5 y: 20-10_1:disabilityLevelDeath\n"
     ]
    },
    {
     "name": "stderr",
     "output_type": "stream",
     "text": [
      "\r",
      " 28%|██▊       | 97/341 [00:21<00:55,  4.36it/s]"
     ]
    },
    {
     "name": "stdout",
     "output_type": "stream",
     "text": [
      "_corr_coeff: to eval: x: 01-06:Apgar5minLessEq5 y: 20-04:BayleyIIICognitiveComposite valid_x: 361 valid_y: 421\n",
      "_corr_coeff: done: x: 01-06:Apgar5minLessEq5 y: 20-04:BayleyIIICognitiveComposite\n",
      "_corr_coeff: to eval: x: 01-06:Apgar5minLessEq5 y: 20-04:BayleyIIILanguageComposite valid_x: 361 valid_y: 411\n",
      "_corr_coeff: done: x: 01-06:Apgar5minLessEq5 y: 20-04:BayleyIIILanguageComposite\n",
      "_corr_coeff: to eval: x: 01-06:Apgar5minLessEq5 y: 20-04:BayleyIIIMotorComposite valid_x: 361 valid_y: 415\n",
      "_corr_coeff: done: x: 01-06:Apgar5minLessEq5 y: 20-04:BayleyIIIMotorComposite\n",
      "_corr_coeff: to eval: x: 01-06:initBloodGasBaseDeficit_mEqPerL y: 20-10:moderateSevereDisabilityOrDeath valid_x: 351 valid_y: 504\n",
      "_corr_coeff: done: x: 01-06:initBloodGasBaseDeficit_mEqPerL y: 20-10:moderateSevereDisabilityOrDeath\n",
      "_corr_coeff: to eval: x: 01-06:initBloodGasBaseDeficit_mEqPerL y: 20-10:disabilityLevelDeath4Category valid_x: 351 valid_y: 498\n",
      "_corr_coeff: done: x: 01-06:initBloodGasBaseDeficit_mEqPerL y: 20-10:disabilityLevelDeath4Category\n"
     ]
    },
    {
     "name": "stderr",
     "output_type": "stream",
     "text": [
      "\r",
      " 29%|██▊       | 98/341 [00:21<00:52,  4.61it/s]"
     ]
    },
    {
     "name": "stdout",
     "output_type": "stream",
     "text": [
      "_corr_coeff: to eval: x: 01-06:initBloodGasBaseDeficit_mEqPerL y: 20-10_1:disabilityLevelDeath valid_x: 351 valid_y: 498\n",
      "_corr_coeff: done: x: 01-06:initBloodGasBaseDeficit_mEqPerL y: 20-10_1:disabilityLevelDeath\n",
      "_corr_coeff: to eval: x: 01-06:initBloodGasBaseDeficit_mEqPerL y: 20-04:BayleyIIICognitiveComposite valid_x: 351 valid_y: 421\n",
      "_corr_coeff: done: x: 01-06:initBloodGasBaseDeficit_mEqPerL y: 20-04:BayleyIIICognitiveComposite\n",
      "_corr_coeff: to eval: x: 01-06:initBloodGasBaseDeficit_mEqPerL y: 20-04:BayleyIIILanguageComposite valid_x: 351 valid_y: 411\n",
      "_corr_coeff: done: x: 01-06:initBloodGasBaseDeficit_mEqPerL y: 20-04:BayleyIIILanguageComposite\n",
      "_corr_coeff: to eval: x: 01-06:initBloodGasBaseDeficit_mEqPerL y: 20-04:BayleyIIIMotorComposite valid_x: 351 valid_y: 415\n",
      "_corr_coeff: done: x: 01-06:initBloodGasBaseDeficit_mEqPerL y: 20-04:BayleyIIIMotorComposite\n",
      "_corr_coeff: to eval: x: 01-06:initBloodGasPH y: 20-10:moderateSevereDisabilityOrDeath valid_x: 363 valid_y: 504\n",
      "_corr_coeff: done: x: 01-06:initBloodGasPH y: 20-10:moderateSevereDisabilityOrDeath\n",
      "_corr_coeff: to eval: x: 01-06:initBloodGasPH y: 20-10:disabilityLevelDeath4Category valid_x: 363 valid_y: 498\n",
      "_corr_coeff: done: x: 01-06:initBloodGasPH y: 20-10:disabilityLevelDeath4Category\n",
      "_corr_coeff: to eval: x: 01-06:initBloodGasPH y: 20-10_1:disabilityLevelDeath valid_x: 363 valid_y: 498\n",
      "_corr_coeff: done: x: 01-06:initBloodGasPH y: 20-10_1:disabilityLevelDeath\n"
     ]
    },
    {
     "name": "stderr",
     "output_type": "stream",
     "text": [
      "\r",
      " 29%|██▉       | 99/341 [00:21<00:54,  4.45it/s]"
     ]
    },
    {
     "name": "stdout",
     "output_type": "stream",
     "text": [
      "_corr_coeff: to eval: x: 01-06:initBloodGasPH y: 20-04:BayleyIIICognitiveComposite valid_x: 363 valid_y: 421\n",
      "_corr_coeff: done: x: 01-06:initBloodGasPH y: 20-04:BayleyIIICognitiveComposite\n",
      "_corr_coeff: to eval: x: 01-06:initBloodGasPH y: 20-04:BayleyIIILanguageComposite valid_x: 363 valid_y: 411\n",
      "_corr_coeff: done: x: 01-06:initBloodGasPH y: 20-04:BayleyIIILanguageComposite\n",
      "_corr_coeff: to eval: x: 01-06:initBloodGasPH y: 20-04:BayleyIIIMotorComposite valid_x: 363 valid_y: 415\n",
      "_corr_coeff: done: x: 01-06:initBloodGasPH y: 20-04:BayleyIIIMotorComposite\n",
      "_corr_coeff: to eval: x: 01-06_1:Apgar5min y: 20-10:moderateSevereDisabilityOrDeath valid_x: 529 valid_y: 504\n",
      "_corr_coeff: done: x: 01-06_1:Apgar5min y: 20-10:moderateSevereDisabilityOrDeath\n",
      "_corr_coeff: to eval: x: 01-06_1:Apgar5min y: 20-10:disabilityLevelDeath4Category valid_x: 529 valid_y: 498\n",
      "_corr_coeff: done: x: 01-06_1:Apgar5min y: 20-10:disabilityLevelDeath4Category\n"
     ]
    },
    {
     "name": "stderr",
     "output_type": "stream",
     "text": [
      "\r",
      " 29%|██▉       | 100/341 [00:21<00:53,  4.55it/s]"
     ]
    },
    {
     "name": "stdout",
     "output_type": "stream",
     "text": [
      "_corr_coeff: to eval: x: 01-06_1:Apgar5min y: 20-10_1:disabilityLevelDeath valid_x: 529 valid_y: 498\n",
      "_corr_coeff: done: x: 01-06_1:Apgar5min y: 20-10_1:disabilityLevelDeath\n",
      "_corr_coeff: to eval: x: 01-06_1:Apgar5min y: 20-04:BayleyIIICognitiveComposite valid_x: 529 valid_y: 421\n",
      "_corr_coeff: done: x: 01-06_1:Apgar5min y: 20-04:BayleyIIICognitiveComposite\n",
      "_corr_coeff: to eval: x: 01-06_1:Apgar5min y: 20-04:BayleyIIILanguageComposite valid_x: 529 valid_y: 411\n",
      "_corr_coeff: done: x: 01-06_1:Apgar5min y: 20-04:BayleyIIILanguageComposite\n",
      "_corr_coeff: to eval: x: 01-06_1:Apgar5min y: 20-04:BayleyIIIMotorComposite valid_x: 529 valid_y: 415\n",
      "_corr_coeff: done: x: 01-06_1:Apgar5min y: 20-04:BayleyIIIMotorComposite\n",
      "_corr_coeff: to eval: x: 01-06_1:Apgar10min y: 20-10:moderateSevereDisabilityOrDeath valid_x: 464 valid_y: 504\n",
      "_corr_coeff: done: x: 01-06_1:Apgar10min y: 20-10:moderateSevereDisabilityOrDeath\n",
      "_corr_coeff: to eval: x: 01-06_1:Apgar10min y: 20-10:disabilityLevelDeath4Category valid_x: 464 valid_y: 498\n",
      "_corr_coeff: done: x: 01-06_1:Apgar10min y: 20-10:disabilityLevelDeath4Category\n"
     ]
    },
    {
     "name": "stderr",
     "output_type": "stream",
     "text": [
      "\r",
      " 30%|██▉       | 101/341 [00:22<00:54,  4.37it/s]"
     ]
    },
    {
     "name": "stdout",
     "output_type": "stream",
     "text": [
      "_corr_coeff: to eval: x: 01-06_1:Apgar10min y: 20-10_1:disabilityLevelDeath valid_x: 464 valid_y: 498\n",
      "_corr_coeff: done: x: 01-06_1:Apgar10min y: 20-10_1:disabilityLevelDeath\n",
      "_corr_coeff: to eval: x: 01-06_1:Apgar10min y: 20-04:BayleyIIICognitiveComposite valid_x: 464 valid_y: 421\n",
      "_corr_coeff: done: x: 01-06_1:Apgar10min y: 20-04:BayleyIIICognitiveComposite\n",
      "_corr_coeff: to eval: x: 01-06_1:Apgar10min y: 20-04:BayleyIIILanguageComposite valid_x: 464 valid_y: 411\n",
      "_corr_coeff: done: x: 01-06_1:Apgar10min y: 20-04:BayleyIIILanguageComposite\n",
      "_corr_coeff: to eval: x: 01-06_1:Apgar10min y: 20-04:BayleyIIIMotorComposite valid_x: 464 valid_y: 415\n",
      "_corr_coeff: done: x: 01-06_1:Apgar10min y: 20-04:BayleyIIIMotorComposite\n",
      "_corr_coeff: to eval: x: 01-06_1:Apgar10minLess5 y: 20-10:moderateSevereDisabilityOrDeath valid_x: 532 valid_y: 504\n",
      "_corr_coeff: done: x: 01-06_1:Apgar10minLess5 y: 20-10:moderateSevereDisabilityOrDeath\n"
     ]
    },
    {
     "name": "stderr",
     "output_type": "stream",
     "text": [
      "\r",
      " 30%|██▉       | 102/341 [00:22<00:52,  4.54it/s]"
     ]
    },
    {
     "name": "stdout",
     "output_type": "stream",
     "text": [
      "_corr_coeff: to eval: x: 01-06_1:Apgar10minLess5 y: 20-10:disabilityLevelDeath4Category valid_x: 532 valid_y: 498\n",
      "_corr_coeff: done: x: 01-06_1:Apgar10minLess5 y: 20-10:disabilityLevelDeath4Category\n",
      "_corr_coeff: to eval: x: 01-06_1:Apgar10minLess5 y: 20-10_1:disabilityLevelDeath valid_x: 532 valid_y: 498\n",
      "_corr_coeff: done: x: 01-06_1:Apgar10minLess5 y: 20-10_1:disabilityLevelDeath\n",
      "_corr_coeff: to eval: x: 01-06_1:Apgar10minLess5 y: 20-04:BayleyIIICognitiveComposite valid_x: 532 valid_y: 421\n",
      "_corr_coeff: done: x: 01-06_1:Apgar10minLess5 y: 20-04:BayleyIIICognitiveComposite\n",
      "_corr_coeff: to eval: x: 01-06_1:Apgar10minLess5 y: 20-04:BayleyIIILanguageComposite valid_x: 532 valid_y: 411\n",
      "_corr_coeff: done: x: 01-06_1:Apgar10minLess5 y: 20-04:BayleyIIILanguageComposite\n",
      "_corr_coeff: to eval: x: 01-06_1:Apgar10minLess5 y: 20-04:BayleyIIIMotorComposite valid_x: 532 valid_y: 415\n",
      "_corr_coeff: done: x: 01-06_1:Apgar10minLess5 y: 20-04:BayleyIIIMotorComposite\n",
      "_corr_coeff: to eval: x: 01-06_1:Apgar10minLessEq5 y: 20-10:moderateSevereDisabilityOrDeath valid_x: 532 valid_y: 504\n",
      "_corr_coeff: done: x: 01-06_1:Apgar10minLessEq5 y: 20-10:moderateSevereDisabilityOrDeath\n",
      "_corr_coeff: to eval: x: 01-06_1:Apgar10minLessEq5 y: 20-10:disabilityLevelDeath4Category valid_x: 532 valid_y: 498\n",
      "_corr_coeff: done: x: 01-06_1:Apgar10minLessEq5 y: 20-10:disabilityLevelDeath4Category\n"
     ]
    },
    {
     "name": "stderr",
     "output_type": "stream",
     "text": [
      "\r",
      " 30%|███       | 103/341 [00:22<00:51,  4.66it/s]"
     ]
    },
    {
     "name": "stdout",
     "output_type": "stream",
     "text": [
      "_corr_coeff: to eval: x: 01-06_1:Apgar10minLessEq5 y: 20-10_1:disabilityLevelDeath valid_x: 532 valid_y: 498\n",
      "_corr_coeff: done: x: 01-06_1:Apgar10minLessEq5 y: 20-10_1:disabilityLevelDeath\n",
      "_corr_coeff: to eval: x: 01-06_1:Apgar10minLessEq5 y: 20-04:BayleyIIICognitiveComposite valid_x: 532 valid_y: 421\n",
      "_corr_coeff: done: x: 01-06_1:Apgar10minLessEq5 y: 20-04:BayleyIIICognitiveComposite\n",
      "_corr_coeff: to eval: x: 01-06_1:Apgar10minLessEq5 y: 20-04:BayleyIIILanguageComposite valid_x: 532 valid_y: 411\n",
      "_corr_coeff: done: x: 01-06_1:Apgar10minLessEq5 y: 20-04:BayleyIIILanguageComposite\n",
      "_corr_coeff: to eval: x: 01-06_1:Apgar10minLessEq5 y: 20-04:BayleyIIIMotorComposite valid_x: 532 valid_y: 415\n",
      "_corr_coeff: done: x: 01-06_1:Apgar10minLessEq5 y: 20-04:BayleyIIIMotorComposite\n",
      "_corr_coeff: to eval: x: 01-06_1:Apgar5minLessEq5 y: 20-10:moderateSevereDisabilityOrDeath valid_x: 532 valid_y: 504\n",
      "_corr_coeff: done: x: 01-06_1:Apgar5minLessEq5 y: 20-10:moderateSevereDisabilityOrDeath\n",
      "_corr_coeff: to eval: x: 01-06_1:Apgar5minLessEq5 y: 20-10:disabilityLevelDeath4Category valid_x: 532 valid_y: 498\n",
      "_corr_coeff: done: x: 01-06_1:Apgar5minLessEq5 y: 20-10:disabilityLevelDeath4Category\n",
      "_corr_coeff: to eval: x: 01-06_1:Apgar5minLessEq5 y: 20-10_1:disabilityLevelDeath valid_x: 532 valid_y: 498\n",
      "_corr_coeff: done: x: 01-06_1:Apgar5minLessEq5 y: 20-10_1:disabilityLevelDeath\n"
     ]
    },
    {
     "name": "stderr",
     "output_type": "stream",
     "text": [
      "\r",
      " 30%|███       | 104/341 [00:22<00:49,  4.74it/s]"
     ]
    },
    {
     "name": "stdout",
     "output_type": "stream",
     "text": [
      "_corr_coeff: to eval: x: 01-06_1:Apgar5minLessEq5 y: 20-04:BayleyIIICognitiveComposite valid_x: 532 valid_y: 421\n",
      "_corr_coeff: done: x: 01-06_1:Apgar5minLessEq5 y: 20-04:BayleyIIICognitiveComposite\n",
      "_corr_coeff: to eval: x: 01-06_1:Apgar5minLessEq5 y: 20-04:BayleyIIILanguageComposite valid_x: 532 valid_y: 411\n",
      "_corr_coeff: done: x: 01-06_1:Apgar5minLessEq5 y: 20-04:BayleyIIILanguageComposite\n",
      "_corr_coeff: to eval: x: 01-06_1:Apgar5minLessEq5 y: 20-04:BayleyIIIMotorComposite valid_x: 532 valid_y: 415\n",
      "_corr_coeff: done: x: 01-06_1:Apgar5minLessEq5 y: 20-04:BayleyIIIMotorComposite\n",
      "_corr_coeff: to eval: x: 01-07:pre_CoolInitiate y: 20-10:moderateSevereDisabilityOrDeath valid_x: 364 valid_y: 504\n",
      "_corr_coeff: done: x: 01-07:pre_CoolInitiate y: 20-10:moderateSevereDisabilityOrDeath\n",
      "_corr_coeff: to eval: x: 01-07:pre_CoolInitiate y: 20-10:disabilityLevelDeath4Category valid_x: 364 valid_y: 498\n",
      "_corr_coeff: done: x: 01-07:pre_CoolInitiate y: 20-10:disabilityLevelDeath4Category\n",
      "_corr_coeff: to eval: x: 01-07:pre_CoolInitiate y: 20-10_1:disabilityLevelDeath valid_x: 364 valid_y: 498\n",
      "_corr_coeff: done: x: 01-07:pre_CoolInitiate y: 20-10_1:disabilityLevelDeath\n",
      "_corr_coeff: to eval: x: 01-07:pre_CoolInitiate y: 20-04:BayleyIIICognitiveComposite valid_x: 364 valid_y: 421\n",
      "_corr_coeff: done: x: 01-07:pre_CoolInitiate y: 20-04:BayleyIIICognitiveComposite\n"
     ]
    },
    {
     "name": "stderr",
     "output_type": "stream",
     "text": [
      "\r",
      " 31%|███       | 105/341 [00:22<00:47,  4.92it/s]"
     ]
    },
    {
     "name": "stderr",
     "output_type": "stream",
     "text": [
      "\r",
      " 31%|███       | 106/341 [00:23<00:45,  5.21it/s]"
     ]
    },
    {
     "name": "stdout",
     "output_type": "stream",
     "text": [
      "_corr_coeff: to eval: x: 01-07:pre_CoolInitiate y: 20-04:BayleyIIILanguageComposite valid_x: 364 valid_y: 411\n",
      "_corr_coeff: done: x: 01-07:pre_CoolInitiate y: 20-04:BayleyIIILanguageComposite\n",
      "_corr_coeff: to eval: x: 01-07:pre_CoolInitiate y: 20-04:BayleyIIIMotorComposite valid_x: 364 valid_y: 415\n",
      "_corr_coeff: done: x: 01-07:pre_CoolInitiate y: 20-04:BayleyIIIMotorComposite\n",
      "_corr_coeff: to eval: x: 01-07:pre_CoolPassively y: 20-10:moderateSevereDisabilityOrDeath valid_x: 251 valid_y: 504\n",
      "_corr_coeff: done: x: 01-07:pre_CoolPassively y: 20-10:moderateSevereDisabilityOrDeath\n",
      "_corr_coeff: to eval: x: 01-07:pre_CoolPassively y: 20-10:disabilityLevelDeath4Category valid_x: 251 valid_y: 498\n",
      "_corr_coeff: done: x: 01-07:pre_CoolPassively y: 20-10:disabilityLevelDeath4Category\n",
      "_corr_coeff: to eval: x: 01-07:pre_CoolPassively y: 20-10_1:disabilityLevelDeath valid_x: 251 valid_y: 498\n",
      "_corr_coeff: done: x: 01-07:pre_CoolPassively y: 20-10_1:disabilityLevelDeath\n",
      "_corr_coeff: to eval: x: 01-07:pre_CoolPassively y: 20-04:BayleyIIICognitiveComposite valid_x: 251 valid_y: 421\n",
      "_corr_coeff: done: x: 01-07:pre_CoolPassively y: 20-04:BayleyIIICognitiveComposite\n",
      "_corr_coeff: to eval: x: 01-07:pre_CoolPassively y: 20-04:BayleyIIILanguageComposite valid_x: 251 valid_y: 411\n",
      "_corr_coeff: done: x: 01-07:pre_CoolPassively y: 20-04:BayleyIIILanguageComposite\n",
      "_corr_coeff: to eval: x: 01-07:pre_CoolPassively y: 20-04:BayleyIIIMotorComposite valid_x: 251 valid_y: 415\n",
      "_corr_coeff: done: x: 01-07:pre_CoolPassively y: 20-04:BayleyIIIMotorComposite\n"
     ]
    },
    {
     "name": "stderr",
     "output_type": "stream",
     "text": [
      "\r",
      " 31%|███▏      | 107/341 [00:23<00:46,  4.98it/s]"
     ]
    },
    {
     "name": "stdout",
     "output_type": "stream",
     "text": [
      "_corr_coeff: to eval: x: 01-07:pre_CoolClinically y: 20-10:moderateSevereDisabilityOrDeath valid_x: 252 valid_y: 504\n",
      "_corr_coeff: done: x: 01-07:pre_CoolClinically y: 20-10:moderateSevereDisabilityOrDeath\n",
      "_corr_coeff: to eval: x: 01-07:pre_CoolClinically y: 20-10:disabilityLevelDeath4Category valid_x: 252 valid_y: 498\n",
      "_corr_coeff: done: x: 01-07:pre_CoolClinically y: 20-10:disabilityLevelDeath4Category\n",
      "_corr_coeff: to eval: x: 01-07:pre_CoolClinically y: 20-10_1:disabilityLevelDeath valid_x: 252 valid_y: 498\n",
      "_corr_coeff: done: x: 01-07:pre_CoolClinically y: 20-10_1:disabilityLevelDeath\n",
      "_corr_coeff: to eval: x: 01-07:pre_CoolClinically y: 20-04:BayleyIIICognitiveComposite valid_x: 252 valid_y: 421\n",
      "_corr_coeff: done: x: 01-07:pre_CoolClinically y: 20-04:BayleyIIICognitiveComposite\n",
      "_corr_coeff: to eval: x: 01-07:pre_CoolClinically y: 20-04:BayleyIIILanguageComposite valid_x: 252 valid_y: 411\n",
      "_corr_coeff: done: x: 01-07:pre_CoolClinically y: 20-04:BayleyIIILanguageComposite\n",
      "_corr_coeff: to eval: x: 01-07:pre_CoolClinically y: 20-04:BayleyIIIMotorComposite valid_x: 252 valid_y: 415\n",
      "_corr_coeff: done: x: 01-07:pre_CoolClinically y: 20-04:BayleyIIIMotorComposite\n"
     ]
    },
    {
     "name": "stderr",
     "output_type": "stream",
     "text": [
      "\r",
      " 32%|███▏      | 108/341 [00:23<00:45,  5.10it/s]"
     ]
    },
    {
     "name": "stdout",
     "output_type": "stream",
     "text": [
      "_corr_coeff: to eval: x: 01-07:pre_AfterOvershootReach33p5C y: 20-10:moderateSevereDisabilityOrDeath valid_x: 355 valid_y: 504\n",
      "_corr_coeff: done: x: 01-07:pre_AfterOvershootReach33p5C y: 20-10:moderateSevereDisabilityOrDeath\n",
      "_corr_coeff: to eval: x: 01-07:pre_AfterOvershootReach33p5C y: 20-10:disabilityLevelDeath4Category valid_x: 355 valid_y: 498\n",
      "_corr_coeff: done: x: 01-07:pre_AfterOvershootReach33p5C y: 20-10:disabilityLevelDeath4Category\n",
      "_corr_coeff: to eval: x: 01-07:pre_AfterOvershootReach33p5C y: 20-10_1:disabilityLevelDeath valid_x: 355 valid_y: 498\n",
      "_corr_coeff: done: x: 01-07:pre_AfterOvershootReach33p5C y: 20-10_1:disabilityLevelDeath\n",
      "_corr_coeff: to eval: x: 01-07:pre_AfterOvershootReach33p5C y: 20-04:BayleyIIICognitiveComposite valid_x: 355 valid_y: 421\n",
      "_corr_coeff: done: x: 01-07:pre_AfterOvershootReach33p5C y: 20-04:BayleyIIICognitiveComposite\n",
      "_corr_coeff: to eval: x: 01-07:pre_AfterOvershootReach33p5C y: 20-04:BayleyIIILanguageComposite valid_x: 355 valid_y: 411\n",
      "_corr_coeff: done: x: 01-07:pre_AfterOvershootReach33p5C y: 20-04:BayleyIIILanguageComposite\n",
      "_corr_coeff: to eval: x: 01-07:pre_AfterOvershootReach33p5C y: 20-04:BayleyIIIMotorComposite valid_x: 355 valid_y: 415\n",
      "_corr_coeff: done: x: 01-07:pre_AfterOvershootReach33p5C y: 20-04:BayleyIIIMotorComposite\n",
      "_corr_coeff: to eval: x: 01-07:pre_SkinTemperatureMin_C y: 20-10:moderateSevereDisabilityOrDeath valid_x: 234 valid_y: 504\n",
      "_corr_coeff: done: x: 01-07:pre_SkinTemperatureMin_C y: 20-10:moderateSevereDisabilityOrDeath\n"
     ]
    },
    {
     "name": "stderr",
     "output_type": "stream",
     "text": [
      "\r",
      " 32%|███▏      | 109/341 [00:23<00:43,  5.30it/s]"
     ]
    },
    {
     "name": "stdout",
     "output_type": "stream",
     "text": [
      "_corr_coeff: to eval: x: 01-07:pre_SkinTemperatureMin_C y: 20-10:disabilityLevelDeath4Category valid_x: 234 valid_y: 498\n",
      "_corr_coeff: done: x: 01-07:pre_SkinTemperatureMin_C y: 20-10:disabilityLevelDeath4Category\n",
      "_corr_coeff: to eval: x: 01-07:pre_SkinTemperatureMin_C y: 20-10_1:disabilityLevelDeath valid_x: 234 valid_y: 498\n",
      "_corr_coeff: done: x: 01-07:pre_SkinTemperatureMin_C y: 20-10_1:disabilityLevelDeath\n",
      "_corr_coeff: to eval: x: 01-07:pre_SkinTemperatureMin_C y: 20-04:BayleyIIICognitiveComposite valid_x: 234 valid_y: 421\n",
      "_corr_coeff: done: x: 01-07:pre_SkinTemperatureMin_C y: 20-04:BayleyIIICognitiveComposite\n",
      "_corr_coeff: to eval: x: 01-07:pre_SkinTemperatureMin_C y: 20-04:BayleyIIILanguageComposite valid_x: 234 valid_y: 411\n",
      "_corr_coeff: done: x: 01-07:pre_SkinTemperatureMin_C y: 20-04:BayleyIIILanguageComposite\n",
      "_corr_coeff: to eval: x: 01-07:pre_SkinTemperatureMin_C y: 20-04:BayleyIIIMotorComposite valid_x: 234 valid_y: 415\n",
      "_corr_coeff: done: x: 01-07:pre_SkinTemperatureMin_C y: 20-04:BayleyIIIMotorComposite\n",
      "_corr_coeff: to eval: x: 01-07:pre_AxillaryTemperatureMin_C y: 20-10:moderateSevereDisabilityOrDeath valid_x: 378 valid_y: 504\n",
      "_corr_coeff: done: x: 01-07:pre_AxillaryTemperatureMin_C y: 20-10:moderateSevereDisabilityOrDeath\n",
      "_corr_coeff: to eval: x: 01-07:pre_AxillaryTemperatureMin_C y: 20-10:disabilityLevelDeath4Category valid_x: 378 valid_y: 498\n",
      "_corr_coeff: done: x: 01-07:pre_AxillaryTemperatureMin_C y: 20-10:disabilityLevelDeath4Category\n"
     ]
    },
    {
     "name": "stderr",
     "output_type": "stream",
     "text": [
      "\r",
      " 32%|███▏      | 110/341 [00:23<00:43,  5.30it/s]"
     ]
    },
    {
     "name": "stdout",
     "output_type": "stream",
     "text": [
      "_corr_coeff: to eval: x: 01-07:pre_AxillaryTemperatureMin_C y: 20-10_1:disabilityLevelDeath valid_x: 378 valid_y: 498\n",
      "_corr_coeff: done: x: 01-07:pre_AxillaryTemperatureMin_C y: 20-10_1:disabilityLevelDeath\n",
      "_corr_coeff: to eval: x: 01-07:pre_AxillaryTemperatureMin_C y: 20-04:BayleyIIICognitiveComposite valid_x: 378 valid_y: 421\n",
      "_corr_coeff: done: x: 01-07:pre_AxillaryTemperatureMin_C y: 20-04:BayleyIIICognitiveComposite\n",
      "_corr_coeff: to eval: x: 01-07:pre_AxillaryTemperatureMin_C y: 20-04:BayleyIIILanguageComposite valid_x: 378 valid_y: 411\n",
      "_corr_coeff: done: x: 01-07:pre_AxillaryTemperatureMin_C y: 20-04:BayleyIIILanguageComposite\n",
      "_corr_coeff: to eval: x: 01-07:pre_AxillaryTemperatureMin_C y: 20-04:BayleyIIIMotorComposite valid_x: 378 valid_y: 415\n",
      "_corr_coeff: done: x: 01-07:pre_AxillaryTemperatureMin_C y: 20-04:BayleyIIIMotorComposite\n",
      "_corr_coeff: to eval: x: 01-07:pre_EsophagealTemperatureMin_C y: 20-10:moderateSevereDisabilityOrDeath valid_x: 138 valid_y: 504\n",
      "_corr_coeff: done: x: 01-07:pre_EsophagealTemperatureMin_C y: 20-10:moderateSevereDisabilityOrDeath\n",
      "_corr_coeff: to eval: x: 01-07:pre_EsophagealTemperatureMin_C y: 20-10:disabilityLevelDeath4Category valid_x: 138 valid_y: 498\n",
      "_corr_coeff: done: x: 01-07:pre_EsophagealTemperatureMin_C y: 20-10:disabilityLevelDeath4Category\n"
     ]
    },
    {
     "name": "stderr",
     "output_type": "stream",
     "text": [
      "\r",
      " 33%|███▎      | 111/341 [00:24<00:44,  5.13it/s]"
     ]
    },
    {
     "name": "stdout",
     "output_type": "stream",
     "text": [
      "_corr_coeff: to eval: x: 01-07:pre_EsophagealTemperatureMin_C y: 20-10_1:disabilityLevelDeath valid_x: 138 valid_y: 498\n",
      "_corr_coeff: done: x: 01-07:pre_EsophagealTemperatureMin_C y: 20-10_1:disabilityLevelDeath\n",
      "_corr_coeff: to eval: x: 01-07:pre_EsophagealTemperatureMin_C y: 20-04:BayleyIIICognitiveComposite valid_x: 138 valid_y: 421\n",
      "_corr_coeff: done: x: 01-07:pre_EsophagealTemperatureMin_C y: 20-04:BayleyIIICognitiveComposite\n",
      "_corr_coeff: to eval: x: 01-07:pre_EsophagealTemperatureMin_C y: 20-04:BayleyIIILanguageComposite valid_x: 138 valid_y: 411\n",
      "_corr_coeff: done: x: 01-07:pre_EsophagealTemperatureMin_C y: 20-04:BayleyIIILanguageComposite\n",
      "_corr_coeff: to eval: x: 01-07:pre_EsophagealTemperatureMin_C y: 20-04:BayleyIIIMotorComposite valid_x: 138 valid_y: 415\n",
      "_corr_coeff: done: x: 01-07:pre_EsophagealTemperatureMin_C y: 20-04:BayleyIIIMotorComposite\n",
      "_corr_coeff: to eval: x: 01-07:pre_ServoSetMin_C y: 20-10:moderateSevereDisabilityOrDeath valid_x: 233 valid_y: 504\n",
      "_corr_coeff: done: x: 01-07:pre_ServoSetMin_C y: 20-10:moderateSevereDisabilityOrDeath\n",
      "_corr_coeff: to eval: x: 01-07:pre_ServoSetMin_C y: 20-10:disabilityLevelDeath4Category valid_x: 233 valid_y: 498\n",
      "_corr_coeff: done: x: 01-07:pre_ServoSetMin_C y: 20-10:disabilityLevelDeath4Category\n",
      "_corr_coeff: to eval: x: 01-07:pre_ServoSetMin_C y: 20-10_1:disabilityLevelDeath valid_x: 233 valid_y: 498\n",
      "_corr_coeff: done: x: 01-07:pre_ServoSetMin_C y: 20-10_1:disabilityLevelDeath\n",
      "_corr_coeff: to eval: x: 01-07:pre_ServoSetMin_C y: 20-04:BayleyIIICognitiveComposite valid_x: 233 valid_y: 421\n",
      "_corr_coeff: done: x: 01-07:pre_ServoSetMin_C y: 20-04:BayleyIIICognitiveComposite\n"
     ]
    },
    {
     "name": "stderr",
     "output_type": "stream",
     "text": [
      "\r",
      " 33%|███▎      | 112/341 [00:24<00:43,  5.32it/s]"
     ]
    },
    {
     "name": "stdout",
     "output_type": "stream",
     "text": [
      "_corr_coeff: to eval: x: 01-07:pre_ServoSetMin_C y: 20-04:BayleyIIILanguageComposite valid_x: 233 valid_y: 411\n",
      "_corr_coeff: done: x: 01-07:pre_ServoSetMin_C y: 20-04:BayleyIIILanguageComposite\n",
      "_corr_coeff: to eval: x: 01-07:pre_ServoSetMin_C y: 20-04:BayleyIIIMotorComposite valid_x: 233 valid_y: 415\n",
      "_corr_coeff: done: x: 01-07:pre_ServoSetMin_C y: 20-04:BayleyIIIMotorComposite\n",
      "_corr_coeff: to eval: x: 01-07:pre_SkinTemperatureMax_C y: 20-10:moderateSevereDisabilityOrDeath valid_x: 203 valid_y: 504\n",
      "_corr_coeff: done: x: 01-07:pre_SkinTemperatureMax_C y: 20-10:moderateSevereDisabilityOrDeath\n",
      "_corr_coeff: to eval: x: 01-07:pre_SkinTemperatureMax_C y: 20-10:disabilityLevelDeath4Category valid_x: 203 valid_y: 498\n",
      "_corr_coeff: done: x: 01-07:pre_SkinTemperatureMax_C y: 20-10:disabilityLevelDeath4Category\n",
      "_corr_coeff: to eval: x: 01-07:pre_SkinTemperatureMax_C y: 20-10_1:disabilityLevelDeath valid_x: 203 valid_y: 498\n",
      "_corr_coeff: done: x: 01-07:pre_SkinTemperatureMax_C y: 20-10_1:disabilityLevelDeath\n",
      "_corr_coeff: to eval: x: 01-07:pre_SkinTemperatureMax_C y: 20-04:BayleyIIICognitiveComposite valid_x: 203 valid_y: 421\n",
      "_corr_coeff: done: x: 01-07:pre_SkinTemperatureMax_C y: 20-04:BayleyIIICognitiveComposite\n"
     ]
    },
    {
     "name": "stderr",
     "output_type": "stream",
     "text": [
      "\r",
      " 33%|███▎      | 113/341 [00:24<00:45,  5.04it/s]"
     ]
    },
    {
     "name": "stdout",
     "output_type": "stream",
     "text": [
      "_corr_coeff: to eval: x: 01-07:pre_SkinTemperatureMax_C y: 20-04:BayleyIIILanguageComposite valid_x: 203 valid_y: 411\n",
      "_corr_coeff: done: x: 01-07:pre_SkinTemperatureMax_C y: 20-04:BayleyIIILanguageComposite\n",
      "_corr_coeff: to eval: x: 01-07:pre_SkinTemperatureMax_C y: 20-04:BayleyIIIMotorComposite valid_x: 203 valid_y: 415\n",
      "_corr_coeff: done: x: 01-07:pre_SkinTemperatureMax_C y: 20-04:BayleyIIIMotorComposite\n",
      "_corr_coeff: to eval: x: 01-07:pre_AxillaryTemperatureMax_C y: 20-10:moderateSevereDisabilityOrDeath valid_x: 418 valid_y: 504\n",
      "_corr_coeff: done: x: 01-07:pre_AxillaryTemperatureMax_C y: 20-10:moderateSevereDisabilityOrDeath\n",
      "_corr_coeff: to eval: x: 01-07:pre_AxillaryTemperatureMax_C y: 20-10:disabilityLevelDeath4Category valid_x: 418 valid_y: 498\n",
      "_corr_coeff: done: x: 01-07:pre_AxillaryTemperatureMax_C y: 20-10:disabilityLevelDeath4Category\n",
      "_corr_coeff: to eval: x: 01-07:pre_AxillaryTemperatureMax_C y: 20-10_1:disabilityLevelDeath valid_x: 418 valid_y: 498\n",
      "_corr_coeff: done: x: 01-07:pre_AxillaryTemperatureMax_C y: 20-10_1:disabilityLevelDeath\n",
      "_corr_coeff: to eval: x: 01-07:pre_AxillaryTemperatureMax_C y: 20-04:BayleyIIICognitiveComposite valid_x: 418 valid_y: 421\n",
      "_corr_coeff: done: x: 01-07:pre_AxillaryTemperatureMax_C y: 20-04:BayleyIIICognitiveComposite\n",
      "_corr_coeff: to eval: x: 01-07:pre_AxillaryTemperatureMax_C y: 20-04:BayleyIIILanguageComposite valid_x: 418 valid_y: 411\n",
      "_corr_coeff: done: x: 01-07:pre_AxillaryTemperatureMax_C y: 20-04:BayleyIIILanguageComposite\n"
     ]
    },
    {
     "name": "stderr",
     "output_type": "stream",
     "text": [
      "\r",
      " 33%|███▎      | 114/341 [00:24<00:44,  5.09it/s]"
     ]
    },
    {
     "name": "stdout",
     "output_type": "stream",
     "text": [
      "_corr_coeff: to eval: x: 01-07:pre_AxillaryTemperatureMax_C y: 20-04:BayleyIIIMotorComposite valid_x: 418 valid_y: 415\n",
      "_corr_coeff: done: x: 01-07:pre_AxillaryTemperatureMax_C y: 20-04:BayleyIIIMotorComposite\n",
      "_corr_coeff: to eval: x: 01-07:pre_EsophagealTemperatureMax_C y: 20-10:moderateSevereDisabilityOrDeath valid_x: 68 valid_y: 504\n",
      "_corr_coeff: done: x: 01-07:pre_EsophagealTemperatureMax_C y: 20-10:moderateSevereDisabilityOrDeath\n",
      "_corr_coeff: to eval: x: 01-07:pre_EsophagealTemperatureMax_C y: 20-10:disabilityLevelDeath4Category valid_x: 68 valid_y: 498\n",
      "_corr_coeff: done: x: 01-07:pre_EsophagealTemperatureMax_C y: 20-10:disabilityLevelDeath4Category\n",
      "_corr_coeff: to eval: x: 01-07:pre_EsophagealTemperatureMax_C y: 20-10_1:disabilityLevelDeath valid_x: 68 valid_y: 498\n",
      "_corr_coeff: done: x: 01-07:pre_EsophagealTemperatureMax_C y: 20-10_1:disabilityLevelDeath\n",
      "_corr_coeff: to eval: x: 01-07:pre_EsophagealTemperatureMax_C y: 20-04:BayleyIIICognitiveComposite valid_x: 68 valid_y: 421\n",
      "_corr_coeff: done: x: 01-07:pre_EsophagealTemperatureMax_C y: 20-04:BayleyIIICognitiveComposite\n",
      "_corr_coeff: to eval: x: 01-07:pre_EsophagealTemperatureMax_C y: 20-04:BayleyIIILanguageComposite valid_x: 68 valid_y: 411\n",
      "_corr_coeff: done: x: 01-07:pre_EsophagealTemperatureMax_C y: 20-04:BayleyIIILanguageComposite\n"
     ]
    },
    {
     "name": "stderr",
     "output_type": "stream",
     "text": [
      "\r",
      " 34%|███▎      | 115/341 [00:24<00:44,  5.03it/s]"
     ]
    },
    {
     "name": "stdout",
     "output_type": "stream",
     "text": [
      "_corr_coeff: to eval: x: 01-07:pre_EsophagealTemperatureMax_C y: 20-04:BayleyIIIMotorComposite valid_x: 68 valid_y: 415\n",
      "_corr_coeff: done: x: 01-07:pre_EsophagealTemperatureMax_C y: 20-04:BayleyIIIMotorComposite\n",
      "_corr_coeff: to eval: x: 01-07:pre_ServoSetMax_C y: 20-10:moderateSevereDisabilityOrDeath valid_x: 187 valid_y: 504\n",
      "_corr_coeff: done: x: 01-07:pre_ServoSetMax_C y: 20-10:moderateSevereDisabilityOrDeath\n",
      "_corr_coeff: to eval: x: 01-07:pre_ServoSetMax_C y: 20-10:disabilityLevelDeath4Category valid_x: 187 valid_y: 498\n",
      "_corr_coeff: done: x: 01-07:pre_ServoSetMax_C y: 20-10:disabilityLevelDeath4Category\n",
      "_corr_coeff: to eval: x: 01-07:pre_ServoSetMax_C y: 20-10_1:disabilityLevelDeath valid_x: 187 valid_y: 498\n",
      "_corr_coeff: done: x: 01-07:pre_ServoSetMax_C y: 20-10_1:disabilityLevelDeath\n",
      "_corr_coeff: to eval: x: 01-07:pre_ServoSetMax_C y: 20-04:BayleyIIICognitiveComposite valid_x: 187 valid_y: 421\n",
      "_corr_coeff: done: x: 01-07:pre_ServoSetMax_C y: 20-04:BayleyIIICognitiveComposite\n",
      "_corr_coeff: to eval: x: 01-07:pre_ServoSetMax_C y: 20-04:BayleyIIILanguageComposite valid_x: 187 valid_y: 411\n",
      "_corr_coeff: done: x: 01-07:pre_ServoSetMax_C y: 20-04:BayleyIIILanguageComposite\n"
     ]
    },
    {
     "name": "stderr",
     "output_type": "stream",
     "text": [
      "\r",
      " 34%|███▍      | 116/341 [00:25<00:46,  4.88it/s]"
     ]
    },
    {
     "name": "stderr",
     "output_type": "stream",
     "text": [
      "\r",
      " 34%|███▍      | 117/341 [00:25<00:45,  4.92it/s]"
     ]
    },
    {
     "name": "stdout",
     "output_type": "stream",
     "text": [
      "_corr_coeff: to eval: x: 01-07:pre_ServoSetMax_C y: 20-04:BayleyIIIMotorComposite valid_x: 187 valid_y: 415\n",
      "_corr_coeff: done: x: 01-07:pre_ServoSetMax_C y: 20-04:BayleyIIIMotorComposite\n",
      "_corr_coeff: to eval: x: 01-08:pre_CardioSystolicBloodPressure_mmHg y: 20-10:moderateSevereDisabilityOrDeath valid_x: 508 valid_y: 504\n",
      "_corr_coeff: done: x: 01-08:pre_CardioSystolicBloodPressure_mmHg y: 20-10:moderateSevereDisabilityOrDeath\n",
      "_corr_coeff: to eval: x: 01-08:pre_CardioSystolicBloodPressure_mmHg y: 20-10:disabilityLevelDeath4Category valid_x: 508 valid_y: 498\n",
      "_corr_coeff: done: x: 01-08:pre_CardioSystolicBloodPressure_mmHg y: 20-10:disabilityLevelDeath4Category\n",
      "_corr_coeff: to eval: x: 01-08:pre_CardioSystolicBloodPressure_mmHg y: 20-10_1:disabilityLevelDeath valid_x: 508 valid_y: 498\n",
      "_corr_coeff: done: x: 01-08:pre_CardioSystolicBloodPressure_mmHg y: 20-10_1:disabilityLevelDeath\n",
      "_corr_coeff: to eval: x: 01-08:pre_CardioSystolicBloodPressure_mmHg y: 20-04:BayleyIIICognitiveComposite valid_x: 508 valid_y: 421\n",
      "_corr_coeff: done: x: 01-08:pre_CardioSystolicBloodPressure_mmHg y: 20-04:BayleyIIICognitiveComposite\n",
      "_corr_coeff: to eval: x: 01-08:pre_CardioSystolicBloodPressure_mmHg y: 20-04:BayleyIIILanguageComposite valid_x: 508 valid_y: 411\n",
      "_corr_coeff: done: x: 01-08:pre_CardioSystolicBloodPressure_mmHg y: 20-04:BayleyIIILanguageComposite\n",
      "_corr_coeff: to eval: x: 01-08:pre_CardioSystolicBloodPressure_mmHg y: 20-04:BayleyIIIMotorComposite valid_x: 508 valid_y: 415\n",
      "_corr_coeff: done: x: 01-08:pre_CardioSystolicBloodPressure_mmHg y: 20-04:BayleyIIIMotorComposite\n"
     ]
    },
    {
     "name": "stdout",
     "output_type": "stream",
     "text": [
      "_corr_coeff: to eval: x: 01-08:pre_CardioDiastolicBloodPressure_mmHg y: 20-10:moderateSevereDisabilityOrDeath valid_x: 508 valid_y: 504\n",
      "_corr_coeff: done: x: 01-08:pre_CardioDiastolicBloodPressure_mmHg y: 20-10:moderateSevereDisabilityOrDeath\n",
      "_corr_coeff: to eval: x: 01-08:pre_CardioDiastolicBloodPressure_mmHg y: 20-10:disabilityLevelDeath4Category valid_x: 508 valid_y: 498\n",
      "_corr_coeff: done: x: 01-08:pre_CardioDiastolicBloodPressure_mmHg y: 20-10:disabilityLevelDeath4Category\n",
      "_corr_coeff: to eval: x: 01-08:pre_CardioDiastolicBloodPressure_mmHg y: 20-10_1:disabilityLevelDeath valid_x: 508 valid_y: 498\n",
      "_corr_coeff: done: x: 01-08:pre_CardioDiastolicBloodPressure_mmHg y: 20-10_1:disabilityLevelDeath\n",
      "_corr_coeff: to eval: x: 01-08:pre_CardioDiastolicBloodPressure_mmHg y: 20-04:BayleyIIICognitiveComposite valid_x: 508 valid_y: 421\n",
      "_corr_coeff: done: x: 01-08:pre_CardioDiastolicBloodPressure_mmHg y: 20-04:BayleyIIICognitiveComposite\n",
      "_corr_coeff: to eval: x: 01-08:pre_CardioDiastolicBloodPressure_mmHg y: 20-04:BayleyIIILanguageComposite valid_x: 508 valid_y: 411\n",
      "_corr_coeff: done: x: 01-08:pre_CardioDiastolicBloodPressure_mmHg y: 20-04:BayleyIIILanguageComposite\n"
     ]
    },
    {
     "name": "stderr",
     "output_type": "stream",
     "text": [
      "\r",
      " 35%|███▍      | 118/341 [00:25<00:48,  4.59it/s]"
     ]
    },
    {
     "name": "stdout",
     "output_type": "stream",
     "text": [
      "_corr_coeff: to eval: x: 01-08:pre_CardioDiastolicBloodPressure_mmHg y: 20-04:BayleyIIIMotorComposite valid_x: 508 valid_y: 415\n",
      "_corr_coeff: done: x: 01-08:pre_CardioDiastolicBloodPressure_mmHg y: 20-04:BayleyIIIMotorComposite\n",
      "_corr_coeff: to eval: x: 01-08:pre_CardioHeartRate_BPM y: 20-10:moderateSevereDisabilityOrDeath valid_x: 513 valid_y: 504\n",
      "_corr_coeff: done: x: 01-08:pre_CardioHeartRate_BPM y: 20-10:moderateSevereDisabilityOrDeath\n",
      "_corr_coeff: to eval: x: 01-08:pre_CardioHeartRate_BPM y: 20-10:disabilityLevelDeath4Category valid_x: 513 valid_y: 498\n",
      "_corr_coeff: done: x: 01-08:pre_CardioHeartRate_BPM y: 20-10:disabilityLevelDeath4Category\n",
      "_corr_coeff: to eval: x: 01-08:pre_CardioHeartRate_BPM y: 20-10_1:disabilityLevelDeath valid_x: 513 valid_y: 498\n",
      "_corr_coeff: done: x: 01-08:pre_CardioHeartRate_BPM y: 20-10_1:disabilityLevelDeath\n",
      "_corr_coeff: to eval: x: 01-08:pre_CardioHeartRate_BPM y: 20-04:BayleyIIICognitiveComposite valid_x: 513 valid_y: 421\n",
      "_corr_coeff: done: x: 01-08:pre_CardioHeartRate_BPM y: 20-04:BayleyIIICognitiveComposite\n",
      "_corr_coeff: to eval: x: 01-08:pre_CardioHeartRate_BPM y: 20-04:BayleyIIILanguageComposite valid_x: 513 valid_y: 411\n",
      "_corr_coeff: done: x: 01-08:pre_CardioHeartRate_BPM y: 20-04:BayleyIIILanguageComposite\n",
      "_corr_coeff: to eval: x: 01-08:pre_CardioHeartRate_BPM y: 20-04:BayleyIIIMotorComposite valid_x: 513 valid_y: 415\n",
      "_corr_coeff: done: x: 01-08:pre_CardioHeartRate_BPM y: 20-04:BayleyIIIMotorComposite\n"
     ]
    },
    {
     "name": "stderr",
     "output_type": "stream",
     "text": [
      "\r",
      " 35%|███▍      | 119/341 [00:25<00:47,  4.67it/s]"
     ]
    },
    {
     "name": "stdout",
     "output_type": "stream",
     "text": [
      "_corr_coeff: to eval: x: 01-08:pre_CardioVolumeExpand y: 20-10:moderateSevereDisabilityOrDeath valid_x: 517 valid_y: 504\n",
      "_corr_coeff: done: x: 01-08:pre_CardioVolumeExpand y: 20-10:moderateSevereDisabilityOrDeath\n",
      "_corr_coeff: to eval: x: 01-08:pre_CardioVolumeExpand y: 20-10:disabilityLevelDeath4Category valid_x: 517 valid_y: 498\n",
      "_corr_coeff: done: x: 01-08:pre_CardioVolumeExpand y: 20-10:disabilityLevelDeath4Category\n",
      "_corr_coeff: to eval: x: 01-08:pre_CardioVolumeExpand y: 20-10_1:disabilityLevelDeath valid_x: 517 valid_y: 498\n",
      "_corr_coeff: done: x: 01-08:pre_CardioVolumeExpand y: 20-10_1:disabilityLevelDeath\n",
      "_corr_coeff: to eval: x: 01-08:pre_CardioVolumeExpand y: 20-04:BayleyIIICognitiveComposite valid_x: 517 valid_y: 421\n",
      "_corr_coeff: done: x: 01-08:pre_CardioVolumeExpand y: 20-04:BayleyIIICognitiveComposite\n",
      "_corr_coeff: to eval: x: 01-08:pre_CardioVolumeExpand y: 20-04:BayleyIIILanguageComposite valid_x: 517 valid_y: 411\n",
      "_corr_coeff: done: x: 01-08:pre_CardioVolumeExpand y: 20-04:BayleyIIILanguageComposite\n"
     ]
    },
    {
     "name": "stderr",
     "output_type": "stream",
     "text": [
      "\r",
      " 35%|███▌      | 120/341 [00:25<00:50,  4.39it/s]"
     ]
    },
    {
     "name": "stdout",
     "output_type": "stream",
     "text": [
      "_corr_coeff: to eval: x: 01-08:pre_CardioVolumeExpand y: 20-04:BayleyIIIMotorComposite valid_x: 517 valid_y: 415\n",
      "_corr_coeff: done: x: 01-08:pre_CardioVolumeExpand y: 20-04:BayleyIIIMotorComposite\n",
      "_corr_coeff: to eval: x: 01-08:pre_CardioInotropicAgent y: 20-10:moderateSevereDisabilityOrDeath valid_x: 517 valid_y: 504\n",
      "_corr_coeff: done: x: 01-08:pre_CardioInotropicAgent y: 20-10:moderateSevereDisabilityOrDeath\n",
      "_corr_coeff: to eval: x: 01-08:pre_CardioInotropicAgent y: 20-10:disabilityLevelDeath4Category valid_x: 517 valid_y: 498\n",
      "_corr_coeff: done: x: 01-08:pre_CardioInotropicAgent y: 20-10:disabilityLevelDeath4Category\n",
      "_corr_coeff: to eval: x: 01-08:pre_CardioInotropicAgent y: 20-10_1:disabilityLevelDeath valid_x: 517 valid_y: 498\n",
      "_corr_coeff: done: x: 01-08:pre_CardioInotropicAgent y: 20-10_1:disabilityLevelDeath\n",
      "_corr_coeff: to eval: x: 01-08:pre_CardioInotropicAgent y: 20-04:BayleyIIICognitiveComposite valid_x: 517 valid_y: 421\n",
      "_corr_coeff: done: x: 01-08:pre_CardioInotropicAgent y: 20-04:BayleyIIICognitiveComposite\n",
      "_corr_coeff: to eval: x: 01-08:pre_CardioInotropicAgent y: 20-04:BayleyIIILanguageComposite valid_x: 517 valid_y: 411\n",
      "_corr_coeff: done: x: 01-08:pre_CardioInotropicAgent y: 20-04:BayleyIIILanguageComposite\n",
      "_corr_coeff: to eval: x: 01-08:pre_CardioInotropicAgent y: 20-04:BayleyIIIMotorComposite valid_x: 517 valid_y: 415\n",
      "_corr_coeff: done: x: 01-08:pre_CardioInotropicAgent y: 20-04:BayleyIIIMotorComposite\n"
     ]
    },
    {
     "name": "stderr",
     "output_type": "stream",
     "text": [
      "\r",
      " 35%|███▌      | 121/341 [00:26<00:48,  4.54it/s]"
     ]
    },
    {
     "name": "stdout",
     "output_type": "stream",
     "text": [
      "_corr_coeff: to eval: x: 01-08:pre_CardioBloodTransfusion y: 20-10:moderateSevereDisabilityOrDeath valid_x: 517 valid_y: 504\n",
      "_corr_coeff: done: x: 01-08:pre_CardioBloodTransfusion y: 20-10:moderateSevereDisabilityOrDeath\n",
      "_corr_coeff: to eval: x: 01-08:pre_CardioBloodTransfusion y: 20-10:disabilityLevelDeath4Category valid_x: 517 valid_y: 498\n",
      "_corr_coeff: done: x: 01-08:pre_CardioBloodTransfusion y: 20-10:disabilityLevelDeath4Category\n",
      "_corr_coeff: to eval: x: 01-08:pre_CardioBloodTransfusion y: 20-10_1:disabilityLevelDeath valid_x: 517 valid_y: 498\n",
      "_corr_coeff: done: x: 01-08:pre_CardioBloodTransfusion y: 20-10_1:disabilityLevelDeath\n",
      "_corr_coeff: to eval: x: 01-08:pre_CardioBloodTransfusion y: 20-04:BayleyIIICognitiveComposite valid_x: 517 valid_y: 421\n",
      "_corr_coeff: done: x: 01-08:pre_CardioBloodTransfusion y: 20-04:BayleyIIICognitiveComposite\n",
      "_corr_coeff: to eval: x: 01-08:pre_CardioBloodTransfusion y: 20-04:BayleyIIILanguageComposite valid_x: 517 valid_y: 411\n",
      "_corr_coeff: done: x: 01-08:pre_CardioBloodTransfusion y: 20-04:BayleyIIILanguageComposite\n"
     ]
    },
    {
     "name": "stderr",
     "output_type": "stream",
     "text": [
      "\r",
      " 36%|███▌      | 122/341 [00:26<00:50,  4.30it/s]"
     ]
    },
    {
     "name": "stdout",
     "output_type": "stream",
     "text": [
      "_corr_coeff: to eval: x: 01-08:pre_CardioBloodTransfusion y: 20-04:BayleyIIIMotorComposite valid_x: 517 valid_y: 415\n",
      "_corr_coeff: done: x: 01-08:pre_CardioBloodTransfusion y: 20-04:BayleyIIIMotorComposite\n",
      "_corr_coeff: to eval: x: 01-08:pre_CardioPlatelets y: 20-10:moderateSevereDisabilityOrDeath valid_x: 518 valid_y: 504\n",
      "_corr_coeff: done: x: 01-08:pre_CardioPlatelets y: 20-10:moderateSevereDisabilityOrDeath\n",
      "_corr_coeff: to eval: x: 01-08:pre_CardioPlatelets y: 20-10:disabilityLevelDeath4Category valid_x: 518 valid_y: 498\n",
      "_corr_coeff: done: x: 01-08:pre_CardioPlatelets y: 20-10:disabilityLevelDeath4Category\n",
      "_corr_coeff: to eval: x: 01-08:pre_CardioPlatelets y: 20-10_1:disabilityLevelDeath valid_x: 518 valid_y: 498\n",
      "_corr_coeff: done: x: 01-08:pre_CardioPlatelets y: 20-10_1:disabilityLevelDeath\n",
      "_corr_coeff: to eval: x: 01-08:pre_CardioPlatelets y: 20-04:BayleyIIICognitiveComposite valid_x: 518 valid_y: 421\n",
      "_corr_coeff: done: x: 01-08:pre_CardioPlatelets y: 20-04:BayleyIIICognitiveComposite\n",
      "_corr_coeff: to eval: x: 01-08:pre_CardioPlatelets y: 20-04:BayleyIIILanguageComposite valid_x: 518 valid_y: 411\n",
      "_corr_coeff: done: x: 01-08:pre_CardioPlatelets y: 20-04:BayleyIIILanguageComposite\n",
      "_corr_coeff: to eval: x: 01-08:pre_CardioPlatelets y: 20-04:BayleyIIIMotorComposite valid_x: 518 valid_y: 415\n",
      "_corr_coeff: done: x: 01-08:pre_CardioPlatelets y: 20-04:BayleyIIIMotorComposite\n"
     ]
    },
    {
     "name": "stderr",
     "output_type": "stream",
     "text": [
      "\r",
      " 36%|███▌      | 123/341 [00:26<00:48,  4.48it/s]"
     ]
    },
    {
     "name": "stderr",
     "output_type": "stream",
     "text": [
      "\r",
      " 36%|███▋      | 124/341 [00:26<00:48,  4.49it/s]"
     ]
    },
    {
     "name": "stdout",
     "output_type": "stream",
     "text": [
      "_corr_coeff: to eval: x: 01-09:pre_PositiveCulture y: 20-10:moderateSevereDisabilityOrDeath valid_x: 168 valid_y: 504\n",
      "_corr_coeff: done: x: 01-09:pre_PositiveCulture y: 20-10:moderateSevereDisabilityOrDeath\n",
      "_corr_coeff: to eval: x: 01-09:pre_PositiveCulture y: 20-10:disabilityLevelDeath4Category valid_x: 168 valid_y: 498\n",
      "_corr_coeff: done: x: 01-09:pre_PositiveCulture y: 20-10:disabilityLevelDeath4Category\n",
      "_corr_coeff: to eval: x: 01-09:pre_PositiveCulture y: 20-10_1:disabilityLevelDeath valid_x: 168 valid_y: 498\n",
      "_corr_coeff: done: x: 01-09:pre_PositiveCulture y: 20-10_1:disabilityLevelDeath\n",
      "_corr_coeff: to eval: x: 01-09:pre_PositiveCulture y: 20-04:BayleyIIICognitiveComposite valid_x: 168 valid_y: 421\n",
      "_corr_coeff: done: x: 01-09:pre_PositiveCulture y: 20-04:BayleyIIICognitiveComposite\n",
      "_corr_coeff: to eval: x: 01-09:pre_PositiveCulture y: 20-04:BayleyIIILanguageComposite valid_x: 168 valid_y: 411\n",
      "_corr_coeff: done: x: 01-09:pre_PositiveCulture y: 20-04:BayleyIIILanguageComposite\n",
      "_corr_coeff: to eval: x: 01-09:pre_PositiveCulture y: 20-04:BayleyIIIMotorComposite valid_x: 168 valid_y: 415\n",
      "_corr_coeff: done: x: 01-09:pre_PositiveCulture y: 20-04:BayleyIIIMotorComposite\n"
     ]
    },
    {
     "name": "stderr",
     "output_type": "stream",
     "text": [
      "\r",
      " 37%|███▋      | 125/341 [00:27<00:47,  4.58it/s]"
     ]
    },
    {
     "name": "stdout",
     "output_type": "stream",
     "text": [
      "_corr_coeff: to eval: x: 01-09:pre_Antibiotics y: 20-10:moderateSevereDisabilityOrDeath valid_x: 530 valid_y: 504\n",
      "_corr_coeff: done: x: 01-09:pre_Antibiotics y: 20-10:moderateSevereDisabilityOrDeath\n",
      "_corr_coeff: to eval: x: 01-09:pre_Antibiotics y: 20-10:disabilityLevelDeath4Category valid_x: 530 valid_y: 498\n",
      "_corr_coeff: done: x: 01-09:pre_Antibiotics y: 20-10:disabilityLevelDeath4Category\n",
      "_corr_coeff: to eval: x: 01-09:pre_Antibiotics y: 20-10_1:disabilityLevelDeath valid_x: 530 valid_y: 498\n",
      "_corr_coeff: done: x: 01-09:pre_Antibiotics y: 20-10_1:disabilityLevelDeath\n",
      "_corr_coeff: to eval: x: 01-09:pre_Antibiotics y: 20-04:BayleyIIICognitiveComposite valid_x: 530 valid_y: 421\n",
      "_corr_coeff: done: x: 01-09:pre_Antibiotics y: 20-04:BayleyIIICognitiveComposite\n",
      "_corr_coeff: to eval: x: 01-09:pre_Antibiotics y: 20-04:BayleyIIILanguageComposite valid_x: 530 valid_y: 411\n",
      "_corr_coeff: done: x: 01-09:pre_Antibiotics y: 20-04:BayleyIIILanguageComposite\n",
      "_corr_coeff: to eval: x: 01-09:pre_Antibiotics y: 20-04:BayleyIIIMotorComposite valid_x: 530 valid_y: 415\n",
      "_corr_coeff: done: x: 01-09:pre_Antibiotics y: 20-04:BayleyIIIMotorComposite\n"
     ]
    },
    {
     "name": "stderr",
     "output_type": "stream",
     "text": [
      "\r",
      " 37%|███▋      | 126/341 [00:27<00:49,  4.33it/s]"
     ]
    },
    {
     "name": "stdout",
     "output_type": "stream",
     "text": [
      "_corr_coeff: to eval: x: 01-12:pre_NeuroExam y: 20-10:moderateSevereDisabilityOrDeath valid_x: 532 valid_y: 504\n",
      "_corr_coeff: done: x: 01-12:pre_NeuroExam y: 20-10:moderateSevereDisabilityOrDeath\n",
      "_corr_coeff: to eval: x: 01-12:pre_NeuroExam y: 20-10:disabilityLevelDeath4Category valid_x: 532 valid_y: 498\n",
      "_corr_coeff: done: x: 01-12:pre_NeuroExam y: 20-10:disabilityLevelDeath4Category\n",
      "_corr_coeff: to eval: x: 01-12:pre_NeuroExam y: 20-10_1:disabilityLevelDeath valid_x: 532 valid_y: 498\n",
      "_corr_coeff: done: x: 01-12:pre_NeuroExam y: 20-10_1:disabilityLevelDeath\n",
      "_corr_coeff: to eval: x: 01-12:pre_NeuroExam y: 20-04:BayleyIIICognitiveComposite valid_x: 532 valid_y: 421\n",
      "_corr_coeff: done: x: 01-12:pre_NeuroExam y: 20-04:BayleyIIICognitiveComposite\n",
      "_corr_coeff: to eval: x: 01-12:pre_NeuroExam y: 20-04:BayleyIIILanguageComposite valid_x: 532 valid_y: 411\n",
      "_corr_coeff: done: x: 01-12:pre_NeuroExam y: 20-04:BayleyIIILanguageComposite\n",
      "_corr_coeff: to eval: x: 01-12:pre_NeuroExam y: 20-04:BayleyIIIMotorComposite valid_x: 532 valid_y: 415\n",
      "_corr_coeff: done: x: 01-12:pre_NeuroExam y: 20-04:BayleyIIIMotorComposite\n"
     ]
    },
    {
     "name": "stdout",
     "output_type": "stream",
     "text": [
      "_corr_coeff: to eval: x: 01-12:pre_NeuroExamSignModerateSevereHIE3Category y: 20-10:moderateSevereDisabilityOrDeath valid_x: 530 valid_y: 504\n",
      "_corr_coeff: done: x: 01-12:pre_NeuroExamSignModerateSevereHIE3Category y: 20-10:moderateSevereDisabilityOrDeath\n",
      "_corr_coeff: to eval: x: 01-12:pre_NeuroExamSignModerateSevereHIE3Category y: 20-10:disabilityLevelDeath4Category valid_x: 530 valid_y: 498\n",
      "_corr_coeff: done: x: 01-12:pre_NeuroExamSignModerateSevereHIE3Category y: 20-10:disabilityLevelDeath4Category\n",
      "_corr_coeff: to eval: x: 01-12:pre_NeuroExamSignModerateSevereHIE3Category y: 20-10_1:disabilityLevelDeath valid_x: 530 valid_y: 498\n",
      "_corr_coeff: done: x: 01-12:pre_NeuroExamSignModerateSevereHIE3Category y: 20-10_1:disabilityLevelDeath\n",
      "_corr_coeff: to eval: x: 01-12:pre_NeuroExamSignModerateSevereHIE3Category y: 20-04:BayleyIIICognitiveComposite valid_x: 530 valid_y: 421\n",
      "_corr_coeff: done: x: 01-12:pre_NeuroExamSignModerateSevereHIE3Category y: 20-04:BayleyIIICognitiveComposite\n",
      "_corr_coeff: to eval: x: 01-12:pre_NeuroExamSignModerateSevereHIE3Category y: 20-04:BayleyIIILanguageComposite valid_x: 530 valid_y: 411\n",
      "_corr_coeff: done: x: 01-12:pre_NeuroExamSignModerateSevereHIE3Category y: 20-04:BayleyIIILanguageComposite\n"
     ]
    },
    {
     "name": "stderr",
     "output_type": "stream",
     "text": [
      "\r",
      " 37%|███▋      | 127/341 [00:27<00:51,  4.15it/s]"
     ]
    },
    {
     "name": "stdout",
     "output_type": "stream",
     "text": [
      "_corr_coeff: to eval: x: 01-12:pre_NeuroExamSignModerateSevereHIE3Category y: 20-04:BayleyIIIMotorComposite valid_x: 530 valid_y: 415\n",
      "_corr_coeff: done: x: 01-12:pre_NeuroExamSignModerateSevereHIE3Category y: 20-04:BayleyIIIMotorComposite\n",
      "_corr_coeff: to eval: x: 01-12:pre_NeuroExamLevelConsciousness y: 20-10:moderateSevereDisabilityOrDeath valid_x: 530 valid_y: 504\n",
      "_corr_coeff: done: x: 01-12:pre_NeuroExamLevelConsciousness y: 20-10:moderateSevereDisabilityOrDeath\n",
      "_corr_coeff: to eval: x: 01-12:pre_NeuroExamLevelConsciousness y: 20-10:disabilityLevelDeath4Category valid_x: 530 valid_y: 498\n",
      "_corr_coeff: done: x: 01-12:pre_NeuroExamLevelConsciousness y: 20-10:disabilityLevelDeath4Category\n",
      "_corr_coeff: to eval: x: 01-12:pre_NeuroExamLevelConsciousness y: 20-10_1:disabilityLevelDeath valid_x: 530 valid_y: 498\n",
      "_corr_coeff: done: x: 01-12:pre_NeuroExamLevelConsciousness y: 20-10_1:disabilityLevelDeath\n",
      "_corr_coeff: to eval: x: 01-12:pre_NeuroExamLevelConsciousness y: 20-04:BayleyIIICognitiveComposite valid_x: 530 valid_y: 421\n",
      "_corr_coeff: done: x: 01-12:pre_NeuroExamLevelConsciousness y: 20-04:BayleyIIICognitiveComposite\n",
      "_corr_coeff: to eval: x: 01-12:pre_NeuroExamLevelConsciousness y: 20-04:BayleyIIILanguageComposite valid_x: 530 valid_y: 411\n",
      "_corr_coeff: done: x: 01-12:pre_NeuroExamLevelConsciousness y: 20-04:BayleyIIILanguageComposite\n"
     ]
    },
    {
     "name": "stderr",
     "output_type": "stream",
     "text": [
      "\r",
      " 38%|███▊      | 128/341 [00:27<00:49,  4.32it/s]"
     ]
    },
    {
     "name": "stdout",
     "output_type": "stream",
     "text": [
      "_corr_coeff: to eval: x: 01-12:pre_NeuroExamLevelConsciousness y: 20-04:BayleyIIIMotorComposite valid_x: 530 valid_y: 415\n",
      "_corr_coeff: done: x: 01-12:pre_NeuroExamLevelConsciousness y: 20-04:BayleyIIIMotorComposite\n",
      "_corr_coeff: to eval: x: 01-12:pre_NeuroExamSpontaneousActivity y: 20-10:moderateSevereDisabilityOrDeath valid_x: 530 valid_y: 504\n",
      "_corr_coeff: done: x: 01-12:pre_NeuroExamSpontaneousActivity y: 20-10:moderateSevereDisabilityOrDeath\n",
      "_corr_coeff: to eval: x: 01-12:pre_NeuroExamSpontaneousActivity y: 20-10:disabilityLevelDeath4Category valid_x: 530 valid_y: 498\n",
      "_corr_coeff: done: x: 01-12:pre_NeuroExamSpontaneousActivity y: 20-10:disabilityLevelDeath4Category\n",
      "_corr_coeff: to eval: x: 01-12:pre_NeuroExamSpontaneousActivity y: 20-10_1:disabilityLevelDeath valid_x: 530 valid_y: 498\n",
      "_corr_coeff: done: x: 01-12:pre_NeuroExamSpontaneousActivity y: 20-10_1:disabilityLevelDeath\n",
      "_corr_coeff: to eval: x: 01-12:pre_NeuroExamSpontaneousActivity y: 20-04:BayleyIIICognitiveComposite valid_x: 530 valid_y: 421\n",
      "_corr_coeff: done: x: 01-12:pre_NeuroExamSpontaneousActivity y: 20-04:BayleyIIICognitiveComposite\n",
      "_corr_coeff: to eval: x: 01-12:pre_NeuroExamSpontaneousActivity y: 20-04:BayleyIIILanguageComposite valid_x: 530 valid_y: 411\n",
      "_corr_coeff: done: x: 01-12:pre_NeuroExamSpontaneousActivity y: 20-04:BayleyIIILanguageComposite\n"
     ]
    },
    {
     "name": "stderr",
     "output_type": "stream",
     "text": [
      "\r",
      " 38%|███▊      | 129/341 [00:28<00:50,  4.18it/s]"
     ]
    },
    {
     "name": "stdout",
     "output_type": "stream",
     "text": [
      "_corr_coeff: to eval: x: 01-12:pre_NeuroExamSpontaneousActivity y: 20-04:BayleyIIIMotorComposite valid_x: 530 valid_y: 415\n",
      "_corr_coeff: done: x: 01-12:pre_NeuroExamSpontaneousActivity y: 20-04:BayleyIIIMotorComposite\n",
      "_corr_coeff: to eval: x: 01-12:pre_NeuroExamPosture y: 20-10:moderateSevereDisabilityOrDeath valid_x: 527 valid_y: 504\n",
      "_corr_coeff: done: x: 01-12:pre_NeuroExamPosture y: 20-10:moderateSevereDisabilityOrDeath\n",
      "_corr_coeff: to eval: x: 01-12:pre_NeuroExamPosture y: 20-10:disabilityLevelDeath4Category valid_x: 527 valid_y: 498\n",
      "_corr_coeff: done: x: 01-12:pre_NeuroExamPosture y: 20-10:disabilityLevelDeath4Category\n",
      "_corr_coeff: to eval: x: 01-12:pre_NeuroExamPosture y: 20-10_1:disabilityLevelDeath valid_x: 527 valid_y: 498\n",
      "_corr_coeff: done: x: 01-12:pre_NeuroExamPosture y: 20-10_1:disabilityLevelDeath\n",
      "_corr_coeff: to eval: x: 01-12:pre_NeuroExamPosture y: 20-04:BayleyIIICognitiveComposite valid_x: 527 valid_y: 421\n",
      "_corr_coeff: done: x: 01-12:pre_NeuroExamPosture y: 20-04:BayleyIIICognitiveComposite\n",
      "_corr_coeff: to eval: x: 01-12:pre_NeuroExamPosture y: 20-04:BayleyIIILanguageComposite valid_x: 527 valid_y: 411\n",
      "_corr_coeff: done: x: 01-12:pre_NeuroExamPosture y: 20-04:BayleyIIILanguageComposite\n"
     ]
    },
    {
     "name": "stderr",
     "output_type": "stream",
     "text": [
      "\r",
      " 38%|███▊      | 130/341 [00:28<00:48,  4.35it/s]"
     ]
    },
    {
     "name": "stderr",
     "output_type": "stream",
     "text": [
      "\r",
      " 38%|███▊      | 131/341 [00:28<00:46,  4.53it/s]"
     ]
    },
    {
     "name": "stdout",
     "output_type": "stream",
     "text": [
      "_corr_coeff: to eval: x: 01-12:pre_NeuroExamPosture y: 20-04:BayleyIIIMotorComposite valid_x: 527 valid_y: 415\n",
      "_corr_coeff: done: x: 01-12:pre_NeuroExamPosture y: 20-04:BayleyIIIMotorComposite\n",
      "_corr_coeff: to eval: x: 01-12:pre_NeuroExamTone y: 20-10:moderateSevereDisabilityOrDeath valid_x: 530 valid_y: 504\n",
      "_corr_coeff: done: x: 01-12:pre_NeuroExamTone y: 20-10:moderateSevereDisabilityOrDeath\n",
      "_corr_coeff: to eval: x: 01-12:pre_NeuroExamTone y: 20-10:disabilityLevelDeath4Category valid_x: 530 valid_y: 498\n",
      "_corr_coeff: done: x: 01-12:pre_NeuroExamTone y: 20-10:disabilityLevelDeath4Category\n",
      "_corr_coeff: to eval: x: 01-12:pre_NeuroExamTone y: 20-10_1:disabilityLevelDeath valid_x: 530 valid_y: 498\n",
      "_corr_coeff: done: x: 01-12:pre_NeuroExamTone y: 20-10_1:disabilityLevelDeath\n",
      "_corr_coeff: to eval: x: 01-12:pre_NeuroExamTone y: 20-04:BayleyIIICognitiveComposite valid_x: 530 valid_y: 421\n",
      "_corr_coeff: done: x: 01-12:pre_NeuroExamTone y: 20-04:BayleyIIICognitiveComposite\n",
      "_corr_coeff: to eval: x: 01-12:pre_NeuroExamTone y: 20-04:BayleyIIILanguageComposite valid_x: 530 valid_y: 411\n",
      "_corr_coeff: done: x: 01-12:pre_NeuroExamTone y: 20-04:BayleyIIILanguageComposite\n",
      "_corr_coeff: to eval: x: 01-12:pre_NeuroExamTone y: 20-04:BayleyIIIMotorComposite valid_x: 530 valid_y: 415\n",
      "_corr_coeff: done: x: 01-12:pre_NeuroExamTone y: 20-04:BayleyIIIMotorComposite\n"
     ]
    },
    {
     "name": "stderr",
     "output_type": "stream",
     "text": [
      "\r",
      " 39%|███▊      | 132/341 [00:28<00:44,  4.65it/s]"
     ]
    },
    {
     "name": "stdout",
     "output_type": "stream",
     "text": [
      "_corr_coeff: to eval: x: 01-12:pre_NeuroExamSuck y: 20-10:moderateSevereDisabilityOrDeath valid_x: 525 valid_y: 504\n",
      "_corr_coeff: done: x: 01-12:pre_NeuroExamSuck y: 20-10:moderateSevereDisabilityOrDeath\n",
      "_corr_coeff: to eval: x: 01-12:pre_NeuroExamSuck y: 20-10:disabilityLevelDeath4Category valid_x: 525 valid_y: 498\n",
      "_corr_coeff: done: x: 01-12:pre_NeuroExamSuck y: 20-10:disabilityLevelDeath4Category\n",
      "_corr_coeff: to eval: x: 01-12:pre_NeuroExamSuck y: 20-10_1:disabilityLevelDeath valid_x: 525 valid_y: 498\n",
      "_corr_coeff: done: x: 01-12:pre_NeuroExamSuck y: 20-10_1:disabilityLevelDeath\n",
      "_corr_coeff: to eval: x: 01-12:pre_NeuroExamSuck y: 20-04:BayleyIIICognitiveComposite valid_x: 525 valid_y: 421\n",
      "_corr_coeff: done: x: 01-12:pre_NeuroExamSuck y: 20-04:BayleyIIICognitiveComposite\n",
      "_corr_coeff: to eval: x: 01-12:pre_NeuroExamSuck y: 20-04:BayleyIIILanguageComposite valid_x: 525 valid_y: 411\n",
      "_corr_coeff: done: x: 01-12:pre_NeuroExamSuck y: 20-04:BayleyIIILanguageComposite\n",
      "_corr_coeff: to eval: x: 01-12:pre_NeuroExamSuck y: 20-04:BayleyIIIMotorComposite valid_x: 525 valid_y: 415\n",
      "_corr_coeff: done: x: 01-12:pre_NeuroExamSuck y: 20-04:BayleyIIIMotorComposite\n",
      "_corr_coeff: to eval: x: 01-12:pre_NeuroExamMoro y: 20-10:moderateSevereDisabilityOrDeath valid_x: 512 valid_y: 504\n",
      "_corr_coeff: done: x: 01-12:pre_NeuroExamMoro y: 20-10:moderateSevereDisabilityOrDeath\n"
     ]
    },
    {
     "name": "stderr",
     "output_type": "stream",
     "text": [
      "\r",
      " 39%|███▉      | 133/341 [00:28<00:43,  4.75it/s]"
     ]
    },
    {
     "name": "stdout",
     "output_type": "stream",
     "text": [
      "_corr_coeff: to eval: x: 01-12:pre_NeuroExamMoro y: 20-10:disabilityLevelDeath4Category valid_x: 512 valid_y: 498\n",
      "_corr_coeff: done: x: 01-12:pre_NeuroExamMoro y: 20-10:disabilityLevelDeath4Category\n",
      "_corr_coeff: to eval: x: 01-12:pre_NeuroExamMoro y: 20-10_1:disabilityLevelDeath valid_x: 512 valid_y: 498\n",
      "_corr_coeff: done: x: 01-12:pre_NeuroExamMoro y: 20-10_1:disabilityLevelDeath\n",
      "_corr_coeff: to eval: x: 01-12:pre_NeuroExamMoro y: 20-04:BayleyIIICognitiveComposite valid_x: 512 valid_y: 421\n",
      "_corr_coeff: done: x: 01-12:pre_NeuroExamMoro y: 20-04:BayleyIIICognitiveComposite\n",
      "_corr_coeff: to eval: x: 01-12:pre_NeuroExamMoro y: 20-04:BayleyIIILanguageComposite valid_x: 512 valid_y: 411\n",
      "_corr_coeff: done: x: 01-12:pre_NeuroExamMoro y: 20-04:BayleyIIILanguageComposite\n",
      "_corr_coeff: to eval: x: 01-12:pre_NeuroExamMoro y: 20-04:BayleyIIIMotorComposite valid_x: 512 valid_y: 415\n",
      "_corr_coeff: done: x: 01-12:pre_NeuroExamMoro y: 20-04:BayleyIIIMotorComposite\n",
      "_corr_coeff: to eval: x: 01-12:pre_NeuroExamPupils y: 20-10:moderateSevereDisabilityOrDeath valid_x: 515 valid_y: 504\n",
      "_corr_coeff: done: x: 01-12:pre_NeuroExamPupils y: 20-10:moderateSevereDisabilityOrDeath\n",
      "_corr_coeff: to eval: x: 01-12:pre_NeuroExamPupils y: 20-10:disabilityLevelDeath4Category valid_x: 515 valid_y: 498\n",
      "_corr_coeff: done: x: 01-12:pre_NeuroExamPupils y: 20-10:disabilityLevelDeath4Category\n"
     ]
    },
    {
     "name": "stderr",
     "output_type": "stream",
     "text": [
      "\r",
      " 39%|███▉      | 134/341 [00:29<00:42,  4.84it/s]"
     ]
    },
    {
     "name": "stdout",
     "output_type": "stream",
     "text": [
      "_corr_coeff: to eval: x: 01-12:pre_NeuroExamPupils y: 20-10_1:disabilityLevelDeath valid_x: 515 valid_y: 498\n",
      "_corr_coeff: done: x: 01-12:pre_NeuroExamPupils y: 20-10_1:disabilityLevelDeath\n",
      "_corr_coeff: to eval: x: 01-12:pre_NeuroExamPupils y: 20-04:BayleyIIICognitiveComposite valid_x: 515 valid_y: 421\n",
      "_corr_coeff: done: x: 01-12:pre_NeuroExamPupils y: 20-04:BayleyIIICognitiveComposite\n",
      "_corr_coeff: to eval: x: 01-12:pre_NeuroExamPupils y: 20-04:BayleyIIILanguageComposite valid_x: 515 valid_y: 411\n",
      "_corr_coeff: done: x: 01-12:pre_NeuroExamPupils y: 20-04:BayleyIIILanguageComposite\n",
      "_corr_coeff: to eval: x: 01-12:pre_NeuroExamPupils y: 20-04:BayleyIIIMotorComposite valid_x: 515 valid_y: 415\n",
      "_corr_coeff: done: x: 01-12:pre_NeuroExamPupils y: 20-04:BayleyIIIMotorComposite\n",
      "_corr_coeff: to eval: x: 01-12:pre_NeuroExamHeartRate y: 20-10:moderateSevereDisabilityOrDeath valid_x: 529 valid_y: 504\n",
      "_corr_coeff: done: x: 01-12:pre_NeuroExamHeartRate y: 20-10:moderateSevereDisabilityOrDeath\n",
      "_corr_coeff: to eval: x: 01-12:pre_NeuroExamHeartRate y: 20-10:disabilityLevelDeath4Category valid_x: 529 valid_y: 498\n",
      "_corr_coeff: done: x: 01-12:pre_NeuroExamHeartRate y: 20-10:disabilityLevelDeath4Category\n",
      "_corr_coeff: to eval: x: 01-12:pre_NeuroExamHeartRate y: 20-10_1:disabilityLevelDeath valid_x: 529 valid_y: 498\n",
      "_corr_coeff: done: x: 01-12:pre_NeuroExamHeartRate y: 20-10_1:disabilityLevelDeath\n"
     ]
    },
    {
     "name": "stderr",
     "output_type": "stream",
     "text": [
      "\r",
      " 40%|███▉      | 135/341 [00:29<00:42,  4.85it/s]"
     ]
    },
    {
     "name": "stdout",
     "output_type": "stream",
     "text": [
      "_corr_coeff: to eval: x: 01-12:pre_NeuroExamHeartRate y: 20-04:BayleyIIICognitiveComposite valid_x: 529 valid_y: 421\n",
      "_corr_coeff: done: x: 01-12:pre_NeuroExamHeartRate y: 20-04:BayleyIIICognitiveComposite\n",
      "_corr_coeff: to eval: x: 01-12:pre_NeuroExamHeartRate y: 20-04:BayleyIIILanguageComposite valid_x: 529 valid_y: 411\n",
      "_corr_coeff: done: x: 01-12:pre_NeuroExamHeartRate y: 20-04:BayleyIIILanguageComposite\n",
      "_corr_coeff: to eval: x: 01-12:pre_NeuroExamHeartRate y: 20-04:BayleyIIIMotorComposite valid_x: 529 valid_y: 415\n",
      "_corr_coeff: done: x: 01-12:pre_NeuroExamHeartRate y: 20-04:BayleyIIIMotorComposite\n",
      "_corr_coeff: to eval: x: 01-12:pre_NeuroExamRespiration y: 20-10:moderateSevereDisabilityOrDeath valid_x: 529 valid_y: 504\n",
      "_corr_coeff: done: x: 01-12:pre_NeuroExamRespiration y: 20-10:moderateSevereDisabilityOrDeath\n",
      "_corr_coeff: to eval: x: 01-12:pre_NeuroExamRespiration y: 20-10:disabilityLevelDeath4Category valid_x: 529 valid_y: 498\n",
      "_corr_coeff: done: x: 01-12:pre_NeuroExamRespiration y: 20-10:disabilityLevelDeath4Category\n"
     ]
    },
    {
     "name": "stderr",
     "output_type": "stream",
     "text": [
      "\r",
      " 40%|███▉      | 136/341 [00:29<00:45,  4.53it/s]"
     ]
    },
    {
     "name": "stdout",
     "output_type": "stream",
     "text": [
      "_corr_coeff: to eval: x: 01-12:pre_NeuroExamRespiration y: 20-10_1:disabilityLevelDeath valid_x: 529 valid_y: 498\n",
      "_corr_coeff: done: x: 01-12:pre_NeuroExamRespiration y: 20-10_1:disabilityLevelDeath\n",
      "_corr_coeff: to eval: x: 01-12:pre_NeuroExamRespiration y: 20-04:BayleyIIICognitiveComposite valid_x: 529 valid_y: 421\n",
      "_corr_coeff: done: x: 01-12:pre_NeuroExamRespiration y: 20-04:BayleyIIICognitiveComposite\n",
      "_corr_coeff: to eval: x: 01-12:pre_NeuroExamRespiration y: 20-04:BayleyIIILanguageComposite valid_x: 529 valid_y: 411\n",
      "_corr_coeff: done: x: 01-12:pre_NeuroExamRespiration y: 20-04:BayleyIIILanguageComposite\n",
      "_corr_coeff: to eval: x: 01-12:pre_NeuroExamRespiration y: 20-04:BayleyIIIMotorComposite valid_x: 529 valid_y: 415\n",
      "_corr_coeff: done: x: 01-12:pre_NeuroExamRespiration y: 20-04:BayleyIIIMotorComposite\n",
      "_corr_coeff: to eval: x: 01-12:pre_NeuroExamSedate y: 20-10:moderateSevereDisabilityOrDeath valid_x: 530 valid_y: 504\n",
      "_corr_coeff: done: x: 01-12:pre_NeuroExamSedate y: 20-10:moderateSevereDisabilityOrDeath\n",
      "_corr_coeff: to eval: x: 01-12:pre_NeuroExamSedate y: 20-10:disabilityLevelDeath4Category valid_x: 530 valid_y: 498\n",
      "_corr_coeff: done: x: 01-12:pre_NeuroExamSedate y: 20-10:disabilityLevelDeath4Category\n"
     ]
    },
    {
     "name": "stderr",
     "output_type": "stream",
     "text": [
      "\r",
      " 40%|████      | 137/341 [00:29<00:44,  4.61it/s]"
     ]
    },
    {
     "name": "stdout",
     "output_type": "stream",
     "text": [
      "_corr_coeff: to eval: x: 01-12:pre_NeuroExamSedate y: 20-10_1:disabilityLevelDeath valid_x: 530 valid_y: 498\n",
      "_corr_coeff: done: x: 01-12:pre_NeuroExamSedate y: 20-10_1:disabilityLevelDeath\n",
      "_corr_coeff: to eval: x: 01-12:pre_NeuroExamSedate y: 20-04:BayleyIIICognitiveComposite valid_x: 530 valid_y: 421\n",
      "_corr_coeff: done: x: 01-12:pre_NeuroExamSedate y: 20-04:BayleyIIICognitiveComposite\n",
      "_corr_coeff: to eval: x: 01-12:pre_NeuroExamSedate y: 20-04:BayleyIIILanguageComposite valid_x: 530 valid_y: 411\n",
      "_corr_coeff: done: x: 01-12:pre_NeuroExamSedate y: 20-04:BayleyIIILanguageComposite\n",
      "_corr_coeff: to eval: x: 01-12:pre_NeuroExamSedate y: 20-04:BayleyIIIMotorComposite valid_x: 530 valid_y: 415\n",
      "_corr_coeff: done: x: 01-12:pre_NeuroExamSedate y: 20-04:BayleyIIIMotorComposite\n",
      "_corr_coeff: to eval: x: 01-12:pre_NeuroExamSeizure y: 20-10:moderateSevereDisabilityOrDeath valid_x: 532 valid_y: 504\n",
      "_corr_coeff: done: x: 01-12:pre_NeuroExamSeizure y: 20-10:moderateSevereDisabilityOrDeath\n",
      "_corr_coeff: to eval: x: 01-12:pre_NeuroExamSeizure y: 20-10:disabilityLevelDeath4Category valid_x: 532 valid_y: 498\n",
      "_corr_coeff: done: x: 01-12:pre_NeuroExamSeizure y: 20-10:disabilityLevelDeath4Category\n"
     ]
    },
    {
     "name": "stderr",
     "output_type": "stream",
     "text": [
      "\r",
      " 40%|████      | 138/341 [00:29<00:43,  4.69it/s]"
     ]
    },
    {
     "name": "stdout",
     "output_type": "stream",
     "text": [
      "_corr_coeff: to eval: x: 01-12:pre_NeuroExamSeizure y: 20-10_1:disabilityLevelDeath valid_x: 532 valid_y: 498\n",
      "_corr_coeff: done: x: 01-12:pre_NeuroExamSeizure y: 20-10_1:disabilityLevelDeath\n",
      "_corr_coeff: to eval: x: 01-12:pre_NeuroExamSeizure y: 20-04:BayleyIIICognitiveComposite valid_x: 532 valid_y: 421\n",
      "_corr_coeff: done: x: 01-12:pre_NeuroExamSeizure y: 20-04:BayleyIIICognitiveComposite\n",
      "_corr_coeff: to eval: x: 01-12:pre_NeuroExamSeizure y: 20-04:BayleyIIILanguageComposite valid_x: 532 valid_y: 411\n",
      "_corr_coeff: done: x: 01-12:pre_NeuroExamSeizure y: 20-04:BayleyIIILanguageComposite\n",
      "_corr_coeff: to eval: x: 01-12:pre_NeuroExamSeizure y: 20-04:BayleyIIIMotorComposite valid_x: 532 valid_y: 415\n",
      "_corr_coeff: done: x: 01-12:pre_NeuroExamSeizure y: 20-04:BayleyIIIMotorComposite\n",
      "_corr_coeff: to eval: x: 01-12_1:pre_NeuroExamLevelConsciousnessScore y: 20-10:moderateSevereDisabilityOrDeath valid_x: 530 valid_y: 504\n",
      "_corr_coeff: done: x: 01-12_1:pre_NeuroExamLevelConsciousnessScore y: 20-10:moderateSevereDisabilityOrDeath\n"
     ]
    },
    {
     "name": "stderr",
     "output_type": "stream",
     "text": [
      "\r",
      " 41%|████      | 139/341 [00:30<00:45,  4.43it/s]"
     ]
    },
    {
     "name": "stdout",
     "output_type": "stream",
     "text": [
      "_corr_coeff: to eval: x: 01-12_1:pre_NeuroExamLevelConsciousnessScore y: 20-10:disabilityLevelDeath4Category valid_x: 530 valid_y: 498\n",
      "_corr_coeff: done: x: 01-12_1:pre_NeuroExamLevelConsciousnessScore y: 20-10:disabilityLevelDeath4Category\n",
      "_corr_coeff: to eval: x: 01-12_1:pre_NeuroExamLevelConsciousnessScore y: 20-10_1:disabilityLevelDeath valid_x: 530 valid_y: 498\n",
      "_corr_coeff: done: x: 01-12_1:pre_NeuroExamLevelConsciousnessScore y: 20-10_1:disabilityLevelDeath\n",
      "_corr_coeff: to eval: x: 01-12_1:pre_NeuroExamLevelConsciousnessScore y: 20-04:BayleyIIICognitiveComposite valid_x: 530 valid_y: 421\n",
      "_corr_coeff: done: x: 01-12_1:pre_NeuroExamLevelConsciousnessScore y: 20-04:BayleyIIICognitiveComposite\n",
      "_corr_coeff: to eval: x: 01-12_1:pre_NeuroExamLevelConsciousnessScore y: 20-04:BayleyIIILanguageComposite valid_x: 530 valid_y: 411\n",
      "_corr_coeff: done: x: 01-12_1:pre_NeuroExamLevelConsciousnessScore y: 20-04:BayleyIIILanguageComposite\n",
      "_corr_coeff: to eval: x: 01-12_1:pre_NeuroExamLevelConsciousnessScore y: 20-04:BayleyIIIMotorComposite valid_x: 530 valid_y: 415\n",
      "_corr_coeff: done: x: 01-12_1:pre_NeuroExamLevelConsciousnessScore y: 20-04:BayleyIIIMotorComposite\n",
      "_corr_coeff: to eval: x: 01-12_1:pre_NeuroExamSpontaneousActivityScore y: 20-10:moderateSevereDisabilityOrDeath valid_x: 530 valid_y: 504\n",
      "_corr_coeff: done: x: 01-12_1:pre_NeuroExamSpontaneousActivityScore y: 20-10:moderateSevereDisabilityOrDeath\n",
      "_corr_coeff: to eval: x: 01-12_1:pre_NeuroExamSpontaneousActivityScore y: 20-10:disabilityLevelDeath4Category valid_x: 530 valid_y: 498\n",
      "_corr_coeff: done: x: 01-12_1:pre_NeuroExamSpontaneousActivityScore y: 20-10:disabilityLevelDeath4Category\n"
     ]
    },
    {
     "name": "stderr",
     "output_type": "stream",
     "text": [
      "\r",
      " 41%|████      | 140/341 [00:30<00:44,  4.55it/s]"
     ]
    },
    {
     "name": "stdout",
     "output_type": "stream",
     "text": [
      "_corr_coeff: to eval: x: 01-12_1:pre_NeuroExamSpontaneousActivityScore y: 20-10_1:disabilityLevelDeath valid_x: 530 valid_y: 498\n",
      "_corr_coeff: done: x: 01-12_1:pre_NeuroExamSpontaneousActivityScore y: 20-10_1:disabilityLevelDeath\n",
      "_corr_coeff: to eval: x: 01-12_1:pre_NeuroExamSpontaneousActivityScore y: 20-04:BayleyIIICognitiveComposite valid_x: 530 valid_y: 421\n",
      "_corr_coeff: done: x: 01-12_1:pre_NeuroExamSpontaneousActivityScore y: 20-04:BayleyIIICognitiveComposite\n",
      "_corr_coeff: to eval: x: 01-12_1:pre_NeuroExamSpontaneousActivityScore y: 20-04:BayleyIIILanguageComposite valid_x: 530 valid_y: 411\n",
      "_corr_coeff: done: x: 01-12_1:pre_NeuroExamSpontaneousActivityScore y: 20-04:BayleyIIILanguageComposite\n",
      "_corr_coeff: to eval: x: 01-12_1:pre_NeuroExamSpontaneousActivityScore y: 20-04:BayleyIIIMotorComposite valid_x: 530 valid_y: 415\n",
      "_corr_coeff: done: x: 01-12_1:pre_NeuroExamSpontaneousActivityScore y: 20-04:BayleyIIIMotorComposite\n",
      "_corr_coeff: to eval: x: 01-12_1:pre_NeuroExamPostureScore y: 20-10:moderateSevereDisabilityOrDeath valid_x: 530 valid_y: 504\n",
      "_corr_coeff: done: x: 01-12_1:pre_NeuroExamPostureScore y: 20-10:moderateSevereDisabilityOrDeath\n",
      "_corr_coeff: to eval: x: 01-12_1:pre_NeuroExamPostureScore y: 20-10:disabilityLevelDeath4Category valid_x: 530 valid_y: 498\n",
      "_corr_coeff: done: x: 01-12_1:pre_NeuroExamPostureScore y: 20-10:disabilityLevelDeath4Category\n"
     ]
    },
    {
     "name": "stderr",
     "output_type": "stream",
     "text": [
      "\r",
      " 41%|████▏     | 141/341 [00:30<00:46,  4.34it/s]"
     ]
    },
    {
     "name": "stdout",
     "output_type": "stream",
     "text": [
      "_corr_coeff: to eval: x: 01-12_1:pre_NeuroExamPostureScore y: 20-10_1:disabilityLevelDeath valid_x: 530 valid_y: 498\n",
      "_corr_coeff: done: x: 01-12_1:pre_NeuroExamPostureScore y: 20-10_1:disabilityLevelDeath\n",
      "_corr_coeff: to eval: x: 01-12_1:pre_NeuroExamPostureScore y: 20-04:BayleyIIICognitiveComposite valid_x: 530 valid_y: 421\n",
      "_corr_coeff: done: x: 01-12_1:pre_NeuroExamPostureScore y: 20-04:BayleyIIICognitiveComposite\n",
      "_corr_coeff: to eval: x: 01-12_1:pre_NeuroExamPostureScore y: 20-04:BayleyIIILanguageComposite valid_x: 530 valid_y: 411\n",
      "_corr_coeff: done: x: 01-12_1:pre_NeuroExamPostureScore y: 20-04:BayleyIIILanguageComposite\n",
      "_corr_coeff: to eval: x: 01-12_1:pre_NeuroExamPostureScore y: 20-04:BayleyIIIMotorComposite valid_x: 530 valid_y: 415\n",
      "_corr_coeff: done: x: 01-12_1:pre_NeuroExamPostureScore y: 20-04:BayleyIIIMotorComposite\n",
      "_corr_coeff: to eval: x: 01-12_1:pre_NeuroExamToneScore y: 20-10:moderateSevereDisabilityOrDeath valid_x: 530 valid_y: 504\n",
      "_corr_coeff: done: x: 01-12_1:pre_NeuroExamToneScore y: 20-10:moderateSevereDisabilityOrDeath\n",
      "_corr_coeff: to eval: x: 01-12_1:pre_NeuroExamToneScore y: 20-10:disabilityLevelDeath4Category valid_x: 530 valid_y: 498\n",
      "_corr_coeff: done: x: 01-12_1:pre_NeuroExamToneScore y: 20-10:disabilityLevelDeath4Category\n",
      "_corr_coeff: to eval: x: 01-12_1:pre_NeuroExamToneScore y: 20-10_1:disabilityLevelDeath valid_x: 530 valid_y: 498\n",
      "_corr_coeff: done: x: 01-12_1:pre_NeuroExamToneScore y: 20-10_1:disabilityLevelDeath\n"
     ]
    },
    {
     "name": "stderr",
     "output_type": "stream",
     "text": [
      "\r",
      " 42%|████▏     | 142/341 [00:30<00:44,  4.51it/s]"
     ]
    },
    {
     "name": "stdout",
     "output_type": "stream",
     "text": [
      "_corr_coeff: to eval: x: 01-12_1:pre_NeuroExamToneScore y: 20-04:BayleyIIICognitiveComposite valid_x: 530 valid_y: 421\n",
      "_corr_coeff: done: x: 01-12_1:pre_NeuroExamToneScore y: 20-04:BayleyIIICognitiveComposite\n",
      "_corr_coeff: to eval: x: 01-12_1:pre_NeuroExamToneScore y: 20-04:BayleyIIILanguageComposite valid_x: 530 valid_y: 411\n",
      "_corr_coeff: done: x: 01-12_1:pre_NeuroExamToneScore y: 20-04:BayleyIIILanguageComposite\n",
      "_corr_coeff: to eval: x: 01-12_1:pre_NeuroExamToneScore y: 20-04:BayleyIIIMotorComposite valid_x: 530 valid_y: 415\n",
      "_corr_coeff: done: x: 01-12_1:pre_NeuroExamToneScore y: 20-04:BayleyIIIMotorComposite\n",
      "_corr_coeff: to eval: x: 01-12_1:pre_NeuroExamSuckScore y: 20-10:moderateSevereDisabilityOrDeath valid_x: 530 valid_y: 504\n",
      "_corr_coeff: done: x: 01-12_1:pre_NeuroExamSuckScore y: 20-10:moderateSevereDisabilityOrDeath\n",
      "_corr_coeff: to eval: x: 01-12_1:pre_NeuroExamSuckScore y: 20-10:disabilityLevelDeath4Category valid_x: 530 valid_y: 498\n",
      "_corr_coeff: done: x: 01-12_1:pre_NeuroExamSuckScore y: 20-10:disabilityLevelDeath4Category\n"
     ]
    },
    {
     "name": "stderr",
     "output_type": "stream",
     "text": [
      "\r",
      " 42%|████▏     | 143/341 [00:31<00:45,  4.31it/s]"
     ]
    },
    {
     "name": "stdout",
     "output_type": "stream",
     "text": [
      "_corr_coeff: to eval: x: 01-12_1:pre_NeuroExamSuckScore y: 20-10_1:disabilityLevelDeath valid_x: 530 valid_y: 498\n",
      "_corr_coeff: done: x: 01-12_1:pre_NeuroExamSuckScore y: 20-10_1:disabilityLevelDeath\n",
      "_corr_coeff: to eval: x: 01-12_1:pre_NeuroExamSuckScore y: 20-04:BayleyIIICognitiveComposite valid_x: 530 valid_y: 421\n",
      "_corr_coeff: done: x: 01-12_1:pre_NeuroExamSuckScore y: 20-04:BayleyIIICognitiveComposite\n",
      "_corr_coeff: to eval: x: 01-12_1:pre_NeuroExamSuckScore y: 20-04:BayleyIIILanguageComposite valid_x: 530 valid_y: 411\n",
      "_corr_coeff: done: x: 01-12_1:pre_NeuroExamSuckScore y: 20-04:BayleyIIILanguageComposite\n",
      "_corr_coeff: to eval: x: 01-12_1:pre_NeuroExamSuckScore y: 20-04:BayleyIIIMotorComposite valid_x: 530 valid_y: 415\n",
      "_corr_coeff: done: x: 01-12_1:pre_NeuroExamSuckScore y: 20-04:BayleyIIIMotorComposite\n",
      "_corr_coeff: to eval: x: 01-12_1:pre_NeuroExamMoroScore y: 20-10:moderateSevereDisabilityOrDeath valid_x: 530 valid_y: 504\n",
      "_corr_coeff: done: x: 01-12_1:pre_NeuroExamMoroScore y: 20-10:moderateSevereDisabilityOrDeath\n",
      "_corr_coeff: to eval: x: 01-12_1:pre_NeuroExamMoroScore y: 20-10:disabilityLevelDeath4Category valid_x: 530 valid_y: 498\n",
      "_corr_coeff: done: x: 01-12_1:pre_NeuroExamMoroScore y: 20-10:disabilityLevelDeath4Category\n"
     ]
    },
    {
     "name": "stderr",
     "output_type": "stream",
     "text": [
      "\r",
      " 42%|████▏     | 144/341 [00:31<00:44,  4.47it/s]"
     ]
    },
    {
     "name": "stdout",
     "output_type": "stream",
     "text": [
      "_corr_coeff: to eval: x: 01-12_1:pre_NeuroExamMoroScore y: 20-10_1:disabilityLevelDeath valid_x: 530 valid_y: 498\n",
      "_corr_coeff: done: x: 01-12_1:pre_NeuroExamMoroScore y: 20-10_1:disabilityLevelDeath\n",
      "_corr_coeff: to eval: x: 01-12_1:pre_NeuroExamMoroScore y: 20-04:BayleyIIICognitiveComposite valid_x: 530 valid_y: 421\n",
      "_corr_coeff: done: x: 01-12_1:pre_NeuroExamMoroScore y: 20-04:BayleyIIICognitiveComposite\n",
      "_corr_coeff: to eval: x: 01-12_1:pre_NeuroExamMoroScore y: 20-04:BayleyIIILanguageComposite valid_x: 530 valid_y: 411\n",
      "_corr_coeff: done: x: 01-12_1:pre_NeuroExamMoroScore y: 20-04:BayleyIIILanguageComposite\n",
      "_corr_coeff: to eval: x: 01-12_1:pre_NeuroExamMoroScore y: 20-04:BayleyIIIMotorComposite valid_x: 530 valid_y: 415\n",
      "_corr_coeff: done: x: 01-12_1:pre_NeuroExamMoroScore y: 20-04:BayleyIIIMotorComposite\n",
      "_corr_coeff: to eval: x: 01-12_1:pre_NeuroExamPupilsScore y: 20-10:moderateSevereDisabilityOrDeath valid_x: 530 valid_y: 504\n",
      "_corr_coeff: done: x: 01-12_1:pre_NeuroExamPupilsScore y: 20-10:moderateSevereDisabilityOrDeath\n"
     ]
    },
    {
     "name": "stderr",
     "output_type": "stream",
     "text": [
      "\r",
      " 43%|████▎     | 145/341 [00:31<00:45,  4.29it/s]"
     ]
    },
    {
     "name": "stdout",
     "output_type": "stream",
     "text": [
      "_corr_coeff: to eval: x: 01-12_1:pre_NeuroExamPupilsScore y: 20-10:disabilityLevelDeath4Category valid_x: 530 valid_y: 498\n",
      "_corr_coeff: done: x: 01-12_1:pre_NeuroExamPupilsScore y: 20-10:disabilityLevelDeath4Category\n",
      "_corr_coeff: to eval: x: 01-12_1:pre_NeuroExamPupilsScore y: 20-10_1:disabilityLevelDeath valid_x: 530 valid_y: 498\n",
      "_corr_coeff: done: x: 01-12_1:pre_NeuroExamPupilsScore y: 20-10_1:disabilityLevelDeath\n",
      "_corr_coeff: to eval: x: 01-12_1:pre_NeuroExamPupilsScore y: 20-04:BayleyIIICognitiveComposite valid_x: 530 valid_y: 421\n",
      "_corr_coeff: done: x: 01-12_1:pre_NeuroExamPupilsScore y: 20-04:BayleyIIICognitiveComposite\n",
      "_corr_coeff: to eval: x: 01-12_1:pre_NeuroExamPupilsScore y: 20-04:BayleyIIILanguageComposite valid_x: 530 valid_y: 411\n",
      "_corr_coeff: done: x: 01-12_1:pre_NeuroExamPupilsScore y: 20-04:BayleyIIILanguageComposite\n",
      "_corr_coeff: to eval: x: 01-12_1:pre_NeuroExamPupilsScore y: 20-04:BayleyIIIMotorComposite valid_x: 530 valid_y: 415\n",
      "_corr_coeff: done: x: 01-12_1:pre_NeuroExamPupilsScore y: 20-04:BayleyIIIMotorComposite\n",
      "_corr_coeff: to eval: x: 01-12_1:pre_NeuroExamHeartRateScore y: 20-10:moderateSevereDisabilityOrDeath valid_x: 530 valid_y: 504\n",
      "_corr_coeff: done: x: 01-12_1:pre_NeuroExamHeartRateScore y: 20-10:moderateSevereDisabilityOrDeath\n",
      "_corr_coeff: to eval: x: 01-12_1:pre_NeuroExamHeartRateScore y: 20-10:disabilityLevelDeath4Category valid_x: 530 valid_y: 498\n",
      "_corr_coeff: done: x: 01-12_1:pre_NeuroExamHeartRateScore y: 20-10:disabilityLevelDeath4Category\n"
     ]
    },
    {
     "name": "stderr",
     "output_type": "stream",
     "text": [
      "\r",
      " 43%|████▎     | 146/341 [00:31<00:47,  4.14it/s]"
     ]
    },
    {
     "name": "stdout",
     "output_type": "stream",
     "text": [
      "_corr_coeff: to eval: x: 01-12_1:pre_NeuroExamHeartRateScore y: 20-10_1:disabilityLevelDeath valid_x: 530 valid_y: 498\n",
      "_corr_coeff: done: x: 01-12_1:pre_NeuroExamHeartRateScore y: 20-10_1:disabilityLevelDeath\n",
      "_corr_coeff: to eval: x: 01-12_1:pre_NeuroExamHeartRateScore y: 20-04:BayleyIIICognitiveComposite valid_x: 530 valid_y: 421\n",
      "_corr_coeff: done: x: 01-12_1:pre_NeuroExamHeartRateScore y: 20-04:BayleyIIICognitiveComposite\n",
      "_corr_coeff: to eval: x: 01-12_1:pre_NeuroExamHeartRateScore y: 20-04:BayleyIIILanguageComposite valid_x: 530 valid_y: 411\n",
      "_corr_coeff: done: x: 01-12_1:pre_NeuroExamHeartRateScore y: 20-04:BayleyIIILanguageComposite\n",
      "_corr_coeff: to eval: x: 01-12_1:pre_NeuroExamHeartRateScore y: 20-04:BayleyIIIMotorComposite valid_x: 530 valid_y: 415\n",
      "_corr_coeff: done: x: 01-12_1:pre_NeuroExamHeartRateScore y: 20-04:BayleyIIIMotorComposite\n",
      "_corr_coeff: to eval: x: 01-12_1:pre_NeuroExamRespirationScore y: 20-10:moderateSevereDisabilityOrDeath valid_x: 530 valid_y: 504\n",
      "_corr_coeff: done: x: 01-12_1:pre_NeuroExamRespirationScore y: 20-10:moderateSevereDisabilityOrDeath\n"
     ]
    },
    {
     "name": "stderr",
     "output_type": "stream",
     "text": [
      "\r",
      " 43%|████▎     | 147/341 [00:32<00:44,  4.34it/s]"
     ]
    },
    {
     "name": "stdout",
     "output_type": "stream",
     "text": [
      "_corr_coeff: to eval: x: 01-12_1:pre_NeuroExamRespirationScore y: 20-10:disabilityLevelDeath4Category valid_x: 530 valid_y: 498\n",
      "_corr_coeff: done: x: 01-12_1:pre_NeuroExamRespirationScore y: 20-10:disabilityLevelDeath4Category\n",
      "_corr_coeff: to eval: x: 01-12_1:pre_NeuroExamRespirationScore y: 20-10_1:disabilityLevelDeath valid_x: 530 valid_y: 498\n",
      "_corr_coeff: done: x: 01-12_1:pre_NeuroExamRespirationScore y: 20-10_1:disabilityLevelDeath\n",
      "_corr_coeff: to eval: x: 01-12_1:pre_NeuroExamRespirationScore y: 20-04:BayleyIIICognitiveComposite valid_x: 530 valid_y: 421\n",
      "_corr_coeff: done: x: 01-12_1:pre_NeuroExamRespirationScore y: 20-04:BayleyIIICognitiveComposite\n",
      "_corr_coeff: to eval: x: 01-12_1:pre_NeuroExamRespirationScore y: 20-04:BayleyIIILanguageComposite valid_x: 530 valid_y: 411\n",
      "_corr_coeff: done: x: 01-12_1:pre_NeuroExamRespirationScore y: 20-04:BayleyIIILanguageComposite\n",
      "_corr_coeff: to eval: x: 01-12_1:pre_NeuroExamRespirationScore y: 20-04:BayleyIIIMotorComposite valid_x: 530 valid_y: 415\n",
      "_corr_coeff: done: x: 01-12_1:pre_NeuroExamRespirationScore y: 20-04:BayleyIIIMotorComposite\n",
      "_corr_coeff: to eval: x: 01-12_1:pre_NeuroExamReflexScore y: 20-10:moderateSevereDisabilityOrDeath valid_x: 530 valid_y: 504\n",
      "_corr_coeff: done: x: 01-12_1:pre_NeuroExamReflexScore y: 20-10:moderateSevereDisabilityOrDeath\n",
      "_corr_coeff: to eval: x: 01-12_1:pre_NeuroExamReflexScore y: 20-10:disabilityLevelDeath4Category valid_x: 530 valid_y: 498\n",
      "_corr_coeff: done: x: 01-12_1:pre_NeuroExamReflexScore y: 20-10:disabilityLevelDeath4Category\n"
     ]
    },
    {
     "name": "stderr",
     "output_type": "stream",
     "text": [
      "\r",
      " 43%|████▎     | 148/341 [00:32<00:45,  4.22it/s]"
     ]
    },
    {
     "name": "stdout",
     "output_type": "stream",
     "text": [
      "_corr_coeff: to eval: x: 01-12_1:pre_NeuroExamReflexScore y: 20-10_1:disabilityLevelDeath valid_x: 530 valid_y: 498\n",
      "_corr_coeff: done: x: 01-12_1:pre_NeuroExamReflexScore y: 20-10_1:disabilityLevelDeath\n",
      "_corr_coeff: to eval: x: 01-12_1:pre_NeuroExamReflexScore y: 20-04:BayleyIIICognitiveComposite valid_x: 530 valid_y: 421\n",
      "_corr_coeff: done: x: 01-12_1:pre_NeuroExamReflexScore y: 20-04:BayleyIIICognitiveComposite\n",
      "_corr_coeff: to eval: x: 01-12_1:pre_NeuroExamReflexScore y: 20-04:BayleyIIILanguageComposite valid_x: 530 valid_y: 411\n",
      "_corr_coeff: done: x: 01-12_1:pre_NeuroExamReflexScore y: 20-04:BayleyIIILanguageComposite\n",
      "_corr_coeff: to eval: x: 01-12_1:pre_NeuroExamReflexScore y: 20-04:BayleyIIIMotorComposite valid_x: 530 valid_y: 415\n",
      "_corr_coeff: done: x: 01-12_1:pre_NeuroExamReflexScore y: 20-04:BayleyIIIMotorComposite\n",
      "_corr_coeff: to eval: x: 01-12_1:pre_NeuroExamANSScore y: 20-10:moderateSevereDisabilityOrDeath valid_x: 530 valid_y: 504\n",
      "_corr_coeff: done: x: 01-12_1:pre_NeuroExamANSScore y: 20-10:moderateSevereDisabilityOrDeath\n"
     ]
    },
    {
     "name": "stderr",
     "output_type": "stream",
     "text": [
      "\r",
      " 44%|████▎     | 149/341 [00:32<00:43,  4.38it/s]"
     ]
    },
    {
     "name": "stdout",
     "output_type": "stream",
     "text": [
      "_corr_coeff: to eval: x: 01-12_1:pre_NeuroExamANSScore y: 20-10:disabilityLevelDeath4Category valid_x: 530 valid_y: 498\n",
      "_corr_coeff: done: x: 01-12_1:pre_NeuroExamANSScore y: 20-10:disabilityLevelDeath4Category\n",
      "_corr_coeff: to eval: x: 01-12_1:pre_NeuroExamANSScore y: 20-10_1:disabilityLevelDeath valid_x: 530 valid_y: 498\n",
      "_corr_coeff: done: x: 01-12_1:pre_NeuroExamANSScore y: 20-10_1:disabilityLevelDeath\n",
      "_corr_coeff: to eval: x: 01-12_1:pre_NeuroExamANSScore y: 20-04:BayleyIIICognitiveComposite valid_x: 530 valid_y: 421\n",
      "_corr_coeff: done: x: 01-12_1:pre_NeuroExamANSScore y: 20-04:BayleyIIICognitiveComposite\n",
      "_corr_coeff: to eval: x: 01-12_1:pre_NeuroExamANSScore y: 20-04:BayleyIIILanguageComposite valid_x: 530 valid_y: 411\n",
      "_corr_coeff: done: x: 01-12_1:pre_NeuroExamANSScore y: 20-04:BayleyIIILanguageComposite\n",
      "_corr_coeff: to eval: x: 01-12_1:pre_NeuroExamANSScore y: 20-04:BayleyIIIMotorComposite valid_x: 530 valid_y: 415\n",
      "_corr_coeff: done: x: 01-12_1:pre_NeuroExamANSScore y: 20-04:BayleyIIIMotorComposite\n",
      "_corr_coeff: to eval: x: 01-12_1:pre_TotalModifiedSarnatScore y: 20-10:moderateSevereDisabilityOrDeath valid_x: 530 valid_y: 504\n",
      "_corr_coeff: done: x: 01-12_1:pre_TotalModifiedSarnatScore y: 20-10:moderateSevereDisabilityOrDeath\n"
     ]
    },
    {
     "name": "stderr",
     "output_type": "stream",
     "text": [
      "\r",
      " 44%|████▍     | 150/341 [00:32<00:45,  4.19it/s]"
     ]
    },
    {
     "name": "stdout",
     "output_type": "stream",
     "text": [
      "_corr_coeff: to eval: x: 01-12_1:pre_TotalModifiedSarnatScore y: 20-10:disabilityLevelDeath4Category valid_x: 530 valid_y: 498\n",
      "_corr_coeff: done: x: 01-12_1:pre_TotalModifiedSarnatScore y: 20-10:disabilityLevelDeath4Category\n",
      "_corr_coeff: to eval: x: 01-12_1:pre_TotalModifiedSarnatScore y: 20-10_1:disabilityLevelDeath valid_x: 530 valid_y: 498\n",
      "_corr_coeff: done: x: 01-12_1:pre_TotalModifiedSarnatScore y: 20-10_1:disabilityLevelDeath\n",
      "_corr_coeff: to eval: x: 01-12_1:pre_TotalModifiedSarnatScore y: 20-04:BayleyIIICognitiveComposite valid_x: 530 valid_y: 421\n",
      "_corr_coeff: done: x: 01-12_1:pre_TotalModifiedSarnatScore y: 20-04:BayleyIIICognitiveComposite\n",
      "_corr_coeff: to eval: x: 01-12_1:pre_TotalModifiedSarnatScore y: 20-04:BayleyIIILanguageComposite valid_x: 530 valid_y: 411\n",
      "_corr_coeff: done: x: 01-12_1:pre_TotalModifiedSarnatScore y: 20-04:BayleyIIILanguageComposite\n",
      "_corr_coeff: to eval: x: 01-12_1:pre_TotalModifiedSarnatScore y: 20-04:BayleyIIIMotorComposite valid_x: 530 valid_y: 415\n",
      "_corr_coeff: done: x: 01-12_1:pre_TotalModifiedSarnatScore y: 20-04:BayleyIIIMotorComposite\n"
     ]
    },
    {
     "name": "stderr",
     "output_type": "stream",
     "text": [
      "\r",
      " 44%|████▍     | 151/341 [00:32<00:42,  4.46it/s]"
     ]
    },
    {
     "name": "stdout",
     "output_type": "stream",
     "text": [
      "_corr_coeff: to eval: x: 03-01_s:normothermiaAtEndIntervention y: 20-10:moderateSevereDisabilityOrDeath valid_x: 363 valid_y: 504\n",
      "_corr_coeff: done: x: 03-01_s:normothermiaAtEndIntervention y: 20-10:moderateSevereDisabilityOrDeath\n",
      "_corr_coeff: to eval: x: 03-01_s:normothermiaAtEndIntervention y: 20-10:disabilityLevelDeath4Category valid_x: 363 valid_y: 498\n",
      "_corr_coeff: done: x: 03-01_s:normothermiaAtEndIntervention y: 20-10:disabilityLevelDeath4Category\n",
      "_corr_coeff: to eval: x: 03-01_s:normothermiaAtEndIntervention y: 20-10_1:disabilityLevelDeath valid_x: 363 valid_y: 498\n",
      "_corr_coeff: done: x: 03-01_s:normothermiaAtEndIntervention y: 20-10_1:disabilityLevelDeath\n",
      "_corr_coeff: to eval: x: 03-01_s:normothermiaAtEndIntervention y: 20-04:BayleyIIICognitiveComposite valid_x: 363 valid_y: 421\n",
      "_corr_coeff: done: x: 03-01_s:normothermiaAtEndIntervention y: 20-04:BayleyIIICognitiveComposite\n",
      "_corr_coeff: to eval: x: 03-01_s:normothermiaAtEndIntervention y: 20-04:BayleyIIILanguageComposite valid_x: 363 valid_y: 411\n",
      "_corr_coeff: done: x: 03-01_s:normothermiaAtEndIntervention y: 20-04:BayleyIIILanguageComposite\n",
      "_corr_coeff: to eval: x: 03-01_s:normothermiaAtEndIntervention y: 20-04:BayleyIIIMotorComposite valid_x: 363 valid_y: 415\n",
      "_corr_coeff: done: x: 03-01_s:normothermiaAtEndIntervention y: 20-04:BayleyIIIMotorComposite\n",
      "_corr_coeff: to eval: x: 03-01_s:normothermiaAxillaryTemperature_C y: 20-10:moderateSevereDisabilityOrDeath valid_x: 268 valid_y: 504\n",
      "_corr_coeff: done: x: 03-01_s:normothermiaAxillaryTemperature_C y: 20-10:moderateSevereDisabilityOrDeath\n"
     ]
    },
    {
     "name": "stderr",
     "output_type": "stream",
     "text": [
      "\r",
      " 45%|████▍     | 152/341 [00:33<00:42,  4.43it/s]"
     ]
    },
    {
     "name": "stdout",
     "output_type": "stream",
     "text": [
      "_corr_coeff: to eval: x: 03-01_s:normothermiaAxillaryTemperature_C y: 20-10:disabilityLevelDeath4Category valid_x: 268 valid_y: 498\n",
      "_corr_coeff: done: x: 03-01_s:normothermiaAxillaryTemperature_C y: 20-10:disabilityLevelDeath4Category\n",
      "_corr_coeff: to eval: x: 03-01_s:normothermiaAxillaryTemperature_C y: 20-10_1:disabilityLevelDeath valid_x: 268 valid_y: 498\n",
      "_corr_coeff: done: x: 03-01_s:normothermiaAxillaryTemperature_C y: 20-10_1:disabilityLevelDeath\n",
      "_corr_coeff: to eval: x: 03-01_s:normothermiaAxillaryTemperature_C y: 20-04:BayleyIIICognitiveComposite valid_x: 268 valid_y: 421\n",
      "_corr_coeff: done: x: 03-01_s:normothermiaAxillaryTemperature_C y: 20-04:BayleyIIICognitiveComposite\n",
      "_corr_coeff: to eval: x: 03-01_s:normothermiaAxillaryTemperature_C y: 20-04:BayleyIIILanguageComposite valid_x: 268 valid_y: 411\n",
      "_corr_coeff: done: x: 03-01_s:normothermiaAxillaryTemperature_C y: 20-04:BayleyIIILanguageComposite\n",
      "_corr_coeff: to eval: x: 03-01_s:normothermiaAxillaryTemperature_C y: 20-04:BayleyIIIMotorComposite valid_x: 268 valid_y: 415\n",
      "_corr_coeff: done: x: 03-01_s:normothermiaAxillaryTemperature_C y: 20-04:BayleyIIIMotorComposite\n",
      "_corr_coeff: to eval: x: 03-02:post_BloodValueASTSGOT_UPerL y: 20-10:moderateSevereDisabilityOrDeath valid_x: 272 valid_y: 504\n",
      "_corr_coeff: done: x: 03-02:post_BloodValueASTSGOT_UPerL y: 20-10:moderateSevereDisabilityOrDeath\n"
     ]
    },
    {
     "name": "stderr",
     "output_type": "stream",
     "text": [
      "\r",
      " 45%|████▍     | 153/341 [00:33<00:39,  4.72it/s]"
     ]
    },
    {
     "name": "stdout",
     "output_type": "stream",
     "text": [
      "_corr_coeff: to eval: x: 03-02:post_BloodValueASTSGOT_UPerL y: 20-10:disabilityLevelDeath4Category valid_x: 272 valid_y: 498\n",
      "_corr_coeff: done: x: 03-02:post_BloodValueASTSGOT_UPerL y: 20-10:disabilityLevelDeath4Category\n",
      "_corr_coeff: to eval: x: 03-02:post_BloodValueASTSGOT_UPerL y: 20-10_1:disabilityLevelDeath valid_x: 272 valid_y: 498\n",
      "_corr_coeff: done: x: 03-02:post_BloodValueASTSGOT_UPerL y: 20-10_1:disabilityLevelDeath\n",
      "_corr_coeff: to eval: x: 03-02:post_BloodValueASTSGOT_UPerL y: 20-04:BayleyIIICognitiveComposite valid_x: 272 valid_y: 421\n",
      "_corr_coeff: done: x: 03-02:post_BloodValueASTSGOT_UPerL y: 20-04:BayleyIIICognitiveComposite\n",
      "_corr_coeff: to eval: x: 03-02:post_BloodValueASTSGOT_UPerL y: 20-04:BayleyIIILanguageComposite valid_x: 272 valid_y: 411\n",
      "_corr_coeff: done: x: 03-02:post_BloodValueASTSGOT_UPerL y: 20-04:BayleyIIILanguageComposite\n",
      "_corr_coeff: to eval: x: 03-02:post_BloodValueASTSGOT_UPerL y: 20-04:BayleyIIIMotorComposite valid_x: 272 valid_y: 415\n",
      "_corr_coeff: done: x: 03-02:post_BloodValueASTSGOT_UPerL y: 20-04:BayleyIIIMotorComposite\n",
      "_corr_coeff: to eval: x: 03-02:post_BloodValueALTSGPT_UPerL y: 20-10:moderateSevereDisabilityOrDeath valid_x: 278 valid_y: 504\n",
      "_corr_coeff: done: x: 03-02:post_BloodValueALTSGPT_UPerL y: 20-10:moderateSevereDisabilityOrDeath\n"
     ]
    },
    {
     "name": "stderr",
     "output_type": "stream",
     "text": [
      "\r",
      " 45%|████▌     | 154/341 [00:33<00:40,  4.58it/s]"
     ]
    },
    {
     "name": "stdout",
     "output_type": "stream",
     "text": [
      "_corr_coeff: to eval: x: 03-02:post_BloodValueALTSGPT_UPerL y: 20-10:disabilityLevelDeath4Category valid_x: 278 valid_y: 498\n",
      "_corr_coeff: done: x: 03-02:post_BloodValueALTSGPT_UPerL y: 20-10:disabilityLevelDeath4Category\n",
      "_corr_coeff: to eval: x: 03-02:post_BloodValueALTSGPT_UPerL y: 20-10_1:disabilityLevelDeath valid_x: 278 valid_y: 498\n",
      "_corr_coeff: done: x: 03-02:post_BloodValueALTSGPT_UPerL y: 20-10_1:disabilityLevelDeath\n",
      "_corr_coeff: to eval: x: 03-02:post_BloodValueALTSGPT_UPerL y: 20-04:BayleyIIICognitiveComposite valid_x: 278 valid_y: 421\n",
      "_corr_coeff: done: x: 03-02:post_BloodValueALTSGPT_UPerL y: 20-04:BayleyIIICognitiveComposite\n",
      "_corr_coeff: to eval: x: 03-02:post_BloodValueALTSGPT_UPerL y: 20-04:BayleyIIILanguageComposite valid_x: 278 valid_y: 411\n",
      "_corr_coeff: done: x: 03-02:post_BloodValueALTSGPT_UPerL y: 20-04:BayleyIIILanguageComposite\n",
      "_corr_coeff: to eval: x: 03-02:post_BloodValueALTSGPT_UPerL y: 20-04:BayleyIIIMotorComposite valid_x: 278 valid_y: 415\n",
      "_corr_coeff: done: x: 03-02:post_BloodValueALTSGPT_UPerL y: 20-04:BayleyIIIMotorComposite\n",
      "_corr_coeff: to eval: x: 03-02:post_BloodValueTotalBilirubin_mgPerdL y: 20-10:moderateSevereDisabilityOrDeath valid_x: 281 valid_y: 504\n",
      "_corr_coeff: done: x: 03-02:post_BloodValueTotalBilirubin_mgPerdL y: 20-10:moderateSevereDisabilityOrDeath\n",
      "_corr_coeff: to eval: x: 03-02:post_BloodValueTotalBilirubin_mgPerdL y: 20-10:disabilityLevelDeath4Category valid_x: 281 valid_y: 498\n",
      "_corr_coeff: done: x: 03-02:post_BloodValueTotalBilirubin_mgPerdL y: 20-10:disabilityLevelDeath4Category\n"
     ]
    },
    {
     "name": "stderr",
     "output_type": "stream",
     "text": [
      "\r",
      " 45%|████▌     | 155/341 [00:33<00:38,  4.82it/s]"
     ]
    },
    {
     "name": "stdout",
     "output_type": "stream",
     "text": [
      "_corr_coeff: to eval: x: 03-02:post_BloodValueTotalBilirubin_mgPerdL y: 20-10_1:disabilityLevelDeath valid_x: 281 valid_y: 498\n",
      "_corr_coeff: done: x: 03-02:post_BloodValueTotalBilirubin_mgPerdL y: 20-10_1:disabilityLevelDeath\n",
      "_corr_coeff: to eval: x: 03-02:post_BloodValueTotalBilirubin_mgPerdL y: 20-04:BayleyIIICognitiveComposite valid_x: 281 valid_y: 421\n",
      "_corr_coeff: done: x: 03-02:post_BloodValueTotalBilirubin_mgPerdL y: 20-04:BayleyIIICognitiveComposite\n",
      "_corr_coeff: to eval: x: 03-02:post_BloodValueTotalBilirubin_mgPerdL y: 20-04:BayleyIIILanguageComposite valid_x: 281 valid_y: 411\n",
      "_corr_coeff: done: x: 03-02:post_BloodValueTotalBilirubin_mgPerdL y: 20-04:BayleyIIILanguageComposite\n",
      "_corr_coeff: to eval: x: 03-02:post_BloodValueTotalBilirubin_mgPerdL y: 20-04:BayleyIIIMotorComposite valid_x: 281 valid_y: 415\n",
      "_corr_coeff: done: x: 03-02:post_BloodValueTotalBilirubin_mgPerdL y: 20-04:BayleyIIIMotorComposite\n",
      "_corr_coeff: to eval: x: 03-04:post_NeuroExamLevelConsciousness y: 20-10:moderateSevereDisabilityOrDeath valid_x: 460 valid_y: 504\n",
      "_corr_coeff: done: x: 03-04:post_NeuroExamLevelConsciousness y: 20-10:moderateSevereDisabilityOrDeath\n"
     ]
    },
    {
     "name": "stderr",
     "output_type": "stream",
     "text": [
      "\r",
      " 46%|████▌     | 156/341 [00:34<00:41,  4.48it/s]"
     ]
    },
    {
     "name": "stdout",
     "output_type": "stream",
     "text": [
      "_corr_coeff: to eval: x: 03-04:post_NeuroExamLevelConsciousness y: 20-10:disabilityLevelDeath4Category valid_x: 460 valid_y: 498\n",
      "_corr_coeff: done: x: 03-04:post_NeuroExamLevelConsciousness y: 20-10:disabilityLevelDeath4Category\n",
      "_corr_coeff: to eval: x: 03-04:post_NeuroExamLevelConsciousness y: 20-10_1:disabilityLevelDeath valid_x: 460 valid_y: 498\n",
      "_corr_coeff: done: x: 03-04:post_NeuroExamLevelConsciousness y: 20-10_1:disabilityLevelDeath\n",
      "_corr_coeff: to eval: x: 03-04:post_NeuroExamLevelConsciousness y: 20-04:BayleyIIICognitiveComposite valid_x: 460 valid_y: 421\n",
      "_corr_coeff: done: x: 03-04:post_NeuroExamLevelConsciousness y: 20-04:BayleyIIICognitiveComposite\n",
      "_corr_coeff: to eval: x: 03-04:post_NeuroExamLevelConsciousness y: 20-04:BayleyIIILanguageComposite valid_x: 460 valid_y: 411\n",
      "_corr_coeff: done: x: 03-04:post_NeuroExamLevelConsciousness y: 20-04:BayleyIIILanguageComposite\n",
      "_corr_coeff: to eval: x: 03-04:post_NeuroExamLevelConsciousness y: 20-04:BayleyIIIMotorComposite valid_x: 460 valid_y: 415\n",
      "_corr_coeff: done: x: 03-04:post_NeuroExamLevelConsciousness y: 20-04:BayleyIIIMotorComposite\n",
      "_corr_coeff: to eval: x: 03-04:post_NeuroExamSpontaneousActivity y: 20-10:moderateSevereDisabilityOrDeath valid_x: 460 valid_y: 504\n",
      "_corr_coeff: done: x: 03-04:post_NeuroExamSpontaneousActivity y: 20-10:moderateSevereDisabilityOrDeath\n",
      "_corr_coeff: to eval: x: 03-04:post_NeuroExamSpontaneousActivity y: 20-10:disabilityLevelDeath4Category valid_x: 460 valid_y: 498\n",
      "_corr_coeff: done: x: 03-04:post_NeuroExamSpontaneousActivity y: 20-10:disabilityLevelDeath4Category\n"
     ]
    },
    {
     "name": "stderr",
     "output_type": "stream",
     "text": [
      "\r",
      " 46%|████▌     | 157/341 [00:34<00:39,  4.62it/s]"
     ]
    },
    {
     "name": "stdout",
     "output_type": "stream",
     "text": [
      "_corr_coeff: to eval: x: 03-04:post_NeuroExamSpontaneousActivity y: 20-10_1:disabilityLevelDeath valid_x: 460 valid_y: 498\n",
      "_corr_coeff: done: x: 03-04:post_NeuroExamSpontaneousActivity y: 20-10_1:disabilityLevelDeath\n",
      "_corr_coeff: to eval: x: 03-04:post_NeuroExamSpontaneousActivity y: 20-04:BayleyIIICognitiveComposite valid_x: 460 valid_y: 421\n",
      "_corr_coeff: done: x: 03-04:post_NeuroExamSpontaneousActivity y: 20-04:BayleyIIICognitiveComposite\n",
      "_corr_coeff: to eval: x: 03-04:post_NeuroExamSpontaneousActivity y: 20-04:BayleyIIILanguageComposite valid_x: 460 valid_y: 411\n",
      "_corr_coeff: done: x: 03-04:post_NeuroExamSpontaneousActivity y: 20-04:BayleyIIILanguageComposite\n",
      "_corr_coeff: to eval: x: 03-04:post_NeuroExamSpontaneousActivity y: 20-04:BayleyIIIMotorComposite valid_x: 460 valid_y: 415\n",
      "_corr_coeff: done: x: 03-04:post_NeuroExamSpontaneousActivity y: 20-04:BayleyIIIMotorComposite\n",
      "_corr_coeff: to eval: x: 03-04:post_NeuroExamPosture y: 20-10:moderateSevereDisabilityOrDeath valid_x: 459 valid_y: 504\n",
      "_corr_coeff: done: x: 03-04:post_NeuroExamPosture y: 20-10:moderateSevereDisabilityOrDeath\n"
     ]
    },
    {
     "name": "stderr",
     "output_type": "stream",
     "text": [
      "\r",
      " 46%|████▋     | 158/341 [00:34<00:41,  4.44it/s]"
     ]
    },
    {
     "name": "stdout",
     "output_type": "stream",
     "text": [
      "_corr_coeff: to eval: x: 03-04:post_NeuroExamPosture y: 20-10:disabilityLevelDeath4Category valid_x: 459 valid_y: 498\n",
      "_corr_coeff: done: x: 03-04:post_NeuroExamPosture y: 20-10:disabilityLevelDeath4Category\n",
      "_corr_coeff: to eval: x: 03-04:post_NeuroExamPosture y: 20-10_1:disabilityLevelDeath valid_x: 459 valid_y: 498\n",
      "_corr_coeff: done: x: 03-04:post_NeuroExamPosture y: 20-10_1:disabilityLevelDeath\n",
      "_corr_coeff: to eval: x: 03-04:post_NeuroExamPosture y: 20-04:BayleyIIICognitiveComposite valid_x: 459 valid_y: 421\n",
      "_corr_coeff: done: x: 03-04:post_NeuroExamPosture y: 20-04:BayleyIIICognitiveComposite\n",
      "_corr_coeff: to eval: x: 03-04:post_NeuroExamPosture y: 20-04:BayleyIIILanguageComposite valid_x: 459 valid_y: 411\n",
      "_corr_coeff: done: x: 03-04:post_NeuroExamPosture y: 20-04:BayleyIIILanguageComposite\n",
      "_corr_coeff: to eval: x: 03-04:post_NeuroExamPosture y: 20-04:BayleyIIIMotorComposite valid_x: 459 valid_y: 415\n",
      "_corr_coeff: done: x: 03-04:post_NeuroExamPosture y: 20-04:BayleyIIIMotorComposite\n",
      "_corr_coeff: to eval: x: 03-04:post_NeuroExamTone y: 20-10:moderateSevereDisabilityOrDeath valid_x: 431 valid_y: 504\n",
      "_corr_coeff: done: x: 03-04:post_NeuroExamTone y: 20-10:moderateSevereDisabilityOrDeath\n",
      "_corr_coeff: to eval: x: 03-04:post_NeuroExamTone y: 20-10:disabilityLevelDeath4Category valid_x: 431 valid_y: 498\n",
      "_corr_coeff: done: x: 03-04:post_NeuroExamTone y: 20-10:disabilityLevelDeath4Category\n"
     ]
    },
    {
     "name": "stderr",
     "output_type": "stream",
     "text": [
      "\r",
      " 47%|████▋     | 159/341 [00:34<00:39,  4.60it/s]"
     ]
    },
    {
     "name": "stdout",
     "output_type": "stream",
     "text": [
      "_corr_coeff: to eval: x: 03-04:post_NeuroExamTone y: 20-10_1:disabilityLevelDeath valid_x: 431 valid_y: 498\n",
      "_corr_coeff: done: x: 03-04:post_NeuroExamTone y: 20-10_1:disabilityLevelDeath\n",
      "_corr_coeff: to eval: x: 03-04:post_NeuroExamTone y: 20-04:BayleyIIICognitiveComposite valid_x: 431 valid_y: 421\n",
      "_corr_coeff: done: x: 03-04:post_NeuroExamTone y: 20-04:BayleyIIICognitiveComposite\n",
      "_corr_coeff: to eval: x: 03-04:post_NeuroExamTone y: 20-04:BayleyIIILanguageComposite valid_x: 431 valid_y: 411\n",
      "_corr_coeff: done: x: 03-04:post_NeuroExamTone y: 20-04:BayleyIIILanguageComposite\n",
      "_corr_coeff: to eval: x: 03-04:post_NeuroExamTone y: 20-04:BayleyIIIMotorComposite valid_x: 431 valid_y: 415\n",
      "_corr_coeff: done: x: 03-04:post_NeuroExamTone y: 20-04:BayleyIIIMotorComposite\n",
      "_corr_coeff: to eval: x: 03-04:post_NeuroExamSuck y: 20-10:moderateSevereDisabilityOrDeath valid_x: 455 valid_y: 504\n",
      "_corr_coeff: done: x: 03-04:post_NeuroExamSuck y: 20-10:moderateSevereDisabilityOrDeath\n",
      "_corr_coeff: to eval: x: 03-04:post_NeuroExamSuck y: 20-10:disabilityLevelDeath4Category valid_x: 455 valid_y: 498\n",
      "_corr_coeff: done: x: 03-04:post_NeuroExamSuck y: 20-10:disabilityLevelDeath4Category\n",
      "_corr_coeff: to eval: x: 03-04:post_NeuroExamSuck y: 20-10_1:disabilityLevelDeath valid_x: 455 valid_y: 498\n",
      "_corr_coeff: done: x: 03-04:post_NeuroExamSuck y: 20-10_1:disabilityLevelDeath\n"
     ]
    },
    {
     "name": "stderr",
     "output_type": "stream",
     "text": [
      "\r",
      " 47%|████▋     | 160/341 [00:34<00:38,  4.74it/s]"
     ]
    },
    {
     "name": "stdout",
     "output_type": "stream",
     "text": [
      "_corr_coeff: to eval: x: 03-04:post_NeuroExamSuck y: 20-04:BayleyIIICognitiveComposite valid_x: 455 valid_y: 421\n",
      "_corr_coeff: done: x: 03-04:post_NeuroExamSuck y: 20-04:BayleyIIICognitiveComposite\n",
      "_corr_coeff: to eval: x: 03-04:post_NeuroExamSuck y: 20-04:BayleyIIILanguageComposite valid_x: 455 valid_y: 411\n",
      "_corr_coeff: done: x: 03-04:post_NeuroExamSuck y: 20-04:BayleyIIILanguageComposite\n",
      "_corr_coeff: to eval: x: 03-04:post_NeuroExamSuck y: 20-04:BayleyIIIMotorComposite valid_x: 455 valid_y: 415\n",
      "_corr_coeff: done: x: 03-04:post_NeuroExamSuck y: 20-04:BayleyIIIMotorComposite\n",
      "_corr_coeff: to eval: x: 03-04:post_NeuroExamMoro y: 20-10:moderateSevereDisabilityOrDeath valid_x: 436 valid_y: 504\n",
      "_corr_coeff: done: x: 03-04:post_NeuroExamMoro y: 20-10:moderateSevereDisabilityOrDeath\n",
      "_corr_coeff: to eval: x: 03-04:post_NeuroExamMoro y: 20-10:disabilityLevelDeath4Category valid_x: 436 valid_y: 498\n",
      "_corr_coeff: done: x: 03-04:post_NeuroExamMoro y: 20-10:disabilityLevelDeath4Category\n",
      "_corr_coeff: to eval: x: 03-04:post_NeuroExamMoro y: 20-10_1:disabilityLevelDeath valid_x: 436 valid_y: 498\n",
      "_corr_coeff: done: x: 03-04:post_NeuroExamMoro y: 20-10_1:disabilityLevelDeath\n",
      "_corr_coeff: to eval: x: 03-04:post_NeuroExamMoro y: 20-04:BayleyIIICognitiveComposite valid_x: 436 valid_y: 421\n",
      "_corr_coeff: done: x: 03-04:post_NeuroExamMoro y: 20-04:BayleyIIICognitiveComposite\n"
     ]
    },
    {
     "name": "stderr",
     "output_type": "stream",
     "text": [
      "\r",
      " 47%|████▋     | 161/341 [00:35<00:36,  4.87it/s]"
     ]
    },
    {
     "name": "stdout",
     "output_type": "stream",
     "text": [
      "_corr_coeff: to eval: x: 03-04:post_NeuroExamMoro y: 20-04:BayleyIIILanguageComposite valid_x: 436 valid_y: 411\n",
      "_corr_coeff: done: x: 03-04:post_NeuroExamMoro y: 20-04:BayleyIIILanguageComposite\n",
      "_corr_coeff: to eval: x: 03-04:post_NeuroExamMoro y: 20-04:BayleyIIIMotorComposite valid_x: 436 valid_y: 415\n",
      "_corr_coeff: done: x: 03-04:post_NeuroExamMoro y: 20-04:BayleyIIIMotorComposite\n",
      "_corr_coeff: to eval: x: 03-04:post_NeuroExamPupils y: 20-10:moderateSevereDisabilityOrDeath valid_x: 441 valid_y: 504\n",
      "_corr_coeff: done: x: 03-04:post_NeuroExamPupils y: 20-10:moderateSevereDisabilityOrDeath\n",
      "_corr_coeff: to eval: x: 03-04:post_NeuroExamPupils y: 20-10:disabilityLevelDeath4Category valid_x: 441 valid_y: 498\n",
      "_corr_coeff: done: x: 03-04:post_NeuroExamPupils y: 20-10:disabilityLevelDeath4Category\n",
      "_corr_coeff: to eval: x: 03-04:post_NeuroExamPupils y: 20-10_1:disabilityLevelDeath valid_x: 441 valid_y: 498\n",
      "_corr_coeff: done: x: 03-04:post_NeuroExamPupils y: 20-10_1:disabilityLevelDeath\n",
      "_corr_coeff: to eval: x: 03-04:post_NeuroExamPupils y: 20-04:BayleyIIICognitiveComposite valid_x: 441 valid_y: 421\n",
      "_corr_coeff: done: x: 03-04:post_NeuroExamPupils y: 20-04:BayleyIIICognitiveComposite\n",
      "_corr_coeff: to eval: x: 03-04:post_NeuroExamPupils y: 20-04:BayleyIIILanguageComposite valid_x: 441 valid_y: 411\n",
      "_corr_coeff: done: x: 03-04:post_NeuroExamPupils y: 20-04:BayleyIIILanguageComposite\n"
     ]
    },
    {
     "name": "stderr",
     "output_type": "stream",
     "text": [
      "\r",
      " 48%|████▊     | 162/341 [00:35<00:36,  4.97it/s]"
     ]
    },
    {
     "name": "stderr",
     "output_type": "stream",
     "text": [
      "\r",
      " 48%|████▊     | 163/341 [00:35<00:35,  4.97it/s]"
     ]
    },
    {
     "name": "stdout",
     "output_type": "stream",
     "text": [
      "_corr_coeff: to eval: x: 03-04:post_NeuroExamPupils y: 20-04:BayleyIIIMotorComposite valid_x: 441 valid_y: 415\n",
      "_corr_coeff: done: x: 03-04:post_NeuroExamPupils y: 20-04:BayleyIIIMotorComposite\n",
      "_corr_coeff: to eval: x: 03-04:post_NeuroExamHeartRate y: 20-10:moderateSevereDisabilityOrDeath valid_x: 458 valid_y: 504\n",
      "_corr_coeff: done: x: 03-04:post_NeuroExamHeartRate y: 20-10:moderateSevereDisabilityOrDeath\n",
      "_corr_coeff: to eval: x: 03-04:post_NeuroExamHeartRate y: 20-10:disabilityLevelDeath4Category valid_x: 458 valid_y: 498\n",
      "_corr_coeff: done: x: 03-04:post_NeuroExamHeartRate y: 20-10:disabilityLevelDeath4Category\n",
      "_corr_coeff: to eval: x: 03-04:post_NeuroExamHeartRate y: 20-10_1:disabilityLevelDeath valid_x: 458 valid_y: 498\n",
      "_corr_coeff: done: x: 03-04:post_NeuroExamHeartRate y: 20-10_1:disabilityLevelDeath\n",
      "_corr_coeff: to eval: x: 03-04:post_NeuroExamHeartRate y: 20-04:BayleyIIICognitiveComposite valid_x: 458 valid_y: 421\n",
      "_corr_coeff: done: x: 03-04:post_NeuroExamHeartRate y: 20-04:BayleyIIICognitiveComposite\n",
      "_corr_coeff: to eval: x: 03-04:post_NeuroExamHeartRate y: 20-04:BayleyIIILanguageComposite valid_x: 458 valid_y: 411\n",
      "_corr_coeff: done: x: 03-04:post_NeuroExamHeartRate y: 20-04:BayleyIIILanguageComposite\n",
      "_corr_coeff: to eval: x: 03-04:post_NeuroExamHeartRate y: 20-04:BayleyIIIMotorComposite valid_x: 458 valid_y: 415\n",
      "_corr_coeff: done: x: 03-04:post_NeuroExamHeartRate y: 20-04:BayleyIIIMotorComposite\n"
     ]
    },
    {
     "name": "stdout",
     "output_type": "stream",
     "text": [
      "_corr_coeff: to eval: x: 03-04:post_NeuroExamRespiration y: 20-10:moderateSevereDisabilityOrDeath valid_x: 459 valid_y: 504\n",
      "_corr_coeff: done: x: 03-04:post_NeuroExamRespiration y: 20-10:moderateSevereDisabilityOrDeath\n",
      "_corr_coeff: to eval: x: 03-04:post_NeuroExamRespiration y: 20-10:disabilityLevelDeath4Category valid_x: 459 valid_y: 498\n",
      "_corr_coeff: done: x: 03-04:post_NeuroExamRespiration y: 20-10:disabilityLevelDeath4Category\n",
      "_corr_coeff: to eval: x: 03-04:post_NeuroExamRespiration y: 20-10_1:disabilityLevelDeath valid_x: 459 valid_y: 498\n",
      "_corr_coeff: done: x: 03-04:post_NeuroExamRespiration y: 20-10_1:disabilityLevelDeath\n",
      "_corr_coeff: to eval: x: 03-04:post_NeuroExamRespiration y: 20-04:BayleyIIICognitiveComposite valid_x: 459 valid_y: 421\n",
      "_corr_coeff: done: x: 03-04:post_NeuroExamRespiration y: 20-04:BayleyIIICognitiveComposite\n",
      "_corr_coeff: to eval: x: 03-04:post_NeuroExamRespiration y: 20-04:BayleyIIILanguageComposite valid_x: 459 valid_y: 411\n",
      "_corr_coeff: done: x: 03-04:post_NeuroExamRespiration y: 20-04:BayleyIIILanguageComposite\n"
     ]
    },
    {
     "name": "stderr",
     "output_type": "stream",
     "text": [
      "\r",
      " 48%|████▊     | 164/341 [00:35<00:38,  4.64it/s]"
     ]
    },
    {
     "name": "stderr",
     "output_type": "stream",
     "text": [
      "\r",
      " 48%|████▊     | 165/341 [00:35<00:36,  4.78it/s]"
     ]
    },
    {
     "name": "stdout",
     "output_type": "stream",
     "text": [
      "_corr_coeff: to eval: x: 03-04:post_NeuroExamRespiration y: 20-04:BayleyIIIMotorComposite valid_x: 459 valid_y: 415\n",
      "_corr_coeff: done: x: 03-04:post_NeuroExamRespiration y: 20-04:BayleyIIIMotorComposite\n",
      "_corr_coeff: to eval: x: 03-04:post_NeuroExamSeizure y: 20-10:moderateSevereDisabilityOrDeath valid_x: 459 valid_y: 504\n",
      "_corr_coeff: done: x: 03-04:post_NeuroExamSeizure y: 20-10:moderateSevereDisabilityOrDeath\n",
      "_corr_coeff: to eval: x: 03-04:post_NeuroExamSeizure y: 20-10:disabilityLevelDeath4Category valid_x: 459 valid_y: 498\n",
      "_corr_coeff: done: x: 03-04:post_NeuroExamSeizure y: 20-10:disabilityLevelDeath4Category\n",
      "_corr_coeff: to eval: x: 03-04:post_NeuroExamSeizure y: 20-10_1:disabilityLevelDeath valid_x: 459 valid_y: 498\n",
      "_corr_coeff: done: x: 03-04:post_NeuroExamSeizure y: 20-10_1:disabilityLevelDeath\n",
      "_corr_coeff: to eval: x: 03-04:post_NeuroExamSeizure y: 20-04:BayleyIIICognitiveComposite valid_x: 459 valid_y: 421\n",
      "_corr_coeff: done: x: 03-04:post_NeuroExamSeizure y: 20-04:BayleyIIICognitiveComposite\n",
      "_corr_coeff: to eval: x: 03-04:post_NeuroExamSeizure y: 20-04:BayleyIIILanguageComposite valid_x: 459 valid_y: 411\n",
      "_corr_coeff: done: x: 03-04:post_NeuroExamSeizure y: 20-04:BayleyIIILanguageComposite\n",
      "_corr_coeff: to eval: x: 03-04:post_NeuroExamSeizure y: 20-04:BayleyIIIMotorComposite valid_x: 459 valid_y: 415\n",
      "_corr_coeff: done: x: 03-04:post_NeuroExamSeizure y: 20-04:BayleyIIIMotorComposite\n"
     ]
    },
    {
     "name": "stderr",
     "output_type": "stream",
     "text": [
      "\r",
      " 49%|████▊     | 166/341 [00:36<00:35,  4.87it/s]"
     ]
    },
    {
     "name": "stdout",
     "output_type": "stream",
     "text": [
      "_corr_coeff: to eval: x: 03-04:post_NeuroExamSedate y: 20-10:moderateSevereDisabilityOrDeath valid_x: 459 valid_y: 504\n",
      "_corr_coeff: done: x: 03-04:post_NeuroExamSedate y: 20-10:moderateSevereDisabilityOrDeath\n",
      "_corr_coeff: to eval: x: 03-04:post_NeuroExamSedate y: 20-10:disabilityLevelDeath4Category valid_x: 459 valid_y: 498\n",
      "_corr_coeff: done: x: 03-04:post_NeuroExamSedate y: 20-10:disabilityLevelDeath4Category\n",
      "_corr_coeff: to eval: x: 03-04:post_NeuroExamSedate y: 20-10_1:disabilityLevelDeath valid_x: 459 valid_y: 498\n",
      "_corr_coeff: done: x: 03-04:post_NeuroExamSedate y: 20-10_1:disabilityLevelDeath\n",
      "_corr_coeff: to eval: x: 03-04:post_NeuroExamSedate y: 20-04:BayleyIIICognitiveComposite valid_x: 459 valid_y: 421\n",
      "_corr_coeff: done: x: 03-04:post_NeuroExamSedate y: 20-04:BayleyIIICognitiveComposite\n",
      "_corr_coeff: to eval: x: 03-04:post_NeuroExamSedate y: 20-04:BayleyIIILanguageComposite valid_x: 459 valid_y: 411\n",
      "_corr_coeff: done: x: 03-04:post_NeuroExamSedate y: 20-04:BayleyIIILanguageComposite\n",
      "_corr_coeff: to eval: x: 03-04:post_NeuroExamSedate y: 20-04:BayleyIIIMotorComposite valid_x: 459 valid_y: 415\n",
      "_corr_coeff: done: x: 03-04:post_NeuroExamSedate y: 20-04:BayleyIIIMotorComposite\n",
      "_corr_coeff: to eval: x: 03-04:post_NeuroExamClonusSustained y: 20-10:moderateSevereDisabilityOrDeath valid_x: 456 valid_y: 504\n",
      "_corr_coeff: done: x: 03-04:post_NeuroExamClonusSustained y: 20-10:moderateSevereDisabilityOrDeath\n"
     ]
    },
    {
     "name": "stderr",
     "output_type": "stream",
     "text": [
      "\r",
      " 49%|████▉     | 167/341 [00:36<00:37,  4.60it/s]"
     ]
    },
    {
     "name": "stdout",
     "output_type": "stream",
     "text": [
      "_corr_coeff: to eval: x: 03-04:post_NeuroExamClonusSustained y: 20-10:disabilityLevelDeath4Category valid_x: 456 valid_y: 498\n",
      "_corr_coeff: done: x: 03-04:post_NeuroExamClonusSustained y: 20-10:disabilityLevelDeath4Category\n",
      "_corr_coeff: to eval: x: 03-04:post_NeuroExamClonusSustained y: 20-10_1:disabilityLevelDeath valid_x: 456 valid_y: 498\n",
      "_corr_coeff: done: x: 03-04:post_NeuroExamClonusSustained y: 20-10_1:disabilityLevelDeath\n",
      "_corr_coeff: to eval: x: 03-04:post_NeuroExamClonusSustained y: 20-04:BayleyIIICognitiveComposite valid_x: 456 valid_y: 421\n",
      "_corr_coeff: done: x: 03-04:post_NeuroExamClonusSustained y: 20-04:BayleyIIICognitiveComposite\n",
      "_corr_coeff: to eval: x: 03-04:post_NeuroExamClonusSustained y: 20-04:BayleyIIILanguageComposite valid_x: 456 valid_y: 411\n",
      "_corr_coeff: done: x: 03-04:post_NeuroExamClonusSustained y: 20-04:BayleyIIILanguageComposite\n",
      "_corr_coeff: to eval: x: 03-04:post_NeuroExamClonusSustained y: 20-04:BayleyIIIMotorComposite valid_x: 456 valid_y: 415\n",
      "_corr_coeff: done: x: 03-04:post_NeuroExamClonusSustained y: 20-04:BayleyIIIMotorComposite\n"
     ]
    },
    {
     "name": "stderr",
     "output_type": "stream",
     "text": [
      "\r",
      " 49%|████▉     | 168/341 [00:36<00:36,  4.74it/s]"
     ]
    },
    {
     "name": "stdout",
     "output_type": "stream",
     "text": [
      "_corr_coeff: to eval: x: 03-04:post_NeuroExamFistedHand y: 20-10:moderateSevereDisabilityOrDeath valid_x: 455 valid_y: 504\n",
      "_corr_coeff: done: x: 03-04:post_NeuroExamFistedHand y: 20-10:moderateSevereDisabilityOrDeath\n",
      "_corr_coeff: to eval: x: 03-04:post_NeuroExamFistedHand y: 20-10:disabilityLevelDeath4Category valid_x: 455 valid_y: 498\n",
      "_corr_coeff: done: x: 03-04:post_NeuroExamFistedHand y: 20-10:disabilityLevelDeath4Category\n",
      "_corr_coeff: to eval: x: 03-04:post_NeuroExamFistedHand y: 20-10_1:disabilityLevelDeath valid_x: 455 valid_y: 498\n",
      "_corr_coeff: done: x: 03-04:post_NeuroExamFistedHand y: 20-10_1:disabilityLevelDeath\n",
      "_corr_coeff: to eval: x: 03-04:post_NeuroExamFistedHand y: 20-04:BayleyIIICognitiveComposite valid_x: 455 valid_y: 421\n",
      "_corr_coeff: done: x: 03-04:post_NeuroExamFistedHand y: 20-04:BayleyIIICognitiveComposite\n",
      "_corr_coeff: to eval: x: 03-04:post_NeuroExamFistedHand y: 20-04:BayleyIIILanguageComposite valid_x: 455 valid_y: 411\n",
      "_corr_coeff: done: x: 03-04:post_NeuroExamFistedHand y: 20-04:BayleyIIILanguageComposite\n",
      "_corr_coeff: to eval: x: 03-04:post_NeuroExamFistedHand y: 20-04:BayleyIIIMotorComposite valid_x: 455 valid_y: 415\n",
      "_corr_coeff: done: x: 03-04:post_NeuroExamFistedHand y: 20-04:BayleyIIIMotorComposite\n",
      "_corr_coeff: to eval: x: 03-04:post_NeuroExamAbnormalMovement y: 20-10:moderateSevereDisabilityOrDeath valid_x: 457 valid_y: 504\n",
      "_corr_coeff: done: x: 03-04:post_NeuroExamAbnormalMovement y: 20-10:moderateSevereDisabilityOrDeath\n"
     ]
    },
    {
     "name": "stderr",
     "output_type": "stream",
     "text": [
      "\r",
      " 50%|████▉     | 169/341 [00:36<00:38,  4.47it/s]"
     ]
    },
    {
     "name": "stdout",
     "output_type": "stream",
     "text": [
      "_corr_coeff: to eval: x: 03-04:post_NeuroExamAbnormalMovement y: 20-10:disabilityLevelDeath4Category valid_x: 457 valid_y: 498\n",
      "_corr_coeff: done: x: 03-04:post_NeuroExamAbnormalMovement y: 20-10:disabilityLevelDeath4Category\n",
      "_corr_coeff: to eval: x: 03-04:post_NeuroExamAbnormalMovement y: 20-10_1:disabilityLevelDeath valid_x: 457 valid_y: 498\n",
      "_corr_coeff: done: x: 03-04:post_NeuroExamAbnormalMovement y: 20-10_1:disabilityLevelDeath\n",
      "_corr_coeff: to eval: x: 03-04:post_NeuroExamAbnormalMovement y: 20-04:BayleyIIICognitiveComposite valid_x: 457 valid_y: 421\n",
      "_corr_coeff: done: x: 03-04:post_NeuroExamAbnormalMovement y: 20-04:BayleyIIICognitiveComposite\n",
      "_corr_coeff: to eval: x: 03-04:post_NeuroExamAbnormalMovement y: 20-04:BayleyIIILanguageComposite valid_x: 457 valid_y: 411\n",
      "_corr_coeff: done: x: 03-04:post_NeuroExamAbnormalMovement y: 20-04:BayleyIIILanguageComposite\n",
      "_corr_coeff: to eval: x: 03-04:post_NeuroExamAbnormalMovement y: 20-04:BayleyIIIMotorComposite valid_x: 457 valid_y: 415\n",
      "_corr_coeff: done: x: 03-04:post_NeuroExamAbnormalMovement y: 20-04:BayleyIIIMotorComposite\n"
     ]
    },
    {
     "name": "stderr",
     "output_type": "stream",
     "text": [
      "\r",
      " 50%|████▉     | 170/341 [00:37<00:36,  4.65it/s]"
     ]
    },
    {
     "name": "stdout",
     "output_type": "stream",
     "text": [
      "_corr_coeff: to eval: x: 03-04:post_NeuroExamGagReflexAbsent y: 20-10:moderateSevereDisabilityOrDeath valid_x: 451 valid_y: 504\n",
      "_corr_coeff: done: x: 03-04:post_NeuroExamGagReflexAbsent y: 20-10:moderateSevereDisabilityOrDeath\n",
      "_corr_coeff: to eval: x: 03-04:post_NeuroExamGagReflexAbsent y: 20-10:disabilityLevelDeath4Category valid_x: 451 valid_y: 498\n",
      "_corr_coeff: done: x: 03-04:post_NeuroExamGagReflexAbsent y: 20-10:disabilityLevelDeath4Category\n",
      "_corr_coeff: to eval: x: 03-04:post_NeuroExamGagReflexAbsent y: 20-10_1:disabilityLevelDeath valid_x: 451 valid_y: 498\n",
      "_corr_coeff: done: x: 03-04:post_NeuroExamGagReflexAbsent y: 20-10_1:disabilityLevelDeath\n",
      "_corr_coeff: to eval: x: 03-04:post_NeuroExamGagReflexAbsent y: 20-04:BayleyIIICognitiveComposite valid_x: 451 valid_y: 421\n",
      "_corr_coeff: done: x: 03-04:post_NeuroExamGagReflexAbsent y: 20-04:BayleyIIICognitiveComposite\n",
      "_corr_coeff: to eval: x: 03-04:post_NeuroExamGagReflexAbsent y: 20-04:BayleyIIILanguageComposite valid_x: 451 valid_y: 411\n",
      "_corr_coeff: done: x: 03-04:post_NeuroExamGagReflexAbsent y: 20-04:BayleyIIILanguageComposite\n",
      "_corr_coeff: to eval: x: 03-04:post_NeuroExamGagReflexAbsent y: 20-04:BayleyIIIMotorComposite valid_x: 451 valid_y: 415\n",
      "_corr_coeff: done: x: 03-04:post_NeuroExamGagReflexAbsent y: 20-04:BayleyIIIMotorComposite\n",
      "_corr_coeff: to eval: x: 03-04:post_NeuroExamHypertonia y: 20-10:moderateSevereDisabilityOrDeath valid_x: 151 valid_y: 504\n",
      "_corr_coeff: done: x: 03-04:post_NeuroExamHypertonia y: 20-10:moderateSevereDisabilityOrDeath\n"
     ]
    },
    {
     "name": "stderr",
     "output_type": "stream",
     "text": [
      "\r",
      " 50%|█████     | 171/341 [00:37<00:36,  4.63it/s]"
     ]
    },
    {
     "name": "stdout",
     "output_type": "stream",
     "text": [
      "_corr_coeff: to eval: x: 03-04:post_NeuroExamHypertonia y: 20-10:disabilityLevelDeath4Category valid_x: 151 valid_y: 498\n",
      "_corr_coeff: done: x: 03-04:post_NeuroExamHypertonia y: 20-10:disabilityLevelDeath4Category\n",
      "_corr_coeff: to eval: x: 03-04:post_NeuroExamHypertonia y: 20-10_1:disabilityLevelDeath valid_x: 151 valid_y: 498\n",
      "_corr_coeff: done: x: 03-04:post_NeuroExamHypertonia y: 20-10_1:disabilityLevelDeath\n",
      "_corr_coeff: to eval: x: 03-04:post_NeuroExamHypertonia y: 20-04:BayleyIIICognitiveComposite valid_x: 151 valid_y: 421\n",
      "_corr_coeff: done: x: 03-04:post_NeuroExamHypertonia y: 20-04:BayleyIIICognitiveComposite\n",
      "_corr_coeff: to eval: x: 03-04:post_NeuroExamHypertonia y: 20-04:BayleyIIILanguageComposite valid_x: 151 valid_y: 411\n",
      "_corr_coeff: done: x: 03-04:post_NeuroExamHypertonia y: 20-04:BayleyIIILanguageComposite\n",
      "_corr_coeff: to eval: x: 03-04:post_NeuroExamHypertonia y: 20-04:BayleyIIIMotorComposite valid_x: 151 valid_y: 415\n",
      "_corr_coeff: done: x: 03-04:post_NeuroExamHypertonia y: 20-04:BayleyIIIMotorComposite\n",
      "_corr_coeff: to eval: x: 03-04_1:post_NeuroExamLevelConsciousnessScore y: 20-10:moderateSevereDisabilityOrDeath valid_x: 460 valid_y: 504\n",
      "_corr_coeff: done: x: 03-04_1:post_NeuroExamLevelConsciousnessScore y: 20-10:moderateSevereDisabilityOrDeath\n"
     ]
    },
    {
     "name": "stderr",
     "output_type": "stream",
     "text": [
      "\r",
      " 50%|█████     | 172/341 [00:37<00:35,  4.73it/s]"
     ]
    },
    {
     "name": "stdout",
     "output_type": "stream",
     "text": [
      "_corr_coeff: to eval: x: 03-04_1:post_NeuroExamLevelConsciousnessScore y: 20-10:disabilityLevelDeath4Category valid_x: 460 valid_y: 498\n",
      "_corr_coeff: done: x: 03-04_1:post_NeuroExamLevelConsciousnessScore y: 20-10:disabilityLevelDeath4Category\n",
      "_corr_coeff: to eval: x: 03-04_1:post_NeuroExamLevelConsciousnessScore y: 20-10_1:disabilityLevelDeath valid_x: 460 valid_y: 498\n",
      "_corr_coeff: done: x: 03-04_1:post_NeuroExamLevelConsciousnessScore y: 20-10_1:disabilityLevelDeath\n",
      "_corr_coeff: to eval: x: 03-04_1:post_NeuroExamLevelConsciousnessScore y: 20-04:BayleyIIICognitiveComposite valid_x: 460 valid_y: 421\n",
      "_corr_coeff: done: x: 03-04_1:post_NeuroExamLevelConsciousnessScore y: 20-04:BayleyIIICognitiveComposite\n",
      "_corr_coeff: to eval: x: 03-04_1:post_NeuroExamLevelConsciousnessScore y: 20-04:BayleyIIILanguageComposite valid_x: 460 valid_y: 411\n",
      "_corr_coeff: done: x: 03-04_1:post_NeuroExamLevelConsciousnessScore y: 20-04:BayleyIIILanguageComposite\n",
      "_corr_coeff: to eval: x: 03-04_1:post_NeuroExamLevelConsciousnessScore y: 20-04:BayleyIIIMotorComposite valid_x: 460 valid_y: 415\n",
      "_corr_coeff: done: x: 03-04_1:post_NeuroExamLevelConsciousnessScore y: 20-04:BayleyIIIMotorComposite\n",
      "_corr_coeff: to eval: x: 03-04_1:post_NeuroExamSpontaneousActivityScore y: 20-10:moderateSevereDisabilityOrDeath valid_x: 460 valid_y: 504\n",
      "_corr_coeff: done: x: 03-04_1:post_NeuroExamSpontaneousActivityScore y: 20-10:moderateSevereDisabilityOrDeath\n"
     ]
    },
    {
     "name": "stderr",
     "output_type": "stream",
     "text": [
      "\r",
      " 51%|█████     | 173/341 [00:37<00:37,  4.44it/s]"
     ]
    },
    {
     "name": "stdout",
     "output_type": "stream",
     "text": [
      "_corr_coeff: to eval: x: 03-04_1:post_NeuroExamSpontaneousActivityScore y: 20-10:disabilityLevelDeath4Category valid_x: 460 valid_y: 498\n",
      "_corr_coeff: done: x: 03-04_1:post_NeuroExamSpontaneousActivityScore y: 20-10:disabilityLevelDeath4Category\n",
      "_corr_coeff: to eval: x: 03-04_1:post_NeuroExamSpontaneousActivityScore y: 20-10_1:disabilityLevelDeath valid_x: 460 valid_y: 498\n",
      "_corr_coeff: done: x: 03-04_1:post_NeuroExamSpontaneousActivityScore y: 20-10_1:disabilityLevelDeath\n",
      "_corr_coeff: to eval: x: 03-04_1:post_NeuroExamSpontaneousActivityScore y: 20-04:BayleyIIICognitiveComposite valid_x: 460 valid_y: 421\n",
      "_corr_coeff: done: x: 03-04_1:post_NeuroExamSpontaneousActivityScore y: 20-04:BayleyIIICognitiveComposite\n",
      "_corr_coeff: to eval: x: 03-04_1:post_NeuroExamSpontaneousActivityScore y: 20-04:BayleyIIILanguageComposite valid_x: 460 valid_y: 411\n",
      "_corr_coeff: done: x: 03-04_1:post_NeuroExamSpontaneousActivityScore y: 20-04:BayleyIIILanguageComposite\n",
      "_corr_coeff: to eval: x: 03-04_1:post_NeuroExamSpontaneousActivityScore y: 20-04:BayleyIIIMotorComposite valid_x: 460 valid_y: 415\n",
      "_corr_coeff: done: x: 03-04_1:post_NeuroExamSpontaneousActivityScore y: 20-04:BayleyIIIMotorComposite\n",
      "_corr_coeff: to eval: x: 03-04_1:post_NeuroExamPostureScore y: 20-10:moderateSevereDisabilityOrDeath valid_x: 460 valid_y: 504\n",
      "_corr_coeff: done: x: 03-04_1:post_NeuroExamPostureScore y: 20-10:moderateSevereDisabilityOrDeath\n",
      "_corr_coeff: to eval: x: 03-04_1:post_NeuroExamPostureScore y: 20-10:disabilityLevelDeath4Category valid_x: 460 valid_y: 498\n",
      "_corr_coeff: done: x: 03-04_1:post_NeuroExamPostureScore y: 20-10:disabilityLevelDeath4Category\n"
     ]
    },
    {
     "name": "stderr",
     "output_type": "stream",
     "text": [
      "\r",
      " 51%|█████     | 174/341 [00:37<00:36,  4.60it/s]"
     ]
    },
    {
     "name": "stdout",
     "output_type": "stream",
     "text": [
      "_corr_coeff: to eval: x: 03-04_1:post_NeuroExamPostureScore y: 20-10_1:disabilityLevelDeath valid_x: 460 valid_y: 498\n",
      "_corr_coeff: done: x: 03-04_1:post_NeuroExamPostureScore y: 20-10_1:disabilityLevelDeath\n",
      "_corr_coeff: to eval: x: 03-04_1:post_NeuroExamPostureScore y: 20-04:BayleyIIICognitiveComposite valid_x: 460 valid_y: 421\n",
      "_corr_coeff: done: x: 03-04_1:post_NeuroExamPostureScore y: 20-04:BayleyIIICognitiveComposite\n",
      "_corr_coeff: to eval: x: 03-04_1:post_NeuroExamPostureScore y: 20-04:BayleyIIILanguageComposite valid_x: 460 valid_y: 411\n",
      "_corr_coeff: done: x: 03-04_1:post_NeuroExamPostureScore y: 20-04:BayleyIIILanguageComposite\n",
      "_corr_coeff: to eval: x: 03-04_1:post_NeuroExamPostureScore y: 20-04:BayleyIIIMotorComposite valid_x: 460 valid_y: 415\n",
      "_corr_coeff: done: x: 03-04_1:post_NeuroExamPostureScore y: 20-04:BayleyIIIMotorComposite\n",
      "_corr_coeff: to eval: x: 03-04_1:post_NeuroExamToneScore y: 20-10:moderateSevereDisabilityOrDeath valid_x: 460 valid_y: 504\n",
      "_corr_coeff: done: x: 03-04_1:post_NeuroExamToneScore y: 20-10:moderateSevereDisabilityOrDeath\n"
     ]
    },
    {
     "name": "stderr",
     "output_type": "stream",
     "text": [
      "\r",
      " 51%|█████▏    | 175/341 [00:38<00:37,  4.41it/s]"
     ]
    },
    {
     "name": "stdout",
     "output_type": "stream",
     "text": [
      "_corr_coeff: to eval: x: 03-04_1:post_NeuroExamToneScore y: 20-10:disabilityLevelDeath4Category valid_x: 460 valid_y: 498\n",
      "_corr_coeff: done: x: 03-04_1:post_NeuroExamToneScore y: 20-10:disabilityLevelDeath4Category\n",
      "_corr_coeff: to eval: x: 03-04_1:post_NeuroExamToneScore y: 20-10_1:disabilityLevelDeath valid_x: 460 valid_y: 498\n",
      "_corr_coeff: done: x: 03-04_1:post_NeuroExamToneScore y: 20-10_1:disabilityLevelDeath\n",
      "_corr_coeff: to eval: x: 03-04_1:post_NeuroExamToneScore y: 20-04:BayleyIIICognitiveComposite valid_x: 460 valid_y: 421\n",
      "_corr_coeff: done: x: 03-04_1:post_NeuroExamToneScore y: 20-04:BayleyIIICognitiveComposite\n",
      "_corr_coeff: to eval: x: 03-04_1:post_NeuroExamToneScore y: 20-04:BayleyIIILanguageComposite valid_x: 460 valid_y: 411\n",
      "_corr_coeff: done: x: 03-04_1:post_NeuroExamToneScore y: 20-04:BayleyIIILanguageComposite\n",
      "_corr_coeff: to eval: x: 03-04_1:post_NeuroExamToneScore y: 20-04:BayleyIIIMotorComposite valid_x: 460 valid_y: 415\n",
      "_corr_coeff: done: x: 03-04_1:post_NeuroExamToneScore y: 20-04:BayleyIIIMotorComposite\n",
      "_corr_coeff: to eval: x: 03-04_1:post_NeuroExamSuckScore y: 20-10:moderateSevereDisabilityOrDeath valid_x: 460 valid_y: 504\n",
      "_corr_coeff: done: x: 03-04_1:post_NeuroExamSuckScore y: 20-10:moderateSevereDisabilityOrDeath\n",
      "_corr_coeff: to eval: x: 03-04_1:post_NeuroExamSuckScore y: 20-10:disabilityLevelDeath4Category valid_x: 460 valid_y: 498\n",
      "_corr_coeff: done: x: 03-04_1:post_NeuroExamSuckScore y: 20-10:disabilityLevelDeath4Category\n"
     ]
    },
    {
     "name": "stderr",
     "output_type": "stream",
     "text": [
      "\r",
      " 52%|█████▏    | 176/341 [00:38<00:38,  4.26it/s]"
     ]
    },
    {
     "name": "stdout",
     "output_type": "stream",
     "text": [
      "_corr_coeff: to eval: x: 03-04_1:post_NeuroExamSuckScore y: 20-10_1:disabilityLevelDeath valid_x: 460 valid_y: 498\n",
      "_corr_coeff: done: x: 03-04_1:post_NeuroExamSuckScore y: 20-10_1:disabilityLevelDeath\n",
      "_corr_coeff: to eval: x: 03-04_1:post_NeuroExamSuckScore y: 20-04:BayleyIIICognitiveComposite valid_x: 460 valid_y: 421\n",
      "_corr_coeff: done: x: 03-04_1:post_NeuroExamSuckScore y: 20-04:BayleyIIICognitiveComposite\n",
      "_corr_coeff: to eval: x: 03-04_1:post_NeuroExamSuckScore y: 20-04:BayleyIIILanguageComposite valid_x: 460 valid_y: 411\n",
      "_corr_coeff: done: x: 03-04_1:post_NeuroExamSuckScore y: 20-04:BayleyIIILanguageComposite\n",
      "_corr_coeff: to eval: x: 03-04_1:post_NeuroExamSuckScore y: 20-04:BayleyIIIMotorComposite valid_x: 460 valid_y: 415\n",
      "_corr_coeff: done: x: 03-04_1:post_NeuroExamSuckScore y: 20-04:BayleyIIIMotorComposite\n",
      "_corr_coeff: to eval: x: 03-04_1:post_NeuroExamMoroScore y: 20-10:moderateSevereDisabilityOrDeath valid_x: 460 valid_y: 504\n",
      "_corr_coeff: done: x: 03-04_1:post_NeuroExamMoroScore y: 20-10:moderateSevereDisabilityOrDeath\n"
     ]
    },
    {
     "name": "stderr",
     "output_type": "stream",
     "text": [
      "\r",
      " 52%|█████▏    | 177/341 [00:38<00:36,  4.47it/s]"
     ]
    },
    {
     "name": "stdout",
     "output_type": "stream",
     "text": [
      "_corr_coeff: to eval: x: 03-04_1:post_NeuroExamMoroScore y: 20-10:disabilityLevelDeath4Category valid_x: 460 valid_y: 498\n",
      "_corr_coeff: done: x: 03-04_1:post_NeuroExamMoroScore y: 20-10:disabilityLevelDeath4Category\n",
      "_corr_coeff: to eval: x: 03-04_1:post_NeuroExamMoroScore y: 20-10_1:disabilityLevelDeath valid_x: 460 valid_y: 498\n",
      "_corr_coeff: done: x: 03-04_1:post_NeuroExamMoroScore y: 20-10_1:disabilityLevelDeath\n",
      "_corr_coeff: to eval: x: 03-04_1:post_NeuroExamMoroScore y: 20-04:BayleyIIICognitiveComposite valid_x: 460 valid_y: 421\n",
      "_corr_coeff: done: x: 03-04_1:post_NeuroExamMoroScore y: 20-04:BayleyIIICognitiveComposite\n",
      "_corr_coeff: to eval: x: 03-04_1:post_NeuroExamMoroScore y: 20-04:BayleyIIILanguageComposite valid_x: 460 valid_y: 411\n",
      "_corr_coeff: done: x: 03-04_1:post_NeuroExamMoroScore y: 20-04:BayleyIIILanguageComposite\n",
      "_corr_coeff: to eval: x: 03-04_1:post_NeuroExamMoroScore y: 20-04:BayleyIIIMotorComposite valid_x: 460 valid_y: 415\n",
      "_corr_coeff: done: x: 03-04_1:post_NeuroExamMoroScore y: 20-04:BayleyIIIMotorComposite\n",
      "_corr_coeff: to eval: x: 03-04_1:post_NeuroExamPupilsScore y: 20-10:moderateSevereDisabilityOrDeath valid_x: 460 valid_y: 504\n",
      "_corr_coeff: done: x: 03-04_1:post_NeuroExamPupilsScore y: 20-10:moderateSevereDisabilityOrDeath\n",
      "_corr_coeff: to eval: x: 03-04_1:post_NeuroExamPupilsScore y: 20-10:disabilityLevelDeath4Category valid_x: 460 valid_y: 498\n",
      "_corr_coeff: done: x: 03-04_1:post_NeuroExamPupilsScore y: 20-10:disabilityLevelDeath4Category\n"
     ]
    },
    {
     "name": "stderr",
     "output_type": "stream",
     "text": [
      "\r",
      " 52%|█████▏    | 178/341 [00:38<00:37,  4.29it/s]"
     ]
    },
    {
     "name": "stdout",
     "output_type": "stream",
     "text": [
      "_corr_coeff: to eval: x: 03-04_1:post_NeuroExamPupilsScore y: 20-10_1:disabilityLevelDeath valid_x: 460 valid_y: 498\n",
      "_corr_coeff: done: x: 03-04_1:post_NeuroExamPupilsScore y: 20-10_1:disabilityLevelDeath\n",
      "_corr_coeff: to eval: x: 03-04_1:post_NeuroExamPupilsScore y: 20-04:BayleyIIICognitiveComposite valid_x: 460 valid_y: 421\n",
      "_corr_coeff: done: x: 03-04_1:post_NeuroExamPupilsScore y: 20-04:BayleyIIICognitiveComposite\n",
      "_corr_coeff: to eval: x: 03-04_1:post_NeuroExamPupilsScore y: 20-04:BayleyIIILanguageComposite valid_x: 460 valid_y: 411\n",
      "_corr_coeff: done: x: 03-04_1:post_NeuroExamPupilsScore y: 20-04:BayleyIIILanguageComposite\n",
      "_corr_coeff: to eval: x: 03-04_1:post_NeuroExamPupilsScore y: 20-04:BayleyIIIMotorComposite valid_x: 460 valid_y: 415\n",
      "_corr_coeff: done: x: 03-04_1:post_NeuroExamPupilsScore y: 20-04:BayleyIIIMotorComposite\n",
      "_corr_coeff: to eval: x: 03-04_1:post_NeuroExamHeartRateScore y: 20-10:moderateSevereDisabilityOrDeath valid_x: 460 valid_y: 504\n",
      "_corr_coeff: done: x: 03-04_1:post_NeuroExamHeartRateScore y: 20-10:moderateSevereDisabilityOrDeath\n"
     ]
    },
    {
     "name": "stderr",
     "output_type": "stream",
     "text": [
      "\r",
      " 52%|█████▏    | 179/341 [00:39<00:36,  4.49it/s]"
     ]
    },
    {
     "name": "stdout",
     "output_type": "stream",
     "text": [
      "_corr_coeff: to eval: x: 03-04_1:post_NeuroExamHeartRateScore y: 20-10:disabilityLevelDeath4Category valid_x: 460 valid_y: 498\n",
      "_corr_coeff: done: x: 03-04_1:post_NeuroExamHeartRateScore y: 20-10:disabilityLevelDeath4Category\n",
      "_corr_coeff: to eval: x: 03-04_1:post_NeuroExamHeartRateScore y: 20-10_1:disabilityLevelDeath valid_x: 460 valid_y: 498\n",
      "_corr_coeff: done: x: 03-04_1:post_NeuroExamHeartRateScore y: 20-10_1:disabilityLevelDeath\n",
      "_corr_coeff: to eval: x: 03-04_1:post_NeuroExamHeartRateScore y: 20-04:BayleyIIICognitiveComposite valid_x: 460 valid_y: 421\n",
      "_corr_coeff: done: x: 03-04_1:post_NeuroExamHeartRateScore y: 20-04:BayleyIIICognitiveComposite\n",
      "_corr_coeff: to eval: x: 03-04_1:post_NeuroExamHeartRateScore y: 20-04:BayleyIIILanguageComposite valid_x: 460 valid_y: 411\n",
      "_corr_coeff: done: x: 03-04_1:post_NeuroExamHeartRateScore y: 20-04:BayleyIIILanguageComposite\n",
      "_corr_coeff: to eval: x: 03-04_1:post_NeuroExamHeartRateScore y: 20-04:BayleyIIIMotorComposite valid_x: 460 valid_y: 415\n",
      "_corr_coeff: done: x: 03-04_1:post_NeuroExamHeartRateScore y: 20-04:BayleyIIIMotorComposite\n",
      "_corr_coeff: to eval: x: 03-04_1:post_NeuroExamRespirationScore y: 20-10:moderateSevereDisabilityOrDeath valid_x: 460 valid_y: 504\n",
      "_corr_coeff: done: x: 03-04_1:post_NeuroExamRespirationScore y: 20-10:moderateSevereDisabilityOrDeath\n",
      "_corr_coeff: to eval: x: 03-04_1:post_NeuroExamRespirationScore y: 20-10:disabilityLevelDeath4Category valid_x: 460 valid_y: 498\n",
      "_corr_coeff: done: x: 03-04_1:post_NeuroExamRespirationScore y: 20-10:disabilityLevelDeath4Category\n"
     ]
    },
    {
     "name": "stderr",
     "output_type": "stream",
     "text": [
      "\r",
      " 53%|█████▎    | 180/341 [00:39<00:37,  4.33it/s]"
     ]
    },
    {
     "name": "stdout",
     "output_type": "stream",
     "text": [
      "_corr_coeff: to eval: x: 03-04_1:post_NeuroExamRespirationScore y: 20-10_1:disabilityLevelDeath valid_x: 460 valid_y: 498\n",
      "_corr_coeff: done: x: 03-04_1:post_NeuroExamRespirationScore y: 20-10_1:disabilityLevelDeath\n",
      "_corr_coeff: to eval: x: 03-04_1:post_NeuroExamRespirationScore y: 20-04:BayleyIIICognitiveComposite valid_x: 460 valid_y: 421\n",
      "_corr_coeff: done: x: 03-04_1:post_NeuroExamRespirationScore y: 20-04:BayleyIIICognitiveComposite\n",
      "_corr_coeff: to eval: x: 03-04_1:post_NeuroExamRespirationScore y: 20-04:BayleyIIILanguageComposite valid_x: 460 valid_y: 411\n",
      "_corr_coeff: done: x: 03-04_1:post_NeuroExamRespirationScore y: 20-04:BayleyIIILanguageComposite\n",
      "_corr_coeff: to eval: x: 03-04_1:post_NeuroExamRespirationScore y: 20-04:BayleyIIIMotorComposite valid_x: 460 valid_y: 415\n",
      "_corr_coeff: done: x: 03-04_1:post_NeuroExamRespirationScore y: 20-04:BayleyIIIMotorComposite\n",
      "_corr_coeff: to eval: x: 03-04_1:post_NeuroExamReflexScore y: 20-10:moderateSevereDisabilityOrDeath valid_x: 460 valid_y: 504\n",
      "_corr_coeff: done: x: 03-04_1:post_NeuroExamReflexScore y: 20-10:moderateSevereDisabilityOrDeath\n"
     ]
    },
    {
     "name": "stderr",
     "output_type": "stream",
     "text": [
      "\r",
      " 53%|█████▎    | 181/341 [00:39<00:35,  4.50it/s]"
     ]
    },
    {
     "name": "stdout",
     "output_type": "stream",
     "text": [
      "_corr_coeff: to eval: x: 03-04_1:post_NeuroExamReflexScore y: 20-10:disabilityLevelDeath4Category valid_x: 460 valid_y: 498\n",
      "_corr_coeff: done: x: 03-04_1:post_NeuroExamReflexScore y: 20-10:disabilityLevelDeath4Category\n",
      "_corr_coeff: to eval: x: 03-04_1:post_NeuroExamReflexScore y: 20-10_1:disabilityLevelDeath valid_x: 460 valid_y: 498\n",
      "_corr_coeff: done: x: 03-04_1:post_NeuroExamReflexScore y: 20-10_1:disabilityLevelDeath\n",
      "_corr_coeff: to eval: x: 03-04_1:post_NeuroExamReflexScore y: 20-04:BayleyIIICognitiveComposite valid_x: 460 valid_y: 421\n",
      "_corr_coeff: done: x: 03-04_1:post_NeuroExamReflexScore y: 20-04:BayleyIIICognitiveComposite\n",
      "_corr_coeff: to eval: x: 03-04_1:post_NeuroExamReflexScore y: 20-04:BayleyIIILanguageComposite valid_x: 460 valid_y: 411\n",
      "_corr_coeff: done: x: 03-04_1:post_NeuroExamReflexScore y: 20-04:BayleyIIILanguageComposite\n",
      "_corr_coeff: to eval: x: 03-04_1:post_NeuroExamReflexScore y: 20-04:BayleyIIIMotorComposite valid_x: 460 valid_y: 415\n",
      "_corr_coeff: done: x: 03-04_1:post_NeuroExamReflexScore y: 20-04:BayleyIIIMotorComposite\n",
      "_corr_coeff: to eval: x: 03-04_1:post_NeuroExamANSScore y: 20-10:moderateSevereDisabilityOrDeath valid_x: 460 valid_y: 504\n",
      "_corr_coeff: done: x: 03-04_1:post_NeuroExamANSScore y: 20-10:moderateSevereDisabilityOrDeath\n",
      "_corr_coeff: to eval: x: 03-04_1:post_NeuroExamANSScore y: 20-10:disabilityLevelDeath4Category valid_x: 460 valid_y: 498\n",
      "_corr_coeff: done: x: 03-04_1:post_NeuroExamANSScore y: 20-10:disabilityLevelDeath4Category\n"
     ]
    },
    {
     "name": "stderr",
     "output_type": "stream",
     "text": [
      "\r",
      " 53%|█████▎    | 182/341 [00:39<00:36,  4.32it/s]"
     ]
    },
    {
     "name": "stdout",
     "output_type": "stream",
     "text": [
      "_corr_coeff: to eval: x: 03-04_1:post_NeuroExamANSScore y: 20-10_1:disabilityLevelDeath valid_x: 460 valid_y: 498\n",
      "_corr_coeff: done: x: 03-04_1:post_NeuroExamANSScore y: 20-10_1:disabilityLevelDeath\n",
      "_corr_coeff: to eval: x: 03-04_1:post_NeuroExamANSScore y: 20-04:BayleyIIICognitiveComposite valid_x: 460 valid_y: 421\n",
      "_corr_coeff: done: x: 03-04_1:post_NeuroExamANSScore y: 20-04:BayleyIIICognitiveComposite\n",
      "_corr_coeff: to eval: x: 03-04_1:post_NeuroExamANSScore y: 20-04:BayleyIIILanguageComposite valid_x: 460 valid_y: 411\n",
      "_corr_coeff: done: x: 03-04_1:post_NeuroExamANSScore y: 20-04:BayleyIIILanguageComposite\n",
      "_corr_coeff: to eval: x: 03-04_1:post_NeuroExamANSScore y: 20-04:BayleyIIIMotorComposite valid_x: 460 valid_y: 415\n",
      "_corr_coeff: done: x: 03-04_1:post_NeuroExamANSScore y: 20-04:BayleyIIIMotorComposite\n",
      "_corr_coeff: to eval: x: 03-04_1:post_TotalModifiedSarnatScore y: 20-10:moderateSevereDisabilityOrDeath valid_x: 460 valid_y: 504\n",
      "_corr_coeff: done: x: 03-04_1:post_TotalModifiedSarnatScore y: 20-10:moderateSevereDisabilityOrDeath\n",
      "_corr_coeff: to eval: x: 03-04_1:post_TotalModifiedSarnatScore y: 20-10:disabilityLevelDeath4Category valid_x: 460 valid_y: 498\n",
      "_corr_coeff: done: x: 03-04_1:post_TotalModifiedSarnatScore y: 20-10:disabilityLevelDeath4Category\n",
      "_corr_coeff: to eval: x: 03-04_1:post_TotalModifiedSarnatScore y: 20-10_1:disabilityLevelDeath valid_x: 460 valid_y: 498\n",
      "_corr_coeff: done: x: 03-04_1:post_TotalModifiedSarnatScore y: 20-10_1:disabilityLevelDeath\n"
     ]
    },
    {
     "name": "stderr",
     "output_type": "stream",
     "text": [
      "\r",
      " 54%|█████▎    | 183/341 [00:39<00:35,  4.47it/s]"
     ]
    },
    {
     "name": "stdout",
     "output_type": "stream",
     "text": [
      "_corr_coeff: to eval: x: 03-04_1:post_TotalModifiedSarnatScore y: 20-04:BayleyIIICognitiveComposite valid_x: 460 valid_y: 421\n",
      "_corr_coeff: done: x: 03-04_1:post_TotalModifiedSarnatScore y: 20-04:BayleyIIICognitiveComposite\n",
      "_corr_coeff: to eval: x: 03-04_1:post_TotalModifiedSarnatScore y: 20-04:BayleyIIILanguageComposite valid_x: 460 valid_y: 411\n",
      "_corr_coeff: done: x: 03-04_1:post_TotalModifiedSarnatScore y: 20-04:BayleyIIILanguageComposite\n",
      "_corr_coeff: to eval: x: 03-04_1:post_TotalModifiedSarnatScore y: 20-04:BayleyIIIMotorComposite valid_x: 460 valid_y: 415\n",
      "_corr_coeff: done: x: 03-04_1:post_TotalModifiedSarnatScore y: 20-04:BayleyIIIMotorComposite\n",
      "_corr_coeff: to eval: x: 03-05:MRINRNPatternOfInjury:1 y: 20-10:moderateSevereDisabilityOrDeath valid_x: 355 valid_y: 504\n",
      "_corr_coeff: done: x: 03-05:MRINRNPatternOfInjury:1 y: 20-10:moderateSevereDisabilityOrDeath\n",
      "_corr_coeff: to eval: x: 03-05:MRINRNPatternOfInjury:1 y: 20-10:disabilityLevelDeath4Category valid_x: 355 valid_y: 498\n",
      "_corr_coeff: done: x: 03-05:MRINRNPatternOfInjury:1 y: 20-10:disabilityLevelDeath4Category\n"
     ]
    },
    {
     "name": "stderr",
     "output_type": "stream",
     "text": [
      "\r",
      " 54%|█████▍    | 184/341 [00:40<00:36,  4.34it/s]"
     ]
    },
    {
     "name": "stdout",
     "output_type": "stream",
     "text": [
      "_corr_coeff: to eval: x: 03-05:MRINRNPatternOfInjury:1 y: 20-10_1:disabilityLevelDeath valid_x: 355 valid_y: 498\n",
      "_corr_coeff: done: x: 03-05:MRINRNPatternOfInjury:1 y: 20-10_1:disabilityLevelDeath\n",
      "_corr_coeff: to eval: x: 03-05:MRINRNPatternOfInjury:1 y: 20-04:BayleyIIICognitiveComposite valid_x: 355 valid_y: 421\n",
      "_corr_coeff: done: x: 03-05:MRINRNPatternOfInjury:1 y: 20-04:BayleyIIICognitiveComposite\n",
      "_corr_coeff: to eval: x: 03-05:MRINRNPatternOfInjury:1 y: 20-04:BayleyIIILanguageComposite valid_x: 355 valid_y: 411\n",
      "_corr_coeff: done: x: 03-05:MRINRNPatternOfInjury:1 y: 20-04:BayleyIIILanguageComposite\n",
      "_corr_coeff: to eval: x: 03-05:MRINRNPatternOfInjury:1 y: 20-04:BayleyIIIMotorComposite valid_x: 355 valid_y: 415\n",
      "_corr_coeff: done: x: 03-05:MRINRNPatternOfInjury:1 y: 20-04:BayleyIIIMotorComposite\n",
      "_corr_coeff: to eval: x: 03-05:MRINRNPatternOfInjury:2 y: 20-10:moderateSevereDisabilityOrDeath valid_x: 354 valid_y: 504\n",
      "_corr_coeff: done: x: 03-05:MRINRNPatternOfInjury:2 y: 20-10:moderateSevereDisabilityOrDeath\n",
      "_corr_coeff: to eval: x: 03-05:MRINRNPatternOfInjury:2 y: 20-10:disabilityLevelDeath4Category valid_x: 354 valid_y: 498\n",
      "_corr_coeff: done: x: 03-05:MRINRNPatternOfInjury:2 y: 20-10:disabilityLevelDeath4Category\n",
      "_corr_coeff: to eval: x: 03-05:MRINRNPatternOfInjury:2 y: 20-10_1:disabilityLevelDeath valid_x: 354 valid_y: 498\n",
      "_corr_coeff: done: x: 03-05:MRINRNPatternOfInjury:2 y: 20-10_1:disabilityLevelDeath\n"
     ]
    },
    {
     "name": "stderr",
     "output_type": "stream",
     "text": [
      "\r",
      " 54%|█████▍    | 185/341 [00:40<00:34,  4.55it/s]"
     ]
    },
    {
     "name": "stdout",
     "output_type": "stream",
     "text": [
      "_corr_coeff: to eval: x: 03-05:MRINRNPatternOfInjury:2 y: 20-04:BayleyIIICognitiveComposite valid_x: 354 valid_y: 421\n",
      "_corr_coeff: done: x: 03-05:MRINRNPatternOfInjury:2 y: 20-04:BayleyIIICognitiveComposite\n",
      "_corr_coeff: to eval: x: 03-05:MRINRNPatternOfInjury:2 y: 20-04:BayleyIIILanguageComposite valid_x: 354 valid_y: 411\n",
      "_corr_coeff: done: x: 03-05:MRINRNPatternOfInjury:2 y: 20-04:BayleyIIILanguageComposite\n",
      "_corr_coeff: to eval: x: 03-05:MRINRNPatternOfInjury:2 y: 20-04:BayleyIIIMotorComposite valid_x: 354 valid_y: 415\n",
      "_corr_coeff: done: x: 03-05:MRINRNPatternOfInjury:2 y: 20-04:BayleyIIIMotorComposite\n",
      "_corr_coeff: to eval: x: 03-05:MRINRNPatternOfInjury:3 y: 20-10:moderateSevereDisabilityOrDeath valid_x: 189 valid_y: 504\n",
      "_corr_coeff: done: x: 03-05:MRINRNPatternOfInjury:3 y: 20-10:moderateSevereDisabilityOrDeath\n",
      "_corr_coeff: to eval: x: 03-05:MRINRNPatternOfInjury:3 y: 20-10:disabilityLevelDeath4Category valid_x: 189 valid_y: 498\n",
      "_corr_coeff: done: x: 03-05:MRINRNPatternOfInjury:3 y: 20-10:disabilityLevelDeath4Category\n",
      "_corr_coeff: to eval: x: 03-05:MRINRNPatternOfInjury:3 y: 20-10_1:disabilityLevelDeath valid_x: 189 valid_y: 498\n",
      "_corr_coeff: done: x: 03-05:MRINRNPatternOfInjury:3 y: 20-10_1:disabilityLevelDeath\n"
     ]
    },
    {
     "name": "stderr",
     "output_type": "stream",
     "text": [
      "\r",
      " 55%|█████▍    | 186/341 [00:40<00:33,  4.56it/s]"
     ]
    },
    {
     "name": "stdout",
     "output_type": "stream",
     "text": [
      "_corr_coeff: to eval: x: 03-05:MRINRNPatternOfInjury:3 y: 20-04:BayleyIIICognitiveComposite valid_x: 189 valid_y: 421\n",
      "_corr_coeff: done: x: 03-05:MRINRNPatternOfInjury:3 y: 20-04:BayleyIIICognitiveComposite\n",
      "_corr_coeff: to eval: x: 03-05:MRINRNPatternOfInjury:3 y: 20-04:BayleyIIILanguageComposite valid_x: 189 valid_y: 411\n",
      "_corr_coeff: done: x: 03-05:MRINRNPatternOfInjury:3 y: 20-04:BayleyIIILanguageComposite\n",
      "_corr_coeff: to eval: x: 03-05:MRINRNPatternOfInjury:3 y: 20-04:BayleyIIIMotorComposite valid_x: 189 valid_y: 415\n",
      "_corr_coeff: done: x: 03-05:MRINRNPatternOfInjury:3 y: 20-04:BayleyIIIMotorComposite\n",
      "_corr_coeff: to eval: x: 03-05_s:MRIAvailable y: 20-10:moderateSevereDisabilityOrDeath valid_x: 477 valid_y: 504\n",
      "_corr_coeff: done: x: 03-05_s:MRIAvailable y: 20-10:moderateSevereDisabilityOrDeath\n",
      "_corr_coeff: to eval: x: 03-05_s:MRIAvailable y: 20-10:disabilityLevelDeath4Category valid_x: 477 valid_y: 498\n",
      "_corr_coeff: done: x: 03-05_s:MRIAvailable y: 20-10:disabilityLevelDeath4Category\n",
      "_corr_coeff: to eval: x: 03-05_s:MRIAvailable y: 20-10_1:disabilityLevelDeath valid_x: 477 valid_y: 498\n",
      "_corr_coeff: done: x: 03-05_s:MRIAvailable y: 20-10_1:disabilityLevelDeath\n",
      "_corr_coeff: to eval: x: 03-05_s:MRIAvailable y: 20-04:BayleyIIICognitiveComposite valid_x: 477 valid_y: 421\n",
      "_corr_coeff: done: x: 03-05_s:MRIAvailable y: 20-04:BayleyIIICognitiveComposite\n"
     ]
    },
    {
     "name": "stderr",
     "output_type": "stream",
     "text": [
      "\r",
      " 55%|█████▍    | 187/341 [00:40<00:32,  4.71it/s]"
     ]
    },
    {
     "name": "stdout",
     "output_type": "stream",
     "text": [
      "_corr_coeff: to eval: x: 03-05_s:MRIAvailable y: 20-04:BayleyIIILanguageComposite valid_x: 477 valid_y: 411\n",
      "_corr_coeff: done: x: 03-05_s:MRIAvailable y: 20-04:BayleyIIILanguageComposite\n",
      "_corr_coeff: to eval: x: 03-05_s:MRIAvailable y: 20-04:BayleyIIIMotorComposite valid_x: 477 valid_y: 415\n",
      "_corr_coeff: done: x: 03-05_s:MRIAvailable y: 20-04:BayleyIIIMotorComposite\n",
      "_corr_coeff: to eval: x: 03-05_s:MRIAvailable_c y: 20-10:moderateSevereDisabilityOrDeath valid_x: 327 valid_y: 504\n",
      "_corr_coeff: done: x: 03-05_s:MRIAvailable_c y: 20-10:moderateSevereDisabilityOrDeath\n",
      "_corr_coeff: to eval: x: 03-05_s:MRIAvailable_c y: 20-10:disabilityLevelDeath4Category valid_x: 327 valid_y: 498\n",
      "_corr_coeff: done: x: 03-05_s:MRIAvailable_c y: 20-10:disabilityLevelDeath4Category\n",
      "_corr_coeff: to eval: x: 03-05_s:MRIAvailable_c y: 20-10_1:disabilityLevelDeath valid_x: 327 valid_y: 498\n",
      "_corr_coeff: done: x: 03-05_s:MRIAvailable_c y: 20-10_1:disabilityLevelDeath\n",
      "_corr_coeff: to eval: x: 03-05_s:MRIAvailable_c y: 20-04:BayleyIIICognitiveComposite valid_x: 327 valid_y: 421\n",
      "_corr_coeff: done: x: 03-05_s:MRIAvailable_c y: 20-04:BayleyIIICognitiveComposite\n",
      "_corr_coeff: to eval: x: 03-05_s:MRIAvailable_c y: 20-04:BayleyIIILanguageComposite valid_x: 327 valid_y: 411\n",
      "_corr_coeff: done: x: 03-05_s:MRIAvailable_c y: 20-04:BayleyIIILanguageComposite\n"
     ]
    },
    {
     "name": "stderr",
     "output_type": "stream",
     "text": [
      "\r",
      " 55%|█████▌    | 188/341 [00:40<00:31,  4.91it/s]"
     ]
    },
    {
     "name": "stderr",
     "output_type": "stream",
     "text": [
      "\r",
      " 55%|█████▌    | 189/341 [00:41<00:29,  5.24it/s]"
     ]
    },
    {
     "name": "stdout",
     "output_type": "stream",
     "text": [
      "_corr_coeff: to eval: x: 03-05_s:MRIAvailable_c y: 20-04:BayleyIIIMotorComposite valid_x: 327 valid_y: 415\n",
      "_corr_coeff: done: x: 03-05_s:MRIAvailable_c y: 20-04:BayleyIIIMotorComposite\n",
      "_corr_coeff: to eval: x: 03-05_s:MRIObtain y: 20-10:moderateSevereDisabilityOrDeath valid_x: 148 valid_y: 504\n",
      "_corr_coeff: done: x: 03-05_s:MRIObtain y: 20-10:moderateSevereDisabilityOrDeath\n",
      "_corr_coeff: to eval: x: 03-05_s:MRIObtain y: 20-10:disabilityLevelDeath4Category valid_x: 148 valid_y: 498\n",
      "_corr_coeff: done: x: 03-05_s:MRIObtain y: 20-10:disabilityLevelDeath4Category\n",
      "_corr_coeff: to eval: x: 03-05_s:MRIObtain y: 20-10_1:disabilityLevelDeath valid_x: 148 valid_y: 498\n",
      "_corr_coeff: done: x: 03-05_s:MRIObtain y: 20-10_1:disabilityLevelDeath\n",
      "_corr_coeff: to eval: x: 03-05_s:MRIObtain y: 20-04:BayleyIIICognitiveComposite valid_x: 148 valid_y: 421\n",
      "_corr_coeff: done: x: 03-05_s:MRIObtain y: 20-04:BayleyIIICognitiveComposite\n",
      "_corr_coeff: to eval: x: 03-05_s:MRIObtain y: 20-04:BayleyIIILanguageComposite valid_x: 148 valid_y: 411\n",
      "_corr_coeff: done: x: 03-05_s:MRIObtain y: 20-04:BayleyIIILanguageComposite\n",
      "_corr_coeff: to eval: x: 03-05_s:MRIObtain y: 20-04:BayleyIIIMotorComposite valid_x: 148 valid_y: 415\n",
      "_corr_coeff: done: x: 03-05_s:MRIObtain y: 20-04:BayleyIIIMotorComposite\n",
      "_corr_coeff: to eval: x: 03-05_s:MRI2LevelPatternOfInjury y: 20-10:moderateSevereDisabilityOrDeath valid_x: 426 valid_y: 504\n",
      "_corr_coeff: done: x: 03-05_s:MRI2LevelPatternOfInjury y: 20-10:moderateSevereDisabilityOrDeath\n"
     ]
    },
    {
     "name": "stderr",
     "output_type": "stream",
     "text": [
      "\r",
      " 56%|█████▌    | 190/341 [00:41<00:29,  5.18it/s]"
     ]
    },
    {
     "name": "stdout",
     "output_type": "stream",
     "text": [
      "_corr_coeff: to eval: x: 03-05_s:MRI2LevelPatternOfInjury y: 20-10:disabilityLevelDeath4Category valid_x: 426 valid_y: 498\n",
      "_corr_coeff: done: x: 03-05_s:MRI2LevelPatternOfInjury y: 20-10:disabilityLevelDeath4Category\n",
      "_corr_coeff: to eval: x: 03-05_s:MRI2LevelPatternOfInjury y: 20-10_1:disabilityLevelDeath valid_x: 426 valid_y: 498\n",
      "_corr_coeff: done: x: 03-05_s:MRI2LevelPatternOfInjury y: 20-10_1:disabilityLevelDeath\n",
      "_corr_coeff: to eval: x: 03-05_s:MRI2LevelPatternOfInjury y: 20-04:BayleyIIICognitiveComposite valid_x: 426 valid_y: 421\n",
      "_corr_coeff: done: x: 03-05_s:MRI2LevelPatternOfInjury y: 20-04:BayleyIIICognitiveComposite\n",
      "_corr_coeff: to eval: x: 03-05_s:MRI2LevelPatternOfInjury y: 20-04:BayleyIIILanguageComposite valid_x: 426 valid_y: 411\n",
      "_corr_coeff: done: x: 03-05_s:MRI2LevelPatternOfInjury y: 20-04:BayleyIIILanguageComposite\n",
      "_corr_coeff: to eval: x: 03-05_s:MRI2LevelPatternOfInjury y: 20-04:BayleyIIIMotorComposite valid_x: 426 valid_y: 415\n",
      "_corr_coeff: done: x: 03-05_s:MRI2LevelPatternOfInjury y: 20-04:BayleyIIIMotorComposite\n",
      "_corr_coeff: to eval: x: 03-05_s:MRIAge_day y: 20-10:moderateSevereDisabilityOrDeath valid_x: 426 valid_y: 504\n",
      "_corr_coeff: done: x: 03-05_s:MRIAge_day y: 20-10:moderateSevereDisabilityOrDeath\n",
      "_corr_coeff: to eval: x: 03-05_s:MRIAge_day y: 20-10:disabilityLevelDeath4Category valid_x: 426 valid_y: 498\n",
      "_corr_coeff: done: x: 03-05_s:MRIAge_day y: 20-10:disabilityLevelDeath4Category\n"
     ]
    },
    {
     "name": "stderr",
     "output_type": "stream",
     "text": [
      "\r",
      " 56%|█████▌    | 191/341 [00:41<00:29,  5.15it/s]"
     ]
    },
    {
     "name": "stdout",
     "output_type": "stream",
     "text": [
      "_corr_coeff: to eval: x: 03-05_s:MRIAge_day y: 20-10_1:disabilityLevelDeath valid_x: 426 valid_y: 498\n",
      "_corr_coeff: done: x: 03-05_s:MRIAge_day y: 20-10_1:disabilityLevelDeath\n",
      "_corr_coeff: to eval: x: 03-05_s:MRIAge_day y: 20-04:BayleyIIICognitiveComposite valid_x: 426 valid_y: 421\n",
      "_corr_coeff: done: x: 03-05_s:MRIAge_day y: 20-04:BayleyIIICognitiveComposite\n",
      "_corr_coeff: to eval: x: 03-05_s:MRIAge_day y: 20-04:BayleyIIILanguageComposite valid_x: 426 valid_y: 411\n",
      "_corr_coeff: done: x: 03-05_s:MRIAge_day y: 20-04:BayleyIIILanguageComposite\n",
      "_corr_coeff: to eval: x: 03-05_s:MRIAge_day y: 20-04:BayleyIIIMotorComposite valid_x: 426 valid_y: 415\n",
      "_corr_coeff: done: x: 03-05_s:MRIAge_day y: 20-04:BayleyIIIMotorComposite\n",
      "_corr_coeff: to eval: x: 03-05_s:MRIOverallDiagnosisMerge y: 20-10:moderateSevereDisabilityOrDeath valid_x: 298 valid_y: 504\n",
      "_corr_coeff: done: x: 03-05_s:MRIOverallDiagnosisMerge y: 20-10:moderateSevereDisabilityOrDeath\n",
      "_corr_coeff: to eval: x: 03-05_s:MRIOverallDiagnosisMerge y: 20-10:disabilityLevelDeath4Category valid_x: 298 valid_y: 498\n",
      "_corr_coeff: done: x: 03-05_s:MRIOverallDiagnosisMerge y: 20-10:disabilityLevelDeath4Category\n"
     ]
    },
    {
     "name": "stderr",
     "output_type": "stream",
     "text": [
      "\r",
      " 56%|█████▋    | 192/341 [00:41<00:30,  4.85it/s]"
     ]
    },
    {
     "name": "stdout",
     "output_type": "stream",
     "text": [
      "_corr_coeff: to eval: x: 03-05_s:MRIOverallDiagnosisMerge y: 20-10_1:disabilityLevelDeath valid_x: 298 valid_y: 498\n",
      "_corr_coeff: done: x: 03-05_s:MRIOverallDiagnosisMerge y: 20-10_1:disabilityLevelDeath\n",
      "_corr_coeff: to eval: x: 03-05_s:MRIOverallDiagnosisMerge y: 20-04:BayleyIIICognitiveComposite valid_x: 298 valid_y: 421\n",
      "_corr_coeff: done: x: 03-05_s:MRIOverallDiagnosisMerge y: 20-04:BayleyIIICognitiveComposite\n",
      "_corr_coeff: to eval: x: 03-05_s:MRIOverallDiagnosisMerge y: 20-04:BayleyIIILanguageComposite valid_x: 298 valid_y: 411\n",
      "_corr_coeff: done: x: 03-05_s:MRIOverallDiagnosisMerge y: 20-04:BayleyIIILanguageComposite\n",
      "_corr_coeff: to eval: x: 03-05_s:MRIOverallDiagnosisMerge y: 20-04:BayleyIIIMotorComposite valid_x: 298 valid_y: 415\n",
      "_corr_coeff: done: x: 03-05_s:MRIOverallDiagnosisMerge y: 20-04:BayleyIIIMotorComposite\n",
      "_corr_coeff: to eval: x: 03-05_s:MRINRNPatternOfInjury y: 20-10:moderateSevereDisabilityOrDeath valid_x: 426 valid_y: 504\n",
      "_corr_coeff: done: x: 03-05_s:MRINRNPatternOfInjury y: 20-10:moderateSevereDisabilityOrDeath\n",
      "_corr_coeff: to eval: x: 03-05_s:MRINRNPatternOfInjury y: 20-10:disabilityLevelDeath4Category valid_x: 426 valid_y: 498\n",
      "_corr_coeff: done: x: 03-05_s:MRINRNPatternOfInjury y: 20-10:disabilityLevelDeath4Category\n",
      "_corr_coeff: to eval: x: 03-05_s:MRINRNPatternOfInjury y: 20-10_1:disabilityLevelDeath valid_x: 426 valid_y: 498\n",
      "_corr_coeff: done: x: 03-05_s:MRINRNPatternOfInjury y: 20-10_1:disabilityLevelDeath\n"
     ]
    },
    {
     "name": "stderr",
     "output_type": "stream",
     "text": [
      "\r",
      " 57%|█████▋    | 193/341 [00:41<00:30,  4.93it/s]"
     ]
    },
    {
     "name": "stdout",
     "output_type": "stream",
     "text": [
      "_corr_coeff: to eval: x: 03-05_s:MRINRNPatternOfInjury y: 20-04:BayleyIIICognitiveComposite valid_x: 426 valid_y: 421\n",
      "_corr_coeff: done: x: 03-05_s:MRINRNPatternOfInjury y: 20-04:BayleyIIICognitiveComposite\n",
      "_corr_coeff: to eval: x: 03-05_s:MRINRNPatternOfInjury y: 20-04:BayleyIIILanguageComposite valid_x: 426 valid_y: 411\n",
      "_corr_coeff: done: x: 03-05_s:MRINRNPatternOfInjury y: 20-04:BayleyIIILanguageComposite\n",
      "_corr_coeff: to eval: x: 03-05_s:MRINRNPatternOfInjury y: 20-04:BayleyIIIMotorComposite valid_x: 426 valid_y: 415\n",
      "_corr_coeff: done: x: 03-05_s:MRINRNPatternOfInjury y: 20-04:BayleyIIIMotorComposite\n",
      "_corr_coeff: to eval: x: 03-05_s:MRIAbnormalResult y: 20-10:moderateSevereDisabilityOrDeath valid_x: 298 valid_y: 504\n",
      "_corr_coeff: done: x: 03-05_s:MRIAbnormalResult y: 20-10:moderateSevereDisabilityOrDeath\n",
      "_corr_coeff: to eval: x: 03-05_s:MRIAbnormalResult y: 20-10:disabilityLevelDeath4Category valid_x: 298 valid_y: 498\n",
      "_corr_coeff: done: x: 03-05_s:MRIAbnormalResult y: 20-10:disabilityLevelDeath4Category\n",
      "_corr_coeff: to eval: x: 03-05_s:MRIAbnormalResult y: 20-10_1:disabilityLevelDeath valid_x: 298 valid_y: 498\n",
      "_corr_coeff: done: x: 03-05_s:MRIAbnormalResult y: 20-10_1:disabilityLevelDeath\n",
      "_corr_coeff: to eval: x: 03-05_s:MRIAbnormalResult y: 20-04:BayleyIIICognitiveComposite valid_x: 298 valid_y: 421\n",
      "_corr_coeff: done: x: 03-05_s:MRIAbnormalResult y: 20-04:BayleyIIICognitiveComposite\n"
     ]
    },
    {
     "name": "stderr",
     "output_type": "stream",
     "text": [
      "\r",
      " 57%|█████▋    | 194/341 [00:42<00:29,  5.07it/s]"
     ]
    },
    {
     "name": "stdout",
     "output_type": "stream",
     "text": [
      "_corr_coeff: to eval: x: 03-05_s:MRIAbnormalResult y: 20-04:BayleyIIILanguageComposite valid_x: 298 valid_y: 411\n",
      "_corr_coeff: done: x: 03-05_s:MRIAbnormalResult y: 20-04:BayleyIIILanguageComposite\n",
      "_corr_coeff: to eval: x: 03-05_s:MRIAbnormalResult y: 20-04:BayleyIIIMotorComposite valid_x: 298 valid_y: 415\n",
      "_corr_coeff: done: x: 03-05_s:MRIAbnormalResult y: 20-04:BayleyIIIMotorComposite\n",
      "_corr_coeff: to eval: x: 03-05_s:MRINRNPatternOfInjuryWSvsBGTPLIC y: 20-10:moderateSevereDisabilityOrDeath valid_x: 296 valid_y: 504\n",
      "_corr_coeff: done: x: 03-05_s:MRINRNPatternOfInjuryWSvsBGTPLIC y: 20-10:moderateSevereDisabilityOrDeath\n",
      "_corr_coeff: to eval: x: 03-05_s:MRINRNPatternOfInjuryWSvsBGTPLIC y: 20-10:disabilityLevelDeath4Category valid_x: 296 valid_y: 498\n",
      "_corr_coeff: done: x: 03-05_s:MRINRNPatternOfInjuryWSvsBGTPLIC y: 20-10:disabilityLevelDeath4Category\n",
      "_corr_coeff: to eval: x: 03-05_s:MRINRNPatternOfInjuryWSvsBGTPLIC y: 20-10_1:disabilityLevelDeath valid_x: 296 valid_y: 498\n",
      "_corr_coeff: done: x: 03-05_s:MRINRNPatternOfInjuryWSvsBGTPLIC y: 20-10_1:disabilityLevelDeath\n",
      "_corr_coeff: to eval: x: 03-05_s:MRINRNPatternOfInjuryWSvsBGTPLIC y: 20-04:BayleyIIICognitiveComposite valid_x: 296 valid_y: 421\n",
      "_corr_coeff: done: x: 03-05_s:MRINRNPatternOfInjuryWSvsBGTPLIC y: 20-04:BayleyIIICognitiveComposite\n"
     ]
    },
    {
     "name": "stderr",
     "output_type": "stream",
     "text": [
      "\r",
      " 57%|█████▋    | 195/341 [00:42<00:30,  4.83it/s]"
     ]
    },
    {
     "name": "stdout",
     "output_type": "stream",
     "text": [
      "_corr_coeff: to eval: x: 03-05_s:MRINRNPatternOfInjuryWSvsBGTPLIC y: 20-04:BayleyIIILanguageComposite valid_x: 296 valid_y: 411\n",
      "_corr_coeff: done: x: 03-05_s:MRINRNPatternOfInjuryWSvsBGTPLIC y: 20-04:BayleyIIILanguageComposite\n",
      "_corr_coeff: to eval: x: 03-05_s:MRINRNPatternOfInjuryWSvsBGTPLIC y: 20-04:BayleyIIIMotorComposite valid_x: 296 valid_y: 415\n",
      "_corr_coeff: done: x: 03-05_s:MRINRNPatternOfInjuryWSvsBGTPLIC y: 20-04:BayleyIIIMotorComposite\n",
      "_corr_coeff: to eval: x: 03-05_s:MRICerebralLesion y: 20-10:moderateSevereDisabilityOrDeath valid_x: 298 valid_y: 504\n",
      "_corr_coeff: done: x: 03-05_s:MRICerebralLesion y: 20-10:moderateSevereDisabilityOrDeath\n",
      "_corr_coeff: to eval: x: 03-05_s:MRICerebralLesion y: 20-10:disabilityLevelDeath4Category valid_x: 298 valid_y: 498\n",
      "_corr_coeff: done: x: 03-05_s:MRICerebralLesion y: 20-10:disabilityLevelDeath4Category\n",
      "_corr_coeff: to eval: x: 03-05_s:MRICerebralLesion y: 20-10_1:disabilityLevelDeath valid_x: 298 valid_y: 498\n",
      "_corr_coeff: done: x: 03-05_s:MRICerebralLesion y: 20-10_1:disabilityLevelDeath\n",
      "_corr_coeff: to eval: x: 03-05_s:MRICerebralLesion y: 20-04:BayleyIIICognitiveComposite valid_x: 298 valid_y: 421\n",
      "_corr_coeff: done: x: 03-05_s:MRICerebralLesion y: 20-04:BayleyIIICognitiveComposite\n",
      "_corr_coeff: to eval: x: 03-05_s:MRICerebralLesion y: 20-04:BayleyIIILanguageComposite valid_x: 298 valid_y: 411\n",
      "_corr_coeff: done: x: 03-05_s:MRICerebralLesion y: 20-04:BayleyIIILanguageComposite\n"
     ]
    },
    {
     "name": "stderr",
     "output_type": "stream",
     "text": [
      "\r",
      " 57%|█████▋    | 196/341 [00:42<00:29,  4.99it/s]"
     ]
    },
    {
     "name": "stdout",
     "output_type": "stream",
     "text": [
      "_corr_coeff: to eval: x: 03-05_s:MRICerebralLesion y: 20-04:BayleyIIIMotorComposite valid_x: 298 valid_y: 415\n",
      "_corr_coeff: done: x: 03-05_s:MRICerebralLesion y: 20-04:BayleyIIIMotorComposite\n",
      "_corr_coeff: to eval: x: 03-05_s:MRICerebellarLesion y: 20-10:moderateSevereDisabilityOrDeath valid_x: 298 valid_y: 504\n",
      "_corr_coeff: done: x: 03-05_s:MRICerebellarLesion y: 20-10:moderateSevereDisabilityOrDeath\n",
      "_corr_coeff: to eval: x: 03-05_s:MRICerebellarLesion y: 20-10:disabilityLevelDeath4Category valid_x: 298 valid_y: 498\n",
      "_corr_coeff: done: x: 03-05_s:MRICerebellarLesion y: 20-10:disabilityLevelDeath4Category\n",
      "_corr_coeff: to eval: x: 03-05_s:MRICerebellarLesion y: 20-10_1:disabilityLevelDeath valid_x: 298 valid_y: 498\n",
      "_corr_coeff: done: x: 03-05_s:MRICerebellarLesion y: 20-10_1:disabilityLevelDeath\n",
      "_corr_coeff: to eval: x: 03-05_s:MRICerebellarLesion y: 20-04:BayleyIIICognitiveComposite valid_x: 298 valid_y: 421\n",
      "_corr_coeff: done: x: 03-05_s:MRICerebellarLesion y: 20-04:BayleyIIICognitiveComposite\n",
      "_corr_coeff: to eval: x: 03-05_s:MRICerebellarLesion y: 20-04:BayleyIIILanguageComposite valid_x: 298 valid_y: 411\n",
      "_corr_coeff: done: x: 03-05_s:MRICerebellarLesion y: 20-04:BayleyIIILanguageComposite\n"
     ]
    },
    {
     "name": "stderr",
     "output_type": "stream",
     "text": [
      "\r",
      " 58%|█████▊    | 197/341 [00:42<00:30,  4.78it/s]"
     ]
    },
    {
     "name": "stderr",
     "output_type": "stream",
     "text": [
      "\r",
      " 58%|█████▊    | 198/341 [00:42<00:28,  4.96it/s]"
     ]
    },
    {
     "name": "stdout",
     "output_type": "stream",
     "text": [
      "_corr_coeff: to eval: x: 03-05_s:MRICerebellarLesion y: 20-04:BayleyIIIMotorComposite valid_x: 298 valid_y: 415\n",
      "_corr_coeff: done: x: 03-05_s:MRICerebellarLesion y: 20-04:BayleyIIIMotorComposite\n",
      "_corr_coeff: to eval: x: 03-05_s:MRIBasalGangliaLesion y: 20-10:moderateSevereDisabilityOrDeath valid_x: 298 valid_y: 504\n",
      "_corr_coeff: done: x: 03-05_s:MRIBasalGangliaLesion y: 20-10:moderateSevereDisabilityOrDeath\n",
      "_corr_coeff: to eval: x: 03-05_s:MRIBasalGangliaLesion y: 20-10:disabilityLevelDeath4Category valid_x: 298 valid_y: 498\n",
      "_corr_coeff: done: x: 03-05_s:MRIBasalGangliaLesion y: 20-10:disabilityLevelDeath4Category\n",
      "_corr_coeff: to eval: x: 03-05_s:MRIBasalGangliaLesion y: 20-10_1:disabilityLevelDeath valid_x: 298 valid_y: 498\n",
      "_corr_coeff: done: x: 03-05_s:MRIBasalGangliaLesion y: 20-10_1:disabilityLevelDeath\n",
      "_corr_coeff: to eval: x: 03-05_s:MRIBasalGangliaLesion y: 20-04:BayleyIIICognitiveComposite valid_x: 298 valid_y: 421\n",
      "_corr_coeff: done: x: 03-05_s:MRIBasalGangliaLesion y: 20-04:BayleyIIICognitiveComposite\n",
      "_corr_coeff: to eval: x: 03-05_s:MRIBasalGangliaLesion y: 20-04:BayleyIIILanguageComposite valid_x: 298 valid_y: 411\n",
      "_corr_coeff: done: x: 03-05_s:MRIBasalGangliaLesion y: 20-04:BayleyIIILanguageComposite\n",
      "_corr_coeff: to eval: x: 03-05_s:MRIBasalGangliaLesion y: 20-04:BayleyIIIMotorComposite valid_x: 298 valid_y: 415\n",
      "_corr_coeff: done: x: 03-05_s:MRIBasalGangliaLesion y: 20-04:BayleyIIIMotorComposite\n"
     ]
    },
    {
     "name": "stdout",
     "output_type": "stream",
     "text": [
      "_corr_coeff: to eval: x: 03-05_s:MRIBrainstemLesion y: 20-10:moderateSevereDisabilityOrDeath valid_x: 298 valid_y: 504\n",
      "_corr_coeff: done: x: 03-05_s:MRIBrainstemLesion y: 20-10:moderateSevereDisabilityOrDeath\n",
      "_corr_coeff: to eval: x: 03-05_s:MRIBrainstemLesion y: 20-10:disabilityLevelDeath4Category valid_x: 298 valid_y: 498\n",
      "_corr_coeff: done: x: 03-05_s:MRIBrainstemLesion y: 20-10:disabilityLevelDeath4Category\n",
      "_corr_coeff: to eval: x: 03-05_s:MRIBrainstemLesion y: 20-10_1:disabilityLevelDeath valid_x: 298 valid_y: 498\n",
      "_corr_coeff: done: x: 03-05_s:MRIBrainstemLesion y: 20-10_1:disabilityLevelDeath\n",
      "_corr_coeff: to eval: x: 03-05_s:MRIBrainstemLesion y: 20-04:BayleyIIICognitiveComposite valid_x: 298 valid_y: 421\n",
      "_corr_coeff: done: x: 03-05_s:MRIBrainstemLesion y: 20-04:BayleyIIICognitiveComposite\n",
      "_corr_coeff: to eval: x: 03-05_s:MRIBrainstemLesion y: 20-04:BayleyIIILanguageComposite valid_x: 298 valid_y: 411\n",
      "_corr_coeff: done: x: 03-05_s:MRIBrainstemLesion y: 20-04:BayleyIIILanguageComposite\n",
      "_corr_coeff: to eval: x: 03-05_s:MRIBrainstemLesion y: 20-04:BayleyIIIMotorComposite valid_x: 298 valid_y: 415\n",
      "_corr_coeff: done: x: 03-05_s:MRIBrainstemLesion y: 20-04:BayleyIIIMotorComposite\n"
     ]
    },
    {
     "name": "stderr",
     "output_type": "stream",
     "text": [
      "\r",
      " 58%|█████▊    | 199/341 [00:43<00:29,  4.74it/s]"
     ]
    },
    {
     "name": "stderr",
     "output_type": "stream",
     "text": [
      "\r",
      " 59%|█████▊    | 200/341 [00:43<00:28,  4.94it/s]"
     ]
    },
    {
     "name": "stdout",
     "output_type": "stream",
     "text": [
      "_corr_coeff: to eval: x: 03-05_s:MRICorpusCallosumLesion y: 20-10:moderateSevereDisabilityOrDeath valid_x: 298 valid_y: 504\n",
      "_corr_coeff: done: x: 03-05_s:MRICorpusCallosumLesion y: 20-10:moderateSevereDisabilityOrDeath\n",
      "_corr_coeff: to eval: x: 03-05_s:MRICorpusCallosumLesion y: 20-10:disabilityLevelDeath4Category valid_x: 298 valid_y: 498\n",
      "_corr_coeff: done: x: 03-05_s:MRICorpusCallosumLesion y: 20-10:disabilityLevelDeath4Category\n",
      "_corr_coeff: to eval: x: 03-05_s:MRICorpusCallosumLesion y: 20-10_1:disabilityLevelDeath valid_x: 298 valid_y: 498\n",
      "_corr_coeff: done: x: 03-05_s:MRICorpusCallosumLesion y: 20-10_1:disabilityLevelDeath\n",
      "_corr_coeff: to eval: x: 03-05_s:MRICorpusCallosumLesion y: 20-04:BayleyIIICognitiveComposite valid_x: 298 valid_y: 421\n",
      "_corr_coeff: done: x: 03-05_s:MRICorpusCallosumLesion y: 20-04:BayleyIIICognitiveComposite\n",
      "_corr_coeff: to eval: x: 03-05_s:MRICorpusCallosumLesion y: 20-04:BayleyIIILanguageComposite valid_x: 298 valid_y: 411\n",
      "_corr_coeff: done: x: 03-05_s:MRICorpusCallosumLesion y: 20-04:BayleyIIILanguageComposite\n",
      "_corr_coeff: to eval: x: 03-05_s:MRICorpusCallosumLesion y: 20-04:BayleyIIIMotorComposite valid_x: 298 valid_y: 415\n",
      "_corr_coeff: done: x: 03-05_s:MRICorpusCallosumLesion y: 20-04:BayleyIIIMotorComposite\n",
      "_corr_coeff: to eval: x: 03-05_s:MRICerebralLesionLobe y: 20-10:moderateSevereDisabilityOrDeath valid_x: 298 valid_y: 504\n",
      "_corr_coeff: done: x: 03-05_s:MRICerebralLesionLobe y: 20-10:moderateSevereDisabilityOrDeath\n"
     ]
    },
    {
     "name": "stderr",
     "output_type": "stream",
     "text": [
      "\r",
      " 59%|█████▉    | 201/341 [00:43<00:29,  4.73it/s]"
     ]
    },
    {
     "name": "stdout",
     "output_type": "stream",
     "text": [
      "_corr_coeff: to eval: x: 03-05_s:MRICerebralLesionLobe y: 20-10:disabilityLevelDeath4Category valid_x: 298 valid_y: 498\n",
      "_corr_coeff: done: x: 03-05_s:MRICerebralLesionLobe y: 20-10:disabilityLevelDeath4Category\n",
      "_corr_coeff: to eval: x: 03-05_s:MRICerebralLesionLobe y: 20-10_1:disabilityLevelDeath valid_x: 298 valid_y: 498\n",
      "_corr_coeff: done: x: 03-05_s:MRICerebralLesionLobe y: 20-10_1:disabilityLevelDeath\n",
      "_corr_coeff: to eval: x: 03-05_s:MRICerebralLesionLobe y: 20-04:BayleyIIICognitiveComposite valid_x: 298 valid_y: 421\n",
      "_corr_coeff: done: x: 03-05_s:MRICerebralLesionLobe y: 20-04:BayleyIIICognitiveComposite\n",
      "_corr_coeff: to eval: x: 03-05_s:MRICerebralLesionLobe y: 20-04:BayleyIIILanguageComposite valid_x: 298 valid_y: 411\n",
      "_corr_coeff: done: x: 03-05_s:MRICerebralLesionLobe y: 20-04:BayleyIIILanguageComposite\n",
      "_corr_coeff: to eval: x: 03-05_s:MRICerebralLesionLobe y: 20-04:BayleyIIIMotorComposite valid_x: 298 valid_y: 415\n",
      "_corr_coeff: done: x: 03-05_s:MRICerebralLesionLobe y: 20-04:BayleyIIIMotorComposite\n",
      "_corr_coeff: to eval: x: 03-05_s:MRICoronaRadiataLesion y: 20-10:moderateSevereDisabilityOrDeath valid_x: 298 valid_y: 504\n",
      "_corr_coeff: done: x: 03-05_s:MRICoronaRadiataLesion y: 20-10:moderateSevereDisabilityOrDeath\n"
     ]
    },
    {
     "name": "stderr",
     "output_type": "stream",
     "text": [
      "\r",
      " 59%|█████▉    | 202/341 [00:43<00:28,  4.90it/s]"
     ]
    },
    {
     "name": "stdout",
     "output_type": "stream",
     "text": [
      "_corr_coeff: to eval: x: 03-05_s:MRICoronaRadiataLesion y: 20-10:disabilityLevelDeath4Category valid_x: 298 valid_y: 498\n",
      "_corr_coeff: done: x: 03-05_s:MRICoronaRadiataLesion y: 20-10:disabilityLevelDeath4Category\n",
      "_corr_coeff: to eval: x: 03-05_s:MRICoronaRadiataLesion y: 20-10_1:disabilityLevelDeath valid_x: 298 valid_y: 498\n",
      "_corr_coeff: done: x: 03-05_s:MRICoronaRadiataLesion y: 20-10_1:disabilityLevelDeath\n",
      "_corr_coeff: to eval: x: 03-05_s:MRICoronaRadiataLesion y: 20-04:BayleyIIICognitiveComposite valid_x: 298 valid_y: 421\n",
      "_corr_coeff: done: x: 03-05_s:MRICoronaRadiataLesion y: 20-04:BayleyIIICognitiveComposite\n",
      "_corr_coeff: to eval: x: 03-05_s:MRICoronaRadiataLesion y: 20-04:BayleyIIILanguageComposite valid_x: 298 valid_y: 411\n",
      "_corr_coeff: done: x: 03-05_s:MRICoronaRadiataLesion y: 20-04:BayleyIIILanguageComposite\n",
      "_corr_coeff: to eval: x: 03-05_s:MRICoronaRadiataLesion y: 20-04:BayleyIIIMotorComposite valid_x: 298 valid_y: 415\n",
      "_corr_coeff: done: x: 03-05_s:MRICoronaRadiataLesion y: 20-04:BayleyIIIMotorComposite\n",
      "_corr_coeff: to eval: x: 03-05_s:MRIEdema y: 20-10:moderateSevereDisabilityOrDeath valid_x: 298 valid_y: 504\n",
      "_corr_coeff: done: x: 03-05_s:MRIEdema y: 20-10:moderateSevereDisabilityOrDeath\n"
     ]
    },
    {
     "name": "stderr",
     "output_type": "stream",
     "text": [
      "\r",
      " 60%|█████▉    | 203/341 [00:44<00:29,  4.67it/s]"
     ]
    },
    {
     "name": "stdout",
     "output_type": "stream",
     "text": [
      "_corr_coeff: to eval: x: 03-05_s:MRIEdema y: 20-10:disabilityLevelDeath4Category valid_x: 298 valid_y: 498\n",
      "_corr_coeff: done: x: 03-05_s:MRIEdema y: 20-10:disabilityLevelDeath4Category\n",
      "_corr_coeff: to eval: x: 03-05_s:MRIEdema y: 20-10_1:disabilityLevelDeath valid_x: 298 valid_y: 498\n",
      "_corr_coeff: done: x: 03-05_s:MRIEdema y: 20-10_1:disabilityLevelDeath\n",
      "_corr_coeff: to eval: x: 03-05_s:MRIEdema y: 20-04:BayleyIIICognitiveComposite valid_x: 298 valid_y: 421\n",
      "_corr_coeff: done: x: 03-05_s:MRIEdema y: 20-04:BayleyIIICognitiveComposite\n",
      "_corr_coeff: to eval: x: 03-05_s:MRIEdema y: 20-04:BayleyIIILanguageComposite valid_x: 298 valid_y: 411\n",
      "_corr_coeff: done: x: 03-05_s:MRIEdema y: 20-04:BayleyIIILanguageComposite\n",
      "_corr_coeff: to eval: x: 03-05_s:MRIEdema y: 20-04:BayleyIIIMotorComposite valid_x: 298 valid_y: 415\n",
      "_corr_coeff: done: x: 03-05_s:MRIEdema y: 20-04:BayleyIIIMotorComposite\n",
      "_corr_coeff: to eval: x: 03-05_s:MRIExtraAxialLesion y: 20-10:moderateSevereDisabilityOrDeath valid_x: 298 valid_y: 504\n",
      "_corr_coeff: done: x: 03-05_s:MRIExtraAxialLesion y: 20-10:moderateSevereDisabilityOrDeath\n",
      "_corr_coeff: to eval: x: 03-05_s:MRIExtraAxialLesion y: 20-10:disabilityLevelDeath4Category valid_x: 298 valid_y: 498\n",
      "_corr_coeff: done: x: 03-05_s:MRIExtraAxialLesion y: 20-10:disabilityLevelDeath4Category\n"
     ]
    },
    {
     "name": "stderr",
     "output_type": "stream",
     "text": [
      "\r",
      " 60%|█████▉    | 204/341 [00:44<00:28,  4.89it/s]"
     ]
    },
    {
     "name": "stdout",
     "output_type": "stream",
     "text": [
      "_corr_coeff: to eval: x: 03-05_s:MRIExtraAxialLesion y: 20-10_1:disabilityLevelDeath valid_x: 298 valid_y: 498\n",
      "_corr_coeff: done: x: 03-05_s:MRIExtraAxialLesion y: 20-10_1:disabilityLevelDeath\n",
      "_corr_coeff: to eval: x: 03-05_s:MRIExtraAxialLesion y: 20-04:BayleyIIICognitiveComposite valid_x: 298 valid_y: 421\n",
      "_corr_coeff: done: x: 03-05_s:MRIExtraAxialLesion y: 20-04:BayleyIIICognitiveComposite\n",
      "_corr_coeff: to eval: x: 03-05_s:MRIExtraAxialLesion y: 20-04:BayleyIIILanguageComposite valid_x: 298 valid_y: 411\n",
      "_corr_coeff: done: x: 03-05_s:MRIExtraAxialLesion y: 20-04:BayleyIIILanguageComposite\n",
      "_corr_coeff: to eval: x: 03-05_s:MRIExtraAxialLesion y: 20-04:BayleyIIIMotorComposite valid_x: 298 valid_y: 415\n",
      "_corr_coeff: done: x: 03-05_s:MRIExtraAxialLesion y: 20-04:BayleyIIIMotorComposite\n",
      "_corr_coeff: to eval: x: 03-05_s:MRIExtent y: 20-10:moderateSevereDisabilityOrDeath valid_x: 169 valid_y: 504\n",
      "_corr_coeff: done: x: 03-05_s:MRIExtent y: 20-10:moderateSevereDisabilityOrDeath\n",
      "_corr_coeff: to eval: x: 03-05_s:MRIExtent y: 20-10:disabilityLevelDeath4Category valid_x: 169 valid_y: 498\n",
      "_corr_coeff: done: x: 03-05_s:MRIExtent y: 20-10:disabilityLevelDeath4Category\n"
     ]
    },
    {
     "name": "stderr",
     "output_type": "stream",
     "text": [
      "\r",
      " 60%|██████    | 205/341 [00:44<00:28,  4.78it/s]"
     ]
    },
    {
     "name": "stdout",
     "output_type": "stream",
     "text": [
      "_corr_coeff: to eval: x: 03-05_s:MRIExtent y: 20-10_1:disabilityLevelDeath valid_x: 169 valid_y: 498\n",
      "_corr_coeff: done: x: 03-05_s:MRIExtent y: 20-10_1:disabilityLevelDeath\n",
      "_corr_coeff: to eval: x: 03-05_s:MRIExtent y: 20-04:BayleyIIICognitiveComposite valid_x: 169 valid_y: 421\n",
      "_corr_coeff: done: x: 03-05_s:MRIExtent y: 20-04:BayleyIIICognitiveComposite\n",
      "_corr_coeff: to eval: x: 03-05_s:MRIExtent y: 20-04:BayleyIIILanguageComposite valid_x: 169 valid_y: 411\n",
      "_corr_coeff: done: x: 03-05_s:MRIExtent y: 20-04:BayleyIIILanguageComposite\n",
      "_corr_coeff: to eval: x: 03-05_s:MRIExtent y: 20-04:BayleyIIIMotorComposite valid_x: 169 valid_y: 415\n",
      "_corr_coeff: done: x: 03-05_s:MRIExtent y: 20-04:BayleyIIIMotorComposite\n",
      "_corr_coeff: to eval: x: 03-05_s:MRIFrontalParietalLesion y: 20-10:moderateSevereDisabilityOrDeath valid_x: 298 valid_y: 504\n",
      "_corr_coeff: done: x: 03-05_s:MRIFrontalParietalLesion y: 20-10:moderateSevereDisabilityOrDeath\n",
      "_corr_coeff: to eval: x: 03-05_s:MRIFrontalParietalLesion y: 20-10:disabilityLevelDeath4Category valid_x: 298 valid_y: 498\n",
      "_corr_coeff: done: x: 03-05_s:MRIFrontalParietalLesion y: 20-10:disabilityLevelDeath4Category\n",
      "_corr_coeff: to eval: x: 03-05_s:MRIFrontalParietalLesion y: 20-10_1:disabilityLevelDeath valid_x: 298 valid_y: 498\n",
      "_corr_coeff: done: x: 03-05_s:MRIFrontalParietalLesion y: 20-10_1:disabilityLevelDeath\n"
     ]
    },
    {
     "name": "stderr",
     "output_type": "stream",
     "text": [
      "\r",
      " 60%|██████    | 206/341 [00:44<00:29,  4.60it/s]"
     ]
    },
    {
     "name": "stdout",
     "output_type": "stream",
     "text": [
      "_corr_coeff: to eval: x: 03-05_s:MRIFrontalParietalLesion y: 20-04:BayleyIIICognitiveComposite valid_x: 298 valid_y: 421\n",
      "_corr_coeff: done: x: 03-05_s:MRIFrontalParietalLesion y: 20-04:BayleyIIICognitiveComposite\n",
      "_corr_coeff: to eval: x: 03-05_s:MRIFrontalParietalLesion y: 20-04:BayleyIIILanguageComposite valid_x: 298 valid_y: 411\n",
      "_corr_coeff: done: x: 03-05_s:MRIFrontalParietalLesion y: 20-04:BayleyIIILanguageComposite\n",
      "_corr_coeff: to eval: x: 03-05_s:MRIFrontalParietalLesion y: 20-04:BayleyIIIMotorComposite valid_x: 298 valid_y: 415\n",
      "_corr_coeff: done: x: 03-05_s:MRIFrontalParietalLesion y: 20-04:BayleyIIIMotorComposite\n",
      "_corr_coeff: to eval: x: 03-05_s:MRIFrontalLesion y: 20-10:moderateSevereDisabilityOrDeath valid_x: 298 valid_y: 504\n",
      "_corr_coeff: done: x: 03-05_s:MRIFrontalLesion y: 20-10:moderateSevereDisabilityOrDeath\n",
      "_corr_coeff: to eval: x: 03-05_s:MRIFrontalLesion y: 20-10:disabilityLevelDeath4Category valid_x: 298 valid_y: 498\n",
      "_corr_coeff: done: x: 03-05_s:MRIFrontalLesion y: 20-10:disabilityLevelDeath4Category\n"
     ]
    },
    {
     "name": "stderr",
     "output_type": "stream",
     "text": [
      "\r",
      " 61%|██████    | 207/341 [00:44<00:27,  4.80it/s]"
     ]
    },
    {
     "name": "stdout",
     "output_type": "stream",
     "text": [
      "_corr_coeff: to eval: x: 03-05_s:MRIFrontalLesion y: 20-10_1:disabilityLevelDeath valid_x: 298 valid_y: 498\n",
      "_corr_coeff: done: x: 03-05_s:MRIFrontalLesion y: 20-10_1:disabilityLevelDeath\n",
      "_corr_coeff: to eval: x: 03-05_s:MRIFrontalLesion y: 20-04:BayleyIIICognitiveComposite valid_x: 298 valid_y: 421\n",
      "_corr_coeff: done: x: 03-05_s:MRIFrontalLesion y: 20-04:BayleyIIICognitiveComposite\n",
      "_corr_coeff: to eval: x: 03-05_s:MRIFrontalLesion y: 20-04:BayleyIIILanguageComposite valid_x: 298 valid_y: 411\n",
      "_corr_coeff: done: x: 03-05_s:MRIFrontalLesion y: 20-04:BayleyIIILanguageComposite\n",
      "_corr_coeff: to eval: x: 03-05_s:MRIFrontalLesion y: 20-04:BayleyIIIMotorComposite valid_x: 298 valid_y: 415\n",
      "_corr_coeff: done: x: 03-05_s:MRIFrontalLesion y: 20-04:BayleyIIIMotorComposite\n",
      "_corr_coeff: to eval: x: 03-05_s:MRIHippocampusLesion y: 20-10:moderateSevereDisabilityOrDeath valid_x: 298 valid_y: 504\n",
      "_corr_coeff: done: x: 03-05_s:MRIHippocampusLesion y: 20-10:moderateSevereDisabilityOrDeath\n",
      "_corr_coeff: to eval: x: 03-05_s:MRIHippocampusLesion y: 20-10:disabilityLevelDeath4Category valid_x: 298 valid_y: 498\n",
      "_corr_coeff: done: x: 03-05_s:MRIHippocampusLesion y: 20-10:disabilityLevelDeath4Category\n",
      "_corr_coeff: to eval: x: 03-05_s:MRIHippocampusLesion y: 20-10_1:disabilityLevelDeath valid_x: 298 valid_y: 498\n",
      "_corr_coeff: done: x: 03-05_s:MRIHippocampusLesion y: 20-10_1:disabilityLevelDeath\n"
     ]
    },
    {
     "name": "stderr",
     "output_type": "stream",
     "text": [
      "\r",
      " 61%|██████    | 208/341 [00:45<00:28,  4.61it/s]"
     ]
    },
    {
     "name": "stdout",
     "output_type": "stream",
     "text": [
      "_corr_coeff: to eval: x: 03-05_s:MRIHippocampusLesion y: 20-04:BayleyIIICognitiveComposite valid_x: 298 valid_y: 421\n",
      "_corr_coeff: done: x: 03-05_s:MRIHippocampusLesion y: 20-04:BayleyIIICognitiveComposite\n",
      "_corr_coeff: to eval: x: 03-05_s:MRIHippocampusLesion y: 20-04:BayleyIIILanguageComposite valid_x: 298 valid_y: 411\n",
      "_corr_coeff: done: x: 03-05_s:MRIHippocampusLesion y: 20-04:BayleyIIILanguageComposite\n",
      "_corr_coeff: to eval: x: 03-05_s:MRIHippocampusLesion y: 20-04:BayleyIIIMotorComposite valid_x: 298 valid_y: 415\n",
      "_corr_coeff: done: x: 03-05_s:MRIHippocampusLesion y: 20-04:BayleyIIIMotorComposite\n",
      "_corr_coeff: to eval: x: 03-05_s:MRIHypothalamusLesion y: 20-10:moderateSevereDisabilityOrDeath valid_x: 298 valid_y: 504\n",
      "_corr_coeff: done: x: 03-05_s:MRIHypothalamusLesion y: 20-10:moderateSevereDisabilityOrDeath\n",
      "_corr_coeff: to eval: x: 03-05_s:MRIHypothalamusLesion y: 20-10:disabilityLevelDeath4Category valid_x: 298 valid_y: 498\n",
      "_corr_coeff: done: x: 03-05_s:MRIHypothalamusLesion y: 20-10:disabilityLevelDeath4Category\n"
     ]
    },
    {
     "name": "stderr",
     "output_type": "stream",
     "text": [
      "\r",
      " 61%|██████▏   | 209/341 [00:45<00:27,  4.83it/s]"
     ]
    },
    {
     "name": "stdout",
     "output_type": "stream",
     "text": [
      "_corr_coeff: to eval: x: 03-05_s:MRIHypothalamusLesion y: 20-10_1:disabilityLevelDeath valid_x: 298 valid_y: 498\n",
      "_corr_coeff: done: x: 03-05_s:MRIHypothalamusLesion y: 20-10_1:disabilityLevelDeath\n",
      "_corr_coeff: to eval: x: 03-05_s:MRIHypothalamusLesion y: 20-04:BayleyIIICognitiveComposite valid_x: 298 valid_y: 421\n",
      "_corr_coeff: done: x: 03-05_s:MRIHypothalamusLesion y: 20-04:BayleyIIICognitiveComposite\n",
      "_corr_coeff: to eval: x: 03-05_s:MRIHypothalamusLesion y: 20-04:BayleyIIILanguageComposite valid_x: 298 valid_y: 411\n",
      "_corr_coeff: done: x: 03-05_s:MRIHypothalamusLesion y: 20-04:BayleyIIILanguageComposite\n",
      "_corr_coeff: to eval: x: 03-05_s:MRIHypothalamusLesion y: 20-04:BayleyIIIMotorComposite valid_x: 298 valid_y: 415\n",
      "_corr_coeff: done: x: 03-05_s:MRIHypothalamusLesion y: 20-04:BayleyIIIMotorComposite\n",
      "_corr_coeff: to eval: x: 03-05_s:MRIInsularLesion y: 20-10:moderateSevereDisabilityOrDeath valid_x: 298 valid_y: 504\n",
      "_corr_coeff: done: x: 03-05_s:MRIInsularLesion y: 20-10:moderateSevereDisabilityOrDeath\n",
      "_corr_coeff: to eval: x: 03-05_s:MRIInsularLesion y: 20-10:disabilityLevelDeath4Category valid_x: 298 valid_y: 498\n",
      "_corr_coeff: done: x: 03-05_s:MRIInsularLesion y: 20-10:disabilityLevelDeath4Category\n",
      "_corr_coeff: to eval: x: 03-05_s:MRIInsularLesion y: 20-10_1:disabilityLevelDeath valid_x: 298 valid_y: 498\n",
      "_corr_coeff: done: x: 03-05_s:MRIInsularLesion y: 20-10_1:disabilityLevelDeath\n"
     ]
    },
    {
     "name": "stderr",
     "output_type": "stream",
     "text": [
      "\r",
      " 62%|██████▏   | 210/341 [00:45<00:28,  4.61it/s]"
     ]
    },
    {
     "name": "stdout",
     "output_type": "stream",
     "text": [
      "_corr_coeff: to eval: x: 03-05_s:MRIInsularLesion y: 20-04:BayleyIIICognitiveComposite valid_x: 298 valid_y: 421\n",
      "_corr_coeff: done: x: 03-05_s:MRIInsularLesion y: 20-04:BayleyIIICognitiveComposite\n",
      "_corr_coeff: to eval: x: 03-05_s:MRIInsularLesion y: 20-04:BayleyIIILanguageComposite valid_x: 298 valid_y: 411\n",
      "_corr_coeff: done: x: 03-05_s:MRIInsularLesion y: 20-04:BayleyIIILanguageComposite\n",
      "_corr_coeff: to eval: x: 03-05_s:MRIInsularLesion y: 20-04:BayleyIIIMotorComposite valid_x: 298 valid_y: 415\n",
      "_corr_coeff: done: x: 03-05_s:MRIInsularLesion y: 20-04:BayleyIIIMotorComposite\n",
      "_corr_coeff: to eval: x: 03-05_s:MRIBGTMerge y: 20-10:moderateSevereDisabilityOrDeath valid_x: 298 valid_y: 504\n",
      "_corr_coeff: done: x: 03-05_s:MRIBGTMerge y: 20-10:moderateSevereDisabilityOrDeath\n",
      "_corr_coeff: to eval: x: 03-05_s:MRIBGTMerge y: 20-10:disabilityLevelDeath4Category valid_x: 298 valid_y: 498\n",
      "_corr_coeff: done: x: 03-05_s:MRIBGTMerge y: 20-10:disabilityLevelDeath4Category\n",
      "_corr_coeff: to eval: x: 03-05_s:MRIBGTMerge y: 20-10_1:disabilityLevelDeath valid_x: 298 valid_y: 498\n",
      "_corr_coeff: done: x: 03-05_s:MRIBGTMerge y: 20-10_1:disabilityLevelDeath\n",
      "_corr_coeff: to eval: x: 03-05_s:MRIBGTMerge y: 20-04:BayleyIIICognitiveComposite valid_x: 298 valid_y: 421\n",
      "_corr_coeff: done: x: 03-05_s:MRIBGTMerge y: 20-04:BayleyIIICognitiveComposite\n"
     ]
    },
    {
     "name": "stderr",
     "output_type": "stream",
     "text": [
      "\r",
      " 62%|██████▏   | 211/341 [00:45<00:26,  4.83it/s]"
     ]
    },
    {
     "name": "stdout",
     "output_type": "stream",
     "text": [
      "_corr_coeff: to eval: x: 03-05_s:MRIBGTMerge y: 20-04:BayleyIIILanguageComposite valid_x: 298 valid_y: 411\n",
      "_corr_coeff: done: x: 03-05_s:MRIBGTMerge y: 20-04:BayleyIIILanguageComposite\n",
      "_corr_coeff: to eval: x: 03-05_s:MRIBGTMerge y: 20-04:BayleyIIIMotorComposite valid_x: 298 valid_y: 415\n",
      "_corr_coeff: done: x: 03-05_s:MRIBGTMerge y: 20-04:BayleyIIIMotorComposite\n",
      "_corr_coeff: to eval: x: 03-05_s:MRIPLICMerge y: 20-10:moderateSevereDisabilityOrDeath valid_x: 298 valid_y: 504\n",
      "_corr_coeff: done: x: 03-05_s:MRIPLICMerge y: 20-10:moderateSevereDisabilityOrDeath\n",
      "_corr_coeff: to eval: x: 03-05_s:MRIPLICMerge y: 20-10:disabilityLevelDeath4Category valid_x: 298 valid_y: 498\n",
      "_corr_coeff: done: x: 03-05_s:MRIPLICMerge y: 20-10:disabilityLevelDeath4Category\n",
      "_corr_coeff: to eval: x: 03-05_s:MRIPLICMerge y: 20-10_1:disabilityLevelDeath valid_x: 298 valid_y: 498\n",
      "_corr_coeff: done: x: 03-05_s:MRIPLICMerge y: 20-10_1:disabilityLevelDeath\n"
     ]
    },
    {
     "name": "stderr",
     "output_type": "stream",
     "text": [
      "\r",
      " 62%|██████▏   | 212/341 [00:45<00:28,  4.59it/s]"
     ]
    },
    {
     "name": "stdout",
     "output_type": "stream",
     "text": [
      "_corr_coeff: to eval: x: 03-05_s:MRIPLICMerge y: 20-04:BayleyIIICognitiveComposite valid_x: 298 valid_y: 421\n",
      "_corr_coeff: done: x: 03-05_s:MRIPLICMerge y: 20-04:BayleyIIICognitiveComposite\n",
      "_corr_coeff: to eval: x: 03-05_s:MRIPLICMerge y: 20-04:BayleyIIILanguageComposite valid_x: 298 valid_y: 411\n",
      "_corr_coeff: done: x: 03-05_s:MRIPLICMerge y: 20-04:BayleyIIILanguageComposite\n",
      "_corr_coeff: to eval: x: 03-05_s:MRIPLICMerge y: 20-04:BayleyIIIMotorComposite valid_x: 298 valid_y: 415\n",
      "_corr_coeff: done: x: 03-05_s:MRIPLICMerge y: 20-04:BayleyIIIMotorComposite\n",
      "_corr_coeff: to eval: x: 03-05_s:MRIWatershedMerge y: 20-10:moderateSevereDisabilityOrDeath valid_x: 298 valid_y: 504\n",
      "_corr_coeff: done: x: 03-05_s:MRIWatershedMerge y: 20-10:moderateSevereDisabilityOrDeath\n",
      "_corr_coeff: to eval: x: 03-05_s:MRIWatershedMerge y: 20-10:disabilityLevelDeath4Category valid_x: 298 valid_y: 498\n",
      "_corr_coeff: done: x: 03-05_s:MRIWatershedMerge y: 20-10:disabilityLevelDeath4Category\n",
      "_corr_coeff: to eval: x: 03-05_s:MRIWatershedMerge y: 20-10_1:disabilityLevelDeath valid_x: 298 valid_y: 498\n",
      "_corr_coeff: done: x: 03-05_s:MRIWatershedMerge y: 20-10_1:disabilityLevelDeath\n",
      "_corr_coeff: to eval: x: 03-05_s:MRIWatershedMerge y: 20-04:BayleyIIICognitiveComposite valid_x: 298 valid_y: 421\n",
      "_corr_coeff: done: x: 03-05_s:MRIWatershedMerge y: 20-04:BayleyIIICognitiveComposite\n"
     ]
    },
    {
     "name": "stderr",
     "output_type": "stream",
     "text": [
      "\r",
      " 62%|██████▏   | 213/341 [00:46<00:26,  4.76it/s]"
     ]
    },
    {
     "name": "stdout",
     "output_type": "stream",
     "text": [
      "_corr_coeff: to eval: x: 03-05_s:MRIWatershedMerge y: 20-04:BayleyIIILanguageComposite valid_x: 298 valid_y: 411\n",
      "_corr_coeff: done: x: 03-05_s:MRIWatershedMerge y: 20-04:BayleyIIILanguageComposite\n",
      "_corr_coeff: to eval: x: 03-05_s:MRIWatershedMerge y: 20-04:BayleyIIIMotorComposite valid_x: 298 valid_y: 415\n",
      "_corr_coeff: done: x: 03-05_s:MRIWatershedMerge y: 20-04:BayleyIIIMotorComposite\n",
      "_corr_coeff: to eval: x: 03-05_s:MRIWhiteMatterInjuryMerge y: 20-10:moderateSevereDisabilityOrDeath valid_x: 116 valid_y: 504\n",
      "_corr_coeff: done: x: 03-05_s:MRIWhiteMatterInjuryMerge y: 20-10:moderateSevereDisabilityOrDeath\n",
      "_corr_coeff: to eval: x: 03-05_s:MRIWhiteMatterInjuryMerge y: 20-10:disabilityLevelDeath4Category valid_x: 116 valid_y: 498\n",
      "_corr_coeff: done: x: 03-05_s:MRIWhiteMatterInjuryMerge y: 20-10:disabilityLevelDeath4Category\n",
      "_corr_coeff: to eval: x: 03-05_s:MRIWhiteMatterInjuryMerge y: 20-10_1:disabilityLevelDeath valid_x: 116 valid_y: 498\n",
      "_corr_coeff: done: x: 03-05_s:MRIWhiteMatterInjuryMerge y: 20-10_1:disabilityLevelDeath\n",
      "_corr_coeff: to eval: x: 03-05_s:MRIWhiteMatterInjuryMerge y: 20-04:BayleyIIICognitiveComposite valid_x: 116 valid_y: 421\n",
      "_corr_coeff: done: x: 03-05_s:MRIWhiteMatterInjuryMerge y: 20-04:BayleyIIICognitiveComposite\n"
     ]
    },
    {
     "name": "stderr",
     "output_type": "stream",
     "text": [
      "\r",
      " 63%|██████▎   | 214/341 [00:46<00:26,  4.77it/s]"
     ]
    },
    {
     "name": "stdout",
     "output_type": "stream",
     "text": [
      "_corr_coeff: to eval: x: 03-05_s:MRIWhiteMatterInjuryMerge y: 20-04:BayleyIIILanguageComposite valid_x: 116 valid_y: 411\n",
      "_corr_coeff: done: x: 03-05_s:MRIWhiteMatterInjuryMerge y: 20-04:BayleyIIILanguageComposite\n",
      "_corr_coeff: to eval: x: 03-05_s:MRIWhiteMatterInjuryMerge y: 20-04:BayleyIIIMotorComposite valid_x: 116 valid_y: 415\n",
      "_corr_coeff: done: x: 03-05_s:MRIWhiteMatterInjuryMerge y: 20-04:BayleyIIIMotorComposite\n",
      "_corr_coeff: to eval: x: 03-05_s:MRIOccipitalLesion y: 20-10:moderateSevereDisabilityOrDeath valid_x: 298 valid_y: 504\n",
      "_corr_coeff: done: x: 03-05_s:MRIOccipitalLesion y: 20-10:moderateSevereDisabilityOrDeath\n",
      "_corr_coeff: to eval: x: 03-05_s:MRIOccipitalLesion y: 20-10:disabilityLevelDeath4Category valid_x: 298 valid_y: 498\n",
      "_corr_coeff: done: x: 03-05_s:MRIOccipitalLesion y: 20-10:disabilityLevelDeath4Category\n",
      "_corr_coeff: to eval: x: 03-05_s:MRIOccipitalLesion y: 20-10_1:disabilityLevelDeath valid_x: 298 valid_y: 498\n",
      "_corr_coeff: done: x: 03-05_s:MRIOccipitalLesion y: 20-10_1:disabilityLevelDeath\n",
      "_corr_coeff: to eval: x: 03-05_s:MRIOccipitalLesion y: 20-04:BayleyIIICognitiveComposite valid_x: 298 valid_y: 421\n",
      "_corr_coeff: done: x: 03-05_s:MRIOccipitalLesion y: 20-04:BayleyIIICognitiveComposite\n",
      "_corr_coeff: to eval: x: 03-05_s:MRIOccipitalLesion y: 20-04:BayleyIIILanguageComposite valid_x: 298 valid_y: 411\n",
      "_corr_coeff: done: x: 03-05_s:MRIOccipitalLesion y: 20-04:BayleyIIILanguageComposite\n",
      "_corr_coeff: to eval: x: 03-05_s:MRIOccipitalLesion y: 20-04:BayleyIIIMotorComposite valid_x: 298 valid_y: 415\n",
      "_corr_coeff: done: x: 03-05_s:MRIOccipitalLesion y: 20-04:BayleyIIIMotorComposite\n"
     ]
    },
    {
     "name": "stderr",
     "output_type": "stream",
     "text": [
      "\r",
      " 63%|██████▎   | 215/341 [00:46<00:25,  5.00it/s]"
     ]
    },
    {
     "name": "stderr",
     "output_type": "stream",
     "text": [
      "\r",
      " 63%|██████▎   | 216/341 [00:46<00:24,  5.17it/s]"
     ]
    },
    {
     "name": "stdout",
     "output_type": "stream",
     "text": [
      "_corr_coeff: to eval: x: 03-05_s:MRIOpticChiasmLesion y: 20-10:moderateSevereDisabilityOrDeath valid_x: 298 valid_y: 504\n",
      "_corr_coeff: done: x: 03-05_s:MRIOpticChiasmLesion y: 20-10:moderateSevereDisabilityOrDeath\n",
      "_corr_coeff: to eval: x: 03-05_s:MRIOpticChiasmLesion y: 20-10:disabilityLevelDeath4Category valid_x: 298 valid_y: 498\n",
      "_corr_coeff: done: x: 03-05_s:MRIOpticChiasmLesion y: 20-10:disabilityLevelDeath4Category\n",
      "_corr_coeff: to eval: x: 03-05_s:MRIOpticChiasmLesion y: 20-10_1:disabilityLevelDeath valid_x: 298 valid_y: 498\n",
      "_corr_coeff: done: x: 03-05_s:MRIOpticChiasmLesion y: 20-10_1:disabilityLevelDeath\n",
      "_corr_coeff: to eval: x: 03-05_s:MRIOpticChiasmLesion y: 20-04:BayleyIIICognitiveComposite valid_x: 298 valid_y: 421\n",
      "_corr_coeff: done: x: 03-05_s:MRIOpticChiasmLesion y: 20-04:BayleyIIICognitiveComposite\n",
      "_corr_coeff: to eval: x: 03-05_s:MRIOpticChiasmLesion y: 20-04:BayleyIIILanguageComposite valid_x: 298 valid_y: 411\n",
      "_corr_coeff: done: x: 03-05_s:MRIOpticChiasmLesion y: 20-04:BayleyIIILanguageComposite\n",
      "_corr_coeff: to eval: x: 03-05_s:MRIOpticChiasmLesion y: 20-04:BayleyIIIMotorComposite valid_x: 298 valid_y: 415\n",
      "_corr_coeff: done: x: 03-05_s:MRIOpticChiasmLesion y: 20-04:BayleyIIIMotorComposite\n",
      "_corr_coeff: to eval: x: 03-05_s:MRIOtherLesion y: 20-10:moderateSevereDisabilityOrDeath valid_x: 298 valid_y: 504\n",
      "_corr_coeff: done: x: 03-05_s:MRIOtherLesion y: 20-10:moderateSevereDisabilityOrDeath\n"
     ]
    },
    {
     "name": "stderr",
     "output_type": "stream",
     "text": [
      "\r",
      " 64%|██████▎   | 217/341 [00:46<00:23,  5.26it/s]"
     ]
    },
    {
     "name": "stdout",
     "output_type": "stream",
     "text": [
      "_corr_coeff: to eval: x: 03-05_s:MRIOtherLesion y: 20-10:disabilityLevelDeath4Category valid_x: 298 valid_y: 498\n",
      "_corr_coeff: done: x: 03-05_s:MRIOtherLesion y: 20-10:disabilityLevelDeath4Category\n",
      "_corr_coeff: to eval: x: 03-05_s:MRIOtherLesion y: 20-10_1:disabilityLevelDeath valid_x: 298 valid_y: 498\n",
      "_corr_coeff: done: x: 03-05_s:MRIOtherLesion y: 20-10_1:disabilityLevelDeath\n",
      "_corr_coeff: to eval: x: 03-05_s:MRIOtherLesion y: 20-04:BayleyIIICognitiveComposite valid_x: 298 valid_y: 421\n",
      "_corr_coeff: done: x: 03-05_s:MRIOtherLesion y: 20-04:BayleyIIICognitiveComposite\n",
      "_corr_coeff: to eval: x: 03-05_s:MRIOtherLesion y: 20-04:BayleyIIILanguageComposite valid_x: 298 valid_y: 411\n",
      "_corr_coeff: done: x: 03-05_s:MRIOtherLesion y: 20-04:BayleyIIILanguageComposite\n",
      "_corr_coeff: to eval: x: 03-05_s:MRIOtherLesion y: 20-04:BayleyIIIMotorComposite valid_x: 298 valid_y: 415\n",
      "_corr_coeff: done: x: 03-05_s:MRIOtherLesion y: 20-04:BayleyIIIMotorComposite\n",
      "_corr_coeff: to eval: x: 03-05_s:MRIOtherCerebralLesion y: 20-10:moderateSevereDisabilityOrDeath valid_x: 298 valid_y: 504\n",
      "_corr_coeff: done: x: 03-05_s:MRIOtherCerebralLesion y: 20-10:moderateSevereDisabilityOrDeath\n",
      "_corr_coeff: to eval: x: 03-05_s:MRIOtherCerebralLesion y: 20-10:disabilityLevelDeath4Category valid_x: 298 valid_y: 498\n",
      "_corr_coeff: done: x: 03-05_s:MRIOtherCerebralLesion y: 20-10:disabilityLevelDeath4Category\n"
     ]
    },
    {
     "name": "stderr",
     "output_type": "stream",
     "text": [
      "\r",
      " 64%|██████▍   | 218/341 [00:47<00:22,  5.35it/s]"
     ]
    },
    {
     "name": "stdout",
     "output_type": "stream",
     "text": [
      "_corr_coeff: to eval: x: 03-05_s:MRIOtherCerebralLesion y: 20-10_1:disabilityLevelDeath valid_x: 298 valid_y: 498\n",
      "_corr_coeff: done: x: 03-05_s:MRIOtherCerebralLesion y: 20-10_1:disabilityLevelDeath\n",
      "_corr_coeff: to eval: x: 03-05_s:MRIOtherCerebralLesion y: 20-04:BayleyIIICognitiveComposite valid_x: 298 valid_y: 421\n",
      "_corr_coeff: done: x: 03-05_s:MRIOtherCerebralLesion y: 20-04:BayleyIIICognitiveComposite\n",
      "_corr_coeff: to eval: x: 03-05_s:MRIOtherCerebralLesion y: 20-04:BayleyIIILanguageComposite valid_x: 298 valid_y: 411\n",
      "_corr_coeff: done: x: 03-05_s:MRIOtherCerebralLesion y: 20-04:BayleyIIILanguageComposite\n",
      "_corr_coeff: to eval: x: 03-05_s:MRIOtherCerebralLesion y: 20-04:BayleyIIIMotorComposite valid_x: 298 valid_y: 415\n",
      "_corr_coeff: done: x: 03-05_s:MRIOtherCerebralLesion y: 20-04:BayleyIIIMotorComposite\n",
      "_corr_coeff: to eval: x: 03-05_s:MRIParasagittalLesion y: 20-10:moderateSevereDisabilityOrDeath valid_x: 298 valid_y: 504\n",
      "_corr_coeff: done: x: 03-05_s:MRIParasagittalLesion y: 20-10:moderateSevereDisabilityOrDeath\n",
      "_corr_coeff: to eval: x: 03-05_s:MRIParasagittalLesion y: 20-10:disabilityLevelDeath4Category valid_x: 298 valid_y: 498\n",
      "_corr_coeff: done: x: 03-05_s:MRIParasagittalLesion y: 20-10:disabilityLevelDeath4Category\n",
      "_corr_coeff: to eval: x: 03-05_s:MRIParasagittalLesion y: 20-10_1:disabilityLevelDeath valid_x: 298 valid_y: 498\n",
      "_corr_coeff: done: x: 03-05_s:MRIParasagittalLesion y: 20-10_1:disabilityLevelDeath\n"
     ]
    },
    {
     "name": "stderr",
     "output_type": "stream",
     "text": [
      "\r",
      " 64%|██████▍   | 219/341 [00:47<00:22,  5.42it/s]"
     ]
    },
    {
     "name": "stdout",
     "output_type": "stream",
     "text": [
      "_corr_coeff: to eval: x: 03-05_s:MRIParasagittalLesion y: 20-04:BayleyIIICognitiveComposite valid_x: 298 valid_y: 421\n",
      "_corr_coeff: done: x: 03-05_s:MRIParasagittalLesion y: 20-04:BayleyIIICognitiveComposite\n",
      "_corr_coeff: to eval: x: 03-05_s:MRIParasagittalLesion y: 20-04:BayleyIIILanguageComposite valid_x: 298 valid_y: 411\n",
      "_corr_coeff: done: x: 03-05_s:MRIParasagittalLesion y: 20-04:BayleyIIILanguageComposite\n",
      "_corr_coeff: to eval: x: 03-05_s:MRIParasagittalLesion y: 20-04:BayleyIIIMotorComposite valid_x: 298 valid_y: 415\n",
      "_corr_coeff: done: x: 03-05_s:MRIParasagittalLesion y: 20-04:BayleyIIIMotorComposite\n",
      "_corr_coeff: to eval: x: 03-05_s:MRIParietalLesion y: 20-10:moderateSevereDisabilityOrDeath valid_x: 298 valid_y: 504\n",
      "_corr_coeff: done: x: 03-05_s:MRIParietalLesion y: 20-10:moderateSevereDisabilityOrDeath\n",
      "_corr_coeff: to eval: x: 03-05_s:MRIParietalLesion y: 20-10:disabilityLevelDeath4Category valid_x: 298 valid_y: 498\n",
      "_corr_coeff: done: x: 03-05_s:MRIParietalLesion y: 20-10:disabilityLevelDeath4Category\n",
      "_corr_coeff: to eval: x: 03-05_s:MRIParietalLesion y: 20-10_1:disabilityLevelDeath valid_x: 298 valid_y: 498\n",
      "_corr_coeff: done: x: 03-05_s:MRIParietalLesion y: 20-10_1:disabilityLevelDeath\n"
     ]
    },
    {
     "name": "stderr",
     "output_type": "stream",
     "text": [
      "\r",
      " 65%|██████▍   | 220/341 [00:47<00:24,  5.01it/s]"
     ]
    },
    {
     "name": "stdout",
     "output_type": "stream",
     "text": [
      "_corr_coeff: to eval: x: 03-05_s:MRIParietalLesion y: 20-04:BayleyIIICognitiveComposite valid_x: 298 valid_y: 421\n",
      "_corr_coeff: done: x: 03-05_s:MRIParietalLesion y: 20-04:BayleyIIICognitiveComposite\n",
      "_corr_coeff: to eval: x: 03-05_s:MRIParietalLesion y: 20-04:BayleyIIILanguageComposite valid_x: 298 valid_y: 411\n",
      "_corr_coeff: done: x: 03-05_s:MRIParietalLesion y: 20-04:BayleyIIILanguageComposite\n",
      "_corr_coeff: to eval: x: 03-05_s:MRIParietalLesion y: 20-04:BayleyIIIMotorComposite valid_x: 298 valid_y: 415\n",
      "_corr_coeff: done: x: 03-05_s:MRIParietalLesion y: 20-04:BayleyIIIMotorComposite\n",
      "_corr_coeff: to eval: x: 03-05_s:MRIPreirolandicLesion y: 20-10:moderateSevereDisabilityOrDeath valid_x: 298 valid_y: 504\n",
      "_corr_coeff: done: x: 03-05_s:MRIPreirolandicLesion y: 20-10:moderateSevereDisabilityOrDeath\n",
      "_corr_coeff: to eval: x: 03-05_s:MRIPreirolandicLesion y: 20-10:disabilityLevelDeath4Category valid_x: 298 valid_y: 498\n",
      "_corr_coeff: done: x: 03-05_s:MRIPreirolandicLesion y: 20-10:disabilityLevelDeath4Category\n",
      "_corr_coeff: to eval: x: 03-05_s:MRIPreirolandicLesion y: 20-10_1:disabilityLevelDeath valid_x: 298 valid_y: 498\n",
      "_corr_coeff: done: x: 03-05_s:MRIPreirolandicLesion y: 20-10_1:disabilityLevelDeath\n",
      "_corr_coeff: to eval: x: 03-05_s:MRIPreirolandicLesion y: 20-04:BayleyIIICognitiveComposite valid_x: 298 valid_y: 421\n",
      "_corr_coeff: done: x: 03-05_s:MRIPreirolandicLesion y: 20-04:BayleyIIICognitiveComposite\n"
     ]
    },
    {
     "name": "stderr",
     "output_type": "stream",
     "text": [
      "\r",
      " 65%|██████▍   | 221/341 [00:47<00:23,  5.17it/s]"
     ]
    },
    {
     "name": "stdout",
     "output_type": "stream",
     "text": [
      "_corr_coeff: to eval: x: 03-05_s:MRIPreirolandicLesion y: 20-04:BayleyIIILanguageComposite valid_x: 298 valid_y: 411\n",
      "_corr_coeff: done: x: 03-05_s:MRIPreirolandicLesion y: 20-04:BayleyIIILanguageComposite\n",
      "_corr_coeff: to eval: x: 03-05_s:MRIPreirolandicLesion y: 20-04:BayleyIIIMotorComposite valid_x: 298 valid_y: 415\n",
      "_corr_coeff: done: x: 03-05_s:MRIPreirolandicLesion y: 20-04:BayleyIIIMotorComposite\n",
      "_corr_coeff: to eval: x: 03-05_s:MRIPerisylvianLesion y: 20-10:moderateSevereDisabilityOrDeath valid_x: 298 valid_y: 504\n",
      "_corr_coeff: done: x: 03-05_s:MRIPerisylvianLesion y: 20-10:moderateSevereDisabilityOrDeath\n",
      "_corr_coeff: to eval: x: 03-05_s:MRIPerisylvianLesion y: 20-10:disabilityLevelDeath4Category valid_x: 298 valid_y: 498\n",
      "_corr_coeff: done: x: 03-05_s:MRIPerisylvianLesion y: 20-10:disabilityLevelDeath4Category\n",
      "_corr_coeff: to eval: x: 03-05_s:MRIPerisylvianLesion y: 20-10_1:disabilityLevelDeath valid_x: 298 valid_y: 498\n",
      "_corr_coeff: done: x: 03-05_s:MRIPerisylvianLesion y: 20-10_1:disabilityLevelDeath\n",
      "_corr_coeff: to eval: x: 03-05_s:MRIPerisylvianLesion y: 20-04:BayleyIIICognitiveComposite valid_x: 298 valid_y: 421\n",
      "_corr_coeff: done: x: 03-05_s:MRIPerisylvianLesion y: 20-04:BayleyIIICognitiveComposite\n",
      "_corr_coeff: to eval: x: 03-05_s:MRIPerisylvianLesion y: 20-04:BayleyIIILanguageComposite valid_x: 298 valid_y: 411\n",
      "_corr_coeff: done: x: 03-05_s:MRIPerisylvianLesion y: 20-04:BayleyIIILanguageComposite\n"
     ]
    },
    {
     "name": "stderr",
     "output_type": "stream",
     "text": [
      "\r",
      " 65%|██████▌   | 222/341 [00:47<00:22,  5.26it/s]"
     ]
    },
    {
     "name": "stdout",
     "output_type": "stream",
     "text": [
      "_corr_coeff: to eval: x: 03-05_s:MRIPerisylvianLesion y: 20-04:BayleyIIIMotorComposite valid_x: 298 valid_y: 415\n",
      "_corr_coeff: done: x: 03-05_s:MRIPerisylvianLesion y: 20-04:BayleyIIIMotorComposite\n",
      "_corr_coeff: to eval: x: 03-05_s:MRIPituitaryLesion y: 20-10:moderateSevereDisabilityOrDeath valid_x: 298 valid_y: 504\n",
      "_corr_coeff: done: x: 03-05_s:MRIPituitaryLesion y: 20-10:moderateSevereDisabilityOrDeath\n",
      "_corr_coeff: to eval: x: 03-05_s:MRIPituitaryLesion y: 20-10:disabilityLevelDeath4Category valid_x: 298 valid_y: 498\n",
      "_corr_coeff: done: x: 03-05_s:MRIPituitaryLesion y: 20-10:disabilityLevelDeath4Category\n",
      "_corr_coeff: to eval: x: 03-05_s:MRIPituitaryLesion y: 20-10_1:disabilityLevelDeath valid_x: 298 valid_y: 498\n",
      "_corr_coeff: done: x: 03-05_s:MRIPituitaryLesion y: 20-10_1:disabilityLevelDeath\n",
      "_corr_coeff: to eval: x: 03-05_s:MRIPituitaryLesion y: 20-04:BayleyIIICognitiveComposite valid_x: 298 valid_y: 421\n",
      "_corr_coeff: done: x: 03-05_s:MRIPituitaryLesion y: 20-04:BayleyIIICognitiveComposite\n",
      "_corr_coeff: to eval: x: 03-05_s:MRIPituitaryLesion y: 20-04:BayleyIIILanguageComposite valid_x: 298 valid_y: 411\n",
      "_corr_coeff: done: x: 03-05_s:MRIPituitaryLesion y: 20-04:BayleyIIILanguageComposite\n"
     ]
    },
    {
     "name": "stderr",
     "output_type": "stream",
     "text": [
      "\r",
      " 65%|██████▌   | 223/341 [00:48<00:24,  4.92it/s]"
     ]
    },
    {
     "name": "stderr",
     "output_type": "stream",
     "text": [
      "\r",
      " 66%|██████▌   | 224/341 [00:48<00:23,  5.05it/s]"
     ]
    },
    {
     "name": "stdout",
     "output_type": "stream",
     "text": [
      "_corr_coeff: to eval: x: 03-05_s:MRIPituitaryLesion y: 20-04:BayleyIIIMotorComposite valid_x: 298 valid_y: 415\n",
      "_corr_coeff: done: x: 03-05_s:MRIPituitaryLesion y: 20-04:BayleyIIIMotorComposite\n",
      "_corr_coeff: to eval: x: 03-05_s:MRIParietalOccipitalLesion y: 20-10:moderateSevereDisabilityOrDeath valid_x: 298 valid_y: 504\n",
      "_corr_coeff: done: x: 03-05_s:MRIParietalOccipitalLesion y: 20-10:moderateSevereDisabilityOrDeath\n",
      "_corr_coeff: to eval: x: 03-05_s:MRIParietalOccipitalLesion y: 20-10:disabilityLevelDeath4Category valid_x: 298 valid_y: 498\n",
      "_corr_coeff: done: x: 03-05_s:MRIParietalOccipitalLesion y: 20-10:disabilityLevelDeath4Category\n",
      "_corr_coeff: to eval: x: 03-05_s:MRIParietalOccipitalLesion y: 20-10_1:disabilityLevelDeath valid_x: 298 valid_y: 498\n",
      "_corr_coeff: done: x: 03-05_s:MRIParietalOccipitalLesion y: 20-10_1:disabilityLevelDeath\n",
      "_corr_coeff: to eval: x: 03-05_s:MRIParietalOccipitalLesion y: 20-04:BayleyIIICognitiveComposite valid_x: 298 valid_y: 421\n",
      "_corr_coeff: done: x: 03-05_s:MRIParietalOccipitalLesion y: 20-04:BayleyIIICognitiveComposite\n",
      "_corr_coeff: to eval: x: 03-05_s:MRIParietalOccipitalLesion y: 20-04:BayleyIIILanguageComposite valid_x: 298 valid_y: 411\n",
      "_corr_coeff: done: x: 03-05_s:MRIParietalOccipitalLesion y: 20-04:BayleyIIILanguageComposite\n",
      "_corr_coeff: to eval: x: 03-05_s:MRIParietalOccipitalLesion y: 20-04:BayleyIIIMotorComposite valid_x: 298 valid_y: 415\n",
      "_corr_coeff: done: x: 03-05_s:MRIParietalOccipitalLesion y: 20-04:BayleyIIIMotorComposite\n"
     ]
    },
    {
     "name": "stdout",
     "output_type": "stream",
     "text": [
      "_corr_coeff: to eval: x: 03-05_s:MRIParietalTemporalLesion y: 20-10:moderateSevereDisabilityOrDeath valid_x: 298 valid_y: 504\n",
      "_corr_coeff: done: x: 03-05_s:MRIParietalTemporalLesion y: 20-10:moderateSevereDisabilityOrDeath\n",
      "_corr_coeff: to eval: x: 03-05_s:MRIParietalTemporalLesion y: 20-10:disabilityLevelDeath4Category valid_x: 298 valid_y: 498\n",
      "_corr_coeff: done: x: 03-05_s:MRIParietalTemporalLesion y: 20-10:disabilityLevelDeath4Category\n",
      "_corr_coeff: to eval: x: 03-05_s:MRIParietalTemporalLesion y: 20-10_1:disabilityLevelDeath valid_x: 298 valid_y: 498\n",
      "_corr_coeff: done: x: 03-05_s:MRIParietalTemporalLesion y: 20-10_1:disabilityLevelDeath\n",
      "_corr_coeff: to eval: x: 03-05_s:MRIParietalTemporalLesion y: 20-04:BayleyIIICognitiveComposite valid_x: 298 valid_y: 421\n",
      "_corr_coeff: done: x: 03-05_s:MRIParietalTemporalLesion y: 20-04:BayleyIIICognitiveComposite\n",
      "_corr_coeff: to eval: x: 03-05_s:MRIParietalTemporalLesion y: 20-04:BayleyIIILanguageComposite valid_x: 298 valid_y: 411\n",
      "_corr_coeff: done: x: 03-05_s:MRIParietalTemporalLesion y: 20-04:BayleyIIILanguageComposite\n",
      "_corr_coeff: to eval: x: 03-05_s:MRIParietalTemporalLesion y: 20-04:BayleyIIIMotorComposite valid_x: 298 valid_y: 415\n",
      "_corr_coeff: done: x: 03-05_s:MRIParietalTemporalLesion y: 20-04:BayleyIIIMotorComposite\n"
     ]
    },
    {
     "name": "stderr",
     "output_type": "stream",
     "text": [
      "\r",
      " 66%|██████▌   | 225/341 [00:48<00:24,  4.79it/s]"
     ]
    },
    {
     "name": "stderr",
     "output_type": "stream",
     "text": [
      "\r",
      " 66%|██████▋   | 226/341 [00:48<00:23,  4.97it/s]"
     ]
    },
    {
     "name": "stdout",
     "output_type": "stream",
     "text": [
      "_corr_coeff: to eval: x: 03-05_s:MRIScalpLesion y: 20-10:moderateSevereDisabilityOrDeath valid_x: 298 valid_y: 504\n",
      "_corr_coeff: done: x: 03-05_s:MRIScalpLesion y: 20-10:moderateSevereDisabilityOrDeath\n",
      "_corr_coeff: to eval: x: 03-05_s:MRIScalpLesion y: 20-10:disabilityLevelDeath4Category valid_x: 298 valid_y: 498\n",
      "_corr_coeff: done: x: 03-05_s:MRIScalpLesion y: 20-10:disabilityLevelDeath4Category\n",
      "_corr_coeff: to eval: x: 03-05_s:MRIScalpLesion y: 20-10_1:disabilityLevelDeath valid_x: 298 valid_y: 498\n",
      "_corr_coeff: done: x: 03-05_s:MRIScalpLesion y: 20-10_1:disabilityLevelDeath\n",
      "_corr_coeff: to eval: x: 03-05_s:MRIScalpLesion y: 20-04:BayleyIIICognitiveComposite valid_x: 298 valid_y: 421\n",
      "_corr_coeff: done: x: 03-05_s:MRIScalpLesion y: 20-04:BayleyIIICognitiveComposite\n",
      "_corr_coeff: to eval: x: 03-05_s:MRIScalpLesion y: 20-04:BayleyIIILanguageComposite valid_x: 298 valid_y: 411\n",
      "_corr_coeff: done: x: 03-05_s:MRIScalpLesion y: 20-04:BayleyIIILanguageComposite\n",
      "_corr_coeff: to eval: x: 03-05_s:MRIScalpLesion y: 20-04:BayleyIIIMotorComposite valid_x: 298 valid_y: 415\n",
      "_corr_coeff: done: x: 03-05_s:MRIScalpLesion y: 20-04:BayleyIIIMotorComposite\n",
      "_corr_coeff: to eval: x: 03-05_s:MRIThalamusLesion y: 20-10:moderateSevereDisabilityOrDeath valid_x: 298 valid_y: 504\n",
      "_corr_coeff: done: x: 03-05_s:MRIThalamusLesion y: 20-10:moderateSevereDisabilityOrDeath\n"
     ]
    },
    {
     "name": "stderr",
     "output_type": "stream",
     "text": [
      "\r",
      " 67%|██████▋   | 227/341 [00:48<00:24,  4.73it/s]"
     ]
    },
    {
     "name": "stdout",
     "output_type": "stream",
     "text": [
      "_corr_coeff: to eval: x: 03-05_s:MRIThalamusLesion y: 20-10:disabilityLevelDeath4Category valid_x: 298 valid_y: 498\n",
      "_corr_coeff: done: x: 03-05_s:MRIThalamusLesion y: 20-10:disabilityLevelDeath4Category\n",
      "_corr_coeff: to eval: x: 03-05_s:MRIThalamusLesion y: 20-10_1:disabilityLevelDeath valid_x: 298 valid_y: 498\n",
      "_corr_coeff: done: x: 03-05_s:MRIThalamusLesion y: 20-10_1:disabilityLevelDeath\n",
      "_corr_coeff: to eval: x: 03-05_s:MRIThalamusLesion y: 20-04:BayleyIIICognitiveComposite valid_x: 298 valid_y: 421\n",
      "_corr_coeff: done: x: 03-05_s:MRIThalamusLesion y: 20-04:BayleyIIICognitiveComposite\n",
      "_corr_coeff: to eval: x: 03-05_s:MRIThalamusLesion y: 20-04:BayleyIIILanguageComposite valid_x: 298 valid_y: 411\n",
      "_corr_coeff: done: x: 03-05_s:MRIThalamusLesion y: 20-04:BayleyIIILanguageComposite\n",
      "_corr_coeff: to eval: x: 03-05_s:MRIThalamusLesion y: 20-04:BayleyIIIMotorComposite valid_x: 298 valid_y: 415\n",
      "_corr_coeff: done: x: 03-05_s:MRIThalamusLesion y: 20-04:BayleyIIIMotorComposite\n"
     ]
    },
    {
     "name": "stderr",
     "output_type": "stream",
     "text": [
      "\r",
      " 67%|██████▋   | 228/341 [00:49<00:22,  4.94it/s]"
     ]
    },
    {
     "name": "stdout",
     "output_type": "stream",
     "text": [
      "_corr_coeff: to eval: x: 03-05_s:MRITemporalLesion y: 20-10:moderateSevereDisabilityOrDeath valid_x: 298 valid_y: 504\n",
      "_corr_coeff: done: x: 03-05_s:MRITemporalLesion y: 20-10:moderateSevereDisabilityOrDeath\n",
      "_corr_coeff: to eval: x: 03-05_s:MRITemporalLesion y: 20-10:disabilityLevelDeath4Category valid_x: 298 valid_y: 498\n",
      "_corr_coeff: done: x: 03-05_s:MRITemporalLesion y: 20-10:disabilityLevelDeath4Category\n",
      "_corr_coeff: to eval: x: 03-05_s:MRITemporalLesion y: 20-10_1:disabilityLevelDeath valid_x: 298 valid_y: 498\n",
      "_corr_coeff: done: x: 03-05_s:MRITemporalLesion y: 20-10_1:disabilityLevelDeath\n",
      "_corr_coeff: to eval: x: 03-05_s:MRITemporalLesion y: 20-04:BayleyIIICognitiveComposite valid_x: 298 valid_y: 421\n",
      "_corr_coeff: done: x: 03-05_s:MRITemporalLesion y: 20-04:BayleyIIICognitiveComposite\n",
      "_corr_coeff: to eval: x: 03-05_s:MRITemporalLesion y: 20-04:BayleyIIILanguageComposite valid_x: 298 valid_y: 411\n",
      "_corr_coeff: done: x: 03-05_s:MRITemporalLesion y: 20-04:BayleyIIILanguageComposite\n",
      "_corr_coeff: to eval: x: 03-05_s:MRITemporalLesion y: 20-04:BayleyIIIMotorComposite valid_x: 298 valid_y: 415\n",
      "_corr_coeff: done: x: 03-05_s:MRITemporalLesion y: 20-04:BayleyIIIMotorComposite\n",
      "_corr_coeff: to eval: x: 03-05_s:MRITemporalOccipitalLesion y: 20-10:moderateSevereDisabilityOrDeath valid_x: 298 valid_y: 504\n",
      "_corr_coeff: done: x: 03-05_s:MRITemporalOccipitalLesion y: 20-10:moderateSevereDisabilityOrDeath\n"
     ]
    },
    {
     "name": "stderr",
     "output_type": "stream",
     "text": [
      "\r",
      " 67%|██████▋   | 229/341 [00:49<00:23,  4.71it/s]"
     ]
    },
    {
     "name": "stdout",
     "output_type": "stream",
     "text": [
      "_corr_coeff: to eval: x: 03-05_s:MRITemporalOccipitalLesion y: 20-10:disabilityLevelDeath4Category valid_x: 298 valid_y: 498\n",
      "_corr_coeff: done: x: 03-05_s:MRITemporalOccipitalLesion y: 20-10:disabilityLevelDeath4Category\n",
      "_corr_coeff: to eval: x: 03-05_s:MRITemporalOccipitalLesion y: 20-10_1:disabilityLevelDeath valid_x: 298 valid_y: 498\n",
      "_corr_coeff: done: x: 03-05_s:MRITemporalOccipitalLesion y: 20-10_1:disabilityLevelDeath\n",
      "_corr_coeff: to eval: x: 03-05_s:MRITemporalOccipitalLesion y: 20-04:BayleyIIICognitiveComposite valid_x: 298 valid_y: 421\n",
      "_corr_coeff: done: x: 03-05_s:MRITemporalOccipitalLesion y: 20-04:BayleyIIICognitiveComposite\n",
      "_corr_coeff: to eval: x: 03-05_s:MRITemporalOccipitalLesion y: 20-04:BayleyIIILanguageComposite valid_x: 298 valid_y: 411\n",
      "_corr_coeff: done: x: 03-05_s:MRITemporalOccipitalLesion y: 20-04:BayleyIIILanguageComposite\n",
      "_corr_coeff: to eval: x: 03-05_s:MRITemporalOccipitalLesion y: 20-04:BayleyIIIMotorComposite valid_x: 298 valid_y: 415\n",
      "_corr_coeff: done: x: 03-05_s:MRITemporalOccipitalLesion y: 20-04:BayleyIIIMotorComposite\n",
      "_corr_coeff: to eval: x: 03-05_s:MRICerebralAtrophyMerge y: 20-10:moderateSevereDisabilityOrDeath valid_x: 297 valid_y: 504\n",
      "_corr_coeff: done: x: 03-05_s:MRICerebralAtrophyMerge y: 20-10:moderateSevereDisabilityOrDeath\n"
     ]
    },
    {
     "name": "stderr",
     "output_type": "stream",
     "text": [
      "\r",
      " 67%|██████▋   | 230/341 [00:49<00:22,  4.91it/s]"
     ]
    },
    {
     "name": "stdout",
     "output_type": "stream",
     "text": [
      "_corr_coeff: to eval: x: 03-05_s:MRICerebralAtrophyMerge y: 20-10:disabilityLevelDeath4Category valid_x: 297 valid_y: 498\n",
      "_corr_coeff: done: x: 03-05_s:MRICerebralAtrophyMerge y: 20-10:disabilityLevelDeath4Category\n",
      "_corr_coeff: to eval: x: 03-05_s:MRICerebralAtrophyMerge y: 20-10_1:disabilityLevelDeath valid_x: 297 valid_y: 498\n",
      "_corr_coeff: done: x: 03-05_s:MRICerebralAtrophyMerge y: 20-10_1:disabilityLevelDeath\n",
      "_corr_coeff: to eval: x: 03-05_s:MRICerebralAtrophyMerge y: 20-04:BayleyIIICognitiveComposite valid_x: 297 valid_y: 421\n",
      "_corr_coeff: done: x: 03-05_s:MRICerebralAtrophyMerge y: 20-04:BayleyIIICognitiveComposite\n",
      "_corr_coeff: to eval: x: 03-05_s:MRICerebralAtrophyMerge y: 20-04:BayleyIIILanguageComposite valid_x: 297 valid_y: 411\n",
      "_corr_coeff: done: x: 03-05_s:MRICerebralAtrophyMerge y: 20-04:BayleyIIILanguageComposite\n",
      "_corr_coeff: to eval: x: 03-05_s:MRICerebralAtrophyMerge y: 20-04:BayleyIIIMotorComposite valid_x: 297 valid_y: 415\n",
      "_corr_coeff: done: x: 03-05_s:MRICerebralAtrophyMerge y: 20-04:BayleyIIIMotorComposite\n",
      "_corr_coeff: to eval: x: 03-05_s:MRICerebralAtrophyQualAssessCCMerge y: 20-10:moderateSevereDisabilityOrDeath valid_x: 298 valid_y: 504\n",
      "_corr_coeff: done: x: 03-05_s:MRICerebralAtrophyQualAssessCCMerge y: 20-10:moderateSevereDisabilityOrDeath\n",
      "_corr_coeff: to eval: x: 03-05_s:MRICerebralAtrophyQualAssessCCMerge y: 20-10:disabilityLevelDeath4Category valid_x: 298 valid_y: 498\n",
      "_corr_coeff: done: x: 03-05_s:MRICerebralAtrophyQualAssessCCMerge y: 20-10:disabilityLevelDeath4Category\n"
     ]
    },
    {
     "name": "stderr",
     "output_type": "stream",
     "text": [
      "\r",
      " 68%|██████▊   | 231/341 [00:49<00:23,  4.71it/s]"
     ]
    },
    {
     "name": "stdout",
     "output_type": "stream",
     "text": [
      "_corr_coeff: to eval: x: 03-05_s:MRICerebralAtrophyQualAssessCCMerge y: 20-10_1:disabilityLevelDeath valid_x: 298 valid_y: 498\n",
      "_corr_coeff: done: x: 03-05_s:MRICerebralAtrophyQualAssessCCMerge y: 20-10_1:disabilityLevelDeath\n",
      "_corr_coeff: to eval: x: 03-05_s:MRICerebralAtrophyQualAssessCCMerge y: 20-04:BayleyIIICognitiveComposite valid_x: 298 valid_y: 421\n",
      "_corr_coeff: done: x: 03-05_s:MRICerebralAtrophyQualAssessCCMerge y: 20-04:BayleyIIICognitiveComposite\n",
      "_corr_coeff: to eval: x: 03-05_s:MRICerebralAtrophyQualAssessCCMerge y: 20-04:BayleyIIILanguageComposite valid_x: 298 valid_y: 411\n",
      "_corr_coeff: done: x: 03-05_s:MRICerebralAtrophyQualAssessCCMerge y: 20-04:BayleyIIILanguageComposite\n",
      "_corr_coeff: to eval: x: 03-05_s:MRICerebralAtrophyQualAssessCCMerge y: 20-04:BayleyIIIMotorComposite valid_x: 298 valid_y: 415\n",
      "_corr_coeff: done: x: 03-05_s:MRICerebralAtrophyQualAssessCCMerge y: 20-04:BayleyIIIMotorComposite\n",
      "_corr_coeff: to eval: x: 03-05_s:MRIVascularTerritoryInfarctionMerge y: 20-10:moderateSevereDisabilityOrDeath valid_x: 267 valid_y: 504\n",
      "_corr_coeff: done: x: 03-05_s:MRIVascularTerritoryInfarctionMerge y: 20-10:moderateSevereDisabilityOrDeath\n",
      "_corr_coeff: to eval: x: 03-05_s:MRIVascularTerritoryInfarctionMerge y: 20-10:disabilityLevelDeath4Category valid_x: 267 valid_y: 498\n",
      "_corr_coeff: done: x: 03-05_s:MRIVascularTerritoryInfarctionMerge y: 20-10:disabilityLevelDeath4Category\n",
      "_corr_coeff: to eval: x: 03-05_s:MRIVascularTerritoryInfarctionMerge y: 20-10_1:disabilityLevelDeath valid_x: 267 valid_y: 498\n",
      "_corr_coeff: done: x: 03-05_s:MRIVascularTerritoryInfarctionMerge y: 20-10_1:disabilityLevelDeath\n"
     ]
    },
    {
     "name": "stderr",
     "output_type": "stream",
     "text": [
      "\r",
      " 68%|██████▊   | 232/341 [00:49<00:22,  4.94it/s]"
     ]
    },
    {
     "name": "stdout",
     "output_type": "stream",
     "text": [
      "_corr_coeff: to eval: x: 03-05_s:MRIVascularTerritoryInfarctionMerge y: 20-04:BayleyIIICognitiveComposite valid_x: 267 valid_y: 421\n",
      "_corr_coeff: done: x: 03-05_s:MRIVascularTerritoryInfarctionMerge y: 20-04:BayleyIIICognitiveComposite\n",
      "_corr_coeff: to eval: x: 03-05_s:MRIVascularTerritoryInfarctionMerge y: 20-04:BayleyIIILanguageComposite valid_x: 267 valid_y: 411\n",
      "_corr_coeff: done: x: 03-05_s:MRIVascularTerritoryInfarctionMerge y: 20-04:BayleyIIILanguageComposite\n",
      "_corr_coeff: to eval: x: 03-05_s:MRIVascularTerritoryInfarctionMerge y: 20-04:BayleyIIIMotorComposite valid_x: 267 valid_y: 415\n",
      "_corr_coeff: done: x: 03-05_s:MRIVascularTerritoryInfarctionMerge y: 20-04:BayleyIIIMotorComposite\n",
      "_corr_coeff: to eval: x: 03-05_s:MRIVascularTerritoryInfarctionLeftMerge y: 20-10:moderateSevereDisabilityOrDeath valid_x: 128 valid_y: 504\n",
      "_corr_coeff: done: x: 03-05_s:MRIVascularTerritoryInfarctionLeftMerge y: 20-10:moderateSevereDisabilityOrDeath\n",
      "_corr_coeff: to eval: x: 03-05_s:MRIVascularTerritoryInfarctionLeftMerge y: 20-10:disabilityLevelDeath4Category valid_x: 128 valid_y: 498\n",
      "_corr_coeff: done: x: 03-05_s:MRIVascularTerritoryInfarctionLeftMerge y: 20-10:disabilityLevelDeath4Category\n",
      "_corr_coeff: to eval: x: 03-05_s:MRIVascularTerritoryInfarctionLeftMerge y: 20-10_1:disabilityLevelDeath valid_x: 128 valid_y: 498\n",
      "_corr_coeff: done: x: 03-05_s:MRIVascularTerritoryInfarctionLeftMerge y: 20-10_1:disabilityLevelDeath\n"
     ]
    },
    {
     "name": "stderr",
     "output_type": "stream",
     "text": [
      "\r",
      " 68%|██████▊   | 233/341 [00:50<00:22,  4.83it/s]"
     ]
    },
    {
     "name": "stdout",
     "output_type": "stream",
     "text": [
      "_corr_coeff: to eval: x: 03-05_s:MRIVascularTerritoryInfarctionLeftMerge y: 20-04:BayleyIIICognitiveComposite valid_x: 128 valid_y: 421\n",
      "_corr_coeff: done: x: 03-05_s:MRIVascularTerritoryInfarctionLeftMerge y: 20-04:BayleyIIICognitiveComposite\n",
      "_corr_coeff: to eval: x: 03-05_s:MRIVascularTerritoryInfarctionLeftMerge y: 20-04:BayleyIIILanguageComposite valid_x: 128 valid_y: 411\n",
      "_corr_coeff: done: x: 03-05_s:MRIVascularTerritoryInfarctionLeftMerge y: 20-04:BayleyIIILanguageComposite\n",
      "_corr_coeff: to eval: x: 03-05_s:MRIVascularTerritoryInfarctionLeftMerge y: 20-04:BayleyIIIMotorComposite valid_x: 128 valid_y: 415\n",
      "_corr_coeff: done: x: 03-05_s:MRIVascularTerritoryInfarctionLeftMerge y: 20-04:BayleyIIIMotorComposite\n",
      "_corr_coeff: to eval: x: 03-05_s:MRIVascularTerritoryInfarctionRightMerge y: 20-10:moderateSevereDisabilityOrDeath valid_x: 128 valid_y: 504\n",
      "_corr_coeff: done: x: 03-05_s:MRIVascularTerritoryInfarctionRightMerge y: 20-10:moderateSevereDisabilityOrDeath\n",
      "_corr_coeff: to eval: x: 03-05_s:MRIVascularTerritoryInfarctionRightMerge y: 20-10:disabilityLevelDeath4Category valid_x: 128 valid_y: 498\n",
      "_corr_coeff: done: x: 03-05_s:MRIVascularTerritoryInfarctionRightMerge y: 20-10:disabilityLevelDeath4Category\n",
      "_corr_coeff: to eval: x: 03-05_s:MRIVascularTerritoryInfarctionRightMerge y: 20-10_1:disabilityLevelDeath valid_x: 128 valid_y: 498\n",
      "_corr_coeff: done: x: 03-05_s:MRIVascularTerritoryInfarctionRightMerge y: 20-10_1:disabilityLevelDeath\n",
      "_corr_coeff: to eval: x: 03-05_s:MRIVascularTerritoryInfarctionRightMerge y: 20-04:BayleyIIICognitiveComposite valid_x: 128 valid_y: 421\n",
      "_corr_coeff: done: x: 03-05_s:MRIVascularTerritoryInfarctionRightMerge y: 20-04:BayleyIIICognitiveComposite\n",
      "_corr_coeff: to eval: x: 03-05_s:MRIVascularTerritoryInfarctionRightMerge y: 20-04:BayleyIIILanguageComposite valid_x: 128 valid_y: 411\n",
      "_corr_coeff: done: x: 03-05_s:MRIVascularTerritoryInfarctionRightMerge y: 20-04:BayleyIIILanguageComposite\n"
     ]
    },
    {
     "name": "stderr",
     "output_type": "stream",
     "text": [
      "\r",
      " 69%|██████▊   | 234/341 [00:50<00:20,  5.13it/s]"
     ]
    },
    {
     "name": "stdout",
     "output_type": "stream",
     "text": [
      "_corr_coeff: to eval: x: 03-05_s:MRIVascularTerritoryInfarctionRightMerge y: 20-04:BayleyIIIMotorComposite valid_x: 128 valid_y: 415\n",
      "_corr_coeff: done: x: 03-05_s:MRIVascularTerritoryInfarctionRightMerge y: 20-04:BayleyIIIMotorComposite\n",
      "_corr_coeff: to eval: x: 03-05_s:MRIHemisphericDevastation y: 20-10:moderateSevereDisabilityOrDeath valid_x: 298 valid_y: 504\n",
      "_corr_coeff: done: x: 03-05_s:MRIHemisphericDevastation y: 20-10:moderateSevereDisabilityOrDeath\n",
      "_corr_coeff: to eval: x: 03-05_s:MRIHemisphericDevastation y: 20-10:disabilityLevelDeath4Category valid_x: 298 valid_y: 498\n",
      "_corr_coeff: done: x: 03-05_s:MRIHemisphericDevastation y: 20-10:disabilityLevelDeath4Category\n",
      "_corr_coeff: to eval: x: 03-05_s:MRIHemisphericDevastation y: 20-10_1:disabilityLevelDeath valid_x: 298 valid_y: 498\n",
      "_corr_coeff: done: x: 03-05_s:MRIHemisphericDevastation y: 20-10_1:disabilityLevelDeath\n",
      "_corr_coeff: to eval: x: 03-05_s:MRIHemisphericDevastation y: 20-04:BayleyIIICognitiveComposite valid_x: 298 valid_y: 421\n",
      "_corr_coeff: done: x: 03-05_s:MRIHemisphericDevastation y: 20-04:BayleyIIICognitiveComposite\n"
     ]
    },
    {
     "name": "stderr",
     "output_type": "stream",
     "text": [
      "\r",
      " 69%|██████▉   | 235/341 [00:50<00:22,  4.81it/s]"
     ]
    },
    {
     "name": "stdout",
     "output_type": "stream",
     "text": [
      "_corr_coeff: to eval: x: 03-05_s:MRIHemisphericDevastation y: 20-04:BayleyIIILanguageComposite valid_x: 298 valid_y: 411\n",
      "_corr_coeff: done: x: 03-05_s:MRIHemisphericDevastation y: 20-04:BayleyIIILanguageComposite\n",
      "_corr_coeff: to eval: x: 03-05_s:MRIHemisphericDevastation y: 20-04:BayleyIIIMotorComposite valid_x: 298 valid_y: 415\n",
      "_corr_coeff: done: x: 03-05_s:MRIHemisphericDevastation y: 20-04:BayleyIIIMotorComposite\n",
      "_corr_coeff: to eval: x: 03-05_s:MRIVentricularDilatation y: 20-10:moderateSevereDisabilityOrDeath valid_x: 298 valid_y: 504\n",
      "_corr_coeff: done: x: 03-05_s:MRIVentricularDilatation y: 20-10:moderateSevereDisabilityOrDeath\n",
      "_corr_coeff: to eval: x: 03-05_s:MRIVentricularDilatation y: 20-10:disabilityLevelDeath4Category valid_x: 298 valid_y: 498\n",
      "_corr_coeff: done: x: 03-05_s:MRIVentricularDilatation y: 20-10:disabilityLevelDeath4Category\n",
      "_corr_coeff: to eval: x: 03-05_s:MRIVentricularDilatation y: 20-10_1:disabilityLevelDeath valid_x: 298 valid_y: 498\n",
      "_corr_coeff: done: x: 03-05_s:MRIVentricularDilatation y: 20-10_1:disabilityLevelDeath\n",
      "_corr_coeff: to eval: x: 03-05_s:MRIVentricularDilatation y: 20-04:BayleyIIICognitiveComposite valid_x: 298 valid_y: 421\n",
      "_corr_coeff: done: x: 03-05_s:MRIVentricularDilatation y: 20-04:BayleyIIICognitiveComposite\n",
      "_corr_coeff: to eval: x: 03-05_s:MRIVentricularDilatation y: 20-04:BayleyIIILanguageComposite valid_x: 298 valid_y: 411\n",
      "_corr_coeff: done: x: 03-05_s:MRIVentricularDilatation y: 20-04:BayleyIIILanguageComposite\n"
     ]
    },
    {
     "name": "stderr",
     "output_type": "stream",
     "text": [
      "\r",
      " 69%|██████▉   | 236/341 [00:50<00:22,  4.60it/s]"
     ]
    },
    {
     "name": "stderr",
     "output_type": "stream",
     "text": [
      "\r",
      " 70%|██████▉   | 237/341 [00:50<00:21,  4.81it/s]"
     ]
    },
    {
     "name": "stdout",
     "output_type": "stream",
     "text": [
      "_corr_coeff: to eval: x: 03-05_s:MRIVentricularDilatation y: 20-04:BayleyIIIMotorComposite valid_x: 298 valid_y: 415\n",
      "_corr_coeff: done: x: 03-05_s:MRIVentricularDilatation y: 20-04:BayleyIIIMotorComposite\n",
      "_corr_coeff: to eval: x: 03-05_s:MRIVascularLesion y: 20-10:moderateSevereDisabilityOrDeath valid_x: 298 valid_y: 504\n",
      "_corr_coeff: done: x: 03-05_s:MRIVascularLesion y: 20-10:moderateSevereDisabilityOrDeath\n",
      "_corr_coeff: to eval: x: 03-05_s:MRIVascularLesion y: 20-10:disabilityLevelDeath4Category valid_x: 298 valid_y: 498\n",
      "_corr_coeff: done: x: 03-05_s:MRIVascularLesion y: 20-10:disabilityLevelDeath4Category\n",
      "_corr_coeff: to eval: x: 03-05_s:MRIVascularLesion y: 20-10_1:disabilityLevelDeath valid_x: 298 valid_y: 498\n",
      "_corr_coeff: done: x: 03-05_s:MRIVascularLesion y: 20-10_1:disabilityLevelDeath\n",
      "_corr_coeff: to eval: x: 03-05_s:MRIVascularLesion y: 20-04:BayleyIIICognitiveComposite valid_x: 298 valid_y: 421\n",
      "_corr_coeff: done: x: 03-05_s:MRIVascularLesion y: 20-04:BayleyIIICognitiveComposite\n",
      "_corr_coeff: to eval: x: 03-05_s:MRIVascularLesion y: 20-04:BayleyIIILanguageComposite valid_x: 298 valid_y: 411\n",
      "_corr_coeff: done: x: 03-05_s:MRIVascularLesion y: 20-04:BayleyIIILanguageComposite\n",
      "_corr_coeff: to eval: x: 03-05_s:MRIVascularLesion y: 20-04:BayleyIIIMotorComposite valid_x: 298 valid_y: 415\n",
      "_corr_coeff: done: x: 03-05_s:MRIVascularLesion y: 20-04:BayleyIIIMotorComposite\n"
     ]
    },
    {
     "name": "stdout",
     "output_type": "stream",
     "text": [
      "_corr_coeff: to eval: x: 03-05_s:MRIIntraventricularLesion y: 20-10:moderateSevereDisabilityOrDeath valid_x: 298 valid_y: 504\n",
      "_corr_coeff: done: x: 03-05_s:MRIIntraventricularLesion y: 20-10:moderateSevereDisabilityOrDeath\n",
      "_corr_coeff: to eval: x: 03-05_s:MRIIntraventricularLesion y: 20-10:disabilityLevelDeath4Category valid_x: 298 valid_y: 498\n",
      "_corr_coeff: done: x: 03-05_s:MRIIntraventricularLesion y: 20-10:disabilityLevelDeath4Category\n",
      "_corr_coeff: to eval: x: 03-05_s:MRIIntraventricularLesion y: 20-10_1:disabilityLevelDeath valid_x: 298 valid_y: 498\n",
      "_corr_coeff: done: x: 03-05_s:MRIIntraventricularLesion y: 20-10_1:disabilityLevelDeath\n",
      "_corr_coeff: to eval: x: 03-05_s:MRIIntraventricularLesion y: 20-04:BayleyIIICognitiveComposite valid_x: 298 valid_y: 421\n",
      "_corr_coeff: done: x: 03-05_s:MRIIntraventricularLesion y: 20-04:BayleyIIICognitiveComposite\n",
      "_corr_coeff: to eval: x: 03-05_s:MRIIntraventricularLesion y: 20-04:BayleyIIILanguageComposite valid_x: 298 valid_y: 411\n",
      "_corr_coeff: done: x: 03-05_s:MRIIntraventricularLesion y: 20-04:BayleyIIILanguageComposite\n"
     ]
    },
    {
     "name": "stderr",
     "output_type": "stream",
     "text": [
      "\r",
      " 70%|██████▉   | 238/341 [00:51<00:22,  4.58it/s]"
     ]
    },
    {
     "name": "stderr",
     "output_type": "stream",
     "text": [
      "\r",
      " 70%|███████   | 239/341 [00:51<00:21,  4.71it/s]"
     ]
    },
    {
     "name": "stdout",
     "output_type": "stream",
     "text": [
      "_corr_coeff: to eval: x: 03-05_s:MRIIntraventricularLesion y: 20-04:BayleyIIIMotorComposite valid_x: 298 valid_y: 415\n",
      "_corr_coeff: done: x: 03-05_s:MRIIntraventricularLesion y: 20-04:BayleyIIIMotorComposite\n",
      "_corr_coeff: to eval: x: 03-05_s1:MRINRNPatternOfInjuryMerge y: 20-10:moderateSevereDisabilityOrDeath valid_x: 458 valid_y: 504\n",
      "_corr_coeff: done: x: 03-05_s1:MRINRNPatternOfInjuryMerge y: 20-10:moderateSevereDisabilityOrDeath\n",
      "_corr_coeff: to eval: x: 03-05_s1:MRINRNPatternOfInjuryMerge y: 20-10:disabilityLevelDeath4Category valid_x: 458 valid_y: 498\n",
      "_corr_coeff: done: x: 03-05_s1:MRINRNPatternOfInjuryMerge y: 20-10:disabilityLevelDeath4Category\n",
      "_corr_coeff: to eval: x: 03-05_s1:MRINRNPatternOfInjuryMerge y: 20-10_1:disabilityLevelDeath valid_x: 458 valid_y: 498\n",
      "_corr_coeff: done: x: 03-05_s1:MRINRNPatternOfInjuryMerge y: 20-10_1:disabilityLevelDeath\n",
      "_corr_coeff: to eval: x: 03-05_s1:MRINRNPatternOfInjuryMerge y: 20-04:BayleyIIICognitiveComposite valid_x: 458 valid_y: 421\n",
      "_corr_coeff: done: x: 03-05_s1:MRINRNPatternOfInjuryMerge y: 20-04:BayleyIIICognitiveComposite\n",
      "_corr_coeff: to eval: x: 03-05_s1:MRINRNPatternOfInjuryMerge y: 20-04:BayleyIIILanguageComposite valid_x: 458 valid_y: 411\n",
      "_corr_coeff: done: x: 03-05_s1:MRINRNPatternOfInjuryMerge y: 20-04:BayleyIIILanguageComposite\n",
      "_corr_coeff: to eval: x: 03-05_s1:MRINRNPatternOfInjuryMerge y: 20-04:BayleyIIIMotorComposite valid_x: 458 valid_y: 415\n",
      "_corr_coeff: done: x: 03-05_s1:MRINRNPatternOfInjuryMerge y: 20-04:BayleyIIIMotorComposite\n"
     ]
    },
    {
     "name": "stdout",
     "output_type": "stream",
     "text": [
      "_corr_coeff: to eval: x: 03-05_s1:MRINRNPatternOfInjuryAvg y: 20-10:moderateSevereDisabilityOrDeath valid_x: 456 valid_y: 504\n",
      "_corr_coeff: done: x: 03-05_s1:MRINRNPatternOfInjuryAvg y: 20-10:moderateSevereDisabilityOrDeath\n",
      "_corr_coeff: to eval: x: 03-05_s1:MRINRNPatternOfInjuryAvg y: 20-10:disabilityLevelDeath4Category valid_x: 456 valid_y: 498\n",
      "_corr_coeff: done: x: 03-05_s1:MRINRNPatternOfInjuryAvg y: 20-10:disabilityLevelDeath4Category\n",
      "_corr_coeff: to eval: x: 03-05_s1:MRINRNPatternOfInjuryAvg y: 20-10_1:disabilityLevelDeath valid_x: 456 valid_y: 498\n",
      "_corr_coeff: done: x: 03-05_s1:MRINRNPatternOfInjuryAvg y: 20-10_1:disabilityLevelDeath\n",
      "_corr_coeff: to eval: x: 03-05_s1:MRINRNPatternOfInjuryAvg y: 20-04:BayleyIIICognitiveComposite valid_x: 456 valid_y: 421\n",
      "_corr_coeff: done: x: 03-05_s1:MRINRNPatternOfInjuryAvg y: 20-04:BayleyIIICognitiveComposite\n",
      "_corr_coeff: to eval: x: 03-05_s1:MRINRNPatternOfInjuryAvg y: 20-04:BayleyIIILanguageComposite valid_x: 456 valid_y: 411\n",
      "_corr_coeff: done: x: 03-05_s1:MRINRNPatternOfInjuryAvg y: 20-04:BayleyIIILanguageComposite\n"
     ]
    },
    {
     "name": "stderr",
     "output_type": "stream",
     "text": [
      "\r",
      " 70%|███████   | 240/341 [00:51<00:22,  4.45it/s]"
     ]
    },
    {
     "name": "stderr",
     "output_type": "stream",
     "text": [
      "\r",
      " 71%|███████   | 241/341 [00:51<00:21,  4.60it/s]"
     ]
    },
    {
     "name": "stdout",
     "output_type": "stream",
     "text": [
      "_corr_coeff: to eval: x: 03-05_s1:MRINRNPatternOfInjuryAvg y: 20-04:BayleyIIIMotorComposite valid_x: 456 valid_y: 415\n",
      "_corr_coeff: done: x: 03-05_s1:MRINRNPatternOfInjuryAvg y: 20-04:BayleyIIIMotorComposite\n",
      "_corr_coeff: to eval: x: 03-05_s1:MRINRNPatternOfInjuryMax y: 20-10:moderateSevereDisabilityOrDeath valid_x: 456 valid_y: 504\n",
      "_corr_coeff: done: x: 03-05_s1:MRINRNPatternOfInjuryMax y: 20-10:moderateSevereDisabilityOrDeath\n",
      "_corr_coeff: to eval: x: 03-05_s1:MRINRNPatternOfInjuryMax y: 20-10:disabilityLevelDeath4Category valid_x: 456 valid_y: 498\n",
      "_corr_coeff: done: x: 03-05_s1:MRINRNPatternOfInjuryMax y: 20-10:disabilityLevelDeath4Category\n",
      "_corr_coeff: to eval: x: 03-05_s1:MRINRNPatternOfInjuryMax y: 20-10_1:disabilityLevelDeath valid_x: 456 valid_y: 498\n",
      "_corr_coeff: done: x: 03-05_s1:MRINRNPatternOfInjuryMax y: 20-10_1:disabilityLevelDeath\n",
      "_corr_coeff: to eval: x: 03-05_s1:MRINRNPatternOfInjuryMax y: 20-04:BayleyIIICognitiveComposite valid_x: 456 valid_y: 421\n",
      "_corr_coeff: done: x: 03-05_s1:MRINRNPatternOfInjuryMax y: 20-04:BayleyIIICognitiveComposite\n",
      "_corr_coeff: to eval: x: 03-05_s1:MRINRNPatternOfInjuryMax y: 20-04:BayleyIIILanguageComposite valid_x: 456 valid_y: 411\n",
      "_corr_coeff: done: x: 03-05_s1:MRINRNPatternOfInjuryMax y: 20-04:BayleyIIILanguageComposite\n",
      "_corr_coeff: to eval: x: 03-05_s1:MRINRNPatternOfInjuryMax y: 20-04:BayleyIIIMotorComposite valid_x: 456 valid_y: 415\n",
      "_corr_coeff: done: x: 03-05_s1:MRINRNPatternOfInjuryMax y: 20-04:BayleyIIIMotorComposite\n"
     ]
    },
    {
     "name": "stdout",
     "output_type": "stream",
     "text": [
      "_corr_coeff: to eval: x: 04-01:dischargeWeight_g y: 20-10:moderateSevereDisabilityOrDeath valid_x: 471 valid_y: 504\n",
      "_corr_coeff: done: x: 04-01:dischargeWeight_g y: 20-10:moderateSevereDisabilityOrDeath\n",
      "_corr_coeff: to eval: x: 04-01:dischargeWeight_g y: 20-10:disabilityLevelDeath4Category valid_x: 471 valid_y: 498\n",
      "_corr_coeff: done: x: 04-01:dischargeWeight_g y: 20-10:disabilityLevelDeath4Category\n",
      "_corr_coeff: to eval: x: 04-01:dischargeWeight_g y: 20-10_1:disabilityLevelDeath valid_x: 471 valid_y: 498\n",
      "_corr_coeff: done: x: 04-01:dischargeWeight_g y: 20-10_1:disabilityLevelDeath\n",
      "_corr_coeff: to eval: x: 04-01:dischargeWeight_g y: 20-04:BayleyIIICognitiveComposite valid_x: 471 valid_y: 421\n",
      "_corr_coeff: done: x: 04-01:dischargeWeight_g y: 20-04:BayleyIIICognitiveComposite\n",
      "_corr_coeff: to eval: x: 04-01:dischargeWeight_g y: 20-04:BayleyIIILanguageComposite valid_x: 471 valid_y: 411\n",
      "_corr_coeff: done: x: 04-01:dischargeWeight_g y: 20-04:BayleyIIILanguageComposite\n"
     ]
    },
    {
     "name": "stderr",
     "output_type": "stream",
     "text": [
      "\r",
      " 71%|███████   | 242/341 [00:52<00:22,  4.35it/s]"
     ]
    },
    {
     "name": "stderr",
     "output_type": "stream",
     "text": [
      "\r",
      " 71%|███████▏  | 243/341 [00:52<00:21,  4.58it/s]"
     ]
    },
    {
     "name": "stdout",
     "output_type": "stream",
     "text": [
      "_corr_coeff: to eval: x: 04-01:dischargeWeight_g y: 20-04:BayleyIIIMotorComposite valid_x: 471 valid_y: 415\n",
      "_corr_coeff: done: x: 04-01:dischargeWeight_g y: 20-04:BayleyIIIMotorComposite\n",
      "_corr_coeff: to eval: x: 04-01:dischargeLength_cm y: 20-10:moderateSevereDisabilityOrDeath valid_x: 442 valid_y: 504\n",
      "_corr_coeff: done: x: 04-01:dischargeLength_cm y: 20-10:moderateSevereDisabilityOrDeath\n",
      "_corr_coeff: to eval: x: 04-01:dischargeLength_cm y: 20-10:disabilityLevelDeath4Category valid_x: 442 valid_y: 498\n",
      "_corr_coeff: done: x: 04-01:dischargeLength_cm y: 20-10:disabilityLevelDeath4Category\n",
      "_corr_coeff: to eval: x: 04-01:dischargeLength_cm y: 20-10_1:disabilityLevelDeath valid_x: 442 valid_y: 498\n",
      "_corr_coeff: done: x: 04-01:dischargeLength_cm y: 20-10_1:disabilityLevelDeath\n",
      "_corr_coeff: to eval: x: 04-01:dischargeLength_cm y: 20-04:BayleyIIICognitiveComposite valid_x: 442 valid_y: 421\n",
      "_corr_coeff: done: x: 04-01:dischargeLength_cm y: 20-04:BayleyIIICognitiveComposite\n",
      "_corr_coeff: to eval: x: 04-01:dischargeLength_cm y: 20-04:BayleyIIILanguageComposite valid_x: 442 valid_y: 411\n",
      "_corr_coeff: done: x: 04-01:dischargeLength_cm y: 20-04:BayleyIIILanguageComposite\n",
      "_corr_coeff: to eval: x: 04-01:dischargeLength_cm y: 20-04:BayleyIIIMotorComposite valid_x: 442 valid_y: 415\n",
      "_corr_coeff: done: x: 04-01:dischargeLength_cm y: 20-04:BayleyIIIMotorComposite\n"
     ]
    },
    {
     "name": "stderr",
     "output_type": "stream",
     "text": [
      "\r",
      " 72%|███████▏  | 244/341 [00:52<00:20,  4.73it/s]"
     ]
    },
    {
     "name": "stdout",
     "output_type": "stream",
     "text": [
      "_corr_coeff: to eval: x: 04-01:dischargeHeadCircumference_cm y: 20-10:moderateSevereDisabilityOrDeath valid_x: 446 valid_y: 504\n",
      "_corr_coeff: done: x: 04-01:dischargeHeadCircumference_cm y: 20-10:moderateSevereDisabilityOrDeath\n",
      "_corr_coeff: to eval: x: 04-01:dischargeHeadCircumference_cm y: 20-10:disabilityLevelDeath4Category valid_x: 446 valid_y: 498\n",
      "_corr_coeff: done: x: 04-01:dischargeHeadCircumference_cm y: 20-10:disabilityLevelDeath4Category\n",
      "_corr_coeff: to eval: x: 04-01:dischargeHeadCircumference_cm y: 20-10_1:disabilityLevelDeath valid_x: 446 valid_y: 498\n",
      "_corr_coeff: done: x: 04-01:dischargeHeadCircumference_cm y: 20-10_1:disabilityLevelDeath\n",
      "_corr_coeff: to eval: x: 04-01:dischargeHeadCircumference_cm y: 20-04:BayleyIIICognitiveComposite valid_x: 446 valid_y: 421\n",
      "_corr_coeff: done: x: 04-01:dischargeHeadCircumference_cm y: 20-04:BayleyIIICognitiveComposite\n",
      "_corr_coeff: to eval: x: 04-01:dischargeHeadCircumference_cm y: 20-04:BayleyIIILanguageComposite valid_x: 446 valid_y: 411\n",
      "_corr_coeff: done: x: 04-01:dischargeHeadCircumference_cm y: 20-04:BayleyIIILanguageComposite\n",
      "_corr_coeff: to eval: x: 04-01:dischargeHeadCircumference_cm y: 20-04:BayleyIIIMotorComposite valid_x: 446 valid_y: 415\n",
      "_corr_coeff: done: x: 04-01:dischargeHeadCircumference_cm y: 20-04:BayleyIIIMotorComposite\n",
      "_corr_coeff: to eval: x: 04-01:transferWeight_g y: 20-10:moderateSevereDisabilityOrDeath valid_x: 40 valid_y: 504\n",
      "_corr_coeff: done: x: 04-01:transferWeight_g y: 20-10:moderateSevereDisabilityOrDeath\n"
     ]
    },
    {
     "name": "stderr",
     "output_type": "stream",
     "text": [
      "\r",
      " 72%|███████▏  | 245/341 [00:52<00:18,  5.17it/s]"
     ]
    },
    {
     "name": "stdout",
     "output_type": "stream",
     "text": [
      "_corr_coeff: to eval: x: 04-01:transferWeight_g y: 20-10:disabilityLevelDeath4Category valid_x: 40 valid_y: 498\n",
      "_corr_coeff: done: x: 04-01:transferWeight_g y: 20-10:disabilityLevelDeath4Category\n",
      "_corr_coeff: to eval: x: 04-01:transferWeight_g y: 20-10_1:disabilityLevelDeath valid_x: 40 valid_y: 498\n",
      "_corr_coeff: done: x: 04-01:transferWeight_g y: 20-10_1:disabilityLevelDeath\n",
      "_corr_coeff: to eval: x: 04-01:transferWeight_g y: 20-04:BayleyIIICognitiveComposite valid_x: 40 valid_y: 421\n",
      "_corr_coeff: done: x: 04-01:transferWeight_g y: 20-04:BayleyIIICognitiveComposite\n",
      "_corr_coeff: to eval: x: 04-01:transferWeight_g y: 20-04:BayleyIIILanguageComposite valid_x: 40 valid_y: 411\n",
      "_corr_coeff: done: x: 04-01:transferWeight_g y: 20-04:BayleyIIILanguageComposite\n",
      "_corr_coeff: to eval: x: 04-01:transferWeight_g y: 20-04:BayleyIIIMotorComposite valid_x: 40 valid_y: 415\n",
      "_corr_coeff: done: x: 04-01:transferWeight_g y: 20-04:BayleyIIIMotorComposite\n",
      "_corr_coeff: to eval: x: 04-01:transferLength_cm y: 20-10:moderateSevereDisabilityOrDeath valid_x: 34 valid_y: 504\n",
      "_corr_coeff: done: x: 04-01:transferLength_cm y: 20-10:moderateSevereDisabilityOrDeath\n",
      "_corr_coeff: to eval: x: 04-01:transferLength_cm y: 20-10:disabilityLevelDeath4Category valid_x: 34 valid_y: 498\n",
      "_corr_coeff: done: x: 04-01:transferLength_cm y: 20-10:disabilityLevelDeath4Category\n",
      "_corr_coeff: to eval: x: 04-01:transferLength_cm y: 20-10_1:disabilityLevelDeath valid_x: 34 valid_y: 498\n",
      "_corr_coeff: done: x: 04-01:transferLength_cm y: 20-10_1:disabilityLevelDeath\n",
      "_corr_coeff: to eval: x: 04-01:transferLength_cm y: 20-04:BayleyIIICognitiveComposite valid_x: 34 valid_y: 421\n",
      "_corr_coeff: done: x: 04-01:transferLength_cm y: 20-04:BayleyIIICognitiveComposite\n"
     ]
    },
    {
     "name": "stderr",
     "output_type": "stream",
     "text": [
      "\r",
      " 72%|███████▏  | 246/341 [00:52<00:17,  5.57it/s]"
     ]
    },
    {
     "name": "stderr",
     "output_type": "stream",
     "text": [
      "\r",
      " 72%|███████▏  | 247/341 [00:52<00:15,  5.90it/s]"
     ]
    },
    {
     "name": "stdout",
     "output_type": "stream",
     "text": [
      "_corr_coeff: to eval: x: 04-01:transferLength_cm y: 20-04:BayleyIIILanguageComposite valid_x: 34 valid_y: 411\n",
      "_corr_coeff: done: x: 04-01:transferLength_cm y: 20-04:BayleyIIILanguageComposite\n",
      "_corr_coeff: to eval: x: 04-01:transferLength_cm y: 20-04:BayleyIIIMotorComposite valid_x: 34 valid_y: 415\n",
      "_corr_coeff: done: x: 04-01:transferLength_cm y: 20-04:BayleyIIIMotorComposite\n",
      "_corr_coeff: to eval: x: 04-01:transferHeadCircumference_cm y: 20-10:moderateSevereDisabilityOrDeath valid_x: 35 valid_y: 504\n",
      "_corr_coeff: done: x: 04-01:transferHeadCircumference_cm y: 20-10:moderateSevereDisabilityOrDeath\n",
      "_corr_coeff: to eval: x: 04-01:transferHeadCircumference_cm y: 20-10:disabilityLevelDeath4Category valid_x: 35 valid_y: 498\n",
      "_corr_coeff: done: x: 04-01:transferHeadCircumference_cm y: 20-10:disabilityLevelDeath4Category\n",
      "_corr_coeff: to eval: x: 04-01:transferHeadCircumference_cm y: 20-10_1:disabilityLevelDeath valid_x: 35 valid_y: 498\n",
      "_corr_coeff: done: x: 04-01:transferHeadCircumference_cm y: 20-10_1:disabilityLevelDeath\n",
      "_corr_coeff: to eval: x: 04-01:transferHeadCircumference_cm y: 20-04:BayleyIIICognitiveComposite valid_x: 35 valid_y: 421\n",
      "_corr_coeff: done: x: 04-01:transferHeadCircumference_cm y: 20-04:BayleyIIICognitiveComposite\n",
      "_corr_coeff: to eval: x: 04-01:transferHeadCircumference_cm y: 20-04:BayleyIIILanguageComposite valid_x: 35 valid_y: 411\n",
      "_corr_coeff: done: x: 04-01:transferHeadCircumference_cm y: 20-04:BayleyIIILanguageComposite\n",
      "_corr_coeff: to eval: x: 04-01:transferHeadCircumference_cm y: 20-04:BayleyIIIMotorComposite valid_x: 35 valid_y: 415\n",
      "_corr_coeff: done: x: 04-01:transferHeadCircumference_cm y: 20-04:BayleyIIIMotorComposite\n",
      "_corr_coeff: to eval: x: 04-01:homeTherapyStatus y: 20-10:moderateSevereDisabilityOrDeath valid_x: 328 valid_y: 504\n",
      "_corr_coeff: done: x: 04-01:homeTherapyStatus y: 20-10:moderateSevereDisabilityOrDeath\n"
     ]
    },
    {
     "name": "stderr",
     "output_type": "stream",
     "text": [
      "\r",
      " 73%|███████▎  | 248/341 [00:53<00:17,  5.27it/s]"
     ]
    },
    {
     "name": "stdout",
     "output_type": "stream",
     "text": [
      "_corr_coeff: to eval: x: 04-01:homeTherapyStatus y: 20-10:disabilityLevelDeath4Category valid_x: 328 valid_y: 498\n",
      "_corr_coeff: done: x: 04-01:homeTherapyStatus y: 20-10:disabilityLevelDeath4Category\n",
      "_corr_coeff: to eval: x: 04-01:homeTherapyStatus y: 20-10_1:disabilityLevelDeath valid_x: 328 valid_y: 498\n",
      "_corr_coeff: done: x: 04-01:homeTherapyStatus y: 20-10_1:disabilityLevelDeath\n",
      "_corr_coeff: to eval: x: 04-01:homeTherapyStatus y: 20-04:BayleyIIICognitiveComposite valid_x: 328 valid_y: 421\n",
      "_corr_coeff: done: x: 04-01:homeTherapyStatus y: 20-04:BayleyIIICognitiveComposite\n",
      "_corr_coeff: to eval: x: 04-01:homeTherapyStatus y: 20-04:BayleyIIILanguageComposite valid_x: 328 valid_y: 411\n",
      "_corr_coeff: done: x: 04-01:homeTherapyStatus y: 20-04:BayleyIIILanguageComposite\n",
      "_corr_coeff: to eval: x: 04-01:homeTherapyStatus y: 20-04:BayleyIIIMotorComposite valid_x: 328 valid_y: 415\n",
      "_corr_coeff: done: x: 04-01:homeTherapyStatus y: 20-04:BayleyIIIMotorComposite\n",
      "_corr_coeff: to eval: x: 04-01:homeTherapyOxygen y: 20-10:moderateSevereDisabilityOrDeath valid_x: 131 valid_y: 504\n",
      "_corr_coeff: done: x: 04-01:homeTherapyOxygen y: 20-10:moderateSevereDisabilityOrDeath\n"
     ]
    },
    {
     "name": "stderr",
     "output_type": "stream",
     "text": [
      "\r",
      " 73%|███████▎  | 249/341 [00:53<00:16,  5.51it/s]"
     ]
    },
    {
     "name": "stdout",
     "output_type": "stream",
     "text": [
      "_corr_coeff: to eval: x: 04-01:homeTherapyOxygen y: 20-10:disabilityLevelDeath4Category valid_x: 131 valid_y: 498\n",
      "_corr_coeff: done: x: 04-01:homeTherapyOxygen y: 20-10:disabilityLevelDeath4Category\n",
      "_corr_coeff: to eval: x: 04-01:homeTherapyOxygen y: 20-10_1:disabilityLevelDeath valid_x: 131 valid_y: 498\n",
      "_corr_coeff: done: x: 04-01:homeTherapyOxygen y: 20-10_1:disabilityLevelDeath\n",
      "_corr_coeff: to eval: x: 04-01:homeTherapyOxygen y: 20-04:BayleyIIICognitiveComposite valid_x: 131 valid_y: 421\n",
      "_corr_coeff: done: x: 04-01:homeTherapyOxygen y: 20-04:BayleyIIICognitiveComposite\n",
      "_corr_coeff: to eval: x: 04-01:homeTherapyOxygen y: 20-04:BayleyIIILanguageComposite valid_x: 131 valid_y: 411\n",
      "_corr_coeff: done: x: 04-01:homeTherapyOxygen y: 20-04:BayleyIIILanguageComposite\n",
      "_corr_coeff: to eval: x: 04-01:homeTherapyOxygen y: 20-04:BayleyIIIMotorComposite valid_x: 131 valid_y: 415\n",
      "_corr_coeff: done: x: 04-01:homeTherapyOxygen y: 20-04:BayleyIIIMotorComposite\n",
      "_corr_coeff: to eval: x: 04-01:homeTherapyGavageTubeFeed y: 20-10:moderateSevereDisabilityOrDeath valid_x: 131 valid_y: 504\n",
      "_corr_coeff: done: x: 04-01:homeTherapyGavageTubeFeed y: 20-10:moderateSevereDisabilityOrDeath\n",
      "_corr_coeff: to eval: x: 04-01:homeTherapyGavageTubeFeed y: 20-10:disabilityLevelDeath4Category valid_x: 131 valid_y: 498\n",
      "_corr_coeff: done: x: 04-01:homeTherapyGavageTubeFeed y: 20-10:disabilityLevelDeath4Category\n",
      "_corr_coeff: to eval: x: 04-01:homeTherapyGavageTubeFeed y: 20-10_1:disabilityLevelDeath valid_x: 131 valid_y: 498\n",
      "_corr_coeff: done: x: 04-01:homeTherapyGavageTubeFeed y: 20-10_1:disabilityLevelDeath\n"
     ]
    },
    {
     "name": "stderr",
     "output_type": "stream",
     "text": [
      "\r",
      " 73%|███████▎  | 250/341 [00:53<00:15,  5.69it/s]"
     ]
    },
    {
     "name": "stdout",
     "output_type": "stream",
     "text": [
      "_corr_coeff: to eval: x: 04-01:homeTherapyGavageTubeFeed y: 20-04:BayleyIIICognitiveComposite valid_x: 131 valid_y: 421\n",
      "_corr_coeff: done: x: 04-01:homeTherapyGavageTubeFeed y: 20-04:BayleyIIICognitiveComposite\n",
      "_corr_coeff: to eval: x: 04-01:homeTherapyGavageTubeFeed y: 20-04:BayleyIIILanguageComposite valid_x: 131 valid_y: 411\n",
      "_corr_coeff: done: x: 04-01:homeTherapyGavageTubeFeed y: 20-04:BayleyIIILanguageComposite\n",
      "_corr_coeff: to eval: x: 04-01:homeTherapyGavageTubeFeed y: 20-04:BayleyIIIMotorComposite valid_x: 131 valid_y: 415\n",
      "_corr_coeff: done: x: 04-01:homeTherapyGavageTubeFeed y: 20-04:BayleyIIIMotorComposite\n",
      "_corr_coeff: to eval: x: 04-01:homeTherapyGastrostomyTubeFeed y: 20-10:moderateSevereDisabilityOrDeath valid_x: 131 valid_y: 504\n",
      "_corr_coeff: done: x: 04-01:homeTherapyGastrostomyTubeFeed y: 20-10:moderateSevereDisabilityOrDeath\n",
      "_corr_coeff: to eval: x: 04-01:homeTherapyGastrostomyTubeFeed y: 20-10:disabilityLevelDeath4Category valid_x: 131 valid_y: 498\n",
      "_corr_coeff: done: x: 04-01:homeTherapyGastrostomyTubeFeed y: 20-10:disabilityLevelDeath4Category\n",
      "_corr_coeff: to eval: x: 04-01:homeTherapyGastrostomyTubeFeed y: 20-10_1:disabilityLevelDeath valid_x: 131 valid_y: 498\n",
      "_corr_coeff: done: x: 04-01:homeTherapyGastrostomyTubeFeed y: 20-10_1:disabilityLevelDeath\n",
      "_corr_coeff: to eval: x: 04-01:homeTherapyGastrostomyTubeFeed y: 20-04:BayleyIIICognitiveComposite valid_x: 131 valid_y: 421\n",
      "_corr_coeff: done: x: 04-01:homeTherapyGastrostomyTubeFeed y: 20-04:BayleyIIICognitiveComposite\n",
      "_corr_coeff: to eval: x: 04-01:homeTherapyGastrostomyTubeFeed y: 20-04:BayleyIIILanguageComposite valid_x: 131 valid_y: 411\n",
      "_corr_coeff: done: x: 04-01:homeTherapyGastrostomyTubeFeed y: 20-04:BayleyIIILanguageComposite\n"
     ]
    },
    {
     "name": "stderr",
     "output_type": "stream",
     "text": [
      "\r",
      " 74%|███████▎  | 251/341 [00:53<00:16,  5.33it/s]"
     ]
    },
    {
     "name": "stderr",
     "output_type": "stream",
     "text": [
      "\r",
      " 74%|███████▍  | 252/341 [00:53<00:15,  5.57it/s]"
     ]
    },
    {
     "name": "stdout",
     "output_type": "stream",
     "text": [
      "_corr_coeff: to eval: x: 04-01:homeTherapyGastrostomyTubeFeed y: 20-04:BayleyIIIMotorComposite valid_x: 131 valid_y: 415\n",
      "_corr_coeff: done: x: 04-01:homeTherapyGastrostomyTubeFeed y: 20-04:BayleyIIIMotorComposite\n",
      "_corr_coeff: to eval: x: 04-01:homeTherapyAnticonvulsantMedication y: 20-10:moderateSevereDisabilityOrDeath valid_x: 130 valid_y: 504\n",
      "_corr_coeff: done: x: 04-01:homeTherapyAnticonvulsantMedication y: 20-10:moderateSevereDisabilityOrDeath\n",
      "_corr_coeff: to eval: x: 04-01:homeTherapyAnticonvulsantMedication y: 20-10:disabilityLevelDeath4Category valid_x: 130 valid_y: 498\n",
      "_corr_coeff: done: x: 04-01:homeTherapyAnticonvulsantMedication y: 20-10:disabilityLevelDeath4Category\n",
      "_corr_coeff: to eval: x: 04-01:homeTherapyAnticonvulsantMedication y: 20-10_1:disabilityLevelDeath valid_x: 130 valid_y: 498\n",
      "_corr_coeff: done: x: 04-01:homeTherapyAnticonvulsantMedication y: 20-10_1:disabilityLevelDeath\n",
      "_corr_coeff: to eval: x: 04-01:homeTherapyAnticonvulsantMedication y: 20-04:BayleyIIICognitiveComposite valid_x: 130 valid_y: 421\n",
      "_corr_coeff: done: x: 04-01:homeTherapyAnticonvulsantMedication y: 20-04:BayleyIIICognitiveComposite\n",
      "_corr_coeff: to eval: x: 04-01:homeTherapyAnticonvulsantMedication y: 20-04:BayleyIIILanguageComposite valid_x: 130 valid_y: 411\n",
      "_corr_coeff: done: x: 04-01:homeTherapyAnticonvulsantMedication y: 20-04:BayleyIIILanguageComposite\n",
      "_corr_coeff: to eval: x: 04-01:homeTherapyAnticonvulsantMedication y: 20-04:BayleyIIIMotorComposite valid_x: 130 valid_y: 415\n",
      "_corr_coeff: done: x: 04-01:homeTherapyAnticonvulsantMedication y: 20-04:BayleyIIIMotorComposite\n",
      "_corr_coeff: to eval: x: 04-01:homeTherapyOther y: 20-10:moderateSevereDisabilityOrDeath valid_x: 131 valid_y: 504\n",
      "_corr_coeff: done: x: 04-01:homeTherapyOther y: 20-10:moderateSevereDisabilityOrDeath\n"
     ]
    },
    {
     "name": "stderr",
     "output_type": "stream",
     "text": [
      "\r",
      " 74%|███████▍  | 253/341 [00:54<00:15,  5.73it/s]"
     ]
    },
    {
     "name": "stdout",
     "output_type": "stream",
     "text": [
      "_corr_coeff: to eval: x: 04-01:homeTherapyOther y: 20-10:disabilityLevelDeath4Category valid_x: 131 valid_y: 498\n",
      "_corr_coeff: done: x: 04-01:homeTherapyOther y: 20-10:disabilityLevelDeath4Category\n",
      "_corr_coeff: to eval: x: 04-01:homeTherapyOther y: 20-10_1:disabilityLevelDeath valid_x: 131 valid_y: 498\n",
      "_corr_coeff: done: x: 04-01:homeTherapyOther y: 20-10_1:disabilityLevelDeath\n",
      "_corr_coeff: to eval: x: 04-01:homeTherapyOther y: 20-04:BayleyIIICognitiveComposite valid_x: 131 valid_y: 421\n",
      "_corr_coeff: done: x: 04-01:homeTherapyOther y: 20-04:BayleyIIICognitiveComposite\n",
      "_corr_coeff: to eval: x: 04-01:homeTherapyOther y: 20-04:BayleyIIILanguageComposite valid_x: 131 valid_y: 411\n",
      "_corr_coeff: done: x: 04-01:homeTherapyOther y: 20-04:BayleyIIILanguageComposite\n",
      "_corr_coeff: to eval: x: 04-01:homeTherapyOther y: 20-04:BayleyIIIMotorComposite valid_x: 131 valid_y: 415\n",
      "_corr_coeff: done: x: 04-01:homeTherapyOther y: 20-04:BayleyIIIMotorComposite\n",
      "_corr_coeff: to eval: x: 04-01_1:lengthOfStay_day y: 20-10:moderateSevereDisabilityOrDeath valid_x: 529 valid_y: 504\n",
      "_corr_coeff: done: x: 04-01_1:lengthOfStay_day y: 20-10:moderateSevereDisabilityOrDeath\n"
     ]
    },
    {
     "name": "stderr",
     "output_type": "stream",
     "text": [
      "\r",
      " 74%|███████▍  | 254/341 [00:54<00:17,  5.05it/s]"
     ]
    },
    {
     "name": "stdout",
     "output_type": "stream",
     "text": [
      "_corr_coeff: to eval: x: 04-01_1:lengthOfStay_day y: 20-10:disabilityLevelDeath4Category valid_x: 529 valid_y: 498\n",
      "_corr_coeff: done: x: 04-01_1:lengthOfStay_day y: 20-10:disabilityLevelDeath4Category\n",
      "_corr_coeff: to eval: x: 04-01_1:lengthOfStay_day y: 20-10_1:disabilityLevelDeath valid_x: 529 valid_y: 498\n",
      "_corr_coeff: done: x: 04-01_1:lengthOfStay_day y: 20-10_1:disabilityLevelDeath\n",
      "_corr_coeff: to eval: x: 04-01_1:lengthOfStay_day y: 20-04:BayleyIIICognitiveComposite valid_x: 529 valid_y: 421\n",
      "_corr_coeff: done: x: 04-01_1:lengthOfStay_day y: 20-04:BayleyIIICognitiveComposite\n",
      "_corr_coeff: to eval: x: 04-01_1:lengthOfStay_day y: 20-04:BayleyIIILanguageComposite valid_x: 529 valid_y: 411\n",
      "_corr_coeff: done: x: 04-01_1:lengthOfStay_day y: 20-04:BayleyIIILanguageComposite\n",
      "_corr_coeff: to eval: x: 04-01_1:lengthOfStay_day y: 20-04:BayleyIIIMotorComposite valid_x: 529 valid_y: 415\n",
      "_corr_coeff: done: x: 04-01_1:lengthOfStay_day y: 20-04:BayleyIIIMotorComposite\n",
      "_corr_coeff: to eval: x: 04-02:dischargeCardiomegaly y: 20-10:moderateSevereDisabilityOrDeath valid_x: 532 valid_y: 504\n",
      "_corr_coeff: done: x: 04-02:dischargeCardiomegaly y: 20-10:moderateSevereDisabilityOrDeath\n",
      "_corr_coeff: to eval: x: 04-02:dischargeCardiomegaly y: 20-10:disabilityLevelDeath4Category valid_x: 532 valid_y: 498\n",
      "_corr_coeff: done: x: 04-02:dischargeCardiomegaly y: 20-10:disabilityLevelDeath4Category\n"
     ]
    },
    {
     "name": "stderr",
     "output_type": "stream",
     "text": [
      "\r",
      " 75%|███████▍  | 255/341 [00:54<00:18,  4.65it/s]"
     ]
    },
    {
     "name": "stdout",
     "output_type": "stream",
     "text": [
      "_corr_coeff: to eval: x: 04-02:dischargeCardiomegaly y: 20-10_1:disabilityLevelDeath valid_x: 532 valid_y: 498\n",
      "_corr_coeff: done: x: 04-02:dischargeCardiomegaly y: 20-10_1:disabilityLevelDeath\n",
      "_corr_coeff: to eval: x: 04-02:dischargeCardiomegaly y: 20-04:BayleyIIICognitiveComposite valid_x: 532 valid_y: 421\n",
      "_corr_coeff: done: x: 04-02:dischargeCardiomegaly y: 20-04:BayleyIIICognitiveComposite\n",
      "_corr_coeff: to eval: x: 04-02:dischargeCardiomegaly y: 20-04:BayleyIIILanguageComposite valid_x: 532 valid_y: 411\n",
      "_corr_coeff: done: x: 04-02:dischargeCardiomegaly y: 20-04:BayleyIIILanguageComposite\n",
      "_corr_coeff: to eval: x: 04-02:dischargeCardiomegaly y: 20-04:BayleyIIIMotorComposite valid_x: 532 valid_y: 415\n",
      "_corr_coeff: done: x: 04-02:dischargeCardiomegaly y: 20-04:BayleyIIIMotorComposite\n",
      "_corr_coeff: to eval: x: 04-02:dischargeCardiacFailure y: 20-10:moderateSevereDisabilityOrDeath valid_x: 532 valid_y: 504\n",
      "_corr_coeff: done: x: 04-02:dischargeCardiacFailure y: 20-10:moderateSevereDisabilityOrDeath\n"
     ]
    },
    {
     "name": "stderr",
     "output_type": "stream",
     "text": [
      "\r",
      " 75%|███████▌  | 256/341 [00:54<00:18,  4.72it/s]"
     ]
    },
    {
     "name": "stdout",
     "output_type": "stream",
     "text": [
      "_corr_coeff: to eval: x: 04-02:dischargeCardiacFailure y: 20-10:disabilityLevelDeath4Category valid_x: 532 valid_y: 498\n",
      "_corr_coeff: done: x: 04-02:dischargeCardiacFailure y: 20-10:disabilityLevelDeath4Category\n",
      "_corr_coeff: to eval: x: 04-02:dischargeCardiacFailure y: 20-10_1:disabilityLevelDeath valid_x: 532 valid_y: 498\n",
      "_corr_coeff: done: x: 04-02:dischargeCardiacFailure y: 20-10_1:disabilityLevelDeath\n",
      "_corr_coeff: to eval: x: 04-02:dischargeCardiacFailure y: 20-04:BayleyIIICognitiveComposite valid_x: 532 valid_y: 421\n",
      "_corr_coeff: done: x: 04-02:dischargeCardiacFailure y: 20-04:BayleyIIICognitiveComposite\n",
      "_corr_coeff: to eval: x: 04-02:dischargeCardiacFailure y: 20-04:BayleyIIILanguageComposite valid_x: 532 valid_y: 411\n",
      "_corr_coeff: done: x: 04-02:dischargeCardiacFailure y: 20-04:BayleyIIILanguageComposite\n",
      "_corr_coeff: to eval: x: 04-02:dischargeCardiacFailure y: 20-04:BayleyIIIMotorComposite valid_x: 532 valid_y: 415\n",
      "_corr_coeff: done: x: 04-02:dischargeCardiacFailure y: 20-04:BayleyIIIMotorComposite\n",
      "_corr_coeff: to eval: x: 04-02:dischargeCardiacDysfunctionByEcho y: 20-10:moderateSevereDisabilityOrDeath valid_x: 531 valid_y: 504\n",
      "_corr_coeff: done: x: 04-02:dischargeCardiacDysfunctionByEcho y: 20-10:moderateSevereDisabilityOrDeath\n",
      "_corr_coeff: to eval: x: 04-02:dischargeCardiacDysfunctionByEcho y: 20-10:disabilityLevelDeath4Category valid_x: 531 valid_y: 498\n",
      "_corr_coeff: done: x: 04-02:dischargeCardiacDysfunctionByEcho y: 20-10:disabilityLevelDeath4Category\n"
     ]
    },
    {
     "name": "stderr",
     "output_type": "stream",
     "text": [
      "\r",
      " 75%|███████▌  | 257/341 [00:55<00:18,  4.42it/s]"
     ]
    },
    {
     "name": "stdout",
     "output_type": "stream",
     "text": [
      "_corr_coeff: to eval: x: 04-02:dischargeCardiacDysfunctionByEcho y: 20-10_1:disabilityLevelDeath valid_x: 531 valid_y: 498\n",
      "_corr_coeff: done: x: 04-02:dischargeCardiacDysfunctionByEcho y: 20-10_1:disabilityLevelDeath\n",
      "_corr_coeff: to eval: x: 04-02:dischargeCardiacDysfunctionByEcho y: 20-04:BayleyIIICognitiveComposite valid_x: 531 valid_y: 421\n",
      "_corr_coeff: done: x: 04-02:dischargeCardiacDysfunctionByEcho y: 20-04:BayleyIIICognitiveComposite\n",
      "_corr_coeff: to eval: x: 04-02:dischargeCardiacDysfunctionByEcho y: 20-04:BayleyIIILanguageComposite valid_x: 531 valid_y: 411\n",
      "_corr_coeff: done: x: 04-02:dischargeCardiacDysfunctionByEcho y: 20-04:BayleyIIILanguageComposite\n",
      "_corr_coeff: to eval: x: 04-02:dischargeCardiacDysfunctionByEcho y: 20-04:BayleyIIIMotorComposite valid_x: 531 valid_y: 415\n",
      "_corr_coeff: done: x: 04-02:dischargeCardiacDysfunctionByEcho y: 20-04:BayleyIIIMotorComposite\n",
      "_corr_coeff: to eval: x: 04-02:dischargeCardiacIschemiaByEKG y: 20-10:moderateSevereDisabilityOrDeath valid_x: 531 valid_y: 504\n",
      "_corr_coeff: done: x: 04-02:dischargeCardiacIschemiaByEKG y: 20-10:moderateSevereDisabilityOrDeath\n"
     ]
    },
    {
     "name": "stderr",
     "output_type": "stream",
     "text": [
      "\r",
      " 76%|███████▌  | 258/341 [00:55<00:18,  4.54it/s]"
     ]
    },
    {
     "name": "stdout",
     "output_type": "stream",
     "text": [
      "_corr_coeff: to eval: x: 04-02:dischargeCardiacIschemiaByEKG y: 20-10:disabilityLevelDeath4Category valid_x: 531 valid_y: 498\n",
      "_corr_coeff: done: x: 04-02:dischargeCardiacIschemiaByEKG y: 20-10:disabilityLevelDeath4Category\n",
      "_corr_coeff: to eval: x: 04-02:dischargeCardiacIschemiaByEKG y: 20-10_1:disabilityLevelDeath valid_x: 531 valid_y: 498\n",
      "_corr_coeff: done: x: 04-02:dischargeCardiacIschemiaByEKG y: 20-10_1:disabilityLevelDeath\n",
      "_corr_coeff: to eval: x: 04-02:dischargeCardiacIschemiaByEKG y: 20-04:BayleyIIICognitiveComposite valid_x: 531 valid_y: 421\n",
      "_corr_coeff: done: x: 04-02:dischargeCardiacIschemiaByEKG y: 20-04:BayleyIIICognitiveComposite\n",
      "_corr_coeff: to eval: x: 04-02:dischargeCardiacIschemiaByEKG y: 20-04:BayleyIIILanguageComposite valid_x: 531 valid_y: 411\n",
      "_corr_coeff: done: x: 04-02:dischargeCardiacIschemiaByEKG y: 20-04:BayleyIIILanguageComposite\n",
      "_corr_coeff: to eval: x: 04-02:dischargeCardiacIschemiaByEKG y: 20-04:BayleyIIIMotorComposite valid_x: 531 valid_y: 415\n",
      "_corr_coeff: done: x: 04-02:dischargeCardiacIschemiaByEKG y: 20-04:BayleyIIIMotorComposite\n",
      "_corr_coeff: to eval: x: 04-02:dischargeHypotension y: 20-10:moderateSevereDisabilityOrDeath valid_x: 529 valid_y: 504\n",
      "_corr_coeff: done: x: 04-02:dischargeHypotension y: 20-10:moderateSevereDisabilityOrDeath\n"
     ]
    },
    {
     "name": "stderr",
     "output_type": "stream",
     "text": [
      "\r",
      " 76%|███████▌  | 259/341 [00:55<00:19,  4.30it/s]"
     ]
    },
    {
     "name": "stdout",
     "output_type": "stream",
     "text": [
      "_corr_coeff: to eval: x: 04-02:dischargeHypotension y: 20-10:disabilityLevelDeath4Category valid_x: 529 valid_y: 498\n",
      "_corr_coeff: done: x: 04-02:dischargeHypotension y: 20-10:disabilityLevelDeath4Category\n",
      "_corr_coeff: to eval: x: 04-02:dischargeHypotension y: 20-10_1:disabilityLevelDeath valid_x: 529 valid_y: 498\n",
      "_corr_coeff: done: x: 04-02:dischargeHypotension y: 20-10_1:disabilityLevelDeath\n",
      "_corr_coeff: to eval: x: 04-02:dischargeHypotension y: 20-04:BayleyIIICognitiveComposite valid_x: 529 valid_y: 421\n",
      "_corr_coeff: done: x: 04-02:dischargeHypotension y: 20-04:BayleyIIICognitiveComposite\n",
      "_corr_coeff: to eval: x: 04-02:dischargeHypotension y: 20-04:BayleyIIILanguageComposite valid_x: 529 valid_y: 411\n",
      "_corr_coeff: done: x: 04-02:dischargeHypotension y: 20-04:BayleyIIILanguageComposite\n",
      "_corr_coeff: to eval: x: 04-02:dischargeHypotension y: 20-04:BayleyIIIMotorComposite valid_x: 529 valid_y: 415\n",
      "_corr_coeff: done: x: 04-02:dischargeHypotension y: 20-04:BayleyIIIMotorComposite\n"
     ]
    },
    {
     "name": "stderr",
     "output_type": "stream",
     "text": [
      "\r",
      " 76%|███████▌  | 260/341 [00:55<00:18,  4.46it/s]"
     ]
    },
    {
     "name": "stdout",
     "output_type": "stream",
     "text": [
      "_corr_coeff: to eval: x: 04-02:dischargeArrhythmia y: 20-10:moderateSevereDisabilityOrDeath valid_x: 532 valid_y: 504\n",
      "_corr_coeff: done: x: 04-02:dischargeArrhythmia y: 20-10:moderateSevereDisabilityOrDeath\n",
      "_corr_coeff: to eval: x: 04-02:dischargeArrhythmia y: 20-10:disabilityLevelDeath4Category valid_x: 532 valid_y: 498\n",
      "_corr_coeff: done: x: 04-02:dischargeArrhythmia y: 20-10:disabilityLevelDeath4Category\n",
      "_corr_coeff: to eval: x: 04-02:dischargeArrhythmia y: 20-10_1:disabilityLevelDeath valid_x: 532 valid_y: 498\n",
      "_corr_coeff: done: x: 04-02:dischargeArrhythmia y: 20-10_1:disabilityLevelDeath\n",
      "_corr_coeff: to eval: x: 04-02:dischargeArrhythmia y: 20-04:BayleyIIICognitiveComposite valid_x: 532 valid_y: 421\n",
      "_corr_coeff: done: x: 04-02:dischargeArrhythmia y: 20-04:BayleyIIICognitiveComposite\n",
      "_corr_coeff: to eval: x: 04-02:dischargeArrhythmia y: 20-04:BayleyIIILanguageComposite valid_x: 532 valid_y: 411\n",
      "_corr_coeff: done: x: 04-02:dischargeArrhythmia y: 20-04:BayleyIIILanguageComposite\n",
      "_corr_coeff: to eval: x: 04-02:dischargeArrhythmia y: 20-04:BayleyIIIMotorComposite valid_x: 532 valid_y: 415\n",
      "_corr_coeff: done: x: 04-02:dischargeArrhythmia y: 20-04:BayleyIIIMotorComposite\n"
     ]
    },
    {
     "name": "stdout",
     "output_type": "stream",
     "text": [
      "_corr_coeff: to eval: x: 04-02:dischargeInotropicAgent y: 20-10:moderateSevereDisabilityOrDeath valid_x: 364 valid_y: 504\n",
      "_corr_coeff: done: x: 04-02:dischargeInotropicAgent y: 20-10:moderateSevereDisabilityOrDeath\n",
      "_corr_coeff: to eval: x: 04-02:dischargeInotropicAgent y: 20-10:disabilityLevelDeath4Category valid_x: 364 valid_y: 498\n",
      "_corr_coeff: done: x: 04-02:dischargeInotropicAgent y: 20-10:disabilityLevelDeath4Category\n",
      "_corr_coeff: to eval: x: 04-02:dischargeInotropicAgent y: 20-10_1:disabilityLevelDeath valid_x: 364 valid_y: 498\n",
      "_corr_coeff: done: x: 04-02:dischargeInotropicAgent y: 20-10_1:disabilityLevelDeath\n",
      "_corr_coeff: to eval: x: 04-02:dischargeInotropicAgent y: 20-04:BayleyIIICognitiveComposite valid_x: 364 valid_y: 421\n",
      "_corr_coeff: done: x: 04-02:dischargeInotropicAgent y: 20-04:BayleyIIICognitiveComposite\n",
      "_corr_coeff: to eval: x: 04-02:dischargeInotropicAgent y: 20-04:BayleyIIILanguageComposite valid_x: 364 valid_y: 411\n",
      "_corr_coeff: done: x: 04-02:dischargeInotropicAgent y: 20-04:BayleyIIILanguageComposite\n"
     ]
    },
    {
     "name": "stderr",
     "output_type": "stream",
     "text": [
      "\r",
      " 77%|███████▋  | 261/341 [00:55<00:18,  4.34it/s]"
     ]
    },
    {
     "name": "stdout",
     "output_type": "stream",
     "text": [
      "_corr_coeff: to eval: x: 04-02:dischargeInotropicAgent y: 20-04:BayleyIIIMotorComposite valid_x: 364 valid_y: 415\n",
      "_corr_coeff: done: x: 04-02:dischargeInotropicAgent y: 20-04:BayleyIIIMotorComposite\n",
      "_corr_coeff: to eval: x: 04-03:dischargeMeconiumAspirationSyndrome y: 20-10:moderateSevereDisabilityOrDeath valid_x: 532 valid_y: 504\n",
      "_corr_coeff: done: x: 04-03:dischargeMeconiumAspirationSyndrome y: 20-10:moderateSevereDisabilityOrDeath\n",
      "_corr_coeff: to eval: x: 04-03:dischargeMeconiumAspirationSyndrome y: 20-10:disabilityLevelDeath4Category valid_x: 532 valid_y: 498\n",
      "_corr_coeff: done: x: 04-03:dischargeMeconiumAspirationSyndrome y: 20-10:disabilityLevelDeath4Category\n",
      "_corr_coeff: to eval: x: 04-03:dischargeMeconiumAspirationSyndrome y: 20-10_1:disabilityLevelDeath valid_x: 532 valid_y: 498\n",
      "_corr_coeff: done: x: 04-03:dischargeMeconiumAspirationSyndrome y: 20-10_1:disabilityLevelDeath\n",
      "_corr_coeff: to eval: x: 04-03:dischargeMeconiumAspirationSyndrome y: 20-04:BayleyIIICognitiveComposite valid_x: 532 valid_y: 421\n",
      "_corr_coeff: done: x: 04-03:dischargeMeconiumAspirationSyndrome y: 20-04:BayleyIIICognitiveComposite\n",
      "_corr_coeff: to eval: x: 04-03:dischargeMeconiumAspirationSyndrome y: 20-04:BayleyIIILanguageComposite valid_x: 532 valid_y: 411\n",
      "_corr_coeff: done: x: 04-03:dischargeMeconiumAspirationSyndrome y: 20-04:BayleyIIILanguageComposite\n"
     ]
    },
    {
     "name": "stderr",
     "output_type": "stream",
     "text": [
      "\r",
      " 77%|███████▋  | 262/341 [00:56<00:17,  4.48it/s]"
     ]
    },
    {
     "name": "stdout",
     "output_type": "stream",
     "text": [
      "_corr_coeff: to eval: x: 04-03:dischargeMeconiumAspirationSyndrome y: 20-04:BayleyIIIMotorComposite valid_x: 532 valid_y: 415\n",
      "_corr_coeff: done: x: 04-03:dischargeMeconiumAspirationSyndrome y: 20-04:BayleyIIIMotorComposite\n",
      "_corr_coeff: to eval: x: 04-03:dischargePPHN y: 20-10:moderateSevereDisabilityOrDeath valid_x: 532 valid_y: 504\n",
      "_corr_coeff: done: x: 04-03:dischargePPHN y: 20-10:moderateSevereDisabilityOrDeath\n",
      "_corr_coeff: to eval: x: 04-03:dischargePPHN y: 20-10:disabilityLevelDeath4Category valid_x: 532 valid_y: 498\n",
      "_corr_coeff: done: x: 04-03:dischargePPHN y: 20-10:disabilityLevelDeath4Category\n",
      "_corr_coeff: to eval: x: 04-03:dischargePPHN y: 20-10_1:disabilityLevelDeath valid_x: 532 valid_y: 498\n",
      "_corr_coeff: done: x: 04-03:dischargePPHN y: 20-10_1:disabilityLevelDeath\n",
      "_corr_coeff: to eval: x: 04-03:dischargePPHN y: 20-04:BayleyIIICognitiveComposite valid_x: 532 valid_y: 421\n",
      "_corr_coeff: done: x: 04-03:dischargePPHN y: 20-04:BayleyIIICognitiveComposite\n"
     ]
    },
    {
     "name": "stderr",
     "output_type": "stream",
     "text": [
      "\r",
      " 77%|███████▋  | 263/341 [00:56<00:18,  4.27it/s]"
     ]
    },
    {
     "name": "stdout",
     "output_type": "stream",
     "text": [
      "_corr_coeff: to eval: x: 04-03:dischargePPHN y: 20-04:BayleyIIILanguageComposite valid_x: 532 valid_y: 411\n",
      "_corr_coeff: done: x: 04-03:dischargePPHN y: 20-04:BayleyIIILanguageComposite\n",
      "_corr_coeff: to eval: x: 04-03:dischargePPHN y: 20-04:BayleyIIIMotorComposite valid_x: 532 valid_y: 415\n",
      "_corr_coeff: done: x: 04-03:dischargePPHN y: 20-04:BayleyIIIMotorComposite\n",
      "_corr_coeff: to eval: x: 04-03:dischargePulmonaryHemorrhage y: 20-10:moderateSevereDisabilityOrDeath valid_x: 532 valid_y: 504\n",
      "_corr_coeff: done: x: 04-03:dischargePulmonaryHemorrhage y: 20-10:moderateSevereDisabilityOrDeath\n",
      "_corr_coeff: to eval: x: 04-03:dischargePulmonaryHemorrhage y: 20-10:disabilityLevelDeath4Category valid_x: 532 valid_y: 498\n",
      "_corr_coeff: done: x: 04-03:dischargePulmonaryHemorrhage y: 20-10:disabilityLevelDeath4Category\n",
      "_corr_coeff: to eval: x: 04-03:dischargePulmonaryHemorrhage y: 20-10_1:disabilityLevelDeath valid_x: 532 valid_y: 498\n",
      "_corr_coeff: done: x: 04-03:dischargePulmonaryHemorrhage y: 20-10_1:disabilityLevelDeath\n",
      "_corr_coeff: to eval: x: 04-03:dischargePulmonaryHemorrhage y: 20-04:BayleyIIICognitiveComposite valid_x: 532 valid_y: 421\n",
      "_corr_coeff: done: x: 04-03:dischargePulmonaryHemorrhage y: 20-04:BayleyIIICognitiveComposite\n",
      "_corr_coeff: to eval: x: 04-03:dischargePulmonaryHemorrhage y: 20-04:BayleyIIILanguageComposite valid_x: 532 valid_y: 411\n",
      "_corr_coeff: done: x: 04-03:dischargePulmonaryHemorrhage y: 20-04:BayleyIIILanguageComposite\n"
     ]
    },
    {
     "name": "stderr",
     "output_type": "stream",
     "text": [
      "\r",
      " 77%|███████▋  | 264/341 [00:56<00:17,  4.44it/s]"
     ]
    },
    {
     "name": "stdout",
     "output_type": "stream",
     "text": [
      "_corr_coeff: to eval: x: 04-03:dischargePulmonaryHemorrhage y: 20-04:BayleyIIIMotorComposite valid_x: 532 valid_y: 415\n",
      "_corr_coeff: done: x: 04-03:dischargePulmonaryHemorrhage y: 20-04:BayleyIIIMotorComposite\n",
      "_corr_coeff: to eval: x: 04-03:dischargePenumonia y: 20-10:moderateSevereDisabilityOrDeath valid_x: 532 valid_y: 504\n",
      "_corr_coeff: done: x: 04-03:dischargePenumonia y: 20-10:moderateSevereDisabilityOrDeath\n",
      "_corr_coeff: to eval: x: 04-03:dischargePenumonia y: 20-10:disabilityLevelDeath4Category valid_x: 532 valid_y: 498\n",
      "_corr_coeff: done: x: 04-03:dischargePenumonia y: 20-10:disabilityLevelDeath4Category\n",
      "_corr_coeff: to eval: x: 04-03:dischargePenumonia y: 20-10_1:disabilityLevelDeath valid_x: 532 valid_y: 498\n",
      "_corr_coeff: done: x: 04-03:dischargePenumonia y: 20-10_1:disabilityLevelDeath\n",
      "_corr_coeff: to eval: x: 04-03:dischargePenumonia y: 20-04:BayleyIIICognitiveComposite valid_x: 532 valid_y: 421\n",
      "_corr_coeff: done: x: 04-03:dischargePenumonia y: 20-04:BayleyIIICognitiveComposite\n"
     ]
    },
    {
     "name": "stderr",
     "output_type": "stream",
     "text": [
      "\r",
      " 78%|███████▊  | 265/341 [00:56<00:17,  4.23it/s]"
     ]
    },
    {
     "name": "stdout",
     "output_type": "stream",
     "text": [
      "_corr_coeff: to eval: x: 04-03:dischargePenumonia y: 20-04:BayleyIIILanguageComposite valid_x: 532 valid_y: 411\n",
      "_corr_coeff: done: x: 04-03:dischargePenumonia y: 20-04:BayleyIIILanguageComposite\n",
      "_corr_coeff: to eval: x: 04-03:dischargePenumonia y: 20-04:BayleyIIIMotorComposite valid_x: 532 valid_y: 415\n",
      "_corr_coeff: done: x: 04-03:dischargePenumonia y: 20-04:BayleyIIIMotorComposite\n",
      "_corr_coeff: to eval: x: 04-03:dischargeChronicLungDisease y: 20-10:moderateSevereDisabilityOrDeath valid_x: 532 valid_y: 504\n",
      "_corr_coeff: done: x: 04-03:dischargeChronicLungDisease y: 20-10:moderateSevereDisabilityOrDeath\n",
      "_corr_coeff: to eval: x: 04-03:dischargeChronicLungDisease y: 20-10:disabilityLevelDeath4Category valid_x: 532 valid_y: 498\n",
      "_corr_coeff: done: x: 04-03:dischargeChronicLungDisease y: 20-10:disabilityLevelDeath4Category\n",
      "_corr_coeff: to eval: x: 04-03:dischargeChronicLungDisease y: 20-10_1:disabilityLevelDeath valid_x: 532 valid_y: 498\n",
      "_corr_coeff: done: x: 04-03:dischargeChronicLungDisease y: 20-10_1:disabilityLevelDeath\n",
      "_corr_coeff: to eval: x: 04-03:dischargeChronicLungDisease y: 20-04:BayleyIIICognitiveComposite valid_x: 532 valid_y: 421\n",
      "_corr_coeff: done: x: 04-03:dischargeChronicLungDisease y: 20-04:BayleyIIICognitiveComposite\n"
     ]
    },
    {
     "name": "stderr",
     "output_type": "stream",
     "text": [
      "\r",
      " 78%|███████▊  | 266/341 [00:57<00:18,  4.07it/s]"
     ]
    },
    {
     "name": "stdout",
     "output_type": "stream",
     "text": [
      "_corr_coeff: to eval: x: 04-03:dischargeChronicLungDisease y: 20-04:BayleyIIILanguageComposite valid_x: 532 valid_y: 411\n",
      "_corr_coeff: done: x: 04-03:dischargeChronicLungDisease y: 20-04:BayleyIIILanguageComposite\n",
      "_corr_coeff: to eval: x: 04-03:dischargeChronicLungDisease y: 20-04:BayleyIIIMotorComposite valid_x: 532 valid_y: 415\n",
      "_corr_coeff: done: x: 04-03:dischargeChronicLungDisease y: 20-04:BayleyIIIMotorComposite\n",
      "_corr_coeff: to eval: x: 04-03:dischargeECMO y: 20-10:moderateSevereDisabilityOrDeath valid_x: 532 valid_y: 504\n",
      "_corr_coeff: done: x: 04-03:dischargeECMO y: 20-10:moderateSevereDisabilityOrDeath\n",
      "_corr_coeff: to eval: x: 04-03:dischargeECMO y: 20-10:disabilityLevelDeath4Category valid_x: 532 valid_y: 498\n",
      "_corr_coeff: done: x: 04-03:dischargeECMO y: 20-10:disabilityLevelDeath4Category\n",
      "_corr_coeff: to eval: x: 04-03:dischargeECMO y: 20-10_1:disabilityLevelDeath valid_x: 532 valid_y: 498\n",
      "_corr_coeff: done: x: 04-03:dischargeECMO y: 20-10_1:disabilityLevelDeath\n"
     ]
    },
    {
     "name": "stderr",
     "output_type": "stream",
     "text": [
      "\r",
      " 78%|███████▊  | 267/341 [00:57<00:17,  4.25it/s]"
     ]
    },
    {
     "name": "stdout",
     "output_type": "stream",
     "text": [
      "_corr_coeff: to eval: x: 04-03:dischargeECMO y: 20-04:BayleyIIICognitiveComposite valid_x: 532 valid_y: 421\n",
      "_corr_coeff: done: x: 04-03:dischargeECMO y: 20-04:BayleyIIICognitiveComposite\n",
      "_corr_coeff: to eval: x: 04-03:dischargeECMO y: 20-04:BayleyIIILanguageComposite valid_x: 532 valid_y: 411\n",
      "_corr_coeff: done: x: 04-03:dischargeECMO y: 20-04:BayleyIIILanguageComposite\n",
      "_corr_coeff: to eval: x: 04-03:dischargeECMO y: 20-04:BayleyIIIMotorComposite valid_x: 532 valid_y: 415\n",
      "_corr_coeff: done: x: 04-03:dischargeECMO y: 20-04:BayleyIIIMotorComposite\n",
      "_corr_coeff: to eval: x: 04-03:dischargeINO y: 20-10:moderateSevereDisabilityOrDeath valid_x: 532 valid_y: 504\n",
      "_corr_coeff: done: x: 04-03:dischargeINO y: 20-10:moderateSevereDisabilityOrDeath\n",
      "_corr_coeff: to eval: x: 04-03:dischargeINO y: 20-10:disabilityLevelDeath4Category valid_x: 532 valid_y: 498\n",
      "_corr_coeff: done: x: 04-03:dischargeINO y: 20-10:disabilityLevelDeath4Category\n",
      "_corr_coeff: to eval: x: 04-03:dischargeINO y: 20-10_1:disabilityLevelDeath valid_x: 532 valid_y: 498\n",
      "_corr_coeff: done: x: 04-03:dischargeINO y: 20-10_1:disabilityLevelDeath\n"
     ]
    },
    {
     "name": "stderr",
     "output_type": "stream",
     "text": [
      "\r",
      " 79%|███████▊  | 268/341 [00:57<00:17,  4.10it/s]"
     ]
    },
    {
     "name": "stdout",
     "output_type": "stream",
     "text": [
      "_corr_coeff: to eval: x: 04-03:dischargeINO y: 20-04:BayleyIIICognitiveComposite valid_x: 532 valid_y: 421\n",
      "_corr_coeff: done: x: 04-03:dischargeINO y: 20-04:BayleyIIICognitiveComposite\n",
      "_corr_coeff: to eval: x: 04-03:dischargeINO y: 20-04:BayleyIIILanguageComposite valid_x: 532 valid_y: 411\n",
      "_corr_coeff: done: x: 04-03:dischargeINO y: 20-04:BayleyIIILanguageComposite\n",
      "_corr_coeff: to eval: x: 04-03:dischargeINO y: 20-04:BayleyIIIMotorComposite valid_x: 532 valid_y: 415\n",
      "_corr_coeff: done: x: 04-03:dischargeINO y: 20-04:BayleyIIIMotorComposite\n",
      "_corr_coeff: to eval: x: 04-03:dischargeVentilator_day y: 20-10:moderateSevereDisabilityOrDeath valid_x: 532 valid_y: 504\n",
      "_corr_coeff: done: x: 04-03:dischargeVentilator_day y: 20-10:moderateSevereDisabilityOrDeath\n",
      "_corr_coeff: to eval: x: 04-03:dischargeVentilator_day y: 20-10:disabilityLevelDeath4Category valid_x: 532 valid_y: 498\n",
      "_corr_coeff: done: x: 04-03:dischargeVentilator_day y: 20-10:disabilityLevelDeath4Category\n"
     ]
    },
    {
     "name": "stderr",
     "output_type": "stream",
     "text": [
      "\r",
      " 79%|███████▉  | 269/341 [00:57<00:16,  4.28it/s]"
     ]
    },
    {
     "name": "stdout",
     "output_type": "stream",
     "text": [
      "_corr_coeff: to eval: x: 04-03:dischargeVentilator_day y: 20-10_1:disabilityLevelDeath valid_x: 532 valid_y: 498\n",
      "_corr_coeff: done: x: 04-03:dischargeVentilator_day y: 20-10_1:disabilityLevelDeath\n",
      "_corr_coeff: to eval: x: 04-03:dischargeVentilator_day y: 20-04:BayleyIIICognitiveComposite valid_x: 532 valid_y: 421\n",
      "_corr_coeff: done: x: 04-03:dischargeVentilator_day y: 20-04:BayleyIIICognitiveComposite\n",
      "_corr_coeff: to eval: x: 04-03:dischargeVentilator_day y: 20-04:BayleyIIILanguageComposite valid_x: 532 valid_y: 411\n",
      "_corr_coeff: done: x: 04-03:dischargeVentilator_day y: 20-04:BayleyIIILanguageComposite\n",
      "_corr_coeff: to eval: x: 04-03:dischargeVentilator_day y: 20-04:BayleyIIIMotorComposite valid_x: 532 valid_y: 415\n",
      "_corr_coeff: done: x: 04-03:dischargeVentilator_day y: 20-04:BayleyIIIMotorComposite\n",
      "_corr_coeff: to eval: x: 04-03:dischargeOxygen_day y: 20-10:moderateSevereDisabilityOrDeath valid_x: 532 valid_y: 504\n",
      "_corr_coeff: done: x: 04-03:dischargeOxygen_day y: 20-10:moderateSevereDisabilityOrDeath\n",
      "_corr_coeff: to eval: x: 04-03:dischargeOxygen_day y: 20-10:disabilityLevelDeath4Category valid_x: 532 valid_y: 498\n",
      "_corr_coeff: done: x: 04-03:dischargeOxygen_day y: 20-10:disabilityLevelDeath4Category\n"
     ]
    },
    {
     "name": "stderr",
     "output_type": "stream",
     "text": [
      "\r",
      " 79%|███████▉  | 270/341 [00:58<00:17,  4.14it/s]"
     ]
    },
    {
     "name": "stdout",
     "output_type": "stream",
     "text": [
      "_corr_coeff: to eval: x: 04-03:dischargeOxygen_day y: 20-10_1:disabilityLevelDeath valid_x: 532 valid_y: 498\n",
      "_corr_coeff: done: x: 04-03:dischargeOxygen_day y: 20-10_1:disabilityLevelDeath\n",
      "_corr_coeff: to eval: x: 04-03:dischargeOxygen_day y: 20-04:BayleyIIICognitiveComposite valid_x: 532 valid_y: 421\n",
      "_corr_coeff: done: x: 04-03:dischargeOxygen_day y: 20-04:BayleyIIICognitiveComposite\n",
      "_corr_coeff: to eval: x: 04-03:dischargeOxygen_day y: 20-04:BayleyIIILanguageComposite valid_x: 532 valid_y: 411\n",
      "_corr_coeff: done: x: 04-03:dischargeOxygen_day y: 20-04:BayleyIIILanguageComposite\n",
      "_corr_coeff: to eval: x: 04-03:dischargeOxygen_day y: 20-04:BayleyIIIMotorComposite valid_x: 532 valid_y: 415\n",
      "_corr_coeff: done: x: 04-03:dischargeOxygen_day y: 20-04:BayleyIIIMotorComposite\n",
      "_corr_coeff: to eval: x: 04-03:dischargeCPAP_day y: 20-10:moderateSevereDisabilityOrDeath valid_x: 532 valid_y: 504\n",
      "_corr_coeff: done: x: 04-03:dischargeCPAP_day y: 20-10:moderateSevereDisabilityOrDeath\n"
     ]
    },
    {
     "name": "stderr",
     "output_type": "stream",
     "text": [
      "\r",
      " 79%|███████▉  | 271/341 [00:58<00:16,  4.36it/s]"
     ]
    },
    {
     "name": "stdout",
     "output_type": "stream",
     "text": [
      "_corr_coeff: to eval: x: 04-03:dischargeCPAP_day y: 20-10:disabilityLevelDeath4Category valid_x: 532 valid_y: 498\n",
      "_corr_coeff: done: x: 04-03:dischargeCPAP_day y: 20-10:disabilityLevelDeath4Category\n",
      "_corr_coeff: to eval: x: 04-03:dischargeCPAP_day y: 20-10_1:disabilityLevelDeath valid_x: 532 valid_y: 498\n",
      "_corr_coeff: done: x: 04-03:dischargeCPAP_day y: 20-10_1:disabilityLevelDeath\n",
      "_corr_coeff: to eval: x: 04-03:dischargeCPAP_day y: 20-04:BayleyIIICognitiveComposite valid_x: 532 valid_y: 421\n",
      "_corr_coeff: done: x: 04-03:dischargeCPAP_day y: 20-04:BayleyIIICognitiveComposite\n",
      "_corr_coeff: to eval: x: 04-03:dischargeCPAP_day y: 20-04:BayleyIIILanguageComposite valid_x: 532 valid_y: 411\n",
      "_corr_coeff: done: x: 04-03:dischargeCPAP_day y: 20-04:BayleyIIILanguageComposite\n",
      "_corr_coeff: to eval: x: 04-03:dischargeCPAP_day y: 20-04:BayleyIIIMotorComposite valid_x: 532 valid_y: 415\n",
      "_corr_coeff: done: x: 04-03:dischargeCPAP_day y: 20-04:BayleyIIIMotorComposite\n",
      "_corr_coeff: to eval: x: 04-04:dischargeDIC y: 20-10:moderateSevereDisabilityOrDeath valid_x: 532 valid_y: 504\n",
      "_corr_coeff: done: x: 04-04:dischargeDIC y: 20-10:moderateSevereDisabilityOrDeath\n",
      "_corr_coeff: to eval: x: 04-04:dischargeDIC y: 20-10:disabilityLevelDeath4Category valid_x: 532 valid_y: 498\n",
      "_corr_coeff: done: x: 04-04:dischargeDIC y: 20-10:disabilityLevelDeath4Category\n"
     ]
    },
    {
     "name": "stderr",
     "output_type": "stream",
     "text": [
      "\r",
      " 80%|███████▉  | 272/341 [00:58<00:15,  4.52it/s]"
     ]
    },
    {
     "name": "stdout",
     "output_type": "stream",
     "text": [
      "_corr_coeff: to eval: x: 04-04:dischargeDIC y: 20-10_1:disabilityLevelDeath valid_x: 532 valid_y: 498\n",
      "_corr_coeff: done: x: 04-04:dischargeDIC y: 20-10_1:disabilityLevelDeath\n",
      "_corr_coeff: to eval: x: 04-04:dischargeDIC y: 20-04:BayleyIIICognitiveComposite valid_x: 532 valid_y: 421\n",
      "_corr_coeff: done: x: 04-04:dischargeDIC y: 20-04:BayleyIIICognitiveComposite\n",
      "_corr_coeff: to eval: x: 04-04:dischargeDIC y: 20-04:BayleyIIILanguageComposite valid_x: 532 valid_y: 411\n",
      "_corr_coeff: done: x: 04-04:dischargeDIC y: 20-04:BayleyIIILanguageComposite\n",
      "_corr_coeff: to eval: x: 04-04:dischargeDIC y: 20-04:BayleyIIIMotorComposite valid_x: 532 valid_y: 415\n",
      "_corr_coeff: done: x: 04-04:dischargeDIC y: 20-04:BayleyIIIMotorComposite\n",
      "_corr_coeff: to eval: x: 04-05:dischargeHypoglycemia y: 20-10:moderateSevereDisabilityOrDeath valid_x: 532 valid_y: 504\n",
      "_corr_coeff: done: x: 04-05:dischargeHypoglycemia y: 20-10:moderateSevereDisabilityOrDeath\n",
      "_corr_coeff: to eval: x: 04-05:dischargeHypoglycemia y: 20-10:disabilityLevelDeath4Category valid_x: 532 valid_y: 498\n",
      "_corr_coeff: done: x: 04-05:dischargeHypoglycemia y: 20-10:disabilityLevelDeath4Category\n",
      "_corr_coeff: to eval: x: 04-05:dischargeHypoglycemia y: 20-10_1:disabilityLevelDeath valid_x: 532 valid_y: 498\n",
      "_corr_coeff: done: x: 04-05:dischargeHypoglycemia y: 20-10_1:disabilityLevelDeath\n"
     ]
    },
    {
     "name": "stderr",
     "output_type": "stream",
     "text": [
      "\r",
      " 80%|████████  | 273/341 [00:58<00:14,  4.64it/s]"
     ]
    },
    {
     "name": "stdout",
     "output_type": "stream",
     "text": [
      "_corr_coeff: to eval: x: 04-05:dischargeHypoglycemia y: 20-04:BayleyIIICognitiveComposite valid_x: 532 valid_y: 421\n",
      "_corr_coeff: done: x: 04-05:dischargeHypoglycemia y: 20-04:BayleyIIICognitiveComposite\n",
      "_corr_coeff: to eval: x: 04-05:dischargeHypoglycemia y: 20-04:BayleyIIILanguageComposite valid_x: 532 valid_y: 411\n",
      "_corr_coeff: done: x: 04-05:dischargeHypoglycemia y: 20-04:BayleyIIILanguageComposite\n",
      "_corr_coeff: to eval: x: 04-05:dischargeHypoglycemia y: 20-04:BayleyIIIMotorComposite valid_x: 532 valid_y: 415\n",
      "_corr_coeff: done: x: 04-05:dischargeHypoglycemia y: 20-04:BayleyIIIMotorComposite\n",
      "_corr_coeff: to eval: x: 04-05:dischargeHypocalcemia y: 20-10:moderateSevereDisabilityOrDeath valid_x: 531 valid_y: 504\n",
      "_corr_coeff: done: x: 04-05:dischargeHypocalcemia y: 20-10:moderateSevereDisabilityOrDeath\n",
      "_corr_coeff: to eval: x: 04-05:dischargeHypocalcemia y: 20-10:disabilityLevelDeath4Category valid_x: 531 valid_y: 498\n",
      "_corr_coeff: done: x: 04-05:dischargeHypocalcemia y: 20-10:disabilityLevelDeath4Category\n",
      "_corr_coeff: to eval: x: 04-05:dischargeHypocalcemia y: 20-10_1:disabilityLevelDeath valid_x: 531 valid_y: 498\n",
      "_corr_coeff: done: x: 04-05:dischargeHypocalcemia y: 20-10_1:disabilityLevelDeath\n",
      "_corr_coeff: to eval: x: 04-05:dischargeHypocalcemia y: 20-04:BayleyIIICognitiveComposite valid_x: 531 valid_y: 421\n",
      "_corr_coeff: done: x: 04-05:dischargeHypocalcemia y: 20-04:BayleyIIICognitiveComposite\n"
     ]
    },
    {
     "name": "stderr",
     "output_type": "stream",
     "text": [
      "\r",
      " 80%|████████  | 274/341 [00:58<00:14,  4.75it/s]"
     ]
    },
    {
     "name": "stdout",
     "output_type": "stream",
     "text": [
      "_corr_coeff: to eval: x: 04-05:dischargeHypocalcemia y: 20-04:BayleyIIILanguageComposite valid_x: 531 valid_y: 411\n",
      "_corr_coeff: done: x: 04-05:dischargeHypocalcemia y: 20-04:BayleyIIILanguageComposite\n",
      "_corr_coeff: to eval: x: 04-05:dischargeHypocalcemia y: 20-04:BayleyIIIMotorComposite valid_x: 531 valid_y: 415\n",
      "_corr_coeff: done: x: 04-05:dischargeHypocalcemia y: 20-04:BayleyIIIMotorComposite\n",
      "_corr_coeff: to eval: x: 04-05:dischargeHypomagnesemia y: 20-10:moderateSevereDisabilityOrDeath valid_x: 528 valid_y: 504\n",
      "_corr_coeff: done: x: 04-05:dischargeHypomagnesemia y: 20-10:moderateSevereDisabilityOrDeath\n",
      "_corr_coeff: to eval: x: 04-05:dischargeHypomagnesemia y: 20-10:disabilityLevelDeath4Category valid_x: 528 valid_y: 498\n",
      "_corr_coeff: done: x: 04-05:dischargeHypomagnesemia y: 20-10:disabilityLevelDeath4Category\n",
      "_corr_coeff: to eval: x: 04-05:dischargeHypomagnesemia y: 20-10_1:disabilityLevelDeath valid_x: 528 valid_y: 498\n",
      "_corr_coeff: done: x: 04-05:dischargeHypomagnesemia y: 20-10_1:disabilityLevelDeath\n",
      "_corr_coeff: to eval: x: 04-05:dischargeHypomagnesemia y: 20-04:BayleyIIICognitiveComposite valid_x: 528 valid_y: 421\n",
      "_corr_coeff: done: x: 04-05:dischargeHypomagnesemia y: 20-04:BayleyIIICognitiveComposite\n",
      "_corr_coeff: to eval: x: 04-05:dischargeHypomagnesemia y: 20-04:BayleyIIILanguageComposite valid_x: 528 valid_y: 411\n",
      "_corr_coeff: done: x: 04-05:dischargeHypomagnesemia y: 20-04:BayleyIIILanguageComposite\n"
     ]
    },
    {
     "name": "stderr",
     "output_type": "stream",
     "text": [
      "\r",
      " 81%|████████  | 275/341 [00:59<00:13,  4.80it/s]"
     ]
    },
    {
     "name": "stdout",
     "output_type": "stream",
     "text": [
      "_corr_coeff: to eval: x: 04-05:dischargeHypomagnesemia y: 20-04:BayleyIIIMotorComposite valid_x: 528 valid_y: 415\n",
      "_corr_coeff: done: x: 04-05:dischargeHypomagnesemia y: 20-04:BayleyIIIMotorComposite\n",
      "_corr_coeff: to eval: x: 04-06:dischargeOliguria y: 20-10:moderateSevereDisabilityOrDeath valid_x: 532 valid_y: 504\n",
      "_corr_coeff: done: x: 04-06:dischargeOliguria y: 20-10:moderateSevereDisabilityOrDeath\n",
      "_corr_coeff: to eval: x: 04-06:dischargeOliguria y: 20-10:disabilityLevelDeath4Category valid_x: 532 valid_y: 498\n",
      "_corr_coeff: done: x: 04-06:dischargeOliguria y: 20-10:disabilityLevelDeath4Category\n",
      "_corr_coeff: to eval: x: 04-06:dischargeOliguria y: 20-10_1:disabilityLevelDeath valid_x: 532 valid_y: 498\n",
      "_corr_coeff: done: x: 04-06:dischargeOliguria y: 20-10_1:disabilityLevelDeath\n",
      "_corr_coeff: to eval: x: 04-06:dischargeOliguria y: 20-04:BayleyIIICognitiveComposite valid_x: 532 valid_y: 421\n",
      "_corr_coeff: done: x: 04-06:dischargeOliguria y: 20-04:BayleyIIICognitiveComposite\n",
      "_corr_coeff: to eval: x: 04-06:dischargeOliguria y: 20-04:BayleyIIILanguageComposite valid_x: 532 valid_y: 411\n",
      "_corr_coeff: done: x: 04-06:dischargeOliguria y: 20-04:BayleyIIILanguageComposite\n"
     ]
    },
    {
     "name": "stderr",
     "output_type": "stream",
     "text": [
      "\r",
      " 81%|████████  | 276/341 [00:59<00:14,  4.48it/s]"
     ]
    },
    {
     "name": "stdout",
     "output_type": "stream",
     "text": [
      "_corr_coeff: to eval: x: 04-06:dischargeOliguria y: 20-04:BayleyIIIMotorComposite valid_x: 532 valid_y: 415\n",
      "_corr_coeff: done: x: 04-06:dischargeOliguria y: 20-04:BayleyIIIMotorComposite\n",
      "_corr_coeff: to eval: x: 04-06:dischargeAnuria y: 20-10:moderateSevereDisabilityOrDeath valid_x: 532 valid_y: 504\n",
      "_corr_coeff: done: x: 04-06:dischargeAnuria y: 20-10:moderateSevereDisabilityOrDeath\n",
      "_corr_coeff: to eval: x: 04-06:dischargeAnuria y: 20-10:disabilityLevelDeath4Category valid_x: 532 valid_y: 498\n",
      "_corr_coeff: done: x: 04-06:dischargeAnuria y: 20-10:disabilityLevelDeath4Category\n",
      "_corr_coeff: to eval: x: 04-06:dischargeAnuria y: 20-10_1:disabilityLevelDeath valid_x: 532 valid_y: 498\n",
      "_corr_coeff: done: x: 04-06:dischargeAnuria y: 20-10_1:disabilityLevelDeath\n",
      "_corr_coeff: to eval: x: 04-06:dischargeAnuria y: 20-04:BayleyIIICognitiveComposite valid_x: 532 valid_y: 421\n",
      "_corr_coeff: done: x: 04-06:dischargeAnuria y: 20-04:BayleyIIICognitiveComposite\n",
      "_corr_coeff: to eval: x: 04-06:dischargeAnuria y: 20-04:BayleyIIILanguageComposite valid_x: 532 valid_y: 411\n",
      "_corr_coeff: done: x: 04-06:dischargeAnuria y: 20-04:BayleyIIILanguageComposite\n",
      "_corr_coeff: to eval: x: 04-06:dischargeAnuria y: 20-04:BayleyIIIMotorComposite valid_x: 532 valid_y: 415\n",
      "_corr_coeff: done: x: 04-06:dischargeAnuria y: 20-04:BayleyIIIMotorComposite\n"
     ]
    },
    {
     "name": "stderr",
     "output_type": "stream",
     "text": [
      "\r",
      " 81%|████████  | 277/341 [00:59<00:13,  4.59it/s]"
     ]
    },
    {
     "name": "stderr",
     "output_type": "stream",
     "text": [
      "/Users/chhsiao/bch/i3/COMBINE-harmonizer/COMBINE_harmonizer/utils_corr.py:79: ConstantInputWarning: An input array is constant; the correlation coefficient is not defined.\n",
      "  ret = stats.pearsonr(valid_x, valid_y)\n",
      "/Users/chhsiao/bch/i3/COMBINE-harmonizer/COMBINE_harmonizer/utils_corr.py:79: ConstantInputWarning: An input array is constant; the correlation coefficient is not defined.\n",
      "  ret = stats.pearsonr(valid_x, valid_y)\n",
      "/Users/chhsiao/bch/i3/COMBINE-harmonizer/COMBINE_harmonizer/utils_corr.py:79: ConstantInputWarning: An input array is constant; the correlation coefficient is not defined.\n",
      "  ret = stats.pearsonr(valid_x, valid_y)\n",
      "\r",
      " 82%|████████▏ | 278/341 [00:59<00:13,  4.71it/s]"
     ]
    },
    {
     "name": "stdout",
     "output_type": "stream",
     "text": [
      "_corr_coeff: to eval: x: 04-06:dischargeDialysis y: 20-10:moderateSevereDisabilityOrDeath valid_x: 532 valid_y: 504\n",
      "_corr_coeff: done: x: 04-06:dischargeDialysis y: 20-10:moderateSevereDisabilityOrDeath\n",
      "_corr_coeff: to eval: x: 04-06:dischargeDialysis y: 20-10:disabilityLevelDeath4Category valid_x: 532 valid_y: 498\n",
      "_corr_coeff: done: x: 04-06:dischargeDialysis y: 20-10:disabilityLevelDeath4Category\n",
      "_corr_coeff: to eval: x: 04-06:dischargeDialysis y: 20-10_1:disabilityLevelDeath valid_x: 532 valid_y: 498\n",
      "_corr_coeff: done: x: 04-06:dischargeDialysis y: 20-10_1:disabilityLevelDeath\n",
      "_corr_coeff: to eval: x: 04-06:dischargeDialysis y: 20-04:BayleyIIICognitiveComposite valid_x: 532 valid_y: 421\n",
      "_corr_coeff: done: x: 04-06:dischargeDialysis y: 20-04:BayleyIIICognitiveComposite\n",
      "_corr_coeff: to eval: x: 04-06:dischargeDialysis y: 20-04:BayleyIIILanguageComposite valid_x: 532 valid_y: 411\n",
      "_corr_coeff: done: x: 04-06:dischargeDialysis y: 20-04:BayleyIIILanguageComposite\n",
      "_corr_coeff: to eval: x: 04-06:dischargeDialysis y: 20-04:BayleyIIIMotorComposite valid_x: 532 valid_y: 415\n",
      "_corr_coeff: done: x: 04-06:dischargeDialysis y: 20-04:BayleyIIIMotorComposite\n",
      "_corr_coeff: to eval: x: 04-07:dischargeEnteralFeedStart_day y: 20-10:moderateSevereDisabilityOrDeath valid_x: 337 valid_y: 504\n",
      "_corr_coeff: done: x: 04-07:dischargeEnteralFeedStart_day y: 20-10:moderateSevereDisabilityOrDeath\n"
     ]
    },
    {
     "name": "stderr",
     "output_type": "stream",
     "text": [
      "\r",
      " 82%|████████▏ | 279/341 [00:59<00:12,  4.91it/s]"
     ]
    },
    {
     "name": "stdout",
     "output_type": "stream",
     "text": [
      "_corr_coeff: to eval: x: 04-07:dischargeEnteralFeedStart_day y: 20-10:disabilityLevelDeath4Category valid_x: 337 valid_y: 498\n",
      "_corr_coeff: done: x: 04-07:dischargeEnteralFeedStart_day y: 20-10:disabilityLevelDeath4Category\n",
      "_corr_coeff: to eval: x: 04-07:dischargeEnteralFeedStart_day y: 20-10_1:disabilityLevelDeath valid_x: 337 valid_y: 498\n",
      "_corr_coeff: done: x: 04-07:dischargeEnteralFeedStart_day y: 20-10_1:disabilityLevelDeath\n",
      "_corr_coeff: to eval: x: 04-07:dischargeEnteralFeedStart_day y: 20-04:BayleyIIICognitiveComposite valid_x: 337 valid_y: 421\n",
      "_corr_coeff: done: x: 04-07:dischargeEnteralFeedStart_day y: 20-04:BayleyIIICognitiveComposite\n",
      "_corr_coeff: to eval: x: 04-07:dischargeEnteralFeedStart_day y: 20-04:BayleyIIILanguageComposite valid_x: 337 valid_y: 411\n",
      "_corr_coeff: done: x: 04-07:dischargeEnteralFeedStart_day y: 20-04:BayleyIIILanguageComposite\n",
      "_corr_coeff: to eval: x: 04-07:dischargeEnteralFeedStart_day y: 20-04:BayleyIIIMotorComposite valid_x: 337 valid_y: 415\n",
      "_corr_coeff: done: x: 04-07:dischargeEnteralFeedStart_day y: 20-04:BayleyIIIMotorComposite\n"
     ]
    },
    {
     "name": "stderr",
     "output_type": "stream",
     "text": [
      "\r",
      " 82%|████████▏ | 280/341 [01:00<00:13,  4.50it/s]"
     ]
    },
    {
     "name": "stdout",
     "output_type": "stream",
     "text": [
      "_corr_coeff: to eval: x: 04-07:dischargeTubeFeedingDuration_day y: 20-10:moderateSevereDisabilityOrDeath valid_x: 508 valid_y: 504\n",
      "_corr_coeff: done: x: 04-07:dischargeTubeFeedingDuration_day y: 20-10:moderateSevereDisabilityOrDeath\n",
      "_corr_coeff: to eval: x: 04-07:dischargeTubeFeedingDuration_day y: 20-10:disabilityLevelDeath4Category valid_x: 508 valid_y: 498\n",
      "_corr_coeff: done: x: 04-07:dischargeTubeFeedingDuration_day y: 20-10:disabilityLevelDeath4Category\n",
      "_corr_coeff: to eval: x: 04-07:dischargeTubeFeedingDuration_day y: 20-10_1:disabilityLevelDeath valid_x: 508 valid_y: 498\n",
      "_corr_coeff: done: x: 04-07:dischargeTubeFeedingDuration_day y: 20-10_1:disabilityLevelDeath\n",
      "_corr_coeff: to eval: x: 04-07:dischargeTubeFeedingDuration_day y: 20-04:BayleyIIICognitiveComposite valid_x: 508 valid_y: 421\n",
      "_corr_coeff: done: x: 04-07:dischargeTubeFeedingDuration_day y: 20-04:BayleyIIICognitiveComposite\n",
      "_corr_coeff: to eval: x: 04-07:dischargeTubeFeedingDuration_day y: 20-04:BayleyIIILanguageComposite valid_x: 508 valid_y: 411\n",
      "_corr_coeff: done: x: 04-07:dischargeTubeFeedingDuration_day y: 20-04:BayleyIIILanguageComposite\n",
      "_corr_coeff: to eval: x: 04-07:dischargeTubeFeedingDuration_day y: 20-04:BayleyIIIMotorComposite valid_x: 508 valid_y: 415\n",
      "_corr_coeff: done: x: 04-07:dischargeTubeFeedingDuration_day y: 20-04:BayleyIIIMotorComposite\n"
     ]
    },
    {
     "name": "stderr",
     "output_type": "stream",
     "text": [
      "\r",
      " 82%|████████▏ | 281/341 [01:00<00:12,  4.71it/s]"
     ]
    },
    {
     "name": "stdout",
     "output_type": "stream",
     "text": [
      "_corr_coeff: to eval: x: 04-07:dischargeFullNippleFeed y: 20-10:moderateSevereDisabilityOrDeath valid_x: 362 valid_y: 504\n",
      "_corr_coeff: done: x: 04-07:dischargeFullNippleFeed y: 20-10:moderateSevereDisabilityOrDeath\n",
      "_corr_coeff: to eval: x: 04-07:dischargeFullNippleFeed y: 20-10:disabilityLevelDeath4Category valid_x: 362 valid_y: 498\n",
      "_corr_coeff: done: x: 04-07:dischargeFullNippleFeed y: 20-10:disabilityLevelDeath4Category\n",
      "_corr_coeff: to eval: x: 04-07:dischargeFullNippleFeed y: 20-10_1:disabilityLevelDeath valid_x: 362 valid_y: 498\n",
      "_corr_coeff: done: x: 04-07:dischargeFullNippleFeed y: 20-10_1:disabilityLevelDeath\n",
      "_corr_coeff: to eval: x: 04-07:dischargeFullNippleFeed y: 20-04:BayleyIIICognitiveComposite valid_x: 362 valid_y: 421\n",
      "_corr_coeff: done: x: 04-07:dischargeFullNippleFeed y: 20-04:BayleyIIICognitiveComposite\n",
      "_corr_coeff: to eval: x: 04-07:dischargeFullNippleFeed y: 20-04:BayleyIIILanguageComposite valid_x: 362 valid_y: 411\n",
      "_corr_coeff: done: x: 04-07:dischargeFullNippleFeed y: 20-04:BayleyIIILanguageComposite\n",
      "_corr_coeff: to eval: x: 04-07:dischargeFullNippleFeed y: 20-04:BayleyIIIMotorComposite valid_x: 362 valid_y: 415\n",
      "_corr_coeff: done: x: 04-07:dischargeFullNippleFeed y: 20-04:BayleyIIIMotorComposite\n",
      "_corr_coeff: to eval: x: 04-07:dischargeFullNippleFeed_day y: 20-10:moderateSevereDisabilityOrDeath valid_x: 374 valid_y: 504\n",
      "_corr_coeff: done: x: 04-07:dischargeFullNippleFeed_day y: 20-10:moderateSevereDisabilityOrDeath\n"
     ]
    },
    {
     "name": "stderr",
     "output_type": "stream",
     "text": [
      "\r",
      " 83%|████████▎ | 282/341 [01:00<00:13,  4.49it/s]"
     ]
    },
    {
     "name": "stdout",
     "output_type": "stream",
     "text": [
      "_corr_coeff: to eval: x: 04-07:dischargeFullNippleFeed_day y: 20-10:disabilityLevelDeath4Category valid_x: 374 valid_y: 498\n",
      "_corr_coeff: done: x: 04-07:dischargeFullNippleFeed_day y: 20-10:disabilityLevelDeath4Category\n",
      "_corr_coeff: to eval: x: 04-07:dischargeFullNippleFeed_day y: 20-10_1:disabilityLevelDeath valid_x: 374 valid_y: 498\n",
      "_corr_coeff: done: x: 04-07:dischargeFullNippleFeed_day y: 20-10_1:disabilityLevelDeath\n",
      "_corr_coeff: to eval: x: 04-07:dischargeFullNippleFeed_day y: 20-04:BayleyIIICognitiveComposite valid_x: 374 valid_y: 421\n",
      "_corr_coeff: done: x: 04-07:dischargeFullNippleFeed_day y: 20-04:BayleyIIICognitiveComposite\n",
      "_corr_coeff: to eval: x: 04-07:dischargeFullNippleFeed_day y: 20-04:BayleyIIILanguageComposite valid_x: 374 valid_y: 411\n",
      "_corr_coeff: done: x: 04-07:dischargeFullNippleFeed_day y: 20-04:BayleyIIILanguageComposite\n",
      "_corr_coeff: to eval: x: 04-07:dischargeFullNippleFeed_day y: 20-04:BayleyIIIMotorComposite valid_x: 374 valid_y: 415\n",
      "_corr_coeff: done: x: 04-07:dischargeFullNippleFeed_day y: 20-04:BayleyIIIMotorComposite\n",
      "_corr_coeff: to eval: x: 04-07:dischargeNEC y: 20-10:moderateSevereDisabilityOrDeath valid_x: 532 valid_y: 504\n",
      "_corr_coeff: done: x: 04-07:dischargeNEC y: 20-10:moderateSevereDisabilityOrDeath\n",
      "_corr_coeff: to eval: x: 04-07:dischargeNEC y: 20-10:disabilityLevelDeath4Category valid_x: 532 valid_y: 498\n",
      "_corr_coeff: done: x: 04-07:dischargeNEC y: 20-10:disabilityLevelDeath4Category\n"
     ]
    },
    {
     "name": "stderr",
     "output_type": "stream",
     "text": [
      "\r",
      " 83%|████████▎ | 283/341 [01:00<00:12,  4.56it/s]"
     ]
    },
    {
     "name": "stdout",
     "output_type": "stream",
     "text": [
      "_corr_coeff: to eval: x: 04-07:dischargeNEC y: 20-10_1:disabilityLevelDeath valid_x: 532 valid_y: 498\n",
      "_corr_coeff: done: x: 04-07:dischargeNEC y: 20-10_1:disabilityLevelDeath\n",
      "_corr_coeff: to eval: x: 04-07:dischargeNEC y: 20-04:BayleyIIICognitiveComposite valid_x: 532 valid_y: 421\n",
      "_corr_coeff: done: x: 04-07:dischargeNEC y: 20-04:BayleyIIICognitiveComposite\n",
      "_corr_coeff: to eval: x: 04-07:dischargeNEC y: 20-04:BayleyIIILanguageComposite valid_x: 532 valid_y: 411\n",
      "_corr_coeff: done: x: 04-07:dischargeNEC y: 20-04:BayleyIIILanguageComposite\n",
      "_corr_coeff: to eval: x: 04-07:dischargeNEC y: 20-04:BayleyIIIMotorComposite valid_x: 532 valid_y: 415\n",
      "_corr_coeff: done: x: 04-07:dischargeNEC y: 20-04:BayleyIIIMotorComposite\n",
      "_corr_coeff: to eval: x: 04-07:dischargeHepaticDysfunction y: 20-10:moderateSevereDisabilityOrDeath valid_x: 532 valid_y: 504\n",
      "_corr_coeff: done: x: 04-07:dischargeHepaticDysfunction y: 20-10:moderateSevereDisabilityOrDeath\n"
     ]
    },
    {
     "name": "stderr",
     "output_type": "stream",
     "text": [
      "\r",
      " 83%|████████▎ | 284/341 [01:01<00:13,  4.30it/s]"
     ]
    },
    {
     "name": "stdout",
     "output_type": "stream",
     "text": [
      "_corr_coeff: to eval: x: 04-07:dischargeHepaticDysfunction y: 20-10:disabilityLevelDeath4Category valid_x: 532 valid_y: 498\n",
      "_corr_coeff: done: x: 04-07:dischargeHepaticDysfunction y: 20-10:disabilityLevelDeath4Category\n",
      "_corr_coeff: to eval: x: 04-07:dischargeHepaticDysfunction y: 20-10_1:disabilityLevelDeath valid_x: 532 valid_y: 498\n",
      "_corr_coeff: done: x: 04-07:dischargeHepaticDysfunction y: 20-10_1:disabilityLevelDeath\n",
      "_corr_coeff: to eval: x: 04-07:dischargeHepaticDysfunction y: 20-04:BayleyIIICognitiveComposite valid_x: 532 valid_y: 421\n",
      "_corr_coeff: done: x: 04-07:dischargeHepaticDysfunction y: 20-04:BayleyIIICognitiveComposite\n",
      "_corr_coeff: to eval: x: 04-07:dischargeHepaticDysfunction y: 20-04:BayleyIIILanguageComposite valid_x: 532 valid_y: 411\n",
      "_corr_coeff: done: x: 04-07:dischargeHepaticDysfunction y: 20-04:BayleyIIILanguageComposite\n",
      "_corr_coeff: to eval: x: 04-07:dischargeHepaticDysfunction y: 20-04:BayleyIIIMotorComposite valid_x: 532 valid_y: 415\n",
      "_corr_coeff: done: x: 04-07:dischargeHepaticDysfunction y: 20-04:BayleyIIIMotorComposite\n",
      "_corr_coeff: to eval: x: 04-08:dischargeAlteredSkinItegrityPostIntervention y: 20-10:moderateSevereDisabilityOrDeath valid_x: 364 valid_y: 504\n",
      "_corr_coeff: done: x: 04-08:dischargeAlteredSkinItegrityPostIntervention y: 20-10:moderateSevereDisabilityOrDeath\n",
      "_corr_coeff: to eval: x: 04-08:dischargeAlteredSkinItegrityPostIntervention y: 20-10:disabilityLevelDeath4Category valid_x: 364 valid_y: 498\n",
      "_corr_coeff: done: x: 04-08:dischargeAlteredSkinItegrityPostIntervention y: 20-10:disabilityLevelDeath4Category\n"
     ]
    },
    {
     "name": "stderr",
     "output_type": "stream",
     "text": [
      "\r",
      " 84%|████████▎ | 285/341 [01:01<00:13,  4.26it/s]"
     ]
    },
    {
     "name": "stdout",
     "output_type": "stream",
     "text": [
      "_corr_coeff: to eval: x: 04-08:dischargeAlteredSkinItegrityPostIntervention y: 20-10_1:disabilityLevelDeath valid_x: 364 valid_y: 498\n",
      "_corr_coeff: done: x: 04-08:dischargeAlteredSkinItegrityPostIntervention y: 20-10_1:disabilityLevelDeath\n",
      "_corr_coeff: to eval: x: 04-08:dischargeAlteredSkinItegrityPostIntervention y: 20-04:BayleyIIICognitiveComposite valid_x: 364 valid_y: 421\n",
      "_corr_coeff: done: x: 04-08:dischargeAlteredSkinItegrityPostIntervention y: 20-04:BayleyIIICognitiveComposite\n",
      "_corr_coeff: to eval: x: 04-08:dischargeAlteredSkinItegrityPostIntervention y: 20-04:BayleyIIILanguageComposite valid_x: 364 valid_y: 411\n",
      "_corr_coeff: done: x: 04-08:dischargeAlteredSkinItegrityPostIntervention y: 20-04:BayleyIIILanguageComposite\n",
      "_corr_coeff: to eval: x: 04-08:dischargeAlteredSkinItegrityPostIntervention y: 20-04:BayleyIIIMotorComposite valid_x: 364 valid_y: 415\n",
      "_corr_coeff: done: x: 04-08:dischargeAlteredSkinItegrityPostIntervention y: 20-04:BayleyIIIMotorComposite\n",
      "_corr_coeff: to eval: x: 04-08:dischargeErythema y: 20-10:moderateSevereDisabilityOrDeath valid_x: 27 valid_y: 504\n",
      "_corr_coeff: done: x: 04-08:dischargeErythema y: 20-10:moderateSevereDisabilityOrDeath\n",
      "_corr_coeff: to eval: x: 04-08:dischargeErythema y: 20-10:disabilityLevelDeath4Category valid_x: 27 valid_y: 498\n",
      "_corr_coeff: done: x: 04-08:dischargeErythema y: 20-10:disabilityLevelDeath4Category\n"
     ]
    },
    {
     "name": "stderr",
     "output_type": "stream",
     "text": [
      "\r",
      " 84%|████████▍ | 286/341 [01:01<00:11,  4.79it/s]"
     ]
    },
    {
     "name": "stdout",
     "output_type": "stream",
     "text": [
      "_corr_coeff: to eval: x: 04-08:dischargeErythema y: 20-10_1:disabilityLevelDeath valid_x: 27 valid_y: 498\n",
      "_corr_coeff: done: x: 04-08:dischargeErythema y: 20-10_1:disabilityLevelDeath\n",
      "_corr_coeff: to eval: x: 04-08:dischargeErythema y: 20-04:BayleyIIICognitiveComposite valid_x: 27 valid_y: 421\n",
      "_corr_coeff: done: x: 04-08:dischargeErythema y: 20-04:BayleyIIICognitiveComposite\n",
      "_corr_coeff: to eval: x: 04-08:dischargeErythema y: 20-04:BayleyIIILanguageComposite valid_x: 27 valid_y: 411\n",
      "_corr_coeff: done: x: 04-08:dischargeErythema y: 20-04:BayleyIIILanguageComposite\n",
      "_corr_coeff: to eval: x: 04-08:dischargeErythema y: 20-04:BayleyIIIMotorComposite valid_x: 27 valid_y: 415\n",
      "_corr_coeff: done: x: 04-08:dischargeErythema y: 20-04:BayleyIIIMotorComposite\n",
      "_corr_coeff: to eval: x: 04-08:dischargeCyanosis y: 20-10:moderateSevereDisabilityOrDeath valid_x: 27 valid_y: 504\n",
      "_corr_coeff: done: x: 04-08:dischargeCyanosis y: 20-10:moderateSevereDisabilityOrDeath\n",
      "_corr_coeff: to eval: x: 04-08:dischargeCyanosis y: 20-10:disabilityLevelDeath4Category valid_x: 27 valid_y: 498\n",
      "_corr_coeff: done: x: 04-08:dischargeCyanosis y: 20-10:disabilityLevelDeath4Category\n",
      "_corr_coeff: to eval: x: 04-08:dischargeCyanosis y: 20-10_1:disabilityLevelDeath valid_x: 27 valid_y: 498\n",
      "_corr_coeff: done: x: 04-08:dischargeCyanosis y: 20-10_1:disabilityLevelDeath\n",
      "_corr_coeff: to eval: x: 04-08:dischargeCyanosis y: 20-04:BayleyIIICognitiveComposite valid_x: 27 valid_y: 421\n",
      "_corr_coeff: done: x: 04-08:dischargeCyanosis y: 20-04:BayleyIIICognitiveComposite\n"
     ]
    },
    {
     "name": "stderr",
     "output_type": "stream",
     "text": [
      "\r",
      " 84%|████████▍ | 287/341 [01:01<00:11,  4.83it/s]"
     ]
    },
    {
     "name": "stderr",
     "output_type": "stream",
     "text": [
      "\r",
      " 84%|████████▍ | 288/341 [01:01<00:10,  5.28it/s]"
     ]
    },
    {
     "name": "stdout",
     "output_type": "stream",
     "text": [
      "_corr_coeff: to eval: x: 04-08:dischargeCyanosis y: 20-04:BayleyIIILanguageComposite valid_x: 27 valid_y: 411\n",
      "_corr_coeff: done: x: 04-08:dischargeCyanosis y: 20-04:BayleyIIILanguageComposite\n",
      "_corr_coeff: to eval: x: 04-08:dischargeCyanosis y: 20-04:BayleyIIIMotorComposite valid_x: 27 valid_y: 415\n",
      "_corr_coeff: done: x: 04-08:dischargeCyanosis y: 20-04:BayleyIIIMotorComposite\n",
      "_corr_coeff: to eval: x: 04-08:dischargeSubFatNecrosis y: 20-10:moderateSevereDisabilityOrDeath valid_x: 28 valid_y: 504\n",
      "_corr_coeff: done: x: 04-08:dischargeSubFatNecrosis y: 20-10:moderateSevereDisabilityOrDeath\n",
      "_corr_coeff: to eval: x: 04-08:dischargeSubFatNecrosis y: 20-10:disabilityLevelDeath4Category valid_x: 28 valid_y: 498\n",
      "_corr_coeff: done: x: 04-08:dischargeSubFatNecrosis y: 20-10:disabilityLevelDeath4Category\n",
      "_corr_coeff: to eval: x: 04-08:dischargeSubFatNecrosis y: 20-10_1:disabilityLevelDeath valid_x: 28 valid_y: 498\n",
      "_corr_coeff: done: x: 04-08:dischargeSubFatNecrosis y: 20-10_1:disabilityLevelDeath\n",
      "_corr_coeff: to eval: x: 04-08:dischargeSubFatNecrosis y: 20-04:BayleyIIICognitiveComposite valid_x: 28 valid_y: 421\n",
      "_corr_coeff: done: x: 04-08:dischargeSubFatNecrosis y: 20-04:BayleyIIICognitiveComposite\n",
      "_corr_coeff: to eval: x: 04-08:dischargeSubFatNecrosis y: 20-04:BayleyIIILanguageComposite valid_x: 28 valid_y: 411\n",
      "_corr_coeff: done: x: 04-08:dischargeSubFatNecrosis y: 20-04:BayleyIIILanguageComposite\n",
      "_corr_coeff: to eval: x: 04-08:dischargeSubFatNecrosis y: 20-04:BayleyIIIMotorComposite valid_x: 28 valid_y: 415\n",
      "_corr_coeff: done: x: 04-08:dischargeSubFatNecrosis y: 20-04:BayleyIIIMotorComposite\n"
     ]
    },
    {
     "name": "stdout",
     "output_type": "stream",
     "text": [
      "_corr_coeff: to eval: x: 04-09:dischargeHearingTest y: 20-10:moderateSevereDisabilityOrDeath valid_x: 532 valid_y: 504\n",
      "_corr_coeff: done: x: 04-09:dischargeHearingTest y: 20-10:moderateSevereDisabilityOrDeath\n",
      "_corr_coeff: to eval: x: 04-09:dischargeHearingTest y: 20-10:disabilityLevelDeath4Category valid_x: 532 valid_y: 498\n",
      "_corr_coeff: done: x: 04-09:dischargeHearingTest y: 20-10:disabilityLevelDeath4Category\n",
      "_corr_coeff: to eval: x: 04-09:dischargeHearingTest y: 20-10_1:disabilityLevelDeath valid_x: 532 valid_y: 498\n",
      "_corr_coeff: done: x: 04-09:dischargeHearingTest y: 20-10_1:disabilityLevelDeath\n",
      "_corr_coeff: to eval: x: 04-09:dischargeHearingTest y: 20-04:BayleyIIICognitiveComposite valid_x: 532 valid_y: 421\n",
      "_corr_coeff: done: x: 04-09:dischargeHearingTest y: 20-04:BayleyIIICognitiveComposite\n",
      "_corr_coeff: to eval: x: 04-09:dischargeHearingTest y: 20-04:BayleyIIILanguageComposite valid_x: 532 valid_y: 411\n",
      "_corr_coeff: done: x: 04-09:dischargeHearingTest y: 20-04:BayleyIIILanguageComposite\n"
     ]
    },
    {
     "name": "stderr",
     "output_type": "stream",
     "text": [
      "\r",
      " 85%|████████▍ | 289/341 [01:02<00:10,  4.73it/s]"
     ]
    },
    {
     "name": "stdout",
     "output_type": "stream",
     "text": [
      "_corr_coeff: to eval: x: 04-09:dischargeHearingTest y: 20-04:BayleyIIIMotorComposite valid_x: 532 valid_y: 415\n",
      "_corr_coeff: done: x: 04-09:dischargeHearingTest y: 20-04:BayleyIIIMotorComposite\n",
      "_corr_coeff: to eval: x: 04-09:dischargeHearingTestNormal y: 20-10:moderateSevereDisabilityOrDeath valid_x: 421 valid_y: 504\n",
      "_corr_coeff: done: x: 04-09:dischargeHearingTestNormal y: 20-10:moderateSevereDisabilityOrDeath\n",
      "_corr_coeff: to eval: x: 04-09:dischargeHearingTestNormal y: 20-10:disabilityLevelDeath4Category valid_x: 421 valid_y: 498\n",
      "_corr_coeff: done: x: 04-09:dischargeHearingTestNormal y: 20-10:disabilityLevelDeath4Category\n",
      "_corr_coeff: to eval: x: 04-09:dischargeHearingTestNormal y: 20-10_1:disabilityLevelDeath valid_x: 421 valid_y: 498\n",
      "_corr_coeff: done: x: 04-09:dischargeHearingTestNormal y: 20-10_1:disabilityLevelDeath\n",
      "_corr_coeff: to eval: x: 04-09:dischargeHearingTestNormal y: 20-04:BayleyIIICognitiveComposite valid_x: 421 valid_y: 421\n",
      "_corr_coeff: done: x: 04-09:dischargeHearingTestNormal y: 20-04:BayleyIIICognitiveComposite\n",
      "_corr_coeff: to eval: x: 04-09:dischargeHearingTestNormal y: 20-04:BayleyIIILanguageComposite valid_x: 421 valid_y: 411\n",
      "_corr_coeff: done: x: 04-09:dischargeHearingTestNormal y: 20-04:BayleyIIILanguageComposite\n",
      "_corr_coeff: to eval: x: 04-09:dischargeHearingTestNormal y: 20-04:BayleyIIIMotorComposite valid_x: 421 valid_y: 415\n",
      "_corr_coeff: done: x: 04-09:dischargeHearingTestNormal y: 20-04:BayleyIIIMotorComposite\n"
     ]
    },
    {
     "name": "stderr",
     "output_type": "stream",
     "text": [
      "\r",
      " 85%|████████▌ | 290/341 [01:02<00:10,  4.78it/s]"
     ]
    },
    {
     "name": "stdout",
     "output_type": "stream",
     "text": [
      "_corr_coeff: to eval: x: 04-10:dischargeMajorSurgery y: 20-10:moderateSevereDisabilityOrDeath valid_x: 532 valid_y: 504\n",
      "_corr_coeff: done: x: 04-10:dischargeMajorSurgery y: 20-10:moderateSevereDisabilityOrDeath\n",
      "_corr_coeff: to eval: x: 04-10:dischargeMajorSurgery y: 20-10:disabilityLevelDeath4Category valid_x: 532 valid_y: 498\n",
      "_corr_coeff: done: x: 04-10:dischargeMajorSurgery y: 20-10:disabilityLevelDeath4Category\n",
      "_corr_coeff: to eval: x: 04-10:dischargeMajorSurgery y: 20-10_1:disabilityLevelDeath valid_x: 532 valid_y: 498\n",
      "_corr_coeff: done: x: 04-10:dischargeMajorSurgery y: 20-10_1:disabilityLevelDeath\n",
      "_corr_coeff: to eval: x: 04-10:dischargeMajorSurgery y: 20-04:BayleyIIICognitiveComposite valid_x: 532 valid_y: 421\n",
      "_corr_coeff: done: x: 04-10:dischargeMajorSurgery y: 20-04:BayleyIIICognitiveComposite\n",
      "_corr_coeff: to eval: x: 04-10:dischargeMajorSurgery y: 20-04:BayleyIIILanguageComposite valid_x: 532 valid_y: 411\n",
      "_corr_coeff: done: x: 04-10:dischargeMajorSurgery y: 20-04:BayleyIIILanguageComposite\n"
     ]
    },
    {
     "name": "stderr",
     "output_type": "stream",
     "text": [
      "\r",
      " 85%|████████▌ | 291/341 [01:02<00:11,  4.45it/s]"
     ]
    },
    {
     "name": "stdout",
     "output_type": "stream",
     "text": [
      "_corr_coeff: to eval: x: 04-10:dischargeMajorSurgery y: 20-04:BayleyIIIMotorComposite valid_x: 532 valid_y: 415\n",
      "_corr_coeff: done: x: 04-10:dischargeMajorSurgery y: 20-04:BayleyIIIMotorComposite\n",
      "_corr_coeff: to eval: x: 04-11:dischargeSepticemia y: 20-10:moderateSevereDisabilityOrDeath valid_x: 531 valid_y: 504\n",
      "_corr_coeff: done: x: 04-11:dischargeSepticemia y: 20-10:moderateSevereDisabilityOrDeath\n",
      "_corr_coeff: to eval: x: 04-11:dischargeSepticemia y: 20-10:disabilityLevelDeath4Category valid_x: 531 valid_y: 498\n",
      "_corr_coeff: done: x: 04-11:dischargeSepticemia y: 20-10:disabilityLevelDeath4Category\n",
      "_corr_coeff: to eval: x: 04-11:dischargeSepticemia y: 20-10_1:disabilityLevelDeath valid_x: 531 valid_y: 498\n",
      "_corr_coeff: done: x: 04-11:dischargeSepticemia y: 20-10_1:disabilityLevelDeath\n",
      "_corr_coeff: to eval: x: 04-11:dischargeSepticemia y: 20-04:BayleyIIICognitiveComposite valid_x: 531 valid_y: 421\n",
      "_corr_coeff: done: x: 04-11:dischargeSepticemia y: 20-04:BayleyIIICognitiveComposite\n",
      "_corr_coeff: to eval: x: 04-11:dischargeSepticemia y: 20-04:BayleyIIILanguageComposite valid_x: 531 valid_y: 411\n",
      "_corr_coeff: done: x: 04-11:dischargeSepticemia y: 20-04:BayleyIIILanguageComposite\n"
     ]
    },
    {
     "name": "stderr",
     "output_type": "stream",
     "text": [
      "\r",
      " 86%|████████▌ | 292/341 [01:02<00:10,  4.55it/s]"
     ]
    },
    {
     "name": "stdout",
     "output_type": "stream",
     "text": [
      "_corr_coeff: to eval: x: 04-11:dischargeSepticemia y: 20-04:BayleyIIIMotorComposite valid_x: 531 valid_y: 415\n",
      "_corr_coeff: done: x: 04-11:dischargeSepticemia y: 20-04:BayleyIIIMotorComposite\n",
      "_corr_coeff: to eval: x: 04-11:dischargeMeningitisEncephalitis y: 20-10:moderateSevereDisabilityOrDeath valid_x: 532 valid_y: 504\n",
      "_corr_coeff: done: x: 04-11:dischargeMeningitisEncephalitis y: 20-10:moderateSevereDisabilityOrDeath\n",
      "_corr_coeff: to eval: x: 04-11:dischargeMeningitisEncephalitis y: 20-10:disabilityLevelDeath4Category valid_x: 532 valid_y: 498\n",
      "_corr_coeff: done: x: 04-11:dischargeMeningitisEncephalitis y: 20-10:disabilityLevelDeath4Category\n",
      "_corr_coeff: to eval: x: 04-11:dischargeMeningitisEncephalitis y: 20-10_1:disabilityLevelDeath valid_x: 532 valid_y: 498\n",
      "_corr_coeff: done: x: 04-11:dischargeMeningitisEncephalitis y: 20-10_1:disabilityLevelDeath\n",
      "_corr_coeff: to eval: x: 04-11:dischargeMeningitisEncephalitis y: 20-04:BayleyIIICognitiveComposite valid_x: 532 valid_y: 421\n",
      "_corr_coeff: done: x: 04-11:dischargeMeningitisEncephalitis y: 20-04:BayleyIIICognitiveComposite\n"
     ]
    },
    {
     "name": "stderr",
     "output_type": "stream",
     "text": [
      "\r",
      " 86%|████████▌ | 293/341 [01:03<00:11,  4.29it/s]"
     ]
    },
    {
     "name": "stdout",
     "output_type": "stream",
     "text": [
      "_corr_coeff: to eval: x: 04-11:dischargeMeningitisEncephalitis y: 20-04:BayleyIIILanguageComposite valid_x: 532 valid_y: 411\n",
      "_corr_coeff: done: x: 04-11:dischargeMeningitisEncephalitis y: 20-04:BayleyIIILanguageComposite\n",
      "_corr_coeff: to eval: x: 04-11:dischargeMeningitisEncephalitis y: 20-04:BayleyIIIMotorComposite valid_x: 532 valid_y: 415\n",
      "_corr_coeff: done: x: 04-11:dischargeMeningitisEncephalitis y: 20-04:BayleyIIIMotorComposite\n",
      "_corr_coeff: to eval: x: 04-12:dischargeNeuroExamLevelConsciousness y: 20-10:moderateSevereDisabilityOrDeath valid_x: 490 valid_y: 504\n",
      "_corr_coeff: done: x: 04-12:dischargeNeuroExamLevelConsciousness y: 20-10:moderateSevereDisabilityOrDeath\n",
      "_corr_coeff: to eval: x: 04-12:dischargeNeuroExamLevelConsciousness y: 20-10:disabilityLevelDeath4Category valid_x: 490 valid_y: 498\n",
      "_corr_coeff: done: x: 04-12:dischargeNeuroExamLevelConsciousness y: 20-10:disabilityLevelDeath4Category\n",
      "_corr_coeff: to eval: x: 04-12:dischargeNeuroExamLevelConsciousness y: 20-10_1:disabilityLevelDeath valid_x: 490 valid_y: 498\n",
      "_corr_coeff: done: x: 04-12:dischargeNeuroExamLevelConsciousness y: 20-10_1:disabilityLevelDeath\n",
      "_corr_coeff: to eval: x: 04-12:dischargeNeuroExamLevelConsciousness y: 20-04:BayleyIIICognitiveComposite valid_x: 490 valid_y: 421\n",
      "_corr_coeff: done: x: 04-12:dischargeNeuroExamLevelConsciousness y: 20-04:BayleyIIICognitiveComposite\n",
      "_corr_coeff: to eval: x: 04-12:dischargeNeuroExamLevelConsciousness y: 20-04:BayleyIIILanguageComposite valid_x: 490 valid_y: 411\n",
      "_corr_coeff: done: x: 04-12:dischargeNeuroExamLevelConsciousness y: 20-04:BayleyIIILanguageComposite\n"
     ]
    },
    {
     "name": "stderr",
     "output_type": "stream",
     "text": [
      "\r",
      " 86%|████████▌ | 294/341 [01:03<00:10,  4.45it/s]"
     ]
    },
    {
     "name": "stdout",
     "output_type": "stream",
     "text": [
      "_corr_coeff: to eval: x: 04-12:dischargeNeuroExamLevelConsciousness y: 20-04:BayleyIIIMotorComposite valid_x: 490 valid_y: 415\n",
      "_corr_coeff: done: x: 04-12:dischargeNeuroExamLevelConsciousness y: 20-04:BayleyIIIMotorComposite\n",
      "_corr_coeff: to eval: x: 04-12:dischargeNeuroExamSpontaneousActivity y: 20-10:moderateSevereDisabilityOrDeath valid_x: 489 valid_y: 504\n",
      "_corr_coeff: done: x: 04-12:dischargeNeuroExamSpontaneousActivity y: 20-10:moderateSevereDisabilityOrDeath\n",
      "_corr_coeff: to eval: x: 04-12:dischargeNeuroExamSpontaneousActivity y: 20-10:disabilityLevelDeath4Category valid_x: 489 valid_y: 498\n",
      "_corr_coeff: done: x: 04-12:dischargeNeuroExamSpontaneousActivity y: 20-10:disabilityLevelDeath4Category\n",
      "_corr_coeff: to eval: x: 04-12:dischargeNeuroExamSpontaneousActivity y: 20-10_1:disabilityLevelDeath valid_x: 489 valid_y: 498\n",
      "_corr_coeff: done: x: 04-12:dischargeNeuroExamSpontaneousActivity y: 20-10_1:disabilityLevelDeath\n",
      "_corr_coeff: to eval: x: 04-12:dischargeNeuroExamSpontaneousActivity y: 20-04:BayleyIIICognitiveComposite valid_x: 489 valid_y: 421\n",
      "_corr_coeff: done: x: 04-12:dischargeNeuroExamSpontaneousActivity y: 20-04:BayleyIIICognitiveComposite\n"
     ]
    },
    {
     "name": "stderr",
     "output_type": "stream",
     "text": [
      "\r",
      " 87%|████████▋ | 295/341 [01:03<00:10,  4.24it/s]"
     ]
    },
    {
     "name": "stdout",
     "output_type": "stream",
     "text": [
      "_corr_coeff: to eval: x: 04-12:dischargeNeuroExamSpontaneousActivity y: 20-04:BayleyIIILanguageComposite valid_x: 489 valid_y: 411\n",
      "_corr_coeff: done: x: 04-12:dischargeNeuroExamSpontaneousActivity y: 20-04:BayleyIIILanguageComposite\n",
      "_corr_coeff: to eval: x: 04-12:dischargeNeuroExamSpontaneousActivity y: 20-04:BayleyIIIMotorComposite valid_x: 489 valid_y: 415\n",
      "_corr_coeff: done: x: 04-12:dischargeNeuroExamSpontaneousActivity y: 20-04:BayleyIIIMotorComposite\n",
      "_corr_coeff: to eval: x: 04-12:dischargeNeuroExamPosture y: 20-10:moderateSevereDisabilityOrDeath valid_x: 489 valid_y: 504\n",
      "_corr_coeff: done: x: 04-12:dischargeNeuroExamPosture y: 20-10:moderateSevereDisabilityOrDeath\n",
      "_corr_coeff: to eval: x: 04-12:dischargeNeuroExamPosture y: 20-10:disabilityLevelDeath4Category valid_x: 489 valid_y: 498\n",
      "_corr_coeff: done: x: 04-12:dischargeNeuroExamPosture y: 20-10:disabilityLevelDeath4Category\n",
      "_corr_coeff: to eval: x: 04-12:dischargeNeuroExamPosture y: 20-10_1:disabilityLevelDeath valid_x: 489 valid_y: 498\n",
      "_corr_coeff: done: x: 04-12:dischargeNeuroExamPosture y: 20-10_1:disabilityLevelDeath\n",
      "_corr_coeff: to eval: x: 04-12:dischargeNeuroExamPosture y: 20-04:BayleyIIICognitiveComposite valid_x: 489 valid_y: 421\n",
      "_corr_coeff: done: x: 04-12:dischargeNeuroExamPosture y: 20-04:BayleyIIICognitiveComposite\n"
     ]
    },
    {
     "name": "stderr",
     "output_type": "stream",
     "text": [
      "\r",
      " 87%|████████▋ | 296/341 [01:03<00:10,  4.11it/s]"
     ]
    },
    {
     "name": "stdout",
     "output_type": "stream",
     "text": [
      "_corr_coeff: to eval: x: 04-12:dischargeNeuroExamPosture y: 20-04:BayleyIIILanguageComposite valid_x: 489 valid_y: 411\n",
      "_corr_coeff: done: x: 04-12:dischargeNeuroExamPosture y: 20-04:BayleyIIILanguageComposite\n",
      "_corr_coeff: to eval: x: 04-12:dischargeNeuroExamPosture y: 20-04:BayleyIIIMotorComposite valid_x: 489 valid_y: 415\n",
      "_corr_coeff: done: x: 04-12:dischargeNeuroExamPosture y: 20-04:BayleyIIIMotorComposite\n",
      "_corr_coeff: to eval: x: 04-12:dischargeNeuroExamTone y: 20-10:moderateSevereDisabilityOrDeath valid_x: 460 valid_y: 504\n",
      "_corr_coeff: done: x: 04-12:dischargeNeuroExamTone y: 20-10:moderateSevereDisabilityOrDeath\n",
      "_corr_coeff: to eval: x: 04-12:dischargeNeuroExamTone y: 20-10:disabilityLevelDeath4Category valid_x: 460 valid_y: 498\n",
      "_corr_coeff: done: x: 04-12:dischargeNeuroExamTone y: 20-10:disabilityLevelDeath4Category\n",
      "_corr_coeff: to eval: x: 04-12:dischargeNeuroExamTone y: 20-10_1:disabilityLevelDeath valid_x: 460 valid_y: 498\n",
      "_corr_coeff: done: x: 04-12:dischargeNeuroExamTone y: 20-10_1:disabilityLevelDeath\n"
     ]
    },
    {
     "name": "stderr",
     "output_type": "stream",
     "text": [
      "\r",
      " 87%|████████▋ | 297/341 [01:04<00:10,  4.32it/s]"
     ]
    },
    {
     "name": "stdout",
     "output_type": "stream",
     "text": [
      "_corr_coeff: to eval: x: 04-12:dischargeNeuroExamTone y: 20-04:BayleyIIICognitiveComposite valid_x: 460 valid_y: 421\n",
      "_corr_coeff: done: x: 04-12:dischargeNeuroExamTone y: 20-04:BayleyIIICognitiveComposite\n",
      "_corr_coeff: to eval: x: 04-12:dischargeNeuroExamTone y: 20-04:BayleyIIILanguageComposite valid_x: 460 valid_y: 411\n",
      "_corr_coeff: done: x: 04-12:dischargeNeuroExamTone y: 20-04:BayleyIIILanguageComposite\n",
      "_corr_coeff: to eval: x: 04-12:dischargeNeuroExamTone y: 20-04:BayleyIIIMotorComposite valid_x: 460 valid_y: 415\n",
      "_corr_coeff: done: x: 04-12:dischargeNeuroExamTone y: 20-04:BayleyIIIMotorComposite\n",
      "_corr_coeff: to eval: x: 04-12:dischargeNeuroExamSuck y: 20-10:moderateSevereDisabilityOrDeath valid_x: 489 valid_y: 504\n",
      "_corr_coeff: done: x: 04-12:dischargeNeuroExamSuck y: 20-10:moderateSevereDisabilityOrDeath\n",
      "_corr_coeff: to eval: x: 04-12:dischargeNeuroExamSuck y: 20-10:disabilityLevelDeath4Category valid_x: 489 valid_y: 498\n",
      "_corr_coeff: done: x: 04-12:dischargeNeuroExamSuck y: 20-10:disabilityLevelDeath4Category\n",
      "_corr_coeff: to eval: x: 04-12:dischargeNeuroExamSuck y: 20-10_1:disabilityLevelDeath valid_x: 489 valid_y: 498\n",
      "_corr_coeff: done: x: 04-12:dischargeNeuroExamSuck y: 20-10_1:disabilityLevelDeath\n"
     ]
    },
    {
     "name": "stderr",
     "output_type": "stream",
     "text": [
      "\r",
      " 87%|████████▋ | 298/341 [01:04<00:10,  4.17it/s]"
     ]
    },
    {
     "name": "stdout",
     "output_type": "stream",
     "text": [
      "_corr_coeff: to eval: x: 04-12:dischargeNeuroExamSuck y: 20-04:BayleyIIICognitiveComposite valid_x: 489 valid_y: 421\n",
      "_corr_coeff: done: x: 04-12:dischargeNeuroExamSuck y: 20-04:BayleyIIICognitiveComposite\n",
      "_corr_coeff: to eval: x: 04-12:dischargeNeuroExamSuck y: 20-04:BayleyIIILanguageComposite valid_x: 489 valid_y: 411\n",
      "_corr_coeff: done: x: 04-12:dischargeNeuroExamSuck y: 20-04:BayleyIIILanguageComposite\n",
      "_corr_coeff: to eval: x: 04-12:dischargeNeuroExamSuck y: 20-04:BayleyIIIMotorComposite valid_x: 489 valid_y: 415\n",
      "_corr_coeff: done: x: 04-12:dischargeNeuroExamSuck y: 20-04:BayleyIIIMotorComposite\n",
      "_corr_coeff: to eval: x: 04-12:dischargeNeuroExamMoro y: 20-10:moderateSevereDisabilityOrDeath valid_x: 485 valid_y: 504\n",
      "_corr_coeff: done: x: 04-12:dischargeNeuroExamMoro y: 20-10:moderateSevereDisabilityOrDeath\n",
      "_corr_coeff: to eval: x: 04-12:dischargeNeuroExamMoro y: 20-10:disabilityLevelDeath4Category valid_x: 485 valid_y: 498\n",
      "_corr_coeff: done: x: 04-12:dischargeNeuroExamMoro y: 20-10:disabilityLevelDeath4Category\n"
     ]
    },
    {
     "name": "stderr",
     "output_type": "stream",
     "text": [
      "\r",
      " 88%|████████▊ | 299/341 [01:04<00:09,  4.39it/s]"
     ]
    },
    {
     "name": "stdout",
     "output_type": "stream",
     "text": [
      "_corr_coeff: to eval: x: 04-12:dischargeNeuroExamMoro y: 20-10_1:disabilityLevelDeath valid_x: 485 valid_y: 498\n",
      "_corr_coeff: done: x: 04-12:dischargeNeuroExamMoro y: 20-10_1:disabilityLevelDeath\n",
      "_corr_coeff: to eval: x: 04-12:dischargeNeuroExamMoro y: 20-04:BayleyIIICognitiveComposite valid_x: 485 valid_y: 421\n",
      "_corr_coeff: done: x: 04-12:dischargeNeuroExamMoro y: 20-04:BayleyIIICognitiveComposite\n",
      "_corr_coeff: to eval: x: 04-12:dischargeNeuroExamMoro y: 20-04:BayleyIIILanguageComposite valid_x: 485 valid_y: 411\n",
      "_corr_coeff: done: x: 04-12:dischargeNeuroExamMoro y: 20-04:BayleyIIILanguageComposite\n",
      "_corr_coeff: to eval: x: 04-12:dischargeNeuroExamMoro y: 20-04:BayleyIIIMotorComposite valid_x: 485 valid_y: 415\n",
      "_corr_coeff: done: x: 04-12:dischargeNeuroExamMoro y: 20-04:BayleyIIIMotorComposite\n",
      "_corr_coeff: to eval: x: 04-12:dischargeNeuroExamPupils y: 20-10:moderateSevereDisabilityOrDeath valid_x: 484 valid_y: 504\n",
      "_corr_coeff: done: x: 04-12:dischargeNeuroExamPupils y: 20-10:moderateSevereDisabilityOrDeath\n",
      "_corr_coeff: to eval: x: 04-12:dischargeNeuroExamPupils y: 20-10:disabilityLevelDeath4Category valid_x: 484 valid_y: 498\n",
      "_corr_coeff: done: x: 04-12:dischargeNeuroExamPupils y: 20-10:disabilityLevelDeath4Category\n",
      "_corr_coeff: to eval: x: 04-12:dischargeNeuroExamPupils y: 20-10_1:disabilityLevelDeath valid_x: 484 valid_y: 498\n",
      "_corr_coeff: done: x: 04-12:dischargeNeuroExamPupils y: 20-10_1:disabilityLevelDeath\n"
     ]
    },
    {
     "name": "stderr",
     "output_type": "stream",
     "text": [
      "\r",
      " 88%|████████▊ | 300/341 [01:04<00:09,  4.53it/s]"
     ]
    },
    {
     "name": "stdout",
     "output_type": "stream",
     "text": [
      "_corr_coeff: to eval: x: 04-12:dischargeNeuroExamPupils y: 20-04:BayleyIIICognitiveComposite valid_x: 484 valid_y: 421\n",
      "_corr_coeff: done: x: 04-12:dischargeNeuroExamPupils y: 20-04:BayleyIIICognitiveComposite\n",
      "_corr_coeff: to eval: x: 04-12:dischargeNeuroExamPupils y: 20-04:BayleyIIILanguageComposite valid_x: 484 valid_y: 411\n",
      "_corr_coeff: done: x: 04-12:dischargeNeuroExamPupils y: 20-04:BayleyIIILanguageComposite\n",
      "_corr_coeff: to eval: x: 04-12:dischargeNeuroExamPupils y: 20-04:BayleyIIIMotorComposite valid_x: 484 valid_y: 415\n",
      "_corr_coeff: done: x: 04-12:dischargeNeuroExamPupils y: 20-04:BayleyIIIMotorComposite\n",
      "_corr_coeff: to eval: x: 04-12:dischargeNeuroExamHeartRate y: 20-10:moderateSevereDisabilityOrDeath valid_x: 485 valid_y: 504\n",
      "_corr_coeff: done: x: 04-12:dischargeNeuroExamHeartRate y: 20-10:moderateSevereDisabilityOrDeath\n",
      "_corr_coeff: to eval: x: 04-12:dischargeNeuroExamHeartRate y: 20-10:disabilityLevelDeath4Category valid_x: 485 valid_y: 498\n",
      "_corr_coeff: done: x: 04-12:dischargeNeuroExamHeartRate y: 20-10:disabilityLevelDeath4Category\n",
      "_corr_coeff: to eval: x: 04-12:dischargeNeuroExamHeartRate y: 20-10_1:disabilityLevelDeath valid_x: 485 valid_y: 498\n",
      "_corr_coeff: done: x: 04-12:dischargeNeuroExamHeartRate y: 20-10_1:disabilityLevelDeath\n"
     ]
    },
    {
     "name": "stderr",
     "output_type": "stream",
     "text": [
      "\r",
      " 88%|████████▊ | 301/341 [01:04<00:08,  4.62it/s]"
     ]
    },
    {
     "name": "stdout",
     "output_type": "stream",
     "text": [
      "_corr_coeff: to eval: x: 04-12:dischargeNeuroExamHeartRate y: 20-04:BayleyIIICognitiveComposite valid_x: 485 valid_y: 421\n",
      "_corr_coeff: done: x: 04-12:dischargeNeuroExamHeartRate y: 20-04:BayleyIIICognitiveComposite\n",
      "_corr_coeff: to eval: x: 04-12:dischargeNeuroExamHeartRate y: 20-04:BayleyIIILanguageComposite valid_x: 485 valid_y: 411\n",
      "_corr_coeff: done: x: 04-12:dischargeNeuroExamHeartRate y: 20-04:BayleyIIILanguageComposite\n",
      "_corr_coeff: to eval: x: 04-12:dischargeNeuroExamHeartRate y: 20-04:BayleyIIIMotorComposite valid_x: 485 valid_y: 415\n",
      "_corr_coeff: done: x: 04-12:dischargeNeuroExamHeartRate y: 20-04:BayleyIIIMotorComposite\n",
      "_corr_coeff: to eval: x: 04-12:dischargeNeuroExamRespiration y: 20-10:moderateSevereDisabilityOrDeath valid_x: 490 valid_y: 504\n",
      "_corr_coeff: done: x: 04-12:dischargeNeuroExamRespiration y: 20-10:moderateSevereDisabilityOrDeath\n",
      "_corr_coeff: to eval: x: 04-12:dischargeNeuroExamRespiration y: 20-10:disabilityLevelDeath4Category valid_x: 490 valid_y: 498\n",
      "_corr_coeff: done: x: 04-12:dischargeNeuroExamRespiration y: 20-10:disabilityLevelDeath4Category\n",
      "_corr_coeff: to eval: x: 04-12:dischargeNeuroExamRespiration y: 20-10_1:disabilityLevelDeath valid_x: 490 valid_y: 498\n",
      "_corr_coeff: done: x: 04-12:dischargeNeuroExamRespiration y: 20-10_1:disabilityLevelDeath\n",
      "_corr_coeff: to eval: x: 04-12:dischargeNeuroExamRespiration y: 20-04:BayleyIIICognitiveComposite valid_x: 490 valid_y: 421\n",
      "_corr_coeff: done: x: 04-12:dischargeNeuroExamRespiration y: 20-04:BayleyIIICognitiveComposite\n"
     ]
    },
    {
     "name": "stderr",
     "output_type": "stream",
     "text": [
      "\r",
      " 89%|████████▊ | 302/341 [01:05<00:08,  4.74it/s]"
     ]
    },
    {
     "name": "stdout",
     "output_type": "stream",
     "text": [
      "_corr_coeff: to eval: x: 04-12:dischargeNeuroExamRespiration y: 20-04:BayleyIIILanguageComposite valid_x: 490 valid_y: 411\n",
      "_corr_coeff: done: x: 04-12:dischargeNeuroExamRespiration y: 20-04:BayleyIIILanguageComposite\n",
      "_corr_coeff: to eval: x: 04-12:dischargeNeuroExamRespiration y: 20-04:BayleyIIIMotorComposite valid_x: 490 valid_y: 415\n",
      "_corr_coeff: done: x: 04-12:dischargeNeuroExamRespiration y: 20-04:BayleyIIIMotorComposite\n",
      "_corr_coeff: to eval: x: 04-12:dischargeNeuroExamSeizure y: 20-10:moderateSevereDisabilityOrDeath valid_x: 487 valid_y: 504\n",
      "_corr_coeff: done: x: 04-12:dischargeNeuroExamSeizure y: 20-10:moderateSevereDisabilityOrDeath\n",
      "_corr_coeff: to eval: x: 04-12:dischargeNeuroExamSeizure y: 20-10:disabilityLevelDeath4Category valid_x: 487 valid_y: 498\n",
      "_corr_coeff: done: x: 04-12:dischargeNeuroExamSeizure y: 20-10:disabilityLevelDeath4Category\n",
      "_corr_coeff: to eval: x: 04-12:dischargeNeuroExamSeizure y: 20-10_1:disabilityLevelDeath valid_x: 487 valid_y: 498\n",
      "_corr_coeff: done: x: 04-12:dischargeNeuroExamSeizure y: 20-10_1:disabilityLevelDeath\n",
      "_corr_coeff: to eval: x: 04-12:dischargeNeuroExamSeizure y: 20-04:BayleyIIICognitiveComposite valid_x: 487 valid_y: 421\n",
      "_corr_coeff: done: x: 04-12:dischargeNeuroExamSeizure y: 20-04:BayleyIIICognitiveComposite\n",
      "_corr_coeff: to eval: x: 04-12:dischargeNeuroExamSeizure y: 20-04:BayleyIIILanguageComposite valid_x: 487 valid_y: 411\n",
      "_corr_coeff: done: x: 04-12:dischargeNeuroExamSeizure y: 20-04:BayleyIIILanguageComposite\n"
     ]
    },
    {
     "name": "stderr",
     "output_type": "stream",
     "text": [
      "\r",
      " 89%|████████▉ | 303/341 [01:05<00:07,  4.82it/s]"
     ]
    },
    {
     "name": "stdout",
     "output_type": "stream",
     "text": [
      "_corr_coeff: to eval: x: 04-12:dischargeNeuroExamSeizure y: 20-04:BayleyIIIMotorComposite valid_x: 487 valid_y: 415\n",
      "_corr_coeff: done: x: 04-12:dischargeNeuroExamSeizure y: 20-04:BayleyIIIMotorComposite\n",
      "_corr_coeff: to eval: x: 04-12:dischargeNeuroExamClonusSustained y: 20-10:moderateSevereDisabilityOrDeath valid_x: 484 valid_y: 504\n",
      "_corr_coeff: done: x: 04-12:dischargeNeuroExamClonusSustained y: 20-10:moderateSevereDisabilityOrDeath\n",
      "_corr_coeff: to eval: x: 04-12:dischargeNeuroExamClonusSustained y: 20-10:disabilityLevelDeath4Category valid_x: 484 valid_y: 498\n",
      "_corr_coeff: done: x: 04-12:dischargeNeuroExamClonusSustained y: 20-10:disabilityLevelDeath4Category\n",
      "_corr_coeff: to eval: x: 04-12:dischargeNeuroExamClonusSustained y: 20-10_1:disabilityLevelDeath valid_x: 484 valid_y: 498\n",
      "_corr_coeff: done: x: 04-12:dischargeNeuroExamClonusSustained y: 20-10_1:disabilityLevelDeath\n",
      "_corr_coeff: to eval: x: 04-12:dischargeNeuroExamClonusSustained y: 20-04:BayleyIIICognitiveComposite valid_x: 484 valid_y: 421\n",
      "_corr_coeff: done: x: 04-12:dischargeNeuroExamClonusSustained y: 20-04:BayleyIIICognitiveComposite\n",
      "_corr_coeff: to eval: x: 04-12:dischargeNeuroExamClonusSustained y: 20-04:BayleyIIILanguageComposite valid_x: 484 valid_y: 411\n",
      "_corr_coeff: done: x: 04-12:dischargeNeuroExamClonusSustained y: 20-04:BayleyIIILanguageComposite\n",
      "_corr_coeff: to eval: x: 04-12:dischargeNeuroExamClonusSustained y: 20-04:BayleyIIIMotorComposite valid_x: 484 valid_y: 415\n",
      "_corr_coeff: done: x: 04-12:dischargeNeuroExamClonusSustained y: 20-04:BayleyIIIMotorComposite\n"
     ]
    },
    {
     "name": "stderr",
     "output_type": "stream",
     "text": [
      "\r",
      " 89%|████████▉ | 304/341 [01:05<00:07,  4.86it/s]"
     ]
    },
    {
     "name": "stderr",
     "output_type": "stream",
     "text": [
      "\r",
      " 89%|████████▉ | 305/341 [01:05<00:07,  4.56it/s]"
     ]
    },
    {
     "name": "stdout",
     "output_type": "stream",
     "text": [
      "_corr_coeff: to eval: x: 04-12:dischargeNeuroExamFistedHand y: 20-10:moderateSevereDisabilityOrDeath valid_x: 485 valid_y: 504\n",
      "_corr_coeff: done: x: 04-12:dischargeNeuroExamFistedHand y: 20-10:moderateSevereDisabilityOrDeath\n",
      "_corr_coeff: to eval: x: 04-12:dischargeNeuroExamFistedHand y: 20-10:disabilityLevelDeath4Category valid_x: 485 valid_y: 498\n",
      "_corr_coeff: done: x: 04-12:dischargeNeuroExamFistedHand y: 20-10:disabilityLevelDeath4Category\n",
      "_corr_coeff: to eval: x: 04-12:dischargeNeuroExamFistedHand y: 20-10_1:disabilityLevelDeath valid_x: 485 valid_y: 498\n",
      "_corr_coeff: done: x: 04-12:dischargeNeuroExamFistedHand y: 20-10_1:disabilityLevelDeath\n",
      "_corr_coeff: to eval: x: 04-12:dischargeNeuroExamFistedHand y: 20-04:BayleyIIICognitiveComposite valid_x: 485 valid_y: 421\n",
      "_corr_coeff: done: x: 04-12:dischargeNeuroExamFistedHand y: 20-04:BayleyIIICognitiveComposite\n",
      "_corr_coeff: to eval: x: 04-12:dischargeNeuroExamFistedHand y: 20-04:BayleyIIILanguageComposite valid_x: 485 valid_y: 411\n",
      "_corr_coeff: done: x: 04-12:dischargeNeuroExamFistedHand y: 20-04:BayleyIIILanguageComposite\n",
      "_corr_coeff: to eval: x: 04-12:dischargeNeuroExamFistedHand y: 20-04:BayleyIIIMotorComposite valid_x: 485 valid_y: 415\n",
      "_corr_coeff: done: x: 04-12:dischargeNeuroExamFistedHand y: 20-04:BayleyIIIMotorComposite\n",
      "_corr_coeff: to eval: x: 04-12:dischargeNeuroExamAbnormalMovement y: 20-10:moderateSevereDisabilityOrDeath valid_x: 487 valid_y: 504\n",
      "_corr_coeff: done: x: 04-12:dischargeNeuroExamAbnormalMovement y: 20-10:moderateSevereDisabilityOrDeath\n"
     ]
    },
    {
     "name": "stderr",
     "output_type": "stream",
     "text": [
      "\r",
      " 90%|████████▉ | 306/341 [01:05<00:07,  4.69it/s]"
     ]
    },
    {
     "name": "stdout",
     "output_type": "stream",
     "text": [
      "_corr_coeff: to eval: x: 04-12:dischargeNeuroExamAbnormalMovement y: 20-10:disabilityLevelDeath4Category valid_x: 487 valid_y: 498\n",
      "_corr_coeff: done: x: 04-12:dischargeNeuroExamAbnormalMovement y: 20-10:disabilityLevelDeath4Category\n",
      "_corr_coeff: to eval: x: 04-12:dischargeNeuroExamAbnormalMovement y: 20-10_1:disabilityLevelDeath valid_x: 487 valid_y: 498\n",
      "_corr_coeff: done: x: 04-12:dischargeNeuroExamAbnormalMovement y: 20-10_1:disabilityLevelDeath\n",
      "_corr_coeff: to eval: x: 04-12:dischargeNeuroExamAbnormalMovement y: 20-04:BayleyIIICognitiveComposite valid_x: 487 valid_y: 421\n",
      "_corr_coeff: done: x: 04-12:dischargeNeuroExamAbnormalMovement y: 20-04:BayleyIIICognitiveComposite\n",
      "_corr_coeff: to eval: x: 04-12:dischargeNeuroExamAbnormalMovement y: 20-04:BayleyIIILanguageComposite valid_x: 487 valid_y: 411\n",
      "_corr_coeff: done: x: 04-12:dischargeNeuroExamAbnormalMovement y: 20-04:BayleyIIILanguageComposite\n",
      "_corr_coeff: to eval: x: 04-12:dischargeNeuroExamAbnormalMovement y: 20-04:BayleyIIIMotorComposite valid_x: 487 valid_y: 415\n",
      "_corr_coeff: done: x: 04-12:dischargeNeuroExamAbnormalMovement y: 20-04:BayleyIIIMotorComposite\n",
      "_corr_coeff: to eval: x: 04-12:dischargeNeuroExamGagReflexAbsent y: 20-10:moderateSevereDisabilityOrDeath valid_x: 486 valid_y: 504\n",
      "_corr_coeff: done: x: 04-12:dischargeNeuroExamGagReflexAbsent y: 20-10:moderateSevereDisabilityOrDeath\n",
      "_corr_coeff: to eval: x: 04-12:dischargeNeuroExamGagReflexAbsent y: 20-10:disabilityLevelDeath4Category valid_x: 486 valid_y: 498\n",
      "_corr_coeff: done: x: 04-12:dischargeNeuroExamGagReflexAbsent y: 20-10:disabilityLevelDeath4Category\n"
     ]
    },
    {
     "name": "stderr",
     "output_type": "stream",
     "text": [
      "\r",
      " 90%|█████████ | 307/341 [01:06<00:07,  4.79it/s]"
     ]
    },
    {
     "name": "stdout",
     "output_type": "stream",
     "text": [
      "_corr_coeff: to eval: x: 04-12:dischargeNeuroExamGagReflexAbsent y: 20-10_1:disabilityLevelDeath valid_x: 486 valid_y: 498\n",
      "_corr_coeff: done: x: 04-12:dischargeNeuroExamGagReflexAbsent y: 20-10_1:disabilityLevelDeath\n",
      "_corr_coeff: to eval: x: 04-12:dischargeNeuroExamGagReflexAbsent y: 20-04:BayleyIIICognitiveComposite valid_x: 486 valid_y: 421\n",
      "_corr_coeff: done: x: 04-12:dischargeNeuroExamGagReflexAbsent y: 20-04:BayleyIIICognitiveComposite\n",
      "_corr_coeff: to eval: x: 04-12:dischargeNeuroExamGagReflexAbsent y: 20-04:BayleyIIILanguageComposite valid_x: 486 valid_y: 411\n",
      "_corr_coeff: done: x: 04-12:dischargeNeuroExamGagReflexAbsent y: 20-04:BayleyIIILanguageComposite\n",
      "_corr_coeff: to eval: x: 04-12:dischargeNeuroExamGagReflexAbsent y: 20-04:BayleyIIIMotorComposite valid_x: 486 valid_y: 415\n",
      "_corr_coeff: done: x: 04-12:dischargeNeuroExamGagReflexAbsent y: 20-04:BayleyIIIMotorComposite\n",
      "_corr_coeff: to eval: x: 04-12:dischargeNeuroExamSedate y: 20-10:moderateSevereDisabilityOrDeath valid_x: 333 valid_y: 504\n",
      "_corr_coeff: done: x: 04-12:dischargeNeuroExamSedate y: 20-10:moderateSevereDisabilityOrDeath\n"
     ]
    },
    {
     "name": "stderr",
     "output_type": "stream",
     "text": [
      "\r",
      " 90%|█████████ | 308/341 [01:06<00:07,  4.60it/s]"
     ]
    },
    {
     "name": "stdout",
     "output_type": "stream",
     "text": [
      "_corr_coeff: to eval: x: 04-12:dischargeNeuroExamSedate y: 20-10:disabilityLevelDeath4Category valid_x: 333 valid_y: 498\n",
      "_corr_coeff: done: x: 04-12:dischargeNeuroExamSedate y: 20-10:disabilityLevelDeath4Category\n",
      "_corr_coeff: to eval: x: 04-12:dischargeNeuroExamSedate y: 20-10_1:disabilityLevelDeath valid_x: 333 valid_y: 498\n",
      "_corr_coeff: done: x: 04-12:dischargeNeuroExamSedate y: 20-10_1:disabilityLevelDeath\n",
      "_corr_coeff: to eval: x: 04-12:dischargeNeuroExamSedate y: 20-04:BayleyIIICognitiveComposite valid_x: 333 valid_y: 421\n",
      "_corr_coeff: done: x: 04-12:dischargeNeuroExamSedate y: 20-04:BayleyIIICognitiveComposite\n",
      "_corr_coeff: to eval: x: 04-12:dischargeNeuroExamSedate y: 20-04:BayleyIIILanguageComposite valid_x: 333 valid_y: 411\n",
      "_corr_coeff: done: x: 04-12:dischargeNeuroExamSedate y: 20-04:BayleyIIILanguageComposite\n",
      "_corr_coeff: to eval: x: 04-12:dischargeNeuroExamSedate y: 20-04:BayleyIIIMotorComposite valid_x: 333 valid_y: 415\n",
      "_corr_coeff: done: x: 04-12:dischargeNeuroExamSedate y: 20-04:BayleyIIIMotorComposite\n",
      "_corr_coeff: to eval: x: 04-12:dischargeNeuroExamHypertonia y: 20-10:moderateSevereDisabilityOrDeath valid_x: 157 valid_y: 504\n",
      "_corr_coeff: done: x: 04-12:dischargeNeuroExamHypertonia y: 20-10:moderateSevereDisabilityOrDeath\n",
      "_corr_coeff: to eval: x: 04-12:dischargeNeuroExamHypertonia y: 20-10:disabilityLevelDeath4Category valid_x: 157 valid_y: 498\n",
      "_corr_coeff: done: x: 04-12:dischargeNeuroExamHypertonia y: 20-10:disabilityLevelDeath4Category\n",
      "_corr_coeff: to eval: x: 04-12:dischargeNeuroExamHypertonia y: 20-10_1:disabilityLevelDeath valid_x: 157 valid_y: 498\n",
      "_corr_coeff: done: x: 04-12:dischargeNeuroExamHypertonia y: 20-10_1:disabilityLevelDeath\n"
     ]
    },
    {
     "name": "stderr",
     "output_type": "stream",
     "text": [
      "\r",
      " 91%|█████████ | 309/341 [01:06<00:06,  4.95it/s]"
     ]
    },
    {
     "name": "stdout",
     "output_type": "stream",
     "text": [
      "_corr_coeff: to eval: x: 04-12:dischargeNeuroExamHypertonia y: 20-04:BayleyIIICognitiveComposite valid_x: 157 valid_y: 421\n",
      "_corr_coeff: done: x: 04-12:dischargeNeuroExamHypertonia y: 20-04:BayleyIIICognitiveComposite\n",
      "_corr_coeff: to eval: x: 04-12:dischargeNeuroExamHypertonia y: 20-04:BayleyIIILanguageComposite valid_x: 157 valid_y: 411\n",
      "_corr_coeff: done: x: 04-12:dischargeNeuroExamHypertonia y: 20-04:BayleyIIILanguageComposite\n",
      "_corr_coeff: to eval: x: 04-12:dischargeNeuroExamHypertonia y: 20-04:BayleyIIIMotorComposite valid_x: 157 valid_y: 415\n",
      "_corr_coeff: done: x: 04-12:dischargeNeuroExamHypertonia y: 20-04:BayleyIIIMotorComposite\n",
      "_corr_coeff: to eval: x: 04-12:dischargeNeuroExamAsymTonicNeckReflex y: 20-10:moderateSevereDisabilityOrDeath valid_x: 309 valid_y: 504\n",
      "_corr_coeff: done: x: 04-12:dischargeNeuroExamAsymTonicNeckReflex y: 20-10:moderateSevereDisabilityOrDeath\n",
      "_corr_coeff: to eval: x: 04-12:dischargeNeuroExamAsymTonicNeckReflex y: 20-10:disabilityLevelDeath4Category valid_x: 309 valid_y: 498\n",
      "_corr_coeff: done: x: 04-12:dischargeNeuroExamAsymTonicNeckReflex y: 20-10:disabilityLevelDeath4Category\n",
      "_corr_coeff: to eval: x: 04-12:dischargeNeuroExamAsymTonicNeckReflex y: 20-10_1:disabilityLevelDeath valid_x: 309 valid_y: 498\n",
      "_corr_coeff: done: x: 04-12:dischargeNeuroExamAsymTonicNeckReflex y: 20-10_1:disabilityLevelDeath\n"
     ]
    },
    {
     "name": "stderr",
     "output_type": "stream",
     "text": [
      "\r",
      " 91%|█████████ | 310/341 [01:06<00:06,  4.72it/s]"
     ]
    },
    {
     "name": "stdout",
     "output_type": "stream",
     "text": [
      "_corr_coeff: to eval: x: 04-12:dischargeNeuroExamAsymTonicNeckReflex y: 20-04:BayleyIIICognitiveComposite valid_x: 309 valid_y: 421\n",
      "_corr_coeff: done: x: 04-12:dischargeNeuroExamAsymTonicNeckReflex y: 20-04:BayleyIIICognitiveComposite\n",
      "_corr_coeff: to eval: x: 04-12:dischargeNeuroExamAsymTonicNeckReflex y: 20-04:BayleyIIILanguageComposite valid_x: 309 valid_y: 411\n",
      "_corr_coeff: done: x: 04-12:dischargeNeuroExamAsymTonicNeckReflex y: 20-04:BayleyIIILanguageComposite\n",
      "_corr_coeff: to eval: x: 04-12:dischargeNeuroExamAsymTonicNeckReflex y: 20-04:BayleyIIIMotorComposite valid_x: 309 valid_y: 415\n",
      "_corr_coeff: done: x: 04-12:dischargeNeuroExamAsymTonicNeckReflex y: 20-04:BayleyIIIMotorComposite\n",
      "_corr_coeff: to eval: x: 04-12_1:dischargeNeuroExamLevelConsciousnessScore y: 20-10:moderateSevereDisabilityOrDeath valid_x: 490 valid_y: 504\n",
      "_corr_coeff: done: x: 04-12_1:dischargeNeuroExamLevelConsciousnessScore y: 20-10:moderateSevereDisabilityOrDeath\n",
      "_corr_coeff: to eval: x: 04-12_1:dischargeNeuroExamLevelConsciousnessScore y: 20-10:disabilityLevelDeath4Category valid_x: 490 valid_y: 498\n",
      "_corr_coeff: done: x: 04-12_1:dischargeNeuroExamLevelConsciousnessScore y: 20-10:disabilityLevelDeath4Category\n",
      "_corr_coeff: to eval: x: 04-12_1:dischargeNeuroExamLevelConsciousnessScore y: 20-10_1:disabilityLevelDeath valid_x: 490 valid_y: 498\n",
      "_corr_coeff: done: x: 04-12_1:dischargeNeuroExamLevelConsciousnessScore y: 20-10_1:disabilityLevelDeath\n",
      "_corr_coeff: to eval: x: 04-12_1:dischargeNeuroExamLevelConsciousnessScore y: 20-04:BayleyIIICognitiveComposite valid_x: 490 valid_y: 421\n",
      "_corr_coeff: done: x: 04-12_1:dischargeNeuroExamLevelConsciousnessScore y: 20-04:BayleyIIICognitiveComposite\n"
     ]
    },
    {
     "name": "stderr",
     "output_type": "stream",
     "text": [
      "\r",
      " 91%|█████████ | 311/341 [01:06<00:06,  4.78it/s]"
     ]
    },
    {
     "name": "stdout",
     "output_type": "stream",
     "text": [
      "_corr_coeff: to eval: x: 04-12_1:dischargeNeuroExamLevelConsciousnessScore y: 20-04:BayleyIIILanguageComposite valid_x: 490 valid_y: 411\n",
      "_corr_coeff: done: x: 04-12_1:dischargeNeuroExamLevelConsciousnessScore y: 20-04:BayleyIIILanguageComposite\n",
      "_corr_coeff: to eval: x: 04-12_1:dischargeNeuroExamLevelConsciousnessScore y: 20-04:BayleyIIIMotorComposite valid_x: 490 valid_y: 415\n",
      "_corr_coeff: done: x: 04-12_1:dischargeNeuroExamLevelConsciousnessScore y: 20-04:BayleyIIIMotorComposite\n",
      "_corr_coeff: to eval: x: 04-12_1:dischargeNeuroExamSpontaneousActivityScore y: 20-10:moderateSevereDisabilityOrDeath valid_x: 490 valid_y: 504\n",
      "_corr_coeff: done: x: 04-12_1:dischargeNeuroExamSpontaneousActivityScore y: 20-10:moderateSevereDisabilityOrDeath\n",
      "_corr_coeff: to eval: x: 04-12_1:dischargeNeuroExamSpontaneousActivityScore y: 20-10:disabilityLevelDeath4Category valid_x: 490 valid_y: 498\n",
      "_corr_coeff: done: x: 04-12_1:dischargeNeuroExamSpontaneousActivityScore y: 20-10:disabilityLevelDeath4Category\n",
      "_corr_coeff: to eval: x: 04-12_1:dischargeNeuroExamSpontaneousActivityScore y: 20-10_1:disabilityLevelDeath valid_x: 490 valid_y: 498\n",
      "_corr_coeff: done: x: 04-12_1:dischargeNeuroExamSpontaneousActivityScore y: 20-10_1:disabilityLevelDeath\n"
     ]
    },
    {
     "name": "stderr",
     "output_type": "stream",
     "text": [
      "\r",
      " 91%|█████████▏| 312/341 [01:07<00:06,  4.45it/s]"
     ]
    },
    {
     "name": "stdout",
     "output_type": "stream",
     "text": [
      "_corr_coeff: to eval: x: 04-12_1:dischargeNeuroExamSpontaneousActivityScore y: 20-04:BayleyIIICognitiveComposite valid_x: 490 valid_y: 421\n",
      "_corr_coeff: done: x: 04-12_1:dischargeNeuroExamSpontaneousActivityScore y: 20-04:BayleyIIICognitiveComposite\n",
      "_corr_coeff: to eval: x: 04-12_1:dischargeNeuroExamSpontaneousActivityScore y: 20-04:BayleyIIILanguageComposite valid_x: 490 valid_y: 411\n",
      "_corr_coeff: done: x: 04-12_1:dischargeNeuroExamSpontaneousActivityScore y: 20-04:BayleyIIILanguageComposite\n",
      "_corr_coeff: to eval: x: 04-12_1:dischargeNeuroExamSpontaneousActivityScore y: 20-04:BayleyIIIMotorComposite valid_x: 490 valid_y: 415\n",
      "_corr_coeff: done: x: 04-12_1:dischargeNeuroExamSpontaneousActivityScore y: 20-04:BayleyIIIMotorComposite\n",
      "_corr_coeff: to eval: x: 04-12_1:dischargeNeuroExamPostureScore y: 20-10:moderateSevereDisabilityOrDeath valid_x: 490 valid_y: 504\n",
      "_corr_coeff: done: x: 04-12_1:dischargeNeuroExamPostureScore y: 20-10:moderateSevereDisabilityOrDeath\n",
      "_corr_coeff: to eval: x: 04-12_1:dischargeNeuroExamPostureScore y: 20-10:disabilityLevelDeath4Category valid_x: 490 valid_y: 498\n",
      "_corr_coeff: done: x: 04-12_1:dischargeNeuroExamPostureScore y: 20-10:disabilityLevelDeath4Category\n",
      "_corr_coeff: to eval: x: 04-12_1:dischargeNeuroExamPostureScore y: 20-10_1:disabilityLevelDeath valid_x: 490 valid_y: 498\n",
      "_corr_coeff: done: x: 04-12_1:dischargeNeuroExamPostureScore y: 20-10_1:disabilityLevelDeath\n",
      "_corr_coeff: to eval: x: 04-12_1:dischargeNeuroExamPostureScore y: 20-04:BayleyIIICognitiveComposite valid_x: 490 valid_y: 421\n",
      "_corr_coeff: done: x: 04-12_1:dischargeNeuroExamPostureScore y: 20-04:BayleyIIICognitiveComposite\n"
     ]
    },
    {
     "name": "stderr",
     "output_type": "stream",
     "text": [
      "\r",
      " 92%|█████████▏| 313/341 [01:07<00:06,  4.61it/s]"
     ]
    },
    {
     "name": "stdout",
     "output_type": "stream",
     "text": [
      "_corr_coeff: to eval: x: 04-12_1:dischargeNeuroExamPostureScore y: 20-04:BayleyIIILanguageComposite valid_x: 490 valid_y: 411\n",
      "_corr_coeff: done: x: 04-12_1:dischargeNeuroExamPostureScore y: 20-04:BayleyIIILanguageComposite\n",
      "_corr_coeff: to eval: x: 04-12_1:dischargeNeuroExamPostureScore y: 20-04:BayleyIIIMotorComposite valid_x: 490 valid_y: 415\n",
      "_corr_coeff: done: x: 04-12_1:dischargeNeuroExamPostureScore y: 20-04:BayleyIIIMotorComposite\n",
      "_corr_coeff: to eval: x: 04-12_1:dischargeNeuroExamToneScore y: 20-10:moderateSevereDisabilityOrDeath valid_x: 490 valid_y: 504\n",
      "_corr_coeff: done: x: 04-12_1:dischargeNeuroExamToneScore y: 20-10:moderateSevereDisabilityOrDeath\n",
      "_corr_coeff: to eval: x: 04-12_1:dischargeNeuroExamToneScore y: 20-10:disabilityLevelDeath4Category valid_x: 490 valid_y: 498\n",
      "_corr_coeff: done: x: 04-12_1:dischargeNeuroExamToneScore y: 20-10:disabilityLevelDeath4Category\n",
      "_corr_coeff: to eval: x: 04-12_1:dischargeNeuroExamToneScore y: 20-10_1:disabilityLevelDeath valid_x: 490 valid_y: 498\n",
      "_corr_coeff: done: x: 04-12_1:dischargeNeuroExamToneScore y: 20-10_1:disabilityLevelDeath\n"
     ]
    },
    {
     "name": "stderr",
     "output_type": "stream",
     "text": [
      "\r",
      " 92%|█████████▏| 314/341 [01:07<00:06,  4.36it/s]"
     ]
    },
    {
     "name": "stdout",
     "output_type": "stream",
     "text": [
      "_corr_coeff: to eval: x: 04-12_1:dischargeNeuroExamToneScore y: 20-04:BayleyIIICognitiveComposite valid_x: 490 valid_y: 421\n",
      "_corr_coeff: done: x: 04-12_1:dischargeNeuroExamToneScore y: 20-04:BayleyIIICognitiveComposite\n",
      "_corr_coeff: to eval: x: 04-12_1:dischargeNeuroExamToneScore y: 20-04:BayleyIIILanguageComposite valid_x: 490 valid_y: 411\n",
      "_corr_coeff: done: x: 04-12_1:dischargeNeuroExamToneScore y: 20-04:BayleyIIILanguageComposite\n",
      "_corr_coeff: to eval: x: 04-12_1:dischargeNeuroExamToneScore y: 20-04:BayleyIIIMotorComposite valid_x: 490 valid_y: 415\n",
      "_corr_coeff: done: x: 04-12_1:dischargeNeuroExamToneScore y: 20-04:BayleyIIIMotorComposite\n",
      "_corr_coeff: to eval: x: 04-12_1:dischargeNeuroExamSuckScore y: 20-10:moderateSevereDisabilityOrDeath valid_x: 490 valid_y: 504\n",
      "_corr_coeff: done: x: 04-12_1:dischargeNeuroExamSuckScore y: 20-10:moderateSevereDisabilityOrDeath\n",
      "_corr_coeff: to eval: x: 04-12_1:dischargeNeuroExamSuckScore y: 20-10:disabilityLevelDeath4Category valid_x: 490 valid_y: 498\n",
      "_corr_coeff: done: x: 04-12_1:dischargeNeuroExamSuckScore y: 20-10:disabilityLevelDeath4Category\n",
      "_corr_coeff: to eval: x: 04-12_1:dischargeNeuroExamSuckScore y: 20-10_1:disabilityLevelDeath valid_x: 490 valid_y: 498\n",
      "_corr_coeff: done: x: 04-12_1:dischargeNeuroExamSuckScore y: 20-10_1:disabilityLevelDeath\n",
      "_corr_coeff: to eval: x: 04-12_1:dischargeNeuroExamSuckScore y: 20-04:BayleyIIICognitiveComposite valid_x: 490 valid_y: 421\n",
      "_corr_coeff: done: x: 04-12_1:dischargeNeuroExamSuckScore y: 20-04:BayleyIIICognitiveComposite\n"
     ]
    },
    {
     "name": "stderr",
     "output_type": "stream",
     "text": [
      "\r",
      " 92%|█████████▏| 315/341 [01:07<00:06,  4.20it/s]"
     ]
    },
    {
     "name": "stdout",
     "output_type": "stream",
     "text": [
      "_corr_coeff: to eval: x: 04-12_1:dischargeNeuroExamSuckScore y: 20-04:BayleyIIILanguageComposite valid_x: 490 valid_y: 411\n",
      "_corr_coeff: done: x: 04-12_1:dischargeNeuroExamSuckScore y: 20-04:BayleyIIILanguageComposite\n",
      "_corr_coeff: to eval: x: 04-12_1:dischargeNeuroExamSuckScore y: 20-04:BayleyIIIMotorComposite valid_x: 490 valid_y: 415\n",
      "_corr_coeff: done: x: 04-12_1:dischargeNeuroExamSuckScore y: 20-04:BayleyIIIMotorComposite\n",
      "_corr_coeff: to eval: x: 04-12_1:dischargeNeuroExamMoroScore y: 20-10:moderateSevereDisabilityOrDeath valid_x: 490 valid_y: 504\n",
      "_corr_coeff: done: x: 04-12_1:dischargeNeuroExamMoroScore y: 20-10:moderateSevereDisabilityOrDeath\n",
      "_corr_coeff: to eval: x: 04-12_1:dischargeNeuroExamMoroScore y: 20-10:disabilityLevelDeath4Category valid_x: 490 valid_y: 498\n",
      "_corr_coeff: done: x: 04-12_1:dischargeNeuroExamMoroScore y: 20-10:disabilityLevelDeath4Category\n",
      "_corr_coeff: to eval: x: 04-12_1:dischargeNeuroExamMoroScore y: 20-10_1:disabilityLevelDeath valid_x: 490 valid_y: 498\n",
      "_corr_coeff: done: x: 04-12_1:dischargeNeuroExamMoroScore y: 20-10_1:disabilityLevelDeath\n"
     ]
    },
    {
     "name": "stderr",
     "output_type": "stream",
     "text": [
      "\r",
      " 93%|█████████▎| 316/341 [01:08<00:05,  4.40it/s]"
     ]
    },
    {
     "name": "stdout",
     "output_type": "stream",
     "text": [
      "_corr_coeff: to eval: x: 04-12_1:dischargeNeuroExamMoroScore y: 20-04:BayleyIIICognitiveComposite valid_x: 490 valid_y: 421\n",
      "_corr_coeff: done: x: 04-12_1:dischargeNeuroExamMoroScore y: 20-04:BayleyIIICognitiveComposite\n",
      "_corr_coeff: to eval: x: 04-12_1:dischargeNeuroExamMoroScore y: 20-04:BayleyIIILanguageComposite valid_x: 490 valid_y: 411\n",
      "_corr_coeff: done: x: 04-12_1:dischargeNeuroExamMoroScore y: 20-04:BayleyIIILanguageComposite\n",
      "_corr_coeff: to eval: x: 04-12_1:dischargeNeuroExamMoroScore y: 20-04:BayleyIIIMotorComposite valid_x: 490 valid_y: 415\n",
      "_corr_coeff: done: x: 04-12_1:dischargeNeuroExamMoroScore y: 20-04:BayleyIIIMotorComposite\n",
      "_corr_coeff: to eval: x: 04-12_1:dischargeNeuroExamPupilsScore y: 20-10:moderateSevereDisabilityOrDeath valid_x: 490 valid_y: 504\n",
      "_corr_coeff: done: x: 04-12_1:dischargeNeuroExamPupilsScore y: 20-10:moderateSevereDisabilityOrDeath\n",
      "_corr_coeff: to eval: x: 04-12_1:dischargeNeuroExamPupilsScore y: 20-10:disabilityLevelDeath4Category valid_x: 490 valid_y: 498\n",
      "_corr_coeff: done: x: 04-12_1:dischargeNeuroExamPupilsScore y: 20-10:disabilityLevelDeath4Category\n",
      "_corr_coeff: to eval: x: 04-12_1:dischargeNeuroExamPupilsScore y: 20-10_1:disabilityLevelDeath valid_x: 490 valid_y: 498\n",
      "_corr_coeff: done: x: 04-12_1:dischargeNeuroExamPupilsScore y: 20-10_1:disabilityLevelDeath\n",
      "_corr_coeff: to eval: x: 04-12_1:dischargeNeuroExamPupilsScore y: 20-04:BayleyIIICognitiveComposite valid_x: 490 valid_y: 421\n",
      "_corr_coeff: done: x: 04-12_1:dischargeNeuroExamPupilsScore y: 20-04:BayleyIIICognitiveComposite\n"
     ]
    },
    {
     "name": "stderr",
     "output_type": "stream",
     "text": [
      "\r",
      " 93%|█████████▎| 317/341 [01:08<00:05,  4.27it/s]"
     ]
    },
    {
     "name": "stdout",
     "output_type": "stream",
     "text": [
      "_corr_coeff: to eval: x: 04-12_1:dischargeNeuroExamPupilsScore y: 20-04:BayleyIIILanguageComposite valid_x: 490 valid_y: 411\n",
      "_corr_coeff: done: x: 04-12_1:dischargeNeuroExamPupilsScore y: 20-04:BayleyIIILanguageComposite\n",
      "_corr_coeff: to eval: x: 04-12_1:dischargeNeuroExamPupilsScore y: 20-04:BayleyIIIMotorComposite valid_x: 490 valid_y: 415\n",
      "_corr_coeff: done: x: 04-12_1:dischargeNeuroExamPupilsScore y: 20-04:BayleyIIIMotorComposite\n",
      "_corr_coeff: to eval: x: 04-12_1:dischargeNeuroExamHeartRateScore y: 20-10:moderateSevereDisabilityOrDeath valid_x: 490 valid_y: 504\n",
      "_corr_coeff: done: x: 04-12_1:dischargeNeuroExamHeartRateScore y: 20-10:moderateSevereDisabilityOrDeath\n",
      "_corr_coeff: to eval: x: 04-12_1:dischargeNeuroExamHeartRateScore y: 20-10:disabilityLevelDeath4Category valid_x: 490 valid_y: 498\n",
      "_corr_coeff: done: x: 04-12_1:dischargeNeuroExamHeartRateScore y: 20-10:disabilityLevelDeath4Category\n",
      "_corr_coeff: to eval: x: 04-12_1:dischargeNeuroExamHeartRateScore y: 20-10_1:disabilityLevelDeath valid_x: 490 valid_y: 498\n",
      "_corr_coeff: done: x: 04-12_1:dischargeNeuroExamHeartRateScore y: 20-10_1:disabilityLevelDeath\n",
      "_corr_coeff: to eval: x: 04-12_1:dischargeNeuroExamHeartRateScore y: 20-04:BayleyIIICognitiveComposite valid_x: 490 valid_y: 421\n",
      "_corr_coeff: done: x: 04-12_1:dischargeNeuroExamHeartRateScore y: 20-04:BayleyIIICognitiveComposite\n",
      "_corr_coeff: to eval: x: 04-12_1:dischargeNeuroExamHeartRateScore y: 20-04:BayleyIIILanguageComposite valid_x: 490 valid_y: 411\n",
      "_corr_coeff: done: x: 04-12_1:dischargeNeuroExamHeartRateScore y: 20-04:BayleyIIILanguageComposite\n"
     ]
    },
    {
     "name": "stderr",
     "output_type": "stream",
     "text": [
      "\r",
      " 93%|█████████▎| 318/341 [01:08<00:05,  4.45it/s]"
     ]
    },
    {
     "name": "stdout",
     "output_type": "stream",
     "text": [
      "_corr_coeff: to eval: x: 04-12_1:dischargeNeuroExamHeartRateScore y: 20-04:BayleyIIIMotorComposite valid_x: 490 valid_y: 415\n",
      "_corr_coeff: done: x: 04-12_1:dischargeNeuroExamHeartRateScore y: 20-04:BayleyIIIMotorComposite\n",
      "_corr_coeff: to eval: x: 04-12_1:dischargeNeuroExamRespirationScore y: 20-10:moderateSevereDisabilityOrDeath valid_x: 490 valid_y: 504\n",
      "_corr_coeff: done: x: 04-12_1:dischargeNeuroExamRespirationScore y: 20-10:moderateSevereDisabilityOrDeath\n",
      "_corr_coeff: to eval: x: 04-12_1:dischargeNeuroExamRespirationScore y: 20-10:disabilityLevelDeath4Category valid_x: 490 valid_y: 498\n",
      "_corr_coeff: done: x: 04-12_1:dischargeNeuroExamRespirationScore y: 20-10:disabilityLevelDeath4Category\n",
      "_corr_coeff: to eval: x: 04-12_1:dischargeNeuroExamRespirationScore y: 20-10_1:disabilityLevelDeath valid_x: 490 valid_y: 498\n",
      "_corr_coeff: done: x: 04-12_1:dischargeNeuroExamRespirationScore y: 20-10_1:disabilityLevelDeath\n",
      "_corr_coeff: to eval: x: 04-12_1:dischargeNeuroExamRespirationScore y: 20-04:BayleyIIICognitiveComposite valid_x: 490 valid_y: 421\n",
      "_corr_coeff: done: x: 04-12_1:dischargeNeuroExamRespirationScore y: 20-04:BayleyIIICognitiveComposite\n"
     ]
    },
    {
     "name": "stderr",
     "output_type": "stream",
     "text": [
      "\r",
      " 94%|█████████▎| 319/341 [01:08<00:05,  4.25it/s]"
     ]
    },
    {
     "name": "stdout",
     "output_type": "stream",
     "text": [
      "_corr_coeff: to eval: x: 04-12_1:dischargeNeuroExamRespirationScore y: 20-04:BayleyIIILanguageComposite valid_x: 490 valid_y: 411\n",
      "_corr_coeff: done: x: 04-12_1:dischargeNeuroExamRespirationScore y: 20-04:BayleyIIILanguageComposite\n",
      "_corr_coeff: to eval: x: 04-12_1:dischargeNeuroExamRespirationScore y: 20-04:BayleyIIIMotorComposite valid_x: 490 valid_y: 415\n",
      "_corr_coeff: done: x: 04-12_1:dischargeNeuroExamRespirationScore y: 20-04:BayleyIIIMotorComposite\n",
      "_corr_coeff: to eval: x: 04-12_1:dischargeNeuroExamReflexScore y: 20-10:moderateSevereDisabilityOrDeath valid_x: 490 valid_y: 504\n",
      "_corr_coeff: done: x: 04-12_1:dischargeNeuroExamReflexScore y: 20-10:moderateSevereDisabilityOrDeath\n",
      "_corr_coeff: to eval: x: 04-12_1:dischargeNeuroExamReflexScore y: 20-10:disabilityLevelDeath4Category valid_x: 490 valid_y: 498\n",
      "_corr_coeff: done: x: 04-12_1:dischargeNeuroExamReflexScore y: 20-10:disabilityLevelDeath4Category\n",
      "_corr_coeff: to eval: x: 04-12_1:dischargeNeuroExamReflexScore y: 20-10_1:disabilityLevelDeath valid_x: 490 valid_y: 498\n",
      "_corr_coeff: done: x: 04-12_1:dischargeNeuroExamReflexScore y: 20-10_1:disabilityLevelDeath\n",
      "_corr_coeff: to eval: x: 04-12_1:dischargeNeuroExamReflexScore y: 20-04:BayleyIIICognitiveComposite valid_x: 490 valid_y: 421\n",
      "_corr_coeff: done: x: 04-12_1:dischargeNeuroExamReflexScore y: 20-04:BayleyIIICognitiveComposite\n"
     ]
    },
    {
     "name": "stderr",
     "output_type": "stream",
     "text": [
      "\r",
      " 94%|█████████▍| 320/341 [01:09<00:04,  4.42it/s]"
     ]
    },
    {
     "name": "stdout",
     "output_type": "stream",
     "text": [
      "_corr_coeff: to eval: x: 04-12_1:dischargeNeuroExamReflexScore y: 20-04:BayleyIIILanguageComposite valid_x: 490 valid_y: 411\n",
      "_corr_coeff: done: x: 04-12_1:dischargeNeuroExamReflexScore y: 20-04:BayleyIIILanguageComposite\n",
      "_corr_coeff: to eval: x: 04-12_1:dischargeNeuroExamReflexScore y: 20-04:BayleyIIIMotorComposite valid_x: 490 valid_y: 415\n",
      "_corr_coeff: done: x: 04-12_1:dischargeNeuroExamReflexScore y: 20-04:BayleyIIIMotorComposite\n",
      "_corr_coeff: to eval: x: 04-12_1:dischargeNeuroExamANSScore y: 20-10:moderateSevereDisabilityOrDeath valid_x: 490 valid_y: 504\n",
      "_corr_coeff: done: x: 04-12_1:dischargeNeuroExamANSScore y: 20-10:moderateSevereDisabilityOrDeath\n",
      "_corr_coeff: to eval: x: 04-12_1:dischargeNeuroExamANSScore y: 20-10:disabilityLevelDeath4Category valid_x: 490 valid_y: 498\n",
      "_corr_coeff: done: x: 04-12_1:dischargeNeuroExamANSScore y: 20-10:disabilityLevelDeath4Category\n",
      "_corr_coeff: to eval: x: 04-12_1:dischargeNeuroExamANSScore y: 20-10_1:disabilityLevelDeath valid_x: 490 valid_y: 498\n",
      "_corr_coeff: done: x: 04-12_1:dischargeNeuroExamANSScore y: 20-10_1:disabilityLevelDeath\n"
     ]
    },
    {
     "name": "stderr",
     "output_type": "stream",
     "text": [
      "\r",
      " 94%|█████████▍| 321/341 [01:09<00:04,  4.24it/s]"
     ]
    },
    {
     "name": "stdout",
     "output_type": "stream",
     "text": [
      "_corr_coeff: to eval: x: 04-12_1:dischargeNeuroExamANSScore y: 20-04:BayleyIIICognitiveComposite valid_x: 490 valid_y: 421\n",
      "_corr_coeff: done: x: 04-12_1:dischargeNeuroExamANSScore y: 20-04:BayleyIIICognitiveComposite\n",
      "_corr_coeff: to eval: x: 04-12_1:dischargeNeuroExamANSScore y: 20-04:BayleyIIILanguageComposite valid_x: 490 valid_y: 411\n",
      "_corr_coeff: done: x: 04-12_1:dischargeNeuroExamANSScore y: 20-04:BayleyIIILanguageComposite\n",
      "_corr_coeff: to eval: x: 04-12_1:dischargeNeuroExamANSScore y: 20-04:BayleyIIIMotorComposite valid_x: 490 valid_y: 415\n",
      "_corr_coeff: done: x: 04-12_1:dischargeNeuroExamANSScore y: 20-04:BayleyIIIMotorComposite\n",
      "_corr_coeff: to eval: x: 04-12_1:dischargeTotalModifiedSarnatScore y: 20-10:moderateSevereDisabilityOrDeath valid_x: 490 valid_y: 504\n",
      "_corr_coeff: done: x: 04-12_1:dischargeTotalModifiedSarnatScore y: 20-10:moderateSevereDisabilityOrDeath\n",
      "_corr_coeff: to eval: x: 04-12_1:dischargeTotalModifiedSarnatScore y: 20-10:disabilityLevelDeath4Category valid_x: 490 valid_y: 498\n",
      "_corr_coeff: done: x: 04-12_1:dischargeTotalModifiedSarnatScore y: 20-10:disabilityLevelDeath4Category\n",
      "_corr_coeff: to eval: x: 04-12_1:dischargeTotalModifiedSarnatScore y: 20-10_1:disabilityLevelDeath valid_x: 490 valid_y: 498\n",
      "_corr_coeff: done: x: 04-12_1:dischargeTotalModifiedSarnatScore y: 20-10_1:disabilityLevelDeath\n",
      "_corr_coeff: to eval: x: 04-12_1:dischargeTotalModifiedSarnatScore y: 20-04:BayleyIIICognitiveComposite valid_x: 490 valid_y: 421\n",
      "_corr_coeff: done: x: 04-12_1:dischargeTotalModifiedSarnatScore y: 20-04:BayleyIIICognitiveComposite\n"
     ]
    },
    {
     "name": "stderr",
     "output_type": "stream",
     "text": [
      "\r",
      " 94%|█████████▍| 322/341 [01:09<00:04,  4.42it/s]"
     ]
    },
    {
     "name": "stdout",
     "output_type": "stream",
     "text": [
      "_corr_coeff: to eval: x: 04-12_1:dischargeTotalModifiedSarnatScore y: 20-04:BayleyIIILanguageComposite valid_x: 490 valid_y: 411\n",
      "_corr_coeff: done: x: 04-12_1:dischargeTotalModifiedSarnatScore y: 20-04:BayleyIIILanguageComposite\n",
      "_corr_coeff: to eval: x: 04-12_1:dischargeTotalModifiedSarnatScore y: 20-04:BayleyIIIMotorComposite valid_x: 490 valid_y: 415\n",
      "_corr_coeff: done: x: 04-12_1:dischargeTotalModifiedSarnatScore y: 20-04:BayleyIIIMotorComposite\n",
      "_corr_coeff: to eval: x: 04-13:dischargeSeizure y: 20-10:moderateSevereDisabilityOrDeath valid_x: 532 valid_y: 504\n",
      "_corr_coeff: done: x: 04-13:dischargeSeizure y: 20-10:moderateSevereDisabilityOrDeath\n",
      "_corr_coeff: to eval: x: 04-13:dischargeSeizure y: 20-10:disabilityLevelDeath4Category valid_x: 532 valid_y: 498\n",
      "_corr_coeff: done: x: 04-13:dischargeSeizure y: 20-10:disabilityLevelDeath4Category\n",
      "_corr_coeff: to eval: x: 04-13:dischargeSeizure y: 20-10_1:disabilityLevelDeath valid_x: 532 valid_y: 498\n",
      "_corr_coeff: done: x: 04-13:dischargeSeizure y: 20-10_1:disabilityLevelDeath\n"
     ]
    },
    {
     "name": "stderr",
     "output_type": "stream",
     "text": [
      "\r",
      " 95%|█████████▍| 323/341 [01:09<00:04,  4.14it/s]"
     ]
    },
    {
     "name": "stdout",
     "output_type": "stream",
     "text": [
      "_corr_coeff: to eval: x: 04-13:dischargeSeizure y: 20-04:BayleyIIICognitiveComposite valid_x: 532 valid_y: 421\n",
      "_corr_coeff: done: x: 04-13:dischargeSeizure y: 20-04:BayleyIIICognitiveComposite\n",
      "_corr_coeff: to eval: x: 04-13:dischargeSeizure y: 20-04:BayleyIIILanguageComposite valid_x: 532 valid_y: 411\n",
      "_corr_coeff: done: x: 04-13:dischargeSeizure y: 20-04:BayleyIIILanguageComposite\n",
      "_corr_coeff: to eval: x: 04-13:dischargeSeizure y: 20-04:BayleyIIIMotorComposite valid_x: 532 valid_y: 415\n",
      "_corr_coeff: done: x: 04-13:dischargeSeizure y: 20-04:BayleyIIIMotorComposite\n",
      "_corr_coeff: to eval: x: 04-13:dischargeSeizurePreIntervention y: 20-10:moderateSevereDisabilityOrDeath valid_x: 305 valid_y: 504\n",
      "_corr_coeff: done: x: 04-13:dischargeSeizurePreIntervention y: 20-10:moderateSevereDisabilityOrDeath\n",
      "_corr_coeff: to eval: x: 04-13:dischargeSeizurePreIntervention y: 20-10:disabilityLevelDeath4Category valid_x: 305 valid_y: 498\n",
      "_corr_coeff: done: x: 04-13:dischargeSeizurePreIntervention y: 20-10:disabilityLevelDeath4Category\n",
      "_corr_coeff: to eval: x: 04-13:dischargeSeizurePreIntervention y: 20-10_1:disabilityLevelDeath valid_x: 305 valid_y: 498\n",
      "_corr_coeff: done: x: 04-13:dischargeSeizurePreIntervention y: 20-10_1:disabilityLevelDeath\n",
      "_corr_coeff: to eval: x: 04-13:dischargeSeizurePreIntervention y: 20-04:BayleyIIICognitiveComposite valid_x: 305 valid_y: 421\n",
      "_corr_coeff: done: x: 04-13:dischargeSeizurePreIntervention y: 20-04:BayleyIIICognitiveComposite\n"
     ]
    },
    {
     "name": "stderr",
     "output_type": "stream",
     "text": [
      "\r",
      " 95%|█████████▌| 324/341 [01:09<00:03,  4.44it/s]"
     ]
    },
    {
     "name": "stdout",
     "output_type": "stream",
     "text": [
      "_corr_coeff: to eval: x: 04-13:dischargeSeizurePreIntervention y: 20-04:BayleyIIILanguageComposite valid_x: 305 valid_y: 411\n",
      "_corr_coeff: done: x: 04-13:dischargeSeizurePreIntervention y: 20-04:BayleyIIILanguageComposite\n",
      "_corr_coeff: to eval: x: 04-13:dischargeSeizurePreIntervention y: 20-04:BayleyIIIMotorComposite valid_x: 305 valid_y: 415\n",
      "_corr_coeff: done: x: 04-13:dischargeSeizurePreIntervention y: 20-04:BayleyIIIMotorComposite\n",
      "_corr_coeff: to eval: x: 04-13:dischargeSeizureAfterBaseline y: 20-10:moderateSevereDisabilityOrDeath valid_x: 177 valid_y: 504\n",
      "_corr_coeff: done: x: 04-13:dischargeSeizureAfterBaseline y: 20-10:moderateSevereDisabilityOrDeath\n",
      "_corr_coeff: to eval: x: 04-13:dischargeSeizureAfterBaseline y: 20-10:disabilityLevelDeath4Category valid_x: 177 valid_y: 498\n",
      "_corr_coeff: done: x: 04-13:dischargeSeizureAfterBaseline y: 20-10:disabilityLevelDeath4Category\n",
      "_corr_coeff: to eval: x: 04-13:dischargeSeizureAfterBaseline y: 20-10_1:disabilityLevelDeath valid_x: 177 valid_y: 498\n",
      "_corr_coeff: done: x: 04-13:dischargeSeizureAfterBaseline y: 20-10_1:disabilityLevelDeath\n",
      "_corr_coeff: to eval: x: 04-13:dischargeSeizureAfterBaseline y: 20-04:BayleyIIICognitiveComposite valid_x: 177 valid_y: 421\n",
      "_corr_coeff: done: x: 04-13:dischargeSeizureAfterBaseline y: 20-04:BayleyIIICognitiveComposite\n"
     ]
    },
    {
     "name": "stderr",
     "output_type": "stream",
     "text": [
      "\r",
      " 95%|█████████▌| 325/341 [01:10<00:03,  4.42it/s]"
     ]
    },
    {
     "name": "stdout",
     "output_type": "stream",
     "text": [
      "_corr_coeff: to eval: x: 04-13:dischargeSeizureAfterBaseline y: 20-04:BayleyIIILanguageComposite valid_x: 177 valid_y: 411\n",
      "_corr_coeff: done: x: 04-13:dischargeSeizureAfterBaseline y: 20-04:BayleyIIILanguageComposite\n",
      "_corr_coeff: to eval: x: 04-13:dischargeSeizureAfterBaseline y: 20-04:BayleyIIIMotorComposite valid_x: 177 valid_y: 415\n",
      "_corr_coeff: done: x: 04-13:dischargeSeizureAfterBaseline y: 20-04:BayleyIIIMotorComposite\n",
      "_corr_coeff: to eval: x: 04-13:dischargeSeizureMaintenance y: 20-10:moderateSevereDisabilityOrDeath valid_x: 303 valid_y: 504\n",
      "_corr_coeff: done: x: 04-13:dischargeSeizureMaintenance y: 20-10:moderateSevereDisabilityOrDeath\n",
      "_corr_coeff: to eval: x: 04-13:dischargeSeizureMaintenance y: 20-10:disabilityLevelDeath4Category valid_x: 303 valid_y: 498\n",
      "_corr_coeff: done: x: 04-13:dischargeSeizureMaintenance y: 20-10:disabilityLevelDeath4Category\n",
      "_corr_coeff: to eval: x: 04-13:dischargeSeizureMaintenance y: 20-10_1:disabilityLevelDeath valid_x: 303 valid_y: 498\n",
      "_corr_coeff: done: x: 04-13:dischargeSeizureMaintenance y: 20-10_1:disabilityLevelDeath\n",
      "_corr_coeff: to eval: x: 04-13:dischargeSeizureMaintenance y: 20-04:BayleyIIICognitiveComposite valid_x: 303 valid_y: 421\n",
      "_corr_coeff: done: x: 04-13:dischargeSeizureMaintenance y: 20-04:BayleyIIICognitiveComposite\n",
      "_corr_coeff: to eval: x: 04-13:dischargeSeizureMaintenance y: 20-04:BayleyIIILanguageComposite valid_x: 303 valid_y: 411\n",
      "_corr_coeff: done: x: 04-13:dischargeSeizureMaintenance y: 20-04:BayleyIIILanguageComposite\n"
     ]
    },
    {
     "name": "stderr",
     "output_type": "stream",
     "text": [
      "\r",
      " 96%|█████████▌| 326/341 [01:10<00:03,  4.67it/s]"
     ]
    },
    {
     "name": "stdout",
     "output_type": "stream",
     "text": [
      "_corr_coeff: to eval: x: 04-13:dischargeSeizureMaintenance y: 20-04:BayleyIIIMotorComposite valid_x: 303 valid_y: 415\n",
      "_corr_coeff: done: x: 04-13:dischargeSeizureMaintenance y: 20-04:BayleyIIIMotorComposite\n",
      "_corr_coeff: to eval: x: 04-13:dischargeSeizureRewarming y: 20-10:moderateSevereDisabilityOrDeath valid_x: 296 valid_y: 504\n",
      "_corr_coeff: done: x: 04-13:dischargeSeizureRewarming y: 20-10:moderateSevereDisabilityOrDeath\n",
      "_corr_coeff: to eval: x: 04-13:dischargeSeizureRewarming y: 20-10:disabilityLevelDeath4Category valid_x: 296 valid_y: 498\n",
      "_corr_coeff: done: x: 04-13:dischargeSeizureRewarming y: 20-10:disabilityLevelDeath4Category\n",
      "_corr_coeff: to eval: x: 04-13:dischargeSeizureRewarming y: 20-10_1:disabilityLevelDeath valid_x: 296 valid_y: 498\n",
      "_corr_coeff: done: x: 04-13:dischargeSeizureRewarming y: 20-10_1:disabilityLevelDeath\n",
      "_corr_coeff: to eval: x: 04-13:dischargeSeizureRewarming y: 20-04:BayleyIIICognitiveComposite valid_x: 296 valid_y: 421\n",
      "_corr_coeff: done: x: 04-13:dischargeSeizureRewarming y: 20-04:BayleyIIICognitiveComposite\n",
      "_corr_coeff: to eval: x: 04-13:dischargeSeizureRewarming y: 20-04:BayleyIIILanguageComposite valid_x: 296 valid_y: 411\n",
      "_corr_coeff: done: x: 04-13:dischargeSeizureRewarming y: 20-04:BayleyIIILanguageComposite\n"
     ]
    },
    {
     "name": "stderr",
     "output_type": "stream",
     "text": [
      "\r",
      " 96%|█████████▌| 327/341 [01:10<00:03,  4.56it/s]"
     ]
    },
    {
     "name": "stderr",
     "output_type": "stream",
     "text": [
      "\r",
      " 96%|█████████▌| 328/341 [01:10<00:02,  4.84it/s]"
     ]
    },
    {
     "name": "stdout",
     "output_type": "stream",
     "text": [
      "_corr_coeff: to eval: x: 04-13:dischargeSeizureRewarming y: 20-04:BayleyIIIMotorComposite valid_x: 296 valid_y: 415\n",
      "_corr_coeff: done: x: 04-13:dischargeSeizureRewarming y: 20-04:BayleyIIIMotorComposite\n",
      "_corr_coeff: to eval: x: 04-13:dischargeSeizurePostIntervention y: 20-10:moderateSevereDisabilityOrDeath valid_x: 295 valid_y: 504\n",
      "_corr_coeff: done: x: 04-13:dischargeSeizurePostIntervention y: 20-10:moderateSevereDisabilityOrDeath\n",
      "_corr_coeff: to eval: x: 04-13:dischargeSeizurePostIntervention y: 20-10:disabilityLevelDeath4Category valid_x: 295 valid_y: 498\n",
      "_corr_coeff: done: x: 04-13:dischargeSeizurePostIntervention y: 20-10:disabilityLevelDeath4Category\n",
      "_corr_coeff: to eval: x: 04-13:dischargeSeizurePostIntervention y: 20-10_1:disabilityLevelDeath valid_x: 295 valid_y: 498\n",
      "_corr_coeff: done: x: 04-13:dischargeSeizurePostIntervention y: 20-10_1:disabilityLevelDeath\n",
      "_corr_coeff: to eval: x: 04-13:dischargeSeizurePostIntervention y: 20-04:BayleyIIICognitiveComposite valid_x: 295 valid_y: 421\n",
      "_corr_coeff: done: x: 04-13:dischargeSeizurePostIntervention y: 20-04:BayleyIIICognitiveComposite\n",
      "_corr_coeff: to eval: x: 04-13:dischargeSeizurePostIntervention y: 20-04:BayleyIIILanguageComposite valid_x: 295 valid_y: 411\n",
      "_corr_coeff: done: x: 04-13:dischargeSeizurePostIntervention y: 20-04:BayleyIIILanguageComposite\n",
      "_corr_coeff: to eval: x: 04-13:dischargeSeizurePostIntervention y: 20-04:BayleyIIIMotorComposite valid_x: 295 valid_y: 415\n",
      "_corr_coeff: done: x: 04-13:dischargeSeizurePostIntervention y: 20-04:BayleyIIIMotorComposite\n"
     ]
    },
    {
     "name": "stderr",
     "output_type": "stream",
     "text": [
      "\r",
      " 96%|█████████▋| 329/341 [01:11<00:02,  4.83it/s]"
     ]
    },
    {
     "name": "stdout",
     "output_type": "stream",
     "text": [
      "_corr_coeff: to eval: x: 04-13:dischargeEEG y: 20-10:moderateSevereDisabilityOrDeath valid_x: 532 valid_y: 504\n",
      "_corr_coeff: done: x: 04-13:dischargeEEG y: 20-10:moderateSevereDisabilityOrDeath\n",
      "_corr_coeff: to eval: x: 04-13:dischargeEEG y: 20-10:disabilityLevelDeath4Category valid_x: 532 valid_y: 498\n",
      "_corr_coeff: done: x: 04-13:dischargeEEG y: 20-10:disabilityLevelDeath4Category\n",
      "_corr_coeff: to eval: x: 04-13:dischargeEEG y: 20-10_1:disabilityLevelDeath valid_x: 532 valid_y: 498\n",
      "_corr_coeff: done: x: 04-13:dischargeEEG y: 20-10_1:disabilityLevelDeath\n",
      "_corr_coeff: to eval: x: 04-13:dischargeEEG y: 20-04:BayleyIIICognitiveComposite valid_x: 532 valid_y: 421\n",
      "_corr_coeff: done: x: 04-13:dischargeEEG y: 20-04:BayleyIIICognitiveComposite\n",
      "_corr_coeff: to eval: x: 04-13:dischargeEEG y: 20-04:BayleyIIILanguageComposite valid_x: 532 valid_y: 411\n",
      "_corr_coeff: done: x: 04-13:dischargeEEG y: 20-04:BayleyIIILanguageComposite\n",
      "_corr_coeff: to eval: x: 04-13:dischargeEEG y: 20-04:BayleyIIIMotorComposite valid_x: 532 valid_y: 415\n",
      "_corr_coeff: done: x: 04-13:dischargeEEG y: 20-04:BayleyIIIMotorComposite\n"
     ]
    },
    {
     "name": "stderr",
     "output_type": "stream",
     "text": [
      "\r",
      " 97%|█████████▋| 330/341 [01:11<00:02,  4.96it/s]"
     ]
    },
    {
     "name": "stdout",
     "output_type": "stream",
     "text": [
      "_corr_coeff: to eval: x: 04-13:dischargeEEGFindingConsistentWithSeizure y: 20-10:moderateSevereDisabilityOrDeath valid_x: 402 valid_y: 504\n",
      "_corr_coeff: done: x: 04-13:dischargeEEGFindingConsistentWithSeizure y: 20-10:moderateSevereDisabilityOrDeath\n",
      "_corr_coeff: to eval: x: 04-13:dischargeEEGFindingConsistentWithSeizure y: 20-10:disabilityLevelDeath4Category valid_x: 402 valid_y: 498\n",
      "_corr_coeff: done: x: 04-13:dischargeEEGFindingConsistentWithSeizure y: 20-10:disabilityLevelDeath4Category\n",
      "_corr_coeff: to eval: x: 04-13:dischargeEEGFindingConsistentWithSeizure y: 20-10_1:disabilityLevelDeath valid_x: 402 valid_y: 498\n",
      "_corr_coeff: done: x: 04-13:dischargeEEGFindingConsistentWithSeizure y: 20-10_1:disabilityLevelDeath\n",
      "_corr_coeff: to eval: x: 04-13:dischargeEEGFindingConsistentWithSeizure y: 20-04:BayleyIIICognitiveComposite valid_x: 402 valid_y: 421\n",
      "_corr_coeff: done: x: 04-13:dischargeEEGFindingConsistentWithSeizure y: 20-04:BayleyIIICognitiveComposite\n",
      "_corr_coeff: to eval: x: 04-13:dischargeEEGFindingConsistentWithSeizure y: 20-04:BayleyIIILanguageComposite valid_x: 402 valid_y: 411\n",
      "_corr_coeff: done: x: 04-13:dischargeEEGFindingConsistentWithSeizure y: 20-04:BayleyIIILanguageComposite\n",
      "_corr_coeff: to eval: x: 04-13:dischargeEEGFindingConsistentWithSeizure y: 20-04:BayleyIIIMotorComposite valid_x: 402 valid_y: 415\n",
      "_corr_coeff: done: x: 04-13:dischargeEEGFindingConsistentWithSeizure y: 20-04:BayleyIIIMotorComposite\n",
      "_corr_coeff: to eval: x: 04-13:dischargeEEGAbnormalBackgroundActivity y: 20-10:moderateSevereDisabilityOrDeath valid_x: 452 valid_y: 504\n",
      "_corr_coeff: done: x: 04-13:dischargeEEGAbnormalBackgroundActivity y: 20-10:moderateSevereDisabilityOrDeath\n"
     ]
    },
    {
     "name": "stderr",
     "output_type": "stream",
     "text": [
      "\r",
      " 97%|█████████▋| 331/341 [01:11<00:01,  5.01it/s]"
     ]
    },
    {
     "name": "stdout",
     "output_type": "stream",
     "text": [
      "_corr_coeff: to eval: x: 04-13:dischargeEEGAbnormalBackgroundActivity y: 20-10:disabilityLevelDeath4Category valid_x: 452 valid_y: 498\n",
      "_corr_coeff: done: x: 04-13:dischargeEEGAbnormalBackgroundActivity y: 20-10:disabilityLevelDeath4Category\n",
      "_corr_coeff: to eval: x: 04-13:dischargeEEGAbnormalBackgroundActivity y: 20-10_1:disabilityLevelDeath valid_x: 452 valid_y: 498\n",
      "_corr_coeff: done: x: 04-13:dischargeEEGAbnormalBackgroundActivity y: 20-10_1:disabilityLevelDeath\n",
      "_corr_coeff: to eval: x: 04-13:dischargeEEGAbnormalBackgroundActivity y: 20-04:BayleyIIICognitiveComposite valid_x: 452 valid_y: 421\n",
      "_corr_coeff: done: x: 04-13:dischargeEEGAbnormalBackgroundActivity y: 20-04:BayleyIIICognitiveComposite\n",
      "_corr_coeff: to eval: x: 04-13:dischargeEEGAbnormalBackgroundActivity y: 20-04:BayleyIIILanguageComposite valid_x: 452 valid_y: 411\n",
      "_corr_coeff: done: x: 04-13:dischargeEEGAbnormalBackgroundActivity y: 20-04:BayleyIIILanguageComposite\n",
      "_corr_coeff: to eval: x: 04-13:dischargeEEGAbnormalBackgroundActivity y: 20-04:BayleyIIIMotorComposite valid_x: 452 valid_y: 415\n",
      "_corr_coeff: done: x: 04-13:dischargeEEGAbnormalBackgroundActivity y: 20-04:BayleyIIIMotorComposite\n",
      "_corr_coeff: to eval: x: 04-13:dischargeAnticonvulsantsGreater72H y: 20-10:moderateSevereDisabilityOrDeath valid_x: 532 valid_y: 504\n",
      "_corr_coeff: done: x: 04-13:dischargeAnticonvulsantsGreater72H y: 20-10:moderateSevereDisabilityOrDeath\n",
      "_corr_coeff: to eval: x: 04-13:dischargeAnticonvulsantsGreater72H y: 20-10:disabilityLevelDeath4Category valid_x: 532 valid_y: 498\n",
      "_corr_coeff: done: x: 04-13:dischargeAnticonvulsantsGreater72H y: 20-10:disabilityLevelDeath4Category\n"
     ]
    },
    {
     "name": "stderr",
     "output_type": "stream",
     "text": [
      "\r",
      " 97%|█████████▋| 332/341 [01:11<00:01,  5.00it/s]"
     ]
    },
    {
     "name": "stdout",
     "output_type": "stream",
     "text": [
      "_corr_coeff: to eval: x: 04-13:dischargeAnticonvulsantsGreater72H y: 20-10_1:disabilityLevelDeath valid_x: 532 valid_y: 498\n",
      "_corr_coeff: done: x: 04-13:dischargeAnticonvulsantsGreater72H y: 20-10_1:disabilityLevelDeath\n",
      "_corr_coeff: to eval: x: 04-13:dischargeAnticonvulsantsGreater72H y: 20-04:BayleyIIICognitiveComposite valid_x: 532 valid_y: 421\n",
      "_corr_coeff: done: x: 04-13:dischargeAnticonvulsantsGreater72H y: 20-04:BayleyIIICognitiveComposite\n",
      "_corr_coeff: to eval: x: 04-13:dischargeAnticonvulsantsGreater72H y: 20-04:BayleyIIILanguageComposite valid_x: 532 valid_y: 411\n",
      "_corr_coeff: done: x: 04-13:dischargeAnticonvulsantsGreater72H y: 20-04:BayleyIIILanguageComposite\n",
      "_corr_coeff: to eval: x: 04-13:dischargeAnticonvulsantsGreater72H y: 20-04:BayleyIIIMotorComposite valid_x: 532 valid_y: 415\n",
      "_corr_coeff: done: x: 04-13:dischargeAnticonvulsantsGreater72H y: 20-04:BayleyIIIMotorComposite\n",
      "_corr_coeff: to eval: x: 04-13:dischargeAnticonvulsants y: 20-10:moderateSevereDisabilityOrDeath valid_x: 502 valid_y: 504\n",
      "_corr_coeff: done: x: 04-13:dischargeAnticonvulsants y: 20-10:moderateSevereDisabilityOrDeath\n"
     ]
    },
    {
     "name": "stderr",
     "output_type": "stream",
     "text": [
      "\r",
      " 98%|█████████▊| 333/341 [01:11<00:01,  4.65it/s]"
     ]
    },
    {
     "name": "stdout",
     "output_type": "stream",
     "text": [
      "_corr_coeff: to eval: x: 04-13:dischargeAnticonvulsants y: 20-10:disabilityLevelDeath4Category valid_x: 502 valid_y: 498\n",
      "_corr_coeff: done: x: 04-13:dischargeAnticonvulsants y: 20-10:disabilityLevelDeath4Category\n",
      "_corr_coeff: to eval: x: 04-13:dischargeAnticonvulsants y: 20-10_1:disabilityLevelDeath valid_x: 502 valid_y: 498\n",
      "_corr_coeff: done: x: 04-13:dischargeAnticonvulsants y: 20-10_1:disabilityLevelDeath\n",
      "_corr_coeff: to eval: x: 04-13:dischargeAnticonvulsants y: 20-04:BayleyIIICognitiveComposite valid_x: 502 valid_y: 421\n",
      "_corr_coeff: done: x: 04-13:dischargeAnticonvulsants y: 20-04:BayleyIIICognitiveComposite\n",
      "_corr_coeff: to eval: x: 04-13:dischargeAnticonvulsants y: 20-04:BayleyIIILanguageComposite valid_x: 502 valid_y: 411\n",
      "_corr_coeff: done: x: 04-13:dischargeAnticonvulsants y: 20-04:BayleyIIILanguageComposite\n",
      "_corr_coeff: to eval: x: 04-13:dischargeAnticonvulsants y: 20-04:BayleyIIIMotorComposite valid_x: 502 valid_y: 415\n",
      "_corr_coeff: done: x: 04-13:dischargeAnticonvulsants y: 20-04:BayleyIIIMotorComposite\n",
      "_corr_coeff: to eval: x: 04-14:dischargeSyndromeMalformation y: 20-10:moderateSevereDisabilityOrDeath valid_x: 532 valid_y: 504\n",
      "_corr_coeff: done: x: 04-14:dischargeSyndromeMalformation y: 20-10:moderateSevereDisabilityOrDeath\n",
      "_corr_coeff: to eval: x: 04-14:dischargeSyndromeMalformation y: 20-10:disabilityLevelDeath4Category valid_x: 532 valid_y: 498\n",
      "_corr_coeff: done: x: 04-14:dischargeSyndromeMalformation y: 20-10:disabilityLevelDeath4Category\n"
     ]
    },
    {
     "name": "stderr",
     "output_type": "stream",
     "text": [
      "\r",
      " 98%|█████████▊| 334/341 [01:12<00:01,  4.74it/s]"
     ]
    },
    {
     "name": "stdout",
     "output_type": "stream",
     "text": [
      "_corr_coeff: to eval: x: 04-14:dischargeSyndromeMalformation y: 20-10_1:disabilityLevelDeath valid_x: 532 valid_y: 498\n",
      "_corr_coeff: done: x: 04-14:dischargeSyndromeMalformation y: 20-10_1:disabilityLevelDeath\n",
      "_corr_coeff: to eval: x: 04-14:dischargeSyndromeMalformation y: 20-04:BayleyIIICognitiveComposite valid_x: 532 valid_y: 421\n",
      "_corr_coeff: done: x: 04-14:dischargeSyndromeMalformation y: 20-04:BayleyIIICognitiveComposite\n",
      "_corr_coeff: to eval: x: 04-14:dischargeSyndromeMalformation y: 20-04:BayleyIIILanguageComposite valid_x: 532 valid_y: 411\n",
      "_corr_coeff: done: x: 04-14:dischargeSyndromeMalformation y: 20-04:BayleyIIILanguageComposite\n",
      "_corr_coeff: to eval: x: 04-14:dischargeSyndromeMalformation y: 20-04:BayleyIIIMotorComposite valid_x: 532 valid_y: 415\n",
      "_corr_coeff: done: x: 04-14:dischargeSyndromeMalformation y: 20-04:BayleyIIIMotorComposite\n",
      "_corr_coeff: to eval: x: 04-15:dischargeHomeTherapy y: 20-10:moderateSevereDisabilityOrDeath valid_x: 313 valid_y: 504\n",
      "_corr_coeff: done: x: 04-15:dischargeHomeTherapy y: 20-10:moderateSevereDisabilityOrDeath\n",
      "_corr_coeff: to eval: x: 04-15:dischargeHomeTherapy y: 20-10:disabilityLevelDeath4Category valid_x: 313 valid_y: 498\n",
      "_corr_coeff: done: x: 04-15:dischargeHomeTherapy y: 20-10:disabilityLevelDeath4Category\n",
      "_corr_coeff: to eval: x: 04-15:dischargeHomeTherapy y: 20-10_1:disabilityLevelDeath valid_x: 313 valid_y: 498\n",
      "_corr_coeff: done: x: 04-15:dischargeHomeTherapy y: 20-10_1:disabilityLevelDeath\n"
     ]
    },
    {
     "name": "stderr",
     "output_type": "stream",
     "text": [
      "\r",
      " 98%|█████████▊| 335/341 [01:12<00:01,  4.92it/s]"
     ]
    },
    {
     "name": "stdout",
     "output_type": "stream",
     "text": [
      "_corr_coeff: to eval: x: 04-15:dischargeHomeTherapy y: 20-04:BayleyIIICognitiveComposite valid_x: 313 valid_y: 421\n",
      "_corr_coeff: done: x: 04-15:dischargeHomeTherapy y: 20-04:BayleyIIICognitiveComposite\n",
      "_corr_coeff: to eval: x: 04-15:dischargeHomeTherapy y: 20-04:BayleyIIILanguageComposite valid_x: 313 valid_y: 411\n",
      "_corr_coeff: done: x: 04-15:dischargeHomeTherapy y: 20-04:BayleyIIILanguageComposite\n",
      "_corr_coeff: to eval: x: 04-15:dischargeHomeTherapy y: 20-04:BayleyIIIMotorComposite valid_x: 313 valid_y: 415\n",
      "_corr_coeff: done: x: 04-15:dischargeHomeTherapy y: 20-04:BayleyIIIMotorComposite\n",
      "_corr_coeff: to eval: x: 04-15:dischargeHomeTherapyVentilator y: 20-10:moderateSevereDisabilityOrDeath valid_x: 258 valid_y: 504\n",
      "_corr_coeff: done: x: 04-15:dischargeHomeTherapyVentilator y: 20-10:moderateSevereDisabilityOrDeath\n",
      "_corr_coeff: to eval: x: 04-15:dischargeHomeTherapyVentilator y: 20-10:disabilityLevelDeath4Category valid_x: 258 valid_y: 498\n",
      "_corr_coeff: done: x: 04-15:dischargeHomeTherapyVentilator y: 20-10:disabilityLevelDeath4Category\n",
      "_corr_coeff: to eval: x: 04-15:dischargeHomeTherapyVentilator y: 20-10_1:disabilityLevelDeath valid_x: 258 valid_y: 498\n",
      "_corr_coeff: done: x: 04-15:dischargeHomeTherapyVentilator y: 20-10_1:disabilityLevelDeath\n"
     ]
    },
    {
     "name": "stderr",
     "output_type": "stream",
     "text": [
      "\r",
      " 99%|█████████▊| 336/341 [01:12<00:01,  4.73it/s]"
     ]
    },
    {
     "name": "stdout",
     "output_type": "stream",
     "text": [
      "_corr_coeff: to eval: x: 04-15:dischargeHomeTherapyVentilator y: 20-04:BayleyIIICognitiveComposite valid_x: 258 valid_y: 421\n",
      "_corr_coeff: done: x: 04-15:dischargeHomeTherapyVentilator y: 20-04:BayleyIIICognitiveComposite\n",
      "_corr_coeff: to eval: x: 04-15:dischargeHomeTherapyVentilator y: 20-04:BayleyIIILanguageComposite valid_x: 258 valid_y: 411\n",
      "_corr_coeff: done: x: 04-15:dischargeHomeTherapyVentilator y: 20-04:BayleyIIILanguageComposite\n",
      "_corr_coeff: to eval: x: 04-15:dischargeHomeTherapyVentilator y: 20-04:BayleyIIIMotorComposite valid_x: 258 valid_y: 415\n",
      "_corr_coeff: done: x: 04-15:dischargeHomeTherapyVentilator y: 20-04:BayleyIIIMotorComposite\n",
      "_corr_coeff: to eval: x: 04-15:dischargeHomeTherapyOxygen y: 20-10:moderateSevereDisabilityOrDeath valid_x: 258 valid_y: 504\n",
      "_corr_coeff: done: x: 04-15:dischargeHomeTherapyOxygen y: 20-10:moderateSevereDisabilityOrDeath\n",
      "_corr_coeff: to eval: x: 04-15:dischargeHomeTherapyOxygen y: 20-10:disabilityLevelDeath4Category valid_x: 258 valid_y: 498\n",
      "_corr_coeff: done: x: 04-15:dischargeHomeTherapyOxygen y: 20-10:disabilityLevelDeath4Category\n",
      "_corr_coeff: to eval: x: 04-15:dischargeHomeTherapyOxygen y: 20-10_1:disabilityLevelDeath valid_x: 258 valid_y: 498\n",
      "_corr_coeff: done: x: 04-15:dischargeHomeTherapyOxygen y: 20-10_1:disabilityLevelDeath\n",
      "_corr_coeff: to eval: x: 04-15:dischargeHomeTherapyOxygen y: 20-04:BayleyIIICognitiveComposite valid_x: 258 valid_y: 421\n",
      "_corr_coeff: done: x: 04-15:dischargeHomeTherapyOxygen y: 20-04:BayleyIIICognitiveComposite\n"
     ]
    },
    {
     "name": "stderr",
     "output_type": "stream",
     "text": [
      "\r",
      " 99%|█████████▉| 337/341 [01:12<00:00,  4.97it/s]"
     ]
    },
    {
     "name": "stdout",
     "output_type": "stream",
     "text": [
      "_corr_coeff: to eval: x: 04-15:dischargeHomeTherapyOxygen y: 20-04:BayleyIIILanguageComposite valid_x: 258 valid_y: 411\n",
      "_corr_coeff: done: x: 04-15:dischargeHomeTherapyOxygen y: 20-04:BayleyIIILanguageComposite\n",
      "_corr_coeff: to eval: x: 04-15:dischargeHomeTherapyOxygen y: 20-04:BayleyIIIMotorComposite valid_x: 258 valid_y: 415\n",
      "_corr_coeff: done: x: 04-15:dischargeHomeTherapyOxygen y: 20-04:BayleyIIIMotorComposite\n",
      "_corr_coeff: to eval: x: 04-15:dischargeHomeTherapyGavageTubeFeed y: 20-10:moderateSevereDisabilityOrDeath valid_x: 257 valid_y: 504\n",
      "_corr_coeff: done: x: 04-15:dischargeHomeTherapyGavageTubeFeed y: 20-10:moderateSevereDisabilityOrDeath\n",
      "_corr_coeff: to eval: x: 04-15:dischargeHomeTherapyGavageTubeFeed y: 20-10:disabilityLevelDeath4Category valid_x: 257 valid_y: 498\n",
      "_corr_coeff: done: x: 04-15:dischargeHomeTherapyGavageTubeFeed y: 20-10:disabilityLevelDeath4Category\n",
      "_corr_coeff: to eval: x: 04-15:dischargeHomeTherapyGavageTubeFeed y: 20-10_1:disabilityLevelDeath valid_x: 257 valid_y: 498\n",
      "_corr_coeff: done: x: 04-15:dischargeHomeTherapyGavageTubeFeed y: 20-10_1:disabilityLevelDeath\n",
      "_corr_coeff: to eval: x: 04-15:dischargeHomeTherapyGavageTubeFeed y: 20-04:BayleyIIICognitiveComposite valid_x: 257 valid_y: 421\n",
      "_corr_coeff: done: x: 04-15:dischargeHomeTherapyGavageTubeFeed y: 20-04:BayleyIIICognitiveComposite\n"
     ]
    },
    {
     "name": "stderr",
     "output_type": "stream",
     "text": [
      "\r",
      " 99%|█████████▉| 338/341 [01:12<00:00,  4.77it/s]"
     ]
    },
    {
     "name": "stdout",
     "output_type": "stream",
     "text": [
      "_corr_coeff: to eval: x: 04-15:dischargeHomeTherapyGavageTubeFeed y: 20-04:BayleyIIILanguageComposite valid_x: 257 valid_y: 411\n",
      "_corr_coeff: done: x: 04-15:dischargeHomeTherapyGavageTubeFeed y: 20-04:BayleyIIILanguageComposite\n",
      "_corr_coeff: to eval: x: 04-15:dischargeHomeTherapyGavageTubeFeed y: 20-04:BayleyIIIMotorComposite valid_x: 257 valid_y: 415\n",
      "_corr_coeff: done: x: 04-15:dischargeHomeTherapyGavageTubeFeed y: 20-04:BayleyIIIMotorComposite\n",
      "_corr_coeff: to eval: x: 04-15:dischargeHomeTherapyGastrostomyTubeFeed y: 20-10:moderateSevereDisabilityOrDeath valid_x: 257 valid_y: 504\n",
      "_corr_coeff: done: x: 04-15:dischargeHomeTherapyGastrostomyTubeFeed y: 20-10:moderateSevereDisabilityOrDeath\n",
      "_corr_coeff: to eval: x: 04-15:dischargeHomeTherapyGastrostomyTubeFeed y: 20-10:disabilityLevelDeath4Category valid_x: 257 valid_y: 498\n",
      "_corr_coeff: done: x: 04-15:dischargeHomeTherapyGastrostomyTubeFeed y: 20-10:disabilityLevelDeath4Category\n",
      "_corr_coeff: to eval: x: 04-15:dischargeHomeTherapyGastrostomyTubeFeed y: 20-10_1:disabilityLevelDeath valid_x: 257 valid_y: 498\n",
      "_corr_coeff: done: x: 04-15:dischargeHomeTherapyGastrostomyTubeFeed y: 20-10_1:disabilityLevelDeath\n",
      "_corr_coeff: to eval: x: 04-15:dischargeHomeTherapyGastrostomyTubeFeed y: 20-04:BayleyIIICognitiveComposite valid_x: 257 valid_y: 421\n",
      "_corr_coeff: done: x: 04-15:dischargeHomeTherapyGastrostomyTubeFeed y: 20-04:BayleyIIICognitiveComposite\n",
      "_corr_coeff: to eval: x: 04-15:dischargeHomeTherapyGastrostomyTubeFeed y: 20-04:BayleyIIILanguageComposite valid_x: 257 valid_y: 411\n",
      "_corr_coeff: done: x: 04-15:dischargeHomeTherapyGastrostomyTubeFeed y: 20-04:BayleyIIILanguageComposite\n",
      "_corr_coeff: to eval: x: 04-15:dischargeHomeTherapyGastrostomyTubeFeed y: 20-04:BayleyIIIMotorComposite valid_x: 257 valid_y: 415\n",
      "_corr_coeff: done: x: 04-15:dischargeHomeTherapyGastrostomyTubeFeed y: 20-04:BayleyIIIMotorComposite\n"
     ]
    },
    {
     "name": "stderr",
     "output_type": "stream",
     "text": [
      "\r",
      " 99%|█████████▉| 339/341 [01:13<00:00,  5.01it/s]"
     ]
    },
    {
     "name": "stderr",
     "output_type": "stream",
     "text": [
      "\r",
      "100%|█████████▉| 340/341 [01:13<00:00,  4.80it/s]"
     ]
    },
    {
     "name": "stdout",
     "output_type": "stream",
     "text": [
      "_corr_coeff: to eval: x: 04-15:dischargeHomeTherapyAnticonvulsantMedication y: 20-10:moderateSevereDisabilityOrDeath valid_x: 258 valid_y: 504\n",
      "_corr_coeff: done: x: 04-15:dischargeHomeTherapyAnticonvulsantMedication y: 20-10:moderateSevereDisabilityOrDeath\n",
      "_corr_coeff: to eval: x: 04-15:dischargeHomeTherapyAnticonvulsantMedication y: 20-10:disabilityLevelDeath4Category valid_x: 258 valid_y: 498\n",
      "_corr_coeff: done: x: 04-15:dischargeHomeTherapyAnticonvulsantMedication y: 20-10:disabilityLevelDeath4Category\n",
      "_corr_coeff: to eval: x: 04-15:dischargeHomeTherapyAnticonvulsantMedication y: 20-10_1:disabilityLevelDeath valid_x: 258 valid_y: 498\n",
      "_corr_coeff: done: x: 04-15:dischargeHomeTherapyAnticonvulsantMedication y: 20-10_1:disabilityLevelDeath\n",
      "_corr_coeff: to eval: x: 04-15:dischargeHomeTherapyAnticonvulsantMedication y: 20-04:BayleyIIICognitiveComposite valid_x: 258 valid_y: 421\n",
      "_corr_coeff: done: x: 04-15:dischargeHomeTherapyAnticonvulsantMedication y: 20-04:BayleyIIICognitiveComposite\n",
      "_corr_coeff: to eval: x: 04-15:dischargeHomeTherapyAnticonvulsantMedication y: 20-04:BayleyIIILanguageComposite valid_x: 258 valid_y: 411\n",
      "_corr_coeff: done: x: 04-15:dischargeHomeTherapyAnticonvulsantMedication y: 20-04:BayleyIIILanguageComposite\n",
      "_corr_coeff: to eval: x: 04-15:dischargeHomeTherapyAnticonvulsantMedication y: 20-04:BayleyIIIMotorComposite valid_x: 258 valid_y: 415\n",
      "_corr_coeff: done: x: 04-15:dischargeHomeTherapyAnticonvulsantMedication y: 20-04:BayleyIIIMotorComposite\n"
     ]
    },
    {
     "name": "stderr",
     "output_type": "stream",
     "text": [
      "\r",
      "100%|██████████| 341/341 [01:13<00:00,  5.01it/s]"
     ]
    },
    {
     "name": "stderr",
     "output_type": "stream",
     "text": [
      "\r",
      "100%|██████████| 341/341 [01:13<00:00,  4.64it/s]"
     ]
    },
    {
     "name": "stderr",
     "output_type": "stream",
     "text": [
      "\n"
     ]
    },
    {
     "name": "stdout",
     "output_type": "stream",
     "text": [
      "_corr_coeff: to eval: x: 04-15:dischargeHomeTherapyOther y: 20-10:moderateSevereDisabilityOrDeath valid_x: 258 valid_y: 504\n",
      "_corr_coeff: done: x: 04-15:dischargeHomeTherapyOther y: 20-10:moderateSevereDisabilityOrDeath\n",
      "_corr_coeff: to eval: x: 04-15:dischargeHomeTherapyOther y: 20-10:disabilityLevelDeath4Category valid_x: 258 valid_y: 498\n",
      "_corr_coeff: done: x: 04-15:dischargeHomeTherapyOther y: 20-10:disabilityLevelDeath4Category\n",
      "_corr_coeff: to eval: x: 04-15:dischargeHomeTherapyOther y: 20-10_1:disabilityLevelDeath valid_x: 258 valid_y: 498\n",
      "_corr_coeff: done: x: 04-15:dischargeHomeTherapyOther y: 20-10_1:disabilityLevelDeath\n",
      "_corr_coeff: to eval: x: 04-15:dischargeHomeTherapyOther y: 20-04:BayleyIIICognitiveComposite valid_x: 258 valid_y: 421\n",
      "_corr_coeff: done: x: 04-15:dischargeHomeTherapyOther y: 20-04:BayleyIIICognitiveComposite\n",
      "_corr_coeff: to eval: x: 04-15:dischargeHomeTherapyOther y: 20-04:BayleyIIILanguageComposite valid_x: 258 valid_y: 411\n",
      "_corr_coeff: done: x: 04-15:dischargeHomeTherapyOther y: 20-04:BayleyIIILanguageComposite\n",
      "_corr_coeff: to eval: x: 04-15:dischargeHomeTherapyOther y: 20-04:BayleyIIIMotorComposite valid_x: 258 valid_y: 415\n",
      "_corr_coeff: done: x: 04-15:dischargeHomeTherapyOther y: 20-04:BayleyIIIMotorComposite\n"
     ]
    }
   ],
   "source": [
    "df_corr_all = COMBINE_harmonizer.corr(df_numeric, x_columns, y_columns)\n",
    "\n",
    "df_corr_all_pivot = pd.pivot_table(df_corr_all, index='x', columns='y', values=value_columns).transpose().swaplevel().transpose()\n",
    "\n",
    "df_corr_all_pivot[('pvalue_lt_threshold', '')] = df_corr_all_pivot[('20-04:BayleyIIICognitiveComposite', 'pvalue')] < COMBINE_harmonizer.P_VALUE_THRESHOLD\n",
    "\n",
    "all_reorder_columns = [('pvalue_lt_threshold', '')] + reorder_columns\n",
    "df_corr_all_pivot = df_corr_all_pivot[all_reorder_columns].sort_values(by=[('pvalue_lt_threshold', ''), ('20-04:BayleyIIICognitiveComposite', 'r2')], ascending=[False, False]).reset_index(drop=False)\n",
    "df_corr_all_pivot\n",
    "\n",
    "out_filename = f'{out_dir}/31-02-corr-all.csv'\n",
    "df_corr_all_pivot.to_csv(out_filename, index=False)"
   ]
  },
  {
   "cell_type": "code",
   "execution_count": 21,
   "id": "df831387-de24-49b3-9470-1570640a9fac",
   "metadata": {
    "execution": {
     "iopub.execute_input": "2025-05-15T04:33:36.187725Z",
     "iopub.status.busy": "2025-05-15T04:33:36.187627Z",
     "iopub.status.idle": "2025-05-15T04:33:36.204791Z",
     "shell.execute_reply": "2025-05-15T04:33:36.204461Z"
    }
   },
   "outputs": [
    {
     "data": {
      "text/html": [
       "<div>\n",
       "<style scoped>\n",
       "    .dataframe tbody tr th:only-of-type {\n",
       "        vertical-align: middle;\n",
       "    }\n",
       "\n",
       "    .dataframe tbody tr th {\n",
       "        vertical-align: top;\n",
       "    }\n",
       "\n",
       "    .dataframe thead tr th {\n",
       "        text-align: left;\n",
       "    }\n",
       "</style>\n",
       "<table border=\"1\" class=\"dataframe\">\n",
       "  <thead>\n",
       "    <tr>\n",
       "      <th>y</th>\n",
       "      <th>x</th>\n",
       "      <th>pvalue_lt_threshold</th>\n",
       "      <th colspan=\"7\" halign=\"left\">20-10:moderateSevereDisabilityOrDeath</th>\n",
       "      <th>20-10:disabilityLevelDeath4Category</th>\n",
       "      <th>...</th>\n",
       "      <th colspan=\"3\" halign=\"left\">20-04:BayleyIIILanguageComposite</th>\n",
       "      <th colspan=\"7\" halign=\"left\">20-04:BayleyIIIMotorComposite</th>\n",
       "    </tr>\n",
       "    <tr>\n",
       "      <th></th>\n",
       "      <th></th>\n",
       "      <th></th>\n",
       "      <th>corr</th>\n",
       "      <th>r2</th>\n",
       "      <th>pvalue</th>\n",
       "      <th>valid</th>\n",
       "      <th>valid_x</th>\n",
       "      <th>valid_y</th>\n",
       "      <th>valid_percent</th>\n",
       "      <th>corr</th>\n",
       "      <th>...</th>\n",
       "      <th>valid_x</th>\n",
       "      <th>valid_y</th>\n",
       "      <th>valid_percent</th>\n",
       "      <th>corr</th>\n",
       "      <th>r2</th>\n",
       "      <th>pvalue</th>\n",
       "      <th>valid</th>\n",
       "      <th>valid_x</th>\n",
       "      <th>valid_y</th>\n",
       "      <th>valid_percent</th>\n",
       "    </tr>\n",
       "  </thead>\n",
       "  <tbody>\n",
       "    <tr>\n",
       "      <th>0</th>\n",
       "      <td>03-05_s:MRIExtent</td>\n",
       "      <td>True</td>\n",
       "      <td>0.698431</td>\n",
       "      <td>0.487806</td>\n",
       "      <td>4.796415e-26</td>\n",
       "      <td>169.0</td>\n",
       "      <td>169.0</td>\n",
       "      <td>504.0</td>\n",
       "      <td>0.317669</td>\n",
       "      <td>0.687614</td>\n",
       "      <td>...</td>\n",
       "      <td>169.0</td>\n",
       "      <td>411.0</td>\n",
       "      <td>0.263158</td>\n",
       "      <td>-0.673434</td>\n",
       "      <td>0.453514</td>\n",
       "      <td>3.118979e-20</td>\n",
       "      <td>143.0</td>\n",
       "      <td>169.0</td>\n",
       "      <td>415.0</td>\n",
       "      <td>0.268797</td>\n",
       "    </tr>\n",
       "    <tr>\n",
       "      <th>1</th>\n",
       "      <td>03-05_s:MRIWhiteMatterInjuryMerge</td>\n",
       "      <td>True</td>\n",
       "      <td>0.715021</td>\n",
       "      <td>0.511255</td>\n",
       "      <td>1.960550e-19</td>\n",
       "      <td>116.0</td>\n",
       "      <td>116.0</td>\n",
       "      <td>504.0</td>\n",
       "      <td>0.218045</td>\n",
       "      <td>0.706771</td>\n",
       "      <td>...</td>\n",
       "      <td>116.0</td>\n",
       "      <td>411.0</td>\n",
       "      <td>0.172932</td>\n",
       "      <td>-0.636655</td>\n",
       "      <td>0.405329</td>\n",
       "      <td>4.073914e-12</td>\n",
       "      <td>95.0</td>\n",
       "      <td>116.0</td>\n",
       "      <td>415.0</td>\n",
       "      <td>0.178571</td>\n",
       "    </tr>\n",
       "    <tr>\n",
       "      <th>2</th>\n",
       "      <td>03-05_s:MRIBGTMerge</td>\n",
       "      <td>True</td>\n",
       "      <td>0.649612</td>\n",
       "      <td>0.421995</td>\n",
       "      <td>4.141362e-37</td>\n",
       "      <td>298.0</td>\n",
       "      <td>298.0</td>\n",
       "      <td>504.0</td>\n",
       "      <td>0.560150</td>\n",
       "      <td>0.650111</td>\n",
       "      <td>...</td>\n",
       "      <td>298.0</td>\n",
       "      <td>411.0</td>\n",
       "      <td>0.494361</td>\n",
       "      <td>-0.627301</td>\n",
       "      <td>0.393507</td>\n",
       "      <td>2.153775e-30</td>\n",
       "      <td>265.0</td>\n",
       "      <td>298.0</td>\n",
       "      <td>415.0</td>\n",
       "      <td>0.498120</td>\n",
       "    </tr>\n",
       "    <tr>\n",
       "      <th>3</th>\n",
       "      <td>03-05:MRINRNPatternOfInjury:1</td>\n",
       "      <td>True</td>\n",
       "      <td>0.549684</td>\n",
       "      <td>0.302152</td>\n",
       "      <td>5.320614e-28</td>\n",
       "      <td>337.0</td>\n",
       "      <td>355.0</td>\n",
       "      <td>504.0</td>\n",
       "      <td>0.633459</td>\n",
       "      <td>0.551901</td>\n",
       "      <td>...</td>\n",
       "      <td>355.0</td>\n",
       "      <td>411.0</td>\n",
       "      <td>0.554511</td>\n",
       "      <td>-0.504889</td>\n",
       "      <td>0.254912</td>\n",
       "      <td>8.241853e-21</td>\n",
       "      <td>300.0</td>\n",
       "      <td>355.0</td>\n",
       "      <td>415.0</td>\n",
       "      <td>0.563910</td>\n",
       "    </tr>\n",
       "    <tr>\n",
       "      <th>4</th>\n",
       "      <td>03-05_s:MRIPLICMerge</td>\n",
       "      <td>True</td>\n",
       "      <td>0.597946</td>\n",
       "      <td>0.357539</td>\n",
       "      <td>2.805184e-30</td>\n",
       "      <td>298.0</td>\n",
       "      <td>298.0</td>\n",
       "      <td>504.0</td>\n",
       "      <td>0.560150</td>\n",
       "      <td>0.596209</td>\n",
       "      <td>...</td>\n",
       "      <td>298.0</td>\n",
       "      <td>411.0</td>\n",
       "      <td>0.494361</td>\n",
       "      <td>-0.575369</td>\n",
       "      <td>0.331050</td>\n",
       "      <td>9.281420e-25</td>\n",
       "      <td>265.0</td>\n",
       "      <td>298.0</td>\n",
       "      <td>415.0</td>\n",
       "      <td>0.498120</td>\n",
       "    </tr>\n",
       "    <tr>\n",
       "      <th>...</th>\n",
       "      <td>...</td>\n",
       "      <td>...</td>\n",
       "      <td>...</td>\n",
       "      <td>...</td>\n",
       "      <td>...</td>\n",
       "      <td>...</td>\n",
       "      <td>...</td>\n",
       "      <td>...</td>\n",
       "      <td>...</td>\n",
       "      <td>...</td>\n",
       "      <td>...</td>\n",
       "      <td>...</td>\n",
       "      <td>...</td>\n",
       "      <td>...</td>\n",
       "      <td>...</td>\n",
       "      <td>...</td>\n",
       "      <td>...</td>\n",
       "      <td>...</td>\n",
       "      <td>...</td>\n",
       "      <td>...</td>\n",
       "      <td>...</td>\n",
       "    </tr>\n",
       "    <tr>\n",
       "      <th>336</th>\n",
       "      <td>01-06:at10MinIntubation</td>\n",
       "      <td>False</td>\n",
       "      <td>0.145105</td>\n",
       "      <td>0.021055</td>\n",
       "      <td>3.269784e-03</td>\n",
       "      <td>409.0</td>\n",
       "      <td>429.0</td>\n",
       "      <td>504.0</td>\n",
       "      <td>0.768797</td>\n",
       "      <td>0.136233</td>\n",
       "      <td>...</td>\n",
       "      <td>429.0</td>\n",
       "      <td>411.0</td>\n",
       "      <td>0.612782</td>\n",
       "      <td>-0.040079</td>\n",
       "      <td>0.001606</td>\n",
       "      <td>4.687589e-01</td>\n",
       "      <td>329.0</td>\n",
       "      <td>429.0</td>\n",
       "      <td>415.0</td>\n",
       "      <td>0.618421</td>\n",
       "    </tr>\n",
       "    <tr>\n",
       "      <th>337</th>\n",
       "      <td>04-04:dischargeDIC</td>\n",
       "      <td>False</td>\n",
       "      <td>0.228704</td>\n",
       "      <td>0.052306</td>\n",
       "      <td>2.096174e-07</td>\n",
       "      <td>504.0</td>\n",
       "      <td>532.0</td>\n",
       "      <td>504.0</td>\n",
       "      <td>0.947368</td>\n",
       "      <td>0.221352</td>\n",
       "      <td>...</td>\n",
       "      <td>532.0</td>\n",
       "      <td>411.0</td>\n",
       "      <td>0.772556</td>\n",
       "      <td>-0.026488</td>\n",
       "      <td>0.000702</td>\n",
       "      <td>5.905339e-01</td>\n",
       "      <td>415.0</td>\n",
       "      <td>532.0</td>\n",
       "      <td>415.0</td>\n",
       "      <td>0.780075</td>\n",
       "    </tr>\n",
       "    <tr>\n",
       "      <th>338</th>\n",
       "      <td>01-06:at10MinBaggingAndMask</td>\n",
       "      <td>False</td>\n",
       "      <td>0.016057</td>\n",
       "      <td>0.000258</td>\n",
       "      <td>7.458231e-01</td>\n",
       "      <td>410.0</td>\n",
       "      <td>430.0</td>\n",
       "      <td>504.0</td>\n",
       "      <td>0.770677</td>\n",
       "      <td>0.005861</td>\n",
       "      <td>...</td>\n",
       "      <td>430.0</td>\n",
       "      <td>411.0</td>\n",
       "      <td>0.612782</td>\n",
       "      <td>0.005669</td>\n",
       "      <td>0.000032</td>\n",
       "      <td>9.184135e-01</td>\n",
       "      <td>329.0</td>\n",
       "      <td>430.0</td>\n",
       "      <td>415.0</td>\n",
       "      <td>0.618421</td>\n",
       "    </tr>\n",
       "    <tr>\n",
       "      <th>339</th>\n",
       "      <td>04-13:dischargeSeizurePreIntervention</td>\n",
       "      <td>False</td>\n",
       "      <td>-0.074098</td>\n",
       "      <td>0.005490</td>\n",
       "      <td>2.083478e-01</td>\n",
       "      <td>290.0</td>\n",
       "      <td>305.0</td>\n",
       "      <td>504.0</td>\n",
       "      <td>0.545113</td>\n",
       "      <td>-0.087448</td>\n",
       "      <td>...</td>\n",
       "      <td>305.0</td>\n",
       "      <td>411.0</td>\n",
       "      <td>0.421053</td>\n",
       "      <td>0.058677</td>\n",
       "      <td>0.003443</td>\n",
       "      <td>3.799606e-01</td>\n",
       "      <td>226.0</td>\n",
       "      <td>305.0</td>\n",
       "      <td>415.0</td>\n",
       "      <td>0.424812</td>\n",
       "    </tr>\n",
       "    <tr>\n",
       "      <th>340</th>\n",
       "      <td>04-06:dischargeDialysis</td>\n",
       "      <td>False</td>\n",
       "      <td>0.068173</td>\n",
       "      <td>0.004648</td>\n",
       "      <td>1.263966e-01</td>\n",
       "      <td>504.0</td>\n",
       "      <td>532.0</td>\n",
       "      <td>504.0</td>\n",
       "      <td>0.947368</td>\n",
       "      <td>0.066167</td>\n",
       "      <td>...</td>\n",
       "      <td>532.0</td>\n",
       "      <td>411.0</td>\n",
       "      <td>0.772556</td>\n",
       "      <td>NaN</td>\n",
       "      <td>NaN</td>\n",
       "      <td>NaN</td>\n",
       "      <td>415.0</td>\n",
       "      <td>532.0</td>\n",
       "      <td>415.0</td>\n",
       "      <td>0.780075</td>\n",
       "    </tr>\n",
       "  </tbody>\n",
       "</table>\n",
       "<p>341 rows × 44 columns</p>\n",
       "</div>"
      ],
      "text/plain": [
       "y                                        x pvalue_lt_threshold  \\\n",
       "                                                                 \n",
       "0                        03-05_s:MRIExtent                True   \n",
       "1        03-05_s:MRIWhiteMatterInjuryMerge                True   \n",
       "2                      03-05_s:MRIBGTMerge                True   \n",
       "3            03-05:MRINRNPatternOfInjury:1                True   \n",
       "4                     03-05_s:MRIPLICMerge                True   \n",
       "..                                     ...                 ...   \n",
       "336                01-06:at10MinIntubation               False   \n",
       "337                     04-04:dischargeDIC               False   \n",
       "338            01-06:at10MinBaggingAndMask               False   \n",
       "339  04-13:dischargeSeizurePreIntervention               False   \n",
       "340                04-06:dischargeDialysis               False   \n",
       "\n",
       "y   20-10:moderateSevereDisabilityOrDeath                                 \\\n",
       "                                     corr        r2        pvalue  valid   \n",
       "0                                0.698431  0.487806  4.796415e-26  169.0   \n",
       "1                                0.715021  0.511255  1.960550e-19  116.0   \n",
       "2                                0.649612  0.421995  4.141362e-37  298.0   \n",
       "3                                0.549684  0.302152  5.320614e-28  337.0   \n",
       "4                                0.597946  0.357539  2.805184e-30  298.0   \n",
       "..                                    ...       ...           ...    ...   \n",
       "336                              0.145105  0.021055  3.269784e-03  409.0   \n",
       "337                              0.228704  0.052306  2.096174e-07  504.0   \n",
       "338                              0.016057  0.000258  7.458231e-01  410.0   \n",
       "339                             -0.074098  0.005490  2.083478e-01  290.0   \n",
       "340                              0.068173  0.004648  1.263966e-01  504.0   \n",
       "\n",
       "y                                 20-10:disabilityLevelDeath4Category  ...  \\\n",
       "    valid_x valid_y valid_percent                                corr  ...   \n",
       "0     169.0   504.0      0.317669                            0.687614  ...   \n",
       "1     116.0   504.0      0.218045                            0.706771  ...   \n",
       "2     298.0   504.0      0.560150                            0.650111  ...   \n",
       "3     355.0   504.0      0.633459                            0.551901  ...   \n",
       "4     298.0   504.0      0.560150                            0.596209  ...   \n",
       "..      ...     ...           ...                                 ...  ...   \n",
       "336   429.0   504.0      0.768797                            0.136233  ...   \n",
       "337   532.0   504.0      0.947368                            0.221352  ...   \n",
       "338   430.0   504.0      0.770677                            0.005861  ...   \n",
       "339   305.0   504.0      0.545113                           -0.087448  ...   \n",
       "340   532.0   504.0      0.947368                            0.066167  ...   \n",
       "\n",
       "y   20-04:BayleyIIILanguageComposite                        \\\n",
       "                             valid_x valid_y valid_percent   \n",
       "0                              169.0   411.0      0.263158   \n",
       "1                              116.0   411.0      0.172932   \n",
       "2                              298.0   411.0      0.494361   \n",
       "3                              355.0   411.0      0.554511   \n",
       "4                              298.0   411.0      0.494361   \n",
       "..                               ...     ...           ...   \n",
       "336                            429.0   411.0      0.612782   \n",
       "337                            532.0   411.0      0.772556   \n",
       "338                            430.0   411.0      0.612782   \n",
       "339                            305.0   411.0      0.421053   \n",
       "340                            532.0   411.0      0.772556   \n",
       "\n",
       "y   20-04:BayleyIIIMotorComposite                                         \\\n",
       "                             corr        r2        pvalue  valid valid_x   \n",
       "0                       -0.673434  0.453514  3.118979e-20  143.0   169.0   \n",
       "1                       -0.636655  0.405329  4.073914e-12   95.0   116.0   \n",
       "2                       -0.627301  0.393507  2.153775e-30  265.0   298.0   \n",
       "3                       -0.504889  0.254912  8.241853e-21  300.0   355.0   \n",
       "4                       -0.575369  0.331050  9.281420e-25  265.0   298.0   \n",
       "..                            ...       ...           ...    ...     ...   \n",
       "336                     -0.040079  0.001606  4.687589e-01  329.0   429.0   \n",
       "337                     -0.026488  0.000702  5.905339e-01  415.0   532.0   \n",
       "338                      0.005669  0.000032  9.184135e-01  329.0   430.0   \n",
       "339                      0.058677  0.003443  3.799606e-01  226.0   305.0   \n",
       "340                           NaN       NaN           NaN  415.0   532.0   \n",
       "\n",
       "y                          \n",
       "    valid_y valid_percent  \n",
       "0     415.0      0.268797  \n",
       "1     415.0      0.178571  \n",
       "2     415.0      0.498120  \n",
       "3     415.0      0.563910  \n",
       "4     415.0      0.498120  \n",
       "..      ...           ...  \n",
       "336   415.0      0.618421  \n",
       "337   415.0      0.780075  \n",
       "338   415.0      0.618421  \n",
       "339   415.0      0.424812  \n",
       "340   415.0      0.780075  \n",
       "\n",
       "[341 rows x 44 columns]"
      ]
     },
     "execution_count": 21,
     "metadata": {},
     "output_type": "execute_result"
    }
   ],
   "source": [
    "df_corr_all_pivot"
   ]
  },
  {
   "cell_type": "markdown",
   "id": "d6a39d6c",
   "metadata": {},
   "source": [
    "## 04. Plot"
   ]
  },
  {
   "cell_type": "code",
   "execution_count": 22,
   "id": "b716f227-fabf-44ff-a426-ed28daa0e5d2",
   "metadata": {
    "execution": {
     "iopub.execute_input": "2025-05-15T04:33:36.206588Z",
     "iopub.status.busy": "2025-05-15T04:33:36.206438Z",
     "iopub.status.idle": "2025-05-15T04:33:36.209246Z",
     "shell.execute_reply": "2025-05-15T04:33:36.208992Z"
    }
   },
   "outputs": [],
   "source": [
    "def _plot_corr(df, x_column, y_column, x_column_info=None, y_column_info=None, is_close=False):\n",
    "    fig = COMBINE_harmonizer.plot_corr(df, x_column, y_column, x_column_info, y_column_info)\n",
    "\n",
    "    x_str = re.sub(r':', '_', x_column)\n",
    "    y_str = re.sub(r':', '_', y_column)\n",
    "\n",
    "    fig.savefig(f'{out_figure_dir}/31-{x_str}-{y_str}-corr.pdf', bbox_inches='tight')\n",
    "    fig.savefig(f'{out_figure_dir}/31-{x_str}-{y_str}-corr.png', bbox_inches='tight')\n",
    "    fig.savefig(f'{out_figure_dir}/31-{x_str}-{y_str}-corr.eps', bbox_inches='tight')\n",
    "    if is_close:\n",
    "        plt.close(fig)\n"
   ]
  },
  {
   "cell_type": "code",
   "execution_count": 23,
   "id": "9e0ed2bb-48cd-45dd-92d2-ef969ad51834",
   "metadata": {
    "execution": {
     "iopub.execute_input": "2025-05-15T04:33:36.210748Z",
     "iopub.status.busy": "2025-05-15T04:33:36.210633Z",
     "iopub.status.idle": "2025-05-15T04:33:36.213619Z",
     "shell.execute_reply": "2025-05-15T04:33:36.213327Z"
    }
   },
   "outputs": [],
   "source": [
    "y_columns_map = {\n",
    "    '20-04:BayleyIIICognitiveComposite': {'title': 'Bayley III Cognitive Composite Score', 'unit': ''},\n",
    "    # '20-04:BayleyIIILanguageComposite': {'title': 'Bayley III Language Composite Score', 'unit': ''},\n",
    "    # '20-04:BayleyIIIMotorComposite': {'title': 'Bayley III Motor Composite Score', 'unit': ''},\n",
    "\n",
    "    # '30-02:moderateSevereDisabilityOrDeath': {'title': 'Death or Moderate/Severe Disability', 'unit': ''},\n",
    "\n",
    "    # '30-02:disabilityLevel': {'title': 'Disability Level', 'unit': ''},\n",
    "\n",
    "    '20-10_1:disabilityLevelDeath': {'title': 'Disability Level', 'unit': ''},\n",
    "}\n",
    "\n",
    "x_columns_map = {\n",
    "    # '01-06:firstPostnatalBloodGasPH': {'title': 'Blood Gas pH within 1st HR', 'unit': ''},\n",
    "\n",
    "    # '04-04:dischargeChronicLungDisease': {'title': 'Discharge - Chronic Lung Disease', 'unit': ''},\n",
    "\n",
    "    # '20-09:gastrostomyTube_b': {'title': 'Gastrostomy Tube', 'unit': ''},\n",
    "\n",
    "    # '04-08:dischargeFullNippleFeed': {'title': 'Discharge - Full Nipple Feed', 'unit': ''},\n",
    "\n",
    "    # '01-06:Apgar5min': {'title': 'Apgar Score at 5 min', 'unit': ''},\n",
    "\n",
    "    # '01-06:Apgar10min': {'title': 'Apgar Score at 10 min', 'unit': ''},\n",
    "\n",
    "    # '01-06:encephalopathyLevel': {'title': 'Encephalophathy Level', 'unit': ''},\n",
    "\n",
    "    # '01-06:initBloodGasPH': {'title': 'Blood Gas pH', 'unit': ''},\n",
    "\n",
    "    # '01-06:cordBloodGasPH': {'title': 'Cord Blood Gas pH', 'unit': ''},\n",
    "\n",
    "    # '03-05_s1:MRINRNPatternOfInjuryMerge': {'title': 'NRN Pattern of Injury', 'unit': ''},\n",
    "    # '03-05_s1:MRINRNPatternOfInjuryAvg': {'title': 'NRN Pattern of Injury - Mean', 'unit': ''},\n",
    "    # '03-05_s1:MRINRNPatternOfInjuryMax': {'title': 'NRN Pattern of Injury - Max', 'unit': ''},\n",
    "\n",
    "    # '03-05_s:MRI2LevelPatternOfInjury': {'title': 'NRN Pattern of Injury - 2 Level', 'unit': ''},\n",
    "    # '03-05_s:MRINRNPatternOfInjuryMerge': {'title': 'NRN Pattern of Injury', 'unit': ''},\n",
    "\n",
    "    # '01-12_1:pre_TotalModifiedSarnatScore': {'title': 'Total Modified Sarnat Score - Screening', 'unit': ''},\n",
    "    # '03-04_1:post_TotalModifiedSarnatScore': {'title': 'Total Modified Sarnat Score - Post-treatment', 'unit': ''},\n",
    "    # '04-12_1:dischargeTotalModifiedSarnatScore': {'title': 'Total Modified Sarnat Score - Discharge', 'unit': ''},\n",
    "\n",
    "    # '01-12:pre_NeuroExamSeizure': {'title': 'Seizure - Screening', 'unit': ''},\n",
    "\n",
    "    # '01-06:Apgar10minLte5': {'title': 'Apgar Score at 10 min $\\leq$ 5', 'unit': ''},\n",
    "\n",
    "    # '01-06:Apgar10minLt5': {'title': 'Apgar Score at 10 min < 5', 'unit': ''},\n",
    "\n",
    "    # '01-06:infantSex': {'title': 'Infant Sex', 'unit': ''},\n",
    "    # '01-06:maleSex': {'title': 'Infant Sex', 'unit': ''},\n",
    "\n",
    "    # '01-06:birthGestationalAge_week': {'title': 'Birth Gestational Age', 'unit': 'Week'},\n",
    "    # '01-03:motherEducation': {'title': 'Mother Education', 'unit': ''},\n",
    "    # '01-03:motherAge_year': {'title': 'Mother Age', 'unit': 'Year'},\n",
    "\n",
    "    # '01-06:birthWeight_g': {'title': 'Birth Weight', 'unit': 'g'},\n",
    "\n",
    "    # '04-01_1:lengthOfStay_day': {'title': 'Length of Stay', 'unit': 'Day'},\n",
    "}\n",
    "\n",
    "for x_column, x_column_info in x_columns_map.items():\n",
    "    for y_column, y_column_info in y_columns_map.items():\n",
    "        _plot_corr(df_numeric, x_column, y_column, x_column_info, y_column_info, is_close=True)"
   ]
  }
 ],
 "metadata": {
  "kernelspec": {
   "display_name": ".venv",
   "language": "python",
   "name": "python3"
  },
  "language_info": {
   "codemirror_mode": {
    "name": "ipython",
    "version": 3
   },
   "file_extension": ".py",
   "mimetype": "text/x-python",
   "name": "python",
   "nbconvert_exporter": "python",
   "pygments_lexer": "ipython3",
   "version": "3.13.2"
  }
 },
 "nbformat": 4,
 "nbformat_minor": 5
}
