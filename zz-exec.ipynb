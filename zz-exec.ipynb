{
 "cells": [
  {
   "cell_type": "code",
   "execution_count": 1,
   "id": "185b7142-dd63-424b-ba73-91252fc8d61c",
   "metadata": {
    "execution": {
     "iopub.execute_input": "2025-01-22T14:47:08.338951Z",
     "iopub.status.busy": "2025-01-22T14:47:08.338702Z",
     "iopub.status.idle": "2025-01-22T14:47:09.532479Z",
     "shell.execute_reply": "2025-01-22T14:47:09.532163Z"
    }
   },
   "outputs": [],
   "source": [
    "import nbformat\n",
    "from tqdm import tqdm\n",
    "from COMBINE_harmonizer import exec_ipynb\n",
    "from COMBINE_harmonizer.constants import *\n",
    "\n",
    "import os"
   ]
  },
  {
   "cell_type": "markdown",
   "id": "b99818bb",
   "metadata": {},
   "source": [
    "## 00. Init"
   ]
  },
  {
   "cell_type": "code",
   "execution_count": 2,
   "id": "dd0bcdd0",
   "metadata": {
    "execution": {
     "iopub.execute_input": "2025-01-22T14:47:09.534034Z",
     "iopub.status.busy": "2025-01-22T14:47:09.533905Z",
     "iopub.status.idle": "2025-01-22T14:47:09.537005Z",
     "shell.execute_reply": "2025-01-22T14:47:09.536743Z"
    }
   },
   "outputs": [
    {
     "data": {
      "text/plain": [
       "'/Users/chhsiao/bch/i3/COMBINE-harmonizer'"
      ]
     },
     "execution_count": 2,
     "metadata": {},
     "output_type": "execute_result"
    }
   ],
   "source": [
    "os.getcwd()"
   ]
  },
  {
   "cell_type": "code",
   "execution_count": 3,
   "id": "d0dc53d5-e876-4d1a-bbdf-fd1026e0de6c",
   "metadata": {
    "execution": {
     "iopub.execute_input": "2025-01-22T14:47:09.538167Z",
     "iopub.status.busy": "2025-01-22T14:47:09.538090Z",
     "iopub.status.idle": "2025-01-22T14:47:09.540108Z",
     "shell.execute_reply": "2025-01-22T14:47:09.539905Z"
    }
   },
   "outputs": [],
   "source": [
    "study_dirs = [\n",
    "    STUDY_LH,\n",
    "    STUDY_OC,\n",
    "]\n",
    "\n",
    "filenames_dataset_R = [\n",
    "    '00-sas-to-csv-R.ipynb',\n",
    "]\n",
    "\n",
    "filenames_dataset = [\n",
    "    '00-spreadsheet-variables.ipynb',\n",
    "    '01-normalize.ipynb',\n",
    "    '02-normalize-values.ipynb',\n",
    "    '03-spreadsheet-variables-follow-up.ipynb',\n",
    "    '04-normalize-follow-up.ipynb',\n",
    "    '05-normalize-values-follow-up.ipynb',\n",
    "    '06-spreadsheet-variables-derived-data.ipynb',\n",
    "    '07-normalize-derived-data.ipynb',\n",
    "    '08-normalize-values-derived-data.ipynb',\n",
    "]\n",
    "\n",
    "filenames_merge = [\n",
    "    '00-normalize-merge-values.ipynb',\n",
    "    '01-total-modified-sarnat-scores.ipynb',\n",
    "    '02-mri-scores.ipynb',\n",
    "    '03-perinatal-sentinel-event.ipynb',\n",
    "    '04-disability-death.ipynb',\n",
    "    '05-emergency-csection.ipynb',\n",
    "\n",
    "    '07-to-publish.ipynb',\n",
    "    '08-length-of-stay.ipynb',\n",
    "\n",
    "    '99-to-excel.ipynb',\n",
    "]\n",
    "\n",
    "filenames_analysis = [\n",
    "    '00-check-basic-info.ipynb',\n",
    "\n",
    "    '10-inverse-flatten.ipynb',\n",
    "    '11-correlation-coefficient.ipynb',\n",
    "\n",
    "    # '20-distribution.ipynb',\n",
    "    # '21-MRI-Score-distribution.ipynb',\n",
    "    # '22-MRI-Score0-distribution.ipynb',\n",
    "]\n",
    "\n",
    "filenames_analysis_R = [\n",
    "    '11-correlation-coefficient-R.ipynb',\n",
    "]\n",
    "\n"
   ]
  },
  {
   "cell_type": "code",
   "execution_count": 4,
   "id": "7a8a74da",
   "metadata": {
    "execution": {
     "iopub.execute_input": "2025-01-22T14:47:09.541145Z",
     "iopub.status.busy": "2025-01-22T14:47:09.541076Z",
     "iopub.status.idle": "2025-01-22T14:47:09.543299Z",
     "shell.execute_reply": "2025-01-22T14:47:09.543086Z"
    }
   },
   "outputs": [],
   "source": [
    "def _exec_dir_R(the_dir: str, filenames: list[str], prompt: str):\n",
    "    root_dir = os.getcwd()\n",
    "    os.chdir(the_dir)\n",
    "    for idx, filename in tqdm(enumerate(filenames), desc=prompt):\n",
    "        print(f'({idx}/{len(filenames)}) {filename}')\n",
    "\n",
    "        if not os.path.exists(filename):\n",
    "            print(f'[WARN] ({the_dir}) filename not exists: {filename}')\n",
    "            continue\n",
    "\n",
    "        nb_out = exec_ipynb.exec_ipynb(filename, kernel_name='ir')\n",
    "\n",
    "        with open(filename, 'w') as f:\n",
    "            nbformat.write(nb_out, f)\n",
    "\n",
    "        print(f'({idx}/{len(filenames)}) {filename}: done')\n",
    "\n",
    "    os.chdir(root_dir)\n"
   ]
  },
  {
   "cell_type": "code",
   "execution_count": 5,
   "id": "739965b0",
   "metadata": {
    "execution": {
     "iopub.execute_input": "2025-01-22T14:47:09.544325Z",
     "iopub.status.busy": "2025-01-22T14:47:09.544253Z",
     "iopub.status.idle": "2025-01-22T14:47:09.546435Z",
     "shell.execute_reply": "2025-01-22T14:47:09.546239Z"
    }
   },
   "outputs": [],
   "source": [
    "def _exec_dir(the_dir: str, filenames: list[str], prompt: str):\n",
    "    root_dir = os.getcwd()\n",
    "    os.chdir(the_dir)\n",
    "    for idx, filename in tqdm(enumerate(filenames), desc=prompt):\n",
    "        print(f'({idx}/{len(filenames)}) {filename}')\n",
    "\n",
    "        if not os.path.exists(filename):\n",
    "            print(f'[WARN] ({the_dir}) filename not exists: {filename}')\n",
    "            continue\n",
    "\n",
    "        nb_out = exec_ipynb.exec_ipynb(filename)\n",
    "\n",
    "        with open(filename, 'w') as f:\n",
    "            nbformat.write(nb_out, f)\n",
    "\n",
    "        print(f'({idx}/{len(filenames)}) {filename}: done')\n",
    "\n",
    "    os.chdir(root_dir)\n"
   ]
  },
  {
   "cell_type": "markdown",
   "id": "ee0896f3",
   "metadata": {},
   "source": [
    "## 01. LH and OC"
   ]
  },
  {
   "cell_type": "code",
   "execution_count": 6,
   "id": "b4540317-8f79-4a56-b80c-5df0b2875707",
   "metadata": {
    "execution": {
     "iopub.execute_input": "2025-01-22T14:47:09.547501Z",
     "iopub.status.busy": "2025-01-22T14:47:09.547426Z",
     "iopub.status.idle": "2025-01-22T14:47:30.775720Z",
     "shell.execute_reply": "2025-01-22T14:47:30.775149Z"
    }
   },
   "outputs": [
    {
     "name": "stderr",
     "output_type": "stream",
     "text": [
      "\r",
      "LH: 0it [00:00, ?it/s]"
     ]
    },
    {
     "name": "stdout",
     "output_type": "stream",
     "text": [
      "(0/1) 00-sas-to-csv-R.ipynb\n"
     ]
    },
    {
     "name": "stderr",
     "output_type": "stream",
     "text": [
      "\r",
      "LH: 1it [00:08,  8.01s/it]"
     ]
    },
    {
     "name": "stderr",
     "output_type": "stream",
     "text": [
      "\r",
      "LH: 1it [00:08,  8.01s/it]"
     ]
    },
    {
     "name": "stderr",
     "output_type": "stream",
     "text": [
      "\n"
     ]
    },
    {
     "name": "stdout",
     "output_type": "stream",
     "text": [
      "(0/1) 00-sas-to-csv-R.ipynb: done\n"
     ]
    },
    {
     "name": "stderr",
     "output_type": "stream",
     "text": [
      "\r",
      "OC: 0it [00:00, ?it/s]"
     ]
    },
    {
     "name": "stdout",
     "output_type": "stream",
     "text": [
      "(0/1) 00-sas-to-csv-R.ipynb\n"
     ]
    },
    {
     "name": "stderr",
     "output_type": "stream",
     "text": [
      "\r",
      "OC: 1it [00:13, 13.21s/it]"
     ]
    },
    {
     "name": "stderr",
     "output_type": "stream",
     "text": [
      "\r",
      "OC: 1it [00:13, 13.21s/it]"
     ]
    },
    {
     "name": "stdout",
     "output_type": "stream",
     "text": [
      "(0/1) 00-sas-to-csv-R.ipynb: done\n"
     ]
    },
    {
     "name": "stderr",
     "output_type": "stream",
     "text": [
      "\n"
     ]
    }
   ],
   "source": [
    "for idx2, study_dir in enumerate(study_dirs):\n",
    "    _exec_dir_R(study_dir, filenames_dataset_R, f'{study_dir}')\n"
   ]
  },
  {
   "cell_type": "code",
   "execution_count": 7,
   "id": "5aa99364",
   "metadata": {
    "execution": {
     "iopub.execute_input": "2025-01-22T14:47:30.778186Z",
     "iopub.status.busy": "2025-01-22T14:47:30.777998Z",
     "iopub.status.idle": "2025-01-22T14:49:01.752322Z",
     "shell.execute_reply": "2025-01-22T14:49:01.751965Z"
    }
   },
   "outputs": [
    {
     "name": "stderr",
     "output_type": "stream",
     "text": [
      "\r",
      "LH: 0it [00:00, ?it/s]"
     ]
    },
    {
     "name": "stdout",
     "output_type": "stream",
     "text": [
      "(0/9) 00-spreadsheet-variables.ipynb\n"
     ]
    },
    {
     "name": "stderr",
     "output_type": "stream",
     "text": [
      "\r",
      "LH: 1it [00:03,  3.53s/it]"
     ]
    },
    {
     "name": "stdout",
     "output_type": "stream",
     "text": [
      "(0/9) 00-spreadsheet-variables.ipynb: done\n",
      "(1/9) 01-normalize.ipynb\n"
     ]
    },
    {
     "name": "stderr",
     "output_type": "stream",
     "text": [
      "\r",
      "LH: 2it [00:11,  6.19s/it]"
     ]
    },
    {
     "name": "stdout",
     "output_type": "stream",
     "text": [
      "(1/9) 01-normalize.ipynb: done\n",
      "(2/9) 02-normalize-values.ipynb\n"
     ]
    },
    {
     "name": "stderr",
     "output_type": "stream",
     "text": [
      "\r",
      "LH: 3it [00:23,  8.67s/it]"
     ]
    },
    {
     "name": "stdout",
     "output_type": "stream",
     "text": [
      "(2/9) 02-normalize-values.ipynb: done\n",
      "(3/9) 03-spreadsheet-variables-follow-up.ipynb\n"
     ]
    },
    {
     "name": "stderr",
     "output_type": "stream",
     "text": [
      "\r",
      "LH: 4it [00:26,  6.40s/it]"
     ]
    },
    {
     "name": "stdout",
     "output_type": "stream",
     "text": [
      "(3/9) 03-spreadsheet-variables-follow-up.ipynb: done\n",
      "(4/9) 04-normalize-follow-up.ipynb\n"
     ]
    },
    {
     "name": "stderr",
     "output_type": "stream",
     "text": [
      "\r",
      "LH: 5it [00:29,  5.42s/it]"
     ]
    },
    {
     "name": "stdout",
     "output_type": "stream",
     "text": [
      "(4/9) 04-normalize-follow-up.ipynb: done\n",
      "(5/9) 05-normalize-values-follow-up.ipynb\n"
     ]
    },
    {
     "name": "stderr",
     "output_type": "stream",
     "text": [
      "\r",
      "LH: 6it [00:34,  5.12s/it]"
     ]
    },
    {
     "name": "stdout",
     "output_type": "stream",
     "text": [
      "(5/9) 05-normalize-values-follow-up.ipynb: done\n",
      "(6/9) 06-spreadsheet-variables-derived-data.ipynb\n"
     ]
    },
    {
     "name": "stderr",
     "output_type": "stream",
     "text": [
      "\r",
      "LH: 7it [00:36,  4.30s/it]"
     ]
    },
    {
     "name": "stdout",
     "output_type": "stream",
     "text": [
      "(6/9) 06-spreadsheet-variables-derived-data.ipynb: done\n",
      "(7/9) 07-normalize-derived-data.ipynb\n"
     ]
    },
    {
     "name": "stderr",
     "output_type": "stream",
     "text": [
      "\r",
      "LH: 8it [00:39,  3.81s/it]"
     ]
    },
    {
     "name": "stdout",
     "output_type": "stream",
     "text": [
      "(7/9) 07-normalize-derived-data.ipynb: done\n",
      "(8/9) 08-normalize-values-derived-data.ipynb\n"
     ]
    },
    {
     "name": "stderr",
     "output_type": "stream",
     "text": [
      "\r",
      "LH: 9it [00:43,  3.88s/it]"
     ]
    },
    {
     "name": "stderr",
     "output_type": "stream",
     "text": [
      "\r",
      "LH: 9it [00:43,  4.86s/it]"
     ]
    },
    {
     "name": "stderr",
     "output_type": "stream",
     "text": [
      "\n"
     ]
    },
    {
     "name": "stdout",
     "output_type": "stream",
     "text": [
      "(8/9) 08-normalize-values-derived-data.ipynb: done\n"
     ]
    },
    {
     "name": "stderr",
     "output_type": "stream",
     "text": [
      "\r",
      "OC: 0it [00:00, ?it/s]"
     ]
    },
    {
     "name": "stdout",
     "output_type": "stream",
     "text": [
      "(0/9) 00-spreadsheet-variables.ipynb\n"
     ]
    },
    {
     "name": "stderr",
     "output_type": "stream",
     "text": [
      "\r",
      "OC: 1it [00:03,  3.53s/it]"
     ]
    },
    {
     "name": "stdout",
     "output_type": "stream",
     "text": [
      "(0/9) 00-spreadsheet-variables.ipynb: done\n",
      "(1/9) 01-normalize.ipynb\n"
     ]
    },
    {
     "name": "stderr",
     "output_type": "stream",
     "text": [
      "\r",
      "OC: 2it [00:12,  6.67s/it]"
     ]
    },
    {
     "name": "stdout",
     "output_type": "stream",
     "text": [
      "(1/9) 01-normalize.ipynb: done\n",
      "(2/9) 02-normalize-values.ipynb\n"
     ]
    },
    {
     "name": "stderr",
     "output_type": "stream",
     "text": [
      "\r",
      "OC: 3it [00:25,  9.39s/it]"
     ]
    },
    {
     "name": "stdout",
     "output_type": "stream",
     "text": [
      "(2/9) 02-normalize-values.ipynb: done\n",
      "(3/9) 03-spreadsheet-variables-follow-up.ipynb\n"
     ]
    },
    {
     "name": "stderr",
     "output_type": "stream",
     "text": [
      "\r",
      "OC: 4it [00:28,  6.93s/it]"
     ]
    },
    {
     "name": "stdout",
     "output_type": "stream",
     "text": [
      "(3/9) 03-spreadsheet-variables-follow-up.ipynb: done\n",
      "(4/9) 04-normalize-follow-up.ipynb\n"
     ]
    },
    {
     "name": "stderr",
     "output_type": "stream",
     "text": [
      "\r",
      "OC: 5it [00:32,  5.87s/it]"
     ]
    },
    {
     "name": "stdout",
     "output_type": "stream",
     "text": [
      "(4/9) 04-normalize-follow-up.ipynb: done\n",
      "(5/9) 05-normalize-values-follow-up.ipynb\n"
     ]
    },
    {
     "name": "stderr",
     "output_type": "stream",
     "text": [
      "\r",
      "OC: 6it [00:37,  5.60s/it]"
     ]
    },
    {
     "name": "stdout",
     "output_type": "stream",
     "text": [
      "(5/9) 05-normalize-values-follow-up.ipynb: done\n",
      "(6/9) 06-spreadsheet-variables-derived-data.ipynb\n"
     ]
    },
    {
     "name": "stderr",
     "output_type": "stream",
     "text": [
      "\r",
      "OC: 7it [00:40,  4.78s/it]"
     ]
    },
    {
     "name": "stdout",
     "output_type": "stream",
     "text": [
      "(6/9) 06-spreadsheet-variables-derived-data.ipynb: done\n",
      "(7/9) 07-normalize-derived-data.ipynb\n"
     ]
    },
    {
     "name": "stderr",
     "output_type": "stream",
     "text": [
      "\r",
      "OC: 8it [00:43,  4.20s/it]"
     ]
    },
    {
     "name": "stdout",
     "output_type": "stream",
     "text": [
      "(7/9) 07-normalize-derived-data.ipynb: done\n",
      "(8/9) 08-normalize-values-derived-data.ipynb\n"
     ]
    },
    {
     "name": "stderr",
     "output_type": "stream",
     "text": [
      "\r",
      "OC: 9it [00:47,  4.12s/it]"
     ]
    },
    {
     "name": "stderr",
     "output_type": "stream",
     "text": [
      "\r",
      "OC: 9it [00:47,  5.25s/it]"
     ]
    },
    {
     "name": "stdout",
     "output_type": "stream",
     "text": [
      "(8/9) 08-normalize-values-derived-data.ipynb: done\n"
     ]
    },
    {
     "name": "stderr",
     "output_type": "stream",
     "text": [
      "\n"
     ]
    }
   ],
   "source": [
    "for idx2, study_dir in enumerate(study_dirs):\n",
    "    _exec_dir(study_dir, filenames_dataset, f'{study_dir}')\n"
   ]
  },
  {
   "cell_type": "markdown",
   "id": "9f903385",
   "metadata": {},
   "source": [
    "## 02. Merged"
   ]
  },
  {
   "cell_type": "code",
   "execution_count": 8,
   "id": "b85ce2fc",
   "metadata": {
    "execution": {
     "iopub.execute_input": "2025-01-22T14:49:01.754003Z",
     "iopub.status.busy": "2025-01-22T14:49:01.753847Z",
     "iopub.status.idle": "2025-01-22T14:50:39.102423Z",
     "shell.execute_reply": "2025-01-22T14:50:39.102133Z"
    }
   },
   "outputs": [
    {
     "name": "stderr",
     "output_type": "stream",
     "text": [
      "\r",
      "merged: 0it [00:00, ?it/s]"
     ]
    },
    {
     "name": "stdout",
     "output_type": "stream",
     "text": [
      "(0/9) 00-normalize-merge-values.ipynb\n"
     ]
    },
    {
     "name": "stderr",
     "output_type": "stream",
     "text": [
      "\r",
      "merged: 1it [00:14, 14.86s/it]"
     ]
    },
    {
     "name": "stdout",
     "output_type": "stream",
     "text": [
      "(0/9) 00-normalize-merge-values.ipynb: done\n",
      "(1/9) 01-total-modified-sarnat-scores.ipynb\n"
     ]
    },
    {
     "name": "stderr",
     "output_type": "stream",
     "text": [
      "\r",
      "merged: 2it [00:19,  8.62s/it]"
     ]
    },
    {
     "name": "stdout",
     "output_type": "stream",
     "text": [
      "(1/9) 01-total-modified-sarnat-scores.ipynb: done\n",
      "(2/9) 02-mri-scores.ipynb\n"
     ]
    },
    {
     "name": "stderr",
     "output_type": "stream",
     "text": [
      "\r",
      "merged: 3it [00:24,  7.22s/it]"
     ]
    },
    {
     "name": "stdout",
     "output_type": "stream",
     "text": [
      "(2/9) 02-mri-scores.ipynb: done\n",
      "(3/9) 03-perinatal-sentinel-event.ipynb\n"
     ]
    },
    {
     "name": "stderr",
     "output_type": "stream",
     "text": [
      "\r",
      "merged: 4it [00:28,  5.86s/it]"
     ]
    },
    {
     "name": "stdout",
     "output_type": "stream",
     "text": [
      "(3/9) 03-perinatal-sentinel-event.ipynb: done\n",
      "(4/9) 04-disability-death.ipynb\n"
     ]
    },
    {
     "name": "stderr",
     "output_type": "stream",
     "text": [
      "\r",
      "merged: 5it [00:30,  4.59s/it]"
     ]
    },
    {
     "name": "stdout",
     "output_type": "stream",
     "text": [
      "(4/9) 04-disability-death.ipynb: done\n",
      "(5/9) 05-emergency-csection.ipynb\n"
     ]
    },
    {
     "name": "stderr",
     "output_type": "stream",
     "text": [
      "\r",
      "merged: 6it [00:34,  4.39s/it]"
     ]
    },
    {
     "name": "stdout",
     "output_type": "stream",
     "text": [
      "(5/9) 05-emergency-csection.ipynb: done\n",
      "(6/9) 07-to-publish.ipynb\n"
     ]
    },
    {
     "name": "stderr",
     "output_type": "stream",
     "text": [
      "\r",
      "merged: 7it [00:49,  7.64s/it]"
     ]
    },
    {
     "name": "stdout",
     "output_type": "stream",
     "text": [
      "(6/9) 07-to-publish.ipynb: done\n",
      "(7/9) 08-length-of-stay.ipynb\n"
     ]
    },
    {
     "name": "stderr",
     "output_type": "stream",
     "text": [
      "\r",
      "merged: 8it [00:51,  6.01s/it]"
     ]
    },
    {
     "name": "stdout",
     "output_type": "stream",
     "text": [
      "(7/9) 08-length-of-stay.ipynb: done\n",
      "(8/9) 99-to-excel.ipynb\n"
     ]
    },
    {
     "name": "stderr",
     "output_type": "stream",
     "text": [
      "\r",
      "merged: 9it [01:37, 18.42s/it]"
     ]
    },
    {
     "name": "stderr",
     "output_type": "stream",
     "text": [
      "\r",
      "merged: 9it [01:37, 10.82s/it]"
     ]
    },
    {
     "name": "stdout",
     "output_type": "stream",
     "text": [
      "(8/9) 99-to-excel.ipynb: done\n"
     ]
    },
    {
     "name": "stderr",
     "output_type": "stream",
     "text": [
      "\n"
     ]
    }
   ],
   "source": [
    "_exec_dir(DIR_MERGE, filenames_merge, 'merged')"
   ]
  },
  {
   "cell_type": "markdown",
   "id": "56f3f333",
   "metadata": {},
   "source": [
    "## 03. Analysis"
   ]
  },
  {
   "cell_type": "code",
   "execution_count": 9,
   "id": "a3fe9ff8",
   "metadata": {
    "execution": {
     "iopub.execute_input": "2025-01-22T14:50:39.103951Z",
     "iopub.status.busy": "2025-01-22T14:50:39.103803Z",
     "iopub.status.idle": "2025-01-22T14:51:13.210364Z",
     "shell.execute_reply": "2025-01-22T14:51:13.209783Z"
    }
   },
   "outputs": [
    {
     "name": "stderr",
     "output_type": "stream",
     "text": [
      "\r",
      "analysis: 0it [00:00, ?it/s]"
     ]
    },
    {
     "name": "stdout",
     "output_type": "stream",
     "text": [
      "(0/3) 00-check-basic-info.ipynb\n"
     ]
    },
    {
     "name": "stderr",
     "output_type": "stream",
     "text": [
      "\r",
      "analysis: 1it [00:09,  9.73s/it]"
     ]
    },
    {
     "name": "stdout",
     "output_type": "stream",
     "text": [
      "(0/3) 00-check-basic-info.ipynb: done\n",
      "(1/3) 10-inverse-flatten.ipynb\n"
     ]
    },
    {
     "name": "stderr",
     "output_type": "stream",
     "text": [
      "\r",
      "analysis: 2it [00:19,  9.71s/it]"
     ]
    },
    {
     "name": "stdout",
     "output_type": "stream",
     "text": [
      "(1/3) 10-inverse-flatten.ipynb: done\n",
      "(2/3) 11-correlation-coefficient.ipynb\n"
     ]
    },
    {
     "name": "stderr",
     "output_type": "stream",
     "text": [
      "\r",
      "analysis: 3it [00:34, 11.98s/it]"
     ]
    },
    {
     "name": "stderr",
     "output_type": "stream",
     "text": [
      "\r",
      "analysis: 3it [00:34, 11.37s/it]"
     ]
    },
    {
     "name": "stdout",
     "output_type": "stream",
     "text": [
      "(2/3) 11-correlation-coefficient.ipynb: done\n"
     ]
    },
    {
     "name": "stderr",
     "output_type": "stream",
     "text": [
      "\n"
     ]
    }
   ],
   "source": [
    "_exec_dir(DIR_ANALYSIS, filenames_analysis, 'analysis')\n"
   ]
  },
  {
   "cell_type": "code",
   "execution_count": 10,
   "id": "cdc79a4e",
   "metadata": {
    "execution": {
     "iopub.execute_input": "2025-01-22T14:51:13.212754Z",
     "iopub.status.busy": "2025-01-22T14:51:13.212571Z",
     "iopub.status.idle": "2025-01-22T14:52:18.311846Z",
     "shell.execute_reply": "2025-01-22T14:52:18.311591Z"
    }
   },
   "outputs": [
    {
     "name": "stderr",
     "output_type": "stream",
     "text": [
      "\r",
      "analysis: 0it [00:00, ?it/s]"
     ]
    },
    {
     "name": "stdout",
     "output_type": "stream",
     "text": [
      "(0/1) 11-correlation-coefficient-R.ipynb\n"
     ]
    },
    {
     "name": "stderr",
     "output_type": "stream",
     "text": [
      "\r",
      "analysis: 1it [01:05, 65.09s/it]"
     ]
    },
    {
     "name": "stderr",
     "output_type": "stream",
     "text": [
      "\r",
      "analysis: 1it [01:05, 65.09s/it]"
     ]
    },
    {
     "name": "stdout",
     "output_type": "stream",
     "text": [
      "(0/1) 11-correlation-coefficient-R.ipynb: done\n"
     ]
    },
    {
     "name": "stderr",
     "output_type": "stream",
     "text": [
      "\n"
     ]
    }
   ],
   "source": [
    "_exec_dir_R(DIR_ANALYSIS, filenames_analysis_R, 'analysis')\n"
   ]
  }
 ],
 "metadata": {
  "kernelspec": {
   "display_name": ".venv",
   "language": "python",
   "name": "python3"
  },
  "language_info": {
   "codemirror_mode": {
    "name": "ipython",
    "version": 3
   },
   "file_extension": ".py",
   "mimetype": "text/x-python",
   "name": "python",
   "nbconvert_exporter": "python",
   "pygments_lexer": "ipython3",
   "version": "3.13.0"
  }
 },
 "nbformat": 4,
 "nbformat_minor": 5
}
