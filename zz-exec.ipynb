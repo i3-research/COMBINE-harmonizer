{
 "cells": [
  {
   "cell_type": "code",
   "execution_count": 1,
   "id": "185b7142-dd63-424b-ba73-91252fc8d61c",
   "metadata": {
    "execution": {
     "iopub.execute_input": "2025-05-15T04:28:49.060665Z",
     "iopub.status.busy": "2025-05-15T04:28:49.060538Z",
     "iopub.status.idle": "2025-05-15T04:28:51.178007Z",
     "shell.execute_reply": "2025-05-15T04:28:51.177216Z"
    }
   },
   "outputs": [],
   "source": [
    "import nbformat\n",
    "from tqdm import tqdm\n",
    "from COMBINE_harmonizer import exec_ipynb\n",
    "from COMBINE_harmonizer.constants import *\n",
    "\n",
    "import os"
   ]
  },
  {
   "cell_type": "markdown",
   "id": "b99818bb",
   "metadata": {},
   "source": [
    "## 00. Init"
   ]
  },
  {
   "cell_type": "code",
   "execution_count": 2,
   "id": "dd0bcdd0",
   "metadata": {
    "execution": {
     "iopub.execute_input": "2025-05-15T04:28:51.182173Z",
     "iopub.status.busy": "2025-05-15T04:28:51.181723Z",
     "iopub.status.idle": "2025-05-15T04:28:51.187979Z",
     "shell.execute_reply": "2025-05-15T04:28:51.187658Z"
    }
   },
   "outputs": [
    {
     "data": {
      "text/plain": [
       "'/Users/chhsiao/bch/i3/COMBINE-harmonizer'"
      ]
     },
     "execution_count": 2,
     "metadata": {},
     "output_type": "execute_result"
    }
   ],
   "source": [
    "os.getcwd()"
   ]
  },
  {
   "cell_type": "code",
   "execution_count": 3,
   "id": "d0dc53d5-e876-4d1a-bbdf-fd1026e0de6c",
   "metadata": {
    "execution": {
     "iopub.execute_input": "2025-05-15T04:28:51.190311Z",
     "iopub.status.busy": "2025-05-15T04:28:51.190163Z",
     "iopub.status.idle": "2025-05-15T04:28:51.193734Z",
     "shell.execute_reply": "2025-05-15T04:28:51.193165Z"
    }
   },
   "outputs": [],
   "source": [
    "study_dirs = [\n",
    "    STUDY_LH,\n",
    "    STUDY_OC,\n",
    "]\n",
    "\n",
    "filenames_dataset_R = [\n",
    "    '00-sas-to-csv-R.ipynb',\n",
    "]\n",
    "\n",
    "filenames_dataset = [\n",
    "    '00-spreadsheet-variables.ipynb',\n",
    "    '01-normalize.ipynb',\n",
    "    '02-normalize-values.ipynb',\n",
    "    '03-spreadsheet-variables-follow-up.ipynb',\n",
    "    '04-normalize-follow-up.ipynb',\n",
    "    '05-normalize-values-follow-up.ipynb',\n",
    "    '06-spreadsheet-variables-derived-data.ipynb',\n",
    "]\n",
    "\n",
    "filenames_merge = [\n",
    "    '00-normalize-merge-values.ipynb',\n",
    "    '01-total-modified-sarnat-scores.ipynb',\n",
    "    '02-mri-scores.ipynb',\n",
    "    '03-perinatal-sentinel-event.ipynb',\n",
    "    '04-disability-death.ipynb',\n",
    "    '05-emergency-csection.ipynb',\n",
    "    '06-apgar-scores.ipynb',\n",
    "\n",
    "    '07-to-publish.ipynb',\n",
    "    '08-length-of-stay.ipynb',\n",
    "\n",
    "    '99-to-excel.ipynb',\n",
    "]\n",
    "\n",
    "filenames_analysis = [\n",
    "    '00-check-basic-info.ipynb',\n",
    "\n",
    "    '10-numeric-flatten.ipynb',\n",
    "    '11-correlation-coefficient.ipynb',\n",
    "\n",
    "    # '20-distribution.ipynb',\n",
    "    # '21-MRI-Score-distribution.ipynb',\n",
    "    # '22-MRI-Score0-distribution.ipynb',\n",
    "]\n",
    "\n",
    "filenames_analysis_R = [\n",
    "    '11-correlation-coefficient-R.ipynb',\n",
    "]\n",
    "\n"
   ]
  },
  {
   "cell_type": "code",
   "execution_count": 4,
   "id": "7a8a74da",
   "metadata": {
    "execution": {
     "iopub.execute_input": "2025-05-15T04:28:51.195365Z",
     "iopub.status.busy": "2025-05-15T04:28:51.195253Z",
     "iopub.status.idle": "2025-05-15T04:28:51.198707Z",
     "shell.execute_reply": "2025-05-15T04:28:51.198372Z"
    }
   },
   "outputs": [],
   "source": [
    "def _exec_dir_R(the_dir: str, filenames: list[str], prompt: str):\n",
    "    root_dir = os.getcwd()\n",
    "    os.chdir(the_dir)\n",
    "    for idx, filename in tqdm(enumerate(filenames), desc=prompt):\n",
    "        print(f'({idx}/{len(filenames)}) {filename}')\n",
    "\n",
    "        if not os.path.exists(filename):\n",
    "            print(f'[WARN] ({the_dir}) filename not exists: {filename}')\n",
    "            continue\n",
    "\n",
    "        nb_out = exec_ipynb.exec_ipynb(filename, kernel_name='ir')\n",
    "\n",
    "        with open(filename, 'w') as f:\n",
    "            nbformat.write(nb_out, f)\n",
    "\n",
    "        print(f'({idx}/{len(filenames)}) {filename}: done')\n",
    "\n",
    "    os.chdir(root_dir)\n"
   ]
  },
  {
   "cell_type": "code",
   "execution_count": 5,
   "id": "739965b0",
   "metadata": {
    "execution": {
     "iopub.execute_input": "2025-05-15T04:28:51.200170Z",
     "iopub.status.busy": "2025-05-15T04:28:51.200029Z",
     "iopub.status.idle": "2025-05-15T04:28:51.202783Z",
     "shell.execute_reply": "2025-05-15T04:28:51.202522Z"
    }
   },
   "outputs": [],
   "source": [
    "def _exec_dir(the_dir: str, filenames: list[str], prompt: str):\n",
    "    root_dir = os.getcwd()\n",
    "    os.chdir(the_dir)\n",
    "    for idx, filename in tqdm(enumerate(filenames), desc=prompt):\n",
    "        print(f'({idx}/{len(filenames)}) {filename}')\n",
    "\n",
    "        if not os.path.exists(filename):\n",
    "            print(f'[WARN] ({the_dir}) filename not exists: {filename}')\n",
    "            continue\n",
    "\n",
    "        nb_out = exec_ipynb.exec_ipynb(filename)\n",
    "\n",
    "        with open(filename, 'w') as f:\n",
    "            nbformat.write(nb_out, f)\n",
    "\n",
    "        print(f'({idx}/{len(filenames)}) {filename}: done')\n",
    "\n",
    "    os.chdir(root_dir)\n"
   ]
  },
  {
   "cell_type": "markdown",
   "id": "ee0896f3",
   "metadata": {},
   "source": [
    "## 01. LH and OC"
   ]
  },
  {
   "cell_type": "code",
   "execution_count": 6,
   "id": "b4540317-8f79-4a56-b80c-5df0b2875707",
   "metadata": {
    "execution": {
     "iopub.execute_input": "2025-05-15T04:28:51.204098Z",
     "iopub.status.busy": "2025-05-15T04:28:51.203987Z",
     "iopub.status.idle": "2025-05-15T04:29:09.665885Z",
     "shell.execute_reply": "2025-05-15T04:29:09.665389Z"
    }
   },
   "outputs": [
    {
     "name": "stderr",
     "output_type": "stream",
     "text": [
      "\r",
      "LH: 0it [00:00, ?it/s]"
     ]
    },
    {
     "name": "stdout",
     "output_type": "stream",
     "text": [
      "(0/1) 00-sas-to-csv-R.ipynb\n"
     ]
    },
    {
     "name": "stderr",
     "output_type": "stream",
     "text": [
      "\r",
      "LH: 1it [00:08,  8.41s/it]"
     ]
    },
    {
     "name": "stderr",
     "output_type": "stream",
     "text": [
      "\r",
      "LH: 1it [00:08,  8.41s/it]"
     ]
    },
    {
     "name": "stderr",
     "output_type": "stream",
     "text": [
      "\n"
     ]
    },
    {
     "name": "stdout",
     "output_type": "stream",
     "text": [
      "(0/1) 00-sas-to-csv-R.ipynb: done\n"
     ]
    },
    {
     "name": "stderr",
     "output_type": "stream",
     "text": [
      "\r",
      "OC: 0it [00:00, ?it/s]"
     ]
    },
    {
     "name": "stdout",
     "output_type": "stream",
     "text": [
      "(0/1) 00-sas-to-csv-R.ipynb\n"
     ]
    },
    {
     "name": "stderr",
     "output_type": "stream",
     "text": [
      "\r",
      "OC: 1it [00:10, 10.02s/it]"
     ]
    },
    {
     "name": "stderr",
     "output_type": "stream",
     "text": [
      "\r",
      "OC: 1it [00:10, 10.02s/it]"
     ]
    },
    {
     "name": "stdout",
     "output_type": "stream",
     "text": [
      "(0/1) 00-sas-to-csv-R.ipynb: done\n"
     ]
    },
    {
     "name": "stderr",
     "output_type": "stream",
     "text": [
      "\n"
     ]
    }
   ],
   "source": [
    "for idx2, study_dir in enumerate(study_dirs):\n",
    "    _exec_dir_R(study_dir, filenames_dataset_R, f'{study_dir}')\n"
   ]
  },
  {
   "cell_type": "code",
   "execution_count": 7,
   "id": "5aa99364",
   "metadata": {
    "execution": {
     "iopub.execute_input": "2025-05-15T04:29:09.667782Z",
     "iopub.status.busy": "2025-05-15T04:29:09.667482Z",
     "iopub.status.idle": "2025-05-15T04:30:24.857879Z",
     "shell.execute_reply": "2025-05-15T04:30:24.857604Z"
    }
   },
   "outputs": [
    {
     "name": "stderr",
     "output_type": "stream",
     "text": [
      "\r",
      "LH: 0it [00:00, ?it/s]"
     ]
    },
    {
     "name": "stdout",
     "output_type": "stream",
     "text": [
      "(0/7) 00-spreadsheet-variables.ipynb\n"
     ]
    },
    {
     "name": "stderr",
     "output_type": "stream",
     "text": [
      "\r",
      "LH: 1it [00:04,  4.75s/it]"
     ]
    },
    {
     "name": "stdout",
     "output_type": "stream",
     "text": [
      "(0/7) 00-spreadsheet-variables.ipynb: done\n",
      "(1/7) 01-normalize.ipynb\n"
     ]
    },
    {
     "name": "stderr",
     "output_type": "stream",
     "text": [
      "\r",
      "LH: 2it [00:12,  6.63s/it]"
     ]
    },
    {
     "name": "stdout",
     "output_type": "stream",
     "text": [
      "(1/7) 01-normalize.ipynb: done\n",
      "(2/7) 02-normalize-values.ipynb\n"
     ]
    },
    {
     "name": "stderr",
     "output_type": "stream",
     "text": [
      "\r",
      "LH: 3it [00:22,  8.24s/it]"
     ]
    },
    {
     "name": "stdout",
     "output_type": "stream",
     "text": [
      "(2/7) 02-normalize-values.ipynb: done\n",
      "(3/7) 03-spreadsheet-variables-follow-up.ipynb\n"
     ]
    },
    {
     "name": "stderr",
     "output_type": "stream",
     "text": [
      "\r",
      "LH: 4it [00:26,  6.29s/it]"
     ]
    },
    {
     "name": "stdout",
     "output_type": "stream",
     "text": [
      "(3/7) 03-spreadsheet-variables-follow-up.ipynb: done\n",
      "(4/7) 04-normalize-follow-up.ipynb\n"
     ]
    },
    {
     "name": "stderr",
     "output_type": "stream",
     "text": [
      "\r",
      "LH: 5it [00:30,  5.57s/it]"
     ]
    },
    {
     "name": "stdout",
     "output_type": "stream",
     "text": [
      "(4/7) 04-normalize-follow-up.ipynb: done\n",
      "(5/7) 05-normalize-values-follow-up.ipynb\n"
     ]
    },
    {
     "name": "stderr",
     "output_type": "stream",
     "text": [
      "\r",
      "LH: 6it [00:35,  5.33s/it]"
     ]
    },
    {
     "name": "stderr",
     "output_type": "stream",
     "text": [
      "\r",
      "LH: 7it [00:35,  5.05s/it]"
     ]
    },
    {
     "name": "stderr",
     "output_type": "stream",
     "text": [
      "\n"
     ]
    },
    {
     "name": "stdout",
     "output_type": "stream",
     "text": [
      "(5/7) 05-normalize-values-follow-up.ipynb: done\n",
      "(6/7) 06-spreadsheet-variables-derived-data.ipynb\n",
      "[WARN] (LH) filename not exists: 06-spreadsheet-variables-derived-data.ipynb\n"
     ]
    },
    {
     "name": "stderr",
     "output_type": "stream",
     "text": [
      "\r",
      "OC: 0it [00:00, ?it/s]"
     ]
    },
    {
     "name": "stdout",
     "output_type": "stream",
     "text": [
      "(0/7) 00-spreadsheet-variables.ipynb\n"
     ]
    },
    {
     "name": "stderr",
     "output_type": "stream",
     "text": [
      "\r",
      "OC: 1it [00:03,  3.84s/it]"
     ]
    },
    {
     "name": "stdout",
     "output_type": "stream",
     "text": [
      "(0/7) 00-spreadsheet-variables.ipynb: done\n",
      "(1/7) 01-normalize.ipynb\n"
     ]
    },
    {
     "name": "stderr",
     "output_type": "stream",
     "text": [
      "\r",
      "OC: 2it [00:13,  7.16s/it]"
     ]
    },
    {
     "name": "stdout",
     "output_type": "stream",
     "text": [
      "(1/7) 01-normalize.ipynb: done\n",
      "(2/7) 02-normalize-values.ipynb\n"
     ]
    },
    {
     "name": "stderr",
     "output_type": "stream",
     "text": [
      "\r",
      "OC: 3it [00:25,  9.68s/it]"
     ]
    },
    {
     "name": "stdout",
     "output_type": "stream",
     "text": [
      "(2/7) 02-normalize-values.ipynb: done\n",
      "(3/7) 03-spreadsheet-variables-follow-up.ipynb\n"
     ]
    },
    {
     "name": "stderr",
     "output_type": "stream",
     "text": [
      "\r",
      "OC: 4it [00:29,  7.29s/it]"
     ]
    },
    {
     "name": "stdout",
     "output_type": "stream",
     "text": [
      "(3/7) 03-spreadsheet-variables-follow-up.ipynb: done\n",
      "(4/7) 04-normalize-follow-up.ipynb\n"
     ]
    },
    {
     "name": "stderr",
     "output_type": "stream",
     "text": [
      "\r",
      "OC: 5it [00:34,  6.45s/it]"
     ]
    },
    {
     "name": "stdout",
     "output_type": "stream",
     "text": [
      "(4/7) 04-normalize-follow-up.ipynb: done\n",
      "(5/7) 05-normalize-values-follow-up.ipynb\n"
     ]
    },
    {
     "name": "stderr",
     "output_type": "stream",
     "text": [
      "\r",
      "OC: 6it [00:39,  6.05s/it]"
     ]
    },
    {
     "name": "stderr",
     "output_type": "stream",
     "text": [
      "\r",
      "OC: 7it [00:39,  5.69s/it]"
     ]
    },
    {
     "name": "stdout",
     "output_type": "stream",
     "text": [
      "(5/7) 05-normalize-values-follow-up.ipynb: done\n",
      "(6/7) 06-spreadsheet-variables-derived-data.ipynb\n",
      "[WARN] (OC) filename not exists: 06-spreadsheet-variables-derived-data.ipynb\n"
     ]
    },
    {
     "name": "stderr",
     "output_type": "stream",
     "text": [
      "\n"
     ]
    }
   ],
   "source": [
    "for idx2, study_dir in enumerate(study_dirs):\n",
    "    _exec_dir(study_dir, filenames_dataset, f'{study_dir}')\n"
   ]
  },
  {
   "cell_type": "markdown",
   "id": "9f903385",
   "metadata": {},
   "source": [
    "## 02. Merged"
   ]
  },
  {
   "cell_type": "code",
   "execution_count": 8,
   "id": "b85ce2fc",
   "metadata": {
    "execution": {
     "iopub.execute_input": "2025-05-15T04:30:24.859378Z",
     "iopub.status.busy": "2025-05-15T04:30:24.859239Z",
     "iopub.status.idle": "2025-05-15T04:32:02.327548Z",
     "shell.execute_reply": "2025-05-15T04:32:02.327281Z"
    }
   },
   "outputs": [
    {
     "name": "stderr",
     "output_type": "stream",
     "text": [
      "\r",
      "merged: 0it [00:00, ?it/s]"
     ]
    },
    {
     "name": "stdout",
     "output_type": "stream",
     "text": [
      "(0/10) 00-normalize-merge-values.ipynb\n"
     ]
    },
    {
     "name": "stderr",
     "output_type": "stream",
     "text": [
      "\r",
      "merged: 1it [00:16, 16.57s/it]"
     ]
    },
    {
     "name": "stdout",
     "output_type": "stream",
     "text": [
      "(0/10) 00-normalize-merge-values.ipynb: done\n",
      "(1/10) 01-total-modified-sarnat-scores.ipynb\n"
     ]
    },
    {
     "name": "stderr",
     "output_type": "stream",
     "text": [
      "\r",
      "merged: 2it [00:20,  8.97s/it]"
     ]
    },
    {
     "name": "stdout",
     "output_type": "stream",
     "text": [
      "(1/10) 01-total-modified-sarnat-scores.ipynb: done\n",
      "(2/10) 02-mri-scores.ipynb\n"
     ]
    },
    {
     "name": "stderr",
     "output_type": "stream",
     "text": [
      "\r",
      "merged: 3it [00:25,  7.14s/it]"
     ]
    },
    {
     "name": "stdout",
     "output_type": "stream",
     "text": [
      "(2/10) 02-mri-scores.ipynb: done\n",
      "(3/10) 03-perinatal-sentinel-event.ipynb\n"
     ]
    },
    {
     "name": "stderr",
     "output_type": "stream",
     "text": [
      "\r",
      "merged: 4it [00:27,  5.32s/it]"
     ]
    },
    {
     "name": "stdout",
     "output_type": "stream",
     "text": [
      "(3/10) 03-perinatal-sentinel-event.ipynb: done\n",
      "(4/10) 04-disability-death.ipynb\n"
     ]
    },
    {
     "name": "stderr",
     "output_type": "stream",
     "text": [
      "\r",
      "merged: 5it [00:30,  4.30s/it]"
     ]
    },
    {
     "name": "stdout",
     "output_type": "stream",
     "text": [
      "(4/10) 04-disability-death.ipynb: done\n",
      "(5/10) 05-emergency-csection.ipynb\n"
     ]
    },
    {
     "name": "stderr",
     "output_type": "stream",
     "text": [
      "\r",
      "merged: 6it [00:32,  3.67s/it]"
     ]
    },
    {
     "name": "stdout",
     "output_type": "stream",
     "text": [
      "(5/10) 05-emergency-csection.ipynb: done\n",
      "(6/10) 06-apgar-scores.ipynb\n"
     ]
    },
    {
     "name": "stderr",
     "output_type": "stream",
     "text": [
      "\r",
      "merged: 7it [00:35,  3.31s/it]"
     ]
    },
    {
     "name": "stdout",
     "output_type": "stream",
     "text": [
      "(6/10) 06-apgar-scores.ipynb: done\n",
      "(7/10) 07-to-publish.ipynb\n"
     ]
    },
    {
     "name": "stderr",
     "output_type": "stream",
     "text": [
      "\r",
      "merged: 8it [00:50,  7.09s/it]"
     ]
    },
    {
     "name": "stdout",
     "output_type": "stream",
     "text": [
      "(7/10) 07-to-publish.ipynb: done\n",
      "(8/10) 08-length-of-stay.ipynb\n"
     ]
    },
    {
     "name": "stderr",
     "output_type": "stream",
     "text": [
      "\r",
      "merged: 9it [00:53,  5.74s/it]"
     ]
    },
    {
     "name": "stdout",
     "output_type": "stream",
     "text": [
      "(8/10) 08-length-of-stay.ipynb: done\n",
      "(9/10) 99-to-excel.ipynb\n"
     ]
    },
    {
     "name": "stderr",
     "output_type": "stream",
     "text": [
      "\r",
      "merged: 10it [01:37, 17.64s/it]"
     ]
    },
    {
     "name": "stderr",
     "output_type": "stream",
     "text": [
      "\r",
      "merged: 10it [01:37,  9.75s/it]"
     ]
    },
    {
     "name": "stdout",
     "output_type": "stream",
     "text": [
      "(9/10) 99-to-excel.ipynb: done\n"
     ]
    },
    {
     "name": "stderr",
     "output_type": "stream",
     "text": [
      "\n"
     ]
    }
   ],
   "source": [
    "_exec_dir(DIR_MERGE, filenames_merge, 'merged')"
   ]
  },
  {
   "cell_type": "markdown",
   "id": "56f3f333",
   "metadata": {},
   "source": [
    "## 03. Analysis"
   ]
  },
  {
   "cell_type": "code",
   "execution_count": 9,
   "id": "a3fe9ff8",
   "metadata": {
    "execution": {
     "iopub.execute_input": "2025-05-15T04:32:02.328991Z",
     "iopub.status.busy": "2025-05-15T04:32:02.328869Z",
     "iopub.status.idle": "2025-05-15T04:33:38.877841Z",
     "shell.execute_reply": "2025-05-15T04:33:38.877514Z"
    }
   },
   "outputs": [
    {
     "name": "stderr",
     "output_type": "stream",
     "text": [
      "\r",
      "analysis: 0it [00:00, ?it/s]"
     ]
    },
    {
     "name": "stdout",
     "output_type": "stream",
     "text": [
      "(0/3) 00-check-basic-info.ipynb\n"
     ]
    },
    {
     "name": "stderr",
     "output_type": "stream",
     "text": [
      "\r",
      "analysis: 1it [00:08,  8.87s/it]"
     ]
    },
    {
     "name": "stdout",
     "output_type": "stream",
     "text": [
      "(0/3) 00-check-basic-info.ipynb: done\n",
      "(1/3) 10-numeric-flatten.ipynb\n"
     ]
    },
    {
     "name": "stderr",
     "output_type": "stream",
     "text": [
      "\r",
      "analysis: 2it [00:16,  8.41s/it]"
     ]
    },
    {
     "name": "stdout",
     "output_type": "stream",
     "text": [
      "(1/3) 10-numeric-flatten.ipynb: done\n",
      "(2/3) 11-correlation-coefficient.ipynb\n"
     ]
    },
    {
     "name": "stderr",
     "output_type": "stream",
     "text": [
      "\r",
      "analysis: 3it [01:36, 40.91s/it]"
     ]
    },
    {
     "name": "stderr",
     "output_type": "stream",
     "text": [
      "\r",
      "analysis: 3it [01:36, 32.18s/it]"
     ]
    },
    {
     "name": "stdout",
     "output_type": "stream",
     "text": [
      "(2/3) 11-correlation-coefficient.ipynb: done\n"
     ]
    },
    {
     "name": "stderr",
     "output_type": "stream",
     "text": [
      "\n"
     ]
    }
   ],
   "source": [
    "_exec_dir(DIR_ANALYSIS, filenames_analysis, 'analysis')\n"
   ]
  },
  {
   "cell_type": "code",
   "execution_count": 10,
   "id": "cdc79a4e",
   "metadata": {
    "execution": {
     "iopub.execute_input": "2025-05-15T04:33:38.879577Z",
     "iopub.status.busy": "2025-05-15T04:33:38.879399Z",
     "iopub.status.idle": "2025-05-15T04:34:52.385520Z",
     "shell.execute_reply": "2025-05-15T04:34:52.385227Z"
    }
   },
   "outputs": [
    {
     "name": "stderr",
     "output_type": "stream",
     "text": [
      "\r",
      "analysis: 0it [00:00, ?it/s]"
     ]
    },
    {
     "name": "stdout",
     "output_type": "stream",
     "text": [
      "(0/1) 11-correlation-coefficient-R.ipynb\n"
     ]
    },
    {
     "name": "stderr",
     "output_type": "stream",
     "text": [
      "\r",
      "analysis: 1it [01:13, 73.50s/it]"
     ]
    },
    {
     "name": "stderr",
     "output_type": "stream",
     "text": [
      "\r",
      "analysis: 1it [01:13, 73.50s/it]"
     ]
    },
    {
     "name": "stdout",
     "output_type": "stream",
     "text": [
      "(0/1) 11-correlation-coefficient-R.ipynb: done\n"
     ]
    },
    {
     "name": "stderr",
     "output_type": "stream",
     "text": [
      "\n"
     ]
    }
   ],
   "source": [
    "_exec_dir_R(DIR_ANALYSIS, filenames_analysis_R, 'analysis')\n"
   ]
  }
 ],
 "metadata": {
  "kernelspec": {
   "display_name": ".venv",
   "language": "python",
   "name": "python3"
  },
  "language_info": {
   "codemirror_mode": {
    "name": "ipython",
    "version": 3
   },
   "file_extension": ".py",
   "mimetype": "text/x-python",
   "name": "python",
   "nbconvert_exporter": "python",
   "pygments_lexer": "ipython3",
   "version": "3.13.2"
  }
 },
 "nbformat": 4,
 "nbformat_minor": 5
}
