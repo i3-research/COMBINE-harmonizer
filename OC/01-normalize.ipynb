{
 "cells": [
  {
   "cell_type": "code",
   "execution_count": 1,
   "id": "b489f506-fad1-426c-8c20-01483f08535c",
   "metadata": {
    "execution": {
     "iopub.execute_input": "2025-05-10T00:14:14.107453Z",
     "iopub.status.busy": "2025-05-10T00:14:14.107106Z",
     "iopub.status.idle": "2025-05-10T00:14:15.411590Z",
     "shell.execute_reply": "2025-05-10T00:14:15.411293Z"
    }
   },
   "outputs": [],
   "source": [
    "import pandas as pd\n",
    "pd.options.mode.copy_on_write = True\n",
    "import warnings\n",
    "warnings.simplefilter(action='ignore', category=pd.errors.PerformanceWarning)\n",
    "\n",
    "import os\n",
    "import re\n",
    "import pydoc\n",
    "\n",
    "import COMBINE_harmonizer\n",
    "from COMBINE_harmonizer import cfg"
   ]
  },
  {
   "cell_type": "markdown",
   "id": "d4fd686c-7c99-4fca-b7d1-8bb141cd477a",
   "metadata": {},
   "source": [
    "## 00-0. Variables"
   ]
  },
  {
   "cell_type": "code",
   "execution_count": 2,
   "id": "1cdb259f",
   "metadata": {
    "execution": {
     "iopub.execute_input": "2025-05-10T00:14:15.413257Z",
     "iopub.status.busy": "2025-05-10T00:14:15.413105Z",
     "iopub.status.idle": "2025-05-10T00:14:15.414983Z",
     "shell.execute_reply": "2025-05-10T00:14:15.414735Z"
    }
   },
   "outputs": [],
   "source": [
    "study_name = COMBINE_harmonizer.STUDY_OC\n",
    "sheet_name = COMBINE_harmonizer.SHEET_MAIN\n",
    "\n",
    "root_dir = '..'"
   ]
  },
  {
   "cell_type": "code",
   "execution_count": 3,
   "id": "2221064e",
   "metadata": {
    "execution": {
     "iopub.execute_input": "2025-05-10T00:14:15.416165Z",
     "iopub.status.busy": "2025-05-10T00:14:15.416088Z",
     "iopub.status.idle": "2025-05-10T00:14:15.419640Z",
     "shell.execute_reply": "2025-05-10T00:14:15.419400Z"
    }
   },
   "outputs": [],
   "source": [
    "COMBINE_harmonizer.init(f'{root_dir}/config.yaml')\n"
   ]
  },
  {
   "cell_type": "code",
   "execution_count": 4,
   "id": "3656b37c-be73-4991-b22d-76138a285cef",
   "metadata": {
    "execution": {
     "iopub.execute_input": "2025-05-10T00:14:15.421089Z",
     "iopub.status.busy": "2025-05-10T00:14:15.420994Z",
     "iopub.status.idle": "2025-05-10T00:14:15.423227Z",
     "shell.execute_reply": "2025-05-10T00:14:15.422992Z"
    }
   },
   "outputs": [],
   "source": [
    "_FILENAMES = [\n",
    "    'oc01.csv',\n",
    "    'oc02.csv',\n",
    "    'oc04.csv',\n",
    "    'oc05.csv',\n",
    "    'oc06d.csv',\n",
    "    'oc06t.csv',\n",
    "    'oc06t120.csv',\n",
    "    'oc06t72.csv',\n",
    "    'oc07.csv',\n",
    "    'oc08.csv',\n",
    "    'oc09.csv',\n",
    "    'oc09i.csv',\n",
    "    'oc10.csv',\n",
    "    'oc11.csv',\n",
    "    'oc12.csv',\n",
    "    'oc13.csv',\n",
    "    'oc14.csv',\n",
    "    'oc15.csv',\n",
    "    'oc17.csv',\n",
    "\n",
    "    'ocmr01.csv',\n",
    "    'ocmr02.csv',\n",
    "    'ocmr03.csv',\n",
    "]\n",
    "\n",
    "_ANALYSIS_FILENAMES = [\n",
    "    'analysis.csv',\n",
    "]\n",
    "\n",
    "# intended for single record per unique-id.\n",
    "_FILENAMES_MERGE = [\n",
    "    'oc01.csv',\n",
    "    'oc02.csv',\n",
    "    'oc04.csv',\n",
    "    'oc05.csv',\n",
    "    'oc09.csv',\n",
    "    # 'oc11.csv',\n",
    "    'oc13.csv',\n",
    "\n",
    "    'analysis.csv',\n",
    "]\n",
    "\n",
    "# MRI intended for single record per unique-id.\n",
    "_MRI_FILENAMES_MERGE = [\n",
    "    'ocmr01.csv',\n",
    "    'ocmr02.csv',\n",
    "\n",
    "    'analysis.csv',\n",
    "]\n",
    "\n",
    "_MRI_FILENAME = 'ocmr03.csv'\n"
   ]
  },
  {
   "cell_type": "code",
   "execution_count": 5,
   "id": "1aa45ae9-189d-4602-83cf-6c5e702b2e64",
   "metadata": {
    "execution": {
     "iopub.execute_input": "2025-05-10T00:14:15.424422Z",
     "iopub.status.busy": "2025-05-10T00:14:15.424339Z",
     "iopub.status.idle": "2025-05-10T00:14:15.436818Z",
     "shell.execute_reply": "2025-05-10T00:14:15.436562Z"
    }
   },
   "outputs": [],
   "source": [
    "input_dir = cfg.config[f'{study_name}_dir']\n",
    "input_analysis_dir = cfg.config[f'{study_name}_analysis_dir']\n",
    "\n",
    "data_dict_filename = f\"{root_dir}/{COMBINE_harmonizer.DATA_DICTIONARY_EXCEL}\"\n",
    "out_dir = f\"{cfg.config['out_dir']}/out-{study_name}\"\n",
    "\n",
    "os.makedirs(out_dir, exist_ok=True)"
   ]
  },
  {
   "cell_type": "markdown",
   "id": "b285c802-c2b9-425b-b38d-d220775e47a9",
   "metadata": {},
   "source": [
    "### 00-1. Column Map"
   ]
  },
  {
   "cell_type": "code",
   "execution_count": 6,
   "id": "77c974c4-8083-48e9-b0ad-fd1879f6be5a",
   "metadata": {
    "execution": {
     "iopub.execute_input": "2025-05-10T00:14:15.438581Z",
     "iopub.status.busy": "2025-05-10T00:14:15.438491Z",
     "iopub.status.idle": "2025-05-10T00:14:15.836226Z",
     "shell.execute_reply": "2025-05-10T00:14:15.835938Z"
    }
   },
   "outputs": [],
   "source": [
    "df_data_dict = COMBINE_harmonizer.load_data_dict(data_dict_filename, sheet_name=sheet_name)\n",
    "all_valid_columns = list(df_data_dict[COMBINE_harmonizer.DATA_DICT_VAR_NAME])\n",
    "column_map = {each[study_name]: each[COMBINE_harmonizer.DATA_DICT_VAR_NAME] for _, each in df_data_dict.iterrows()}"
   ]
  },
  {
   "cell_type": "markdown",
   "id": "b77a20a2-6214-431c-91e1-07d5cbca7ee8",
   "metadata": {},
   "source": [
    "### 00-2. df-dict from _FILENAMES and _ANALYSIS_FILENAMES"
   ]
  },
  {
   "cell_type": "code",
   "execution_count": 7,
   "id": "929d693d-3bf8-4811-8872-f9eb8880a58c",
   "metadata": {
    "execution": {
     "iopub.execute_input": "2025-05-10T00:14:15.837884Z",
     "iopub.status.busy": "2025-05-10T00:14:15.837798Z",
     "iopub.status.idle": "2025-05-10T00:14:16.430645Z",
     "shell.execute_reply": "2025-05-10T00:14:16.429988Z"
    }
   },
   "outputs": [],
   "source": [
    "df_dict = {\n",
    "    filename: pd.read_csv(os.sep.join([input_dir, filename]), dtype='O').rename(columns=column_map)\n",
    "    for filename in _FILENAMES\n",
    "}\n",
    "\n",
    "df_analysis_dict = {filename: pd.read_csv(os.sep.join([input_analysis_dir, filename]), dtype='O').rename(columns=column_map) for filename in _ANALYSIS_FILENAMES}\n",
    "\n",
    "df_dict.update(df_analysis_dict)\n"
   ]
  },
  {
   "cell_type": "code",
   "execution_count": 8,
   "id": "bb513b12",
   "metadata": {
    "execution": {
     "iopub.execute_input": "2025-05-10T00:14:16.437358Z",
     "iopub.status.busy": "2025-05-10T00:14:16.437210Z",
     "iopub.status.idle": "2025-05-10T00:14:16.455724Z",
     "shell.execute_reply": "2025-05-10T00:14:16.455420Z"
    }
   },
   "outputs": [],
   "source": [
    "### XXX change unit from cc to cc/Kg\n",
    "columns = ['otherMedFluidIntake_ccPerKg', 'otherMedUrineOutput_ccPerKg']\n",
    "df_dict['oc08.csv'] = COMBINE_harmonizer.cc_to_cc_per_kg(df_dict['oc08.csv'], df_dict['oc05.csv'], columns, 'birthWeight_g')"
   ]
  },
  {
   "cell_type": "code",
   "execution_count": 9,
   "id": "caba3eb3",
   "metadata": {
    "execution": {
     "iopub.execute_input": "2025-05-10T00:14:16.457224Z",
     "iopub.status.busy": "2025-05-10T00:14:16.457120Z",
     "iopub.status.idle": "2025-05-10T00:14:16.459455Z",
     "shell.execute_reply": "2025-05-10T00:14:16.459239Z"
    }
   },
   "outputs": [],
   "source": [
    "# XXX treatmentAssignmentDuration_hr\n",
    "df_dict['analysis.csv'].loc[:, 'treatmentAssignmentDuration_hr'] = df_dict['analysis.csv']['treatmentAssignmentDuration_hr'].apply(lambda x: re.sub('H', '', x))"
   ]
  },
  {
   "cell_type": "markdown",
   "id": "634ab3c6",
   "metadata": {},
   "source": [
    "## 00-3. df-all and df-main"
   ]
  },
  {
   "cell_type": "code",
   "execution_count": 10,
   "id": "33f6aa12",
   "metadata": {
    "execution": {
     "iopub.execute_input": "2025-05-10T00:14:16.460751Z",
     "iopub.status.busy": "2025-05-10T00:14:16.460671Z",
     "iopub.status.idle": "2025-05-10T00:14:16.481048Z",
     "shell.execute_reply": "2025-05-10T00:14:16.480795Z"
    }
   },
   "outputs": [
    {
     "data": {
      "text/plain": [
       "(1261, 467)"
      ]
     },
     "execution_count": 10,
     "metadata": {},
     "output_type": "execute_result"
    }
   ],
   "source": [
    "df_all = None\n",
    "for idx, each_filename in enumerate(_FILENAMES_MERGE):\n",
    "    each_df = df_dict[each_filename]\n",
    "    columns = list(each_df.columns)\n",
    "    each_filename_prefix = re.sub(r'\\.csv$', '', each_filename)\n",
    "\n",
    "    if df_all is None:\n",
    "        df_all = each_df\n",
    "    else:\n",
    "        df_all = df_all.merge(each_df, on=['center', 'subjectID'], how='outer', suffixes=['', ':' + each_filename_prefix])\n",
    "\n",
    "len(df_all), len(df_all.columns)"
   ]
  },
  {
   "cell_type": "markdown",
   "id": "b0de1e18",
   "metadata": {},
   "source": [
    "### 00-3-1. neuro exam"
   ]
  },
  {
   "cell_type": "code",
   "execution_count": 11,
   "id": "0041ae0e",
   "metadata": {
    "execution": {
     "iopub.execute_input": "2025-05-10T00:14:16.482503Z",
     "iopub.status.busy": "2025-05-10T00:14:16.482410Z",
     "iopub.status.idle": "2025-05-10T00:14:16.485619Z",
     "shell.execute_reply": "2025-05-10T00:14:16.485373Z"
    }
   },
   "outputs": [],
   "source": [
    "# parse oc11\n",
    "_NEURO_EXAM_SECTION_ID_POST_NORMO = 'A'\n",
    "\n",
    "def _parse_oc11_rename_column(column: str, prefix: str) -> str:\n",
    "    if column in ['post_NeuroExamSectionID', 'post_NeuroExam', 'dischargeNeuroExam']:\n",
    "        return column\n",
    "\n",
    "    if 'NeuroExam' not in column:\n",
    "        return column\n",
    "\n",
    "    column_list = column.split('NeuroExam')\n",
    "\n",
    "    return prefix + 'NeuroExam' + column_list[1]\n",
    "\n",
    "\n",
    "def _parse_oc11_rename_columns(df: pd.DataFrame, prefix: str) -> pd.DataFrame:\n",
    "    column_map = {each: _parse_oc11_rename_column(each, prefix) for each in df.columns}\n",
    "    return df.rename(columns=column_map)\n",
    "\n",
    "\n",
    "def _parse_oc11() -> pd.DataFrame:\n",
    "    df_oc11 = df_dict['oc11.csv'].copy()\n",
    "    is_post = df_oc11['post_NeuroExamSectionID'] == _NEURO_EXAM_SECTION_ID_POST_NORMO\n",
    "    df_oc11_post = df_oc11[is_post]\n",
    "    df_oc11_discharge = df_oc11[is_post == False]\n",
    "\n",
    "    df_oc11_post = _parse_oc11_rename_columns(df_oc11_post, 'post_')\n",
    "    df_oc11_discharge = _parse_oc11_rename_columns(df_oc11_discharge, 'discharge')\n",
    "\n",
    "    df_oc11_merge = df_oc11_post.merge(df_oc11_discharge, on=['center', 'subjectID'], how='outer')\n",
    "\n",
    "    return df_oc11_merge"
   ]
  },
  {
   "cell_type": "code",
   "execution_count": 12,
   "id": "ec0d1ae5",
   "metadata": {
    "execution": {
     "iopub.execute_input": "2025-05-10T00:14:16.486838Z",
     "iopub.status.busy": "2025-05-10T00:14:16.486757Z",
     "iopub.status.idle": "2025-05-10T00:14:16.491197Z",
     "shell.execute_reply": "2025-05-10T00:14:16.490988Z"
    }
   },
   "outputs": [],
   "source": [
    "df_oc11 = _parse_oc11()"
   ]
  },
  {
   "cell_type": "code",
   "execution_count": 13,
   "id": "aba55e31",
   "metadata": {
    "execution": {
     "iopub.execute_input": "2025-05-10T00:14:16.492551Z",
     "iopub.status.busy": "2025-05-10T00:14:16.492469Z",
     "iopub.status.idle": "2025-05-10T00:14:16.494625Z",
     "shell.execute_reply": "2025-05-10T00:14:16.494431Z"
    }
   },
   "outputs": [
    {
     "data": {
      "text/plain": [
       "Index(['subjectID', 'post_NeuroExamSectionID_x', 'dischargeNeuroExam_x',\n",
       "       'post_NeuroExamTone', 'post_NeuroExamRespiration',\n",
       "       'post_NeuroExamSeizure', 'post_NeuroExamSedate',\n",
       "       'post_NeuroExamClonusSustained', 'post_NeuroExamFistedHand',\n",
       "       'post_NeuroExamAbnormalMovement', 'post_NeuroExamGagReflexAbsent',\n",
       "       'post_NeuroExamAsymTonicNeckReflex', 'OC11ENAM_x', 'REC_CMP_x',\n",
       "       'center', 'post_NeuroExamStatus', 'post_NeuroExamDate',\n",
       "       'post_NeuroExamTime', 'post_NeuroExamLevelConsciousness',\n",
       "       'post_NeuroExamSpontaneousActivity', 'post_NeuroExamPosture',\n",
       "       'post_NeuroExamSuck', 'post_NeuroExamMoro', 'post_NeuroExamPupils',\n",
       "       'post_NeuroExamHeartRate', 'CMP_DATE_x', 'CRT_DATE_x',\n",
       "       'post_NeuroExamSectionID_y', 'dischargeNeuroExam_y',\n",
       "       'dischargeNeuroExamTone', 'dischargeNeuroExamRespiration',\n",
       "       'dischargeNeuroExamSeizure', 'dischargeNeuroExamSedate',\n",
       "       'dischargeNeuroExamClonusSustained', 'dischargeNeuroExamFistedHand',\n",
       "       'dischargeNeuroExamAbnormalMovement',\n",
       "       'dischargeNeuroExamGagReflexAbsent',\n",
       "       'dischargeNeuroExamAsymTonicNeckReflex', 'OC11ENAM_y', 'REC_CMP_y',\n",
       "       'dischargeNeuroExamStatus', 'dischargeNeuroExamDate',\n",
       "       'dischargeNeuroExamTime', 'dischargeNeuroExamLevelConsciousness',\n",
       "       'dischargeNeuroExamSpontaneousActivity', 'dischargeNeuroExamPosture',\n",
       "       'dischargeNeuroExamSuck', 'dischargeNeuroExamMoro',\n",
       "       'dischargeNeuroExamPupils', 'dischargeNeuroExamHeartRate', 'CMP_DATE_y',\n",
       "       'CRT_DATE_y'],\n",
       "      dtype='object')"
      ]
     },
     "execution_count": 13,
     "metadata": {},
     "output_type": "execute_result"
    }
   ],
   "source": [
    "df_oc11.columns"
   ]
  },
  {
   "cell_type": "markdown",
   "id": "1f47f6af",
   "metadata": {},
   "source": [
    "#### 00-3-1-1. check df_oc11"
   ]
  },
  {
   "cell_type": "code",
   "execution_count": 14,
   "id": "d889e592",
   "metadata": {
    "execution": {
     "iopub.execute_input": "2025-05-10T00:14:16.495827Z",
     "iopub.status.busy": "2025-05-10T00:14:16.495752Z",
     "iopub.status.idle": "2025-05-10T00:14:16.501265Z",
     "shell.execute_reply": "2025-05-10T00:14:16.501053Z"
    }
   },
   "outputs": [
    {
     "data": {
      "text/html": [
       "<div>\n",
       "<style scoped>\n",
       "    .dataframe tbody tr th:only-of-type {\n",
       "        vertical-align: middle;\n",
       "    }\n",
       "\n",
       "    .dataframe tbody tr th {\n",
       "        vertical-align: top;\n",
       "    }\n",
       "\n",
       "    .dataframe thead th {\n",
       "        text-align: right;\n",
       "    }\n",
       "</style>\n",
       "<table border=\"1\" class=\"dataframe\">\n",
       "  <thead>\n",
       "    <tr style=\"text-align: right;\">\n",
       "      <th></th>\n",
       "      <th></th>\n",
       "      <th>_count</th>\n",
       "    </tr>\n",
       "    <tr>\n",
       "      <th>center</th>\n",
       "      <th>subjectID</th>\n",
       "      <th></th>\n",
       "    </tr>\n",
       "  </thead>\n",
       "  <tbody>\n",
       "  </tbody>\n",
       "</table>\n",
       "</div>"
      ],
      "text/plain": [
       "Empty DataFrame\n",
       "Columns: [_count]\n",
       "Index: []"
      ]
     },
     "execution_count": 14,
     "metadata": {},
     "output_type": "execute_result"
    }
   ],
   "source": [
    "df_oc11_groupby = df_oc11.groupby(['center', 'subjectID']).agg(_count=('subjectID', 'count'))\n",
    "is_invalid = df_oc11_groupby['_count'] > 1\n",
    "df_oc11_groupby[is_invalid]"
   ]
  },
  {
   "cell_type": "markdown",
   "id": "e69b1804",
   "metadata": {},
   "source": [
    "#### 00-3-1-2. check empty cells"
   ]
  },
  {
   "cell_type": "code",
   "execution_count": 15,
   "id": "dd8830c3",
   "metadata": {
    "execution": {
     "iopub.execute_input": "2025-05-10T00:14:16.502602Z",
     "iopub.status.busy": "2025-05-10T00:14:16.502516Z",
     "iopub.status.idle": "2025-05-10T00:14:16.508134Z",
     "shell.execute_reply": "2025-05-10T00:14:16.507881Z"
    }
   },
   "outputs": [
    {
     "name": "stdout",
     "output_type": "stream",
     "text": [
      "(0/52) column: subjectID (364 / 0)\n",
      "(1/52) column: post_NeuroExamSectionID_x (357 / 7)\n",
      "(2/52) column: dischargeNeuroExam_x (357 / 7)\n",
      "(3/52) column: post_NeuroExamTone (308 / 56)\n",
      "(4/52) column: post_NeuroExamRespiration (308 / 56)\n",
      "(5/52) column: post_NeuroExamSeizure (308 / 56)\n",
      "(6/52) column: post_NeuroExamSedate (308 / 56)\n",
      "(7/52) column: post_NeuroExamClonusSustained (308 / 56)\n",
      "(8/52) column: post_NeuroExamFistedHand (308 / 56)\n",
      "(9/52) column: post_NeuroExamAbnormalMovement (308 / 56)\n",
      "(10/52) column: post_NeuroExamGagReflexAbsent (308 / 56)\n",
      "(11/52) column: post_NeuroExamAsymTonicNeckReflex (0 / 364)\n",
      "(12/52) column: OC11ENAM_x (308 / 56)\n",
      "(13/52) column: REC_CMP_x (357 / 7)\n",
      "(14/52) column: center (364 / 0)\n",
      "(15/52) column: post_NeuroExamStatus (0 / 364)\n",
      "(16/52) column: post_NeuroExamDate (308 / 56)\n",
      "(17/52) column: post_NeuroExamTime (307 / 57)\n",
      "(18/52) column: post_NeuroExamLevelConsciousness (308 / 56)\n",
      "(19/52) column: post_NeuroExamSpontaneousActivity (308 / 56)\n",
      "(20/52) column: post_NeuroExamPosture (307 / 57)\n",
      "(21/52) column: post_NeuroExamSuck (306 / 58)\n",
      "(22/52) column: post_NeuroExamMoro (289 / 75)\n",
      "(23/52) column: post_NeuroExamPupils (290 / 74)\n",
      "(24/52) column: post_NeuroExamHeartRate (306 / 58)\n",
      "(25/52) column: CMP_DATE_x (357 / 7)\n",
      "(26/52) column: CRT_DATE_x (357 / 7)\n",
      "(27/52) column: post_NeuroExamSectionID_y (358 / 6)\n",
      "(28/52) column: dischargeNeuroExam_y (358 / 6)\n",
      "(29/52) column: dischargeNeuroExamTone (333 / 31)\n",
      "(30/52) column: dischargeNeuroExamRespiration (333 / 31)\n",
      "(31/52) column: dischargeNeuroExamSeizure (333 / 31)\n",
      "(32/52) column: dischargeNeuroExamSedate (333 / 31)\n",
      "(33/52) column: dischargeNeuroExamClonusSustained (333 / 31)\n",
      "(34/52) column: dischargeNeuroExamFistedHand (333 / 31)\n",
      "(35/52) column: dischargeNeuroExamAbnormalMovement (333 / 31)\n",
      "(36/52) column: dischargeNeuroExamGagReflexAbsent (333 / 31)\n",
      "(37/52) column: dischargeNeuroExamAsymTonicNeckReflex (328 / 36)\n",
      "(38/52) column: OC11ENAM_y (333 / 31)\n",
      "(39/52) column: REC_CMP_y (358 / 6)\n",
      "(40/52) column: dischargeNeuroExamStatus (331 / 33)\n",
      "(41/52) column: dischargeNeuroExamDate (333 / 31)\n",
      "(42/52) column: dischargeNeuroExamTime (326 / 38)\n",
      "(43/52) column: dischargeNeuroExamLevelConsciousness (333 / 31)\n",
      "(44/52) column: dischargeNeuroExamSpontaneousActivity (332 / 32)\n",
      "(45/52) column: dischargeNeuroExamPosture (332 / 32)\n",
      "(46/52) column: dischargeNeuroExamSuck (332 / 32)\n",
      "(47/52) column: dischargeNeuroExamMoro (330 / 34)\n",
      "(48/52) column: dischargeNeuroExamPupils (328 / 36)\n",
      "(49/52) column: dischargeNeuroExamHeartRate (332 / 32)\n",
      "(50/52) column: CMP_DATE_y (358 / 6)\n",
      "(51/52) column: CRT_DATE_y (358 / 6)\n"
     ]
    }
   ],
   "source": [
    "COMBINE_harmonizer.check_empty(df_oc11)"
   ]
  },
  {
   "cell_type": "code",
   "execution_count": 16,
   "id": "1bfc3b45",
   "metadata": {
    "execution": {
     "iopub.execute_input": "2025-05-10T00:14:16.509363Z",
     "iopub.status.busy": "2025-05-10T00:14:16.509281Z",
     "iopub.status.idle": "2025-05-10T00:14:16.513139Z",
     "shell.execute_reply": "2025-05-10T00:14:16.512884Z"
    }
   },
   "outputs": [
    {
     "name": "stdout",
     "output_type": "stream",
     "text": [
      "(0/52) subjectID: (364/0)\n",
      "(1/52) post_NeuroExamSectionID_x: (357/7)\n",
      "(2/52) dischargeNeuroExam_x: (357/7)\n",
      "(3/52) post_NeuroExamTone: (308/56)\n",
      "(4/52) post_NeuroExamRespiration: (308/56)\n",
      "(5/52) post_NeuroExamSeizure: (308/56)\n",
      "(6/52) post_NeuroExamSedate: (308/56)\n",
      "(7/52) post_NeuroExamClonusSustained: (308/56)\n",
      "(8/52) post_NeuroExamFistedHand: (308/56)\n",
      "(9/52) post_NeuroExamAbnormalMovement: (308/56)\n",
      "(10/52) post_NeuroExamGagReflexAbsent: (308/56)\n",
      "(11/52) post_NeuroExamAsymTonicNeckReflex: (0/364)\n",
      "(12/52) OC11ENAM_x: (308/56)\n",
      "(13/52) REC_CMP_x: (357/7)\n",
      "(14/52) center: (364/0)\n",
      "(15/52) post_NeuroExamStatus: (0/364)\n",
      "(16/52) post_NeuroExamDate: (308/56)\n",
      "(17/52) post_NeuroExamTime: (307/57)\n",
      "(18/52) post_NeuroExamLevelConsciousness: (308/56)\n",
      "(19/52) post_NeuroExamSpontaneousActivity: (308/56)\n",
      "(20/52) post_NeuroExamPosture: (307/57)\n",
      "(21/52) post_NeuroExamSuck: (306/58)\n",
      "(22/52) post_NeuroExamMoro: (289/75)\n",
      "(23/52) post_NeuroExamPupils: (290/74)\n",
      "(24/52) post_NeuroExamHeartRate: (306/58)\n",
      "(25/52) CMP_DATE_x: (357/7)\n",
      "(26/52) CRT_DATE_x: (357/7)\n",
      "(27/52) post_NeuroExamSectionID_y: (358/6)\n",
      "(28/52) dischargeNeuroExam_y: (358/6)\n",
      "(29/52) dischargeNeuroExamTone: (333/31)\n",
      "(30/52) dischargeNeuroExamRespiration: (333/31)\n",
      "(31/52) dischargeNeuroExamSeizure: (333/31)\n",
      "(32/52) dischargeNeuroExamSedate: (333/31)\n",
      "(33/52) dischargeNeuroExamClonusSustained: (333/31)\n",
      "(34/52) dischargeNeuroExamFistedHand: (333/31)\n",
      "(35/52) dischargeNeuroExamAbnormalMovement: (333/31)\n",
      "(36/52) dischargeNeuroExamGagReflexAbsent: (333/31)\n",
      "(37/52) dischargeNeuroExamAsymTonicNeckReflex: (328/36)\n",
      "(38/52) OC11ENAM_y: (333/31)\n",
      "(39/52) REC_CMP_y: (358/6)\n",
      "(40/52) dischargeNeuroExamStatus: (331/33)\n",
      "(41/52) dischargeNeuroExamDate: (333/31)\n",
      "(42/52) dischargeNeuroExamTime: (326/38)\n",
      "(43/52) dischargeNeuroExamLevelConsciousness: (333/31)\n",
      "(44/52) dischargeNeuroExamSpontaneousActivity: (332/32)\n",
      "(45/52) dischargeNeuroExamPosture: (332/32)\n",
      "(46/52) dischargeNeuroExamSuck: (332/32)\n",
      "(47/52) dischargeNeuroExamMoro: (330/34)\n",
      "(48/52) dischargeNeuroExamPupils: (328/36)\n",
      "(49/52) dischargeNeuroExamHeartRate: (332/32)\n",
      "(50/52) CMP_DATE_y: (358/6)\n",
      "(51/52) CRT_DATE_y: (358/6)\n"
     ]
    }
   ],
   "source": [
    "COMBINE_harmonizer.column_info(df_oc11)"
   ]
  },
  {
   "cell_type": "markdown",
   "id": "337d86f7",
   "metadata": {},
   "source": [
    "### 00-3-2. df-main"
   ]
  },
  {
   "cell_type": "code",
   "execution_count": 17,
   "id": "7ee75ec6",
   "metadata": {
    "execution": {
     "iopub.execute_input": "2025-05-10T00:14:16.514420Z",
     "iopub.status.busy": "2025-05-10T00:14:16.514347Z",
     "iopub.status.idle": "2025-05-10T00:14:16.522419Z",
     "shell.execute_reply": "2025-05-10T00:14:16.522168Z"
    }
   },
   "outputs": [
    {
     "name": "stdout",
     "output_type": "stream",
     "text": [
      "to set main\n"
     ]
    },
    {
     "data": {
      "text/plain": [
       "(364, 517, 364, 467, 364, 52)"
      ]
     },
     "execution_count": 17,
     "metadata": {},
     "output_type": "execute_result"
    }
   ],
   "source": [
    "# main\n",
    "print('to set main')\n",
    "is_main = df_all['randomNumber'].isnull() == False\n",
    "\n",
    "df_main_from_all = df_all[is_main]\n",
    "df_main = df_main_from_all.merge(df_oc11, on=['center', 'subjectID'], how='outer', suffixes=['main', 'oc11'])\n",
    "len(df_main), len(df_main.columns), len(df_main_from_all), len(df_main_from_all.columns), len(df_oc11), len(df_oc11.columns)"
   ]
  },
  {
   "cell_type": "markdown",
   "id": "eb8ebbd9",
   "metadata": {},
   "source": [
    "## 00-4. identifier-column"
   ]
  },
  {
   "cell_type": "code",
   "execution_count": 18,
   "id": "9afbfd20",
   "metadata": {
    "execution": {
     "iopub.execute_input": "2025-05-10T00:14:16.523706Z",
     "iopub.status.busy": "2025-05-10T00:14:16.523619Z",
     "iopub.status.idle": "2025-05-10T00:14:16.526246Z",
     "shell.execute_reply": "2025-05-10T00:14:16.526022Z"
    }
   },
   "outputs": [
    {
     "data": {
      "text/plain": [
       "['center', 'subjectID']"
      ]
     },
     "execution_count": 18,
     "metadata": {},
     "output_type": "execute_result"
    }
   ],
   "source": [
    "id_columns = COMBINE_harmonizer.get_columns(\n",
    "    df_data_dict,\n",
    "    COMBINE_harmonizer.CATEGORY_PRE_INTERVENTION,\n",
    "    COMBINE_harmonizer.SUBCATEGORY_IDENTITY)\n",
    "\n",
    "id_columns"
   ]
  },
  {
   "cell_type": "markdown",
   "id": "9dcdf393",
   "metadata": {},
   "source": []
  },
  {
   "cell_type": "markdown",
   "id": "f5ba0833-5c1b-4525-b3c0-3dbebd58b374",
   "metadata": {},
   "source": [
    "## 01-02. screening"
   ]
  },
  {
   "cell_type": "code",
   "execution_count": 19,
   "id": "d8e4550f-e2f8-4612-b53a-d4a045f16d1e",
   "metadata": {
    "execution": {
     "iopub.execute_input": "2025-05-10T00:14:16.527513Z",
     "iopub.status.busy": "2025-05-10T00:14:16.527435Z",
     "iopub.status.idle": "2025-05-10T00:14:16.529858Z",
     "shell.execute_reply": "2025-05-10T00:14:16.529665Z"
    }
   },
   "outputs": [
    {
     "data": {
      "text/plain": [
       "['siteID',\n",
       " 'birthDate',\n",
       " 'birthNumber',\n",
       " 'screenComment',\n",
       " 'coreTempLess32p5CGreaterEq2Hr_e',\n",
       " 'coreTempLess33p5CGreater1Hr_e',\n",
       " 'coreTempLess34CGreater1Hr_e',\n",
       " 'first6HrCoolByClinicalProtocol_e',\n",
       " 'chromosomalAbnormality_e',\n",
       " 'majorCongenitalAnomaly_e',\n",
       " 'birthWeightLessEq1800g_e',\n",
       " 'infantUnlikelySurvive_e',\n",
       " 'first60MinAllBloodGasPHGreater7p15BaseDeficitLess10mEqPerL_e',\n",
       " 'postnatalAgeLess6HrOrGreater24Hr_e',\n",
       " 'enrolledConflictingTrial_e',\n",
       " 'first60MinAnyBloodGasPHLessEq7_i',\n",
       " 'first60MinAnyBloodGasBaseDeficitGreaterEq16mEqPerL_i',\n",
       " 'historyPerinatalEvent_i',\n",
       " 'at10MinApgarLessEq5OrVent_i',\n",
       " 'randomEligible',\n",
       " 'consentStatus',\n",
       " 'noConsentReason',\n",
       " 'noInStudyReason',\n",
       " 'random',\n",
       " 'noRandomReason',\n",
       " 'noRandomReasonText',\n",
       " 'randomDate',\n",
       " 'randomTime',\n",
       " 'ageRand_hr',\n",
       " 'randomNumber',\n",
       " 'randomTreatmentAssign',\n",
       " 'randomTreatmentReceive',\n",
       " 'treatmentBlanketType',\n",
       " 'treatmentAssignmentDuration_hr',\n",
       " 'treatmentAssignmentTemperature',\n",
       " 'usualCoolingTreatmentGroup',\n",
       " 'inOtherTrial',\n",
       " 'inOtherTrialText',\n",
       " 'consideredForHypothermia',\n",
       " 'hypothermia',\n",
       " 'noHypothermiaReason',\n",
       " 'noHypothermiaReasonOther',\n",
       " 'hypothermiaStandard',\n",
       " 'hypothermiaDeviationOther']"
      ]
     },
     "execution_count": 19,
     "metadata": {},
     "output_type": "execute_result"
    }
   ],
   "source": [
    "screening_columns = COMBINE_harmonizer.get_columns(\n",
    "    df_data_dict,\n",
    "    COMBINE_harmonizer.CATEGORY_PRE_INTERVENTION,\n",
    "    COMBINE_harmonizer.SUBCATEGORY_SCREENING)\n",
    "\n",
    "all_screening_columns = id_columns + screening_columns\n",
    "screening_columns"
   ]
  },
  {
   "cell_type": "code",
   "execution_count": 20,
   "id": "1a844abb-ff8e-45dd-99de-259b2e09b65c",
   "metadata": {
    "execution": {
     "iopub.execute_input": "2025-05-10T00:14:16.530948Z",
     "iopub.status.busy": "2025-05-10T00:14:16.530875Z",
     "iopub.status.idle": "2025-05-10T00:14:16.688316Z",
     "shell.execute_reply": "2025-05-10T00:14:16.687987Z"
    }
   },
   "outputs": [
    {
     "name": "stdout",
     "output_type": "stream",
     "text": [
      "to set screening\n",
      "(8/46) coreTempLess34CGreater1Hr_e not in df\n",
      "(15/46) postnatalAgeLess6HrOrGreater24Hr_e not in df\n",
      "(16/46) enrolledConflictingTrial_e not in df\n",
      "(24/46) noInStudyReason not in df\n",
      "(40/46) consideredForHypothermia not in df\n",
      "(41/46) hypothermia not in df\n",
      "(42/46) noHypothermiaReason not in df\n",
      "(43/46) noHypothermiaReasonOther not in df\n",
      "(44/46) hypothermiaStandard not in df\n",
      "(45/46) hypothermiaDeviationOther not in df\n",
      "(8/46) coreTempLess34CGreater1Hr_e not in df\n",
      "(15/46) postnatalAgeLess6HrOrGreater24Hr_e not in df\n",
      "(16/46) enrolledConflictingTrial_e not in df\n",
      "(24/46) noInStudyReason not in df\n",
      "(40/46) consideredForHypothermia not in df\n",
      "(41/46) hypothermia not in df\n",
      "(42/46) noHypothermiaReason not in df\n",
      "(43/46) noHypothermiaReasonOther not in df\n",
      "(44/46) hypothermiaStandard not in df\n",
      "(45/46) hypothermiaDeviationOther not in df\n"
     ]
    }
   ],
   "source": [
    "# screening\n",
    "print('to set screening')\n",
    "df_screening = COMBINE_harmonizer.valid_columns(df_all, all_screening_columns)\n",
    "df_screening = COMBINE_harmonizer.postprocess(df_screening)\n",
    "\n",
    "out_filename = os.sep.join([out_dir, '00-02-screening.csv'])\n",
    "df_screening.to_csv(out_filename, index=False)\n",
    "\n",
    "df_main_screening = COMBINE_harmonizer.valid_columns(df_main, all_screening_columns)\n",
    "df_main_screening = COMBINE_harmonizer.postprocess(df_main_screening)\n",
    "\n",
    "out_filename = os.sep.join([out_dir, '01-02-screening.csv'])\n",
    "df_main_screening.to_csv(out_filename, index=False)"
   ]
  },
  {
   "cell_type": "markdown",
   "id": "da14e155-db10-4f30-970b-9548d360b2bc",
   "metadata": {},
   "source": [
    "### 01-02-1. check screening"
   ]
  },
  {
   "cell_type": "code",
   "execution_count": 21,
   "id": "4370e2f9-f57e-45f1-af7f-1bdc97e28fe8",
   "metadata": {
    "execution": {
     "iopub.execute_input": "2025-05-10T00:14:16.689774Z",
     "iopub.status.busy": "2025-05-10T00:14:16.689690Z",
     "iopub.status.idle": "2025-05-10T00:14:16.692276Z",
     "shell.execute_reply": "2025-05-10T00:14:16.692036Z"
    }
   },
   "outputs": [
    {
     "data": {
      "text/plain": [
       "(19, 395, 1261, 1261)"
      ]
     },
     "execution_count": 21,
     "metadata": {},
     "output_type": "execute_result"
    }
   ],
   "source": [
    "len(df_screening['center'].unique()), len(df_screening['subjectID'].unique()), len(df_screening['uniqueID'].unique()), len(df_screening)"
   ]
  },
  {
   "cell_type": "code",
   "execution_count": 22,
   "id": "8e691b77-1cef-42d8-8e11-de1eefc83cbd",
   "metadata": {
    "execution": {
     "iopub.execute_input": "2025-05-10T00:14:16.693357Z",
     "iopub.status.busy": "2025-05-10T00:14:16.693283Z",
     "iopub.status.idle": "2025-05-10T00:14:16.697905Z",
     "shell.execute_reply": "2025-05-10T00:14:16.697696Z"
    }
   },
   "outputs": [
    {
     "data": {
      "text/html": [
       "<div>\n",
       "<style scoped>\n",
       "    .dataframe tbody tr th:only-of-type {\n",
       "        vertical-align: middle;\n",
       "    }\n",
       "\n",
       "    .dataframe tbody tr th {\n",
       "        vertical-align: top;\n",
       "    }\n",
       "\n",
       "    .dataframe thead th {\n",
       "        text-align: right;\n",
       "    }\n",
       "</style>\n",
       "<table border=\"1\" class=\"dataframe\">\n",
       "  <thead>\n",
       "    <tr style=\"text-align: right;\">\n",
       "      <th></th>\n",
       "      <th>_count</th>\n",
       "    </tr>\n",
       "    <tr>\n",
       "      <th>uniqueID</th>\n",
       "      <th></th>\n",
       "    </tr>\n",
       "  </thead>\n",
       "  <tbody>\n",
       "  </tbody>\n",
       "</table>\n",
       "</div>"
      ],
      "text/plain": [
       "Empty DataFrame\n",
       "Columns: [_count]\n",
       "Index: []"
      ]
     },
     "execution_count": 22,
     "metadata": {},
     "output_type": "execute_result"
    }
   ],
   "source": [
    "df_screening_groupby = df_screening.groupby(['uniqueID']).agg(_count=('uniqueID', 'count'))\n",
    "\n",
    "is_invalid = df_screening_groupby['_count'] > 1\n",
    "df_screening_groupby[is_invalid]"
   ]
  },
  {
   "cell_type": "markdown",
   "id": "1c327177-5f4e-4a84-a36c-91ac4c33e221",
   "metadata": {},
   "source": [
    "### 01-02-2. check empty cells"
   ]
  },
  {
   "cell_type": "code",
   "execution_count": 23,
   "id": "85bae1ae-6940-4dbe-a436-e6b80476b2e4",
   "metadata": {
    "execution": {
     "iopub.execute_input": "2025-05-10T00:14:16.699178Z",
     "iopub.status.busy": "2025-05-10T00:14:16.699092Z",
     "iopub.status.idle": "2025-05-10T00:14:16.705353Z",
     "shell.execute_reply": "2025-05-10T00:14:16.705127Z"
    }
   },
   "outputs": [
    {
     "name": "stdout",
     "output_type": "stream",
     "text": [
      "(0/37) column: center (1261 / 0)\n",
      "(1/37) column: subjectID (1261 / 0)\n",
      "(2/37) column: uniqueID (1261 / 0)\n",
      "(3/37) column: siteID (1261 / 0)\n",
      "(4/37) column: screenComment (204 / 1057)\n",
      "(5/37) column: birthDate (1261 / 0)\n",
      "(6/37) column: birthNumber (1261 / 0)\n",
      "(7/37) column: coreTempLess33p5CGreater1Hr_e (848 / 413)\n",
      "(8/37) column: first6HrCoolByClinicalProtocol_e (1261 / 0)\n",
      "(9/37) column: chromosomalAbnormality_e (1261 / 0)\n",
      "(10/37) column: majorCongenitalAnomaly_e (1261 / 0)\n",
      "(11/37) column: birthWeightLessEq1800g_e (1261 / 0)\n",
      "(12/37) column: infantUnlikelySurvive_e (1261 / 0)\n",
      "(13/37) column: first60MinAllBloodGasPHGreater7p15BaseDeficitLess10mEqPerL_e (1198 / 63)\n",
      "(14/37) column: first60MinAnyBloodGasPHLessEq7_i (970 / 291)\n",
      "(15/37) column: first60MinAnyBloodGasBaseDeficitGreaterEq16mEqPerL_i (933 / 328)\n",
      "(16/37) column: historyPerinatalEvent_i (301 / 960)\n",
      "(17/37) column: at10MinApgarLessEq5OrVent_i (301 / 960)\n",
      "(18/37) column: randomEligible (1261 / 0)\n",
      "(19/37) column: noConsentReason (45 / 1216)\n",
      "(20/37) column: random (364 / 897)\n",
      "(21/37) column: noRandomReasonText (0 / 1261)\n",
      "(22/37) column: randomTreatmentReceive (364 / 897)\n",
      "(23/37) column: consentStatus (514 / 747)\n",
      "(24/37) column: noRandomReason (0 / 1261)\n",
      "(25/37) column: randomDate (364 / 897)\n",
      "(26/37) column: randomTime (363 / 898)\n",
      "(27/37) column: randomNumber (364 / 897)\n",
      "(28/37) column: randomTreatmentAssign (364 / 897)\n",
      "(29/37) column: treatmentBlanketType (364 / 897)\n",
      "(30/37) column: coreTempLess32p5CGreaterEq2Hr_e (413 / 848)\n",
      "(31/37) column: inOtherTrial (364 / 897)\n",
      "(32/37) column: inOtherTrialText (8 / 1253)\n",
      "(33/37) column: treatmentAssignmentDuration_hr (364 / 897)\n",
      "(34/37) column: treatmentAssignmentTemperature (364 / 897)\n",
      "(35/37) column: ageRand_hr (363 / 898)\n",
      "(36/37) column: usualCoolingTreatmentGroup (364 / 897)\n"
     ]
    }
   ],
   "source": [
    "COMBINE_harmonizer.check_empty(df_screening)"
   ]
  },
  {
   "cell_type": "markdown",
   "id": "f8d9c1fd-7d30-4e06-a404-72ff90366dca",
   "metadata": {},
   "source": [
    "### 01-02-3. check main"
   ]
  },
  {
   "cell_type": "code",
   "execution_count": 24,
   "id": "1d36d01b-0a8b-4f6e-a515-d813c4618c0d",
   "metadata": {
    "execution": {
     "iopub.execute_input": "2025-05-10T00:14:16.706634Z",
     "iopub.status.busy": "2025-05-10T00:14:16.706548Z",
     "iopub.status.idle": "2025-05-10T00:14:16.709016Z",
     "shell.execute_reply": "2025-05-10T00:14:16.708796Z"
    }
   },
   "outputs": [
    {
     "data": {
      "text/plain": [
       "(18, 164, 364, 364)"
      ]
     },
     "execution_count": 24,
     "metadata": {},
     "output_type": "execute_result"
    }
   ],
   "source": [
    "len(df_main_screening['center'].unique()), len(df_main_screening['subjectID'].unique()), len(df_main_screening['uniqueID'].unique()), len(df_main_screening)"
   ]
  },
  {
   "cell_type": "code",
   "execution_count": 25,
   "id": "271b136d-4004-44c5-9d3f-f5e26f588909",
   "metadata": {
    "execution": {
     "iopub.execute_input": "2025-05-10T00:14:16.710171Z",
     "iopub.status.busy": "2025-05-10T00:14:16.710091Z",
     "iopub.status.idle": "2025-05-10T00:14:16.714262Z",
     "shell.execute_reply": "2025-05-10T00:14:16.714055Z"
    }
   },
   "outputs": [
    {
     "data": {
      "text/html": [
       "<div>\n",
       "<style scoped>\n",
       "    .dataframe tbody tr th:only-of-type {\n",
       "        vertical-align: middle;\n",
       "    }\n",
       "\n",
       "    .dataframe tbody tr th {\n",
       "        vertical-align: top;\n",
       "    }\n",
       "\n",
       "    .dataframe thead th {\n",
       "        text-align: right;\n",
       "    }\n",
       "</style>\n",
       "<table border=\"1\" class=\"dataframe\">\n",
       "  <thead>\n",
       "    <tr style=\"text-align: right;\">\n",
       "      <th></th>\n",
       "      <th>_count</th>\n",
       "    </tr>\n",
       "    <tr>\n",
       "      <th>uniqueID</th>\n",
       "      <th></th>\n",
       "    </tr>\n",
       "  </thead>\n",
       "  <tbody>\n",
       "  </tbody>\n",
       "</table>\n",
       "</div>"
      ],
      "text/plain": [
       "Empty DataFrame\n",
       "Columns: [_count]\n",
       "Index: []"
      ]
     },
     "execution_count": 25,
     "metadata": {},
     "output_type": "execute_result"
    }
   ],
   "source": [
    "df_main_screening_groupby = df_main_screening.groupby(['uniqueID']).agg(_count=('uniqueID', 'count'))\n",
    "\n",
    "is_invalid = df_main_screening_groupby['_count'] > 1\n",
    "df_main_screening_groupby[is_invalid]"
   ]
  },
  {
   "cell_type": "markdown",
   "id": "163fb000-06fc-4aa0-97a9-c73fa8baf7d4",
   "metadata": {},
   "source": [
    "### 01-02-4. check empty cells"
   ]
  },
  {
   "cell_type": "code",
   "execution_count": 26,
   "id": "e063a916-fdc6-489e-bd61-25e96c16f0d1",
   "metadata": {
    "execution": {
     "iopub.execute_input": "2025-05-10T00:14:16.715509Z",
     "iopub.status.busy": "2025-05-10T00:14:16.715430Z",
     "iopub.status.idle": "2025-05-10T00:14:16.720104Z",
     "shell.execute_reply": "2025-05-10T00:14:16.719880Z"
    }
   },
   "outputs": [
    {
     "name": "stdout",
     "output_type": "stream",
     "text": [
      "(0/37) column: center (364 / 0)\n",
      "(1/37) column: subjectID (364 / 0)\n",
      "(2/37) column: uniqueID (364 / 0)\n",
      "(3/37) column: siteID (364 / 0)\n",
      "(4/37) column: screenComment (48 / 316)\n",
      "(5/37) column: birthDate (364 / 0)\n",
      "(6/37) column: birthNumber (364 / 0)\n",
      "(7/37) column: coreTempLess33p5CGreater1Hr_e (269 / 95)\n",
      "(8/37) column: first6HrCoolByClinicalProtocol_e (364 / 0)\n",
      "(9/37) column: chromosomalAbnormality_e (364 / 0)\n",
      "(10/37) column: majorCongenitalAnomaly_e (364 / 0)\n",
      "(11/37) column: birthWeightLessEq1800g_e (364 / 0)\n",
      "(12/37) column: infantUnlikelySurvive_e (364 / 0)\n",
      "(13/37) column: first60MinAllBloodGasPHGreater7p15BaseDeficitLess10mEqPerL_e (351 / 13)\n",
      "(14/37) column: first60MinAnyBloodGasPHLessEq7_i (350 / 14)\n",
      "(15/37) column: first60MinAnyBloodGasBaseDeficitGreaterEq16mEqPerL_i (340 / 24)\n",
      "(16/37) column: historyPerinatalEvent_i (64 / 300)\n",
      "(17/37) column: at10MinApgarLessEq5OrVent_i (64 / 300)\n",
      "(18/37) column: randomEligible (364 / 0)\n",
      "(19/37) column: noConsentReason (0 / 364)\n",
      "(20/37) column: random (364 / 0)\n",
      "(21/37) column: noRandomReasonText (0 / 364)\n",
      "(22/37) column: randomTreatmentReceive (364 / 0)\n",
      "(23/37) column: consentStatus (364 / 0)\n",
      "(24/37) column: noRandomReason (0 / 364)\n",
      "(25/37) column: randomDate (364 / 0)\n",
      "(26/37) column: randomTime (363 / 1)\n",
      "(27/37) column: randomNumber (364 / 0)\n",
      "(28/37) column: randomTreatmentAssign (364 / 0)\n",
      "(29/37) column: treatmentBlanketType (364 / 0)\n",
      "(30/37) column: coreTempLess32p5CGreaterEq2Hr_e (95 / 269)\n",
      "(31/37) column: inOtherTrial (364 / 0)\n",
      "(32/37) column: inOtherTrialText (8 / 356)\n",
      "(33/37) column: treatmentAssignmentDuration_hr (364 / 0)\n",
      "(34/37) column: treatmentAssignmentTemperature (364 / 0)\n",
      "(35/37) column: ageRand_hr (363 / 1)\n",
      "(36/37) column: usualCoolingTreatmentGroup (364 / 0)\n"
     ]
    }
   ],
   "source": [
    "COMBINE_harmonizer.check_empty(df_main_screening)"
   ]
  },
  {
   "cell_type": "code",
   "execution_count": 27,
   "id": "fbec57c5-6953-48da-9204-c786296441b2",
   "metadata": {
    "execution": {
     "iopub.execute_input": "2025-05-10T00:14:16.721304Z",
     "iopub.status.busy": "2025-05-10T00:14:16.721222Z",
     "iopub.status.idle": "2025-05-10T00:14:16.724536Z",
     "shell.execute_reply": "2025-05-10T00:14:16.724331Z"
    }
   },
   "outputs": [
    {
     "name": "stdout",
     "output_type": "stream",
     "text": [
      "(0/37) center: (364/0)\n",
      "(1/37) subjectID: (364/0)\n",
      "(2/37) uniqueID: (364/0)\n",
      "(3/37) siteID: (364/0)\n",
      "(4/37) screenComment: (48/316)\n",
      "(5/37) birthDate: (364/0)\n",
      "(6/37) birthNumber: (364/0)\n",
      "(7/37) coreTempLess33p5CGreater1Hr_e: (269/95)\n",
      "(8/37) first6HrCoolByClinicalProtocol_e: (364/0)\n",
      "(9/37) chromosomalAbnormality_e: (364/0)\n",
      "(10/37) majorCongenitalAnomaly_e: (364/0)\n",
      "(11/37) birthWeightLessEq1800g_e: (364/0)\n",
      "(12/37) infantUnlikelySurvive_e: (364/0)\n",
      "(13/37) first60MinAllBloodGasPHGreater7p15BaseDeficitLess10mEqPerL_e: (351/13)\n",
      "(14/37) first60MinAnyBloodGasPHLessEq7_i: (350/14)\n",
      "(15/37) first60MinAnyBloodGasBaseDeficitGreaterEq16mEqPerL_i: (340/24)\n",
      "(16/37) historyPerinatalEvent_i: (64/300)\n",
      "(17/37) at10MinApgarLessEq5OrVent_i: (64/300)\n",
      "(18/37) randomEligible: (364/0)\n",
      "(19/37) noConsentReason: (0/364)\n",
      "(20/37) random: (364/0)\n",
      "(21/37) noRandomReasonText: (0/364)\n",
      "(22/37) randomTreatmentReceive: (364/0)\n",
      "(23/37) consentStatus: (364/0)\n",
      "(24/37) noRandomReason: (0/364)\n",
      "(25/37) randomDate: (364/0)\n",
      "(26/37) randomTime: (363/1)\n",
      "(27/37) randomNumber: (364/0)\n",
      "(28/37) randomTreatmentAssign: (364/0)\n",
      "(29/37) treatmentBlanketType: (364/0)\n",
      "(30/37) coreTempLess32p5CGreaterEq2Hr_e: (95/269)\n",
      "(31/37) inOtherTrial: (364/0)\n",
      "(32/37) inOtherTrialText: (8/356)\n",
      "(33/37) treatmentAssignmentDuration_hr: (364/0)\n",
      "(34/37) treatmentAssignmentTemperature: (364/0)\n",
      "(35/37) ageRand_hr: (363/1)\n",
      "(36/37) usualCoolingTreatmentGroup: (364/0)\n"
     ]
    }
   ],
   "source": [
    "COMBINE_harmonizer.column_info(df_main_screening)"
   ]
  },
  {
   "cell_type": "markdown",
   "id": "c635f0eb",
   "metadata": {},
   "source": [
    "## 01-12. Pre-intervention Neuro Exam"
   ]
  },
  {
   "cell_type": "code",
   "execution_count": 28,
   "id": "9b9fd6ae",
   "metadata": {
    "execution": {
     "iopub.execute_input": "2025-05-10T00:14:16.725698Z",
     "iopub.status.busy": "2025-05-10T00:14:16.725615Z",
     "iopub.status.idle": "2025-05-10T00:14:16.728330Z",
     "shell.execute_reply": "2025-05-10T00:14:16.728120Z"
    }
   },
   "outputs": [
    {
     "data": {
      "text/plain": [
       "['pre_NeuroExam',\n",
       " 'pre_NoNeuroExamReason',\n",
       " 'pre_NeuroExamSignModerateSevereHIE3Category',\n",
       " 'pre_NeuroExamLevelConsciousness',\n",
       " 'pre_NeuroExamSpontaneousActivity',\n",
       " 'pre_NeuroExamPosture',\n",
       " 'pre_NeuroExamTone',\n",
       " 'pre_NeuroExamSuck',\n",
       " 'pre_NeuroExamMoro',\n",
       " 'pre_NeuroExamPupils',\n",
       " 'pre_NeuroExamHeartRate',\n",
       " 'pre_NeuroExamRespiration',\n",
       " 'pre_NeuroExamLevelConsciousnessScore',\n",
       " 'pre_NeuroExamSpontaneousActivityScore',\n",
       " 'pre_NeuroExamPostureScore',\n",
       " 'pre_NeuroExamToneScore',\n",
       " 'pre_NeuroExamSuckScore',\n",
       " 'pre_NeuroExamMoroScore',\n",
       " 'pre_NeuroExamPupilsScore',\n",
       " 'pre_NeuroExamHeartRateScore',\n",
       " 'pre_NeuroExamRespirationScore',\n",
       " 'pre_NeuroExamReflexScore',\n",
       " 'pre_NeuroExamANSScore',\n",
       " 'pre_TotalModifiedSarnatScore',\n",
       " 'pre_NeuroExamDate',\n",
       " 'pre_NeuroExamTime',\n",
       " 'pre_NeuroExamSedate',\n",
       " 'pre_NeuroExamSeizure']"
      ]
     },
     "execution_count": 28,
     "metadata": {},
     "output_type": "execute_result"
    }
   ],
   "source": [
    "pre_neuro_columns = COMBINE_harmonizer.get_columns(\n",
    "    df_data_dict,\n",
    "    COMBINE_harmonizer.CATEGORY_PRE_INTERVENTION,\n",
    "    COMBINE_harmonizer.SUBCATEGORY_NEURO_EXAM)\n",
    "\n",
    "all_pre_neuro_columns = id_columns + pre_neuro_columns\n",
    "pre_neuro_columns"
   ]
  },
  {
   "cell_type": "code",
   "execution_count": 29,
   "id": "d5a0920e",
   "metadata": {
    "execution": {
     "iopub.execute_input": "2025-05-10T00:14:16.729447Z",
     "iopub.status.busy": "2025-05-10T00:14:16.729368Z",
     "iopub.status.idle": "2025-05-10T00:14:16.873226Z",
     "shell.execute_reply": "2025-05-10T00:14:16.872946Z"
    }
   },
   "outputs": [
    {
     "name": "stdout",
     "output_type": "stream",
     "text": [
      "to set pre-intervention neuro exam\n",
      "(14/30) pre_NeuroExamLevelConsciousnessScore not in df\n",
      "(15/30) pre_NeuroExamSpontaneousActivityScore not in df\n",
      "(16/30) pre_NeuroExamPostureScore not in df\n",
      "(17/30) pre_NeuroExamToneScore not in df\n",
      "(18/30) pre_NeuroExamSuckScore not in df\n",
      "(19/30) pre_NeuroExamMoroScore not in df\n",
      "(20/30) pre_NeuroExamPupilsScore not in df\n",
      "(21/30) pre_NeuroExamHeartRateScore not in df\n",
      "(22/30) pre_NeuroExamRespirationScore not in df\n",
      "(23/30) pre_NeuroExamReflexScore not in df\n",
      "(24/30) pre_NeuroExamANSScore not in df\n",
      "(25/30) pre_TotalModifiedSarnatScore not in df\n"
     ]
    },
    {
     "name": "stdout",
     "output_type": "stream",
     "text": [
      "(14/30) pre_NeuroExamLevelConsciousnessScore not in df\n",
      "(15/30) pre_NeuroExamSpontaneousActivityScore not in df\n",
      "(16/30) pre_NeuroExamPostureScore not in df\n",
      "(17/30) pre_NeuroExamToneScore not in df\n",
      "(18/30) pre_NeuroExamSuckScore not in df\n",
      "(19/30) pre_NeuroExamMoroScore not in df\n",
      "(20/30) pre_NeuroExamPupilsScore not in df\n",
      "(21/30) pre_NeuroExamHeartRateScore not in df\n",
      "(22/30) pre_NeuroExamRespirationScore not in df\n",
      "(23/30) pre_NeuroExamReflexScore not in df\n",
      "(24/30) pre_NeuroExamANSScore not in df\n",
      "(25/30) pre_TotalModifiedSarnatScore not in df\n"
     ]
    }
   ],
   "source": [
    "print('to set pre-intervention neuro exam')\n",
    "df_pre_neuro = COMBINE_harmonizer.valid_columns(df_all, all_pre_neuro_columns)\n",
    "df_pre_neuro = COMBINE_harmonizer.postprocess(df_pre_neuro)\n",
    "\n",
    "out_filename = os.sep.join([out_dir, '00-12-neuro-exam.csv'])\n",
    "df_pre_neuro.to_csv(out_filename, index=False)\n",
    "\n",
    "df_main_pre_neuro = COMBINE_harmonizer.valid_columns(df_main, all_pre_neuro_columns)\n",
    "df_main_pre_neuro = COMBINE_harmonizer.postprocess(df_main_pre_neuro)\n",
    "\n",
    "out_filename = os.sep.join([out_dir, '01-12-neuro-exam.csv'])\n",
    "df_main_pre_neuro.to_csv(out_filename, index=False)"
   ]
  },
  {
   "cell_type": "markdown",
   "id": "ef0a525e",
   "metadata": {},
   "source": [
    "### 01-12-1. check pre-intervention neuro"
   ]
  },
  {
   "cell_type": "code",
   "execution_count": 30,
   "id": "d8e69808",
   "metadata": {
    "execution": {
     "iopub.execute_input": "2025-05-10T00:14:16.874666Z",
     "iopub.status.busy": "2025-05-10T00:14:16.874581Z",
     "iopub.status.idle": "2025-05-10T00:14:16.877217Z",
     "shell.execute_reply": "2025-05-10T00:14:16.877018Z"
    }
   },
   "outputs": [
    {
     "data": {
      "text/plain": [
       "(19, 395, 1261, 1261)"
      ]
     },
     "execution_count": 30,
     "metadata": {},
     "output_type": "execute_result"
    }
   ],
   "source": [
    "len(df_pre_neuro['center'].unique()), len(df_pre_neuro['subjectID'].unique()), len(df_pre_neuro['uniqueID'].unique()), len(df_pre_neuro)"
   ]
  },
  {
   "cell_type": "code",
   "execution_count": 31,
   "id": "ea1f8dea",
   "metadata": {
    "execution": {
     "iopub.execute_input": "2025-05-10T00:14:16.878404Z",
     "iopub.status.busy": "2025-05-10T00:14:16.878329Z",
     "iopub.status.idle": "2025-05-10T00:14:16.883015Z",
     "shell.execute_reply": "2025-05-10T00:14:16.882754Z"
    }
   },
   "outputs": [
    {
     "data": {
      "text/html": [
       "<div>\n",
       "<style scoped>\n",
       "    .dataframe tbody tr th:only-of-type {\n",
       "        vertical-align: middle;\n",
       "    }\n",
       "\n",
       "    .dataframe tbody tr th {\n",
       "        vertical-align: top;\n",
       "    }\n",
       "\n",
       "    .dataframe thead th {\n",
       "        text-align: right;\n",
       "    }\n",
       "</style>\n",
       "<table border=\"1\" class=\"dataframe\">\n",
       "  <thead>\n",
       "    <tr style=\"text-align: right;\">\n",
       "      <th></th>\n",
       "      <th>_count</th>\n",
       "    </tr>\n",
       "    <tr>\n",
       "      <th>uniqueID</th>\n",
       "      <th></th>\n",
       "    </tr>\n",
       "  </thead>\n",
       "  <tbody>\n",
       "  </tbody>\n",
       "</table>\n",
       "</div>"
      ],
      "text/plain": [
       "Empty DataFrame\n",
       "Columns: [_count]\n",
       "Index: []"
      ]
     },
     "execution_count": 31,
     "metadata": {},
     "output_type": "execute_result"
    }
   ],
   "source": [
    "df_pre_neuro_groupby = df_pre_neuro.groupby(['uniqueID']).agg(_count=('uniqueID', 'count'))\n",
    "\n",
    "is_invalid = df_pre_neuro_groupby['_count'] > 1\n",
    "df_pre_neuro_groupby[is_invalid]"
   ]
  },
  {
   "cell_type": "markdown",
   "id": "3ce55427",
   "metadata": {},
   "source": [
    "### 01-12-2. check empty cells"
   ]
  },
  {
   "cell_type": "code",
   "execution_count": 32,
   "id": "5f9b1d69",
   "metadata": {
    "execution": {
     "iopub.execute_input": "2025-05-10T00:14:16.884449Z",
     "iopub.status.busy": "2025-05-10T00:14:16.884369Z",
     "iopub.status.idle": "2025-05-10T00:14:16.888361Z",
     "shell.execute_reply": "2025-05-10T00:14:16.888098Z"
    }
   },
   "outputs": [
    {
     "name": "stdout",
     "output_type": "stream",
     "text": [
      "(0/19) column: center (1261 / 0)\n",
      "(1/19) column: subjectID (1261 / 0)\n",
      "(2/19) column: uniqueID (1261 / 0)\n",
      "(3/19) column: pre_NeuroExamSeizure (882 / 379)\n",
      "(4/19) column: pre_NeuroExam (882 / 379)\n",
      "(5/19) column: pre_NeuroExamTone (797 / 464)\n",
      "(6/19) column: pre_NeuroExamRespiration (797 / 464)\n",
      "(7/19) column: pre_NeuroExamSignModerateSevereHIE3Category (797 / 464)\n",
      "(8/19) column: pre_NeuroExamSedate (797 / 464)\n",
      "(9/19) column: pre_NoNeuroExamReason (59 / 1202)\n",
      "(10/19) column: pre_NeuroExamLevelConsciousness (797 / 464)\n",
      "(11/19) column: pre_NeuroExamSpontaneousActivity (797 / 464)\n",
      "(12/19) column: pre_NeuroExamPosture (791 / 470)\n",
      "(13/19) column: pre_NeuroExamSuck (786 / 475)\n",
      "(14/19) column: pre_NeuroExamMoro (774 / 487)\n",
      "(15/19) column: pre_NeuroExamPupils (775 / 486)\n",
      "(16/19) column: pre_NeuroExamHeartRate (797 / 464)\n",
      "(17/19) column: pre_NeuroExamDate (797 / 464)\n",
      "(18/19) column: pre_NeuroExamTime (782 / 479)\n"
     ]
    }
   ],
   "source": [
    "COMBINE_harmonizer.check_empty(df_pre_neuro)"
   ]
  },
  {
   "cell_type": "markdown",
   "id": "aff5069f",
   "metadata": {},
   "source": [
    "### 01-12-3. check main-screening-neuro"
   ]
  },
  {
   "cell_type": "code",
   "execution_count": 33,
   "id": "c554676f",
   "metadata": {
    "execution": {
     "iopub.execute_input": "2025-05-10T00:14:16.889649Z",
     "iopub.status.busy": "2025-05-10T00:14:16.889572Z",
     "iopub.status.idle": "2025-05-10T00:14:16.892057Z",
     "shell.execute_reply": "2025-05-10T00:14:16.891811Z"
    }
   },
   "outputs": [
    {
     "data": {
      "text/plain": [
       "(18, 164, 364, 364)"
      ]
     },
     "execution_count": 33,
     "metadata": {},
     "output_type": "execute_result"
    }
   ],
   "source": [
    "len(df_main_pre_neuro['center'].unique()), len(df_main_pre_neuro['subjectID'].unique()), len(df_main_pre_neuro['uniqueID'].unique()), len(df_main_pre_neuro)"
   ]
  },
  {
   "cell_type": "code",
   "execution_count": 34,
   "id": "a75f0545",
   "metadata": {
    "execution": {
     "iopub.execute_input": "2025-05-10T00:14:16.893176Z",
     "iopub.status.busy": "2025-05-10T00:14:16.893098Z",
     "iopub.status.idle": "2025-05-10T00:14:16.897350Z",
     "shell.execute_reply": "2025-05-10T00:14:16.897082Z"
    }
   },
   "outputs": [
    {
     "data": {
      "text/html": [
       "<div>\n",
       "<style scoped>\n",
       "    .dataframe tbody tr th:only-of-type {\n",
       "        vertical-align: middle;\n",
       "    }\n",
       "\n",
       "    .dataframe tbody tr th {\n",
       "        vertical-align: top;\n",
       "    }\n",
       "\n",
       "    .dataframe thead th {\n",
       "        text-align: right;\n",
       "    }\n",
       "</style>\n",
       "<table border=\"1\" class=\"dataframe\">\n",
       "  <thead>\n",
       "    <tr style=\"text-align: right;\">\n",
       "      <th></th>\n",
       "      <th>_count</th>\n",
       "    </tr>\n",
       "    <tr>\n",
       "      <th>uniqueID</th>\n",
       "      <th></th>\n",
       "    </tr>\n",
       "  </thead>\n",
       "  <tbody>\n",
       "  </tbody>\n",
       "</table>\n",
       "</div>"
      ],
      "text/plain": [
       "Empty DataFrame\n",
       "Columns: [_count]\n",
       "Index: []"
      ]
     },
     "execution_count": 34,
     "metadata": {},
     "output_type": "execute_result"
    }
   ],
   "source": [
    "df_main_pre_neuro_groupby = df_main_pre_neuro.groupby(['uniqueID']).agg(_count=('uniqueID', 'count'))\n",
    "\n",
    "is_invalid = df_main_pre_neuro_groupby['_count'] > 1\n",
    "df_main_pre_neuro_groupby[is_invalid]"
   ]
  },
  {
   "cell_type": "markdown",
   "id": "773ec409",
   "metadata": {},
   "source": [
    "### 01-12-4. check empty cells"
   ]
  },
  {
   "cell_type": "code",
   "execution_count": 35,
   "id": "627f5768",
   "metadata": {
    "execution": {
     "iopub.execute_input": "2025-05-10T00:14:16.898666Z",
     "iopub.status.busy": "2025-05-10T00:14:16.898583Z",
     "iopub.status.idle": "2025-05-10T00:14:16.901838Z",
     "shell.execute_reply": "2025-05-10T00:14:16.901605Z"
    }
   },
   "outputs": [
    {
     "name": "stdout",
     "output_type": "stream",
     "text": [
      "(0/19) column: center (364 / 0)\n",
      "(1/19) column: subjectID (364 / 0)\n",
      "(2/19) column: uniqueID (364 / 0)\n",
      "(3/19) column: pre_NeuroExamSeizure (364 / 0)\n",
      "(4/19) column: pre_NeuroExam (364 / 0)\n",
      "(5/19) column: pre_NeuroExamTone (362 / 2)\n",
      "(6/19) column: pre_NeuroExamRespiration (362 / 2)\n",
      "(7/19) column: pre_NeuroExamSignModerateSevereHIE3Category (362 / 2)\n",
      "(8/19) column: pre_NeuroExamSedate (362 / 2)\n",
      "(9/19) column: pre_NoNeuroExamReason (2 / 362)\n",
      "(10/19) column: pre_NeuroExamLevelConsciousness (362 / 2)\n",
      "(11/19) column: pre_NeuroExamSpontaneousActivity (362 / 2)\n",
      "(12/19) column: pre_NeuroExamPosture (360 / 4)\n",
      "(13/19) column: pre_NeuroExamSuck (357 / 7)\n",
      "(14/19) column: pre_NeuroExamMoro (348 / 16)\n",
      "(15/19) column: pre_NeuroExamPupils (351 / 13)\n",
      "(16/19) column: pre_NeuroExamHeartRate (362 / 2)\n",
      "(17/19) column: pre_NeuroExamDate (362 / 2)\n",
      "(18/19) column: pre_NeuroExamTime (361 / 3)\n"
     ]
    }
   ],
   "source": [
    "COMBINE_harmonizer.check_empty(df_main_pre_neuro)"
   ]
  },
  {
   "cell_type": "code",
   "execution_count": 36,
   "id": "f09f9332",
   "metadata": {
    "execution": {
     "iopub.execute_input": "2025-05-10T00:14:16.903010Z",
     "iopub.status.busy": "2025-05-10T00:14:16.902916Z",
     "iopub.status.idle": "2025-05-10T00:14:16.905481Z",
     "shell.execute_reply": "2025-05-10T00:14:16.905220Z"
    }
   },
   "outputs": [
    {
     "name": "stdout",
     "output_type": "stream",
     "text": [
      "(0/19) center: (364/0)\n",
      "(1/19) subjectID: (364/0)\n",
      "(2/19) uniqueID: (364/0)\n",
      "(3/19) pre_NeuroExamSeizure: (364/0)\n",
      "(4/19) pre_NeuroExam: (364/0)\n",
      "(5/19) pre_NeuroExamTone: (362/2)\n",
      "(6/19) pre_NeuroExamRespiration: (362/2)\n",
      "(7/19) pre_NeuroExamSignModerateSevereHIE3Category: (362/2)\n",
      "(8/19) pre_NeuroExamSedate: (362/2)\n",
      "(9/19) pre_NoNeuroExamReason: (2/362)\n",
      "(10/19) pre_NeuroExamLevelConsciousness: (362/2)\n",
      "(11/19) pre_NeuroExamSpontaneousActivity: (362/2)\n",
      "(12/19) pre_NeuroExamPosture: (360/4)\n",
      "(13/19) pre_NeuroExamSuck: (357/7)\n",
      "(14/19) pre_NeuroExamMoro: (348/16)\n",
      "(15/19) pre_NeuroExamPupils: (351/13)\n",
      "(16/19) pre_NeuroExamHeartRate: (362/2)\n",
      "(17/19) pre_NeuroExamDate: (362/2)\n",
      "(18/19) pre_NeuroExamTime: (361/3)\n"
     ]
    }
   ],
   "source": [
    "COMBINE_harmonizer.column_info(df_main_pre_neuro)"
   ]
  },
  {
   "cell_type": "markdown",
   "id": "df092edb",
   "metadata": {},
   "source": [
    "## 01-03. Maternal Demographics"
   ]
  },
  {
   "cell_type": "code",
   "execution_count": 37,
   "id": "2e45efcd-f079-4f4b-90ba-731afb0f8c6a",
   "metadata": {
    "execution": {
     "iopub.execute_input": "2025-05-10T00:14:16.906821Z",
     "iopub.status.busy": "2025-05-10T00:14:16.906720Z",
     "iopub.status.idle": "2025-05-10T00:14:16.909303Z",
     "shell.execute_reply": "2025-05-10T00:14:16.909098Z"
    }
   },
   "outputs": [
    {
     "data": {
      "text/plain": [
       "['motherAge_year',\n",
       " 'motherRace',\n",
       " 'motherRaceOther1',\n",
       " 'motherRaceOther2',\n",
       " 'motherRaceOther3',\n",
       " 'motherRaceOther4',\n",
       " 'motherRaceOther5',\n",
       " 'motherRaceOther6',\n",
       " 'motherRace2',\n",
       " 'motherEthnicity',\n",
       " 'motherMaritalStatus',\n",
       " 'motherEducation',\n",
       " 'motherEducation2',\n",
       " 'motherInsurance',\n",
       " 'motherInsurancePublic']"
      ]
     },
     "execution_count": 37,
     "metadata": {},
     "output_type": "execute_result"
    }
   ],
   "source": [
    "maternal_demographics_columns = COMBINE_harmonizer.get_columns(\n",
    "    df_data_dict,\n",
    "    COMBINE_harmonizer.CATEGORY_PRE_INTERVENTION,\n",
    "    COMBINE_harmonizer.SUBCATEGORY_MATERNAL_DEMOGRAPHICS)\n",
    "\n",
    "all_maternal_demographics_columns = id_columns + maternal_demographics_columns\n",
    "maternal_demographics_columns"
   ]
  },
  {
   "cell_type": "code",
   "execution_count": 38,
   "id": "e6231d98",
   "metadata": {
    "execution": {
     "iopub.execute_input": "2025-05-10T00:14:16.910434Z",
     "iopub.status.busy": "2025-05-10T00:14:16.910347Z",
     "iopub.status.idle": "2025-05-10T00:14:16.971392Z",
     "shell.execute_reply": "2025-05-10T00:14:16.971100Z"
    }
   },
   "outputs": [
    {
     "name": "stdout",
     "output_type": "stream",
     "text": [
      "to set maternal demographics\n"
     ]
    }
   ],
   "source": [
    "print('to set maternal demographics')\n",
    "df_maternal_demographics = COMBINE_harmonizer.valid_columns(df_main, all_maternal_demographics_columns)\n",
    "df_maternal_demographics = COMBINE_harmonizer.postprocess(df_maternal_demographics)\n",
    "\n",
    "out_filename = os.sep.join([out_dir, '01-03-maternal-demographics.csv'])\n",
    "df_maternal_demographics.to_csv(out_filename, index=False)"
   ]
  },
  {
   "cell_type": "markdown",
   "id": "578a20ea",
   "metadata": {},
   "source": [
    "### 01-03-2. check empty cells"
   ]
  },
  {
   "cell_type": "code",
   "execution_count": 39,
   "id": "ee56cb95",
   "metadata": {
    "execution": {
     "iopub.execute_input": "2025-05-10T00:14:16.972812Z",
     "iopub.status.busy": "2025-05-10T00:14:16.972728Z",
     "iopub.status.idle": "2025-05-10T00:14:16.976361Z",
     "shell.execute_reply": "2025-05-10T00:14:16.976153Z"
    }
   },
   "outputs": [
    {
     "name": "stdout",
     "output_type": "stream",
     "text": [
      "(0/18) column: center (364 / 0)\n",
      "(1/18) column: subjectID (364 / 0)\n",
      "(2/18) column: uniqueID (364 / 0)\n",
      "(3/18) column: motherAge_year (364 / 0)\n",
      "(4/18) column: motherRace (361 / 3)\n",
      "(5/18) column: motherRaceOther1 (1 / 363)\n",
      "(6/18) column: motherRaceOther2 (1 / 363)\n",
      "(7/18) column: motherRaceOther3 (0 / 364)\n",
      "(8/18) column: motherRaceOther4 (0 / 364)\n",
      "(9/18) column: motherRaceOther5 (0 / 364)\n",
      "(10/18) column: motherRaceOther6 (0 / 364)\n",
      "(11/18) column: motherEthnicity (364 / 0)\n",
      "(12/18) column: motherMaritalStatus (364 / 0)\n",
      "(13/18) column: motherEducation (363 / 1)\n",
      "(14/18) column: motherInsurance (362 / 2)\n",
      "(15/18) column: motherEducation2 (313 / 51)\n",
      "(16/18) column: motherInsurancePublic (359 / 5)\n",
      "(17/18) column: motherRace2 (358 / 6)\n"
     ]
    }
   ],
   "source": [
    "COMBINE_harmonizer.check_empty(df_maternal_demographics)"
   ]
  },
  {
   "cell_type": "code",
   "execution_count": 40,
   "id": "81bb40bb",
   "metadata": {
    "execution": {
     "iopub.execute_input": "2025-05-10T00:14:16.977506Z",
     "iopub.status.busy": "2025-05-10T00:14:16.977417Z",
     "iopub.status.idle": "2025-05-10T00:14:16.979706Z",
     "shell.execute_reply": "2025-05-10T00:14:16.979513Z"
    }
   },
   "outputs": [
    {
     "name": "stdout",
     "output_type": "stream",
     "text": [
      "(0/18) center: (364/0)\n",
      "(1/18) subjectID: (364/0)\n",
      "(2/18) uniqueID: (364/0)\n",
      "(3/18) motherAge_year: (364/0)\n",
      "(4/18) motherRace: (361/3)\n",
      "(5/18) motherRaceOther1: (1/363)\n",
      "(6/18) motherRaceOther2: (1/363)\n",
      "(7/18) motherRaceOther3: (0/364)\n",
      "(8/18) motherRaceOther4: (0/364)\n",
      "(9/18) motherRaceOther5: (0/364)\n",
      "(10/18) motherRaceOther6: (0/364)\n",
      "(11/18) motherEthnicity: (364/0)\n",
      "(12/18) motherMaritalStatus: (364/0)\n",
      "(13/18) motherEducation: (363/1)\n",
      "(14/18) motherInsurance: (362/2)\n",
      "(15/18) motherEducation2: (313/51)\n",
      "(16/18) motherInsurancePublic: (359/5)\n",
      "(17/18) motherRace2: (358/6)\n"
     ]
    }
   ],
   "source": [
    "COMBINE_harmonizer.column_info(df_maternal_demographics)"
   ]
  },
  {
   "cell_type": "markdown",
   "id": "fe992c0d",
   "metadata": {},
   "source": [
    "## 01-04. Pregnancy History"
   ]
  },
  {
   "cell_type": "code",
   "execution_count": 41,
   "id": "80a4542f",
   "metadata": {
    "execution": {
     "iopub.execute_input": "2025-05-10T00:14:16.981103Z",
     "iopub.status.busy": "2025-05-10T00:14:16.981006Z",
     "iopub.status.idle": "2025-05-10T00:14:16.983809Z",
     "shell.execute_reply": "2025-05-10T00:14:16.983338Z"
    }
   },
   "outputs": [
    {
     "data": {
      "text/plain": [
       "['gravida',\n",
       " 'parity',\n",
       " 'multipleBirth',\n",
       " 'numFetus',\n",
       " 'prenatalCare',\n",
       " 'hypertensionEclampsia',\n",
       " 'antepartumHemorrhage',\n",
       " 'thyroidMalfunction',\n",
       " 'diabetes']"
      ]
     },
     "execution_count": 41,
     "metadata": {},
     "output_type": "execute_result"
    }
   ],
   "source": [
    "pregnancy_history_columns = COMBINE_harmonizer.get_columns(\n",
    "    df_data_dict,\n",
    "    COMBINE_harmonizer.CATEGORY_PRE_INTERVENTION,\n",
    "    COMBINE_harmonizer.SUBCATEGORY_PREGNANCY_HISTORY)\n",
    "\n",
    "all_pregnancy_history_columns = id_columns + pregnancy_history_columns\n",
    "pregnancy_history_columns"
   ]
  },
  {
   "cell_type": "code",
   "execution_count": 42,
   "id": "f95803a1",
   "metadata": {
    "execution": {
     "iopub.execute_input": "2025-05-10T00:14:16.985106Z",
     "iopub.status.busy": "2025-05-10T00:14:16.985009Z",
     "iopub.status.idle": "2025-05-10T00:14:17.047094Z",
     "shell.execute_reply": "2025-05-10T00:14:17.045895Z"
    }
   },
   "outputs": [
    {
     "name": "stdout",
     "output_type": "stream",
     "text": [
      "to set pregnancy history\n"
     ]
    }
   ],
   "source": [
    "print('to set pregnancy history')\n",
    "df_pregnancy_history = COMBINE_harmonizer.valid_columns(df_main, all_pregnancy_history_columns)\n",
    "df_pregnancy_history = COMBINE_harmonizer.postprocess(df_pregnancy_history)\n",
    "\n",
    "out_filename = os.sep.join([out_dir, '01-04-pregnancy-history.csv'])\n",
    "df_pregnancy_history.to_csv(out_filename, index=False)"
   ]
  },
  {
   "cell_type": "markdown",
   "id": "7364116c",
   "metadata": {},
   "source": [
    "### 01-04-2. check empty cells"
   ]
  },
  {
   "cell_type": "code",
   "execution_count": 43,
   "id": "bab26696",
   "metadata": {
    "execution": {
     "iopub.execute_input": "2025-05-10T00:14:17.050432Z",
     "iopub.status.busy": "2025-05-10T00:14:17.050112Z",
     "iopub.status.idle": "2025-05-10T00:14:17.056541Z",
     "shell.execute_reply": "2025-05-10T00:14:17.056262Z"
    }
   },
   "outputs": [
    {
     "name": "stdout",
     "output_type": "stream",
     "text": [
      "(0/12) column: center (364 / 0)\n",
      "(1/12) column: subjectID (364 / 0)\n",
      "(2/12) column: uniqueID (364 / 0)\n",
      "(3/12) column: multipleBirth (364 / 0)\n",
      "(4/12) column: prenatalCare (364 / 0)\n",
      "(5/12) column: hypertensionEclampsia (364 / 0)\n",
      "(6/12) column: antepartumHemorrhage (364 / 0)\n",
      "(7/12) column: thyroidMalfunction (364 / 0)\n",
      "(8/12) column: diabetes (364 / 0)\n",
      "(9/12) column: gravida (364 / 0)\n",
      "(10/12) column: parity (364 / 0)\n",
      "(11/12) column: numFetus (10 / 354)\n"
     ]
    }
   ],
   "source": [
    "COMBINE_harmonizer.check_empty(df_pregnancy_history)"
   ]
  },
  {
   "cell_type": "code",
   "execution_count": 44,
   "id": "31134a9a",
   "metadata": {
    "execution": {
     "iopub.execute_input": "2025-05-10T00:14:17.057869Z",
     "iopub.status.busy": "2025-05-10T00:14:17.057761Z",
     "iopub.status.idle": "2025-05-10T00:14:17.059927Z",
     "shell.execute_reply": "2025-05-10T00:14:17.059679Z"
    }
   },
   "outputs": [
    {
     "name": "stdout",
     "output_type": "stream",
     "text": [
      "(0/12) center: (364/0)\n",
      "(1/12) subjectID: (364/0)\n",
      "(2/12) uniqueID: (364/0)\n",
      "(3/12) multipleBirth: (364/0)\n",
      "(4/12) prenatalCare: (364/0)\n",
      "(5/12) hypertensionEclampsia: (364/0)\n",
      "(6/12) antepartumHemorrhage: (364/0)\n",
      "(7/12) thyroidMalfunction: (364/0)\n",
      "(8/12) diabetes: (364/0)\n",
      "(9/12) gravida: (364/0)\n",
      "(10/12) parity: (364/0)\n",
      "(11/12) numFetus: (10/354)\n"
     ]
    }
   ],
   "source": [
    "COMBINE_harmonizer.column_info(df_pregnancy_history)"
   ]
  },
  {
   "cell_type": "markdown",
   "id": "562c73be",
   "metadata": {},
   "source": [
    "## 01-05. Labor Delivery"
   ]
  },
  {
   "cell_type": "code",
   "execution_count": 45,
   "id": "ca7bfdce",
   "metadata": {
    "execution": {
     "iopub.execute_input": "2025-05-10T00:14:17.061322Z",
     "iopub.status.busy": "2025-05-10T00:14:17.061220Z",
     "iopub.status.idle": "2025-05-10T00:14:17.064033Z",
     "shell.execute_reply": "2025-05-10T00:14:17.063835Z"
    }
   },
   "outputs": [
    {
     "data": {
      "text/plain": [
       "['maternalAdmissionDate',\n",
       " 'maternalAdmissionTime',\n",
       " 'ruptureDate',\n",
       " 'ruptureTime',\n",
       " 'ruptureGreater18Hr',\n",
       " 'ruptureBeforeDelivery',\n",
       " 'labor',\n",
       " 'laborOnsetDate',\n",
       " 'laborOnsetTime',\n",
       " 'deliveryMode',\n",
       " 'fetalDecelerate',\n",
       " 'cordMishap',\n",
       " 'uterineRupture',\n",
       " 'shoulderDystocia',\n",
       " 'placentalProblem',\n",
       " 'maternalHemorrhage',\n",
       " 'maternalTrauma',\n",
       " 'maternalCardioRespiratoryArrest',\n",
       " 'maternalSeizure',\n",
       " 'perinatalSentinelEvent',\n",
       " 'pyrexiaGreater37p6C',\n",
       " 'chorioamnionitis',\n",
       " 'placentalPathologyPerformed',\n",
       " 'histologicChorioamionitis',\n",
       " 'laborAntibiotics',\n",
       " 'laborAntibioticsCode1',\n",
       " 'laborAntibioticsCode2',\n",
       " 'laborAntibioticsCode3',\n",
       " 'laborAntibioticsCode4',\n",
       " 'laborAntibioticsCode5',\n",
       " 'laborAntibioticsCode6',\n",
       " 'emergencyCSection']"
      ]
     },
     "execution_count": 45,
     "metadata": {},
     "output_type": "execute_result"
    }
   ],
   "source": [
    "labor_delivery_columns = COMBINE_harmonizer.get_columns(\n",
    "    df_data_dict,\n",
    "    COMBINE_harmonizer.CATEGORY_PRE_INTERVENTION,\n",
    "    COMBINE_harmonizer.SUBCATEGORY_LABOR_AND_DELIVERY)\n",
    "\n",
    "all_labor_delivery_columns = id_columns + labor_delivery_columns\n",
    "labor_delivery_columns"
   ]
  },
  {
   "cell_type": "code",
   "execution_count": 46,
   "id": "64ce8851",
   "metadata": {
    "execution": {
     "iopub.execute_input": "2025-05-10T00:14:17.065218Z",
     "iopub.status.busy": "2025-05-10T00:14:17.065113Z",
     "iopub.status.idle": "2025-05-10T00:14:17.128537Z",
     "shell.execute_reply": "2025-05-10T00:14:17.127694Z"
    }
   },
   "outputs": [
    {
     "name": "stdout",
     "output_type": "stream",
     "text": [
      "to set labor delivery\n",
      "(8/34) labor not in df\n",
      "(9/34) laborOnsetDate not in df\n",
      "(10/34) laborOnsetTime not in df\n"
     ]
    }
   ],
   "source": [
    "print('to set labor delivery')\n",
    "df_labor_delivery = COMBINE_harmonizer.valid_columns(df_main, all_labor_delivery_columns)\n",
    "df_labor_delivery = COMBINE_harmonizer.postprocess(df_labor_delivery)\n",
    "\n",
    "out_filename = os.sep.join([out_dir, '01-05-labor-delivery.csv'])\n",
    "df_labor_delivery.to_csv(out_filename, index=False)"
   ]
  },
  {
   "cell_type": "markdown",
   "id": "5d3f0642",
   "metadata": {},
   "source": [
    "### 01-05-2. check empty cells"
   ]
  },
  {
   "cell_type": "code",
   "execution_count": 47,
   "id": "65a14e33",
   "metadata": {
    "execution": {
     "iopub.execute_input": "2025-05-10T00:14:17.132915Z",
     "iopub.status.busy": "2025-05-10T00:14:17.132613Z",
     "iopub.status.idle": "2025-05-10T00:14:17.148212Z",
     "shell.execute_reply": "2025-05-10T00:14:17.147902Z"
    }
   },
   "outputs": [
    {
     "name": "stdout",
     "output_type": "stream",
     "text": [
      "(0/32) column: center (364 / 0)\n",
      "(1/32) column: subjectID (364 / 0)\n",
      "(2/32) column: uniqueID (364 / 0)\n",
      "(3/32) column: fetalDecelerate (364 / 0)\n",
      "(4/32) column: cordMishap (364 / 0)\n",
      "(5/32) column: uterineRupture (364 / 0)\n",
      "(6/32) column: shoulderDystocia (364 / 0)\n",
      "(7/32) column: placentalProblem (364 / 0)\n",
      "(8/32) column: maternalHemorrhage (364 / 0)\n",
      "(9/32) column: maternalTrauma (364 / 0)\n",
      "(10/32) column: maternalCardioRespiratoryArrest (364 / 0)\n",
      "(11/32) column: maternalSeizure (364 / 0)\n",
      "(12/32) column: pyrexiaGreater37p6C (364 / 0)\n",
      "(13/32) column: chorioamnionitis (364 / 0)\n",
      "(14/32) column: placentalPathologyPerformed (364 / 0)\n",
      "(15/32) column: histologicChorioamionitis (198 / 166)\n",
      "(16/32) column: laborAntibiotics (364 / 0)\n",
      "(17/32) column: ruptureBeforeDelivery (364 / 0)\n",
      "(18/32) column: ruptureGreater18Hr (47 / 317)\n",
      "(19/32) column: maternalAdmissionDate (340 / 24)\n",
      "(20/32) column: maternalAdmissionTime (288 / 76)\n",
      "(21/32) column: laborAntibioticsCode1 (85 / 279)\n",
      "(22/32) column: laborAntibioticsCode2 (33 / 331)\n",
      "(23/32) column: laborAntibioticsCode3 (8 / 356)\n",
      "(24/32) column: laborAntibioticsCode4 (0 / 364)\n",
      "(25/32) column: laborAntibioticsCode5 (0 / 364)\n",
      "(26/32) column: laborAntibioticsCode6 (0 / 364)\n",
      "(27/32) column: ruptureDate (245 / 119)\n",
      "(28/32) column: ruptureTime (220 / 144)\n",
      "(29/32) column: deliveryMode (364 / 0)\n",
      "(30/32) column: emergencyCSection (364 / 0)\n",
      "(31/32) column: perinatalSentinelEvent (362 / 2)\n"
     ]
    }
   ],
   "source": [
    "COMBINE_harmonizer.check_empty(df_labor_delivery)"
   ]
  },
  {
   "cell_type": "code",
   "execution_count": 48,
   "id": "5a8d1714",
   "metadata": {
    "execution": {
     "iopub.execute_input": "2025-05-10T00:14:17.149549Z",
     "iopub.status.busy": "2025-05-10T00:14:17.149444Z",
     "iopub.status.idle": "2025-05-10T00:14:17.152813Z",
     "shell.execute_reply": "2025-05-10T00:14:17.152569Z"
    }
   },
   "outputs": [
    {
     "name": "stdout",
     "output_type": "stream",
     "text": [
      "(0/32) center: (364/0)\n",
      "(1/32) subjectID: (364/0)\n",
      "(2/32) uniqueID: (364/0)\n",
      "(3/32) fetalDecelerate: (364/0)\n",
      "(4/32) cordMishap: (364/0)\n",
      "(5/32) uterineRupture: (364/0)\n",
      "(6/32) shoulderDystocia: (364/0)\n",
      "(7/32) placentalProblem: (364/0)\n",
      "(8/32) maternalHemorrhage: (364/0)\n",
      "(9/32) maternalTrauma: (364/0)\n",
      "(10/32) maternalCardioRespiratoryArrest: (364/0)\n",
      "(11/32) maternalSeizure: (364/0)\n",
      "(12/32) pyrexiaGreater37p6C: (364/0)\n",
      "(13/32) chorioamnionitis: (364/0)\n",
      "(14/32) placentalPathologyPerformed: (364/0)\n",
      "(15/32) histologicChorioamionitis: (198/166)\n",
      "(16/32) laborAntibiotics: (364/0)\n",
      "(17/32) ruptureBeforeDelivery: (364/0)\n",
      "(18/32) ruptureGreater18Hr: (47/317)\n",
      "(19/32) maternalAdmissionDate: (340/24)\n",
      "(20/32) maternalAdmissionTime: (288/76)\n",
      "(21/32) laborAntibioticsCode1: (85/279)\n",
      "(22/32) laborAntibioticsCode2: (33/331)\n",
      "(23/32) laborAntibioticsCode3: (8/356)\n",
      "(24/32) laborAntibioticsCode4: (0/364)\n",
      "(25/32) laborAntibioticsCode5: (0/364)\n",
      "(26/32) laborAntibioticsCode6: (0/364)\n",
      "(27/32) ruptureDate: (245/119)\n",
      "(28/32) ruptureTime: (220/144)\n",
      "(29/32) deliveryMode: (364/0)\n",
      "(30/32) emergencyCSection: (364/0)\n",
      "(31/32) perinatalSentinelEvent: (362/2)\n"
     ]
    }
   ],
   "source": [
    "COMBINE_harmonizer.column_info(df_labor_delivery)"
   ]
  },
  {
   "cell_type": "markdown",
   "id": "e5a6fd74",
   "metadata": {},
   "source": [
    "## 01-06. Birth"
   ]
  },
  {
   "cell_type": "code",
   "execution_count": 49,
   "id": "0f67c23a",
   "metadata": {
    "execution": {
     "iopub.execute_input": "2025-05-10T00:14:17.154167Z",
     "iopub.status.busy": "2025-05-10T00:14:17.154086Z",
     "iopub.status.idle": "2025-05-10T00:14:17.156984Z",
     "shell.execute_reply": "2025-05-10T00:14:17.156754Z"
    }
   },
   "outputs": [
    {
     "data": {
      "text/plain": [
       "['encephalopathyLevel',\n",
       " 'randomInfantAge',\n",
       " 'birthDate',\n",
       " 'birthTime',\n",
       " 'birthWeight_g',\n",
       " 'birthLength_cm',\n",
       " 'birthHeadCircumference_cm',\n",
       " 'birthGestationalAge_week',\n",
       " 'infantSex',\n",
       " 'maleSex',\n",
       " 'infantOutborn',\n",
       " 'outbornInHospital',\n",
       " 'outbornOutHospital',\n",
       " 'neonateAdmissionDate',\n",
       " 'neonateAdmissionTime',\n",
       " 'Apgar1min',\n",
       " 'Apgar5min',\n",
       " 'Apgar10min',\n",
       " 'Apgar15min',\n",
       " 'Apgar20min',\n",
       " 'deliveryResuscitation',\n",
       " 'deliveryOxygen',\n",
       " 'deliveryBaggingAndMask',\n",
       " 'deliveryChestCompression',\n",
       " 'deliveryIntubation',\n",
       " 'deliveryDrug',\n",
       " 'at10MinContinueResuscitation',\n",
       " 'at10MinOxygen',\n",
       " 'at10MinBaggingAndMask',\n",
       " 'at10MinChestCompression',\n",
       " 'at10MinIntubation',\n",
       " 'at10MinDrug',\n",
       " 'spontaneousRespirationTime',\n",
       " 'cordBloodGas',\n",
       " 'cordBloodGasSrc',\n",
       " 'cordBloodGasPH',\n",
       " 'cordBloodGasPCO2_mmHg',\n",
       " 'cordBloodGasPO2_mmHg',\n",
       " 'cordBloodGasHCO3_mEqPerL',\n",
       " 'cordBloodGasBaseDeficit_mEqPerL',\n",
       " 'firstPostnatalBloodGas',\n",
       " 'firstPostnatalBloodGasSrc',\n",
       " 'firstPostnatalBloodGasDate',\n",
       " 'firstPostnatalBloodGasTime',\n",
       " 'firstPostnatalBloodGasPH',\n",
       " 'firstPostnatalBloodGasPCO2_mmHg',\n",
       " 'firstPostnatalBloodGasPO2_mmHg',\n",
       " 'firstPostnatalBloodGasHCO3_mEqPerL',\n",
       " 'firstPostnatalBloodGasBaseDeficit_mEqPerL',\n",
       " 'acidosis',\n",
       " 'Apgar10minLess5',\n",
       " 'Apgar10minLessEq5',\n",
       " 'Apgar5minLessEq5',\n",
       " 'initBloodGasBaseDeficit_mEqPerL',\n",
       " 'initBloodGasBaseDeficit_mEqPerLSrc',\n",
       " 'initBloodGasPH',\n",
       " 'initBloodGasPHSrc']"
      ]
     },
     "execution_count": 49,
     "metadata": {},
     "output_type": "execute_result"
    }
   ],
   "source": [
    "birth_columns = COMBINE_harmonizer.get_columns(\n",
    "    df_data_dict,\n",
    "    COMBINE_harmonizer.CATEGORY_PRE_INTERVENTION,\n",
    "    COMBINE_harmonizer.SUBCATEGORY_BIRTH_INFORMATION)\n",
    "\n",
    "all_birth_columns = id_columns + birth_columns\n",
    "birth_columns"
   ]
  },
  {
   "cell_type": "code",
   "execution_count": 50,
   "id": "2a598b4d",
   "metadata": {
    "execution": {
     "iopub.execute_input": "2025-05-10T00:14:17.158122Z",
     "iopub.status.busy": "2025-05-10T00:14:17.158042Z",
     "iopub.status.idle": "2025-05-10T00:14:17.225549Z",
     "shell.execute_reply": "2025-05-10T00:14:17.224989Z"
    }
   },
   "outputs": [
    {
     "name": "stdout",
     "output_type": "stream",
     "text": [
      "to set birth\n",
      "(3/59) randomInfantAge not in df\n",
      "(22/59) deliveryResuscitation not in df\n"
     ]
    }
   ],
   "source": [
    "print('to set birth')\n",
    "df_birth = COMBINE_harmonizer.valid_columns(df_main, all_birth_columns)\n",
    "df_birth = COMBINE_harmonizer.postprocess(df_birth)\n",
    "\n",
    "out_filename = os.sep.join([out_dir, '01-06-birth.csv'])\n",
    "df_birth.to_csv(out_filename, index=False)"
   ]
  },
  {
   "cell_type": "markdown",
   "id": "efcb6867",
   "metadata": {},
   "source": [
    "### 01-06-2. check empty cells"
   ]
  },
  {
   "cell_type": "code",
   "execution_count": 51,
   "id": "9e5dcae7",
   "metadata": {
    "execution": {
     "iopub.execute_input": "2025-05-10T00:14:17.229264Z",
     "iopub.status.busy": "2025-05-10T00:14:17.228998Z",
     "iopub.status.idle": "2025-05-10T00:14:17.248412Z",
     "shell.execute_reply": "2025-05-10T00:14:17.248157Z"
    }
   },
   "outputs": [
    {
     "name": "stdout",
     "output_type": "stream",
     "text": [
      "(0/58) column: center (364 / 0)\n",
      "(1/58) column: subjectID (364 / 0)\n",
      "(2/58) column: uniqueID (364 / 0)\n",
      "(3/58) column: birthDate (364 / 0)\n",
      "(4/58) column: encephalopathyLevel (364 / 0)\n",
      "(5/58) column: infantOutborn (364 / 0)\n",
      "(6/58) column: outbornInHospital (234 / 130)\n",
      "(7/58) column: outbornOutHospital (234 / 130)\n",
      "(8/58) column: deliveryOxygen (364 / 0)\n",
      "(9/58) column: deliveryBaggingAndMask (364 / 0)\n",
      "(10/58) column: deliveryChestCompression (364 / 0)\n",
      "(11/58) column: deliveryIntubation (364 / 0)\n",
      "(12/58) column: deliveryDrug (364 / 0)\n",
      "(13/58) column: at10MinContinueResuscitation (364 / 0)\n",
      "(14/58) column: at10MinOxygen (315 / 49)\n",
      "(15/58) column: at10MinBaggingAndMask (315 / 49)\n",
      "(16/58) column: at10MinChestCompression (315 / 49)\n",
      "(17/58) column: at10MinIntubation (315 / 49)\n",
      "(18/58) column: at10MinDrug (315 / 49)\n",
      "(19/58) column: cordBloodGas (364 / 0)\n",
      "(20/58) column: firstPostnatalBloodGas (364 / 0)\n",
      "(21/58) column: birthTime (364 / 0)\n",
      "(22/58) column: neonateAdmissionDate (234 / 130)\n",
      "(23/58) column: neonateAdmissionTime (231 / 133)\n",
      "(24/58) column: Apgar1min (361 / 3)\n",
      "(25/58) column: Apgar5min (361 / 3)\n",
      "(26/58) column: Apgar10min (324 / 40)\n",
      "(27/58) column: Apgar15min (123 / 241)\n",
      "(28/58) column: Apgar20min (75 / 289)\n",
      "(29/58) column: birthWeight_g (363 / 1)\n",
      "(30/58) column: birthLength_cm (340 / 24)\n",
      "(31/58) column: birthHeadCircumference_cm (344 / 20)\n",
      "(32/58) column: birthGestationalAge_week (363 / 1)\n",
      "(33/58) column: infantSex (364 / 0)\n",
      "(34/58) column: spontaneousRespirationTime (341 / 23)\n",
      "(35/58) column: cordBloodGasSrc (265 / 99)\n",
      "(36/58) column: cordBloodGasPH (289 / 75)\n",
      "(37/58) column: cordBloodGasPCO2_mmHg (250 / 114)\n",
      "(38/58) column: cordBloodGasPO2_mmHg (220 / 144)\n",
      "(39/58) column: cordBloodGasHCO3_mEqPerL (212 / 152)\n",
      "(40/58) column: cordBloodGasBaseDeficit_mEqPerL (244 / 120)\n",
      "(41/58) column: firstPostnatalBloodGasSrc (356 / 8)\n",
      "(42/58) column: firstPostnatalBloodGasDate (361 / 3)\n",
      "(43/58) column: firstPostnatalBloodGasTime (331 / 33)\n",
      "(44/58) column: firstPostnatalBloodGasPH (358 / 6)\n",
      "(45/58) column: firstPostnatalBloodGasPCO2_mmHg (353 / 11)\n",
      "(46/58) column: firstPostnatalBloodGasPO2_mmHg (341 / 23)\n",
      "(47/58) column: firstPostnatalBloodGasHCO3_mEqPerL (318 / 46)\n",
      "(48/58) column: firstPostnatalBloodGasBaseDeficit_mEqPerL (340 / 24)\n",
      "(49/58) column: Apgar10minLess5 (324 / 40)\n",
      "(50/58) column: maleSex (364 / 0)\n",
      "(51/58) column: Apgar5minLessEq5 (361 / 3)\n",
      "(52/58) column: Apgar10minLessEq5 (324 / 40)\n",
      "(53/58) column: acidosis (363 / 1)\n",
      "(54/58) column: initBloodGasPH (363 / 1)\n",
      "(55/58) column: initBloodGasPHSrc (363 / 1)\n",
      "(56/58) column: initBloodGasBaseDeficit_mEqPerL (351 / 13)\n",
      "(57/58) column: initBloodGasBaseDeficit_mEqPerLSrc (351 / 13)\n"
     ]
    }
   ],
   "source": [
    "COMBINE_harmonizer.check_empty(df_birth)"
   ]
  },
  {
   "cell_type": "code",
   "execution_count": 52,
   "id": "115b243c",
   "metadata": {
    "execution": {
     "iopub.execute_input": "2025-05-10T00:14:17.249691Z",
     "iopub.status.busy": "2025-05-10T00:14:17.249614Z",
     "iopub.status.idle": "2025-05-10T00:14:17.258207Z",
     "shell.execute_reply": "2025-05-10T00:14:17.257957Z"
    }
   },
   "outputs": [
    {
     "name": "stdout",
     "output_type": "stream",
     "text": [
      "(0/58) center: (364/0)\n",
      "(1/58) subjectID: (364/0)\n",
      "(2/58) uniqueID: (364/0)\n",
      "(3/58) birthDate: (364/0)\n",
      "(4/58) encephalopathyLevel: (364/0)\n",
      "(5/58) infantOutborn: (364/0)\n",
      "(6/58) outbornInHospital: (234/130)\n",
      "(7/58) outbornOutHospital: (234/130)\n",
      "(8/58) deliveryOxygen: (364/0)\n",
      "(9/58) deliveryBaggingAndMask: (364/0)\n",
      "(10/58) deliveryChestCompression: (364/0)\n",
      "(11/58) deliveryIntubation: (364/0)\n",
      "(12/58) deliveryDrug: (364/0)\n",
      "(13/58) at10MinContinueResuscitation: (364/0)\n",
      "(14/58) at10MinOxygen: (315/49)\n",
      "(15/58) at10MinBaggingAndMask: (315/49)\n",
      "(16/58) at10MinChestCompression: (315/49)\n",
      "(17/58) at10MinIntubation: (315/49)\n",
      "(18/58) at10MinDrug: (315/49)\n",
      "(19/58) cordBloodGas: (364/0)\n",
      "(20/58) firstPostnatalBloodGas: (364/0)\n",
      "(21/58) birthTime: (364/0)\n",
      "(22/58) neonateAdmissionDate: (234/130)\n",
      "(23/58) neonateAdmissionTime: (231/133)\n",
      "(24/58) Apgar1min: (361/3)\n",
      "(25/58) Apgar5min: (361/3)\n",
      "(26/58) Apgar10min: (324/40)\n",
      "(27/58) Apgar15min: (123/241)\n",
      "(28/58) Apgar20min: (75/289)\n",
      "(29/58) birthWeight_g: (363/1)\n",
      "(30/58) birthLength_cm: (340/24)\n",
      "(31/58) birthHeadCircumference_cm: (344/20)\n",
      "(32/58) birthGestationalAge_week: (363/1)\n",
      "(33/58) infantSex: (364/0)\n",
      "(34/58) spontaneousRespirationTime: (341/23)\n",
      "(35/58) cordBloodGasSrc: (265/99)\n",
      "(36/58) cordBloodGasPH: (289/75)\n",
      "(37/58) cordBloodGasPCO2_mmHg: (250/114)\n",
      "(38/58) cordBloodGasPO2_mmHg: (220/144)\n",
      "(39/58) cordBloodGasHCO3_mEqPerL: (212/152)\n",
      "(40/58) cordBloodGasBaseDeficit_mEqPerL: (244/120)\n",
      "(41/58) firstPostnatalBloodGasSrc: (356/8)\n",
      "(42/58) firstPostnatalBloodGasDate: (361/3)\n",
      "(43/58) firstPostnatalBloodGasTime: (331/33)\n",
      "(44/58) firstPostnatalBloodGasPH: (358/6)\n",
      "(45/58) firstPostnatalBloodGasPCO2_mmHg: (353/11)\n",
      "(46/58) firstPostnatalBloodGasPO2_mmHg: (341/23)\n",
      "(47/58) firstPostnatalBloodGasHCO3_mEqPerL: (318/46)\n",
      "(48/58) firstPostnatalBloodGasBaseDeficit_mEqPerL: (340/24)\n",
      "(49/58) Apgar10minLess5: (324/40)\n",
      "(50/58) maleSex: (364/0)\n",
      "(51/58) Apgar5minLessEq5: (361/3)\n",
      "(52/58) Apgar10minLessEq5: (324/40)\n",
      "(53/58) acidosis: (363/1)\n",
      "(54/58) initBloodGasPH: (363/1)\n",
      "(55/58) initBloodGasPHSrc: (363/1)\n",
      "(56/58) initBloodGasBaseDeficit_mEqPerL: (351/13)\n",
      "(57/58) initBloodGasBaseDeficit_mEqPerLSrc: (351/13)\n"
     ]
    }
   ],
   "source": [
    "COMBINE_harmonizer.column_info(df_birth)"
   ]
  },
  {
   "cell_type": "markdown",
   "id": "b2eebef1",
   "metadata": {},
   "source": [
    "## 01-07. Pre Intervention - Temperature"
   ]
  },
  {
   "cell_type": "code",
   "execution_count": 53,
   "id": "ec6d4de4",
   "metadata": {
    "execution": {
     "iopub.execute_input": "2025-05-10T00:14:17.259583Z",
     "iopub.status.busy": "2025-05-10T00:14:17.259496Z",
     "iopub.status.idle": "2025-05-10T00:14:17.262320Z",
     "shell.execute_reply": "2025-05-10T00:14:17.262087Z"
    }
   },
   "outputs": [
    {
     "data": {
      "text/plain": [
       "['targetTreatmentTemperature_C',\n",
       " 'pre_CoolInitiate',\n",
       " 'pre_CoolbyIceGelPack',\n",
       " 'pre_CoolPassively',\n",
       " 'pre_CoolClinically',\n",
       " 'pre_CoolInitiateDate',\n",
       " 'pre_CoolInitiateTime',\n",
       " 'pre_AfterOvershootReach33p5C',\n",
       " 'pre_AfterOvershootReach33p5CDate',\n",
       " 'pre_AfterOvershootReach33p5CTime',\n",
       " 'pre_TemperatureMinDate',\n",
       " 'pre_TemperatureMinTime',\n",
       " 'pre_SkinTemperatureMin_C',\n",
       " 'pre_AxillaryTemperatureMin_C',\n",
       " 'pre_EsophagealTemperatureMin_C',\n",
       " 'pre_ServoSetMin_C',\n",
       " 'pre_TemperatureMaxDate',\n",
       " 'pre_TemperatureMaxTime',\n",
       " 'pre_SkinTemperatureMax_C',\n",
       " 'pre_AxillaryTemperatureMax_C',\n",
       " 'pre_EsophagealTemperatureMax_C',\n",
       " 'pre_ServoSetMax_C']"
      ]
     },
     "execution_count": 53,
     "metadata": {},
     "output_type": "execute_result"
    }
   ],
   "source": [
    "temperature_pre_intervention_columns = COMBINE_harmonizer.get_columns(\n",
    "    df_data_dict,\n",
    "    COMBINE_harmonizer.CATEGORY_PRE_INTERVENTION,\n",
    "    COMBINE_harmonizer.SUBCATEGORY_TEMPERATURE)\n",
    "\n",
    "all_temperature_pre_intervention_columns = id_columns + temperature_pre_intervention_columns\n",
    "temperature_pre_intervention_columns"
   ]
  },
  {
   "cell_type": "code",
   "execution_count": 54,
   "id": "2014a5a4",
   "metadata": {
    "execution": {
     "iopub.execute_input": "2025-05-10T00:14:17.263482Z",
     "iopub.status.busy": "2025-05-10T00:14:17.263400Z",
     "iopub.status.idle": "2025-05-10T00:14:17.333597Z",
     "shell.execute_reply": "2025-05-10T00:14:17.332927Z"
    }
   },
   "outputs": [],
   "source": [
    "df_temperature_pre_intervention = pd.concat([df_dict['oc06t72.csv'], df_dict['oc06t120.csv']])\n",
    "df_temperature_pre_intervention = COMBINE_harmonizer.valid_columns(df_temperature_pre_intervention, all_temperature_pre_intervention_columns)\n",
    "df_temperature_pre_intervention = COMBINE_harmonizer.postprocess(df_temperature_pre_intervention)\n",
    "\n",
    "out_filename = os.sep.join([out_dir, '01-07-pre-temperature.csv'])\n",
    "df_temperature_pre_intervention.to_csv(out_filename, index=False)"
   ]
  },
  {
   "cell_type": "markdown",
   "id": "e6a58897",
   "metadata": {},
   "source": [
    "### 01-07-2. check empty cells"
   ]
  },
  {
   "cell_type": "code",
   "execution_count": 55,
   "id": "9efbf545",
   "metadata": {
    "execution": {
     "iopub.execute_input": "2025-05-10T00:14:17.342117Z",
     "iopub.status.busy": "2025-05-10T00:14:17.341675Z",
     "iopub.status.idle": "2025-05-10T00:14:17.346962Z",
     "shell.execute_reply": "2025-05-10T00:14:17.346688Z"
    }
   },
   "outputs": [
    {
     "name": "stdout",
     "output_type": "stream",
     "text": [
      "(0/25) column: center (364 / 0)\n",
      "(1/25) column: subjectID (364 / 0)\n",
      "(2/25) column: uniqueID (364 / 0)\n",
      "(3/25) column: pre_CoolInitiate (364 / 0)\n",
      "(4/25) column: pre_CoolbyIceGelPack (252 / 112)\n",
      "(5/25) column: pre_CoolPassively (252 / 112)\n",
      "(6/25) column: pre_CoolClinically (252 / 112)\n",
      "(7/25) column: pre_AfterOvershootReach33p5C (364 / 0)\n",
      "(8/25) column: targetTreatmentTemperature_C (364 / 0)\n",
      "(9/25) column: pre_CoolInitiateDate (201 / 163)\n",
      "(10/25) column: pre_CoolInitiateTime (200 / 164)\n",
      "(11/25) column: pre_AfterOvershootReach33p5CDate (70 / 294)\n",
      "(12/25) column: pre_AfterOvershootReach33p5CTime (69 / 295)\n",
      "(13/25) column: pre_TemperatureMinDate (351 / 13)\n",
      "(14/25) column: pre_TemperatureMinTime (348 / 16)\n",
      "(15/25) column: pre_SkinTemperatureMin_C (168 / 196)\n",
      "(16/25) column: pre_AxillaryTemperatureMin_C (231 / 133)\n",
      "(17/25) column: pre_EsophagealTemperatureMin_C (138 / 226)\n",
      "(18/25) column: pre_ServoSetMin_C (164 / 200)\n",
      "(19/25) column: pre_TemperatureMaxDate (350 / 14)\n",
      "(20/25) column: pre_TemperatureMaxTime (340 / 24)\n",
      "(21/25) column: pre_SkinTemperatureMax_C (133 / 231)\n",
      "(22/25) column: pre_AxillaryTemperatureMax_C (279 / 85)\n",
      "(23/25) column: pre_EsophagealTemperatureMax_C (68 / 296)\n",
      "(24/25) column: pre_ServoSetMax_C (119 / 245)\n"
     ]
    }
   ],
   "source": [
    "COMBINE_harmonizer.check_empty(df_temperature_pre_intervention)"
   ]
  },
  {
   "cell_type": "code",
   "execution_count": 56,
   "id": "4b0b1c13",
   "metadata": {
    "execution": {
     "iopub.execute_input": "2025-05-10T00:14:17.348186Z",
     "iopub.status.busy": "2025-05-10T00:14:17.348101Z",
     "iopub.status.idle": "2025-05-10T00:14:17.350898Z",
     "shell.execute_reply": "2025-05-10T00:14:17.350670Z"
    }
   },
   "outputs": [
    {
     "name": "stdout",
     "output_type": "stream",
     "text": [
      "(0/25) center: (364/0)\n",
      "(1/25) subjectID: (364/0)\n",
      "(2/25) uniqueID: (364/0)\n",
      "(3/25) pre_CoolInitiate: (364/0)\n",
      "(4/25) pre_CoolbyIceGelPack: (252/112)\n",
      "(5/25) pre_CoolPassively: (252/112)\n",
      "(6/25) pre_CoolClinically: (252/112)\n",
      "(7/25) pre_AfterOvershootReach33p5C: (364/0)\n",
      "(8/25) targetTreatmentTemperature_C: (364/0)\n",
      "(9/25) pre_CoolInitiateDate: (201/163)\n",
      "(10/25) pre_CoolInitiateTime: (200/164)\n",
      "(11/25) pre_AfterOvershootReach33p5CDate: (70/294)\n",
      "(12/25) pre_AfterOvershootReach33p5CTime: (69/295)\n",
      "(13/25) pre_TemperatureMinDate: (351/13)\n",
      "(14/25) pre_TemperatureMinTime: (348/16)\n",
      "(15/25) pre_SkinTemperatureMin_C: (168/196)\n",
      "(16/25) pre_AxillaryTemperatureMin_C: (231/133)\n",
      "(17/25) pre_EsophagealTemperatureMin_C: (138/226)\n",
      "(18/25) pre_ServoSetMin_C: (164/200)\n",
      "(19/25) pre_TemperatureMaxDate: (350/14)\n",
      "(20/25) pre_TemperatureMaxTime: (340/24)\n",
      "(21/25) pre_SkinTemperatureMax_C: (133/231)\n",
      "(22/25) pre_AxillaryTemperatureMax_C: (279/85)\n",
      "(23/25) pre_EsophagealTemperatureMax_C: (68/296)\n",
      "(24/25) pre_ServoSetMax_C: (119/245)\n"
     ]
    }
   ],
   "source": [
    "COMBINE_harmonizer.column_info(df_temperature_pre_intervention)"
   ]
  },
  {
   "cell_type": "markdown",
   "id": "a118ed44",
   "metadata": {},
   "source": [
    "## 01-08. Pre-intervention - Cardio"
   ]
  },
  {
   "cell_type": "code",
   "execution_count": 57,
   "id": "cf64004e",
   "metadata": {
    "execution": {
     "iopub.execute_input": "2025-05-10T00:14:17.352106Z",
     "iopub.status.busy": "2025-05-10T00:14:17.352010Z",
     "iopub.status.idle": "2025-05-10T00:14:17.354537Z",
     "shell.execute_reply": "2025-05-10T00:14:17.354334Z"
    }
   },
   "outputs": [
    {
     "data": {
      "text/plain": [
       "['pre_CardioDate',\n",
       " 'pre_CardioTime',\n",
       " 'pre_CardioSystolicBloodPressure_mmHg',\n",
       " 'pre_CardioDiastolicBloodPressure_mmHg',\n",
       " 'pre_CardioHeartRate_BPM',\n",
       " 'pre_CardioVolumeExpand',\n",
       " 'pre_CardioInotropicAgent',\n",
       " 'pre_CardioBloodTransfusion',\n",
       " 'pre_CardioPlatelets',\n",
       " 'pre_InotropicAgent']"
      ]
     },
     "execution_count": 57,
     "metadata": {},
     "output_type": "execute_result"
    }
   ],
   "source": [
    "cardio_pre_intervention_columns = COMBINE_harmonizer.get_columns(\n",
    "    df_data_dict,\n",
    "    COMBINE_harmonizer.CATEGORY_PRE_INTERVENTION,\n",
    "    COMBINE_harmonizer.SUBCATEGORY_CARDIOVASCULAR)\n",
    "\n",
    "all_cardio_pre_intervention_columns = id_columns + cardio_pre_intervention_columns\n",
    "cardio_pre_intervention_columns"
   ]
  },
  {
   "cell_type": "code",
   "execution_count": 58,
   "id": "eb088a1d",
   "metadata": {
    "execution": {
     "iopub.execute_input": "2025-05-10T00:14:17.355830Z",
     "iopub.status.busy": "2025-05-10T00:14:17.355718Z",
     "iopub.status.idle": "2025-05-10T00:14:17.426940Z",
     "shell.execute_reply": "2025-05-10T00:14:17.426167Z"
    }
   },
   "outputs": [
    {
     "name": "stdout",
     "output_type": "stream",
     "text": [
      "(11/12) pre_InotropicAgent not in df"
     ]
    },
    {
     "name": "stdout",
     "output_type": "stream",
     "text": [
      "\n"
     ]
    }
   ],
   "source": [
    "df_cardio = df_dict['oc07.csv'].copy()\n",
    "\n",
    "cardioTimeSlot_int = df_cardio['cardioTimeSlot_min'].apply(COMBINE_harmonizer.to_int)\n",
    "is_pre = cardioTimeSlot_int == 0\n",
    "df_cardio_pre_intervention = df_cardio[is_pre]\n",
    "pre_rename_map = {\n",
    "    'cardioDate': 'pre_CardioDate',\n",
    "    'cardioTime': 'pre_CardioTime',\n",
    "    'cardioSystolicBloodPressure_mmHg': 'pre_CardioSystolicBloodPressure_mmHg',\n",
    "    'cardioDiastolicBloodPressure_mmHg': 'pre_CardioDiastolicBloodPressure_mmHg',\n",
    "    'cardioHeartRate_BPM': 'pre_CardioHeartRate_BPM',\n",
    "    'cardioVolumeExpand': 'pre_CardioVolumeExpand',\n",
    "    'cardioInotropicAgent': 'pre_CardioInotropicAgent',\n",
    "    'cardioBloodTransfusion': 'pre_CardioBloodTransfusion',\n",
    "    'cardioPlatelets': 'pre_CardioPlatelets',\n",
    "}\n",
    "df_cardio_pre_intervention = df_cardio_pre_intervention.rename(columns=pre_rename_map)\n",
    "\n",
    "df_cardio_pre_intervention = COMBINE_harmonizer.valid_columns(df_cardio_pre_intervention, all_cardio_pre_intervention_columns)\n",
    "df_cardio_pre_intervention = COMBINE_harmonizer.postprocess(df_cardio_pre_intervention)\n",
    "\n",
    "out_filename = os.sep.join([out_dir, '01-08-pre-cardiovascular.csv'])\n",
    "df_cardio_pre_intervention.to_csv(out_filename, index=False)"
   ]
  },
  {
   "cell_type": "markdown",
   "id": "d5d6761b",
   "metadata": {},
   "source": [
    "### 01-08-2. Check empty"
   ]
  },
  {
   "cell_type": "code",
   "execution_count": 59,
   "id": "2c6e0bf5",
   "metadata": {
    "execution": {
     "iopub.execute_input": "2025-05-10T00:14:17.429773Z",
     "iopub.status.busy": "2025-05-10T00:14:17.429520Z",
     "iopub.status.idle": "2025-05-10T00:14:17.433146Z",
     "shell.execute_reply": "2025-05-10T00:14:17.432898Z"
    }
   },
   "outputs": [
    {
     "name": "stdout",
     "output_type": "stream",
     "text": [
      "(0/12) column: center (357 / 0)\n",
      "(1/12) column: subjectID (357 / 0)\n",
      "(2/12) column: uniqueID (357 / 0)\n",
      "(3/12) column: pre_CardioVolumeExpand (357 / 0)\n",
      "(4/12) column: pre_CardioInotropicAgent (357 / 0)\n",
      "(5/12) column: pre_CardioBloodTransfusion (357 / 0)\n",
      "(6/12) column: pre_CardioPlatelets (357 / 0)\n",
      "(7/12) column: pre_CardioDate (357 / 0)\n",
      "(8/12) column: pre_CardioTime (355 / 2)\n",
      "(9/12) column: pre_CardioSystolicBloodPressure_mmHg (350 / 7)\n",
      "(10/12) column: pre_CardioDiastolicBloodPressure_mmHg (350 / 7)\n",
      "(11/12) column: pre_CardioHeartRate_BPM (351 / 6)\n"
     ]
    }
   ],
   "source": [
    "COMBINE_harmonizer.check_empty(df_cardio_pre_intervention)"
   ]
  },
  {
   "cell_type": "code",
   "execution_count": 60,
   "id": "073d2bb2",
   "metadata": {
    "execution": {
     "iopub.execute_input": "2025-05-10T00:14:17.434568Z",
     "iopub.status.busy": "2025-05-10T00:14:17.434474Z",
     "iopub.status.idle": "2025-05-10T00:14:17.436857Z",
     "shell.execute_reply": "2025-05-10T00:14:17.436590Z"
    }
   },
   "outputs": [
    {
     "name": "stdout",
     "output_type": "stream",
     "text": [
      "(0/12) center: (357/0)\n",
      "(1/12) subjectID: (357/0)\n",
      "(2/12) uniqueID: (357/0)\n",
      "(3/12) pre_CardioVolumeExpand: (357/0)\n",
      "(4/12) pre_CardioInotropicAgent: (357/0)\n",
      "(5/12) pre_CardioBloodTransfusion: (357/0)\n",
      "(6/12) pre_CardioPlatelets: (357/0)\n",
      "(7/12) pre_CardioDate: (357/0)\n",
      "(8/12) pre_CardioTime: (355/2)\n",
      "(9/12) pre_CardioSystolicBloodPressure_mmHg: (350/7)\n",
      "(10/12) pre_CardioDiastolicBloodPressure_mmHg: (350/7)\n",
      "(11/12) pre_CardioHeartRate_BPM: (351/6)\n"
     ]
    }
   ],
   "source": [
    "COMBINE_harmonizer.column_info(df_cardio_pre_intervention)"
   ]
  },
  {
   "cell_type": "markdown",
   "id": "f8740028",
   "metadata": {},
   "source": [
    "## 01-14. Pre-intervention - Respiratory"
   ]
  },
  {
   "cell_type": "code",
   "execution_count": 61,
   "id": "245c39f6",
   "metadata": {
    "execution": {
     "iopub.execute_input": "2025-05-10T00:14:17.438149Z",
     "iopub.status.busy": "2025-05-10T00:14:17.438070Z",
     "iopub.status.idle": "2025-05-10T00:14:17.440608Z",
     "shell.execute_reply": "2025-05-10T00:14:17.440372Z"
    }
   },
   "outputs": [
    {
     "data": {
      "text/plain": [
       "['pre_RespiratoryDate',\n",
       " 'pre_RespiratoryTime',\n",
       " 'pre_RespiratorySupportType',\n",
       " 'pre_RespiratoryFiO2',\n",
       " 'pre_RespiratoryRate_Hz',\n",
       " 'pre_RespiratoryPIP_cmH2O',\n",
       " 'pre_RespiratoryMAP_cmH2O',\n",
       " 'pre_RespiratoryPEEP_cmH2O']"
      ]
     },
     "execution_count": 61,
     "metadata": {},
     "output_type": "execute_result"
    }
   ],
   "source": [
    "respiratory_pre_intervention_columns = COMBINE_harmonizer.get_columns(\n",
    "    df_data_dict,\n",
    "    COMBINE_harmonizer.CATEGORY_PRE_INTERVENTION,\n",
    "    COMBINE_harmonizer.SUBCATEGORY_RESPIRATORY)\n",
    "\n",
    "all_respiratory_pre_intervention_columns = id_columns + respiratory_pre_intervention_columns\n",
    "respiratory_pre_intervention_columns"
   ]
  },
  {
   "cell_type": "code",
   "execution_count": 62,
   "id": "90ca7970",
   "metadata": {
    "execution": {
     "iopub.execute_input": "2025-05-10T00:14:17.441797Z",
     "iopub.status.busy": "2025-05-10T00:14:17.441718Z",
     "iopub.status.idle": "2025-05-10T00:14:17.448685Z",
     "shell.execute_reply": "2025-05-10T00:14:17.448428Z"
    }
   },
   "outputs": [],
   "source": [
    "df_respiratory = df_dict['oc08.csv'].copy()\n",
    "\n",
    "respiratoryTimeSlot_int = df_respiratory['respiratoryTimeSlot_min'].apply(COMBINE_harmonizer.to_int)\n",
    "is_pre = respiratoryTimeSlot_int == 0\n",
    "df_respiratory_pre = df_respiratory[is_pre]\n",
    "pre_rename_map = {\n",
    "    'respiratoryDate': 'pre_RespiratoryDate',\n",
    "    'respiratoryTime': 'pre_RespiratoryTime',\n",
    "    'respiratorySupportType': 'pre_RespiratorySupportType',\n",
    "    'respiratoryFiO2': 'pre_RespiratoryFiO2',\n",
    "    'respiratoryRate_Hz': 'pre_RespiratoryRate_Hz',\n",
    "    'respiratoryPIP_cmH2O': 'pre_RespiratoryPIP_cmH2O',\n",
    "    'respiratoryMAP_cmH2O': 'pre_RespiratoryMAP_cmH2O',\n",
    "    'respiratoryPEEP_cmH2O': 'pre_RespiratoryPEEP_cmH2O',\n",
    "}\n",
    "df_respiratory_pre = df_respiratory_pre.rename(columns=pre_rename_map)\n",
    "\n",
    "df_respiratory_pre = COMBINE_harmonizer.valid_columns(df_respiratory_pre, all_respiratory_pre_intervention_columns)\n",
    "df_respiratory_pre = COMBINE_harmonizer.postprocess(df_respiratory_pre)\n",
    "\n",
    "# XXX skip pre-respiratory because there is no data.\n",
    "# out_filename = os.sep.join([out_dir, '01-14-pre-respiratory.csv'])\n",
    "# df_respiratory_before_baseline.to_csv(out_filename, index=False)"
   ]
  },
  {
   "cell_type": "markdown",
   "id": "5d41e4b0",
   "metadata": {},
   "source": [
    "### 01-14-2. check empty cells"
   ]
  },
  {
   "cell_type": "code",
   "execution_count": 63,
   "id": "5c670f18",
   "metadata": {
    "execution": {
     "iopub.execute_input": "2025-05-10T00:14:17.450045Z",
     "iopub.status.busy": "2025-05-10T00:14:17.449967Z",
     "iopub.status.idle": "2025-05-10T00:14:17.452594Z",
     "shell.execute_reply": "2025-05-10T00:14:17.452372Z"
    }
   },
   "outputs": [
    {
     "name": "stdout",
     "output_type": "stream",
     "text": [
      "(0/11) column: center (350 / 0)"
     ]
    },
    {
     "name": "stdout",
     "output_type": "stream",
     "text": [
      "\n",
      "(1/11) column: subjectID (350 / 0)\n",
      "(2/11) column: uniqueID (350 / 0)\n",
      "(3/11) column: pre_RespiratoryDate (348 / 2)\n",
      "(4/11) column: pre_RespiratoryTime (321 / 29)\n",
      "(5/11) column: pre_RespiratorySupportType (0 / 350)\n",
      "(6/11) column: pre_RespiratoryFiO2 (0 / 350)\n",
      "(7/11) column: pre_RespiratoryRate_Hz (0 / 350)\n",
      "(8/11) column: pre_RespiratoryPIP_cmH2O (0 / 350)\n",
      "(9/11) column: pre_RespiratoryMAP_cmH2O (0 / 350)\n",
      "(10/11) column: pre_RespiratoryPEEP_cmH2O (0 / 350)\n"
     ]
    }
   ],
   "source": [
    "COMBINE_harmonizer.check_empty(df_respiratory_pre)"
   ]
  },
  {
   "cell_type": "code",
   "execution_count": 64,
   "id": "ce5c9628",
   "metadata": {
    "execution": {
     "iopub.execute_input": "2025-05-10T00:14:17.453873Z",
     "iopub.status.busy": "2025-05-10T00:14:17.453667Z",
     "iopub.status.idle": "2025-05-10T00:14:17.456015Z",
     "shell.execute_reply": "2025-05-10T00:14:17.455794Z"
    }
   },
   "outputs": [
    {
     "name": "stdout",
     "output_type": "stream",
     "text": [
      "(0/11) center: (350/0)\n",
      "(1/11) subjectID: (350/0)\n",
      "(2/11) uniqueID: (350/0)\n",
      "(3/11) pre_RespiratoryDate: (348/2)\n",
      "(4/11) pre_RespiratoryTime: (321/29)\n",
      "(5/11) pre_RespiratorySupportType: (0/350)\n",
      "(6/11) pre_RespiratoryFiO2: (0/350)\n",
      "(7/11) pre_RespiratoryRate_Hz: (0/350)\n",
      "(8/11) pre_RespiratoryPIP_cmH2O: (0/350)\n",
      "(9/11) pre_RespiratoryMAP_cmH2O: (0/350)\n",
      "(10/11) pre_RespiratoryPEEP_cmH2O: (0/350)\n"
     ]
    }
   ],
   "source": [
    "COMBINE_harmonizer.column_info(df_respiratory_pre)"
   ]
  },
  {
   "cell_type": "markdown",
   "id": "09c5cdd3",
   "metadata": {},
   "source": [
    "## 01-15. Pre-intervention - Blood Gas"
   ]
  },
  {
   "cell_type": "code",
   "execution_count": 65,
   "id": "0482fe18",
   "metadata": {
    "execution": {
     "iopub.execute_input": "2025-05-10T00:14:17.457255Z",
     "iopub.status.busy": "2025-05-10T00:14:17.457153Z",
     "iopub.status.idle": "2025-05-10T00:14:17.459788Z",
     "shell.execute_reply": "2025-05-10T00:14:17.459583Z"
    }
   },
   "outputs": [
    {
     "data": {
      "text/plain": [
       "['pre_BloodGasDate',\n",
       " 'pre_BloodGasTime',\n",
       " 'pre_BloodGasSrc',\n",
       " 'pre_BloodGasPH',\n",
       " 'pre_BloodGasPCO2_mmHg',\n",
       " 'pre_BloodGasPO2_mmHg',\n",
       " 'pre_BloodGasHCO3_mEqPerL',\n",
       " 'pre_BloodGasBaseDeficit_mEqPerL',\n",
       " 'pre_BloodGasPHCorrect',\n",
       " 'pre_BloodGasPCO2Correct_mmHg',\n",
       " 'pre_BloodGasPO2Correct_mmHg',\n",
       " 'pre_BloodGasHCO3Correct_mEqPerL',\n",
       " 'pre_BloodGasBaseDeficitCorrect_mEqPerL']"
      ]
     },
     "execution_count": 65,
     "metadata": {},
     "output_type": "execute_result"
    }
   ],
   "source": [
    "blood_gas_pre_columns = COMBINE_harmonizer.get_columns(\n",
    "    df_data_dict,\n",
    "    COMBINE_harmonizer.CATEGORY_PRE_INTERVENTION,\n",
    "    COMBINE_harmonizer.SUBCATEGORY_BLOOD_GAS_RESPIRATORY)\n",
    "\n",
    "all_blood_gas_pre_columns = id_columns + blood_gas_pre_columns\n",
    "blood_gas_pre_columns"
   ]
  },
  {
   "cell_type": "code",
   "execution_count": 66,
   "id": "27ec0e1b",
   "metadata": {
    "execution": {
     "iopub.execute_input": "2025-05-10T00:14:17.460870Z",
     "iopub.status.busy": "2025-05-10T00:14:17.460782Z",
     "iopub.status.idle": "2025-05-10T00:14:17.472805Z",
     "shell.execute_reply": "2025-05-10T00:14:17.472525Z"
    }
   },
   "outputs": [],
   "source": [
    "df_blood_gas = df_dict['oc07.csv'].copy().rename(columns={'cardioTimeSlot_min': 'bloodGasTimeSlot_min'})\n",
    "\n",
    "bloodGasTimeSlot_int = df_blood_gas['bloodGasTimeSlot_min'].apply(COMBINE_harmonizer.to_int)\n",
    "is_pre = bloodGasTimeSlot_int == 0\n",
    "df_blood_gas_pre = df_blood_gas[is_pre]\n",
    "pre_rename_map = {\n",
    "    'bloodGasDate': 'pre_BloodGasDate',\n",
    "    'bloodGasTime': 'pre_BloodGasTime',\n",
    "    'bloodGasSrc': 'pre_BloodGasSrc',\n",
    "    'bloodGasPH': 'pre_BloodGasPH',\n",
    "    'bloodGasPCO2_mmHg': 'pre_BloodGasPCO2_mmHg',\n",
    "    'bloodGasPO2_mmHg': 'pre_BloodGasPO2_mmHg',\n",
    "    'bloodGasHCO3_mEqPerL': 'pre_BloodGasHCO3_mEqPerL',\n",
    "    'bloodGasBaseDeficit_mEqPerL': 'pre_BloodGasBaseDeficit_mEqPerL',\n",
    "    'bloodGasPHCorrect': 'pre_BloodGasPHCorrect',\n",
    "    'bloodGasPCO2Correct_mmHg': 'pre_BloodGasPCO2Correct_mmHg',\n",
    "    'bloodGasPO2Correct_mmHg': 'pre_BloodGasPO2Correct_mmHg',\n",
    "    'bloodGasHCO3Correct_mEqPerL': 'pre_BloodGasHCO3Correct_mEqPerL',\n",
    "    'bloodGasBaseDeficitCorrect_mEqPerL': 'pre_BloodGasBaseDeficitCorrect_mEqPerL',\n",
    "}\n",
    "df_blood_gas_pre = df_blood_gas_pre.rename(columns=pre_rename_map)\n",
    "\n",
    "df_blood_gas_pre = COMBINE_harmonizer.valid_columns(df_blood_gas_pre, all_blood_gas_pre_columns)\n",
    "df_blood_gas_pre = COMBINE_harmonizer.postprocess(df_blood_gas_pre)\n",
    "\n",
    "# XXX skip pre-blood-gas because there is only 1 data.\n",
    "# out_filename = os.sep.join([out_dir, '01-15-pre-blood-gas.csv'])\n",
    "# df_blood_gas_pre.to_csv(out_filename, index=False)"
   ]
  },
  {
   "cell_type": "markdown",
   "id": "ac4dd178",
   "metadata": {},
   "source": [
    "### 01-15-2. check empty"
   ]
  },
  {
   "cell_type": "code",
   "execution_count": 67,
   "id": "42905dd4",
   "metadata": {
    "execution": {
     "iopub.execute_input": "2025-05-10T00:14:17.474236Z",
     "iopub.status.busy": "2025-05-10T00:14:17.474162Z",
     "iopub.status.idle": "2025-05-10T00:14:17.477017Z",
     "shell.execute_reply": "2025-05-10T00:14:17.476796Z"
    }
   },
   "outputs": [
    {
     "name": "stdout",
     "output_type": "stream",
     "text": [
      "(0/16) column: center (357 / 0)\n",
      "(1/16) column: subjectID (357 / 0)\n",
      "(2/16) column: uniqueID (357 / 0)\n",
      "(3/16) column: pre_BloodGasSrc (0 / 357)\n",
      "(4/16) column: pre_BloodGasDate (1 / 356)\n",
      "(5/16) column: pre_BloodGasTime (1 / 356)\n",
      "(6/16) column: pre_BloodGasPH (1 / 356)\n",
      "(7/16) column: pre_BloodGasPCO2_mmHg (1 / 356)\n",
      "(8/16) column: pre_BloodGasPO2_mmHg (1 / 356)\n",
      "(9/16) column: pre_BloodGasHCO3_mEqPerL (1 / 356)\n",
      "(10/16) column: pre_BloodGasBaseDeficit_mEqPerL (1 / 356)\n",
      "(11/16) column: pre_BloodGasPHCorrect (0 / 357)\n",
      "(12/16) column: pre_BloodGasPCO2Correct_mmHg (0 / 357)\n",
      "(13/16) column: pre_BloodGasPO2Correct_mmHg (0 / 357)\n",
      "(14/16) column: pre_BloodGasHCO3Correct_mEqPerL (0 / 357)\n",
      "(15/16) column: pre_BloodGasBaseDeficitCorrect_mEqPerL (0 / 357)\n"
     ]
    }
   ],
   "source": [
    "COMBINE_harmonizer.check_empty(df_blood_gas_pre)"
   ]
  },
  {
   "cell_type": "code",
   "execution_count": 68,
   "id": "b5235d12",
   "metadata": {
    "execution": {
     "iopub.execute_input": "2025-05-10T00:14:17.478205Z",
     "iopub.status.busy": "2025-05-10T00:14:17.478108Z",
     "iopub.status.idle": "2025-05-10T00:14:17.480405Z",
     "shell.execute_reply": "2025-05-10T00:14:17.480178Z"
    }
   },
   "outputs": [
    {
     "name": "stdout",
     "output_type": "stream",
     "text": [
      "(0/16) center: (357/0)\n",
      "(1/16) subjectID: (357/0)\n",
      "(2/16) uniqueID: (357/0)\n",
      "(3/16) pre_BloodGasSrc: (0/357)\n",
      "(4/16) pre_BloodGasDate: (1/356)\n",
      "(5/16) pre_BloodGasTime: (1/356)\n",
      "(6/16) pre_BloodGasPH: (1/356)\n",
      "(7/16) pre_BloodGasPCO2_mmHg: (1/356)\n",
      "(8/16) pre_BloodGasPO2_mmHg: (1/356)\n",
      "(9/16) pre_BloodGasHCO3_mEqPerL: (1/356)\n",
      "(10/16) pre_BloodGasBaseDeficit_mEqPerL: (1/356)\n",
      "(11/16) pre_BloodGasPHCorrect: (0/357)\n",
      "(12/16) pre_BloodGasPCO2Correct_mmHg: (0/357)\n",
      "(13/16) pre_BloodGasPO2Correct_mmHg: (0/357)\n",
      "(14/16) pre_BloodGasHCO3Correct_mEqPerL: (0/357)\n",
      "(15/16) pre_BloodGasBaseDeficitCorrect_mEqPerL: (0/357)\n"
     ]
    }
   ],
   "source": [
    "COMBINE_harmonizer.column_info(df_blood_gas_pre)"
   ]
  },
  {
   "cell_type": "markdown",
   "id": "5a99f332",
   "metadata": {},
   "source": [
    "## 01-16. Pre-intervention - Hematology CBC"
   ]
  },
  {
   "cell_type": "code",
   "execution_count": 69,
   "id": "4bed1eac",
   "metadata": {
    "execution": {
     "iopub.execute_input": "2025-05-10T00:14:17.481634Z",
     "iopub.status.busy": "2025-05-10T00:14:17.481542Z",
     "iopub.status.idle": "2025-05-10T00:14:17.484075Z",
     "shell.execute_reply": "2025-05-10T00:14:17.483867Z"
    }
   },
   "outputs": [
    {
     "data": {
      "text/plain": [
       "['pre_Hematology',\n",
       " 'pre_HematologyDate',\n",
       " 'pre_HematologyTime',\n",
       " 'pre_HematologyWBC_cPermuL',\n",
       " 'pre_HematologyHemoglobin_gPerdL',\n",
       " 'pre_HematologyPolymorphNeutrophils_cPermuL',\n",
       " 'pre_HematologyMonocytes_cPermuL',\n",
       " 'pre_HematologyLymphocytes_cPermuL',\n",
       " 'pre_HematologyPlateletCount_cPermuL',\n",
       " 'pre_HematologyPT_s',\n",
       " 'pre_HematologyPTT_s']"
      ]
     },
     "execution_count": 69,
     "metadata": {},
     "output_type": "execute_result"
    }
   ],
   "source": [
    "hematology_before_baseline_columns = COMBINE_harmonizer.get_columns(\n",
    "    df_data_dict,\n",
    "    COMBINE_harmonizer.CATEGORY_PRE_INTERVENTION,\n",
    "    COMBINE_harmonizer.SUBCATEGORY_HEMATOLOGY_CBC)\n",
    "\n",
    "all_hematology_before_baseline_columns = id_columns + hematology_before_baseline_columns\n",
    "hematology_before_baseline_columns"
   ]
  },
  {
   "cell_type": "code",
   "execution_count": 70,
   "id": "ba40b450",
   "metadata": {
    "execution": {
     "iopub.execute_input": "2025-05-10T00:14:17.485208Z",
     "iopub.status.busy": "2025-05-10T00:14:17.485116Z",
     "iopub.status.idle": "2025-05-10T00:14:17.487066Z",
     "shell.execute_reply": "2025-05-10T00:14:17.486871Z"
    }
   },
   "outputs": [
    {
     "data": {
      "text/plain": [
       "['subjectID',\n",
       " 'hematology',\n",
       " 'REC_CMP',\n",
       " 'center',\n",
       " 'respiratoryTimeSlot_min',\n",
       " 'respiratoryDate',\n",
       " 'respiratoryTime',\n",
       " 'respiratorySupportType',\n",
       " 'respiratoryFiO2',\n",
       " 'respiratoryRate_Hz',\n",
       " 'respiratoryPIP_cmH2O',\n",
       " 'respiratoryMAP_cmH2O',\n",
       " 'respiratoryPEEP_cmH2O',\n",
       " 'hematologyWBC_cPermuL',\n",
       " 'hematologyHemoglobin_gPerdL',\n",
       " 'hematologyPolymorphNeutrophils_cPermuL',\n",
       " 'hematologyMonocytes_cPermuL',\n",
       " 'hematologyLymphocytes_cPermuL',\n",
       " 'hematologyPlatelet_cPermuL',\n",
       " 'hematologyPT_s',\n",
       " 'hematologyPTT_s',\n",
       " 'anticonvulsants1',\n",
       " 'anticonvulsants2',\n",
       " 'anticonvulsants3',\n",
       " 'analgesicsSedatives1',\n",
       " 'analgesicsSedatives2',\n",
       " 'analgesicsSedatives3',\n",
       " 'antipyretics1',\n",
       " 'antipyretics2',\n",
       " 'antipyretics3',\n",
       " 'paralytics1',\n",
       " 'paralytics2',\n",
       " 'paralytics3',\n",
       " 'otherMedFluidIntake_ccPerKg',\n",
       " 'otherMedUrineOutput_ccPerKg',\n",
       " 'CMP_DATE',\n",
       " 'CRT_DATE']"
      ]
     },
     "execution_count": 70,
     "metadata": {},
     "output_type": "execute_result"
    }
   ],
   "source": [
    "list(df_dict['oc08.csv'].columns)"
   ]
  },
  {
   "cell_type": "code",
   "execution_count": 71,
   "id": "3885b1db",
   "metadata": {
    "execution": {
     "iopub.execute_input": "2025-05-10T00:14:17.488291Z",
     "iopub.status.busy": "2025-05-10T00:14:17.488199Z",
     "iopub.status.idle": "2025-05-10T00:14:17.495706Z",
     "shell.execute_reply": "2025-05-10T00:14:17.495473Z"
    }
   },
   "outputs": [
    {
     "name": "stdout",
     "output_type": "stream",
     "text": [
      "(2/37) REC_CMP not in columns\n",
      "(4/37) hematologyTimeSlot_min not in columns\n",
      "(7/37) respiratorySupportType not in columns\n",
      "(8/37) respiratoryFiO2 not in columns\n",
      "(9/37) respiratoryRate_Hz not in columns\n",
      "(10/37) respiratoryPIP_cmH2O not in columns\n",
      "(11/37) respiratoryMAP_cmH2O not in columns\n",
      "(12/37) respiratoryPEEP_cmH2O not in columns\n",
      "(13/37) hematologyWBC_cPermuL not in columns\n",
      "(14/37) hematologyHemoglobin_gPerdL not in columns\n",
      "(15/37) hematologyPolymorphNeutrophils_cPermuL not in columns\n",
      "(16/37) hematologyMonocytes_cPermuL not in columns\n",
      "(17/37) hematologyLymphocytes_cPermuL not in columns\n",
      "(18/37) hematologyPlatelet_cPermuL not in columns\n",
      "(21/37) anticonvulsants1 not in columns\n",
      "(22/37) anticonvulsants2 not in columns\n",
      "(23/37) anticonvulsants3 not in columns\n",
      "(24/37) analgesicsSedatives1 not in columns\n",
      "(25/37) analgesicsSedatives2 not in columns\n",
      "(26/37) analgesicsSedatives3 not in columns\n",
      "(27/37) antipyretics1 not in columns\n",
      "(28/37) antipyretics2 not in columns\n",
      "(29/37) antipyretics3 not in columns\n",
      "(30/37) paralytics1 not in columns\n",
      "(31/37) paralytics2 not in columns\n",
      "(32/37) paralytics3 not in columns\n",
      "(33/37) otherMedFluidIntake_ccPerKg not in columns\n",
      "(34/37) otherMedUrineOutput_ccPerKg not in columns\n",
      "(35/37) CMP_DATE not in columns\n",
      "(36/37) CRT_DATE not in columns\n",
      "(5/13) pre_HematologyWBC_cPermuL not in df\n",
      "(6/13) pre_HematologyHemoglobin_gPerdL not in df\n",
      "(7/13) pre_HematologyPolymorphNeutrophils_cPermuL not in df\n",
      "(8/13) pre_HematologyMonocytes_cPermuL not in df\n",
      "(9/13) pre_HematologyLymphocytes_cPermuL not in df\n",
      "(10/13) pre_HematologyPlateletCount_cPermuL not in df\n"
     ]
    }
   ],
   "source": [
    "df_hematology = df_dict['oc08.csv'].copy().rename(columns={'respiratoryTimeSlot_min': 'hematologyTimeSlot_min', 'respiratoryDate': 'hematologyDate', 'respiratoryTime': 'hematologyTime'})\n",
    "\n",
    "hematology_time_slot_int = df_hematology['hematologyTimeSlot_min'].apply(COMBINE_harmonizer.to_int)\n",
    "is_pre = hematology_time_slot_int == 0\n",
    "df_hematology_pre = df_hematology[is_pre]\n",
    "\n",
    "pre_rename_map = {\n",
    "    'hematology': 'pre_Hematology',\n",
    "    'hematologyDate': 'pre_HematologyDate',\n",
    "    'hematologyTime': 'pre_HematologyTime',\n",
    "    'hematologyWBC': 'pre_HematologyWBC',\n",
    "    'hematologyHemoglobin': 'pre_HematologyHemoglobin',\n",
    "    'hematologyPolymorphNeutrophilsDifferentialCount': 'pre_HematologyPolymorphNeutrophilsDifferentialCount',\n",
    "    'hematologyMonocytes': 'pre_HematologyMonocytes',\n",
    "    'hematologyLymphocytes': 'pre_HematologyLymphocytes',\n",
    "    'hematologyPlateletCount': 'pre_HematologyPlateletCount',\n",
    "    'hematologyPT_s': 'pre_HematologyPT_s',\n",
    "    'hematologyPTT_s': 'pre_HematologyPTT_s',\n",
    "}\n",
    "df_hematology_pre = df_hematology_pre.rename(columns=pre_rename_map)\n",
    "\n",
    "df_hematology_pre = COMBINE_harmonizer.valid_columns(df_hematology_pre, all_hematology_before_baseline_columns, debug_df=True, debug_columns=True)\n",
    "df_hematology_pre = COMBINE_harmonizer.postprocess(df_hematology_pre)\n",
    "\n",
    "# XXX skip pre-hematology because there is no data.\n",
    "# out_filename = os.sep.join([out_dir, '01-16-pre-hematology.csv'])\n",
    "# df_hematology_pre.to_csv(out_filename, index=False)"
   ]
  },
  {
   "cell_type": "markdown",
   "id": "f72c98fb",
   "metadata": {},
   "source": [
    "### 01-16-2. check empty"
   ]
  },
  {
   "cell_type": "code",
   "execution_count": 72,
   "id": "aab6b2f9",
   "metadata": {
    "execution": {
     "iopub.execute_input": "2025-05-10T00:14:17.496988Z",
     "iopub.status.busy": "2025-05-10T00:14:17.496909Z",
     "iopub.status.idle": "2025-05-10T00:14:17.499294Z",
     "shell.execute_reply": "2025-05-10T00:14:17.499057Z"
    }
   },
   "outputs": [
    {
     "name": "stdout",
     "output_type": "stream",
     "text": [
      "(0/8) column: center (350 / 0)\n",
      "(1/8) column: subjectID (350 / 0)\n",
      "(2/8) column: uniqueID (350 / 0)\n",
      "(3/8) column: pre_Hematology (0 / 350)\n",
      "(4/8) column: pre_HematologyDate (348 / 2)\n",
      "(5/8) column: pre_HematologyTime (321 / 29)\n",
      "(6/8) column: pre_HematologyPT_s (0 / 350)\n",
      "(7/8) column: pre_HematologyPTT_s (0 / 350)\n"
     ]
    }
   ],
   "source": [
    "COMBINE_harmonizer.check_empty(df_hematology_pre)"
   ]
  },
  {
   "cell_type": "code",
   "execution_count": 73,
   "id": "e21ba18e",
   "metadata": {
    "execution": {
     "iopub.execute_input": "2025-05-10T00:14:17.500421Z",
     "iopub.status.busy": "2025-05-10T00:14:17.500341Z",
     "iopub.status.idle": "2025-05-10T00:14:17.502569Z",
     "shell.execute_reply": "2025-05-10T00:14:17.502344Z"
    }
   },
   "outputs": [
    {
     "name": "stdout",
     "output_type": "stream",
     "text": [
      "(0/8) center: (350/0)\n",
      "(1/8) subjectID: (350/0)\n",
      "(2/8) uniqueID: (350/0)\n",
      "(3/8) pre_Hematology: (0/350)\n",
      "(4/8) pre_HematologyDate: (348/2)\n",
      "(5/8) pre_HematologyTime: (321/29)\n",
      "(6/8) pre_HematologyPT_s: (0/350)\n",
      "(7/8) pre_HematologyPTT_s: (0/350)\n"
     ]
    }
   ],
   "source": [
    "COMBINE_harmonizer.column_info(df_hematology_pre)"
   ]
  },
  {
   "cell_type": "markdown",
   "id": "dfe60840",
   "metadata": {},
   "source": [
    "## 01-09. Pre-intervention - Infection"
   ]
  },
  {
   "cell_type": "code",
   "execution_count": 74,
   "id": "08d5a17a",
   "metadata": {
    "execution": {
     "iopub.execute_input": "2025-05-10T00:14:17.503821Z",
     "iopub.status.busy": "2025-05-10T00:14:17.503742Z",
     "iopub.status.idle": "2025-05-10T00:14:17.506346Z",
     "shell.execute_reply": "2025-05-10T00:14:17.506115Z"
    }
   },
   "outputs": [
    {
     "data": {
      "text/plain": [
       "['pre_PositiveCulture',\n",
       " 'pre_PositiveCultureSrc',\n",
       " 'pre_PositiveCultureDate',\n",
       " 'pre_PositiveCultureTime',\n",
       " 'pre_PositiveCultureOrganismCode1',\n",
       " 'pre_PositiveCultureOrganismCode2',\n",
       " 'pre_PositiveCultureOrganismCode3',\n",
       " 'pre_Antibiotics',\n",
       " 'pre_AntibioticsCode1',\n",
       " 'pre_AntibioticsCode2',\n",
       " 'pre_AntibioticsCode3']"
      ]
     },
     "execution_count": 74,
     "metadata": {},
     "output_type": "execute_result"
    }
   ],
   "source": [
    "infection_pre_columns = COMBINE_harmonizer.get_columns(\n",
    "    df_data_dict,\n",
    "    COMBINE_harmonizer.CATEGORY_PRE_INTERVENTION,\n",
    "    COMBINE_harmonizer.SUBCATEGORY_INFECTION)\n",
    "\n",
    "all_infection_pre_columns = id_columns + infection_pre_columns\n",
    "infection_pre_columns"
   ]
  },
  {
   "cell_type": "code",
   "execution_count": 75,
   "id": "0f1ad4d9",
   "metadata": {
    "execution": {
     "iopub.execute_input": "2025-05-10T00:14:17.507508Z",
     "iopub.status.busy": "2025-05-10T00:14:17.507432Z",
     "iopub.status.idle": "2025-05-10T00:14:17.563691Z",
     "shell.execute_reply": "2025-05-10T00:14:17.563382Z"
    }
   },
   "outputs": [
    {
     "name": "stdout",
     "output_type": "stream",
     "text": [
      "(2/13) pre_PositiveCulture not in df\n",
      "(3/13) pre_PositiveCultureSrc not in df\n",
      "(4/13) pre_PositiveCultureDate not in df\n",
      "(5/13) pre_PositiveCultureTime not in df\n",
      "(6/13) pre_PositiveCultureOrganismCode1 not in df\n",
      "(7/13) pre_PositiveCultureOrganismCode2 not in df\n",
      "(8/13) pre_PositiveCultureOrganismCode3 not in df\n"
     ]
    }
   ],
   "source": [
    "df_infection_1 = df_dict['oc09i.csv'].copy()\n",
    "df_infection_2 = df_dict['oc09.csv'].copy()\n",
    "df_infection = df_infection_1.merge(df_infection_2, on=['center', 'subjectID'], how='outer')\n",
    "df_infection_pre_intervention = COMBINE_harmonizer.valid_columns(df_infection, all_infection_pre_columns)\n",
    "df_infection_pre_intervention = COMBINE_harmonizer.postprocess(df_infection_pre_intervention)\n",
    "\n",
    "out_filename = os.sep.join([out_dir, '01-09-pre-infection.csv'])\n",
    "df_infection_pre_intervention.to_csv(out_filename, index=False)"
   ]
  },
  {
   "cell_type": "code",
   "execution_count": 76,
   "id": "f0ade414",
   "metadata": {
    "execution": {
     "iopub.execute_input": "2025-05-10T00:14:17.565039Z",
     "iopub.status.busy": "2025-05-10T00:14:17.564961Z",
     "iopub.status.idle": "2025-05-10T00:14:17.567172Z",
     "shell.execute_reply": "2025-05-10T00:14:17.566937Z"
    }
   },
   "outputs": [
    {
     "data": {
      "text/plain": [
       "Index(['center', 'subjectID', 'uniqueID', 'pre_Antibiotics',\n",
       "       'pre_AntibioticsCode1', 'pre_AntibioticsCode2', 'pre_AntibioticsCode3'],\n",
       "      dtype='object')"
      ]
     },
     "execution_count": 76,
     "metadata": {},
     "output_type": "execute_result"
    }
   ],
   "source": [
    "df_infection_pre_intervention.columns"
   ]
  },
  {
   "cell_type": "markdown",
   "id": "100044c6",
   "metadata": {},
   "source": [
    "### 01-09-2. check empty cells"
   ]
  },
  {
   "cell_type": "code",
   "execution_count": 77,
   "id": "c5d62a77",
   "metadata": {
    "execution": {
     "iopub.execute_input": "2025-05-10T00:14:17.568667Z",
     "iopub.status.busy": "2025-05-10T00:14:17.568587Z",
     "iopub.status.idle": "2025-05-10T00:14:17.570776Z",
     "shell.execute_reply": "2025-05-10T00:14:17.570558Z"
    }
   },
   "outputs": [
    {
     "name": "stdout",
     "output_type": "stream",
     "text": [
      "(0/7) column: center (364 / 0)\n",
      "(1/7) column: subjectID (364 / 0)\n",
      "(2/7) column: uniqueID (364 / 0)\n",
      "(3/7) column: pre_Antibiotics (364 / 0)\n",
      "(4/7) column: pre_AntibioticsCode1 (308 / 56)\n",
      "(5/7) column: pre_AntibioticsCode2 (273 / 91)\n",
      "(6/7) column: pre_AntibioticsCode3 (8 / 356)\n"
     ]
    }
   ],
   "source": [
    "COMBINE_harmonizer.check_empty(df_infection_pre_intervention)"
   ]
  },
  {
   "cell_type": "code",
   "execution_count": 78,
   "id": "0a2d449f",
   "metadata": {
    "execution": {
     "iopub.execute_input": "2025-05-10T00:14:17.571918Z",
     "iopub.status.busy": "2025-05-10T00:14:17.571824Z",
     "iopub.status.idle": "2025-05-10T00:14:17.573788Z",
     "shell.execute_reply": "2025-05-10T00:14:17.573566Z"
    }
   },
   "outputs": [
    {
     "name": "stdout",
     "output_type": "stream",
     "text": [
      "(0/7) center: (364/0)\n",
      "(1/7) subjectID: (364/0)\n",
      "(2/7) uniqueID: (364/0)\n",
      "(3/7) pre_Antibiotics: (364/0)\n",
      "(4/7) pre_AntibioticsCode1: (308/56)\n",
      "(5/7) pre_AntibioticsCode2: (273/91)\n",
      "(6/7) pre_AntibioticsCode3: (8/356)\n"
     ]
    }
   ],
   "source": [
    "COMBINE_harmonizer.column_info(df_infection_pre_intervention)"
   ]
  },
  {
   "cell_type": "markdown",
   "id": "7c91b027",
   "metadata": {},
   "source": [
    "## 01-10. Pre-intervention - Other Medication"
   ]
  },
  {
   "cell_type": "code",
   "execution_count": 79,
   "id": "488f3e86",
   "metadata": {
    "execution": {
     "iopub.execute_input": "2025-05-10T00:14:17.575008Z",
     "iopub.status.busy": "2025-05-10T00:14:17.574921Z",
     "iopub.status.idle": "2025-05-10T00:14:17.577381Z",
     "shell.execute_reply": "2025-05-10T00:14:17.577173Z"
    }
   },
   "outputs": [
    {
     "data": {
      "text/plain": [
       "['pre_OtherMedTargetDate',\n",
       " 'pre_OtherMedTargetTime',\n",
       " 'pre_Anticonvulsants',\n",
       " 'pre_Anticonvulsants1',\n",
       " 'pre_Anticonvulsants2',\n",
       " 'pre_Anticonvulsants3',\n",
       " 'pre_Anticonvulsants_b',\n",
       " 'pre_AnalgesicsSedatives',\n",
       " 'pre_AnalgesicsSedatives1',\n",
       " 'pre_AnalgesicsSedatives2',\n",
       " 'pre_AnalgesicsSedatives3',\n",
       " 'pre_Antipyretics1',\n",
       " 'pre_Antipyretics2',\n",
       " 'pre_Antipyretics3',\n",
       " 'pre_Paralytics1',\n",
       " 'pre_Paralytics2',\n",
       " 'pre_Paralytics3',\n",
       " 'pre_OtherMedFluidIntake_ccPerKg',\n",
       " 'pre_OtherMedUrineOutput_ccPerKg']"
      ]
     },
     "execution_count": 79,
     "metadata": {},
     "output_type": "execute_result"
    }
   ],
   "source": [
    "other_med_before_baseline_columns = COMBINE_harmonizer.get_columns(\n",
    "    df_data_dict,\n",
    "    COMBINE_harmonizer.CATEGORY_PRE_INTERVENTION,\n",
    "    COMBINE_harmonizer.SUBCATEGORY_OTHER_MEDICINE)\n",
    "\n",
    "all_other_med_pre_baseline_columns = id_columns + other_med_before_baseline_columns\n",
    "other_med_before_baseline_columns"
   ]
  },
  {
   "cell_type": "code",
   "execution_count": 80,
   "id": "098c2fa6",
   "metadata": {
    "execution": {
     "iopub.execute_input": "2025-05-10T00:14:17.578615Z",
     "iopub.status.busy": "2025-05-10T00:14:17.578523Z",
     "iopub.status.idle": "2025-05-10T00:14:17.663358Z",
     "shell.execute_reply": "2025-05-10T00:14:17.663100Z"
    }
   },
   "outputs": [
    {
     "name": "stdout",
     "output_type": "stream",
     "text": [
      "(1/37) hematology not in columns\n",
      "(2/37) REC_CMP not in columns\n",
      "(4/37) otherMedTimeSlot_min not in columns\n",
      "(5/37) respiratoryDate not in columns\n",
      "(6/37) respiratoryTime not in columns\n",
      "(7/37) respiratorySupportType not in columns\n",
      "(8/37) respiratoryFiO2 not in columns\n",
      "(9/37) respiratoryRate_Hz not in columns\n",
      "(10/37) respiratoryPIP_cmH2O not in columns\n",
      "(11/37) respiratoryMAP_cmH2O not in columns\n",
      "(12/37) respiratoryPEEP_cmH2O not in columns\n",
      "(13/37) hematologyWBC_cPermuL not in columns\n",
      "(14/37) hematologyHemoglobin_gPerdL not in columns\n",
      "(15/37) hematologyPolymorphNeutrophils_cPermuL not in columns\n",
      "(16/37) hematologyMonocytes_cPermuL not in columns\n",
      "(17/37) hematologyLymphocytes_cPermuL not in columns\n",
      "(18/37) hematologyPlatelet_cPermuL not in columns\n",
      "(19/37) hematologyPT_s not in columns\n",
      "(20/37) hematologyPTT_s not in columns\n",
      "(35/37) CMP_DATE not in columns\n",
      "(36/37) CRT_DATE not in columns\n",
      "(2/21) pre_OtherMedTargetDate not in df\n",
      "(3/21) pre_OtherMedTargetTime not in df\n",
      "(4/21) pre_Anticonvulsants not in df\n",
      "(8/21) pre_Anticonvulsants_b not in df\n",
      "(9/21) pre_AnalgesicsSedatives not in df\n"
     ]
    }
   ],
   "source": [
    "df_other_med_pre = df_dict['oc08.csv'].copy().rename(columns={'respiratoryTimeSlot_min': 'otherMedTimeSlot_min'})\n",
    "\n",
    "other_med_time_slot_int = df_other_med_pre['otherMedTimeSlot_min'].apply(COMBINE_harmonizer.to_int)\n",
    "is_pre = other_med_time_slot_int == 0\n",
    "df_other_med_pre = df_other_med_pre[is_pre]\n",
    "pre_rename_map = {\n",
    "    'otherMedTargetDate': 'pre_OtherMedTargetDate',\n",
    "    'otherMedTargetTime': 'pre_OtherMedTargetTime',\n",
    "    'anticonvulsants': 'pre_Anticonvulsants',\n",
    "    'anticonvulsants1': 'pre_Anticonvulsants1',\n",
    "    'anticonvulsants2': 'pre_Anticonvulsants2',\n",
    "    'anticonvulsants3': 'pre_Anticonvulsants3',\n",
    "    'analgesics': 'pre_Analgesics',\n",
    "    'analgesicsSedatives1': 'pre_AnalgesicsSedatives1',\n",
    "    'analgesicsSedatives2': 'pre_AnalgesicsSedatives2',\n",
    "    'analgesicsSedatives3': 'pre_AnalgesicsSedatives3',\n",
    "    'antipyretics': 'pre_Antipyretics',\n",
    "    'antipyretics1': 'pre_Antipyretics1',\n",
    "    'antipyretics2': 'pre_Antipyretics2',\n",
    "    'antipyretics3': 'pre_Antipyretics3',\n",
    "    'paralytics': 'pre_Paralytics',\n",
    "    'paralytics1': 'pre_Paralytics1',\n",
    "    'paralytics2': 'pre_Paralytics2',\n",
    "    'paralytics3': 'pre_Paralytics3',\n",
    "    'otherMedFluidIntake_ccPerKg': 'pre_OtherMedFluidIntake_ccPerKg',\n",
    "    'otherMedUrineOutput_ccPerKg': 'pre_OtherMedUrineOutput_ccPerKg',\n",
    "}\n",
    "df_other_med_pre = df_other_med_pre.rename(columns=pre_rename_map)\n",
    "\n",
    "df_other_med_pre = COMBINE_harmonizer.valid_columns(df_other_med_pre, all_other_med_pre_baseline_columns, debug_df=True, debug_columns=True)\n",
    "df_other_med_pre = COMBINE_harmonizer.postprocess(df_other_med_pre)\n",
    "\n",
    "out_filename = os.sep.join([out_dir, '01-10-pre-other-med.csv'])\n",
    "df_other_med_pre.to_csv(out_filename, index=False)"
   ]
  },
  {
   "cell_type": "markdown",
   "id": "fbffc0d4",
   "metadata": {},
   "source": [
    "### 01-10-2. check empty cells"
   ]
  },
  {
   "cell_type": "code",
   "execution_count": 81,
   "id": "2f61548e",
   "metadata": {
    "execution": {
     "iopub.execute_input": "2025-05-10T00:14:17.664944Z",
     "iopub.status.busy": "2025-05-10T00:14:17.664854Z",
     "iopub.status.idle": "2025-05-10T00:14:17.667958Z",
     "shell.execute_reply": "2025-05-10T00:14:17.667753Z"
    }
   },
   "outputs": [
    {
     "name": "stdout",
     "output_type": "stream",
     "text": [
      "(0/17) column: center (350 / 0)\n",
      "(1/17) column: subjectID (350 / 0)\n",
      "(2/17) column: uniqueID (350 / 0)\n",
      "(3/17) column: pre_Anticonvulsants1 (85 / 265)\n",
      "(4/17) column: pre_Anticonvulsants2 (13 / 337)\n",
      "(5/17) column: pre_Anticonvulsants3 (0 / 350)\n",
      "(6/17) column: pre_AnalgesicsSedatives1 (74 / 276)\n",
      "(7/17) column: pre_AnalgesicsSedatives2 (19 / 331)\n",
      "(8/17) column: pre_AnalgesicsSedatives3 (1 / 349)\n",
      "(9/17) column: pre_Antipyretics1 (1 / 349)\n",
      "(10/17) column: pre_Antipyretics2 (0 / 350)\n",
      "(11/17) column: pre_Antipyretics3 (0 / 350)\n",
      "(12/17) column: pre_Paralytics1 (2 / 348)\n",
      "(13/17) column: pre_Paralytics2 (0 / 350)\n",
      "(14/17) column: pre_Paralytics3 (0 / 350)\n",
      "(15/17) column: pre_OtherMedFluidIntake_ccPerKg (0 / 350)\n",
      "(16/17) column: pre_OtherMedUrineOutput_ccPerKg (0 / 350)\n"
     ]
    }
   ],
   "source": [
    "COMBINE_harmonizer.check_empty(df_other_med_pre)"
   ]
  },
  {
   "cell_type": "code",
   "execution_count": 82,
   "id": "94d3b50f",
   "metadata": {
    "execution": {
     "iopub.execute_input": "2025-05-10T00:14:17.669127Z",
     "iopub.status.busy": "2025-05-10T00:14:17.669019Z",
     "iopub.status.idle": "2025-05-10T00:14:17.671411Z",
     "shell.execute_reply": "2025-05-10T00:14:17.671165Z"
    }
   },
   "outputs": [
    {
     "name": "stdout",
     "output_type": "stream",
     "text": [
      "(0/17) center: (350/0)\n",
      "(1/17) subjectID: (350/0)\n",
      "(2/17) uniqueID: (350/0)\n",
      "(3/17) pre_Anticonvulsants1: (85/265)\n",
      "(4/17) pre_Anticonvulsants2: (13/337)\n",
      "(5/17) pre_Anticonvulsants3: (0/350)\n",
      "(6/17) pre_AnalgesicsSedatives1: (74/276)\n",
      "(7/17) pre_AnalgesicsSedatives2: (19/331)\n",
      "(8/17) pre_AnalgesicsSedatives3: (1/349)\n",
      "(9/17) pre_Antipyretics1: (1/349)\n",
      "(10/17) pre_Antipyretics2: (0/350)\n",
      "(11/17) pre_Antipyretics3: (0/350)\n",
      "(12/17) pre_Paralytics1: (2/348)\n",
      "(13/17) pre_Paralytics2: (0/350)\n",
      "(14/17) pre_Paralytics3: (0/350)\n",
      "(15/17) pre_OtherMedFluidIntake_ccPerKg: (0/350)\n",
      "(16/17) pre_OtherMedUrineOutput_ccPerKg: (0/350)\n"
     ]
    }
   ],
   "source": [
    "COMBINE_harmonizer.column_info(df_other_med_pre)"
   ]
  },
  {
   "cell_type": "markdown",
   "id": "37c3bfe1",
   "metadata": {},
   "source": [
    "## 01-11. Pre-intervention - Imaging"
   ]
  },
  {
   "cell_type": "code",
   "execution_count": 83,
   "id": "bd132371",
   "metadata": {
    "execution": {
     "iopub.execute_input": "2025-05-10T00:14:17.673029Z",
     "iopub.status.busy": "2025-05-10T00:14:17.672920Z",
     "iopub.status.idle": "2025-05-10T00:14:17.675658Z",
     "shell.execute_reply": "2025-05-10T00:14:17.675429Z"
    }
   },
   "outputs": [
    {
     "data": {
      "text/plain": [
       "['pre_HeadSonogram',\n",
       " 'pre_HeadSonogramDate',\n",
       " 'pre_HeadSonogramTime',\n",
       " 'pre_HeadSonogramResult1',\n",
       " 'pre_HeadSonogramResult2',\n",
       " 'pre_HeadSonogramResult3',\n",
       " 'pre_HeadSonogramResult4',\n",
       " 'pre_HeadSonogramResult5',\n",
       " 'pre_HeadSonogramResult6',\n",
       " 'pre_HeadSonogramResult7',\n",
       " 'pre_HeadSonogramResult8',\n",
       " 'pre_HeadSonogramResultText',\n",
       " 'pre_HeadCT',\n",
       " 'pre_HeadCTDate',\n",
       " 'pre_HeadCTTime',\n",
       " 'pre_HeadCTResult1',\n",
       " 'pre_HeadCTResult2',\n",
       " 'pre_HeadCTResult3',\n",
       " 'pre_HeadCTResult4',\n",
       " 'pre_HeadCTResult5',\n",
       " 'pre_HeadCTResult6',\n",
       " 'pre_HeadCTResult7',\n",
       " 'pre_HeadCTResult8',\n",
       " 'pre_HeadCTResultText',\n",
       " 'pre_BrainMRI',\n",
       " 'pre_BrainMRIDate',\n",
       " 'pre_BrainMRITime',\n",
       " 'pre_BrainMRIResult1',\n",
       " 'pre_BrainMRIResult2',\n",
       " 'pre_BrainMRIResult3',\n",
       " 'pre_BrainMRIResult4',\n",
       " 'pre_BrainMRIResult5',\n",
       " 'pre_BrainMRIResult6',\n",
       " 'pre_BrainMRIResult7',\n",
       " 'pre_BrainMRIResult8',\n",
       " 'pre_BrainMRIResultText']"
      ]
     },
     "execution_count": 83,
     "metadata": {},
     "output_type": "execute_result"
    }
   ],
   "source": [
    "imaging_pre_columns = COMBINE_harmonizer.get_columns(\n",
    "    df_data_dict,\n",
    "    COMBINE_harmonizer.CATEGORY_PRE_INTERVENTION,\n",
    "    COMBINE_harmonizer.SUBCATEGORY_IMAGING_REPORT)\n",
    "\n",
    "all_imaging_pre_columns = id_columns + imaging_pre_columns\n",
    "imaging_pre_columns"
   ]
  },
  {
   "cell_type": "code",
   "execution_count": 84,
   "id": "90730448",
   "metadata": {
    "execution": {
     "iopub.execute_input": "2025-05-10T00:14:17.676937Z",
     "iopub.status.busy": "2025-05-10T00:14:17.676834Z",
     "iopub.status.idle": "2025-05-10T00:14:17.753901Z",
     "shell.execute_reply": "2025-05-10T00:14:17.753637Z"
    }
   },
   "outputs": [
    {
     "name": "stdout",
     "output_type": "stream",
     "text": [
      "(7/42) REC_CMP not in columns\n",
      "(9/42) imagingNumber not in columns\n",
      "(40/42) CMP_DATE not in columns\n",
      "(41/42) CRT_DATE not in columns\n"
     ]
    }
   ],
   "source": [
    "df_imaging = df_dict['oc12.csv'].copy()\n",
    "\n",
    "imaging_time_slot_int = df_imaging['imagingNumber'].apply(COMBINE_harmonizer.to_int)\n",
    "is_pre = imaging_time_slot_int == 1\n",
    "df_imaging_pre = df_imaging[is_pre]\n",
    "pre_rename_map = {\n",
    "    'headSonogram': 'pre_HeadSonogram',\n",
    "    'headSonogramDate': 'pre_HeadSonogramDate',\n",
    "    'headSonogramTime': 'pre_HeadSonogramTime',\n",
    "    'headSonogramResult1': 'pre_HeadSonogramResult1',\n",
    "    'headSonogramResult2': 'pre_HeadSonogramResult2',\n",
    "    'headSonogramResult3': 'pre_HeadSonogramResult3',\n",
    "    'headSonogramResult4': 'pre_HeadSonogramResult4',\n",
    "    'headSonogramResult5': 'pre_HeadSonogramResult5',\n",
    "    'headSonogramResult6': 'pre_HeadSonogramResult6',\n",
    "    'headSonogramResult7': 'pre_HeadSonogramResult7',\n",
    "    'headSonogramResult8': 'pre_HeadSonogramResult8',\n",
    "    'headSonogramResultText': 'pre_HeadSonogramResultText',\n",
    "    'headCT': 'pre_HeadCT',\n",
    "    'headCTDate': 'pre_HeadCTDate',\n",
    "    'headCTTime': 'pre_HeadCTTime',\n",
    "    'headCTResult1': 'pre_HeadCTResult1',\n",
    "    'headCTResult2': 'pre_HeadCTResult2',\n",
    "    'headCTResult3': 'pre_HeadCTResult3',\n",
    "    'headCTResult4': 'pre_HeadCTResult4',\n",
    "    'headCTResult5': 'pre_HeadCTResult5',\n",
    "    'headCTResult6': 'pre_HeadCTResult6',\n",
    "    'headCTResult7': 'pre_HeadCTResult7',\n",
    "    'headCTResult8': 'pre_HeadCTResult8',\n",
    "    'headCTResultText': 'pre_HeadCTResultText',\n",
    "    'brainMRI': 'pre_BrainMRI',\n",
    "    'brainMRIDate': 'pre_BrainMRIDate',\n",
    "    'brainMRITime': 'pre_BrainMRITime',\n",
    "    'brainMRIResult1': 'pre_BrainMRIResult1',\n",
    "    'brainMRIResult2': 'pre_BrainMRIResult2',\n",
    "    'brainMRIResult3': 'pre_BrainMRIResult3',\n",
    "    'brainMRIResult4': 'pre_BrainMRIResult4',\n",
    "    'brainMRIResult5': 'pre_BrainMRIResult5',\n",
    "    'brainMRIResult6': 'pre_BrainMRIResult6',\n",
    "    'brainMRIResult7': 'pre_BrainMRIResult7',\n",
    "    'brainMRIResult8': 'pre_BrainMRIResult8',\n",
    "    'brainMRIResultText': 'pre_BrainMRIResultText'\n",
    "}\n",
    "df_imaging_pre = df_imaging_pre.rename(columns=pre_rename_map)\n",
    "\n",
    "df_imaging_pre = COMBINE_harmonizer.valid_columns(df_imaging_pre, all_imaging_pre_columns, debug_df=True, debug_columns=False)\n",
    "df_imaging_pre = COMBINE_harmonizer.postprocess(df_imaging_pre)\n",
    "out_filename = os.sep.join([out_dir, '01-11-pre-imaging.csv'])\n",
    "df_imaging_pre.to_csv(out_filename, index=False)"
   ]
  },
  {
   "cell_type": "markdown",
   "id": "da6f4ec2",
   "metadata": {},
   "source": [
    "### 01-11-2. check empty cells"
   ]
  },
  {
   "cell_type": "code",
   "execution_count": 85,
   "id": "b30cefcf",
   "metadata": {
    "execution": {
     "iopub.execute_input": "2025-05-10T00:14:17.755448Z",
     "iopub.status.busy": "2025-05-10T00:14:17.755356Z",
     "iopub.status.idle": "2025-05-10T00:14:17.759753Z",
     "shell.execute_reply": "2025-05-10T00:14:17.759541Z"
    }
   },
   "outputs": [
    {
     "name": "stdout",
     "output_type": "stream",
     "text": [
      "(0/39) column: center (350 / 0)\n",
      "(1/39) column: subjectID (350 / 0)\n",
      "(2/39) column: uniqueID (350 / 0)\n",
      "(3/39) column: pre_HeadSonogram (350 / 0)\n",
      "(4/39) column: pre_HeadSonogramResultText (3 / 347)\n",
      "(5/39) column: pre_HeadCT (350 / 0)\n",
      "(6/39) column: pre_HeadCTResultText (2 / 348)\n",
      "(7/39) column: pre_BrainMRI (350 / 0)\n",
      "(8/39) column: pre_BrainMRIResultText (0 / 350)\n",
      "(9/39) column: pre_HeadSonogramDate (17 / 333)\n",
      "(10/39) column: pre_HeadSonogramTime (17 / 333)\n",
      "(11/39) column: pre_HeadSonogramResult1 (16 / 334)\n",
      "(12/39) column: pre_HeadSonogramResult2 (1 / 349)\n",
      "(13/39) column: pre_HeadSonogramResult3 (0 / 350)\n",
      "(14/39) column: pre_HeadSonogramResult4 (0 / 350)\n",
      "(15/39) column: pre_HeadSonogramResult5 (0 / 350)\n",
      "(16/39) column: pre_HeadSonogramResult6 (0 / 350)\n",
      "(17/39) column: pre_HeadSonogramResult7 (0 / 350)\n",
      "(18/39) column: pre_HeadSonogramResult8 (0 / 350)\n",
      "(19/39) column: pre_HeadCTDate (2 / 348)\n",
      "(20/39) column: pre_HeadCTTime (2 / 348)\n",
      "(21/39) column: pre_HeadCTResult1 (2 / 348)\n",
      "(22/39) column: pre_HeadCTResult2 (1 / 349)\n",
      "(23/39) column: pre_HeadCTResult3 (1 / 349)\n",
      "(24/39) column: pre_HeadCTResult4 (1 / 349)\n",
      "(25/39) column: pre_HeadCTResult5 (0 / 350)\n",
      "(26/39) column: pre_HeadCTResult6 (0 / 350)\n",
      "(27/39) column: pre_HeadCTResult7 (0 / 350)\n",
      "(28/39) column: pre_HeadCTResult8 (0 / 350)\n",
      "(29/39) column: pre_BrainMRIDate (0 / 350)\n",
      "(30/39) column: pre_BrainMRITime (0 / 350)\n",
      "(31/39) column: pre_BrainMRIResult1 (0 / 350)\n",
      "(32/39) column: pre_BrainMRIResult2 (0 / 350)\n",
      "(33/39) column: pre_BrainMRIResult3 (0 / 350)\n",
      "(34/39) column: pre_BrainMRIResult4 (0 / 350)\n",
      "(35/39) column: pre_BrainMRIResult5 (0 / 350)\n",
      "(36/39) column: pre_BrainMRIResult6 (0 / 350)\n",
      "(37/39) column: pre_BrainMRIResult7 (0 / 350)\n",
      "(38/39) column: pre_BrainMRIResult8 (0 / 350)\n"
     ]
    }
   ],
   "source": [
    "COMBINE_harmonizer.check_empty(df_imaging_pre)"
   ]
  },
  {
   "cell_type": "code",
   "execution_count": 86,
   "id": "a26ac1fb",
   "metadata": {
    "execution": {
     "iopub.execute_input": "2025-05-10T00:14:17.760951Z",
     "iopub.status.busy": "2025-05-10T00:14:17.760867Z",
     "iopub.status.idle": "2025-05-10T00:14:17.763912Z",
     "shell.execute_reply": "2025-05-10T00:14:17.763669Z"
    }
   },
   "outputs": [
    {
     "name": "stdout",
     "output_type": "stream",
     "text": [
      "(0/39) center: (350/0)\n",
      "(1/39) subjectID: (350/0)\n",
      "(2/39) uniqueID: (350/0)\n",
      "(3/39) pre_HeadSonogram: (350/0)\n",
      "(4/39) pre_HeadSonogramResultText: (3/347)\n",
      "(5/39) pre_HeadCT: (350/0)\n",
      "(6/39) pre_HeadCTResultText: (2/348)\n",
      "(7/39) pre_BrainMRI: (350/0)\n",
      "(8/39) pre_BrainMRIResultText: (0/350)\n",
      "(9/39) pre_HeadSonogramDate: (17/333)\n",
      "(10/39) pre_HeadSonogramTime: (17/333)\n",
      "(11/39) pre_HeadSonogramResult1: (16/334)\n",
      "(12/39) pre_HeadSonogramResult2: (1/349)\n",
      "(13/39) pre_HeadSonogramResult3: (0/350)\n",
      "(14/39) pre_HeadSonogramResult4: (0/350)\n",
      "(15/39) pre_HeadSonogramResult5: (0/350)\n",
      "(16/39) pre_HeadSonogramResult6: (0/350)\n",
      "(17/39) pre_HeadSonogramResult7: (0/350)\n",
      "(18/39) pre_HeadSonogramResult8: (0/350)\n",
      "(19/39) pre_HeadCTDate: (2/348)\n",
      "(20/39) pre_HeadCTTime: (2/348)\n",
      "(21/39) pre_HeadCTResult1: (2/348)\n",
      "(22/39) pre_HeadCTResult2: (1/349)\n",
      "(23/39) pre_HeadCTResult3: (1/349)\n",
      "(24/39) pre_HeadCTResult4: (1/349)\n",
      "(25/39) pre_HeadCTResult5: (0/350)\n",
      "(26/39) pre_HeadCTResult6: (0/350)\n",
      "(27/39) pre_HeadCTResult7: (0/350)\n",
      "(28/39) pre_HeadCTResult8: (0/350)\n",
      "(29/39) pre_BrainMRIDate: (0/350)\n",
      "(30/39) pre_BrainMRITime: (0/350)\n",
      "(31/39) pre_BrainMRIResult1: (0/350)\n",
      "(32/39) pre_BrainMRIResult2: (0/350)\n",
      "(33/39) pre_BrainMRIResult3: (0/350)\n",
      "(34/39) pre_BrainMRIResult4: (0/350)\n",
      "(35/39) pre_BrainMRIResult5: (0/350)\n",
      "(36/39) pre_BrainMRIResult6: (0/350)\n",
      "(37/39) pre_BrainMRIResult7: (0/350)\n",
      "(38/39) pre_BrainMRIResult8: (0/350)\n"
     ]
    }
   ],
   "source": [
    "COMBINE_harmonizer.column_info(df_imaging_pre)"
   ]
  },
  {
   "cell_type": "markdown",
   "id": "0fca9b39-2323-450a-88e2-5a85d43ed62b",
   "metadata": {},
   "source": [
    "## 02-01. Temperature"
   ]
  },
  {
   "cell_type": "code",
   "execution_count": 87,
   "id": "853b198c",
   "metadata": {
    "execution": {
     "iopub.execute_input": "2025-05-10T00:14:17.765108Z",
     "iopub.status.busy": "2025-05-10T00:14:17.765036Z",
     "iopub.status.idle": "2025-05-10T00:14:17.767790Z",
     "shell.execute_reply": "2025-05-10T00:14:17.767580Z"
    }
   },
   "outputs": [
    {
     "data": {
      "text/plain": [
       "['temperatureTimeSlot_min',\n",
       " 'temperatureTimeSlotNoForm',\n",
       " 'temperatureDate',\n",
       " 'temperatureTime',\n",
       " 'skinTemperature_C',\n",
       " 'axillaryTemperature_C',\n",
       " 'esophagealTemperature_C',\n",
       " 'blanketTemperature_C',\n",
       " 'servoSetTemperature_C',\n",
       " 'alterationSkinIntegrity',\n",
       " 'shiver']"
      ]
     },
     "execution_count": 87,
     "metadata": {},
     "output_type": "execute_result"
    }
   ],
   "source": [
    "temperatures_columns = COMBINE_harmonizer.get_columns(\n",
    "    df_data_dict,\n",
    "    COMBINE_harmonizer.CATEGORY_INTERVENTION,\n",
    "    COMBINE_harmonizer.SUBCATEGORY_TEMPERATURE)\n",
    "\n",
    "all_temperatures_columns = id_columns + temperatures_columns\n",
    "temperatures_columns"
   ]
  },
  {
   "cell_type": "code",
   "execution_count": 88,
   "id": "de636293",
   "metadata": {
    "execution": {
     "iopub.execute_input": "2025-05-10T00:14:17.768929Z",
     "iopub.status.busy": "2025-05-10T00:14:17.768859Z",
     "iopub.status.idle": "2025-05-10T00:14:17.770912Z",
     "shell.execute_reply": "2025-05-10T00:14:17.770706Z"
    }
   },
   "outputs": [
    {
     "data": {
      "text/plain": [
       "Index(['subjectID', 'alterationSkinIntegrity', 'shiver', 'center',\n",
       "       'temperatureTimeSlot_min', 'temperatureTimeSlotNoForm',\n",
       "       'temperatureDate', 'temperatureTime', 'skinTemperature_C',\n",
       "       'axillaryTemperature_C', 'esophagealTemperature_C',\n",
       "       'blanketTemperature_C', 'servoSetTemperature_C'],\n",
       "      dtype='object')"
      ]
     },
     "execution_count": 88,
     "metadata": {},
     "output_type": "execute_result"
    }
   ],
   "source": [
    "df_dict['oc06t.csv'].columns"
   ]
  },
  {
   "cell_type": "code",
   "execution_count": 89,
   "id": "371ef286-3cdf-4649-8b7f-65d1a2f67d0e",
   "metadata": {
    "execution": {
     "iopub.execute_input": "2025-05-10T00:14:17.772052Z",
     "iopub.status.busy": "2025-05-10T00:14:17.771977Z",
     "iopub.status.idle": "2025-05-10T00:14:17.774042Z",
     "shell.execute_reply": "2025-05-10T00:14:17.773839Z"
    }
   },
   "outputs": [
    {
     "data": {
      "text/plain": [
       "Index(['subjectID', 'pre_CoolInitiate', 'pre_CoolbyIceGelPack',\n",
       "       'pre_CoolPassively', 'pre_CoolClinically',\n",
       "       'pre_AfterOvershootReach33p5C', 'normothermiaAtEndIntervention',\n",
       "       'noNormothermiaReason', 'discontinueBeforeEndPeriod',\n",
       "       'discontinueOtherText', 'coolAfterInterventionText', 'OC6INIT',\n",
       "       'center', 'targetTreatmentTemperature_C', 'pre_CoolInitiateDate',\n",
       "       'pre_CoolInitiateTime', 'pre_AfterOvershootReach33p5CDate',\n",
       "       'pre_AfterOvershootReach33p5CTime', 'pre_TemperatureMinDate',\n",
       "       'pre_TemperatureMinTime', 'pre_SkinTemperatureMin_C',\n",
       "       'pre_AxillaryTemperatureMin_C', 'pre_EsophagealTemperatureMin_C',\n",
       "       'pre_ServoSetMin_C', 'pre_TemperatureMaxDate', 'pre_TemperatureMaxTime',\n",
       "       'pre_SkinTemperatureMax_C', 'pre_AxillaryTemperatureMax_C',\n",
       "       'pre_EsophagealTemperatureMax_C', 'pre_ServoSetMax_C',\n",
       "       'normothermiaDate', 'normothermiaTime',\n",
       "       'normothermiaAxillaryTemperature_C', 'OC6NCEPR', 'discontinueDate',\n",
       "       'discontinueTime', 'coolAfterIntervention'],\n",
       "      dtype='object')"
      ]
     },
     "execution_count": 89,
     "metadata": {},
     "output_type": "execute_result"
    }
   ],
   "source": [
    "df_dict['oc06t120.csv'].columns"
   ]
  },
  {
   "cell_type": "code",
   "execution_count": 90,
   "id": "6eea2bc7-1005-4d67-86af-56b7d1c9aca3",
   "metadata": {
    "execution": {
     "iopub.execute_input": "2025-05-10T00:14:17.775180Z",
     "iopub.status.busy": "2025-05-10T00:14:17.775107Z",
     "iopub.status.idle": "2025-05-10T00:14:18.053671Z",
     "shell.execute_reply": "2025-05-10T00:14:18.053414Z"
    }
   },
   "outputs": [],
   "source": [
    "df_temperature = df_dict['oc06t.csv'].copy()\n",
    "df_temperature = COMBINE_harmonizer.valid_columns(df_temperature, all_temperatures_columns, debug_df=True, debug_columns=True)\n",
    "df_temperature = COMBINE_harmonizer.postprocess(df_temperature)\n",
    "out_filename = os.sep.join([out_dir, '02-01-temperature.csv'])\n",
    "df_temperature.to_csv(out_filename, index=False)"
   ]
  },
  {
   "cell_type": "markdown",
   "id": "4872bf3e-ac32-446b-8a58-fe476f740ebe",
   "metadata": {},
   "source": [
    "### 02-01-1. check temperature"
   ]
  },
  {
   "cell_type": "code",
   "execution_count": 91,
   "id": "c1107900-da34-4c73-86f3-a38f3a361309",
   "metadata": {
    "execution": {
     "iopub.execute_input": "2025-05-10T00:14:18.055304Z",
     "iopub.status.busy": "2025-05-10T00:14:18.055223Z",
     "iopub.status.idle": "2025-05-10T00:14:18.062589Z",
     "shell.execute_reply": "2025-05-10T00:14:18.062368Z"
    }
   },
   "outputs": [
    {
     "data": {
      "text/html": [
       "<div>\n",
       "<style scoped>\n",
       "    .dataframe tbody tr th:only-of-type {\n",
       "        vertical-align: middle;\n",
       "    }\n",
       "\n",
       "    .dataframe tbody tr th {\n",
       "        vertical-align: top;\n",
       "    }\n",
       "\n",
       "    .dataframe thead th {\n",
       "        text-align: right;\n",
       "    }\n",
       "</style>\n",
       "<table border=\"1\" class=\"dataframe\">\n",
       "  <thead>\n",
       "    <tr style=\"text-align: right;\">\n",
       "      <th></th>\n",
       "      <th></th>\n",
       "      <th>_count</th>\n",
       "    </tr>\n",
       "    <tr>\n",
       "      <th>uniqueID</th>\n",
       "      <th>temperatureTimeSlot_min</th>\n",
       "      <th></th>\n",
       "    </tr>\n",
       "  </thead>\n",
       "  <tbody>\n",
       "  </tbody>\n",
       "</table>\n",
       "</div>"
      ],
      "text/plain": [
       "Empty DataFrame\n",
       "Columns: [_count]\n",
       "Index: []"
      ]
     },
     "execution_count": 91,
     "metadata": {},
     "output_type": "execute_result"
    }
   ],
   "source": [
    "df_temperature_groupby = df_temperature.groupby(['uniqueID', 'temperatureTimeSlot_min']).agg(_count=('uniqueID', 'count'))\n",
    "\n",
    "is_invalid = df_temperature_groupby['_count'] > 1\n",
    "df_temperature_groupby[is_invalid]"
   ]
  },
  {
   "cell_type": "markdown",
   "id": "56b763e7-faa0-4c08-bc17-35007c949eeb",
   "metadata": {},
   "source": [
    "### 02-01-2. check empty cells"
   ]
  },
  {
   "cell_type": "code",
   "execution_count": 92,
   "id": "2946872e-15b3-4e2c-8ad4-a27ccd4c4928",
   "metadata": {
    "execution": {
     "iopub.execute_input": "2025-05-10T00:14:18.063999Z",
     "iopub.status.busy": "2025-05-10T00:14:18.063908Z",
     "iopub.status.idle": "2025-05-10T00:14:18.075919Z",
     "shell.execute_reply": "2025-05-10T00:14:18.075634Z"
    }
   },
   "outputs": [
    {
     "name": "stdout",
     "output_type": "stream",
     "text": [
      "(0/14) column: center (18275 / 0)\n",
      "(1/14) column: subjectID (18275 / 0)\n",
      "(2/14) column: uniqueID (18275 / 0)\n",
      "(3/14) column: alterationSkinIntegrity (1335 / 16940)\n",
      "(4/14) column: shiver (1335 / 16940)\n",
      "(5/14) column: temperatureTimeSlot_min (18275 / 0)\n",
      "(6/14) column: temperatureTimeSlotNoForm (0 / 18275)\n",
      "(7/14) column: temperatureDate (18226 / 49)\n",
      "(8/14) column: temperatureTime (18168 / 107)\n",
      "(9/14) column: skinTemperature_C (17237 / 1038)\n",
      "(10/14) column: axillaryTemperature_C (250 / 18025)\n",
      "(11/14) column: esophagealTemperature_C (17723 / 552)\n",
      "(12/14) column: blanketTemperature_C (17242 / 1033)\n",
      "(13/14) column: servoSetTemperature_C (17677 / 598)\n"
     ]
    }
   ],
   "source": [
    "COMBINE_harmonizer.check_empty(df_temperature)"
   ]
  },
  {
   "cell_type": "code",
   "execution_count": 93,
   "id": "ab6a74f0-140b-4470-8642-79e01b335796",
   "metadata": {
    "execution": {
     "iopub.execute_input": "2025-05-10T00:14:18.077176Z",
     "iopub.status.busy": "2025-05-10T00:14:18.077089Z",
     "iopub.status.idle": "2025-05-10T00:14:18.084324Z",
     "shell.execute_reply": "2025-05-10T00:14:18.083930Z"
    }
   },
   "outputs": [
    {
     "name": "stdout",
     "output_type": "stream",
     "text": [
      "(0/14) center: (18275/0)\n",
      "(1/14) subjectID: (18275/0)\n",
      "(2/14) uniqueID: (18275/0)\n",
      "(3/14) alterationSkinIntegrity: (1335/16940)\n",
      "(4/14) shiver: (1335/16940)\n",
      "(5/14) temperatureTimeSlot_min: (18275/0)\n",
      "(6/14) temperatureTimeSlotNoForm: (0/18275)\n",
      "(7/14) temperatureDate: (18226/49)\n",
      "(8/14) temperatureTime: (18168/107)\n",
      "(9/14) skinTemperature_C: (17237/1038)\n",
      "(10/14) axillaryTemperature_C: (250/18025)\n",
      "(11/14) esophagealTemperature_C: (17723/552)\n",
      "(12/14) blanketTemperature_C: (17242/1033)\n",
      "(13/14) servoSetTemperature_C: (17677/598)\n"
     ]
    }
   ],
   "source": [
    "COMBINE_harmonizer.column_info(df_temperature)"
   ]
  },
  {
   "cell_type": "markdown",
   "id": "e9030ef6-af0e-4d07-b06c-615ca82245f8",
   "metadata": {},
   "source": [
    "## 02-02. cardio"
   ]
  },
  {
   "cell_type": "code",
   "execution_count": 94,
   "id": "2e919a73-210c-48ad-9a93-70a0f6c352fd",
   "metadata": {
    "execution": {
     "iopub.execute_input": "2025-05-10T00:14:18.085706Z",
     "iopub.status.busy": "2025-05-10T00:14:18.085622Z",
     "iopub.status.idle": "2025-05-10T00:14:18.088273Z",
     "shell.execute_reply": "2025-05-10T00:14:18.088028Z"
    }
   },
   "outputs": [
    {
     "data": {
      "text/plain": [
       "['cardioTimeSlot_min',\n",
       " 'cardioDate',\n",
       " 'cardioTime',\n",
       " 'cardioSystolicBloodPressure_mmHg',\n",
       " 'cardioDiastolicBloodPressure_mmHg',\n",
       " 'cardioHeartRate_BPM',\n",
       " 'cardioVolumeExpand',\n",
       " 'cardioInotropicAgent',\n",
       " 'cardioBloodTransfusion',\n",
       " 'cardioPlatelets']"
      ]
     },
     "execution_count": 94,
     "metadata": {},
     "output_type": "execute_result"
    }
   ],
   "source": [
    "cardio_columns = COMBINE_harmonizer.get_columns(\n",
    "    df_data_dict,\n",
    "    COMBINE_harmonizer.CATEGORY_INTERVENTION,\n",
    "    COMBINE_harmonizer.SUBCATEGORY_CARDIOVASCULAR)\n",
    "\n",
    "all_cardio_columns = id_columns + cardio_columns\n",
    "cardio_columns"
   ]
  },
  {
   "cell_type": "code",
   "execution_count": 95,
   "id": "7db0cf4e-b6c3-4ba7-83fb-d632a3c1551a",
   "metadata": {
    "execution": {
     "iopub.execute_input": "2025-05-10T00:14:18.089406Z",
     "iopub.status.busy": "2025-05-10T00:14:18.089338Z",
     "iopub.status.idle": "2025-05-10T00:14:18.269556Z",
     "shell.execute_reply": "2025-05-10T00:14:18.269291Z"
    }
   },
   "outputs": [
    {
     "name": "stdout",
     "output_type": "stream",
     "text": [
      "(5/28) bloodGasSrc not in columns\n",
      "(6/28) REC_CMP not in columns\n",
      "(14/28) bloodGasDate not in columns\n",
      "(15/28) bloodGasTime not in columns\n",
      "(16/28) bloodGasPH not in columns\n",
      "(17/28) bloodGasPCO2_mmHg not in columns\n",
      "(18/28) bloodGasPO2_mmHg not in columns\n",
      "(19/28) bloodGasHCO3_mEqPerL not in columns\n",
      "(20/28) bloodGasBaseDeficit_mEqPerL not in columns\n",
      "(21/28) bloodGasPHCorrect not in columns\n",
      "(22/28) bloodGasPCO2Correct_mmHg not in columns\n",
      "(23/28) bloodGasPO2Correct_mmHg not in columns\n",
      "(24/28) bloodGasHCO3Correct_mEqPerL not in columns\n",
      "(25/28) bloodGasBaseDeficitCorrect_mEqPerL not in columns\n",
      "(26/28) CMP_DATE not in columns\n",
      "(27/28) CRT_DATE not in columns\n"
     ]
    }
   ],
   "source": [
    "df_cardio = df_dict['oc07.csv'].copy()\n",
    "\n",
    "cardioTimeSlot_int = df_cardio['cardioTimeSlot_min'].apply(COMBINE_harmonizer.to_int)\n",
    "is_pre = cardioTimeSlot_int == 0\n",
    "is_intervention = is_pre == False\n",
    "# after_baseline\n",
    "df_cardio = df_cardio[is_intervention]\n",
    "\n",
    "df_cardio = COMBINE_harmonizer.valid_columns(df_cardio, all_cardio_columns, debug_df=True, debug_columns=True)\n",
    "df_cardio = COMBINE_harmonizer.postprocess(df_cardio)\n",
    "\n",
    "out_filename = os.sep.join([out_dir, '02-02-cardiovascular.csv'])\n",
    "df_cardio.to_csv(out_filename, index=False)"
   ]
  },
  {
   "cell_type": "markdown",
   "id": "44d246af-5e91-4a3b-a63e-1b4a92281308",
   "metadata": {},
   "source": [
    "### 02-02-1. check cardio"
   ]
  },
  {
   "cell_type": "code",
   "execution_count": 96,
   "id": "d0544caa-f507-4f66-83b8-8fdd5c20f518",
   "metadata": {
    "execution": {
     "iopub.execute_input": "2025-05-10T00:14:18.270960Z",
     "iopub.status.busy": "2025-05-10T00:14:18.270873Z",
     "iopub.status.idle": "2025-05-10T00:14:18.276789Z",
     "shell.execute_reply": "2025-05-10T00:14:18.276571Z"
    }
   },
   "outputs": [
    {
     "data": {
      "text/html": [
       "<div>\n",
       "<style scoped>\n",
       "    .dataframe tbody tr th:only-of-type {\n",
       "        vertical-align: middle;\n",
       "    }\n",
       "\n",
       "    .dataframe tbody tr th {\n",
       "        vertical-align: top;\n",
       "    }\n",
       "\n",
       "    .dataframe thead th {\n",
       "        text-align: right;\n",
       "    }\n",
       "</style>\n",
       "<table border=\"1\" class=\"dataframe\">\n",
       "  <thead>\n",
       "    <tr style=\"text-align: right;\">\n",
       "      <th></th>\n",
       "      <th></th>\n",
       "      <th>_count</th>\n",
       "    </tr>\n",
       "    <tr>\n",
       "      <th>uniqueID</th>\n",
       "      <th>cardioTimeSlot_min</th>\n",
       "      <th></th>\n",
       "    </tr>\n",
       "  </thead>\n",
       "  <tbody>\n",
       "  </tbody>\n",
       "</table>\n",
       "</div>"
      ],
      "text/plain": [
       "Empty DataFrame\n",
       "Columns: [_count]\n",
       "Index: []"
      ]
     },
     "execution_count": 96,
     "metadata": {},
     "output_type": "execute_result"
    }
   ],
   "source": [
    "df_cardio_groupby = df_cardio.groupby(['uniqueID', 'cardioTimeSlot_min']).agg(_count=('uniqueID', 'count'))\n",
    "\n",
    "is_invalid = df_cardio_groupby['_count'] > 1\n",
    "df_cardio_groupby[is_invalid]"
   ]
  },
  {
   "cell_type": "markdown",
   "id": "9ce67642-f87d-4155-913f-89b6096fc6d5",
   "metadata": {},
   "source": [
    "### 02-02-2. check empty cells"
   ]
  },
  {
   "cell_type": "code",
   "execution_count": 97,
   "id": "0d9d5632-57c8-4c8e-940c-c1273a473b1c",
   "metadata": {
    "execution": {
     "iopub.execute_input": "2025-05-10T00:14:18.278168Z",
     "iopub.status.busy": "2025-05-10T00:14:18.278084Z",
     "iopub.status.idle": "2025-05-10T00:14:18.286069Z",
     "shell.execute_reply": "2025-05-10T00:14:18.285854Z"
    }
   },
   "outputs": [
    {
     "name": "stdout",
     "output_type": "stream",
     "text": [
      "(0/13) column: center (9573 / 0)\n",
      "(1/13) column: subjectID (9573 / 0)\n",
      "(2/13) column: uniqueID (9573 / 0)\n",
      "(3/13) column: cardioVolumeExpand (9565 / 8)\n",
      "(4/13) column: cardioInotropicAgent (9565 / 8)\n",
      "(5/13) column: cardioBloodTransfusion (9565 / 8)\n",
      "(6/13) column: cardioPlatelets (9565 / 8)\n",
      "(7/13) column: cardioTimeSlot_min (9573 / 0)\n",
      "(8/13) column: cardioDate (9565 / 8)\n",
      "(9/13) column: cardioTime (9551 / 22)\n",
      "(10/13) column: cardioSystolicBloodPressure_mmHg (9087 / 486)\n",
      "(11/13) column: cardioDiastolicBloodPressure_mmHg (9087 / 486)\n",
      "(12/13) column: cardioHeartRate_BPM (9460 / 113)\n"
     ]
    }
   ],
   "source": [
    "COMBINE_harmonizer.check_empty(df_cardio)"
   ]
  },
  {
   "cell_type": "code",
   "execution_count": 98,
   "id": "24eae50b-fe07-42c9-b4ea-86472331e003",
   "metadata": {
    "execution": {
     "iopub.execute_input": "2025-05-10T00:14:18.287376Z",
     "iopub.status.busy": "2025-05-10T00:14:18.287296Z",
     "iopub.status.idle": "2025-05-10T00:14:18.292255Z",
     "shell.execute_reply": "2025-05-10T00:14:18.292019Z"
    }
   },
   "outputs": [
    {
     "name": "stdout",
     "output_type": "stream",
     "text": [
      "(0/13) center: (9573/0)\n",
      "(1/13) subjectID: (9573/0)\n",
      "(2/13) uniqueID: (9573/0)\n",
      "(3/13) cardioVolumeExpand: (9565/8)\n",
      "(4/13) cardioInotropicAgent: (9565/8)\n",
      "(5/13) cardioBloodTransfusion: (9565/8)\n",
      "(6/13) cardioPlatelets: (9565/8)\n",
      "(7/13) cardioTimeSlot_min: (9573/0)\n",
      "(8/13) cardioDate: (9565/8)\n",
      "(9/13) cardioTime: (9551/22)\n",
      "(10/13) cardioSystolicBloodPressure_mmHg: (9087/486)\n",
      "(11/13) cardioDiastolicBloodPressure_mmHg: (9087/486)\n",
      "(12/13) cardioHeartRate_BPM: (9460/113)\n"
     ]
    }
   ],
   "source": [
    "COMBINE_harmonizer.column_info(df_cardio)"
   ]
  },
  {
   "cell_type": "markdown",
   "id": "cbb4f4d1-ec71-4fdb-b323-35fabd584021",
   "metadata": {},
   "source": [
    "## 02-03. respiratory"
   ]
  },
  {
   "cell_type": "code",
   "execution_count": 99,
   "id": "86329dc6",
   "metadata": {
    "execution": {
     "iopub.execute_input": "2025-05-10T00:14:18.293499Z",
     "iopub.status.busy": "2025-05-10T00:14:18.293426Z",
     "iopub.status.idle": "2025-05-10T00:14:18.295858Z",
     "shell.execute_reply": "2025-05-10T00:14:18.295644Z"
    }
   },
   "outputs": [
    {
     "data": {
      "text/plain": [
       "['respiratoryTimeSlot_min',\n",
       " 'respiratoryDate',\n",
       " 'respiratoryTime',\n",
       " 'respiratorySupportType',\n",
       " 'respiratoryFiO2',\n",
       " 'respiratoryRate_Hz',\n",
       " 'respiratoryPIP_cmH2O',\n",
       " 'respiratoryMAP_cmH2O',\n",
       " 'respiratoryPEEP_cmH2O']"
      ]
     },
     "execution_count": 99,
     "metadata": {},
     "output_type": "execute_result"
    }
   ],
   "source": [
    "respiratory_columns = COMBINE_harmonizer.get_columns(\n",
    "    df_data_dict,\n",
    "    COMBINE_harmonizer.CATEGORY_INTERVENTION,\n",
    "    COMBINE_harmonizer.SUBCATEGORY_RESPIRATORY)\n",
    "\n",
    "all_respiratory_columns = id_columns + respiratory_columns\n",
    "respiratory_columns"
   ]
  },
  {
   "cell_type": "code",
   "execution_count": 100,
   "id": "078bfd87",
   "metadata": {
    "execution": {
     "iopub.execute_input": "2025-05-10T00:14:18.296953Z",
     "iopub.status.busy": "2025-05-10T00:14:18.296880Z",
     "iopub.status.idle": "2025-05-10T00:14:18.379914Z",
     "shell.execute_reply": "2025-05-10T00:14:18.379666Z"
    }
   },
   "outputs": [
    {
     "name": "stdout",
     "output_type": "stream",
     "text": [
      "(1/37) hematology not in columns\n",
      "(2/37) REC_CMP not in columns\n",
      "(13/37) hematologyWBC_cPermuL not in columns\n",
      "(14/37) hematologyHemoglobin_gPerdL not in columns\n",
      "(15/37) hematologyPolymorphNeutrophils_cPermuL not in columns\n",
      "(16/37) hematologyMonocytes_cPermuL not in columns\n",
      "(17/37) hematologyLymphocytes_cPermuL not in columns\n",
      "(18/37) hematologyPlatelet_cPermuL not in columns\n",
      "(19/37) hematologyPT_s not in columns\n",
      "(20/37) hematologyPTT_s not in columns\n",
      "(21/37) anticonvulsants1 not in columns\n",
      "(22/37) anticonvulsants2 not in columns\n",
      "(23/37) anticonvulsants3 not in columns\n",
      "(24/37) analgesicsSedatives1 not in columns\n",
      "(25/37) analgesicsSedatives2 not in columns\n",
      "(26/37) analgesicsSedatives3 not in columns\n",
      "(27/37) antipyretics1 not in columns\n",
      "(28/37) antipyretics2 not in columns\n",
      "(29/37) antipyretics3 not in columns\n",
      "(30/37) paralytics1 not in columns\n",
      "(31/37) paralytics2 not in columns\n",
      "(32/37) paralytics3 not in columns\n",
      "(33/37) otherMedFluidIntake_ccPerKg not in columns\n",
      "(34/37) otherMedUrineOutput_ccPerKg not in columns\n",
      "(35/37) CMP_DATE not in columns\n",
      "(36/37) CRT_DATE not in columns\n"
     ]
    }
   ],
   "source": [
    "df_respiratory = df_dict['oc08.csv'].copy()\n",
    "\n",
    "respiratoryTimeSlot_int = df_respiratory['respiratoryTimeSlot_min'].apply(COMBINE_harmonizer.to_int)\n",
    "is_pre = respiratoryTimeSlot_int == 0\n",
    "is_intervention = is_pre == False\n",
    "# after_baseline\n",
    "df_respiratory = df_respiratory[is_intervention]\n",
    "\n",
    "df_respiratory = COMBINE_harmonizer.valid_columns(df_respiratory, all_respiratory_columns, debug_df=True, debug_columns=True)\n",
    "df_respiratory = COMBINE_harmonizer.postprocess(df_respiratory)\n",
    "\n",
    "out_filename = os.sep.join([out_dir, '02-03-respiratory.csv'])\n",
    "df_respiratory.to_csv(out_filename, index=False)"
   ]
  },
  {
   "cell_type": "markdown",
   "id": "b1331fe8-5459-481f-bbf8-36bb7cf250b7",
   "metadata": {},
   "source": [
    "### 02-03-1. check respiratory"
   ]
  },
  {
   "cell_type": "code",
   "execution_count": 101,
   "id": "037e9cc3",
   "metadata": {
    "execution": {
     "iopub.execute_input": "2025-05-10T00:14:18.381278Z",
     "iopub.status.busy": "2025-05-10T00:14:18.381192Z",
     "iopub.status.idle": "2025-05-10T00:14:18.386690Z",
     "shell.execute_reply": "2025-05-10T00:14:18.386456Z"
    }
   },
   "outputs": [
    {
     "data": {
      "text/html": [
       "<div>\n",
       "<style scoped>\n",
       "    .dataframe tbody tr th:only-of-type {\n",
       "        vertical-align: middle;\n",
       "    }\n",
       "\n",
       "    .dataframe tbody tr th {\n",
       "        vertical-align: top;\n",
       "    }\n",
       "\n",
       "    .dataframe thead th {\n",
       "        text-align: right;\n",
       "    }\n",
       "</style>\n",
       "<table border=\"1\" class=\"dataframe\">\n",
       "  <thead>\n",
       "    <tr style=\"text-align: right;\">\n",
       "      <th></th>\n",
       "      <th></th>\n",
       "      <th>_count</th>\n",
       "    </tr>\n",
       "    <tr>\n",
       "      <th>uniqueID</th>\n",
       "      <th>respiratoryTimeSlot_min</th>\n",
       "      <th></th>\n",
       "    </tr>\n",
       "  </thead>\n",
       "  <tbody>\n",
       "  </tbody>\n",
       "</table>\n",
       "</div>"
      ],
      "text/plain": [
       "Empty DataFrame\n",
       "Columns: [_count]\n",
       "Index: []"
      ]
     },
     "execution_count": 101,
     "metadata": {},
     "output_type": "execute_result"
    }
   ],
   "source": [
    "df_respiratory_groupby = df_respiratory.groupby(['uniqueID', 'respiratoryTimeSlot_min']).agg(_count=('uniqueID', 'count'))\n",
    "\n",
    "is_invalid = df_respiratory_groupby['_count'] > 1\n",
    "df_respiratory_groupby[is_invalid]"
   ]
  },
  {
   "cell_type": "markdown",
   "id": "44d385e4",
   "metadata": {},
   "source": [
    "### 02-03-2. check empty cells"
   ]
  },
  {
   "cell_type": "code",
   "execution_count": 102,
   "id": "012af90d",
   "metadata": {
    "execution": {
     "iopub.execute_input": "2025-05-10T00:14:18.388109Z",
     "iopub.status.busy": "2025-05-10T00:14:18.388024Z",
     "iopub.status.idle": "2025-05-10T00:14:18.391557Z",
     "shell.execute_reply": "2025-05-10T00:14:18.391340Z"
    }
   },
   "outputs": [
    {
     "name": "stdout",
     "output_type": "stream",
     "text": [
      "(0/12) column: center (1979 / 0)\n",
      "(1/12) column: subjectID (1979 / 0)\n",
      "(2/12) column: uniqueID (1979 / 0)\n",
      "(3/12) column: respiratoryTimeSlot_min (1979 / 0)\n",
      "(4/12) column: respiratoryDate (1979 / 0)\n",
      "(5/12) column: respiratoryTime (1974 / 5)\n",
      "(6/12) column: respiratorySupportType (1974 / 5)\n",
      "(7/12) column: respiratoryFiO2 (1416 / 563)\n",
      "(8/12) column: respiratoryRate_Hz (1052 / 927)\n",
      "(9/12) column: respiratoryPIP_cmH2O (1041 / 938)\n",
      "(10/12) column: respiratoryMAP_cmH2O (801 / 1178)\n",
      "(11/12) column: respiratoryPEEP_cmH2O (964 / 1015)\n"
     ]
    }
   ],
   "source": [
    "COMBINE_harmonizer.check_empty(df_respiratory)"
   ]
  },
  {
   "cell_type": "code",
   "execution_count": 103,
   "id": "7f1f93b9",
   "metadata": {
    "execution": {
     "iopub.execute_input": "2025-05-10T00:14:18.392782Z",
     "iopub.status.busy": "2025-05-10T00:14:18.392682Z",
     "iopub.status.idle": "2025-05-10T00:14:18.395311Z",
     "shell.execute_reply": "2025-05-10T00:14:18.395094Z"
    }
   },
   "outputs": [
    {
     "name": "stdout",
     "output_type": "stream",
     "text": [
      "(0/12) center: (1979/0)\n",
      "(1/12) subjectID: (1979/0)\n",
      "(2/12) uniqueID: (1979/0)\n",
      "(3/12) respiratoryTimeSlot_min: (1979/0)\n",
      "(4/12) respiratoryDate: (1979/0)\n",
      "(5/12) respiratoryTime: (1974/5)\n",
      "(6/12) respiratorySupportType: (1974/5)\n",
      "(7/12) respiratoryFiO2: (1416/563)\n",
      "(8/12) respiratoryRate_Hz: (1052/927)\n",
      "(9/12) respiratoryPIP_cmH2O: (1041/938)\n",
      "(10/12) respiratoryMAP_cmH2O: (801/1178)\n",
      "(11/12) respiratoryPEEP_cmH2O: (964/1015)\n"
     ]
    }
   ],
   "source": [
    "COMBINE_harmonizer.column_info(df_respiratory)"
   ]
  },
  {
   "cell_type": "markdown",
   "id": "22ae41ef-b69c-4d1f-bb07-2f3d882d0fd8",
   "metadata": {},
   "source": [
    "## 02-04. blood-gas"
   ]
  },
  {
   "cell_type": "code",
   "execution_count": 104,
   "id": "7aad3086-d1a1-407b-a95b-5e1288af46ca",
   "metadata": {
    "execution": {
     "iopub.execute_input": "2025-05-10T00:14:18.396547Z",
     "iopub.status.busy": "2025-05-10T00:14:18.396449Z",
     "iopub.status.idle": "2025-05-10T00:14:18.399015Z",
     "shell.execute_reply": "2025-05-10T00:14:18.398810Z"
    }
   },
   "outputs": [
    {
     "data": {
      "text/plain": [
       "['bloodGasTimeSlot_min',\n",
       " 'bloodGasDate',\n",
       " 'bloodGasTime',\n",
       " 'bloodGasSrc',\n",
       " 'bloodGasPH',\n",
       " 'bloodGasPCO2_mmHg',\n",
       " 'bloodGasPO2_mmHg',\n",
       " 'bloodGasHCO3_mEqPerL',\n",
       " 'bloodGasBaseDeficit_mEqPerL',\n",
       " 'bloodGasPHCorrect',\n",
       " 'bloodGasPCO2Correct_mmHg',\n",
       " 'bloodGasPO2Correct_mmHg',\n",
       " 'bloodGasHCO3Correct_mEqPerL',\n",
       " 'bloodGasBaseDeficitCorrect_mEqPerL']"
      ]
     },
     "execution_count": 104,
     "metadata": {},
     "output_type": "execute_result"
    }
   ],
   "source": [
    "blood_gas_columns = COMBINE_harmonizer.get_columns(\n",
    "    df_data_dict,\n",
    "    COMBINE_harmonizer.CATEGORY_INTERVENTION,\n",
    "    COMBINE_harmonizer.SUBCATEGORY_BLOOD_GAS_RESPIRATORY)\n",
    "\n",
    "all_blood_gas_columns = id_columns + blood_gas_columns\n",
    "blood_gas_columns"
   ]
  },
  {
   "cell_type": "code",
   "execution_count": 105,
   "id": "a6b75809-3bc5-44fe-a768-e9a9a5d2bcb1",
   "metadata": {
    "execution": {
     "iopub.execute_input": "2025-05-10T00:14:18.400460Z",
     "iopub.status.busy": "2025-05-10T00:14:18.400363Z",
     "iopub.status.idle": "2025-05-10T00:14:18.577884Z",
     "shell.execute_reply": "2025-05-10T00:14:18.577618Z"
    }
   },
   "outputs": [],
   "source": [
    "df_blood_gas = df_dict['oc07.csv'].copy().rename(columns={'cardioTimeSlot_min': 'bloodGasTimeSlot_min'})\n",
    "\n",
    "bloodGasTimeSlot_int = df_blood_gas['bloodGasTimeSlot_min'].apply(COMBINE_harmonizer.to_int)\n",
    "is_pre = bloodGasTimeSlot_int == 0\n",
    "is_intervention = is_pre == False\n",
    "df_blood_gas = df_blood_gas[is_intervention]\n",
    "\n",
    "df_blood_gas = COMBINE_harmonizer.valid_columns(df_blood_gas, all_blood_gas_columns)\n",
    "df_blood_gas = COMBINE_harmonizer.postprocess(df_blood_gas)\n",
    "\n",
    "# XXX hack for center30 OC0071 bloodGasTimeSlot = 36\n",
    "is_center30_OC0071_bloodGasTimeSlot36 = (df_blood_gas['center'] == '30') & (df_blood_gas['subjectID'] == 'OC0071') & (df_blood_gas['bloodGasTimeSlot_min'].isin(['36', '36.0']))\n",
    "df_blood_gas.loc[is_center30_OC0071_bloodGasTimeSlot36, 'bloodGasDate'] = '2012-01-03'\n",
    "\n",
    "out_filename = os.sep.join([out_dir, '02-04-blood-gas.csv'])\n",
    "df_blood_gas.to_csv(out_filename, index=False)"
   ]
  },
  {
   "cell_type": "markdown",
   "id": "3e64bec6-0b37-45e9-b6a8-775ed15c34f2",
   "metadata": {},
   "source": [
    "### 02-04-1. check blood-gas"
   ]
  },
  {
   "cell_type": "code",
   "execution_count": 106,
   "id": "f3d69fca-30a8-4d78-b361-afd6f7691d95",
   "metadata": {
    "execution": {
     "iopub.execute_input": "2025-05-10T00:14:18.579630Z",
     "iopub.status.busy": "2025-05-10T00:14:18.579535Z",
     "iopub.status.idle": "2025-05-10T00:14:18.585404Z",
     "shell.execute_reply": "2025-05-10T00:14:18.585188Z"
    }
   },
   "outputs": [
    {
     "data": {
      "text/html": [
       "<div>\n",
       "<style scoped>\n",
       "    .dataframe tbody tr th:only-of-type {\n",
       "        vertical-align: middle;\n",
       "    }\n",
       "\n",
       "    .dataframe tbody tr th {\n",
       "        vertical-align: top;\n",
       "    }\n",
       "\n",
       "    .dataframe thead th {\n",
       "        text-align: right;\n",
       "    }\n",
       "</style>\n",
       "<table border=\"1\" class=\"dataframe\">\n",
       "  <thead>\n",
       "    <tr style=\"text-align: right;\">\n",
       "      <th></th>\n",
       "      <th></th>\n",
       "      <th>_count</th>\n",
       "    </tr>\n",
       "    <tr>\n",
       "      <th>uniqueID</th>\n",
       "      <th>bloodGasTimeSlot_min</th>\n",
       "      <th></th>\n",
       "    </tr>\n",
       "  </thead>\n",
       "  <tbody>\n",
       "  </tbody>\n",
       "</table>\n",
       "</div>"
      ],
      "text/plain": [
       "Empty DataFrame\n",
       "Columns: [_count]\n",
       "Index: []"
      ]
     },
     "execution_count": 106,
     "metadata": {},
     "output_type": "execute_result"
    }
   ],
   "source": [
    "df_blood_gas_groupby = df_blood_gas.groupby(['uniqueID', 'bloodGasTimeSlot_min']).agg(_count=('uniqueID', 'count'))\n",
    "\n",
    "\n",
    "is_invalid = df_blood_gas_groupby['_count'] > 1\n",
    "df_blood_gas_groupby[is_invalid]"
   ]
  },
  {
   "cell_type": "markdown",
   "id": "84dbecc3-6912-44d7-9797-4f99f4cb20f9",
   "metadata": {},
   "source": [
    "### 02-04-2. check empty cells"
   ]
  },
  {
   "cell_type": "code",
   "execution_count": 107,
   "id": "ac8ee319-33e1-4e0a-bae1-f80fad73688e",
   "metadata": {
    "execution": {
     "iopub.execute_input": "2025-05-10T00:14:18.586701Z",
     "iopub.status.busy": "2025-05-10T00:14:18.586628Z",
     "iopub.status.idle": "2025-05-10T00:14:18.595006Z",
     "shell.execute_reply": "2025-05-10T00:14:18.594741Z"
    }
   },
   "outputs": [
    {
     "name": "stdout",
     "output_type": "stream",
     "text": [
      "(0/17) column: center (9573 / 0)\n",
      "(1/17) column: subjectID (9573 / 0)\n",
      "(2/17) column: uniqueID (9573 / 0)\n",
      "(3/17) column: bloodGasSrc (3775 / 5798)\n",
      "(4/17) column: bloodGasTimeSlot_min (9573 / 0)\n",
      "(5/17) column: bloodGasDate (5127 / 4446)\n",
      "(6/17) column: bloodGasTime (4887 / 4686)\n",
      "(7/17) column: bloodGasPH (2575 / 6998)\n",
      "(8/17) column: bloodGasPCO2_mmHg (2576 / 6997)\n",
      "(9/17) column: bloodGasPO2_mmHg (2570 / 7003)\n",
      "(10/17) column: bloodGasHCO3_mEqPerL (2502 / 7071)\n",
      "(11/17) column: bloodGasBaseDeficit_mEqPerL (2449 / 7124)\n",
      "(12/17) column: bloodGasPHCorrect (3334 / 6239)\n",
      "(13/17) column: bloodGasPCO2Correct_mmHg (3336 / 6237)\n",
      "(14/17) column: bloodGasPO2Correct_mmHg (3291 / 6282)\n",
      "(15/17) column: bloodGasHCO3Correct_mEqPerL (2748 / 6825)\n",
      "(16/17) column: bloodGasBaseDeficitCorrect_mEqPerL (2674 / 6899)\n"
     ]
    }
   ],
   "source": [
    "COMBINE_harmonizer.check_empty(df_blood_gas)"
   ]
  },
  {
   "cell_type": "code",
   "execution_count": 108,
   "id": "5793ba50-6544-4e36-b244-5a09db695b56",
   "metadata": {
    "execution": {
     "iopub.execute_input": "2025-05-10T00:14:18.596205Z",
     "iopub.status.busy": "2025-05-10T00:14:18.596124Z",
     "iopub.status.idle": "2025-05-10T00:14:18.601343Z",
     "shell.execute_reply": "2025-05-10T00:14:18.601134Z"
    }
   },
   "outputs": [
    {
     "name": "stdout",
     "output_type": "stream",
     "text": [
      "(0/17) center: (9573/0)\n",
      "(1/17) subjectID: (9573/0)\n",
      "(2/17) uniqueID: (9573/0)\n",
      "(3/17) bloodGasSrc: (3775/5798)\n",
      "(4/17) bloodGasTimeSlot_min: (9573/0)\n",
      "(5/17) bloodGasDate: (5127/4446)\n",
      "(6/17) bloodGasTime: (4887/4686)\n",
      "(7/17) bloodGasPH: (2575/6998)\n",
      "(8/17) bloodGasPCO2_mmHg: (2576/6997)\n",
      "(9/17) bloodGasPO2_mmHg: (2570/7003)\n",
      "(10/17) bloodGasHCO3_mEqPerL: (2502/7071)\n",
      "(11/17) bloodGasBaseDeficit_mEqPerL: (2449/7124)\n",
      "(12/17) bloodGasPHCorrect: (3334/6239)\n",
      "(13/17) bloodGasPCO2Correct_mmHg: (3336/6237)\n",
      "(14/17) bloodGasPO2Correct_mmHg: (3291/6282)\n",
      "(15/17) bloodGasHCO3Correct_mEqPerL: (2748/6825)\n",
      "(16/17) bloodGasBaseDeficitCorrect_mEqPerL: (2674/6899)\n"
     ]
    }
   ],
   "source": [
    "COMBINE_harmonizer.column_info(df_blood_gas)"
   ]
  },
  {
   "cell_type": "markdown",
   "id": "c487564c-e591-49f9-9852-2a51974bda9d",
   "metadata": {},
   "source": [
    "## 02-05. hematology"
   ]
  },
  {
   "cell_type": "code",
   "execution_count": 109,
   "id": "2d207956-17e3-4869-a12d-732deacb6661",
   "metadata": {
    "execution": {
     "iopub.execute_input": "2025-05-10T00:14:18.602635Z",
     "iopub.status.busy": "2025-05-10T00:14:18.602558Z",
     "iopub.status.idle": "2025-05-10T00:14:18.605401Z",
     "shell.execute_reply": "2025-05-10T00:14:18.605200Z"
    }
   },
   "outputs": [
    {
     "data": {
      "text/plain": [
       "['hematology',\n",
       " 'hematologyTimeSlot_min',\n",
       " 'hematologyDate',\n",
       " 'hematologyTime',\n",
       " 'hematologyWBC_cPermuL',\n",
       " 'hematologyWBCMin_cPermuL',\n",
       " 'hematologyWBCMax_cPermuL',\n",
       " 'hematologyHemoglobin_gPerdL',\n",
       " 'hematologyPolymorphNeutrophils_cPermuL',\n",
       " 'hematologyMonocytes_cPermuL',\n",
       " 'hematologyLymphocytes_cPermuL',\n",
       " 'hematologyPlatelet_cPermuL',\n",
       " 'hematologyPT_s',\n",
       " 'hematologyPTT_s',\n",
       " 'hematologyHematocritMin',\n",
       " 'hematologyHematocritMinDate',\n",
       " 'hematologyHematocritMax',\n",
       " 'hematologyHematocritMaxDate',\n",
       " 'hematologyPlateletMin_cPermuL',\n",
       " 'hematologyPlateletMin_cPermuLDate']"
      ]
     },
     "execution_count": 109,
     "metadata": {},
     "output_type": "execute_result"
    }
   ],
   "source": [
    "hematology_columns = COMBINE_harmonizer.get_columns(\n",
    "    df_data_dict,\n",
    "    COMBINE_harmonizer.CATEGORY_INTERVENTION,\n",
    "    COMBINE_harmonizer.SUBCATEGORY_HEMATOLOGY_CBC)\n",
    "\n",
    "all_hematology_columns = id_columns + hematology_columns\n",
    "hematology_columns"
   ]
  },
  {
   "cell_type": "code",
   "execution_count": 110,
   "id": "aa3ff8d1-e2d6-418e-9bd8-e2fb4237d30f",
   "metadata": {
    "execution": {
     "iopub.execute_input": "2025-05-10T00:14:18.606573Z",
     "iopub.status.busy": "2025-05-10T00:14:18.606501Z",
     "iopub.status.idle": "2025-05-10T00:14:18.696592Z",
     "shell.execute_reply": "2025-05-10T00:14:18.696313Z"
    }
   },
   "outputs": [
    {
     "name": "stdout",
     "output_type": "stream",
     "text": [
      "(2/37) REC_CMP not in columns\n",
      "(7/37) respiratorySupportType not in columns\n",
      "(8/37) respiratoryFiO2 not in columns\n",
      "(9/37) respiratoryRate_Hz not in columns\n",
      "(10/37) respiratoryPIP_cmH2O not in columns\n",
      "(11/37) respiratoryMAP_cmH2O not in columns\n",
      "(12/37) respiratoryPEEP_cmH2O not in columns\n",
      "(21/37) anticonvulsants1 not in columns\n",
      "(22/37) anticonvulsants2 not in columns\n",
      "(23/37) anticonvulsants3 not in columns\n",
      "(24/37) analgesicsSedatives1 not in columns\n",
      "(25/37) analgesicsSedatives2 not in columns\n",
      "(26/37) analgesicsSedatives3 not in columns\n",
      "(27/37) antipyretics1 not in columns\n",
      "(28/37) antipyretics2 not in columns\n",
      "(29/37) antipyretics3 not in columns\n",
      "(30/37) paralytics1 not in columns\n",
      "(31/37) paralytics2 not in columns\n",
      "(32/37) paralytics3 not in columns\n",
      "(33/37) otherMedFluidIntake_ccPerKg not in columns\n",
      "(34/37) otherMedUrineOutput_ccPerKg not in columns\n",
      "(35/37) CMP_DATE not in columns\n",
      "(36/37) CRT_DATE not in columns\n",
      "(7/22) hematologyWBCMin_cPermuL not in df\n",
      "(8/22) hematologyWBCMax_cPermuL not in df\n",
      "(16/22) hematologyHematocritMin not in df\n",
      "(17/22) hematologyHematocritMinDate not in df\n",
      "(18/22) hematologyHematocritMax not in df\n",
      "(19/22) hematologyHematocritMaxDate not in df\n",
      "(20/22) hematologyPlateletMin_cPermuL not in df\n",
      "(21/22) hematologyPlateletMin_cPermuLDate not in df\n"
     ]
    }
   ],
   "source": [
    "df_hematology = df_dict['oc08.csv'].copy().rename(columns={'respiratoryTimeSlot_min': 'hematologyTimeSlot_min', 'respiratoryDate': 'hematologyDate', 'respiratoryTime': 'hematologyTime'})\n",
    "\n",
    "hematology_time_slot_int =df_hematology['hematologyTimeSlot_min'].apply(COMBINE_harmonizer.to_int)\n",
    "is_pre = hematology_time_slot_int == 0\n",
    "is_intervention = is_pre == False\n",
    "# after_baseline\n",
    "df_hematology = df_hematology[is_intervention]\n",
    "\n",
    "df_hematology = COMBINE_harmonizer.valid_columns(df_hematology, all_hematology_columns, debug_df=True, debug_columns=True)\n",
    "df_hematology = COMBINE_harmonizer.postprocess(df_hematology)\n",
    "out_filename = os.sep.join([out_dir, '02-05-hematology.csv'])\n",
    "df_hematology.to_csv(out_filename, index=False)"
   ]
  },
  {
   "cell_type": "markdown",
   "id": "aba3d0bb-bff8-4300-8765-2a293f1eefaf",
   "metadata": {},
   "source": [
    "### 02-05-1. check hematology"
   ]
  },
  {
   "cell_type": "code",
   "execution_count": 111,
   "id": "60996b57-c068-43de-bfd6-fc0a2e96a115",
   "metadata": {
    "execution": {
     "iopub.execute_input": "2025-05-10T00:14:18.697988Z",
     "iopub.status.busy": "2025-05-10T00:14:18.697902Z",
     "iopub.status.idle": "2025-05-10T00:14:18.703123Z",
     "shell.execute_reply": "2025-05-10T00:14:18.702895Z"
    }
   },
   "outputs": [
    {
     "data": {
      "text/html": [
       "<div>\n",
       "<style scoped>\n",
       "    .dataframe tbody tr th:only-of-type {\n",
       "        vertical-align: middle;\n",
       "    }\n",
       "\n",
       "    .dataframe tbody tr th {\n",
       "        vertical-align: top;\n",
       "    }\n",
       "\n",
       "    .dataframe thead th {\n",
       "        text-align: right;\n",
       "    }\n",
       "</style>\n",
       "<table border=\"1\" class=\"dataframe\">\n",
       "  <thead>\n",
       "    <tr style=\"text-align: right;\">\n",
       "      <th></th>\n",
       "      <th></th>\n",
       "      <th>_count</th>\n",
       "    </tr>\n",
       "    <tr>\n",
       "      <th>uniqueID</th>\n",
       "      <th>hematologyTimeSlot_min</th>\n",
       "      <th></th>\n",
       "    </tr>\n",
       "  </thead>\n",
       "  <tbody>\n",
       "  </tbody>\n",
       "</table>\n",
       "</div>"
      ],
      "text/plain": [
       "Empty DataFrame\n",
       "Columns: [_count]\n",
       "Index: []"
      ]
     },
     "execution_count": 111,
     "metadata": {},
     "output_type": "execute_result"
    }
   ],
   "source": [
    "df_hematology_groupby = df_hematology.groupby(['uniqueID', 'hematologyTimeSlot_min']).agg(_count=('uniqueID', 'count'))\n",
    "\n",
    "is_invalid = df_hematology_groupby['_count'] > 1\n",
    "df_hematology_groupby[is_invalid]"
   ]
  },
  {
   "cell_type": "markdown",
   "id": "3162c0b6-e0c2-4e63-b545-55e2567e389a",
   "metadata": {},
   "source": [
    "### 02-05-2. check empty cells"
   ]
  },
  {
   "cell_type": "code",
   "execution_count": 112,
   "id": "c8a15fad-0ac3-47cc-a9e7-1d8dffc81171",
   "metadata": {
    "execution": {
     "iopub.execute_input": "2025-05-10T00:14:18.704496Z",
     "iopub.status.busy": "2025-05-10T00:14:18.704409Z",
     "iopub.status.idle": "2025-05-10T00:14:18.708390Z",
     "shell.execute_reply": "2025-05-10T00:14:18.708145Z"
    }
   },
   "outputs": [
    {
     "name": "stdout",
     "output_type": "stream",
     "text": [
      "(0/15) column: center (1979 / 0)\n",
      "(1/15) column: subjectID (1979 / 0)\n",
      "(2/15) column: uniqueID (1979 / 0)\n",
      "(3/15) column: hematology (1951 / 28)\n",
      "(4/15) column: hematologyTimeSlot_min (1979 / 0)\n",
      "(5/15) column: hematologyDate (1979 / 0)\n",
      "(6/15) column: hematologyTime (1974 / 5)\n",
      "(7/15) column: hematologyWBC_cPermuL (1239 / 740)\n",
      "(8/15) column: hematologyHemoglobin_gPerdL (1340 / 639)\n",
      "(9/15) column: hematologyPolymorphNeutrophils_cPermuL (1067 / 912)\n",
      "(10/15) column: hematologyMonocytes_cPermuL (1089 / 890)\n",
      "(11/15) column: hematologyLymphocytes_cPermuL (1112 / 867)\n",
      "(12/15) column: hematologyPlatelet_cPermuL (1305 / 674)\n",
      "(13/15) column: hematologyPT_s (810 / 1169)\n",
      "(14/15) column: hematologyPTT_s (776 / 1203)\n"
     ]
    }
   ],
   "source": [
    "COMBINE_harmonizer.check_empty(df_hematology)"
   ]
  },
  {
   "cell_type": "code",
   "execution_count": 113,
   "id": "df4e1e23-48aa-48a2-884e-4cf22a0064a8",
   "metadata": {
    "execution": {
     "iopub.execute_input": "2025-05-10T00:14:18.709605Z",
     "iopub.status.busy": "2025-05-10T00:14:18.709529Z",
     "iopub.status.idle": "2025-05-10T00:14:18.712444Z",
     "shell.execute_reply": "2025-05-10T00:14:18.712226Z"
    }
   },
   "outputs": [
    {
     "name": "stdout",
     "output_type": "stream",
     "text": [
      "(0/15) center: (1979/0)\n",
      "(1/15) subjectID: (1979/0)\n",
      "(2/15) uniqueID: (1979/0)\n",
      "(3/15) hematology: (1951/28)\n",
      "(4/15) hematologyTimeSlot_min: (1979/0)\n",
      "(5/15) hematologyDate: (1979/0)\n",
      "(6/15) hematologyTime: (1974/5)\n",
      "(7/15) hematologyWBC_cPermuL: (1239/740)\n",
      "(8/15) hematologyHemoglobin_gPerdL: (1340/639)\n",
      "(9/15) hematologyPolymorphNeutrophils_cPermuL: (1067/912)\n",
      "(10/15) hematologyMonocytes_cPermuL: (1089/890)\n",
      "(11/15) hematologyLymphocytes_cPermuL: (1112/867)\n",
      "(12/15) hematologyPlatelet_cPermuL: (1305/674)\n",
      "(13/15) hematologyPT_s: (810/1169)\n",
      "(14/15) hematologyPTT_s: (776/1203)\n"
     ]
    }
   ],
   "source": [
    "COMBINE_harmonizer.column_info(df_hematology)"
   ]
  },
  {
   "cell_type": "markdown",
   "id": "33e9b73f",
   "metadata": {},
   "source": [
    "### 02-05-3. Hematology summary"
   ]
  },
  {
   "cell_type": "code",
   "execution_count": 114,
   "id": "6c69cf21",
   "metadata": {
    "execution": {
     "iopub.execute_input": "2025-05-10T00:14:18.713696Z",
     "iopub.status.busy": "2025-05-10T00:14:18.713625Z",
     "iopub.status.idle": "2025-05-10T00:14:18.777052Z",
     "shell.execute_reply": "2025-05-10T00:14:18.776790Z"
    }
   },
   "outputs": [
    {
     "name": "stdout",
     "output_type": "stream",
     "text": [
      "(2/22) hematology not in df\n",
      "(3/22) hematologyTimeSlot_min not in df\n",
      "(4/22) hematologyDate not in df\n",
      "(5/22) hematologyTime not in df\n",
      "(6/22) hematologyWBC_cPermuL not in df\n",
      "(7/22) hematologyWBCMin_cPermuL not in df\n",
      "(8/22) hematologyWBCMax_cPermuL not in df\n",
      "(9/22) hematologyHemoglobin_gPerdL not in df\n",
      "(10/22) hematologyPolymorphNeutrophils_cPermuL not in df\n",
      "(11/22) hematologyMonocytes_cPermuL not in df\n",
      "(12/22) hematologyLymphocytes_cPermuL not in df\n",
      "(13/22) hematologyPlatelet_cPermuL not in df\n",
      "(14/22) hematologyPT_s not in df\n",
      "(15/22) hematologyPTT_s not in df\n",
      "(18/22) hematologyHematocritMax not in df\n",
      "(19/22) hematologyHematocritMaxDate not in df\n"
     ]
    }
   ],
   "source": [
    "df_main_hematology = COMBINE_harmonizer.valid_columns(df_main, all_hematology_columns)\n",
    "df_main_hematology = COMBINE_harmonizer.postprocess(df_main_hematology)\n",
    "\n",
    "out_filename = os.sep.join([out_dir, '02-05_s-hematology.csv'])\n",
    "df_main_hematology.to_csv(out_filename, index=False)"
   ]
  },
  {
   "cell_type": "markdown",
   "id": "32ba6e91",
   "metadata": {},
   "source": [
    "### 02-05-4. check empty cells"
   ]
  },
  {
   "cell_type": "code",
   "execution_count": 115,
   "id": "8af06fb0",
   "metadata": {
    "execution": {
     "iopub.execute_input": "2025-05-10T00:14:18.778357Z",
     "iopub.status.busy": "2025-05-10T00:14:18.778277Z",
     "iopub.status.idle": "2025-05-10T00:14:18.780933Z",
     "shell.execute_reply": "2025-05-10T00:14:18.780688Z"
    }
   },
   "outputs": [
    {
     "name": "stdout",
     "output_type": "stream",
     "text": [
      "(0/7) column: center (364 / 0)\n",
      "(1/7) column: subjectID (364 / 0)\n",
      "(2/7) column: uniqueID (364 / 0)\n",
      "(3/7) column: hematologyHematocritMin (364 / 0)\n",
      "(4/7) column: hematologyHematocritMinDate (364 / 0)\n",
      "(5/7) column: hematologyPlateletMin_cPermuL (361 / 3)\n",
      "(6/7) column: hematologyPlateletMin_cPermuLDate (361 / 3)\n"
     ]
    }
   ],
   "source": [
    "COMBINE_harmonizer.check_empty(df_main_hematology)"
   ]
  },
  {
   "cell_type": "code",
   "execution_count": 116,
   "id": "4801268e",
   "metadata": {
    "execution": {
     "iopub.execute_input": "2025-05-10T00:14:18.782167Z",
     "iopub.status.busy": "2025-05-10T00:14:18.782074Z",
     "iopub.status.idle": "2025-05-10T00:14:18.784290Z",
     "shell.execute_reply": "2025-05-10T00:14:18.784052Z"
    }
   },
   "outputs": [
    {
     "name": "stdout",
     "output_type": "stream",
     "text": [
      "(0/7) center: (364/0)\n",
      "(1/7) subjectID: (364/0)\n",
      "(2/7) uniqueID: (364/0)\n",
      "(3/7) hematologyHematocritMin: (364/0)\n",
      "(4/7) hematologyHematocritMinDate: (364/0)\n",
      "(5/7) hematologyPlateletMin_cPermuL: (361/3)\n",
      "(6/7) hematologyPlateletMin_cPermuLDate: (361/3)\n"
     ]
    }
   ],
   "source": [
    "COMBINE_harmonizer.column_info(df_main_hematology)"
   ]
  },
  {
   "cell_type": "markdown",
   "id": "1d73d565",
   "metadata": {},
   "source": [
    "## 02-06. Blood Value"
   ]
  },
  {
   "cell_type": "code",
   "execution_count": 117,
   "id": "2f9156da",
   "metadata": {
    "execution": {
     "iopub.execute_input": "2025-05-10T00:14:18.785616Z",
     "iopub.status.busy": "2025-05-10T00:14:18.785518Z",
     "iopub.status.idle": "2025-05-10T00:14:18.788408Z",
     "shell.execute_reply": "2025-05-10T00:14:18.788182Z"
    }
   },
   "outputs": [
    {
     "data": {
      "text/plain": [
       "['bloodValueBunBaseline_mgPerdL',\n",
       " 'bloodValueBunBaseline_mgPerdLDate',\n",
       " 'bloodValueCreatinineBaseline_mgPerdL',\n",
       " 'bloodValueCreatinineBaseline_mgPerdLDate',\n",
       " 'bloodValueASTSGOTBaseline_UPerL',\n",
       " 'bloodValueASTSGOTBaseline_UPerLDate',\n",
       " 'bloodValueALTSGPTBaseline_UPerL',\n",
       " 'bloodValueALTSGPTBaseline_UPerLDate',\n",
       " 'bloodValueTotalBilirubinBaseline_mgPerdL',\n",
       " 'bloodValueTotalBilirubinBaseline_mgPerdLDate',\n",
       " 'bloodValuePHMin',\n",
       " 'bloodValuePHMinDate',\n",
       " 'bloodValueHCO3Min_mEqPerL',\n",
       " 'bloodValueHCO3Min_mEqPerLDate',\n",
       " 'bloodValueSerumNaMin_mEqPerL',\n",
       " 'bloodValueSerumNaMin_mEqPerLDate',\n",
       " 'bloodValueSerumKMin_mEqPerL',\n",
       " 'bloodValueSerumKMin_mEqPerLDate',\n",
       " 'bloodValueClMin_mEqPerL',\n",
       " 'bloodValueClMin_mEqPerLDate',\n",
       " 'bloodValueGlucoseMin_mgPerdL',\n",
       " 'bloodValueGlucoseMin_mgPerdLDate',\n",
       " 'bloodValueTotalCaMin_mgPerdL',\n",
       " 'bloodValueTotalCaMin_mgPerdLDate',\n",
       " 'bloodValueIonCaMin_mgPerdL',\n",
       " 'bloodValueIonCaMin_mgPerdLDate',\n",
       " 'bloodValueASTSGOTMin_UPerL',\n",
       " 'bloodValueASTSGOTMin_UPerLDate',\n",
       " 'bloodValueALTSGPTMin_UPerL',\n",
       " 'bloodValueALTSGPTMin_UPerLDate',\n",
       " 'bloodValueTotalBilirubinMin_mgPerdL',\n",
       " 'bloodValueTotalBilirubinMin_mgPerdLDate',\n",
       " 'bloodValuePHMax',\n",
       " 'bloodValuePHMaxDate',\n",
       " 'bloodValueBaseDeficitMax_mEqPerL',\n",
       " 'bloodValueBaseDeficitMax_mEqPerLDate',\n",
       " 'bloodValueSerumNaMax_mEqPerL',\n",
       " 'bloodValueSerumNaMax_mEqPerLDate',\n",
       " 'bloodValueSerumKMax_mEqPerL',\n",
       " 'bloodValueSerumKMax_mEqPerLDate',\n",
       " 'bloodValueClMax_mEqPerL',\n",
       " 'bloodValueClMax_mEqPerLDate',\n",
       " 'bloodValueBunMax_mgPerdL',\n",
       " 'bloodValueBunMax_mgPerdLDate',\n",
       " 'bloodValueCreatinineMax_mgPerdL',\n",
       " 'bloodValueCreatinineMax_mgPerdLDate',\n",
       " 'bloodValueGlucoseMax_mgPerdL',\n",
       " 'bloodValueGlucoseMax_mgPerdLDate',\n",
       " 'bloodValueTotalCaMax_mgPerdL',\n",
       " 'bloodValueTotalCaMax_mgPerdLDate',\n",
       " 'bloodValueIonCaMax_mgPerdL',\n",
       " 'bloodValueIonCaMax_mgPerdLDate',\n",
       " 'bloodValueASTSGOTMax_UPerL',\n",
       " 'bloodValueASTSGOTMax_UPerLDate',\n",
       " 'bloodValueALTSGPTMax_UPerL',\n",
       " 'bloodValueALTSGPTMax_UPerLDate',\n",
       " 'bloodValueTotalBilirubinMax_mgPerdL',\n",
       " 'bloodValueTotalBilirubinMax_mgPerdLDate']"
      ]
     },
     "execution_count": 117,
     "metadata": {},
     "output_type": "execute_result"
    }
   ],
   "source": [
    "blood_value_columns = COMBINE_harmonizer.get_columns(\n",
    "    df_data_dict,\n",
    "    COMBINE_harmonizer.CATEGORY_INTERVENTION,\n",
    "    COMBINE_harmonizer.SUBCATEGORY_BLOOD_VALUE_OTHER)\n",
    "\n",
    "all_blood_value_columns = id_columns + blood_value_columns\n",
    "blood_value_columns"
   ]
  },
  {
   "cell_type": "code",
   "execution_count": 118,
   "id": "1b7259f9",
   "metadata": {
    "execution": {
     "iopub.execute_input": "2025-05-10T00:14:18.789584Z",
     "iopub.status.busy": "2025-05-10T00:14:18.789491Z",
     "iopub.status.idle": "2025-05-10T00:14:18.867555Z",
     "shell.execute_reply": "2025-05-10T00:14:18.867290Z"
    }
   },
   "outputs": [],
   "source": [
    "df_main_blood_value = COMBINE_harmonizer.valid_columns(df_main, all_blood_value_columns)\n",
    "df_main_blood_value = COMBINE_harmonizer.postprocess(df_main_blood_value)\n",
    "\n",
    "out_filename = os.sep.join([out_dir, '02-06_s-blood-value.csv'])\n",
    "df_main_blood_value.to_csv(out_filename, index=False)\n"
   ]
  },
  {
   "cell_type": "markdown",
   "id": "d8e2a22a",
   "metadata": {},
   "source": [
    "### 02-06-2. check empty cells"
   ]
  },
  {
   "cell_type": "code",
   "execution_count": 119,
   "id": "55c9c60e",
   "metadata": {
    "execution": {
     "iopub.execute_input": "2025-05-10T00:14:18.869116Z",
     "iopub.status.busy": "2025-05-10T00:14:18.869028Z",
     "iopub.status.idle": "2025-05-10T00:14:18.875219Z",
     "shell.execute_reply": "2025-05-10T00:14:18.874967Z"
    }
   },
   "outputs": [
    {
     "name": "stdout",
     "output_type": "stream",
     "text": [
      "(0/61) column: center (364 / 0)\n",
      "(1/61) column: subjectID (364 / 0)\n",
      "(2/61) column: uniqueID (364 / 0)\n",
      "(3/61) column: bloodValuePHMin (360 / 4)\n",
      "(4/61) column: bloodValuePHMinDate (360 / 4)\n",
      "(5/61) column: bloodValuePHMax (360 / 4)\n",
      "(6/61) column: bloodValuePHMaxDate (360 / 4)\n",
      "(7/61) column: bloodValueHCO3Min_mEqPerL (361 / 3)\n",
      "(8/61) column: bloodValueHCO3Min_mEqPerLDate (361 / 3)\n",
      "(9/61) column: bloodValueBaseDeficitMax_mEqPerL (360 / 4)\n",
      "(10/61) column: bloodValueBaseDeficitMax_mEqPerLDate (360 / 4)\n",
      "(11/61) column: bloodValueSerumNaMin_mEqPerL (363 / 1)\n",
      "(12/61) column: bloodValueSerumNaMin_mEqPerLDate (364 / 0)\n",
      "(13/61) column: bloodValueSerumNaMax_mEqPerL (363 / 1)\n",
      "(14/61) column: bloodValueSerumNaMax_mEqPerLDate (363 / 1)\n",
      "(15/61) column: bloodValueSerumKMin_mEqPerL (363 / 1)\n",
      "(16/61) column: bloodValueSerumKMin_mEqPerLDate (364 / 0)\n",
      "(17/61) column: bloodValueSerumKMax_mEqPerL (362 / 2)\n",
      "(18/61) column: bloodValueSerumKMax_mEqPerLDate (363 / 1)\n",
      "(19/61) column: bloodValueClMin_mEqPerL (363 / 1)\n",
      "(20/61) column: bloodValueClMin_mEqPerLDate (363 / 1)\n",
      "(21/61) column: bloodValueClMax_mEqPerL (362 / 2)\n",
      "(22/61) column: bloodValueClMax_mEqPerLDate (362 / 2)\n",
      "(23/61) column: bloodValueBunBaseline_mgPerdL (307 / 57)\n",
      "(24/61) column: bloodValueBunBaseline_mgPerdLDate (311 / 53)\n",
      "(25/61) column: bloodValueBunMax_mgPerdL (361 / 3)\n",
      "(26/61) column: bloodValueBunMax_mgPerdLDate (361 / 3)\n",
      "(27/61) column: bloodValueCreatinineBaseline_mgPerdL (304 / 60)\n",
      "(28/61) column: bloodValueCreatinineBaseline_mgPerdLDate (308 / 56)\n",
      "(29/61) column: bloodValueCreatinineMax_mgPerdL (361 / 3)\n",
      "(30/61) column: bloodValueCreatinineMax_mgPerdLDate (361 / 3)\n",
      "(31/61) column: bloodValueGlucoseMin_mgPerdL (363 / 1)\n",
      "(32/61) column: bloodValueGlucoseMin_mgPerdLDate (362 / 2)\n",
      "(33/61) column: bloodValueGlucoseMax_mgPerdL (364 / 0)\n",
      "(34/61) column: bloodValueGlucoseMax_mgPerdLDate (363 / 1)\n",
      "(35/61) column: bloodValueTotalCaMin_mgPerdL (332 / 32)\n",
      "(36/61) column: bloodValueTotalCaMin_mgPerdLDate (332 / 32)\n",
      "(37/61) column: bloodValueTotalCaMax_mgPerdL (331 / 33)\n",
      "(38/61) column: bloodValueTotalCaMax_mgPerdLDate (331 / 33)\n",
      "(39/61) column: bloodValueIonCaMin_mgPerdL (260 / 104)\n",
      "(40/61) column: bloodValueIonCaMin_mgPerdLDate (260 / 104)\n",
      "(41/61) column: bloodValueIonCaMax_mgPerdL (253 / 111)\n",
      "(42/61) column: bloodValueIonCaMax_mgPerdLDate (253 / 111)\n",
      "(43/61) column: bloodValueASTSGOTBaseline_UPerL (328 / 36)\n",
      "(44/61) column: bloodValueASTSGOTBaseline_UPerLDate (334 / 30)\n",
      "(45/61) column: bloodValueASTSGOTMin_UPerL (326 / 38)\n",
      "(46/61) column: bloodValueASTSGOTMin_UPerLDate (326 / 38)\n",
      "(47/61) column: bloodValueASTSGOTMax_UPerL (329 / 35)\n",
      "(48/61) column: bloodValueASTSGOTMax_UPerLDate (329 / 35)\n",
      "(49/61) column: bloodValueALTSGPTBaseline_UPerL (331 / 33)\n",
      "(50/61) column: bloodValueALTSGPTBaseline_UPerLDate (335 / 29)\n",
      "(51/61) column: bloodValueALTSGPTMin_UPerL (331 / 33)\n",
      "(52/61) column: bloodValueALTSGPTMin_UPerLDate (331 / 33)\n",
      "(53/61) column: bloodValueALTSGPTMax_UPerL (333 / 31)\n",
      "(54/61) column: bloodValueALTSGPTMax_UPerLDate (333 / 31)\n",
      "(55/61) column: bloodValueTotalBilirubinBaseline_mgPerdL (305 / 59)\n",
      "(56/61) column: bloodValueTotalBilirubinBaseline_mgPerdLDate (306 / 58)\n",
      "(57/61) column: bloodValueTotalBilirubinMin_mgPerdL (346 / 18)\n",
      "(58/61) column: bloodValueTotalBilirubinMin_mgPerdLDate (346 / 18)\n",
      "(59/61) column: bloodValueTotalBilirubinMax_mgPerdL (349 / 15)\n",
      "(60/61) column: bloodValueTotalBilirubinMax_mgPerdLDate (349 / 15)\n"
     ]
    }
   ],
   "source": [
    "COMBINE_harmonizer.check_empty(df_main_blood_value)"
   ]
  },
  {
   "cell_type": "code",
   "execution_count": 120,
   "id": "b18ad6c8",
   "metadata": {
    "execution": {
     "iopub.execute_input": "2025-05-10T00:14:18.876433Z",
     "iopub.status.busy": "2025-05-10T00:14:18.876348Z",
     "iopub.status.idle": "2025-05-10T00:14:18.880422Z",
     "shell.execute_reply": "2025-05-10T00:14:18.880199Z"
    }
   },
   "outputs": [
    {
     "name": "stdout",
     "output_type": "stream",
     "text": [
      "(0/61) center: (364/0)\n",
      "(1/61) subjectID: (364/0)\n",
      "(2/61) uniqueID: (364/0)\n",
      "(3/61) bloodValuePHMin: (360/4)\n",
      "(4/61) bloodValuePHMinDate: (360/4)\n",
      "(5/61) bloodValuePHMax: (360/4)\n",
      "(6/61) bloodValuePHMaxDate: (360/4)\n",
      "(7/61) bloodValueHCO3Min_mEqPerL: (361/3)\n",
      "(8/61) bloodValueHCO3Min_mEqPerLDate: (361/3)\n",
      "(9/61) bloodValueBaseDeficitMax_mEqPerL: (360/4)\n",
      "(10/61) bloodValueBaseDeficitMax_mEqPerLDate: (360/4)\n",
      "(11/61) bloodValueSerumNaMin_mEqPerL: (363/1)\n",
      "(12/61) bloodValueSerumNaMin_mEqPerLDate: (364/0)\n",
      "(13/61) bloodValueSerumNaMax_mEqPerL: (363/1)\n",
      "(14/61) bloodValueSerumNaMax_mEqPerLDate: (363/1)\n",
      "(15/61) bloodValueSerumKMin_mEqPerL: (363/1)\n",
      "(16/61) bloodValueSerumKMin_mEqPerLDate: (364/0)\n",
      "(17/61) bloodValueSerumKMax_mEqPerL: (362/2)\n",
      "(18/61) bloodValueSerumKMax_mEqPerLDate: (363/1)\n",
      "(19/61) bloodValueClMin_mEqPerL: (363/1)\n",
      "(20/61) bloodValueClMin_mEqPerLDate: (363/1)\n",
      "(21/61) bloodValueClMax_mEqPerL: (362/2)\n",
      "(22/61) bloodValueClMax_mEqPerLDate: (362/2)\n",
      "(23/61) bloodValueBunBaseline_mgPerdL: (307/57)\n",
      "(24/61) bloodValueBunBaseline_mgPerdLDate: (311/53)\n",
      "(25/61) bloodValueBunMax_mgPerdL: (361/3)\n",
      "(26/61) bloodValueBunMax_mgPerdLDate: (361/3)\n",
      "(27/61) bloodValueCreatinineBaseline_mgPerdL: (304/60)\n",
      "(28/61) bloodValueCreatinineBaseline_mgPerdLDate: (308/56)\n",
      "(29/61) bloodValueCreatinineMax_mgPerdL: (361/3)\n",
      "(30/61) bloodValueCreatinineMax_mgPerdLDate: (361/3)\n",
      "(31/61) bloodValueGlucoseMin_mgPerdL: (363/1)\n",
      "(32/61) bloodValueGlucoseMin_mgPerdLDate: (362/2)\n",
      "(33/61) bloodValueGlucoseMax_mgPerdL: (364/0)\n",
      "(34/61) bloodValueGlucoseMax_mgPerdLDate: (363/1)\n",
      "(35/61) bloodValueTotalCaMin_mgPerdL: (332/32)\n",
      "(36/61) bloodValueTotalCaMin_mgPerdLDate: (332/32)\n",
      "(37/61) bloodValueTotalCaMax_mgPerdL: (331/33)\n",
      "(38/61) bloodValueTotalCaMax_mgPerdLDate: (331/33)\n",
      "(39/61) bloodValueIonCaMin_mgPerdL: (260/104)\n",
      "(40/61) bloodValueIonCaMin_mgPerdLDate: (260/104)\n",
      "(41/61) bloodValueIonCaMax_mgPerdL: (253/111)\n",
      "(42/61) bloodValueIonCaMax_mgPerdLDate: (253/111)\n",
      "(43/61) bloodValueASTSGOTBaseline_UPerL: (328/36)\n",
      "(44/61) bloodValueASTSGOTBaseline_UPerLDate: (334/30)\n",
      "(45/61) bloodValueASTSGOTMin_UPerL: (326/38)\n",
      "(46/61) bloodValueASTSGOTMin_UPerLDate: (326/38)\n",
      "(47/61) bloodValueASTSGOTMax_UPerL: (329/35)\n",
      "(48/61) bloodValueASTSGOTMax_UPerLDate: (329/35)\n",
      "(49/61) bloodValueALTSGPTBaseline_UPerL: (331/33)\n",
      "(50/61) bloodValueALTSGPTBaseline_UPerLDate: (335/29)\n",
      "(51/61) bloodValueALTSGPTMin_UPerL: (331/33)\n",
      "(52/61) bloodValueALTSGPTMin_UPerLDate: (331/33)\n",
      "(53/61) bloodValueALTSGPTMax_UPerL: (333/31)\n",
      "(54/61) bloodValueALTSGPTMax_UPerLDate: (333/31)\n",
      "(55/61) bloodValueTotalBilirubinBaseline_mgPerdL: (305/59)\n",
      "(56/61) bloodValueTotalBilirubinBaseline_mgPerdLDate: (306/58)\n",
      "(57/61) bloodValueTotalBilirubinMin_mgPerdL: (346/18)\n",
      "(58/61) bloodValueTotalBilirubinMin_mgPerdLDate: (346/18)\n",
      "(59/61) bloodValueTotalBilirubinMax_mgPerdL: (349/15)\n",
      "(60/61) bloodValueTotalBilirubinMax_mgPerdLDate: (349/15)\n"
     ]
    }
   ],
   "source": [
    "COMBINE_harmonizer.column_info(df_main_blood_value)"
   ]
  },
  {
   "cell_type": "markdown",
   "id": "a6bfd200",
   "metadata": {},
   "source": [
    "## 02-07. infection"
   ]
  },
  {
   "cell_type": "code",
   "execution_count": 121,
   "id": "c1a850b4",
   "metadata": {
    "execution": {
     "iopub.execute_input": "2025-05-10T00:14:18.881668Z",
     "iopub.status.busy": "2025-05-10T00:14:18.881596Z",
     "iopub.status.idle": "2025-05-10T00:14:18.884208Z",
     "shell.execute_reply": "2025-05-10T00:14:18.883853Z"
    }
   },
   "outputs": [
    {
     "data": {
      "text/plain": [
       "['positiveCultureNumber',\n",
       " 'positiveCulture',\n",
       " 'positiveCultureSrc',\n",
       " 'positiveCultureDate',\n",
       " 'positiveCultureTime',\n",
       " 'positiveCultureOrganismCode1',\n",
       " 'positiveCultureOrganismCode2',\n",
       " 'positiveCultureOrganismCode3',\n",
       " 'antibiotics',\n",
       " 'antibioticsCode1',\n",
       " 'antibioticsCode2',\n",
       " 'antibioticsCode3',\n",
       " 'rewarmingAntibiotics',\n",
       " 'rewarmingAntibioticsCode1',\n",
       " 'rewarmingAntibioticsCode2',\n",
       " 'rewarmingAntibioticsCode3']"
      ]
     },
     "execution_count": 121,
     "metadata": {},
     "output_type": "execute_result"
    }
   ],
   "source": [
    "infection_columns = COMBINE_harmonizer.get_columns(\n",
    "    df_data_dict,\n",
    "    COMBINE_harmonizer.CATEGORY_INTERVENTION,\n",
    "    COMBINE_harmonizer.SUBCATEGORY_INFECTION)\n",
    "\n",
    "all_infection_columns = id_columns + infection_columns\n",
    "infection_columns"
   ]
  },
  {
   "cell_type": "code",
   "execution_count": 122,
   "id": "598ca18f",
   "metadata": {
    "execution": {
     "iopub.execute_input": "2025-05-10T00:14:18.885593Z",
     "iopub.status.busy": "2025-05-10T00:14:18.885514Z",
     "iopub.status.idle": "2025-05-10T00:14:18.951410Z",
     "shell.execute_reply": "2025-05-10T00:14:18.950990Z"
    }
   },
   "outputs": [
    {
     "name": "stdout",
     "output_type": "stream",
     "text": [
      "(3/18) positiveCulture not in df\n"
     ]
    }
   ],
   "source": [
    "df_infection_1 = df_dict['oc09i.csv'].copy()\n",
    "df_infection_2 = df_dict['oc09.csv'].copy()\n",
    "df_infection = df_infection_1.merge(df_infection_2, on=['center', 'subjectID'], how='outer')\n",
    "df_infection = COMBINE_harmonizer.valid_columns(df_infection, all_infection_columns)\n",
    "df_infection = COMBINE_harmonizer.postprocess(df_infection)\n",
    "\n",
    "### XXX positive culture number as 1\n",
    "df_infection['positiveCultureNumber'] = 1\n",
    "\n",
    "out_filename = os.sep.join([out_dir, '02-07-infection.csv'])\n",
    "df_infection.to_csv(out_filename, index=False)"
   ]
  },
  {
   "cell_type": "markdown",
   "id": "57d488c7",
   "metadata": {},
   "source": [
    "### 02-07-1. check infection"
   ]
  },
  {
   "cell_type": "code",
   "execution_count": 123,
   "id": "4ef4947b",
   "metadata": {
    "execution": {
     "iopub.execute_input": "2025-05-10T00:14:18.952987Z",
     "iopub.status.busy": "2025-05-10T00:14:18.952895Z",
     "iopub.status.idle": "2025-05-10T00:14:18.957272Z",
     "shell.execute_reply": "2025-05-10T00:14:18.957055Z"
    }
   },
   "outputs": [
    {
     "data": {
      "text/html": [
       "<div>\n",
       "<style scoped>\n",
       "    .dataframe tbody tr th:only-of-type {\n",
       "        vertical-align: middle;\n",
       "    }\n",
       "\n",
       "    .dataframe tbody tr th {\n",
       "        vertical-align: top;\n",
       "    }\n",
       "\n",
       "    .dataframe thead th {\n",
       "        text-align: right;\n",
       "    }\n",
       "</style>\n",
       "<table border=\"1\" class=\"dataframe\">\n",
       "  <thead>\n",
       "    <tr style=\"text-align: right;\">\n",
       "      <th></th>\n",
       "      <th>_count</th>\n",
       "    </tr>\n",
       "    <tr>\n",
       "      <th>uniqueID</th>\n",
       "      <th></th>\n",
       "    </tr>\n",
       "  </thead>\n",
       "  <tbody>\n",
       "  </tbody>\n",
       "</table>\n",
       "</div>"
      ],
      "text/plain": [
       "Empty DataFrame\n",
       "Columns: [_count]\n",
       "Index: []"
      ]
     },
     "execution_count": 123,
     "metadata": {},
     "output_type": "execute_result"
    }
   ],
   "source": [
    "df_infection_groupby = df_infection.groupby(['uniqueID']).agg(_count=('uniqueID', 'count'))\n",
    "\n",
    "is_invalid = df_infection_groupby['_count'] > 1\n",
    "df_infection_groupby[is_invalid]"
   ]
  },
  {
   "cell_type": "markdown",
   "id": "0f9287d1",
   "metadata": {},
   "source": [
    "### 02-07-2. check empty cells"
   ]
  },
  {
   "cell_type": "code",
   "execution_count": 124,
   "id": "cf3773bd",
   "metadata": {
    "execution": {
     "iopub.execute_input": "2025-05-10T00:14:18.958520Z",
     "iopub.status.busy": "2025-05-10T00:14:18.958435Z",
     "iopub.status.idle": "2025-05-10T00:14:18.961497Z",
     "shell.execute_reply": "2025-05-10T00:14:18.961264Z"
    }
   },
   "outputs": [
    {
     "name": "stdout",
     "output_type": "stream",
     "text": [
      "(0/18) column: center (364 / 0)\n",
      "(1/18) column: subjectID (364 / 0)\n",
      "(2/18) column: uniqueID (364 / 0)\n",
      "(3/18) column: positiveCultureNumber (364 / 0)\n",
      "(4/18) column: positiveCultureSrc (5 / 359)\n",
      "(5/18) column: positiveCultureDate (5 / 359)\n",
      "(6/18) column: positiveCultureTime (5 / 359)\n",
      "(7/18) column: positiveCultureOrganismCode1 (5 / 359)\n",
      "(8/18) column: positiveCultureOrganismCode2 (0 / 364)\n",
      "(9/18) column: positiveCultureOrganismCode3 (0 / 364)\n",
      "(10/18) column: antibiotics (364 / 0)\n",
      "(11/18) column: rewarmingAntibiotics (364 / 0)\n",
      "(12/18) column: antibioticsCode1 (152 / 212)\n",
      "(13/18) column: antibioticsCode2 (88 / 276)\n",
      "(14/18) column: antibioticsCode3 (14 / 350)\n",
      "(15/18) column: rewarmingAntibioticsCode1 (16 / 348)\n",
      "(16/18) column: rewarmingAntibioticsCode2 (5 / 359)\n",
      "(17/18) column: rewarmingAntibioticsCode3 (0 / 364)\n"
     ]
    }
   ],
   "source": [
    "COMBINE_harmonizer.check_empty(df_infection)"
   ]
  },
  {
   "cell_type": "code",
   "execution_count": 125,
   "id": "47e2fd09",
   "metadata": {
    "execution": {
     "iopub.execute_input": "2025-05-10T00:14:18.962699Z",
     "iopub.status.busy": "2025-05-10T00:14:18.962605Z",
     "iopub.status.idle": "2025-05-10T00:14:18.965026Z",
     "shell.execute_reply": "2025-05-10T00:14:18.964792Z"
    }
   },
   "outputs": [
    {
     "name": "stdout",
     "output_type": "stream",
     "text": [
      "(0/18) center: (364/0)\n",
      "(1/18) subjectID: (364/0)\n",
      "(2/18) uniqueID: (364/0)\n",
      "(3/18) positiveCultureNumber: (364/0)\n",
      "(4/18) positiveCultureSrc: (5/359)\n",
      "(5/18) positiveCultureDate: (5/359)\n",
      "(6/18) positiveCultureTime: (5/359)\n",
      "(7/18) positiveCultureOrganismCode1: (5/359)\n",
      "(8/18) positiveCultureOrganismCode2: (0/364)\n",
      "(9/18) positiveCultureOrganismCode3: (0/364)\n",
      "(10/18) antibiotics: (364/0)\n",
      "(11/18) rewarmingAntibiotics: (364/0)\n",
      "(12/18) antibioticsCode1: (152/212)\n",
      "(13/18) antibioticsCode2: (88/276)\n",
      "(14/18) antibioticsCode3: (14/350)\n",
      "(15/18) rewarmingAntibioticsCode1: (16/348)\n",
      "(16/18) rewarmingAntibioticsCode2: (5/359)\n",
      "(17/18) rewarmingAntibioticsCode3: (0/364)\n"
     ]
    }
   ],
   "source": [
    "COMBINE_harmonizer.column_info(df_infection)"
   ]
  },
  {
   "cell_type": "markdown",
   "id": "519bddc2-506e-4d02-ad7c-b7251d90591e",
   "metadata": {},
   "source": [
    "## 02-08. other-med"
   ]
  },
  {
   "cell_type": "code",
   "execution_count": 126,
   "id": "e2ed7e2e-e6d7-42de-a548-364d5ba856e1",
   "metadata": {
    "execution": {
     "iopub.execute_input": "2025-05-10T00:14:18.966281Z",
     "iopub.status.busy": "2025-05-10T00:14:18.966130Z",
     "iopub.status.idle": "2025-05-10T00:14:18.969054Z",
     "shell.execute_reply": "2025-05-10T00:14:18.968817Z"
    }
   },
   "outputs": [
    {
     "data": {
      "text/plain": [
       "['otherMedTimeSlot_min',\n",
       " 'otherMedTargetDate',\n",
       " 'otherMedTargetTime',\n",
       " 'anticonvulsants',\n",
       " 'anticonvulsants1',\n",
       " 'anticonvulsants2',\n",
       " 'anticonvulsants3',\n",
       " 'analgesicsSedatives',\n",
       " 'analgesicsSedatives1',\n",
       " 'analgesicsSedatives2',\n",
       " 'analgesicsSedatives3',\n",
       " 'antipyretics',\n",
       " 'antipyretics1',\n",
       " 'antipyretics2',\n",
       " 'antipyretics3',\n",
       " 'paralytics',\n",
       " 'paralytics1',\n",
       " 'paralytics2',\n",
       " 'paralytics3',\n",
       " 'otherMedFluidIntake_ccPerKg',\n",
       " 'otherMedUrineOutput_ccPerKg']"
      ]
     },
     "execution_count": 126,
     "metadata": {},
     "output_type": "execute_result"
    }
   ],
   "source": [
    "other_med_columns = COMBINE_harmonizer.get_columns(\n",
    "    df_data_dict,\n",
    "    COMBINE_harmonizer.CATEGORY_INTERVENTION,\n",
    "    COMBINE_harmonizer.SUBCATEGORY_OTHER_MEDICINE)\n",
    "\n",
    "all_other_med_columns = id_columns + other_med_columns\n",
    "other_med_columns"
   ]
  },
  {
   "cell_type": "code",
   "execution_count": 127,
   "id": "3bc10134-70d8-425d-84f7-a56ddd426a44",
   "metadata": {
    "execution": {
     "iopub.execute_input": "2025-05-10T00:14:18.970323Z",
     "iopub.status.busy": "2025-05-10T00:14:18.970215Z",
     "iopub.status.idle": "2025-05-10T00:14:19.068400Z",
     "shell.execute_reply": "2025-05-10T00:14:19.068093Z"
    }
   },
   "outputs": [
    {
     "name": "stdout",
     "output_type": "stream",
     "text": [
      "(1/37) hematology not in columns\n",
      "(2/37) REC_CMP not in columns\n",
      "(5/37) respiratoryDate not in columns\n",
      "(6/37) respiratoryTime not in columns\n",
      "(7/37) respiratorySupportType not in columns\n",
      "(8/37) respiratoryFiO2 not in columns\n",
      "(9/37) respiratoryRate_Hz not in columns\n",
      "(10/37) respiratoryPIP_cmH2O not in columns\n",
      "(11/37) respiratoryMAP_cmH2O not in columns\n",
      "(12/37) respiratoryPEEP_cmH2O not in columns\n",
      "(13/37) hematologyWBC_cPermuL not in columns\n",
      "(14/37) hematologyHemoglobin_gPerdL not in columns\n",
      "(15/37) hematologyPolymorphNeutrophils_cPermuL not in columns\n",
      "(16/37) hematologyMonocytes_cPermuL not in columns\n",
      "(17/37) hematologyLymphocytes_cPermuL not in columns\n",
      "(18/37) hematologyPlatelet_cPermuL not in columns\n",
      "(19/37) hematologyPT_s not in columns\n",
      "(20/37) hematologyPTT_s not in columns\n",
      "(35/37) CMP_DATE not in columns\n",
      "(36/37) CRT_DATE not in columns\n",
      "(3/23) otherMedTargetDate not in df\n",
      "(4/23) otherMedTargetTime not in df\n",
      "(5/23) anticonvulsants not in df\n",
      "(9/23) analgesicsSedatives not in df\n",
      "(13/23) antipyretics not in df\n",
      "(17/23) paralytics not in df\n"
     ]
    }
   ],
   "source": [
    "df_other_med = df_dict['oc08.csv'].copy().rename(columns={'respiratoryTimeSlot_min': 'otherMedTimeSlot_min'})\n",
    "\n",
    "other_med_time_slot_int = df_other_med['otherMedTimeSlot_min'].apply(COMBINE_harmonizer.to_int)\n",
    "is_pre = other_med_time_slot_int == 0\n",
    "is_intervention = is_pre == False\n",
    "# after_baseline\n",
    "df_other_med = df_other_med[is_intervention]\n",
    "\n",
    "df_other_med = COMBINE_harmonizer.valid_columns(df_other_med, all_other_med_columns, debug_df=True, debug_columns=True)\n",
    "df_other_med = COMBINE_harmonizer.postprocess(df_other_med)\n",
    "\n",
    "out_filename = os.sep.join([out_dir, '02-08-other-med.csv'])\n",
    "df_other_med.to_csv(out_filename, index=False)"
   ]
  },
  {
   "cell_type": "markdown",
   "id": "fe878ba6-3767-45e3-952f-009cabbe0d25",
   "metadata": {},
   "source": [
    "### 02-08-1. check other-med"
   ]
  },
  {
   "cell_type": "code",
   "execution_count": 128,
   "id": "f46ef718-03ca-48ce-9f89-31719d0d5b83",
   "metadata": {
    "execution": {
     "iopub.execute_input": "2025-05-10T00:14:19.069900Z",
     "iopub.status.busy": "2025-05-10T00:14:19.069819Z",
     "iopub.status.idle": "2025-05-10T00:14:19.074803Z",
     "shell.execute_reply": "2025-05-10T00:14:19.074592Z"
    }
   },
   "outputs": [
    {
     "data": {
      "text/html": [
       "<div>\n",
       "<style scoped>\n",
       "    .dataframe tbody tr th:only-of-type {\n",
       "        vertical-align: middle;\n",
       "    }\n",
       "\n",
       "    .dataframe tbody tr th {\n",
       "        vertical-align: top;\n",
       "    }\n",
       "\n",
       "    .dataframe thead th {\n",
       "        text-align: right;\n",
       "    }\n",
       "</style>\n",
       "<table border=\"1\" class=\"dataframe\">\n",
       "  <thead>\n",
       "    <tr style=\"text-align: right;\">\n",
       "      <th></th>\n",
       "      <th></th>\n",
       "      <th>_count</th>\n",
       "    </tr>\n",
       "    <tr>\n",
       "      <th>uniqueID</th>\n",
       "      <th>otherMedTimeSlot_min</th>\n",
       "      <th></th>\n",
       "    </tr>\n",
       "  </thead>\n",
       "  <tbody>\n",
       "  </tbody>\n",
       "</table>\n",
       "</div>"
      ],
      "text/plain": [
       "Empty DataFrame\n",
       "Columns: [_count]\n",
       "Index: []"
      ]
     },
     "execution_count": 128,
     "metadata": {},
     "output_type": "execute_result"
    }
   ],
   "source": [
    "df_other_med_groupby = df_other_med.groupby(['uniqueID', 'otherMedTimeSlot_min']).agg(_count=('uniqueID', 'count'))\n",
    "\n",
    "\n",
    "is_invalid = df_other_med_groupby['_count'] > 1\n",
    "df_other_med_groupby[is_invalid]"
   ]
  },
  {
   "cell_type": "markdown",
   "id": "02491412-5c85-4732-b180-51588dd433e4",
   "metadata": {},
   "source": [
    "### 02-08-2. check empty cells"
   ]
  },
  {
   "cell_type": "code",
   "execution_count": 129,
   "id": "faae66e8-8577-4b13-b21a-fa89cf8d1816",
   "metadata": {
    "execution": {
     "iopub.execute_input": "2025-05-10T00:14:19.076159Z",
     "iopub.status.busy": "2025-05-10T00:14:19.076075Z",
     "iopub.status.idle": "2025-05-10T00:14:19.080002Z",
     "shell.execute_reply": "2025-05-10T00:14:19.079779Z"
    }
   },
   "outputs": [
    {
     "name": "stdout",
     "output_type": "stream",
     "text": [
      "(0/18) column: center (1979 / 0)\n",
      "(1/18) column: subjectID (1979 / 0)\n",
      "(2/18) column: uniqueID (1979 / 0)\n",
      "(3/18) column: otherMedTimeSlot_min (1979 / 0)\n",
      "(4/18) column: anticonvulsants1 (628 / 1351)\n",
      "(5/18) column: anticonvulsants2 (106 / 1873)\n",
      "(6/18) column: anticonvulsants3 (12 / 1967)\n",
      "(7/18) column: analgesicsSedatives1 (852 / 1127)\n",
      "(8/18) column: analgesicsSedatives2 (279 / 1700)\n",
      "(9/18) column: analgesicsSedatives3 (20 / 1959)\n",
      "(10/18) column: antipyretics1 (9 / 1970)\n",
      "(11/18) column: antipyretics2 (0 / 1979)\n",
      "(12/18) column: antipyretics3 (0 / 1979)\n",
      "(13/18) column: paralytics1 (64 / 1915)\n",
      "(14/18) column: paralytics2 (1 / 1978)\n",
      "(15/18) column: paralytics3 (0 / 1979)\n",
      "(16/18) column: otherMedFluidIntake_ccPerKg (1606 / 373)\n",
      "(17/18) column: otherMedUrineOutput_ccPerKg (1603 / 376)\n"
     ]
    }
   ],
   "source": [
    "COMBINE_harmonizer.check_empty(df_other_med)"
   ]
  },
  {
   "cell_type": "code",
   "execution_count": 130,
   "id": "443d52af-f7d5-42d8-88ce-1cae051202e8",
   "metadata": {
    "execution": {
     "iopub.execute_input": "2025-05-10T00:14:19.081163Z",
     "iopub.status.busy": "2025-05-10T00:14:19.081085Z",
     "iopub.status.idle": "2025-05-10T00:14:19.084011Z",
     "shell.execute_reply": "2025-05-10T00:14:19.083766Z"
    }
   },
   "outputs": [
    {
     "name": "stdout",
     "output_type": "stream",
     "text": [
      "(0/18) center: (1979/0)\n",
      "(1/18) subjectID: (1979/0)\n",
      "(2/18) uniqueID: (1979/0)\n",
      "(3/18) otherMedTimeSlot_min: (1979/0)\n",
      "(4/18) anticonvulsants1: (628/1351)\n",
      "(5/18) anticonvulsants2: (106/1873)\n",
      "(6/18) anticonvulsants3: (12/1967)\n",
      "(7/18) analgesicsSedatives1: (852/1127)\n",
      "(8/18) analgesicsSedatives2: (279/1700)\n",
      "(9/18) analgesicsSedatives3: (20/1959)\n",
      "(10/18) antipyretics1: (9/1970)\n",
      "(11/18) antipyretics2: (0/1979)\n",
      "(12/18) antipyretics3: (0/1979)\n",
      "(13/18) paralytics1: (64/1915)\n",
      "(14/18) paralytics2: (1/1978)\n",
      "(15/18) paralytics3: (0/1979)\n",
      "(16/18) otherMedFluidIntake_ccPerKg: (1606/373)\n",
      "(17/18) otherMedUrineOutput_ccPerKg: (1603/376)\n"
     ]
    }
   ],
   "source": [
    "COMBINE_harmonizer.column_info(df_other_med)"
   ]
  },
  {
   "cell_type": "markdown",
   "id": "47fc2a14-ac50-431a-8ea6-4284dcd05b61",
   "metadata": {},
   "source": [
    "## 02-09. imaging"
   ]
  },
  {
   "cell_type": "code",
   "execution_count": 131,
   "id": "83c87148-f938-4764-98e4-bd309eee2fda",
   "metadata": {
    "execution": {
     "iopub.execute_input": "2025-05-10T00:14:19.085220Z",
     "iopub.status.busy": "2025-05-10T00:14:19.085142Z",
     "iopub.status.idle": "2025-05-10T00:14:19.087983Z",
     "shell.execute_reply": "2025-05-10T00:14:19.087755Z"
    }
   },
   "outputs": [
    {
     "data": {
      "text/plain": [
       "['imagingNumber',\n",
       " 'headSonogram',\n",
       " 'headSonogramDate',\n",
       " 'headSonogramTime',\n",
       " 'headSonogramResult1',\n",
       " 'headSonogramResult2',\n",
       " 'headSonogramResult3',\n",
       " 'headSonogramResult4',\n",
       " 'headSonogramResult5',\n",
       " 'headSonogramResult6',\n",
       " 'headSonogramResult7',\n",
       " 'headSonogramResult8',\n",
       " 'headSonogramResultText',\n",
       " 'headCT',\n",
       " 'headCTDate',\n",
       " 'headCTTime',\n",
       " 'headCTResult1',\n",
       " 'headCTResult2',\n",
       " 'headCTResult3',\n",
       " 'headCTResult4',\n",
       " 'headCTResult5',\n",
       " 'headCTResult6',\n",
       " 'headCTResult7',\n",
       " 'headCTResult8',\n",
       " 'headCTResultText',\n",
       " 'brainMRI',\n",
       " 'brainMRIDate',\n",
       " 'brainMRITime',\n",
       " 'brainMRIResult1',\n",
       " 'brainMRIResult2',\n",
       " 'brainMRIResult3',\n",
       " 'brainMRIResult4',\n",
       " 'brainMRIResult5',\n",
       " 'brainMRIResult6',\n",
       " 'brainMRIResult7',\n",
       " 'brainMRIResult8',\n",
       " 'brainMRIResultText']"
      ]
     },
     "execution_count": 131,
     "metadata": {},
     "output_type": "execute_result"
    }
   ],
   "source": [
    "imaging_columns = COMBINE_harmonizer.get_columns(\n",
    "    df_data_dict,\n",
    "    COMBINE_harmonizer.CATEGORY_INTERVENTION,\n",
    "    COMBINE_harmonizer.SUBCATEGORY_IMAGING_REPORT)\n",
    "\n",
    "all_imaging_columns = id_columns + imaging_columns\n",
    "imaging_columns"
   ]
  },
  {
   "cell_type": "code",
   "execution_count": 132,
   "id": "aecdc0f5",
   "metadata": {
    "execution": {
     "iopub.execute_input": "2025-05-10T00:14:19.089201Z",
     "iopub.status.busy": "2025-05-10T00:14:19.089117Z",
     "iopub.status.idle": "2025-05-10T00:14:19.159017Z",
     "shell.execute_reply": "2025-05-10T00:14:19.158157Z"
    }
   },
   "outputs": [
    {
     "name": "stdout",
     "output_type": "stream",
     "text": [
      "(7/42) REC_CMP not in columns\n",
      "(40/42) CMP_DATE not in columns\n",
      "(41/42) CRT_DATE not in columns\n"
     ]
    }
   ],
   "source": [
    "df_imaging = df_dict['oc12.csv'].copy()\n",
    "\n",
    "imaging_time_slot_int = df_imaging['imagingNumber'].apply(COMBINE_harmonizer.to_int)\n",
    "is_pre = imaging_time_slot_int == 1\n",
    "is_post = imaging_time_slot_int == 3\n",
    "is_intervention = (is_pre == False) & (is_post == False)\n",
    "df_imaging = df_imaging[is_intervention]\n",
    "\n",
    "df_imaging = COMBINE_harmonizer.valid_columns(df_imaging, all_valid_columns, debug_df=True, debug_columns=False)\n",
    "df_imaging = COMBINE_harmonizer.postprocess(df_imaging)\n",
    "out_filename = os.sep.join([out_dir, '02-09-imaging.csv'])\n",
    "df_imaging.to_csv(out_filename, index=False)"
   ]
  },
  {
   "cell_type": "markdown",
   "id": "ec6f83e4-f01c-4c19-a93a-2f715230dbdb",
   "metadata": {},
   "source": [
    "### 02-09-1. check imaging"
   ]
  },
  {
   "cell_type": "code",
   "execution_count": 133,
   "id": "2da37526-c186-40e5-ac89-15c9fc165cf9",
   "metadata": {
    "execution": {
     "iopub.execute_input": "2025-05-10T00:14:19.162957Z",
     "iopub.status.busy": "2025-05-10T00:14:19.162645Z",
     "iopub.status.idle": "2025-05-10T00:14:19.175971Z",
     "shell.execute_reply": "2025-05-10T00:14:19.175758Z"
    }
   },
   "outputs": [
    {
     "data": {
      "text/html": [
       "<div>\n",
       "<style scoped>\n",
       "    .dataframe tbody tr th:only-of-type {\n",
       "        vertical-align: middle;\n",
       "    }\n",
       "\n",
       "    .dataframe tbody tr th {\n",
       "        vertical-align: top;\n",
       "    }\n",
       "\n",
       "    .dataframe thead th {\n",
       "        text-align: right;\n",
       "    }\n",
       "</style>\n",
       "<table border=\"1\" class=\"dataframe\">\n",
       "  <thead>\n",
       "    <tr style=\"text-align: right;\">\n",
       "      <th></th>\n",
       "      <th></th>\n",
       "      <th>_count</th>\n",
       "    </tr>\n",
       "    <tr>\n",
       "      <th>uniqueID</th>\n",
       "      <th>imagingNumber</th>\n",
       "      <th></th>\n",
       "    </tr>\n",
       "  </thead>\n",
       "  <tbody>\n",
       "  </tbody>\n",
       "</table>\n",
       "</div>"
      ],
      "text/plain": [
       "Empty DataFrame\n",
       "Columns: [_count]\n",
       "Index: []"
      ]
     },
     "execution_count": 133,
     "metadata": {},
     "output_type": "execute_result"
    }
   ],
   "source": [
    "df_imaging_groupby = df_imaging.groupby(['uniqueID', 'imagingNumber']).agg(_count=('uniqueID', 'count'))\n",
    "\n",
    "is_invalid = df_imaging_groupby['_count'] > 1\n",
    "df_imaging_groupby[is_invalid]"
   ]
  },
  {
   "cell_type": "markdown",
   "id": "fbbf3777-1e43-4785-a88e-893bcbecef32",
   "metadata": {},
   "source": [
    "### 02-09-2. check empty cells"
   ]
  },
  {
   "cell_type": "code",
   "execution_count": 134,
   "id": "63d20299-96b3-43a3-bdcd-f9b2f7dc9530",
   "metadata": {
    "execution": {
     "iopub.execute_input": "2025-05-10T00:14:19.177255Z",
     "iopub.status.busy": "2025-05-10T00:14:19.177177Z",
     "iopub.status.idle": "2025-05-10T00:14:19.181459Z",
     "shell.execute_reply": "2025-05-10T00:14:19.181228Z"
    }
   },
   "outputs": [
    {
     "name": "stdout",
     "output_type": "stream",
     "text": [
      "(0/40) column: center (357 / 0)\n",
      "(1/40) column: subjectID (357 / 0)\n",
      "(2/40) column: uniqueID (357 / 0)\n",
      "(3/40) column: headSonogram (357 / 0)\n",
      "(4/40) column: headSonogramResultText (23 / 334)\n",
      "(5/40) column: headCT (357 / 0)\n",
      "(6/40) column: headCTResultText (0 / 357)\n",
      "(7/40) column: brainMRI (357 / 0)\n",
      "(8/40) column: brainMRIResultText (0 / 357)\n",
      "(9/40) column: imagingNumber (357 / 0)\n",
      "(10/40) column: headSonogramDate (176 / 181)\n",
      "(11/40) column: headSonogramTime (174 / 183)\n",
      "(12/40) column: headSonogramResult1 (174 / 183)\n",
      "(13/40) column: headSonogramResult2 (25 / 332)\n",
      "(14/40) column: headSonogramResult3 (3 / 354)\n",
      "(15/40) column: headSonogramResult4 (0 / 357)\n",
      "(16/40) column: headSonogramResult5 (0 / 357)\n",
      "(17/40) column: headSonogramResult6 (0 / 357)\n",
      "(18/40) column: headSonogramResult7 (0 / 357)\n",
      "(19/40) column: headSonogramResult8 (0 / 357)\n",
      "(20/40) column: headCTDate (2 / 355)\n",
      "(21/40) column: headCTTime (2 / 355)\n",
      "(22/40) column: headCTResult1 (2 / 355)\n",
      "(23/40) column: headCTResult2 (0 / 357)\n",
      "(24/40) column: headCTResult3 (0 / 357)\n",
      "(25/40) column: headCTResult4 (0 / 357)\n",
      "(26/40) column: headCTResult5 (0 / 357)\n",
      "(27/40) column: headCTResult6 (0 / 357)\n",
      "(28/40) column: headCTResult7 (0 / 357)\n",
      "(29/40) column: headCTResult8 (0 / 357)\n",
      "(30/40) column: brainMRIDate (1 / 356)\n",
      "(31/40) column: brainMRITime (1 / 356)\n",
      "(32/40) column: brainMRIResult1 (1 / 356)\n",
      "(33/40) column: brainMRIResult2 (1 / 356)\n",
      "(34/40) column: brainMRIResult3 (1 / 356)\n",
      "(35/40) column: brainMRIResult4 (1 / 356)\n",
      "(36/40) column: brainMRIResult5 (0 / 357)\n",
      "(37/40) column: brainMRIResult6 (0 / 357)\n",
      "(38/40) column: brainMRIResult7 (0 / 357)\n",
      "(39/40) column: brainMRIResult8 (0 / 357)\n"
     ]
    }
   ],
   "source": [
    "COMBINE_harmonizer.check_empty(df_imaging)"
   ]
  },
  {
   "cell_type": "code",
   "execution_count": 135,
   "id": "a670d653-e539-446f-95b0-7b196fa58b6f",
   "metadata": {
    "execution": {
     "iopub.execute_input": "2025-05-10T00:14:19.182590Z",
     "iopub.status.busy": "2025-05-10T00:14:19.182519Z",
     "iopub.status.idle": "2025-05-10T00:14:19.186131Z",
     "shell.execute_reply": "2025-05-10T00:14:19.185899Z"
    }
   },
   "outputs": [
    {
     "name": "stdout",
     "output_type": "stream",
     "text": [
      "(0/40) center: (357/0)\n",
      "(1/40) subjectID: (357/0)\n",
      "(2/40) uniqueID: (357/0)\n",
      "(3/40) headSonogram: (357/0)\n",
      "(4/40) headSonogramResultText: (23/334)\n",
      "(5/40) headCT: (357/0)\n",
      "(6/40) headCTResultText: (0/357)\n",
      "(7/40) brainMRI: (357/0)\n",
      "(8/40) brainMRIResultText: (0/357)\n",
      "(9/40) imagingNumber: (357/0)\n",
      "(10/40) headSonogramDate: (176/181)\n",
      "(11/40) headSonogramTime: (174/183)\n",
      "(12/40) headSonogramResult1: (174/183)\n",
      "(13/40) headSonogramResult2: (25/332)\n",
      "(14/40) headSonogramResult3: (3/354)\n",
      "(15/40) headSonogramResult4: (0/357)\n",
      "(16/40) headSonogramResult5: (0/357)\n",
      "(17/40) headSonogramResult6: (0/357)\n",
      "(18/40) headSonogramResult7: (0/357)\n",
      "(19/40) headSonogramResult8: (0/357)\n",
      "(20/40) headCTDate: (2/355)\n",
      "(21/40) headCTTime: (2/355)\n",
      "(22/40) headCTResult1: (2/355)\n",
      "(23/40) headCTResult2: (0/357)\n",
      "(24/40) headCTResult3: (0/357)\n",
      "(25/40) headCTResult4: (0/357)\n",
      "(26/40) headCTResult5: (0/357)\n",
      "(27/40) headCTResult6: (0/357)\n",
      "(28/40) headCTResult7: (0/357)\n",
      "(29/40) headCTResult8: (0/357)\n",
      "(30/40) brainMRIDate: (1/356)\n",
      "(31/40) brainMRITime: (1/356)\n",
      "(32/40) brainMRIResult1: (1/356)\n",
      "(33/40) brainMRIResult2: (1/356)\n",
      "(34/40) brainMRIResult3: (1/356)\n",
      "(35/40) brainMRIResult4: (1/356)\n",
      "(36/40) brainMRIResult5: (0/357)\n",
      "(37/40) brainMRIResult6: (0/357)\n",
      "(38/40) brainMRIResult7: (0/357)\n",
      "(39/40) brainMRIResult8: (0/357)\n"
     ]
    }
   ],
   "source": [
    "COMBINE_harmonizer.column_info(df_imaging)"
   ]
  },
  {
   "cell_type": "markdown",
   "id": "4e5d6a1a",
   "metadata": {},
   "source": [
    "## 03-01. Post-intervention Temperature"
   ]
  },
  {
   "cell_type": "code",
   "execution_count": 136,
   "id": "89d321b2",
   "metadata": {
    "execution": {
     "iopub.execute_input": "2025-05-10T00:14:19.187353Z",
     "iopub.status.busy": "2025-05-10T00:14:19.187271Z",
     "iopub.status.idle": "2025-05-10T00:14:19.189951Z",
     "shell.execute_reply": "2025-05-10T00:14:19.189700Z"
    }
   },
   "outputs": [
    {
     "data": {
      "text/plain": [
       "['post_TemperatureTimeSlot_day',\n",
       " 'post_TemperatureDate',\n",
       " 'post_TemperatureTime',\n",
       " 'post_SkinTemperature_C',\n",
       " 'post_AxillaryTemperature_C',\n",
       " 'post_AlterationSkinIntegrity',\n",
       " 'post_Shiver',\n",
       " 'normothermiaAtEndIntervention',\n",
       " 'normothermiaDate',\n",
       " 'normothermiaTime',\n",
       " 'normothermiaAxillaryTemperature_C',\n",
       " 'noNormothermiaReason',\n",
       " 'coolAfterIntervention',\n",
       " 'coolAfterInterventionText']"
      ]
     },
     "execution_count": 136,
     "metadata": {},
     "output_type": "execute_result"
    }
   ],
   "source": [
    "temperature_post_treat_columns = COMBINE_harmonizer.get_columns(\n",
    "    df_data_dict,\n",
    "    COMBINE_harmonizer.CATEGORY_POST_INTERVENTION,\n",
    "    COMBINE_harmonizer.SUBCATEGORY_TEMPERATURE)\n",
    "\n",
    "all_temperature_post_treat_columns = id_columns + temperature_post_treat_columns\n",
    "temperature_post_treat_columns"
   ]
  },
  {
   "cell_type": "code",
   "execution_count": 137,
   "id": "f2b62dc8",
   "metadata": {
    "execution": {
     "iopub.execute_input": "2025-05-10T00:14:19.191173Z",
     "iopub.status.busy": "2025-05-10T00:14:19.191095Z",
     "iopub.status.idle": "2025-05-10T00:14:19.272750Z",
     "shell.execute_reply": "2025-05-10T00:14:19.272100Z"
    }
   },
   "outputs": [],
   "source": [
    "df_temperature_post = df_dict['oc06d.csv'].copy()\n",
    "df_temperature_post = COMBINE_harmonizer.valid_columns(df_temperature_post, all_temperature_post_treat_columns, debug_df=True, debug_columns=False)\n",
    "df_temperature_post = COMBINE_harmonizer.postprocess(df_temperature_post)\n",
    "\n",
    "out_filename = os.sep.join([out_dir, '03-01-post-temperature.csv'])\n",
    "df_temperature_post.to_csv(out_filename, index=False)"
   ]
  },
  {
   "cell_type": "markdown",
   "id": "e41e8acb",
   "metadata": {},
   "source": [
    "### 03-01-1. check post-treat temperature"
   ]
  },
  {
   "cell_type": "code",
   "execution_count": 138,
   "id": "92872026",
   "metadata": {
    "execution": {
     "iopub.execute_input": "2025-05-10T00:14:19.277885Z",
     "iopub.status.busy": "2025-05-10T00:14:19.277459Z",
     "iopub.status.idle": "2025-05-10T00:14:19.289614Z",
     "shell.execute_reply": "2025-05-10T00:14:19.289367Z"
    }
   },
   "outputs": [
    {
     "data": {
      "text/html": [
       "<div>\n",
       "<style scoped>\n",
       "    .dataframe tbody tr th:only-of-type {\n",
       "        vertical-align: middle;\n",
       "    }\n",
       "\n",
       "    .dataframe tbody tr th {\n",
       "        vertical-align: top;\n",
       "    }\n",
       "\n",
       "    .dataframe thead th {\n",
       "        text-align: right;\n",
       "    }\n",
       "</style>\n",
       "<table border=\"1\" class=\"dataframe\">\n",
       "  <thead>\n",
       "    <tr style=\"text-align: right;\">\n",
       "      <th></th>\n",
       "      <th></th>\n",
       "      <th>_count</th>\n",
       "    </tr>\n",
       "    <tr>\n",
       "      <th>uniqueID</th>\n",
       "      <th>post_TemperatureTimeSlot_day</th>\n",
       "      <th></th>\n",
       "    </tr>\n",
       "  </thead>\n",
       "  <tbody>\n",
       "  </tbody>\n",
       "</table>\n",
       "</div>"
      ],
      "text/plain": [
       "Empty DataFrame\n",
       "Columns: [_count]\n",
       "Index: []"
      ]
     },
     "execution_count": 138,
     "metadata": {},
     "output_type": "execute_result"
    }
   ],
   "source": [
    "df_temperature_post_groupby = df_temperature_post.groupby(['uniqueID', 'post_TemperatureTimeSlot_day']).agg(_count=('uniqueID', 'count'))\n",
    "\n",
    "is_invalid = df_temperature_post_groupby['_count'] > 1\n",
    "df_temperature_post_groupby[is_invalid]"
   ]
  },
  {
   "cell_type": "markdown",
   "id": "661e44d6",
   "metadata": {},
   "source": [
    "### 03-01-2. check empty cells"
   ]
  },
  {
   "cell_type": "code",
   "execution_count": 139,
   "id": "b8413141",
   "metadata": {
    "execution": {
     "iopub.execute_input": "2025-05-10T00:14:19.290984Z",
     "iopub.status.busy": "2025-05-10T00:14:19.290904Z",
     "iopub.status.idle": "2025-05-10T00:14:19.294146Z",
     "shell.execute_reply": "2025-05-10T00:14:19.293938Z"
    }
   },
   "outputs": [
    {
     "name": "stdout",
     "output_type": "stream",
     "text": [
      "(0/10) column: center (1883 / 0)\n",
      "(1/10) column: subjectID (1883 / 0)\n",
      "(2/10) column: uniqueID (1883 / 0)\n",
      "(3/10) column: post_AlterationSkinIntegrity (1847 / 36)\n",
      "(4/10) column: post_Shiver (1847 / 36)\n",
      "(5/10) column: post_TemperatureTimeSlot_day (1883 / 0)\n",
      "(6/10) column: post_TemperatureDate (1847 / 36)\n",
      "(7/10) column: post_TemperatureTime (1835 / 48)\n",
      "(8/10) column: post_SkinTemperature_C (850 / 1033)\n",
      "(9/10) column: post_AxillaryTemperature_C (1739 / 144)\n"
     ]
    }
   ],
   "source": [
    "COMBINE_harmonizer.check_empty(df_temperature_post)"
   ]
  },
  {
   "cell_type": "code",
   "execution_count": 140,
   "id": "5a27a716",
   "metadata": {
    "execution": {
     "iopub.execute_input": "2025-05-10T00:14:19.295289Z",
     "iopub.status.busy": "2025-05-10T00:14:19.295206Z",
     "iopub.status.idle": "2025-05-10T00:14:19.297541Z",
     "shell.execute_reply": "2025-05-10T00:14:19.297326Z"
    }
   },
   "outputs": [
    {
     "name": "stdout",
     "output_type": "stream",
     "text": [
      "(0/10) center: (1883/0)\n",
      "(1/10) subjectID: (1883/0)\n",
      "(2/10) uniqueID: (1883/0)\n",
      "(3/10) post_AlterationSkinIntegrity: (1847/36)\n",
      "(4/10) post_Shiver: (1847/36)\n",
      "(5/10) post_TemperatureTimeSlot_day: (1883/0)\n",
      "(6/10) post_TemperatureDate: (1847/36)\n",
      "(7/10) post_TemperatureTime: (1835/48)\n",
      "(8/10) post_SkinTemperature_C: (850/1033)\n",
      "(9/10) post_AxillaryTemperature_C: (1739/144)\n"
     ]
    }
   ],
   "source": [
    "COMBINE_harmonizer.column_info(df_temperature_post)"
   ]
  },
  {
   "cell_type": "markdown",
   "id": "deee968b",
   "metadata": {},
   "source": [
    "### 03-01-3. post-intervention temperature - summary"
   ]
  },
  {
   "cell_type": "code",
   "execution_count": 141,
   "id": "4585244c",
   "metadata": {
    "execution": {
     "iopub.execute_input": "2025-05-10T00:14:19.298780Z",
     "iopub.status.busy": "2025-05-10T00:14:19.298687Z",
     "iopub.status.idle": "2025-05-10T00:14:19.390251Z",
     "shell.execute_reply": "2025-05-10T00:14:19.389625Z"
    }
   },
   "outputs": [
    {
     "name": "stdout",
     "output_type": "stream",
     "text": [
      "(1/37) pre_CoolInitiate not in columns\n",
      "(2/37) pre_CoolbyIceGelPack not in columns\n",
      "(3/37) pre_CoolPassively not in columns\n",
      "(4/37) pre_CoolClinically not in columns\n",
      "(5/37) pre_AfterOvershootReach33p5C not in columns\n",
      "(8/37) discontinueBeforeEndPeriod not in columns\n",
      "(9/37) discontinueOtherText not in columns\n",
      "(11/37) OC6INIT not in columns\n",
      "(13/37) targetTreatmentTemperature_C not in columns\n",
      "(14/37) pre_CoolInitiateDate not in columns\n",
      "(15/37) pre_CoolInitiateTime not in columns\n",
      "(16/37) pre_AfterOvershootReach33p5CDate not in columns\n",
      "(17/37) pre_AfterOvershootReach33p5CTime not in columns\n",
      "(18/37) pre_TemperatureMinDate not in columns\n",
      "(19/37) pre_TemperatureMinTime not in columns\n",
      "(20/37) pre_SkinTemperatureMin_C not in columns\n",
      "(21/37) pre_AxillaryTemperatureMin_C not in columns\n",
      "(22/37) pre_EsophagealTemperatureMin_C not in columns\n",
      "(23/37) pre_ServoSetMin_C not in columns\n",
      "(24/37) pre_TemperatureMaxDate not in columns\n",
      "(25/37) pre_TemperatureMaxTime not in columns\n",
      "(26/37) pre_SkinTemperatureMax_C not in columns\n",
      "(27/37) pre_AxillaryTemperatureMax_C not in columns\n",
      "(28/37) pre_EsophagealTemperatureMax_C not in columns\n",
      "(29/37) pre_ServoSetMax_C not in columns\n",
      "(33/37) OC6NCEPR not in columns\n",
      "(34/37) discontinueDate not in columns\n",
      "(35/37) discontinueTime not in columns\n",
      "(2/16) post_TemperatureTimeSlot_day not in df\n",
      "(3/16) post_TemperatureDate not in df\n",
      "(4/16) post_TemperatureTime not in df\n",
      "(5/16) post_SkinTemperature_C not in df\n",
      "(6/16) post_AxillaryTemperature_C not in df\n",
      "(7/16) post_AlterationSkinIntegrity not in df\n",
      "(8/16) post_Shiver not in df\n"
     ]
    }
   ],
   "source": [
    "df_temperature_72_120 = pd.concat([df_dict['oc06t72.csv'], df_dict['oc06t120.csv']])\n",
    "df_temperature_post_treat_s = COMBINE_harmonizer.valid_columns(df_temperature_72_120, all_temperature_post_treat_columns, debug_df=True, debug_columns=True)\n",
    "df_temperature_post_treat_s = COMBINE_harmonizer.postprocess(df_temperature_post_treat_s)\n",
    "\n",
    "out_filename = os.sep.join([out_dir, '03-01_s-post-temperature.csv'])\n",
    "df_temperature_post_treat_s.to_csv(out_filename, index=False)\n"
   ]
  },
  {
   "cell_type": "markdown",
   "id": "35db028c",
   "metadata": {},
   "source": [
    "### 03-01-4. check post-normo temperature - summary"
   ]
  },
  {
   "cell_type": "code",
   "execution_count": 142,
   "id": "d1ac7b28",
   "metadata": {
    "execution": {
     "iopub.execute_input": "2025-05-10T00:14:19.394898Z",
     "iopub.status.busy": "2025-05-10T00:14:19.394503Z",
     "iopub.status.idle": "2025-05-10T00:14:19.405150Z",
     "shell.execute_reply": "2025-05-10T00:14:19.404874Z"
    }
   },
   "outputs": [
    {
     "name": "stdout",
     "output_type": "stream",
     "text": [
      "(0/10) column: center (364 / 0)\n",
      "(1/10) column: subjectID (364 / 0)\n",
      "(2/10) column: uniqueID (364 / 0)\n",
      "(3/10) column: normothermiaAtEndIntervention (364 / 0)\n",
      "(4/10) column: noNormothermiaReason (50 / 314)\n",
      "(5/10) column: coolAfterInterventionText (25 / 339)\n",
      "(6/10) column: normothermiaDate (313 / 51)\n",
      "(7/10) column: normothermiaTime (313 / 51)\n",
      "(8/10) column: normothermiaAxillaryTemperature_C (268 / 96)\n",
      "(9/10) column: coolAfterIntervention (55 / 309)\n"
     ]
    }
   ],
   "source": [
    "COMBINE_harmonizer.check_empty(df_temperature_post_treat_s)"
   ]
  },
  {
   "cell_type": "code",
   "execution_count": 143,
   "id": "99a84851",
   "metadata": {
    "execution": {
     "iopub.execute_input": "2025-05-10T00:14:19.406448Z",
     "iopub.status.busy": "2025-05-10T00:14:19.406368Z",
     "iopub.status.idle": "2025-05-10T00:14:19.408633Z",
     "shell.execute_reply": "2025-05-10T00:14:19.408416Z"
    }
   },
   "outputs": [
    {
     "name": "stdout",
     "output_type": "stream",
     "text": [
      "(0/10) center: (364/0)\n",
      "(1/10) subjectID: (364/0)\n",
      "(2/10) uniqueID: (364/0)\n",
      "(3/10) normothermiaAtEndIntervention: (364/0)\n",
      "(4/10) noNormothermiaReason: (50/314)\n",
      "(5/10) coolAfterInterventionText: (25/339)\n",
      "(6/10) normothermiaDate: (313/51)\n",
      "(7/10) normothermiaTime: (313/51)\n",
      "(8/10) normothermiaAxillaryTemperature_C: (268/96)\n",
      "(9/10) coolAfterIntervention: (55/309)\n"
     ]
    }
   ],
   "source": [
    "COMBINE_harmonizer.column_info(df_temperature_post_treat_s)"
   ]
  },
  {
   "cell_type": "markdown",
   "id": "fd914fd6",
   "metadata": {},
   "source": [
    "## 03-02. Post-intervention Blood Value"
   ]
  },
  {
   "cell_type": "code",
   "execution_count": 144,
   "id": "7a40294e",
   "metadata": {
    "execution": {
     "iopub.execute_input": "2025-05-10T00:14:19.409882Z",
     "iopub.status.busy": "2025-05-10T00:14:19.409798Z",
     "iopub.status.idle": "2025-05-10T00:14:19.412344Z",
     "shell.execute_reply": "2025-05-10T00:14:19.412135Z"
    }
   },
   "outputs": [
    {
     "data": {
      "text/plain": [
       "['post_BloodValueASTSGOT_UPerL',\n",
       " 'post_BloodValueASTSGOT_UPerLDate',\n",
       " 'post_BloodValueALTSGPT_UPerL',\n",
       " 'post_BloodValueALTSGPT_UPerLDate',\n",
       " 'post_BloodValueTotalBilirubin_mgPerdL',\n",
       " 'post_BloodValueTotalBilirubin_mgPerdLDate']"
      ]
     },
     "execution_count": 144,
     "metadata": {},
     "output_type": "execute_result"
    }
   ],
   "source": [
    "blood_value_post_columns = COMBINE_harmonizer.get_columns(\n",
    "    df_data_dict,\n",
    "    COMBINE_harmonizer.CATEGORY_POST_INTERVENTION,\n",
    "    COMBINE_harmonizer.SUBCATEGORY_BLOOD_VALUE_OTHER)\n",
    "\n",
    "all_blood_value_post_columns = id_columns + blood_value_post_columns\n",
    "blood_value_post_columns"
   ]
  },
  {
   "cell_type": "code",
   "execution_count": 145,
   "id": "c5f25049",
   "metadata": {
    "execution": {
     "iopub.execute_input": "2025-05-10T00:14:19.413539Z",
     "iopub.status.busy": "2025-05-10T00:14:19.413463Z",
     "iopub.status.idle": "2025-05-10T00:14:19.477757Z",
     "shell.execute_reply": "2025-05-10T00:14:19.476254Z"
    }
   },
   "outputs": [],
   "source": [
    "df_blood_value_post = COMBINE_harmonizer.valid_columns(df_main, all_blood_value_post_columns, debug_df=False, debug_columns=True)\n",
    "df_blood_value_post = COMBINE_harmonizer.postprocess(df_blood_value_post)\n",
    "\n",
    "out_filename = os.sep.join([out_dir, '03-02-post-blood-value.csv'])\n",
    "df_blood_value_post.to_csv(out_filename, index=False)"
   ]
  },
  {
   "cell_type": "markdown",
   "id": "5582c22c",
   "metadata": {},
   "source": [
    "### 03-02-1. check post-normo blood value "
   ]
  },
  {
   "cell_type": "code",
   "execution_count": 146,
   "id": "c3b41584",
   "metadata": {
    "execution": {
     "iopub.execute_input": "2025-05-10T00:14:19.488438Z",
     "iopub.status.busy": "2025-05-10T00:14:19.488110Z",
     "iopub.status.idle": "2025-05-10T00:14:19.498551Z",
     "shell.execute_reply": "2025-05-10T00:14:19.497917Z"
    }
   },
   "outputs": [
    {
     "name": "stdout",
     "output_type": "stream",
     "text": [
      "(0/9) column: center (364 / 0)\n",
      "(1/9) column: subjectID (364 / 0)\n",
      "(2/9) column: uniqueID (364 / 0)\n",
      "(3/9) column: post_BloodValueASTSGOT_UPerL (272 / 92)\n",
      "(4/9) column: post_BloodValueASTSGOT_UPerLDate (275 / 89)\n",
      "(5/9) column: post_BloodValueALTSGPT_UPerL (278 / 86)\n",
      "(6/9) column: post_BloodValueALTSGPT_UPerLDate (281 / 83)\n",
      "(7/9) column: post_BloodValueTotalBilirubin_mgPerdL (281 / 83)\n",
      "(8/9) column: post_BloodValueTotalBilirubin_mgPerdLDate (283 / 81)\n"
     ]
    }
   ],
   "source": [
    "COMBINE_harmonizer.check_empty(df_blood_value_post)"
   ]
  },
  {
   "cell_type": "code",
   "execution_count": 147,
   "id": "e82ebcf5",
   "metadata": {
    "execution": {
     "iopub.execute_input": "2025-05-10T00:14:19.506692Z",
     "iopub.status.busy": "2025-05-10T00:14:19.506385Z",
     "iopub.status.idle": "2025-05-10T00:14:19.511075Z",
     "shell.execute_reply": "2025-05-10T00:14:19.510784Z"
    }
   },
   "outputs": [
    {
     "name": "stdout",
     "output_type": "stream",
     "text": [
      "(0/9) center: (364/0)\n",
      "(1/9) subjectID: (364/0)\n",
      "(2/9) uniqueID: (364/0)\n",
      "(3/9) post_BloodValueASTSGOT_UPerL: (272/92)\n",
      "(4/9) post_BloodValueASTSGOT_UPerLDate: (275/89)\n",
      "(5/9) post_BloodValueALTSGPT_UPerL: (278/86)\n",
      "(6/9) post_BloodValueALTSGPT_UPerLDate: (281/83)\n",
      "(7/9) post_BloodValueTotalBilirubin_mgPerdL: (281/83)\n",
      "(8/9) post_BloodValueTotalBilirubin_mgPerdLDate: (283/81)\n"
     ]
    }
   ],
   "source": [
    "COMBINE_harmonizer.column_info(df_blood_value_post)"
   ]
  },
  {
   "cell_type": "markdown",
   "id": "35b2ab04",
   "metadata": {},
   "source": [
    "## 03-03. Post-intervention Imaging"
   ]
  },
  {
   "cell_type": "code",
   "execution_count": 148,
   "id": "207df071",
   "metadata": {
    "execution": {
     "iopub.execute_input": "2025-05-10T00:14:19.512383Z",
     "iopub.status.busy": "2025-05-10T00:14:19.512294Z",
     "iopub.status.idle": "2025-05-10T00:14:19.515099Z",
     "shell.execute_reply": "2025-05-10T00:14:19.514889Z"
    }
   },
   "outputs": [
    {
     "data": {
      "text/plain": [
       "['post_HeadSonogram',\n",
       " 'post_HeadSonogramDate',\n",
       " 'post_HeadSonogramTime',\n",
       " 'post_HeadSonogramResult1',\n",
       " 'post_HeadSonogramResult2',\n",
       " 'post_HeadSonogramResult3',\n",
       " 'post_HeadSonogramResult4',\n",
       " 'post_HeadSonogramResult5',\n",
       " 'post_HeadSonogramResult6',\n",
       " 'post_HeadSonogramResult7',\n",
       " 'post_HeadSonogramResult8',\n",
       " 'post_HeadSonogramResultText',\n",
       " 'post_HeadCT',\n",
       " 'post_HeadCTDate',\n",
       " 'post_HeadCTTime',\n",
       " 'post_HeadCTResult1',\n",
       " 'post_HeadCTResult2',\n",
       " 'post_HeadCTResult3',\n",
       " 'post_HeadCTResult4',\n",
       " 'post_HeadCTResult5',\n",
       " 'post_HeadCTResult6',\n",
       " 'post_HeadCTResult7',\n",
       " 'post_HeadCTResult8',\n",
       " 'post_HeadCTResultText',\n",
       " 'post_BrainMRI',\n",
       " 'post_BrainMRIDate',\n",
       " 'post_BrainMRITime',\n",
       " 'post_BrainMRIResult1',\n",
       " 'post_BrainMRIResult2',\n",
       " 'post_BrainMRIResult3',\n",
       " 'post_BrainMRIResult4',\n",
       " 'post_BrainMRIResult5',\n",
       " 'post_BrainMRIResult6',\n",
       " 'post_BrainMRIResult7',\n",
       " 'post_BrainMRIResult8',\n",
       " 'post_BrainMRIResultText']"
      ]
     },
     "execution_count": 148,
     "metadata": {},
     "output_type": "execute_result"
    }
   ],
   "source": [
    "imaging_post_columns = COMBINE_harmonizer.get_columns(\n",
    "    df_data_dict,\n",
    "    COMBINE_harmonizer.CATEGORY_POST_INTERVENTION,\n",
    "    COMBINE_harmonizer.SUBCATEGORY_IMAGING_REPORT)\n",
    "\n",
    "all_imaging_post_columns = id_columns + imaging_post_columns\n",
    "imaging_post_columns"
   ]
  },
  {
   "cell_type": "code",
   "execution_count": 149,
   "id": "04cda9cb",
   "metadata": {
    "execution": {
     "iopub.execute_input": "2025-05-10T00:14:19.516355Z",
     "iopub.status.busy": "2025-05-10T00:14:19.516265Z",
     "iopub.status.idle": "2025-05-10T00:14:19.591885Z",
     "shell.execute_reply": "2025-05-10T00:14:19.591216Z"
    }
   },
   "outputs": [
    {
     "name": "stdout",
     "output_type": "stream",
     "text": [
      "(7/42) REC_CMP not in columns\n",
      "(9/42) imagingNumber not in columns\n",
      "(40/42) CMP_DATE not in columns\n",
      "(41/42) CRT_DATE not in columns\n"
     ]
    }
   ],
   "source": [
    "df_imaging = df_dict['oc12.csv'].copy()\n",
    "\n",
    "imaging_time_slot_int = df_imaging['imagingNumber'].apply(COMBINE_harmonizer.to_int)\n",
    "is_post = imaging_time_slot_int == 3\n",
    "df_imaging_post = df_imaging[is_post]\n",
    "post_treat_rename_map = {\n",
    "    'headSonogram': 'post_HeadSonogram',\n",
    "    'headSonogramDate': 'post_HeadSonogramDate',\n",
    "    'headSonogramTime': 'post_HeadSonogramTime',\n",
    "    'headSonogramResult1': 'post_HeadSonogramResult1',\n",
    "    'headSonogramResult2': 'post_HeadSonogramResult2',\n",
    "    'headSonogramResult3': 'post_HeadSonogramResult3',\n",
    "    'headSonogramResult4': 'post_HeadSonogramResult4',\n",
    "    'headSonogramResult5': 'post_HeadSonogramResult5',\n",
    "    'headSonogramResult6': 'post_HeadSonogramResult6',\n",
    "    'headSonogramResult7': 'post_HeadSonogramResult7',\n",
    "    'headSonogramResult8': 'post_HeadSonogramResult8',\n",
    "    'headSonogramResultText': 'post_HeadSonogramResultText',\n",
    "    'headCT': 'post_HeadCT',\n",
    "    'headCTDate': 'post_HeadCTDate',\n",
    "    'headCTTime': 'post_HeadCTTime',\n",
    "    'headCTResult1': 'post_HeadCTResult1',\n",
    "    'headCTResult2': 'post_HeadCTResult2',\n",
    "    'headCTResult3': 'post_HeadCTResult3',\n",
    "    'headCTResult4': 'post_HeadCTResult4',\n",
    "    'headCTResult5': 'post_HeadCTResult5',\n",
    "    'headCTResult6': 'post_HeadCTResult6',\n",
    "    'headCTResult7': 'post_HeadCTResult7',\n",
    "    'headCTResult8': 'post_HeadCTResult8',\n",
    "    'headCTResultText': 'post_HeadCTResultText',\n",
    "    'brainMRI': 'post_BrainMRI',\n",
    "    'brainMRIDate': 'post_BrainMRIDate',\n",
    "    'brainMRITime': 'post_BrainMRITime',\n",
    "    'brainMRIResult1': 'post_BrainMRIResult1',\n",
    "    'brainMRIResult2': 'post_BrainMRIResult2',\n",
    "    'brainMRIResult3': 'post_BrainMRIResult3',\n",
    "    'brainMRIResult4': 'post_BrainMRIResult4',\n",
    "    'brainMRIResult5': 'post_BrainMRIResult5',\n",
    "    'brainMRIResult6': 'post_BrainMRIResult6',\n",
    "    'brainMRIResult7': 'post_BrainMRIResult7',\n",
    "    'brainMRIResult8': 'post_BrainMRIResult8',\n",
    "    'brainMRIResultText': 'post_BrainMRIResultText'\n",
    "}\n",
    "df_imaging_post = df_imaging_post.rename(columns=post_treat_rename_map)\n",
    "\n",
    "df_imaging_post = COMBINE_harmonizer.valid_columns(df_imaging_post, all_imaging_post_columns, debug_df=True, debug_columns=True)\n",
    "df_imaging_post = COMBINE_harmonizer.postprocess(df_imaging_post)\n",
    "out_filename = os.sep.join([out_dir, '03-03-post-imaging.csv'])\n",
    "df_imaging_post.to_csv(out_filename, index=False)"
   ]
  },
  {
   "cell_type": "markdown",
   "id": "2a9f4bb7",
   "metadata": {},
   "source": [
    "### 03-03-2. check empty cells"
   ]
  },
  {
   "cell_type": "code",
   "execution_count": 150,
   "id": "cd90b25f",
   "metadata": {
    "execution": {
     "iopub.execute_input": "2025-05-10T00:14:19.598194Z",
     "iopub.status.busy": "2025-05-10T00:14:19.597791Z",
     "iopub.status.idle": "2025-05-10T00:14:19.613887Z",
     "shell.execute_reply": "2025-05-10T00:14:19.613638Z"
    }
   },
   "outputs": [
    {
     "name": "stdout",
     "output_type": "stream",
     "text": [
      "(0/39) column: center (361 / 0)\n",
      "(1/39) column: subjectID (361 / 0)\n",
      "(2/39) column: uniqueID (361 / 0)\n",
      "(3/39) column: post_HeadSonogram (361 / 0)\n",
      "(4/39) column: post_HeadSonogramResultText (14 / 347)\n",
      "(5/39) column: post_HeadCT (361 / 0)\n",
      "(6/39) column: post_HeadCTResultText (1 / 360)\n",
      "(7/39) column: post_BrainMRI (361 / 0)\n",
      "(8/39) column: post_BrainMRIResultText (83 / 278)\n",
      "(9/39) column: post_HeadSonogramDate (148 / 213)\n",
      "(10/39) column: post_HeadSonogramTime (146 / 215)\n",
      "(11/39) column: post_HeadSonogramResult1 (147 / 214)\n",
      "(12/39) column: post_HeadSonogramResult2 (21 / 340)\n",
      "(13/39) column: post_HeadSonogramResult3 (8 / 353)\n",
      "(14/39) column: post_HeadSonogramResult4 (2 / 359)\n",
      "(15/39) column: post_HeadSonogramResult5 (0 / 361)\n",
      "(16/39) column: post_HeadSonogramResult6 (0 / 361)\n",
      "(17/39) column: post_HeadSonogramResult7 (0 / 361)\n",
      "(18/39) column: post_HeadSonogramResult8 (0 / 361)\n",
      "(19/39) column: post_HeadCTDate (2 / 359)\n",
      "(20/39) column: post_HeadCTTime (2 / 359)\n",
      "(21/39) column: post_HeadCTResult1 (2 / 359)\n",
      "(22/39) column: post_HeadCTResult2 (2 / 359)\n",
      "(23/39) column: post_HeadCTResult3 (1 / 360)\n",
      "(24/39) column: post_HeadCTResult4 (0 / 361)\n",
      "(25/39) column: post_HeadCTResult5 (0 / 361)\n",
      "(26/39) column: post_HeadCTResult6 (0 / 361)\n",
      "(27/39) column: post_HeadCTResult7 (0 / 361)\n",
      "(28/39) column: post_HeadCTResult8 (0 / 361)\n",
      "(29/39) column: post_BrainMRIDate (321 / 40)\n",
      "(30/39) column: post_BrainMRITime (320 / 41)\n",
      "(31/39) column: post_BrainMRIResult1 (321 / 40)\n",
      "(32/39) column: post_BrainMRIResult2 (134 / 227)\n",
      "(33/39) column: post_BrainMRIResult3 (78 / 283)\n",
      "(34/39) column: post_BrainMRIResult4 (45 / 316)\n",
      "(35/39) column: post_BrainMRIResult5 (15 / 346)\n",
      "(36/39) column: post_BrainMRIResult6 (4 / 357)\n",
      "(37/39) column: post_BrainMRIResult7 (2 / 359)\n",
      "(38/39) column: post_BrainMRIResult8 (1 / 360)\n"
     ]
    }
   ],
   "source": [
    "COMBINE_harmonizer.check_empty(df_imaging_post)"
   ]
  },
  {
   "cell_type": "code",
   "execution_count": 151,
   "id": "4c25bf8b",
   "metadata": {
    "execution": {
     "iopub.execute_input": "2025-05-10T00:14:19.615066Z",
     "iopub.status.busy": "2025-05-10T00:14:19.614987Z",
     "iopub.status.idle": "2025-05-10T00:14:19.618497Z",
     "shell.execute_reply": "2025-05-10T00:14:19.618269Z"
    }
   },
   "outputs": [
    {
     "name": "stdout",
     "output_type": "stream",
     "text": [
      "(0/39) center: (361/0)\n",
      "(1/39) subjectID: (361/0)\n",
      "(2/39) uniqueID: (361/0)\n",
      "(3/39) post_HeadSonogram: (361/0)\n",
      "(4/39) post_HeadSonogramResultText: (14/347)\n",
      "(5/39) post_HeadCT: (361/0)\n",
      "(6/39) post_HeadCTResultText: (1/360)\n",
      "(7/39) post_BrainMRI: (361/0)\n",
      "(8/39) post_BrainMRIResultText: (83/278)\n",
      "(9/39) post_HeadSonogramDate: (148/213)\n",
      "(10/39) post_HeadSonogramTime: (146/215)\n",
      "(11/39) post_HeadSonogramResult1: (147/214)\n",
      "(12/39) post_HeadSonogramResult2: (21/340)\n",
      "(13/39) post_HeadSonogramResult3: (8/353)\n",
      "(14/39) post_HeadSonogramResult4: (2/359)\n",
      "(15/39) post_HeadSonogramResult5: (0/361)\n",
      "(16/39) post_HeadSonogramResult6: (0/361)\n",
      "(17/39) post_HeadSonogramResult7: (0/361)\n",
      "(18/39) post_HeadSonogramResult8: (0/361)\n",
      "(19/39) post_HeadCTDate: (2/359)\n",
      "(20/39) post_HeadCTTime: (2/359)\n",
      "(21/39) post_HeadCTResult1: (2/359)\n",
      "(22/39) post_HeadCTResult2: (2/359)\n",
      "(23/39) post_HeadCTResult3: (1/360)\n",
      "(24/39) post_HeadCTResult4: (0/361)\n",
      "(25/39) post_HeadCTResult5: (0/361)\n",
      "(26/39) post_HeadCTResult6: (0/361)\n",
      "(27/39) post_HeadCTResult7: (0/361)\n",
      "(28/39) post_HeadCTResult8: (0/361)\n",
      "(29/39) post_BrainMRIDate: (321/40)\n",
      "(30/39) post_BrainMRITime: (320/41)\n",
      "(31/39) post_BrainMRIResult1: (321/40)\n",
      "(32/39) post_BrainMRIResult2: (134/227)\n",
      "(33/39) post_BrainMRIResult3: (78/283)\n",
      "(34/39) post_BrainMRIResult4: (45/316)\n",
      "(35/39) post_BrainMRIResult5: (15/346)\n",
      "(36/39) post_BrainMRIResult6: (4/357)\n",
      "(37/39) post_BrainMRIResult7: (2/359)\n",
      "(38/39) post_BrainMRIResult8: (1/360)\n"
     ]
    }
   ],
   "source": [
    "COMBINE_harmonizer.column_info(df_imaging_post)"
   ]
  },
  {
   "cell_type": "markdown",
   "id": "fa75b1ec",
   "metadata": {},
   "source": [
    "## 03-04. Post-intervention Neuro Exam"
   ]
  },
  {
   "cell_type": "code",
   "execution_count": 152,
   "id": "007aab15",
   "metadata": {
    "execution": {
     "iopub.execute_input": "2025-05-10T00:14:19.619720Z",
     "iopub.status.busy": "2025-05-10T00:14:19.619645Z",
     "iopub.status.idle": "2025-05-10T00:14:19.622287Z",
     "shell.execute_reply": "2025-05-10T00:14:19.622077Z"
    }
   },
   "outputs": [
    {
     "data": {
      "text/plain": [
       "['post_NeuroExamSectionID',\n",
       " 'post_NeuroExam',\n",
       " 'post_NeuroExamDate',\n",
       " 'post_NeuroExamTime',\n",
       " 'post_NeuroExamLevelConsciousness',\n",
       " 'post_NeuroExamSpontaneousActivity',\n",
       " 'post_NeuroExamPosture',\n",
       " 'post_NeuroExamTone',\n",
       " 'post_NeuroExamSuck',\n",
       " 'post_NeuroExamMoro',\n",
       " 'post_NeuroExamPupils',\n",
       " 'post_NeuroExamHeartRate',\n",
       " 'post_NeuroExamRespiration',\n",
       " 'post_NeuroExamSeizure',\n",
       " 'post_NeuroExamSedate',\n",
       " 'post_NeuroExamClonusSustained',\n",
       " 'post_NeuroExamFistedHand',\n",
       " 'post_NeuroExamAbnormalMovement',\n",
       " 'post_NeuroExamGagReflexAbsent',\n",
       " 'post_NeuroExamHypertonia',\n",
       " 'post_NeuroExamAsymTonicNeckReflex',\n",
       " 'post_NeuroExamLevelConsciousnessScore',\n",
       " 'post_NeuroExamSpontaneousActivityScore',\n",
       " 'post_NeuroExamPostureScore',\n",
       " 'post_NeuroExamToneScore',\n",
       " 'post_NeuroExamSuckScore',\n",
       " 'post_NeuroExamMoroScore',\n",
       " 'post_NeuroExamPupilsScore',\n",
       " 'post_NeuroExamHeartRateScore',\n",
       " 'post_NeuroExamRespirationScore',\n",
       " 'post_NeuroExamReflexScore',\n",
       " 'post_NeuroExamANSScore',\n",
       " 'post_TotalModifiedSarnatScore']"
      ]
     },
     "execution_count": 152,
     "metadata": {},
     "output_type": "execute_result"
    }
   ],
   "source": [
    "neuro_exam_columns = COMBINE_harmonizer.get_columns(\n",
    "    df_data_dict,\n",
    "    COMBINE_harmonizer.CATEGORY_POST_INTERVENTION,\n",
    "    COMBINE_harmonizer.SUBCATEGORY_NEURO_EXAM)\n",
    "\n",
    "all_neuro_exam_columns = id_columns + neuro_exam_columns\n",
    "neuro_exam_columns"
   ]
  },
  {
   "cell_type": "code",
   "execution_count": 153,
   "id": "80fb17fa",
   "metadata": {
    "execution": {
     "iopub.execute_input": "2025-05-10T00:14:19.623368Z",
     "iopub.status.busy": "2025-05-10T00:14:19.623299Z",
     "iopub.status.idle": "2025-05-10T00:14:19.688910Z",
     "shell.execute_reply": "2025-05-10T00:14:19.688061Z"
    }
   },
   "outputs": [
    {
     "name": "stdout",
     "output_type": "stream",
     "text": [
      "(1/517) siteID not in columns\n",
      "(2/517) LAST not in columns\n",
      "(3/517) FIRST not in columns\n",
      "(4/517) screenComment not in columns\n",
      "(5/517) REC_CMP not in columns\n",
      "(7/517) birthDate not in columns\n",
      "(8/517) birthNumber not in columns\n",
      "(9/517) CMP_DATE not in columns\n",
      "(10/517) CRT_DATE not in columns\n",
      "(11/517) coreTempLess33p5CGreater1Hr_e not in columns\n",
      "(12/517) first6HrCoolByClinicalProtocol_e not in columns\n",
      "(13/517) chromosomalAbnormality_e not in columns\n",
      "(14/517) majorCongenitalAnomaly_e not in columns\n",
      "(15/517) birthWeightLessEq1800g_e not in columns\n",
      "(16/517) infantUnlikelySurvive_e not in columns\n",
      "(17/517) first60MinAllBloodGasPHGreater7p15BaseDeficitLess10mEqPerL_e not in columns\n",
      "(18/517) first60MinAnyBloodGasPHLessEq7_i not in columns\n",
      "(19/517) first60MinAnyBloodGasBaseDeficitGreaterEq16mEqPerL_i not in columns\n",
      "(20/517) historyPerinatalEvent_i not in columns\n",
      "(21/517) at10MinApgarLessEq5OrVent_i not in columns\n",
      "(22/517) pre_NeuroExamSeizure not in columns\n",
      "(23/517) pre_NeuroExam not in columns\n",
      "(24/517) pre_NeuroExamTone not in columns\n",
      "(25/517) pre_NeuroExamRespiration not in columns\n",
      "(26/517) pre_NeuroExamSignModerateSevereHIE3Category not in columns\n",
      "(27/517) pre_NeuroExamSedate not in columns\n",
      "(28/517) OC2NAME not in columns\n",
      "(29/517) randomEligible not in columns\n",
      "(30/517) noConsentReason not in columns\n",
      "(31/517) random not in columns\n",
      "(32/517) noRandomReasonText not in columns\n",
      "(33/517) randomTreatmentReceive not in columns\n",
      "(34/517) OC2INIT not in columns\n",
      "(35/517) REC_CMP:oc02 not in columns\n",
      "(36/517) pre_NoNeuroExamReason not in columns\n",
      "(37/517) pre_NeuroExamLevelConsciousness not in columns\n",
      "(38/517) pre_NeuroExamSpontaneousActivity not in columns\n",
      "(39/517) pre_NeuroExamPosture not in columns\n",
      "(40/517) pre_NeuroExamSuck not in columns\n",
      "(41/517) pre_NeuroExamMoro not in columns\n",
      "(42/517) pre_NeuroExamPupils not in columns\n",
      "(43/517) pre_NeuroExamHeartRate not in columns\n",
      "(44/517) pre_NeuroExamDate not in columns\n",
      "(45/517) pre_NeuroExamTime not in columns\n",
      "(46/517) consentStatus not in columns\n",
      "(47/517) noRandomReason not in columns\n",
      "(48/517) randomDate not in columns\n",
      "(49/517) randomTime not in columns\n",
      "(50/517) encephalopathyLevel not in columns\n",
      "(51/517) randomNumber not in columns\n",
      "(52/517) randomTreatmentAssign not in columns\n",
      "(53/517) treatmentBlanketType not in columns\n",
      "(54/517) CMP_DATE:oc02 not in columns\n",
      "(55/517) CRT_DATE:oc02 not in columns\n",
      "(56/517) coreTempLess32p5CGreaterEq2Hr_e not in columns\n",
      "(57/517) multipleBirth not in columns\n",
      "(58/517) prenatalCare not in columns\n",
      "(59/517) hypertensionEclampsia not in columns\n",
      "(60/517) antepartumHemorrhage not in columns\n",
      "(61/517) thyroidMalfunction not in columns\n",
      "(62/517) diabetes not in columns\n",
      "(63/517) fetalDecelerate not in columns\n",
      "(64/517) cordMishap not in columns\n",
      "(65/517) uterineRupture not in columns\n",
      "(66/517) shoulderDystocia not in columns\n",
      "(67/517) placentalProblem not in columns\n",
      "(68/517) maternalHemorrhage not in columns\n",
      "(69/517) maternalTrauma not in columns\n",
      "(70/517) maternalCardioRespiratoryArrest not in columns\n",
      "(71/517) maternalSeizure not in columns\n",
      "(72/517) pyrexiaGreater37p6C not in columns\n",
      "(73/517) chorioamnionitis not in columns\n",
      "(74/517) placentalPathologyPerformed not in columns\n",
      "(75/517) histologicChorioamionitis not in columns\n",
      "(76/517) laborAntibiotics not in columns\n",
      "(77/517) ruptureBeforeDelivery not in columns\n",
      "(78/517) ruptureGreater18Hr not in columns\n",
      "(79/517) OC4INIT not in columns\n",
      "(80/517) REC_CMP:oc04 not in columns\n",
      "(81/517) motherAge_year not in columns\n",
      "(82/517) motherRace not in columns\n",
      "(83/517) motherRaceOther1 not in columns\n",
      "(84/517) motherRaceOther2 not in columns\n",
      "(85/517) motherRaceOther3 not in columns\n",
      "(86/517) motherRaceOther4 not in columns\n",
      "(87/517) motherRaceOther5 not in columns\n",
      "(88/517) motherRaceOther6 not in columns\n",
      "(89/517) motherEthnicity not in columns\n",
      "(90/517) motherMaritalStatus not in columns\n",
      "(91/517) motherEducation not in columns\n",
      "(92/517) gravida not in columns\n",
      "(93/517) parity not in columns\n",
      "(94/517) numFetus not in columns\n",
      "(95/517) motherInsurance not in columns\n",
      "(96/517) maternalAdmissionDate not in columns\n",
      "(97/517) maternalAdmissionTime not in columns\n",
      "(98/517) laborAntibioticsCode1 not in columns\n",
      "(99/517) laborAntibioticsCode2 not in columns\n",
      "(100/517) laborAntibioticsCode3 not in columns\n",
      "(101/517) laborAntibioticsCode4 not in columns\n",
      "(102/517) laborAntibioticsCode5 not in columns\n",
      "(103/517) laborAntibioticsCode6 not in columns\n",
      "(104/517) ruptureDate not in columns\n",
      "(105/517) ruptureTime not in columns\n",
      "(106/517) deliveryMode not in columns\n",
      "(107/517) CMP_DATE:oc04 not in columns\n",
      "(108/517) CRT_DATE:oc04 not in columns\n",
      "(109/517) infantOutborn not in columns\n",
      "(110/517) outbornInHospital not in columns\n",
      "(111/517) outbornOutHospital not in columns\n",
      "(112/517) deliveryOxygen not in columns\n",
      "(113/517) deliveryBaggingAndMask not in columns\n",
      "(114/517) deliveryChestCompression not in columns\n",
      "(115/517) deliveryIntubation not in columns\n",
      "(116/517) deliveryDrug not in columns\n",
      "(117/517) at10MinContinueResuscitation not in columns\n",
      "(118/517) at10MinOxygen not in columns\n",
      "(119/517) at10MinBaggingAndMask not in columns\n",
      "(120/517) at10MinChestCompression not in columns\n",
      "(121/517) at10MinIntubation not in columns\n",
      "(122/517) at10MinDrug not in columns\n",
      "(123/517) cordBloodGas not in columns\n",
      "(124/517) firstPostnatalBloodGas not in columns\n",
      "(125/517) OC5INIT not in columns\n",
      "(126/517) REC_CMP:oc05 not in columns\n",
      "(127/517) birthDate:oc05 not in columns\n",
      "(128/517) birthTime not in columns\n",
      "(129/517) neonateAdmissionDate not in columns\n",
      "(130/517) neonateAdmissionTime not in columns\n",
      "(131/517) Apgar1min not in columns\n",
      "(132/517) Apgar5min not in columns\n",
      "(133/517) Apgar10min not in columns\n",
      "(134/517) Apgar15min not in columns\n",
      "(135/517) Apgar20min not in columns\n",
      "(136/517) birthWeight_g not in columns\n",
      "(137/517) birthLength_cm not in columns\n",
      "(138/517) birthHeadCircumference_cm not in columns\n",
      "(139/517) birthGestationalAge_week not in columns\n",
      "(140/517) infantSex not in columns\n",
      "(141/517) spontaneousRespirationTime not in columns\n",
      "(142/517) cordBloodGasSrc not in columns\n",
      "(143/517) cordBloodGasPH not in columns\n",
      "(144/517) cordBloodGasPCO2_mmHg not in columns\n",
      "(145/517) cordBloodGasPO2_mmHg not in columns\n",
      "(146/517) cordBloodGasHCO3_mEqPerL not in columns\n",
      "(147/517) cordBloodGasBaseDeficit_mEqPerL not in columns\n",
      "(148/517) firstPostnatalBloodGasSrc not in columns\n",
      "(149/517) firstPostnatalBloodGasDate not in columns\n",
      "(150/517) firstPostnatalBloodGasTime not in columns\n",
      "(151/517) firstPostnatalBloodGasPH not in columns\n",
      "(152/517) firstPostnatalBloodGasPCO2_mmHg not in columns\n",
      "(153/517) firstPostnatalBloodGasPO2_mmHg not in columns\n",
      "(154/517) firstPostnatalBloodGasHCO3_mEqPerL not in columns\n",
      "(155/517) firstPostnatalBloodGasBaseDeficit_mEqPerL not in columns\n",
      "(156/517) CMP_DATE:oc05 not in columns\n",
      "(157/517) CRT_DATE:oc05 not in columns\n",
      "(158/517) pre_Antibiotics not in columns\n",
      "(159/517) antibiotics not in columns\n",
      "(160/517) rewarmingAntibiotics not in columns\n",
      "(161/517) REC_CMP:oc09 not in columns\n",
      "(162/517) bloodValuePHMin not in columns\n",
      "(163/517) bloodValuePHMinDate not in columns\n",
      "(164/517) bloodValuePHMax not in columns\n",
      "(165/517) bloodValuePHMaxDate not in columns\n",
      "(166/517) bloodValueHCO3Min_mEqPerL not in columns\n",
      "(167/517) bloodValueHCO3Min_mEqPerLDate not in columns\n",
      "(168/517) bloodValueBaseDeficitMax_mEqPerL not in columns\n",
      "(169/517) bloodValueBaseDeficitMax_mEqPerLDate not in columns\n",
      "(170/517) bloodValueSerumNaMin_mEqPerL not in columns\n",
      "(171/517) bloodValueSerumNaMin_mEqPerLDate not in columns\n",
      "(172/517) bloodValueSerumNaMax_mEqPerL not in columns\n",
      "(173/517) bloodValueSerumNaMax_mEqPerLDate not in columns\n",
      "(174/517) bloodValueSerumKMin_mEqPerL not in columns\n",
      "(175/517) bloodValueSerumKMin_mEqPerLDate not in columns\n",
      "(176/517) bloodValueSerumKMax_mEqPerL not in columns\n",
      "(177/517) bloodValueSerumKMax_mEqPerLDate not in columns\n",
      "(178/517) bloodValueClMin_mEqPerL not in columns\n",
      "(179/517) bloodValueClMin_mEqPerLDate not in columns\n",
      "(180/517) bloodValueClMax_mEqPerL not in columns\n",
      "(181/517) bloodValueClMax_mEqPerLDate not in columns\n",
      "(182/517) bloodValueBunBaseline_mgPerdL not in columns\n",
      "(183/517) bloodValueBunBaseline_mgPerdLDate not in columns\n",
      "(184/517) bloodValueBunMax_mgPerdL not in columns\n",
      "(185/517) bloodValueBunMax_mgPerdLDate not in columns\n",
      "(186/517) bloodValueCreatinineBaseline_mgPerdL not in columns\n",
      "(187/517) bloodValueCreatinineBaseline_mgPerdLDate not in columns\n",
      "(188/517) bloodValueCreatinineMax_mgPerdL not in columns\n",
      "(189/517) bloodValueCreatinineMax_mgPerdLDate not in columns\n",
      "(190/517) bloodValueGlucoseMin_mgPerdL not in columns\n",
      "(191/517) bloodValueGlucoseMin_mgPerdLDate not in columns\n",
      "(192/517) bloodValueGlucoseMax_mgPerdL not in columns\n",
      "(193/517) bloodValueGlucoseMax_mgPerdLDate not in columns\n",
      "(194/517) bloodValueTotalCaMin_mgPerdL not in columns\n",
      "(195/517) bloodValueTotalCaMin_mgPerdLDate not in columns\n",
      "(196/517) bloodValueTotalCaMax_mgPerdL not in columns\n",
      "(197/517) bloodValueTotalCaMax_mgPerdLDate not in columns\n",
      "(198/517) bloodValueIonCaMin_mgPerdL not in columns\n",
      "(199/517) bloodValueIonCaMin_mgPerdLDate not in columns\n",
      "(200/517) bloodValueIonCaMax_mgPerdL not in columns\n",
      "(201/517) bloodValueIonCaMax_mgPerdLDate not in columns\n",
      "(202/517) bloodValueASTSGOTBaseline_UPerL not in columns\n",
      "(203/517) bloodValueASTSGOTBaseline_UPerLDate not in columns\n",
      "(204/517) bloodValueASTSGOTMin_UPerL not in columns\n",
      "(205/517) bloodValueASTSGOTMin_UPerLDate not in columns\n",
      "(206/517) bloodValueASTSGOTMax_UPerL not in columns\n",
      "(207/517) bloodValueASTSGOTMax_UPerLDate not in columns\n",
      "(208/517) post_BloodValueASTSGOT_UPerL not in columns\n",
      "(209/517) post_BloodValueASTSGOT_UPerLDate not in columns\n",
      "(210/517) bloodValueALTSGPTBaseline_UPerL not in columns\n",
      "(211/517) bloodValueALTSGPTBaseline_UPerLDate not in columns\n",
      "(212/517) bloodValueALTSGPTMin_UPerL not in columns\n",
      "(213/517) bloodValueALTSGPTMin_UPerLDate not in columns\n",
      "(214/517) bloodValueALTSGPTMax_UPerL not in columns\n",
      "(215/517) bloodValueALTSGPTMax_UPerLDate not in columns\n",
      "(216/517) post_BloodValueALTSGPT_UPerL not in columns\n",
      "(217/517) post_BloodValueALTSGPT_UPerLDate not in columns\n",
      "(218/517) bloodValueTotalBilirubinBaseline_mgPerdL not in columns\n",
      "(219/517) bloodValueTotalBilirubinBaseline_mgPerdLDate not in columns\n",
      "(220/517) bloodValueTotalBilirubinMin_mgPerdL not in columns\n",
      "(221/517) bloodValueTotalBilirubinMin_mgPerdLDate not in columns\n",
      "(222/517) bloodValueTotalBilirubinMax_mgPerdL not in columns\n",
      "(223/517) bloodValueTotalBilirubinMax_mgPerdLDate not in columns\n",
      "(224/517) post_BloodValueTotalBilirubin_mgPerdL not in columns\n",
      "(225/517) post_BloodValueTotalBilirubin_mgPerdLDate not in columns\n",
      "(226/517) hematologyHematocritMin not in columns\n",
      "(227/517) hematologyHematocritMinDate not in columns\n",
      "(228/517) hematologyPlateletMin_cPermuL not in columns\n",
      "(229/517) hematologyPlateletMin_cPermuLDate not in columns\n",
      "(230/517) pre_AntibioticsCode1 not in columns\n",
      "(231/517) pre_AntibioticsCode2 not in columns\n",
      "(232/517) pre_AntibioticsCode3 not in columns\n",
      "(233/517) antibioticsCode1 not in columns\n",
      "(234/517) antibioticsCode2 not in columns\n",
      "(235/517) antibioticsCode3 not in columns\n",
      "(236/517) rewarmingAntibioticsCode1 not in columns\n",
      "(237/517) rewarmingAntibioticsCode2 not in columns\n",
      "(238/517) rewarmingAntibioticsCode3 not in columns\n",
      "(239/517) CMP_DATE:oc09 not in columns\n",
      "(240/517) CRT_DATE:oc09 not in columns\n",
      "(241/517) dischargeMeconiumAspirationSyndrome not in columns\n",
      "(242/517) dischargePPHN not in columns\n",
      "(243/517) dischargePulmonaryHemorrhage not in columns\n",
      "(244/517) dischargePenumonia not in columns\n",
      "(245/517) dischargeChronicLungDisease not in columns\n",
      "(246/517) dischargeECMO not in columns\n",
      "(247/517) dischargeINO not in columns\n",
      "(248/517) dischargeCardiomegaly not in columns\n",
      "(249/517) dischargeCardiacFailure not in columns\n",
      "(250/517) dischargeCardiacDysfunctionByEcho not in columns\n",
      "(251/517) dischargeCardiacIschemiaByEKG not in columns\n",
      "(252/517) dischargeHypotension not in columns\n",
      "(253/517) dischargeArrhythmia not in columns\n",
      "(254/517) dischargeSeizure not in columns\n",
      "(255/517) dischargeSeizurePreIntervention not in columns\n",
      "(256/517) dischargeSeizureAfterBaseline not in columns\n",
      "(257/517) dischargeSeizureMaintenance not in columns\n",
      "(258/517) dischargeSeizureRewarming not in columns\n",
      "(259/517) dischargeSeizurePostIntervention not in columns\n",
      "(260/517) dischargeEEG not in columns\n",
      "(261/517) dischargeEEGFindingConsistentWithSeizure not in columns\n",
      "(262/517) dischargeEEGAbnormalBackgroundActivity not in columns\n",
      "(263/517) dischargeAnticonvulsantsGreater72H not in columns\n",
      "(264/517) dischargeSepticemia not in columns\n",
      "(265/517) dischargeMeningitisEncephalitis not in columns\n",
      "(266/517) dischargeOliguria not in columns\n",
      "(267/517) dischargeAnuria not in columns\n",
      "(268/517) dischargeDialysis not in columns\n",
      "(269/517) dischargeFullNippleFeed not in columns\n",
      "(270/517) dischargeNEC not in columns\n",
      "(271/517) dischargeHepaticDysfunction not in columns\n",
      "(272/517) dischargeDIC not in columns\n",
      "(273/517) dischargeHypoglycemia not in columns\n",
      "(274/517) dischargeHypocalcemia not in columns\n",
      "(275/517) dischargeHypomagnesemia not in columns\n",
      "(276/517) dischargeSyndromeMalformation not in columns\n",
      "(277/517) dischargeMajorSurgery not in columns\n",
      "(278/517) inOtherTrial not in columns\n",
      "(279/517) inOtherTrialText not in columns\n",
      "(280/517) dischargeHearingTest not in columns\n",
      "(281/517) dischargeHearingTestNormal not in columns\n",
      "(282/517) dischargeAlteredSkinItegrityPostIntervention not in columns\n",
      "(283/517) dischargeErythema not in columns\n",
      "(284/517) dischargeSclerema not in columns\n",
      "(285/517) dischargeCyanosis not in columns\n",
      "(286/517) dischargeSubFatNecrosis not in columns\n",
      "(287/517) wdrawSupportDiscussedWithFamily not in columns\n",
      "(288/517) wdrawSupportRecommendSolelyByClinicalTeam not in columns\n",
      "(289/517) wdrawSupportNeurologicalExam not in columns\n",
      "(290/517) wdrawSupportImagingStudy not in columns\n",
      "(291/517) wdrawSupportEEGFinding not in columns\n",
      "(292/517) wdrawSupportMultisystemOrganFailureOtherThanCNS not in columns\n",
      "(293/517) wdrawSupportBrainBloodFlowScan not in columns\n",
      "(294/517) wdrawSupportParentWish not in columns\n",
      "(295/517) wdrawSupportOther not in columns\n",
      "(296/517) wdrawSupportOtherText not in columns\n",
      "(297/517) wdrawSupport not in columns\n",
      "(298/517) limitCareDiscussedWithFamily not in columns\n",
      "(299/517) limitCareRecommendSolelyByClinicalTeam not in columns\n",
      "(300/517) limitCareAgreedByFamilyAndCareTeam not in columns\n",
      "(301/517) limitCareNoFurtherMechanicalVentilationAndIntubation not in columns\n",
      "(302/517) limitCareNoFurtherVentilationWithBagAndMask not in columns\n",
      "(303/517) limitCareNoFurtherMedicationsToSupportBP not in columns\n",
      "(304/517) limitCareNoFurtherChestCompression not in columns\n",
      "(305/517) limitCareNoFurtherEmergencyMedication not in columns\n",
      "(306/517) limitCareDNR not in columns\n",
      "(307/517) dischargeHomeTherapy not in columns\n",
      "(308/517) dischargeHomeTherapyVentilator not in columns\n",
      "(309/517) dischargeHomeTherapyOxygen not in columns\n",
      "(310/517) dischargeHomeTherapyGavageTubeFeed not in columns\n",
      "(311/517) dischargeHomeTherapyGastrostomyTubeFeed not in columns\n",
      "(312/517) dischargeHomeTherapyTemperatureBlanket not in columns\n",
      "(313/517) dischargeHomeTherapyAnticonvulsantMedication not in columns\n",
      "(314/517) dischargeHomeTherapyOther not in columns\n",
      "(315/517) dischargeHomeTherapyOtherText not in columns\n",
      "(316/517) deathAutopsy not in columns\n",
      "(317/517) deathCauseText not in columns\n",
      "(318/517) OC13INIT not in columns\n",
      "(319/517) REC_CMP:oc13 not in columns\n",
      "(320/517) dischargeStatus not in columns\n",
      "(321/517) statusDate not in columns\n",
      "(322/517) dischargeWeight_g not in columns\n",
      "(323/517) dischargeLength_cm not in columns\n",
      "(324/517) dischargeHeadCircumference_cm not in columns\n",
      "(325/517) dischargeVentilator_day not in columns\n",
      "(326/517) dischargeOxygen_day not in columns\n",
      "(327/517) dischargeCPAP_day not in columns\n",
      "(328/517) dischargeEEGFindingConsistentWithSeizureDate not in columns\n",
      "(329/517) dischargeEEGFindingConsistentWithSeizureTime not in columns\n",
      "(330/517) dischargeEEGAbnormalBackgroundActivityDate not in columns\n",
      "(331/517) dischargeEEGAbnormalBackgroundActivityTime not in columns\n",
      "(332/517) dischargeSepticemiaOrganismCode1 not in columns\n",
      "(333/517) dischargeSepticemiaOrganismCode2 not in columns\n",
      "(334/517) dischargeSepticemiaOrganismCode3 not in columns\n",
      "(335/517) dischargeMeningitisOrganismCode1 not in columns\n",
      "(336/517) dischargeMeningitisOrganismCode2 not in columns\n",
      "(337/517) dischargeMeningitisOrganismCode3 not in columns\n",
      "(338/517) dischargeEnteralFeedStart_day not in columns\n",
      "(339/517) dischargeTubeFeedingDuration_day not in columns\n",
      "(340/517) dischargeFullNippleFeed_day not in columns\n",
      "(341/517) dischargeBirthDefectCode1 not in columns\n",
      "(342/517) dischargeBirthDefectCode2 not in columns\n",
      "(343/517) dischargeBirthDefectCode3 not in columns\n",
      "(344/517) dischargeSurgeryCode1 not in columns\n",
      "(345/517) dischargeSurgeryCode2 not in columns\n",
      "(346/517) dischargeSurgeryCode3 not in columns\n",
      "(347/517) dischargeErythemaOnsetDate not in columns\n",
      "(348/517) dischargeErythemaResolveDate not in columns\n",
      "(349/517) dischargeScleremaOnsetDate not in columns\n",
      "(350/517) dischargeScleremaResolveDate not in columns\n",
      "(351/517) dischargeCyanosisOnsetDate not in columns\n",
      "(352/517) dischargeCyanosisResolveDate not in columns\n",
      "(353/517) dischargeSubFatNecrosisOnsetDate not in columns\n",
      "(354/517) dischargeSubFatNecrosisResolveDate not in columns\n",
      "(355/517) wdrawSupportDate not in columns\n",
      "(356/517) wdrawSupportTime not in columns\n",
      "(357/517) limitCareDNRDate not in columns\n",
      "(358/517) limitCareDNRTime not in columns\n",
      "(359/517) transferReason not in columns\n",
      "(360/517) transferOutcome not in columns\n",
      "(361/517) dischargeDate not in columns\n",
      "(362/517) deathDate not in columns\n",
      "(363/517) deathTime not in columns\n",
      "(364/517) deathCause not in columns\n",
      "(365/517) deathSrc not in columns\n",
      "(366/517) CMP_DATE:oc13 not in columns\n",
      "(367/517) CRT_DATE:oc13 not in columns\n",
      "(368/517) ocfolnum not in columns\n",
      "(369/517) fcenter not in columns\n",
      "(370/517) treatmentAssignmentDuration_hr not in columns\n",
      "(371/517) treatmentAssignmentTemperature not in columns\n",
      "(372/517) hie_fix not in columns\n",
      "(373/517) blindness not in columns\n",
      "(374/517) hearing not in columns\n",
      "(375/517) hear_imp not in columns\n",
      "(376/517) gross not in columns\n",
      "(377/517) cp_out not in columns\n",
      "(378/517) modsevcp not in columns\n",
      "(379/517) bayley3 not in columns\n",
      "(380/517) b3_lang not in columns\n",
      "(381/517) b3_motor not in columns\n",
      "(382/517) mult_imp not in columns\n",
      "(383/517) death18 not in columns\n",
      "(384/517) gas_tube not in columns\n",
      "(385/517) all_norm not in columns\n",
      "(386/517) adjudicate not in columns\n",
      "(387/517) deathAge_day not in columns\n",
      "(388/517) Apgar10minLess5 not in columns\n",
      "(389/517) motherEducation2 not in columns\n",
      "(390/517) pre_Anticonvulsants_b not in columns\n",
      "(391/517) pre_InotropicAgent not in columns\n",
      "(392/517) dischargeInotropicAgent not in columns\n",
      "(393/517) emergencyCSection not in columns\n",
      "(394/517) maleSex not in columns\n",
      "(395/517) Apgar5minLessEq5 not in columns\n",
      "(396/517) Apgar10minLessEq5 not in columns\n",
      "(397/517) ageRand_hr not in columns\n",
      "(398/517) hosp_die not in columns\n",
      "(399/517) dischargeAnticonvulsants not in columns\n",
      "(400/517) any_seiz not in columns\n",
      "(401/517) seiz_fu not in columns\n",
      "(402/517) disab_ms not in columns\n",
      "(403/517) disab_4 not in columns\n",
      "(404/517) disab_die not in columns\n",
      "(405/517) disab_die4 not in columns\n",
      "(406/517) MRIOtherCerebralLesion not in columns\n",
      "(407/517) MRIEdema not in columns\n",
      "(408/517) MRIOverallDiagnosisMerge not in columns\n",
      "(409/517) MRINRNPatternOfInjury not in columns\n",
      "(410/517) out_grp not in columns\n",
      "(411/517) MRIAge_day not in columns\n",
      "(412/517) MRIHemisphericDevastation not in columns\n",
      "(413/517) MRIFrontalLesion not in columns\n",
      "(414/517) MRIParietalLesion not in columns\n",
      "(415/517) MRITemporalLesion not in columns\n",
      "(416/517) MRIOccipitalLesion not in columns\n",
      "(417/517) MRICerebralLesionLobe not in columns\n",
      "(418/517) MRIFrontalParietalLesion not in columns\n",
      "(419/517) MRIParietalTemporalLesion not in columns\n",
      "(420/517) MRITemporalOccipitalLesion not in columns\n",
      "(421/517) MRIParasagittalLesion not in columns\n",
      "(422/517) MRIPreirolandicLesion not in columns\n",
      "(423/517) MRIPerisylvianLesion not in columns\n",
      "(424/517) MRIInsularLesion not in columns\n",
      "(425/517) MRIIntraventricularLesion not in columns\n",
      "(426/517) MRICerebellarLesion not in columns\n",
      "(427/517) MRICoronaRadiataLesion not in columns\n",
      "(428/517) MRIHippocampusLesion not in columns\n",
      "(429/517) MRIBrainstemLesion not in columns\n",
      "(430/517) MRIPituitaryLesion not in columns\n",
      "(431/517) MRIHypothalamusLesion not in columns\n",
      "(432/517) MRIOpticChiasmLesion not in columns\n",
      "(433/517) MRIExtraAxialLesion not in columns\n",
      "(434/517) MRIScalpLesion not in columns\n",
      "(435/517) MRIBasalGangliaLesion not in columns\n",
      "(436/517) MRIThalamusLesion not in columns\n",
      "(437/517) MRICorpusCallosumLesion not in columns\n",
      "(438/517) MRIVascularLesion not in columns\n",
      "(439/517) MRIOtherLesion not in columns\n",
      "(440/517) MRIParietalOccipitalLesion not in columns\n",
      "(441/517) MRIVascularTerritoryInfarctionMerge not in columns\n",
      "(442/517) MRICerebralAtrophyMerge not in columns\n",
      "(443/517) MRICerebralAtrophyGlobalLocalMerge not in columns\n",
      "(444/517) MRICerebralAtrophyQualAssessCCMerge not in columns\n",
      "(445/517) MRIVentricularDilatation not in columns\n",
      "(446/517) MRIBGTMerge not in columns\n",
      "(447/517) MRIPLICMerge not in columns\n",
      "(448/517) MRIWatershedMerge not in columns\n",
      "(449/517) MRIWhiteMatterInjuryMerge not in columns\n",
      "(450/517) MRIExtent not in columns\n",
      "(451/517) MRILateralityMerge not in columns\n",
      "(452/517) MRILateralHemisphericDevastation not in columns\n",
      "(453/517) MRICerebralLesion not in columns\n",
      "(454/517) MRIAnalysis not in columns\n",
      "(455/517) MRIAbnormalResult not in columns\n",
      "(456/517) motherInsurancePublic not in columns\n",
      "(457/517) MRINRNPatternOfInjuryWSvsBGTPLIC not in columns\n",
      "(458/517) MRI2LevelPatternOfInjury not in columns\n",
      "(459/517) perinatalSentinelEvent not in columns\n",
      "(460/517) acidosis not in columns\n",
      "(461/517) usualCoolingTreatmentGroup not in columns\n",
      "(462/517) initBloodGasPH not in columns\n",
      "(463/517) initBloodGasPHSrc not in columns\n",
      "(464/517) initBloodGasBaseDeficit_mEqPerL not in columns\n",
      "(465/517) initBloodGasBaseDeficit_mEqPerLSrc not in columns\n",
      "(466/517) motherRace2 not in columns\n",
      "(467/517) post_NeuroExamSectionID_x not in columns\n",
      "(468/517) dischargeNeuroExam_x not in columns\n",
      "(478/517) OC11ENAM_x not in columns\n",
      "(479/517) REC_CMP_x not in columns\n",
      "(480/517) post_NeuroExamStatus not in columns\n",
      "(490/517) CMP_DATE_x not in columns\n",
      "(491/517) CRT_DATE_x not in columns\n",
      "(492/517) post_NeuroExamSectionID_y not in columns\n",
      "(493/517) dischargeNeuroExam_y not in columns\n",
      "(494/517) dischargeNeuroExamTone not in columns\n",
      "(495/517) dischargeNeuroExamRespiration not in columns\n",
      "(496/517) dischargeNeuroExamSeizure not in columns\n",
      "(497/517) dischargeNeuroExamSedate not in columns\n",
      "(498/517) dischargeNeuroExamClonusSustained not in columns\n",
      "(499/517) dischargeNeuroExamFistedHand not in columns\n",
      "(500/517) dischargeNeuroExamAbnormalMovement not in columns\n",
      "(501/517) dischargeNeuroExamGagReflexAbsent not in columns\n",
      "(502/517) dischargeNeuroExamAsymTonicNeckReflex not in columns\n",
      "(503/517) OC11ENAM_y not in columns\n",
      "(504/517) REC_CMP_y not in columns\n",
      "(505/517) dischargeNeuroExamStatus not in columns\n",
      "(506/517) dischargeNeuroExamDate not in columns\n",
      "(507/517) dischargeNeuroExamTime not in columns\n",
      "(508/517) dischargeNeuroExamLevelConsciousness not in columns\n",
      "(509/517) dischargeNeuroExamSpontaneousActivity not in columns\n",
      "(510/517) dischargeNeuroExamPosture not in columns\n",
      "(511/517) dischargeNeuroExamSuck not in columns\n",
      "(512/517) dischargeNeuroExamMoro not in columns\n",
      "(513/517) dischargeNeuroExamPupils not in columns\n",
      "(514/517) dischargeNeuroExamHeartRate not in columns\n",
      "(515/517) CMP_DATE_y not in columns\n",
      "(516/517) CRT_DATE_y not in columns\n",
      "(2/35) post_NeuroExamSectionID not in df\n",
      "(3/35) post_NeuroExam not in df\n",
      "(21/35) post_NeuroExamHypertonia not in df\n",
      "(23/35) post_NeuroExamLevelConsciousnessScore not in df\n",
      "(24/35) post_NeuroExamSpontaneousActivityScore not in df\n",
      "(25/35) post_NeuroExamPostureScore not in df\n",
      "(26/35) post_NeuroExamToneScore not in df\n",
      "(27/35) post_NeuroExamSuckScore not in df\n",
      "(28/35) post_NeuroExamMoroScore not in df\n",
      "(29/35) post_NeuroExamPupilsScore not in df\n",
      "(30/35) post_NeuroExamHeartRateScore not in df\n",
      "(31/35) post_NeuroExamRespirationScore not in df\n",
      "(32/35) post_NeuroExamReflexScore not in df\n",
      "(33/35) post_NeuroExamANSScore not in df\n",
      "(34/35) post_TotalModifiedSarnatScore not in df\n"
     ]
    }
   ],
   "source": [
    "df_neuro_exam = COMBINE_harmonizer.valid_columns(df_main, all_neuro_exam_columns, debug_df=True, debug_columns=True)\n",
    "df_neuro_exam = COMBINE_harmonizer.postprocess(df_neuro_exam)\n",
    "\n",
    "out_filename = os.sep.join([out_dir, '03-04-post-neuro-exam.csv'])\n",
    "df_neuro_exam.to_csv(out_filename, index=False)"
   ]
  },
  {
   "cell_type": "markdown",
   "id": "e6031512",
   "metadata": {},
   "source": [
    "### 03-04-1. check neuro exam"
   ]
  },
  {
   "cell_type": "code",
   "execution_count": 154,
   "id": "3c858a5f",
   "metadata": {
    "execution": {
     "iopub.execute_input": "2025-05-10T00:14:19.693321Z",
     "iopub.status.busy": "2025-05-10T00:14:19.692660Z",
     "iopub.status.idle": "2025-05-10T00:14:19.701149Z",
     "shell.execute_reply": "2025-05-10T00:14:19.700937Z"
    }
   },
   "outputs": [
    {
     "data": {
      "text/html": [
       "<div>\n",
       "<style scoped>\n",
       "    .dataframe tbody tr th:only-of-type {\n",
       "        vertical-align: middle;\n",
       "    }\n",
       "\n",
       "    .dataframe tbody tr th {\n",
       "        vertical-align: top;\n",
       "    }\n",
       "\n",
       "    .dataframe thead th {\n",
       "        text-align: right;\n",
       "    }\n",
       "</style>\n",
       "<table border=\"1\" class=\"dataframe\">\n",
       "  <thead>\n",
       "    <tr style=\"text-align: right;\">\n",
       "      <th></th>\n",
       "      <th>_count</th>\n",
       "    </tr>\n",
       "    <tr>\n",
       "      <th>uniqueID</th>\n",
       "      <th></th>\n",
       "    </tr>\n",
       "  </thead>\n",
       "  <tbody>\n",
       "  </tbody>\n",
       "</table>\n",
       "</div>"
      ],
      "text/plain": [
       "Empty DataFrame\n",
       "Columns: [_count]\n",
       "Index: []"
      ]
     },
     "execution_count": 154,
     "metadata": {},
     "output_type": "execute_result"
    }
   ],
   "source": [
    "df_neuro_exam_groupby = df_neuro_exam.groupby(['uniqueID']).agg(_count=('uniqueID', 'count'))\n",
    "\n",
    "is_invalid = df_neuro_exam_groupby['_count'] > 1\n",
    "df_neuro_exam_groupby[is_invalid]"
   ]
  },
  {
   "cell_type": "markdown",
   "id": "b05576be",
   "metadata": {},
   "source": [
    "### 03-04-2. check empty cells"
   ]
  },
  {
   "cell_type": "code",
   "execution_count": 155,
   "id": "b7ec03d3",
   "metadata": {
    "execution": {
     "iopub.execute_input": "2025-05-10T00:14:19.702427Z",
     "iopub.status.busy": "2025-05-10T00:14:19.702343Z",
     "iopub.status.idle": "2025-05-10T00:14:19.705649Z",
     "shell.execute_reply": "2025-05-10T00:14:19.705442Z"
    }
   },
   "outputs": [
    {
     "name": "stdout",
     "output_type": "stream",
     "text": [
      "(0/21) column: center (364 / 0)\n",
      "(1/21) column: subjectID (364 / 0)\n",
      "(2/21) column: uniqueID (364 / 0)\n",
      "(3/21) column: post_NeuroExamTone (308 / 56)\n",
      "(4/21) column: post_NeuroExamRespiration (308 / 56)\n",
      "(5/21) column: post_NeuroExamSeizure (308 / 56)\n",
      "(6/21) column: post_NeuroExamSedate (308 / 56)\n",
      "(7/21) column: post_NeuroExamClonusSustained (308 / 56)\n",
      "(8/21) column: post_NeuroExamFistedHand (308 / 56)\n",
      "(9/21) column: post_NeuroExamAbnormalMovement (308 / 56)\n",
      "(10/21) column: post_NeuroExamGagReflexAbsent (308 / 56)\n",
      "(11/21) column: post_NeuroExamAsymTonicNeckReflex (0 / 364)\n",
      "(12/21) column: post_NeuroExamDate (308 / 56)\n",
      "(13/21) column: post_NeuroExamTime (307 / 57)\n",
      "(14/21) column: post_NeuroExamLevelConsciousness (308 / 56)\n",
      "(15/21) column: post_NeuroExamSpontaneousActivity (308 / 56)\n",
      "(16/21) column: post_NeuroExamPosture (307 / 57)\n",
      "(17/21) column: post_NeuroExamSuck (306 / 58)\n",
      "(18/21) column: post_NeuroExamMoro (289 / 75)\n",
      "(19/21) column: post_NeuroExamPupils (290 / 74)\n",
      "(20/21) column: post_NeuroExamHeartRate (306 / 58)\n"
     ]
    }
   ],
   "source": [
    "COMBINE_harmonizer.check_empty(df_neuro_exam)"
   ]
  },
  {
   "cell_type": "code",
   "execution_count": 156,
   "id": "e4393f5d",
   "metadata": {
    "execution": {
     "iopub.execute_input": "2025-05-10T00:14:19.706845Z",
     "iopub.status.busy": "2025-05-10T00:14:19.706753Z",
     "iopub.status.idle": "2025-05-10T00:14:19.709231Z",
     "shell.execute_reply": "2025-05-10T00:14:19.709010Z"
    }
   },
   "outputs": [
    {
     "name": "stdout",
     "output_type": "stream",
     "text": [
      "(0/21) center: (364/0)\n",
      "(1/21) subjectID: (364/0)\n",
      "(2/21) uniqueID: (364/0)\n",
      "(3/21) post_NeuroExamTone: (308/56)\n",
      "(4/21) post_NeuroExamRespiration: (308/56)\n",
      "(5/21) post_NeuroExamSeizure: (308/56)\n",
      "(6/21) post_NeuroExamSedate: (308/56)\n",
      "(7/21) post_NeuroExamClonusSustained: (308/56)\n",
      "(8/21) post_NeuroExamFistedHand: (308/56)\n",
      "(9/21) post_NeuroExamAbnormalMovement: (308/56)\n",
      "(10/21) post_NeuroExamGagReflexAbsent: (308/56)\n",
      "(11/21) post_NeuroExamAsymTonicNeckReflex: (0/364)\n",
      "(12/21) post_NeuroExamDate: (308/56)\n",
      "(13/21) post_NeuroExamTime: (307/57)\n",
      "(14/21) post_NeuroExamLevelConsciousness: (308/56)\n",
      "(15/21) post_NeuroExamSpontaneousActivity: (308/56)\n",
      "(16/21) post_NeuroExamPosture: (307/57)\n",
      "(17/21) post_NeuroExamSuck: (306/58)\n",
      "(18/21) post_NeuroExamMoro: (289/75)\n",
      "(19/21) post_NeuroExamPupils: (290/74)\n",
      "(20/21) post_NeuroExamHeartRate: (306/58)\n"
     ]
    }
   ],
   "source": [
    "COMBINE_harmonizer.column_info(df_neuro_exam)"
   ]
  },
  {
   "cell_type": "markdown",
   "id": "39d3632a-8776-4eed-8ec4-76b868ef452c",
   "metadata": {},
   "source": [
    "## 03-05. MRI"
   ]
  },
  {
   "cell_type": "code",
   "execution_count": 157,
   "id": "56bf0547",
   "metadata": {
    "execution": {
     "iopub.execute_input": "2025-05-10T00:14:19.710478Z",
     "iopub.status.busy": "2025-05-10T00:14:19.710375Z",
     "iopub.status.idle": "2025-05-10T00:14:19.713580Z",
     "shell.execute_reply": "2025-05-10T00:14:19.713345Z"
    }
   },
   "outputs": [
    {
     "data": {
      "text/plain": [
       "['center',\n",
       " 'subjectID',\n",
       " 'MRIAvailable',\n",
       " 'MRIAvailable_c',\n",
       " 'MRIObtain',\n",
       " 'MRIObtainWindow',\n",
       " 'MRIObtainWindow_c',\n",
       " 'MRIDate',\n",
       " 'MRITime',\n",
       " 'MRIObtainComment',\n",
       " 'MRISendRTIDate',\n",
       " 'MRIReceiveRTIDate',\n",
       " 'MRINoObtainReason',\n",
       " 'MRINoObtainReason_c',\n",
       " 'MRINoObtainReasonText',\n",
       " 'MRIRead',\n",
       " 'MRIScore',\n",
       " 'MRIIteration',\n",
       " 'MRIIncrement',\n",
       " 'MRIID',\n",
       " 'MRIReader',\n",
       " 'MRIReadDate',\n",
       " 'MRIStrength_T',\n",
       " 'MRIStrength_c',\n",
       " 'MRIAdequateQuality',\n",
       " 'MRIAdequateQuality_c',\n",
       " 'MRIT1Axial',\n",
       " 'MRIT1Axial_c',\n",
       " 'MRIT1Coronal',\n",
       " 'MRIT1Coronal_c',\n",
       " 'MRIT1Sagittal',\n",
       " 'MRIT1Sagittal_c',\n",
       " 'MRIT1',\n",
       " 'MRIT2Axial',\n",
       " 'MRIT2Axial_c',\n",
       " 'MRIT2Coronal',\n",
       " 'MRIT2Coronal_c',\n",
       " 'MRIT2Sagittal',\n",
       " 'MRIT2Sagittal_c',\n",
       " 'MRIT2',\n",
       " 'MRIT2FLAIRAxial',\n",
       " 'MRIT2FLAIRAxial_c',\n",
       " 'MRIT2FLAIRCoronal',\n",
       " 'MRIT2FLAIRCoronal_c',\n",
       " 'MRIT2FLAIRSagittal',\n",
       " 'MRIT2FLAIRSagittal_c',\n",
       " 'MRIT2FLAIR',\n",
       " 'MRIGRESWIAxial',\n",
       " 'MRIGRESWIAxial_c',\n",
       " 'MRIGRESWICoronal',\n",
       " 'MRIGRESWICoronal_c',\n",
       " 'MRIGRESWISagittal',\n",
       " 'MRIGRESWISagittal_c',\n",
       " 'MRIGRESWI',\n",
       " 'MRISPGRAxial',\n",
       " 'MRISPGRAxial_c',\n",
       " 'MRISPGRCoronal',\n",
       " 'MRISPGRCoronal_c',\n",
       " 'MRISPGRSagittal',\n",
       " 'MRISPGRSagittal_c',\n",
       " 'MRISPGR',\n",
       " 'MRIDWI',\n",
       " 'MRIDWI_c',\n",
       " 'MRIADC',\n",
       " 'MRIADC_c',\n",
       " 'MRIMRS',\n",
       " 'MRIMRS_c',\n",
       " 'MRIOther',\n",
       " 'MRIOther_c',\n",
       " 'MRIOtherText',\n",
       " 'MRIOverallDiagnosis',\n",
       " 'MRIOverallDiagnosis_c',\n",
       " 'MRIOverallDiagnosisText',\n",
       " 'MRIAbnormal',\n",
       " 'MRIAbnormal_c',\n",
       " 'MRILesionNumber',\n",
       " 'MRILesionHemisphere',\n",
       " 'MRILesionHemisphere_c',\n",
       " 'MRIAbnormalRegion1',\n",
       " 'MRIAbnormalRegion1_c',\n",
       " 'MRIAbnormalRegion2',\n",
       " 'MRIAbnormalRegion2_c',\n",
       " 'MRIAbnormalRegion3',\n",
       " 'MRIAbnormalRegion3_c',\n",
       " 'MRIAbnormalSide',\n",
       " 'MRIAbnormalSide_c',\n",
       " 'MRIAbnormalGrayMatterWhiteMatter',\n",
       " 'MRIAbnormalGrayMatterWhiteMatter_c',\n",
       " 'MRIAbnormalExtent1',\n",
       " 'MRIAbnormalExtent1_c',\n",
       " 'MRIAbnormalExtent2',\n",
       " 'MRIAbnormalExtent2_c',\n",
       " 'MRIAbnormalType',\n",
       " 'MRIAbnormalType_c',\n",
       " 'MRIAbnormalType2',\n",
       " 'MRIAbnormalType2_c',\n",
       " 'MRIAbnormalComment',\n",
       " 'MRICerebralAtrophy',\n",
       " 'MRICerebralAtrophy_c',\n",
       " 'MRICerebralAtrophyGlobalLocal',\n",
       " 'MRICerebralAtrophyGlobalLocal_c',\n",
       " 'MRICerebralAtrophyRegion',\n",
       " 'MRICerebralAtrophyQualAssessCC',\n",
       " 'MRICerebralAtrophyQualAssessCC_c',\n",
       " 'MRICerebralAtrophyQualAssessVDLeft',\n",
       " 'MRICerebralAtrophyQualAssessVDLeft_c',\n",
       " 'MRICerebralAtrophyQualAssessVDRight',\n",
       " 'MRICerebralAtrophyQualAssessVDRight_c',\n",
       " 'MRIInfarction',\n",
       " 'MRIInfarction_c',\n",
       " 'MRIInfarctionArterialTerritoryLeft',\n",
       " 'MRIInfarctionArterialTerritoryLeft_c',\n",
       " 'MRIInfarctionArterialTerritoryRight',\n",
       " 'MRIInfarctionArterialTerritoryRight_c',\n",
       " 'MRIInfarctionWatershedLeft',\n",
       " 'MRIInfarctionWatershedLeft_c',\n",
       " 'MRIInfarctionWatershedRight',\n",
       " 'MRIInfarctionWatershedRight_c',\n",
       " 'MRIMidlineShift',\n",
       " 'MRIMidlineShift_c',\n",
       " 'MRIBGT',\n",
       " 'MRIBGT_c',\n",
       " 'MRIPLIC',\n",
       " 'MRIPLIC_c',\n",
       " 'MRIALIC',\n",
       " 'MRIALIC_c',\n",
       " 'MRIWatershed',\n",
       " 'MRIWatershed_c',\n",
       " 'MRIWhiteMatterInjury',\n",
       " 'MRIWhiteMatterInjury_c',\n",
       " 'MRIFocalCorticalInjury',\n",
       " 'MRIFocalCorticalInjury_c',\n",
       " 'MRINRNPatternOfInjury',\n",
       " 'MRINRNPatternOfInjury_c',\n",
       " 'MRINRNPatternOfInjuryExtent',\n",
       " 'MRINRNPatternOfInjuryExtent_c',\n",
       " 'MRINRNPatternOfInjuryLateral',\n",
       " 'MRINRNPatternOfInjuryLateral_c',\n",
       " 'MRIComment',\n",
       " 'MRINRNPatternOfInjuryMerge',\n",
       " 'MRINRNPatternOfInjuryAvg',\n",
       " 'MRINRNPatternOfInjuryMax',\n",
       " 'MRI2LevelPatternOfInjury',\n",
       " 'MRIAge_day',\n",
       " 'MRIOverallDiagnosisMerge',\n",
       " 'MRINotDone',\n",
       " 'MRIUnread',\n",
       " 'MRIAnalysis',\n",
       " 'MRIAbnormalResult',\n",
       " 'MRINRNPatternOfInjuryWSvsBGTPLIC',\n",
       " 'MRICerebralLesion',\n",
       " 'MRICerebellarLesion',\n",
       " 'MRIBasalGangliaLesion',\n",
       " 'MRIBrainstemLesion',\n",
       " 'MRICorpusCallosumLesion',\n",
       " 'MRICerebralLesionLobe',\n",
       " 'MRICoronaRadiataLesion',\n",
       " 'MRIEdema',\n",
       " 'MRIExtraAxialLesion',\n",
       " 'MRIExtent',\n",
       " 'MRIFrontalParietalLesion',\n",
       " 'MRIFrontalLesion',\n",
       " 'MRILateralHemisphericDevastation',\n",
       " 'MRIHippocampusLesion',\n",
       " 'MRIHypothalamusLesion',\n",
       " 'MRIInsularLesion',\n",
       " 'MRILateralityMerge',\n",
       " 'MRIBGTMerge',\n",
       " 'MRIPLICMerge',\n",
       " 'MRIWatershedMerge',\n",
       " 'MRIWhiteMatterInjuryMerge',\n",
       " 'MRIOccipitalLesion',\n",
       " 'MRIOpticChiasmLesion',\n",
       " 'MRIOtherLesion',\n",
       " 'MRIOtherCerebralLesion',\n",
       " 'MRIParasagittalLesion',\n",
       " 'MRIParietalLesion',\n",
       " 'MRIPreirolandicLesion',\n",
       " 'MRIPerisylvianLesion',\n",
       " 'MRIPituitaryLesion',\n",
       " 'MRIParietalOccipitalLesion',\n",
       " 'MRIParietalTemporalLesion',\n",
       " 'MRIScalpLesion',\n",
       " 'MRIThalamusLesion',\n",
       " 'MRITemporalLesion',\n",
       " 'MRITemporalOccipitalLesion',\n",
       " 'MRICerebralAtrophyMerge',\n",
       " 'MRICerebralAtrophyQualAssessCCMerge',\n",
       " 'MRICerebralAtrophyGlobalLocalMerge',\n",
       " 'MRIVascularTerritoryInfarctionMerge',\n",
       " 'MRIVascularTerritoryInfarctionLeftMerge',\n",
       " 'MRIVascularTerritoryInfarctionRightMerge',\n",
       " 'MRIHemisphericDevastation',\n",
       " 'MRIVentricularDilatation',\n",
       " 'MRIVascularLesion',\n",
       " 'MRIIntraventricularLesion']"
      ]
     },
     "execution_count": 157,
     "metadata": {},
     "output_type": "execute_result"
    }
   ],
   "source": [
    "mri_columns = COMBINE_harmonizer.get_columns(\n",
    "    df_data_dict,\n",
    "    COMBINE_harmonizer.CATEGORY_POST_INTERVENTION,\n",
    "    COMBINE_harmonizer.SUBCATEGORY_MRI)\n",
    "\n",
    "all_mri_columns = list(dict.fromkeys(id_columns + mri_columns))\n",
    "all_mri_columns"
   ]
  },
  {
   "cell_type": "code",
   "execution_count": 158,
   "id": "2cd8cd9a",
   "metadata": {
    "execution": {
     "iopub.execute_input": "2025-05-10T00:14:19.714769Z",
     "iopub.status.busy": "2025-05-10T00:14:19.714695Z",
     "iopub.status.idle": "2025-05-10T00:14:19.811431Z",
     "shell.execute_reply": "2025-05-10T00:14:19.811168Z"
    }
   },
   "outputs": [
    {
     "name": "stdout",
     "output_type": "stream",
     "text": [
      "(3/82) OM3READR not in columns\n",
      "(43/82) OM3RDRSTAT not in columns\n",
      "(44/82) OM3RDRSTAT_code not in columns\n",
      "(45/82) OM3RDRSTATSP not in columns\n",
      "(78/82) FormStatus not in columns\n",
      "(79/82) DateComplete not in columns\n",
      "(80/82) DateCreated not in columns\n",
      "(81/82) KeyedUser not in columns\n"
     ]
    },
    {
     "name": "stdout",
     "output_type": "stream",
     "text": [
      "center03: ['OC3261', 'OC3261', 'OC3261', 'OC3281', 'OC3281', 'OC3281', 'OC3291', 'OC3331', 'OC3371', 'OC3371', 'OC3371', 'OC3381', 'OC3381', 'OC3381', 'OC3421', 'OC3421', 'OC3421', 'OC3431', 'OC3451', 'OC3451', 'OC3451']\n",
      "center04: ['OC0031', 'OC0031', 'OC0031', 'OC0041', 'OC0081', 'OC0091', 'OC0091', 'OC0091', 'OC0101', 'OC0111', 'OC0111', 'OC0111', 'OC0121', 'OC0211', 'OC0211', 'OC0211', 'OC0241', 'OC0361', 'OC0371', 'OC0371', 'OC0371', 'OC0581', 'OC0661', 'OC0661', 'OC0661', 'OC0691', 'OC0691', 'OC0691', 'OC0761', 'OC0761', 'OC0761', 'OC0871', 'OC0871', 'OC0871', 'OC0881', 'OC0891', 'OC0901', 'OC0901', 'OC0901', 'OC0921', 'OC0951', 'OC0951', 'OC0951', 'OC0981', 'OC0981', 'OC0981', 'OC1091', 'OC1111', 'OC1111', 'OC1111', 'OC1141', 'OC1141', 'OC1141']\n",
      "center05: ['OC0031', 'OC0031', 'OC0031', 'OC0041', 'OC0181', 'OC0181', 'OC0181', 'OC0211', 'OC0211', 'OC0211', 'OC0241', 'OC0241', 'OC0241', 'OC0261', 'OC0261', 'OC0261', 'OC0271', 'OC0291', 'OC0301', 'OC0401', 'OC0401', 'OC0401', 'OC0491', 'OC0511', 'OC0551', 'OC0551', 'OC0551', 'OC0561', 'OC0571', 'OC0571', 'OC0571', 'OC0601', 'OC0651', 'OC0711', 'OC0721', 'OC0721', 'OC0721', 'OC0731', 'OC0741', 'OC0741', 'OC0741', 'OC0821', 'OC0821', 'OC0821', 'OC0831', 'OC0831', 'OC0831', 'OC0851', 'OC0851', 'OC0851', 'OC0871', 'OC0871', 'OC0871', 'OC0881', 'OC0881', 'OC0881', 'OC0891', 'OC0891', 'OC0891', 'OC1021', 'OC1021', 'OC1021']\n",
      "center09: ['OC0081', 'OC0161', 'OC0181', 'OC0181', 'OC0181', 'OC0191', 'OC0221', 'OC0221', 'OC0221', 'OC0271', 'OC0271', 'OC0271', 'OC0291', 'OC0291', 'OC0291', 'OC0341', 'OC0401', 'OC0401', 'OC0401', 'OC0411', 'OC0441', 'OC0441', 'OC0441', 'OC0451', 'OC0451', 'OC0451', 'OC0481', 'OC0551', 'OC0571', 'OC0571', 'OC0571', 'OC0651', 'OC0651', 'OC0651', 'OC0681', 'OC0681', 'OC0681', 'OC0691', 'OC0691', 'OC0691', 'OC0701', 'OC0701', 'OC0701', 'OC0731', 'OC0731', 'OC0731', 'OC0771', 'OC0801']\n",
      "center11: ['OC0021', 'OC0031', 'OC0041', 'OC0071', 'OC0101', 'OC0101', 'OC0101', 'OC0261']\n",
      "center12: ['OC0012', 'OC0012', 'OC0012', 'OC0021', 'OC0021', 'OC0021', 'OC0032', 'OC0041', 'OC0041', 'OC0041', 'OC0081', 'OC0081', 'OC0081', 'OC0091', 'OC0091', 'OC0091', 'OC0101', 'OC0101', 'OC0101', 'OC0111', 'OC0111', 'OC0111', 'OC0131', 'OC0142', 'OC0191', 'OC0201', 'OC0201', 'OC0201', 'OC0211', 'OC0211', 'OC0211', 'OC0221', 'OC0231', 'OC0241', 'OC0281', 'OC0291', 'OC0291', 'OC0291', 'OC0301', 'OC0301', 'OC0301', 'OC0312', 'OC0312', 'OC0312', 'OC0321', 'OC0321', 'OC0321', 'OC0342', 'OC0342', 'OC0342', 'OC0351', 'OC0361', 'OC0372', 'OC0372', 'OC0372', 'OC0391', 'OC0411', 'OC0431', 'OC0431', 'OC0431', 'OC0441', 'OC0441', 'OC0441', 'OC0461', 'OC0521']\n",
      "center14: ['OC0011', 'OC0011', 'OC0011', 'OC0031', 'OC0031', 'OC0031', 'OC0081', 'OC0091', 'OC0111', 'OC0181', 'OC0211', 'OC0211', 'OC0211', 'OC0221', 'OC0221', 'OC0221', 'OC0251', 'OC0331', 'OC0331', 'OC0331', 'OC0341', 'OC0341', 'OC0341', 'OC0431', 'OC0561', 'OC0561', 'OC0561', 'OC0591', 'OC0631', 'OC0661', 'OC0661', 'OC0661', 'OC0681', 'OC0691', 'OC0691', 'OC0691']\n",
      "center15: ['OC0021', 'OC0061', 'OC0081', 'OC0081', 'OC0081', 'OC0091', 'OC0111', 'OC0111', 'OC0111', 'OC0131', 'OC0141', 'OC0171', 'OC0181', 'OC0181', 'OC0181', 'OC0191', 'OC0231', 'OC0231', 'OC0231', 'OC0251', 'OC0311', 'OC0321', 'OC0321', 'OC0321', 'OC0331', 'OC0361', 'OC0391', 'OC0391', 'OC0391', 'OC0401', 'OC0421', 'OC0421', 'OC0421', 'OC0441', 'OC0441', 'OC0441', 'OC0471', 'OC0471', 'OC0471']\n",
      "center16: ['OC0011', 'OC0091', 'OC0091', 'OC0091', 'OC0111', 'OC0111', 'OC0111', 'OC0131', 'OC0131', 'OC0131', 'OC0141', 'OC0161', 'OC0161', 'OC0161', 'OC0181', 'OC0181', 'OC0181', 'OC0191', 'OC0191', 'OC0191', 'OC0281']\n",
      "center18: ['OC0041', 'OC0041', 'OC0041', 'OC0051', 'OC0241', 'OC0241', 'OC0241', 'OC0281', 'OC0281', 'OC0281', 'OC0321', 'OC0371', 'OC0411', 'OC0421', 'OC0431', 'OC0431', 'OC0431', 'OC0451', 'OC0471', 'OC0471', 'OC0471', 'OC0491', 'OC0491', 'OC0491', 'OC0511', 'OC0511', 'OC0511', 'OC0531', 'OC0531', 'OC0531', 'OC0561', 'OC0561', 'OC0561', 'OC0571', 'OC0581', 'OC0591', 'OC0631', 'OC0661', 'OC0661', 'OC0661', 'OC0671', 'OC0681', 'OC0681', 'OC0681', 'OC0691', 'OC0701', 'OC0701', 'OC0701', 'OC0731', 'OC0751', 'OC0751', 'OC0751', 'OC0761', 'OC0761', 'OC0761']\n",
      "center19: ['OC0381', 'OC0381', 'OC0381', 'OC0391', 'OC0391', 'OC0391', 'OC0411', 'OC0421', 'OC0421', 'OC0421', 'OC0441', 'OC0481', 'OC0561', 'OC0561', 'OC0561', 'OC0661', 'OC0671', 'OC0691', 'OC0851', 'OC0851', 'OC0851', 'OC0861', 'OC0861', 'OC0861', 'OC9411', 'OC9411', 'OC9411', 'OC9431', 'OC9431', 'OC9431', 'OC9441', 'OC9441', 'OC9441', 'OC9451', 'OC9451', 'OC9451', 'OC9511', 'OC9541', 'OC9541', 'OC9541', 'OC9661', 'OC9681', 'OC9701', 'OC9701', 'OC9701', 'OC9781', 'OC9781', 'OC9781', 'OC9811', 'OC9811', 'OC9811', 'OC9901', 'OC9901', 'OC9901', 'OC9941', 'OC9971', 'OC9971', 'OC9971', 'OC9991']\n",
      "center24: ['OC1051', 'OC1061', 'OC1061', 'OC1061', 'OC1101', 'OC1101', 'OC1101', 'OC1151', 'OC1161', 'OC1161', 'OC1161', 'OC1201', 'OC1201', 'OC1201', 'OC1211', 'OC1211', 'OC1211', 'OC1231', 'OC1231', 'OC1231', 'OC1241', 'OC1281', 'OC1291', 'OC1291', 'OC1291', 'OC1301', 'OC1301', 'OC1301', 'OC1331', 'OC1331', 'OC1331', 'OC1341', 'OC1341', 'OC1341', 'OC1371', 'OC1371', 'OC1371']\n",
      "center26: ['OC0361', 'OC0371', 'OC0371', 'OC0371']\n",
      "center27: ['OC0011', 'OC0021', 'OC0031', 'OC0041', 'OC0041', 'OC0041', 'OC0051', 'OC0051', 'OC0051', 'OC0091', 'OC0101', 'OC0101', 'OC0101', 'OC0171', 'OC0201', 'OC0221', 'OC0221', 'OC0221', 'OC0231', 'OC0231', 'OC0231', 'OC0261', 'OC0261', 'OC0261', 'OC0291', 'OC0291', 'OC0291', 'OC0301', 'OC0321', 'OC0321', 'OC0321', 'OC0331', 'OC0331', 'OC0331', 'OC8561', 'OC8561', 'OC8561']\n",
      "center28: ['OC0011', 'OC0011', 'OC0011', 'OC0021', 'OC0021', 'OC0021', 'OC0031', 'OC0031', 'OC0031', 'OC0041', 'OC0041', 'OC0041', 'OC0051', 'OC0071', 'OC0101', 'OC0251', 'OC0251', 'OC0251', 'OC0291', 'OC0291', 'OC0291', 'OC3051', 'OC3061', 'OC3081', 'OC3091', 'OC3091', 'OC3091', 'OC3161']\n",
      "center29: ['OC0031', 'OC0031', 'OC0031', 'OC0071', 'OC0071', 'OC0071', 'OC0101', 'OC0101', 'OC0101', 'OC0151', 'OC0151', 'OC0151', 'OC0161', 'OC0171', 'OC0171', 'OC0171', 'OC0181', 'OC0181', 'OC0181', 'OC0191', 'OC0191', 'OC0191', 'OC0201', 'OC0211', 'OC0211', 'OC0211', 'OC0221', 'OC0221', 'OC0221', 'OC0241', 'OC0241', 'OC0241', 'OC0291', 'OC0291', 'OC0291', 'OC0331', 'OC0341']\n",
      "center30: ['OC0011', 'OC0011', 'OC0011', 'OC0021', 'OC0042', 'OC0042', 'OC0042', 'OC0071', 'OC0131', 'OC0131', 'OC0131', 'OC0171', 'OC0181', 'OC0181', 'OC0181', 'OC0191', 'OC0191', 'OC0191', 'OC0201', 'OC0201', 'OC0201', 'OC0251', 'OC0271', 'OC0281', 'OC0281', 'OC0281', 'OC0301', 'OC0301', 'OC0301', 'OC0321', 'OC0321', 'OC0321', 'OC0331', 'OC0381', 'OC0421', 'OC0451', 'OC0451', 'OC0451', 'OC0461', 'OC0471', 'OC0471', 'OC0471']\n",
      "center31: ['OC3141', 'OC3141', 'OC3141', 'OC3181', 'OC3181', 'OC3181', 'OC3221', 'OC3221', 'OC3221', 'OC3301', 'OC3311', 'OC3321', 'OC3331', 'OC3381', 'OC3411', 'OC3441', 'OC3561', 'OC3561', 'OC3561']\n"
     ]
    }
   ],
   "source": [
    "df_mri = df_dict[_MRI_FILENAME].copy()\n",
    "\n",
    "df_mri = COMBINE_harmonizer.valid_columns(df_mri, all_valid_columns, debug_df=True, debug_columns=False)\n",
    "df_mri = COMBINE_harmonizer.postprocess(df_mri)\n",
    "\n",
    "### XXX hack to reset siteID to meet with the filename\n",
    "df_mri['siteID'] = ''\n",
    "\n",
    "is_center03 = df_mri['center'] == '03'\n",
    "df_mri.loc[is_center03, 'siteID'] = 'A'\n",
    "print(f\"center03: {list(df_mri['subjectID'][is_center03].sort_values())}\")\n",
    "\n",
    "is_center04 = df_mri['center'] == '04'\n",
    "df_mri.loc[is_center04, 'siteID'] = '1'\n",
    "print(f\"center04: {list(df_mri['subjectID'][is_center04].sort_values())}\")\n",
    "\n",
    "is_center05 = df_mri['center'] == '05'\n",
    "df_mri.loc[is_center05, 'siteID'] = 'A'\n",
    "print(f\"center05: {list(df_mri['subjectID'][is_center05].sort_values())}\")\n",
    "\n",
    "is_center09 = df_mri['center'] == '09'\n",
    "is_subjectA = df_mri['subjectID'].isin(['OC0191', 'OC0401', 'OC0441'])\n",
    "is_center09_subjectA = is_center09 * is_subjectA\n",
    "is_center09_subjectB = is_center09 * (is_subjectA == False)\n",
    "df_mri.loc[is_center09_subjectA, 'siteID'] = 'A'\n",
    "df_mri.loc[is_center09_subjectB, 'siteID'] = 'B'\n",
    "print(f\"center09: {list(df_mri['subjectID'][is_center09].sort_values())}\")\n",
    "\n",
    "is_center11 = df_mri['center'] == '11'\n",
    "df_mri.loc[is_center11, 'siteID'] = 'B'\n",
    "print(f\"center11: {list(df_mri['subjectID'][is_center11].sort_values())}\")\n",
    "\n",
    "is_center12 = df_mri['center'] == '12'\n",
    "df_mri.loc[is_center12, 'siteID'] = 'B'\n",
    "print(f\"center12: {list(df_mri['subjectID'][is_center12].sort_values())}\")\n",
    "\n",
    "is_center14 = df_mri['center'] == '14'\n",
    "df_mri.loc[is_center14, 'siteID'] = 'A'\n",
    "print(f\"center14: {list(df_mri['subjectID'][is_center14].sort_values())}\")\n",
    "\n",
    "is_center15 = df_mri['center'] == '15'\n",
    "df_mri.loc[is_center15, 'siteID'] = 'A'\n",
    "print(f\"center15: {list(df_mri['subjectID'][is_center15].sort_values())}\")\n",
    "\n",
    "is_center16 = df_mri['center'] == '16'\n",
    "df_mri.loc[is_center16, 'siteID'] = 'A'\n",
    "print(f\"center16: {list(df_mri['subjectID'][is_center16].sort_values())}\")\n",
    "\n",
    "is_center18 = df_mri['center'] == '18'\n",
    "df_mri.loc[is_center18, 'siteID'] = '1'\n",
    "print(f\"center18: {list(df_mri['subjectID'][is_center18].sort_values())}\")\n",
    "\n",
    "is_center19 = df_mri['center'] == '19'\n",
    "is_subjectA = df_mri['subjectID'].isin(['OC0381', 'OC0391', 'OC0411', 'OC0421', 'OC0441', 'OC0481', 'OC0561', 'OC0661', 'OC0671', 'OC0691', 'OC0851', 'OC0861'])\n",
    "is_center19_subjectA = is_center19 * is_subjectA\n",
    "is_center19_subjectE = is_center19 * (is_subjectA == False)\n",
    "df_mri.loc[is_center19_subjectA, 'siteID'] = 'A'\n",
    "df_mri.loc[is_center19_subjectE, 'siteID'] = 'E'\n",
    "print(f\"center19: {list(df_mri['subjectID'][is_center19].sort_values())}\")\n",
    "\n",
    "is_center24 = df_mri['center'] == '24'\n",
    "df_mri.loc[is_center24, 'siteID'] = 'A'\n",
    "print(f\"center24: {list(df_mri['subjectID'][is_center24].sort_values())}\")\n",
    "\n",
    "is_center26 = df_mri['center'] == '26'\n",
    "df_mri.loc[is_center26, 'siteID'] = 'A'\n",
    "print(f\"center26: {list(df_mri['subjectID'][is_center26].sort_values())}\")\n",
    "\n",
    "is_center27 = df_mri['center'] == '27'\n",
    "df_mri.loc[is_center27, 'siteID'] = 'C'\n",
    "print(f\"center27: {list(df_mri['subjectID'][is_center27].sort_values())}\")\n",
    "\n",
    "is_center28 = df_mri['center'] == '28'\n",
    "is_subject1 = df_mri['subjectID'].isin(['OC3051', 'OC3061', 'OC3081', 'OC3091', 'OC3161'])\n",
    "is_center28_subject1 = is_center28 * is_subject1\n",
    "is_center28_subject2 = is_center28 * (is_subject1 == False)\n",
    "df_mri.loc[is_center28_subject1, 'siteID'] = '1'\n",
    "df_mri.loc[is_center28_subject2, 'siteID'] = '2'\n",
    "print(f\"center28: {list(df_mri['subjectID'][is_center28].sort_values())}\")\n",
    "\n",
    "is_center29 = df_mri['center'] == '29'\n",
    "df_mri.loc[is_center29, 'siteID'] = 'W'\n",
    "print(f\"center29: {list(df_mri['subjectID'][is_center29].sort_values())}\")\n",
    "\n",
    "is_center30 = df_mri['center'] == '30'\n",
    "df_mri.loc[is_center30, 'siteID'] = 'A'\n",
    "print(f\"center30: {list(df_mri['subjectID'][is_center30].sort_values())}\")\n",
    "\n",
    "is_center31 = df_mri['center'] == '31'\n",
    "df_mri.loc[is_center31, 'siteID'] = 'A'\n",
    "print(f\"center31: {list(df_mri['subjectID'][is_center31].sort_values())}\")\n",
    "\n",
    "df_mri['siteID'] = df_mri['siteID'].fillna('')\n",
    "df_mri['MRI_ID'] = df_mri.apply(lambda x: f\"{x['subjectID'][:-1]}_Center{x['center']}Site{x['siteID']}\", axis=1)\n",
    "\n",
    "out_filename = os.sep.join([out_dir, '03-05-mri.csv'])\n",
    "df_mri.to_csv(out_filename, index=False)"
   ]
  },
  {
   "cell_type": "markdown",
   "id": "157fe101",
   "metadata": {},
   "source": [
    "### 03-05-1. check MRI"
   ]
  },
  {
   "cell_type": "code",
   "execution_count": 159,
   "id": "0aa56d60",
   "metadata": {
    "execution": {
     "iopub.execute_input": "2025-05-10T00:14:19.812868Z",
     "iopub.status.busy": "2025-05-10T00:14:19.812779Z",
     "iopub.status.idle": "2025-05-10T00:14:19.817829Z",
     "shell.execute_reply": "2025-05-10T00:14:19.817624Z"
    }
   },
   "outputs": [
    {
     "data": {
      "text/html": [
       "<div>\n",
       "<style scoped>\n",
       "    .dataframe tbody tr th:only-of-type {\n",
       "        vertical-align: middle;\n",
       "    }\n",
       "\n",
       "    .dataframe tbody tr th {\n",
       "        vertical-align: top;\n",
       "    }\n",
       "\n",
       "    .dataframe thead th {\n",
       "        text-align: right;\n",
       "    }\n",
       "</style>\n",
       "<table border=\"1\" class=\"dataframe\">\n",
       "  <thead>\n",
       "    <tr style=\"text-align: right;\">\n",
       "      <th></th>\n",
       "      <th></th>\n",
       "      <th>_count</th>\n",
       "    </tr>\n",
       "    <tr>\n",
       "      <th>uniqueID</th>\n",
       "      <th>MRIReader</th>\n",
       "      <th></th>\n",
       "    </tr>\n",
       "  </thead>\n",
       "  <tbody>\n",
       "  </tbody>\n",
       "</table>\n",
       "</div>"
      ],
      "text/plain": [
       "Empty DataFrame\n",
       "Columns: [_count]\n",
       "Index: []"
      ]
     },
     "execution_count": 159,
     "metadata": {},
     "output_type": "execute_result"
    }
   ],
   "source": [
    "df_mri_groupby = df_mri.groupby(['uniqueID', 'MRIReader']).agg(_count=('uniqueID', 'count'))\n",
    "\n",
    "is_invalid = df_mri_groupby['_count'] > 1\n",
    "df_mri_groupby[is_invalid]"
   ]
  },
  {
   "cell_type": "markdown",
   "id": "cccdd7be",
   "metadata": {},
   "source": [
    "### 03-05-2. check empty"
   ]
  },
  {
   "cell_type": "code",
   "execution_count": 160,
   "id": "b2a5cbfd",
   "metadata": {
    "execution": {
     "iopub.execute_input": "2025-05-10T00:14:19.819186Z",
     "iopub.status.busy": "2025-05-10T00:14:19.819110Z",
     "iopub.status.idle": "2025-05-10T00:14:19.827286Z",
     "shell.execute_reply": "2025-05-10T00:14:19.827043Z"
    }
   },
   "outputs": [
    {
     "name": "stdout",
     "output_type": "stream",
     "text": [
      "(0/77) column: center (671 / 0)\n",
      "(1/77) column: subjectID (671 / 0)\n",
      "(2/77) column: uniqueID (671 / 0)\n",
      "(3/77) column: MRIIncrement (671 / 0)\n",
      "(4/77) column: MRIReader (671 / 0)\n",
      "(5/77) column: MRIReadDate (661 / 10)\n",
      "(6/77) column: MRIDate (594 / 77)\n",
      "(7/77) column: MRIStrength_T (256 / 415)\n",
      "(8/77) column: MRIAdequateQuality (266 / 405)\n",
      "(9/77) column: MRIAdequateQuality_c (670 / 1)\n",
      "(10/77) column: MRIT1Axial (671 / 0)\n",
      "(11/77) column: MRIT1Coronal (671 / 0)\n",
      "(12/77) column: MRIT1Sagittal (671 / 0)\n",
      "(13/77) column: MRIT1 (671 / 0)\n",
      "(14/77) column: MRIT2Axial (671 / 0)\n",
      "(15/77) column: MRIT2Coronal (671 / 0)\n",
      "(16/77) column: MRIT2Sagittal (671 / 0)\n",
      "(17/77) column: MRIT2 (671 / 0)\n",
      "(18/77) column: MRIT2FLAIRAxial (671 / 0)\n",
      "(19/77) column: MRIT2FLAIRCoronal (671 / 0)\n",
      "(20/77) column: MRIT2FLAIRSagittal (671 / 0)\n",
      "(21/77) column: MRIT2FLAIR (671 / 0)\n",
      "(22/77) column: MRIGRESWIAxial (671 / 0)\n",
      "(23/77) column: MRIGRESWICoronal (671 / 0)\n",
      "(24/77) column: MRIGRESWISagittal (671 / 0)\n",
      "(25/77) column: MRIGRESWI (671 / 0)\n",
      "(26/77) column: MRISPGRAxial (671 / 0)\n",
      "(27/77) column: MRISPGRCoronal (671 / 0)\n",
      "(28/77) column: MRISPGRSagittal (671 / 0)\n",
      "(29/77) column: MRISPGR (671 / 0)\n",
      "(30/77) column: MRIDWI (475 / 196)\n",
      "(31/77) column: MRIDWI_c (671 / 0)\n",
      "(32/77) column: MRIADC (1 / 670)\n",
      "(33/77) column: MRIADC_c (669 / 2)\n",
      "(34/77) column: MRIOther (108 / 563)\n",
      "(35/77) column: MRIOther_c (669 / 2)\n",
      "(36/77) column: MRIOtherText (106 / 565)\n",
      "(37/77) column: MRIOverallDiagnosis (671 / 0)\n",
      "(38/77) column: MRIOverallDiagnosis_c (583 / 88)\n",
      "(39/77) column: MRIAbnormal (483 / 188)\n",
      "(40/77) column: MRIAbnormal_c (671 / 0)\n",
      "(41/77) column: MRIMRS (86 / 585)\n",
      "(42/77) column: MRIMRS_c (669 / 2)\n",
      "(43/77) column: MRICerebralAtrophy (514 / 157)\n",
      "(44/77) column: MRICerebralAtrophy_c (535 / 136)\n",
      "(45/77) column: MRICerebralAtrophyRegion (5 / 666)\n",
      "(46/77) column: MRICerebralAtrophyQualAssessCC (535 / 136)\n",
      "(47/77) column: MRICerebralAtrophyQualAssessCC_c (515 / 156)\n",
      "(48/77) column: MRICerebralAtrophyQualAssessVDLeft (535 / 136)\n",
      "(49/77) column: MRICerebralAtrophyQualAssessVDLeft_c (515 / 156)\n",
      "(50/77) column: MRICerebralAtrophyQualAssessVDRight (535 / 136)\n",
      "(51/77) column: MRICerebralAtrophyQualAssessVDRight_c (514 / 157)\n",
      "(52/77) column: MRIInfarction (423 / 248)\n",
      "(53/77) column: MRIInfarction_c (535 / 136)\n",
      "(54/77) column: MRIInfarctionArterialTerritoryLeft (535 / 136)\n",
      "(55/77) column: MRIInfarctionArterialTerritoryRight (535 / 136)\n",
      "(56/77) column: MRIMidlineShift (433 / 238)\n",
      "(57/77) column: MRIMidlineShift_c (535 / 136)\n",
      "(58/77) column: MRICerebralAtrophyGlobalLocal (535 / 136)\n",
      "(59/77) column: MRICerebralAtrophyGlobalLocal_c (32 / 639)\n",
      "(60/77) column: MRIBGT (482 / 189)\n",
      "(61/77) column: MRIBGT_c (433 / 238)\n",
      "(62/77) column: MRIPLIC (482 / 189)\n",
      "(63/77) column: MRIPLIC_c (433 / 238)\n",
      "(64/77) column: MRIWatershed (482 / 189)\n",
      "(65/77) column: MRIWatershed_c (425 / 246)\n",
      "(66/77) column: MRIWhiteMatterInjury (482 / 189)\n",
      "(67/77) column: MRIWhiteMatterInjury_c (424 / 247)\n",
      "(68/77) column: MRIComment (58 / 613)\n",
      "(69/77) column: MRINRNPatternOfInjury (669 / 2)\n",
      "(70/77) column: MRINRNPatternOfInjury_c (665 / 6)\n",
      "(71/77) column: MRINRNPatternOfInjuryExtent (669 / 2)\n",
      "(72/77) column: MRINRNPatternOfInjuryExtent_c (408 / 263)\n",
      "(73/77) column: MRINRNPatternOfInjuryLateral (669 / 2)\n",
      "(74/77) column: MRINRNPatternOfInjuryLateral_c (502 / 169)\n",
      "(75/77) column: siteID (671 / 0)\n",
      "(76/77) column: MRI_ID (671 / 0)\n"
     ]
    }
   ],
   "source": [
    "COMBINE_harmonizer.check_empty(df_mri)"
   ]
  },
  {
   "cell_type": "code",
   "execution_count": 161,
   "id": "fb692922",
   "metadata": {
    "execution": {
     "iopub.execute_input": "2025-05-10T00:14:19.828505Z",
     "iopub.status.busy": "2025-05-10T00:14:19.828421Z",
     "iopub.status.idle": "2025-05-10T00:14:19.833701Z",
     "shell.execute_reply": "2025-05-10T00:14:19.833376Z"
    }
   },
   "outputs": [
    {
     "name": "stdout",
     "output_type": "stream",
     "text": [
      "(0/77) center: (671/0)\n",
      "(1/77) subjectID: (671/0)\n",
      "(2/77) uniqueID: (671/0)\n",
      "(3/77) MRIIncrement: (671/0)\n",
      "(4/77) MRIReader: (671/0)\n",
      "(5/77) MRIReadDate: (661/10)\n",
      "(6/77) MRIDate: (594/77)\n",
      "(7/77) MRIStrength_T: (256/415)\n",
      "(8/77) MRIAdequateQuality: (266/405)\n",
      "(9/77) MRIAdequateQuality_c: (670/1)\n",
      "(10/77) MRIT1Axial: (671/0)\n",
      "(11/77) MRIT1Coronal: (671/0)\n",
      "(12/77) MRIT1Sagittal: (671/0)\n",
      "(13/77) MRIT1: (671/0)\n",
      "(14/77) MRIT2Axial: (671/0)\n",
      "(15/77) MRIT2Coronal: (671/0)\n",
      "(16/77) MRIT2Sagittal: (671/0)\n",
      "(17/77) MRIT2: (671/0)\n",
      "(18/77) MRIT2FLAIRAxial: (671/0)\n",
      "(19/77) MRIT2FLAIRCoronal: (671/0)\n",
      "(20/77) MRIT2FLAIRSagittal: (671/0)\n",
      "(21/77) MRIT2FLAIR: (671/0)\n",
      "(22/77) MRIGRESWIAxial: (671/0)\n",
      "(23/77) MRIGRESWICoronal: (671/0)\n",
      "(24/77) MRIGRESWISagittal: (671/0)\n",
      "(25/77) MRIGRESWI: (671/0)\n",
      "(26/77) MRISPGRAxial: (671/0)\n",
      "(27/77) MRISPGRCoronal: (671/0)\n",
      "(28/77) MRISPGRSagittal: (671/0)\n",
      "(29/77) MRISPGR: (671/0)\n",
      "(30/77) MRIDWI: (475/196)\n",
      "(31/77) MRIDWI_c: (671/0)\n",
      "(32/77) MRIADC: (1/670)\n",
      "(33/77) MRIADC_c: (669/2)\n",
      "(34/77) MRIOther: (108/563)\n",
      "(35/77) MRIOther_c: (669/2)\n",
      "(36/77) MRIOtherText: (106/565)\n",
      "(37/77) MRIOverallDiagnosis: (671/0)\n",
      "(38/77) MRIOverallDiagnosis_c: (583/88)\n",
      "(39/77) MRIAbnormal: (483/188)\n",
      "(40/77) MRIAbnormal_c: (671/0)\n",
      "(41/77) MRIMRS: (86/585)\n",
      "(42/77) MRIMRS_c: (669/2)\n",
      "(43/77) MRICerebralAtrophy: (514/157)\n",
      "(44/77) MRICerebralAtrophy_c: (535/136)\n",
      "(45/77) MRICerebralAtrophyRegion: (5/666)\n",
      "(46/77) MRICerebralAtrophyQualAssessCC: (535/136)\n",
      "(47/77) MRICerebralAtrophyQualAssessCC_c: (515/156)\n",
      "(48/77) MRICerebralAtrophyQualAssessVDLeft: (535/136)\n",
      "(49/77) MRICerebralAtrophyQualAssessVDLeft_c: (515/156)\n",
      "(50/77) MRICerebralAtrophyQualAssessVDRight: (535/136)\n",
      "(51/77) MRICerebralAtrophyQualAssessVDRight_c: (514/157)\n",
      "(52/77) MRIInfarction: (423/248)\n",
      "(53/77) MRIInfarction_c: (535/136)\n",
      "(54/77) MRIInfarctionArterialTerritoryLeft: (535/136)\n",
      "(55/77) MRIInfarctionArterialTerritoryRight: (535/136)\n",
      "(56/77) MRIMidlineShift: (433/238)\n",
      "(57/77) MRIMidlineShift_c: (535/136)\n",
      "(58/77) MRICerebralAtrophyGlobalLocal: (535/136)\n",
      "(59/77) MRICerebralAtrophyGlobalLocal_c: (32/639)\n",
      "(60/77) MRIBGT: (482/189)\n",
      "(61/77) MRIBGT_c: (433/238)\n",
      "(62/77) MRIPLIC: (482/189)\n",
      "(63/77) MRIPLIC_c: (433/238)\n",
      "(64/77) MRIWatershed: (482/189)\n",
      "(65/77) MRIWatershed_c: (425/246)\n",
      "(66/77) MRIWhiteMatterInjury: (482/189)\n",
      "(67/77) MRIWhiteMatterInjury_c: (424/247)\n",
      "(68/77) MRIComment: (58/613)\n",
      "(69/77) MRINRNPatternOfInjury: (669/2)\n",
      "(70/77) MRINRNPatternOfInjury_c: (665/6)\n",
      "(71/77) MRINRNPatternOfInjuryExtent: (669/2)\n",
      "(72/77) MRINRNPatternOfInjuryExtent_c: (408/263)\n",
      "(73/77) MRINRNPatternOfInjuryLateral: (669/2)\n",
      "(74/77) MRINRNPatternOfInjuryLateral_c: (502/169)\n",
      "(75/77) siteID: (671/0)\n",
      "(76/77) MRI_ID: (671/0)\n"
     ]
    }
   ],
   "source": [
    "COMBINE_harmonizer.column_info(df_mri)"
   ]
  },
  {
   "cell_type": "markdown",
   "id": "ce7656cf",
   "metadata": {},
   "source": [
    "### 03-05-3. MRI summary"
   ]
  },
  {
   "cell_type": "code",
   "execution_count": 162,
   "id": "fdafeb3f-f88c-4744-b6af-085734f8090b",
   "metadata": {
    "execution": {
     "iopub.execute_input": "2025-05-10T00:14:19.835460Z",
     "iopub.status.busy": "2025-05-10T00:14:19.835351Z",
     "iopub.status.idle": "2025-05-10T00:14:19.912062Z",
     "shell.execute_reply": "2025-05-10T00:14:19.911831Z"
    }
   },
   "outputs": [
    {
     "name": "stdout",
     "output_type": "stream",
     "text": [
      "(0/3) filename: ocmr01.csv columns: ['center', 'subjectID', 'birthNumber', 'siteID', 'MRIAvailable', 'MRIAvailable_c', 'MRINoObtainReason', 'MRINoObtainReason_c', 'MRINoObtainReasonText', 'MRIObtainWindow', 'MRIObtainWindow_c', 'MRIObtainComment', 'FormStatus', 'DateComplete', 'DateCreated', 'KeyedUser']\n",
      "(1/3) filename: ocmr02.csv columns: ['center', 'subjectID', 'MRIDate', 'MRITime', 'MRISendRTIDate', 'OM2INIT', 'MRIReceiveRTIDate', 'FormStatus', 'DateComplete', 'DateCreated', 'KeyedUser']\n",
      "(2/3) filename: analysis.csv columns: ['subjectID', 'center', 'ocfolnum', 'fcenter', 'treatmentAssignmentDuration_hr', 'treatmentAssignmentTemperature', 'hie_fix', 'blindness', 'hearing', 'hear_imp', 'gross', 'cp_out', 'modsevcp', 'bayley3', 'b3_lang', 'b3_motor', 'mult_imp', 'death18', 'gas_tube', 'all_norm', 'adjudicate', 'deathAge_day', 'Apgar10minLess5', 'motherEducation2', 'pre_Anticonvulsants_b', 'pre_InotropicAgent', 'dischargeInotropicAgent', 'emergencyCSection', 'maleSex', 'Apgar5minLessEq5', 'Apgar10minLessEq5', 'ageRand_hr', 'hosp_die', 'dischargeAnticonvulsants', 'any_seiz', 'seiz_fu', 'disab_ms', 'disab_4', 'disab_die', 'disab_die4', 'MRIOtherCerebralLesion', 'MRIEdema', 'MRIOverallDiagnosisMerge', 'MRINRNPatternOfInjury', 'out_grp', 'MRIAge_day', 'MRIHemisphericDevastation', 'MRIFrontalLesion', 'MRIParietalLesion', 'MRITemporalLesion', 'MRIOccipitalLesion', 'MRICerebralLesionLobe', 'MRIFrontalParietalLesion', 'MRIParietalTemporalLesion', 'MRITemporalOccipitalLesion', 'MRIParasagittalLesion', 'MRIPreirolandicLesion', 'MRIPerisylvianLesion', 'MRIInsularLesion', 'MRIIntraventricularLesion', 'MRICerebellarLesion', 'MRICoronaRadiataLesion', 'MRIHippocampusLesion', 'MRIBrainstemLesion', 'MRIPituitaryLesion', 'MRIHypothalamusLesion', 'MRIOpticChiasmLesion', 'MRIExtraAxialLesion', 'MRIScalpLesion', 'MRIBasalGangliaLesion', 'MRIThalamusLesion', 'MRICorpusCallosumLesion', 'MRIVascularLesion', 'MRIOtherLesion', 'MRIParietalOccipitalLesion', 'MRIVascularTerritoryInfarctionMerge', 'MRICerebralAtrophyMerge', 'MRICerebralAtrophyGlobalLocalMerge', 'MRICerebralAtrophyQualAssessCCMerge', 'MRIVentricularDilatation', 'MRIBGTMerge', 'MRIPLICMerge', 'MRIWatershedMerge', 'MRIWhiteMatterInjuryMerge', 'MRIExtent', 'MRILateralityMerge', 'MRILateralHemisphericDevastation', 'MRICerebralLesion', 'MRIAnalysis', 'MRIAbnormalResult', 'motherInsurancePublic', 'MRINRNPatternOfInjuryWSvsBGTPLIC', 'MRI2LevelPatternOfInjury', 'perinatalSentinelEvent', 'acidosis', 'usualCoolingTreatmentGroup', 'initBloodGasPH', 'initBloodGasPHSrc', 'initBloodGasBaseDeficit_mEqPerL', 'initBloodGasBaseDeficit_mEqPerLSrc', 'motherRace2']\n",
      "(2/124) birthNumber not in columns\n",
      "(3/124) siteID not in columns\n",
      "(12/124) FormStatus not in columns\n",
      "(13/124) DateComplete not in columns\n",
      "(14/124) DateCreated not in columns\n",
      "(15/124) KeyedUser not in columns\n",
      "(19/124) OM2INIT not in columns\n",
      "(21/124) FormStatus:ocmr02 not in columns\n",
      "(22/124) DateComplete:ocmr02 not in columns\n",
      "(23/124) DateCreated:ocmr02 not in columns\n",
      "(24/124) KeyedUser:ocmr02 not in columns\n",
      "(25/124) ocfolnum not in columns\n",
      "(26/124) fcenter not in columns\n",
      "(27/124) treatmentAssignmentDuration_hr not in columns\n",
      "(28/124) treatmentAssignmentTemperature not in columns\n",
      "(29/124) hie_fix not in columns\n",
      "(30/124) blindness not in columns\n",
      "(31/124) hearing not in columns\n",
      "(32/124) hear_imp not in columns\n",
      "(33/124) gross not in columns\n",
      "(34/124) cp_out not in columns\n",
      "(35/124) modsevcp not in columns\n",
      "(36/124) bayley3 not in columns\n",
      "(37/124) b3_lang not in columns\n",
      "(38/124) b3_motor not in columns\n",
      "(39/124) mult_imp not in columns\n",
      "(40/124) death18 not in columns\n",
      "(41/124) gas_tube not in columns\n",
      "(42/124) all_norm not in columns\n",
      "(43/124) adjudicate not in columns\n",
      "(44/124) deathAge_day not in columns\n",
      "(45/124) Apgar10minLess5 not in columns\n",
      "(46/124) motherEducation2 not in columns\n",
      "(47/124) pre_Anticonvulsants_b not in columns\n",
      "(48/124) pre_InotropicAgent not in columns\n",
      "(49/124) dischargeInotropicAgent not in columns\n",
      "(50/124) emergencyCSection not in columns\n",
      "(51/124) maleSex not in columns\n",
      "(52/124) Apgar5minLessEq5 not in columns\n",
      "(53/124) Apgar10minLessEq5 not in columns\n",
      "(54/124) ageRand_hr not in columns\n",
      "(55/124) hosp_die not in columns\n",
      "(56/124) dischargeAnticonvulsants not in columns\n",
      "(57/124) any_seiz not in columns\n",
      "(58/124) seiz_fu not in columns\n",
      "(59/124) disab_ms not in columns\n",
      "(60/124) disab_4 not in columns\n",
      "(61/124) disab_die not in columns\n",
      "(62/124) disab_die4 not in columns\n",
      "(67/124) out_grp not in columns\n",
      "(113/124) motherInsurancePublic not in columns\n",
      "(116/124) perinatalSentinelEvent not in columns\n",
      "(117/124) acidosis not in columns\n",
      "(118/124) usualCoolingTreatmentGroup not in columns\n",
      "(119/124) initBloodGasPH not in columns\n",
      "(120/124) initBloodGasPHSrc not in columns\n",
      "(121/124) initBloodGasBaseDeficit_mEqPerL not in columns\n",
      "(122/124) initBloodGasBaseDeficit_mEqPerLSrc not in columns\n",
      "(123/124) motherRace2 not in columns\n"
     ]
    }
   ],
   "source": [
    "df_mri_s = None\n",
    "for idx, each_filename in enumerate(_MRI_FILENAMES_MERGE):\n",
    "    each_df = df_dict[each_filename]\n",
    "    columns = list(each_df.columns)\n",
    "    each_filename_prefix = re.sub(r'\\.csv$', '', each_filename)\n",
    "    print(f'({idx}/{len(_MRI_FILENAMES_MERGE)}) filename: {each_filename} columns: {columns}')\n",
    "\n",
    "    if df_mri_s is None:\n",
    "        df_mri_s = each_df\n",
    "    else:\n",
    "        df_mri_s = df_mri_s.merge(each_df, on=['center', 'subjectID'], how='outer', suffixes=['', ':' + each_filename_prefix])\n",
    "\n",
    "# postprocess\n",
    "df_mri_s = COMBINE_harmonizer.valid_columns(df_mri_s, all_mri_columns, debug_df=True, debug_columns=False)\n",
    "df_mri_s = df_mri_s.drop_duplicates(df_mri_s.columns)\n",
    "df_mri_s = COMBINE_harmonizer.postprocess(df_mri_s)\n",
    "\n",
    "out_filename = os.sep.join([out_dir, '03-05_s-mri.csv'])\n",
    "df_mri_s.to_csv(out_filename, index=False)"
   ]
  },
  {
   "cell_type": "markdown",
   "id": "6e313ffc-f4c8-44b1-9378-86c30428411f",
   "metadata": {},
   "source": [
    "### 03-05-4. check MRI"
   ]
  },
  {
   "cell_type": "code",
   "execution_count": 163,
   "id": "e73b1699-3885-4450-a898-a4565f065767",
   "metadata": {
    "execution": {
     "iopub.execute_input": "2025-05-10T00:14:19.913362Z",
     "iopub.status.busy": "2025-05-10T00:14:19.913279Z",
     "iopub.status.idle": "2025-05-10T00:14:19.917982Z",
     "shell.execute_reply": "2025-05-10T00:14:19.917378Z"
    }
   },
   "outputs": [
    {
     "data": {
      "text/html": [
       "<div>\n",
       "<style scoped>\n",
       "    .dataframe tbody tr th:only-of-type {\n",
       "        vertical-align: middle;\n",
       "    }\n",
       "\n",
       "    .dataframe tbody tr th {\n",
       "        vertical-align: top;\n",
       "    }\n",
       "\n",
       "    .dataframe thead th {\n",
       "        text-align: right;\n",
       "    }\n",
       "</style>\n",
       "<table border=\"1\" class=\"dataframe\">\n",
       "  <thead>\n",
       "    <tr style=\"text-align: right;\">\n",
       "      <th></th>\n",
       "      <th></th>\n",
       "      <th>_count</th>\n",
       "    </tr>\n",
       "    <tr>\n",
       "      <th>uniqueID</th>\n",
       "      <th>MRIReader</th>\n",
       "      <th></th>\n",
       "    </tr>\n",
       "  </thead>\n",
       "  <tbody>\n",
       "  </tbody>\n",
       "</table>\n",
       "</div>"
      ],
      "text/plain": [
       "Empty DataFrame\n",
       "Columns: [_count]\n",
       "Index: []"
      ]
     },
     "execution_count": 163,
     "metadata": {},
     "output_type": "execute_result"
    }
   ],
   "source": [
    "df_mri_s_groupby = df_mri_s.groupby(['uniqueID']).agg(_count=('uniqueID', 'count'))\n",
    "\n",
    "is_invalid = df_mri_groupby['_count'] > 1\n",
    "df_mri_groupby[is_invalid]"
   ]
  },
  {
   "cell_type": "markdown",
   "id": "8799bd47-f6b1-4229-90b6-3222171633f6",
   "metadata": {},
   "source": [
    "### 03-05-5. check empty cells"
   ]
  },
  {
   "cell_type": "code",
   "execution_count": 164,
   "id": "6d24bb73-0808-40a6-b995-054b3f9e9550",
   "metadata": {
    "execution": {
     "iopub.execute_input": "2025-05-10T00:14:19.919649Z",
     "iopub.status.busy": "2025-05-10T00:14:19.919524Z",
     "iopub.status.idle": "2025-05-10T00:14:19.925676Z",
     "shell.execute_reply": "2025-05-10T00:14:19.925454Z"
    }
   },
   "outputs": [
    {
     "name": "stdout",
     "output_type": "stream",
     "text": [
      "(0/66) column: center (364 / 0)\n",
      "(1/66) column: subjectID (364 / 0)\n",
      "(2/66) column: uniqueID (364 / 0)\n",
      "(3/66) column: MRIAvailable (327 / 37)\n",
      "(4/66) column: MRIAvailable_c (327 / 37)\n",
      "(5/66) column: MRINoObtainReason (327 / 37)\n",
      "(6/66) column: MRINoObtainReason_c (10 / 354)\n",
      "(7/66) column: MRINoObtainReasonText (5 / 359)\n",
      "(8/66) column: MRIObtainWindow (327 / 37)\n",
      "(9/66) column: MRIObtainWindow_c (200 / 164)\n",
      "(10/66) column: MRIObtainComment (1 / 363)\n",
      "(11/66) column: MRIDate (200 / 164)\n",
      "(12/66) column: MRITime (200 / 164)\n",
      "(13/66) column: MRISendRTIDate (200 / 164)\n",
      "(14/66) column: MRIReceiveRTIDate (0 / 364)\n",
      "(15/66) column: MRIOtherCerebralLesion (298 / 66)\n",
      "(16/66) column: MRIEdema (298 / 66)\n",
      "(17/66) column: MRIOverallDiagnosisMerge (298 / 66)\n",
      "(18/66) column: MRINRNPatternOfInjury (298 / 66)\n",
      "(19/66) column: MRIAge_day (298 / 66)\n",
      "(20/66) column: MRIHemisphericDevastation (298 / 66)\n",
      "(21/66) column: MRIFrontalLesion (298 / 66)\n",
      "(22/66) column: MRIParietalLesion (298 / 66)\n",
      "(23/66) column: MRITemporalLesion (298 / 66)\n",
      "(24/66) column: MRIOccipitalLesion (298 / 66)\n",
      "(25/66) column: MRICerebralLesionLobe (298 / 66)\n",
      "(26/66) column: MRIFrontalParietalLesion (298 / 66)\n",
      "(27/66) column: MRIParietalTemporalLesion (298 / 66)\n",
      "(28/66) column: MRITemporalOccipitalLesion (298 / 66)\n",
      "(29/66) column: MRIParasagittalLesion (298 / 66)\n",
      "(30/66) column: MRIPreirolandicLesion (298 / 66)\n",
      "(31/66) column: MRIPerisylvianLesion (298 / 66)\n",
      "(32/66) column: MRIInsularLesion (298 / 66)\n",
      "(33/66) column: MRIIntraventricularLesion (298 / 66)\n",
      "(34/66) column: MRICerebellarLesion (298 / 66)\n",
      "(35/66) column: MRICoronaRadiataLesion (298 / 66)\n",
      "(36/66) column: MRIHippocampusLesion (298 / 66)\n",
      "(37/66) column: MRIBrainstemLesion (298 / 66)\n",
      "(38/66) column: MRIPituitaryLesion (298 / 66)\n",
      "(39/66) column: MRIHypothalamusLesion (298 / 66)\n",
      "(40/66) column: MRIOpticChiasmLesion (298 / 66)\n",
      "(41/66) column: MRIExtraAxialLesion (298 / 66)\n",
      "(42/66) column: MRIScalpLesion (298 / 66)\n",
      "(43/66) column: MRIBasalGangliaLesion (298 / 66)\n",
      "(44/66) column: MRIThalamusLesion (298 / 66)\n",
      "(45/66) column: MRICorpusCallosumLesion (298 / 66)\n",
      "(46/66) column: MRIVascularLesion (298 / 66)\n",
      "(47/66) column: MRIOtherLesion (298 / 66)\n",
      "(48/66) column: MRIParietalOccipitalLesion (298 / 66)\n",
      "(49/66) column: MRIVascularTerritoryInfarctionMerge (267 / 97)\n",
      "(50/66) column: MRICerebralAtrophyMerge (297 / 67)\n",
      "(51/66) column: MRICerebralAtrophyGlobalLocalMerge (15 / 349)\n",
      "(52/66) column: MRICerebralAtrophyQualAssessCCMerge (298 / 66)\n",
      "(53/66) column: MRIVentricularDilatation (298 / 66)\n",
      "(54/66) column: MRIBGTMerge (298 / 66)\n",
      "(55/66) column: MRIPLICMerge (298 / 66)\n",
      "(56/66) column: MRIWatershedMerge (298 / 66)\n",
      "(57/66) column: MRIWhiteMatterInjuryMerge (298 / 66)\n",
      "(58/66) column: MRIExtent (169 / 195)\n",
      "(59/66) column: MRILateralityMerge (169 / 195)\n",
      "(60/66) column: MRILateralHemisphericDevastation (32 / 332)\n",
      "(61/66) column: MRICerebralLesion (298 / 66)\n",
      "(62/66) column: MRIAnalysis (298 / 66)\n",
      "(63/66) column: MRIAbnormalResult (298 / 66)\n",
      "(64/66) column: MRINRNPatternOfInjuryWSvsBGTPLIC (296 / 68)\n",
      "(65/66) column: MRI2LevelPatternOfInjury (298 / 66)\n"
     ]
    }
   ],
   "source": [
    "COMBINE_harmonizer.check_empty(df_mri_s)"
   ]
  },
  {
   "cell_type": "code",
   "execution_count": 165,
   "id": "25cf0de2-1be1-4fd3-9fe0-1731272bbd73",
   "metadata": {
    "execution": {
     "iopub.execute_input": "2025-05-10T00:14:19.926821Z",
     "iopub.status.busy": "2025-05-10T00:14:19.926749Z",
     "iopub.status.idle": "2025-05-10T00:14:19.930700Z",
     "shell.execute_reply": "2025-05-10T00:14:19.930470Z"
    }
   },
   "outputs": [
    {
     "name": "stdout",
     "output_type": "stream",
     "text": [
      "(0/66) center: (364/0)\n",
      "(1/66) subjectID: (364/0)\n",
      "(2/66) uniqueID: (364/0)\n",
      "(3/66) MRIAvailable: (327/37)\n",
      "(4/66) MRIAvailable_c: (327/37)\n",
      "(5/66) MRINoObtainReason: (327/37)\n",
      "(6/66) MRINoObtainReason_c: (10/354)\n",
      "(7/66) MRINoObtainReasonText: (5/359)\n",
      "(8/66) MRIObtainWindow: (327/37)\n",
      "(9/66) MRIObtainWindow_c: (200/164)\n",
      "(10/66) MRIObtainComment: (1/363)\n",
      "(11/66) MRIDate: (200/164)\n",
      "(12/66) MRITime: (200/164)\n",
      "(13/66) MRISendRTIDate: (200/164)\n",
      "(14/66) MRIReceiveRTIDate: (0/364)\n",
      "(15/66) MRIOtherCerebralLesion: (298/66)\n",
      "(16/66) MRIEdema: (298/66)\n",
      "(17/66) MRIOverallDiagnosisMerge: (298/66)\n",
      "(18/66) MRINRNPatternOfInjury: (298/66)\n",
      "(19/66) MRIAge_day: (298/66)\n",
      "(20/66) MRIHemisphericDevastation: (298/66)\n",
      "(21/66) MRIFrontalLesion: (298/66)\n",
      "(22/66) MRIParietalLesion: (298/66)\n",
      "(23/66) MRITemporalLesion: (298/66)\n",
      "(24/66) MRIOccipitalLesion: (298/66)\n",
      "(25/66) MRICerebralLesionLobe: (298/66)\n",
      "(26/66) MRIFrontalParietalLesion: (298/66)\n",
      "(27/66) MRIParietalTemporalLesion: (298/66)\n",
      "(28/66) MRITemporalOccipitalLesion: (298/66)\n",
      "(29/66) MRIParasagittalLesion: (298/66)\n",
      "(30/66) MRIPreirolandicLesion: (298/66)\n",
      "(31/66) MRIPerisylvianLesion: (298/66)\n",
      "(32/66) MRIInsularLesion: (298/66)\n",
      "(33/66) MRIIntraventricularLesion: (298/66)\n",
      "(34/66) MRICerebellarLesion: (298/66)\n",
      "(35/66) MRICoronaRadiataLesion: (298/66)\n",
      "(36/66) MRIHippocampusLesion: (298/66)\n",
      "(37/66) MRIBrainstemLesion: (298/66)\n",
      "(38/66) MRIPituitaryLesion: (298/66)\n",
      "(39/66) MRIHypothalamusLesion: (298/66)\n",
      "(40/66) MRIOpticChiasmLesion: (298/66)\n",
      "(41/66) MRIExtraAxialLesion: (298/66)\n",
      "(42/66) MRIScalpLesion: (298/66)\n",
      "(43/66) MRIBasalGangliaLesion: (298/66)\n",
      "(44/66) MRIThalamusLesion: (298/66)\n",
      "(45/66) MRICorpusCallosumLesion: (298/66)\n",
      "(46/66) MRIVascularLesion: (298/66)\n",
      "(47/66) MRIOtherLesion: (298/66)\n",
      "(48/66) MRIParietalOccipitalLesion: (298/66)\n",
      "(49/66) MRIVascularTerritoryInfarctionMerge: (267/97)\n",
      "(50/66) MRICerebralAtrophyMerge: (297/67)\n",
      "(51/66) MRICerebralAtrophyGlobalLocalMerge: (15/349)\n",
      "(52/66) MRICerebralAtrophyQualAssessCCMerge: (298/66)\n",
      "(53/66) MRIVentricularDilatation: (298/66)\n",
      "(54/66) MRIBGTMerge: (298/66)\n",
      "(55/66) MRIPLICMerge: (298/66)\n",
      "(56/66) MRIWatershedMerge: (298/66)\n",
      "(57/66) MRIWhiteMatterInjuryMerge: (298/66)\n",
      "(58/66) MRIExtent: (169/195)\n",
      "(59/66) MRILateralityMerge: (169/195)\n",
      "(60/66) MRILateralHemisphericDevastation: (32/332)\n",
      "(61/66) MRICerebralLesion: (298/66)\n",
      "(62/66) MRIAnalysis: (298/66)\n",
      "(63/66) MRIAbnormalResult: (298/66)\n",
      "(64/66) MRINRNPatternOfInjuryWSvsBGTPLIC: (296/68)\n",
      "(65/66) MRI2LevelPatternOfInjury: (298/66)\n"
     ]
    }
   ],
   "source": [
    "COMBINE_harmonizer.column_info(df_mri_s)"
   ]
  },
  {
   "cell_type": "markdown",
   "id": "0bd45967-4a74-4cad-8d66-f7e58fec3315",
   "metadata": {},
   "source": [
    "## 02-11. elevated temperature"
   ]
  },
  {
   "cell_type": "code",
   "execution_count": null,
   "id": "aee52dbc-e18e-428a-a66d-c7a66a3eb0b5",
   "metadata": {},
   "outputs": [],
   "source": []
  },
  {
   "cell_type": "markdown",
   "id": "013563b7-d587-46ae-bbf5-23b7315ff327",
   "metadata": {},
   "source": [
    "## 02-12. fluctuated temperature"
   ]
  },
  {
   "cell_type": "code",
   "execution_count": null,
   "id": "49ebaa7f-d8ee-4819-9cef-fd011c3547bd",
   "metadata": {},
   "outputs": [],
   "source": []
  },
  {
   "cell_type": "markdown",
   "id": "3f489a18-8905-4bc5-9033-10e60db307f4",
   "metadata": {},
   "source": [
    "## 02-13. bradycardia"
   ]
  },
  {
   "cell_type": "code",
   "execution_count": 166,
   "id": "96d9702e-110b-47d2-bc65-a9c61b5fcd41",
   "metadata": {
    "execution": {
     "iopub.execute_input": "2025-05-10T00:14:19.932349Z",
     "iopub.status.busy": "2025-05-10T00:14:19.932263Z",
     "iopub.status.idle": "2025-05-10T00:14:19.935099Z",
     "shell.execute_reply": "2025-05-10T00:14:19.934861Z"
    }
   },
   "outputs": [
    {
     "data": {
      "text/plain": [
       "['bradycardiaEventNumber',\n",
       " 'bradycardiaLess70Greater15min',\n",
       " 'bradycardiaEKG',\n",
       " 'bradycardiaEKGResult',\n",
       " 'bradycardiaEKGResultOtherText',\n",
       " 'bradycardiaAntiarrhythmiaMedication',\n",
       " 'bradycardiaDate',\n",
       " 'bradycardiaTime',\n",
       " 'bradycardiaDuration',\n",
       " 'bradycardiaHeartRateMin']"
      ]
     },
     "execution_count": 166,
     "metadata": {},
     "output_type": "execute_result"
    }
   ],
   "source": [
    "bradycardia_columns = COMBINE_harmonizer.get_columns(\n",
    "    df_data_dict,\n",
    "    COMBINE_harmonizer.CATEGORY_INTERVENTION,\n",
    "    COMBINE_harmonizer.SUBCATEGORY_BRADYCARDIA)\n",
    "\n",
    "all_bradycardia_columns = id_columns + bradycardia_columns\n",
    "bradycardia_columns"
   ]
  },
  {
   "cell_type": "code",
   "execution_count": 167,
   "id": "067f4582",
   "metadata": {
    "execution": {
     "iopub.execute_input": "2025-05-10T00:14:19.936342Z",
     "iopub.status.busy": "2025-05-10T00:14:19.936263Z",
     "iopub.status.idle": "2025-05-10T00:14:19.994201Z",
     "shell.execute_reply": "2025-05-10T00:14:19.993954Z"
    }
   },
   "outputs": [
    {
     "name": "stdout",
     "output_type": "stream",
     "text": [
      "(5/13) O17INIT not in columns\n"
     ]
    }
   ],
   "source": [
    "df_bradycardia = df_dict['oc17.csv']\n",
    "df_bradycardia = COMBINE_harmonizer.valid_columns(df_bradycardia, all_bradycardia_columns, debug_df=True, debug_columns=False)\n",
    "df_bradycardia = COMBINE_harmonizer.postprocess(df_bradycardia)\n",
    "\n",
    "out_filename = os.sep.join([out_dir, '02-13-bradycardia.csv'])\n",
    "df_bradycardia.to_csv(out_filename, index=False)"
   ]
  },
  {
   "cell_type": "markdown",
   "id": "94d59587-2a92-48f8-a2fe-30f6e5c8dbff",
   "metadata": {},
   "source": [
    "### 02-13-1. check bradycardia"
   ]
  },
  {
   "cell_type": "code",
   "execution_count": 168,
   "id": "e9720a1d-7c9a-45e4-b4ed-b67ce6a767d2",
   "metadata": {
    "execution": {
     "iopub.execute_input": "2025-05-10T00:14:19.995536Z",
     "iopub.status.busy": "2025-05-10T00:14:19.995457Z",
     "iopub.status.idle": "2025-05-10T00:14:19.999875Z",
     "shell.execute_reply": "2025-05-10T00:14:19.999628Z"
    }
   },
   "outputs": [
    {
     "data": {
      "text/html": [
       "<div>\n",
       "<style scoped>\n",
       "    .dataframe tbody tr th:only-of-type {\n",
       "        vertical-align: middle;\n",
       "    }\n",
       "\n",
       "    .dataframe tbody tr th {\n",
       "        vertical-align: top;\n",
       "    }\n",
       "\n",
       "    .dataframe thead th {\n",
       "        text-align: right;\n",
       "    }\n",
       "</style>\n",
       "<table border=\"1\" class=\"dataframe\">\n",
       "  <thead>\n",
       "    <tr style=\"text-align: right;\">\n",
       "      <th></th>\n",
       "      <th></th>\n",
       "      <th>_count</th>\n",
       "    </tr>\n",
       "    <tr>\n",
       "      <th>uniqueID</th>\n",
       "      <th>bradycardiaEventNumber</th>\n",
       "      <th></th>\n",
       "    </tr>\n",
       "  </thead>\n",
       "  <tbody>\n",
       "  </tbody>\n",
       "</table>\n",
       "</div>"
      ],
      "text/plain": [
       "Empty DataFrame\n",
       "Columns: [_count]\n",
       "Index: []"
      ]
     },
     "execution_count": 168,
     "metadata": {},
     "output_type": "execute_result"
    }
   ],
   "source": [
    "df_bradycardia_groupby = df_bradycardia.groupby(['uniqueID', 'bradycardiaEventNumber']).agg(_count=('uniqueID', 'count'))\n",
    "\n",
    "is_invalid = df_bradycardia_groupby['_count'] > 1\n",
    "df_bradycardia_groupby[is_invalid]"
   ]
  },
  {
   "cell_type": "markdown",
   "id": "48b8e4fd",
   "metadata": {},
   "source": [
    "### 02-13-2. check empty cells"
   ]
  },
  {
   "cell_type": "code",
   "execution_count": 169,
   "id": "4bed90aa",
   "metadata": {
    "execution": {
     "iopub.execute_input": "2025-05-10T00:14:20.001066Z",
     "iopub.status.busy": "2025-05-10T00:14:20.000990Z",
     "iopub.status.idle": "2025-05-10T00:14:20.003646Z",
     "shell.execute_reply": "2025-05-10T00:14:20.003438Z"
    }
   },
   "outputs": [
    {
     "name": "stdout",
     "output_type": "stream",
     "text": [
      "(0/13) column: center (210 / 0)\n",
      "(1/13) column: subjectID (210 / 0)\n",
      "(2/13) column: uniqueID (210 / 0)\n",
      "(3/13) column: bradycardiaLess70Greater15min (210 / 0)\n",
      "(4/13) column: bradycardiaEKG (57 / 153)\n",
      "(5/13) column: bradycardiaEKGResultOtherText (1 / 209)\n",
      "(6/13) column: bradycardiaAntiarrhythmiaMedication (57 / 153)\n",
      "(7/13) column: bradycardiaEventNumber (210 / 0)\n",
      "(8/13) column: bradycardiaEKGResult (3 / 207)\n",
      "(9/13) column: bradycardiaDate (57 / 153)\n",
      "(10/13) column: bradycardiaTime (57 / 153)\n",
      "(11/13) column: bradycardiaDuration (54 / 156)\n",
      "(12/13) column: bradycardiaHeartRateMin (54 / 156)\n"
     ]
    }
   ],
   "source": [
    "COMBINE_harmonizer.check_empty(df_bradycardia)"
   ]
  },
  {
   "cell_type": "code",
   "execution_count": 170,
   "id": "fda81298-a356-42e8-9c27-55abb663cc46",
   "metadata": {
    "execution": {
     "iopub.execute_input": "2025-05-10T00:14:20.004963Z",
     "iopub.status.busy": "2025-05-10T00:14:20.004861Z",
     "iopub.status.idle": "2025-05-10T00:14:20.006951Z",
     "shell.execute_reply": "2025-05-10T00:14:20.006709Z"
    }
   },
   "outputs": [
    {
     "name": "stdout",
     "output_type": "stream",
     "text": [
      "(0/13) center: (210/0)\n",
      "(1/13) subjectID: (210/0)\n",
      "(2/13) uniqueID: (210/0)\n",
      "(3/13) bradycardiaLess70Greater15min: (210/0)\n",
      "(4/13) bradycardiaEKG: (57/153)\n",
      "(5/13) bradycardiaEKGResultOtherText: (1/209)\n",
      "(6/13) bradycardiaAntiarrhythmiaMedication: (57/153)\n",
      "(7/13) bradycardiaEventNumber: (210/0)\n",
      "(8/13) bradycardiaEKGResult: (3/207)\n",
      "(9/13) bradycardiaDate: (57/153)\n",
      "(10/13) bradycardiaTime: (57/153)\n",
      "(11/13) bradycardiaDuration: (54/156)\n",
      "(12/13) bradycardiaHeartRateMin: (54/156)\n"
     ]
    }
   ],
   "source": [
    "COMBINE_harmonizer.column_info(df_bradycardia)"
   ]
  },
  {
   "cell_type": "markdown",
   "id": "dd70adbe-3775-48ec-b880-f2195246f809",
   "metadata": {},
   "source": [
    "## 02-14. adverse event"
   ]
  },
  {
   "cell_type": "code",
   "execution_count": 171,
   "id": "dd71fd91-e9a3-4d57-b205-859038405e40",
   "metadata": {
    "execution": {
     "iopub.execute_input": "2025-05-10T00:14:20.008136Z",
     "iopub.status.busy": "2025-05-10T00:14:20.008036Z",
     "iopub.status.idle": "2025-05-10T00:14:20.010734Z",
     "shell.execute_reply": "2025-05-10T00:14:20.010511Z"
    }
   },
   "outputs": [
    {
     "data": {
      "text/plain": [
       "['adverseEventNumber',\n",
       " 'SAECardiacExperienceOnsetDate',\n",
       " 'SAECardiacExperienceOnsetTime',\n",
       " 'SAECardiacExperienceResolveDate',\n",
       " 'SAECardiacExperienceResolveTime',\n",
       " 'SAECardiacExperienceDueToHypothermia',\n",
       " 'SAECardiacExperienceActionTaken',\n",
       " 'SAECardiacExperienceOutcome',\n",
       " 'SAECardiacExperienceComment',\n",
       " 'SAEMetabolicAcidosisOnsetDate',\n",
       " 'SAEMetabolicAcidosisOnsetTime',\n",
       " 'SAEMetabolicAcidosisResolveDate',\n",
       " 'SAEMetabolicAcidosisResolveTime',\n",
       " 'SAEMetabolicAcidosisDueToHypothermia',\n",
       " 'SAEMetabolicAcidosisActionTaken',\n",
       " 'SAEMetabolicAcidosisOutcome',\n",
       " 'SAEMetabolicAcidosisComment',\n",
       " 'SAEThrombosisExperienceOnsetDate',\n",
       " 'SAEThrombosisExperienceOnsetTime',\n",
       " 'SAEThrombosisExperienceResolveDate',\n",
       " 'SAEThrombosisExperienceResolveTime',\n",
       " 'SAEThrombosisExperienceDueToHypothermia',\n",
       " 'SAEThrombosisExperienceActionTaken',\n",
       " 'SAEThrombosisExperienceOutcome',\n",
       " 'SAEThrombosisExperienceComment',\n",
       " 'SAEBleedingExperienceOnsetDate',\n",
       " 'SAEBleedingExperienceOnsetTime',\n",
       " 'SAEBleedingExperienceResolveDate',\n",
       " 'SAEBleedingExperienceResolveTime',\n",
       " 'SAEBleedingExperienceDueToHypothermia',\n",
       " 'SAEBleedingExperienceActionTaken',\n",
       " 'SAEBleedingExperienceOutcome',\n",
       " 'SAEBleedingExperienceComment',\n",
       " 'SAEAlterationSkinIntegrity',\n",
       " 'SAEAlterationSkinIntegrityOnsetDate',\n",
       " 'SAEAlterationSkinIntegrityResolveDate',\n",
       " 'SAEAlterationSkinIntegrityDueToHypothermia',\n",
       " 'SAEAlterationSkinIntegrityActionTaken',\n",
       " 'SAEAlterationSkinIntegrityOutcome',\n",
       " 'SAEAlterationSkinIntegrityComment',\n",
       " 'SAEDeathDate',\n",
       " 'SAEDeathTime',\n",
       " 'SAEDeathDueToHypothermia',\n",
       " 'SAEDeathActionTaken',\n",
       " 'SAEDeathOutcome',\n",
       " 'SAEDeathComment',\n",
       " 'SAEOther',\n",
       " 'SAEOtherOnsetDate',\n",
       " 'SAEOtherOnsetTime',\n",
       " 'SAEOtherResolveDate',\n",
       " 'SAEOtherResolveTime',\n",
       " 'SAEOtherDueToHypothermia',\n",
       " 'SAEOtherActionTaken',\n",
       " 'SAEOtherOutcome',\n",
       " 'SAEOtherComment']"
      ]
     },
     "execution_count": 171,
     "metadata": {},
     "output_type": "execute_result"
    }
   ],
   "source": [
    "adverse_event_columns = COMBINE_harmonizer.get_columns(\n",
    "    df_data_dict,\n",
    "    COMBINE_harmonizer.CATEGORY_INTERVENTION,\n",
    "    COMBINE_harmonizer.SUBCATEGORY_ADVERSE_EVENT)\n",
    "\n",
    "all_adverse_event_columns = id_columns + adverse_event_columns\n",
    "adverse_event_columns"
   ]
  },
  {
   "cell_type": "code",
   "execution_count": 172,
   "id": "6c680a5c",
   "metadata": {
    "execution": {
     "iopub.execute_input": "2025-05-10T00:14:20.011861Z",
     "iopub.status.busy": "2025-05-10T00:14:20.011773Z",
     "iopub.status.idle": "2025-05-10T00:14:20.064844Z",
     "shell.execute_reply": "2025-05-10T00:14:20.064569Z"
    }
   },
   "outputs": [
    {
     "name": "stdout",
     "output_type": "stream",
     "text": [
      "(7/61) OC15INIT not in columns\n",
      "(8/61) REC_CMP not in columns\n",
      "(50/61) CMP_DATE not in columns\n",
      "(51/61) CRT_DATE not in columns\n"
     ]
    }
   ],
   "source": [
    "df_adverse_event = df_dict['oc15.csv']\n",
    "df_adverse_event = COMBINE_harmonizer.valid_columns(df_adverse_event, all_adverse_event_columns, debug_df=True, debug_columns=True)\n",
    "df_adverse_event = COMBINE_harmonizer.postprocess(df_adverse_event)\n",
    "\n",
    "out_filename = os.sep.join([out_dir, '02-14-adverse-event.csv'])\n",
    "df_adverse_event.to_csv(out_filename, index=False)"
   ]
  },
  {
   "cell_type": "markdown",
   "id": "d4d4999f-b974-47e7-bc4a-541a2cb35b11",
   "metadata": {},
   "source": [
    "### 02-14-1. check adverse event"
   ]
  },
  {
   "cell_type": "code",
   "execution_count": 173,
   "id": "d588ead9-46d9-4efa-8774-151063361375",
   "metadata": {
    "execution": {
     "iopub.execute_input": "2025-05-10T00:14:20.066211Z",
     "iopub.status.busy": "2025-05-10T00:14:20.066137Z",
     "iopub.status.idle": "2025-05-10T00:14:20.070506Z",
     "shell.execute_reply": "2025-05-10T00:14:20.070296Z"
    }
   },
   "outputs": [
    {
     "data": {
      "text/html": [
       "<div>\n",
       "<style scoped>\n",
       "    .dataframe tbody tr th:only-of-type {\n",
       "        vertical-align: middle;\n",
       "    }\n",
       "\n",
       "    .dataframe tbody tr th {\n",
       "        vertical-align: top;\n",
       "    }\n",
       "\n",
       "    .dataframe thead th {\n",
       "        text-align: right;\n",
       "    }\n",
       "</style>\n",
       "<table border=\"1\" class=\"dataframe\">\n",
       "  <thead>\n",
       "    <tr style=\"text-align: right;\">\n",
       "      <th></th>\n",
       "      <th></th>\n",
       "      <th>_count</th>\n",
       "    </tr>\n",
       "    <tr>\n",
       "      <th>uniqueID</th>\n",
       "      <th>adverseEventNumber</th>\n",
       "      <th></th>\n",
       "    </tr>\n",
       "  </thead>\n",
       "  <tbody>\n",
       "  </tbody>\n",
       "</table>\n",
       "</div>"
      ],
      "text/plain": [
       "Empty DataFrame\n",
       "Columns: [_count]\n",
       "Index: []"
      ]
     },
     "execution_count": 173,
     "metadata": {},
     "output_type": "execute_result"
    }
   ],
   "source": [
    "df_adverse_event_groupby = df_adverse_event.groupby(['uniqueID', 'adverseEventNumber']).agg(_count=('uniqueID', 'count'))\n",
    "\n",
    "is_invalid = df_adverse_event_groupby['_count'] > 1\n",
    "df_adverse_event_groupby[is_invalid]"
   ]
  },
  {
   "cell_type": "markdown",
   "id": "422d8553-1aa9-4467-9f70-8ea595ffbe1e",
   "metadata": {},
   "source": [
    "### 02-14-2. check empty cells"
   ]
  },
  {
   "cell_type": "code",
   "execution_count": 174,
   "id": "21705d3b-c652-4117-b8ab-951f204dea0e",
   "metadata": {
    "execution": {
     "iopub.execute_input": "2025-05-10T00:14:20.072214Z",
     "iopub.status.busy": "2025-05-10T00:14:20.072110Z",
     "iopub.status.idle": "2025-05-10T00:14:20.077113Z",
     "shell.execute_reply": "2025-05-10T00:14:20.076872Z"
    }
   },
   "outputs": [
    {
     "name": "stdout",
     "output_type": "stream",
     "text": [
      "(0/58) column: center (93 / 0)\n",
      "(1/58) column: subjectID (93 / 0)\n",
      "(2/58) column: uniqueID (93 / 0)\n",
      "(3/58) column: SAECardiacExperienceComment (10 / 83)\n",
      "(4/58) column: SAEMetabolicAcidosisComment (6 / 87)\n",
      "(5/58) column: SAEThrombosisExperienceComment (1 / 92)\n",
      "(6/58) column: SAEBleedingExperienceComment (5 / 88)\n",
      "(7/58) column: SAEAlterationSkinIntegrityComment (9 / 84)\n",
      "(8/58) column: SAEDeathComment (5 / 88)\n",
      "(9/58) column: adverseEventNumber (93 / 0)\n",
      "(10/58) column: SAECardiacExperienceOnsetDate (12 / 81)\n",
      "(11/58) column: SAECardiacExperienceOnsetTime (12 / 81)\n",
      "(12/58) column: SAECardiacExperienceResolveDate (11 / 82)\n",
      "(13/58) column: SAECardiacExperienceResolveTime (11 / 82)\n",
      "(14/58) column: SAECardiacExperienceDueToHypothermia (12 / 81)\n",
      "(15/58) column: SAECardiacExperienceActionTaken (12 / 81)\n",
      "(16/58) column: SAECardiacExperienceOutcome (12 / 81)\n",
      "(17/58) column: SAEMetabolicAcidosisOnsetDate (8 / 85)\n",
      "(18/58) column: SAEMetabolicAcidosisOnsetTime (8 / 85)\n",
      "(19/58) column: SAEMetabolicAcidosisResolveDate (5 / 88)\n",
      "(20/58) column: SAEMetabolicAcidosisResolveTime (5 / 88)\n",
      "(21/58) column: SAEMetabolicAcidosisDueToHypothermia (8 / 85)\n",
      "(22/58) column: SAEMetabolicAcidosisActionTaken (7 / 86)\n",
      "(23/58) column: SAEMetabolicAcidosisOutcome (8 / 85)\n",
      "(24/58) column: SAEThrombosisExperienceOnsetDate (1 / 92)\n",
      "(25/58) column: SAEThrombosisExperienceOnsetTime (1 / 92)\n",
      "(26/58) column: SAEThrombosisExperienceResolveDate (0 / 93)\n",
      "(27/58) column: SAEThrombosisExperienceResolveTime (0 / 93)\n",
      "(28/58) column: SAEThrombosisExperienceDueToHypothermia (1 / 92)\n",
      "(29/58) column: SAEThrombosisExperienceActionTaken (1 / 92)\n",
      "(30/58) column: SAEThrombosisExperienceOutcome (1 / 92)\n",
      "(31/58) column: SAEBleedingExperienceOnsetDate (7 / 86)\n",
      "(32/58) column: SAEBleedingExperienceOnsetTime (6 / 87)\n",
      "(33/58) column: SAEBleedingExperienceResolveDate (2 / 91)\n",
      "(34/58) column: SAEBleedingExperienceResolveTime (2 / 91)\n",
      "(35/58) column: SAEBleedingExperienceDueToHypothermia (7 / 86)\n",
      "(36/58) column: SAEBleedingExperienceActionTaken (7 / 86)\n",
      "(37/58) column: SAEBleedingExperienceOutcome (7 / 86)\n",
      "(38/58) column: SAEAlterationSkinIntegrity (19 / 74)\n",
      "(39/58) column: SAEAlterationSkinIntegrityOnsetDate (19 / 74)\n",
      "(40/58) column: SAEAlterationSkinIntegrityResolveDate (15 / 78)\n",
      "(41/58) column: SAEAlterationSkinIntegrityDueToHypothermia (19 / 74)\n",
      "(42/58) column: SAEAlterationSkinIntegrityActionTaken (19 / 74)\n",
      "(43/58) column: SAEAlterationSkinIntegrityOutcome (19 / 74)\n",
      "(44/58) column: SAEDeathDate (6 / 87)\n",
      "(45/58) column: SAEDeathTime (6 / 87)\n",
      "(46/58) column: SAEDeathDueToHypothermia (6 / 87)\n",
      "(47/58) column: SAEDeathActionTaken (6 / 87)\n",
      "(48/58) column: SAEDeathOutcome (6 / 87)\n",
      "(49/58) column: SAEOther (47 / 46)\n",
      "(50/58) column: SAEOtherComment (34 / 59)\n",
      "(51/58) column: SAEOtherOnsetDate (47 / 46)\n",
      "(52/58) column: SAEOtherOnsetTime (41 / 52)\n",
      "(53/58) column: SAEOtherResolveDate (15 / 78)\n",
      "(54/58) column: SAEOtherResolveTime (13 / 80)\n",
      "(55/58) column: SAEOtherDueToHypothermia (47 / 46)\n",
      "(56/58) column: SAEOtherActionTaken (47 / 46)\n",
      "(57/58) column: SAEOtherOutcome (47 / 46)\n"
     ]
    }
   ],
   "source": [
    "COMBINE_harmonizer.check_empty(df_adverse_event)"
   ]
  },
  {
   "cell_type": "code",
   "execution_count": 175,
   "id": "b859839b-f683-470c-8412-79e73d3f3e03",
   "metadata": {
    "execution": {
     "iopub.execute_input": "2025-05-10T00:14:20.078304Z",
     "iopub.status.busy": "2025-05-10T00:14:20.078225Z",
     "iopub.status.idle": "2025-05-10T00:14:20.081721Z",
     "shell.execute_reply": "2025-05-10T00:14:20.081506Z"
    }
   },
   "outputs": [
    {
     "name": "stdout",
     "output_type": "stream",
     "text": [
      "(0/58) center: (93/0)\n",
      "(1/58) subjectID: (93/0)\n",
      "(2/58) uniqueID: (93/0)\n",
      "(3/58) SAECardiacExperienceComment: (10/83)\n",
      "(4/58) SAEMetabolicAcidosisComment: (6/87)\n",
      "(5/58) SAEThrombosisExperienceComment: (1/92)\n",
      "(6/58) SAEBleedingExperienceComment: (5/88)\n",
      "(7/58) SAEAlterationSkinIntegrityComment: (9/84)\n",
      "(8/58) SAEDeathComment: (5/88)\n",
      "(9/58) adverseEventNumber: (93/0)\n",
      "(10/58) SAECardiacExperienceOnsetDate: (12/81)\n",
      "(11/58) SAECardiacExperienceOnsetTime: (12/81)\n",
      "(12/58) SAECardiacExperienceResolveDate: (11/82)\n",
      "(13/58) SAECardiacExperienceResolveTime: (11/82)\n",
      "(14/58) SAECardiacExperienceDueToHypothermia: (12/81)\n",
      "(15/58) SAECardiacExperienceActionTaken: (12/81)\n",
      "(16/58) SAECardiacExperienceOutcome: (12/81)\n",
      "(17/58) SAEMetabolicAcidosisOnsetDate: (8/85)\n",
      "(18/58) SAEMetabolicAcidosisOnsetTime: (8/85)\n",
      "(19/58) SAEMetabolicAcidosisResolveDate: (5/88)\n",
      "(20/58) SAEMetabolicAcidosisResolveTime: (5/88)\n",
      "(21/58) SAEMetabolicAcidosisDueToHypothermia: (8/85)\n",
      "(22/58) SAEMetabolicAcidosisActionTaken: (7/86)\n",
      "(23/58) SAEMetabolicAcidosisOutcome: (8/85)\n",
      "(24/58) SAEThrombosisExperienceOnsetDate: (1/92)\n",
      "(25/58) SAEThrombosisExperienceOnsetTime: (1/92)\n",
      "(26/58) SAEThrombosisExperienceResolveDate: (0/93)\n",
      "(27/58) SAEThrombosisExperienceResolveTime: (0/93)\n",
      "(28/58) SAEThrombosisExperienceDueToHypothermia: (1/92)\n",
      "(29/58) SAEThrombosisExperienceActionTaken: (1/92)\n",
      "(30/58) SAEThrombosisExperienceOutcome: (1/92)\n",
      "(31/58) SAEBleedingExperienceOnsetDate: (7/86)\n",
      "(32/58) SAEBleedingExperienceOnsetTime: (6/87)\n",
      "(33/58) SAEBleedingExperienceResolveDate: (2/91)\n",
      "(34/58) SAEBleedingExperienceResolveTime: (2/91)\n",
      "(35/58) SAEBleedingExperienceDueToHypothermia: (7/86)\n",
      "(36/58) SAEBleedingExperienceActionTaken: (7/86)\n",
      "(37/58) SAEBleedingExperienceOutcome: (7/86)\n",
      "(38/58) SAEAlterationSkinIntegrity: (19/74)\n",
      "(39/58) SAEAlterationSkinIntegrityOnsetDate: (19/74)\n",
      "(40/58) SAEAlterationSkinIntegrityResolveDate: (15/78)\n",
      "(41/58) SAEAlterationSkinIntegrityDueToHypothermia: (19/74)\n",
      "(42/58) SAEAlterationSkinIntegrityActionTaken: (19/74)\n",
      "(43/58) SAEAlterationSkinIntegrityOutcome: (19/74)\n",
      "(44/58) SAEDeathDate: (6/87)\n",
      "(45/58) SAEDeathTime: (6/87)\n",
      "(46/58) SAEDeathDueToHypothermia: (6/87)\n",
      "(47/58) SAEDeathActionTaken: (6/87)\n",
      "(48/58) SAEDeathOutcome: (6/87)\n",
      "(49/58) SAEOther: (47/46)\n",
      "(50/58) SAEOtherComment: (34/59)\n",
      "(51/58) SAEOtherOnsetDate: (47/46)\n",
      "(52/58) SAEOtherOnsetTime: (41/52)\n",
      "(53/58) SAEOtherResolveDate: (15/78)\n",
      "(54/58) SAEOtherResolveTime: (13/80)\n",
      "(55/58) SAEOtherDueToHypothermia: (47/46)\n",
      "(56/58) SAEOtherActionTaken: (47/46)\n",
      "(57/58) SAEOtherOutcome: (47/46)\n"
     ]
    }
   ],
   "source": [
    "COMBINE_harmonizer.column_info(df_adverse_event)"
   ]
  },
  {
   "cell_type": "markdown",
   "id": "353298dc-0d11-4201-bf53-c943bb80ea72",
   "metadata": {},
   "source": [
    "## 02-15. violation"
   ]
  },
  {
   "cell_type": "code",
   "execution_count": 176,
   "id": "c1e08a23-d8f4-420c-a82d-9e713d8039f5",
   "metadata": {
    "execution": {
     "iopub.execute_input": "2025-05-10T00:14:20.082946Z",
     "iopub.status.busy": "2025-05-10T00:14:20.082867Z",
     "iopub.status.idle": "2025-05-10T00:14:20.085668Z",
     "shell.execute_reply": "2025-05-10T00:14:20.085446Z"
    }
   },
   "outputs": [
    {
     "data": {
      "text/plain": [
       "['violationNumber',\n",
       " 'violationDate',\n",
       " 'violationNature',\n",
       " 'violationTreatmentAssign',\n",
       " 'violationTreatmentReceive',\n",
       " 'violationOtherText',\n",
       " 'violationCircumstance',\n",
       " 'violationOtherCirumstanceText',\n",
       " 'violationComment']"
      ]
     },
     "execution_count": 176,
     "metadata": {},
     "output_type": "execute_result"
    }
   ],
   "source": [
    "violation_columns = COMBINE_harmonizer.get_columns(\n",
    "    df_data_dict,\n",
    "    COMBINE_harmonizer.CATEGORY_INTERVENTION,\n",
    "    COMBINE_harmonizer.SUBCATEGORY_PROTOCOL_VIOLATION)\n",
    "\n",
    "all_violation_columns = id_columns + violation_columns\n",
    "violation_columns"
   ]
  },
  {
   "cell_type": "code",
   "execution_count": 177,
   "id": "ef96f191",
   "metadata": {
    "execution": {
     "iopub.execute_input": "2025-05-10T00:14:20.086994Z",
     "iopub.status.busy": "2025-05-10T00:14:20.086898Z",
     "iopub.status.idle": "2025-05-10T00:14:20.171475Z",
     "shell.execute_reply": "2025-05-10T00:14:20.170849Z"
    }
   },
   "outputs": [
    {
     "name": "stdout",
     "output_type": "stream",
     "text": [
      "(4/13) OC14NAME not in columns\n",
      "(5/13) OC14INIT not in columns\n"
     ]
    }
   ],
   "source": [
    "df_violation = df_dict['oc14.csv']\n",
    "df_violation = COMBINE_harmonizer.valid_columns(df_violation, all_violation_columns, debug_df=True, debug_columns=False)\n",
    "df_violation = COMBINE_harmonizer.postprocess(df_violation)\n",
    "\n",
    "out_filename = os.sep.join([out_dir, '02-15-violation.csv'])\n",
    "df_violation.to_csv(out_filename, index=False)"
   ]
  },
  {
   "cell_type": "markdown",
   "id": "a92846e0-3d67-4a93-8446-485215f2c736",
   "metadata": {},
   "source": [
    "### 02-15-1. check violation"
   ]
  },
  {
   "cell_type": "code",
   "execution_count": 178,
   "id": "94ba2232-d1b2-48b6-ac25-c04d45f19033",
   "metadata": {
    "execution": {
     "iopub.execute_input": "2025-05-10T00:14:20.174907Z",
     "iopub.status.busy": "2025-05-10T00:14:20.174603Z",
     "iopub.status.idle": "2025-05-10T00:14:20.192854Z",
     "shell.execute_reply": "2025-05-10T00:14:20.192589Z"
    }
   },
   "outputs": [
    {
     "data": {
      "text/html": [
       "<div>\n",
       "<style scoped>\n",
       "    .dataframe tbody tr th:only-of-type {\n",
       "        vertical-align: middle;\n",
       "    }\n",
       "\n",
       "    .dataframe tbody tr th {\n",
       "        vertical-align: top;\n",
       "    }\n",
       "\n",
       "    .dataframe thead th {\n",
       "        text-align: right;\n",
       "    }\n",
       "</style>\n",
       "<table border=\"1\" class=\"dataframe\">\n",
       "  <thead>\n",
       "    <tr style=\"text-align: right;\">\n",
       "      <th></th>\n",
       "      <th></th>\n",
       "      <th>_count</th>\n",
       "    </tr>\n",
       "    <tr>\n",
       "      <th>uniqueID</th>\n",
       "      <th>violationNumber</th>\n",
       "      <th></th>\n",
       "    </tr>\n",
       "  </thead>\n",
       "  <tbody>\n",
       "  </tbody>\n",
       "</table>\n",
       "</div>"
      ],
      "text/plain": [
       "Empty DataFrame\n",
       "Columns: [_count]\n",
       "Index: []"
      ]
     },
     "execution_count": 178,
     "metadata": {},
     "output_type": "execute_result"
    }
   ],
   "source": [
    "df_violation_groupby = df_violation.groupby(['uniqueID', 'violationNumber']).agg(_count=('uniqueID', 'count'))\n",
    "\n",
    "is_invalid = df_violation_groupby['_count'] > 1\n",
    "df_violation_groupby[is_invalid]"
   ]
  },
  {
   "cell_type": "markdown",
   "id": "1b59c5a2-7e51-4432-9e69-ab9f01fc95e7",
   "metadata": {},
   "source": [
    "### 02-15-2. check empty cells"
   ]
  },
  {
   "cell_type": "code",
   "execution_count": 179,
   "id": "dbbedbdf-24f3-4232-9cd3-b634c29a0dc2",
   "metadata": {
    "execution": {
     "iopub.execute_input": "2025-05-10T00:14:20.194255Z",
     "iopub.status.busy": "2025-05-10T00:14:20.194145Z",
     "iopub.status.idle": "2025-05-10T00:14:20.196783Z",
     "shell.execute_reply": "2025-05-10T00:14:20.196558Z"
    }
   },
   "outputs": [
    {
     "name": "stdout",
     "output_type": "stream",
     "text": [
      "(0/12) column: center (104 / 0)\n",
      "(1/12) column: subjectID (104 / 0)\n",
      "(2/12) column: uniqueID (104 / 0)\n",
      "(3/12) column: violationOtherText (102 / 2)\n",
      "(4/12) column: violationOtherCirumstanceText (94 / 10)\n",
      "(5/12) column: violationComment (51 / 53)\n",
      "(6/12) column: violationNumber (104 / 0)\n",
      "(7/12) column: violationDate (104 / 0)\n",
      "(8/12) column: violationNature (104 / 0)\n",
      "(9/12) column: violationTreatmentAssign (0 / 104)\n",
      "(10/12) column: violationTreatmentReceive (0 / 104)\n",
      "(11/12) column: violationCircumstance (104 / 0)\n"
     ]
    }
   ],
   "source": [
    "COMBINE_harmonizer.check_empty(df_violation)"
   ]
  },
  {
   "cell_type": "code",
   "execution_count": 180,
   "id": "6a70ab7f-885f-416c-bba3-0b4a2215a733",
   "metadata": {
    "execution": {
     "iopub.execute_input": "2025-05-10T00:14:20.197941Z",
     "iopub.status.busy": "2025-05-10T00:14:20.197835Z",
     "iopub.status.idle": "2025-05-10T00:14:20.200122Z",
     "shell.execute_reply": "2025-05-10T00:14:20.199750Z"
    }
   },
   "outputs": [
    {
     "name": "stdout",
     "output_type": "stream",
     "text": [
      "(0/12) center: (104/0)\n",
      "(1/12) subjectID: (104/0)\n",
      "(2/12) uniqueID: (104/0)\n",
      "(3/12) violationOtherText: (102/2)\n",
      "(4/12) violationOtherCirumstanceText: (94/10)\n",
      "(5/12) violationComment: (51/53)\n",
      "(6/12) violationNumber: (104/0)\n",
      "(7/12) violationDate: (104/0)\n",
      "(8/12) violationNature: (104/0)\n",
      "(9/12) violationTreatmentAssign: (0/104)\n",
      "(10/12) violationTreatmentReceive: (0/104)\n",
      "(11/12) violationCircumstance: (104/0)\n"
     ]
    }
   ],
   "source": [
    "COMBINE_harmonizer.column_info(df_violation)"
   ]
  },
  {
   "cell_type": "markdown",
   "id": "601b03f8-be9a-485d-ba52-b2586f6954aa",
   "metadata": {},
   "source": [
    "## 02-16. Interrupt"
   ]
  },
  {
   "cell_type": "code",
   "execution_count": 181,
   "id": "8ac5c7cc-2d01-47af-b74c-4ecf1293a971",
   "metadata": {
    "execution": {
     "iopub.execute_input": "2025-05-10T00:14:20.201578Z",
     "iopub.status.busy": "2025-05-10T00:14:20.201472Z",
     "iopub.status.idle": "2025-05-10T00:14:20.204136Z",
     "shell.execute_reply": "2025-05-10T00:14:20.203916Z"
    }
   },
   "outputs": [
    {
     "data": {
      "text/plain": [
       "['interruptNumber',\n",
       " 'interrupt',\n",
       " 'interruptReason',\n",
       " 'interruptReasonText',\n",
       " 'interruptDate',\n",
       " 'interruptTime',\n",
       " 'interruptRestartDate',\n",
       " 'interruptRestartTime',\n",
       " 'interruptRestartEsophagealTemperature_C']"
      ]
     },
     "execution_count": 181,
     "metadata": {},
     "output_type": "execute_result"
    }
   ],
   "source": [
    "interrupt_columns = COMBINE_harmonizer.get_columns(\n",
    "    df_data_dict,\n",
    "    COMBINE_harmonizer.CATEGORY_INTERVENTION,\n",
    "    COMBINE_harmonizer.SUBCATEGORY_INTERRUPTION_OF_INTERVENTION)\n",
    "\n",
    "all_interrupt_columns = id_columns + interrupt_columns\n",
    "interrupt_columns"
   ]
  },
  {
   "cell_type": "code",
   "execution_count": 182,
   "id": "ac461fb8",
   "metadata": {
    "execution": {
     "iopub.execute_input": "2025-05-10T00:14:20.205263Z",
     "iopub.status.busy": "2025-05-10T00:14:20.205172Z",
     "iopub.status.idle": "2025-05-10T00:14:20.262595Z",
     "shell.execute_reply": "2025-05-10T00:14:20.261808Z"
    }
   },
   "outputs": [
    {
     "name": "stdout",
     "output_type": "stream",
     "text": [
      "(3/15) OC10INIT not in columns\n",
      "(4/15) REC_CMP not in columns\n",
      "(13/15) CMP_DATE not in columns\n",
      "(14/15) CRT_DATE not in columns\n"
     ]
    }
   ],
   "source": [
    "df_interrupt = df_dict['oc10.csv']\n",
    "df_interrupt = COMBINE_harmonizer.valid_columns(df_interrupt, all_interrupt_columns, debug_df=True, debug_columns=False)\n",
    "df_interrupt = COMBINE_harmonizer.postprocess(df_interrupt)\n",
    "\n",
    "out_filename = os.sep.join([out_dir, '02-16-interrupt.csv'])\n",
    "df_interrupt.to_csv(out_filename, index=False)"
   ]
  },
  {
   "cell_type": "markdown",
   "id": "cb34c372-45ea-40eb-9f5f-4ee5977d5c98",
   "metadata": {},
   "source": [
    "### 02-16-1. check interrupt"
   ]
  },
  {
   "cell_type": "code",
   "execution_count": 183,
   "id": "d2d601aa-1ff1-4803-b8ce-8296679e731d",
   "metadata": {
    "execution": {
     "iopub.execute_input": "2025-05-10T00:14:20.270352Z",
     "iopub.status.busy": "2025-05-10T00:14:20.269893Z",
     "iopub.status.idle": "2025-05-10T00:14:20.278115Z",
     "shell.execute_reply": "2025-05-10T00:14:20.277894Z"
    }
   },
   "outputs": [
    {
     "data": {
      "text/html": [
       "<div>\n",
       "<style scoped>\n",
       "    .dataframe tbody tr th:only-of-type {\n",
       "        vertical-align: middle;\n",
       "    }\n",
       "\n",
       "    .dataframe tbody tr th {\n",
       "        vertical-align: top;\n",
       "    }\n",
       "\n",
       "    .dataframe thead th {\n",
       "        text-align: right;\n",
       "    }\n",
       "</style>\n",
       "<table border=\"1\" class=\"dataframe\">\n",
       "  <thead>\n",
       "    <tr style=\"text-align: right;\">\n",
       "      <th></th>\n",
       "      <th></th>\n",
       "      <th>_count</th>\n",
       "    </tr>\n",
       "    <tr>\n",
       "      <th>uniqueID</th>\n",
       "      <th>interruptNumber</th>\n",
       "      <th></th>\n",
       "    </tr>\n",
       "  </thead>\n",
       "  <tbody>\n",
       "  </tbody>\n",
       "</table>\n",
       "</div>"
      ],
      "text/plain": [
       "Empty DataFrame\n",
       "Columns: [_count]\n",
       "Index: []"
      ]
     },
     "execution_count": 183,
     "metadata": {},
     "output_type": "execute_result"
    }
   ],
   "source": [
    "df_interrupt_groupby = df_interrupt.groupby(['uniqueID', 'interruptNumber']).agg(_count=('uniqueID', 'count'))\n",
    "\n",
    "is_invalid = df_interrupt_groupby['_count'] > 1\n",
    "df_interrupt_groupby[is_invalid]"
   ]
  },
  {
   "cell_type": "markdown",
   "id": "df8e9940-4bee-41fd-992c-ea760395431d",
   "metadata": {},
   "source": [
    "### 02-16-2. check empty cells"
   ]
  },
  {
   "cell_type": "code",
   "execution_count": 184,
   "id": "e945c758-3a4f-45d7-ae5d-f15699f16930",
   "metadata": {
    "execution": {
     "iopub.execute_input": "2025-05-10T00:14:20.279404Z",
     "iopub.status.busy": "2025-05-10T00:14:20.279331Z",
     "iopub.status.idle": "2025-05-10T00:14:20.282092Z",
     "shell.execute_reply": "2025-05-10T00:14:20.281864Z"
    }
   },
   "outputs": [
    {
     "name": "stdout",
     "output_type": "stream",
     "text": [
      "(0/12) column: center (249 / 0)\n",
      "(1/12) column: subjectID (249 / 0)\n",
      "(2/12) column: uniqueID (249 / 0)\n",
      "(3/12) column: interrupt (249 / 0)\n",
      "(4/12) column: interruptReasonText (16 / 233)\n",
      "(5/12) column: interruptNumber (249 / 0)\n",
      "(6/12) column: interruptReason (20 / 229)\n",
      "(7/12) column: interruptDate (20 / 229)\n",
      "(8/12) column: interruptTime (19 / 230)\n",
      "(9/12) column: interruptRestartDate (14 / 235)\n",
      "(10/12) column: interruptRestartTime (14 / 235)\n",
      "(11/12) column: interruptRestartEsophagealTemperature_C (12 / 237)\n"
     ]
    }
   ],
   "source": [
    "COMBINE_harmonizer.check_empty(df_interrupt)"
   ]
  },
  {
   "cell_type": "code",
   "execution_count": 185,
   "id": "d81906e2-d5ee-4667-93ea-2d739149fbe0",
   "metadata": {
    "execution": {
     "iopub.execute_input": "2025-05-10T00:14:20.283552Z",
     "iopub.status.busy": "2025-05-10T00:14:20.283440Z",
     "iopub.status.idle": "2025-05-10T00:14:20.285579Z",
     "shell.execute_reply": "2025-05-10T00:14:20.285372Z"
    }
   },
   "outputs": [
    {
     "name": "stdout",
     "output_type": "stream",
     "text": [
      "(0/12) center: (249/0)\n",
      "(1/12) subjectID: (249/0)\n",
      "(2/12) uniqueID: (249/0)\n",
      "(3/12) interrupt: (249/0)\n",
      "(4/12) interruptReasonText: (16/233)\n",
      "(5/12) interruptNumber: (249/0)\n",
      "(6/12) interruptReason: (20/229)\n",
      "(7/12) interruptDate: (20/229)\n",
      "(8/12) interruptTime: (19/230)\n",
      "(9/12) interruptRestartDate: (14/235)\n",
      "(10/12) interruptRestartTime: (14/235)\n",
      "(11/12) interruptRestartEsophagealTemperature_C: (12/237)\n"
     ]
    }
   ],
   "source": [
    "COMBINE_harmonizer.column_info(df_interrupt)"
   ]
  },
  {
   "cell_type": "markdown",
   "id": "7dc455a4",
   "metadata": {},
   "source": [
    "## 02-17. Discontinue"
   ]
  },
  {
   "cell_type": "code",
   "execution_count": 186,
   "id": "f5bd6aab",
   "metadata": {
    "execution": {
     "iopub.execute_input": "2025-05-10T00:14:20.286795Z",
     "iopub.status.busy": "2025-05-10T00:14:20.286703Z",
     "iopub.status.idle": "2025-05-10T00:14:20.289247Z",
     "shell.execute_reply": "2025-05-10T00:14:20.289016Z"
    }
   },
   "outputs": [
    {
     "data": {
      "text/plain": [
       "['discontinueDate',\n",
       " 'discontinueTime',\n",
       " 'discontinueBeforeEndPeriod',\n",
       " 'discontinueParentsWithdraw',\n",
       " 'discontinuePhysicianWithdraw',\n",
       " 'discontinueAdverseEvent',\n",
       " 'discontinueECMO',\n",
       " 'discontinueDNR',\n",
       " 'discontinueWdrawSupport',\n",
       " 'discontinueDeath',\n",
       " 'discontinueOther',\n",
       " 'discontinueOtherText']"
      ]
     },
     "execution_count": 186,
     "metadata": {},
     "output_type": "execute_result"
    }
   ],
   "source": [
    "discontinue_columns = COMBINE_harmonizer.get_columns(\n",
    "    df_data_dict,\n",
    "    COMBINE_harmonizer.CATEGORY_INTERVENTION,\n",
    "    COMBINE_harmonizer.SUBCATEGORY_DISCONTINUATION_OF_INTERVENTION)\n",
    "\n",
    "all_discontinue_columns = id_columns + discontinue_columns\n",
    "discontinue_columns"
   ]
  },
  {
   "cell_type": "code",
   "execution_count": 187,
   "id": "8308738a",
   "metadata": {
    "execution": {
     "iopub.execute_input": "2025-05-10T00:14:20.290433Z",
     "iopub.status.busy": "2025-05-10T00:14:20.290330Z",
     "iopub.status.idle": "2025-05-10T00:14:20.291956Z",
     "shell.execute_reply": "2025-05-10T00:14:20.291750Z"
    }
   },
   "outputs": [],
   "source": [
    "def _inverse_discontinue_before_end_period(x):\n",
    "    if x == 'Y':\n",
    "        return 'N'\n",
    "    elif x == 'N':\n",
    "        return 'Y'\n",
    "    else:\n",
    "        return x"
   ]
  },
  {
   "cell_type": "code",
   "execution_count": 188,
   "id": "6c38b8cc",
   "metadata": {
    "execution": {
     "iopub.execute_input": "2025-05-10T00:14:20.293089Z",
     "iopub.status.busy": "2025-05-10T00:14:20.293017Z",
     "iopub.status.idle": "2025-05-10T00:14:20.351936Z",
     "shell.execute_reply": "2025-05-10T00:14:20.351661Z"
    }
   },
   "outputs": [],
   "source": [
    "df_temperature_72_120 = pd.concat([df_dict['oc06t72.csv'], df_dict['oc06t120.csv']]).reset_index()\n",
    "\n",
    "### XXX discontinueBeforeEndPeriod is inversed\n",
    "df_temperature_72_120['discontinueBeforeEndPeriod'] = df_temperature_72_120['discontinueBeforeEndPeriod'].apply(_inverse_discontinue_before_end_period)\n",
    "\n",
    "### XXX discontinue reasons\n",
    "is_discontinue_before_end_period = df_temperature_72_120['discontinueBeforeEndPeriod'] == 'Y'\n",
    "\n",
    "df_temperature_72_120['OC6NCEPR'] = df_temperature_72_120['OC6NCEPR'].apply(COMBINE_harmonizer.to_int)\n",
    "\n",
    "is_discontinue_parents_withdraw = df_temperature_72_120['OC6NCEPR'] == 1\n",
    "df_temperature_72_120.loc[is_discontinue_before_end_period, 'discontinueParentsWithdraw'] = is_discontinue_parents_withdraw\n",
    "\n",
    "is_discontinue_physician_withdraw = df_temperature_72_120['OC6NCEPR'] == 2\n",
    "df_temperature_72_120.loc[is_discontinue_before_end_period, 'discontinuePhysicianWithdraw'] = is_discontinue_physician_withdraw\n",
    "\n",
    "is_discontinue_adverse_event = df_temperature_72_120['OC6NCEPR'] == 3\n",
    "df_temperature_72_120.loc[is_discontinue_before_end_period, 'discontinueAdverseEvent'] = is_discontinue_adverse_event\n",
    "\n",
    "is_discontinue_ecmo = df_temperature_72_120['OC6NCEPR'] == 4\n",
    "df_temperature_72_120.loc[is_discontinue_before_end_period, 'discontinueECMO'] = is_discontinue_ecmo\n",
    "\n",
    "is_discontinue_dnr = df_temperature_72_120['OC6NCEPR'] == 5\n",
    "df_temperature_72_120.loc[is_discontinue_before_end_period, 'discontinueDNR'] = is_discontinue_dnr\n",
    "\n",
    "is_discontinue_wdraw_support = df_temperature_72_120['OC6NCEPR'] == 6\n",
    "df_temperature_72_120.loc[is_discontinue_before_end_period, 'discontinueWdrawSupport'] = is_discontinue_wdraw_support\n",
    "\n",
    "is_discontinue_death = df_temperature_72_120['OC6NCEPR'] == 7\n",
    "df_temperature_72_120.loc[is_discontinue_before_end_period, 'discontinueDeath'] = is_discontinue_death\n",
    "\n",
    "is_discontinue_other = df_temperature_72_120['OC6NCEPR'] == 9\n",
    "df_temperature_72_120.loc[is_discontinue_before_end_period, 'discontinueOther'] = is_discontinue_other\n",
    "\n",
    "# postprocess df_discontinue\n",
    "df_discontinue = COMBINE_harmonizer.valid_columns(df_temperature_72_120, all_discontinue_columns, debug_df=False, debug_columns=True)\n",
    "df_discontinue = COMBINE_harmonizer.postprocess(df_discontinue)\n",
    "\n",
    "out_filename = os.sep.join([out_dir, '02-17-discontinue.csv'])\n",
    "df_discontinue.to_csv(out_filename, index=False)"
   ]
  },
  {
   "cell_type": "markdown",
   "id": "fe7204fa",
   "metadata": {},
   "source": [
    "### 02-17-2. check empty cells"
   ]
  },
  {
   "cell_type": "code",
   "execution_count": 189,
   "id": "7960de36",
   "metadata": {
    "execution": {
     "iopub.execute_input": "2025-05-10T00:14:20.353449Z",
     "iopub.status.busy": "2025-05-10T00:14:20.353358Z",
     "iopub.status.idle": "2025-05-10T00:14:20.356426Z",
     "shell.execute_reply": "2025-05-10T00:14:20.356206Z"
    }
   },
   "outputs": [
    {
     "name": "stdout",
     "output_type": "stream",
     "text": [
      "(0/15) column: center (364 / 0)\n",
      "(1/15) column: subjectID (364 / 0)\n",
      "(2/15) column: uniqueID (364 / 0)\n",
      "(3/15) column: discontinueBeforeEndPeriod (364 / 0)\n",
      "(4/15) column: discontinueOtherText (9 / 355)\n",
      "(5/15) column: discontinueDate (55 / 309)\n",
      "(6/15) column: discontinueTime (55 / 309)\n",
      "(7/15) column: discontinueParentsWithdraw (53 / 311)\n",
      "(8/15) column: discontinuePhysicianWithdraw (53 / 311)\n",
      "(9/15) column: discontinueAdverseEvent (53 / 311)\n",
      "(10/15) column: discontinueECMO (53 / 311)\n",
      "(11/15) column: discontinueDNR (53 / 311)\n",
      "(12/15) column: discontinueWdrawSupport (53 / 311)\n",
      "(13/15) column: discontinueDeath (53 / 311)\n",
      "(14/15) column: discontinueOther (53 / 311)\n"
     ]
    }
   ],
   "source": [
    "COMBINE_harmonizer.check_empty(df_discontinue)"
   ]
  },
  {
   "cell_type": "code",
   "execution_count": 190,
   "id": "8289b2ba",
   "metadata": {
    "execution": {
     "iopub.execute_input": "2025-05-10T00:14:20.357631Z",
     "iopub.status.busy": "2025-05-10T00:14:20.357524Z",
     "iopub.status.idle": "2025-05-10T00:14:20.359856Z",
     "shell.execute_reply": "2025-05-10T00:14:20.359634Z"
    }
   },
   "outputs": [
    {
     "name": "stdout",
     "output_type": "stream",
     "text": [
      "(0/15) center: (364/0)\n",
      "(1/15) subjectID: (364/0)\n",
      "(2/15) uniqueID: (364/0)\n",
      "(3/15) discontinueBeforeEndPeriod: (364/0)\n",
      "(4/15) discontinueOtherText: (9/355)\n",
      "(5/15) discontinueDate: (55/309)\n",
      "(6/15) discontinueTime: (55/309)\n",
      "(7/15) discontinueParentsWithdraw: (53/311)\n",
      "(8/15) discontinuePhysicianWithdraw: (53/311)\n",
      "(9/15) discontinueAdverseEvent: (53/311)\n",
      "(10/15) discontinueECMO: (53/311)\n",
      "(11/15) discontinueDNR: (53/311)\n",
      "(12/15) discontinueWdrawSupport: (53/311)\n",
      "(13/15) discontinueDeath: (53/311)\n",
      "(14/15) discontinueOther: (53/311)\n"
     ]
    }
   ],
   "source": [
    "COMBINE_harmonizer.column_info(df_discontinue)"
   ]
  },
  {
   "cell_type": "markdown",
   "id": "4ef01dbe",
   "metadata": {},
   "source": [
    "## 04-16. Wdraw Support"
   ]
  },
  {
   "cell_type": "code",
   "execution_count": 191,
   "id": "83795b2a",
   "metadata": {
    "execution": {
     "iopub.execute_input": "2025-05-10T00:14:20.361131Z",
     "iopub.status.busy": "2025-05-10T00:14:20.361036Z",
     "iopub.status.idle": "2025-05-10T00:14:20.363807Z",
     "shell.execute_reply": "2025-05-10T00:14:20.363598Z"
    }
   },
   "outputs": [
    {
     "data": {
      "text/plain": [
       "['wdrawSupport',\n",
       " 'wdrawSupportDate',\n",
       " 'wdrawSupportTime',\n",
       " 'wdrawSupportDiscussedWithFamily',\n",
       " 'wdrawSupportRecommendSolelyByClinicalTeam',\n",
       " 'wdrawSupportNeurologicalExam',\n",
       " 'wdrawSupportImagingStudy',\n",
       " 'wdrawSupportEEGFinding',\n",
       " 'wdrawSupportMultisystemOrganFailureOtherThanCNS',\n",
       " 'wdrawSupportBrainBloodFlowScan',\n",
       " 'wdrawSupportParentWish',\n",
       " 'wdrawSupportOther',\n",
       " 'wdrawSupportOtherText']"
      ]
     },
     "execution_count": 191,
     "metadata": {},
     "output_type": "execute_result"
    }
   ],
   "source": [
    "wdraw_support_columns = COMBINE_harmonizer.get_columns(\n",
    "    df_data_dict,\n",
    "    COMBINE_harmonizer.CATEGORY_NICU_DISCHARGE,\n",
    "    COMBINE_harmonizer.SUBCATEGORY_WITHDRAWAL_OF_SUPPORT)\n",
    "\n",
    "all_wdraw_support_columns = id_columns + wdraw_support_columns\n",
    "wdraw_support_columns"
   ]
  },
  {
   "cell_type": "code",
   "execution_count": 192,
   "id": "461a72aa",
   "metadata": {
    "execution": {
     "iopub.execute_input": "2025-05-10T00:14:20.364947Z",
     "iopub.status.busy": "2025-05-10T00:14:20.364857Z",
     "iopub.status.idle": "2025-05-10T00:14:20.422685Z",
     "shell.execute_reply": "2025-05-10T00:14:20.422033Z"
    }
   },
   "outputs": [],
   "source": [
    "df_wdraw_support = COMBINE_harmonizer.valid_columns(df_main, all_wdraw_support_columns, debug_df=False, debug_columns=True)\n",
    "df_wdraw_support = COMBINE_harmonizer.postprocess(df_wdraw_support)\n",
    "\n",
    "out_filename = os.sep.join([out_dir, '04-16-wdraw-support.csv'])\n",
    "df_wdraw_support.to_csv(out_filename, index=False)"
   ]
  },
  {
   "cell_type": "markdown",
   "id": "67f05ec3",
   "metadata": {},
   "source": [
    "### 04-16-1. check wdraw support"
   ]
  },
  {
   "cell_type": "code",
   "execution_count": 193,
   "id": "8a220f98",
   "metadata": {
    "execution": {
     "iopub.execute_input": "2025-05-10T00:14:20.426629Z",
     "iopub.status.busy": "2025-05-10T00:14:20.426309Z",
     "iopub.status.idle": "2025-05-10T00:14:20.431805Z",
     "shell.execute_reply": "2025-05-10T00:14:20.431544Z"
    }
   },
   "outputs": [
    {
     "data": {
      "text/html": [
       "<div>\n",
       "<style scoped>\n",
       "    .dataframe tbody tr th:only-of-type {\n",
       "        vertical-align: middle;\n",
       "    }\n",
       "\n",
       "    .dataframe tbody tr th {\n",
       "        vertical-align: top;\n",
       "    }\n",
       "\n",
       "    .dataframe thead th {\n",
       "        text-align: right;\n",
       "    }\n",
       "</style>\n",
       "<table border=\"1\" class=\"dataframe\">\n",
       "  <thead>\n",
       "    <tr style=\"text-align: right;\">\n",
       "      <th></th>\n",
       "      <th>_count</th>\n",
       "    </tr>\n",
       "    <tr>\n",
       "      <th>uniqueID</th>\n",
       "      <th></th>\n",
       "    </tr>\n",
       "  </thead>\n",
       "  <tbody>\n",
       "  </tbody>\n",
       "</table>\n",
       "</div>"
      ],
      "text/plain": [
       "Empty DataFrame\n",
       "Columns: [_count]\n",
       "Index: []"
      ]
     },
     "execution_count": 193,
     "metadata": {},
     "output_type": "execute_result"
    }
   ],
   "source": [
    "df_wdraw_support_groupby = df_wdraw_support.groupby(['uniqueID']).agg(_count=('uniqueID', 'count'))\n",
    "\n",
    "is_invalid = df_wdraw_support_groupby['_count'] > 1\n",
    "df_wdraw_support_groupby[is_invalid]"
   ]
  },
  {
   "cell_type": "markdown",
   "id": "08da022f",
   "metadata": {},
   "source": [
    "### 04-16-2. check empty cells"
   ]
  },
  {
   "cell_type": "code",
   "execution_count": 194,
   "id": "521aa01a",
   "metadata": {
    "execution": {
     "iopub.execute_input": "2025-05-10T00:14:20.433218Z",
     "iopub.status.busy": "2025-05-10T00:14:20.433075Z",
     "iopub.status.idle": "2025-05-10T00:14:20.435972Z",
     "shell.execute_reply": "2025-05-10T00:14:20.435750Z"
    }
   },
   "outputs": [
    {
     "name": "stdout",
     "output_type": "stream",
     "text": [
      "(0/16) column: center (364 / 0)\n",
      "(1/16) column: subjectID (364 / 0)\n",
      "(2/16) column: uniqueID (364 / 0)\n",
      "(3/16) column: wdrawSupportDiscussedWithFamily (364 / 0)\n",
      "(4/16) column: wdrawSupportRecommendSolelyByClinicalTeam (59 / 305)\n",
      "(5/16) column: wdrawSupportNeurologicalExam (59 / 305)\n",
      "(6/16) column: wdrawSupportImagingStudy (59 / 305)\n",
      "(7/16) column: wdrawSupportEEGFinding (59 / 305)\n",
      "(8/16) column: wdrawSupportMultisystemOrganFailureOtherThanCNS (59 / 305)\n",
      "(9/16) column: wdrawSupportBrainBloodFlowScan (59 / 305)\n",
      "(10/16) column: wdrawSupportParentWish (59 / 305)\n",
      "(11/16) column: wdrawSupportOther (59 / 305)\n",
      "(12/16) column: wdrawSupportOtherText (6 / 358)\n",
      "(13/16) column: wdrawSupport (59 / 305)\n",
      "(14/16) column: wdrawSupportDate (44 / 320)\n",
      "(15/16) column: wdrawSupportTime (43 / 321)\n"
     ]
    }
   ],
   "source": [
    "COMBINE_harmonizer.check_empty(df_wdraw_support)"
   ]
  },
  {
   "cell_type": "code",
   "execution_count": 195,
   "id": "56bb7306",
   "metadata": {
    "execution": {
     "iopub.execute_input": "2025-05-10T00:14:20.437175Z",
     "iopub.status.busy": "2025-05-10T00:14:20.437077Z",
     "iopub.status.idle": "2025-05-10T00:14:20.439428Z",
     "shell.execute_reply": "2025-05-10T00:14:20.439218Z"
    }
   },
   "outputs": [
    {
     "name": "stdout",
     "output_type": "stream",
     "text": [
      "(0/16) center: (364/0)\n",
      "(1/16) subjectID: (364/0)\n",
      "(2/16) uniqueID: (364/0)\n",
      "(3/16) wdrawSupportDiscussedWithFamily: (364/0)\n",
      "(4/16) wdrawSupportRecommendSolelyByClinicalTeam: (59/305)\n",
      "(5/16) wdrawSupportNeurologicalExam: (59/305)\n",
      "(6/16) wdrawSupportImagingStudy: (59/305)\n",
      "(7/16) wdrawSupportEEGFinding: (59/305)\n",
      "(8/16) wdrawSupportMultisystemOrganFailureOtherThanCNS: (59/305)\n",
      "(9/16) wdrawSupportBrainBloodFlowScan: (59/305)\n",
      "(10/16) wdrawSupportParentWish: (59/305)\n",
      "(11/16) wdrawSupportOther: (59/305)\n",
      "(12/16) wdrawSupportOtherText: (6/358)\n",
      "(13/16) wdrawSupport: (59/305)\n",
      "(14/16) wdrawSupportDate: (44/320)\n",
      "(15/16) wdrawSupportTime: (43/321)\n"
     ]
    }
   ],
   "source": [
    "COMBINE_harmonizer.column_info(df_wdraw_support)"
   ]
  },
  {
   "cell_type": "markdown",
   "id": "4ff39ecb",
   "metadata": {},
   "source": [
    "## 04-17. Limitation of Care"
   ]
  },
  {
   "cell_type": "code",
   "execution_count": 196,
   "id": "af1d5948",
   "metadata": {
    "execution": {
     "iopub.execute_input": "2025-05-10T00:14:20.440653Z",
     "iopub.status.busy": "2025-05-10T00:14:20.440562Z",
     "iopub.status.idle": "2025-05-10T00:14:20.442993Z",
     "shell.execute_reply": "2025-05-10T00:14:20.442752Z"
    }
   },
   "outputs": [
    {
     "data": {
      "text/plain": [
       "['limitCareDiscussedWithFamily',\n",
       " 'limitCareRecommendSolelyByClinicalTeam',\n",
       " 'limitCareAgreedByFamilyAndCareTeam',\n",
       " 'limitCareNoFurtherMechanicalVentilationAndIntubation',\n",
       " 'limitCareNoFurtherVentilationWithBagAndMask',\n",
       " 'limitCareNoFurtherMedicationsToSupportBP',\n",
       " 'limitCareNoFurtherChestCompression',\n",
       " 'limitCareNoFurtherEmergencyMedication',\n",
       " 'limitCareDNR',\n",
       " 'limitCareDNRDate',\n",
       " 'limitCareDNRTime']"
      ]
     },
     "execution_count": 196,
     "metadata": {},
     "output_type": "execute_result"
    }
   ],
   "source": [
    "limit_care_columns = COMBINE_harmonizer.get_columns(\n",
    "    df_data_dict,\n",
    "    COMBINE_harmonizer.CATEGORY_NICU_DISCHARGE,\n",
    "    COMBINE_harmonizer.SUBCATEGORY_LIMITATION_OF_CARE)\n",
    "\n",
    "all_limit_care_columns = id_columns + limit_care_columns\n",
    "limit_care_columns"
   ]
  },
  {
   "cell_type": "code",
   "execution_count": 197,
   "id": "07eca890",
   "metadata": {
    "execution": {
     "iopub.execute_input": "2025-05-10T00:14:20.444148Z",
     "iopub.status.busy": "2025-05-10T00:14:20.444057Z",
     "iopub.status.idle": "2025-05-10T00:14:20.499401Z",
     "shell.execute_reply": "2025-05-10T00:14:20.498670Z"
    }
   },
   "outputs": [],
   "source": [
    "df_limit_care = COMBINE_harmonizer.valid_columns(df_main, all_limit_care_columns, debug_df=False, debug_columns=True)\n",
    "df_limit_care = COMBINE_harmonizer.postprocess(df_limit_care)\n",
    "\n",
    "out_filename = os.sep.join([out_dir, '04-17-limit-care.csv'])\n",
    "df_limit_care.to_csv(out_filename, index=False)"
   ]
  },
  {
   "cell_type": "markdown",
   "id": "1a3716d7",
   "metadata": {},
   "source": [
    "### 04-17-1. check limit care"
   ]
  },
  {
   "cell_type": "code",
   "execution_count": 198,
   "id": "8a33dde0",
   "metadata": {
    "execution": {
     "iopub.execute_input": "2025-05-10T00:14:20.506001Z",
     "iopub.status.busy": "2025-05-10T00:14:20.505863Z",
     "iopub.status.idle": "2025-05-10T00:14:20.510376Z",
     "shell.execute_reply": "2025-05-10T00:14:20.510152Z"
    }
   },
   "outputs": [
    {
     "data": {
      "text/html": [
       "<div>\n",
       "<style scoped>\n",
       "    .dataframe tbody tr th:only-of-type {\n",
       "        vertical-align: middle;\n",
       "    }\n",
       "\n",
       "    .dataframe tbody tr th {\n",
       "        vertical-align: top;\n",
       "    }\n",
       "\n",
       "    .dataframe thead th {\n",
       "        text-align: right;\n",
       "    }\n",
       "</style>\n",
       "<table border=\"1\" class=\"dataframe\">\n",
       "  <thead>\n",
       "    <tr style=\"text-align: right;\">\n",
       "      <th></th>\n",
       "      <th>_count</th>\n",
       "    </tr>\n",
       "    <tr>\n",
       "      <th>uniqueID</th>\n",
       "      <th></th>\n",
       "    </tr>\n",
       "  </thead>\n",
       "  <tbody>\n",
       "  </tbody>\n",
       "</table>\n",
       "</div>"
      ],
      "text/plain": [
       "Empty DataFrame\n",
       "Columns: [_count]\n",
       "Index: []"
      ]
     },
     "execution_count": 198,
     "metadata": {},
     "output_type": "execute_result"
    }
   ],
   "source": [
    "df_limit_care_groupby = df_limit_care.groupby(['uniqueID']).agg(_count=('uniqueID', 'count'))\n",
    "\n",
    "is_invalid = df_limit_care_groupby['_count'] > 1\n",
    "df_limit_care_groupby[is_invalid]"
   ]
  },
  {
   "cell_type": "markdown",
   "id": "fa75c7e5",
   "metadata": {},
   "source": [
    "### 04-17-2. check empty cells"
   ]
  },
  {
   "cell_type": "code",
   "execution_count": 199,
   "id": "1fd4d94a",
   "metadata": {
    "execution": {
     "iopub.execute_input": "2025-05-10T00:14:20.511723Z",
     "iopub.status.busy": "2025-05-10T00:14:20.511644Z",
     "iopub.status.idle": "2025-05-10T00:14:20.514394Z",
     "shell.execute_reply": "2025-05-10T00:14:20.514179Z"
    }
   },
   "outputs": [
    {
     "name": "stdout",
     "output_type": "stream",
     "text": [
      "(0/14) column: center (364 / 0)\n",
      "(1/14) column: subjectID (364 / 0)\n",
      "(2/14) column: uniqueID (364 / 0)\n",
      "(3/14) column: limitCareDiscussedWithFamily (364 / 0)\n",
      "(4/14) column: limitCareRecommendSolelyByClinicalTeam (45 / 319)\n",
      "(5/14) column: limitCareAgreedByFamilyAndCareTeam (45 / 319)\n",
      "(6/14) column: limitCareNoFurtherMechanicalVentilationAndIntubation (40 / 324)\n",
      "(7/14) column: limitCareNoFurtherVentilationWithBagAndMask (40 / 324)\n",
      "(8/14) column: limitCareNoFurtherMedicationsToSupportBP (40 / 324)\n",
      "(9/14) column: limitCareNoFurtherChestCompression (40 / 324)\n",
      "(10/14) column: limitCareNoFurtherEmergencyMedication (40 / 324)\n",
      "(11/14) column: limitCareDNR (45 / 319)\n",
      "(12/14) column: limitCareDNRDate (27 / 337)\n",
      "(13/14) column: limitCareDNRTime (22 / 342)\n"
     ]
    }
   ],
   "source": [
    "COMBINE_harmonizer.check_empty(df_limit_care)"
   ]
  },
  {
   "cell_type": "code",
   "execution_count": 200,
   "id": "48aca8e1",
   "metadata": {
    "execution": {
     "iopub.execute_input": "2025-05-10T00:14:20.515601Z",
     "iopub.status.busy": "2025-05-10T00:14:20.515505Z",
     "iopub.status.idle": "2025-05-10T00:14:20.517716Z",
     "shell.execute_reply": "2025-05-10T00:14:20.517512Z"
    }
   },
   "outputs": [
    {
     "name": "stdout",
     "output_type": "stream",
     "text": [
      "(0/14) center: (364/0)\n",
      "(1/14) subjectID: (364/0)\n",
      "(2/14) uniqueID: (364/0)\n",
      "(3/14) limitCareDiscussedWithFamily: (364/0)\n",
      "(4/14) limitCareRecommendSolelyByClinicalTeam: (45/319)\n",
      "(5/14) limitCareAgreedByFamilyAndCareTeam: (45/319)\n",
      "(6/14) limitCareNoFurtherMechanicalVentilationAndIntubation: (40/324)\n",
      "(7/14) limitCareNoFurtherVentilationWithBagAndMask: (40/324)\n",
      "(8/14) limitCareNoFurtherMedicationsToSupportBP: (40/324)\n",
      "(9/14) limitCareNoFurtherChestCompression: (40/324)\n",
      "(10/14) limitCareNoFurtherEmergencyMedication: (40/324)\n",
      "(11/14) limitCareDNR: (45/319)\n",
      "(12/14) limitCareDNRDate: (27/337)\n",
      "(13/14) limitCareDNRTime: (22/342)\n"
     ]
    }
   ],
   "source": [
    "COMBINE_harmonizer.column_info(df_limit_care)"
   ]
  },
  {
   "cell_type": "markdown",
   "id": "9f7c2fcc",
   "metadata": {},
   "source": [
    "## 04-01. Status"
   ]
  },
  {
   "cell_type": "code",
   "execution_count": 201,
   "id": "4d0cfafa",
   "metadata": {
    "execution": {
     "iopub.execute_input": "2025-05-10T00:14:20.519105Z",
     "iopub.status.busy": "2025-05-10T00:14:20.518993Z",
     "iopub.status.idle": "2025-05-10T00:14:20.521633Z",
     "shell.execute_reply": "2025-05-10T00:14:20.521425Z"
    }
   },
   "outputs": [
    {
     "data": {
      "text/plain": [
       "['experimentStatus',\n",
       " 'status',\n",
       " 'statusDate',\n",
       " 'dischargeStatus',\n",
       " 'dischargeDate',\n",
       " 'dischargeWeight_g',\n",
       " 'dischargeLength_cm',\n",
       " 'dischargeHeadCircumference_cm',\n",
       " 'transferReason',\n",
       " 'transferDate',\n",
       " 'transferWeight_g',\n",
       " 'transferLength_cm',\n",
       " 'transferHeadCircumference_cm',\n",
       " 'transferOutcome',\n",
       " 'homeTherapyStatus',\n",
       " 'homeTherapyVentilator',\n",
       " 'homeTherapyOxygen',\n",
       " 'homeTherapyGavageTubeFeed',\n",
       " 'homeTherapyGastrostomyTubeFeed',\n",
       " 'homeTherapyTemperatureBlanket',\n",
       " 'homeTherapyAnticonvulsantMedication',\n",
       " 'homeTherapyOther',\n",
       " 'homeTherapyOtherText',\n",
       " 'deathDate',\n",
       " 'deathTime',\n",
       " 'deathAge_day',\n",
       " 'deathAutopsy',\n",
       " 'deathCause',\n",
       " 'deathCauseText',\n",
       " 'deathSrc',\n",
       " 'lengthOfStay_day']"
      ]
     },
     "execution_count": 201,
     "metadata": {},
     "output_type": "execute_result"
    }
   ],
   "source": [
    "status_columns = COMBINE_harmonizer.get_columns(\n",
    "    df_data_dict,\n",
    "    COMBINE_harmonizer.CATEGORY_NICU_DISCHARGE,\n",
    "    COMBINE_harmonizer.SUBCATEGORY_STATUS)\n",
    "\n",
    "all_status_columns = id_columns + status_columns\n",
    "status_columns"
   ]
  },
  {
   "cell_type": "code",
   "execution_count": 202,
   "id": "0da83118",
   "metadata": {
    "execution": {
     "iopub.execute_input": "2025-05-10T00:14:20.522768Z",
     "iopub.status.busy": "2025-05-10T00:14:20.522681Z",
     "iopub.status.idle": "2025-05-10T00:14:20.594642Z",
     "shell.execute_reply": "2025-05-10T00:14:20.594380Z"
    }
   },
   "outputs": [
    {
     "name": "stdout",
     "output_type": "stream",
     "text": [
      "no dischargeDate: 1\n",
      "(2/33) experimentStatus not in df\n",
      "(5/33) dischargeStatus not in df\n",
      "(32/33) lengthOfStay_day not in df\n"
     ]
    }
   ],
   "source": [
    "df_status = df_main.copy()\n",
    "status_rename_map = {\n",
    "    'dischargeStatus': 'status',\n",
    "    'dischargeHomeTherapy': 'homeTherapyStatus',\n",
    "    'dischargeHomeTherapyVentilator': 'homeTherapyVentilator',\n",
    "    'dischargeHomeTherapyOxygen': 'homeTherapyOxygen',\n",
    "    'dischargeHomeTherapyGavageTubeFeed': 'homeTherapyGavageTubeFeed',\n",
    "    'dischargeHomeTherapyGastrostomyTubeFeed': 'homeTherapyGastrostomyTubeFeed',\n",
    "    'dischargeHomeTherapyTemperatureBlanket': 'homeTherapyTemperatureBlanket',\n",
    "    'dischargeHomeTherapyAnticonvulsantMedication': 'homeTherapyAnticonvulsantMedication',\n",
    "    'dischargeHomeTherapyOther': 'homeTherapyOther',\n",
    "    'dischargeHomeTherapyOtherText': 'homeTherapyOtherText',\n",
    "}\n",
    "df_status = df_status.rename(columns=status_rename_map)\n",
    "\n",
    "# transfer\n",
    "is_transfer = df_status['status'].isin(['2', '2.0'])\n",
    "transfer_map = {\n",
    "    'dischargeDate': 'transferDate',\n",
    "    'dischargeWeight_g': 'transferWeight_g',\n",
    "    'dischargeLength_cm': 'transferLength_cm',\n",
    "    'dischargeHeadCircumference_cm': 'transferHeadCircumference_cm',\n",
    "}\n",
    "for map_from, map_to in transfer_map.items():\n",
    "    df_status.loc[is_transfer, map_to] = df_status.loc[is_transfer, map_from]\n",
    "\n",
    "    df_status.loc[is_transfer, map_from] = float('nan')\n",
    "\n",
    "# XXX refine discharge\n",
    "is_discharge = df_status['status'].isin(['1', '1.0'])\n",
    "is_no_discharge_date = df_status['dischargeDate'].isnull()\n",
    "is_invalid = is_discharge & is_no_discharge_date\n",
    "print(f'no dischargeDate: {is_invalid.sum()}')\n",
    "df_status.loc[is_invalid, 'dischargeDate'] = df_status.loc[is_invalid, 'statusDate']\n",
    "\n",
    "df_status = COMBINE_harmonizer.valid_columns(df_status, all_status_columns, debug_df=False, debug_columns=True)\n",
    "df_status = COMBINE_harmonizer.postprocess(df_status)\n",
    "\n",
    "out_filename = os.sep.join([out_dir, '04-01-status.csv'])\n",
    "df_status.to_csv(out_filename, index=False)"
   ]
  },
  {
   "cell_type": "markdown",
   "id": "9051ea94",
   "metadata": {},
   "source": [
    "### 04-01-2. check empty cells"
   ]
  },
  {
   "cell_type": "code",
   "execution_count": 203,
   "id": "2399e08e",
   "metadata": {
    "execution": {
     "iopub.execute_input": "2025-05-10T00:14:20.596092Z",
     "iopub.status.busy": "2025-05-10T00:14:20.596017Z",
     "iopub.status.idle": "2025-05-10T00:14:20.599950Z",
     "shell.execute_reply": "2025-05-10T00:14:20.599741Z"
    }
   },
   "outputs": [
    {
     "name": "stdout",
     "output_type": "stream",
     "text": [
      "(0/31) column: center (364 / 0)\n",
      "(1/31) column: subjectID (364 / 0)\n",
      "(2/31) column: uniqueID (364 / 0)\n",
      "(3/31) column: homeTherapyStatus (314 / 50)\n",
      "(4/31) column: homeTherapyVentilator (118 / 246)\n",
      "(5/31) column: homeTherapyOxygen (118 / 246)\n",
      "(6/31) column: homeTherapyGavageTubeFeed (118 / 246)\n",
      "(7/31) column: homeTherapyGastrostomyTubeFeed (118 / 246)\n",
      "(8/31) column: homeTherapyTemperatureBlanket (118 / 246)\n",
      "(9/31) column: homeTherapyAnticonvulsantMedication (118 / 246)\n",
      "(10/31) column: homeTherapyOther (118 / 246)\n",
      "(11/31) column: homeTherapyOtherText (36 / 328)\n",
      "(12/31) column: deathAutopsy (49 / 315)\n",
      "(13/31) column: deathCauseText (8 / 356)\n",
      "(14/31) column: status (364 / 0)\n",
      "(15/31) column: statusDate (364 / 0)\n",
      "(16/31) column: dischargeWeight_g (335 / 29)\n",
      "(17/31) column: dischargeLength_cm (316 / 48)\n",
      "(18/31) column: dischargeHeadCircumference_cm (318 / 46)\n",
      "(19/31) column: transferReason (26 / 338)\n",
      "(20/31) column: transferOutcome (26 / 338)\n",
      "(21/31) column: dischargeDate (290 / 74)\n",
      "(22/31) column: deathDate (49 / 315)\n",
      "(23/31) column: deathTime (49 / 315)\n",
      "(24/31) column: deathCause (49 / 315)\n",
      "(25/31) column: deathSrc (49 / 315)\n",
      "(26/31) column: deathAge_day (49 / 315)\n",
      "(27/31) column: transferDate (23 / 341)\n",
      "(28/31) column: transferWeight_g (24 / 340)\n",
      "(29/31) column: transferLength_cm (21 / 343)\n",
      "(30/31) column: transferHeadCircumference_cm (22 / 342)\n"
     ]
    }
   ],
   "source": [
    "COMBINE_harmonizer.check_empty(df_status)"
   ]
  },
  {
   "cell_type": "code",
   "execution_count": 204,
   "id": "a613bc1b",
   "metadata": {
    "execution": {
     "iopub.execute_input": "2025-05-10T00:14:20.601453Z",
     "iopub.status.busy": "2025-05-10T00:14:20.601378Z",
     "iopub.status.idle": "2025-05-10T00:14:20.604034Z",
     "shell.execute_reply": "2025-05-10T00:14:20.603826Z"
    }
   },
   "outputs": [
    {
     "name": "stdout",
     "output_type": "stream",
     "text": [
      "(0/31) center: (364/0)\n",
      "(1/31) subjectID: (364/0)\n",
      "(2/31) uniqueID: (364/0)\n",
      "(3/31) homeTherapyStatus: (314/50)\n",
      "(4/31) homeTherapyVentilator: (118/246)\n",
      "(5/31) homeTherapyOxygen: (118/246)\n",
      "(6/31) homeTherapyGavageTubeFeed: (118/246)\n",
      "(7/31) homeTherapyGastrostomyTubeFeed: (118/246)\n",
      "(8/31) homeTherapyTemperatureBlanket: (118/246)\n",
      "(9/31) homeTherapyAnticonvulsantMedication: (118/246)\n",
      "(10/31) homeTherapyOther: (118/246)\n",
      "(11/31) homeTherapyOtherText: (36/328)\n",
      "(12/31) deathAutopsy: (49/315)\n",
      "(13/31) deathCauseText: (8/356)\n",
      "(14/31) status: (364/0)\n",
      "(15/31) statusDate: (364/0)\n",
      "(16/31) dischargeWeight_g: (335/29)\n",
      "(17/31) dischargeLength_cm: (316/48)\n",
      "(18/31) dischargeHeadCircumference_cm: (318/46)\n",
      "(19/31) transferReason: (26/338)\n",
      "(20/31) transferOutcome: (26/338)\n",
      "(21/31) dischargeDate: (290/74)\n",
      "(22/31) deathDate: (49/315)\n",
      "(23/31) deathTime: (49/315)\n",
      "(24/31) deathCause: (49/315)\n",
      "(25/31) deathSrc: (49/315)\n",
      "(26/31) deathAge_day: (49/315)\n",
      "(27/31) transferDate: (23/341)\n",
      "(28/31) transferWeight_g: (24/340)\n",
      "(29/31) transferLength_cm: (21/343)\n",
      "(30/31) transferHeadCircumference_cm: (22/342)\n"
     ]
    }
   ],
   "source": [
    "COMBINE_harmonizer.column_info(df_status)"
   ]
  },
  {
   "cell_type": "markdown",
   "id": "d615b7e2",
   "metadata": {},
   "source": [
    "## 04-12. Discharge Neuro Exam"
   ]
  },
  {
   "cell_type": "code",
   "execution_count": 205,
   "id": "8371bdac",
   "metadata": {
    "execution": {
     "iopub.execute_input": "2025-05-10T00:14:20.605358Z",
     "iopub.status.busy": "2025-05-10T00:14:20.605276Z",
     "iopub.status.idle": "2025-05-10T00:14:20.607849Z",
     "shell.execute_reply": "2025-05-10T00:14:20.607641Z"
    }
   },
   "outputs": [
    {
     "data": {
      "text/plain": [
       "['dischargeNeuroExam',\n",
       " 'dischargeNeuroExamStatus',\n",
       " 'dischargeNeuroExamDate',\n",
       " 'dischargeNeuroExamTime',\n",
       " 'dischargeNeuroExamLevelConsciousness',\n",
       " 'dischargeNeuroExamSpontaneousActivity',\n",
       " 'dischargeNeuroExamPosture',\n",
       " 'dischargeNeuroExamTone',\n",
       " 'dischargeNeuroExamSuck',\n",
       " 'dischargeNeuroExamMoro',\n",
       " 'dischargeNeuroExamPupils',\n",
       " 'dischargeNeuroExamHeartRate',\n",
       " 'dischargeNeuroExamRespiration',\n",
       " 'dischargeNeuroExamSeizure',\n",
       " 'dischargeNeuroExamClonusSustained',\n",
       " 'dischargeNeuroExamFistedHand',\n",
       " 'dischargeNeuroExamAbnormalMovement',\n",
       " 'dischargeNeuroExamGagReflexAbsent',\n",
       " 'dischargeNeuroExamSedate',\n",
       " 'dischargeNeuroExamHypertonia',\n",
       " 'dischargeNeuroExamAsymTonicNeckReflex',\n",
       " 'dischargeNeuroExamLevelConsciousnessScore',\n",
       " 'dischargeNeuroExamSpontaneousActivityScore',\n",
       " 'dischargeNeuroExamPostureScore',\n",
       " 'dischargeNeuroExamToneScore',\n",
       " 'dischargeNeuroExamSuckScore',\n",
       " 'dischargeNeuroExamMoroScore',\n",
       " 'dischargeNeuroExamPupilsScore',\n",
       " 'dischargeNeuroExamHeartRateScore',\n",
       " 'dischargeNeuroExamRespirationScore',\n",
       " 'dischargeNeuroExamReflexScore',\n",
       " 'dischargeNeuroExamANSScore',\n",
       " 'dischargeTotalModifiedSarnatScore']"
      ]
     },
     "execution_count": 205,
     "metadata": {},
     "output_type": "execute_result"
    }
   ],
   "source": [
    "discharge_neuro_exam_columns = COMBINE_harmonizer.get_columns(\n",
    "    df_data_dict,\n",
    "    COMBINE_harmonizer.CATEGORY_NICU_DISCHARGE,\n",
    "    COMBINE_harmonizer.SUBCATEGORY_NEURO_EXAM)\n",
    "\n",
    "all_discharge_neuro_exam_columns = id_columns + discharge_neuro_exam_columns\n",
    "discharge_neuro_exam_columns"
   ]
  },
  {
   "cell_type": "code",
   "execution_count": 206,
   "id": "e5d787a5",
   "metadata": {
    "execution": {
     "iopub.execute_input": "2025-05-10T00:14:20.609749Z",
     "iopub.status.busy": "2025-05-10T00:14:20.609657Z",
     "iopub.status.idle": "2025-05-10T00:14:20.673641Z",
     "shell.execute_reply": "2025-05-10T00:14:20.672472Z"
    }
   },
   "outputs": [
    {
     "name": "stdout",
     "output_type": "stream",
     "text": [
      "(2/35) dischargeNeuroExam not in df\n",
      "(21/35) dischargeNeuroExamHypertonia not in df\n",
      "(23/35) dischargeNeuroExamLevelConsciousnessScore not in df\n",
      "(24/35) dischargeNeuroExamSpontaneousActivityScore not in df\n",
      "(25/35) dischargeNeuroExamPostureScore not in df\n",
      "(26/35) dischargeNeuroExamToneScore not in df\n",
      "(27/35) dischargeNeuroExamSuckScore not in df\n",
      "(28/35) dischargeNeuroExamMoroScore not in df\n",
      "(29/35) dischargeNeuroExamPupilsScore not in df\n",
      "(30/35) dischargeNeuroExamHeartRateScore not in df\n",
      "(31/35) dischargeNeuroExamRespirationScore not in df\n",
      "(32/35) dischargeNeuroExamReflexScore not in df\n",
      "(33/35) dischargeNeuroExamANSScore not in df\n",
      "(34/35) dischargeTotalModifiedSarnatScore not in df\n"
     ]
    }
   ],
   "source": [
    "df_discharge_neuro_exam = COMBINE_harmonizer.valid_columns(df_main, all_discharge_neuro_exam_columns, debug_df=False, debug_columns=True)\n",
    "df_discharge_neuro_exam = COMBINE_harmonizer.postprocess(df_discharge_neuro_exam)\n",
    "\n",
    "out_filename = os.sep.join([out_dir, '04-12-neuro-exam.csv'])\n",
    "df_discharge_neuro_exam.to_csv(out_filename, index=False)"
   ]
  },
  {
   "cell_type": "markdown",
   "id": "10ac2583",
   "metadata": {},
   "source": [
    "### 04-12-2. check empty cells"
   ]
  },
  {
   "cell_type": "code",
   "execution_count": 207,
   "id": "dcc63a0a",
   "metadata": {
    "execution": {
     "iopub.execute_input": "2025-05-10T00:14:20.681244Z",
     "iopub.status.busy": "2025-05-10T00:14:20.680907Z",
     "iopub.status.idle": "2025-05-10T00:14:20.686889Z",
     "shell.execute_reply": "2025-05-10T00:14:20.686631Z"
    }
   },
   "outputs": [
    {
     "name": "stdout",
     "output_type": "stream",
     "text": [
      "(0/22) column: center (364 / 0)\n",
      "(1/22) column: subjectID (364 / 0)\n",
      "(2/22) column: uniqueID (364 / 0)\n",
      "(3/22) column: dischargeNeuroExamTone (333 / 31)\n",
      "(4/22) column: dischargeNeuroExamRespiration (333 / 31)\n",
      "(5/22) column: dischargeNeuroExamSeizure (333 / 31)\n",
      "(6/22) column: dischargeNeuroExamSedate (333 / 31)\n",
      "(7/22) column: dischargeNeuroExamClonusSustained (333 / 31)\n",
      "(8/22) column: dischargeNeuroExamFistedHand (333 / 31)\n",
      "(9/22) column: dischargeNeuroExamAbnormalMovement (333 / 31)\n",
      "(10/22) column: dischargeNeuroExamGagReflexAbsent (333 / 31)\n",
      "(11/22) column: dischargeNeuroExamAsymTonicNeckReflex (328 / 36)\n",
      "(12/22) column: dischargeNeuroExamStatus (331 / 33)\n",
      "(13/22) column: dischargeNeuroExamDate (333 / 31)\n",
      "(14/22) column: dischargeNeuroExamTime (326 / 38)\n",
      "(15/22) column: dischargeNeuroExamLevelConsciousness (333 / 31)\n",
      "(16/22) column: dischargeNeuroExamSpontaneousActivity (332 / 32)\n",
      "(17/22) column: dischargeNeuroExamPosture (332 / 32)\n",
      "(18/22) column: dischargeNeuroExamSuck (332 / 32)\n",
      "(19/22) column: dischargeNeuroExamMoro (330 / 34)\n",
      "(20/22) column: dischargeNeuroExamPupils (328 / 36)\n",
      "(21/22) column: dischargeNeuroExamHeartRate (332 / 32)\n"
     ]
    }
   ],
   "source": [
    "COMBINE_harmonizer.check_empty(df_discharge_neuro_exam)"
   ]
  },
  {
   "cell_type": "code",
   "execution_count": 208,
   "id": "0684970f",
   "metadata": {
    "execution": {
     "iopub.execute_input": "2025-05-10T00:14:20.688160Z",
     "iopub.status.busy": "2025-05-10T00:14:20.688078Z",
     "iopub.status.idle": "2025-05-10T00:14:20.690962Z",
     "shell.execute_reply": "2025-05-10T00:14:20.690727Z"
    }
   },
   "outputs": [
    {
     "name": "stdout",
     "output_type": "stream",
     "text": [
      "(0/22) center: (364/0)\n",
      "(1/22) subjectID: (364/0)\n",
      "(2/22) uniqueID: (364/0)\n",
      "(3/22) dischargeNeuroExamTone: (333/31)\n",
      "(4/22) dischargeNeuroExamRespiration: (333/31)\n",
      "(5/22) dischargeNeuroExamSeizure: (333/31)\n",
      "(6/22) dischargeNeuroExamSedate: (333/31)\n",
      "(7/22) dischargeNeuroExamClonusSustained: (333/31)\n",
      "(8/22) dischargeNeuroExamFistedHand: (333/31)\n",
      "(9/22) dischargeNeuroExamAbnormalMovement: (333/31)\n",
      "(10/22) dischargeNeuroExamGagReflexAbsent: (333/31)\n",
      "(11/22) dischargeNeuroExamAsymTonicNeckReflex: (328/36)\n",
      "(12/22) dischargeNeuroExamStatus: (331/33)\n",
      "(13/22) dischargeNeuroExamDate: (333/31)\n",
      "(14/22) dischargeNeuroExamTime: (326/38)\n",
      "(15/22) dischargeNeuroExamLevelConsciousness: (333/31)\n",
      "(16/22) dischargeNeuroExamSpontaneousActivity: (332/32)\n",
      "(17/22) dischargeNeuroExamPosture: (332/32)\n",
      "(18/22) dischargeNeuroExamSuck: (332/32)\n",
      "(19/22) dischargeNeuroExamMoro: (330/34)\n",
      "(20/22) dischargeNeuroExamPupils: (328/36)\n",
      "(21/22) dischargeNeuroExamHeartRate: (332/32)\n"
     ]
    }
   ],
   "source": [
    "COMBINE_harmonizer.column_info(df_discharge_neuro_exam)"
   ]
  },
  {
   "cell_type": "markdown",
   "id": "d9b933a1",
   "metadata": {},
   "source": [
    "## 04-02. Discharge Cardiovascular"
   ]
  },
  {
   "cell_type": "code",
   "execution_count": 209,
   "id": "65176b60",
   "metadata": {
    "execution": {
     "iopub.execute_input": "2025-05-10T00:14:20.693190Z",
     "iopub.status.busy": "2025-05-10T00:14:20.693092Z",
     "iopub.status.idle": "2025-05-10T00:14:20.695617Z",
     "shell.execute_reply": "2025-05-10T00:14:20.695415Z"
    }
   },
   "outputs": [
    {
     "data": {
      "text/plain": [
       "['dischargeCardiomegaly',\n",
       " 'dischargeCardiacFailure',\n",
       " 'dischargeCardiacDysfunctionByEcho',\n",
       " 'dischargeCardiacIschemiaByEKG',\n",
       " 'dischargeHypotension',\n",
       " 'dischargeArrhythmia',\n",
       " 'dischargeInotropicAgent']"
      ]
     },
     "execution_count": 209,
     "metadata": {},
     "output_type": "execute_result"
    }
   ],
   "source": [
    "discharge_cardiovascular_columns = COMBINE_harmonizer.get_columns(\n",
    "    df_data_dict,\n",
    "    COMBINE_harmonizer.CATEGORY_NICU_DISCHARGE,\n",
    "    COMBINE_harmonizer.SUBCATEGORY_CARDIOVASCULAR)\n",
    "\n",
    "all_discharge_cardiovascular_columns = id_columns + discharge_cardiovascular_columns\n",
    "discharge_cardiovascular_columns"
   ]
  },
  {
   "cell_type": "code",
   "execution_count": 210,
   "id": "7b77b91a",
   "metadata": {
    "execution": {
     "iopub.execute_input": "2025-05-10T00:14:20.696742Z",
     "iopub.status.busy": "2025-05-10T00:14:20.696650Z",
     "iopub.status.idle": "2025-05-10T00:14:20.757086Z",
     "shell.execute_reply": "2025-05-10T00:14:20.756398Z"
    }
   },
   "outputs": [],
   "source": [
    "df_discharge_cardiovascular = COMBINE_harmonizer.valid_columns(df_main, all_discharge_cardiovascular_columns, debug_df=False, debug_columns=True)\n",
    "df_discharge_cardiovascular = COMBINE_harmonizer.postprocess(df_discharge_cardiovascular)\n",
    "\n",
    "out_filename = os.sep.join([out_dir, '04-02-cardiovascular.csv'])\n",
    "df_discharge_cardiovascular.to_csv(out_filename, index=False)"
   ]
  },
  {
   "cell_type": "markdown",
   "id": "f7192d6e",
   "metadata": {},
   "source": [
    "### 04-02-2. check empty cells"
   ]
  },
  {
   "cell_type": "code",
   "execution_count": 211,
   "id": "58ba4efa",
   "metadata": {
    "execution": {
     "iopub.execute_input": "2025-05-10T00:14:20.760760Z",
     "iopub.status.busy": "2025-05-10T00:14:20.760459Z",
     "iopub.status.idle": "2025-05-10T00:14:20.768464Z",
     "shell.execute_reply": "2025-05-10T00:14:20.767390Z"
    }
   },
   "outputs": [
    {
     "name": "stdout",
     "output_type": "stream",
     "text": [
      "(0/10) column: center (364 / 0)\n",
      "(1/10) column: subjectID (364 / 0)\n",
      "(2/10) column: uniqueID (364 / 0)\n",
      "(3/10) column: dischargeCardiomegaly (364 / 0)\n",
      "(4/10) column: dischargeCardiacFailure (364 / 0)\n",
      "(5/10) column: dischargeCardiacDysfunctionByEcho (364 / 0)\n",
      "(6/10) column: dischargeCardiacIschemiaByEKG (364 / 0)\n",
      "(7/10) column: dischargeHypotension (364 / 0)\n",
      "(8/10) column: dischargeArrhythmia (364 / 0)\n",
      "(9/10) column: dischargeInotropicAgent (364 / 0)\n"
     ]
    }
   ],
   "source": [
    "COMBINE_harmonizer.check_empty(df_discharge_cardiovascular)"
   ]
  },
  {
   "cell_type": "code",
   "execution_count": 212,
   "id": "22cbb173",
   "metadata": {
    "execution": {
     "iopub.execute_input": "2025-05-10T00:14:20.771510Z",
     "iopub.status.busy": "2025-05-10T00:14:20.771291Z",
     "iopub.status.idle": "2025-05-10T00:14:20.775938Z",
     "shell.execute_reply": "2025-05-10T00:14:20.775326Z"
    }
   },
   "outputs": [
    {
     "name": "stdout",
     "output_type": "stream",
     "text": [
      "(0/10) center: (364/0)\n",
      "(1/10) subjectID: (364/0)\n",
      "(2/10) uniqueID: (364/0)\n",
      "(3/10) dischargeCardiomegaly: (364/0)\n",
      "(4/10) dischargeCardiacFailure: (364/0)\n",
      "(5/10) dischargeCardiacDysfunctionByEcho: (364/0)\n",
      "(6/10) dischargeCardiacIschemiaByEKG: (364/0)\n",
      "(7/10) dischargeHypotension: (364/0)\n",
      "(8/10) dischargeArrhythmia: (364/0)\n",
      "(9/10) dischargeInotropicAgent: (364/0)\n"
     ]
    }
   ],
   "source": [
    "COMBINE_harmonizer.column_info(df_discharge_cardiovascular)"
   ]
  },
  {
   "cell_type": "markdown",
   "id": "31cbeb92",
   "metadata": {},
   "source": [
    "## 04-03. Discharge Respiratory"
   ]
  },
  {
   "cell_type": "code",
   "execution_count": 213,
   "id": "450ad56e",
   "metadata": {
    "execution": {
     "iopub.execute_input": "2025-05-10T00:14:20.778627Z",
     "iopub.status.busy": "2025-05-10T00:14:20.778409Z",
     "iopub.status.idle": "2025-05-10T00:14:20.783727Z",
     "shell.execute_reply": "2025-05-10T00:14:20.783294Z"
    }
   },
   "outputs": [
    {
     "data": {
      "text/plain": [
       "['dischargeMeconiumAspirationSyndrome',\n",
       " 'dischargePPHN',\n",
       " 'dischargePulmonaryHemorrhage',\n",
       " 'dischargePenumonia',\n",
       " 'dischargeChronicLungDisease',\n",
       " 'dischargeECMO',\n",
       " 'dischargeINO',\n",
       " 'dischargeVentilator_day',\n",
       " 'dischargeOxygen_day',\n",
       " 'dischargeCPAP_day',\n",
       " 'dischargePulmonaryStartDate1',\n",
       " 'dischargePulmonaryStartTime1',\n",
       " 'dischargePulmonaryEndDate1',\n",
       " 'dischargePulmonaryEndTime1',\n",
       " 'dischargePulmonaryStartDate2',\n",
       " 'dischargePulmonaryStartTime2',\n",
       " 'dischargePulmonaryEndDate2',\n",
       " 'dischargePulmonaryEndTime2',\n",
       " 'dischargePulmonaryStartDate3',\n",
       " 'dischargePulmonaryStartTime3',\n",
       " 'dischargePulmonaryEndDate3',\n",
       " 'dischargePulmonaryEndTime3']"
      ]
     },
     "execution_count": 213,
     "metadata": {},
     "output_type": "execute_result"
    }
   ],
   "source": [
    "discharge_respiratory_columns = COMBINE_harmonizer.get_columns(\n",
    "    df_data_dict,\n",
    "    COMBINE_harmonizer.CATEGORY_NICU_DISCHARGE,\n",
    "    COMBINE_harmonizer.SUBCATEGORY_RESPIRATORY)\n",
    "\n",
    "all_discharge_respiratory_columns = id_columns + discharge_respiratory_columns\n",
    "discharge_respiratory_columns"
   ]
  },
  {
   "cell_type": "code",
   "execution_count": 214,
   "id": "5f44d101",
   "metadata": {
    "execution": {
     "iopub.execute_input": "2025-05-10T00:14:20.785326Z",
     "iopub.status.busy": "2025-05-10T00:14:20.785207Z",
     "iopub.status.idle": "2025-05-10T00:14:20.838605Z",
     "shell.execute_reply": "2025-05-10T00:14:20.838183Z"
    }
   },
   "outputs": [
    {
     "name": "stdout",
     "output_type": "stream",
     "text": [
      "(12/24) dischargePulmonaryStartDate1 not in df\n",
      "(13/24) dischargePulmonaryStartTime1 not in df\n",
      "(14/24) dischargePulmonaryEndDate1 not in df\n",
      "(15/24) dischargePulmonaryEndTime1 not in df\n",
      "(16/24) dischargePulmonaryStartDate2 not in df\n",
      "(17/24) dischargePulmonaryStartTime2 not in df\n",
      "(18/24) dischargePulmonaryEndDate2 not in df\n",
      "(19/24) dischargePulmonaryEndTime2 not in df\n",
      "(20/24) dischargePulmonaryStartDate3 not in df\n",
      "(21/24) dischargePulmonaryStartTime3 not in df\n",
      "(22/24) dischargePulmonaryEndDate3 not in df\n",
      "(23/24) dischargePulmonaryEndTime3 not in df\n"
     ]
    }
   ],
   "source": [
    "df_discharge_respiratory = COMBINE_harmonizer.valid_columns(df_main, all_discharge_respiratory_columns, debug_df=False, debug_columns=True)\n",
    "df_discharge_respiratory = COMBINE_harmonizer.postprocess(df_discharge_respiratory)\n",
    "\n",
    "out_filename = os.sep.join([out_dir, '04-03-respiratory.csv'])\n",
    "df_discharge_respiratory.to_csv(out_filename, index=False)"
   ]
  },
  {
   "cell_type": "markdown",
   "id": "fcd1c78f",
   "metadata": {},
   "source": [
    "### 04-03-2. check empty cells"
   ]
  },
  {
   "cell_type": "code",
   "execution_count": 215,
   "id": "0592f453",
   "metadata": {
    "execution": {
     "iopub.execute_input": "2025-05-10T00:14:20.840690Z",
     "iopub.status.busy": "2025-05-10T00:14:20.840479Z",
     "iopub.status.idle": "2025-05-10T00:14:20.846187Z",
     "shell.execute_reply": "2025-05-10T00:14:20.845702Z"
    }
   },
   "outputs": [
    {
     "name": "stdout",
     "output_type": "stream",
     "text": [
      "(0/13) column: center (364 / 0)\n",
      "(1/13) column: subjectID (364 / 0)\n",
      "(2/13) column: uniqueID (364 / 0)\n",
      "(3/13) column: dischargeMeconiumAspirationSyndrome (364 / 0)\n",
      "(4/13) column: dischargePPHN (364 / 0)\n",
      "(5/13) column: dischargePulmonaryHemorrhage (364 / 0)\n",
      "(6/13) column: dischargePenumonia (364 / 0)\n",
      "(7/13) column: dischargeChronicLungDisease (364 / 0)\n",
      "(8/13) column: dischargeECMO (364 / 0)\n",
      "(9/13) column: dischargeINO (364 / 0)\n",
      "(10/13) column: dischargeVentilator_day (364 / 0)\n",
      "(11/13) column: dischargeOxygen_day (364 / 0)\n",
      "(12/13) column: dischargeCPAP_day (364 / 0)\n"
     ]
    }
   ],
   "source": [
    "COMBINE_harmonizer.check_empty(df_discharge_respiratory)"
   ]
  },
  {
   "cell_type": "code",
   "execution_count": 216,
   "id": "88a0a404",
   "metadata": {
    "execution": {
     "iopub.execute_input": "2025-05-10T00:14:20.848283Z",
     "iopub.status.busy": "2025-05-10T00:14:20.848068Z",
     "iopub.status.idle": "2025-05-10T00:14:20.852457Z",
     "shell.execute_reply": "2025-05-10T00:14:20.852169Z"
    }
   },
   "outputs": [
    {
     "name": "stdout",
     "output_type": "stream",
     "text": [
      "(0/13) center: (364/0)\n",
      "(1/13) subjectID: (364/0)\n",
      "(2/13) uniqueID: (364/0)\n",
      "(3/13) dischargeMeconiumAspirationSyndrome: (364/0)\n",
      "(4/13) dischargePPHN: (364/0)\n",
      "(5/13) dischargePulmonaryHemorrhage: (364/0)\n",
      "(6/13) dischargePenumonia: (364/0)\n",
      "(7/13) dischargeChronicLungDisease: (364/0)\n",
      "(8/13) dischargeECMO: (364/0)\n",
      "(9/13) dischargeINO: (364/0)\n",
      "(10/13) dischargeVentilator_day: (364/0)\n",
      "(11/13) dischargeOxygen_day: (364/0)\n",
      "(12/13) dischargeCPAP_day: (364/0)\n"
     ]
    }
   ],
   "source": [
    "COMBINE_harmonizer.column_info(df_discharge_respiratory)"
   ]
  },
  {
   "cell_type": "markdown",
   "id": "817a52c9",
   "metadata": {},
   "source": [
    "## 04-04. Discharge Hematology"
   ]
  },
  {
   "cell_type": "code",
   "execution_count": 217,
   "id": "ed4fd9fb",
   "metadata": {
    "execution": {
     "iopub.execute_input": "2025-05-10T00:14:20.854059Z",
     "iopub.status.busy": "2025-05-10T00:14:20.853952Z",
     "iopub.status.idle": "2025-05-10T00:14:20.857198Z",
     "shell.execute_reply": "2025-05-10T00:14:20.856910Z"
    }
   },
   "outputs": [
    {
     "data": {
      "text/plain": [
       "['dischargeDIC']"
      ]
     },
     "execution_count": 217,
     "metadata": {},
     "output_type": "execute_result"
    }
   ],
   "source": [
    "discharge_hematology_columns = COMBINE_harmonizer.get_columns(\n",
    "    df_data_dict,\n",
    "    COMBINE_harmonizer.CATEGORY_NICU_DISCHARGE,\n",
    "    COMBINE_harmonizer.SUBCATEGORY_HEMATOLOGY)\n",
    "\n",
    "all_discharge_hematology_columns = id_columns + discharge_hematology_columns\n",
    "discharge_hematology_columns"
   ]
  },
  {
   "cell_type": "code",
   "execution_count": 218,
   "id": "c9b857d1",
   "metadata": {
    "execution": {
     "iopub.execute_input": "2025-05-10T00:14:20.858703Z",
     "iopub.status.busy": "2025-05-10T00:14:20.858568Z",
     "iopub.status.idle": "2025-05-10T00:14:20.913269Z",
     "shell.execute_reply": "2025-05-10T00:14:20.912841Z"
    }
   },
   "outputs": [],
   "source": [
    "df_discharge_hematology = COMBINE_harmonizer.valid_columns(df_main, all_discharge_hematology_columns, debug_df=False, debug_columns=True)\n",
    "df_discharge_hematology = COMBINE_harmonizer.postprocess(df_discharge_hematology)\n",
    "\n",
    "out_filename = os.sep.join([out_dir, '04-04-hematology.csv'])\n",
    "df_discharge_hematology.to_csv(out_filename, index=False)"
   ]
  },
  {
   "cell_type": "markdown",
   "id": "2d25ebe7",
   "metadata": {},
   "source": [
    "### 04-04-2. check empty cells"
   ]
  },
  {
   "cell_type": "code",
   "execution_count": 219,
   "id": "0e4edfa3",
   "metadata": {
    "execution": {
     "iopub.execute_input": "2025-05-10T00:14:20.915047Z",
     "iopub.status.busy": "2025-05-10T00:14:20.914912Z",
     "iopub.status.idle": "2025-05-10T00:14:20.918833Z",
     "shell.execute_reply": "2025-05-10T00:14:20.918486Z"
    }
   },
   "outputs": [
    {
     "name": "stdout",
     "output_type": "stream",
     "text": [
      "(0/4) column: center (364 / 0)\n",
      "(1/4) column: subjectID (364 / 0)\n",
      "(2/4) column: uniqueID (364 / 0)\n",
      "(3/4) column: dischargeDIC (364 / 0)\n"
     ]
    }
   ],
   "source": [
    "COMBINE_harmonizer.check_empty(df_discharge_hematology)"
   ]
  },
  {
   "cell_type": "code",
   "execution_count": 220,
   "id": "e6c591d2",
   "metadata": {
    "execution": {
     "iopub.execute_input": "2025-05-10T00:14:20.920874Z",
     "iopub.status.busy": "2025-05-10T00:14:20.920708Z",
     "iopub.status.idle": "2025-05-10T00:14:20.924161Z",
     "shell.execute_reply": "2025-05-10T00:14:20.923723Z"
    }
   },
   "outputs": [
    {
     "name": "stdout",
     "output_type": "stream",
     "text": [
      "(0/4) center: (364/0)\n",
      "(1/4) subjectID: (364/0)\n",
      "(2/4) uniqueID: (364/0)\n",
      "(3/4) dischargeDIC: (364/0)\n"
     ]
    }
   ],
   "source": [
    "COMBINE_harmonizer.column_info(df_discharge_hematology)"
   ]
  },
  {
   "cell_type": "markdown",
   "id": "9b49aee8",
   "metadata": {},
   "source": [
    "## 04-05. Discharge Metabolic"
   ]
  },
  {
   "cell_type": "code",
   "execution_count": 221,
   "id": "3d9952aa",
   "metadata": {
    "execution": {
     "iopub.execute_input": "2025-05-10T00:14:20.926500Z",
     "iopub.status.busy": "2025-05-10T00:14:20.926299Z",
     "iopub.status.idle": "2025-05-10T00:14:20.930959Z",
     "shell.execute_reply": "2025-05-10T00:14:20.930558Z"
    }
   },
   "outputs": [
    {
     "data": {
      "text/plain": [
       "['dischargeHypoglycemia', 'dischargeHypocalcemia', 'dischargeHypomagnesemia']"
      ]
     },
     "execution_count": 221,
     "metadata": {},
     "output_type": "execute_result"
    }
   ],
   "source": [
    "discharge_metabolic_columns = COMBINE_harmonizer.get_columns(\n",
    "    df_data_dict,\n",
    "    COMBINE_harmonizer.CATEGORY_NICU_DISCHARGE,\n",
    "    COMBINE_harmonizer.SUBCATEGORY_METABOLIC)\n",
    "\n",
    "all_discharge_metabolic_columns = id_columns + discharge_metabolic_columns\n",
    "discharge_metabolic_columns"
   ]
  },
  {
   "cell_type": "code",
   "execution_count": 222,
   "id": "9cf9753d",
   "metadata": {
    "execution": {
     "iopub.execute_input": "2025-05-10T00:14:20.932869Z",
     "iopub.status.busy": "2025-05-10T00:14:20.932690Z",
     "iopub.status.idle": "2025-05-10T00:14:20.986316Z",
     "shell.execute_reply": "2025-05-10T00:14:20.985637Z"
    }
   },
   "outputs": [],
   "source": [
    "df_discharge_metabolic = COMBINE_harmonizer.valid_columns(df_main, all_discharge_metabolic_columns, debug_df=False, debug_columns=True)\n",
    "df_discharge_metabolic = COMBINE_harmonizer.postprocess(df_discharge_metabolic)\n",
    "\n",
    "out_filename = os.sep.join([out_dir, '04-05-metabolic.csv'])\n",
    "df_discharge_metabolic.to_csv(out_filename, index=False)"
   ]
  },
  {
   "cell_type": "markdown",
   "id": "3bdd240a",
   "metadata": {},
   "source": [
    "### 04-05-2. check empty cells"
   ]
  },
  {
   "cell_type": "code",
   "execution_count": 223,
   "id": "23eabeda",
   "metadata": {
    "execution": {
     "iopub.execute_input": "2025-05-10T00:14:20.989710Z",
     "iopub.status.busy": "2025-05-10T00:14:20.989425Z",
     "iopub.status.idle": "2025-05-10T00:14:20.994271Z",
     "shell.execute_reply": "2025-05-10T00:14:20.993856Z"
    }
   },
   "outputs": [
    {
     "name": "stdout",
     "output_type": "stream",
     "text": [
      "(0/6) column: center (364 / 0)\n",
      "(1/6) column: subjectID (364 / 0)\n",
      "(2/6) column: uniqueID (364 / 0)\n",
      "(3/6) column: dischargeHypoglycemia (364 / 0)\n",
      "(4/6) column: dischargeHypocalcemia (364 / 0)\n",
      "(5/6) column: dischargeHypomagnesemia (364 / 0)\n"
     ]
    }
   ],
   "source": [
    "COMBINE_harmonizer.check_empty(df_discharge_metabolic)"
   ]
  },
  {
   "cell_type": "code",
   "execution_count": 224,
   "id": "05f1c2d7",
   "metadata": {
    "execution": {
     "iopub.execute_input": "2025-05-10T00:14:20.996469Z",
     "iopub.status.busy": "2025-05-10T00:14:20.996260Z",
     "iopub.status.idle": "2025-05-10T00:14:20.999655Z",
     "shell.execute_reply": "2025-05-10T00:14:20.999253Z"
    }
   },
   "outputs": [
    {
     "name": "stdout",
     "output_type": "stream",
     "text": [
      "(0/6) center: (364/0)\n",
      "(1/6) subjectID: (364/0)\n",
      "(2/6) uniqueID: (364/0)\n",
      "(3/6) dischargeHypoglycemia: (364/0)\n",
      "(4/6) dischargeHypocalcemia: (364/0)\n",
      "(5/6) dischargeHypomagnesemia: (364/0)\n"
     ]
    }
   ],
   "source": [
    "COMBINE_harmonizer.column_info(df_discharge_metabolic)"
   ]
  },
  {
   "cell_type": "markdown",
   "id": "44459f25",
   "metadata": {},
   "source": [
    "## 04-06. Discharge Renal"
   ]
  },
  {
   "cell_type": "code",
   "execution_count": 225,
   "id": "9989fde6",
   "metadata": {
    "execution": {
     "iopub.execute_input": "2025-05-10T00:14:21.001772Z",
     "iopub.status.busy": "2025-05-10T00:14:21.001631Z",
     "iopub.status.idle": "2025-05-10T00:14:21.005891Z",
     "shell.execute_reply": "2025-05-10T00:14:21.005467Z"
    }
   },
   "outputs": [
    {
     "data": {
      "text/plain": [
       "['dischargeOliguria', 'dischargeAnuria', 'dischargeDialysis']"
      ]
     },
     "execution_count": 225,
     "metadata": {},
     "output_type": "execute_result"
    }
   ],
   "source": [
    "discharge_renal_columns = COMBINE_harmonizer.get_columns(\n",
    "    df_data_dict,\n",
    "    COMBINE_harmonizer.CATEGORY_NICU_DISCHARGE,\n",
    "    COMBINE_harmonizer.SUBCATEGORY_RENAL)\n",
    "\n",
    "all_discharge_renal_columns = id_columns + discharge_renal_columns\n",
    "discharge_renal_columns"
   ]
  },
  {
   "cell_type": "code",
   "execution_count": 226,
   "id": "b76a41a2",
   "metadata": {
    "execution": {
     "iopub.execute_input": "2025-05-10T00:14:21.007638Z",
     "iopub.status.busy": "2025-05-10T00:14:21.007496Z",
     "iopub.status.idle": "2025-05-10T00:14:21.069641Z",
     "shell.execute_reply": "2025-05-10T00:14:21.069045Z"
    }
   },
   "outputs": [],
   "source": [
    "df_discharge_renal = COMBINE_harmonizer.valid_columns(df_main, all_discharge_renal_columns, debug_df=False, debug_columns=True)\n",
    "df_discharge_renal = COMBINE_harmonizer.postprocess(df_discharge_renal)\n",
    "\n",
    "out_filename = os.sep.join([out_dir, '04-06-renal.csv'])\n",
    "df_discharge_renal.to_csv(out_filename, index=False)"
   ]
  },
  {
   "cell_type": "markdown",
   "id": "d27ce520",
   "metadata": {},
   "source": [
    "### 04-06-2. check empty cells"
   ]
  },
  {
   "cell_type": "code",
   "execution_count": 227,
   "id": "ea5ff7d4",
   "metadata": {
    "execution": {
     "iopub.execute_input": "2025-05-10T00:14:21.073148Z",
     "iopub.status.busy": "2025-05-10T00:14:21.072885Z",
     "iopub.status.idle": "2025-05-10T00:14:21.076418Z",
     "shell.execute_reply": "2025-05-10T00:14:21.076092Z"
    }
   },
   "outputs": [
    {
     "name": "stdout",
     "output_type": "stream",
     "text": [
      "(0/6) column: center (364 / 0)\n",
      "(1/6) column: subjectID (364 / 0)\n",
      "(2/6) column: uniqueID (364 / 0)\n",
      "(3/6) column: dischargeOliguria (364 / 0)\n",
      "(4/6) column: dischargeAnuria (364 / 0)\n",
      "(5/6) column: dischargeDialysis (364 / 0)\n"
     ]
    }
   ],
   "source": [
    "COMBINE_harmonizer.check_empty(df_discharge_renal)"
   ]
  },
  {
   "cell_type": "code",
   "execution_count": 228,
   "id": "6b1a38c4",
   "metadata": {
    "execution": {
     "iopub.execute_input": "2025-05-10T00:14:21.078203Z",
     "iopub.status.busy": "2025-05-10T00:14:21.078068Z",
     "iopub.status.idle": "2025-05-10T00:14:21.081110Z",
     "shell.execute_reply": "2025-05-10T00:14:21.080732Z"
    }
   },
   "outputs": [
    {
     "name": "stdout",
     "output_type": "stream",
     "text": [
      "(0/6) center: (364/0)\n",
      "(1/6) subjectID: (364/0)\n",
      "(2/6) uniqueID: (364/0)\n",
      "(3/6) dischargeOliguria: (364/0)\n",
      "(4/6) dischargeAnuria: (364/0)\n",
      "(5/6) dischargeDialysis: (364/0)\n"
     ]
    }
   ],
   "source": [
    "COMBINE_harmonizer.column_info(df_discharge_renal)"
   ]
  },
  {
   "cell_type": "markdown",
   "id": "88b5cfde",
   "metadata": {},
   "source": [
    "## 04-07. Discharge Gastrointestinal"
   ]
  },
  {
   "cell_type": "code",
   "execution_count": 229,
   "id": "54ff6cf4",
   "metadata": {
    "execution": {
     "iopub.execute_input": "2025-05-10T00:14:21.083806Z",
     "iopub.status.busy": "2025-05-10T00:14:21.083486Z",
     "iopub.status.idle": "2025-05-10T00:14:21.087959Z",
     "shell.execute_reply": "2025-05-10T00:14:21.087566Z"
    }
   },
   "outputs": [
    {
     "data": {
      "text/plain": [
       "['dischargeEnteralFeedStart_day',\n",
       " 'dischargeTubeFeedingDuration_day',\n",
       " 'dischargeFullNippleFeed',\n",
       " 'dischargeFullNippleFeed_day',\n",
       " 'dischargeNEC',\n",
       " 'dischargeHepaticDysfunction']"
      ]
     },
     "execution_count": 229,
     "metadata": {},
     "output_type": "execute_result"
    }
   ],
   "source": [
    "discharge_gastrointestinal_columns = COMBINE_harmonizer.get_columns(\n",
    "    df_data_dict,\n",
    "    COMBINE_harmonizer.CATEGORY_NICU_DISCHARGE,\n",
    "    COMBINE_harmonizer.SUBCATEGORY_GASTROINTESTINAL)\n",
    "\n",
    "all_discharge_gastrointestinal_columns = id_columns + discharge_gastrointestinal_columns\n",
    "discharge_gastrointestinal_columns"
   ]
  },
  {
   "cell_type": "code",
   "execution_count": 230,
   "id": "ef9b72b7",
   "metadata": {
    "execution": {
     "iopub.execute_input": "2025-05-10T00:14:21.089954Z",
     "iopub.status.busy": "2025-05-10T00:14:21.089768Z",
     "iopub.status.idle": "2025-05-10T00:14:21.152107Z",
     "shell.execute_reply": "2025-05-10T00:14:21.151753Z"
    }
   },
   "outputs": [],
   "source": [
    "df_discharge_gastrointestinal = COMBINE_harmonizer.valid_columns(df_main, all_discharge_gastrointestinal_columns, debug_df=False, debug_columns=True)\n",
    "df_discharge_gastrointestinal = COMBINE_harmonizer.postprocess(df_discharge_gastrointestinal)\n",
    "\n",
    "out_filename = os.sep.join([out_dir, '04-07-gastrointestinal.csv'])\n",
    "df_discharge_gastrointestinal.to_csv(out_filename, index=False)"
   ]
  },
  {
   "cell_type": "markdown",
   "id": "bc8c860b",
   "metadata": {},
   "source": [
    "### 04-07-2. check empty cells"
   ]
  },
  {
   "cell_type": "code",
   "execution_count": 231,
   "id": "610643ea",
   "metadata": {
    "execution": {
     "iopub.execute_input": "2025-05-10T00:14:21.154034Z",
     "iopub.status.busy": "2025-05-10T00:14:21.153888Z",
     "iopub.status.idle": "2025-05-10T00:14:21.157172Z",
     "shell.execute_reply": "2025-05-10T00:14:21.156876Z"
    }
   },
   "outputs": [
    {
     "name": "stdout",
     "output_type": "stream",
     "text": [
      "(0/9) column: center (364 / 0)\n",
      "(1/9) column: subjectID (364 / 0)\n",
      "(2/9) column: uniqueID (364 / 0)\n",
      "(3/9) column: dischargeFullNippleFeed (364 / 0)\n",
      "(4/9) column: dischargeNEC (364 / 0)\n",
      "(5/9) column: dischargeHepaticDysfunction (364 / 0)\n",
      "(6/9) column: dischargeEnteralFeedStart_day (337 / 27)\n",
      "(7/9) column: dischargeTubeFeedingDuration_day (343 / 21)\n",
      "(8/9) column: dischargeFullNippleFeed_day (237 / 127)\n"
     ]
    }
   ],
   "source": [
    "COMBINE_harmonizer.check_empty(df_discharge_gastrointestinal)"
   ]
  },
  {
   "cell_type": "code",
   "execution_count": 232,
   "id": "2ae63449",
   "metadata": {
    "execution": {
     "iopub.execute_input": "2025-05-10T00:14:21.159025Z",
     "iopub.status.busy": "2025-05-10T00:14:21.158826Z",
     "iopub.status.idle": "2025-05-10T00:14:21.162283Z",
     "shell.execute_reply": "2025-05-10T00:14:21.162028Z"
    }
   },
   "outputs": [
    {
     "name": "stdout",
     "output_type": "stream",
     "text": [
      "(0/9) center: (364/0)\n",
      "(1/9) subjectID: (364/0)\n",
      "(2/9) uniqueID: (364/0)\n",
      "(3/9) dischargeFullNippleFeed: (364/0)\n",
      "(4/9) dischargeNEC: (364/0)\n",
      "(5/9) dischargeHepaticDysfunction: (364/0)\n",
      "(6/9) dischargeEnteralFeedStart_day: (337/27)\n",
      "(7/9) dischargeTubeFeedingDuration_day: (343/21)\n",
      "(8/9) dischargeFullNippleFeed_day: (237/127)\n"
     ]
    }
   ],
   "source": [
    "COMBINE_harmonizer.column_info(df_discharge_gastrointestinal)"
   ]
  },
  {
   "cell_type": "markdown",
   "id": "518f125a",
   "metadata": {},
   "source": [
    "## 04-08. Skin"
   ]
  },
  {
   "cell_type": "code",
   "execution_count": 233,
   "id": "629b3029",
   "metadata": {
    "execution": {
     "iopub.execute_input": "2025-05-10T00:14:21.163769Z",
     "iopub.status.busy": "2025-05-10T00:14:21.163638Z",
     "iopub.status.idle": "2025-05-10T00:14:21.168224Z",
     "shell.execute_reply": "2025-05-10T00:14:21.167882Z"
    }
   },
   "outputs": [
    {
     "data": {
      "text/plain": [
       "['dischargeAlteredSkinItegrityPostIntervention',\n",
       " 'dischargeErythema',\n",
       " 'dischargeErythemaOnsetDate',\n",
       " 'dischargeErythemaResolveDate',\n",
       " 'dischargeSclerema',\n",
       " 'dischargeScleremaOnsetDate',\n",
       " 'dischargeScleremaResolveDate',\n",
       " 'dischargeCyanosis',\n",
       " 'dischargeCyanosisOnsetDate',\n",
       " 'dischargeCyanosisResolveDate',\n",
       " 'dischargeSubFatNecrosis',\n",
       " 'dischargeSubFatNecrosisOnsetDate',\n",
       " 'dischargeSubFatNecrosisResolveDate']"
      ]
     },
     "execution_count": 233,
     "metadata": {},
     "output_type": "execute_result"
    }
   ],
   "source": [
    "discharge_skin_columns = COMBINE_harmonizer.get_columns(\n",
    "    df_data_dict,\n",
    "    COMBINE_harmonizer.CATEGORY_NICU_DISCHARGE,\n",
    "    COMBINE_harmonizer.SUBCATEGORY_SKIN)\n",
    "\n",
    "all_discharge_skin_columns = id_columns + discharge_skin_columns\n",
    "discharge_skin_columns"
   ]
  },
  {
   "cell_type": "code",
   "execution_count": 234,
   "id": "c7011305",
   "metadata": {
    "execution": {
     "iopub.execute_input": "2025-05-10T00:14:21.169811Z",
     "iopub.status.busy": "2025-05-10T00:14:21.169662Z",
     "iopub.status.idle": "2025-05-10T00:14:21.246283Z",
     "shell.execute_reply": "2025-05-10T00:14:21.245572Z"
    }
   },
   "outputs": [],
   "source": [
    "df_discharge_skin = COMBINE_harmonizer.valid_columns(df_main, all_discharge_skin_columns, debug_df=False, debug_columns=True)\n",
    "df_discharge_skin = COMBINE_harmonizer.postprocess(df_discharge_skin)\n",
    "\n",
    "out_filename = os.sep.join([out_dir, '04-08-skin.csv'])\n",
    "df_discharge_skin.to_csv(out_filename, index=False)"
   ]
  },
  {
   "cell_type": "markdown",
   "id": "4124a78c",
   "metadata": {},
   "source": [
    "### 04-08-2. check empty cells"
   ]
  },
  {
   "cell_type": "code",
   "execution_count": 235,
   "id": "758522cc",
   "metadata": {
    "execution": {
     "iopub.execute_input": "2025-05-10T00:14:21.255645Z",
     "iopub.status.busy": "2025-05-10T00:14:21.255090Z",
     "iopub.status.idle": "2025-05-10T00:14:21.263620Z",
     "shell.execute_reply": "2025-05-10T00:14:21.263156Z"
    }
   },
   "outputs": [
    {
     "name": "stdout",
     "output_type": "stream",
     "text": [
      "(0/16) column: center (364 / 0)\n",
      "(1/16) column: subjectID (364 / 0)\n",
      "(2/16) column: uniqueID (364 / 0)\n",
      "(3/16) column: dischargeAlteredSkinItegrityPostIntervention (364 / 0)\n",
      "(4/16) column: dischargeErythema (28 / 336)\n",
      "(5/16) column: dischargeSclerema (28 / 336)\n",
      "(6/16) column: dischargeCyanosis (28 / 336)\n",
      "(7/16) column: dischargeSubFatNecrosis (28 / 336)\n",
      "(8/16) column: dischargeErythemaOnsetDate (13 / 351)\n",
      "(9/16) column: dischargeErythemaResolveDate (10 / 354)\n",
      "(10/16) column: dischargeScleremaOnsetDate (0 / 364)\n",
      "(11/16) column: dischargeScleremaResolveDate (0 / 364)\n",
      "(12/16) column: dischargeCyanosisOnsetDate (1 / 363)\n",
      "(13/16) column: dischargeCyanosisResolveDate (1 / 363)\n",
      "(14/16) column: dischargeSubFatNecrosisOnsetDate (15 / 349)\n",
      "(15/16) column: dischargeSubFatNecrosisResolveDate (8 / 356)\n"
     ]
    }
   ],
   "source": [
    "COMBINE_harmonizer.check_empty(df_discharge_skin)"
   ]
  },
  {
   "cell_type": "code",
   "execution_count": 236,
   "id": "1b24e623",
   "metadata": {
    "execution": {
     "iopub.execute_input": "2025-05-10T00:14:21.266056Z",
     "iopub.status.busy": "2025-05-10T00:14:21.265830Z",
     "iopub.status.idle": "2025-05-10T00:14:21.271239Z",
     "shell.execute_reply": "2025-05-10T00:14:21.270746Z"
    }
   },
   "outputs": [
    {
     "name": "stdout",
     "output_type": "stream",
     "text": [
      "(0/16) center: (364/0)\n",
      "(1/16) subjectID: (364/0)\n",
      "(2/16) uniqueID: (364/0)\n",
      "(3/16) dischargeAlteredSkinItegrityPostIntervention: (364/0)\n",
      "(4/16) dischargeErythema: (28/336)\n",
      "(5/16) dischargeSclerema: (28/336)\n",
      "(6/16) dischargeCyanosis: (28/336)\n",
      "(7/16) dischargeSubFatNecrosis: (28/336)\n",
      "(8/16) dischargeErythemaOnsetDate: (13/351)\n",
      "(9/16) dischargeErythemaResolveDate: (10/354)\n",
      "(10/16) dischargeScleremaOnsetDate: (0/364)\n",
      "(11/16) dischargeScleremaResolveDate: (0/364)\n",
      "(12/16) dischargeCyanosisOnsetDate: (1/363)\n",
      "(13/16) dischargeCyanosisResolveDate: (1/363)\n",
      "(14/16) dischargeSubFatNecrosisOnsetDate: (15/349)\n",
      "(15/16) dischargeSubFatNecrosisResolveDate: (8/356)\n"
     ]
    }
   ],
   "source": [
    "COMBINE_harmonizer.column_info(df_discharge_skin)"
   ]
  },
  {
   "cell_type": "markdown",
   "id": "3bce5600",
   "metadata": {},
   "source": [
    "## 04-09. Auditory"
   ]
  },
  {
   "cell_type": "code",
   "execution_count": 237,
   "id": "80956a0d",
   "metadata": {
    "execution": {
     "iopub.execute_input": "2025-05-10T00:14:21.273328Z",
     "iopub.status.busy": "2025-05-10T00:14:21.273145Z",
     "iopub.status.idle": "2025-05-10T00:14:21.277149Z",
     "shell.execute_reply": "2025-05-10T00:14:21.276813Z"
    }
   },
   "outputs": [
    {
     "data": {
      "text/plain": [
       "['dischargeHearingTest', 'dischargeHearingTestNormal']"
      ]
     },
     "execution_count": 237,
     "metadata": {},
     "output_type": "execute_result"
    }
   ],
   "source": [
    "discharge_auditory_columns = COMBINE_harmonizer.get_columns(\n",
    "    df_data_dict,\n",
    "    COMBINE_harmonizer.CATEGORY_NICU_DISCHARGE,\n",
    "    COMBINE_harmonizer.SUBCATEGORY_AUDITORY)\n",
    "\n",
    "all_discharge_auditory_columns = id_columns + discharge_auditory_columns\n",
    "discharge_auditory_columns"
   ]
  },
  {
   "cell_type": "code",
   "execution_count": 238,
   "id": "e13dde67",
   "metadata": {
    "execution": {
     "iopub.execute_input": "2025-05-10T00:14:21.278964Z",
     "iopub.status.busy": "2025-05-10T00:14:21.278816Z",
     "iopub.status.idle": "2025-05-10T00:14:21.353905Z",
     "shell.execute_reply": "2025-05-10T00:14:21.353119Z"
    }
   },
   "outputs": [],
   "source": [
    "df_discharge_auditory = COMBINE_harmonizer.valid_columns(df_main, all_discharge_auditory_columns, debug_df=False, debug_columns=True)\n",
    "df_discharge_auditory = COMBINE_harmonizer.postprocess(df_discharge_auditory)\n",
    "\n",
    "out_filename = os.sep.join([out_dir, '04-09-auditory.csv'])\n",
    "df_discharge_auditory.to_csv(out_filename, index=False)"
   ]
  },
  {
   "cell_type": "markdown",
   "id": "9a152a13",
   "metadata": {},
   "source": [
    "### 04-09-2. check empty cells"
   ]
  },
  {
   "cell_type": "code",
   "execution_count": 239,
   "id": "71fee79e",
   "metadata": {
    "execution": {
     "iopub.execute_input": "2025-05-10T00:14:21.357858Z",
     "iopub.status.busy": "2025-05-10T00:14:21.357510Z",
     "iopub.status.idle": "2025-05-10T00:14:21.364769Z",
     "shell.execute_reply": "2025-05-10T00:14:21.363822Z"
    }
   },
   "outputs": [
    {
     "name": "stdout",
     "output_type": "stream",
     "text": [
      "(0/5) column: center (364 / 0)\n",
      "(1/5) column: subjectID (364 / 0)\n",
      "(2/5) column: uniqueID (364 / 0)\n",
      "(3/5) column: dischargeHearingTest (364 / 0)\n",
      "(4/5) column: dischargeHearingTestNormal (290 / 74)\n"
     ]
    }
   ],
   "source": [
    "COMBINE_harmonizer.check_empty(df_discharge_auditory)"
   ]
  },
  {
   "cell_type": "code",
   "execution_count": 240,
   "id": "21b3720e",
   "metadata": {
    "execution": {
     "iopub.execute_input": "2025-05-10T00:14:21.366578Z",
     "iopub.status.busy": "2025-05-10T00:14:21.366468Z",
     "iopub.status.idle": "2025-05-10T00:14:21.369905Z",
     "shell.execute_reply": "2025-05-10T00:14:21.369575Z"
    }
   },
   "outputs": [
    {
     "name": "stdout",
     "output_type": "stream",
     "text": [
      "(0/5) center: (364/0)\n",
      "(1/5) subjectID: (364/0)\n",
      "(2/5) uniqueID: (364/0)\n",
      "(3/5) dischargeHearingTest: (364/0)\n",
      "(4/5) dischargeHearingTestNormal: (290/74)\n"
     ]
    }
   ],
   "source": [
    "COMBINE_harmonizer.column_info(df_discharge_auditory)"
   ]
  },
  {
   "cell_type": "markdown",
   "id": "922f17cb",
   "metadata": {},
   "source": [
    "## 04-10. Surgery"
   ]
  },
  {
   "cell_type": "code",
   "execution_count": 241,
   "id": "e427968f",
   "metadata": {
    "execution": {
     "iopub.execute_input": "2025-05-10T00:14:21.371645Z",
     "iopub.status.busy": "2025-05-10T00:14:21.371488Z",
     "iopub.status.idle": "2025-05-10T00:14:21.375081Z",
     "shell.execute_reply": "2025-05-10T00:14:21.374773Z"
    }
   },
   "outputs": [
    {
     "data": {
      "text/plain": [
       "['dischargeMajorSurgery',\n",
       " 'dischargeSurgeryCode1',\n",
       " 'dischargeSurgeryCode2',\n",
       " 'dischargeSurgeryCode3']"
      ]
     },
     "execution_count": 241,
     "metadata": {},
     "output_type": "execute_result"
    }
   ],
   "source": [
    "discharge_surgery_columns = COMBINE_harmonizer.get_columns(\n",
    "    df_data_dict,\n",
    "    COMBINE_harmonizer.CATEGORY_NICU_DISCHARGE,\n",
    "    COMBINE_harmonizer.SUBCATEGORY_SURGERY)\n",
    "\n",
    "all_discharge_surgery_columns = id_columns + discharge_surgery_columns\n",
    "discharge_surgery_columns"
   ]
  },
  {
   "cell_type": "code",
   "execution_count": 242,
   "id": "f1fec6b6",
   "metadata": {
    "execution": {
     "iopub.execute_input": "2025-05-10T00:14:21.376788Z",
     "iopub.status.busy": "2025-05-10T00:14:21.376678Z",
     "iopub.status.idle": "2025-05-10T00:14:21.435296Z",
     "shell.execute_reply": "2025-05-10T00:14:21.431733Z"
    }
   },
   "outputs": [],
   "source": [
    "df_discharge_surgery = COMBINE_harmonizer.valid_columns(df_main, all_discharge_surgery_columns, debug_df=False, debug_columns=True)\n",
    "df_discharge_surgery = COMBINE_harmonizer.postprocess(df_discharge_surgery)\n",
    "\n",
    "out_filename = os.sep.join([out_dir, '04-10-surgery.csv'])\n",
    "df_discharge_surgery.to_csv(out_filename, index=False)"
   ]
  },
  {
   "cell_type": "markdown",
   "id": "144be843",
   "metadata": {},
   "source": [
    "### 04-10-2. check empty cells"
   ]
  },
  {
   "cell_type": "code",
   "execution_count": 243,
   "id": "e390824f",
   "metadata": {
    "execution": {
     "iopub.execute_input": "2025-05-10T00:14:21.439672Z",
     "iopub.status.busy": "2025-05-10T00:14:21.439253Z",
     "iopub.status.idle": "2025-05-10T00:14:21.444520Z",
     "shell.execute_reply": "2025-05-10T00:14:21.443948Z"
    }
   },
   "outputs": [
    {
     "name": "stdout",
     "output_type": "stream",
     "text": [
      "(0/7) column: center (364 / 0)\n",
      "(1/7) column: subjectID (364 / 0)\n",
      "(2/7) column: uniqueID (364 / 0)\n",
      "(3/7) column: dischargeMajorSurgery (364 / 0)\n",
      "(4/7) column: dischargeSurgeryCode1 (42 / 322)\n",
      "(5/7) column: dischargeSurgeryCode2 (12 / 352)\n",
      "(6/7) column: dischargeSurgeryCode3 (5 / 359)\n"
     ]
    }
   ],
   "source": [
    "COMBINE_harmonizer.check_empty(df_discharge_surgery)"
   ]
  },
  {
   "cell_type": "code",
   "execution_count": 244,
   "id": "01afe520",
   "metadata": {
    "execution": {
     "iopub.execute_input": "2025-05-10T00:14:21.446733Z",
     "iopub.status.busy": "2025-05-10T00:14:21.446521Z",
     "iopub.status.idle": "2025-05-10T00:14:21.449884Z",
     "shell.execute_reply": "2025-05-10T00:14:21.449443Z"
    }
   },
   "outputs": [
    {
     "name": "stdout",
     "output_type": "stream",
     "text": [
      "(0/7) center: (364/0)\n",
      "(1/7) subjectID: (364/0)\n",
      "(2/7) uniqueID: (364/0)\n",
      "(3/7) dischargeMajorSurgery: (364/0)\n",
      "(4/7) dischargeSurgeryCode1: (42/322)\n",
      "(5/7) dischargeSurgeryCode2: (12/352)\n",
      "(6/7) dischargeSurgeryCode3: (5/359)\n"
     ]
    }
   ],
   "source": [
    "COMBINE_harmonizer.column_info(df_discharge_surgery)"
   ]
  },
  {
   "cell_type": "markdown",
   "id": "fc80b430",
   "metadata": {},
   "source": [
    "## 04-11. Infection"
   ]
  },
  {
   "cell_type": "code",
   "execution_count": 245,
   "id": "5737a6f4",
   "metadata": {
    "execution": {
     "iopub.execute_input": "2025-05-10T00:14:21.452118Z",
     "iopub.status.busy": "2025-05-10T00:14:21.451963Z",
     "iopub.status.idle": "2025-05-10T00:14:21.456548Z",
     "shell.execute_reply": "2025-05-10T00:14:21.456190Z"
    }
   },
   "outputs": [
    {
     "data": {
      "text/plain": [
       "['dischargeSepticemia',\n",
       " 'dischargeSepticemiaOrganismCode1',\n",
       " 'dischargeSepticemiaOrganismCode2',\n",
       " 'dischargeSepticemiaOrganismCode3',\n",
       " 'dischargeMeningitisEncephalitis',\n",
       " 'dischargeMeningitisOrganismCode1',\n",
       " 'dischargeMeningitisOrganismCode2',\n",
       " 'dischargeMeningitisOrganismCode3']"
      ]
     },
     "execution_count": 245,
     "metadata": {},
     "output_type": "execute_result"
    }
   ],
   "source": [
    "discharge_infection_columns = COMBINE_harmonizer.get_columns(\n",
    "    df_data_dict,\n",
    "    COMBINE_harmonizer.CATEGORY_NICU_DISCHARGE,\n",
    "    COMBINE_harmonizer.SUBCATEGORY_INFECTION)\n",
    "\n",
    "all_discharge_infection_columns = id_columns + discharge_infection_columns\n",
    "discharge_infection_columns"
   ]
  },
  {
   "cell_type": "code",
   "execution_count": 246,
   "id": "57ce1085",
   "metadata": {
    "execution": {
     "iopub.execute_input": "2025-05-10T00:14:21.457909Z",
     "iopub.status.busy": "2025-05-10T00:14:21.457782Z",
     "iopub.status.idle": "2025-05-10T00:14:21.515514Z",
     "shell.execute_reply": "2025-05-10T00:14:21.514934Z"
    }
   },
   "outputs": [],
   "source": [
    "df_discharge_infection = COMBINE_harmonizer.valid_columns(df_main, all_discharge_infection_columns, debug_df=False, debug_columns=True)\n",
    "df_discharge_infection = COMBINE_harmonizer.postprocess(df_discharge_infection)\n",
    "\n",
    "out_filename = os.sep.join([out_dir, '04-11-infection.csv'])\n",
    "df_discharge_infection.to_csv(out_filename, index=False)"
   ]
  },
  {
   "cell_type": "markdown",
   "id": "662dabe9",
   "metadata": {},
   "source": [
    "### 04-11-2. check empty cells"
   ]
  },
  {
   "cell_type": "code",
   "execution_count": 247,
   "id": "2cdd55ca",
   "metadata": {
    "execution": {
     "iopub.execute_input": "2025-05-10T00:14:21.518668Z",
     "iopub.status.busy": "2025-05-10T00:14:21.518406Z",
     "iopub.status.idle": "2025-05-10T00:14:21.524174Z",
     "shell.execute_reply": "2025-05-10T00:14:21.523699Z"
    }
   },
   "outputs": [
    {
     "name": "stdout",
     "output_type": "stream",
     "text": [
      "(0/11) column: center (364 / 0)\n",
      "(1/11) column: subjectID (364 / 0)\n",
      "(2/11) column: uniqueID (364 / 0)\n",
      "(3/11) column: dischargeSepticemia (364 / 0)\n",
      "(4/11) column: dischargeMeningitisEncephalitis (364 / 0)\n",
      "(5/11) column: dischargeSepticemiaOrganismCode1 (13 / 351)\n",
      "(6/11) column: dischargeSepticemiaOrganismCode2 (1 / 363)\n",
      "(7/11) column: dischargeSepticemiaOrganismCode3 (0 / 364)\n",
      "(8/11) column: dischargeMeningitisOrganismCode1 (0 / 364)\n",
      "(9/11) column: dischargeMeningitisOrganismCode2 (0 / 364)\n",
      "(10/11) column: dischargeMeningitisOrganismCode3 (0 / 364)\n"
     ]
    }
   ],
   "source": [
    "COMBINE_harmonizer.check_empty(df_discharge_infection)"
   ]
  },
  {
   "cell_type": "code",
   "execution_count": 248,
   "id": "327b2bd2",
   "metadata": {
    "execution": {
     "iopub.execute_input": "2025-05-10T00:14:21.526596Z",
     "iopub.status.busy": "2025-05-10T00:14:21.526394Z",
     "iopub.status.idle": "2025-05-10T00:14:21.530209Z",
     "shell.execute_reply": "2025-05-10T00:14:21.529769Z"
    }
   },
   "outputs": [
    {
     "name": "stdout",
     "output_type": "stream",
     "text": [
      "(0/11) center: (364/0)\n",
      "(1/11) subjectID: (364/0)\n",
      "(2/11) uniqueID: (364/0)\n",
      "(3/11) dischargeSepticemia: (364/0)\n",
      "(4/11) dischargeMeningitisEncephalitis: (364/0)\n",
      "(5/11) dischargeSepticemiaOrganismCode1: (13/351)\n",
      "(6/11) dischargeSepticemiaOrganismCode2: (1/363)\n",
      "(7/11) dischargeSepticemiaOrganismCode3: (0/364)\n",
      "(8/11) dischargeMeningitisOrganismCode1: (0/364)\n",
      "(9/11) dischargeMeningitisOrganismCode2: (0/364)\n",
      "(10/11) dischargeMeningitisOrganismCode3: (0/364)\n"
     ]
    }
   ],
   "source": [
    "COMBINE_harmonizer.column_info(df_discharge_infection)"
   ]
  },
  {
   "cell_type": "markdown",
   "id": "630cc840",
   "metadata": {},
   "source": [
    "## 04-13. Seizure"
   ]
  },
  {
   "cell_type": "code",
   "execution_count": 249,
   "id": "ac324892",
   "metadata": {
    "execution": {
     "iopub.execute_input": "2025-05-10T00:14:21.532500Z",
     "iopub.status.busy": "2025-05-10T00:14:21.532336Z",
     "iopub.status.idle": "2025-05-10T00:14:21.537040Z",
     "shell.execute_reply": "2025-05-10T00:14:21.536621Z"
    }
   },
   "outputs": [
    {
     "data": {
      "text/plain": [
       "['dischargeSeizure',\n",
       " 'dischargeSeizurePreIntervention',\n",
       " 'dischargeSeizureAfterBaseline',\n",
       " 'dischargeSeizureMaintenance',\n",
       " 'dischargeSeizureRewarming',\n",
       " 'dischargeSeizurePostIntervention',\n",
       " 'dischargeEEG',\n",
       " 'dischargeEEGFindingConsistentWithSeizure',\n",
       " 'dischargeEEGFindingConsistentWithSeizureDate',\n",
       " 'dischargeEEGFindingConsistentWithSeizureTime',\n",
       " 'dischargeEEGAbnormalBackgroundActivity',\n",
       " 'dischargeEEGAbnormalBackgroundActivityDate',\n",
       " 'dischargeEEGAbnormalBackgroundActivityTime',\n",
       " 'dischargeAnticonvulsantsGreater72H',\n",
       " 'dischargeAnticonvulsants']"
      ]
     },
     "execution_count": 249,
     "metadata": {},
     "output_type": "execute_result"
    }
   ],
   "source": [
    "discharge_neuro_columns = COMBINE_harmonizer.get_columns(\n",
    "    df_data_dict,\n",
    "    COMBINE_harmonizer.CATEGORY_NICU_DISCHARGE,\n",
    "    COMBINE_harmonizer.SUBCATEGORY_SEIZURE)\n",
    "\n",
    "all_discharge_neuro_columns = id_columns + discharge_neuro_columns\n",
    "discharge_neuro_columns"
   ]
  },
  {
   "cell_type": "code",
   "execution_count": 250,
   "id": "636c5a36",
   "metadata": {
    "execution": {
     "iopub.execute_input": "2025-05-10T00:14:21.539243Z",
     "iopub.status.busy": "2025-05-10T00:14:21.539076Z",
     "iopub.status.idle": "2025-05-10T00:14:21.595016Z",
     "shell.execute_reply": "2025-05-10T00:14:21.594568Z"
    }
   },
   "outputs": [],
   "source": [
    "df_discharge_neuro = COMBINE_harmonizer.valid_columns(df_main, all_discharge_neuro_columns, debug_df=False, debug_columns=True)\n",
    "df_discharge_neuro = COMBINE_harmonizer.postprocess(df_discharge_neuro)\n",
    "\n",
    "out_filename = os.sep.join([out_dir, '04-13-seizure.csv'])\n",
    "df_discharge_neuro.to_csv(out_filename, index=False)"
   ]
  },
  {
   "cell_type": "markdown",
   "id": "0f986048",
   "metadata": {},
   "source": [
    "### 04-13-2. check empty cells"
   ]
  },
  {
   "cell_type": "code",
   "execution_count": 251,
   "id": "24c27cb5",
   "metadata": {
    "execution": {
     "iopub.execute_input": "2025-05-10T00:14:21.596863Z",
     "iopub.status.busy": "2025-05-10T00:14:21.596677Z",
     "iopub.status.idle": "2025-05-10T00:14:21.602308Z",
     "shell.execute_reply": "2025-05-10T00:14:21.602040Z"
    }
   },
   "outputs": [
    {
     "name": "stdout",
     "output_type": "stream",
     "text": [
      "(0/18) column: center (364 / 0)\n",
      "(1/18) column: subjectID (364 / 0)\n",
      "(2/18) column: uniqueID (364 / 0)\n",
      "(3/18) column: dischargeSeizure (364 / 0)\n",
      "(4/18) column: dischargeSeizurePreIntervention (177 / 187)\n",
      "(5/18) column: dischargeSeizureAfterBaseline (177 / 187)\n",
      "(6/18) column: dischargeSeizureMaintenance (177 / 187)\n",
      "(7/18) column: dischargeSeizureRewarming (177 / 187)\n",
      "(8/18) column: dischargeSeizurePostIntervention (177 / 187)\n",
      "(9/18) column: dischargeEEG (364 / 0)\n",
      "(10/18) column: dischargeEEGFindingConsistentWithSeizure (263 / 101)\n",
      "(11/18) column: dischargeEEGAbnormalBackgroundActivity (285 / 79)\n",
      "(12/18) column: dischargeAnticonvulsantsGreater72H (364 / 0)\n",
      "(13/18) column: dischargeEEGFindingConsistentWithSeizureDate (73 / 291)\n",
      "(14/18) column: dischargeEEGFindingConsistentWithSeizureTime (62 / 302)\n",
      "(15/18) column: dischargeEEGAbnormalBackgroundActivityDate (186 / 178)\n",
      "(16/18) column: dischargeEEGAbnormalBackgroundActivityTime (161 / 203)\n",
      "(17/18) column: dischargeAnticonvulsants (338 / 26)\n"
     ]
    }
   ],
   "source": [
    "COMBINE_harmonizer.check_empty(df_discharge_neuro)"
   ]
  },
  {
   "cell_type": "code",
   "execution_count": 252,
   "id": "5a2f66fa",
   "metadata": {
    "execution": {
     "iopub.execute_input": "2025-05-10T00:14:21.603673Z",
     "iopub.status.busy": "2025-05-10T00:14:21.603578Z",
     "iopub.status.idle": "2025-05-10T00:14:21.606436Z",
     "shell.execute_reply": "2025-05-10T00:14:21.606153Z"
    }
   },
   "outputs": [
    {
     "name": "stdout",
     "output_type": "stream",
     "text": [
      "(0/18) center: (364/0)\n",
      "(1/18) subjectID: (364/0)\n",
      "(2/18) uniqueID: (364/0)\n",
      "(3/18) dischargeSeizure: (364/0)\n",
      "(4/18) dischargeSeizurePreIntervention: (177/187)\n",
      "(5/18) dischargeSeizureAfterBaseline: (177/187)\n",
      "(6/18) dischargeSeizureMaintenance: (177/187)\n",
      "(7/18) dischargeSeizureRewarming: (177/187)\n",
      "(8/18) dischargeSeizurePostIntervention: (177/187)\n",
      "(9/18) dischargeEEG: (364/0)\n",
      "(10/18) dischargeEEGFindingConsistentWithSeizure: (263/101)\n",
      "(11/18) dischargeEEGAbnormalBackgroundActivity: (285/79)\n",
      "(12/18) dischargeAnticonvulsantsGreater72H: (364/0)\n",
      "(13/18) dischargeEEGFindingConsistentWithSeizureDate: (73/291)\n",
      "(14/18) dischargeEEGFindingConsistentWithSeizureTime: (62/302)\n",
      "(15/18) dischargeEEGAbnormalBackgroundActivityDate: (186/178)\n",
      "(16/18) dischargeEEGAbnormalBackgroundActivityTime: (161/203)\n",
      "(17/18) dischargeAnticonvulsants: (338/26)\n"
     ]
    }
   ],
   "source": [
    "COMBINE_harmonizer.column_info(df_discharge_neuro)"
   ]
  },
  {
   "cell_type": "markdown",
   "id": "0dd785ac",
   "metadata": {},
   "source": [
    "## 04-14. Birth Defect"
   ]
  },
  {
   "cell_type": "code",
   "execution_count": 253,
   "id": "5e6fe73b",
   "metadata": {
    "execution": {
     "iopub.execute_input": "2025-05-10T00:14:21.607813Z",
     "iopub.status.busy": "2025-05-10T00:14:21.607696Z",
     "iopub.status.idle": "2025-05-10T00:14:21.611249Z",
     "shell.execute_reply": "2025-05-10T00:14:21.610997Z"
    }
   },
   "outputs": [
    {
     "data": {
      "text/plain": [
       "['dischargeSyndromeMalformation',\n",
       " 'dischargeBirthDefectCode1',\n",
       " 'dischargeBirthDefectCode2',\n",
       " 'dischargeBirthDefectCode3']"
      ]
     },
     "execution_count": 253,
     "metadata": {},
     "output_type": "execute_result"
    }
   ],
   "source": [
    "discharge_birth_defect_columns = COMBINE_harmonizer.get_columns(\n",
    "    df_data_dict,\n",
    "    COMBINE_harmonizer.CATEGORY_NICU_DISCHARGE,\n",
    "    COMBINE_harmonizer.SUBCATEGORY_BIRTH_DEFECT)\n",
    "\n",
    "all_discharge_birth_defect_columns = id_columns + discharge_birth_defect_columns\n",
    "discharge_birth_defect_columns"
   ]
  },
  {
   "cell_type": "code",
   "execution_count": 254,
   "id": "08a31a52",
   "metadata": {
    "execution": {
     "iopub.execute_input": "2025-05-10T00:14:21.612615Z",
     "iopub.status.busy": "2025-05-10T00:14:21.612480Z",
     "iopub.status.idle": "2025-05-10T00:14:21.668242Z",
     "shell.execute_reply": "2025-05-10T00:14:21.667879Z"
    }
   },
   "outputs": [],
   "source": [
    "df_discharge_birth_defect = COMBINE_harmonizer.valid_columns(df_main, all_discharge_birth_defect_columns, debug_df=False, debug_columns=True)\n",
    "df_discharge_birth_defect = COMBINE_harmonizer.postprocess(df_discharge_birth_defect)\n",
    "\n",
    "out_filename = os.sep.join([out_dir, '04-14-birth-defect.csv'])\n",
    "df_discharge_birth_defect.to_csv(out_filename, index=False)"
   ]
  },
  {
   "cell_type": "markdown",
   "id": "795840b9",
   "metadata": {},
   "source": [
    "### 04-14-2. check empty cells"
   ]
  },
  {
   "cell_type": "code",
   "execution_count": 255,
   "id": "b6a78995",
   "metadata": {
    "execution": {
     "iopub.execute_input": "2025-05-10T00:14:21.670169Z",
     "iopub.status.busy": "2025-05-10T00:14:21.670035Z",
     "iopub.status.idle": "2025-05-10T00:14:21.672913Z",
     "shell.execute_reply": "2025-05-10T00:14:21.672574Z"
    }
   },
   "outputs": [
    {
     "name": "stdout",
     "output_type": "stream",
     "text": [
      "(0/7) column: center (364 / 0)\n",
      "(1/7) column: subjectID (364 / 0)\n",
      "(2/7) column: uniqueID (364 / 0)\n",
      "(3/7) column: dischargeSyndromeMalformation (364 / 0)\n",
      "(4/7) column: dischargeBirthDefectCode1 (11 / 353)\n",
      "(5/7) column: dischargeBirthDefectCode2 (1 / 363)\n",
      "(6/7) column: dischargeBirthDefectCode3 (0 / 364)\n"
     ]
    }
   ],
   "source": [
    "COMBINE_harmonizer.check_empty(df_discharge_birth_defect)"
   ]
  },
  {
   "cell_type": "code",
   "execution_count": 256,
   "id": "ea8037f8",
   "metadata": {
    "execution": {
     "iopub.execute_input": "2025-05-10T00:14:21.674360Z",
     "iopub.status.busy": "2025-05-10T00:14:21.674240Z",
     "iopub.status.idle": "2025-05-10T00:14:21.676615Z",
     "shell.execute_reply": "2025-05-10T00:14:21.676363Z"
    }
   },
   "outputs": [
    {
     "name": "stdout",
     "output_type": "stream",
     "text": [
      "(0/7) center: (364/0)\n",
      "(1/7) subjectID: (364/0)\n",
      "(2/7) uniqueID: (364/0)\n",
      "(3/7) dischargeSyndromeMalformation: (364/0)\n",
      "(4/7) dischargeBirthDefectCode1: (11/353)\n",
      "(5/7) dischargeBirthDefectCode2: (1/363)\n",
      "(6/7) dischargeBirthDefectCode3: (0/364)\n"
     ]
    }
   ],
   "source": [
    "COMBINE_harmonizer.column_info(df_discharge_birth_defect)"
   ]
  },
  {
   "cell_type": "markdown",
   "id": "18bd910a",
   "metadata": {},
   "source": [
    "## 04-15. Home Therapy"
   ]
  },
  {
   "cell_type": "code",
   "execution_count": 257,
   "id": "9d76983d",
   "metadata": {
    "execution": {
     "iopub.execute_input": "2025-05-10T00:14:21.678183Z",
     "iopub.status.busy": "2025-05-10T00:14:21.678060Z",
     "iopub.status.idle": "2025-05-10T00:14:21.681360Z",
     "shell.execute_reply": "2025-05-10T00:14:21.680976Z"
    }
   },
   "outputs": [
    {
     "data": {
      "text/plain": [
       "['dischargeHomeTherapy',\n",
       " 'dischargeHomeTherapyVentilator',\n",
       " 'dischargeHomeTherapyOxygen',\n",
       " 'dischargeHomeTherapyGavageTubeFeed',\n",
       " 'dischargeHomeTherapyGastrostomyTubeFeed',\n",
       " 'dischargeHomeTherapyTemperatureBlanket',\n",
       " 'dischargeHomeTherapyAnticonvulsantMedication',\n",
       " 'dischargeHomeTherapyOther',\n",
       " 'dischargeHomeTherapyOtherText']"
      ]
     },
     "execution_count": 257,
     "metadata": {},
     "output_type": "execute_result"
    }
   ],
   "source": [
    "discharge_home_therapy_columns = COMBINE_harmonizer.get_columns(\n",
    "    df_data_dict,\n",
    "    COMBINE_harmonizer.CATEGORY_NICU_DISCHARGE,\n",
    "    COMBINE_harmonizer.SUBCATEGORY_HOME_THERAPY)\n",
    "\n",
    "all_discharge_home_therapy_columns = id_columns + discharge_home_therapy_columns\n",
    "discharge_home_therapy_columns"
   ]
  },
  {
   "cell_type": "code",
   "execution_count": 258,
   "id": "d42746e3",
   "metadata": {
    "execution": {
     "iopub.execute_input": "2025-05-10T00:14:21.682801Z",
     "iopub.status.busy": "2025-05-10T00:14:21.682695Z",
     "iopub.status.idle": "2025-05-10T00:14:21.735577Z",
     "shell.execute_reply": "2025-05-10T00:14:21.735098Z"
    }
   },
   "outputs": [],
   "source": [
    "df_discharge_home_therapy = COMBINE_harmonizer.valid_columns(df_main, all_discharge_home_therapy_columns, debug_df=False, debug_columns=True)\n",
    "df_discharge_home_therapy = COMBINE_harmonizer.postprocess(df_discharge_home_therapy)\n",
    "\n",
    "out_filename = os.sep.join([out_dir, '04-15-home-therapy.csv'])\n",
    "df_discharge_home_therapy.to_csv(out_filename, index=False)"
   ]
  },
  {
   "cell_type": "markdown",
   "id": "36ff3542",
   "metadata": {},
   "source": [
    "### 04-15-2. check empty cells"
   ]
  },
  {
   "cell_type": "code",
   "execution_count": 259,
   "id": "d57ce9d9",
   "metadata": {
    "execution": {
     "iopub.execute_input": "2025-05-10T00:14:21.738050Z",
     "iopub.status.busy": "2025-05-10T00:14:21.737837Z",
     "iopub.status.idle": "2025-05-10T00:14:21.743072Z",
     "shell.execute_reply": "2025-05-10T00:14:21.742635Z"
    }
   },
   "outputs": [
    {
     "name": "stdout",
     "output_type": "stream",
     "text": [
      "(0/12) column: center (364 / 0)\n",
      "(1/12) column: subjectID (364 / 0)\n",
      "(2/12) column: uniqueID (364 / 0)\n",
      "(3/12) column: dischargeHomeTherapy (314 / 50)\n",
      "(4/12) column: dischargeHomeTherapyVentilator (118 / 246)\n",
      "(5/12) column: dischargeHomeTherapyOxygen (118 / 246)\n",
      "(6/12) column: dischargeHomeTherapyGavageTubeFeed (118 / 246)\n",
      "(7/12) column: dischargeHomeTherapyGastrostomyTubeFeed (118 / 246)\n",
      "(8/12) column: dischargeHomeTherapyTemperatureBlanket (118 / 246)\n",
      "(9/12) column: dischargeHomeTherapyAnticonvulsantMedication (118 / 246)\n",
      "(10/12) column: dischargeHomeTherapyOther (118 / 246)\n",
      "(11/12) column: dischargeHomeTherapyOtherText (36 / 328)\n"
     ]
    }
   ],
   "source": [
    "COMBINE_harmonizer.check_empty(df_discharge_home_therapy)"
   ]
  },
  {
   "cell_type": "code",
   "execution_count": 260,
   "id": "05adb545",
   "metadata": {
    "execution": {
     "iopub.execute_input": "2025-05-10T00:14:21.745347Z",
     "iopub.status.busy": "2025-05-10T00:14:21.745135Z",
     "iopub.status.idle": "2025-05-10T00:14:21.748846Z",
     "shell.execute_reply": "2025-05-10T00:14:21.748501Z"
    }
   },
   "outputs": [
    {
     "name": "stdout",
     "output_type": "stream",
     "text": [
      "(0/12) center: (364/0)\n",
      "(1/12) subjectID: (364/0)\n",
      "(2/12) uniqueID: (364/0)\n",
      "(3/12) dischargeHomeTherapy: (314/50)\n",
      "(4/12) dischargeHomeTherapyVentilator: (118/246)\n",
      "(5/12) dischargeHomeTherapyOxygen: (118/246)\n",
      "(6/12) dischargeHomeTherapyGavageTubeFeed: (118/246)\n",
      "(7/12) dischargeHomeTherapyGastrostomyTubeFeed: (118/246)\n",
      "(8/12) dischargeHomeTherapyTemperatureBlanket: (118/246)\n",
      "(9/12) dischargeHomeTherapyAnticonvulsantMedication: (118/246)\n",
      "(10/12) dischargeHomeTherapyOther: (118/246)\n",
      "(11/12) dischargeHomeTherapyOtherText: (36/328)\n"
     ]
    }
   ],
   "source": [
    "COMBINE_harmonizer.column_info(df_discharge_home_therapy)"
   ]
  }
 ],
 "metadata": {
  "kernelspec": {
   "display_name": ".venv",
   "language": "python",
   "name": "python3"
  },
  "language_info": {
   "codemirror_mode": {
    "name": "ipython",
    "version": 3
   },
   "file_extension": ".py",
   "mimetype": "text/x-python",
   "name": "python",
   "nbconvert_exporter": "python",
   "pygments_lexer": "ipython3",
   "version": "3.13.2"
  }
 },
 "nbformat": 4,
 "nbformat_minor": 5
}
