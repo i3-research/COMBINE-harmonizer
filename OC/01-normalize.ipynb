{
 "cells": [
  {
   "cell_type": "code",
   "execution_count": 1,
   "id": "b489f506-fad1-426c-8c20-01483f08535c",
   "metadata": {
    "execution": {
     "iopub.execute_input": "2025-02-04T10:53:51.018827Z",
     "iopub.status.busy": "2025-02-04T10:53:51.018585Z",
     "iopub.status.idle": "2025-02-04T10:53:52.098961Z",
     "shell.execute_reply": "2025-02-04T10:53:52.098590Z"
    }
   },
   "outputs": [],
   "source": [
    "import pandas as pd\n",
    "pd.options.mode.copy_on_write = True\n",
    "import warnings\n",
    "warnings.simplefilter(action='ignore', category=pd.errors.PerformanceWarning)\n",
    "\n",
    "import os\n",
    "import re\n",
    "import pydoc\n",
    "\n",
    "import COMBINE_harmonizer\n",
    "from COMBINE_harmonizer import cfg"
   ]
  },
  {
   "cell_type": "markdown",
   "id": "d4fd686c-7c99-4fca-b7d1-8bb141cd477a",
   "metadata": {},
   "source": [
    "## 00-0. Variables"
   ]
  },
  {
   "cell_type": "code",
   "execution_count": 2,
   "id": "1cdb259f",
   "metadata": {
    "execution": {
     "iopub.execute_input": "2025-02-04T10:53:52.100613Z",
     "iopub.status.busy": "2025-02-04T10:53:52.100474Z",
     "iopub.status.idle": "2025-02-04T10:53:52.102239Z",
     "shell.execute_reply": "2025-02-04T10:53:52.102017Z"
    }
   },
   "outputs": [],
   "source": [
    "study_name = COMBINE_harmonizer.STUDY_OC\n",
    "sheet_name = COMBINE_harmonizer.SHEET_MAIN\n",
    "\n",
    "root_dir = '..'"
   ]
  },
  {
   "cell_type": "code",
   "execution_count": 3,
   "id": "2221064e",
   "metadata": {
    "execution": {
     "iopub.execute_input": "2025-02-04T10:53:52.103267Z",
     "iopub.status.busy": "2025-02-04T10:53:52.103194Z",
     "iopub.status.idle": "2025-02-04T10:53:52.106387Z",
     "shell.execute_reply": "2025-02-04T10:53:52.106177Z"
    }
   },
   "outputs": [],
   "source": [
    "COMBINE_harmonizer.init(f'{root_dir}/config.yaml')\n"
   ]
  },
  {
   "cell_type": "code",
   "execution_count": 4,
   "id": "3656b37c-be73-4991-b22d-76138a285cef",
   "metadata": {
    "execution": {
     "iopub.execute_input": "2025-02-04T10:53:52.107533Z",
     "iopub.status.busy": "2025-02-04T10:53:52.107459Z",
     "iopub.status.idle": "2025-02-04T10:53:52.109377Z",
     "shell.execute_reply": "2025-02-04T10:53:52.109166Z"
    }
   },
   "outputs": [],
   "source": [
    "_FILENAMES = [\n",
    "    'oc01.csv',\n",
    "    'oc02.csv',\n",
    "    'oc04.csv',\n",
    "    'oc05.csv',\n",
    "    'oc06d.csv',\n",
    "    'oc06t.csv',\n",
    "    'oc06t120.csv',\n",
    "    'oc06t72.csv',\n",
    "    'oc07.csv',\n",
    "    'oc08.csv',\n",
    "    'oc09.csv',\n",
    "    'oc09i.csv',\n",
    "    'oc10.csv',\n",
    "    'oc11.csv',\n",
    "    'oc12.csv',\n",
    "    'oc13.csv',\n",
    "    'oc14.csv',\n",
    "    'oc15.csv',\n",
    "    'oc17.csv',\n",
    "\n",
    "    'ocmr01.csv',\n",
    "    'ocmr02.csv',\n",
    "    'ocmr03.csv',\n",
    "]\n",
    "\n",
    "# intended for single record per unique-id.\n",
    "_FILENAMES_MERGE = [\n",
    "    'oc01.csv',\n",
    "    'oc02.csv',\n",
    "    'oc04.csv',\n",
    "    'oc05.csv',\n",
    "    'oc09.csv',\n",
    "    # 'oc11.csv',\n",
    "    'oc13.csv',\n",
    "]\n",
    "\n",
    "# MRI intended for single record per unique-id.\n",
    "_MRI_FILENAMES_MERGE = [\n",
    "    'ocmr01.csv',\n",
    "    'ocmr02.csv',\n",
    "]\n",
    "\n",
    "_MRI_FILENAME = 'ocmr03.csv'\n"
   ]
  },
  {
   "cell_type": "code",
   "execution_count": 5,
   "id": "1aa45ae9-189d-4602-83cf-6c5e702b2e64",
   "metadata": {
    "execution": {
     "iopub.execute_input": "2025-02-04T10:53:52.110432Z",
     "iopub.status.busy": "2025-02-04T10:53:52.110368Z",
     "iopub.status.idle": "2025-02-04T10:53:52.120450Z",
     "shell.execute_reply": "2025-02-04T10:53:52.120247Z"
    }
   },
   "outputs": [],
   "source": [
    "input_dir = cfg.config[f'{study_name}_dir']\n",
    "data_dict_filename = f\"{root_dir}/{COMBINE_harmonizer.DATA_DICTIONARY_EXCEL}\"\n",
    "out_dir = f\"{cfg.config['out_dir']}/out-{study_name}\"\n",
    "\n",
    "os.makedirs(out_dir, exist_ok=True)"
   ]
  },
  {
   "cell_type": "markdown",
   "id": "b285c802-c2b9-425b-b38d-d220775e47a9",
   "metadata": {},
   "source": [
    "## 00-1. Column Map"
   ]
  },
  {
   "cell_type": "code",
   "execution_count": 6,
   "id": "77c974c4-8083-48e9-b0ad-fd1879f6be5a",
   "metadata": {
    "execution": {
     "iopub.execute_input": "2025-02-04T10:53:52.121579Z",
     "iopub.status.busy": "2025-02-04T10:53:52.121506Z",
     "iopub.status.idle": "2025-02-04T10:53:52.573938Z",
     "shell.execute_reply": "2025-02-04T10:53:52.573669Z"
    }
   },
   "outputs": [],
   "source": [
    "df_data_dict = COMBINE_harmonizer.load_data_dict(data_dict_filename, sheet_name=sheet_name)\n",
    "all_valid_columns = list(df_data_dict[COMBINE_harmonizer.DATA_DICT_VAR_NAME])\n",
    "column_map = {each[study_name]: each[COMBINE_harmonizer.DATA_DICT_VAR_NAME] for _, each in df_data_dict.iterrows()}"
   ]
  },
  {
   "cell_type": "markdown",
   "id": "b77a20a2-6214-431c-91e1-07d5cbca7ee8",
   "metadata": {},
   "source": [
    "## 00-2. df-dict from _FILENAMES"
   ]
  },
  {
   "cell_type": "code",
   "execution_count": 7,
   "id": "929d693d-3bf8-4811-8872-f9eb8880a58c",
   "metadata": {
    "execution": {
     "iopub.execute_input": "2025-02-04T10:53:52.575509Z",
     "iopub.status.busy": "2025-02-04T10:53:52.575431Z",
     "iopub.status.idle": "2025-02-04T10:53:52.843768Z",
     "shell.execute_reply": "2025-02-04T10:53:52.843422Z"
    }
   },
   "outputs": [],
   "source": [
    "df_dict = {filename: pd.read_csv(os.sep.join([input_dir, filename]), dtype='O').rename(columns=column_map) for filename in _FILENAMES}"
   ]
  },
  {
   "cell_type": "code",
   "execution_count": 8,
   "id": "bb513b12",
   "metadata": {
    "execution": {
     "iopub.execute_input": "2025-02-04T10:53:52.845532Z",
     "iopub.status.busy": "2025-02-04T10:53:52.845406Z",
     "iopub.status.idle": "2025-02-04T10:53:52.866791Z",
     "shell.execute_reply": "2025-02-04T10:53:52.866552Z"
    }
   },
   "outputs": [],
   "source": [
    "### XXX change unit from cc to cc/Kg\n",
    "columns = ['otherMedFluidIntake_ccPerKg', 'otherMedUrineOutput_ccPerKg']\n",
    "df_dict['oc08.csv'] = COMBINE_harmonizer.cc_to_cc_per_kg(df_dict['oc08.csv'], df_dict['oc05.csv'], columns, 'birthWeight_g')"
   ]
  },
  {
   "cell_type": "markdown",
   "id": "634ab3c6",
   "metadata": {},
   "source": [
    "## 00-3. df-all and df-main"
   ]
  },
  {
   "cell_type": "code",
   "execution_count": 9,
   "id": "33f6aa12",
   "metadata": {
    "execution": {
     "iopub.execute_input": "2025-02-04T10:53:52.868279Z",
     "iopub.status.busy": "2025-02-04T10:53:52.868185Z",
     "iopub.status.idle": "2025-02-04T10:53:52.885217Z",
     "shell.execute_reply": "2025-02-04T10:53:52.885010Z"
    }
   },
   "outputs": [
    {
     "data": {
      "text/plain": [
       "(1261, 368)"
      ]
     },
     "execution_count": 9,
     "metadata": {},
     "output_type": "execute_result"
    }
   ],
   "source": [
    "df_all = None\n",
    "for idx, each_filename in enumerate(_FILENAMES_MERGE):\n",
    "    each_full_filename = os.sep.join([root_dir, each_filename])\n",
    "    each_df = df_dict[each_filename]\n",
    "    columns = list(each_df.columns)\n",
    "    each_filename_prefix = re.sub(r'\\.csv$', '', each_filename)\n",
    "\n",
    "    if df_all is None:\n",
    "        df_all = each_df\n",
    "    else:\n",
    "        df_all = df_all.merge(each_df, on=['center', 'subjectID'], how='outer', suffixes=['', ':' + each_filename_prefix])\n",
    "\n",
    "len(df_all), len(df_all.columns)"
   ]
  },
  {
   "cell_type": "markdown",
   "id": "b0de1e18",
   "metadata": {},
   "source": [
    "### 00-3-1. neuro exam"
   ]
  },
  {
   "cell_type": "code",
   "execution_count": 10,
   "id": "0041ae0e",
   "metadata": {
    "execution": {
     "iopub.execute_input": "2025-02-04T10:53:52.886449Z",
     "iopub.status.busy": "2025-02-04T10:53:52.886379Z",
     "iopub.status.idle": "2025-02-04T10:53:52.888939Z",
     "shell.execute_reply": "2025-02-04T10:53:52.888744Z"
    }
   },
   "outputs": [],
   "source": [
    "# parse oc11\n",
    "_NEURO_EXAM_SECTION_ID_POST_NORMO = 'A'\n",
    "\n",
    "def _parse_oc11_rename_column(column: str, prefix: str) -> str:\n",
    "    if column in ['post_NeuroExamSectionID', 'post_NeuroExam', 'dischargeNeuroExam']:\n",
    "        return column\n",
    "\n",
    "    if 'NeuroExam' not in column:\n",
    "        return column\n",
    "\n",
    "    column_list = column.split('NeuroExam')\n",
    "\n",
    "    return prefix + 'NeuroExam' + column_list[1]\n",
    "\n",
    "\n",
    "def _parse_oc11_rename_columns(df: pd.DataFrame, prefix: str) -> pd.DataFrame:\n",
    "    column_map = {each: _parse_oc11_rename_column(each, prefix) for each in df.columns}\n",
    "    return df.rename(columns=column_map)\n",
    "\n",
    "\n",
    "def _parse_oc11() -> pd.DataFrame:\n",
    "    df_oc11 = df_dict['oc11.csv'].copy()\n",
    "    is_post = df_oc11['post_NeuroExamSectionID'] == _NEURO_EXAM_SECTION_ID_POST_NORMO\n",
    "    df_oc11_post = df_oc11[is_post]\n",
    "    df_oc11_discharge = df_oc11[is_post == False]\n",
    "\n",
    "    df_oc11_post = _parse_oc11_rename_columns(df_oc11_post, 'post_')\n",
    "    df_oc11_discharge = _parse_oc11_rename_columns(df_oc11_discharge, 'discharge')\n",
    "\n",
    "    df_oc11_merge = df_oc11_post.merge(df_oc11_discharge, on=['center', 'subjectID'], how='outer')\n",
    "\n",
    "    return df_oc11_merge"
   ]
  },
  {
   "cell_type": "code",
   "execution_count": 11,
   "id": "ec0d1ae5",
   "metadata": {
    "execution": {
     "iopub.execute_input": "2025-02-04T10:53:52.889980Z",
     "iopub.status.busy": "2025-02-04T10:53:52.889903Z",
     "iopub.status.idle": "2025-02-04T10:53:52.893779Z",
     "shell.execute_reply": "2025-02-04T10:53:52.893573Z"
    }
   },
   "outputs": [],
   "source": [
    "df_oc11 = _parse_oc11()"
   ]
  },
  {
   "cell_type": "code",
   "execution_count": 12,
   "id": "aba55e31",
   "metadata": {
    "execution": {
     "iopub.execute_input": "2025-02-04T10:53:52.894982Z",
     "iopub.status.busy": "2025-02-04T10:53:52.894907Z",
     "iopub.status.idle": "2025-02-04T10:53:52.897023Z",
     "shell.execute_reply": "2025-02-04T10:53:52.896824Z"
    }
   },
   "outputs": [
    {
     "data": {
      "text/plain": [
       "Index(['subjectID', 'post_NeuroExamSectionID_x', 'dischargeNeuroExam_x',\n",
       "       'post_NeuroExamTone', 'post_NeuroExamRespiration',\n",
       "       'post_NeuroExamSeizure', 'post_NeuroExamSedate',\n",
       "       'post_NeuroExamClonusSustained', 'post_NeuroExamFistedHand',\n",
       "       'post_NeuroExamAbnormalMovement', 'post_NeuroExamGagReflexAbsent',\n",
       "       'post_NeuroExamAsymTonicNeckReflex', 'OC11ENAM_x', 'REC_CMP_x',\n",
       "       'center', 'post_NeuroExamStatus', 'post_NeuroExamDate',\n",
       "       'post_NeuroExamTime', 'post_NeuroExamLevelConsciousness',\n",
       "       'post_NeuroExamSpontaneousActivity', 'post_NeuroExamPosture',\n",
       "       'post_NeuroExamSuck', 'post_NeuroExamMoro', 'post_NeuroExamPupils',\n",
       "       'post_NeuroExamHeartRate', 'CMP_DATE_x', 'CRT_DATE_x',\n",
       "       'post_NeuroExamSectionID_y', 'dischargeNeuroExam_y',\n",
       "       'dischargeNeuroExamTone', 'dischargeNeuroExamRespiration',\n",
       "       'dischargeNeuroExamSeizure', 'dischargeNeuroExamSedate',\n",
       "       'dischargeNeuroExamClonusSustained', 'dischargeNeuroExamFistedHand',\n",
       "       'dischargeNeuroExamAbnormalMovement',\n",
       "       'dischargeNeuroExamGagReflexAbsent',\n",
       "       'dischargeNeuroExamAsymTonicNeckReflex', 'OC11ENAM_y', 'REC_CMP_y',\n",
       "       'dischargeNeuroExamStatus', 'dischargeNeuroExamDate',\n",
       "       'dischargeNeuroExamTime', 'dischargeNeuroExamLevelConsciousness',\n",
       "       'dischargeNeuroExamSpontaneousActivity', 'dischargeNeuroExamPosture',\n",
       "       'dischargeNeuroExamSuck', 'dischargeNeuroExamMoro',\n",
       "       'dischargeNeuroExamPupils', 'dischargeNeuroExamHeartRate', 'CMP_DATE_y',\n",
       "       'CRT_DATE_y'],\n",
       "      dtype='object')"
      ]
     },
     "execution_count": 12,
     "metadata": {},
     "output_type": "execute_result"
    }
   ],
   "source": [
    "df_oc11.columns"
   ]
  },
  {
   "cell_type": "markdown",
   "id": "1f47f6af",
   "metadata": {},
   "source": [
    "#### 00-3-1-1. check df_oc11"
   ]
  },
  {
   "cell_type": "code",
   "execution_count": 13,
   "id": "d889e592",
   "metadata": {
    "execution": {
     "iopub.execute_input": "2025-02-04T10:53:52.898238Z",
     "iopub.status.busy": "2025-02-04T10:53:52.898170Z",
     "iopub.status.idle": "2025-02-04T10:53:52.903404Z",
     "shell.execute_reply": "2025-02-04T10:53:52.903196Z"
    }
   },
   "outputs": [
    {
     "data": {
      "text/html": [
       "<div>\n",
       "<style scoped>\n",
       "    .dataframe tbody tr th:only-of-type {\n",
       "        vertical-align: middle;\n",
       "    }\n",
       "\n",
       "    .dataframe tbody tr th {\n",
       "        vertical-align: top;\n",
       "    }\n",
       "\n",
       "    .dataframe thead th {\n",
       "        text-align: right;\n",
       "    }\n",
       "</style>\n",
       "<table border=\"1\" class=\"dataframe\">\n",
       "  <thead>\n",
       "    <tr style=\"text-align: right;\">\n",
       "      <th></th>\n",
       "      <th></th>\n",
       "      <th>_count</th>\n",
       "    </tr>\n",
       "    <tr>\n",
       "      <th>center</th>\n",
       "      <th>subjectID</th>\n",
       "      <th></th>\n",
       "    </tr>\n",
       "  </thead>\n",
       "  <tbody>\n",
       "  </tbody>\n",
       "</table>\n",
       "</div>"
      ],
      "text/plain": [
       "Empty DataFrame\n",
       "Columns: [_count]\n",
       "Index: []"
      ]
     },
     "execution_count": 13,
     "metadata": {},
     "output_type": "execute_result"
    }
   ],
   "source": [
    "df_oc11_groupby = df_oc11.groupby(['center', 'subjectID']).agg(_count=('subjectID', 'count'))\n",
    "is_invalid = df_oc11_groupby['_count'] > 1\n",
    "df_oc11_groupby[is_invalid]"
   ]
  },
  {
   "cell_type": "markdown",
   "id": "e69b1804",
   "metadata": {},
   "source": [
    "#### 00-3-1-2. check empty cells"
   ]
  },
  {
   "cell_type": "code",
   "execution_count": 14,
   "id": "dd8830c3",
   "metadata": {
    "execution": {
     "iopub.execute_input": "2025-02-04T10:53:52.904634Z",
     "iopub.status.busy": "2025-02-04T10:53:52.904550Z",
     "iopub.status.idle": "2025-02-04T10:53:52.909360Z",
     "shell.execute_reply": "2025-02-04T10:53:52.909170Z"
    }
   },
   "outputs": [
    {
     "name": "stdout",
     "output_type": "stream",
     "text": [
      "(0/52) column: subjectID (364 / 0)\n",
      "(1/52) column: post_NeuroExamSectionID_x (357 / 7)\n",
      "(2/52) column: dischargeNeuroExam_x (357 / 7)\n",
      "(3/52) column: post_NeuroExamTone (308 / 56)\n",
      "(4/52) column: post_NeuroExamRespiration (308 / 56)\n",
      "(5/52) column: post_NeuroExamSeizure (308 / 56)\n",
      "(6/52) column: post_NeuroExamSedate (308 / 56)\n",
      "(7/52) column: post_NeuroExamClonusSustained (308 / 56)\n",
      "(8/52) column: post_NeuroExamFistedHand (308 / 56)\n",
      "(9/52) column: post_NeuroExamAbnormalMovement (308 / 56)\n",
      "(10/52) column: post_NeuroExamGagReflexAbsent (308 / 56)\n",
      "(11/52) column: post_NeuroExamAsymTonicNeckReflex (0 / 364)\n",
      "(12/52) column: OC11ENAM_x (308 / 56)\n",
      "(13/52) column: REC_CMP_x (357 / 7)\n",
      "(14/52) column: center (364 / 0)\n",
      "(15/52) column: post_NeuroExamStatus (0 / 364)\n",
      "(16/52) column: post_NeuroExamDate (308 / 56)\n",
      "(17/52) column: post_NeuroExamTime (307 / 57)\n",
      "(18/52) column: post_NeuroExamLevelConsciousness (308 / 56)\n",
      "(19/52) column: post_NeuroExamSpontaneousActivity (308 / 56)\n",
      "(20/52) column: post_NeuroExamPosture (307 / 57)\n",
      "(21/52) column: post_NeuroExamSuck (306 / 58)\n",
      "(22/52) column: post_NeuroExamMoro (289 / 75)\n",
      "(23/52) column: post_NeuroExamPupils (290 / 74)\n",
      "(24/52) column: post_NeuroExamHeartRate (306 / 58)\n",
      "(25/52) column: CMP_DATE_x (357 / 7)\n",
      "(26/52) column: CRT_DATE_x (357 / 7)\n",
      "(27/52) column: post_NeuroExamSectionID_y (358 / 6)\n",
      "(28/52) column: dischargeNeuroExam_y (358 / 6)\n",
      "(29/52) column: dischargeNeuroExamTone (333 / 31)\n",
      "(30/52) column: dischargeNeuroExamRespiration (333 / 31)\n",
      "(31/52) column: dischargeNeuroExamSeizure (333 / 31)\n",
      "(32/52) column: dischargeNeuroExamSedate (333 / 31)\n",
      "(33/52) column: dischargeNeuroExamClonusSustained (333 / 31)\n",
      "(34/52) column: dischargeNeuroExamFistedHand (333 / 31)\n",
      "(35/52) column: dischargeNeuroExamAbnormalMovement (333 / 31)\n",
      "(36/52) column: dischargeNeuroExamGagReflexAbsent (333 / 31)\n",
      "(37/52) column: dischargeNeuroExamAsymTonicNeckReflex (328 / 36)\n",
      "(38/52) column: OC11ENAM_y (333 / 31)\n",
      "(39/52) column: REC_CMP_y (358 / 6)\n",
      "(40/52) column: dischargeNeuroExamStatus (331 / 33)\n",
      "(41/52) column: dischargeNeuroExamDate (333 / 31)\n",
      "(42/52) column: dischargeNeuroExamTime (326 / 38)\n",
      "(43/52) column: dischargeNeuroExamLevelConsciousness (333 / 31)\n",
      "(44/52) column: dischargeNeuroExamSpontaneousActivity (332 / 32)\n",
      "(45/52) column: dischargeNeuroExamPosture (332 / 32)\n",
      "(46/52) column: dischargeNeuroExamSuck (332 / 32)\n",
      "(47/52) column: dischargeNeuroExamMoro (330 / 34)\n",
      "(48/52) column: dischargeNeuroExamPupils (328 / 36)\n",
      "(49/52) column: dischargeNeuroExamHeartRate (332 / 32)\n",
      "(50/52) column: CMP_DATE_y (358 / 6)\n",
      "(51/52) column: CRT_DATE_y (358 / 6)\n"
     ]
    }
   ],
   "source": [
    "COMBINE_harmonizer.check_empty(df_oc11)"
   ]
  },
  {
   "cell_type": "code",
   "execution_count": 15,
   "id": "1bfc3b45",
   "metadata": {
    "execution": {
     "iopub.execute_input": "2025-02-04T10:53:52.910457Z",
     "iopub.status.busy": "2025-02-04T10:53:52.910391Z",
     "iopub.status.idle": "2025-02-04T10:53:52.913765Z",
     "shell.execute_reply": "2025-02-04T10:53:52.913546Z"
    }
   },
   "outputs": [
    {
     "name": "stdout",
     "output_type": "stream",
     "text": [
      "(0/52) subjectID: (364/0)\n",
      "(1/52) post_NeuroExamSectionID_x: (357/7)\n",
      "(2/52) dischargeNeuroExam_x: (357/7)\n",
      "(3/52) post_NeuroExamTone: (308/56)\n",
      "(4/52) post_NeuroExamRespiration: (308/56)\n",
      "(5/52) post_NeuroExamSeizure: (308/56)\n",
      "(6/52) post_NeuroExamSedate: (308/56)\n",
      "(7/52) post_NeuroExamClonusSustained: (308/56)\n",
      "(8/52) post_NeuroExamFistedHand: (308/56)\n",
      "(9/52) post_NeuroExamAbnormalMovement: (308/56)\n",
      "(10/52) post_NeuroExamGagReflexAbsent: (308/56)\n",
      "(11/52) post_NeuroExamAsymTonicNeckReflex: (0/364)\n",
      "(12/52) OC11ENAM_x: (308/56)\n",
      "(13/52) REC_CMP_x: (357/7)\n",
      "(14/52) center: (364/0)\n",
      "(15/52) post_NeuroExamStatus: (0/364)\n",
      "(16/52) post_NeuroExamDate: (308/56)\n",
      "(17/52) post_NeuroExamTime: (307/57)\n",
      "(18/52) post_NeuroExamLevelConsciousness: (308/56)\n",
      "(19/52) post_NeuroExamSpontaneousActivity: (308/56)\n",
      "(20/52) post_NeuroExamPosture: (307/57)\n",
      "(21/52) post_NeuroExamSuck: (306/58)\n",
      "(22/52) post_NeuroExamMoro: (289/75)\n",
      "(23/52) post_NeuroExamPupils: (290/74)\n",
      "(24/52) post_NeuroExamHeartRate: (306/58)\n",
      "(25/52) CMP_DATE_x: (357/7)\n",
      "(26/52) CRT_DATE_x: (357/7)\n",
      "(27/52) post_NeuroExamSectionID_y: (358/6)\n",
      "(28/52) dischargeNeuroExam_y: (358/6)\n",
      "(29/52) dischargeNeuroExamTone: (333/31)\n",
      "(30/52) dischargeNeuroExamRespiration: (333/31)\n",
      "(31/52) dischargeNeuroExamSeizure: (333/31)\n",
      "(32/52) dischargeNeuroExamSedate: (333/31)\n",
      "(33/52) dischargeNeuroExamClonusSustained: (333/31)\n",
      "(34/52) dischargeNeuroExamFistedHand: (333/31)\n",
      "(35/52) dischargeNeuroExamAbnormalMovement: (333/31)\n",
      "(36/52) dischargeNeuroExamGagReflexAbsent: (333/31)\n",
      "(37/52) dischargeNeuroExamAsymTonicNeckReflex: (328/36)\n",
      "(38/52) OC11ENAM_y: (333/31)\n",
      "(39/52) REC_CMP_y: (358/6)\n",
      "(40/52) dischargeNeuroExamStatus: (331/33)\n",
      "(41/52) dischargeNeuroExamDate: (333/31)\n",
      "(42/52) dischargeNeuroExamTime: (326/38)\n",
      "(43/52) dischargeNeuroExamLevelConsciousness: (333/31)\n",
      "(44/52) dischargeNeuroExamSpontaneousActivity: (332/32)\n",
      "(45/52) dischargeNeuroExamPosture: (332/32)\n",
      "(46/52) dischargeNeuroExamSuck: (332/32)\n",
      "(47/52) dischargeNeuroExamMoro: (330/34)\n",
      "(48/52) dischargeNeuroExamPupils: (328/36)\n",
      "(49/52) dischargeNeuroExamHeartRate: (332/32)\n",
      "(50/52) CMP_DATE_y: (358/6)\n",
      "(51/52) CRT_DATE_y: (358/6)\n"
     ]
    }
   ],
   "source": [
    "COMBINE_harmonizer.column_info(df_oc11)"
   ]
  },
  {
   "cell_type": "markdown",
   "id": "337d86f7",
   "metadata": {},
   "source": [
    "### 00-3-2. df-main"
   ]
  },
  {
   "cell_type": "code",
   "execution_count": 16,
   "id": "7ee75ec6",
   "metadata": {
    "execution": {
     "iopub.execute_input": "2025-02-04T10:53:52.914919Z",
     "iopub.status.busy": "2025-02-04T10:53:52.914853Z",
     "iopub.status.idle": "2025-02-04T10:53:52.921589Z",
     "shell.execute_reply": "2025-02-04T10:53:52.921363Z"
    }
   },
   "outputs": [
    {
     "name": "stdout",
     "output_type": "stream",
     "text": [
      "to set main\n"
     ]
    },
    {
     "data": {
      "text/plain": [
       "(364, 418, 364, 368, 364, 52)"
      ]
     },
     "execution_count": 16,
     "metadata": {},
     "output_type": "execute_result"
    }
   ],
   "source": [
    "# main\n",
    "print('to set main')\n",
    "is_main = df_all['randomNumber'].isnull() == False\n",
    "\n",
    "df_main_from_all = df_all[is_main]\n",
    "df_main = df_main_from_all.merge(df_oc11, on=['center', 'subjectID'], how='outer', suffixes=['main', 'oc11'])\n",
    "len(df_main), len(df_main.columns), len(df_main_from_all), len(df_main_from_all.columns), len(df_oc11), len(df_oc11.columns)"
   ]
  },
  {
   "cell_type": "markdown",
   "id": "eb8ebbd9",
   "metadata": {},
   "source": [
    "## 00-4. identifier-column"
   ]
  },
  {
   "cell_type": "code",
   "execution_count": 17,
   "id": "9afbfd20",
   "metadata": {
    "execution": {
     "iopub.execute_input": "2025-02-04T10:53:52.922813Z",
     "iopub.status.busy": "2025-02-04T10:53:52.922738Z",
     "iopub.status.idle": "2025-02-04T10:53:52.924973Z",
     "shell.execute_reply": "2025-02-04T10:53:52.924780Z"
    }
   },
   "outputs": [
    {
     "data": {
      "text/plain": [
       "['center', 'subjectID']"
      ]
     },
     "execution_count": 17,
     "metadata": {},
     "output_type": "execute_result"
    }
   ],
   "source": [
    "id_columns = COMBINE_harmonizer.get_columns(df_data_dict, 'Pre-intervention', 'Identity')\n",
    "id_columns"
   ]
  },
  {
   "cell_type": "markdown",
   "id": "f5ba0833-5c1b-4525-b3c0-3dbebd58b374",
   "metadata": {},
   "source": [
    "## 01-02. screening"
   ]
  },
  {
   "cell_type": "code",
   "execution_count": 18,
   "id": "d8e4550f-e2f8-4612-b53a-d4a045f16d1e",
   "metadata": {
    "execution": {
     "iopub.execute_input": "2025-02-04T10:53:52.926141Z",
     "iopub.status.busy": "2025-02-04T10:53:52.926072Z",
     "iopub.status.idle": "2025-02-04T10:53:52.928373Z",
     "shell.execute_reply": "2025-02-04T10:53:52.928181Z"
    }
   },
   "outputs": [
    {
     "data": {
      "text/plain": [
       "['siteID',\n",
       " 'birthDate',\n",
       " 'birthNumber',\n",
       " 'screenComment',\n",
       " 'coreTempLess32p5COverEq2Hr_e',\n",
       " 'coreTempLess33p5COver1Hr_e',\n",
       " 'coreTempLess34COver1Hr_e',\n",
       " 'first6HrCoolByClinicalProtocol_e',\n",
       " 'chromosomalAbnormality_e',\n",
       " 'majorCongenitalAnomaly_e',\n",
       " 'birthWeightLessEq1800g_e',\n",
       " 'infantUnlikelySurvive_e',\n",
       " 'first60MinAllBloodGasPHGreater7p15BaseDeficitLess10mEqPerL_e',\n",
       " 'postnatalAgeLess6HrOrGreater24Hr_e',\n",
       " 'enrolledConflictingTrial_e',\n",
       " 'first60MinAnyBloodGasPHLessEq7_i',\n",
       " 'first60MinAnyBloodGasBaseDeficitGreaterEq16mEqPerL_i',\n",
       " 'historyPerinatalEvent_i',\n",
       " 'at10MinApgarLessEq5OrVent_i',\n",
       " 'randomEligible',\n",
       " 'consentStatus',\n",
       " 'noConsentReason',\n",
       " 'noInStudyReason',\n",
       " 'random',\n",
       " 'noRandomReason',\n",
       " 'noRandomReasonText',\n",
       " 'randomDate',\n",
       " 'randomTime',\n",
       " 'randomNumber',\n",
       " 'randomTreatmentAssign',\n",
       " 'randomTreatmentReceive',\n",
       " 'treatmentBlanketType',\n",
       " 'inOtherTrial',\n",
       " 'inOtherTrialText']"
      ]
     },
     "execution_count": 18,
     "metadata": {},
     "output_type": "execute_result"
    }
   ],
   "source": [
    "screening_columns = COMBINE_harmonizer.get_columns(df_data_dict, 'Pre-intervention', 'Screening')\n",
    "all_screening_columns = id_columns + screening_columns\n",
    "screening_columns"
   ]
  },
  {
   "cell_type": "code",
   "execution_count": 19,
   "id": "1a844abb-ff8e-45dd-99de-259b2e09b65c",
   "metadata": {
    "execution": {
     "iopub.execute_input": "2025-02-04T10:53:52.929462Z",
     "iopub.status.busy": "2025-02-04T10:53:52.929386Z",
     "iopub.status.idle": "2025-02-04T10:53:53.066475Z",
     "shell.execute_reply": "2025-02-04T10:53:53.066058Z"
    }
   },
   "outputs": [
    {
     "name": "stdout",
     "output_type": "stream",
     "text": [
      "to set screening\n",
      "(8/36) coreTempLess34COver1Hr_e not in df\n",
      "(15/36) postnatalAgeLess6HrOrGreater24Hr_e not in df\n",
      "(16/36) enrolledConflictingTrial_e not in df\n",
      "(24/36) noInStudyReason not in df\n",
      "(8/36) coreTempLess34COver1Hr_e not in df\n",
      "(15/36) postnatalAgeLess6HrOrGreater24Hr_e not in df\n",
      "(16/36) enrolledConflictingTrial_e not in df\n",
      "(24/36) noInStudyReason not in df\n"
     ]
    }
   ],
   "source": [
    "# screening\n",
    "print('to set screening')\n",
    "df_screening = COMBINE_harmonizer.valid_columns(df_all, all_screening_columns)\n",
    "df_screening = COMBINE_harmonizer.postprocess(df_screening)\n",
    "\n",
    "out_filename = os.sep.join([out_dir, '00-02-screening.csv'])\n",
    "df_screening.to_csv(out_filename, index=False)\n",
    "\n",
    "df_main_screening = COMBINE_harmonizer.valid_columns(df_main, all_screening_columns)\n",
    "df_main_screening = COMBINE_harmonizer.postprocess(df_main_screening)\n",
    "\n",
    "out_filename = os.sep.join([out_dir, '01-02-screening.csv'])\n",
    "df_main_screening.to_csv(out_filename, index=False)"
   ]
  },
  {
   "cell_type": "markdown",
   "id": "da14e155-db10-4f30-970b-9548d360b2bc",
   "metadata": {},
   "source": [
    "### 01-02-1. check screening"
   ]
  },
  {
   "cell_type": "code",
   "execution_count": 20,
   "id": "4370e2f9-f57e-45f1-af7f-1bdc97e28fe8",
   "metadata": {
    "execution": {
     "iopub.execute_input": "2025-02-04T10:53:53.068880Z",
     "iopub.status.busy": "2025-02-04T10:53:53.068545Z",
     "iopub.status.idle": "2025-02-04T10:53:53.072695Z",
     "shell.execute_reply": "2025-02-04T10:53:53.072318Z"
    }
   },
   "outputs": [
    {
     "data": {
      "text/plain": [
       "(19, 395, 1261, 1261)"
      ]
     },
     "execution_count": 20,
     "metadata": {},
     "output_type": "execute_result"
    }
   ],
   "source": [
    "len(df_screening['center'].unique()), len(df_screening['subjectID'].unique()), len(df_screening['uniqueID'].unique()), len(df_screening)"
   ]
  },
  {
   "cell_type": "code",
   "execution_count": 21,
   "id": "8e691b77-1cef-42d8-8e11-de1eefc83cbd",
   "metadata": {
    "execution": {
     "iopub.execute_input": "2025-02-04T10:53:53.074359Z",
     "iopub.status.busy": "2025-02-04T10:53:53.074240Z",
     "iopub.status.idle": "2025-02-04T10:53:53.081346Z",
     "shell.execute_reply": "2025-02-04T10:53:53.081054Z"
    }
   },
   "outputs": [
    {
     "data": {
      "text/html": [
       "<div>\n",
       "<style scoped>\n",
       "    .dataframe tbody tr th:only-of-type {\n",
       "        vertical-align: middle;\n",
       "    }\n",
       "\n",
       "    .dataframe tbody tr th {\n",
       "        vertical-align: top;\n",
       "    }\n",
       "\n",
       "    .dataframe thead th {\n",
       "        text-align: right;\n",
       "    }\n",
       "</style>\n",
       "<table border=\"1\" class=\"dataframe\">\n",
       "  <thead>\n",
       "    <tr style=\"text-align: right;\">\n",
       "      <th></th>\n",
       "      <th>_count</th>\n",
       "    </tr>\n",
       "    <tr>\n",
       "      <th>uniqueID</th>\n",
       "      <th></th>\n",
       "    </tr>\n",
       "  </thead>\n",
       "  <tbody>\n",
       "  </tbody>\n",
       "</table>\n",
       "</div>"
      ],
      "text/plain": [
       "Empty DataFrame\n",
       "Columns: [_count]\n",
       "Index: []"
      ]
     },
     "execution_count": 21,
     "metadata": {},
     "output_type": "execute_result"
    }
   ],
   "source": [
    "df_screening_groupby = df_screening.groupby(['uniqueID']).agg(_count=('uniqueID', 'count'))\n",
    "\n",
    "is_invalid = df_screening_groupby['_count'] > 1\n",
    "df_screening_groupby[is_invalid]"
   ]
  },
  {
   "cell_type": "markdown",
   "id": "1c327177-5f4e-4a84-a36c-91ac4c33e221",
   "metadata": {},
   "source": [
    "### 01-02-2. check empty cells"
   ]
  },
  {
   "cell_type": "code",
   "execution_count": 22,
   "id": "85bae1ae-6940-4dbe-a436-e6b80476b2e4",
   "metadata": {
    "execution": {
     "iopub.execute_input": "2025-02-04T10:53:53.083067Z",
     "iopub.status.busy": "2025-02-04T10:53:53.082920Z",
     "iopub.status.idle": "2025-02-04T10:53:53.090038Z",
     "shell.execute_reply": "2025-02-04T10:53:53.089755Z"
    }
   },
   "outputs": [
    {
     "name": "stdout",
     "output_type": "stream",
     "text": [
      "(0/33) column: center (1261 / 0)\n",
      "(1/33) column: subjectID (1261 / 0)\n",
      "(2/33) column: uniqueID (1261 / 0)\n",
      "(3/33) column: siteID (1261 / 0)\n",
      "(4/33) column: screenComment (204 / 1057)\n",
      "(5/33) column: birthDate (1261 / 0)\n",
      "(6/33) column: birthNumber (1261 / 0)\n",
      "(7/33) column: coreTempLess33p5COver1Hr_e (848 / 413)\n",
      "(8/33) column: first6HrCoolByClinicalProtocol_e (1261 / 0)\n",
      "(9/33) column: chromosomalAbnormality_e (1261 / 0)\n",
      "(10/33) column: majorCongenitalAnomaly_e (1261 / 0)\n",
      "(11/33) column: birthWeightLessEq1800g_e (1261 / 0)\n",
      "(12/33) column: infantUnlikelySurvive_e (1261 / 0)\n",
      "(13/33) column: first60MinAllBloodGasPHGreater7p15BaseDeficitLess10mEqPerL_e (1198 / 63)\n",
      "(14/33) column: first60MinAnyBloodGasPHLessEq7_i (970 / 291)\n",
      "(15/33) column: first60MinAnyBloodGasBaseDeficitGreaterEq16mEqPerL_i (933 / 328)\n",
      "(16/33) column: historyPerinatalEvent_i (301 / 960)\n",
      "(17/33) column: at10MinApgarLessEq5OrVent_i (301 / 960)\n",
      "(18/33) column: randomEligible (1261 / 0)\n",
      "(19/33) column: noConsentReason (45 / 1216)\n",
      "(20/33) column: random (364 / 897)\n",
      "(21/33) column: noRandomReasonText (0 / 1261)\n",
      "(22/33) column: randomTreatmentReceive (364 / 897)\n",
      "(23/33) column: consentStatus (514 / 747)\n",
      "(24/33) column: noRandomReason (0 / 1261)\n",
      "(25/33) column: randomDate (364 / 897)\n",
      "(26/33) column: randomTime (363 / 898)\n",
      "(27/33) column: randomNumber (364 / 897)\n",
      "(28/33) column: randomTreatmentAssign (364 / 897)\n",
      "(29/33) column: treatmentBlanketType (364 / 897)\n",
      "(30/33) column: coreTempLess32p5COverEq2Hr_e (413 / 848)\n",
      "(31/33) column: inOtherTrial (364 / 897)\n",
      "(32/33) column: inOtherTrialText (8 / 1253)\n"
     ]
    }
   ],
   "source": [
    "COMBINE_harmonizer.check_empty(df_screening)"
   ]
  },
  {
   "cell_type": "markdown",
   "id": "f8d9c1fd-7d30-4e06-a404-72ff90366dca",
   "metadata": {},
   "source": [
    "### 01-02-3. check main"
   ]
  },
  {
   "cell_type": "code",
   "execution_count": 23,
   "id": "1d36d01b-0a8b-4f6e-a515-d813c4618c0d",
   "metadata": {
    "execution": {
     "iopub.execute_input": "2025-02-04T10:53:53.091478Z",
     "iopub.status.busy": "2025-02-04T10:53:53.091381Z",
     "iopub.status.idle": "2025-02-04T10:53:53.094063Z",
     "shell.execute_reply": "2025-02-04T10:53:53.093805Z"
    }
   },
   "outputs": [
    {
     "data": {
      "text/plain": [
       "(18, 164, 364, 364)"
      ]
     },
     "execution_count": 23,
     "metadata": {},
     "output_type": "execute_result"
    }
   ],
   "source": [
    "len(df_main_screening['center'].unique()), len(df_main_screening['subjectID'].unique()), len(df_main_screening['uniqueID'].unique()), len(df_main_screening)"
   ]
  },
  {
   "cell_type": "code",
   "execution_count": 24,
   "id": "271b136d-4004-44c5-9d3f-f5e26f588909",
   "metadata": {
    "execution": {
     "iopub.execute_input": "2025-02-04T10:53:53.095419Z",
     "iopub.status.busy": "2025-02-04T10:53:53.095329Z",
     "iopub.status.idle": "2025-02-04T10:53:53.100018Z",
     "shell.execute_reply": "2025-02-04T10:53:53.099780Z"
    }
   },
   "outputs": [
    {
     "data": {
      "text/html": [
       "<div>\n",
       "<style scoped>\n",
       "    .dataframe tbody tr th:only-of-type {\n",
       "        vertical-align: middle;\n",
       "    }\n",
       "\n",
       "    .dataframe tbody tr th {\n",
       "        vertical-align: top;\n",
       "    }\n",
       "\n",
       "    .dataframe thead th {\n",
       "        text-align: right;\n",
       "    }\n",
       "</style>\n",
       "<table border=\"1\" class=\"dataframe\">\n",
       "  <thead>\n",
       "    <tr style=\"text-align: right;\">\n",
       "      <th></th>\n",
       "      <th>_count</th>\n",
       "    </tr>\n",
       "    <tr>\n",
       "      <th>uniqueID</th>\n",
       "      <th></th>\n",
       "    </tr>\n",
       "  </thead>\n",
       "  <tbody>\n",
       "  </tbody>\n",
       "</table>\n",
       "</div>"
      ],
      "text/plain": [
       "Empty DataFrame\n",
       "Columns: [_count]\n",
       "Index: []"
      ]
     },
     "execution_count": 24,
     "metadata": {},
     "output_type": "execute_result"
    }
   ],
   "source": [
    "df_main_screening_groupby = df_main_screening.groupby(['uniqueID']).agg(_count=('uniqueID', 'count'))\n",
    "\n",
    "is_invalid = df_main_screening_groupby['_count'] > 1\n",
    "df_main_screening_groupby[is_invalid]"
   ]
  },
  {
   "cell_type": "markdown",
   "id": "163fb000-06fc-4aa0-97a9-c73fa8baf7d4",
   "metadata": {},
   "source": [
    "### 01-02-4. check empty cells"
   ]
  },
  {
   "cell_type": "code",
   "execution_count": 25,
   "id": "e063a916-fdc6-489e-bd61-25e96c16f0d1",
   "metadata": {
    "execution": {
     "iopub.execute_input": "2025-02-04T10:53:53.101343Z",
     "iopub.status.busy": "2025-02-04T10:53:53.101258Z",
     "iopub.status.idle": "2025-02-04T10:53:53.105994Z",
     "shell.execute_reply": "2025-02-04T10:53:53.105754Z"
    }
   },
   "outputs": [
    {
     "name": "stdout",
     "output_type": "stream",
     "text": [
      "(0/33) column: center (364 / 0)\n",
      "(1/33) column: subjectID (364 / 0)\n",
      "(2/33) column: uniqueID (364 / 0)\n",
      "(3/33) column: siteID (364 / 0)\n",
      "(4/33) column: screenComment (48 / 316)\n",
      "(5/33) column: birthDate (364 / 0)\n",
      "(6/33) column: birthNumber (364 / 0)\n",
      "(7/33) column: coreTempLess33p5COver1Hr_e (269 / 95)\n",
      "(8/33) column: first6HrCoolByClinicalProtocol_e (364 / 0)\n",
      "(9/33) column: chromosomalAbnormality_e (364 / 0)\n",
      "(10/33) column: majorCongenitalAnomaly_e (364 / 0)\n",
      "(11/33) column: birthWeightLessEq1800g_e (364 / 0)\n",
      "(12/33) column: infantUnlikelySurvive_e (364 / 0)\n",
      "(13/33) column: first60MinAllBloodGasPHGreater7p15BaseDeficitLess10mEqPerL_e (351 / 13)\n",
      "(14/33) column: first60MinAnyBloodGasPHLessEq7_i (350 / 14)\n",
      "(15/33) column: first60MinAnyBloodGasBaseDeficitGreaterEq16mEqPerL_i (340 / 24)\n",
      "(16/33) column: historyPerinatalEvent_i (64 / 300)\n",
      "(17/33) column: at10MinApgarLessEq5OrVent_i (64 / 300)\n",
      "(18/33) column: randomEligible (364 / 0)\n",
      "(19/33) column: noConsentReason (0 / 364)\n",
      "(20/33) column: random (364 / 0)\n",
      "(21/33) column: noRandomReasonText (0 / 364)\n",
      "(22/33) column: randomTreatmentReceive (364 / 0)\n",
      "(23/33) column: consentStatus (364 / 0)\n",
      "(24/33) column: noRandomReason (0 / 364)\n",
      "(25/33) column: randomDate (364 / 0)\n",
      "(26/33) column: randomTime (363 / 1)\n",
      "(27/33) column: randomNumber (364 / 0)\n",
      "(28/33) column: randomTreatmentAssign (364 / 0)\n",
      "(29/33) column: treatmentBlanketType (364 / 0)\n",
      "(30/33) column: coreTempLess32p5COverEq2Hr_e (95 / 269)\n",
      "(31/33) column: inOtherTrial (364 / 0)\n",
      "(32/33) column: inOtherTrialText (8 / 356)\n"
     ]
    }
   ],
   "source": [
    "COMBINE_harmonizer.check_empty(df_main_screening)"
   ]
  },
  {
   "cell_type": "code",
   "execution_count": 26,
   "id": "fbec57c5-6953-48da-9204-c786296441b2",
   "metadata": {
    "execution": {
     "iopub.execute_input": "2025-02-04T10:53:53.107278Z",
     "iopub.status.busy": "2025-02-04T10:53:53.107194Z",
     "iopub.status.idle": "2025-02-04T10:53:53.110368Z",
     "shell.execute_reply": "2025-02-04T10:53:53.110152Z"
    }
   },
   "outputs": [
    {
     "name": "stdout",
     "output_type": "stream",
     "text": [
      "(0/33) center: (364/0)\n",
      "(1/33) subjectID: (364/0)\n",
      "(2/33) uniqueID: (364/0)\n",
      "(3/33) siteID: (364/0)\n",
      "(4/33) screenComment: (48/316)\n",
      "(5/33) birthDate: (364/0)\n",
      "(6/33) birthNumber: (364/0)\n",
      "(7/33) coreTempLess33p5COver1Hr_e: (269/95)\n",
      "(8/33) first6HrCoolByClinicalProtocol_e: (364/0)\n",
      "(9/33) chromosomalAbnormality_e: (364/0)\n",
      "(10/33) majorCongenitalAnomaly_e: (364/0)\n",
      "(11/33) birthWeightLessEq1800g_e: (364/0)\n",
      "(12/33) infantUnlikelySurvive_e: (364/0)\n",
      "(13/33) first60MinAllBloodGasPHGreater7p15BaseDeficitLess10mEqPerL_e: (351/13)\n",
      "(14/33) first60MinAnyBloodGasPHLessEq7_i: (350/14)\n",
      "(15/33) first60MinAnyBloodGasBaseDeficitGreaterEq16mEqPerL_i: (340/24)\n",
      "(16/33) historyPerinatalEvent_i: (64/300)\n",
      "(17/33) at10MinApgarLessEq5OrVent_i: (64/300)\n",
      "(18/33) randomEligible: (364/0)\n",
      "(19/33) noConsentReason: (0/364)\n",
      "(20/33) random: (364/0)\n",
      "(21/33) noRandomReasonText: (0/364)\n",
      "(22/33) randomTreatmentReceive: (364/0)\n",
      "(23/33) consentStatus: (364/0)\n",
      "(24/33) noRandomReason: (0/364)\n",
      "(25/33) randomDate: (364/0)\n",
      "(26/33) randomTime: (363/1)\n",
      "(27/33) randomNumber: (364/0)\n",
      "(28/33) randomTreatmentAssign: (364/0)\n",
      "(29/33) treatmentBlanketType: (364/0)\n",
      "(30/33) coreTempLess32p5COverEq2Hr_e: (95/269)\n",
      "(31/33) inOtherTrial: (364/0)\n",
      "(32/33) inOtherTrialText: (8/356)\n"
     ]
    }
   ],
   "source": [
    "COMBINE_harmonizer.column_info(df_main_screening)"
   ]
  },
  {
   "cell_type": "markdown",
   "id": "c635f0eb",
   "metadata": {},
   "source": [
    "## 01-12. Pre-intervention Neuro Exam"
   ]
  },
  {
   "cell_type": "code",
   "execution_count": 27,
   "id": "9b9fd6ae",
   "metadata": {
    "execution": {
     "iopub.execute_input": "2025-02-04T10:53:53.111619Z",
     "iopub.status.busy": "2025-02-04T10:53:53.111540Z",
     "iopub.status.idle": "2025-02-04T10:53:53.114104Z",
     "shell.execute_reply": "2025-02-04T10:53:53.113856Z"
    }
   },
   "outputs": [
    {
     "data": {
      "text/plain": [
       "['pre_NeuroExam',\n",
       " 'pre_NoNeuroExamReason',\n",
       " 'pre_NeuroExamSignModerateSevereHIE3Category',\n",
       " 'pre_NeuroExamLevelConsciousness',\n",
       " 'pre_NeuroExamSpontaneousActivity',\n",
       " 'pre_NeuroExamPosture',\n",
       " 'pre_NeuroExamTone',\n",
       " 'pre_NeuroExamSuck',\n",
       " 'pre_NeuroExamMoro',\n",
       " 'pre_NeuroExamPupils',\n",
       " 'pre_NeuroExamHeartRate',\n",
       " 'pre_NeuroExamRespiration',\n",
       " 'pre_NeuroExamDate',\n",
       " 'pre_NeuroExamTime',\n",
       " 'pre_NeuroExamSedate',\n",
       " 'pre_NeuroExamSeizure']"
      ]
     },
     "execution_count": 27,
     "metadata": {},
     "output_type": "execute_result"
    }
   ],
   "source": [
    "pre_neuro_columns = COMBINE_harmonizer.get_columns(df_data_dict, 'Pre-intervention', 'Neuro Exam')\n",
    "all_pre_neuro_columns = id_columns + pre_neuro_columns\n",
    "pre_neuro_columns"
   ]
  },
  {
   "cell_type": "code",
   "execution_count": 28,
   "id": "d5a0920e",
   "metadata": {
    "execution": {
     "iopub.execute_input": "2025-02-04T10:53:53.115270Z",
     "iopub.status.busy": "2025-02-04T10:53:53.115187Z",
     "iopub.status.idle": "2025-02-04T10:53:53.258982Z",
     "shell.execute_reply": "2025-02-04T10:53:53.258489Z"
    }
   },
   "outputs": [
    {
     "name": "stdout",
     "output_type": "stream",
     "text": [
      "to set pre-intervention neuro exam\n"
     ]
    }
   ],
   "source": [
    "print('to set pre-intervention neuro exam')\n",
    "df_pre_neuro = COMBINE_harmonizer.valid_columns(df_all, all_pre_neuro_columns)\n",
    "df_pre_neuro = COMBINE_harmonizer.postprocess(df_pre_neuro)\n",
    "\n",
    "out_filename = os.sep.join([out_dir, '00-12-neuro-exam.csv'])\n",
    "df_pre_neuro.to_csv(out_filename, index=False)\n",
    "\n",
    "df_main_pre_neuro = COMBINE_harmonizer.valid_columns(df_main, all_pre_neuro_columns)\n",
    "df_main_pre_neuro = COMBINE_harmonizer.postprocess(df_main_pre_neuro)\n",
    "\n",
    "out_filename = os.sep.join([out_dir, '01-12-neuro-exam.csv'])\n",
    "df_main_pre_neuro.to_csv(out_filename, index=False)"
   ]
  },
  {
   "cell_type": "markdown",
   "id": "ef0a525e",
   "metadata": {},
   "source": [
    "### 01-12-1. check pre-intervention neuro"
   ]
  },
  {
   "cell_type": "code",
   "execution_count": 29,
   "id": "d8e69808",
   "metadata": {
    "execution": {
     "iopub.execute_input": "2025-02-04T10:53:53.261548Z",
     "iopub.status.busy": "2025-02-04T10:53:53.261304Z",
     "iopub.status.idle": "2025-02-04T10:53:53.265955Z",
     "shell.execute_reply": "2025-02-04T10:53:53.265516Z"
    }
   },
   "outputs": [
    {
     "data": {
      "text/plain": [
       "(19, 395, 1261, 1261)"
      ]
     },
     "execution_count": 29,
     "metadata": {},
     "output_type": "execute_result"
    }
   ],
   "source": [
    "len(df_pre_neuro['center'].unique()), len(df_pre_neuro['subjectID'].unique()), len(df_pre_neuro['uniqueID'].unique()), len(df_pre_neuro)"
   ]
  },
  {
   "cell_type": "code",
   "execution_count": 30,
   "id": "ea1f8dea",
   "metadata": {
    "execution": {
     "iopub.execute_input": "2025-02-04T10:53:53.268183Z",
     "iopub.status.busy": "2025-02-04T10:53:53.267966Z",
     "iopub.status.idle": "2025-02-04T10:53:53.275968Z",
     "shell.execute_reply": "2025-02-04T10:53:53.275599Z"
    }
   },
   "outputs": [
    {
     "data": {
      "text/html": [
       "<div>\n",
       "<style scoped>\n",
       "    .dataframe tbody tr th:only-of-type {\n",
       "        vertical-align: middle;\n",
       "    }\n",
       "\n",
       "    .dataframe tbody tr th {\n",
       "        vertical-align: top;\n",
       "    }\n",
       "\n",
       "    .dataframe thead th {\n",
       "        text-align: right;\n",
       "    }\n",
       "</style>\n",
       "<table border=\"1\" class=\"dataframe\">\n",
       "  <thead>\n",
       "    <tr style=\"text-align: right;\">\n",
       "      <th></th>\n",
       "      <th>_count</th>\n",
       "    </tr>\n",
       "    <tr>\n",
       "      <th>uniqueID</th>\n",
       "      <th></th>\n",
       "    </tr>\n",
       "  </thead>\n",
       "  <tbody>\n",
       "  </tbody>\n",
       "</table>\n",
       "</div>"
      ],
      "text/plain": [
       "Empty DataFrame\n",
       "Columns: [_count]\n",
       "Index: []"
      ]
     },
     "execution_count": 30,
     "metadata": {},
     "output_type": "execute_result"
    }
   ],
   "source": [
    "df_pre_neuro_groupby = df_pre_neuro.groupby(['uniqueID']).agg(_count=('uniqueID', 'count'))\n",
    "\n",
    "is_invalid = df_pre_neuro_groupby['_count'] > 1\n",
    "df_pre_neuro_groupby[is_invalid]"
   ]
  },
  {
   "cell_type": "markdown",
   "id": "3ce55427",
   "metadata": {},
   "source": [
    "### 01-12-2. check empty cells"
   ]
  },
  {
   "cell_type": "code",
   "execution_count": 31,
   "id": "5f9b1d69",
   "metadata": {
    "execution": {
     "iopub.execute_input": "2025-02-04T10:53:53.278098Z",
     "iopub.status.busy": "2025-02-04T10:53:53.277819Z",
     "iopub.status.idle": "2025-02-04T10:53:53.283709Z",
     "shell.execute_reply": "2025-02-04T10:53:53.283408Z"
    }
   },
   "outputs": [
    {
     "name": "stdout",
     "output_type": "stream",
     "text": [
      "(0/19) column: center (1261 / 0)\n",
      "(1/19) column: subjectID (1261 / 0)\n",
      "(2/19) column: uniqueID (1261 / 0)\n",
      "(3/19) column: pre_NeuroExamSeizure (882 / 379)\n",
      "(4/19) column: pre_NeuroExam (882 / 379)\n",
      "(5/19) column: pre_NeuroExamTone (797 / 464)\n",
      "(6/19) column: pre_NeuroExamRespiration (797 / 464)\n",
      "(7/19) column: pre_NeuroExamSignModerateSevereHIE3Category (797 / 464)\n",
      "(8/19) column: pre_NeuroExamSedate (797 / 464)\n",
      "(9/19) column: pre_NoNeuroExamReason (59 / 1202)\n",
      "(10/19) column: pre_NeuroExamLevelConsciousness (797 / 464)\n",
      "(11/19) column: pre_NeuroExamSpontaneousActivity (797 / 464)\n",
      "(12/19) column: pre_NeuroExamPosture (791 / 470)\n",
      "(13/19) column: pre_NeuroExamSuck (786 / 475)\n",
      "(14/19) column: pre_NeuroExamMoro (774 / 487)\n",
      "(15/19) column: pre_NeuroExamPupils (775 / 486)\n",
      "(16/19) column: pre_NeuroExamHeartRate (797 / 464)\n",
      "(17/19) column: pre_NeuroExamDate (797 / 464)\n",
      "(18/19) column: pre_NeuroExamTime (782 / 479)\n"
     ]
    }
   ],
   "source": [
    "COMBINE_harmonizer.check_empty(df_pre_neuro)"
   ]
  },
  {
   "cell_type": "markdown",
   "id": "aff5069f",
   "metadata": {},
   "source": [
    "### 01-12-3. check main-screening-neuro"
   ]
  },
  {
   "cell_type": "code",
   "execution_count": 32,
   "id": "c554676f",
   "metadata": {
    "execution": {
     "iopub.execute_input": "2025-02-04T10:53:53.285406Z",
     "iopub.status.busy": "2025-02-04T10:53:53.285279Z",
     "iopub.status.idle": "2025-02-04T10:53:53.288088Z",
     "shell.execute_reply": "2025-02-04T10:53:53.287791Z"
    }
   },
   "outputs": [
    {
     "data": {
      "text/plain": [
       "(18, 164, 364, 364)"
      ]
     },
     "execution_count": 32,
     "metadata": {},
     "output_type": "execute_result"
    }
   ],
   "source": [
    "len(df_main_pre_neuro['center'].unique()), len(df_main_pre_neuro['subjectID'].unique()), len(df_main_pre_neuro['uniqueID'].unique()), len(df_main_pre_neuro)"
   ]
  },
  {
   "cell_type": "code",
   "execution_count": 33,
   "id": "a75f0545",
   "metadata": {
    "execution": {
     "iopub.execute_input": "2025-02-04T10:53:53.289646Z",
     "iopub.status.busy": "2025-02-04T10:53:53.289488Z",
     "iopub.status.idle": "2025-02-04T10:53:53.294869Z",
     "shell.execute_reply": "2025-02-04T10:53:53.294604Z"
    }
   },
   "outputs": [
    {
     "data": {
      "text/html": [
       "<div>\n",
       "<style scoped>\n",
       "    .dataframe tbody tr th:only-of-type {\n",
       "        vertical-align: middle;\n",
       "    }\n",
       "\n",
       "    .dataframe tbody tr th {\n",
       "        vertical-align: top;\n",
       "    }\n",
       "\n",
       "    .dataframe thead th {\n",
       "        text-align: right;\n",
       "    }\n",
       "</style>\n",
       "<table border=\"1\" class=\"dataframe\">\n",
       "  <thead>\n",
       "    <tr style=\"text-align: right;\">\n",
       "      <th></th>\n",
       "      <th>_count</th>\n",
       "    </tr>\n",
       "    <tr>\n",
       "      <th>uniqueID</th>\n",
       "      <th></th>\n",
       "    </tr>\n",
       "  </thead>\n",
       "  <tbody>\n",
       "  </tbody>\n",
       "</table>\n",
       "</div>"
      ],
      "text/plain": [
       "Empty DataFrame\n",
       "Columns: [_count]\n",
       "Index: []"
      ]
     },
     "execution_count": 33,
     "metadata": {},
     "output_type": "execute_result"
    }
   ],
   "source": [
    "df_main_pre_neuro_groupby = df_main_pre_neuro.groupby(['uniqueID']).agg(_count=('uniqueID', 'count'))\n",
    "\n",
    "is_invalid = df_main_pre_neuro_groupby['_count'] > 1\n",
    "df_main_pre_neuro_groupby[is_invalid]"
   ]
  },
  {
   "cell_type": "markdown",
   "id": "773ec409",
   "metadata": {},
   "source": [
    "### 01-12-4. check empty cells"
   ]
  },
  {
   "cell_type": "code",
   "execution_count": 34,
   "id": "627f5768",
   "metadata": {
    "execution": {
     "iopub.execute_input": "2025-02-04T10:53:53.296349Z",
     "iopub.status.busy": "2025-02-04T10:53:53.296252Z",
     "iopub.status.idle": "2025-02-04T10:53:53.300134Z",
     "shell.execute_reply": "2025-02-04T10:53:53.299845Z"
    }
   },
   "outputs": [
    {
     "name": "stdout",
     "output_type": "stream",
     "text": [
      "(0/19) column: center (364 / 0)\n",
      "(1/19) column: subjectID (364 / 0)\n",
      "(2/19) column: uniqueID (364 / 0)\n",
      "(3/19) column: pre_NeuroExamSeizure (364 / 0)\n",
      "(4/19) column: pre_NeuroExam (364 / 0)\n",
      "(5/19) column: pre_NeuroExamTone (362 / 2)\n",
      "(6/19) column: pre_NeuroExamRespiration (362 / 2)\n",
      "(7/19) column: pre_NeuroExamSignModerateSevereHIE3Category (362 / 2)\n",
      "(8/19) column: pre_NeuroExamSedate (362 / 2)\n",
      "(9/19) column: pre_NoNeuroExamReason (2 / 362)\n",
      "(10/19) column: pre_NeuroExamLevelConsciousness (362 / 2)\n",
      "(11/19) column: pre_NeuroExamSpontaneousActivity (362 / 2)\n",
      "(12/19) column: pre_NeuroExamPosture (360 / 4)\n",
      "(13/19) column: pre_NeuroExamSuck (357 / 7)\n",
      "(14/19) column: pre_NeuroExamMoro (348 / 16)\n",
      "(15/19) column: pre_NeuroExamPupils (351 / 13)\n",
      "(16/19) column: pre_NeuroExamHeartRate (362 / 2)\n",
      "(17/19) column: pre_NeuroExamDate (362 / 2)\n",
      "(18/19) column: pre_NeuroExamTime (361 / 3)\n"
     ]
    }
   ],
   "source": [
    "COMBINE_harmonizer.check_empty(df_main_pre_neuro)"
   ]
  },
  {
   "cell_type": "code",
   "execution_count": 35,
   "id": "f09f9332",
   "metadata": {
    "execution": {
     "iopub.execute_input": "2025-02-04T10:53:53.301427Z",
     "iopub.status.busy": "2025-02-04T10:53:53.301343Z",
     "iopub.status.idle": "2025-02-04T10:53:53.304113Z",
     "shell.execute_reply": "2025-02-04T10:53:53.303885Z"
    }
   },
   "outputs": [
    {
     "name": "stdout",
     "output_type": "stream",
     "text": [
      "(0/19) center: (364/0)\n",
      "(1/19) subjectID: (364/0)\n",
      "(2/19) uniqueID: (364/0)\n",
      "(3/19) pre_NeuroExamSeizure: (364/0)\n",
      "(4/19) pre_NeuroExam: (364/0)\n",
      "(5/19) pre_NeuroExamTone: (362/2)\n",
      "(6/19) pre_NeuroExamRespiration: (362/2)\n",
      "(7/19) pre_NeuroExamSignModerateSevereHIE3Category: (362/2)\n",
      "(8/19) pre_NeuroExamSedate: (362/2)\n",
      "(9/19) pre_NoNeuroExamReason: (2/362)\n",
      "(10/19) pre_NeuroExamLevelConsciousness: (362/2)\n",
      "(11/19) pre_NeuroExamSpontaneousActivity: (362/2)\n",
      "(12/19) pre_NeuroExamPosture: (360/4)\n",
      "(13/19) pre_NeuroExamSuck: (357/7)\n",
      "(14/19) pre_NeuroExamMoro: (348/16)\n",
      "(15/19) pre_NeuroExamPupils: (351/13)\n",
      "(16/19) pre_NeuroExamHeartRate: (362/2)\n",
      "(17/19) pre_NeuroExamDate: (362/2)\n",
      "(18/19) pre_NeuroExamTime: (361/3)\n"
     ]
    }
   ],
   "source": [
    "COMBINE_harmonizer.column_info(df_main_pre_neuro)"
   ]
  },
  {
   "cell_type": "markdown",
   "id": "df092edb",
   "metadata": {},
   "source": [
    "## 01-03. Maternal Demographics"
   ]
  },
  {
   "cell_type": "code",
   "execution_count": 36,
   "id": "2e45efcd-f079-4f4b-90ba-731afb0f8c6a",
   "metadata": {
    "execution": {
     "iopub.execute_input": "2025-02-04T10:53:53.305434Z",
     "iopub.status.busy": "2025-02-04T10:53:53.305349Z",
     "iopub.status.idle": "2025-02-04T10:53:53.307997Z",
     "shell.execute_reply": "2025-02-04T10:53:53.307745Z"
    }
   },
   "outputs": [
    {
     "data": {
      "text/plain": [
       "['motherAge_year',\n",
       " 'motherRace',\n",
       " 'motherRaceOther1',\n",
       " 'motherRaceOther2',\n",
       " 'motherRaceOther3',\n",
       " 'motherRaceOther4',\n",
       " 'motherRaceOther5',\n",
       " 'motherRaceOther6',\n",
       " 'motherEthnicity',\n",
       " 'motherMaritalStatus',\n",
       " 'motherEducation',\n",
       " 'motherInsurance']"
      ]
     },
     "execution_count": 36,
     "metadata": {},
     "output_type": "execute_result"
    }
   ],
   "source": [
    "maternal_demographics_columns = COMBINE_harmonizer.get_columns(df_data_dict, 'Pre-intervention', 'Maternal Demographics')\n",
    "all_maternal_demographics_columns = id_columns + maternal_demographics_columns\n",
    "maternal_demographics_columns"
   ]
  },
  {
   "cell_type": "code",
   "execution_count": 37,
   "id": "e6231d98",
   "metadata": {
    "execution": {
     "iopub.execute_input": "2025-02-04T10:53:53.309244Z",
     "iopub.status.busy": "2025-02-04T10:53:53.309161Z",
     "iopub.status.idle": "2025-02-04T10:53:53.373131Z",
     "shell.execute_reply": "2025-02-04T10:53:53.372840Z"
    }
   },
   "outputs": [
    {
     "name": "stdout",
     "output_type": "stream",
     "text": [
      "to set maternal demographics\n"
     ]
    }
   ],
   "source": [
    "print('to set maternal demographics')\n",
    "df_maternal_demographics = COMBINE_harmonizer.valid_columns(df_main, all_maternal_demographics_columns)\n",
    "df_maternal_demographics = COMBINE_harmonizer.postprocess(df_maternal_demographics)\n",
    "\n",
    "out_filename = os.sep.join([out_dir, '01-03-maternal-demographics.csv'])\n",
    "df_maternal_demographics.to_csv(out_filename, index=False)"
   ]
  },
  {
   "cell_type": "markdown",
   "id": "578a20ea",
   "metadata": {},
   "source": [
    "### 01-03-2. check empty cells"
   ]
  },
  {
   "cell_type": "code",
   "execution_count": 38,
   "id": "ee56cb95",
   "metadata": {
    "execution": {
     "iopub.execute_input": "2025-02-04T10:53:53.374889Z",
     "iopub.status.busy": "2025-02-04T10:53:53.374777Z",
     "iopub.status.idle": "2025-02-04T10:53:53.378609Z",
     "shell.execute_reply": "2025-02-04T10:53:53.378328Z"
    }
   },
   "outputs": [
    {
     "name": "stdout",
     "output_type": "stream",
     "text": [
      "(0/15) column: center (364 / 0)\n",
      "(1/15) column: subjectID (364 / 0)\n",
      "(2/15) column: uniqueID (364 / 0)\n",
      "(3/15) column: motherAge_year (364 / 0)\n",
      "(4/15) column: motherRace (361 / 3)\n",
      "(5/15) column: motherRaceOther1 (1 / 363)\n",
      "(6/15) column: motherRaceOther2 (1 / 363)\n",
      "(7/15) column: motherRaceOther3 (0 / 364)\n",
      "(8/15) column: motherRaceOther4 (0 / 364)\n",
      "(9/15) column: motherRaceOther5 (0 / 364)\n",
      "(10/15) column: motherRaceOther6 (0 / 364)\n",
      "(11/15) column: motherEthnicity (364 / 0)\n",
      "(12/15) column: motherMaritalStatus (364 / 0)\n",
      "(13/15) column: motherEducation (363 / 1)\n",
      "(14/15) column: motherInsurance (362 / 2)\n"
     ]
    }
   ],
   "source": [
    "COMBINE_harmonizer.check_empty(df_maternal_demographics)"
   ]
  },
  {
   "cell_type": "code",
   "execution_count": 39,
   "id": "81bb40bb",
   "metadata": {
    "execution": {
     "iopub.execute_input": "2025-02-04T10:53:53.380070Z",
     "iopub.status.busy": "2025-02-04T10:53:53.379968Z",
     "iopub.status.idle": "2025-02-04T10:53:53.382944Z",
     "shell.execute_reply": "2025-02-04T10:53:53.382637Z"
    }
   },
   "outputs": [
    {
     "name": "stdout",
     "output_type": "stream",
     "text": [
      "(0/15) center: (364/0)\n",
      "(1/15) subjectID: (364/0)\n",
      "(2/15) uniqueID: (364/0)\n",
      "(3/15) motherAge_year: (364/0)\n",
      "(4/15) motherRace: (361/3)\n",
      "(5/15) motherRaceOther1: (1/363)\n",
      "(6/15) motherRaceOther2: (1/363)\n",
      "(7/15) motherRaceOther3: (0/364)\n",
      "(8/15) motherRaceOther4: (0/364)\n",
      "(9/15) motherRaceOther5: (0/364)\n",
      "(10/15) motherRaceOther6: (0/364)\n",
      "(11/15) motherEthnicity: (364/0)\n",
      "(12/15) motherMaritalStatus: (364/0)\n",
      "(13/15) motherEducation: (363/1)\n",
      "(14/15) motherInsurance: (362/2)\n"
     ]
    }
   ],
   "source": [
    "COMBINE_harmonizer.column_info(df_maternal_demographics)"
   ]
  },
  {
   "cell_type": "markdown",
   "id": "fe992c0d",
   "metadata": {},
   "source": [
    "## 01-04. Pregnancy History"
   ]
  },
  {
   "cell_type": "code",
   "execution_count": 40,
   "id": "80a4542f",
   "metadata": {
    "execution": {
     "iopub.execute_input": "2025-02-04T10:53:53.384400Z",
     "iopub.status.busy": "2025-02-04T10:53:53.384307Z",
     "iopub.status.idle": "2025-02-04T10:53:53.387203Z",
     "shell.execute_reply": "2025-02-04T10:53:53.386940Z"
    }
   },
   "outputs": [
    {
     "data": {
      "text/plain": [
       "['gravida',\n",
       " 'parity',\n",
       " 'multipleBirth',\n",
       " 'numFetus',\n",
       " 'prenatalCare',\n",
       " 'hypertensionEclampsia',\n",
       " 'antepartumHemorrhage',\n",
       " 'thyroidMalfunction',\n",
       " 'diabetes']"
      ]
     },
     "execution_count": 40,
     "metadata": {},
     "output_type": "execute_result"
    }
   ],
   "source": [
    "pregnancy_history_columns = COMBINE_harmonizer.get_columns(df_data_dict, 'Pre-intervention', 'Pregnancy History')\n",
    "all_pregnancy_history_columns = id_columns + pregnancy_history_columns\n",
    "pregnancy_history_columns"
   ]
  },
  {
   "cell_type": "code",
   "execution_count": 41,
   "id": "f95803a1",
   "metadata": {
    "execution": {
     "iopub.execute_input": "2025-02-04T10:53:53.388541Z",
     "iopub.status.busy": "2025-02-04T10:53:53.388441Z",
     "iopub.status.idle": "2025-02-04T10:53:53.456781Z",
     "shell.execute_reply": "2025-02-04T10:53:53.456379Z"
    }
   },
   "outputs": [
    {
     "name": "stdout",
     "output_type": "stream",
     "text": [
      "to set pregnancy history\n"
     ]
    }
   ],
   "source": [
    "print('to set pregnancy history')\n",
    "df_pregnancy_history = COMBINE_harmonizer.valid_columns(df_main, all_pregnancy_history_columns)\n",
    "df_pregnancy_history = COMBINE_harmonizer.postprocess(df_pregnancy_history)\n",
    "\n",
    "out_filename = os.sep.join([out_dir, '01-04-pregnancy-history.csv'])\n",
    "df_pregnancy_history.to_csv(out_filename, index=False)"
   ]
  },
  {
   "cell_type": "markdown",
   "id": "7364116c",
   "metadata": {},
   "source": [
    "### 01-04-2. check empty cells"
   ]
  },
  {
   "cell_type": "code",
   "execution_count": 42,
   "id": "bab26696",
   "metadata": {
    "execution": {
     "iopub.execute_input": "2025-02-04T10:53:53.458869Z",
     "iopub.status.busy": "2025-02-04T10:53:53.458683Z",
     "iopub.status.idle": "2025-02-04T10:53:53.463066Z",
     "shell.execute_reply": "2025-02-04T10:53:53.462689Z"
    }
   },
   "outputs": [
    {
     "name": "stdout",
     "output_type": "stream",
     "text": [
      "(0/12) column: center (364 / 0)\n",
      "(1/12) column: subjectID (364 / 0)\n",
      "(2/12) column: uniqueID (364 / 0)\n",
      "(3/12) column: multipleBirth (364 / 0)\n",
      "(4/12) column: prenatalCare (364 / 0)\n",
      "(5/12) column: hypertensionEclampsia (364 / 0)\n",
      "(6/12) column: antepartumHemorrhage (364 / 0)\n",
      "(7/12) column: thyroidMalfunction (364 / 0)\n",
      "(8/12) column: diabetes (364 / 0)\n",
      "(9/12) column: gravida (364 / 0)\n",
      "(10/12) column: parity (364 / 0)\n",
      "(11/12) column: numFetus (10 / 354)\n"
     ]
    }
   ],
   "source": [
    "COMBINE_harmonizer.check_empty(df_pregnancy_history)"
   ]
  },
  {
   "cell_type": "code",
   "execution_count": 43,
   "id": "31134a9a",
   "metadata": {
    "execution": {
     "iopub.execute_input": "2025-02-04T10:53:53.464838Z",
     "iopub.status.busy": "2025-02-04T10:53:53.464703Z",
     "iopub.status.idle": "2025-02-04T10:53:53.467579Z",
     "shell.execute_reply": "2025-02-04T10:53:53.467256Z"
    }
   },
   "outputs": [
    {
     "name": "stdout",
     "output_type": "stream",
     "text": [
      "(0/12) center: (364/0)\n",
      "(1/12) subjectID: (364/0)\n",
      "(2/12) uniqueID: (364/0)\n",
      "(3/12) multipleBirth: (364/0)\n",
      "(4/12) prenatalCare: (364/0)\n",
      "(5/12) hypertensionEclampsia: (364/0)\n",
      "(6/12) antepartumHemorrhage: (364/0)\n",
      "(7/12) thyroidMalfunction: (364/0)\n",
      "(8/12) diabetes: (364/0)\n",
      "(9/12) gravida: (364/0)\n",
      "(10/12) parity: (364/0)\n",
      "(11/12) numFetus: (10/354)\n"
     ]
    }
   ],
   "source": [
    "COMBINE_harmonizer.column_info(df_pregnancy_history)"
   ]
  },
  {
   "cell_type": "markdown",
   "id": "562c73be",
   "metadata": {},
   "source": [
    "## 01-05. Labor Delivery"
   ]
  },
  {
   "cell_type": "code",
   "execution_count": 44,
   "id": "ca7bfdce",
   "metadata": {
    "execution": {
     "iopub.execute_input": "2025-02-04T10:53:53.469314Z",
     "iopub.status.busy": "2025-02-04T10:53:53.469164Z",
     "iopub.status.idle": "2025-02-04T10:53:53.472572Z",
     "shell.execute_reply": "2025-02-04T10:53:53.472205Z"
    }
   },
   "outputs": [
    {
     "data": {
      "text/plain": [
       "['maternalAdmissionDate',\n",
       " 'maternalAdmissionTime',\n",
       " 'ruptureDate',\n",
       " 'ruptureTime',\n",
       " 'ruptureOver18Hr',\n",
       " 'ruptureBeforeDelivery',\n",
       " 'labor',\n",
       " 'laborOnsetDate',\n",
       " 'laborOnsetTime',\n",
       " 'deliveryMode',\n",
       " 'fetalDecelerate',\n",
       " 'cordMishap',\n",
       " 'uterineRupture',\n",
       " 'shoulderDystocia',\n",
       " 'placentalProblem',\n",
       " 'maternalHemorrhage',\n",
       " 'maternalTrauma',\n",
       " 'maternalCardioRespiratoryArrest',\n",
       " 'maternalSeizure',\n",
       " 'pyrexiaOver37p6C',\n",
       " 'chorioamnionitis',\n",
       " 'placentalPathologyPerformed',\n",
       " 'histologicChorioamionitis',\n",
       " 'laborAntibiotics',\n",
       " 'laborAntibioticsCode1',\n",
       " 'laborAntibioticsCode2',\n",
       " 'laborAntibioticsCode3',\n",
       " 'laborAntibioticsCode4',\n",
       " 'laborAntibioticsCode5',\n",
       " 'laborAntibioticsCode6']"
      ]
     },
     "execution_count": 44,
     "metadata": {},
     "output_type": "execute_result"
    }
   ],
   "source": [
    "labor_delivery_columns = COMBINE_harmonizer.get_columns(df_data_dict, 'Pre-intervention', 'Labor Delivery')\n",
    "all_labor_delivery_columns = id_columns + labor_delivery_columns\n",
    "labor_delivery_columns"
   ]
  },
  {
   "cell_type": "code",
   "execution_count": 45,
   "id": "64ce8851",
   "metadata": {
    "execution": {
     "iopub.execute_input": "2025-02-04T10:53:53.474050Z",
     "iopub.status.busy": "2025-02-04T10:53:53.473947Z",
     "iopub.status.idle": "2025-02-04T10:53:53.528674Z",
     "shell.execute_reply": "2025-02-04T10:53:53.528326Z"
    }
   },
   "outputs": [
    {
     "name": "stdout",
     "output_type": "stream",
     "text": [
      "to set labor delivery\n",
      "(8/32) labor not in df\n",
      "(9/32) laborOnsetDate not in df\n",
      "(10/32) laborOnsetTime not in df\n"
     ]
    }
   ],
   "source": [
    "print('to set labor delivery')\n",
    "df_labor_delivery = COMBINE_harmonizer.valid_columns(df_main, all_labor_delivery_columns)\n",
    "df_labor_delivery = COMBINE_harmonizer.postprocess(df_labor_delivery)\n",
    "\n",
    "out_filename = os.sep.join([out_dir, '01-05-labor-delivery.csv'])\n",
    "df_labor_delivery.to_csv(out_filename, index=False)"
   ]
  },
  {
   "cell_type": "markdown",
   "id": "5d3f0642",
   "metadata": {},
   "source": [
    "### 01-05-2. check empty cells"
   ]
  },
  {
   "cell_type": "code",
   "execution_count": 46,
   "id": "65a14e33",
   "metadata": {
    "execution": {
     "iopub.execute_input": "2025-02-04T10:53:53.530989Z",
     "iopub.status.busy": "2025-02-04T10:53:53.530818Z",
     "iopub.status.idle": "2025-02-04T10:53:53.536321Z",
     "shell.execute_reply": "2025-02-04T10:53:53.536028Z"
    }
   },
   "outputs": [
    {
     "name": "stdout",
     "output_type": "stream",
     "text": [
      "(0/30) column: center (364 / 0)\n",
      "(1/30) column: subjectID (364 / 0)\n",
      "(2/30) column: uniqueID (364 / 0)\n",
      "(3/30) column: fetalDecelerate (364 / 0)\n",
      "(4/30) column: cordMishap (364 / 0)\n",
      "(5/30) column: uterineRupture (364 / 0)\n",
      "(6/30) column: shoulderDystocia (364 / 0)\n",
      "(7/30) column: placentalProblem (364 / 0)\n",
      "(8/30) column: maternalHemorrhage (364 / 0)\n",
      "(9/30) column: maternalTrauma (364 / 0)\n",
      "(10/30) column: maternalCardioRespiratoryArrest (364 / 0)\n",
      "(11/30) column: maternalSeizure (364 / 0)\n",
      "(12/30) column: pyrexiaOver37p6C (364 / 0)\n",
      "(13/30) column: chorioamnionitis (364 / 0)\n",
      "(14/30) column: placentalPathologyPerformed (364 / 0)\n",
      "(15/30) column: histologicChorioamionitis (198 / 166)\n",
      "(16/30) column: laborAntibiotics (364 / 0)\n",
      "(17/30) column: ruptureBeforeDelivery (364 / 0)\n",
      "(18/30) column: ruptureOver18Hr (47 / 317)\n",
      "(19/30) column: maternalAdmissionDate (340 / 24)\n",
      "(20/30) column: maternalAdmissionTime (288 / 76)\n",
      "(21/30) column: laborAntibioticsCode1 (85 / 279)\n",
      "(22/30) column: laborAntibioticsCode2 (33 / 331)\n",
      "(23/30) column: laborAntibioticsCode3 (8 / 356)\n",
      "(24/30) column: laborAntibioticsCode4 (0 / 364)\n",
      "(25/30) column: laborAntibioticsCode5 (0 / 364)\n",
      "(26/30) column: laborAntibioticsCode6 (0 / 364)\n",
      "(27/30) column: ruptureDate (245 / 119)\n",
      "(28/30) column: ruptureTime (220 / 144)\n",
      "(29/30) column: deliveryMode (364 / 0)\n"
     ]
    }
   ],
   "source": [
    "COMBINE_harmonizer.check_empty(df_labor_delivery)"
   ]
  },
  {
   "cell_type": "code",
   "execution_count": 47,
   "id": "5a8d1714",
   "metadata": {
    "execution": {
     "iopub.execute_input": "2025-02-04T10:53:53.537912Z",
     "iopub.status.busy": "2025-02-04T10:53:53.537772Z",
     "iopub.status.idle": "2025-02-04T10:53:53.542317Z",
     "shell.execute_reply": "2025-02-04T10:53:53.541837Z"
    }
   },
   "outputs": [
    {
     "name": "stdout",
     "output_type": "stream",
     "text": [
      "(0/30) center: (364/0)\n",
      "(1/30) subjectID: (364/0)\n",
      "(2/30) uniqueID: (364/0)\n",
      "(3/30) fetalDecelerate: (364/0)\n",
      "(4/30) cordMishap: (364/0)\n",
      "(5/30) uterineRupture: (364/0)\n",
      "(6/30) shoulderDystocia: (364/0)\n",
      "(7/30) placentalProblem: (364/0)\n",
      "(8/30) maternalHemorrhage: (364/0)\n",
      "(9/30) maternalTrauma: (364/0)\n",
      "(10/30) maternalCardioRespiratoryArrest: (364/0)\n",
      "(11/30) maternalSeizure: (364/0)\n",
      "(12/30) pyrexiaOver37p6C: (364/0)\n",
      "(13/30) chorioamnionitis: (364/0)\n",
      "(14/30) placentalPathologyPerformed: (364/0)\n",
      "(15/30) histologicChorioamionitis: (198/166)\n",
      "(16/30) laborAntibiotics: (364/0)\n",
      "(17/30) ruptureBeforeDelivery: (364/0)\n",
      "(18/30) ruptureOver18Hr: (47/317)\n",
      "(19/30) maternalAdmissionDate: (340/24)\n",
      "(20/30) maternalAdmissionTime: (288/76)\n",
      "(21/30) laborAntibioticsCode1: (85/279)\n",
      "(22/30) laborAntibioticsCode2: (33/331)\n",
      "(23/30) laborAntibioticsCode3: (8/356)\n",
      "(24/30) laborAntibioticsCode4: (0/364)\n",
      "(25/30) laborAntibioticsCode5: (0/364)\n",
      "(26/30) laborAntibioticsCode6: (0/364)\n",
      "(27/30) ruptureDate: (245/119)\n",
      "(28/30) ruptureTime: (220/144)\n",
      "(29/30) deliveryMode: (364/0)\n"
     ]
    }
   ],
   "source": [
    "COMBINE_harmonizer.column_info(df_labor_delivery)"
   ]
  },
  {
   "cell_type": "markdown",
   "id": "e5a6fd74",
   "metadata": {},
   "source": [
    "## 01-06. Birth"
   ]
  },
  {
   "cell_type": "code",
   "execution_count": 48,
   "id": "0f67c23a",
   "metadata": {
    "execution": {
     "iopub.execute_input": "2025-02-04T10:53:53.543938Z",
     "iopub.status.busy": "2025-02-04T10:53:53.543843Z",
     "iopub.status.idle": "2025-02-04T10:53:53.547015Z",
     "shell.execute_reply": "2025-02-04T10:53:53.546717Z"
    }
   },
   "outputs": [
    {
     "data": {
      "text/plain": [
       "['encephalopathyLevel',\n",
       " 'randomInfantAge',\n",
       " 'birthDate',\n",
       " 'birthTime',\n",
       " 'birthWeight_g',\n",
       " 'birthLength_cm',\n",
       " 'birthHeadCircumference_cm',\n",
       " 'birthGestationalAge_week',\n",
       " 'infantSex',\n",
       " 'infantOutborn',\n",
       " 'outbornInHospital',\n",
       " 'outbornOutHospital',\n",
       " 'neonateAdmissionDate',\n",
       " 'neonateAdmissionTime',\n",
       " 'Apgar1min',\n",
       " 'Apgar5min',\n",
       " 'Apgar10min',\n",
       " 'Apgar15min',\n",
       " 'Apgar20min',\n",
       " 'deliveryResuscitation',\n",
       " 'deliveryOxygen',\n",
       " 'deliveryBaggingAndMask',\n",
       " 'deliveryChestCompression',\n",
       " 'deliveryIntubation',\n",
       " 'deliveryDrug',\n",
       " 'at10MinContinueResuscitation',\n",
       " 'at10MinOxygen',\n",
       " 'at10MinBaggingAndMask',\n",
       " 'at10MinChestCompression',\n",
       " 'at10MinIntubation',\n",
       " 'at10MinDrug',\n",
       " 'spontaneousRespirationTime',\n",
       " 'cordBloodGas',\n",
       " 'cordBloodGasSrc',\n",
       " 'cordBloodGasPH',\n",
       " 'cordBloodGasPCO2_mmHg',\n",
       " 'cordBloodGasPO2_mmHg',\n",
       " 'cordBloodGasHCO3_mEqPerL',\n",
       " 'cordBloodGasBaseDeficit_mEqPerL',\n",
       " 'firstPostnatalBloodGas',\n",
       " 'firstPostnatalBloodGasSrc',\n",
       " 'firstPostnatalBloodGasDate',\n",
       " 'firstPostnatalBloodGasTime',\n",
       " 'firstPostnatalBloodGasPH',\n",
       " 'firstPostnatalBloodGasPCO2_mmHg',\n",
       " 'firstPostnatalBloodGasPO2_mmHg',\n",
       " 'firstPostnatalBloodGasHCO3_mEqPerL',\n",
       " 'firstPostnatalBloodGasBaseDeficit_mEqPerL']"
      ]
     },
     "execution_count": 48,
     "metadata": {},
     "output_type": "execute_result"
    }
   ],
   "source": [
    "birth_columns = COMBINE_harmonizer.get_columns(df_data_dict, 'Pre-intervention', 'Birth')\n",
    "all_birth_columns = id_columns + birth_columns\n",
    "birth_columns"
   ]
  },
  {
   "cell_type": "code",
   "execution_count": 49,
   "id": "2a598b4d",
   "metadata": {
    "execution": {
     "iopub.execute_input": "2025-02-04T10:53:53.548627Z",
     "iopub.status.busy": "2025-02-04T10:53:53.548523Z",
     "iopub.status.idle": "2025-02-04T10:53:53.627963Z",
     "shell.execute_reply": "2025-02-04T10:53:53.627607Z"
    }
   },
   "outputs": [
    {
     "name": "stdout",
     "output_type": "stream",
     "text": [
      "to set birth\n",
      "(3/50) randomInfantAge not in df\n",
      "(21/50) deliveryResuscitation not in df\n"
     ]
    }
   ],
   "source": [
    "print('to set birth')\n",
    "df_birth = COMBINE_harmonizer.valid_columns(df_main, all_birth_columns)\n",
    "df_birth = COMBINE_harmonizer.postprocess(df_birth)\n",
    "\n",
    "out_filename = os.sep.join([out_dir, '01-06-birth.csv'])\n",
    "df_birth.to_csv(out_filename, index=False)"
   ]
  },
  {
   "cell_type": "markdown",
   "id": "efcb6867",
   "metadata": {},
   "source": [
    "### 01-06-2. check empty cells"
   ]
  },
  {
   "cell_type": "code",
   "execution_count": 50,
   "id": "9e5dcae7",
   "metadata": {
    "execution": {
     "iopub.execute_input": "2025-02-04T10:53:53.629736Z",
     "iopub.status.busy": "2025-02-04T10:53:53.629620Z",
     "iopub.status.idle": "2025-02-04T10:53:53.637332Z",
     "shell.execute_reply": "2025-02-04T10:53:53.636975Z"
    }
   },
   "outputs": [
    {
     "name": "stdout",
     "output_type": "stream",
     "text": [
      "(0/49) column: center (364 / 0)\n",
      "(1/49) column: subjectID (364 / 0)\n",
      "(2/49) column: uniqueID (364 / 0)\n",
      "(3/49) column: birthDate (364 / 0)\n",
      "(4/49) column: encephalopathyLevel (364 / 0)\n",
      "(5/49) column: infantOutborn (364 / 0)\n",
      "(6/49) column: outbornInHospital (234 / 130)\n",
      "(7/49) column: outbornOutHospital (234 / 130)\n",
      "(8/49) column: deliveryOxygen (364 / 0)\n",
      "(9/49) column: deliveryBaggingAndMask (364 / 0)\n",
      "(10/49) column: deliveryChestCompression (364 / 0)\n",
      "(11/49) column: deliveryIntubation (364 / 0)\n",
      "(12/49) column: deliveryDrug (364 / 0)\n",
      "(13/49) column: at10MinContinueResuscitation (364 / 0)\n",
      "(14/49) column: at10MinOxygen (315 / 49)\n",
      "(15/49) column: at10MinBaggingAndMask (315 / 49)\n",
      "(16/49) column: at10MinChestCompression (315 / 49)\n",
      "(17/49) column: at10MinIntubation (315 / 49)\n",
      "(18/49) column: at10MinDrug (315 / 49)\n",
      "(19/49) column: cordBloodGas (364 / 0)\n",
      "(20/49) column: firstPostnatalBloodGas (364 / 0)\n",
      "(21/49) column: birthTime (364 / 0)\n",
      "(22/49) column: neonateAdmissionDate (234 / 130)\n",
      "(23/49) column: neonateAdmissionTime (231 / 133)\n",
      "(24/49) column: Apgar1min (361 / 3)\n",
      "(25/49) column: Apgar5min (361 / 3)\n",
      "(26/49) column: Apgar10min (324 / 40)\n",
      "(27/49) column: Apgar15min (123 / 241)\n",
      "(28/49) column: Apgar20min (75 / 289)\n",
      "(29/49) column: birthWeight_g (363 / 1)\n",
      "(30/49) column: birthLength_cm (340 / 24)\n",
      "(31/49) column: birthHeadCircumference_cm (344 / 20)\n",
      "(32/49) column: birthGestationalAge_week (363 / 1)\n",
      "(33/49) column: infantSex (364 / 0)\n",
      "(34/49) column: spontaneousRespirationTime (341 / 23)\n",
      "(35/49) column: cordBloodGasSrc (265 / 99)\n",
      "(36/49) column: cordBloodGasPH (289 / 75)\n",
      "(37/49) column: cordBloodGasPCO2_mmHg (250 / 114)\n",
      "(38/49) column: cordBloodGasPO2_mmHg (220 / 144)\n",
      "(39/49) column: cordBloodGasHCO3_mEqPerL (212 / 152)\n",
      "(40/49) column: cordBloodGasBaseDeficit_mEqPerL (244 / 120)\n",
      "(41/49) column: firstPostnatalBloodGasSrc (356 / 8)\n",
      "(42/49) column: firstPostnatalBloodGasDate (361 / 3)\n",
      "(43/49) column: firstPostnatalBloodGasTime (331 / 33)\n",
      "(44/49) column: firstPostnatalBloodGasPH (358 / 6)\n",
      "(45/49) column: firstPostnatalBloodGasPCO2_mmHg (353 / 11)\n",
      "(46/49) column: firstPostnatalBloodGasPO2_mmHg (341 / 23)\n",
      "(47/49) column: firstPostnatalBloodGasHCO3_mEqPerL (318 / 46)\n",
      "(48/49) column: firstPostnatalBloodGasBaseDeficit_mEqPerL (340 / 24)\n"
     ]
    }
   ],
   "source": [
    "COMBINE_harmonizer.check_empty(df_birth)"
   ]
  },
  {
   "cell_type": "code",
   "execution_count": 51,
   "id": "115b243c",
   "metadata": {
    "execution": {
     "iopub.execute_input": "2025-02-04T10:53:53.639005Z",
     "iopub.status.busy": "2025-02-04T10:53:53.638859Z",
     "iopub.status.idle": "2025-02-04T10:53:53.644407Z",
     "shell.execute_reply": "2025-02-04T10:53:53.644129Z"
    }
   },
   "outputs": [
    {
     "name": "stdout",
     "output_type": "stream",
     "text": [
      "(0/49) center: (364/0)\n",
      "(1/49) subjectID: (364/0)\n",
      "(2/49) uniqueID: (364/0)\n",
      "(3/49) birthDate: (364/0)\n",
      "(4/49) encephalopathyLevel: (364/0)\n",
      "(5/49) infantOutborn: (364/0)\n",
      "(6/49) outbornInHospital: (234/130)\n",
      "(7/49) outbornOutHospital: (234/130)\n",
      "(8/49) deliveryOxygen: (364/0)\n",
      "(9/49) deliveryBaggingAndMask: (364/0)\n",
      "(10/49) deliveryChestCompression: (364/0)\n",
      "(11/49) deliveryIntubation: (364/0)\n",
      "(12/49) deliveryDrug: (364/0)\n",
      "(13/49) at10MinContinueResuscitation: (364/0)\n",
      "(14/49) at10MinOxygen: (315/49)\n",
      "(15/49) at10MinBaggingAndMask: (315/49)\n",
      "(16/49) at10MinChestCompression: (315/49)\n",
      "(17/49) at10MinIntubation: (315/49)\n",
      "(18/49) at10MinDrug: (315/49)\n",
      "(19/49) cordBloodGas: (364/0)\n",
      "(20/49) firstPostnatalBloodGas: (364/0)\n",
      "(21/49) birthTime: (364/0)\n",
      "(22/49) neonateAdmissionDate: (234/130)\n",
      "(23/49) neonateAdmissionTime: (231/133)\n",
      "(24/49) Apgar1min: (361/3)\n",
      "(25/49) Apgar5min: (361/3)\n",
      "(26/49) Apgar10min: (324/40)\n",
      "(27/49) Apgar15min: (123/241)\n",
      "(28/49) Apgar20min: (75/289)\n",
      "(29/49) birthWeight_g: (363/1)\n",
      "(30/49) birthLength_cm: (340/24)\n",
      "(31/49) birthHeadCircumference_cm: (344/20)\n",
      "(32/49) birthGestationalAge_week: (363/1)\n",
      "(33/49) infantSex: (364/0)\n",
      "(34/49) spontaneousRespirationTime: (341/23)\n",
      "(35/49) cordBloodGasSrc: (265/99)\n",
      "(36/49) cordBloodGasPH: (289/75)\n",
      "(37/49) cordBloodGasPCO2_mmHg: (250/114)\n",
      "(38/49) cordBloodGasPO2_mmHg: (220/144)\n",
      "(39/49) cordBloodGasHCO3_mEqPerL: (212/152)\n",
      "(40/49) cordBloodGasBaseDeficit_mEqPerL: (244/120)\n",
      "(41/49) firstPostnatalBloodGasSrc: (356/8)\n",
      "(42/49) firstPostnatalBloodGasDate: (361/3)\n",
      "(43/49) firstPostnatalBloodGasTime: (331/33)\n",
      "(44/49) firstPostnatalBloodGasPH: (358/6)\n",
      "(45/49) firstPostnatalBloodGasPCO2_mmHg: (353/11)\n",
      "(46/49) firstPostnatalBloodGasPO2_mmHg: (341/23)\n",
      "(47/49) firstPostnatalBloodGasHCO3_mEqPerL: (318/46)\n",
      "(48/49) firstPostnatalBloodGasBaseDeficit_mEqPerL: (340/24)\n"
     ]
    }
   ],
   "source": [
    "COMBINE_harmonizer.column_info(df_birth)"
   ]
  },
  {
   "cell_type": "markdown",
   "id": "b2eebef1",
   "metadata": {},
   "source": [
    "## 01-07. Pre Intervention - Temperature"
   ]
  },
  {
   "cell_type": "code",
   "execution_count": 52,
   "id": "ec6d4de4",
   "metadata": {
    "execution": {
     "iopub.execute_input": "2025-02-04T10:53:53.646071Z",
     "iopub.status.busy": "2025-02-04T10:53:53.645924Z",
     "iopub.status.idle": "2025-02-04T10:53:53.649365Z",
     "shell.execute_reply": "2025-02-04T10:53:53.649051Z"
    }
   },
   "outputs": [
    {
     "data": {
      "text/plain": [
       "['targetTreatmentTemperature_C',\n",
       " 'pre_CoolInitiate',\n",
       " 'pre_CoolbyIceGelPack',\n",
       " 'pre_CoolPassively',\n",
       " 'pre_CoolClinically',\n",
       " 'pre_CoolInitiateDate',\n",
       " 'pre_CoolInitiateTime',\n",
       " 'pre_AfterOvershootReach33p5C',\n",
       " 'pre_AfterOvershootReach33p5CDate',\n",
       " 'pre_AfterOvershootReach33p5CTime',\n",
       " 'pre_TemperatureMinDate',\n",
       " 'pre_TemperatureMinTime',\n",
       " 'pre_SkinTemperatureMin_C',\n",
       " 'pre_AxillaryTemperatureMin_C',\n",
       " 'pre_EsophagealTemperatureMin_C',\n",
       " 'pre_ServoSetMin_C',\n",
       " 'pre_TemperatureMaxDate',\n",
       " 'pre_TemperatureMaxTime',\n",
       " 'pre_SkinTemperatureMax_C',\n",
       " 'pre_AxillaryTemperatureMax_C',\n",
       " 'pre_EsophagealTemperatureMax_C',\n",
       " 'pre_ServoSetMax_C']"
      ]
     },
     "execution_count": 52,
     "metadata": {},
     "output_type": "execute_result"
    }
   ],
   "source": [
    "temperature_pre_intervention_columns = COMBINE_harmonizer.get_columns(df_data_dict, 'Pre-intervention', 'Temperature')\n",
    "all_temperature_pre_intervention_columns = id_columns + temperature_pre_intervention_columns\n",
    "temperature_pre_intervention_columns"
   ]
  },
  {
   "cell_type": "code",
   "execution_count": 53,
   "id": "2014a5a4",
   "metadata": {
    "execution": {
     "iopub.execute_input": "2025-02-04T10:53:53.650878Z",
     "iopub.status.busy": "2025-02-04T10:53:53.650759Z",
     "iopub.status.idle": "2025-02-04T10:53:53.712070Z",
     "shell.execute_reply": "2025-02-04T10:53:53.711648Z"
    }
   },
   "outputs": [],
   "source": [
    "df_temperature_pre_intervention = pd.concat([df_dict['oc06t72.csv'], df_dict['oc06t120.csv']])\n",
    "df_temperature_pre_intervention = COMBINE_harmonizer.valid_columns(df_temperature_pre_intervention, all_temperature_pre_intervention_columns)\n",
    "df_temperature_pre_intervention = COMBINE_harmonizer.postprocess(df_temperature_pre_intervention)\n",
    "\n",
    "out_filename = os.sep.join([out_dir, '01-07-pre-temperature.csv'])\n",
    "df_temperature_pre_intervention.to_csv(out_filename, index=False)"
   ]
  },
  {
   "cell_type": "markdown",
   "id": "e6a58897",
   "metadata": {},
   "source": [
    "### 01-07-2. check empty cells"
   ]
  },
  {
   "cell_type": "code",
   "execution_count": 54,
   "id": "9efbf545",
   "metadata": {
    "execution": {
     "iopub.execute_input": "2025-02-04T10:53:53.714443Z",
     "iopub.status.busy": "2025-02-04T10:53:53.714245Z",
     "iopub.status.idle": "2025-02-04T10:53:53.720724Z",
     "shell.execute_reply": "2025-02-04T10:53:53.720307Z"
    }
   },
   "outputs": [
    {
     "name": "stdout",
     "output_type": "stream",
     "text": [
      "(0/25) column: center (364 / 0)\n",
      "(1/25) column: subjectID (364 / 0)\n",
      "(2/25) column: uniqueID (364 / 0)\n",
      "(3/25) column: pre_CoolInitiate (364 / 0)\n",
      "(4/25) column: pre_CoolbyIceGelPack (252 / 112)\n",
      "(5/25) column: pre_CoolPassively (252 / 112)\n",
      "(6/25) column: pre_CoolClinically (252 / 112)\n",
      "(7/25) column: pre_AfterOvershootReach33p5C (364 / 0)\n",
      "(8/25) column: targetTreatmentTemperature_C (364 / 0)\n",
      "(9/25) column: pre_CoolInitiateDate (201 / 163)\n",
      "(10/25) column: pre_CoolInitiateTime (200 / 164)\n",
      "(11/25) column: pre_AfterOvershootReach33p5CDate (70 / 294)\n",
      "(12/25) column: pre_AfterOvershootReach33p5CTime (69 / 295)\n",
      "(13/25) column: pre_TemperatureMinDate (351 / 13)\n",
      "(14/25) column: pre_TemperatureMinTime (348 / 16)\n",
      "(15/25) column: pre_SkinTemperatureMin_C (168 / 196)\n",
      "(16/25) column: pre_AxillaryTemperatureMin_C (231 / 133)\n",
      "(17/25) column: pre_EsophagealTemperatureMin_C (138 / 226)\n",
      "(18/25) column: pre_ServoSetMin_C (164 / 200)\n",
      "(19/25) column: pre_TemperatureMaxDate (350 / 14)\n",
      "(20/25) column: pre_TemperatureMaxTime (340 / 24)\n",
      "(21/25) column: pre_SkinTemperatureMax_C (133 / 231)\n",
      "(22/25) column: pre_AxillaryTemperatureMax_C (279 / 85)\n",
      "(23/25) column: pre_EsophagealTemperatureMax_C (68 / 296)\n",
      "(24/25) column: pre_ServoSetMax_C (119 / 245)\n"
     ]
    }
   ],
   "source": [
    "COMBINE_harmonizer.check_empty(df_temperature_pre_intervention)"
   ]
  },
  {
   "cell_type": "code",
   "execution_count": 55,
   "id": "4b0b1c13",
   "metadata": {
    "execution": {
     "iopub.execute_input": "2025-02-04T10:53:53.722607Z",
     "iopub.status.busy": "2025-02-04T10:53:53.722423Z",
     "iopub.status.idle": "2025-02-04T10:53:53.726762Z",
     "shell.execute_reply": "2025-02-04T10:53:53.726205Z"
    }
   },
   "outputs": [
    {
     "name": "stdout",
     "output_type": "stream",
     "text": [
      "(0/25) center: (364/0)\n",
      "(1/25) subjectID: (364/0)\n",
      "(2/25) uniqueID: (364/0)\n",
      "(3/25) pre_CoolInitiate: (364/0)\n",
      "(4/25) pre_CoolbyIceGelPack: (252/112)\n",
      "(5/25) pre_CoolPassively: (252/112)\n",
      "(6/25) pre_CoolClinically: (252/112)\n",
      "(7/25) pre_AfterOvershootReach33p5C: (364/0)\n",
      "(8/25) targetTreatmentTemperature_C: (364/0)\n",
      "(9/25) pre_CoolInitiateDate: (201/163)\n",
      "(10/25) pre_CoolInitiateTime: (200/164)\n",
      "(11/25) pre_AfterOvershootReach33p5CDate: (70/294)\n",
      "(12/25) pre_AfterOvershootReach33p5CTime: (69/295)\n",
      "(13/25) pre_TemperatureMinDate: (351/13)\n",
      "(14/25) pre_TemperatureMinTime: (348/16)\n",
      "(15/25) pre_SkinTemperatureMin_C: (168/196)\n",
      "(16/25) pre_AxillaryTemperatureMin_C: (231/133)\n",
      "(17/25) pre_EsophagealTemperatureMin_C: (138/226)\n",
      "(18/25) pre_ServoSetMin_C: (164/200)\n",
      "(19/25) pre_TemperatureMaxDate: (350/14)\n",
      "(20/25) pre_TemperatureMaxTime: (340/24)\n",
      "(21/25) pre_SkinTemperatureMax_C: (133/231)\n",
      "(22/25) pre_AxillaryTemperatureMax_C: (279/85)\n",
      "(23/25) pre_EsophagealTemperatureMax_C: (68/296)\n",
      "(24/25) pre_ServoSetMax_C: (119/245)\n"
     ]
    }
   ],
   "source": [
    "COMBINE_harmonizer.column_info(df_temperature_pre_intervention)"
   ]
  },
  {
   "cell_type": "markdown",
   "id": "a118ed44",
   "metadata": {},
   "source": [
    "## 01-08. Pre-intervention - Cardio"
   ]
  },
  {
   "cell_type": "code",
   "execution_count": 56,
   "id": "cf64004e",
   "metadata": {
    "execution": {
     "iopub.execute_input": "2025-02-04T10:53:53.728474Z",
     "iopub.status.busy": "2025-02-04T10:53:53.728346Z",
     "iopub.status.idle": "2025-02-04T10:53:53.731893Z",
     "shell.execute_reply": "2025-02-04T10:53:53.731589Z"
    }
   },
   "outputs": [
    {
     "data": {
      "text/plain": [
       "['pre_CardioDate',\n",
       " 'pre_CardioTime',\n",
       " 'pre_CardioSystolicBloodPressure_mmHg',\n",
       " 'pre_CardioDiastolicBloodPressure_mmHg',\n",
       " 'pre_CardioHeartRate_BPM',\n",
       " 'pre_CardioVolumeExpand',\n",
       " 'pre_CardioInotropicAgent',\n",
       " 'pre_CardioBloodTransfusion',\n",
       " 'pre_CardioPlatelets']"
      ]
     },
     "execution_count": 56,
     "metadata": {},
     "output_type": "execute_result"
    }
   ],
   "source": [
    "cardio_pre_intervention_columns = COMBINE_harmonizer.get_columns(df_data_dict, 'Pre-intervention', 'Cardiovascular')\n",
    "all_cardio_pre_intervention_columns = id_columns + cardio_pre_intervention_columns\n",
    "cardio_pre_intervention_columns"
   ]
  },
  {
   "cell_type": "code",
   "execution_count": 57,
   "id": "eb088a1d",
   "metadata": {
    "execution": {
     "iopub.execute_input": "2025-02-04T10:53:53.733525Z",
     "iopub.status.busy": "2025-02-04T10:53:53.733380Z",
     "iopub.status.idle": "2025-02-04T10:53:53.858467Z",
     "shell.execute_reply": "2025-02-04T10:53:53.857830Z"
    }
   },
   "outputs": [],
   "source": [
    "df_cardio = df_dict['oc07.csv'].copy()\n",
    "\n",
    "cardioTimeSlot_int = df_cardio['cardioTimeSlot'].apply(COMBINE_harmonizer.to_int)\n",
    "is_pre = cardioTimeSlot_int == 0\n",
    "df_cardio_pre_intervention = df_cardio[is_pre]\n",
    "pre_rename_map = {\n",
    "    'cardioDate': 'pre_CardioDate',\n",
    "    'cardioTime': 'pre_CardioTime',\n",
    "    'cardioSystolicBloodPressure_mmHg': 'pre_CardioSystolicBloodPressure_mmHg',\n",
    "    'cardioDiastolicBloodPressure_mmHg': 'pre_CardioDiastolicBloodPressure_mmHg',\n",
    "    'cardioHeartRate_BPM': 'pre_CardioHeartRate_BPM',\n",
    "    'cardioVolumeExpand': 'pre_CardioVolumeExpand',\n",
    "    'cardioInotropicAgent': 'pre_CardioInotropicAgent',\n",
    "    'cardioBloodTransfusion': 'pre_CardioBloodTransfusion',\n",
    "    'cardioPlatelets': 'pre_CardioPlatelets',\n",
    "}\n",
    "df_cardio_pre_intervention = df_cardio_pre_intervention.rename(columns=pre_rename_map)\n",
    "\n",
    "df_cardio_pre_intervention = COMBINE_harmonizer.valid_columns(df_cardio_pre_intervention, all_cardio_pre_intervention_columns)\n",
    "df_cardio_pre_intervention = COMBINE_harmonizer.postprocess(df_cardio_pre_intervention)\n",
    "\n",
    "out_filename = os.sep.join([out_dir, '01-08-pre-cardiovascular.csv'])\n",
    "df_cardio_pre_intervention.to_csv(out_filename, index=False)"
   ]
  },
  {
   "cell_type": "markdown",
   "id": "d5d6761b",
   "metadata": {},
   "source": [
    "### 01-08-2. Check empty"
   ]
  },
  {
   "cell_type": "code",
   "execution_count": 58,
   "id": "2c6e0bf5",
   "metadata": {
    "execution": {
     "iopub.execute_input": "2025-02-04T10:53:53.861445Z",
     "iopub.status.busy": "2025-02-04T10:53:53.861182Z",
     "iopub.status.idle": "2025-02-04T10:53:53.867235Z",
     "shell.execute_reply": "2025-02-04T10:53:53.866731Z"
    }
   },
   "outputs": [
    {
     "name": "stdout",
     "output_type": "stream",
     "text": [
      "(0/12) column: center (357 / 0)\n",
      "(1/12) column: subjectID (357 / 0)\n",
      "(2/12) column: uniqueID (357 / 0)\n",
      "(3/12) column: pre_CardioVolumeExpand (357 / 0)\n",
      "(4/12) column: pre_CardioInotropicAgent (357 / 0)\n",
      "(5/12) column: pre_CardioBloodTransfusion (357 / 0)\n",
      "(6/12) column: pre_CardioPlatelets (357 / 0)\n",
      "(7/12) column: pre_CardioDate (357 / 0)\n",
      "(8/12) column: pre_CardioTime (355 / 2)\n",
      "(9/12) column: pre_CardioSystolicBloodPressure_mmHg (350 / 7)\n",
      "(10/12) column: pre_CardioDiastolicBloodPressure_mmHg (350 / 7)\n",
      "(11/12) column: pre_CardioHeartRate_BPM (351 / 6)\n"
     ]
    }
   ],
   "source": [
    "COMBINE_harmonizer.check_empty(df_cardio_pre_intervention)"
   ]
  },
  {
   "cell_type": "code",
   "execution_count": 59,
   "id": "073d2bb2",
   "metadata": {
    "execution": {
     "iopub.execute_input": "2025-02-04T10:53:53.869402Z",
     "iopub.status.busy": "2025-02-04T10:53:53.869225Z",
     "iopub.status.idle": "2025-02-04T10:53:53.872555Z",
     "shell.execute_reply": "2025-02-04T10:53:53.872065Z"
    }
   },
   "outputs": [
    {
     "name": "stdout",
     "output_type": "stream",
     "text": [
      "(0/12) center: (357/0)\n",
      "(1/12) subjectID: (357/0)\n",
      "(2/12) uniqueID: (357/0)\n",
      "(3/12) pre_CardioVolumeExpand: (357/0)\n",
      "(4/12) pre_CardioInotropicAgent: (357/0)\n",
      "(5/12) pre_CardioBloodTransfusion: (357/0)\n",
      "(6/12) pre_CardioPlatelets: (357/0)\n",
      "(7/12) pre_CardioDate: (357/0)\n",
      "(8/12) pre_CardioTime: (355/2)\n",
      "(9/12) pre_CardioSystolicBloodPressure_mmHg: (350/7)\n",
      "(10/12) pre_CardioDiastolicBloodPressure_mmHg: (350/7)\n",
      "(11/12) pre_CardioHeartRate_BPM: (351/6)\n"
     ]
    }
   ],
   "source": [
    "COMBINE_harmonizer.column_info(df_cardio_pre_intervention)"
   ]
  },
  {
   "cell_type": "markdown",
   "id": "f8740028",
   "metadata": {},
   "source": [
    "## 01-13. Pre-intervention - Respiratory"
   ]
  },
  {
   "cell_type": "code",
   "execution_count": 60,
   "id": "245c39f6",
   "metadata": {
    "execution": {
     "iopub.execute_input": "2025-02-04T10:53:53.874881Z",
     "iopub.status.busy": "2025-02-04T10:53:53.874713Z",
     "iopub.status.idle": "2025-02-04T10:53:53.879200Z",
     "shell.execute_reply": "2025-02-04T10:53:53.878802Z"
    }
   },
   "outputs": [
    {
     "data": {
      "text/plain": [
       "['pre_RespiratoryDate',\n",
       " 'pre_RespiratoryTime',\n",
       " 'pre_RespiratorySupportType',\n",
       " 'pre_RespiratoryFiO2',\n",
       " 'pre_RespiratoryRate_Hz',\n",
       " 'pre_RespiratoryPIP_cmH2O',\n",
       " 'pre_RespiratoryMAP_cmH2O',\n",
       " 'pre_RespiratoryPEEP_cmH2O']"
      ]
     },
     "execution_count": 60,
     "metadata": {},
     "output_type": "execute_result"
    }
   ],
   "source": [
    "respiratory_pre_intervention_columns = COMBINE_harmonizer.get_columns(df_data_dict, 'Pre-intervention', 'Respiratory')\n",
    "all_respiratory_pre_intervention_columns = id_columns + respiratory_pre_intervention_columns\n",
    "respiratory_pre_intervention_columns"
   ]
  },
  {
   "cell_type": "code",
   "execution_count": 61,
   "id": "90ca7970",
   "metadata": {
    "execution": {
     "iopub.execute_input": "2025-02-04T10:53:53.881119Z",
     "iopub.status.busy": "2025-02-04T10:53:53.880942Z",
     "iopub.status.idle": "2025-02-04T10:53:53.892603Z",
     "shell.execute_reply": "2025-02-04T10:53:53.892264Z"
    }
   },
   "outputs": [],
   "source": [
    "df_respiratory = df_dict['oc08.csv'].copy()\n",
    "\n",
    "respiratoryTimeSlot_int = df_respiratory['respiratoryTimeSlot'].apply(COMBINE_harmonizer.to_int)\n",
    "is_pre = respiratoryTimeSlot_int == 0\n",
    "df_respiratory_pre = df_respiratory[is_pre]\n",
    "pre_rename_map = {\n",
    "    'respiratoryDate': 'pre_RespiratoryDate',\n",
    "    'respiratoryTime': 'pre_RespiratoryTime',\n",
    "    'respiratorySupportType': 'pre_RespiratorySupportType',\n",
    "    'respiratoryFiO2': 'pre_RespiratoryFiO2',\n",
    "    'respiratoryRate_Hz': 'pre_RespiratoryRate_Hz',\n",
    "    'respiratoryPIP_cmH2O': 'pre_RespiratoryPIP_cmH2O',\n",
    "    'respiratoryMAP_cmH2O': 'pre_RespiratoryMAP_cmH2O',\n",
    "    'respiratoryPEEP_cmH2O': 'pre_RespiratoryPEEP_cmH2O',\n",
    "}\n",
    "df_respiratory_pre = df_respiratory_pre.rename(columns=pre_rename_map)\n",
    "\n",
    "df_respiratory_pre = COMBINE_harmonizer.valid_columns(df_respiratory_pre, all_respiratory_pre_intervention_columns)\n",
    "df_respiratory_pre = COMBINE_harmonizer.postprocess(df_respiratory_pre)\n",
    "\n",
    "# XXX skip pre-respiratory because there is no data.\n",
    "# out_filename = os.sep.join([out_dir, '01-13-pre-respiratory.csv'])\n",
    "# df_respiratory_before_baseline.to_csv(out_filename, index=False)"
   ]
  },
  {
   "cell_type": "markdown",
   "id": "5d41e4b0",
   "metadata": {},
   "source": [
    "### 01-13-2. check empty cells"
   ]
  },
  {
   "cell_type": "code",
   "execution_count": 62,
   "id": "5c670f18",
   "metadata": {
    "execution": {
     "iopub.execute_input": "2025-02-04T10:53:53.894422Z",
     "iopub.status.busy": "2025-02-04T10:53:53.894272Z",
     "iopub.status.idle": "2025-02-04T10:53:53.897577Z",
     "shell.execute_reply": "2025-02-04T10:53:53.897190Z"
    }
   },
   "outputs": [
    {
     "name": "stdout",
     "output_type": "stream",
     "text": [
      "(0/11) column: center (350 / 0)\n",
      "(1/11) column: subjectID (350 / 0)\n",
      "(2/11) column: uniqueID (350 / 0)\n",
      "(3/11) column: pre_RespiratoryDate (348 / 2)\n",
      "(4/11) column: pre_RespiratoryTime (321 / 29)\n",
      "(5/11) column: pre_RespiratorySupportType (0 / 350)\n",
      "(6/11) column: pre_RespiratoryFiO2 (0 / 350)\n",
      "(7/11) column: pre_RespiratoryRate_Hz (0 / 350)\n",
      "(8/11) column: pre_RespiratoryPIP_cmH2O (0 / 350)\n",
      "(9/11) column: pre_RespiratoryMAP_cmH2O (0 / 350)\n",
      "(10/11) column: pre_RespiratoryPEEP_cmH2O (0 / 350)\n"
     ]
    }
   ],
   "source": [
    "COMBINE_harmonizer.check_empty(df_respiratory_pre)"
   ]
  },
  {
   "cell_type": "code",
   "execution_count": 63,
   "id": "ce5c9628",
   "metadata": {
    "execution": {
     "iopub.execute_input": "2025-02-04T10:53:53.899181Z",
     "iopub.status.busy": "2025-02-04T10:53:53.899069Z",
     "iopub.status.idle": "2025-02-04T10:53:53.902003Z",
     "shell.execute_reply": "2025-02-04T10:53:53.901584Z"
    }
   },
   "outputs": [
    {
     "name": "stdout",
     "output_type": "stream",
     "text": [
      "(0/11) center: (350/0)\n",
      "(1/11) subjectID: (350/0)\n",
      "(2/11) uniqueID: (350/0)\n",
      "(3/11) pre_RespiratoryDate: (348/2)\n",
      "(4/11) pre_RespiratoryTime: (321/29)\n",
      "(5/11) pre_RespiratorySupportType: (0/350)\n",
      "(6/11) pre_RespiratoryFiO2: (0/350)\n",
      "(7/11) pre_RespiratoryRate_Hz: (0/350)\n",
      "(8/11) pre_RespiratoryPIP_cmH2O: (0/350)\n",
      "(9/11) pre_RespiratoryMAP_cmH2O: (0/350)\n",
      "(10/11) pre_RespiratoryPEEP_cmH2O: (0/350)\n"
     ]
    }
   ],
   "source": [
    "COMBINE_harmonizer.column_info(df_respiratory_pre)"
   ]
  },
  {
   "cell_type": "markdown",
   "id": "09c5cdd3",
   "metadata": {},
   "source": [
    "## 01-14. Pre-intervention - Blood Gas"
   ]
  },
  {
   "cell_type": "code",
   "execution_count": 64,
   "id": "0482fe18",
   "metadata": {
    "execution": {
     "iopub.execute_input": "2025-02-04T10:53:53.903948Z",
     "iopub.status.busy": "2025-02-04T10:53:53.903786Z",
     "iopub.status.idle": "2025-02-04T10:53:53.906836Z",
     "shell.execute_reply": "2025-02-04T10:53:53.906569Z"
    }
   },
   "outputs": [
    {
     "data": {
      "text/plain": [
       "['pre_BloodGasDate',\n",
       " 'pre_BloodGasTime',\n",
       " 'pre_BloodGasSrc',\n",
       " 'pre_BloodGasPH',\n",
       " 'pre_BloodGasPCO2_mmHg',\n",
       " 'pre_BloodGasPO2_mmHg',\n",
       " 'pre_BloodGasHCO3_mEqPerL',\n",
       " 'pre_BloodGasBaseDeficit_mEqPerL',\n",
       " 'pre_BloodGasPHCorrect',\n",
       " 'pre_BloodGasPCO2Correct_mmHg',\n",
       " 'pre_BloodGasPO2Correct_mmHg',\n",
       " 'pre_BloodGasHCO3Correct_mEqPerL',\n",
       " 'pre_BloodGasBaseDeficitCorrect_mEqPerL']"
      ]
     },
     "execution_count": 64,
     "metadata": {},
     "output_type": "execute_result"
    }
   ],
   "source": [
    "blood_gas_pre_columns = COMBINE_harmonizer.get_columns(df_data_dict, 'Pre-intervention', 'Blood Gas')\n",
    "all_blood_gas_pre_columns = id_columns + blood_gas_pre_columns\n",
    "blood_gas_pre_columns"
   ]
  },
  {
   "cell_type": "code",
   "execution_count": 65,
   "id": "27ec0e1b",
   "metadata": {
    "execution": {
     "iopub.execute_input": "2025-02-04T10:53:53.908245Z",
     "iopub.status.busy": "2025-02-04T10:53:53.908148Z",
     "iopub.status.idle": "2025-02-04T10:53:53.922342Z",
     "shell.execute_reply": "2025-02-04T10:53:53.922061Z"
    }
   },
   "outputs": [],
   "source": [
    "df_blood_gas = df_dict['oc07.csv'].copy().rename(columns={'cardioTimeSlot': 'bloodGasTimeSlot'})\n",
    "\n",
    "bloodGasTimeSlot_int = df_blood_gas['bloodGasTimeSlot'].apply(COMBINE_harmonizer.to_int)\n",
    "is_pre = bloodGasTimeSlot_int == 0\n",
    "df_blood_gas_pre = df_blood_gas[is_pre]\n",
    "pre_rename_map = {\n",
    "    'bloodGasDate': 'pre_BloodGasDate',\n",
    "    'bloodGasTime': 'pre_BloodGasTime',\n",
    "    'bloodGasSrc': 'pre_BloodGasSrc',\n",
    "    'bloodGasPH': 'pre_BloodGasPH',\n",
    "    'bloodGasPCO2_mmHg': 'pre_BloodGasPCO2_mmHg',\n",
    "    'bloodGasPO2_mmHg': 'pre_BloodGasPO2_mmHg',\n",
    "    'bloodGasHCO3_mEqPerL': 'pre_BloodGasHCO3_mEqPerL',\n",
    "    'bloodGasBaseDeficit_mEqPerL': 'pre_BloodGasBaseDeficit_mEqPerL',\n",
    "    'bloodGasPHCorrect': 'pre_BloodGasPHCorrect',\n",
    "    'bloodGasPCO2Correct_mmHg': 'pre_BloodGasPCO2Correct_mmHg',\n",
    "    'bloodGasPO2Correct_mmHg': 'pre_BloodGasPO2Correct_mmHg',\n",
    "    'bloodGasHCO3Correct_mEqPerL': 'pre_BloodGasHCO3Correct_mEqPerL',\n",
    "    'bloodGasBaseDeficitCorrect_mEqPerL': 'pre_BloodGasBaseDeficitCorrect_mEqPerL',\n",
    "}\n",
    "df_blood_gas_pre = df_blood_gas_pre.rename(columns=pre_rename_map)\n",
    "\n",
    "df_blood_gas_pre = COMBINE_harmonizer.valid_columns(df_blood_gas_pre, all_blood_gas_pre_columns)\n",
    "df_blood_gas_pre = COMBINE_harmonizer.postprocess(df_blood_gas_pre)\n",
    "\n",
    "# XXX skip pre-blood-gas because there is only 1 data.\n",
    "# out_filename = os.sep.join([out_dir, '01-14-pre-blood-gas.csv'])\n",
    "# df_blood_gas_pre.to_csv(out_filename, index=False)"
   ]
  },
  {
   "cell_type": "markdown",
   "id": "ac4dd178",
   "metadata": {},
   "source": [
    "### 01-14-2. check empty"
   ]
  },
  {
   "cell_type": "code",
   "execution_count": 66,
   "id": "42905dd4",
   "metadata": {
    "execution": {
     "iopub.execute_input": "2025-02-04T10:53:53.923903Z",
     "iopub.status.busy": "2025-02-04T10:53:53.923810Z",
     "iopub.status.idle": "2025-02-04T10:53:53.927107Z",
     "shell.execute_reply": "2025-02-04T10:53:53.926863Z"
    }
   },
   "outputs": [
    {
     "name": "stdout",
     "output_type": "stream",
     "text": [
      "(0/16) column: center (357 / 0)\n",
      "(1/16) column: subjectID (357 / 0)\n",
      "(2/16) column: uniqueID (357 / 0)\n",
      "(3/16) column: pre_BloodGasSrc (0 / 357)\n",
      "(4/16) column: pre_BloodGasDate (1 / 356)\n",
      "(5/16) column: pre_BloodGasTime (1 / 356)\n",
      "(6/16) column: pre_BloodGasPH (1 / 356)\n",
      "(7/16) column: pre_BloodGasPCO2_mmHg (1 / 356)\n",
      "(8/16) column: pre_BloodGasPO2_mmHg (1 / 356)\n",
      "(9/16) column: pre_BloodGasHCO3_mEqPerL (1 / 356)\n",
      "(10/16) column: pre_BloodGasBaseDeficit_mEqPerL (1 / 356)\n",
      "(11/16) column: pre_BloodGasPHCorrect (0 / 357)\n",
      "(12/16) column: pre_BloodGasPCO2Correct_mmHg (0 / 357)\n",
      "(13/16) column: pre_BloodGasPO2Correct_mmHg (0 / 357)\n",
      "(14/16) column: pre_BloodGasHCO3Correct_mEqPerL (0 / 357)\n",
      "(15/16) column: pre_BloodGasBaseDeficitCorrect_mEqPerL (0 / 357)\n"
     ]
    }
   ],
   "source": [
    "COMBINE_harmonizer.check_empty(df_blood_gas_pre)"
   ]
  },
  {
   "cell_type": "code",
   "execution_count": 67,
   "id": "b5235d12",
   "metadata": {
    "execution": {
     "iopub.execute_input": "2025-02-04T10:53:53.928308Z",
     "iopub.status.busy": "2025-02-04T10:53:53.928210Z",
     "iopub.status.idle": "2025-02-04T10:53:53.930561Z",
     "shell.execute_reply": "2025-02-04T10:53:53.930320Z"
    }
   },
   "outputs": [
    {
     "name": "stdout",
     "output_type": "stream",
     "text": [
      "(0/16) center: (357/0)\n",
      "(1/16) subjectID: (357/0)\n",
      "(2/16) uniqueID: (357/0)\n",
      "(3/16) pre_BloodGasSrc: (0/357)\n",
      "(4/16) pre_BloodGasDate: (1/356)\n",
      "(5/16) pre_BloodGasTime: (1/356)\n",
      "(6/16) pre_BloodGasPH: (1/356)\n",
      "(7/16) pre_BloodGasPCO2_mmHg: (1/356)\n",
      "(8/16) pre_BloodGasPO2_mmHg: (1/356)\n",
      "(9/16) pre_BloodGasHCO3_mEqPerL: (1/356)\n",
      "(10/16) pre_BloodGasBaseDeficit_mEqPerL: (1/356)\n",
      "(11/16) pre_BloodGasPHCorrect: (0/357)\n",
      "(12/16) pre_BloodGasPCO2Correct_mmHg: (0/357)\n",
      "(13/16) pre_BloodGasPO2Correct_mmHg: (0/357)\n",
      "(14/16) pre_BloodGasHCO3Correct_mEqPerL: (0/357)\n",
      "(15/16) pre_BloodGasBaseDeficitCorrect_mEqPerL: (0/357)\n"
     ]
    }
   ],
   "source": [
    "COMBINE_harmonizer.column_info(df_blood_gas_pre)"
   ]
  },
  {
   "cell_type": "markdown",
   "id": "5a99f332",
   "metadata": {},
   "source": [
    "## 01-15. Pre-intervention - Hematology CBC"
   ]
  },
  {
   "cell_type": "code",
   "execution_count": 68,
   "id": "4bed1eac",
   "metadata": {
    "execution": {
     "iopub.execute_input": "2025-02-04T10:53:53.931778Z",
     "iopub.status.busy": "2025-02-04T10:53:53.931689Z",
     "iopub.status.idle": "2025-02-04T10:53:53.934030Z",
     "shell.execute_reply": "2025-02-04T10:53:53.933830Z"
    }
   },
   "outputs": [
    {
     "data": {
      "text/plain": [
       "['pre_Hematology',\n",
       " 'pre_HematologyDate',\n",
       " 'pre_HematologyTime',\n",
       " 'pre_HematologyWBC',\n",
       " 'pre_HematologyHemoglobin',\n",
       " 'pre_HematologyPolymorphNeutrophilsDifferentialCount',\n",
       " 'pre_HematologyMonocytes',\n",
       " 'pre_HematologyLymphocytes',\n",
       " 'pre_HematologyPlateletCount',\n",
       " 'pre_HematologyPT_s',\n",
       " 'pre_HematologyPTT_s']"
      ]
     },
     "execution_count": 68,
     "metadata": {},
     "output_type": "execute_result"
    }
   ],
   "source": [
    "hematology_before_baseline_columns = COMBINE_harmonizer.get_columns(df_data_dict, 'Pre-intervention', 'Hematology CBC')\n",
    "all_hematology_before_baseline_columns = id_columns + hematology_before_baseline_columns\n",
    "hematology_before_baseline_columns"
   ]
  },
  {
   "cell_type": "code",
   "execution_count": 69,
   "id": "ba40b450",
   "metadata": {
    "execution": {
     "iopub.execute_input": "2025-02-04T10:53:53.935312Z",
     "iopub.status.busy": "2025-02-04T10:53:53.935213Z",
     "iopub.status.idle": "2025-02-04T10:53:53.937192Z",
     "shell.execute_reply": "2025-02-04T10:53:53.936964Z"
    }
   },
   "outputs": [
    {
     "data": {
      "text/plain": [
       "['subjectID',\n",
       " 'hematology',\n",
       " 'REC_CMP',\n",
       " 'center',\n",
       " 'respiratoryTimeSlot',\n",
       " 'respiratoryDate',\n",
       " 'respiratoryTime',\n",
       " 'respiratorySupportType',\n",
       " 'respiratoryFiO2',\n",
       " 'respiratoryRate_Hz',\n",
       " 'respiratoryPIP_cmH2O',\n",
       " 'respiratoryMAP_cmH2O',\n",
       " 'respiratoryPEEP_cmH2O',\n",
       " 'hematologyWBC',\n",
       " 'hematologyHemoglobin',\n",
       " 'hematologyPolymorphNeutrophilsDifferentialCount',\n",
       " 'hematologyMonocytes',\n",
       " 'hematologyLymphocytes',\n",
       " 'hematologyPlateletCount',\n",
       " 'hematologyPT_s',\n",
       " 'hematologyPTT_s',\n",
       " 'anticonvulsants1',\n",
       " 'anticonvulsants2',\n",
       " 'anticonvulsants3',\n",
       " 'analgesicsSedatives1',\n",
       " 'analgesicsSedatives2',\n",
       " 'analgesicsSedatives3',\n",
       " 'antipyretics1',\n",
       " 'antipyretics2',\n",
       " 'antipyretics3',\n",
       " 'paralytics1',\n",
       " 'paralytics2',\n",
       " 'paralytics3',\n",
       " 'otherMedFluidIntake_ccPerKg',\n",
       " 'otherMedUrineOutput_ccPerKg',\n",
       " 'CMP_DATE',\n",
       " 'CRT_DATE']"
      ]
     },
     "execution_count": 69,
     "metadata": {},
     "output_type": "execute_result"
    }
   ],
   "source": [
    "list(df_dict['oc08.csv'].columns)"
   ]
  },
  {
   "cell_type": "code",
   "execution_count": 70,
   "id": "3885b1db",
   "metadata": {
    "execution": {
     "iopub.execute_input": "2025-02-04T10:53:53.938313Z",
     "iopub.status.busy": "2025-02-04T10:53:53.938225Z",
     "iopub.status.idle": "2025-02-04T10:53:53.945269Z",
     "shell.execute_reply": "2025-02-04T10:53:53.945022Z"
    }
   },
   "outputs": [
    {
     "name": "stdout",
     "output_type": "stream",
     "text": [
      "(2/37) REC_CMP not in columns\n",
      "(4/37) hematologyTimeSlot not in columns\n",
      "(7/37) respiratorySupportType not in columns\n",
      "(8/37) respiratoryFiO2 not in columns\n",
      "(9/37) respiratoryRate_Hz not in columns\n",
      "(10/37) respiratoryPIP_cmH2O not in columns\n",
      "(11/37) respiratoryMAP_cmH2O not in columns\n",
      "(12/37) respiratoryPEEP_cmH2O not in columns\n",
      "(21/37) anticonvulsants1 not in columns\n",
      "(22/37) anticonvulsants2 not in columns\n",
      "(23/37) anticonvulsants3 not in columns\n",
      "(24/37) analgesicsSedatives1 not in columns\n",
      "(25/37) analgesicsSedatives2 not in columns\n",
      "(26/37) analgesicsSedatives3 not in columns\n",
      "(27/37) antipyretics1 not in columns\n",
      "(28/37) antipyretics2 not in columns\n",
      "(29/37) antipyretics3 not in columns\n",
      "(30/37) paralytics1 not in columns\n",
      "(31/37) paralytics2 not in columns\n",
      "(32/37) paralytics3 not in columns\n",
      "(33/37) otherMedFluidIntake_ccPerKg not in columns\n",
      "(34/37) otherMedUrineOutput_ccPerKg not in columns\n",
      "(35/37) CMP_DATE not in columns\n",
      "(36/37) CRT_DATE not in columns\n"
     ]
    }
   ],
   "source": [
    "df_hematology = df_dict['oc08.csv'].copy().rename(columns={'respiratoryTimeSlot': 'hematologyTimeSlot', 'respiratoryDate': 'hematologyDate', 'respiratoryTime': 'hematologyTime'})\n",
    "\n",
    "hematology_time_slot_int = df_hematology['hematologyTimeSlot'].apply(COMBINE_harmonizer.to_int)\n",
    "is_pre = hematology_time_slot_int == 0\n",
    "df_hematology_pre = df_hematology[is_pre]\n",
    "pre_rename_map = {\n",
    "    'hematology': 'pre_Hematology',\n",
    "    'hematologyDate': 'pre_HematologyDate',\n",
    "    'hematologyTime': 'pre_HematologyTime',\n",
    "    'hematologyWBC': 'pre_HematologyWBC',\n",
    "    'hematologyHemoglobin': 'pre_HematologyHemoglobin',\n",
    "    'hematologyPolymorphNeutrophilsDifferentialCount': 'pre_HematologyPolymorphNeutrophilsDifferentialCount',\n",
    "    'hematologyMonocytes': 'pre_HematologyMonocytes',\n",
    "    'hematologyLymphocytes': 'pre_HematologyLymphocytes',\n",
    "    'hematologyPlateletCount': 'pre_HematologyPlateletCount',\n",
    "    'hematologyPT_s': 'pre_HematologyPT_s',\n",
    "    'hematologyPTT_s': 'pre_HematologyPTT_s',\n",
    "}\n",
    "df_hematology_pre = df_hematology_pre.rename(columns=pre_rename_map)\n",
    "\n",
    "df_hematology_pre = COMBINE_harmonizer.valid_columns(df_hematology_pre, all_hematology_before_baseline_columns, debug_df=True, debug_columns=True)\n",
    "df_hematology_pre = COMBINE_harmonizer.postprocess(df_hematology_pre)\n",
    "\n",
    "# XXX skip pre-hematology because there is no data.\n",
    "# out_filename = os.sep.join([out_dir, '01-15-pre-hematology.csv'])\n",
    "# df_hematology_pre.to_csv(out_filename, index=False)"
   ]
  },
  {
   "cell_type": "markdown",
   "id": "f72c98fb",
   "metadata": {},
   "source": [
    "### 01-15-2. check empty"
   ]
  },
  {
   "cell_type": "code",
   "execution_count": 71,
   "id": "aab6b2f9",
   "metadata": {
    "execution": {
     "iopub.execute_input": "2025-02-04T10:53:53.946514Z",
     "iopub.status.busy": "2025-02-04T10:53:53.946435Z",
     "iopub.status.idle": "2025-02-04T10:53:53.948995Z",
     "shell.execute_reply": "2025-02-04T10:53:53.948780Z"
    }
   },
   "outputs": [
    {
     "name": "stdout",
     "output_type": "stream",
     "text": [
      "(0/14) column: center (350 / 0)\n",
      "(1/14) column: subjectID (350 / 0)\n",
      "(2/14) column: uniqueID (350 / 0)\n",
      "(3/14) column: pre_Hematology (0 / 350)\n",
      "(4/14) column: pre_HematologyDate (348 / 2)\n",
      "(5/14) column: pre_HematologyTime (321 / 29)\n",
      "(6/14) column: pre_HematologyWBC (0 / 350)\n",
      "(7/14) column: pre_HematologyHemoglobin (0 / 350)\n",
      "(8/14) column: pre_HematologyPolymorphNeutrophilsDifferentialCount (0 / 350)\n",
      "(9/14) column: pre_HematologyMonocytes (0 / 350)\n",
      "(10/14) column: pre_HematologyLymphocytes (0 / 350)\n",
      "(11/14) column: pre_HematologyPlateletCount (0 / 350)\n",
      "(12/14) column: pre_HematologyPT_s (0 / 350)\n",
      "(13/14) column: pre_HematologyPTT_s (0 / 350)\n"
     ]
    }
   ],
   "source": [
    "COMBINE_harmonizer.check_empty(df_hematology_pre)"
   ]
  },
  {
   "cell_type": "code",
   "execution_count": 72,
   "id": "e21ba18e",
   "metadata": {
    "execution": {
     "iopub.execute_input": "2025-02-04T10:53:53.950077Z",
     "iopub.status.busy": "2025-02-04T10:53:53.950009Z",
     "iopub.status.idle": "2025-02-04T10:53:53.952045Z",
     "shell.execute_reply": "2025-02-04T10:53:53.951832Z"
    }
   },
   "outputs": [
    {
     "name": "stdout",
     "output_type": "stream",
     "text": [
      "(0/14) center: (350/0)\n",
      "(1/14) subjectID: (350/0)\n",
      "(2/14) uniqueID: (350/0)\n",
      "(3/14) pre_Hematology: (0/350)\n",
      "(4/14) pre_HematologyDate: (348/2)\n",
      "(5/14) pre_HematologyTime: (321/29)\n",
      "(6/14) pre_HematologyWBC: (0/350)\n",
      "(7/14) pre_HematologyHemoglobin: (0/350)\n",
      "(8/14) pre_HematologyPolymorphNeutrophilsDifferentialCount: (0/350)\n",
      "(9/14) pre_HematologyMonocytes: (0/350)\n",
      "(10/14) pre_HematologyLymphocytes: (0/350)\n",
      "(11/14) pre_HematologyPlateletCount: (0/350)\n",
      "(12/14) pre_HematologyPT_s: (0/350)\n",
      "(13/14) pre_HematologyPTT_s: (0/350)\n"
     ]
    }
   ],
   "source": [
    "COMBINE_harmonizer.column_info(df_hematology_pre)"
   ]
  },
  {
   "cell_type": "markdown",
   "id": "dfe60840",
   "metadata": {},
   "source": [
    "## 01-09. Pre-intervention - Infection"
   ]
  },
  {
   "cell_type": "code",
   "execution_count": 73,
   "id": "08d5a17a",
   "metadata": {
    "execution": {
     "iopub.execute_input": "2025-02-04T10:53:53.953204Z",
     "iopub.status.busy": "2025-02-04T10:53:53.953129Z",
     "iopub.status.idle": "2025-02-04T10:53:53.955602Z",
     "shell.execute_reply": "2025-02-04T10:53:53.955386Z"
    }
   },
   "outputs": [
    {
     "data": {
      "text/plain": [
       "['pre_PositiveCulture',\n",
       " 'pre_PositiveCultureSrc',\n",
       " 'pre_PositiveCultureDate',\n",
       " 'pre_PositiveCultureTime',\n",
       " 'pre_PositiveCultureOrganismCode1',\n",
       " 'pre_PositiveCultureOrganismCode2',\n",
       " 'pre_PositiveCultureOrganismCode3',\n",
       " 'pre_Antibiotics',\n",
       " 'pre_AntibioticsCode1',\n",
       " 'pre_AntibioticsCode2',\n",
       " 'pre_AntibioticsCode3']"
      ]
     },
     "execution_count": 73,
     "metadata": {},
     "output_type": "execute_result"
    }
   ],
   "source": [
    "infection_pre_columns = COMBINE_harmonizer.get_columns(df_data_dict, 'Pre-intervention', 'Infection')\n",
    "all_infection_pre_columns = id_columns + infection_pre_columns\n",
    "infection_pre_columns"
   ]
  },
  {
   "cell_type": "code",
   "execution_count": 74,
   "id": "0f1ad4d9",
   "metadata": {
    "execution": {
     "iopub.execute_input": "2025-02-04T10:53:53.956714Z",
     "iopub.status.busy": "2025-02-04T10:53:53.956642Z",
     "iopub.status.idle": "2025-02-04T10:53:54.020658Z",
     "shell.execute_reply": "2025-02-04T10:53:54.020358Z"
    }
   },
   "outputs": [
    {
     "name": "stdout",
     "output_type": "stream",
     "text": [
      "(2/13) pre_PositiveCulture not in df\n",
      "(3/13) pre_PositiveCultureSrc not in df\n",
      "(4/13) pre_PositiveCultureDate not in df\n",
      "(5/13) pre_PositiveCultureTime not in df\n",
      "(6/13) pre_PositiveCultureOrganismCode1 not in df\n",
      "(7/13) pre_PositiveCultureOrganismCode2 not in df\n",
      "(8/13) pre_PositiveCultureOrganismCode3 not in df\n"
     ]
    }
   ],
   "source": [
    "df_infection_1 = df_dict['oc09i.csv'].copy()\n",
    "df_infection_2 = df_dict['oc09.csv'].copy()\n",
    "df_infection = df_infection_1.merge(df_infection_2, on=['center', 'subjectID'], how='outer')\n",
    "df_infection_pre_intervention = COMBINE_harmonizer.valid_columns(df_infection, all_infection_pre_columns)\n",
    "df_infection_pre_intervention = COMBINE_harmonizer.postprocess(df_infection_pre_intervention)\n",
    "\n",
    "out_filename = os.sep.join([out_dir, '01-09-pre-infection.csv'])\n",
    "df_infection_pre_intervention.to_csv(out_filename, index=False)"
   ]
  },
  {
   "cell_type": "code",
   "execution_count": 75,
   "id": "f0ade414",
   "metadata": {
    "execution": {
     "iopub.execute_input": "2025-02-04T10:53:54.022138Z",
     "iopub.status.busy": "2025-02-04T10:53:54.022037Z",
     "iopub.status.idle": "2025-02-04T10:53:54.024497Z",
     "shell.execute_reply": "2025-02-04T10:53:54.024246Z"
    }
   },
   "outputs": [
    {
     "data": {
      "text/plain": [
       "Index(['center', 'subjectID', 'uniqueID', 'pre_Antibiotics',\n",
       "       'pre_AntibioticsCode1', 'pre_AntibioticsCode2', 'pre_AntibioticsCode3'],\n",
       "      dtype='object')"
      ]
     },
     "execution_count": 75,
     "metadata": {},
     "output_type": "execute_result"
    }
   ],
   "source": [
    "df_infection_pre_intervention.columns"
   ]
  },
  {
   "cell_type": "markdown",
   "id": "100044c6",
   "metadata": {},
   "source": [
    "### 01-09-2. check empty cells"
   ]
  },
  {
   "cell_type": "code",
   "execution_count": 76,
   "id": "c5d62a77",
   "metadata": {
    "execution": {
     "iopub.execute_input": "2025-02-04T10:53:54.025963Z",
     "iopub.status.busy": "2025-02-04T10:53:54.025865Z",
     "iopub.status.idle": "2025-02-04T10:53:54.028279Z",
     "shell.execute_reply": "2025-02-04T10:53:54.028068Z"
    }
   },
   "outputs": [
    {
     "name": "stdout",
     "output_type": "stream",
     "text": [
      "(0/7) column: center (364 / 0)\n",
      "(1/7) column: subjectID (364 / 0)\n",
      "(2/7) column: uniqueID (364 / 0)\n",
      "(3/7) column: pre_Antibiotics (364 / 0)\n",
      "(4/7) column: pre_AntibioticsCode1 (308 / 56)\n",
      "(5/7) column: pre_AntibioticsCode2 (273 / 91)\n",
      "(6/7) column: pre_AntibioticsCode3 (8 / 356)\n"
     ]
    }
   ],
   "source": [
    "COMBINE_harmonizer.check_empty(df_infection_pre_intervention)"
   ]
  },
  {
   "cell_type": "code",
   "execution_count": 77,
   "id": "0a2d449f",
   "metadata": {
    "execution": {
     "iopub.execute_input": "2025-02-04T10:53:54.029531Z",
     "iopub.status.busy": "2025-02-04T10:53:54.029433Z",
     "iopub.status.idle": "2025-02-04T10:53:54.031483Z",
     "shell.execute_reply": "2025-02-04T10:53:54.031264Z"
    }
   },
   "outputs": [
    {
     "name": "stdout",
     "output_type": "stream",
     "text": [
      "(0/7) center: (364/0)\n",
      "(1/7) subjectID: (364/0)\n",
      "(2/7) uniqueID: (364/0)\n",
      "(3/7) pre_Antibiotics: (364/0)\n",
      "(4/7) pre_AntibioticsCode1: (308/56)\n",
      "(5/7) pre_AntibioticsCode2: (273/91)\n",
      "(6/7) pre_AntibioticsCode3: (8/356)\n"
     ]
    }
   ],
   "source": [
    "COMBINE_harmonizer.column_info(df_infection_pre_intervention)"
   ]
  },
  {
   "cell_type": "markdown",
   "id": "7c91b027",
   "metadata": {},
   "source": [
    "## 01-10. Pre-intervention - Other Medication"
   ]
  },
  {
   "cell_type": "code",
   "execution_count": 78,
   "id": "488f3e86",
   "metadata": {
    "execution": {
     "iopub.execute_input": "2025-02-04T10:53:54.032807Z",
     "iopub.status.busy": "2025-02-04T10:53:54.032711Z",
     "iopub.status.idle": "2025-02-04T10:53:54.035229Z",
     "shell.execute_reply": "2025-02-04T10:53:54.034992Z"
    }
   },
   "outputs": [
    {
     "data": {
      "text/plain": [
       "['pre_OtherMedTargetDate',\n",
       " 'pre_OtherMedTargetTime',\n",
       " 'pre_Anticonvulsants',\n",
       " 'pre_Anticonvulsants1',\n",
       " 'pre_Anticonvulsants2',\n",
       " 'pre_Anticonvulsants3',\n",
       " 'pre_Analgesics',\n",
       " 'pre_AnalgesicsSedatives1',\n",
       " 'pre_AnalgesicsSedatives2',\n",
       " 'pre_AnalgesicsSedatives3',\n",
       " 'pre_Antipyretics',\n",
       " 'pre_Antipyretics1',\n",
       " 'pre_Antipyretics2',\n",
       " 'pre_Antipyretics3',\n",
       " 'pre_Paralytics',\n",
       " 'pre_Paralytics1',\n",
       " 'pre_Paralytics2',\n",
       " 'pre_Paralytics3',\n",
       " 'pre_OtherMedFluidIntake_ccPerKg',\n",
       " 'pre_OtherMedUrineOutput_ccPerKg']"
      ]
     },
     "execution_count": 78,
     "metadata": {},
     "output_type": "execute_result"
    }
   ],
   "source": [
    "other_med_before_baseline_columns = COMBINE_harmonizer.get_columns(df_data_dict, 'Pre-intervention', 'Other Medication')\n",
    "all_other_med_pre_baseline_columns = id_columns + other_med_before_baseline_columns\n",
    "other_med_before_baseline_columns"
   ]
  },
  {
   "cell_type": "code",
   "execution_count": 79,
   "id": "098c2fa6",
   "metadata": {
    "execution": {
     "iopub.execute_input": "2025-02-04T10:53:54.036384Z",
     "iopub.status.busy": "2025-02-04T10:53:54.036289Z",
     "iopub.status.idle": "2025-02-04T10:53:54.104177Z",
     "shell.execute_reply": "2025-02-04T10:53:54.103864Z"
    }
   },
   "outputs": [
    {
     "name": "stdout",
     "output_type": "stream",
     "text": [
      "(1/37) hematology not in columns\n",
      "(2/37) REC_CMP not in columns\n",
      "(4/37) otherMedTimeSlot not in columns\n",
      "(5/37) respiratoryDate not in columns\n",
      "(6/37) respiratoryTime not in columns\n",
      "(7/37) respiratorySupportType not in columns\n",
      "(8/37) respiratoryFiO2 not in columns\n",
      "(9/37) respiratoryRate_Hz not in columns\n",
      "(10/37) respiratoryPIP_cmH2O not in columns\n",
      "(11/37) respiratoryMAP_cmH2O not in columns\n",
      "(12/37) respiratoryPEEP_cmH2O not in columns\n",
      "(13/37) hematologyWBC not in columns\n",
      "(14/37) hematologyHemoglobin not in columns\n",
      "(15/37) hematologyPolymorphNeutrophilsDifferentialCount not in columns\n",
      "(16/37) hematologyMonocytes not in columns\n",
      "(17/37) hematologyLymphocytes not in columns\n",
      "(18/37) hematologyPlateletCount not in columns\n",
      "(19/37) hematologyPT_s not in columns\n",
      "(20/37) hematologyPTT_s not in columns\n",
      "(35/37) CMP_DATE not in columns\n",
      "(36/37) CRT_DATE not in columns\n",
      "(2/22) pre_OtherMedTargetDate not in df\n",
      "(3/22) pre_OtherMedTargetTime not in df\n",
      "(4/22) pre_Anticonvulsants not in df\n",
      "(8/22) pre_Analgesics not in df\n",
      "(12/22) pre_Antipyretics not in df\n",
      "(16/22) pre_Paralytics not in df\n"
     ]
    }
   ],
   "source": [
    "df_other_med_pre = df_dict['oc08.csv'].copy().rename(columns={'respiratoryTimeSlot': 'otherMedTimeSlot'})\n",
    "\n",
    "other_med_time_slot_int = df_other_med_pre['otherMedTimeSlot'].apply(COMBINE_harmonizer.to_int)\n",
    "is_pre = other_med_time_slot_int == 0\n",
    "df_other_med_pre = df_other_med_pre[is_pre]\n",
    "pre_rename_map = {\n",
    "    'otherMedTargetDate': 'pre_OtherMedTargetDate',\n",
    "    'otherMedTargetTime': 'pre_OtherMedTargetTime',\n",
    "    'anticonvulsants': 'pre_Anticonvulsants',\n",
    "    'anticonvulsants1': 'pre_Anticonvulsants1',\n",
    "    'anticonvulsants2': 'pre_Anticonvulsants2',\n",
    "    'anticonvulsants3': 'pre_Anticonvulsants3',\n",
    "    'analgesics': 'pre_Analgesics',\n",
    "    'analgesicsSedatives1': 'pre_AnalgesicsSedatives1',\n",
    "    'analgesicsSedatives2': 'pre_AnalgesicsSedatives2',\n",
    "    'analgesicsSedatives3': 'pre_AnalgesicsSedatives3',\n",
    "    'antipyretics': 'pre_Antipyretics',\n",
    "    'antipyretics1': 'pre_Antipyretics1',\n",
    "    'antipyretics2': 'pre_Antipyretics2',\n",
    "    'antipyretics3': 'pre_Antipyretics3',\n",
    "    'paralytics': 'pre_Paralytics',\n",
    "    'paralytics1': 'pre_Paralytics1',\n",
    "    'paralytics2': 'pre_Paralytics2',\n",
    "    'paralytics3': 'pre_Paralytics3',\n",
    "    'otherMedFluidIntake_ccPerKg': 'pre_OtherMedFluidIntake_ccPerKg',\n",
    "    'otherMedUrineOutput_ccPerKg': 'pre_OtherMedUrineOutput_ccPerKg',\n",
    "}\n",
    "df_other_med_pre = df_other_med_pre.rename(columns=pre_rename_map)\n",
    "\n",
    "df_other_med_pre = COMBINE_harmonizer.valid_columns(df_other_med_pre, all_other_med_pre_baseline_columns, debug_df=True, debug_columns=True)\n",
    "df_other_med_pre = COMBINE_harmonizer.postprocess(df_other_med_pre)\n",
    "\n",
    "out_filename = os.sep.join([out_dir, '01-10-pre-other-med.csv'])\n",
    "df_other_med_pre.to_csv(out_filename, index=False)"
   ]
  },
  {
   "cell_type": "markdown",
   "id": "fbffc0d4",
   "metadata": {},
   "source": [
    "### 01-10-2. check empty cells"
   ]
  },
  {
   "cell_type": "code",
   "execution_count": 80,
   "id": "2f61548e",
   "metadata": {
    "execution": {
     "iopub.execute_input": "2025-02-04T10:53:54.105828Z",
     "iopub.status.busy": "2025-02-04T10:53:54.105713Z",
     "iopub.status.idle": "2025-02-04T10:53:54.109425Z",
     "shell.execute_reply": "2025-02-04T10:53:54.109179Z"
    }
   },
   "outputs": [
    {
     "name": "stdout",
     "output_type": "stream",
     "text": [
      "(0/17) column: center (350 / 0)\n",
      "(1/17) column: subjectID (350 / 0)\n",
      "(2/17) column: uniqueID (350 / 0)\n",
      "(3/17) column: pre_Anticonvulsants1 (85 / 265)\n",
      "(4/17) column: pre_Anticonvulsants2 (13 / 337)\n",
      "(5/17) column: pre_Anticonvulsants3 (0 / 350)\n",
      "(6/17) column: pre_AnalgesicsSedatives1 (74 / 276)\n",
      "(7/17) column: pre_AnalgesicsSedatives2 (19 / 331)\n",
      "(8/17) column: pre_AnalgesicsSedatives3 (1 / 349)\n",
      "(9/17) column: pre_Antipyretics1 (1 / 349)\n",
      "(10/17) column: pre_Antipyretics2 (0 / 350)\n",
      "(11/17) column: pre_Antipyretics3 (0 / 350)\n",
      "(12/17) column: pre_Paralytics1 (2 / 348)\n",
      "(13/17) column: pre_Paralytics2 (0 / 350)\n",
      "(14/17) column: pre_Paralytics3 (0 / 350)\n",
      "(15/17) column: pre_OtherMedFluidIntake_ccPerKg (0 / 350)\n",
      "(16/17) column: pre_OtherMedUrineOutput_ccPerKg (0 / 350)\n"
     ]
    }
   ],
   "source": [
    "COMBINE_harmonizer.check_empty(df_other_med_pre)"
   ]
  },
  {
   "cell_type": "code",
   "execution_count": 81,
   "id": "94d3b50f",
   "metadata": {
    "execution": {
     "iopub.execute_input": "2025-02-04T10:53:54.110652Z",
     "iopub.status.busy": "2025-02-04T10:53:54.110567Z",
     "iopub.status.idle": "2025-02-04T10:53:54.112959Z",
     "shell.execute_reply": "2025-02-04T10:53:54.112717Z"
    }
   },
   "outputs": [
    {
     "name": "stdout",
     "output_type": "stream",
     "text": [
      "(0/17) center: (350/0)\n",
      "(1/17) subjectID: (350/0)\n",
      "(2/17) uniqueID: (350/0)\n",
      "(3/17) pre_Anticonvulsants1: (85/265)\n",
      "(4/17) pre_Anticonvulsants2: (13/337)\n",
      "(5/17) pre_Anticonvulsants3: (0/350)\n",
      "(6/17) pre_AnalgesicsSedatives1: (74/276)\n",
      "(7/17) pre_AnalgesicsSedatives2: (19/331)\n",
      "(8/17) pre_AnalgesicsSedatives3: (1/349)\n",
      "(9/17) pre_Antipyretics1: (1/349)\n",
      "(10/17) pre_Antipyretics2: (0/350)\n",
      "(11/17) pre_Antipyretics3: (0/350)\n",
      "(12/17) pre_Paralytics1: (2/348)\n",
      "(13/17) pre_Paralytics2: (0/350)\n",
      "(14/17) pre_Paralytics3: (0/350)\n",
      "(15/17) pre_OtherMedFluidIntake_ccPerKg: (0/350)\n",
      "(16/17) pre_OtherMedUrineOutput_ccPerKg: (0/350)\n"
     ]
    }
   ],
   "source": [
    "COMBINE_harmonizer.column_info(df_other_med_pre)"
   ]
  },
  {
   "cell_type": "markdown",
   "id": "37c3bfe1",
   "metadata": {},
   "source": [
    "## 01-11. Pre-intervention - Imaging"
   ]
  },
  {
   "cell_type": "code",
   "execution_count": 82,
   "id": "bd132371",
   "metadata": {
    "execution": {
     "iopub.execute_input": "2025-02-04T10:53:54.114334Z",
     "iopub.status.busy": "2025-02-04T10:53:54.114246Z",
     "iopub.status.idle": "2025-02-04T10:53:54.117131Z",
     "shell.execute_reply": "2025-02-04T10:53:54.116880Z"
    }
   },
   "outputs": [
    {
     "data": {
      "text/plain": [
       "['pre_HeadSonogram',\n",
       " 'pre_HeadSonogramDate',\n",
       " 'pre_HeadSonogramTime',\n",
       " 'pre_HeadSonogramResult1',\n",
       " 'pre_HeadSonogramResult2',\n",
       " 'pre_HeadSonogramResult3',\n",
       " 'pre_HeadSonogramResult4',\n",
       " 'pre_HeadSonogramResult5',\n",
       " 'pre_HeadSonogramResult6',\n",
       " 'pre_HeadSonogramResult7',\n",
       " 'pre_HeadSonogramResult8',\n",
       " 'pre_HeadSonogramResultText',\n",
       " 'pre_HeadCT',\n",
       " 'pre_HeadCTDate',\n",
       " 'pre_HeadCTTime',\n",
       " 'pre_HeadCTResult1',\n",
       " 'pre_HeadCTResult2',\n",
       " 'pre_HeadCTResult3',\n",
       " 'pre_HeadCTResult4',\n",
       " 'pre_HeadCTResult5',\n",
       " 'pre_HeadCTResult6',\n",
       " 'pre_HeadCTResult7',\n",
       " 'pre_HeadCTResult8',\n",
       " 'pre_HeadCTResultText',\n",
       " 'pre_BrainMRI',\n",
       " 'pre_BrainMRIDate',\n",
       " 'pre_BrainMRITime',\n",
       " 'pre_BrainMRIResult1',\n",
       " 'pre_BrainMRIResult2',\n",
       " 'pre_BrainMRIResult3',\n",
       " 'pre_BrainMRIResult4',\n",
       " 'pre_BrainMRIResult5',\n",
       " 'pre_BrainMRIResult6',\n",
       " 'pre_BrainMRIResult7',\n",
       " 'pre_BrainMRIResult8',\n",
       " 'pre_BrainMRIResultText']"
      ]
     },
     "execution_count": 82,
     "metadata": {},
     "output_type": "execute_result"
    }
   ],
   "source": [
    "imaging_pre_columns = COMBINE_harmonizer.get_columns(df_data_dict, 'Pre-intervention', 'Imaging')\n",
    "all_imaging_pre_columns = id_columns + imaging_pre_columns\n",
    "imaging_pre_columns"
   ]
  },
  {
   "cell_type": "code",
   "execution_count": 83,
   "id": "90730448",
   "metadata": {
    "execution": {
     "iopub.execute_input": "2025-02-04T10:53:54.118424Z",
     "iopub.status.busy": "2025-02-04T10:53:54.118336Z",
     "iopub.status.idle": "2025-02-04T10:53:54.195085Z",
     "shell.execute_reply": "2025-02-04T10:53:54.194782Z"
    }
   },
   "outputs": [
    {
     "name": "stdout",
     "output_type": "stream",
     "text": [
      "(7/42) REC_CMP not in columns\n",
      "(9/42) imagingTimeSlot not in columns\n",
      "(40/42) CMP_DATE not in columns\n",
      "(41/42) CRT_DATE not in columns\n"
     ]
    }
   ],
   "source": [
    "df_imaging = df_dict['oc12.csv'].copy()\n",
    "\n",
    "imaging_time_slot_int = df_imaging['imagingTimeSlot'].apply(COMBINE_harmonizer.to_int)\n",
    "is_pre = imaging_time_slot_int == 1\n",
    "df_imaging_pre = df_imaging[is_pre]\n",
    "pre_rename_map = {\n",
    "    'headSonogram': 'pre_HeadSonogram',\n",
    "    'headSonogramDate': 'pre_HeadSonogramDate',\n",
    "    'headSonogramTime': 'pre_HeadSonogramTime',\n",
    "    'headSonogramResult1': 'pre_HeadSonogramResult1',\n",
    "    'headSonogramResult2': 'pre_HeadSonogramResult2',\n",
    "    'headSonogramResult3': 'pre_HeadSonogramResult3',\n",
    "    'headSonogramResult4': 'pre_HeadSonogramResult4',\n",
    "    'headSonogramResult5': 'pre_HeadSonogramResult5',\n",
    "    'headSonogramResult6': 'pre_HeadSonogramResult6',\n",
    "    'headSonogramResult7': 'pre_HeadSonogramResult7',\n",
    "    'headSonogramResult8': 'pre_HeadSonogramResult8',\n",
    "    'headSonogramResultText': 'pre_HeadSonogramResultText',\n",
    "    'headCT': 'pre_HeadCT',\n",
    "    'headCTDate': 'pre_HeadCTDate',\n",
    "    'headCTTime': 'pre_HeadCTTime',\n",
    "    'headCTResult1': 'pre_HeadCTResult1',\n",
    "    'headCTResult2': 'pre_HeadCTResult2',\n",
    "    'headCTResult3': 'pre_HeadCTResult3',\n",
    "    'headCTResult4': 'pre_HeadCTResult4',\n",
    "    'headCTResult5': 'pre_HeadCTResult5',\n",
    "    'headCTResult6': 'pre_HeadCTResult6',\n",
    "    'headCTResult7': 'pre_HeadCTResult7',\n",
    "    'headCTResult8': 'pre_HeadCTResult8',\n",
    "    'headCTResultText': 'pre_HeadCTResultText',\n",
    "    'brainMRI': 'pre_BrainMRI',\n",
    "    'brainMRIDate': 'pre_BrainMRIDate',\n",
    "    'brainMRITime': 'pre_BrainMRITime',\n",
    "    'brainMRIResult1': 'pre_BrainMRIResult1',\n",
    "    'brainMRIResult2': 'pre_BrainMRIResult2',\n",
    "    'brainMRIResult3': 'pre_BrainMRIResult3',\n",
    "    'brainMRIResult4': 'pre_BrainMRIResult4',\n",
    "    'brainMRIResult5': 'pre_BrainMRIResult5',\n",
    "    'brainMRIResult6': 'pre_BrainMRIResult6',\n",
    "    'brainMRIResult7': 'pre_BrainMRIResult7',\n",
    "    'brainMRIResult8': 'pre_BrainMRIResult8',\n",
    "    'brainMRIResultText': 'pre_BrainMRIResultText'\n",
    "}\n",
    "df_imaging_pre = df_imaging_pre.rename(columns=pre_rename_map)\n",
    "\n",
    "df_imaging_pre = COMBINE_harmonizer.valid_columns(df_imaging_pre, all_imaging_pre_columns, debug_df=True, debug_columns=False)\n",
    "df_imaging_pre = COMBINE_harmonizer.postprocess(df_imaging_pre)\n",
    "out_filename = os.sep.join([out_dir, '01-11-pre-imaging.csv'])\n",
    "df_imaging_pre.to_csv(out_filename, index=False)"
   ]
  },
  {
   "cell_type": "markdown",
   "id": "da6f4ec2",
   "metadata": {},
   "source": [
    "### 01-11-2. check empty cells"
   ]
  },
  {
   "cell_type": "code",
   "execution_count": 84,
   "id": "b30cefcf",
   "metadata": {
    "execution": {
     "iopub.execute_input": "2025-02-04T10:53:54.196885Z",
     "iopub.status.busy": "2025-02-04T10:53:54.196755Z",
     "iopub.status.idle": "2025-02-04T10:53:54.203297Z",
     "shell.execute_reply": "2025-02-04T10:53:54.202990Z"
    }
   },
   "outputs": [
    {
     "name": "stdout",
     "output_type": "stream",
     "text": [
      "(0/39) column: center (350 / 0)\n",
      "(1/39) column: subjectID (350 / 0)\n",
      "(2/39) column: uniqueID (350 / 0)\n",
      "(3/39) column: pre_HeadSonogram (350 / 0)\n",
      "(4/39) column: pre_HeadSonogramResultText (3 / 347)\n",
      "(5/39) column: pre_HeadCT (350 / 0)\n",
      "(6/39) column: pre_HeadCTResultText (2 / 348)\n",
      "(7/39) column: pre_BrainMRI (350 / 0)\n",
      "(8/39) column: pre_BrainMRIResultText (0 / 350)\n",
      "(9/39) column: pre_HeadSonogramDate (17 / 333)\n",
      "(10/39) column: pre_HeadSonogramTime (17 / 333)\n",
      "(11/39) column: pre_HeadSonogramResult1 (16 / 334)\n",
      "(12/39) column: pre_HeadSonogramResult2 (1 / 349)\n",
      "(13/39) column: pre_HeadSonogramResult3 (0 / 350)\n",
      "(14/39) column: pre_HeadSonogramResult4 (0 / 350)\n",
      "(15/39) column: pre_HeadSonogramResult5 (0 / 350)\n",
      "(16/39) column: pre_HeadSonogramResult6 (0 / 350)\n",
      "(17/39) column: pre_HeadSonogramResult7 (0 / 350)\n",
      "(18/39) column: pre_HeadSonogramResult8 (0 / 350)\n",
      "(19/39) column: pre_HeadCTDate (2 / 348)\n",
      "(20/39) column: pre_HeadCTTime (2 / 348)\n",
      "(21/39) column: pre_HeadCTResult1 (2 / 348)\n",
      "(22/39) column: pre_HeadCTResult2 (1 / 349)\n",
      "(23/39) column: pre_HeadCTResult3 (1 / 349)\n",
      "(24/39) column: pre_HeadCTResult4 (1 / 349)\n",
      "(25/39) column: pre_HeadCTResult5 (0 / 350)\n",
      "(26/39) column: pre_HeadCTResult6 (0 / 350)\n",
      "(27/39) column: pre_HeadCTResult7 (0 / 350)\n",
      "(28/39) column: pre_HeadCTResult8 (0 / 350)\n",
      "(29/39) column: pre_BrainMRIDate (0 / 350)\n",
      "(30/39) column: pre_BrainMRITime (0 / 350)\n",
      "(31/39) column: pre_BrainMRIResult1 (0 / 350)\n",
      "(32/39) column: pre_BrainMRIResult2 (0 / 350)\n",
      "(33/39) column: pre_BrainMRIResult3 (0 / 350)\n",
      "(34/39) column: pre_BrainMRIResult4 (0 / 350)\n",
      "(35/39) column: pre_BrainMRIResult5 (0 / 350)\n",
      "(36/39) column: pre_BrainMRIResult6 (0 / 350)\n",
      "(37/39) column: pre_BrainMRIResult7 (0 / 350)\n",
      "(38/39) column: pre_BrainMRIResult8 (0 / 350)\n"
     ]
    }
   ],
   "source": [
    "COMBINE_harmonizer.check_empty(df_imaging_pre)"
   ]
  },
  {
   "cell_type": "code",
   "execution_count": 85,
   "id": "a26ac1fb",
   "metadata": {
    "execution": {
     "iopub.execute_input": "2025-02-04T10:53:54.204785Z",
     "iopub.status.busy": "2025-02-04T10:53:54.204683Z",
     "iopub.status.idle": "2025-02-04T10:53:54.208821Z",
     "shell.execute_reply": "2025-02-04T10:53:54.208533Z"
    }
   },
   "outputs": [
    {
     "name": "stdout",
     "output_type": "stream",
     "text": [
      "(0/39) center: (350/0)\n",
      "(1/39) subjectID: (350/0)\n",
      "(2/39) uniqueID: (350/0)\n",
      "(3/39) pre_HeadSonogram: (350/0)\n",
      "(4/39) pre_HeadSonogramResultText: (3/347)\n",
      "(5/39) pre_HeadCT: (350/0)\n",
      "(6/39) pre_HeadCTResultText: (2/348)\n",
      "(7/39) pre_BrainMRI: (350/0)\n",
      "(8/39) pre_BrainMRIResultText: (0/350)\n",
      "(9/39) pre_HeadSonogramDate: (17/333)\n",
      "(10/39) pre_HeadSonogramTime: (17/333)\n",
      "(11/39) pre_HeadSonogramResult1: (16/334)\n",
      "(12/39) pre_HeadSonogramResult2: (1/349)\n",
      "(13/39) pre_HeadSonogramResult3: (0/350)\n",
      "(14/39) pre_HeadSonogramResult4: (0/350)\n",
      "(15/39) pre_HeadSonogramResult5: (0/350)\n",
      "(16/39) pre_HeadSonogramResult6: (0/350)\n",
      "(17/39) pre_HeadSonogramResult7: (0/350)\n",
      "(18/39) pre_HeadSonogramResult8: (0/350)\n",
      "(19/39) pre_HeadCTDate: (2/348)\n",
      "(20/39) pre_HeadCTTime: (2/348)\n",
      "(21/39) pre_HeadCTResult1: (2/348)\n",
      "(22/39) pre_HeadCTResult2: (1/349)\n",
      "(23/39) pre_HeadCTResult3: (1/349)\n",
      "(24/39) pre_HeadCTResult4: (1/349)\n",
      "(25/39) pre_HeadCTResult5: (0/350)\n",
      "(26/39) pre_HeadCTResult6: (0/350)\n",
      "(27/39) pre_HeadCTResult7: (0/350)\n",
      "(28/39) pre_HeadCTResult8: (0/350)\n",
      "(29/39) pre_BrainMRIDate: (0/350)\n",
      "(30/39) pre_BrainMRITime: (0/350)\n",
      "(31/39) pre_BrainMRIResult1: (0/350)\n",
      "(32/39) pre_BrainMRIResult2: (0/350)\n",
      "(33/39) pre_BrainMRIResult3: (0/350)\n",
      "(34/39) pre_BrainMRIResult4: (0/350)\n",
      "(35/39) pre_BrainMRIResult5: (0/350)\n",
      "(36/39) pre_BrainMRIResult6: (0/350)\n",
      "(37/39) pre_BrainMRIResult7: (0/350)\n",
      "(38/39) pre_BrainMRIResult8: (0/350)\n"
     ]
    }
   ],
   "source": [
    "COMBINE_harmonizer.column_info(df_imaging_pre)"
   ]
  },
  {
   "cell_type": "markdown",
   "id": "0fca9b39-2323-450a-88e2-5a85d43ed62b",
   "metadata": {},
   "source": [
    "## 02-01. Temperature"
   ]
  },
  {
   "cell_type": "code",
   "execution_count": 86,
   "id": "853b198c",
   "metadata": {
    "execution": {
     "iopub.execute_input": "2025-02-04T10:53:54.210191Z",
     "iopub.status.busy": "2025-02-04T10:53:54.210103Z",
     "iopub.status.idle": "2025-02-04T10:53:54.212927Z",
     "shell.execute_reply": "2025-02-04T10:53:54.212652Z"
    }
   },
   "outputs": [
    {
     "data": {
      "text/plain": [
       "['temperatureTimeSlot',\n",
       " 'temperatureTimeSlotNoForm',\n",
       " 'temperatureDate',\n",
       " 'temperatureTime',\n",
       " 'skinTemperature_C',\n",
       " 'axillaryTemperature_C',\n",
       " 'esophagealTemperature_C',\n",
       " 'blanketTemperature_C',\n",
       " 'servoSetTemperature_C',\n",
       " 'alterationSkinIntegrity',\n",
       " 'shiver']"
      ]
     },
     "execution_count": 86,
     "metadata": {},
     "output_type": "execute_result"
    }
   ],
   "source": [
    "temperatures_columns = COMBINE_harmonizer.get_columns(df_data_dict, 'Intervention', 'Temperature')\n",
    "all_temperatures_columns = id_columns + temperatures_columns\n",
    "temperatures_columns"
   ]
  },
  {
   "cell_type": "code",
   "execution_count": 87,
   "id": "de636293",
   "metadata": {
    "execution": {
     "iopub.execute_input": "2025-02-04T10:53:54.214238Z",
     "iopub.status.busy": "2025-02-04T10:53:54.214144Z",
     "iopub.status.idle": "2025-02-04T10:53:54.216774Z",
     "shell.execute_reply": "2025-02-04T10:53:54.216499Z"
    }
   },
   "outputs": [
    {
     "data": {
      "text/plain": [
       "Index(['subjectID', 'alterationSkinIntegrity', 'shiver', 'center',\n",
       "       'temperatureTimeSlot', 'temperatureTimeSlotNoForm', 'temperatureDate',\n",
       "       'temperatureTime', 'skinTemperature_C', 'axillaryTemperature_C',\n",
       "       'esophagealTemperature_C', 'blanketTemperature_C',\n",
       "       'servoSetTemperature_C'],\n",
       "      dtype='object')"
      ]
     },
     "execution_count": 87,
     "metadata": {},
     "output_type": "execute_result"
    }
   ],
   "source": [
    "df_dict['oc06t.csv'].columns"
   ]
  },
  {
   "cell_type": "code",
   "execution_count": 88,
   "id": "371ef286-3cdf-4649-8b7f-65d1a2f67d0e",
   "metadata": {
    "execution": {
     "iopub.execute_input": "2025-02-04T10:53:54.218138Z",
     "iopub.status.busy": "2025-02-04T10:53:54.218016Z",
     "iopub.status.idle": "2025-02-04T10:53:54.220330Z",
     "shell.execute_reply": "2025-02-04T10:53:54.220096Z"
    }
   },
   "outputs": [
    {
     "data": {
      "text/plain": [
       "Index(['subjectID', 'pre_CoolInitiate', 'pre_CoolbyIceGelPack',\n",
       "       'pre_CoolPassively', 'pre_CoolClinically',\n",
       "       'pre_AfterOvershootReach33p5C', 'normothermiaAtEndIntervention',\n",
       "       'noNormothermiaReason', 'discontinueBeforeEndPeriod',\n",
       "       'discontinueOtherText', 'coolAfterInterventionText', 'OC6INIT',\n",
       "       'center', 'targetTreatmentTemperature_C', 'pre_CoolInitiateDate',\n",
       "       'pre_CoolInitiateTime', 'pre_AfterOvershootReach33p5CDate',\n",
       "       'pre_AfterOvershootReach33p5CTime', 'pre_TemperatureMinDate',\n",
       "       'pre_TemperatureMinTime', 'pre_SkinTemperatureMin_C',\n",
       "       'pre_AxillaryTemperatureMin_C', 'pre_EsophagealTemperatureMin_C',\n",
       "       'pre_ServoSetMin_C', 'pre_TemperatureMaxDate', 'pre_TemperatureMaxTime',\n",
       "       'pre_SkinTemperatureMax_C', 'pre_AxillaryTemperatureMax_C',\n",
       "       'pre_EsophagealTemperatureMax_C', 'pre_ServoSetMax_C',\n",
       "       'normothermiaDate', 'normothermiaTime',\n",
       "       'normothermiaAxillaryTemperature_C', 'OC6NCEPR', 'discontinueDate',\n",
       "       'discontinueTime', 'coolAfterIntervention'],\n",
       "      dtype='object')"
      ]
     },
     "execution_count": 88,
     "metadata": {},
     "output_type": "execute_result"
    }
   ],
   "source": [
    "df_dict['oc06t120.csv'].columns"
   ]
  },
  {
   "cell_type": "code",
   "execution_count": 89,
   "id": "6eea2bc7-1005-4d67-86af-56b7d1c9aca3",
   "metadata": {
    "execution": {
     "iopub.execute_input": "2025-02-04T10:53:54.221551Z",
     "iopub.status.busy": "2025-02-04T10:53:54.221450Z",
     "iopub.status.idle": "2025-02-04T10:53:54.485324Z",
     "shell.execute_reply": "2025-02-04T10:53:54.484754Z"
    }
   },
   "outputs": [],
   "source": [
    "df_temperature = df_dict['oc06t.csv'].copy()\n",
    "df_temperature = COMBINE_harmonizer.valid_columns(df_temperature, all_temperatures_columns, debug_df=True, debug_columns=True)\n",
    "df_temperature = COMBINE_harmonizer.postprocess(df_temperature)\n",
    "out_filename = os.sep.join([out_dir, '02-01-temperature.csv'])\n",
    "df_temperature.to_csv(out_filename, index=False)"
   ]
  },
  {
   "cell_type": "markdown",
   "id": "4872bf3e-ac32-446b-8a58-fe476f740ebe",
   "metadata": {},
   "source": [
    "### 02-01-1. check temperature"
   ]
  },
  {
   "cell_type": "code",
   "execution_count": 90,
   "id": "c1107900-da34-4c73-86f3-a38f3a361309",
   "metadata": {
    "execution": {
     "iopub.execute_input": "2025-02-04T10:53:54.488535Z",
     "iopub.status.busy": "2025-02-04T10:53:54.488306Z",
     "iopub.status.idle": "2025-02-04T10:53:54.501573Z",
     "shell.execute_reply": "2025-02-04T10:53:54.501076Z"
    }
   },
   "outputs": [
    {
     "data": {
      "text/html": [
       "<div>\n",
       "<style scoped>\n",
       "    .dataframe tbody tr th:only-of-type {\n",
       "        vertical-align: middle;\n",
       "    }\n",
       "\n",
       "    .dataframe tbody tr th {\n",
       "        vertical-align: top;\n",
       "    }\n",
       "\n",
       "    .dataframe thead th {\n",
       "        text-align: right;\n",
       "    }\n",
       "</style>\n",
       "<table border=\"1\" class=\"dataframe\">\n",
       "  <thead>\n",
       "    <tr style=\"text-align: right;\">\n",
       "      <th></th>\n",
       "      <th></th>\n",
       "      <th>_count</th>\n",
       "    </tr>\n",
       "    <tr>\n",
       "      <th>uniqueID</th>\n",
       "      <th>temperatureTimeSlot</th>\n",
       "      <th></th>\n",
       "    </tr>\n",
       "  </thead>\n",
       "  <tbody>\n",
       "  </tbody>\n",
       "</table>\n",
       "</div>"
      ],
      "text/plain": [
       "Empty DataFrame\n",
       "Columns: [_count]\n",
       "Index: []"
      ]
     },
     "execution_count": 90,
     "metadata": {},
     "output_type": "execute_result"
    }
   ],
   "source": [
    "df_temperature_groupby = df_temperature.groupby(['uniqueID', 'temperatureTimeSlot']).agg(_count=('uniqueID', 'count'))\n",
    "\n",
    "is_invalid = df_temperature_groupby['_count'] > 1\n",
    "df_temperature_groupby[is_invalid]"
   ]
  },
  {
   "cell_type": "markdown",
   "id": "56b763e7-faa0-4c08-bc17-35007c949eeb",
   "metadata": {},
   "source": [
    "### 02-01-2. check empty cells"
   ]
  },
  {
   "cell_type": "code",
   "execution_count": 91,
   "id": "2946872e-15b3-4e2c-8ad4-a27ccd4c4928",
   "metadata": {
    "execution": {
     "iopub.execute_input": "2025-02-04T10:53:54.503797Z",
     "iopub.status.busy": "2025-02-04T10:53:54.503625Z",
     "iopub.status.idle": "2025-02-04T10:53:54.522659Z",
     "shell.execute_reply": "2025-02-04T10:53:54.522321Z"
    }
   },
   "outputs": [
    {
     "name": "stdout",
     "output_type": "stream",
     "text": [
      "(0/14) column: center (18275 / 0)\n",
      "(1/14) column: subjectID (18275 / 0)\n",
      "(2/14) column: uniqueID (18275 / 0)\n",
      "(3/14) column: alterationSkinIntegrity (1335 / 16940)\n",
      "(4/14) column: shiver (1335 / 16940)\n",
      "(5/14) column: temperatureTimeSlot (18275 / 0)\n",
      "(6/14) column: temperatureTimeSlotNoForm (0 / 18275)\n",
      "(7/14) column: temperatureDate (18226 / 49)\n",
      "(8/14) column: temperatureTime (18168 / 107)\n",
      "(9/14) column: skinTemperature_C (17237 / 1038)\n",
      "(10/14) column: axillaryTemperature_C (250 / 18025)\n",
      "(11/14) column: esophagealTemperature_C (17723 / 552)\n",
      "(12/14) column: blanketTemperature_C (17242 / 1033)\n",
      "(13/14) column: servoSetTemperature_C (17677 / 598)\n"
     ]
    }
   ],
   "source": [
    "COMBINE_harmonizer.check_empty(df_temperature)"
   ]
  },
  {
   "cell_type": "code",
   "execution_count": 92,
   "id": "ab6a74f0-140b-4470-8642-79e01b335796",
   "metadata": {
    "execution": {
     "iopub.execute_input": "2025-02-04T10:53:54.524384Z",
     "iopub.status.busy": "2025-02-04T10:53:54.524237Z",
     "iopub.status.idle": "2025-02-04T10:53:54.532802Z",
     "shell.execute_reply": "2025-02-04T10:53:54.532520Z"
    }
   },
   "outputs": [
    {
     "name": "stdout",
     "output_type": "stream",
     "text": [
      "(0/14) center: (18275/0)\n",
      "(1/14) subjectID: (18275/0)\n",
      "(2/14) uniqueID: (18275/0)\n",
      "(3/14) alterationSkinIntegrity: (1335/16940)\n",
      "(4/14) shiver: (1335/16940)\n",
      "(5/14) temperatureTimeSlot: (18275/0)\n",
      "(6/14) temperatureTimeSlotNoForm: (0/18275)\n",
      "(7/14) temperatureDate: (18226/49)\n",
      "(8/14) temperatureTime: (18168/107)\n",
      "(9/14) skinTemperature_C: (17237/1038)\n",
      "(10/14) axillaryTemperature_C: (250/18025)\n",
      "(11/14) esophagealTemperature_C: (17723/552)\n",
      "(12/14) blanketTemperature_C: (17242/1033)\n",
      "(13/14) servoSetTemperature_C: (17677/598)\n"
     ]
    }
   ],
   "source": [
    "COMBINE_harmonizer.column_info(df_temperature)"
   ]
  },
  {
   "cell_type": "markdown",
   "id": "e9030ef6-af0e-4d07-b06c-615ca82245f8",
   "metadata": {},
   "source": [
    "## 02-02. cardio"
   ]
  },
  {
   "cell_type": "code",
   "execution_count": 93,
   "id": "2e919a73-210c-48ad-9a93-70a0f6c352fd",
   "metadata": {
    "execution": {
     "iopub.execute_input": "2025-02-04T10:53:54.534271Z",
     "iopub.status.busy": "2025-02-04T10:53:54.534175Z",
     "iopub.status.idle": "2025-02-04T10:53:54.537073Z",
     "shell.execute_reply": "2025-02-04T10:53:54.536808Z"
    }
   },
   "outputs": [
    {
     "data": {
      "text/plain": [
       "['cardioTimeSlot',\n",
       " 'cardioDate',\n",
       " 'cardioTime',\n",
       " 'cardioSystolicBloodPressure_mmHg',\n",
       " 'cardioDiastolicBloodPressure_mmHg',\n",
       " 'cardioHeartRate_BPM',\n",
       " 'cardioVolumeExpand',\n",
       " 'cardioInotropicAgent',\n",
       " 'cardioBloodTransfusion',\n",
       " 'cardioPlatelets']"
      ]
     },
     "execution_count": 93,
     "metadata": {},
     "output_type": "execute_result"
    }
   ],
   "source": [
    "cardio_columns = COMBINE_harmonizer.get_columns(df_data_dict, 'Intervention', 'Cardiovascular')\n",
    "all_cardio_columns = id_columns + cardio_columns\n",
    "cardio_columns"
   ]
  },
  {
   "cell_type": "code",
   "execution_count": 94,
   "id": "7db0cf4e-b6c3-4ba7-83fb-d632a3c1551a",
   "metadata": {
    "execution": {
     "iopub.execute_input": "2025-02-04T10:53:54.538332Z",
     "iopub.status.busy": "2025-02-04T10:53:54.538241Z",
     "iopub.status.idle": "2025-02-04T10:53:54.724763Z",
     "shell.execute_reply": "2025-02-04T10:53:54.724343Z"
    }
   },
   "outputs": [
    {
     "name": "stdout",
     "output_type": "stream",
     "text": [
      "(5/28) bloodGasSrc not in columns\n",
      "(6/28) REC_CMP not in columns\n",
      "(14/28) bloodGasDate not in columns\n",
      "(15/28) bloodGasTime not in columns\n",
      "(16/28) bloodGasPH not in columns\n",
      "(17/28) bloodGasPCO2_mmHg not in columns\n",
      "(18/28) bloodGasPO2_mmHg not in columns\n",
      "(19/28) bloodGasHCO3_mEqPerL not in columns\n",
      "(20/28) bloodGasBaseDeficit_mEqPerL not in columns\n",
      "(21/28) bloodGasPHCorrect not in columns\n",
      "(22/28) bloodGasPCO2Correct_mmHg not in columns\n",
      "(23/28) bloodGasPO2Correct_mmHg not in columns\n",
      "(24/28) bloodGasHCO3Correct_mEqPerL not in columns\n",
      "(25/28) bloodGasBaseDeficitCorrect_mEqPerL not in columns\n",
      "(26/28) CMP_DATE not in columns\n",
      "(27/28) CRT_DATE not in columns\n"
     ]
    }
   ],
   "source": [
    "df_cardio = df_dict['oc07.csv'].copy()\n",
    "\n",
    "cardioTimeSlot_int = df_cardio['cardioTimeSlot'].apply(COMBINE_harmonizer.to_int)\n",
    "is_pre = cardioTimeSlot_int == 0\n",
    "is_intervention = is_pre == False\n",
    "# after_baseline\n",
    "df_cardio = df_cardio[is_intervention]\n",
    "\n",
    "df_cardio = COMBINE_harmonizer.valid_columns(df_cardio, all_cardio_columns, debug_df=True, debug_columns=True)\n",
    "df_cardio = COMBINE_harmonizer.postprocess(df_cardio)\n",
    "\n",
    "out_filename = os.sep.join([out_dir, '02-02-cardiovascular.csv'])\n",
    "df_cardio.to_csv(out_filename, index=False)"
   ]
  },
  {
   "cell_type": "markdown",
   "id": "44d246af-5e91-4a3b-a63e-1b4a92281308",
   "metadata": {},
   "source": [
    "### 02-02-1. check cardio"
   ]
  },
  {
   "cell_type": "code",
   "execution_count": 95,
   "id": "d0544caa-f507-4f66-83b8-8fdd5c20f518",
   "metadata": {
    "execution": {
     "iopub.execute_input": "2025-02-04T10:53:54.726712Z",
     "iopub.status.busy": "2025-02-04T10:53:54.726543Z",
     "iopub.status.idle": "2025-02-04T10:53:54.734714Z",
     "shell.execute_reply": "2025-02-04T10:53:54.734406Z"
    }
   },
   "outputs": [
    {
     "data": {
      "text/html": [
       "<div>\n",
       "<style scoped>\n",
       "    .dataframe tbody tr th:only-of-type {\n",
       "        vertical-align: middle;\n",
       "    }\n",
       "\n",
       "    .dataframe tbody tr th {\n",
       "        vertical-align: top;\n",
       "    }\n",
       "\n",
       "    .dataframe thead th {\n",
       "        text-align: right;\n",
       "    }\n",
       "</style>\n",
       "<table border=\"1\" class=\"dataframe\">\n",
       "  <thead>\n",
       "    <tr style=\"text-align: right;\">\n",
       "      <th></th>\n",
       "      <th></th>\n",
       "      <th>_count</th>\n",
       "    </tr>\n",
       "    <tr>\n",
       "      <th>uniqueID</th>\n",
       "      <th>cardioTimeSlot</th>\n",
       "      <th></th>\n",
       "    </tr>\n",
       "  </thead>\n",
       "  <tbody>\n",
       "  </tbody>\n",
       "</table>\n",
       "</div>"
      ],
      "text/plain": [
       "Empty DataFrame\n",
       "Columns: [_count]\n",
       "Index: []"
      ]
     },
     "execution_count": 95,
     "metadata": {},
     "output_type": "execute_result"
    }
   ],
   "source": [
    "df_cardio_groupby = df_cardio.groupby(['uniqueID', 'cardioTimeSlot']).agg(_count=('uniqueID', 'count'))\n",
    "\n",
    "is_invalid = df_cardio_groupby['_count'] > 1\n",
    "df_cardio_groupby[is_invalid]"
   ]
  },
  {
   "cell_type": "markdown",
   "id": "9ce67642-f87d-4155-913f-89b6096fc6d5",
   "metadata": {},
   "source": [
    "### 02-02-2. check empty cells"
   ]
  },
  {
   "cell_type": "code",
   "execution_count": 96,
   "id": "0d9d5632-57c8-4c8e-940c-c1273a473b1c",
   "metadata": {
    "execution": {
     "iopub.execute_input": "2025-02-04T10:53:54.736380Z",
     "iopub.status.busy": "2025-02-04T10:53:54.736237Z",
     "iopub.status.idle": "2025-02-04T10:53:54.746287Z",
     "shell.execute_reply": "2025-02-04T10:53:54.746049Z"
    }
   },
   "outputs": [
    {
     "name": "stdout",
     "output_type": "stream",
     "text": [
      "(0/13) column: center (9573 / 0)\n",
      "(1/13) column: subjectID (9573 / 0)\n",
      "(2/13) column: uniqueID (9573 / 0)\n",
      "(3/13) column: cardioVolumeExpand (9565 / 8)\n",
      "(4/13) column: cardioInotropicAgent (9565 / 8)\n",
      "(5/13) column: cardioBloodTransfusion (9565 / 8)\n",
      "(6/13) column: cardioPlatelets (9565 / 8)\n",
      "(7/13) column: cardioTimeSlot (9573 / 0)\n",
      "(8/13) column: cardioDate (9565 / 8)\n",
      "(9/13) column: cardioTime (9551 / 22)\n",
      "(10/13) column: cardioSystolicBloodPressure_mmHg (9087 / 486)\n",
      "(11/13) column: cardioDiastolicBloodPressure_mmHg (9087 / 486)\n",
      "(12/13) column: cardioHeartRate_BPM (9460 / 113)\n"
     ]
    }
   ],
   "source": [
    "COMBINE_harmonizer.check_empty(df_cardio)"
   ]
  },
  {
   "cell_type": "code",
   "execution_count": 97,
   "id": "24eae50b-fe07-42c9-b4ea-86472331e003",
   "metadata": {
    "execution": {
     "iopub.execute_input": "2025-02-04T10:53:54.747574Z",
     "iopub.status.busy": "2025-02-04T10:53:54.747486Z",
     "iopub.status.idle": "2025-02-04T10:53:54.753086Z",
     "shell.execute_reply": "2025-02-04T10:53:54.752824Z"
    }
   },
   "outputs": [
    {
     "name": "stdout",
     "output_type": "stream",
     "text": [
      "(0/13) center: (9573/0)\n",
      "(1/13) subjectID: (9573/0)\n",
      "(2/13) uniqueID: (9573/0)\n",
      "(3/13) cardioVolumeExpand: (9565/8)\n",
      "(4/13) cardioInotropicAgent: (9565/8)\n",
      "(5/13) cardioBloodTransfusion: (9565/8)\n",
      "(6/13) cardioPlatelets: (9565/8)\n",
      "(7/13) cardioTimeSlot: (9573/0)\n",
      "(8/13) cardioDate: (9565/8)\n",
      "(9/13) cardioTime: (9551/22)\n",
      "(10/13) cardioSystolicBloodPressure_mmHg: (9087/486)\n",
      "(11/13) cardioDiastolicBloodPressure_mmHg: (9087/486)\n",
      "(12/13) cardioHeartRate_BPM: (9460/113)\n"
     ]
    }
   ],
   "source": [
    "COMBINE_harmonizer.column_info(df_cardio)"
   ]
  },
  {
   "cell_type": "markdown",
   "id": "cbb4f4d1-ec71-4fdb-b323-35fabd584021",
   "metadata": {},
   "source": [
    "## 02-03. respiratory"
   ]
  },
  {
   "cell_type": "code",
   "execution_count": 98,
   "id": "86329dc6",
   "metadata": {
    "execution": {
     "iopub.execute_input": "2025-02-04T10:53:54.754450Z",
     "iopub.status.busy": "2025-02-04T10:53:54.754359Z",
     "iopub.status.idle": "2025-02-04T10:53:54.757088Z",
     "shell.execute_reply": "2025-02-04T10:53:54.756856Z"
    }
   },
   "outputs": [
    {
     "data": {
      "text/plain": [
       "['respiratoryTimeSlot',\n",
       " 'respiratoryDate',\n",
       " 'respiratoryTime',\n",
       " 'respiratorySupportType',\n",
       " 'respiratoryFiO2',\n",
       " 'respiratoryRate_Hz',\n",
       " 'respiratoryPIP_cmH2O',\n",
       " 'respiratoryMAP_cmH2O',\n",
       " 'respiratoryPEEP_cmH2O']"
      ]
     },
     "execution_count": 98,
     "metadata": {},
     "output_type": "execute_result"
    }
   ],
   "source": [
    "respiratory_columns = COMBINE_harmonizer.get_columns(df_data_dict, 'Intervention', 'Respiratory')\n",
    "all_respiratory_columns = id_columns + respiratory_columns\n",
    "respiratory_columns"
   ]
  },
  {
   "cell_type": "code",
   "execution_count": 99,
   "id": "078bfd87",
   "metadata": {
    "execution": {
     "iopub.execute_input": "2025-02-04T10:53:54.758356Z",
     "iopub.status.busy": "2025-02-04T10:53:54.758278Z",
     "iopub.status.idle": "2025-02-04T10:53:54.849497Z",
     "shell.execute_reply": "2025-02-04T10:53:54.849156Z"
    }
   },
   "outputs": [
    {
     "name": "stdout",
     "output_type": "stream",
     "text": [
      "(1/37) hematology not in columns\n",
      "(2/37) REC_CMP not in columns\n",
      "(13/37) hematologyWBC not in columns\n",
      "(14/37) hematologyHemoglobin not in columns\n",
      "(15/37) hematologyPolymorphNeutrophilsDifferentialCount not in columns\n",
      "(16/37) hematologyMonocytes not in columns\n",
      "(17/37) hematologyLymphocytes not in columns\n",
      "(18/37) hematologyPlateletCount not in columns\n",
      "(19/37) hematologyPT_s not in columns\n",
      "(20/37) hematologyPTT_s not in columns\n",
      "(21/37) anticonvulsants1 not in columns\n",
      "(22/37) anticonvulsants2 not in columns\n",
      "(23/37) anticonvulsants3 not in columns\n",
      "(24/37) analgesicsSedatives1 not in columns\n",
      "(25/37) analgesicsSedatives2 not in columns\n",
      "(26/37) analgesicsSedatives3 not in columns\n",
      "(27/37) antipyretics1 not in columns\n",
      "(28/37) antipyretics2 not in columns\n",
      "(29/37) antipyretics3 not in columns\n",
      "(30/37) paralytics1 not in columns\n",
      "(31/37) paralytics2 not in columns\n",
      "(32/37) paralytics3 not in columns\n",
      "(33/37) otherMedFluidIntake_ccPerKg not in columns\n",
      "(34/37) otherMedUrineOutput_ccPerKg not in columns\n",
      "(35/37) CMP_DATE not in columns\n",
      "(36/37) CRT_DATE not in columns\n"
     ]
    }
   ],
   "source": [
    "df_respiratory = df_dict['oc08.csv'].copy()\n",
    "\n",
    "respiratoryTimeSlot_int = df_respiratory['respiratoryTimeSlot'].apply(COMBINE_harmonizer.to_int)\n",
    "is_pre = respiratoryTimeSlot_int == 0\n",
    "is_intervention = is_pre == False\n",
    "# after_baseline\n",
    "df_respiratory = df_respiratory[is_intervention]\n",
    "\n",
    "df_respiratory = COMBINE_harmonizer.valid_columns(df_respiratory, all_respiratory_columns, debug_df=True, debug_columns=True)\n",
    "df_respiratory = COMBINE_harmonizer.postprocess(df_respiratory)\n",
    "\n",
    "out_filename = os.sep.join([out_dir, '02-03-respiratory.csv'])\n",
    "df_respiratory.to_csv(out_filename, index=False)"
   ]
  },
  {
   "cell_type": "markdown",
   "id": "b1331fe8-5459-481f-bbf8-36bb7cf250b7",
   "metadata": {},
   "source": [
    "### 02-03-1. check respiratory"
   ]
  },
  {
   "cell_type": "code",
   "execution_count": 100,
   "id": "037e9cc3",
   "metadata": {
    "execution": {
     "iopub.execute_input": "2025-02-04T10:53:54.851214Z",
     "iopub.status.busy": "2025-02-04T10:53:54.851069Z",
     "iopub.status.idle": "2025-02-04T10:53:54.857367Z",
     "shell.execute_reply": "2025-02-04T10:53:54.857061Z"
    }
   },
   "outputs": [
    {
     "data": {
      "text/html": [
       "<div>\n",
       "<style scoped>\n",
       "    .dataframe tbody tr th:only-of-type {\n",
       "        vertical-align: middle;\n",
       "    }\n",
       "\n",
       "    .dataframe tbody tr th {\n",
       "        vertical-align: top;\n",
       "    }\n",
       "\n",
       "    .dataframe thead th {\n",
       "        text-align: right;\n",
       "    }\n",
       "</style>\n",
       "<table border=\"1\" class=\"dataframe\">\n",
       "  <thead>\n",
       "    <tr style=\"text-align: right;\">\n",
       "      <th></th>\n",
       "      <th></th>\n",
       "      <th>_count</th>\n",
       "    </tr>\n",
       "    <tr>\n",
       "      <th>uniqueID</th>\n",
       "      <th>respiratoryTimeSlot</th>\n",
       "      <th></th>\n",
       "    </tr>\n",
       "  </thead>\n",
       "  <tbody>\n",
       "  </tbody>\n",
       "</table>\n",
       "</div>"
      ],
      "text/plain": [
       "Empty DataFrame\n",
       "Columns: [_count]\n",
       "Index: []"
      ]
     },
     "execution_count": 100,
     "metadata": {},
     "output_type": "execute_result"
    }
   ],
   "source": [
    "df_respiratory_groupby = df_respiratory.groupby(['uniqueID', 'respiratoryTimeSlot']).agg(_count=('uniqueID', 'count'))\n",
    "\n",
    "is_invalid = df_respiratory_groupby['_count'] > 1\n",
    "df_respiratory_groupby[is_invalid]"
   ]
  },
  {
   "cell_type": "markdown",
   "id": "44d385e4",
   "metadata": {},
   "source": [
    "### 02-03-2. check empty cells"
   ]
  },
  {
   "cell_type": "code",
   "execution_count": 101,
   "id": "012af90d",
   "metadata": {
    "execution": {
     "iopub.execute_input": "2025-02-04T10:53:54.858891Z",
     "iopub.status.busy": "2025-02-04T10:53:54.858787Z",
     "iopub.status.idle": "2025-02-04T10:53:54.863203Z",
     "shell.execute_reply": "2025-02-04T10:53:54.862946Z"
    }
   },
   "outputs": [
    {
     "name": "stdout",
     "output_type": "stream",
     "text": [
      "(0/12) column: center (1979 / 0)\n",
      "(1/12) column: subjectID (1979 / 0)\n",
      "(2/12) column: uniqueID (1979 / 0)\n",
      "(3/12) column: respiratoryTimeSlot (1979 / 0)\n",
      "(4/12) column: respiratoryDate (1979 / 0)\n",
      "(5/12) column: respiratoryTime (1974 / 5)\n",
      "(6/12) column: respiratorySupportType (1974 / 5)\n",
      "(7/12) column: respiratoryFiO2 (1416 / 563)\n",
      "(8/12) column: respiratoryRate_Hz (1052 / 927)\n",
      "(9/12) column: respiratoryPIP_cmH2O (1041 / 938)\n",
      "(10/12) column: respiratoryMAP_cmH2O (801 / 1178)\n",
      "(11/12) column: respiratoryPEEP_cmH2O (964 / 1015)\n"
     ]
    }
   ],
   "source": [
    "COMBINE_harmonizer.check_empty(df_respiratory)"
   ]
  },
  {
   "cell_type": "code",
   "execution_count": 102,
   "id": "7f1f93b9",
   "metadata": {
    "execution": {
     "iopub.execute_input": "2025-02-04T10:53:54.864546Z",
     "iopub.status.busy": "2025-02-04T10:53:54.864447Z",
     "iopub.status.idle": "2025-02-04T10:53:54.867626Z",
     "shell.execute_reply": "2025-02-04T10:53:54.867388Z"
    }
   },
   "outputs": [
    {
     "name": "stdout",
     "output_type": "stream",
     "text": [
      "(0/12) center: (1979/0)\n",
      "(1/12) subjectID: (1979/0)\n",
      "(2/12) uniqueID: (1979/0)\n",
      "(3/12) respiratoryTimeSlot: (1979/0)\n",
      "(4/12) respiratoryDate: (1979/0)\n",
      "(5/12) respiratoryTime: (1974/5)\n",
      "(6/12) respiratorySupportType: (1974/5)\n",
      "(7/12) respiratoryFiO2: (1416/563)\n",
      "(8/12) respiratoryRate_Hz: (1052/927)\n",
      "(9/12) respiratoryPIP_cmH2O: (1041/938)\n",
      "(10/12) respiratoryMAP_cmH2O: (801/1178)\n",
      "(11/12) respiratoryPEEP_cmH2O: (964/1015)\n"
     ]
    }
   ],
   "source": [
    "COMBINE_harmonizer.column_info(df_respiratory)"
   ]
  },
  {
   "cell_type": "markdown",
   "id": "22ae41ef-b69c-4d1f-bb07-2f3d882d0fd8",
   "metadata": {},
   "source": [
    "## 02-04. blood-gas"
   ]
  },
  {
   "cell_type": "code",
   "execution_count": 103,
   "id": "7aad3086-d1a1-407b-a95b-5e1288af46ca",
   "metadata": {
    "execution": {
     "iopub.execute_input": "2025-02-04T10:53:54.869027Z",
     "iopub.status.busy": "2025-02-04T10:53:54.868939Z",
     "iopub.status.idle": "2025-02-04T10:53:54.871624Z",
     "shell.execute_reply": "2025-02-04T10:53:54.871352Z"
    }
   },
   "outputs": [
    {
     "data": {
      "text/plain": [
       "['bloodGasTimeSlot',\n",
       " 'bloodGasDate',\n",
       " 'bloodGasTime',\n",
       " 'bloodGasSrc',\n",
       " 'bloodGasPH',\n",
       " 'bloodGasPCO2_mmHg',\n",
       " 'bloodGasPO2_mmHg',\n",
       " 'bloodGasHCO3_mEqPerL',\n",
       " 'bloodGasBaseDeficit_mEqPerL',\n",
       " 'bloodGasPHCorrect',\n",
       " 'bloodGasPCO2Correct_mmHg',\n",
       " 'bloodGasPO2Correct_mmHg',\n",
       " 'bloodGasHCO3Correct_mEqPerL',\n",
       " 'bloodGasBaseDeficitCorrect_mEqPerL']"
      ]
     },
     "execution_count": 103,
     "metadata": {},
     "output_type": "execute_result"
    }
   ],
   "source": [
    "blood_gas_columns = COMBINE_harmonizer.get_columns(df_data_dict, 'Intervention', 'Blood Gas')\n",
    "all_blood_gas_columns = id_columns + blood_gas_columns\n",
    "blood_gas_columns"
   ]
  },
  {
   "cell_type": "code",
   "execution_count": 104,
   "id": "a6b75809-3bc5-44fe-a768-e9a9a5d2bcb1",
   "metadata": {
    "execution": {
     "iopub.execute_input": "2025-02-04T10:53:54.872898Z",
     "iopub.status.busy": "2025-02-04T10:53:54.872803Z",
     "iopub.status.idle": "2025-02-04T10:53:55.040387Z",
     "shell.execute_reply": "2025-02-04T10:53:55.040060Z"
    }
   },
   "outputs": [],
   "source": [
    "df_blood_gas = df_dict['oc07.csv'].copy().rename(columns={'cardioTimeSlot': 'bloodGasTimeSlot'})\n",
    "\n",
    "bloodGasTimeSlot_int = df_blood_gas['bloodGasTimeSlot'].apply(COMBINE_harmonizer.to_int)\n",
    "is_pre = bloodGasTimeSlot_int == 0\n",
    "is_intervention = is_pre == False\n",
    "df_blood_gas = df_blood_gas[is_intervention]\n",
    "\n",
    "df_blood_gas = COMBINE_harmonizer.valid_columns(df_blood_gas, all_blood_gas_columns)\n",
    "df_blood_gas = COMBINE_harmonizer.postprocess(df_blood_gas)\n",
    "\n",
    "# XXX hack for center30 OC0071 bloodGasTimeSlot = 36\n",
    "is_center30_OC0071_bloodGasTimeSlot36 = (df_blood_gas['center'] == '30') & (df_blood_gas['subjectID'] == 'OC0071') & (df_blood_gas['bloodGasTimeSlot'].isin(['36', '36.0']))\n",
    "df_blood_gas.loc[is_center30_OC0071_bloodGasTimeSlot36, 'bloodGasDate'] = '2012-01-03'\n",
    "\n",
    "out_filename = os.sep.join([out_dir, '02-04-blood-gas.csv'])\n",
    "df_blood_gas.to_csv(out_filename, index=False)"
   ]
  },
  {
   "cell_type": "markdown",
   "id": "3e64bec6-0b37-45e9-b6a8-775ed15c34f2",
   "metadata": {},
   "source": [
    "### 02-04-1. check blood-gas"
   ]
  },
  {
   "cell_type": "code",
   "execution_count": 105,
   "id": "f3d69fca-30a8-4d78-b361-afd6f7691d95",
   "metadata": {
    "execution": {
     "iopub.execute_input": "2025-02-04T10:53:55.042347Z",
     "iopub.status.busy": "2025-02-04T10:53:55.042206Z",
     "iopub.status.idle": "2025-02-04T10:53:55.049228Z",
     "shell.execute_reply": "2025-02-04T10:53:55.048956Z"
    }
   },
   "outputs": [
    {
     "data": {
      "text/html": [
       "<div>\n",
       "<style scoped>\n",
       "    .dataframe tbody tr th:only-of-type {\n",
       "        vertical-align: middle;\n",
       "    }\n",
       "\n",
       "    .dataframe tbody tr th {\n",
       "        vertical-align: top;\n",
       "    }\n",
       "\n",
       "    .dataframe thead th {\n",
       "        text-align: right;\n",
       "    }\n",
       "</style>\n",
       "<table border=\"1\" class=\"dataframe\">\n",
       "  <thead>\n",
       "    <tr style=\"text-align: right;\">\n",
       "      <th></th>\n",
       "      <th></th>\n",
       "      <th>_count</th>\n",
       "    </tr>\n",
       "    <tr>\n",
       "      <th>uniqueID</th>\n",
       "      <th>bloodGasTimeSlot</th>\n",
       "      <th></th>\n",
       "    </tr>\n",
       "  </thead>\n",
       "  <tbody>\n",
       "  </tbody>\n",
       "</table>\n",
       "</div>"
      ],
      "text/plain": [
       "Empty DataFrame\n",
       "Columns: [_count]\n",
       "Index: []"
      ]
     },
     "execution_count": 105,
     "metadata": {},
     "output_type": "execute_result"
    }
   ],
   "source": [
    "df_blood_gas_groupby = df_blood_gas.groupby(['uniqueID', 'bloodGasTimeSlot']).agg(_count=('uniqueID', 'count'))\n",
    "\n",
    "\n",
    "is_invalid = df_blood_gas_groupby['_count'] > 1\n",
    "df_blood_gas_groupby[is_invalid]"
   ]
  },
  {
   "cell_type": "markdown",
   "id": "84dbecc3-6912-44d7-9797-4f99f4cb20f9",
   "metadata": {},
   "source": [
    "### 02-04-2. check empty cells"
   ]
  },
  {
   "cell_type": "code",
   "execution_count": 106,
   "id": "ac8ee319-33e1-4e0a-bae1-f80fad73688e",
   "metadata": {
    "execution": {
     "iopub.execute_input": "2025-02-04T10:53:55.050704Z",
     "iopub.status.busy": "2025-02-04T10:53:55.050605Z",
     "iopub.status.idle": "2025-02-04T10:53:55.059998Z",
     "shell.execute_reply": "2025-02-04T10:53:55.059763Z"
    }
   },
   "outputs": [
    {
     "name": "stdout",
     "output_type": "stream",
     "text": [
      "(0/17) column: center (9573 / 0)\n",
      "(1/17) column: subjectID (9573 / 0)\n",
      "(2/17) column: uniqueID (9573 / 0)\n",
      "(3/17) column: bloodGasSrc (3775 / 5798)\n",
      "(4/17) column: bloodGasTimeSlot (9573 / 0)\n",
      "(5/17) column: bloodGasDate (5127 / 4446)\n",
      "(6/17) column: bloodGasTime (4887 / 4686)\n",
      "(7/17) column: bloodGasPH (2575 / 6998)\n",
      "(8/17) column: bloodGasPCO2_mmHg (2576 / 6997)\n",
      "(9/17) column: bloodGasPO2_mmHg (2570 / 7003)\n",
      "(10/17) column: bloodGasHCO3_mEqPerL (2502 / 7071)\n",
      "(11/17) column: bloodGasBaseDeficit_mEqPerL (2449 / 7124)\n",
      "(12/17) column: bloodGasPHCorrect (3334 / 6239)\n",
      "(13/17) column: bloodGasPCO2Correct_mmHg (3336 / 6237)\n",
      "(14/17) column: bloodGasPO2Correct_mmHg (3291 / 6282)\n",
      "(15/17) column: bloodGasHCO3Correct_mEqPerL (2748 / 6825)\n",
      "(16/17) column: bloodGasBaseDeficitCorrect_mEqPerL (2674 / 6899)\n"
     ]
    }
   ],
   "source": [
    "COMBINE_harmonizer.check_empty(df_blood_gas)"
   ]
  },
  {
   "cell_type": "code",
   "execution_count": 107,
   "id": "5793ba50-6544-4e36-b244-5a09db695b56",
   "metadata": {
    "execution": {
     "iopub.execute_input": "2025-02-04T10:53:55.061162Z",
     "iopub.status.busy": "2025-02-04T10:53:55.061078Z",
     "iopub.status.idle": "2025-02-04T10:53:55.066311Z",
     "shell.execute_reply": "2025-02-04T10:53:55.066096Z"
    }
   },
   "outputs": [
    {
     "name": "stdout",
     "output_type": "stream",
     "text": [
      "(0/17) center: (9573/0)\n",
      "(1/17) subjectID: (9573/0)\n",
      "(2/17) uniqueID: (9573/0)\n",
      "(3/17) bloodGasSrc: (3775/5798)\n",
      "(4/17) bloodGasTimeSlot: (9573/0)\n",
      "(5/17) bloodGasDate: (5127/4446)\n",
      "(6/17) bloodGasTime: (4887/4686)\n",
      "(7/17) bloodGasPH: (2575/6998)\n",
      "(8/17) bloodGasPCO2_mmHg: (2576/6997)\n",
      "(9/17) bloodGasPO2_mmHg: (2570/7003)\n",
      "(10/17) bloodGasHCO3_mEqPerL: (2502/7071)\n",
      "(11/17) bloodGasBaseDeficit_mEqPerL: (2449/7124)\n",
      "(12/17) bloodGasPHCorrect: (3334/6239)\n",
      "(13/17) bloodGasPCO2Correct_mmHg: (3336/6237)\n",
      "(14/17) bloodGasPO2Correct_mmHg: (3291/6282)\n",
      "(15/17) bloodGasHCO3Correct_mEqPerL: (2748/6825)\n",
      "(16/17) bloodGasBaseDeficitCorrect_mEqPerL: (2674/6899)\n"
     ]
    }
   ],
   "source": [
    "COMBINE_harmonizer.column_info(df_blood_gas)"
   ]
  },
  {
   "cell_type": "markdown",
   "id": "c487564c-e591-49f9-9852-2a51974bda9d",
   "metadata": {},
   "source": [
    "## 02-05. hematology"
   ]
  },
  {
   "cell_type": "code",
   "execution_count": 108,
   "id": "2d207956-17e3-4869-a12d-732deacb6661",
   "metadata": {
    "execution": {
     "iopub.execute_input": "2025-02-04T10:53:55.067485Z",
     "iopub.status.busy": "2025-02-04T10:53:55.067410Z",
     "iopub.status.idle": "2025-02-04T10:53:55.069824Z",
     "shell.execute_reply": "2025-02-04T10:53:55.069602Z"
    }
   },
   "outputs": [
    {
     "data": {
      "text/plain": [
       "['hematology',\n",
       " 'hematologyTimeSlot',\n",
       " 'hematologyDate',\n",
       " 'hematologyTime',\n",
       " 'hematologyWBC',\n",
       " 'hematologyHemoglobin',\n",
       " 'hematologyPolymorphNeutrophilsDifferentialCount',\n",
       " 'hematologyMonocytes',\n",
       " 'hematologyLymphocytes',\n",
       " 'hematologyPlateletCount',\n",
       " 'hematologyPT_s',\n",
       " 'hematologyPTT_s',\n",
       " 'hematologyHematocritMin',\n",
       " 'hematologyHematocritMinDate',\n",
       " 'hematologyPlateletCountMin',\n",
       " 'hematologyPlateletCountMinDate']"
      ]
     },
     "execution_count": 108,
     "metadata": {},
     "output_type": "execute_result"
    }
   ],
   "source": [
    "hematology_columns = COMBINE_harmonizer.get_columns(df_data_dict, 'Intervention', 'Hematology CBC')\n",
    "all_hematology_columns = id_columns + hematology_columns\n",
    "hematology_columns"
   ]
  },
  {
   "cell_type": "code",
   "execution_count": 109,
   "id": "aa3ff8d1-e2d6-418e-9bd8-e2fb4237d30f",
   "metadata": {
    "execution": {
     "iopub.execute_input": "2025-02-04T10:53:55.070887Z",
     "iopub.status.busy": "2025-02-04T10:53:55.070812Z",
     "iopub.status.idle": "2025-02-04T10:53:55.162263Z",
     "shell.execute_reply": "2025-02-04T10:53:55.161988Z"
    }
   },
   "outputs": [
    {
     "name": "stdout",
     "output_type": "stream",
     "text": [
      "(2/37) REC_CMP not in columns\n",
      "(7/37) respiratorySupportType not in columns\n",
      "(8/37) respiratoryFiO2 not in columns\n",
      "(9/37) respiratoryRate_Hz not in columns\n",
      "(10/37) respiratoryPIP_cmH2O not in columns\n",
      "(11/37) respiratoryMAP_cmH2O not in columns\n",
      "(12/37) respiratoryPEEP_cmH2O not in columns\n",
      "(21/37) anticonvulsants1 not in columns\n",
      "(22/37) anticonvulsants2 not in columns\n",
      "(23/37) anticonvulsants3 not in columns\n",
      "(24/37) analgesicsSedatives1 not in columns\n",
      "(25/37) analgesicsSedatives2 not in columns\n",
      "(26/37) analgesicsSedatives3 not in columns\n",
      "(27/37) antipyretics1 not in columns\n",
      "(28/37) antipyretics2 not in columns\n",
      "(29/37) antipyretics3 not in columns\n",
      "(30/37) paralytics1 not in columns\n",
      "(31/37) paralytics2 not in columns\n",
      "(32/37) paralytics3 not in columns\n",
      "(33/37) otherMedFluidIntake_ccPerKg not in columns\n",
      "(34/37) otherMedUrineOutput_ccPerKg not in columns\n",
      "(35/37) CMP_DATE not in columns\n",
      "(36/37) CRT_DATE not in columns\n",
      "(14/18) hematologyHematocritMin not in df\n",
      "(15/18) hematologyHematocritMinDate not in df\n",
      "(16/18) hematologyPlateletCountMin not in df\n",
      "(17/18) hematologyPlateletCountMinDate not in df\n"
     ]
    }
   ],
   "source": [
    "df_hematology = df_dict['oc08.csv'].copy().rename(columns={'respiratoryTimeSlot': 'hematologyTimeSlot', 'respiratoryDate': 'hematologyDate', 'respiratoryTime': 'hematologyTime'})\n",
    "\n",
    "hematology_time_slot_int =df_hematology['hematologyTimeSlot'].apply(COMBINE_harmonizer.to_int)\n",
    "is_pre = hematology_time_slot_int == 0\n",
    "is_intervention = is_pre == False\n",
    "# after_baseline\n",
    "df_hematology = df_hematology[is_intervention]\n",
    "\n",
    "df_hematology = COMBINE_harmonizer.valid_columns(df_hematology, all_hematology_columns, debug_df=True, debug_columns=True)\n",
    "df_hematology = COMBINE_harmonizer.postprocess(df_hematology)\n",
    "out_filename = os.sep.join([out_dir, '02-05-hematology.csv'])\n",
    "df_hematology.to_csv(out_filename, index=False)"
   ]
  },
  {
   "cell_type": "markdown",
   "id": "aba3d0bb-bff8-4300-8765-2a293f1eefaf",
   "metadata": {},
   "source": [
    "### 02-05-1. check hematology"
   ]
  },
  {
   "cell_type": "code",
   "execution_count": 110,
   "id": "60996b57-c068-43de-bfd6-fc0a2e96a115",
   "metadata": {
    "execution": {
     "iopub.execute_input": "2025-02-04T10:53:55.163821Z",
     "iopub.status.busy": "2025-02-04T10:53:55.163705Z",
     "iopub.status.idle": "2025-02-04T10:53:55.169517Z",
     "shell.execute_reply": "2025-02-04T10:53:55.169272Z"
    }
   },
   "outputs": [
    {
     "data": {
      "text/html": [
       "<div>\n",
       "<style scoped>\n",
       "    .dataframe tbody tr th:only-of-type {\n",
       "        vertical-align: middle;\n",
       "    }\n",
       "\n",
       "    .dataframe tbody tr th {\n",
       "        vertical-align: top;\n",
       "    }\n",
       "\n",
       "    .dataframe thead th {\n",
       "        text-align: right;\n",
       "    }\n",
       "</style>\n",
       "<table border=\"1\" class=\"dataframe\">\n",
       "  <thead>\n",
       "    <tr style=\"text-align: right;\">\n",
       "      <th></th>\n",
       "      <th></th>\n",
       "      <th>_count</th>\n",
       "    </tr>\n",
       "    <tr>\n",
       "      <th>uniqueID</th>\n",
       "      <th>hematologyTimeSlot</th>\n",
       "      <th></th>\n",
       "    </tr>\n",
       "  </thead>\n",
       "  <tbody>\n",
       "  </tbody>\n",
       "</table>\n",
       "</div>"
      ],
      "text/plain": [
       "Empty DataFrame\n",
       "Columns: [_count]\n",
       "Index: []"
      ]
     },
     "execution_count": 110,
     "metadata": {},
     "output_type": "execute_result"
    }
   ],
   "source": [
    "df_hematology_groupby = df_hematology.groupby(['uniqueID', 'hematologyTimeSlot']).agg(_count=('uniqueID', 'count'))\n",
    "\n",
    "is_invalid = df_hematology_groupby['_count'] > 1\n",
    "df_hematology_groupby[is_invalid]"
   ]
  },
  {
   "cell_type": "markdown",
   "id": "3162c0b6-e0c2-4e63-b545-55e2567e389a",
   "metadata": {},
   "source": [
    "### 02-05-2. check empty cells"
   ]
  },
  {
   "cell_type": "code",
   "execution_count": 111,
   "id": "c8a15fad-0ac3-47cc-a9e7-1d8dffc81171",
   "metadata": {
    "execution": {
     "iopub.execute_input": "2025-02-04T10:53:55.171000Z",
     "iopub.status.busy": "2025-02-04T10:53:55.170902Z",
     "iopub.status.idle": "2025-02-04T10:53:55.175563Z",
     "shell.execute_reply": "2025-02-04T10:53:55.175305Z"
    }
   },
   "outputs": [
    {
     "name": "stdout",
     "output_type": "stream",
     "text": [
      "(0/15) column: center (1979 / 0)\n",
      "(1/15) column: subjectID (1979 / 0)\n",
      "(2/15) column: uniqueID (1979 / 0)\n",
      "(3/15) column: hematology (1951 / 28)\n",
      "(4/15) column: hematologyTimeSlot (1979 / 0)\n",
      "(5/15) column: hematologyDate (1979 / 0)\n",
      "(6/15) column: hematologyTime (1974 / 5)\n",
      "(7/15) column: hematologyWBC (1239 / 740)\n",
      "(8/15) column: hematologyHemoglobin (1340 / 639)\n",
      "(9/15) column: hematologyPolymorphNeutrophilsDifferentialCount (1067 / 912)\n",
      "(10/15) column: hematologyMonocytes (1089 / 890)\n",
      "(11/15) column: hematologyLymphocytes (1112 / 867)\n",
      "(12/15) column: hematologyPlateletCount (1305 / 674)\n",
      "(13/15) column: hematologyPT_s (810 / 1169)\n",
      "(14/15) column: hematologyPTT_s (776 / 1203)\n"
     ]
    }
   ],
   "source": [
    "COMBINE_harmonizer.check_empty(df_hematology)"
   ]
  },
  {
   "cell_type": "code",
   "execution_count": 112,
   "id": "df4e1e23-48aa-48a2-884e-4cf22a0064a8",
   "metadata": {
    "execution": {
     "iopub.execute_input": "2025-02-04T10:53:55.176810Z",
     "iopub.status.busy": "2025-02-04T10:53:55.176722Z",
     "iopub.status.idle": "2025-02-04T10:53:55.180117Z",
     "shell.execute_reply": "2025-02-04T10:53:55.179851Z"
    }
   },
   "outputs": [
    {
     "name": "stdout",
     "output_type": "stream",
     "text": [
      "(0/15) center: (1979/0)\n",
      "(1/15) subjectID: (1979/0)\n",
      "(2/15) uniqueID: (1979/0)\n",
      "(3/15) hematology: (1951/28)\n",
      "(4/15) hematologyTimeSlot: (1979/0)\n",
      "(5/15) hematologyDate: (1979/0)\n",
      "(6/15) hematologyTime: (1974/5)\n",
      "(7/15) hematologyWBC: (1239/740)\n",
      "(8/15) hematologyHemoglobin: (1340/639)\n",
      "(9/15) hematologyPolymorphNeutrophilsDifferentialCount: (1067/912)\n",
      "(10/15) hematologyMonocytes: (1089/890)\n",
      "(11/15) hematologyLymphocytes: (1112/867)\n",
      "(12/15) hematologyPlateletCount: (1305/674)\n",
      "(13/15) hematologyPT_s: (810/1169)\n",
      "(14/15) hematologyPTT_s: (776/1203)\n"
     ]
    }
   ],
   "source": [
    "COMBINE_harmonizer.column_info(df_hematology)"
   ]
  },
  {
   "cell_type": "markdown",
   "id": "33e9b73f",
   "metadata": {},
   "source": [
    "### 02-05-3. Hematology summary"
   ]
  },
  {
   "cell_type": "code",
   "execution_count": 113,
   "id": "6c69cf21",
   "metadata": {
    "execution": {
     "iopub.execute_input": "2025-02-04T10:53:55.181493Z",
     "iopub.status.busy": "2025-02-04T10:53:55.181405Z",
     "iopub.status.idle": "2025-02-04T10:53:55.249528Z",
     "shell.execute_reply": "2025-02-04T10:53:55.249167Z"
    }
   },
   "outputs": [
    {
     "name": "stdout",
     "output_type": "stream",
     "text": [
      "(2/18) hematology not in df\n",
      "(3/18) hematologyTimeSlot not in df\n",
      "(4/18) hematologyDate not in df\n",
      "(5/18) hematologyTime not in df\n",
      "(6/18) hematologyWBC not in df\n",
      "(7/18) hematologyHemoglobin not in df\n",
      "(8/18) hematologyPolymorphNeutrophilsDifferentialCount not in df\n",
      "(9/18) hematologyMonocytes not in df\n",
      "(10/18) hematologyLymphocytes not in df\n",
      "(11/18) hematologyPlateletCount not in df\n",
      "(12/18) hematologyPT_s not in df\n",
      "(13/18) hematologyPTT_s not in df\n"
     ]
    }
   ],
   "source": [
    "df_main_hematology = COMBINE_harmonizer.valid_columns(df_main, all_hematology_columns)\n",
    "df_main_hematology = COMBINE_harmonizer.postprocess(df_main_hematology)\n",
    "\n",
    "out_filename = os.sep.join([out_dir, '02-05_s-hematology.csv'])\n",
    "df_main_hematology.to_csv(out_filename, index=False)"
   ]
  },
  {
   "cell_type": "markdown",
   "id": "32ba6e91",
   "metadata": {},
   "source": [
    "### 02-05-4. check empty cells"
   ]
  },
  {
   "cell_type": "code",
   "execution_count": 114,
   "id": "8af06fb0",
   "metadata": {
    "execution": {
     "iopub.execute_input": "2025-02-04T10:53:55.251325Z",
     "iopub.status.busy": "2025-02-04T10:53:55.251164Z",
     "iopub.status.idle": "2025-02-04T10:53:55.254463Z",
     "shell.execute_reply": "2025-02-04T10:53:55.254113Z"
    }
   },
   "outputs": [
    {
     "name": "stdout",
     "output_type": "stream",
     "text": [
      "(0/7) column: center (364 / 0)\n",
      "(1/7) column: subjectID (364 / 0)\n",
      "(2/7) column: uniqueID (364 / 0)\n",
      "(3/7) column: hematologyHematocritMin (364 / 0)\n",
      "(4/7) column: hematologyHematocritMinDate (364 / 0)\n",
      "(5/7) column: hematologyPlateletCountMin (361 / 3)\n",
      "(6/7) column: hematologyPlateletCountMinDate (361 / 3)\n"
     ]
    }
   ],
   "source": [
    "COMBINE_harmonizer.check_empty(df_main_hematology)"
   ]
  },
  {
   "cell_type": "code",
   "execution_count": 115,
   "id": "4801268e",
   "metadata": {
    "execution": {
     "iopub.execute_input": "2025-02-04T10:53:55.256095Z",
     "iopub.status.busy": "2025-02-04T10:53:55.255975Z",
     "iopub.status.idle": "2025-02-04T10:53:55.258757Z",
     "shell.execute_reply": "2025-02-04T10:53:55.258462Z"
    }
   },
   "outputs": [
    {
     "name": "stdout",
     "output_type": "stream",
     "text": [
      "(0/7) center: (364/0)\n",
      "(1/7) subjectID: (364/0)\n",
      "(2/7) uniqueID: (364/0)\n",
      "(3/7) hematologyHematocritMin: (364/0)\n",
      "(4/7) hematologyHematocritMinDate: (364/0)\n",
      "(5/7) hematologyPlateletCountMin: (361/3)\n",
      "(6/7) hematologyPlateletCountMinDate: (361/3)\n"
     ]
    }
   ],
   "source": [
    "COMBINE_harmonizer.column_info(df_main_hematology)"
   ]
  },
  {
   "cell_type": "markdown",
   "id": "1d73d565",
   "metadata": {},
   "source": [
    "## 02-06. Blood Value"
   ]
  },
  {
   "cell_type": "code",
   "execution_count": 116,
   "id": "2f9156da",
   "metadata": {
    "execution": {
     "iopub.execute_input": "2025-02-04T10:53:55.260401Z",
     "iopub.status.busy": "2025-02-04T10:53:55.260293Z",
     "iopub.status.idle": "2025-02-04T10:53:55.263734Z",
     "shell.execute_reply": "2025-02-04T10:53:55.263440Z"
    }
   },
   "outputs": [
    {
     "data": {
      "text/plain": [
       "['bloodValueBunBaseline_mgPerdL',\n",
       " 'bloodValueBunBaseline_mgPerdLDate',\n",
       " 'bloodValueCreatinineBaseline_mgPerdL',\n",
       " 'bloodValueCreatinineBaseline_mgPerdLDate',\n",
       " 'bloodValueASTSGOTBaseline_UPerL',\n",
       " 'bloodValueASTSGOTBaseline_UPerLDate',\n",
       " 'bloodValueALTSGPTBaseline_UPerL',\n",
       " 'bloodValueALTSGPTBaseline_UPerLDate',\n",
       " 'bloodValueTotalBilirubinBaseline_mgPerdL',\n",
       " 'bloodValueTotalBilirubinBaseline_mgPerdLDate',\n",
       " 'bloodValuePHMin',\n",
       " 'bloodValuePHMinDate',\n",
       " 'bloodValueHCO3Min_mEqPerL',\n",
       " 'bloodValueHCO3Min_mEqPerLDate',\n",
       " 'bloodValueSerumNaMin_mEqPerL',\n",
       " 'bloodValueSerumNaMin_mEqPerLDate',\n",
       " 'bloodValueSerumKMin_mEqPerL',\n",
       " 'bloodValueSerumKMin_mEqPerLDate',\n",
       " 'bloodValueClMin_mEqPerL',\n",
       " 'bloodValueClMin_mEqPerLDate',\n",
       " 'bloodValueGlucoseMin_mgPerdL',\n",
       " 'bloodValueGlucoseMin_mgPerdLDate',\n",
       " 'bloodValueTotalCaMin_mgPerdL',\n",
       " 'bloodValueTotalCaMin_mgPerdLDate',\n",
       " 'bloodValueIonCaMin_mgPerdL',\n",
       " 'bloodValueIonCaMin_mgPerdLDate',\n",
       " 'bloodValueASTSGOTMin_UPerL',\n",
       " 'bloodValueASTSGOTMin_UPerLDate',\n",
       " 'bloodValueALTSGPTMin_UPerL',\n",
       " 'bloodValueALTSGPTMin_UPerLDate',\n",
       " 'bloodValueTotalBilirubinMin_mgPerdL',\n",
       " 'bloodValueTotalBilirubinMin_mgPerdLDate',\n",
       " 'bloodValuePHMax',\n",
       " 'bloodValuePHMaxDate',\n",
       " 'bloodValueBaseDeficitMax_mEqPerL',\n",
       " 'bloodValueBaseDeficitMax_mEqPerLDate',\n",
       " 'bloodValueSerumNaMax_mEqPerL',\n",
       " 'bloodValueSerumNaMax_mEqPerLDate',\n",
       " 'bloodValueSerumKMax_mEqPerL',\n",
       " 'bloodValueSerumKMax_mEqPerLDate',\n",
       " 'bloodValueClMax_mEqPerL',\n",
       " 'bloodValueClMax_mEqPerLDate',\n",
       " 'bloodValueBunMax_mgPerdL',\n",
       " 'bloodValueBunMax_mgPerdLDate',\n",
       " 'bloodValueCreatinineMax_mgPerdL',\n",
       " 'bloodValueCreatinineMax_mgPerdLDate',\n",
       " 'bloodValueGlucoseMax_mgPerdL',\n",
       " 'bloodValueGlucoseMax_mgPerdLDate',\n",
       " 'bloodValueTotalCaMax_mgPerdL',\n",
       " 'bloodValueTotalCaMax_mgPerdLDate',\n",
       " 'bloodValueIonCaMax_mgPerdL',\n",
       " 'bloodValueIonCaMax_mgPerdLDate',\n",
       " 'bloodValueASTSGOTMax_UPerL',\n",
       " 'bloodValueASTSGOTMax_UPerLDate',\n",
       " 'bloodValueALTSGPTMax_UPerL',\n",
       " 'bloodValueALTSGPTMax_UPerLDate',\n",
       " 'bloodValueTotalBilirubinMax_mgPerdL',\n",
       " 'bloodValueTotalBilirubinMax_mgPerdLDate']"
      ]
     },
     "execution_count": 116,
     "metadata": {},
     "output_type": "execute_result"
    }
   ],
   "source": [
    "blood_value_columns = COMBINE_harmonizer.get_columns(df_data_dict, 'Intervention', 'Blood Value')\n",
    "all_blood_value_columns = id_columns + blood_value_columns\n",
    "blood_value_columns"
   ]
  },
  {
   "cell_type": "code",
   "execution_count": 117,
   "id": "1b7259f9",
   "metadata": {
    "execution": {
     "iopub.execute_input": "2025-02-04T10:53:55.265221Z",
     "iopub.status.busy": "2025-02-04T10:53:55.265084Z",
     "iopub.status.idle": "2025-02-04T10:53:55.362899Z",
     "shell.execute_reply": "2025-02-04T10:53:55.362351Z"
    }
   },
   "outputs": [],
   "source": [
    "df_main_blood_value = COMBINE_harmonizer.valid_columns(df_main, all_blood_value_columns)\n",
    "df_main_blood_value = COMBINE_harmonizer.postprocess(df_main_blood_value)\n",
    "\n",
    "out_filename = os.sep.join([out_dir, '02-06_s-blood-value.csv'])\n",
    "df_main_blood_value.to_csv(out_filename, index=False)\n"
   ]
  },
  {
   "cell_type": "markdown",
   "id": "d8e2a22a",
   "metadata": {},
   "source": [
    "### 02-06-2. check empty cells"
   ]
  },
  {
   "cell_type": "code",
   "execution_count": 118,
   "id": "55c9c60e",
   "metadata": {
    "execution": {
     "iopub.execute_input": "2025-02-04T10:53:55.365831Z",
     "iopub.status.busy": "2025-02-04T10:53:55.365539Z",
     "iopub.status.idle": "2025-02-04T10:53:55.378766Z",
     "shell.execute_reply": "2025-02-04T10:53:55.378395Z"
    }
   },
   "outputs": [
    {
     "name": "stdout",
     "output_type": "stream",
     "text": [
      "(0/61) column: center (364 / 0)\n",
      "(1/61) column: subjectID (364 / 0)\n",
      "(2/61) column: uniqueID (364 / 0)\n",
      "(3/61) column: bloodValuePHMin (360 / 4)\n",
      "(4/61) column: bloodValuePHMinDate (360 / 4)\n",
      "(5/61) column: bloodValuePHMax (360 / 4)\n",
      "(6/61) column: bloodValuePHMaxDate (360 / 4)\n",
      "(7/61) column: bloodValueHCO3Min_mEqPerL (361 / 3)\n",
      "(8/61) column: bloodValueHCO3Min_mEqPerLDate (361 / 3)\n",
      "(9/61) column: bloodValueBaseDeficitMax_mEqPerL (360 / 4)\n",
      "(10/61) column: bloodValueBaseDeficitMax_mEqPerLDate (360 / 4)\n",
      "(11/61) column: bloodValueSerumNaMin_mEqPerL (363 / 1)\n",
      "(12/61) column: bloodValueSerumNaMin_mEqPerLDate (364 / 0)\n",
      "(13/61) column: bloodValueSerumNaMax_mEqPerL (363 / 1)\n",
      "(14/61) column: bloodValueSerumNaMax_mEqPerLDate (363 / 1)\n",
      "(15/61) column: bloodValueSerumKMin_mEqPerL (363 / 1)\n",
      "(16/61) column: bloodValueSerumKMin_mEqPerLDate (364 / 0)\n",
      "(17/61) column: bloodValueSerumKMax_mEqPerL (362 / 2)\n",
      "(18/61) column: bloodValueSerumKMax_mEqPerLDate (363 / 1)\n",
      "(19/61) column: bloodValueClMin_mEqPerL (363 / 1)\n",
      "(20/61) column: bloodValueClMin_mEqPerLDate (363 / 1)\n",
      "(21/61) column: bloodValueClMax_mEqPerL (362 / 2)\n",
      "(22/61) column: bloodValueClMax_mEqPerLDate (362 / 2)\n",
      "(23/61) column: bloodValueBunBaseline_mgPerdL (307 / 57)\n",
      "(24/61) column: bloodValueBunBaseline_mgPerdLDate (311 / 53)\n",
      "(25/61) column: bloodValueBunMax_mgPerdL (361 / 3)\n",
      "(26/61) column: bloodValueBunMax_mgPerdLDate (361 / 3)\n",
      "(27/61) column: bloodValueCreatinineBaseline_mgPerdL (304 / 60)\n",
      "(28/61) column: bloodValueCreatinineBaseline_mgPerdLDate (308 / 56)\n",
      "(29/61) column: bloodValueCreatinineMax_mgPerdL (361 / 3)\n",
      "(30/61) column: bloodValueCreatinineMax_mgPerdLDate (361 / 3)\n",
      "(31/61) column: bloodValueGlucoseMin_mgPerdL (363 / 1)\n",
      "(32/61) column: bloodValueGlucoseMin_mgPerdLDate (362 / 2)\n",
      "(33/61) column: bloodValueGlucoseMax_mgPerdL (364 / 0)\n",
      "(34/61) column: bloodValueGlucoseMax_mgPerdLDate (363 / 1)\n",
      "(35/61) column: bloodValueTotalCaMin_mgPerdL (332 / 32)\n",
      "(36/61) column: bloodValueTotalCaMin_mgPerdLDate (332 / 32)\n",
      "(37/61) column: bloodValueTotalCaMax_mgPerdL (331 / 33)\n",
      "(38/61) column: bloodValueTotalCaMax_mgPerdLDate (331 / 33)\n",
      "(39/61) column: bloodValueIonCaMin_mgPerdL (260 / 104)\n",
      "(40/61) column: bloodValueIonCaMin_mgPerdLDate (260 / 104)\n",
      "(41/61) column: bloodValueIonCaMax_mgPerdL (253 / 111)\n",
      "(42/61) column: bloodValueIonCaMax_mgPerdLDate (253 / 111)\n",
      "(43/61) column: bloodValueASTSGOTBaseline_UPerL (328 / 36)\n",
      "(44/61) column: bloodValueASTSGOTBaseline_UPerLDate (334 / 30)\n",
      "(45/61) column: bloodValueASTSGOTMin_UPerL (326 / 38)\n",
      "(46/61) column: bloodValueASTSGOTMin_UPerLDate (326 / 38)\n",
      "(47/61) column: bloodValueASTSGOTMax_UPerL (329 / 35)\n",
      "(48/61) column: bloodValueASTSGOTMax_UPerLDate (329 / 35)\n",
      "(49/61) column: bloodValueALTSGPTBaseline_UPerL (331 / 33)\n",
      "(50/61) column: bloodValueALTSGPTBaseline_UPerLDate (335 / 29)\n",
      "(51/61) column: bloodValueALTSGPTMin_UPerL (331 / 33)\n",
      "(52/61) column: bloodValueALTSGPTMin_UPerLDate (331 / 33)\n",
      "(53/61) column: bloodValueALTSGPTMax_UPerL (333 / 31)\n",
      "(54/61) column: bloodValueALTSGPTMax_UPerLDate (333 / 31)\n",
      "(55/61) column: bloodValueTotalBilirubinBaseline_mgPerdL (305 / 59)\n",
      "(56/61) column: bloodValueTotalBilirubinBaseline_mgPerdLDate (306 / 58)\n",
      "(57/61) column: bloodValueTotalBilirubinMin_mgPerdL (346 / 18)\n",
      "(58/61) column: bloodValueTotalBilirubinMin_mgPerdLDate (346 / 18)\n",
      "(59/61) column: bloodValueTotalBilirubinMax_mgPerdL (349 / 15)\n",
      "(60/61) column: bloodValueTotalBilirubinMax_mgPerdLDate (349 / 15)\n"
     ]
    }
   ],
   "source": [
    "COMBINE_harmonizer.check_empty(df_main_blood_value)"
   ]
  },
  {
   "cell_type": "code",
   "execution_count": 119,
   "id": "b18ad6c8",
   "metadata": {
    "execution": {
     "iopub.execute_input": "2025-02-04T10:53:55.380661Z",
     "iopub.status.busy": "2025-02-04T10:53:55.380479Z",
     "iopub.status.idle": "2025-02-04T10:53:55.387177Z",
     "shell.execute_reply": "2025-02-04T10:53:55.386863Z"
    }
   },
   "outputs": [
    {
     "name": "stdout",
     "output_type": "stream",
     "text": [
      "(0/61) center: (364/0)\n",
      "(1/61) subjectID: (364/0)\n",
      "(2/61) uniqueID: (364/0)\n",
      "(3/61) bloodValuePHMin: (360/4)\n",
      "(4/61) bloodValuePHMinDate: (360/4)\n",
      "(5/61) bloodValuePHMax: (360/4)\n",
      "(6/61) bloodValuePHMaxDate: (360/4)\n",
      "(7/61) bloodValueHCO3Min_mEqPerL: (361/3)\n",
      "(8/61) bloodValueHCO3Min_mEqPerLDate: (361/3)\n",
      "(9/61) bloodValueBaseDeficitMax_mEqPerL: (360/4)\n",
      "(10/61) bloodValueBaseDeficitMax_mEqPerLDate: (360/4)\n",
      "(11/61) bloodValueSerumNaMin_mEqPerL: (363/1)\n",
      "(12/61) bloodValueSerumNaMin_mEqPerLDate: (364/0)\n",
      "(13/61) bloodValueSerumNaMax_mEqPerL: (363/1)\n",
      "(14/61) bloodValueSerumNaMax_mEqPerLDate: (363/1)\n",
      "(15/61) bloodValueSerumKMin_mEqPerL: (363/1)\n",
      "(16/61) bloodValueSerumKMin_mEqPerLDate: (364/0)\n",
      "(17/61) bloodValueSerumKMax_mEqPerL: (362/2)\n",
      "(18/61) bloodValueSerumKMax_mEqPerLDate: (363/1)\n",
      "(19/61) bloodValueClMin_mEqPerL: (363/1)\n",
      "(20/61) bloodValueClMin_mEqPerLDate: (363/1)\n",
      "(21/61) bloodValueClMax_mEqPerL: (362/2)\n",
      "(22/61) bloodValueClMax_mEqPerLDate: (362/2)\n",
      "(23/61) bloodValueBunBaseline_mgPerdL: (307/57)\n",
      "(24/61) bloodValueBunBaseline_mgPerdLDate: (311/53)\n",
      "(25/61) bloodValueBunMax_mgPerdL: (361/3)\n",
      "(26/61) bloodValueBunMax_mgPerdLDate: (361/3)\n",
      "(27/61) bloodValueCreatinineBaseline_mgPerdL: (304/60)\n",
      "(28/61) bloodValueCreatinineBaseline_mgPerdLDate: (308/56)\n",
      "(29/61) bloodValueCreatinineMax_mgPerdL: (361/3)\n",
      "(30/61) bloodValueCreatinineMax_mgPerdLDate: (361/3)\n",
      "(31/61) bloodValueGlucoseMin_mgPerdL: (363/1)\n",
      "(32/61) bloodValueGlucoseMin_mgPerdLDate: (362/2)\n",
      "(33/61) bloodValueGlucoseMax_mgPerdL: (364/0)\n",
      "(34/61) bloodValueGlucoseMax_mgPerdLDate: (363/1)\n",
      "(35/61) bloodValueTotalCaMin_mgPerdL: (332/32)\n",
      "(36/61) bloodValueTotalCaMin_mgPerdLDate: (332/32)\n",
      "(37/61) bloodValueTotalCaMax_mgPerdL: (331/33)\n",
      "(38/61) bloodValueTotalCaMax_mgPerdLDate: (331/33)\n",
      "(39/61) bloodValueIonCaMin_mgPerdL: (260/104)\n",
      "(40/61) bloodValueIonCaMin_mgPerdLDate: (260/104)\n",
      "(41/61) bloodValueIonCaMax_mgPerdL: (253/111)\n",
      "(42/61) bloodValueIonCaMax_mgPerdLDate: (253/111)\n",
      "(43/61) bloodValueASTSGOTBaseline_UPerL: (328/36)\n",
      "(44/61) bloodValueASTSGOTBaseline_UPerLDate: (334/30)\n",
      "(45/61) bloodValueASTSGOTMin_UPerL: (326/38)\n",
      "(46/61) bloodValueASTSGOTMin_UPerLDate: (326/38)\n",
      "(47/61) bloodValueASTSGOTMax_UPerL: (329/35)\n",
      "(48/61) bloodValueASTSGOTMax_UPerLDate: (329/35)\n",
      "(49/61) bloodValueALTSGPTBaseline_UPerL: (331/33)\n",
      "(50/61) bloodValueALTSGPTBaseline_UPerLDate: (335/29)\n",
      "(51/61) bloodValueALTSGPTMin_UPerL: (331/33)\n",
      "(52/61) bloodValueALTSGPTMin_UPerLDate: (331/33)\n",
      "(53/61) bloodValueALTSGPTMax_UPerL: (333/31)\n",
      "(54/61) bloodValueALTSGPTMax_UPerLDate: (333/31)\n",
      "(55/61) bloodValueTotalBilirubinBaseline_mgPerdL: (305/59)\n",
      "(56/61) bloodValueTotalBilirubinBaseline_mgPerdLDate: (306/58)\n",
      "(57/61) bloodValueTotalBilirubinMin_mgPerdL: (346/18)\n",
      "(58/61) bloodValueTotalBilirubinMin_mgPerdLDate: (346/18)\n",
      "(59/61) bloodValueTotalBilirubinMax_mgPerdL: (349/15)\n",
      "(60/61) bloodValueTotalBilirubinMax_mgPerdLDate: (349/15)\n"
     ]
    }
   ],
   "source": [
    "COMBINE_harmonizer.column_info(df_main_blood_value)"
   ]
  },
  {
   "cell_type": "markdown",
   "id": "a6bfd200",
   "metadata": {},
   "source": [
    "## 02-07. infection"
   ]
  },
  {
   "cell_type": "code",
   "execution_count": 120,
   "id": "c1a850b4",
   "metadata": {
    "execution": {
     "iopub.execute_input": "2025-02-04T10:53:55.389041Z",
     "iopub.status.busy": "2025-02-04T10:53:55.388883Z",
     "iopub.status.idle": "2025-02-04T10:53:55.392367Z",
     "shell.execute_reply": "2025-02-04T10:53:55.391997Z"
    }
   },
   "outputs": [
    {
     "data": {
      "text/plain": [
       "['positiveCultureNumber',\n",
       " 'positiveCulture',\n",
       " 'positiveCultureSrc',\n",
       " 'positiveCultureDate',\n",
       " 'positiveCultureTime',\n",
       " 'positiveCultureOrganismCode1',\n",
       " 'positiveCultureOrganismCode2',\n",
       " 'positiveCultureOrganismCode3',\n",
       " 'antibiotics',\n",
       " 'antibioticsCode1',\n",
       " 'antibioticsCode2',\n",
       " 'antibioticsCode3',\n",
       " 'rewarmingAntibiotics',\n",
       " 'rewarmingAntibioticsCode1',\n",
       " 'rewarmingAntibioticsCode2',\n",
       " 'rewarmingAntibioticsCode3']"
      ]
     },
     "execution_count": 120,
     "metadata": {},
     "output_type": "execute_result"
    }
   ],
   "source": [
    "infection_columns = COMBINE_harmonizer.get_columns(df_data_dict, 'Intervention', 'Infection')\n",
    "all_infection_columns = id_columns + infection_columns\n",
    "infection_columns"
   ]
  },
  {
   "cell_type": "code",
   "execution_count": 121,
   "id": "598ca18f",
   "metadata": {
    "execution": {
     "iopub.execute_input": "2025-02-04T10:53:55.393827Z",
     "iopub.status.busy": "2025-02-04T10:53:55.393722Z",
     "iopub.status.idle": "2025-02-04T10:53:55.468255Z",
     "shell.execute_reply": "2025-02-04T10:53:55.467837Z"
    }
   },
   "outputs": [
    {
     "name": "stdout",
     "output_type": "stream",
     "text": [
      "(3/18) positiveCulture not in df\n"
     ]
    }
   ],
   "source": [
    "df_infection_1 = df_dict['oc09i.csv'].copy()\n",
    "df_infection_2 = df_dict['oc09.csv'].copy()\n",
    "df_infection = df_infection_1.merge(df_infection_2, on=['center', 'subjectID'], how='outer')\n",
    "df_infection = COMBINE_harmonizer.valid_columns(df_infection, all_infection_columns)\n",
    "df_infection = COMBINE_harmonizer.postprocess(df_infection)\n",
    "\n",
    "### XXX positive culture number as 1\n",
    "df_infection['positiveCultureNumber'] = 1\n",
    "\n",
    "out_filename = os.sep.join([out_dir, '02-07-infection.csv'])\n",
    "df_infection.to_csv(out_filename, index=False)"
   ]
  },
  {
   "cell_type": "markdown",
   "id": "57d488c7",
   "metadata": {},
   "source": [
    "### 02-07-1. check infection"
   ]
  },
  {
   "cell_type": "code",
   "execution_count": 122,
   "id": "4ef4947b",
   "metadata": {
    "execution": {
     "iopub.execute_input": "2025-02-04T10:53:55.470830Z",
     "iopub.status.busy": "2025-02-04T10:53:55.470619Z",
     "iopub.status.idle": "2025-02-04T10:53:55.478339Z",
     "shell.execute_reply": "2025-02-04T10:53:55.477977Z"
    }
   },
   "outputs": [
    {
     "data": {
      "text/html": [
       "<div>\n",
       "<style scoped>\n",
       "    .dataframe tbody tr th:only-of-type {\n",
       "        vertical-align: middle;\n",
       "    }\n",
       "\n",
       "    .dataframe tbody tr th {\n",
       "        vertical-align: top;\n",
       "    }\n",
       "\n",
       "    .dataframe thead th {\n",
       "        text-align: right;\n",
       "    }\n",
       "</style>\n",
       "<table border=\"1\" class=\"dataframe\">\n",
       "  <thead>\n",
       "    <tr style=\"text-align: right;\">\n",
       "      <th></th>\n",
       "      <th>_count</th>\n",
       "    </tr>\n",
       "    <tr>\n",
       "      <th>uniqueID</th>\n",
       "      <th></th>\n",
       "    </tr>\n",
       "  </thead>\n",
       "  <tbody>\n",
       "  </tbody>\n",
       "</table>\n",
       "</div>"
      ],
      "text/plain": [
       "Empty DataFrame\n",
       "Columns: [_count]\n",
       "Index: []"
      ]
     },
     "execution_count": 122,
     "metadata": {},
     "output_type": "execute_result"
    }
   ],
   "source": [
    "df_infection_groupby = df_infection.groupby(['uniqueID']).agg(_count=('uniqueID', 'count'))\n",
    "\n",
    "is_invalid = df_infection_groupby['_count'] > 1\n",
    "df_infection_groupby[is_invalid]"
   ]
  },
  {
   "cell_type": "markdown",
   "id": "0f9287d1",
   "metadata": {},
   "source": [
    "### 02-07-2. check empty cells"
   ]
  },
  {
   "cell_type": "code",
   "execution_count": 123,
   "id": "cf3773bd",
   "metadata": {
    "execution": {
     "iopub.execute_input": "2025-02-04T10:53:55.480408Z",
     "iopub.status.busy": "2025-02-04T10:53:55.480224Z",
     "iopub.status.idle": "2025-02-04T10:53:55.485099Z",
     "shell.execute_reply": "2025-02-04T10:53:55.484779Z"
    }
   },
   "outputs": [
    {
     "name": "stdout",
     "output_type": "stream",
     "text": [
      "(0/18) column: center (364 / 0)\n",
      "(1/18) column: subjectID (364 / 0)\n",
      "(2/18) column: uniqueID (364 / 0)\n",
      "(3/18) column: positiveCultureNumber (364 / 0)\n",
      "(4/18) column: positiveCultureSrc (5 / 359)\n",
      "(5/18) column: positiveCultureDate (5 / 359)\n",
      "(6/18) column: positiveCultureTime (5 / 359)\n",
      "(7/18) column: positiveCultureOrganismCode1 (5 / 359)\n",
      "(8/18) column: positiveCultureOrganismCode2 (0 / 364)\n",
      "(9/18) column: positiveCultureOrganismCode3 (0 / 364)\n",
      "(10/18) column: antibiotics (364 / 0)\n",
      "(11/18) column: rewarmingAntibiotics (364 / 0)\n",
      "(12/18) column: antibioticsCode1 (152 / 212)\n",
      "(13/18) column: antibioticsCode2 (88 / 276)\n",
      "(14/18) column: antibioticsCode3 (14 / 350)\n",
      "(15/18) column: rewarmingAntibioticsCode1 (16 / 348)\n",
      "(16/18) column: rewarmingAntibioticsCode2 (5 / 359)\n",
      "(17/18) column: rewarmingAntibioticsCode3 (0 / 364)\n"
     ]
    }
   ],
   "source": [
    "COMBINE_harmonizer.check_empty(df_infection)"
   ]
  },
  {
   "cell_type": "code",
   "execution_count": 124,
   "id": "47e2fd09",
   "metadata": {
    "execution": {
     "iopub.execute_input": "2025-02-04T10:53:55.486808Z",
     "iopub.status.busy": "2025-02-04T10:53:55.486648Z",
     "iopub.status.idle": "2025-02-04T10:53:55.490047Z",
     "shell.execute_reply": "2025-02-04T10:53:55.489696Z"
    }
   },
   "outputs": [
    {
     "name": "stdout",
     "output_type": "stream",
     "text": [
      "(0/18) center: (364/0)\n",
      "(1/18) subjectID: (364/0)\n",
      "(2/18) uniqueID: (364/0)\n",
      "(3/18) positiveCultureNumber: (364/0)\n",
      "(4/18) positiveCultureSrc: (5/359)\n",
      "(5/18) positiveCultureDate: (5/359)\n",
      "(6/18) positiveCultureTime: (5/359)\n",
      "(7/18) positiveCultureOrganismCode1: (5/359)\n",
      "(8/18) positiveCultureOrganismCode2: (0/364)\n",
      "(9/18) positiveCultureOrganismCode3: (0/364)\n",
      "(10/18) antibiotics: (364/0)\n",
      "(11/18) rewarmingAntibiotics: (364/0)\n",
      "(12/18) antibioticsCode1: (152/212)\n",
      "(13/18) antibioticsCode2: (88/276)\n",
      "(14/18) antibioticsCode3: (14/350)\n",
      "(15/18) rewarmingAntibioticsCode1: (16/348)\n",
      "(16/18) rewarmingAntibioticsCode2: (5/359)\n",
      "(17/18) rewarmingAntibioticsCode3: (0/364)\n"
     ]
    }
   ],
   "source": [
    "COMBINE_harmonizer.column_info(df_infection)"
   ]
  },
  {
   "cell_type": "markdown",
   "id": "519bddc2-506e-4d02-ad7c-b7251d90591e",
   "metadata": {},
   "source": [
    "## 02-08. other-med"
   ]
  },
  {
   "cell_type": "code",
   "execution_count": 125,
   "id": "e2ed7e2e-e6d7-42de-a548-364d5ba856e1",
   "metadata": {
    "execution": {
     "iopub.execute_input": "2025-02-04T10:53:55.491735Z",
     "iopub.status.busy": "2025-02-04T10:53:55.491617Z",
     "iopub.status.idle": "2025-02-04T10:53:55.494748Z",
     "shell.execute_reply": "2025-02-04T10:53:55.494444Z"
    }
   },
   "outputs": [
    {
     "data": {
      "text/plain": [
       "['otherMedTimeSlot',\n",
       " 'otherMedTargetDate',\n",
       " 'otherMedTargetTime',\n",
       " 'anticonvulsants',\n",
       " 'anticonvulsants1',\n",
       " 'anticonvulsants2',\n",
       " 'anticonvulsants3',\n",
       " 'analgesics',\n",
       " 'analgesicsSedatives1',\n",
       " 'analgesicsSedatives2',\n",
       " 'analgesicsSedatives3',\n",
       " 'antipyretics',\n",
       " 'antipyretics1',\n",
       " 'antipyretics2',\n",
       " 'antipyretics3',\n",
       " 'paralytics',\n",
       " 'paralytics1',\n",
       " 'paralytics2',\n",
       " 'paralytics3',\n",
       " 'otherMedFluidIntake_ccPerKg',\n",
       " 'otherMedUrineOutput_ccPerKg']"
      ]
     },
     "execution_count": 125,
     "metadata": {},
     "output_type": "execute_result"
    }
   ],
   "source": [
    "other_med_columns = COMBINE_harmonizer.get_columns(df_data_dict, 'Intervention', 'Other Medication')\n",
    "all_other_med_columns = id_columns + other_med_columns\n",
    "other_med_columns"
   ]
  },
  {
   "cell_type": "code",
   "execution_count": 126,
   "id": "3bc10134-70d8-425d-84f7-a56ddd426a44",
   "metadata": {
    "execution": {
     "iopub.execute_input": "2025-02-04T10:53:55.496301Z",
     "iopub.status.busy": "2025-02-04T10:53:55.496164Z",
     "iopub.status.idle": "2025-02-04T10:53:55.588117Z",
     "shell.execute_reply": "2025-02-04T10:53:55.587746Z"
    }
   },
   "outputs": [
    {
     "name": "stdout",
     "output_type": "stream",
     "text": [
      "(1/37) hematology not in columns\n",
      "(2/37) REC_CMP not in columns\n",
      "(5/37) respiratoryDate not in columns\n",
      "(6/37) respiratoryTime not in columns\n",
      "(7/37) respiratorySupportType not in columns\n",
      "(8/37) respiratoryFiO2 not in columns\n",
      "(9/37) respiratoryRate_Hz not in columns\n",
      "(10/37) respiratoryPIP_cmH2O not in columns\n",
      "(11/37) respiratoryMAP_cmH2O not in columns\n",
      "(12/37) respiratoryPEEP_cmH2O not in columns\n",
      "(13/37) hematologyWBC not in columns\n",
      "(14/37) hematologyHemoglobin not in columns\n",
      "(15/37) hematologyPolymorphNeutrophilsDifferentialCount not in columns\n",
      "(16/37) hematologyMonocytes not in columns\n",
      "(17/37) hematologyLymphocytes not in columns\n",
      "(18/37) hematologyPlateletCount not in columns\n",
      "(19/37) hematologyPT_s not in columns\n",
      "(20/37) hematologyPTT_s not in columns\n",
      "(35/37) CMP_DATE not in columns\n",
      "(36/37) CRT_DATE not in columns\n",
      "(3/23) otherMedTargetDate not in df\n",
      "(4/23) otherMedTargetTime not in df\n",
      "(5/23) anticonvulsants not in df\n",
      "(9/23) analgesics not in df\n",
      "(13/23) antipyretics not in df\n",
      "(17/23) paralytics not in df\n"
     ]
    }
   ],
   "source": [
    "df_other_med = df_dict['oc08.csv'].copy().rename(columns={'respiratoryTimeSlot': 'otherMedTimeSlot'})\n",
    "\n",
    "other_med_time_slot_int = df_other_med['otherMedTimeSlot'].apply(COMBINE_harmonizer.to_int)\n",
    "is_pre = other_med_time_slot_int == 0\n",
    "is_intervention = is_pre == False\n",
    "# after_baseline\n",
    "df_other_med = df_other_med[is_intervention]\n",
    "\n",
    "df_other_med = COMBINE_harmonizer.valid_columns(df_other_med, all_other_med_columns, debug_df=True, debug_columns=True)\n",
    "df_other_med = COMBINE_harmonizer.postprocess(df_other_med)\n",
    "\n",
    "out_filename = os.sep.join([out_dir, '02-08-other-med.csv'])\n",
    "df_other_med.to_csv(out_filename, index=False)"
   ]
  },
  {
   "cell_type": "markdown",
   "id": "fe878ba6-3767-45e3-952f-009cabbe0d25",
   "metadata": {},
   "source": [
    "### 02-08-1. check other-med"
   ]
  },
  {
   "cell_type": "code",
   "execution_count": 127,
   "id": "f46ef718-03ca-48ce-9f89-31719d0d5b83",
   "metadata": {
    "execution": {
     "iopub.execute_input": "2025-02-04T10:53:55.590174Z",
     "iopub.status.busy": "2025-02-04T10:53:55.589998Z",
     "iopub.status.idle": "2025-02-04T10:53:55.597454Z",
     "shell.execute_reply": "2025-02-04T10:53:55.597102Z"
    }
   },
   "outputs": [
    {
     "data": {
      "text/html": [
       "<div>\n",
       "<style scoped>\n",
       "    .dataframe tbody tr th:only-of-type {\n",
       "        vertical-align: middle;\n",
       "    }\n",
       "\n",
       "    .dataframe tbody tr th {\n",
       "        vertical-align: top;\n",
       "    }\n",
       "\n",
       "    .dataframe thead th {\n",
       "        text-align: right;\n",
       "    }\n",
       "</style>\n",
       "<table border=\"1\" class=\"dataframe\">\n",
       "  <thead>\n",
       "    <tr style=\"text-align: right;\">\n",
       "      <th></th>\n",
       "      <th></th>\n",
       "      <th>_count</th>\n",
       "    </tr>\n",
       "    <tr>\n",
       "      <th>uniqueID</th>\n",
       "      <th>otherMedTimeSlot</th>\n",
       "      <th></th>\n",
       "    </tr>\n",
       "  </thead>\n",
       "  <tbody>\n",
       "  </tbody>\n",
       "</table>\n",
       "</div>"
      ],
      "text/plain": [
       "Empty DataFrame\n",
       "Columns: [_count]\n",
       "Index: []"
      ]
     },
     "execution_count": 127,
     "metadata": {},
     "output_type": "execute_result"
    }
   ],
   "source": [
    "df_other_med_groupby = df_other_med.groupby(['uniqueID', 'otherMedTimeSlot']).agg(_count=('uniqueID', 'count'))\n",
    "\n",
    "\n",
    "is_invalid = df_other_med_groupby['_count'] > 1\n",
    "df_other_med_groupby[is_invalid]"
   ]
  },
  {
   "cell_type": "markdown",
   "id": "02491412-5c85-4732-b180-51588dd433e4",
   "metadata": {},
   "source": [
    "### 02-08-2. check empty cells"
   ]
  },
  {
   "cell_type": "code",
   "execution_count": 128,
   "id": "faae66e8-8577-4b13-b21a-fa89cf8d1816",
   "metadata": {
    "execution": {
     "iopub.execute_input": "2025-02-04T10:53:55.599285Z",
     "iopub.status.busy": "2025-02-04T10:53:55.599125Z",
     "iopub.status.idle": "2025-02-04T10:53:55.604887Z",
     "shell.execute_reply": "2025-02-04T10:53:55.604610Z"
    }
   },
   "outputs": [
    {
     "name": "stdout",
     "output_type": "stream",
     "text": [
      "(0/18) column: center (1979 / 0)\n",
      "(1/18) column: subjectID (1979 / 0)\n",
      "(2/18) column: uniqueID (1979 / 0)\n",
      "(3/18) column: otherMedTimeSlot (1979 / 0)\n",
      "(4/18) column: anticonvulsants1 (628 / 1351)\n",
      "(5/18) column: anticonvulsants2 (106 / 1873)\n",
      "(6/18) column: anticonvulsants3 (12 / 1967)\n",
      "(7/18) column: analgesicsSedatives1 (852 / 1127)\n",
      "(8/18) column: analgesicsSedatives2 (279 / 1700)\n",
      "(9/18) column: analgesicsSedatives3 (20 / 1959)\n",
      "(10/18) column: antipyretics1 (9 / 1970)\n",
      "(11/18) column: antipyretics2 (0 / 1979)\n",
      "(12/18) column: antipyretics3 (0 / 1979)\n",
      "(13/18) column: paralytics1 (64 / 1915)\n",
      "(14/18) column: paralytics2 (1 / 1978)\n",
      "(15/18) column: paralytics3 (0 / 1979)\n",
      "(16/18) column: otherMedFluidIntake_ccPerKg (1606 / 373)\n",
      "(17/18) column: otherMedUrineOutput_ccPerKg (1603 / 376)\n"
     ]
    }
   ],
   "source": [
    "COMBINE_harmonizer.check_empty(df_other_med)"
   ]
  },
  {
   "cell_type": "code",
   "execution_count": 129,
   "id": "443d52af-f7d5-42d8-88ce-1cae051202e8",
   "metadata": {
    "execution": {
     "iopub.execute_input": "2025-02-04T10:53:55.606367Z",
     "iopub.status.busy": "2025-02-04T10:53:55.606257Z",
     "iopub.status.idle": "2025-02-04T10:53:55.610081Z",
     "shell.execute_reply": "2025-02-04T10:53:55.609781Z"
    }
   },
   "outputs": [
    {
     "name": "stdout",
     "output_type": "stream",
     "text": [
      "(0/18) center: (1979/0)\n",
      "(1/18) subjectID: (1979/0)\n",
      "(2/18) uniqueID: (1979/0)\n",
      "(3/18) otherMedTimeSlot: (1979/0)\n",
      "(4/18) anticonvulsants1: (628/1351)\n",
      "(5/18) anticonvulsants2: (106/1873)\n",
      "(6/18) anticonvulsants3: (12/1967)\n",
      "(7/18) analgesicsSedatives1: (852/1127)\n",
      "(8/18) analgesicsSedatives2: (279/1700)\n",
      "(9/18) analgesicsSedatives3: (20/1959)\n",
      "(10/18) antipyretics1: (9/1970)\n",
      "(11/18) antipyretics2: (0/1979)\n",
      "(12/18) antipyretics3: (0/1979)\n",
      "(13/18) paralytics1: (64/1915)\n",
      "(14/18) paralytics2: (1/1978)\n",
      "(15/18) paralytics3: (0/1979)\n",
      "(16/18) otherMedFluidIntake_ccPerKg: (1606/373)\n",
      "(17/18) otherMedUrineOutput_ccPerKg: (1603/376)\n"
     ]
    }
   ],
   "source": [
    "COMBINE_harmonizer.column_info(df_other_med)"
   ]
  },
  {
   "cell_type": "markdown",
   "id": "47fc2a14-ac50-431a-8ea6-4284dcd05b61",
   "metadata": {},
   "source": [
    "## 02-09. imaging"
   ]
  },
  {
   "cell_type": "code",
   "execution_count": 130,
   "id": "83c87148-f938-4764-98e4-bd309eee2fda",
   "metadata": {
    "execution": {
     "iopub.execute_input": "2025-02-04T10:53:55.611527Z",
     "iopub.status.busy": "2025-02-04T10:53:55.611430Z",
     "iopub.status.idle": "2025-02-04T10:53:55.614460Z",
     "shell.execute_reply": "2025-02-04T10:53:55.614205Z"
    }
   },
   "outputs": [
    {
     "data": {
      "text/plain": [
       "['imagingTimeSlot',\n",
       " 'headSonogram',\n",
       " 'headSonogramDate',\n",
       " 'headSonogramTime',\n",
       " 'headSonogramResult1',\n",
       " 'headSonogramResult2',\n",
       " 'headSonogramResult3',\n",
       " 'headSonogramResult4',\n",
       " 'headSonogramResult5',\n",
       " 'headSonogramResult6',\n",
       " 'headSonogramResult7',\n",
       " 'headSonogramResult8',\n",
       " 'headSonogramResultText',\n",
       " 'headCT',\n",
       " 'headCTDate',\n",
       " 'headCTTime',\n",
       " 'headCTResult1',\n",
       " 'headCTResult2',\n",
       " 'headCTResult3',\n",
       " 'headCTResult4',\n",
       " 'headCTResult5',\n",
       " 'headCTResult6',\n",
       " 'headCTResult7',\n",
       " 'headCTResult8',\n",
       " 'headCTResultText',\n",
       " 'brainMRI',\n",
       " 'brainMRIDate',\n",
       " 'brainMRITime',\n",
       " 'brainMRIResult1',\n",
       " 'brainMRIResult2',\n",
       " 'brainMRIResult3',\n",
       " 'brainMRIResult4',\n",
       " 'brainMRIResult5',\n",
       " 'brainMRIResult6',\n",
       " 'brainMRIResult7',\n",
       " 'brainMRIResult8',\n",
       " 'brainMRIResultText']"
      ]
     },
     "execution_count": 130,
     "metadata": {},
     "output_type": "execute_result"
    }
   ],
   "source": [
    "imaging_columns = COMBINE_harmonizer.get_columns(df_data_dict, 'Intervention', 'Imaging')\n",
    "all_imaging_columns = id_columns + imaging_columns\n",
    "imaging_columns"
   ]
  },
  {
   "cell_type": "code",
   "execution_count": 131,
   "id": "aecdc0f5",
   "metadata": {
    "execution": {
     "iopub.execute_input": "2025-02-04T10:53:55.615832Z",
     "iopub.status.busy": "2025-02-04T10:53:55.615737Z",
     "iopub.status.idle": "2025-02-04T10:53:55.677429Z",
     "shell.execute_reply": "2025-02-04T10:53:55.676375Z"
    }
   },
   "outputs": [
    {
     "name": "stdout",
     "output_type": "stream",
     "text": [
      "(7/42) REC_CMP not in columns\n",
      "(40/42) CMP_DATE not in columns\n",
      "(41/42) CRT_DATE not in columns\n"
     ]
    }
   ],
   "source": [
    "df_imaging = df_dict['oc12.csv'].copy()\n",
    "\n",
    "imaging_time_slot_int = df_imaging['imagingTimeSlot'].apply(COMBINE_harmonizer.to_int)\n",
    "is_pre = imaging_time_slot_int == 1\n",
    "is_post = imaging_time_slot_int == 3\n",
    "is_intervention = (is_pre == False) & (is_post == False)\n",
    "df_imaging = df_imaging[is_intervention]\n",
    "\n",
    "df_imaging = COMBINE_harmonizer.valid_columns(df_imaging, all_valid_columns, debug_df=True, debug_columns=False)\n",
    "df_imaging = COMBINE_harmonizer.postprocess(df_imaging)\n",
    "out_filename = os.sep.join([out_dir, '02-09-imaging.csv'])\n",
    "df_imaging.to_csv(out_filename, index=False)"
   ]
  },
  {
   "cell_type": "markdown",
   "id": "ec6f83e4-f01c-4c19-a93a-2f715230dbdb",
   "metadata": {},
   "source": [
    "### 02-09-1. check imaging"
   ]
  },
  {
   "cell_type": "code",
   "execution_count": 132,
   "id": "2da37526-c186-40e5-ac89-15c9fc165cf9",
   "metadata": {
    "execution": {
     "iopub.execute_input": "2025-02-04T10:53:55.679333Z",
     "iopub.status.busy": "2025-02-04T10:53:55.679181Z",
     "iopub.status.idle": "2025-02-04T10:53:55.684779Z",
     "shell.execute_reply": "2025-02-04T10:53:55.684517Z"
    }
   },
   "outputs": [
    {
     "data": {
      "text/html": [
       "<div>\n",
       "<style scoped>\n",
       "    .dataframe tbody tr th:only-of-type {\n",
       "        vertical-align: middle;\n",
       "    }\n",
       "\n",
       "    .dataframe tbody tr th {\n",
       "        vertical-align: top;\n",
       "    }\n",
       "\n",
       "    .dataframe thead th {\n",
       "        text-align: right;\n",
       "    }\n",
       "</style>\n",
       "<table border=\"1\" class=\"dataframe\">\n",
       "  <thead>\n",
       "    <tr style=\"text-align: right;\">\n",
       "      <th></th>\n",
       "      <th></th>\n",
       "      <th>_count</th>\n",
       "    </tr>\n",
       "    <tr>\n",
       "      <th>uniqueID</th>\n",
       "      <th>imagingTimeSlot</th>\n",
       "      <th></th>\n",
       "    </tr>\n",
       "  </thead>\n",
       "  <tbody>\n",
       "  </tbody>\n",
       "</table>\n",
       "</div>"
      ],
      "text/plain": [
       "Empty DataFrame\n",
       "Columns: [_count]\n",
       "Index: []"
      ]
     },
     "execution_count": 132,
     "metadata": {},
     "output_type": "execute_result"
    }
   ],
   "source": [
    "df_imaging_groupby = df_imaging.groupby(['uniqueID', 'imagingTimeSlot']).agg(_count=('uniqueID', 'count'))\n",
    "\n",
    "is_invalid = df_imaging_groupby['_count'] > 1\n",
    "df_imaging_groupby[is_invalid]"
   ]
  },
  {
   "cell_type": "markdown",
   "id": "fbbf3777-1e43-4785-a88e-893bcbecef32",
   "metadata": {},
   "source": [
    "### 02-09-2. check empty cells"
   ]
  },
  {
   "cell_type": "code",
   "execution_count": 133,
   "id": "63d20299-96b3-43a3-bdcd-f9b2f7dc9530",
   "metadata": {
    "execution": {
     "iopub.execute_input": "2025-02-04T10:53:55.686282Z",
     "iopub.status.busy": "2025-02-04T10:53:55.686143Z",
     "iopub.status.idle": "2025-02-04T10:53:55.691883Z",
     "shell.execute_reply": "2025-02-04T10:53:55.691627Z"
    }
   },
   "outputs": [
    {
     "name": "stdout",
     "output_type": "stream",
     "text": [
      "(0/40) column: center (357 / 0)\n",
      "(1/40) column: subjectID (357 / 0)\n",
      "(2/40) column: uniqueID (357 / 0)\n",
      "(3/40) column: headSonogram (357 / 0)\n",
      "(4/40) column: headSonogramResultText (23 / 334)\n",
      "(5/40) column: headCT (357 / 0)\n",
      "(6/40) column: headCTResultText (0 / 357)\n",
      "(7/40) column: brainMRI (357 / 0)\n",
      "(8/40) column: brainMRIResultText (0 / 357)\n",
      "(9/40) column: imagingTimeSlot (357 / 0)\n",
      "(10/40) column: headSonogramDate (176 / 181)\n",
      "(11/40) column: headSonogramTime (174 / 183)\n",
      "(12/40) column: headSonogramResult1 (174 / 183)\n",
      "(13/40) column: headSonogramResult2 (25 / 332)\n",
      "(14/40) column: headSonogramResult3 (3 / 354)\n",
      "(15/40) column: headSonogramResult4 (0 / 357)\n",
      "(16/40) column: headSonogramResult5 (0 / 357)\n",
      "(17/40) column: headSonogramResult6 (0 / 357)\n",
      "(18/40) column: headSonogramResult7 (0 / 357)\n",
      "(19/40) column: headSonogramResult8 (0 / 357)\n",
      "(20/40) column: headCTDate (2 / 355)\n",
      "(21/40) column: headCTTime (2 / 355)\n",
      "(22/40) column: headCTResult1 (2 / 355)\n",
      "(23/40) column: headCTResult2 (0 / 357)\n",
      "(24/40) column: headCTResult3 (0 / 357)\n",
      "(25/40) column: headCTResult4 (0 / 357)\n",
      "(26/40) column: headCTResult5 (0 / 357)\n",
      "(27/40) column: headCTResult6 (0 / 357)\n",
      "(28/40) column: headCTResult7 (0 / 357)\n",
      "(29/40) column: headCTResult8 (0 / 357)\n",
      "(30/40) column: brainMRIDate (1 / 356)\n",
      "(31/40) column: brainMRITime (1 / 356)\n",
      "(32/40) column: brainMRIResult1 (1 / 356)\n",
      "(33/40) column: brainMRIResult2 (1 / 356)\n",
      "(34/40) column: brainMRIResult3 (1 / 356)\n",
      "(35/40) column: brainMRIResult4 (1 / 356)\n",
      "(36/40) column: brainMRIResult5 (0 / 357)\n",
      "(37/40) column: brainMRIResult6 (0 / 357)\n",
      "(38/40) column: brainMRIResult7 (0 / 357)\n",
      "(39/40) column: brainMRIResult8 (0 / 357)\n"
     ]
    }
   ],
   "source": [
    "COMBINE_harmonizer.check_empty(df_imaging)"
   ]
  },
  {
   "cell_type": "code",
   "execution_count": 134,
   "id": "a670d653-e539-446f-95b0-7b196fa58b6f",
   "metadata": {
    "execution": {
     "iopub.execute_input": "2025-02-04T10:53:55.693418Z",
     "iopub.status.busy": "2025-02-04T10:53:55.693307Z",
     "iopub.status.idle": "2025-02-04T10:53:55.697227Z",
     "shell.execute_reply": "2025-02-04T10:53:55.696946Z"
    }
   },
   "outputs": [
    {
     "name": "stdout",
     "output_type": "stream",
     "text": [
      "(0/40) center: (357/0)\n",
      "(1/40) subjectID: (357/0)\n",
      "(2/40) uniqueID: (357/0)\n",
      "(3/40) headSonogram: (357/0)\n",
      "(4/40) headSonogramResultText: (23/334)\n",
      "(5/40) headCT: (357/0)\n",
      "(6/40) headCTResultText: (0/357)\n",
      "(7/40) brainMRI: (357/0)\n",
      "(8/40) brainMRIResultText: (0/357)\n",
      "(9/40) imagingTimeSlot: (357/0)\n",
      "(10/40) headSonogramDate: (176/181)\n",
      "(11/40) headSonogramTime: (174/183)\n",
      "(12/40) headSonogramResult1: (174/183)\n",
      "(13/40) headSonogramResult2: (25/332)\n",
      "(14/40) headSonogramResult3: (3/354)\n",
      "(15/40) headSonogramResult4: (0/357)\n",
      "(16/40) headSonogramResult5: (0/357)\n",
      "(17/40) headSonogramResult6: (0/357)\n",
      "(18/40) headSonogramResult7: (0/357)\n",
      "(19/40) headSonogramResult8: (0/357)\n",
      "(20/40) headCTDate: (2/355)\n",
      "(21/40) headCTTime: (2/355)\n",
      "(22/40) headCTResult1: (2/355)\n",
      "(23/40) headCTResult2: (0/357)\n",
      "(24/40) headCTResult3: (0/357)\n",
      "(25/40) headCTResult4: (0/357)\n",
      "(26/40) headCTResult5: (0/357)\n",
      "(27/40) headCTResult6: (0/357)\n",
      "(28/40) headCTResult7: (0/357)\n",
      "(29/40) headCTResult8: (0/357)\n",
      "(30/40) brainMRIDate: (1/356)\n",
      "(31/40) brainMRITime: (1/356)\n",
      "(32/40) brainMRIResult1: (1/356)\n",
      "(33/40) brainMRIResult2: (1/356)\n",
      "(34/40) brainMRIResult3: (1/356)\n",
      "(35/40) brainMRIResult4: (1/356)\n",
      "(36/40) brainMRIResult5: (0/357)\n",
      "(37/40) brainMRIResult6: (0/357)\n",
      "(38/40) brainMRIResult7: (0/357)\n",
      "(39/40) brainMRIResult8: (0/357)\n"
     ]
    }
   ],
   "source": [
    "COMBINE_harmonizer.column_info(df_imaging)"
   ]
  },
  {
   "cell_type": "markdown",
   "id": "4e5d6a1a",
   "metadata": {},
   "source": [
    "## 03-01. Post-intervention Temperature"
   ]
  },
  {
   "cell_type": "code",
   "execution_count": 135,
   "id": "89d321b2",
   "metadata": {
    "execution": {
     "iopub.execute_input": "2025-02-04T10:53:55.698633Z",
     "iopub.status.busy": "2025-02-04T10:53:55.698546Z",
     "iopub.status.idle": "2025-02-04T10:53:55.701447Z",
     "shell.execute_reply": "2025-02-04T10:53:55.701172Z"
    }
   },
   "outputs": [
    {
     "data": {
      "text/plain": [
       "['post_TemperatureTimeSlot',\n",
       " 'post_TemperatureDate',\n",
       " 'post_TemperatureTime',\n",
       " 'post_SkinTemperature_C',\n",
       " 'post_AxillaryTemperature_C',\n",
       " 'post_AlterationSkinIntegrity',\n",
       " 'post_Shiver',\n",
       " 'normothermiaAtEndIntervention',\n",
       " 'normothermiaDate',\n",
       " 'normothermiaTime',\n",
       " 'normothermiaAxillaryTemperature_C',\n",
       " 'noNormothermiaReason',\n",
       " 'coolAfterIntervention',\n",
       " 'coolAfterInterventionText']"
      ]
     },
     "execution_count": 135,
     "metadata": {},
     "output_type": "execute_result"
    }
   ],
   "source": [
    "temperature_post_treat_columns = COMBINE_harmonizer.get_columns(df_data_dict, 'Post-intervention', 'Temperature')\n",
    "all_temperature_post_treat_columns = id_columns + temperature_post_treat_columns\n",
    "temperature_post_treat_columns"
   ]
  },
  {
   "cell_type": "code",
   "execution_count": 136,
   "id": "f2b62dc8",
   "metadata": {
    "execution": {
     "iopub.execute_input": "2025-02-04T10:53:55.702763Z",
     "iopub.status.busy": "2025-02-04T10:53:55.702670Z",
     "iopub.status.idle": "2025-02-04T10:53:55.849244Z",
     "shell.execute_reply": "2025-02-04T10:53:55.848782Z"
    }
   },
   "outputs": [],
   "source": [
    "df_temperature_post = df_dict['oc06d.csv'].copy()\n",
    "df_temperature_post = COMBINE_harmonizer.valid_columns(df_temperature_post, all_temperature_post_treat_columns, debug_df=True, debug_columns=False)\n",
    "df_temperature_post = COMBINE_harmonizer.postprocess(df_temperature_post)\n",
    "\n",
    "out_filename = os.sep.join([out_dir, '03-01-post-temperature.csv'])\n",
    "df_temperature_post.to_csv(out_filename, index=False)"
   ]
  },
  {
   "cell_type": "markdown",
   "id": "e41e8acb",
   "metadata": {},
   "source": [
    "### 03-01-1. check post-treat temperature"
   ]
  },
  {
   "cell_type": "code",
   "execution_count": 137,
   "id": "92872026",
   "metadata": {
    "execution": {
     "iopub.execute_input": "2025-02-04T10:53:55.853042Z",
     "iopub.status.busy": "2025-02-04T10:53:55.852758Z",
     "iopub.status.idle": "2025-02-04T10:53:55.863668Z",
     "shell.execute_reply": "2025-02-04T10:53:55.863259Z"
    }
   },
   "outputs": [
    {
     "data": {
      "text/html": [
       "<div>\n",
       "<style scoped>\n",
       "    .dataframe tbody tr th:only-of-type {\n",
       "        vertical-align: middle;\n",
       "    }\n",
       "\n",
       "    .dataframe tbody tr th {\n",
       "        vertical-align: top;\n",
       "    }\n",
       "\n",
       "    .dataframe thead th {\n",
       "        text-align: right;\n",
       "    }\n",
       "</style>\n",
       "<table border=\"1\" class=\"dataframe\">\n",
       "  <thead>\n",
       "    <tr style=\"text-align: right;\">\n",
       "      <th></th>\n",
       "      <th></th>\n",
       "      <th>_count</th>\n",
       "    </tr>\n",
       "    <tr>\n",
       "      <th>uniqueID</th>\n",
       "      <th>post_TemperatureTimeSlot</th>\n",
       "      <th></th>\n",
       "    </tr>\n",
       "  </thead>\n",
       "  <tbody>\n",
       "  </tbody>\n",
       "</table>\n",
       "</div>"
      ],
      "text/plain": [
       "Empty DataFrame\n",
       "Columns: [_count]\n",
       "Index: []"
      ]
     },
     "execution_count": 137,
     "metadata": {},
     "output_type": "execute_result"
    }
   ],
   "source": [
    "df_temperature_post_groupby = df_temperature_post.groupby(['uniqueID', 'post_TemperatureTimeSlot']).agg(_count=('uniqueID', 'count'))\n",
    "\n",
    "is_invalid = df_temperature_post_groupby['_count'] > 1\n",
    "df_temperature_post_groupby[is_invalid]"
   ]
  },
  {
   "cell_type": "markdown",
   "id": "661e44d6",
   "metadata": {},
   "source": [
    "### 03-01-2. check empty cells"
   ]
  },
  {
   "cell_type": "code",
   "execution_count": 138,
   "id": "b8413141",
   "metadata": {
    "execution": {
     "iopub.execute_input": "2025-02-04T10:53:55.865938Z",
     "iopub.status.busy": "2025-02-04T10:53:55.865754Z",
     "iopub.status.idle": "2025-02-04T10:53:55.871146Z",
     "shell.execute_reply": "2025-02-04T10:53:55.870799Z"
    }
   },
   "outputs": [
    {
     "name": "stdout",
     "output_type": "stream",
     "text": [
      "(0/10) column: center (1883 / 0)\n",
      "(1/10) column: subjectID (1883 / 0)\n",
      "(2/10) column: uniqueID (1883 / 0)\n",
      "(3/10) column: post_AlterationSkinIntegrity (1847 / 36)\n",
      "(4/10) column: post_Shiver (1847 / 36)\n",
      "(5/10) column: post_TemperatureTimeSlot (1883 / 0)\n",
      "(6/10) column: post_TemperatureDate (1847 / 36)\n",
      "(7/10) column: post_TemperatureTime (1835 / 48)\n",
      "(8/10) column: post_SkinTemperature_C (850 / 1033)\n",
      "(9/10) column: post_AxillaryTemperature_C (1739 / 144)\n"
     ]
    }
   ],
   "source": [
    "COMBINE_harmonizer.check_empty(df_temperature_post)"
   ]
  },
  {
   "cell_type": "code",
   "execution_count": 139,
   "id": "5a27a716",
   "metadata": {
    "execution": {
     "iopub.execute_input": "2025-02-04T10:53:55.873056Z",
     "iopub.status.busy": "2025-02-04T10:53:55.872878Z",
     "iopub.status.idle": "2025-02-04T10:53:55.876543Z",
     "shell.execute_reply": "2025-02-04T10:53:55.876194Z"
    }
   },
   "outputs": [
    {
     "name": "stdout",
     "output_type": "stream",
     "text": [
      "(0/10) center: (1883/0)\n",
      "(1/10) subjectID: (1883/0)\n",
      "(2/10) uniqueID: (1883/0)\n",
      "(3/10) post_AlterationSkinIntegrity: (1847/36)\n",
      "(4/10) post_Shiver: (1847/36)\n",
      "(5/10) post_TemperatureTimeSlot: (1883/0)\n",
      "(6/10) post_TemperatureDate: (1847/36)\n",
      "(7/10) post_TemperatureTime: (1835/48)\n",
      "(8/10) post_SkinTemperature_C: (850/1033)\n",
      "(9/10) post_AxillaryTemperature_C: (1739/144)\n"
     ]
    }
   ],
   "source": [
    "COMBINE_harmonizer.column_info(df_temperature_post)"
   ]
  },
  {
   "cell_type": "markdown",
   "id": "deee968b",
   "metadata": {},
   "source": [
    "### 03-01-3. post-intervention temperature - summary"
   ]
  },
  {
   "cell_type": "code",
   "execution_count": 140,
   "id": "4585244c",
   "metadata": {
    "execution": {
     "iopub.execute_input": "2025-02-04T10:53:55.878543Z",
     "iopub.status.busy": "2025-02-04T10:53:55.878417Z",
     "iopub.status.idle": "2025-02-04T10:53:55.949387Z",
     "shell.execute_reply": "2025-02-04T10:53:55.948859Z"
    }
   },
   "outputs": [
    {
     "name": "stdout",
     "output_type": "stream",
     "text": [
      "(1/37) pre_CoolInitiate not in columns\n",
      "(2/37) pre_CoolbyIceGelPack not in columns\n",
      "(3/37) pre_CoolPassively not in columns\n",
      "(4/37) pre_CoolClinically not in columns\n",
      "(5/37) pre_AfterOvershootReach33p5C not in columns\n",
      "(8/37) discontinueBeforeEndPeriod not in columns\n",
      "(9/37) discontinueOtherText not in columns\n",
      "(11/37) OC6INIT not in columns\n",
      "(13/37) targetTreatmentTemperature_C not in columns\n",
      "(14/37) pre_CoolInitiateDate not in columns\n",
      "(15/37) pre_CoolInitiateTime not in columns\n",
      "(16/37) pre_AfterOvershootReach33p5CDate not in columns\n",
      "(17/37) pre_AfterOvershootReach33p5CTime not in columns\n",
      "(18/37) pre_TemperatureMinDate not in columns\n",
      "(19/37) pre_TemperatureMinTime not in columns\n",
      "(20/37) pre_SkinTemperatureMin_C not in columns\n",
      "(21/37) pre_AxillaryTemperatureMin_C not in columns\n",
      "(22/37) pre_EsophagealTemperatureMin_C not in columns\n",
      "(23/37) pre_ServoSetMin_C not in columns\n",
      "(24/37) pre_TemperatureMaxDate not in columns\n",
      "(25/37) pre_TemperatureMaxTime not in columns\n",
      "(26/37) pre_SkinTemperatureMax_C not in columns\n",
      "(27/37) pre_AxillaryTemperatureMax_C not in columns\n",
      "(28/37) pre_EsophagealTemperatureMax_C not in columns\n",
      "(29/37) pre_ServoSetMax_C not in columns\n",
      "(33/37) OC6NCEPR not in columns\n",
      "(34/37) discontinueDate not in columns\n",
      "(35/37) discontinueTime not in columns\n",
      "(2/16) post_TemperatureTimeSlot not in df\n",
      "(3/16) post_TemperatureDate not in df\n",
      "(4/16) post_TemperatureTime not in df\n",
      "(5/16) post_SkinTemperature_C not in df\n",
      "(6/16) post_AxillaryTemperature_C not in df\n",
      "(7/16) post_AlterationSkinIntegrity not in df\n",
      "(8/16) post_Shiver not in df\n"
     ]
    }
   ],
   "source": [
    "df_temperature_72_120 = pd.concat([df_dict['oc06t72.csv'], df_dict['oc06t120.csv']])\n",
    "df_temperature_post_treat_s = COMBINE_harmonizer.valid_columns(df_temperature_72_120, all_temperature_post_treat_columns, debug_df=True, debug_columns=True)\n",
    "df_temperature_post_treat_s = COMBINE_harmonizer.postprocess(df_temperature_post_treat_s)\n",
    "\n",
    "out_filename = os.sep.join([out_dir, '03-01_s-post-temperature.csv'])\n",
    "df_temperature_post_treat_s.to_csv(out_filename, index=False)\n"
   ]
  },
  {
   "cell_type": "markdown",
   "id": "35db028c",
   "metadata": {},
   "source": [
    "### 03-01-4. check post-normo temperature - summary"
   ]
  },
  {
   "cell_type": "code",
   "execution_count": 141,
   "id": "d1ac7b28",
   "metadata": {
    "execution": {
     "iopub.execute_input": "2025-02-04T10:53:55.951838Z",
     "iopub.status.busy": "2025-02-04T10:53:55.951620Z",
     "iopub.status.idle": "2025-02-04T10:53:55.956378Z",
     "shell.execute_reply": "2025-02-04T10:53:55.955972Z"
    }
   },
   "outputs": [
    {
     "name": "stdout",
     "output_type": "stream",
     "text": [
      "(0/10) column: center (364 / 0)\n",
      "(1/10) column: subjectID (364 / 0)\n",
      "(2/10) column: uniqueID (364 / 0)\n",
      "(3/10) column: normothermiaAtEndIntervention (364 / 0)\n",
      "(4/10) column: noNormothermiaReason (50 / 314)\n",
      "(5/10) column: coolAfterInterventionText (25 / 339)\n",
      "(6/10) column: normothermiaDate (313 / 51)\n",
      "(7/10) column: normothermiaTime (313 / 51)\n",
      "(8/10) column: normothermiaAxillaryTemperature_C (268 / 96)\n",
      "(9/10) column: coolAfterIntervention (55 / 309)\n"
     ]
    }
   ],
   "source": [
    "COMBINE_harmonizer.check_empty(df_temperature_post_treat_s)"
   ]
  },
  {
   "cell_type": "code",
   "execution_count": 142,
   "id": "99a84851",
   "metadata": {
    "execution": {
     "iopub.execute_input": "2025-02-04T10:53:55.958468Z",
     "iopub.status.busy": "2025-02-04T10:53:55.958271Z",
     "iopub.status.idle": "2025-02-04T10:53:55.961633Z",
     "shell.execute_reply": "2025-02-04T10:53:55.961252Z"
    }
   },
   "outputs": [
    {
     "name": "stdout",
     "output_type": "stream",
     "text": [
      "(0/10) center: (364/0)\n",
      "(1/10) subjectID: (364/0)\n",
      "(2/10) uniqueID: (364/0)\n",
      "(3/10) normothermiaAtEndIntervention: (364/0)\n",
      "(4/10) noNormothermiaReason: (50/314)\n",
      "(5/10) coolAfterInterventionText: (25/339)\n",
      "(6/10) normothermiaDate: (313/51)\n",
      "(7/10) normothermiaTime: (313/51)\n",
      "(8/10) normothermiaAxillaryTemperature_C: (268/96)\n",
      "(9/10) coolAfterIntervention: (55/309)\n"
     ]
    }
   ],
   "source": [
    "COMBINE_harmonizer.column_info(df_temperature_post_treat_s)"
   ]
  },
  {
   "cell_type": "markdown",
   "id": "fd914fd6",
   "metadata": {},
   "source": [
    "## 03-02. Post-intervention Blood Value"
   ]
  },
  {
   "cell_type": "code",
   "execution_count": 143,
   "id": "7a40294e",
   "metadata": {
    "execution": {
     "iopub.execute_input": "2025-02-04T10:53:55.963620Z",
     "iopub.status.busy": "2025-02-04T10:53:55.963472Z",
     "iopub.status.idle": "2025-02-04T10:53:55.967226Z",
     "shell.execute_reply": "2025-02-04T10:53:55.966890Z"
    }
   },
   "outputs": [
    {
     "data": {
      "text/plain": [
       "['post_BloodValueASTSGOT_UPerL',\n",
       " 'post_BloodValueASTSGOT_UPerLDate',\n",
       " 'post_BloodValueALTSGPT_UPerL',\n",
       " 'post_BloodValueALTSGPT_UPerLDate',\n",
       " 'post_BloodValueTotalBilirubin_mgPerdL',\n",
       " 'post_BloodValueTotalBilirubin_mgPerdLDate']"
      ]
     },
     "execution_count": 143,
     "metadata": {},
     "output_type": "execute_result"
    }
   ],
   "source": [
    "blood_value_post_columns = COMBINE_harmonizer.get_columns(df_data_dict, 'Post-intervention', 'Blood Value')\n",
    "all_blood_value_post_columns = id_columns + blood_value_post_columns\n",
    "blood_value_post_columns"
   ]
  },
  {
   "cell_type": "code",
   "execution_count": 144,
   "id": "c5f25049",
   "metadata": {
    "execution": {
     "iopub.execute_input": "2025-02-04T10:53:55.968939Z",
     "iopub.status.busy": "2025-02-04T10:53:55.968782Z",
     "iopub.status.idle": "2025-02-04T10:53:56.049571Z",
     "shell.execute_reply": "2025-02-04T10:53:56.049023Z"
    }
   },
   "outputs": [],
   "source": [
    "df_blood_value_post = COMBINE_harmonizer.valid_columns(df_main, all_blood_value_post_columns, debug_df=False, debug_columns=True)\n",
    "df_blood_value_post = COMBINE_harmonizer.postprocess(df_blood_value_post)\n",
    "\n",
    "out_filename = os.sep.join([out_dir, '03-02-post-blood-value.csv'])\n",
    "df_blood_value_post.to_csv(out_filename, index=False)"
   ]
  },
  {
   "cell_type": "markdown",
   "id": "5582c22c",
   "metadata": {},
   "source": [
    "### 03-02-1. check post-normo blood value "
   ]
  },
  {
   "cell_type": "code",
   "execution_count": 145,
   "id": "c3b41584",
   "metadata": {
    "execution": {
     "iopub.execute_input": "2025-02-04T10:53:56.052375Z",
     "iopub.status.busy": "2025-02-04T10:53:56.052172Z",
     "iopub.status.idle": "2025-02-04T10:53:56.056919Z",
     "shell.execute_reply": "2025-02-04T10:53:56.056522Z"
    }
   },
   "outputs": [
    {
     "name": "stdout",
     "output_type": "stream",
     "text": [
      "(0/9) column: center (364 / 0)\n",
      "(1/9) column: subjectID (364 / 0)\n",
      "(2/9) column: uniqueID (364 / 0)\n",
      "(3/9) column: post_BloodValueASTSGOT_UPerL (272 / 92)\n",
      "(4/9) column: post_BloodValueASTSGOT_UPerLDate (275 / 89)\n",
      "(5/9) column: post_BloodValueALTSGPT_UPerL (278 / 86)\n",
      "(6/9) column: post_BloodValueALTSGPT_UPerLDate (281 / 83)\n",
      "(7/9) column: post_BloodValueTotalBilirubin_mgPerdL (281 / 83)\n",
      "(8/9) column: post_BloodValueTotalBilirubin_mgPerdLDate (283 / 81)\n"
     ]
    }
   ],
   "source": [
    "COMBINE_harmonizer.check_empty(df_blood_value_post)"
   ]
  },
  {
   "cell_type": "code",
   "execution_count": 146,
   "id": "e82ebcf5",
   "metadata": {
    "execution": {
     "iopub.execute_input": "2025-02-04T10:53:56.058928Z",
     "iopub.status.busy": "2025-02-04T10:53:56.058747Z",
     "iopub.status.idle": "2025-02-04T10:53:56.062017Z",
     "shell.execute_reply": "2025-02-04T10:53:56.061644Z"
    }
   },
   "outputs": [
    {
     "name": "stdout",
     "output_type": "stream",
     "text": [
      "(0/9) center: (364/0)\n",
      "(1/9) subjectID: (364/0)\n",
      "(2/9) uniqueID: (364/0)\n",
      "(3/9) post_BloodValueASTSGOT_UPerL: (272/92)\n",
      "(4/9) post_BloodValueASTSGOT_UPerLDate: (275/89)\n",
      "(5/9) post_BloodValueALTSGPT_UPerL: (278/86)\n",
      "(6/9) post_BloodValueALTSGPT_UPerLDate: (281/83)\n",
      "(7/9) post_BloodValueTotalBilirubin_mgPerdL: (281/83)\n",
      "(8/9) post_BloodValueTotalBilirubin_mgPerdLDate: (283/81)\n"
     ]
    }
   ],
   "source": [
    "COMBINE_harmonizer.column_info(df_blood_value_post)"
   ]
  },
  {
   "cell_type": "markdown",
   "id": "35b2ab04",
   "metadata": {},
   "source": [
    "## 03-03. Post-intervention Imaging"
   ]
  },
  {
   "cell_type": "code",
   "execution_count": 147,
   "id": "207df071",
   "metadata": {
    "execution": {
     "iopub.execute_input": "2025-02-04T10:53:56.064005Z",
     "iopub.status.busy": "2025-02-04T10:53:56.063869Z",
     "iopub.status.idle": "2025-02-04T10:53:56.068156Z",
     "shell.execute_reply": "2025-02-04T10:53:56.067812Z"
    }
   },
   "outputs": [
    {
     "data": {
      "text/plain": [
       "['post_HeadSonogram',\n",
       " 'post_HeadSonogramDate',\n",
       " 'post_HeadSonogramTime',\n",
       " 'post_HeadSonogramResult1',\n",
       " 'post_HeadSonogramResult2',\n",
       " 'post_HeadSonogramResult3',\n",
       " 'post_HeadSonogramResult4',\n",
       " 'post_HeadSonogramResult5',\n",
       " 'post_HeadSonogramResult6',\n",
       " 'post_HeadSonogramResult7',\n",
       " 'post_HeadSonogramResult8',\n",
       " 'post_HeadSonogramResultText',\n",
       " 'post_HeadCT',\n",
       " 'post_HeadCTDate',\n",
       " 'post_HeadCTTime',\n",
       " 'post_HeadCTResult1',\n",
       " 'post_HeadCTResult2',\n",
       " 'post_HeadCTResult3',\n",
       " 'post_HeadCTResult4',\n",
       " 'post_HeadCTResult5',\n",
       " 'post_HeadCTResult6',\n",
       " 'post_HeadCTResult7',\n",
       " 'post_HeadCTResult8',\n",
       " 'post_HeadCTResultText',\n",
       " 'post_BrainMRI',\n",
       " 'post_BrainMRIDate',\n",
       " 'post_BrainMRITime',\n",
       " 'post_BrainMRIResult1',\n",
       " 'post_BrainMRIResult2',\n",
       " 'post_BrainMRIResult3',\n",
       " 'post_BrainMRIResult4',\n",
       " 'post_BrainMRIResult5',\n",
       " 'post_BrainMRIResult6',\n",
       " 'post_BrainMRIResult7',\n",
       " 'post_BrainMRIResult8',\n",
       " 'post_BrainMRIResultText']"
      ]
     },
     "execution_count": 147,
     "metadata": {},
     "output_type": "execute_result"
    }
   ],
   "source": [
    "imaging_post_columns = COMBINE_harmonizer.get_columns(df_data_dict, 'Post-intervention', 'Imaging')\n",
    "all_imaging_post_columns = id_columns + imaging_post_columns\n",
    "imaging_post_columns"
   ]
  },
  {
   "cell_type": "code",
   "execution_count": 148,
   "id": "04cda9cb",
   "metadata": {
    "execution": {
     "iopub.execute_input": "2025-02-04T10:53:56.069879Z",
     "iopub.status.busy": "2025-02-04T10:53:56.069714Z",
     "iopub.status.idle": "2025-02-04T10:53:56.133469Z",
     "shell.execute_reply": "2025-02-04T10:53:56.133096Z"
    }
   },
   "outputs": [
    {
     "name": "stdout",
     "output_type": "stream",
     "text": [
      "(7/42) REC_CMP not in columns"
     ]
    },
    {
     "name": "stdout",
     "output_type": "stream",
     "text": [
      "\n",
      "(9/42) imagingTimeSlot not in columns\n",
      "(40/42) CMP_DATE not in columns\n",
      "(41/42) CRT_DATE not in columns\n"
     ]
    }
   ],
   "source": [
    "df_imaging = df_dict['oc12.csv'].copy()\n",
    "\n",
    "imaging_time_slot_int = df_imaging['imagingTimeSlot'].apply(COMBINE_harmonizer.to_int)\n",
    "is_post = imaging_time_slot_int == 3\n",
    "df_imaging_post = df_imaging[is_post]\n",
    "post_treat_rename_map = {\n",
    "    'headSonogram': 'post_HeadSonogram',\n",
    "    'headSonogramDate': 'post_HeadSonogramDate',\n",
    "    'headSonogramTime': 'post_HeadSonogramTime',\n",
    "    'headSonogramResult1': 'post_HeadSonogramResult1',\n",
    "    'headSonogramResult2': 'post_HeadSonogramResult2',\n",
    "    'headSonogramResult3': 'post_HeadSonogramResult3',\n",
    "    'headSonogramResult4': 'post_HeadSonogramResult4',\n",
    "    'headSonogramResult5': 'post_HeadSonogramResult5',\n",
    "    'headSonogramResult6': 'post_HeadSonogramResult6',\n",
    "    'headSonogramResult7': 'post_HeadSonogramResult7',\n",
    "    'headSonogramResult8': 'post_HeadSonogramResult8',\n",
    "    'headSonogramResultText': 'post_HeadSonogramResultText',\n",
    "    'headCT': 'post_HeadCT',\n",
    "    'headCTDate': 'post_HeadCTDate',\n",
    "    'headCTTime': 'post_HeadCTTime',\n",
    "    'headCTResult1': 'post_HeadCTResult1',\n",
    "    'headCTResult2': 'post_HeadCTResult2',\n",
    "    'headCTResult3': 'post_HeadCTResult3',\n",
    "    'headCTResult4': 'post_HeadCTResult4',\n",
    "    'headCTResult5': 'post_HeadCTResult5',\n",
    "    'headCTResult6': 'post_HeadCTResult6',\n",
    "    'headCTResult7': 'post_HeadCTResult7',\n",
    "    'headCTResult8': 'post_HeadCTResult8',\n",
    "    'headCTResultText': 'post_HeadCTResultText',\n",
    "    'brainMRI': 'post_BrainMRI',\n",
    "    'brainMRIDate': 'post_BrainMRIDate',\n",
    "    'brainMRITime': 'post_BrainMRITime',\n",
    "    'brainMRIResult1': 'post_BrainMRIResult1',\n",
    "    'brainMRIResult2': 'post_BrainMRIResult2',\n",
    "    'brainMRIResult3': 'post_BrainMRIResult3',\n",
    "    'brainMRIResult4': 'post_BrainMRIResult4',\n",
    "    'brainMRIResult5': 'post_BrainMRIResult5',\n",
    "    'brainMRIResult6': 'post_BrainMRIResult6',\n",
    "    'brainMRIResult7': 'post_BrainMRIResult7',\n",
    "    'brainMRIResult8': 'post_BrainMRIResult8',\n",
    "    'brainMRIResultText': 'post_BrainMRIResultText'\n",
    "}\n",
    "df_imaging_post = df_imaging_post.rename(columns=post_treat_rename_map)\n",
    "\n",
    "df_imaging_post = COMBINE_harmonizer.valid_columns(df_imaging_post, all_imaging_post_columns, debug_df=True, debug_columns=True)\n",
    "df_imaging_post = COMBINE_harmonizer.postprocess(df_imaging_post)\n",
    "out_filename = os.sep.join([out_dir, '03-03-post-imaging.csv'])\n",
    "df_imaging_post.to_csv(out_filename, index=False)"
   ]
  },
  {
   "cell_type": "markdown",
   "id": "2a9f4bb7",
   "metadata": {},
   "source": [
    "### 03-03-2. check empty cells"
   ]
  },
  {
   "cell_type": "code",
   "execution_count": 149,
   "id": "cd90b25f",
   "metadata": {
    "execution": {
     "iopub.execute_input": "2025-02-04T10:53:56.135523Z",
     "iopub.status.busy": "2025-02-04T10:53:56.135348Z",
     "iopub.status.idle": "2025-02-04T10:53:56.142799Z",
     "shell.execute_reply": "2025-02-04T10:53:56.142467Z"
    }
   },
   "outputs": [
    {
     "name": "stdout",
     "output_type": "stream",
     "text": [
      "(0/39) column: center (361 / 0)\n",
      "(1/39) column: subjectID (361 / 0)\n",
      "(2/39) column: uniqueID (361 / 0)\n",
      "(3/39) column: post_HeadSonogram (361 / 0)\n",
      "(4/39) column: post_HeadSonogramResultText (14 / 347)\n",
      "(5/39) column: post_HeadCT (361 / 0)\n",
      "(6/39) column: post_HeadCTResultText (1 / 360)\n",
      "(7/39) column: post_BrainMRI (361 / 0)\n",
      "(8/39) column: post_BrainMRIResultText (83 / 278)\n",
      "(9/39) column: post_HeadSonogramDate (148 / 213)\n",
      "(10/39) column: post_HeadSonogramTime (146 / 215)\n",
      "(11/39) column: post_HeadSonogramResult1 (147 / 214)\n",
      "(12/39) column: post_HeadSonogramResult2 (21 / 340)\n",
      "(13/39) column: post_HeadSonogramResult3 (8 / 353)\n",
      "(14/39) column: post_HeadSonogramResult4 (2 / 359)\n",
      "(15/39) column: post_HeadSonogramResult5 (0 / 361)\n",
      "(16/39) column: post_HeadSonogramResult6 (0 / 361)\n",
      "(17/39) column: post_HeadSonogramResult7 (0 / 361)\n",
      "(18/39) column: post_HeadSonogramResult8 (0 / 361)\n",
      "(19/39) column: post_HeadCTDate (2 / 359)\n",
      "(20/39) column: post_HeadCTTime (2 / 359)\n",
      "(21/39) column: post_HeadCTResult1 (2 / 359)\n",
      "(22/39) column: post_HeadCTResult2 (2 / 359)\n",
      "(23/39) column: post_HeadCTResult3 (1 / 360)\n",
      "(24/39) column: post_HeadCTResult4 (0 / 361)\n",
      "(25/39) column: post_HeadCTResult5 (0 / 361)\n",
      "(26/39) column: post_HeadCTResult6 (0 / 361)\n",
      "(27/39) column: post_HeadCTResult7 (0 / 361)\n",
      "(28/39) column: post_HeadCTResult8 (0 / 361)\n",
      "(29/39) column: post_BrainMRIDate (321 / 40)\n",
      "(30/39) column: post_BrainMRITime (320 / 41)\n",
      "(31/39) column: post_BrainMRIResult1 (321 / 40)\n",
      "(32/39) column: post_BrainMRIResult2 (134 / 227)\n",
      "(33/39) column: post_BrainMRIResult3 (78 / 283)\n",
      "(34/39) column: post_BrainMRIResult4 (45 / 316)\n",
      "(35/39) column: post_BrainMRIResult5 (15 / 346)\n",
      "(36/39) column: post_BrainMRIResult6 (4 / 357)\n",
      "(37/39) column: post_BrainMRIResult7 (2 / 359)\n",
      "(38/39) column: post_BrainMRIResult8 (1 / 360)\n"
     ]
    }
   ],
   "source": [
    "COMBINE_harmonizer.check_empty(df_imaging_post)"
   ]
  },
  {
   "cell_type": "code",
   "execution_count": 150,
   "id": "4c25bf8b",
   "metadata": {
    "execution": {
     "iopub.execute_input": "2025-02-04T10:53:56.144751Z",
     "iopub.status.busy": "2025-02-04T10:53:56.144577Z",
     "iopub.status.idle": "2025-02-04T10:53:56.149480Z",
     "shell.execute_reply": "2025-02-04T10:53:56.149170Z"
    }
   },
   "outputs": [
    {
     "name": "stdout",
     "output_type": "stream",
     "text": [
      "(0/39) center: (361/0)\n",
      "(1/39) subjectID: (361/0)\n",
      "(2/39) uniqueID: (361/0)\n",
      "(3/39) post_HeadSonogram: (361/0)\n",
      "(4/39) post_HeadSonogramResultText: (14/347)\n",
      "(5/39) post_HeadCT: (361/0)\n",
      "(6/39) post_HeadCTResultText: (1/360)\n",
      "(7/39) post_BrainMRI: (361/0)\n",
      "(8/39) post_BrainMRIResultText: (83/278)\n",
      "(9/39) post_HeadSonogramDate: (148/213)\n",
      "(10/39) post_HeadSonogramTime: (146/215)\n",
      "(11/39) post_HeadSonogramResult1: (147/214)\n",
      "(12/39) post_HeadSonogramResult2: (21/340)\n",
      "(13/39) post_HeadSonogramResult3: (8/353)\n",
      "(14/39) post_HeadSonogramResult4: (2/359)\n",
      "(15/39) post_HeadSonogramResult5: (0/361)\n",
      "(16/39) post_HeadSonogramResult6: (0/361)\n",
      "(17/39) post_HeadSonogramResult7: (0/361)\n",
      "(18/39) post_HeadSonogramResult8: (0/361)\n",
      "(19/39) post_HeadCTDate: (2/359)\n",
      "(20/39) post_HeadCTTime: (2/359)\n",
      "(21/39) post_HeadCTResult1: (2/359)\n",
      "(22/39) post_HeadCTResult2: (2/359)\n",
      "(23/39) post_HeadCTResult3: (1/360)\n",
      "(24/39) post_HeadCTResult4: (0/361)\n",
      "(25/39) post_HeadCTResult5: (0/361)\n",
      "(26/39) post_HeadCTResult6: (0/361)\n",
      "(27/39) post_HeadCTResult7: (0/361)\n",
      "(28/39) post_HeadCTResult8: (0/361)\n",
      "(29/39) post_BrainMRIDate: (321/40)\n",
      "(30/39) post_BrainMRITime: (320/41)\n",
      "(31/39) post_BrainMRIResult1: (321/40)\n",
      "(32/39) post_BrainMRIResult2: (134/227)\n",
      "(33/39) post_BrainMRIResult3: (78/283)\n",
      "(34/39) post_BrainMRIResult4: (45/316)\n",
      "(35/39) post_BrainMRIResult5: (15/346)\n",
      "(36/39) post_BrainMRIResult6: (4/357)\n",
      "(37/39) post_BrainMRIResult7: (2/359)\n",
      "(38/39) post_BrainMRIResult8: (1/360)\n"
     ]
    }
   ],
   "source": [
    "COMBINE_harmonizer.column_info(df_imaging_post)"
   ]
  },
  {
   "cell_type": "markdown",
   "id": "fa75b1ec",
   "metadata": {},
   "source": [
    "## 03-04. Post-intervention Neuro Exam"
   ]
  },
  {
   "cell_type": "code",
   "execution_count": 151,
   "id": "007aab15",
   "metadata": {
    "execution": {
     "iopub.execute_input": "2025-02-04T10:53:56.151222Z",
     "iopub.status.busy": "2025-02-04T10:53:56.151063Z",
     "iopub.status.idle": "2025-02-04T10:53:56.154648Z",
     "shell.execute_reply": "2025-02-04T10:53:56.154301Z"
    }
   },
   "outputs": [
    {
     "data": {
      "text/plain": [
       "['post_NeuroExamSectionID',\n",
       " 'post_NeuroExam',\n",
       " 'post_NeuroExamDate',\n",
       " 'post_NeuroExamTime',\n",
       " 'post_NeuroExamLevelConsciousness',\n",
       " 'post_NeuroExamSpontaneousActivity',\n",
       " 'post_NeuroExamPosture',\n",
       " 'post_NeuroExamTone',\n",
       " 'post_NeuroExamSuck',\n",
       " 'post_NeuroExamMoro',\n",
       " 'post_NeuroExamPupils',\n",
       " 'post_NeuroExamHeartRate',\n",
       " 'post_NeuroExamRespiration',\n",
       " 'post_NeuroExamSeizure',\n",
       " 'post_NeuroExamSedate',\n",
       " 'post_NeuroExamClonusSustained',\n",
       " 'post_NeuroExamFistedHand',\n",
       " 'post_NeuroExamAbnormalMovement',\n",
       " 'post_NeuroExamGagReflexAbsent',\n",
       " 'post_NeuroExamHypertonia',\n",
       " 'post_NeuroExamAsymTonicNeckReflex']"
      ]
     },
     "execution_count": 151,
     "metadata": {},
     "output_type": "execute_result"
    }
   ],
   "source": [
    "neuro_exam_columns = COMBINE_harmonizer.get_columns(df_data_dict, 'Post-intervention', 'Neuro Exam')\n",
    "all_neuro_exam_columns = id_columns + neuro_exam_columns\n",
    "neuro_exam_columns"
   ]
  },
  {
   "cell_type": "code",
   "execution_count": 152,
   "id": "80fb17fa",
   "metadata": {
    "execution": {
     "iopub.execute_input": "2025-02-04T10:53:56.156129Z",
     "iopub.status.busy": "2025-02-04T10:53:56.156027Z",
     "iopub.status.idle": "2025-02-04T10:53:56.227305Z",
     "shell.execute_reply": "2025-02-04T10:53:56.226889Z"
    }
   },
   "outputs": [
    {
     "name": "stdout",
     "output_type": "stream",
     "text": [
      "(1/418) siteID not in columns\n",
      "(2/418) LAST not in columns\n",
      "(3/418) FIRST not in columns\n",
      "(4/418) screenComment not in columns\n",
      "(5/418) REC_CMP not in columns\n",
      "(7/418) birthDate not in columns\n",
      "(8/418) birthNumber not in columns\n",
      "(9/418) CMP_DATE not in columns\n",
      "(10/418) CRT_DATE not in columns\n",
      "(11/418) coreTempLess33p5COver1Hr_e not in columns\n",
      "(12/418) first6HrCoolByClinicalProtocol_e not in columns\n",
      "(13/418) chromosomalAbnormality_e not in columns\n",
      "(14/418) majorCongenitalAnomaly_e not in columns\n",
      "(15/418) birthWeightLessEq1800g_e not in columns\n",
      "(16/418) infantUnlikelySurvive_e not in columns\n",
      "(17/418) first60MinAllBloodGasPHGreater7p15BaseDeficitLess10mEqPerL_e not in columns\n",
      "(18/418) first60MinAnyBloodGasPHLessEq7_i not in columns\n",
      "(19/418) first60MinAnyBloodGasBaseDeficitGreaterEq16mEqPerL_i not in columns\n",
      "(20/418) historyPerinatalEvent_i not in columns\n",
      "(21/418) at10MinApgarLessEq5OrVent_i not in columns\n",
      "(22/418) pre_NeuroExamSeizure not in columns\n",
      "(23/418) pre_NeuroExam not in columns\n",
      "(24/418) pre_NeuroExamTone not in columns\n",
      "(25/418) pre_NeuroExamRespiration not in columns\n",
      "(26/418) pre_NeuroExamSignModerateSevereHIE3Category not in columns\n",
      "(27/418) pre_NeuroExamSedate not in columns\n",
      "(28/418) OC2NAME not in columns\n",
      "(29/418) randomEligible not in columns\n",
      "(30/418) noConsentReason not in columns\n",
      "(31/418) random not in columns\n",
      "(32/418) noRandomReasonText not in columns\n",
      "(33/418) randomTreatmentReceive not in columns\n",
      "(34/418) OC2INIT not in columns\n",
      "(35/418) REC_CMP:oc02 not in columns\n",
      "(36/418) pre_NoNeuroExamReason not in columns\n",
      "(37/418) pre_NeuroExamLevelConsciousness not in columns\n",
      "(38/418) pre_NeuroExamSpontaneousActivity not in columns\n",
      "(39/418) pre_NeuroExamPosture not in columns\n",
      "(40/418) pre_NeuroExamSuck not in columns\n",
      "(41/418) pre_NeuroExamMoro not in columns\n",
      "(42/418) pre_NeuroExamPupils not in columns\n",
      "(43/418) pre_NeuroExamHeartRate not in columns\n",
      "(44/418) pre_NeuroExamDate not in columns\n",
      "(45/418) pre_NeuroExamTime not in columns\n",
      "(46/418) consentStatus not in columns\n",
      "(47/418) noRandomReason not in columns\n",
      "(48/418) randomDate not in columns\n",
      "(49/418) randomTime not in columns\n",
      "(50/418) encephalopathyLevel not in columns\n",
      "(51/418) randomNumber not in columns\n",
      "(52/418) randomTreatmentAssign not in columns\n",
      "(53/418) treatmentBlanketType not in columns\n",
      "(54/418) CMP_DATE:oc02 not in columns\n",
      "(55/418) CRT_DATE:oc02 not in columns\n",
      "(56/418) coreTempLess32p5COverEq2Hr_e not in columns\n",
      "(57/418) multipleBirth not in columns\n",
      "(58/418) prenatalCare not in columns\n",
      "(59/418) hypertensionEclampsia not in columns\n",
      "(60/418) antepartumHemorrhage not in columns\n",
      "(61/418) thyroidMalfunction not in columns\n",
      "(62/418) diabetes not in columns\n",
      "(63/418) fetalDecelerate not in columns\n",
      "(64/418) cordMishap not in columns\n",
      "(65/418) uterineRupture not in columns\n",
      "(66/418) shoulderDystocia not in columns\n",
      "(67/418) placentalProblem not in columns\n",
      "(68/418) maternalHemorrhage not in columns\n",
      "(69/418) maternalTrauma not in columns\n",
      "(70/418) maternalCardioRespiratoryArrest not in columns\n",
      "(71/418) maternalSeizure not in columns\n",
      "(72/418) pyrexiaOver37p6C not in columns\n",
      "(73/418) chorioamnionitis not in columns\n",
      "(74/418) placentalPathologyPerformed not in columns\n",
      "(75/418) histologicChorioamionitis not in columns\n",
      "(76/418) laborAntibiotics not in columns\n",
      "(77/418) ruptureBeforeDelivery not in columns\n",
      "(78/418) ruptureOver18Hr not in columns\n",
      "(79/418) OC4INIT not in columns\n",
      "(80/418) REC_CMP:oc04 not in columns\n",
      "(81/418) motherAge_year not in columns\n",
      "(82/418) motherRace not in columns\n",
      "(83/418) motherRaceOther1 not in columns\n",
      "(84/418) motherRaceOther2 not in columns\n",
      "(85/418) motherRaceOther3 not in columns\n",
      "(86/418) motherRaceOther4 not in columns\n",
      "(87/418) motherRaceOther5 not in columns\n",
      "(88/418) motherRaceOther6 not in columns\n",
      "(89/418) motherEthnicity not in columns\n",
      "(90/418) motherMaritalStatus not in columns\n",
      "(91/418) motherEducation not in columns\n",
      "(92/418) gravida not in columns\n",
      "(93/418) parity not in columns\n",
      "(94/418) numFetus not in columns\n",
      "(95/418) motherInsurance not in columns\n",
      "(96/418) maternalAdmissionDate not in columns\n",
      "(97/418) maternalAdmissionTime not in columns\n",
      "(98/418) laborAntibioticsCode1 not in columns\n",
      "(99/418) laborAntibioticsCode2 not in columns\n",
      "(100/418) laborAntibioticsCode3 not in columns\n",
      "(101/418) laborAntibioticsCode4 not in columns\n",
      "(102/418) laborAntibioticsCode5 not in columns\n",
      "(103/418) laborAntibioticsCode6 not in columns\n",
      "(104/418) ruptureDate not in columns\n",
      "(105/418) ruptureTime not in columns\n",
      "(106/418) deliveryMode not in columns\n",
      "(107/418) CMP_DATE:oc04 not in columns\n",
      "(108/418) CRT_DATE:oc04 not in columns\n",
      "(109/418) infantOutborn not in columns\n",
      "(110/418) outbornInHospital not in columns\n",
      "(111/418) outbornOutHospital not in columns\n",
      "(112/418) deliveryOxygen not in columns\n",
      "(113/418) deliveryBaggingAndMask not in columns\n",
      "(114/418) deliveryChestCompression not in columns\n",
      "(115/418) deliveryIntubation not in columns\n",
      "(116/418) deliveryDrug not in columns\n",
      "(117/418) at10MinContinueResuscitation not in columns\n",
      "(118/418) at10MinOxygen not in columns\n",
      "(119/418) at10MinBaggingAndMask not in columns\n",
      "(120/418) at10MinChestCompression not in columns\n",
      "(121/418) at10MinIntubation not in columns\n",
      "(122/418) at10MinDrug not in columns\n",
      "(123/418) cordBloodGas not in columns\n",
      "(124/418) firstPostnatalBloodGas not in columns\n",
      "(125/418) OC5INIT not in columns\n",
      "(126/418) REC_CMP:oc05 not in columns\n",
      "(127/418) birthDate:oc05 not in columns\n",
      "(128/418) birthTime not in columns\n",
      "(129/418) neonateAdmissionDate not in columns\n",
      "(130/418) neonateAdmissionTime not in columns\n",
      "(131/418) Apgar1min not in columns\n",
      "(132/418) Apgar5min not in columns\n",
      "(133/418) Apgar10min not in columns\n",
      "(134/418) Apgar15min not in columns\n",
      "(135/418) Apgar20min not in columns\n",
      "(136/418) birthWeight_g not in columns\n",
      "(137/418) birthLength_cm not in columns\n",
      "(138/418) birthHeadCircumference_cm not in columns\n",
      "(139/418) birthGestationalAge_week not in columns\n",
      "(140/418) infantSex not in columns\n",
      "(141/418) spontaneousRespirationTime not in columns\n",
      "(142/418) cordBloodGasSrc not in columns\n",
      "(143/418) cordBloodGasPH not in columns\n",
      "(144/418) cordBloodGasPCO2_mmHg not in columns\n",
      "(145/418) cordBloodGasPO2_mmHg not in columns\n",
      "(146/418) cordBloodGasHCO3_mEqPerL not in columns\n",
      "(147/418) cordBloodGasBaseDeficit_mEqPerL not in columns\n",
      "(148/418) firstPostnatalBloodGasSrc not in columns\n",
      "(149/418) firstPostnatalBloodGasDate not in columns\n",
      "(150/418) firstPostnatalBloodGasTime not in columns\n",
      "(151/418) firstPostnatalBloodGasPH not in columns\n",
      "(152/418) firstPostnatalBloodGasPCO2_mmHg not in columns\n",
      "(153/418) firstPostnatalBloodGasPO2_mmHg not in columns\n",
      "(154/418) firstPostnatalBloodGasHCO3_mEqPerL not in columns\n",
      "(155/418) firstPostnatalBloodGasBaseDeficit_mEqPerL not in columns\n",
      "(156/418) CMP_DATE:oc05 not in columns\n",
      "(157/418) CRT_DATE:oc05 not in columns\n",
      "(158/418) pre_Antibiotics not in columns\n",
      "(159/418) antibiotics not in columns\n",
      "(160/418) rewarmingAntibiotics not in columns\n",
      "(161/418) REC_CMP:oc09 not in columns\n",
      "(162/418) bloodValuePHMin not in columns\n",
      "(163/418) bloodValuePHMinDate not in columns\n",
      "(164/418) bloodValuePHMax not in columns\n",
      "(165/418) bloodValuePHMaxDate not in columns\n",
      "(166/418) bloodValueHCO3Min_mEqPerL not in columns\n",
      "(167/418) bloodValueHCO3Min_mEqPerLDate not in columns\n",
      "(168/418) bloodValueBaseDeficitMax_mEqPerL not in columns\n",
      "(169/418) bloodValueBaseDeficitMax_mEqPerLDate not in columns\n",
      "(170/418) bloodValueSerumNaMin_mEqPerL not in columns\n",
      "(171/418) bloodValueSerumNaMin_mEqPerLDate not in columns\n",
      "(172/418) bloodValueSerumNaMax_mEqPerL not in columns\n",
      "(173/418) bloodValueSerumNaMax_mEqPerLDate not in columns\n",
      "(174/418) bloodValueSerumKMin_mEqPerL not in columns\n",
      "(175/418) bloodValueSerumKMin_mEqPerLDate not in columns\n",
      "(176/418) bloodValueSerumKMax_mEqPerL not in columns\n",
      "(177/418) bloodValueSerumKMax_mEqPerLDate not in columns\n",
      "(178/418) bloodValueClMin_mEqPerL not in columns\n",
      "(179/418) bloodValueClMin_mEqPerLDate not in columns\n",
      "(180/418) bloodValueClMax_mEqPerL not in columns\n",
      "(181/418) bloodValueClMax_mEqPerLDate not in columns\n",
      "(182/418) bloodValueBunBaseline_mgPerdL not in columns\n",
      "(183/418) bloodValueBunBaseline_mgPerdLDate not in columns\n",
      "(184/418) bloodValueBunMax_mgPerdL not in columns\n",
      "(185/418) bloodValueBunMax_mgPerdLDate not in columns\n",
      "(186/418) bloodValueCreatinineBaseline_mgPerdL not in columns\n",
      "(187/418) bloodValueCreatinineBaseline_mgPerdLDate not in columns\n",
      "(188/418) bloodValueCreatinineMax_mgPerdL not in columns\n",
      "(189/418) bloodValueCreatinineMax_mgPerdLDate not in columns\n",
      "(190/418) bloodValueGlucoseMin_mgPerdL not in columns\n",
      "(191/418) bloodValueGlucoseMin_mgPerdLDate not in columns\n",
      "(192/418) bloodValueGlucoseMax_mgPerdL not in columns\n",
      "(193/418) bloodValueGlucoseMax_mgPerdLDate not in columns\n",
      "(194/418) bloodValueTotalCaMin_mgPerdL not in columns\n",
      "(195/418) bloodValueTotalCaMin_mgPerdLDate not in columns\n",
      "(196/418) bloodValueTotalCaMax_mgPerdL not in columns\n",
      "(197/418) bloodValueTotalCaMax_mgPerdLDate not in columns\n",
      "(198/418) bloodValueIonCaMin_mgPerdL not in columns\n",
      "(199/418) bloodValueIonCaMin_mgPerdLDate not in columns\n",
      "(200/418) bloodValueIonCaMax_mgPerdL not in columns\n",
      "(201/418) bloodValueIonCaMax_mgPerdLDate not in columns\n",
      "(202/418) bloodValueASTSGOTBaseline_UPerL not in columns\n",
      "(203/418) bloodValueASTSGOTBaseline_UPerLDate not in columns\n",
      "(204/418) bloodValueASTSGOTMin_UPerL not in columns\n",
      "(205/418) bloodValueASTSGOTMin_UPerLDate not in columns\n",
      "(206/418) bloodValueASTSGOTMax_UPerL not in columns\n",
      "(207/418) bloodValueASTSGOTMax_UPerLDate not in columns\n",
      "(208/418) post_BloodValueASTSGOT_UPerL not in columns\n",
      "(209/418) post_BloodValueASTSGOT_UPerLDate not in columns\n",
      "(210/418) bloodValueALTSGPTBaseline_UPerL not in columns\n",
      "(211/418) bloodValueALTSGPTBaseline_UPerLDate not in columns\n",
      "(212/418) bloodValueALTSGPTMin_UPerL not in columns\n",
      "(213/418) bloodValueALTSGPTMin_UPerLDate not in columns\n",
      "(214/418) bloodValueALTSGPTMax_UPerL not in columns\n",
      "(215/418) bloodValueALTSGPTMax_UPerLDate not in columns\n",
      "(216/418) post_BloodValueALTSGPT_UPerL not in columns\n",
      "(217/418) post_BloodValueALTSGPT_UPerLDate not in columns\n",
      "(218/418) bloodValueTotalBilirubinBaseline_mgPerdL not in columns\n",
      "(219/418) bloodValueTotalBilirubinBaseline_mgPerdLDate not in columns\n",
      "(220/418) bloodValueTotalBilirubinMin_mgPerdL not in columns\n",
      "(221/418) bloodValueTotalBilirubinMin_mgPerdLDate not in columns\n",
      "(222/418) bloodValueTotalBilirubinMax_mgPerdL not in columns\n",
      "(223/418) bloodValueTotalBilirubinMax_mgPerdLDate not in columns\n",
      "(224/418) post_BloodValueTotalBilirubin_mgPerdL not in columns\n",
      "(225/418) post_BloodValueTotalBilirubin_mgPerdLDate not in columns\n",
      "(226/418) hematologyHematocritMin not in columns\n",
      "(227/418) hematologyHematocritMinDate not in columns\n",
      "(228/418) hematologyPlateletCountMin not in columns\n",
      "(229/418) hematologyPlateletCountMinDate not in columns\n",
      "(230/418) pre_AntibioticsCode1 not in columns\n",
      "(231/418) pre_AntibioticsCode2 not in columns\n",
      "(232/418) pre_AntibioticsCode3 not in columns\n",
      "(233/418) antibioticsCode1 not in columns\n",
      "(234/418) antibioticsCode2 not in columns\n",
      "(235/418) antibioticsCode3 not in columns\n",
      "(236/418) rewarmingAntibioticsCode1 not in columns\n",
      "(237/418) rewarmingAntibioticsCode2 not in columns\n",
      "(238/418) rewarmingAntibioticsCode3 not in columns\n",
      "(239/418) CMP_DATE:oc09 not in columns\n",
      "(240/418) CRT_DATE:oc09 not in columns\n",
      "(241/418) dischargeMeconiumAspirationSyndrome not in columns\n",
      "(242/418) dischargePPHN not in columns\n",
      "(243/418) dischargePulmonaryHemorrhage not in columns\n",
      "(244/418) dischargePenumonia not in columns\n",
      "(245/418) dischargeChronicLungDisease not in columns\n",
      "(246/418) dischargeECMO not in columns\n",
      "(247/418) dischargeINO not in columns\n",
      "(248/418) dischargeCardiomegaly not in columns\n",
      "(249/418) dischargeCardiacFailure not in columns\n",
      "(250/418) dischargeCardiacDysfunctionByEcho not in columns\n",
      "(251/418) dischargeCardiacIschemiaByEKG not in columns\n",
      "(252/418) dischargeHypotension not in columns\n",
      "(253/418) dischargeArrhythmia not in columns\n",
      "(254/418) dischargeSeizure not in columns\n",
      "(255/418) dischargeSeizurePreIntervention not in columns\n",
      "(256/418) dischargeSeizureAfterBaseline not in columns\n",
      "(257/418) dischargeSeizureMaintenance not in columns\n",
      "(258/418) dischargeSeizureRewarming not in columns\n",
      "(259/418) dischargeSeizurePostIntervention not in columns\n",
      "(260/418) dischargeEEG not in columns\n",
      "(261/418) dischargeEEGFindingConsistentWithSeizure not in columns\n",
      "(262/418) dischargeEEGAbnormalBackgroundActivity not in columns\n",
      "(263/418) dischargeAnticonvulsantsOver72H not in columns\n",
      "(264/418) dischargeSepticemia not in columns\n",
      "(265/418) dischargeMeningitisEncephalitis not in columns\n",
      "(266/418) dischargeOliguria not in columns\n",
      "(267/418) dischargeAnuria not in columns\n",
      "(268/418) dischargeDialysis not in columns\n",
      "(269/418) dischargeFullNippleFeed not in columns\n",
      "(270/418) dischargeNEC not in columns\n",
      "(271/418) dischargeHepaticDysfunction not in columns\n",
      "(272/418) dischargeDIC not in columns\n",
      "(273/418) dischargeHypoglycemia not in columns\n",
      "(274/418) dischargeHypocalcemia not in columns\n",
      "(275/418) dischargeHypomagnesemia not in columns\n",
      "(276/418) dischargeSyndromeMalformation not in columns\n",
      "(277/418) dischargeMajorSurgery not in columns\n",
      "(278/418) inOtherTrial not in columns\n",
      "(279/418) inOtherTrialText not in columns\n",
      "(280/418) dischargeHearingTest not in columns\n",
      "(281/418) dischargeHearingTestNormal not in columns\n",
      "(282/418) dischargeAlteredSkinItegrityPostIntervention not in columns\n",
      "(283/418) dischargeErythema not in columns\n",
      "(284/418) dischargeSclerema not in columns\n",
      "(285/418) dischargeCyanosis not in columns\n",
      "(286/418) dischargeSubFatNecrosis not in columns\n",
      "(287/418) wdrawSupportDiscussedWithFamily not in columns\n",
      "(288/418) wdrawSupportRecommendSolelyByClinicalTeam not in columns\n",
      "(289/418) wdrawSupportNeurologicalExam not in columns\n",
      "(290/418) wdrawSupportImagingStudy not in columns\n",
      "(291/418) wdrawSupportEEGFinding not in columns\n",
      "(292/418) wdrawSupportMultisystemOrganFailureOtherThanCNS not in columns\n",
      "(293/418) wdrawSupportBrainBloodFlowScan not in columns\n",
      "(294/418) wdrawSupportParentWish not in columns\n",
      "(295/418) wdrawSupportOther not in columns\n",
      "(296/418) wdrawSupportOtherText not in columns\n",
      "(297/418) wdrawSupport not in columns\n",
      "(298/418) limitCareDiscussedWithFamily not in columns\n",
      "(299/418) limitCareRecommendSolelyByClinicalTeam not in columns\n",
      "(300/418) limitCareAgreedByFamilyAndCareTeam not in columns\n",
      "(301/418) limitCareNoFurtherMechanicalVentilationAndIntubation not in columns\n",
      "(302/418) limitCareNoFurtherVentilationWithBagAndMask not in columns\n",
      "(303/418) limitCareNoFurtherMedicationsToSupportBP not in columns\n",
      "(304/418) limitCareNoFurtherChestCompression not in columns\n",
      "(305/418) limitCareNoFurtherEmergencyMedication not in columns\n",
      "(306/418) limitCareDNR not in columns\n",
      "(307/418) dischargeHomeTherapy not in columns\n",
      "(308/418) dischargeHomeTherapyVentilator not in columns\n",
      "(309/418) dischargeHomeTherapyOxygen not in columns\n",
      "(310/418) dischargeHomeTherapyGavageTubeFeed not in columns\n",
      "(311/418) dischargeHomeTherapyGastrostomyTubeFeed not in columns\n",
      "(312/418) dischargeHomeTherapyTemperatureBlanket not in columns\n",
      "(313/418) dischargeHomeTherapyAnticonvulsantMedication not in columns\n",
      "(314/418) dischargeHomeTherapyOther not in columns\n",
      "(315/418) dischargeHomeTherapyOtherText not in columns\n",
      "(316/418) deathAutopsy not in columns\n",
      "(317/418) deathCauseText not in columns\n",
      "(318/418) OC13INIT not in columns\n",
      "(319/418) REC_CMP:oc13 not in columns\n",
      "(320/418) dischargeStatus not in columns\n",
      "(321/418) statusDate not in columns\n",
      "(322/418) dischargeWeight_g not in columns\n",
      "(323/418) dischargeLength_cm not in columns\n",
      "(324/418) dischargeHeadCircumference_cm not in columns\n",
      "(325/418) dischargeVentilator_day not in columns\n",
      "(326/418) dischargeOxygen_day not in columns\n",
      "(327/418) dischargeCPAP_day not in columns\n",
      "(328/418) dischargeEEGFindingConsistentWithSeizureDate not in columns\n",
      "(329/418) dischargeEEGFindingConsistentWithSeizureTime not in columns\n",
      "(330/418) dischargeEEGAbnormalBackgroundActivityDate not in columns\n",
      "(331/418) dischargeEEGAbnormalBackgroundActivityTime not in columns\n",
      "(332/418) dischargeSepticemiaOrganismCode1 not in columns\n",
      "(333/418) dischargeSepticemiaOrganismCode2 not in columns\n",
      "(334/418) dischargeSepticemiaOrganismCode3 not in columns\n",
      "(335/418) dischargeMeningitisOrganismCode1 not in columns\n",
      "(336/418) dischargeMeningitisOrganismCode2 not in columns\n",
      "(337/418) dischargeMeningitisOrganismCode3 not in columns\n",
      "(338/418) dischargeEnteralFeedStart_day not in columns\n",
      "(339/418) dischargeTubeFeedingDuration_day not in columns\n",
      "(340/418) dischargeFullNippleFeed_day not in columns\n",
      "(341/418) dischargeBirthDefectCode1 not in columns\n",
      "(342/418) dischargeBirthDefectCode2 not in columns\n",
      "(343/418) dischargeBirthDefectCode3 not in columns\n",
      "(344/418) dischargeSurgeryCode1 not in columns\n",
      "(345/418) dischargeSurgeryCode2 not in columns\n",
      "(346/418) dischargeSurgeryCode3 not in columns\n",
      "(347/418) dischargeErythemaOnsetDate not in columns\n",
      "(348/418) dischargeErythemaResolveDate not in columns\n",
      "(349/418) dischargeScleremaOnsetDate not in columns\n",
      "(350/418) dischargeScleremaResolveDate not in columns\n",
      "(351/418) dischargeCyanosisOnsetDate not in columns\n",
      "(352/418) dischargeCyanosisResolveDate not in columns\n",
      "(353/418) dischargeSubFatNecrosisOnsetDate not in columns\n",
      "(354/418) dischargeSubFatNecrosisResolveDate not in columns\n",
      "(355/418) wdrawSupportDate not in columns\n",
      "(356/418) wdrawSupportTime not in columns\n",
      "(357/418) limitCareDNRDate not in columns\n",
      "(358/418) limitCareDNRTime not in columns\n",
      "(359/418) transferReason not in columns\n",
      "(360/418) transferOutcome not in columns\n",
      "(361/418) dischargeDate not in columns\n",
      "(362/418) deathDate not in columns\n",
      "(363/418) deathTime not in columns\n",
      "(364/418) deathCause not in columns\n",
      "(365/418) deathSrc not in columns\n",
      "(366/418) CMP_DATE:oc13 not in columns\n",
      "(367/418) CRT_DATE:oc13 not in columns\n",
      "(368/418) post_NeuroExamSectionID_x not in columns\n",
      "(369/418) dischargeNeuroExam_x not in columns\n",
      "(379/418) OC11ENAM_x not in columns\n",
      "(380/418) REC_CMP_x not in columns\n",
      "(381/418) post_NeuroExamStatus not in columns\n",
      "(391/418) CMP_DATE_x not in columns\n",
      "(392/418) CRT_DATE_x not in columns\n",
      "(393/418) post_NeuroExamSectionID_y not in columns\n",
      "(394/418) dischargeNeuroExam_y not in columns\n",
      "(395/418) dischargeNeuroExamTone not in columns\n",
      "(396/418) dischargeNeuroExamRespiration not in columns\n",
      "(397/418) dischargeNeuroExamSeizure not in columns\n",
      "(398/418) dischargeNeuroExamSedate not in columns\n",
      "(399/418) dischargeNeuroExamClonusSustained not in columns\n",
      "(400/418) dischargeNeuroExamFistedHand not in columns\n",
      "(401/418) dischargeNeuroExamAbnormalMovement not in columns\n",
      "(402/418) dischargeNeuroExamGagReflexAbsent not in columns\n",
      "(403/418) dischargeNeuroExamAsymTonicNeckReflex not in columns\n",
      "(404/418) OC11ENAM_y not in columns\n",
      "(405/418) REC_CMP_y not in columns\n",
      "(406/418) dischargeNeuroExamStatus not in columns\n",
      "(407/418) dischargeNeuroExamDate not in columns\n",
      "(408/418) dischargeNeuroExamTime not in columns\n",
      "(409/418) dischargeNeuroExamLevelConsciousness not in columns\n",
      "(410/418) dischargeNeuroExamSpontaneousActivity not in columns\n",
      "(411/418) dischargeNeuroExamPosture not in columns\n",
      "(412/418) dischargeNeuroExamSuck not in columns\n",
      "(413/418) dischargeNeuroExamMoro not in columns\n",
      "(414/418) dischargeNeuroExamPupils not in columns\n",
      "(415/418) dischargeNeuroExamHeartRate not in columns\n",
      "(416/418) CMP_DATE_y not in columns\n",
      "(417/418) CRT_DATE_y not in columns\n",
      "(2/23) post_NeuroExamSectionID not in df\n",
      "(3/23) post_NeuroExam not in df\n",
      "(21/23) post_NeuroExamHypertonia not in df\n"
     ]
    }
   ],
   "source": [
    "df_neuro_exam = COMBINE_harmonizer.valid_columns(df_main, all_neuro_exam_columns, debug_df=True, debug_columns=True)\n",
    "df_neuro_exam = COMBINE_harmonizer.postprocess(df_neuro_exam)\n",
    "\n",
    "out_filename = os.sep.join([out_dir, '03-04-post-neuro-exam.csv'])\n",
    "df_neuro_exam.to_csv(out_filename, index=False)"
   ]
  },
  {
   "cell_type": "markdown",
   "id": "e6031512",
   "metadata": {},
   "source": [
    "### 03-04-1. check neuro exam"
   ]
  },
  {
   "cell_type": "code",
   "execution_count": 153,
   "id": "3c858a5f",
   "metadata": {
    "execution": {
     "iopub.execute_input": "2025-02-04T10:53:56.229641Z",
     "iopub.status.busy": "2025-02-04T10:53:56.229419Z",
     "iopub.status.idle": "2025-02-04T10:53:56.237333Z",
     "shell.execute_reply": "2025-02-04T10:53:56.236946Z"
    }
   },
   "outputs": [
    {
     "data": {
      "text/html": [
       "<div>\n",
       "<style scoped>\n",
       "    .dataframe tbody tr th:only-of-type {\n",
       "        vertical-align: middle;\n",
       "    }\n",
       "\n",
       "    .dataframe tbody tr th {\n",
       "        vertical-align: top;\n",
       "    }\n",
       "\n",
       "    .dataframe thead th {\n",
       "        text-align: right;\n",
       "    }\n",
       "</style>\n",
       "<table border=\"1\" class=\"dataframe\">\n",
       "  <thead>\n",
       "    <tr style=\"text-align: right;\">\n",
       "      <th></th>\n",
       "      <th>_count</th>\n",
       "    </tr>\n",
       "    <tr>\n",
       "      <th>uniqueID</th>\n",
       "      <th></th>\n",
       "    </tr>\n",
       "  </thead>\n",
       "  <tbody>\n",
       "  </tbody>\n",
       "</table>\n",
       "</div>"
      ],
      "text/plain": [
       "Empty DataFrame\n",
       "Columns: [_count]\n",
       "Index: []"
      ]
     },
     "execution_count": 153,
     "metadata": {},
     "output_type": "execute_result"
    }
   ],
   "source": [
    "df_neuro_exam_groupby = df_neuro_exam.groupby(['uniqueID']).agg(_count=('uniqueID', 'count'))\n",
    "\n",
    "is_invalid = df_neuro_exam_groupby['_count'] > 1\n",
    "df_neuro_exam_groupby[is_invalid]"
   ]
  },
  {
   "cell_type": "markdown",
   "id": "b05576be",
   "metadata": {},
   "source": [
    "### 03-04-2. check empty cells"
   ]
  },
  {
   "cell_type": "code",
   "execution_count": 154,
   "id": "b7ec03d3",
   "metadata": {
    "execution": {
     "iopub.execute_input": "2025-02-04T10:53:56.239443Z",
     "iopub.status.busy": "2025-02-04T10:53:56.239271Z",
     "iopub.status.idle": "2025-02-04T10:53:56.244515Z",
     "shell.execute_reply": "2025-02-04T10:53:56.244180Z"
    }
   },
   "outputs": [
    {
     "name": "stdout",
     "output_type": "stream",
     "text": [
      "(0/21) column: center (364 / 0)\n",
      "(1/21) column: subjectID (364 / 0)\n",
      "(2/21) column: uniqueID (364 / 0)\n",
      "(3/21) column: post_NeuroExamTone (308 / 56)\n",
      "(4/21) column: post_NeuroExamRespiration (308 / 56)\n",
      "(5/21) column: post_NeuroExamSeizure (308 / 56)\n",
      "(6/21) column: post_NeuroExamSedate (308 / 56)\n",
      "(7/21) column: post_NeuroExamClonusSustained (308 / 56)\n",
      "(8/21) column: post_NeuroExamFistedHand (308 / 56)\n",
      "(9/21) column: post_NeuroExamAbnormalMovement (308 / 56)\n",
      "(10/21) column: post_NeuroExamGagReflexAbsent (308 / 56)\n",
      "(11/21) column: post_NeuroExamAsymTonicNeckReflex (0 / 364)\n",
      "(12/21) column: post_NeuroExamDate (308 / 56)\n",
      "(13/21) column: post_NeuroExamTime (307 / 57)\n",
      "(14/21) column: post_NeuroExamLevelConsciousness (308 / 56)\n",
      "(15/21) column: post_NeuroExamSpontaneousActivity (308 / 56)\n",
      "(16/21) column: post_NeuroExamPosture (307 / 57)\n",
      "(17/21) column: post_NeuroExamSuck (306 / 58)\n",
      "(18/21) column: post_NeuroExamMoro (289 / 75)\n",
      "(19/21) column: post_NeuroExamPupils (290 / 74)\n",
      "(20/21) column: post_NeuroExamHeartRate (306 / 58)\n"
     ]
    }
   ],
   "source": [
    "COMBINE_harmonizer.check_empty(df_neuro_exam)"
   ]
  },
  {
   "cell_type": "code",
   "execution_count": 155,
   "id": "e4393f5d",
   "metadata": {
    "execution": {
     "iopub.execute_input": "2025-02-04T10:53:56.246175Z",
     "iopub.status.busy": "2025-02-04T10:53:56.246025Z",
     "iopub.status.idle": "2025-02-04T10:53:56.249560Z",
     "shell.execute_reply": "2025-02-04T10:53:56.249227Z"
    }
   },
   "outputs": [
    {
     "name": "stdout",
     "output_type": "stream",
     "text": [
      "(0/21) center: (364/0)\n",
      "(1/21) subjectID: (364/0)\n",
      "(2/21) uniqueID: (364/0)\n",
      "(3/21) post_NeuroExamTone: (308/56)\n",
      "(4/21) post_NeuroExamRespiration: (308/56)\n",
      "(5/21) post_NeuroExamSeizure: (308/56)\n",
      "(6/21) post_NeuroExamSedate: (308/56)\n",
      "(7/21) post_NeuroExamClonusSustained: (308/56)\n",
      "(8/21) post_NeuroExamFistedHand: (308/56)\n",
      "(9/21) post_NeuroExamAbnormalMovement: (308/56)\n",
      "(10/21) post_NeuroExamGagReflexAbsent: (308/56)\n",
      "(11/21) post_NeuroExamAsymTonicNeckReflex: (0/364)\n",
      "(12/21) post_NeuroExamDate: (308/56)\n",
      "(13/21) post_NeuroExamTime: (307/57)\n",
      "(14/21) post_NeuroExamLevelConsciousness: (308/56)\n",
      "(15/21) post_NeuroExamSpontaneousActivity: (308/56)\n",
      "(16/21) post_NeuroExamPosture: (307/57)\n",
      "(17/21) post_NeuroExamSuck: (306/58)\n",
      "(18/21) post_NeuroExamMoro: (289/75)\n",
      "(19/21) post_NeuroExamPupils: (290/74)\n",
      "(20/21) post_NeuroExamHeartRate: (306/58)\n"
     ]
    }
   ],
   "source": [
    "COMBINE_harmonizer.column_info(df_neuro_exam)"
   ]
  },
  {
   "cell_type": "markdown",
   "id": "39d3632a-8776-4eed-8ec4-76b868ef452c",
   "metadata": {},
   "source": [
    "## 03-05. MRI"
   ]
  },
  {
   "cell_type": "code",
   "execution_count": 156,
   "id": "56bf0547",
   "metadata": {
    "execution": {
     "iopub.execute_input": "2025-02-04T10:53:56.251214Z",
     "iopub.status.busy": "2025-02-04T10:53:56.251112Z",
     "iopub.status.idle": "2025-02-04T10:53:56.254956Z",
     "shell.execute_reply": "2025-02-04T10:53:56.254661Z"
    }
   },
   "outputs": [
    {
     "data": {
      "text/plain": [
       "['center',\n",
       " 'subjectID',\n",
       " 'MRIAvailable',\n",
       " 'MRIAvailable_c',\n",
       " 'MRIObtain',\n",
       " 'MRIObtainWindow',\n",
       " 'MRIObtainWindow_c',\n",
       " 'MRIDate',\n",
       " 'MRITime',\n",
       " 'MRIObtainComment',\n",
       " 'MRISendRTIDate',\n",
       " 'MRIReceiveRTIDate',\n",
       " 'MRINoObtainReason',\n",
       " 'MRINoObtainReason_c',\n",
       " 'MRINoObtainReasonText',\n",
       " 'MRIRead',\n",
       " 'MRIScore',\n",
       " 'MRIIteration',\n",
       " 'MRIIncrement',\n",
       " 'MRIID',\n",
       " 'MRIReader',\n",
       " 'MRIReadDate',\n",
       " 'MRIStrength_T',\n",
       " 'MRIStrength_c',\n",
       " 'MRIAdequateQuality',\n",
       " 'MRIAdequateQuality_c',\n",
       " 'MRIT1Axial',\n",
       " 'MRIT1Axial_c',\n",
       " 'MRIT1Coronal',\n",
       " 'MRIT1Coronal_c',\n",
       " 'MRIT1Sagittal',\n",
       " 'MRIT1Sagittal_c',\n",
       " 'MRIT1',\n",
       " 'MRIT2Axial',\n",
       " 'MRIT2Axial_c',\n",
       " 'MRIT2Coronal',\n",
       " 'MRIT2Coronal_c',\n",
       " 'MRIT2Sagittal',\n",
       " 'MRIT2Sagittal_c',\n",
       " 'MRIT2',\n",
       " 'MRIT2FLAIRAxial',\n",
       " 'MRIT2FLAIRAxial_c',\n",
       " 'MRIT2FLAIRCoronal',\n",
       " 'MRIT2FLAIRCoronal_c',\n",
       " 'MRIT2FLAIRSagittal',\n",
       " 'MRIT2FLAIRSagittal_c',\n",
       " 'MRIT2FLAIR',\n",
       " 'MRIGRESWIAxial',\n",
       " 'MRIGRESWIAxial_c',\n",
       " 'MRIGRESWICoronal',\n",
       " 'MRIGRESWICoronal_c',\n",
       " 'MRIGRESWISagittal',\n",
       " 'MRIGRESWISagittal_c',\n",
       " 'MRIGRESWI',\n",
       " 'MRISPGRAxial',\n",
       " 'MRISPGRAxial_c',\n",
       " 'MRISPGRCoronal',\n",
       " 'MRISPGRCoronal_c',\n",
       " 'MRISPGRSagittal',\n",
       " 'MRISPGRSagittal_c',\n",
       " 'MRISPGR',\n",
       " 'MRIDWI',\n",
       " 'MRIDWI_c',\n",
       " 'MRIADC',\n",
       " 'MRIADC_c',\n",
       " 'MRIMRS',\n",
       " 'MRIMRS_c',\n",
       " 'MRIOther',\n",
       " 'MRIOther_c',\n",
       " 'MRIOtherText',\n",
       " 'MRIOverallDiagnosis',\n",
       " 'MRIOverallDiagnosis_c',\n",
       " 'MRIOverallDiagnosisText',\n",
       " 'MRIAbnormal',\n",
       " 'MRIAbnormal_c',\n",
       " 'MRILesionNumber',\n",
       " 'MRILesionHemisphere',\n",
       " 'MRILesionHemisphere_c',\n",
       " 'MRIAbnormalRegion1',\n",
       " 'MRIAbnormalRegion1_c',\n",
       " 'MRIAbnormalRegion2',\n",
       " 'MRIAbnormalRegion2_c',\n",
       " 'MRIAbnormalRegion3',\n",
       " 'MRIAbnormalRegion3_c',\n",
       " 'MRIAbnormalSide',\n",
       " 'MRIAbnormalSide_c',\n",
       " 'MRIAbnormalGrayMatterWhiteMatter',\n",
       " 'MRIAbnormalGrayMatterWhiteMatter_c',\n",
       " 'MRIAbnormalExtent1',\n",
       " 'MRIAbnormalExtent1_c',\n",
       " 'MRIAbnormalExtent2',\n",
       " 'MRIAbnormalExtent2_c',\n",
       " 'MRIAbnormalType',\n",
       " 'MRIAbnormalType_c',\n",
       " 'MRIAbnormalType2',\n",
       " 'MRIAbnormalType2_c',\n",
       " 'MRIAbnormalComment',\n",
       " 'MRICerebralAtrophy',\n",
       " 'MRICerebralAtrophy_c',\n",
       " 'MRICerebralAtrophyGlobalLocal',\n",
       " 'MRICerebralAtrophyGlobalLocal_c',\n",
       " 'MRICerebralAtrophyRegion',\n",
       " 'MRICerebralAtrophyQualAssessCC',\n",
       " 'MRICerebralAtrophyQualAssessCC_c',\n",
       " 'MRICerebralAtrophyQualAssessVDLeft',\n",
       " 'MRICerebralAtrophyQualAssessVDLeft_c',\n",
       " 'MRICerebralAtrophyQualAssessVDRight',\n",
       " 'MRICerebralAtrophyQualAssessVDRight_c',\n",
       " 'MRIInfarction',\n",
       " 'MRIInfarction_c',\n",
       " 'MRIInfarctionAterialTerritoryLeft',\n",
       " 'MRIInfarctionAterialTerritoryLeft_c',\n",
       " 'MRIInfarctionAterialTerritoryRight',\n",
       " 'MRIInfarctionAterialTerritoryRight_c',\n",
       " 'MRIInfarctionWatershedLeft',\n",
       " 'MRIInfarctionWatershedLeft_c',\n",
       " 'MRIInfarctionWatershedRight',\n",
       " 'MRIInfarctionWatershedRight_c',\n",
       " 'MRIMidlineShift',\n",
       " 'MRIMidlineShift_c',\n",
       " 'MRIBGT',\n",
       " 'MRIBGT_c',\n",
       " 'MRIPLIC',\n",
       " 'MRIPLIC_c',\n",
       " 'MRIALIC',\n",
       " 'MRIALIC_c',\n",
       " 'MRIWatershed',\n",
       " 'MRIWatershed_c',\n",
       " 'MRIWhiteMatterInjury',\n",
       " 'MRIWhiteMatterInjury_c',\n",
       " 'MRIFocalCorticalInjury',\n",
       " 'MRIFocalCorticalInjury_c',\n",
       " 'MRINRNPatternOfInjury',\n",
       " 'MRINRNPatternOfInjury_c',\n",
       " 'MRINRNPatternOfInjuryExtent',\n",
       " 'MRINRNPatternOfInjuryExtent_c',\n",
       " 'MRINRNPatternOfInjuryLateral',\n",
       " 'MRINRNPatternOfInjuryLateral_c',\n",
       " 'MRIComment']"
      ]
     },
     "execution_count": 156,
     "metadata": {},
     "output_type": "execute_result"
    }
   ],
   "source": [
    "mri_columns = COMBINE_harmonizer.get_columns(df_data_dict, 'Post-intervention', 'MRI')\n",
    "all_mri_columns = list(dict.fromkeys(id_columns + mri_columns))\n",
    "all_mri_columns"
   ]
  },
  {
   "cell_type": "code",
   "execution_count": 157,
   "id": "2cd8cd9a",
   "metadata": {
    "execution": {
     "iopub.execute_input": "2025-02-04T10:53:56.256531Z",
     "iopub.status.busy": "2025-02-04T10:53:56.256381Z",
     "iopub.status.idle": "2025-02-04T10:53:56.366310Z",
     "shell.execute_reply": "2025-02-04T10:53:56.365980Z"
    }
   },
   "outputs": [
    {
     "name": "stdout",
     "output_type": "stream",
     "text": [
      "(3/82) OM3READR not in columns\n",
      "(43/82) OM3RDRSTAT not in columns\n",
      "(44/82) OM3RDRSTAT_code not in columns\n",
      "(45/82) OM3RDRSTATSP not in columns\n",
      "(78/82) FormStatus not in columns\n",
      "(79/82) DateComplete not in columns\n",
      "(80/82) DateCreated not in columns\n",
      "(81/82) KeyedUser not in columns\n",
      "center03: ['OC3261', 'OC3261', 'OC3261', 'OC3281', 'OC3281', 'OC3281', 'OC3291', 'OC3331', 'OC3371', 'OC3371', 'OC3371', 'OC3381', 'OC3381', 'OC3381', 'OC3421', 'OC3421', 'OC3421', 'OC3431', 'OC3451', 'OC3451', 'OC3451']\n",
      "center04: ['OC0031', 'OC0031', 'OC0031', 'OC0041', 'OC0081', 'OC0091', 'OC0091', 'OC0091', 'OC0101', 'OC0111', 'OC0111', 'OC0111', 'OC0121', 'OC0211', 'OC0211', 'OC0211', 'OC0241', 'OC0361', 'OC0371', 'OC0371', 'OC0371', 'OC0581', 'OC0661', 'OC0661', 'OC0661', 'OC0691', 'OC0691', 'OC0691', 'OC0761', 'OC0761', 'OC0761', 'OC0871', 'OC0871', 'OC0871', 'OC0881', 'OC0891', 'OC0901', 'OC0901', 'OC0901', 'OC0921', 'OC0951', 'OC0951', 'OC0951', 'OC0981', 'OC0981', 'OC0981', 'OC1091', 'OC1111', 'OC1111', 'OC1111', 'OC1141', 'OC1141', 'OC1141']\n",
      "center05: ['OC0031', 'OC0031', 'OC0031', 'OC0041', 'OC0181', 'OC0181', 'OC0181', 'OC0211', 'OC0211', 'OC0211', 'OC0241', 'OC0241', 'OC0241', 'OC0261', 'OC0261', 'OC0261', 'OC0271', 'OC0291', 'OC0301', 'OC0401', 'OC0401', 'OC0401', 'OC0491', 'OC0511', 'OC0551', 'OC0551', 'OC0551', 'OC0561', 'OC0571', 'OC0571', 'OC0571', 'OC0601', 'OC0651', 'OC0711', 'OC0721', 'OC0721', 'OC0721', 'OC0731', 'OC0741', 'OC0741', 'OC0741', 'OC0821', 'OC0821', 'OC0821', 'OC0831', 'OC0831', 'OC0831', 'OC0851', 'OC0851', 'OC0851', 'OC0871', 'OC0871', 'OC0871', 'OC0881', 'OC0881', 'OC0881', 'OC0891', 'OC0891', 'OC0891', 'OC1021', 'OC1021', 'OC1021']\n",
      "center09: ['OC0081', 'OC0161', 'OC0181', 'OC0181', 'OC0181', 'OC0191', 'OC0221', 'OC0221', 'OC0221', 'OC0271', 'OC0271', 'OC0271', 'OC0291', 'OC0291', 'OC0291', 'OC0341', 'OC0401', 'OC0401', 'OC0401', 'OC0411', 'OC0441', 'OC0441', 'OC0441', 'OC0451', 'OC0451', 'OC0451', 'OC0481', 'OC0551', 'OC0571', 'OC0571', 'OC0571', 'OC0651', 'OC0651', 'OC0651', 'OC0681', 'OC0681', 'OC0681', 'OC0691', 'OC0691', 'OC0691', 'OC0701', 'OC0701', 'OC0701', 'OC0731', 'OC0731', 'OC0731', 'OC0771', 'OC0801']\n",
      "center11: ['OC0021', 'OC0031', 'OC0041', 'OC0071', 'OC0101', 'OC0101', 'OC0101', 'OC0261']\n",
      "center12: ['OC0012', 'OC0012', 'OC0012', 'OC0021', 'OC0021', 'OC0021', 'OC0032', 'OC0041', 'OC0041', 'OC0041', 'OC0081', 'OC0081', 'OC0081', 'OC0091', 'OC0091', 'OC0091', 'OC0101', 'OC0101', 'OC0101', 'OC0111', 'OC0111', 'OC0111', 'OC0131', 'OC0142', 'OC0191', 'OC0201', 'OC0201', 'OC0201', 'OC0211', 'OC0211', 'OC0211', 'OC0221', 'OC0231', 'OC0241', 'OC0281', 'OC0291', 'OC0291', 'OC0291', 'OC0301', 'OC0301', 'OC0301', 'OC0312', 'OC0312', 'OC0312', 'OC0321', 'OC0321', 'OC0321', 'OC0342', 'OC0342', 'OC0342', 'OC0351', 'OC0361', 'OC0372', 'OC0372', 'OC0372', 'OC0391', 'OC0411', 'OC0431', 'OC0431', 'OC0431', 'OC0441', 'OC0441', 'OC0441', 'OC0461', 'OC0521']\n",
      "center14: ['OC0011', 'OC0011', 'OC0011', 'OC0031', 'OC0031', 'OC0031', 'OC0081', 'OC0091', 'OC0111', 'OC0181', 'OC0211', 'OC0211', 'OC0211', 'OC0221', 'OC0221', 'OC0221', 'OC0251', 'OC0331', 'OC0331', 'OC0331', 'OC0341', 'OC0341', 'OC0341', 'OC0431', 'OC0561', 'OC0561', 'OC0561', 'OC0591', 'OC0631', 'OC0661', 'OC0661', 'OC0661', 'OC0681', 'OC0691', 'OC0691', 'OC0691']\n",
      "center15: ['OC0021', 'OC0061', 'OC0081', 'OC0081', 'OC0081', 'OC0091', 'OC0111', 'OC0111', 'OC0111', 'OC0131', 'OC0141', 'OC0171', 'OC0181', 'OC0181', 'OC0181', 'OC0191', 'OC0231', 'OC0231', 'OC0231', 'OC0251', 'OC0311', 'OC0321', 'OC0321', 'OC0321', 'OC0331', 'OC0361', 'OC0391', 'OC0391', 'OC0391', 'OC0401', 'OC0421', 'OC0421', 'OC0421', 'OC0441', 'OC0441', 'OC0441', 'OC0471', 'OC0471', 'OC0471']\n",
      "center16: ['OC0011', 'OC0091', 'OC0091', 'OC0091', 'OC0111', 'OC0111', 'OC0111', 'OC0131', 'OC0131', 'OC0131', 'OC0141', 'OC0161', 'OC0161', 'OC0161', 'OC0181', 'OC0181', 'OC0181', 'OC0191', 'OC0191', 'OC0191', 'OC0281']\n",
      "center18: ['OC0041', 'OC0041', 'OC0041', 'OC0051', 'OC0241', 'OC0241', 'OC0241', 'OC0281', 'OC0281', 'OC0281', 'OC0321', 'OC0371', 'OC0411', 'OC0421', 'OC0431', 'OC0431', 'OC0431', 'OC0451', 'OC0471', 'OC0471', 'OC0471', 'OC0491', 'OC0491', 'OC0491', 'OC0511', 'OC0511', 'OC0511', 'OC0531', 'OC0531', 'OC0531', 'OC0561', 'OC0561', 'OC0561', 'OC0571', 'OC0581', 'OC0591', 'OC0631', 'OC0661', 'OC0661', 'OC0661', 'OC0671', 'OC0681', 'OC0681', 'OC0681', 'OC0691', 'OC0701', 'OC0701', 'OC0701', 'OC0731', 'OC0751', 'OC0751', 'OC0751', 'OC0761', 'OC0761', 'OC0761']\n",
      "center19: ['OC0381', 'OC0381', 'OC0381', 'OC0391', 'OC0391', 'OC0391', 'OC0411', 'OC0421', 'OC0421', 'OC0421', 'OC0441', 'OC0481', 'OC0561', 'OC0561', 'OC0561', 'OC0661', 'OC0671', 'OC0691', 'OC0851', 'OC0851', 'OC0851', 'OC0861', 'OC0861', 'OC0861', 'OC9411', 'OC9411', 'OC9411', 'OC9431', 'OC9431', 'OC9431', 'OC9441', 'OC9441', 'OC9441', 'OC9451', 'OC9451', 'OC9451', 'OC9511', 'OC9541', 'OC9541', 'OC9541', 'OC9661', 'OC9681', 'OC9701', 'OC9701', 'OC9701', 'OC9781', 'OC9781', 'OC9781', 'OC9811', 'OC9811', 'OC9811', 'OC9901', 'OC9901', 'OC9901', 'OC9941', 'OC9971', 'OC9971', 'OC9971', 'OC9991']\n",
      "center24: ['OC1051', 'OC1061', 'OC1061', 'OC1061', 'OC1101', 'OC1101', 'OC1101', 'OC1151', 'OC1161', 'OC1161', 'OC1161', 'OC1201', 'OC1201', 'OC1201', 'OC1211', 'OC1211', 'OC1211', 'OC1231', 'OC1231', 'OC1231', 'OC1241', 'OC1281', 'OC1291', 'OC1291', 'OC1291', 'OC1301', 'OC1301', 'OC1301', 'OC1331', 'OC1331', 'OC1331', 'OC1341', 'OC1341', 'OC1341', 'OC1371', 'OC1371', 'OC1371']\n",
      "center26: ['OC0361', 'OC0371', 'OC0371', 'OC0371']\n",
      "center27: ['OC0011', 'OC0021', 'OC0031', 'OC0041', 'OC0041', 'OC0041', 'OC0051', 'OC0051', 'OC0051', 'OC0091', 'OC0101', 'OC0101', 'OC0101', 'OC0171', 'OC0201', 'OC0221', 'OC0221', 'OC0221', 'OC0231', 'OC0231', 'OC0231', 'OC0261', 'OC0261', 'OC0261', 'OC0291', 'OC0291', 'OC0291', 'OC0301', 'OC0321', 'OC0321', 'OC0321', 'OC0331', 'OC0331', 'OC0331', 'OC8561', 'OC8561', 'OC8561']\n",
      "center28: ['OC0011', 'OC0011', 'OC0011', 'OC0021', 'OC0021', 'OC0021', 'OC0031', 'OC0031', 'OC0031', 'OC0041', 'OC0041', 'OC0041', 'OC0051', 'OC0071', 'OC0101', 'OC0251', 'OC0251', 'OC0251', 'OC0291', 'OC0291', 'OC0291', 'OC3051', 'OC3061', 'OC3081', 'OC3091', 'OC3091', 'OC3091', 'OC3161']\n",
      "center29: ['OC0031', 'OC0031', 'OC0031', 'OC0071', 'OC0071', 'OC0071', 'OC0101', 'OC0101', 'OC0101', 'OC0151', 'OC0151', 'OC0151', 'OC0161', 'OC0171', 'OC0171', 'OC0171', 'OC0181', 'OC0181', 'OC0181', 'OC0191', 'OC0191', 'OC0191', 'OC0201', 'OC0211', 'OC0211', 'OC0211', 'OC0221', 'OC0221', 'OC0221', 'OC0241', 'OC0241', 'OC0241', 'OC0291', 'OC0291', 'OC0291', 'OC0331', 'OC0341']\n",
      "center30: ['OC0011', 'OC0011', 'OC0011', 'OC0021', 'OC0042', 'OC0042', 'OC0042', 'OC0071', 'OC0131', 'OC0131', 'OC0131', 'OC0171', 'OC0181', 'OC0181', 'OC0181', 'OC0191', 'OC0191', 'OC0191', 'OC0201', 'OC0201', 'OC0201', 'OC0251', 'OC0271', 'OC0281', 'OC0281', 'OC0281', 'OC0301', 'OC0301', 'OC0301', 'OC0321', 'OC0321', 'OC0321', 'OC0331', 'OC0381', 'OC0421', 'OC0451', 'OC0451', 'OC0451', 'OC0461', 'OC0471', 'OC0471', 'OC0471']\n",
      "center31: ['OC3141', 'OC3141', 'OC3141', 'OC3181', 'OC3181', 'OC3181', 'OC3221', 'OC3221', 'OC3221', 'OC3301', 'OC3311', 'OC3321', 'OC3331', 'OC3381', 'OC3411', 'OC3441', 'OC3561', 'OC3561', 'OC3561']\n"
     ]
    }
   ],
   "source": [
    "df_mri = df_dict[_MRI_FILENAME].copy()\n",
    "\n",
    "df_mri = COMBINE_harmonizer.valid_columns(df_mri, all_valid_columns, debug_df=True, debug_columns=False)\n",
    "df_mri = COMBINE_harmonizer.postprocess(df_mri)\n",
    "\n",
    "### XXX hack to reset siteID to meet with the filename\n",
    "df_mri['siteID'] = ''\n",
    "\n",
    "is_center03 = df_mri['center'] == '03'\n",
    "df_mri.loc[is_center03, 'siteID'] = 'A'\n",
    "print(f\"center03: {list(df_mri['subjectID'][is_center03].sort_values())}\")\n",
    "\n",
    "is_center04 = df_mri['center'] == '04'\n",
    "df_mri.loc[is_center04, 'siteID'] = '1'\n",
    "print(f\"center04: {list(df_mri['subjectID'][is_center04].sort_values())}\")\n",
    "\n",
    "is_center05 = df_mri['center'] == '05'\n",
    "df_mri.loc[is_center05, 'siteID'] = 'A'\n",
    "print(f\"center05: {list(df_mri['subjectID'][is_center05].sort_values())}\")\n",
    "\n",
    "is_center09 = df_mri['center'] == '09'\n",
    "is_subjectA = df_mri['subjectID'].isin(['OC0191', 'OC0401', 'OC0441'])\n",
    "is_center09_subjectA = is_center09 * is_subjectA\n",
    "is_center09_subjectB = is_center09 * (is_subjectA == False)\n",
    "df_mri.loc[is_center09_subjectA, 'siteID'] = 'A'\n",
    "df_mri.loc[is_center09_subjectB, 'siteID'] = 'B'\n",
    "print(f\"center09: {list(df_mri['subjectID'][is_center09].sort_values())}\")\n",
    "\n",
    "is_center11 = df_mri['center'] == '11'\n",
    "df_mri.loc[is_center11, 'siteID'] = 'B'\n",
    "print(f\"center11: {list(df_mri['subjectID'][is_center11].sort_values())}\")\n",
    "\n",
    "is_center12 = df_mri['center'] == '12'\n",
    "df_mri.loc[is_center12, 'siteID'] = 'B'\n",
    "print(f\"center12: {list(df_mri['subjectID'][is_center12].sort_values())}\")\n",
    "\n",
    "is_center14 = df_mri['center'] == '14'\n",
    "df_mri.loc[is_center14, 'siteID'] = 'A'\n",
    "print(f\"center14: {list(df_mri['subjectID'][is_center14].sort_values())}\")\n",
    "\n",
    "is_center15 = df_mri['center'] == '15'\n",
    "df_mri.loc[is_center15, 'siteID'] = 'A'\n",
    "print(f\"center15: {list(df_mri['subjectID'][is_center15].sort_values())}\")\n",
    "\n",
    "is_center16 = df_mri['center'] == '16'\n",
    "df_mri.loc[is_center16, 'siteID'] = 'A'\n",
    "print(f\"center16: {list(df_mri['subjectID'][is_center16].sort_values())}\")\n",
    "\n",
    "is_center18 = df_mri['center'] == '18'\n",
    "df_mri.loc[is_center18, 'siteID'] = '1'\n",
    "print(f\"center18: {list(df_mri['subjectID'][is_center18].sort_values())}\")\n",
    "\n",
    "is_center19 = df_mri['center'] == '19'\n",
    "is_subjectA = df_mri['subjectID'].isin(['OC0381', 'OC0391', 'OC0411', 'OC0421', 'OC0441', 'OC0481', 'OC0561', 'OC0661', 'OC0671', 'OC0691', 'OC0851', 'OC0861'])\n",
    "is_center19_subjectA = is_center19 * is_subjectA\n",
    "is_center19_subjectE = is_center19 * (is_subjectA == False)\n",
    "df_mri.loc[is_center19_subjectA, 'siteID'] = 'A'\n",
    "df_mri.loc[is_center19_subjectE, 'siteID'] = 'E'\n",
    "print(f\"center19: {list(df_mri['subjectID'][is_center19].sort_values())}\")\n",
    "\n",
    "is_center24 = df_mri['center'] == '24'\n",
    "df_mri.loc[is_center24, 'siteID'] = 'A'\n",
    "print(f\"center24: {list(df_mri['subjectID'][is_center24].sort_values())}\")\n",
    "\n",
    "is_center26 = df_mri['center'] == '26'\n",
    "df_mri.loc[is_center26, 'siteID'] = 'A'\n",
    "print(f\"center26: {list(df_mri['subjectID'][is_center26].sort_values())}\")\n",
    "\n",
    "is_center27 = df_mri['center'] == '27'\n",
    "df_mri.loc[is_center27, 'siteID'] = 'C'\n",
    "print(f\"center27: {list(df_mri['subjectID'][is_center27].sort_values())}\")\n",
    "\n",
    "is_center28 = df_mri['center'] == '28'\n",
    "is_subject1 = df_mri['subjectID'].isin(['OC3051', 'OC3061', 'OC3081', 'OC3091', 'OC3161'])\n",
    "is_center28_subject1 = is_center28 * is_subject1\n",
    "is_center28_subject2 = is_center28 * (is_subject1 == False)\n",
    "df_mri.loc[is_center28_subject1, 'siteID'] = '1'\n",
    "df_mri.loc[is_center28_subject2, 'siteID'] = '2'\n",
    "print(f\"center28: {list(df_mri['subjectID'][is_center28].sort_values())}\")\n",
    "\n",
    "is_center29 = df_mri['center'] == '29'\n",
    "df_mri.loc[is_center29, 'siteID'] = 'W'\n",
    "print(f\"center29: {list(df_mri['subjectID'][is_center29].sort_values())}\")\n",
    "\n",
    "is_center30 = df_mri['center'] == '30'\n",
    "df_mri.loc[is_center30, 'siteID'] = 'A'\n",
    "print(f\"center30: {list(df_mri['subjectID'][is_center30].sort_values())}\")\n",
    "\n",
    "is_center31 = df_mri['center'] == '31'\n",
    "df_mri.loc[is_center31, 'siteID'] = 'A'\n",
    "print(f\"center31: {list(df_mri['subjectID'][is_center31].sort_values())}\")\n",
    "\n",
    "df_mri['siteID'] = df_mri['siteID'].fillna('')\n",
    "df_mri['MRI_ID'] = df_mri.apply(lambda x: f\"{x['subjectID'][:-1]}_Center{x['center']}Site{x['siteID']}\", axis=1)\n",
    "\n",
    "out_filename = os.sep.join([out_dir, '03-05-mri.csv'])\n",
    "df_mri.to_csv(out_filename, index=False)"
   ]
  },
  {
   "cell_type": "markdown",
   "id": "157fe101",
   "metadata": {},
   "source": [
    "### 03-05-1. check MRI"
   ]
  },
  {
   "cell_type": "code",
   "execution_count": 158,
   "id": "0aa56d60",
   "metadata": {
    "execution": {
     "iopub.execute_input": "2025-02-04T10:53:56.368229Z",
     "iopub.status.busy": "2025-02-04T10:53:56.368066Z",
     "iopub.status.idle": "2025-02-04T10:53:56.374824Z",
     "shell.execute_reply": "2025-02-04T10:53:56.374521Z"
    }
   },
   "outputs": [
    {
     "data": {
      "text/html": [
       "<div>\n",
       "<style scoped>\n",
       "    .dataframe tbody tr th:only-of-type {\n",
       "        vertical-align: middle;\n",
       "    }\n",
       "\n",
       "    .dataframe tbody tr th {\n",
       "        vertical-align: top;\n",
       "    }\n",
       "\n",
       "    .dataframe thead th {\n",
       "        text-align: right;\n",
       "    }\n",
       "</style>\n",
       "<table border=\"1\" class=\"dataframe\">\n",
       "  <thead>\n",
       "    <tr style=\"text-align: right;\">\n",
       "      <th></th>\n",
       "      <th></th>\n",
       "      <th>_count</th>\n",
       "    </tr>\n",
       "    <tr>\n",
       "      <th>uniqueID</th>\n",
       "      <th>MRIReader</th>\n",
       "      <th></th>\n",
       "    </tr>\n",
       "  </thead>\n",
       "  <tbody>\n",
       "  </tbody>\n",
       "</table>\n",
       "</div>"
      ],
      "text/plain": [
       "Empty DataFrame\n",
       "Columns: [_count]\n",
       "Index: []"
      ]
     },
     "execution_count": 158,
     "metadata": {},
     "output_type": "execute_result"
    }
   ],
   "source": [
    "df_mri_groupby = df_mri.groupby(['uniqueID', 'MRIReader']).agg(_count=('uniqueID', 'count'))\n",
    "\n",
    "is_invalid = df_mri_groupby['_count'] > 1\n",
    "df_mri_groupby[is_invalid]"
   ]
  },
  {
   "cell_type": "markdown",
   "id": "cccdd7be",
   "metadata": {},
   "source": [
    "### 03-05-2. check empty"
   ]
  },
  {
   "cell_type": "code",
   "execution_count": 159,
   "id": "b2a5cbfd",
   "metadata": {
    "execution": {
     "iopub.execute_input": "2025-02-04T10:53:56.376688Z",
     "iopub.status.busy": "2025-02-04T10:53:56.376526Z",
     "iopub.status.idle": "2025-02-04T10:53:56.387600Z",
     "shell.execute_reply": "2025-02-04T10:53:56.387292Z"
    }
   },
   "outputs": [
    {
     "name": "stdout",
     "output_type": "stream",
     "text": [
      "(0/77) column: center (671 / 0)\n",
      "(1/77) column: subjectID (671 / 0)\n",
      "(2/77) column: uniqueID (671 / 0)\n",
      "(3/77) column: MRIIncrement (671 / 0)\n",
      "(4/77) column: MRIReader (671 / 0)\n",
      "(5/77) column: MRIReadDate (661 / 10)\n",
      "(6/77) column: MRIDate (594 / 77)\n",
      "(7/77) column: MRIStrength_T (256 / 415)\n",
      "(8/77) column: MRIAdequateQuality (266 / 405)\n",
      "(9/77) column: MRIAdequateQuality_c (670 / 1)\n",
      "(10/77) column: MRIT1Axial (671 / 0)\n",
      "(11/77) column: MRIT1Coronal (671 / 0)\n",
      "(12/77) column: MRIT1Sagittal (671 / 0)\n",
      "(13/77) column: MRIT1 (671 / 0)\n",
      "(14/77) column: MRIT2Axial (671 / 0)\n",
      "(15/77) column: MRIT2Coronal (671 / 0)\n",
      "(16/77) column: MRIT2Sagittal (671 / 0)\n",
      "(17/77) column: MRIT2 (671 / 0)\n",
      "(18/77) column: MRIT2FLAIRAxial (671 / 0)\n",
      "(19/77) column: MRIT2FLAIRCoronal (671 / 0)\n",
      "(20/77) column: MRIT2FLAIRSagittal (671 / 0)\n",
      "(21/77) column: MRIT2FLAIR (671 / 0)\n",
      "(22/77) column: MRIGRESWIAxial (671 / 0)\n",
      "(23/77) column: MRIGRESWICoronal (671 / 0)\n",
      "(24/77) column: MRIGRESWISagittal (671 / 0)\n",
      "(25/77) column: MRIGRESWI (671 / 0)\n",
      "(26/77) column: MRISPGRAxial (671 / 0)\n",
      "(27/77) column: MRISPGRCoronal (671 / 0)\n",
      "(28/77) column: MRISPGRSagittal (671 / 0)\n",
      "(29/77) column: MRISPGR (671 / 0)\n",
      "(30/77) column: MRIDWI (475 / 196)\n",
      "(31/77) column: MRIDWI_c (671 / 0)\n",
      "(32/77) column: MRIADC (1 / 670)\n",
      "(33/77) column: MRIADC_c (669 / 2)\n",
      "(34/77) column: MRIOther (108 / 563)\n",
      "(35/77) column: MRIOther_c (669 / 2)\n",
      "(36/77) column: MRIOtherText (106 / 565)\n",
      "(37/77) column: MRIOverallDiagnosis (671 / 0)\n",
      "(38/77) column: MRIOverallDiagnosis_c (583 / 88)\n",
      "(39/77) column: MRIAbnormal (483 / 188)\n",
      "(40/77) column: MRIAbnormal_c (671 / 0)\n",
      "(41/77) column: MRIMRS (86 / 585)\n",
      "(42/77) column: MRIMRS_c (669 / 2)\n",
      "(43/77) column: MRICerebralAtrophy (514 / 157)\n",
      "(44/77) column: MRICerebralAtrophy_c (535 / 136)\n",
      "(45/77) column: MRICerebralAtrophyRegion (5 / 666)\n",
      "(46/77) column: MRICerebralAtrophyQualAssessCC (535 / 136)\n",
      "(47/77) column: MRICerebralAtrophyQualAssessCC_c (515 / 156)\n",
      "(48/77) column: MRICerebralAtrophyQualAssessVDLeft (535 / 136)\n",
      "(49/77) column: MRICerebralAtrophyQualAssessVDLeft_c (515 / 156)\n",
      "(50/77) column: MRICerebralAtrophyQualAssessVDRight (535 / 136)\n",
      "(51/77) column: MRICerebralAtrophyQualAssessVDRight_c (514 / 157)\n",
      "(52/77) column: MRIInfarction (423 / 248)\n",
      "(53/77) column: MRIInfarction_c (535 / 136)\n",
      "(54/77) column: MRIInfarctionAterialTerritoryLeft (535 / 136)\n",
      "(55/77) column: MRIInfarctionAterialTerritoryRight (535 / 136)\n",
      "(56/77) column: MRIMidlineShift (433 / 238)\n",
      "(57/77) column: MRIMidlineShift_c (535 / 136)\n",
      "(58/77) column: MRICerebralAtrophyGlobalLocal (535 / 136)\n",
      "(59/77) column: MRICerebralAtrophyGlobalLocal_c (32 / 639)\n",
      "(60/77) column: MRIBGT (482 / 189)\n",
      "(61/77) column: MRIBGT_c (433 / 238)\n",
      "(62/77) column: MRIPLIC (482 / 189)\n",
      "(63/77) column: MRIPLIC_c (433 / 238)\n",
      "(64/77) column: MRIWatershed (482 / 189)\n",
      "(65/77) column: MRIWatershed_c (425 / 246)\n",
      "(66/77) column: MRIWhiteMatterInjury (482 / 189)\n",
      "(67/77) column: MRIWhiteMatterInjury_c (424 / 247)\n",
      "(68/77) column: MRIComment (58 / 613)\n",
      "(69/77) column: MRINRNPatternOfInjury (669 / 2)\n",
      "(70/77) column: MRINRNPatternOfInjury_c (665 / 6)\n",
      "(71/77) column: MRINRNPatternOfInjuryExtent (669 / 2)\n",
      "(72/77) column: MRINRNPatternOfInjuryExtent_c (408 / 263)\n",
      "(73/77) column: MRINRNPatternOfInjuryLateral (669 / 2)\n",
      "(74/77) column: MRINRNPatternOfInjuryLateral_c (502 / 169)\n",
      "(75/77) column: siteID (671 / 0)\n",
      "(76/77) column: MRI_ID (671 / 0)\n"
     ]
    }
   ],
   "source": [
    "COMBINE_harmonizer.check_empty(df_mri)"
   ]
  },
  {
   "cell_type": "code",
   "execution_count": 160,
   "id": "fb692922",
   "metadata": {
    "execution": {
     "iopub.execute_input": "2025-02-04T10:53:56.388942Z",
     "iopub.status.busy": "2025-02-04T10:53:56.388848Z",
     "iopub.status.idle": "2025-02-04T10:53:56.394897Z",
     "shell.execute_reply": "2025-02-04T10:53:56.394617Z"
    }
   },
   "outputs": [
    {
     "name": "stdout",
     "output_type": "stream",
     "text": [
      "(0/77) center: (671/0)\n",
      "(1/77) subjectID: (671/0)\n",
      "(2/77) uniqueID: (671/0)\n",
      "(3/77) MRIIncrement: (671/0)\n",
      "(4/77) MRIReader: (671/0)\n",
      "(5/77) MRIReadDate: (661/10)\n",
      "(6/77) MRIDate: (594/77)\n",
      "(7/77) MRIStrength_T: (256/415)\n",
      "(8/77) MRIAdequateQuality: (266/405)\n",
      "(9/77) MRIAdequateQuality_c: (670/1)\n",
      "(10/77) MRIT1Axial: (671/0)\n",
      "(11/77) MRIT1Coronal: (671/0)\n",
      "(12/77) MRIT1Sagittal: (671/0)\n",
      "(13/77) MRIT1: (671/0)\n",
      "(14/77) MRIT2Axial: (671/0)\n",
      "(15/77) MRIT2Coronal: (671/0)\n",
      "(16/77) MRIT2Sagittal: (671/0)\n",
      "(17/77) MRIT2: (671/0)\n",
      "(18/77) MRIT2FLAIRAxial: (671/0)\n",
      "(19/77) MRIT2FLAIRCoronal: (671/0)\n",
      "(20/77) MRIT2FLAIRSagittal: (671/0)\n",
      "(21/77) MRIT2FLAIR: (671/0)\n",
      "(22/77) MRIGRESWIAxial: (671/0)\n",
      "(23/77) MRIGRESWICoronal: (671/0)\n",
      "(24/77) MRIGRESWISagittal: (671/0)\n",
      "(25/77) MRIGRESWI: (671/0)\n",
      "(26/77) MRISPGRAxial: (671/0)\n",
      "(27/77) MRISPGRCoronal: (671/0)\n",
      "(28/77) MRISPGRSagittal: (671/0)\n",
      "(29/77) MRISPGR: (671/0)\n",
      "(30/77) MRIDWI: (475/196)\n",
      "(31/77) MRIDWI_c: (671/0)\n",
      "(32/77) MRIADC: (1/670)\n",
      "(33/77) MRIADC_c: (669/2)\n",
      "(34/77) MRIOther: (108/563)\n",
      "(35/77) MRIOther_c: (669/2)\n",
      "(36/77) MRIOtherText: (106/565)\n",
      "(37/77) MRIOverallDiagnosis: (671/0)\n",
      "(38/77) MRIOverallDiagnosis_c: (583/88)\n",
      "(39/77) MRIAbnormal: (483/188)\n",
      "(40/77) MRIAbnormal_c: (671/0)\n",
      "(41/77) MRIMRS: (86/585)\n",
      "(42/77) MRIMRS_c: (669/2)\n",
      "(43/77) MRICerebralAtrophy: (514/157)\n",
      "(44/77) MRICerebralAtrophy_c: (535/136)\n",
      "(45/77) MRICerebralAtrophyRegion: (5/666)\n",
      "(46/77) MRICerebralAtrophyQualAssessCC: (535/136)\n",
      "(47/77) MRICerebralAtrophyQualAssessCC_c: (515/156)\n",
      "(48/77) MRICerebralAtrophyQualAssessVDLeft: (535/136)\n",
      "(49/77) MRICerebralAtrophyQualAssessVDLeft_c: (515/156)\n",
      "(50/77) MRICerebralAtrophyQualAssessVDRight: (535/136)\n",
      "(51/77) MRICerebralAtrophyQualAssessVDRight_c: (514/157)\n",
      "(52/77) MRIInfarction: (423/248)\n",
      "(53/77) MRIInfarction_c: (535/136)\n",
      "(54/77) MRIInfarctionAterialTerritoryLeft: (535/136)\n",
      "(55/77) MRIInfarctionAterialTerritoryRight: (535/136)\n",
      "(56/77) MRIMidlineShift: (433/238)\n",
      "(57/77) MRIMidlineShift_c: (535/136)\n",
      "(58/77) MRICerebralAtrophyGlobalLocal: (535/136)\n",
      "(59/77) MRICerebralAtrophyGlobalLocal_c: (32/639)\n",
      "(60/77) MRIBGT: (482/189)\n",
      "(61/77) MRIBGT_c: (433/238)\n",
      "(62/77) MRIPLIC: (482/189)\n",
      "(63/77) MRIPLIC_c: (433/238)\n",
      "(64/77) MRIWatershed: (482/189)\n",
      "(65/77) MRIWatershed_c: (425/246)\n",
      "(66/77) MRIWhiteMatterInjury: (482/189)\n",
      "(67/77) MRIWhiteMatterInjury_c: (424/247)\n",
      "(68/77) MRIComment: (58/613)\n",
      "(69/77) MRINRNPatternOfInjury: (669/2)\n",
      "(70/77) MRINRNPatternOfInjury_c: (665/6)\n",
      "(71/77) MRINRNPatternOfInjuryExtent: (669/2)\n",
      "(72/77) MRINRNPatternOfInjuryExtent_c: (408/263)\n",
      "(73/77) MRINRNPatternOfInjuryLateral: (669/2)\n",
      "(74/77) MRINRNPatternOfInjuryLateral_c: (502/169)\n",
      "(75/77) siteID: (671/0)\n",
      "(76/77) MRI_ID: (671/0)\n"
     ]
    }
   ],
   "source": [
    "COMBINE_harmonizer.column_info(df_mri)"
   ]
  },
  {
   "cell_type": "markdown",
   "id": "ce7656cf",
   "metadata": {},
   "source": [
    "### 03-05-3. MRI summary"
   ]
  },
  {
   "cell_type": "code",
   "execution_count": 161,
   "id": "fdafeb3f-f88c-4744-b6af-085734f8090b",
   "metadata": {
    "execution": {
     "iopub.execute_input": "2025-02-04T10:53:56.396233Z",
     "iopub.status.busy": "2025-02-04T10:53:56.396151Z",
     "iopub.status.idle": "2025-02-04T10:53:56.472302Z",
     "shell.execute_reply": "2025-02-04T10:53:56.471946Z"
    }
   },
   "outputs": [
    {
     "name": "stdout",
     "output_type": "stream",
     "text": [
      "(0/2) filename: ocmr01.csv columns: ['center', 'subjectID', 'birthNumber', 'siteID', 'MRIAvailable', 'MRIAvailable_c', 'MRINoObtainReason', 'MRINoObtainReason_c', 'MRINoObtainReasonText', 'MRIObtainWindow', 'MRIObtainWindow_c', 'MRIObtainComment', 'FormStatus', 'DateComplete', 'DateCreated', 'KeyedUser']\n",
      "(1/2) filename: ocmr02.csv columns: ['center', 'subjectID', 'MRIDate', 'MRITime', 'MRISendRTIDate', 'OM2INIT', 'MRIReceiveRTIDate', 'FormStatus', 'DateComplete', 'DateCreated', 'KeyedUser']\n",
      "(12/25) FormStatus not in columns\n",
      "(13/25) DateComplete not in columns\n",
      "(14/25) DateCreated not in columns\n",
      "(15/25) KeyedUser not in columns\n",
      "(19/25) OM2INIT not in columns\n",
      "(21/25) FormStatus:ocmr02 not in columns\n",
      "(22/25) DateComplete:ocmr02 not in columns\n",
      "(23/25) DateCreated:ocmr02 not in columns\n",
      "(24/25) KeyedUser:ocmr02 not in columns\n"
     ]
    }
   ],
   "source": [
    "df_mri_s = None\n",
    "for idx, each_filename in enumerate(_MRI_FILENAMES_MERGE):\n",
    "    each_df = df_dict[each_filename]\n",
    "    columns = list(each_df.columns)\n",
    "    each_filename_prefix = re.sub(r'\\.csv$', '', each_filename)\n",
    "    print(f'({idx}/{len(_MRI_FILENAMES_MERGE)}) filename: {each_filename} columns: {columns}')\n",
    "\n",
    "    if df_mri_s is None:\n",
    "        df_mri_s = each_df\n",
    "    else:\n",
    "        df_mri_s = df_mri_s.merge(each_df, on=['center', 'subjectID'], how='outer', suffixes=['', ':' + each_filename_prefix])\n",
    "\n",
    "# postprocess\n",
    "df_mri_s = COMBINE_harmonizer.valid_columns(df_mri_s, all_valid_columns, debug_df=True, debug_columns=False)\n",
    "df_mri_s = df_mri_s.drop_duplicates(df_mri_s.columns)\n",
    "df_mri_s = COMBINE_harmonizer.postprocess(df_mri_s)\n",
    "\n",
    "out_filename = os.sep.join([out_dir, '03-05_s-mri.csv'])\n",
    "df_mri_s.to_csv(out_filename, index=False)"
   ]
  },
  {
   "cell_type": "markdown",
   "id": "6e313ffc-f4c8-44b1-9378-86c30428411f",
   "metadata": {},
   "source": [
    "### 03-05-4. check MRI"
   ]
  },
  {
   "cell_type": "code",
   "execution_count": 162,
   "id": "e73b1699-3885-4450-a898-a4565f065767",
   "metadata": {
    "execution": {
     "iopub.execute_input": "2025-02-04T10:53:56.474333Z",
     "iopub.status.busy": "2025-02-04T10:53:56.474172Z",
     "iopub.status.idle": "2025-02-04T10:53:56.480272Z",
     "shell.execute_reply": "2025-02-04T10:53:56.479966Z"
    }
   },
   "outputs": [
    {
     "data": {
      "text/html": [
       "<div>\n",
       "<style scoped>\n",
       "    .dataframe tbody tr th:only-of-type {\n",
       "        vertical-align: middle;\n",
       "    }\n",
       "\n",
       "    .dataframe tbody tr th {\n",
       "        vertical-align: top;\n",
       "    }\n",
       "\n",
       "    .dataframe thead th {\n",
       "        text-align: right;\n",
       "    }\n",
       "</style>\n",
       "<table border=\"1\" class=\"dataframe\">\n",
       "  <thead>\n",
       "    <tr style=\"text-align: right;\">\n",
       "      <th></th>\n",
       "      <th></th>\n",
       "      <th>_count</th>\n",
       "    </tr>\n",
       "    <tr>\n",
       "      <th>uniqueID</th>\n",
       "      <th>MRIReader</th>\n",
       "      <th></th>\n",
       "    </tr>\n",
       "  </thead>\n",
       "  <tbody>\n",
       "  </tbody>\n",
       "</table>\n",
       "</div>"
      ],
      "text/plain": [
       "Empty DataFrame\n",
       "Columns: [_count]\n",
       "Index: []"
      ]
     },
     "execution_count": 162,
     "metadata": {},
     "output_type": "execute_result"
    }
   ],
   "source": [
    "df_mri_s_groupby = df_mri_s.groupby(['uniqueID']).agg(_count=('uniqueID', 'count'))\n",
    "\n",
    "is_invalid = df_mri_groupby['_count'] > 1\n",
    "df_mri_groupby[is_invalid]"
   ]
  },
  {
   "cell_type": "markdown",
   "id": "8799bd47-f6b1-4229-90b6-3222171633f6",
   "metadata": {},
   "source": [
    "### 03-05-5. check empty cells"
   ]
  },
  {
   "cell_type": "code",
   "execution_count": 163,
   "id": "6d24bb73-0808-40a6-b995-054b3f9e9550",
   "metadata": {
    "execution": {
     "iopub.execute_input": "2025-02-04T10:53:56.482036Z",
     "iopub.status.busy": "2025-02-04T10:53:56.481882Z",
     "iopub.status.idle": "2025-02-04T10:53:56.485783Z",
     "shell.execute_reply": "2025-02-04T10:53:56.485485Z"
    }
   },
   "outputs": [
    {
     "name": "stdout",
     "output_type": "stream",
     "text": [
      "(0/17) column: center (327 / 0)\n",
      "(1/17) column: subjectID (327 / 0)\n",
      "(2/17) column: uniqueID (327 / 0)\n",
      "(3/17) column: birthNumber (327 / 0)\n",
      "(4/17) column: siteID (232 / 95)\n",
      "(5/17) column: MRIAvailable (327 / 0)\n",
      "(6/17) column: MRIAvailable_c (327 / 0)\n",
      "(7/17) column: MRINoObtainReason (327 / 0)\n",
      "(8/17) column: MRINoObtainReason_c (10 / 317)\n",
      "(9/17) column: MRINoObtainReasonText (5 / 322)\n",
      "(10/17) column: MRIObtainWindow (327 / 0)\n",
      "(11/17) column: MRIObtainWindow_c (200 / 127)\n",
      "(12/17) column: MRIObtainComment (1 / 326)\n",
      "(13/17) column: MRIDate (200 / 127)\n",
      "(14/17) column: MRITime (200 / 127)\n",
      "(15/17) column: MRISendRTIDate (200 / 127)\n",
      "(16/17) column: MRIReceiveRTIDate (0 / 327)\n"
     ]
    }
   ],
   "source": [
    "COMBINE_harmonizer.check_empty(df_mri_s)"
   ]
  },
  {
   "cell_type": "code",
   "execution_count": 164,
   "id": "25cf0de2-1be1-4fd3-9fe0-1731272bbd73",
   "metadata": {
    "execution": {
     "iopub.execute_input": "2025-02-04T10:53:56.487155Z",
     "iopub.status.busy": "2025-02-04T10:53:56.487053Z",
     "iopub.status.idle": "2025-02-04T10:53:56.489879Z",
     "shell.execute_reply": "2025-02-04T10:53:56.489603Z"
    }
   },
   "outputs": [
    {
     "name": "stdout",
     "output_type": "stream",
     "text": [
      "(0/17) center: (327/0)\n",
      "(1/17) subjectID: (327/0)\n",
      "(2/17) uniqueID: (327/0)\n",
      "(3/17) birthNumber: (327/0)\n",
      "(4/17) siteID: (232/95)\n",
      "(5/17) MRIAvailable: (327/0)\n",
      "(6/17) MRIAvailable_c: (327/0)\n",
      "(7/17) MRINoObtainReason: (327/0)\n",
      "(8/17) MRINoObtainReason_c: (10/317)\n",
      "(9/17) MRINoObtainReasonText: (5/322)\n",
      "(10/17) MRIObtainWindow: (327/0)\n",
      "(11/17) MRIObtainWindow_c: (200/127)\n",
      "(12/17) MRIObtainComment: (1/326)\n",
      "(13/17) MRIDate: (200/127)\n",
      "(14/17) MRITime: (200/127)\n",
      "(15/17) MRISendRTIDate: (200/127)\n",
      "(16/17) MRIReceiveRTIDate: (0/327)\n"
     ]
    }
   ],
   "source": [
    "COMBINE_harmonizer.column_info(df_mri_s)"
   ]
  },
  {
   "cell_type": "markdown",
   "id": "0bd45967-4a74-4cad-8d66-f7e58fec3315",
   "metadata": {},
   "source": [
    "## 02-11. elevated temperature"
   ]
  },
  {
   "cell_type": "code",
   "execution_count": null,
   "id": "aee52dbc-e18e-428a-a66d-c7a66a3eb0b5",
   "metadata": {},
   "outputs": [],
   "source": []
  },
  {
   "cell_type": "markdown",
   "id": "013563b7-d587-46ae-bbf5-23b7315ff327",
   "metadata": {},
   "source": [
    "## 02-12. fluctuated temperature"
   ]
  },
  {
   "cell_type": "code",
   "execution_count": null,
   "id": "49ebaa7f-d8ee-4819-9cef-fd011c3547bd",
   "metadata": {},
   "outputs": [],
   "source": []
  },
  {
   "cell_type": "markdown",
   "id": "3f489a18-8905-4bc5-9033-10e60db307f4",
   "metadata": {},
   "source": [
    "## 02-13. bradycardia"
   ]
  },
  {
   "cell_type": "code",
   "execution_count": 165,
   "id": "96d9702e-110b-47d2-bc65-a9c61b5fcd41",
   "metadata": {
    "execution": {
     "iopub.execute_input": "2025-02-04T10:53:56.491621Z",
     "iopub.status.busy": "2025-02-04T10:53:56.491518Z",
     "iopub.status.idle": "2025-02-04T10:53:56.494306Z",
     "shell.execute_reply": "2025-02-04T10:53:56.494065Z"
    }
   },
   "outputs": [
    {
     "data": {
      "text/plain": [
       "['bradycardiaEventNumber',\n",
       " 'bradycardiaBelow70Over15min',\n",
       " 'bradycardiaEKG',\n",
       " 'bradycardiaEKGResult',\n",
       " 'bradycardiaEKGResultOtherText',\n",
       " 'bradycardiaAntiarrhythmiaMedication',\n",
       " 'bradycardiaDate',\n",
       " 'bradycardiaTime',\n",
       " 'bradycardiaDuration',\n",
       " 'bradycardiaHeartRateMin']"
      ]
     },
     "execution_count": 165,
     "metadata": {},
     "output_type": "execute_result"
    }
   ],
   "source": [
    "bradycardia_columns = COMBINE_harmonizer.get_columns(df_data_dict, 'Intervention', 'Bradycardia')\n",
    "all_bradycardia_columns = id_columns + bradycardia_columns\n",
    "bradycardia_columns"
   ]
  },
  {
   "cell_type": "code",
   "execution_count": 166,
   "id": "067f4582",
   "metadata": {
    "execution": {
     "iopub.execute_input": "2025-02-04T10:53:56.495649Z",
     "iopub.status.busy": "2025-02-04T10:53:56.495547Z",
     "iopub.status.idle": "2025-02-04T10:53:56.561252Z",
     "shell.execute_reply": "2025-02-04T10:53:56.560874Z"
    }
   },
   "outputs": [
    {
     "name": "stdout",
     "output_type": "stream",
     "text": [
      "(5/13) O17INIT not in columns\n"
     ]
    }
   ],
   "source": [
    "df_bradycardia = df_dict['oc17.csv']\n",
    "df_bradycardia = COMBINE_harmonizer.valid_columns(df_bradycardia, all_bradycardia_columns, debug_df=True, debug_columns=False)\n",
    "df_bradycardia = COMBINE_harmonizer.postprocess(df_bradycardia)\n",
    "\n",
    "out_filename = os.sep.join([out_dir, '02-13-bradycardia.csv'])\n",
    "df_bradycardia.to_csv(out_filename, index=False)"
   ]
  },
  {
   "cell_type": "markdown",
   "id": "94d59587-2a92-48f8-a2fe-30f6e5c8dbff",
   "metadata": {},
   "source": [
    "### 02-13-1. check bradycardia"
   ]
  },
  {
   "cell_type": "code",
   "execution_count": 167,
   "id": "e9720a1d-7c9a-45e4-b4ed-b67ce6a767d2",
   "metadata": {
    "execution": {
     "iopub.execute_input": "2025-02-04T10:53:56.563285Z",
     "iopub.status.busy": "2025-02-04T10:53:56.563118Z",
     "iopub.status.idle": "2025-02-04T10:53:56.569927Z",
     "shell.execute_reply": "2025-02-04T10:53:56.569592Z"
    }
   },
   "outputs": [
    {
     "data": {
      "text/html": [
       "<div>\n",
       "<style scoped>\n",
       "    .dataframe tbody tr th:only-of-type {\n",
       "        vertical-align: middle;\n",
       "    }\n",
       "\n",
       "    .dataframe tbody tr th {\n",
       "        vertical-align: top;\n",
       "    }\n",
       "\n",
       "    .dataframe thead th {\n",
       "        text-align: right;\n",
       "    }\n",
       "</style>\n",
       "<table border=\"1\" class=\"dataframe\">\n",
       "  <thead>\n",
       "    <tr style=\"text-align: right;\">\n",
       "      <th></th>\n",
       "      <th></th>\n",
       "      <th>_count</th>\n",
       "    </tr>\n",
       "    <tr>\n",
       "      <th>uniqueID</th>\n",
       "      <th>bradycardiaEventNumber</th>\n",
       "      <th></th>\n",
       "    </tr>\n",
       "  </thead>\n",
       "  <tbody>\n",
       "  </tbody>\n",
       "</table>\n",
       "</div>"
      ],
      "text/plain": [
       "Empty DataFrame\n",
       "Columns: [_count]\n",
       "Index: []"
      ]
     },
     "execution_count": 167,
     "metadata": {},
     "output_type": "execute_result"
    }
   ],
   "source": [
    "df_bradycardia_groupby = df_bradycardia.groupby(['uniqueID', 'bradycardiaEventNumber']).agg(_count=('uniqueID', 'count'))\n",
    "\n",
    "is_invalid = df_bradycardia_groupby['_count'] > 1\n",
    "df_bradycardia_groupby[is_invalid]"
   ]
  },
  {
   "cell_type": "markdown",
   "id": "48b8e4fd",
   "metadata": {},
   "source": [
    "### 02-13-2. check empty cells"
   ]
  },
  {
   "cell_type": "code",
   "execution_count": 168,
   "id": "4bed90aa",
   "metadata": {
    "execution": {
     "iopub.execute_input": "2025-02-04T10:53:56.571653Z",
     "iopub.status.busy": "2025-02-04T10:53:56.571507Z",
     "iopub.status.idle": "2025-02-04T10:53:56.574806Z",
     "shell.execute_reply": "2025-02-04T10:53:56.574510Z"
    }
   },
   "outputs": [
    {
     "name": "stdout",
     "output_type": "stream",
     "text": [
      "(0/13) column: center (210 / 0)\n",
      "(1/13) column: subjectID (210 / 0)\n",
      "(2/13) column: uniqueID (210 / 0)\n",
      "(3/13) column: bradycardiaBelow70Over15min (210 / 0)\n",
      "(4/13) column: bradycardiaEKG (57 / 153)\n",
      "(5/13) column: bradycardiaEKGResultOtherText (1 / 209)\n",
      "(6/13) column: bradycardiaAntiarrhythmiaMedication (57 / 153)\n",
      "(7/13) column: bradycardiaEventNumber (210 / 0)\n",
      "(8/13) column: bradycardiaEKGResult (3 / 207)\n",
      "(9/13) column: bradycardiaDate (57 / 153)\n",
      "(10/13) column: bradycardiaTime (57 / 153)\n",
      "(11/13) column: bradycardiaDuration (54 / 156)\n",
      "(12/13) column: bradycardiaHeartRateMin (54 / 156)\n"
     ]
    }
   ],
   "source": [
    "COMBINE_harmonizer.check_empty(df_bradycardia)"
   ]
  },
  {
   "cell_type": "code",
   "execution_count": 169,
   "id": "fda81298-a356-42e8-9c27-55abb663cc46",
   "metadata": {
    "execution": {
     "iopub.execute_input": "2025-02-04T10:53:56.576279Z",
     "iopub.status.busy": "2025-02-04T10:53:56.576177Z",
     "iopub.status.idle": "2025-02-04T10:53:56.578889Z",
     "shell.execute_reply": "2025-02-04T10:53:56.578623Z"
    }
   },
   "outputs": [
    {
     "name": "stdout",
     "output_type": "stream",
     "text": [
      "(0/13) center: (210/0)\n",
      "(1/13) subjectID: (210/0)\n",
      "(2/13) uniqueID: (210/0)\n",
      "(3/13) bradycardiaBelow70Over15min: (210/0)\n",
      "(4/13) bradycardiaEKG: (57/153)\n",
      "(5/13) bradycardiaEKGResultOtherText: (1/209)\n",
      "(6/13) bradycardiaAntiarrhythmiaMedication: (57/153)\n",
      "(7/13) bradycardiaEventNumber: (210/0)\n",
      "(8/13) bradycardiaEKGResult: (3/207)\n",
      "(9/13) bradycardiaDate: (57/153)\n",
      "(10/13) bradycardiaTime: (57/153)\n",
      "(11/13) bradycardiaDuration: (54/156)\n",
      "(12/13) bradycardiaHeartRateMin: (54/156)\n"
     ]
    }
   ],
   "source": [
    "COMBINE_harmonizer.column_info(df_bradycardia)"
   ]
  },
  {
   "cell_type": "markdown",
   "id": "dd70adbe-3775-48ec-b880-f2195246f809",
   "metadata": {},
   "source": [
    "## 02-14. adverse event"
   ]
  },
  {
   "cell_type": "code",
   "execution_count": 170,
   "id": "dd71fd91-e9a3-4d57-b205-859038405e40",
   "metadata": {
    "execution": {
     "iopub.execute_input": "2025-02-04T10:53:56.580306Z",
     "iopub.status.busy": "2025-02-04T10:53:56.580202Z",
     "iopub.status.idle": "2025-02-04T10:53:56.583292Z",
     "shell.execute_reply": "2025-02-04T10:53:56.583008Z"
    }
   },
   "outputs": [
    {
     "data": {
      "text/plain": [
       "['adverseEventNumber',\n",
       " 'SAECardiacExperienceOnsetDate',\n",
       " 'SAECardiacExperienceOnsetTime',\n",
       " 'SAECardiacExperienceResolveDate',\n",
       " 'SAECardiacExperienceResolveTime',\n",
       " 'SAECardiacExperienceDueToHypothermia',\n",
       " 'SAECardiacExperienceActionTaken',\n",
       " 'SAECardiacExperienceOutcome',\n",
       " 'SAECardiacExperienceComment',\n",
       " 'SAEMetabolicAcidosisOnsetDate',\n",
       " 'SAEMetabolicAcidosisOnsetTime',\n",
       " 'SAEMetabolicAcidosisResolveDate',\n",
       " 'SAEMetabolicAcidosisResolveTime',\n",
       " 'SAEMetabolicAcidosisDueToHypothermia',\n",
       " 'SAEMetabolicAcidosisActionTaken',\n",
       " 'SAEMetabolicAcidosisOutcome',\n",
       " 'SAEMetabolicAcidosisComment',\n",
       " 'SAEThrombosisExperienceOnsetDate',\n",
       " 'SAEThrombosisExperienceOnsetTime',\n",
       " 'SAEThrombosisExperienceResolveDate',\n",
       " 'SAEThrombosisExperienceResolveTime',\n",
       " 'SAEThrombosisExperienceDueToHypothermia',\n",
       " 'SAEThrombosisExperienceActionTaken',\n",
       " 'SAEThrombosisExperienceOutcome',\n",
       " 'SAEThrombosisExperienceComment',\n",
       " 'SAEBleedingExperienceOnsetDate',\n",
       " 'SAEBleedingExperienceOnsetTime',\n",
       " 'SAEBleedingExperienceResolveDate',\n",
       " 'SAEBleedingExperienceResolveTime',\n",
       " 'SAEBleedingExperienceDueToHypothermia',\n",
       " 'SAEBleedingExperienceActionTaken',\n",
       " 'SAEBleedingExperienceOutcome',\n",
       " 'SAEBleedingExperienceComment',\n",
       " 'SAEAlterationSkinIntegrity',\n",
       " 'SAEAlterationSkinIntegrityOnsetDate',\n",
       " 'SAEAlterationSkinIntegrityResolveDate',\n",
       " 'SAEAlterationSkinIntegrityDueToHypothermia',\n",
       " 'SAEAlterationSkinIntegrityActionTaken',\n",
       " 'SAEAlterationSkinIntegrityOutcome',\n",
       " 'SAEAlterationSkinIntegrityComment',\n",
       " 'SAEDeathDate',\n",
       " 'SAEDeathTime',\n",
       " 'SAEDeathDueToHypothermia',\n",
       " 'SAEDeathActionTaken',\n",
       " 'SAEDeathOutcome',\n",
       " 'SAEDeathComment',\n",
       " 'SAEOther',\n",
       " 'SAEOtherOnsetDate',\n",
       " 'SAEOtherOnsetTime',\n",
       " 'SAEOtherResolveDate',\n",
       " 'SAEOtherResolveTime',\n",
       " 'SAEOtherDueToHypothermia',\n",
       " 'SAEOtherActionTaken',\n",
       " 'SAEOtherOutcome',\n",
       " 'SAEOtherComment']"
      ]
     },
     "execution_count": 170,
     "metadata": {},
     "output_type": "execute_result"
    }
   ],
   "source": [
    "adverse_event_columns = COMBINE_harmonizer.get_columns(df_data_dict, 'Intervention', 'Adverse Event')\n",
    "all_adverse_event_columns = id_columns + adverse_event_columns\n",
    "adverse_event_columns"
   ]
  },
  {
   "cell_type": "code",
   "execution_count": 171,
   "id": "6c680a5c",
   "metadata": {
    "execution": {
     "iopub.execute_input": "2025-02-04T10:53:56.584667Z",
     "iopub.status.busy": "2025-02-04T10:53:56.584571Z",
     "iopub.status.idle": "2025-02-04T10:53:56.660368Z",
     "shell.execute_reply": "2025-02-04T10:53:56.659954Z"
    }
   },
   "outputs": [
    {
     "name": "stdout",
     "output_type": "stream",
     "text": [
      "(7/61) OC15INIT not in columns\n",
      "(8/61) REC_CMP not in columns\n",
      "(50/61) CMP_DATE not in columns\n",
      "(51/61) CRT_DATE not in columns\n"
     ]
    }
   ],
   "source": [
    "df_adverse_event = df_dict['oc15.csv']\n",
    "df_adverse_event = COMBINE_harmonizer.valid_columns(df_adverse_event, all_adverse_event_columns, debug_df=True, debug_columns=True)\n",
    "df_adverse_event = COMBINE_harmonizer.postprocess(df_adverse_event)\n",
    "\n",
    "out_filename = os.sep.join([out_dir, '02-14-adverse-event.csv'])\n",
    "df_adverse_event.to_csv(out_filename, index=False)"
   ]
  },
  {
   "cell_type": "markdown",
   "id": "d4d4999f-b974-47e7-bc4a-541a2cb35b11",
   "metadata": {},
   "source": [
    "### 02-14-1. check adverse event"
   ]
  },
  {
   "cell_type": "code",
   "execution_count": 172,
   "id": "d588ead9-46d9-4efa-8774-151063361375",
   "metadata": {
    "execution": {
     "iopub.execute_input": "2025-02-04T10:53:56.662488Z",
     "iopub.status.busy": "2025-02-04T10:53:56.662304Z",
     "iopub.status.idle": "2025-02-04T10:53:56.669621Z",
     "shell.execute_reply": "2025-02-04T10:53:56.669281Z"
    }
   },
   "outputs": [
    {
     "data": {
      "text/html": [
       "<div>\n",
       "<style scoped>\n",
       "    .dataframe tbody tr th:only-of-type {\n",
       "        vertical-align: middle;\n",
       "    }\n",
       "\n",
       "    .dataframe tbody tr th {\n",
       "        vertical-align: top;\n",
       "    }\n",
       "\n",
       "    .dataframe thead th {\n",
       "        text-align: right;\n",
       "    }\n",
       "</style>\n",
       "<table border=\"1\" class=\"dataframe\">\n",
       "  <thead>\n",
       "    <tr style=\"text-align: right;\">\n",
       "      <th></th>\n",
       "      <th></th>\n",
       "      <th>_count</th>\n",
       "    </tr>\n",
       "    <tr>\n",
       "      <th>uniqueID</th>\n",
       "      <th>adverseEventNumber</th>\n",
       "      <th></th>\n",
       "    </tr>\n",
       "  </thead>\n",
       "  <tbody>\n",
       "  </tbody>\n",
       "</table>\n",
       "</div>"
      ],
      "text/plain": [
       "Empty DataFrame\n",
       "Columns: [_count]\n",
       "Index: []"
      ]
     },
     "execution_count": 172,
     "metadata": {},
     "output_type": "execute_result"
    }
   ],
   "source": [
    "df_adverse_event_groupby = df_adverse_event.groupby(['uniqueID', 'adverseEventNumber']).agg(_count=('uniqueID', 'count'))\n",
    "\n",
    "is_invalid = df_adverse_event_groupby['_count'] > 1\n",
    "df_adverse_event_groupby[is_invalid]"
   ]
  },
  {
   "cell_type": "markdown",
   "id": "422d8553-1aa9-4467-9f70-8ea595ffbe1e",
   "metadata": {},
   "source": [
    "### 02-14-2. check empty cells"
   ]
  },
  {
   "cell_type": "code",
   "execution_count": 173,
   "id": "21705d3b-c652-4117-b8ab-951f204dea0e",
   "metadata": {
    "execution": {
     "iopub.execute_input": "2025-02-04T10:53:56.671505Z",
     "iopub.status.busy": "2025-02-04T10:53:56.671346Z",
     "iopub.status.idle": "2025-02-04T10:53:56.678881Z",
     "shell.execute_reply": "2025-02-04T10:53:56.678597Z"
    }
   },
   "outputs": [
    {
     "name": "stdout",
     "output_type": "stream",
     "text": [
      "(0/58) column: center (93 / 0)\n",
      "(1/58) column: subjectID (93 / 0)\n",
      "(2/58) column: uniqueID (93 / 0)\n",
      "(3/58) column: SAECardiacExperienceComment (10 / 83)\n",
      "(4/58) column: SAEMetabolicAcidosisComment (6 / 87)\n",
      "(5/58) column: SAEThrombosisExperienceComment (1 / 92)\n",
      "(6/58) column: SAEBleedingExperienceComment (5 / 88)\n",
      "(7/58) column: SAEAlterationSkinIntegrityComment (9 / 84)\n",
      "(8/58) column: SAEDeathComment (5 / 88)\n",
      "(9/58) column: adverseEventNumber (93 / 0)\n",
      "(10/58) column: SAECardiacExperienceOnsetDate (12 / 81)\n",
      "(11/58) column: SAECardiacExperienceOnsetTime (12 / 81)\n",
      "(12/58) column: SAECardiacExperienceResolveDate (11 / 82)\n",
      "(13/58) column: SAECardiacExperienceResolveTime (11 / 82)\n",
      "(14/58) column: SAECardiacExperienceDueToHypothermia (12 / 81)\n",
      "(15/58) column: SAECardiacExperienceActionTaken (12 / 81)\n",
      "(16/58) column: SAECardiacExperienceOutcome (12 / 81)\n",
      "(17/58) column: SAEMetabolicAcidosisOnsetDate (8 / 85)\n",
      "(18/58) column: SAEMetabolicAcidosisOnsetTime (8 / 85)\n",
      "(19/58) column: SAEMetabolicAcidosisResolveDate (5 / 88)\n",
      "(20/58) column: SAEMetabolicAcidosisResolveTime (5 / 88)\n",
      "(21/58) column: SAEMetabolicAcidosisDueToHypothermia (8 / 85)\n",
      "(22/58) column: SAEMetabolicAcidosisActionTaken (7 / 86)\n",
      "(23/58) column: SAEMetabolicAcidosisOutcome (8 / 85)\n",
      "(24/58) column: SAEThrombosisExperienceOnsetDate (1 / 92)\n",
      "(25/58) column: SAEThrombosisExperienceOnsetTime (1 / 92)\n",
      "(26/58) column: SAEThrombosisExperienceResolveDate (0 / 93)\n",
      "(27/58) column: SAEThrombosisExperienceResolveTime (0 / 93)\n",
      "(28/58) column: SAEThrombosisExperienceDueToHypothermia (1 / 92)\n",
      "(29/58) column: SAEThrombosisExperienceActionTaken (1 / 92)\n",
      "(30/58) column: SAEThrombosisExperienceOutcome (1 / 92)\n",
      "(31/58) column: SAEBleedingExperienceOnsetDate (7 / 86)\n",
      "(32/58) column: SAEBleedingExperienceOnsetTime (6 / 87)\n",
      "(33/58) column: SAEBleedingExperienceResolveDate (2 / 91)\n",
      "(34/58) column: SAEBleedingExperienceResolveTime (2 / 91)\n",
      "(35/58) column: SAEBleedingExperienceDueToHypothermia (7 / 86)\n",
      "(36/58) column: SAEBleedingExperienceActionTaken (7 / 86)\n",
      "(37/58) column: SAEBleedingExperienceOutcome (7 / 86)\n",
      "(38/58) column: SAEAlterationSkinIntegrity (19 / 74)\n",
      "(39/58) column: SAEAlterationSkinIntegrityOnsetDate (19 / 74)\n",
      "(40/58) column: SAEAlterationSkinIntegrityResolveDate (15 / 78)\n",
      "(41/58) column: SAEAlterationSkinIntegrityDueToHypothermia (19 / 74)\n",
      "(42/58) column: SAEAlterationSkinIntegrityActionTaken (19 / 74)\n",
      "(43/58) column: SAEAlterationSkinIntegrityOutcome (19 / 74)\n",
      "(44/58) column: SAEDeathDate (6 / 87)\n",
      "(45/58) column: SAEDeathTime (6 / 87)\n",
      "(46/58) column: SAEDeathDueToHypothermia (6 / 87)\n",
      "(47/58) column: SAEDeathActionTaken (6 / 87)\n",
      "(48/58) column: SAEDeathOutcome (6 / 87)\n",
      "(49/58) column: SAEOther (47 / 46)\n",
      "(50/58) column: SAEOtherComment (34 / 59)\n",
      "(51/58) column: SAEOtherOnsetDate (47 / 46)\n",
      "(52/58) column: SAEOtherOnsetTime (41 / 52)\n",
      "(53/58) column: SAEOtherResolveDate (15 / 78)\n",
      "(54/58) column: SAEOtherResolveTime (13 / 80)\n",
      "(55/58) column: SAEOtherDueToHypothermia (47 / 46)\n",
      "(56/58) column: SAEOtherActionTaken (47 / 46)\n",
      "(57/58) column: SAEOtherOutcome (47 / 46)\n"
     ]
    }
   ],
   "source": [
    "COMBINE_harmonizer.check_empty(df_adverse_event)"
   ]
  },
  {
   "cell_type": "code",
   "execution_count": 174,
   "id": "b859839b-f683-470c-8412-79e73d3f3e03",
   "metadata": {
    "execution": {
     "iopub.execute_input": "2025-02-04T10:53:56.680334Z",
     "iopub.status.busy": "2025-02-04T10:53:56.680233Z",
     "iopub.status.idle": "2025-02-04T10:53:56.685109Z",
     "shell.execute_reply": "2025-02-04T10:53:56.684835Z"
    }
   },
   "outputs": [
    {
     "name": "stdout",
     "output_type": "stream",
     "text": [
      "(0/58) center: (93/0)\n",
      "(1/58) subjectID: (93/0)\n",
      "(2/58) uniqueID: (93/0)\n",
      "(3/58) SAECardiacExperienceComment: (10/83)\n",
      "(4/58) SAEMetabolicAcidosisComment: (6/87)\n",
      "(5/58) SAEThrombosisExperienceComment: (1/92)\n",
      "(6/58) SAEBleedingExperienceComment: (5/88)\n",
      "(7/58) SAEAlterationSkinIntegrityComment: (9/84)\n",
      "(8/58) SAEDeathComment: (5/88)\n",
      "(9/58) adverseEventNumber: (93/0)\n",
      "(10/58) SAECardiacExperienceOnsetDate: (12/81)\n",
      "(11/58) SAECardiacExperienceOnsetTime: (12/81)\n",
      "(12/58) SAECardiacExperienceResolveDate: (11/82)\n",
      "(13/58) SAECardiacExperienceResolveTime: (11/82)\n",
      "(14/58) SAECardiacExperienceDueToHypothermia: (12/81)\n",
      "(15/58) SAECardiacExperienceActionTaken: (12/81)\n",
      "(16/58) SAECardiacExperienceOutcome: (12/81)\n",
      "(17/58) SAEMetabolicAcidosisOnsetDate: (8/85)\n",
      "(18/58) SAEMetabolicAcidosisOnsetTime: (8/85)\n",
      "(19/58) SAEMetabolicAcidosisResolveDate: (5/88)\n",
      "(20/58) SAEMetabolicAcidosisResolveTime: (5/88)\n",
      "(21/58) SAEMetabolicAcidosisDueToHypothermia: (8/85)\n",
      "(22/58) SAEMetabolicAcidosisActionTaken: (7/86)\n",
      "(23/58) SAEMetabolicAcidosisOutcome: (8/85)\n",
      "(24/58) SAEThrombosisExperienceOnsetDate: (1/92)\n",
      "(25/58) SAEThrombosisExperienceOnsetTime: (1/92)\n",
      "(26/58) SAEThrombosisExperienceResolveDate: (0/93)\n",
      "(27/58) SAEThrombosisExperienceResolveTime: (0/93)\n",
      "(28/58) SAEThrombosisExperienceDueToHypothermia: (1/92)\n",
      "(29/58) SAEThrombosisExperienceActionTaken: (1/92)\n",
      "(30/58) SAEThrombosisExperienceOutcome: (1/92)\n",
      "(31/58) SAEBleedingExperienceOnsetDate: (7/86)\n",
      "(32/58) SAEBleedingExperienceOnsetTime: (6/87)\n",
      "(33/58) SAEBleedingExperienceResolveDate: (2/91)\n",
      "(34/58) SAEBleedingExperienceResolveTime: (2/91)\n",
      "(35/58) SAEBleedingExperienceDueToHypothermia: (7/86)\n",
      "(36/58) SAEBleedingExperienceActionTaken: (7/86)\n",
      "(37/58) SAEBleedingExperienceOutcome: (7/86)\n",
      "(38/58) SAEAlterationSkinIntegrity: (19/74)\n",
      "(39/58) SAEAlterationSkinIntegrityOnsetDate: (19/74)\n",
      "(40/58) SAEAlterationSkinIntegrityResolveDate: (15/78)\n",
      "(41/58) SAEAlterationSkinIntegrityDueToHypothermia: (19/74)\n",
      "(42/58) SAEAlterationSkinIntegrityActionTaken: (19/74)\n",
      "(43/58) SAEAlterationSkinIntegrityOutcome: (19/74)\n",
      "(44/58) SAEDeathDate: (6/87)\n",
      "(45/58) SAEDeathTime: (6/87)\n",
      "(46/58) SAEDeathDueToHypothermia: (6/87)\n",
      "(47/58) SAEDeathActionTaken: (6/87)\n",
      "(48/58) SAEDeathOutcome: (6/87)\n",
      "(49/58) SAEOther: (47/46)\n",
      "(50/58) SAEOtherComment: (34/59)\n",
      "(51/58) SAEOtherOnsetDate: (47/46)\n",
      "(52/58) SAEOtherOnsetTime: (41/52)\n",
      "(53/58) SAEOtherResolveDate: (15/78)\n",
      "(54/58) SAEOtherResolveTime: (13/80)\n",
      "(55/58) SAEOtherDueToHypothermia: (47/46)\n",
      "(56/58) SAEOtherActionTaken: (47/46)\n",
      "(57/58) SAEOtherOutcome: (47/46)\n"
     ]
    }
   ],
   "source": [
    "COMBINE_harmonizer.column_info(df_adverse_event)"
   ]
  },
  {
   "cell_type": "markdown",
   "id": "353298dc-0d11-4201-bf53-c943bb80ea72",
   "metadata": {},
   "source": [
    "## 02-15. violation"
   ]
  },
  {
   "cell_type": "code",
   "execution_count": 175,
   "id": "c1e08a23-d8f4-420c-a82d-9e713d8039f5",
   "metadata": {
    "execution": {
     "iopub.execute_input": "2025-02-04T10:53:56.686549Z",
     "iopub.status.busy": "2025-02-04T10:53:56.686452Z",
     "iopub.status.idle": "2025-02-04T10:53:56.689274Z",
     "shell.execute_reply": "2025-02-04T10:53:56.688988Z"
    }
   },
   "outputs": [
    {
     "data": {
      "text/plain": [
       "['violationNumber',\n",
       " 'violationDate',\n",
       " 'violationNature',\n",
       " 'violationTreatmentAssign',\n",
       " 'violationTreatmentReceive',\n",
       " 'violationOtherText',\n",
       " 'violationCircumstance',\n",
       " 'violationOtherCirumstanceText',\n",
       " 'violationComment']"
      ]
     },
     "execution_count": 175,
     "metadata": {},
     "output_type": "execute_result"
    }
   ],
   "source": [
    "violation_columns = COMBINE_harmonizer.get_columns(df_data_dict, 'Intervention', 'Violation')\n",
    "all_violation_columns = id_columns + violation_columns\n",
    "violation_columns"
   ]
  },
  {
   "cell_type": "code",
   "execution_count": 176,
   "id": "ef96f191",
   "metadata": {
    "execution": {
     "iopub.execute_input": "2025-02-04T10:53:56.690646Z",
     "iopub.status.busy": "2025-02-04T10:53:56.690551Z",
     "iopub.status.idle": "2025-02-04T10:53:56.757587Z",
     "shell.execute_reply": "2025-02-04T10:53:56.757228Z"
    }
   },
   "outputs": [
    {
     "name": "stdout",
     "output_type": "stream",
     "text": [
      "(4/13) OC14NAME not in columns\n",
      "(5/13) OC14INIT not in columns\n"
     ]
    }
   ],
   "source": [
    "df_violation = df_dict['oc14.csv']\n",
    "df_violation = COMBINE_harmonizer.valid_columns(df_violation, all_violation_columns, debug_df=True, debug_columns=False)\n",
    "df_violation = COMBINE_harmonizer.postprocess(df_violation)\n",
    "\n",
    "out_filename = os.sep.join([out_dir, '02-15-violation.csv'])\n",
    "df_violation.to_csv(out_filename, index=False)"
   ]
  },
  {
   "cell_type": "markdown",
   "id": "a92846e0-3d67-4a93-8446-485215f2c736",
   "metadata": {},
   "source": [
    "### 02-15-1. check violation"
   ]
  },
  {
   "cell_type": "code",
   "execution_count": 177,
   "id": "94ba2232-d1b2-48b6-ac25-c04d45f19033",
   "metadata": {
    "execution": {
     "iopub.execute_input": "2025-02-04T10:53:56.759707Z",
     "iopub.status.busy": "2025-02-04T10:53:56.759524Z",
     "iopub.status.idle": "2025-02-04T10:53:56.766112Z",
     "shell.execute_reply": "2025-02-04T10:53:56.765792Z"
    }
   },
   "outputs": [
    {
     "data": {
      "text/html": [
       "<div>\n",
       "<style scoped>\n",
       "    .dataframe tbody tr th:only-of-type {\n",
       "        vertical-align: middle;\n",
       "    }\n",
       "\n",
       "    .dataframe tbody tr th {\n",
       "        vertical-align: top;\n",
       "    }\n",
       "\n",
       "    .dataframe thead th {\n",
       "        text-align: right;\n",
       "    }\n",
       "</style>\n",
       "<table border=\"1\" class=\"dataframe\">\n",
       "  <thead>\n",
       "    <tr style=\"text-align: right;\">\n",
       "      <th></th>\n",
       "      <th></th>\n",
       "      <th>_count</th>\n",
       "    </tr>\n",
       "    <tr>\n",
       "      <th>uniqueID</th>\n",
       "      <th>violationNumber</th>\n",
       "      <th></th>\n",
       "    </tr>\n",
       "  </thead>\n",
       "  <tbody>\n",
       "  </tbody>\n",
       "</table>\n",
       "</div>"
      ],
      "text/plain": [
       "Empty DataFrame\n",
       "Columns: [_count]\n",
       "Index: []"
      ]
     },
     "execution_count": 177,
     "metadata": {},
     "output_type": "execute_result"
    }
   ],
   "source": [
    "df_violation_groupby = df_violation.groupby(['uniqueID', 'violationNumber']).agg(_count=('uniqueID', 'count'))\n",
    "\n",
    "is_invalid = df_violation_groupby['_count'] > 1\n",
    "df_violation_groupby[is_invalid]"
   ]
  },
  {
   "cell_type": "markdown",
   "id": "1b59c5a2-7e51-4432-9e69-ab9f01fc95e7",
   "metadata": {},
   "source": [
    "### 02-15-2. check empty cells"
   ]
  },
  {
   "cell_type": "code",
   "execution_count": 178,
   "id": "dbbedbdf-24f3-4232-9cd3-b634c29a0dc2",
   "metadata": {
    "execution": {
     "iopub.execute_input": "2025-02-04T10:53:56.767876Z",
     "iopub.status.busy": "2025-02-04T10:53:56.767719Z",
     "iopub.status.idle": "2025-02-04T10:53:56.771100Z",
     "shell.execute_reply": "2025-02-04T10:53:56.770817Z"
    }
   },
   "outputs": [
    {
     "name": "stdout",
     "output_type": "stream",
     "text": [
      "(0/12) column: center (104 / 0)\n",
      "(1/12) column: subjectID (104 / 0)\n",
      "(2/12) column: uniqueID (104 / 0)\n",
      "(3/12) column: violationOtherText (102 / 2)\n",
      "(4/12) column: violationOtherCirumstanceText (94 / 10)\n",
      "(5/12) column: violationComment (51 / 53)\n",
      "(6/12) column: violationNumber (104 / 0)\n",
      "(7/12) column: violationDate (104 / 0)\n",
      "(8/12) column: violationNature (104 / 0)\n",
      "(9/12) column: violationTreatmentAssign (0 / 104)\n",
      "(10/12) column: violationTreatmentReceive (0 / 104)\n",
      "(11/12) column: violationCircumstance (104 / 0)\n"
     ]
    }
   ],
   "source": [
    "COMBINE_harmonizer.check_empty(df_violation)"
   ]
  },
  {
   "cell_type": "code",
   "execution_count": 179,
   "id": "6a70ab7f-885f-416c-bba3-0b4a2215a733",
   "metadata": {
    "execution": {
     "iopub.execute_input": "2025-02-04T10:53:56.772552Z",
     "iopub.status.busy": "2025-02-04T10:53:56.772446Z",
     "iopub.status.idle": "2025-02-04T10:53:56.775183Z",
     "shell.execute_reply": "2025-02-04T10:53:56.774916Z"
    }
   },
   "outputs": [
    {
     "name": "stdout",
     "output_type": "stream",
     "text": [
      "(0/12) center: (104/0)\n",
      "(1/12) subjectID: (104/0)\n",
      "(2/12) uniqueID: (104/0)\n",
      "(3/12) violationOtherText: (102/2)\n",
      "(4/12) violationOtherCirumstanceText: (94/10)\n",
      "(5/12) violationComment: (51/53)\n",
      "(6/12) violationNumber: (104/0)\n",
      "(7/12) violationDate: (104/0)\n",
      "(8/12) violationNature: (104/0)\n",
      "(9/12) violationTreatmentAssign: (0/104)\n",
      "(10/12) violationTreatmentReceive: (0/104)\n",
      "(11/12) violationCircumstance: (104/0)\n"
     ]
    }
   ],
   "source": [
    "COMBINE_harmonizer.column_info(df_violation)"
   ]
  },
  {
   "cell_type": "markdown",
   "id": "601b03f8-be9a-485d-ba52-b2586f6954aa",
   "metadata": {},
   "source": [
    "## 02-16. Interrupt"
   ]
  },
  {
   "cell_type": "code",
   "execution_count": 180,
   "id": "8ac5c7cc-2d01-47af-b74c-4ecf1293a971",
   "metadata": {
    "execution": {
     "iopub.execute_input": "2025-02-04T10:53:56.776722Z",
     "iopub.status.busy": "2025-02-04T10:53:56.776625Z",
     "iopub.status.idle": "2025-02-04T10:53:56.779423Z",
     "shell.execute_reply": "2025-02-04T10:53:56.779158Z"
    }
   },
   "outputs": [
    {
     "data": {
      "text/plain": [
       "['interruptNumber',\n",
       " 'interrupt',\n",
       " 'interruptReason',\n",
       " 'interruptReasonText',\n",
       " 'interruptDate',\n",
       " 'interruptTime',\n",
       " 'interruptRestartDate',\n",
       " 'interruptRestartTime',\n",
       " 'interruptRestartEsophagealTemperature_C']"
      ]
     },
     "execution_count": 180,
     "metadata": {},
     "output_type": "execute_result"
    }
   ],
   "source": [
    "interrupt_columns = COMBINE_harmonizer.get_columns(df_data_dict, 'Intervention', 'Interrupt')\n",
    "all_interrupt_columns = id_columns + interrupt_columns\n",
    "interrupt_columns"
   ]
  },
  {
   "cell_type": "code",
   "execution_count": 181,
   "id": "ac461fb8",
   "metadata": {
    "execution": {
     "iopub.execute_input": "2025-02-04T10:53:56.780734Z",
     "iopub.status.busy": "2025-02-04T10:53:56.780640Z",
     "iopub.status.idle": "2025-02-04T10:53:56.866396Z",
     "shell.execute_reply": "2025-02-04T10:53:56.865944Z"
    }
   },
   "outputs": [
    {
     "name": "stdout",
     "output_type": "stream",
     "text": [
      "(3/15) OC10INIT not in columns\n",
      "(4/15) REC_CMP not in columns\n",
      "(13/15) CMP_DATE not in columns\n",
      "(14/15) CRT_DATE not in columns\n"
     ]
    }
   ],
   "source": [
    "df_interrupt = df_dict['oc10.csv']\n",
    "df_interrupt = COMBINE_harmonizer.valid_columns(df_interrupt, all_interrupt_columns, debug_df=True, debug_columns=False)\n",
    "df_interrupt = COMBINE_harmonizer.postprocess(df_interrupt)\n",
    "\n",
    "out_filename = os.sep.join([out_dir, '02-16-interrupt.csv'])\n",
    "df_interrupt.to_csv(out_filename, index=False)"
   ]
  },
  {
   "cell_type": "markdown",
   "id": "cb34c372-45ea-40eb-9f5f-4ee5977d5c98",
   "metadata": {},
   "source": [
    "### 02-16-1. check interrupt"
   ]
  },
  {
   "cell_type": "code",
   "execution_count": 182,
   "id": "d2d601aa-1ff1-4803-b8ce-8296679e731d",
   "metadata": {
    "execution": {
     "iopub.execute_input": "2025-02-04T10:53:56.868776Z",
     "iopub.status.busy": "2025-02-04T10:53:56.868564Z",
     "iopub.status.idle": "2025-02-04T10:53:56.877037Z",
     "shell.execute_reply": "2025-02-04T10:53:56.876609Z"
    }
   },
   "outputs": [
    {
     "data": {
      "text/html": [
       "<div>\n",
       "<style scoped>\n",
       "    .dataframe tbody tr th:only-of-type {\n",
       "        vertical-align: middle;\n",
       "    }\n",
       "\n",
       "    .dataframe tbody tr th {\n",
       "        vertical-align: top;\n",
       "    }\n",
       "\n",
       "    .dataframe thead th {\n",
       "        text-align: right;\n",
       "    }\n",
       "</style>\n",
       "<table border=\"1\" class=\"dataframe\">\n",
       "  <thead>\n",
       "    <tr style=\"text-align: right;\">\n",
       "      <th></th>\n",
       "      <th></th>\n",
       "      <th>_count</th>\n",
       "    </tr>\n",
       "    <tr>\n",
       "      <th>uniqueID</th>\n",
       "      <th>interruptNumber</th>\n",
       "      <th></th>\n",
       "    </tr>\n",
       "  </thead>\n",
       "  <tbody>\n",
       "  </tbody>\n",
       "</table>\n",
       "</div>"
      ],
      "text/plain": [
       "Empty DataFrame\n",
       "Columns: [_count]\n",
       "Index: []"
      ]
     },
     "execution_count": 182,
     "metadata": {},
     "output_type": "execute_result"
    }
   ],
   "source": [
    "df_interrupt_groupby = df_interrupt.groupby(['uniqueID', 'interruptNumber']).agg(_count=('uniqueID', 'count'))\n",
    "\n",
    "is_invalid = df_interrupt_groupby['_count'] > 1\n",
    "df_interrupt_groupby[is_invalid]"
   ]
  },
  {
   "cell_type": "markdown",
   "id": "df8e9940-4bee-41fd-992c-ea760395431d",
   "metadata": {},
   "source": [
    "### 02-16-2. check empty cells"
   ]
  },
  {
   "cell_type": "code",
   "execution_count": 183,
   "id": "e945c758-3a4f-45d7-ae5d-f15699f16930",
   "metadata": {
    "execution": {
     "iopub.execute_input": "2025-02-04T10:53:56.879234Z",
     "iopub.status.busy": "2025-02-04T10:53:56.879048Z",
     "iopub.status.idle": "2025-02-04T10:53:56.883165Z",
     "shell.execute_reply": "2025-02-04T10:53:56.882822Z"
    }
   },
   "outputs": [
    {
     "name": "stdout",
     "output_type": "stream",
     "text": [
      "(0/12) column: center (249 / 0)\n",
      "(1/12) column: subjectID (249 / 0)\n",
      "(2/12) column: uniqueID (249 / 0)\n",
      "(3/12) column: interrupt (249 / 0)\n",
      "(4/12) column: interruptReasonText (16 / 233)\n",
      "(5/12) column: interruptNumber (249 / 0)\n",
      "(6/12) column: interruptReason (20 / 229)\n",
      "(7/12) column: interruptDate (20 / 229)\n",
      "(8/12) column: interruptTime (19 / 230)\n",
      "(9/12) column: interruptRestartDate (14 / 235)\n",
      "(10/12) column: interruptRestartTime (14 / 235)\n",
      "(11/12) column: interruptRestartEsophagealTemperature_C (12 / 237)\n"
     ]
    }
   ],
   "source": [
    "COMBINE_harmonizer.check_empty(df_interrupt)"
   ]
  },
  {
   "cell_type": "code",
   "execution_count": 184,
   "id": "d81906e2-d5ee-4667-93ea-2d739149fbe0",
   "metadata": {
    "execution": {
     "iopub.execute_input": "2025-02-04T10:53:56.885015Z",
     "iopub.status.busy": "2025-02-04T10:53:56.884866Z",
     "iopub.status.idle": "2025-02-04T10:53:56.887987Z",
     "shell.execute_reply": "2025-02-04T10:53:56.887670Z"
    }
   },
   "outputs": [
    {
     "name": "stdout",
     "output_type": "stream",
     "text": [
      "(0/12) center: (249/0)\n",
      "(1/12) subjectID: (249/0)\n",
      "(2/12) uniqueID: (249/0)\n",
      "(3/12) interrupt: (249/0)\n",
      "(4/12) interruptReasonText: (16/233)\n",
      "(5/12) interruptNumber: (249/0)\n",
      "(6/12) interruptReason: (20/229)\n",
      "(7/12) interruptDate: (20/229)\n",
      "(8/12) interruptTime: (19/230)\n",
      "(9/12) interruptRestartDate: (14/235)\n",
      "(10/12) interruptRestartTime: (14/235)\n",
      "(11/12) interruptRestartEsophagealTemperature_C: (12/237)\n"
     ]
    }
   ],
   "source": [
    "COMBINE_harmonizer.column_info(df_interrupt)"
   ]
  },
  {
   "cell_type": "markdown",
   "id": "7dc455a4",
   "metadata": {},
   "source": [
    "## 02-17. Discontinue"
   ]
  },
  {
   "cell_type": "code",
   "execution_count": 185,
   "id": "f5bd6aab",
   "metadata": {
    "execution": {
     "iopub.execute_input": "2025-02-04T10:53:56.889799Z",
     "iopub.status.busy": "2025-02-04T10:53:56.889644Z",
     "iopub.status.idle": "2025-02-04T10:53:56.893008Z",
     "shell.execute_reply": "2025-02-04T10:53:56.892664Z"
    }
   },
   "outputs": [
    {
     "data": {
      "text/plain": [
       "['discontinueDate',\n",
       " 'discontinueTime',\n",
       " 'discontinueBeforeEndPeriod',\n",
       " 'discontinueParentsWithdraw',\n",
       " 'discontinuePhysicianWithdraw',\n",
       " 'discontinueAdverseEvent',\n",
       " 'discontinueECMO',\n",
       " 'discontinueDNR',\n",
       " 'discontinueWdrawSupport',\n",
       " 'discontinueDeath',\n",
       " 'discontinueOther',\n",
       " 'discontinueOtherText']"
      ]
     },
     "execution_count": 185,
     "metadata": {},
     "output_type": "execute_result"
    }
   ],
   "source": [
    "discontinue_columns = COMBINE_harmonizer.get_columns(df_data_dict, 'Intervention', 'Discontinue')\n",
    "all_discontinue_columns = id_columns + discontinue_columns\n",
    "discontinue_columns"
   ]
  },
  {
   "cell_type": "code",
   "execution_count": 186,
   "id": "8308738a",
   "metadata": {
    "execution": {
     "iopub.execute_input": "2025-02-04T10:53:56.894572Z",
     "iopub.status.busy": "2025-02-04T10:53:56.894459Z",
     "iopub.status.idle": "2025-02-04T10:53:56.896543Z",
     "shell.execute_reply": "2025-02-04T10:53:56.896252Z"
    }
   },
   "outputs": [],
   "source": [
    "def _inverse_discontinue_before_end_period(x):\n",
    "    if x == 'Y':\n",
    "        return 'N'\n",
    "    elif x == 'N':\n",
    "        return 'Y'\n",
    "    else:\n",
    "        return x"
   ]
  },
  {
   "cell_type": "code",
   "execution_count": 187,
   "id": "6c38b8cc",
   "metadata": {
    "execution": {
     "iopub.execute_input": "2025-02-04T10:53:56.897947Z",
     "iopub.status.busy": "2025-02-04T10:53:56.897835Z",
     "iopub.status.idle": "2025-02-04T10:53:56.971319Z",
     "shell.execute_reply": "2025-02-04T10:53:56.970911Z"
    }
   },
   "outputs": [],
   "source": [
    "df_temperature_72_120 = pd.concat([df_dict['oc06t72.csv'], df_dict['oc06t120.csv']]).reset_index()\n",
    "\n",
    "### XXX discontinueBeforeEndPeriod is inversed\n",
    "df_temperature_72_120['discontinueBeforeEndPeriod'] = df_temperature_72_120['discontinueBeforeEndPeriod'].apply(_inverse_discontinue_before_end_period)\n",
    "\n",
    "### XXX discontinue reasons\n",
    "is_discontinue_before_end_period = df_temperature_72_120['discontinueBeforeEndPeriod'] == 'Y'\n",
    "\n",
    "df_temperature_72_120['OC6NCEPR'] = df_temperature_72_120['OC6NCEPR'].apply(COMBINE_harmonizer.to_int)\n",
    "\n",
    "is_discontinue_parents_withdraw = df_temperature_72_120['OC6NCEPR'] == 1\n",
    "df_temperature_72_120.loc[is_discontinue_before_end_period, 'discontinueParentsWithdraw'] = is_discontinue_parents_withdraw\n",
    "\n",
    "is_discontinue_physician_withdraw = df_temperature_72_120['OC6NCEPR'] == 2\n",
    "df_temperature_72_120.loc[is_discontinue_before_end_period, 'discontinuePhysicianWithdraw'] = is_discontinue_physician_withdraw\n",
    "\n",
    "is_discontinue_adverse_event = df_temperature_72_120['OC6NCEPR'] == 3\n",
    "df_temperature_72_120.loc[is_discontinue_before_end_period, 'discontinueAdverseEvent'] = is_discontinue_adverse_event\n",
    "\n",
    "is_discontinue_ecmo = df_temperature_72_120['OC6NCEPR'] == 4\n",
    "df_temperature_72_120.loc[is_discontinue_before_end_period, 'discontinueECMO'] = is_discontinue_ecmo\n",
    "\n",
    "is_discontinue_dnr = df_temperature_72_120['OC6NCEPR'] == 5\n",
    "df_temperature_72_120.loc[is_discontinue_before_end_period, 'discontinueDNR'] = is_discontinue_dnr\n",
    "\n",
    "is_discontinue_wdraw_support = df_temperature_72_120['OC6NCEPR'] == 6\n",
    "df_temperature_72_120.loc[is_discontinue_before_end_period, 'discontinueWdrawSupport'] = is_discontinue_wdraw_support\n",
    "\n",
    "is_discontinue_death = df_temperature_72_120['OC6NCEPR'] == 7\n",
    "df_temperature_72_120.loc[is_discontinue_before_end_period, 'discontinueDeath'] = is_discontinue_death\n",
    "\n",
    "is_discontinue_other = df_temperature_72_120['OC6NCEPR'] == 9\n",
    "df_temperature_72_120.loc[is_discontinue_before_end_period, 'discontinueOther'] = is_discontinue_other\n",
    "\n",
    "# postprocess df_discontinue\n",
    "df_discontinue = COMBINE_harmonizer.valid_columns(df_temperature_72_120, all_discontinue_columns, debug_df=False, debug_columns=True)\n",
    "df_discontinue = COMBINE_harmonizer.postprocess(df_discontinue)\n",
    "\n",
    "out_filename = os.sep.join([out_dir, '02-17-discontinue.csv'])\n",
    "df_discontinue.to_csv(out_filename, index=False)"
   ]
  },
  {
   "cell_type": "markdown",
   "id": "fe7204fa",
   "metadata": {},
   "source": [
    "### 02-17-2. check empty cells"
   ]
  },
  {
   "cell_type": "code",
   "execution_count": 188,
   "id": "7960de36",
   "metadata": {
    "execution": {
     "iopub.execute_input": "2025-02-04T10:53:56.973368Z",
     "iopub.status.busy": "2025-02-04T10:53:56.973185Z",
     "iopub.status.idle": "2025-02-04T10:53:56.977882Z",
     "shell.execute_reply": "2025-02-04T10:53:56.977532Z"
    }
   },
   "outputs": [
    {
     "name": "stdout",
     "output_type": "stream",
     "text": [
      "(0/15) column: center (364 / 0)\n",
      "(1/15) column: subjectID (364 / 0)\n",
      "(2/15) column: uniqueID (364 / 0)\n",
      "(3/15) column: discontinueBeforeEndPeriod (364 / 0)\n",
      "(4/15) column: discontinueOtherText (9 / 355)\n",
      "(5/15) column: discontinueDate (55 / 309)\n",
      "(6/15) column: discontinueTime (55 / 309)\n",
      "(7/15) column: discontinueParentsWithdraw (53 / 311)\n",
      "(8/15) column: discontinuePhysicianWithdraw (53 / 311)\n",
      "(9/15) column: discontinueAdverseEvent (53 / 311)\n",
      "(10/15) column: discontinueECMO (53 / 311)\n",
      "(11/15) column: discontinueDNR (53 / 311)\n",
      "(12/15) column: discontinueWdrawSupport (53 / 311)\n",
      "(13/15) column: discontinueDeath (53 / 311)\n",
      "(14/15) column: discontinueOther (53 / 311)\n"
     ]
    }
   ],
   "source": [
    "COMBINE_harmonizer.check_empty(df_discontinue)"
   ]
  },
  {
   "cell_type": "code",
   "execution_count": 189,
   "id": "8289b2ba",
   "metadata": {
    "execution": {
     "iopub.execute_input": "2025-02-04T10:53:56.979539Z",
     "iopub.status.busy": "2025-02-04T10:53:56.979423Z",
     "iopub.status.idle": "2025-02-04T10:53:56.982729Z",
     "shell.execute_reply": "2025-02-04T10:53:56.982397Z"
    }
   },
   "outputs": [
    {
     "name": "stdout",
     "output_type": "stream",
     "text": [
      "(0/15) center: (364/0)\n",
      "(1/15) subjectID: (364/0)\n",
      "(2/15) uniqueID: (364/0)\n",
      "(3/15) discontinueBeforeEndPeriod: (364/0)\n",
      "(4/15) discontinueOtherText: (9/355)\n",
      "(5/15) discontinueDate: (55/309)\n",
      "(6/15) discontinueTime: (55/309)\n",
      "(7/15) discontinueParentsWithdraw: (53/311)\n",
      "(8/15) discontinuePhysicianWithdraw: (53/311)\n",
      "(9/15) discontinueAdverseEvent: (53/311)\n",
      "(10/15) discontinueECMO: (53/311)\n",
      "(11/15) discontinueDNR: (53/311)\n",
      "(12/15) discontinueWdrawSupport: (53/311)\n",
      "(13/15) discontinueDeath: (53/311)\n",
      "(14/15) discontinueOther: (53/311)\n"
     ]
    }
   ],
   "source": [
    "COMBINE_harmonizer.column_info(df_discontinue)"
   ]
  },
  {
   "cell_type": "markdown",
   "id": "4ef01dbe",
   "metadata": {},
   "source": [
    "## 04-16. Wdraw Support"
   ]
  },
  {
   "cell_type": "code",
   "execution_count": 190,
   "id": "83795b2a",
   "metadata": {
    "execution": {
     "iopub.execute_input": "2025-02-04T10:53:56.984533Z",
     "iopub.status.busy": "2025-02-04T10:53:56.984380Z",
     "iopub.status.idle": "2025-02-04T10:53:56.987659Z",
     "shell.execute_reply": "2025-02-04T10:53:56.987302Z"
    }
   },
   "outputs": [
    {
     "data": {
      "text/plain": [
       "['wdrawSupport',\n",
       " 'wdrawSupportDate',\n",
       " 'wdrawSupportTime',\n",
       " 'wdrawSupportDiscussedWithFamily',\n",
       " 'wdrawSupportRecommendSolelyByClinicalTeam',\n",
       " 'wdrawSupportNeurologicalExam',\n",
       " 'wdrawSupportImagingStudy',\n",
       " 'wdrawSupportEEGFinding',\n",
       " 'wdrawSupportMultisystemOrganFailureOtherThanCNS',\n",
       " 'wdrawSupportBrainBloodFlowScan',\n",
       " 'wdrawSupportParentWish',\n",
       " 'wdrawSupportOther',\n",
       " 'wdrawSupportOtherText']"
      ]
     },
     "execution_count": 190,
     "metadata": {},
     "output_type": "execute_result"
    }
   ],
   "source": [
    "wdraw_support_columns = COMBINE_harmonizer.get_columns(df_data_dict, 'NICU Discharge', 'Withdrawal of Support')\n",
    "all_wdraw_support_columns = id_columns + wdraw_support_columns\n",
    "wdraw_support_columns"
   ]
  },
  {
   "cell_type": "code",
   "execution_count": 191,
   "id": "461a72aa",
   "metadata": {
    "execution": {
     "iopub.execute_input": "2025-02-04T10:53:56.989079Z",
     "iopub.status.busy": "2025-02-04T10:53:56.988969Z",
     "iopub.status.idle": "2025-02-04T10:53:57.055368Z",
     "shell.execute_reply": "2025-02-04T10:53:57.054936Z"
    }
   },
   "outputs": [],
   "source": [
    "df_wdraw_support = COMBINE_harmonizer.valid_columns(df_main, all_wdraw_support_columns, debug_df=False, debug_columns=True)\n",
    "df_wdraw_support = COMBINE_harmonizer.postprocess(df_wdraw_support)\n",
    "\n",
    "out_filename = os.sep.join([out_dir, '04-16-wdraw-support.csv'])\n",
    "df_wdraw_support.to_csv(out_filename, index=False)"
   ]
  },
  {
   "cell_type": "markdown",
   "id": "67f05ec3",
   "metadata": {},
   "source": [
    "### 04-16-1. check wdraw support"
   ]
  },
  {
   "cell_type": "code",
   "execution_count": 192,
   "id": "8a220f98",
   "metadata": {
    "execution": {
     "iopub.execute_input": "2025-02-04T10:53:57.057912Z",
     "iopub.status.busy": "2025-02-04T10:53:57.057690Z",
     "iopub.status.idle": "2025-02-04T10:53:57.065327Z",
     "shell.execute_reply": "2025-02-04T10:53:57.064965Z"
    }
   },
   "outputs": [
    {
     "data": {
      "text/html": [
       "<div>\n",
       "<style scoped>\n",
       "    .dataframe tbody tr th:only-of-type {\n",
       "        vertical-align: middle;\n",
       "    }\n",
       "\n",
       "    .dataframe tbody tr th {\n",
       "        vertical-align: top;\n",
       "    }\n",
       "\n",
       "    .dataframe thead th {\n",
       "        text-align: right;\n",
       "    }\n",
       "</style>\n",
       "<table border=\"1\" class=\"dataframe\">\n",
       "  <thead>\n",
       "    <tr style=\"text-align: right;\">\n",
       "      <th></th>\n",
       "      <th>_count</th>\n",
       "    </tr>\n",
       "    <tr>\n",
       "      <th>uniqueID</th>\n",
       "      <th></th>\n",
       "    </tr>\n",
       "  </thead>\n",
       "  <tbody>\n",
       "  </tbody>\n",
       "</table>\n",
       "</div>"
      ],
      "text/plain": [
       "Empty DataFrame\n",
       "Columns: [_count]\n",
       "Index: []"
      ]
     },
     "execution_count": 192,
     "metadata": {},
     "output_type": "execute_result"
    }
   ],
   "source": [
    "df_wdraw_support_groupby = df_wdraw_support.groupby(['uniqueID']).agg(_count=('uniqueID', 'count'))\n",
    "\n",
    "is_invalid = df_wdraw_support_groupby['_count'] > 1\n",
    "df_wdraw_support_groupby[is_invalid]"
   ]
  },
  {
   "cell_type": "markdown",
   "id": "08da022f",
   "metadata": {},
   "source": [
    "### 04-16-2. check empty cells"
   ]
  },
  {
   "cell_type": "code",
   "execution_count": 193,
   "id": "521aa01a",
   "metadata": {
    "execution": {
     "iopub.execute_input": "2025-02-04T10:53:57.067300Z",
     "iopub.status.busy": "2025-02-04T10:53:57.067118Z",
     "iopub.status.idle": "2025-02-04T10:53:57.071548Z",
     "shell.execute_reply": "2025-02-04T10:53:57.071243Z"
    }
   },
   "outputs": [
    {
     "name": "stdout",
     "output_type": "stream",
     "text": [
      "(0/16) column: center (364 / 0)\n",
      "(1/16) column: subjectID (364 / 0)\n",
      "(2/16) column: uniqueID (364 / 0)\n",
      "(3/16) column: wdrawSupportDiscussedWithFamily (364 / 0)\n",
      "(4/16) column: wdrawSupportRecommendSolelyByClinicalTeam (59 / 305)\n",
      "(5/16) column: wdrawSupportNeurologicalExam (59 / 305)\n",
      "(6/16) column: wdrawSupportImagingStudy (59 / 305)\n",
      "(7/16) column: wdrawSupportEEGFinding (59 / 305)\n",
      "(8/16) column: wdrawSupportMultisystemOrganFailureOtherThanCNS (59 / 305)\n",
      "(9/16) column: wdrawSupportBrainBloodFlowScan (59 / 305)\n",
      "(10/16) column: wdrawSupportParentWish (59 / 305)\n",
      "(11/16) column: wdrawSupportOther (59 / 305)\n",
      "(12/16) column: wdrawSupportOtherText (6 / 358)\n",
      "(13/16) column: wdrawSupport (59 / 305)\n",
      "(14/16) column: wdrawSupportDate (44 / 320)\n",
      "(15/16) column: wdrawSupportTime (43 / 321)\n"
     ]
    }
   ],
   "source": [
    "COMBINE_harmonizer.check_empty(df_wdraw_support)"
   ]
  },
  {
   "cell_type": "code",
   "execution_count": 194,
   "id": "56bb7306",
   "metadata": {
    "execution": {
     "iopub.execute_input": "2025-02-04T10:53:57.073218Z",
     "iopub.status.busy": "2025-02-04T10:53:57.073095Z",
     "iopub.status.idle": "2025-02-04T10:53:57.076600Z",
     "shell.execute_reply": "2025-02-04T10:53:57.076311Z"
    }
   },
   "outputs": [
    {
     "name": "stdout",
     "output_type": "stream",
     "text": [
      "(0/16) center: (364/0)\n",
      "(1/16) subjectID: (364/0)\n",
      "(2/16) uniqueID: (364/0)\n",
      "(3/16) wdrawSupportDiscussedWithFamily: (364/0)\n",
      "(4/16) wdrawSupportRecommendSolelyByClinicalTeam: (59/305)\n",
      "(5/16) wdrawSupportNeurologicalExam: (59/305)\n",
      "(6/16) wdrawSupportImagingStudy: (59/305)\n",
      "(7/16) wdrawSupportEEGFinding: (59/305)\n",
      "(8/16) wdrawSupportMultisystemOrganFailureOtherThanCNS: (59/305)\n",
      "(9/16) wdrawSupportBrainBloodFlowScan: (59/305)\n",
      "(10/16) wdrawSupportParentWish: (59/305)\n",
      "(11/16) wdrawSupportOther: (59/305)\n",
      "(12/16) wdrawSupportOtherText: (6/358)\n",
      "(13/16) wdrawSupport: (59/305)\n",
      "(14/16) wdrawSupportDate: (44/320)\n",
      "(15/16) wdrawSupportTime: (43/321)\n"
     ]
    }
   ],
   "source": [
    "COMBINE_harmonizer.column_info(df_wdraw_support)"
   ]
  },
  {
   "cell_type": "markdown",
   "id": "4ff39ecb",
   "metadata": {},
   "source": [
    "## 04-17. Limitation of Care"
   ]
  },
  {
   "cell_type": "code",
   "execution_count": 195,
   "id": "af1d5948",
   "metadata": {
    "execution": {
     "iopub.execute_input": "2025-02-04T10:53:57.078172Z",
     "iopub.status.busy": "2025-02-04T10:53:57.078030Z",
     "iopub.status.idle": "2025-02-04T10:53:57.081085Z",
     "shell.execute_reply": "2025-02-04T10:53:57.080804Z"
    }
   },
   "outputs": [
    {
     "data": {
      "text/plain": [
       "['limitCareDiscussedWithFamily',\n",
       " 'limitCareRecommendSolelyByClinicalTeam',\n",
       " 'limitCareAgreedByFamilyAndCareTeam',\n",
       " 'limitCareNoFurtherMechanicalVentilationAndIntubation',\n",
       " 'limitCareNoFurtherVentilationWithBagAndMask',\n",
       " 'limitCareNoFurtherMedicationsToSupportBP',\n",
       " 'limitCareNoFurtherChestCompression',\n",
       " 'limitCareNoFurtherEmergencyMedication',\n",
       " 'limitCareDNR',\n",
       " 'limitCareDNRDate',\n",
       " 'limitCareDNRTime']"
      ]
     },
     "execution_count": 195,
     "metadata": {},
     "output_type": "execute_result"
    }
   ],
   "source": [
    "limit_care_columns = COMBINE_harmonizer.get_columns(df_data_dict, 'NICU Discharge', 'Limitation of Care')\n",
    "all_limit_care_columns = id_columns + limit_care_columns\n",
    "limit_care_columns"
   ]
  },
  {
   "cell_type": "code",
   "execution_count": 196,
   "id": "07eca890",
   "metadata": {
    "execution": {
     "iopub.execute_input": "2025-02-04T10:53:57.082610Z",
     "iopub.status.busy": "2025-02-04T10:53:57.082507Z",
     "iopub.status.idle": "2025-02-04T10:53:57.141843Z",
     "shell.execute_reply": "2025-02-04T10:53:57.141503Z"
    }
   },
   "outputs": [],
   "source": [
    "df_limit_care = COMBINE_harmonizer.valid_columns(df_main, all_limit_care_columns, debug_df=False, debug_columns=True)\n",
    "df_limit_care = COMBINE_harmonizer.postprocess(df_limit_care)\n",
    "\n",
    "out_filename = os.sep.join([out_dir, '04-17-limit-care.csv'])\n",
    "df_limit_care.to_csv(out_filename, index=False)"
   ]
  },
  {
   "cell_type": "markdown",
   "id": "1a3716d7",
   "metadata": {},
   "source": [
    "### 04-17-1. check limit care"
   ]
  },
  {
   "cell_type": "code",
   "execution_count": 197,
   "id": "8a33dde0",
   "metadata": {
    "execution": {
     "iopub.execute_input": "2025-02-04T10:53:57.143851Z",
     "iopub.status.busy": "2025-02-04T10:53:57.143671Z",
     "iopub.status.idle": "2025-02-04T10:53:57.150545Z",
     "shell.execute_reply": "2025-02-04T10:53:57.150204Z"
    }
   },
   "outputs": [
    {
     "data": {
      "text/html": [
       "<div>\n",
       "<style scoped>\n",
       "    .dataframe tbody tr th:only-of-type {\n",
       "        vertical-align: middle;\n",
       "    }\n",
       "\n",
       "    .dataframe tbody tr th {\n",
       "        vertical-align: top;\n",
       "    }\n",
       "\n",
       "    .dataframe thead th {\n",
       "        text-align: right;\n",
       "    }\n",
       "</style>\n",
       "<table border=\"1\" class=\"dataframe\">\n",
       "  <thead>\n",
       "    <tr style=\"text-align: right;\">\n",
       "      <th></th>\n",
       "      <th>_count</th>\n",
       "    </tr>\n",
       "    <tr>\n",
       "      <th>uniqueID</th>\n",
       "      <th></th>\n",
       "    </tr>\n",
       "  </thead>\n",
       "  <tbody>\n",
       "  </tbody>\n",
       "</table>\n",
       "</div>"
      ],
      "text/plain": [
       "Empty DataFrame\n",
       "Columns: [_count]\n",
       "Index: []"
      ]
     },
     "execution_count": 197,
     "metadata": {},
     "output_type": "execute_result"
    }
   ],
   "source": [
    "df_limit_care_groupby = df_limit_care.groupby(['uniqueID']).agg(_count=('uniqueID', 'count'))\n",
    "\n",
    "is_invalid = df_limit_care_groupby['_count'] > 1\n",
    "df_limit_care_groupby[is_invalid]"
   ]
  },
  {
   "cell_type": "markdown",
   "id": "fa75c7e5",
   "metadata": {},
   "source": [
    "### 04-17-2. check empty cells"
   ]
  },
  {
   "cell_type": "code",
   "execution_count": 198,
   "id": "1fd4d94a",
   "metadata": {
    "execution": {
     "iopub.execute_input": "2025-02-04T10:53:57.152369Z",
     "iopub.status.busy": "2025-02-04T10:53:57.152211Z",
     "iopub.status.idle": "2025-02-04T10:53:57.156169Z",
     "shell.execute_reply": "2025-02-04T10:53:57.155852Z"
    }
   },
   "outputs": [
    {
     "name": "stdout",
     "output_type": "stream",
     "text": [
      "(0/14) column: center (364 / 0)\n",
      "(1/14) column: subjectID (364 / 0)\n",
      "(2/14) column: uniqueID (364 / 0)\n",
      "(3/14) column: limitCareDiscussedWithFamily (364 / 0)\n",
      "(4/14) column: limitCareRecommendSolelyByClinicalTeam (45 / 319)\n",
      "(5/14) column: limitCareAgreedByFamilyAndCareTeam (45 / 319)\n",
      "(6/14) column: limitCareNoFurtherMechanicalVentilationAndIntubation (40 / 324)\n",
      "(7/14) column: limitCareNoFurtherVentilationWithBagAndMask (40 / 324)\n",
      "(8/14) column: limitCareNoFurtherMedicationsToSupportBP (40 / 324)\n",
      "(9/14) column: limitCareNoFurtherChestCompression (40 / 324)\n",
      "(10/14) column: limitCareNoFurtherEmergencyMedication (40 / 324)\n",
      "(11/14) column: limitCareDNR (45 / 319)\n",
      "(12/14) column: limitCareDNRDate (27 / 337)\n",
      "(13/14) column: limitCareDNRTime (22 / 342)\n"
     ]
    }
   ],
   "source": [
    "COMBINE_harmonizer.check_empty(df_limit_care)"
   ]
  },
  {
   "cell_type": "code",
   "execution_count": 199,
   "id": "48aca8e1",
   "metadata": {
    "execution": {
     "iopub.execute_input": "2025-02-04T10:53:57.157827Z",
     "iopub.status.busy": "2025-02-04T10:53:57.157720Z",
     "iopub.status.idle": "2025-02-04T10:53:57.160473Z",
     "shell.execute_reply": "2025-02-04T10:53:57.160185Z"
    }
   },
   "outputs": [
    {
     "name": "stdout",
     "output_type": "stream",
     "text": [
      "(0/14) center: (364/0)\n",
      "(1/14) subjectID: (364/0)\n",
      "(2/14) uniqueID: (364/0)\n",
      "(3/14) limitCareDiscussedWithFamily: (364/0)\n",
      "(4/14) limitCareRecommendSolelyByClinicalTeam: (45/319)\n",
      "(5/14) limitCareAgreedByFamilyAndCareTeam: (45/319)\n",
      "(6/14) limitCareNoFurtherMechanicalVentilationAndIntubation: (40/324)\n",
      "(7/14) limitCareNoFurtherVentilationWithBagAndMask: (40/324)\n",
      "(8/14) limitCareNoFurtherMedicationsToSupportBP: (40/324)\n",
      "(9/14) limitCareNoFurtherChestCompression: (40/324)\n",
      "(10/14) limitCareNoFurtherEmergencyMedication: (40/324)\n",
      "(11/14) limitCareDNR: (45/319)\n",
      "(12/14) limitCareDNRDate: (27/337)\n",
      "(13/14) limitCareDNRTime: (22/342)\n"
     ]
    }
   ],
   "source": [
    "COMBINE_harmonizer.column_info(df_limit_care)"
   ]
  },
  {
   "cell_type": "markdown",
   "id": "9f7c2fcc",
   "metadata": {},
   "source": [
    "## 04-01. Status"
   ]
  },
  {
   "cell_type": "code",
   "execution_count": 200,
   "id": "4d0cfafa",
   "metadata": {
    "execution": {
     "iopub.execute_input": "2025-02-04T10:53:57.162039Z",
     "iopub.status.busy": "2025-02-04T10:53:57.161936Z",
     "iopub.status.idle": "2025-02-04T10:53:57.164992Z",
     "shell.execute_reply": "2025-02-04T10:53:57.164706Z"
    }
   },
   "outputs": [
    {
     "data": {
      "text/plain": [
       "['status',\n",
       " 'statusDate',\n",
       " 'dischargeStatus',\n",
       " 'dischargeDate',\n",
       " 'dischargeWeight_g',\n",
       " 'dischargeLength_cm',\n",
       " 'dischargeHeadCircumference_cm',\n",
       " 'transferReason',\n",
       " 'transferDate',\n",
       " 'transferWeight_g',\n",
       " 'transferLength_cm',\n",
       " 'transferHeadCircumference_cm',\n",
       " 'transferOutcome',\n",
       " 'homeTherapyStatus',\n",
       " 'homeTherapyVentilator',\n",
       " 'homeTherapyOxygen',\n",
       " 'homeTherapyGavageTubeFeed',\n",
       " 'homeTherapyGastrostomyTubeFeed',\n",
       " 'homeTherapyTemperatureBlanket',\n",
       " 'homeTherapyAnticonvulsantMedication',\n",
       " 'homeTherapyOther',\n",
       " 'homeTherapyOtherText',\n",
       " 'deathDate',\n",
       " 'deathTime',\n",
       " 'deathAutopsy',\n",
       " 'deathCause',\n",
       " 'deathCauseText',\n",
       " 'deathSrc']"
      ]
     },
     "execution_count": 200,
     "metadata": {},
     "output_type": "execute_result"
    }
   ],
   "source": [
    "status_columns = COMBINE_harmonizer.get_columns(df_data_dict, 'NICU Discharge', 'Status')\n",
    "all_status_columns = id_columns + status_columns\n",
    "status_columns"
   ]
  },
  {
   "cell_type": "code",
   "execution_count": 201,
   "id": "0da83118",
   "metadata": {
    "execution": {
     "iopub.execute_input": "2025-02-04T10:53:57.166359Z",
     "iopub.status.busy": "2025-02-04T10:53:57.166262Z",
     "iopub.status.idle": "2025-02-04T10:53:57.244608Z",
     "shell.execute_reply": "2025-02-04T10:53:57.244252Z"
    }
   },
   "outputs": [
    {
     "name": "stdout",
     "output_type": "stream",
     "text": [
      "no dischargeDate: 1\n",
      "(4/30) dischargeStatus not in df\n"
     ]
    }
   ],
   "source": [
    "df_status = df_main.copy()\n",
    "status_rename_map = {\n",
    "    'dischargeStatus': 'status',\n",
    "    'dischargeHomeTherapy': 'homeTherapyStatus',\n",
    "    'dischargeHomeTherapyVentilator': 'homeTherapyVentilator',\n",
    "    'dischargeHomeTherapyOxygen': 'homeTherapyOxygen',\n",
    "    'dischargeHomeTherapyGavageTubeFeed': 'homeTherapyGavageTubeFeed',\n",
    "    'dischargeHomeTherapyGastrostomyTubeFeed': 'homeTherapyGastrostomyTubeFeed',\n",
    "    'dischargeHomeTherapyTemperatureBlanket': 'homeTherapyTemperatureBlanket',\n",
    "    'dischargeHomeTherapyAnticonvulsantMedication': 'homeTherapyAnticonvulsantMedication',\n",
    "    'dischargeHomeTherapyOther': 'homeTherapyOther',\n",
    "    'dischargeHomeTherapyOtherText': 'homeTherapyOtherText',\n",
    "}\n",
    "df_status = df_status.rename(columns=status_rename_map)\n",
    "\n",
    "# transfer\n",
    "is_transfer = df_status['status'].isin(['2', '2.0'])\n",
    "transfer_map = {\n",
    "    'dischargeDate': 'transferDate',\n",
    "    'dischargeWeight_g': 'transferWeight_g',\n",
    "    'dischargeLength_cm': 'transferLength_cm',\n",
    "    'dischargeHeadCircumference_cm': 'transferHeadCircumference_cm',\n",
    "}\n",
    "for map_from, map_to in transfer_map.items():\n",
    "    df_status.loc[is_transfer, map_to] = df_status.loc[is_transfer, map_from]\n",
    "\n",
    "    df_status.loc[is_transfer, map_from] = float('nan')\n",
    "\n",
    "# XXX refine discharge\n",
    "is_discharge = df_status['status'].isin(['1', '1.0'])\n",
    "is_no_discharge_date = df_status['dischargeDate'].isnull()\n",
    "is_invalid = is_discharge & is_no_discharge_date\n",
    "print(f'no dischargeDate: {is_invalid.sum()}')\n",
    "df_status.loc[is_invalid, 'dischargeDate'] = df_status.loc[is_invalid, 'statusDate']\n",
    "\n",
    "df_status = COMBINE_harmonizer.valid_columns(df_status, all_status_columns, debug_df=False, debug_columns=True)\n",
    "df_status = COMBINE_harmonizer.postprocess(df_status)\n",
    "\n",
    "out_filename = os.sep.join([out_dir, '04-01-status.csv'])\n",
    "df_status.to_csv(out_filename, index=False)"
   ]
  },
  {
   "cell_type": "markdown",
   "id": "9051ea94",
   "metadata": {},
   "source": [
    "### 04-01-2. check empty cells"
   ]
  },
  {
   "cell_type": "code",
   "execution_count": 202,
   "id": "2399e08e",
   "metadata": {
    "execution": {
     "iopub.execute_input": "2025-02-04T10:53:57.246585Z",
     "iopub.status.busy": "2025-02-04T10:53:57.246418Z",
     "iopub.status.idle": "2025-02-04T10:53:57.252315Z",
     "shell.execute_reply": "2025-02-04T10:53:57.252000Z"
    }
   },
   "outputs": [
    {
     "name": "stdout",
     "output_type": "stream",
     "text": [
      "(0/30) column: center (364 / 0)\n",
      "(1/30) column: subjectID (364 / 0)\n",
      "(2/30) column: uniqueID (364 / 0)\n",
      "(3/30) column: homeTherapyStatus (314 / 50)\n",
      "(4/30) column: homeTherapyVentilator (118 / 246)\n",
      "(5/30) column: homeTherapyOxygen (118 / 246)\n",
      "(6/30) column: homeTherapyGavageTubeFeed (118 / 246)\n",
      "(7/30) column: homeTherapyGastrostomyTubeFeed (118 / 246)\n",
      "(8/30) column: homeTherapyTemperatureBlanket (118 / 246)\n",
      "(9/30) column: homeTherapyAnticonvulsantMedication (118 / 246)\n",
      "(10/30) column: homeTherapyOther (118 / 246)\n",
      "(11/30) column: homeTherapyOtherText (36 / 328)\n",
      "(12/30) column: deathAutopsy (49 / 315)\n",
      "(13/30) column: deathCauseText (8 / 356)\n",
      "(14/30) column: status (364 / 0)\n",
      "(15/30) column: statusDate (364 / 0)\n",
      "(16/30) column: dischargeWeight_g (335 / 29)\n",
      "(17/30) column: dischargeLength_cm (316 / 48)\n",
      "(18/30) column: dischargeHeadCircumference_cm (318 / 46)\n",
      "(19/30) column: transferReason (26 / 338)\n",
      "(20/30) column: transferOutcome (26 / 338)\n",
      "(21/30) column: dischargeDate (290 / 74)\n",
      "(22/30) column: deathDate (49 / 315)\n",
      "(23/30) column: deathTime (49 / 315)\n",
      "(24/30) column: deathCause (49 / 315)\n",
      "(25/30) column: deathSrc (49 / 315)\n",
      "(26/30) column: transferDate (23 / 341)\n",
      "(27/30) column: transferWeight_g (24 / 340)\n",
      "(28/30) column: transferLength_cm (21 / 343)\n",
      "(29/30) column: transferHeadCircumference_cm (22 / 342)\n"
     ]
    }
   ],
   "source": [
    "COMBINE_harmonizer.check_empty(df_status)"
   ]
  },
  {
   "cell_type": "code",
   "execution_count": 203,
   "id": "a613bc1b",
   "metadata": {
    "execution": {
     "iopub.execute_input": "2025-02-04T10:53:57.253960Z",
     "iopub.status.busy": "2025-02-04T10:53:57.253805Z",
     "iopub.status.idle": "2025-02-04T10:53:57.257776Z",
     "shell.execute_reply": "2025-02-04T10:53:57.257490Z"
    }
   },
   "outputs": [
    {
     "name": "stdout",
     "output_type": "stream",
     "text": [
      "(0/30) center: (364/0)\n",
      "(1/30) subjectID: (364/0)\n",
      "(2/30) uniqueID: (364/0)\n",
      "(3/30) homeTherapyStatus: (314/50)\n",
      "(4/30) homeTherapyVentilator: (118/246)\n",
      "(5/30) homeTherapyOxygen: (118/246)\n",
      "(6/30) homeTherapyGavageTubeFeed: (118/246)\n",
      "(7/30) homeTherapyGastrostomyTubeFeed: (118/246)\n",
      "(8/30) homeTherapyTemperatureBlanket: (118/246)\n",
      "(9/30) homeTherapyAnticonvulsantMedication: (118/246)\n",
      "(10/30) homeTherapyOther: (118/246)\n",
      "(11/30) homeTherapyOtherText: (36/328)\n",
      "(12/30) deathAutopsy: (49/315)\n",
      "(13/30) deathCauseText: (8/356)\n",
      "(14/30) status: (364/0)\n",
      "(15/30) statusDate: (364/0)\n",
      "(16/30) dischargeWeight_g: (335/29)\n",
      "(17/30) dischargeLength_cm: (316/48)\n",
      "(18/30) dischargeHeadCircumference_cm: (318/46)\n",
      "(19/30) transferReason: (26/338)\n",
      "(20/30) transferOutcome: (26/338)\n",
      "(21/30) dischargeDate: (290/74)\n",
      "(22/30) deathDate: (49/315)\n",
      "(23/30) deathTime: (49/315)\n",
      "(24/30) deathCause: (49/315)\n",
      "(25/30) deathSrc: (49/315)\n",
      "(26/30) transferDate: (23/341)\n",
      "(27/30) transferWeight_g: (24/340)\n",
      "(28/30) transferLength_cm: (21/343)\n",
      "(29/30) transferHeadCircumference_cm: (22/342)\n"
     ]
    }
   ],
   "source": [
    "COMBINE_harmonizer.column_info(df_status)"
   ]
  },
  {
   "cell_type": "markdown",
   "id": "d615b7e2",
   "metadata": {},
   "source": [
    "## 04-02. Discharge Neuro Exam"
   ]
  },
  {
   "cell_type": "code",
   "execution_count": 204,
   "id": "8371bdac",
   "metadata": {
    "execution": {
     "iopub.execute_input": "2025-02-04T10:53:57.259343Z",
     "iopub.status.busy": "2025-02-04T10:53:57.259232Z",
     "iopub.status.idle": "2025-02-04T10:53:57.262364Z",
     "shell.execute_reply": "2025-02-04T10:53:57.262084Z"
    }
   },
   "outputs": [
    {
     "data": {
      "text/plain": [
       "['dischargeNeuroExam',\n",
       " 'dischargeNeuroExamStatus',\n",
       " 'dischargeNeuroExamDate',\n",
       " 'dischargeNeuroExamTime',\n",
       " 'dischargeNeuroExamLevelConsciousness',\n",
       " 'dischargeNeuroExamSpontaneousActivity',\n",
       " 'dischargeNeuroExamPosture',\n",
       " 'dischargeNeuroExamTone',\n",
       " 'dischargeNeuroExamSuck',\n",
       " 'dischargeNeuroExamMoro',\n",
       " 'dischargeNeuroExamPupils',\n",
       " 'dischargeNeuroExamHeartRate',\n",
       " 'dischargeNeuroExamRespiration',\n",
       " 'dischargeNeuroExamSeizure',\n",
       " 'dischargeNeuroExamClonusSustained',\n",
       " 'dischargeNeuroExamFistedHand',\n",
       " 'dischargeNeuroExamAbnormalMovement',\n",
       " 'dischargeNeuroExamGagReflexAbsent',\n",
       " 'dischargeNeuroExamSedate',\n",
       " 'dischargeNeuroExamHypertonia',\n",
       " 'dischargeNeuroExamAsymTonicNeckReflex']"
      ]
     },
     "execution_count": 204,
     "metadata": {},
     "output_type": "execute_result"
    }
   ],
   "source": [
    "discharge_neuro_exam_columns = COMBINE_harmonizer.get_columns(df_data_dict, 'NICU Discharge', 'Neuro Exam')\n",
    "all_discharge_neuro_exam_columns = id_columns + discharge_neuro_exam_columns\n",
    "discharge_neuro_exam_columns"
   ]
  },
  {
   "cell_type": "code",
   "execution_count": 205,
   "id": "e5d787a5",
   "metadata": {
    "execution": {
     "iopub.execute_input": "2025-02-04T10:53:57.263802Z",
     "iopub.status.busy": "2025-02-04T10:53:57.263675Z",
     "iopub.status.idle": "2025-02-04T10:53:57.338340Z",
     "shell.execute_reply": "2025-02-04T10:53:57.337987Z"
    }
   },
   "outputs": [
    {
     "name": "stdout",
     "output_type": "stream",
     "text": [
      "(2/23) dischargeNeuroExam not in df\n",
      "(21/23) dischargeNeuroExamHypertonia not in df\n"
     ]
    }
   ],
   "source": [
    "df_discharge_neuro_exam = COMBINE_harmonizer.valid_columns(df_main, all_discharge_neuro_exam_columns, debug_df=False, debug_columns=True)\n",
    "df_discharge_neuro_exam = COMBINE_harmonizer.postprocess(df_discharge_neuro_exam)\n",
    "\n",
    "out_filename = os.sep.join([out_dir, '04-02-neuro-exam.csv'])\n",
    "df_discharge_neuro_exam.to_csv(out_filename, index=False)"
   ]
  },
  {
   "cell_type": "markdown",
   "id": "10ac2583",
   "metadata": {},
   "source": [
    "### 04-02-2. check empty cells"
   ]
  },
  {
   "cell_type": "code",
   "execution_count": 206,
   "id": "dcc63a0a",
   "metadata": {
    "execution": {
     "iopub.execute_input": "2025-02-04T10:53:57.340351Z",
     "iopub.status.busy": "2025-02-04T10:53:57.340190Z",
     "iopub.status.idle": "2025-02-04T10:53:57.345809Z",
     "shell.execute_reply": "2025-02-04T10:53:57.345450Z"
    }
   },
   "outputs": [
    {
     "name": "stdout",
     "output_type": "stream",
     "text": [
      "(0/22) column: center (364 / 0)\n",
      "(1/22) column: subjectID (364 / 0)\n",
      "(2/22) column: uniqueID (364 / 0)\n",
      "(3/22) column: dischargeNeuroExamTone (333 / 31)\n",
      "(4/22) column: dischargeNeuroExamRespiration (333 / 31)\n",
      "(5/22) column: dischargeNeuroExamSeizure (333 / 31)\n",
      "(6/22) column: dischargeNeuroExamSedate (333 / 31)\n",
      "(7/22) column: dischargeNeuroExamClonusSustained (333 / 31)\n",
      "(8/22) column: dischargeNeuroExamFistedHand (333 / 31)\n",
      "(9/22) column: dischargeNeuroExamAbnormalMovement (333 / 31)\n",
      "(10/22) column: dischargeNeuroExamGagReflexAbsent (333 / 31)\n",
      "(11/22) column: dischargeNeuroExamAsymTonicNeckReflex (328 / 36)\n",
      "(12/22) column: dischargeNeuroExamStatus (331 / 33)\n",
      "(13/22) column: dischargeNeuroExamDate (333 / 31)\n",
      "(14/22) column: dischargeNeuroExamTime (326 / 38)\n",
      "(15/22) column: dischargeNeuroExamLevelConsciousness (333 / 31)\n",
      "(16/22) column: dischargeNeuroExamSpontaneousActivity (332 / 32)\n",
      "(17/22) column: dischargeNeuroExamPosture (332 / 32)\n",
      "(18/22) column: dischargeNeuroExamSuck (332 / 32)\n",
      "(19/22) column: dischargeNeuroExamMoro (330 / 34)\n",
      "(20/22) column: dischargeNeuroExamPupils (328 / 36)\n",
      "(21/22) column: dischargeNeuroExamHeartRate (332 / 32)\n"
     ]
    }
   ],
   "source": [
    "COMBINE_harmonizer.check_empty(df_discharge_neuro_exam)"
   ]
  },
  {
   "cell_type": "code",
   "execution_count": 207,
   "id": "0684970f",
   "metadata": {
    "execution": {
     "iopub.execute_input": "2025-02-04T10:53:57.347721Z",
     "iopub.status.busy": "2025-02-04T10:53:57.347541Z",
     "iopub.status.idle": "2025-02-04T10:53:57.351313Z",
     "shell.execute_reply": "2025-02-04T10:53:57.350989Z"
    }
   },
   "outputs": [
    {
     "name": "stdout",
     "output_type": "stream",
     "text": [
      "(0/22) center: (364/0)\n",
      "(1/22) subjectID: (364/0)\n",
      "(2/22) uniqueID: (364/0)\n",
      "(3/22) dischargeNeuroExamTone: (333/31)\n",
      "(4/22) dischargeNeuroExamRespiration: (333/31)\n",
      "(5/22) dischargeNeuroExamSeizure: (333/31)\n",
      "(6/22) dischargeNeuroExamSedate: (333/31)\n",
      "(7/22) dischargeNeuroExamClonusSustained: (333/31)\n",
      "(8/22) dischargeNeuroExamFistedHand: (333/31)\n",
      "(9/22) dischargeNeuroExamAbnormalMovement: (333/31)\n",
      "(10/22) dischargeNeuroExamGagReflexAbsent: (333/31)\n",
      "(11/22) dischargeNeuroExamAsymTonicNeckReflex: (328/36)\n",
      "(12/22) dischargeNeuroExamStatus: (331/33)\n",
      "(13/22) dischargeNeuroExamDate: (333/31)\n",
      "(14/22) dischargeNeuroExamTime: (326/38)\n",
      "(15/22) dischargeNeuroExamLevelConsciousness: (333/31)\n",
      "(16/22) dischargeNeuroExamSpontaneousActivity: (332/32)\n",
      "(17/22) dischargeNeuroExamPosture: (332/32)\n",
      "(18/22) dischargeNeuroExamSuck: (332/32)\n",
      "(19/22) dischargeNeuroExamMoro: (330/34)\n",
      "(20/22) dischargeNeuroExamPupils: (328/36)\n",
      "(21/22) dischargeNeuroExamHeartRate: (332/32)\n"
     ]
    }
   ],
   "source": [
    "COMBINE_harmonizer.column_info(df_discharge_neuro_exam)"
   ]
  },
  {
   "cell_type": "markdown",
   "id": "d9b933a1",
   "metadata": {},
   "source": [
    "## 04-03. Discharge Cardiovascular"
   ]
  },
  {
   "cell_type": "code",
   "execution_count": 208,
   "id": "65176b60",
   "metadata": {
    "execution": {
     "iopub.execute_input": "2025-02-04T10:53:57.353023Z",
     "iopub.status.busy": "2025-02-04T10:53:57.352900Z",
     "iopub.status.idle": "2025-02-04T10:53:57.356162Z",
     "shell.execute_reply": "2025-02-04T10:53:57.355899Z"
    }
   },
   "outputs": [
    {
     "data": {
      "text/plain": [
       "['dischargeCardiomegaly',\n",
       " 'dischargeCardiacFailure',\n",
       " 'dischargeCardiacDysfunctionByEcho',\n",
       " 'dischargeCardiacIschemiaByEKG',\n",
       " 'dischargeHypotension',\n",
       " 'dischargeArrhythmia']"
      ]
     },
     "execution_count": 208,
     "metadata": {},
     "output_type": "execute_result"
    }
   ],
   "source": [
    "discharge_cardiovascular_columns = COMBINE_harmonizer.get_columns(df_data_dict, 'NICU Discharge', 'Cardiovascular')\n",
    "all_discharge_cardiovascular_columns = id_columns + discharge_cardiovascular_columns\n",
    "discharge_cardiovascular_columns"
   ]
  },
  {
   "cell_type": "code",
   "execution_count": 209,
   "id": "7b77b91a",
   "metadata": {
    "execution": {
     "iopub.execute_input": "2025-02-04T10:53:57.357640Z",
     "iopub.status.busy": "2025-02-04T10:53:57.357514Z",
     "iopub.status.idle": "2025-02-04T10:53:57.423741Z",
     "shell.execute_reply": "2025-02-04T10:53:57.423285Z"
    }
   },
   "outputs": [],
   "source": [
    "df_discharge_cardiovascular = COMBINE_harmonizer.valid_columns(df_main, all_discharge_cardiovascular_columns, debug_df=False, debug_columns=True)\n",
    "df_discharge_cardiovascular = COMBINE_harmonizer.postprocess(df_discharge_cardiovascular)\n",
    "\n",
    "out_filename = os.sep.join([out_dir, '04-03-cardiovascular.csv'])\n",
    "df_discharge_cardiovascular.to_csv(out_filename, index=False)"
   ]
  },
  {
   "cell_type": "markdown",
   "id": "f7192d6e",
   "metadata": {},
   "source": [
    "### 04-03-2. check empty cells"
   ]
  },
  {
   "cell_type": "code",
   "execution_count": 210,
   "id": "58ba4efa",
   "metadata": {
    "execution": {
     "iopub.execute_input": "2025-02-04T10:53:57.425988Z",
     "iopub.status.busy": "2025-02-04T10:53:57.425784Z",
     "iopub.status.idle": "2025-02-04T10:53:57.430182Z",
     "shell.execute_reply": "2025-02-04T10:53:57.429768Z"
    }
   },
   "outputs": [
    {
     "name": "stdout",
     "output_type": "stream",
     "text": [
      "(0/9) column: center (364 / 0)\n",
      "(1/9) column: subjectID (364 / 0)\n",
      "(2/9) column: uniqueID (364 / 0)\n",
      "(3/9) column: dischargeCardiomegaly (364 / 0)\n",
      "(4/9) column: dischargeCardiacFailure (364 / 0)\n",
      "(5/9) column: dischargeCardiacDysfunctionByEcho (364 / 0)\n",
      "(6/9) column: dischargeCardiacIschemiaByEKG (364 / 0)\n",
      "(7/9) column: dischargeHypotension (364 / 0)\n",
      "(8/9) column: dischargeArrhythmia (364 / 0)\n"
     ]
    }
   ],
   "source": [
    "COMBINE_harmonizer.check_empty(df_discharge_cardiovascular)"
   ]
  },
  {
   "cell_type": "code",
   "execution_count": 211,
   "id": "22cbb173",
   "metadata": {
    "execution": {
     "iopub.execute_input": "2025-02-04T10:53:57.432110Z",
     "iopub.status.busy": "2025-02-04T10:53:57.431937Z",
     "iopub.status.idle": "2025-02-04T10:53:57.434978Z",
     "shell.execute_reply": "2025-02-04T10:53:57.434615Z"
    }
   },
   "outputs": [
    {
     "name": "stdout",
     "output_type": "stream",
     "text": [
      "(0/9) center: (364/0)\n",
      "(1/9) subjectID: (364/0)\n",
      "(2/9) uniqueID: (364/0)\n",
      "(3/9) dischargeCardiomegaly: (364/0)\n",
      "(4/9) dischargeCardiacFailure: (364/0)\n",
      "(5/9) dischargeCardiacDysfunctionByEcho: (364/0)\n",
      "(6/9) dischargeCardiacIschemiaByEKG: (364/0)\n",
      "(7/9) dischargeHypotension: (364/0)\n",
      "(8/9) dischargeArrhythmia: (364/0)\n"
     ]
    }
   ],
   "source": [
    "COMBINE_harmonizer.column_info(df_discharge_cardiovascular)"
   ]
  },
  {
   "cell_type": "markdown",
   "id": "31cbeb92",
   "metadata": {},
   "source": [
    "## 04-04. Discharge Respiratory"
   ]
  },
  {
   "cell_type": "code",
   "execution_count": 212,
   "id": "450ad56e",
   "metadata": {
    "execution": {
     "iopub.execute_input": "2025-02-04T10:53:57.436952Z",
     "iopub.status.busy": "2025-02-04T10:53:57.436817Z",
     "iopub.status.idle": "2025-02-04T10:53:57.440615Z",
     "shell.execute_reply": "2025-02-04T10:53:57.440276Z"
    }
   },
   "outputs": [
    {
     "data": {
      "text/plain": [
       "['dischargeMeconiumAspirationSyndrome',\n",
       " 'dischargePPHN',\n",
       " 'dischargePulmonaryHemorrhage',\n",
       " 'dischargePenumonia',\n",
       " 'dischargeChronicLungDisease',\n",
       " 'dischargeECMO',\n",
       " 'dischargeINO',\n",
       " 'dischargeVentilator_day',\n",
       " 'dischargeOxygen_day',\n",
       " 'dischargeCPAP_day',\n",
       " 'dischargePulmonaryStartDate1',\n",
       " 'dischargePulmonaryStartTime1',\n",
       " 'dischargePulmonaryEndDate1',\n",
       " 'dischargePulmonaryEndTime1',\n",
       " 'dischargePulmonaryStartDate2',\n",
       " 'dischargePulmonaryStartTime2',\n",
       " 'dischargePulmonaryEndDate2',\n",
       " 'dischargePulmonaryEndTime2',\n",
       " 'dischargePulmonaryStartDate3',\n",
       " 'dischargePulmonaryStartTime3',\n",
       " 'dischargePulmonaryEndDate3',\n",
       " 'dischargePulmonaryEndTime3']"
      ]
     },
     "execution_count": 212,
     "metadata": {},
     "output_type": "execute_result"
    }
   ],
   "source": [
    "discharge_respiratory_columns = COMBINE_harmonizer.get_columns(df_data_dict, 'NICU Discharge', 'Respiratory')\n",
    "all_discharge_respiratory_columns = id_columns + discharge_respiratory_columns\n",
    "discharge_respiratory_columns"
   ]
  },
  {
   "cell_type": "code",
   "execution_count": 213,
   "id": "5f44d101",
   "metadata": {
    "execution": {
     "iopub.execute_input": "2025-02-04T10:53:57.442261Z",
     "iopub.status.busy": "2025-02-04T10:53:57.442089Z",
     "iopub.status.idle": "2025-02-04T10:53:57.510060Z",
     "shell.execute_reply": "2025-02-04T10:53:57.509556Z"
    }
   },
   "outputs": [
    {
     "name": "stdout",
     "output_type": "stream",
     "text": [
      "(12/24) dischargePulmonaryStartDate1 not in df\n",
      "(13/24) dischargePulmonaryStartTime1 not in df\n",
      "(14/24) dischargePulmonaryEndDate1 not in df\n",
      "(15/24) dischargePulmonaryEndTime1 not in df\n",
      "(16/24) dischargePulmonaryStartDate2 not in df\n",
      "(17/24) dischargePulmonaryStartTime2 not in df\n",
      "(18/24) dischargePulmonaryEndDate2 not in df\n",
      "(19/24) dischargePulmonaryEndTime2 not in df\n",
      "(20/24) dischargePulmonaryStartDate3 not in df\n",
      "(21/24) dischargePulmonaryStartTime3 not in df\n",
      "(22/24) dischargePulmonaryEndDate3 not in df\n",
      "(23/24) dischargePulmonaryEndTime3 not in df\n"
     ]
    }
   ],
   "source": [
    "df_discharge_respiratory = COMBINE_harmonizer.valid_columns(df_main, all_discharge_respiratory_columns, debug_df=False, debug_columns=True)\n",
    "df_discharge_respiratory = COMBINE_harmonizer.postprocess(df_discharge_respiratory)\n",
    "\n",
    "out_filename = os.sep.join([out_dir, '04-04-respiratory.csv'])\n",
    "df_discharge_respiratory.to_csv(out_filename, index=False)"
   ]
  },
  {
   "cell_type": "markdown",
   "id": "fcd1c78f",
   "metadata": {},
   "source": [
    "### 04-04-2. check empty cells"
   ]
  },
  {
   "cell_type": "code",
   "execution_count": 214,
   "id": "0592f453",
   "metadata": {
    "execution": {
     "iopub.execute_input": "2025-02-04T10:53:57.512492Z",
     "iopub.status.busy": "2025-02-04T10:53:57.512271Z",
     "iopub.status.idle": "2025-02-04T10:53:57.517048Z",
     "shell.execute_reply": "2025-02-04T10:53:57.516666Z"
    }
   },
   "outputs": [
    {
     "name": "stdout",
     "output_type": "stream",
     "text": [
      "(0/13) column: center (364 / 0)\n",
      "(1/13) column: subjectID (364 / 0)\n",
      "(2/13) column: uniqueID (364 / 0)\n",
      "(3/13) column: dischargeMeconiumAspirationSyndrome (364 / 0)\n",
      "(4/13) column: dischargePPHN (364 / 0)\n",
      "(5/13) column: dischargePulmonaryHemorrhage (364 / 0)\n",
      "(6/13) column: dischargePenumonia (364 / 0)\n",
      "(7/13) column: dischargeChronicLungDisease (364 / 0)\n",
      "(8/13) column: dischargeECMO (364 / 0)\n",
      "(9/13) column: dischargeINO (364 / 0)\n",
      "(10/13) column: dischargeVentilator_day (364 / 0)\n",
      "(11/13) column: dischargeOxygen_day (364 / 0)\n",
      "(12/13) column: dischargeCPAP_day (364 / 0)\n"
     ]
    }
   ],
   "source": [
    "COMBINE_harmonizer.check_empty(df_discharge_respiratory)"
   ]
  },
  {
   "cell_type": "code",
   "execution_count": 215,
   "id": "88a0a404",
   "metadata": {
    "execution": {
     "iopub.execute_input": "2025-02-04T10:53:57.519088Z",
     "iopub.status.busy": "2025-02-04T10:53:57.518870Z",
     "iopub.status.idle": "2025-02-04T10:53:57.522411Z",
     "shell.execute_reply": "2025-02-04T10:53:57.522102Z"
    }
   },
   "outputs": [
    {
     "name": "stdout",
     "output_type": "stream",
     "text": [
      "(0/13) center: (364/0)\n",
      "(1/13) subjectID: (364/0)\n",
      "(2/13) uniqueID: (364/0)\n",
      "(3/13) dischargeMeconiumAspirationSyndrome: (364/0)\n",
      "(4/13) dischargePPHN: (364/0)\n",
      "(5/13) dischargePulmonaryHemorrhage: (364/0)\n",
      "(6/13) dischargePenumonia: (364/0)\n",
      "(7/13) dischargeChronicLungDisease: (364/0)\n",
      "(8/13) dischargeECMO: (364/0)\n",
      "(9/13) dischargeINO: (364/0)\n",
      "(10/13) dischargeVentilator_day: (364/0)\n",
      "(11/13) dischargeOxygen_day: (364/0)\n",
      "(12/13) dischargeCPAP_day: (364/0)\n"
     ]
    }
   ],
   "source": [
    "COMBINE_harmonizer.column_info(df_discharge_respiratory)"
   ]
  },
  {
   "cell_type": "markdown",
   "id": "817a52c9",
   "metadata": {},
   "source": [
    "## 04-05. Discharge Hematology"
   ]
  },
  {
   "cell_type": "code",
   "execution_count": 216,
   "id": "ed4fd9fb",
   "metadata": {
    "execution": {
     "iopub.execute_input": "2025-02-04T10:53:57.524146Z",
     "iopub.status.busy": "2025-02-04T10:53:57.524017Z",
     "iopub.status.idle": "2025-02-04T10:53:57.527489Z",
     "shell.execute_reply": "2025-02-04T10:53:57.527168Z"
    }
   },
   "outputs": [
    {
     "data": {
      "text/plain": [
       "['dischargeDIC']"
      ]
     },
     "execution_count": 216,
     "metadata": {},
     "output_type": "execute_result"
    }
   ],
   "source": [
    "discharge_hematology_columns = COMBINE_harmonizer.get_columns(df_data_dict, 'NICU Discharge', 'Hematology')\n",
    "all_discharge_hematology_columns = id_columns + discharge_hematology_columns\n",
    "discharge_hematology_columns"
   ]
  },
  {
   "cell_type": "code",
   "execution_count": 217,
   "id": "c9b857d1",
   "metadata": {
    "execution": {
     "iopub.execute_input": "2025-02-04T10:53:57.529142Z",
     "iopub.status.busy": "2025-02-04T10:53:57.528987Z",
     "iopub.status.idle": "2025-02-04T10:53:57.592762Z",
     "shell.execute_reply": "2025-02-04T10:53:57.592310Z"
    }
   },
   "outputs": [],
   "source": [
    "df_discharge_hematology = COMBINE_harmonizer.valid_columns(df_main, all_discharge_hematology_columns, debug_df=False, debug_columns=True)\n",
    "df_discharge_hematology = COMBINE_harmonizer.postprocess(df_discharge_hematology)\n",
    "\n",
    "out_filename = os.sep.join([out_dir, '04-05-hematology.csv'])\n",
    "df_discharge_hematology.to_csv(out_filename, index=False)"
   ]
  },
  {
   "cell_type": "markdown",
   "id": "2d25ebe7",
   "metadata": {},
   "source": [
    "### 04-05-2. check empty cells"
   ]
  },
  {
   "cell_type": "code",
   "execution_count": 218,
   "id": "0e4edfa3",
   "metadata": {
    "execution": {
     "iopub.execute_input": "2025-02-04T10:53:57.595022Z",
     "iopub.status.busy": "2025-02-04T10:53:57.594822Z",
     "iopub.status.idle": "2025-02-04T10:53:57.598385Z",
     "shell.execute_reply": "2025-02-04T10:53:57.597949Z"
    }
   },
   "outputs": [
    {
     "name": "stdout",
     "output_type": "stream",
     "text": [
      "(0/4) column: center (364 / 0)\n",
      "(1/4) column: subjectID (364 / 0)\n",
      "(2/4) column: uniqueID (364 / 0)\n",
      "(3/4) column: dischargeDIC (364 / 0)\n"
     ]
    }
   ],
   "source": [
    "COMBINE_harmonizer.check_empty(df_discharge_hematology)"
   ]
  },
  {
   "cell_type": "code",
   "execution_count": 219,
   "id": "e6c591d2",
   "metadata": {
    "execution": {
     "iopub.execute_input": "2025-02-04T10:53:57.600567Z",
     "iopub.status.busy": "2025-02-04T10:53:57.600400Z",
     "iopub.status.idle": "2025-02-04T10:53:57.603286Z",
     "shell.execute_reply": "2025-02-04T10:53:57.602916Z"
    }
   },
   "outputs": [
    {
     "name": "stdout",
     "output_type": "stream",
     "text": [
      "(0/4) center: (364/0)\n",
      "(1/4) subjectID: (364/0)\n",
      "(2/4) uniqueID: (364/0)\n",
      "(3/4) dischargeDIC: (364/0)\n"
     ]
    }
   ],
   "source": [
    "COMBINE_harmonizer.column_info(df_discharge_hematology)"
   ]
  },
  {
   "cell_type": "markdown",
   "id": "9b49aee8",
   "metadata": {},
   "source": [
    "## 04-06. Discharge Metabolic"
   ]
  },
  {
   "cell_type": "code",
   "execution_count": 220,
   "id": "3d9952aa",
   "metadata": {
    "execution": {
     "iopub.execute_input": "2025-02-04T10:53:57.605219Z",
     "iopub.status.busy": "2025-02-04T10:53:57.605043Z",
     "iopub.status.idle": "2025-02-04T10:53:57.608795Z",
     "shell.execute_reply": "2025-02-04T10:53:57.608426Z"
    }
   },
   "outputs": [
    {
     "data": {
      "text/plain": [
       "['dischargeHypoglycemia', 'dischargeHypocalcemia', 'dischargeHypomagnesemia']"
      ]
     },
     "execution_count": 220,
     "metadata": {},
     "output_type": "execute_result"
    }
   ],
   "source": [
    "discharge_metabolic_columns = COMBINE_harmonizer.get_columns(df_data_dict, 'NICU Discharge', 'Metabolic')\n",
    "all_discharge_metabolic_columns = id_columns + discharge_metabolic_columns\n",
    "discharge_metabolic_columns"
   ]
  },
  {
   "cell_type": "code",
   "execution_count": 221,
   "id": "9cf9753d",
   "metadata": {
    "execution": {
     "iopub.execute_input": "2025-02-04T10:53:57.610497Z",
     "iopub.status.busy": "2025-02-04T10:53:57.610379Z",
     "iopub.status.idle": "2025-02-04T10:53:57.677650Z",
     "shell.execute_reply": "2025-02-04T10:53:57.677140Z"
    }
   },
   "outputs": [],
   "source": [
    "df_discharge_metabolic = COMBINE_harmonizer.valid_columns(df_main, all_discharge_metabolic_columns, debug_df=False, debug_columns=True)\n",
    "df_discharge_metabolic = COMBINE_harmonizer.postprocess(df_discharge_metabolic)\n",
    "\n",
    "out_filename = os.sep.join([out_dir, '04-06-metabolic.csv'])\n",
    "df_discharge_metabolic.to_csv(out_filename, index=False)"
   ]
  },
  {
   "cell_type": "markdown",
   "id": "3bdd240a",
   "metadata": {},
   "source": [
    "### 04-06-2. check empty cells"
   ]
  },
  {
   "cell_type": "code",
   "execution_count": 222,
   "id": "23eabeda",
   "metadata": {
    "execution": {
     "iopub.execute_input": "2025-02-04T10:53:57.680617Z",
     "iopub.status.busy": "2025-02-04T10:53:57.680328Z",
     "iopub.status.idle": "2025-02-04T10:53:57.685241Z",
     "shell.execute_reply": "2025-02-04T10:53:57.684743Z"
    }
   },
   "outputs": [
    {
     "name": "stdout",
     "output_type": "stream",
     "text": [
      "(0/6) column: center (364 / 0)\n",
      "(1/6) column: subjectID (364 / 0)\n",
      "(2/6) column: uniqueID (364 / 0)\n",
      "(3/6) column: dischargeHypoglycemia (364 / 0)\n",
      "(4/6) column: dischargeHypocalcemia (364 / 0)\n",
      "(5/6) column: dischargeHypomagnesemia (364 / 0)\n"
     ]
    }
   ],
   "source": [
    "COMBINE_harmonizer.check_empty(df_discharge_metabolic)"
   ]
  },
  {
   "cell_type": "code",
   "execution_count": 223,
   "id": "05f1c2d7",
   "metadata": {
    "execution": {
     "iopub.execute_input": "2025-02-04T10:53:57.687819Z",
     "iopub.status.busy": "2025-02-04T10:53:57.687578Z",
     "iopub.status.idle": "2025-02-04T10:53:57.690946Z",
     "shell.execute_reply": "2025-02-04T10:53:57.690551Z"
    }
   },
   "outputs": [
    {
     "name": "stdout",
     "output_type": "stream",
     "text": [
      "(0/6) center: (364/0)\n",
      "(1/6) subjectID: (364/0)\n",
      "(2/6) uniqueID: (364/0)\n",
      "(3/6) dischargeHypoglycemia: (364/0)\n",
      "(4/6) dischargeHypocalcemia: (364/0)\n",
      "(5/6) dischargeHypomagnesemia: (364/0)\n"
     ]
    }
   ],
   "source": [
    "COMBINE_harmonizer.column_info(df_discharge_metabolic)"
   ]
  },
  {
   "cell_type": "markdown",
   "id": "44459f25",
   "metadata": {},
   "source": [
    "## 04-07. Discharge Renal"
   ]
  },
  {
   "cell_type": "code",
   "execution_count": 224,
   "id": "9989fde6",
   "metadata": {
    "execution": {
     "iopub.execute_input": "2025-02-04T10:53:57.693151Z",
     "iopub.status.busy": "2025-02-04T10:53:57.692998Z",
     "iopub.status.idle": "2025-02-04T10:53:57.697219Z",
     "shell.execute_reply": "2025-02-04T10:53:57.696878Z"
    }
   },
   "outputs": [
    {
     "data": {
      "text/plain": [
       "['dischargeOliguria', 'dischargeAnuria', 'dischargeDialysis']"
      ]
     },
     "execution_count": 224,
     "metadata": {},
     "output_type": "execute_result"
    }
   ],
   "source": [
    "discharge_renal_columns = COMBINE_harmonizer.get_columns(df_data_dict, 'NICU Discharge', 'Renal')\n",
    "all_discharge_renal_columns = id_columns + discharge_renal_columns\n",
    "discharge_renal_columns"
   ]
  },
  {
   "cell_type": "code",
   "execution_count": 225,
   "id": "b76a41a2",
   "metadata": {
    "execution": {
     "iopub.execute_input": "2025-02-04T10:53:57.699067Z",
     "iopub.status.busy": "2025-02-04T10:53:57.698888Z",
     "iopub.status.idle": "2025-02-04T10:53:57.773205Z",
     "shell.execute_reply": "2025-02-04T10:53:57.771940Z"
    }
   },
   "outputs": [],
   "source": [
    "df_discharge_renal = COMBINE_harmonizer.valid_columns(df_main, all_discharge_renal_columns, debug_df=False, debug_columns=True)\n",
    "df_discharge_renal = COMBINE_harmonizer.postprocess(df_discharge_renal)\n",
    "\n",
    "out_filename = os.sep.join([out_dir, '04-07-renal.csv'])\n",
    "df_discharge_renal.to_csv(out_filename, index=False)"
   ]
  },
  {
   "cell_type": "markdown",
   "id": "d27ce520",
   "metadata": {},
   "source": [
    "### 04-07-2. check empty cells"
   ]
  },
  {
   "cell_type": "code",
   "execution_count": 226,
   "id": "ea5ff7d4",
   "metadata": {
    "execution": {
     "iopub.execute_input": "2025-02-04T10:53:57.777618Z",
     "iopub.status.busy": "2025-02-04T10:53:57.777337Z",
     "iopub.status.idle": "2025-02-04T10:53:57.782140Z",
     "shell.execute_reply": "2025-02-04T10:53:57.781602Z"
    }
   },
   "outputs": [
    {
     "name": "stdout",
     "output_type": "stream",
     "text": [
      "(0/6) column: center (364 / 0)\n",
      "(1/6) column: subjectID (364 / 0)\n",
      "(2/6) column: uniqueID (364 / 0)\n",
      "(3/6) column: dischargeOliguria (364 / 0)\n",
      "(4/6) column: dischargeAnuria (364 / 0)\n",
      "(5/6) column: dischargeDialysis (364 / 0)\n"
     ]
    }
   ],
   "source": [
    "COMBINE_harmonizer.check_empty(df_discharge_renal)"
   ]
  },
  {
   "cell_type": "code",
   "execution_count": 227,
   "id": "6b1a38c4",
   "metadata": {
    "execution": {
     "iopub.execute_input": "2025-02-04T10:53:57.784626Z",
     "iopub.status.busy": "2025-02-04T10:53:57.784417Z",
     "iopub.status.idle": "2025-02-04T10:53:57.787844Z",
     "shell.execute_reply": "2025-02-04T10:53:57.787368Z"
    }
   },
   "outputs": [
    {
     "name": "stdout",
     "output_type": "stream",
     "text": [
      "(0/6) center: (364/0)\n",
      "(1/6) subjectID: (364/0)\n",
      "(2/6) uniqueID: (364/0)\n",
      "(3/6) dischargeOliguria: (364/0)\n",
      "(4/6) dischargeAnuria: (364/0)\n",
      "(5/6) dischargeDialysis: (364/0)\n"
     ]
    }
   ],
   "source": [
    "COMBINE_harmonizer.column_info(df_discharge_renal)"
   ]
  },
  {
   "cell_type": "markdown",
   "id": "88b5cfde",
   "metadata": {},
   "source": [
    "## 04-08. Discharge Gastrointestinal"
   ]
  },
  {
   "cell_type": "code",
   "execution_count": 228,
   "id": "54ff6cf4",
   "metadata": {
    "execution": {
     "iopub.execute_input": "2025-02-04T10:53:57.790027Z",
     "iopub.status.busy": "2025-02-04T10:53:57.789881Z",
     "iopub.status.idle": "2025-02-04T10:53:57.793504Z",
     "shell.execute_reply": "2025-02-04T10:53:57.793246Z"
    }
   },
   "outputs": [
    {
     "data": {
      "text/plain": [
       "['dischargeEnteralFeedStart_day',\n",
       " 'dischargeTubeFeedingDuration_day',\n",
       " 'dischargeFullNippleFeed',\n",
       " 'dischargeFullNippleFeed_day',\n",
       " 'dischargeNEC',\n",
       " 'dischargeHepaticDysfunction']"
      ]
     },
     "execution_count": 228,
     "metadata": {},
     "output_type": "execute_result"
    }
   ],
   "source": [
    "discharge_gastrointestinal_columns = COMBINE_harmonizer.get_columns(df_data_dict, 'NICU Discharge', 'Gastrointestinal')\n",
    "all_discharge_gastrointestinal_columns = id_columns + discharge_gastrointestinal_columns\n",
    "discharge_gastrointestinal_columns"
   ]
  },
  {
   "cell_type": "code",
   "execution_count": 229,
   "id": "ef9b72b7",
   "metadata": {
    "execution": {
     "iopub.execute_input": "2025-02-04T10:53:57.794943Z",
     "iopub.status.busy": "2025-02-04T10:53:57.794825Z",
     "iopub.status.idle": "2025-02-04T10:53:57.863213Z",
     "shell.execute_reply": "2025-02-04T10:53:57.862397Z"
    }
   },
   "outputs": [],
   "source": [
    "df_discharge_gastrointestinal = COMBINE_harmonizer.valid_columns(df_main, all_discharge_gastrointestinal_columns, debug_df=False, debug_columns=True)\n",
    "df_discharge_gastrointestinal = COMBINE_harmonizer.postprocess(df_discharge_gastrointestinal)\n",
    "\n",
    "out_filename = os.sep.join([out_dir, '04-08-gastrointestinal.csv'])\n",
    "df_discharge_gastrointestinal.to_csv(out_filename, index=False)"
   ]
  },
  {
   "cell_type": "markdown",
   "id": "bc8c860b",
   "metadata": {},
   "source": [
    "### 04-08-2. check empty cells"
   ]
  },
  {
   "cell_type": "code",
   "execution_count": 230,
   "id": "610643ea",
   "metadata": {
    "execution": {
     "iopub.execute_input": "2025-02-04T10:53:57.867386Z",
     "iopub.status.busy": "2025-02-04T10:53:57.867071Z",
     "iopub.status.idle": "2025-02-04T10:53:57.872542Z",
     "shell.execute_reply": "2025-02-04T10:53:57.871990Z"
    }
   },
   "outputs": [
    {
     "name": "stdout",
     "output_type": "stream",
     "text": [
      "(0/9) column: center (364 / 0)\n",
      "(1/9) column: subjectID (364 / 0)\n",
      "(2/9) column: uniqueID (364 / 0)\n",
      "(3/9) column: dischargeFullNippleFeed (364 / 0)\n",
      "(4/9) column: dischargeNEC (364 / 0)\n",
      "(5/9) column: dischargeHepaticDysfunction (364 / 0)\n",
      "(6/9) column: dischargeEnteralFeedStart_day (337 / 27)\n",
      "(7/9) column: dischargeTubeFeedingDuration_day (343 / 21)\n",
      "(8/9) column: dischargeFullNippleFeed_day (237 / 127)\n"
     ]
    }
   ],
   "source": [
    "COMBINE_harmonizer.check_empty(df_discharge_gastrointestinal)"
   ]
  },
  {
   "cell_type": "code",
   "execution_count": 231,
   "id": "2ae63449",
   "metadata": {
    "execution": {
     "iopub.execute_input": "2025-02-04T10:53:57.875043Z",
     "iopub.status.busy": "2025-02-04T10:53:57.874839Z",
     "iopub.status.idle": "2025-02-04T10:53:57.878461Z",
     "shell.execute_reply": "2025-02-04T10:53:57.878028Z"
    }
   },
   "outputs": [
    {
     "name": "stdout",
     "output_type": "stream",
     "text": [
      "(0/9) center: (364/0)\n",
      "(1/9) subjectID: (364/0)\n",
      "(2/9) uniqueID: (364/0)\n",
      "(3/9) dischargeFullNippleFeed: (364/0)\n",
      "(4/9) dischargeNEC: (364/0)\n",
      "(5/9) dischargeHepaticDysfunction: (364/0)\n",
      "(6/9) dischargeEnteralFeedStart_day: (337/27)\n",
      "(7/9) dischargeTubeFeedingDuration_day: (343/21)\n",
      "(8/9) dischargeFullNippleFeed_day: (237/127)\n"
     ]
    }
   ],
   "source": [
    "COMBINE_harmonizer.column_info(df_discharge_gastrointestinal)"
   ]
  },
  {
   "cell_type": "markdown",
   "id": "518f125a",
   "metadata": {},
   "source": [
    "## 04-09. Skin"
   ]
  },
  {
   "cell_type": "code",
   "execution_count": 232,
   "id": "629b3029",
   "metadata": {
    "execution": {
     "iopub.execute_input": "2025-02-04T10:53:57.880714Z",
     "iopub.status.busy": "2025-02-04T10:53:57.880551Z",
     "iopub.status.idle": "2025-02-04T10:53:57.884861Z",
     "shell.execute_reply": "2025-02-04T10:53:57.884445Z"
    }
   },
   "outputs": [
    {
     "data": {
      "text/plain": [
       "['dischargeAlteredSkinItegrityPostIntervention',\n",
       " 'dischargeErythema',\n",
       " 'dischargeErythemaOnsetDate',\n",
       " 'dischargeErythemaResolveDate',\n",
       " 'dischargeSclerema',\n",
       " 'dischargeScleremaOnsetDate',\n",
       " 'dischargeScleremaResolveDate',\n",
       " 'dischargeCyanosis',\n",
       " 'dischargeCyanosisOnsetDate',\n",
       " 'dischargeCyanosisResolveDate',\n",
       " 'dischargeSubFatNecrosis',\n",
       " 'dischargeSubFatNecrosisOnsetDate',\n",
       " 'dischargeSubFatNecrosisResolveDate']"
      ]
     },
     "execution_count": 232,
     "metadata": {},
     "output_type": "execute_result"
    }
   ],
   "source": [
    "discharge_skin_columns = COMBINE_harmonizer.get_columns(df_data_dict, 'NICU Discharge', 'Skin')\n",
    "all_discharge_skin_columns = id_columns + discharge_skin_columns\n",
    "discharge_skin_columns"
   ]
  },
  {
   "cell_type": "code",
   "execution_count": 233,
   "id": "c7011305",
   "metadata": {
    "execution": {
     "iopub.execute_input": "2025-02-04T10:53:57.886915Z",
     "iopub.status.busy": "2025-02-04T10:53:57.886744Z",
     "iopub.status.idle": "2025-02-04T10:53:57.957629Z",
     "shell.execute_reply": "2025-02-04T10:53:57.956911Z"
    }
   },
   "outputs": [],
   "source": [
    "df_discharge_skin = COMBINE_harmonizer.valid_columns(df_main, all_discharge_skin_columns, debug_df=False, debug_columns=True)\n",
    "df_discharge_skin = COMBINE_harmonizer.postprocess(df_discharge_skin)\n",
    "\n",
    "out_filename = os.sep.join([out_dir, '04-09-skin.csv'])\n",
    "df_discharge_skin.to_csv(out_filename, index=False)"
   ]
  },
  {
   "cell_type": "markdown",
   "id": "4124a78c",
   "metadata": {},
   "source": [
    "### 04-09-2. check empty cells"
   ]
  },
  {
   "cell_type": "code",
   "execution_count": 234,
   "id": "758522cc",
   "metadata": {
    "execution": {
     "iopub.execute_input": "2025-02-04T10:53:57.963169Z",
     "iopub.status.busy": "2025-02-04T10:53:57.962724Z",
     "iopub.status.idle": "2025-02-04T10:53:57.970117Z",
     "shell.execute_reply": "2025-02-04T10:53:57.969583Z"
    }
   },
   "outputs": [
    {
     "name": "stdout",
     "output_type": "stream",
     "text": [
      "(0/16) column: center (364 / 0)\n",
      "(1/16) column: subjectID (364 / 0)\n",
      "(2/16) column: uniqueID (364 / 0)\n",
      "(3/16) column: dischargeAlteredSkinItegrityPostIntervention (364 / 0)\n",
      "(4/16) column: dischargeErythema (28 / 336)\n",
      "(5/16) column: dischargeSclerema (28 / 336)\n",
      "(6/16) column: dischargeCyanosis (28 / 336)\n",
      "(7/16) column: dischargeSubFatNecrosis (28 / 336)\n",
      "(8/16) column: dischargeErythemaOnsetDate (13 / 351)\n",
      "(9/16) column: dischargeErythemaResolveDate (10 / 354)\n",
      "(10/16) column: dischargeScleremaOnsetDate (0 / 364)\n",
      "(11/16) column: dischargeScleremaResolveDate (0 / 364)\n",
      "(12/16) column: dischargeCyanosisOnsetDate (1 / 363)\n",
      "(13/16) column: dischargeCyanosisResolveDate (1 / 363)\n",
      "(14/16) column: dischargeSubFatNecrosisOnsetDate (15 / 349)\n",
      "(15/16) column: dischargeSubFatNecrosisResolveDate (8 / 356)\n"
     ]
    }
   ],
   "source": [
    "COMBINE_harmonizer.check_empty(df_discharge_skin)"
   ]
  },
  {
   "cell_type": "code",
   "execution_count": 235,
   "id": "1b24e623",
   "metadata": {
    "execution": {
     "iopub.execute_input": "2025-02-04T10:53:57.972826Z",
     "iopub.status.busy": "2025-02-04T10:53:57.972537Z",
     "iopub.status.idle": "2025-02-04T10:53:57.977536Z",
     "shell.execute_reply": "2025-02-04T10:53:57.977126Z"
    }
   },
   "outputs": [
    {
     "name": "stdout",
     "output_type": "stream",
     "text": [
      "(0/16) center: (364/0)\n",
      "(1/16) subjectID: (364/0)\n",
      "(2/16) uniqueID: (364/0)\n",
      "(3/16) dischargeAlteredSkinItegrityPostIntervention: (364/0)\n",
      "(4/16) dischargeErythema: (28/336)\n",
      "(5/16) dischargeSclerema: (28/336)\n",
      "(6/16) dischargeCyanosis: (28/336)\n",
      "(7/16) dischargeSubFatNecrosis: (28/336)\n",
      "(8/16) dischargeErythemaOnsetDate: (13/351)\n",
      "(9/16) dischargeErythemaResolveDate: (10/354)\n",
      "(10/16) dischargeScleremaOnsetDate: (0/364)\n",
      "(11/16) dischargeScleremaResolveDate: (0/364)\n",
      "(12/16) dischargeCyanosisOnsetDate: (1/363)\n",
      "(13/16) dischargeCyanosisResolveDate: (1/363)\n",
      "(14/16) dischargeSubFatNecrosisOnsetDate: (15/349)\n",
      "(15/16) dischargeSubFatNecrosisResolveDate: (8/356)\n"
     ]
    }
   ],
   "source": [
    "COMBINE_harmonizer.column_info(df_discharge_skin)"
   ]
  },
  {
   "cell_type": "markdown",
   "id": "3bce5600",
   "metadata": {},
   "source": [
    "## 04-10. Auditory"
   ]
  },
  {
   "cell_type": "code",
   "execution_count": 236,
   "id": "80956a0d",
   "metadata": {
    "execution": {
     "iopub.execute_input": "2025-02-04T10:53:57.979774Z",
     "iopub.status.busy": "2025-02-04T10:53:57.979570Z",
     "iopub.status.idle": "2025-02-04T10:53:57.983915Z",
     "shell.execute_reply": "2025-02-04T10:53:57.983548Z"
    }
   },
   "outputs": [
    {
     "data": {
      "text/plain": [
       "['dischargeHearingTest', 'dischargeHearingTestNormal']"
      ]
     },
     "execution_count": 236,
     "metadata": {},
     "output_type": "execute_result"
    }
   ],
   "source": [
    "discharge_auditory_columns = COMBINE_harmonizer.get_columns(df_data_dict, 'NICU Discharge', 'Auditory')\n",
    "all_discharge_auditory_columns = id_columns + discharge_auditory_columns\n",
    "discharge_auditory_columns"
   ]
  },
  {
   "cell_type": "code",
   "execution_count": 237,
   "id": "e13dde67",
   "metadata": {
    "execution": {
     "iopub.execute_input": "2025-02-04T10:53:57.985820Z",
     "iopub.status.busy": "2025-02-04T10:53:57.985648Z",
     "iopub.status.idle": "2025-02-04T10:53:58.053945Z",
     "shell.execute_reply": "2025-02-04T10:53:58.053352Z"
    }
   },
   "outputs": [],
   "source": [
    "df_discharge_auditory = COMBINE_harmonizer.valid_columns(df_main, all_discharge_auditory_columns, debug_df=False, debug_columns=True)\n",
    "df_discharge_auditory = COMBINE_harmonizer.postprocess(df_discharge_auditory)\n",
    "\n",
    "out_filename = os.sep.join([out_dir, '04-10-auditory.csv'])\n",
    "df_discharge_auditory.to_csv(out_filename, index=False)"
   ]
  },
  {
   "cell_type": "markdown",
   "id": "9a152a13",
   "metadata": {},
   "source": [
    "### 04-10-2. check empty cells"
   ]
  },
  {
   "cell_type": "code",
   "execution_count": 238,
   "id": "71fee79e",
   "metadata": {
    "execution": {
     "iopub.execute_input": "2025-02-04T10:53:58.057073Z",
     "iopub.status.busy": "2025-02-04T10:53:58.056840Z",
     "iopub.status.idle": "2025-02-04T10:53:58.061448Z",
     "shell.execute_reply": "2025-02-04T10:53:58.061020Z"
    }
   },
   "outputs": [
    {
     "name": "stdout",
     "output_type": "stream",
     "text": [
      "(0/5) column: center (364 / 0)\n",
      "(1/5) column: subjectID (364 / 0)\n",
      "(2/5) column: uniqueID (364 / 0)\n",
      "(3/5) column: dischargeHearingTest (364 / 0)\n",
      "(4/5) column: dischargeHearingTestNormal (290 / 74)\n"
     ]
    }
   ],
   "source": [
    "COMBINE_harmonizer.check_empty(df_discharge_auditory)"
   ]
  },
  {
   "cell_type": "code",
   "execution_count": 239,
   "id": "21b3720e",
   "metadata": {
    "execution": {
     "iopub.execute_input": "2025-02-04T10:53:58.063646Z",
     "iopub.status.busy": "2025-02-04T10:53:58.063427Z",
     "iopub.status.idle": "2025-02-04T10:53:58.066578Z",
     "shell.execute_reply": "2025-02-04T10:53:58.066188Z"
    }
   },
   "outputs": [
    {
     "name": "stdout",
     "output_type": "stream",
     "text": [
      "(0/5) center: (364/0)\n",
      "(1/5) subjectID: (364/0)\n",
      "(2/5) uniqueID: (364/0)\n",
      "(3/5) dischargeHearingTest: (364/0)\n",
      "(4/5) dischargeHearingTestNormal: (290/74)\n"
     ]
    }
   ],
   "source": [
    "COMBINE_harmonizer.column_info(df_discharge_auditory)"
   ]
  },
  {
   "cell_type": "markdown",
   "id": "922f17cb",
   "metadata": {},
   "source": [
    "## 04-11. Surgery"
   ]
  },
  {
   "cell_type": "code",
   "execution_count": 240,
   "id": "e427968f",
   "metadata": {
    "execution": {
     "iopub.execute_input": "2025-02-04T10:53:58.068609Z",
     "iopub.status.busy": "2025-02-04T10:53:58.068468Z",
     "iopub.status.idle": "2025-02-04T10:53:58.072628Z",
     "shell.execute_reply": "2025-02-04T10:53:58.072293Z"
    }
   },
   "outputs": [
    {
     "data": {
      "text/plain": [
       "['dischargeMajorSurgery',\n",
       " 'dischargeSurgeryCode1',\n",
       " 'dischargeSurgeryCode2',\n",
       " 'dischargeSurgeryCode3']"
      ]
     },
     "execution_count": 240,
     "metadata": {},
     "output_type": "execute_result"
    }
   ],
   "source": [
    "discharge_surgery_columns = COMBINE_harmonizer.get_columns(df_data_dict, 'NICU Discharge', 'Surgery')\n",
    "all_discharge_surgery_columns = id_columns + discharge_surgery_columns\n",
    "discharge_surgery_columns"
   ]
  },
  {
   "cell_type": "code",
   "execution_count": 241,
   "id": "f1fec6b6",
   "metadata": {
    "execution": {
     "iopub.execute_input": "2025-02-04T10:53:58.074291Z",
     "iopub.status.busy": "2025-02-04T10:53:58.074146Z",
     "iopub.status.idle": "2025-02-04T10:53:58.147776Z",
     "shell.execute_reply": "2025-02-04T10:53:58.147238Z"
    }
   },
   "outputs": [],
   "source": [
    "df_discharge_surgery = COMBINE_harmonizer.valid_columns(df_main, all_discharge_surgery_columns, debug_df=False, debug_columns=True)\n",
    "df_discharge_surgery = COMBINE_harmonizer.postprocess(df_discharge_surgery)\n",
    "\n",
    "out_filename = os.sep.join([out_dir, '04-11-surgery.csv'])\n",
    "df_discharge_surgery.to_csv(out_filename, index=False)"
   ]
  },
  {
   "cell_type": "markdown",
   "id": "144be843",
   "metadata": {},
   "source": [
    "### 04-11-2. check empty cells"
   ]
  },
  {
   "cell_type": "code",
   "execution_count": 242,
   "id": "e390824f",
   "metadata": {
    "execution": {
     "iopub.execute_input": "2025-02-04T10:53:58.150768Z",
     "iopub.status.busy": "2025-02-04T10:53:58.150519Z",
     "iopub.status.idle": "2025-02-04T10:53:58.155418Z",
     "shell.execute_reply": "2025-02-04T10:53:58.154942Z"
    }
   },
   "outputs": [
    {
     "name": "stdout",
     "output_type": "stream",
     "text": [
      "(0/7) column: center (364 / 0)\n",
      "(1/7) column: subjectID (364 / 0)\n",
      "(2/7) column: uniqueID (364 / 0)\n",
      "(3/7) column: dischargeMajorSurgery (364 / 0)\n",
      "(4/7) column: dischargeSurgeryCode1 (42 / 322)\n",
      "(5/7) column: dischargeSurgeryCode2 (12 / 352)\n",
      "(6/7) column: dischargeSurgeryCode3 (5 / 359)\n"
     ]
    }
   ],
   "source": [
    "COMBINE_harmonizer.check_empty(df_discharge_surgery)"
   ]
  },
  {
   "cell_type": "code",
   "execution_count": 243,
   "id": "01afe520",
   "metadata": {
    "execution": {
     "iopub.execute_input": "2025-02-04T10:53:58.158133Z",
     "iopub.status.busy": "2025-02-04T10:53:58.157895Z",
     "iopub.status.idle": "2025-02-04T10:53:58.161674Z",
     "shell.execute_reply": "2025-02-04T10:53:58.161245Z"
    }
   },
   "outputs": [
    {
     "name": "stdout",
     "output_type": "stream",
     "text": [
      "(0/7) center: (364/0)\n",
      "(1/7) subjectID: (364/0)\n",
      "(2/7) uniqueID: (364/0)\n",
      "(3/7) dischargeMajorSurgery: (364/0)\n",
      "(4/7) dischargeSurgeryCode1: (42/322)\n",
      "(5/7) dischargeSurgeryCode2: (12/352)\n",
      "(6/7) dischargeSurgeryCode3: (5/359)\n"
     ]
    }
   ],
   "source": [
    "COMBINE_harmonizer.column_info(df_discharge_surgery)"
   ]
  },
  {
   "cell_type": "markdown",
   "id": "fc80b430",
   "metadata": {},
   "source": [
    "## 04-12. Infection"
   ]
  },
  {
   "cell_type": "code",
   "execution_count": 244,
   "id": "5737a6f4",
   "metadata": {
    "execution": {
     "iopub.execute_input": "2025-02-04T10:53:58.163872Z",
     "iopub.status.busy": "2025-02-04T10:53:58.163706Z",
     "iopub.status.idle": "2025-02-04T10:53:58.168364Z",
     "shell.execute_reply": "2025-02-04T10:53:58.167922Z"
    }
   },
   "outputs": [
    {
     "data": {
      "text/plain": [
       "['dischargeSepticemia',\n",
       " 'dischargeSepticemiaOrganismCode1',\n",
       " 'dischargeSepticemiaOrganismCode2',\n",
       " 'dischargeSepticemiaOrganismCode3',\n",
       " 'dischargeMeningitisEncephalitis',\n",
       " 'dischargeMeningitisOrganismCode1',\n",
       " 'dischargeMeningitisOrganismCode2',\n",
       " 'dischargeMeningitisOrganismCode3']"
      ]
     },
     "execution_count": 244,
     "metadata": {},
     "output_type": "execute_result"
    }
   ],
   "source": [
    "discharge_infection_columns = COMBINE_harmonizer.get_columns(df_data_dict, 'NICU Discharge', 'Infection')\n",
    "all_discharge_infection_columns = id_columns + discharge_infection_columns\n",
    "discharge_infection_columns"
   ]
  },
  {
   "cell_type": "code",
   "execution_count": 245,
   "id": "57ce1085",
   "metadata": {
    "execution": {
     "iopub.execute_input": "2025-02-04T10:53:58.170363Z",
     "iopub.status.busy": "2025-02-04T10:53:58.170171Z",
     "iopub.status.idle": "2025-02-04T10:53:58.237499Z",
     "shell.execute_reply": "2025-02-04T10:53:58.236945Z"
    }
   },
   "outputs": [],
   "source": [
    "df_discharge_infection = COMBINE_harmonizer.valid_columns(df_main, all_discharge_infection_columns, debug_df=False, debug_columns=True)\n",
    "df_discharge_infection = COMBINE_harmonizer.postprocess(df_discharge_infection)\n",
    "\n",
    "out_filename = os.sep.join([out_dir, '04-12-infection.csv'])\n",
    "df_discharge_infection.to_csv(out_filename, index=False)"
   ]
  },
  {
   "cell_type": "markdown",
   "id": "662dabe9",
   "metadata": {},
   "source": [
    "### 04-12-2. check empty cells"
   ]
  },
  {
   "cell_type": "code",
   "execution_count": 246,
   "id": "2cdd55ca",
   "metadata": {
    "execution": {
     "iopub.execute_input": "2025-02-04T10:53:58.240599Z",
     "iopub.status.busy": "2025-02-04T10:53:58.240325Z",
     "iopub.status.idle": "2025-02-04T10:53:58.246256Z",
     "shell.execute_reply": "2025-02-04T10:53:58.245760Z"
    }
   },
   "outputs": [
    {
     "name": "stdout",
     "output_type": "stream",
     "text": [
      "(0/11) column: center (364 / 0)\n",
      "(1/11) column: subjectID (364 / 0)\n",
      "(2/11) column: uniqueID (364 / 0)\n",
      "(3/11) column: dischargeSepticemia (364 / 0)\n",
      "(4/11) column: dischargeMeningitisEncephalitis (364 / 0)\n",
      "(5/11) column: dischargeSepticemiaOrganismCode1 (13 / 351)\n",
      "(6/11) column: dischargeSepticemiaOrganismCode2 (1 / 363)\n",
      "(7/11) column: dischargeSepticemiaOrganismCode3 (0 / 364)\n",
      "(8/11) column: dischargeMeningitisOrganismCode1 (0 / 364)\n",
      "(9/11) column: dischargeMeningitisOrganismCode2 (0 / 364)\n",
      "(10/11) column: dischargeMeningitisOrganismCode3 (0 / 364)\n"
     ]
    }
   ],
   "source": [
    "COMBINE_harmonizer.check_empty(df_discharge_infection)"
   ]
  },
  {
   "cell_type": "code",
   "execution_count": 247,
   "id": "327b2bd2",
   "metadata": {
    "execution": {
     "iopub.execute_input": "2025-02-04T10:53:58.248629Z",
     "iopub.status.busy": "2025-02-04T10:53:58.248418Z",
     "iopub.status.idle": "2025-02-04T10:53:58.252180Z",
     "shell.execute_reply": "2025-02-04T10:53:58.251757Z"
    }
   },
   "outputs": [
    {
     "name": "stdout",
     "output_type": "stream",
     "text": [
      "(0/11) center: (364/0)\n",
      "(1/11) subjectID: (364/0)\n",
      "(2/11) uniqueID: (364/0)\n",
      "(3/11) dischargeSepticemia: (364/0)\n",
      "(4/11) dischargeMeningitisEncephalitis: (364/0)\n",
      "(5/11) dischargeSepticemiaOrganismCode1: (13/351)\n",
      "(6/11) dischargeSepticemiaOrganismCode2: (1/363)\n",
      "(7/11) dischargeSepticemiaOrganismCode3: (0/364)\n",
      "(8/11) dischargeMeningitisOrganismCode1: (0/364)\n",
      "(9/11) dischargeMeningitisOrganismCode2: (0/364)\n",
      "(10/11) dischargeMeningitisOrganismCode3: (0/364)\n"
     ]
    }
   ],
   "source": [
    "COMBINE_harmonizer.column_info(df_discharge_infection)"
   ]
  },
  {
   "cell_type": "markdown",
   "id": "630cc840",
   "metadata": {},
   "source": [
    "## 04-13. Seizure"
   ]
  },
  {
   "cell_type": "code",
   "execution_count": 248,
   "id": "ac324892",
   "metadata": {
    "execution": {
     "iopub.execute_input": "2025-02-04T10:53:58.254381Z",
     "iopub.status.busy": "2025-02-04T10:53:58.254226Z",
     "iopub.status.idle": "2025-02-04T10:53:58.258600Z",
     "shell.execute_reply": "2025-02-04T10:53:58.258237Z"
    }
   },
   "outputs": [
    {
     "data": {
      "text/plain": [
       "['dischargeSeizure',\n",
       " 'dischargeSeizurePreIntervention',\n",
       " 'dischargeSeizureAfterBaseline',\n",
       " 'dischargeSeizureMaintenance',\n",
       " 'dischargeSeizureRewarming',\n",
       " 'dischargeSeizurePostIntervention',\n",
       " 'dischargeEEG',\n",
       " 'dischargeEEGFindingConsistentWithSeizure',\n",
       " 'dischargeEEGFindingConsistentWithSeizureDate',\n",
       " 'dischargeEEGFindingConsistentWithSeizureTime',\n",
       " 'dischargeEEGAbnormalBackgroundActivity',\n",
       " 'dischargeEEGAbnormalBackgroundActivityDate',\n",
       " 'dischargeEEGAbnormalBackgroundActivityTime',\n",
       " 'dischargeAnticonvulsantsOver72H']"
      ]
     },
     "execution_count": 248,
     "metadata": {},
     "output_type": "execute_result"
    }
   ],
   "source": [
    "discharge_neuro_columns = COMBINE_harmonizer.get_columns(df_data_dict, 'NICU Discharge', 'Seizure')\n",
    "all_discharge_neuro_columns = id_columns + discharge_neuro_columns\n",
    "discharge_neuro_columns"
   ]
  },
  {
   "cell_type": "code",
   "execution_count": 249,
   "id": "636c5a36",
   "metadata": {
    "execution": {
     "iopub.execute_input": "2025-02-04T10:53:58.260493Z",
     "iopub.status.busy": "2025-02-04T10:53:58.260314Z",
     "iopub.status.idle": "2025-02-04T10:53:58.334154Z",
     "shell.execute_reply": "2025-02-04T10:53:58.333613Z"
    }
   },
   "outputs": [],
   "source": [
    "df_discharge_neuro = COMBINE_harmonizer.valid_columns(df_main, all_discharge_neuro_columns, debug_df=False, debug_columns=True)\n",
    "df_discharge_neuro = COMBINE_harmonizer.postprocess(df_discharge_neuro)\n",
    "\n",
    "out_filename = os.sep.join([out_dir, '04-13-seizure.csv'])\n",
    "df_discharge_neuro.to_csv(out_filename, index=False)"
   ]
  },
  {
   "cell_type": "markdown",
   "id": "0f986048",
   "metadata": {},
   "source": [
    "### 04-13-2. check empty cells"
   ]
  },
  {
   "cell_type": "code",
   "execution_count": 250,
   "id": "24c27cb5",
   "metadata": {
    "execution": {
     "iopub.execute_input": "2025-02-04T10:53:58.336935Z",
     "iopub.status.busy": "2025-02-04T10:53:58.336685Z",
     "iopub.status.idle": "2025-02-04T10:53:58.343684Z",
     "shell.execute_reply": "2025-02-04T10:53:58.343218Z"
    }
   },
   "outputs": [
    {
     "name": "stdout",
     "output_type": "stream",
     "text": [
      "(0/17) column: center (364 / 0)\n",
      "(1/17) column: subjectID (364 / 0)\n",
      "(2/17) column: uniqueID (364 / 0)\n",
      "(3/17) column: dischargeSeizure (364 / 0)\n",
      "(4/17) column: dischargeSeizurePreIntervention (177 / 187)\n",
      "(5/17) column: dischargeSeizureAfterBaseline (177 / 187)\n",
      "(6/17) column: dischargeSeizureMaintenance (177 / 187)\n",
      "(7/17) column: dischargeSeizureRewarming (177 / 187)\n",
      "(8/17) column: dischargeSeizurePostIntervention (177 / 187)\n",
      "(9/17) column: dischargeEEG (364 / 0)\n",
      "(10/17) column: dischargeEEGFindingConsistentWithSeizure (263 / 101)\n",
      "(11/17) column: dischargeEEGAbnormalBackgroundActivity (285 / 79)\n",
      "(12/17) column: dischargeAnticonvulsantsOver72H (364 / 0)\n",
      "(13/17) column: dischargeEEGFindingConsistentWithSeizureDate (73 / 291)\n",
      "(14/17) column: dischargeEEGFindingConsistentWithSeizureTime (62 / 302)\n",
      "(15/17) column: dischargeEEGAbnormalBackgroundActivityDate (186 / 178)\n",
      "(16/17) column: dischargeEEGAbnormalBackgroundActivityTime (161 / 203)\n"
     ]
    }
   ],
   "source": [
    "COMBINE_harmonizer.check_empty(df_discharge_neuro)"
   ]
  },
  {
   "cell_type": "code",
   "execution_count": 251,
   "id": "5a2f66fa",
   "metadata": {
    "execution": {
     "iopub.execute_input": "2025-02-04T10:53:58.346457Z",
     "iopub.status.busy": "2025-02-04T10:53:58.346175Z",
     "iopub.status.idle": "2025-02-04T10:53:58.351064Z",
     "shell.execute_reply": "2025-02-04T10:53:58.350660Z"
    }
   },
   "outputs": [
    {
     "name": "stdout",
     "output_type": "stream",
     "text": [
      "(0/17) center: (364/0)\n",
      "(1/17) subjectID: (364/0)\n",
      "(2/17) uniqueID: (364/0)\n",
      "(3/17) dischargeSeizure: (364/0)\n",
      "(4/17) dischargeSeizurePreIntervention: (177/187)\n",
      "(5/17) dischargeSeizureAfterBaseline: (177/187)\n",
      "(6/17) dischargeSeizureMaintenance: (177/187)\n",
      "(7/17) dischargeSeizureRewarming: (177/187)\n",
      "(8/17) dischargeSeizurePostIntervention: (177/187)\n",
      "(9/17) dischargeEEG: (364/0)\n",
      "(10/17) dischargeEEGFindingConsistentWithSeizure: (263/101)\n",
      "(11/17) dischargeEEGAbnormalBackgroundActivity: (285/79)\n",
      "(12/17) dischargeAnticonvulsantsOver72H: (364/0)\n",
      "(13/17) dischargeEEGFindingConsistentWithSeizureDate: (73/291)\n",
      "(14/17) dischargeEEGFindingConsistentWithSeizureTime: (62/302)\n",
      "(15/17) dischargeEEGAbnormalBackgroundActivityDate: (186/178)\n",
      "(16/17) dischargeEEGAbnormalBackgroundActivityTime: (161/203)\n"
     ]
    }
   ],
   "source": [
    "COMBINE_harmonizer.column_info(df_discharge_neuro)"
   ]
  },
  {
   "cell_type": "markdown",
   "id": "0dd785ac",
   "metadata": {},
   "source": [
    "## 04-14. Birth Defect"
   ]
  },
  {
   "cell_type": "code",
   "execution_count": 252,
   "id": "5e6fe73b",
   "metadata": {
    "execution": {
     "iopub.execute_input": "2025-02-04T10:53:58.353420Z",
     "iopub.status.busy": "2025-02-04T10:53:58.353210Z",
     "iopub.status.idle": "2025-02-04T10:53:58.357709Z",
     "shell.execute_reply": "2025-02-04T10:53:58.357345Z"
    }
   },
   "outputs": [
    {
     "data": {
      "text/plain": [
       "['dischargeSyndromeMalformation',\n",
       " 'dischargeBirthDefectCode1',\n",
       " 'dischargeBirthDefectCode2',\n",
       " 'dischargeBirthDefectCode3']"
      ]
     },
     "execution_count": 252,
     "metadata": {},
     "output_type": "execute_result"
    }
   ],
   "source": [
    "discharge_birth_defect_columns = COMBINE_harmonizer.get_columns(df_data_dict, 'NICU Discharge', 'Birth Defect')\n",
    "all_discharge_birth_defect_columns = id_columns + discharge_birth_defect_columns\n",
    "discharge_birth_defect_columns"
   ]
  },
  {
   "cell_type": "code",
   "execution_count": 253,
   "id": "08a31a52",
   "metadata": {
    "execution": {
     "iopub.execute_input": "2025-02-04T10:53:58.359638Z",
     "iopub.status.busy": "2025-02-04T10:53:58.359458Z",
     "iopub.status.idle": "2025-02-04T10:53:58.433040Z",
     "shell.execute_reply": "2025-02-04T10:53:58.432490Z"
    }
   },
   "outputs": [],
   "source": [
    "df_discharge_birth_defect = COMBINE_harmonizer.valid_columns(df_main, all_discharge_birth_defect_columns, debug_df=False, debug_columns=True)\n",
    "df_discharge_birth_defect = COMBINE_harmonizer.postprocess(df_discharge_birth_defect)\n",
    "\n",
    "out_filename = os.sep.join([out_dir, '04-14-birth-defect.csv'])\n",
    "df_discharge_birth_defect.to_csv(out_filename, index=False)"
   ]
  },
  {
   "cell_type": "markdown",
   "id": "795840b9",
   "metadata": {},
   "source": [
    "### 04-14-2. check empty cells"
   ]
  },
  {
   "cell_type": "code",
   "execution_count": 254,
   "id": "b6a78995",
   "metadata": {
    "execution": {
     "iopub.execute_input": "2025-02-04T10:53:58.436121Z",
     "iopub.status.busy": "2025-02-04T10:53:58.435853Z",
     "iopub.status.idle": "2025-02-04T10:53:58.440855Z",
     "shell.execute_reply": "2025-02-04T10:53:58.440349Z"
    }
   },
   "outputs": [
    {
     "name": "stdout",
     "output_type": "stream",
     "text": [
      "(0/7) column: center (364 / 0)\n",
      "(1/7) column: subjectID (364 / 0)\n",
      "(2/7) column: uniqueID (364 / 0)\n",
      "(3/7) column: dischargeSyndromeMalformation (364 / 0)\n",
      "(4/7) column: dischargeBirthDefectCode1 (11 / 353)\n",
      "(5/7) column: dischargeBirthDefectCode2 (1 / 363)\n",
      "(6/7) column: dischargeBirthDefectCode3 (0 / 364)\n"
     ]
    }
   ],
   "source": [
    "COMBINE_harmonizer.check_empty(df_discharge_birth_defect)"
   ]
  },
  {
   "cell_type": "code",
   "execution_count": 255,
   "id": "ea8037f8",
   "metadata": {
    "execution": {
     "iopub.execute_input": "2025-02-04T10:53:58.443350Z",
     "iopub.status.busy": "2025-02-04T10:53:58.443097Z",
     "iopub.status.idle": "2025-02-04T10:53:58.446623Z",
     "shell.execute_reply": "2025-02-04T10:53:58.446211Z"
    }
   },
   "outputs": [
    {
     "name": "stdout",
     "output_type": "stream",
     "text": [
      "(0/7) center: (364/0)\n",
      "(1/7) subjectID: (364/0)\n",
      "(2/7) uniqueID: (364/0)\n",
      "(3/7) dischargeSyndromeMalformation: (364/0)\n",
      "(4/7) dischargeBirthDefectCode1: (11/353)\n",
      "(5/7) dischargeBirthDefectCode2: (1/363)\n",
      "(6/7) dischargeBirthDefectCode3: (0/364)\n"
     ]
    }
   ],
   "source": [
    "COMBINE_harmonizer.column_info(df_discharge_birth_defect)"
   ]
  },
  {
   "cell_type": "markdown",
   "id": "18bd910a",
   "metadata": {},
   "source": [
    "## 04-15. Home Therapy"
   ]
  },
  {
   "cell_type": "code",
   "execution_count": 256,
   "id": "9d76983d",
   "metadata": {
    "execution": {
     "iopub.execute_input": "2025-02-04T10:53:58.448968Z",
     "iopub.status.busy": "2025-02-04T10:53:58.448802Z",
     "iopub.status.idle": "2025-02-04T10:53:58.453495Z",
     "shell.execute_reply": "2025-02-04T10:53:58.453063Z"
    }
   },
   "outputs": [
    {
     "data": {
      "text/plain": [
       "['dischargeHomeTherapy',\n",
       " 'dischargeHomeTherapyVentilator',\n",
       " 'dischargeHomeTherapyOxygen',\n",
       " 'dischargeHomeTherapyGavageTubeFeed',\n",
       " 'dischargeHomeTherapyGastrostomyTubeFeed',\n",
       " 'dischargeHomeTherapyTemperatureBlanket',\n",
       " 'dischargeHomeTherapyAnticonvulsantMedication',\n",
       " 'dischargeHomeTherapyOther',\n",
       " 'dischargeHomeTherapyOtherText']"
      ]
     },
     "execution_count": 256,
     "metadata": {},
     "output_type": "execute_result"
    }
   ],
   "source": [
    "discharge_home_therapy_columns = COMBINE_harmonizer.get_columns(df_data_dict, 'NICU Discharge', 'Home Therapy')\n",
    "all_discharge_home_therapy_columns = id_columns + discharge_home_therapy_columns\n",
    "discharge_home_therapy_columns"
   ]
  },
  {
   "cell_type": "code",
   "execution_count": 257,
   "id": "d42746e3",
   "metadata": {
    "execution": {
     "iopub.execute_input": "2025-02-04T10:53:58.455572Z",
     "iopub.status.busy": "2025-02-04T10:53:58.455407Z",
     "iopub.status.idle": "2025-02-04T10:53:58.525454Z",
     "shell.execute_reply": "2025-02-04T10:53:58.524890Z"
    }
   },
   "outputs": [],
   "source": [
    "df_discharge_home_therapy = COMBINE_harmonizer.valid_columns(df_main, all_discharge_home_therapy_columns, debug_df=False, debug_columns=True)\n",
    "df_discharge_home_therapy = COMBINE_harmonizer.postprocess(df_discharge_home_therapy)\n",
    "\n",
    "out_filename = os.sep.join([out_dir, '04-15-home-therapy.csv'])\n",
    "df_discharge_home_therapy.to_csv(out_filename, index=False)"
   ]
  },
  {
   "cell_type": "markdown",
   "id": "36ff3542",
   "metadata": {},
   "source": [
    "### 04-15-2. check empty cells"
   ]
  },
  {
   "cell_type": "code",
   "execution_count": 258,
   "id": "d57ce9d9",
   "metadata": {
    "execution": {
     "iopub.execute_input": "2025-02-04T10:53:58.528052Z",
     "iopub.status.busy": "2025-02-04T10:53:58.527831Z",
     "iopub.status.idle": "2025-02-04T10:53:58.532678Z",
     "shell.execute_reply": "2025-02-04T10:53:58.532320Z"
    }
   },
   "outputs": [
    {
     "name": "stdout",
     "output_type": "stream",
     "text": [
      "(0/12) column: center (364 / 0)\n",
      "(1/12) column: subjectID (364 / 0)\n",
      "(2/12) column: uniqueID (364 / 0)\n",
      "(3/12) column: dischargeHomeTherapy (314 / 50)\n",
      "(4/12) column: dischargeHomeTherapyVentilator (118 / 246)\n",
      "(5/12) column: dischargeHomeTherapyOxygen (118 / 246)\n",
      "(6/12) column: dischargeHomeTherapyGavageTubeFeed (118 / 246)\n",
      "(7/12) column: dischargeHomeTherapyGastrostomyTubeFeed (118 / 246)\n",
      "(8/12) column: dischargeHomeTherapyTemperatureBlanket (118 / 246)\n",
      "(9/12) column: dischargeHomeTherapyAnticonvulsantMedication (118 / 246)\n",
      "(10/12) column: dischargeHomeTherapyOther (118 / 246)\n",
      "(11/12) column: dischargeHomeTherapyOtherText (36 / 328)\n"
     ]
    }
   ],
   "source": [
    "COMBINE_harmonizer.check_empty(df_discharge_home_therapy)"
   ]
  },
  {
   "cell_type": "code",
   "execution_count": 259,
   "id": "05adb545",
   "metadata": {
    "execution": {
     "iopub.execute_input": "2025-02-04T10:53:58.534685Z",
     "iopub.status.busy": "2025-02-04T10:53:58.534506Z",
     "iopub.status.idle": "2025-02-04T10:53:58.538080Z",
     "shell.execute_reply": "2025-02-04T10:53:58.537724Z"
    }
   },
   "outputs": [
    {
     "name": "stdout",
     "output_type": "stream",
     "text": [
      "(0/12) center: (364/0)\n",
      "(1/12) subjectID: (364/0)\n",
      "(2/12) uniqueID: (364/0)\n",
      "(3/12) dischargeHomeTherapy: (314/50)\n",
      "(4/12) dischargeHomeTherapyVentilator: (118/246)\n",
      "(5/12) dischargeHomeTherapyOxygen: (118/246)\n",
      "(6/12) dischargeHomeTherapyGavageTubeFeed: (118/246)\n",
      "(7/12) dischargeHomeTherapyGastrostomyTubeFeed: (118/246)\n",
      "(8/12) dischargeHomeTherapyTemperatureBlanket: (118/246)\n",
      "(9/12) dischargeHomeTherapyAnticonvulsantMedication: (118/246)\n",
      "(10/12) dischargeHomeTherapyOther: (118/246)\n",
      "(11/12) dischargeHomeTherapyOtherText: (36/328)\n"
     ]
    }
   ],
   "source": [
    "COMBINE_harmonizer.column_info(df_discharge_home_therapy)"
   ]
  }
 ],
 "metadata": {
  "kernelspec": {
   "display_name": ".venv",
   "language": "python",
   "name": "python3"
  },
  "language_info": {
   "codemirror_mode": {
    "name": "ipython",
    "version": 3
   },
   "file_extension": ".py",
   "mimetype": "text/x-python",
   "name": "python",
   "nbconvert_exporter": "python",
   "pygments_lexer": "ipython3",
   "version": "3.13.0"
  }
 },
 "nbformat": 4,
 "nbformat_minor": 5
}
