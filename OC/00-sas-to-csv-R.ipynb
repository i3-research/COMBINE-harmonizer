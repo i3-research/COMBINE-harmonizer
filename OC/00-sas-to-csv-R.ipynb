{
 "cells": [
  {
   "cell_type": "code",
   "execution_count": 1,
   "id": "4b1e7800-2e93-47f0-a649-7bef96a8ea3e",
   "metadata": {
    "execution": {
     "iopub.execute_input": "2025-05-10T00:13:23.327975Z",
     "iopub.status.busy": "2025-05-10T00:13:23.327039Z",
     "iopub.status.idle": "2025-05-10T00:13:23.422482Z",
     "shell.execute_reply": "2025-05-10T00:13:23.421686Z"
    },
    "tags": [],
    "vscode": {
     "languageId": "r"
    }
   },
   "outputs": [],
   "source": [
    "library(haven)\n",
    "library(yaml)"
   ]
  },
  {
   "cell_type": "markdown",
   "id": "1a56039a-8abf-40e5-afa8-7badafcaf45f",
   "metadata": {},
   "source": [
    "## 00. Read cfg"
   ]
  },
  {
   "cell_type": "code",
   "execution_count": 2,
   "id": "e4c6c70f-0384-4bde-acfd-050f7cf9ba13",
   "metadata": {
    "execution": {
     "iopub.execute_input": "2025-05-10T00:13:23.434060Z",
     "iopub.status.busy": "2025-05-10T00:13:23.424330Z",
     "iopub.status.idle": "2025-05-10T00:13:23.442271Z",
     "shell.execute_reply": "2025-05-10T00:13:23.441658Z"
    },
    "tags": [],
    "vscode": {
     "languageId": "r"
    }
   },
   "outputs": [],
   "source": [
    "cfg_filename <- c(\"../config.yaml\")\n",
    "cfg <- read_yaml(cfg_filename)"
   ]
  },
  {
   "cell_type": "markdown",
   "id": "a2a40d3a",
   "metadata": {},
   "source": [
    "## 01. sas_to_csv"
   ]
  },
  {
   "cell_type": "code",
   "execution_count": 3,
   "id": "47ad38c7",
   "metadata": {
    "execution": {
     "iopub.execute_input": "2025-05-10T00:13:23.444385Z",
     "iopub.status.busy": "2025-05-10T00:13:23.443931Z",
     "iopub.status.idle": "2025-05-10T00:13:23.448635Z",
     "shell.execute_reply": "2025-05-10T00:13:23.448060Z"
    },
    "vscode": {
     "languageId": "r"
    }
   },
   "outputs": [],
   "source": [
    "sas_to_csv <- function(sas_dir, csv_dir) {\n",
    "    filenames <- list.files(sas_dir, pattern = \"*.sas7bdat\")\n",
    "\n",
    "    if (!dir.exists(csv_dir)) {\n",
    "        dir.create(csv_dir, recursive = TRUE)\n",
    "    }\n",
    "\n",
    "    for (filename in filenames) {\n",
    "        full_filename <- file.path(sas_dir, filename)\n",
    "        df <- haven::read_sas(full_filename)\n",
    "\n",
    "        # XXX hack for possible '_' in the filename.\n",
    "        out_filename <- gsub(\"_\", \"\", gsub(\"\\\\.sas7bdat$\", \".csv\", filename))\n",
    "        full_out_filename <- file.path(csv_dir, out_filename)\n",
    "        print(paste(\"out_filename:\", out_filename))\n",
    "        write.csv(df, full_out_filename, row.names = FALSE, na = \"\")\n",
    "    }\n",
    "}"
   ]
  },
  {
   "cell_type": "markdown",
   "id": "193837d2",
   "metadata": {},
   "source": [
    "## 02. OC Clinical Data"
   ]
  },
  {
   "cell_type": "code",
   "execution_count": 4,
   "id": "73f4527c-8a73-438a-8a71-31ff72e7265a",
   "metadata": {
    "execution": {
     "iopub.execute_input": "2025-05-10T00:13:23.450598Z",
     "iopub.status.busy": "2025-05-10T00:13:23.450146Z",
     "iopub.status.idle": "2025-05-10T00:13:31.322870Z",
     "shell.execute_reply": "2025-05-10T00:13:31.321499Z"
    },
    "tags": [],
    "vscode": {
     "languageId": "r"
    }
   },
   "outputs": [
    {
     "name": "stdout",
     "output_type": "stream",
     "text": [
      "[1] \"out_filename: oc01.csv\"\n",
      "[1] \"out_filename: oc02.csv\"\n",
      "[1] \"out_filename: oc04.csv\"\n",
      "[1] \"out_filename: oc05.csv\"\n",
      "[1] \"out_filename: oc06d.csv\"\n",
      "[1] \"out_filename: oc06t.csv\"\n",
      "[1] \"out_filename: oc06t120.csv\"\n",
      "[1] \"out_filename: oc06t72.csv\"\n",
      "[1] \"out_filename: oc07.csv\"\n",
      "[1] \"out_filename: oc08.csv\"\n",
      "[1] \"out_filename: oc09.csv\"\n",
      "[1] \"out_filename: oc09i.csv\"\n",
      "[1] \"out_filename: oc10.csv\"\n",
      "[1] \"out_filename: oc11.csv\"\n",
      "[1] \"out_filename: oc12.csv\"\n",
      "[1] \"out_filename: oc13.csv\"\n",
      "[1] \"out_filename: oc14.csv\"\n",
      "[1] \"out_filename: oc15.csv\"\n",
      "[1] \"out_filename: oc17.csv\"\n",
      "[1] \"out_filename: ocmr01.csv\"\n",
      "[1] \"out_filename: ocmr02.csv\"\n",
      "[1] \"out_filename: ocmr03b.csv\"\n",
      "[1] \"out_filename: ocmr03.csv\"\n"
     ]
    }
   ],
   "source": [
    "out_dir <- file.path(cfg$out_dir, \"csv\", \"OC\", \"ClinicalData\")\n",
    "sas_to_csv(cfg$OC_sas_dir, out_dir)"
   ]
  },
  {
   "cell_type": "markdown",
   "id": "e473b112",
   "metadata": {},
   "source": [
    "## 03. OC FollowUp"
   ]
  },
  {
   "cell_type": "code",
   "execution_count": 5,
   "id": "fa70e0e2-c3a8-48d0-a5b4-ad24b7d8d971",
   "metadata": {
    "execution": {
     "iopub.execute_input": "2025-05-10T00:13:31.326883Z",
     "iopub.status.busy": "2025-05-10T00:13:31.325961Z",
     "iopub.status.idle": "2025-05-10T00:13:33.592653Z",
     "shell.execute_reply": "2025-05-10T00:13:33.591711Z"
    },
    "vscode": {
     "languageId": "r"
    }
   },
   "outputs": [
    {
     "name": "stdout",
     "output_type": "stream",
     "text": [
      "[1] \"out_filename: of01.csv\"\n",
      "[1] \"out_filename: of03.csv\"\n",
      "[1] \"out_filename: of04.csv\"\n",
      "[1] \"out_filename: of04a.csv\"\n",
      "[1] \"out_filename: of04ar.csv\"\n",
      "[1] \"out_filename: of05.csv\"\n",
      "[1] \"out_filename: of09a.csv\"\n",
      "[1] \"out_filename: of10.csv\"\n",
      "[1] \"out_filename: of11.csv\"\n",
      "[1] \"out_filename: of12.csv\"\n"
     ]
    }
   ],
   "source": [
    "out_dir <- file.path(cfg$out_dir, \"csv\", \"OC\", \"FollowUp\")\n",
    "sas_to_csv(cfg$OC_follow_up_sas_dir, out_dir)"
   ]
  },
  {
   "cell_type": "markdown",
   "id": "7a90a7db",
   "metadata": {},
   "source": [
    "## 04. OC Analysis"
   ]
  },
  {
   "cell_type": "code",
   "execution_count": 6,
   "id": "ca4ef867-a9e8-4650-b0bd-c545ad7cc2b8",
   "metadata": {
    "execution": {
     "iopub.execute_input": "2025-05-10T00:13:33.595680Z",
     "iopub.status.busy": "2025-05-10T00:13:33.595068Z",
     "iopub.status.idle": "2025-05-10T00:13:33.963821Z",
     "shell.execute_reply": "2025-05-10T00:13:33.961967Z"
    },
    "tags": [],
    "vscode": {
     "languageId": "r"
    }
   },
   "outputs": [
    {
     "name": "stdout",
     "output_type": "stream",
     "text": [
      "[1] \"out_filename: ocout.csv\"\n"
     ]
    }
   ],
   "source": [
    "out_dir <- file.path(cfg$out_dir, \"csv\", \"OC\", \"Analysis\")\n",
    "sas_to_csv(cfg$OC_analysis_sas_dir, out_dir)"
   ]
  },
  {
   "cell_type": "code",
   "execution_count": 7,
   "id": "084efb46-9dd1-4ba4-ac82-f31ce8d4f8ce",
   "metadata": {
    "execution": {
     "iopub.execute_input": "2025-05-10T00:13:33.968959Z",
     "iopub.status.busy": "2025-05-10T00:13:33.967545Z",
     "iopub.status.idle": "2025-05-10T00:13:33.990809Z",
     "shell.execute_reply": "2025-05-10T00:13:33.989593Z"
    },
    "vscode": {
     "languageId": "r"
    }
   },
   "outputs": [],
   "source": [
    "# XXX ensure analysis.csv\n",
    "expected_filename <- file.path(cfg$out_dir, \"csv\", \"OC\", \"Analysis\", \"analysis.csv\")\n",
    "if (!file.exists(expected_filename)) {\n",
    "    ocout_filename <- file.path(cfg$out_dir, \"csv\", \"OC\", \"Analysis\", \"ocout.csv\")\n",
    "    file.rename(ocout_filename, expected_filename)\n",
    "}"
   ]
  },
  {
   "cell_type": "code",
   "execution_count": null,
   "id": "b38993bf",
   "metadata": {
    "vscode": {
     "languageId": "r"
    }
   },
   "outputs": [],
   "source": []
  }
 ],
 "metadata": {
  "kernelspec": {
   "display_name": "R",
   "language": "R",
   "name": "ir"
  },
  "language_info": {
   "codemirror_mode": "r",
   "file_extension": ".r",
   "mimetype": "text/x-r-source",
   "name": "R",
   "pygments_lexer": "r",
   "version": "4.4.2"
  }
 },
 "nbformat": 4,
 "nbformat_minor": 5
}
