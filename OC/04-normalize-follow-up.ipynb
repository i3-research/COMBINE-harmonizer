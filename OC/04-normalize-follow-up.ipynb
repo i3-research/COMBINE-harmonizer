{
 "cells": [
  {
   "cell_type": "code",
   "execution_count": 1,
   "id": "b489f506-fad1-426c-8c20-01483f08535c",
   "metadata": {
    "execution": {
     "iopub.execute_input": "2025-05-05T19:36:38.130639Z",
     "iopub.status.busy": "2025-05-05T19:36:38.130078Z",
     "iopub.status.idle": "2025-05-05T19:36:39.224333Z",
     "shell.execute_reply": "2025-05-05T19:36:39.224019Z"
    }
   },
   "outputs": [],
   "source": [
    "import pandas as pd\n",
    "pd.options.mode.copy_on_write = True\n",
    "import warnings\n",
    "warnings.simplefilter(action='ignore', category=pd.errors.PerformanceWarning)\n",
    "\n",
    "import os\n",
    "import re\n",
    "import pydoc\n",
    "\n",
    "import COMBINE_harmonizer\n",
    "from COMBINE_harmonizer import cfg"
   ]
  },
  {
   "cell_type": "markdown",
   "id": "d4fd686c-7c99-4fca-b7d1-8bb141cd477a",
   "metadata": {},
   "source": [
    "## 00-0. Variables"
   ]
  },
  {
   "cell_type": "code",
   "execution_count": 2,
   "id": "3656b37c-be73-4991-b22d-76138a285cef",
   "metadata": {
    "execution": {
     "iopub.execute_input": "2025-05-05T19:36:39.225944Z",
     "iopub.status.busy": "2025-05-05T19:36:39.225804Z",
     "iopub.status.idle": "2025-05-05T19:36:39.227560Z",
     "shell.execute_reply": "2025-05-05T19:36:39.227341Z"
    }
   },
   "outputs": [],
   "source": [
    "study_name = COMBINE_harmonizer.STUDY_OC\n",
    "sheet_name = COMBINE_harmonizer.SHEET_FOLLOW_UP\n",
    "\n",
    "root_dir = '..'"
   ]
  },
  {
   "cell_type": "code",
   "execution_count": 3,
   "id": "70bb1a31",
   "metadata": {
    "execution": {
     "iopub.execute_input": "2025-05-05T19:36:39.228684Z",
     "iopub.status.busy": "2025-05-05T19:36:39.228612Z",
     "iopub.status.idle": "2025-05-05T19:36:39.231798Z",
     "shell.execute_reply": "2025-05-05T19:36:39.231585Z"
    }
   },
   "outputs": [],
   "source": [
    "COMBINE_harmonizer.init(f'{root_dir}/config.yaml')\n"
   ]
  },
  {
   "cell_type": "code",
   "execution_count": 4,
   "id": "e6a7f20c",
   "metadata": {
    "execution": {
     "iopub.execute_input": "2025-05-05T19:36:39.232945Z",
     "iopub.status.busy": "2025-05-05T19:36:39.232871Z",
     "iopub.status.idle": "2025-05-05T19:36:39.234566Z",
     "shell.execute_reply": "2025-05-05T19:36:39.234354Z"
    }
   },
   "outputs": [],
   "source": [
    "_FILENAMES = [\n",
    "    'of01.csv',\n",
    "    'of03.csv',\n",
    "    'of04.csv',\n",
    "    'of04a.csv',\n",
    "    'of04ar.csv',\n",
    "    'of05.csv',\n",
    "    'of09a.csv',\n",
    "    'of10.csv',\n",
    "    'of11.csv',\n",
    "    'of12.csv',\n",
    "]\n",
    "\n",
    "_ANALYSIS_FILENAME = 'analysis.csv'\n",
    "\n",
    "_ANALYSIS_FILENAMES = [\n",
    "    'analysis.csv',\n",
    "]\n",
    "\n",
    "_FILENAMES_MERGE = [\n",
    "    'of01.csv',\n",
    "    'of03.csv',\n",
    "    'of04.csv',\n",
    "    'of04a.csv',\n",
    "    'of05.csv',\n",
    "    'of09a.csv',\n",
    "    'of10.csv',\n",
    "    'of11.csv',\n",
    "    'of12.csv',\n",
    "]\n"
   ]
  },
  {
   "cell_type": "code",
   "execution_count": 5,
   "id": "1aa45ae9-189d-4602-83cf-6c5e702b2e64",
   "metadata": {
    "execution": {
     "iopub.execute_input": "2025-05-05T19:36:39.235581Z",
     "iopub.status.busy": "2025-05-05T19:36:39.235514Z",
     "iopub.status.idle": "2025-05-05T19:36:39.247155Z",
     "shell.execute_reply": "2025-05-05T19:36:39.246926Z"
    }
   },
   "outputs": [],
   "source": [
    "input_dir = cfg.config[f'{study_name}_follow_up_dir']\n",
    "input_analysis_dir = cfg.config[f'{study_name}_analysis_dir']\n",
    "\n",
    "data_dict_filename = f\"{root_dir}/{COMBINE_harmonizer.DATA_DICTIONARY_EXCEL}\"\n",
    "out_dir = f\"{cfg.config['out_dir']}/out-{study_name}\"\n",
    "\n",
    "os.makedirs(out_dir, exist_ok=True)"
   ]
  },
  {
   "cell_type": "markdown",
   "id": "b285c802-c2b9-425b-b38d-d220775e47a9",
   "metadata": {},
   "source": [
    "## 00-1. Column Map"
   ]
  },
  {
   "cell_type": "code",
   "execution_count": 6,
   "id": "77c974c4-8083-48e9-b0ad-fd1879f6be5a",
   "metadata": {
    "execution": {
     "iopub.execute_input": "2025-05-05T19:36:39.248470Z",
     "iopub.status.busy": "2025-05-05T19:36:39.248389Z",
     "iopub.status.idle": "2025-05-05T19:36:39.612454Z",
     "shell.execute_reply": "2025-05-05T19:36:39.612192Z"
    }
   },
   "outputs": [],
   "source": [
    "df_data_dict = COMBINE_harmonizer.load_data_dict(data_dict_filename, sheet_name=sheet_name)\n",
    "all_valid_columns = list(df_data_dict[COMBINE_harmonizer.DATA_DICT_VAR_NAME])\n",
    "column_map = {each[study_name]: each[COMBINE_harmonizer.DATA_DICT_VAR_NAME] for _, each in df_data_dict.iterrows()}"
   ]
  },
  {
   "cell_type": "markdown",
   "id": "b77a20a2-6214-431c-91e1-07d5cbca7ee8",
   "metadata": {},
   "source": [
    "## 00-2. df-dict from _FILENAMES and _ANALYSIS_FILENAMES"
   ]
  },
  {
   "cell_type": "code",
   "execution_count": 7,
   "id": "929d693d-3bf8-4811-8872-f9eb8880a58c",
   "metadata": {
    "execution": {
     "iopub.execute_input": "2025-05-05T19:36:39.613936Z",
     "iopub.status.busy": "2025-05-05T19:36:39.613850Z",
     "iopub.status.idle": "2025-05-05T19:36:40.096405Z",
     "shell.execute_reply": "2025-05-05T19:36:40.095662Z"
    }
   },
   "outputs": [],
   "source": [
    "df_dict = {\n",
    "    filename: pd.read_csv(os.sep.join([input_dir, filename]), dtype='O').rename(columns=column_map)\n",
    "    for filename in _FILENAMES\n",
    "}\n",
    "\n",
    "df_analysis_dict = {filename: pd.read_csv(os.sep.join([input_analysis_dir, filename]), dtype='O').rename(columns=column_map) for filename in _ANALYSIS_FILENAMES}\n",
    "\n",
    "df_dict.update(df_analysis_dict)"
   ]
  },
  {
   "cell_type": "markdown",
   "id": "29c93764",
   "metadata": {},
   "source": [
    "### 00-4. identifier-column"
   ]
  },
  {
   "cell_type": "code",
   "execution_count": 8,
   "id": "83b9b65b-30eb-43aa-be5e-f1a96446bee9",
   "metadata": {
    "execution": {
     "iopub.execute_input": "2025-05-05T19:36:40.100506Z",
     "iopub.status.busy": "2025-05-05T19:36:40.100174Z",
     "iopub.status.idle": "2025-05-05T19:36:40.107852Z",
     "shell.execute_reply": "2025-05-05T19:36:40.107350Z"
    }
   },
   "outputs": [
    {
     "data": {
      "text/plain": [
       "['followupCenter', 'siteID', 'center', 'subjectID', 'followupID']"
      ]
     },
     "execution_count": 8,
     "metadata": {},
     "output_type": "execute_result"
    }
   ],
   "source": [
    "id_columns = COMBINE_harmonizer.get_columns(\n",
    "    df_data_dict,\n",
    "    COMBINE_harmonizer.CATEGORY_FOLLOW_UP,\n",
    "    COMBINE_harmonizer.SUBCATEGORY_IDENTITY)\n",
    "\n",
    "id_columns"
   ]
  },
  {
   "cell_type": "markdown",
   "id": "f5ba0833-5c1b-4525-b3c0-3dbebd58b374",
   "metadata": {},
   "source": [
    "## 20-01. follow-up"
   ]
  },
  {
   "cell_type": "code",
   "execution_count": 9,
   "id": "7ede700d-a34c-4fd0-bfc6-435221b2e8f5",
   "metadata": {
    "execution": {
     "iopub.execute_input": "2025-05-05T19:36:40.110346Z",
     "iopub.status.busy": "2025-05-05T19:36:40.110119Z",
     "iopub.status.idle": "2025-05-05T19:36:40.155542Z",
     "shell.execute_reply": "2025-05-05T19:36:40.155297Z"
    }
   },
   "outputs": [
    {
     "name": "stdout",
     "output_type": "stream",
     "text": [
      "to set follow-up\n",
      "(2/410) LAST not in columns\n",
      "(3/410) FIRST not in columns\n",
      "(5/410) PROTID02 not in columns\n",
      "(6/410) PROTID03 not in columns\n",
      "(7/410) PROTID04 not in columns\n",
      "(8/410) PROTID05 not in columns\n",
      "(9/410) PROTID06 not in columns\n",
      "(10/410) PROTID07 not in columns\n",
      "(11/410) PROTID08 not in columns\n",
      "(12/410) PROTID09 not in columns\n",
      "(13/410) PROTID10 not in columns\n",
      "(14/410) PROTID11 not in columns\n",
      "(15/410) PROTID12 not in columns\n",
      "(16/410) PROTID13 not in columns\n",
      "(17/410) PROTID14 not in columns\n",
      "(18/410) PROTID15 not in columns\n",
      "(19/410) PROTID16 not in columns\n",
      "(20/410) PROTID17 not in columns\n",
      "(21/410) PROTID18 not in columns\n",
      "(22/410) PROTID19 not in columns\n",
      "(23/410) PROTID20 not in columns\n",
      "(24/410) REC_CMP not in columns\n",
      "(30/410) CMP_DATE not in columns\n",
      "(31/410) CRT_DATE not in columns\n",
      "(62/410) CFINITS not in columns\n",
      "(63/410) REC_CMP:of03 not in columns\n",
      "(99/410) CFPRRESP not in columns\n",
      "(102/410) CMP_DATE:of03 not in columns\n",
      "(103/410) CRT_DATE:of03 not in columns\n",
      "(140/410) NF4LOCSP not in columns\n",
      "(141/410) DFINITS not in columns\n",
      "(142/410) REC_CMP:of04 not in columns\n",
      "(170/410) DFPLACE not in columns\n",
      "(171/410) DFCOMPDT not in columns\n",
      "(172/410) CMP_DATE:of04 not in columns\n",
      "(173/410) CRT_DATE:of04 not in columns\n",
      "(174/410) DFINITSA not in columns\n",
      "(175/410) REC_CMP:of04a not in columns\n",
      "(180/410) CMP_DATE:of04a not in columns\n",
      "(181/410) CRT_DATE:of04a not in columns\n",
      "(217/410) EFINITS not in columns\n",
      "(218/410) REC_CMP:of05 not in columns\n",
      "(275/410) CMP_DATE:of05 not in columns\n",
      "(276/410) CRT_DATE:of05 not in columns\n",
      "(290/410) NF9AINIT not in columns\n",
      "(291/410) REC_CMP:of09a not in columns\n",
      "(319/410) CMP_DATE:of09a not in columns\n",
      "(320/410) CRT_DATE:of09a not in columns\n",
      "(321/410) JFINITS not in columns\n",
      "(322/410) REC_CMP:of10 not in columns\n",
      "(329/410) JFCOMPDT not in columns\n",
      "(330/410) NF10CNTR not in columns\n",
      "(331/410) CMP_DATE:of10 not in columns\n",
      "(332/410) CRT_DATE:of10 not in columns\n",
      "(333/410) KFSESDIS not in columns\n",
      "(334/410) KFSES18 not in columns\n",
      "(335/410) KFMEDHIS not in columns\n",
      "(336/410) KFREADM not in columns\n",
      "(337/410) KFINFEXM not in columns\n",
      "(338/410) KFBAYLE3 not in columns\n",
      "(339/410) KFSTATFM not in columns\n",
      "(340/410) KFLOSTFM not in columns\n",
      "(341/410) KFINITS not in columns\n",
      "(342/410) REC_CMP:of11 not in columns\n",
      "(345/410) KFCOMPDT not in columns\n",
      "(346/410) CMP_DATE:of11 not in columns\n",
      "(347/410) CRT_DATE:of11 not in columns\n",
      "(376/410) LFINITA not in columns\n",
      "(380/410) NF12INIT not in columns\n",
      "(381/410) REC_CMP:of12 not in columns\n",
      "(408/410) CMP_DATE:of12 not in columns\n",
      "(409/410) CRT_DATE:of12 not in columns\n"
     ]
    }
   ],
   "source": [
    "df_all = None\n",
    "for idx, each_filename in enumerate(_FILENAMES_MERGE):\n",
    "    each_full_filename = os.sep.join([root_dir, each_filename])\n",
    "    each_df = df_dict[each_filename]\n",
    "    columns = list(each_df.columns)\n",
    "    each_filename_prefix = re.sub(r'\\.csv$', '', each_filename)\n",
    "    # print(f'({idx}/{len(_FILENAMES_MERGE)}) filename: {each_filename} columns: {columns}')\n",
    "\n",
    "    if df_all is None:\n",
    "        df_all = each_df\n",
    "    else:\n",
    "        df_all = df_all.merge(each_df, on=['followupCenter', 'followupID'], how='outer', suffixes=['', ':' + each_filename_prefix])\n",
    "\n",
    "\n",
    "# follow-up\n",
    "print('to set follow-up')\n",
    "df_follow_up = df_all\n",
    "\n",
    "df_follow_up = COMBINE_harmonizer.valid_columns(df_follow_up, all_valid_columns, debug_df=True, debug_columns=False)\n",
    "df_follow_up = COMBINE_harmonizer.postprocess(df_follow_up, subject_id_idx='followupID', center_id_idx='followupCenter')\n",
    "df_follow_up['center_orig'] = df_follow_up['center'].copy()\n",
    "df_follow_up['center'] = df_follow_up['center'].apply(COMBINE_harmonizer.to_center)\n",
    "df_follow_up['center'] = df_follow_up.apply(lambda x: x['center'] if isinstance(x['center'], str) and x['center'] != '' else x['followupCenter'], axis=1)\n"
   ]
  },
  {
   "cell_type": "markdown",
   "id": "1aecd14c",
   "metadata": {},
   "source": [
    "### 20-01-1. XXX hack for \"follow-up visit completed in another NRN center\""
   ]
  },
  {
   "cell_type": "code",
   "execution_count": 10,
   "id": "c9aa1be8",
   "metadata": {
    "execution": {
     "iopub.execute_input": "2025-05-05T19:36:40.156952Z",
     "iopub.status.busy": "2025-05-05T19:36:40.156863Z",
     "iopub.status.idle": "2025-05-05T19:36:40.159281Z",
     "shell.execute_reply": "2025-05-05T19:36:40.159038Z"
    }
   },
   "outputs": [
    {
     "data": {
      "text/plain": [
       "(array(['1', '5', '4', '3', '6'], dtype=object), 320)"
      ]
     },
     "execution_count": 10,
     "metadata": {},
     "output_type": "execute_result"
    }
   ],
   "source": [
    "df_follow_up['childFinalStatus'].unique(), len(df_follow_up)"
   ]
  },
  {
   "cell_type": "code",
   "execution_count": 11,
   "id": "c9e47021",
   "metadata": {
    "execution": {
     "iopub.execute_input": "2025-05-05T19:36:40.160465Z",
     "iopub.status.busy": "2025-05-05T19:36:40.160385Z",
     "iopub.status.idle": "2025-05-05T19:36:40.165316Z",
     "shell.execute_reply": "2025-05-05T19:36:40.165084Z"
    }
   },
   "outputs": [
    {
     "data": {
      "text/plain": [
       "315"
      ]
     },
     "execution_count": 11,
     "metadata": {},
     "output_type": "execute_result"
    }
   ],
   "source": [
    "is_valid = df_follow_up['childFinalStatus'].isin(['5', '5.0']) == False\n",
    "df_follow_up = df_follow_up[is_valid]\n",
    "len(df_follow_up)"
   ]
  },
  {
   "cell_type": "markdown",
   "id": "c789df22",
   "metadata": {},
   "source": [
    "## 20-00. Follow-up"
   ]
  },
  {
   "cell_type": "code",
   "execution_count": 12,
   "id": "cdec458a",
   "metadata": {
    "execution": {
     "iopub.execute_input": "2025-05-05T19:36:40.166596Z",
     "iopub.status.busy": "2025-05-05T19:36:40.166511Z",
     "iopub.status.idle": "2025-05-05T19:36:40.169046Z",
     "shell.execute_reply": "2025-05-05T19:36:40.168817Z"
    }
   },
   "outputs": [
    {
     "data": {
      "text/plain": [
       "['birthDate', 'visitDate', 'birthNumber', 'center_orig']"
      ]
     },
     "execution_count": 12,
     "metadata": {},
     "output_type": "execute_result"
    }
   ],
   "source": [
    "follow_up_columns = COMBINE_harmonizer.get_columns(\n",
    "    df_data_dict,\n",
    "    COMBINE_harmonizer.CATEGORY_FOLLOW_UP,\n",
    "    COMBINE_harmonizer.SUBCATEGORY_FOLLOWUP)\n",
    "\n",
    "all_follow_up_columns = id_columns + follow_up_columns\n",
    "follow_up_columns"
   ]
  },
  {
   "cell_type": "code",
   "execution_count": 13,
   "id": "e59481fc",
   "metadata": {
    "execution": {
     "iopub.execute_input": "2025-05-05T19:36:40.170318Z",
     "iopub.status.busy": "2025-05-05T19:36:40.170238Z",
     "iopub.status.idle": "2025-05-05T19:36:40.272888Z",
     "shell.execute_reply": "2025-05-05T19:36:40.272480Z"
    }
   },
   "outputs": [],
   "source": [
    "df_follow_up_follow_up = COMBINE_harmonizer.valid_columns(df_follow_up.copy(), all_follow_up_columns, debug_df=False, debug_columns=True)\n",
    "df_follow_up_follow_up = COMBINE_harmonizer.postprocess(df_follow_up_follow_up)\n",
    "\n",
    "out_filename = os.sep.join([out_dir, '20-00-follow-up.csv'])\n",
    "df_follow_up_follow_up.to_csv(out_filename, index=False)"
   ]
  },
  {
   "cell_type": "markdown",
   "id": "6b90d55f",
   "metadata": {},
   "source": [
    "### 20-00-1. check empty"
   ]
  },
  {
   "cell_type": "code",
   "execution_count": 14,
   "id": "5a2b10e8",
   "metadata": {
    "execution": {
     "iopub.execute_input": "2025-05-05T19:36:40.275009Z",
     "iopub.status.busy": "2025-05-05T19:36:40.274836Z",
     "iopub.status.idle": "2025-05-05T19:36:40.278689Z",
     "shell.execute_reply": "2025-05-05T19:36:40.278392Z"
    }
   },
   "outputs": [
    {
     "name": "stdout",
     "output_type": "stream",
     "text": [
      "(0/10) column: center (315 / 0)\n",
      "(1/10) column: subjectID (315 / 0)\n",
      "(2/10) column: uniqueID (315 / 0)\n",
      "(3/10) column: followupCenter (315 / 0)\n",
      "(4/10) column: followupID (315 / 0)\n",
      "(5/10) column: siteID (315 / 0)\n",
      "(6/10) column: birthDate (315 / 0)\n",
      "(7/10) column: visitDate (291 / 24)\n",
      "(8/10) column: birthNumber (0 / 315)\n",
      "(9/10) column: center_orig (6 / 309)\n"
     ]
    }
   ],
   "source": [
    "COMBINE_harmonizer.check_empty(df_follow_up_follow_up)"
   ]
  },
  {
   "cell_type": "code",
   "execution_count": 15,
   "id": "0c957348",
   "metadata": {
    "execution": {
     "iopub.execute_input": "2025-05-05T19:36:40.280300Z",
     "iopub.status.busy": "2025-05-05T19:36:40.280195Z",
     "iopub.status.idle": "2025-05-05T19:36:40.283129Z",
     "shell.execute_reply": "2025-05-05T19:36:40.282774Z"
    }
   },
   "outputs": [
    {
     "name": "stdout",
     "output_type": "stream",
     "text": [
      "(0/10) center: (315/0)\n",
      "(1/10) subjectID: (315/0)\n",
      "(2/10) uniqueID: (315/0)\n",
      "(3/10) followupCenter: (315/0)\n",
      "(4/10) followupID: (315/0)\n",
      "(5/10) siteID: (315/0)\n",
      "(6/10) birthDate: (315/0)\n",
      "(7/10) visitDate: (291/24)\n",
      "(8/10) birthNumber: (0/315)\n",
      "(9/10) center_orig: (6/309)\n"
     ]
    }
   ],
   "source": [
    "COMBINE_harmonizer.column_info(df_follow_up_follow_up)"
   ]
  },
  {
   "cell_type": "markdown",
   "id": "a24a31d1",
   "metadata": {},
   "source": [
    "## 20-01. SES"
   ]
  },
  {
   "cell_type": "code",
   "execution_count": 16,
   "id": "a006369f",
   "metadata": {
    "execution": {
     "iopub.execute_input": "2025-05-05T19:36:40.284803Z",
     "iopub.status.busy": "2025-05-05T19:36:40.284660Z",
     "iopub.status.idle": "2025-05-05T19:36:40.288144Z",
     "shell.execute_reply": "2025-05-05T19:36:40.287864Z"
    }
   },
   "outputs": [
    {
     "data": {
      "text/plain": [
       "['followupCenter',\n",
       " 'siteID',\n",
       " 'center',\n",
       " 'subjectID',\n",
       " 'followupID',\n",
       " 'SESVisitDate',\n",
       " 'SESBirthDate',\n",
       " 'chronologicalAge_mo',\n",
       " 'correctedAge_mo',\n",
       " 'underStateSupervision',\n",
       " 'primaryCaretaker',\n",
       " 'otherCaretaker',\n",
       " 'maritalStatusPrimaryCaretaker',\n",
       " 'livingArrangementChild',\n",
       " 'numberPeopleInChildHousehold',\n",
       " 'otherContributeMoneyToChildHousehold',\n",
       " 'educationPrimaryCaretaker',\n",
       " 'educationOtherCaretaker',\n",
       " 'workPrimaryCaretaker',\n",
       " 'workOtherCaretaker',\n",
       " 'inSchoolPrimaryCaretaker',\n",
       " 'inSchoolOtherCaretaker',\n",
       " 'totalIncomeChildHousehold',\n",
       " 'medicalInsuranceChild',\n",
       " 'primaryLanguageChild',\n",
       " 'primaryLanguageChildOtherText',\n",
       " 'isSecondaryLanguageChild',\n",
       " 'secondaryLanguageChild',\n",
       " 'secondaryLanguageChildOtherText',\n",
       " 'numberPlaceChildLive',\n",
       " 'zipcode',\n",
       " 'visitingNurseReceive',\n",
       " 'visitingNurseNeed',\n",
       " 'homeNurseReceive',\n",
       " 'homeNurseNeed',\n",
       " 'otPtReceive',\n",
       " 'otPtNeed',\n",
       " 'speechTherapyReceive',\n",
       " 'speechTherapyNeed',\n",
       " 'earlyInterventionReceive',\n",
       " 'earlyInterventionNeed',\n",
       " 'socialWorkForChildReceive',\n",
       " 'socialWorkForChildNeed',\n",
       " 'specialClinicReceive',\n",
       " 'specialClinicNeed',\n",
       " 'pulmonaryReceive',\n",
       " 'pulmonaryNeed',\n",
       " 'ophthalmologicReceive',\n",
       " 'ophthalmologicNeed',\n",
       " 'gastrointestinalReceive',\n",
       " 'gastrointestinalNeed',\n",
       " 'audiologicReceive',\n",
       " 'audiologicNeed',\n",
       " 'neurologicReceive',\n",
       " 'neurologicNeed',\n",
       " 'otherReceive',\n",
       " 'otherNeed',\n",
       " 'otherNeedText',\n",
       " 'neurodevelopmentReceive',\n",
       " 'neurodevelopmentNeed',\n",
       " 'prematureFollowupClinicReceive',\n",
       " 'prematureFollowupClinicNeed',\n",
       " 'regularDoctor',\n",
       " 'resideChronicCareFacility',\n",
       " 'takenCareOfByOther',\n",
       " 'traditionalCenterCare',\n",
       " 'traditionalCenterCareAvgHrPerWeek',\n",
       " 'medicalChildCare',\n",
       " 'medicalChildCareAvgHrPerWeek',\n",
       " 'medicalChildCareWhere',\n",
       " 'traditionalHomeCare',\n",
       " 'traditionalHomeCareAvgHrPerWeek',\n",
       " 'traditionalHomeCareWhose',\n",
       " 'babysitter',\n",
       " 'babysitterAvgHrPerWeek',\n",
       " 'babysitterRelation',\n",
       " 'SESInterviewWhere',\n",
       " 'SESInterviewDate']"
      ]
     },
     "execution_count": 16,
     "metadata": {},
     "output_type": "execute_result"
    }
   ],
   "source": [
    "ses_columns = COMBINE_harmonizer.get_columns(\n",
    "    df_data_dict,\n",
    "    COMBINE_harmonizer.CATEGORY_FOLLOW_UP,\n",
    "    COMBINE_harmonizer.SUBCATEGORY_SOCIOECONOMIC_STATUS)\n",
    "\n",
    "all_ses_columns = id_columns + ses_columns\n",
    "all_ses_columns"
   ]
  },
  {
   "cell_type": "code",
   "execution_count": 17,
   "id": "14246e0b",
   "metadata": {
    "execution": {
     "iopub.execute_input": "2025-05-05T19:36:40.289510Z",
     "iopub.status.busy": "2025-05-05T19:36:40.289413Z",
     "iopub.status.idle": "2025-05-05T19:36:40.398120Z",
     "shell.execute_reply": "2025-05-05T19:36:40.397598Z"
    }
   },
   "outputs": [
    {
     "name": "stdout",
     "output_type": "stream",
     "text": [
      "(22/78) totalIncomeChildHousehold not in df\n",
      "(30/78) zipcode not in df\n",
      "(43/78) specialClinicReceive not in df\n",
      "(44/78) specialClinicNeed not in df\n",
      "(60/78) prematureFollowupClinicReceive not in df\n",
      "(61/78) prematureFollowupClinicNeed not in df\n"
     ]
    }
   ],
   "source": [
    "df_ses = COMBINE_harmonizer.valid_columns(df_follow_up.copy(), all_ses_columns, debug_df=False, debug_columns=True)\n",
    "df_ses = COMBINE_harmonizer.postprocess(df_ses)\n",
    "\n",
    "out_filename = os.sep.join([out_dir, '20-01-ses.csv'])\n",
    "df_ses.to_csv(out_filename, index=False)"
   ]
  },
  {
   "cell_type": "markdown",
   "id": "f0d496de",
   "metadata": {},
   "source": [
    "### 20-01-1. check empty"
   ]
  },
  {
   "cell_type": "code",
   "execution_count": 18,
   "id": "df44d837",
   "metadata": {
    "execution": {
     "iopub.execute_input": "2025-05-05T19:36:40.401106Z",
     "iopub.status.busy": "2025-05-05T19:36:40.400826Z",
     "iopub.status.idle": "2025-05-05T19:36:40.414652Z",
     "shell.execute_reply": "2025-05-05T19:36:40.414264Z"
    }
   },
   "outputs": [
    {
     "name": "stdout",
     "output_type": "stream",
     "text": [
      "(0/73) column: center (315 / 0)\n",
      "(1/73) column: subjectID (315 / 0)\n",
      "(2/73) column: uniqueID (315 / 0)\n",
      "(3/73) column: followupCenter (315 / 0)\n",
      "(4/73) column: followupID (315 / 0)\n",
      "(5/73) column: siteID (315 / 0)\n",
      "(6/73) column: underStateSupervision (288 / 27)\n",
      "(7/73) column: otherContributeMoneyToChildHousehold (288 / 27)\n",
      "(8/73) column: workPrimaryCaretaker (288 / 27)\n",
      "(9/73) column: workOtherCaretaker (254 / 61)\n",
      "(10/73) column: inSchoolPrimaryCaretaker (288 / 27)\n",
      "(11/73) column: inSchoolOtherCaretaker (254 / 61)\n",
      "(12/73) column: primaryLanguageChildOtherText (15 / 300)\n",
      "(13/73) column: isSecondaryLanguageChild (288 / 27)\n",
      "(14/73) column: secondaryLanguageChildOtherText (22 / 293)\n",
      "(15/73) column: visitingNurseNeed (288 / 27)\n",
      "(16/73) column: homeNurseNeed (288 / 27)\n",
      "(17/73) column: otPtNeed (288 / 27)\n",
      "(18/73) column: speechTherapyNeed (288 / 27)\n",
      "(19/73) column: earlyInterventionNeed (288 / 27)\n",
      "(20/73) column: socialWorkForChildNeed (288 / 27)\n",
      "(21/73) column: pulmonaryNeed (288 / 27)\n",
      "(22/73) column: ophthalmologicNeed (288 / 27)\n",
      "(23/73) column: gastrointestinalNeed (288 / 27)\n",
      "(24/73) column: audiologicNeed (288 / 27)\n",
      "(25/73) column: neurologicNeed (288 / 27)\n",
      "(26/73) column: otherNeed (288 / 27)\n",
      "(27/73) column: otherNeedText (93 / 222)\n",
      "(28/73) column: neurodevelopmentNeed (288 / 27)\n",
      "(29/73) column: regularDoctor (288 / 27)\n",
      "(30/73) column: resideChronicCareFacility (288 / 27)\n",
      "(31/73) column: takenCareOfByOther (288 / 27)\n",
      "(32/73) column: traditionalCenterCare (134 / 181)\n",
      "(33/73) column: medicalChildCare (134 / 181)\n",
      "(34/73) column: traditionalHomeCare (134 / 181)\n",
      "(35/73) column: babysitter (134 / 181)\n",
      "(36/73) column: SESVisitDate (287 / 28)\n",
      "(37/73) column: SESBirthDate (288 / 27)\n",
      "(38/73) column: chronologicalAge_mo (288 / 27)\n",
      "(39/73) column: correctedAge_mo (285 / 30)\n",
      "(40/73) column: primaryCaretaker (288 / 27)\n",
      "(41/73) column: otherCaretaker (255 / 60)\n",
      "(42/73) column: maritalStatusPrimaryCaretaker (288 / 27)\n",
      "(43/73) column: livingArrangementChild (288 / 27)\n",
      "(44/73) column: numberPeopleInChildHousehold (288 / 27)\n",
      "(45/73) column: educationPrimaryCaretaker (287 / 28)\n",
      "(46/73) column: educationOtherCaretaker (253 / 62)\n",
      "(47/73) column: medicalInsuranceChild (287 / 28)\n",
      "(48/73) column: primaryLanguageChild (288 / 27)\n",
      "(49/73) column: secondaryLanguageChild (80 / 235)\n",
      "(50/73) column: numberPlaceChildLive (285 / 30)\n",
      "(51/73) column: visitingNurseReceive (288 / 27)\n",
      "(52/73) column: homeNurseReceive (288 / 27)\n",
      "(53/73) column: otPtReceive (288 / 27)\n",
      "(54/73) column: speechTherapyReceive (288 / 27)\n",
      "(55/73) column: earlyInterventionReceive (288 / 27)\n",
      "(56/73) column: socialWorkForChildReceive (288 / 27)\n",
      "(57/73) column: pulmonaryReceive (288 / 27)\n",
      "(58/73) column: ophthalmologicReceive (288 / 27)\n",
      "(59/73) column: gastrointestinalReceive (288 / 27)\n",
      "(60/73) column: audiologicReceive (288 / 27)\n",
      "(61/73) column: neurologicReceive (288 / 27)\n",
      "(62/73) column: otherReceive (287 / 28)\n",
      "(63/73) column: neurodevelopmentReceive (287 / 28)\n",
      "(64/73) column: traditionalCenterCareAvgHrPerWeek (54 / 261)\n",
      "(65/73) column: medicalChildCareAvgHrPerWeek (5 / 310)\n",
      "(66/73) column: medicalChildCareWhere (5 / 310)\n",
      "(67/73) column: traditionalHomeCareAvgHrPerWeek (23 / 292)\n",
      "(68/73) column: traditionalHomeCareWhose (23 / 292)\n",
      "(69/73) column: babysitterAvgHrPerWeek (60 / 255)\n",
      "(70/73) column: babysitterRelation (62 / 253)\n",
      "(71/73) column: SESInterviewWhere (288 / 27)\n",
      "(72/73) column: SESInterviewDate (288 / 27)\n"
     ]
    }
   ],
   "source": [
    "COMBINE_harmonizer.check_empty(df_ses)"
   ]
  },
  {
   "cell_type": "code",
   "execution_count": 19,
   "id": "b2ad135e",
   "metadata": {
    "execution": {
     "iopub.execute_input": "2025-05-05T19:36:40.416747Z",
     "iopub.status.busy": "2025-05-05T19:36:40.416551Z",
     "iopub.status.idle": "2025-05-05T19:36:40.423390Z",
     "shell.execute_reply": "2025-05-05T19:36:40.423091Z"
    }
   },
   "outputs": [
    {
     "name": "stdout",
     "output_type": "stream",
     "text": [
      "(0/73) center: (315/0)\n",
      "(1/73) subjectID: (315/0)\n",
      "(2/73) uniqueID: (315/0)\n",
      "(3/73) followupCenter: (315/0)\n",
      "(4/73) followupID: (315/0)\n",
      "(5/73) siteID: (315/0)\n",
      "(6/73) underStateSupervision: (288/27)\n",
      "(7/73) otherContributeMoneyToChildHousehold: (288/27)\n",
      "(8/73) workPrimaryCaretaker: (288/27)\n",
      "(9/73) workOtherCaretaker: (254/61)\n",
      "(10/73) inSchoolPrimaryCaretaker: (288/27)\n",
      "(11/73) inSchoolOtherCaretaker: (254/61)\n",
      "(12/73) primaryLanguageChildOtherText: (15/300)\n",
      "(13/73) isSecondaryLanguageChild: (288/27)\n",
      "(14/73) secondaryLanguageChildOtherText: (22/293)\n",
      "(15/73) visitingNurseNeed: (288/27)\n",
      "(16/73) homeNurseNeed: (288/27)\n",
      "(17/73) otPtNeed: (288/27)\n",
      "(18/73) speechTherapyNeed: (288/27)\n",
      "(19/73) earlyInterventionNeed: (288/27)\n",
      "(20/73) socialWorkForChildNeed: (288/27)\n",
      "(21/73) pulmonaryNeed: (288/27)\n",
      "(22/73) ophthalmologicNeed: (288/27)\n",
      "(23/73) gastrointestinalNeed: (288/27)\n",
      "(24/73) audiologicNeed: (288/27)\n",
      "(25/73) neurologicNeed: (288/27)\n",
      "(26/73) otherNeed: (288/27)\n",
      "(27/73) otherNeedText: (93/222)\n",
      "(28/73) neurodevelopmentNeed: (288/27)\n",
      "(29/73) regularDoctor: (288/27)\n",
      "(30/73) resideChronicCareFacility: (288/27)\n",
      "(31/73) takenCareOfByOther: (288/27)\n",
      "(32/73) traditionalCenterCare: (134/181)\n",
      "(33/73) medicalChildCare: (134/181)\n",
      "(34/73) traditionalHomeCare: (134/181)\n",
      "(35/73) babysitter: (134/181)\n",
      "(36/73) SESVisitDate: (287/28)\n",
      "(37/73) SESBirthDate: (288/27)\n",
      "(38/73) chronologicalAge_mo: (288/27)\n",
      "(39/73) correctedAge_mo: (285/30)\n",
      "(40/73) primaryCaretaker: (288/27)\n",
      "(41/73) otherCaretaker: (255/60)\n",
      "(42/73) maritalStatusPrimaryCaretaker: (288/27)\n",
      "(43/73) livingArrangementChild: (288/27)\n",
      "(44/73) numberPeopleInChildHousehold: (288/27)\n",
      "(45/73) educationPrimaryCaretaker: (287/28)\n",
      "(46/73) educationOtherCaretaker: (253/62)\n",
      "(47/73) medicalInsuranceChild: (287/28)\n",
      "(48/73) primaryLanguageChild: (288/27)\n",
      "(49/73) secondaryLanguageChild: (80/235)\n",
      "(50/73) numberPlaceChildLive: (285/30)\n",
      "(51/73) visitingNurseReceive: (288/27)\n",
      "(52/73) homeNurseReceive: (288/27)\n",
      "(53/73) otPtReceive: (288/27)\n",
      "(54/73) speechTherapyReceive: (288/27)\n",
      "(55/73) earlyInterventionReceive: (288/27)\n",
      "(56/73) socialWorkForChildReceive: (288/27)\n",
      "(57/73) pulmonaryReceive: (288/27)\n",
      "(58/73) ophthalmologicReceive: (288/27)\n",
      "(59/73) gastrointestinalReceive: (288/27)\n",
      "(60/73) audiologicReceive: (288/27)\n",
      "(61/73) neurologicReceive: (288/27)\n",
      "(62/73) otherReceive: (287/28)\n",
      "(63/73) neurodevelopmentReceive: (287/28)\n",
      "(64/73) traditionalCenterCareAvgHrPerWeek: (54/261)\n",
      "(65/73) medicalChildCareAvgHrPerWeek: (5/310)\n",
      "(66/73) medicalChildCareWhere: (5/310)\n",
      "(67/73) traditionalHomeCareAvgHrPerWeek: (23/292)\n",
      "(68/73) traditionalHomeCareWhose: (23/292)\n",
      "(69/73) babysitterAvgHrPerWeek: (60/255)\n",
      "(70/73) babysitterRelation: (62/253)\n",
      "(71/73) SESInterviewWhere: (288/27)\n",
      "(72/73) SESInterviewDate: (288/27)\n"
     ]
    }
   ],
   "source": [
    "COMBINE_harmonizer.column_info(df_ses)"
   ]
  },
  {
   "cell_type": "markdown",
   "id": "40920619",
   "metadata": {},
   "source": [
    "## 20-02. Medical History"
   ]
  },
  {
   "cell_type": "code",
   "execution_count": 20,
   "id": "2df0a12a",
   "metadata": {
    "execution": {
     "iopub.execute_input": "2025-05-05T19:36:40.425243Z",
     "iopub.status.busy": "2025-05-05T19:36:40.425083Z",
     "iopub.status.idle": "2025-05-05T19:36:40.428523Z",
     "shell.execute_reply": "2025-05-05T19:36:40.428219Z"
    }
   },
   "outputs": [
    {
     "data": {
      "text/plain": [
       "['rehospitalize',\n",
       " 'numberRehospitalize',\n",
       " 'operation',\n",
       " 'operationTypanostomyTube',\n",
       " 'operationTracheostomy',\n",
       " 'operationEyeSurgery',\n",
       " 'operationEyeSurgeryReason',\n",
       " 'operationHerniaSurgery',\n",
       " 'operationGastrostomyTube',\n",
       " 'operationFundoplication',\n",
       " 'operationShuntForHydrocephalus',\n",
       " 'operationReanastomosisOfLargeOrSmallIntenstine',\n",
       " 'operationPDALigation',\n",
       " 'operationBrochoscopy',\n",
       " 'operationHypospadiusRepair',\n",
       " 'operationOther',\n",
       " 'operationOtherText',\n",
       " 'medication',\n",
       " 'vitaminMineralSupplement',\n",
       " 'highCaloricFormula',\n",
       " 'diuretics',\n",
       " 'antiRefluxMedication',\n",
       " 'bronchodilator',\n",
       " 'inhaledSteroid',\n",
       " 'oralIvSteroid',\n",
       " 'otherAsthmaMedication',\n",
       " 'decongestantColdAllergyMedication',\n",
       " 'anticonvulsantMedication',\n",
       " 'prophylaticAntibiotics',\n",
       " 'antibiotics',\n",
       " 'constipationMedication',\n",
       " 'bloodPressureMedication',\n",
       " 'thyroidMedication',\n",
       " 'muscleRelaxants',\n",
       " 'botox',\n",
       " 'otherMedication',\n",
       " 'otherMedicationText',\n",
       " 'seizure',\n",
       " 'medicalEquipmentHomeUse',\n",
       " 'apneaMonitor',\n",
       " 'oxygen',\n",
       " 'ventilatorCPAP',\n",
       " 'gastrostomyTube',\n",
       " 'tracheostomy',\n",
       " 'pulseOximeter',\n",
       " 'fluShot',\n",
       " 'RSVProphylaxis',\n",
       " 'independentFeedSelf',\n",
       " 'assistedEatByMouth',\n",
       " 'tubeFeed',\n",
       " 'TPN',\n",
       " 'dietMilk',\n",
       " 'dietTableFood',\n",
       " 'dietSoftFood',\n",
       " 'dietLiquid',\n",
       " 'dietThickendLiquid',\n",
       " 'subcutaneousFatNecrosis',\n",
       " 'equipmentForStanding',\n",
       " 'adaptedStroller',\n",
       " 'bracesOrthotics',\n",
       " 'walker',\n",
       " 'stander',\n",
       " 'cornerChairTumblerForm']"
      ]
     },
     "execution_count": 20,
     "metadata": {},
     "output_type": "execute_result"
    }
   ],
   "source": [
    "medical_history_columns = COMBINE_harmonizer.get_columns(\n",
    "    df_data_dict,\n",
    "    COMBINE_harmonizer.CATEGORY_FOLLOW_UP,\n",
    "    COMBINE_harmonizer.SUBCATEGORY_MEDICAL_HISTORY)\n",
    "\n",
    "all_medical_history_columns = id_columns + medical_history_columns\n",
    "medical_history_columns"
   ]
  },
  {
   "cell_type": "code",
   "execution_count": 21,
   "id": "b768be22",
   "metadata": {
    "execution": {
     "iopub.execute_input": "2025-05-05T19:36:40.430063Z",
     "iopub.status.busy": "2025-05-05T19:36:40.429948Z",
     "iopub.status.idle": "2025-05-05T19:36:40.513499Z",
     "shell.execute_reply": "2025-05-05T19:36:40.513026Z"
    }
   },
   "outputs": [],
   "source": [
    "df_medical_history = COMBINE_harmonizer.valid_columns(df_follow_up.copy(), all_medical_history_columns, debug_df=False, debug_columns=True)\n",
    "df_medical_history = COMBINE_harmonizer.postprocess(df_medical_history)\n",
    "\n",
    "out_filename = os.sep.join([out_dir, '20-02-medical-history.csv'])\n",
    "df_medical_history.to_csv(out_filename, index=False)"
   ]
  },
  {
   "cell_type": "markdown",
   "id": "c7e096ca",
   "metadata": {},
   "source": [
    "### 20-02-1. check empty"
   ]
  },
  {
   "cell_type": "code",
   "execution_count": 22,
   "id": "128f5f5a",
   "metadata": {
    "execution": {
     "iopub.execute_input": "2025-05-05T19:36:40.516074Z",
     "iopub.status.busy": "2025-05-05T19:36:40.515852Z",
     "iopub.status.idle": "2025-05-05T19:36:40.527681Z",
     "shell.execute_reply": "2025-05-05T19:36:40.527382Z"
    }
   },
   "outputs": [
    {
     "name": "stdout",
     "output_type": "stream",
     "text": [
      "(0/69) column: center (315 / 0)\n",
      "(1/69) column: subjectID (315 / 0)\n",
      "(2/69) column: uniqueID (315 / 0)\n",
      "(3/69) column: followupCenter (315 / 0)\n",
      "(4/69) column: followupID (315 / 0)\n",
      "(5/69) column: siteID (315 / 0)\n",
      "(6/69) column: rehospitalize (287 / 28)\n",
      "(7/69) column: operation (287 / 28)\n",
      "(8/69) column: operationTypanostomyTube (62 / 253)\n",
      "(9/69) column: operationTracheostomy (62 / 253)\n",
      "(10/69) column: operationEyeSurgery (62 / 253)\n",
      "(11/69) column: operationHerniaSurgery (62 / 253)\n",
      "(12/69) column: operationGastrostomyTube (62 / 253)\n",
      "(13/69) column: operationFundoplication (62 / 253)\n",
      "(14/69) column: operationShuntForHydrocephalus (62 / 253)\n",
      "(15/69) column: operationReanastomosisOfLargeOrSmallIntenstine (62 / 253)\n",
      "(16/69) column: operationPDALigation (62 / 253)\n",
      "(17/69) column: operationBrochoscopy (62 / 253)\n",
      "(18/69) column: operationHypospadiusRepair (62 / 253)\n",
      "(19/69) column: operationOther (62 / 253)\n",
      "(20/69) column: operationOtherText (29 / 286)\n",
      "(21/69) column: medication (287 / 28)\n",
      "(22/69) column: otherMedicationText (19 / 296)\n",
      "(23/69) column: seizure (287 / 28)\n",
      "(24/69) column: medicalEquipmentHomeUse (287 / 28)\n",
      "(25/69) column: fluShot (287 / 28)\n",
      "(26/69) column: RSVProphylaxis (287 / 28)\n",
      "(27/69) column: independentFeedSelf (287 / 28)\n",
      "(28/69) column: assistedEatByMouth (287 / 28)\n",
      "(29/69) column: tubeFeed (287 / 28)\n",
      "(30/69) column: TPN (287 / 28)\n",
      "(31/69) column: dietMilk (287 / 28)\n",
      "(32/69) column: dietTableFood (287 / 28)\n",
      "(33/69) column: dietSoftFood (287 / 28)\n",
      "(34/69) column: dietLiquid (287 / 28)\n",
      "(35/69) column: dietThickendLiquid (287 / 28)\n",
      "(36/69) column: equipmentForStanding (287 / 28)\n",
      "(37/69) column: adaptedStroller (37 / 278)\n",
      "(38/69) column: bracesOrthotics (37 / 278)\n",
      "(39/69) column: walker (37 / 278)\n",
      "(40/69) column: stander (37 / 278)\n",
      "(41/69) column: cornerChairTumblerForm (37 / 278)\n",
      "(42/69) column: subcutaneousFatNecrosis (196 / 119)\n",
      "(43/69) column: numberRehospitalize (65 / 250)\n",
      "(44/69) column: operationEyeSurgeryReason (2 / 313)\n",
      "(45/69) column: vitaminMineralSupplement (158 / 157)\n",
      "(46/69) column: highCaloricFormula (158 / 157)\n",
      "(47/69) column: diuretics (158 / 157)\n",
      "(48/69) column: antiRefluxMedication (158 / 157)\n",
      "(49/69) column: bronchodilator (158 / 157)\n",
      "(50/69) column: inhaledSteroid (158 / 157)\n",
      "(51/69) column: oralIvSteroid (158 / 157)\n",
      "(52/69) column: otherAsthmaMedication (158 / 157)\n",
      "(53/69) column: decongestantColdAllergyMedication (158 / 157)\n",
      "(54/69) column: anticonvulsantMedication (158 / 157)\n",
      "(55/69) column: prophylaticAntibiotics (158 / 157)\n",
      "(56/69) column: antibiotics (158 / 157)\n",
      "(57/69) column: constipationMedication (158 / 157)\n",
      "(58/69) column: bloodPressureMedication (158 / 157)\n",
      "(59/69) column: thyroidMedication (158 / 157)\n",
      "(60/69) column: muscleRelaxants (158 / 157)\n",
      "(61/69) column: botox (158 / 157)\n",
      "(62/69) column: otherMedication (158 / 157)\n",
      "(63/69) column: apneaMonitor (52 / 263)\n",
      "(64/69) column: oxygen (52 / 263)\n",
      "(65/69) column: ventilatorCPAP (52 / 263)\n",
      "(66/69) column: gastrostomyTube (52 / 263)\n",
      "(67/69) column: tracheostomy (52 / 263)\n",
      "(68/69) column: pulseOximeter (52 / 263)\n"
     ]
    }
   ],
   "source": [
    "COMBINE_harmonizer.check_empty(df_medical_history)"
   ]
  },
  {
   "cell_type": "code",
   "execution_count": 23,
   "id": "f76ebcca",
   "metadata": {
    "execution": {
     "iopub.execute_input": "2025-05-05T19:36:40.529355Z",
     "iopub.status.busy": "2025-05-05T19:36:40.529193Z",
     "iopub.status.idle": "2025-05-05T19:36:40.535741Z",
     "shell.execute_reply": "2025-05-05T19:36:40.535413Z"
    }
   },
   "outputs": [
    {
     "name": "stdout",
     "output_type": "stream",
     "text": [
      "(0/69) center: (315/0)\n",
      "(1/69) subjectID: (315/0)\n",
      "(2/69) uniqueID: (315/0)\n",
      "(3/69) followupCenter: (315/0)\n",
      "(4/69) followupID: (315/0)\n",
      "(5/69) siteID: (315/0)\n",
      "(6/69) rehospitalize: (287/28)\n",
      "(7/69) operation: (287/28)\n",
      "(8/69) operationTypanostomyTube: (62/253)\n",
      "(9/69) operationTracheostomy: (62/253)\n",
      "(10/69) operationEyeSurgery: (62/253)\n",
      "(11/69) operationHerniaSurgery: (62/253)\n",
      "(12/69) operationGastrostomyTube: (62/253)\n",
      "(13/69) operationFundoplication: (62/253)\n",
      "(14/69) operationShuntForHydrocephalus: (62/253)\n",
      "(15/69) operationReanastomosisOfLargeOrSmallIntenstine: (62/253)\n",
      "(16/69) operationPDALigation: (62/253)\n",
      "(17/69) operationBrochoscopy: (62/253)\n",
      "(18/69) operationHypospadiusRepair: (62/253)\n",
      "(19/69) operationOther: (62/253)\n",
      "(20/69) operationOtherText: (29/286)\n",
      "(21/69) medication: (287/28)\n",
      "(22/69) otherMedicationText: (19/296)\n",
      "(23/69) seizure: (287/28)\n",
      "(24/69) medicalEquipmentHomeUse: (287/28)\n",
      "(25/69) fluShot: (287/28)\n",
      "(26/69) RSVProphylaxis: (287/28)\n",
      "(27/69) independentFeedSelf: (287/28)\n",
      "(28/69) assistedEatByMouth: (287/28)\n",
      "(29/69) tubeFeed: (287/28)\n",
      "(30/69) TPN: (287/28)\n",
      "(31/69) dietMilk: (287/28)\n",
      "(32/69) dietTableFood: (287/28)\n",
      "(33/69) dietSoftFood: (287/28)\n",
      "(34/69) dietLiquid: (287/28)\n",
      "(35/69) dietThickendLiquid: (287/28)\n",
      "(36/69) equipmentForStanding: (287/28)\n",
      "(37/69) adaptedStroller: (37/278)\n",
      "(38/69) bracesOrthotics: (37/278)\n",
      "(39/69) walker: (37/278)\n",
      "(40/69) stander: (37/278)\n",
      "(41/69) cornerChairTumblerForm: (37/278)\n",
      "(42/69) subcutaneousFatNecrosis: (196/119)\n",
      "(43/69) numberRehospitalize: (65/250)\n",
      "(44/69) operationEyeSurgeryReason: (2/313)\n",
      "(45/69) vitaminMineralSupplement: (158/157)\n",
      "(46/69) highCaloricFormula: (158/157)\n",
      "(47/69) diuretics: (158/157)\n",
      "(48/69) antiRefluxMedication: (158/157)\n",
      "(49/69) bronchodilator: (158/157)\n",
      "(50/69) inhaledSteroid: (158/157)\n",
      "(51/69) oralIvSteroid: (158/157)\n",
      "(52/69) otherAsthmaMedication: (158/157)\n",
      "(53/69) decongestantColdAllergyMedication: (158/157)\n",
      "(54/69) anticonvulsantMedication: (158/157)\n",
      "(55/69) prophylaticAntibiotics: (158/157)\n",
      "(56/69) antibiotics: (158/157)\n",
      "(57/69) constipationMedication: (158/157)\n",
      "(58/69) bloodPressureMedication: (158/157)\n",
      "(59/69) thyroidMedication: (158/157)\n",
      "(60/69) muscleRelaxants: (158/157)\n",
      "(61/69) botox: (158/157)\n",
      "(62/69) otherMedication: (158/157)\n",
      "(63/69) apneaMonitor: (52/263)\n",
      "(64/69) oxygen: (52/263)\n",
      "(65/69) ventilatorCPAP: (52/263)\n",
      "(66/69) gastrostomyTube: (52/263)\n",
      "(67/69) tracheostomy: (52/263)\n",
      "(68/69) pulseOximeter: (52/263)\n"
     ]
    }
   ],
   "source": [
    "COMBINE_harmonizer.column_info(df_medical_history)"
   ]
  },
  {
   "cell_type": "markdown",
   "id": "3db305ba",
   "metadata": {},
   "source": [
    "## 20-03. Medical Exam"
   ]
  },
  {
   "cell_type": "code",
   "execution_count": 24,
   "id": "14ff4fc9",
   "metadata": {
    "execution": {
     "iopub.execute_input": "2025-05-05T19:36:40.537532Z",
     "iopub.status.busy": "2025-05-05T19:36:40.537371Z",
     "iopub.status.idle": "2025-05-05T19:36:40.541074Z",
     "shell.execute_reply": "2025-05-05T19:36:40.540757Z"
    }
   },
   "outputs": [
    {
     "data": {
      "text/plain": [
       "['weight_cm',\n",
       " 'length_cm',\n",
       " 'headCircumference_cm',\n",
       " 'strabismusRight',\n",
       " 'strabismusLeft',\n",
       " 'nystagmusRight',\n",
       " 'nystagmusLeft',\n",
       " 'rovingEyeMovementRight',\n",
       " 'rovingEyeMovementLeft',\n",
       " 'eyeTrackRight',\n",
       " 'eyeTrackLeft',\n",
       " 'visionRight',\n",
       " 'visionLeft',\n",
       " 'audiologicAssessment',\n",
       " 'audiologicPendingForAssessment',\n",
       " 'visualReinforcementAudiometry',\n",
       " 'VRARight',\n",
       " 'VRALeft',\n",
       " 'VRASoundField',\n",
       " 'ABR',\n",
       " 'ABRRight',\n",
       " 'ABRLeft',\n",
       " 'hearingTestUnknown',\n",
       " 'hearingTestUnknownRight',\n",
       " 'hearingTestUnknownLeft',\n",
       " 'hearingImpaired',\n",
       " 'hearingAidRequirement',\n",
       " 'hearingImplant',\n",
       " 'swallowing',\n",
       " 'dysphagia',\n",
       " 'aspiration',\n",
       " 'abnormalVoice',\n",
       " 'drooling',\n",
       " 'nothingByMouth',\n",
       " 'observedAbnormalMovement',\n",
       " 'observedAbnormalMovementShortJerky',\n",
       " 'observedAbnormalMovementSlowWrithing',\n",
       " 'observedAbnormalMovementTremor',\n",
       " 'passiveMuscleToneNeckTrunk',\n",
       " 'upperExtremityMuscleToneRight',\n",
       " 'upperExtremityMuscleToneLeft',\n",
       " 'lowerExtremityMuscleToneHipKneeRight',\n",
       " 'lowerExtremityMuscleToneHipKneeLeft',\n",
       " 'lowerExtremityMuscleToneAnkleRight',\n",
       " 'lowerExtremityMuscleToneAnkleLeft',\n",
       " 'scissoringLegs',\n",
       " 'handPreference',\n",
       " 'protectiveReaction',\n",
       " 'limbMovementUpperLimb',\n",
       " 'limbMovementLowerLimb',\n",
       " 'deepTendonReflexUpperExtremityRight',\n",
       " 'deepTendonReflexUpperExtremityLeft',\n",
       " 'deepTendonReflexKneeRight',\n",
       " 'deepTendonReflexKneeLeft',\n",
       " 'deepTendonReflexAnkleRight',\n",
       " 'deepTendonReflexAnkleLeft',\n",
       " 'ankleClonusRight',\n",
       " 'ankleClonusLeft',\n",
       " 'plantarReflexRight',\n",
       " 'plantarReflexLeft',\n",
       " 'axisHeadNeck',\n",
       " 'axisTrunk',\n",
       " 'lowerLimbFunction',\n",
       " 'upperLimbFunction',\n",
       " 'handFunctionRight',\n",
       " 'handFunctionLeft',\n",
       " 'neuralNormal',\n",
       " 'generalizedHypotonia',\n",
       " 'hypertonia',\n",
       " 'neuralOther',\n",
       " 'neuralOtherText',\n",
       " 'spasticDiplegia',\n",
       " 'spasticHemiplegiaRight',\n",
       " 'spasticHemiplegiaLeft',\n",
       " 'spasticQuadriplegia',\n",
       " 'spasticTriplegia',\n",
       " 'dystonia',\n",
       " 'athetosis',\n",
       " 'athetosisDystonia',\n",
       " 'hypotoniaAtaxia',\n",
       " 'spasticMonoplegia',\n",
       " 'mixedCerebralPalsy',\n",
       " 'cerebralPalsyUnclassified',\n",
       " 'cerebralPalsyUnclassifiedText',\n",
       " 'cerebralPalsy',\n",
       " 'cerebralPalsyClass',\n",
       " 'abrnomalityAffectingNeuroAssessment',\n",
       " 'abrnomalityAffectingNeuroAssessmentText',\n",
       " 'examWhere',\n",
       " 'examWhereOtherText',\n",
       " 'examQuality',\n",
       " 'examFactorAffecting',\n",
       " 'examFactorAffectingText',\n",
       " 'examCompleteDate']"
      ]
     },
     "execution_count": 24,
     "metadata": {},
     "output_type": "execute_result"
    }
   ],
   "source": [
    "medical_exam_columns = COMBINE_harmonizer.get_columns(\n",
    "    df_data_dict,\n",
    "    COMBINE_harmonizer.CATEGORY_FOLLOW_UP,\n",
    "    COMBINE_harmonizer.SUBCATEGORY_MEDICAL_EXAM)\n",
    "\n",
    "all_medical_exam_columns = id_columns + medical_exam_columns\n",
    "medical_exam_columns"
   ]
  },
  {
   "cell_type": "code",
   "execution_count": 25,
   "id": "70953fb9",
   "metadata": {
    "execution": {
     "iopub.execute_input": "2025-05-05T19:36:40.542574Z",
     "iopub.status.busy": "2025-05-05T19:36:40.542455Z",
     "iopub.status.idle": "2025-05-05T19:36:40.740768Z",
     "shell.execute_reply": "2025-05-05T19:36:40.739479Z"
    }
   },
   "outputs": [
    {
     "name": "stdout",
     "output_type": "stream",
     "text": [
      "(80/99) spasticTriplegia not in df\n",
      "(83/99) athetosisDystonia not in df\n",
      "(85/99) spasticMonoplegia not in df\n",
      "(86/99) mixedCerebralPalsy not in df\n"
     ]
    }
   ],
   "source": [
    "df_medical_exam = COMBINE_harmonizer.valid_columns(df_follow_up.copy(), all_medical_exam_columns, debug_df=False, debug_columns=True)\n",
    "df_medical_exam = COMBINE_harmonizer.postprocess(df_medical_exam)\n",
    "\n",
    "out_filename = os.sep.join([out_dir, '20-03-medical-exam.csv'])\n",
    "df_medical_exam.to_csv(out_filename, index=False)"
   ]
  },
  {
   "cell_type": "markdown",
   "id": "2c6310cc",
   "metadata": {},
   "source": [
    "### 20-03-1. check empty"
   ]
  },
  {
   "cell_type": "code",
   "execution_count": 26,
   "id": "e258bc2e",
   "metadata": {
    "execution": {
     "iopub.execute_input": "2025-05-05T19:36:40.748221Z",
     "iopub.status.busy": "2025-05-05T19:36:40.747187Z",
     "iopub.status.idle": "2025-05-05T19:36:40.779703Z",
     "shell.execute_reply": "2025-05-05T19:36:40.779217Z"
    }
   },
   "outputs": [
    {
     "name": "stdout",
     "output_type": "stream",
     "text": [
      "(0/96) column: center (315 / 0)\n",
      "(1/96) column: subjectID (315 / 0)\n",
      "(2/96) column: uniqueID (315 / 0)\n",
      "(3/96) column: followupCenter (315 / 0)\n",
      "(4/96) column: followupID (315 / 0)\n",
      "(5/96) column: siteID (315 / 0)\n",
      "(6/96) column: audiologicAssessment (285 / 30)\n",
      "(7/96) column: audiologicPendingForAssessment (152 / 163)\n",
      "(8/96) column: visualReinforcementAudiometry (90 / 225)\n",
      "(9/96) column: ABR (90 / 225)\n",
      "(10/96) column: hearingTestUnknown (133 / 182)\n",
      "(11/96) column: dysphagia (285 / 30)\n",
      "(12/96) column: aspiration (285 / 30)\n",
      "(13/96) column: abnormalVoice (285 / 30)\n",
      "(14/96) column: drooling (285 / 30)\n",
      "(15/96) column: nothingByMouth (285 / 30)\n",
      "(16/96) column: observedAbnormalMovement (285 / 30)\n",
      "(17/96) column: observedAbnormalMovementShortJerky (19 / 296)\n",
      "(18/96) column: observedAbnormalMovementSlowWrithing (19 / 296)\n",
      "(19/96) column: observedAbnormalMovementTremor (19 / 296)\n",
      "(20/96) column: scissoringLegs (285 / 30)\n",
      "(21/96) column: neuralNormal (285 / 30)\n",
      "(22/96) column: generalizedHypotonia (54 / 261)\n",
      "(23/96) column: hypertonia (54 / 261)\n",
      "(24/96) column: neuralOther (54 / 261)\n",
      "(25/96) column: neuralOtherText (17 / 298)\n",
      "(26/96) column: spasticQuadriplegia (55 / 260)\n",
      "(27/96) column: spasticDiplegia (55 / 260)\n",
      "(28/96) column: spasticHemiplegiaRight (55 / 260)\n",
      "(29/96) column: spasticHemiplegiaLeft (55 / 260)\n",
      "(30/96) column: dystonia (55 / 260)\n",
      "(31/96) column: athetosis (55 / 260)\n",
      "(32/96) column: hypotoniaAtaxia (55 / 260)\n",
      "(33/96) column: cerebralPalsyUnclassified (55 / 260)\n",
      "(34/96) column: cerebralPalsyUnclassifiedText (4 / 311)\n",
      "(35/96) column: cerebralPalsy (285 / 30)\n",
      "(36/96) column: cerebralPalsyClass (44 / 271)\n",
      "(37/96) column: abrnomalityAffectingNeuroAssessment (285 / 30)\n",
      "(38/96) column: abrnomalityAffectingNeuroAssessmentText (22 / 293)\n",
      "(39/96) column: examWhereOtherText (7 / 308)\n",
      "(40/96) column: examFactorAffectingText (1 / 314)\n",
      "(41/96) column: weight_cm (284 / 31)\n",
      "(42/96) column: length_cm (280 / 35)\n",
      "(43/96) column: headCircumference_cm (280 / 35)\n",
      "(44/96) column: strabismusRight (283 / 32)\n",
      "(45/96) column: strabismusLeft (284 / 31)\n",
      "(46/96) column: nystagmusRight (284 / 31)\n",
      "(47/96) column: nystagmusLeft (284 / 31)\n",
      "(48/96) column: rovingEyeMovementRight (284 / 31)\n",
      "(49/96) column: rovingEyeMovementLeft (284 / 31)\n",
      "(50/96) column: eyeTrackRight (284 / 31)\n",
      "(51/96) column: eyeTrackLeft (284 / 31)\n",
      "(52/96) column: visionRight (285 / 30)\n",
      "(53/96) column: visionLeft (285 / 30)\n",
      "(54/96) column: VRARight (28 / 287)\n",
      "(55/96) column: VRALeft (28 / 287)\n",
      "(56/96) column: VRASoundField (33 / 282)\n",
      "(57/96) column: ABRRight (32 / 283)\n",
      "(58/96) column: ABRLeft (32 / 283)\n",
      "(59/96) column: hearingTestUnknownRight (43 / 272)\n",
      "(60/96) column: hearingTestUnknownLeft (43 / 272)\n",
      "(61/96) column: hearingImpaired (285 / 30)\n",
      "(62/96) column: hearingAidRequirement (285 / 30)\n",
      "(63/96) column: hearingImplant (285 / 30)\n",
      "(64/96) column: swallowing (285 / 30)\n",
      "(65/96) column: passiveMuscleToneNeckTrunk (285 / 30)\n",
      "(66/96) column: upperExtremityMuscleToneRight (285 / 30)\n",
      "(67/96) column: upperExtremityMuscleToneLeft (285 / 30)\n",
      "(68/96) column: lowerExtremityMuscleToneHipKneeRight (285 / 30)\n",
      "(69/96) column: lowerExtremityMuscleToneHipKneeLeft (285 / 30)\n",
      "(70/96) column: lowerExtremityMuscleToneAnkleRight (285 / 30)\n",
      "(71/96) column: lowerExtremityMuscleToneAnkleLeft (285 / 30)\n",
      "(72/96) column: handPreference (284 / 31)\n",
      "(73/96) column: protectiveReaction (282 / 33)\n",
      "(74/96) column: limbMovementUpperLimb (285 / 30)\n",
      "(75/96) column: limbMovementLowerLimb (285 / 30)\n",
      "(76/96) column: deepTendonReflexUpperExtremityRight (275 / 40)\n",
      "(77/96) column: deepTendonReflexUpperExtremityLeft (275 / 40)\n",
      "(78/96) column: deepTendonReflexKneeRight (281 / 34)\n",
      "(79/96) column: deepTendonReflexKneeLeft (281 / 34)\n",
      "(80/96) column: deepTendonReflexAnkleRight (280 / 35)\n",
      "(81/96) column: deepTendonReflexAnkleLeft (280 / 35)\n",
      "(82/96) column: ankleClonusRight (284 / 31)\n",
      "(83/96) column: ankleClonusLeft (284 / 31)\n",
      "(84/96) column: plantarReflexRight (285 / 30)\n",
      "(85/96) column: plantarReflexLeft (285 / 30)\n",
      "(86/96) column: axisHeadNeck (285 / 30)\n",
      "(87/96) column: axisTrunk (285 / 30)\n",
      "(88/96) column: lowerLimbFunction (285 / 30)\n",
      "(89/96) column: upperLimbFunction (285 / 30)\n",
      "(90/96) column: handFunctionRight (285 / 30)\n",
      "(91/96) column: handFunctionLeft (285 / 30)\n",
      "(92/96) column: examWhere (285 / 30)\n",
      "(93/96) column: examQuality (285 / 30)\n",
      "(94/96) column: examFactorAffecting (30 / 285)\n",
      "(95/96) column: examCompleteDate (285 / 30)\n"
     ]
    }
   ],
   "source": [
    "COMBINE_harmonizer.check_empty(df_medical_exam)"
   ]
  },
  {
   "cell_type": "code",
   "execution_count": 27,
   "id": "8698aa86",
   "metadata": {
    "execution": {
     "iopub.execute_input": "2025-05-05T19:36:40.782129Z",
     "iopub.status.busy": "2025-05-05T19:36:40.781909Z",
     "iopub.status.idle": "2025-05-05T19:36:40.791649Z",
     "shell.execute_reply": "2025-05-05T19:36:40.791285Z"
    }
   },
   "outputs": [
    {
     "name": "stdout",
     "output_type": "stream",
     "text": [
      "(0/96) center: (315/0)\n",
      "(1/96) subjectID: (315/0)\n",
      "(2/96) uniqueID: (315/0)\n",
      "(3/96) followupCenter: (315/0)\n",
      "(4/96) followupID: (315/0)\n",
      "(5/96) siteID: (315/0)\n",
      "(6/96) audiologicAssessment: (285/30)\n",
      "(7/96) audiologicPendingForAssessment: (152/163)\n",
      "(8/96) visualReinforcementAudiometry: (90/225)\n",
      "(9/96) ABR: (90/225)\n",
      "(10/96) hearingTestUnknown: (133/182)\n",
      "(11/96) dysphagia: (285/30)\n",
      "(12/96) aspiration: (285/30)\n",
      "(13/96) abnormalVoice: (285/30)\n",
      "(14/96) drooling: (285/30)\n",
      "(15/96) nothingByMouth: (285/30)\n",
      "(16/96) observedAbnormalMovement: (285/30)\n",
      "(17/96) observedAbnormalMovementShortJerky: (19/296)\n",
      "(18/96) observedAbnormalMovementSlowWrithing: (19/296)\n",
      "(19/96) observedAbnormalMovementTremor: (19/296)\n",
      "(20/96) scissoringLegs: (285/30)\n",
      "(21/96) neuralNormal: (285/30)\n",
      "(22/96) generalizedHypotonia: (54/261)\n",
      "(23/96) hypertonia: (54/261)\n",
      "(24/96) neuralOther: (54/261)\n",
      "(25/96) neuralOtherText: (17/298)\n",
      "(26/96) spasticQuadriplegia: (55/260)\n",
      "(27/96) spasticDiplegia: (55/260)\n",
      "(28/96) spasticHemiplegiaRight: (55/260)\n",
      "(29/96) spasticHemiplegiaLeft: (55/260)\n",
      "(30/96) dystonia: (55/260)\n",
      "(31/96) athetosis: (55/260)\n",
      "(32/96) hypotoniaAtaxia: (55/260)\n",
      "(33/96) cerebralPalsyUnclassified: (55/260)\n",
      "(34/96) cerebralPalsyUnclassifiedText: (4/311)\n",
      "(35/96) cerebralPalsy: (285/30)\n",
      "(36/96) cerebralPalsyClass: (44/271)\n",
      "(37/96) abrnomalityAffectingNeuroAssessment: (285/30)\n",
      "(38/96) abrnomalityAffectingNeuroAssessmentText: (22/293)\n",
      "(39/96) examWhereOtherText: (7/308)\n",
      "(40/96) examFactorAffectingText: (1/314)\n",
      "(41/96) weight_cm: (284/31)\n",
      "(42/96) length_cm: (280/35)\n",
      "(43/96) headCircumference_cm: (280/35)\n",
      "(44/96) strabismusRight: (283/32)\n",
      "(45/96) strabismusLeft: (284/31)\n",
      "(46/96) nystagmusRight: (284/31)\n",
      "(47/96) nystagmusLeft: (284/31)\n",
      "(48/96) rovingEyeMovementRight: (284/31)\n",
      "(49/96) rovingEyeMovementLeft: (284/31)\n",
      "(50/96) eyeTrackRight: (284/31)\n",
      "(51/96) eyeTrackLeft: (284/31)\n",
      "(52/96) visionRight: (285/30)\n",
      "(53/96) visionLeft: (285/30)\n",
      "(54/96) VRARight: (28/287)\n",
      "(55/96) VRALeft: (28/287)\n",
      "(56/96) VRASoundField: (33/282)\n",
      "(57/96) ABRRight: (32/283)\n",
      "(58/96) ABRLeft: (32/283)\n",
      "(59/96) hearingTestUnknownRight: (43/272)\n",
      "(60/96) hearingTestUnknownLeft: (43/272)\n",
      "(61/96) hearingImpaired: (285/30)\n",
      "(62/96) hearingAidRequirement: (285/30)\n",
      "(63/96) hearingImplant: (285/30)\n",
      "(64/96) swallowing: (285/30)\n",
      "(65/96) passiveMuscleToneNeckTrunk: (285/30)\n",
      "(66/96) upperExtremityMuscleToneRight: (285/30)\n",
      "(67/96) upperExtremityMuscleToneLeft: (285/30)\n",
      "(68/96) lowerExtremityMuscleToneHipKneeRight: (285/30)\n",
      "(69/96) lowerExtremityMuscleToneHipKneeLeft: (285/30)\n",
      "(70/96) lowerExtremityMuscleToneAnkleRight: (285/30)\n",
      "(71/96) lowerExtremityMuscleToneAnkleLeft: (285/30)\n",
      "(72/96) handPreference: (284/31)\n",
      "(73/96) protectiveReaction: (282/33)\n",
      "(74/96) limbMovementUpperLimb: (285/30)\n",
      "(75/96) limbMovementLowerLimb: (285/30)\n",
      "(76/96) deepTendonReflexUpperExtremityRight: (275/40)\n",
      "(77/96) deepTendonReflexUpperExtremityLeft: (275/40)\n",
      "(78/96) deepTendonReflexKneeRight: (281/34)\n",
      "(79/96) deepTendonReflexKneeLeft: (281/34)\n",
      "(80/96) deepTendonReflexAnkleRight: (280/35)\n",
      "(81/96) deepTendonReflexAnkleLeft: (280/35)\n",
      "(82/96) ankleClonusRight: (284/31)\n",
      "(83/96) ankleClonusLeft: (284/31)\n",
      "(84/96) plantarReflexRight: (285/30)\n",
      "(85/96) plantarReflexLeft: (285/30)\n",
      "(86/96) axisHeadNeck: (285/30)\n",
      "(87/96) axisTrunk: (285/30)\n",
      "(88/96) lowerLimbFunction: (285/30)\n",
      "(89/96) upperLimbFunction: (285/30)\n",
      "(90/96) handFunctionRight: (285/30)\n",
      "(91/96) handFunctionLeft: (285/30)\n",
      "(92/96) examWhere: (285/30)\n",
      "(93/96) examQuality: (285/30)\n",
      "(94/96) examFactorAffecting: (30/285)\n",
      "(95/96) examCompleteDate: (285/30)\n"
     ]
    }
   ],
   "source": [
    "COMBINE_harmonizer.column_info(df_medical_exam)"
   ]
  },
  {
   "cell_type": "markdown",
   "id": "345f0704",
   "metadata": {},
   "source": [
    "## 20-04. Bayley-III"
   ]
  },
  {
   "cell_type": "code",
   "execution_count": 28,
   "id": "89715d99",
   "metadata": {
    "execution": {
     "iopub.execute_input": "2025-05-05T19:36:40.793707Z",
     "iopub.status.busy": "2025-05-05T19:36:40.793544Z",
     "iopub.status.idle": "2025-05-05T19:36:40.797424Z",
     "shell.execute_reply": "2025-05-05T19:36:40.797051Z"
    }
   },
   "outputs": [
    {
     "data": {
      "text/plain": [
       "['BayleyIIICognitiveSubtest',\n",
       " 'BayleyIIIReasonNoSuccessCognitiveSubtest',\n",
       " 'BayleyIIIReasonNoSuccessCognitiveSubtestText',\n",
       " 'BayleyIIILanguageReceptiveSubtest',\n",
       " 'BayleyIIIReasonNoSuccessLanguageReceptiveSubtest',\n",
       " 'BayleyIIIReasonNoSuccessLanguageReceptiveSubtestText',\n",
       " 'BayleyIIILanguageExpressiveSubtest',\n",
       " 'BayleyIIIReasonNoSuccessLanguageExpressiveSubtest',\n",
       " 'BayleyIIIReasonNoSuccessLanguageExpressiveSubtestText',\n",
       " 'BayleyIIIMotorFineSubtest',\n",
       " 'BayleyIIIReasonNoSuccessMotorFineSubtest',\n",
       " 'BayleyIIIReasonNoSuccessMotorFineSubtestText',\n",
       " 'BayleyIIIMotorGrossSubtest',\n",
       " 'BayleyIIIReasonNoSuccessMotorGrossSubtest',\n",
       " 'BayleyIIIReasonNoSuccessMotorGrossSubtestText',\n",
       " 'BayleyIIIAdjustedAgeForCognitiveTest',\n",
       " 'BayleyIIIAdjustedAgeForReceptiveCommunication',\n",
       " 'BayleyIIIAdjustedAgeForExpressiveCommunication',\n",
       " 'BayleyIIIAdjustedAgeForMotorFineSubtest',\n",
       " 'BayleyIIIAdjustedAgeForMotorGrossSubtest',\n",
       " 'BayleyIIICognitiveRaw',\n",
       " 'BayleyIIICognitiveScale',\n",
       " 'BayleyIIICognitiveComposite',\n",
       " 'BayleyIIIReceptiveRaw',\n",
       " 'BayleyIIIReceptiveScale',\n",
       " 'BayleyIIIExpressiveRaw',\n",
       " 'BayleyIIIExpressiveScale',\n",
       " 'BayleyIIISumLanguageScore',\n",
       " 'BayleyIIILanguageComposite',\n",
       " 'BayleyIIIMotorFineRaw',\n",
       " 'BayleyIIIMotorFineScale',\n",
       " 'BayleyIIIMotorGrossRaw',\n",
       " 'BayleyIIIMotorGrossScale',\n",
       " 'BayleyIIISumMotorScore',\n",
       " 'BayleyIIIMotorComposite',\n",
       " 'BayleyIIIInEnglish',\n",
       " 'BayleyIIIRequireInterpreter',\n",
       " 'BayleyIIIAdministratorMaskedToChildHistory',\n",
       " 'BayleyIIIWhere',\n",
       " 'BayleyIIIDate']"
      ]
     },
     "execution_count": 28,
     "metadata": {},
     "output_type": "execute_result"
    }
   ],
   "source": [
    "bayley_iii_columns = COMBINE_harmonizer.get_columns(\n",
    "    df_data_dict,\n",
    "    COMBINE_harmonizer.CATEGORY_FOLLOW_UP,\n",
    "    COMBINE_harmonizer.SUBCATEGORY_BAYLEY_III)\n",
    "\n",
    "all_bayley_iii_columns = id_columns + bayley_iii_columns\n",
    "bayley_iii_columns"
   ]
  },
  {
   "cell_type": "code",
   "execution_count": 29,
   "id": "179989fe",
   "metadata": {
    "execution": {
     "iopub.execute_input": "2025-05-05T19:36:40.799125Z",
     "iopub.status.busy": "2025-05-05T19:36:40.798998Z",
     "iopub.status.idle": "2025-05-05T19:36:40.897254Z",
     "shell.execute_reply": "2025-05-05T19:36:40.896617Z"
    }
   },
   "outputs": [],
   "source": [
    "df_bayley_iii = COMBINE_harmonizer.valid_columns(df_follow_up.copy(), all_bayley_iii_columns, debug_df=False, debug_columns=True)\n",
    "df_bayley_iii = COMBINE_harmonizer.postprocess(df_bayley_iii)\n",
    "\n",
    "out_filename = os.sep.join([out_dir, '20-04-bayley-iii.csv'])\n",
    "df_bayley_iii.to_csv(out_filename, index=False)"
   ]
  },
  {
   "cell_type": "markdown",
   "id": "d7898dd6",
   "metadata": {},
   "source": [
    "### 20-04-1. check empty"
   ]
  },
  {
   "cell_type": "code",
   "execution_count": 30,
   "id": "b3b6acea",
   "metadata": {
    "execution": {
     "iopub.execute_input": "2025-05-05T19:36:40.900240Z",
     "iopub.status.busy": "2025-05-05T19:36:40.900002Z",
     "iopub.status.idle": "2025-05-05T19:36:40.909866Z",
     "shell.execute_reply": "2025-05-05T19:36:40.909473Z"
    }
   },
   "outputs": [
    {
     "name": "stdout",
     "output_type": "stream",
     "text": [
      "(0/46) column: center (315 / 0)\n",
      "(1/46) column: subjectID (315 / 0)\n",
      "(2/46) column: uniqueID (315 / 0)\n",
      "(3/46) column: followupCenter (315 / 0)\n",
      "(4/46) column: followupID (315 / 0)\n",
      "(5/46) column: siteID (315 / 0)\n",
      "(6/46) column: BayleyIIICognitiveSubtest (287 / 28)\n",
      "(7/46) column: BayleyIIIReasonNoSuccessCognitiveSubtestText (0 / 315)\n",
      "(8/46) column: BayleyIIILanguageReceptiveSubtest (287 / 28)\n",
      "(9/46) column: BayleyIIIReasonNoSuccessLanguageReceptiveSubtestText (0 / 315)\n",
      "(10/46) column: BayleyIIILanguageExpressiveSubtest (287 / 28)\n",
      "(11/46) column: BayleyIIIReasonNoSuccessLanguageExpressiveSubtestText (0 / 315)\n",
      "(12/46) column: BayleyIIIMotorFineSubtest (287 / 28)\n",
      "(13/46) column: BayleyIIIReasonNoSuccessMotorFineSubtestText (0 / 315)\n",
      "(14/46) column: BayleyIIIMotorGrossSubtest (287 / 28)\n",
      "(15/46) column: BayleyIIIReasonNoSuccessMotorGrossSubtestText (0 / 315)\n",
      "(16/46) column: BayleyIIIInEnglish (283 / 32)\n",
      "(17/46) column: BayleyIIIRequireInterpreter (27 / 288)\n",
      "(18/46) column: BayleyIIIAdministratorMaskedToChildHistory (283 / 32)\n",
      "(19/46) column: BayleyIIIReasonNoSuccessCognitiveSubtest (17 / 298)\n",
      "(20/46) column: BayleyIIIReasonNoSuccessLanguageReceptiveSubtest (22 / 293)\n",
      "(21/46) column: BayleyIIIReasonNoSuccessLanguageExpressiveSubtest (24 / 291)\n",
      "(22/46) column: BayleyIIIReasonNoSuccessMotorFineSubtest (18 / 297)\n",
      "(23/46) column: BayleyIIIReasonNoSuccessMotorGrossSubtest (21 / 294)\n",
      "(24/46) column: BayleyIIIAdjustedAgeForCognitiveTest (283 / 32)\n",
      "(25/46) column: BayleyIIIAdjustedAgeForReceptiveCommunication (278 / 37)\n",
      "(26/46) column: BayleyIIIAdjustedAgeForExpressiveCommunication (276 / 39)\n",
      "(27/46) column: BayleyIIIAdjustedAgeForMotorFineSubtest (282 / 33)\n",
      "(28/46) column: BayleyIIIAdjustedAgeForMotorGrossSubtest (279 / 36)\n",
      "(29/46) column: BayleyIIICognitiveRaw (269 / 46)\n",
      "(30/46) column: BayleyIIICognitiveScale (270 / 45)\n",
      "(31/46) column: BayleyIIICognitiveComposite (283 / 32)\n",
      "(32/46) column: BayleyIIIReceptiveRaw (264 / 51)\n",
      "(33/46) column: BayleyIIIReceptiveScale (265 / 50)\n",
      "(34/46) column: BayleyIIIExpressiveRaw (262 / 53)\n",
      "(35/46) column: BayleyIIIExpressiveScale (263 / 52)\n",
      "(36/46) column: BayleyIIISumLanguageScore (262 / 53)\n",
      "(37/46) column: BayleyIIILanguageComposite (275 / 40)\n",
      "(38/46) column: BayleyIIIMotorFineRaw (268 / 47)\n",
      "(39/46) column: BayleyIIIMotorFineScale (269 / 46)\n",
      "(40/46) column: BayleyIIIMotorGrossRaw (264 / 51)\n",
      "(41/46) column: BayleyIIIMotorGrossScale (265 / 50)\n",
      "(42/46) column: BayleyIIISumMotorScore (264 / 51)\n",
      "(43/46) column: BayleyIIIMotorComposite (277 / 38)\n",
      "(44/46) column: BayleyIIIWhere (282 / 33)\n",
      "(45/46) column: BayleyIIIDate (283 / 32)\n"
     ]
    }
   ],
   "source": [
    "COMBINE_harmonizer.check_empty(df_bayley_iii)"
   ]
  },
  {
   "cell_type": "code",
   "execution_count": 31,
   "id": "5bec07d7",
   "metadata": {
    "execution": {
     "iopub.execute_input": "2025-05-05T19:36:40.912079Z",
     "iopub.status.busy": "2025-05-05T19:36:40.911885Z",
     "iopub.status.idle": "2025-05-05T19:36:40.917687Z",
     "shell.execute_reply": "2025-05-05T19:36:40.917376Z"
    }
   },
   "outputs": [
    {
     "name": "stdout",
     "output_type": "stream",
     "text": [
      "(0/46) center: (315/0)\n",
      "(1/46) subjectID: (315/0)\n",
      "(2/46) uniqueID: (315/0)\n",
      "(3/46) followupCenter: (315/0)\n",
      "(4/46) followupID: (315/0)\n",
      "(5/46) siteID: (315/0)\n",
      "(6/46) BayleyIIICognitiveSubtest: (287/28)\n",
      "(7/46) BayleyIIIReasonNoSuccessCognitiveSubtestText: (0/315)\n",
      "(8/46) BayleyIIILanguageReceptiveSubtest: (287/28)\n",
      "(9/46) BayleyIIIReasonNoSuccessLanguageReceptiveSubtestText: (0/315)\n",
      "(10/46) BayleyIIILanguageExpressiveSubtest: (287/28)\n",
      "(11/46) BayleyIIIReasonNoSuccessLanguageExpressiveSubtestText: (0/315)\n",
      "(12/46) BayleyIIIMotorFineSubtest: (287/28)\n",
      "(13/46) BayleyIIIReasonNoSuccessMotorFineSubtestText: (0/315)\n",
      "(14/46) BayleyIIIMotorGrossSubtest: (287/28)\n",
      "(15/46) BayleyIIIReasonNoSuccessMotorGrossSubtestText: (0/315)\n",
      "(16/46) BayleyIIIInEnglish: (283/32)\n",
      "(17/46) BayleyIIIRequireInterpreter: (27/288)\n",
      "(18/46) BayleyIIIAdministratorMaskedToChildHistory: (283/32)\n",
      "(19/46) BayleyIIIReasonNoSuccessCognitiveSubtest: (17/298)\n",
      "(20/46) BayleyIIIReasonNoSuccessLanguageReceptiveSubtest: (22/293)\n",
      "(21/46) BayleyIIIReasonNoSuccessLanguageExpressiveSubtest: (24/291)\n",
      "(22/46) BayleyIIIReasonNoSuccessMotorFineSubtest: (18/297)\n",
      "(23/46) BayleyIIIReasonNoSuccessMotorGrossSubtest: (21/294)\n",
      "(24/46) BayleyIIIAdjustedAgeForCognitiveTest: (283/32)\n",
      "(25/46) BayleyIIIAdjustedAgeForReceptiveCommunication: (278/37)\n",
      "(26/46) BayleyIIIAdjustedAgeForExpressiveCommunication: (276/39)\n",
      "(27/46) BayleyIIIAdjustedAgeForMotorFineSubtest: (282/33)\n",
      "(28/46) BayleyIIIAdjustedAgeForMotorGrossSubtest: (279/36)\n",
      "(29/46) BayleyIIICognitiveRaw: (269/46)\n",
      "(30/46) BayleyIIICognitiveScale: (270/45)\n",
      "(31/46) BayleyIIICognitiveComposite: (283/32)\n",
      "(32/46) BayleyIIIReceptiveRaw: (264/51)\n",
      "(33/46) BayleyIIIReceptiveScale: (265/50)\n",
      "(34/46) BayleyIIIExpressiveRaw: (262/53)\n",
      "(35/46) BayleyIIIExpressiveScale: (263/52)\n",
      "(36/46) BayleyIIISumLanguageScore: (262/53)\n",
      "(37/46) BayleyIIILanguageComposite: (275/40)\n",
      "(38/46) BayleyIIIMotorFineRaw: (268/47)\n",
      "(39/46) BayleyIIIMotorFineScale: (269/46)\n",
      "(40/46) BayleyIIIMotorGrossRaw: (264/51)\n",
      "(41/46) BayleyIIIMotorGrossScale: (265/50)\n",
      "(42/46) BayleyIIISumMotorScore: (264/51)\n",
      "(43/46) BayleyIIIMotorComposite: (277/38)\n",
      "(44/46) BayleyIIIWhere: (282/33)\n",
      "(45/46) BayleyIIIDate: (283/32)\n"
     ]
    }
   ],
   "source": [
    "COMBINE_harmonizer.column_info(df_bayley_iii)"
   ]
  },
  {
   "cell_type": "markdown",
   "id": "56fd7ccb",
   "metadata": {},
   "source": [
    "## 20-05. GMFCS"
   ]
  },
  {
   "cell_type": "code",
   "execution_count": 32,
   "id": "9dd3c597",
   "metadata": {
    "execution": {
     "iopub.execute_input": "2025-05-05T19:36:40.919627Z",
     "iopub.status.busy": "2025-05-05T19:36:40.919462Z",
     "iopub.status.idle": "2025-05-05T19:36:40.923113Z",
     "shell.execute_reply": "2025-05-05T19:36:40.922788Z"
    }
   },
   "outputs": [
    {
     "data": {
      "text/plain": [
       "['grossMotorFunctionLevel']"
      ]
     },
     "execution_count": 32,
     "metadata": {},
     "output_type": "execute_result"
    }
   ],
   "source": [
    "gmfcs_columns = COMBINE_harmonizer.get_columns(\n",
    "    df_data_dict,\n",
    "    COMBINE_harmonizer.CATEGORY_FOLLOW_UP,\n",
    "    COMBINE_harmonizer.SUBCATEGORY_GMFCS)\n",
    "\n",
    "all_gmfcs_columns = id_columns + gmfcs_columns\n",
    "gmfcs_columns"
   ]
  },
  {
   "cell_type": "code",
   "execution_count": 33,
   "id": "1909c037",
   "metadata": {
    "execution": {
     "iopub.execute_input": "2025-05-05T19:36:40.924721Z",
     "iopub.status.busy": "2025-05-05T19:36:40.924611Z",
     "iopub.status.idle": "2025-05-05T19:36:41.026346Z",
     "shell.execute_reply": "2025-05-05T19:36:41.025810Z"
    }
   },
   "outputs": [],
   "source": [
    "df_gmfcs = COMBINE_harmonizer.valid_columns(df_follow_up.copy(), all_gmfcs_columns, debug_df=False, debug_columns=True)\n",
    "df_gmfcs = COMBINE_harmonizer.postprocess(df_gmfcs)\n",
    "\n",
    "out_filename = os.sep.join([out_dir, '20-05-gmfcs.csv'])\n",
    "df_gmfcs.to_csv(out_filename, index=False)"
   ]
  },
  {
   "cell_type": "markdown",
   "id": "141c6b85",
   "metadata": {},
   "source": [
    "### 20-05-1. check empty"
   ]
  },
  {
   "cell_type": "code",
   "execution_count": 34,
   "id": "438aaecd",
   "metadata": {
    "execution": {
     "iopub.execute_input": "2025-05-05T19:36:41.028736Z",
     "iopub.status.busy": "2025-05-05T19:36:41.028507Z",
     "iopub.status.idle": "2025-05-05T19:36:41.032203Z",
     "shell.execute_reply": "2025-05-05T19:36:41.031843Z"
    }
   },
   "outputs": [
    {
     "name": "stdout",
     "output_type": "stream",
     "text": [
      "(0/7) column: center (315 / 0)\n",
      "(1/7) column: subjectID (315 / 0)\n",
      "(2/7) column: uniqueID (315 / 0)\n",
      "(3/7) column: followupCenter (315 / 0)\n",
      "(4/7) column: followupID (315 / 0)\n",
      "(5/7) column: siteID (315 / 0)\n",
      "(6/7) column: grossMotorFunctionLevel (285 / 30)\n"
     ]
    }
   ],
   "source": [
    "COMBINE_harmonizer.check_empty(df_gmfcs)"
   ]
  },
  {
   "cell_type": "code",
   "execution_count": 35,
   "id": "926e20e5",
   "metadata": {
    "execution": {
     "iopub.execute_input": "2025-05-05T19:36:41.033939Z",
     "iopub.status.busy": "2025-05-05T19:36:41.033807Z",
     "iopub.status.idle": "2025-05-05T19:36:41.036772Z",
     "shell.execute_reply": "2025-05-05T19:36:41.036471Z"
    }
   },
   "outputs": [
    {
     "name": "stdout",
     "output_type": "stream",
     "text": [
      "(0/7) center: (315/0)\n",
      "(1/7) subjectID: (315/0)\n",
      "(2/7) uniqueID: (315/0)\n",
      "(3/7) followupCenter: (315/0)\n",
      "(4/7) followupID: (315/0)\n",
      "(5/7) siteID: (315/0)\n",
      "(6/7) grossMotorFunctionLevel: (285/30)\n"
     ]
    }
   ],
   "source": [
    "COMBINE_harmonizer.column_info(df_gmfcs)"
   ]
  },
  {
   "cell_type": "markdown",
   "id": "77d367b2",
   "metadata": {},
   "source": [
    "## 20-06. Status"
   ]
  },
  {
   "cell_type": "code",
   "execution_count": 36,
   "id": "9b953dad",
   "metadata": {
    "execution": {
     "iopub.execute_input": "2025-05-05T19:36:41.038425Z",
     "iopub.status.busy": "2025-05-05T19:36:41.038280Z",
     "iopub.status.idle": "2025-05-05T19:36:41.041563Z",
     "shell.execute_reply": "2025-05-05T19:36:41.041190Z"
    }
   },
   "outputs": [
    {
     "data": {
      "text/plain": [
       "['statusVisitDate',\n",
       " 'statusBirthDate',\n",
       " 'childFinalStatus',\n",
       " 'deathDate',\n",
       " 'deathCause',\n",
       " 'reasonLossFollowUp',\n",
       " 'firstVisitDate',\n",
       " 'finalVisitDate']"
      ]
     },
     "execution_count": 36,
     "metadata": {},
     "output_type": "execute_result"
    }
   ],
   "source": [
    "status_columns = COMBINE_harmonizer.get_columns(\n",
    "    df_data_dict,\n",
    "    COMBINE_harmonizer.CATEGORY_FOLLOW_UP,\n",
    "    COMBINE_harmonizer.SUBCATEGORY_STATUS)\n",
    "\n",
    "all_status_columns = id_columns + status_columns\n",
    "status_columns"
   ]
  },
  {
   "cell_type": "code",
   "execution_count": 37,
   "id": "f9f97dc7",
   "metadata": {
    "execution": {
     "iopub.execute_input": "2025-05-05T19:36:41.043164Z",
     "iopub.status.busy": "2025-05-05T19:36:41.042990Z",
     "iopub.status.idle": "2025-05-05T19:36:41.146254Z",
     "shell.execute_reply": "2025-05-05T19:36:41.144794Z"
    }
   },
   "outputs": [],
   "source": [
    "df_status = COMBINE_harmonizer.valid_columns(df_follow_up.copy(), all_status_columns, debug_df=False, debug_columns=True)\n",
    "df_status = COMBINE_harmonizer.postprocess(df_status)\n",
    "\n",
    "out_filename = os.sep.join([out_dir, '20-06-status.csv'])\n",
    "df_status.to_csv(out_filename, index=False)"
   ]
  },
  {
   "cell_type": "markdown",
   "id": "3ade11d1",
   "metadata": {},
   "source": [
    "### 20-06-1. check empty"
   ]
  },
  {
   "cell_type": "code",
   "execution_count": 38,
   "id": "65cf2a89",
   "metadata": {
    "execution": {
     "iopub.execute_input": "2025-05-05T19:36:41.153206Z",
     "iopub.status.busy": "2025-05-05T19:36:41.151562Z",
     "iopub.status.idle": "2025-05-05T19:36:41.163499Z",
     "shell.execute_reply": "2025-05-05T19:36:41.162547Z"
    }
   },
   "outputs": [
    {
     "name": "stdout",
     "output_type": "stream",
     "text": [
      "(0/14) column: center (315 / 0)\n",
      "(1/14) column: subjectID (315 / 0)\n",
      "(2/14) column: uniqueID (315 / 0)\n",
      "(3/14) column: followupCenter (315 / 0)\n",
      "(4/14) column: followupID (315 / 0)\n",
      "(5/14) column: siteID (315 / 0)\n",
      "(6/14) column: statusBirthDate (315 / 0)\n",
      "(7/14) column: statusVisitDate (0 / 315)\n",
      "(8/14) column: childFinalStatus (315 / 0)\n",
      "(9/14) column: deathDate (7 / 308)\n",
      "(10/14) column: deathCause (7 / 308)\n",
      "(11/14) column: reasonLossFollowUp (21 / 294)\n",
      "(12/14) column: firstVisitDate (291 / 24)\n",
      "(13/14) column: finalVisitDate (292 / 23)\n"
     ]
    }
   ],
   "source": [
    "COMBINE_harmonizer.check_empty(df_status)"
   ]
  },
  {
   "cell_type": "code",
   "execution_count": 39,
   "id": "512ae495",
   "metadata": {
    "execution": {
     "iopub.execute_input": "2025-05-05T19:36:41.166727Z",
     "iopub.status.busy": "2025-05-05T19:36:41.166413Z",
     "iopub.status.idle": "2025-05-05T19:36:41.171832Z",
     "shell.execute_reply": "2025-05-05T19:36:41.171285Z"
    }
   },
   "outputs": [
    {
     "name": "stdout",
     "output_type": "stream",
     "text": [
      "(0/14) center: (315/0)\n",
      "(1/14) subjectID: (315/0)\n",
      "(2/14) uniqueID: (315/0)\n",
      "(3/14) followupCenter: (315/0)\n",
      "(4/14) followupID: (315/0)\n",
      "(5/14) siteID: (315/0)\n",
      "(6/14) statusBirthDate: (315/0)\n",
      "(7/14) statusVisitDate: (0/315)\n",
      "(8/14) childFinalStatus: (315/0)\n",
      "(9/14) deathDate: (7/308)\n",
      "(10/14) deathCause: (7/308)\n",
      "(11/14) reasonLossFollowUp: (21/294)\n",
      "(12/14) firstVisitDate: (291/24)\n",
      "(13/14) finalVisitDate: (292/23)\n"
     ]
    }
   ],
   "source": [
    "COMBINE_harmonizer.column_info(df_status)"
   ]
  },
  {
   "cell_type": "markdown",
   "id": "5962827b",
   "metadata": {},
   "source": [
    "## 20-08. Lost Follow-up"
   ]
  },
  {
   "cell_type": "code",
   "execution_count": 40,
   "id": "b58c298d",
   "metadata": {
    "execution": {
     "iopub.execute_input": "2025-05-05T19:36:41.174621Z",
     "iopub.status.busy": "2025-05-05T19:36:41.174371Z",
     "iopub.status.idle": "2025-05-05T19:36:41.179378Z",
     "shell.execute_reply": "2025-05-05T19:36:41.178941Z"
    }
   },
   "outputs": [
    {
     "data": {
      "text/plain": [
       "['lostFollowUpInformationAvailableIndirectSrc',\n",
       " 'lostFollowUpLastContactDate',\n",
       " 'lostFollowUpFormCompleteDate',\n",
       " 'lostFollowUpChildAlive',\n",
       " 'lostFollowUpLastKnownAliveCorrectedAge_mo',\n",
       " 'lostFollowUpDeathDate',\n",
       " 'lostFollowUpInterview',\n",
       " 'lostFollowUpInterviewDate',\n",
       " 'lostFollowUpInterviewCorrectedAge_mo',\n",
       " 'lostFollowUpAnyQuestionCompleteChartReview',\n",
       " 'lostFollowUpChartReviewDate',\n",
       " 'lostFollowUpChartReviewCorrectedAge_mo',\n",
       " 'interviewChildHealth',\n",
       " 'interviewWalkAlone',\n",
       " 'interviewWalkAloneAge_mo',\n",
       " 'interviewSittingAlong',\n",
       " 'interviewHeadControl',\n",
       " 'interviewSee',\n",
       " 'interviewEyeExam',\n",
       " 'interviewNeedWearGlasses',\n",
       " 'interviewHear',\n",
       " 'interviewHearExam',\n",
       " 'interviewNeedWearHearingAid',\n",
       " 'interviewNumberWordVocabulary',\n",
       " 'interviewCombine2Words',\n",
       " 'interviewCombine3Words',\n",
       " 'interviewHydrocephalusShunt',\n",
       " 'interviewCerebralPalsy',\n",
       " 'interviewDevelopmentalDelay',\n",
       " 'interviewLanguageDelay',\n",
       " 'interviewPoorWeightGain',\n",
       " 'interviewSeizure',\n",
       " 'interviewBlindness',\n",
       " 'interviewOtherBehaviorProblem',\n",
       " 'interviewOtherBehaviorProblemText',\n",
       " 'interviewOtherMajorMedicalProblem',\n",
       " 'interviewOtherMajorMedicalProblemText',\n",
       " 'interviewOtherNeuraldevelopmentalProblem',\n",
       " 'interviewOtherNeuraldevelopmentalProblemText',\n",
       " 'interviewMotorGrossFunctionLevel',\n",
       " 'chartReviewEyeExam',\n",
       " 'chartReviewHearingExam',\n",
       " 'chartReviewNeedWearHearingAid',\n",
       " 'chartReviewHydrocephalusShunt',\n",
       " 'chartReviewCerebralPalsy',\n",
       " 'chartReviewDevelopmentalDelay',\n",
       " 'chartReviewLanguageDelay',\n",
       " 'chartReviewPoorWeightGain',\n",
       " 'chartReviewSeizure',\n",
       " 'chartReviewBlindness',\n",
       " 'chartReviewOtherBehaviorProblem',\n",
       " 'chartReviewOtherBehaviorProblemText',\n",
       " 'chartReviewOtherMajorMedicalProblem',\n",
       " 'chartReviewOtherMajorMedicalProblemText',\n",
       " 'chartReviewOtherNeuraldevelopmentalProblem',\n",
       " 'chartReviewOtherNeuraldevelopmentalProblemText',\n",
       " 'chartReviewMotorGrossFunctionLevel']"
      ]
     },
     "execution_count": 40,
     "metadata": {},
     "output_type": "execute_result"
    }
   ],
   "source": [
    "lost_columns = COMBINE_harmonizer.get_columns(\n",
    "    df_data_dict,\n",
    "    COMBINE_harmonizer.CATEGORY_FOLLOW_UP,\n",
    "    COMBINE_harmonizer.SUBCATEGORY_LOST_FOLLOW_UP)\n",
    "\n",
    "all_lost_columns = id_columns + lost_columns\n",
    "lost_columns"
   ]
  },
  {
   "cell_type": "code",
   "execution_count": 41,
   "id": "bba97562",
   "metadata": {
    "execution": {
     "iopub.execute_input": "2025-05-05T19:36:41.181788Z",
     "iopub.status.busy": "2025-05-05T19:36:41.181583Z",
     "iopub.status.idle": "2025-05-05T19:36:41.286588Z",
     "shell.execute_reply": "2025-05-05T19:36:41.286029Z"
    }
   },
   "outputs": [],
   "source": [
    "df_lost = COMBINE_harmonizer.valid_columns(df_follow_up.copy(), all_lost_columns, debug_df=False, debug_columns=True)\n",
    "df_lost = COMBINE_harmonizer.postprocess(df_lost)\n",
    "\n",
    "out_filename = os.sep.join([out_dir, '20-08-lost.csv'])\n",
    "df_lost.to_csv(out_filename, index=False)"
   ]
  },
  {
   "cell_type": "markdown",
   "id": "7e8b6620",
   "metadata": {},
   "source": [
    "### 20-08-1. check empty"
   ]
  },
  {
   "cell_type": "code",
   "execution_count": 42,
   "id": "c0510e46",
   "metadata": {
    "execution": {
     "iopub.execute_input": "2025-05-05T19:36:41.289648Z",
     "iopub.status.busy": "2025-05-05T19:36:41.289412Z",
     "iopub.status.idle": "2025-05-05T19:36:41.301103Z",
     "shell.execute_reply": "2025-05-05T19:36:41.300721Z"
    }
   },
   "outputs": [
    {
     "name": "stdout",
     "output_type": "stream",
     "text": [
      "(0/63) column: center (315 / 0)\n",
      "(1/63) column: subjectID (315 / 0)\n",
      "(2/63) column: uniqueID (315 / 0)\n",
      "(3/63) column: followupCenter (315 / 0)\n",
      "(4/63) column: followupID (315 / 0)\n",
      "(5/63) column: siteID (315 / 0)\n",
      "(6/63) column: lostFollowUpInformationAvailableIndirectSrc (24 / 291)\n",
      "(7/63) column: lostFollowUpChildAlive (14 / 301)\n",
      "(8/63) column: lostFollowUpInterview (13 / 302)\n",
      "(9/63) column: lostFollowUpAnyQuestionCompleteChartReview (13 / 302)\n",
      "(10/63) column: interviewWalkAlone (5 / 310)\n",
      "(11/63) column: interviewSittingAlong (2 / 313)\n",
      "(12/63) column: interviewHeadControl (2 / 313)\n",
      "(13/63) column: interviewSee (5 / 310)\n",
      "(14/63) column: interviewEyeExam (5 / 310)\n",
      "(15/63) column: interviewNeedWearGlasses (5 / 310)\n",
      "(16/63) column: interviewHear (5 / 310)\n",
      "(17/63) column: interviewHearExam (5 / 310)\n",
      "(18/63) column: interviewNeedWearHearingAid (5 / 310)\n",
      "(19/63) column: interviewCombine2Words (5 / 310)\n",
      "(20/63) column: interviewCombine3Words (5 / 310)\n",
      "(21/63) column: interviewHydrocephalusShunt (5 / 310)\n",
      "(22/63) column: interviewCerebralPalsy (5 / 310)\n",
      "(23/63) column: interviewDevelopmentalDelay (5 / 310)\n",
      "(24/63) column: interviewLanguageDelay (5 / 310)\n",
      "(25/63) column: interviewPoorWeightGain (5 / 310)\n",
      "(26/63) column: interviewSeizure (5 / 310)\n",
      "(27/63) column: interviewBlindness (5 / 310)\n",
      "(28/63) column: interviewOtherBehaviorProblem (5 / 310)\n",
      "(29/63) column: interviewOtherBehaviorProblemText (1 / 314)\n",
      "(30/63) column: interviewOtherMajorMedicalProblem (5 / 310)\n",
      "(31/63) column: interviewOtherMajorMedicalProblemText (2 / 313)\n",
      "(32/63) column: interviewOtherNeuraldevelopmentalProblem (5 / 310)\n",
      "(33/63) column: interviewOtherNeuraldevelopmentalProblemText (1 / 314)\n",
      "(34/63) column: chartReviewOtherBehaviorProblemText (2 / 313)\n",
      "(35/63) column: chartReviewOtherMajorMedicalProblemText (4 / 311)\n",
      "(36/63) column: chartReviewOtherNeuraldevelopmentalProblemText (2 / 313)\n",
      "(37/63) column: lostFollowUpLastContactDate (9 / 306)\n",
      "(38/63) column: lostFollowUpFormCompleteDate (10 / 305)\n",
      "(39/63) column: lostFollowUpLastKnownAliveCorrectedAge_mo (13 / 302)\n",
      "(40/63) column: lostFollowUpDeathDate (1 / 314)\n",
      "(41/63) column: lostFollowUpInterviewDate (5 / 310)\n",
      "(42/63) column: lostFollowUpInterviewCorrectedAge_mo (5 / 310)\n",
      "(43/63) column: lostFollowUpChartReviewDate (9 / 306)\n",
      "(44/63) column: lostFollowUpChartReviewCorrectedAge_mo (9 / 306)\n",
      "(45/63) column: interviewChildHealth (5 / 310)\n",
      "(46/63) column: interviewWalkAloneAge_mo (2 / 313)\n",
      "(47/63) column: interviewNumberWordVocabulary (3 / 312)\n",
      "(48/63) column: interviewMotorGrossFunctionLevel (4 / 311)\n",
      "(49/63) column: chartReviewEyeExam (9 / 306)\n",
      "(50/63) column: chartReviewHearingExam (9 / 306)\n",
      "(51/63) column: chartReviewNeedWearHearingAid (9 / 306)\n",
      "(52/63) column: chartReviewHydrocephalusShunt (9 / 306)\n",
      "(53/63) column: chartReviewCerebralPalsy (9 / 306)\n",
      "(54/63) column: chartReviewDevelopmentalDelay (9 / 306)\n",
      "(55/63) column: chartReviewLanguageDelay (9 / 306)\n",
      "(56/63) column: chartReviewPoorWeightGain (9 / 306)\n",
      "(57/63) column: chartReviewSeizure (9 / 306)\n",
      "(58/63) column: chartReviewBlindness (9 / 306)\n",
      "(59/63) column: chartReviewOtherBehaviorProblem (9 / 306)\n",
      "(60/63) column: chartReviewOtherMajorMedicalProblem (9 / 306)\n",
      "(61/63) column: chartReviewOtherNeuraldevelopmentalProblem (9 / 306)\n",
      "(62/63) column: chartReviewMotorGrossFunctionLevel (6 / 309)\n"
     ]
    }
   ],
   "source": [
    "COMBINE_harmonizer.check_empty(df_lost)"
   ]
  },
  {
   "cell_type": "code",
   "execution_count": 43,
   "id": "1cc96b30",
   "metadata": {
    "execution": {
     "iopub.execute_input": "2025-05-05T19:36:41.303022Z",
     "iopub.status.busy": "2025-05-05T19:36:41.302834Z",
     "iopub.status.idle": "2025-05-05T19:36:41.309457Z",
     "shell.execute_reply": "2025-05-05T19:36:41.309142Z"
    }
   },
   "outputs": [
    {
     "name": "stdout",
     "output_type": "stream",
     "text": [
      "(0/63) center: (315/0)\n",
      "(1/63) subjectID: (315/0)\n",
      "(2/63) uniqueID: (315/0)\n",
      "(3/63) followupCenter: (315/0)\n",
      "(4/63) followupID: (315/0)\n",
      "(5/63) siteID: (315/0)\n",
      "(6/63) lostFollowUpInformationAvailableIndirectSrc: (24/291)\n",
      "(7/63) lostFollowUpChildAlive: (14/301)\n",
      "(8/63) lostFollowUpInterview: (13/302)\n",
      "(9/63) lostFollowUpAnyQuestionCompleteChartReview: (13/302)\n",
      "(10/63) interviewWalkAlone: (5/310)\n",
      "(11/63) interviewSittingAlong: (2/313)\n",
      "(12/63) interviewHeadControl: (2/313)\n",
      "(13/63) interviewSee: (5/310)\n",
      "(14/63) interviewEyeExam: (5/310)\n",
      "(15/63) interviewNeedWearGlasses: (5/310)\n",
      "(16/63) interviewHear: (5/310)\n",
      "(17/63) interviewHearExam: (5/310)\n",
      "(18/63) interviewNeedWearHearingAid: (5/310)\n",
      "(19/63) interviewCombine2Words: (5/310)\n",
      "(20/63) interviewCombine3Words: (5/310)\n",
      "(21/63) interviewHydrocephalusShunt: (5/310)\n",
      "(22/63) interviewCerebralPalsy: (5/310)\n",
      "(23/63) interviewDevelopmentalDelay: (5/310)\n",
      "(24/63) interviewLanguageDelay: (5/310)\n",
      "(25/63) interviewPoorWeightGain: (5/310)\n",
      "(26/63) interviewSeizure: (5/310)\n",
      "(27/63) interviewBlindness: (5/310)\n",
      "(28/63) interviewOtherBehaviorProblem: (5/310)\n",
      "(29/63) interviewOtherBehaviorProblemText: (1/314)\n",
      "(30/63) interviewOtherMajorMedicalProblem: (5/310)\n",
      "(31/63) interviewOtherMajorMedicalProblemText: (2/313)\n",
      "(32/63) interviewOtherNeuraldevelopmentalProblem: (5/310)\n",
      "(33/63) interviewOtherNeuraldevelopmentalProblemText: (1/314)\n",
      "(34/63) chartReviewOtherBehaviorProblemText: (2/313)\n",
      "(35/63) chartReviewOtherMajorMedicalProblemText: (4/311)\n",
      "(36/63) chartReviewOtherNeuraldevelopmentalProblemText: (2/313)\n",
      "(37/63) lostFollowUpLastContactDate: (9/306)\n",
      "(38/63) lostFollowUpFormCompleteDate: (10/305)\n",
      "(39/63) lostFollowUpLastKnownAliveCorrectedAge_mo: (13/302)\n",
      "(40/63) lostFollowUpDeathDate: (1/314)\n",
      "(41/63) lostFollowUpInterviewDate: (5/310)\n",
      "(42/63) lostFollowUpInterviewCorrectedAge_mo: (5/310)\n",
      "(43/63) lostFollowUpChartReviewDate: (9/306)\n",
      "(44/63) lostFollowUpChartReviewCorrectedAge_mo: (9/306)\n",
      "(45/63) interviewChildHealth: (5/310)\n",
      "(46/63) interviewWalkAloneAge_mo: (2/313)\n",
      "(47/63) interviewNumberWordVocabulary: (3/312)\n",
      "(48/63) interviewMotorGrossFunctionLevel: (4/311)\n",
      "(49/63) chartReviewEyeExam: (9/306)\n",
      "(50/63) chartReviewHearingExam: (9/306)\n",
      "(51/63) chartReviewNeedWearHearingAid: (9/306)\n",
      "(52/63) chartReviewHydrocephalusShunt: (9/306)\n",
      "(53/63) chartReviewCerebralPalsy: (9/306)\n",
      "(54/63) chartReviewDevelopmentalDelay: (9/306)\n",
      "(55/63) chartReviewLanguageDelay: (9/306)\n",
      "(56/63) chartReviewPoorWeightGain: (9/306)\n",
      "(57/63) chartReviewSeizure: (9/306)\n",
      "(58/63) chartReviewBlindness: (9/306)\n",
      "(59/63) chartReviewOtherBehaviorProblem: (9/306)\n",
      "(60/63) chartReviewOtherMajorMedicalProblem: (9/306)\n",
      "(61/63) chartReviewOtherNeuraldevelopmentalProblem: (9/306)\n",
      "(62/63) chartReviewMotorGrossFunctionLevel: (6/309)\n"
     ]
    }
   ],
   "source": [
    "COMBINE_harmonizer.column_info(df_lost)"
   ]
  },
  {
   "cell_type": "markdown",
   "id": "310474df",
   "metadata": {},
   "source": [
    "## 20-09. Secondary Analysis"
   ]
  },
  {
   "cell_type": "code",
   "execution_count": 44,
   "id": "0ea3319b",
   "metadata": {
    "execution": {
     "iopub.execute_input": "2025-05-05T19:36:41.311295Z",
     "iopub.status.busy": "2025-05-05T19:36:41.311138Z",
     "iopub.status.idle": "2025-05-05T19:36:41.314797Z",
     "shell.execute_reply": "2025-05-05T19:36:41.314482Z"
    }
   },
   "outputs": [
    {
     "data": {
      "text/plain": [
       "['blindness',\n",
       " 'moderateSevereCerebralPalsy',\n",
       " 'cerebralPalsyMerge',\n",
       " 'gastrostomyTube_b',\n",
       " 'grossMotorFunctionLevelSeverity',\n",
       " 'hearingImpairedWithAid',\n",
       " 'hearingImpairedLevel',\n",
       " 'multipleImpairment',\n",
       " 'afterDischargeSeizure']"
      ]
     },
     "execution_count": 44,
     "metadata": {},
     "output_type": "execute_result"
    }
   ],
   "source": [
    "secondary_columns = COMBINE_harmonizer.get_columns(\n",
    "    df_data_dict,\n",
    "    COMBINE_harmonizer.CATEGORY_FOLLOW_UP,\n",
    "    COMBINE_harmonizer.SUBCATEGORY_SECONDARY_ANALYSIS)\n",
    "\n",
    "all_secondary_columns = id_columns + secondary_columns\n",
    "secondary_columns"
   ]
  },
  {
   "cell_type": "code",
   "execution_count": 45,
   "id": "43b44778",
   "metadata": {
    "execution": {
     "iopub.execute_input": "2025-05-05T19:36:41.316397Z",
     "iopub.status.busy": "2025-05-05T19:36:41.316291Z",
     "iopub.status.idle": "2025-05-05T19:36:41.401897Z",
     "shell.execute_reply": "2025-05-05T19:36:41.401322Z"
    }
   },
   "outputs": [
    {
     "name": "stdout",
     "output_type": "stream",
     "text": [
      "(1/14) siteID not in df\n"
     ]
    }
   ],
   "source": [
    "df_analysis = df_dict[_ANALYSIS_FILENAME]\n",
    "df_analysis = df_analysis.rename(columns={'followupCenter': 'center', 'fcenter': 'followupCenter', 'ocfolnum': 'followupID'})\n",
    "\n",
    "df_secondary = COMBINE_harmonizer.valid_columns(df_analysis.copy(), all_secondary_columns, debug_df=False, debug_columns=True)\n",
    "df_secondary = COMBINE_harmonizer.postprocess(df_secondary)\n",
    "\n",
    "out_filename = os.sep.join([out_dir, '20-09-secondary.csv'])\n",
    "df_secondary.to_csv(out_filename, index=False)"
   ]
  },
  {
   "cell_type": "markdown",
   "id": "3e499e2a",
   "metadata": {},
   "source": [
    "### 20-09-1. check empty"
   ]
  },
  {
   "cell_type": "code",
   "execution_count": 46,
   "id": "9b863443",
   "metadata": {
    "execution": {
     "iopub.execute_input": "2025-05-05T19:36:41.404740Z",
     "iopub.status.busy": "2025-05-05T19:36:41.404484Z",
     "iopub.status.idle": "2025-05-05T19:36:41.410404Z",
     "shell.execute_reply": "2025-05-05T19:36:41.409997Z"
    }
   },
   "outputs": [
    {
     "name": "stdout",
     "output_type": "stream",
     "text": [
      "(0/14) column: center (364 / 0)\n",
      "(1/14) column: subjectID (364 / 0)\n",
      "(2/14) column: uniqueID (364 / 0)\n",
      "(3/14) column: followupID (315 / 49)\n",
      "(4/14) column: followupCenter (315 / 49)\n",
      "(5/14) column: blindness (294 / 70)\n",
      "(6/14) column: hearingImpairedLevel (285 / 79)\n",
      "(7/14) column: hearingImpairedWithAid (294 / 70)\n",
      "(8/14) column: grossMotorFunctionLevelSeverity (285 / 79)\n",
      "(9/14) column: cerebralPalsyMerge (294 / 70)\n",
      "(10/14) column: moderateSevereCerebralPalsy (294 / 70)\n",
      "(11/14) column: multipleImpairment (294 / 70)\n",
      "(12/14) column: gastrostomyTube_b (287 / 77)\n",
      "(13/14) column: afterDischargeSeizure (293 / 71)\n"
     ]
    }
   ],
   "source": [
    "COMBINE_harmonizer.check_empty(df_secondary)"
   ]
  },
  {
   "cell_type": "code",
   "execution_count": 47,
   "id": "fc262c9a",
   "metadata": {
    "execution": {
     "iopub.execute_input": "2025-05-05T19:36:41.412496Z",
     "iopub.status.busy": "2025-05-05T19:36:41.412284Z",
     "iopub.status.idle": "2025-05-05T19:36:41.416196Z",
     "shell.execute_reply": "2025-05-05T19:36:41.415832Z"
    }
   },
   "outputs": [
    {
     "name": "stdout",
     "output_type": "stream",
     "text": [
      "(0/14) center: (364/0)\n",
      "(1/14) subjectID: (364/0)\n",
      "(2/14) uniqueID: (364/0)\n",
      "(3/14) followupID: (315/49)\n",
      "(4/14) followupCenter: (315/49)\n",
      "(5/14) blindness: (294/70)\n",
      "(6/14) hearingImpairedLevel: (285/79)\n",
      "(7/14) hearingImpairedWithAid: (294/70)\n",
      "(8/14) grossMotorFunctionLevelSeverity: (285/79)\n",
      "(9/14) cerebralPalsyMerge: (294/70)\n",
      "(10/14) moderateSevereCerebralPalsy: (294/70)\n",
      "(11/14) multipleImpairment: (294/70)\n",
      "(12/14) gastrostomyTube_b: (287/77)\n",
      "(13/14) afterDischargeSeizure: (293/71)\n"
     ]
    }
   ],
   "source": [
    "COMBINE_harmonizer.column_info(df_secondary)"
   ]
  },
  {
   "cell_type": "markdown",
   "id": "20e8f9f6",
   "metadata": {},
   "source": [
    "## 20-10. Outcome"
   ]
  },
  {
   "cell_type": "code",
   "execution_count": 48,
   "id": "99cef550",
   "metadata": {
    "execution": {
     "iopub.execute_input": "2025-05-05T19:36:41.418105Z",
     "iopub.status.busy": "2025-05-05T19:36:41.417956Z",
     "iopub.status.idle": "2025-05-05T19:36:41.421773Z",
     "shell.execute_reply": "2025-05-05T19:36:41.421393Z"
    }
   },
   "outputs": [
    {
     "data": {
      "text/plain": [
       "['flagAdjudicatedOutcome',\n",
       " 'normalPrimaryOutcome',\n",
       " 'BayleyIIILanguage',\n",
       " 'BayleyIIIMotor',\n",
       " 'BayleyIIICognitive',\n",
       " 'deathBeforeFollowup',\n",
       " 'deathBeforeDischarge',\n",
       " 'disabilityLevelSurvivor',\n",
       " 'disabilityLevelDeath4Category',\n",
       " 'moderateSevereDisabilityOrDeath',\n",
       " 'moderateSevereDisabilitySurvivor',\n",
       " 'disabilityLevelDeath',\n",
       " 'outcomeGroup']"
      ]
     },
     "execution_count": 48,
     "metadata": {},
     "output_type": "execute_result"
    }
   ],
   "source": [
    "outcome_columns = COMBINE_harmonizer.get_columns(\n",
    "    df_data_dict,\n",
    "    COMBINE_harmonizer.CATEGORY_FOLLOW_UP,\n",
    "    COMBINE_harmonizer.SUBCATEGORY_OUTCOME)\n",
    "\n",
    "all_outcome_columns = id_columns + outcome_columns\n",
    "outcome_columns"
   ]
  },
  {
   "cell_type": "code",
   "execution_count": 49,
   "id": "d2b33362",
   "metadata": {
    "execution": {
     "iopub.execute_input": "2025-05-05T19:36:41.423618Z",
     "iopub.status.busy": "2025-05-05T19:36:41.423439Z",
     "iopub.status.idle": "2025-05-05T19:36:41.504163Z",
     "shell.execute_reply": "2025-05-05T19:36:41.503677Z"
    }
   },
   "outputs": [
    {
     "name": "stdout",
     "output_type": "stream",
     "text": [
      "(1/18) siteID not in df\n",
      "(16/18) disabilityLevelDeath not in df\n"
     ]
    }
   ],
   "source": [
    "df_outcome = COMBINE_harmonizer.valid_columns(df_analysis.copy(), all_outcome_columns, debug_df=False, debug_columns=True)\n",
    "df_outcome = COMBINE_harmonizer.postprocess(df_outcome)\n",
    "\n",
    "out_filename = os.sep.join([out_dir, '20-10-outcome.csv'])\n",
    "df_outcome.to_csv(out_filename, index=False)"
   ]
  },
  {
   "cell_type": "markdown",
   "id": "a53014c3",
   "metadata": {},
   "source": [
    "### 20-10-1. check empty"
   ]
  },
  {
   "cell_type": "code",
   "execution_count": 50,
   "id": "78814dbf",
   "metadata": {
    "execution": {
     "iopub.execute_input": "2025-05-05T19:36:41.507027Z",
     "iopub.status.busy": "2025-05-05T19:36:41.506759Z",
     "iopub.status.idle": "2025-05-05T19:36:41.513622Z",
     "shell.execute_reply": "2025-05-05T19:36:41.513158Z"
    }
   },
   "outputs": [
    {
     "name": "stdout",
     "output_type": "stream",
     "text": [
      "(0/17) column: center (364 / 0)\n",
      "(1/17) column: subjectID (364 / 0)\n",
      "(2/17) column: uniqueID (364 / 0)\n",
      "(3/17) column: followupID (315 / 49)\n",
      "(4/17) column: followupCenter (315 / 49)\n",
      "(5/17) column: BayleyIIICognitive (283 / 81)\n",
      "(6/17) column: BayleyIIILanguage (275 / 89)\n",
      "(7/17) column: BayleyIIIMotor (277 / 87)\n",
      "(8/17) column: deathBeforeFollowup (354 / 10)\n",
      "(9/17) column: normalPrimaryOutcome (285 / 79)\n",
      "(10/17) column: flagAdjudicatedOutcome (9 / 355)\n",
      "(11/17) column: deathBeforeDischarge (364 / 0)\n",
      "(12/17) column: moderateSevereDisabilitySurvivor (291 / 73)\n",
      "(13/17) column: disabilityLevelSurvivor (285 / 79)\n",
      "(14/17) column: moderateSevereDisabilityOrDeath (347 / 17)\n",
      "(15/17) column: disabilityLevelDeath4Category (341 / 23)\n",
      "(16/17) column: outcomeGroup (347 / 17)\n"
     ]
    }
   ],
   "source": [
    "COMBINE_harmonizer.check_empty(df_outcome)"
   ]
  },
  {
   "cell_type": "code",
   "execution_count": 51,
   "id": "71da8906",
   "metadata": {
    "execution": {
     "iopub.execute_input": "2025-05-05T19:36:41.515879Z",
     "iopub.status.busy": "2025-05-05T19:36:41.515676Z",
     "iopub.status.idle": "2025-05-05T19:36:41.519915Z",
     "shell.execute_reply": "2025-05-05T19:36:41.519495Z"
    }
   },
   "outputs": [
    {
     "name": "stdout",
     "output_type": "stream",
     "text": [
      "(0/17) center: (364/0)\n",
      "(1/17) subjectID: (364/0)\n",
      "(2/17) uniqueID: (364/0)\n",
      "(3/17) followupID: (315/49)\n",
      "(4/17) followupCenter: (315/49)\n",
      "(5/17) BayleyIIICognitive: (283/81)\n",
      "(6/17) BayleyIIILanguage: (275/89)\n",
      "(7/17) BayleyIIIMotor: (277/87)\n",
      "(8/17) deathBeforeFollowup: (354/10)\n",
      "(9/17) normalPrimaryOutcome: (285/79)\n",
      "(10/17) flagAdjudicatedOutcome: (9/355)\n",
      "(11/17) deathBeforeDischarge: (364/0)\n",
      "(12/17) moderateSevereDisabilitySurvivor: (291/73)\n",
      "(13/17) disabilityLevelSurvivor: (285/79)\n",
      "(14/17) moderateSevereDisabilityOrDeath: (347/17)\n",
      "(15/17) disabilityLevelDeath4Category: (341/23)\n",
      "(16/17) outcomeGroup: (347/17)\n"
     ]
    }
   ],
   "source": [
    "COMBINE_harmonizer.column_info(df_outcome)"
   ]
  },
  {
   "cell_type": "markdown",
   "id": "0fca9b39-2323-450a-88e2-5a85d43ed62b",
   "metadata": {},
   "source": [
    "## 20-07. Readmission"
   ]
  },
  {
   "cell_type": "code",
   "execution_count": 52,
   "id": "632a1ea0",
   "metadata": {
    "execution": {
     "iopub.execute_input": "2025-05-05T19:36:41.522308Z",
     "iopub.status.busy": "2025-05-05T19:36:41.522144Z",
     "iopub.status.idle": "2025-05-05T19:36:41.525128Z",
     "shell.execute_reply": "2025-05-05T19:36:41.524705Z"
    }
   },
   "outputs": [],
   "source": [
    "columns_subject_id_map = ['center', 'followupID', 'followupCenter', 'subjectID']\n",
    "df_subject_id_map = df_follow_up[columns_subject_id_map]"
   ]
  },
  {
   "cell_type": "code",
   "execution_count": 53,
   "id": "5b836eab-978d-40c0-a621-fc1e68091b5b",
   "metadata": {
    "execution": {
     "iopub.execute_input": "2025-05-05T19:36:41.527117Z",
     "iopub.status.busy": "2025-05-05T19:36:41.526937Z",
     "iopub.status.idle": "2025-05-05T19:36:41.638215Z",
     "shell.execute_reply": "2025-05-05T19:36:41.634838Z"
    }
   },
   "outputs": [
    {
     "name": "stdout",
     "output_type": "stream",
     "text": [
      "(3/11) REC_CMP not in columns\n",
      "(9/11) CMP_DATE not in columns\n",
      "(10/11) CRT_DATE not in columns\n"
     ]
    }
   ],
   "source": [
    "df_readmission = df_dict['of04ar.csv']\n",
    "df_readmission = COMBINE_harmonizer.valid_columns(df_readmission, all_valid_columns, debug_df=True, debug_columns=False)\n",
    "df_readmission = COMBINE_harmonizer.postprocess(df_readmission, subject_id_idx='followupID', center_id_idx='followupCenter')\n",
    "\n",
    "df_readmission = df_readmission.merge(df_subject_id_map, on=['followupCenter', 'followupID'], how='left')\n",
    "df_readmission = COMBINE_harmonizer.postprocess(df_readmission)\n",
    "\n",
    "out_filename = os.sep.join([out_dir, '20-07-readmission.csv'])\n",
    "df_readmission.to_csv(out_filename, index=False)"
   ]
  },
  {
   "cell_type": "markdown",
   "id": "4872bf3e-ac32-446b-8a58-fe476f740ebe",
   "metadata": {},
   "source": [
    "### 20-07-1. check readmission"
   ]
  },
  {
   "cell_type": "code",
   "execution_count": 54,
   "id": "c1107900-da34-4c73-86f3-a38f3a361309",
   "metadata": {
    "execution": {
     "iopub.execute_input": "2025-05-05T19:36:41.645665Z",
     "iopub.status.busy": "2025-05-05T19:36:41.644430Z",
     "iopub.status.idle": "2025-05-05T19:36:41.663314Z",
     "shell.execute_reply": "2025-05-05T19:36:41.662801Z"
    }
   },
   "outputs": [
    {
     "data": {
      "text/html": [
       "<div>\n",
       "<style scoped>\n",
       "    .dataframe tbody tr th:only-of-type {\n",
       "        vertical-align: middle;\n",
       "    }\n",
       "\n",
       "    .dataframe tbody tr th {\n",
       "        vertical-align: top;\n",
       "    }\n",
       "\n",
       "    .dataframe thead th {\n",
       "        text-align: right;\n",
       "    }\n",
       "</style>\n",
       "<table border=\"1\" class=\"dataframe\">\n",
       "  <thead>\n",
       "    <tr style=\"text-align: right;\">\n",
       "      <th></th>\n",
       "      <th></th>\n",
       "      <th>_count</th>\n",
       "    </tr>\n",
       "    <tr>\n",
       "      <th>uniqueID</th>\n",
       "      <th>readmissionNumber</th>\n",
       "      <th></th>\n",
       "    </tr>\n",
       "  </thead>\n",
       "  <tbody>\n",
       "  </tbody>\n",
       "</table>\n",
       "</div>"
      ],
      "text/plain": [
       "Empty DataFrame\n",
       "Columns: [_count]\n",
       "Index: []"
      ]
     },
     "execution_count": 54,
     "metadata": {},
     "output_type": "execute_result"
    }
   ],
   "source": [
    "df_readmission_groupby = df_readmission.groupby(['uniqueID', 'readmissionNumber']).agg(_count=('uniqueID', 'count'))\n",
    "\n",
    "is_invalid = df_readmission_groupby['_count'] > 1\n",
    "df_readmission_groupby[is_invalid]"
   ]
  },
  {
   "cell_type": "markdown",
   "id": "56b763e7-faa0-4c08-bc17-35007c949eeb",
   "metadata": {},
   "source": [
    "### 20-07-2. check empty cells"
   ]
  },
  {
   "cell_type": "code",
   "execution_count": 55,
   "id": "506e9f6f-1874-4f4f-a23f-c642ef45133a",
   "metadata": {
    "execution": {
     "iopub.execute_input": "2025-05-05T19:36:41.665995Z",
     "iopub.status.busy": "2025-05-05T19:36:41.665767Z",
     "iopub.status.idle": "2025-05-05T19:36:41.670567Z",
     "shell.execute_reply": "2025-05-05T19:36:41.670148Z"
    }
   },
   "outputs": [
    {
     "name": "stdout",
     "output_type": "stream",
     "text": [
      "(0/11) column: center (147 / 0)\n",
      "(1/11) column: subjectID (147 / 0)\n",
      "(2/11) column: uniqueID (147 / 0)\n",
      "(3/11) column: followupCenter (147 / 0)\n",
      "(4/11) column: followupID (147 / 0)\n",
      "(5/11) column: readmissionPrimaryCauseOtherText (11 / 136)\n",
      "(6/11) column: readmissionICU (147 / 0)\n",
      "(7/11) column: readmissionNumber (147 / 0)\n",
      "(8/11) column: readmissionTimePeriod (147 / 0)\n",
      "(9/11) column: readmissionPrimaryCause (147 / 0)\n",
      "(10/11) column: readmissionLengthOfStay (147 / 0)\n"
     ]
    }
   ],
   "source": [
    "COMBINE_harmonizer.check_empty(df_readmission)"
   ]
  },
  {
   "cell_type": "code",
   "execution_count": 56,
   "id": "bf34a1ec-5f6f-4a17-a2f2-6b79b0487d23",
   "metadata": {
    "execution": {
     "iopub.execute_input": "2025-05-05T19:36:41.672546Z",
     "iopub.status.busy": "2025-05-05T19:36:41.672363Z",
     "iopub.status.idle": "2025-05-05T19:36:41.675801Z",
     "shell.execute_reply": "2025-05-05T19:36:41.675429Z"
    }
   },
   "outputs": [
    {
     "name": "stdout",
     "output_type": "stream",
     "text": [
      "(0/11) center: (147/0)\n",
      "(1/11) subjectID: (147/0)\n",
      "(2/11) uniqueID: (147/0)\n",
      "(3/11) followupCenter: (147/0)\n",
      "(4/11) followupID: (147/0)\n",
      "(5/11) readmissionPrimaryCauseOtherText: (11/136)\n",
      "(6/11) readmissionICU: (147/0)\n",
      "(7/11) readmissionNumber: (147/0)\n",
      "(8/11) readmissionTimePeriod: (147/0)\n",
      "(9/11) readmissionPrimaryCause: (147/0)\n",
      "(10/11) readmissionLengthOfStay: (147/0)\n"
     ]
    }
   ],
   "source": [
    "COMBINE_harmonizer.column_info(df_readmission)"
   ]
  },
  {
   "cell_type": "code",
   "execution_count": null,
   "id": "702395be",
   "metadata": {},
   "outputs": [],
   "source": []
  }
 ],
 "metadata": {
  "kernelspec": {
   "display_name": ".venv",
   "language": "python",
   "name": "python3"
  },
  "language_info": {
   "codemirror_mode": {
    "name": "ipython",
    "version": 3
   },
   "file_extension": ".py",
   "mimetype": "text/x-python",
   "name": "python",
   "nbconvert_exporter": "python",
   "pygments_lexer": "ipython3",
   "version": "3.13.2"
  }
 },
 "nbformat": 4,
 "nbformat_minor": 5
}
