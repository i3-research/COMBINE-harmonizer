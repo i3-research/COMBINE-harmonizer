{
 "cells": [
  {
   "cell_type": "code",
   "execution_count": 1,
   "id": "5373e02d-9bc0-492a-a2ae-2ecb09327493",
   "metadata": {
    "execution": {
     "iopub.execute_input": "2025-01-21T19:14:47.222547Z",
     "iopub.status.busy": "2025-01-21T19:14:47.222450Z",
     "iopub.status.idle": "2025-01-21T19:14:48.283479Z",
     "shell.execute_reply": "2025-01-21T19:14:48.283150Z"
    },
    "tags": []
   },
   "outputs": [],
   "source": [
    "import pandas as pd\n",
    "import os\n",
    "\n",
    "import COMBINE_harmonizer\n",
    "from COMBINE_harmonizer import cfg"
   ]
  },
  {
   "cell_type": "markdown",
   "id": "fe35d6c2",
   "metadata": {},
   "source": [
    "## 01. init"
   ]
  },
  {
   "cell_type": "code",
   "execution_count": 2,
   "id": "f5f7c0e5",
   "metadata": {
    "execution": {
     "iopub.execute_input": "2025-01-21T19:14:48.285075Z",
     "iopub.status.busy": "2025-01-21T19:14:48.284948Z",
     "iopub.status.idle": "2025-01-21T19:14:48.286719Z",
     "shell.execute_reply": "2025-01-21T19:14:48.286495Z"
    }
   },
   "outputs": [],
   "source": [
    "study_name = COMBINE_harmonizer.STUDY_OC\n",
    "sheet_name = COMBINE_harmonizer.SHEET_MAIN\n",
    "\n",
    "root_dir = '..'"
   ]
  },
  {
   "cell_type": "code",
   "execution_count": 3,
   "id": "da94c9e1",
   "metadata": {
    "execution": {
     "iopub.execute_input": "2025-01-21T19:14:48.287848Z",
     "iopub.status.busy": "2025-01-21T19:14:48.287775Z",
     "iopub.status.idle": "2025-01-21T19:14:48.290960Z",
     "shell.execute_reply": "2025-01-21T19:14:48.290726Z"
    }
   },
   "outputs": [],
   "source": [
    "COMBINE_harmonizer.init(f'{root_dir}/config.yaml')"
   ]
  },
  {
   "cell_type": "markdown",
   "id": "3e109a38-3a4c-4923-9722-d0c287868f79",
   "metadata": {},
   "source": [
    "## 02. Dictionary"
   ]
  },
  {
   "cell_type": "code",
   "execution_count": 4,
   "id": "30610bbf-afc7-4824-aa35-a2933ed733cd",
   "metadata": {
    "execution": {
     "iopub.execute_input": "2025-01-21T19:14:48.292118Z",
     "iopub.status.busy": "2025-01-21T19:14:48.292046Z",
     "iopub.status.idle": "2025-01-21T19:14:48.293601Z",
     "shell.execute_reply": "2025-01-21T19:14:48.293394Z"
    },
    "tags": []
   },
   "outputs": [],
   "source": [
    "data_dict_filename = f'{root_dir}/Dictionary_HIE_clinical_variables.xlsx'"
   ]
  },
  {
   "cell_type": "code",
   "execution_count": 5,
   "id": "0e9f0649-2462-46b2-90fe-d3b901ee9d22",
   "metadata": {
    "execution": {
     "iopub.execute_input": "2025-01-21T19:14:48.294572Z",
     "iopub.status.busy": "2025-01-21T19:14:48.294507Z",
     "iopub.status.idle": "2025-01-21T19:14:48.683576Z",
     "shell.execute_reply": "2025-01-21T19:14:48.683289Z"
    },
    "tags": []
   },
   "outputs": [],
   "source": [
    "df_dict = COMBINE_harmonizer.load_data_dict(data_dict_filename, sheet_name)"
   ]
  },
  {
   "cell_type": "code",
   "execution_count": 6,
   "id": "9cadb09f-06c4-42be-898f-2bb023f31ce8",
   "metadata": {
    "execution": {
     "iopub.execute_input": "2025-01-21T19:14:48.685015Z",
     "iopub.status.busy": "2025-01-21T19:14:48.684935Z",
     "iopub.status.idle": "2025-01-21T19:14:48.686863Z",
     "shell.execute_reply": "2025-01-21T19:14:48.686630Z"
    },
    "tags": []
   },
   "outputs": [],
   "source": [
    "dict_oc_columns = list(df_dict[study_name].unique())"
   ]
  },
  {
   "cell_type": "markdown",
   "id": "a71bc477-2840-4bb2-809d-69e4ccfef2b7",
   "metadata": {},
   "source": [
    "## 03. OC"
   ]
  },
  {
   "cell_type": "code",
   "execution_count": 7,
   "id": "6310a3d3-ffb2-4fe9-af9d-1221585e737d",
   "metadata": {
    "execution": {
     "iopub.execute_input": "2025-01-21T19:14:48.688128Z",
     "iopub.status.busy": "2025-01-21T19:14:48.688048Z",
     "iopub.status.idle": "2025-01-21T19:14:48.689616Z",
     "shell.execute_reply": "2025-01-21T19:14:48.689400Z"
    },
    "tags": []
   },
   "outputs": [],
   "source": [
    "the_dir = cfg.config[f'{study_name}_dir']"
   ]
  },
  {
   "cell_type": "code",
   "execution_count": 8,
   "id": "76e1f68c-ab99-4dd8-866a-6f47eae4e5f7",
   "metadata": {
    "execution": {
     "iopub.execute_input": "2025-01-21T19:14:48.690768Z",
     "iopub.status.busy": "2025-01-21T19:14:48.690694Z",
     "iopub.status.idle": "2025-01-21T19:14:48.745376Z",
     "shell.execute_reply": "2025-01-21T19:14:48.745128Z"
    },
    "tags": []
   },
   "outputs": [],
   "source": [
    "filenames = os.listdir(the_dir)\n",
    "filenames.sort()"
   ]
  },
  {
   "cell_type": "code",
   "execution_count": 9,
   "id": "b9978ba5-124f-47b3-b929-30965c8c6e7c",
   "metadata": {
    "execution": {
     "iopub.execute_input": "2025-01-21T19:14:48.746673Z",
     "iopub.status.busy": "2025-01-21T19:14:48.746587Z",
     "iopub.status.idle": "2025-01-21T19:14:49.542790Z",
     "shell.execute_reply": "2025-01-21T19:14:49.541173Z"
    },
    "tags": []
   },
   "outputs": [],
   "source": [
    "dfs = [pd.read_csv(os.sep.join([the_dir, each_filename])) for each_filename in filenames]"
   ]
  },
  {
   "cell_type": "markdown",
   "id": "2fef88fa",
   "metadata": {},
   "source": [
    "### 03.1 check columns in each file"
   ]
  },
  {
   "cell_type": "code",
   "execution_count": 10,
   "id": "6602cc6c",
   "metadata": {
    "execution": {
     "iopub.execute_input": "2025-01-21T19:14:49.551513Z",
     "iopub.status.busy": "2025-01-21T19:14:49.551062Z",
     "iopub.status.idle": "2025-01-21T19:14:49.559999Z",
     "shell.execute_reply": "2025-01-21T19:14:49.559124Z"
    }
   },
   "outputs": [
    {
     "name": "stdout",
     "output_type": "stream",
     "text": [
      "(0/23) filename: oc01.csv columns: ['HTHRM_ID', 'SITENM', 'LAST', 'FIRST', 'COMMENT', 'REC_CMP', 'CENTER', 'BIRTHDT', 'BIRTHNM', 'CMP_DATE', 'CRT_DATE']\n",
      "(1/23) filename: oc02.csv columns: ['HTHRM_ID', 'OC2TEMP', 'OC2NORAN', 'OC2CHROM', 'OC2CNGEN', 'OC2WGHT', 'OC2SURV', 'OC2ALLBG', 'OC2PH', 'OC2DEFIC', 'OC2HIST', 'OC2APGA', 'OC2SEIZ', 'OC2NEXDN', 'OC2TONE', 'OC2RESP', 'OC2SIGN', 'OC2SEDA', 'OC2NAME', 'OC2ELIG', 'OC2REAS', 'OC2RAND', 'OC2NRRES', 'OC2RTRTM', 'OC2INIT', 'REC_CMP', 'CENTER', 'OC2NENDR', 'OC2CON', 'OC2SPON', 'OC2POST', 'OC2SUCK', 'OC2MORO', 'OC2PUPL', 'OC2HR', 'OC2NDAT', 'OC2NTIM', 'OC2CONS', 'OC2NRREA', 'OC2RANDT', 'OC2RANTM', 'OC2LEVEL', 'OC2RANNM', 'OC2RANNA', 'OC2BYYPE', 'CMP_DATE', 'CRT_DATE', 'OC2TMP2']\n",
      "(2/23) filename: oc04.csv columns: ['HTHRM_ID', 'OC4MBIR', 'OC4PCAR', 'OC4HYPE', 'OC4ANTE', 'OC4THYR', 'OC4DIAB', 'OC4LOSS', 'OC4CORD', 'OC4UTER', 'OC4DYST', 'OC4PLAC', 'OC4HEMO', 'OC4TRAU', 'OC4ARRE', 'OC4SEIZ', 'OC4PYRE', 'OC4CHOR', 'OC4PATH', 'OC4HIST', 'OC4ANTI', 'OC4RUPT', 'OC4ROME', 'OC4INIT', 'REC_CMP', 'CENTER', 'OC4MAGE', 'OC4RACE', 'OC4RAC1', 'OC4RAC2', 'OC4RAC3', 'OC4RAC4', 'OC4RAC5', 'OC4RAC6', 'OC4ETHN', 'OC4MSTA', 'OC4EDUC', 'OC4FRAV', 'OC4PARI', 'OC4NFET', 'OC4MDINS', 'OC4ADAT', 'OC4ATIM', 'OC4ANT1', 'OC4ANT2', 'OC4ANT3', 'OC4ANT4', 'OC4ANT5', 'OC4ANT6', 'OC4RDAT', 'OC4RTIM', 'OC4MODE', 'CMP_DATE', 'CRT_DATE']\n",
      "(3/23) filename: oc05.csv columns: ['HTHRM_ID', 'OC5OBOR', 'OC5HSET', 'OC5OSET', 'OC5OXY', 'OC5BAG', 'OC5COM', 'OC5INT', 'OC5DRUG', 'OC5CRS10', 'OC5COXY', 'OC5CBAG', 'OC5CCOM', 'OC5CINT', 'OC5CDRUG', 'OC5TOBT', 'OC5PBBO', 'OC5INIT', 'REC_CMP', 'CENTER', 'OC5BDAT', 'OC5BTIM', 'OC5ADAT', 'OC5ATIM', 'OC5AS1', 'OC5AS5', 'OC5AS10', 'OC5AS15', 'OC5AS20', 'OC5BWHGT', 'OC5BLGTH', 'OC5HCIRC', 'OC5GAGE', 'OC5SEX', 'OC5SPTIM', 'OC5CBSOR', 'OC5PH', 'OC5PC02', 'OC5PO2', 'OC5HC03', 'OC5BASE', 'OC5PNSOU', 'OC5PBGD', 'OC5PBGT', 'OC5PPH', 'OC5PPC02', 'OC5PPO2', 'OC5PHC03', 'OC5PBASE', 'CMP_DATE', 'CRT_DATE']\n",
      "(4/23) filename: oc06d.csv columns: ['HTHRM_ID', 'OC6DASI', 'OC6DSHIV', 'CENTER', 'OC6DINTV', 'OC6DTPDT', 'OC6DTPTM', 'OC6DSKNT', 'OC6DAXIT']\n",
      "(5/23) filename: oc06t.csv columns: ['HTHRM_ID', 'OC6TASI', 'OC6TSHIV', 'CENTER', 'OC6TINTV', 'OC6TINT', 'OC6TTPDT', 'OC6TTPTM', 'OC6TSKNT', 'OC6TAXIT', 'OC6TESOT', 'OC6TBLKT', 'OC6TSSPT']\n",
      "(6/23) filename: oc06t120.csv columns: ['HTHRM_ID', 'OC6CLPRD', 'OC6CLICE', 'OC6CLPAS', 'OC6CLCLN', 'OC6TMPOV', 'OC6RCHNT', 'OC6RNNRN', 'OC6CLTEP', 'OC6NCERS', 'OC6NCECS', 'OC6INIT', 'CENTER', 'OC6TGTTP', 'OC6CLDAT', 'OC6CLTIM', 'OC6TODAT', 'OC6TOTIM', 'OC6TPBDM', 'OC6TPBTM', 'OC6TPBSM', 'OC6TPBAM', 'OC6TPBEM', 'OC6TPBVM', 'OC6TPBDX', 'OC6TPBTX', 'OC6TPBSX', 'OC6TPBAX', 'OC6TPBEX', 'OC6TPBVX', 'OC6RNDAT', 'OC6RNTIM', 'OC6RNTMP', 'OC6NCEPR', 'OC6NCEDT', 'OC6NCETM', 'OC6NCECC']\n",
      "(7/23) filename: oc06t72.csv columns: ['HTHRM_ID', 'OC6CLPRD', 'OC6CLICE', 'OC6CLPAS', 'OC6CLCLN', 'OC6TMPOV', 'OC6RCHNT', 'OC6RNNRN', 'OC6CLTEP', 'OC6NCERS', 'OC6NCECS', 'OC6INIT', 'CENTER', 'OC6TGTTP', 'OC6CLDAT', 'OC6CLTIM', 'OC6TODAT', 'OC6TOTIM', 'OC6TPBDM', 'OC6TPBTM', 'OC6TPBSM', 'OC6TPBAM', 'OC6TPBEM', 'OC6TPBVM', 'OC6TPBDX', 'OC6TPBTX', 'OC6TPBSX', 'OC6TPBAX', 'OC6TPBEX', 'OC6TPBVX', 'OC6RNDAT', 'OC6RNTIM', 'OC6RNTMP', 'OC6NCEPR', 'OC6NCEDT', 'OC6NCETM', 'OC6NCECC']\n",
      "(8/23) filename: oc07.csv columns: ['HTHRM_ID', 'OC7CVVE', 'OC7CVIA', 'OC7CVBT', 'OC7CPLT', 'OC7BGSRC', 'REC_CMP', 'CENTER', 'OC7INTV', 'OC7CVDT', 'OC7CVTM', 'OC7CBPS', 'OC7CBPD', 'OC7CVHR', 'OC7BGDT', 'OC7BGTM', 'OC7BGPH', 'OC7BPCO', 'OC7BPO2', 'OC7BHCO', 'OC7BGBD', 'OC7BCPH', 'OC7BCPCO', 'OC7BCPO2', 'OC7BCHCO', 'OC7BCBD', 'CMP_DATE', 'CRT_DATE']\n",
      "(9/23) filename: oc08.csv columns: ['HTHRM_ID', 'OC8HELAB', 'REC_CMP', 'CENTER', 'OC8INTV', 'OC8RSRDT', 'OC8RSRTM', 'OC8RSSPT', 'OC8RSFIO', 'OC8RSRHZ', 'OC8RSPDP', 'OC8RSMAP', 'OC8RSPEP', 'OC8HEWBC', 'OC8HEHGB', 'OC8HEDCP', 'OC8HEDCM', 'OC8HEDCL', 'OC8HEPCT', 'OC8HEPT', 'OC8HEPTT', 'OC8OMAC1', 'OC8OMAC2', 'OC8OMAC3', 'OC8OMAG1', 'OC8OMAG2', 'OC8OMAG3', 'OC8OMAP1', 'OC8OMAP2', 'OC8OMAP3', 'OC8OMNB1', 'OC8OMNB2', 'OC8OMNB3', 'OC8OMFI', 'OC8OMUO', 'CMP_DATE', 'CRT_DATE']\n",
      "(10/23) filename: oc09.csv columns: ['HTHRM_ID', 'OC9ATPR', 'OC9ATBL', 'OC9ATRW', 'REC_CMP', 'CENTER', 'OC9PHMN', 'OC9PMID', 'OC9PHMX', 'OC9PMXD', 'OC9HCMN', 'OC9HCDA', 'OC9BDMX', 'OC9BDMXD', 'OC9SSMN', 'OC9SSDA', 'OC9SSMX', 'OC9SSMXD', 'OC9SPMN', 'OC9SPDA', 'OC9SPMX', 'OC9SPMXD', 'OC9CHMN', 'OC9CHDA', 'OC9CHMX', 'OC9CHMXD', 'OC9BNBL', 'OC9BNDAT', 'OC9BNMX', 'OC9BNMXD', 'OC9CRBL', 'OC9CRDAT', 'OC9CRMX', 'OC9CRMXD', 'OC9GLMN', 'OC9GLDA', 'OC9GLMX', 'OC9GLMXD', 'OC9TCMN', 'OC9TCDA', 'OC9TCMX', 'OC9TCMXD', 'OC9IOMN', 'OC9IODA', 'OC9IOMX', 'OC9IOMXD', 'OC9ASBL', 'OC9ASDAT', 'OC9ASMN', 'OC9ASDA', 'OC9ASMX', 'OC9ASMXD', 'OC9ASES', 'OC9ASESD', 'OC9ALBL', 'OC9ALDAT', 'OC9ALMN', 'OC9ALDA', 'OC9ALMX', 'OC9ALMXD', 'OC9ALES', 'OC9ALESD', 'OC9TBBL', 'OC9TBDAT', 'OC9TBMN', 'OC9TBDA', 'OC9TBMX', 'OC9TBMXD', 'OC9TBES', 'OC9TBESD', 'OC9HMMN', 'OC9HMDA', 'OC9PCMN', 'OC9PCDA', 'OC9ATBC1', 'OC9ATBC2', 'OC9ATBC3', 'OC9AABC1', 'OC9AABC2', 'OC9AABC3', 'OC9ARWC1', 'OC9ARWC2', 'OC9ARWC3', 'CMP_DATE', 'CRT_DATE']\n",
      "(11/23) filename: oc09i.csv columns: ['HTHRM_ID', 'CENTER', 'OC9IPCNU', 'OC9ISOUR', 'OC9IDATE', 'OC9ITIME', 'OC9IOCO1', 'OC9IOCO2', 'OC9IOCO3']\n",
      "(12/23) filename: oc10.csv columns: ['HTHRM_ID', 'OC10INT', 'OC10SPFY', 'OC10INIT', 'REC_CMP', 'CENTER', 'OC10RPTN', 'OC10INTR', 'OC10IDAT', 'OC10ITIM', 'OC10RDAT', 'OC10RTIM', 'OC10TEMP', 'CMP_DATE', 'CRT_DATE']\n",
      "(13/23) filename: oc11.csv columns: ['HTHRM_ID', 'OC11EXNM', 'OC11EXDN', 'OC11C_DT', 'OC11CASR', 'OC11CLSZ', 'OC11ISED', 'OC11AFCL', 'OC11AFFH', 'OC11AFAM', 'OC11AFGR', 'OC11AFNR', 'OC11ENAM', 'REC_CMP', 'CENTER', 'OC11EXCO', 'OC11EXDT', 'OC11EXTM', 'OC11C_LC', 'OC11CSPA', 'OC11CPOS', 'OC11CPRS', 'OC11CPRM', 'OC11CASP', 'OC11CASH', 'CMP_DATE', 'CRT_DATE']\n",
      "(14/23) filename: oc12.csv columns: ['HTHRM_ID', 'OC12HSON', 'OC12HSRS', 'OC12HCT', 'OC12HCRS', 'OC12MRI', 'OC12BMRS', 'REC_CMP', 'CENTER', 'OC12INTV', 'OC12HSDA', 'OC12HSTM', 'OC12HSRA', 'OC12HSRB', 'OC12HSRC', 'OC12HSRD', 'OC12HSRE', 'OC12HSRF', 'OC12HSRG', 'OC12HSRH', 'OC12HCDA', 'OC12HCTM', 'OC12HCRA', 'OC12HCRB', 'OC12HCRC', 'OC12HCRD', 'OC12HCRE', 'OC12HCRF', 'OC12HCRG', 'OC12HCRH', 'OC12BMDA', 'OC12BMTM', 'OC12BMRA', 'OC12BMRB', 'OC12BMRC', 'OC12BMRD', 'OC12BMRE', 'OC12BMRF', 'OC12BMRG', 'OC12BMRH', 'CMP_DATE', 'CRT_DATE']\n",
      "(15/23) filename: oc13.csv columns: ['HTHRM_ID', 'OC13MASY', 'OC13PPHN', 'OC13PHEM', 'OC13PNEU', 'OC13CHLD', 'OC13ECMO', 'OC13INO', 'OC13CARD', 'OC13CFAI', 'OC13CDYS', 'OC13CISC', 'OC13HYPO', 'OC13ARRH', 'OC13SEIZ', 'OC13SPRI', 'OC13SAFT', 'OC13SDMP', 'OC13SDRW', 'OC13SAAB', 'OC13EEG', 'OC13FCON', 'OC13ABBK', 'OC13ANCV', 'OC13SEPT', 'OC13ME', 'OC13ROLI', 'OC13RANU', 'OC13RDIA', 'OC13FLNP', 'OC13NEC', 'OC13HPDY', 'OC13HDIC', 'OC13HYGL', 'OC13HYCA', 'OC13HYPM', 'OC13SMDI', 'OC13MJSU', 'OC13POIT', 'OC13POIS', 'OC13HEAT', 'OC13HTRS', 'OC13ALIN', 'OC13ERYT', 'OC13SCLE', 'OC13CYAN', 'OC13SUFN', 'OC13WSUF', 'OC13WSDE', 'OC13WSNE', 'OC13WSIS', 'OC13WSEF', 'OC13WSMS', 'OC13WSBB', 'OC13WSPW', 'OC13WSO', 'OC13WSOS', 'OC13SWD', 'OC13LOC', 'OC13DBCT', 'OC13LBFA', 'OC13NFMV', 'OC13NFBM', 'OC13NFME', 'OC13NFCC', 'OC13NFEM', 'OC13DNR', 'OC13HOTH', 'OC13HTVE', 'OC13HTOX', 'OC13HTTF', 'OC13HTGT', 'OC13MTTB', 'OC13HTAM', 'OC13HRO', 'OC13HTOS', 'OC13DEAP', 'OC13CODS', 'OC13INIT', 'REC_CMP', 'CENTER', 'OC13STAT', 'OC13SDAT', 'OC13WGHT', 'OC13LGTH', 'OC13CIRC', 'OC13DVEN', 'OC13DOXY', 'OC13DCPA', 'OC13CDAT', 'OC13CTIM', 'OC13ADAT', 'OC13ATIM', 'OC13SOR1', 'OC13SOR2', 'OC13SOR3', 'OC13MEO1', 'OC13MEO2', 'OC13ME03', 'OC13DEFS', 'OC13DTFE', 'OC13FNDL', 'OC13BD1', 'OC13BD2', 'OC13BD3', 'OC13SUC1', 'OC13SUC2', 'OC13SUC3', 'OC13EODA', 'OC13ERDA', 'OC13SCOD', 'OC13SCRD', 'OC13CODA', 'OC13CRDA', 'OC13SUOD', 'OC13SURD', 'OC13SWDD', 'OC13SWDT', 'OC13DNRD', 'OC13DNRT', 'OC13RTRS', 'OC13OUTC', 'OC13DDAT', 'OC13DEDA', 'OC13DETM', 'OC13COD', 'OC13SOI', 'CMP_DATE', 'CRT_DATE']\n",
      "(16/23) filename: oc14.csv columns: ['HTHRM_ID', 'OC14PVSP', 'OC14CIRS', 'OC14COMM', 'OC14NAME', 'OC14INIT', 'CENTER', 'OC14RPTN', 'OC14DATE', 'OC14NOPV', 'OC14TRAS', 'OC14TRRC', 'OC14CIRC']\n",
      "(17/23) filename: oc15.csv columns: ['HTHRM_ID', 'OC15CCOM', 'OC15MCOM', 'OC15TCOM', 'OC15BCOM', 'OC15ACOM', 'OC15DCOM', 'OC15INIT', 'REC_CMP', 'CENTER', 'OC15EVNM', 'OC15CDTO', 'OC15CTMO', 'OC15CDTR', 'OC15CTMR', 'OC15CATT', 'OC15CACT', 'OC15COUT', 'OC15MDTO', 'OC15MTMO', 'OC15MDTR', 'OC15MTMR', 'OC15MATT', 'OC15MACT', 'OC15MOUT', 'OC15TDTO', 'OC15TTMO', 'OC15TDTR', 'OC15TTMR', 'OC15TATT', 'OC15TACT', 'OC15TOUT', 'OC15BDTO', 'OC15BTMO', 'OC15BDTR', 'OC15BTMR', 'OC15BATT', 'OC15BACT', 'OC15BOUT', 'OC15ALT', 'OC15ADTO', 'OC15ADTR', 'OC15AATT', 'OC15ACT', 'OC15AOUT', 'OC15DDT', 'OC15DTM', 'OC15DATT', 'OC15DACT', 'OC15DOUT', 'CMP_DATE', 'CRT_DATE', 'OC15OSP', 'OC15OCOM', 'OC15ODTO', 'OC15OTMO', 'OC15ODTR', 'OC15OTMR', 'OC15OATT', 'OC15OACT', 'OC15OOUT']\n",
      "(18/23) filename: oc17.csv columns: ['HTHRM_ID', 'O17CSBC', 'O17EKG', 'O17EKGRS', 'O17AAMED', 'O17INIT', 'CENTER', 'O17RPTNM', 'O17EKGR', 'O17EBSDT', 'O17EBSTM', 'O17EBDUR', 'O17EBLHR']\n",
      "(19/23) filename: ocmr01.csv columns: ['Site', 'OPTCID', 'BIRTHNM', 'SITENM', 'OM1MRIA', 'OM1MRIA_code', 'OM1MRIR', 'OM1MRIR_code', 'OM1MRIS', 'OM1MRIW', 'OM1MRIW_code', 'OM1COMM', 'FormStatus', 'DateComplete', 'DateCreated', 'KeyedUser']\n",
      "(20/23) filename: ocmr02.csv columns: ['Site', 'OPTCID', 'OM2MRIDT', 'OM2MRITM', 'OM2RTSIDT', 'OM2INIT', 'OM2RTIRDT', 'FormStatus', 'DateComplete', 'DateCreated', 'KeyedUser']\n",
      "(21/23) filename: ocmr03.csv columns: ['Site', 'Increment', 'OPTCID', 'OM3READR', 'OM3READR_code', 'OM3READD', 'OM3MRIDT', 'OM3MFS', 'OM3ADQL', 'OM3ADQL_code', 'OM3T1_1', 'OM3T1_2', 'OM3T1_3', 'OM3T1_', 'OM3T2_1', 'OM3T2_2', 'OM3T2_3', 'OM3T2_', 'OM3T2FL_1', 'OM3T2FL_2', 'OM3T2FL_3', 'OM3T2FL_', 'OM3GRESW_1', 'OM3GRESW_2', 'OM3GRESW_3', 'OM3GRESW_', 'OM3SPGR_1', 'OM3SPGR_2', 'OM3SPGR_3', 'OM3SPGR_', 'OM3DWI', 'OM3DWI_code', 'OM3ADC', 'OM3ADC_code', 'OM3OTHR', 'OM3OTHR_code', 'OM3OTHS', 'OM3OVERD', 'OM3OVERD_code', 'OM3SIGABN', 'OM3SIGABN_code', 'OM3MRS', 'OM3MRS_code', 'OM3RDRSTAT', 'OM3RDRSTAT_code', 'OM3RDRSTATSP', 'OM3CERAT', 'OM3CERAT_code', 'OM3CERRG', 'OM3QACCT', 'OM3QACCT_code', 'OM3QAVDL', 'OM3QAVDL_code', 'OM3QAVDR', 'OM3QAVDR_code', 'OM3INFAR', 'OM3INFAR_code', 'OM3INFCAT_1', 'OM3INFCAT_2', 'OM3MIDSH', 'OM3MIDSH_code', 'OM3CERATGL', 'OM3CERATGL_code', 'OM3BGT', 'OM3BGT_code', 'OM3PLIC', 'OM3PLIC_code', 'OM3WATER', 'OM3WATER_code', 'OM3WMI', 'OM3WMI_code', 'OM3COMM', 'OM3PATINJ', 'OM3PATINJ_code', 'OM3EXTENT', 'OM3EXTENT_code', 'OM3LATR', 'OM3LATR_code', 'FormStatus', 'DateComplete', 'DateCreated', 'KeyedUser']\n",
      "(22/23) filename: ocmr03b.csv columns: ['Site', 'OPTCID', 'Iteration', 'OM3READR', 'OM3READR_code', 'OM3LESNM', 'OM3LESHS', 'OM3LESHS_code', 'OM3LESRG', 'OM3LESRG_code', 'OM3LESSD', 'OM3LESSD_code', 'OM3LESGM', 'OM3LESGM_code', 'OM3LESEX', 'OM3LESEX_code', 'OM3LESTY', 'OM3LESTY_code', 'OM3LESCM', 'FormStatus', 'DateComplete', 'DateCreated', 'KeyedUser']\n"
     ]
    }
   ],
   "source": [
    "for idx, each_df in enumerate(dfs):\n",
    "    print(f'({idx}/{len(dfs)}) filename: {filenames[idx]} columns: {list(each_df.columns)}')"
   ]
  },
  {
   "cell_type": "markdown",
   "id": "cceb92f9",
   "metadata": {},
   "source": [
    "### 03.2 all columns"
   ]
  },
  {
   "cell_type": "code",
   "execution_count": 11,
   "id": "28dc066c",
   "metadata": {
    "execution": {
     "iopub.execute_input": "2025-01-21T19:14:49.563926Z",
     "iopub.status.busy": "2025-01-21T19:14:49.563618Z",
     "iopub.status.idle": "2025-01-21T19:14:49.586548Z",
     "shell.execute_reply": "2025-01-21T19:14:49.586158Z"
    }
   },
   "outputs": [],
   "source": [
    "all_columns = []\n",
    "for idx, each_df in enumerate(dfs):\n",
    "    all_columns += list(map(lambda x: {'column': x, 'idx': idx, 'filename': filenames[idx]}, list(each_df.columns)))\n",
    "df_columns = pd.DataFrame(all_columns)\n",
    "df_columns['column:filename'] = df_columns.apply(lambda x: f\"{x['column']}:{x['filename']}\", axis=1)\n",
    "df_columns['column:filename:idx'] = df_columns.apply(lambda x: f\"{x['column']}:{x['filename']}:{x['idx']}\", axis=1)\n",
    "df_columns.sort_values(by=['filename', 'column'], inplace=True)"
   ]
  },
  {
   "cell_type": "code",
   "execution_count": 12,
   "id": "69334595-218f-4f14-86d6-f429ef997c61",
   "metadata": {
    "execution": {
     "iopub.execute_input": "2025-01-21T19:14:49.588503Z",
     "iopub.status.busy": "2025-01-21T19:14:49.588335Z",
     "iopub.status.idle": "2025-01-21T19:14:49.597988Z",
     "shell.execute_reply": "2025-01-21T19:14:49.597667Z"
    }
   },
   "outputs": [
    {
     "data": {
      "text/html": [
       "<div>\n",
       "<style scoped>\n",
       "    .dataframe tbody tr th:only-of-type {\n",
       "        vertical-align: middle;\n",
       "    }\n",
       "\n",
       "    .dataframe tbody tr th {\n",
       "        vertical-align: top;\n",
       "    }\n",
       "\n",
       "    .dataframe thead th {\n",
       "        text-align: right;\n",
       "    }\n",
       "</style>\n",
       "<table border=\"1\" class=\"dataframe\">\n",
       "  <thead>\n",
       "    <tr style=\"text-align: right;\">\n",
       "      <th></th>\n",
       "      <th>column</th>\n",
       "      <th>idx</th>\n",
       "      <th>filename</th>\n",
       "      <th>column:filename</th>\n",
       "      <th>column:filename:idx</th>\n",
       "    </tr>\n",
       "  </thead>\n",
       "  <tbody>\n",
       "    <tr>\n",
       "      <th>7</th>\n",
       "      <td>BIRTHDT</td>\n",
       "      <td>0</td>\n",
       "      <td>oc01.csv</td>\n",
       "      <td>BIRTHDT:oc01.csv</td>\n",
       "      <td>BIRTHDT:oc01.csv:0</td>\n",
       "    </tr>\n",
       "    <tr>\n",
       "      <th>8</th>\n",
       "      <td>BIRTHNM</td>\n",
       "      <td>0</td>\n",
       "      <td>oc01.csv</td>\n",
       "      <td>BIRTHNM:oc01.csv</td>\n",
       "      <td>BIRTHNM:oc01.csv:0</td>\n",
       "    </tr>\n",
       "    <tr>\n",
       "      <th>6</th>\n",
       "      <td>CENTER</td>\n",
       "      <td>0</td>\n",
       "      <td>oc01.csv</td>\n",
       "      <td>CENTER:oc01.csv</td>\n",
       "      <td>CENTER:oc01.csv:0</td>\n",
       "    </tr>\n",
       "    <tr>\n",
       "      <th>9</th>\n",
       "      <td>CMP_DATE</td>\n",
       "      <td>0</td>\n",
       "      <td>oc01.csv</td>\n",
       "      <td>CMP_DATE:oc01.csv</td>\n",
       "      <td>CMP_DATE:oc01.csv:0</td>\n",
       "    </tr>\n",
       "    <tr>\n",
       "      <th>4</th>\n",
       "      <td>COMMENT</td>\n",
       "      <td>0</td>\n",
       "      <td>oc01.csv</td>\n",
       "      <td>COMMENT:oc01.csv</td>\n",
       "      <td>COMMENT:oc01.csv:0</td>\n",
       "    </tr>\n",
       "    <tr>\n",
       "      <th>...</th>\n",
       "      <td>...</td>\n",
       "      <td>...</td>\n",
       "      <td>...</td>\n",
       "      <td>...</td>\n",
       "      <td>...</td>\n",
       "    </tr>\n",
       "    <tr>\n",
       "      <th>845</th>\n",
       "      <td>OM3LESTY_code</td>\n",
       "      <td>22</td>\n",
       "      <td>ocmr03b.csv</td>\n",
       "      <td>OM3LESTY_code:ocmr03b.csv</td>\n",
       "      <td>OM3LESTY_code:ocmr03b.csv:22</td>\n",
       "    </tr>\n",
       "    <tr>\n",
       "      <th>831</th>\n",
       "      <td>OM3READR</td>\n",
       "      <td>22</td>\n",
       "      <td>ocmr03b.csv</td>\n",
       "      <td>OM3READR:ocmr03b.csv</td>\n",
       "      <td>OM3READR:ocmr03b.csv:22</td>\n",
       "    </tr>\n",
       "    <tr>\n",
       "      <th>832</th>\n",
       "      <td>OM3READR_code</td>\n",
       "      <td>22</td>\n",
       "      <td>ocmr03b.csv</td>\n",
       "      <td>OM3READR_code:ocmr03b.csv</td>\n",
       "      <td>OM3READR_code:ocmr03b.csv:22</td>\n",
       "    </tr>\n",
       "    <tr>\n",
       "      <th>829</th>\n",
       "      <td>OPTCID</td>\n",
       "      <td>22</td>\n",
       "      <td>ocmr03b.csv</td>\n",
       "      <td>OPTCID:ocmr03b.csv</td>\n",
       "      <td>OPTCID:ocmr03b.csv:22</td>\n",
       "    </tr>\n",
       "    <tr>\n",
       "      <th>828</th>\n",
       "      <td>Site</td>\n",
       "      <td>22</td>\n",
       "      <td>ocmr03b.csv</td>\n",
       "      <td>Site:ocmr03b.csv</td>\n",
       "      <td>Site:ocmr03b.csv:22</td>\n",
       "    </tr>\n",
       "  </tbody>\n",
       "</table>\n",
       "<p>851 rows × 5 columns</p>\n",
       "</div>"
      ],
      "text/plain": [
       "            column  idx     filename            column:filename  \\\n",
       "7          BIRTHDT    0     oc01.csv           BIRTHDT:oc01.csv   \n",
       "8          BIRTHNM    0     oc01.csv           BIRTHNM:oc01.csv   \n",
       "6           CENTER    0     oc01.csv            CENTER:oc01.csv   \n",
       "9         CMP_DATE    0     oc01.csv          CMP_DATE:oc01.csv   \n",
       "4          COMMENT    0     oc01.csv           COMMENT:oc01.csv   \n",
       "..             ...  ...          ...                        ...   \n",
       "845  OM3LESTY_code   22  ocmr03b.csv  OM3LESTY_code:ocmr03b.csv   \n",
       "831       OM3READR   22  ocmr03b.csv       OM3READR:ocmr03b.csv   \n",
       "832  OM3READR_code   22  ocmr03b.csv  OM3READR_code:ocmr03b.csv   \n",
       "829         OPTCID   22  ocmr03b.csv         OPTCID:ocmr03b.csv   \n",
       "828           Site   22  ocmr03b.csv           Site:ocmr03b.csv   \n",
       "\n",
       "              column:filename:idx  \n",
       "7              BIRTHDT:oc01.csv:0  \n",
       "8              BIRTHNM:oc01.csv:0  \n",
       "6               CENTER:oc01.csv:0  \n",
       "9             CMP_DATE:oc01.csv:0  \n",
       "4              COMMENT:oc01.csv:0  \n",
       "..                            ...  \n",
       "845  OM3LESTY_code:ocmr03b.csv:22  \n",
       "831       OM3READR:ocmr03b.csv:22  \n",
       "832  OM3READR_code:ocmr03b.csv:22  \n",
       "829         OPTCID:ocmr03b.csv:22  \n",
       "828           Site:ocmr03b.csv:22  \n",
       "\n",
       "[851 rows x 5 columns]"
      ]
     },
     "execution_count": 12,
     "metadata": {},
     "output_type": "execute_result"
    }
   ],
   "source": [
    "df_columns"
   ]
  },
  {
   "cell_type": "code",
   "execution_count": 13,
   "id": "82e92c05",
   "metadata": {
    "execution": {
     "iopub.execute_input": "2025-01-21T19:14:49.599686Z",
     "iopub.status.busy": "2025-01-21T19:14:49.599546Z",
     "iopub.status.idle": "2025-01-21T19:14:49.606827Z",
     "shell.execute_reply": "2025-01-21T19:14:49.606543Z"
    }
   },
   "outputs": [
    {
     "data": {
      "text/html": [
       "<div>\n",
       "<style scoped>\n",
       "    .dataframe tbody tr th:only-of-type {\n",
       "        vertical-align: middle;\n",
       "    }\n",
       "\n",
       "    .dataframe tbody tr th {\n",
       "        vertical-align: top;\n",
       "    }\n",
       "\n",
       "    .dataframe thead th {\n",
       "        text-align: right;\n",
       "    }\n",
       "</style>\n",
       "<table border=\"1\" class=\"dataframe\">\n",
       "  <thead>\n",
       "    <tr style=\"text-align: right;\">\n",
       "      <th></th>\n",
       "      <th>count</th>\n",
       "    </tr>\n",
       "    <tr>\n",
       "      <th>column</th>\n",
       "      <th></th>\n",
       "    </tr>\n",
       "  </thead>\n",
       "  <tbody>\n",
       "    <tr>\n",
       "      <th>CENTER</th>\n",
       "      <td>19</td>\n",
       "    </tr>\n",
       "    <tr>\n",
       "      <th>HTHRM_ID</th>\n",
       "      <td>19</td>\n",
       "    </tr>\n",
       "    <tr>\n",
       "      <th>REC_CMP</th>\n",
       "      <td>12</td>\n",
       "    </tr>\n",
       "    <tr>\n",
       "      <th>CMP_DATE</th>\n",
       "      <td>12</td>\n",
       "    </tr>\n",
       "    <tr>\n",
       "      <th>CRT_DATE</th>\n",
       "      <td>12</td>\n",
       "    </tr>\n",
       "    <tr>\n",
       "      <th>Site</th>\n",
       "      <td>4</td>\n",
       "    </tr>\n",
       "    <tr>\n",
       "      <th>OPTCID</th>\n",
       "      <td>4</td>\n",
       "    </tr>\n",
       "    <tr>\n",
       "      <th>FormStatus</th>\n",
       "      <td>4</td>\n",
       "    </tr>\n",
       "    <tr>\n",
       "      <th>KeyedUser</th>\n",
       "      <td>4</td>\n",
       "    </tr>\n",
       "    <tr>\n",
       "      <th>DateCreated</th>\n",
       "      <td>4</td>\n",
       "    </tr>\n",
       "    <tr>\n",
       "      <th>DateComplete</th>\n",
       "      <td>4</td>\n",
       "    </tr>\n",
       "    <tr>\n",
       "      <th>OC6RNDAT</th>\n",
       "      <td>2</td>\n",
       "    </tr>\n",
       "    <tr>\n",
       "      <th>OC6RCHNT</th>\n",
       "      <td>2</td>\n",
       "    </tr>\n",
       "    <tr>\n",
       "      <th>OC6NCETM</th>\n",
       "      <td>2</td>\n",
       "    </tr>\n",
       "    <tr>\n",
       "      <th>OC6NCERS</th>\n",
       "      <td>2</td>\n",
       "    </tr>\n",
       "    <tr>\n",
       "      <th>OC6NCEPR</th>\n",
       "      <td>2</td>\n",
       "    </tr>\n",
       "    <tr>\n",
       "      <th>OC6NCEDT</th>\n",
       "      <td>2</td>\n",
       "    </tr>\n",
       "    <tr>\n",
       "      <th>OC6NCECS</th>\n",
       "      <td>2</td>\n",
       "    </tr>\n",
       "    <tr>\n",
       "      <th>OC6NCECC</th>\n",
       "      <td>2</td>\n",
       "    </tr>\n",
       "    <tr>\n",
       "      <th>OC6INIT</th>\n",
       "      <td>2</td>\n",
       "    </tr>\n",
       "  </tbody>\n",
       "</table>\n",
       "</div>"
      ],
      "text/plain": [
       "              count\n",
       "column             \n",
       "CENTER           19\n",
       "HTHRM_ID         19\n",
       "REC_CMP          12\n",
       "CMP_DATE         12\n",
       "CRT_DATE         12\n",
       "Site              4\n",
       "OPTCID            4\n",
       "FormStatus        4\n",
       "KeyedUser         4\n",
       "DateCreated       4\n",
       "DateComplete      4\n",
       "OC6RNDAT          2\n",
       "OC6RCHNT          2\n",
       "OC6NCETM          2\n",
       "OC6NCERS          2\n",
       "OC6NCEPR          2\n",
       "OC6NCEDT          2\n",
       "OC6NCECS          2\n",
       "OC6NCECC          2\n",
       "OC6INIT           2"
      ]
     },
     "execution_count": 13,
     "metadata": {},
     "output_type": "execute_result"
    }
   ],
   "source": [
    "df_columns_count = df_columns.groupby(['column']).agg(count=('column', 'count')).sort_values(by=['count'], ascending=False)\n",
    "df_columns_count.head(20)"
   ]
  },
  {
   "cell_type": "markdown",
   "id": "2474eca4-e00d-4f45-874f-2110f08f0ce0",
   "metadata": {},
   "source": [
    "### 03.3 check HTHRM_ID"
   ]
  },
  {
   "cell_type": "code",
   "execution_count": 14,
   "id": "a184686e-ccef-4469-8ef6-01d5d87754d1",
   "metadata": {
    "execution": {
     "iopub.execute_input": "2025-01-21T19:14:49.608381Z",
     "iopub.status.busy": "2025-01-21T19:14:49.608240Z",
     "iopub.status.idle": "2025-01-21T19:14:49.612926Z",
     "shell.execute_reply": "2025-01-21T19:14:49.612676Z"
    }
   },
   "outputs": [
    {
     "data": {
      "text/html": [
       "<div>\n",
       "<style scoped>\n",
       "    .dataframe tbody tr th:only-of-type {\n",
       "        vertical-align: middle;\n",
       "    }\n",
       "\n",
       "    .dataframe tbody tr th {\n",
       "        vertical-align: top;\n",
       "    }\n",
       "\n",
       "    .dataframe thead th {\n",
       "        text-align: right;\n",
       "    }\n",
       "</style>\n",
       "<table border=\"1\" class=\"dataframe\">\n",
       "  <thead>\n",
       "    <tr style=\"text-align: right;\">\n",
       "      <th></th>\n",
       "      <th>column</th>\n",
       "      <th>idx</th>\n",
       "      <th>filename</th>\n",
       "      <th>column:filename</th>\n",
       "      <th>column:filename:idx</th>\n",
       "    </tr>\n",
       "  </thead>\n",
       "  <tbody>\n",
       "    <tr>\n",
       "      <th>0</th>\n",
       "      <td>HTHRM_ID</td>\n",
       "      <td>0</td>\n",
       "      <td>oc01.csv</td>\n",
       "      <td>HTHRM_ID:oc01.csv</td>\n",
       "      <td>HTHRM_ID:oc01.csv:0</td>\n",
       "    </tr>\n",
       "    <tr>\n",
       "      <th>11</th>\n",
       "      <td>HTHRM_ID</td>\n",
       "      <td>1</td>\n",
       "      <td>oc02.csv</td>\n",
       "      <td>HTHRM_ID:oc02.csv</td>\n",
       "      <td>HTHRM_ID:oc02.csv:1</td>\n",
       "    </tr>\n",
       "    <tr>\n",
       "      <th>59</th>\n",
       "      <td>HTHRM_ID</td>\n",
       "      <td>2</td>\n",
       "      <td>oc04.csv</td>\n",
       "      <td>HTHRM_ID:oc04.csv</td>\n",
       "      <td>HTHRM_ID:oc04.csv:2</td>\n",
       "    </tr>\n",
       "    <tr>\n",
       "      <th>113</th>\n",
       "      <td>HTHRM_ID</td>\n",
       "      <td>3</td>\n",
       "      <td>oc05.csv</td>\n",
       "      <td>HTHRM_ID:oc05.csv</td>\n",
       "      <td>HTHRM_ID:oc05.csv:3</td>\n",
       "    </tr>\n",
       "    <tr>\n",
       "      <th>164</th>\n",
       "      <td>HTHRM_ID</td>\n",
       "      <td>4</td>\n",
       "      <td>oc06d.csv</td>\n",
       "      <td>HTHRM_ID:oc06d.csv</td>\n",
       "      <td>HTHRM_ID:oc06d.csv:4</td>\n",
       "    </tr>\n",
       "    <tr>\n",
       "      <th>173</th>\n",
       "      <td>HTHRM_ID</td>\n",
       "      <td>5</td>\n",
       "      <td>oc06t.csv</td>\n",
       "      <td>HTHRM_ID:oc06t.csv</td>\n",
       "      <td>HTHRM_ID:oc06t.csv:5</td>\n",
       "    </tr>\n",
       "    <tr>\n",
       "      <th>186</th>\n",
       "      <td>HTHRM_ID</td>\n",
       "      <td>6</td>\n",
       "      <td>oc06t120.csv</td>\n",
       "      <td>HTHRM_ID:oc06t120.csv</td>\n",
       "      <td>HTHRM_ID:oc06t120.csv:6</td>\n",
       "    </tr>\n",
       "    <tr>\n",
       "      <th>223</th>\n",
       "      <td>HTHRM_ID</td>\n",
       "      <td>7</td>\n",
       "      <td>oc06t72.csv</td>\n",
       "      <td>HTHRM_ID:oc06t72.csv</td>\n",
       "      <td>HTHRM_ID:oc06t72.csv:7</td>\n",
       "    </tr>\n",
       "    <tr>\n",
       "      <th>260</th>\n",
       "      <td>HTHRM_ID</td>\n",
       "      <td>8</td>\n",
       "      <td>oc07.csv</td>\n",
       "      <td>HTHRM_ID:oc07.csv</td>\n",
       "      <td>HTHRM_ID:oc07.csv:8</td>\n",
       "    </tr>\n",
       "    <tr>\n",
       "      <th>288</th>\n",
       "      <td>HTHRM_ID</td>\n",
       "      <td>9</td>\n",
       "      <td>oc08.csv</td>\n",
       "      <td>HTHRM_ID:oc08.csv</td>\n",
       "      <td>HTHRM_ID:oc08.csv:9</td>\n",
       "    </tr>\n",
       "    <tr>\n",
       "      <th>325</th>\n",
       "      <td>HTHRM_ID</td>\n",
       "      <td>10</td>\n",
       "      <td>oc09.csv</td>\n",
       "      <td>HTHRM_ID:oc09.csv</td>\n",
       "      <td>HTHRM_ID:oc09.csv:10</td>\n",
       "    </tr>\n",
       "    <tr>\n",
       "      <th>410</th>\n",
       "      <td>HTHRM_ID</td>\n",
       "      <td>11</td>\n",
       "      <td>oc09i.csv</td>\n",
       "      <td>HTHRM_ID:oc09i.csv</td>\n",
       "      <td>HTHRM_ID:oc09i.csv:11</td>\n",
       "    </tr>\n",
       "    <tr>\n",
       "      <th>419</th>\n",
       "      <td>HTHRM_ID</td>\n",
       "      <td>12</td>\n",
       "      <td>oc10.csv</td>\n",
       "      <td>HTHRM_ID:oc10.csv</td>\n",
       "      <td>HTHRM_ID:oc10.csv:12</td>\n",
       "    </tr>\n",
       "    <tr>\n",
       "      <th>434</th>\n",
       "      <td>HTHRM_ID</td>\n",
       "      <td>13</td>\n",
       "      <td>oc11.csv</td>\n",
       "      <td>HTHRM_ID:oc11.csv</td>\n",
       "      <td>HTHRM_ID:oc11.csv:13</td>\n",
       "    </tr>\n",
       "    <tr>\n",
       "      <th>461</th>\n",
       "      <td>HTHRM_ID</td>\n",
       "      <td>14</td>\n",
       "      <td>oc12.csv</td>\n",
       "      <td>HTHRM_ID:oc12.csv</td>\n",
       "      <td>HTHRM_ID:oc12.csv:14</td>\n",
       "    </tr>\n",
       "    <tr>\n",
       "      <th>503</th>\n",
       "      <td>HTHRM_ID</td>\n",
       "      <td>15</td>\n",
       "      <td>oc13.csv</td>\n",
       "      <td>HTHRM_ID:oc13.csv</td>\n",
       "      <td>HTHRM_ID:oc13.csv:15</td>\n",
       "    </tr>\n",
       "    <tr>\n",
       "      <th>632</th>\n",
       "      <td>HTHRM_ID</td>\n",
       "      <td>16</td>\n",
       "      <td>oc14.csv</td>\n",
       "      <td>HTHRM_ID:oc14.csv</td>\n",
       "      <td>HTHRM_ID:oc14.csv:16</td>\n",
       "    </tr>\n",
       "    <tr>\n",
       "      <th>645</th>\n",
       "      <td>HTHRM_ID</td>\n",
       "      <td>17</td>\n",
       "      <td>oc15.csv</td>\n",
       "      <td>HTHRM_ID:oc15.csv</td>\n",
       "      <td>HTHRM_ID:oc15.csv:17</td>\n",
       "    </tr>\n",
       "    <tr>\n",
       "      <th>706</th>\n",
       "      <td>HTHRM_ID</td>\n",
       "      <td>18</td>\n",
       "      <td>oc17.csv</td>\n",
       "      <td>HTHRM_ID:oc17.csv</td>\n",
       "      <td>HTHRM_ID:oc17.csv:18</td>\n",
       "    </tr>\n",
       "  </tbody>\n",
       "</table>\n",
       "</div>"
      ],
      "text/plain": [
       "       column  idx      filename        column:filename  \\\n",
       "0    HTHRM_ID    0      oc01.csv      HTHRM_ID:oc01.csv   \n",
       "11   HTHRM_ID    1      oc02.csv      HTHRM_ID:oc02.csv   \n",
       "59   HTHRM_ID    2      oc04.csv      HTHRM_ID:oc04.csv   \n",
       "113  HTHRM_ID    3      oc05.csv      HTHRM_ID:oc05.csv   \n",
       "164  HTHRM_ID    4     oc06d.csv     HTHRM_ID:oc06d.csv   \n",
       "173  HTHRM_ID    5     oc06t.csv     HTHRM_ID:oc06t.csv   \n",
       "186  HTHRM_ID    6  oc06t120.csv  HTHRM_ID:oc06t120.csv   \n",
       "223  HTHRM_ID    7   oc06t72.csv   HTHRM_ID:oc06t72.csv   \n",
       "260  HTHRM_ID    8      oc07.csv      HTHRM_ID:oc07.csv   \n",
       "288  HTHRM_ID    9      oc08.csv      HTHRM_ID:oc08.csv   \n",
       "325  HTHRM_ID   10      oc09.csv      HTHRM_ID:oc09.csv   \n",
       "410  HTHRM_ID   11     oc09i.csv     HTHRM_ID:oc09i.csv   \n",
       "419  HTHRM_ID   12      oc10.csv      HTHRM_ID:oc10.csv   \n",
       "434  HTHRM_ID   13      oc11.csv      HTHRM_ID:oc11.csv   \n",
       "461  HTHRM_ID   14      oc12.csv      HTHRM_ID:oc12.csv   \n",
       "503  HTHRM_ID   15      oc13.csv      HTHRM_ID:oc13.csv   \n",
       "632  HTHRM_ID   16      oc14.csv      HTHRM_ID:oc14.csv   \n",
       "645  HTHRM_ID   17      oc15.csv      HTHRM_ID:oc15.csv   \n",
       "706  HTHRM_ID   18      oc17.csv      HTHRM_ID:oc17.csv   \n",
       "\n",
       "         column:filename:idx  \n",
       "0        HTHRM_ID:oc01.csv:0  \n",
       "11       HTHRM_ID:oc02.csv:1  \n",
       "59       HTHRM_ID:oc04.csv:2  \n",
       "113      HTHRM_ID:oc05.csv:3  \n",
       "164     HTHRM_ID:oc06d.csv:4  \n",
       "173     HTHRM_ID:oc06t.csv:5  \n",
       "186  HTHRM_ID:oc06t120.csv:6  \n",
       "223   HTHRM_ID:oc06t72.csv:7  \n",
       "260      HTHRM_ID:oc07.csv:8  \n",
       "288      HTHRM_ID:oc08.csv:9  \n",
       "325     HTHRM_ID:oc09.csv:10  \n",
       "410    HTHRM_ID:oc09i.csv:11  \n",
       "419     HTHRM_ID:oc10.csv:12  \n",
       "434     HTHRM_ID:oc11.csv:13  \n",
       "461     HTHRM_ID:oc12.csv:14  \n",
       "503     HTHRM_ID:oc13.csv:15  \n",
       "632     HTHRM_ID:oc14.csv:16  \n",
       "645     HTHRM_ID:oc15.csv:17  \n",
       "706     HTHRM_ID:oc17.csv:18  "
      ]
     },
     "execution_count": 14,
     "metadata": {},
     "output_type": "execute_result"
    }
   ],
   "source": [
    "is_HTHRM_ID = df_columns['column'] == 'HTHRM_ID'\n",
    "df_columns[is_HTHRM_ID]"
   ]
  },
  {
   "cell_type": "markdown",
   "id": "0363374f-7628-4cb8-8279-85aceeee2933",
   "metadata": {},
   "source": [
    "#### column not in dict"
   ]
  },
  {
   "cell_type": "code",
   "execution_count": 15,
   "id": "09ce2321-f69b-474d-8568-4877ca8a0d59",
   "metadata": {
    "execution": {
     "iopub.execute_input": "2025-01-21T19:14:49.614484Z",
     "iopub.status.busy": "2025-01-21T19:14:49.614351Z",
     "iopub.status.idle": "2025-01-21T19:14:49.618974Z",
     "shell.execute_reply": "2025-01-21T19:14:49.618715Z"
    }
   },
   "outputs": [
    {
     "data": {
      "text/html": [
       "<div>\n",
       "<style scoped>\n",
       "    .dataframe tbody tr th:only-of-type {\n",
       "        vertical-align: middle;\n",
       "    }\n",
       "\n",
       "    .dataframe tbody tr th {\n",
       "        vertical-align: top;\n",
       "    }\n",
       "\n",
       "    .dataframe thead th {\n",
       "        text-align: right;\n",
       "    }\n",
       "</style>\n",
       "<table border=\"1\" class=\"dataframe\">\n",
       "  <thead>\n",
       "    <tr style=\"text-align: right;\">\n",
       "      <th></th>\n",
       "      <th>column</th>\n",
       "      <th>idx</th>\n",
       "      <th>filename</th>\n",
       "      <th>column:filename</th>\n",
       "      <th>column:filename:idx</th>\n",
       "    </tr>\n",
       "  </thead>\n",
       "  <tbody>\n",
       "    <tr>\n",
       "      <th>9</th>\n",
       "      <td>CMP_DATE</td>\n",
       "      <td>0</td>\n",
       "      <td>oc01.csv</td>\n",
       "      <td>CMP_DATE:oc01.csv</td>\n",
       "      <td>CMP_DATE:oc01.csv:0</td>\n",
       "    </tr>\n",
       "    <tr>\n",
       "      <th>10</th>\n",
       "      <td>CRT_DATE</td>\n",
       "      <td>0</td>\n",
       "      <td>oc01.csv</td>\n",
       "      <td>CRT_DATE:oc01.csv</td>\n",
       "      <td>CRT_DATE:oc01.csv:0</td>\n",
       "    </tr>\n",
       "    <tr>\n",
       "      <th>3</th>\n",
       "      <td>FIRST</td>\n",
       "      <td>0</td>\n",
       "      <td>oc01.csv</td>\n",
       "      <td>FIRST:oc01.csv</td>\n",
       "      <td>FIRST:oc01.csv:0</td>\n",
       "    </tr>\n",
       "    <tr>\n",
       "      <th>2</th>\n",
       "      <td>LAST</td>\n",
       "      <td>0</td>\n",
       "      <td>oc01.csv</td>\n",
       "      <td>LAST:oc01.csv</td>\n",
       "      <td>LAST:oc01.csv:0</td>\n",
       "    </tr>\n",
       "    <tr>\n",
       "      <th>5</th>\n",
       "      <td>REC_CMP</td>\n",
       "      <td>0</td>\n",
       "      <td>oc01.csv</td>\n",
       "      <td>REC_CMP:oc01.csv</td>\n",
       "      <td>REC_CMP:oc01.csv:0</td>\n",
       "    </tr>\n",
       "    <tr>\n",
       "      <th>...</th>\n",
       "      <td>...</td>\n",
       "      <td>...</td>\n",
       "      <td>...</td>\n",
       "      <td>...</td>\n",
       "      <td>...</td>\n",
       "    </tr>\n",
       "    <tr>\n",
       "      <th>848</th>\n",
       "      <td>DateComplete</td>\n",
       "      <td>22</td>\n",
       "      <td>ocmr03b.csv</td>\n",
       "      <td>DateComplete:ocmr03b.csv</td>\n",
       "      <td>DateComplete:ocmr03b.csv:22</td>\n",
       "    </tr>\n",
       "    <tr>\n",
       "      <th>849</th>\n",
       "      <td>DateCreated</td>\n",
       "      <td>22</td>\n",
       "      <td>ocmr03b.csv</td>\n",
       "      <td>DateCreated:ocmr03b.csv</td>\n",
       "      <td>DateCreated:ocmr03b.csv:22</td>\n",
       "    </tr>\n",
       "    <tr>\n",
       "      <th>847</th>\n",
       "      <td>FormStatus</td>\n",
       "      <td>22</td>\n",
       "      <td>ocmr03b.csv</td>\n",
       "      <td>FormStatus:ocmr03b.csv</td>\n",
       "      <td>FormStatus:ocmr03b.csv:22</td>\n",
       "    </tr>\n",
       "    <tr>\n",
       "      <th>850</th>\n",
       "      <td>KeyedUser</td>\n",
       "      <td>22</td>\n",
       "      <td>ocmr03b.csv</td>\n",
       "      <td>KeyedUser:ocmr03b.csv</td>\n",
       "      <td>KeyedUser:ocmr03b.csv:22</td>\n",
       "    </tr>\n",
       "    <tr>\n",
       "      <th>831</th>\n",
       "      <td>OM3READR</td>\n",
       "      <td>22</td>\n",
       "      <td>ocmr03b.csv</td>\n",
       "      <td>OM3READR:ocmr03b.csv</td>\n",
       "      <td>OM3READR:ocmr03b.csv:22</td>\n",
       "    </tr>\n",
       "  </tbody>\n",
       "</table>\n",
       "<p>75 rows × 5 columns</p>\n",
       "</div>"
      ],
      "text/plain": [
       "           column  idx     filename           column:filename  \\\n",
       "9        CMP_DATE    0     oc01.csv         CMP_DATE:oc01.csv   \n",
       "10       CRT_DATE    0     oc01.csv         CRT_DATE:oc01.csv   \n",
       "3           FIRST    0     oc01.csv            FIRST:oc01.csv   \n",
       "2            LAST    0     oc01.csv             LAST:oc01.csv   \n",
       "5         REC_CMP    0     oc01.csv          REC_CMP:oc01.csv   \n",
       "..            ...  ...          ...                       ...   \n",
       "848  DateComplete   22  ocmr03b.csv  DateComplete:ocmr03b.csv   \n",
       "849   DateCreated   22  ocmr03b.csv   DateCreated:ocmr03b.csv   \n",
       "847    FormStatus   22  ocmr03b.csv    FormStatus:ocmr03b.csv   \n",
       "850     KeyedUser   22  ocmr03b.csv     KeyedUser:ocmr03b.csv   \n",
       "831      OM3READR   22  ocmr03b.csv      OM3READR:ocmr03b.csv   \n",
       "\n",
       "             column:filename:idx  \n",
       "9            CMP_DATE:oc01.csv:0  \n",
       "10           CRT_DATE:oc01.csv:0  \n",
       "3               FIRST:oc01.csv:0  \n",
       "2                LAST:oc01.csv:0  \n",
       "5             REC_CMP:oc01.csv:0  \n",
       "..                           ...  \n",
       "848  DateComplete:ocmr03b.csv:22  \n",
       "849   DateCreated:ocmr03b.csv:22  \n",
       "847    FormStatus:ocmr03b.csv:22  \n",
       "850     KeyedUser:ocmr03b.csv:22  \n",
       "831      OM3READR:ocmr03b.csv:22  \n",
       "\n",
       "[75 rows x 5 columns]"
      ]
     },
     "execution_count": 15,
     "metadata": {},
     "output_type": "execute_result"
    }
   ],
   "source": [
    "is_not_in_dict = df_columns['column'].isin(dict_oc_columns) == False\n",
    "df_columns_not_in_dict = df_columns[is_not_in_dict]\n",
    "df_columns_not_in_dict"
   ]
  },
  {
   "cell_type": "code",
   "execution_count": 16,
   "id": "3e0bac5f-fb7a-4281-860f-b911d447e3e5",
   "metadata": {
    "execution": {
     "iopub.execute_input": "2025-01-21T19:14:49.620291Z",
     "iopub.status.busy": "2025-01-21T19:14:49.620199Z",
     "iopub.status.idle": "2025-01-21T19:14:49.622840Z",
     "shell.execute_reply": "2025-01-21T19:14:49.622622Z"
    }
   },
   "outputs": [
    {
     "data": {
      "text/plain": [
       "['CMP_DATE:oc01.csv:0',\n",
       " 'CRT_DATE:oc01.csv:0',\n",
       " 'FIRST:oc01.csv:0',\n",
       " 'LAST:oc01.csv:0',\n",
       " 'REC_CMP:oc01.csv:0',\n",
       " 'CMP_DATE:oc02.csv:1',\n",
       " 'CRT_DATE:oc02.csv:1',\n",
       " 'OC2INIT:oc02.csv:1',\n",
       " 'OC2NAME:oc02.csv:1',\n",
       " 'REC_CMP:oc02.csv:1',\n",
       " 'CMP_DATE:oc04.csv:2',\n",
       " 'CRT_DATE:oc04.csv:2',\n",
       " 'OC4INIT:oc04.csv:2',\n",
       " 'REC_CMP:oc04.csv:2',\n",
       " 'CMP_DATE:oc05.csv:3',\n",
       " 'CRT_DATE:oc05.csv:3',\n",
       " 'OC5INIT:oc05.csv:3',\n",
       " 'REC_CMP:oc05.csv:3',\n",
       " 'OC6INIT:oc06t120.csv:6',\n",
       " 'OC6NCEPR:oc06t120.csv:6',\n",
       " 'OC6INIT:oc06t72.csv:7',\n",
       " 'OC6NCEPR:oc06t72.csv:7',\n",
       " 'CMP_DATE:oc07.csv:8',\n",
       " 'CRT_DATE:oc07.csv:8',\n",
       " 'REC_CMP:oc07.csv:8',\n",
       " 'CMP_DATE:oc08.csv:9',\n",
       " 'CRT_DATE:oc08.csv:9',\n",
       " 'REC_CMP:oc08.csv:9',\n",
       " 'CMP_DATE:oc09.csv:10',\n",
       " 'CRT_DATE:oc09.csv:10',\n",
       " 'REC_CMP:oc09.csv:10',\n",
       " 'CMP_DATE:oc10.csv:12',\n",
       " 'CRT_DATE:oc10.csv:12',\n",
       " 'OC10INIT:oc10.csv:12',\n",
       " 'REC_CMP:oc10.csv:12',\n",
       " 'CMP_DATE:oc11.csv:13',\n",
       " 'CRT_DATE:oc11.csv:13',\n",
       " 'OC11ENAM:oc11.csv:13',\n",
       " 'REC_CMP:oc11.csv:13',\n",
       " 'CMP_DATE:oc12.csv:14',\n",
       " 'CRT_DATE:oc12.csv:14',\n",
       " 'REC_CMP:oc12.csv:14',\n",
       " 'CMP_DATE:oc13.csv:15',\n",
       " 'CRT_DATE:oc13.csv:15',\n",
       " 'OC13INIT:oc13.csv:15',\n",
       " 'REC_CMP:oc13.csv:15',\n",
       " 'OC14INIT:oc14.csv:16',\n",
       " 'OC14NAME:oc14.csv:16',\n",
       " 'CMP_DATE:oc15.csv:17',\n",
       " 'CRT_DATE:oc15.csv:17',\n",
       " 'OC15INIT:oc15.csv:17',\n",
       " 'REC_CMP:oc15.csv:17',\n",
       " 'O17INIT:oc17.csv:18',\n",
       " 'DateComplete:ocmr01.csv:19',\n",
       " 'DateCreated:ocmr01.csv:19',\n",
       " 'FormStatus:ocmr01.csv:19',\n",
       " 'KeyedUser:ocmr01.csv:19',\n",
       " 'DateComplete:ocmr02.csv:20',\n",
       " 'DateCreated:ocmr02.csv:20',\n",
       " 'FormStatus:ocmr02.csv:20',\n",
       " 'KeyedUser:ocmr02.csv:20',\n",
       " 'OM2INIT:ocmr02.csv:20',\n",
       " 'DateComplete:ocmr03.csv:21',\n",
       " 'DateCreated:ocmr03.csv:21',\n",
       " 'FormStatus:ocmr03.csv:21',\n",
       " 'KeyedUser:ocmr03.csv:21',\n",
       " 'OM3RDRSTAT:ocmr03.csv:21',\n",
       " 'OM3RDRSTATSP:ocmr03.csv:21',\n",
       " 'OM3RDRSTAT_code:ocmr03.csv:21',\n",
       " 'OM3READR:ocmr03.csv:21',\n",
       " 'DateComplete:ocmr03b.csv:22',\n",
       " 'DateCreated:ocmr03b.csv:22',\n",
       " 'FormStatus:ocmr03b.csv:22',\n",
       " 'KeyedUser:ocmr03b.csv:22',\n",
       " 'OM3READR:ocmr03b.csv:22']"
      ]
     },
     "execution_count": 16,
     "metadata": {},
     "output_type": "execute_result"
    }
   ],
   "source": [
    "columns_not_in_dict = list(df_columns_not_in_dict['column:filename:idx'].unique())\n",
    "# columns_not_in_dict.sort()\n",
    "columns_not_in_dict"
   ]
  },
  {
   "cell_type": "markdown",
   "id": "d5ee57c2-4833-45fd-87cb-613c5fa1b3d4",
   "metadata": {},
   "source": [
    "#### dict not in column"
   ]
  },
  {
   "cell_type": "code",
   "execution_count": 17,
   "id": "f7a8a7eb-dbd2-49e0-9264-5e5cf932b7ef",
   "metadata": {
    "execution": {
     "iopub.execute_input": "2025-01-21T19:14:49.624126Z",
     "iopub.status.busy": "2025-01-21T19:14:49.624047Z",
     "iopub.status.idle": "2025-01-21T19:14:49.627491Z",
     "shell.execute_reply": "2025-01-21T19:14:49.627285Z"
    }
   },
   "outputs": [
    {
     "data": {
      "text/html": [
       "<div>\n",
       "<style scoped>\n",
       "    .dataframe tbody tr th:only-of-type {\n",
       "        vertical-align: middle;\n",
       "    }\n",
       "\n",
       "    .dataframe tbody tr th {\n",
       "        vertical-align: top;\n",
       "    }\n",
       "\n",
       "    .dataframe thead th {\n",
       "        text-align: right;\n",
       "    }\n",
       "</style>\n",
       "<table border=\"1\" class=\"dataframe\">\n",
       "  <thead>\n",
       "    <tr style=\"text-align: right;\">\n",
       "      <th></th>\n",
       "      <th>Category</th>\n",
       "      <th>Subcategory</th>\n",
       "      <th>Standardized_VariableNames_Dictionary</th>\n",
       "      <th>type</th>\n",
       "      <th>Variable_Description</th>\n",
       "      <th>#studies w/ this var</th>\n",
       "      <th>redcap</th>\n",
       "      <th>comment</th>\n",
       "      <th>LH</th>\n",
       "      <th>OC</th>\n",
       "    </tr>\n",
       "  </thead>\n",
       "  <tbody>\n",
       "  </tbody>\n",
       "</table>\n",
       "</div>"
      ],
      "text/plain": [
       "Empty DataFrame\n",
       "Columns: [Category, Subcategory, Standardized_VariableNames_Dictionary, type, Variable_Description, #studies w/ this var, redcap, comment, LH, OC]\n",
       "Index: []"
      ]
     },
     "execution_count": 17,
     "metadata": {},
     "output_type": "execute_result"
    }
   ],
   "source": [
    "is_dict_not_in_columns = (df_dict['OC'].isin(df_columns['column']) == False) & (df_dict['OC'].isnull() == False)\n",
    "df_dict_not_in_columns = df_dict[is_dict_not_in_columns]\n",
    "df_dict_not_in_columns"
   ]
  },
  {
   "cell_type": "markdown",
   "id": "56a3ad43-bc8a-42a9-bfb9-c82482e94785",
   "metadata": {},
   "source": [
    "## 04. show column values"
   ]
  },
  {
   "cell_type": "code",
   "execution_count": 18,
   "id": "eb9717c4-3e3d-41cf-80fa-4112e67476c3",
   "metadata": {
    "execution": {
     "iopub.execute_input": "2025-01-21T19:14:49.628696Z",
     "iopub.status.busy": "2025-01-21T19:14:49.628616Z",
     "iopub.status.idle": "2025-01-21T19:14:49.630546Z",
     "shell.execute_reply": "2025-01-21T19:14:49.630341Z"
    }
   },
   "outputs": [
    {
     "data": {
      "text/plain": [
       "\"\\nfor idx, each_df in enumerate(dfs):\\n    for idx2, column in enumerate(each_df.columns):\\n        print(f'({idx}/{len(dfs)}/{filenames[idx]}) ({idx2}/{len(each_df.columns)} column: {column} value: {list(each_df[column].unique())}')\\n\""
      ]
     },
     "execution_count": 18,
     "metadata": {},
     "output_type": "execute_result"
    }
   ],
   "source": [
    "# XXX no show due to data privacy concern.\n",
    "\n",
    "'''\n",
    "for idx, each_df in enumerate(dfs):\n",
    "    for idx2, column in enumerate(each_df.columns):\n",
    "        print(f'({idx}/{len(dfs)}/{filenames[idx]}) ({idx2}/{len(each_df.columns)} column: {column} value: {list(each_df[column].unique())}')\n",
    "'''"
   ]
  }
 ],
 "metadata": {
  "kernelspec": {
   "display_name": ".venv",
   "language": "python",
   "name": "python3"
  },
  "language_info": {
   "codemirror_mode": {
    "name": "ipython",
    "version": 3
   },
   "file_extension": ".py",
   "mimetype": "text/x-python",
   "name": "python",
   "nbconvert_exporter": "python",
   "pygments_lexer": "ipython3",
   "version": "3.13.0"
  }
 },
 "nbformat": 4,
 "nbformat_minor": 5
}
