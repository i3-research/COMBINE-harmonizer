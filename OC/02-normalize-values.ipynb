{
 "cells": [
  {
   "cell_type": "code",
   "execution_count": 1,
   "id": "dca80170-a89e-4053-8b87-0cf671490f33",
   "metadata": {
    "execution": {
     "iopub.execute_input": "2025-05-15T04:29:59.109100Z",
     "iopub.status.busy": "2025-05-15T04:29:59.107787Z",
     "iopub.status.idle": "2025-05-15T04:30:00.432627Z",
     "shell.execute_reply": "2025-05-15T04:30:00.432212Z"
    }
   },
   "outputs": [],
   "source": [
    "import pandas as pd\n",
    "pd.options.mode.copy_on_write = True\n",
    "import warnings\n",
    "warnings.simplefilter(action='ignore', category=pd.errors.PerformanceWarning)\n",
    "\n",
    "import os\n",
    "import re\n",
    "import pydoc\n",
    "\n",
    "import COMBINE_harmonizer\n",
    "from COMBINE_harmonizer import cfg"
   ]
  },
  {
   "cell_type": "markdown",
   "id": "a740efa2",
   "metadata": {},
   "source": [
    "## 00-0. Variables"
   ]
  },
  {
   "cell_type": "code",
   "execution_count": 2,
   "id": "60109085",
   "metadata": {
    "execution": {
     "iopub.execute_input": "2025-05-15T04:30:00.434353Z",
     "iopub.status.busy": "2025-05-15T04:30:00.434177Z",
     "iopub.status.idle": "2025-05-15T04:30:00.437702Z",
     "shell.execute_reply": "2025-05-15T04:30:00.437446Z"
    }
   },
   "outputs": [],
   "source": [
    "study_name = COMBINE_harmonizer.STUDY_OC\n",
    "sheet_name = COMBINE_harmonizer.SHEET_MAIN\n",
    "\n",
    "root_dir = '..'\n",
    "COMBINE_harmonizer.init(f'{root_dir}/config.yaml')"
   ]
  },
  {
   "cell_type": "code",
   "execution_count": 3,
   "id": "75895b05-476f-4d6b-9686-136071b16951",
   "metadata": {
    "execution": {
     "iopub.execute_input": "2025-05-15T04:30:00.438924Z",
     "iopub.status.busy": "2025-05-15T04:30:00.438853Z",
     "iopub.status.idle": "2025-05-15T04:30:00.453413Z",
     "shell.execute_reply": "2025-05-15T04:30:00.453093Z"
    }
   },
   "outputs": [],
   "source": [
    "input_dir = f\"{cfg.config['out_dir']}/out-{study_name}\"\n",
    "data_dict_filename = f\"{root_dir}/{COMBINE_harmonizer.DATA_DICTIONARY_EXCEL}\"\n",
    "out_dir = f\"{cfg.config['out_dir']}/out-{study_name}-normalized\"\n",
    "\n",
    "os.makedirs(out_dir, exist_ok=True)"
   ]
  },
  {
   "cell_type": "code",
   "execution_count": 4,
   "id": "f7bc9355-eca8-453d-8462-0ff280895f58",
   "metadata": {
    "execution": {
     "iopub.execute_input": "2025-05-15T04:30:00.454797Z",
     "iopub.status.busy": "2025-05-15T04:30:00.454719Z",
     "iopub.status.idle": "2025-05-15T04:30:01.100718Z",
     "shell.execute_reply": "2025-05-15T04:30:01.100423Z"
    }
   },
   "outputs": [
    {
     "name": "stdout",
     "output_type": "stream",
     "text": [
      "[INFO] init_mapping (0/125): signOfHIETone\n",
      "[INFO] init_mapping (1/125): signOfHIELvlOfCons\n",
      "[INFO] init_mapping (2/125): signOfHIEPosture\n",
      "[INFO] init_mapping (3/125): signOfHIEMoro\n",
      "[INFO] init_mapping (4/125): signOfHIESuck\n",
      "[INFO] init_mapping (5/125): signOfHIERespiratory\n",
      "[INFO] init_mapping (6/125): signOfHIEHeartRate\n",
      "[INFO] init_mapping (7/125): signOfHIEPupils\n",
      "[INFO] init_mapping (8/125): signOfHIESpontaneousActivity\n",
      "[INFO] init_mapping (9/125): noNeuroExamReason\n",
      "[INFO] init_mapping (10/125): consentStatus\n",
      "[INFO] init_mapping (11/125): treatmentAssign\n",
      "[INFO] init_mapping (12/125): targetTreatmentTemperature\n",
      "[INFO] init_mapping (13/125): blanketType\n",
      "[INFO] init_mapping (14/125): encephalopathyLevel\n",
      "[INFO] init_mapping (15/125): infantAge\n",
      "[INFO] init_mapping (16/125): infantSex\n",
      "[INFO] init_mapping (17/125): ethnicity\n",
      "[INFO] init_mapping (18/125): education\n",
      "[INFO] init_mapping (19/125): insurance\n",
      "[INFO] init_mapping (20/125): race\n",
      "[INFO] init_mapping (21/125): maritalStatus\n",
      "[INFO] init_mapping (22/125): deliveryMode\n",
      "[INFO] init_mapping (23/125): spontaneousRespirationTime\n",
      "[INFO] init_mapping (24/125): cordBloodGasSrc\n",
      "[INFO] init_mapping (25/125): bloodGasSrc\n",
      "[INFO] init_mapping (26/125): antibiotics\n",
      "[INFO] init_mapping (27/125): positiveCultureOrganism\n",
      "[INFO] init_mapping (28/125): positiveCultureSrc\n",
      "[INFO] init_mapping (29/125): surgery\n",
      "[INFO] init_mapping (30/125): birthDefect\n",
      "[INFO] init_mapping (31/125): anticonvulsants\n",
      "[INFO] init_mapping (32/125): analgesics\n",
      "[INFO] init_mapping (33/125): antipyretics\n",
      "[INFO] init_mapping (34/125): paralytics\n",
      "[INFO] init_mapping (35/125): respiratorySupportType\n",
      "[INFO] init_mapping (36/125): coolAfterIntervention\n",
      "[INFO] init_mapping (37/125): noCoolToEndPeriodReason\n",
      "[INFO] init_mapping (38/125): imaging\n",
      "[INFO] init_mapping (39/125): MRIReader\n",
      "[INFO] init_mapping (40/125): MRIObtainWindow\n",
      "[INFO] init_mapping (41/125): MRINoObtainReason\n",
      "[INFO] init_mapping (42/125): MRICerebralAtrophyGlobalLocal\n",
      "[INFO] init_mapping (43/125): MRICerebralAtrophyRegion\n",
      "[INFO] init_mapping (44/125): MRISeverity\n",
      "[INFO] init_mapping (45/125): MRIALICPLICSeverity\n",
      "[INFO] init_mapping (46/125): MRIInjurySeverity\n",
      "[WARN] possible conflicting setup: sheet_name: MRIInjurySeverity value: 4 value_float: 4.0 name: nan map: nan\n",
      "[WARN] possible conflicting setup: sheet_name: MRIInjurySeverity value: 4 value_int: 4 name: nan map: nan\n",
      "[INFO] init_mapping (47/125): MRINRNPatternOfInjury\n",
      "[INFO] init_mapping (48/125): MRINRNPatternOfInjuryExtent\n",
      "[INFO] init_mapping (49/125): MRINRNPatternOfInjuryLateral\n",
      "[INFO] init_mapping (50/125): MRIAbnormalRegion\n",
      "[INFO] init_mapping (51/125): MRIAbnormalSide\n",
      "[INFO] init_mapping (52/125): MRIAbnormalGMWM\n",
      "[INFO] init_mapping (53/125): MRIAbnormalExtent\n",
      "[INFO] init_mapping (54/125): MRIAbnormalType\n",
      "[INFO] init_mapping (55/125): elevatedTempDevice\n",
      "[INFO] init_mapping (56/125): elevatedTempDeviceMode\n",
      "[INFO] init_mapping (57/125): elevatedTempNoBathReason\n",
      "[INFO] init_mapping (58/125): bradycardiaEKGResult\n",
      "[INFO] init_mapping (59/125): bradycardiaDuration\n",
      "[INFO] init_mapping (60/125): bradycardiaHeartRateMin\n",
      "[INFO] init_mapping (61/125): SAEAlterationSkinIntegrity\n",
      "[INFO] init_mapping (62/125): SAEAttributable\n",
      "[INFO] init_mapping (63/125): SAEAction\n",
      "[INFO] init_mapping (64/125): SAEOutcome\n",
      "[INFO] init_mapping (65/125): deathCause\n",
      "[INFO] init_mapping (66/125): deathSrc\n",
      "[INFO] init_mapping (67/125): experimentStatus\n",
      "[INFO] init_mapping (68/125): status\n",
      "[INFO] init_mapping (69/125): transferReason\n",
      "[INFO] init_mapping (70/125): transferOutcome\n",
      "[INFO] init_mapping (71/125): dischargeNeuroExamStatus\n",
      "[INFO] init_mapping (72/125): violationCircumstance\n",
      "[INFO] init_mapping (73/125): violationNature\n",
      "[INFO] init_mapping (74/125): interruptReason\n",
      "[INFO] init_mapping (75/125): relationship\n",
      "[INFO] init_mapping (76/125): receive\n",
      "[INFO] init_mapping (77/125): totalIncome\n",
      "[INFO] init_mapping (78/125): language\n",
      "[INFO] init_mapping (79/125): homeCareLocation\n",
      "[INFO] init_mapping (80/125): babysitterRelation\n",
      "[INFO] init_mapping (81/125): interviewLocation\n",
      "[INFO] init_mapping (82/125): livingArrange\n",
      "[INFO] init_mapping (83/125): medicationUse\n",
      "[INFO] init_mapping (84/125): eyeSurgeryReason\n",
      "[INFO] init_mapping (85/125): readmissionTimePeriod\n",
      "[INFO] init_mapping (86/125): readmissionLengthOfStay\n",
      "[INFO] init_mapping (87/125): readmissionPrimaryCause\n",
      "[INFO] init_mapping (88/125): eye\n",
      "[INFO] init_mapping (89/125): vision\n",
      "[INFO] init_mapping (90/125): hearing\n",
      "[INFO] init_mapping (91/125): hearingImpaired\n",
      "[INFO] init_mapping (92/125): hearingAid\n",
      "[INFO] init_mapping (93/125): swallow\n",
      "[INFO] init_mapping (94/125): passiveMuscleTone\n",
      "[INFO] init_mapping (95/125): grossMotorFunctionLevel\n",
      "[INFO] init_mapping (96/125): handPreference\n",
      "[INFO] init_mapping (97/125): protectiveReaction\n",
      "[INFO] init_mapping (98/125): limbMovement\n",
      "[INFO] init_mapping (99/125): deepTendonReflex\n",
      "[INFO] init_mapping (100/125): ankleClonus\n",
      "[INFO] init_mapping (101/125): plantarReflex\n",
      "[INFO] init_mapping (102/125): axisHeadNeck\n",
      "[INFO] init_mapping (103/125): axisTrunk\n",
      "[INFO] init_mapping (104/125): lowerLimbFunction\n",
      "[INFO] init_mapping (105/125): upperLimbFunction\n",
      "[INFO] init_mapping (106/125): handFunction\n",
      "[INFO] init_mapping (107/125): cerebralPalsyClass\n",
      "[INFO] init_mapping (108/125): examQuality\n",
      "[INFO] init_mapping (109/125): examFactorAffecting\n",
      "[INFO] init_mapping (110/125): BayleyIIIReasonNoSuccess\n",
      "[INFO] init_mapping (111/125): followupStatus\n",
      "[INFO] init_mapping (112/125): severity\n",
      "[INFO] init_mapping (113/125): reasonLossFollowUp\n",
      "[INFO] init_mapping (114/125): childHealth\n",
      "[INFO] init_mapping (115/125): chartReview\n",
      "[INFO] init_mapping (116/125): education2\n",
      "[INFO] init_mapping (117/125): race2\n",
      "[INFO] init_mapping (118/125): flagAdjudicatedOutcome\n",
      "[INFO] init_mapping (119/125): MRILesion\n",
      "[INFO] init_mapping (120/125): MRI2LevelPatternOfInjury\n",
      "[INFO] init_mapping (121/125): MRIOverallDiagnosis\n",
      "[INFO] init_mapping (122/125): MRINRNPatternOfInjuryWSvsBGT\n",
      "[INFO] init_mapping (123/125): outcomeGroup\n",
      "[INFO] init_mapping (124/125): initBloodGasSrc\n",
      "[INFO] init_mapping (cfg_dict_map) (0/1): MRIReader\n"
     ]
    },
    {
     "name": "stdout",
     "output_type": "stream",
     "text": [
      "build_value_map: (0/1108) variable: center type: center\n",
      "build_value_map: (1/1108) variable: subjectID type: text\n",
      "build_value_map: (2/1108) variable: siteID type: text\n",
      "build_value_map: (3/1108) variable: birthDate type: date\n",
      "build_value_map: (4/1108) variable: birthNumber type: int\n",
      "build_value_map: (5/1108) variable: screenComment type: text\n",
      "build_value_map: (6/1108) variable: coreTempLess32p5CGreaterEq2Hr_e type: bool\n",
      "build_value_map: (7/1108) variable: coreTempLess33p5CGreater1Hr_e type: bool\n",
      "build_value_map: (8/1108) variable: coreTempLess34CGreater1Hr_e type: bool\n",
      "build_value_map: (9/1108) variable: first6HrCoolByClinicalProtocol_e type: bool\n",
      "build_value_map: (10/1108) variable: chromosomalAbnormality_e type: bool\n",
      "build_value_map: (11/1108) variable: majorCongenitalAnomaly_e type: bool\n",
      "build_value_map: (12/1108) variable: birthWeightLessEq1800g_e type: bool\n",
      "build_value_map: (13/1108) variable: infantUnlikelySurvive_e type: bool\n",
      "build_value_map: (14/1108) variable: first60MinAllBloodGasPHGreater7p15BaseDeficitLess10mEqPerL_e type: bool\n",
      "build_value_map: (15/1108) variable: postnatalAgeLess6HrOrGreater24Hr_e type: bool\n",
      "build_value_map: (16/1108) variable: enrolledConflictingTrial_e type: bool\n",
      "build_value_map: (17/1108) variable: first60MinAnyBloodGasPHLessEq7_i type: bool\n",
      "build_value_map: (18/1108) variable: first60MinAnyBloodGasBaseDeficitGreaterEq16mEqPerL_i type: bool\n",
      "build_value_map: (19/1108) variable: historyPerinatalEvent_i type: bool\n",
      "build_value_map: (20/1108) variable: at10MinApgarLessEq5OrVent_i type: bool\n",
      "build_value_map: (21/1108) variable: randomEligible type: bool\n",
      "build_value_map: (22/1108) variable: consentStatus type: consentStatus\n",
      "build_value_map: (23/1108) variable: noConsentReason type: text\n",
      "build_value_map: (24/1108) variable: noInStudyReason type: text\n",
      "build_value_map: (25/1108) variable: random type: bool\n",
      "build_value_map: (26/1108) variable: noRandomReason type: text\n",
      "build_value_map: (27/1108) variable: noRandomReasonText type: text\n",
      "build_value_map: (28/1108) variable: randomDate type: date\n",
      "build_value_map: (29/1108) variable: randomTime type: time\n",
      "build_value_map: (30/1108) variable: ageRand_hr type: float\n",
      "build_value_map: (31/1108) variable: randomNumber type: text\n",
      "build_value_map: (32/1108) variable: randomTreatmentAssign type: treatmentAssign\n",
      "build_value_map: (33/1108) variable: randomTreatmentReceive type: bool\n",
      "build_value_map: (34/1108) variable: treatmentBlanketType type: blanketType\n",
      "build_value_map: (35/1108) variable: treatmentAssignmentDuration_hr type: int\n",
      "build_value_map: (36/1108) variable: treatmentAssignmentTemperature type: float\n",
      "build_value_map: (37/1108) variable: usualCoolingTreatmentGroup type: bool\n",
      "build_value_map: (38/1108) variable: inOtherTrial type: bool\n",
      "build_value_map: (39/1108) variable: inOtherTrialText type: text\n",
      "build_value_map: (40/1108) variable: consideredForHypothermia type: bool\n",
      "build_value_map: (41/1108) variable: hypothermia type: bool\n",
      "build_value_map: (42/1108) variable: noHypothermiaReason type: text\n",
      "build_value_map: (43/1108) variable: noHypothermiaReasonOther type: text\n",
      "build_value_map: (44/1108) variable: hypothermiaStandard type: bool\n",
      "build_value_map: (45/1108) variable: hypothermiaDeviationOther type: text\n",
      "build_value_map: (46/1108) variable: motherAge_year type: int\n",
      "build_value_map: (47/1108) variable: motherRace type: race\n",
      "build_value_map: (48/1108) variable: motherRaceOther1 type: race\n",
      "build_value_map: (49/1108) variable: motherRaceOther2 type: race\n",
      "build_value_map: (50/1108) variable: motherRaceOther3 type: race\n",
      "build_value_map: (51/1108) variable: motherRaceOther4 type: race\n",
      "build_value_map: (52/1108) variable: motherRaceOther5 type: race\n",
      "build_value_map: (53/1108) variable: motherRaceOther6 type: race\n",
      "build_value_map: (54/1108) variable: motherRace2 type: race2\n",
      "build_value_map: (55/1108) variable: motherEthnicity type: ethnicity\n",
      "build_value_map: (56/1108) variable: motherMaritalStatus type: maritalStatus\n",
      "build_value_map: (57/1108) variable: motherEducation type: education\n",
      "build_value_map: (58/1108) variable: motherEducation2 type: education2\n",
      "build_value_map: (59/1108) variable: motherInsurance type: insurance\n",
      "build_value_map: (60/1108) variable: motherInsurancePublic type: bool\n",
      "build_value_map: (61/1108) variable: gravida type: int\n",
      "build_value_map: (62/1108) variable: parity type: int\n",
      "build_value_map: (63/1108) variable: multipleBirth type: bool\n",
      "build_value_map: (64/1108) variable: numFetus type: int\n",
      "build_value_map: (65/1108) variable: prenatalCare type: bool\n",
      "build_value_map: (66/1108) variable: hypertensionEclampsia type: bool\n",
      "build_value_map: (67/1108) variable: antepartumHemorrhage type: bool\n",
      "build_value_map: (68/1108) variable: thyroidMalfunction type: bool\n",
      "build_value_map: (69/1108) variable: diabetes type: bool\n",
      "build_value_map: (70/1108) variable: maternalAdmissionDate type: date\n",
      "build_value_map: (71/1108) variable: maternalAdmissionTime type: time\n",
      "build_value_map: (72/1108) variable: ruptureDate type: date\n",
      "build_value_map: (73/1108) variable: ruptureTime type: time\n",
      "build_value_map: (74/1108) variable: ruptureGreater18Hr type: bool\n",
      "build_value_map: (75/1108) variable: ruptureBeforeDelivery type: bool\n",
      "build_value_map: (76/1108) variable: labor type: bool\n",
      "build_value_map: (77/1108) variable: laborOnsetDate type: date\n",
      "build_value_map: (78/1108) variable: laborOnsetTime type: time\n",
      "build_value_map: (79/1108) variable: deliveryMode type: deliveryMode\n",
      "build_value_map: (80/1108) variable: fetalDecelerate type: bool\n",
      "build_value_map: (81/1108) variable: cordMishap type: bool\n",
      "build_value_map: (82/1108) variable: uterineRupture type: bool\n",
      "build_value_map: (83/1108) variable: shoulderDystocia type: bool\n",
      "build_value_map: (84/1108) variable: placentalProblem type: bool\n",
      "build_value_map: (85/1108) variable: maternalHemorrhage type: bool\n",
      "build_value_map: (86/1108) variable: maternalTrauma type: bool\n",
      "build_value_map: (87/1108) variable: maternalCardioRespiratoryArrest type: bool\n",
      "build_value_map: (88/1108) variable: maternalSeizure type: bool\n",
      "build_value_map: (89/1108) variable: perinatalSentinelEvent type: bool\n",
      "build_value_map: (90/1108) variable: pyrexiaGreater37p6C type: bool\n",
      "build_value_map: (91/1108) variable: chorioamnionitis type: bool\n",
      "build_value_map: (92/1108) variable: placentalPathologyPerformed type: bool\n",
      "build_value_map: (93/1108) variable: histologicChorioamionitis type: bool\n",
      "build_value_map: (94/1108) variable: laborAntibiotics type: bool\n",
      "build_value_map: (95/1108) variable: laborAntibioticsCode1 type: antibiotics\n",
      "build_value_map: (96/1108) variable: laborAntibioticsCode2 type: antibiotics\n",
      "build_value_map: (97/1108) variable: laborAntibioticsCode3 type: antibiotics\n",
      "build_value_map: (98/1108) variable: laborAntibioticsCode4 type: antibiotics\n",
      "build_value_map: (99/1108) variable: laborAntibioticsCode5 type: antibiotics\n",
      "build_value_map: (100/1108) variable: laborAntibioticsCode6 type: antibiotics\n",
      "build_value_map: (101/1108) variable: emergencyCSection type: bool\n",
      "build_value_map: (102/1108) variable: encephalopathyLevel type: encephalopathyLevel\n",
      "build_value_map: (103/1108) variable: randomInfantAge type: infantAge\n",
      "build_value_map: (104/1108) variable: birthDate type: date\n",
      "build_value_map: (105/1108) variable: birthTime type: time\n",
      "build_value_map: (106/1108) variable: birthWeight_g type: float\n",
      "build_value_map: (107/1108) variable: birthLength_cm type: float\n",
      "build_value_map: (108/1108) variable: birthHeadCircumference_cm type: float\n",
      "build_value_map: (109/1108) variable: birthGestationalAge_week type: int\n",
      "build_value_map: (110/1108) variable: infantSex type: infantSex\n",
      "build_value_map: (111/1108) variable: maleSex type: bool\n",
      "build_value_map: (112/1108) variable: infantOutborn type: bool\n",
      "build_value_map: (113/1108) variable: outbornInHospital type: bool\n",
      "build_value_map: (114/1108) variable: outbornOutHospital type: bool\n",
      "build_value_map: (115/1108) variable: neonateAdmissionDate type: date\n",
      "build_value_map: (116/1108) variable: neonateAdmissionTime type: time\n",
      "build_value_map: (117/1108) variable: Apgar1min type: int\n",
      "build_value_map: (118/1108) variable: Apgar5min type: int\n",
      "build_value_map: (119/1108) variable: Apgar10min type: int\n",
      "build_value_map: (120/1108) variable: Apgar15min type: int\n",
      "build_value_map: (121/1108) variable: Apgar20min type: int\n",
      "build_value_map: (122/1108) variable: deliveryResuscitation type: bool\n",
      "build_value_map: (123/1108) variable: deliveryOxygen type: bool\n",
      "build_value_map: (124/1108) variable: deliveryBaggingAndMask type: bool\n",
      "build_value_map: (125/1108) variable: deliveryChestCompression type: bool\n",
      "build_value_map: (126/1108) variable: deliveryIntubation type: bool\n",
      "build_value_map: (127/1108) variable: deliveryDrug type: bool\n",
      "build_value_map: (128/1108) variable: at10MinContinueResuscitation type: bool\n",
      "build_value_map: (129/1108) variable: at10MinOxygen type: bool\n",
      "build_value_map: (130/1108) variable: at10MinBaggingAndMask type: bool\n",
      "build_value_map: (131/1108) variable: at10MinChestCompression type: bool\n",
      "build_value_map: (132/1108) variable: at10MinIntubation type: bool\n",
      "build_value_map: (133/1108) variable: at10MinDrug type: bool\n",
      "build_value_map: (134/1108) variable: spontaneousRespirationTime type: spontaneousRespirationTime\n",
      "build_value_map: (135/1108) variable: cordBloodGas type: bool\n",
      "build_value_map: (136/1108) variable: cordBloodGasSrc type: cordBloodGasSrc\n",
      "build_value_map: (137/1108) variable: cordBloodGasPH type: float\n",
      "build_value_map: (138/1108) variable: cordBloodGasPCO2_mmHg type: float\n",
      "build_value_map: (139/1108) variable: cordBloodGasPO2_mmHg type: float\n",
      "build_value_map: (140/1108) variable: cordBloodGasHCO3_mEqPerL type: float\n",
      "build_value_map: (141/1108) variable: cordBloodGasBaseDeficit_mEqPerL type: float\n",
      "build_value_map: (142/1108) variable: firstPostnatalBloodGas type: bool\n",
      "build_value_map: (143/1108) variable: firstPostnatalBloodGasSrc type: bloodGasSrc\n",
      "build_value_map: (144/1108) variable: firstPostnatalBloodGasDate type: date\n",
      "build_value_map: (145/1108) variable: firstPostnatalBloodGasTime type: time\n",
      "build_value_map: (146/1108) variable: firstPostnatalBloodGasPH type: float\n",
      "build_value_map: (147/1108) variable: firstPostnatalBloodGasPCO2_mmHg type: float\n",
      "build_value_map: (148/1108) variable: firstPostnatalBloodGasPO2_mmHg type: float\n",
      "build_value_map: (149/1108) variable: firstPostnatalBloodGasHCO3_mEqPerL type: float\n",
      "build_value_map: (150/1108) variable: firstPostnatalBloodGasBaseDeficit_mEqPerL type: float\n",
      "build_value_map: (151/1108) variable: acidosis type: bool\n",
      "build_value_map: (152/1108) variable: Apgar10minLess5 type: bool\n",
      "build_value_map: (153/1108) variable: Apgar10minLessEq5 type: bool\n",
      "build_value_map: (154/1108) variable: Apgar5minLessEq5 type: bool\n",
      "build_value_map: (155/1108) variable: initBloodGasBaseDeficit_mEqPerL type: float\n",
      "build_value_map: (156/1108) variable: initBloodGasBaseDeficit_mEqPerLSrc type: initBloodGasSrc\n",
      "build_value_map: (157/1108) variable: initBloodGasPH type: float\n",
      "build_value_map: (158/1108) variable: initBloodGasPHSrc type: initBloodGasSrc\n",
      "build_value_map: (159/1108) variable: targetTreatmentTemperature_C type: targetTreatmentTemperature\n",
      "build_value_map: (160/1108) variable: pre_CoolInitiate type: bool\n",
      "build_value_map: (161/1108) variable: pre_CoolbyIceGelPack type: bool\n",
      "build_value_map: (162/1108) variable: pre_CoolPassively type: bool\n",
      "build_value_map: (163/1108) variable: pre_CoolClinically type: bool\n",
      "build_value_map: (164/1108) variable: pre_CoolInitiateDate type: date\n",
      "build_value_map: (165/1108) variable: pre_CoolInitiateTime type: time\n",
      "build_value_map: (166/1108) variable: pre_AfterOvershootReach33p5C type: bool\n",
      "build_value_map: (167/1108) variable: pre_AfterOvershootReach33p5CDate type: date\n",
      "build_value_map: (168/1108) variable: pre_AfterOvershootReach33p5CTime type: time\n",
      "build_value_map: (169/1108) variable: pre_TemperatureMinDate type: date\n",
      "build_value_map: (170/1108) variable: pre_TemperatureMinTime type: time\n",
      "build_value_map: (171/1108) variable: pre_SkinTemperatureMin_C type: float\n",
      "build_value_map: (172/1108) variable: pre_AxillaryTemperatureMin_C type: float\n",
      "build_value_map: (173/1108) variable: pre_EsophagealTemperatureMin_C type: float\n",
      "build_value_map: (174/1108) variable: pre_ServoSetMin_C type: float\n",
      "build_value_map: (175/1108) variable: pre_TemperatureMaxDate type: date\n",
      "build_value_map: (176/1108) variable: pre_TemperatureMaxTime type: time\n",
      "build_value_map: (177/1108) variable: pre_SkinTemperatureMax_C type: float\n",
      "build_value_map: (178/1108) variable: pre_AxillaryTemperatureMax_C type: float\n",
      "build_value_map: (179/1108) variable: pre_EsophagealTemperatureMax_C type: float\n",
      "build_value_map: (180/1108) variable: pre_ServoSetMax_C type: float\n",
      "build_value_map: (181/1108) variable: pre_CardioDate type: date\n",
      "build_value_map: (182/1108) variable: pre_CardioTime type: time\n",
      "build_value_map: (183/1108) variable: pre_CardioSystolicBloodPressure_mmHg type: float\n",
      "build_value_map: (184/1108) variable: pre_CardioDiastolicBloodPressure_mmHg type: float\n",
      "build_value_map: (185/1108) variable: pre_CardioHeartRate_BPM type: float\n",
      "build_value_map: (186/1108) variable: pre_CardioVolumeExpand type: bool\n",
      "build_value_map: (187/1108) variable: pre_CardioInotropicAgent type: bool\n",
      "build_value_map: (188/1108) variable: pre_CardioBloodTransfusion type: bool\n",
      "build_value_map: (189/1108) variable: pre_CardioPlatelets type: bool\n",
      "build_value_map: (190/1108) variable: pre_InotropicAgent type: bool\n",
      "build_value_map: (191/1108) variable: pre_RespiratoryDate type: date\n",
      "build_value_map: (192/1108) variable: pre_RespiratoryTime type: time\n",
      "build_value_map: (193/1108) variable: pre_RespiratorySupportType type: respiratorySupportType\n",
      "build_value_map: (194/1108) variable: pre_RespiratoryFiO2 type: float\n",
      "build_value_map: (195/1108) variable: pre_RespiratoryRate_Hz type: float\n",
      "build_value_map: (196/1108) variable: pre_RespiratoryPIP_cmH2O type: float\n",
      "build_value_map: (197/1108) variable: pre_RespiratoryMAP_cmH2O type: float\n",
      "build_value_map: (198/1108) variable: pre_RespiratoryPEEP_cmH2O type: float\n",
      "build_value_map: (199/1108) variable: pre_BloodGasDate type: date\n",
      "build_value_map: (200/1108) variable: pre_BloodGasTime type: time\n",
      "build_value_map: (201/1108) variable: pre_BloodGasSrc type: bloodGasSrc\n",
      "build_value_map: (202/1108) variable: pre_BloodGasPH type: float\n",
      "build_value_map: (203/1108) variable: pre_BloodGasPCO2_mmHg type: float\n",
      "build_value_map: (204/1108) variable: pre_BloodGasPO2_mmHg type: float\n",
      "build_value_map: (205/1108) variable: pre_BloodGasHCO3_mEqPerL type: float\n",
      "build_value_map: (206/1108) variable: pre_BloodGasBaseDeficit_mEqPerL type: float\n",
      "build_value_map: (207/1108) variable: pre_BloodGasPHCorrect type: float\n",
      "build_value_map: (208/1108) variable: pre_BloodGasPCO2Correct_mmHg type: float\n",
      "build_value_map: (209/1108) variable: pre_BloodGasPO2Correct_mmHg type: float\n",
      "build_value_map: (210/1108) variable: pre_BloodGasHCO3Correct_mEqPerL type: float\n",
      "build_value_map: (211/1108) variable: pre_BloodGasBaseDeficitCorrect_mEqPerL type: float\n",
      "build_value_map: (212/1108) variable: pre_Hematology type: bool\n",
      "build_value_map: (213/1108) variable: pre_HematologyDate type: date\n",
      "build_value_map: (214/1108) variable: pre_HematologyTime type: time\n",
      "build_value_map: (215/1108) variable: pre_HematologyWBC_cPermuL type: float\n",
      "build_value_map: (216/1108) variable: pre_HematologyHemoglobin_gPerdL type: float\n",
      "build_value_map: (217/1108) variable: pre_HematologyPolymorphNeutrophils_cPermuL type: float\n",
      "build_value_map: (218/1108) variable: pre_HematologyMonocytes_cPermuL type: float\n",
      "build_value_map: (219/1108) variable: pre_HematologyLymphocytes_cPermuL type: float\n",
      "build_value_map: (220/1108) variable: pre_HematologyPlateletCount_cPermuL type: float\n",
      "build_value_map: (221/1108) variable: pre_HematologyPT_s type: float\n",
      "build_value_map: (222/1108) variable: pre_HematologyPTT_s type: float\n",
      "build_value_map: (223/1108) variable: pre_PositiveCulture type: bool\n",
      "build_value_map: (224/1108) variable: pre_PositiveCultureSrc type: positiveCultureSrc\n",
      "build_value_map: (225/1108) variable: pre_PositiveCultureDate type: date\n",
      "build_value_map: (226/1108) variable: pre_PositiveCultureTime type: time\n",
      "build_value_map: (227/1108) variable: pre_PositiveCultureOrganismCode1 type: positiveCultureOrganism\n",
      "build_value_map: (228/1108) variable: pre_PositiveCultureOrganismCode2 type: positiveCultureOrganism\n",
      "build_value_map: (229/1108) variable: pre_PositiveCultureOrganismCode3 type: positiveCultureOrganism\n",
      "build_value_map: (230/1108) variable: pre_Antibiotics type: bool\n",
      "build_value_map: (231/1108) variable: pre_AntibioticsCode1 type: antibiotics\n",
      "build_value_map: (232/1108) variable: pre_AntibioticsCode2 type: antibiotics\n",
      "build_value_map: (233/1108) variable: pre_AntibioticsCode3 type: antibiotics\n",
      "build_value_map: (234/1108) variable: pre_OtherMedTargetDate type: date\n",
      "build_value_map: (235/1108) variable: pre_OtherMedTargetTime type: time\n",
      "build_value_map: (236/1108) variable: pre_Anticonvulsants type: anticonvulsants\n",
      "build_value_map: (237/1108) variable: pre_Anticonvulsants1 type: anticonvulsants\n",
      "build_value_map: (238/1108) variable: pre_Anticonvulsants2 type: anticonvulsants\n",
      "build_value_map: (239/1108) variable: pre_Anticonvulsants3 type: anticonvulsants\n",
      "build_value_map: (240/1108) variable: pre_Anticonvulsants_b type: bool\n",
      "build_value_map: (241/1108) variable: pre_AnalgesicsSedatives type: analgesics\n",
      "build_value_map: (242/1108) variable: pre_AnalgesicsSedatives1 type: analgesics\n",
      "build_value_map: (243/1108) variable: pre_AnalgesicsSedatives2 type: analgesics\n",
      "build_value_map: (244/1108) variable: pre_AnalgesicsSedatives3 type: analgesics\n",
      "build_value_map: (245/1108) variable: pre_Antipyretics1 type: antipyretics\n",
      "build_value_map: (246/1108) variable: pre_Antipyretics2 type: antipyretics\n",
      "build_value_map: (247/1108) variable: pre_Antipyretics3 type: antipyretics\n",
      "build_value_map: (248/1108) variable: pre_Paralytics1 type: paralytics\n",
      "build_value_map: (249/1108) variable: pre_Paralytics2 type: paralytics\n",
      "build_value_map: (250/1108) variable: pre_Paralytics3 type: paralytics\n",
      "build_value_map: (251/1108) variable: pre_OtherMedFluidIntake_ccPerKg type: float\n",
      "build_value_map: (252/1108) variable: pre_OtherMedUrineOutput_ccPerKg type: float\n",
      "build_value_map: (253/1108) variable: pre_HeadSonogram type: bool\n",
      "build_value_map: (254/1108) variable: pre_HeadSonogramDate type: date\n",
      "build_value_map: (255/1108) variable: pre_HeadSonogramTime type: time\n",
      "build_value_map: (256/1108) variable: pre_HeadSonogramResult1 type: imaging\n",
      "build_value_map: (257/1108) variable: pre_HeadSonogramResult2 type: imaging\n",
      "build_value_map: (258/1108) variable: pre_HeadSonogramResult3 type: imaging\n",
      "build_value_map: (259/1108) variable: pre_HeadSonogramResult4 type: imaging\n",
      "build_value_map: (260/1108) variable: pre_HeadSonogramResult5 type: imaging\n",
      "build_value_map: (261/1108) variable: pre_HeadSonogramResult6 type: imaging\n",
      "build_value_map: (262/1108) variable: pre_HeadSonogramResult7 type: imaging\n",
      "build_value_map: (263/1108) variable: pre_HeadSonogramResult8 type: imaging\n",
      "build_value_map: (264/1108) variable: pre_HeadSonogramResultText type: text\n",
      "build_value_map: (265/1108) variable: pre_HeadCT type: bool\n",
      "build_value_map: (266/1108) variable: pre_HeadCTDate type: date\n",
      "build_value_map: (267/1108) variable: pre_HeadCTTime type: time\n",
      "build_value_map: (268/1108) variable: pre_HeadCTResult1 type: imaging\n",
      "build_value_map: (269/1108) variable: pre_HeadCTResult2 type: imaging\n",
      "build_value_map: (270/1108) variable: pre_HeadCTResult3 type: imaging\n",
      "build_value_map: (271/1108) variable: pre_HeadCTResult4 type: imaging\n",
      "build_value_map: (272/1108) variable: pre_HeadCTResult5 type: imaging\n",
      "build_value_map: (273/1108) variable: pre_HeadCTResult6 type: imaging\n",
      "build_value_map: (274/1108) variable: pre_HeadCTResult7 type: imaging\n",
      "build_value_map: (275/1108) variable: pre_HeadCTResult8 type: imaging\n",
      "build_value_map: (276/1108) variable: pre_HeadCTResultText type: text\n",
      "build_value_map: (277/1108) variable: pre_BrainMRI type: bool\n",
      "build_value_map: (278/1108) variable: pre_BrainMRIDate type: date\n",
      "build_value_map: (279/1108) variable: pre_BrainMRITime type: time\n",
      "build_value_map: (280/1108) variable: pre_BrainMRIResult1 type: imaging\n",
      "build_value_map: (281/1108) variable: pre_BrainMRIResult2 type: imaging\n",
      "build_value_map: (282/1108) variable: pre_BrainMRIResult3 type: imaging\n",
      "build_value_map: (283/1108) variable: pre_BrainMRIResult4 type: imaging\n",
      "build_value_map: (284/1108) variable: pre_BrainMRIResult5 type: imaging\n",
      "build_value_map: (285/1108) variable: pre_BrainMRIResult6 type: imaging\n",
      "build_value_map: (286/1108) variable: pre_BrainMRIResult7 type: imaging\n",
      "build_value_map: (287/1108) variable: pre_BrainMRIResult8 type: imaging\n",
      "build_value_map: (288/1108) variable: pre_BrainMRIResultText type: text\n",
      "build_value_map: (289/1108) variable: pre_NeuroExam type: bool\n",
      "build_value_map: (290/1108) variable: pre_NoNeuroExamReason type: noNeuroExamReason\n",
      "build_value_map: (291/1108) variable: pre_NeuroExamSignModerateSevereHIE3Category type: bool\n",
      "build_value_map: (292/1108) variable: pre_NeuroExamLevelConsciousness type: signOfHIELvlOfCons\n",
      "build_value_map: (293/1108) variable: pre_NeuroExamSpontaneousActivity type: signOfHIESpontaneousActivity\n",
      "build_value_map: (294/1108) variable: pre_NeuroExamPosture type: signOfHIEPosture\n",
      "build_value_map: (295/1108) variable: pre_NeuroExamTone type: signOfHIETone\n",
      "build_value_map: (296/1108) variable: pre_NeuroExamSuck type: signOfHIESuck\n",
      "build_value_map: (297/1108) variable: pre_NeuroExamMoro type: signOfHIEMoro\n",
      "build_value_map: (298/1108) variable: pre_NeuroExamPupils type: signOfHIEPupils\n",
      "build_value_map: (299/1108) variable: pre_NeuroExamHeartRate type: signOfHIEHeartRate\n",
      "build_value_map: (300/1108) variable: pre_NeuroExamRespiration type: signOfHIERespiratory\n",
      "build_value_map: (301/1108) variable: pre_NeuroExamLevelConsciousnessScore type: int\n",
      "build_value_map: (302/1108) variable: pre_NeuroExamSpontaneousActivityScore type: int\n",
      "build_value_map: (303/1108) variable: pre_NeuroExamPostureScore type: int\n",
      "build_value_map: (304/1108) variable: pre_NeuroExamToneScore type: int\n",
      "build_value_map: (305/1108) variable: pre_NeuroExamSuckScore type: int\n",
      "build_value_map: (306/1108) variable: pre_NeuroExamMoroScore type: int\n",
      "build_value_map: (307/1108) variable: pre_NeuroExamPupilsScore type: int\n",
      "build_value_map: (308/1108) variable: pre_NeuroExamHeartRateScore type: int\n",
      "build_value_map: (309/1108) variable: pre_NeuroExamRespirationScore type: int\n",
      "build_value_map: (310/1108) variable: pre_NeuroExamReflexScore type: int\n",
      "build_value_map: (311/1108) variable: pre_NeuroExamANSScore type: int\n",
      "build_value_map: (312/1108) variable: pre_TotalModifiedSarnatScore type: int\n",
      "build_value_map: (313/1108) variable: pre_NeuroExamDate type: date\n",
      "build_value_map: (314/1108) variable: pre_NeuroExamTime type: time\n",
      "build_value_map: (315/1108) variable: pre_NeuroExamSedate type: bool\n",
      "build_value_map: (316/1108) variable: pre_NeuroExamSeizure type: bool\n",
      "build_value_map: (317/1108) variable: temperatureTimeSlot_min type: int\n",
      "build_value_map: (318/1108) variable: temperatureTimeSlotNoForm type: bool\n",
      "build_value_map: (319/1108) variable: temperatureDate type: date\n",
      "build_value_map: (320/1108) variable: temperatureTime type: time\n",
      "build_value_map: (321/1108) variable: skinTemperature_C type: float\n",
      "build_value_map: (322/1108) variable: axillaryTemperature_C type: float\n",
      "build_value_map: (323/1108) variable: esophagealTemperature_C type: float\n",
      "build_value_map: (324/1108) variable: blanketTemperature_C type: float\n",
      "build_value_map: (325/1108) variable: servoSetTemperature_C type: float\n",
      "build_value_map: (326/1108) variable: alterationSkinIntegrity type: bool\n",
      "build_value_map: (327/1108) variable: shiver type: bool\n",
      "build_value_map: (328/1108) variable: cardioTimeSlot_min type: int\n",
      "build_value_map: (329/1108) variable: cardioDate type: date\n",
      "build_value_map: (330/1108) variable: cardioTime type: time\n",
      "build_value_map: (331/1108) variable: cardioSystolicBloodPressure_mmHg type: float\n",
      "build_value_map: (332/1108) variable: cardioDiastolicBloodPressure_mmHg type: float\n",
      "build_value_map: (333/1108) variable: cardioHeartRate_BPM type: float\n",
      "build_value_map: (334/1108) variable: cardioVolumeExpand type: bool\n",
      "build_value_map: (335/1108) variable: cardioInotropicAgent type: bool\n",
      "build_value_map: (336/1108) variable: cardioBloodTransfusion type: bool\n",
      "build_value_map: (337/1108) variable: cardioPlatelets type: bool\n",
      "build_value_map: (338/1108) variable: respiratoryTimeSlot_min type: int\n",
      "build_value_map: (339/1108) variable: respiratoryDate type: date\n",
      "build_value_map: (340/1108) variable: respiratoryTime type: time\n",
      "build_value_map: (341/1108) variable: respiratorySupportType type: respiratorySupportType\n",
      "build_value_map: (342/1108) variable: respiratoryFiO2 type: float\n",
      "build_value_map: (343/1108) variable: respiratoryRate_Hz type: float\n",
      "build_value_map: (344/1108) variable: respiratoryPIP_cmH2O type: float\n",
      "build_value_map: (345/1108) variable: respiratoryMAP_cmH2O type: float\n",
      "build_value_map: (346/1108) variable: respiratoryPEEP_cmH2O type: float\n",
      "build_value_map: (347/1108) variable: bloodGasTimeSlot_min type: int\n",
      "build_value_map: (348/1108) variable: bloodGasDate type: date\n",
      "build_value_map: (349/1108) variable: bloodGasTime type: time\n",
      "build_value_map: (350/1108) variable: bloodGasSrc type: bloodGasSrc\n",
      "build_value_map: (351/1108) variable: bloodGasPH type: float\n",
      "build_value_map: (352/1108) variable: bloodGasPCO2_mmHg type: float\n",
      "build_value_map: (353/1108) variable: bloodGasPO2_mmHg type: float\n",
      "build_value_map: (354/1108) variable: bloodGasHCO3_mEqPerL type: float\n",
      "build_value_map: (355/1108) variable: bloodGasBaseDeficit_mEqPerL type: float\n",
      "build_value_map: (356/1108) variable: bloodGasPHCorrect type: float\n",
      "build_value_map: (357/1108) variable: bloodGasPCO2Correct_mmHg type: float\n",
      "build_value_map: (358/1108) variable: bloodGasPO2Correct_mmHg type: float\n",
      "build_value_map: (359/1108) variable: bloodGasHCO3Correct_mEqPerL type: float\n",
      "build_value_map: (360/1108) variable: bloodGasBaseDeficitCorrect_mEqPerL type: float\n",
      "build_value_map: (361/1108) variable: hematology type: bool\n",
      "build_value_map: (362/1108) variable: hematologyTimeSlot_min type: int\n",
      "build_value_map: (363/1108) variable: hematologyDate type: date\n",
      "build_value_map: (364/1108) variable: hematologyTime type: time\n",
      "build_value_map: (365/1108) variable: hematologyWBC_cPermuL type: float\n",
      "build_value_map: (366/1108) variable: hematologyWBCMin_cPermuL type: float\n",
      "build_value_map: (367/1108) variable: hematologyWBCMax_cPermuL type: float\n",
      "build_value_map: (368/1108) variable: hematologyHemoglobin_gPerdL type: float\n",
      "build_value_map: (369/1108) variable: hematologyPolymorphNeutrophils_cPermuL type: float\n",
      "build_value_map: (370/1108) variable: hematologyMonocytes_cPermuL type: float\n",
      "build_value_map: (371/1108) variable: hematologyLymphocytes_cPermuL type: float\n",
      "build_value_map: (372/1108) variable: hematologyPlatelet_cPermuL type: float\n",
      "build_value_map: (373/1108) variable: hematologyPT_s type: float\n",
      "build_value_map: (374/1108) variable: hematologyPTT_s type: float\n",
      "build_value_map: (375/1108) variable: hematologyHematocritMin type: float\n",
      "build_value_map: (376/1108) variable: hematologyHematocritMinDate type: date\n",
      "build_value_map: (377/1108) variable: hematologyHematocritMax type: float\n",
      "build_value_map: (378/1108) variable: hematologyHematocritMaxDate type: date\n",
      "build_value_map: (379/1108) variable: hematologyPlateletMin_cPermuL type: float\n",
      "build_value_map: (380/1108) variable: hematologyPlateletMin_cPermuLDate type: date\n",
      "build_value_map: (381/1108) variable: bloodValueBunBaseline_mgPerdL type: float\n",
      "build_value_map: (382/1108) variable: bloodValueBunBaseline_mgPerdLDate type: date\n",
      "build_value_map: (383/1108) variable: bloodValueCreatinineBaseline_mgPerdL type: float\n",
      "build_value_map: (384/1108) variable: bloodValueCreatinineBaseline_mgPerdLDate type: date\n",
      "build_value_map: (385/1108) variable: bloodValueASTSGOTBaseline_UPerL type: float\n",
      "build_value_map: (386/1108) variable: bloodValueASTSGOTBaseline_UPerLDate type: date\n",
      "build_value_map: (387/1108) variable: bloodValueALTSGPTBaseline_UPerL type: float\n",
      "build_value_map: (388/1108) variable: bloodValueALTSGPTBaseline_UPerLDate type: date\n",
      "build_value_map: (389/1108) variable: bloodValueTotalBilirubinBaseline_mgPerdL type: float\n",
      "build_value_map: (390/1108) variable: bloodValueTotalBilirubinBaseline_mgPerdLDate type: date\n",
      "build_value_map: (391/1108) variable: bloodValuePHMin type: float\n",
      "build_value_map: (392/1108) variable: bloodValuePHMinDate type: date\n",
      "build_value_map: (393/1108) variable: bloodValueHCO3Min_mEqPerL type: float\n",
      "build_value_map: (394/1108) variable: bloodValueHCO3Min_mEqPerLDate type: date\n",
      "build_value_map: (395/1108) variable: bloodValueSerumNaMin_mEqPerL type: float\n",
      "build_value_map: (396/1108) variable: bloodValueSerumNaMin_mEqPerLDate type: date\n",
      "build_value_map: (397/1108) variable: bloodValueSerumKMin_mEqPerL type: float\n",
      "build_value_map: (398/1108) variable: bloodValueSerumKMin_mEqPerLDate type: date\n",
      "build_value_map: (399/1108) variable: bloodValueClMin_mEqPerL type: float\n",
      "build_value_map: (400/1108) variable: bloodValueClMin_mEqPerLDate type: date\n",
      "build_value_map: (401/1108) variable: bloodValueGlucoseMin_mgPerdL type: float\n",
      "build_value_map: (402/1108) variable: bloodValueGlucoseMin_mgPerdLDate type: date\n",
      "build_value_map: (403/1108) variable: bloodValueTotalCaMin_mgPerdL type: float\n",
      "build_value_map: (404/1108) variable: bloodValueTotalCaMin_mgPerdLDate type: date\n",
      "build_value_map: (405/1108) variable: bloodValueIonCaMin_mgPerdL type: float\n",
      "build_value_map: (406/1108) variable: bloodValueIonCaMin_mgPerdLDate type: date\n",
      "build_value_map: (407/1108) variable: bloodValueASTSGOTMin_UPerL type: float\n",
      "build_value_map: (408/1108) variable: bloodValueASTSGOTMin_UPerLDate type: date\n",
      "build_value_map: (409/1108) variable: bloodValueALTSGPTMin_UPerL type: float\n",
      "build_value_map: (410/1108) variable: bloodValueALTSGPTMin_UPerLDate type: date\n",
      "build_value_map: (411/1108) variable: bloodValueTotalBilirubinMin_mgPerdL type: float\n",
      "build_value_map: (412/1108) variable: bloodValueTotalBilirubinMin_mgPerdLDate type: date\n",
      "build_value_map: (413/1108) variable: bloodValuePHMax type: float\n",
      "build_value_map: (414/1108) variable: bloodValuePHMaxDate type: date\n",
      "build_value_map: (415/1108) variable: bloodValueBaseDeficitMax_mEqPerL type: float\n",
      "build_value_map: (416/1108) variable: bloodValueBaseDeficitMax_mEqPerLDate type: date\n",
      "build_value_map: (417/1108) variable: bloodValueSerumNaMax_mEqPerL type: float\n",
      "build_value_map: (418/1108) variable: bloodValueSerumNaMax_mEqPerLDate type: date\n",
      "build_value_map: (419/1108) variable: bloodValueSerumKMax_mEqPerL type: float\n",
      "build_value_map: (420/1108) variable: bloodValueSerumKMax_mEqPerLDate type: date\n",
      "build_value_map: (421/1108) variable: bloodValueClMax_mEqPerL type: float\n",
      "build_value_map: (422/1108) variable: bloodValueClMax_mEqPerLDate type: date\n",
      "build_value_map: (423/1108) variable: bloodValueBunMax_mgPerdL type: float\n",
      "build_value_map: (424/1108) variable: bloodValueBunMax_mgPerdLDate type: date\n",
      "build_value_map: (425/1108) variable: bloodValueCreatinineMax_mgPerdL type: float\n",
      "build_value_map: (426/1108) variable: bloodValueCreatinineMax_mgPerdLDate type: date\n",
      "build_value_map: (427/1108) variable: bloodValueGlucoseMax_mgPerdL type: float\n",
      "build_value_map: (428/1108) variable: bloodValueGlucoseMax_mgPerdLDate type: date\n",
      "build_value_map: (429/1108) variable: bloodValueTotalCaMax_mgPerdL type: float\n",
      "build_value_map: (430/1108) variable: bloodValueTotalCaMax_mgPerdLDate type: date\n",
      "build_value_map: (431/1108) variable: bloodValueIonCaMax_mgPerdL type: float\n",
      "build_value_map: (432/1108) variable: bloodValueIonCaMax_mgPerdLDate type: date\n",
      "build_value_map: (433/1108) variable: bloodValueASTSGOTMax_UPerL type: float\n",
      "build_value_map: (434/1108) variable: bloodValueASTSGOTMax_UPerLDate type: date\n",
      "build_value_map: (435/1108) variable: bloodValueALTSGPTMax_UPerL type: float\n",
      "build_value_map: (436/1108) variable: bloodValueALTSGPTMax_UPerLDate type: date\n",
      "build_value_map: (437/1108) variable: bloodValueTotalBilirubinMax_mgPerdL type: float\n",
      "build_value_map: (438/1108) variable: bloodValueTotalBilirubinMax_mgPerdLDate type: date\n",
      "build_value_map: (439/1108) variable: positiveCultureNumber type: int\n",
      "build_value_map: (440/1108) variable: positiveCulture type: bool\n",
      "build_value_map: (441/1108) variable: positiveCultureSrc type: positiveCultureSrc\n",
      "build_value_map: (442/1108) variable: positiveCultureDate type: date\n",
      "build_value_map: (443/1108) variable: positiveCultureTime type: time\n",
      "build_value_map: (444/1108) variable: positiveCultureOrganismCode1 type: positiveCultureOrganism\n",
      "build_value_map: (445/1108) variable: positiveCultureOrganismCode2 type: positiveCultureOrganism\n",
      "build_value_map: (446/1108) variable: positiveCultureOrganismCode3 type: positiveCultureOrganism\n",
      "build_value_map: (447/1108) variable: antibiotics type: bool\n",
      "build_value_map: (448/1108) variable: antibioticsCode1 type: antibiotics\n",
      "build_value_map: (449/1108) variable: antibioticsCode2 type: antibiotics\n",
      "build_value_map: (450/1108) variable: antibioticsCode3 type: antibiotics\n",
      "build_value_map: (451/1108) variable: rewarmingAntibiotics type: bool\n",
      "build_value_map: (452/1108) variable: rewarmingAntibioticsCode1 type: antibiotics\n",
      "build_value_map: (453/1108) variable: rewarmingAntibioticsCode2 type: antibiotics\n",
      "build_value_map: (454/1108) variable: rewarmingAntibioticsCode3 type: antibiotics\n",
      "build_value_map: (455/1108) variable: otherMedTimeSlot_min type: int\n",
      "build_value_map: (456/1108) variable: otherMedTargetDate type: date\n",
      "build_value_map: (457/1108) variable: otherMedTargetTime type: time\n",
      "build_value_map: (458/1108) variable: anticonvulsants type: anticonvulsants\n",
      "build_value_map: (459/1108) variable: anticonvulsants1 type: anticonvulsants\n",
      "build_value_map: (460/1108) variable: anticonvulsants2 type: anticonvulsants\n",
      "build_value_map: (461/1108) variable: anticonvulsants3 type: anticonvulsants\n",
      "build_value_map: (462/1108) variable: analgesicsSedatives type: analgesics\n",
      "build_value_map: (463/1108) variable: analgesicsSedatives1 type: analgesics\n",
      "build_value_map: (464/1108) variable: analgesicsSedatives2 type: analgesics\n",
      "build_value_map: (465/1108) variable: analgesicsSedatives3 type: analgesics\n",
      "build_value_map: (466/1108) variable: antipyretics type: antipyretics\n",
      "build_value_map: (467/1108) variable: antipyretics1 type: antipyretics\n",
      "build_value_map: (468/1108) variable: antipyretics2 type: antipyretics\n",
      "build_value_map: (469/1108) variable: antipyretics3 type: antipyretics\n",
      "build_value_map: (470/1108) variable: paralytics type: paralytics\n",
      "build_value_map: (471/1108) variable: paralytics1 type: paralytics\n",
      "build_value_map: (472/1108) variable: paralytics2 type: paralytics\n",
      "build_value_map: (473/1108) variable: paralytics3 type: paralytics\n",
      "build_value_map: (474/1108) variable: otherMedFluidIntake_ccPerKg type: float\n",
      "build_value_map: (475/1108) variable: otherMedUrineOutput_ccPerKg type: float\n",
      "build_value_map: (476/1108) variable: imagingNumber type: int\n",
      "build_value_map: (477/1108) variable: headSonogram type: bool\n",
      "build_value_map: (478/1108) variable: headSonogramDate type: date\n",
      "build_value_map: (479/1108) variable: headSonogramTime type: time\n",
      "build_value_map: (480/1108) variable: headSonogramResult1 type: imaging\n",
      "build_value_map: (481/1108) variable: headSonogramResult2 type: imaging\n",
      "build_value_map: (482/1108) variable: headSonogramResult3 type: imaging\n",
      "build_value_map: (483/1108) variable: headSonogramResult4 type: imaging\n",
      "build_value_map: (484/1108) variable: headSonogramResult5 type: imaging\n",
      "build_value_map: (485/1108) variable: headSonogramResult6 type: imaging\n",
      "build_value_map: (486/1108) variable: headSonogramResult7 type: imaging\n",
      "build_value_map: (487/1108) variable: headSonogramResult8 type: imaging\n",
      "build_value_map: (488/1108) variable: headSonogramResultText type: text\n",
      "build_value_map: (489/1108) variable: headCT type: bool\n",
      "build_value_map: (490/1108) variable: headCTDate type: date\n",
      "build_value_map: (491/1108) variable: headCTTime type: time\n",
      "build_value_map: (492/1108) variable: headCTResult1 type: imaging\n",
      "build_value_map: (493/1108) variable: headCTResult2 type: imaging\n",
      "build_value_map: (494/1108) variable: headCTResult3 type: imaging\n",
      "build_value_map: (495/1108) variable: headCTResult4 type: imaging\n",
      "build_value_map: (496/1108) variable: headCTResult5 type: imaging\n",
      "build_value_map: (497/1108) variable: headCTResult6 type: imaging\n",
      "build_value_map: (498/1108) variable: headCTResult7 type: imaging\n",
      "build_value_map: (499/1108) variable: headCTResult8 type: imaging\n",
      "build_value_map: (500/1108) variable: headCTResultText type: text\n",
      "build_value_map: (501/1108) variable: brainMRI type: bool\n",
      "build_value_map: (502/1108) variable: brainMRIDate type: date\n",
      "build_value_map: (503/1108) variable: brainMRITime type: time\n",
      "build_value_map: (504/1108) variable: brainMRIResult1 type: imaging\n",
      "build_value_map: (505/1108) variable: brainMRIResult2 type: imaging\n",
      "build_value_map: (506/1108) variable: brainMRIResult3 type: imaging\n",
      "build_value_map: (507/1108) variable: brainMRIResult4 type: imaging\n",
      "build_value_map: (508/1108) variable: brainMRIResult5 type: imaging\n",
      "build_value_map: (509/1108) variable: brainMRIResult6 type: imaging\n",
      "build_value_map: (510/1108) variable: brainMRIResult7 type: imaging\n",
      "build_value_map: (511/1108) variable: brainMRIResult8 type: imaging\n",
      "build_value_map: (512/1108) variable: brainMRIResultText type: text\n",
      "build_value_map: (513/1108) variable: elevatedTempNumber type: int\n",
      "build_value_map: (514/1108) variable: elevatedTempMin type: int\n",
      "build_value_map: (515/1108) variable: elevatedTempDate type: date\n",
      "build_value_map: (516/1108) variable: elevatedTempTime type: time\n",
      "build_value_map: (517/1108) variable: elevatedTempSkinTemperature_C type: float\n",
      "build_value_map: (518/1108) variable: elevatedTempAxillaryTemperature_C type: float\n",
      "build_value_map: (519/1108) variable: elevatedTempEsophagealTemperature_C type: float\n",
      "build_value_map: (520/1108) variable: elevatedTempServoSet_C type: float\n",
      "build_value_map: (521/1108) variable: elevatedTempDevice type: elevatedTempDevice\n",
      "build_value_map: (522/1108) variable: elevatedTempDeviceMode type: elevatedTempDeviceMode\n",
      "build_value_map: (523/1108) variable: elevatedTempAirTemperature_C type: float\n",
      "build_value_map: (524/1108) variable: elevatedTempBath type: bool\n",
      "build_value_map: (525/1108) variable: elevatedTempNoBathReason type: elevatedTempNoBathReason\n",
      "build_value_map: (526/1108) variable: elevatedTempBlanketrol type: bool\n",
      "build_value_map: (527/1108) variable: fluctuateTempNumber type: int\n",
      "build_value_map: (528/1108) variable: fluctuateTempMin type: int\n",
      "build_value_map: (529/1108) variable: fluctuateTempDate type: date\n",
      "build_value_map: (530/1108) variable: fluctuateTempTime type: time\n",
      "build_value_map: (531/1108) variable: fluctuateTempSkinTemperature_C type: float\n",
      "build_value_map: (532/1108) variable: fluctuateTempAxillaryTemperature_C type: float\n",
      "build_value_map: (533/1108) variable: fluctuateTempEsophagealTemperature_C type: float\n",
      "build_value_map: (534/1108) variable: fluctuateTempBlanketrol_C type: float\n",
      "build_value_map: (535/1108) variable: fluctuateTempServoSet_C type: float\n",
      "build_value_map: (536/1108) variable: bradycardiaEventNumber type: int\n",
      "build_value_map: (537/1108) variable: bradycardiaLess70Greater15min type: bool\n",
      "build_value_map: (538/1108) variable: bradycardiaEKG type: bool\n",
      "build_value_map: (539/1108) variable: bradycardiaEKGResult type: bradycardiaEKGResult\n",
      "build_value_map: (540/1108) variable: bradycardiaEKGResultOtherText type: text\n",
      "build_value_map: (541/1108) variable: bradycardiaAntiarrhythmiaMedication type: bool\n",
      "build_value_map: (542/1108) variable: bradycardiaDate type: date\n",
      "build_value_map: (543/1108) variable: bradycardiaTime type: time\n",
      "build_value_map: (544/1108) variable: bradycardiaDuration type: bradycardiaDuration\n",
      "build_value_map: (545/1108) variable: bradycardiaHeartRateMin type: bradycardiaHeartRateMin\n",
      "build_value_map: (546/1108) variable: adverseEventNumber type: int\n",
      "build_value_map: (547/1108) variable: SAECardiacExperienceOnsetDate type: date\n",
      "build_value_map: (548/1108) variable: SAECardiacExperienceOnsetTime type: time\n",
      "build_value_map: (549/1108) variable: SAECardiacExperienceResolveDate type: date\n",
      "build_value_map: (550/1108) variable: SAECardiacExperienceResolveTime type: time\n",
      "build_value_map: (551/1108) variable: SAECardiacExperienceDueToHypothermia type: SAEAttributable\n",
      "build_value_map: (552/1108) variable: SAECardiacExperienceActionTaken type: SAEAction\n",
      "build_value_map: (553/1108) variable: SAECardiacExperienceOutcome type: SAEOutcome\n",
      "build_value_map: (554/1108) variable: SAECardiacExperienceComment type: text\n",
      "build_value_map: (555/1108) variable: SAEMetabolicAcidosisOnsetDate type: date\n",
      "build_value_map: (556/1108) variable: SAEMetabolicAcidosisOnsetTime type: time\n",
      "build_value_map: (557/1108) variable: SAEMetabolicAcidosisResolveDate type: date\n",
      "build_value_map: (558/1108) variable: SAEMetabolicAcidosisResolveTime type: time\n",
      "build_value_map: (559/1108) variable: SAEMetabolicAcidosisDueToHypothermia type: SAEAttributable\n",
      "build_value_map: (560/1108) variable: SAEMetabolicAcidosisActionTaken type: SAEAction\n",
      "build_value_map: (561/1108) variable: SAEMetabolicAcidosisOutcome type: SAEOutcome\n",
      "build_value_map: (562/1108) variable: SAEMetabolicAcidosisComment type: text\n",
      "build_value_map: (563/1108) variable: SAEThrombosisExperienceOnsetDate type: date\n",
      "build_value_map: (564/1108) variable: SAEThrombosisExperienceOnsetTime type: time\n",
      "build_value_map: (565/1108) variable: SAEThrombosisExperienceResolveDate type: date\n",
      "build_value_map: (566/1108) variable: SAEThrombosisExperienceResolveTime type: time\n",
      "build_value_map: (567/1108) variable: SAEThrombosisExperienceDueToHypothermia type: SAEAttributable\n",
      "build_value_map: (568/1108) variable: SAEThrombosisExperienceActionTaken type: SAEAction\n",
      "build_value_map: (569/1108) variable: SAEThrombosisExperienceOutcome type: SAEOutcome\n",
      "build_value_map: (570/1108) variable: SAEThrombosisExperienceComment type: text\n",
      "build_value_map: (571/1108) variable: SAEBleedingExperienceOnsetDate type: date\n",
      "build_value_map: (572/1108) variable: SAEBleedingExperienceOnsetTime type: time\n",
      "build_value_map: (573/1108) variable: SAEBleedingExperienceResolveDate type: date\n",
      "build_value_map: (574/1108) variable: SAEBleedingExperienceResolveTime type: time\n",
      "build_value_map: (575/1108) variable: SAEBleedingExperienceDueToHypothermia type: SAEAttributable\n",
      "build_value_map: (576/1108) variable: SAEBleedingExperienceActionTaken type: SAEAction\n",
      "build_value_map: (577/1108) variable: SAEBleedingExperienceOutcome type: SAEOutcome\n",
      "build_value_map: (578/1108) variable: SAEBleedingExperienceComment type: text\n",
      "build_value_map: (579/1108) variable: SAEAlterationSkinIntegrity type: SAEAlterationSkinIntegrity\n",
      "build_value_map: (580/1108) variable: SAEAlterationSkinIntegrityOnsetDate type: date\n",
      "build_value_map: (581/1108) variable: SAEAlterationSkinIntegrityResolveDate type: date\n",
      "build_value_map: (582/1108) variable: SAEAlterationSkinIntegrityDueToHypothermia type: SAEAttributable\n",
      "build_value_map: (583/1108) variable: SAEAlterationSkinIntegrityActionTaken type: SAEAction\n",
      "build_value_map: (584/1108) variable: SAEAlterationSkinIntegrityOutcome type: SAEOutcome\n",
      "build_value_map: (585/1108) variable: SAEAlterationSkinIntegrityComment type: text\n",
      "build_value_map: (586/1108) variable: SAEDeathDate type: date\n",
      "build_value_map: (587/1108) variable: SAEDeathTime type: time\n",
      "build_value_map: (588/1108) variable: SAEDeathDueToHypothermia type: SAEAttributable\n",
      "build_value_map: (589/1108) variable: SAEDeathActionTaken type: SAEAction\n",
      "build_value_map: (590/1108) variable: SAEDeathOutcome type: SAEOutcome\n",
      "build_value_map: (591/1108) variable: SAEDeathComment type: text\n",
      "build_value_map: (592/1108) variable: SAEOther type: text\n",
      "build_value_map: (593/1108) variable: SAEOtherOnsetDate type: date\n",
      "build_value_map: (594/1108) variable: SAEOtherOnsetTime type: time\n",
      "build_value_map: (595/1108) variable: SAEOtherResolveDate type: date\n",
      "build_value_map: (596/1108) variable: SAEOtherResolveTime type: time\n",
      "build_value_map: (597/1108) variable: SAEOtherDueToHypothermia type: SAEAttributable\n",
      "build_value_map: (598/1108) variable: SAEOtherActionTaken type: SAEAction\n",
      "build_value_map: (599/1108) variable: SAEOtherOutcome type: SAEOutcome\n",
      "build_value_map: (600/1108) variable: SAEOtherComment type: text\n",
      "build_value_map: (601/1108) variable: violationNumber type: int\n",
      "build_value_map: (602/1108) variable: violationDate type: date\n",
      "build_value_map: (603/1108) variable: violationNature type: violationNature\n",
      "build_value_map: (604/1108) variable: violationTreatmentAssign type: bool\n",
      "build_value_map: (605/1108) variable: violationTreatmentReceive type: bool\n",
      "build_value_map: (606/1108) variable: violationOtherText type: text\n",
      "build_value_map: (607/1108) variable: violationCircumstance type: violationCircumstance\n",
      "build_value_map: (608/1108) variable: violationOtherCirumstanceText type: text\n",
      "build_value_map: (609/1108) variable: violationComment type: text\n",
      "build_value_map: (610/1108) variable: interruptNumber type: int\n",
      "build_value_map: (611/1108) variable: interrupt type: bool\n",
      "build_value_map: (612/1108) variable: interruptReason type: interruptReason\n",
      "build_value_map: (613/1108) variable: interruptReasonText type: text\n",
      "build_value_map: (614/1108) variable: interruptDate type: date\n",
      "build_value_map: (615/1108) variable: interruptTime type: time\n",
      "build_value_map: (616/1108) variable: interruptRestartDate type: date\n",
      "build_value_map: (617/1108) variable: interruptRestartTime type: time\n",
      "build_value_map: (618/1108) variable: interruptRestartEsophagealTemperature_C type: float\n",
      "build_value_map: (619/1108) variable: discontinueDate type: date\n",
      "build_value_map: (620/1108) variable: discontinueTime type: time\n",
      "build_value_map: (621/1108) variable: discontinueBeforeEndPeriod type: bool\n",
      "build_value_map: (622/1108) variable: discontinueParentsWithdraw type: bool\n",
      "build_value_map: (623/1108) variable: discontinuePhysicianWithdraw type: bool\n",
      "build_value_map: (624/1108) variable: discontinueAdverseEvent type: bool\n",
      "build_value_map: (625/1108) variable: discontinueECMO type: bool\n",
      "build_value_map: (626/1108) variable: discontinueDNR type: bool\n",
      "build_value_map: (627/1108) variable: discontinueWdrawSupport type: bool\n",
      "build_value_map: (628/1108) variable: discontinueDeath type: bool\n",
      "build_value_map: (629/1108) variable: discontinueOther type: bool\n",
      "build_value_map: (630/1108) variable: discontinueOtherText type: text\n",
      "build_value_map: (631/1108) variable: post_TemperatureTimeSlot_day type: int\n",
      "build_value_map: (632/1108) variable: post_TemperatureDate type: date\n",
      "build_value_map: (633/1108) variable: post_TemperatureTime type: time\n",
      "build_value_map: (634/1108) variable: post_SkinTemperature_C type: float\n",
      "build_value_map: (635/1108) variable: post_AxillaryTemperature_C type: float\n",
      "build_value_map: (636/1108) variable: post_AlterationSkinIntegrity type: bool\n",
      "build_value_map: (637/1108) variable: post_Shiver type: bool\n",
      "build_value_map: (638/1108) variable: normothermiaAtEndIntervention type: bool\n",
      "build_value_map: (639/1108) variable: normothermiaDate type: date\n",
      "build_value_map: (640/1108) variable: normothermiaTime type: time\n",
      "build_value_map: (641/1108) variable: normothermiaAxillaryTemperature_C type: float\n",
      "build_value_map: (642/1108) variable: noNormothermiaReason type: text\n",
      "build_value_map: (643/1108) variable: coolAfterIntervention type: coolAfterIntervention\n",
      "build_value_map: (644/1108) variable: coolAfterInterventionText type: text\n",
      "build_value_map: (645/1108) variable: post_BloodValueASTSGOT_UPerL type: float\n",
      "build_value_map: (646/1108) variable: post_BloodValueASTSGOT_UPerLDate type: date\n",
      "build_value_map: (647/1108) variable: post_BloodValueALTSGPT_UPerL type: float\n",
      "build_value_map: (648/1108) variable: post_BloodValueALTSGPT_UPerLDate type: date\n",
      "build_value_map: (649/1108) variable: post_BloodValueTotalBilirubin_mgPerdL type: float\n",
      "build_value_map: (650/1108) variable: post_BloodValueTotalBilirubin_mgPerdLDate type: date\n",
      "build_value_map: (651/1108) variable: post_HeadSonogram type: bool\n",
      "build_value_map: (652/1108) variable: post_HeadSonogramDate type: date\n",
      "build_value_map: (653/1108) variable: post_HeadSonogramTime type: time\n",
      "build_value_map: (654/1108) variable: post_HeadSonogramResult1 type: imaging\n",
      "build_value_map: (655/1108) variable: post_HeadSonogramResult2 type: imaging\n",
      "build_value_map: (656/1108) variable: post_HeadSonogramResult3 type: imaging\n",
      "build_value_map: (657/1108) variable: post_HeadSonogramResult4 type: imaging\n",
      "build_value_map: (658/1108) variable: post_HeadSonogramResult5 type: imaging\n",
      "build_value_map: (659/1108) variable: post_HeadSonogramResult6 type: imaging\n",
      "build_value_map: (660/1108) variable: post_HeadSonogramResult7 type: imaging\n",
      "build_value_map: (661/1108) variable: post_HeadSonogramResult8 type: imaging\n",
      "build_value_map: (662/1108) variable: post_HeadSonogramResultText type: text\n",
      "build_value_map: (663/1108) variable: post_HeadCT type: bool\n",
      "build_value_map: (664/1108) variable: post_HeadCTDate type: date\n",
      "build_value_map: (665/1108) variable: post_HeadCTTime type: time\n",
      "build_value_map: (666/1108) variable: post_HeadCTResult1 type: imaging\n",
      "build_value_map: (667/1108) variable: post_HeadCTResult2 type: imaging\n",
      "build_value_map: (668/1108) variable: post_HeadCTResult3 type: imaging\n",
      "build_value_map: (669/1108) variable: post_HeadCTResult4 type: imaging\n",
      "build_value_map: (670/1108) variable: post_HeadCTResult5 type: imaging\n",
      "build_value_map: (671/1108) variable: post_HeadCTResult6 type: imaging\n",
      "build_value_map: (672/1108) variable: post_HeadCTResult7 type: imaging\n",
      "build_value_map: (673/1108) variable: post_HeadCTResult8 type: imaging\n",
      "build_value_map: (674/1108) variable: post_HeadCTResultText type: text\n",
      "build_value_map: (675/1108) variable: post_BrainMRI type: bool\n",
      "build_value_map: (676/1108) variable: post_BrainMRIDate type: date\n",
      "build_value_map: (677/1108) variable: post_BrainMRITime type: time\n",
      "build_value_map: (678/1108) variable: post_BrainMRIResult1 type: imaging\n",
      "build_value_map: (679/1108) variable: post_BrainMRIResult2 type: imaging\n",
      "build_value_map: (680/1108) variable: post_BrainMRIResult3 type: imaging\n",
      "build_value_map: (681/1108) variable: post_BrainMRIResult4 type: imaging\n",
      "build_value_map: (682/1108) variable: post_BrainMRIResult5 type: imaging\n",
      "build_value_map: (683/1108) variable: post_BrainMRIResult6 type: imaging\n",
      "build_value_map: (684/1108) variable: post_BrainMRIResult7 type: imaging\n",
      "build_value_map: (685/1108) variable: post_BrainMRIResult8 type: imaging\n",
      "build_value_map: (686/1108) variable: post_BrainMRIResultText type: text\n",
      "build_value_map: (687/1108) variable: post_NeuroExamSectionID type: text\n",
      "build_value_map: (688/1108) variable: post_NeuroExam type: bool\n",
      "build_value_map: (689/1108) variable: post_NeuroExamDate type: date\n",
      "build_value_map: (690/1108) variable: post_NeuroExamTime type: time\n",
      "build_value_map: (691/1108) variable: post_NeuroExamLevelConsciousness type: signOfHIELvlOfCons\n",
      "build_value_map: (692/1108) variable: post_NeuroExamSpontaneousActivity type: signOfHIESpontaneousActivity\n",
      "build_value_map: (693/1108) variable: post_NeuroExamPosture type: signOfHIEPosture\n",
      "build_value_map: (694/1108) variable: post_NeuroExamTone type: signOfHIETone\n",
      "build_value_map: (695/1108) variable: post_NeuroExamSuck type: signOfHIESuck\n",
      "build_value_map: (696/1108) variable: post_NeuroExamMoro type: signOfHIEMoro\n",
      "build_value_map: (697/1108) variable: post_NeuroExamPupils type: signOfHIEPupils\n",
      "build_value_map: (698/1108) variable: post_NeuroExamHeartRate type: signOfHIEHeartRate\n",
      "build_value_map: (699/1108) variable: post_NeuroExamRespiration type: signOfHIERespiratory\n",
      "build_value_map: (700/1108) variable: post_NeuroExamSeizure type: bool\n",
      "build_value_map: (701/1108) variable: post_NeuroExamSedate type: bool\n",
      "build_value_map: (702/1108) variable: post_NeuroExamClonusSustained type: bool\n",
      "build_value_map: (703/1108) variable: post_NeuroExamFistedHand type: bool\n",
      "build_value_map: (704/1108) variable: post_NeuroExamAbnormalMovement type: bool\n",
      "build_value_map: (705/1108) variable: post_NeuroExamGagReflexAbsent type: bool\n",
      "build_value_map: (706/1108) variable: post_NeuroExamHypertonia type: bool\n",
      "build_value_map: (707/1108) variable: post_NeuroExamAsymTonicNeckReflex type: bool\n",
      "build_value_map: (708/1108) variable: post_NeuroExamLevelConsciousnessScore type: int\n",
      "build_value_map: (709/1108) variable: post_NeuroExamSpontaneousActivityScore type: int\n",
      "build_value_map: (710/1108) variable: post_NeuroExamPostureScore type: int\n",
      "build_value_map: (711/1108) variable: post_NeuroExamToneScore type: int\n",
      "build_value_map: (712/1108) variable: post_NeuroExamSuckScore type: int\n",
      "build_value_map: (713/1108) variable: post_NeuroExamMoroScore type: int\n",
      "build_value_map: (714/1108) variable: post_NeuroExamPupilsScore type: int\n",
      "build_value_map: (715/1108) variable: post_NeuroExamHeartRateScore type: int\n",
      "build_value_map: (716/1108) variable: post_NeuroExamRespirationScore type: int\n",
      "build_value_map: (717/1108) variable: post_NeuroExamReflexScore type: int\n",
      "build_value_map: (718/1108) variable: post_NeuroExamANSScore type: int\n",
      "build_value_map: (719/1108) variable: post_TotalModifiedSarnatScore type: int\n",
      "build_value_map: (720/1108) variable: subjectID type: text\n",
      "build_value_map: (721/1108) variable: MRIAvailable type: bool\n",
      "build_value_map: (722/1108) variable: MRIAvailable_c type: bool\n",
      "build_value_map: (723/1108) variable: MRIObtain type: bool\n",
      "build_value_map: (724/1108) variable: MRIObtainWindow type: MRIObtainWindow\n",
      "build_value_map: (725/1108) variable: MRIObtainWindow_c type: MRIObtainWindow\n",
      "build_value_map: (726/1108) variable: MRIDate type: date\n",
      "build_value_map: (727/1108) variable: MRITime type: time\n",
      "build_value_map: (728/1108) variable: MRIObtainComment type: text\n",
      "build_value_map: (729/1108) variable: MRISendRTIDate type: date\n",
      "build_value_map: (730/1108) variable: MRIReceiveRTIDate type: date\n",
      "build_value_map: (731/1108) variable: MRINoObtainReason type: MRINoObtainReason\n",
      "build_value_map: (732/1108) variable: MRINoObtainReason_c type: MRINoObtainReason\n",
      "build_value_map: (733/1108) variable: MRINoObtainReasonText type: text\n",
      "build_value_map: (734/1108) variable: MRIDate type: date\n",
      "build_value_map: (735/1108) variable: MRITime type: time\n",
      "build_value_map: (736/1108) variable: MRIRead type: bool\n",
      "build_value_map: (737/1108) variable: MRIScore type: MRINRNPatternOfInjury\n",
      "build_value_map: (738/1108) variable: MRIIteration type: text\n",
      "build_value_map: (739/1108) variable: MRIIncrement type: int\n",
      "build_value_map: (740/1108) variable: center type: center\n",
      "build_value_map: (741/1108) variable: MRIID type: text\n",
      "build_value_map: (742/1108) variable: subjectID type: text\n",
      "build_value_map: (743/1108) variable: MRIReader type: MRIReader\n",
      "build_value_map: (744/1108) variable: MRIReadDate type: date\n",
      "build_value_map: (745/1108) variable: MRIDate type: date\n",
      "build_value_map: (746/1108) variable: MRIStrength_T type: float\n",
      "build_value_map: (747/1108) variable: MRIStrength_c type: int\n",
      "build_value_map: (748/1108) variable: MRIAdequateQuality type: bool\n",
      "build_value_map: (749/1108) variable: MRIAdequateQuality_c type: bool\n",
      "build_value_map: (750/1108) variable: MRIT1Axial type: bool\n",
      "build_value_map: (751/1108) variable: MRIT1Axial_c type: bool\n",
      "build_value_map: (752/1108) variable: MRIT1Coronal type: bool\n",
      "build_value_map: (753/1108) variable: MRIT1Coronal_c type: bool\n",
      "build_value_map: (754/1108) variable: MRIT1Sagittal type: bool\n",
      "build_value_map: (755/1108) variable: MRIT1Sagittal_c type: bool\n",
      "build_value_map: (756/1108) variable: MRIT1 type: bool\n",
      "build_value_map: (757/1108) variable: MRIT2Axial type: bool\n",
      "build_value_map: (758/1108) variable: MRIT2Axial_c type: bool\n",
      "build_value_map: (759/1108) variable: MRIT2Coronal type: bool\n",
      "build_value_map: (760/1108) variable: MRIT2Coronal_c type: bool\n",
      "build_value_map: (761/1108) variable: MRIT2Sagittal type: bool\n",
      "build_value_map: (762/1108) variable: MRIT2Sagittal_c type: bool\n",
      "build_value_map: (763/1108) variable: MRIT2 type: bool\n",
      "build_value_map: (764/1108) variable: MRIT2FLAIRAxial type: bool\n",
      "build_value_map: (765/1108) variable: MRIT2FLAIRAxial_c type: bool\n",
      "build_value_map: (766/1108) variable: MRIT2FLAIRCoronal type: bool\n",
      "build_value_map: (767/1108) variable: MRIT2FLAIRCoronal_c type: bool\n",
      "build_value_map: (768/1108) variable: MRIT2FLAIRSagittal type: bool\n",
      "build_value_map: (769/1108) variable: MRIT2FLAIRSagittal_c type: bool\n",
      "build_value_map: (770/1108) variable: MRIT2FLAIR type: bool\n",
      "build_value_map: (771/1108) variable: MRIGRESWIAxial type: bool\n",
      "build_value_map: (772/1108) variable: MRIGRESWIAxial_c type: bool\n",
      "build_value_map: (773/1108) variable: MRIGRESWICoronal type: bool\n",
      "build_value_map: (774/1108) variable: MRIGRESWICoronal_c type: bool\n",
      "build_value_map: (775/1108) variable: MRIGRESWISagittal type: bool\n",
      "build_value_map: (776/1108) variable: MRIGRESWISagittal_c type: bool\n",
      "build_value_map: (777/1108) variable: MRIGRESWI type: bool\n",
      "build_value_map: (778/1108) variable: MRISPGRAxial type: bool\n",
      "build_value_map: (779/1108) variable: MRISPGRAxial_c type: bool\n",
      "build_value_map: (780/1108) variable: MRISPGRCoronal type: bool\n",
      "build_value_map: (781/1108) variable: MRISPGRCoronal_c type: bool\n",
      "build_value_map: (782/1108) variable: MRISPGRSagittal type: bool\n",
      "build_value_map: (783/1108) variable: MRISPGRSagittal_c type: bool\n",
      "build_value_map: (784/1108) variable: MRISPGR type: bool\n",
      "build_value_map: (785/1108) variable: MRIDWI type: bool\n",
      "build_value_map: (786/1108) variable: MRIDWI_c type: bool\n",
      "build_value_map: (787/1108) variable: MRIADC type: bool\n",
      "build_value_map: (788/1108) variable: MRIADC_c type: bool\n",
      "build_value_map: (789/1108) variable: MRIMRS type: bool\n",
      "build_value_map: (790/1108) variable: MRIMRS_c type: bool\n",
      "build_value_map: (791/1108) variable: MRIOther type: bool\n",
      "build_value_map: (792/1108) variable: MRIOther_c type: bool\n",
      "build_value_map: (793/1108) variable: MRIOtherText type: text\n",
      "build_value_map: (794/1108) variable: MRIOverallDiagnosis type: MRIOverallDiagnosis\n",
      "build_value_map: (795/1108) variable: MRIOverallDiagnosis_c type: int\n",
      "build_value_map: (796/1108) variable: MRIOverallDiagnosisText type: text\n",
      "build_value_map: (797/1108) variable: MRIAbnormal type: bool\n",
      "build_value_map: (798/1108) variable: MRIAbnormal_c type: bool\n",
      "build_value_map: (799/1108) variable: MRILesionNumber type: int\n",
      "build_value_map: (800/1108) variable: MRILesionHemisphere type: bool\n",
      "build_value_map: (801/1108) variable: MRILesionHemisphere_c type: bool\n",
      "build_value_map: (802/1108) variable: MRIAbnormalRegion1 type: MRIAbnormalRegion\n",
      "build_value_map: (803/1108) variable: MRIAbnormalRegion1_c type: MRIAbnormalRegion\n",
      "build_value_map: (804/1108) variable: MRIAbnormalRegion2 type: MRIAbnormalRegion\n",
      "build_value_map: (805/1108) variable: MRIAbnormalRegion2_c type: MRIAbnormalRegion\n",
      "build_value_map: (806/1108) variable: MRIAbnormalRegion3 type: MRIAbnormalRegion\n",
      "build_value_map: (807/1108) variable: MRIAbnormalRegion3_c type: MRIAbnormalRegion\n",
      "build_value_map: (808/1108) variable: MRIAbnormalSide type: MRIAbnormalSide\n",
      "build_value_map: (809/1108) variable: MRIAbnormalSide_c type: MRIAbnormalSide\n",
      "build_value_map: (810/1108) variable: MRIAbnormalGrayMatterWhiteMatter type: MRIAbnormalGMWM\n",
      "build_value_map: (811/1108) variable: MRIAbnormalGrayMatterWhiteMatter_c type: MRIAbnormalGMWM\n",
      "build_value_map: (812/1108) variable: MRIAbnormalExtent1 type: MRIAbnormalExtent\n",
      "build_value_map: (813/1108) variable: MRIAbnormalExtent1_c type: MRIAbnormalExtent\n",
      "build_value_map: (814/1108) variable: MRIAbnormalExtent2 type: MRIAbnormalExtent\n",
      "build_value_map: (815/1108) variable: MRIAbnormalExtent2_c type: MRIAbnormalExtent\n",
      "build_value_map: (816/1108) variable: MRIAbnormalType type: MRIAbnormalType\n",
      "build_value_map: (817/1108) variable: MRIAbnormalType_c type: MRIAbnormalType\n",
      "build_value_map: (818/1108) variable: MRIAbnormalType2 type: MRIAbnormalType\n",
      "build_value_map: (819/1108) variable: MRIAbnormalType2_c type: MRIAbnormalType\n",
      "build_value_map: (820/1108) variable: MRIAbnormalComment type: text\n",
      "build_value_map: (821/1108) variable: MRICerebralAtrophy type: bool\n",
      "build_value_map: (822/1108) variable: MRICerebralAtrophy_c type: bool\n",
      "build_value_map: (823/1108) variable: MRICerebralAtrophyGlobalLocal type: MRICerebralAtrophyGlobalLocal\n",
      "build_value_map: (824/1108) variable: MRICerebralAtrophyGlobalLocal_c type: MRICerebralAtrophyGlobalLocal\n",
      "build_value_map: (825/1108) variable: MRICerebralAtrophyRegion type: MRICerebralAtrophyRegion\n",
      "build_value_map: (826/1108) variable: MRICerebralAtrophyQualAssessCC type: MRISeverity\n",
      "build_value_map: (827/1108) variable: MRICerebralAtrophyQualAssessCC_c type: MRISeverity\n",
      "build_value_map: (828/1108) variable: MRICerebralAtrophyQualAssessVDLeft type: MRISeverity\n",
      "build_value_map: (829/1108) variable: MRICerebralAtrophyQualAssessVDLeft_c type: MRISeverity\n",
      "build_value_map: (830/1108) variable: MRICerebralAtrophyQualAssessVDRight type: MRISeverity\n",
      "build_value_map: (831/1108) variable: MRICerebralAtrophyQualAssessVDRight_c type: MRISeverity\n",
      "build_value_map: (832/1108) variable: MRIInfarction type: bool\n",
      "build_value_map: (833/1108) variable: MRIInfarction_c type: bool\n",
      "build_value_map: (834/1108) variable: MRIInfarctionArterialTerritoryLeft type: bool\n",
      "build_value_map: (835/1108) variable: MRIInfarctionArterialTerritoryLeft_c type: bool\n",
      "build_value_map: (836/1108) variable: MRIInfarctionArterialTerritoryRight type: bool\n",
      "build_value_map: (837/1108) variable: MRIInfarctionArterialTerritoryRight_c type: bool\n",
      "build_value_map: (838/1108) variable: MRIInfarctionWatershedLeft type: bool\n",
      "build_value_map: (839/1108) variable: MRIInfarctionWatershedLeft_c type: bool\n",
      "build_value_map: (840/1108) variable: MRIInfarctionWatershedRight type: bool\n",
      "build_value_map: (841/1108) variable: MRIInfarctionWatershedRight_c type: bool\n",
      "build_value_map: (842/1108) variable: MRIMidlineShift type: bool\n",
      "build_value_map: (843/1108) variable: MRIMidlineShift_c type: bool\n",
      "build_value_map: (844/1108) variable: MRIBGT type: MRISeverity\n",
      "build_value_map: (845/1108) variable: MRIBGT_c type: MRISeverity\n",
      "build_value_map: (846/1108) variable: MRIPLIC type: MRIALICPLICSeverity\n",
      "build_value_map: (847/1108) variable: MRIPLIC_c type: MRIALICPLICSeverity\n",
      "build_value_map: (848/1108) variable: MRIALIC type: MRIALICPLICSeverity\n",
      "build_value_map: (849/1108) variable: MRIALIC_c type: MRIALICPLICSeverity\n",
      "build_value_map: (850/1108) variable: MRIWatershed type: MRISeverity\n",
      "build_value_map: (851/1108) variable: MRIWatershed_c type: MRISeverity\n",
      "build_value_map: (852/1108) variable: MRIWhiteMatterInjury type: MRIInjurySeverity\n",
      "build_value_map: (853/1108) variable: MRIWhiteMatterInjury_c type: MRIInjurySeverity\n",
      "build_value_map: (854/1108) variable: MRIFocalCorticalInjury type: MRIInjurySeverity\n",
      "build_value_map: (855/1108) variable: MRIFocalCorticalInjury_c type: MRIInjurySeverity\n",
      "build_value_map: (856/1108) variable: MRINRNPatternOfInjury type: MRINRNPatternOfInjury\n",
      "build_value_map: (857/1108) variable: MRINRNPatternOfInjury_c type: MRINRNPatternOfInjury\n",
      "build_value_map: (858/1108) variable: MRINRNPatternOfInjuryExtent type: MRINRNPatternOfInjuryExtent\n",
      "build_value_map: (859/1108) variable: MRINRNPatternOfInjuryExtent_c type: MRINRNPatternOfInjuryExtent\n",
      "build_value_map: (860/1108) variable: MRINRNPatternOfInjuryLateral type: MRINRNPatternOfInjuryLateral\n",
      "build_value_map: (861/1108) variable: MRINRNPatternOfInjuryLateral_c type: MRINRNPatternOfInjuryLateral\n",
      "build_value_map: (862/1108) variable: MRIComment type: text\n",
      "build_value_map: (863/1108) variable: MRINRNPatternOfInjuryMerge type: MRINRNPatternOfInjury\n",
      "build_value_map: (864/1108) variable: MRINRNPatternOfInjuryAvg type: float\n",
      "build_value_map: (865/1108) variable: MRINRNPatternOfInjuryMax type: float\n",
      "build_value_map: (866/1108) variable: MRI2LevelPatternOfInjury type: MRI2LevelPatternOfInjury\n",
      "build_value_map: (867/1108) variable: MRIAge_day type: int\n",
      "build_value_map: (868/1108) variable: MRIOverallDiagnosisMerge type: MRIOverallDiagnosis\n",
      "build_value_map: (869/1108) variable: MRINRNPatternOfInjury type: MRINRNPatternOfInjury\n",
      "build_value_map: (870/1108) variable: MRIDate type: date\n",
      "build_value_map: (871/1108) variable: MRITime type: time\n",
      "build_value_map: (872/1108) variable: MRINotDone type: bool\n",
      "build_value_map: (873/1108) variable: MRIUnread type: bool\n",
      "build_value_map: (874/1108) variable: MRIAnalysis type: bool\n",
      "build_value_map: (875/1108) variable: MRIAbnormalResult type: bool\n",
      "build_value_map: (876/1108) variable: MRINRNPatternOfInjuryWSvsBGTPLIC type: MRINRNPatternOfInjuryWSvsBGT\n",
      "build_value_map: (877/1108) variable: MRICerebralLesion type: bool\n",
      "build_value_map: (878/1108) variable: MRICerebellarLesion type: MRILesion\n",
      "build_value_map: (879/1108) variable: MRIBasalGangliaLesion type: MRILesion\n",
      "build_value_map: (880/1108) variable: MRIBrainstemLesion type: MRILesion\n",
      "build_value_map: (881/1108) variable: MRICorpusCallosumLesion type: MRILesion\n",
      "build_value_map: (882/1108) variable: MRICerebralLesionLobe type: MRILesion\n",
      "build_value_map: (883/1108) variable: MRICoronaRadiataLesion type: MRILesion\n",
      "build_value_map: (884/1108) variable: MRIEdema type: MRILesion\n",
      "build_value_map: (885/1108) variable: MRIExtraAxialLesion type: MRILesion\n",
      "build_value_map: (886/1108) variable: MRIExtent type: MRIAbnormalExtent\n",
      "build_value_map: (887/1108) variable: MRIFrontalParietalLesion type: MRILesion\n",
      "build_value_map: (888/1108) variable: MRIFrontalLesion type: MRILesion\n",
      "build_value_map: (889/1108) variable: MRILateralHemisphericDevastation type: MRIAbnormalSide\n",
      "build_value_map: (890/1108) variable: MRIHippocampusLesion type: MRILesion\n",
      "build_value_map: (891/1108) variable: MRIHypothalamusLesion type: MRILesion\n",
      "build_value_map: (892/1108) variable: MRIInsularLesion type: MRILesion\n",
      "build_value_map: (893/1108) variable: MRILateralityMerge type: MRIAbnormalSide\n",
      "build_value_map: (894/1108) variable: MRIBGTMerge type: MRISeverity\n",
      "build_value_map: (895/1108) variable: MRIPLICMerge type: MRIALICPLICSeverity\n",
      "build_value_map: (896/1108) variable: MRIWatershedMerge type: MRISeverity\n",
      "build_value_map: (897/1108) variable: MRIWhiteMatterInjuryMerge type: MRIInjurySeverity\n",
      "build_value_map: (898/1108) variable: MRIOccipitalLesion type: MRILesion\n",
      "build_value_map: (899/1108) variable: MRIOpticChiasmLesion type: MRILesion\n",
      "build_value_map: (900/1108) variable: MRIOtherLesion type: MRILesion\n",
      "build_value_map: (901/1108) variable: MRIOtherCerebralLesion type: MRILesion\n",
      "build_value_map: (902/1108) variable: MRIParasagittalLesion type: MRILesion\n",
      "build_value_map: (903/1108) variable: MRIParietalLesion type: MRILesion\n",
      "build_value_map: (904/1108) variable: MRIPreirolandicLesion type: MRILesion\n",
      "build_value_map: (905/1108) variable: MRIPerisylvianLesion type: MRILesion\n",
      "build_value_map: (906/1108) variable: MRIPituitaryLesion type: MRILesion\n",
      "build_value_map: (907/1108) variable: MRIParietalOccipitalLesion type: MRILesion\n",
      "build_value_map: (908/1108) variable: MRIParietalTemporalLesion type: MRILesion\n",
      "build_value_map: (909/1108) variable: MRIScalpLesion type: MRILesion\n",
      "build_value_map: (910/1108) variable: MRIThalamusLesion type: MRILesion\n",
      "build_value_map: (911/1108) variable: MRITemporalLesion type: MRILesion\n",
      "build_value_map: (912/1108) variable: MRITemporalOccipitalLesion type: MRILesion\n",
      "build_value_map: (913/1108) variable: MRICerebralAtrophyMerge type: bool\n",
      "build_value_map: (914/1108) variable: MRICerebralAtrophyQualAssessCCMerge type: MRISeverity\n",
      "build_value_map: (915/1108) variable: MRICerebralAtrophyGlobalLocalMerge type: MRICerebralAtrophyGlobalLocal\n",
      "build_value_map: (916/1108) variable: MRIVascularTerritoryInfarctionMerge type: bool\n",
      "build_value_map: (917/1108) variable: MRIVascularTerritoryInfarctionLeftMerge type: bool\n",
      "build_value_map: (918/1108) variable: MRIVascularTerritoryInfarctionRightMerge type: bool\n",
      "build_value_map: (919/1108) variable: MRIHemisphericDevastation type: bool\n",
      "build_value_map: (920/1108) variable: MRIVentricularDilatation type: MRISeverity\n",
      "build_value_map: (921/1108) variable: MRIVascularLesion type: MRILesion\n",
      "build_value_map: (922/1108) variable: MRIIntraventricularLesion type: MRILesion\n",
      "build_value_map: (923/1108) variable: experimentStatus type: experimentStatus\n",
      "build_value_map: (924/1108) variable: status type: status\n",
      "build_value_map: (925/1108) variable: statusDate type: date\n",
      "build_value_map: (926/1108) variable: dischargeStatus type: status\n",
      "build_value_map: (927/1108) variable: dischargeDate type: date\n",
      "build_value_map: (928/1108) variable: dischargeWeight_g type: float\n",
      "build_value_map: (929/1108) variable: dischargeLength_cm type: float\n",
      "build_value_map: (930/1108) variable: dischargeHeadCircumference_cm type: float\n",
      "build_value_map: (931/1108) variable: transferReason type: transferReason\n",
      "build_value_map: (932/1108) variable: transferDate type: date\n",
      "build_value_map: (933/1108) variable: transferWeight_g type: float\n",
      "build_value_map: (934/1108) variable: transferLength_cm type: float\n",
      "build_value_map: (935/1108) variable: transferHeadCircumference_cm type: float\n",
      "build_value_map: (936/1108) variable: transferOutcome type: transferOutcome\n",
      "build_value_map: (937/1108) variable: homeTherapyStatus type: bool\n",
      "build_value_map: (938/1108) variable: homeTherapyVentilator type: bool\n",
      "build_value_map: (939/1108) variable: homeTherapyOxygen type: bool\n",
      "build_value_map: (940/1108) variable: homeTherapyGavageTubeFeed type: bool\n",
      "build_value_map: (941/1108) variable: homeTherapyGastrostomyTubeFeed type: bool\n",
      "build_value_map: (942/1108) variable: homeTherapyTemperatureBlanket type: bool\n",
      "build_value_map: (943/1108) variable: homeTherapyAnticonvulsantMedication type: bool\n",
      "build_value_map: (944/1108) variable: homeTherapyOther type: bool\n",
      "build_value_map: (945/1108) variable: homeTherapyOtherText type: text\n",
      "build_value_map: (946/1108) variable: deathDate type: date\n",
      "build_value_map: (947/1108) variable: deathTime type: time\n",
      "build_value_map: (948/1108) variable: deathAge_day type: int\n",
      "build_value_map: (949/1108) variable: deathAutopsy type: bool\n",
      "build_value_map: (950/1108) variable: deathCause type: deathCause\n",
      "build_value_map: (951/1108) variable: deathCauseText type: text\n",
      "build_value_map: (952/1108) variable: deathSrc type: deathSrc\n",
      "build_value_map: (953/1108) variable: lengthOfStay_day type: int\n",
      "build_value_map: (954/1108) variable: dischargeCardiomegaly type: bool\n",
      "build_value_map: (955/1108) variable: dischargeCardiacFailure type: bool\n",
      "build_value_map: (956/1108) variable: dischargeCardiacDysfunctionByEcho type: bool\n",
      "build_value_map: (957/1108) variable: dischargeCardiacIschemiaByEKG type: bool\n",
      "build_value_map: (958/1108) variable: dischargeHypotension type: bool\n",
      "build_value_map: (959/1108) variable: dischargeArrhythmia type: bool\n",
      "build_value_map: (960/1108) variable: dischargeInotropicAgent type: bool\n",
      "build_value_map: (961/1108) variable: dischargeMeconiumAspirationSyndrome type: bool\n",
      "build_value_map: (962/1108) variable: dischargePPHN type: bool\n",
      "build_value_map: (963/1108) variable: dischargePulmonaryHemorrhage type: bool\n",
      "build_value_map: (964/1108) variable: dischargePenumonia type: bool\n",
      "build_value_map: (965/1108) variable: dischargeChronicLungDisease type: bool\n",
      "build_value_map: (966/1108) variable: dischargeECMO type: bool\n",
      "build_value_map: (967/1108) variable: dischargeINO type: bool\n",
      "build_value_map: (968/1108) variable: dischargeVentilator_day type: int\n",
      "build_value_map: (969/1108) variable: dischargeOxygen_day type: int\n",
      "build_value_map: (970/1108) variable: dischargeCPAP_day type: int\n",
      "build_value_map: (971/1108) variable: dischargePulmonaryStartDate1 type: date\n",
      "build_value_map: (972/1108) variable: dischargePulmonaryStartTime1 type: time\n",
      "build_value_map: (973/1108) variable: dischargePulmonaryEndDate1 type: date\n",
      "build_value_map: (974/1108) variable: dischargePulmonaryEndTime1 type: time\n",
      "build_value_map: (975/1108) variable: dischargePulmonaryStartDate2 type: date\n",
      "build_value_map: (976/1108) variable: dischargePulmonaryStartTime2 type: time\n",
      "build_value_map: (977/1108) variable: dischargePulmonaryEndDate2 type: date\n",
      "build_value_map: (978/1108) variable: dischargePulmonaryEndTime2 type: time\n",
      "build_value_map: (979/1108) variable: dischargePulmonaryStartDate3 type: date\n",
      "build_value_map: (980/1108) variable: dischargePulmonaryStartTime3 type: time\n",
      "build_value_map: (981/1108) variable: dischargePulmonaryEndDate3 type: date\n",
      "build_value_map: (982/1108) variable: dischargePulmonaryEndTime3 type: time\n",
      "build_value_map: (983/1108) variable: dischargeDIC type: bool\n",
      "build_value_map: (984/1108) variable: dischargeHypoglycemia type: bool\n",
      "build_value_map: (985/1108) variable: dischargeHypocalcemia type: bool\n",
      "build_value_map: (986/1108) variable: dischargeHypomagnesemia type: bool\n",
      "build_value_map: (987/1108) variable: dischargeOliguria type: bool\n",
      "build_value_map: (988/1108) variable: dischargeAnuria type: bool\n",
      "build_value_map: (989/1108) variable: dischargeDialysis type: bool\n",
      "build_value_map: (990/1108) variable: dischargeEnteralFeedStart_day type: int\n",
      "build_value_map: (991/1108) variable: dischargeTubeFeedingDuration_day type: int\n",
      "build_value_map: (992/1108) variable: dischargeFullNippleFeed type: bool\n",
      "build_value_map: (993/1108) variable: dischargeFullNippleFeed_day type: int\n",
      "build_value_map: (994/1108) variable: dischargeNEC type: bool\n",
      "build_value_map: (995/1108) variable: dischargeHepaticDysfunction type: bool\n",
      "build_value_map: (996/1108) variable: dischargeAlteredSkinItegrityPostIntervention type: bool\n",
      "build_value_map: (997/1108) variable: dischargeErythema type: bool\n",
      "build_value_map: (998/1108) variable: dischargeErythemaOnsetDate type: date\n",
      "build_value_map: (999/1108) variable: dischargeErythemaResolveDate type: date\n",
      "build_value_map: (1000/1108) variable: dischargeSclerema type: bool\n",
      "build_value_map: (1001/1108) variable: dischargeScleremaOnsetDate type: date\n",
      "build_value_map: (1002/1108) variable: dischargeScleremaResolveDate type: date\n",
      "build_value_map: (1003/1108) variable: dischargeCyanosis type: bool\n",
      "build_value_map: (1004/1108) variable: dischargeCyanosisOnsetDate type: date\n",
      "build_value_map: (1005/1108) variable: dischargeCyanosisResolveDate type: date\n",
      "build_value_map: (1006/1108) variable: dischargeSubFatNecrosis type: bool\n",
      "build_value_map: (1007/1108) variable: dischargeSubFatNecrosisOnsetDate type: date\n",
      "build_value_map: (1008/1108) variable: dischargeSubFatNecrosisResolveDate type: date\n",
      "build_value_map: (1009/1108) variable: dischargeHearingTest type: bool\n",
      "build_value_map: (1010/1108) variable: dischargeHearingTestNormal type: bool\n",
      "build_value_map: (1011/1108) variable: dischargeMajorSurgery type: bool\n",
      "build_value_map: (1012/1108) variable: dischargeSurgeryCode1 type: surgery\n",
      "build_value_map: (1013/1108) variable: dischargeSurgeryCode2 type: surgery\n",
      "build_value_map: (1014/1108) variable: dischargeSurgeryCode3 type: surgery\n",
      "build_value_map: (1015/1108) variable: dischargeSepticemia type: bool\n",
      "build_value_map: (1016/1108) variable: dischargeSepticemiaOrganismCode1 type: positiveCultureOrganism\n",
      "build_value_map: (1017/1108) variable: dischargeSepticemiaOrganismCode2 type: positiveCultureOrganism\n",
      "build_value_map: (1018/1108) variable: dischargeSepticemiaOrganismCode3 type: positiveCultureOrganism\n",
      "build_value_map: (1019/1108) variable: dischargeMeningitisEncephalitis type: bool\n",
      "build_value_map: (1020/1108) variable: dischargeMeningitisOrganismCode1 type: positiveCultureOrganism\n",
      "build_value_map: (1021/1108) variable: dischargeMeningitisOrganismCode2 type: positiveCultureOrganism\n",
      "build_value_map: (1022/1108) variable: dischargeMeningitisOrganismCode3 type: positiveCultureOrganism\n",
      "build_value_map: (1023/1108) variable: dischargeNeuroExam type: bool\n",
      "build_value_map: (1024/1108) variable: dischargeNeuroExamStatus type: dischargeNeuroExamStatus\n",
      "build_value_map: (1025/1108) variable: dischargeNeuroExamDate type: date\n",
      "build_value_map: (1026/1108) variable: dischargeNeuroExamTime type: time\n",
      "build_value_map: (1027/1108) variable: dischargeNeuroExamLevelConsciousness type: signOfHIELvlOfCons\n",
      "build_value_map: (1028/1108) variable: dischargeNeuroExamSpontaneousActivity type: signOfHIESpontaneousActivity\n",
      "build_value_map: (1029/1108) variable: dischargeNeuroExamPosture type: signOfHIEPosture\n",
      "build_value_map: (1030/1108) variable: dischargeNeuroExamTone type: signOfHIETone\n",
      "build_value_map: (1031/1108) variable: dischargeNeuroExamSuck type: signOfHIESuck\n",
      "build_value_map: (1032/1108) variable: dischargeNeuroExamMoro type: signOfHIEMoro\n",
      "build_value_map: (1033/1108) variable: dischargeNeuroExamPupils type: signOfHIEPupils\n",
      "build_value_map: (1034/1108) variable: dischargeNeuroExamHeartRate type: signOfHIEHeartRate\n",
      "build_value_map: (1035/1108) variable: dischargeNeuroExamRespiration type: signOfHIERespiratory\n",
      "build_value_map: (1036/1108) variable: dischargeNeuroExamSeizure type: bool\n",
      "build_value_map: (1037/1108) variable: dischargeNeuroExamClonusSustained type: bool\n",
      "build_value_map: (1038/1108) variable: dischargeNeuroExamFistedHand type: bool\n",
      "build_value_map: (1039/1108) variable: dischargeNeuroExamAbnormalMovement type: bool\n",
      "build_value_map: (1040/1108) variable: dischargeNeuroExamGagReflexAbsent type: bool\n",
      "build_value_map: (1041/1108) variable: dischargeNeuroExamSedate type: bool\n",
      "build_value_map: (1042/1108) variable: dischargeNeuroExamHypertonia type: bool\n",
      "build_value_map: (1043/1108) variable: dischargeNeuroExamAsymTonicNeckReflex type: bool\n",
      "build_value_map: (1044/1108) variable: dischargeNeuroExamLevelConsciousnessScore type: int\n",
      "build_value_map: (1045/1108) variable: dischargeNeuroExamSpontaneousActivityScore type: int\n",
      "build_value_map: (1046/1108) variable: dischargeNeuroExamPostureScore type: int\n",
      "build_value_map: (1047/1108) variable: dischargeNeuroExamToneScore type: int\n",
      "build_value_map: (1048/1108) variable: dischargeNeuroExamSuckScore type: int\n",
      "build_value_map: (1049/1108) variable: dischargeNeuroExamMoroScore type: int\n",
      "build_value_map: (1050/1108) variable: dischargeNeuroExamPupilsScore type: int\n",
      "build_value_map: (1051/1108) variable: dischargeNeuroExamHeartRateScore type: int\n",
      "build_value_map: (1052/1108) variable: dischargeNeuroExamRespirationScore type: int\n",
      "build_value_map: (1053/1108) variable: dischargeNeuroExamReflexScore type: int\n",
      "build_value_map: (1054/1108) variable: dischargeNeuroExamANSScore type: int\n",
      "build_value_map: (1055/1108) variable: dischargeTotalModifiedSarnatScore type: int\n",
      "build_value_map: (1056/1108) variable: dischargeSeizure type: bool\n",
      "build_value_map: (1057/1108) variable: dischargeSeizurePreIntervention type: bool\n",
      "build_value_map: (1058/1108) variable: dischargeSeizureAfterBaseline type: bool\n",
      "build_value_map: (1059/1108) variable: dischargeSeizureMaintenance type: bool\n",
      "build_value_map: (1060/1108) variable: dischargeSeizureRewarming type: bool\n",
      "build_value_map: (1061/1108) variable: dischargeSeizurePostIntervention type: bool\n",
      "build_value_map: (1062/1108) variable: dischargeEEG type: bool\n",
      "build_value_map: (1063/1108) variable: dischargeEEGFindingConsistentWithSeizure type: bool\n",
      "build_value_map: (1064/1108) variable: dischargeEEGFindingConsistentWithSeizureDate type: date\n",
      "build_value_map: (1065/1108) variable: dischargeEEGFindingConsistentWithSeizureTime type: time\n",
      "build_value_map: (1066/1108) variable: dischargeEEGAbnormalBackgroundActivity type: bool\n",
      "build_value_map: (1067/1108) variable: dischargeEEGAbnormalBackgroundActivityDate type: date\n",
      "build_value_map: (1068/1108) variable: dischargeEEGAbnormalBackgroundActivityTime type: time\n",
      "build_value_map: (1069/1108) variable: dischargeAnticonvulsantsGreater72H type: bool\n",
      "build_value_map: (1070/1108) variable: dischargeAnticonvulsants type: bool\n",
      "build_value_map: (1071/1108) variable: dischargeSyndromeMalformation type: bool\n",
      "build_value_map: (1072/1108) variable: dischargeBirthDefectCode1 type: birthDefect\n",
      "build_value_map: (1073/1108) variable: dischargeBirthDefectCode2 type: birthDefect\n",
      "build_value_map: (1074/1108) variable: dischargeBirthDefectCode3 type: birthDefect\n",
      "build_value_map: (1075/1108) variable: dischargeHomeTherapy type: bool\n",
      "build_value_map: (1076/1108) variable: dischargeHomeTherapyVentilator type: bool\n",
      "build_value_map: (1077/1108) variable: dischargeHomeTherapyOxygen type: bool\n",
      "build_value_map: (1078/1108) variable: dischargeHomeTherapyGavageTubeFeed type: bool\n",
      "build_value_map: (1079/1108) variable: dischargeHomeTherapyGastrostomyTubeFeed type: bool\n",
      "build_value_map: (1080/1108) variable: dischargeHomeTherapyTemperatureBlanket type: bool\n",
      "build_value_map: (1081/1108) variable: dischargeHomeTherapyAnticonvulsantMedication type: bool\n",
      "build_value_map: (1082/1108) variable: dischargeHomeTherapyOther type: bool\n",
      "build_value_map: (1083/1108) variable: dischargeHomeTherapyOtherText type: text\n",
      "build_value_map: (1084/1108) variable: wdrawSupport type: bool\n",
      "build_value_map: (1085/1108) variable: wdrawSupportDate type: date\n",
      "build_value_map: (1086/1108) variable: wdrawSupportTime type: time\n",
      "build_value_map: (1087/1108) variable: wdrawSupportDiscussedWithFamily type: bool\n",
      "build_value_map: (1088/1108) variable: wdrawSupportRecommendSolelyByClinicalTeam type: bool\n",
      "build_value_map: (1089/1108) variable: wdrawSupportNeurologicalExam type: bool\n",
      "build_value_map: (1090/1108) variable: wdrawSupportImagingStudy type: bool\n",
      "build_value_map: (1091/1108) variable: wdrawSupportEEGFinding type: bool\n",
      "build_value_map: (1092/1108) variable: wdrawSupportMultisystemOrganFailureOtherThanCNS type: bool\n",
      "build_value_map: (1093/1108) variable: wdrawSupportBrainBloodFlowScan type: bool\n",
      "build_value_map: (1094/1108) variable: wdrawSupportParentWish type: bool\n",
      "build_value_map: (1095/1108) variable: wdrawSupportOther type: bool\n",
      "build_value_map: (1096/1108) variable: wdrawSupportOtherText type: text\n",
      "build_value_map: (1097/1108) variable: limitCareDiscussedWithFamily type: bool\n",
      "build_value_map: (1098/1108) variable: limitCareRecommendSolelyByClinicalTeam type: bool\n",
      "build_value_map: (1099/1108) variable: limitCareAgreedByFamilyAndCareTeam type: bool\n",
      "build_value_map: (1100/1108) variable: limitCareNoFurtherMechanicalVentilationAndIntubation type: bool\n",
      "build_value_map: (1101/1108) variable: limitCareNoFurtherVentilationWithBagAndMask type: bool\n",
      "build_value_map: (1102/1108) variable: limitCareNoFurtherMedicationsToSupportBP type: bool\n",
      "build_value_map: (1103/1108) variable: limitCareNoFurtherChestCompression type: bool\n",
      "build_value_map: (1104/1108) variable: limitCareNoFurtherEmergencyMedication type: bool\n",
      "build_value_map: (1105/1108) variable: limitCareDNR type: bool\n",
      "build_value_map: (1106/1108) variable: limitCareDNRDate type: date\n",
      "build_value_map: (1107/1108) variable: limitCareDNRTime type: time\n"
     ]
    }
   ],
   "source": [
    "COMBINE_harmonizer.init_mapping(data_dict_filename, study_name)\n",
    "_VALUE_MAP = COMBINE_harmonizer.build_value_map(data_dict_filename, sheet_name)"
   ]
  },
  {
   "cell_type": "code",
   "execution_count": 5,
   "id": "eba5d594",
   "metadata": {
    "execution": {
     "iopub.execute_input": "2025-05-15T04:30:01.102042Z",
     "iopub.status.busy": "2025-05-15T04:30:01.101948Z",
     "iopub.status.idle": "2025-05-15T04:30:01.424822Z",
     "shell.execute_reply": "2025-05-15T04:30:01.424404Z"
    }
   },
   "outputs": [],
   "source": [
    "_ORDER_MAP = COMBINE_harmonizer.build_variable_order_map(data_dict_filename, sheet_name)"
   ]
  },
  {
   "cell_type": "markdown",
   "id": "4bef8781-4208-4d82-9880-a7a6bac4479e",
   "metadata": {},
   "source": [
    "## 00-screening"
   ]
  },
  {
   "cell_type": "code",
   "execution_count": 6,
   "id": "4a9d74d2-3b6f-4992-aaae-96447188ea06",
   "metadata": {
    "execution": {
     "iopub.execute_input": "2025-05-15T04:30:01.426401Z",
     "iopub.status.busy": "2025-05-15T04:30:01.426316Z",
     "iopub.status.idle": "2025-05-15T04:30:01.428130Z",
     "shell.execute_reply": "2025-05-15T04:30:01.427853Z"
    }
   },
   "outputs": [],
   "source": [
    "base_filename = '00-02-screening.csv'"
   ]
  },
  {
   "cell_type": "code",
   "execution_count": 7,
   "id": "228b1b5c-4608-4447-8364-5b18db5926dc",
   "metadata": {
    "execution": {
     "iopub.execute_input": "2025-05-15T04:30:01.429572Z",
     "iopub.status.busy": "2025-05-15T04:30:01.429457Z",
     "iopub.status.idle": "2025-05-15T04:30:01.575856Z",
     "shell.execute_reply": "2025-05-15T04:30:01.575563Z"
    }
   },
   "outputs": [
    {
     "name": "stdout",
     "output_type": "stream",
     "text": [
      "(0/37) normalize_value: column: center\n",
      "(1/37) normalize_value: column: subjectID\n",
      "(2/37) normalize_value: column: uniqueID\n",
      "(3/37) normalize_value: column: siteID\n",
      "(4/37) normalize_value: column: screenComment\n",
      "(5/37) normalize_value: column: birthDate\n",
      "(6/37) normalize_value: column: birthNumber\n",
      "(7/37) normalize_value: column: coreTempLess33p5CGreater1Hr_e\n",
      "(8/37) normalize_value: column: first6HrCoolByClinicalProtocol_e\n",
      "(9/37) normalize_value: column: chromosomalAbnormality_e\n",
      "(10/37) normalize_value: column: majorCongenitalAnomaly_e\n",
      "(11/37) normalize_value: column: birthWeightLessEq1800g_e\n",
      "(12/37) normalize_value: column: infantUnlikelySurvive_e\n",
      "(13/37) normalize_value: column: first60MinAllBloodGasPHGreater7p15BaseDeficitLess10mEqPerL_e\n",
      "(14/37) normalize_value: column: first60MinAnyBloodGasPHLessEq7_i\n",
      "(15/37) normalize_value: column: first60MinAnyBloodGasBaseDeficitGreaterEq16mEqPerL_i\n",
      "[WARN] unable to bool: val: (**/<class 'str'>)\n",
      "[WARN] unable to bool: val: (**/<class 'str'>)\n",
      "(16/37) normalize_value: column: historyPerinatalEvent_i\n",
      "(17/37) normalize_value: column: at10MinApgarLessEq5OrVent_i\n",
      "(18/37) normalize_value: column: randomEligible\n",
      "(19/37) normalize_value: column: noConsentReason\n",
      "(20/37) normalize_value: column: random\n",
      "(21/37) normalize_value: column: noRandomReasonText\n",
      "(22/37) normalize_value: column: randomTreatmentReceive\n",
      "(23/37) normalize_value: column: consentStatus\n",
      "(24/37) normalize_value: column: noRandomReason\n",
      "(25/37) normalize_value: column: randomDate\n",
      "(26/37) normalize_value: column: randomTime\n",
      "(27/37) normalize_value: column: randomNumber\n",
      "(28/37) normalize_value: column: randomTreatmentAssign\n",
      "(29/37) normalize_value: column: treatmentBlanketType\n",
      "(30/37) normalize_value: column: coreTempLess32p5CGreaterEq2Hr_e\n",
      "(31/37) normalize_value: column: inOtherTrial\n",
      "(32/37) normalize_value: column: inOtherTrialText\n",
      "(33/37) normalize_value: column: treatmentAssignmentDuration_hr\n",
      "(34/37) normalize_value: column: treatmentAssignmentTemperature\n",
      "(35/37) normalize_value: column: ageRand_hr\n",
      "(36/37) normalize_value: column: usualCoolingTreatmentGroup\n"
     ]
    }
   ],
   "source": [
    "filename = os.sep.join([input_dir, base_filename])\n",
    "df = pd.read_csv(filename, dtype='O')\n",
    "df = COMBINE_harmonizer.normalize_value(df, _VALUE_MAP, order_map=_ORDER_MAP)\n",
    "\n",
    "out_filename = os.sep.join([out_dir, base_filename])\n",
    "df.to_csv(out_filename, index=False)"
   ]
  },
  {
   "cell_type": "code",
   "execution_count": 8,
   "id": "df10bdc3-a90e-4cbb-931d-5eeec660e6c9",
   "metadata": {
    "execution": {
     "iopub.execute_input": "2025-05-15T04:30:01.577333Z",
     "iopub.status.busy": "2025-05-15T04:30:01.577235Z",
     "iopub.status.idle": "2025-05-15T04:30:01.585390Z",
     "shell.execute_reply": "2025-05-15T04:30:01.585106Z"
    }
   },
   "outputs": [
    {
     "name": "stdout",
     "output_type": "stream",
     "text": [
      "(0/74) center: (1261/0)\n",
      "(1/74) center.orig: (1261/0)\n",
      "(2/74) subjectID: (1261/0)\n",
      "(3/74) subjectID.orig: (1261/0)\n",
      "(4/74) uniqueID: (1261/0)\n",
      "(5/74) uniqueID.orig: (1261/0)\n",
      "(6/74) siteID: (1261/0)\n",
      "(7/74) siteID.orig: (1261/0)\n",
      "(8/74) birthNumber: (1261/0)\n",
      "(9/74) birthNumber.orig: (1261/0)\n",
      "(10/74) screenComment: (1261/0)\n",
      "(11/74) screenComment.orig: (204/1057)\n",
      "(12/74) coreTempLess32p5CGreaterEq2Hr_e: (1261/0)\n",
      "(13/74) coreTempLess32p5CGreaterEq2Hr_e.orig: (413/848)\n",
      "(14/74) coreTempLess33p5CGreater1Hr_e: (1261/0)\n",
      "(15/74) coreTempLess33p5CGreater1Hr_e.orig: (848/413)\n",
      "(16/74) first6HrCoolByClinicalProtocol_e: (1261/0)\n",
      "(17/74) first6HrCoolByClinicalProtocol_e.orig: (1261/0)\n",
      "(18/74) chromosomalAbnormality_e: (1261/0)\n",
      "(19/74) chromosomalAbnormality_e.orig: (1261/0)\n",
      "(20/74) majorCongenitalAnomaly_e: (1261/0)\n",
      "(21/74) majorCongenitalAnomaly_e.orig: (1261/0)\n",
      "(22/74) birthWeightLessEq1800g_e: (1261/0)\n",
      "(23/74) birthWeightLessEq1800g_e.orig: (1261/0)\n",
      "(24/74) infantUnlikelySurvive_e: (1261/0)\n",
      "(25/74) infantUnlikelySurvive_e.orig: (1261/0)\n",
      "(26/74) first60MinAllBloodGasPHGreater7p15BaseDeficitLess10mEqPerL_e: (1261/0)\n",
      "(27/74) first60MinAllBloodGasPHGreater7p15BaseDeficitLess10mEqPerL_e.orig: (1198/63)\n",
      "(28/74) first60MinAnyBloodGasPHLessEq7_i: (1261/0)\n",
      "(29/74) first60MinAnyBloodGasPHLessEq7_i.orig: (970/291)\n",
      "(30/74) first60MinAnyBloodGasBaseDeficitGreaterEq16mEqPerL_i: (1261/0)\n",
      "(31/74) first60MinAnyBloodGasBaseDeficitGreaterEq16mEqPerL_i.orig: (933/328)\n",
      "(32/74) historyPerinatalEvent_i: (1261/0)\n",
      "(33/74) historyPerinatalEvent_i.orig: (301/960)\n",
      "(34/74) at10MinApgarLessEq5OrVent_i: (1261/0)\n",
      "(35/74) at10MinApgarLessEq5OrVent_i.orig: (301/960)\n",
      "(36/74) randomEligible: (1261/0)\n",
      "(37/74) randomEligible.orig: (1261/0)\n",
      "(38/74) consentStatus: (1261/0)\n",
      "(39/74) consentStatus.orig: (514/747)\n",
      "(40/74) noConsentReason: (1261/0)\n",
      "(41/74) noConsentReason.orig: (45/1216)\n",
      "(42/74) random: (1261/0)\n",
      "(43/74) random.orig: (364/897)\n",
      "(44/74) noRandomReason: (1261/0)\n",
      "(45/74) noRandomReason.orig: (0/1261)\n",
      "(46/74) noRandomReasonText: (1261/0)\n",
      "(47/74) noRandomReasonText.orig: (0/1261)\n",
      "(48/74) randomDate: (1261/0)\n",
      "(49/74) randomDate.orig: (364/897)\n",
      "(50/74) randomTime: (1261/0)\n",
      "(51/74) randomTime.orig: (363/898)\n",
      "(52/74) ageRand_hr: (1261/0)\n",
      "(53/74) ageRand_hr.orig: (363/898)\n",
      "(54/74) randomNumber: (1261/0)\n",
      "(55/74) randomNumber.orig: (364/897)\n",
      "(56/74) randomTreatmentAssign: (1261/0)\n",
      "(57/74) randomTreatmentAssign.orig: (364/897)\n",
      "(58/74) randomTreatmentReceive: (1261/0)\n",
      "(59/74) randomTreatmentReceive.orig: (364/897)\n",
      "(60/74) treatmentBlanketType: (1261/0)\n",
      "(61/74) treatmentBlanketType.orig: (364/897)\n",
      "(62/74) treatmentAssignmentDuration_hr: (1261/0)\n",
      "(63/74) treatmentAssignmentDuration_hr.orig: (364/897)\n",
      "(64/74) treatmentAssignmentTemperature: (1261/0)\n",
      "(65/74) treatmentAssignmentTemperature.orig: (364/897)\n",
      "(66/74) usualCoolingTreatmentGroup: (1261/0)\n",
      "(67/74) usualCoolingTreatmentGroup.orig: (364/897)\n",
      "(68/74) inOtherTrial: (1261/0)\n",
      "(69/74) inOtherTrial.orig: (364/897)\n",
      "(70/74) inOtherTrialText: (1261/0)\n",
      "(71/74) inOtherTrialText.orig: (8/1253)\n",
      "(72/74) birthDate: (1261/0)\n",
      "(73/74) birthDate.orig: (1261/0)\n"
     ]
    }
   ],
   "source": [
    "COMBINE_harmonizer.column_info(df)"
   ]
  },
  {
   "cell_type": "markdown",
   "id": "17c8ca9d-2b09-413d-a8b2-a1131799c5b5",
   "metadata": {},
   "source": [
    "## 01-main-screening"
   ]
  },
  {
   "cell_type": "code",
   "execution_count": 9,
   "id": "5cd6f782-3592-4c8f-8b37-a53e9ef6884d",
   "metadata": {
    "execution": {
     "iopub.execute_input": "2025-05-15T04:30:01.586848Z",
     "iopub.status.busy": "2025-05-15T04:30:01.586723Z",
     "iopub.status.idle": "2025-05-15T04:30:01.588348Z",
     "shell.execute_reply": "2025-05-15T04:30:01.588133Z"
    }
   },
   "outputs": [],
   "source": [
    "base_filename = '01-02-screening.csv'"
   ]
  },
  {
   "cell_type": "code",
   "execution_count": 10,
   "id": "b1c558f7-0067-4e9f-8993-5656b41a4eaa",
   "metadata": {
    "execution": {
     "iopub.execute_input": "2025-05-15T04:30:01.589570Z",
     "iopub.status.busy": "2025-05-15T04:30:01.589497Z",
     "iopub.status.idle": "2025-05-15T04:30:01.710388Z",
     "shell.execute_reply": "2025-05-15T04:30:01.709971Z"
    }
   },
   "outputs": [
    {
     "name": "stdout",
     "output_type": "stream",
     "text": [
      "(0/37) normalize_value: column: center\n",
      "(1/37) normalize_value: column: subjectID\n",
      "(2/37) normalize_value: column: uniqueID\n",
      "(3/37) normalize_value: column: siteID\n",
      "(4/37) normalize_value: column: screenComment\n",
      "(5/37) normalize_value: column: birthDate\n",
      "(6/37) normalize_value: column: birthNumber\n",
      "(7/37) normalize_value: column: coreTempLess33p5CGreater1Hr_e\n",
      "(8/37) normalize_value: column: first6HrCoolByClinicalProtocol_e\n",
      "(9/37) normalize_value: column: chromosomalAbnormality_e\n",
      "(10/37) normalize_value: column: majorCongenitalAnomaly_e\n",
      "(11/37) normalize_value: column: birthWeightLessEq1800g_e\n",
      "(12/37) normalize_value: column: infantUnlikelySurvive_e\n",
      "(13/37) normalize_value: column: first60MinAllBloodGasPHGreater7p15BaseDeficitLess10mEqPerL_e\n",
      "(14/37) normalize_value: column: first60MinAnyBloodGasPHLessEq7_i\n",
      "(15/37) normalize_value: column: first60MinAnyBloodGasBaseDeficitGreaterEq16mEqPerL_i\n",
      "(16/37) normalize_value: column: historyPerinatalEvent_i\n",
      "(17/37) normalize_value: column: at10MinApgarLessEq5OrVent_i\n",
      "(18/37) normalize_value: column: randomEligible\n",
      "(19/37) normalize_value: column: noConsentReason\n",
      "(20/37) normalize_value: column: random\n",
      "(21/37) normalize_value: column: noRandomReasonText\n",
      "(22/37) normalize_value: column: randomTreatmentReceive\n",
      "(23/37) normalize_value: column: consentStatus\n",
      "(24/37) normalize_value: column: noRandomReason\n",
      "(25/37) normalize_value: column: randomDate\n",
      "(26/37) normalize_value: column: randomTime\n",
      "(27/37) normalize_value: column: randomNumber\n",
      "(28/37) normalize_value: column: randomTreatmentAssign\n",
      "(29/37) normalize_value: column: treatmentBlanketType\n",
      "(30/37) normalize_value: column: coreTempLess32p5CGreaterEq2Hr_e\n",
      "(31/37) normalize_value: column: inOtherTrial\n",
      "(32/37) normalize_value: column: inOtherTrialText\n",
      "(33/37) normalize_value: column: treatmentAssignmentDuration_hr\n",
      "(34/37) normalize_value: column: treatmentAssignmentTemperature\n",
      "(35/37) normalize_value: column: ageRand_hr\n",
      "(36/37) normalize_value: column: usualCoolingTreatmentGroup\n"
     ]
    }
   ],
   "source": [
    "filename = os.sep.join([input_dir, base_filename])\n",
    "df = pd.read_csv(filename, dtype='O')\n",
    "df = COMBINE_harmonizer.normalize_value(df, _VALUE_MAP, order_map=_ORDER_MAP)\n",
    "\n",
    "out_filename = os.sep.join([out_dir, base_filename])\n",
    "df.to_csv(out_filename, index=False)"
   ]
  },
  {
   "cell_type": "code",
   "execution_count": 11,
   "id": "4d2362ac-b2bb-4700-8b11-33ab4c37c746",
   "metadata": {
    "execution": {
     "iopub.execute_input": "2025-05-15T04:30:01.712371Z",
     "iopub.status.busy": "2025-05-15T04:30:01.712192Z",
     "iopub.status.idle": "2025-05-15T04:30:01.718352Z",
     "shell.execute_reply": "2025-05-15T04:30:01.718034Z"
    }
   },
   "outputs": [
    {
     "name": "stdout",
     "output_type": "stream",
     "text": [
      "(0/74) center: (364/0)\n",
      "(1/74) center.orig: (364/0)\n",
      "(2/74) subjectID: (364/0)\n",
      "(3/74) subjectID.orig: (364/0)\n",
      "(4/74) uniqueID: (364/0)\n",
      "(5/74) uniqueID.orig: (364/0)\n",
      "(6/74) siteID: (364/0)\n",
      "(7/74) siteID.orig: (364/0)\n",
      "(8/74) birthNumber: (364/0)\n",
      "(9/74) birthNumber.orig: (364/0)\n",
      "(10/74) screenComment: (364/0)\n",
      "(11/74) screenComment.orig: (48/316)\n",
      "(12/74) coreTempLess32p5CGreaterEq2Hr_e: (364/0)\n",
      "(13/74) coreTempLess32p5CGreaterEq2Hr_e.orig: (95/269)\n",
      "(14/74) coreTempLess33p5CGreater1Hr_e: (364/0)\n",
      "(15/74) coreTempLess33p5CGreater1Hr_e.orig: (269/95)\n",
      "(16/74) first6HrCoolByClinicalProtocol_e: (364/0)\n",
      "(17/74) first6HrCoolByClinicalProtocol_e.orig: (364/0)\n",
      "(18/74) chromosomalAbnormality_e: (364/0)\n",
      "(19/74) chromosomalAbnormality_e.orig: (364/0)\n",
      "(20/74) majorCongenitalAnomaly_e: (364/0)\n",
      "(21/74) majorCongenitalAnomaly_e.orig: (364/0)\n",
      "(22/74) birthWeightLessEq1800g_e: (364/0)\n",
      "(23/74) birthWeightLessEq1800g_e.orig: (364/0)\n",
      "(24/74) infantUnlikelySurvive_e: (364/0)\n",
      "(25/74) infantUnlikelySurvive_e.orig: (364/0)\n",
      "(26/74) first60MinAllBloodGasPHGreater7p15BaseDeficitLess10mEqPerL_e: (364/0)\n",
      "(27/74) first60MinAllBloodGasPHGreater7p15BaseDeficitLess10mEqPerL_e.orig: (351/13)\n",
      "(28/74) first60MinAnyBloodGasPHLessEq7_i: (364/0)\n",
      "(29/74) first60MinAnyBloodGasPHLessEq7_i.orig: (350/14)\n",
      "(30/74) first60MinAnyBloodGasBaseDeficitGreaterEq16mEqPerL_i: (364/0)\n",
      "(31/74) first60MinAnyBloodGasBaseDeficitGreaterEq16mEqPerL_i.orig: (340/24)\n",
      "(32/74) historyPerinatalEvent_i: (364/0)\n",
      "(33/74) historyPerinatalEvent_i.orig: (64/300)\n",
      "(34/74) at10MinApgarLessEq5OrVent_i: (364/0)\n",
      "(35/74) at10MinApgarLessEq5OrVent_i.orig: (64/300)\n",
      "(36/74) randomEligible: (364/0)\n",
      "(37/74) randomEligible.orig: (364/0)\n",
      "(38/74) consentStatus: (364/0)\n",
      "(39/74) consentStatus.orig: (364/0)\n",
      "(40/74) noConsentReason: (364/0)\n",
      "(41/74) noConsentReason.orig: (0/364)\n",
      "(42/74) random: (364/0)\n",
      "(43/74) random.orig: (364/0)\n",
      "(44/74) noRandomReason: (364/0)\n",
      "(45/74) noRandomReason.orig: (0/364)\n",
      "(46/74) noRandomReasonText: (364/0)\n",
      "(47/74) noRandomReasonText.orig: (0/364)\n",
      "(48/74) randomDate: (364/0)\n",
      "(49/74) randomDate.orig: (364/0)\n",
      "(50/74) randomTime: (364/0)\n",
      "(51/74) randomTime.orig: (363/1)\n",
      "(52/74) ageRand_hr: (364/0)\n",
      "(53/74) ageRand_hr.orig: (363/1)\n",
      "(54/74) randomNumber: (364/0)\n",
      "(55/74) randomNumber.orig: (364/0)\n",
      "(56/74) randomTreatmentAssign: (364/0)\n",
      "(57/74) randomTreatmentAssign.orig: (364/0)\n",
      "(58/74) randomTreatmentReceive: (364/0)\n",
      "(59/74) randomTreatmentReceive.orig: (364/0)\n",
      "(60/74) treatmentBlanketType: (364/0)\n",
      "(61/74) treatmentBlanketType.orig: (364/0)\n",
      "(62/74) treatmentAssignmentDuration_hr: (364/0)\n",
      "(63/74) treatmentAssignmentDuration_hr.orig: (364/0)\n",
      "(64/74) treatmentAssignmentTemperature: (364/0)\n",
      "(65/74) treatmentAssignmentTemperature.orig: (364/0)\n",
      "(66/74) usualCoolingTreatmentGroup: (364/0)\n",
      "(67/74) usualCoolingTreatmentGroup.orig: (364/0)\n",
      "(68/74) inOtherTrial: (364/0)\n",
      "(69/74) inOtherTrial.orig: (364/0)\n",
      "(70/74) inOtherTrialText: (364/0)\n",
      "(71/74) inOtherTrialText.orig: (8/356)\n",
      "(72/74) birthDate: (364/0)\n",
      "(73/74) birthDate.orig: (364/0)\n"
     ]
    }
   ],
   "source": [
    "COMBINE_harmonizer.column_info(df)"
   ]
  },
  {
   "cell_type": "markdown",
   "id": "6fdb80a3",
   "metadata": {},
   "source": [
    "## 01-12-neuro-exam"
   ]
  },
  {
   "cell_type": "code",
   "execution_count": 12,
   "id": "b9a6dfb8",
   "metadata": {
    "execution": {
     "iopub.execute_input": "2025-05-15T04:30:01.719958Z",
     "iopub.status.busy": "2025-05-15T04:30:01.719834Z",
     "iopub.status.idle": "2025-05-15T04:30:01.721470Z",
     "shell.execute_reply": "2025-05-15T04:30:01.721202Z"
    }
   },
   "outputs": [],
   "source": [
    "base_filename = '00-12-neuro-exam.csv'"
   ]
  },
  {
   "cell_type": "code",
   "execution_count": 13,
   "id": "c75cd034",
   "metadata": {
    "execution": {
     "iopub.execute_input": "2025-05-15T04:30:01.722763Z",
     "iopub.status.busy": "2025-05-15T04:30:01.722671Z",
     "iopub.status.idle": "2025-05-15T04:30:01.865735Z",
     "shell.execute_reply": "2025-05-15T04:30:01.865240Z"
    }
   },
   "outputs": [
    {
     "name": "stdout",
     "output_type": "stream",
     "text": [
      "(0/19) normalize_value: column: center\n",
      "(1/19) normalize_value: column: subjectID\n",
      "(2/19) normalize_value: column: uniqueID\n",
      "(3/19) normalize_value: column: pre_NeuroExamSeizure\n",
      "(4/19) normalize_value: column: pre_NeuroExam\n",
      "(5/19) normalize_value: column: pre_NeuroExamTone\n",
      "[WARN] unable to float: val (**/<class 'str'>) e: could not convert string to float: '**'\n",
      "[WARN] unable to get value: sheet_name: signOfHIETone value: ** value_float: ** value_int: **\n",
      "[WARN] unable to float: val (**/<class 'str'>) e: could not convert string to float: '**'\n",
      "[WARN] unable to get value: sheet_name: signOfHIETone value: ** value_float: ** value_int: **\n",
      "(6/19) normalize_value: column: pre_NeuroExamRespiration\n",
      "(7/19) normalize_value: column: pre_NeuroExamSignModerateSevereHIE3Category\n",
      "(8/19) normalize_value: column: pre_NeuroExamSedate\n",
      "(9/19) normalize_value: column: pre_NoNeuroExamReason\n",
      "(10/19) normalize_value: column: pre_NeuroExamLevelConsciousness\n",
      "(11/19) normalize_value: column: pre_NeuroExamSpontaneousActivity\n",
      "(12/19) normalize_value: column: pre_NeuroExamPosture\n",
      "(13/19) normalize_value: column: pre_NeuroExamSuck\n",
      "(14/19) normalize_value: column: pre_NeuroExamMoro\n",
      "(15/19) normalize_value: column: pre_NeuroExamPupils\n",
      "(16/19) normalize_value: column: pre_NeuroExamHeartRate\n",
      "(17/19) normalize_value: column: pre_NeuroExamDate\n",
      "(18/19) normalize_value: column: pre_NeuroExamTime\n"
     ]
    }
   ],
   "source": [
    "filename = os.sep.join([input_dir, base_filename])\n",
    "df = pd.read_csv(filename, dtype='O')\n",
    "df = COMBINE_harmonizer.normalize_value(df, _VALUE_MAP, order_map=_ORDER_MAP)\n",
    "\n",
    "out_filename = os.sep.join([out_dir, base_filename])\n",
    "df.to_csv(out_filename, index=False)"
   ]
  },
  {
   "cell_type": "code",
   "execution_count": 14,
   "id": "29e4e55a",
   "metadata": {
    "execution": {
     "iopub.execute_input": "2025-05-15T04:30:01.868161Z",
     "iopub.status.busy": "2025-05-15T04:30:01.867956Z",
     "iopub.status.idle": "2025-05-15T04:30:01.875276Z",
     "shell.execute_reply": "2025-05-15T04:30:01.874980Z"
    }
   },
   "outputs": [
    {
     "name": "stdout",
     "output_type": "stream",
     "text": [
      "(0/38) center: (1261/0)\n",
      "(1/38) center.orig: (1261/0)\n",
      "(2/38) subjectID: (1261/0)\n",
      "(3/38) subjectID.orig: (1261/0)\n",
      "(4/38) uniqueID: (1261/0)\n",
      "(5/38) uniqueID.orig: (1261/0)\n",
      "(6/38) pre_NeuroExam: (1261/0)\n",
      "(7/38) pre_NeuroExam.orig: (882/379)\n",
      "(8/38) pre_NoNeuroExamReason: (1261/0)\n",
      "(9/38) pre_NoNeuroExamReason.orig: (59/1202)\n",
      "(10/38) pre_NeuroExamSignModerateSevereHIE3Category: (1261/0)\n",
      "(11/38) pre_NeuroExamSignModerateSevereHIE3Category.orig: (797/464)\n",
      "(12/38) pre_NeuroExamLevelConsciousness: (1261/0)\n",
      "(13/38) pre_NeuroExamLevelConsciousness.orig: (797/464)\n",
      "(14/38) pre_NeuroExamSpontaneousActivity: (1261/0)\n",
      "(15/38) pre_NeuroExamSpontaneousActivity.orig: (797/464)\n",
      "(16/38) pre_NeuroExamPosture: (1261/0)\n",
      "(17/38) pre_NeuroExamPosture.orig: (791/470)\n",
      "(18/38) pre_NeuroExamTone: (1261/0)\n",
      "(19/38) pre_NeuroExamTone.orig: (797/464)\n",
      "(20/38) pre_NeuroExamSuck: (1261/0)\n",
      "(21/38) pre_NeuroExamSuck.orig: (786/475)\n",
      "(22/38) pre_NeuroExamMoro: (1261/0)\n",
      "(23/38) pre_NeuroExamMoro.orig: (774/487)\n",
      "(24/38) pre_NeuroExamPupils: (1261/0)\n",
      "(25/38) pre_NeuroExamPupils.orig: (775/486)\n",
      "(26/38) pre_NeuroExamHeartRate: (1261/0)\n",
      "(27/38) pre_NeuroExamHeartRate.orig: (797/464)\n",
      "(28/38) pre_NeuroExamRespiration: (1261/0)\n",
      "(29/38) pre_NeuroExamRespiration.orig: (797/464)\n",
      "(30/38) pre_NeuroExamDate: (1261/0)\n",
      "(31/38) pre_NeuroExamDate.orig: (797/464)\n",
      "(32/38) pre_NeuroExamTime: (1261/0)\n",
      "(33/38) pre_NeuroExamTime.orig: (782/479)\n",
      "(34/38) pre_NeuroExamSedate: (1261/0)\n",
      "(35/38) pre_NeuroExamSedate.orig: (797/464)\n",
      "(36/38) pre_NeuroExamSeizure: (1261/0)\n",
      "(37/38) pre_NeuroExamSeizure.orig: (882/379)\n"
     ]
    }
   ],
   "source": [
    "COMBINE_harmonizer.column_info(df)"
   ]
  },
  {
   "cell_type": "markdown",
   "id": "078f2799",
   "metadata": {},
   "source": [
    "## 01-12-neuro-exam"
   ]
  },
  {
   "cell_type": "code",
   "execution_count": 15,
   "id": "f50b1530",
   "metadata": {
    "execution": {
     "iopub.execute_input": "2025-05-15T04:30:01.876854Z",
     "iopub.status.busy": "2025-05-15T04:30:01.876731Z",
     "iopub.status.idle": "2025-05-15T04:30:01.878489Z",
     "shell.execute_reply": "2025-05-15T04:30:01.878238Z"
    }
   },
   "outputs": [],
   "source": [
    "base_filename = '01-12-neuro-exam.csv'"
   ]
  },
  {
   "cell_type": "code",
   "execution_count": 16,
   "id": "ced749f4",
   "metadata": {
    "execution": {
     "iopub.execute_input": "2025-05-15T04:30:01.880410Z",
     "iopub.status.busy": "2025-05-15T04:30:01.880263Z",
     "iopub.status.idle": "2025-05-15T04:30:01.966464Z",
     "shell.execute_reply": "2025-05-15T04:30:01.966105Z"
    }
   },
   "outputs": [
    {
     "name": "stdout",
     "output_type": "stream",
     "text": [
      "(0/19) normalize_value: column: center\n",
      "(1/19) normalize_value: column: subjectID\n",
      "(2/19) normalize_value: column: uniqueID\n",
      "(3/19) normalize_value: column: pre_NeuroExamSeizure\n",
      "(4/19) normalize_value: column: pre_NeuroExam\n",
      "(5/19) normalize_value: column: pre_NeuroExamTone\n",
      "(6/19) normalize_value: column: pre_NeuroExamRespiration\n",
      "(7/19) normalize_value: column: pre_NeuroExamSignModerateSevereHIE3Category\n",
      "(8/19) normalize_value: column: pre_NeuroExamSedate\n",
      "(9/19) normalize_value: column: pre_NoNeuroExamReason\n",
      "(10/19) normalize_value: column: pre_NeuroExamLevelConsciousness\n",
      "(11/19) normalize_value: column: pre_NeuroExamSpontaneousActivity\n",
      "(12/19) normalize_value: column: pre_NeuroExamPosture\n",
      "(13/19) normalize_value: column: pre_NeuroExamSuck\n",
      "(14/19) normalize_value: column: pre_NeuroExamMoro\n",
      "(15/19) normalize_value: column: pre_NeuroExamPupils\n",
      "(16/19) normalize_value: column: pre_NeuroExamHeartRate\n",
      "(17/19) normalize_value: column: pre_NeuroExamDate\n",
      "(18/19) normalize_value: column: pre_NeuroExamTime\n"
     ]
    }
   ],
   "source": [
    "filename = os.sep.join([input_dir, base_filename])\n",
    "df = pd.read_csv(filename, dtype='O')\n",
    "df = COMBINE_harmonizer.normalize_value(df, _VALUE_MAP, order_map=_ORDER_MAP)\n",
    "\n",
    "out_filename = os.sep.join([out_dir, base_filename])\n",
    "df.to_csv(out_filename, index=False)"
   ]
  },
  {
   "cell_type": "code",
   "execution_count": 17,
   "id": "c103ef58",
   "metadata": {
    "execution": {
     "iopub.execute_input": "2025-05-15T04:30:01.968449Z",
     "iopub.status.busy": "2025-05-15T04:30:01.968305Z",
     "iopub.status.idle": "2025-05-15T04:30:01.972614Z",
     "shell.execute_reply": "2025-05-15T04:30:01.972317Z"
    }
   },
   "outputs": [
    {
     "name": "stdout",
     "output_type": "stream",
     "text": [
      "(0/38) center: (364/0)\n",
      "(1/38) center.orig: (364/0)\n",
      "(2/38) subjectID: (364/0)\n",
      "(3/38) subjectID.orig: (364/0)\n",
      "(4/38) uniqueID: (364/0)\n",
      "(5/38) uniqueID.orig: (364/0)\n",
      "(6/38) pre_NeuroExam: (364/0)\n",
      "(7/38) pre_NeuroExam.orig: (364/0)\n",
      "(8/38) pre_NoNeuroExamReason: (364/0)\n",
      "(9/38) pre_NoNeuroExamReason.orig: (2/362)\n",
      "(10/38) pre_NeuroExamSignModerateSevereHIE3Category: (364/0)\n",
      "(11/38) pre_NeuroExamSignModerateSevereHIE3Category.orig: (362/2)\n",
      "(12/38) pre_NeuroExamLevelConsciousness: (364/0)\n",
      "(13/38) pre_NeuroExamLevelConsciousness.orig: (362/2)\n",
      "(14/38) pre_NeuroExamSpontaneousActivity: (364/0)\n",
      "(15/38) pre_NeuroExamSpontaneousActivity.orig: (362/2)\n",
      "(16/38) pre_NeuroExamPosture: (364/0)\n",
      "(17/38) pre_NeuroExamPosture.orig: (360/4)\n",
      "(18/38) pre_NeuroExamTone: (364/0)\n",
      "(19/38) pre_NeuroExamTone.orig: (362/2)\n",
      "(20/38) pre_NeuroExamSuck: (364/0)\n",
      "(21/38) pre_NeuroExamSuck.orig: (357/7)\n",
      "(22/38) pre_NeuroExamMoro: (364/0)\n",
      "(23/38) pre_NeuroExamMoro.orig: (348/16)\n",
      "(24/38) pre_NeuroExamPupils: (364/0)\n",
      "(25/38) pre_NeuroExamPupils.orig: (351/13)\n",
      "(26/38) pre_NeuroExamHeartRate: (364/0)\n",
      "(27/38) pre_NeuroExamHeartRate.orig: (362/2)\n",
      "(28/38) pre_NeuroExamRespiration: (364/0)\n",
      "(29/38) pre_NeuroExamRespiration.orig: (362/2)\n",
      "(30/38) pre_NeuroExamDate: (364/0)\n",
      "(31/38) pre_NeuroExamDate.orig: (362/2)\n",
      "(32/38) pre_NeuroExamTime: (364/0)\n",
      "(33/38) pre_NeuroExamTime.orig: (361/3)\n",
      "(34/38) pre_NeuroExamSedate: (364/0)\n",
      "(35/38) pre_NeuroExamSedate.orig: (362/2)\n",
      "(36/38) pre_NeuroExamSeizure: (364/0)\n",
      "(37/38) pre_NeuroExamSeizure.orig: (364/0)\n"
     ]
    }
   ],
   "source": [
    "COMBINE_harmonizer.column_info(df)"
   ]
  },
  {
   "cell_type": "markdown",
   "id": "4e623e91",
   "metadata": {},
   "source": [
    "## 01-03-maternal-demographics"
   ]
  },
  {
   "cell_type": "code",
   "execution_count": 18,
   "id": "8149e2df",
   "metadata": {
    "execution": {
     "iopub.execute_input": "2025-05-15T04:30:01.974080Z",
     "iopub.status.busy": "2025-05-15T04:30:01.973983Z",
     "iopub.status.idle": "2025-05-15T04:30:01.975841Z",
     "shell.execute_reply": "2025-05-15T04:30:01.975456Z"
    }
   },
   "outputs": [],
   "source": [
    "base_filename = '01-03-maternal-demographics.csv'"
   ]
  },
  {
   "cell_type": "code",
   "execution_count": 19,
   "id": "6571f108",
   "metadata": {
    "execution": {
     "iopub.execute_input": "2025-05-15T04:30:01.977908Z",
     "iopub.status.busy": "2025-05-15T04:30:01.977724Z",
     "iopub.status.idle": "2025-05-15T04:30:02.104918Z",
     "shell.execute_reply": "2025-05-15T04:30:02.104111Z"
    }
   },
   "outputs": [
    {
     "name": "stdout",
     "output_type": "stream",
     "text": [
      "(0/18) normalize_value: column: center\n",
      "(1/18) normalize_value: column: subjectID\n",
      "(2/18) normalize_value: column: uniqueID\n",
      "(3/18) normalize_value: column: motherAge_year\n",
      "(4/18) normalize_value: column: motherRace\n",
      "(5/18) normalize_value: column: motherRaceOther1\n",
      "(6/18) normalize_value: column: motherRaceOther2\n",
      "(7/18) normalize_value: column: motherRaceOther3\n",
      "(8/18) normalize_value: column: motherRaceOther4\n",
      "(9/18) normalize_value: column: motherRaceOther5\n",
      "(10/18) normalize_value: column: motherRaceOther6\n",
      "(11/18) normalize_value: column: motherEthnicity\n",
      "(12/18) normalize_value: column: motherMaritalStatus\n",
      "(13/18) normalize_value: column: motherEducation\n",
      "(14/18) normalize_value: column: motherInsurance\n",
      "(15/18) normalize_value: column: motherEducation2\n",
      "(16/18) normalize_value: column: motherInsurancePublic\n",
      "(17/18) normalize_value: column: motherRace2\n"
     ]
    }
   ],
   "source": [
    "filename = os.sep.join([input_dir, base_filename])\n",
    "df = pd.read_csv(filename, dtype='O')\n",
    "df = COMBINE_harmonizer.normalize_value(df, _VALUE_MAP, order_map=_ORDER_MAP)\n",
    "\n",
    "out_filename = os.sep.join([out_dir, base_filename])\n",
    "df.to_csv(out_filename, index=False)"
   ]
  },
  {
   "cell_type": "code",
   "execution_count": 20,
   "id": "5673cf9b",
   "metadata": {
    "execution": {
     "iopub.execute_input": "2025-05-15T04:30:02.110641Z",
     "iopub.status.busy": "2025-05-15T04:30:02.110277Z",
     "iopub.status.idle": "2025-05-15T04:30:02.123762Z",
     "shell.execute_reply": "2025-05-15T04:30:02.123152Z"
    }
   },
   "outputs": [
    {
     "name": "stdout",
     "output_type": "stream",
     "text": [
      "(0/36) center: (364/0)\n",
      "(1/36) center.orig: (364/0)\n",
      "(2/36) subjectID: (364/0)\n",
      "(3/36) subjectID.orig: (364/0)\n",
      "(4/36) uniqueID: (364/0)\n",
      "(5/36) uniqueID.orig: (364/0)\n",
      "(6/36) motherAge_year: (364/0)\n",
      "(7/36) motherAge_year.orig: (364/0)\n",
      "(8/36) motherRace: (364/0)\n",
      "(9/36) motherRace.orig: (361/3)\n",
      "(10/36) motherRaceOther1: (364/0)\n",
      "(11/36) motherRaceOther1.orig: (1/363)\n",
      "(12/36) motherRaceOther2: (364/0)\n",
      "(13/36) motherRaceOther2.orig: (1/363)\n",
      "(14/36) motherRaceOther3: (364/0)\n",
      "(15/36) motherRaceOther3.orig: (0/364)\n",
      "(16/36) motherRaceOther4: (364/0)\n",
      "(17/36) motherRaceOther4.orig: (0/364)\n",
      "(18/36) motherRaceOther5: (364/0)\n",
      "(19/36) motherRaceOther5.orig: (0/364)\n",
      "(20/36) motherRaceOther6: (364/0)\n",
      "(21/36) motherRaceOther6.orig: (0/364)\n",
      "(22/36) motherRace2: (364/0)\n",
      "(23/36) motherRace2.orig: (358/6)\n",
      "(24/36) motherEthnicity: (364/0)\n",
      "(25/36) motherEthnicity.orig: (364/0)\n",
      "(26/36) motherMaritalStatus: (364/0)\n",
      "(27/36) motherMaritalStatus.orig: (364/0)\n",
      "(28/36) motherEducation: (364/0)\n",
      "(29/36) motherEducation.orig: (363/1)\n",
      "(30/36) motherEducation2: (364/0)\n",
      "(31/36) motherEducation2.orig: (313/51)\n",
      "(32/36) motherInsurance: (364/0)\n",
      "(33/36) motherInsurance.orig: (362/2)\n",
      "(34/36) motherInsurancePublic: (364/0)\n",
      "(35/36) motherInsurancePublic.orig: (359/5)\n"
     ]
    }
   ],
   "source": [
    "COMBINE_harmonizer.column_info(df)"
   ]
  },
  {
   "cell_type": "markdown",
   "id": "4d11494f",
   "metadata": {},
   "source": [
    "## 01-04-pregnancy-history"
   ]
  },
  {
   "cell_type": "code",
   "execution_count": 21,
   "id": "c9d0ae71",
   "metadata": {
    "execution": {
     "iopub.execute_input": "2025-05-15T04:30:02.125818Z",
     "iopub.status.busy": "2025-05-15T04:30:02.125684Z",
     "iopub.status.idle": "2025-05-15T04:30:02.128017Z",
     "shell.execute_reply": "2025-05-15T04:30:02.127668Z"
    }
   },
   "outputs": [],
   "source": [
    "base_filename = '01-04-pregnancy-history.csv'"
   ]
  },
  {
   "cell_type": "code",
   "execution_count": 22,
   "id": "95763233",
   "metadata": {
    "execution": {
     "iopub.execute_input": "2025-05-15T04:30:02.129947Z",
     "iopub.status.busy": "2025-05-15T04:30:02.129763Z",
     "iopub.status.idle": "2025-05-15T04:30:02.251633Z",
     "shell.execute_reply": "2025-05-15T04:30:02.250909Z"
    }
   },
   "outputs": [
    {
     "name": "stdout",
     "output_type": "stream",
     "text": [
      "(0/12) normalize_value: column: center\n",
      "(1/12) normalize_value: column: subjectID\n",
      "(2/12) normalize_value: column: uniqueID\n",
      "(3/12) normalize_value: column: multipleBirth\n",
      "(4/12) normalize_value: column: prenatalCare\n",
      "(5/12) normalize_value: column: hypertensionEclampsia\n",
      "(6/12) normalize_value: column: antepartumHemorrhage\n",
      "(7/12) normalize_value: column: thyroidMalfunction\n",
      "(8/12) normalize_value: column: diabetes\n",
      "(9/12) normalize_value: column: gravida\n",
      "(10/12) normalize_value: column: parity\n",
      "(11/12) normalize_value: column: numFetus\n"
     ]
    }
   ],
   "source": [
    "filename = os.sep.join([input_dir, base_filename])\n",
    "df = pd.read_csv(filename, dtype='O')\n",
    "df = COMBINE_harmonizer.normalize_value(df, _VALUE_MAP, order_map=_ORDER_MAP)\n",
    "\n",
    "out_filename = os.sep.join([out_dir, base_filename])\n",
    "df.to_csv(out_filename, index=False)"
   ]
  },
  {
   "cell_type": "code",
   "execution_count": 23,
   "id": "538d99fa",
   "metadata": {
    "execution": {
     "iopub.execute_input": "2025-05-15T04:30:02.256138Z",
     "iopub.status.busy": "2025-05-15T04:30:02.255747Z",
     "iopub.status.idle": "2025-05-15T04:30:02.269991Z",
     "shell.execute_reply": "2025-05-15T04:30:02.269473Z"
    }
   },
   "outputs": [
    {
     "name": "stdout",
     "output_type": "stream",
     "text": [
      "(0/24) center: (364/0)\n",
      "(1/24) center.orig: (364/0)\n",
      "(2/24) subjectID: (364/0)\n",
      "(3/24) subjectID.orig: (364/0)\n",
      "(4/24) uniqueID: (364/0)\n",
      "(5/24) uniqueID.orig: (364/0)\n",
      "(6/24) gravida: (364/0)\n",
      "(7/24) gravida.orig: (364/0)\n",
      "(8/24) parity: (364/0)\n",
      "(9/24) parity.orig: (364/0)\n",
      "(10/24) multipleBirth: (364/0)\n",
      "(11/24) multipleBirth.orig: (364/0)\n",
      "(12/24) numFetus: (364/0)\n",
      "(13/24) numFetus.orig: (10/354)\n",
      "(14/24) prenatalCare: (364/0)\n",
      "(15/24) prenatalCare.orig: (364/0)\n",
      "(16/24) hypertensionEclampsia: (364/0)\n",
      "(17/24) hypertensionEclampsia.orig: (364/0)\n",
      "(18/24) antepartumHemorrhage: (364/0)\n",
      "(19/24) antepartumHemorrhage.orig: (364/0)\n",
      "(20/24) thyroidMalfunction: (364/0)\n",
      "(21/24) thyroidMalfunction.orig: (364/0)\n",
      "(22/24) diabetes: (364/0)\n",
      "(23/24) diabetes.orig: (364/0)\n"
     ]
    }
   ],
   "source": [
    "COMBINE_harmonizer.column_info(df)"
   ]
  },
  {
   "cell_type": "markdown",
   "id": "1b26a29a",
   "metadata": {},
   "source": [
    "## 01-05-labor-delivery"
   ]
  },
  {
   "cell_type": "code",
   "execution_count": 24,
   "id": "208391c2",
   "metadata": {
    "execution": {
     "iopub.execute_input": "2025-05-15T04:30:02.273215Z",
     "iopub.status.busy": "2025-05-15T04:30:02.272873Z",
     "iopub.status.idle": "2025-05-15T04:30:02.276016Z",
     "shell.execute_reply": "2025-05-15T04:30:02.275533Z"
    }
   },
   "outputs": [],
   "source": [
    "base_filename = '01-05-labor-delivery.csv'"
   ]
  },
  {
   "cell_type": "code",
   "execution_count": 25,
   "id": "c6e75122",
   "metadata": {
    "execution": {
     "iopub.execute_input": "2025-05-15T04:30:02.278185Z",
     "iopub.status.busy": "2025-05-15T04:30:02.278022Z",
     "iopub.status.idle": "2025-05-15T04:30:02.410627Z",
     "shell.execute_reply": "2025-05-15T04:30:02.409802Z"
    }
   },
   "outputs": [
    {
     "name": "stdout",
     "output_type": "stream",
     "text": [
      "(0/32) normalize_value: column: center\n",
      "(1/32) normalize_value: column: subjectID\n",
      "(2/32) normalize_value: column: uniqueID\n",
      "(3/32) normalize_value: column: fetalDecelerate\n",
      "(4/32) normalize_value: column: cordMishap\n",
      "(5/32) normalize_value: column: uterineRupture\n",
      "(6/32) normalize_value: column: shoulderDystocia\n",
      "(7/32) normalize_value: column: placentalProblem\n",
      "(8/32) normalize_value: column: maternalHemorrhage\n",
      "(9/32) normalize_value: column: maternalTrauma\n",
      "(10/32) normalize_value: column: maternalCardioRespiratoryArrest\n",
      "(11/32) normalize_value: column: maternalSeizure\n",
      "(12/32) normalize_value: column: pyrexiaGreater37p6C\n",
      "(13/32) normalize_value: column: chorioamnionitis\n",
      "(14/32) normalize_value: column: placentalPathologyPerformed\n",
      "(15/32) normalize_value: column: histologicChorioamionitis\n",
      "(16/32) normalize_value: column: laborAntibiotics\n",
      "(17/32) normalize_value: column: ruptureBeforeDelivery\n",
      "(18/32) normalize_value: column: ruptureGreater18Hr\n",
      "(19/32) normalize_value: column: maternalAdmissionDate\n",
      "(20/32) normalize_value: column: maternalAdmissionTime\n",
      "(21/32) normalize_value: column: laborAntibioticsCode1\n",
      "(22/32) normalize_value: column: laborAntibioticsCode2\n",
      "(23/32) normalize_value: column: laborAntibioticsCode3\n",
      "(24/32) normalize_value: column: laborAntibioticsCode4\n",
      "(25/32) normalize_value: column: laborAntibioticsCode5\n",
      "(26/32) normalize_value: column: laborAntibioticsCode6\n",
      "(27/32) normalize_value: column: ruptureDate\n",
      "(28/32) normalize_value: column: ruptureTime\n",
      "(29/32) normalize_value: column: deliveryMode\n",
      "(30/32) normalize_value: column: emergencyCSection\n",
      "(31/32) normalize_value: column: perinatalSentinelEvent\n"
     ]
    }
   ],
   "source": [
    "filename = os.sep.join([input_dir, base_filename])\n",
    "df = pd.read_csv(filename, dtype='O')\n",
    "df = COMBINE_harmonizer.normalize_value(df, _VALUE_MAP, order_map=_ORDER_MAP)\n",
    "\n",
    "out_filename = os.sep.join([out_dir, base_filename])\n",
    "df.to_csv(out_filename, index=False)"
   ]
  },
  {
   "cell_type": "code",
   "execution_count": 26,
   "id": "a2ac88ce",
   "metadata": {
    "execution": {
     "iopub.execute_input": "2025-05-15T04:30:02.414129Z",
     "iopub.status.busy": "2025-05-15T04:30:02.413836Z",
     "iopub.status.idle": "2025-05-15T04:30:02.421571Z",
     "shell.execute_reply": "2025-05-15T04:30:02.420748Z"
    }
   },
   "outputs": [
    {
     "data": {
      "text/plain": [
       "Index(['center', 'center.orig', 'subjectID', 'subjectID.orig', 'uniqueID',\n",
       "       'uniqueID.orig', 'maternalAdmissionDate', 'maternalAdmissionDate.orig',\n",
       "       'maternalAdmissionTime', 'maternalAdmissionTime.orig', 'ruptureDate',\n",
       "       'ruptureDate.orig', 'ruptureTime', 'ruptureTime.orig',\n",
       "       'ruptureGreater18Hr', 'ruptureGreater18Hr.orig',\n",
       "       'ruptureBeforeDelivery', 'ruptureBeforeDelivery.orig', 'deliveryMode',\n",
       "       'deliveryMode.orig', 'fetalDecelerate', 'fetalDecelerate.orig',\n",
       "       'cordMishap', 'cordMishap.orig', 'uterineRupture',\n",
       "       'uterineRupture.orig', 'shoulderDystocia', 'shoulderDystocia.orig',\n",
       "       'placentalProblem', 'placentalProblem.orig', 'maternalHemorrhage',\n",
       "       'maternalHemorrhage.orig', 'maternalTrauma', 'maternalTrauma.orig',\n",
       "       'maternalCardioRespiratoryArrest',\n",
       "       'maternalCardioRespiratoryArrest.orig', 'maternalSeizure',\n",
       "       'maternalSeizure.orig', 'perinatalSentinelEvent',\n",
       "       'perinatalSentinelEvent.orig', 'pyrexiaGreater37p6C',\n",
       "       'pyrexiaGreater37p6C.orig', 'chorioamnionitis', 'chorioamnionitis.orig',\n",
       "       'placentalPathologyPerformed', 'placentalPathologyPerformed.orig',\n",
       "       'histologicChorioamionitis', 'histologicChorioamionitis.orig',\n",
       "       'laborAntibiotics', 'laborAntibiotics.orig', 'laborAntibioticsCode1',\n",
       "       'laborAntibioticsCode1.orig', 'laborAntibioticsCode2',\n",
       "       'laborAntibioticsCode2.orig', 'laborAntibioticsCode3',\n",
       "       'laborAntibioticsCode3.orig', 'laborAntibioticsCode4',\n",
       "       'laborAntibioticsCode4.orig', 'laborAntibioticsCode5',\n",
       "       'laborAntibioticsCode5.orig', 'laborAntibioticsCode6',\n",
       "       'laborAntibioticsCode6.orig', 'emergencyCSection',\n",
       "       'emergencyCSection.orig'],\n",
       "      dtype='object')"
      ]
     },
     "execution_count": 26,
     "metadata": {},
     "output_type": "execute_result"
    }
   ],
   "source": [
    "df.columns"
   ]
  },
  {
   "cell_type": "code",
   "execution_count": 27,
   "id": "22cdef64",
   "metadata": {
    "execution": {
     "iopub.execute_input": "2025-05-15T04:30:02.423470Z",
     "iopub.status.busy": "2025-05-15T04:30:02.423292Z",
     "iopub.status.idle": "2025-05-15T04:30:02.430020Z",
     "shell.execute_reply": "2025-05-15T04:30:02.429311Z"
    }
   },
   "outputs": [
    {
     "name": "stdout",
     "output_type": "stream",
     "text": [
      "(0/64) center: (364/0)\n",
      "(1/64) center.orig: (364/0)\n",
      "(2/64) subjectID: (364/0)\n",
      "(3/64) subjectID.orig: (364/0)\n",
      "(4/64) uniqueID: (364/0)\n",
      "(5/64) uniqueID.orig: (364/0)\n",
      "(6/64) maternalAdmissionDate: (364/0)\n",
      "(7/64) maternalAdmissionDate.orig: (340/24)\n",
      "(8/64) maternalAdmissionTime: (364/0)\n",
      "(9/64) maternalAdmissionTime.orig: (288/76)\n",
      "(10/64) ruptureDate: (364/0)\n",
      "(11/64) ruptureDate.orig: (245/119)\n",
      "(12/64) ruptureTime: (364/0)\n",
      "(13/64) ruptureTime.orig: (220/144)\n",
      "(14/64) ruptureGreater18Hr: (364/0)\n",
      "(15/64) ruptureGreater18Hr.orig: (47/317)\n",
      "(16/64) ruptureBeforeDelivery: (364/0)\n",
      "(17/64) ruptureBeforeDelivery.orig: (364/0)\n",
      "(18/64) deliveryMode: (364/0)\n",
      "(19/64) deliveryMode.orig: (364/0)\n",
      "(20/64) fetalDecelerate: (364/0)\n",
      "(21/64) fetalDecelerate.orig: (364/0)\n",
      "(22/64) cordMishap: (364/0)\n",
      "(23/64) cordMishap.orig: (364/0)\n",
      "(24/64) uterineRupture: (364/0)\n",
      "(25/64) uterineRupture.orig: (364/0)\n",
      "(26/64) shoulderDystocia: (364/0)\n",
      "(27/64) shoulderDystocia.orig: (364/0)\n",
      "(28/64) placentalProblem: (364/0)\n",
      "(29/64) placentalProblem.orig: (364/0)\n",
      "(30/64) maternalHemorrhage: (364/0)\n",
      "(31/64) maternalHemorrhage.orig: (364/0)\n",
      "(32/64) maternalTrauma: (364/0)\n",
      "(33/64) maternalTrauma.orig: (364/0)\n",
      "(34/64) maternalCardioRespiratoryArrest: (364/0)\n",
      "(35/64) maternalCardioRespiratoryArrest.orig: (364/0)\n",
      "(36/64) maternalSeizure: (364/0)\n",
      "(37/64) maternalSeizure.orig: (364/0)\n",
      "(38/64) perinatalSentinelEvent: (364/0)\n",
      "(39/64) perinatalSentinelEvent.orig: (362/2)\n",
      "(40/64) pyrexiaGreater37p6C: (364/0)\n",
      "(41/64) pyrexiaGreater37p6C.orig: (364/0)\n",
      "(42/64) chorioamnionitis: (364/0)\n",
      "(43/64) chorioamnionitis.orig: (364/0)\n",
      "(44/64) placentalPathologyPerformed: (364/0)\n",
      "(45/64) placentalPathologyPerformed.orig: (364/0)\n",
      "(46/64) histologicChorioamionitis: (364/0)\n",
      "(47/64) histologicChorioamionitis.orig: (198/166)\n",
      "(48/64) laborAntibiotics: (364/0)\n",
      "(49/64) laborAntibiotics.orig: (364/0)\n",
      "(50/64) laborAntibioticsCode1: (364/0)\n",
      "(51/64) laborAntibioticsCode1.orig: (85/279)\n",
      "(52/64) laborAntibioticsCode2: (364/0)\n",
      "(53/64) laborAntibioticsCode2.orig: (33/331)\n",
      "(54/64) laborAntibioticsCode3: (364/0)\n",
      "(55/64) laborAntibioticsCode3.orig: (8/356)\n",
      "(56/64) laborAntibioticsCode4: (364/0)\n",
      "(57/64) laborAntibioticsCode4.orig: (0/364)\n",
      "(58/64) laborAntibioticsCode5: (364/0)\n",
      "(59/64) laborAntibioticsCode5.orig: (0/364)\n",
      "(60/64) laborAntibioticsCode6: (364/0)\n",
      "(61/64) laborAntibioticsCode6.orig: (0/364)\n",
      "(62/64) emergencyCSection: (364/0)\n",
      "(63/64) emergencyCSection.orig: (364/0)\n"
     ]
    }
   ],
   "source": [
    "COMBINE_harmonizer.column_info(df)"
   ]
  },
  {
   "cell_type": "markdown",
   "id": "5cdfa5f0",
   "metadata": {},
   "source": [
    "## 01-06-birth"
   ]
  },
  {
   "cell_type": "code",
   "execution_count": 28,
   "id": "3d84cf16",
   "metadata": {
    "execution": {
     "iopub.execute_input": "2025-05-15T04:30:02.432242Z",
     "iopub.status.busy": "2025-05-15T04:30:02.432080Z",
     "iopub.status.idle": "2025-05-15T04:30:02.433914Z",
     "shell.execute_reply": "2025-05-15T04:30:02.433654Z"
    }
   },
   "outputs": [],
   "source": [
    "base_filename = '01-06-birth.csv'"
   ]
  },
  {
   "cell_type": "code",
   "execution_count": 29,
   "id": "6178eb23",
   "metadata": {
    "execution": {
     "iopub.execute_input": "2025-05-15T04:30:02.435264Z",
     "iopub.status.busy": "2025-05-15T04:30:02.435151Z",
     "iopub.status.idle": "2025-05-15T04:30:02.588150Z",
     "shell.execute_reply": "2025-05-15T04:30:02.587793Z"
    }
   },
   "outputs": [
    {
     "name": "stdout",
     "output_type": "stream",
     "text": [
      "(0/58) normalize_value: column: center\n",
      "(1/58) normalize_value: column: subjectID\n",
      "(2/58) normalize_value: column: uniqueID\n",
      "(3/58) normalize_value: column: birthDate\n",
      "(4/58) normalize_value: column: encephalopathyLevel\n",
      "(5/58) normalize_value: column: infantOutborn\n",
      "(6/58) normalize_value: column: outbornInHospital\n",
      "(7/58) normalize_value: column: outbornOutHospital\n",
      "(8/58) normalize_value: column: deliveryOxygen\n",
      "(9/58) normalize_value: column: deliveryBaggingAndMask\n",
      "(10/58) normalize_value: column: deliveryChestCompression\n",
      "(11/58) normalize_value: column: deliveryIntubation\n",
      "(12/58) normalize_value: column: deliveryDrug\n",
      "(13/58) normalize_value: column: at10MinContinueResuscitation\n",
      "(14/58) normalize_value: column: at10MinOxygen\n",
      "(15/58) normalize_value: column: at10MinBaggingAndMask\n",
      "(16/58) normalize_value: column: at10MinChestCompression\n",
      "(17/58) normalize_value: column: at10MinIntubation\n",
      "(18/58) normalize_value: column: at10MinDrug\n",
      "(19/58) normalize_value: column: cordBloodGas\n",
      "(20/58) normalize_value: column: firstPostnatalBloodGas\n",
      "(21/58) normalize_value: column: birthTime\n",
      "(22/58) normalize_value: column: neonateAdmissionDate\n",
      "(23/58) normalize_value: column: neonateAdmissionTime\n",
      "(24/58) normalize_value: column: Apgar1min\n",
      "(25/58) normalize_value: column: Apgar5min\n",
      "(26/58) normalize_value: column: Apgar10min\n",
      "(27/58) normalize_value: column: Apgar15min\n",
      "(28/58) normalize_value: column: Apgar20min\n",
      "(29/58) normalize_value: column: birthWeight_g\n",
      "(30/58) normalize_value: column: birthLength_cm\n",
      "(31/58) normalize_value: column: birthHeadCircumference_cm\n",
      "(32/58) normalize_value: column: birthGestationalAge_week\n",
      "(33/58) normalize_value: column: infantSex\n",
      "(34/58) normalize_value: column: spontaneousRespirationTime\n",
      "(35/58) normalize_value: column: cordBloodGasSrc\n",
      "(36/58) normalize_value: column: cordBloodGasPH\n",
      "(37/58) normalize_value: column: cordBloodGasPCO2_mmHg\n",
      "(38/58) normalize_value: column: cordBloodGasPO2_mmHg\n",
      "(39/58) normalize_value: column: cordBloodGasHCO3_mEqPerL\n",
      "(40/58) normalize_value: column: cordBloodGasBaseDeficit_mEqPerL\n",
      "(41/58) normalize_value: column: firstPostnatalBloodGasSrc\n",
      "(42/58) normalize_value: column: firstPostnatalBloodGasDate\n",
      "(43/58) normalize_value: column: firstPostnatalBloodGasTime\n",
      "(44/58) normalize_value: column: firstPostnatalBloodGasPH\n",
      "(45/58) normalize_value: column: firstPostnatalBloodGasPCO2_mmHg\n",
      "(46/58) normalize_value: column: firstPostnatalBloodGasPO2_mmHg\n",
      "(47/58) normalize_value: column: firstPostnatalBloodGasHCO3_mEqPerL\n",
      "(48/58) normalize_value: column: firstPostnatalBloodGasBaseDeficit_mEqPerL\n",
      "(49/58) normalize_value: column: Apgar10minLess5\n",
      "(50/58) normalize_value: column: maleSex\n",
      "(51/58) normalize_value: column: Apgar5minLessEq5\n",
      "(52/58) normalize_value: column: Apgar10minLessEq5\n",
      "(53/58) normalize_value: column: acidosis\n",
      "(54/58) normalize_value: column: initBloodGasPH\n",
      "(55/58) normalize_value: column: initBloodGasPHSrc\n",
      "(56/58) normalize_value: column: initBloodGasBaseDeficit_mEqPerL\n",
      "(57/58) normalize_value: column: initBloodGasBaseDeficit_mEqPerLSrc\n"
     ]
    }
   ],
   "source": [
    "filename = os.sep.join([input_dir, base_filename])\n",
    "df = pd.read_csv(filename, dtype='O')\n",
    "df = COMBINE_harmonizer.normalize_value(df, _VALUE_MAP, order_map=_ORDER_MAP)\n",
    "\n",
    "# XXX hack for _is_delivery_resuscitation\n",
    "def _is_delivery_resuscitation(x):\n",
    "    for idx in ['deliveryOxygen', 'deliveryBaggingAndMask', 'deliveryChestCompression', 'deliveryIntubation', 'deliveryDrug']:\n",
    "        if x[idx] == 'TRUE':\n",
    "            return True\n",
    "\n",
    "    return False\n",
    "\n",
    "df.loc[:, 'deliveryResuscitation'] = 'FALSE'\n",
    "is_delivery_resuscitation = df.apply(lambda x: _is_delivery_resuscitation(x), axis=1)\n",
    "df.loc[is_delivery_resuscitation, 'deliveryResuscitation'] = 'TRUE'\n",
    "\n",
    "out_filename = os.sep.join([out_dir, base_filename])\n",
    "df.to_csv(out_filename, index=False)"
   ]
  },
  {
   "cell_type": "code",
   "execution_count": 30,
   "id": "53b29427",
   "metadata": {
    "execution": {
     "iopub.execute_input": "2025-05-15T04:30:02.590198Z",
     "iopub.status.busy": "2025-05-15T04:30:02.589973Z",
     "iopub.status.idle": "2025-05-15T04:30:02.600925Z",
     "shell.execute_reply": "2025-05-15T04:30:02.600557Z"
    }
   },
   "outputs": [
    {
     "name": "stdout",
     "output_type": "stream",
     "text": [
      "(0/117) center: (364/0)\n",
      "(1/117) center.orig: (364/0)\n",
      "(2/117) subjectID: (364/0)\n",
      "(3/117) subjectID.orig: (364/0)\n",
      "(4/117) uniqueID: (364/0)\n",
      "(5/117) uniqueID.orig: (364/0)\n",
      "(6/117) encephalopathyLevel: (364/0)\n",
      "(7/117) encephalopathyLevel.orig: (364/0)\n",
      "(8/117) birthTime: (364/0)\n",
      "(9/117) birthTime.orig: (364/0)\n",
      "(10/117) birthWeight_g: (364/0)\n",
      "(11/117) birthWeight_g.orig: (363/1)\n",
      "(12/117) birthLength_cm: (364/0)\n",
      "(13/117) birthLength_cm.orig: (340/24)\n",
      "(14/117) birthHeadCircumference_cm: (364/0)\n",
      "(15/117) birthHeadCircumference_cm.orig: (344/20)\n",
      "(16/117) birthGestationalAge_week: (364/0)\n",
      "(17/117) birthGestationalAge_week.orig: (363/1)\n",
      "(18/117) infantSex: (364/0)\n",
      "(19/117) infantSex.orig: (364/0)\n",
      "(20/117) maleSex: (364/0)\n",
      "(21/117) maleSex.orig: (364/0)\n",
      "(22/117) infantOutborn: (364/0)\n",
      "(23/117) infantOutborn.orig: (364/0)\n",
      "(24/117) outbornInHospital: (364/0)\n",
      "(25/117) outbornInHospital.orig: (234/130)\n",
      "(26/117) outbornOutHospital: (364/0)\n",
      "(27/117) outbornOutHospital.orig: (234/130)\n",
      "(28/117) neonateAdmissionDate: (364/0)\n",
      "(29/117) neonateAdmissionDate.orig: (234/130)\n",
      "(30/117) neonateAdmissionTime: (364/0)\n",
      "(31/117) neonateAdmissionTime.orig: (231/133)\n",
      "(32/117) Apgar1min: (364/0)\n",
      "(33/117) Apgar1min.orig: (361/3)\n",
      "(34/117) Apgar5min: (364/0)\n",
      "(35/117) Apgar5min.orig: (361/3)\n",
      "(36/117) Apgar10min: (364/0)\n",
      "(37/117) Apgar10min.orig: (324/40)\n",
      "(38/117) Apgar15min: (364/0)\n",
      "(39/117) Apgar15min.orig: (123/241)\n",
      "(40/117) Apgar20min: (364/0)\n",
      "(41/117) Apgar20min.orig: (75/289)\n",
      "(42/117) deliveryOxygen: (364/0)\n",
      "(43/117) deliveryOxygen.orig: (364/0)\n",
      "(44/117) deliveryBaggingAndMask: (364/0)\n",
      "(45/117) deliveryBaggingAndMask.orig: (364/0)\n",
      "(46/117) deliveryChestCompression: (364/0)\n",
      "(47/117) deliveryChestCompression.orig: (364/0)\n",
      "(48/117) deliveryIntubation: (364/0)\n",
      "(49/117) deliveryIntubation.orig: (364/0)\n",
      "(50/117) deliveryDrug: (364/0)\n",
      "(51/117) deliveryDrug.orig: (364/0)\n",
      "(52/117) at10MinContinueResuscitation: (364/0)\n",
      "(53/117) at10MinContinueResuscitation.orig: (364/0)\n",
      "(54/117) at10MinOxygen: (364/0)\n",
      "(55/117) at10MinOxygen.orig: (315/49)\n",
      "(56/117) at10MinBaggingAndMask: (364/0)\n",
      "(57/117) at10MinBaggingAndMask.orig: (315/49)\n",
      "(58/117) at10MinChestCompression: (364/0)\n",
      "(59/117) at10MinChestCompression.orig: (315/49)\n",
      "(60/117) at10MinIntubation: (364/0)\n",
      "(61/117) at10MinIntubation.orig: (315/49)\n",
      "(62/117) at10MinDrug: (364/0)\n",
      "(63/117) at10MinDrug.orig: (315/49)\n",
      "(64/117) spontaneousRespirationTime: (364/0)\n",
      "(65/117) spontaneousRespirationTime.orig: (341/23)\n",
      "(66/117) cordBloodGas: (364/0)\n",
      "(67/117) cordBloodGas.orig: (364/0)\n",
      "(68/117) cordBloodGasSrc: (364/0)\n",
      "(69/117) cordBloodGasSrc.orig: (265/99)\n",
      "(70/117) cordBloodGasPH: (364/0)\n",
      "(71/117) cordBloodGasPH.orig: (289/75)\n",
      "(72/117) cordBloodGasPCO2_mmHg: (364/0)\n",
      "(73/117) cordBloodGasPCO2_mmHg.orig: (250/114)\n",
      "(74/117) cordBloodGasPO2_mmHg: (364/0)\n",
      "(75/117) cordBloodGasPO2_mmHg.orig: (220/144)\n",
      "(76/117) cordBloodGasHCO3_mEqPerL: (364/0)\n",
      "(77/117) cordBloodGasHCO3_mEqPerL.orig: (212/152)\n",
      "(78/117) cordBloodGasBaseDeficit_mEqPerL: (364/0)\n",
      "(79/117) cordBloodGasBaseDeficit_mEqPerL.orig: (244/120)\n",
      "(80/117) firstPostnatalBloodGas: (364/0)\n",
      "(81/117) firstPostnatalBloodGas.orig: (364/0)\n",
      "(82/117) firstPostnatalBloodGasSrc: (364/0)\n",
      "(83/117) firstPostnatalBloodGasSrc.orig: (356/8)\n",
      "(84/117) firstPostnatalBloodGasDate: (364/0)\n",
      "(85/117) firstPostnatalBloodGasDate.orig: (361/3)\n",
      "(86/117) firstPostnatalBloodGasTime: (364/0)\n",
      "(87/117) firstPostnatalBloodGasTime.orig: (331/33)\n",
      "(88/117) firstPostnatalBloodGasPH: (364/0)\n",
      "(89/117) firstPostnatalBloodGasPH.orig: (358/6)\n",
      "(90/117) firstPostnatalBloodGasPCO2_mmHg: (364/0)\n",
      "(91/117) firstPostnatalBloodGasPCO2_mmHg.orig: (353/11)\n",
      "(92/117) firstPostnatalBloodGasPO2_mmHg: (364/0)\n",
      "(93/117) firstPostnatalBloodGasPO2_mmHg.orig: (341/23)\n",
      "(94/117) firstPostnatalBloodGasHCO3_mEqPerL: (364/0)\n",
      "(95/117) firstPostnatalBloodGasHCO3_mEqPerL.orig: (318/46)\n",
      "(96/117) firstPostnatalBloodGasBaseDeficit_mEqPerL: (364/0)\n",
      "(97/117) firstPostnatalBloodGasBaseDeficit_mEqPerL.orig: (340/24)\n",
      "(98/117) acidosis: (364/0)\n",
      "(99/117) acidosis.orig: (363/1)\n",
      "(100/117) Apgar10minLess5: (364/0)\n",
      "(101/117) Apgar10minLess5.orig: (324/40)\n",
      "(102/117) Apgar10minLessEq5: (364/0)\n",
      "(103/117) Apgar10minLessEq5.orig: (324/40)\n",
      "(104/117) Apgar5minLessEq5: (364/0)\n",
      "(105/117) Apgar5minLessEq5.orig: (361/3)\n",
      "(106/117) initBloodGasBaseDeficit_mEqPerL: (364/0)\n",
      "(107/117) initBloodGasBaseDeficit_mEqPerL.orig: (351/13)\n",
      "(108/117) initBloodGasBaseDeficit_mEqPerLSrc: (364/0)\n",
      "(109/117) initBloodGasBaseDeficit_mEqPerLSrc.orig: (351/13)\n",
      "(110/117) initBloodGasPH: (364/0)\n",
      "(111/117) initBloodGasPH.orig: (363/1)\n",
      "(112/117) initBloodGasPHSrc: (364/0)\n",
      "(113/117) initBloodGasPHSrc.orig: (363/1)\n",
      "(114/117) birthDate: (364/0)\n",
      "(115/117) birthDate.orig: (364/0)\n",
      "(116/117) deliveryResuscitation: (364/0)\n"
     ]
    }
   ],
   "source": [
    "COMBINE_harmonizer.column_info(df)"
   ]
  },
  {
   "cell_type": "markdown",
   "id": "7d983ec3",
   "metadata": {},
   "source": [
    "## 01-07-pre-temperature"
   ]
  },
  {
   "cell_type": "code",
   "execution_count": 31,
   "id": "42259ff4",
   "metadata": {
    "execution": {
     "iopub.execute_input": "2025-05-15T04:30:02.602762Z",
     "iopub.status.busy": "2025-05-15T04:30:02.602613Z",
     "iopub.status.idle": "2025-05-15T04:30:02.604490Z",
     "shell.execute_reply": "2025-05-15T04:30:02.604200Z"
    }
   },
   "outputs": [],
   "source": [
    "base_filename = '01-07-pre-temperature.csv'"
   ]
  },
  {
   "cell_type": "code",
   "execution_count": 32,
   "id": "42c859a6",
   "metadata": {
    "execution": {
     "iopub.execute_input": "2025-05-15T04:30:02.606052Z",
     "iopub.status.busy": "2025-05-15T04:30:02.605903Z",
     "iopub.status.idle": "2025-05-15T04:30:02.720841Z",
     "shell.execute_reply": "2025-05-15T04:30:02.720541Z"
    }
   },
   "outputs": [
    {
     "name": "stdout",
     "output_type": "stream",
     "text": [
      "(0/25) normalize_value: column: center\n",
      "(1/25) normalize_value: column: subjectID\n",
      "(2/25) normalize_value: column: uniqueID\n",
      "(3/25) normalize_value: column: pre_CoolInitiate\n",
      "(4/25) normalize_value: column: pre_CoolbyIceGelPack\n",
      "(5/25) normalize_value: column: pre_CoolPassively\n",
      "(6/25) normalize_value: column: pre_CoolClinically\n",
      "(7/25) normalize_value: column: pre_AfterOvershootReach33p5C\n",
      "(8/25) normalize_value: column: targetTreatmentTemperature_C\n",
      "(9/25) normalize_value: column: pre_CoolInitiateDate\n",
      "(10/25) normalize_value: column: pre_CoolInitiateTime\n",
      "(11/25) normalize_value: column: pre_AfterOvershootReach33p5CDate\n",
      "(12/25) normalize_value: column: pre_AfterOvershootReach33p5CTime\n",
      "(13/25) normalize_value: column: pre_TemperatureMinDate\n",
      "(14/25) normalize_value: column: pre_TemperatureMinTime\n",
      "(15/25) normalize_value: column: pre_SkinTemperatureMin_C\n",
      "(16/25) normalize_value: column: pre_AxillaryTemperatureMin_C\n",
      "(17/25) normalize_value: column: pre_EsophagealTemperatureMin_C\n",
      "(18/25) normalize_value: column: pre_ServoSetMin_C\n",
      "(19/25) normalize_value: column: pre_TemperatureMaxDate\n",
      "(20/25) normalize_value: column: pre_TemperatureMaxTime\n",
      "(21/25) normalize_value: column: pre_SkinTemperatureMax_C\n",
      "(22/25) normalize_value: column: pre_AxillaryTemperatureMax_C\n",
      "(23/25) normalize_value: column: pre_EsophagealTemperatureMax_C\n",
      "(24/25) normalize_value: column: pre_ServoSetMax_C\n"
     ]
    }
   ],
   "source": [
    "filename = os.sep.join([input_dir, base_filename])\n",
    "df = pd.read_csv(filename, dtype='O')\n",
    "df = COMBINE_harmonizer.normalize_value(df, _VALUE_MAP, order_map=_ORDER_MAP)\n",
    "\n",
    "out_filename = os.sep.join([out_dir, base_filename])\n",
    "df.to_csv(out_filename, index=False)"
   ]
  },
  {
   "cell_type": "code",
   "execution_count": 33,
   "id": "5c5b6c6d",
   "metadata": {
    "execution": {
     "iopub.execute_input": "2025-05-15T04:30:02.722460Z",
     "iopub.status.busy": "2025-05-15T04:30:02.722163Z",
     "iopub.status.idle": "2025-05-15T04:30:02.726979Z",
     "shell.execute_reply": "2025-05-15T04:30:02.726700Z"
    }
   },
   "outputs": [
    {
     "name": "stdout",
     "output_type": "stream",
     "text": [
      "(0/50) center: (364/0)\n",
      "(1/50) center.orig: (364/0)\n",
      "(2/50) subjectID: (364/0)\n",
      "(3/50) subjectID.orig: (364/0)\n",
      "(4/50) uniqueID: (364/0)\n",
      "(5/50) uniqueID.orig: (364/0)\n",
      "(6/50) targetTreatmentTemperature_C: (364/0)\n",
      "(7/50) targetTreatmentTemperature_C.orig: (364/0)\n",
      "(8/50) pre_CoolInitiate: (364/0)\n",
      "(9/50) pre_CoolInitiate.orig: (364/0)\n",
      "(10/50) pre_CoolbyIceGelPack: (364/0)\n",
      "(11/50) pre_CoolbyIceGelPack.orig: (252/112)\n",
      "(12/50) pre_CoolPassively: (364/0)\n",
      "(13/50) pre_CoolPassively.orig: (252/112)\n",
      "(14/50) pre_CoolClinically: (364/0)\n",
      "(15/50) pre_CoolClinically.orig: (252/112)\n",
      "(16/50) pre_CoolInitiateDate: (364/0)\n",
      "(17/50) pre_CoolInitiateDate.orig: (201/163)\n",
      "(18/50) pre_CoolInitiateTime: (364/0)\n",
      "(19/50) pre_CoolInitiateTime.orig: (200/164)\n",
      "(20/50) pre_AfterOvershootReach33p5C: (364/0)\n",
      "(21/50) pre_AfterOvershootReach33p5C.orig: (364/0)\n",
      "(22/50) pre_AfterOvershootReach33p5CDate: (364/0)\n",
      "(23/50) pre_AfterOvershootReach33p5CDate.orig: (70/294)\n",
      "(24/50) pre_AfterOvershootReach33p5CTime: (364/0)\n",
      "(25/50) pre_AfterOvershootReach33p5CTime.orig: (69/295)\n",
      "(26/50) pre_TemperatureMinDate: (364/0)\n",
      "(27/50) pre_TemperatureMinDate.orig: (351/13)\n",
      "(28/50) pre_TemperatureMinTime: (364/0)\n",
      "(29/50) pre_TemperatureMinTime.orig: (348/16)\n",
      "(30/50) pre_SkinTemperatureMin_C: (364/0)\n",
      "(31/50) pre_SkinTemperatureMin_C.orig: (168/196)\n",
      "(32/50) pre_AxillaryTemperatureMin_C: (364/0)\n",
      "(33/50) pre_AxillaryTemperatureMin_C.orig: (231/133)\n",
      "(34/50) pre_EsophagealTemperatureMin_C: (364/0)\n",
      "(35/50) pre_EsophagealTemperatureMin_C.orig: (138/226)\n",
      "(36/50) pre_ServoSetMin_C: (364/0)\n",
      "(37/50) pre_ServoSetMin_C.orig: (164/200)\n",
      "(38/50) pre_TemperatureMaxDate: (364/0)\n",
      "(39/50) pre_TemperatureMaxDate.orig: (350/14)\n",
      "(40/50) pre_TemperatureMaxTime: (364/0)\n",
      "(41/50) pre_TemperatureMaxTime.orig: (340/24)\n",
      "(42/50) pre_SkinTemperatureMax_C: (364/0)\n",
      "(43/50) pre_SkinTemperatureMax_C.orig: (133/231)\n",
      "(44/50) pre_AxillaryTemperatureMax_C: (364/0)\n",
      "(45/50) pre_AxillaryTemperatureMax_C.orig: (279/85)\n",
      "(46/50) pre_EsophagealTemperatureMax_C: (364/0)\n",
      "(47/50) pre_EsophagealTemperatureMax_C.orig: (68/296)\n",
      "(48/50) pre_ServoSetMax_C: (364/0)\n",
      "(49/50) pre_ServoSetMax_C.orig: (119/245)\n"
     ]
    }
   ],
   "source": [
    "COMBINE_harmonizer.column_info(df)"
   ]
  },
  {
   "cell_type": "markdown",
   "id": "41edb43a",
   "metadata": {},
   "source": [
    "## 01-08-pre-cardiovascular"
   ]
  },
  {
   "cell_type": "code",
   "execution_count": 34,
   "id": "4c51dd25",
   "metadata": {
    "execution": {
     "iopub.execute_input": "2025-05-15T04:30:02.728397Z",
     "iopub.status.busy": "2025-05-15T04:30:02.728303Z",
     "iopub.status.idle": "2025-05-15T04:30:02.730674Z",
     "shell.execute_reply": "2025-05-15T04:30:02.729911Z"
    }
   },
   "outputs": [],
   "source": [
    "base_filename = '01-08-pre-cardiovascular.csv'"
   ]
  },
  {
   "cell_type": "code",
   "execution_count": 35,
   "id": "9aa82c36",
   "metadata": {
    "execution": {
     "iopub.execute_input": "2025-05-15T04:30:02.732475Z",
     "iopub.status.busy": "2025-05-15T04:30:02.732325Z",
     "iopub.status.idle": "2025-05-15T04:30:02.816067Z",
     "shell.execute_reply": "2025-05-15T04:30:02.815488Z"
    }
   },
   "outputs": [
    {
     "name": "stdout",
     "output_type": "stream",
     "text": [
      "(0/12) normalize_value: column: center\n",
      "(1/12) normalize_value: column: subjectID\n",
      "(2/12) normalize_value: column: uniqueID\n",
      "(3/12) normalize_value: column: pre_CardioVolumeExpand\n",
      "(4/12) normalize_value: column: pre_CardioInotropicAgent\n",
      "(5/12) normalize_value: column: pre_CardioBloodTransfusion\n",
      "(6/12) normalize_value: column: pre_CardioPlatelets\n",
      "(7/12) normalize_value: column: pre_CardioDate\n",
      "(8/12) normalize_value: column: pre_CardioTime\n",
      "(9/12) normalize_value: column: pre_CardioSystolicBloodPressure_mmHg\n",
      "(10/12) normalize_value: column: pre_CardioDiastolicBloodPressure_mmHg\n",
      "(11/12) normalize_value: column: pre_CardioHeartRate_BPM\n"
     ]
    }
   ],
   "source": [
    "filename = os.sep.join([input_dir, base_filename])\n",
    "df = pd.read_csv(filename, dtype='O')\n",
    "df = COMBINE_harmonizer.normalize_value(df, _VALUE_MAP, order_map=_ORDER_MAP)\n",
    "\n",
    "out_filename = os.sep.join([out_dir, base_filename])\n",
    "df.to_csv(out_filename, index=False)"
   ]
  },
  {
   "cell_type": "code",
   "execution_count": 36,
   "id": "8ac24705",
   "metadata": {
    "execution": {
     "iopub.execute_input": "2025-05-15T04:30:02.819033Z",
     "iopub.status.busy": "2025-05-15T04:30:02.818776Z",
     "iopub.status.idle": "2025-05-15T04:30:02.825949Z",
     "shell.execute_reply": "2025-05-15T04:30:02.825664Z"
    }
   },
   "outputs": [
    {
     "name": "stdout",
     "output_type": "stream",
     "text": [
      "(0/24) center: (357/0)\n",
      "(1/24) center.orig: (357/0)\n",
      "(2/24) subjectID: (357/0)\n",
      "(3/24) subjectID.orig: (357/0)\n",
      "(4/24) uniqueID: (357/0)\n",
      "(5/24) uniqueID.orig: (357/0)\n",
      "(6/24) pre_CardioDate: (357/0)\n",
      "(7/24) pre_CardioDate.orig: (357/0)\n",
      "(8/24) pre_CardioTime: (357/0)\n",
      "(9/24) pre_CardioTime.orig: (355/2)\n",
      "(10/24) pre_CardioSystolicBloodPressure_mmHg: (357/0)\n",
      "(11/24) pre_CardioSystolicBloodPressure_mmHg.orig: (350/7)\n",
      "(12/24) pre_CardioDiastolicBloodPressure_mmHg: (357/0)\n",
      "(13/24) pre_CardioDiastolicBloodPressure_mmHg.orig: (350/7)\n",
      "(14/24) pre_CardioHeartRate_BPM: (357/0)\n",
      "(15/24) pre_CardioHeartRate_BPM.orig: (351/6)\n",
      "(16/24) pre_CardioVolumeExpand: (357/0)\n",
      "(17/24) pre_CardioVolumeExpand.orig: (357/0)\n",
      "(18/24) pre_CardioInotropicAgent: (357/0)\n",
      "(19/24) pre_CardioInotropicAgent.orig: (357/0)\n",
      "(20/24) pre_CardioBloodTransfusion: (357/0)\n",
      "(21/24) pre_CardioBloodTransfusion.orig: (357/0)\n",
      "(22/24) pre_CardioPlatelets: (357/0)\n",
      "(23/24) pre_CardioPlatelets.orig: (357/0)\n"
     ]
    }
   ],
   "source": [
    "COMBINE_harmonizer.column_info(df)"
   ]
  },
  {
   "cell_type": "markdown",
   "id": "709cdf71",
   "metadata": {},
   "source": [
    "## 01-14-pre-respiratory"
   ]
  },
  {
   "cell_type": "code",
   "execution_count": 37,
   "id": "430f5da0",
   "metadata": {
    "execution": {
     "iopub.execute_input": "2025-05-15T04:30:02.827445Z",
     "iopub.status.busy": "2025-05-15T04:30:02.827329Z",
     "iopub.status.idle": "2025-05-15T04:30:02.828831Z",
     "shell.execute_reply": "2025-05-15T04:30:02.828644Z"
    }
   },
   "outputs": [],
   "source": [
    "# base_filename = '01-14-pre-respiratory.csv'"
   ]
  },
  {
   "cell_type": "code",
   "execution_count": 38,
   "id": "aa7a4467",
   "metadata": {
    "execution": {
     "iopub.execute_input": "2025-05-15T04:30:02.830199Z",
     "iopub.status.busy": "2025-05-15T04:30:02.830082Z",
     "iopub.status.idle": "2025-05-15T04:30:02.832541Z",
     "shell.execute_reply": "2025-05-15T04:30:02.832320Z"
    }
   },
   "outputs": [
    {
     "data": {
      "text/plain": [
       "\"\\nfilename = os.sep.join([input_dir, base_filename])\\ndf = pd.read_csv(filename, dtype='O')\\ndf = HIE_data.normalize_value(df, _VALUE_MAP, order_map=_ORDER_MAP)\\n\\nout_filename = os.sep.join([out_dir, base_filename])\\ndf.to_csv(out_filename, index=False)\\n\""
      ]
     },
     "execution_count": 38,
     "metadata": {},
     "output_type": "execute_result"
    }
   ],
   "source": [
    "'''\n",
    "filename = os.sep.join([input_dir, base_filename])\n",
    "df = pd.read_csv(filename, dtype='O')\n",
    "df = HIE_data.normalize_value(df, _VALUE_MAP, order_map=_ORDER_MAP)\n",
    "\n",
    "out_filename = os.sep.join([out_dir, base_filename])\n",
    "df.to_csv(out_filename, index=False)\n",
    "'''"
   ]
  },
  {
   "cell_type": "code",
   "execution_count": 39,
   "id": "68718b09",
   "metadata": {
    "execution": {
     "iopub.execute_input": "2025-05-15T04:30:02.833696Z",
     "iopub.status.busy": "2025-05-15T04:30:02.833622Z",
     "iopub.status.idle": "2025-05-15T04:30:02.835064Z",
     "shell.execute_reply": "2025-05-15T04:30:02.834866Z"
    }
   },
   "outputs": [],
   "source": [
    "# HIE_data.column_info(df)"
   ]
  },
  {
   "cell_type": "markdown",
   "id": "e2d74992",
   "metadata": {},
   "source": [
    "## 01-15-pre-blood-gas"
   ]
  },
  {
   "cell_type": "code",
   "execution_count": 40,
   "id": "390dde69",
   "metadata": {
    "execution": {
     "iopub.execute_input": "2025-05-15T04:30:02.836461Z",
     "iopub.status.busy": "2025-05-15T04:30:02.836292Z",
     "iopub.status.idle": "2025-05-15T04:30:02.838079Z",
     "shell.execute_reply": "2025-05-15T04:30:02.837864Z"
    }
   },
   "outputs": [],
   "source": [
    "# base_filename = '01-15-pre-blood-gas.csv'"
   ]
  },
  {
   "cell_type": "code",
   "execution_count": 41,
   "id": "b7db4a3d",
   "metadata": {
    "execution": {
     "iopub.execute_input": "2025-05-15T04:30:02.839281Z",
     "iopub.status.busy": "2025-05-15T04:30:02.839207Z",
     "iopub.status.idle": "2025-05-15T04:30:02.841298Z",
     "shell.execute_reply": "2025-05-15T04:30:02.841048Z"
    }
   },
   "outputs": [
    {
     "data": {
      "text/plain": [
       "\"\\nfilename = os.sep.join([input_dir, base_filename])\\ndf = pd.read_csv(filename, dtype='O')\\ndf = HIE_data.normalize_value(df, _VALUE_MAP, order_map=_ORDER_MAP)\\n\\nout_filename = os.sep.join([out_dir, base_filename])\\ndf.to_csv(out_filename, index=False)\\n\""
      ]
     },
     "execution_count": 41,
     "metadata": {},
     "output_type": "execute_result"
    }
   ],
   "source": [
    "'''\n",
    "filename = os.sep.join([input_dir, base_filename])\n",
    "df = pd.read_csv(filename, dtype='O')\n",
    "df = HIE_data.normalize_value(df, _VALUE_MAP, order_map=_ORDER_MAP)\n",
    "\n",
    "out_filename = os.sep.join([out_dir, base_filename])\n",
    "df.to_csv(out_filename, index=False)\n",
    "'''\n"
   ]
  },
  {
   "cell_type": "code",
   "execution_count": 42,
   "id": "a7638c47",
   "metadata": {
    "execution": {
     "iopub.execute_input": "2025-05-15T04:30:02.842406Z",
     "iopub.status.busy": "2025-05-15T04:30:02.842335Z",
     "iopub.status.idle": "2025-05-15T04:30:02.843991Z",
     "shell.execute_reply": "2025-05-15T04:30:02.843696Z"
    }
   },
   "outputs": [],
   "source": [
    "# HIE_data.column_info(df)"
   ]
  },
  {
   "cell_type": "markdown",
   "id": "d9f57460",
   "metadata": {},
   "source": [
    "## 01-16-pre-hematology"
   ]
  },
  {
   "cell_type": "code",
   "execution_count": 43,
   "id": "24992f59",
   "metadata": {
    "execution": {
     "iopub.execute_input": "2025-05-15T04:30:02.845400Z",
     "iopub.status.busy": "2025-05-15T04:30:02.845315Z",
     "iopub.status.idle": "2025-05-15T04:30:02.847131Z",
     "shell.execute_reply": "2025-05-15T04:30:02.846652Z"
    }
   },
   "outputs": [],
   "source": [
    "# base_filename = '01-16-pre-hematology.csv'"
   ]
  },
  {
   "cell_type": "code",
   "execution_count": 44,
   "id": "c98cd538",
   "metadata": {
    "execution": {
     "iopub.execute_input": "2025-05-15T04:30:02.848741Z",
     "iopub.status.busy": "2025-05-15T04:30:02.848641Z",
     "iopub.status.idle": "2025-05-15T04:30:02.851169Z",
     "shell.execute_reply": "2025-05-15T04:30:02.850907Z"
    }
   },
   "outputs": [
    {
     "data": {
      "text/plain": [
       "\"\\nfilename = os.sep.join([input_dir, base_filename])\\ndf = pd.read_csv(filename, dtype='O')\\ndf = HIE_data.normalize_value(df, _VALUE_MAP, order_map=_ORDER_MAP)\\n\\n# XXX hematology in OC is counted as kcPermuL\\ncbc_columns = [\\n    'hematologyWBC_cPermuL',\\n    'hematologyPolymorphNeutrophils_cPermuL',\\n    'hematologyMonocytes_cPermuL',\\n    'hematologyLymphocytes_cPermuL',\\n    'hematologyPlatelet_cPermuL'\\n]\\nfor column in cbc_columns:\\n    df.loc[:, column] = df[column] * 1000\\n\\nout_filename = os.sep.join([out_dir, base_filename])\\ndf.to_csv(out_filename, index=False)\\n\""
      ]
     },
     "execution_count": 44,
     "metadata": {},
     "output_type": "execute_result"
    }
   ],
   "source": [
    "'''\n",
    "filename = os.sep.join([input_dir, base_filename])\n",
    "df = pd.read_csv(filename, dtype='O')\n",
    "df = HIE_data.normalize_value(df, _VALUE_MAP, order_map=_ORDER_MAP)\n",
    "\n",
    "# XXX hematology in OC is counted as kcPermuL\n",
    "cbc_columns = [\n",
    "    'hematologyWBC_cPermuL',\n",
    "    'hematologyPolymorphNeutrophils_cPermuL',\n",
    "    'hematologyMonocytes_cPermuL',\n",
    "    'hematologyLymphocytes_cPermuL',\n",
    "    'hematologyPlatelet_cPermuL'\n",
    "]\n",
    "for column in cbc_columns:\n",
    "    df.loc[:, column] = df[column] * 1000\n",
    "\n",
    "out_filename = os.sep.join([out_dir, base_filename])\n",
    "df.to_csv(out_filename, index=False)\n",
    "'''"
   ]
  },
  {
   "cell_type": "code",
   "execution_count": 45,
   "id": "6609572f",
   "metadata": {
    "execution": {
     "iopub.execute_input": "2025-05-15T04:30:02.852466Z",
     "iopub.status.busy": "2025-05-15T04:30:02.852380Z",
     "iopub.status.idle": "2025-05-15T04:30:02.854204Z",
     "shell.execute_reply": "2025-05-15T04:30:02.853878Z"
    }
   },
   "outputs": [],
   "source": [
    "# HIE_data.column_info(df)"
   ]
  },
  {
   "cell_type": "markdown",
   "id": "59078e77",
   "metadata": {},
   "source": [
    "## 01-09-pre-infection"
   ]
  },
  {
   "cell_type": "code",
   "execution_count": 46,
   "id": "71d9925b",
   "metadata": {
    "execution": {
     "iopub.execute_input": "2025-05-15T04:30:02.866746Z",
     "iopub.status.busy": "2025-05-15T04:30:02.866592Z",
     "iopub.status.idle": "2025-05-15T04:30:02.872700Z",
     "shell.execute_reply": "2025-05-15T04:30:02.870191Z"
    }
   },
   "outputs": [],
   "source": [
    "base_filename = '01-09-pre-infection.csv'"
   ]
  },
  {
   "cell_type": "code",
   "execution_count": 47,
   "id": "969ed294",
   "metadata": {
    "execution": {
     "iopub.execute_input": "2025-05-15T04:30:02.877200Z",
     "iopub.status.busy": "2025-05-15T04:30:02.877018Z",
     "iopub.status.idle": "2025-05-15T04:30:03.005591Z",
     "shell.execute_reply": "2025-05-15T04:30:03.004688Z"
    }
   },
   "outputs": [
    {
     "name": "stdout",
     "output_type": "stream",
     "text": [
      "(0/7) normalize_value: column: center"
     ]
    },
    {
     "name": "stdout",
     "output_type": "stream",
     "text": [
      "\n",
      "(1/7) normalize_value: column: subjectID\n",
      "(2/7) normalize_value: column: uniqueID\n",
      "(3/7) normalize_value: column: pre_Antibiotics\n",
      "(4/7) normalize_value: column: pre_AntibioticsCode1\n",
      "(5/7) normalize_value: column: pre_AntibioticsCode2\n",
      "(6/7) normalize_value: column: pre_AntibioticsCode3\n"
     ]
    }
   ],
   "source": [
    "filename = os.sep.join([input_dir, base_filename])\n",
    "df = pd.read_csv(filename, dtype='O')\n",
    "df = COMBINE_harmonizer.normalize_value(df, _VALUE_MAP, order_map=_ORDER_MAP)\n",
    "\n",
    "out_filename = os.sep.join([out_dir, base_filename])\n",
    "df.to_csv(out_filename, index=False)"
   ]
  },
  {
   "cell_type": "code",
   "execution_count": 48,
   "id": "d0a485cb",
   "metadata": {
    "execution": {
     "iopub.execute_input": "2025-05-15T04:30:03.009120Z",
     "iopub.status.busy": "2025-05-15T04:30:03.008755Z",
     "iopub.status.idle": "2025-05-15T04:30:03.015641Z",
     "shell.execute_reply": "2025-05-15T04:30:03.015366Z"
    }
   },
   "outputs": [
    {
     "name": "stdout",
     "output_type": "stream",
     "text": [
      "(0/14) center: (364/0)\n",
      "(1/14) center.orig: (364/0)\n",
      "(2/14) subjectID: (364/0)\n",
      "(3/14) subjectID.orig: (364/0)\n",
      "(4/14) uniqueID: (364/0)\n",
      "(5/14) uniqueID.orig: (364/0)\n",
      "(6/14) pre_Antibiotics: (364/0)\n",
      "(7/14) pre_Antibiotics.orig: (364/0)\n",
      "(8/14) pre_AntibioticsCode1: (364/0)\n",
      "(9/14) pre_AntibioticsCode1.orig: (308/56)\n",
      "(10/14) pre_AntibioticsCode2: (364/0)\n",
      "(11/14) pre_AntibioticsCode2.orig: (273/91)\n",
      "(12/14) pre_AntibioticsCode3: (364/0)\n",
      "(13/14) pre_AntibioticsCode3.orig: (8/356)\n"
     ]
    }
   ],
   "source": [
    "COMBINE_harmonizer.column_info(df)"
   ]
  },
  {
   "cell_type": "markdown",
   "id": "bd557ed2",
   "metadata": {},
   "source": [
    "## 01-10-pre-other-med"
   ]
  },
  {
   "cell_type": "code",
   "execution_count": 49,
   "id": "2703a0e3",
   "metadata": {
    "execution": {
     "iopub.execute_input": "2025-05-15T04:30:03.017143Z",
     "iopub.status.busy": "2025-05-15T04:30:03.017025Z",
     "iopub.status.idle": "2025-05-15T04:30:03.018679Z",
     "shell.execute_reply": "2025-05-15T04:30:03.018456Z"
    }
   },
   "outputs": [],
   "source": [
    "base_filename = '01-10-pre-other-med.csv'"
   ]
  },
  {
   "cell_type": "code",
   "execution_count": 50,
   "id": "c963b8d5",
   "metadata": {
    "execution": {
     "iopub.execute_input": "2025-05-15T04:30:03.019780Z",
     "iopub.status.busy": "2025-05-15T04:30:03.019705Z",
     "iopub.status.idle": "2025-05-15T04:30:03.137943Z",
     "shell.execute_reply": "2025-05-15T04:30:03.137331Z"
    }
   },
   "outputs": [
    {
     "name": "stdout",
     "output_type": "stream",
     "text": [
      "(0/17) normalize_value: column: center\n",
      "(1/17) normalize_value: column: subjectID\n",
      "(2/17) normalize_value: column: uniqueID\n",
      "(3/17) normalize_value: column: pre_Anticonvulsants1\n",
      "(4/17) normalize_value: column: pre_Anticonvulsants2\n",
      "(5/17) normalize_value: column: pre_Anticonvulsants3\n",
      "(6/17) normalize_value: column: pre_AnalgesicsSedatives1\n",
      "(7/17) normalize_value: column: pre_AnalgesicsSedatives2\n",
      "(8/17) normalize_value: column: pre_AnalgesicsSedatives3\n",
      "(9/17) normalize_value: column: pre_Antipyretics1\n",
      "(10/17) normalize_value: column: pre_Antipyretics2\n",
      "(11/17) normalize_value: column: pre_Antipyretics3\n",
      "(12/17) normalize_value: column: pre_Paralytics1\n",
      "(13/17) normalize_value: column: pre_Paralytics2\n",
      "(14/17) normalize_value: column: pre_Paralytics3\n",
      "(15/17) normalize_value: column: pre_OtherMedFluidIntake_ccPerKg\n",
      "(16/17) normalize_value: column: pre_OtherMedUrineOutput_ccPerKg\n"
     ]
    }
   ],
   "source": [
    "filename = os.sep.join([input_dir, base_filename])\n",
    "df = pd.read_csv(filename, dtype='O')\n",
    "df = COMBINE_harmonizer.normalize_value(df, _VALUE_MAP, order_map=_ORDER_MAP)\n",
    "\n",
    "out_filename = os.sep.join([out_dir, base_filename])\n",
    "df.to_csv(out_filename, index=False)"
   ]
  },
  {
   "cell_type": "code",
   "execution_count": 51,
   "id": "fbfe01e8",
   "metadata": {
    "execution": {
     "iopub.execute_input": "2025-05-15T04:30:03.141664Z",
     "iopub.status.busy": "2025-05-15T04:30:03.141146Z",
     "iopub.status.idle": "2025-05-15T04:30:03.153663Z",
     "shell.execute_reply": "2025-05-15T04:30:03.153055Z"
    }
   },
   "outputs": [
    {
     "name": "stdout",
     "output_type": "stream",
     "text": [
      "(0/34) center: (350/0)\n",
      "(1/34) center.orig: (350/0)\n",
      "(2/34) subjectID: (350/0)\n",
      "(3/34) subjectID.orig: (350/0)\n",
      "(4/34) uniqueID: (350/0)\n",
      "(5/34) uniqueID.orig: (350/0)\n",
      "(6/34) pre_Anticonvulsants1: (350/0)\n",
      "(7/34) pre_Anticonvulsants1.orig: (85/265)\n",
      "(8/34) pre_Anticonvulsants2: (350/0)\n",
      "(9/34) pre_Anticonvulsants2.orig: (13/337)\n",
      "(10/34) pre_Anticonvulsants3: (350/0)\n",
      "(11/34) pre_Anticonvulsants3.orig: (0/350)\n",
      "(12/34) pre_AnalgesicsSedatives1: (350/0)\n",
      "(13/34) pre_AnalgesicsSedatives1.orig: (74/276)\n",
      "(14/34) pre_AnalgesicsSedatives2: (350/0)\n",
      "(15/34) pre_AnalgesicsSedatives2.orig: (19/331)\n",
      "(16/34) pre_AnalgesicsSedatives3: (350/0)\n",
      "(17/34) pre_AnalgesicsSedatives3.orig: (1/349)\n",
      "(18/34) pre_Antipyretics1: (350/0)\n",
      "(19/34) pre_Antipyretics1.orig: (1/349)\n",
      "(20/34) pre_Antipyretics2: (350/0)\n",
      "(21/34) pre_Antipyretics2.orig: (0/350)\n",
      "(22/34) pre_Antipyretics3: (350/0)\n",
      "(23/34) pre_Antipyretics3.orig: (0/350)\n",
      "(24/34) pre_Paralytics1: (350/0)\n",
      "(25/34) pre_Paralytics1.orig: (2/348)\n",
      "(26/34) pre_Paralytics2: (350/0)\n",
      "(27/34) pre_Paralytics2.orig: (0/350)\n",
      "(28/34) pre_Paralytics3: (350/0)\n",
      "(29/34) pre_Paralytics3.orig: (0/350)\n",
      "(30/34) pre_OtherMedFluidIntake_ccPerKg: (350/0)\n",
      "(31/34) pre_OtherMedFluidIntake_ccPerKg.orig: (0/350)\n",
      "(32/34) pre_OtherMedUrineOutput_ccPerKg: (350/0)\n",
      "(33/34) pre_OtherMedUrineOutput_ccPerKg.orig: (0/350)\n"
     ]
    }
   ],
   "source": [
    "COMBINE_harmonizer.column_info(df)"
   ]
  },
  {
   "cell_type": "markdown",
   "id": "ceb557f0",
   "metadata": {},
   "source": [
    "## 01-11-pre-imaging"
   ]
  },
  {
   "cell_type": "code",
   "execution_count": 52,
   "id": "4ddfc622",
   "metadata": {
    "execution": {
     "iopub.execute_input": "2025-05-15T04:30:03.157436Z",
     "iopub.status.busy": "2025-05-15T04:30:03.157167Z",
     "iopub.status.idle": "2025-05-15T04:30:03.159827Z",
     "shell.execute_reply": "2025-05-15T04:30:03.159475Z"
    }
   },
   "outputs": [],
   "source": [
    "base_filename = '01-11-pre-imaging.csv'"
   ]
  },
  {
   "cell_type": "code",
   "execution_count": 53,
   "id": "19560b34",
   "metadata": {
    "execution": {
     "iopub.execute_input": "2025-05-15T04:30:03.161454Z",
     "iopub.status.busy": "2025-05-15T04:30:03.161299Z",
     "iopub.status.idle": "2025-05-15T04:30:03.303854Z",
     "shell.execute_reply": "2025-05-15T04:30:03.303012Z"
    }
   },
   "outputs": [
    {
     "name": "stdout",
     "output_type": "stream",
     "text": [
      "(0/39) normalize_value: column: center\n",
      "(1/39) normalize_value: column: subjectID\n",
      "(2/39) normalize_value: column: uniqueID\n",
      "(3/39) normalize_value: column: pre_HeadSonogram\n",
      "(4/39) normalize_value: column: pre_HeadSonogramResultText\n",
      "(5/39) normalize_value: column: pre_HeadCT\n",
      "(6/39) normalize_value: column: pre_HeadCTResultText\n",
      "(7/39) normalize_value: column: pre_BrainMRI\n",
      "(8/39) normalize_value: column: pre_BrainMRIResultText\n",
      "(9/39) normalize_value: column: pre_HeadSonogramDate\n",
      "(10/39) normalize_value: column: pre_HeadSonogramTime\n",
      "(11/39) normalize_value: column: pre_HeadSonogramResult1\n",
      "(12/39) normalize_value: column: pre_HeadSonogramResult2\n",
      "(13/39) normalize_value: column: pre_HeadSonogramResult3\n",
      "(14/39) normalize_value: column: pre_HeadSonogramResult4\n",
      "(15/39) normalize_value: column: pre_HeadSonogramResult5\n",
      "(16/39) normalize_value: column: pre_HeadSonogramResult6\n",
      "(17/39) normalize_value: column: pre_HeadSonogramResult7\n",
      "(18/39) normalize_value: column: pre_HeadSonogramResult8\n",
      "(19/39) normalize_value: column: pre_HeadCTDate\n",
      "(20/39) normalize_value: column: pre_HeadCTTime\n",
      "(21/39) normalize_value: column: pre_HeadCTResult1\n",
      "(22/39) normalize_value: column: pre_HeadCTResult2\n",
      "(23/39) normalize_value: column: pre_HeadCTResult3\n",
      "(24/39) normalize_value: column: pre_HeadCTResult4\n",
      "(25/39) normalize_value: column: pre_HeadCTResult5\n",
      "(26/39) normalize_value: column: pre_HeadCTResult6\n",
      "(27/39) normalize_value: column: pre_HeadCTResult7\n",
      "(28/39) normalize_value: column: pre_HeadCTResult8\n",
      "(29/39) normalize_value: column: pre_BrainMRIDate\n",
      "(30/39) normalize_value: column: pre_BrainMRITime\n",
      "(31/39) normalize_value: column: pre_BrainMRIResult1\n",
      "(32/39) normalize_value: column: pre_BrainMRIResult2\n",
      "(33/39) normalize_value: column: pre_BrainMRIResult3\n",
      "(34/39) normalize_value: column: pre_BrainMRIResult4\n",
      "(35/39) normalize_value: column: pre_BrainMRIResult5\n",
      "(36/39) normalize_value: column: pre_BrainMRIResult6\n",
      "(37/39) normalize_value: column: pre_BrainMRIResult7\n",
      "(38/39) normalize_value: column: pre_BrainMRIResult8\n"
     ]
    }
   ],
   "source": [
    "filename = os.sep.join([input_dir, base_filename])\n",
    "df = pd.read_csv(filename, dtype='O')\n",
    "df = COMBINE_harmonizer.normalize_value(df, _VALUE_MAP, order_map=_ORDER_MAP)\n",
    "\n",
    "out_filename = os.sep.join([out_dir, base_filename])\n",
    "df.to_csv(out_filename, index=False)"
   ]
  },
  {
   "cell_type": "code",
   "execution_count": 54,
   "id": "7e0b6b97",
   "metadata": {
    "execution": {
     "iopub.execute_input": "2025-05-15T04:30:03.309059Z",
     "iopub.status.busy": "2025-05-15T04:30:03.308627Z",
     "iopub.status.idle": "2025-05-15T04:30:03.323469Z",
     "shell.execute_reply": "2025-05-15T04:30:03.323223Z"
    }
   },
   "outputs": [
    {
     "name": "stdout",
     "output_type": "stream",
     "text": [
      "(0/78) center: (350/0)\n",
      "(1/78) center.orig: (350/0)\n",
      "(2/78) subjectID: (350/0)\n",
      "(3/78) subjectID.orig: (350/0)\n",
      "(4/78) uniqueID: (350/0)\n",
      "(5/78) uniqueID.orig: (350/0)\n",
      "(6/78) pre_HeadSonogram: (350/0)\n",
      "(7/78) pre_HeadSonogram.orig: (350/0)\n",
      "(8/78) pre_HeadSonogramDate: (350/0)\n",
      "(9/78) pre_HeadSonogramDate.orig: (17/333)\n",
      "(10/78) pre_HeadSonogramTime: (350/0)\n",
      "(11/78) pre_HeadSonogramTime.orig: (17/333)\n",
      "(12/78) pre_HeadSonogramResult1: (350/0)\n",
      "(13/78) pre_HeadSonogramResult1.orig: (16/334)\n",
      "(14/78) pre_HeadSonogramResult2: (350/0)\n",
      "(15/78) pre_HeadSonogramResult2.orig: (1/349)\n",
      "(16/78) pre_HeadSonogramResult3: (350/0)\n",
      "(17/78) pre_HeadSonogramResult3.orig: (0/350)\n",
      "(18/78) pre_HeadSonogramResult4: (350/0)\n",
      "(19/78) pre_HeadSonogramResult4.orig: (0/350)\n",
      "(20/78) pre_HeadSonogramResult5: (350/0)\n",
      "(21/78) pre_HeadSonogramResult5.orig: (0/350)\n",
      "(22/78) pre_HeadSonogramResult6: (350/0)\n",
      "(23/78) pre_HeadSonogramResult6.orig: (0/350)\n",
      "(24/78) pre_HeadSonogramResult7: (350/0)\n",
      "(25/78) pre_HeadSonogramResult7.orig: (0/350)\n",
      "(26/78) pre_HeadSonogramResult8: (350/0)\n",
      "(27/78) pre_HeadSonogramResult8.orig: (0/350)\n",
      "(28/78) pre_HeadSonogramResultText: (350/0)\n",
      "(29/78) pre_HeadSonogramResultText.orig: (3/347)\n",
      "(30/78) pre_HeadCT: (350/0)\n",
      "(31/78) pre_HeadCT.orig: (350/0)\n",
      "(32/78) pre_HeadCTDate: (350/0)\n",
      "(33/78) pre_HeadCTDate.orig: (2/348)\n",
      "(34/78) pre_HeadCTTime: (350/0)\n",
      "(35/78) pre_HeadCTTime.orig: (2/348)\n",
      "(36/78) pre_HeadCTResult1: (350/0)\n",
      "(37/78) pre_HeadCTResult1.orig: (2/348)\n",
      "(38/78) pre_HeadCTResult2: (350/0)\n",
      "(39/78) pre_HeadCTResult2.orig: (1/349)\n",
      "(40/78) pre_HeadCTResult3: (350/0)\n",
      "(41/78) pre_HeadCTResult3.orig: (1/349)\n",
      "(42/78) pre_HeadCTResult4: (350/0)\n",
      "(43/78) pre_HeadCTResult4.orig: (1/349)\n",
      "(44/78) pre_HeadCTResult5: (350/0)\n",
      "(45/78) pre_HeadCTResult5.orig: (0/350)\n",
      "(46/78) pre_HeadCTResult6: (350/0)\n",
      "(47/78) pre_HeadCTResult6.orig: (0/350)\n",
      "(48/78) pre_HeadCTResult7: (350/0)\n",
      "(49/78) pre_HeadCTResult7.orig: (0/350)\n",
      "(50/78) pre_HeadCTResult8: (350/0)\n",
      "(51/78) pre_HeadCTResult8.orig: (0/350)\n",
      "(52/78) pre_HeadCTResultText: (350/0)\n",
      "(53/78) pre_HeadCTResultText.orig: (2/348)\n",
      "(54/78) pre_BrainMRI: (350/0)\n",
      "(55/78) pre_BrainMRI.orig: (350/0)\n",
      "(56/78) pre_BrainMRIDate: (350/0)\n",
      "(57/78) pre_BrainMRIDate.orig: (0/350)\n",
      "(58/78) pre_BrainMRITime: (350/0)\n",
      "(59/78) pre_BrainMRITime.orig: (0/350)\n",
      "(60/78) pre_BrainMRIResult1: (350/0)\n",
      "(61/78) pre_BrainMRIResult1.orig: (0/350)\n",
      "(62/78) pre_BrainMRIResult2: (350/0)\n",
      "(63/78) pre_BrainMRIResult2.orig: (0/350)\n",
      "(64/78) pre_BrainMRIResult3: (350/0)\n",
      "(65/78) pre_BrainMRIResult3.orig: (0/350)\n",
      "(66/78) pre_BrainMRIResult4: (350/0)\n",
      "(67/78) pre_BrainMRIResult4.orig: (0/350)\n",
      "(68/78) pre_BrainMRIResult5: (350/0)\n",
      "(69/78) pre_BrainMRIResult5.orig: (0/350)\n",
      "(70/78) pre_BrainMRIResult6: (350/0)\n",
      "(71/78) pre_BrainMRIResult6.orig: (0/350)\n",
      "(72/78) pre_BrainMRIResult7: (350/0)\n",
      "(73/78) pre_BrainMRIResult7.orig: (0/350)\n",
      "(74/78) pre_BrainMRIResult8: (350/0)\n",
      "(75/78) pre_BrainMRIResult8.orig: (0/350)\n",
      "(76/78) pre_BrainMRIResultText: (350/0)\n",
      "(77/78) pre_BrainMRIResultText.orig: (0/350)\n"
     ]
    }
   ],
   "source": [
    "COMBINE_harmonizer.column_info(df)"
   ]
  },
  {
   "cell_type": "markdown",
   "id": "91cd90b4-436f-4261-8ff1-96ec0ac6e0c0",
   "metadata": {},
   "source": [
    "## 02-01-temperature"
   ]
  },
  {
   "cell_type": "code",
   "execution_count": 55,
   "id": "242bd512-0c8f-496a-9390-9aff449b4f68",
   "metadata": {
    "execution": {
     "iopub.execute_input": "2025-05-15T04:30:03.324855Z",
     "iopub.status.busy": "2025-05-15T04:30:03.324777Z",
     "iopub.status.idle": "2025-05-15T04:30:03.326488Z",
     "shell.execute_reply": "2025-05-15T04:30:03.326297Z"
    }
   },
   "outputs": [],
   "source": [
    "_FLATTEN_IDS = ['temperatureTimeSlot_min']\n",
    "base_filename = '02-01-temperature.csv'"
   ]
  },
  {
   "cell_type": "code",
   "execution_count": 56,
   "id": "76e4def5-3326-4426-993f-2bab5580d16c",
   "metadata": {
    "execution": {
     "iopub.execute_input": "2025-05-15T04:30:03.328568Z",
     "iopub.status.busy": "2025-05-15T04:30:03.327599Z",
     "iopub.status.idle": "2025-05-15T04:30:03.768965Z",
     "shell.execute_reply": "2025-05-15T04:30:03.768677Z"
    }
   },
   "outputs": [
    {
     "name": "stdout",
     "output_type": "stream",
     "text": [
      "(0/14) normalize_value: column: center\n",
      "(1/14) normalize_value: column: subjectID\n",
      "(2/14) normalize_value: column: uniqueID\n",
      "(3/14) normalize_value: column: alterationSkinIntegrity\n",
      "(4/14) normalize_value: column: shiver\n",
      "(5/14) normalize_value: column: temperatureTimeSlot_min\n",
      "(6/14) normalize_value: column: temperatureTimeSlotNoForm\n"
     ]
    },
    {
     "name": "stdout",
     "output_type": "stream",
     "text": [
      "(7/14) normalize_value: column: temperatureDate\n",
      "(8/14) normalize_value: column: temperatureTime\n",
      "(9/14) normalize_value: column: skinTemperature_C\n",
      "(10/14) normalize_value: column: axillaryTemperature_C\n",
      "(11/14) normalize_value: column: esophagealTemperature_C\n",
      "(12/14) normalize_value: column: blanketTemperature_C\n",
      "(13/14) normalize_value: column: servoSetTemperature_C\n"
     ]
    },
    {
     "name": "stdout",
     "output_type": "stream",
     "text": [
      "flatten_index: flatten_ids: ['temperatureTimeSlot_min'] unique_id_map: {np.int64(0): np.int64(0), np.int64(15): np.int64(15), np.int64(30): np.int64(30), np.int64(45): np.int64(45), np.int64(60): np.int64(60), np.int64(75): np.int64(75), np.int64(90): np.int64(90), np.int64(105): np.int64(105), np.int64(120): np.int64(120), np.int64(135): np.int64(135), np.int64(150): np.int64(150), np.int64(165): np.int64(165), np.int64(180): np.int64(180), np.int64(195): np.int64(195), np.int64(210): np.int64(210), np.int64(225): np.int64(225), np.int64(240): np.int64(240), np.int64(300): np.int64(300), np.int64(360): np.int64(360), np.int64(420): np.int64(420), np.int64(480): np.int64(480), np.int64(540): np.int64(540), np.int64(600): np.int64(600), np.int64(660): np.int64(660), np.int64(720): np.int64(720), np.int64(960): np.int64(960), np.int64(1200): np.int64(1200), np.int64(1440): np.int64(1440), np.int64(1680): np.int64(1680), np.int64(1920): np.int64(1920), np.int64(2160): np.int64(2160), np.int64(2400): np.int64(2400), np.int64(2640): np.int64(2640), np.int64(2880): np.int64(2880), np.int64(3120): np.int64(3120), np.int64(3360): np.int64(3360), np.int64(3600): np.int64(3600), np.int64(3840): np.int64(3840), np.int64(4080): np.int64(4080), np.int64(4320): np.int64(4320), np.int64(4440): np.int64(4440), np.int64(4560): np.int64(4560), np.int64(4680): np.int64(4680), np.int64(4800): np.int64(4800), np.int64(4920): np.int64(4920), np.int64(5040): np.int64(5040), np.int64(5160): np.int64(5160), np.int64(5280): np.int64(5280), np.int64(5400): np.int64(5400), np.int64(5520): np.int64(5520), np.int64(5640): np.int64(5640), np.int64(5760): np.int64(5760), np.int64(5880): np.int64(5880), np.int64(6000): np.int64(6000), np.int64(6120): np.int64(6120), np.int64(6240): np.int64(6240), np.int64(6360): np.int64(6360), np.int64(6480): np.int64(6480), np.int64(6600): np.int64(6600), np.int64(6720): np.int64(6720), np.int64(6840): np.int64(6840), np.int64(6960): np.int64(6960), np.int64(7080): np.int64(7080), np.int64(7200): np.int64(7200), np.int64(7320): np.int64(7320), np.int64(7440): np.int64(7440), np.int64(7560): np.int64(7560), np.int64(7680): np.int64(7680), np.int64(7800): np.int64(7800), np.int64(7920): np.int64(7920), np.int64(8040): np.int64(8040), np.int64(8160): np.int64(8160), np.int64(8280): np.int64(8280), np.int64(8400): np.int64(8400), np.int64(8520): np.int64(8520), np.int64(8640): np.int64(8640), np.int64(8760): np.int64(8760), np.int64(8880): np.int64(8880), np.int64(9000): np.int64(9000), np.int64(9120): np.int64(9120), np.int64(9240): np.int64(9240), np.int64(9360): np.int64(9360), np.int64(9480): np.int64(9480), np.int64(9600): np.int64(9600), np.int64(9720): np.int64(9720), np.int64(9840): np.int64(9840), np.int64(9960): np.int64(9960)} the_type: int64\n"
     ]
    }
   ],
   "source": [
    "filename = os.sep.join([input_dir, base_filename])\n",
    "df = pd.read_csv(filename, dtype='O')\n",
    "\n",
    "df['temperatureTimeSlot_min'] = df['temperatureTimeSlot_min'].apply(lambda x: str(int(float(x) * 60)))\n",
    "\n",
    "df = COMBINE_harmonizer.normalize_value(df, _VALUE_MAP, _FLATTEN_IDS, order_map=_ORDER_MAP)\n"
   ]
  },
  {
   "cell_type": "code",
   "execution_count": 57,
   "id": "7509019d-4d41-4acf-a7f4-e2cd47ecd9fb",
   "metadata": {
    "execution": {
     "iopub.execute_input": "2025-05-15T04:30:03.770397Z",
     "iopub.status.busy": "2025-05-15T04:30:03.770309Z",
     "iopub.status.idle": "2025-05-15T04:30:04.034082Z",
     "shell.execute_reply": "2025-05-15T04:30:04.033583Z"
    }
   },
   "outputs": [],
   "source": [
    "out_filename = os.sep.join([out_dir, base_filename])\n",
    "df.to_csv(out_filename, index=False)"
   ]
  },
  {
   "cell_type": "code",
   "execution_count": 58,
   "id": "274cf782",
   "metadata": {
    "execution": {
     "iopub.execute_input": "2025-05-15T04:30:04.036787Z",
     "iopub.status.busy": "2025-05-15T04:30:04.036618Z",
     "iopub.status.idle": "2025-05-15T04:30:04.054921Z",
     "shell.execute_reply": "2025-05-15T04:30:04.054625Z"
    }
   },
   "outputs": [
    {
     "name": "stdout",
     "output_type": "stream",
     "text": [
      "(0/29) center: (18275/0)\n",
      "(1/29) center.orig: (18275/0)\n",
      "(2/29) subjectID: (18275/0)\n",
      "(3/29) subjectID.orig: (18275/0)\n",
      "(4/29) uniqueID: (18275/0)\n",
      "(5/29) uniqueID.orig: (18275/0)\n",
      "(6/29) _flatten_index: (18275/0)\n",
      "(7/29) temperatureTimeSlot_min: (18275/0)\n",
      "(8/29) temperatureTimeSlot_min.orig: (18275/0)\n",
      "(9/29) temperatureTimeSlotNoForm: (18275/0)\n",
      "(10/29) temperatureTimeSlotNoForm.orig: (0/18275)\n",
      "(11/29) temperatureDate: (18275/0)\n",
      "(12/29) temperatureDate.orig: (18226/49)\n",
      "(13/29) temperatureTime: (18275/0)\n",
      "(14/29) temperatureTime.orig: (18168/107)\n",
      "(15/29) skinTemperature_C: (18275/0)\n",
      "(16/29) skinTemperature_C.orig: (17237/1038)\n",
      "(17/29) axillaryTemperature_C: (18275/0)\n",
      "(18/29) axillaryTemperature_C.orig: (250/18025)\n",
      "(19/29) esophagealTemperature_C: (18275/0)\n",
      "(20/29) esophagealTemperature_C.orig: (17723/552)\n",
      "(21/29) blanketTemperature_C: (18275/0)\n",
      "(22/29) blanketTemperature_C.orig: (17242/1033)\n",
      "(23/29) servoSetTemperature_C: (18275/0)\n",
      "(24/29) servoSetTemperature_C.orig: (17677/598)\n",
      "(25/29) alterationSkinIntegrity: (18275/0)\n",
      "(26/29) alterationSkinIntegrity.orig: (1335/16940)\n",
      "(27/29) shiver: (18275/0)\n",
      "(28/29) shiver.orig: (1335/16940)\n"
     ]
    }
   ],
   "source": [
    "COMBINE_harmonizer.column_info(df)"
   ]
  },
  {
   "cell_type": "markdown",
   "id": "4b560ac6",
   "metadata": {},
   "source": [
    "## 02-02-cardiovascular"
   ]
  },
  {
   "cell_type": "code",
   "execution_count": 59,
   "id": "e26964cc",
   "metadata": {
    "execution": {
     "iopub.execute_input": "2025-05-15T04:30:04.056571Z",
     "iopub.status.busy": "2025-05-15T04:30:04.056442Z",
     "iopub.status.idle": "2025-05-15T04:30:04.058719Z",
     "shell.execute_reply": "2025-05-15T04:30:04.058383Z"
    }
   },
   "outputs": [],
   "source": [
    "_FLATTEN_IDS = ['cardioTimeSlot_min']\n",
    "base_filename = '02-02-cardiovascular.csv'"
   ]
  },
  {
   "cell_type": "code",
   "execution_count": 60,
   "id": "8576aad5",
   "metadata": {
    "execution": {
     "iopub.execute_input": "2025-05-15T04:30:04.060374Z",
     "iopub.status.busy": "2025-05-15T04:30:04.060220Z",
     "iopub.status.idle": "2025-05-15T04:30:04.308873Z",
     "shell.execute_reply": "2025-05-15T04:30:04.308511Z"
    }
   },
   "outputs": [
    {
     "name": "stdout",
     "output_type": "stream",
     "text": [
      "(0/13) normalize_value: column: center\n",
      "(1/13) normalize_value: column: subjectID\n",
      "(2/13) normalize_value: column: uniqueID\n",
      "(3/13) normalize_value: column: cardioVolumeExpand\n",
      "(4/13) normalize_value: column: cardioInotropicAgent\n",
      "(5/13) normalize_value: column: cardioBloodTransfusion\n",
      "(6/13) normalize_value: column: cardioPlatelets\n",
      "(7/13) normalize_value: column: cardioTimeSlot_min\n",
      "(8/13) normalize_value: column: cardioDate\n",
      "(9/13) normalize_value: column: cardioTime\n",
      "(10/13) normalize_value: column: cardioSystolicBloodPressure_mmHg\n",
      "(11/13) normalize_value: column: cardioDiastolicBloodPressure_mmHg\n",
      "(12/13) normalize_value: column: cardioHeartRate_BPM\n",
      "flatten_index: flatten_ids: ['cardioTimeSlot_min'] unique_id_map: {np.int64(1): np.int64(1), np.int64(4): np.int64(4), np.int64(8): np.int64(8), np.int64(12): np.int64(12), np.int64(16): np.int64(16), np.int64(20): np.int64(20), np.int64(24): np.int64(24), np.int64(28): np.int64(28), np.int64(32): np.int64(32), np.int64(36): np.int64(36), np.int64(40): np.int64(40), np.int64(44): np.int64(44), np.int64(48): np.int64(48), np.int64(52): np.int64(52), np.int64(56): np.int64(56), np.int64(60): np.int64(60), np.int64(64): np.int64(64), np.int64(68): np.int64(68), np.int64(72): np.int64(72), np.int64(76): np.int64(76), np.int64(80): np.int64(80), np.int64(84): np.int64(84), np.int64(88): np.int64(88), np.int64(92): np.int64(92), np.int64(96): np.int64(96), np.int64(100): np.int64(100), np.int64(104): np.int64(104), np.int64(108): np.int64(108), np.int64(112): np.int64(112), np.int64(116): np.int64(116), np.int64(120): np.int64(120), np.int64(124): np.int64(124), np.int64(128): np.int64(128), np.int64(132): np.int64(132), np.int64(136): np.int64(136), np.int64(140): np.int64(140), np.int64(144): np.int64(144), np.int64(148): np.int64(148), np.int64(152): np.int64(152), np.int64(156): np.int64(156), np.int64(160): np.int64(160), np.int64(164): np.int64(164), np.int64(168): np.int64(168), np.int64(172): np.int64(172), np.int64(176): np.int64(176), np.int64(180): np.int64(180), np.int64(184): np.int64(184), np.int64(188): np.int64(188), np.int64(192): np.int64(192), np.int64(196): np.int64(196), np.int64(200): np.int64(200), np.int64(204): np.int64(204), np.int64(208): np.int64(208), np.int64(212): np.int64(212), np.int64(216): np.int64(216), np.int64(220): np.int64(220), np.int64(224): np.int64(224), np.int64(228): np.int64(228), np.int64(232): np.int64(232), np.int64(236): np.int64(236), np.int64(240): np.int64(240), np.int64(244): np.int64(244), np.int64(248): np.int64(248), np.int64(252): np.int64(252), np.int64(256): np.int64(256), np.int64(260): np.int64(260), np.int64(264): np.int64(264), np.int64(268): np.int64(268), np.int64(272): np.int64(272), np.int64(276): np.int64(276), np.int64(280): np.int64(280), np.int64(284): np.int64(284), np.int64(288): np.int64(288)} the_type: int64\n"
     ]
    }
   ],
   "source": [
    "filename = os.sep.join([input_dir, base_filename])\n",
    "df = pd.read_csv(filename, dtype='O')\n",
    "df = COMBINE_harmonizer.normalize_value(df, _VALUE_MAP, _FLATTEN_IDS, order_map=_ORDER_MAP)"
   ]
  },
  {
   "cell_type": "code",
   "execution_count": 61,
   "id": "bf061c3c",
   "metadata": {
    "execution": {
     "iopub.execute_input": "2025-05-15T04:30:04.310293Z",
     "iopub.status.busy": "2025-05-15T04:30:04.310211Z",
     "iopub.status.idle": "2025-05-15T04:30:04.312701Z",
     "shell.execute_reply": "2025-05-15T04:30:04.312498Z"
    }
   },
   "outputs": [
    {
     "name": "stdout",
     "output_type": "stream",
     "text": [
      "_flatten_index: ([  0   4   8  12  16  20  24  28  32  36  40  44  48  52  56  60  64  68\n",
      "  72  76  80  84  88  92  96 100 104 108 112 116 120 124 128 132 136 140\n",
      " 144 148 152 156 160 164 168 172 176 180 184 188 192 196 200 204 208 212\n",
      " 216 220 224 228 232 236 240 244 248 252 256 260 264 268 272 276 280 284\n",
      " 288] / int64)\n"
     ]
    }
   ],
   "source": [
    "# XXX hack for _flatten_index: 1 as 0\n",
    "is_flatten_index_1 = df[COMBINE_harmonizer.FLATTEN_INDEX] == 1\n",
    "df.loc[is_flatten_index_1, COMBINE_harmonizer.FLATTEN_INDEX] = 0\n",
    "\n",
    "print(f\"_flatten_index: ({df[COMBINE_harmonizer.FLATTEN_INDEX].unique()} / {df[COMBINE_harmonizer.FLATTEN_INDEX].dtype})\")"
   ]
  },
  {
   "cell_type": "code",
   "execution_count": 62,
   "id": "3aa52915",
   "metadata": {
    "execution": {
     "iopub.execute_input": "2025-05-15T04:30:04.313943Z",
     "iopub.status.busy": "2025-05-15T04:30:04.313875Z",
     "iopub.status.idle": "2025-05-15T04:30:04.503094Z",
     "shell.execute_reply": "2025-05-15T04:30:04.502736Z"
    }
   },
   "outputs": [],
   "source": [
    "out_filename = os.sep.join([out_dir, base_filename])\n",
    "df.to_csv(out_filename, index=False)"
   ]
  },
  {
   "cell_type": "code",
   "execution_count": 63,
   "id": "04481743",
   "metadata": {
    "execution": {
     "iopub.execute_input": "2025-05-15T04:30:04.504982Z",
     "iopub.status.busy": "2025-05-15T04:30:04.504831Z",
     "iopub.status.idle": "2025-05-15T04:30:04.516977Z",
     "shell.execute_reply": "2025-05-15T04:30:04.516619Z"
    }
   },
   "outputs": [
    {
     "name": "stdout",
     "output_type": "stream",
     "text": [
      "(0/27) center: (9573/0)\n",
      "(1/27) center.orig: (9573/0)\n",
      "(2/27) subjectID: (9573/0)\n",
      "(3/27) subjectID.orig: (9573/0)\n",
      "(4/27) uniqueID: (9573/0)\n",
      "(5/27) uniqueID.orig: (9573/0)\n",
      "(6/27) _flatten_index: (9573/0)\n",
      "(7/27) cardioTimeSlot_min: (9573/0)\n",
      "(8/27) cardioTimeSlot_min.orig: (9573/0)\n",
      "(9/27) cardioDate: (9573/0)\n",
      "(10/27) cardioDate.orig: (9565/8)\n",
      "(11/27) cardioTime: (9573/0)\n",
      "(12/27) cardioTime.orig: (9551/22)\n",
      "(13/27) cardioSystolicBloodPressure_mmHg: (9573/0)\n",
      "(14/27) cardioSystolicBloodPressure_mmHg.orig: (9087/486)\n",
      "(15/27) cardioDiastolicBloodPressure_mmHg: (9573/0)\n",
      "(16/27) cardioDiastolicBloodPressure_mmHg.orig: (9087/486)\n",
      "(17/27) cardioHeartRate_BPM: (9573/0)\n",
      "(18/27) cardioHeartRate_BPM.orig: (9460/113)\n",
      "(19/27) cardioVolumeExpand: (9573/0)\n",
      "(20/27) cardioVolumeExpand.orig: (9565/8)\n",
      "(21/27) cardioInotropicAgent: (9573/0)\n",
      "(22/27) cardioInotropicAgent.orig: (9565/8)\n",
      "(23/27) cardioBloodTransfusion: (9573/0)\n",
      "(24/27) cardioBloodTransfusion.orig: (9565/8)\n",
      "(25/27) cardioPlatelets: (9573/0)\n",
      "(26/27) cardioPlatelets.orig: (9565/8)\n"
     ]
    }
   ],
   "source": [
    "COMBINE_harmonizer.column_info(df)"
   ]
  },
  {
   "cell_type": "markdown",
   "id": "2a370b10",
   "metadata": {},
   "source": [
    "## 02-03-respiratory"
   ]
  },
  {
   "cell_type": "code",
   "execution_count": 64,
   "id": "8b4e3347",
   "metadata": {
    "execution": {
     "iopub.execute_input": "2025-05-15T04:30:04.518782Z",
     "iopub.status.busy": "2025-05-15T04:30:04.518632Z",
     "iopub.status.idle": "2025-05-15T04:30:04.520560Z",
     "shell.execute_reply": "2025-05-15T04:30:04.520267Z"
    }
   },
   "outputs": [],
   "source": [
    "_FLATTEN_IDS = ['respiratoryTimeSlot_min']\n",
    "base_filename = '02-03-respiratory.csv'"
   ]
  },
  {
   "cell_type": "code",
   "execution_count": 65,
   "id": "b2bba6c5",
   "metadata": {
    "execution": {
     "iopub.execute_input": "2025-05-15T04:30:04.522105Z",
     "iopub.status.busy": "2025-05-15T04:30:04.521967Z",
     "iopub.status.idle": "2025-05-15T04:30:04.624988Z",
     "shell.execute_reply": "2025-05-15T04:30:04.624733Z"
    }
   },
   "outputs": [
    {
     "name": "stdout",
     "output_type": "stream",
     "text": [
      "(0/12) normalize_value: column: center\n",
      "(1/12) normalize_value: column: subjectID\n",
      "(2/12) normalize_value: column: uniqueID\n",
      "(3/12) normalize_value: column: respiratoryTimeSlot_min\n",
      "(4/12) normalize_value: column: respiratoryDate\n",
      "(5/12) normalize_value: column: respiratoryTime\n",
      "(6/12) normalize_value: column: respiratorySupportType\n",
      "(7/12) normalize_value: column: respiratoryFiO2\n",
      "(8/12) normalize_value: column: respiratoryRate_Hz\n",
      "(9/12) normalize_value: column: respiratoryPIP_cmH2O\n",
      "(10/12) normalize_value: column: respiratoryMAP_cmH2O\n",
      "(11/12) normalize_value: column: respiratoryPEEP_cmH2O\n",
      "flatten_index: flatten_ids: ['respiratoryTimeSlot_min'] unique_id_map: {np.int64(1): np.int64(1), np.int64(24): np.int64(24), np.int64(48): np.int64(48), np.int64(72): np.int64(72), np.int64(96): np.int64(96), np.int64(120): np.int64(120), np.int64(144): np.int64(144), np.int64(168): np.int64(168), np.int64(192): np.int64(192), np.int64(216): np.int64(216)} the_type: int64\n"
     ]
    }
   ],
   "source": [
    "filename = os.sep.join([input_dir, base_filename])\n",
    "df = pd.read_csv(filename, dtype='O')\n",
    "df = COMBINE_harmonizer.normalize_value(df, _VALUE_MAP, _FLATTEN_IDS, order_map=_ORDER_MAP)"
   ]
  },
  {
   "cell_type": "code",
   "execution_count": 66,
   "id": "36070d8c",
   "metadata": {
    "execution": {
     "iopub.execute_input": "2025-05-15T04:30:04.626305Z",
     "iopub.status.busy": "2025-05-15T04:30:04.626220Z",
     "iopub.status.idle": "2025-05-15T04:30:04.628559Z",
     "shell.execute_reply": "2025-05-15T04:30:04.628348Z"
    }
   },
   "outputs": [
    {
     "name": "stdout",
     "output_type": "stream",
     "text": [
      "_flatten_index: ([  0  24  48  72  96 120 144 168 192 216] / int64)\n"
     ]
    }
   ],
   "source": [
    "# XXX hack for _flatten_index: 1 as 0\n",
    "is_flatten_index_1 = df[COMBINE_harmonizer.FLATTEN_INDEX] == 1\n",
    "df.loc[is_flatten_index_1, COMBINE_harmonizer.FLATTEN_INDEX] = 0\n",
    "\n",
    "print(f\"_flatten_index: ({df[COMBINE_harmonizer.FLATTEN_INDEX].unique()} / {df[COMBINE_harmonizer.FLATTEN_INDEX].dtype})\")"
   ]
  },
  {
   "cell_type": "code",
   "execution_count": 67,
   "id": "6fd1fe4c",
   "metadata": {
    "execution": {
     "iopub.execute_input": "2025-05-15T04:30:04.629716Z",
     "iopub.status.busy": "2025-05-15T04:30:04.629641Z",
     "iopub.status.idle": "2025-05-15T04:30:04.707517Z",
     "shell.execute_reply": "2025-05-15T04:30:04.707207Z"
    }
   },
   "outputs": [],
   "source": [
    "out_filename = os.sep.join([out_dir, base_filename])\n",
    "df.to_csv(out_filename, index=False)"
   ]
  },
  {
   "cell_type": "markdown",
   "id": "31f90938",
   "metadata": {},
   "source": [
    "## 02-04-blood-gas"
   ]
  },
  {
   "cell_type": "code",
   "execution_count": 68,
   "id": "4aa70d28",
   "metadata": {
    "execution": {
     "iopub.execute_input": "2025-05-15T04:30:04.709259Z",
     "iopub.status.busy": "2025-05-15T04:30:04.709156Z",
     "iopub.status.idle": "2025-05-15T04:30:04.710986Z",
     "shell.execute_reply": "2025-05-15T04:30:04.710689Z"
    }
   },
   "outputs": [],
   "source": [
    "_FLATTEN_IDS = ['bloodGasTimeSlot_min']\n",
    "base_filename = '02-04-blood-gas.csv'"
   ]
  },
  {
   "cell_type": "code",
   "execution_count": 69,
   "id": "7446e9bd",
   "metadata": {
    "execution": {
     "iopub.execute_input": "2025-05-15T04:30:04.712429Z",
     "iopub.status.busy": "2025-05-15T04:30:04.712314Z",
     "iopub.status.idle": "2025-05-15T04:30:04.957099Z",
     "shell.execute_reply": "2025-05-15T04:30:04.956840Z"
    }
   },
   "outputs": [
    {
     "name": "stdout",
     "output_type": "stream",
     "text": [
      "(0/17) normalize_value: column: center\n",
      "(1/17) normalize_value: column: subjectID\n",
      "(2/17) normalize_value: column: uniqueID\n",
      "(3/17) normalize_value: column: bloodGasSrc\n",
      "[WARN] unable to get value: sheet_name: bloodGasSrc value: * value_float:  value_int: \n",
      "[WARN] unable to get value: sheet_name: bloodGasSrc value: * value_float:  value_int: \n",
      "[WARN] unable to get value: sheet_name: bloodGasSrc value: * value_float:  value_int: \n",
      "[WARN] unable to get value: sheet_name: bloodGasSrc value: * value_float:  value_int: \n",
      "[WARN] unable to get value: sheet_name: bloodGasSrc value: * value_float:  value_int: \n",
      "[WARN] unable to get value: sheet_name: bloodGasSrc value: * value_float:  value_int: \n",
      "[WARN] unable to get value: sheet_name: bloodGasSrc value: * value_float:  value_int: \n",
      "[WARN] unable to get value: sheet_name: bloodGasSrc value: * value_float:  value_int: \n",
      "[WARN] unable to get value: sheet_name: bloodGasSrc value: * value_float:  value_int: \n",
      "[WARN] unable to get value: sheet_name: bloodGasSrc value: * value_float:  value_int: \n",
      "[WARN] unable to get value: sheet_name: bloodGasSrc value: * value_float:  value_int: \n",
      "[WARN] unable to get value: sheet_name: bloodGasSrc value: * value_float:  value_int: \n",
      "[WARN] unable to get value: sheet_name: bloodGasSrc value: * value_float:  value_int: \n",
      "[WARN] unable to get value: sheet_name: bloodGasSrc value: * value_float:  value_int: \n",
      "[WARN] unable to get value: sheet_name: bloodGasSrc value: * value_float:  value_int: \n",
      "[WARN] unable to get value: sheet_name: bloodGasSrc value: * value_float:  value_int: \n",
      "[WARN] unable to get value: sheet_name: bloodGasSrc value: * value_float:  value_int: \n",
      "[WARN] unable to get value: sheet_name: bloodGasSrc value: * value_float:  value_int: \n",
      "[WARN] unable to get value: sheet_name: bloodGasSrc value: * value_float:  value_int: \n",
      "[WARN] unable to get value: sheet_name: bloodGasSrc value: * value_float:  value_int: \n",
      "[WARN] unable to get value: sheet_name: bloodGasSrc value: * value_float:  value_int: \n",
      "[WARN] unable to get value: sheet_name: bloodGasSrc value: * value_float:  value_int: \n",
      "[WARN] unable to get value: sheet_name: bloodGasSrc value: * value_float:  value_int: \n",
      "[WARN] unable to get value: sheet_name: bloodGasSrc value: * value_float:  value_int: \n",
      "[WARN] unable to get value: sheet_name: bloodGasSrc value: * value_float:  value_int: \n",
      "[WARN] unable to get value: sheet_name: bloodGasSrc value: * value_float:  value_int: \n",
      "[WARN] unable to get value: sheet_name: bloodGasSrc value: * value_float:  value_int: \n",
      "[WARN] unable to get value: sheet_name: bloodGasSrc value: * value_float:  value_int: \n",
      "[WARN] unable to get value: sheet_name: bloodGasSrc value: * value_float:  value_int: \n",
      "[WARN] unable to get value: sheet_name: bloodGasSrc value: * value_float:  value_int: \n",
      "[WARN] unable to get value: sheet_name: bloodGasSrc value: * value_float:  value_int: \n",
      "[WARN] unable to get value: sheet_name: bloodGasSrc value: * value_float:  value_int: \n",
      "[WARN] unable to get value: sheet_name: bloodGasSrc value: * value_float:  value_int: \n",
      "[WARN] unable to get value: sheet_name: bloodGasSrc value: * value_float:  value_int: \n",
      "[WARN] unable to get value: sheet_name: bloodGasSrc value: * value_float:  value_int: \n",
      "[WARN] unable to get value: sheet_name: bloodGasSrc value: * value_float:  value_int: \n",
      "[WARN] unable to get value: sheet_name: bloodGasSrc value: * value_float:  value_int: \n",
      "[WARN] unable to get value: sheet_name: bloodGasSrc value: * value_float:  value_int: \n",
      "[WARN] unable to get value: sheet_name: bloodGasSrc value: * value_float:  value_int: \n",
      "[WARN] unable to get value: sheet_name: bloodGasSrc value: * value_float:  value_int: \n",
      "[WARN] unable to get value: sheet_name: bloodGasSrc value: * value_float:  value_int: \n",
      "[WARN] unable to get value: sheet_name: bloodGasSrc value: * value_float:  value_int: \n",
      "[WARN] unable to get value: sheet_name: bloodGasSrc value: * value_float:  value_int: \n",
      "[WARN] unable to get value: sheet_name: bloodGasSrc value: * value_float:  value_int: \n",
      "[WARN] unable to get value: sheet_name: bloodGasSrc value: * value_float:  value_int: \n",
      "[WARN] unable to get value: sheet_name: bloodGasSrc value: * value_float:  value_int: \n",
      "[WARN] unable to get value: sheet_name: bloodGasSrc value: * value_float:  value_int: \n",
      "[WARN] unable to get value: sheet_name: bloodGasSrc value: * value_float:  value_int: \n",
      "[WARN] unable to get value: sheet_name: bloodGasSrc value: * value_float:  value_int: \n",
      "[WARN] unable to get value: sheet_name: bloodGasSrc value: * value_float:  value_int: \n",
      "[WARN] unable to get value: sheet_name: bloodGasSrc value: * value_float:  value_int: \n",
      "[WARN] unable to get value: sheet_name: bloodGasSrc value: * value_float:  value_int: \n",
      "[WARN] unable to get value: sheet_name: bloodGasSrc value: * value_float:  value_int: \n",
      "[WARN] unable to get value: sheet_name: bloodGasSrc value: * value_float:  value_int: \n",
      "[WARN] unable to get value: sheet_name: bloodGasSrc value: * value_float:  value_int: \n",
      "[WARN] unable to get value: sheet_name: bloodGasSrc value: * value_float:  value_int: \n",
      "[WARN] unable to get value: sheet_name: bloodGasSrc value: * value_float:  value_int: \n",
      "[WARN] unable to get value: sheet_name: bloodGasSrc value: * value_float:  value_int: \n",
      "[WARN] unable to get value: sheet_name: bloodGasSrc value: * value_float:  value_int: \n",
      "[WARN] unable to get value: sheet_name: bloodGasSrc value: * value_float:  value_int: \n",
      "[WARN] unable to get value: sheet_name: bloodGasSrc value: * value_float:  value_int: \n",
      "[WARN] unable to get value: sheet_name: bloodGasSrc value: * value_float:  value_int: \n",
      "[WARN] unable to get value: sheet_name: bloodGasSrc value: * value_float:  value_int: \n",
      "[WARN] unable to get value: sheet_name: bloodGasSrc value: * value_float:  value_int: \n",
      "[WARN] unable to get value: sheet_name: bloodGasSrc value: * value_float:  value_int: \n",
      "[WARN] unable to get value: sheet_name: bloodGasSrc value: * value_float:  value_int: \n",
      "[WARN] unable to get value: sheet_name: bloodGasSrc value: * value_float:  value_int: \n",
      "[WARN] unable to get value: sheet_name: bloodGasSrc value: * value_float:  value_int: \n",
      "[WARN] unable to get value: sheet_name: bloodGasSrc value: * value_float:  value_int: \n",
      "[WARN] unable to get value: sheet_name: bloodGasSrc value: * value_float:  value_int: \n",
      "[WARN] unable to get value: sheet_name: bloodGasSrc value: * value_float:  value_int: \n",
      "[WARN] unable to get value: sheet_name: bloodGasSrc value: * value_float:  value_int: \n",
      "[WARN] unable to get value: sheet_name: bloodGasSrc value: * value_float:  value_int: \n",
      "[WARN] unable to get value: sheet_name: bloodGasSrc value: * value_float:  value_int: \n",
      "[WARN] unable to get value: sheet_name: bloodGasSrc value: * value_float:  value_int: \n",
      "[WARN] unable to get value: sheet_name: bloodGasSrc value: * value_float:  value_int: \n",
      "[WARN] unable to get value: sheet_name: bloodGasSrc value: * value_float:  value_int: \n",
      "[WARN] unable to get value: sheet_name: bloodGasSrc value: * value_float:  value_int: \n",
      "[WARN] unable to get value: sheet_name: bloodGasSrc value: * value_float:  value_int: \n",
      "[WARN] unable to get value: sheet_name: bloodGasSrc value: * value_float:  value_int: \n",
      "[WARN] unable to get value: sheet_name: bloodGasSrc value: * value_float:  value_int: \n",
      "[WARN] unable to get value: sheet_name: bloodGasSrc value: * value_float:  value_int: \n",
      "[WARN] unable to get value: sheet_name: bloodGasSrc value: * value_float:  value_int: \n",
      "[WARN] unable to get value: sheet_name: bloodGasSrc value: * value_float:  value_int: \n",
      "[WARN] unable to get value: sheet_name: bloodGasSrc value: * value_float:  value_int: \n",
      "[WARN] unable to get value: sheet_name: bloodGasSrc value: * value_float:  value_int: \n",
      "[WARN] unable to get value: sheet_name: bloodGasSrc value: * value_float:  value_int: \n",
      "[WARN] unable to get value: sheet_name: bloodGasSrc value: * value_float:  value_int: \n",
      "[WARN] unable to get value: sheet_name: bloodGasSrc value: * value_float:  value_int: \n",
      "[WARN] unable to get value: sheet_name: bloodGasSrc value: * value_float:  value_int: \n",
      "[WARN] unable to get value: sheet_name: bloodGasSrc value: * value_float:  value_int: \n",
      "[WARN] unable to get value: sheet_name: bloodGasSrc value: * value_float:  value_int: \n",
      "[WARN] unable to get value: sheet_name: bloodGasSrc value: * value_float:  value_int: \n",
      "[WARN] unable to get value: sheet_name: bloodGasSrc value: * value_float:  value_int: \n",
      "[WARN] unable to get value: sheet_name: bloodGasSrc value: * value_float:  value_int: \n",
      "[WARN] unable to get value: sheet_name: bloodGasSrc value: * value_float:  value_int: \n",
      "[WARN] unable to get value: sheet_name: bloodGasSrc value: * value_float:  value_int: \n",
      "[WARN] unable to get value: sheet_name: bloodGasSrc value: * value_float:  value_int: \n",
      "[WARN] unable to get value: sheet_name: bloodGasSrc value: * value_float:  value_int: \n",
      "[WARN] unable to get value: sheet_name: bloodGasSrc value: * value_float:  value_int: \n",
      "[WARN] unable to get value: sheet_name: bloodGasSrc value: * value_float:  value_int: \n",
      "[WARN] unable to get value: sheet_name: bloodGasSrc value: * value_float:  value_int: \n",
      "[WARN] unable to get value: sheet_name: bloodGasSrc value: * value_float:  value_int: \n",
      "[WARN] unable to get value: sheet_name: bloodGasSrc value: * value_float:  value_int: \n",
      "[WARN] unable to get value: sheet_name: bloodGasSrc value: * value_float:  value_int: \n",
      "[WARN] unable to get value: sheet_name: bloodGasSrc value: * value_float:  value_int: \n",
      "[WARN] unable to get value: sheet_name: bloodGasSrc value: * value_float:  value_int: \n",
      "[WARN] unable to get value: sheet_name: bloodGasSrc value: * value_float:  value_int: \n",
      "[WARN] unable to get value: sheet_name: bloodGasSrc value: * value_float:  value_int: \n",
      "[WARN] unable to get value: sheet_name: bloodGasSrc value: * value_float:  value_int: \n",
      "[WARN] unable to get value: sheet_name: bloodGasSrc value: * value_float:  value_int: \n",
      "[WARN] unable to get value: sheet_name: bloodGasSrc value: * value_float:  value_int: \n",
      "[WARN] unable to get value: sheet_name: bloodGasSrc value: * value_float:  value_int: \n",
      "[WARN] unable to get value: sheet_name: bloodGasSrc value: * value_float:  value_int: \n",
      "[WARN] unable to get value: sheet_name: bloodGasSrc value: * value_float:  value_int: \n",
      "[WARN] unable to get value: sheet_name: bloodGasSrc value: * value_float:  value_int: \n",
      "[WARN] unable to get value: sheet_name: bloodGasSrc value: * value_float:  value_int: \n",
      "[WARN] unable to get value: sheet_name: bloodGasSrc value: * value_float:  value_int: \n",
      "[WARN] unable to get value: sheet_name: bloodGasSrc value: * value_float:  value_int: \n",
      "[WARN] unable to get value: sheet_name: bloodGasSrc value: * value_float:  value_int: \n",
      "[WARN] unable to get value: sheet_name: bloodGasSrc value: * value_float:  value_int: \n",
      "[WARN] unable to get value: sheet_name: bloodGasSrc value: * value_float:  value_int: \n",
      "[WARN] unable to get value: sheet_name: bloodGasSrc value: * value_float:  value_int: \n",
      "[WARN] unable to get value: sheet_name: bloodGasSrc value: * value_float:  value_int: \n",
      "[WARN] unable to get value: sheet_name: bloodGasSrc value: * value_float:  value_int: \n",
      "[WARN] unable to get value: sheet_name: bloodGasSrc value: * value_float:  value_int: \n",
      "[WARN] unable to get value: sheet_name: bloodGasSrc value: * value_float:  value_int: \n",
      "[WARN] unable to get value: sheet_name: bloodGasSrc value: * value_float:  value_int: \n",
      "[WARN] unable to get value: sheet_name: bloodGasSrc value: * value_float:  value_int: \n",
      "[WARN] unable to get value: sheet_name: bloodGasSrc value: * value_float:  value_int: \n",
      "[WARN] unable to get value: sheet_name: bloodGasSrc value: * value_float:  value_int: \n",
      "[WARN] unable to get value: sheet_name: bloodGasSrc value: * value_float:  value_int: \n",
      "[WARN] unable to get value: sheet_name: bloodGasSrc value: * value_float:  value_int: \n",
      "[WARN] unable to get value: sheet_name: bloodGasSrc value: * value_float:  value_int: \n",
      "[WARN] unable to get value: sheet_name: bloodGasSrc value: * value_float:  value_int: \n",
      "[WARN] unable to get value: sheet_name: bloodGasSrc value: * value_float:  value_int: \n",
      "[WARN] unable to get value: sheet_name: bloodGasSrc value: * value_float:  value_int: \n",
      "[WARN] unable to get value: sheet_name: bloodGasSrc value: * value_float:  value_int: \n",
      "[WARN] unable to get value: sheet_name: bloodGasSrc value: * value_float:  value_int: \n",
      "[WARN] unable to get value: sheet_name: bloodGasSrc value: * value_float:  value_int: \n",
      "[WARN] unable to get value: sheet_name: bloodGasSrc value: * value_float:  value_int: \n",
      "[WARN] unable to get value: sheet_name: bloodGasSrc value: * value_float:  value_int: \n",
      "[WARN] unable to get value: sheet_name: bloodGasSrc value: * value_float:  value_int: \n",
      "[WARN] unable to get value: sheet_name: bloodGasSrc value: * value_float:  value_int: \n",
      "[WARN] unable to get value: sheet_name: bloodGasSrc value: * value_float:  value_int: \n",
      "[WARN] unable to get value: sheet_name: bloodGasSrc value: * value_float:  value_int: \n",
      "[WARN] unable to get value: sheet_name: bloodGasSrc value: * value_float:  value_int: \n",
      "[WARN] unable to get value: sheet_name: bloodGasSrc value: * value_float:  value_int: \n",
      "[WARN] unable to get value: sheet_name: bloodGasSrc value: * value_float:  value_int: \n",
      "[WARN] unable to get value: sheet_name: bloodGasSrc value: * value_float:  value_int: \n",
      "[WARN] unable to get value: sheet_name: bloodGasSrc value: * value_float:  value_int: \n",
      "[WARN] unable to get value: sheet_name: bloodGasSrc value: * value_float:  value_int: \n",
      "[WARN] unable to get value: sheet_name: bloodGasSrc value: * value_float:  value_int: \n",
      "[WARN] unable to get value: sheet_name: bloodGasSrc value: * value_float:  value_int: \n",
      "[WARN] unable to get value: sheet_name: bloodGasSrc value: * value_float:  value_int: \n",
      "[WARN] unable to get value: sheet_name: bloodGasSrc value: * value_float:  value_int: \n",
      "[WARN] unable to get value: sheet_name: bloodGasSrc value: * value_float:  value_int: \n",
      "[WARN] unable to get value: sheet_name: bloodGasSrc value: * value_float:  value_int: \n",
      "[WARN] unable to get value: sheet_name: bloodGasSrc value: * value_float:  value_int: \n",
      "[WARN] unable to get value: sheet_name: bloodGasSrc value: * value_float:  value_int: \n",
      "[WARN] unable to get value: sheet_name: bloodGasSrc value: * value_float:  value_int: \n",
      "[WARN] unable to get value: sheet_name: bloodGasSrc value: * value_float:  value_int: \n",
      "[WARN] unable to get value: sheet_name: bloodGasSrc value: * value_float:  value_int: \n",
      "(4/17) normalize_value: column: bloodGasTimeSlot_min\n",
      "(5/17) normalize_value: column: bloodGasDate\n",
      "(6/17) normalize_value: column: bloodGasTime\n",
      "(7/17) normalize_value: column: bloodGasPH\n",
      "(8/17) normalize_value: column: bloodGasPCO2_mmHg\n"
     ]
    },
    {
     "name": "stdout",
     "output_type": "stream",
     "text": [
      "(9/17) normalize_value: column: bloodGasPO2_mmHg\n",
      "(10/17) normalize_value: column: bloodGasHCO3_mEqPerL\n",
      "(11/17) normalize_value: column: bloodGasBaseDeficit_mEqPerL\n",
      "(12/17) normalize_value: column: bloodGasPHCorrect\n",
      "(13/17) normalize_value: column: bloodGasPCO2Correct_mmHg\n",
      "(14/17) normalize_value: column: bloodGasPO2Correct_mmHg\n",
      "(15/17) normalize_value: column: bloodGasHCO3Correct_mEqPerL\n",
      "(16/17) normalize_value: column: bloodGasBaseDeficitCorrect_mEqPerL\n",
      "flatten_index: flatten_ids: ['bloodGasTimeSlot_min'] unique_id_map: {np.int64(1): np.int64(1), np.int64(4): np.int64(4), np.int64(8): np.int64(8), np.int64(12): np.int64(12), np.int64(16): np.int64(16), np.int64(20): np.int64(20), np.int64(24): np.int64(24), np.int64(28): np.int64(28), np.int64(32): np.int64(32), np.int64(36): np.int64(36), np.int64(40): np.int64(40), np.int64(44): np.int64(44), np.int64(48): np.int64(48), np.int64(52): np.int64(52), np.int64(56): np.int64(56), np.int64(60): np.int64(60), np.int64(64): np.int64(64), np.int64(68): np.int64(68), np.int64(72): np.int64(72), np.int64(76): np.int64(76), np.int64(80): np.int64(80), np.int64(84): np.int64(84), np.int64(88): np.int64(88), np.int64(92): np.int64(92), np.int64(96): np.int64(96), np.int64(100): np.int64(100), np.int64(104): np.int64(104), np.int64(108): np.int64(108), np.int64(112): np.int64(112), np.int64(116): np.int64(116), np.int64(120): np.int64(120), np.int64(124): np.int64(124), np.int64(128): np.int64(128), np.int64(132): np.int64(132), np.int64(136): np.int64(136), np.int64(140): np.int64(140), np.int64(144): np.int64(144), np.int64(148): np.int64(148), np.int64(152): np.int64(152), np.int64(156): np.int64(156), np.int64(160): np.int64(160), np.int64(164): np.int64(164), np.int64(168): np.int64(168), np.int64(172): np.int64(172), np.int64(176): np.int64(176), np.int64(180): np.int64(180), np.int64(184): np.int64(184), np.int64(188): np.int64(188), np.int64(192): np.int64(192), np.int64(196): np.int64(196), np.int64(200): np.int64(200), np.int64(204): np.int64(204), np.int64(208): np.int64(208), np.int64(212): np.int64(212), np.int64(216): np.int64(216), np.int64(220): np.int64(220), np.int64(224): np.int64(224), np.int64(228): np.int64(228), np.int64(232): np.int64(232), np.int64(236): np.int64(236), np.int64(240): np.int64(240), np.int64(244): np.int64(244), np.int64(248): np.int64(248), np.int64(252): np.int64(252), np.int64(256): np.int64(256), np.int64(260): np.int64(260), np.int64(264): np.int64(264), np.int64(268): np.int64(268), np.int64(272): np.int64(272), np.int64(276): np.int64(276), np.int64(280): np.int64(280), np.int64(284): np.int64(284), np.int64(288): np.int64(288)} the_type: int64\n"
     ]
    }
   ],
   "source": [
    "filename = os.sep.join([input_dir, base_filename])\n",
    "df = pd.read_csv(filename, dtype='O')\n",
    "df = COMBINE_harmonizer.normalize_value(df, _VALUE_MAP, _FLATTEN_IDS, order_map=_ORDER_MAP)"
   ]
  },
  {
   "cell_type": "code",
   "execution_count": 70,
   "id": "dabb5181",
   "metadata": {
    "execution": {
     "iopub.execute_input": "2025-05-15T04:30:04.958548Z",
     "iopub.status.busy": "2025-05-15T04:30:04.958473Z",
     "iopub.status.idle": "2025-05-15T04:30:04.960983Z",
     "shell.execute_reply": "2025-05-15T04:30:04.960776Z"
    }
   },
   "outputs": [
    {
     "name": "stdout",
     "output_type": "stream",
     "text": [
      "_flatten_index: ([  0   4   8  12  16  20  24  28  32  36  40  44  48  52  56  60  64  68\n",
      "  72  76  80  84  88  92  96 100 104 108 112 116 120 124 128 132 136 140\n",
      " 144 148 152 156 160 164 168 172 176 180 184 188 192 196 200 204 208 212\n",
      " 216 220 224 228 232 236 240 244 248 252 256 260 264 268 272 276 280 284\n",
      " 288] / int64)\n"
     ]
    }
   ],
   "source": [
    "# XXX hack for _flatten_index: 1 as 0\n",
    "is_flatten_index_1 = df[COMBINE_harmonizer.FLATTEN_INDEX] == 1\n",
    "df.loc[is_flatten_index_1, COMBINE_harmonizer.FLATTEN_INDEX] = 0\n",
    "\n",
    "print(f\"_flatten_index: ({df[COMBINE_harmonizer.FLATTEN_INDEX].unique()} / {df[COMBINE_harmonizer.FLATTEN_INDEX].dtype})\")"
   ]
  },
  {
   "cell_type": "code",
   "execution_count": 71,
   "id": "fb09994b",
   "metadata": {
    "execution": {
     "iopub.execute_input": "2025-05-15T04:30:04.962085Z",
     "iopub.status.busy": "2025-05-15T04:30:04.962006Z",
     "iopub.status.idle": "2025-05-15T04:30:05.114949Z",
     "shell.execute_reply": "2025-05-15T04:30:05.114580Z"
    }
   },
   "outputs": [],
   "source": [
    "out_filename = os.sep.join([out_dir, base_filename])\n",
    "df.to_csv(out_filename, index=False)"
   ]
  },
  {
   "cell_type": "code",
   "execution_count": 72,
   "id": "87d8b901",
   "metadata": {
    "execution": {
     "iopub.execute_input": "2025-05-15T04:30:05.116845Z",
     "iopub.status.busy": "2025-05-15T04:30:05.116699Z",
     "iopub.status.idle": "2025-05-15T04:30:05.128647Z",
     "shell.execute_reply": "2025-05-15T04:30:05.128366Z"
    }
   },
   "outputs": [
    {
     "name": "stdout",
     "output_type": "stream",
     "text": [
      "(0/35) center: (9573/0)\n",
      "(1/35) center.orig: (9573/0)\n",
      "(2/35) subjectID: (9573/0)\n",
      "(3/35) subjectID.orig: (9573/0)\n",
      "(4/35) uniqueID: (9573/0)\n",
      "(5/35) uniqueID.orig: (9573/0)\n",
      "(6/35) _flatten_index: (9573/0)\n",
      "(7/35) bloodGasTimeSlot_min: (9573/0)\n",
      "(8/35) bloodGasTimeSlot_min.orig: (9573/0)\n",
      "(9/35) bloodGasDate: (9573/0)\n",
      "(10/35) bloodGasDate.orig: (5127/4446)\n",
      "(11/35) bloodGasTime: (9573/0)\n",
      "(12/35) bloodGasTime.orig: (4887/4686)\n",
      "(13/35) bloodGasSrc: (9573/0)\n",
      "(14/35) bloodGasSrc.orig: (3775/5798)\n",
      "(15/35) bloodGasPH: (9573/0)\n",
      "(16/35) bloodGasPH.orig: (2575/6998)\n",
      "(17/35) bloodGasPCO2_mmHg: (9573/0)\n",
      "(18/35) bloodGasPCO2_mmHg.orig: (2576/6997)\n",
      "(19/35) bloodGasPO2_mmHg: (9573/0)\n",
      "(20/35) bloodGasPO2_mmHg.orig: (2570/7003)\n",
      "(21/35) bloodGasHCO3_mEqPerL: (9573/0)\n",
      "(22/35) bloodGasHCO3_mEqPerL.orig: (2502/7071)\n",
      "(23/35) bloodGasBaseDeficit_mEqPerL: (9573/0)\n",
      "(24/35) bloodGasBaseDeficit_mEqPerL.orig: (2449/7124)\n",
      "(25/35) bloodGasPHCorrect: (9573/0)\n",
      "(26/35) bloodGasPHCorrect.orig: (3334/6239)\n",
      "(27/35) bloodGasPCO2Correct_mmHg: (9573/0)\n",
      "(28/35) bloodGasPCO2Correct_mmHg.orig: (3336/6237)\n",
      "(29/35) bloodGasPO2Correct_mmHg: (9573/0)\n",
      "(30/35) bloodGasPO2Correct_mmHg.orig: (3291/6282)\n",
      "(31/35) bloodGasHCO3Correct_mEqPerL: (9573/0)\n",
      "(32/35) bloodGasHCO3Correct_mEqPerL.orig: (2748/6825)\n",
      "(33/35) bloodGasBaseDeficitCorrect_mEqPerL: (9573/0)\n",
      "(34/35) bloodGasBaseDeficitCorrect_mEqPerL.orig: (2674/6899)\n"
     ]
    }
   ],
   "source": [
    "COMBINE_harmonizer.column_info(df)"
   ]
  },
  {
   "cell_type": "markdown",
   "id": "07b168c4",
   "metadata": {},
   "source": [
    "## 02-05-hematology"
   ]
  },
  {
   "cell_type": "code",
   "execution_count": 73,
   "id": "7e13e7a0",
   "metadata": {
    "execution": {
     "iopub.execute_input": "2025-05-15T04:30:05.130468Z",
     "iopub.status.busy": "2025-05-15T04:30:05.130296Z",
     "iopub.status.idle": "2025-05-15T04:30:05.132171Z",
     "shell.execute_reply": "2025-05-15T04:30:05.131918Z"
    }
   },
   "outputs": [],
   "source": [
    "_FLATTEN_IDS = ['hematologyTimeSlot_min']\n",
    "base_filename = '02-05-hematology.csv'"
   ]
  },
  {
   "cell_type": "code",
   "execution_count": 74,
   "id": "1095b3e8",
   "metadata": {
    "execution": {
     "iopub.execute_input": "2025-05-15T04:30:05.133584Z",
     "iopub.status.busy": "2025-05-15T04:30:05.133455Z",
     "iopub.status.idle": "2025-05-15T04:30:05.227876Z",
     "shell.execute_reply": "2025-05-15T04:30:05.227635Z"
    }
   },
   "outputs": [
    {
     "name": "stdout",
     "output_type": "stream",
     "text": [
      "(0/15) normalize_value: column: center\n",
      "(1/15) normalize_value: column: subjectID\n",
      "(2/15) normalize_value: column: uniqueID\n",
      "(3/15) normalize_value: column: hematology\n",
      "(4/15) normalize_value: column: hematologyTimeSlot_min\n",
      "(5/15) normalize_value: column: hematologyDate\n",
      "(6/15) normalize_value: column: hematologyTime\n",
      "(7/15) normalize_value: column: hematologyWBC_cPermuL\n",
      "(8/15) normalize_value: column: hematologyHemoglobin_gPerdL\n",
      "(9/15) normalize_value: column: hematologyPolymorphNeutrophils_cPermuL\n",
      "(10/15) normalize_value: column: hematologyMonocytes_cPermuL\n",
      "(11/15) normalize_value: column: hematologyLymphocytes_cPermuL\n",
      "(12/15) normalize_value: column: hematologyPlatelet_cPermuL\n",
      "(13/15) normalize_value: column: hematologyPT_s\n",
      "(14/15) normalize_value: column: hematologyPTT_s\n",
      "flatten_index: flatten_ids: ['hematologyTimeSlot_min'] unique_id_map: {np.int64(1): np.int64(1), np.int64(24): np.int64(24), np.int64(48): np.int64(48), np.int64(72): np.int64(72), np.int64(96): np.int64(96), np.int64(120): np.int64(120), np.int64(144): np.int64(144), np.int64(168): np.int64(168), np.int64(192): np.int64(192), np.int64(216): np.int64(216)} the_type: int64\n"
     ]
    }
   ],
   "source": [
    "filename = os.sep.join([input_dir, base_filename])\n",
    "df = pd.read_csv(filename, dtype='O')\n",
    "df = COMBINE_harmonizer.normalize_value(df, _VALUE_MAP, _FLATTEN_IDS, order_map=_ORDER_MAP)\n",
    "\n",
    "\n",
    "# XXX hematology in OC is counted as kcPermuL\n",
    "cbc_columns = [\n",
    "    'hematologyWBC_cPermuL',\n",
    "    'hematologyPolymorphNeutrophils_cPermuL',\n",
    "    'hematologyMonocytes_cPermuL',\n",
    "    'hematologyLymphocytes_cPermuL',\n",
    "    'hematologyPlatelet_cPermuL'\n",
    "]\n",
    "for column in cbc_columns:\n",
    "    df.loc[:, column] = df[column] * 1000"
   ]
  },
  {
   "cell_type": "code",
   "execution_count": 75,
   "id": "5f4c2733",
   "metadata": {
    "execution": {
     "iopub.execute_input": "2025-05-15T04:30:05.229200Z",
     "iopub.status.busy": "2025-05-15T04:30:05.229118Z",
     "iopub.status.idle": "2025-05-15T04:30:05.231803Z",
     "shell.execute_reply": "2025-05-15T04:30:05.231547Z"
    }
   },
   "outputs": [
    {
     "name": "stdout",
     "output_type": "stream",
     "text": [
      "_flatten_index: ([  0  24  48  72  96 120 144 168 192 216] / int64)\n"
     ]
    }
   ],
   "source": [
    "# XXX hack for _flatten_index: 1 as 0\n",
    "is_flatten_index_1 = df[COMBINE_harmonizer.FLATTEN_INDEX] == 1\n",
    "df.loc[is_flatten_index_1, COMBINE_harmonizer.FLATTEN_INDEX] = 0\n",
    "\n",
    "print(f\"_flatten_index: ({df[COMBINE_harmonizer.FLATTEN_INDEX].unique()} / {df[COMBINE_harmonizer.FLATTEN_INDEX].dtype})\")"
   ]
  },
  {
   "cell_type": "code",
   "execution_count": 76,
   "id": "73a4809d",
   "metadata": {
    "execution": {
     "iopub.execute_input": "2025-05-15T04:30:05.232966Z",
     "iopub.status.busy": "2025-05-15T04:30:05.232895Z",
     "iopub.status.idle": "2025-05-15T04:30:05.307591Z",
     "shell.execute_reply": "2025-05-15T04:30:05.307227Z"
    }
   },
   "outputs": [],
   "source": [
    "out_filename = os.sep.join([out_dir, base_filename])\n",
    "df.to_csv(out_filename, index=False)"
   ]
  },
  {
   "cell_type": "code",
   "execution_count": 77,
   "id": "ba7a1c73",
   "metadata": {
    "execution": {
     "iopub.execute_input": "2025-05-15T04:30:05.309321Z",
     "iopub.status.busy": "2025-05-15T04:30:05.309210Z",
     "iopub.status.idle": "2025-05-15T04:30:05.314018Z",
     "shell.execute_reply": "2025-05-15T04:30:05.313767Z"
    }
   },
   "outputs": [
    {
     "name": "stdout",
     "output_type": "stream",
     "text": [
      "(0/31) center: (1979/0)\n",
      "(1/31) center.orig: (1979/0)\n",
      "(2/31) subjectID: (1979/0)\n",
      "(3/31) subjectID.orig: (1979/0)\n",
      "(4/31) uniqueID: (1979/0)\n",
      "(5/31) uniqueID.orig: (1979/0)\n",
      "(6/31) _flatten_index: (1979/0)\n",
      "(7/31) hematology: (1979/0)\n",
      "(8/31) hematology.orig: (1951/28)\n",
      "(9/31) hematologyTimeSlot_min: (1979/0)\n",
      "(10/31) hematologyTimeSlot_min.orig: (1979/0)\n",
      "(11/31) hematologyDate: (1979/0)\n",
      "(12/31) hematologyDate.orig: (1979/0)\n",
      "(13/31) hematologyTime: (1979/0)\n",
      "(14/31) hematologyTime.orig: (1974/5)\n",
      "(15/31) hematologyWBC_cPermuL: (1979/0)\n",
      "(16/31) hematologyWBC_cPermuL.orig: (1239/740)\n",
      "(17/31) hematologyHemoglobin_gPerdL: (1979/0)\n",
      "(18/31) hematologyHemoglobin_gPerdL.orig: (1340/639)\n",
      "(19/31) hematologyPolymorphNeutrophils_cPermuL: (1979/0)\n",
      "(20/31) hematologyPolymorphNeutrophils_cPermuL.orig: (1067/912)\n",
      "(21/31) hematologyMonocytes_cPermuL: (1979/0)\n",
      "(22/31) hematologyMonocytes_cPermuL.orig: (1089/890)\n",
      "(23/31) hematologyLymphocytes_cPermuL: (1979/0)\n",
      "(24/31) hematologyLymphocytes_cPermuL.orig: (1112/867)\n",
      "(25/31) hematologyPlatelet_cPermuL: (1979/0)\n",
      "(26/31) hematologyPlatelet_cPermuL.orig: (1305/674)\n",
      "(27/31) hematologyPT_s: (1979/0)\n",
      "(28/31) hematologyPT_s.orig: (810/1169)\n",
      "(29/31) hematologyPTT_s: (1979/0)\n",
      "(30/31) hematologyPTT_s.orig: (776/1203)\n"
     ]
    }
   ],
   "source": [
    "COMBINE_harmonizer.column_info(df)"
   ]
  },
  {
   "cell_type": "markdown",
   "id": "c1187262",
   "metadata": {},
   "source": [
    "## 02-05_s-hematology"
   ]
  },
  {
   "cell_type": "code",
   "execution_count": 78,
   "id": "7bdfb6a7",
   "metadata": {
    "execution": {
     "iopub.execute_input": "2025-05-15T04:30:05.315350Z",
     "iopub.status.busy": "2025-05-15T04:30:05.315263Z",
     "iopub.status.idle": "2025-05-15T04:30:05.316864Z",
     "shell.execute_reply": "2025-05-15T04:30:05.316641Z"
    }
   },
   "outputs": [],
   "source": [
    "base_filename = '02-05_s-hematology.csv'"
   ]
  },
  {
   "cell_type": "code",
   "execution_count": 79,
   "id": "f2dc93bf",
   "metadata": {
    "execution": {
     "iopub.execute_input": "2025-05-15T04:30:05.318071Z",
     "iopub.status.busy": "2025-05-15T04:30:05.317995Z",
     "iopub.status.idle": "2025-05-15T04:30:05.405776Z",
     "shell.execute_reply": "2025-05-15T04:30:05.405407Z"
    }
   },
   "outputs": [
    {
     "name": "stdout",
     "output_type": "stream",
     "text": [
      "(0/7) normalize_value: column: center\n",
      "(1/7) normalize_value: column: subjectID\n",
      "(2/7) normalize_value: column: uniqueID\n",
      "(3/7) normalize_value: column: hematologyHematocritMin\n",
      "(4/7) normalize_value: column: hematologyHematocritMinDate\n",
      "(5/7) normalize_value: column: hematologyPlateletMin_cPermuL\n",
      "(6/7) normalize_value: column: hematologyPlateletMin_cPermuLDate\n"
     ]
    }
   ],
   "source": [
    "filename = os.sep.join([input_dir, base_filename])\n",
    "df = pd.read_csv(filename, dtype='O')\n",
    "df = COMBINE_harmonizer.normalize_value(df, _VALUE_MAP, order_map=_ORDER_MAP)\n",
    "\n",
    "# XXX hematology in OC is counted as kcPermuL\n",
    "cbc_columns = [\n",
    "    'hematologyPlateletMin_cPermuL'\n",
    "]\n",
    "for column in cbc_columns:\n",
    "    df.loc[:, column] = df[column] * 1000\n",
    "\n",
    "out_filename = os.sep.join([out_dir, base_filename])\n",
    "df.to_csv(out_filename, index=False)"
   ]
  },
  {
   "cell_type": "code",
   "execution_count": 80,
   "id": "565486da",
   "metadata": {
    "execution": {
     "iopub.execute_input": "2025-05-15T04:30:05.408109Z",
     "iopub.status.busy": "2025-05-15T04:30:05.407932Z",
     "iopub.status.idle": "2025-05-15T04:30:05.411495Z",
     "shell.execute_reply": "2025-05-15T04:30:05.411170Z"
    }
   },
   "outputs": [
    {
     "name": "stdout",
     "output_type": "stream",
     "text": [
      "(0/14) center: (364/0)\n",
      "(1/14) center.orig: (364/0)\n",
      "(2/14) subjectID: (364/0)\n",
      "(3/14) subjectID.orig: (364/0)\n",
      "(4/14) uniqueID: (364/0)\n",
      "(5/14) uniqueID.orig: (364/0)\n",
      "(6/14) hematologyHematocritMin: (364/0)\n",
      "(7/14) hematologyHematocritMin.orig: (364/0)\n",
      "(8/14) hematologyHematocritMinDate: (364/0)\n",
      "(9/14) hematologyHematocritMinDate.orig: (364/0)\n",
      "(10/14) hematologyPlateletMin_cPermuL: (364/0)\n",
      "(11/14) hematologyPlateletMin_cPermuL.orig: (361/3)\n",
      "(12/14) hematologyPlateletMin_cPermuLDate: (364/0)\n",
      "(13/14) hematologyPlateletMin_cPermuLDate.orig: (361/3)\n"
     ]
    }
   ],
   "source": [
    "COMBINE_harmonizer.column_info(df)"
   ]
  },
  {
   "cell_type": "markdown",
   "id": "01eb5c75",
   "metadata": {},
   "source": [
    "## 02-06_s-blood-value"
   ]
  },
  {
   "cell_type": "code",
   "execution_count": 81,
   "id": "b54e4796",
   "metadata": {
    "execution": {
     "iopub.execute_input": "2025-05-15T04:30:05.413848Z",
     "iopub.status.busy": "2025-05-15T04:30:05.413706Z",
     "iopub.status.idle": "2025-05-15T04:30:05.415890Z",
     "shell.execute_reply": "2025-05-15T04:30:05.415540Z"
    }
   },
   "outputs": [],
   "source": [
    "base_filename = '02-06_s-blood-value.csv'"
   ]
  },
  {
   "cell_type": "code",
   "execution_count": 82,
   "id": "bb6698a2",
   "metadata": {
    "execution": {
     "iopub.execute_input": "2025-05-15T04:30:05.417709Z",
     "iopub.status.busy": "2025-05-15T04:30:05.417556Z",
     "iopub.status.idle": "2025-05-15T04:30:05.555125Z",
     "shell.execute_reply": "2025-05-15T04:30:05.554732Z"
    }
   },
   "outputs": [
    {
     "name": "stdout",
     "output_type": "stream",
     "text": [
      "(0/61) normalize_value: column: center\n",
      "(1/61) normalize_value: column: subjectID\n",
      "(2/61) normalize_value: column: uniqueID\n",
      "(3/61) normalize_value: column: bloodValuePHMin\n",
      "(4/61) normalize_value: column: bloodValuePHMinDate\n",
      "(5/61) normalize_value: column: bloodValuePHMax\n",
      "(6/61) normalize_value: column: bloodValuePHMaxDate\n",
      "(7/61) normalize_value: column: bloodValueHCO3Min_mEqPerL\n",
      "(8/61) normalize_value: column: bloodValueHCO3Min_mEqPerLDate\n",
      "(9/61) normalize_value: column: bloodValueBaseDeficitMax_mEqPerL\n",
      "(10/61) normalize_value: column: bloodValueBaseDeficitMax_mEqPerLDate\n",
      "(11/61) normalize_value: column: bloodValueSerumNaMin_mEqPerL\n",
      "(12/61) normalize_value: column: bloodValueSerumNaMin_mEqPerLDate\n",
      "(13/61) normalize_value: column: bloodValueSerumNaMax_mEqPerL\n",
      "(14/61) normalize_value: column: bloodValueSerumNaMax_mEqPerLDate\n",
      "(15/61) normalize_value: column: bloodValueSerumKMin_mEqPerL\n",
      "(16/61) normalize_value: column: bloodValueSerumKMin_mEqPerLDate\n",
      "(17/61) normalize_value: column: bloodValueSerumKMax_mEqPerL\n",
      "(18/61) normalize_value: column: bloodValueSerumKMax_mEqPerLDate\n",
      "(19/61) normalize_value: column: bloodValueClMin_mEqPerL\n",
      "(20/61) normalize_value: column: bloodValueClMin_mEqPerLDate\n",
      "(21/61) normalize_value: column: bloodValueClMax_mEqPerL\n",
      "(22/61) normalize_value: column: bloodValueClMax_mEqPerLDate\n",
      "(23/61) normalize_value: column: bloodValueBunBaseline_mgPerdL\n",
      "(24/61) normalize_value: column: bloodValueBunBaseline_mgPerdLDate\n",
      "(25/61) normalize_value: column: bloodValueBunMax_mgPerdL\n",
      "(26/61) normalize_value: column: bloodValueBunMax_mgPerdLDate\n",
      "(27/61) normalize_value: column: bloodValueCreatinineBaseline_mgPerdL\n",
      "(28/61) normalize_value: column: bloodValueCreatinineBaseline_mgPerdLDate\n",
      "(29/61) normalize_value: column: bloodValueCreatinineMax_mgPerdL\n",
      "(30/61) normalize_value: column: bloodValueCreatinineMax_mgPerdLDate\n",
      "(31/61) normalize_value: column: bloodValueGlucoseMin_mgPerdL\n",
      "(32/61) normalize_value: column: bloodValueGlucoseMin_mgPerdLDate\n",
      "(33/61) normalize_value: column: bloodValueGlucoseMax_mgPerdL\n",
      "(34/61) normalize_value: column: bloodValueGlucoseMax_mgPerdLDate\n",
      "(35/61) normalize_value: column: bloodValueTotalCaMin_mgPerdL\n",
      "(36/61) normalize_value: column: bloodValueTotalCaMin_mgPerdLDate\n",
      "(37/61) normalize_value: column: bloodValueTotalCaMax_mgPerdL\n",
      "(38/61) normalize_value: column: bloodValueTotalCaMax_mgPerdLDate\n",
      "(39/61) normalize_value: column: bloodValueIonCaMin_mgPerdL\n",
      "(40/61) normalize_value: column: bloodValueIonCaMin_mgPerdLDate\n",
      "(41/61) normalize_value: column: bloodValueIonCaMax_mgPerdL\n",
      "(42/61) normalize_value: column: bloodValueIonCaMax_mgPerdLDate\n",
      "(43/61) normalize_value: column: bloodValueASTSGOTBaseline_UPerL\n",
      "(44/61) normalize_value: column: bloodValueASTSGOTBaseline_UPerLDate\n",
      "(45/61) normalize_value: column: bloodValueASTSGOTMin_UPerL\n",
      "(46/61) normalize_value: column: bloodValueASTSGOTMin_UPerLDate\n",
      "(47/61) normalize_value: column: bloodValueASTSGOTMax_UPerL\n",
      "(48/61) normalize_value: column: bloodValueASTSGOTMax_UPerLDate\n",
      "(49/61) normalize_value: column: bloodValueALTSGPTBaseline_UPerL\n",
      "(50/61) normalize_value: column: bloodValueALTSGPTBaseline_UPerLDate\n",
      "(51/61) normalize_value: column: bloodValueALTSGPTMin_UPerL\n",
      "(52/61) normalize_value: column: bloodValueALTSGPTMin_UPerLDate\n",
      "(53/61) normalize_value: column: bloodValueALTSGPTMax_UPerL\n",
      "(54/61) normalize_value: column: bloodValueALTSGPTMax_UPerLDate\n",
      "(55/61) normalize_value: column: bloodValueTotalBilirubinBaseline_mgPerdL\n",
      "(56/61) normalize_value: column: bloodValueTotalBilirubinBaseline_mgPerdLDate\n",
      "(57/61) normalize_value: column: bloodValueTotalBilirubinMin_mgPerdL\n",
      "(58/61) normalize_value: column: bloodValueTotalBilirubinMin_mgPerdLDate\n",
      "(59/61) normalize_value: column: bloodValueTotalBilirubinMax_mgPerdL\n",
      "(60/61) normalize_value: column: bloodValueTotalBilirubinMax_mgPerdLDate\n"
     ]
    }
   ],
   "source": [
    "filename = os.sep.join([input_dir, base_filename])\n",
    "df = pd.read_csv(filename, dtype='O')\n",
    "df = COMBINE_harmonizer.normalize_value(df, _VALUE_MAP, order_map=_ORDER_MAP)\n",
    "\n",
    "out_filename = os.sep.join([out_dir, base_filename])\n",
    "df.to_csv(out_filename, index=False)"
   ]
  },
  {
   "cell_type": "markdown",
   "id": "2354548f",
   "metadata": {},
   "source": [
    "## 02-07-infection"
   ]
  },
  {
   "cell_type": "code",
   "execution_count": 83,
   "id": "d5006038",
   "metadata": {
    "execution": {
     "iopub.execute_input": "2025-05-15T04:30:05.557420Z",
     "iopub.status.busy": "2025-05-15T04:30:05.557233Z",
     "iopub.status.idle": "2025-05-15T04:30:05.559504Z",
     "shell.execute_reply": "2025-05-15T04:30:05.559174Z"
    }
   },
   "outputs": [],
   "source": [
    "_FLATTEN_IDS = ['positiveCultureNumber']\n",
    "base_filename = '02-07-infection.csv'"
   ]
  },
  {
   "cell_type": "code",
   "execution_count": 84,
   "id": "d4928279",
   "metadata": {
    "execution": {
     "iopub.execute_input": "2025-05-15T04:30:05.561284Z",
     "iopub.status.busy": "2025-05-15T04:30:05.561120Z",
     "iopub.status.idle": "2025-05-15T04:30:05.675421Z",
     "shell.execute_reply": "2025-05-15T04:30:05.675085Z"
    }
   },
   "outputs": [
    {
     "name": "stdout",
     "output_type": "stream",
     "text": [
      "(0/18) normalize_value: column: center\n",
      "(1/18) normalize_value: column: subjectID\n",
      "(2/18) normalize_value: column: uniqueID\n",
      "(3/18) normalize_value: column: positiveCultureNumber\n",
      "(4/18) normalize_value: column: positiveCultureSrc\n",
      "(5/18) normalize_value: column: positiveCultureDate\n",
      "(6/18) normalize_value: column: positiveCultureTime\n",
      "(7/18) normalize_value: column: positiveCultureOrganismCode1\n",
      "(8/18) normalize_value: column: positiveCultureOrganismCode2\n",
      "(9/18) normalize_value: column: positiveCultureOrganismCode3\n",
      "(10/18) normalize_value: column: antibiotics\n",
      "(11/18) normalize_value: column: rewarmingAntibiotics\n",
      "(12/18) normalize_value: column: antibioticsCode1\n",
      "(13/18) normalize_value: column: antibioticsCode2\n",
      "(14/18) normalize_value: column: antibioticsCode3\n",
      "(15/18) normalize_value: column: rewarmingAntibioticsCode1\n",
      "(16/18) normalize_value: column: rewarmingAntibioticsCode2\n",
      "(17/18) normalize_value: column: rewarmingAntibioticsCode3\n",
      "flatten_index: flatten_ids: ['positiveCultureNumber'] unique_id_map: {np.int64(1): np.int64(1)} the_type: int64\n"
     ]
    }
   ],
   "source": [
    "filename = os.sep.join([input_dir, base_filename])\n",
    "df = pd.read_csv(filename, dtype='O')\n",
    "df = COMBINE_harmonizer.normalize_value(df, _VALUE_MAP, _FLATTEN_IDS, order_map=_ORDER_MAP)\n",
    "\n",
    "out_filename = os.sep.join([out_dir, base_filename])\n",
    "df.to_csv(out_filename, index=False)"
   ]
  },
  {
   "cell_type": "code",
   "execution_count": 85,
   "id": "fad6bbe7",
   "metadata": {
    "execution": {
     "iopub.execute_input": "2025-05-15T04:30:05.676970Z",
     "iopub.status.busy": "2025-05-15T04:30:05.676873Z",
     "iopub.status.idle": "2025-05-15T04:30:05.681746Z",
     "shell.execute_reply": "2025-05-15T04:30:05.681382Z"
    }
   },
   "outputs": [
    {
     "name": "stdout",
     "output_type": "stream",
     "text": [
      "(0/37) center: (364/0)\n",
      "(1/37) center.orig: (364/0)\n",
      "(2/37) subjectID: (364/0)\n",
      "(3/37) subjectID.orig: (364/0)\n",
      "(4/37) uniqueID: (364/0)\n",
      "(5/37) uniqueID.orig: (364/0)\n",
      "(6/37) _flatten_index: (364/0)\n",
      "(7/37) positiveCultureNumber: (364/0)\n",
      "(8/37) positiveCultureNumber.orig: (364/0)\n",
      "(9/37) positiveCultureSrc: (364/0)\n",
      "(10/37) positiveCultureSrc.orig: (5/359)\n",
      "(11/37) positiveCultureDate: (364/0)\n",
      "(12/37) positiveCultureDate.orig: (5/359)\n",
      "(13/37) positiveCultureTime: (364/0)\n",
      "(14/37) positiveCultureTime.orig: (5/359)\n",
      "(15/37) positiveCultureOrganismCode1: (364/0)\n",
      "(16/37) positiveCultureOrganismCode1.orig: (5/359)\n",
      "(17/37) positiveCultureOrganismCode2: (364/0)\n",
      "(18/37) positiveCultureOrganismCode2.orig: (0/364)\n",
      "(19/37) positiveCultureOrganismCode3: (364/0)\n",
      "(20/37) positiveCultureOrganismCode3.orig: (0/364)\n",
      "(21/37) antibiotics: (364/0)\n",
      "(22/37) antibiotics.orig: (364/0)\n",
      "(23/37) antibioticsCode1: (364/0)\n",
      "(24/37) antibioticsCode1.orig: (152/212)\n",
      "(25/37) antibioticsCode2: (364/0)\n",
      "(26/37) antibioticsCode2.orig: (88/276)\n",
      "(27/37) antibioticsCode3: (364/0)\n",
      "(28/37) antibioticsCode3.orig: (14/350)\n",
      "(29/37) rewarmingAntibiotics: (364/0)\n",
      "(30/37) rewarmingAntibiotics.orig: (364/0)\n",
      "(31/37) rewarmingAntibioticsCode1: (364/0)\n",
      "(32/37) rewarmingAntibioticsCode1.orig: (16/348)\n",
      "(33/37) rewarmingAntibioticsCode2: (364/0)\n",
      "(34/37) rewarmingAntibioticsCode2.orig: (5/359)\n",
      "(35/37) rewarmingAntibioticsCode3: (364/0)\n",
      "(36/37) rewarmingAntibioticsCode3.orig: (0/364)\n"
     ]
    }
   ],
   "source": [
    "COMBINE_harmonizer.column_info(df)"
   ]
  },
  {
   "cell_type": "markdown",
   "id": "f946ac35",
   "metadata": {},
   "source": [
    "## 02-08-other-med"
   ]
  },
  {
   "cell_type": "code",
   "execution_count": 86,
   "id": "27e3f41d",
   "metadata": {
    "execution": {
     "iopub.execute_input": "2025-05-15T04:30:05.683361Z",
     "iopub.status.busy": "2025-05-15T04:30:05.683252Z",
     "iopub.status.idle": "2025-05-15T04:30:05.685179Z",
     "shell.execute_reply": "2025-05-15T04:30:05.684896Z"
    }
   },
   "outputs": [],
   "source": [
    "_FLATTEN_IDS = ['otherMedTimeSlot_min']\n",
    "base_filename = '02-08-other-med.csv'"
   ]
  },
  {
   "cell_type": "code",
   "execution_count": 87,
   "id": "9c3a6788",
   "metadata": {
    "execution": {
     "iopub.execute_input": "2025-05-15T04:30:05.686710Z",
     "iopub.status.busy": "2025-05-15T04:30:05.686538Z",
     "iopub.status.idle": "2025-05-15T04:30:05.798011Z",
     "shell.execute_reply": "2025-05-15T04:30:05.797773Z"
    }
   },
   "outputs": [
    {
     "name": "stdout",
     "output_type": "stream",
     "text": [
      "(0/18) normalize_value: column: center\n",
      "(1/18) normalize_value: column: subjectID\n",
      "(2/18) normalize_value: column: uniqueID\n",
      "(3/18) normalize_value: column: otherMedTimeSlot_min\n",
      "(4/18) normalize_value: column: anticonvulsants1\n",
      "(5/18) normalize_value: column: anticonvulsants2\n",
      "(6/18) normalize_value: column: anticonvulsants3\n",
      "(7/18) normalize_value: column: analgesicsSedatives1\n",
      "(8/18) normalize_value: column: analgesicsSedatives2\n",
      "(9/18) normalize_value: column: analgesicsSedatives3\n",
      "(10/18) normalize_value: column: antipyretics1\n",
      "(11/18) normalize_value: column: antipyretics2\n",
      "(12/18) normalize_value: column: antipyretics3\n",
      "(13/18) normalize_value: column: paralytics1\n",
      "(14/18) normalize_value: column: paralytics2\n",
      "(15/18) normalize_value: column: paralytics3\n",
      "(16/18) normalize_value: column: otherMedFluidIntake_ccPerKg\n",
      "(17/18) normalize_value: column: otherMedUrineOutput_ccPerKg\n",
      "flatten_index: flatten_ids: ['otherMedTimeSlot_min'] unique_id_map: {np.int64(1): np.int64(1), np.int64(24): np.int64(24), np.int64(48): np.int64(48), np.int64(72): np.int64(72), np.int64(96): np.int64(96), np.int64(120): np.int64(120), np.int64(144): np.int64(144), np.int64(168): np.int64(168), np.int64(192): np.int64(192), np.int64(216): np.int64(216)} the_type: int64\n"
     ]
    }
   ],
   "source": [
    "filename = os.sep.join([input_dir, base_filename])\n",
    "df = pd.read_csv(filename, dtype='O')\n",
    "df = COMBINE_harmonizer.normalize_value(df, _VALUE_MAP, _FLATTEN_IDS, order_map=_ORDER_MAP)"
   ]
  },
  {
   "cell_type": "code",
   "execution_count": 88,
   "id": "5bb43bb6",
   "metadata": {
    "execution": {
     "iopub.execute_input": "2025-05-15T04:30:05.799212Z",
     "iopub.status.busy": "2025-05-15T04:30:05.799133Z",
     "iopub.status.idle": "2025-05-15T04:30:05.801593Z",
     "shell.execute_reply": "2025-05-15T04:30:05.801327Z"
    }
   },
   "outputs": [
    {
     "name": "stdout",
     "output_type": "stream",
     "text": [
      "_flatten_index: ([  0  24  48  72  96 120 144 168 192 216] / int64)\n"
     ]
    }
   ],
   "source": [
    "# XXX hack for _flatten_index: 1 as 0\n",
    "is_flatten_index_1 = df[COMBINE_harmonizer.FLATTEN_INDEX] == 1\n",
    "df.loc[is_flatten_index_1, COMBINE_harmonizer.FLATTEN_INDEX] = 0\n",
    "\n",
    "print(f\"_flatten_index: ({df[COMBINE_harmonizer.FLATTEN_INDEX].unique()} / {df[COMBINE_harmonizer.FLATTEN_INDEX].dtype})\")"
   ]
  },
  {
   "cell_type": "code",
   "execution_count": 89,
   "id": "a021c1f3",
   "metadata": {
    "execution": {
     "iopub.execute_input": "2025-05-15T04:30:05.802872Z",
     "iopub.status.busy": "2025-05-15T04:30:05.802793Z",
     "iopub.status.idle": "2025-05-15T04:30:05.875154Z",
     "shell.execute_reply": "2025-05-15T04:30:05.874712Z"
    }
   },
   "outputs": [],
   "source": [
    "out_filename = os.sep.join([out_dir, base_filename])\n",
    "df.to_csv(out_filename, index=False)"
   ]
  },
  {
   "cell_type": "code",
   "execution_count": 90,
   "id": "e0ba3bab",
   "metadata": {
    "execution": {
     "iopub.execute_input": "2025-05-15T04:30:05.877221Z",
     "iopub.status.busy": "2025-05-15T04:30:05.877060Z",
     "iopub.status.idle": "2025-05-15T04:30:05.883887Z",
     "shell.execute_reply": "2025-05-15T04:30:05.883369Z"
    }
   },
   "outputs": [
    {
     "name": "stdout",
     "output_type": "stream",
     "text": [
      "(0/37) center: (1979/0)\n",
      "(1/37) center.orig: (1979/0)\n",
      "(2/37) subjectID: (1979/0)\n",
      "(3/37) subjectID.orig: (1979/0)\n",
      "(4/37) uniqueID: (1979/0)\n",
      "(5/37) uniqueID.orig: (1979/0)\n",
      "(6/37) _flatten_index: (1979/0)\n",
      "(7/37) otherMedTimeSlot_min: (1979/0)\n",
      "(8/37) otherMedTimeSlot_min.orig: (1979/0)\n",
      "(9/37) anticonvulsants1: (1979/0)\n",
      "(10/37) anticonvulsants1.orig: (628/1351)\n",
      "(11/37) anticonvulsants2: (1979/0)\n",
      "(12/37) anticonvulsants2.orig: (106/1873)\n",
      "(13/37) anticonvulsants3: (1979/0)\n",
      "(14/37) anticonvulsants3.orig: (12/1967)\n",
      "(15/37) analgesicsSedatives1: (1979/0)\n",
      "(16/37) analgesicsSedatives1.orig: (852/1127)\n",
      "(17/37) analgesicsSedatives2: (1979/0)\n",
      "(18/37) analgesicsSedatives2.orig: (279/1700)\n",
      "(19/37) analgesicsSedatives3: (1979/0)\n",
      "(20/37) analgesicsSedatives3.orig: (20/1959)\n",
      "(21/37) antipyretics1: (1979/0)\n",
      "(22/37) antipyretics1.orig: (9/1970)\n",
      "(23/37) antipyretics2: (1979/0)\n",
      "(24/37) antipyretics2.orig: (0/1979)\n",
      "(25/37) antipyretics3: (1979/0)\n",
      "(26/37) antipyretics3.orig: (0/1979)\n",
      "(27/37) paralytics1: (1979/0)\n",
      "(28/37) paralytics1.orig: (64/1915)\n",
      "(29/37) paralytics2: (1979/0)\n",
      "(30/37) paralytics2.orig: (1/1978)\n",
      "(31/37) paralytics3: (1979/0)\n",
      "(32/37) paralytics3.orig: (0/1979)\n",
      "(33/37) otherMedFluidIntake_ccPerKg: (1979/0)\n",
      "(34/37) otherMedFluidIntake_ccPerKg.orig: (1606/373)\n",
      "(35/37) otherMedUrineOutput_ccPerKg: (1979/0)\n",
      "(36/37) otherMedUrineOutput_ccPerKg.orig: (1603/376)\n"
     ]
    }
   ],
   "source": [
    "COMBINE_harmonizer.column_info(df)"
   ]
  },
  {
   "cell_type": "markdown",
   "id": "d39c84ea",
   "metadata": {},
   "source": [
    "## 02-09-imaging"
   ]
  },
  {
   "cell_type": "code",
   "execution_count": 91,
   "id": "538ae535",
   "metadata": {
    "execution": {
     "iopub.execute_input": "2025-05-15T04:30:05.885703Z",
     "iopub.status.busy": "2025-05-15T04:30:05.885566Z",
     "iopub.status.idle": "2025-05-15T04:30:05.887261Z",
     "shell.execute_reply": "2025-05-15T04:30:05.887045Z"
    }
   },
   "outputs": [],
   "source": [
    "_FLATTEN_IDS = ['imagingNumber']\n",
    "base_filename = '02-09-imaging.csv'"
   ]
  },
  {
   "cell_type": "code",
   "execution_count": 92,
   "id": "ae908163",
   "metadata": {
    "execution": {
     "iopub.execute_input": "2025-05-15T04:30:05.888415Z",
     "iopub.status.busy": "2025-05-15T04:30:05.888339Z",
     "iopub.status.idle": "2025-05-15T04:30:05.930883Z",
     "shell.execute_reply": "2025-05-15T04:30:05.930599Z"
    }
   },
   "outputs": [
    {
     "name": "stdout",
     "output_type": "stream",
     "text": [
      "(0/40) normalize_value: column: center\n",
      "(1/40) normalize_value: column: subjectID\n",
      "(2/40) normalize_value: column: uniqueID\n",
      "(3/40) normalize_value: column: headSonogram\n",
      "(4/40) normalize_value: column: headSonogramResultText\n",
      "(5/40) normalize_value: column: headCT\n",
      "(6/40) normalize_value: column: headCTResultText\n",
      "(7/40) normalize_value: column: brainMRI\n",
      "(8/40) normalize_value: column: brainMRIResultText\n",
      "(9/40) normalize_value: column: imagingNumber\n",
      "(10/40) normalize_value: column: headSonogramDate\n",
      "(11/40) normalize_value: column: headSonogramTime\n",
      "(12/40) normalize_value: column: headSonogramResult1\n",
      "(13/40) normalize_value: column: headSonogramResult2\n",
      "(14/40) normalize_value: column: headSonogramResult3\n",
      "(15/40) normalize_value: column: headSonogramResult4\n",
      "(16/40) normalize_value: column: headSonogramResult5\n",
      "(17/40) normalize_value: column: headSonogramResult6\n",
      "(18/40) normalize_value: column: headSonogramResult7\n",
      "(19/40) normalize_value: column: headSonogramResult8\n",
      "(20/40) normalize_value: column: headCTDate\n",
      "(21/40) normalize_value: column: headCTTime\n",
      "(22/40) normalize_value: column: headCTResult1\n",
      "(23/40) normalize_value: column: headCTResult2\n",
      "(24/40) normalize_value: column: headCTResult3\n",
      "(25/40) normalize_value: column: headCTResult4\n",
      "(26/40) normalize_value: column: headCTResult5\n",
      "(27/40) normalize_value: column: headCTResult6\n",
      "(28/40) normalize_value: column: headCTResult7\n",
      "(29/40) normalize_value: column: headCTResult8\n",
      "(30/40) normalize_value: column: brainMRIDate\n",
      "(31/40) normalize_value: column: brainMRITime\n",
      "(32/40) normalize_value: column: brainMRIResult1\n",
      "(33/40) normalize_value: column: brainMRIResult2\n",
      "(34/40) normalize_value: column: brainMRIResult3\n",
      "(35/40) normalize_value: column: brainMRIResult4\n",
      "(36/40) normalize_value: column: brainMRIResult5\n",
      "(37/40) normalize_value: column: brainMRIResult6\n",
      "(38/40) normalize_value: column: brainMRIResult7\n",
      "(39/40) normalize_value: column: brainMRIResult8\n",
      "flatten_index: flatten_ids: ['imagingNumber'] unique_id_map: {np.int64(2): np.int64(2)} the_type: int64\n"
     ]
    }
   ],
   "source": [
    "filename = os.sep.join([input_dir, base_filename])\n",
    "df = pd.read_csv(filename, dtype='O')\n",
    "df = COMBINE_harmonizer.normalize_value(df, _VALUE_MAP, _FLATTEN_IDS, order_map=_ORDER_MAP)"
   ]
  },
  {
   "cell_type": "code",
   "execution_count": 93,
   "id": "66403831",
   "metadata": {
    "execution": {
     "iopub.execute_input": "2025-05-15T04:30:05.932251Z",
     "iopub.status.busy": "2025-05-15T04:30:05.932162Z",
     "iopub.status.idle": "2025-05-15T04:30:05.934690Z",
     "shell.execute_reply": "2025-05-15T04:30:05.934485Z"
    }
   },
   "outputs": [
    {
     "name": "stdout",
     "output_type": "stream",
     "text": [
      "_flatten_index: ([1] / int64)\n"
     ]
    }
   ],
   "source": [
    "# XXX hack for _flatten_index: 2 as 1\n",
    "is_flatten_index_2 = df[COMBINE_harmonizer.FLATTEN_INDEX] == 2\n",
    "df.loc[is_flatten_index_2, COMBINE_harmonizer.FLATTEN_INDEX] = 1\n",
    "\n",
    "print(f\"_flatten_index: ({df[COMBINE_harmonizer.FLATTEN_INDEX].unique()} / {df[COMBINE_harmonizer.FLATTEN_INDEX].dtype})\")"
   ]
  },
  {
   "cell_type": "code",
   "execution_count": 94,
   "id": "4142ca9a",
   "metadata": {
    "execution": {
     "iopub.execute_input": "2025-05-15T04:30:05.935814Z",
     "iopub.status.busy": "2025-05-15T04:30:05.935742Z",
     "iopub.status.idle": "2025-05-15T04:30:06.009561Z",
     "shell.execute_reply": "2025-05-15T04:30:06.009232Z"
    }
   },
   "outputs": [],
   "source": [
    "out_filename = os.sep.join([out_dir, base_filename])\n",
    "df.to_csv(out_filename, index=False)"
   ]
  },
  {
   "cell_type": "code",
   "execution_count": 95,
   "id": "df1b33de",
   "metadata": {
    "execution": {
     "iopub.execute_input": "2025-05-15T04:30:06.011249Z",
     "iopub.status.busy": "2025-05-15T04:30:06.011144Z",
     "iopub.status.idle": "2025-05-15T04:30:06.017379Z",
     "shell.execute_reply": "2025-05-15T04:30:06.017103Z"
    }
   },
   "outputs": [
    {
     "name": "stdout",
     "output_type": "stream",
     "text": [
      "(0/81) center: (357/0)\n",
      "(1/81) center.orig: (357/0)\n",
      "(2/81) subjectID: (357/0)\n",
      "(3/81) subjectID.orig: (357/0)\n",
      "(4/81) uniqueID: (357/0)\n",
      "(5/81) uniqueID.orig: (357/0)\n",
      "(6/81) _flatten_index: (357/0)\n",
      "(7/81) imagingNumber: (357/0)\n",
      "(8/81) imagingNumber.orig: (357/0)\n",
      "(9/81) headSonogram: (357/0)\n",
      "(10/81) headSonogram.orig: (357/0)\n",
      "(11/81) headSonogramDate: (357/0)\n",
      "(12/81) headSonogramDate.orig: (176/181)\n",
      "(13/81) headSonogramTime: (357/0)\n",
      "(14/81) headSonogramTime.orig: (174/183)\n",
      "(15/81) headSonogramResult1: (357/0)\n",
      "(16/81) headSonogramResult1.orig: (174/183)\n",
      "(17/81) headSonogramResult2: (357/0)\n",
      "(18/81) headSonogramResult2.orig: (25/332)\n",
      "(19/81) headSonogramResult3: (357/0)\n",
      "(20/81) headSonogramResult3.orig: (3/354)\n",
      "(21/81) headSonogramResult4: (357/0)\n",
      "(22/81) headSonogramResult4.orig: (0/357)\n",
      "(23/81) headSonogramResult5: (357/0)\n",
      "(24/81) headSonogramResult5.orig: (0/357)\n",
      "(25/81) headSonogramResult6: (357/0)\n",
      "(26/81) headSonogramResult6.orig: (0/357)\n",
      "(27/81) headSonogramResult7: (357/0)\n",
      "(28/81) headSonogramResult7.orig: (0/357)\n",
      "(29/81) headSonogramResult8: (357/0)\n",
      "(30/81) headSonogramResult8.orig: (0/357)\n",
      "(31/81) headSonogramResultText: (357/0)\n",
      "(32/81) headSonogramResultText.orig: (23/334)\n",
      "(33/81) headCT: (357/0)\n",
      "(34/81) headCT.orig: (357/0)\n",
      "(35/81) headCTDate: (357/0)\n",
      "(36/81) headCTDate.orig: (2/355)\n",
      "(37/81) headCTTime: (357/0)\n",
      "(38/81) headCTTime.orig: (2/355)\n",
      "(39/81) headCTResult1: (357/0)\n",
      "(40/81) headCTResult1.orig: (2/355)\n",
      "(41/81) headCTResult2: (357/0)\n",
      "(42/81) headCTResult2.orig: (0/357)\n",
      "(43/81) headCTResult3: (357/0)\n",
      "(44/81) headCTResult3.orig: (0/357)\n",
      "(45/81) headCTResult4: (357/0)\n",
      "(46/81) headCTResult4.orig: (0/357)\n",
      "(47/81) headCTResult5: (357/0)\n",
      "(48/81) headCTResult5.orig: (0/357)\n",
      "(49/81) headCTResult6: (357/0)\n",
      "(50/81) headCTResult6.orig: (0/357)\n",
      "(51/81) headCTResult7: (357/0)\n",
      "(52/81) headCTResult7.orig: (0/357)\n",
      "(53/81) headCTResult8: (357/0)\n",
      "(54/81) headCTResult8.orig: (0/357)\n",
      "(55/81) headCTResultText: (357/0)\n",
      "(56/81) headCTResultText.orig: (0/357)\n",
      "(57/81) brainMRI: (357/0)\n",
      "(58/81) brainMRI.orig: (357/0)\n",
      "(59/81) brainMRIDate: (357/0)\n",
      "(60/81) brainMRIDate.orig: (1/356)\n",
      "(61/81) brainMRITime: (357/0)\n",
      "(62/81) brainMRITime.orig: (1/356)\n",
      "(63/81) brainMRIResult1: (357/0)\n",
      "(64/81) brainMRIResult1.orig: (1/356)\n",
      "(65/81) brainMRIResult2: (357/0)\n",
      "(66/81) brainMRIResult2.orig: (1/356)\n",
      "(67/81) brainMRIResult3: (357/0)\n",
      "(68/81) brainMRIResult3.orig: (1/356)\n",
      "(69/81) brainMRIResult4: (357/0)\n",
      "(70/81) brainMRIResult4.orig: (1/356)\n",
      "(71/81) brainMRIResult5: (357/0)\n",
      "(72/81) brainMRIResult5.orig: (0/357)\n",
      "(73/81) brainMRIResult6: (357/0)\n",
      "(74/81) brainMRIResult6.orig: (0/357)\n",
      "(75/81) brainMRIResult7: (357/0)\n",
      "(76/81) brainMRIResult7.orig: (0/357)\n",
      "(77/81) brainMRIResult8: (357/0)\n",
      "(78/81) brainMRIResult8.orig: (0/357)\n",
      "(79/81) brainMRIResultText: (357/0)\n",
      "(80/81) brainMRIResultText.orig: (0/357)\n"
     ]
    }
   ],
   "source": [
    "COMBINE_harmonizer.column_info(df)"
   ]
  },
  {
   "cell_type": "markdown",
   "id": "6c5ef658",
   "metadata": {},
   "source": [
    "## 03-01-post-normo-temperature"
   ]
  },
  {
   "cell_type": "code",
   "execution_count": 96,
   "id": "91e72293",
   "metadata": {
    "execution": {
     "iopub.execute_input": "2025-05-15T04:30:06.018782Z",
     "iopub.status.busy": "2025-05-15T04:30:06.018691Z",
     "iopub.status.idle": "2025-05-15T04:30:06.020415Z",
     "shell.execute_reply": "2025-05-15T04:30:06.020186Z"
    }
   },
   "outputs": [],
   "source": [
    "_FLATTEN_IDS = ['post_TemperatureTimeSlot_day']\n",
    "base_filename = '03-01-post-temperature.csv'"
   ]
  },
  {
   "cell_type": "code",
   "execution_count": 97,
   "id": "916206b7",
   "metadata": {
    "execution": {
     "iopub.execute_input": "2025-05-15T04:30:06.021663Z",
     "iopub.status.busy": "2025-05-15T04:30:06.021567Z",
     "iopub.status.idle": "2025-05-15T04:30:06.170958Z",
     "shell.execute_reply": "2025-05-15T04:30:06.170506Z"
    }
   },
   "outputs": [
    {
     "name": "stdout",
     "output_type": "stream",
     "text": [
      "(0/10) normalize_value: column: center\n",
      "(1/10) normalize_value: column: subjectID\n",
      "(2/10) normalize_value: column: uniqueID\n",
      "(3/10) normalize_value: column: post_AlterationSkinIntegrity\n",
      "(4/10) normalize_value: column: post_Shiver\n",
      "(5/10) normalize_value: column: post_TemperatureTimeSlot_day\n",
      "(6/10) normalize_value: column: post_TemperatureDate\n",
      "(7/10) normalize_value: column: post_TemperatureTime\n",
      "(8/10) normalize_value: column: post_SkinTemperature_C\n",
      "(9/10) normalize_value: column: post_AxillaryTemperature_C\n",
      "flatten_index: flatten_ids: ['post_TemperatureTimeSlot_day'] unique_id_map: {np.int64(4): np.int64(4), np.int64(5): np.int64(5), np.int64(6): np.int64(6), np.int64(7): np.int64(7), np.int64(8): np.int64(8), np.int64(9): np.int64(9), np.int64(10): np.int64(10)} the_type: int64\n"
     ]
    }
   ],
   "source": [
    "filename = os.sep.join([input_dir, base_filename])\n",
    "df = pd.read_csv(filename, dtype='O')\n",
    "df = COMBINE_harmonizer.normalize_value(df, _VALUE_MAP, _FLATTEN_IDS, order_map=_ORDER_MAP)\n",
    "\n",
    "out_filename = os.sep.join([out_dir, base_filename])\n",
    "df.to_csv(out_filename, index=False)"
   ]
  },
  {
   "cell_type": "code",
   "execution_count": 98,
   "id": "afef9aac",
   "metadata": {
    "execution": {
     "iopub.execute_input": "2025-05-15T04:30:06.172566Z",
     "iopub.status.busy": "2025-05-15T04:30:06.172464Z",
     "iopub.status.idle": "2025-05-15T04:30:06.282630Z",
     "shell.execute_reply": "2025-05-15T04:30:06.282341Z"
    }
   },
   "outputs": [
    {
     "name": "stdout",
     "output_type": "stream",
     "text": [
      "(0/10) normalize_value: column: center\n",
      "(1/10) normalize_value: column: subjectID\n",
      "(2/10) normalize_value: column: uniqueID\n",
      "(3/10) normalize_value: column: post_AlterationSkinIntegrity\n",
      "(4/10) normalize_value: column: post_Shiver\n",
      "(5/10) normalize_value: column: post_TemperatureTimeSlot_day\n",
      "(6/10) normalize_value: column: post_TemperatureDate\n",
      "(7/10) normalize_value: column: post_TemperatureTime\n",
      "(8/10) normalize_value: column: post_SkinTemperature_C\n",
      "(9/10) normalize_value: column: post_AxillaryTemperature_C\n",
      "flatten_index: flatten_ids: ['post_TemperatureTimeSlot_day'] unique_id_map: {np.int64(4): np.int64(4), np.int64(5): np.int64(5), np.int64(6): np.int64(6), np.int64(7): np.int64(7), np.int64(8): np.int64(8), np.int64(9): np.int64(9), np.int64(10): np.int64(10)} the_type: int64\n"
     ]
    }
   ],
   "source": [
    "filename = os.sep.join([input_dir, base_filename])\n",
    "df = pd.read_csv(filename, dtype='O')\n",
    "df = COMBINE_harmonizer.normalize_value(df, _VALUE_MAP, _FLATTEN_IDS, order_map=_ORDER_MAP)\n",
    "\n",
    "out_filename = os.sep.join([out_dir, base_filename])\n",
    "df.to_csv(out_filename, index=False)"
   ]
  },
  {
   "cell_type": "code",
   "execution_count": 99,
   "id": "b087e518",
   "metadata": {
    "execution": {
     "iopub.execute_input": "2025-05-15T04:30:06.284184Z",
     "iopub.status.busy": "2025-05-15T04:30:06.284090Z",
     "iopub.status.idle": "2025-05-15T04:30:06.288302Z",
     "shell.execute_reply": "2025-05-15T04:30:06.287991Z"
    }
   },
   "outputs": [
    {
     "name": "stdout",
     "output_type": "stream",
     "text": [
      "(0/21) center: (1883/0)\n",
      "(1/21) center.orig: (1883/0)\n",
      "(2/21) subjectID: (1883/0)\n",
      "(3/21) subjectID.orig: (1883/0)\n",
      "(4/21) uniqueID: (1883/0)\n",
      "(5/21) uniqueID.orig: (1883/0)\n",
      "(6/21) _flatten_index: (1883/0)\n",
      "(7/21) post_TemperatureTimeSlot_day: (1883/0)\n",
      "(8/21) post_TemperatureTimeSlot_day.orig: (1883/0)\n",
      "(9/21) post_TemperatureDate: (1883/0)\n",
      "(10/21) post_TemperatureDate.orig: (1847/36)\n",
      "(11/21) post_TemperatureTime: (1883/0)\n",
      "(12/21) post_TemperatureTime.orig: (1835/48)\n",
      "(13/21) post_SkinTemperature_C: (1883/0)\n",
      "(14/21) post_SkinTemperature_C.orig: (850/1033)\n",
      "(15/21) post_AxillaryTemperature_C: (1883/0)\n",
      "(16/21) post_AxillaryTemperature_C.orig: (1739/144)\n",
      "(17/21) post_AlterationSkinIntegrity: (1883/0)\n",
      "(18/21) post_AlterationSkinIntegrity.orig: (1847/36)\n",
      "(19/21) post_Shiver: (1883/0)\n",
      "(20/21) post_Shiver.orig: (1847/36)\n"
     ]
    }
   ],
   "source": [
    "COMBINE_harmonizer.column_info(df)"
   ]
  },
  {
   "cell_type": "markdown",
   "id": "793c0f76",
   "metadata": {},
   "source": [
    "## 03-01_s-post-temperature"
   ]
  },
  {
   "cell_type": "markdown",
   "id": "6f9aeb48",
   "metadata": {},
   "source": []
  },
  {
   "cell_type": "code",
   "execution_count": 100,
   "id": "4a69b3bc",
   "metadata": {
    "execution": {
     "iopub.execute_input": "2025-05-15T04:30:06.289908Z",
     "iopub.status.busy": "2025-05-15T04:30:06.289809Z",
     "iopub.status.idle": "2025-05-15T04:30:06.291561Z",
     "shell.execute_reply": "2025-05-15T04:30:06.291321Z"
    }
   },
   "outputs": [],
   "source": [
    "base_filename = '03-01_s-post-temperature.csv'"
   ]
  },
  {
   "cell_type": "code",
   "execution_count": 101,
   "id": "65e3ee46",
   "metadata": {
    "execution": {
     "iopub.execute_input": "2025-05-15T04:30:06.292735Z",
     "iopub.status.busy": "2025-05-15T04:30:06.292649Z",
     "iopub.status.idle": "2025-05-15T04:30:06.388697Z",
     "shell.execute_reply": "2025-05-15T04:30:06.388287Z"
    }
   },
   "outputs": [
    {
     "name": "stdout",
     "output_type": "stream",
     "text": [
      "(0/10) normalize_value: column: center\n",
      "(1/10) normalize_value: column: subjectID\n",
      "(2/10) normalize_value: column: uniqueID\n",
      "(3/10) normalize_value: column: normothermiaAtEndIntervention\n",
      "(4/10) normalize_value: column: noNormothermiaReason\n",
      "(5/10) normalize_value: column: coolAfterInterventionText\n",
      "(6/10) normalize_value: column: normothermiaDate\n",
      "(7/10) normalize_value: column: normothermiaTime\n",
      "(8/10) normalize_value: column: normothermiaAxillaryTemperature_C\n",
      "(9/10) normalize_value: column: coolAfterIntervention\n"
     ]
    }
   ],
   "source": [
    "filename = os.sep.join([input_dir, base_filename])\n",
    "df = pd.read_csv(filename, dtype='O')\n",
    "df = COMBINE_harmonizer.normalize_value(df, _VALUE_MAP, order_map=_ORDER_MAP)\n",
    "\n",
    "out_filename = os.sep.join([out_dir, base_filename])\n",
    "df.to_csv(out_filename, index=False)"
   ]
  },
  {
   "cell_type": "code",
   "execution_count": 102,
   "id": "bb7fa9cc-0549-4891-9aa7-d323b48a7a1b",
   "metadata": {
    "execution": {
     "iopub.execute_input": "2025-05-15T04:30:06.390837Z",
     "iopub.status.busy": "2025-05-15T04:30:06.390645Z",
     "iopub.status.idle": "2025-05-15T04:30:06.395168Z",
     "shell.execute_reply": "2025-05-15T04:30:06.394784Z"
    }
   },
   "outputs": [
    {
     "name": "stdout",
     "output_type": "stream",
     "text": [
      "(0/20) center: (364/0)\n",
      "(1/20) center.orig: (364/0)\n",
      "(2/20) subjectID: (364/0)\n",
      "(3/20) subjectID.orig: (364/0)\n",
      "(4/20) uniqueID: (364/0)\n",
      "(5/20) uniqueID.orig: (364/0)\n",
      "(6/20) normothermiaAtEndIntervention: (364/0)\n",
      "(7/20) normothermiaAtEndIntervention.orig: (364/0)\n",
      "(8/20) normothermiaDate: (364/0)\n",
      "(9/20) normothermiaDate.orig: (313/51)\n",
      "(10/20) normothermiaTime: (364/0)\n",
      "(11/20) normothermiaTime.orig: (313/51)\n",
      "(12/20) normothermiaAxillaryTemperature_C: (364/0)\n",
      "(13/20) normothermiaAxillaryTemperature_C.orig: (268/96)\n",
      "(14/20) noNormothermiaReason: (364/0)\n",
      "(15/20) noNormothermiaReason.orig: (50/314)\n",
      "(16/20) coolAfterIntervention: (364/0)\n",
      "(17/20) coolAfterIntervention.orig: (55/309)\n",
      "(18/20) coolAfterInterventionText: (364/0)\n",
      "(19/20) coolAfterInterventionText.orig: (25/339)\n"
     ]
    }
   ],
   "source": [
    "COMBINE_harmonizer.column_info(df)"
   ]
  },
  {
   "cell_type": "markdown",
   "id": "dd6e2499",
   "metadata": {},
   "source": [
    "## 03-02-post-blood-value"
   ]
  },
  {
   "cell_type": "code",
   "execution_count": 103,
   "id": "e235c0bf",
   "metadata": {
    "execution": {
     "iopub.execute_input": "2025-05-15T04:30:06.398019Z",
     "iopub.status.busy": "2025-05-15T04:30:06.397823Z",
     "iopub.status.idle": "2025-05-15T04:30:06.400026Z",
     "shell.execute_reply": "2025-05-15T04:30:06.399677Z"
    }
   },
   "outputs": [],
   "source": [
    "base_filename = '03-02-post-blood-value.csv'"
   ]
  },
  {
   "cell_type": "code",
   "execution_count": 104,
   "id": "b92d8c97",
   "metadata": {
    "execution": {
     "iopub.execute_input": "2025-05-15T04:30:06.401733Z",
     "iopub.status.busy": "2025-05-15T04:30:06.401573Z",
     "iopub.status.idle": "2025-05-15T04:30:06.527593Z",
     "shell.execute_reply": "2025-05-15T04:30:06.526485Z"
    }
   },
   "outputs": [
    {
     "name": "stdout",
     "output_type": "stream",
     "text": [
      "(0/9) normalize_value: column: center\n",
      "(1/9) normalize_value: column: subjectID\n",
      "(2/9) normalize_value: column: uniqueID\n",
      "(3/9) normalize_value: column: post_BloodValueASTSGOT_UPerL\n",
      "(4/9) normalize_value: column: post_BloodValueASTSGOT_UPerLDate\n",
      "(5/9) normalize_value: column: post_BloodValueALTSGPT_UPerL\n",
      "(6/9) normalize_value: column: post_BloodValueALTSGPT_UPerLDate\n",
      "(7/9) normalize_value: column: post_BloodValueTotalBilirubin_mgPerdL\n",
      "(8/9) normalize_value: column: post_BloodValueTotalBilirubin_mgPerdLDate\n"
     ]
    }
   ],
   "source": [
    "filename = os.sep.join([input_dir, base_filename])\n",
    "df = pd.read_csv(filename, dtype='O')\n",
    "df = COMBINE_harmonizer.normalize_value(df, _VALUE_MAP, order_map=_ORDER_MAP)\n",
    "\n",
    "out_filename = os.sep.join([out_dir, base_filename])\n",
    "df.to_csv(out_filename, index=False)"
   ]
  },
  {
   "cell_type": "code",
   "execution_count": 105,
   "id": "bf9d9640",
   "metadata": {
    "execution": {
     "iopub.execute_input": "2025-05-15T04:30:06.543921Z",
     "iopub.status.busy": "2025-05-15T04:30:06.543652Z",
     "iopub.status.idle": "2025-05-15T04:30:06.547462Z",
     "shell.execute_reply": "2025-05-15T04:30:06.546813Z"
    }
   },
   "outputs": [
    {
     "name": "stdout",
     "output_type": "stream",
     "text": [
      "(0/18) center: (364/0)\n",
      "(1/18) center.orig: (364/0)\n",
      "(2/18) subjectID: (364/0)\n",
      "(3/18) subjectID.orig: (364/0)\n",
      "(4/18) uniqueID: (364/0)\n",
      "(5/18) uniqueID.orig: (364/0)\n",
      "(6/18) post_BloodValueASTSGOT_UPerL: (364/0)\n",
      "(7/18) post_BloodValueASTSGOT_UPerL.orig: (272/92)\n",
      "(8/18) post_BloodValueASTSGOT_UPerLDate: (364/0)\n",
      "(9/18) post_BloodValueASTSGOT_UPerLDate.orig: (275/89)\n",
      "(10/18) post_BloodValueALTSGPT_UPerL: (364/0)\n",
      "(11/18) post_BloodValueALTSGPT_UPerL.orig: (278/86)\n",
      "(12/18) post_BloodValueALTSGPT_UPerLDate: (364/0)\n",
      "(13/18) post_BloodValueALTSGPT_UPerLDate.orig: (281/83)\n",
      "(14/18) post_BloodValueTotalBilirubin_mgPerdL: (364/0)\n",
      "(15/18) post_BloodValueTotalBilirubin_mgPerdL.orig: (281/83)\n",
      "(16/18) post_BloodValueTotalBilirubin_mgPerdLDate: (364/0)\n",
      "(17/18) post_BloodValueTotalBilirubin_mgPerdLDate.orig: (283/81)\n"
     ]
    }
   ],
   "source": [
    "COMBINE_harmonizer.column_info(df)\n"
   ]
  },
  {
   "cell_type": "markdown",
   "id": "1c25db66",
   "metadata": {},
   "source": [
    "## 03-03-post-imaging"
   ]
  },
  {
   "cell_type": "code",
   "execution_count": 106,
   "id": "098832cb",
   "metadata": {
    "execution": {
     "iopub.execute_input": "2025-05-15T04:30:06.549284Z",
     "iopub.status.busy": "2025-05-15T04:30:06.549166Z",
     "iopub.status.idle": "2025-05-15T04:30:06.550997Z",
     "shell.execute_reply": "2025-05-15T04:30:06.550725Z"
    }
   },
   "outputs": [],
   "source": [
    "base_filename = '03-03-post-imaging.csv'"
   ]
  },
  {
   "cell_type": "code",
   "execution_count": 107,
   "id": "2c39a597",
   "metadata": {
    "execution": {
     "iopub.execute_input": "2025-05-15T04:30:06.552347Z",
     "iopub.status.busy": "2025-05-15T04:30:06.552253Z",
     "iopub.status.idle": "2025-05-15T04:30:06.737303Z",
     "shell.execute_reply": "2025-05-15T04:30:06.728239Z"
    }
   },
   "outputs": [
    {
     "name": "stdout",
     "output_type": "stream",
     "text": [
      "(0/39) normalize_value: column: center\n",
      "(1/39) normalize_value: column: subjectID\n",
      "(2/39) normalize_value: column: uniqueID\n",
      "(3/39) normalize_value: column: post_HeadSonogram\n",
      "(4/39) normalize_value: column: post_HeadSonogramResultText\n",
      "(5/39) normalize_value: column: post_HeadCT\n",
      "(6/39) normalize_value: column: post_HeadCTResultText\n",
      "(7/39) normalize_value: column: post_BrainMRI\n",
      "(8/39) normalize_value: column: post_BrainMRIResultText\n",
      "(9/39) normalize_value: column: post_HeadSonogramDate\n",
      "(10/39) normalize_value: column: post_HeadSonogramTime\n",
      "(11/39) normalize_value: column: post_HeadSonogramResult1\n",
      "(12/39) normalize_value: column: post_HeadSonogramResult2\n",
      "(13/39) normalize_value: column: post_HeadSonogramResult3\n",
      "(14/39) normalize_value: column: post_HeadSonogramResult4\n",
      "(15/39) normalize_value: column: post_HeadSonogramResult5\n",
      "(16/39) normalize_value: column: post_HeadSonogramResult6\n",
      "(17/39) normalize_value: column: post_HeadSonogramResult7\n",
      "(18/39) normalize_value: column: post_HeadSonogramResult8\n",
      "(19/39) normalize_value: column: post_HeadCTDate\n",
      "(20/39) normalize_value: column: post_HeadCTTime\n",
      "(21/39) normalize_value: column: post_HeadCTResult1\n",
      "(22/39) normalize_value: column: post_HeadCTResult2\n",
      "(23/39) normalize_value: column: post_HeadCTResult3\n",
      "(24/39) normalize_value: column: post_HeadCTResult4\n",
      "(25/39) normalize_value: column: post_HeadCTResult5\n",
      "(26/39) normalize_value: column: post_HeadCTResult6\n",
      "(27/39) normalize_value: column: post_HeadCTResult7\n",
      "(28/39) normalize_value: column: post_HeadCTResult8\n",
      "(29/39) normalize_value: column: post_BrainMRIDate\n",
      "(30/39) normalize_value: column: post_BrainMRITime\n",
      "(31/39) normalize_value: column: post_BrainMRIResult1\n",
      "(32/39) normalize_value: column: post_BrainMRIResult2\n",
      "(33/39) normalize_value: column: post_BrainMRIResult3\n",
      "(34/39) normalize_value: column: post_BrainMRIResult4\n",
      "(35/39) normalize_value: column: post_BrainMRIResult5\n",
      "(36/39) normalize_value: column: post_BrainMRIResult6\n",
      "(37/39) normalize_value: column: post_BrainMRIResult7\n",
      "(38/39) normalize_value: column: post_BrainMRIResult8\n"
     ]
    }
   ],
   "source": [
    "filename = os.sep.join([input_dir, base_filename])\n",
    "df = pd.read_csv(filename, dtype='O')\n",
    "df = COMBINE_harmonizer.normalize_value(df, _VALUE_MAP, order_map=_ORDER_MAP)\n",
    "\n",
    "out_filename = os.sep.join([out_dir, base_filename])\n",
    "df.to_csv(out_filename, index=False)"
   ]
  },
  {
   "cell_type": "code",
   "execution_count": 108,
   "id": "cdd1e9c5",
   "metadata": {
    "execution": {
     "iopub.execute_input": "2025-05-15T04:30:06.741048Z",
     "iopub.status.busy": "2025-05-15T04:30:06.740855Z",
     "iopub.status.idle": "2025-05-15T04:30:06.750178Z",
     "shell.execute_reply": "2025-05-15T04:30:06.749378Z"
    }
   },
   "outputs": [
    {
     "name": "stdout",
     "output_type": "stream",
     "text": [
      "(0/78) center: (361/0)\n",
      "(1/78) center.orig: (361/0)\n",
      "(2/78) subjectID: (361/0)\n",
      "(3/78) subjectID.orig: (361/0)\n",
      "(4/78) uniqueID: (361/0)\n",
      "(5/78) uniqueID.orig: (361/0)\n",
      "(6/78) post_HeadSonogram: (361/0)\n",
      "(7/78) post_HeadSonogram.orig: (361/0)\n",
      "(8/78) post_HeadSonogramDate: (361/0)\n",
      "(9/78) post_HeadSonogramDate.orig: (148/213)\n",
      "(10/78) post_HeadSonogramTime: (361/0)\n",
      "(11/78) post_HeadSonogramTime.orig: (146/215)\n",
      "(12/78) post_HeadSonogramResult1: (361/0)\n",
      "(13/78) post_HeadSonogramResult1.orig: (147/214)\n",
      "(14/78) post_HeadSonogramResult2: (361/0)\n",
      "(15/78) post_HeadSonogramResult2.orig: (21/340)\n",
      "(16/78) post_HeadSonogramResult3: (361/0)\n",
      "(17/78) post_HeadSonogramResult3.orig: (8/353)\n",
      "(18/78) post_HeadSonogramResult4: (361/0)\n",
      "(19/78) post_HeadSonogramResult4.orig: (2/359)\n",
      "(20/78) post_HeadSonogramResult5: (361/0)\n",
      "(21/78) post_HeadSonogramResult5.orig: (0/361)\n",
      "(22/78) post_HeadSonogramResult6: (361/0)\n",
      "(23/78) post_HeadSonogramResult6.orig: (0/361)\n",
      "(24/78) post_HeadSonogramResult7: (361/0)\n",
      "(25/78) post_HeadSonogramResult7.orig: (0/361)\n",
      "(26/78) post_HeadSonogramResult8: (361/0)\n",
      "(27/78) post_HeadSonogramResult8.orig: (0/361)\n",
      "(28/78) post_HeadSonogramResultText: (361/0)\n",
      "(29/78) post_HeadSonogramResultText.orig: (14/347)\n",
      "(30/78) post_HeadCT: (361/0)\n",
      "(31/78) post_HeadCT.orig: (361/0)\n",
      "(32/78) post_HeadCTDate: (361/0)\n",
      "(33/78) post_HeadCTDate.orig: (2/359)\n",
      "(34/78) post_HeadCTTime: (361/0)\n",
      "(35/78) post_HeadCTTime.orig: (2/359)\n",
      "(36/78) post_HeadCTResult1: (361/0)\n",
      "(37/78) post_HeadCTResult1.orig: (2/359)\n",
      "(38/78) post_HeadCTResult2: (361/0)\n",
      "(39/78) post_HeadCTResult2.orig: (2/359)\n",
      "(40/78) post_HeadCTResult3: (361/0)\n",
      "(41/78) post_HeadCTResult3.orig: (1/360)\n",
      "(42/78) post_HeadCTResult4: (361/0)\n",
      "(43/78) post_HeadCTResult4.orig: (0/361)\n",
      "(44/78) post_HeadCTResult5: (361/0)\n",
      "(45/78) post_HeadCTResult5.orig: (0/361)\n",
      "(46/78) post_HeadCTResult6: (361/0)\n",
      "(47/78) post_HeadCTResult6.orig: (0/361)\n",
      "(48/78) post_HeadCTResult7: (361/0)\n",
      "(49/78) post_HeadCTResult7.orig: (0/361)\n",
      "(50/78) post_HeadCTResult8: (361/0)\n",
      "(51/78) post_HeadCTResult8.orig: (0/361)\n",
      "(52/78) post_HeadCTResultText: (361/0)\n",
      "(53/78) post_HeadCTResultText.orig: (1/360)\n",
      "(54/78) post_BrainMRI: (361/0)\n",
      "(55/78) post_BrainMRI.orig: (361/0)\n",
      "(56/78) post_BrainMRIDate: (361/0)\n",
      "(57/78) post_BrainMRIDate.orig: (321/40)\n",
      "(58/78) post_BrainMRITime: (361/0)\n",
      "(59/78) post_BrainMRITime.orig: (320/41)\n",
      "(60/78) post_BrainMRIResult1: (361/0)\n",
      "(61/78) post_BrainMRIResult1.orig: (321/40)\n",
      "(62/78) post_BrainMRIResult2: (361/0)\n",
      "(63/78) post_BrainMRIResult2.orig: (134/227)\n",
      "(64/78) post_BrainMRIResult3: (361/0)\n",
      "(65/78) post_BrainMRIResult3.orig: (78/283)\n",
      "(66/78) post_BrainMRIResult4: (361/0)\n",
      "(67/78) post_BrainMRIResult4.orig: (45/316)\n",
      "(68/78) post_BrainMRIResult5: (361/0)\n",
      "(69/78) post_BrainMRIResult5.orig: (15/346)\n",
      "(70/78) post_BrainMRIResult6: (361/0)\n",
      "(71/78) post_BrainMRIResult6.orig: (4/357)\n",
      "(72/78) post_BrainMRIResult7: (361/0)\n",
      "(73/78) post_BrainMRIResult7.orig: (2/359)\n",
      "(74/78) post_BrainMRIResult8: (361/0)\n",
      "(75/78) post_BrainMRIResult8.orig: (1/360)\n",
      "(76/78) post_BrainMRIResultText: (361/0)\n",
      "(77/78) post_BrainMRIResultText.orig: (83/278)\n"
     ]
    }
   ],
   "source": [
    "COMBINE_harmonizer.column_info(df)\n"
   ]
  },
  {
   "cell_type": "markdown",
   "id": "31d8e395",
   "metadata": {},
   "source": [
    "## 03-04-post-normo-neuro-exam"
   ]
  },
  {
   "cell_type": "code",
   "execution_count": 109,
   "id": "0ebcd2d6",
   "metadata": {
    "execution": {
     "iopub.execute_input": "2025-05-15T04:30:06.754122Z",
     "iopub.status.busy": "2025-05-15T04:30:06.753826Z",
     "iopub.status.idle": "2025-05-15T04:30:06.757523Z",
     "shell.execute_reply": "2025-05-15T04:30:06.756958Z"
    }
   },
   "outputs": [],
   "source": [
    "base_filename = '03-04-post-neuro-exam.csv'"
   ]
  },
  {
   "cell_type": "code",
   "execution_count": 110,
   "id": "99ac01f0",
   "metadata": {
    "execution": {
     "iopub.execute_input": "2025-05-15T04:30:06.760599Z",
     "iopub.status.busy": "2025-05-15T04:30:06.760215Z",
     "iopub.status.idle": "2025-05-15T04:30:06.917328Z",
     "shell.execute_reply": "2025-05-15T04:30:06.915800Z"
    }
   },
   "outputs": [
    {
     "name": "stdout",
     "output_type": "stream",
     "text": [
      "(0/21) normalize_value: column: center\n",
      "(1/21) normalize_value: column: subjectID\n",
      "(2/21) normalize_value: column: uniqueID\n",
      "(3/21) normalize_value: column: post_NeuroExamTone\n",
      "[WARN] unable to float: val (**/<class 'str'>) e: could not convert string to float: '**'\n",
      "[WARN] unable to get value: sheet_name: signOfHIETone value: ** value_float: ** value_int: **\n",
      "(4/21) normalize_value: column: post_NeuroExamRespiration\n",
      "[WARN] unable to float: val (**/<class 'str'>) e: could not convert string to float: '**'\n",
      "[WARN] unable to get value: sheet_name: signOfHIERespiratory value: ** value_float: ** value_int: **\n",
      "(5/21) normalize_value: column: post_NeuroExamSeizure\n",
      "(6/21) normalize_value: column: post_NeuroExamSedate\n",
      "(7/21) normalize_value: column: post_NeuroExamClonusSustained\n",
      "(8/21) normalize_value: column: post_NeuroExamFistedHand\n",
      "(9/21) normalize_value: column: post_NeuroExamAbnormalMovement\n",
      "(10/21) normalize_value: column: post_NeuroExamGagReflexAbsent\n",
      "(11/21) normalize_value: column: post_NeuroExamAsymTonicNeckReflex\n",
      "(12/21) normalize_value: column: post_NeuroExamDate\n",
      "(13/21) normalize_value: column: post_NeuroExamTime\n",
      "(14/21) normalize_value: column: post_NeuroExamLevelConsciousness\n",
      "(15/21) normalize_value: column: post_NeuroExamSpontaneousActivity\n",
      "(16/21) normalize_value: column: post_NeuroExamPosture\n",
      "(17/21) normalize_value: column: post_NeuroExamSuck\n",
      "(18/21) normalize_value: column: post_NeuroExamMoro\n",
      "(19/21) normalize_value: column: post_NeuroExamPupils\n",
      "(20/21) normalize_value: column: post_NeuroExamHeartRate\n"
     ]
    }
   ],
   "source": [
    "filename = os.sep.join([input_dir, base_filename])\n",
    "df = pd.read_csv(filename, dtype='O')\n",
    "df = COMBINE_harmonizer.normalize_value(df, _VALUE_MAP, order_map=_ORDER_MAP)\n",
    "\n",
    "out_filename = os.sep.join([out_dir, base_filename])\n",
    "df.to_csv(out_filename, index=False)"
   ]
  },
  {
   "cell_type": "code",
   "execution_count": 111,
   "id": "1ce4ff23",
   "metadata": {
    "execution": {
     "iopub.execute_input": "2025-05-15T04:30:06.923812Z",
     "iopub.status.busy": "2025-05-15T04:30:06.923357Z",
     "iopub.status.idle": "2025-05-15T04:30:06.938041Z",
     "shell.execute_reply": "2025-05-15T04:30:06.937675Z"
    }
   },
   "outputs": [
    {
     "name": "stdout",
     "output_type": "stream",
     "text": [
      "(0/42) center: (364/0)\n",
      "(1/42) center.orig: (364/0)\n",
      "(2/42) subjectID: (364/0)\n",
      "(3/42) subjectID.orig: (364/0)\n",
      "(4/42) uniqueID: (364/0)\n",
      "(5/42) uniqueID.orig: (364/0)\n",
      "(6/42) post_NeuroExamDate: (364/0)\n",
      "(7/42) post_NeuroExamDate.orig: (308/56)\n",
      "(8/42) post_NeuroExamTime: (364/0)\n",
      "(9/42) post_NeuroExamTime.orig: (307/57)\n",
      "(10/42) post_NeuroExamLevelConsciousness: (364/0)\n",
      "(11/42) post_NeuroExamLevelConsciousness.orig: (308/56)\n",
      "(12/42) post_NeuroExamSpontaneousActivity: (364/0)\n",
      "(13/42) post_NeuroExamSpontaneousActivity.orig: (308/56)\n",
      "(14/42) post_NeuroExamPosture: (364/0)\n",
      "(15/42) post_NeuroExamPosture.orig: (307/57)\n",
      "(16/42) post_NeuroExamTone: (364/0)\n",
      "(17/42) post_NeuroExamTone.orig: (308/56)\n",
      "(18/42) post_NeuroExamSuck: (364/0)\n",
      "(19/42) post_NeuroExamSuck.orig: (306/58)\n",
      "(20/42) post_NeuroExamMoro: (364/0)\n",
      "(21/42) post_NeuroExamMoro.orig: (289/75)\n",
      "(22/42) post_NeuroExamPupils: (364/0)\n",
      "(23/42) post_NeuroExamPupils.orig: (290/74)\n",
      "(24/42) post_NeuroExamHeartRate: (364/0)\n",
      "(25/42) post_NeuroExamHeartRate.orig: (306/58)\n",
      "(26/42) post_NeuroExamRespiration: (364/0)\n",
      "(27/42) post_NeuroExamRespiration.orig: (308/56)\n",
      "(28/42) post_NeuroExamSeizure: (364/0)\n",
      "(29/42) post_NeuroExamSeizure.orig: (308/56)\n",
      "(30/42) post_NeuroExamSedate: (364/0)\n",
      "(31/42) post_NeuroExamSedate.orig: (308/56)\n",
      "(32/42) post_NeuroExamClonusSustained: (364/0)\n",
      "(33/42) post_NeuroExamClonusSustained.orig: (308/56)\n",
      "(34/42) post_NeuroExamFistedHand: (364/0)\n",
      "(35/42) post_NeuroExamFistedHand.orig: (308/56)\n",
      "(36/42) post_NeuroExamAbnormalMovement: (364/0)\n",
      "(37/42) post_NeuroExamAbnormalMovement.orig: (308/56)\n",
      "(38/42) post_NeuroExamGagReflexAbsent: (364/0)\n",
      "(39/42) post_NeuroExamGagReflexAbsent.orig: (308/56)\n",
      "(40/42) post_NeuroExamAsymTonicNeckReflex: (364/0)\n",
      "(41/42) post_NeuroExamAsymTonicNeckReflex.orig: (0/364)\n"
     ]
    }
   ],
   "source": [
    "COMBINE_harmonizer.column_info(df)"
   ]
  },
  {
   "cell_type": "markdown",
   "id": "cac786da",
   "metadata": {},
   "source": [
    "## 03-05-mri"
   ]
  },
  {
   "cell_type": "code",
   "execution_count": 112,
   "id": "c276558c",
   "metadata": {
    "execution": {
     "iopub.execute_input": "2025-05-15T04:30:06.939811Z",
     "iopub.status.busy": "2025-05-15T04:30:06.939672Z",
     "iopub.status.idle": "2025-05-15T04:30:06.941398Z",
     "shell.execute_reply": "2025-05-15T04:30:06.941163Z"
    }
   },
   "outputs": [],
   "source": [
    "_FLATTEN_IDS = ['MRIReader']\n",
    "base_filename = '03-05-mri.csv'"
   ]
  },
  {
   "cell_type": "code",
   "execution_count": 113,
   "id": "9fb87f08",
   "metadata": {
    "execution": {
     "iopub.execute_input": "2025-05-15T04:30:06.942754Z",
     "iopub.status.busy": "2025-05-15T04:30:06.942658Z",
     "iopub.status.idle": "2025-05-15T04:30:07.077554Z",
     "shell.execute_reply": "2025-05-15T04:30:07.077320Z"
    }
   },
   "outputs": [
    {
     "name": "stdout",
     "output_type": "stream",
     "text": [
      "(0/77) normalize_value: column: center\n",
      "(1/77) normalize_value: column: subjectID\n",
      "(2/77) normalize_value: column: uniqueID\n",
      "(3/77) normalize_value: column: MRIIncrement\n",
      "(4/77) normalize_value: column: MRIReader\n",
      "(5/77) normalize_value: column: MRIReadDate\n",
      "(6/77) normalize_value: column: MRIDate\n",
      "(7/77) normalize_value: column: MRIStrength_T\n",
      "(8/77) normalize_value: column: MRIAdequateQuality\n",
      "(9/77) normalize_value: column: MRIAdequateQuality_c\n",
      "(10/77) normalize_value: column: MRIT1Axial\n",
      "(11/77) normalize_value: column: MRIT1Coronal\n",
      "(12/77) normalize_value: column: MRIT1Sagittal\n",
      "(13/77) normalize_value: column: MRIT1\n",
      "(14/77) normalize_value: column: MRIT2Axial\n",
      "(15/77) normalize_value: column: MRIT2Coronal\n",
      "(16/77) normalize_value: column: MRIT2Sagittal\n",
      "(17/77) normalize_value: column: MRIT2\n",
      "(18/77) normalize_value: column: MRIT2FLAIRAxial\n",
      "(19/77) normalize_value: column: MRIT2FLAIRCoronal\n",
      "(20/77) normalize_value: column: MRIT2FLAIRSagittal\n",
      "(21/77) normalize_value: column: MRIT2FLAIR\n",
      "(22/77) normalize_value: column: MRIGRESWIAxial\n",
      "(23/77) normalize_value: column: MRIGRESWICoronal\n",
      "(24/77) normalize_value: column: MRIGRESWISagittal\n",
      "(25/77) normalize_value: column: MRIGRESWI\n",
      "(26/77) normalize_value: column: MRISPGRAxial\n",
      "(27/77) normalize_value: column: MRISPGRCoronal\n",
      "(28/77) normalize_value: column: MRISPGRSagittal\n",
      "(29/77) normalize_value: column: MRISPGR\n",
      "(30/77) normalize_value: column: MRIDWI\n",
      "(31/77) normalize_value: column: MRIDWI_c\n",
      "(32/77) normalize_value: column: MRIADC\n",
      "(33/77) normalize_value: column: MRIADC_c\n",
      "(34/77) normalize_value: column: MRIOther\n",
      "(35/77) normalize_value: column: MRIOther_c\n",
      "(36/77) normalize_value: column: MRIOtherText\n",
      "(37/77) normalize_value: column: MRIOverallDiagnosis\n",
      "[WARN] unable to get value: sheet_name: MRIOverallDiagnosis value: - value_float:  value_int: \n",
      "[WARN] unable to get value: sheet_name: MRIOverallDiagnosis value: - value_float:  value_int: \n",
      "[WARN] unable to get value: sheet_name: MRIOverallDiagnosis value: - value_float:  value_int: \n",
      "[WARN] unable to get value: sheet_name: MRIOverallDiagnosis value: - value_float:  value_int: \n",
      "[WARN] unable to get value: sheet_name: MRIOverallDiagnosis value: - value_float:  value_int: \n",
      "[WARN] unable to get value: sheet_name: MRIOverallDiagnosis value: - value_float:  value_int: \n",
      "[WARN] unable to get value: sheet_name: MRIOverallDiagnosis value: - value_float:  value_int: \n",
      "[WARN] unable to get value: sheet_name: MRIOverallDiagnosis value: - value_float:  value_int: \n",
      "[WARN] unable to get value: sheet_name: MRIOverallDiagnosis value: - value_float:  value_int: \n",
      "[WARN] unable to get value: sheet_name: MRIOverallDiagnosis value: - value_float:  value_int: \n",
      "[WARN] unable to get value: sheet_name: MRIOverallDiagnosis value: - value_float:  value_int: \n",
      "[WARN] unable to get value: sheet_name: MRIOverallDiagnosis value: - value_float:  value_int: \n",
      "[WARN] unable to get value: sheet_name: MRIOverallDiagnosis value: - value_float:  value_int: \n",
      "[WARN] unable to get value: sheet_name: MRIOverallDiagnosis value: - value_float:  value_int: \n",
      "[WARN] unable to get value: sheet_name: MRIOverallDiagnosis value: - value_float:  value_int: \n",
      "[WARN] unable to get value: sheet_name: MRIOverallDiagnosis value: - value_float:  value_int: \n",
      "[WARN] unable to get value: sheet_name: MRIOverallDiagnosis value: - value_float:  value_int: \n",
      "[WARN] unable to get value: sheet_name: MRIOverallDiagnosis value: - value_float:  value_int: \n",
      "[WARN] unable to get value: sheet_name: MRIOverallDiagnosis value: - value_float:  value_int: \n",
      "[WARN] unable to get value: sheet_name: MRIOverallDiagnosis value: - value_float:  value_int: \n",
      "[WARN] unable to get value: sheet_name: MRIOverallDiagnosis value: - value_float:  value_int: \n",
      "[WARN] unable to get value: sheet_name: MRIOverallDiagnosis value: - value_float:  value_int: \n",
      "[WARN] unable to get value: sheet_name: MRIOverallDiagnosis value: - value_float:  value_int: \n",
      "[WARN] unable to get value: sheet_name: MRIOverallDiagnosis value: - value_float:  value_int: \n",
      "[WARN] unable to get value: sheet_name: MRIOverallDiagnosis value: - value_float:  value_int: \n",
      "[WARN] unable to get value: sheet_name: MRIOverallDiagnosis value: - value_float:  value_int: \n",
      "[WARN] unable to get value: sheet_name: MRIOverallDiagnosis value: - value_float:  value_int: \n",
      "[WARN] unable to get value: sheet_name: MRIOverallDiagnosis value: - value_float:  value_int: \n",
      "[WARN] unable to get value: sheet_name: MRIOverallDiagnosis value: - value_float:  value_int: \n",
      "[WARN] unable to get value: sheet_name: MRIOverallDiagnosis value: - value_float:  value_int: \n",
      "[WARN] unable to get value: sheet_name: MRIOverallDiagnosis value: - value_float:  value_int: \n",
      "[WARN] unable to get value: sheet_name: MRIOverallDiagnosis value: - value_float:  value_int: \n",
      "[WARN] unable to get value: sheet_name: MRIOverallDiagnosis value: - value_float:  value_int: \n",
      "[WARN] unable to get value: sheet_name: MRIOverallDiagnosis value: - value_float:  value_int: \n",
      "[WARN] unable to get value: sheet_name: MRIOverallDiagnosis value: - value_float:  value_int: \n",
      "[WARN] unable to get value: sheet_name: MRIOverallDiagnosis value: - value_float:  value_int: \n",
      "[WARN] unable to get value: sheet_name: MRIOverallDiagnosis value: - value_float:  value_int: \n",
      "[WARN] unable to get value: sheet_name: MRIOverallDiagnosis value: - value_float:  value_int: \n",
      "[WARN] unable to get value: sheet_name: MRIOverallDiagnosis value: - value_float:  value_int: \n",
      "[WARN] unable to get value: sheet_name: MRIOverallDiagnosis value: - value_float:  value_int: \n",
      "[WARN] unable to get value: sheet_name: MRIOverallDiagnosis value: - value_float:  value_int: \n",
      "[WARN] unable to get value: sheet_name: MRIOverallDiagnosis value: - value_float:  value_int: \n",
      "[WARN] unable to get value: sheet_name: MRIOverallDiagnosis value: - value_float:  value_int: \n",
      "[WARN] unable to get value: sheet_name: MRIOverallDiagnosis value: - value_float:  value_int: \n",
      "[WARN] unable to get value: sheet_name: MRIOverallDiagnosis value: - value_float:  value_int: \n",
      "[WARN] unable to get value: sheet_name: MRIOverallDiagnosis value: - value_float:  value_int: \n",
      "[WARN] unable to get value: sheet_name: MRIOverallDiagnosis value: - value_float:  value_int: \n",
      "[WARN] unable to get value: sheet_name: MRIOverallDiagnosis value: - value_float:  value_int: \n",
      "[WARN] unable to get value: sheet_name: MRIOverallDiagnosis value: - value_float:  value_int: \n",
      "[WARN] unable to get value: sheet_name: MRIOverallDiagnosis value: - value_float:  value_int: \n",
      "[WARN] unable to get value: sheet_name: MRIOverallDiagnosis value: - value_float:  value_int: \n",
      "[WARN] unable to get value: sheet_name: MRIOverallDiagnosis value: - value_float:  value_int: \n",
      "[WARN] unable to get value: sheet_name: MRIOverallDiagnosis value: - value_float:  value_int: \n",
      "[WARN] unable to get value: sheet_name: MRIOverallDiagnosis value: - value_float:  value_int: \n",
      "[WARN] unable to get value: sheet_name: MRIOverallDiagnosis value: - value_float:  value_int: \n",
      "[WARN] unable to get value: sheet_name: MRIOverallDiagnosis value: - value_float:  value_int: \n",
      "[WARN] unable to get value: sheet_name: MRIOverallDiagnosis value: - value_float:  value_int: \n",
      "[WARN] unable to get value: sheet_name: MRIOverallDiagnosis value: - value_float:  value_int: \n",
      "[WARN] unable to get value: sheet_name: MRIOverallDiagnosis value: - value_float:  value_int: \n",
      "[WARN] unable to get value: sheet_name: MRIOverallDiagnosis value: - value_float:  value_int: \n",
      "[WARN] unable to get value: sheet_name: MRIOverallDiagnosis value: - value_float:  value_int: \n",
      "[WARN] unable to get value: sheet_name: MRIOverallDiagnosis value: - value_float:  value_int: \n",
      "[WARN] unable to get value: sheet_name: MRIOverallDiagnosis value: - value_float:  value_int: \n",
      "[WARN] unable to get value: sheet_name: MRIOverallDiagnosis value: - value_float:  value_int: \n",
      "[WARN] unable to get value: sheet_name: MRIOverallDiagnosis value: - value_float:  value_int: \n",
      "[WARN] unable to get value: sheet_name: MRIOverallDiagnosis value: - value_float:  value_int: \n",
      "[WARN] unable to get value: sheet_name: MRIOverallDiagnosis value: - value_float:  value_int: \n",
      "[WARN] unable to get value: sheet_name: MRIOverallDiagnosis value: - value_float:  value_int: \n",
      "[WARN] unable to get value: sheet_name: MRIOverallDiagnosis value: - value_float:  value_int: \n",
      "[WARN] unable to get value: sheet_name: MRIOverallDiagnosis value: - value_float:  value_int: \n",
      "[WARN] unable to get value: sheet_name: MRIOverallDiagnosis value: - value_float:  value_int: \n",
      "[WARN] unable to get value: sheet_name: MRIOverallDiagnosis value: - value_float:  value_int: \n",
      "[WARN] unable to get value: sheet_name: MRIOverallDiagnosis value: - value_float:  value_int: \n",
      "[WARN] unable to get value: sheet_name: MRIOverallDiagnosis value: - value_float:  value_int: \n",
      "[WARN] unable to get value: sheet_name: MRIOverallDiagnosis value: - value_float:  value_int: \n",
      "[WARN] unable to get value: sheet_name: MRIOverallDiagnosis value: - value_float:  value_int: \n",
      "[WARN] unable to get value: sheet_name: MRIOverallDiagnosis value: - value_float:  value_int: \n",
      "[WARN] unable to get value: sheet_name: MRIOverallDiagnosis value: - value_float:  value_int: \n",
      "[WARN] unable to get value: sheet_name: MRIOverallDiagnosis value: - value_float:  value_int: \n",
      "[WARN] unable to get value: sheet_name: MRIOverallDiagnosis value: - value_float:  value_int: \n",
      "[WARN] unable to get value: sheet_name: MRIOverallDiagnosis value: - value_float:  value_int: \n",
      "[WARN] unable to get value: sheet_name: MRIOverallDiagnosis value: - value_float:  value_int: \n",
      "[WARN] unable to get value: sheet_name: MRIOverallDiagnosis value: - value_float:  value_int: \n",
      "[WARN] unable to get value: sheet_name: MRIOverallDiagnosis value: - value_float:  value_int: \n",
      "[WARN] unable to get value: sheet_name: MRIOverallDiagnosis value: - value_float:  value_int: \n",
      "[WARN] unable to get value: sheet_name: MRIOverallDiagnosis value: - value_float:  value_int: \n",
      "[WARN] unable to get value: sheet_name: MRIOverallDiagnosis value: - value_float:  value_int: \n",
      "[WARN] unable to get value: sheet_name: MRIOverallDiagnosis value: - value_float:  value_int: \n",
      "(38/77) normalize_value: column: MRIOverallDiagnosis_c\n",
      "(39/77) normalize_value: column: MRIAbnormal\n",
      "(40/77) normalize_value: column: MRIAbnormal_c\n",
      "(41/77) normalize_value: column: MRIMRS\n",
      "(42/77) normalize_value: column: MRIMRS_c\n",
      "(43/77) normalize_value: column: MRICerebralAtrophy\n",
      "(44/77) normalize_value: column: MRICerebralAtrophy_c\n",
      "(45/77) normalize_value: column: MRICerebralAtrophyRegion\n",
      "(46/77) normalize_value: column: MRICerebralAtrophyQualAssessCC\n",
      "[WARN] unable to get value: sheet_name: MRISeverity value: - value_float:  value_int: \n",
      "[WARN] unable to get value: sheet_name: MRISeverity value: - value_float:  value_int: \n",
      "[WARN] unable to get value: sheet_name: MRISeverity value: - value_float:  value_int: \n",
      "[WARN] unable to get value: sheet_name: MRISeverity value: - value_float:  value_int: \n",
      "[WARN] unable to get value: sheet_name: MRISeverity value: - value_float:  value_int: \n",
      "[WARN] unable to get value: sheet_name: MRISeverity value: - value_float:  value_int: \n",
      "[WARN] unable to get value: sheet_name: MRISeverity value: - value_float:  value_int: \n",
      "[WARN] unable to get value: sheet_name: MRISeverity value: - value_float:  value_int: \n",
      "[WARN] unable to get value: sheet_name: MRISeverity value: - value_float:  value_int: \n",
      "[WARN] unable to get value: sheet_name: MRISeverity value: - value_float:  value_int: \n",
      "[WARN] unable to get value: sheet_name: MRISeverity value: - value_float:  value_int: \n",
      "[WARN] unable to get value: sheet_name: MRISeverity value: - value_float:  value_int: \n",
      "[WARN] unable to get value: sheet_name: MRISeverity value: - value_float:  value_int: \n",
      "[WARN] unable to get value: sheet_name: MRISeverity value: - value_float:  value_int: \n",
      "[WARN] unable to get value: sheet_name: MRISeverity value: - value_float:  value_int: \n",
      "[WARN] unable to get value: sheet_name: MRISeverity value: - value_float:  value_int: \n",
      "[WARN] unable to get value: sheet_name: MRISeverity value: - value_float:  value_int: \n",
      "[WARN] unable to get value: sheet_name: MRISeverity value: - value_float:  value_int: \n",
      "[WARN] unable to get value: sheet_name: MRISeverity value: - value_float:  value_int: \n",
      "[WARN] unable to get value: sheet_name: MRISeverity value: - value_float:  value_int: \n",
      "(47/77) normalize_value: column: MRICerebralAtrophyQualAssessCC_c\n",
      "(48/77) normalize_value: column: MRICerebralAtrophyQualAssessVDLeft\n",
      "[WARN] unable to get value: sheet_name: MRISeverity value: - value_float:  value_int: \n",
      "[WARN] unable to get value: sheet_name: MRISeverity value: - value_float:  value_int: \n",
      "[WARN] unable to get value: sheet_name: MRISeverity value: - value_float:  value_int: \n",
      "[WARN] unable to get value: sheet_name: MRISeverity value: - value_float:  value_int: \n",
      "[WARN] unable to get value: sheet_name: MRISeverity value: - value_float:  value_int: \n",
      "[WARN] unable to get value: sheet_name: MRISeverity value: - value_float:  value_int: \n",
      "[WARN] unable to get value: sheet_name: MRISeverity value: - value_float:  value_int: \n",
      "[WARN] unable to get value: sheet_name: MRISeverity value: - value_float:  value_int: \n",
      "[WARN] unable to get value: sheet_name: MRISeverity value: - value_float:  value_int: \n",
      "[WARN] unable to get value: sheet_name: MRISeverity value: - value_float:  value_int: \n",
      "[WARN] unable to get value: sheet_name: MRISeverity value: - value_float:  value_int: \n",
      "[WARN] unable to get value: sheet_name: MRISeverity value: - value_float:  value_int: \n",
      "[WARN] unable to get value: sheet_name: MRISeverity value: - value_float:  value_int: \n",
      "[WARN] unable to get value: sheet_name: MRISeverity value: - value_float:  value_int: \n",
      "[WARN] unable to get value: sheet_name: MRISeverity value: - value_float:  value_int: \n",
      "[WARN] unable to get value: sheet_name: MRISeverity value: - value_float:  value_int: \n",
      "[WARN] unable to get value: sheet_name: MRISeverity value: - value_float:  value_int: \n",
      "[WARN] unable to get value: sheet_name: MRISeverity value: - value_float:  value_int: \n",
      "[WARN] unable to get value: sheet_name: MRISeverity value: - value_float:  value_int: \n",
      "[WARN] unable to get value: sheet_name: MRISeverity value: - value_float:  value_int: \n",
      "(49/77) normalize_value: column: MRICerebralAtrophyQualAssessVDLeft_c\n",
      "(50/77) normalize_value: column: MRICerebralAtrophyQualAssessVDRight\n",
      "[WARN] unable to get value: sheet_name: MRISeverity value: - value_float:  value_int: \n",
      "[WARN] unable to get value: sheet_name: MRISeverity value: - value_float:  value_int: \n",
      "[WARN] unable to get value: sheet_name: MRISeverity value: - value_float:  value_int: \n",
      "[WARN] unable to get value: sheet_name: MRISeverity value: - value_float:  value_int: \n",
      "[WARN] unable to get value: sheet_name: MRISeverity value: - value_float:  value_int: \n",
      "[WARN] unable to get value: sheet_name: MRISeverity value: - value_float:  value_int: \n",
      "[WARN] unable to get value: sheet_name: MRISeverity value: - value_float:  value_int: \n",
      "[WARN] unable to get value: sheet_name: MRISeverity value: - value_float:  value_int: \n",
      "[WARN] unable to get value: sheet_name: MRISeverity value: - value_float:  value_int: \n",
      "[WARN] unable to get value: sheet_name: MRISeverity value: - value_float:  value_int: \n",
      "[WARN] unable to get value: sheet_name: MRISeverity value: - value_float:  value_int: \n",
      "[WARN] unable to get value: sheet_name: MRISeverity value: - value_float:  value_int: \n",
      "[WARN] unable to get value: sheet_name: MRISeverity value: - value_float:  value_int: \n",
      "[WARN] unable to get value: sheet_name: MRISeverity value: - value_float:  value_int: \n",
      "[WARN] unable to get value: sheet_name: MRISeverity value: - value_float:  value_int: \n",
      "[WARN] unable to get value: sheet_name: MRISeverity value: - value_float:  value_int: \n",
      "[WARN] unable to get value: sheet_name: MRISeverity value: - value_float:  value_int: \n",
      "[WARN] unable to get value: sheet_name: MRISeverity value: - value_float:  value_int: \n",
      "[WARN] unable to get value: sheet_name: MRISeverity value: - value_float:  value_int: \n",
      "[WARN] unable to get value: sheet_name: MRISeverity value: - value_float:  value_int: \n",
      "[WARN] unable to get value: sheet_name: MRISeverity value: - value_float:  value_int: \n",
      "(51/77) normalize_value: column: MRICerebralAtrophyQualAssessVDRight_c\n",
      "(52/77) normalize_value: column: MRIInfarction\n",
      "(53/77) normalize_value: column: MRIInfarction_c\n",
      "(54/77) normalize_value: column: MRIInfarctionArterialTerritoryLeft\n",
      "(55/77) normalize_value: column: MRIInfarctionArterialTerritoryRight\n",
      "(56/77) normalize_value: column: MRIMidlineShift\n",
      "(57/77) normalize_value: column: MRIMidlineShift_c\n",
      "(58/77) normalize_value: column: MRICerebralAtrophyGlobalLocal\n",
      "[WARN] unable to get value: sheet_name: MRICerebralAtrophyGlobalLocal value: - value_float:  value_int: \n",
      "[WARN] unable to get value: sheet_name: MRICerebralAtrophyGlobalLocal value: - value_float:  value_int: \n",
      "[WARN] unable to get value: sheet_name: MRICerebralAtrophyGlobalLocal value: - value_float:  value_int: \n",
      "[WARN] unable to get value: sheet_name: MRICerebralAtrophyGlobalLocal value: - value_float:  value_int: \n",
      "[WARN] unable to get value: sheet_name: MRICerebralAtrophyGlobalLocal value: - value_float:  value_int: \n",
      "[WARN] unable to get value: sheet_name: MRICerebralAtrophyGlobalLocal value: - value_float:  value_int: \n",
      "[WARN] unable to get value: sheet_name: MRICerebralAtrophyGlobalLocal value: - value_float:  value_int: \n",
      "[WARN] unable to get value: sheet_name: MRICerebralAtrophyGlobalLocal value: - value_float:  value_int: \n",
      "[WARN] unable to get value: sheet_name: MRICerebralAtrophyGlobalLocal value: - value_float:  value_int: \n",
      "[WARN] unable to get value: sheet_name: MRICerebralAtrophyGlobalLocal value: - value_float:  value_int: \n",
      "[WARN] unable to get value: sheet_name: MRICerebralAtrophyGlobalLocal value: - value_float:  value_int: \n",
      "[WARN] unable to get value: sheet_name: MRICerebralAtrophyGlobalLocal value: - value_float:  value_int: \n",
      "[WARN] unable to get value: sheet_name: MRICerebralAtrophyGlobalLocal value: - value_float:  value_int: \n",
      "[WARN] unable to get value: sheet_name: MRICerebralAtrophyGlobalLocal value: - value_float:  value_int: \n",
      "[WARN] unable to get value: sheet_name: MRICerebralAtrophyGlobalLocal value: - value_float:  value_int: \n",
      "[WARN] unable to get value: sheet_name: MRICerebralAtrophyGlobalLocal value: - value_float:  value_int: \n",
      "[WARN] unable to get value: sheet_name: MRICerebralAtrophyGlobalLocal value: - value_float:  value_int: \n",
      "[WARN] unable to get value: sheet_name: MRICerebralAtrophyGlobalLocal value: - value_float:  value_int: \n",
      "[WARN] unable to get value: sheet_name: MRICerebralAtrophyGlobalLocal value: - value_float:  value_int: \n",
      "[WARN] unable to get value: sheet_name: MRICerebralAtrophyGlobalLocal value: - value_float:  value_int: \n",
      "[WARN] unable to get value: sheet_name: MRICerebralAtrophyGlobalLocal value: - value_float:  value_int: \n",
      "[WARN] unable to get value: sheet_name: MRICerebralAtrophyGlobalLocal value: - value_float:  value_int: \n",
      "[WARN] unable to get value: sheet_name: MRICerebralAtrophyGlobalLocal value: - value_float:  value_int: \n",
      "[WARN] unable to get value: sheet_name: MRICerebralAtrophyGlobalLocal value: - value_float:  value_int: \n",
      "[WARN] unable to get value: sheet_name: MRICerebralAtrophyGlobalLocal value: - value_float:  value_int: \n",
      "[WARN] unable to get value: sheet_name: MRICerebralAtrophyGlobalLocal value: - value_float:  value_int: \n",
      "[WARN] unable to get value: sheet_name: MRICerebralAtrophyGlobalLocal value: - value_float:  value_int: \n",
      "[WARN] unable to get value: sheet_name: MRICerebralAtrophyGlobalLocal value: - value_float:  value_int: \n",
      "[WARN] unable to get value: sheet_name: MRICerebralAtrophyGlobalLocal value: - value_float:  value_int: \n",
      "[WARN] unable to get value: sheet_name: MRICerebralAtrophyGlobalLocal value: - value_float:  value_int: \n",
      "[WARN] unable to get value: sheet_name: MRICerebralAtrophyGlobalLocal value: - value_float:  value_int: \n",
      "[WARN] unable to get value: sheet_name: MRICerebralAtrophyGlobalLocal value: - value_float:  value_int: \n",
      "[WARN] unable to get value: sheet_name: MRICerebralAtrophyGlobalLocal value: - value_float:  value_int: \n",
      "[WARN] unable to get value: sheet_name: MRICerebralAtrophyGlobalLocal value: - value_float:  value_int: \n",
      "[WARN] unable to get value: sheet_name: MRICerebralAtrophyGlobalLocal value: - value_float:  value_int: \n",
      "[WARN] unable to get value: sheet_name: MRICerebralAtrophyGlobalLocal value: - value_float:  value_int: \n",
      "[WARN] unable to get value: sheet_name: MRICerebralAtrophyGlobalLocal value: - value_float:  value_int: \n",
      "[WARN] unable to get value: sheet_name: MRICerebralAtrophyGlobalLocal value: - value_float:  value_int: \n",
      "[WARN] unable to get value: sheet_name: MRICerebralAtrophyGlobalLocal value: - value_float:  value_int: \n",
      "[WARN] unable to get value: sheet_name: MRICerebralAtrophyGlobalLocal value: - value_float:  value_int: \n",
      "[WARN] unable to get value: sheet_name: MRICerebralAtrophyGlobalLocal value: - value_float:  value_int: \n",
      "[WARN] unable to get value: sheet_name: MRICerebralAtrophyGlobalLocal value: - value_float:  value_int: \n",
      "[WARN] unable to get value: sheet_name: MRICerebralAtrophyGlobalLocal value: - value_float:  value_int: \n",
      "[WARN] unable to get value: sheet_name: MRICerebralAtrophyGlobalLocal value: - value_float:  value_int: \n",
      "[WARN] unable to get value: sheet_name: MRICerebralAtrophyGlobalLocal value: - value_float:  value_int: \n",
      "[WARN] unable to get value: sheet_name: MRICerebralAtrophyGlobalLocal value: - value_float:  value_int: \n",
      "[WARN] unable to get value: sheet_name: MRICerebralAtrophyGlobalLocal value: - value_float:  value_int: \n",
      "[WARN] unable to get value: sheet_name: MRICerebralAtrophyGlobalLocal value: - value_float:  value_int: \n",
      "[WARN] unable to get value: sheet_name: MRICerebralAtrophyGlobalLocal value: - value_float:  value_int: \n",
      "[WARN] unable to get value: sheet_name: MRICerebralAtrophyGlobalLocal value: - value_float:  value_int: \n",
      "[WARN] unable to get value: sheet_name: MRICerebralAtrophyGlobalLocal value: - value_float:  value_int: \n",
      "[WARN] unable to get value: sheet_name: MRICerebralAtrophyGlobalLocal value: - value_float:  value_int: \n",
      "[WARN] unable to get value: sheet_name: MRICerebralAtrophyGlobalLocal value: - value_float:  value_int: \n",
      "[WARN] unable to get value: sheet_name: MRICerebralAtrophyGlobalLocal value: - value_float:  value_int: \n",
      "[WARN] unable to get value: sheet_name: MRICerebralAtrophyGlobalLocal value: - value_float:  value_int: \n",
      "[WARN] unable to get value: sheet_name: MRICerebralAtrophyGlobalLocal value: - value_float:  value_int: \n",
      "[WARN] unable to get value: sheet_name: MRICerebralAtrophyGlobalLocal value: - value_float:  value_int: \n",
      "[WARN] unable to get value: sheet_name: MRICerebralAtrophyGlobalLocal value: - value_float:  value_int: \n",
      "[WARN] unable to get value: sheet_name: MRICerebralAtrophyGlobalLocal value: - value_float:  value_int: \n",
      "[WARN] unable to get value: sheet_name: MRICerebralAtrophyGlobalLocal value: - value_float:  value_int: \n",
      "[WARN] unable to get value: sheet_name: MRICerebralAtrophyGlobalLocal value: - value_float:  value_int: \n",
      "[WARN] unable to get value: sheet_name: MRICerebralAtrophyGlobalLocal value: - value_float:  value_int: \n",
      "[WARN] unable to get value: sheet_name: MRICerebralAtrophyGlobalLocal value: - value_float:  value_int: \n",
      "[WARN] unable to get value: sheet_name: MRICerebralAtrophyGlobalLocal value: - value_float:  value_int: \n",
      "[WARN] unable to get value: sheet_name: MRICerebralAtrophyGlobalLocal value: - value_float:  value_int: \n",
      "[WARN] unable to get value: sheet_name: MRICerebralAtrophyGlobalLocal value: - value_float:  value_int: \n",
      "[WARN] unable to get value: sheet_name: MRICerebralAtrophyGlobalLocal value: - value_float:  value_int: \n",
      "[WARN] unable to get value: sheet_name: MRICerebralAtrophyGlobalLocal value: - value_float:  value_int: \n",
      "[WARN] unable to get value: sheet_name: MRICerebralAtrophyGlobalLocal value: - value_float:  value_int: \n",
      "[WARN] unable to get value: sheet_name: MRICerebralAtrophyGlobalLocal value: - value_float:  value_int: \n",
      "[WARN] unable to get value: sheet_name: MRICerebralAtrophyGlobalLocal value: - value_float:  value_int: \n",
      "[WARN] unable to get value: sheet_name: MRICerebralAtrophyGlobalLocal value: - value_float:  value_int: \n",
      "[WARN] unable to get value: sheet_name: MRICerebralAtrophyGlobalLocal value: - value_float:  value_int: \n",
      "[WARN] unable to get value: sheet_name: MRICerebralAtrophyGlobalLocal value: - value_float:  value_int: \n",
      "[WARN] unable to get value: sheet_name: MRICerebralAtrophyGlobalLocal value: - value_float:  value_int: \n",
      "[WARN] unable to get value: sheet_name: MRICerebralAtrophyGlobalLocal value: - value_float:  value_int: \n",
      "[WARN] unable to get value: sheet_name: MRICerebralAtrophyGlobalLocal value: - value_float:  value_int: \n",
      "[WARN] unable to get value: sheet_name: MRICerebralAtrophyGlobalLocal value: - value_float:  value_int: \n",
      "[WARN] unable to get value: sheet_name: MRICerebralAtrophyGlobalLocal value: - value_float:  value_int: \n",
      "[WARN] unable to get value: sheet_name: MRICerebralAtrophyGlobalLocal value: - value_float:  value_int: \n",
      "[WARN] unable to get value: sheet_name: MRICerebralAtrophyGlobalLocal value: - value_float:  value_int: \n",
      "[WARN] unable to get value: sheet_name: MRICerebralAtrophyGlobalLocal value: - value_float:  value_int: \n",
      "[WARN] unable to get value: sheet_name: MRICerebralAtrophyGlobalLocal value: - value_float:  value_int: \n",
      "[WARN] unable to get value: sheet_name: MRICerebralAtrophyGlobalLocal value: - value_float:  value_int: \n",
      "[WARN] unable to get value: sheet_name: MRICerebralAtrophyGlobalLocal value: - value_float:  value_int: \n",
      "[WARN] unable to get value: sheet_name: MRICerebralAtrophyGlobalLocal value: - value_float:  value_int: \n",
      "[WARN] unable to get value: sheet_name: MRICerebralAtrophyGlobalLocal value: - value_float:  value_int: \n",
      "[WARN] unable to get value: sheet_name: MRICerebralAtrophyGlobalLocal value: - value_float:  value_int: \n",
      "[WARN] unable to get value: sheet_name: MRICerebralAtrophyGlobalLocal value: - value_float:  value_int: \n",
      "[WARN] unable to get value: sheet_name: MRICerebralAtrophyGlobalLocal value: - value_float:  value_int: \n",
      "[WARN] unable to get value: sheet_name: MRICerebralAtrophyGlobalLocal value: - value_float:  value_int: \n",
      "[WARN] unable to get value: sheet_name: MRICerebralAtrophyGlobalLocal value: - value_float:  value_int: \n",
      "[WARN] unable to get value: sheet_name: MRICerebralAtrophyGlobalLocal value: - value_float:  value_int: \n",
      "[WARN] unable to get value: sheet_name: MRICerebralAtrophyGlobalLocal value: - value_float:  value_int: \n",
      "[WARN] unable to get value: sheet_name: MRICerebralAtrophyGlobalLocal value: - value_float:  value_int: \n",
      "[WARN] unable to get value: sheet_name: MRICerebralAtrophyGlobalLocal value: - value_float:  value_int: \n",
      "[WARN] unable to get value: sheet_name: MRICerebralAtrophyGlobalLocal value: - value_float:  value_int: \n",
      "[WARN] unable to get value: sheet_name: MRICerebralAtrophyGlobalLocal value: - value_float:  value_int: \n",
      "[WARN] unable to get value: sheet_name: MRICerebralAtrophyGlobalLocal value: - value_float:  value_int: \n",
      "[WARN] unable to get value: sheet_name: MRICerebralAtrophyGlobalLocal value: - value_float:  value_int: \n",
      "[WARN] unable to get value: sheet_name: MRICerebralAtrophyGlobalLocal value: - value_float:  value_int: \n",
      "[WARN] unable to get value: sheet_name: MRICerebralAtrophyGlobalLocal value: - value_float:  value_int: \n",
      "[WARN] unable to get value: sheet_name: MRICerebralAtrophyGlobalLocal value: - value_float:  value_int: \n",
      "[WARN] unable to get value: sheet_name: MRICerebralAtrophyGlobalLocal value: - value_float:  value_int: \n",
      "[WARN] unable to get value: sheet_name: MRICerebralAtrophyGlobalLocal value: - value_float:  value_int: \n",
      "[WARN] unable to get value: sheet_name: MRICerebralAtrophyGlobalLocal value: - value_float:  value_int: \n",
      "[WARN] unable to get value: sheet_name: MRICerebralAtrophyGlobalLocal value: - value_float:  value_int: \n",
      "[WARN] unable to get value: sheet_name: MRICerebralAtrophyGlobalLocal value: - value_float:  value_int: \n",
      "[WARN] unable to get value: sheet_name: MRICerebralAtrophyGlobalLocal value: - value_float:  value_int: \n",
      "[WARN] unable to get value: sheet_name: MRICerebralAtrophyGlobalLocal value: - value_float:  value_int: \n",
      "[WARN] unable to get value: sheet_name: MRICerebralAtrophyGlobalLocal value: - value_float:  value_int: \n",
      "[WARN] unable to get value: sheet_name: MRICerebralAtrophyGlobalLocal value: - value_float:  value_int: \n",
      "[WARN] unable to get value: sheet_name: MRICerebralAtrophyGlobalLocal value: - value_float:  value_int: \n",
      "[WARN] unable to get value: sheet_name: MRICerebralAtrophyGlobalLocal value: - value_float:  value_int: \n",
      "[WARN] unable to get value: sheet_name: MRICerebralAtrophyGlobalLocal value: - value_float:  value_int: \n",
      "[WARN] unable to get value: sheet_name: MRICerebralAtrophyGlobalLocal value: - value_float:  value_int: \n",
      "[WARN] unable to get value: sheet_name: MRICerebralAtrophyGlobalLocal value: - value_float:  value_int: \n",
      "[WARN] unable to get value: sheet_name: MRICerebralAtrophyGlobalLocal value: - value_float:  value_int: \n",
      "[WARN] unable to get value: sheet_name: MRICerebralAtrophyGlobalLocal value: - value_float:  value_int: \n",
      "[WARN] unable to get value: sheet_name: MRICerebralAtrophyGlobalLocal value: - value_float:  value_int: \n",
      "[WARN] unable to get value: sheet_name: MRICerebralAtrophyGlobalLocal value: - value_float:  value_int: \n",
      "[WARN] unable to get value: sheet_name: MRICerebralAtrophyGlobalLocal value: - value_float:  value_int: \n",
      "[WARN] unable to get value: sheet_name: MRICerebralAtrophyGlobalLocal value: - value_float:  value_int: \n",
      "[WARN] unable to get value: sheet_name: MRICerebralAtrophyGlobalLocal value: - value_float:  value_int: \n",
      "[WARN] unable to get value: sheet_name: MRICerebralAtrophyGlobalLocal value: - value_float:  value_int: \n",
      "[WARN] unable to get value: sheet_name: MRICerebralAtrophyGlobalLocal value: - value_float:  value_int: \n",
      "[WARN] unable to get value: sheet_name: MRICerebralAtrophyGlobalLocal value: - value_float:  value_int: \n",
      "[WARN] unable to get value: sheet_name: MRICerebralAtrophyGlobalLocal value: - value_float:  value_int: \n",
      "[WARN] unable to get value: sheet_name: MRICerebralAtrophyGlobalLocal value: - value_float:  value_int: \n",
      "[WARN] unable to get value: sheet_name: MRICerebralAtrophyGlobalLocal value: - value_float:  value_int: \n",
      "[WARN] unable to get value: sheet_name: MRICerebralAtrophyGlobalLocal value: - value_float:  value_int: \n",
      "[WARN] unable to get value: sheet_name: MRICerebralAtrophyGlobalLocal value: - value_float:  value_int: \n",
      "[WARN] unable to get value: sheet_name: MRICerebralAtrophyGlobalLocal value: - value_float:  value_int: \n",
      "[WARN] unable to get value: sheet_name: MRICerebralAtrophyGlobalLocal value: - value_float:  value_int: \n",
      "[WARN] unable to get value: sheet_name: MRICerebralAtrophyGlobalLocal value: - value_float:  value_int: \n",
      "[WARN] unable to get value: sheet_name: MRICerebralAtrophyGlobalLocal value: - value_float:  value_int: \n",
      "[WARN] unable to get value: sheet_name: MRICerebralAtrophyGlobalLocal value: - value_float:  value_int: \n",
      "[WARN] unable to get value: sheet_name: MRICerebralAtrophyGlobalLocal value: - value_float:  value_int: \n",
      "[WARN] unable to get value: sheet_name: MRICerebralAtrophyGlobalLocal value: - value_float:  value_int: \n",
      "[WARN] unable to get value: sheet_name: MRICerebralAtrophyGlobalLocal value: - value_float:  value_int: \n",
      "[WARN] unable to get value: sheet_name: MRICerebralAtrophyGlobalLocal value: - value_float:  value_int: \n",
      "[WARN] unable to get value: sheet_name: MRICerebralAtrophyGlobalLocal value: - value_float:  value_int: \n",
      "[WARN] unable to get value: sheet_name: MRICerebralAtrophyGlobalLocal value: - value_float:  value_int: \n",
      "[WARN] unable to get value: sheet_name: MRICerebralAtrophyGlobalLocal value: - value_float:  value_int: \n",
      "[WARN] unable to get value: sheet_name: MRICerebralAtrophyGlobalLocal value: - value_float:  value_int: \n",
      "[WARN] unable to get value: sheet_name: MRICerebralAtrophyGlobalLocal value: - value_float:  value_int: \n",
      "[WARN] unable to get value: sheet_name: MRICerebralAtrophyGlobalLocal value: - value_float:  value_int: \n",
      "[WARN] unable to get value: sheet_name: MRICerebralAtrophyGlobalLocal value: - value_float:  value_int: \n",
      "[WARN] unable to get value: sheet_name: MRICerebralAtrophyGlobalLocal value: - value_float:  value_int: \n",
      "[WARN] unable to get value: sheet_name: MRICerebralAtrophyGlobalLocal value: - value_float:  value_int: \n",
      "[WARN] unable to get value: sheet_name: MRICerebralAtrophyGlobalLocal value: - value_float:  value_int: \n",
      "[WARN] unable to get value: sheet_name: MRICerebralAtrophyGlobalLocal value: - value_float:  value_int: \n",
      "[WARN] unable to get value: sheet_name: MRICerebralAtrophyGlobalLocal value: - value_float:  value_int: \n",
      "[WARN] unable to get value: sheet_name: MRICerebralAtrophyGlobalLocal value: - value_float:  value_int: \n",
      "[WARN] unable to get value: sheet_name: MRICerebralAtrophyGlobalLocal value: - value_float:  value_int: \n",
      "[WARN] unable to get value: sheet_name: MRICerebralAtrophyGlobalLocal value: - value_float:  value_int: \n",
      "[WARN] unable to get value: sheet_name: MRICerebralAtrophyGlobalLocal value: - value_float:  value_int: \n",
      "[WARN] unable to get value: sheet_name: MRICerebralAtrophyGlobalLocal value: - value_float:  value_int: \n",
      "[WARN] unable to get value: sheet_name: MRICerebralAtrophyGlobalLocal value: - value_float:  value_int: \n",
      "[WARN] unable to get value: sheet_name: MRICerebralAtrophyGlobalLocal value: - value_float:  value_int: \n",
      "[WARN] unable to get value: sheet_name: MRICerebralAtrophyGlobalLocal value: - value_float:  value_int: \n",
      "[WARN] unable to get value: sheet_name: MRICerebralAtrophyGlobalLocal value: - value_float:  value_int: \n",
      "[WARN] unable to get value: sheet_name: MRICerebralAtrophyGlobalLocal value: - value_float:  value_int: \n",
      "[WARN] unable to get value: sheet_name: MRICerebralAtrophyGlobalLocal value: - value_float:  value_int: \n",
      "[WARN] unable to get value: sheet_name: MRICerebralAtrophyGlobalLocal value: - value_float:  value_int: \n",
      "[WARN] unable to get value: sheet_name: MRICerebralAtrophyGlobalLocal value: - value_float:  value_int: \n",
      "[WARN] unable to get value: sheet_name: MRICerebralAtrophyGlobalLocal value: - value_float:  value_int: \n",
      "[WARN] unable to get value: sheet_name: MRICerebralAtrophyGlobalLocal value: - value_float:  value_int: \n",
      "[WARN] unable to get value: sheet_name: MRICerebralAtrophyGlobalLocal value: - value_float:  value_int: \n",
      "[WARN] unable to get value: sheet_name: MRICerebralAtrophyGlobalLocal value: - value_float:  value_int: \n",
      "[WARN] unable to get value: sheet_name: MRICerebralAtrophyGlobalLocal value: - value_float:  value_int: \n",
      "[WARN] unable to get value: sheet_name: MRICerebralAtrophyGlobalLocal value: - value_float:  value_int: \n",
      "[WARN] unable to get value: sheet_name: MRICerebralAtrophyGlobalLocal value: - value_float:  value_int: \n",
      "[WARN] unable to get value: sheet_name: MRICerebralAtrophyGlobalLocal value: - value_float:  value_int: \n",
      "[WARN] unable to get value: sheet_name: MRICerebralAtrophyGlobalLocal value: - value_float:  value_int: \n",
      "[WARN] unable to get value: sheet_name: MRICerebralAtrophyGlobalLocal value: - value_float:  value_int: \n",
      "[WARN] unable to get value: sheet_name: MRICerebralAtrophyGlobalLocal value: - value_float:  value_int: \n",
      "[WARN] unable to get value: sheet_name: MRICerebralAtrophyGlobalLocal value: - value_float:  value_int: \n",
      "[WARN] unable to get value: sheet_name: MRICerebralAtrophyGlobalLocal value: - value_float:  value_int: \n",
      "[WARN] unable to get value: sheet_name: MRICerebralAtrophyGlobalLocal value: - value_float:  value_int: \n",
      "[WARN] unable to get value: sheet_name: MRICerebralAtrophyGlobalLocal value: - value_float:  value_int: \n",
      "[WARN] unable to get value: sheet_name: MRICerebralAtrophyGlobalLocal value: - value_float:  value_int: \n",
      "[WARN] unable to get value: sheet_name: MRICerebralAtrophyGlobalLocal value: - value_float:  value_int: \n",
      "[WARN] unable to get value: sheet_name: MRICerebralAtrophyGlobalLocal value: - value_float:  value_int: \n",
      "[WARN] unable to get value: sheet_name: MRICerebralAtrophyGlobalLocal value: - value_float:  value_int: \n",
      "[WARN] unable to get value: sheet_name: MRICerebralAtrophyGlobalLocal value: - value_float:  value_int: \n",
      "[WARN] unable to get value: sheet_name: MRICerebralAtrophyGlobalLocal value: - value_float:  value_int: \n",
      "[WARN] unable to get value: sheet_name: MRICerebralAtrophyGlobalLocal value: - value_float:  value_int: \n",
      "[WARN] unable to get value: sheet_name: MRICerebralAtrophyGlobalLocal value: - value_float:  value_int: \n",
      "[WARN] unable to get value: sheet_name: MRICerebralAtrophyGlobalLocal value: - value_float:  value_int: \n",
      "[WARN] unable to get value: sheet_name: MRICerebralAtrophyGlobalLocal value: - value_float:  value_int: \n",
      "[WARN] unable to get value: sheet_name: MRICerebralAtrophyGlobalLocal value: - value_float:  value_int: \n",
      "[WARN] unable to get value: sheet_name: MRICerebralAtrophyGlobalLocal value: - value_float:  value_int: \n",
      "[WARN] unable to get value: sheet_name: MRICerebralAtrophyGlobalLocal value: - value_float:  value_int: \n",
      "[WARN] unable to get value: sheet_name: MRICerebralAtrophyGlobalLocal value: - value_float:  value_int: \n",
      "[WARN] unable to get value: sheet_name: MRICerebralAtrophyGlobalLocal value: - value_float:  value_int: \n",
      "[WARN] unable to get value: sheet_name: MRICerebralAtrophyGlobalLocal value: - value_float:  value_int: \n",
      "[WARN] unable to get value: sheet_name: MRICerebralAtrophyGlobalLocal value: - value_float:  value_int: \n",
      "[WARN] unable to get value: sheet_name: MRICerebralAtrophyGlobalLocal value: - value_float:  value_int: \n",
      "[WARN] unable to get value: sheet_name: MRICerebralAtrophyGlobalLocal value: - value_float:  value_int: \n",
      "[WARN] unable to get value: sheet_name: MRICerebralAtrophyGlobalLocal value: - value_float:  value_int: \n",
      "[WARN] unable to get value: sheet_name: MRICerebralAtrophyGlobalLocal value: - value_float:  value_int: \n",
      "[WARN] unable to get value: sheet_name: MRICerebralAtrophyGlobalLocal value: - value_float:  value_int: \n",
      "[WARN] unable to get value: sheet_name: MRICerebralAtrophyGlobalLocal value: - value_float:  value_int: \n",
      "[WARN] unable to get value: sheet_name: MRICerebralAtrophyGlobalLocal value: - value_float:  value_int: \n",
      "[WARN] unable to get value: sheet_name: MRICerebralAtrophyGlobalLocal value: - value_float:  value_int: \n",
      "[WARN] unable to get value: sheet_name: MRICerebralAtrophyGlobalLocal value: - value_float:  value_int: \n",
      "[WARN] unable to get value: sheet_name: MRICerebralAtrophyGlobalLocal value: - value_float:  value_int: \n",
      "[WARN] unable to get value: sheet_name: MRICerebralAtrophyGlobalLocal value: - value_float:  value_int: \n",
      "[WARN] unable to get value: sheet_name: MRICerebralAtrophyGlobalLocal value: - value_float:  value_int: \n",
      "[WARN] unable to get value: sheet_name: MRICerebralAtrophyGlobalLocal value: - value_float:  value_int: \n",
      "[WARN] unable to get value: sheet_name: MRICerebralAtrophyGlobalLocal value: - value_float:  value_int: \n",
      "[WARN] unable to get value: sheet_name: MRICerebralAtrophyGlobalLocal value: - value_float:  value_int: \n",
      "[WARN] unable to get value: sheet_name: MRICerebralAtrophyGlobalLocal value: - value_float:  value_int: \n",
      "[WARN] unable to get value: sheet_name: MRICerebralAtrophyGlobalLocal value: - value_float:  value_int: \n",
      "[WARN] unable to get value: sheet_name: MRICerebralAtrophyGlobalLocal value: - value_float:  value_int: \n",
      "[WARN] unable to get value: sheet_name: MRICerebralAtrophyGlobalLocal value: - value_float:  value_int: \n",
      "[WARN] unable to get value: sheet_name: MRICerebralAtrophyGlobalLocal value: - value_float:  value_int: \n",
      "[WARN] unable to get value: sheet_name: MRICerebralAtrophyGlobalLocal value: - value_float:  value_int: \n",
      "[WARN] unable to get value: sheet_name: MRICerebralAtrophyGlobalLocal value: - value_float:  value_int: \n",
      "[WARN] unable to get value: sheet_name: MRICerebralAtrophyGlobalLocal value: - value_float:  value_int: \n",
      "[WARN] unable to get value: sheet_name: MRICerebralAtrophyGlobalLocal value: - value_float:  value_int: \n",
      "[WARN] unable to get value: sheet_name: MRICerebralAtrophyGlobalLocal value: - value_float:  value_int: \n",
      "[WARN] unable to get value: sheet_name: MRICerebralAtrophyGlobalLocal value: - value_float:  value_int: \n",
      "[WARN] unable to get value: sheet_name: MRICerebralAtrophyGlobalLocal value: - value_float:  value_int: \n",
      "[WARN] unable to get value: sheet_name: MRICerebralAtrophyGlobalLocal value: - value_float:  value_int: \n",
      "[WARN] unable to get value: sheet_name: MRICerebralAtrophyGlobalLocal value: - value_float:  value_int: \n",
      "[WARN] unable to get value: sheet_name: MRICerebralAtrophyGlobalLocal value: - value_float:  value_int: \n",
      "[WARN] unable to get value: sheet_name: MRICerebralAtrophyGlobalLocal value: - value_float:  value_int: \n",
      "[WARN] unable to get value: sheet_name: MRICerebralAtrophyGlobalLocal value: - value_float:  value_int: \n",
      "[WARN] unable to get value: sheet_name: MRICerebralAtrophyGlobalLocal value: - value_float:  value_int: \n",
      "[WARN] unable to get value: sheet_name: MRICerebralAtrophyGlobalLocal value: - value_float:  value_int: \n",
      "[WARN] unable to get value: sheet_name: MRICerebralAtrophyGlobalLocal value: - value_float:  value_int: \n",
      "[WARN] unable to get value: sheet_name: MRICerebralAtrophyGlobalLocal value: - value_float:  value_int: \n",
      "[WARN] unable to get value: sheet_name: MRICerebralAtrophyGlobalLocal value: - value_float:  value_int: \n",
      "[WARN] unable to get value: sheet_name: MRICerebralAtrophyGlobalLocal value: - value_float:  value_int: \n",
      "[WARN] unable to get value: sheet_name: MRICerebralAtrophyGlobalLocal value: - value_float:  value_int: \n",
      "[WARN] unable to get value: sheet_name: MRICerebralAtrophyGlobalLocal value: - value_float:  value_int: \n",
      "[WARN] unable to get value: sheet_name: MRICerebralAtrophyGlobalLocal value: - value_float:  value_int: \n",
      "[WARN] unable to get value: sheet_name: MRICerebralAtrophyGlobalLocal value: - value_float:  value_int: \n",
      "[WARN] unable to get value: sheet_name: MRICerebralAtrophyGlobalLocal value: - value_float:  value_int: \n",
      "[WARN] unable to get value: sheet_name: MRICerebralAtrophyGlobalLocal value: - value_float:  value_int: \n",
      "[WARN] unable to get value: sheet_name: MRICerebralAtrophyGlobalLocal value: - value_float:  value_int: \n",
      "[WARN] unable to get value: sheet_name: MRICerebralAtrophyGlobalLocal value: - value_float:  value_int: \n",
      "[WARN] unable to get value: sheet_name: MRICerebralAtrophyGlobalLocal value: - value_float:  value_int: \n",
      "[WARN] unable to get value: sheet_name: MRICerebralAtrophyGlobalLocal value: - value_float:  value_int: \n",
      "[WARN] unable to get value: sheet_name: MRICerebralAtrophyGlobalLocal value: - value_float:  value_int: \n",
      "[WARN] unable to get value: sheet_name: MRICerebralAtrophyGlobalLocal value: - value_float:  value_int: \n",
      "[WARN] unable to get value: sheet_name: MRICerebralAtrophyGlobalLocal value: - value_float:  value_int: \n",
      "[WARN] unable to get value: sheet_name: MRICerebralAtrophyGlobalLocal value: - value_float:  value_int: \n",
      "[WARN] unable to get value: sheet_name: MRICerebralAtrophyGlobalLocal value: - value_float:  value_int: \n",
      "[WARN] unable to get value: sheet_name: MRICerebralAtrophyGlobalLocal value: - value_float:  value_int: \n",
      "[WARN] unable to get value: sheet_name: MRICerebralAtrophyGlobalLocal value: - value_float:  value_int: \n",
      "[WARN] unable to get value: sheet_name: MRICerebralAtrophyGlobalLocal value: - value_float:  value_int: \n",
      "[WARN] unable to get value: sheet_name: MRICerebralAtrophyGlobalLocal value: - value_float:  value_int: \n",
      "[WARN] unable to get value: sheet_name: MRICerebralAtrophyGlobalLocal value: - value_float:  value_int: \n",
      "[WARN] unable to get value: sheet_name: MRICerebralAtrophyGlobalLocal value: - value_float:  value_int: \n",
      "[WARN] unable to get value: sheet_name: MRICerebralAtrophyGlobalLocal value: - value_float:  value_int: \n",
      "[WARN] unable to get value: sheet_name: MRICerebralAtrophyGlobalLocal value: - value_float:  value_int: \n",
      "[WARN] unable to get value: sheet_name: MRICerebralAtrophyGlobalLocal value: - value_float:  value_int: \n",
      "[WARN] unable to get value: sheet_name: MRICerebralAtrophyGlobalLocal value: - value_float:  value_int: \n",
      "[WARN] unable to get value: sheet_name: MRICerebralAtrophyGlobalLocal value: - value_float:  value_int: \n",
      "[WARN] unable to get value: sheet_name: MRICerebralAtrophyGlobalLocal value: - value_float:  value_int: \n",
      "[WARN] unable to get value: sheet_name: MRICerebralAtrophyGlobalLocal value: - value_float:  value_int: \n",
      "[WARN] unable to get value: sheet_name: MRICerebralAtrophyGlobalLocal value: - value_float:  value_int: \n",
      "[WARN] unable to get value: sheet_name: MRICerebralAtrophyGlobalLocal value: - value_float:  value_int: \n",
      "[WARN] unable to get value: sheet_name: MRICerebralAtrophyGlobalLocal value: - value_float:  value_int: \n",
      "[WARN] unable to get value: sheet_name: MRICerebralAtrophyGlobalLocal value: - value_float:  value_int: \n",
      "[WARN] unable to get value: sheet_name: MRICerebralAtrophyGlobalLocal value: - value_float:  value_int: \n",
      "[WARN] unable to get value: sheet_name: MRICerebralAtrophyGlobalLocal value: - value_float:  value_int: \n",
      "[WARN] unable to get value: sheet_name: MRICerebralAtrophyGlobalLocal value: - value_float:  value_int: \n",
      "[WARN] unable to get value: sheet_name: MRICerebralAtrophyGlobalLocal value: - value_float:  value_int: \n",
      "[WARN] unable to get value: sheet_name: MRICerebralAtrophyGlobalLocal value: - value_float:  value_int: \n",
      "[WARN] unable to get value: sheet_name: MRICerebralAtrophyGlobalLocal value: - value_float:  value_int: \n",
      "[WARN] unable to get value: sheet_name: MRICerebralAtrophyGlobalLocal value: - value_float:  value_int: \n",
      "[WARN] unable to get value: sheet_name: MRICerebralAtrophyGlobalLocal value: - value_float:  value_int: \n",
      "[WARN] unable to get value: sheet_name: MRICerebralAtrophyGlobalLocal value: - value_float:  value_int: \n",
      "[WARN] unable to get value: sheet_name: MRICerebralAtrophyGlobalLocal value: - value_float:  value_int: \n",
      "[WARN] unable to get value: sheet_name: MRICerebralAtrophyGlobalLocal value: - value_float:  value_int: \n",
      "[WARN] unable to get value: sheet_name: MRICerebralAtrophyGlobalLocal value: - value_float:  value_int: \n",
      "[WARN] unable to get value: sheet_name: MRICerebralAtrophyGlobalLocal value: - value_float:  value_int: \n",
      "[WARN] unable to get value: sheet_name: MRICerebralAtrophyGlobalLocal value: - value_float:  value_int: \n",
      "[WARN] unable to get value: sheet_name: MRICerebralAtrophyGlobalLocal value: - value_float:  value_int: \n",
      "[WARN] unable to get value: sheet_name: MRICerebralAtrophyGlobalLocal value: - value_float:  value_int: \n",
      "[WARN] unable to get value: sheet_name: MRICerebralAtrophyGlobalLocal value: - value_float:  value_int: \n",
      "[WARN] unable to get value: sheet_name: MRICerebralAtrophyGlobalLocal value: - value_float:  value_int: \n",
      "[WARN] unable to get value: sheet_name: MRICerebralAtrophyGlobalLocal value: - value_float:  value_int: \n",
      "[WARN] unable to get value: sheet_name: MRICerebralAtrophyGlobalLocal value: - value_float:  value_int: \n",
      "[WARN] unable to get value: sheet_name: MRICerebralAtrophyGlobalLocal value: - value_float:  value_int: \n",
      "[WARN] unable to get value: sheet_name: MRICerebralAtrophyGlobalLocal value: - value_float:  value_int: \n",
      "[WARN] unable to get value: sheet_name: MRICerebralAtrophyGlobalLocal value: - value_float:  value_int: \n",
      "[WARN] unable to get value: sheet_name: MRICerebralAtrophyGlobalLocal value: - value_float:  value_int: \n",
      "[WARN] unable to get value: sheet_name: MRICerebralAtrophyGlobalLocal value: - value_float:  value_int: \n",
      "[WARN] unable to get value: sheet_name: MRICerebralAtrophyGlobalLocal value: - value_float:  value_int: \n",
      "[WARN] unable to get value: sheet_name: MRICerebralAtrophyGlobalLocal value: - value_float:  value_int: \n",
      "[WARN] unable to get value: sheet_name: MRICerebralAtrophyGlobalLocal value: - value_float:  value_int: \n",
      "[WARN] unable to get value: sheet_name: MRICerebralAtrophyGlobalLocal value: - value_float:  value_int: \n",
      "[WARN] unable to get value: sheet_name: MRICerebralAtrophyGlobalLocal value: - value_float:  value_int: \n",
      "[WARN] unable to get value: sheet_name: MRICerebralAtrophyGlobalLocal value: - value_float:  value_int: \n",
      "[WARN] unable to get value: sheet_name: MRICerebralAtrophyGlobalLocal value: - value_float:  value_int: \n",
      "[WARN] unable to get value: sheet_name: MRICerebralAtrophyGlobalLocal value: - value_float:  value_int: \n",
      "[WARN] unable to get value: sheet_name: MRICerebralAtrophyGlobalLocal value: - value_float:  value_int: \n",
      "[WARN] unable to get value: sheet_name: MRICerebralAtrophyGlobalLocal value: - value_float:  value_int: \n",
      "[WARN] unable to get value: sheet_name: MRICerebralAtrophyGlobalLocal value: - value_float:  value_int: \n",
      "[WARN] unable to get value: sheet_name: MRICerebralAtrophyGlobalLocal value: - value_float:  value_int: \n",
      "[WARN] unable to get value: sheet_name: MRICerebralAtrophyGlobalLocal value: - value_float:  value_int: \n",
      "[WARN] unable to get value: sheet_name: MRICerebralAtrophyGlobalLocal value: - value_float:  value_int: \n",
      "[WARN] unable to get value: sheet_name: MRICerebralAtrophyGlobalLocal value: - value_float:  value_int: \n",
      "[WARN] unable to get value: sheet_name: MRICerebralAtrophyGlobalLocal value: - value_float:  value_int: \n",
      "[WARN] unable to get value: sheet_name: MRICerebralAtrophyGlobalLocal value: - value_float:  value_int: \n",
      "[WARN] unable to get value: sheet_name: MRICerebralAtrophyGlobalLocal value: - value_float:  value_int: \n",
      "[WARN] unable to get value: sheet_name: MRICerebralAtrophyGlobalLocal value: - value_float:  value_int: \n",
      "[WARN] unable to get value: sheet_name: MRICerebralAtrophyGlobalLocal value: - value_float:  value_int: \n",
      "[WARN] unable to get value: sheet_name: MRICerebralAtrophyGlobalLocal value: - value_float:  value_int: \n",
      "[WARN] unable to get value: sheet_name: MRICerebralAtrophyGlobalLocal value: - value_float:  value_int: \n",
      "[WARN] unable to get value: sheet_name: MRICerebralAtrophyGlobalLocal value: - value_float:  value_int: \n",
      "[WARN] unable to get value: sheet_name: MRICerebralAtrophyGlobalLocal value: - value_float:  value_int: \n",
      "[WARN] unable to get value: sheet_name: MRICerebralAtrophyGlobalLocal value: - value_float:  value_int: \n",
      "[WARN] unable to get value: sheet_name: MRICerebralAtrophyGlobalLocal value: - value_float:  value_int: \n",
      "[WARN] unable to get value: sheet_name: MRICerebralAtrophyGlobalLocal value: - value_float:  value_int: \n",
      "[WARN] unable to get value: sheet_name: MRICerebralAtrophyGlobalLocal value: - value_float:  value_int: \n",
      "[WARN] unable to get value: sheet_name: MRICerebralAtrophyGlobalLocal value: - value_float:  value_int: \n",
      "[WARN] unable to get value: sheet_name: MRICerebralAtrophyGlobalLocal value: - value_float:  value_int: \n",
      "[WARN] unable to get value: sheet_name: MRICerebralAtrophyGlobalLocal value: - value_float:  value_int: \n",
      "[WARN] unable to get value: sheet_name: MRICerebralAtrophyGlobalLocal value: - value_float:  value_int: \n",
      "[WARN] unable to get value: sheet_name: MRICerebralAtrophyGlobalLocal value: - value_float:  value_int: \n",
      "[WARN] unable to get value: sheet_name: MRICerebralAtrophyGlobalLocal value: - value_float:  value_int: \n",
      "[WARN] unable to get value: sheet_name: MRICerebralAtrophyGlobalLocal value: - value_float:  value_int: \n",
      "[WARN] unable to get value: sheet_name: MRICerebralAtrophyGlobalLocal value: - value_float:  value_int: \n",
      "[WARN] unable to get value: sheet_name: MRICerebralAtrophyGlobalLocal value: - value_float:  value_int: \n",
      "[WARN] unable to get value: sheet_name: MRICerebralAtrophyGlobalLocal value: - value_float:  value_int: \n",
      "[WARN] unable to get value: sheet_name: MRICerebralAtrophyGlobalLocal value: - value_float:  value_int: \n",
      "[WARN] unable to get value: sheet_name: MRICerebralAtrophyGlobalLocal value: - value_float:  value_int: \n",
      "[WARN] unable to get value: sheet_name: MRICerebralAtrophyGlobalLocal value: - value_float:  value_int: \n",
      "[WARN] unable to get value: sheet_name: MRICerebralAtrophyGlobalLocal value: - value_float:  value_int: \n",
      "[WARN] unable to get value: sheet_name: MRICerebralAtrophyGlobalLocal value: - value_float:  value_int: \n",
      "[WARN] unable to get value: sheet_name: MRICerebralAtrophyGlobalLocal value: - value_float:  value_int: \n",
      "[WARN] unable to get value: sheet_name: MRICerebralAtrophyGlobalLocal value: - value_float:  value_int: \n",
      "[WARN] unable to get value: sheet_name: MRICerebralAtrophyGlobalLocal value: - value_float:  value_int: \n",
      "[WARN] unable to get value: sheet_name: MRICerebralAtrophyGlobalLocal value: - value_float:  value_int: \n",
      "[WARN] unable to get value: sheet_name: MRICerebralAtrophyGlobalLocal value: - value_float:  value_int: \n",
      "[WARN] unable to get value: sheet_name: MRICerebralAtrophyGlobalLocal value: - value_float:  value_int: \n",
      "[WARN] unable to get value: sheet_name: MRICerebralAtrophyGlobalLocal value: - value_float:  value_int: \n",
      "[WARN] unable to get value: sheet_name: MRICerebralAtrophyGlobalLocal value: - value_float:  value_int: \n",
      "[WARN] unable to get value: sheet_name: MRICerebralAtrophyGlobalLocal value: - value_float:  value_int: \n",
      "[WARN] unable to get value: sheet_name: MRICerebralAtrophyGlobalLocal value: - value_float:  value_int: \n",
      "[WARN] unable to get value: sheet_name: MRICerebralAtrophyGlobalLocal value: - value_float:  value_int: \n",
      "[WARN] unable to get value: sheet_name: MRICerebralAtrophyGlobalLocal value: - value_float:  value_int: \n",
      "[WARN] unable to get value: sheet_name: MRICerebralAtrophyGlobalLocal value: - value_float:  value_int: \n",
      "[WARN] unable to get value: sheet_name: MRICerebralAtrophyGlobalLocal value: - value_float:  value_int: \n",
      "[WARN] unable to get value: sheet_name: MRICerebralAtrophyGlobalLocal value: - value_float:  value_int: \n",
      "[WARN] unable to get value: sheet_name: MRICerebralAtrophyGlobalLocal value: - value_float:  value_int: \n",
      "[WARN] unable to get value: sheet_name: MRICerebralAtrophyGlobalLocal value: - value_float:  value_int: \n",
      "[WARN] unable to get value: sheet_name: MRICerebralAtrophyGlobalLocal value: - value_float:  value_int: \n",
      "[WARN] unable to get value: sheet_name: MRICerebralAtrophyGlobalLocal value: - value_float:  value_int: \n",
      "[WARN] unable to get value: sheet_name: MRICerebralAtrophyGlobalLocal value: - value_float:  value_int: \n",
      "[WARN] unable to get value: sheet_name: MRICerebralAtrophyGlobalLocal value: - value_float:  value_int: \n",
      "[WARN] unable to get value: sheet_name: MRICerebralAtrophyGlobalLocal value: - value_float:  value_int: \n",
      "[WARN] unable to get value: sheet_name: MRICerebralAtrophyGlobalLocal value: - value_float:  value_int: \n",
      "[WARN] unable to get value: sheet_name: MRICerebralAtrophyGlobalLocal value: - value_float:  value_int: \n",
      "[WARN] unable to get value: sheet_name: MRICerebralAtrophyGlobalLocal value: - value_float:  value_int: \n",
      "[WARN] unable to get value: sheet_name: MRICerebralAtrophyGlobalLocal value: - value_float:  value_int: \n",
      "[WARN] unable to get value: sheet_name: MRICerebralAtrophyGlobalLocal value: - value_float:  value_int: \n",
      "[WARN] unable to get value: sheet_name: MRICerebralAtrophyGlobalLocal value: - value_float:  value_int: \n",
      "[WARN] unable to get value: sheet_name: MRICerebralAtrophyGlobalLocal value: - value_float:  value_int: \n",
      "[WARN] unable to get value: sheet_name: MRICerebralAtrophyGlobalLocal value: - value_float:  value_int: \n",
      "[WARN] unable to get value: sheet_name: MRICerebralAtrophyGlobalLocal value: - value_float:  value_int: \n",
      "[WARN] unable to get value: sheet_name: MRICerebralAtrophyGlobalLocal value: - value_float:  value_int: \n",
      "[WARN] unable to get value: sheet_name: MRICerebralAtrophyGlobalLocal value: - value_float:  value_int: \n",
      "[WARN] unable to get value: sheet_name: MRICerebralAtrophyGlobalLocal value: - value_float:  value_int: \n",
      "[WARN] unable to get value: sheet_name: MRICerebralAtrophyGlobalLocal value: - value_float:  value_int: \n",
      "[WARN] unable to get value: sheet_name: MRICerebralAtrophyGlobalLocal value: - value_float:  value_int: \n",
      "[WARN] unable to get value: sheet_name: MRICerebralAtrophyGlobalLocal value: - value_float:  value_int: \n",
      "[WARN] unable to get value: sheet_name: MRICerebralAtrophyGlobalLocal value: - value_float:  value_int: \n",
      "[WARN] unable to get value: sheet_name: MRICerebralAtrophyGlobalLocal value: - value_float:  value_int: \n",
      "[WARN] unable to get value: sheet_name: MRICerebralAtrophyGlobalLocal value: - value_float:  value_int: \n",
      "[WARN] unable to get value: sheet_name: MRICerebralAtrophyGlobalLocal value: - value_float:  value_int: \n",
      "[WARN] unable to get value: sheet_name: MRICerebralAtrophyGlobalLocal value: - value_float:  value_int: \n",
      "[WARN] unable to get value: sheet_name: MRICerebralAtrophyGlobalLocal value: - value_float:  value_int: \n",
      "[WARN] unable to get value: sheet_name: MRICerebralAtrophyGlobalLocal value: - value_float:  value_int: \n",
      "[WARN] unable to get value: sheet_name: MRICerebralAtrophyGlobalLocal value: - value_float:  value_int: \n",
      "[WARN] unable to get value: sheet_name: MRICerebralAtrophyGlobalLocal value: - value_float:  value_int: \n",
      "[WARN] unable to get value: sheet_name: MRICerebralAtrophyGlobalLocal value: - value_float:  value_int: \n",
      "[WARN] unable to get value: sheet_name: MRICerebralAtrophyGlobalLocal value: - value_float:  value_int: \n",
      "[WARN] unable to get value: sheet_name: MRICerebralAtrophyGlobalLocal value: - value_float:  value_int: \n",
      "[WARN] unable to get value: sheet_name: MRICerebralAtrophyGlobalLocal value: - value_float:  value_int: \n",
      "[WARN] unable to get value: sheet_name: MRICerebralAtrophyGlobalLocal value: - value_float:  value_int: \n",
      "[WARN] unable to get value: sheet_name: MRICerebralAtrophyGlobalLocal value: - value_float:  value_int: \n",
      "[WARN] unable to get value: sheet_name: MRICerebralAtrophyGlobalLocal value: - value_float:  value_int: \n",
      "[WARN] unable to get value: sheet_name: MRICerebralAtrophyGlobalLocal value: - value_float:  value_int: \n",
      "[WARN] unable to get value: sheet_name: MRICerebralAtrophyGlobalLocal value: - value_float:  value_int: \n",
      "[WARN] unable to get value: sheet_name: MRICerebralAtrophyGlobalLocal value: - value_float:  value_int: \n",
      "[WARN] unable to get value: sheet_name: MRICerebralAtrophyGlobalLocal value: - value_float:  value_int: \n",
      "[WARN] unable to get value: sheet_name: MRICerebralAtrophyGlobalLocal value: - value_float:  value_int: \n",
      "[WARN] unable to get value: sheet_name: MRICerebralAtrophyGlobalLocal value: - value_float:  value_int: \n",
      "[WARN] unable to get value: sheet_name: MRICerebralAtrophyGlobalLocal value: - value_float:  value_int: \n",
      "[WARN] unable to get value: sheet_name: MRICerebralAtrophyGlobalLocal value: - value_float:  value_int: \n",
      "[WARN] unable to get value: sheet_name: MRICerebralAtrophyGlobalLocal value: - value_float:  value_int: \n",
      "[WARN] unable to get value: sheet_name: MRICerebralAtrophyGlobalLocal value: - value_float:  value_int: \n",
      "[WARN] unable to get value: sheet_name: MRICerebralAtrophyGlobalLocal value: - value_float:  value_int: \n",
      "[WARN] unable to get value: sheet_name: MRICerebralAtrophyGlobalLocal value: - value_float:  value_int: \n",
      "[WARN] unable to get value: sheet_name: MRICerebralAtrophyGlobalLocal value: - value_float:  value_int: \n",
      "[WARN] unable to get value: sheet_name: MRICerebralAtrophyGlobalLocal value: - value_float:  value_int: \n",
      "[WARN] unable to get value: sheet_name: MRICerebralAtrophyGlobalLocal value: - value_float:  value_int: \n",
      "[WARN] unable to get value: sheet_name: MRICerebralAtrophyGlobalLocal value: - value_float:  value_int: \n",
      "[WARN] unable to get value: sheet_name: MRICerebralAtrophyGlobalLocal value: - value_float:  value_int: \n",
      "[WARN] unable to get value: sheet_name: MRICerebralAtrophyGlobalLocal value: - value_float:  value_int: \n",
      "[WARN] unable to get value: sheet_name: MRICerebralAtrophyGlobalLocal value: - value_float:  value_int: \n",
      "[WARN] unable to get value: sheet_name: MRICerebralAtrophyGlobalLocal value: - value_float:  value_int: \n",
      "[WARN] unable to get value: sheet_name: MRICerebralAtrophyGlobalLocal value: - value_float:  value_int: \n",
      "[WARN] unable to get value: sheet_name: MRICerebralAtrophyGlobalLocal value: - value_float:  value_int: \n",
      "[WARN] unable to get value: sheet_name: MRICerebralAtrophyGlobalLocal value: - value_float:  value_int: \n",
      "[WARN] unable to get value: sheet_name: MRICerebralAtrophyGlobalLocal value: - value_float:  value_int: \n",
      "[WARN] unable to get value: sheet_name: MRICerebralAtrophyGlobalLocal value: - value_float:  value_int: \n",
      "[WARN] unable to get value: sheet_name: MRICerebralAtrophyGlobalLocal value: - value_float:  value_int: \n",
      "[WARN] unable to get value: sheet_name: MRICerebralAtrophyGlobalLocal value: - value_float:  value_int: \n",
      "[WARN] unable to get value: sheet_name: MRICerebralAtrophyGlobalLocal value: - value_float:  value_int: \n",
      "[WARN] unable to get value: sheet_name: MRICerebralAtrophyGlobalLocal value: - value_float:  value_int: \n",
      "[WARN] unable to get value: sheet_name: MRICerebralAtrophyGlobalLocal value: - value_float:  value_int: \n",
      "[WARN] unable to get value: sheet_name: MRICerebralAtrophyGlobalLocal value: - value_float:  value_int: \n",
      "[WARN] unable to get value: sheet_name: MRICerebralAtrophyGlobalLocal value: - value_float:  value_int: \n",
      "[WARN] unable to get value: sheet_name: MRICerebralAtrophyGlobalLocal value: - value_float:  value_int: \n",
      "[WARN] unable to get value: sheet_name: MRICerebralAtrophyGlobalLocal value: - value_float:  value_int: \n",
      "[WARN] unable to get value: sheet_name: MRICerebralAtrophyGlobalLocal value: - value_float:  value_int: \n",
      "[WARN] unable to get value: sheet_name: MRICerebralAtrophyGlobalLocal value: - value_float:  value_int: \n",
      "[WARN] unable to get value: sheet_name: MRICerebralAtrophyGlobalLocal value: - value_float:  value_int: \n",
      "[WARN] unable to get value: sheet_name: MRICerebralAtrophyGlobalLocal value: - value_float:  value_int: \n",
      "[WARN] unable to get value: sheet_name: MRICerebralAtrophyGlobalLocal value: - value_float:  value_int: \n",
      "[WARN] unable to get value: sheet_name: MRICerebralAtrophyGlobalLocal value: - value_float:  value_int: \n",
      "[WARN] unable to get value: sheet_name: MRICerebralAtrophyGlobalLocal value: - value_float:  value_int: \n",
      "[WARN] unable to get value: sheet_name: MRICerebralAtrophyGlobalLocal value: - value_float:  value_int: \n",
      "[WARN] unable to get value: sheet_name: MRICerebralAtrophyGlobalLocal value: - value_float:  value_int: \n",
      "[WARN] unable to get value: sheet_name: MRICerebralAtrophyGlobalLocal value: - value_float:  value_int: \n",
      "[WARN] unable to get value: sheet_name: MRICerebralAtrophyGlobalLocal value: - value_float:  value_int: \n",
      "[WARN] unable to get value: sheet_name: MRICerebralAtrophyGlobalLocal value: - value_float:  value_int: \n",
      "[WARN] unable to get value: sheet_name: MRICerebralAtrophyGlobalLocal value: - value_float:  value_int: \n",
      "[WARN] unable to get value: sheet_name: MRICerebralAtrophyGlobalLocal value: - value_float:  value_int: \n",
      "[WARN] unable to get value: sheet_name: MRICerebralAtrophyGlobalLocal value: - value_float:  value_int: \n",
      "[WARN] unable to get value: sheet_name: MRICerebralAtrophyGlobalLocal value: - value_float:  value_int: \n",
      "[WARN] unable to get value: sheet_name: MRICerebralAtrophyGlobalLocal value: - value_float:  value_int: \n",
      "[WARN] unable to get value: sheet_name: MRICerebralAtrophyGlobalLocal value: - value_float:  value_int: \n",
      "[WARN] unable to get value: sheet_name: MRICerebralAtrophyGlobalLocal value: - value_float:  value_int: \n",
      "[WARN] unable to get value: sheet_name: MRICerebralAtrophyGlobalLocal value: - value_float:  value_int: \n",
      "[WARN] unable to get value: sheet_name: MRICerebralAtrophyGlobalLocal value: - value_float:  value_int: \n",
      "[WARN] unable to get value: sheet_name: MRICerebralAtrophyGlobalLocal value: - value_float:  value_int: \n",
      "[WARN] unable to get value: sheet_name: MRICerebralAtrophyGlobalLocal value: - value_float:  value_int: \n",
      "[WARN] unable to get value: sheet_name: MRICerebralAtrophyGlobalLocal value: - value_float:  value_int: \n",
      "[WARN] unable to get value: sheet_name: MRICerebralAtrophyGlobalLocal value: - value_float:  value_int: \n",
      "[WARN] unable to get value: sheet_name: MRICerebralAtrophyGlobalLocal value: - value_float:  value_int: \n",
      "[WARN] unable to get value: sheet_name: MRICerebralAtrophyGlobalLocal value: - value_float:  value_int: \n",
      "[WARN] unable to get value: sheet_name: MRICerebralAtrophyGlobalLocal value: - value_float:  value_int: \n",
      "[WARN] unable to get value: sheet_name: MRICerebralAtrophyGlobalLocal value: - value_float:  value_int: \n",
      "[WARN] unable to get value: sheet_name: MRICerebralAtrophyGlobalLocal value: - value_float:  value_int: \n",
      "[WARN] unable to get value: sheet_name: MRICerebralAtrophyGlobalLocal value: - value_float:  value_int: \n",
      "[WARN] unable to get value: sheet_name: MRICerebralAtrophyGlobalLocal value: - value_float:  value_int: \n",
      "[WARN] unable to get value: sheet_name: MRICerebralAtrophyGlobalLocal value: - value_float:  value_int: \n",
      "[WARN] unable to get value: sheet_name: MRICerebralAtrophyGlobalLocal value: - value_float:  value_int: \n",
      "[WARN] unable to get value: sheet_name: MRICerebralAtrophyGlobalLocal value: - value_float:  value_int: \n",
      "[WARN] unable to get value: sheet_name: MRICerebralAtrophyGlobalLocal value: - value_float:  value_int: \n",
      "[WARN] unable to get value: sheet_name: MRICerebralAtrophyGlobalLocal value: - value_float:  value_int: \n",
      "[WARN] unable to get value: sheet_name: MRICerebralAtrophyGlobalLocal value: - value_float:  value_int: \n",
      "[WARN] unable to get value: sheet_name: MRICerebralAtrophyGlobalLocal value: - value_float:  value_int: \n",
      "[WARN] unable to get value: sheet_name: MRICerebralAtrophyGlobalLocal value: - value_float:  value_int: \n",
      "[WARN] unable to get value: sheet_name: MRICerebralAtrophyGlobalLocal value: - value_float:  value_int: \n",
      "[WARN] unable to get value: sheet_name: MRICerebralAtrophyGlobalLocal value: - value_float:  value_int: \n",
      "[WARN] unable to get value: sheet_name: MRICerebralAtrophyGlobalLocal value: - value_float:  value_int: \n",
      "[WARN] unable to get value: sheet_name: MRICerebralAtrophyGlobalLocal value: - value_float:  value_int: \n",
      "[WARN] unable to get value: sheet_name: MRICerebralAtrophyGlobalLocal value: - value_float:  value_int: \n",
      "[WARN] unable to get value: sheet_name: MRICerebralAtrophyGlobalLocal value: - value_float:  value_int: \n",
      "[WARN] unable to get value: sheet_name: MRICerebralAtrophyGlobalLocal value: - value_float:  value_int: \n",
      "[WARN] unable to get value: sheet_name: MRICerebralAtrophyGlobalLocal value: - value_float:  value_int: \n",
      "[WARN] unable to get value: sheet_name: MRICerebralAtrophyGlobalLocal value: - value_float:  value_int: \n",
      "[WARN] unable to get value: sheet_name: MRICerebralAtrophyGlobalLocal value: - value_float:  value_int: \n",
      "[WARN] unable to get value: sheet_name: MRICerebralAtrophyGlobalLocal value: - value_float:  value_int: \n",
      "[WARN] unable to get value: sheet_name: MRICerebralAtrophyGlobalLocal value: - value_float:  value_int: \n",
      "[WARN] unable to get value: sheet_name: MRICerebralAtrophyGlobalLocal value: - value_float:  value_int: \n",
      "[WARN] unable to get value: sheet_name: MRICerebralAtrophyGlobalLocal value: - value_float:  value_int: \n",
      "[WARN] unable to get value: sheet_name: MRICerebralAtrophyGlobalLocal value: - value_float:  value_int: \n",
      "[WARN] unable to get value: sheet_name: MRICerebralAtrophyGlobalLocal value: - value_float:  value_int: \n",
      "[WARN] unable to get value: sheet_name: MRICerebralAtrophyGlobalLocal value: - value_float:  value_int: \n",
      "[WARN] unable to get value: sheet_name: MRICerebralAtrophyGlobalLocal value: - value_float:  value_int: \n",
      "[WARN] unable to get value: sheet_name: MRICerebralAtrophyGlobalLocal value: - value_float:  value_int: \n",
      "[WARN] unable to get value: sheet_name: MRICerebralAtrophyGlobalLocal value: - value_float:  value_int: \n",
      "[WARN] unable to get value: sheet_name: MRICerebralAtrophyGlobalLocal value: - value_float:  value_int: \n",
      "[WARN] unable to get value: sheet_name: MRICerebralAtrophyGlobalLocal value: - value_float:  value_int: \n",
      "[WARN] unable to get value: sheet_name: MRICerebralAtrophyGlobalLocal value: - value_float:  value_int: \n",
      "[WARN] unable to get value: sheet_name: MRICerebralAtrophyGlobalLocal value: - value_float:  value_int: \n",
      "[WARN] unable to get value: sheet_name: MRICerebralAtrophyGlobalLocal value: - value_float:  value_int: \n",
      "[WARN] unable to get value: sheet_name: MRICerebralAtrophyGlobalLocal value: - value_float:  value_int: \n",
      "[WARN] unable to get value: sheet_name: MRICerebralAtrophyGlobalLocal value: - value_float:  value_int: \n",
      "[WARN] unable to get value: sheet_name: MRICerebralAtrophyGlobalLocal value: - value_float:  value_int: \n",
      "[WARN] unable to get value: sheet_name: MRICerebralAtrophyGlobalLocal value: - value_float:  value_int: \n",
      "[WARN] unable to get value: sheet_name: MRICerebralAtrophyGlobalLocal value: - value_float:  value_int: \n",
      "[WARN] unable to get value: sheet_name: MRICerebralAtrophyGlobalLocal value: - value_float:  value_int: \n",
      "[WARN] unable to get value: sheet_name: MRICerebralAtrophyGlobalLocal value: - value_float:  value_int: \n",
      "[WARN] unable to get value: sheet_name: MRICerebralAtrophyGlobalLocal value: - value_float:  value_int: \n",
      "[WARN] unable to get value: sheet_name: MRICerebralAtrophyGlobalLocal value: - value_float:  value_int: \n",
      "[WARN] unable to get value: sheet_name: MRICerebralAtrophyGlobalLocal value: - value_float:  value_int: \n",
      "[WARN] unable to get value: sheet_name: MRICerebralAtrophyGlobalLocal value: - value_float:  value_int: \n",
      "[WARN] unable to get value: sheet_name: MRICerebralAtrophyGlobalLocal value: - value_float:  value_int: \n",
      "[WARN] unable to get value: sheet_name: MRICerebralAtrophyGlobalLocal value: - value_float:  value_int: \n",
      "[WARN] unable to get value: sheet_name: MRICerebralAtrophyGlobalLocal value: - value_float:  value_int: \n",
      "[WARN] unable to get value: sheet_name: MRICerebralAtrophyGlobalLocal value: - value_float:  value_int: \n",
      "(59/77) normalize_value: column: MRICerebralAtrophyGlobalLocal_c\n",
      "(60/77) normalize_value: column: MRIBGT\n",
      "[WARN] unable to get value: sheet_name: MRISeverity value: - value_float:  value_int: \n",
      "[WARN] unable to get value: sheet_name: MRISeverity value: - value_float:  value_int: \n",
      "[WARN] unable to get value: sheet_name: MRISeverity value: - value_float:  value_int: \n",
      "[WARN] unable to get value: sheet_name: MRISeverity value: - value_float:  value_int: \n",
      "[WARN] unable to get value: sheet_name: MRISeverity value: - value_float:  value_int: \n",
      "[WARN] unable to get value: sheet_name: MRISeverity value: - value_float:  value_int: \n",
      "[WARN] unable to get value: sheet_name: MRISeverity value: - value_float:  value_int: \n",
      "[WARN] unable to get value: sheet_name: MRISeverity value: - value_float:  value_int: \n",
      "[WARN] unable to get value: sheet_name: MRISeverity value: - value_float:  value_int: \n",
      "[WARN] unable to get value: sheet_name: MRISeverity value: - value_float:  value_int: \n",
      "[WARN] unable to get value: sheet_name: MRISeverity value: - value_float:  value_int: \n",
      "[WARN] unable to get value: sheet_name: MRISeverity value: - value_float:  value_int: \n",
      "[WARN] unable to get value: sheet_name: MRISeverity value: - value_float:  value_int: \n",
      "[WARN] unable to get value: sheet_name: MRISeverity value: - value_float:  value_int: \n",
      "[WARN] unable to get value: sheet_name: MRISeverity value: - value_float:  value_int: \n",
      "[WARN] unable to get value: sheet_name: MRISeverity value: - value_float:  value_int: \n",
      "[WARN] unable to get value: sheet_name: MRISeverity value: - value_float:  value_int: \n",
      "[WARN] unable to get value: sheet_name: MRISeverity value: - value_float:  value_int: \n",
      "[WARN] unable to get value: sheet_name: MRISeverity value: - value_float:  value_int: \n",
      "[WARN] unable to get value: sheet_name: MRISeverity value: - value_float:  value_int: \n",
      "[WARN] unable to get value: sheet_name: MRISeverity value: - value_float:  value_int: \n",
      "[WARN] unable to get value: sheet_name: MRISeverity value: - value_float:  value_int: \n",
      "[WARN] unable to get value: sheet_name: MRISeverity value: - value_float:  value_int: \n",
      "[WARN] unable to get value: sheet_name: MRISeverity value: - value_float:  value_int: \n",
      "[WARN] unable to get value: sheet_name: MRISeverity value: - value_float:  value_int: \n",
      "[WARN] unable to get value: sheet_name: MRISeverity value: - value_float:  value_int: \n",
      "[WARN] unable to get value: sheet_name: MRISeverity value: - value_float:  value_int: \n",
      "[WARN] unable to get value: sheet_name: MRISeverity value: - value_float:  value_int: \n",
      "[WARN] unable to get value: sheet_name: MRISeverity value: - value_float:  value_int: \n",
      "[WARN] unable to get value: sheet_name: MRISeverity value: - value_float:  value_int: \n",
      "[WARN] unable to get value: sheet_name: MRISeverity value: - value_float:  value_int: \n",
      "[WARN] unable to get value: sheet_name: MRISeverity value: - value_float:  value_int: \n",
      "[WARN] unable to get value: sheet_name: MRISeverity value: - value_float:  value_int: \n",
      "[WARN] unable to get value: sheet_name: MRISeverity value: - value_float:  value_int: \n",
      "[WARN] unable to get value: sheet_name: MRISeverity value: - value_float:  value_int: \n",
      "[WARN] unable to get value: sheet_name: MRISeverity value: - value_float:  value_int: \n",
      "[WARN] unable to get value: sheet_name: MRISeverity value: - value_float:  value_int: \n",
      "[WARN] unable to get value: sheet_name: MRISeverity value: - value_float:  value_int: \n",
      "[WARN] unable to get value: sheet_name: MRISeverity value: - value_float:  value_int: \n",
      "[WARN] unable to get value: sheet_name: MRISeverity value: - value_float:  value_int: \n",
      "[WARN] unable to get value: sheet_name: MRISeverity value: - value_float:  value_int: \n",
      "[WARN] unable to get value: sheet_name: MRISeverity value: - value_float:  value_int: \n",
      "[WARN] unable to get value: sheet_name: MRISeverity value: - value_float:  value_int: \n",
      "[WARN] unable to get value: sheet_name: MRISeverity value: - value_float:  value_int: \n",
      "[WARN] unable to get value: sheet_name: MRISeverity value: - value_float:  value_int: \n",
      "[WARN] unable to get value: sheet_name: MRISeverity value: - value_float:  value_int: \n",
      "[WARN] unable to get value: sheet_name: MRISeverity value: - value_float:  value_int: \n",
      "[WARN] unable to get value: sheet_name: MRISeverity value: - value_float:  value_int: \n",
      "[WARN] unable to get value: sheet_name: MRISeverity value: - value_float:  value_int: \n",
      "(61/77) normalize_value: column: MRIBGT_c\n",
      "(62/77) normalize_value: column: MRIPLIC\n",
      "[WARN] unable to get value: sheet_name: MRIALICPLICSeverity value: - value_float:  value_int: \n",
      "[WARN] unable to get value: sheet_name: MRIALICPLICSeverity value: - value_float:  value_int: \n",
      "[WARN] unable to get value: sheet_name: MRIALICPLICSeverity value: - value_float:  value_int: \n",
      "[WARN] unable to get value: sheet_name: MRIALICPLICSeverity value: - value_float:  value_int: \n",
      "[WARN] unable to get value: sheet_name: MRIALICPLICSeverity value: - value_float:  value_int: \n",
      "[WARN] unable to get value: sheet_name: MRIALICPLICSeverity value: - value_float:  value_int: \n",
      "[WARN] unable to get value: sheet_name: MRIALICPLICSeverity value: - value_float:  value_int: \n",
      "[WARN] unable to get value: sheet_name: MRIALICPLICSeverity value: - value_float:  value_int: \n",
      "[WARN] unable to get value: sheet_name: MRIALICPLICSeverity value: - value_float:  value_int: \n",
      "[WARN] unable to get value: sheet_name: MRIALICPLICSeverity value: - value_float:  value_int: \n",
      "[WARN] unable to get value: sheet_name: MRIALICPLICSeverity value: - value_float:  value_int: \n",
      "[WARN] unable to get value: sheet_name: MRIALICPLICSeverity value: - value_float:  value_int: \n",
      "[WARN] unable to get value: sheet_name: MRIALICPLICSeverity value: - value_float:  value_int: \n",
      "[WARN] unable to get value: sheet_name: MRIALICPLICSeverity value: - value_float:  value_int: \n",
      "[WARN] unable to get value: sheet_name: MRIALICPLICSeverity value: - value_float:  value_int: \n",
      "[WARN] unable to get value: sheet_name: MRIALICPLICSeverity value: - value_float:  value_int: \n",
      "[WARN] unable to get value: sheet_name: MRIALICPLICSeverity value: - value_float:  value_int: \n",
      "[WARN] unable to get value: sheet_name: MRIALICPLICSeverity value: - value_float:  value_int: \n",
      "[WARN] unable to get value: sheet_name: MRIALICPLICSeverity value: - value_float:  value_int: \n",
      "[WARN] unable to get value: sheet_name: MRIALICPLICSeverity value: - value_float:  value_int: \n",
      "[WARN] unable to get value: sheet_name: MRIALICPLICSeverity value: - value_float:  value_int: \n",
      "[WARN] unable to get value: sheet_name: MRIALICPLICSeverity value: - value_float:  value_int: \n",
      "[WARN] unable to get value: sheet_name: MRIALICPLICSeverity value: - value_float:  value_int: \n",
      "[WARN] unable to get value: sheet_name: MRIALICPLICSeverity value: - value_float:  value_int: \n",
      "[WARN] unable to get value: sheet_name: MRIALICPLICSeverity value: - value_float:  value_int: \n",
      "[WARN] unable to get value: sheet_name: MRIALICPLICSeverity value: - value_float:  value_int: \n",
      "[WARN] unable to get value: sheet_name: MRIALICPLICSeverity value: - value_float:  value_int: \n",
      "[WARN] unable to get value: sheet_name: MRIALICPLICSeverity value: - value_float:  value_int: \n",
      "[WARN] unable to get value: sheet_name: MRIALICPLICSeverity value: - value_float:  value_int: \n",
      "[WARN] unable to get value: sheet_name: MRIALICPLICSeverity value: - value_float:  value_int: \n",
      "[WARN] unable to get value: sheet_name: MRIALICPLICSeverity value: - value_float:  value_int: \n",
      "[WARN] unable to get value: sheet_name: MRIALICPLICSeverity value: - value_float:  value_int: \n",
      "[WARN] unable to get value: sheet_name: MRIALICPLICSeverity value: - value_float:  value_int: \n",
      "[WARN] unable to get value: sheet_name: MRIALICPLICSeverity value: - value_float:  value_int: \n",
      "[WARN] unable to get value: sheet_name: MRIALICPLICSeverity value: - value_float:  value_int: \n",
      "[WARN] unable to get value: sheet_name: MRIALICPLICSeverity value: - value_float:  value_int: \n",
      "[WARN] unable to get value: sheet_name: MRIALICPLICSeverity value: - value_float:  value_int: \n",
      "[WARN] unable to get value: sheet_name: MRIALICPLICSeverity value: - value_float:  value_int: \n",
      "[WARN] unable to get value: sheet_name: MRIALICPLICSeverity value: - value_float:  value_int: \n",
      "[WARN] unable to get value: sheet_name: MRIALICPLICSeverity value: - value_float:  value_int: \n",
      "[WARN] unable to get value: sheet_name: MRIALICPLICSeverity value: - value_float:  value_int: \n",
      "[WARN] unable to get value: sheet_name: MRIALICPLICSeverity value: - value_float:  value_int: \n",
      "[WARN] unable to get value: sheet_name: MRIALICPLICSeverity value: - value_float:  value_int: \n",
      "[WARN] unable to get value: sheet_name: MRIALICPLICSeverity value: - value_float:  value_int: \n",
      "[WARN] unable to get value: sheet_name: MRIALICPLICSeverity value: - value_float:  value_int: \n",
      "[WARN] unable to get value: sheet_name: MRIALICPLICSeverity value: - value_float:  value_int: \n",
      "[WARN] unable to get value: sheet_name: MRIALICPLICSeverity value: - value_float:  value_int: \n",
      "[WARN] unable to get value: sheet_name: MRIALICPLICSeverity value: - value_float:  value_int: \n",
      "[WARN] unable to get value: sheet_name: MRIALICPLICSeverity value: - value_float:  value_int: \n",
      "(63/77) normalize_value: column: MRIPLIC_c\n",
      "(64/77) normalize_value: column: MRIWatershed\n",
      "[WARN] unable to get value: sheet_name: MRISeverity value: - value_float:  value_int: \n",
      "[WARN] unable to get value: sheet_name: MRISeverity value: - value_float:  value_int: \n",
      "[WARN] unable to get value: sheet_name: MRISeverity value: - value_float:  value_int: \n",
      "[WARN] unable to get value: sheet_name: MRISeverity value: - value_float:  value_int: \n",
      "[WARN] unable to get value: sheet_name: MRISeverity value: - value_float:  value_int: \n",
      "[WARN] unable to get value: sheet_name: MRISeverity value: - value_float:  value_int: \n",
      "[WARN] unable to get value: sheet_name: MRISeverity value: - value_float:  value_int: \n",
      "[WARN] unable to get value: sheet_name: MRISeverity value: - value_float:  value_int: \n",
      "[WARN] unable to get value: sheet_name: MRISeverity value: - value_float:  value_int: \n",
      "[WARN] unable to get value: sheet_name: MRISeverity value: - value_float:  value_int: \n",
      "[WARN] unable to get value: sheet_name: MRISeverity value: - value_float:  value_int: \n",
      "[WARN] unable to get value: sheet_name: MRISeverity value: - value_float:  value_int: \n",
      "[WARN] unable to get value: sheet_name: MRISeverity value: - value_float:  value_int: \n",
      "[WARN] unable to get value: sheet_name: MRISeverity value: - value_float:  value_int: \n",
      "[WARN] unable to get value: sheet_name: MRISeverity value: - value_float:  value_int: \n",
      "[WARN] unable to get value: sheet_name: MRISeverity value: - value_float:  value_int: \n",
      "[WARN] unable to get value: sheet_name: MRISeverity value: - value_float:  value_int: \n",
      "[WARN] unable to get value: sheet_name: MRISeverity value: - value_float:  value_int: \n",
      "[WARN] unable to get value: sheet_name: MRISeverity value: - value_float:  value_int: \n",
      "[WARN] unable to get value: sheet_name: MRISeverity value: - value_float:  value_int: \n",
      "[WARN] unable to get value: sheet_name: MRISeverity value: - value_float:  value_int: \n",
      "[WARN] unable to get value: sheet_name: MRISeverity value: - value_float:  value_int: \n",
      "[WARN] unable to get value: sheet_name: MRISeverity value: - value_float:  value_int: \n",
      "[WARN] unable to get value: sheet_name: MRISeverity value: - value_float:  value_int: \n",
      "[WARN] unable to get value: sheet_name: MRISeverity value: - value_float:  value_int: \n",
      "[WARN] unable to get value: sheet_name: MRISeverity value: - value_float:  value_int: \n",
      "[WARN] unable to get value: sheet_name: MRISeverity value: - value_float:  value_int: \n",
      "[WARN] unable to get value: sheet_name: MRISeverity value: - value_float:  value_int: \n",
      "[WARN] unable to get value: sheet_name: MRISeverity value: - value_float:  value_int: \n",
      "[WARN] unable to get value: sheet_name: MRISeverity value: - value_float:  value_int: \n",
      "[WARN] unable to get value: sheet_name: MRISeverity value: - value_float:  value_int: \n",
      "[WARN] unable to get value: sheet_name: MRISeverity value: - value_float:  value_int: \n",
      "[WARN] unable to get value: sheet_name: MRISeverity value: - value_float:  value_int: \n",
      "[WARN] unable to get value: sheet_name: MRISeverity value: - value_float:  value_int: \n",
      "[WARN] unable to get value: sheet_name: MRISeverity value: - value_float:  value_int: \n",
      "[WARN] unable to get value: sheet_name: MRISeverity value: - value_float:  value_int: \n",
      "[WARN] unable to get value: sheet_name: MRISeverity value: - value_float:  value_int: \n",
      "[WARN] unable to get value: sheet_name: MRISeverity value: - value_float:  value_int: \n",
      "[WARN] unable to get value: sheet_name: MRISeverity value: - value_float:  value_int: \n",
      "[WARN] unable to get value: sheet_name: MRISeverity value: - value_float:  value_int: \n",
      "[WARN] unable to get value: sheet_name: MRISeverity value: - value_float:  value_int: \n",
      "[WARN] unable to get value: sheet_name: MRISeverity value: - value_float:  value_int: \n",
      "[WARN] unable to get value: sheet_name: MRISeverity value: - value_float:  value_int: \n",
      "[WARN] unable to get value: sheet_name: MRISeverity value: - value_float:  value_int: \n",
      "[WARN] unable to get value: sheet_name: MRISeverity value: - value_float:  value_int: \n",
      "[WARN] unable to get value: sheet_name: MRISeverity value: - value_float:  value_int: \n",
      "[WARN] unable to get value: sheet_name: MRISeverity value: - value_float:  value_int: \n",
      "[WARN] unable to get value: sheet_name: MRISeverity value: - value_float:  value_int: \n",
      "[WARN] unable to get value: sheet_name: MRISeverity value: - value_float:  value_int: \n",
      "[WARN] unable to get value: sheet_name: MRISeverity value: - value_float:  value_int: \n",
      "[WARN] unable to get value: sheet_name: MRISeverity value: - value_float:  value_int: \n",
      "[WARN] unable to get value: sheet_name: MRISeverity value: - value_float:  value_int: \n",
      "[WARN] unable to get value: sheet_name: MRISeverity value: - value_float:  value_int: \n",
      "[WARN] unable to get value: sheet_name: MRISeverity value: - value_float:  value_int: \n",
      "[WARN] unable to get value: sheet_name: MRISeverity value: - value_float:  value_int: \n",
      "[WARN] unable to get value: sheet_name: MRISeverity value: - value_float:  value_int: \n",
      "[WARN] unable to get value: sheet_name: MRISeverity value: - value_float:  value_int: \n",
      "(65/77) normalize_value: column: MRIWatershed_c\n",
      "(66/77) normalize_value: column: MRIWhiteMatterInjury\n",
      "[WARN] unable to float: val (4 None/<class 'str'>) e: could not convert string to float: '4 None'\n",
      "[WARN] unable to get value: sheet_name: MRIInjurySeverity value: 4 None value_float: 4 None value_int: 4 None\n",
      "[WARN] unable to float: val (4 None/<class 'str'>) e: could not convert string to float: '4 None'\n",
      "[WARN] unable to get value: sheet_name: MRIInjurySeverity value: 4 None value_float: 4 None value_int: 4 None\n",
      "[WARN] unable to float: val (4 None/<class 'str'>) e: could not convert string to float: '4 None'\n",
      "[WARN] unable to get value: sheet_name: MRIInjurySeverity value: 4 None value_float: 4 None value_int: 4 None\n",
      "[WARN] unable to float: val (4 None/<class 'str'>) e: could not convert string to float: '4 None'\n",
      "[WARN] unable to get value: sheet_name: MRIInjurySeverity value: 4 None value_float: 4 None value_int: 4 None\n",
      "[WARN] unable to float: val (4 None/<class 'str'>) e: could not convert string to float: '4 None'\n",
      "[WARN] unable to get value: sheet_name: MRIInjurySeverity value: 4 None value_float: 4 None value_int: 4 None\n",
      "[WARN] unable to float: val (4 None/<class 'str'>) e: could not convert string to float: '4 None'\n",
      "[WARN] unable to get value: sheet_name: MRIInjurySeverity value: 4 None value_float: 4 None value_int: 4 None\n",
      "[WARN] unable to float: val (1 Mild/<class 'str'>) e: could not convert string to float: '1 Mild'\n",
      "[WARN] unable to get value: sheet_name: MRIInjurySeverity value: 1 Mild value_float: 1 Mild value_int: 1 Mild\n",
      "[WARN] unable to float: val (1 Mild/<class 'str'>) e: could not convert string to float: '1 Mild'\n",
      "[WARN] unable to get value: sheet_name: MRIInjurySeverity value: 1 Mild value_float: 1 Mild value_int: 1 Mild\n",
      "[WARN] unable to float: val (4 None/<class 'str'>) e: could not convert string to float: '4 None'\n",
      "[WARN] unable to get value: sheet_name: MRIInjurySeverity value: 4 None value_float: 4 None value_int: 4 None\n",
      "[WARN] unable to float: val (1 Mild/<class 'str'>) e: could not convert string to float: '1 Mild'\n",
      "[WARN] unable to get value: sheet_name: MRIInjurySeverity value: 1 Mild value_float: 1 Mild value_int: 1 Mild\n",
      "[WARN] unable to float: val (1 Mild/<class 'str'>) e: could not convert string to float: '1 Mild'\n",
      "[WARN] unable to get value: sheet_name: MRIInjurySeverity value: 1 Mild value_float: 1 Mild value_int: 1 Mild\n",
      "[WARN] unable to float: val (1 Mild/<class 'str'>) e: could not convert string to float: '1 Mild'\n",
      "[WARN] unable to get value: sheet_name: MRIInjurySeverity value: 1 Mild value_float: 1 Mild value_int: 1 Mild\n",
      "[WARN] unable to float: val (1 Mild/<class 'str'>) e: could not convert string to float: '1 Mild'\n",
      "[WARN] unable to get value: sheet_name: MRIInjurySeverity value: 1 Mild value_float: 1 Mild value_int: 1 Mild\n",
      "[WARN] unable to float: val (1 Mild/<class 'str'>) e: could not convert string to float: '1 Mild'\n",
      "[WARN] unable to get value: sheet_name: MRIInjurySeverity value: 1 Mild value_float: 1 Mild value_int: 1 Mild\n",
      "[WARN] unable to float: val (4 None/<class 'str'>) e: could not convert string to float: '4 None'\n",
      "[WARN] unable to get value: sheet_name: MRIInjurySeverity value: 4 None value_float: 4 None value_int: 4 None\n",
      "[WARN] unable to float: val (4 None/<class 'str'>) e: could not convert string to float: '4 None'\n",
      "[WARN] unable to get value: sheet_name: MRIInjurySeverity value: 4 None value_float: 4 None value_int: 4 None\n",
      "[WARN] unable to get value: sheet_name: MRIInjurySeverity value: - value_float:  value_int: \n",
      "[WARN] unable to get value: sheet_name: MRIInjurySeverity value: - value_float:  value_int: \n",
      "[WARN] unable to float: val (4 None/<class 'str'>) e: could not convert string to float: '4 None'\n",
      "[WARN] unable to get value: sheet_name: MRIInjurySeverity value: 4 None value_float: 4 None value_int: 4 None\n",
      "[WARN] unable to float: val (4 None/<class 'str'>) e: could not convert string to float: '4 None'\n",
      "[WARN] unable to get value: sheet_name: MRIInjurySeverity value: 4 None value_float: 4 None value_int: 4 None\n",
      "[WARN] unable to float: val (1 Mild/<class 'str'>) e: could not convert string to float: '1 Mild'\n",
      "[WARN] unable to get value: sheet_name: MRIInjurySeverity value: 1 Mild value_float: 1 Mild value_int: 1 Mild\n",
      "[WARN] unable to float: val (1 Mild/<class 'str'>) e: could not convert string to float: '1 Mild'\n",
      "[WARN] unable to get value: sheet_name: MRIInjurySeverity value: 1 Mild value_float: 1 Mild value_int: 1 Mild\n",
      "[WARN] unable to float: val (1 Mild/<class 'str'>) e: could not convert string to float: '1 Mild'\n",
      "[WARN] unable to get value: sheet_name: MRIInjurySeverity value: 1 Mild value_float: 1 Mild value_int: 1 Mild\n",
      "[WARN] unable to float: val (1 Mild/<class 'str'>) e: could not convert string to float: '1 Mild'\n",
      "[WARN] unable to get value: sheet_name: MRIInjurySeverity value: 1 Mild value_float: 1 Mild value_int: 1 Mild\n",
      "[WARN] unable to float: val (1 Mild/<class 'str'>) e: could not convert string to float: '1 Mild'\n",
      "[WARN] unable to get value: sheet_name: MRIInjurySeverity value: 1 Mild value_float: 1 Mild value_int: 1 Mild\n",
      "[WARN] unable to float: val (4 None/<class 'str'>) e: could not convert string to float: '4 None'\n",
      "[WARN] unable to get value: sheet_name: MRIInjurySeverity value: 4 None value_float: 4 None value_int: 4 None\n",
      "[WARN] unable to float: val (1 Mild/<class 'str'>) e: could not convert string to float: '1 Mild'\n",
      "[WARN] unable to get value: sheet_name: MRIInjurySeverity value: 1 Mild value_float: 1 Mild value_int: 1 Mild\n",
      "[WARN] unable to float: val (1 Mild/<class 'str'>) e: could not convert string to float: '1 Mild'\n",
      "[WARN] unable to get value: sheet_name: MRIInjurySeverity value: 1 Mild value_float: 1 Mild value_int: 1 Mild\n",
      "[WARN] unable to float: val (1 Mild/<class 'str'>) e: could not convert string to float: '1 Mild'\n",
      "[WARN] unable to get value: sheet_name: MRIInjurySeverity value: 1 Mild value_float: 1 Mild value_int: 1 Mild\n",
      "[WARN] unable to float: val (1 Mild/<class 'str'>) e: could not convert string to float: '1 Mild'\n",
      "[WARN] unable to get value: sheet_name: MRIInjurySeverity value: 1 Mild value_float: 1 Mild value_int: 1 Mild\n",
      "[WARN] unable to float: val (1 Mild/<class 'str'>) e: could not convert string to float: '1 Mild'\n",
      "[WARN] unable to get value: sheet_name: MRIInjurySeverity value: 1 Mild value_float: 1 Mild value_int: 1 Mild\n",
      "[WARN] unable to float: val (1 Mild/<class 'str'>) e: could not convert string to float: '1 Mild'\n",
      "[WARN] unable to get value: sheet_name: MRIInjurySeverity value: 1 Mild value_float: 1 Mild value_int: 1 Mild\n",
      "[WARN] unable to float: val (1 Mild/<class 'str'>) e: could not convert string to float: '1 Mild'\n",
      "[WARN] unable to get value: sheet_name: MRIInjurySeverity value: 1 Mild value_float: 1 Mild value_int: 1 Mild\n",
      "[WARN] unable to float: val (4 None/<class 'str'>) e: could not convert string to float: '4 None'\n",
      "[WARN] unable to get value: sheet_name: MRIInjurySeverity value: 4 None value_float: 4 None value_int: 4 None\n",
      "[WARN] unable to float: val (1 Mild/<class 'str'>) e: could not convert string to float: '1 Mild'\n",
      "[WARN] unable to get value: sheet_name: MRIInjurySeverity value: 1 Mild value_float: 1 Mild value_int: 1 Mild\n",
      "[WARN] unable to float: val (1 Mild/<class 'str'>) e: could not convert string to float: '1 Mild'\n",
      "[WARN] unable to get value: sheet_name: MRIInjurySeverity value: 1 Mild value_float: 1 Mild value_int: 1 Mild\n",
      "[WARN] unable to float: val (1 Mild/<class 'str'>) e: could not convert string to float: '1 Mild'\n",
      "[WARN] unable to get value: sheet_name: MRIInjurySeverity value: 1 Mild value_float: 1 Mild value_int: 1 Mild\n",
      "[WARN] unable to float: val (4 None/<class 'str'>) e: could not convert string to float: '4 None'\n",
      "[WARN] unable to get value: sheet_name: MRIInjurySeverity value: 4 None value_float: 4 None value_int: 4 None\n",
      "[WARN] unable to float: val (1 Mild/<class 'str'>) e: could not convert string to float: '1 Mild'\n",
      "[WARN] unable to get value: sheet_name: MRIInjurySeverity value: 1 Mild value_float: 1 Mild value_int: 1 Mild\n",
      "[WARN] unable to float: val (4 None/<class 'str'>) e: could not convert string to float: '4 None'\n",
      "[WARN] unable to get value: sheet_name: MRIInjurySeverity value: 4 None value_float: 4 None value_int: 4 None\n",
      "[WARN] unable to float: val (4 None/<class 'str'>) e: could not convert string to float: '4 None'\n",
      "[WARN] unable to get value: sheet_name: MRIInjurySeverity value: 4 None value_float: 4 None value_int: 4 None\n",
      "[WARN] unable to float: val (1 Mild/<class 'str'>) e: could not convert string to float: '1 Mild'\n",
      "[WARN] unable to get value: sheet_name: MRIInjurySeverity value: 1 Mild value_float: 1 Mild value_int: 1 Mild\n",
      "[WARN] unable to float: val (1 Mild/<class 'str'>) e: could not convert string to float: '1 Mild'\n",
      "[WARN] unable to get value: sheet_name: MRIInjurySeverity value: 1 Mild value_float: 1 Mild value_int: 1 Mild\n",
      "[WARN] unable to float: val (1 Mild/<class 'str'>) e: could not convert string to float: '1 Mild'\n",
      "[WARN] unable to get value: sheet_name: MRIInjurySeverity value: 1 Mild value_float: 1 Mild value_int: 1 Mild\n",
      "[WARN] unable to get value: sheet_name: MRIInjurySeverity value: - value_float:  value_int: \n",
      "[WARN] unable to get value: sheet_name: MRIInjurySeverity value: - value_float:  value_int: \n",
      "[WARN] unable to float: val (1 Mild/<class 'str'>) e: could not convert string to float: '1 Mild'\n",
      "[WARN] unable to get value: sheet_name: MRIInjurySeverity value: 1 Mild value_float: 1 Mild value_int: 1 Mild\n",
      "[WARN] unable to float: val (1 Mild/<class 'str'>) e: could not convert string to float: '1 Mild'\n",
      "[WARN] unable to get value: sheet_name: MRIInjurySeverity value: 1 Mild value_float: 1 Mild value_int: 1 Mild\n",
      "[WARN] unable to float: val (1 Mild/<class 'str'>) e: could not convert string to float: '1 Mild'\n",
      "[WARN] unable to get value: sheet_name: MRIInjurySeverity value: 1 Mild value_float: 1 Mild value_int: 1 Mild\n",
      "[WARN] unable to float: val (4 None/<class 'str'>) e: could not convert string to float: '4 None'\n",
      "[WARN] unable to get value: sheet_name: MRIInjurySeverity value: 4 None value_float: 4 None value_int: 4 None\n",
      "[WARN] unable to float: val (4 None/<class 'str'>) e: could not convert string to float: '4 None'\n",
      "[WARN] unable to get value: sheet_name: MRIInjurySeverity value: 4 None value_float: 4 None value_int: 4 None\n",
      "[WARN] unable to float: val (4 None/<class 'str'>) e: could not convert string to float: '4 None'\n",
      "[WARN] unable to get value: sheet_name: MRIInjurySeverity value: 4 None value_float: 4 None value_int: 4 None\n",
      "[WARN] unable to float: val (1 Mild/<class 'str'>) e: could not convert string to float: '1 Mild'\n",
      "[WARN] unable to get value: sheet_name: MRIInjurySeverity value: 1 Mild value_float: 1 Mild value_int: 1 Mild\n",
      "[WARN] unable to float: val (1 Mild/<class 'str'>) e: could not convert string to float: '1 Mild'\n",
      "[WARN] unable to get value: sheet_name: MRIInjurySeverity value: 1 Mild value_float: 1 Mild value_int: 1 Mild\n",
      "[WARN] unable to float: val (4 None/<class 'str'>) e: could not convert string to float: '4 None'\n",
      "[WARN] unable to get value: sheet_name: MRIInjurySeverity value: 4 None value_float: 4 None value_int: 4 None\n",
      "[WARN] unable to float: val (1 Mild/<class 'str'>) e: could not convert string to float: '1 Mild'\n",
      "[WARN] unable to get value: sheet_name: MRIInjurySeverity value: 1 Mild value_float: 1 Mild value_int: 1 Mild\n",
      "[WARN] unable to float: val (1 Mild/<class 'str'>) e: could not convert string to float: '1 Mild'\n",
      "[WARN] unable to get value: sheet_name: MRIInjurySeverity value: 1 Mild value_float: 1 Mild value_int: 1 Mild\n",
      "[WARN] unable to float: val (1 Mild/<class 'str'>) e: could not convert string to float: '1 Mild'\n",
      "[WARN] unable to get value: sheet_name: MRIInjurySeverity value: 1 Mild value_float: 1 Mild value_int: 1 Mild\n",
      "[WARN] unable to get value: sheet_name: MRIInjurySeverity value: - value_float:  value_int: \n",
      "[WARN] unable to get value: sheet_name: MRIInjurySeverity value: - value_float:  value_int: \n",
      "[WARN] unable to get value: sheet_name: MRIInjurySeverity value: - value_float:  value_int: \n",
      "[WARN] unable to float: val (4 None/<class 'str'>) e: could not convert string to float: '4 None'\n",
      "[WARN] unable to get value: sheet_name: MRIInjurySeverity value: 4 None value_float: 4 None value_int: 4 None\n",
      "[WARN] unable to float: val (1 Mild/<class 'str'>) e: could not convert string to float: '1 Mild'\n",
      "[WARN] unable to get value: sheet_name: MRIInjurySeverity value: 1 Mild value_float: 1 Mild value_int: 1 Mild\n",
      "[WARN] unable to float: val (1 Mild/<class 'str'>) e: could not convert string to float: '1 Mild'\n",
      "[WARN] unable to get value: sheet_name: MRIInjurySeverity value: 1 Mild value_float: 1 Mild value_int: 1 Mild\n",
      "[WARN] unable to float: val (1 Mild/<class 'str'>) e: could not convert string to float: '1 Mild'\n",
      "[WARN] unable to get value: sheet_name: MRIInjurySeverity value: 1 Mild value_float: 1 Mild value_int: 1 Mild\n",
      "[WARN] unable to float: val (4 None/<class 'str'>) e: could not convert string to float: '4 None'\n",
      "[WARN] unable to get value: sheet_name: MRIInjurySeverity value: 4 None value_float: 4 None value_int: 4 None\n",
      "[WARN] unable to float: val (4 None/<class 'str'>) e: could not convert string to float: '4 None'\n",
      "[WARN] unable to get value: sheet_name: MRIInjurySeverity value: 4 None value_float: 4 None value_int: 4 None\n",
      "[WARN] unable to float: val (4 None/<class 'str'>) e: could not convert string to float: '4 None'\n",
      "[WARN] unable to get value: sheet_name: MRIInjurySeverity value: 4 None value_float: 4 None value_int: 4 None\n",
      "[WARN] unable to get value: sheet_name: MRIInjurySeverity value: - value_float:  value_int: \n",
      "[WARN] unable to get value: sheet_name: MRIInjurySeverity value: - value_float:  value_int: \n",
      "[WARN] unable to get value: sheet_name: MRIInjurySeverity value: - value_float:  value_int: \n",
      "[WARN] unable to float: val (4 None/<class 'str'>) e: could not convert string to float: '4 None'\n",
      "[WARN] unable to get value: sheet_name: MRIInjurySeverity value: 4 None value_float: 4 None value_int: 4 None\n",
      "[WARN] unable to float: val (4 None/<class 'str'>) e: could not convert string to float: '4 None'\n",
      "[WARN] unable to get value: sheet_name: MRIInjurySeverity value: 4 None value_float: 4 None value_int: 4 None\n",
      "[WARN] unable to float: val (4 None/<class 'str'>) e: could not convert string to float: '4 None'\n",
      "[WARN] unable to get value: sheet_name: MRIInjurySeverity value: 4 None value_float: 4 None value_int: 4 None\n",
      "[WARN] unable to float: val (4 None/<class 'str'>) e: could not convert string to float: '4 None'\n",
      "[WARN] unable to get value: sheet_name: MRIInjurySeverity value: 4 None value_float: 4 None value_int: 4 None\n",
      "[WARN] unable to float: val (4 None/<class 'str'>) e: could not convert string to float: '4 None'\n",
      "[WARN] unable to get value: sheet_name: MRIInjurySeverity value: 4 None value_float: 4 None value_int: 4 None\n",
      "[WARN] unable to float: val (4 None/<class 'str'>) e: could not convert string to float: '4 None'\n",
      "[WARN] unable to get value: sheet_name: MRIInjurySeverity value: 4 None value_float: 4 None value_int: 4 None\n",
      "[WARN] unable to get value: sheet_name: MRIInjurySeverity value: - value_float:  value_int: \n",
      "[WARN] unable to float: val (1 Mild/<class 'str'>) e: could not convert string to float: '1 Mild'\n",
      "[WARN] unable to get value: sheet_name: MRIInjurySeverity value: 1 Mild value_float: 1 Mild value_int: 1 Mild\n",
      "[WARN] unable to float: val (4 None/<class 'str'>) e: could not convert string to float: '4 None'\n",
      "[WARN] unable to get value: sheet_name: MRIInjurySeverity value: 4 None value_float: 4 None value_int: 4 None\n",
      "[WARN] unable to float: val (1 Mild/<class 'str'>) e: could not convert string to float: '1 Mild'\n",
      "[WARN] unable to get value: sheet_name: MRIInjurySeverity value: 1 Mild value_float: 1 Mild value_int: 1 Mild\n",
      "[WARN] unable to get value: sheet_name: MRIInjurySeverity value: - value_float:  value_int: \n",
      "[WARN] unable to float: val (4 None/<class 'str'>) e: could not convert string to float: '4 None'\n",
      "[WARN] unable to get value: sheet_name: MRIInjurySeverity value: 4 None value_float: 4 None value_int: 4 None\n",
      "[WARN] unable to get value: sheet_name: MRIInjurySeverity value: - value_float:  value_int: \n",
      "[WARN] unable to get value: sheet_name: MRIInjurySeverity value: - value_float:  value_int: \n",
      "[WARN] unable to get value: sheet_name: MRIInjurySeverity value: - value_float:  value_int: \n",
      "[WARN] unable to float: val (4 None/<class 'str'>) e: could not convert string to float: '4 None'\n",
      "[WARN] unable to get value: sheet_name: MRIInjurySeverity value: 4 None value_float: 4 None value_int: 4 None\n",
      "[WARN] unable to float: val (1 Mild/<class 'str'>) e: could not convert string to float: '1 Mild'\n",
      "[WARN] unable to get value: sheet_name: MRIInjurySeverity value: 1 Mild value_float: 1 Mild value_int: 1 Mild\n",
      "[WARN] unable to float: val (4 None/<class 'str'>) e: could not convert string to float: '4 None'\n",
      "[WARN] unable to get value: sheet_name: MRIInjurySeverity value: 4 None value_float: 4 None value_int: 4 None\n",
      "[WARN] unable to float: val (4 None/<class 'str'>) e: could not convert string to float: '4 None'\n",
      "[WARN] unable to get value: sheet_name: MRIInjurySeverity value: 4 None value_float: 4 None value_int: 4 None\n",
      "[WARN] unable to float: val (4 None/<class 'str'>) e: could not convert string to float: '4 None'\n",
      "[WARN] unable to get value: sheet_name: MRIInjurySeverity value: 4 None value_float: 4 None value_int: 4 None\n",
      "[WARN] unable to float: val (4 None/<class 'str'>) e: could not convert string to float: '4 None'\n",
      "[WARN] unable to get value: sheet_name: MRIInjurySeverity value: 4 None value_float: 4 None value_int: 4 None\n",
      "[WARN] unable to float: val (4 None/<class 'str'>) e: could not convert string to float: '4 None'\n",
      "[WARN] unable to get value: sheet_name: MRIInjurySeverity value: 4 None value_float: 4 None value_int: 4 None\n",
      "[WARN] unable to float: val (4 None/<class 'str'>) e: could not convert string to float: '4 None'\n",
      "[WARN] unable to get value: sheet_name: MRIInjurySeverity value: 4 None value_float: 4 None value_int: 4 None\n",
      "[WARN] unable to float: val (4 None/<class 'str'>) e: could not convert string to float: '4 None'\n",
      "[WARN] unable to get value: sheet_name: MRIInjurySeverity value: 4 None value_float: 4 None value_int: 4 None\n",
      "[WARN] unable to float: val (4 None/<class 'str'>) e: could not convert string to float: '4 None'\n",
      "[WARN] unable to get value: sheet_name: MRIInjurySeverity value: 4 None value_float: 4 None value_int: 4 None\n",
      "[WARN] unable to float: val (4 None/<class 'str'>) e: could not convert string to float: '4 None'\n",
      "[WARN] unable to get value: sheet_name: MRIInjurySeverity value: 4 None value_float: 4 None value_int: 4 None\n",
      "[WARN] unable to float: val (4 None/<class 'str'>) e: could not convert string to float: '4 None'\n",
      "[WARN] unable to get value: sheet_name: MRIInjurySeverity value: 4 None value_float: 4 None value_int: 4 None\n",
      "[WARN] unable to float: val (1 Mild/<class 'str'>) e: could not convert string to float: '1 Mild'\n",
      "[WARN] unable to get value: sheet_name: MRIInjurySeverity value: 1 Mild value_float: 1 Mild value_int: 1 Mild\n",
      "[WARN] unable to float: val (1 Mild/<class 'str'>) e: could not convert string to float: '1 Mild'\n",
      "[WARN] unable to get value: sheet_name: MRIInjurySeverity value: 1 Mild value_float: 1 Mild value_int: 1 Mild\n",
      "[WARN] unable to float: val (1 Mild/<class 'str'>) e: could not convert string to float: '1 Mild'\n",
      "[WARN] unable to get value: sheet_name: MRIInjurySeverity value: 1 Mild value_float: 1 Mild value_int: 1 Mild\n",
      "[WARN] unable to float: val (1 Mild/<class 'str'>) e: could not convert string to float: '1 Mild'\n",
      "[WARN] unable to get value: sheet_name: MRIInjurySeverity value: 1 Mild value_float: 1 Mild value_int: 1 Mild\n",
      "[WARN] unable to float: val (1 Mild/<class 'str'>) e: could not convert string to float: '1 Mild'\n",
      "[WARN] unable to get value: sheet_name: MRIInjurySeverity value: 1 Mild value_float: 1 Mild value_int: 1 Mild\n",
      "[WARN] unable to float: val (1 Mild/<class 'str'>) e: could not convert string to float: '1 Mild'\n",
      "[WARN] unable to get value: sheet_name: MRIInjurySeverity value: 1 Mild value_float: 1 Mild value_int: 1 Mild\n",
      "[WARN] unable to float: val (4 None/<class 'str'>) e: could not convert string to float: '4 None'\n",
      "[WARN] unable to get value: sheet_name: MRIInjurySeverity value: 4 None value_float: 4 None value_int: 4 None\n",
      "[WARN] unable to get value: sheet_name: MRIInjurySeverity value: - value_float:  value_int: \n",
      "[WARN] unable to get value: sheet_name: MRIInjurySeverity value: - value_float:  value_int: \n",
      "[WARN] unable to get value: sheet_name: MRIInjurySeverity value: - value_float:  value_int: \n",
      "[WARN] unable to float: val (4 None/<class 'str'>) e: could not convert string to float: '4 None'\n",
      "[WARN] unable to get value: sheet_name: MRIInjurySeverity value: 4 None value_float: 4 None value_int: 4 None\n",
      "[WARN] unable to float: val (1 Mild/<class 'str'>) e: could not convert string to float: '1 Mild'\n",
      "[WARN] unable to get value: sheet_name: MRIInjurySeverity value: 1 Mild value_float: 1 Mild value_int: 1 Mild\n",
      "[WARN] unable to float: val (1 Mild/<class 'str'>) e: could not convert string to float: '1 Mild'\n",
      "[WARN] unable to get value: sheet_name: MRIInjurySeverity value: 1 Mild value_float: 1 Mild value_int: 1 Mild\n",
      "[WARN] unable to float: val (1 Mild/<class 'str'>) e: could not convert string to float: '1 Mild'\n",
      "[WARN] unable to get value: sheet_name: MRIInjurySeverity value: 1 Mild value_float: 1 Mild value_int: 1 Mild\n",
      "[WARN] unable to float: val (1 Mild/<class 'str'>) e: could not convert string to float: '1 Mild'\n",
      "[WARN] unable to get value: sheet_name: MRIInjurySeverity value: 1 Mild value_float: 1 Mild value_int: 1 Mild\n",
      "[WARN] unable to float: val (1 Mild/<class 'str'>) e: could not convert string to float: '1 Mild'\n",
      "[WARN] unable to get value: sheet_name: MRIInjurySeverity value: 1 Mild value_float: 1 Mild value_int: 1 Mild\n",
      "[WARN] unable to float: val (4 None/<class 'str'>) e: could not convert string to float: '4 None'\n",
      "[WARN] unable to get value: sheet_name: MRIInjurySeverity value: 4 None value_float: 4 None value_int: 4 None\n",
      "[WARN] unable to float: val (4 None/<class 'str'>) e: could not convert string to float: '4 None'\n",
      "[WARN] unable to get value: sheet_name: MRIInjurySeverity value: 4 None value_float: 4 None value_int: 4 None\n",
      "[WARN] unable to float: val (4 None/<class 'str'>) e: could not convert string to float: '4 None'\n",
      "[WARN] unable to get value: sheet_name: MRIInjurySeverity value: 4 None value_float: 4 None value_int: 4 None\n",
      "[WARN] unable to float: val (4 None/<class 'str'>) e: could not convert string to float: '4 None'\n",
      "[WARN] unable to get value: sheet_name: MRIInjurySeverity value: 4 None value_float: 4 None value_int: 4 None\n",
      "[WARN] unable to float: val (1 Mild/<class 'str'>) e: could not convert string to float: '1 Mild'\n",
      "[WARN] unable to get value: sheet_name: MRIInjurySeverity value: 1 Mild value_float: 1 Mild value_int: 1 Mild\n",
      "[WARN] unable to float: val (4 None/<class 'str'>) e: could not convert string to float: '4 None'\n",
      "[WARN] unable to get value: sheet_name: MRIInjurySeverity value: 4 None value_float: 4 None value_int: 4 None\n",
      "[WARN] unable to float: val (4 None/<class 'str'>) e: could not convert string to float: '4 None'\n",
      "[WARN] unable to get value: sheet_name: MRIInjurySeverity value: 4 None value_float: 4 None value_int: 4 None\n",
      "[WARN] unable to float: val (4 None/<class 'str'>) e: could not convert string to float: '4 None'\n",
      "[WARN] unable to get value: sheet_name: MRIInjurySeverity value: 4 None value_float: 4 None value_int: 4 None\n",
      "[WARN] unable to float: val (4 None/<class 'str'>) e: could not convert string to float: '4 None'\n",
      "[WARN] unable to get value: sheet_name: MRIInjurySeverity value: 4 None value_float: 4 None value_int: 4 None\n",
      "[WARN] unable to float: val (4 None/<class 'str'>) e: could not convert string to float: '4 None'\n",
      "[WARN] unable to get value: sheet_name: MRIInjurySeverity value: 4 None value_float: 4 None value_int: 4 None\n",
      "[WARN] unable to float: val (4 None/<class 'str'>) e: could not convert string to float: '4 None'\n",
      "[WARN] unable to get value: sheet_name: MRIInjurySeverity value: 4 None value_float: 4 None value_int: 4 None\n",
      "[WARN] unable to float: val (1 Mild/<class 'str'>) e: could not convert string to float: '1 Mild'\n",
      "[WARN] unable to get value: sheet_name: MRIInjurySeverity value: 1 Mild value_float: 1 Mild value_int: 1 Mild\n",
      "[WARN] unable to float: val (1 Mild/<class 'str'>) e: could not convert string to float: '1 Mild'\n",
      "[WARN] unable to get value: sheet_name: MRIInjurySeverity value: 1 Mild value_float: 1 Mild value_int: 1 Mild\n",
      "[WARN] unable to float: val (4 None/<class 'str'>) e: could not convert string to float: '4 None'\n",
      "[WARN] unable to get value: sheet_name: MRIInjurySeverity value: 4 None value_float: 4 None value_int: 4 None\n",
      "[WARN] unable to get value: sheet_name: MRIInjurySeverity value: - value_float:  value_int: \n",
      "[WARN] unable to get value: sheet_name: MRIInjurySeverity value: - value_float:  value_int: \n",
      "[WARN] unable to float: val (4 None/<class 'str'>) e: could not convert string to float: '4 None'\n",
      "[WARN] unable to get value: sheet_name: MRIInjurySeverity value: 4 None value_float: 4 None value_int: 4 None\n",
      "[WARN] unable to float: val (4 None/<class 'str'>) e: could not convert string to float: '4 None'\n",
      "[WARN] unable to get value: sheet_name: MRIInjurySeverity value: 4 None value_float: 4 None value_int: 4 None\n",
      "[WARN] unable to float: val (4 None/<class 'str'>) e: could not convert string to float: '4 None'\n",
      "[WARN] unable to get value: sheet_name: MRIInjurySeverity value: 4 None value_float: 4 None value_int: 4 None\n",
      "[WARN] unable to float: val (4 None/<class 'str'>) e: could not convert string to float: '4 None'\n",
      "[WARN] unable to get value: sheet_name: MRIInjurySeverity value: 4 None value_float: 4 None value_int: 4 None\n",
      "[WARN] unable to float: val (4 None/<class 'str'>) e: could not convert string to float: '4 None'\n",
      "[WARN] unable to get value: sheet_name: MRIInjurySeverity value: 4 None value_float: 4 None value_int: 4 None\n",
      "[WARN] unable to float: val (1 Mild/<class 'str'>) e: could not convert string to float: '1 Mild'\n",
      "[WARN] unable to get value: sheet_name: MRIInjurySeverity value: 1 Mild value_float: 1 Mild value_int: 1 Mild\n",
      "[WARN] unable to float: val (4 None/<class 'str'>) e: could not convert string to float: '4 None'\n",
      "[WARN] unable to get value: sheet_name: MRIInjurySeverity value: 4 None value_float: 4 None value_int: 4 None\n",
      "[WARN] unable to float: val (1 Mild/<class 'str'>) e: could not convert string to float: '1 Mild'\n",
      "[WARN] unable to get value: sheet_name: MRIInjurySeverity value: 1 Mild value_float: 1 Mild value_int: 1 Mild\n",
      "[WARN] unable to float: val (4 None/<class 'str'>) e: could not convert string to float: '4 None'\n",
      "[WARN] unable to get value: sheet_name: MRIInjurySeverity value: 4 None value_float: 4 None value_int: 4 None\n",
      "[WARN] unable to float: val (4 None/<class 'str'>) e: could not convert string to float: '4 None'\n",
      "[WARN] unable to get value: sheet_name: MRIInjurySeverity value: 4 None value_float: 4 None value_int: 4 None\n",
      "[WARN] unable to float: val (1 Mild/<class 'str'>) e: could not convert string to float: '1 Mild'\n",
      "[WARN] unable to get value: sheet_name: MRIInjurySeverity value: 1 Mild value_float: 1 Mild value_int: 1 Mild\n",
      "[WARN] unable to get value: sheet_name: MRIInjurySeverity value: - value_float:  value_int: \n",
      "[WARN] unable to float: val (4 None/<class 'str'>) e: could not convert string to float: '4 None'\n",
      "[WARN] unable to get value: sheet_name: MRIInjurySeverity value: 4 None value_float: 4 None value_int: 4 None\n",
      "[WARN] unable to float: val (4 None/<class 'str'>) e: could not convert string to float: '4 None'\n",
      "[WARN] unable to get value: sheet_name: MRIInjurySeverity value: 4 None value_float: 4 None value_int: 4 None\n",
      "[WARN] unable to float: val (4 None/<class 'str'>) e: could not convert string to float: '4 None'\n",
      "[WARN] unable to get value: sheet_name: MRIInjurySeverity value: 4 None value_float: 4 None value_int: 4 None\n",
      "[WARN] unable to float: val (4 None/<class 'str'>) e: could not convert string to float: '4 None'\n",
      "[WARN] unable to get value: sheet_name: MRIInjurySeverity value: 4 None value_float: 4 None value_int: 4 None\n",
      "[WARN] unable to float: val (4 None/<class 'str'>) e: could not convert string to float: '4 None'\n",
      "[WARN] unable to get value: sheet_name: MRIInjurySeverity value: 4 None value_float: 4 None value_int: 4 None\n",
      "[WARN] unable to float: val (4 None/<class 'str'>) e: could not convert string to float: '4 None'\n",
      "[WARN] unable to get value: sheet_name: MRIInjurySeverity value: 4 None value_float: 4 None value_int: 4 None\n",
      "[WARN] unable to float: val (4 None/<class 'str'>) e: could not convert string to float: '4 None'\n",
      "[WARN] unable to get value: sheet_name: MRIInjurySeverity value: 4 None value_float: 4 None value_int: 4 None\n",
      "[WARN] unable to float: val (4 None/<class 'str'>) e: could not convert string to float: '4 None'\n",
      "[WARN] unable to get value: sheet_name: MRIInjurySeverity value: 4 None value_float: 4 None value_int: 4 None\n",
      "[WARN] unable to float: val (4 None/<class 'str'>) e: could not convert string to float: '4 None'\n",
      "[WARN] unable to get value: sheet_name: MRIInjurySeverity value: 4 None value_float: 4 None value_int: 4 None\n",
      "[WARN] unable to float: val (1 Mild/<class 'str'>) e: could not convert string to float: '1 Mild'\n",
      "[WARN] unable to get value: sheet_name: MRIInjurySeverity value: 1 Mild value_float: 1 Mild value_int: 1 Mild\n",
      "[WARN] unable to float: val (1 Mild/<class 'str'>) e: could not convert string to float: '1 Mild'\n",
      "[WARN] unable to get value: sheet_name: MRIInjurySeverity value: 1 Mild value_float: 1 Mild value_int: 1 Mild\n",
      "[WARN] unable to float: val (1 Mild/<class 'str'>) e: could not convert string to float: '1 Mild'\n",
      "[WARN] unable to get value: sheet_name: MRIInjurySeverity value: 1 Mild value_float: 1 Mild value_int: 1 Mild\n",
      "[WARN] unable to get value: sheet_name: MRIInjurySeverity value: - value_float:  value_int: \n",
      "[WARN] unable to float: val (4 None/<class 'str'>) e: could not convert string to float: '4 None'\n",
      "[WARN] unable to get value: sheet_name: MRIInjurySeverity value: 4 None value_float: 4 None value_int: 4 None\n",
      "[WARN] unable to float: val (4 None/<class 'str'>) e: could not convert string to float: '4 None'\n",
      "[WARN] unable to get value: sheet_name: MRIInjurySeverity value: 4 None value_float: 4 None value_int: 4 None\n",
      "[WARN] unable to float: val (4 None/<class 'str'>) e: could not convert string to float: '4 None'\n",
      "[WARN] unable to get value: sheet_name: MRIInjurySeverity value: 4 None value_float: 4 None value_int: 4 None\n",
      "[WARN] unable to float: val (1 Mild/<class 'str'>) e: could not convert string to float: '1 Mild'\n",
      "[WARN] unable to get value: sheet_name: MRIInjurySeverity value: 1 Mild value_float: 1 Mild value_int: 1 Mild\n",
      "[WARN] unable to float: val (1 Mild/<class 'str'>) e: could not convert string to float: '1 Mild'\n",
      "[WARN] unable to get value: sheet_name: MRIInjurySeverity value: 1 Mild value_float: 1 Mild value_int: 1 Mild\n",
      "[WARN] unable to float: val (1 Mild/<class 'str'>) e: could not convert string to float: '1 Mild'\n",
      "[WARN] unable to get value: sheet_name: MRIInjurySeverity value: 1 Mild value_float: 1 Mild value_int: 1 Mild\n",
      "[WARN] unable to get value: sheet_name: MRIInjurySeverity value: - value_float:  value_int: \n",
      "[WARN] unable to float: val (4 None/<class 'str'>) e: could not convert string to float: '4 None'\n",
      "[WARN] unable to get value: sheet_name: MRIInjurySeverity value: 4 None value_float: 4 None value_int: 4 None\n",
      "[WARN] unable to float: val (4 None/<class 'str'>) e: could not convert string to float: '4 None'\n",
      "[WARN] unable to get value: sheet_name: MRIInjurySeverity value: 4 None value_float: 4 None value_int: 4 None\n",
      "[WARN] unable to float: val (4 None/<class 'str'>) e: could not convert string to float: '4 None'\n",
      "[WARN] unable to get value: sheet_name: MRIInjurySeverity value: 4 None value_float: 4 None value_int: 4 None\n",
      "[WARN] unable to float: val (4 None/<class 'str'>) e: could not convert string to float: '4 None'\n",
      "[WARN] unable to get value: sheet_name: MRIInjurySeverity value: 4 None value_float: 4 None value_int: 4 None\n",
      "[WARN] unable to float: val (4 None/<class 'str'>) e: could not convert string to float: '4 None'\n",
      "[WARN] unable to get value: sheet_name: MRIInjurySeverity value: 4 None value_float: 4 None value_int: 4 None\n",
      "[WARN] unable to float: val (1 Mild/<class 'str'>) e: could not convert string to float: '1 Mild'\n",
      "[WARN] unable to get value: sheet_name: MRIInjurySeverity value: 1 Mild value_float: 1 Mild value_int: 1 Mild\n",
      "[WARN] unable to get value: sheet_name: MRIInjurySeverity value: - value_float:  value_int: \n",
      "[WARN] unable to float: val (1 Mild/<class 'str'>) e: could not convert string to float: '1 Mild'\n",
      "[WARN] unable to get value: sheet_name: MRIInjurySeverity value: 1 Mild value_float: 1 Mild value_int: 1 Mild\n",
      "[WARN] unable to float: val (1 Mild/<class 'str'>) e: could not convert string to float: '1 Mild'\n",
      "[WARN] unable to get value: sheet_name: MRIInjurySeverity value: 1 Mild value_float: 1 Mild value_int: 1 Mild\n",
      "[WARN] unable to float: val (4 None/<class 'str'>) e: could not convert string to float: '4 None'\n",
      "[WARN] unable to get value: sheet_name: MRIInjurySeverity value: 4 None value_float: 4 None value_int: 4 None\n",
      "[WARN] unable to float: val (4 None/<class 'str'>) e: could not convert string to float: '4 None'\n",
      "[WARN] unable to get value: sheet_name: MRIInjurySeverity value: 4 None value_float: 4 None value_int: 4 None\n",
      "[WARN] unable to float: val (4 None/<class 'str'>) e: could not convert string to float: '4 None'\n",
      "[WARN] unable to get value: sheet_name: MRIInjurySeverity value: 4 None value_float: 4 None value_int: 4 None\n",
      "[WARN] unable to float: val (4 None/<class 'str'>) e: could not convert string to float: '4 None'\n",
      "[WARN] unable to get value: sheet_name: MRIInjurySeverity value: 4 None value_float: 4 None value_int: 4 None\n",
      "[WARN] unable to float: val (4 None/<class 'str'>) e: could not convert string to float: '4 None'\n",
      "[WARN] unable to get value: sheet_name: MRIInjurySeverity value: 4 None value_float: 4 None value_int: 4 None\n",
      "[WARN] unable to float: val (4 None/<class 'str'>) e: could not convert string to float: '4 None'\n",
      "[WARN] unable to get value: sheet_name: MRIInjurySeverity value: 4 None value_float: 4 None value_int: 4 None\n",
      "[WARN] unable to float: val (4 None/<class 'str'>) e: could not convert string to float: '4 None'\n",
      "[WARN] unable to get value: sheet_name: MRIInjurySeverity value: 4 None value_float: 4 None value_int: 4 None\n",
      "[WARN] unable to float: val (4 None/<class 'str'>) e: could not convert string to float: '4 None'\n",
      "[WARN] unable to get value: sheet_name: MRIInjurySeverity value: 4 None value_float: 4 None value_int: 4 None\n",
      "[WARN] unable to float: val (4 None/<class 'str'>) e: could not convert string to float: '4 None'\n",
      "[WARN] unable to get value: sheet_name: MRIInjurySeverity value: 4 None value_float: 4 None value_int: 4 None\n",
      "[WARN] unable to float: val (1 Mild/<class 'str'>) e: could not convert string to float: '1 Mild'\n",
      "[WARN] unable to get value: sheet_name: MRIInjurySeverity value: 1 Mild value_float: 1 Mild value_int: 1 Mild\n",
      "[WARN] unable to float: val (1 Mild/<class 'str'>) e: could not convert string to float: '1 Mild'\n",
      "[WARN] unable to get value: sheet_name: MRIInjurySeverity value: 1 Mild value_float: 1 Mild value_int: 1 Mild\n",
      "[WARN] unable to float: val (1 Mild/<class 'str'>) e: could not convert string to float: '1 Mild'\n",
      "[WARN] unable to get value: sheet_name: MRIInjurySeverity value: 1 Mild value_float: 1 Mild value_int: 1 Mild\n",
      "[WARN] unable to float: val (4 None/<class 'str'>) e: could not convert string to float: '4 None'\n",
      "[WARN] unable to get value: sheet_name: MRIInjurySeverity value: 4 None value_float: 4 None value_int: 4 None\n",
      "[WARN] unable to get value: sheet_name: MRIInjurySeverity value: - value_float:  value_int: \n",
      "[WARN] unable to get value: sheet_name: MRIInjurySeverity value: - value_float:  value_int: \n",
      "[WARN] unable to get value: sheet_name: MRIInjurySeverity value: - value_float:  value_int: \n",
      "[WARN] unable to float: val (1 Mild/<class 'str'>) e: could not convert string to float: '1 Mild'\n",
      "[WARN] unable to get value: sheet_name: MRIInjurySeverity value: 1 Mild value_float: 1 Mild value_int: 1 Mild\n",
      "[WARN] unable to float: val (1 Mild/<class 'str'>) e: could not convert string to float: '1 Mild'\n",
      "[WARN] unable to get value: sheet_name: MRIInjurySeverity value: 1 Mild value_float: 1 Mild value_int: 1 Mild\n",
      "[WARN] unable to float: val (1 Mild/<class 'str'>) e: could not convert string to float: '1 Mild'\n",
      "[WARN] unable to get value: sheet_name: MRIInjurySeverity value: 1 Mild value_float: 1 Mild value_int: 1 Mild\n",
      "[WARN] unable to float: val (1 Mild/<class 'str'>) e: could not convert string to float: '1 Mild'\n",
      "[WARN] unable to get value: sheet_name: MRIInjurySeverity value: 1 Mild value_float: 1 Mild value_int: 1 Mild\n",
      "[WARN] unable to float: val (1 Mild/<class 'str'>) e: could not convert string to float: '1 Mild'\n",
      "[WARN] unable to get value: sheet_name: MRIInjurySeverity value: 1 Mild value_float: 1 Mild value_int: 1 Mild\n",
      "[WARN] unable to float: val (1 Mild/<class 'str'>) e: could not convert string to float: '1 Mild'\n",
      "[WARN] unable to get value: sheet_name: MRIInjurySeverity value: 1 Mild value_float: 1 Mild value_int: 1 Mild\n",
      "[WARN] unable to float: val (1 Mild/<class 'str'>) e: could not convert string to float: '1 Mild'\n",
      "[WARN] unable to get value: sheet_name: MRIInjurySeverity value: 1 Mild value_float: 1 Mild value_int: 1 Mild\n",
      "[WARN] unable to float: val (1 Mild/<class 'str'>) e: could not convert string to float: '1 Mild'\n",
      "[WARN] unable to get value: sheet_name: MRIInjurySeverity value: 1 Mild value_float: 1 Mild value_int: 1 Mild\n",
      "[WARN] unable to float: val (4 None/<class 'str'>) e: could not convert string to float: '4 None'\n",
      "[WARN] unable to get value: sheet_name: MRIInjurySeverity value: 4 None value_float: 4 None value_int: 4 None\n",
      "[WARN] unable to float: val (4 None/<class 'str'>) e: could not convert string to float: '4 None'\n",
      "[WARN] unable to get value: sheet_name: MRIInjurySeverity value: 4 None value_float: 4 None value_int: 4 None\n",
      "[WARN] unable to float: val (4 None/<class 'str'>) e: could not convert string to float: '4 None'\n",
      "[WARN] unable to get value: sheet_name: MRIInjurySeverity value: 4 None value_float: 4 None value_int: 4 None\n",
      "[WARN] unable to float: val (4 None/<class 'str'>) e: could not convert string to float: '4 None'\n",
      "[WARN] unable to get value: sheet_name: MRIInjurySeverity value: 4 None value_float: 4 None value_int: 4 None\n",
      "[WARN] unable to float: val (4 None/<class 'str'>) e: could not convert string to float: '4 None'\n",
      "[WARN] unable to get value: sheet_name: MRIInjurySeverity value: 4 None value_float: 4 None value_int: 4 None\n",
      "[WARN] unable to float: val (4 None/<class 'str'>) e: could not convert string to float: '4 None'\n",
      "[WARN] unable to get value: sheet_name: MRIInjurySeverity value: 4 None value_float: 4 None value_int: 4 None\n",
      "[WARN] unable to get value: sheet_name: MRIInjurySeverity value: - value_float:  value_int: \n",
      "[WARN] unable to get value: sheet_name: MRIInjurySeverity value: - value_float:  value_int: \n",
      "[WARN] unable to get value: sheet_name: MRIInjurySeverity value: - value_float:  value_int: \n",
      "[WARN] unable to float: val (1 Mild/<class 'str'>) e: could not convert string to float: '1 Mild'\n",
      "[WARN] unable to get value: sheet_name: MRIInjurySeverity value: 1 Mild value_float: 1 Mild value_int: 1 Mild\n",
      "[WARN] unable to float: val (1 Mild/<class 'str'>) e: could not convert string to float: '1 Mild'\n",
      "[WARN] unable to get value: sheet_name: MRIInjurySeverity value: 1 Mild value_float: 1 Mild value_int: 1 Mild\n",
      "[WARN] unable to float: val (1 Mild/<class 'str'>) e: could not convert string to float: '1 Mild'\n",
      "[WARN] unable to get value: sheet_name: MRIInjurySeverity value: 1 Mild value_float: 1 Mild value_int: 1 Mild\n",
      "[WARN] unable to float: val (4 None/<class 'str'>) e: could not convert string to float: '4 None'\n",
      "[WARN] unable to get value: sheet_name: MRIInjurySeverity value: 4 None value_float: 4 None value_int: 4 None\n",
      "[WARN] unable to float: val (4 None/<class 'str'>) e: could not convert string to float: '4 None'\n",
      "[WARN] unable to get value: sheet_name: MRIInjurySeverity value: 4 None value_float: 4 None value_int: 4 None\n",
      "[WARN] unable to float: val (4 None/<class 'str'>) e: could not convert string to float: '4 None'\n",
      "[WARN] unable to get value: sheet_name: MRIInjurySeverity value: 4 None value_float: 4 None value_int: 4 None\n",
      "[WARN] unable to float: val (1 Mild/<class 'str'>) e: could not convert string to float: '1 Mild'\n",
      "[WARN] unable to get value: sheet_name: MRIInjurySeverity value: 1 Mild value_float: 1 Mild value_int: 1 Mild\n",
      "[WARN] unable to float: val (4 None/<class 'str'>) e: could not convert string to float: '4 None'\n",
      "[WARN] unable to get value: sheet_name: MRIInjurySeverity value: 4 None value_float: 4 None value_int: 4 None\n",
      "[WARN] unable to float: val (4 None/<class 'str'>) e: could not convert string to float: '4 None'\n",
      "[WARN] unable to get value: sheet_name: MRIInjurySeverity value: 4 None value_float: 4 None value_int: 4 None\n",
      "[WARN] unable to float: val (1 Mild/<class 'str'>) e: could not convert string to float: '1 Mild'\n",
      "[WARN] unable to get value: sheet_name: MRIInjurySeverity value: 1 Mild value_float: 1 Mild value_int: 1 Mild\n",
      "[WARN] unable to float: val (1 Mild/<class 'str'>) e: could not convert string to float: '1 Mild'\n",
      "[WARN] unable to get value: sheet_name: MRIInjurySeverity value: 1 Mild value_float: 1 Mild value_int: 1 Mild\n",
      "[WARN] unable to float: val (1 Mild/<class 'str'>) e: could not convert string to float: '1 Mild'\n",
      "[WARN] unable to get value: sheet_name: MRIInjurySeverity value: 1 Mild value_float: 1 Mild value_int: 1 Mild\n",
      "[WARN] unable to float: val (1 Mild/<class 'str'>) e: could not convert string to float: '1 Mild'\n",
      "[WARN] unable to get value: sheet_name: MRIInjurySeverity value: 1 Mild value_float: 1 Mild value_int: 1 Mild\n",
      "[WARN] unable to float: val (4 None/<class 'str'>) e: could not convert string to float: '4 None'\n",
      "[WARN] unable to get value: sheet_name: MRIInjurySeverity value: 4 None value_float: 4 None value_int: 4 None\n",
      "[WARN] unable to float: val (4 None/<class 'str'>) e: could not convert string to float: '4 None'\n",
      "[WARN] unable to get value: sheet_name: MRIInjurySeverity value: 4 None value_float: 4 None value_int: 4 None\n",
      "[WARN] unable to float: val (4 None/<class 'str'>) e: could not convert string to float: '4 None'\n",
      "[WARN] unable to get value: sheet_name: MRIInjurySeverity value: 4 None value_float: 4 None value_int: 4 None\n",
      "[WARN] unable to float: val (4 None/<class 'str'>) e: could not convert string to float: '4 None'\n",
      "[WARN] unable to get value: sheet_name: MRIInjurySeverity value: 4 None value_float: 4 None value_int: 4 None\n",
      "[WARN] unable to float: val (4 None/<class 'str'>) e: could not convert string to float: '4 None'\n",
      "[WARN] unable to get value: sheet_name: MRIInjurySeverity value: 4 None value_float: 4 None value_int: 4 None\n",
      "[WARN] unable to float: val (4 None/<class 'str'>) e: could not convert string to float: '4 None'\n",
      "[WARN] unable to get value: sheet_name: MRIInjurySeverity value: 4 None value_float: 4 None value_int: 4 None\n",
      "[WARN] unable to float: val (4 None/<class 'str'>) e: could not convert string to float: '4 None'\n",
      "[WARN] unable to get value: sheet_name: MRIInjurySeverity value: 4 None value_float: 4 None value_int: 4 None\n",
      "[WARN] unable to float: val (4 None/<class 'str'>) e: could not convert string to float: '4 None'\n",
      "[WARN] unable to get value: sheet_name: MRIInjurySeverity value: 4 None value_float: 4 None value_int: 4 None\n",
      "[WARN] unable to get value: sheet_name: MRIInjurySeverity value: - value_float:  value_int: \n",
      "[WARN] unable to get value: sheet_name: MRIInjurySeverity value: - value_float:  value_int: \n",
      "[WARN] unable to float: val (1 Mild/<class 'str'>) e: could not convert string to float: '1 Mild'\n",
      "[WARN] unable to get value: sheet_name: MRIInjurySeverity value: 1 Mild value_float: 1 Mild value_int: 1 Mild\n",
      "[WARN] unable to float: val (1 Mild/<class 'str'>) e: could not convert string to float: '1 Mild'\n",
      "[WARN] unable to get value: sheet_name: MRIInjurySeverity value: 1 Mild value_float: 1 Mild value_int: 1 Mild\n",
      "[WARN] unable to float: val (1 Mild/<class 'str'>) e: could not convert string to float: '1 Mild'\n",
      "[WARN] unable to get value: sheet_name: MRIInjurySeverity value: 1 Mild value_float: 1 Mild value_int: 1 Mild\n",
      "[WARN] unable to float: val (4 None/<class 'str'>) e: could not convert string to float: '4 None'\n",
      "[WARN] unable to get value: sheet_name: MRIInjurySeverity value: 4 None value_float: 4 None value_int: 4 None\n",
      "[WARN] unable to float: val (4 None/<class 'str'>) e: could not convert string to float: '4 None'\n",
      "[WARN] unable to get value: sheet_name: MRIInjurySeverity value: 4 None value_float: 4 None value_int: 4 None\n",
      "[WARN] unable to get value: sheet_name: MRIInjurySeverity value: - value_float:  value_int: \n",
      "[WARN] unable to get value: sheet_name: MRIInjurySeverity value: - value_float:  value_int: \n",
      "[WARN] unable to float: val (1 Mild/<class 'str'>) e: could not convert string to float: '1 Mild'\n",
      "[WARN] unable to get value: sheet_name: MRIInjurySeverity value: 1 Mild value_float: 1 Mild value_int: 1 Mild\n",
      "[WARN] unable to float: val (4 None/<class 'str'>) e: could not convert string to float: '4 None'\n",
      "[WARN] unable to get value: sheet_name: MRIInjurySeverity value: 4 None value_float: 4 None value_int: 4 None\n",
      "[WARN] unable to get value: sheet_name: MRIInjurySeverity value: - value_float:  value_int: \n",
      "[WARN] unable to float: val (4 None/<class 'str'>) e: could not convert string to float: '4 None'\n",
      "[WARN] unable to get value: sheet_name: MRIInjurySeverity value: 4 None value_float: 4 None value_int: 4 None\n",
      "[WARN] unable to float: val (1 Mild/<class 'str'>) e: could not convert string to float: '1 Mild'\n",
      "[WARN] unable to get value: sheet_name: MRIInjurySeverity value: 1 Mild value_float: 1 Mild value_int: 1 Mild\n",
      "[WARN] unable to float: val (1 Mild/<class 'str'>) e: could not convert string to float: '1 Mild'\n",
      "[WARN] unable to get value: sheet_name: MRIInjurySeverity value: 1 Mild value_float: 1 Mild value_int: 1 Mild\n",
      "[WARN] unable to float: val (1 Mild/<class 'str'>) e: could not convert string to float: '1 Mild'\n",
      "[WARN] unable to get value: sheet_name: MRIInjurySeverity value: 1 Mild value_float: 1 Mild value_int: 1 Mild\n",
      "[WARN] unable to float: val (1 Mild/<class 'str'>) e: could not convert string to float: '1 Mild'\n",
      "[WARN] unable to get value: sheet_name: MRIInjurySeverity value: 1 Mild value_float: 1 Mild value_int: 1 Mild\n",
      "[WARN] unable to float: val (1 Mild/<class 'str'>) e: could not convert string to float: '1 Mild'\n",
      "[WARN] unable to get value: sheet_name: MRIInjurySeverity value: 1 Mild value_float: 1 Mild value_int: 1 Mild\n",
      "[WARN] unable to float: val (4 None/<class 'str'>) e: could not convert string to float: '4 None'\n",
      "[WARN] unable to get value: sheet_name: MRIInjurySeverity value: 4 None value_float: 4 None value_int: 4 None\n",
      "[WARN] unable to float: val (4 None/<class 'str'>) e: could not convert string to float: '4 None'\n",
      "[WARN] unable to get value: sheet_name: MRIInjurySeverity value: 4 None value_float: 4 None value_int: 4 None\n",
      "[WARN] unable to float: val (4 None/<class 'str'>) e: could not convert string to float: '4 None'\n",
      "[WARN] unable to get value: sheet_name: MRIInjurySeverity value: 4 None value_float: 4 None value_int: 4 None\n",
      "[WARN] unable to float: val (1 Mild/<class 'str'>) e: could not convert string to float: '1 Mild'\n",
      "[WARN] unable to get value: sheet_name: MRIInjurySeverity value: 1 Mild value_float: 1 Mild value_int: 1 Mild\n",
      "[WARN] unable to float: val (1 Mild/<class 'str'>) e: could not convert string to float: '1 Mild'\n",
      "[WARN] unable to get value: sheet_name: MRIInjurySeverity value: 1 Mild value_float: 1 Mild value_int: 1 Mild\n",
      "[WARN] unable to float: val (1 Mild/<class 'str'>) e: could not convert string to float: '1 Mild'\n",
      "[WARN] unable to get value: sheet_name: MRIInjurySeverity value: 1 Mild value_float: 1 Mild value_int: 1 Mild\n",
      "[WARN] unable to float: val (1 Mild/<class 'str'>) e: could not convert string to float: '1 Mild'\n",
      "[WARN] unable to get value: sheet_name: MRIInjurySeverity value: 1 Mild value_float: 1 Mild value_int: 1 Mild\n",
      "[WARN] unable to float: val (1 Mild/<class 'str'>) e: could not convert string to float: '1 Mild'\n",
      "[WARN] unable to get value: sheet_name: MRIInjurySeverity value: 1 Mild value_float: 1 Mild value_int: 1 Mild\n",
      "[WARN] unable to float: val (1 Mild/<class 'str'>) e: could not convert string to float: '1 Mild'\n",
      "[WARN] unable to get value: sheet_name: MRIInjurySeverity value: 1 Mild value_float: 1 Mild value_int: 1 Mild\n",
      "[WARN] unable to float: val (4 None/<class 'str'>) e: could not convert string to float: '4 None'\n",
      "[WARN] unable to get value: sheet_name: MRIInjurySeverity value: 4 None value_float: 4 None value_int: 4 None\n",
      "[WARN] unable to float: val (4 None/<class 'str'>) e: could not convert string to float: '4 None'\n",
      "[WARN] unable to get value: sheet_name: MRIInjurySeverity value: 4 None value_float: 4 None value_int: 4 None\n",
      "[WARN] unable to float: val (4 None/<class 'str'>) e: could not convert string to float: '4 None'\n",
      "[WARN] unable to get value: sheet_name: MRIInjurySeverity value: 4 None value_float: 4 None value_int: 4 None\n",
      "[WARN] unable to float: val (1 Mild/<class 'str'>) e: could not convert string to float: '1 Mild'\n",
      "[WARN] unable to get value: sheet_name: MRIInjurySeverity value: 1 Mild value_float: 1 Mild value_int: 1 Mild\n",
      "[WARN] unable to float: val (4 None/<class 'str'>) e: could not convert string to float: '4 None'\n",
      "[WARN] unable to get value: sheet_name: MRIInjurySeverity value: 4 None value_float: 4 None value_int: 4 None\n",
      "[WARN] unable to float: val (4 None/<class 'str'>) e: could not convert string to float: '4 None'\n",
      "[WARN] unable to get value: sheet_name: MRIInjurySeverity value: 4 None value_float: 4 None value_int: 4 None\n",
      "[WARN] unable to float: val (4 None/<class 'str'>) e: could not convert string to float: '4 None'\n",
      "[WARN] unable to get value: sheet_name: MRIInjurySeverity value: 4 None value_float: 4 None value_int: 4 None\n",
      "[WARN] unable to float: val (4 None/<class 'str'>) e: could not convert string to float: '4 None'\n",
      "[WARN] unable to get value: sheet_name: MRIInjurySeverity value: 4 None value_float: 4 None value_int: 4 None\n",
      "[WARN] unable to float: val (4 None/<class 'str'>) e: could not convert string to float: '4 None'\n",
      "[WARN] unable to get value: sheet_name: MRIInjurySeverity value: 4 None value_float: 4 None value_int: 4 None\n",
      "[WARN] unable to float: val (4 None/<class 'str'>) e: could not convert string to float: '4 None'\n",
      "[WARN] unable to get value: sheet_name: MRIInjurySeverity value: 4 None value_float: 4 None value_int: 4 None\n",
      "[WARN] unable to float: val (4 None/<class 'str'>) e: could not convert string to float: '4 None'\n",
      "[WARN] unable to get value: sheet_name: MRIInjurySeverity value: 4 None value_float: 4 None value_int: 4 None\n",
      "[WARN] unable to float: val (4 None/<class 'str'>) e: could not convert string to float: '4 None'\n",
      "[WARN] unable to get value: sheet_name: MRIInjurySeverity value: 4 None value_float: 4 None value_int: 4 None\n",
      "[WARN] unable to float: val (4 None/<class 'str'>) e: could not convert string to float: '4 None'\n",
      "[WARN] unable to get value: sheet_name: MRIInjurySeverity value: 4 None value_float: 4 None value_int: 4 None\n",
      "[WARN] unable to float: val (1 Mild/<class 'str'>) e: could not convert string to float: '1 Mild'\n",
      "[WARN] unable to get value: sheet_name: MRIInjurySeverity value: 1 Mild value_float: 1 Mild value_int: 1 Mild\n",
      "[WARN] unable to float: val (1 Mild/<class 'str'>) e: could not convert string to float: '1 Mild'\n",
      "[WARN] unable to get value: sheet_name: MRIInjurySeverity value: 1 Mild value_float: 1 Mild value_int: 1 Mild\n",
      "[WARN] unable to float: val (1 Mild/<class 'str'>) e: could not convert string to float: '1 Mild'\n",
      "[WARN] unable to get value: sheet_name: MRIInjurySeverity value: 1 Mild value_float: 1 Mild value_int: 1 Mild\n",
      "[WARN] unable to float: val (1 Mild/<class 'str'>) e: could not convert string to float: '1 Mild'\n",
      "[WARN] unable to get value: sheet_name: MRIInjurySeverity value: 1 Mild value_float: 1 Mild value_int: 1 Mild\n",
      "[WARN] unable to float: val (1 Mild/<class 'str'>) e: could not convert string to float: '1 Mild'\n",
      "[WARN] unable to get value: sheet_name: MRIInjurySeverity value: 1 Mild value_float: 1 Mild value_int: 1 Mild\n",
      "[WARN] unable to float: val (4 None/<class 'str'>) e: could not convert string to float: '4 None'\n",
      "[WARN] unable to get value: sheet_name: MRIInjurySeverity value: 4 None value_float: 4 None value_int: 4 None\n",
      "[WARN] unable to float: val (4 None/<class 'str'>) e: could not convert string to float: '4 None'\n",
      "[WARN] unable to get value: sheet_name: MRIInjurySeverity value: 4 None value_float: 4 None value_int: 4 None\n",
      "[WARN] unable to float: val (4 None/<class 'str'>) e: could not convert string to float: '4 None'\n",
      "[WARN] unable to get value: sheet_name: MRIInjurySeverity value: 4 None value_float: 4 None value_int: 4 None\n",
      "[WARN] unable to float: val (1 Mild/<class 'str'>) e: could not convert string to float: '1 Mild'\n",
      "[WARN] unable to get value: sheet_name: MRIInjurySeverity value: 1 Mild value_float: 1 Mild value_int: 1 Mild\n",
      "[WARN] unable to float: val (4 None/<class 'str'>) e: could not convert string to float: '4 None'\n",
      "[WARN] unable to get value: sheet_name: MRIInjurySeverity value: 4 None value_float: 4 None value_int: 4 None\n",
      "[WARN] unable to float: val (4 None/<class 'str'>) e: could not convert string to float: '4 None'\n",
      "[WARN] unable to get value: sheet_name: MRIInjurySeverity value: 4 None value_float: 4 None value_int: 4 None\n",
      "[WARN] unable to float: val (4 None/<class 'str'>) e: could not convert string to float: '4 None'\n",
      "[WARN] unable to get value: sheet_name: MRIInjurySeverity value: 4 None value_float: 4 None value_int: 4 None\n",
      "[WARN] unable to float: val (4 None/<class 'str'>) e: could not convert string to float: '4 None'\n",
      "[WARN] unable to get value: sheet_name: MRIInjurySeverity value: 4 None value_float: 4 None value_int: 4 None\n",
      "[WARN] unable to float: val (4 None/<class 'str'>) e: could not convert string to float: '4 None'\n",
      "[WARN] unable to get value: sheet_name: MRIInjurySeverity value: 4 None value_float: 4 None value_int: 4 None\n",
      "[WARN] unable to float: val (4 None/<class 'str'>) e: could not convert string to float: '4 None'\n",
      "[WARN] unable to get value: sheet_name: MRIInjurySeverity value: 4 None value_float: 4 None value_int: 4 None\n",
      "[WARN] unable to get value: sheet_name: MRIInjurySeverity value: - value_float:  value_int: \n",
      "[WARN] unable to get value: sheet_name: MRIInjurySeverity value: - value_float:  value_int: \n",
      "[WARN] unable to float: val (4 None/<class 'str'>) e: could not convert string to float: '4 None'\n",
      "[WARN] unable to get value: sheet_name: MRIInjurySeverity value: 4 None value_float: 4 None value_int: 4 None\n",
      "[WARN] unable to float: val (4 None/<class 'str'>) e: could not convert string to float: '4 None'\n",
      "[WARN] unable to get value: sheet_name: MRIInjurySeverity value: 4 None value_float: 4 None value_int: 4 None\n",
      "[WARN] unable to float: val (4 None/<class 'str'>) e: could not convert string to float: '4 None'\n",
      "[WARN] unable to get value: sheet_name: MRIInjurySeverity value: 4 None value_float: 4 None value_int: 4 None\n",
      "[WARN] unable to get value: sheet_name: MRIInjurySeverity value: - value_float:  value_int: \n",
      "[WARN] unable to float: val (1 Mild/<class 'str'>) e: could not convert string to float: '1 Mild'\n",
      "[WARN] unable to get value: sheet_name: MRIInjurySeverity value: 1 Mild value_float: 1 Mild value_int: 1 Mild\n",
      "[WARN] unable to float: val (1 Mild/<class 'str'>) e: could not convert string to float: '1 Mild'\n",
      "[WARN] unable to get value: sheet_name: MRIInjurySeverity value: 1 Mild value_float: 1 Mild value_int: 1 Mild\n",
      "[WARN] unable to float: val (1 Mild/<class 'str'>) e: could not convert string to float: '1 Mild'\n",
      "[WARN] unable to get value: sheet_name: MRIInjurySeverity value: 1 Mild value_float: 1 Mild value_int: 1 Mild\n",
      "[WARN] unable to float: val (4 None/<class 'str'>) e: could not convert string to float: '4 None'\n",
      "[WARN] unable to get value: sheet_name: MRIInjurySeverity value: 4 None value_float: 4 None value_int: 4 None\n",
      "[WARN] unable to float: val (4 None/<class 'str'>) e: could not convert string to float: '4 None'\n",
      "[WARN] unable to get value: sheet_name: MRIInjurySeverity value: 4 None value_float: 4 None value_int: 4 None\n",
      "[WARN] unable to float: val (4 None/<class 'str'>) e: could not convert string to float: '4 None'\n",
      "[WARN] unable to get value: sheet_name: MRIInjurySeverity value: 4 None value_float: 4 None value_int: 4 None\n",
      "[WARN] unable to float: val (1 Mild/<class 'str'>) e: could not convert string to float: '1 Mild'\n",
      "[WARN] unable to get value: sheet_name: MRIInjurySeverity value: 1 Mild value_float: 1 Mild value_int: 1 Mild\n",
      "[WARN] unable to float: val (1 Mild/<class 'str'>) e: could not convert string to float: '1 Mild'\n",
      "[WARN] unable to get value: sheet_name: MRIInjurySeverity value: 1 Mild value_float: 1 Mild value_int: 1 Mild\n",
      "[WARN] unable to float: val (4 None/<class 'str'>) e: could not convert string to float: '4 None'\n",
      "[WARN] unable to get value: sheet_name: MRIInjurySeverity value: 4 None value_float: 4 None value_int: 4 None\n",
      "[WARN] unable to float: val (4 None/<class 'str'>) e: could not convert string to float: '4 None'\n",
      "[WARN] unable to get value: sheet_name: MRIInjurySeverity value: 4 None value_float: 4 None value_int: 4 None\n",
      "[WARN] unable to float: val (4 None/<class 'str'>) e: could not convert string to float: '4 None'\n",
      "[WARN] unable to get value: sheet_name: MRIInjurySeverity value: 4 None value_float: 4 None value_int: 4 None\n",
      "[WARN] unable to float: val (4 None/<class 'str'>) e: could not convert string to float: '4 None'\n",
      "[WARN] unable to get value: sheet_name: MRIInjurySeverity value: 4 None value_float: 4 None value_int: 4 None\n",
      "[WARN] unable to float: val (1 Mild/<class 'str'>) e: could not convert string to float: '1 Mild'\n",
      "[WARN] unable to get value: sheet_name: MRIInjurySeverity value: 1 Mild value_float: 1 Mild value_int: 1 Mild\n",
      "[WARN] unable to float: val (1 Mild/<class 'str'>) e: could not convert string to float: '1 Mild'\n",
      "[WARN] unable to get value: sheet_name: MRIInjurySeverity value: 1 Mild value_float: 1 Mild value_int: 1 Mild\n",
      "[WARN] unable to float: val (1 Mild/<class 'str'>) e: could not convert string to float: '1 Mild'\n",
      "[WARN] unable to get value: sheet_name: MRIInjurySeverity value: 1 Mild value_float: 1 Mild value_int: 1 Mild\n",
      "[WARN] unable to get value: sheet_name: MRIInjurySeverity value: - value_float:  value_int: \n",
      "[WARN] unable to float: val (4 None/<class 'str'>) e: could not convert string to float: '4 None'\n",
      "[WARN] unable to get value: sheet_name: MRIInjurySeverity value: 4 None value_float: 4 None value_int: 4 None\n",
      "[WARN] unable to float: val (4 None/<class 'str'>) e: could not convert string to float: '4 None'\n",
      "[WARN] unable to get value: sheet_name: MRIInjurySeverity value: 4 None value_float: 4 None value_int: 4 None\n",
      "[WARN] unable to float: val (4 None/<class 'str'>) e: could not convert string to float: '4 None'\n",
      "[WARN] unable to get value: sheet_name: MRIInjurySeverity value: 4 None value_float: 4 None value_int: 4 None\n",
      "[WARN] unable to float: val (4 None/<class 'str'>) e: could not convert string to float: '4 None'\n",
      "[WARN] unable to get value: sheet_name: MRIInjurySeverity value: 4 None value_float: 4 None value_int: 4 None\n",
      "[WARN] unable to float: val (4 None/<class 'str'>) e: could not convert string to float: '4 None'\n",
      "[WARN] unable to get value: sheet_name: MRIInjurySeverity value: 4 None value_float: 4 None value_int: 4 None\n",
      "[WARN] unable to float: val (4 None/<class 'str'>) e: could not convert string to float: '4 None'\n",
      "[WARN] unable to get value: sheet_name: MRIInjurySeverity value: 4 None value_float: 4 None value_int: 4 None\n",
      "[WARN] unable to float: val (4 None/<class 'str'>) e: could not convert string to float: '4 None'\n",
      "[WARN] unable to get value: sheet_name: MRIInjurySeverity value: 4 None value_float: 4 None value_int: 4 None\n",
      "[WARN] unable to float: val (1 Mild/<class 'str'>) e: could not convert string to float: '1 Mild'\n",
      "[WARN] unable to get value: sheet_name: MRIInjurySeverity value: 1 Mild value_float: 1 Mild value_int: 1 Mild\n",
      "[WARN] unable to float: val (4 None/<class 'str'>) e: could not convert string to float: '4 None'\n",
      "[WARN] unable to get value: sheet_name: MRIInjurySeverity value: 4 None value_float: 4 None value_int: 4 None\n",
      "[WARN] unable to float: val (4 None/<class 'str'>) e: could not convert string to float: '4 None'\n",
      "[WARN] unable to get value: sheet_name: MRIInjurySeverity value: 4 None value_float: 4 None value_int: 4 None\n",
      "[WARN] unable to float: val (4 None/<class 'str'>) e: could not convert string to float: '4 None'\n",
      "[WARN] unable to get value: sheet_name: MRIInjurySeverity value: 4 None value_float: 4 None value_int: 4 None\n",
      "[WARN] unable to float: val (1 Mild/<class 'str'>) e: could not convert string to float: '1 Mild'\n",
      "[WARN] unable to get value: sheet_name: MRIInjurySeverity value: 1 Mild value_float: 1 Mild value_int: 1 Mild\n",
      "[WARN] unable to float: val (4 None/<class 'str'>) e: could not convert string to float: '4 None'\n",
      "[WARN] unable to get value: sheet_name: MRIInjurySeverity value: 4 None value_float: 4 None value_int: 4 None\n",
      "[WARN] unable to float: val (4 None/<class 'str'>) e: could not convert string to float: '4 None'\n",
      "[WARN] unable to get value: sheet_name: MRIInjurySeverity value: 4 None value_float: 4 None value_int: 4 None\n",
      "[WARN] unable to float: val (4 None/<class 'str'>) e: could not convert string to float: '4 None'\n",
      "[WARN] unable to get value: sheet_name: MRIInjurySeverity value: 4 None value_float: 4 None value_int: 4 None\n",
      "[WARN] unable to get value: sheet_name: MRIInjurySeverity value: - value_float:  value_int: \n",
      "[WARN] unable to get value: sheet_name: MRIInjurySeverity value: - value_float:  value_int: \n",
      "[WARN] unable to float: val (4 None/<class 'str'>) e: could not convert string to float: '4 None'\n",
      "[WARN] unable to get value: sheet_name: MRIInjurySeverity value: 4 None value_float: 4 None value_int: 4 None\n",
      "[WARN] unable to float: val (4 None/<class 'str'>) e: could not convert string to float: '4 None'\n",
      "[WARN] unable to get value: sheet_name: MRIInjurySeverity value: 4 None value_float: 4 None value_int: 4 None\n",
      "[WARN] unable to float: val (4 None/<class 'str'>) e: could not convert string to float: '4 None'\n",
      "[WARN] unable to get value: sheet_name: MRIInjurySeverity value: 4 None value_float: 4 None value_int: 4 None\n",
      "[WARN] unable to get value: sheet_name: MRIInjurySeverity value: - value_float:  value_int: \n",
      "[WARN] unable to get value: sheet_name: MRIInjurySeverity value: - value_float:  value_int: \n",
      "[WARN] unable to get value: sheet_name: MRIInjurySeverity value: - value_float:  value_int: \n",
      "[WARN] unable to float: val (4 None/<class 'str'>) e: could not convert string to float: '4 None'\n",
      "[WARN] unable to get value: sheet_name: MRIInjurySeverity value: 4 None value_float: 4 None value_int: 4 None\n",
      "[WARN] unable to float: val (4 None/<class 'str'>) e: could not convert string to float: '4 None'\n",
      "[WARN] unable to get value: sheet_name: MRIInjurySeverity value: 4 None value_float: 4 None value_int: 4 None\n",
      "[WARN] unable to float: val (4 None/<class 'str'>) e: could not convert string to float: '4 None'\n",
      "[WARN] unable to get value: sheet_name: MRIInjurySeverity value: 4 None value_float: 4 None value_int: 4 None\n",
      "[WARN] unable to float: val (4 None/<class 'str'>) e: could not convert string to float: '4 None'\n",
      "[WARN] unable to get value: sheet_name: MRIInjurySeverity value: 4 None value_float: 4 None value_int: 4 None\n",
      "[WARN] unable to float: val (4 None/<class 'str'>) e: could not convert string to float: '4 None'\n",
      "[WARN] unable to get value: sheet_name: MRIInjurySeverity value: 4 None value_float: 4 None value_int: 4 None\n",
      "[WARN] unable to float: val (4 None/<class 'str'>) e: could not convert string to float: '4 None'\n",
      "[WARN] unable to get value: sheet_name: MRIInjurySeverity value: 4 None value_float: 4 None value_int: 4 None\n",
      "[WARN] unable to float: val (4 None/<class 'str'>) e: could not convert string to float: '4 None'\n",
      "[WARN] unable to get value: sheet_name: MRIInjurySeverity value: 4 None value_float: 4 None value_int: 4 None\n",
      "[WARN] unable to get value: sheet_name: MRIInjurySeverity value: - value_float:  value_int: \n",
      "[WARN] unable to float: val (1 Mild/<class 'str'>) e: could not convert string to float: '1 Mild'\n",
      "[WARN] unable to get value: sheet_name: MRIInjurySeverity value: 1 Mild value_float: 1 Mild value_int: 1 Mild\n",
      "[WARN] unable to get value: sheet_name: MRIInjurySeverity value: - value_float:  value_int: \n",
      "[WARN] unable to float: val (1 Mild/<class 'str'>) e: could not convert string to float: '1 Mild'\n",
      "[WARN] unable to get value: sheet_name: MRIInjurySeverity value: 1 Mild value_float: 1 Mild value_int: 1 Mild\n",
      "[WARN] unable to float: val (1 Mild/<class 'str'>) e: could not convert string to float: '1 Mild'\n",
      "[WARN] unable to get value: sheet_name: MRIInjurySeverity value: 1 Mild value_float: 1 Mild value_int: 1 Mild\n",
      "[WARN] unable to float: val (1 Mild/<class 'str'>) e: could not convert string to float: '1 Mild'\n",
      "[WARN] unable to get value: sheet_name: MRIInjurySeverity value: 1 Mild value_float: 1 Mild value_int: 1 Mild\n",
      "[WARN] unable to get value: sheet_name: MRIInjurySeverity value: - value_float:  value_int: \n",
      "[WARN] unable to float: val (4 None/<class 'str'>) e: could not convert string to float: '4 None'\n",
      "[WARN] unable to get value: sheet_name: MRIInjurySeverity value: 4 None value_float: 4 None value_int: 4 None\n",
      "[WARN] unable to float: val (4 None/<class 'str'>) e: could not convert string to float: '4 None'\n",
      "[WARN] unable to get value: sheet_name: MRIInjurySeverity value: 4 None value_float: 4 None value_int: 4 None\n",
      "[WARN] unable to float: val (4 None/<class 'str'>) e: could not convert string to float: '4 None'\n",
      "[WARN] unable to get value: sheet_name: MRIInjurySeverity value: 4 None value_float: 4 None value_int: 4 None\n",
      "[WARN] unable to float: val (4 None/<class 'str'>) e: could not convert string to float: '4 None'\n",
      "[WARN] unable to get value: sheet_name: MRIInjurySeverity value: 4 None value_float: 4 None value_int: 4 None\n",
      "[WARN] unable to float: val (4 None/<class 'str'>) e: could not convert string to float: '4 None'\n",
      "[WARN] unable to get value: sheet_name: MRIInjurySeverity value: 4 None value_float: 4 None value_int: 4 None\n",
      "[WARN] unable to float: val (4 None/<class 'str'>) e: could not convert string to float: '4 None'\n",
      "[WARN] unable to get value: sheet_name: MRIInjurySeverity value: 4 None value_float: 4 None value_int: 4 None\n",
      "[WARN] unable to float: val (4 None/<class 'str'>) e: could not convert string to float: '4 None'\n",
      "[WARN] unable to get value: sheet_name: MRIInjurySeverity value: 4 None value_float: 4 None value_int: 4 None\n",
      "[WARN] unable to float: val (4 None/<class 'str'>) e: could not convert string to float: '4 None'\n",
      "[WARN] unable to get value: sheet_name: MRIInjurySeverity value: 4 None value_float: 4 None value_int: 4 None\n",
      "[WARN] unable to get value: sheet_name: MRIInjurySeverity value: - value_float:  value_int: \n",
      "[WARN] unable to get value: sheet_name: MRIInjurySeverity value: - value_float:  value_int: \n",
      "[WARN] unable to get value: sheet_name: MRIInjurySeverity value: - value_float:  value_int: \n",
      "[WARN] unable to float: val (4 None/<class 'str'>) e: could not convert string to float: '4 None'\n",
      "[WARN] unable to get value: sheet_name: MRIInjurySeverity value: 4 None value_float: 4 None value_int: 4 None\n",
      "[WARN] unable to float: val (1 Mild/<class 'str'>) e: could not convert string to float: '1 Mild'\n",
      "[WARN] unable to get value: sheet_name: MRIInjurySeverity value: 1 Mild value_float: 1 Mild value_int: 1 Mild\n",
      "[WARN] unable to get value: sheet_name: MRIInjurySeverity value: - value_float:  value_int: \n",
      "[WARN] unable to get value: sheet_name: MRIInjurySeverity value: - value_float:  value_int: \n",
      "[WARN] unable to get value: sheet_name: MRIInjurySeverity value: - value_float:  value_int: \n",
      "[WARN] unable to get value: sheet_name: MRIInjurySeverity value: - value_float:  value_int: \n",
      "[WARN] unable to float: val (4 None/<class 'str'>) e: could not convert string to float: '4 None'\n",
      "[WARN] unable to get value: sheet_name: MRIInjurySeverity value: 4 None value_float: 4 None value_int: 4 None\n",
      "[WARN] unable to float: val (1 Mild/<class 'str'>) e: could not convert string to float: '1 Mild'\n",
      "[WARN] unable to get value: sheet_name: MRIInjurySeverity value: 1 Mild value_float: 1 Mild value_int: 1 Mild\n",
      "[WARN] unable to float: val (1 Mild/<class 'str'>) e: could not convert string to float: '1 Mild'\n",
      "[WARN] unable to get value: sheet_name: MRIInjurySeverity value: 1 Mild value_float: 1 Mild value_int: 1 Mild\n",
      "[WARN] unable to float: val (1 Mild/<class 'str'>) e: could not convert string to float: '1 Mild'\n",
      "[WARN] unable to get value: sheet_name: MRIInjurySeverity value: 1 Mild value_float: 1 Mild value_int: 1 Mild\n",
      "[WARN] unable to get value: sheet_name: MRIInjurySeverity value: - value_float:  value_int: \n",
      "[WARN] unable to get value: sheet_name: MRIInjurySeverity value: - value_float:  value_int: \n",
      "[WARN] unable to get value: sheet_name: MRIInjurySeverity value: - value_float:  value_int: \n",
      "[WARN] unable to get value: sheet_name: MRIInjurySeverity value: - value_float:  value_int: \n",
      "(67/77) normalize_value: column: MRIWhiteMatterInjury_c\n",
      "(68/77) normalize_value: column: MRIComment\n",
      "(69/77) normalize_value: column: MRINRNPatternOfInjury\n",
      "[WARN] unable to get value: sheet_name: MRINRNPatternOfInjury value: - value_float:  value_int: \n",
      "[WARN] unable to get value: sheet_name: MRINRNPatternOfInjury value: - value_float:  value_int: \n",
      "[WARN] unable to get value: sheet_name: MRINRNPatternOfInjury value: - value_float:  value_int: \n",
      "[WARN] unable to get value: sheet_name: MRINRNPatternOfInjury value: - value_float:  value_int: \n",
      "(70/77) normalize_value: column: MRINRNPatternOfInjury_c\n",
      "(71/77) normalize_value: column: MRINRNPatternOfInjuryExtent\n",
      "[WARN] unable to get value: sheet_name: MRINRNPatternOfInjuryExtent value: - value_float:  value_int: \n",
      "[WARN] unable to get value: sheet_name: MRINRNPatternOfInjuryExtent value: - value_float:  value_int: \n",
      "[WARN] unable to get value: sheet_name: MRINRNPatternOfInjuryExtent value: - value_float:  value_int: \n",
      "[WARN] unable to get value: sheet_name: MRINRNPatternOfInjuryExtent value: - value_float:  value_int: \n",
      "[WARN] unable to get value: sheet_name: MRINRNPatternOfInjuryExtent value: - value_float:  value_int: \n",
      "[WARN] unable to get value: sheet_name: MRINRNPatternOfInjuryExtent value: - value_float:  value_int: \n",
      "[WARN] unable to get value: sheet_name: MRINRNPatternOfInjuryExtent value: - value_float:  value_int: \n",
      "[WARN] unable to get value: sheet_name: MRINRNPatternOfInjuryExtent value: - value_float:  value_int: \n",
      "[WARN] unable to get value: sheet_name: MRINRNPatternOfInjuryExtent value: - value_float:  value_int: \n",
      "[WARN] unable to get value: sheet_name: MRINRNPatternOfInjuryExtent value: - value_float:  value_int: \n",
      "[WARN] unable to get value: sheet_name: MRINRNPatternOfInjuryExtent value: - value_float:  value_int: \n",
      "[WARN] unable to get value: sheet_name: MRINRNPatternOfInjuryExtent value: - value_float:  value_int: \n",
      "[WARN] unable to get value: sheet_name: MRINRNPatternOfInjuryExtent value: - value_float:  value_int: \n",
      "[WARN] unable to get value: sheet_name: MRINRNPatternOfInjuryExtent value: - value_float:  value_int: \n",
      "[WARN] unable to get value: sheet_name: MRINRNPatternOfInjuryExtent value: - value_float:  value_int: \n",
      "[WARN] unable to get value: sheet_name: MRINRNPatternOfInjuryExtent value: - value_float:  value_int: \n",
      "[WARN] unable to get value: sheet_name: MRINRNPatternOfInjuryExtent value: - value_float:  value_int: \n",
      "[WARN] unable to get value: sheet_name: MRINRNPatternOfInjuryExtent value: - value_float:  value_int: \n",
      "[WARN] unable to get value: sheet_name: MRINRNPatternOfInjuryExtent value: - value_float:  value_int: \n",
      "[WARN] unable to get value: sheet_name: MRINRNPatternOfInjuryExtent value: - value_float:  value_int: \n",
      "[WARN] unable to get value: sheet_name: MRINRNPatternOfInjuryExtent value: - value_float:  value_int: \n",
      "[WARN] unable to get value: sheet_name: MRINRNPatternOfInjuryExtent value: - value_float:  value_int: \n",
      "[WARN] unable to get value: sheet_name: MRINRNPatternOfInjuryExtent value: - value_float:  value_int: \n",
      "[WARN] unable to get value: sheet_name: MRINRNPatternOfInjuryExtent value: - value_float:  value_int: \n",
      "[WARN] unable to get value: sheet_name: MRINRNPatternOfInjuryExtent value: - value_float:  value_int: \n",
      "[WARN] unable to get value: sheet_name: MRINRNPatternOfInjuryExtent value: - value_float:  value_int: \n",
      "[WARN] unable to get value: sheet_name: MRINRNPatternOfInjuryExtent value: - value_float:  value_int: \n",
      "[WARN] unable to get value: sheet_name: MRINRNPatternOfInjuryExtent value: - value_float:  value_int: \n",
      "[WARN] unable to get value: sheet_name: MRINRNPatternOfInjuryExtent value: - value_float:  value_int: \n",
      "[WARN] unable to get value: sheet_name: MRINRNPatternOfInjuryExtent value: - value_float:  value_int: \n",
      "[WARN] unable to get value: sheet_name: MRINRNPatternOfInjuryExtent value: - value_float:  value_int: \n",
      "[WARN] unable to get value: sheet_name: MRINRNPatternOfInjuryExtent value: - value_float:  value_int: \n",
      "[WARN] unable to get value: sheet_name: MRINRNPatternOfInjuryExtent value: - value_float:  value_int: \n",
      "[WARN] unable to get value: sheet_name: MRINRNPatternOfInjuryExtent value: - value_float:  value_int: \n",
      "[WARN] unable to get value: sheet_name: MRINRNPatternOfInjuryExtent value: - value_float:  value_int: \n",
      "[WARN] unable to get value: sheet_name: MRINRNPatternOfInjuryExtent value: - value_float:  value_int: \n",
      "[WARN] unable to get value: sheet_name: MRINRNPatternOfInjuryExtent value: - value_float:  value_int: \n",
      "[WARN] unable to get value: sheet_name: MRINRNPatternOfInjuryExtent value: - value_float:  value_int: \n",
      "[WARN] unable to get value: sheet_name: MRINRNPatternOfInjuryExtent value: - value_float:  value_int: \n",
      "[WARN] unable to get value: sheet_name: MRINRNPatternOfInjuryExtent value: - value_float:  value_int: \n",
      "[WARN] unable to get value: sheet_name: MRINRNPatternOfInjuryExtent value: - value_float:  value_int: \n",
      "[WARN] unable to get value: sheet_name: MRINRNPatternOfInjuryExtent value: - value_float:  value_int: \n",
      "[WARN] unable to get value: sheet_name: MRINRNPatternOfInjuryExtent value: - value_float:  value_int: \n",
      "[WARN] unable to get value: sheet_name: MRINRNPatternOfInjuryExtent value: - value_float:  value_int: \n",
      "[WARN] unable to get value: sheet_name: MRINRNPatternOfInjuryExtent value: - value_float:  value_int: \n",
      "[WARN] unable to get value: sheet_name: MRINRNPatternOfInjuryExtent value: - value_float:  value_int: \n",
      "[WARN] unable to get value: sheet_name: MRINRNPatternOfInjuryExtent value: - value_float:  value_int: \n",
      "[WARN] unable to get value: sheet_name: MRINRNPatternOfInjuryExtent value: - value_float:  value_int: \n",
      "[WARN] unable to get value: sheet_name: MRINRNPatternOfInjuryExtent value: - value_float:  value_int: \n",
      "[WARN] unable to get value: sheet_name: MRINRNPatternOfInjuryExtent value: - value_float:  value_int: \n",
      "[WARN] unable to get value: sheet_name: MRINRNPatternOfInjuryExtent value: - value_float:  value_int: \n",
      "[WARN] unable to get value: sheet_name: MRINRNPatternOfInjuryExtent value: - value_float:  value_int: \n",
      "[WARN] unable to get value: sheet_name: MRINRNPatternOfInjuryExtent value: - value_float:  value_int: \n",
      "[WARN] unable to get value: sheet_name: MRINRNPatternOfInjuryExtent value: - value_float:  value_int: \n",
      "[WARN] unable to get value: sheet_name: MRINRNPatternOfInjuryExtent value: - value_float:  value_int: \n",
      "[WARN] unable to get value: sheet_name: MRINRNPatternOfInjuryExtent value: - value_float:  value_int: \n",
      "[WARN] unable to get value: sheet_name: MRINRNPatternOfInjuryExtent value: - value_float:  value_int: \n",
      "[WARN] unable to get value: sheet_name: MRINRNPatternOfInjuryExtent value: - value_float:  value_int: \n",
      "[WARN] unable to get value: sheet_name: MRINRNPatternOfInjuryExtent value: - value_float:  value_int: \n",
      "[WARN] unable to get value: sheet_name: MRINRNPatternOfInjuryExtent value: - value_float:  value_int: \n",
      "[WARN] unable to get value: sheet_name: MRINRNPatternOfInjuryExtent value: - value_float:  value_int: \n",
      "[WARN] unable to get value: sheet_name: MRINRNPatternOfInjuryExtent value: - value_float:  value_int: \n",
      "[WARN] unable to get value: sheet_name: MRINRNPatternOfInjuryExtent value: - value_float:  value_int: \n",
      "[WARN] unable to get value: sheet_name: MRINRNPatternOfInjuryExtent value: - value_float:  value_int: \n",
      "[WARN] unable to get value: sheet_name: MRINRNPatternOfInjuryExtent value: - value_float:  value_int: \n",
      "[WARN] unable to get value: sheet_name: MRINRNPatternOfInjuryExtent value: - value_float:  value_int: \n",
      "[WARN] unable to get value: sheet_name: MRINRNPatternOfInjuryExtent value: - value_float:  value_int: \n",
      "[WARN] unable to get value: sheet_name: MRINRNPatternOfInjuryExtent value: - value_float:  value_int: \n",
      "[WARN] unable to get value: sheet_name: MRINRNPatternOfInjuryExtent value: - value_float:  value_int: \n",
      "[WARN] unable to get value: sheet_name: MRINRNPatternOfInjuryExtent value: - value_float:  value_int: \n",
      "[WARN] unable to get value: sheet_name: MRINRNPatternOfInjuryExtent value: - value_float:  value_int: \n",
      "[WARN] unable to get value: sheet_name: MRINRNPatternOfInjuryExtent value: - value_float:  value_int: \n",
      "[WARN] unable to get value: sheet_name: MRINRNPatternOfInjuryExtent value: - value_float:  value_int: \n",
      "[WARN] unable to get value: sheet_name: MRINRNPatternOfInjuryExtent value: - value_float:  value_int: \n",
      "[WARN] unable to get value: sheet_name: MRINRNPatternOfInjuryExtent value: - value_float:  value_int: \n",
      "[WARN] unable to get value: sheet_name: MRINRNPatternOfInjuryExtent value: - value_float:  value_int: \n",
      "[WARN] unable to get value: sheet_name: MRINRNPatternOfInjuryExtent value: - value_float:  value_int: \n",
      "[WARN] unable to get value: sheet_name: MRINRNPatternOfInjuryExtent value: - value_float:  value_int: \n",
      "[WARN] unable to get value: sheet_name: MRINRNPatternOfInjuryExtent value: - value_float:  value_int: \n",
      "[WARN] unable to get value: sheet_name: MRINRNPatternOfInjuryExtent value: - value_float:  value_int: \n",
      "[WARN] unable to get value: sheet_name: MRINRNPatternOfInjuryExtent value: - value_float:  value_int: \n",
      "[WARN] unable to get value: sheet_name: MRINRNPatternOfInjuryExtent value: - value_float:  value_int: \n",
      "[WARN] unable to get value: sheet_name: MRINRNPatternOfInjuryExtent value: - value_float:  value_int: \n",
      "[WARN] unable to get value: sheet_name: MRINRNPatternOfInjuryExtent value: - value_float:  value_int: \n",
      "[WARN] unable to get value: sheet_name: MRINRNPatternOfInjuryExtent value: - value_float:  value_int: \n",
      "[WARN] unable to get value: sheet_name: MRINRNPatternOfInjuryExtent value: - value_float:  value_int: \n",
      "[WARN] unable to get value: sheet_name: MRINRNPatternOfInjuryExtent value: - value_float:  value_int: \n",
      "[WARN] unable to get value: sheet_name: MRINRNPatternOfInjuryExtent value: - value_float:  value_int: \n",
      "[WARN] unable to get value: sheet_name: MRINRNPatternOfInjuryExtent value: - value_float:  value_int: \n",
      "[WARN] unable to get value: sheet_name: MRINRNPatternOfInjuryExtent value: - value_float:  value_int: \n",
      "[WARN] unable to get value: sheet_name: MRINRNPatternOfInjuryExtent value: - value_float:  value_int: \n",
      "[WARN] unable to get value: sheet_name: MRINRNPatternOfInjuryExtent value: - value_float:  value_int: \n",
      "[WARN] unable to get value: sheet_name: MRINRNPatternOfInjuryExtent value: - value_float:  value_int: \n",
      "[WARN] unable to get value: sheet_name: MRINRNPatternOfInjuryExtent value: - value_float:  value_int: \n",
      "[WARN] unable to get value: sheet_name: MRINRNPatternOfInjuryExtent value: - value_float:  value_int: \n",
      "[WARN] unable to get value: sheet_name: MRINRNPatternOfInjuryExtent value: - value_float:  value_int: \n",
      "[WARN] unable to get value: sheet_name: MRINRNPatternOfInjuryExtent value: - value_float:  value_int: \n",
      "[WARN] unable to get value: sheet_name: MRINRNPatternOfInjuryExtent value: - value_float:  value_int: \n",
      "[WARN] unable to get value: sheet_name: MRINRNPatternOfInjuryExtent value: - value_float:  value_int: \n",
      "[WARN] unable to get value: sheet_name: MRINRNPatternOfInjuryExtent value: - value_float:  value_int: \n",
      "[WARN] unable to get value: sheet_name: MRINRNPatternOfInjuryExtent value: - value_float:  value_int: \n",
      "[WARN] unable to get value: sheet_name: MRINRNPatternOfInjuryExtent value: - value_float:  value_int: \n",
      "[WARN] unable to get value: sheet_name: MRINRNPatternOfInjuryExtent value: - value_float:  value_int: \n",
      "[WARN] unable to get value: sheet_name: MRINRNPatternOfInjuryExtent value: - value_float:  value_int: \n",
      "[WARN] unable to get value: sheet_name: MRINRNPatternOfInjuryExtent value: - value_float:  value_int: \n",
      "[WARN] unable to get value: sheet_name: MRINRNPatternOfInjuryExtent value: - value_float:  value_int: \n",
      "[WARN] unable to get value: sheet_name: MRINRNPatternOfInjuryExtent value: - value_float:  value_int: \n",
      "[WARN] unable to get value: sheet_name: MRINRNPatternOfInjuryExtent value: - value_float:  value_int: \n",
      "[WARN] unable to get value: sheet_name: MRINRNPatternOfInjuryExtent value: - value_float:  value_int: \n",
      "[WARN] unable to get value: sheet_name: MRINRNPatternOfInjuryExtent value: - value_float:  value_int: \n",
      "[WARN] unable to get value: sheet_name: MRINRNPatternOfInjuryExtent value: - value_float:  value_int: \n",
      "[WARN] unable to get value: sheet_name: MRINRNPatternOfInjuryExtent value: - value_float:  value_int: \n",
      "[WARN] unable to get value: sheet_name: MRINRNPatternOfInjuryExtent value: - value_float:  value_int: \n",
      "[WARN] unable to get value: sheet_name: MRINRNPatternOfInjuryExtent value: - value_float:  value_int: \n",
      "[WARN] unable to get value: sheet_name: MRINRNPatternOfInjuryExtent value: - value_float:  value_int: \n",
      "[WARN] unable to get value: sheet_name: MRINRNPatternOfInjuryExtent value: - value_float:  value_int: \n",
      "[WARN] unable to get value: sheet_name: MRINRNPatternOfInjuryExtent value: - value_float:  value_int: \n",
      "[WARN] unable to get value: sheet_name: MRINRNPatternOfInjuryExtent value: - value_float:  value_int: \n",
      "[WARN] unable to get value: sheet_name: MRINRNPatternOfInjuryExtent value: - value_float:  value_int: \n",
      "[WARN] unable to get value: sheet_name: MRINRNPatternOfInjuryExtent value: - value_float:  value_int: \n",
      "[WARN] unable to get value: sheet_name: MRINRNPatternOfInjuryExtent value: - value_float:  value_int: \n",
      "[WARN] unable to get value: sheet_name: MRINRNPatternOfInjuryExtent value: - value_float:  value_int: \n",
      "[WARN] unable to get value: sheet_name: MRINRNPatternOfInjuryExtent value: - value_float:  value_int: \n",
      "[WARN] unable to get value: sheet_name: MRINRNPatternOfInjuryExtent value: - value_float:  value_int: \n",
      "[WARN] unable to get value: sheet_name: MRINRNPatternOfInjuryExtent value: - value_float:  value_int: \n",
      "[WARN] unable to get value: sheet_name: MRINRNPatternOfInjuryExtent value: - value_float:  value_int: \n",
      "[WARN] unable to get value: sheet_name: MRINRNPatternOfInjuryExtent value: - value_float:  value_int: \n",
      "[WARN] unable to get value: sheet_name: MRINRNPatternOfInjuryExtent value: - value_float:  value_int: \n",
      "[WARN] unable to get value: sheet_name: MRINRNPatternOfInjuryExtent value: - value_float:  value_int: \n",
      "[WARN] unable to get value: sheet_name: MRINRNPatternOfInjuryExtent value: - value_float:  value_int: \n",
      "[WARN] unable to get value: sheet_name: MRINRNPatternOfInjuryExtent value: - value_float:  value_int: \n",
      "[WARN] unable to get value: sheet_name: MRINRNPatternOfInjuryExtent value: - value_float:  value_int: \n",
      "[WARN] unable to get value: sheet_name: MRINRNPatternOfInjuryExtent value: - value_float:  value_int: \n",
      "[WARN] unable to get value: sheet_name: MRINRNPatternOfInjuryExtent value: - value_float:  value_int: \n",
      "[WARN] unable to get value: sheet_name: MRINRNPatternOfInjuryExtent value: - value_float:  value_int: \n",
      "[WARN] unable to get value: sheet_name: MRINRNPatternOfInjuryExtent value: - value_float:  value_int: \n",
      "[WARN] unable to get value: sheet_name: MRINRNPatternOfInjuryExtent value: - value_float:  value_int: \n",
      "[WARN] unable to get value: sheet_name: MRINRNPatternOfInjuryExtent value: - value_float:  value_int: \n",
      "[WARN] unable to get value: sheet_name: MRINRNPatternOfInjuryExtent value: - value_float:  value_int: \n",
      "[WARN] unable to get value: sheet_name: MRINRNPatternOfInjuryExtent value: - value_float:  value_int: \n",
      "[WARN] unable to get value: sheet_name: MRINRNPatternOfInjuryExtent value: - value_float:  value_int: \n",
      "[WARN] unable to get value: sheet_name: MRINRNPatternOfInjuryExtent value: - value_float:  value_int: \n",
      "[WARN] unable to get value: sheet_name: MRINRNPatternOfInjuryExtent value: - value_float:  value_int: \n",
      "[WARN] unable to get value: sheet_name: MRINRNPatternOfInjuryExtent value: - value_float:  value_int: \n",
      "[WARN] unable to get value: sheet_name: MRINRNPatternOfInjuryExtent value: - value_float:  value_int: \n",
      "[WARN] unable to get value: sheet_name: MRINRNPatternOfInjuryExtent value: - value_float:  value_int: \n",
      "[WARN] unable to get value: sheet_name: MRINRNPatternOfInjuryExtent value: - value_float:  value_int: \n",
      "[WARN] unable to get value: sheet_name: MRINRNPatternOfInjuryExtent value: - value_float:  value_int: \n",
      "[WARN] unable to get value: sheet_name: MRINRNPatternOfInjuryExtent value: - value_float:  value_int: \n",
      "[WARN] unable to get value: sheet_name: MRINRNPatternOfInjuryExtent value: - value_float:  value_int: \n",
      "[WARN] unable to get value: sheet_name: MRINRNPatternOfInjuryExtent value: - value_float:  value_int: \n",
      "[WARN] unable to get value: sheet_name: MRINRNPatternOfInjuryExtent value: - value_float:  value_int: \n",
      "[WARN] unable to get value: sheet_name: MRINRNPatternOfInjuryExtent value: - value_float:  value_int: \n",
      "[WARN] unable to get value: sheet_name: MRINRNPatternOfInjuryExtent value: - value_float:  value_int: \n",
      "[WARN] unable to get value: sheet_name: MRINRNPatternOfInjuryExtent value: - value_float:  value_int: \n",
      "[WARN] unable to get value: sheet_name: MRINRNPatternOfInjuryExtent value: - value_float:  value_int: \n",
      "[WARN] unable to get value: sheet_name: MRINRNPatternOfInjuryExtent value: - value_float:  value_int: \n",
      "[WARN] unable to get value: sheet_name: MRINRNPatternOfInjuryExtent value: - value_float:  value_int: \n",
      "[WARN] unable to get value: sheet_name: MRINRNPatternOfInjuryExtent value: - value_float:  value_int: \n",
      "[WARN] unable to get value: sheet_name: MRINRNPatternOfInjuryExtent value: - value_float:  value_int: \n",
      "[WARN] unable to get value: sheet_name: MRINRNPatternOfInjuryExtent value: - value_float:  value_int: \n",
      "[WARN] unable to get value: sheet_name: MRINRNPatternOfInjuryExtent value: - value_float:  value_int: \n",
      "[WARN] unable to get value: sheet_name: MRINRNPatternOfInjuryExtent value: - value_float:  value_int: \n",
      "[WARN] unable to get value: sheet_name: MRINRNPatternOfInjuryExtent value: - value_float:  value_int: \n",
      "[WARN] unable to get value: sheet_name: MRINRNPatternOfInjuryExtent value: - value_float:  value_int: \n",
      "[WARN] unable to get value: sheet_name: MRINRNPatternOfInjuryExtent value: - value_float:  value_int: \n",
      "[WARN] unable to get value: sheet_name: MRINRNPatternOfInjuryExtent value: - value_float:  value_int: \n",
      "[WARN] unable to get value: sheet_name: MRINRNPatternOfInjuryExtent value: - value_float:  value_int: \n",
      "[WARN] unable to get value: sheet_name: MRINRNPatternOfInjuryExtent value: - value_float:  value_int: \n",
      "[WARN] unable to get value: sheet_name: MRINRNPatternOfInjuryExtent value: - value_float:  value_int: \n",
      "[WARN] unable to get value: sheet_name: MRINRNPatternOfInjuryExtent value: - value_float:  value_int: \n",
      "[WARN] unable to get value: sheet_name: MRINRNPatternOfInjuryExtent value: - value_float:  value_int: \n",
      "[WARN] unable to get value: sheet_name: MRINRNPatternOfInjuryExtent value: - value_float:  value_int: \n",
      "[WARN] unable to get value: sheet_name: MRINRNPatternOfInjuryExtent value: - value_float:  value_int: \n",
      "[WARN] unable to get value: sheet_name: MRINRNPatternOfInjuryExtent value: - value_float:  value_int: \n",
      "[WARN] unable to get value: sheet_name: MRINRNPatternOfInjuryExtent value: - value_float:  value_int: \n",
      "[WARN] unable to get value: sheet_name: MRINRNPatternOfInjuryExtent value: - value_float:  value_int: \n",
      "[WARN] unable to get value: sheet_name: MRINRNPatternOfInjuryExtent value: - value_float:  value_int: \n",
      "[WARN] unable to get value: sheet_name: MRINRNPatternOfInjuryExtent value: - value_float:  value_int: \n",
      "[WARN] unable to get value: sheet_name: MRINRNPatternOfInjuryExtent value: - value_float:  value_int: \n",
      "[WARN] unable to get value: sheet_name: MRINRNPatternOfInjuryExtent value: - value_float:  value_int: \n",
      "[WARN] unable to get value: sheet_name: MRINRNPatternOfInjuryExtent value: - value_float:  value_int: \n",
      "[WARN] unable to get value: sheet_name: MRINRNPatternOfInjuryExtent value: - value_float:  value_int: \n",
      "[WARN] unable to get value: sheet_name: MRINRNPatternOfInjuryExtent value: - value_float:  value_int: \n",
      "[WARN] unable to get value: sheet_name: MRINRNPatternOfInjuryExtent value: - value_float:  value_int: \n",
      "[WARN] unable to get value: sheet_name: MRINRNPatternOfInjuryExtent value: - value_float:  value_int: \n",
      "[WARN] unable to get value: sheet_name: MRINRNPatternOfInjuryExtent value: - value_float:  value_int: \n",
      "[WARN] unable to get value: sheet_name: MRINRNPatternOfInjuryExtent value: - value_float:  value_int: \n",
      "[WARN] unable to get value: sheet_name: MRINRNPatternOfInjuryExtent value: - value_float:  value_int: \n",
      "[WARN] unable to get value: sheet_name: MRINRNPatternOfInjuryExtent value: - value_float:  value_int: \n",
      "[WARN] unable to get value: sheet_name: MRINRNPatternOfInjuryExtent value: - value_float:  value_int: \n",
      "[WARN] unable to get value: sheet_name: MRINRNPatternOfInjuryExtent value: - value_float:  value_int: \n",
      "[WARN] unable to get value: sheet_name: MRINRNPatternOfInjuryExtent value: - value_float:  value_int: \n",
      "[WARN] unable to get value: sheet_name: MRINRNPatternOfInjuryExtent value: - value_float:  value_int: \n",
      "[WARN] unable to get value: sheet_name: MRINRNPatternOfInjuryExtent value: - value_float:  value_int: \n",
      "[WARN] unable to get value: sheet_name: MRINRNPatternOfInjuryExtent value: - value_float:  value_int: \n",
      "[WARN] unable to get value: sheet_name: MRINRNPatternOfInjuryExtent value: - value_float:  value_int: \n",
      "[WARN] unable to get value: sheet_name: MRINRNPatternOfInjuryExtent value: - value_float:  value_int: \n",
      "[WARN] unable to get value: sheet_name: MRINRNPatternOfInjuryExtent value: - value_float:  value_int: \n",
      "[WARN] unable to get value: sheet_name: MRINRNPatternOfInjuryExtent value: - value_float:  value_int: \n",
      "[WARN] unable to get value: sheet_name: MRINRNPatternOfInjuryExtent value: - value_float:  value_int: \n",
      "[WARN] unable to get value: sheet_name: MRINRNPatternOfInjuryExtent value: - value_float:  value_int: \n",
      "[WARN] unable to get value: sheet_name: MRINRNPatternOfInjuryExtent value: - value_float:  value_int: \n",
      "[WARN] unable to get value: sheet_name: MRINRNPatternOfInjuryExtent value: - value_float:  value_int: \n",
      "[WARN] unable to get value: sheet_name: MRINRNPatternOfInjuryExtent value: - value_float:  value_int: \n",
      "[WARN] unable to get value: sheet_name: MRINRNPatternOfInjuryExtent value: - value_float:  value_int: \n",
      "[WARN] unable to get value: sheet_name: MRINRNPatternOfInjuryExtent value: - value_float:  value_int: \n",
      "[WARN] unable to get value: sheet_name: MRINRNPatternOfInjuryExtent value: - value_float:  value_int: \n",
      "[WARN] unable to get value: sheet_name: MRINRNPatternOfInjuryExtent value: - value_float:  value_int: \n",
      "[WARN] unable to get value: sheet_name: MRINRNPatternOfInjuryExtent value: - value_float:  value_int: \n",
      "[WARN] unable to get value: sheet_name: MRINRNPatternOfInjuryExtent value: - value_float:  value_int: \n",
      "[WARN] unable to get value: sheet_name: MRINRNPatternOfInjuryExtent value: - value_float:  value_int: \n",
      "[WARN] unable to get value: sheet_name: MRINRNPatternOfInjuryExtent value: - value_float:  value_int: \n",
      "[WARN] unable to get value: sheet_name: MRINRNPatternOfInjuryExtent value: - value_float:  value_int: \n",
      "[WARN] unable to get value: sheet_name: MRINRNPatternOfInjuryExtent value: - value_float:  value_int: \n",
      "[WARN] unable to get value: sheet_name: MRINRNPatternOfInjuryExtent value: - value_float:  value_int: \n",
      "[WARN] unable to get value: sheet_name: MRINRNPatternOfInjuryExtent value: - value_float:  value_int: \n",
      "[WARN] unable to get value: sheet_name: MRINRNPatternOfInjuryExtent value: - value_float:  value_int: \n",
      "[WARN] unable to get value: sheet_name: MRINRNPatternOfInjuryExtent value: - value_float:  value_int: \n",
      "[WARN] unable to get value: sheet_name: MRINRNPatternOfInjuryExtent value: - value_float:  value_int: \n",
      "[WARN] unable to get value: sheet_name: MRINRNPatternOfInjuryExtent value: - value_float:  value_int: \n",
      "[WARN] unable to get value: sheet_name: MRINRNPatternOfInjuryExtent value: - value_float:  value_int: \n",
      "[WARN] unable to get value: sheet_name: MRINRNPatternOfInjuryExtent value: - value_float:  value_int: \n",
      "[WARN] unable to get value: sheet_name: MRINRNPatternOfInjuryExtent value: - value_float:  value_int: \n",
      "[WARN] unable to get value: sheet_name: MRINRNPatternOfInjuryExtent value: - value_float:  value_int: \n",
      "[WARN] unable to get value: sheet_name: MRINRNPatternOfInjuryExtent value: - value_float:  value_int: \n",
      "[WARN] unable to get value: sheet_name: MRINRNPatternOfInjuryExtent value: - value_float:  value_int: \n",
      "[WARN] unable to get value: sheet_name: MRINRNPatternOfInjuryExtent value: - value_float:  value_int: \n",
      "[WARN] unable to get value: sheet_name: MRINRNPatternOfInjuryExtent value: - value_float:  value_int: \n",
      "[WARN] unable to get value: sheet_name: MRINRNPatternOfInjuryExtent value: - value_float:  value_int: \n",
      "[WARN] unable to get value: sheet_name: MRINRNPatternOfInjuryExtent value: - value_float:  value_int: \n",
      "[WARN] unable to get value: sheet_name: MRINRNPatternOfInjuryExtent value: - value_float:  value_int: \n",
      "[WARN] unable to get value: sheet_name: MRINRNPatternOfInjuryExtent value: - value_float:  value_int: \n",
      "[WARN] unable to get value: sheet_name: MRINRNPatternOfInjuryExtent value: - value_float:  value_int: \n",
      "[WARN] unable to get value: sheet_name: MRINRNPatternOfInjuryExtent value: - value_float:  value_int: \n",
      "[WARN] unable to get value: sheet_name: MRINRNPatternOfInjuryExtent value: - value_float:  value_int: \n",
      "[WARN] unable to get value: sheet_name: MRINRNPatternOfInjuryExtent value: - value_float:  value_int: \n",
      "[WARN] unable to get value: sheet_name: MRINRNPatternOfInjuryExtent value: - value_float:  value_int: \n",
      "[WARN] unable to get value: sheet_name: MRINRNPatternOfInjuryExtent value: - value_float:  value_int: \n",
      "[WARN] unable to get value: sheet_name: MRINRNPatternOfInjuryExtent value: - value_float:  value_int: \n",
      "[WARN] unable to get value: sheet_name: MRINRNPatternOfInjuryExtent value: - value_float:  value_int: \n",
      "[WARN] unable to get value: sheet_name: MRINRNPatternOfInjuryExtent value: - value_float:  value_int: \n",
      "[WARN] unable to get value: sheet_name: MRINRNPatternOfInjuryExtent value: - value_float:  value_int: \n",
      "[WARN] unable to get value: sheet_name: MRINRNPatternOfInjuryExtent value: - value_float:  value_int: \n",
      "[WARN] unable to get value: sheet_name: MRINRNPatternOfInjuryExtent value: - value_float:  value_int: \n",
      "[WARN] unable to get value: sheet_name: MRINRNPatternOfInjuryExtent value: - value_float:  value_int: \n",
      "[WARN] unable to get value: sheet_name: MRINRNPatternOfInjuryExtent value: - value_float:  value_int: \n",
      "[WARN] unable to get value: sheet_name: MRINRNPatternOfInjuryExtent value: - value_float:  value_int: \n",
      "[WARN] unable to get value: sheet_name: MRINRNPatternOfInjuryExtent value: - value_float:  value_int: \n",
      "[WARN] unable to get value: sheet_name: MRINRNPatternOfInjuryExtent value: - value_float:  value_int: \n",
      "[WARN] unable to get value: sheet_name: MRINRNPatternOfInjuryExtent value: - value_float:  value_int: \n",
      "[WARN] unable to get value: sheet_name: MRINRNPatternOfInjuryExtent value: - value_float:  value_int: \n",
      "[WARN] unable to get value: sheet_name: MRINRNPatternOfInjuryExtent value: - value_float:  value_int: \n",
      "[WARN] unable to get value: sheet_name: MRINRNPatternOfInjuryExtent value: - value_float:  value_int: \n",
      "[WARN] unable to get value: sheet_name: MRINRNPatternOfInjuryExtent value: - value_float:  value_int: \n",
      "[WARN] unable to get value: sheet_name: MRINRNPatternOfInjuryExtent value: - value_float:  value_int: \n",
      "[WARN] unable to get value: sheet_name: MRINRNPatternOfInjuryExtent value: - value_float:  value_int: \n",
      "[WARN] unable to get value: sheet_name: MRINRNPatternOfInjuryExtent value: - value_float:  value_int: \n",
      "[WARN] unable to get value: sheet_name: MRINRNPatternOfInjuryExtent value: - value_float:  value_int: \n",
      "[WARN] unable to get value: sheet_name: MRINRNPatternOfInjuryExtent value: - value_float:  value_int: \n",
      "[WARN] unable to get value: sheet_name: MRINRNPatternOfInjuryExtent value: - value_float:  value_int: \n",
      "(72/77) normalize_value: column: MRINRNPatternOfInjuryExtent_c\n",
      "(73/77) normalize_value: column: MRINRNPatternOfInjuryLateral\n",
      "[WARN] unable to get value: sheet_name: MRINRNPatternOfInjuryLateral value: - value_float:  value_int: \n",
      "[WARN] unable to get value: sheet_name: MRINRNPatternOfInjuryLateral value: - value_float:  value_int: \n",
      "[WARN] unable to get value: sheet_name: MRINRNPatternOfInjuryLateral value: - value_float:  value_int: \n",
      "[WARN] unable to get value: sheet_name: MRINRNPatternOfInjuryLateral value: - value_float:  value_int: \n",
      "[WARN] unable to get value: sheet_name: MRINRNPatternOfInjuryLateral value: - value_float:  value_int: \n",
      "[WARN] unable to get value: sheet_name: MRINRNPatternOfInjuryLateral value: - value_float:  value_int: \n",
      "[WARN] unable to get value: sheet_name: MRINRNPatternOfInjuryLateral value: - value_float:  value_int: \n",
      "[WARN] unable to get value: sheet_name: MRINRNPatternOfInjuryLateral value: - value_float:  value_int: \n",
      "[WARN] unable to get value: sheet_name: MRINRNPatternOfInjuryLateral value: - value_float:  value_int: \n",
      "[WARN] unable to get value: sheet_name: MRINRNPatternOfInjuryLateral value: - value_float:  value_int: \n",
      "[WARN] unable to get value: sheet_name: MRINRNPatternOfInjuryLateral value: - value_float:  value_int: \n",
      "[WARN] unable to get value: sheet_name: MRINRNPatternOfInjuryLateral value: - value_float:  value_int: \n",
      "[WARN] unable to get value: sheet_name: MRINRNPatternOfInjuryLateral value: - value_float:  value_int: \n",
      "[WARN] unable to get value: sheet_name: MRINRNPatternOfInjuryLateral value: - value_float:  value_int: \n",
      "[WARN] unable to get value: sheet_name: MRINRNPatternOfInjuryLateral value: - value_float:  value_int: \n",
      "[WARN] unable to get value: sheet_name: MRINRNPatternOfInjuryLateral value: - value_float:  value_int: \n",
      "[WARN] unable to get value: sheet_name: MRINRNPatternOfInjuryLateral value: - value_float:  value_int: \n",
      "[WARN] unable to get value: sheet_name: MRINRNPatternOfInjuryLateral value: - value_float:  value_int: \n",
      "[WARN] unable to get value: sheet_name: MRINRNPatternOfInjuryLateral value: - value_float:  value_int: \n",
      "[WARN] unable to get value: sheet_name: MRINRNPatternOfInjuryLateral value: - value_float:  value_int: \n",
      "[WARN] unable to get value: sheet_name: MRINRNPatternOfInjuryLateral value: - value_float:  value_int: \n",
      "[WARN] unable to get value: sheet_name: MRINRNPatternOfInjuryLateral value: - value_float:  value_int: \n",
      "[WARN] unable to get value: sheet_name: MRINRNPatternOfInjuryLateral value: - value_float:  value_int: \n",
      "[WARN] unable to get value: sheet_name: MRINRNPatternOfInjuryLateral value: - value_float:  value_int: \n",
      "[WARN] unable to get value: sheet_name: MRINRNPatternOfInjuryLateral value: - value_float:  value_int: \n",
      "[WARN] unable to get value: sheet_name: MRINRNPatternOfInjuryLateral value: - value_float:  value_int: \n",
      "[WARN] unable to get value: sheet_name: MRINRNPatternOfInjuryLateral value: - value_float:  value_int: \n",
      "[WARN] unable to get value: sheet_name: MRINRNPatternOfInjuryLateral value: - value_float:  value_int: \n",
      "[WARN] unable to get value: sheet_name: MRINRNPatternOfInjuryLateral value: - value_float:  value_int: \n",
      "[WARN] unable to get value: sheet_name: MRINRNPatternOfInjuryLateral value: - value_float:  value_int: \n",
      "[WARN] unable to get value: sheet_name: MRINRNPatternOfInjuryLateral value: - value_float:  value_int: \n",
      "[WARN] unable to get value: sheet_name: MRINRNPatternOfInjuryLateral value: - value_float:  value_int: \n",
      "[WARN] unable to get value: sheet_name: MRINRNPatternOfInjuryLateral value: - value_float:  value_int: \n",
      "[WARN] unable to get value: sheet_name: MRINRNPatternOfInjuryLateral value: - value_float:  value_int: \n",
      "[WARN] unable to get value: sheet_name: MRINRNPatternOfInjuryLateral value: - value_float:  value_int: \n",
      "[WARN] unable to get value: sheet_name: MRINRNPatternOfInjuryLateral value: - value_float:  value_int: \n",
      "[WARN] unable to get value: sheet_name: MRINRNPatternOfInjuryLateral value: - value_float:  value_int: \n",
      "[WARN] unable to get value: sheet_name: MRINRNPatternOfInjuryLateral value: - value_float:  value_int: \n",
      "[WARN] unable to get value: sheet_name: MRINRNPatternOfInjuryLateral value: - value_float:  value_int: \n",
      "[WARN] unable to get value: sheet_name: MRINRNPatternOfInjuryLateral value: - value_float:  value_int: \n",
      "[WARN] unable to get value: sheet_name: MRINRNPatternOfInjuryLateral value: - value_float:  value_int: \n",
      "[WARN] unable to get value: sheet_name: MRINRNPatternOfInjuryLateral value: - value_float:  value_int: \n",
      "[WARN] unable to get value: sheet_name: MRINRNPatternOfInjuryLateral value: - value_float:  value_int: \n",
      "[WARN] unable to get value: sheet_name: MRINRNPatternOfInjuryLateral value: - value_float:  value_int: \n",
      "[WARN] unable to get value: sheet_name: MRINRNPatternOfInjuryLateral value: - value_float:  value_int: \n",
      "[WARN] unable to get value: sheet_name: MRINRNPatternOfInjuryLateral value: - value_float:  value_int: \n",
      "[WARN] unable to get value: sheet_name: MRINRNPatternOfInjuryLateral value: - value_float:  value_int: \n",
      "[WARN] unable to get value: sheet_name: MRINRNPatternOfInjuryLateral value: - value_float:  value_int: \n",
      "[WARN] unable to get value: sheet_name: MRINRNPatternOfInjuryLateral value: - value_float:  value_int: \n",
      "[WARN] unable to get value: sheet_name: MRINRNPatternOfInjuryLateral value: - value_float:  value_int: \n",
      "[WARN] unable to get value: sheet_name: MRINRNPatternOfInjuryLateral value: - value_float:  value_int: \n",
      "[WARN] unable to get value: sheet_name: MRINRNPatternOfInjuryLateral value: - value_float:  value_int: \n",
      "[WARN] unable to get value: sheet_name: MRINRNPatternOfInjuryLateral value: - value_float:  value_int: \n",
      "[WARN] unable to get value: sheet_name: MRINRNPatternOfInjuryLateral value: - value_float:  value_int: \n",
      "[WARN] unable to get value: sheet_name: MRINRNPatternOfInjuryLateral value: - value_float:  value_int: \n",
      "[WARN] unable to get value: sheet_name: MRINRNPatternOfInjuryLateral value: - value_float:  value_int: \n",
      "[WARN] unable to get value: sheet_name: MRINRNPatternOfInjuryLateral value: - value_float:  value_int: \n",
      "[WARN] unable to get value: sheet_name: MRINRNPatternOfInjuryLateral value: - value_float:  value_int: \n",
      "[WARN] unable to get value: sheet_name: MRINRNPatternOfInjuryLateral value: - value_float:  value_int: \n",
      "[WARN] unable to get value: sheet_name: MRINRNPatternOfInjuryLateral value: - value_float:  value_int: \n",
      "[WARN] unable to get value: sheet_name: MRINRNPatternOfInjuryLateral value: - value_float:  value_int: \n",
      "[WARN] unable to get value: sheet_name: MRINRNPatternOfInjuryLateral value: - value_float:  value_int: \n",
      "[WARN] unable to get value: sheet_name: MRINRNPatternOfInjuryLateral value: - value_float:  value_int: \n",
      "[WARN] unable to get value: sheet_name: MRINRNPatternOfInjuryLateral value: - value_float:  value_int: \n",
      "[WARN] unable to get value: sheet_name: MRINRNPatternOfInjuryLateral value: - value_float:  value_int: \n",
      "[WARN] unable to get value: sheet_name: MRINRNPatternOfInjuryLateral value: - value_float:  value_int: \n",
      "[WARN] unable to get value: sheet_name: MRINRNPatternOfInjuryLateral value: - value_float:  value_int: \n",
      "[WARN] unable to get value: sheet_name: MRINRNPatternOfInjuryLateral value: - value_float:  value_int: \n",
      "[WARN] unable to get value: sheet_name: MRINRNPatternOfInjuryLateral value: - value_float:  value_int: \n",
      "[WARN] unable to get value: sheet_name: MRINRNPatternOfInjuryLateral value: - value_float:  value_int: \n",
      "[WARN] unable to get value: sheet_name: MRINRNPatternOfInjuryLateral value: - value_float:  value_int: \n",
      "[WARN] unable to get value: sheet_name: MRINRNPatternOfInjuryLateral value: - value_float:  value_int: \n",
      "[WARN] unable to get value: sheet_name: MRINRNPatternOfInjuryLateral value: - value_float:  value_int: \n",
      "[WARN] unable to get value: sheet_name: MRINRNPatternOfInjuryLateral value: - value_float:  value_int: \n",
      "[WARN] unable to get value: sheet_name: MRINRNPatternOfInjuryLateral value: - value_float:  value_int: \n",
      "[WARN] unable to get value: sheet_name: MRINRNPatternOfInjuryLateral value: - value_float:  value_int: \n",
      "[WARN] unable to get value: sheet_name: MRINRNPatternOfInjuryLateral value: - value_float:  value_int: \n",
      "[WARN] unable to get value: sheet_name: MRINRNPatternOfInjuryLateral value: - value_float:  value_int: \n",
      "[WARN] unable to get value: sheet_name: MRINRNPatternOfInjuryLateral value: - value_float:  value_int: \n",
      "[WARN] unable to get value: sheet_name: MRINRNPatternOfInjuryLateral value: - value_float:  value_int: \n",
      "[WARN] unable to get value: sheet_name: MRINRNPatternOfInjuryLateral value: - value_float:  value_int: \n",
      "[WARN] unable to get value: sheet_name: MRINRNPatternOfInjuryLateral value: - value_float:  value_int: \n",
      "[WARN] unable to get value: sheet_name: MRINRNPatternOfInjuryLateral value: - value_float:  value_int: \n",
      "[WARN] unable to get value: sheet_name: MRINRNPatternOfInjuryLateral value: - value_float:  value_int: \n",
      "[WARN] unable to get value: sheet_name: MRINRNPatternOfInjuryLateral value: - value_float:  value_int: \n",
      "[WARN] unable to get value: sheet_name: MRINRNPatternOfInjuryLateral value: - value_float:  value_int: \n",
      "[WARN] unable to get value: sheet_name: MRINRNPatternOfInjuryLateral value: - value_float:  value_int: \n",
      "[WARN] unable to get value: sheet_name: MRINRNPatternOfInjuryLateral value: - value_float:  value_int: \n",
      "[WARN] unable to get value: sheet_name: MRINRNPatternOfInjuryLateral value: - value_float:  value_int: \n",
      "[WARN] unable to get value: sheet_name: MRINRNPatternOfInjuryLateral value: - value_float:  value_int: \n",
      "[WARN] unable to get value: sheet_name: MRINRNPatternOfInjuryLateral value: - value_float:  value_int: \n",
      "[WARN] unable to get value: sheet_name: MRINRNPatternOfInjuryLateral value: - value_float:  value_int: \n",
      "[WARN] unable to get value: sheet_name: MRINRNPatternOfInjuryLateral value: - value_float:  value_int: \n",
      "[WARN] unable to get value: sheet_name: MRINRNPatternOfInjuryLateral value: - value_float:  value_int: \n",
      "[WARN] unable to get value: sheet_name: MRINRNPatternOfInjuryLateral value: - value_float:  value_int: \n",
      "[WARN] unable to get value: sheet_name: MRINRNPatternOfInjuryLateral value: - value_float:  value_int: \n",
      "[WARN] unable to get value: sheet_name: MRINRNPatternOfInjuryLateral value: - value_float:  value_int: \n",
      "[WARN] unable to get value: sheet_name: MRINRNPatternOfInjuryLateral value: - value_float:  value_int: \n",
      "[WARN] unable to get value: sheet_name: MRINRNPatternOfInjuryLateral value: - value_float:  value_int: \n",
      "[WARN] unable to get value: sheet_name: MRINRNPatternOfInjuryLateral value: - value_float:  value_int: \n",
      "[WARN] unable to get value: sheet_name: MRINRNPatternOfInjuryLateral value: - value_float:  value_int: \n",
      "[WARN] unable to get value: sheet_name: MRINRNPatternOfInjuryLateral value: - value_float:  value_int: \n",
      "[WARN] unable to get value: sheet_name: MRINRNPatternOfInjuryLateral value: - value_float:  value_int: \n",
      "[WARN] unable to get value: sheet_name: MRINRNPatternOfInjuryLateral value: - value_float:  value_int: \n",
      "[WARN] unable to get value: sheet_name: MRINRNPatternOfInjuryLateral value: - value_float:  value_int: \n",
      "[WARN] unable to get value: sheet_name: MRINRNPatternOfInjuryLateral value: - value_float:  value_int: \n",
      "[WARN] unable to get value: sheet_name: MRINRNPatternOfInjuryLateral value: - value_float:  value_int: \n",
      "[WARN] unable to get value: sheet_name: MRINRNPatternOfInjuryLateral value: - value_float:  value_int: \n",
      "[WARN] unable to get value: sheet_name: MRINRNPatternOfInjuryLateral value: - value_float:  value_int: \n",
      "[WARN] unable to get value: sheet_name: MRINRNPatternOfInjuryLateral value: - value_float:  value_int: \n",
      "[WARN] unable to get value: sheet_name: MRINRNPatternOfInjuryLateral value: - value_float:  value_int: \n",
      "[WARN] unable to get value: sheet_name: MRINRNPatternOfInjuryLateral value: - value_float:  value_int: \n",
      "[WARN] unable to get value: sheet_name: MRINRNPatternOfInjuryLateral value: - value_float:  value_int: \n",
      "[WARN] unable to get value: sheet_name: MRINRNPatternOfInjuryLateral value: - value_float:  value_int: \n",
      "[WARN] unable to get value: sheet_name: MRINRNPatternOfInjuryLateral value: - value_float:  value_int: \n",
      "[WARN] unable to get value: sheet_name: MRINRNPatternOfInjuryLateral value: - value_float:  value_int: \n",
      "[WARN] unable to get value: sheet_name: MRINRNPatternOfInjuryLateral value: - value_float:  value_int: \n",
      "[WARN] unable to get value: sheet_name: MRINRNPatternOfInjuryLateral value: - value_float:  value_int: \n",
      "[WARN] unable to get value: sheet_name: MRINRNPatternOfInjuryLateral value: - value_float:  value_int: \n",
      "[WARN] unable to get value: sheet_name: MRINRNPatternOfInjuryLateral value: - value_float:  value_int: \n",
      "[WARN] unable to get value: sheet_name: MRINRNPatternOfInjuryLateral value: - value_float:  value_int: \n",
      "[WARN] unable to get value: sheet_name: MRINRNPatternOfInjuryLateral value: - value_float:  value_int: \n",
      "[WARN] unable to get value: sheet_name: MRINRNPatternOfInjuryLateral value: - value_float:  value_int: \n",
      "[WARN] unable to get value: sheet_name: MRINRNPatternOfInjuryLateral value: - value_float:  value_int: \n",
      "[WARN] unable to get value: sheet_name: MRINRNPatternOfInjuryLateral value: - value_float:  value_int: \n",
      "[WARN] unable to get value: sheet_name: MRINRNPatternOfInjuryLateral value: - value_float:  value_int: \n",
      "[WARN] unable to get value: sheet_name: MRINRNPatternOfInjuryLateral value: - value_float:  value_int: \n",
      "[WARN] unable to get value: sheet_name: MRINRNPatternOfInjuryLateral value: - value_float:  value_int: \n",
      "[WARN] unable to get value: sheet_name: MRINRNPatternOfInjuryLateral value: - value_float:  value_int: \n",
      "[WARN] unable to get value: sheet_name: MRINRNPatternOfInjuryLateral value: - value_float:  value_int: \n",
      "[WARN] unable to get value: sheet_name: MRINRNPatternOfInjuryLateral value: - value_float:  value_int: \n",
      "[WARN] unable to get value: sheet_name: MRINRNPatternOfInjuryLateral value: - value_float:  value_int: \n",
      "[WARN] unable to get value: sheet_name: MRINRNPatternOfInjuryLateral value: - value_float:  value_int: \n",
      "[WARN] unable to get value: sheet_name: MRINRNPatternOfInjuryLateral value: - value_float:  value_int: \n",
      "[WARN] unable to get value: sheet_name: MRINRNPatternOfInjuryLateral value: - value_float:  value_int: \n",
      "[WARN] unable to get value: sheet_name: MRINRNPatternOfInjuryLateral value: - value_float:  value_int: \n",
      "[WARN] unable to get value: sheet_name: MRINRNPatternOfInjuryLateral value: - value_float:  value_int: \n",
      "[WARN] unable to get value: sheet_name: MRINRNPatternOfInjuryLateral value: - value_float:  value_int: \n",
      "[WARN] unable to get value: sheet_name: MRINRNPatternOfInjuryLateral value: - value_float:  value_int: \n",
      "[WARN] unable to get value: sheet_name: MRINRNPatternOfInjuryLateral value: - value_float:  value_int: \n",
      "[WARN] unable to get value: sheet_name: MRINRNPatternOfInjuryLateral value: - value_float:  value_int: \n",
      "[WARN] unable to get value: sheet_name: MRINRNPatternOfInjuryLateral value: - value_float:  value_int: \n",
      "[WARN] unable to get value: sheet_name: MRINRNPatternOfInjuryLateral value: - value_float:  value_int: \n",
      "[WARN] unable to get value: sheet_name: MRINRNPatternOfInjuryLateral value: - value_float:  value_int: \n",
      "[WARN] unable to get value: sheet_name: MRINRNPatternOfInjuryLateral value: - value_float:  value_int: \n",
      "[WARN] unable to get value: sheet_name: MRINRNPatternOfInjuryLateral value: - value_float:  value_int: \n",
      "[WARN] unable to get value: sheet_name: MRINRNPatternOfInjuryLateral value: - value_float:  value_int: \n",
      "[WARN] unable to get value: sheet_name: MRINRNPatternOfInjuryLateral value: - value_float:  value_int: \n",
      "[WARN] unable to get value: sheet_name: MRINRNPatternOfInjuryLateral value: - value_float:  value_int: \n",
      "[WARN] unable to get value: sheet_name: MRINRNPatternOfInjuryLateral value: - value_float:  value_int: \n",
      "[WARN] unable to get value: sheet_name: MRINRNPatternOfInjuryLateral value: - value_float:  value_int: \n",
      "[WARN] unable to get value: sheet_name: MRINRNPatternOfInjuryLateral value: - value_float:  value_int: \n",
      "[WARN] unable to get value: sheet_name: MRINRNPatternOfInjuryLateral value: - value_float:  value_int: \n",
      "[WARN] unable to get value: sheet_name: MRINRNPatternOfInjuryLateral value: - value_float:  value_int: \n",
      "[WARN] unable to get value: sheet_name: MRINRNPatternOfInjuryLateral value: - value_float:  value_int: \n",
      "[WARN] unable to get value: sheet_name: MRINRNPatternOfInjuryLateral value: - value_float:  value_int: \n",
      "[WARN] unable to get value: sheet_name: MRINRNPatternOfInjuryLateral value: - value_float:  value_int: \n",
      "[WARN] unable to get value: sheet_name: MRINRNPatternOfInjuryLateral value: - value_float:  value_int: \n",
      "[WARN] unable to get value: sheet_name: MRINRNPatternOfInjuryLateral value: - value_float:  value_int: \n",
      "[WARN] unable to get value: sheet_name: MRINRNPatternOfInjuryLateral value: - value_float:  value_int: \n",
      "[WARN] unable to get value: sheet_name: MRINRNPatternOfInjuryLateral value: - value_float:  value_int: \n",
      "[WARN] unable to get value: sheet_name: MRINRNPatternOfInjuryLateral value: - value_float:  value_int: \n",
      "[WARN] unable to get value: sheet_name: MRINRNPatternOfInjuryLateral value: - value_float:  value_int: \n",
      "[WARN] unable to get value: sheet_name: MRINRNPatternOfInjuryLateral value: - value_float:  value_int: \n",
      "[WARN] unable to get value: sheet_name: MRINRNPatternOfInjuryLateral value: - value_float:  value_int: \n",
      "[WARN] unable to get value: sheet_name: MRINRNPatternOfInjuryLateral value: - value_float:  value_int: \n",
      "[WARN] unable to get value: sheet_name: MRINRNPatternOfInjuryLateral value: - value_float:  value_int: \n",
      "(74/77) normalize_value: column: MRINRNPatternOfInjuryLateral_c\n",
      "(75/77) normalize_value: column: siteID\n",
      "(76/77) normalize_value: column: MRI_ID\n"
     ]
    },
    {
     "name": "stdout",
     "output_type": "stream",
     "text": [
      "flatten_index: flatten_ids: ['MRIReader'] unique_id_map: {'1': '1', '2': '2', '3': '3'} the_type: object\n"
     ]
    }
   ],
   "source": [
    "filename = os.sep.join([input_dir, base_filename])\n",
    "df = pd.read_csv(filename, dtype='O')\n",
    "df = COMBINE_harmonizer.normalize_value(df, _VALUE_MAP, _FLATTEN_IDS, order_map=_ORDER_MAP)"
   ]
  },
  {
   "cell_type": "code",
   "execution_count": 114,
   "id": "51e686ca",
   "metadata": {
    "execution": {
     "iopub.execute_input": "2025-05-15T04:30:07.078781Z",
     "iopub.status.busy": "2025-05-15T04:30:07.078699Z",
     "iopub.status.idle": "2025-05-15T04:30:07.165137Z",
     "shell.execute_reply": "2025-05-15T04:30:07.164840Z"
    }
   },
   "outputs": [],
   "source": [
    "out_filename = os.sep.join([out_dir, base_filename])\n",
    "df.to_csv(out_filename, index=False)"
   ]
  },
  {
   "cell_type": "code",
   "execution_count": 115,
   "id": "7994f3be",
   "metadata": {
    "execution": {
     "iopub.execute_input": "2025-05-15T04:30:07.166743Z",
     "iopub.status.busy": "2025-05-15T04:30:07.166647Z",
     "iopub.status.idle": "2025-05-15T04:30:07.177678Z",
     "shell.execute_reply": "2025-05-15T04:30:07.177280Z"
    }
   },
   "outputs": [
    {
     "name": "stdout",
     "output_type": "stream",
     "text": [
      "(0/155) center: (671/0)\n",
      "(1/155) center.orig: (671/0)\n",
      "(2/155) subjectID: (671/0)\n",
      "(3/155) subjectID.orig: (671/0)\n",
      "(4/155) uniqueID: (671/0)\n",
      "(5/155) uniqueID.orig: (671/0)\n",
      "(6/155) MRI_ID: (671/0)\n",
      "(7/155) MRI_ID.orig: (671/0)\n",
      "(8/155) _flatten_index: (671/0)\n",
      "(9/155) siteID: (671/0)\n",
      "(10/155) siteID.orig: (671/0)\n",
      "(11/155) MRIIncrement: (671/0)\n",
      "(12/155) MRIIncrement.orig: (671/0)\n",
      "(13/155) MRIReader: (671/0)\n",
      "(14/155) MRIReader.orig: (671/0)\n",
      "(15/155) MRIReadDate: (671/0)\n",
      "(16/155) MRIReadDate.orig: (661/10)\n",
      "(17/155) MRIStrength_T: (671/0)\n",
      "(18/155) MRIStrength_T.orig: (256/415)\n",
      "(19/155) MRIAdequateQuality: (671/0)\n",
      "(20/155) MRIAdequateQuality.orig: (266/405)\n",
      "(21/155) MRIAdequateQuality_c: (671/0)\n",
      "(22/155) MRIAdequateQuality_c.orig: (670/1)\n",
      "(23/155) MRIT1Axial: (671/0)\n",
      "(24/155) MRIT1Axial.orig: (671/0)\n",
      "(25/155) MRIT1Coronal: (671/0)\n",
      "(26/155) MRIT1Coronal.orig: (671/0)\n",
      "(27/155) MRIT1Sagittal: (671/0)\n",
      "(28/155) MRIT1Sagittal.orig: (671/0)\n",
      "(29/155) MRIT1: (671/0)\n",
      "(30/155) MRIT1.orig: (671/0)\n",
      "(31/155) MRIT2Axial: (671/0)\n",
      "(32/155) MRIT2Axial.orig: (671/0)\n",
      "(33/155) MRIT2Coronal: (671/0)\n",
      "(34/155) MRIT2Coronal.orig: (671/0)\n",
      "(35/155) MRIT2Sagittal: (671/0)\n",
      "(36/155) MRIT2Sagittal.orig: (671/0)\n",
      "(37/155) MRIT2: (671/0)\n",
      "(38/155) MRIT2.orig: (671/0)\n",
      "(39/155) MRIT2FLAIRAxial: (671/0)\n",
      "(40/155) MRIT2FLAIRAxial.orig: (671/0)\n",
      "(41/155) MRIT2FLAIRCoronal: (671/0)\n",
      "(42/155) MRIT2FLAIRCoronal.orig: (671/0)\n",
      "(43/155) MRIT2FLAIRSagittal: (671/0)\n",
      "(44/155) MRIT2FLAIRSagittal.orig: (671/0)\n",
      "(45/155) MRIT2FLAIR: (671/0)\n",
      "(46/155) MRIT2FLAIR.orig: (671/0)\n",
      "(47/155) MRIGRESWIAxial: (671/0)\n",
      "(48/155) MRIGRESWIAxial.orig: (671/0)\n",
      "(49/155) MRIGRESWICoronal: (671/0)\n",
      "(50/155) MRIGRESWICoronal.orig: (671/0)\n",
      "(51/155) MRIGRESWISagittal: (671/0)\n",
      "(52/155) MRIGRESWISagittal.orig: (671/0)\n",
      "(53/155) MRIGRESWI: (671/0)\n",
      "(54/155) MRIGRESWI.orig: (671/0)\n",
      "(55/155) MRISPGRAxial: (671/0)\n",
      "(56/155) MRISPGRAxial.orig: (671/0)\n",
      "(57/155) MRISPGRCoronal: (671/0)\n",
      "(58/155) MRISPGRCoronal.orig: (671/0)\n",
      "(59/155) MRISPGRSagittal: (671/0)\n",
      "(60/155) MRISPGRSagittal.orig: (671/0)\n",
      "(61/155) MRISPGR: (671/0)\n",
      "(62/155) MRISPGR.orig: (671/0)\n",
      "(63/155) MRIDWI: (671/0)\n",
      "(64/155) MRIDWI.orig: (475/196)\n",
      "(65/155) MRIDWI_c: (671/0)\n",
      "(66/155) MRIDWI_c.orig: (671/0)\n",
      "(67/155) MRIADC: (671/0)\n",
      "(68/155) MRIADC.orig: (1/670)\n",
      "(69/155) MRIADC_c: (671/0)\n",
      "(70/155) MRIADC_c.orig: (669/2)\n",
      "(71/155) MRIMRS: (671/0)\n",
      "(72/155) MRIMRS.orig: (86/585)\n",
      "(73/155) MRIMRS_c: (671/0)\n",
      "(74/155) MRIMRS_c.orig: (669/2)\n",
      "(75/155) MRIOther: (671/0)\n",
      "(76/155) MRIOther.orig: (108/563)\n",
      "(77/155) MRIOther_c: (671/0)\n",
      "(78/155) MRIOther_c.orig: (669/2)\n",
      "(79/155) MRIOtherText: (671/0)\n",
      "(80/155) MRIOtherText.orig: (106/565)\n",
      "(81/155) MRIOverallDiagnosis: (671/0)\n",
      "(82/155) MRIOverallDiagnosis.orig: (671/0)\n",
      "(83/155) MRIOverallDiagnosis_c: (671/0)\n",
      "(84/155) MRIOverallDiagnosis_c.orig: (583/88)\n",
      "(85/155) MRIAbnormal: (671/0)\n",
      "(86/155) MRIAbnormal.orig: (483/188)\n",
      "(87/155) MRIAbnormal_c: (671/0)\n",
      "(88/155) MRIAbnormal_c.orig: (671/0)\n",
      "(89/155) MRICerebralAtrophy: (671/0)\n",
      "(90/155) MRICerebralAtrophy.orig: (514/157)\n",
      "(91/155) MRICerebralAtrophy_c: (671/0)\n",
      "(92/155) MRICerebralAtrophy_c.orig: (535/136)\n",
      "(93/155) MRICerebralAtrophyGlobalLocal: (671/0)\n",
      "(94/155) MRICerebralAtrophyGlobalLocal.orig: (535/136)\n",
      "(95/155) MRICerebralAtrophyGlobalLocal_c: (671/0)\n",
      "(96/155) MRICerebralAtrophyGlobalLocal_c.orig: (32/639)\n",
      "(97/155) MRICerebralAtrophyRegion: (671/0)\n",
      "(98/155) MRICerebralAtrophyRegion.orig: (5/666)\n",
      "(99/155) MRICerebralAtrophyQualAssessCC: (671/0)\n",
      "(100/155) MRICerebralAtrophyQualAssessCC.orig: (535/136)\n",
      "(101/155) MRICerebralAtrophyQualAssessCC_c: (671/0)\n",
      "(102/155) MRICerebralAtrophyQualAssessCC_c.orig: (515/156)\n",
      "(103/155) MRICerebralAtrophyQualAssessVDLeft: (671/0)\n",
      "(104/155) MRICerebralAtrophyQualAssessVDLeft.orig: (535/136)\n",
      "(105/155) MRICerebralAtrophyQualAssessVDLeft_c: (671/0)\n",
      "(106/155) MRICerebralAtrophyQualAssessVDLeft_c.orig: (515/156)\n",
      "(107/155) MRICerebralAtrophyQualAssessVDRight: (671/0)\n",
      "(108/155) MRICerebralAtrophyQualAssessVDRight.orig: (535/136)\n",
      "(109/155) MRICerebralAtrophyQualAssessVDRight_c: (671/0)\n",
      "(110/155) MRICerebralAtrophyQualAssessVDRight_c.orig: (514/157)\n",
      "(111/155) MRIInfarction: (671/0)\n",
      "(112/155) MRIInfarction.orig: (423/248)\n",
      "(113/155) MRIInfarction_c: (671/0)\n",
      "(114/155) MRIInfarction_c.orig: (535/136)\n",
      "(115/155) MRIInfarctionArterialTerritoryLeft: (671/0)\n",
      "(116/155) MRIInfarctionArterialTerritoryLeft.orig: (535/136)\n",
      "(117/155) MRIInfarctionArterialTerritoryRight: (671/0)\n",
      "(118/155) MRIInfarctionArterialTerritoryRight.orig: (535/136)\n",
      "(119/155) MRIMidlineShift: (671/0)\n",
      "(120/155) MRIMidlineShift.orig: (433/238)\n",
      "(121/155) MRIMidlineShift_c: (671/0)\n",
      "(122/155) MRIMidlineShift_c.orig: (535/136)\n",
      "(123/155) MRIBGT: (671/0)\n",
      "(124/155) MRIBGT.orig: (482/189)\n",
      "(125/155) MRIBGT_c: (671/0)\n",
      "(126/155) MRIBGT_c.orig: (433/238)\n",
      "(127/155) MRIPLIC: (671/0)\n",
      "(128/155) MRIPLIC.orig: (482/189)\n",
      "(129/155) MRIPLIC_c: (671/0)\n",
      "(130/155) MRIPLIC_c.orig: (433/238)\n",
      "(131/155) MRIWatershed: (671/0)\n",
      "(132/155) MRIWatershed.orig: (482/189)\n",
      "(133/155) MRIWatershed_c: (671/0)\n",
      "(134/155) MRIWatershed_c.orig: (425/246)\n",
      "(135/155) MRIWhiteMatterInjury: (671/0)\n",
      "(136/155) MRIWhiteMatterInjury.orig: (482/189)\n",
      "(137/155) MRIWhiteMatterInjury_c: (490/181)\n",
      "(138/155) MRIWhiteMatterInjury_c.orig: (424/247)\n",
      "(139/155) MRINRNPatternOfInjury_c: (671/0)\n",
      "(140/155) MRINRNPatternOfInjury_c.orig: (665/6)\n",
      "(141/155) MRINRNPatternOfInjuryExtent: (671/0)\n",
      "(142/155) MRINRNPatternOfInjuryExtent.orig: (669/2)\n",
      "(143/155) MRINRNPatternOfInjuryExtent_c: (671/0)\n",
      "(144/155) MRINRNPatternOfInjuryExtent_c.orig: (408/263)\n",
      "(145/155) MRINRNPatternOfInjuryLateral: (671/0)\n",
      "(146/155) MRINRNPatternOfInjuryLateral.orig: (669/2)\n",
      "(147/155) MRINRNPatternOfInjuryLateral_c: (671/0)\n",
      "(148/155) MRINRNPatternOfInjuryLateral_c.orig: (502/169)\n",
      "(149/155) MRIComment: (671/0)\n",
      "(150/155) MRIComment.orig: (58/613)\n",
      "(151/155) MRINRNPatternOfInjury: (671/0)\n",
      "(152/155) MRINRNPatternOfInjury.orig: (669/2)\n",
      "(153/155) MRIDate: (671/0)\n",
      "(154/155) MRIDate.orig: (594/77)\n"
     ]
    }
   ],
   "source": [
    "COMBINE_harmonizer.column_info(df)"
   ]
  },
  {
   "cell_type": "markdown",
   "id": "e63d749e",
   "metadata": {},
   "source": [
    "## 03-05_s-mri"
   ]
  },
  {
   "cell_type": "code",
   "execution_count": 116,
   "id": "d3c31b5d",
   "metadata": {
    "execution": {
     "iopub.execute_input": "2025-05-15T04:30:07.179276Z",
     "iopub.status.busy": "2025-05-15T04:30:07.179102Z",
     "iopub.status.idle": "2025-05-15T04:30:07.181127Z",
     "shell.execute_reply": "2025-05-15T04:30:07.180674Z"
    }
   },
   "outputs": [],
   "source": [
    "base_filename = '03-05_s-mri.csv'"
   ]
  },
  {
   "cell_type": "code",
   "execution_count": 117,
   "id": "8d57fc04",
   "metadata": {
    "execution": {
     "iopub.execute_input": "2025-05-15T04:30:07.182884Z",
     "iopub.status.busy": "2025-05-15T04:30:07.182747Z",
     "iopub.status.idle": "2025-05-15T04:30:07.185092Z",
     "shell.execute_reply": "2025-05-15T04:30:07.184767Z"
    }
   },
   "outputs": [
    {
     "data": {
      "text/plain": [
       "<function COMBINE_harmonizer.utils_values._build_value_map.<locals>.<lambda>(x)>"
      ]
     },
     "execution_count": 117,
     "metadata": {},
     "output_type": "execute_result"
    }
   ],
   "source": [
    "_VALUE_MAP['MRICerebralAtrophyGlobalLocalMerge']"
   ]
  },
  {
   "cell_type": "code",
   "execution_count": 118,
   "id": "a95a6572",
   "metadata": {
    "execution": {
     "iopub.execute_input": "2025-05-15T04:30:07.186317Z",
     "iopub.status.busy": "2025-05-15T04:30:07.186217Z",
     "iopub.status.idle": "2025-05-15T04:30:07.252796Z",
     "shell.execute_reply": "2025-05-15T04:30:07.252540Z"
    }
   },
   "outputs": [
    {
     "name": "stdout",
     "output_type": "stream",
     "text": [
      "(0/66) normalize_value: column: center\n",
      "(1/66) normalize_value: column: subjectID\n",
      "(2/66) normalize_value: column: uniqueID\n",
      "(3/66) normalize_value: column: MRIAvailable\n",
      "(4/66) normalize_value: column: MRIAvailable_c\n",
      "(5/66) normalize_value: column: MRINoObtainReason\n",
      "[WARN] unable to get value: sheet_name: MRINoObtainReason value: - value_float:  value_int: \n",
      "[WARN] unable to get value: sheet_name: MRINoObtainReason value: - value_float:  value_int: \n",
      "[WARN] unable to get value: sheet_name: MRINoObtainReason value: - value_float:  value_int: \n",
      "[WARN] unable to get value: sheet_name: MRINoObtainReason value: - value_float:  value_int: \n",
      "[WARN] unable to get value: sheet_name: MRINoObtainReason value: - value_float:  value_int: \n",
      "[WARN] unable to get value: sheet_name: MRINoObtainReason value: - value_float:  value_int: \n",
      "[WARN] unable to get value: sheet_name: MRINoObtainReason value: - value_float:  value_int: \n",
      "[WARN] unable to get value: sheet_name: MRINoObtainReason value: - value_float:  value_int: \n",
      "[WARN] unable to get value: sheet_name: MRINoObtainReason value: - value_float:  value_int: \n",
      "[WARN] unable to get value: sheet_name: MRINoObtainReason value: - value_float:  value_int: \n",
      "[WARN] unable to get value: sheet_name: MRINoObtainReason value: - value_float:  value_int: \n",
      "[WARN] unable to get value: sheet_name: MRINoObtainReason value: - value_float:  value_int: \n",
      "[WARN] unable to get value: sheet_name: MRINoObtainReason value: - value_float:  value_int: \n",
      "[WARN] unable to get value: sheet_name: MRINoObtainReason value: - value_float:  value_int: \n",
      "[WARN] unable to get value: sheet_name: MRINoObtainReason value: - value_float:  value_int: \n",
      "[WARN] unable to get value: sheet_name: MRINoObtainReason value: - value_float:  value_int: \n",
      "[WARN] unable to get value: sheet_name: MRINoObtainReason value: - value_float:  value_int: \n",
      "[WARN] unable to get value: sheet_name: MRINoObtainReason value: - value_float:  value_int: \n",
      "[WARN] unable to get value: sheet_name: MRINoObtainReason value: - value_float:  value_int: \n",
      "[WARN] unable to get value: sheet_name: MRINoObtainReason value: - value_float:  value_int: \n",
      "[WARN] unable to get value: sheet_name: MRINoObtainReason value: - value_float:  value_int: \n",
      "[WARN] unable to get value: sheet_name: MRINoObtainReason value: - value_float:  value_int: \n",
      "[WARN] unable to get value: sheet_name: MRINoObtainReason value: - value_float:  value_int: \n",
      "[WARN] unable to get value: sheet_name: MRINoObtainReason value: - value_float:  value_int: \n",
      "[WARN] unable to get value: sheet_name: MRINoObtainReason value: - value_float:  value_int: \n",
      "[WARN] unable to get value: sheet_name: MRINoObtainReason value: - value_float:  value_int: \n",
      "[WARN] unable to get value: sheet_name: MRINoObtainReason value: - value_float:  value_int: \n",
      "[WARN] unable to get value: sheet_name: MRINoObtainReason value: - value_float:  value_int: \n",
      "[WARN] unable to get value: sheet_name: MRINoObtainReason value: - value_float:  value_int: \n",
      "[WARN] unable to get value: sheet_name: MRINoObtainReason value: - value_float:  value_int: \n",
      "[WARN] unable to get value: sheet_name: MRINoObtainReason value: - value_float:  value_int: \n",
      "[WARN] unable to get value: sheet_name: MRINoObtainReason value: - value_float:  value_int: \n",
      "[WARN] unable to get value: sheet_name: MRINoObtainReason value: - value_float:  value_int: \n",
      "[WARN] unable to get value: sheet_name: MRINoObtainReason value: - value_float:  value_int: \n",
      "[WARN] unable to get value: sheet_name: MRINoObtainReason value: - value_float:  value_int: \n",
      "[WARN] unable to get value: sheet_name: MRINoObtainReason value: - value_float:  value_int: \n",
      "[WARN] unable to get value: sheet_name: MRINoObtainReason value: - value_float:  value_int: \n",
      "[WARN] unable to get value: sheet_name: MRINoObtainReason value: - value_float:  value_int: \n",
      "[WARN] unable to get value: sheet_name: MRINoObtainReason value: - value_float:  value_int: \n",
      "[WARN] unable to get value: sheet_name: MRINoObtainReason value: - value_float:  value_int: \n",
      "[WARN] unable to get value: sheet_name: MRINoObtainReason value: - value_float:  value_int: \n",
      "[WARN] unable to get value: sheet_name: MRINoObtainReason value: - value_float:  value_int: \n",
      "[WARN] unable to get value: sheet_name: MRINoObtainReason value: - value_float:  value_int: \n",
      "[WARN] unable to get value: sheet_name: MRINoObtainReason value: - value_float:  value_int: \n",
      "[WARN] unable to get value: sheet_name: MRINoObtainReason value: - value_float:  value_int: \n",
      "[WARN] unable to get value: sheet_name: MRINoObtainReason value: - value_float:  value_int: \n",
      "[WARN] unable to get value: sheet_name: MRINoObtainReason value: - value_float:  value_int: \n",
      "[WARN] unable to get value: sheet_name: MRINoObtainReason value: - value_float:  value_int: \n",
      "[WARN] unable to get value: sheet_name: MRINoObtainReason value: - value_float:  value_int: \n",
      "[WARN] unable to get value: sheet_name: MRINoObtainReason value: - value_float:  value_int: \n",
      "[WARN] unable to get value: sheet_name: MRINoObtainReason value: - value_float:  value_int: \n",
      "[WARN] unable to get value: sheet_name: MRINoObtainReason value: - value_float:  value_int: \n",
      "[WARN] unable to get value: sheet_name: MRINoObtainReason value: - value_float:  value_int: \n",
      "[WARN] unable to get value: sheet_name: MRINoObtainReason value: - value_float:  value_int: \n",
      "[WARN] unable to get value: sheet_name: MRINoObtainReason value: - value_float:  value_int: \n",
      "[WARN] unable to get value: sheet_name: MRINoObtainReason value: - value_float:  value_int: \n",
      "[WARN] unable to get value: sheet_name: MRINoObtainReason value: - value_float:  value_int: \n",
      "[WARN] unable to get value: sheet_name: MRINoObtainReason value: - value_float:  value_int: \n",
      "[WARN] unable to get value: sheet_name: MRINoObtainReason value: - value_float:  value_int: \n",
      "[WARN] unable to get value: sheet_name: MRINoObtainReason value: - value_float:  value_int: \n",
      "[WARN] unable to get value: sheet_name: MRINoObtainReason value: - value_float:  value_int: \n",
      "[WARN] unable to get value: sheet_name: MRINoObtainReason value: - value_float:  value_int: \n",
      "[WARN] unable to get value: sheet_name: MRINoObtainReason value: - value_float:  value_int: \n",
      "[WARN] unable to get value: sheet_name: MRINoObtainReason value: - value_float:  value_int: \n",
      "[WARN] unable to get value: sheet_name: MRINoObtainReason value: - value_float:  value_int: \n",
      "[WARN] unable to get value: sheet_name: MRINoObtainReason value: - value_float:  value_int: \n",
      "[WARN] unable to get value: sheet_name: MRINoObtainReason value: - value_float:  value_int: \n",
      "[WARN] unable to get value: sheet_name: MRINoObtainReason value: - value_float:  value_int: \n",
      "[WARN] unable to get value: sheet_name: MRINoObtainReason value: - value_float:  value_int: \n",
      "[WARN] unable to get value: sheet_name: MRINoObtainReason value: - value_float:  value_int: \n",
      "[WARN] unable to get value: sheet_name: MRINoObtainReason value: - value_float:  value_int: \n",
      "[WARN] unable to get value: sheet_name: MRINoObtainReason value: - value_float:  value_int: \n",
      "[WARN] unable to get value: sheet_name: MRINoObtainReason value: - value_float:  value_int: \n",
      "[WARN] unable to get value: sheet_name: MRINoObtainReason value: - value_float:  value_int: \n",
      "[WARN] unable to get value: sheet_name: MRINoObtainReason value: - value_float:  value_int: \n",
      "[WARN] unable to get value: sheet_name: MRINoObtainReason value: - value_float:  value_int: \n",
      "[WARN] unable to get value: sheet_name: MRINoObtainReason value: - value_float:  value_int: \n",
      "[WARN] unable to get value: sheet_name: MRINoObtainReason value: - value_float:  value_int: \n",
      "[WARN] unable to get value: sheet_name: MRINoObtainReason value: - value_float:  value_int: \n",
      "[WARN] unable to get value: sheet_name: MRINoObtainReason value: - value_float:  value_int: \n",
      "[WARN] unable to get value: sheet_name: MRINoObtainReason value: - value_float:  value_int: \n",
      "[WARN] unable to get value: sheet_name: MRINoObtainReason value: - value_float:  value_int: \n",
      "[WARN] unable to get value: sheet_name: MRINoObtainReason value: - value_float:  value_int: \n",
      "[WARN] unable to get value: sheet_name: MRINoObtainReason value: - value_float:  value_int: \n",
      "[WARN] unable to get value: sheet_name: MRINoObtainReason value: - value_float:  value_int: \n",
      "[WARN] unable to get value: sheet_name: MRINoObtainReason value: - value_float:  value_int: \n",
      "[WARN] unable to get value: sheet_name: MRINoObtainReason value: - value_float:  value_int: \n",
      "[WARN] unable to get value: sheet_name: MRINoObtainReason value: - value_float:  value_int: \n",
      "[WARN] unable to get value: sheet_name: MRINoObtainReason value: - value_float:  value_int: \n",
      "[WARN] unable to get value: sheet_name: MRINoObtainReason value: - value_float:  value_int: \n",
      "[WARN] unable to get value: sheet_name: MRINoObtainReason value: - value_float:  value_int: \n",
      "[WARN] unable to get value: sheet_name: MRINoObtainReason value: - value_float:  value_int: \n",
      "[WARN] unable to get value: sheet_name: MRINoObtainReason value: - value_float:  value_int: \n",
      "[WARN] unable to get value: sheet_name: MRINoObtainReason value: - value_float:  value_int: \n",
      "[WARN] unable to get value: sheet_name: MRINoObtainReason value: - value_float:  value_int: \n",
      "[WARN] unable to get value: sheet_name: MRINoObtainReason value: - value_float:  value_int: \n",
      "[WARN] unable to get value: sheet_name: MRINoObtainReason value: - value_float:  value_int: \n",
      "[WARN] unable to get value: sheet_name: MRINoObtainReason value: - value_float:  value_int: \n",
      "[WARN] unable to get value: sheet_name: MRINoObtainReason value: - value_float:  value_int: \n",
      "[WARN] unable to get value: sheet_name: MRINoObtainReason value: - value_float:  value_int: \n",
      "[WARN] unable to get value: sheet_name: MRINoObtainReason value: - value_float:  value_int: \n",
      "[WARN] unable to get value: sheet_name: MRINoObtainReason value: - value_float:  value_int: \n",
      "[WARN] unable to get value: sheet_name: MRINoObtainReason value: - value_float:  value_int: \n",
      "[WARN] unable to get value: sheet_name: MRINoObtainReason value: - value_float:  value_int: \n",
      "[WARN] unable to get value: sheet_name: MRINoObtainReason value: - value_float:  value_int: \n",
      "[WARN] unable to get value: sheet_name: MRINoObtainReason value: - value_float:  value_int: \n",
      "[WARN] unable to get value: sheet_name: MRINoObtainReason value: - value_float:  value_int: \n",
      "[WARN] unable to get value: sheet_name: MRINoObtainReason value: - value_float:  value_int: \n",
      "[WARN] unable to get value: sheet_name: MRINoObtainReason value: - value_float:  value_int: \n",
      "[WARN] unable to get value: sheet_name: MRINoObtainReason value: - value_float:  value_int: \n",
      "[WARN] unable to get value: sheet_name: MRINoObtainReason value: - value_float:  value_int: \n",
      "[WARN] unable to get value: sheet_name: MRINoObtainReason value: - value_float:  value_int: \n",
      "[WARN] unable to get value: sheet_name: MRINoObtainReason value: - value_float:  value_int: \n",
      "[WARN] unable to get value: sheet_name: MRINoObtainReason value: - value_float:  value_int: \n",
      "[WARN] unable to get value: sheet_name: MRINoObtainReason value: - value_float:  value_int: \n",
      "[WARN] unable to get value: sheet_name: MRINoObtainReason value: - value_float:  value_int: \n",
      "[WARN] unable to get value: sheet_name: MRINoObtainReason value: - value_float:  value_int: \n",
      "[WARN] unable to get value: sheet_name: MRINoObtainReason value: - value_float:  value_int: \n",
      "[WARN] unable to get value: sheet_name: MRINoObtainReason value: - value_float:  value_int: \n",
      "[WARN] unable to get value: sheet_name: MRINoObtainReason value: - value_float:  value_int: \n",
      "[WARN] unable to get value: sheet_name: MRINoObtainReason value: - value_float:  value_int: \n",
      "[WARN] unable to get value: sheet_name: MRINoObtainReason value: - value_float:  value_int: \n",
      "[WARN] unable to get value: sheet_name: MRINoObtainReason value: - value_float:  value_int: \n",
      "[WARN] unable to get value: sheet_name: MRINoObtainReason value: - value_float:  value_int: \n",
      "[WARN] unable to get value: sheet_name: MRINoObtainReason value: - value_float:  value_int: \n",
      "[WARN] unable to get value: sheet_name: MRINoObtainReason value: - value_float:  value_int: \n",
      "[WARN] unable to get value: sheet_name: MRINoObtainReason value: - value_float:  value_int: \n",
      "[WARN] unable to get value: sheet_name: MRINoObtainReason value: - value_float:  value_int: \n",
      "[WARN] unable to get value: sheet_name: MRINoObtainReason value: - value_float:  value_int: \n",
      "[WARN] unable to get value: sheet_name: MRINoObtainReason value: - value_float:  value_int: \n",
      "[WARN] unable to get value: sheet_name: MRINoObtainReason value: - value_float:  value_int: \n",
      "[WARN] unable to get value: sheet_name: MRINoObtainReason value: - value_float:  value_int: \n",
      "[WARN] unable to get value: sheet_name: MRINoObtainReason value: - value_float:  value_int: \n",
      "[WARN] unable to get value: sheet_name: MRINoObtainReason value: - value_float:  value_int: \n",
      "[WARN] unable to get value: sheet_name: MRINoObtainReason value: - value_float:  value_int: \n",
      "[WARN] unable to get value: sheet_name: MRINoObtainReason value: - value_float:  value_int: \n",
      "[WARN] unable to get value: sheet_name: MRINoObtainReason value: - value_float:  value_int: \n",
      "[WARN] unable to get value: sheet_name: MRINoObtainReason value: - value_float:  value_int: \n",
      "[WARN] unable to get value: sheet_name: MRINoObtainReason value: - value_float:  value_int: \n",
      "[WARN] unable to get value: sheet_name: MRINoObtainReason value: - value_float:  value_int: \n",
      "[WARN] unable to get value: sheet_name: MRINoObtainReason value: - value_float:  value_int: \n",
      "[WARN] unable to get value: sheet_name: MRINoObtainReason value: - value_float:  value_int: \n",
      "[WARN] unable to get value: sheet_name: MRINoObtainReason value: - value_float:  value_int: \n",
      "[WARN] unable to get value: sheet_name: MRINoObtainReason value: - value_float:  value_int: \n",
      "[WARN] unable to get value: sheet_name: MRINoObtainReason value: - value_float:  value_int: \n",
      "[WARN] unable to get value: sheet_name: MRINoObtainReason value: - value_float:  value_int: \n",
      "[WARN] unable to get value: sheet_name: MRINoObtainReason value: - value_float:  value_int: \n",
      "[WARN] unable to get value: sheet_name: MRINoObtainReason value: - value_float:  value_int: \n",
      "[WARN] unable to get value: sheet_name: MRINoObtainReason value: - value_float:  value_int: \n",
      "[WARN] unable to get value: sheet_name: MRINoObtainReason value: - value_float:  value_int: \n",
      "[WARN] unable to get value: sheet_name: MRINoObtainReason value: - value_float:  value_int: \n",
      "[WARN] unable to get value: sheet_name: MRINoObtainReason value: - value_float:  value_int: \n",
      "[WARN] unable to get value: sheet_name: MRINoObtainReason value: - value_float:  value_int: \n",
      "[WARN] unable to get value: sheet_name: MRINoObtainReason value: - value_float:  value_int: \n",
      "[WARN] unable to get value: sheet_name: MRINoObtainReason value: - value_float:  value_int: \n",
      "[WARN] unable to get value: sheet_name: MRINoObtainReason value: - value_float:  value_int: \n",
      "[WARN] unable to get value: sheet_name: MRINoObtainReason value: - value_float:  value_int: \n",
      "[WARN] unable to get value: sheet_name: MRINoObtainReason value: - value_float:  value_int: \n",
      "[WARN] unable to get value: sheet_name: MRINoObtainReason value: - value_float:  value_int: \n",
      "[WARN] unable to get value: sheet_name: MRINoObtainReason value: - value_float:  value_int: \n",
      "[WARN] unable to get value: sheet_name: MRINoObtainReason value: - value_float:  value_int: \n",
      "[WARN] unable to get value: sheet_name: MRINoObtainReason value: - value_float:  value_int: \n",
      "[WARN] unable to get value: sheet_name: MRINoObtainReason value: - value_float:  value_int: \n",
      "[WARN] unable to get value: sheet_name: MRINoObtainReason value: - value_float:  value_int: \n",
      "[WARN] unable to get value: sheet_name: MRINoObtainReason value: - value_float:  value_int: \n",
      "[WARN] unable to get value: sheet_name: MRINoObtainReason value: - value_float:  value_int: \n",
      "[WARN] unable to get value: sheet_name: MRINoObtainReason value: - value_float:  value_int: \n",
      "[WARN] unable to get value: sheet_name: MRINoObtainReason value: - value_float:  value_int: \n",
      "[WARN] unable to get value: sheet_name: MRINoObtainReason value: - value_float:  value_int: \n",
      "[WARN] unable to get value: sheet_name: MRINoObtainReason value: - value_float:  value_int: \n",
      "[WARN] unable to get value: sheet_name: MRINoObtainReason value: - value_float:  value_int: \n",
      "[WARN] unable to get value: sheet_name: MRINoObtainReason value: - value_float:  value_int: \n",
      "[WARN] unable to get value: sheet_name: MRINoObtainReason value: - value_float:  value_int: \n",
      "[WARN] unable to get value: sheet_name: MRINoObtainReason value: - value_float:  value_int: \n",
      "[WARN] unable to get value: sheet_name: MRINoObtainReason value: - value_float:  value_int: \n",
      "[WARN] unable to get value: sheet_name: MRINoObtainReason value: - value_float:  value_int: \n",
      "[WARN] unable to get value: sheet_name: MRINoObtainReason value: - value_float:  value_int: \n",
      "[WARN] unable to get value: sheet_name: MRINoObtainReason value: - value_float:  value_int: \n",
      "[WARN] unable to get value: sheet_name: MRINoObtainReason value: - value_float:  value_int: \n",
      "[WARN] unable to get value: sheet_name: MRINoObtainReason value: - value_float:  value_int: \n",
      "[WARN] unable to get value: sheet_name: MRINoObtainReason value: - value_float:  value_int: \n",
      "[WARN] unable to get value: sheet_name: MRINoObtainReason value: - value_float:  value_int: \n",
      "[WARN] unable to get value: sheet_name: MRINoObtainReason value: - value_float:  value_int: \n",
      "[WARN] unable to get value: sheet_name: MRINoObtainReason value: - value_float:  value_int: \n",
      "[WARN] unable to get value: sheet_name: MRINoObtainReason value: - value_float:  value_int: \n",
      "[WARN] unable to get value: sheet_name: MRINoObtainReason value: - value_float:  value_int: \n",
      "[WARN] unable to get value: sheet_name: MRINoObtainReason value: - value_float:  value_int: \n",
      "[WARN] unable to get value: sheet_name: MRINoObtainReason value: - value_float:  value_int: \n",
      "[WARN] unable to get value: sheet_name: MRINoObtainReason value: - value_float:  value_int: \n",
      "[WARN] unable to get value: sheet_name: MRINoObtainReason value: - value_float:  value_int: \n",
      "[WARN] unable to get value: sheet_name: MRINoObtainReason value: - value_float:  value_int: \n",
      "[WARN] unable to get value: sheet_name: MRINoObtainReason value: - value_float:  value_int: \n",
      "[WARN] unable to get value: sheet_name: MRINoObtainReason value: - value_float:  value_int: \n",
      "[WARN] unable to get value: sheet_name: MRINoObtainReason value: - value_float:  value_int: \n",
      "[WARN] unable to get value: sheet_name: MRINoObtainReason value: - value_float:  value_int: \n",
      "[WARN] unable to get value: sheet_name: MRINoObtainReason value: - value_float:  value_int: \n",
      "[WARN] unable to get value: sheet_name: MRINoObtainReason value: - value_float:  value_int: \n",
      "[WARN] unable to get value: sheet_name: MRINoObtainReason value: - value_float:  value_int: \n",
      "[WARN] unable to get value: sheet_name: MRINoObtainReason value: - value_float:  value_int: \n",
      "[WARN] unable to get value: sheet_name: MRINoObtainReason value: - value_float:  value_int: \n",
      "[WARN] unable to get value: sheet_name: MRINoObtainReason value: - value_float:  value_int: \n",
      "[WARN] unable to get value: sheet_name: MRINoObtainReason value: - value_float:  value_int: \n",
      "[WARN] unable to get value: sheet_name: MRINoObtainReason value: - value_float:  value_int: \n",
      "[WARN] unable to get value: sheet_name: MRINoObtainReason value: - value_float:  value_int: \n",
      "[WARN] unable to get value: sheet_name: MRINoObtainReason value: - value_float:  value_int: \n",
      "[WARN] unable to get value: sheet_name: MRINoObtainReason value: - value_float:  value_int: \n",
      "[WARN] unable to get value: sheet_name: MRINoObtainReason value: - value_float:  value_int: \n",
      "[WARN] unable to get value: sheet_name: MRINoObtainReason value: - value_float:  value_int: \n",
      "[WARN] unable to get value: sheet_name: MRINoObtainReason value: - value_float:  value_int: \n",
      "[WARN] unable to get value: sheet_name: MRINoObtainReason value: - value_float:  value_int: \n",
      "[WARN] unable to get value: sheet_name: MRINoObtainReason value: - value_float:  value_int: \n",
      "[WARN] unable to get value: sheet_name: MRINoObtainReason value: - value_float:  value_int: \n",
      "[WARN] unable to get value: sheet_name: MRINoObtainReason value: - value_float:  value_int: \n",
      "[WARN] unable to get value: sheet_name: MRINoObtainReason value: - value_float:  value_int: \n",
      "[WARN] unable to get value: sheet_name: MRINoObtainReason value: - value_float:  value_int: \n",
      "[WARN] unable to get value: sheet_name: MRINoObtainReason value: - value_float:  value_int: \n",
      "[WARN] unable to get value: sheet_name: MRINoObtainReason value: - value_float:  value_int: \n",
      "[WARN] unable to get value: sheet_name: MRINoObtainReason value: - value_float:  value_int: \n",
      "[WARN] unable to get value: sheet_name: MRINoObtainReason value: - value_float:  value_int: \n",
      "[WARN] unable to get value: sheet_name: MRINoObtainReason value: - value_float:  value_int: \n",
      "[WARN] unable to get value: sheet_name: MRINoObtainReason value: - value_float:  value_int: \n",
      "[WARN] unable to get value: sheet_name: MRINoObtainReason value: - value_float:  value_int: \n",
      "[WARN] unable to get value: sheet_name: MRINoObtainReason value: - value_float:  value_int: \n",
      "[WARN] unable to get value: sheet_name: MRINoObtainReason value: - value_float:  value_int: \n",
      "[WARN] unable to get value: sheet_name: MRINoObtainReason value: - value_float:  value_int: \n",
      "[WARN] unable to get value: sheet_name: MRINoObtainReason value: - value_float:  value_int: \n",
      "[WARN] unable to get value: sheet_name: MRINoObtainReason value: - value_float:  value_int: \n",
      "[WARN] unable to get value: sheet_name: MRINoObtainReason value: - value_float:  value_int: \n",
      "[WARN] unable to get value: sheet_name: MRINoObtainReason value: - value_float:  value_int: \n",
      "[WARN] unable to get value: sheet_name: MRINoObtainReason value: - value_float:  value_int: \n",
      "[WARN] unable to get value: sheet_name: MRINoObtainReason value: - value_float:  value_int: \n",
      "[WARN] unable to get value: sheet_name: MRINoObtainReason value: - value_float:  value_int: \n",
      "[WARN] unable to get value: sheet_name: MRINoObtainReason value: - value_float:  value_int: \n",
      "[WARN] unable to get value: sheet_name: MRINoObtainReason value: - value_float:  value_int: \n",
      "[WARN] unable to get value: sheet_name: MRINoObtainReason value: - value_float:  value_int: \n",
      "[WARN] unable to get value: sheet_name: MRINoObtainReason value: - value_float:  value_int: \n",
      "[WARN] unable to get value: sheet_name: MRINoObtainReason value: - value_float:  value_int: \n",
      "[WARN] unable to get value: sheet_name: MRINoObtainReason value: - value_float:  value_int: \n",
      "[WARN] unable to get value: sheet_name: MRINoObtainReason value: - value_float:  value_int: \n",
      "[WARN] unable to get value: sheet_name: MRINoObtainReason value: - value_float:  value_int: \n",
      "[WARN] unable to get value: sheet_name: MRINoObtainReason value: - value_float:  value_int: \n",
      "[WARN] unable to get value: sheet_name: MRINoObtainReason value: - value_float:  value_int: \n",
      "[WARN] unable to get value: sheet_name: MRINoObtainReason value: - value_float:  value_int: \n",
      "[WARN] unable to get value: sheet_name: MRINoObtainReason value: - value_float:  value_int: \n",
      "[WARN] unable to get value: sheet_name: MRINoObtainReason value: - value_float:  value_int: \n",
      "[WARN] unable to get value: sheet_name: MRINoObtainReason value: - value_float:  value_int: \n",
      "[WARN] unable to get value: sheet_name: MRINoObtainReason value: - value_float:  value_int: \n",
      "[WARN] unable to get value: sheet_name: MRINoObtainReason value: - value_float:  value_int: \n",
      "[WARN] unable to get value: sheet_name: MRINoObtainReason value: - value_float:  value_int: \n",
      "[WARN] unable to get value: sheet_name: MRINoObtainReason value: - value_float:  value_int: \n",
      "[WARN] unable to get value: sheet_name: MRINoObtainReason value: - value_float:  value_int: \n",
      "[WARN] unable to get value: sheet_name: MRINoObtainReason value: - value_float:  value_int: \n",
      "[WARN] unable to get value: sheet_name: MRINoObtainReason value: - value_float:  value_int: \n",
      "[WARN] unable to get value: sheet_name: MRINoObtainReason value: - value_float:  value_int: \n",
      "[WARN] unable to get value: sheet_name: MRINoObtainReason value: - value_float:  value_int: \n",
      "[WARN] unable to get value: sheet_name: MRINoObtainReason value: - value_float:  value_int: \n",
      "[WARN] unable to get value: sheet_name: MRINoObtainReason value: - value_float:  value_int: \n",
      "[WARN] unable to get value: sheet_name: MRINoObtainReason value: - value_float:  value_int: \n",
      "[WARN] unable to get value: sheet_name: MRINoObtainReason value: - value_float:  value_int: \n",
      "[WARN] unable to get value: sheet_name: MRINoObtainReason value: - value_float:  value_int: \n",
      "[WARN] unable to get value: sheet_name: MRINoObtainReason value: - value_float:  value_int: \n",
      "[WARN] unable to get value: sheet_name: MRINoObtainReason value: - value_float:  value_int: \n",
      "[WARN] unable to get value: sheet_name: MRINoObtainReason value: - value_float:  value_int: \n",
      "[WARN] unable to get value: sheet_name: MRINoObtainReason value: - value_float:  value_int: \n",
      "[WARN] unable to get value: sheet_name: MRINoObtainReason value: - value_float:  value_int: \n",
      "[WARN] unable to get value: sheet_name: MRINoObtainReason value: - value_float:  value_int: \n",
      "[WARN] unable to get value: sheet_name: MRINoObtainReason value: - value_float:  value_int: \n",
      "[WARN] unable to get value: sheet_name: MRINoObtainReason value: - value_float:  value_int: \n",
      "[WARN] unable to get value: sheet_name: MRINoObtainReason value: - value_float:  value_int: \n",
      "[WARN] unable to get value: sheet_name: MRINoObtainReason value: - value_float:  value_int: \n",
      "[WARN] unable to get value: sheet_name: MRINoObtainReason value: - value_float:  value_int: \n",
      "[WARN] unable to get value: sheet_name: MRINoObtainReason value: - value_float:  value_int: \n",
      "[WARN] unable to get value: sheet_name: MRINoObtainReason value: - value_float:  value_int: \n",
      "[WARN] unable to get value: sheet_name: MRINoObtainReason value: - value_float:  value_int: \n",
      "[WARN] unable to get value: sheet_name: MRINoObtainReason value: - value_float:  value_int: \n",
      "[WARN] unable to get value: sheet_name: MRINoObtainReason value: - value_float:  value_int: \n",
      "[WARN] unable to get value: sheet_name: MRINoObtainReason value: - value_float:  value_int: \n",
      "[WARN] unable to get value: sheet_name: MRINoObtainReason value: - value_float:  value_int: \n",
      "[WARN] unable to get value: sheet_name: MRINoObtainReason value: - value_float:  value_int: \n",
      "[WARN] unable to get value: sheet_name: MRINoObtainReason value: - value_float:  value_int: \n",
      "[WARN] unable to get value: sheet_name: MRINoObtainReason value: - value_float:  value_int: \n",
      "[WARN] unable to get value: sheet_name: MRINoObtainReason value: - value_float:  value_int: \n",
      "[WARN] unable to get value: sheet_name: MRINoObtainReason value: - value_float:  value_int: \n",
      "[WARN] unable to get value: sheet_name: MRINoObtainReason value: - value_float:  value_int: \n",
      "[WARN] unable to get value: sheet_name: MRINoObtainReason value: - value_float:  value_int: \n",
      "[WARN] unable to get value: sheet_name: MRINoObtainReason value: - value_float:  value_int: \n",
      "[WARN] unable to get value: sheet_name: MRINoObtainReason value: - value_float:  value_int: \n",
      "[WARN] unable to get value: sheet_name: MRINoObtainReason value: - value_float:  value_int: \n",
      "[WARN] unable to get value: sheet_name: MRINoObtainReason value: - value_float:  value_int: \n",
      "[WARN] unable to get value: sheet_name: MRINoObtainReason value: - value_float:  value_int: \n",
      "[WARN] unable to get value: sheet_name: MRINoObtainReason value: - value_float:  value_int: \n",
      "[WARN] unable to get value: sheet_name: MRINoObtainReason value: - value_float:  value_int: \n",
      "[WARN] unable to get value: sheet_name: MRINoObtainReason value: - value_float:  value_int: \n",
      "[WARN] unable to get value: sheet_name: MRINoObtainReason value: - value_float:  value_int: \n",
      "[WARN] unable to get value: sheet_name: MRINoObtainReason value: - value_float:  value_int: \n",
      "[WARN] unable to get value: sheet_name: MRINoObtainReason value: - value_float:  value_int: \n",
      "[WARN] unable to get value: sheet_name: MRINoObtainReason value: - value_float:  value_int: \n",
      "[WARN] unable to get value: sheet_name: MRINoObtainReason value: - value_float:  value_int: \n",
      "[WARN] unable to get value: sheet_name: MRINoObtainReason value: - value_float:  value_int: \n",
      "[WARN] unable to get value: sheet_name: MRINoObtainReason value: - value_float:  value_int: \n",
      "[WARN] unable to get value: sheet_name: MRINoObtainReason value: - value_float:  value_int: \n",
      "[WARN] unable to get value: sheet_name: MRINoObtainReason value: - value_float:  value_int: \n",
      "[WARN] unable to get value: sheet_name: MRINoObtainReason value: - value_float:  value_int: \n",
      "[WARN] unable to get value: sheet_name: MRINoObtainReason value: - value_float:  value_int: \n",
      "[WARN] unable to get value: sheet_name: MRINoObtainReason value: - value_float:  value_int: \n",
      "[WARN] unable to get value: sheet_name: MRINoObtainReason value: - value_float:  value_int: \n",
      "[WARN] unable to get value: sheet_name: MRINoObtainReason value: - value_float:  value_int: \n",
      "[WARN] unable to get value: sheet_name: MRINoObtainReason value: - value_float:  value_int: \n",
      "[WARN] unable to get value: sheet_name: MRINoObtainReason value: - value_float:  value_int: \n",
      "[WARN] unable to get value: sheet_name: MRINoObtainReason value: - value_float:  value_int: \n",
      "[WARN] unable to get value: sheet_name: MRINoObtainReason value: - value_float:  value_int: \n",
      "[WARN] unable to get value: sheet_name: MRINoObtainReason value: - value_float:  value_int: \n",
      "[WARN] unable to get value: sheet_name: MRINoObtainReason value: - value_float:  value_int: \n",
      "[WARN] unable to get value: sheet_name: MRINoObtainReason value: - value_float:  value_int: \n",
      "[WARN] unable to get value: sheet_name: MRINoObtainReason value: - value_float:  value_int: \n",
      "[WARN] unable to get value: sheet_name: MRINoObtainReason value: - value_float:  value_int: \n",
      "[WARN] unable to get value: sheet_name: MRINoObtainReason value: - value_float:  value_int: \n",
      "(6/66) normalize_value: column: MRINoObtainReason_c\n",
      "(7/66) normalize_value: column: MRINoObtainReasonText\n",
      "(8/66) normalize_value: column: MRIObtainWindow\n",
      "[WARN] unable to get value: sheet_name: MRIObtainWindow value: - value_float:  value_int: \n",
      "[WARN] unable to get value: sheet_name: MRIObtainWindow value: - value_float:  value_int: \n",
      "[WARN] unable to get value: sheet_name: MRIObtainWindow value: - value_float:  value_int: \n",
      "[WARN] unable to get value: sheet_name: MRIObtainWindow value: - value_float:  value_int: \n",
      "[WARN] unable to get value: sheet_name: MRIObtainWindow value: - value_float:  value_int: \n",
      "[WARN] unable to get value: sheet_name: MRIObtainWindow value: - value_float:  value_int: \n",
      "[WARN] unable to get value: sheet_name: MRIObtainWindow value: - value_float:  value_int: \n",
      "[WARN] unable to get value: sheet_name: MRIObtainWindow value: - value_float:  value_int: \n",
      "[WARN] unable to get value: sheet_name: MRIObtainWindow value: - value_float:  value_int: \n",
      "[WARN] unable to get value: sheet_name: MRIObtainWindow value: - value_float:  value_int: \n",
      "[WARN] unable to get value: sheet_name: MRIObtainWindow value: - value_float:  value_int: \n",
      "[WARN] unable to get value: sheet_name: MRIObtainWindow value: - value_float:  value_int: \n",
      "[WARN] unable to get value: sheet_name: MRIObtainWindow value: - value_float:  value_int: \n",
      "[WARN] unable to get value: sheet_name: MRIObtainWindow value: - value_float:  value_int: \n",
      "[WARN] unable to get value: sheet_name: MRIObtainWindow value: - value_float:  value_int: \n",
      "[WARN] unable to get value: sheet_name: MRIObtainWindow value: - value_float:  value_int: \n",
      "[WARN] unable to get value: sheet_name: MRIObtainWindow value: - value_float:  value_int: \n",
      "[WARN] unable to get value: sheet_name: MRIObtainWindow value: - value_float:  value_int: \n",
      "[WARN] unable to get value: sheet_name: MRIObtainWindow value: - value_float:  value_int: \n",
      "[WARN] unable to get value: sheet_name: MRIObtainWindow value: - value_float:  value_int: \n",
      "[WARN] unable to get value: sheet_name: MRIObtainWindow value: - value_float:  value_int: \n",
      "[WARN] unable to get value: sheet_name: MRIObtainWindow value: - value_float:  value_int: \n",
      "[WARN] unable to get value: sheet_name: MRIObtainWindow value: - value_float:  value_int: \n",
      "[WARN] unable to get value: sheet_name: MRIObtainWindow value: - value_float:  value_int: \n",
      "[WARN] unable to get value: sheet_name: MRIObtainWindow value: - value_float:  value_int: \n",
      "[WARN] unable to get value: sheet_name: MRIObtainWindow value: - value_float:  value_int: \n",
      "[WARN] unable to get value: sheet_name: MRIObtainWindow value: - value_float:  value_int: \n",
      "[WARN] unable to get value: sheet_name: MRIObtainWindow value: - value_float:  value_int: \n",
      "[WARN] unable to get value: sheet_name: MRIObtainWindow value: - value_float:  value_int: \n",
      "[WARN] unable to get value: sheet_name: MRIObtainWindow value: - value_float:  value_int: \n",
      "[WARN] unable to get value: sheet_name: MRIObtainWindow value: - value_float:  value_int: \n",
      "[WARN] unable to get value: sheet_name: MRIObtainWindow value: - value_float:  value_int: \n",
      "[WARN] unable to get value: sheet_name: MRIObtainWindow value: - value_float:  value_int: \n",
      "[WARN] unable to get value: sheet_name: MRIObtainWindow value: - value_float:  value_int: \n",
      "[WARN] unable to get value: sheet_name: MRIObtainWindow value: - value_float:  value_int: \n",
      "[WARN] unable to get value: sheet_name: MRIObtainWindow value: - value_float:  value_int: \n",
      "[WARN] unable to get value: sheet_name: MRIObtainWindow value: - value_float:  value_int: \n",
      "[WARN] unable to get value: sheet_name: MRIObtainWindow value: - value_float:  value_int: \n",
      "[WARN] unable to get value: sheet_name: MRIObtainWindow value: - value_float:  value_int: \n",
      "[WARN] unable to get value: sheet_name: MRIObtainWindow value: - value_float:  value_int: \n",
      "[WARN] unable to get value: sheet_name: MRIObtainWindow value: - value_float:  value_int: \n",
      "[WARN] unable to get value: sheet_name: MRIObtainWindow value: - value_float:  value_int: \n",
      "[WARN] unable to get value: sheet_name: MRIObtainWindow value: - value_float:  value_int: \n",
      "[WARN] unable to get value: sheet_name: MRIObtainWindow value: - value_float:  value_int: \n",
      "[WARN] unable to get value: sheet_name: MRIObtainWindow value: - value_float:  value_int: \n",
      "[WARN] unable to get value: sheet_name: MRIObtainWindow value: - value_float:  value_int: \n",
      "[WARN] unable to get value: sheet_name: MRIObtainWindow value: - value_float:  value_int: \n",
      "[WARN] unable to get value: sheet_name: MRIObtainWindow value: - value_float:  value_int: \n",
      "[WARN] unable to get value: sheet_name: MRIObtainWindow value: - value_float:  value_int: \n",
      "[WARN] unable to get value: sheet_name: MRIObtainWindow value: - value_float:  value_int: \n",
      "[WARN] unable to get value: sheet_name: MRIObtainWindow value: - value_float:  value_int: \n",
      "[WARN] unable to get value: sheet_name: MRIObtainWindow value: - value_float:  value_int: \n",
      "[WARN] unable to get value: sheet_name: MRIObtainWindow value: - value_float:  value_int: \n",
      "[WARN] unable to get value: sheet_name: MRIObtainWindow value: - value_float:  value_int: \n",
      "[WARN] unable to get value: sheet_name: MRIObtainWindow value: - value_float:  value_int: \n",
      "[WARN] unable to get value: sheet_name: MRIObtainWindow value: - value_float:  value_int: \n",
      "[WARN] unable to get value: sheet_name: MRIObtainWindow value: - value_float:  value_int: \n",
      "[WARN] unable to get value: sheet_name: MRIObtainWindow value: - value_float:  value_int: \n",
      "[WARN] unable to get value: sheet_name: MRIObtainWindow value: - value_float:  value_int: \n",
      "[WARN] unable to get value: sheet_name: MRIObtainWindow value: - value_float:  value_int: \n",
      "[WARN] unable to get value: sheet_name: MRIObtainWindow value: - value_float:  value_int: \n",
      "[WARN] unable to get value: sheet_name: MRIObtainWindow value: - value_float:  value_int: \n",
      "[WARN] unable to get value: sheet_name: MRIObtainWindow value: - value_float:  value_int: \n",
      "[WARN] unable to get value: sheet_name: MRIObtainWindow value: - value_float:  value_int: \n",
      "[WARN] unable to get value: sheet_name: MRIObtainWindow value: - value_float:  value_int: \n",
      "[WARN] unable to get value: sheet_name: MRIObtainWindow value: - value_float:  value_int: \n",
      "[WARN] unable to get value: sheet_name: MRIObtainWindow value: - value_float:  value_int: \n",
      "[WARN] unable to get value: sheet_name: MRIObtainWindow value: - value_float:  value_int: \n",
      "[WARN] unable to get value: sheet_name: MRIObtainWindow value: - value_float:  value_int: \n",
      "[WARN] unable to get value: sheet_name: MRIObtainWindow value: - value_float:  value_int: \n",
      "[WARN] unable to get value: sheet_name: MRIObtainWindow value: - value_float:  value_int: \n",
      "[WARN] unable to get value: sheet_name: MRIObtainWindow value: - value_float:  value_int: \n",
      "[WARN] unable to get value: sheet_name: MRIObtainWindow value: - value_float:  value_int: \n",
      "[WARN] unable to get value: sheet_name: MRIObtainWindow value: - value_float:  value_int: \n",
      "[WARN] unable to get value: sheet_name: MRIObtainWindow value: - value_float:  value_int: \n",
      "[WARN] unable to get value: sheet_name: MRIObtainWindow value: - value_float:  value_int: \n",
      "[WARN] unable to get value: sheet_name: MRIObtainWindow value: - value_float:  value_int: \n",
      "[WARN] unable to get value: sheet_name: MRIObtainWindow value: - value_float:  value_int: \n",
      "[WARN] unable to get value: sheet_name: MRIObtainWindow value: - value_float:  value_int: \n",
      "[WARN] unable to get value: sheet_name: MRIObtainWindow value: - value_float:  value_int: \n",
      "[WARN] unable to get value: sheet_name: MRIObtainWindow value: - value_float:  value_int: \n",
      "[WARN] unable to get value: sheet_name: MRIObtainWindow value: - value_float:  value_int: \n",
      "[WARN] unable to get value: sheet_name: MRIObtainWindow value: - value_float:  value_int: \n",
      "[WARN] unable to get value: sheet_name: MRIObtainWindow value: - value_float:  value_int: \n",
      "[WARN] unable to get value: sheet_name: MRIObtainWindow value: - value_float:  value_int: \n",
      "[WARN] unable to get value: sheet_name: MRIObtainWindow value: - value_float:  value_int: \n",
      "[WARN] unable to get value: sheet_name: MRIObtainWindow value: - value_float:  value_int: \n",
      "[WARN] unable to get value: sheet_name: MRIObtainWindow value: - value_float:  value_int: \n",
      "[WARN] unable to get value: sheet_name: MRIObtainWindow value: - value_float:  value_int: \n",
      "[WARN] unable to get value: sheet_name: MRIObtainWindow value: - value_float:  value_int: \n",
      "[WARN] unable to get value: sheet_name: MRIObtainWindow value: - value_float:  value_int: \n",
      "[WARN] unable to get value: sheet_name: MRIObtainWindow value: - value_float:  value_int: \n",
      "[WARN] unable to get value: sheet_name: MRIObtainWindow value: - value_float:  value_int: \n",
      "[WARN] unable to get value: sheet_name: MRIObtainWindow value: - value_float:  value_int: \n",
      "[WARN] unable to get value: sheet_name: MRIObtainWindow value: - value_float:  value_int: \n",
      "[WARN] unable to get value: sheet_name: MRIObtainWindow value: - value_float:  value_int: \n",
      "[WARN] unable to get value: sheet_name: MRIObtainWindow value: - value_float:  value_int: \n",
      "[WARN] unable to get value: sheet_name: MRIObtainWindow value: - value_float:  value_int: \n",
      "[WARN] unable to get value: sheet_name: MRIObtainWindow value: - value_float:  value_int: \n",
      "[WARN] unable to get value: sheet_name: MRIObtainWindow value: - value_float:  value_int: \n",
      "[WARN] unable to get value: sheet_name: MRIObtainWindow value: - value_float:  value_int: \n",
      "[WARN] unable to get value: sheet_name: MRIObtainWindow value: - value_float:  value_int: \n",
      "[WARN] unable to get value: sheet_name: MRIObtainWindow value: - value_float:  value_int: \n",
      "[WARN] unable to get value: sheet_name: MRIObtainWindow value: - value_float:  value_int: \n",
      "[WARN] unable to get value: sheet_name: MRIObtainWindow value: - value_float:  value_int: \n",
      "[WARN] unable to get value: sheet_name: MRIObtainWindow value: - value_float:  value_int: \n",
      "[WARN] unable to get value: sheet_name: MRIObtainWindow value: - value_float:  value_int: \n",
      "[WARN] unable to get value: sheet_name: MRIObtainWindow value: - value_float:  value_int: \n",
      "[WARN] unable to get value: sheet_name: MRIObtainWindow value: - value_float:  value_int: \n",
      "[WARN] unable to get value: sheet_name: MRIObtainWindow value: - value_float:  value_int: \n",
      "[WARN] unable to get value: sheet_name: MRIObtainWindow value: - value_float:  value_int: \n",
      "[WARN] unable to get value: sheet_name: MRIObtainWindow value: - value_float:  value_int: \n",
      "[WARN] unable to get value: sheet_name: MRIObtainWindow value: - value_float:  value_int: \n",
      "[WARN] unable to get value: sheet_name: MRIObtainWindow value: - value_float:  value_int: \n",
      "[WARN] unable to get value: sheet_name: MRIObtainWindow value: - value_float:  value_int: \n",
      "[WARN] unable to get value: sheet_name: MRIObtainWindow value: - value_float:  value_int: \n",
      "[WARN] unable to get value: sheet_name: MRIObtainWindow value: - value_float:  value_int: \n",
      "[WARN] unable to get value: sheet_name: MRIObtainWindow value: - value_float:  value_int: \n",
      "[WARN] unable to get value: sheet_name: MRIObtainWindow value: - value_float:  value_int: \n",
      "[WARN] unable to get value: sheet_name: MRIObtainWindow value: - value_float:  value_int: \n",
      "[WARN] unable to get value: sheet_name: MRIObtainWindow value: - value_float:  value_int: \n",
      "[WARN] unable to get value: sheet_name: MRIObtainWindow value: - value_float:  value_int: \n",
      "[WARN] unable to get value: sheet_name: MRIObtainWindow value: - value_float:  value_int: \n",
      "[WARN] unable to get value: sheet_name: MRIObtainWindow value: - value_float:  value_int: \n",
      "[WARN] unable to get value: sheet_name: MRIObtainWindow value: - value_float:  value_int: \n",
      "[WARN] unable to get value: sheet_name: MRIObtainWindow value: - value_float:  value_int: \n",
      "[WARN] unable to get value: sheet_name: MRIObtainWindow value: - value_float:  value_int: \n",
      "(9/66) normalize_value: column: MRIObtainWindow_c\n",
      "(10/66) normalize_value: column: MRIObtainComment\n",
      "(11/66) normalize_value: column: MRIDate\n",
      "(12/66) normalize_value: column: MRITime\n",
      "(13/66) normalize_value: column: MRISendRTIDate\n",
      "(14/66) normalize_value: column: MRIReceiveRTIDate\n",
      "(15/66) normalize_value: column: MRIOtherCerebralLesion\n",
      "(16/66) normalize_value: column: MRIEdema\n",
      "(17/66) normalize_value: column: MRIOverallDiagnosisMerge\n",
      "(18/66) normalize_value: column: MRINRNPatternOfInjury\n",
      "(19/66) normalize_value: column: MRIAge_day\n",
      "(20/66) normalize_value: column: MRIHemisphericDevastation\n",
      "(21/66) normalize_value: column: MRIFrontalLesion\n",
      "(22/66) normalize_value: column: MRIParietalLesion\n",
      "(23/66) normalize_value: column: MRITemporalLesion\n",
      "(24/66) normalize_value: column: MRIOccipitalLesion\n",
      "(25/66) normalize_value: column: MRICerebralLesionLobe\n",
      "(26/66) normalize_value: column: MRIFrontalParietalLesion\n",
      "(27/66) normalize_value: column: MRIParietalTemporalLesion\n",
      "(28/66) normalize_value: column: MRITemporalOccipitalLesion\n",
      "(29/66) normalize_value: column: MRIParasagittalLesion\n",
      "(30/66) normalize_value: column: MRIPreirolandicLesion\n",
      "(31/66) normalize_value: column: MRIPerisylvianLesion\n",
      "(32/66) normalize_value: column: MRIInsularLesion\n",
      "(33/66) normalize_value: column: MRIIntraventricularLesion\n",
      "(34/66) normalize_value: column: MRICerebellarLesion\n",
      "(35/66) normalize_value: column: MRICoronaRadiataLesion\n",
      "(36/66) normalize_value: column: MRIHippocampusLesion\n",
      "(37/66) normalize_value: column: MRIBrainstemLesion\n",
      "(38/66) normalize_value: column: MRIPituitaryLesion\n",
      "(39/66) normalize_value: column: MRIHypothalamusLesion\n",
      "(40/66) normalize_value: column: MRIOpticChiasmLesion\n",
      "(41/66) normalize_value: column: MRIExtraAxialLesion\n",
      "(42/66) normalize_value: column: MRIScalpLesion\n",
      "(43/66) normalize_value: column: MRIBasalGangliaLesion\n",
      "(44/66) normalize_value: column: MRIThalamusLesion\n",
      "(45/66) normalize_value: column: MRICorpusCallosumLesion\n",
      "(46/66) normalize_value: column: MRIVascularLesion\n",
      "(47/66) normalize_value: column: MRIOtherLesion\n",
      "(48/66) normalize_value: column: MRIParietalOccipitalLesion\n",
      "(49/66) normalize_value: column: MRIVascularTerritoryInfarctionMerge\n",
      "(50/66) normalize_value: column: MRICerebralAtrophyMerge\n",
      "(51/66) normalize_value: column: MRICerebralAtrophyGlobalLocalMerge\n",
      "(52/66) normalize_value: column: MRICerebralAtrophyQualAssessCCMerge\n",
      "(53/66) normalize_value: column: MRIVentricularDilatation\n",
      "(54/66) normalize_value: column: MRIBGTMerge\n",
      "(55/66) normalize_value: column: MRIPLICMerge\n",
      "(56/66) normalize_value: column: MRIWatershedMerge\n",
      "(57/66) normalize_value: column: MRIWhiteMatterInjuryMerge\n",
      "(58/66) normalize_value: column: MRIExtent\n",
      "(59/66) normalize_value: column: MRILateralityMerge\n",
      "(60/66) normalize_value: column: MRILateralHemisphericDevastation\n",
      "(61/66) normalize_value: column: MRICerebralLesion\n",
      "(62/66) normalize_value: column: MRIAnalysis\n",
      "(63/66) normalize_value: column: MRIAbnormalResult\n",
      "(64/66) normalize_value: column: MRINRNPatternOfInjuryWSvsBGTPLIC\n",
      "(65/66) normalize_value: column: MRI2LevelPatternOfInjury\n"
     ]
    }
   ],
   "source": [
    "filename = os.sep.join([input_dir, base_filename])\n",
    "df = pd.read_csv(filename, dtype='O')\n",
    "df = COMBINE_harmonizer.normalize_value(df, _VALUE_MAP, order_map=_ORDER_MAP)"
   ]
  },
  {
   "cell_type": "code",
   "execution_count": 119,
   "id": "054ad57d",
   "metadata": {
    "execution": {
     "iopub.execute_input": "2025-05-15T04:30:07.254054Z",
     "iopub.status.busy": "2025-05-15T04:30:07.253976Z",
     "iopub.status.idle": "2025-05-15T04:30:07.328109Z",
     "shell.execute_reply": "2025-05-15T04:30:07.327729Z"
    }
   },
   "outputs": [],
   "source": [
    "out_filename = os.sep.join([out_dir, base_filename])\n",
    "df.to_csv(out_filename, index=False)"
   ]
  },
  {
   "cell_type": "code",
   "execution_count": 120,
   "id": "b19b3b44",
   "metadata": {
    "execution": {
     "iopub.execute_input": "2025-05-15T04:30:07.330336Z",
     "iopub.status.busy": "2025-05-15T04:30:07.330132Z",
     "iopub.status.idle": "2025-05-15T04:30:07.344440Z",
     "shell.execute_reply": "2025-05-15T04:30:07.344162Z"
    }
   },
   "outputs": [
    {
     "name": "stdout",
     "output_type": "stream",
     "text": [
      "(0/132) center: (364/0)\n",
      "(1/132) center.orig: (364/0)\n",
      "(2/132) subjectID: (364/0)\n",
      "(3/132) subjectID.orig: (364/0)\n",
      "(4/132) uniqueID: (364/0)\n",
      "(5/132) uniqueID.orig: (364/0)\n",
      "(6/132) MRIAvailable: (364/0)\n",
      "(7/132) MRIAvailable.orig: (327/37)\n",
      "(8/132) MRIAvailable_c: (364/0)\n",
      "(9/132) MRIAvailable_c.orig: (327/37)\n",
      "(10/132) MRIObtainWindow: (364/0)\n",
      "(11/132) MRIObtainWindow.orig: (327/37)\n",
      "(12/132) MRIObtainWindow_c: (364/0)\n",
      "(13/132) MRIObtainWindow_c.orig: (200/164)\n",
      "(14/132) MRIObtainComment: (364/0)\n",
      "(15/132) MRIObtainComment.orig: (1/363)\n",
      "(16/132) MRISendRTIDate: (364/0)\n",
      "(17/132) MRISendRTIDate.orig: (200/164)\n",
      "(18/132) MRIReceiveRTIDate: (364/0)\n",
      "(19/132) MRIReceiveRTIDate.orig: (0/364)\n",
      "(20/132) MRINoObtainReason: (364/0)\n",
      "(21/132) MRINoObtainReason.orig: (327/37)\n",
      "(22/132) MRINoObtainReason_c: (364/0)\n",
      "(23/132) MRINoObtainReason_c.orig: (10/354)\n",
      "(24/132) MRINoObtainReasonText: (364/0)\n",
      "(25/132) MRINoObtainReasonText.orig: (5/359)\n",
      "(26/132) MRI2LevelPatternOfInjury: (364/0)\n",
      "(27/132) MRI2LevelPatternOfInjury.orig: (298/66)\n",
      "(28/132) MRIAge_day: (364/0)\n",
      "(29/132) MRIAge_day.orig: (298/66)\n",
      "(30/132) MRIOverallDiagnosisMerge: (364/0)\n",
      "(31/132) MRIOverallDiagnosisMerge.orig: (298/66)\n",
      "(32/132) MRINRNPatternOfInjury: (364/0)\n",
      "(33/132) MRINRNPatternOfInjury.orig: (298/66)\n",
      "(34/132) MRIAnalysis: (364/0)\n",
      "(35/132) MRIAnalysis.orig: (298/66)\n",
      "(36/132) MRIAbnormalResult: (364/0)\n",
      "(37/132) MRIAbnormalResult.orig: (298/66)\n",
      "(38/132) MRINRNPatternOfInjuryWSvsBGTPLIC: (364/0)\n",
      "(39/132) MRINRNPatternOfInjuryWSvsBGTPLIC.orig: (296/68)\n",
      "(40/132) MRICerebralLesion: (364/0)\n",
      "(41/132) MRICerebralLesion.orig: (298/66)\n",
      "(42/132) MRICerebellarLesion: (364/0)\n",
      "(43/132) MRICerebellarLesion.orig: (298/66)\n",
      "(44/132) MRIBasalGangliaLesion: (364/0)\n",
      "(45/132) MRIBasalGangliaLesion.orig: (298/66)\n",
      "(46/132) MRIBrainstemLesion: (364/0)\n",
      "(47/132) MRIBrainstemLesion.orig: (298/66)\n",
      "(48/132) MRICorpusCallosumLesion: (364/0)\n",
      "(49/132) MRICorpusCallosumLesion.orig: (298/66)\n",
      "(50/132) MRICerebralLesionLobe: (364/0)\n",
      "(51/132) MRICerebralLesionLobe.orig: (298/66)\n",
      "(52/132) MRICoronaRadiataLesion: (364/0)\n",
      "(53/132) MRICoronaRadiataLesion.orig: (298/66)\n",
      "(54/132) MRIEdema: (364/0)\n",
      "(55/132) MRIEdema.orig: (298/66)\n",
      "(56/132) MRIExtraAxialLesion: (364/0)\n",
      "(57/132) MRIExtraAxialLesion.orig: (298/66)\n",
      "(58/132) MRIExtent: (364/0)\n",
      "(59/132) MRIExtent.orig: (169/195)\n",
      "(60/132) MRIFrontalParietalLesion: (364/0)\n",
      "(61/132) MRIFrontalParietalLesion.orig: (298/66)\n",
      "(62/132) MRIFrontalLesion: (364/0)\n",
      "(63/132) MRIFrontalLesion.orig: (298/66)\n",
      "(64/132) MRILateralHemisphericDevastation: (364/0)\n",
      "(65/132) MRILateralHemisphericDevastation.orig: (32/332)\n",
      "(66/132) MRIHippocampusLesion: (364/0)\n",
      "(67/132) MRIHippocampusLesion.orig: (298/66)\n",
      "(68/132) MRIHypothalamusLesion: (364/0)\n",
      "(69/132) MRIHypothalamusLesion.orig: (298/66)\n",
      "(70/132) MRIInsularLesion: (364/0)\n",
      "(71/132) MRIInsularLesion.orig: (298/66)\n",
      "(72/132) MRILateralityMerge: (364/0)\n",
      "(73/132) MRILateralityMerge.orig: (169/195)\n",
      "(74/132) MRIBGTMerge: (364/0)\n",
      "(75/132) MRIBGTMerge.orig: (298/66)\n",
      "(76/132) MRIPLICMerge: (364/0)\n",
      "(77/132) MRIPLICMerge.orig: (298/66)\n",
      "(78/132) MRIWatershedMerge: (364/0)\n",
      "(79/132) MRIWatershedMerge.orig: (298/66)\n",
      "(80/132) MRIWhiteMatterInjuryMerge: (182/182)\n",
      "(81/132) MRIWhiteMatterInjuryMerge.orig: (298/66)\n",
      "(82/132) MRIDate: (364/0)\n",
      "(83/132) MRIDate.orig: (200/164)\n",
      "(84/132) MRIOccipitalLesion: (364/0)\n",
      "(85/132) MRIOccipitalLesion.orig: (298/66)\n",
      "(86/132) MRITime: (364/0)\n",
      "(87/132) MRITime.orig: (200/164)\n",
      "(88/132) MRIOpticChiasmLesion: (364/0)\n",
      "(89/132) MRIOpticChiasmLesion.orig: (298/66)\n",
      "(90/132) MRIOtherLesion: (364/0)\n",
      "(91/132) MRIOtherLesion.orig: (298/66)\n",
      "(92/132) MRIOtherCerebralLesion: (364/0)\n",
      "(93/132) MRIOtherCerebralLesion.orig: (298/66)\n",
      "(94/132) MRIParasagittalLesion: (364/0)\n",
      "(95/132) MRIParasagittalLesion.orig: (298/66)\n",
      "(96/132) MRIParietalLesion: (364/0)\n",
      "(97/132) MRIParietalLesion.orig: (298/66)\n",
      "(98/132) MRIPreirolandicLesion: (364/0)\n",
      "(99/132) MRIPreirolandicLesion.orig: (298/66)\n",
      "(100/132) MRIPerisylvianLesion: (364/0)\n",
      "(101/132) MRIPerisylvianLesion.orig: (298/66)\n",
      "(102/132) MRIPituitaryLesion: (364/0)\n",
      "(103/132) MRIPituitaryLesion.orig: (298/66)\n",
      "(104/132) MRIParietalOccipitalLesion: (364/0)\n",
      "(105/132) MRIParietalOccipitalLesion.orig: (298/66)\n",
      "(106/132) MRIParietalTemporalLesion: (364/0)\n",
      "(107/132) MRIParietalTemporalLesion.orig: (298/66)\n",
      "(108/132) MRIScalpLesion: (364/0)\n",
      "(109/132) MRIScalpLesion.orig: (298/66)\n",
      "(110/132) MRIThalamusLesion: (364/0)\n",
      "(111/132) MRIThalamusLesion.orig: (298/66)\n",
      "(112/132) MRITemporalLesion: (364/0)\n",
      "(113/132) MRITemporalLesion.orig: (298/66)\n",
      "(114/132) MRITemporalOccipitalLesion: (364/0)\n",
      "(115/132) MRITemporalOccipitalLesion.orig: (298/66)\n",
      "(116/132) MRICerebralAtrophyMerge: (364/0)\n",
      "(117/132) MRICerebralAtrophyMerge.orig: (297/67)\n",
      "(118/132) MRICerebralAtrophyQualAssessCCMerge: (364/0)\n",
      "(119/132) MRICerebralAtrophyQualAssessCCMerge.orig: (298/66)\n",
      "(120/132) MRICerebralAtrophyGlobalLocalMerge: (364/0)\n",
      "(121/132) MRICerebralAtrophyGlobalLocalMerge.orig: (15/349)\n",
      "(122/132) MRIVascularTerritoryInfarctionMerge: (364/0)\n",
      "(123/132) MRIVascularTerritoryInfarctionMerge.orig: (267/97)\n",
      "(124/132) MRIHemisphericDevastation: (364/0)\n",
      "(125/132) MRIHemisphericDevastation.orig: (298/66)\n",
      "(126/132) MRIVentricularDilatation: (364/0)\n",
      "(127/132) MRIVentricularDilatation.orig: (298/66)\n",
      "(128/132) MRIVascularLesion: (364/0)\n",
      "(129/132) MRIVascularLesion.orig: (298/66)\n",
      "(130/132) MRIIntraventricularLesion: (364/0)\n",
      "(131/132) MRIIntraventricularLesion.orig: (298/66)\n"
     ]
    }
   ],
   "source": [
    "COMBINE_harmonizer.column_info(df)"
   ]
  },
  {
   "cell_type": "markdown",
   "id": "f196ae13",
   "metadata": {},
   "source": [
    "## 02-13-bradycardia"
   ]
  },
  {
   "cell_type": "code",
   "execution_count": 121,
   "id": "c815df68",
   "metadata": {
    "execution": {
     "iopub.execute_input": "2025-05-15T04:30:07.345811Z",
     "iopub.status.busy": "2025-05-15T04:30:07.345724Z",
     "iopub.status.idle": "2025-05-15T04:30:07.347595Z",
     "shell.execute_reply": "2025-05-15T04:30:07.347306Z"
    }
   },
   "outputs": [],
   "source": [
    "_FLATTEN_IDS = ['bradycardiaEventNumber']\n",
    "base_filename = '02-13-bradycardia.csv'"
   ]
  },
  {
   "cell_type": "code",
   "execution_count": 122,
   "id": "c7ff92bf",
   "metadata": {
    "execution": {
     "iopub.execute_input": "2025-05-15T04:30:07.348899Z",
     "iopub.status.busy": "2025-05-15T04:30:07.348807Z",
     "iopub.status.idle": "2025-05-15T04:30:07.459793Z",
     "shell.execute_reply": "2025-05-15T04:30:07.459501Z"
    }
   },
   "outputs": [
    {
     "name": "stdout",
     "output_type": "stream",
     "text": [
      "(0/13) normalize_value: column: center\n",
      "(1/13) normalize_value: column: subjectID\n",
      "(2/13) normalize_value: column: uniqueID\n",
      "(3/13) normalize_value: column: bradycardiaLess70Greater15min\n",
      "(4/13) normalize_value: column: bradycardiaEKG\n",
      "(5/13) normalize_value: column: bradycardiaEKGResultOtherText\n",
      "(6/13) normalize_value: column: bradycardiaAntiarrhythmiaMedication\n",
      "(7/13) normalize_value: column: bradycardiaEventNumber\n",
      "(8/13) normalize_value: column: bradycardiaEKGResult\n",
      "(9/13) normalize_value: column: bradycardiaDate\n",
      "(10/13) normalize_value: column: bradycardiaTime\n",
      "(11/13) normalize_value: column: bradycardiaDuration\n",
      "(12/13) normalize_value: column: bradycardiaHeartRateMin\n",
      "flatten_index: flatten_ids: ['bradycardiaEventNumber'] unique_id_map: {np.int64(1): np.int64(1), np.int64(2): np.int64(2), np.int64(3): np.int64(3), np.int64(4): np.int64(4), np.int64(5): np.int64(5), np.int64(6): np.int64(6), np.int64(7): np.int64(7), np.int64(8): np.int64(8), np.int64(9): np.int64(9), np.int64(10): np.int64(10)} the_type: int64\n"
     ]
    }
   ],
   "source": [
    "filename = os.sep.join([input_dir, base_filename])\n",
    "\n",
    "df = pd.read_csv(filename, dtype='O')\n",
    "df = COMBINE_harmonizer.normalize_value(df, _VALUE_MAP, _FLATTEN_IDS, order_map=_ORDER_MAP)\n",
    "\n",
    "out_filename = os.sep.join([out_dir, base_filename])\n",
    "df.to_csv(out_filename, index=False)"
   ]
  },
  {
   "cell_type": "code",
   "execution_count": 123,
   "id": "cb300464",
   "metadata": {
    "execution": {
     "iopub.execute_input": "2025-05-15T04:30:07.461099Z",
     "iopub.status.busy": "2025-05-15T04:30:07.461017Z",
     "iopub.status.idle": "2025-05-15T04:30:07.464179Z",
     "shell.execute_reply": "2025-05-15T04:30:07.463883Z"
    }
   },
   "outputs": [
    {
     "name": "stdout",
     "output_type": "stream",
     "text": [
      "(0/27) center: (210/0)\n",
      "(1/27) center.orig: (210/0)\n",
      "(2/27) subjectID: (210/0)\n",
      "(3/27) subjectID.orig: (210/0)\n",
      "(4/27) uniqueID: (210/0)\n",
      "(5/27) uniqueID.orig: (210/0)\n",
      "(6/27) _flatten_index: (210/0)\n",
      "(7/27) bradycardiaEventNumber: (210/0)\n",
      "(8/27) bradycardiaEventNumber.orig: (210/0)\n",
      "(9/27) bradycardiaLess70Greater15min: (210/0)\n",
      "(10/27) bradycardiaLess70Greater15min.orig: (210/0)\n",
      "(11/27) bradycardiaEKG: (210/0)\n",
      "(12/27) bradycardiaEKG.orig: (57/153)\n",
      "(13/27) bradycardiaEKGResult: (210/0)\n",
      "(14/27) bradycardiaEKGResult.orig: (3/207)\n",
      "(15/27) bradycardiaEKGResultOtherText: (210/0)\n",
      "(16/27) bradycardiaEKGResultOtherText.orig: (1/209)\n",
      "(17/27) bradycardiaAntiarrhythmiaMedication: (210/0)\n",
      "(18/27) bradycardiaAntiarrhythmiaMedication.orig: (57/153)\n",
      "(19/27) bradycardiaDate: (210/0)\n",
      "(20/27) bradycardiaDate.orig: (57/153)\n",
      "(21/27) bradycardiaTime: (210/0)\n",
      "(22/27) bradycardiaTime.orig: (57/153)\n",
      "(23/27) bradycardiaDuration: (210/0)\n",
      "(24/27) bradycardiaDuration.orig: (54/156)\n",
      "(25/27) bradycardiaHeartRateMin: (210/0)\n",
      "(26/27) bradycardiaHeartRateMin.orig: (54/156)\n"
     ]
    }
   ],
   "source": [
    "COMBINE_harmonizer.column_info(df)"
   ]
  },
  {
   "cell_type": "markdown",
   "id": "60977742",
   "metadata": {},
   "source": [
    "## 02-14-adverse-event"
   ]
  },
  {
   "cell_type": "code",
   "execution_count": 124,
   "id": "45697332",
   "metadata": {
    "execution": {
     "iopub.execute_input": "2025-05-15T04:30:07.465594Z",
     "iopub.status.busy": "2025-05-15T04:30:07.465500Z",
     "iopub.status.idle": "2025-05-15T04:30:07.467205Z",
     "shell.execute_reply": "2025-05-15T04:30:07.466958Z"
    }
   },
   "outputs": [],
   "source": [
    "_FLATTEN_IDS = ['adverseEventNumber']\n",
    "base_filename = '02-14-adverse-event.csv'"
   ]
  },
  {
   "cell_type": "code",
   "execution_count": 125,
   "id": "ae972136",
   "metadata": {
    "execution": {
     "iopub.execute_input": "2025-05-15T04:30:07.468454Z",
     "iopub.status.busy": "2025-05-15T04:30:07.468375Z",
     "iopub.status.idle": "2025-05-15T04:30:07.587449Z",
     "shell.execute_reply": "2025-05-15T04:30:07.587101Z"
    }
   },
   "outputs": [
    {
     "name": "stdout",
     "output_type": "stream",
     "text": [
      "(0/58) normalize_value: column: center\n",
      "(1/58) normalize_value: column: subjectID\n",
      "(2/58) normalize_value: column: uniqueID\n",
      "(3/58) normalize_value: column: SAECardiacExperienceComment\n",
      "(4/58) normalize_value: column: SAEMetabolicAcidosisComment\n",
      "(5/58) normalize_value: column: SAEThrombosisExperienceComment\n",
      "(6/58) normalize_value: column: SAEBleedingExperienceComment\n",
      "(7/58) normalize_value: column: SAEAlterationSkinIntegrityComment\n",
      "(8/58) normalize_value: column: SAEDeathComment\n",
      "(9/58) normalize_value: column: adverseEventNumber\n",
      "(10/58) normalize_value: column: SAECardiacExperienceOnsetDate\n",
      "(11/58) normalize_value: column: SAECardiacExperienceOnsetTime\n",
      "(12/58) normalize_value: column: SAECardiacExperienceResolveDate\n",
      "(13/58) normalize_value: column: SAECardiacExperienceResolveTime\n",
      "(14/58) normalize_value: column: SAECardiacExperienceDueToHypothermia\n",
      "(15/58) normalize_value: column: SAECardiacExperienceActionTaken\n",
      "(16/58) normalize_value: column: SAECardiacExperienceOutcome\n",
      "(17/58) normalize_value: column: SAEMetabolicAcidosisOnsetDate\n",
      "(18/58) normalize_value: column: SAEMetabolicAcidosisOnsetTime\n",
      "(19/58) normalize_value: column: SAEMetabolicAcidosisResolveDate\n",
      "(20/58) normalize_value: column: SAEMetabolicAcidosisResolveTime\n",
      "(21/58) normalize_value: column: SAEMetabolicAcidosisDueToHypothermia\n",
      "(22/58) normalize_value: column: SAEMetabolicAcidosisActionTaken\n",
      "(23/58) normalize_value: column: SAEMetabolicAcidosisOutcome\n",
      "(24/58) normalize_value: column: SAEThrombosisExperienceOnsetDate\n",
      "(25/58) normalize_value: column: SAEThrombosisExperienceOnsetTime\n",
      "(26/58) normalize_value: column: SAEThrombosisExperienceResolveDate\n",
      "(27/58) normalize_value: column: SAEThrombosisExperienceResolveTime\n",
      "(28/58) normalize_value: column: SAEThrombosisExperienceDueToHypothermia\n",
      "(29/58) normalize_value: column: SAEThrombosisExperienceActionTaken\n",
      "(30/58) normalize_value: column: SAEThrombosisExperienceOutcome\n",
      "(31/58) normalize_value: column: SAEBleedingExperienceOnsetDate\n",
      "(32/58) normalize_value: column: SAEBleedingExperienceOnsetTime\n",
      "(33/58) normalize_value: column: SAEBleedingExperienceResolveDate\n",
      "(34/58) normalize_value: column: SAEBleedingExperienceResolveTime\n",
      "(35/58) normalize_value: column: SAEBleedingExperienceDueToHypothermia\n",
      "(36/58) normalize_value: column: SAEBleedingExperienceActionTaken\n",
      "(37/58) normalize_value: column: SAEBleedingExperienceOutcome\n",
      "(38/58) normalize_value: column: SAEAlterationSkinIntegrity\n",
      "(39/58) normalize_value: column: SAEAlterationSkinIntegrityOnsetDate\n",
      "(40/58) normalize_value: column: SAEAlterationSkinIntegrityResolveDate\n",
      "(41/58) normalize_value: column: SAEAlterationSkinIntegrityDueToHypothermia\n",
      "(42/58) normalize_value: column: SAEAlterationSkinIntegrityActionTaken\n",
      "(43/58) normalize_value: column: SAEAlterationSkinIntegrityOutcome\n",
      "(44/58) normalize_value: column: SAEDeathDate\n",
      "(45/58) normalize_value: column: SAEDeathTime\n",
      "(46/58) normalize_value: column: SAEDeathDueToHypothermia\n",
      "(47/58) normalize_value: column: SAEDeathActionTaken\n",
      "(48/58) normalize_value: column: SAEDeathOutcome\n",
      "(49/58) normalize_value: column: SAEOther\n",
      "(50/58) normalize_value: column: SAEOtherComment\n",
      "(51/58) normalize_value: column: SAEOtherOnsetDate\n",
      "(52/58) normalize_value: column: SAEOtherOnsetTime\n",
      "(53/58) normalize_value: column: SAEOtherResolveDate\n",
      "(54/58) normalize_value: column: SAEOtherResolveTime\n",
      "(55/58) normalize_value: column: SAEOtherDueToHypothermia\n",
      "(56/58) normalize_value: column: SAEOtherActionTaken\n",
      "(57/58) normalize_value: column: SAEOtherOutcome\n",
      "flatten_index: flatten_ids: ['adverseEventNumber'] unique_id_map: {np.int64(1): np.int64(1), np.int64(2): np.int64(2), np.int64(3): np.int64(3), np.int64(4): np.int64(4), np.int64(5): np.int64(5)} the_type: int64\n"
     ]
    }
   ],
   "source": [
    "filename = os.sep.join([input_dir, base_filename])\n",
    "\n",
    "df = pd.read_csv(filename, dtype='O')\n",
    "df = COMBINE_harmonizer.normalize_value(df, _VALUE_MAP, _FLATTEN_IDS, order_map=_ORDER_MAP)\n",
    "\n",
    "out_filename = os.sep.join([out_dir, base_filename])\n",
    "df.to_csv(out_filename, index=False)"
   ]
  },
  {
   "cell_type": "code",
   "execution_count": 126,
   "id": "f375054f",
   "metadata": {
    "execution": {
     "iopub.execute_input": "2025-05-15T04:30:07.588984Z",
     "iopub.status.busy": "2025-05-15T04:30:07.588879Z",
     "iopub.status.idle": "2025-05-15T04:30:07.594189Z",
     "shell.execute_reply": "2025-05-15T04:30:07.593982Z"
    }
   },
   "outputs": [
    {
     "name": "stdout",
     "output_type": "stream",
     "text": [
      "(0/117) center: (93/0)\n",
      "(1/117) center.orig: (93/0)\n",
      "(2/117) subjectID: (93/0)\n",
      "(3/117) subjectID.orig: (93/0)\n",
      "(4/117) uniqueID: (93/0)\n",
      "(5/117) uniqueID.orig: (93/0)\n",
      "(6/117) _flatten_index: (93/0)\n",
      "(7/117) adverseEventNumber: (93/0)\n",
      "(8/117) adverseEventNumber.orig: (93/0)\n",
      "(9/117) SAECardiacExperienceOnsetDate: (93/0)\n",
      "(10/117) SAECardiacExperienceOnsetDate.orig: (12/81)\n",
      "(11/117) SAECardiacExperienceOnsetTime: (93/0)\n",
      "(12/117) SAECardiacExperienceOnsetTime.orig: (12/81)\n",
      "(13/117) SAECardiacExperienceResolveDate: (93/0)\n",
      "(14/117) SAECardiacExperienceResolveDate.orig: (11/82)\n",
      "(15/117) SAECardiacExperienceResolveTime: (93/0)\n",
      "(16/117) SAECardiacExperienceResolveTime.orig: (11/82)\n",
      "(17/117) SAECardiacExperienceDueToHypothermia: (93/0)\n",
      "(18/117) SAECardiacExperienceDueToHypothermia.orig: (12/81)\n",
      "(19/117) SAECardiacExperienceActionTaken: (93/0)\n",
      "(20/117) SAECardiacExperienceActionTaken.orig: (12/81)\n",
      "(21/117) SAECardiacExperienceOutcome: (93/0)\n",
      "(22/117) SAECardiacExperienceOutcome.orig: (12/81)\n",
      "(23/117) SAECardiacExperienceComment: (93/0)\n",
      "(24/117) SAECardiacExperienceComment.orig: (10/83)\n",
      "(25/117) SAEMetabolicAcidosisOnsetDate: (93/0)\n",
      "(26/117) SAEMetabolicAcidosisOnsetDate.orig: (8/85)\n",
      "(27/117) SAEMetabolicAcidosisOnsetTime: (93/0)\n",
      "(28/117) SAEMetabolicAcidosisOnsetTime.orig: (8/85)\n",
      "(29/117) SAEMetabolicAcidosisResolveDate: (93/0)\n",
      "(30/117) SAEMetabolicAcidosisResolveDate.orig: (5/88)\n",
      "(31/117) SAEMetabolicAcidosisResolveTime: (93/0)\n",
      "(32/117) SAEMetabolicAcidosisResolveTime.orig: (5/88)\n",
      "(33/117) SAEMetabolicAcidosisDueToHypothermia: (93/0)\n",
      "(34/117) SAEMetabolicAcidosisDueToHypothermia.orig: (8/85)\n",
      "(35/117) SAEMetabolicAcidosisActionTaken: (93/0)\n",
      "(36/117) SAEMetabolicAcidosisActionTaken.orig: (7/86)\n",
      "(37/117) SAEMetabolicAcidosisOutcome: (93/0)\n",
      "(38/117) SAEMetabolicAcidosisOutcome.orig: (8/85)\n",
      "(39/117) SAEMetabolicAcidosisComment: (93/0)\n",
      "(40/117) SAEMetabolicAcidosisComment.orig: (6/87)\n",
      "(41/117) SAEThrombosisExperienceOnsetDate: (93/0)\n",
      "(42/117) SAEThrombosisExperienceOnsetDate.orig: (1/92)\n",
      "(43/117) SAEThrombosisExperienceOnsetTime: (93/0)\n",
      "(44/117) SAEThrombosisExperienceOnsetTime.orig: (1/92)\n",
      "(45/117) SAEThrombosisExperienceResolveDate: (93/0)\n",
      "(46/117) SAEThrombosisExperienceResolveDate.orig: (0/93)\n",
      "(47/117) SAEThrombosisExperienceResolveTime: (93/0)\n",
      "(48/117) SAEThrombosisExperienceResolveTime.orig: (0/93)\n",
      "(49/117) SAEThrombosisExperienceDueToHypothermia: (93/0)\n",
      "(50/117) SAEThrombosisExperienceDueToHypothermia.orig: (1/92)\n",
      "(51/117) SAEThrombosisExperienceActionTaken: (93/0)\n",
      "(52/117) SAEThrombosisExperienceActionTaken.orig: (1/92)\n",
      "(53/117) SAEThrombosisExperienceOutcome: (93/0)\n",
      "(54/117) SAEThrombosisExperienceOutcome.orig: (1/92)\n",
      "(55/117) SAEThrombosisExperienceComment: (93/0)\n",
      "(56/117) SAEThrombosisExperienceComment.orig: (1/92)\n",
      "(57/117) SAEBleedingExperienceOnsetDate: (93/0)\n",
      "(58/117) SAEBleedingExperienceOnsetDate.orig: (7/86)\n",
      "(59/117) SAEBleedingExperienceOnsetTime: (93/0)\n",
      "(60/117) SAEBleedingExperienceOnsetTime.orig: (6/87)\n",
      "(61/117) SAEBleedingExperienceResolveDate: (93/0)\n",
      "(62/117) SAEBleedingExperienceResolveDate.orig: (2/91)\n",
      "(63/117) SAEBleedingExperienceResolveTime: (93/0)\n",
      "(64/117) SAEBleedingExperienceResolveTime.orig: (2/91)\n",
      "(65/117) SAEBleedingExperienceDueToHypothermia: (93/0)\n",
      "(66/117) SAEBleedingExperienceDueToHypothermia.orig: (7/86)\n",
      "(67/117) SAEBleedingExperienceActionTaken: (93/0)\n",
      "(68/117) SAEBleedingExperienceActionTaken.orig: (7/86)\n",
      "(69/117) SAEBleedingExperienceOutcome: (93/0)\n",
      "(70/117) SAEBleedingExperienceOutcome.orig: (7/86)\n",
      "(71/117) SAEBleedingExperienceComment: (93/0)\n",
      "(72/117) SAEBleedingExperienceComment.orig: (5/88)\n",
      "(73/117) SAEAlterationSkinIntegrity: (93/0)\n",
      "(74/117) SAEAlterationSkinIntegrity.orig: (19/74)\n",
      "(75/117) SAEAlterationSkinIntegrityOnsetDate: (93/0)\n",
      "(76/117) SAEAlterationSkinIntegrityOnsetDate.orig: (19/74)\n",
      "(77/117) SAEAlterationSkinIntegrityResolveDate: (93/0)\n",
      "(78/117) SAEAlterationSkinIntegrityResolveDate.orig: (15/78)\n",
      "(79/117) SAEAlterationSkinIntegrityDueToHypothermia: (93/0)\n",
      "(80/117) SAEAlterationSkinIntegrityDueToHypothermia.orig: (19/74)\n",
      "(81/117) SAEAlterationSkinIntegrityActionTaken: (93/0)\n",
      "(82/117) SAEAlterationSkinIntegrityActionTaken.orig: (19/74)\n",
      "(83/117) SAEAlterationSkinIntegrityOutcome: (93/0)\n",
      "(84/117) SAEAlterationSkinIntegrityOutcome.orig: (19/74)\n",
      "(85/117) SAEAlterationSkinIntegrityComment: (93/0)\n",
      "(86/117) SAEAlterationSkinIntegrityComment.orig: (9/84)\n",
      "(87/117) SAEDeathDate: (93/0)\n",
      "(88/117) SAEDeathDate.orig: (6/87)\n",
      "(89/117) SAEDeathTime: (93/0)\n",
      "(90/117) SAEDeathTime.orig: (6/87)\n",
      "(91/117) SAEDeathDueToHypothermia: (93/0)\n",
      "(92/117) SAEDeathDueToHypothermia.orig: (6/87)\n",
      "(93/117) SAEDeathActionTaken: (93/0)\n",
      "(94/117) SAEDeathActionTaken.orig: (6/87)\n",
      "(95/117) SAEDeathOutcome: (93/0)\n",
      "(96/117) SAEDeathOutcome.orig: (6/87)\n",
      "(97/117) SAEDeathComment: (93/0)\n",
      "(98/117) SAEDeathComment.orig: (5/88)\n",
      "(99/117) SAEOther: (93/0)\n",
      "(100/117) SAEOther.orig: (47/46)\n",
      "(101/117) SAEOtherOnsetDate: (93/0)\n",
      "(102/117) SAEOtherOnsetDate.orig: (47/46)\n",
      "(103/117) SAEOtherOnsetTime: (93/0)\n",
      "(104/117) SAEOtherOnsetTime.orig: (41/52)\n",
      "(105/117) SAEOtherResolveDate: (93/0)\n",
      "(106/117) SAEOtherResolveDate.orig: (15/78)\n",
      "(107/117) SAEOtherResolveTime: (93/0)\n",
      "(108/117) SAEOtherResolveTime.orig: (13/80)\n",
      "(109/117) SAEOtherDueToHypothermia: (93/0)\n",
      "(110/117) SAEOtherDueToHypothermia.orig: (47/46)\n",
      "(111/117) SAEOtherActionTaken: (93/0)\n",
      "(112/117) SAEOtherActionTaken.orig: (47/46)\n",
      "(113/117) SAEOtherOutcome: (93/0)\n",
      "(114/117) SAEOtherOutcome.orig: (47/46)\n",
      "(115/117) SAEOtherComment: (93/0)\n",
      "(116/117) SAEOtherComment.orig: (34/59)\n"
     ]
    }
   ],
   "source": [
    "COMBINE_harmonizer.column_info(df)"
   ]
  },
  {
   "cell_type": "markdown",
   "id": "20dcbd10",
   "metadata": {},
   "source": [
    "## 02-15-violation"
   ]
  },
  {
   "cell_type": "code",
   "execution_count": 127,
   "id": "c1723049",
   "metadata": {
    "execution": {
     "iopub.execute_input": "2025-05-15T04:30:07.595397Z",
     "iopub.status.busy": "2025-05-15T04:30:07.595314Z",
     "iopub.status.idle": "2025-05-15T04:30:07.597037Z",
     "shell.execute_reply": "2025-05-15T04:30:07.596788Z"
    }
   },
   "outputs": [],
   "source": [
    "_FLATTEN_IDS = ['violationNumber']\n",
    "base_filename = '02-15-violation.csv'"
   ]
  },
  {
   "cell_type": "code",
   "execution_count": 128,
   "id": "544f8b27",
   "metadata": {
    "execution": {
     "iopub.execute_input": "2025-05-15T04:30:07.598197Z",
     "iopub.status.busy": "2025-05-15T04:30:07.598125Z",
     "iopub.status.idle": "2025-05-15T04:30:07.738574Z",
     "shell.execute_reply": "2025-05-15T04:30:07.737591Z"
    }
   },
   "outputs": [
    {
     "name": "stdout",
     "output_type": "stream",
     "text": [
      "(0/12) normalize_value: column: center\n",
      "(1/12) normalize_value: column: subjectID\n",
      "(2/12) normalize_value: column: uniqueID\n",
      "(3/12) normalize_value: column: violationOtherText\n",
      "(4/12) normalize_value: column: violationOtherCirumstanceText\n",
      "(5/12) normalize_value: column: violationComment\n",
      "(6/12) normalize_value: column: violationNumber\n",
      "(7/12) normalize_value: column: violationDate\n",
      "(8/12) normalize_value: column: violationNature\n",
      "(9/12) normalize_value: column: violationTreatmentAssign\n",
      "(10/12) normalize_value: column: violationTreatmentReceive\n",
      "(11/12) normalize_value: column: violationCircumstance\n",
      "flatten_index: flatten_ids: ['violationNumber'] unique_id_map: {np.int64(1): np.int64(1), np.int64(2): np.int64(2), np.int64(3): np.int64(3), np.int64(4): np.int64(4)} the_type: int64\n"
     ]
    }
   ],
   "source": [
    "filename = os.sep.join([input_dir, base_filename])\n",
    "df = pd.read_csv(filename, dtype='O')\n",
    "df = COMBINE_harmonizer.normalize_value(df, _VALUE_MAP, _FLATTEN_IDS, order_map=_ORDER_MAP)\n",
    "\n",
    "out_filename = os.sep.join([out_dir, base_filename])\n",
    "df.to_csv(out_filename, index=False)"
   ]
  },
  {
   "cell_type": "code",
   "execution_count": 129,
   "id": "456020d3",
   "metadata": {
    "execution": {
     "iopub.execute_input": "2025-05-15T04:30:07.742113Z",
     "iopub.status.busy": "2025-05-15T04:30:07.741789Z",
     "iopub.status.idle": "2025-05-15T04:30:07.755464Z",
     "shell.execute_reply": "2025-05-15T04:30:07.754802Z"
    }
   },
   "outputs": [
    {
     "name": "stdout",
     "output_type": "stream",
     "text": [
      "(0/25) center: (104/0)\n",
      "(1/25) center.orig: (104/0)\n",
      "(2/25) subjectID: (104/0)\n",
      "(3/25) subjectID.orig: (104/0)\n",
      "(4/25) uniqueID: (104/0)\n",
      "(5/25) uniqueID.orig: (104/0)\n",
      "(6/25) _flatten_index: (104/0)\n",
      "(7/25) violationNumber: (104/0)\n",
      "(8/25) violationNumber.orig: (104/0)\n",
      "(9/25) violationDate: (104/0)\n",
      "(10/25) violationDate.orig: (104/0)\n",
      "(11/25) violationNature: (104/0)\n",
      "(12/25) violationNature.orig: (104/0)\n",
      "(13/25) violationTreatmentAssign: (104/0)\n",
      "(14/25) violationTreatmentAssign.orig: (0/104)\n",
      "(15/25) violationTreatmentReceive: (104/0)\n",
      "(16/25) violationTreatmentReceive.orig: (0/104)\n",
      "(17/25) violationOtherText: (104/0)\n",
      "(18/25) violationOtherText.orig: (102/2)\n",
      "(19/25) violationCircumstance: (104/0)\n",
      "(20/25) violationCircumstance.orig: (104/0)\n",
      "(21/25) violationOtherCirumstanceText: (104/0)\n",
      "(22/25) violationOtherCirumstanceText.orig: (94/10)\n",
      "(23/25) violationComment: (104/0)\n",
      "(24/25) violationComment.orig: (51/53)\n"
     ]
    }
   ],
   "source": [
    "COMBINE_harmonizer.column_info(df)"
   ]
  },
  {
   "cell_type": "markdown",
   "id": "282e23db",
   "metadata": {},
   "source": [
    "## 02-16-interrupt"
   ]
  },
  {
   "cell_type": "code",
   "execution_count": 130,
   "id": "34971ed1",
   "metadata": {
    "execution": {
     "iopub.execute_input": "2025-05-15T04:30:07.759224Z",
     "iopub.status.busy": "2025-05-15T04:30:07.758844Z",
     "iopub.status.idle": "2025-05-15T04:30:07.762203Z",
     "shell.execute_reply": "2025-05-15T04:30:07.761587Z"
    }
   },
   "outputs": [],
   "source": [
    "_FLATTEN_IDS = ['interruptNumber']\n",
    "base_filename = '02-16-interrupt.csv'"
   ]
  },
  {
   "cell_type": "code",
   "execution_count": 131,
   "id": "e30110f6",
   "metadata": {
    "execution": {
     "iopub.execute_input": "2025-05-15T04:30:07.771005Z",
     "iopub.status.busy": "2025-05-15T04:30:07.770662Z",
     "iopub.status.idle": "2025-05-15T04:30:07.920440Z",
     "shell.execute_reply": "2025-05-15T04:30:07.919649Z"
    }
   },
   "outputs": [
    {
     "name": "stdout",
     "output_type": "stream",
     "text": [
      "(0/12) normalize_value: column: center\n",
      "(1/12) normalize_value: column: subjectID\n",
      "(2/12) normalize_value: column: uniqueID\n",
      "(3/12) normalize_value: column: interrupt\n",
      "(4/12) normalize_value: column: interruptReasonText\n",
      "(5/12) normalize_value: column: interruptNumber\n",
      "(6/12) normalize_value: column: interruptReason\n",
      "(7/12) normalize_value: column: interruptDate\n",
      "(8/12) normalize_value: column: interruptTime\n",
      "(9/12) normalize_value: column: interruptRestartDate\n",
      "(10/12) normalize_value: column: interruptRestartTime\n",
      "(11/12) normalize_value: column: interruptRestartEsophagealTemperature_C\n",
      "flatten_index: flatten_ids: ['interruptNumber'] unique_id_map: {np.int64(1): np.int64(1), np.int64(2): np.int64(2)} the_type: int64\n"
     ]
    }
   ],
   "source": [
    "filename = os.sep.join([input_dir, base_filename])\n",
    "df = pd.read_csv(filename, dtype='O')\n",
    "df = COMBINE_harmonizer.normalize_value(df, _VALUE_MAP, _FLATTEN_IDS, order_map=_ORDER_MAP)\n",
    "\n",
    "out_filename = os.sep.join([out_dir, base_filename])\n",
    "df.to_csv(out_filename, index=False)\n"
   ]
  },
  {
   "cell_type": "code",
   "execution_count": 132,
   "id": "51c22a64",
   "metadata": {
    "execution": {
     "iopub.execute_input": "2025-05-15T04:30:07.922599Z",
     "iopub.status.busy": "2025-05-15T04:30:07.922454Z",
     "iopub.status.idle": "2025-05-15T04:30:07.926730Z",
     "shell.execute_reply": "2025-05-15T04:30:07.925490Z"
    }
   },
   "outputs": [
    {
     "name": "stdout",
     "output_type": "stream",
     "text": [
      "(0/25) center: (249/0)\n",
      "(1/25) center.orig: (249/0)\n",
      "(2/25) subjectID: (249/0)\n",
      "(3/25) subjectID.orig: (249/0)\n",
      "(4/25) uniqueID: (249/0)\n",
      "(5/25) uniqueID.orig: (249/0)\n",
      "(6/25) _flatten_index: (249/0)\n",
      "(7/25) interruptNumber: (249/0)\n",
      "(8/25) interruptNumber.orig: (249/0)\n",
      "(9/25) interrupt: (249/0)\n",
      "(10/25) interrupt.orig: (249/0)\n",
      "(11/25) interruptReason: (249/0)\n",
      "(12/25) interruptReason.orig: (20/229)\n",
      "(13/25) interruptReasonText: (249/0)\n",
      "(14/25) interruptReasonText.orig: (16/233)\n",
      "(15/25) interruptDate: (249/0)\n",
      "(16/25) interruptDate.orig: (20/229)\n",
      "(17/25) interruptTime: (249/0)\n",
      "(18/25) interruptTime.orig: (19/230)\n",
      "(19/25) interruptRestartDate: (249/0)\n",
      "(20/25) interruptRestartDate.orig: (14/235)\n",
      "(21/25) interruptRestartTime: (249/0)\n",
      "(22/25) interruptRestartTime.orig: (14/235)\n",
      "(23/25) interruptRestartEsophagealTemperature_C: (249/0)\n",
      "(24/25) interruptRestartEsophagealTemperature_C.orig: (12/237)\n"
     ]
    }
   ],
   "source": [
    "COMBINE_harmonizer.column_info(df)"
   ]
  },
  {
   "cell_type": "markdown",
   "id": "327a0972",
   "metadata": {},
   "source": [
    "## 02-17-discontinue"
   ]
  },
  {
   "cell_type": "code",
   "execution_count": 133,
   "id": "443ffe45",
   "metadata": {
    "execution": {
     "iopub.execute_input": "2025-05-15T04:30:07.938173Z",
     "iopub.status.busy": "2025-05-15T04:30:07.937994Z",
     "iopub.status.idle": "2025-05-15T04:30:07.940099Z",
     "shell.execute_reply": "2025-05-15T04:30:07.939766Z"
    }
   },
   "outputs": [],
   "source": [
    "base_filename = '02-17-discontinue.csv'"
   ]
  },
  {
   "cell_type": "code",
   "execution_count": 134,
   "id": "8610255a",
   "metadata": {
    "execution": {
     "iopub.execute_input": "2025-05-15T04:30:07.941617Z",
     "iopub.status.busy": "2025-05-15T04:30:07.941496Z",
     "iopub.status.idle": "2025-05-15T04:30:08.054904Z",
     "shell.execute_reply": "2025-05-15T04:30:08.053913Z"
    }
   },
   "outputs": [
    {
     "name": "stdout",
     "output_type": "stream",
     "text": [
      "(0/15) normalize_value: column: center\n",
      "(1/15) normalize_value: column: subjectID\n",
      "(2/15) normalize_value: column: uniqueID\n",
      "(3/15) normalize_value: column: discontinueBeforeEndPeriod\n",
      "(4/15) normalize_value: column: discontinueOtherText\n",
      "(5/15) normalize_value: column: discontinueDate\n",
      "(6/15) normalize_value: column: discontinueTime\n",
      "(7/15) normalize_value: column: discontinueParentsWithdraw\n",
      "(8/15) normalize_value: column: discontinuePhysicianWithdraw\n",
      "(9/15) normalize_value: column: discontinueAdverseEvent\n",
      "(10/15) normalize_value: column: discontinueECMO\n",
      "(11/15) normalize_value: column: discontinueDNR\n",
      "(12/15) normalize_value: column: discontinueWdrawSupport\n",
      "(13/15) normalize_value: column: discontinueDeath\n",
      "(14/15) normalize_value: column: discontinueOther\n"
     ]
    }
   ],
   "source": [
    "filename = os.sep.join([input_dir, base_filename])\n",
    "df = pd.read_csv(filename, dtype='O')\n",
    "df = COMBINE_harmonizer.normalize_value(df, _VALUE_MAP, order_map=_ORDER_MAP)\n",
    "\n",
    "out_filename = os.sep.join([out_dir, base_filename])\n",
    "df.to_csv(out_filename, index=False)"
   ]
  },
  {
   "cell_type": "code",
   "execution_count": 135,
   "id": "6a4a0e14",
   "metadata": {
    "execution": {
     "iopub.execute_input": "2025-05-15T04:30:08.060284Z",
     "iopub.status.busy": "2025-05-15T04:30:08.059882Z",
     "iopub.status.idle": "2025-05-15T04:30:08.073357Z",
     "shell.execute_reply": "2025-05-15T04:30:08.072584Z"
    }
   },
   "outputs": [
    {
     "name": "stdout",
     "output_type": "stream",
     "text": [
      "(0/30) center: (364/0)\n",
      "(1/30) center.orig: (364/0)\n",
      "(2/30) subjectID: (364/0)\n",
      "(3/30) subjectID.orig: (364/0)\n",
      "(4/30) uniqueID: (364/0)\n",
      "(5/30) uniqueID.orig: (364/0)\n",
      "(6/30) discontinueDate: (364/0)\n",
      "(7/30) discontinueDate.orig: (55/309)\n",
      "(8/30) discontinueTime: (364/0)\n",
      "(9/30) discontinueTime.orig: (55/309)\n",
      "(10/30) discontinueBeforeEndPeriod: (364/0)\n",
      "(11/30) discontinueBeforeEndPeriod.orig: (364/0)\n",
      "(12/30) discontinueParentsWithdraw: (364/0)\n",
      "(13/30) discontinueParentsWithdraw.orig: (53/311)\n",
      "(14/30) discontinuePhysicianWithdraw: (364/0)\n",
      "(15/30) discontinuePhysicianWithdraw.orig: (53/311)\n",
      "(16/30) discontinueAdverseEvent: (364/0)\n",
      "(17/30) discontinueAdverseEvent.orig: (53/311)\n",
      "(18/30) discontinueECMO: (364/0)\n",
      "(19/30) discontinueECMO.orig: (53/311)\n",
      "(20/30) discontinueDNR: (364/0)\n",
      "(21/30) discontinueDNR.orig: (53/311)\n",
      "(22/30) discontinueWdrawSupport: (364/0)\n",
      "(23/30) discontinueWdrawSupport.orig: (53/311)\n",
      "(24/30) discontinueDeath: (364/0)\n",
      "(25/30) discontinueDeath.orig: (53/311)\n",
      "(26/30) discontinueOther: (364/0)\n",
      "(27/30) discontinueOther.orig: (53/311)\n",
      "(28/30) discontinueOtherText: (364/0)\n",
      "(29/30) discontinueOtherText.orig: (9/355)\n"
     ]
    }
   ],
   "source": [
    "COMBINE_harmonizer.column_info(df)"
   ]
  },
  {
   "cell_type": "markdown",
   "id": "293c5659",
   "metadata": {},
   "source": [
    "## 04-16-wdraw-support"
   ]
  },
  {
   "cell_type": "code",
   "execution_count": 136,
   "id": "952cf7e6",
   "metadata": {
    "execution": {
     "iopub.execute_input": "2025-05-15T04:30:08.076493Z",
     "iopub.status.busy": "2025-05-15T04:30:08.076157Z",
     "iopub.status.idle": "2025-05-15T04:30:08.079707Z",
     "shell.execute_reply": "2025-05-15T04:30:08.078994Z"
    }
   },
   "outputs": [],
   "source": [
    "base_filename = '04-16-wdraw-support.csv'"
   ]
  },
  {
   "cell_type": "code",
   "execution_count": 137,
   "id": "1699636d",
   "metadata": {
    "execution": {
     "iopub.execute_input": "2025-05-15T04:30:08.082024Z",
     "iopub.status.busy": "2025-05-15T04:30:08.081893Z",
     "iopub.status.idle": "2025-05-15T04:30:08.211840Z",
     "shell.execute_reply": "2025-05-15T04:30:08.211138Z"
    }
   },
   "outputs": [
    {
     "name": "stdout",
     "output_type": "stream",
     "text": [
      "(0/16) normalize_value: column: center\n",
      "(1/16) normalize_value: column: subjectID\n",
      "(2/16) normalize_value: column: uniqueID\n",
      "(3/16) normalize_value: column: wdrawSupportDiscussedWithFamily\n",
      "(4/16) normalize_value: column: wdrawSupportRecommendSolelyByClinicalTeam\n",
      "(5/16) normalize_value: column: wdrawSupportNeurologicalExam\n",
      "(6/16) normalize_value: column: wdrawSupportImagingStudy\n",
      "(7/16) normalize_value: column: wdrawSupportEEGFinding\n",
      "(8/16) normalize_value: column: wdrawSupportMultisystemOrganFailureOtherThanCNS\n",
      "(9/16) normalize_value: column: wdrawSupportBrainBloodFlowScan\n",
      "(10/16) normalize_value: column: wdrawSupportParentWish\n",
      "(11/16) normalize_value: column: wdrawSupportOther\n",
      "(12/16) normalize_value: column: wdrawSupportOtherText\n",
      "(13/16) normalize_value: column: wdrawSupport\n",
      "(14/16) normalize_value: column: wdrawSupportDate\n",
      "(15/16) normalize_value: column: wdrawSupportTime\n"
     ]
    }
   ],
   "source": [
    "filename = os.sep.join([input_dir, base_filename])\n",
    "df = pd.read_csv(filename, dtype='O')\n",
    "df = COMBINE_harmonizer.normalize_value(df, _VALUE_MAP, order_map=_ORDER_MAP)\n",
    "\n",
    "out_filename = os.sep.join([out_dir, base_filename])\n",
    "df.to_csv(out_filename, index=False)"
   ]
  },
  {
   "cell_type": "code",
   "execution_count": 138,
   "id": "431e7f91",
   "metadata": {
    "execution": {
     "iopub.execute_input": "2025-05-15T04:30:08.219887Z",
     "iopub.status.busy": "2025-05-15T04:30:08.219551Z",
     "iopub.status.idle": "2025-05-15T04:30:08.229089Z",
     "shell.execute_reply": "2025-05-15T04:30:08.228593Z"
    }
   },
   "outputs": [
    {
     "name": "stdout",
     "output_type": "stream",
     "text": [
      "(0/32) center: (364/0)\n",
      "(1/32) center.orig: (364/0)\n",
      "(2/32) subjectID: (364/0)\n",
      "(3/32) subjectID.orig: (364/0)\n",
      "(4/32) uniqueID: (364/0)\n",
      "(5/32) uniqueID.orig: (364/0)\n",
      "(6/32) wdrawSupport: (364/0)\n",
      "(7/32) wdrawSupport.orig: (59/305)\n",
      "(8/32) wdrawSupportDate: (364/0)\n",
      "(9/32) wdrawSupportDate.orig: (44/320)\n",
      "(10/32) wdrawSupportTime: (364/0)\n",
      "(11/32) wdrawSupportTime.orig: (43/321)\n",
      "(12/32) wdrawSupportDiscussedWithFamily: (364/0)\n",
      "(13/32) wdrawSupportDiscussedWithFamily.orig: (364/0)\n",
      "(14/32) wdrawSupportRecommendSolelyByClinicalTeam: (364/0)\n",
      "(15/32) wdrawSupportRecommendSolelyByClinicalTeam.orig: (59/305)\n",
      "(16/32) wdrawSupportNeurologicalExam: (364/0)\n",
      "(17/32) wdrawSupportNeurologicalExam.orig: (59/305)\n",
      "(18/32) wdrawSupportImagingStudy: (364/0)\n",
      "(19/32) wdrawSupportImagingStudy.orig: (59/305)\n",
      "(20/32) wdrawSupportEEGFinding: (364/0)\n",
      "(21/32) wdrawSupportEEGFinding.orig: (59/305)\n",
      "(22/32) wdrawSupportMultisystemOrganFailureOtherThanCNS: (364/0)\n",
      "(23/32) wdrawSupportMultisystemOrganFailureOtherThanCNS.orig: (59/305)\n",
      "(24/32) wdrawSupportBrainBloodFlowScan: (364/0)\n",
      "(25/32) wdrawSupportBrainBloodFlowScan.orig: (59/305)\n",
      "(26/32) wdrawSupportParentWish: (364/0)\n",
      "(27/32) wdrawSupportParentWish.orig: (59/305)\n",
      "(28/32) wdrawSupportOther: (364/0)\n",
      "(29/32) wdrawSupportOther.orig: (59/305)\n",
      "(30/32) wdrawSupportOtherText: (364/0)\n",
      "(31/32) wdrawSupportOtherText.orig: (6/358)\n"
     ]
    }
   ],
   "source": [
    "COMBINE_harmonizer.column_info(df)"
   ]
  },
  {
   "cell_type": "markdown",
   "id": "433c5bd5",
   "metadata": {},
   "source": [
    "## 04-17-limit-care"
   ]
  },
  {
   "cell_type": "code",
   "execution_count": 139,
   "id": "6c3ea7b4",
   "metadata": {
    "execution": {
     "iopub.execute_input": "2025-05-15T04:30:08.237119Z",
     "iopub.status.busy": "2025-05-15T04:30:08.236810Z",
     "iopub.status.idle": "2025-05-15T04:30:08.239477Z",
     "shell.execute_reply": "2025-05-15T04:30:08.239153Z"
    }
   },
   "outputs": [],
   "source": [
    "base_filename = '04-17-limit-care.csv'"
   ]
  },
  {
   "cell_type": "code",
   "execution_count": 140,
   "id": "203920fa",
   "metadata": {
    "execution": {
     "iopub.execute_input": "2025-05-15T04:30:08.241120Z",
     "iopub.status.busy": "2025-05-15T04:30:08.240977Z",
     "iopub.status.idle": "2025-05-15T04:30:08.362876Z",
     "shell.execute_reply": "2025-05-15T04:30:08.361986Z"
    }
   },
   "outputs": [
    {
     "name": "stdout",
     "output_type": "stream",
     "text": [
      "(0/14) normalize_value: column: center"
     ]
    },
    {
     "name": "stdout",
     "output_type": "stream",
     "text": [
      "\n",
      "(1/14) normalize_value: column: subjectID\n",
      "(2/14) normalize_value: column: uniqueID\n",
      "(3/14) normalize_value: column: limitCareDiscussedWithFamily\n",
      "(4/14) normalize_value: column: limitCareRecommendSolelyByClinicalTeam\n",
      "(5/14) normalize_value: column: limitCareAgreedByFamilyAndCareTeam\n",
      "(6/14) normalize_value: column: limitCareNoFurtherMechanicalVentilationAndIntubation\n",
      "(7/14) normalize_value: column: limitCareNoFurtherVentilationWithBagAndMask\n",
      "(8/14) normalize_value: column: limitCareNoFurtherMedicationsToSupportBP\n",
      "(9/14) normalize_value: column: limitCareNoFurtherChestCompression\n",
      "(10/14) normalize_value: column: limitCareNoFurtherEmergencyMedication\n",
      "(11/14) normalize_value: column: limitCareDNR\n",
      "(12/14) normalize_value: column: limitCareDNRDate\n",
      "(13/14) normalize_value: column: limitCareDNRTime\n"
     ]
    }
   ],
   "source": [
    "filename = os.sep.join([input_dir, base_filename])\n",
    "df = pd.read_csv(filename, dtype='O')\n",
    "df = COMBINE_harmonizer.normalize_value(df, _VALUE_MAP, order_map=_ORDER_MAP)\n",
    "\n",
    "out_filename = os.sep.join([out_dir, base_filename])\n",
    "df.to_csv(out_filename, index=False)"
   ]
  },
  {
   "cell_type": "code",
   "execution_count": 141,
   "id": "2512c070",
   "metadata": {
    "execution": {
     "iopub.execute_input": "2025-05-15T04:30:08.368595Z",
     "iopub.status.busy": "2025-05-15T04:30:08.368074Z",
     "iopub.status.idle": "2025-05-15T04:30:08.381905Z",
     "shell.execute_reply": "2025-05-15T04:30:08.381258Z"
    }
   },
   "outputs": [
    {
     "name": "stdout",
     "output_type": "stream",
     "text": [
      "(0/28) center: (364/0)\n",
      "(1/28) center.orig: (364/0)\n",
      "(2/28) subjectID: (364/0)\n",
      "(3/28) subjectID.orig: (364/0)\n",
      "(4/28) uniqueID: (364/0)\n",
      "(5/28) uniqueID.orig: (364/0)\n",
      "(6/28) limitCareDiscussedWithFamily: (364/0)\n",
      "(7/28) limitCareDiscussedWithFamily.orig: (364/0)\n",
      "(8/28) limitCareRecommendSolelyByClinicalTeam: (364/0)\n",
      "(9/28) limitCareRecommendSolelyByClinicalTeam.orig: (45/319)\n",
      "(10/28) limitCareAgreedByFamilyAndCareTeam: (364/0)\n",
      "(11/28) limitCareAgreedByFamilyAndCareTeam.orig: (45/319)\n",
      "(12/28) limitCareNoFurtherMechanicalVentilationAndIntubation: (364/0)\n",
      "(13/28) limitCareNoFurtherMechanicalVentilationAndIntubation.orig: (40/324)\n",
      "(14/28) limitCareNoFurtherVentilationWithBagAndMask: (364/0)\n",
      "(15/28) limitCareNoFurtherVentilationWithBagAndMask.orig: (40/324)\n",
      "(16/28) limitCareNoFurtherMedicationsToSupportBP: (364/0)\n",
      "(17/28) limitCareNoFurtherMedicationsToSupportBP.orig: (40/324)\n",
      "(18/28) limitCareNoFurtherChestCompression: (364/0)\n",
      "(19/28) limitCareNoFurtherChestCompression.orig: (40/324)\n",
      "(20/28) limitCareNoFurtherEmergencyMedication: (364/0)\n",
      "(21/28) limitCareNoFurtherEmergencyMedication.orig: (40/324)\n",
      "(22/28) limitCareDNR: (364/0)\n",
      "(23/28) limitCareDNR.orig: (45/319)\n",
      "(24/28) limitCareDNRDate: (364/0)\n",
      "(25/28) limitCareDNRDate.orig: (27/337)\n",
      "(26/28) limitCareDNRTime: (364/0)\n",
      "(27/28) limitCareDNRTime.orig: (22/342)\n"
     ]
    }
   ],
   "source": [
    "COMBINE_harmonizer.column_info(df)"
   ]
  },
  {
   "cell_type": "markdown",
   "id": "2d30d9de",
   "metadata": {},
   "source": [
    "## 04-01-status"
   ]
  },
  {
   "cell_type": "code",
   "execution_count": 142,
   "id": "a302a52d",
   "metadata": {
    "execution": {
     "iopub.execute_input": "2025-05-15T04:30:08.384244Z",
     "iopub.status.busy": "2025-05-15T04:30:08.384092Z",
     "iopub.status.idle": "2025-05-15T04:30:08.386459Z",
     "shell.execute_reply": "2025-05-15T04:30:08.386164Z"
    }
   },
   "outputs": [],
   "source": [
    "base_filename = '04-01-status.csv'"
   ]
  },
  {
   "cell_type": "code",
   "execution_count": 143,
   "id": "c1f14710",
   "metadata": {
    "execution": {
     "iopub.execute_input": "2025-05-15T04:30:08.388297Z",
     "iopub.status.busy": "2025-05-15T04:30:08.388092Z",
     "iopub.status.idle": "2025-05-15T04:30:08.551361Z",
     "shell.execute_reply": "2025-05-15T04:30:08.550555Z"
    }
   },
   "outputs": [
    {
     "name": "stdout",
     "output_type": "stream",
     "text": [
      "(0/31) normalize_value: column: center\n",
      "(1/31) normalize_value: column: subjectID\n",
      "(2/31) normalize_value: column: uniqueID\n",
      "(3/31) normalize_value: column: homeTherapyStatus\n",
      "(4/31) normalize_value: column: homeTherapyVentilator\n",
      "(5/31) normalize_value: column: homeTherapyOxygen\n",
      "(6/31) normalize_value: column: homeTherapyGavageTubeFeed\n",
      "(7/31) normalize_value: column: homeTherapyGastrostomyTubeFeed\n",
      "(8/31) normalize_value: column: homeTherapyTemperatureBlanket\n",
      "(9/31) normalize_value: column: homeTherapyAnticonvulsantMedication\n",
      "(10/31) normalize_value: column: homeTherapyOther\n",
      "(11/31) normalize_value: column: homeTherapyOtherText\n",
      "(12/31) normalize_value: column: deathAutopsy\n",
      "(13/31) normalize_value: column: deathCauseText\n",
      "(14/31) normalize_value: column: status\n",
      "(15/31) normalize_value: column: statusDate\n",
      "(16/31) normalize_value: column: dischargeWeight_g\n",
      "(17/31) normalize_value: column: dischargeLength_cm\n",
      "(18/31) normalize_value: column: dischargeHeadCircumference_cm\n",
      "(19/31) normalize_value: column: transferReason\n",
      "(20/31) normalize_value: column: transferOutcome\n",
      "(21/31) normalize_value: column: dischargeDate\n",
      "(22/31) normalize_value: column: deathDate\n",
      "(23/31) normalize_value: column: deathTime\n",
      "(24/31) normalize_value: column: deathCause\n",
      "(25/31) normalize_value: column: deathSrc\n",
      "(26/31) normalize_value: column: deathAge_day\n",
      "(27/31) normalize_value: column: transferDate\n",
      "(28/31) normalize_value: column: transferWeight_g\n",
      "(29/31) normalize_value: column: transferLength_cm\n",
      "(30/31) normalize_value: column: transferHeadCircumference_cm\n"
     ]
    }
   ],
   "source": [
    "filename = os.sep.join([input_dir, base_filename])\n",
    "df = pd.read_csv(filename, dtype='O')\n",
    "df = COMBINE_harmonizer.normalize_value(df, _VALUE_MAP, order_map=_ORDER_MAP)\n",
    "\n",
    "out_filename = os.sep.join([out_dir, base_filename])\n",
    "df.to_csv(out_filename, index=False)"
   ]
  },
  {
   "cell_type": "code",
   "execution_count": 144,
   "id": "e3de1bab",
   "metadata": {
    "execution": {
     "iopub.execute_input": "2025-05-15T04:30:08.559840Z",
     "iopub.status.busy": "2025-05-15T04:30:08.559365Z",
     "iopub.status.idle": "2025-05-15T04:30:08.566603Z",
     "shell.execute_reply": "2025-05-15T04:30:08.566263Z"
    }
   },
   "outputs": [
    {
     "name": "stdout",
     "output_type": "stream",
     "text": [
      "(0/62) center: (364/0)\n",
      "(1/62) center.orig: (364/0)\n",
      "(2/62) subjectID: (364/0)\n",
      "(3/62) subjectID.orig: (364/0)\n",
      "(4/62) uniqueID: (364/0)\n",
      "(5/62) uniqueID.orig: (364/0)\n",
      "(6/62) status: (364/0)\n",
      "(7/62) status.orig: (364/0)\n",
      "(8/62) statusDate: (364/0)\n",
      "(9/62) statusDate.orig: (364/0)\n",
      "(10/62) dischargeDate: (364/0)\n",
      "(11/62) dischargeDate.orig: (290/74)\n",
      "(12/62) dischargeWeight_g: (364/0)\n",
      "(13/62) dischargeWeight_g.orig: (335/29)\n",
      "(14/62) dischargeLength_cm: (364/0)\n",
      "(15/62) dischargeLength_cm.orig: (316/48)\n",
      "(16/62) dischargeHeadCircumference_cm: (364/0)\n",
      "(17/62) dischargeHeadCircumference_cm.orig: (318/46)\n",
      "(18/62) transferReason: (364/0)\n",
      "(19/62) transferReason.orig: (26/338)\n",
      "(20/62) transferDate: (364/0)\n",
      "(21/62) transferDate.orig: (23/341)\n",
      "(22/62) transferWeight_g: (364/0)\n",
      "(23/62) transferWeight_g.orig: (24/340)\n",
      "(24/62) transferLength_cm: (364/0)\n",
      "(25/62) transferLength_cm.orig: (21/343)\n",
      "(26/62) transferHeadCircumference_cm: (364/0)\n",
      "(27/62) transferHeadCircumference_cm.orig: (22/342)\n",
      "(28/62) transferOutcome: (364/0)\n",
      "(29/62) transferOutcome.orig: (26/338)\n",
      "(30/62) homeTherapyStatus: (364/0)\n",
      "(31/62) homeTherapyStatus.orig: (314/50)\n",
      "(32/62) homeTherapyVentilator: (364/0)\n",
      "(33/62) homeTherapyVentilator.orig: (118/246)\n",
      "(34/62) homeTherapyOxygen: (364/0)\n",
      "(35/62) homeTherapyOxygen.orig: (118/246)\n",
      "(36/62) homeTherapyGavageTubeFeed: (364/0)\n",
      "(37/62) homeTherapyGavageTubeFeed.orig: (118/246)\n",
      "(38/62) homeTherapyGastrostomyTubeFeed: (364/0)\n",
      "(39/62) homeTherapyGastrostomyTubeFeed.orig: (118/246)\n",
      "(40/62) homeTherapyTemperatureBlanket: (364/0)\n",
      "(41/62) homeTherapyTemperatureBlanket.orig: (118/246)\n",
      "(42/62) homeTherapyAnticonvulsantMedication: (364/0)\n",
      "(43/62) homeTherapyAnticonvulsantMedication.orig: (118/246)\n",
      "(44/62) homeTherapyOther: (364/0)\n",
      "(45/62) homeTherapyOther.orig: (118/246)\n",
      "(46/62) homeTherapyOtherText: (364/0)\n",
      "(47/62) homeTherapyOtherText.orig: (36/328)\n",
      "(48/62) deathDate: (364/0)\n",
      "(49/62) deathDate.orig: (49/315)\n",
      "(50/62) deathTime: (364/0)\n",
      "(51/62) deathTime.orig: (49/315)\n",
      "(52/62) deathAge_day: (364/0)\n",
      "(53/62) deathAge_day.orig: (49/315)\n",
      "(54/62) deathAutopsy: (364/0)\n",
      "(55/62) deathAutopsy.orig: (49/315)\n",
      "(56/62) deathCause: (364/0)\n",
      "(57/62) deathCause.orig: (49/315)\n",
      "(58/62) deathCauseText: (364/0)\n",
      "(59/62) deathCauseText.orig: (8/356)\n",
      "(60/62) deathSrc: (364/0)\n",
      "(61/62) deathSrc.orig: (49/315)\n"
     ]
    }
   ],
   "source": [
    "COMBINE_harmonizer.column_info(df)"
   ]
  },
  {
   "cell_type": "markdown",
   "id": "0afb5700",
   "metadata": {},
   "source": [
    "## 04-12-neuro-exam"
   ]
  },
  {
   "cell_type": "code",
   "execution_count": 145,
   "id": "521bed09",
   "metadata": {
    "execution": {
     "iopub.execute_input": "2025-05-15T04:30:08.568289Z",
     "iopub.status.busy": "2025-05-15T04:30:08.568145Z",
     "iopub.status.idle": "2025-05-15T04:30:08.570000Z",
     "shell.execute_reply": "2025-05-15T04:30:08.569713Z"
    }
   },
   "outputs": [],
   "source": [
    "base_filename = '04-12-neuro-exam.csv'"
   ]
  },
  {
   "cell_type": "code",
   "execution_count": 146,
   "id": "f0dc919e",
   "metadata": {
    "execution": {
     "iopub.execute_input": "2025-05-15T04:30:08.571412Z",
     "iopub.status.busy": "2025-05-15T04:30:08.571280Z",
     "iopub.status.idle": "2025-05-15T04:30:08.725761Z",
     "shell.execute_reply": "2025-05-15T04:30:08.720727Z"
    }
   },
   "outputs": [
    {
     "name": "stdout",
     "output_type": "stream",
     "text": [
      "(0/22) normalize_value: column: center\n",
      "(1/22) normalize_value: column: subjectID\n",
      "(2/22) normalize_value: column: uniqueID\n",
      "(3/22) normalize_value: column: dischargeNeuroExamTone\n",
      "[WARN] unable to float: val (**/<class 'str'>) e: could not convert string to float: '**'\n",
      "[WARN] unable to get value: sheet_name: signOfHIETone value: ** value_float: ** value_int: **\n",
      "[WARN] unable to float: val (**/<class 'str'>) e: could not convert string to float: '**'\n",
      "[WARN] unable to get value: sheet_name: signOfHIETone value: ** value_float: ** value_int: **\n",
      "(4/22) normalize_value: column: dischargeNeuroExamRespiration\n",
      "(5/22) normalize_value: column: dischargeNeuroExamSeizure\n",
      "(6/22) normalize_value: column: dischargeNeuroExamSedate\n",
      "(7/22) normalize_value: column: dischargeNeuroExamClonusSustained\n",
      "(8/22) normalize_value: column: dischargeNeuroExamFistedHand\n",
      "(9/22) normalize_value: column: dischargeNeuroExamAbnormalMovement\n",
      "(10/22) normalize_value: column: dischargeNeuroExamGagReflexAbsent\n",
      "(11/22) normalize_value: column: dischargeNeuroExamAsymTonicNeckReflex\n",
      "[WARN] unable to bool: val: (S/<class 'str'>)\n",
      "(12/22) normalize_value: column: dischargeNeuroExamStatus\n",
      "(13/22) normalize_value: column: dischargeNeuroExamDate\n",
      "(14/22) normalize_value: column: dischargeNeuroExamTime\n",
      "(15/22) normalize_value: column: dischargeNeuroExamLevelConsciousness\n",
      "(16/22) normalize_value: column: dischargeNeuroExamSpontaneousActivity\n",
      "(17/22) normalize_value: column: dischargeNeuroExamPosture\n",
      "(18/22) normalize_value: column: dischargeNeuroExamSuck\n",
      "(19/22) normalize_value: column: dischargeNeuroExamMoro\n",
      "(20/22) normalize_value: column: dischargeNeuroExamPupils\n",
      "(21/22) normalize_value: column: dischargeNeuroExamHeartRate\n"
     ]
    }
   ],
   "source": [
    "filename = os.sep.join([input_dir, base_filename])\n",
    "df = pd.read_csv(filename, dtype='O')\n",
    "df = COMBINE_harmonizer.normalize_value(df, _VALUE_MAP, order_map=_ORDER_MAP)\n",
    "\n",
    "out_filename = os.sep.join([out_dir, base_filename])\n",
    "df.to_csv(out_filename, index=False)"
   ]
  },
  {
   "cell_type": "code",
   "execution_count": 147,
   "id": "58b5e711",
   "metadata": {
    "execution": {
     "iopub.execute_input": "2025-05-15T04:30:08.730399Z",
     "iopub.status.busy": "2025-05-15T04:30:08.730040Z",
     "iopub.status.idle": "2025-05-15T04:30:08.736324Z",
     "shell.execute_reply": "2025-05-15T04:30:08.736047Z"
    }
   },
   "outputs": [
    {
     "name": "stdout",
     "output_type": "stream",
     "text": [
      "(0/44) center: (364/0)\n",
      "(1/44) center.orig: (364/0)\n",
      "(2/44) subjectID: (364/0)\n",
      "(3/44) subjectID.orig: (364/0)\n",
      "(4/44) uniqueID: (364/0)\n",
      "(5/44) uniqueID.orig: (364/0)\n",
      "(6/44) dischargeNeuroExamStatus: (364/0)\n",
      "(7/44) dischargeNeuroExamStatus.orig: (331/33)\n",
      "(8/44) dischargeNeuroExamDate: (364/0)\n",
      "(9/44) dischargeNeuroExamDate.orig: (333/31)\n",
      "(10/44) dischargeNeuroExamTime: (364/0)\n",
      "(11/44) dischargeNeuroExamTime.orig: (326/38)\n",
      "(12/44) dischargeNeuroExamLevelConsciousness: (364/0)\n",
      "(13/44) dischargeNeuroExamLevelConsciousness.orig: (333/31)\n",
      "(14/44) dischargeNeuroExamSpontaneousActivity: (364/0)\n",
      "(15/44) dischargeNeuroExamSpontaneousActivity.orig: (332/32)\n",
      "(16/44) dischargeNeuroExamPosture: (364/0)\n",
      "(17/44) dischargeNeuroExamPosture.orig: (332/32)\n",
      "(18/44) dischargeNeuroExamTone: (364/0)\n",
      "(19/44) dischargeNeuroExamTone.orig: (333/31)\n",
      "(20/44) dischargeNeuroExamSuck: (364/0)\n",
      "(21/44) dischargeNeuroExamSuck.orig: (332/32)\n",
      "(22/44) dischargeNeuroExamMoro: (364/0)\n",
      "(23/44) dischargeNeuroExamMoro.orig: (330/34)\n",
      "(24/44) dischargeNeuroExamPupils: (364/0)\n",
      "(25/44) dischargeNeuroExamPupils.orig: (328/36)\n",
      "(26/44) dischargeNeuroExamHeartRate: (364/0)\n",
      "(27/44) dischargeNeuroExamHeartRate.orig: (332/32)\n",
      "(28/44) dischargeNeuroExamRespiration: (364/0)\n",
      "(29/44) dischargeNeuroExamRespiration.orig: (333/31)\n",
      "(30/44) dischargeNeuroExamSeizure: (364/0)\n",
      "(31/44) dischargeNeuroExamSeizure.orig: (333/31)\n",
      "(32/44) dischargeNeuroExamClonusSustained: (364/0)\n",
      "(33/44) dischargeNeuroExamClonusSustained.orig: (333/31)\n",
      "(34/44) dischargeNeuroExamFistedHand: (364/0)\n",
      "(35/44) dischargeNeuroExamFistedHand.orig: (333/31)\n",
      "(36/44) dischargeNeuroExamAbnormalMovement: (364/0)\n",
      "(37/44) dischargeNeuroExamAbnormalMovement.orig: (333/31)\n",
      "(38/44) dischargeNeuroExamGagReflexAbsent: (364/0)\n",
      "(39/44) dischargeNeuroExamGagReflexAbsent.orig: (333/31)\n",
      "(40/44) dischargeNeuroExamSedate: (364/0)\n",
      "(41/44) dischargeNeuroExamSedate.orig: (333/31)\n",
      "(42/44) dischargeNeuroExamAsymTonicNeckReflex: (364/0)\n",
      "(43/44) dischargeNeuroExamAsymTonicNeckReflex.orig: (328/36)\n"
     ]
    }
   ],
   "source": [
    "COMBINE_harmonizer.column_info(df)"
   ]
  },
  {
   "cell_type": "markdown",
   "id": "73e8adb7",
   "metadata": {},
   "source": [
    "## 04-02-cardiovascular"
   ]
  },
  {
   "cell_type": "code",
   "execution_count": 148,
   "id": "f21ddf1b",
   "metadata": {
    "execution": {
     "iopub.execute_input": "2025-05-15T04:30:08.738057Z",
     "iopub.status.busy": "2025-05-15T04:30:08.737896Z",
     "iopub.status.idle": "2025-05-15T04:30:08.739839Z",
     "shell.execute_reply": "2025-05-15T04:30:08.739548Z"
    }
   },
   "outputs": [],
   "source": [
    "base_filename = '04-02-cardiovascular.csv'"
   ]
  },
  {
   "cell_type": "code",
   "execution_count": 149,
   "id": "c2b99d6c",
   "metadata": {
    "execution": {
     "iopub.execute_input": "2025-05-15T04:30:08.741326Z",
     "iopub.status.busy": "2025-05-15T04:30:08.741160Z",
     "iopub.status.idle": "2025-05-15T04:30:08.853964Z",
     "shell.execute_reply": "2025-05-15T04:30:08.852711Z"
    }
   },
   "outputs": [
    {
     "name": "stdout",
     "output_type": "stream",
     "text": [
      "(0/10) normalize_value: column: center\n",
      "(1/10) normalize_value: column: subjectID\n",
      "(2/10) normalize_value: column: uniqueID\n",
      "(3/10) normalize_value: column: dischargeCardiomegaly\n",
      "(4/10) normalize_value: column: dischargeCardiacFailure\n",
      "(5/10) normalize_value: column: dischargeCardiacDysfunctionByEcho\n",
      "(6/10) normalize_value: column: dischargeCardiacIschemiaByEKG\n",
      "(7/10) normalize_value: column: dischargeHypotension\n",
      "(8/10) normalize_value: column: dischargeArrhythmia\n",
      "(9/10) normalize_value: column: dischargeInotropicAgent\n"
     ]
    }
   ],
   "source": [
    "filename = os.sep.join([input_dir, base_filename])\n",
    "df = pd.read_csv(filename, dtype='O')\n",
    "df = COMBINE_harmonizer.normalize_value(df, _VALUE_MAP, order_map=_ORDER_MAP)\n",
    "\n",
    "out_filename = os.sep.join([out_dir, base_filename])\n",
    "df.to_csv(out_filename, index=False)"
   ]
  },
  {
   "cell_type": "code",
   "execution_count": 150,
   "id": "e479594e",
   "metadata": {
    "execution": {
     "iopub.execute_input": "2025-05-15T04:30:08.858309Z",
     "iopub.status.busy": "2025-05-15T04:30:08.858021Z",
     "iopub.status.idle": "2025-05-15T04:30:08.872763Z",
     "shell.execute_reply": "2025-05-15T04:30:08.870593Z"
    }
   },
   "outputs": [
    {
     "name": "stdout",
     "output_type": "stream",
     "text": [
      "(0/20) center: (364/0)\n",
      "(1/20) center.orig: (364/0)\n",
      "(2/20) subjectID: (364/0)\n",
      "(3/20) subjectID.orig: (364/0)\n",
      "(4/20) uniqueID: (364/0)\n",
      "(5/20) uniqueID.orig: (364/0)\n",
      "(6/20) dischargeCardiomegaly: (364/0)\n",
      "(7/20) dischargeCardiomegaly.orig: (364/0)\n",
      "(8/20) dischargeCardiacFailure: (364/0)\n",
      "(9/20) dischargeCardiacFailure.orig: (364/0)\n",
      "(10/20) dischargeCardiacDysfunctionByEcho: (364/0)\n",
      "(11/20) dischargeCardiacDysfunctionByEcho.orig: (364/0)\n",
      "(12/20) dischargeCardiacIschemiaByEKG: (364/0)\n",
      "(13/20) dischargeCardiacIschemiaByEKG.orig: (364/0)\n",
      "(14/20) dischargeHypotension: (364/0)\n",
      "(15/20) dischargeHypotension.orig: (364/0)\n",
      "(16/20) dischargeArrhythmia: (364/0)\n",
      "(17/20) dischargeArrhythmia.orig: (364/0)\n",
      "(18/20) dischargeInotropicAgent: (364/0)\n",
      "(19/20) dischargeInotropicAgent.orig: (364/0)\n"
     ]
    }
   ],
   "source": [
    "COMBINE_harmonizer.column_info(df)"
   ]
  },
  {
   "cell_type": "markdown",
   "id": "22e90c2b",
   "metadata": {},
   "source": [
    "## 04-03-respiratory"
   ]
  },
  {
   "cell_type": "code",
   "execution_count": 151,
   "id": "1749a642",
   "metadata": {
    "execution": {
     "iopub.execute_input": "2025-05-15T04:30:08.877676Z",
     "iopub.status.busy": "2025-05-15T04:30:08.877373Z",
     "iopub.status.idle": "2025-05-15T04:30:08.883630Z",
     "shell.execute_reply": "2025-05-15T04:30:08.882870Z"
    }
   },
   "outputs": [],
   "source": [
    "base_filename = '04-03-respiratory.csv'"
   ]
  },
  {
   "cell_type": "code",
   "execution_count": 152,
   "id": "bff1b506",
   "metadata": {
    "execution": {
     "iopub.execute_input": "2025-05-15T04:30:08.885951Z",
     "iopub.status.busy": "2025-05-15T04:30:08.885700Z",
     "iopub.status.idle": "2025-05-15T04:30:09.016004Z",
     "shell.execute_reply": "2025-05-15T04:30:09.011963Z"
    }
   },
   "outputs": [
    {
     "name": "stdout",
     "output_type": "stream",
     "text": [
      "(0/13) normalize_value: column: center\n",
      "(1/13) normalize_value: column: subjectID\n",
      "(2/13) normalize_value: column: uniqueID\n",
      "(3/13) normalize_value: column: dischargeMeconiumAspirationSyndrome\n",
      "(4/13) normalize_value: column: dischargePPHN\n"
     ]
    },
    {
     "name": "stdout",
     "output_type": "stream",
     "text": [
      "(5/13) normalize_value: column: dischargePulmonaryHemorrhage\n",
      "(6/13) normalize_value: column: dischargePenumonia\n",
      "(7/13) normalize_value: column: dischargeChronicLungDisease\n",
      "(8/13) normalize_value: column: dischargeECMO\n",
      "(9/13) normalize_value: column: dischargeINO\n",
      "(10/13) normalize_value: column: dischargeVentilator_day\n",
      "(11/13) normalize_value: column: dischargeOxygen_day\n",
      "(12/13) normalize_value: column: dischargeCPAP_day\n"
     ]
    }
   ],
   "source": [
    "filename = os.sep.join([input_dir, base_filename])\n",
    "df = pd.read_csv(filename, dtype='O')\n",
    "df = COMBINE_harmonizer.normalize_value(df, _VALUE_MAP, order_map=_ORDER_MAP)\n",
    "\n",
    "out_filename = os.sep.join([out_dir, base_filename])\n",
    "df.to_csv(out_filename, index=False)"
   ]
  },
  {
   "cell_type": "code",
   "execution_count": 153,
   "id": "f5021181",
   "metadata": {
    "execution": {
     "iopub.execute_input": "2025-05-15T04:30:09.020378Z",
     "iopub.status.busy": "2025-05-15T04:30:09.019719Z",
     "iopub.status.idle": "2025-05-15T04:30:09.035686Z",
     "shell.execute_reply": "2025-05-15T04:30:09.029196Z"
    }
   },
   "outputs": [
    {
     "name": "stdout",
     "output_type": "stream",
     "text": [
      "(0/26) center: (364/0)\n",
      "(1/26) center.orig: (364/0)\n",
      "(2/26) subjectID: (364/0)\n",
      "(3/26) subjectID.orig: (364/0)\n",
      "(4/26) uniqueID: (364/0)\n",
      "(5/26) uniqueID.orig: (364/0)\n",
      "(6/26) dischargeMeconiumAspirationSyndrome: (364/0)\n",
      "(7/26) dischargeMeconiumAspirationSyndrome.orig: (364/0)\n",
      "(8/26) dischargePPHN: (364/0)\n",
      "(9/26) dischargePPHN.orig: (364/0)\n",
      "(10/26) dischargePulmonaryHemorrhage: (364/0)\n",
      "(11/26) dischargePulmonaryHemorrhage.orig: (364/0)\n",
      "(12/26) dischargePenumonia: (364/0)\n",
      "(13/26) dischargePenumonia.orig: (364/0)\n",
      "(14/26) dischargeChronicLungDisease: (364/0)\n",
      "(15/26) dischargeChronicLungDisease.orig: (364/0)\n",
      "(16/26) dischargeECMO: (364/0)\n",
      "(17/26) dischargeECMO.orig: (364/0)\n",
      "(18/26) dischargeINO: (364/0)\n",
      "(19/26) dischargeINO.orig: (364/0)\n",
      "(20/26) dischargeVentilator_day: (364/0)\n",
      "(21/26) dischargeVentilator_day.orig: (364/0)\n",
      "(22/26) dischargeOxygen_day: (364/0)\n",
      "(23/26) dischargeOxygen_day.orig: (364/0)\n",
      "(24/26) dischargeCPAP_day: (364/0)\n",
      "(25/26) dischargeCPAP_day.orig: (364/0)\n"
     ]
    }
   ],
   "source": [
    "COMBINE_harmonizer.column_info(df)"
   ]
  },
  {
   "cell_type": "markdown",
   "id": "7a7e2b62",
   "metadata": {},
   "source": [
    "## 04-04-hematology"
   ]
  },
  {
   "cell_type": "code",
   "execution_count": 154,
   "id": "7c2d4caf",
   "metadata": {
    "execution": {
     "iopub.execute_input": "2025-05-15T04:30:09.037894Z",
     "iopub.status.busy": "2025-05-15T04:30:09.037715Z",
     "iopub.status.idle": "2025-05-15T04:30:09.040046Z",
     "shell.execute_reply": "2025-05-15T04:30:09.039657Z"
    }
   },
   "outputs": [],
   "source": [
    "base_filename = '04-04-hematology.csv'"
   ]
  },
  {
   "cell_type": "code",
   "execution_count": 155,
   "id": "1ee6c18f",
   "metadata": {
    "execution": {
     "iopub.execute_input": "2025-05-15T04:30:09.041961Z",
     "iopub.status.busy": "2025-05-15T04:30:09.041811Z",
     "iopub.status.idle": "2025-05-15T04:30:09.157982Z",
     "shell.execute_reply": "2025-05-15T04:30:09.157147Z"
    }
   },
   "outputs": [
    {
     "name": "stdout",
     "output_type": "stream",
     "text": [
      "(0/4) normalize_value: column: center\n",
      "(1/4) normalize_value: column: subjectID\n",
      "(2/4) normalize_value: column: uniqueID\n",
      "(3/4) normalize_value: column: dischargeDIC\n"
     ]
    }
   ],
   "source": [
    "filename = os.sep.join([input_dir, base_filename])\n",
    "df = pd.read_csv(filename, dtype='O')\n",
    "df = COMBINE_harmonizer.normalize_value(df, _VALUE_MAP, order_map=_ORDER_MAP)\n",
    "\n",
    "out_filename = os.sep.join([out_dir, base_filename])\n",
    "df.to_csv(out_filename, index=False)"
   ]
  },
  {
   "cell_type": "code",
   "execution_count": 156,
   "id": "1a666455",
   "metadata": {
    "execution": {
     "iopub.execute_input": "2025-05-15T04:30:09.161965Z",
     "iopub.status.busy": "2025-05-15T04:30:09.161680Z",
     "iopub.status.idle": "2025-05-15T04:30:09.171324Z",
     "shell.execute_reply": "2025-05-15T04:30:09.170056Z"
    }
   },
   "outputs": [
    {
     "name": "stdout",
     "output_type": "stream",
     "text": [
      "(0/8) center: (364/0)\n",
      "(1/8) center.orig: (364/0)\n",
      "(2/8) subjectID: (364/0)\n",
      "(3/8) subjectID.orig: (364/0)\n",
      "(4/8) uniqueID: (364/0)\n",
      "(5/8) uniqueID.orig: (364/0)\n",
      "(6/8) dischargeDIC: (364/0)\n",
      "(7/8) dischargeDIC.orig: (364/0)\n"
     ]
    }
   ],
   "source": [
    "COMBINE_harmonizer.column_info(df)"
   ]
  },
  {
   "cell_type": "markdown",
   "id": "fe67052e",
   "metadata": {},
   "source": [
    "## 04-05-metabolic"
   ]
  },
  {
   "cell_type": "code",
   "execution_count": 157,
   "id": "617befe0",
   "metadata": {
    "execution": {
     "iopub.execute_input": "2025-05-15T04:30:09.176363Z",
     "iopub.status.busy": "2025-05-15T04:30:09.175825Z",
     "iopub.status.idle": "2025-05-15T04:30:09.183041Z",
     "shell.execute_reply": "2025-05-15T04:30:09.179734Z"
    }
   },
   "outputs": [],
   "source": [
    "base_filename = '04-05-metabolic.csv'"
   ]
  },
  {
   "cell_type": "code",
   "execution_count": 158,
   "id": "b1fe8d4c",
   "metadata": {
    "execution": {
     "iopub.execute_input": "2025-05-15T04:30:09.185687Z",
     "iopub.status.busy": "2025-05-15T04:30:09.185450Z",
     "iopub.status.idle": "2025-05-15T04:30:09.302758Z",
     "shell.execute_reply": "2025-05-15T04:30:09.296273Z"
    }
   },
   "outputs": [
    {
     "name": "stdout",
     "output_type": "stream",
     "text": [
      "(0/6) normalize_value: column: center\n",
      "(1/6) normalize_value: column: subjectID\n",
      "(2/6) normalize_value: column: uniqueID\n",
      "(3/6) normalize_value: column: dischargeHypoglycemia\n",
      "(4/6) normalize_value: column: dischargeHypocalcemia\n",
      "(5/6) normalize_value: column: dischargeHypomagnesemia\n"
     ]
    }
   ],
   "source": [
    "filename = os.sep.join([input_dir, base_filename])\n",
    "df = pd.read_csv(filename, dtype='O')\n",
    "df = COMBINE_harmonizer.normalize_value(df, _VALUE_MAP, order_map=_ORDER_MAP)\n",
    "\n",
    "out_filename = os.sep.join([out_dir, base_filename])\n",
    "df.to_csv(out_filename, index=False)"
   ]
  },
  {
   "cell_type": "code",
   "execution_count": 159,
   "id": "f19240af",
   "metadata": {
    "execution": {
     "iopub.execute_input": "2025-05-15T04:30:09.309410Z",
     "iopub.status.busy": "2025-05-15T04:30:09.308500Z",
     "iopub.status.idle": "2025-05-15T04:30:09.322203Z",
     "shell.execute_reply": "2025-05-15T04:30:09.321589Z"
    }
   },
   "outputs": [
    {
     "name": "stdout",
     "output_type": "stream",
     "text": [
      "(0/12) center: (364/0)\n",
      "(1/12) center.orig: (364/0)\n",
      "(2/12) subjectID: (364/0)\n",
      "(3/12) subjectID.orig: (364/0)\n",
      "(4/12) uniqueID: (364/0)\n",
      "(5/12) uniqueID.orig: (364/0)\n",
      "(6/12) dischargeHypoglycemia: (364/0)\n",
      "(7/12) dischargeHypoglycemia.orig: (364/0)\n",
      "(8/12) dischargeHypocalcemia: (364/0)\n",
      "(9/12) dischargeHypocalcemia.orig: (364/0)\n",
      "(10/12) dischargeHypomagnesemia: (364/0)\n",
      "(11/12) dischargeHypomagnesemia.orig: (364/0)\n"
     ]
    }
   ],
   "source": [
    "COMBINE_harmonizer.column_info(df)"
   ]
  },
  {
   "cell_type": "markdown",
   "id": "b690697a",
   "metadata": {},
   "source": [
    "## 04-06-renal"
   ]
  },
  {
   "cell_type": "code",
   "execution_count": 160,
   "id": "ecd7a719",
   "metadata": {
    "execution": {
     "iopub.execute_input": "2025-05-15T04:30:09.326008Z",
     "iopub.status.busy": "2025-05-15T04:30:09.325711Z",
     "iopub.status.idle": "2025-05-15T04:30:09.328946Z",
     "shell.execute_reply": "2025-05-15T04:30:09.328426Z"
    }
   },
   "outputs": [],
   "source": [
    "base_filename = '04-06-renal.csv'"
   ]
  },
  {
   "cell_type": "code",
   "execution_count": 161,
   "id": "94417f58",
   "metadata": {
    "execution": {
     "iopub.execute_input": "2025-05-15T04:30:09.331384Z",
     "iopub.status.busy": "2025-05-15T04:30:09.331241Z",
     "iopub.status.idle": "2025-05-15T04:30:09.450447Z",
     "shell.execute_reply": "2025-05-15T04:30:09.449739Z"
    }
   },
   "outputs": [
    {
     "name": "stdout",
     "output_type": "stream",
     "text": [
      "(0/6) normalize_value: column: center\n",
      "(1/6) normalize_value: column: subjectID\n",
      "(2/6) normalize_value: column: uniqueID\n",
      "(3/6) normalize_value: column: dischargeOliguria\n",
      "(4/6) normalize_value: column: dischargeAnuria\n",
      "(5/6) normalize_value: column: dischargeDialysis\n"
     ]
    }
   ],
   "source": [
    "filename = os.sep.join([input_dir, base_filename])\n",
    "df = pd.read_csv(filename, dtype='O')\n",
    "df = COMBINE_harmonizer.normalize_value(df, _VALUE_MAP, order_map=_ORDER_MAP)\n",
    "\n",
    "out_filename = os.sep.join([out_dir, base_filename])\n",
    "df.to_csv(out_filename, index=False)"
   ]
  },
  {
   "cell_type": "code",
   "execution_count": 162,
   "id": "b6cc4d6e",
   "metadata": {
    "execution": {
     "iopub.execute_input": "2025-05-15T04:30:09.454194Z",
     "iopub.status.busy": "2025-05-15T04:30:09.453857Z",
     "iopub.status.idle": "2025-05-15T04:30:09.462505Z",
     "shell.execute_reply": "2025-05-15T04:30:09.461766Z"
    }
   },
   "outputs": [
    {
     "name": "stdout",
     "output_type": "stream",
     "text": [
      "(0/12) center: (364/0)\n",
      "(1/12) center.orig: (364/0)\n",
      "(2/12) subjectID: (364/0)\n",
      "(3/12) subjectID.orig: (364/0)\n",
      "(4/12) uniqueID: (364/0)\n",
      "(5/12) uniqueID.orig: (364/0)\n",
      "(6/12) dischargeOliguria: (364/0)\n",
      "(7/12) dischargeOliguria.orig: (364/0)\n",
      "(8/12) dischargeAnuria: (364/0)\n",
      "(9/12) dischargeAnuria.orig: (364/0)\n",
      "(10/12) dischargeDialysis: (364/0)\n",
      "(11/12) dischargeDialysis.orig: (364/0)\n"
     ]
    }
   ],
   "source": [
    "COMBINE_harmonizer.column_info(df)"
   ]
  },
  {
   "cell_type": "markdown",
   "id": "07281518",
   "metadata": {},
   "source": [
    "## 04-07-gastrointestinal"
   ]
  },
  {
   "cell_type": "code",
   "execution_count": 163,
   "id": "935d698d",
   "metadata": {
    "execution": {
     "iopub.execute_input": "2025-05-15T04:30:09.473222Z",
     "iopub.status.busy": "2025-05-15T04:30:09.472917Z",
     "iopub.status.idle": "2025-05-15T04:30:09.476782Z",
     "shell.execute_reply": "2025-05-15T04:30:09.475651Z"
    }
   },
   "outputs": [],
   "source": [
    "base_filename = '04-07-gastrointestinal.csv'"
   ]
  },
  {
   "cell_type": "code",
   "execution_count": 164,
   "id": "544b3f24",
   "metadata": {
    "execution": {
     "iopub.execute_input": "2025-05-15T04:30:09.479366Z",
     "iopub.status.busy": "2025-05-15T04:30:09.479166Z",
     "iopub.status.idle": "2025-05-15T04:30:09.593720Z",
     "shell.execute_reply": "2025-05-15T04:30:09.591298Z"
    }
   },
   "outputs": [
    {
     "name": "stdout",
     "output_type": "stream",
     "text": [
      "(0/9) normalize_value: column: center\n",
      "(1/9) normalize_value: column: subjectID\n",
      "(2/9) normalize_value: column: uniqueID\n",
      "(3/9) normalize_value: column: dischargeFullNippleFeed\n",
      "(4/9) normalize_value: column: dischargeNEC\n",
      "(5/9) normalize_value: column: dischargeHepaticDysfunction\n",
      "(6/9) normalize_value: column: dischargeEnteralFeedStart_day\n",
      "(7/9) normalize_value: column: dischargeTubeFeedingDuration_day\n",
      "(8/9) normalize_value: column: dischargeFullNippleFeed_day\n"
     ]
    }
   ],
   "source": [
    "filename = os.sep.join([input_dir, base_filename])\n",
    "df = pd.read_csv(filename, dtype='O')\n",
    "df = COMBINE_harmonizer.normalize_value(df, _VALUE_MAP, order_map=_ORDER_MAP)\n",
    "\n",
    "out_filename = os.sep.join([out_dir, base_filename])\n",
    "df.to_csv(out_filename, index=False)"
   ]
  },
  {
   "cell_type": "code",
   "execution_count": 165,
   "id": "cb72e684",
   "metadata": {
    "execution": {
     "iopub.execute_input": "2025-05-15T04:30:09.603279Z",
     "iopub.status.busy": "2025-05-15T04:30:09.602890Z",
     "iopub.status.idle": "2025-05-15T04:30:09.617309Z",
     "shell.execute_reply": "2025-05-15T04:30:09.616053Z"
    }
   },
   "outputs": [
    {
     "name": "stdout",
     "output_type": "stream",
     "text": [
      "(0/18) center: (364/0)\n",
      "(1/18) center.orig: (364/0)\n",
      "(2/18) subjectID: (364/0)\n",
      "(3/18) subjectID.orig: (364/0)\n",
      "(4/18) uniqueID: (364/0)\n",
      "(5/18) uniqueID.orig: (364/0)\n",
      "(6/18) dischargeEnteralFeedStart_day: (364/0)\n",
      "(7/18) dischargeEnteralFeedStart_day.orig: (337/27)\n",
      "(8/18) dischargeTubeFeedingDuration_day: (364/0)\n",
      "(9/18) dischargeTubeFeedingDuration_day.orig: (343/21)\n",
      "(10/18) dischargeFullNippleFeed: (364/0)\n",
      "(11/18) dischargeFullNippleFeed.orig: (364/0)\n",
      "(12/18) dischargeFullNippleFeed_day: (364/0)\n",
      "(13/18) dischargeFullNippleFeed_day.orig: (237/127)\n",
      "(14/18) dischargeNEC: (364/0)\n",
      "(15/18) dischargeNEC.orig: (364/0)\n",
      "(16/18) dischargeHepaticDysfunction: (364/0)\n",
      "(17/18) dischargeHepaticDysfunction.orig: (364/0)\n"
     ]
    }
   ],
   "source": [
    "COMBINE_harmonizer.column_info(df)"
   ]
  },
  {
   "cell_type": "markdown",
   "id": "ba78fb2f",
   "metadata": {},
   "source": [
    "## 04-08-skin"
   ]
  },
  {
   "cell_type": "code",
   "execution_count": 166,
   "id": "1ac8ff06",
   "metadata": {
    "execution": {
     "iopub.execute_input": "2025-05-15T04:30:09.618892Z",
     "iopub.status.busy": "2025-05-15T04:30:09.618797Z",
     "iopub.status.idle": "2025-05-15T04:30:09.620468Z",
     "shell.execute_reply": "2025-05-15T04:30:09.620210Z"
    }
   },
   "outputs": [],
   "source": [
    "base_filename = '04-08-skin.csv'"
   ]
  },
  {
   "cell_type": "code",
   "execution_count": 167,
   "id": "7e64fcf7",
   "metadata": {
    "execution": {
     "iopub.execute_input": "2025-05-15T04:30:09.623017Z",
     "iopub.status.busy": "2025-05-15T04:30:09.622931Z",
     "iopub.status.idle": "2025-05-15T04:30:09.749986Z",
     "shell.execute_reply": "2025-05-15T04:30:09.749394Z"
    }
   },
   "outputs": [
    {
     "name": "stdout",
     "output_type": "stream",
     "text": [
      "(0/16) normalize_value: column: center\n",
      "(1/16) normalize_value: column: subjectID\n",
      "(2/16) normalize_value: column: uniqueID\n",
      "(3/16) normalize_value: column: dischargeAlteredSkinItegrityPostIntervention\n",
      "(4/16) normalize_value: column: dischargeErythema\n",
      "(5/16) normalize_value: column: dischargeSclerema\n",
      "(6/16) normalize_value: column: dischargeCyanosis\n",
      "(7/16) normalize_value: column: dischargeSubFatNecrosis\n",
      "(8/16) normalize_value: column: dischargeErythemaOnsetDate\n",
      "(9/16) normalize_value: column: dischargeErythemaResolveDate\n",
      "(10/16) normalize_value: column: dischargeScleremaOnsetDate\n",
      "(11/16) normalize_value: column: dischargeScleremaResolveDate\n",
      "(12/16) normalize_value: column: dischargeCyanosisOnsetDate\n",
      "(13/16) normalize_value: column: dischargeCyanosisResolveDate\n",
      "(14/16) normalize_value: column: dischargeSubFatNecrosisOnsetDate\n",
      "(15/16) normalize_value: column: dischargeSubFatNecrosisResolveDate\n"
     ]
    }
   ],
   "source": [
    "filename = os.sep.join([input_dir, base_filename])\n",
    "df = pd.read_csv(filename, dtype='O')\n",
    "df = COMBINE_harmonizer.normalize_value(df, _VALUE_MAP, order_map=_ORDER_MAP)\n",
    "\n",
    "out_filename = os.sep.join([out_dir, base_filename])\n",
    "df.to_csv(out_filename, index=False)"
   ]
  },
  {
   "cell_type": "code",
   "execution_count": 168,
   "id": "8fe99c12",
   "metadata": {
    "execution": {
     "iopub.execute_input": "2025-05-15T04:30:09.753033Z",
     "iopub.status.busy": "2025-05-15T04:30:09.752709Z",
     "iopub.status.idle": "2025-05-15T04:30:09.762801Z",
     "shell.execute_reply": "2025-05-15T04:30:09.762064Z"
    }
   },
   "outputs": [
    {
     "name": "stdout",
     "output_type": "stream",
     "text": [
      "(0/32) center: (364/0)\n",
      "(1/32) center.orig: (364/0)\n",
      "(2/32) subjectID: (364/0)\n",
      "(3/32) subjectID.orig: (364/0)\n",
      "(4/32) uniqueID: (364/0)\n",
      "(5/32) uniqueID.orig: (364/0)\n",
      "(6/32) dischargeAlteredSkinItegrityPostIntervention: (364/0)\n",
      "(7/32) dischargeAlteredSkinItegrityPostIntervention.orig: (364/0)\n",
      "(8/32) dischargeErythema: (364/0)\n",
      "(9/32) dischargeErythema.orig: (28/336)\n",
      "(10/32) dischargeErythemaOnsetDate: (364/0)\n",
      "(11/32) dischargeErythemaOnsetDate.orig: (13/351)\n",
      "(12/32) dischargeErythemaResolveDate: (364/0)\n",
      "(13/32) dischargeErythemaResolveDate.orig: (10/354)\n",
      "(14/32) dischargeSclerema: (364/0)\n",
      "(15/32) dischargeSclerema.orig: (28/336)\n",
      "(16/32) dischargeScleremaOnsetDate: (364/0)\n",
      "(17/32) dischargeScleremaOnsetDate.orig: (0/364)\n",
      "(18/32) dischargeScleremaResolveDate: (364/0)\n",
      "(19/32) dischargeScleremaResolveDate.orig: (0/364)\n",
      "(20/32) dischargeCyanosis: (364/0)\n",
      "(21/32) dischargeCyanosis.orig: (28/336)\n",
      "(22/32) dischargeCyanosisOnsetDate: (364/0)\n",
      "(23/32) dischargeCyanosisOnsetDate.orig: (1/363)\n",
      "(24/32) dischargeCyanosisResolveDate: (364/0)\n",
      "(25/32) dischargeCyanosisResolveDate.orig: (1/363)\n",
      "(26/32) dischargeSubFatNecrosis: (364/0)\n",
      "(27/32) dischargeSubFatNecrosis.orig: (28/336)\n",
      "(28/32) dischargeSubFatNecrosisOnsetDate: (364/0)\n",
      "(29/32) dischargeSubFatNecrosisOnsetDate.orig: (15/349)\n",
      "(30/32) dischargeSubFatNecrosisResolveDate: (364/0)\n",
      "(31/32) dischargeSubFatNecrosisResolveDate.orig: (8/356)\n"
     ]
    }
   ],
   "source": [
    "COMBINE_harmonizer.column_info(df)"
   ]
  },
  {
   "cell_type": "markdown",
   "id": "ecf9792e",
   "metadata": {},
   "source": [
    "## 04-09-auditory"
   ]
  },
  {
   "cell_type": "code",
   "execution_count": 169,
   "id": "18c4d3ca",
   "metadata": {
    "execution": {
     "iopub.execute_input": "2025-05-15T04:30:09.765168Z",
     "iopub.status.busy": "2025-05-15T04:30:09.765032Z",
     "iopub.status.idle": "2025-05-15T04:30:09.766937Z",
     "shell.execute_reply": "2025-05-15T04:30:09.766615Z"
    }
   },
   "outputs": [],
   "source": [
    "base_filename = '04-09-auditory.csv'"
   ]
  },
  {
   "cell_type": "code",
   "execution_count": 170,
   "id": "06dcde1c",
   "metadata": {
    "execution": {
     "iopub.execute_input": "2025-05-15T04:30:09.768364Z",
     "iopub.status.busy": "2025-05-15T04:30:09.768256Z",
     "iopub.status.idle": "2025-05-15T04:30:09.889076Z",
     "shell.execute_reply": "2025-05-15T04:30:09.888520Z"
    }
   },
   "outputs": [
    {
     "name": "stdout",
     "output_type": "stream",
     "text": [
      "(0/5) normalize_value: column: center\n",
      "(1/5) normalize_value: column: subjectID\n",
      "(2/5) normalize_value: column: uniqueID\n",
      "(3/5) normalize_value: column: dischargeHearingTest\n",
      "(4/5) normalize_value: column: dischargeHearingTestNormal\n"
     ]
    }
   ],
   "source": [
    "filename = os.sep.join([input_dir, base_filename])\n",
    "df = pd.read_csv(filename, dtype='O')\n",
    "df = COMBINE_harmonizer.normalize_value(df, _VALUE_MAP, order_map=_ORDER_MAP)\n",
    "\n",
    "out_filename = os.sep.join([out_dir, base_filename])\n",
    "df.to_csv(out_filename, index=False)"
   ]
  },
  {
   "cell_type": "code",
   "execution_count": 171,
   "id": "38da0d17",
   "metadata": {
    "execution": {
     "iopub.execute_input": "2025-05-15T04:30:09.892633Z",
     "iopub.status.busy": "2025-05-15T04:30:09.892057Z",
     "iopub.status.idle": "2025-05-15T04:30:09.903988Z",
     "shell.execute_reply": "2025-05-15T04:30:09.903360Z"
    }
   },
   "outputs": [
    {
     "name": "stdout",
     "output_type": "stream",
     "text": [
      "(0/10) center: (364/0)\n",
      "(1/10) center.orig: (364/0)\n",
      "(2/10) subjectID: (364/0)\n",
      "(3/10) subjectID.orig: (364/0)\n",
      "(4/10) uniqueID: (364/0)\n",
      "(5/10) uniqueID.orig: (364/0)\n",
      "(6/10) dischargeHearingTest: (364/0)\n",
      "(7/10) dischargeHearingTest.orig: (364/0)\n",
      "(8/10) dischargeHearingTestNormal: (364/0)\n",
      "(9/10) dischargeHearingTestNormal.orig: (290/74)\n"
     ]
    }
   ],
   "source": [
    "COMBINE_harmonizer.column_info(df)"
   ]
  },
  {
   "cell_type": "markdown",
   "id": "6d8f3dfc",
   "metadata": {},
   "source": [
    "## 04-10. Surgery"
   ]
  },
  {
   "cell_type": "code",
   "execution_count": 172,
   "id": "777136ae",
   "metadata": {
    "execution": {
     "iopub.execute_input": "2025-05-15T04:30:09.907974Z",
     "iopub.status.busy": "2025-05-15T04:30:09.907599Z",
     "iopub.status.idle": "2025-05-15T04:30:09.911187Z",
     "shell.execute_reply": "2025-05-15T04:30:09.910561Z"
    }
   },
   "outputs": [],
   "source": [
    "base_filename = '04-10-surgery.csv'"
   ]
  },
  {
   "cell_type": "code",
   "execution_count": 173,
   "id": "80c4f7e3",
   "metadata": {
    "execution": {
     "iopub.execute_input": "2025-05-15T04:30:09.919992Z",
     "iopub.status.busy": "2025-05-15T04:30:09.919657Z",
     "iopub.status.idle": "2025-05-15T04:30:10.026787Z",
     "shell.execute_reply": "2025-05-15T04:30:10.025914Z"
    }
   },
   "outputs": [
    {
     "name": "stdout",
     "output_type": "stream",
     "text": [
      "(0/7) normalize_value: column: center\n",
      "(1/7) normalize_value: column: subjectID\n",
      "(2/7) normalize_value: column: uniqueID\n",
      "(3/7) normalize_value: column: dischargeMajorSurgery\n",
      "(4/7) normalize_value: column: dischargeSurgeryCode1\n",
      "(5/7) normalize_value: column: dischargeSurgeryCode2\n",
      "(6/7) normalize_value: column: dischargeSurgeryCode3\n"
     ]
    }
   ],
   "source": [
    "filename = os.sep.join([input_dir, base_filename])\n",
    "df = pd.read_csv(filename, dtype='O')\n",
    "df = COMBINE_harmonizer.normalize_value(df, _VALUE_MAP, order_map=_ORDER_MAP)\n",
    "\n",
    "out_filename = os.sep.join([out_dir, base_filename])\n",
    "df.to_csv(out_filename, index=False)"
   ]
  },
  {
   "cell_type": "code",
   "execution_count": 174,
   "id": "76363a14",
   "metadata": {
    "execution": {
     "iopub.execute_input": "2025-05-15T04:30:10.034644Z",
     "iopub.status.busy": "2025-05-15T04:30:10.034297Z",
     "iopub.status.idle": "2025-05-15T04:30:10.042856Z",
     "shell.execute_reply": "2025-05-15T04:30:10.042184Z"
    }
   },
   "outputs": [
    {
     "name": "stdout",
     "output_type": "stream",
     "text": [
      "(0/14) center: (364/0)\n",
      "(1/14) center.orig: (364/0)\n",
      "(2/14) subjectID: (364/0)\n",
      "(3/14) subjectID.orig: (364/0)\n",
      "(4/14) uniqueID: (364/0)\n",
      "(5/14) uniqueID.orig: (364/0)\n",
      "(6/14) dischargeMajorSurgery: (364/0)\n",
      "(7/14) dischargeMajorSurgery.orig: (364/0)\n",
      "(8/14) dischargeSurgeryCode1: (364/0)\n",
      "(9/14) dischargeSurgeryCode1.orig: (42/322)\n",
      "(10/14) dischargeSurgeryCode2: (364/0)\n",
      "(11/14) dischargeSurgeryCode2.orig: (12/352)\n",
      "(12/14) dischargeSurgeryCode3: (364/0)\n",
      "(13/14) dischargeSurgeryCode3.orig: (5/359)\n"
     ]
    }
   ],
   "source": [
    "COMBINE_harmonizer.column_info(df)"
   ]
  },
  {
   "cell_type": "markdown",
   "id": "bfc2157a",
   "metadata": {},
   "source": [
    "## 04-11-infection"
   ]
  },
  {
   "cell_type": "code",
   "execution_count": 175,
   "id": "6870ff12",
   "metadata": {
    "execution": {
     "iopub.execute_input": "2025-05-15T04:30:10.049441Z",
     "iopub.status.busy": "2025-05-15T04:30:10.046770Z",
     "iopub.status.idle": "2025-05-15T04:30:10.054345Z",
     "shell.execute_reply": "2025-05-15T04:30:10.053334Z"
    }
   },
   "outputs": [],
   "source": [
    "base_filename = '04-11-infection.csv'"
   ]
  },
  {
   "cell_type": "code",
   "execution_count": 176,
   "id": "5b0e9c5c",
   "metadata": {
    "execution": {
     "iopub.execute_input": "2025-05-15T04:30:10.056353Z",
     "iopub.status.busy": "2025-05-15T04:30:10.056249Z",
     "iopub.status.idle": "2025-05-15T04:30:10.178522Z",
     "shell.execute_reply": "2025-05-15T04:30:10.177466Z"
    }
   },
   "outputs": [
    {
     "name": "stdout",
     "output_type": "stream",
     "text": [
      "(0/11) normalize_value: column: center\n",
      "(1/11) normalize_value: column: subjectID\n",
      "(2/11) normalize_value: column: uniqueID\n",
      "(3/11) normalize_value: column: dischargeSepticemia\n",
      "(4/11) normalize_value: column: dischargeMeningitisEncephalitis\n",
      "(5/11) normalize_value: column: dischargeSepticemiaOrganismCode1\n",
      "(6/11) normalize_value: column: dischargeSepticemiaOrganismCode2\n",
      "(7/11) normalize_value: column: dischargeSepticemiaOrganismCode3\n",
      "(8/11) normalize_value: column: dischargeMeningitisOrganismCode1\n",
      "(9/11) normalize_value: column: dischargeMeningitisOrganismCode2\n",
      "(10/11) normalize_value: column: dischargeMeningitisOrganismCode3\n"
     ]
    }
   ],
   "source": [
    "filename = os.sep.join([input_dir, base_filename])\n",
    "df = pd.read_csv(filename, dtype='O')\n",
    "df = COMBINE_harmonizer.normalize_value(df, _VALUE_MAP, order_map=_ORDER_MAP)\n",
    "\n",
    "out_filename = os.sep.join([out_dir, base_filename])\n",
    "df.to_csv(out_filename, index=False)"
   ]
  },
  {
   "cell_type": "code",
   "execution_count": 177,
   "id": "cb4213d7",
   "metadata": {
    "execution": {
     "iopub.execute_input": "2025-05-15T04:30:10.189538Z",
     "iopub.status.busy": "2025-05-15T04:30:10.189195Z",
     "iopub.status.idle": "2025-05-15T04:30:10.192785Z",
     "shell.execute_reply": "2025-05-15T04:30:10.192485Z"
    }
   },
   "outputs": [
    {
     "name": "stdout",
     "output_type": "stream",
     "text": [
      "(0/22) center: (364/0)\n",
      "(1/22) center.orig: (364/0)\n",
      "(2/22) subjectID: (364/0)\n",
      "(3/22) subjectID.orig: (364/0)\n",
      "(4/22) uniqueID: (364/0)\n",
      "(5/22) uniqueID.orig: (364/0)\n",
      "(6/22) dischargeSepticemia: (364/0)\n",
      "(7/22) dischargeSepticemia.orig: (364/0)\n",
      "(8/22) dischargeSepticemiaOrganismCode1: (364/0)\n",
      "(9/22) dischargeSepticemiaOrganismCode1.orig: (13/351)\n",
      "(10/22) dischargeSepticemiaOrganismCode2: (364/0)\n",
      "(11/22) dischargeSepticemiaOrganismCode2.orig: (1/363)\n",
      "(12/22) dischargeSepticemiaOrganismCode3: (364/0)\n",
      "(13/22) dischargeSepticemiaOrganismCode3.orig: (0/364)\n",
      "(14/22) dischargeMeningitisEncephalitis: (364/0)\n",
      "(15/22) dischargeMeningitisEncephalitis.orig: (364/0)\n",
      "(16/22) dischargeMeningitisOrganismCode1: (364/0)\n",
      "(17/22) dischargeMeningitisOrganismCode1.orig: (0/364)\n",
      "(18/22) dischargeMeningitisOrganismCode2: (364/0)\n",
      "(19/22) dischargeMeningitisOrganismCode2.orig: (0/364)\n",
      "(20/22) dischargeMeningitisOrganismCode3: (364/0)\n",
      "(21/22) dischargeMeningitisOrganismCode3.orig: (0/364)\n"
     ]
    }
   ],
   "source": [
    "COMBINE_harmonizer.column_info(df)"
   ]
  },
  {
   "cell_type": "markdown",
   "id": "f9fc1256",
   "metadata": {},
   "source": [
    "## 04-13-seizure"
   ]
  },
  {
   "cell_type": "code",
   "execution_count": 178,
   "id": "2182206e",
   "metadata": {
    "execution": {
     "iopub.execute_input": "2025-05-15T04:30:10.198687Z",
     "iopub.status.busy": "2025-05-15T04:30:10.197821Z",
     "iopub.status.idle": "2025-05-15T04:30:10.202232Z",
     "shell.execute_reply": "2025-05-15T04:30:10.201567Z"
    }
   },
   "outputs": [],
   "source": [
    "base_filename = '04-13-seizure.csv'"
   ]
  },
  {
   "cell_type": "code",
   "execution_count": 179,
   "id": "2d1ca8c7",
   "metadata": {
    "execution": {
     "iopub.execute_input": "2025-05-15T04:30:10.205709Z",
     "iopub.status.busy": "2025-05-15T04:30:10.205419Z",
     "iopub.status.idle": "2025-05-15T04:30:10.368722Z",
     "shell.execute_reply": "2025-05-15T04:30:10.361522Z"
    }
   },
   "outputs": [
    {
     "name": "stdout",
     "output_type": "stream",
     "text": [
      "(0/18) normalize_value: column: center\n",
      "(1/18) normalize_value: column: subjectID\n",
      "(2/18) normalize_value: column: uniqueID\n",
      "(3/18) normalize_value: column: dischargeSeizure\n",
      "(4/18) normalize_value: column: dischargeSeizurePreIntervention\n",
      "(5/18) normalize_value: column: dischargeSeizureAfterBaseline\n",
      "(6/18) normalize_value: column: dischargeSeizureMaintenance\n",
      "(7/18) normalize_value: column: dischargeSeizureRewarming\n",
      "(8/18) normalize_value: column: dischargeSeizurePostIntervention\n",
      "(9/18) normalize_value: column: dischargeEEG\n",
      "(10/18) normalize_value: column: dischargeEEGFindingConsistentWithSeizure\n",
      "(11/18) normalize_value: column: dischargeEEGAbnormalBackgroundActivity\n",
      "(12/18) normalize_value: column: dischargeAnticonvulsantsGreater72H\n",
      "(13/18) normalize_value: column: dischargeEEGFindingConsistentWithSeizureDate\n",
      "(14/18) normalize_value: column: dischargeEEGFindingConsistentWithSeizureTime\n",
      "(15/18) normalize_value: column: dischargeEEGAbnormalBackgroundActivityDate\n",
      "(16/18) normalize_value: column: dischargeEEGAbnormalBackgroundActivityTime\n",
      "(17/18) normalize_value: column: dischargeAnticonvulsants\n"
     ]
    }
   ],
   "source": [
    "filename = os.sep.join([input_dir, base_filename])\n",
    "df = pd.read_csv(filename, dtype='O')\n",
    "df = COMBINE_harmonizer.normalize_value(df, _VALUE_MAP, order_map=_ORDER_MAP)\n",
    "\n",
    "out_filename = os.sep.join([out_dir, base_filename])\n",
    "df.to_csv(out_filename, index=False)"
   ]
  },
  {
   "cell_type": "code",
   "execution_count": 180,
   "id": "18e04360",
   "metadata": {
    "execution": {
     "iopub.execute_input": "2025-05-15T04:30:10.372744Z",
     "iopub.status.busy": "2025-05-15T04:30:10.372280Z",
     "iopub.status.idle": "2025-05-15T04:30:10.384180Z",
     "shell.execute_reply": "2025-05-15T04:30:10.383163Z"
    }
   },
   "outputs": [
    {
     "name": "stdout",
     "output_type": "stream",
     "text": [
      "(0/36) center: (364/0)\n",
      "(1/36) center.orig: (364/0)\n",
      "(2/36) subjectID: (364/0)\n",
      "(3/36) subjectID.orig: (364/0)\n",
      "(4/36) uniqueID: (364/0)\n",
      "(5/36) uniqueID.orig: (364/0)\n",
      "(6/36) dischargeSeizure: (364/0)\n",
      "(7/36) dischargeSeizure.orig: (364/0)\n",
      "(8/36) dischargeSeizurePreIntervention: (364/0)\n",
      "(9/36) dischargeSeizurePreIntervention.orig: (177/187)\n",
      "(10/36) dischargeSeizureAfterBaseline: (364/0)\n",
      "(11/36) dischargeSeizureAfterBaseline.orig: (177/187)\n",
      "(12/36) dischargeSeizureMaintenance: (364/0)\n",
      "(13/36) dischargeSeizureMaintenance.orig: (177/187)\n",
      "(14/36) dischargeSeizureRewarming: (364/0)\n",
      "(15/36) dischargeSeizureRewarming.orig: (177/187)\n",
      "(16/36) dischargeSeizurePostIntervention: (364/0)\n",
      "(17/36) dischargeSeizurePostIntervention.orig: (177/187)\n",
      "(18/36) dischargeEEG: (364/0)\n",
      "(19/36) dischargeEEG.orig: (364/0)\n",
      "(20/36) dischargeEEGFindingConsistentWithSeizure: (364/0)\n",
      "(21/36) dischargeEEGFindingConsistentWithSeizure.orig: (263/101)\n",
      "(22/36) dischargeEEGFindingConsistentWithSeizureDate: (364/0)\n",
      "(23/36) dischargeEEGFindingConsistentWithSeizureDate.orig: (73/291)\n",
      "(24/36) dischargeEEGFindingConsistentWithSeizureTime: (364/0)\n",
      "(25/36) dischargeEEGFindingConsistentWithSeizureTime.orig: (62/302)\n",
      "(26/36) dischargeEEGAbnormalBackgroundActivity: (364/0)\n",
      "(27/36) dischargeEEGAbnormalBackgroundActivity.orig: (285/79)\n",
      "(28/36) dischargeEEGAbnormalBackgroundActivityDate: (364/0)\n",
      "(29/36) dischargeEEGAbnormalBackgroundActivityDate.orig: (186/178)\n",
      "(30/36) dischargeEEGAbnormalBackgroundActivityTime: (364/0)\n",
      "(31/36) dischargeEEGAbnormalBackgroundActivityTime.orig: (161/203)\n",
      "(32/36) dischargeAnticonvulsantsGreater72H: (364/0)\n",
      "(33/36) dischargeAnticonvulsantsGreater72H.orig: (364/0)\n",
      "(34/36) dischargeAnticonvulsants: (364/0)\n",
      "(35/36) dischargeAnticonvulsants.orig: (338/26)\n"
     ]
    }
   ],
   "source": [
    "COMBINE_harmonizer.column_info(df)"
   ]
  },
  {
   "cell_type": "markdown",
   "id": "fe14fa06",
   "metadata": {},
   "source": [
    "## 04-14-birth-defect"
   ]
  },
  {
   "cell_type": "code",
   "execution_count": 181,
   "id": "2cebf47a",
   "metadata": {
    "execution": {
     "iopub.execute_input": "2025-05-15T04:30:10.387687Z",
     "iopub.status.busy": "2025-05-15T04:30:10.387342Z",
     "iopub.status.idle": "2025-05-15T04:30:10.389748Z",
     "shell.execute_reply": "2025-05-15T04:30:10.389401Z"
    }
   },
   "outputs": [],
   "source": [
    "base_filename = '04-14-birth-defect.csv'"
   ]
  },
  {
   "cell_type": "code",
   "execution_count": 182,
   "id": "b2be217d",
   "metadata": {
    "execution": {
     "iopub.execute_input": "2025-05-15T04:30:10.391420Z",
     "iopub.status.busy": "2025-05-15T04:30:10.391286Z",
     "iopub.status.idle": "2025-05-15T04:30:10.495855Z",
     "shell.execute_reply": "2025-05-15T04:30:10.495531Z"
    }
   },
   "outputs": [
    {
     "name": "stdout",
     "output_type": "stream",
     "text": [
      "(0/7) normalize_value: column: center\n",
      "(1/7) normalize_value: column: subjectID\n",
      "(2/7) normalize_value: column: uniqueID\n",
      "(3/7) normalize_value: column: dischargeSyndromeMalformation\n",
      "(4/7) normalize_value: column: dischargeBirthDefectCode1\n",
      "(5/7) normalize_value: column: dischargeBirthDefectCode2\n",
      "(6/7) normalize_value: column: dischargeBirthDefectCode3\n"
     ]
    }
   ],
   "source": [
    "filename = os.sep.join([input_dir, base_filename])\n",
    "df = pd.read_csv(filename, dtype='O')\n",
    "df = COMBINE_harmonizer.normalize_value(df, _VALUE_MAP, order_map=_ORDER_MAP)\n",
    "\n",
    "out_filename = os.sep.join([out_dir, base_filename])\n",
    "df.to_csv(out_filename, index=False)"
   ]
  },
  {
   "cell_type": "code",
   "execution_count": 183,
   "id": "3fc54338",
   "metadata": {
    "execution": {
     "iopub.execute_input": "2025-05-15T04:30:10.498125Z",
     "iopub.status.busy": "2025-05-15T04:30:10.497831Z",
     "iopub.status.idle": "2025-05-15T04:30:10.501935Z",
     "shell.execute_reply": "2025-05-15T04:30:10.501434Z"
    }
   },
   "outputs": [
    {
     "name": "stdout",
     "output_type": "stream",
     "text": [
      "(0/14) center: (364/0)\n",
      "(1/14) center.orig: (364/0)\n",
      "(2/14) subjectID: (364/0)\n",
      "(3/14) subjectID.orig: (364/0)\n",
      "(4/14) uniqueID: (364/0)\n",
      "(5/14) uniqueID.orig: (364/0)\n",
      "(6/14) dischargeSyndromeMalformation: (364/0)\n",
      "(7/14) dischargeSyndromeMalformation.orig: (364/0)\n",
      "(8/14) dischargeBirthDefectCode1: (364/0)\n",
      "(9/14) dischargeBirthDefectCode1.orig: (11/353)\n",
      "(10/14) dischargeBirthDefectCode2: (364/0)\n",
      "(11/14) dischargeBirthDefectCode2.orig: (1/363)\n",
      "(12/14) dischargeBirthDefectCode3: (364/0)\n",
      "(13/14) dischargeBirthDefectCode3.orig: (0/364)\n"
     ]
    }
   ],
   "source": [
    "COMBINE_harmonizer.column_info(df)"
   ]
  },
  {
   "cell_type": "markdown",
   "id": "0e1fce93",
   "metadata": {},
   "source": [
    "## 04-15-home-therapy"
   ]
  },
  {
   "cell_type": "code",
   "execution_count": 184,
   "id": "b8bb5c43",
   "metadata": {
    "execution": {
     "iopub.execute_input": "2025-05-15T04:30:10.503892Z",
     "iopub.status.busy": "2025-05-15T04:30:10.503762Z",
     "iopub.status.idle": "2025-05-15T04:30:10.505872Z",
     "shell.execute_reply": "2025-05-15T04:30:10.505415Z"
    }
   },
   "outputs": [],
   "source": [
    "base_filename = '04-15-home-therapy.csv'"
   ]
  },
  {
   "cell_type": "code",
   "execution_count": 185,
   "id": "78eceabc",
   "metadata": {
    "execution": {
     "iopub.execute_input": "2025-05-15T04:30:10.507506Z",
     "iopub.status.busy": "2025-05-15T04:30:10.507380Z",
     "iopub.status.idle": "2025-05-15T04:30:10.644942Z",
     "shell.execute_reply": "2025-05-15T04:30:10.643861Z"
    }
   },
   "outputs": [
    {
     "name": "stdout",
     "output_type": "stream",
     "text": [
      "(0/12) normalize_value: column: center\n",
      "(1/12) normalize_value: column: subjectID\n",
      "(2/12) normalize_value: column: uniqueID\n",
      "(3/12) normalize_value: column: dischargeHomeTherapy\n",
      "(4/12) normalize_value: column: dischargeHomeTherapyVentilator\n",
      "(5/12) normalize_value: column: dischargeHomeTherapyOxygen\n",
      "(6/12) normalize_value: column: dischargeHomeTherapyGavageTubeFeed\n",
      "(7/12) normalize_value: column: dischargeHomeTherapyGastrostomyTubeFeed\n",
      "(8/12) normalize_value: column: dischargeHomeTherapyTemperatureBlanket\n",
      "(9/12) normalize_value: column: dischargeHomeTherapyAnticonvulsantMedication\n",
      "(10/12) normalize_value: column: dischargeHomeTherapyOther\n",
      "(11/12) normalize_value: column: dischargeHomeTherapyOtherText\n"
     ]
    }
   ],
   "source": [
    "filename = os.sep.join([input_dir, base_filename])\n",
    "df = pd.read_csv(filename, dtype='O')\n",
    "df = COMBINE_harmonizer.normalize_value(df, _VALUE_MAP, order_map=_ORDER_MAP)\n",
    "\n",
    "out_filename = os.sep.join([out_dir, base_filename])\n",
    "df.to_csv(out_filename, index=False)"
   ]
  },
  {
   "cell_type": "code",
   "execution_count": 186,
   "id": "972f089a",
   "metadata": {
    "execution": {
     "iopub.execute_input": "2025-05-15T04:30:10.653054Z",
     "iopub.status.busy": "2025-05-15T04:30:10.652484Z",
     "iopub.status.idle": "2025-05-15T04:30:10.659963Z",
     "shell.execute_reply": "2025-05-15T04:30:10.659668Z"
    }
   },
   "outputs": [
    {
     "name": "stdout",
     "output_type": "stream",
     "text": [
      "(0/24) center: (364/0)\n",
      "(1/24) center.orig: (364/0)\n",
      "(2/24) subjectID: (364/0)\n",
      "(3/24) subjectID.orig: (364/0)\n",
      "(4/24) uniqueID: (364/0)\n",
      "(5/24) uniqueID.orig: (364/0)\n",
      "(6/24) dischargeHomeTherapy: (364/0)\n",
      "(7/24) dischargeHomeTherapy.orig: (314/50)\n",
      "(8/24) dischargeHomeTherapyVentilator: (364/0)\n",
      "(9/24) dischargeHomeTherapyVentilator.orig: (118/246)\n",
      "(10/24) dischargeHomeTherapyOxygen: (364/0)\n",
      "(11/24) dischargeHomeTherapyOxygen.orig: (118/246)\n",
      "(12/24) dischargeHomeTherapyGavageTubeFeed: (364/0)\n",
      "(13/24) dischargeHomeTherapyGavageTubeFeed.orig: (118/246)\n",
      "(14/24) dischargeHomeTherapyGastrostomyTubeFeed: (364/0)\n",
      "(15/24) dischargeHomeTherapyGastrostomyTubeFeed.orig: (118/246)\n",
      "(16/24) dischargeHomeTherapyTemperatureBlanket: (364/0)\n",
      "(17/24) dischargeHomeTherapyTemperatureBlanket.orig: (118/246)\n",
      "(18/24) dischargeHomeTherapyAnticonvulsantMedication: (364/0)\n",
      "(19/24) dischargeHomeTherapyAnticonvulsantMedication.orig: (118/246)\n",
      "(20/24) dischargeHomeTherapyOther: (364/0)\n",
      "(21/24) dischargeHomeTherapyOther.orig: (118/246)\n",
      "(22/24) dischargeHomeTherapyOtherText: (364/0)\n",
      "(23/24) dischargeHomeTherapyOtherText.orig: (36/328)\n"
     ]
    }
   ],
   "source": [
    "COMBINE_harmonizer.column_info(df)"
   ]
  }
 ],
 "metadata": {
  "kernelspec": {
   "display_name": ".venv",
   "language": "python",
   "name": "python3"
  },
  "language_info": {
   "codemirror_mode": {
    "name": "ipython",
    "version": 3
   },
   "file_extension": ".py",
   "mimetype": "text/x-python",
   "name": "python",
   "nbconvert_exporter": "python",
   "pygments_lexer": "ipython3",
   "version": "3.13.2"
  }
 },
 "nbformat": 4,
 "nbformat_minor": 5
}
