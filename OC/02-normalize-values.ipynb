{
 "cells": [
  {
   "cell_type": "code",
   "execution_count": 1,
   "id": "dca80170-a89e-4053-8b87-0cf671490f33",
   "metadata": {
    "execution": {
     "iopub.execute_input": "2025-01-21T19:14:59.503493Z",
     "iopub.status.busy": "2025-01-21T19:14:59.502754Z",
     "iopub.status.idle": "2025-01-21T19:15:00.573170Z",
     "shell.execute_reply": "2025-01-21T19:15:00.572819Z"
    }
   },
   "outputs": [],
   "source": [
    "import pandas as pd\n",
    "pd.options.mode.copy_on_write = True\n",
    "import warnings\n",
    "warnings.simplefilter(action='ignore', category=pd.errors.PerformanceWarning)\n",
    "\n",
    "import os\n",
    "import re\n",
    "import pydoc\n",
    "\n",
    "import COMBINE_harmonizer\n",
    "from COMBINE_harmonizer import cfg"
   ]
  },
  {
   "cell_type": "markdown",
   "id": "a740efa2",
   "metadata": {},
   "source": [
    "## 00-0. Variables"
   ]
  },
  {
   "cell_type": "code",
   "execution_count": 2,
   "id": "60109085",
   "metadata": {
    "execution": {
     "iopub.execute_input": "2025-01-21T19:15:00.574796Z",
     "iopub.status.busy": "2025-01-21T19:15:00.574648Z",
     "iopub.status.idle": "2025-01-21T19:15:00.578195Z",
     "shell.execute_reply": "2025-01-21T19:15:00.577977Z"
    }
   },
   "outputs": [],
   "source": [
    "study_name = COMBINE_harmonizer.STUDY_OC\n",
    "sheet_name = COMBINE_harmonizer.SHEET_MAIN\n",
    "\n",
    "root_dir = '..'\n",
    "COMBINE_harmonizer.init(f'{root_dir}/config.yaml')"
   ]
  },
  {
   "cell_type": "code",
   "execution_count": 3,
   "id": "75895b05-476f-4d6b-9686-136071b16951",
   "metadata": {
    "execution": {
     "iopub.execute_input": "2025-01-21T19:15:00.579336Z",
     "iopub.status.busy": "2025-01-21T19:15:00.579258Z",
     "iopub.status.idle": "2025-01-21T19:15:00.592984Z",
     "shell.execute_reply": "2025-01-21T19:15:00.592787Z"
    }
   },
   "outputs": [],
   "source": [
    "input_dir = f\"{cfg.config['out_dir']}/out-{study_name}\"\n",
    "data_dict_filename = f\"{root_dir}/{COMBINE_harmonizer.DATA_DICTIONARY_EXCEL}\"\n",
    "out_dir = f\"{cfg.config['out_dir']}/out-{study_name}-normalized\"\n",
    "\n",
    "os.makedirs(out_dir, exist_ok=True)"
   ]
  },
  {
   "cell_type": "code",
   "execution_count": 4,
   "id": "f7bc9355-eca8-453d-8462-0ff280895f58",
   "metadata": {
    "execution": {
     "iopub.execute_input": "2025-01-21T19:15:00.594097Z",
     "iopub.status.busy": "2025-01-21T19:15:00.594026Z",
     "iopub.status.idle": "2025-01-21T19:15:01.396324Z",
     "shell.execute_reply": "2025-01-21T19:15:01.396041Z"
    }
   },
   "outputs": [
    {
     "name": "stdout",
     "output_type": "stream",
     "text": [
      "[WARN] unable to float: val (2b/<class 'str'>) e: could not convert string to float: '2b'\n",
      "[WARN] unable to int: val (2b/<class 'str'>) e: could not convert string to float: '2b'\n",
      "[WARN] unable to float: val (2a/<class 'str'>) e: could not convert string to float: '2a'\n",
      "[WARN] unable to int: val (2a/<class 'str'>) e: could not convert string to float: '2a'\n",
      "[WARN] unable to float: val (3a/<class 'str'>) e: could not convert string to float: '3a'\n",
      "[WARN] unable to int: val (3a/<class 'str'>) e: could not convert string to float: '3a'\n",
      "[WARN] unable to float: val (3b/<class 'str'>) e: could not convert string to float: '3b'\n",
      "[WARN] unable to int: val (3b/<class 'str'>) e: could not convert string to float: '3b'\n",
      "[WARN] unable to float: val (3a/<class 'str'>) e: could not convert string to float: '3a'\n",
      "[WARN] unable to int: val (3a/<class 'str'>) e: could not convert string to float: '3a'\n",
      "[WARN] unable to float: val (3b/<class 'str'>) e: could not convert string to float: '3b'\n",
      "[WARN] unable to int: val (3b/<class 'str'>) e: could not convert string to float: '3b'\n",
      "[WARN] unable to float: val (A/<class 'str'>) e: could not convert string to float: 'A'\n",
      "[WARN] unable to int: val (A/<class 'str'>) e: could not convert string to float: 'A'\n",
      "[WARN] unable to float: val (V/<class 'str'>) e: could not convert string to float: 'V'\n",
      "[WARN] unable to int: val (V/<class 'str'>) e: could not convert string to float: 'V'\n",
      "[WARN] unable to float: val (C/<class 'str'>) e: could not convert string to float: 'C'\n",
      "[WARN] unable to int: val (C/<class 'str'>) e: could not convert string to float: 'C'\n",
      "[WARN] unable to float: val (1 MRI obtained AFTER study intervention is complet/<class 'str'>) e: could not convert string to float: '1 MRI obtained AFTER study intervention is complet'\n",
      "[WARN] unable to int: val (1 MRI obtained AFTER study intervention is complet/<class 'str'>) e: could not convert string to float: '1 MRI obtained AFTER study intervention is complet'\n",
      "[WARN] unable to float: val (2 MRI obtained DURING study intervention period/<class 'str'>) e: could not convert string to float: '2 MRI obtained DURING study intervention period'\n",
      "[WARN] unable to int: val (2 MRI obtained DURING study intervention period/<class 'str'>) e: could not convert string to float: '2 MRI obtained DURING study intervention period'\n",
      "[WARN] unable to float: val (no arrangement with satellite site/<class 'str'>) e: could not convert string to float: 'no arrangement with satellite site'\n",
      "[WARN] unable to int: val (no arrangement with satellite site/<class 'str'>) e: could not convert string to float: 'no arrangement with satellite site'\n",
      "[WARN] unable to float: val (2 Unable to locate MRI or unavailable/<class 'str'>) e: could not convert string to float: '2 Unable to locate MRI or unavailable'\n",
      "[WARN] unable to int: val (2 Unable to locate MRI or unavailable/<class 'str'>) e: could not convert string to float: '2 Unable to locate MRI or unavailable'\n",
      "[WARN] unable to float: val (3 Other, specify/<class 'str'>) e: could not convert string to float: '3 Other, specify'\n",
      "[WARN] unable to int: val (3 Other, specify/<class 'str'>) e: could not convert string to float: '3 Other, specify'\n",
      "[WARN] unable to float: val (1 Global/<class 'str'>) e: could not convert string to float: '1 Global'\n",
      "[WARN] unable to int: val (1 Global/<class 'str'>) e: could not convert string to float: '1 Global'\n",
      "[WARN] unable to float: val (2 Localized/<class 'str'>) e: could not convert string to float: '2 Localized'\n",
      "[WARN] unable to int: val (2 Localized/<class 'str'>) e: could not convert string to float: '2 Localized'\n",
      "[WARN] unable to float: val (1 Global/<class 'str'>) e: could not convert string to float: '1 Global'\n",
      "[WARN] unable to int: val (1 Global/<class 'str'>) e: could not convert string to float: '1 Global'\n",
      "[WARN] unable to float: val (2 Localized/<class 'str'>) e: could not convert string to float: '2 Localized'\n",
      "[WARN] unable to int: val (2 Localized/<class 'str'>) e: could not convert string to float: '2 Localized'\n",
      "[WARN] unable to float: val (PO L>R/<class 'str'>) e: could not convert string to float: 'PO L>R'\n",
      "[WARN] unable to int: val (PO L>R/<class 'str'>) e: could not convert string to float: 'PO L>R'\n",
      "[WARN] unable to float: val (PO, L>R/<class 'str'>) e: could not convert string to float: 'PO, L>R'\n",
      "[WARN] unable to int: val (PO, L>R/<class 'str'>) e: could not convert string to float: 'PO, L>R'\n",
      "[WARN] unable to float: val (R>L FP, R TM/<class 'str'>) e: could not convert string to float: 'R>L FP, R TM'\n",
      "[WARN] unable to int: val (R>L FP, R TM/<class 'str'>) e: could not convert string to float: 'R>L FP, R TM'\n",
      "[WARN] unable to float: val (R>L FP; R TM/<class 'str'>) e: could not convert string to float: 'R>L FP; R TM'\n",
      "[WARN] unable to int: val (R>L FP; R TM/<class 'str'>) e: could not convert string to float: 'R>L FP; R TM'\n",
      "[WARN] unable to float: val (mild/<class 'str'>) e: could not convert string to float: 'mild'\n",
      "[WARN] unable to int: val (mild/<class 'str'>) e: could not convert string to float: 'mild'\n",
      "[WARN] unable to float: val (1 None/<class 'str'>) e: could not convert string to float: '1 None'\n",
      "[WARN] unable to int: val (1 None/<class 'str'>) e: could not convert string to float: '1 None'\n",
      "[WARN] unable to float: val (1 Normal/<class 'str'>) e: could not convert string to float: '1 Normal'\n",
      "[WARN] unable to int: val (1 Normal/<class 'str'>) e: could not convert string to float: '1 Normal'\n",
      "[WARN] unable to float: val (1 Nominal/<class 'str'>) e: could not convert string to float: '1 Nominal'\n",
      "[WARN] unable to int: val (1 Nominal/<class 'str'>) e: could not convert string to float: '1 Nominal'\n",
      "[WARN] unable to float: val (2 Mild/<class 'str'>) e: could not convert string to float: '2 Mild'\n",
      "[WARN] unable to int: val (2 Mild/<class 'str'>) e: could not convert string to float: '2 Mild'\n",
      "[WARN] unable to float: val (2 Minimal/<class 'str'>) e: could not convert string to float: '2 Minimal'\n",
      "[WARN] unable to int: val (2 Minimal/<class 'str'>) e: could not convert string to float: '2 Minimal'\n",
      "[WARN] unable to float: val (3 Moderate/<class 'str'>) e: could not convert string to float: '3 Moderate'\n",
      "[WARN] unable to int: val (3 Moderate/<class 'str'>) e: could not convert string to float: '3 Moderate'\n",
      "[WARN] unable to float: val (4 Severe/<class 'str'>) e: could not convert string to float: '4 Severe'\n",
      "[WARN] unable to int: val (4 Severe/<class 'str'>) e: could not convert string to float: '4 Severe'\n",
      "[WARN] unable to float: val (5 Shunted/<class 'str'>) e: could not convert string to float: '5 Shunted'\n",
      "[WARN] unable to int: val (5 Shunted/<class 'str'>) e: could not convert string to float: '5 Shunted'\n",
      "[WARN] unable to float: val (1 Normal/<class 'str'>) e: could not convert string to float: '1 Normal'\n",
      "[WARN] unable to int: val (1 Normal/<class 'str'>) e: could not convert string to float: '1 Normal'\n",
      "[WARN] unable to float: val (2 Equivocal/<class 'str'>) e: could not convert string to float: '2 Equivocal'\n",
      "[WARN] unable to int: val (2 Equivocal/<class 'str'>) e: could not convert string to float: '2 Equivocal'\n",
      "[WARN] unable to float: val (3 Abnormal/<class 'str'>) e: could not convert string to float: '3 Abnormal'\n",
      "[WARN] unable to int: val (3 Abnormal/<class 'str'>) e: could not convert string to float: '3 Abnormal'\n",
      "[WARN] unable to float: val (1 Minimal/<class 'str'>) e: could not convert string to float: '1 Minimal'\n",
      "[WARN] unable to int: val (1 Minimal/<class 'str'>) e: could not convert string to float: '1 Minimal'\n",
      "[WARN] unable to float: val (2 Moderate/<class 'str'>) e: could not convert string to float: '2 Moderate'\n",
      "[WARN] unable to int: val (2 Moderate/<class 'str'>) e: could not convert string to float: '2 Moderate'\n",
      "[WARN] unable to float: val (3 Severe/<class 'str'>) e: could not convert string to float: '3 Severe'\n",
      "[WARN] unable to int: val (3 Severe/<class 'str'>) e: could not convert string to float: '3 Severe'\n",
      "[WARN] unable to float: val (0 Normal/<class 'str'>) e: could not convert string to float: '0 Normal'\n",
      "[WARN] unable to int: val (0 Normal/<class 'str'>) e: could not convert string to float: '0 Normal'\n",
      "[WARN] unable to float: val (1A Minimal cerebral lesions only/<class 'str'>) e: could not convert string to float: '1A Minimal cerebral lesions only'\n",
      "[WARN] unable to int: val (1A Minimal cerebral lesions only/<class 'str'>) e: could not convert string to float: '1A Minimal cerebral lesions only'\n",
      "[WARN] unable to float: val (1A/<class 'str'>) e: could not convert string to float: '1A'\n",
      "[WARN] unable to int: val (1A/<class 'str'>) e: could not convert string to float: '1A'\n",
      "[WARN] unable to float: val (1B more extensive cerebral lesions/<class 'str'>) e: could not convert string to float: '1B more extensive cerebral lesions'\n",
      "[WARN] unable to int: val (1B more extensive cerebral lesions/<class 'str'>) e: could not convert string to float: '1B more extensive cerebral lesions'\n",
      "[WARN] unable to float: val (1B/<class 'str'>) e: could not convert string to float: '1B'\n",
      "[WARN] unable to int: val (1B/<class 'str'>) e: could not convert string to float: '1B'\n",
      "[WARN] unable to float: val (2A1 any watershed infarction/<class 'str'>) e: could not convert string to float: '2A1 any watershed infarction'\n",
      "[WARN] unable to int: val (2A1 any watershed infarction/<class 'str'>) e: could not convert string to float: '2A1 any watershed infarction'\n",
      "[WARN] unable to float: val (2A2 involvement of either BGT, PLIC/<class 'str'>) e: could not convert string to float: '2A2 involvement of either BGT, PLIC'\n",
      "[WARN] unable to int: val (2A2 involvement of either BGT, PLIC/<class 'str'>) e: could not convert string to float: '2A2 involvement of either BGT, PLIC'\n",
      "[WARN] unable to float: val (2A3 Both 2A1 and 2A2/<class 'str'>) e: could not convert string to float: '2A3 Both 2A1 and 2A2'\n",
      "[WARN] unable to int: val (2A3 Both 2A1 and 2A2/<class 'str'>) e: could not convert string to float: '2A3 Both 2A1 and 2A2'\n",
      "[WARN] unable to float: val (2A1/<class 'str'>) e: could not convert string to float: '2A1'\n",
      "[WARN] unable to int: val (2A1/<class 'str'>) e: could not convert string to float: '2A1'\n",
      "[WARN] unable to float: val (2A2/<class 'str'>) e: could not convert string to float: '2A2'\n",
      "[WARN] unable to int: val (2A2/<class 'str'>) e: could not convert string to float: '2A2'\n",
      "[WARN] unable to float: val (2A3/<class 'str'>) e: could not convert string to float: '2A3'\n",
      "[WARN] unable to int: val (2A3/<class 'str'>) e: could not convert string to float: '2A3'\n",
      "[WARN] unable to float: val (2B1 Any watershed or vascular infarction/<class 'str'>) e: could not convert string to float: '2B1 Any watershed or vascular infarction'\n",
      "[WARN] unable to int: val (2B1 Any watershed or vascular infarction/<class 'str'>) e: could not convert string to float: '2B1 Any watershed or vascular infarction'\n",
      "[WARN] unable to float: val (2B2 involvement of either BGT or PLIC/<class 'str'>) e: could not convert string to float: '2B2 involvement of either BGT or PLIC'\n",
      "[WARN] unable to int: val (2B2 involvement of either BGT or PLIC/<class 'str'>) e: could not convert string to float: '2B2 involvement of either BGT or PLIC'\n",
      "[WARN] unable to float: val (2B3 Both 2B1 and 2B2/<class 'str'>) e: could not convert string to float: '2B3 Both 2B1 and 2B2'\n",
      "[WARN] unable to int: val (2B3 Both 2B1 and 2B2/<class 'str'>) e: could not convert string to float: '2B3 Both 2B1 and 2B2'\n",
      "[WARN] unable to float: val (2B1/<class 'str'>) e: could not convert string to float: '2B1'\n",
      "[WARN] unable to int: val (2B1/<class 'str'>) e: could not convert string to float: '2B1'\n",
      "[WARN] unable to float: val (2B2/<class 'str'>) e: could not convert string to float: '2B2'\n",
      "[WARN] unable to int: val (2B2/<class 'str'>) e: could not convert string to float: '2B2'\n",
      "[WARN] unable to float: val (2B3/<class 'str'>) e: could not convert string to float: '2B3'\n",
      "[WARN] unable to int: val (2B3/<class 'str'>) e: could not convert string to float: '2B3'\n",
      "[WARN] unable to float: val (3 cerebral hemispheric devastation/<class 'str'>) e: could not convert string to float: '3 cerebral hemispheric devastation'\n",
      "[WARN] unable to int: val (3 cerebral hemispheric devastation/<class 'str'>) e: could not convert string to float: '3 cerebral hemispheric devastation'\n",
      "[WARN] unable to float: val (b/<class 'str'>) e: could not convert string to float: 'b'\n",
      "[WARN] unable to int: val (b/<class 'str'>) e: could not convert string to float: 'b'\n",
      "[WARN] unable to float: val (c/<class 'str'>) e: could not convert string to float: 'c'\n",
      "[WARN] unable to int: val (c/<class 'str'>) e: could not convert string to float: 'c'\n",
      "[WARN] unable to float: val (d/<class 'str'>) e: could not convert string to float: 'd'\n",
      "[WARN] unable to int: val (d/<class 'str'>) e: could not convert string to float: 'd'\n",
      "[WARN] unable to float: val (1 R/<class 'str'>) e: could not convert string to float: '1 R'\n",
      "[WARN] unable to int: val (1 R/<class 'str'>) e: could not convert string to float: '1 R'\n",
      "[WARN] unable to float: val (2 L/<class 'str'>) e: could not convert string to float: '2 L'\n",
      "[WARN] unable to int: val (2 L/<class 'str'>) e: could not convert string to float: '2 L'\n",
      "[WARN] unable to float: val (3 R-L/<class 'str'>) e: could not convert string to float: '3 R-L'\n",
      "[WARN] unable to int: val (3 R-L/<class 'str'>) e: could not convert string to float: '3 R-L'\n",
      "[WARN] unable to float: val (4 L-R/<class 'str'>) e: could not convert string to float: '4 L-R'\n",
      "[WARN] unable to int: val (4 L-R/<class 'str'>) e: could not convert string to float: '4 L-R'\n",
      "[WARN] unable to float: val (5 R=L/<class 'str'>) e: could not convert string to float: '5 R=L'\n",
      "[WARN] unable to int: val (5 R=L/<class 'str'>) e: could not convert string to float: '5 R=L'\n",
      "[WARN] unable to float: val (BG Basal Ganglia/<class 'str'>) e: could not convert string to float: 'BG Basal Ganglia'\n",
      "[WARN] unable to int: val (BG Basal Ganglia/<class 'str'>) e: could not convert string to float: 'BG Basal Ganglia'\n",
      "[WARN] unable to float: val (BG/<class 'str'>) e: could not convert string to float: 'BG'\n",
      "[WARN] unable to int: val (BG/<class 'str'>) e: could not convert string to float: 'BG'\n",
      "[WARN] unable to float: val (T Thalamus/<class 'str'>) e: could not convert string to float: 'T Thalamus'\n",
      "[WARN] unable to int: val (T Thalamus/<class 'str'>) e: could not convert string to float: 'T Thalamus'\n",
      "[WARN] unable to float: val (T/<class 'str'>) e: could not convert string to float: 'T'\n",
      "[WARN] unable to int: val (T/<class 'str'>) e: could not convert string to float: 'T'\n",
      "[WARN] unable to float: val (PERI Perisylvian/<class 'str'>) e: could not convert string to float: 'PERI Perisylvian'\n",
      "[WARN] unable to int: val (PERI Perisylvian/<class 'str'>) e: could not convert string to float: 'PERI Perisylvian'\n",
      "[WARN] unable to float: val (PERI/<class 'str'>) e: could not convert string to float: 'PERI'\n",
      "[WARN] unable to int: val (PERI/<class 'str'>) e: could not convert string to float: 'PERI'\n",
      "[WARN] unable to float: val (CR Corona Radiata/<class 'str'>) e: could not convert string to float: 'CR Corona Radiata'\n",
      "[WARN] unable to int: val (CR Corona Radiata/<class 'str'>) e: could not convert string to float: 'CR Corona Radiata'\n",
      "[WARN] unable to float: val (CR/<class 'str'>) e: could not convert string to float: 'CR'\n",
      "[WARN] unable to int: val (CR/<class 'str'>) e: could not convert string to float: 'CR'\n",
      "[WARN] unable to float: val (PER Perirolandic/<class 'str'>) e: could not convert string to float: 'PER Perirolandic'\n",
      "[WARN] unable to int: val (PER Perirolandic/<class 'str'>) e: could not convert string to float: 'PER Perirolandic'\n",
      "[WARN] unable to float: val (PER/<class 'str'>) e: could not convert string to float: 'PER'\n",
      "[WARN] unable to int: val (PER/<class 'str'>) e: could not convert string to float: 'PER'\n",
      "[WARN] unable to float: val (FP Frontal-parietal/<class 'str'>) e: could not convert string to float: 'FP Frontal-parietal'\n",
      "[WARN] unable to int: val (FP Frontal-parietal/<class 'str'>) e: could not convert string to float: 'FP Frontal-parietal'\n",
      "[WARN] unable to float: val (FP/<class 'str'>) e: could not convert string to float: 'FP'\n",
      "[WARN] unable to int: val (FP/<class 'str'>) e: could not convert string to float: 'FP'\n",
      "[WARN] unable to float: val (PT Parietal-temporal/<class 'str'>) e: could not convert string to float: 'PT Parietal-temporal'\n",
      "[WARN] unable to int: val (PT Parietal-temporal/<class 'str'>) e: could not convert string to float: 'PT Parietal-temporal'\n",
      "[WARN] unable to float: val (PT/<class 'str'>) e: could not convert string to float: 'PT'\n",
      "[WARN] unable to int: val (PT/<class 'str'>) e: could not convert string to float: 'PT'\n",
      "[WARN] unable to float: val (PO Parietal-occipital/<class 'str'>) e: could not convert string to float: 'PO Parietal-occipital'\n",
      "[WARN] unable to int: val (PO Parietal-occipital/<class 'str'>) e: could not convert string to float: 'PO Parietal-occipital'\n",
      "[WARN] unable to float: val (PO/<class 'str'>) e: could not convert string to float: 'PO'\n",
      "[WARN] unable to int: val (PO/<class 'str'>) e: could not convert string to float: 'PO'\n",
      "[WARN] unable to float: val (TO Temporal-occipital/<class 'str'>) e: could not convert string to float: 'TO Temporal-occipital'\n",
      "[WARN] unable to int: val (TO Temporal-occipital/<class 'str'>) e: could not convert string to float: 'TO Temporal-occipital'\n",
      "[WARN] unable to float: val (TO/<class 'str'>) e: could not convert string to float: 'TO'\n",
      "[WARN] unable to int: val (TO/<class 'str'>) e: could not convert string to float: 'TO'\n",
      "[WARN] unable to float: val (BEL Cerebellar/<class 'str'>) e: could not convert string to float: 'BEL Cerebellar'\n",
      "[WARN] unable to int: val (BEL Cerebellar/<class 'str'>) e: could not convert string to float: 'BEL Cerebellar'\n",
      "[WARN] unable to float: val (BEL/<class 'str'>) e: could not convert string to float: 'BEL'\n",
      "[WARN] unable to int: val (BEL/<class 'str'>) e: could not convert string to float: 'BEL'\n",
      "[WARN] unable to float: val (VENT Intraventricular/<class 'str'>) e: could not convert string to float: 'VENT Intraventricular'\n",
      "[WARN] unable to int: val (VENT Intraventricular/<class 'str'>) e: could not convert string to float: 'VENT Intraventricular'\n",
      "[WARN] unable to float: val (VENT/<class 'str'>) e: could not convert string to float: 'VENT'\n",
      "[WARN] unable to int: val (VENT/<class 'str'>) e: could not convert string to float: 'VENT'\n",
      "[WARN] unable to float: val (TM Temporal/<class 'str'>) e: could not convert string to float: 'TM Temporal'\n",
      "[WARN] unable to int: val (TM Temporal/<class 'str'>) e: could not convert string to float: 'TM Temporal'\n",
      "[WARN] unable to float: val (TM/<class 'str'>) e: could not convert string to float: 'TM'\n",
      "[WARN] unable to int: val (TM/<class 'str'>) e: could not convert string to float: 'TM'\n",
      "[WARN] unable to float: val (O Occipital/<class 'str'>) e: could not convert string to float: 'O Occipital'\n",
      "[WARN] unable to int: val (O Occipital/<class 'str'>) e: could not convert string to float: 'O Occipital'\n",
      "[WARN] unable to float: val (O/<class 'str'>) e: could not convert string to float: 'O'\n",
      "[WARN] unable to int: val (O/<class 'str'>) e: could not convert string to float: 'O'\n",
      "[WARN] unable to float: val (INS Insular/<class 'str'>) e: could not convert string to float: 'INS Insular'\n",
      "[WARN] unable to int: val (INS Insular/<class 'str'>) e: could not convert string to float: 'INS Insular'\n",
      "[WARN] unable to float: val (INS/<class 'str'>) e: could not convert string to float: 'INS'\n",
      "[WARN] unable to int: val (INS/<class 'str'>) e: could not convert string to float: 'INS'\n",
      "[WARN] unable to float: val (F Frontal/<class 'str'>) e: could not convert string to float: 'F Frontal'\n",
      "[WARN] unable to int: val (F Frontal/<class 'str'>) e: could not convert string to float: 'F Frontal'\n",
      "[WARN] unable to float: val (F/<class 'str'>) e: could not convert string to float: 'F'\n",
      "[WARN] unable to int: val (F/<class 'str'>) e: could not convert string to float: 'F'\n",
      "[WARN] unable to float: val (CC Corpus Callosum/<class 'str'>) e: could not convert string to float: 'CC Corpus Callosum'\n",
      "[WARN] unable to int: val (CC Corpus Callosum/<class 'str'>) e: could not convert string to float: 'CC Corpus Callosum'\n",
      "[WARN] unable to float: val (CC/<class 'str'>) e: could not convert string to float: 'CC'\n",
      "[WARN] unable to int: val (CC/<class 'str'>) e: could not convert string to float: 'CC'\n",
      "[WARN] unable to float: val (BS Brainstem/<class 'str'>) e: could not convert string to float: 'BS Brainstem'\n",
      "[WARN] unable to int: val (BS Brainstem/<class 'str'>) e: could not convert string to float: 'BS Brainstem'\n",
      "[WARN] unable to float: val (BS/<class 'str'>) e: could not convert string to float: 'BS'\n",
      "[WARN] unable to int: val (BS/<class 'str'>) e: could not convert string to float: 'BS'\n",
      "[WARN] unable to float: val (HIP Hippocampus/<class 'str'>) e: could not convert string to float: 'HIP Hippocampus'\n",
      "[WARN] unable to int: val (HIP Hippocampus/<class 'str'>) e: could not convert string to float: 'HIP Hippocampus'\n",
      "[WARN] unable to float: val (HIP/<class 'str'>) e: could not convert string to float: 'HIP'\n",
      "[WARN] unable to int: val (HIP/<class 'str'>) e: could not convert string to float: 'HIP'\n",
      "[WARN] unable to float: val (PL PLIC/<class 'str'>) e: could not convert string to float: 'PL PLIC'\n",
      "[WARN] unable to int: val (PL PLIC/<class 'str'>) e: could not convert string to float: 'PL PLIC'\n",
      "[WARN] unable to float: val (PL/<class 'str'>) e: could not convert string to float: 'PL'\n",
      "[WARN] unable to int: val (PL/<class 'str'>) e: could not convert string to float: 'PL'\n",
      "[WARN] unable to float: val (EX Extra-Axial/<class 'str'>) e: could not convert string to float: 'EX Extra-Axial'\n",
      "[WARN] unable to int: val (EX Extra-Axial/<class 'str'>) e: could not convert string to float: 'EX Extra-Axial'\n",
      "[WARN] unable to float: val (EX/<class 'str'>) e: could not convert string to float: 'EX'\n",
      "[WARN] unable to int: val (EX/<class 'str'>) e: could not convert string to float: 'EX'\n",
      "[WARN] unable to float: val (S Scalp/<class 'str'>) e: could not convert string to float: 'S Scalp'\n",
      "[WARN] unable to int: val (S Scalp/<class 'str'>) e: could not convert string to float: 'S Scalp'\n",
      "[WARN] unable to float: val (S/<class 'str'>) e: could not convert string to float: 'S'\n",
      "[WARN] unable to int: val (S/<class 'str'>) e: could not convert string to float: 'S'\n",
      "[WARN] unable to float: val (PARA Parasagittal area/<class 'str'>) e: could not convert string to float: 'PARA Parasagittal area'\n",
      "[WARN] unable to int: val (PARA Parasagittal area/<class 'str'>) e: could not convert string to float: 'PARA Parasagittal area'\n",
      "[WARN] unable to float: val (PARA/<class 'str'>) e: could not convert string to float: 'PARA'\n",
      "[WARN] unable to int: val (PARA/<class 'str'>) e: could not convert string to float: 'PARA'\n",
      "[WARN] unable to float: val (P Parietal/<class 'str'>) e: could not convert string to float: 'P Parietal'\n",
      "[WARN] unable to int: val (P Parietal/<class 'str'>) e: could not convert string to float: 'P Parietal'\n",
      "[WARN] unable to float: val (P/<class 'str'>) e: could not convert string to float: 'P'\n",
      "[WARN] unable to int: val (P/<class 'str'>) e: could not convert string to float: 'P'\n",
      "[WARN] unable to float: val (C Cerebral/<class 'str'>) e: could not convert string to float: 'C Cerebral'\n",
      "[WARN] unable to int: val (C Cerebral/<class 'str'>) e: could not convert string to float: 'C Cerebral'\n",
      "[WARN] unable to float: val (C/<class 'str'>) e: could not convert string to float: 'C'\n",
      "[WARN] unable to int: val (C/<class 'str'>) e: could not convert string to float: 'C'\n",
      "[WARN] unable to float: val (R Right only/<class 'str'>) e: could not convert string to float: 'R Right only'\n",
      "[WARN] unable to int: val (R Right only/<class 'str'>) e: could not convert string to float: 'R Right only'\n",
      "[WARN] unable to float: val (R/<class 'str'>) e: could not convert string to float: 'R'\n",
      "[WARN] unable to int: val (R/<class 'str'>) e: could not convert string to float: 'R'\n",
      "[WARN] unable to float: val (L Left only/<class 'str'>) e: could not convert string to float: 'L Left only'\n",
      "[WARN] unable to int: val (L Left only/<class 'str'>) e: could not convert string to float: 'L Left only'\n",
      "[WARN] unable to float: val (L/<class 'str'>) e: could not convert string to float: 'L'\n",
      "[WARN] unable to int: val (L/<class 'str'>) e: could not convert string to float: 'L'\n",
      "[WARN] unable to float: val (R>L Right greater than left/<class 'str'>) e: could not convert string to float: 'R>L Right greater than left'\n",
      "[WARN] unable to int: val (R>L Right greater than left/<class 'str'>) e: could not convert string to float: 'R>L Right greater than left'\n",
      "[WARN] unable to float: val (R>L/<class 'str'>) e: could not convert string to float: 'R>L'\n",
      "[WARN] unable to int: val (R>L/<class 'str'>) e: could not convert string to float: 'R>L'\n",
      "[WARN] unable to float: val (L>R Left greater than right/<class 'str'>) e: could not convert string to float: 'L>R Left greater than right'\n",
      "[WARN] unable to int: val (L>R Left greater than right/<class 'str'>) e: could not convert string to float: 'L>R Left greater than right'\n",
      "[WARN] unable to float: val (L>R/<class 'str'>) e: could not convert string to float: 'L>R'\n",
      "[WARN] unable to int: val (L>R/<class 'str'>) e: could not convert string to float: 'L>R'\n",
      "[WARN] unable to float: val (R=L Right and left, equally/<class 'str'>) e: could not convert string to float: 'R=L Right and left, equally'\n",
      "[WARN] unable to int: val (R=L Right and left, equally/<class 'str'>) e: could not convert string to float: 'R=L Right and left, equally'\n",
      "[WARN] unable to float: val (R=L/<class 'str'>) e: could not convert string to float: 'R=L'\n",
      "[WARN] unable to int: val (R=L/<class 'str'>) e: could not convert string to float: 'R=L'\n",
      "[WARN] unable to float: val (1 GM Gray matter/<class 'str'>) e: could not convert string to float: '1 GM Gray matter'\n",
      "[WARN] unable to int: val (1 GM Gray matter/<class 'str'>) e: could not convert string to float: '1 GM Gray matter'\n",
      "[WARN] unable to float: val (2 WM White matter/<class 'str'>) e: could not convert string to float: '2 WM White matter'\n",
      "[WARN] unable to int: val (2 WM White matter/<class 'str'>) e: could not convert string to float: '2 WM White matter'\n",
      "[WARN] unable to float: val (3 GM+WM Gray and white matter/<class 'str'>) e: could not convert string to float: '3 GM+WM Gray and white matter'\n",
      "[WARN] unable to int: val (3 GM+WM Gray and white matter/<class 'str'>) e: could not convert string to float: '3 GM+WM Gray and white matter'\n",
      "[WARN] unable to float: val (1 Mild/<class 'str'>) e: could not convert string to float: '1 Mild'\n",
      "[WARN] unable to int: val (1 Mild/<class 'str'>) e: could not convert string to float: '1 Mild'\n",
      "[WARN] unable to float: val (2 Moderate/<class 'str'>) e: could not convert string to float: '2 Moderate'\n",
      "[WARN] unable to int: val (2 Moderate/<class 'str'>) e: could not convert string to float: '2 Moderate'\n",
      "[WARN] unable to float: val (3 Extensive/<class 'str'>) e: could not convert string to float: '3 Extensive'\n",
      "[WARN] unable to int: val (3 Extensive/<class 'str'>) e: could not convert string to float: '3 Extensive'\n",
      "[WARN] unable to float: val (CYS Cystic/<class 'str'>) e: could not convert string to float: 'CYS Cystic'\n",
      "[WARN] unable to int: val (CYS Cystic/<class 'str'>) e: could not convert string to float: 'CYS Cystic'\n",
      "[WARN] unable to float: val (CYS/<class 'str'>) e: could not convert string to float: 'CYS'\n",
      "[WARN] unable to int: val (CYS/<class 'str'>) e: could not convert string to float: 'CYS'\n",
      "[WARN] unable to float: val (NCYS Non-Cystic/<class 'str'>) e: could not convert string to float: 'NCYS Non-Cystic'\n",
      "[WARN] unable to int: val (NCYS Non-Cystic/<class 'str'>) e: could not convert string to float: 'NCYS Non-Cystic'\n",
      "[WARN] unable to float: val (NCYS/<class 'str'>) e: could not convert string to float: 'NCYS'\n",
      "[WARN] unable to int: val (NCYS/<class 'str'>) e: could not convert string to float: 'NCYS'\n",
      "[WARN] unable to float: val (HEM Hemorrhage/<class 'str'>) e: could not convert string to float: 'HEM Hemorrhage'\n",
      "[WARN] unable to int: val (HEM Hemorrhage/<class 'str'>) e: could not convert string to float: 'HEM Hemorrhage'\n",
      "[WARN] unable to float: val (HEM/<class 'str'>) e: could not convert string to float: 'HEM'\n",
      "[WARN] unable to int: val (HEM/<class 'str'>) e: could not convert string to float: 'HEM'\n",
      "[WARN] unable to float: val (ED Edema/<class 'str'>) e: could not convert string to float: 'ED Edema'\n",
      "[WARN] unable to int: val (ED Edema/<class 'str'>) e: could not convert string to float: 'ED Edema'\n",
      "[WARN] unable to float: val (ED/<class 'str'>) e: could not convert string to float: 'ED'\n",
      "[WARN] unable to int: val (ED/<class 'str'>) e: could not convert string to float: 'ED'\n",
      "[WARN] unable to float: val (INF Infarct/<class 'str'>) e: could not convert string to float: 'INF Infarct'\n",
      "[WARN] unable to int: val (INF Infarct/<class 'str'>) e: could not convert string to float: 'INF Infarct'\n",
      "[WARN] unable to int: val (INF/<class 'str'>) e: cannot convert float infinity to integer\n",
      "[WARN] unable to float: val (<HS/<class 'str'>) e: could not convert string to float: '<HS'\n",
      "[WARN] unable to int: val (<HS/<class 'str'>) e: could not convert string to float: '<HS'\n",
      "[WARN] unable to float: val (HS/<class 'str'>) e: could not convert string to float: 'HS'\n",
      "[WARN] unable to int: val (HS/<class 'str'>) e: could not convert string to float: 'HS'\n",
      "[WARN] unable to float: val (>HS/<class 'str'>) e: could not convert string to float: '>HS'\n",
      "[WARN] unable to int: val (>HS/<class 'str'>) e: could not convert string to float: '>HS'\n",
      "[WARN] unable to float: val (Black/<class 'str'>) e: could not convert string to float: 'Black'\n",
      "[WARN] unable to int: val (Black/<class 'str'>) e: could not convert string to float: 'Black'\n",
      "[WARN] unable to float: val (White/<class 'str'>) e: could not convert string to float: 'White'\n",
      "[WARN] unable to int: val (White/<class 'str'>) e: could not convert string to float: 'White'\n",
      "[WARN] unable to float: val (Other/<class 'str'>) e: could not convert string to float: 'Other'\n",
      "[WARN] unable to int: val (Other/<class 'str'>) e: could not convert string to float: 'Other'\n",
      "[WARN] unable to float: val (Normal/<class 'str'>) e: could not convert string to float: 'Normal'\n",
      "[WARN] unable to int: val (Normal/<class 'str'>) e: could not convert string to float: 'Normal'\n",
      "[WARN] unable to float: val (Mild/<class 'str'>) e: could not convert string to float: 'Mild'\n",
      "[WARN] unable to int: val (Mild/<class 'str'>) e: could not convert string to float: 'Mild'\n",
      "[WARN] unable to float: val (Moderate/<class 'str'>) e: could not convert string to float: 'Moderate'\n",
      "[WARN] unable to int: val (Moderate/<class 'str'>) e: could not convert string to float: 'Moderate'\n",
      "[WARN] unable to float: val (Severe/<class 'str'>) e: could not convert string to float: 'Severe'\n",
      "[WARN] unable to int: val (Severe/<class 'str'>) e: could not convert string to float: 'Severe'\n",
      "[WARN] unable to float: val (0-1/<class 'str'>) e: could not convert string to float: '0-1'\n",
      "[WARN] unable to int: val (0-1/<class 'str'>) e: could not convert string to float: '0-1'\n",
      "[WARN] unable to float: val (2-3/<class 'str'>) e: could not convert string to float: '2-3'\n",
      "[WARN] unable to int: val (2-3/<class 'str'>) e: could not convert string to float: '2-3'\n",
      "[WARN] unable to float: val (1 Normal/<class 'str'>) e: could not convert string to float: '1 Normal'\n",
      "[WARN] unable to int: val (1 Normal/<class 'str'>) e: could not convert string to float: '1 Normal'\n",
      "[WARN] unable to float: val (2 Abnormal/<class 'str'>) e: could not convert string to float: '2 Abnormal'\n",
      "[WARN] unable to int: val (2 Abnormal/<class 'str'>) e: could not convert string to float: '2 Abnormal'\n",
      "[WARN] unable to float: val (3 Normal with other findings/<class 'str'>) e: could not convert string to float: '3 Normal with other findings'\n",
      "[WARN] unable to int: val (3 Normal with other findings/<class 'str'>) e: could not convert string to float: '3 Normal with other findings'\n",
      "[WARN] unable to float: val (0-Normal/<class 'str'>) e: could not convert string to float: '0-Normal'\n",
      "[WARN] unable to int: val (0-Normal/<class 'str'>) e: could not convert string to float: '0-Normal'\n",
      "[WARN] unable to float: val (1A/<class 'str'>) e: could not convert string to float: '1A'\n",
      "[WARN] unable to int: val (1A/<class 'str'>) e: could not convert string to float: '1A'\n",
      "[WARN] unable to float: val (1B/<class 'str'>) e: could not convert string to float: '1B'\n",
      "[WARN] unable to int: val (1B/<class 'str'>) e: could not convert string to float: '1B'\n",
      "[WARN] unable to float: val (2-BGT/<class 'str'>) e: could not convert string to float: '2-BGT'\n",
      "[WARN] unable to int: val (2-BGT/<class 'str'>) e: could not convert string to float: '2-BGT'\n",
      "[WARN] unable to float: val (2-WS/<class 'str'>) e: could not convert string to float: '2-WS'\n",
      "[WARN] unable to int: val (2-WS/<class 'str'>) e: could not convert string to float: '2-WS'\n",
      "[WARN] unable to float: val (3-Hemi/<class 'str'>) e: could not convert string to float: '3-Hemi'\n",
      "[WARN] unable to int: val (3-Hemi/<class 'str'>) e: could not convert string to float: '3-Hemi'\n",
      "[WARN] unable to float: val (Has primary/<class 'str'>) e: could not convert string to float: 'Has primary'\n",
      "[WARN] unable to int: val (Has primary/<class 'str'>) e: could not convert string to float: 'Has primary'\n",
      "[WARN] unable to float: val (Death/<class 'str'>) e: could not convert string to float: 'Death'\n",
      "[WARN] unable to int: val (Death/<class 'str'>) e: could not convert string to float: 'Death'\n",
      "[WARN] unable to float: val (Cord/<class 'str'>) e: could not convert string to float: 'Cord'\n",
      "[WARN] unable to int: val (Cord/<class 'str'>) e: could not convert string to float: 'Cord'\n",
      "[WARN] unable to float: val (Post/<class 'str'>) e: could not convert string to float: 'Post'\n",
      "[WARN] unable to int: val (Post/<class 'str'>) e: could not convert string to float: 'Post'\n"
     ]
    },
    {
     "name": "stdout",
     "output_type": "stream",
     "text": [
      "build_value_map: (0/979) variable: center type: center\n",
      "build_value_map: (1/979) variable: subjectID type: text\n",
      "build_value_map: (2/979) variable: siteID type: text\n",
      "build_value_map: (3/979) variable: birthDate type: date\n",
      "build_value_map: (4/979) variable: birthNumber type: int\n",
      "build_value_map: (5/979) variable: screenComment type: text\n",
      "build_value_map: (6/979) variable: coreTempLess32p5COverEq2Hr_e type: bool\n",
      "build_value_map: (7/979) variable: coreTempLess33p5COver1Hr_e type: bool\n",
      "build_value_map: (8/979) variable: coreTempLess34COver1Hr_e type: bool\n",
      "build_value_map: (9/979) variable: first6HrCoolByClinicalProtocol_e type: bool\n",
      "build_value_map: (10/979) variable: chromosomalAbnormality_e type: bool\n",
      "build_value_map: (11/979) variable: majorCongenitalAnomaly_e type: bool\n",
      "build_value_map: (12/979) variable: birthWeightLessEq1800g_e type: bool\n",
      "build_value_map: (13/979) variable: infantUnlikelySurvive_e type: bool\n",
      "build_value_map: (14/979) variable: first60MinAllBloodGasPHGreater7p15BaseDeficitLess10mEqPerL_e type: bool\n",
      "build_value_map: (15/979) variable: postnatalAgeLess6HrOrGreater24Hr_e type: bool\n",
      "build_value_map: (16/979) variable: enrolledConflictingTrial_e type: bool\n",
      "build_value_map: (17/979) variable: first60MinAnyBloodGasPHLessEq7_i type: bool\n",
      "build_value_map: (18/979) variable: first60MinAnyBloodGasBaseDeficitGreaterEq16mEqPerL_i type: bool\n",
      "build_value_map: (19/979) variable: historyPerinatalEvent_i type: bool\n",
      "build_value_map: (20/979) variable: at10MinApgarLessEq5OrVent_i type: bool\n",
      "build_value_map: (21/979) variable: randomEligible type: bool\n",
      "build_value_map: (22/979) variable: consentStatus type: consentStatus\n",
      "build_value_map: (23/979) variable: noConsentReason type: text\n",
      "build_value_map: (24/979) variable: noInStudyReason type: text\n",
      "build_value_map: (25/979) variable: random type: bool\n",
      "build_value_map: (26/979) variable: noRandomReason type: text\n",
      "build_value_map: (27/979) variable: noRandomReasonText type: text\n",
      "build_value_map: (28/979) variable: randomDate type: date\n",
      "build_value_map: (29/979) variable: randomTime type: time\n",
      "build_value_map: (30/979) variable: randomNumber type: text\n",
      "build_value_map: (31/979) variable: randomTreatmentAssign type: treatmentAssign\n",
      "build_value_map: (32/979) variable: randomTreatmentReceive type: bool\n",
      "build_value_map: (33/979) variable: treatmentBlanketType type: blanketType\n",
      "build_value_map: (34/979) variable: inOtherTrial type: bool\n",
      "build_value_map: (35/979) variable: inOtherTrialText type: text\n",
      "build_value_map: (36/979) variable: motherAge_year type: int\n",
      "build_value_map: (37/979) variable: motherRace type: race\n",
      "build_value_map: (38/979) variable: motherRaceOther1 type: race\n",
      "build_value_map: (39/979) variable: motherRaceOther2 type: race\n",
      "build_value_map: (40/979) variable: motherRaceOther3 type: race\n",
      "build_value_map: (41/979) variable: motherRaceOther4 type: race\n",
      "build_value_map: (42/979) variable: motherRaceOther5 type: race\n",
      "build_value_map: (43/979) variable: motherRaceOther6 type: race\n",
      "build_value_map: (44/979) variable: motherEthnicity type: ethnicity\n",
      "build_value_map: (45/979) variable: motherMaritalStatus type: maritalStatus\n",
      "build_value_map: (46/979) variable: motherEducation type: education\n",
      "build_value_map: (47/979) variable: motherInsurance type: insurance\n",
      "build_value_map: (48/979) variable: gravida type: int\n",
      "build_value_map: (49/979) variable: parity type: int\n",
      "build_value_map: (50/979) variable: multipleBirth type: bool\n",
      "build_value_map: (51/979) variable: numFetus type: int\n",
      "build_value_map: (52/979) variable: prenatalCare type: bool\n",
      "build_value_map: (53/979) variable: hypertensionEclampsia type: bool\n",
      "build_value_map: (54/979) variable: antepartumHemorrhage type: bool\n",
      "build_value_map: (55/979) variable: thyroidMalfunction type: bool\n",
      "build_value_map: (56/979) variable: diabetes type: bool\n",
      "build_value_map: (57/979) variable: maternalAdmissionDate type: date\n",
      "build_value_map: (58/979) variable: maternalAdmissionTime type: time\n",
      "build_value_map: (59/979) variable: ruptureDate type: date\n",
      "build_value_map: (60/979) variable: ruptureTime type: time\n",
      "build_value_map: (61/979) variable: ruptureOver18Hr type: bool\n",
      "build_value_map: (62/979) variable: ruptureBeforeDelivery type: bool\n",
      "build_value_map: (63/979) variable: labor type: bool\n",
      "build_value_map: (64/979) variable: laborOnsetDate type: date\n",
      "build_value_map: (65/979) variable: laborOnsetTime type: time\n",
      "build_value_map: (66/979) variable: deliveryMode type: deliveryMode\n",
      "build_value_map: (67/979) variable: fetalDecelerate type: bool\n",
      "build_value_map: (68/979) variable: cordMishap type: bool\n",
      "build_value_map: (69/979) variable: uterineRupture type: bool\n",
      "build_value_map: (70/979) variable: shoulderDystocia type: bool\n",
      "build_value_map: (71/979) variable: placentalProblem type: bool\n",
      "build_value_map: (72/979) variable: maternalHemorrhage type: bool\n",
      "build_value_map: (73/979) variable: maternalTrauma type: bool\n",
      "build_value_map: (74/979) variable: maternalCardioRespiratoryArrest type: bool\n",
      "build_value_map: (75/979) variable: maternalSeizure type: bool\n",
      "build_value_map: (76/979) variable: pyrexiaOver37p6C type: bool\n",
      "build_value_map: (77/979) variable: chorioamnionitis type: bool\n",
      "build_value_map: (78/979) variable: placentalPathologyPerformed type: bool\n",
      "build_value_map: (79/979) variable: histologicChorioamionitis type: bool\n",
      "build_value_map: (80/979) variable: laborAntibiotics type: bool\n",
      "build_value_map: (81/979) variable: laborAntibioticsCode1 type: antibiotics\n",
      "build_value_map: (82/979) variable: laborAntibioticsCode2 type: antibiotics\n",
      "build_value_map: (83/979) variable: laborAntibioticsCode3 type: antibiotics\n",
      "build_value_map: (84/979) variable: laborAntibioticsCode4 type: antibiotics\n",
      "build_value_map: (85/979) variable: laborAntibioticsCode5 type: antibiotics\n",
      "build_value_map: (86/979) variable: laborAntibioticsCode6 type: antibiotics\n",
      "build_value_map: (87/979) variable: encephalopathyLevel type: encephalopathyLevel\n",
      "build_value_map: (88/979) variable: randomInfantAge type: infantAge\n",
      "build_value_map: (89/979) variable: birthDate type: date\n",
      "build_value_map: (90/979) variable: birthTime type: time\n",
      "build_value_map: (91/979) variable: birthWeight_g type: float\n",
      "build_value_map: (92/979) variable: birthLength_cm type: float\n",
      "build_value_map: (93/979) variable: birthHeadCircumference_cm type: float\n",
      "build_value_map: (94/979) variable: birthGestationalAge_week type: int\n",
      "build_value_map: (95/979) variable: infantSex type: infantSex\n",
      "build_value_map: (96/979) variable: infantOutborn type: bool\n",
      "build_value_map: (97/979) variable: outbornInHospital type: bool\n",
      "build_value_map: (98/979) variable: outbornOutHospital type: bool\n",
      "build_value_map: (99/979) variable: neonateAdmissionDate type: date\n",
      "build_value_map: (100/979) variable: neonateAdmissionTime type: time\n",
      "build_value_map: (101/979) variable: Apgar1min type: int\n",
      "build_value_map: (102/979) variable: Apgar5min type: int\n",
      "build_value_map: (103/979) variable: Apgar10min type: int\n",
      "build_value_map: (104/979) variable: Apgar15min type: int\n",
      "build_value_map: (105/979) variable: Apgar20min type: int\n",
      "build_value_map: (106/979) variable: deliveryResuscitation type: bool\n",
      "build_value_map: (107/979) variable: deliveryOxygen type: bool\n",
      "build_value_map: (108/979) variable: deliveryBaggingAndMask type: bool\n",
      "build_value_map: (109/979) variable: deliveryChestCompression type: bool\n",
      "build_value_map: (110/979) variable: deliveryIntubation type: bool\n",
      "build_value_map: (111/979) variable: deliveryDrug type: bool\n",
      "build_value_map: (112/979) variable: at10MinContinueResuscitation type: bool\n",
      "build_value_map: (113/979) variable: at10MinOxygen type: bool\n",
      "build_value_map: (114/979) variable: at10MinBaggingAndMask type: bool\n",
      "build_value_map: (115/979) variable: at10MinChestCompression type: bool\n",
      "build_value_map: (116/979) variable: at10MinIntubation type: bool\n",
      "build_value_map: (117/979) variable: at10MinDrug type: bool\n",
      "build_value_map: (118/979) variable: spontaneousRespirationTime type: spontaneousRespirationTime\n",
      "build_value_map: (119/979) variable: cordBloodGas type: bool\n",
      "build_value_map: (120/979) variable: cordBloodGasSrc type: cordBloodGasSrc\n",
      "build_value_map: (121/979) variable: cordBloodGasPH type: float\n",
      "build_value_map: (122/979) variable: cordBloodGasPCO2_mmHg type: float\n",
      "build_value_map: (123/979) variable: cordBloodGasPO2_mmHg type: float\n",
      "build_value_map: (124/979) variable: cordBloodGasHCO3_mEqPerL type: float\n",
      "build_value_map: (125/979) variable: cordBloodGasBaseDeficit_mEqPerL type: float\n",
      "build_value_map: (126/979) variable: firstPostnatalBloodGas type: bool\n",
      "build_value_map: (127/979) variable: firstPostnatalBloodGasSrc type: bloodGasSrc\n",
      "build_value_map: (128/979) variable: firstPostnatalBloodGasDate type: date\n",
      "build_value_map: (129/979) variable: firstPostnatalBloodGasTime type: time\n",
      "build_value_map: (130/979) variable: firstPostnatalBloodGasPH type: float\n",
      "build_value_map: (131/979) variable: firstPostnatalBloodGasPCO2_mmHg type: float\n",
      "build_value_map: (132/979) variable: firstPostnatalBloodGasPO2_mmHg type: float\n",
      "build_value_map: (133/979) variable: firstPostnatalBloodGasHCO3_mEqPerL type: float\n",
      "build_value_map: (134/979) variable: firstPostnatalBloodGasBaseDeficit_mEqPerL type: float\n",
      "build_value_map: (135/979) variable: targetTreatmentTemperature_C type: targetTreatmentTemperature\n",
      "build_value_map: (136/979) variable: pre_CoolInitiate type: bool\n",
      "build_value_map: (137/979) variable: pre_CoolbyIceGelPack type: bool\n",
      "build_value_map: (138/979) variable: pre_CoolPassively type: bool\n",
      "build_value_map: (139/979) variable: pre_CoolClinically type: bool\n",
      "build_value_map: (140/979) variable: pre_CoolInitiateDate type: date\n",
      "build_value_map: (141/979) variable: pre_CoolInitiateTime type: time\n",
      "build_value_map: (142/979) variable: pre_AfterOvershootReach33p5C type: bool\n",
      "build_value_map: (143/979) variable: pre_AfterOvershootReach33p5CDate type: date\n",
      "build_value_map: (144/979) variable: pre_AfterOvershootReach33p5CTime type: time\n",
      "build_value_map: (145/979) variable: pre_TemperatureMinDate type: date\n",
      "build_value_map: (146/979) variable: pre_TemperatureMinTime type: time\n",
      "build_value_map: (147/979) variable: pre_SkinTemperatureMin_C type: float\n",
      "build_value_map: (148/979) variable: pre_AxillaryTemperatureMin_C type: float\n",
      "build_value_map: (149/979) variable: pre_EsophagealTemperatureMin_C type: float\n",
      "build_value_map: (150/979) variable: pre_ServoSetMin_C type: float\n",
      "build_value_map: (151/979) variable: pre_TemperatureMaxDate type: date\n",
      "build_value_map: (152/979) variable: pre_TemperatureMaxTime type: time\n",
      "build_value_map: (153/979) variable: pre_SkinTemperatureMax_C type: float\n",
      "build_value_map: (154/979) variable: pre_AxillaryTemperatureMax_C type: float\n",
      "build_value_map: (155/979) variable: pre_EsophagealTemperatureMax_C type: float\n",
      "build_value_map: (156/979) variable: pre_ServoSetMax_C type: float\n",
      "build_value_map: (157/979) variable: pre_CardioDate type: date\n",
      "build_value_map: (158/979) variable: pre_CardioTime type: time\n",
      "build_value_map: (159/979) variable: pre_CardioSystolicBloodPressure_mmHg type: float\n",
      "build_value_map: (160/979) variable: pre_CardioDiastolicBloodPressure_mmHg type: float\n",
      "build_value_map: (161/979) variable: pre_CardioHeartRate_BPM type: float\n",
      "build_value_map: (162/979) variable: pre_CardioVolumeExpand type: bool\n",
      "build_value_map: (163/979) variable: pre_CardioInotropicAgent type: bool\n",
      "build_value_map: (164/979) variable: pre_CardioBloodTransfusion type: bool\n",
      "build_value_map: (165/979) variable: pre_CardioPlatelets type: bool\n",
      "build_value_map: (166/979) variable: pre_RespiratoryDate type: date\n",
      "build_value_map: (167/979) variable: pre_RespiratoryTime type: time\n",
      "build_value_map: (168/979) variable: pre_RespiratorySupportType type: respiratorySupportType\n",
      "build_value_map: (169/979) variable: pre_RespiratoryFiO2 type: float\n",
      "build_value_map: (170/979) variable: pre_RespiratoryRate_Hz type: float\n",
      "build_value_map: (171/979) variable: pre_RespiratoryPIP_cmH2O type: float\n",
      "build_value_map: (172/979) variable: pre_RespiratoryMAP_cmH2O type: float\n",
      "build_value_map: (173/979) variable: pre_RespiratoryPEEP_cmH2O type: float\n",
      "build_value_map: (174/979) variable: pre_BloodGasDate type: date\n",
      "build_value_map: (175/979) variable: pre_BloodGasTime type: time\n",
      "build_value_map: (176/979) variable: pre_BloodGasSrc type: bloodGasSrc\n",
      "build_value_map: (177/979) variable: pre_BloodGasPH type: float\n",
      "build_value_map: (178/979) variable: pre_BloodGasPCO2_mmHg type: float\n",
      "build_value_map: (179/979) variable: pre_BloodGasPO2_mmHg type: float\n",
      "build_value_map: (180/979) variable: pre_BloodGasHCO3_mEqPerL type: float\n",
      "build_value_map: (181/979) variable: pre_BloodGasBaseDeficit_mEqPerL type: float\n",
      "build_value_map: (182/979) variable: pre_BloodGasPHCorrect type: float\n",
      "build_value_map: (183/979) variable: pre_BloodGasPCO2Correct_mmHg type: float\n",
      "build_value_map: (184/979) variable: pre_BloodGasPO2Correct_mmHg type: float\n",
      "build_value_map: (185/979) variable: pre_BloodGasHCO3Correct_mEqPerL type: float\n",
      "build_value_map: (186/979) variable: pre_BloodGasBaseDeficitCorrect_mEqPerL type: float\n",
      "build_value_map: (187/979) variable: pre_Hematology type: bool\n",
      "build_value_map: (188/979) variable: pre_HematologyDate type: date\n",
      "build_value_map: (189/979) variable: pre_HematologyTime type: time\n",
      "build_value_map: (190/979) variable: pre_HematologyWBC type: float\n",
      "build_value_map: (191/979) variable: pre_HematologyHemoglobin type: float\n",
      "build_value_map: (192/979) variable: pre_HematologyPolymorphNeutrophilsDifferentialCount type: float\n",
      "build_value_map: (193/979) variable: pre_HematologyMonocytes type: float\n",
      "build_value_map: (194/979) variable: pre_HematologyLymphocytes type: float\n",
      "build_value_map: (195/979) variable: pre_HematologyPlateletCount type: float\n",
      "build_value_map: (196/979) variable: pre_HematologyPT_s type: float\n",
      "build_value_map: (197/979) variable: pre_HematologyPTT_s type: float\n",
      "build_value_map: (198/979) variable: pre_PositiveCulture type: bool\n",
      "build_value_map: (199/979) variable: pre_PositiveCultureSrc type: positiveCultureSrc\n",
      "build_value_map: (200/979) variable: pre_PositiveCultureDate type: date\n",
      "build_value_map: (201/979) variable: pre_PositiveCultureTime type: time\n",
      "build_value_map: (202/979) variable: pre_PositiveCultureOrganismCode1 type: positiveCultureOrganism\n",
      "build_value_map: (203/979) variable: pre_PositiveCultureOrganismCode2 type: positiveCultureOrganism\n",
      "build_value_map: (204/979) variable: pre_PositiveCultureOrganismCode3 type: positiveCultureOrganism\n",
      "build_value_map: (205/979) variable: pre_Antibiotics type: bool\n",
      "build_value_map: (206/979) variable: pre_AntibioticsCode1 type: antibiotics\n",
      "build_value_map: (207/979) variable: pre_AntibioticsCode2 type: antibiotics\n",
      "build_value_map: (208/979) variable: pre_AntibioticsCode3 type: antibiotics\n",
      "build_value_map: (209/979) variable: pre_OtherMedTargetDate type: date\n",
      "build_value_map: (210/979) variable: pre_OtherMedTargetTime type: time\n",
      "build_value_map: (211/979) variable: pre_Anticonvulsants type: anticonvulsants\n",
      "build_value_map: (212/979) variable: pre_Anticonvulsants1 type: anticonvulsants\n",
      "build_value_map: (213/979) variable: pre_Anticonvulsants2 type: anticonvulsants\n",
      "build_value_map: (214/979) variable: pre_Anticonvulsants3 type: anticonvulsants\n",
      "build_value_map: (215/979) variable: pre_Analgesics type: analgesics\n",
      "build_value_map: (216/979) variable: pre_AnalgesicsSedatives1 type: analgesics\n",
      "build_value_map: (217/979) variable: pre_AnalgesicsSedatives2 type: analgesics\n",
      "build_value_map: (218/979) variable: pre_AnalgesicsSedatives3 type: analgesics\n",
      "build_value_map: (219/979) variable: pre_Antipyretics type: antipyretics\n",
      "build_value_map: (220/979) variable: pre_Antipyretics1 type: antipyretics\n",
      "build_value_map: (221/979) variable: pre_Antipyretics2 type: antipyretics\n",
      "build_value_map: (222/979) variable: pre_Antipyretics3 type: antipyretics\n",
      "build_value_map: (223/979) variable: pre_Paralytics type: paralytics\n",
      "build_value_map: (224/979) variable: pre_Paralytics1 type: paralytics\n",
      "build_value_map: (225/979) variable: pre_Paralytics2 type: paralytics\n",
      "build_value_map: (226/979) variable: pre_Paralytics3 type: paralytics\n",
      "build_value_map: (227/979) variable: pre_OtherMedFluidIntake_ccPerKg type: float\n",
      "build_value_map: (228/979) variable: pre_OtherMedUrineOutput_ccPerKg type: float\n",
      "build_value_map: (229/979) variable: pre_HeadSonogram type: bool\n",
      "build_value_map: (230/979) variable: pre_HeadSonogramDate type: date\n",
      "build_value_map: (231/979) variable: pre_HeadSonogramTime type: time\n",
      "build_value_map: (232/979) variable: pre_HeadSonogramResult1 type: imaging\n",
      "build_value_map: (233/979) variable: pre_HeadSonogramResult2 type: imaging\n",
      "build_value_map: (234/979) variable: pre_HeadSonogramResult3 type: imaging\n",
      "build_value_map: (235/979) variable: pre_HeadSonogramResult4 type: imaging\n",
      "build_value_map: (236/979) variable: pre_HeadSonogramResult5 type: imaging\n",
      "build_value_map: (237/979) variable: pre_HeadSonogramResult6 type: imaging\n",
      "build_value_map: (238/979) variable: pre_HeadSonogramResult7 type: imaging\n",
      "build_value_map: (239/979) variable: pre_HeadSonogramResult8 type: imaging\n",
      "build_value_map: (240/979) variable: pre_HeadSonogramResultText type: text\n",
      "build_value_map: (241/979) variable: pre_HeadCT type: bool\n",
      "build_value_map: (242/979) variable: pre_HeadCTDate type: date\n",
      "build_value_map: (243/979) variable: pre_HeadCTTime type: time\n",
      "build_value_map: (244/979) variable: pre_HeadCTResult1 type: imaging\n",
      "build_value_map: (245/979) variable: pre_HeadCTResult2 type: imaging\n",
      "build_value_map: (246/979) variable: pre_HeadCTResult3 type: imaging\n",
      "build_value_map: (247/979) variable: pre_HeadCTResult4 type: imaging\n",
      "build_value_map: (248/979) variable: pre_HeadCTResult5 type: imaging\n",
      "build_value_map: (249/979) variable: pre_HeadCTResult6 type: imaging\n",
      "build_value_map: (250/979) variable: pre_HeadCTResult7 type: imaging\n",
      "build_value_map: (251/979) variable: pre_HeadCTResult8 type: imaging\n",
      "build_value_map: (252/979) variable: pre_HeadCTResultText type: text\n",
      "build_value_map: (253/979) variable: pre_BrainMRI type: bool\n",
      "build_value_map: (254/979) variable: pre_BrainMRIDate type: date\n",
      "build_value_map: (255/979) variable: pre_BrainMRITime type: time\n",
      "build_value_map: (256/979) variable: pre_BrainMRIResult1 type: imaging\n",
      "build_value_map: (257/979) variable: pre_BrainMRIResult2 type: imaging\n",
      "build_value_map: (258/979) variable: pre_BrainMRIResult3 type: imaging\n",
      "build_value_map: (259/979) variable: pre_BrainMRIResult4 type: imaging\n",
      "build_value_map: (260/979) variable: pre_BrainMRIResult5 type: imaging\n",
      "build_value_map: (261/979) variable: pre_BrainMRIResult6 type: imaging\n",
      "build_value_map: (262/979) variable: pre_BrainMRIResult7 type: imaging\n",
      "build_value_map: (263/979) variable: pre_BrainMRIResult8 type: imaging\n",
      "build_value_map: (264/979) variable: pre_BrainMRIResultText type: text\n",
      "build_value_map: (265/979) variable: pre_NeuroExam type: bool\n",
      "build_value_map: (266/979) variable: pre_NoNeuroExamReason type: noNeuroExamReason\n",
      "build_value_map: (267/979) variable: pre_NeuroExamSignModerateSevereHIE3Category type: bool\n",
      "build_value_map: (268/979) variable: pre_NeuroExamLevelConsciousness type: signOfHIELvlOfCons\n",
      "build_value_map: (269/979) variable: pre_NeuroExamSpontaneousActivity type: signOfHIESpontaneousActivity\n",
      "build_value_map: (270/979) variable: pre_NeuroExamPosture type: signOfHIEPosture\n",
      "build_value_map: (271/979) variable: pre_NeuroExamTone type: signOfHIETone\n",
      "build_value_map: (272/979) variable: pre_NeuroExamSuck type: signOfHIESuck\n",
      "build_value_map: (273/979) variable: pre_NeuroExamMoro type: signOfHIEMoro\n",
      "build_value_map: (274/979) variable: pre_NeuroExamPupils type: signOfHIEPupils\n",
      "build_value_map: (275/979) variable: pre_NeuroExamHeartRate type: signOfHIEHeartRate\n",
      "build_value_map: (276/979) variable: pre_NeuroExamRespiration type: signOfHIERespiratory\n",
      "build_value_map: (277/979) variable: pre_NeuroExamDate type: date\n",
      "build_value_map: (278/979) variable: pre_NeuroExamTime type: time\n",
      "build_value_map: (279/979) variable: pre_NeuroExamSedate type: bool\n",
      "build_value_map: (280/979) variable: pre_NeuroExamSeizure type: bool\n",
      "build_value_map: (281/979) variable: temperatureTimeSlot type: int\n",
      "build_value_map: (282/979) variable: temperatureTimeSlotNoForm type: bool\n",
      "build_value_map: (283/979) variable: temperatureDate type: date\n",
      "build_value_map: (284/979) variable: temperatureTime type: time\n",
      "build_value_map: (285/979) variable: skinTemperature_C type: float\n",
      "build_value_map: (286/979) variable: axillaryTemperature_C type: float\n",
      "build_value_map: (287/979) variable: esophagealTemperature_C type: float\n",
      "build_value_map: (288/979) variable: blanketTemperature_C type: float\n",
      "build_value_map: (289/979) variable: servoSetTemperature_C type: float\n",
      "build_value_map: (290/979) variable: alterationSkinIntegrity type: bool\n",
      "build_value_map: (291/979) variable: shiver type: bool\n",
      "build_value_map: (292/979) variable: cardioTimeSlot type: int\n",
      "build_value_map: (293/979) variable: cardioDate type: date\n",
      "build_value_map: (294/979) variable: cardioTime type: time\n",
      "build_value_map: (295/979) variable: cardioSystolicBloodPressure_mmHg type: float\n",
      "build_value_map: (296/979) variable: cardioDiastolicBloodPressure_mmHg type: float\n",
      "build_value_map: (297/979) variable: cardioHeartRate_BPM type: float\n",
      "build_value_map: (298/979) variable: cardioVolumeExpand type: bool\n",
      "build_value_map: (299/979) variable: cardioInotropicAgent type: bool\n",
      "build_value_map: (300/979) variable: cardioBloodTransfusion type: bool\n",
      "build_value_map: (301/979) variable: cardioPlatelets type: bool\n",
      "build_value_map: (302/979) variable: respiratoryTimeSlot type: int\n",
      "build_value_map: (303/979) variable: respiratoryDate type: date\n",
      "build_value_map: (304/979) variable: respiratoryTime type: time\n",
      "build_value_map: (305/979) variable: respiratorySupportType type: respiratorySupportType\n",
      "build_value_map: (306/979) variable: respiratoryFiO2 type: float\n",
      "build_value_map: (307/979) variable: respiratoryRate_Hz type: float\n",
      "build_value_map: (308/979) variable: respiratoryPIP_cmH2O type: float\n",
      "build_value_map: (309/979) variable: respiratoryMAP_cmH2O type: float\n",
      "build_value_map: (310/979) variable: respiratoryPEEP_cmH2O type: float\n",
      "build_value_map: (311/979) variable: bloodGasTimeSlot type: int\n",
      "build_value_map: (312/979) variable: bloodGasDate type: date\n",
      "build_value_map: (313/979) variable: bloodGasTime type: time\n",
      "build_value_map: (314/979) variable: bloodGasSrc type: bloodGasSrc\n",
      "build_value_map: (315/979) variable: bloodGasPH type: float\n",
      "build_value_map: (316/979) variable: bloodGasPCO2_mmHg type: float\n",
      "build_value_map: (317/979) variable: bloodGasPO2_mmHg type: float\n",
      "build_value_map: (318/979) variable: bloodGasHCO3_mEqPerL type: float\n",
      "build_value_map: (319/979) variable: bloodGasBaseDeficit_mEqPerL type: float\n",
      "build_value_map: (320/979) variable: bloodGasPHCorrect type: float\n",
      "build_value_map: (321/979) variable: bloodGasPCO2Correct_mmHg type: float\n",
      "build_value_map: (322/979) variable: bloodGasPO2Correct_mmHg type: float\n",
      "build_value_map: (323/979) variable: bloodGasHCO3Correct_mEqPerL type: float\n",
      "build_value_map: (324/979) variable: bloodGasBaseDeficitCorrect_mEqPerL type: float\n",
      "build_value_map: (325/979) variable: hematology type: bool\n",
      "build_value_map: (326/979) variable: hematologyTimeSlot type: int\n",
      "build_value_map: (327/979) variable: hematologyDate type: date\n",
      "build_value_map: (328/979) variable: hematologyTime type: time\n",
      "build_value_map: (329/979) variable: hematologyWBC type: float\n",
      "build_value_map: (330/979) variable: hematologyHemoglobin type: float\n",
      "build_value_map: (331/979) variable: hematologyPolymorphNeutrophilsDifferentialCount type: float\n",
      "build_value_map: (332/979) variable: hematologyMonocytes type: float\n",
      "build_value_map: (333/979) variable: hematologyLymphocytes type: float\n",
      "build_value_map: (334/979) variable: hematologyPlateletCount type: float\n",
      "build_value_map: (335/979) variable: hematologyPT_s type: float\n",
      "build_value_map: (336/979) variable: hematologyPTT_s type: float\n",
      "build_value_map: (337/979) variable: hematologyHematocritMin type: float\n",
      "build_value_map: (338/979) variable: hematologyHematocritMinDate type: date\n",
      "build_value_map: (339/979) variable: hematologyPlateletCountMin type: float\n",
      "build_value_map: (340/979) variable: hematologyPlateletCountMinDate type: date\n",
      "build_value_map: (341/979) variable: bloodValueBunBaseline_mgPerdL type: float\n",
      "build_value_map: (342/979) variable: bloodValueBunBaseline_mgPerdLDate type: date\n",
      "build_value_map: (343/979) variable: bloodValueCreatinineBaseline_mgPerdL type: float\n",
      "build_value_map: (344/979) variable: bloodValueCreatinineBaseline_mgPerdLDate type: date\n",
      "build_value_map: (345/979) variable: bloodValueASTSGOTBaseline_UPerL type: float\n",
      "build_value_map: (346/979) variable: bloodValueASTSGOTBaseline_UPerLDate type: date\n",
      "build_value_map: (347/979) variable: bloodValueALTSGPTBaseline_UPerL type: float\n",
      "build_value_map: (348/979) variable: bloodValueALTSGPTBaseline_UPerLDate type: date\n",
      "build_value_map: (349/979) variable: bloodValueTotalBilirubinBaseline_mgPerdL type: float\n",
      "build_value_map: (350/979) variable: bloodValueTotalBilirubinBaseline_mgPerdLDate type: date\n",
      "build_value_map: (351/979) variable: bloodValuePHMin type: float\n",
      "build_value_map: (352/979) variable: bloodValuePHMinDate type: date\n",
      "build_value_map: (353/979) variable: bloodValueHCO3Min_mEqPerL type: float\n",
      "build_value_map: (354/979) variable: bloodValueHCO3Min_mEqPerLDate type: date\n",
      "build_value_map: (355/979) variable: bloodValueSerumNaMin_mEqPerL type: float\n",
      "build_value_map: (356/979) variable: bloodValueSerumNaMin_mEqPerLDate type: date\n",
      "build_value_map: (357/979) variable: bloodValueSerumKMin_mEqPerL type: float\n",
      "build_value_map: (358/979) variable: bloodValueSerumKMin_mEqPerLDate type: date\n",
      "build_value_map: (359/979) variable: bloodValueClMin_mEqPerL type: float\n",
      "build_value_map: (360/979) variable: bloodValueClMin_mEqPerLDate type: date\n",
      "build_value_map: (361/979) variable: bloodValueGlucoseMin_mgPerdL type: float\n",
      "build_value_map: (362/979) variable: bloodValueGlucoseMin_mgPerdLDate type: date\n",
      "build_value_map: (363/979) variable: bloodValueTotalCaMin_mgPerdL type: float\n",
      "build_value_map: (364/979) variable: bloodValueTotalCaMin_mgPerdLDate type: date\n",
      "build_value_map: (365/979) variable: bloodValueIonCaMin_mgPerdL type: float\n",
      "build_value_map: (366/979) variable: bloodValueIonCaMin_mgPerdLDate type: date\n",
      "build_value_map: (367/979) variable: bloodValueASTSGOTMin_UPerL type: float\n",
      "build_value_map: (368/979) variable: bloodValueASTSGOTMin_UPerLDate type: date\n",
      "build_value_map: (369/979) variable: bloodValueALTSGPTMin_UPerL type: float\n",
      "build_value_map: (370/979) variable: bloodValueALTSGPTMin_UPerLDate type: date\n",
      "build_value_map: (371/979) variable: bloodValueTotalBilirubinMin_mgPerdL type: float\n",
      "build_value_map: (372/979) variable: bloodValueTotalBilirubinMin_mgPerdLDate type: date\n",
      "build_value_map: (373/979) variable: bloodValuePHMax type: float\n",
      "build_value_map: (374/979) variable: bloodValuePHMaxDate type: date\n",
      "build_value_map: (375/979) variable: bloodValueBaseDeficitMax_mEqPerL type: float\n",
      "build_value_map: (376/979) variable: bloodValueBaseDeficitMax_mEqPerLDate type: date\n",
      "build_value_map: (377/979) variable: bloodValueSerumNaMax_mEqPerL type: float\n",
      "build_value_map: (378/979) variable: bloodValueSerumNaMax_mEqPerLDate type: date\n",
      "build_value_map: (379/979) variable: bloodValueSerumKMax_mEqPerL type: float\n",
      "build_value_map: (380/979) variable: bloodValueSerumKMax_mEqPerLDate type: date\n",
      "build_value_map: (381/979) variable: bloodValueClMax_mEqPerL type: float\n",
      "build_value_map: (382/979) variable: bloodValueClMax_mEqPerLDate type: date\n",
      "build_value_map: (383/979) variable: bloodValueBunMax_mgPerdL type: float\n",
      "build_value_map: (384/979) variable: bloodValueBunMax_mgPerdLDate type: date\n",
      "build_value_map: (385/979) variable: bloodValueCreatinineMax_mgPerdL type: float\n",
      "build_value_map: (386/979) variable: bloodValueCreatinineMax_mgPerdLDate type: date\n",
      "build_value_map: (387/979) variable: bloodValueGlucoseMax_mgPerdL type: float\n",
      "build_value_map: (388/979) variable: bloodValueGlucoseMax_mgPerdLDate type: date\n",
      "build_value_map: (389/979) variable: bloodValueTotalCaMax_mgPerdL type: float\n",
      "build_value_map: (390/979) variable: bloodValueTotalCaMax_mgPerdLDate type: date\n",
      "build_value_map: (391/979) variable: bloodValueIonCaMax_mgPerdL type: float\n",
      "build_value_map: (392/979) variable: bloodValueIonCaMax_mgPerdLDate type: date\n",
      "build_value_map: (393/979) variable: bloodValueASTSGOTMax_UPerL type: float\n",
      "build_value_map: (394/979) variable: bloodValueASTSGOTMax_UPerLDate type: date\n",
      "build_value_map: (395/979) variable: bloodValueALTSGPTMax_UPerL type: float\n",
      "build_value_map: (396/979) variable: bloodValueALTSGPTMax_UPerLDate type: date\n",
      "build_value_map: (397/979) variable: bloodValueTotalBilirubinMax_mgPerdL type: float\n",
      "build_value_map: (398/979) variable: bloodValueTotalBilirubinMax_mgPerdLDate type: date\n",
      "build_value_map: (399/979) variable: positiveCultureNumber type: int\n",
      "build_value_map: (400/979) variable: positiveCulture type: bool\n",
      "build_value_map: (401/979) variable: positiveCultureSrc type: positiveCultureSrc\n",
      "build_value_map: (402/979) variable: positiveCultureDate type: date\n",
      "build_value_map: (403/979) variable: positiveCultureTime type: time\n",
      "build_value_map: (404/979) variable: positiveCultureOrganismCode1 type: positiveCultureOrganism\n",
      "build_value_map: (405/979) variable: positiveCultureOrganismCode2 type: positiveCultureOrganism\n",
      "build_value_map: (406/979) variable: positiveCultureOrganismCode3 type: positiveCultureOrganism\n",
      "build_value_map: (407/979) variable: antibiotics type: bool\n",
      "build_value_map: (408/979) variable: antibioticsCode1 type: antibiotics\n",
      "build_value_map: (409/979) variable: antibioticsCode2 type: antibiotics\n",
      "build_value_map: (410/979) variable: antibioticsCode3 type: antibiotics\n",
      "build_value_map: (411/979) variable: rewarmingAntibiotics type: bool\n",
      "build_value_map: (412/979) variable: rewarmingAntibioticsCode1 type: antibiotics\n",
      "build_value_map: (413/979) variable: rewarmingAntibioticsCode2 type: antibiotics\n",
      "build_value_map: (414/979) variable: rewarmingAntibioticsCode3 type: antibiotics\n",
      "build_value_map: (415/979) variable: otherMedTimeSlot type: int\n",
      "build_value_map: (416/979) variable: otherMedTargetDate type: date\n",
      "build_value_map: (417/979) variable: otherMedTargetTime type: time\n",
      "build_value_map: (418/979) variable: anticonvulsants type: anticonvulsants\n",
      "build_value_map: (419/979) variable: anticonvulsants1 type: anticonvulsants\n",
      "build_value_map: (420/979) variable: anticonvulsants2 type: anticonvulsants\n",
      "build_value_map: (421/979) variable: anticonvulsants3 type: anticonvulsants\n",
      "build_value_map: (422/979) variable: analgesics type: analgesics\n",
      "build_value_map: (423/979) variable: analgesicsSedatives1 type: analgesics\n",
      "build_value_map: (424/979) variable: analgesicsSedatives2 type: analgesics\n",
      "build_value_map: (425/979) variable: analgesicsSedatives3 type: analgesics\n",
      "build_value_map: (426/979) variable: antipyretics type: antipyretics\n",
      "build_value_map: (427/979) variable: antipyretics1 type: antipyretics\n",
      "build_value_map: (428/979) variable: antipyretics2 type: antipyretics\n",
      "build_value_map: (429/979) variable: antipyretics3 type: antipyretics\n",
      "build_value_map: (430/979) variable: paralytics type: paralytics\n",
      "build_value_map: (431/979) variable: paralytics1 type: paralytics\n",
      "build_value_map: (432/979) variable: paralytics2 type: paralytics\n",
      "build_value_map: (433/979) variable: paralytics3 type: paralytics\n",
      "build_value_map: (434/979) variable: otherMedFluidIntake_ccPerKg type: float\n",
      "build_value_map: (435/979) variable: otherMedUrineOutput_ccPerKg type: float\n",
      "build_value_map: (436/979) variable: imagingTimeSlot type: int\n",
      "build_value_map: (437/979) variable: headSonogram type: bool\n",
      "build_value_map: (438/979) variable: headSonogramDate type: date\n",
      "build_value_map: (439/979) variable: headSonogramTime type: time\n",
      "build_value_map: (440/979) variable: headSonogramResult1 type: imaging\n",
      "build_value_map: (441/979) variable: headSonogramResult2 type: imaging\n",
      "build_value_map: (442/979) variable: headSonogramResult3 type: imaging\n",
      "build_value_map: (443/979) variable: headSonogramResult4 type: imaging\n",
      "build_value_map: (444/979) variable: headSonogramResult5 type: imaging\n",
      "build_value_map: (445/979) variable: headSonogramResult6 type: imaging\n",
      "build_value_map: (446/979) variable: headSonogramResult7 type: imaging\n",
      "build_value_map: (447/979) variable: headSonogramResult8 type: imaging\n",
      "build_value_map: (448/979) variable: headSonogramResultText type: text\n",
      "build_value_map: (449/979) variable: headCT type: bool\n",
      "build_value_map: (450/979) variable: headCTDate type: date\n",
      "build_value_map: (451/979) variable: headCTTime type: time\n",
      "build_value_map: (452/979) variable: headCTResult1 type: imaging\n",
      "build_value_map: (453/979) variable: headCTResult2 type: imaging\n",
      "build_value_map: (454/979) variable: headCTResult3 type: imaging\n",
      "build_value_map: (455/979) variable: headCTResult4 type: imaging\n",
      "build_value_map: (456/979) variable: headCTResult5 type: imaging\n",
      "build_value_map: (457/979) variable: headCTResult6 type: imaging\n",
      "build_value_map: (458/979) variable: headCTResult7 type: imaging\n",
      "build_value_map: (459/979) variable: headCTResult8 type: imaging\n",
      "build_value_map: (460/979) variable: headCTResultText type: text\n",
      "build_value_map: (461/979) variable: brainMRI type: bool\n",
      "build_value_map: (462/979) variable: brainMRIDate type: date\n",
      "build_value_map: (463/979) variable: brainMRITime type: time\n",
      "build_value_map: (464/979) variable: brainMRIResult1 type: imaging\n",
      "build_value_map: (465/979) variable: brainMRIResult2 type: imaging\n",
      "build_value_map: (466/979) variable: brainMRIResult3 type: imaging\n",
      "build_value_map: (467/979) variable: brainMRIResult4 type: imaging\n",
      "build_value_map: (468/979) variable: brainMRIResult5 type: imaging\n",
      "build_value_map: (469/979) variable: brainMRIResult6 type: imaging\n",
      "build_value_map: (470/979) variable: brainMRIResult7 type: imaging\n",
      "build_value_map: (471/979) variable: brainMRIResult8 type: imaging\n",
      "build_value_map: (472/979) variable: brainMRIResultText type: text\n",
      "build_value_map: (473/979) variable: elevatedTempNumber type: int\n",
      "build_value_map: (474/979) variable: elevatedTempMin type: int\n",
      "build_value_map: (475/979) variable: elevatedTempDate type: date\n",
      "build_value_map: (476/979) variable: elevatedTempTime type: time\n",
      "build_value_map: (477/979) variable: elevatedTempSkinTemperature_C type: float\n",
      "build_value_map: (478/979) variable: elevatedTempAxillaryTemperature_C type: float\n",
      "build_value_map: (479/979) variable: elevatedTempEsophagealTemperature_C type: float\n",
      "build_value_map: (480/979) variable: elevatedTempServoSet_C type: float\n",
      "build_value_map: (481/979) variable: elevatedTempDevice type: elevatedTempDevice\n",
      "build_value_map: (482/979) variable: elevatedTempDeviceMode type: elevatedTempDeviceMode\n",
      "build_value_map: (483/979) variable: elevatedTempAirTemperature_C type: float\n",
      "build_value_map: (484/979) variable: elevatedTempBath type: bool\n",
      "build_value_map: (485/979) variable: elevatedTempNoBathReason type: elevatedTempNoBathReason\n",
      "build_value_map: (486/979) variable: elevatedTempBlanketrol type: bool\n",
      "build_value_map: (487/979) variable: fluctuateTempNumber type: int\n",
      "build_value_map: (488/979) variable: fluctuateTempMin type: int\n",
      "build_value_map: (489/979) variable: fluctuateTempDate type: date\n",
      "build_value_map: (490/979) variable: fluctuateTempTime type: time\n",
      "build_value_map: (491/979) variable: fluctuateTempSkinTemperature_C type: float\n",
      "build_value_map: (492/979) variable: fluctuateTempAxillaryTemperature_C type: float\n",
      "build_value_map: (493/979) variable: fluctuateTempEsophagealTemperature_C type: float\n",
      "build_value_map: (494/979) variable: fluctuateTempBlanketrol_C type: float\n",
      "build_value_map: (495/979) variable: fluctuateTempServoSet_C type: float\n",
      "build_value_map: (496/979) variable: bradycardiaEventNumber type: int\n",
      "build_value_map: (497/979) variable: bradycardiaBelow70Over15min type: bool\n",
      "build_value_map: (498/979) variable: bradycardiaEKG type: bool\n",
      "build_value_map: (499/979) variable: bradycardiaEKGResult type: bradycardiaEKGResult\n",
      "build_value_map: (500/979) variable: bradycardiaEKGResultOtherText type: text\n",
      "build_value_map: (501/979) variable: bradycardiaAntiarrhythmiaMedication type: bool\n",
      "build_value_map: (502/979) variable: bradycardiaDate type: date\n",
      "build_value_map: (503/979) variable: bradycardiaTime type: time\n",
      "build_value_map: (504/979) variable: bradycardiaDuration type: bradycardiaDuration\n",
      "build_value_map: (505/979) variable: bradycardiaHeartRateMin type: bradycardiaHeartRateMin\n",
      "build_value_map: (506/979) variable: adverseEventNumber type: int\n",
      "build_value_map: (507/979) variable: SAECardiacExperienceOnsetDate type: date\n",
      "build_value_map: (508/979) variable: SAECardiacExperienceOnsetTime type: time\n",
      "build_value_map: (509/979) variable: SAECardiacExperienceResolveDate type: date\n",
      "build_value_map: (510/979) variable: SAECardiacExperienceResolveTime type: time\n",
      "build_value_map: (511/979) variable: SAECardiacExperienceDueToHypothermia type: SAEAttributable\n",
      "build_value_map: (512/979) variable: SAECardiacExperienceActionTaken type: SAEAction\n",
      "build_value_map: (513/979) variable: SAECardiacExperienceOutcome type: SAEOutcome\n",
      "build_value_map: (514/979) variable: SAECardiacExperienceComment type: text\n",
      "build_value_map: (515/979) variable: SAEMetabolicAcidosisOnsetDate type: date\n",
      "build_value_map: (516/979) variable: SAEMetabolicAcidosisOnsetTime type: time\n",
      "build_value_map: (517/979) variable: SAEMetabolicAcidosisResolveDate type: date\n",
      "build_value_map: (518/979) variable: SAEMetabolicAcidosisResolveTime type: time\n",
      "build_value_map: (519/979) variable: SAEMetabolicAcidosisDueToHypothermia type: SAEAttributable\n",
      "build_value_map: (520/979) variable: SAEMetabolicAcidosisActionTaken type: SAEAction\n",
      "build_value_map: (521/979) variable: SAEMetabolicAcidosisOutcome type: SAEOutcome\n",
      "build_value_map: (522/979) variable: SAEMetabolicAcidosisComment type: text\n",
      "build_value_map: (523/979) variable: SAEThrombosisExperienceOnsetDate type: date\n",
      "build_value_map: (524/979) variable: SAEThrombosisExperienceOnsetTime type: time\n",
      "build_value_map: (525/979) variable: SAEThrombosisExperienceResolveDate type: date\n",
      "build_value_map: (526/979) variable: SAEThrombosisExperienceResolveTime type: time\n",
      "build_value_map: (527/979) variable: SAEThrombosisExperienceDueToHypothermia type: SAEAttributable\n",
      "build_value_map: (528/979) variable: SAEThrombosisExperienceActionTaken type: SAEAction\n",
      "build_value_map: (529/979) variable: SAEThrombosisExperienceOutcome type: SAEOutcome\n",
      "build_value_map: (530/979) variable: SAEThrombosisExperienceComment type: text\n",
      "build_value_map: (531/979) variable: SAEBleedingExperienceOnsetDate type: date\n",
      "build_value_map: (532/979) variable: SAEBleedingExperienceOnsetTime type: time\n",
      "build_value_map: (533/979) variable: SAEBleedingExperienceResolveDate type: date\n",
      "build_value_map: (534/979) variable: SAEBleedingExperienceResolveTime type: time\n",
      "build_value_map: (535/979) variable: SAEBleedingExperienceDueToHypothermia type: SAEAttributable\n",
      "build_value_map: (536/979) variable: SAEBleedingExperienceActionTaken type: SAEAction\n",
      "build_value_map: (537/979) variable: SAEBleedingExperienceOutcome type: SAEOutcome\n",
      "build_value_map: (538/979) variable: SAEBleedingExperienceComment type: text\n",
      "build_value_map: (539/979) variable: SAEAlterationSkinIntegrity type: SAEAlterationSkinIntegrity\n",
      "build_value_map: (540/979) variable: SAEAlterationSkinIntegrityOnsetDate type: date\n",
      "build_value_map: (541/979) variable: SAEAlterationSkinIntegrityResolveDate type: date\n",
      "build_value_map: (542/979) variable: SAEAlterationSkinIntegrityDueToHypothermia type: SAEAttributable\n",
      "build_value_map: (543/979) variable: SAEAlterationSkinIntegrityActionTaken type: SAEAction\n",
      "build_value_map: (544/979) variable: SAEAlterationSkinIntegrityOutcome type: SAEOutcome\n",
      "build_value_map: (545/979) variable: SAEAlterationSkinIntegrityComment type: text\n",
      "build_value_map: (546/979) variable: SAEDeathDate type: date\n",
      "build_value_map: (547/979) variable: SAEDeathTime type: time\n",
      "build_value_map: (548/979) variable: SAEDeathDueToHypothermia type: SAEAttributable\n",
      "build_value_map: (549/979) variable: SAEDeathActionTaken type: SAEAction\n",
      "build_value_map: (550/979) variable: SAEDeathOutcome type: SAEOutcome\n",
      "build_value_map: (551/979) variable: SAEDeathComment type: text\n",
      "build_value_map: (552/979) variable: SAEOther type: text\n",
      "build_value_map: (553/979) variable: SAEOtherOnsetDate type: date\n",
      "build_value_map: (554/979) variable: SAEOtherOnsetTime type: time\n",
      "build_value_map: (555/979) variable: SAEOtherResolveDate type: date\n",
      "build_value_map: (556/979) variable: SAEOtherResolveTime type: time\n",
      "build_value_map: (557/979) variable: SAEOtherDueToHypothermia type: SAEAttributable\n",
      "build_value_map: (558/979) variable: SAEOtherActionTaken type: SAEAction\n",
      "build_value_map: (559/979) variable: SAEOtherOutcome type: SAEOutcome\n",
      "build_value_map: (560/979) variable: SAEOtherComment type: text\n",
      "build_value_map: (561/979) variable: violationNumber type: int\n",
      "build_value_map: (562/979) variable: violationDate type: date\n",
      "build_value_map: (563/979) variable: violationNature type: violationNature\n",
      "build_value_map: (564/979) variable: violationTreatmentAssign type: bool\n",
      "build_value_map: (565/979) variable: violationTreatmentReceive type: bool\n",
      "build_value_map: (566/979) variable: violationOtherText type: text\n",
      "build_value_map: (567/979) variable: violationCircumstance type: violationCircumstance\n",
      "build_value_map: (568/979) variable: violationOtherCirumstanceText type: text\n",
      "build_value_map: (569/979) variable: violationComment type: text\n",
      "build_value_map: (570/979) variable: interruptNumber type: int\n",
      "build_value_map: (571/979) variable: interrupt type: bool\n",
      "build_value_map: (572/979) variable: interruptReason type: interruptReason\n",
      "build_value_map: (573/979) variable: interruptReasonText type: text\n",
      "build_value_map: (574/979) variable: interruptDate type: date\n",
      "build_value_map: (575/979) variable: interruptTime type: time\n",
      "build_value_map: (576/979) variable: interruptRestartDate type: date\n",
      "build_value_map: (577/979) variable: interruptRestartTime type: time\n",
      "build_value_map: (578/979) variable: interruptRestartEsophagealTemperature_C type: float\n",
      "build_value_map: (579/979) variable: discontinueDate type: date\n",
      "build_value_map: (580/979) variable: discontinueTime type: time\n",
      "build_value_map: (581/979) variable: discontinueBeforeEndPeriod type: bool\n",
      "build_value_map: (582/979) variable: discontinueParentsWithdraw type: bool\n",
      "build_value_map: (583/979) variable: discontinuePhysicianWithdraw type: bool\n",
      "build_value_map: (584/979) variable: discontinueAdverseEvent type: bool\n",
      "build_value_map: (585/979) variable: discontinueECMO type: bool\n",
      "build_value_map: (586/979) variable: discontinueDNR type: bool\n",
      "build_value_map: (587/979) variable: discontinueWdrawSupport type: bool\n",
      "build_value_map: (588/979) variable: discontinueDeath type: bool\n",
      "build_value_map: (589/979) variable: discontinueOther type: bool\n",
      "build_value_map: (590/979) variable: discontinueOtherText type: text\n",
      "build_value_map: (591/979) variable: post_TemperatureTimeSlot type: int\n",
      "build_value_map: (592/979) variable: post_TemperatureDate type: date\n",
      "build_value_map: (593/979) variable: post_TemperatureTime type: time\n",
      "build_value_map: (594/979) variable: post_SkinTemperature_C type: float\n",
      "build_value_map: (595/979) variable: post_AxillaryTemperature_C type: float\n",
      "build_value_map: (596/979) variable: post_AlterationSkinIntegrity type: bool\n",
      "build_value_map: (597/979) variable: post_Shiver type: bool\n",
      "build_value_map: (598/979) variable: normothermiaAtEndIntervention type: bool\n",
      "build_value_map: (599/979) variable: normothermiaDate type: date\n",
      "build_value_map: (600/979) variable: normothermiaTime type: time\n",
      "build_value_map: (601/979) variable: normothermiaAxillaryTemperature_C type: float\n",
      "build_value_map: (602/979) variable: noNormothermiaReason type: text\n",
      "build_value_map: (603/979) variable: coolAfterIntervention type: coolAfterIntervention\n",
      "build_value_map: (604/979) variable: coolAfterInterventionText type: text\n",
      "build_value_map: (605/979) variable: post_BloodValueASTSGOT_UPerL type: float\n",
      "build_value_map: (606/979) variable: post_BloodValueASTSGOT_UPerLDate type: date\n",
      "build_value_map: (607/979) variable: post_BloodValueALTSGPT_UPerL type: float\n",
      "build_value_map: (608/979) variable: post_BloodValueALTSGPT_UPerLDate type: date\n",
      "build_value_map: (609/979) variable: post_BloodValueTotalBilirubin_mgPerdL type: float\n",
      "build_value_map: (610/979) variable: post_BloodValueTotalBilirubin_mgPerdLDate type: date\n",
      "build_value_map: (611/979) variable: post_HeadSonogram type: bool\n",
      "build_value_map: (612/979) variable: post_HeadSonogramDate type: date\n",
      "build_value_map: (613/979) variable: post_HeadSonogramTime type: time\n",
      "build_value_map: (614/979) variable: post_HeadSonogramResult1 type: imaging\n",
      "build_value_map: (615/979) variable: post_HeadSonogramResult2 type: imaging\n",
      "build_value_map: (616/979) variable: post_HeadSonogramResult3 type: imaging\n",
      "build_value_map: (617/979) variable: post_HeadSonogramResult4 type: imaging\n",
      "build_value_map: (618/979) variable: post_HeadSonogramResult5 type: imaging\n",
      "build_value_map: (619/979) variable: post_HeadSonogramResult6 type: imaging\n",
      "build_value_map: (620/979) variable: post_HeadSonogramResult7 type: imaging\n",
      "build_value_map: (621/979) variable: post_HeadSonogramResult8 type: imaging\n",
      "build_value_map: (622/979) variable: post_HeadSonogramResultText type: text\n",
      "build_value_map: (623/979) variable: post_HeadCT type: bool\n",
      "build_value_map: (624/979) variable: post_HeadCTDate type: date\n",
      "build_value_map: (625/979) variable: post_HeadCTTime type: time\n",
      "build_value_map: (626/979) variable: post_HeadCTResult1 type: imaging\n",
      "build_value_map: (627/979) variable: post_HeadCTResult2 type: imaging\n",
      "build_value_map: (628/979) variable: post_HeadCTResult3 type: imaging\n",
      "build_value_map: (629/979) variable: post_HeadCTResult4 type: imaging\n",
      "build_value_map: (630/979) variable: post_HeadCTResult5 type: imaging\n",
      "build_value_map: (631/979) variable: post_HeadCTResult6 type: imaging\n",
      "build_value_map: (632/979) variable: post_HeadCTResult7 type: imaging\n",
      "build_value_map: (633/979) variable: post_HeadCTResult8 type: imaging\n",
      "build_value_map: (634/979) variable: post_HeadCTResultText type: text\n",
      "build_value_map: (635/979) variable: post_BrainMRI type: bool\n",
      "build_value_map: (636/979) variable: post_BrainMRIDate type: date\n",
      "build_value_map: (637/979) variable: post_BrainMRITime type: time\n",
      "build_value_map: (638/979) variable: post_BrainMRIResult1 type: imaging\n",
      "build_value_map: (639/979) variable: post_BrainMRIResult2 type: imaging\n",
      "build_value_map: (640/979) variable: post_BrainMRIResult3 type: imaging\n",
      "build_value_map: (641/979) variable: post_BrainMRIResult4 type: imaging\n",
      "build_value_map: (642/979) variable: post_BrainMRIResult5 type: imaging\n",
      "build_value_map: (643/979) variable: post_BrainMRIResult6 type: imaging\n",
      "build_value_map: (644/979) variable: post_BrainMRIResult7 type: imaging\n",
      "build_value_map: (645/979) variable: post_BrainMRIResult8 type: imaging\n",
      "build_value_map: (646/979) variable: post_BrainMRIResultText type: text\n",
      "build_value_map: (647/979) variable: post_NeuroExamSectionID type: text\n",
      "build_value_map: (648/979) variable: post_NeuroExam type: bool\n",
      "build_value_map: (649/979) variable: post_NeuroExamDate type: date\n",
      "build_value_map: (650/979) variable: post_NeuroExamTime type: time\n",
      "build_value_map: (651/979) variable: post_NeuroExamLevelConsciousness type: signOfHIELvlOfCons\n",
      "build_value_map: (652/979) variable: post_NeuroExamSpontaneousActivity type: signOfHIESpontaneousActivity\n",
      "build_value_map: (653/979) variable: post_NeuroExamPosture type: signOfHIEPosture\n",
      "build_value_map: (654/979) variable: post_NeuroExamTone type: signOfHIETone\n",
      "build_value_map: (655/979) variable: post_NeuroExamSuck type: signOfHIESuck\n",
      "build_value_map: (656/979) variable: post_NeuroExamMoro type: signOfHIEMoro\n",
      "build_value_map: (657/979) variable: post_NeuroExamPupils type: signOfHIEPupils\n",
      "build_value_map: (658/979) variable: post_NeuroExamHeartRate type: signOfHIEHeartRate\n",
      "build_value_map: (659/979) variable: post_NeuroExamRespiration type: signOfHIERespiratory\n",
      "build_value_map: (660/979) variable: post_NeuroExamSeizure type: bool\n",
      "build_value_map: (661/979) variable: post_NeuroExamSedate type: bool\n",
      "build_value_map: (662/979) variable: post_NeuroExamClonusSustained type: bool\n",
      "build_value_map: (663/979) variable: post_NeuroExamFistedHand type: bool\n",
      "build_value_map: (664/979) variable: post_NeuroExamAbnormalMovement type: bool\n",
      "build_value_map: (665/979) variable: post_NeuroExamGagReflexAbsent type: bool\n",
      "build_value_map: (666/979) variable: post_NeuroExamHypertonia type: bool\n",
      "build_value_map: (667/979) variable: post_NeuroExamAsymTonicNeckReflex type: bool\n",
      "build_value_map: (668/979) variable: subjectID type: text\n",
      "build_value_map: (669/979) variable: MRIAvailable type: bool\n",
      "build_value_map: (670/979) variable: MRIAvailable_c type: bool\n",
      "build_value_map: (671/979) variable: MRIObtain type: bool\n",
      "build_value_map: (672/979) variable: MRIObtainWindow type: MRIObtainWindow\n",
      "build_value_map: (673/979) variable: MRIObtainWindow_c type: MRIObtainWindow\n",
      "build_value_map: (674/979) variable: MRIDate type: date\n",
      "build_value_map: (675/979) variable: MRITime type: time\n",
      "build_value_map: (676/979) variable: MRIObtainComment type: text\n",
      "build_value_map: (677/979) variable: MRISendRTIDate type: date\n",
      "build_value_map: (678/979) variable: MRIReceiveRTIDate type: date\n",
      "build_value_map: (679/979) variable: MRINoObtainReason type: MRINoObtainReason\n",
      "build_value_map: (680/979) variable: MRINoObtainReason_c type: MRINoObtainReason\n",
      "build_value_map: (681/979) variable: MRINoObtainReasonText type: text\n",
      "build_value_map: (682/979) variable: MRIDate type: date\n",
      "build_value_map: (683/979) variable: MRITime type: time\n",
      "build_value_map: (684/979) variable: MRIRead type: bool\n",
      "build_value_map: (685/979) variable: MRIScore type: MRINRNPatternOfInjury\n",
      "build_value_map: (686/979) variable: MRIIteration type: text\n",
      "build_value_map: (687/979) variable: MRIIncrement type: int\n",
      "build_value_map: (688/979) variable: center type: center\n",
      "build_value_map: (689/979) variable: MRIID type: text\n",
      "build_value_map: (690/979) variable: subjectID type: text\n",
      "build_value_map: (691/979) variable: MRIReader type: MRIReader\n",
      "build_value_map: (692/979) variable: MRIReadDate type: date\n",
      "build_value_map: (693/979) variable: MRIDate type: date\n",
      "build_value_map: (694/979) variable: MRIStrength_T type: float\n",
      "build_value_map: (695/979) variable: MRIStrength_c type: int\n",
      "build_value_map: (696/979) variable: MRIAdequateQuality type: bool\n",
      "build_value_map: (697/979) variable: MRIAdequateQuality_c type: bool\n",
      "build_value_map: (698/979) variable: MRIT1Axial type: bool\n",
      "build_value_map: (699/979) variable: MRIT1Axial_c type: bool\n",
      "build_value_map: (700/979) variable: MRIT1Coronal type: bool\n",
      "build_value_map: (701/979) variable: MRIT1Coronal_c type: bool\n",
      "build_value_map: (702/979) variable: MRIT1Sagittal type: bool\n",
      "build_value_map: (703/979) variable: MRIT1Sagittal_c type: bool\n",
      "build_value_map: (704/979) variable: MRIT1 type: bool\n",
      "build_value_map: (705/979) variable: MRIT2Axial type: bool\n",
      "build_value_map: (706/979) variable: MRIT2Axial_c type: bool\n",
      "build_value_map: (707/979) variable: MRIT2Coronal type: bool\n",
      "build_value_map: (708/979) variable: MRIT2Coronal_c type: bool\n",
      "build_value_map: (709/979) variable: MRIT2Sagittal type: bool\n",
      "build_value_map: (710/979) variable: MRIT2Sagittal_c type: bool\n",
      "build_value_map: (711/979) variable: MRIT2 type: bool\n",
      "build_value_map: (712/979) variable: MRIT2FLAIRAxial type: bool\n",
      "build_value_map: (713/979) variable: MRIT2FLAIRAxial_c type: bool\n",
      "build_value_map: (714/979) variable: MRIT2FLAIRCoronal type: bool\n",
      "build_value_map: (715/979) variable: MRIT2FLAIRCoronal_c type: bool\n",
      "build_value_map: (716/979) variable: MRIT2FLAIRSagittal type: bool\n",
      "build_value_map: (717/979) variable: MRIT2FLAIRSagittal_c type: bool\n",
      "build_value_map: (718/979) variable: MRIT2FLAIR type: bool\n",
      "build_value_map: (719/979) variable: MRIGRESWIAxial type: bool\n",
      "build_value_map: (720/979) variable: MRIGRESWIAxial_c type: bool\n",
      "build_value_map: (721/979) variable: MRIGRESWICoronal type: bool\n",
      "build_value_map: (722/979) variable: MRIGRESWICoronal_c type: bool\n",
      "build_value_map: (723/979) variable: MRIGRESWISagittal type: bool\n",
      "build_value_map: (724/979) variable: MRIGRESWISagittal_c type: bool\n",
      "build_value_map: (725/979) variable: MRIGRESWI type: bool\n",
      "build_value_map: (726/979) variable: MRISPGRAxial type: bool\n",
      "build_value_map: (727/979) variable: MRISPGRAxial_c type: bool\n",
      "build_value_map: (728/979) variable: MRISPGRCoronal type: bool\n",
      "build_value_map: (729/979) variable: MRISPGRCoronal_c type: bool\n",
      "build_value_map: (730/979) variable: MRISPGRSagittal type: bool\n",
      "build_value_map: (731/979) variable: MRISPGRSagittal_c type: bool\n",
      "build_value_map: (732/979) variable: MRISPGR type: bool\n",
      "build_value_map: (733/979) variable: MRIDWI type: bool\n",
      "build_value_map: (734/979) variable: MRIDWI_c type: bool\n",
      "build_value_map: (735/979) variable: MRIADC type: bool\n",
      "build_value_map: (736/979) variable: MRIADC_c type: bool\n",
      "build_value_map: (737/979) variable: MRIMRS type: bool\n",
      "build_value_map: (738/979) variable: MRIMRS_c type: bool\n",
      "build_value_map: (739/979) variable: MRIOther type: bool\n",
      "build_value_map: (740/979) variable: MRIOther_c type: bool\n",
      "build_value_map: (741/979) variable: MRIOtherText type: text\n",
      "build_value_map: (742/979) variable: MRIOverallDiagnosis type: MRIOverallDiagnosis\n",
      "build_value_map: (743/979) variable: MRIOverallDiagnosis_c type: int\n",
      "build_value_map: (744/979) variable: MRIOverallDiagnosisText type: text\n",
      "build_value_map: (745/979) variable: MRIAbnormal type: bool\n",
      "build_value_map: (746/979) variable: MRIAbnormal_c type: bool\n",
      "build_value_map: (747/979) variable: MRILesionNumber type: int\n",
      "build_value_map: (748/979) variable: MRILesionHemisphere type: bool\n",
      "build_value_map: (749/979) variable: MRILesionHemisphere_c type: bool\n",
      "build_value_map: (750/979) variable: MRIAbnormalRegion1 type: MRIAbnormalRegion\n",
      "build_value_map: (751/979) variable: MRIAbnormalRegion1_c type: MRIAbnormalRegion\n",
      "build_value_map: (752/979) variable: MRIAbnormalRegion2 type: MRIAbnormalRegion\n",
      "build_value_map: (753/979) variable: MRIAbnormalRegion2_c type: MRIAbnormalRegion\n",
      "build_value_map: (754/979) variable: MRIAbnormalRegion3 type: MRIAbnormalRegion\n",
      "build_value_map: (755/979) variable: MRIAbnormalRegion3_c type: MRIAbnormalRegion\n",
      "build_value_map: (756/979) variable: MRIAbnormalSide type: MRIAbnormalSide\n",
      "build_value_map: (757/979) variable: MRIAbnormalSide_c type: MRIAbnormalSide\n",
      "build_value_map: (758/979) variable: MRIAbnormalGrayMatterWhiteMatter type: MRIAbnormalGMWM\n",
      "build_value_map: (759/979) variable: MRIAbnormalGrayMatterWhiteMatter_c type: MRIAbnormalGMWM\n",
      "build_value_map: (760/979) variable: MRIAbnormalExtent1 type: MRIAbnormalExtent\n",
      "build_value_map: (761/979) variable: MRIAbnormalExtent1_c type: MRIAbnormalExtent\n",
      "build_value_map: (762/979) variable: MRIAbnormalExtent2 type: MRIAbnormalExtent\n",
      "build_value_map: (763/979) variable: MRIAbnormalExtent2_c type: MRIAbnormalExtent\n",
      "build_value_map: (764/979) variable: MRIAbnormalType type: MRIAbnormalType\n",
      "build_value_map: (765/979) variable: MRIAbnormalType_c type: MRIAbnormalType\n",
      "build_value_map: (766/979) variable: MRIAbnormalType2 type: MRIAbnormalType\n",
      "build_value_map: (767/979) variable: MRIAbnormalType2_c type: MRIAbnormalType\n",
      "build_value_map: (768/979) variable: MRIAbnormalComment type: text\n",
      "build_value_map: (769/979) variable: MRICerebralAtrophy type: bool\n",
      "build_value_map: (770/979) variable: MRICerebralAtrophy_c type: bool\n",
      "build_value_map: (771/979) variable: MRICerebralAtrophyGlobalLocal type: MRICerebralAtrophyGlobalLocal\n",
      "build_value_map: (772/979) variable: MRICerebralAtrophyGlobalLocal_c type: MRICerebralAtrophyGlobalLocal\n",
      "build_value_map: (773/979) variable: MRICerebralAtrophyRegion type: MRICerebralAtrophyRegion\n",
      "build_value_map: (774/979) variable: MRICerebralAtrophyQualAssessCC type: MRISeverity\n",
      "build_value_map: (775/979) variable: MRICerebralAtrophyQualAssessCC_c type: MRISeverity\n",
      "build_value_map: (776/979) variable: MRICerebralAtrophyQualAssessVDLeft type: MRISeverity\n",
      "build_value_map: (777/979) variable: MRICerebralAtrophyQualAssessVDLeft_c type: MRISeverity\n",
      "build_value_map: (778/979) variable: MRICerebralAtrophyQualAssessVDRight type: MRISeverity\n",
      "build_value_map: (779/979) variable: MRICerebralAtrophyQualAssessVDRight_c type: MRISeverity\n",
      "build_value_map: (780/979) variable: MRIInfarction type: bool\n",
      "build_value_map: (781/979) variable: MRIInfarction_c type: bool\n",
      "build_value_map: (782/979) variable: MRIInfarctionAterialTerritoryLeft type: bool\n",
      "build_value_map: (783/979) variable: MRIInfarctionAterialTerritoryLeft_c type: bool\n",
      "build_value_map: (784/979) variable: MRIInfarctionAterialTerritoryRight type: bool\n",
      "build_value_map: (785/979) variable: MRIInfarctionAterialTerritoryRight_c type: bool\n",
      "build_value_map: (786/979) variable: MRIInfarctionWatershedLeft type: bool\n",
      "build_value_map: (787/979) variable: MRIInfarctionWatershedLeft_c type: bool\n",
      "build_value_map: (788/979) variable: MRIInfarctionWatershedRight type: bool\n",
      "build_value_map: (789/979) variable: MRIInfarctionWatershedRight_c type: bool\n",
      "build_value_map: (790/979) variable: MRIMidlineShift type: bool\n",
      "build_value_map: (791/979) variable: MRIMidlineShift_c type: bool\n",
      "build_value_map: (792/979) variable: MRIBGT type: MRISeverity\n",
      "build_value_map: (793/979) variable: MRIBGT_c type: MRISeverity\n",
      "build_value_map: (794/979) variable: MRIPLIC type: MRIALICPLICSeverity\n",
      "build_value_map: (795/979) variable: MRIPLIC_c type: MRIALICPLICSeverity\n",
      "build_value_map: (796/979) variable: MRIALIC type: MRIALICPLICSeverity\n",
      "build_value_map: (797/979) variable: MRIALIC_c type: MRIALICPLICSeverity\n",
      "build_value_map: (798/979) variable: MRIWatershed type: MRISeverity\n",
      "build_value_map: (799/979) variable: MRIWatershed_c type: MRISeverity\n",
      "build_value_map: (800/979) variable: MRIWhiteMatterInjury type: MRIInjurySeverity\n",
      "build_value_map: (801/979) variable: MRIWhiteMatterInjury_c type: MRIInjurySeverity\n",
      "build_value_map: (802/979) variable: MRIFocalCorticalInjury type: MRIInjurySeverity\n",
      "build_value_map: (803/979) variable: MRIFocalCorticalInjury_c type: MRIInjurySeverity\n",
      "build_value_map: (804/979) variable: MRINRNPatternOfInjury type: MRINRNPatternOfInjury\n",
      "build_value_map: (805/979) variable: MRINRNPatternOfInjury_c type: MRINRNPatternOfInjury\n",
      "build_value_map: (806/979) variable: MRINRNPatternOfInjuryExtent type: MRINRNPatternOfInjuryExtent\n",
      "build_value_map: (807/979) variable: MRINRNPatternOfInjuryExtent_c type: MRINRNPatternOfInjuryExtent\n",
      "build_value_map: (808/979) variable: MRINRNPatternOfInjuryLateral type: MRINRNPatternOfInjuryLateral\n",
      "build_value_map: (809/979) variable: MRINRNPatternOfInjuryLateral_c type: MRINRNPatternOfInjuryLateral\n",
      "build_value_map: (810/979) variable: MRIComment type: text\n",
      "build_value_map: (811/979) variable: status type: status\n",
      "build_value_map: (812/979) variable: statusDate type: date\n",
      "build_value_map: (813/979) variable: dischargeStatus type: status\n",
      "build_value_map: (814/979) variable: dischargeDate type: date\n",
      "build_value_map: (815/979) variable: dischargeWeight_g type: float\n",
      "build_value_map: (816/979) variable: dischargeLength_cm type: float\n",
      "build_value_map: (817/979) variable: dischargeHeadCircumference_cm type: float\n",
      "build_value_map: (818/979) variable: transferReason type: transferReason\n",
      "build_value_map: (819/979) variable: transferDate type: date\n",
      "build_value_map: (820/979) variable: transferWeight_g type: float\n",
      "build_value_map: (821/979) variable: transferLength_cm type: float\n",
      "build_value_map: (822/979) variable: transferHeadCircumference_cm type: float\n",
      "build_value_map: (823/979) variable: transferOutcome type: transferOutcome\n",
      "build_value_map: (824/979) variable: homeTherapyStatus type: bool\n",
      "build_value_map: (825/979) variable: homeTherapyVentilator type: bool\n",
      "build_value_map: (826/979) variable: homeTherapyOxygen type: bool\n",
      "build_value_map: (827/979) variable: homeTherapyGavageTubeFeed type: bool\n",
      "build_value_map: (828/979) variable: homeTherapyGastrostomyTubeFeed type: bool\n",
      "build_value_map: (829/979) variable: homeTherapyTemperatureBlanket type: bool\n",
      "build_value_map: (830/979) variable: homeTherapyAnticonvulsantMedication type: bool\n",
      "build_value_map: (831/979) variable: homeTherapyOther type: bool\n",
      "build_value_map: (832/979) variable: homeTherapyOtherText type: text\n",
      "build_value_map: (833/979) variable: deathDate type: date\n",
      "build_value_map: (834/979) variable: deathTime type: time\n",
      "build_value_map: (835/979) variable: deathAutopsy type: bool\n",
      "build_value_map: (836/979) variable: deathCause type: deathCause\n",
      "build_value_map: (837/979) variable: deathCauseText type: text\n",
      "build_value_map: (838/979) variable: deathSrc type: deathSrc\n",
      "build_value_map: (839/979) variable: dischargeNeuroExam type: bool\n",
      "build_value_map: (840/979) variable: dischargeNeuroExamStatus type: dischargeNeuroExamStatus\n",
      "build_value_map: (841/979) variable: dischargeNeuroExamDate type: date\n",
      "build_value_map: (842/979) variable: dischargeNeuroExamTime type: time\n",
      "build_value_map: (843/979) variable: dischargeNeuroExamLevelConsciousness type: signOfHIELvlOfCons\n",
      "build_value_map: (844/979) variable: dischargeNeuroExamSpontaneousActivity type: signOfHIESpontaneousActivity\n",
      "build_value_map: (845/979) variable: dischargeNeuroExamPosture type: signOfHIEPosture\n",
      "build_value_map: (846/979) variable: dischargeNeuroExamTone type: signOfHIETone\n",
      "build_value_map: (847/979) variable: dischargeNeuroExamSuck type: signOfHIESuck\n",
      "build_value_map: (848/979) variable: dischargeNeuroExamMoro type: signOfHIEMoro\n",
      "build_value_map: (849/979) variable: dischargeNeuroExamPupils type: signOfHIEPupils\n",
      "build_value_map: (850/979) variable: dischargeNeuroExamHeartRate type: signOfHIEHeartRate\n",
      "build_value_map: (851/979) variable: dischargeNeuroExamRespiration type: signOfHIERespiratory\n",
      "build_value_map: (852/979) variable: dischargeNeuroExamSeizure type: bool\n",
      "build_value_map: (853/979) variable: dischargeNeuroExamClonusSustained type: bool\n",
      "build_value_map: (854/979) variable: dischargeNeuroExamFistedHand type: bool\n",
      "build_value_map: (855/979) variable: dischargeNeuroExamAbnormalMovement type: bool\n",
      "build_value_map: (856/979) variable: dischargeNeuroExamGagReflexAbsent type: bool\n",
      "build_value_map: (857/979) variable: dischargeNeuroExamSedate type: bool\n",
      "build_value_map: (858/979) variable: dischargeNeuroExamHypertonia type: bool\n",
      "build_value_map: (859/979) variable: dischargeNeuroExamAsymTonicNeckReflex type: bool\n",
      "build_value_map: (860/979) variable: dischargeCardiomegaly type: bool\n",
      "build_value_map: (861/979) variable: dischargeCardiacFailure type: bool\n",
      "build_value_map: (862/979) variable: dischargeCardiacDysfunctionByEcho type: bool\n",
      "build_value_map: (863/979) variable: dischargeCardiacIschemiaByEKG type: bool\n",
      "build_value_map: (864/979) variable: dischargeHypotension type: bool\n",
      "build_value_map: (865/979) variable: dischargeArrhythmia type: bool\n",
      "build_value_map: (866/979) variable: dischargeMeconiumAspirationSyndrome type: bool\n",
      "build_value_map: (867/979) variable: dischargePPHN type: bool\n",
      "build_value_map: (868/979) variable: dischargePulmonaryHemorrhage type: bool\n",
      "build_value_map: (869/979) variable: dischargePenumonia type: bool\n",
      "build_value_map: (870/979) variable: dischargeChronicLungDisease type: bool\n",
      "build_value_map: (871/979) variable: dischargeECMO type: bool\n",
      "build_value_map: (872/979) variable: dischargeINO type: bool\n",
      "build_value_map: (873/979) variable: dischargeVentilator_day type: int\n",
      "build_value_map: (874/979) variable: dischargeOxygen_day type: int\n",
      "build_value_map: (875/979) variable: dischargeCPAP_day type: int\n",
      "build_value_map: (876/979) variable: dischargePulmonaryStartDate1 type: date\n",
      "build_value_map: (877/979) variable: dischargePulmonaryStartTime1 type: time\n",
      "build_value_map: (878/979) variable: dischargePulmonaryEndDate1 type: date\n",
      "build_value_map: (879/979) variable: dischargePulmonaryEndTime1 type: time\n",
      "build_value_map: (880/979) variable: dischargePulmonaryStartDate2 type: date\n",
      "build_value_map: (881/979) variable: dischargePulmonaryStartTime2 type: time\n",
      "build_value_map: (882/979) variable: dischargePulmonaryEndDate2 type: date\n",
      "build_value_map: (883/979) variable: dischargePulmonaryEndTime2 type: time\n",
      "build_value_map: (884/979) variable: dischargePulmonaryStartDate3 type: date\n",
      "build_value_map: (885/979) variable: dischargePulmonaryStartTime3 type: time\n",
      "build_value_map: (886/979) variable: dischargePulmonaryEndDate3 type: date\n",
      "build_value_map: (887/979) variable: dischargePulmonaryEndTime3 type: time\n",
      "build_value_map: (888/979) variable: dischargeDIC type: bool\n",
      "build_value_map: (889/979) variable: dischargeHypoglycemia type: bool\n",
      "build_value_map: (890/979) variable: dischargeHypocalcemia type: bool\n",
      "build_value_map: (891/979) variable: dischargeHypomagnesemia type: bool\n",
      "build_value_map: (892/979) variable: dischargeOliguria type: bool\n",
      "build_value_map: (893/979) variable: dischargeAnuria type: bool\n",
      "build_value_map: (894/979) variable: dischargeDialysis type: bool\n",
      "build_value_map: (895/979) variable: dischargeEnteralFeedStart_day type: int\n",
      "build_value_map: (896/979) variable: dischargeTubeFeedingDuration_day type: int\n",
      "build_value_map: (897/979) variable: dischargeFullNippleFeed type: bool\n",
      "build_value_map: (898/979) variable: dischargeFullNippleFeed_day type: int\n",
      "build_value_map: (899/979) variable: dischargeNEC type: bool\n",
      "build_value_map: (900/979) variable: dischargeHepaticDysfunction type: bool\n",
      "build_value_map: (901/979) variable: dischargeAlteredSkinItegrityPostIntervention type: bool\n",
      "build_value_map: (902/979) variable: dischargeErythema type: bool\n",
      "build_value_map: (903/979) variable: dischargeErythemaOnsetDate type: date\n",
      "build_value_map: (904/979) variable: dischargeErythemaResolveDate type: date\n",
      "build_value_map: (905/979) variable: dischargeSclerema type: bool\n",
      "build_value_map: (906/979) variable: dischargeScleremaOnsetDate type: date\n",
      "build_value_map: (907/979) variable: dischargeScleremaResolveDate type: date\n",
      "build_value_map: (908/979) variable: dischargeCyanosis type: bool\n",
      "build_value_map: (909/979) variable: dischargeCyanosisOnsetDate type: date\n",
      "build_value_map: (910/979) variable: dischargeCyanosisResolveDate type: date\n",
      "build_value_map: (911/979) variable: dischargeSubFatNecrosis type: bool\n",
      "build_value_map: (912/979) variable: dischargeSubFatNecrosisOnsetDate type: date\n",
      "build_value_map: (913/979) variable: dischargeSubFatNecrosisResolveDate type: date\n",
      "build_value_map: (914/979) variable: dischargeHearingTest type: bool\n",
      "build_value_map: (915/979) variable: dischargeHearingTestNormal type: bool\n",
      "build_value_map: (916/979) variable: dischargeMajorSurgery type: bool\n",
      "build_value_map: (917/979) variable: dischargeSurgeryCode1 type: surgery\n",
      "build_value_map: (918/979) variable: dischargeSurgeryCode2 type: surgery\n",
      "build_value_map: (919/979) variable: dischargeSurgeryCode3 type: surgery\n",
      "build_value_map: (920/979) variable: dischargeSepticemia type: bool\n",
      "build_value_map: (921/979) variable: dischargeSepticemiaOrganismCode1 type: positiveCultureOrganism\n",
      "build_value_map: (922/979) variable: dischargeSepticemiaOrganismCode2 type: positiveCultureOrganism\n",
      "build_value_map: (923/979) variable: dischargeSepticemiaOrganismCode3 type: positiveCultureOrganism\n",
      "build_value_map: (924/979) variable: dischargeMeningitisEncephalitis type: bool\n",
      "build_value_map: (925/979) variable: dischargeMeningitisOrganismCode1 type: positiveCultureOrganism\n",
      "build_value_map: (926/979) variable: dischargeMeningitisOrganismCode2 type: positiveCultureOrganism\n",
      "build_value_map: (927/979) variable: dischargeMeningitisOrganismCode3 type: positiveCultureOrganism\n",
      "build_value_map: (928/979) variable: dischargeSeizure type: bool\n",
      "build_value_map: (929/979) variable: dischargeSeizurePreIntervention type: bool\n",
      "build_value_map: (930/979) variable: dischargeSeizureAfterBaseline type: bool\n",
      "build_value_map: (931/979) variable: dischargeSeizureMaintenance type: bool\n",
      "build_value_map: (932/979) variable: dischargeSeizureRewarming type: bool\n",
      "build_value_map: (933/979) variable: dischargeSeizurePostIntervention type: bool\n",
      "build_value_map: (934/979) variable: dischargeEEG type: bool\n",
      "build_value_map: (935/979) variable: dischargeEEGFindingConsistentWithSeizure type: bool\n",
      "build_value_map: (936/979) variable: dischargeEEGFindingConsistentWithSeizureDate type: date\n",
      "build_value_map: (937/979) variable: dischargeEEGFindingConsistentWithSeizureTime type: time\n",
      "build_value_map: (938/979) variable: dischargeEEGAbnormalBackgroundActivity type: bool\n",
      "build_value_map: (939/979) variable: dischargeEEGAbnormalBackgroundActivityDate type: date\n",
      "build_value_map: (940/979) variable: dischargeEEGAbnormalBackgroundActivityTime type: time\n",
      "build_value_map: (941/979) variable: dischargeAnticonvulsantsOver72H type: bool\n",
      "build_value_map: (942/979) variable: dischargeSyndromeMalformation type: bool\n",
      "build_value_map: (943/979) variable: dischargeBirthDefectCode1 type: birthDefect\n",
      "build_value_map: (944/979) variable: dischargeBirthDefectCode2 type: birthDefect\n",
      "build_value_map: (945/979) variable: dischargeBirthDefectCode3 type: birthDefect\n",
      "build_value_map: (946/979) variable: dischargeHomeTherapy type: bool\n",
      "build_value_map: (947/979) variable: dischargeHomeTherapyVentilator type: bool\n",
      "build_value_map: (948/979) variable: dischargeHomeTherapyOxygen type: bool\n",
      "build_value_map: (949/979) variable: dischargeHomeTherapyGavageTubeFeed type: bool\n",
      "build_value_map: (950/979) variable: dischargeHomeTherapyGastrostomyTubeFeed type: bool\n",
      "build_value_map: (951/979) variable: dischargeHomeTherapyTemperatureBlanket type: bool\n",
      "build_value_map: (952/979) variable: dischargeHomeTherapyAnticonvulsantMedication type: bool\n",
      "build_value_map: (953/979) variable: dischargeHomeTherapyOther type: bool\n",
      "build_value_map: (954/979) variable: dischargeHomeTherapyOtherText type: text\n",
      "build_value_map: (955/979) variable: wdrawSupport type: bool\n",
      "build_value_map: (956/979) variable: wdrawSupportDate type: date\n",
      "build_value_map: (957/979) variable: wdrawSupportTime type: time\n",
      "build_value_map: (958/979) variable: wdrawSupportDiscussedWithFamily type: bool\n",
      "build_value_map: (959/979) variable: wdrawSupportRecommendSolelyByClinicalTeam type: bool\n",
      "build_value_map: (960/979) variable: wdrawSupportNeurologicalExam type: bool\n",
      "build_value_map: (961/979) variable: wdrawSupportImagingStudy type: bool\n",
      "build_value_map: (962/979) variable: wdrawSupportEEGFinding type: bool\n",
      "build_value_map: (963/979) variable: wdrawSupportMultisystemOrganFailureOtherThanCNS type: bool\n",
      "build_value_map: (964/979) variable: wdrawSupportBrainBloodFlowScan type: bool\n",
      "build_value_map: (965/979) variable: wdrawSupportParentWish type: bool\n",
      "build_value_map: (966/979) variable: wdrawSupportOther type: bool\n",
      "build_value_map: (967/979) variable: wdrawSupportOtherText type: text\n",
      "build_value_map: (968/979) variable: limitCareDiscussedWithFamily type: bool\n",
      "build_value_map: (969/979) variable: limitCareRecommendSolelyByClinicalTeam type: bool\n",
      "build_value_map: (970/979) variable: limitCareAgreedByFamilyAndCareTeam type: bool\n",
      "build_value_map: (971/979) variable: limitCareNoFurtherMechanicalVentilationAndIntubation type: bool\n",
      "build_value_map: (972/979) variable: limitCareNoFurtherVentilationWithBagAndMask type: bool\n",
      "build_value_map: (973/979) variable: limitCareNoFurtherMedicationsToSupportBP type: bool\n",
      "build_value_map: (974/979) variable: limitCareNoFurtherChestCompression type: bool\n",
      "build_value_map: (975/979) variable: limitCareNoFurtherEmergencyMedication type: bool\n",
      "build_value_map: (976/979) variable: limitCareDNR type: bool\n",
      "build_value_map: (977/979) variable: limitCareDNRDate type: date\n",
      "build_value_map: (978/979) variable: limitCareDNRTime type: time\n"
     ]
    }
   ],
   "source": [
    "COMBINE_harmonizer.init_mapping(data_dict_filename, study_name)\n",
    "_VALUE_MAP = COMBINE_harmonizer.build_value_map(data_dict_filename, sheet_name)"
   ]
  },
  {
   "cell_type": "code",
   "execution_count": 5,
   "id": "eba5d594",
   "metadata": {
    "execution": {
     "iopub.execute_input": "2025-01-21T19:15:01.397638Z",
     "iopub.status.busy": "2025-01-21T19:15:01.397528Z",
     "iopub.status.idle": "2025-01-21T19:15:01.786194Z",
     "shell.execute_reply": "2025-01-21T19:15:01.785886Z"
    }
   },
   "outputs": [],
   "source": [
    "_ORDER_MAP = COMBINE_harmonizer.build_order_map(data_dict_filename, sheet_name)"
   ]
  },
  {
   "cell_type": "markdown",
   "id": "4bef8781-4208-4d82-9880-a7a6bac4479e",
   "metadata": {},
   "source": [
    "## 00-screening"
   ]
  },
  {
   "cell_type": "code",
   "execution_count": 6,
   "id": "4a9d74d2-3b6f-4992-aaae-96447188ea06",
   "metadata": {
    "execution": {
     "iopub.execute_input": "2025-01-21T19:15:01.787753Z",
     "iopub.status.busy": "2025-01-21T19:15:01.787674Z",
     "iopub.status.idle": "2025-01-21T19:15:01.789389Z",
     "shell.execute_reply": "2025-01-21T19:15:01.789160Z"
    }
   },
   "outputs": [],
   "source": [
    "base_filename = '00-02-screening.csv'"
   ]
  },
  {
   "cell_type": "code",
   "execution_count": 7,
   "id": "228b1b5c-4608-4447-8364-5b18db5926dc",
   "metadata": {
    "execution": {
     "iopub.execute_input": "2025-01-21T19:15:01.790539Z",
     "iopub.status.busy": "2025-01-21T19:15:01.790461Z",
     "iopub.status.idle": "2025-01-21T19:15:01.959968Z",
     "shell.execute_reply": "2025-01-21T19:15:01.959618Z"
    }
   },
   "outputs": [
    {
     "name": "stdout",
     "output_type": "stream",
     "text": [
      "(0/33) normalize_value: column: center\n",
      "(1/33) normalize_value: column: subjectID\n",
      "(2/33) normalize_value: column: uniqueID\n",
      "(3/33) normalize_value: column: siteID\n",
      "(4/33) normalize_value: column: screenComment\n",
      "(5/33) normalize_value: column: birthDate\n",
      "(6/33) normalize_value: column: birthNumber\n",
      "(7/33) normalize_value: column: coreTempLess33p5COver1Hr_e\n",
      "(8/33) normalize_value: column: first6HrCoolByClinicalProtocol_e\n",
      "(9/33) normalize_value: column: chromosomalAbnormality_e\n",
      "(10/33) normalize_value: column: majorCongenitalAnomaly_e\n",
      "(11/33) normalize_value: column: birthWeightLessEq1800g_e\n",
      "(12/33) normalize_value: column: infantUnlikelySurvive_e\n",
      "(13/33) normalize_value: column: first60MinAllBloodGasPHGreater7p15BaseDeficitLess10mEqPerL_e\n",
      "(14/33) normalize_value: column: first60MinAnyBloodGasPHLessEq7_i\n",
      "(15/33) normalize_value: column: first60MinAnyBloodGasBaseDeficitGreaterEq16mEqPerL_i\n",
      "[WARN] unable to bool: val: (**/<class 'str'>)\n",
      "[WARN] unable to bool: val: (**/<class 'str'>)\n",
      "(16/33) normalize_value: column: historyPerinatalEvent_i\n",
      "(17/33) normalize_value: column: at10MinApgarLessEq5OrVent_i\n",
      "(18/33) normalize_value: column: randomEligible\n",
      "(19/33) normalize_value: column: noConsentReason\n",
      "(20/33) normalize_value: column: random\n",
      "(21/33) normalize_value: column: noRandomReasonText\n",
      "(22/33) normalize_value: column: randomTreatmentReceive\n",
      "(23/33) normalize_value: column: consentStatus\n",
      "(24/33) normalize_value: column: noRandomReason\n",
      "(25/33) normalize_value: column: randomDate\n",
      "(26/33) normalize_value: column: randomTime\n",
      "(27/33) normalize_value: column: randomNumber\n",
      "(28/33) normalize_value: column: randomTreatmentAssign\n",
      "(29/33) normalize_value: column: treatmentBlanketType\n",
      "(30/33) normalize_value: column: coreTempLess32p5COverEq2Hr_e\n",
      "(31/33) normalize_value: column: inOtherTrial\n",
      "(32/33) normalize_value: column: inOtherTrialText\n"
     ]
    }
   ],
   "source": [
    "filename = os.sep.join([input_dir, base_filename])\n",
    "df = pd.read_csv(filename, dtype='O')\n",
    "df = COMBINE_harmonizer.normalize_value(df, _VALUE_MAP, order_map=_ORDER_MAP)\n",
    "\n",
    "out_filename = os.sep.join([out_dir, base_filename])\n",
    "df.to_csv(out_filename, index=False)"
   ]
  },
  {
   "cell_type": "code",
   "execution_count": 8,
   "id": "df10bdc3-a90e-4cbb-931d-5eeec660e6c9",
   "metadata": {
    "execution": {
     "iopub.execute_input": "2025-01-21T19:15:01.961733Z",
     "iopub.status.busy": "2025-01-21T19:15:01.961576Z",
     "iopub.status.idle": "2025-01-21T19:15:01.969339Z",
     "shell.execute_reply": "2025-01-21T19:15:01.969050Z"
    }
   },
   "outputs": [
    {
     "name": "stdout",
     "output_type": "stream",
     "text": [
      "(0/66) center: (1261/0)\n",
      "(1/66) center.orig: (1261/0)\n",
      "(2/66) subjectID: (1261/0)\n",
      "(3/66) subjectID.orig: (1261/0)\n",
      "(4/66) uniqueID: (1261/0)\n",
      "(5/66) uniqueID.orig: (1261/0)\n",
      "(6/66) siteID: (1261/0)\n",
      "(7/66) siteID.orig: (1261/0)\n",
      "(8/66) birthNumber: (1261/0)\n",
      "(9/66) birthNumber.orig: (1261/0)\n",
      "(10/66) screenComment: (1261/0)\n",
      "(11/66) screenComment.orig: (204/1057)\n",
      "(12/66) coreTempLess32p5COverEq2Hr_e: (1261/0)\n",
      "(13/66) coreTempLess32p5COverEq2Hr_e.orig: (413/848)\n",
      "(14/66) coreTempLess33p5COver1Hr_e: (1261/0)\n",
      "(15/66) coreTempLess33p5COver1Hr_e.orig: (848/413)\n",
      "(16/66) first6HrCoolByClinicalProtocol_e: (1261/0)\n",
      "(17/66) first6HrCoolByClinicalProtocol_e.orig: (1261/0)\n",
      "(18/66) chromosomalAbnormality_e: (1261/0)\n",
      "(19/66) chromosomalAbnormality_e.orig: (1261/0)\n",
      "(20/66) majorCongenitalAnomaly_e: (1261/0)\n",
      "(21/66) majorCongenitalAnomaly_e.orig: (1261/0)\n",
      "(22/66) birthWeightLessEq1800g_e: (1261/0)\n",
      "(23/66) birthWeightLessEq1800g_e.orig: (1261/0)\n",
      "(24/66) infantUnlikelySurvive_e: (1261/0)\n",
      "(25/66) infantUnlikelySurvive_e.orig: (1261/0)\n",
      "(26/66) first60MinAllBloodGasPHGreater7p15BaseDeficitLess10mEqPerL_e: (1261/0)\n",
      "(27/66) first60MinAllBloodGasPHGreater7p15BaseDeficitLess10mEqPerL_e.orig: (1198/63)\n",
      "(28/66) first60MinAnyBloodGasPHLessEq7_i: (1261/0)\n",
      "(29/66) first60MinAnyBloodGasPHLessEq7_i.orig: (970/291)\n",
      "(30/66) first60MinAnyBloodGasBaseDeficitGreaterEq16mEqPerL_i: (1261/0)\n",
      "(31/66) first60MinAnyBloodGasBaseDeficitGreaterEq16mEqPerL_i.orig: (933/328)\n",
      "(32/66) historyPerinatalEvent_i: (1261/0)\n",
      "(33/66) historyPerinatalEvent_i.orig: (301/960)\n",
      "(34/66) at10MinApgarLessEq5OrVent_i: (1261/0)\n",
      "(35/66) at10MinApgarLessEq5OrVent_i.orig: (301/960)\n",
      "(36/66) randomEligible: (1261/0)\n",
      "(37/66) randomEligible.orig: (1261/0)\n",
      "(38/66) consentStatus: (1261/0)\n",
      "(39/66) consentStatus.orig: (514/747)\n",
      "(40/66) noConsentReason: (1261/0)\n",
      "(41/66) noConsentReason.orig: (45/1216)\n",
      "(42/66) random: (1261/0)\n",
      "(43/66) random.orig: (364/897)\n",
      "(44/66) noRandomReason: (1261/0)\n",
      "(45/66) noRandomReason.orig: (0/1261)\n",
      "(46/66) noRandomReasonText: (1261/0)\n",
      "(47/66) noRandomReasonText.orig: (0/1261)\n",
      "(48/66) randomDate: (1261/0)\n",
      "(49/66) randomDate.orig: (364/897)\n",
      "(50/66) randomTime: (1261/0)\n",
      "(51/66) randomTime.orig: (363/898)\n",
      "(52/66) randomNumber: (1261/0)\n",
      "(53/66) randomNumber.orig: (364/897)\n",
      "(54/66) randomTreatmentAssign: (1261/0)\n",
      "(55/66) randomTreatmentAssign.orig: (364/897)\n",
      "(56/66) randomTreatmentReceive: (1261/0)\n",
      "(57/66) randomTreatmentReceive.orig: (364/897)\n",
      "(58/66) treatmentBlanketType: (1261/0)\n",
      "(59/66) treatmentBlanketType.orig: (364/897)\n",
      "(60/66) inOtherTrial: (1261/0)\n",
      "(61/66) inOtherTrial.orig: (364/897)\n",
      "(62/66) inOtherTrialText: (1261/0)\n",
      "(63/66) inOtherTrialText.orig: (8/1253)\n",
      "(64/66) birthDate: (1261/0)\n",
      "(65/66) birthDate.orig: (1261/0)\n"
     ]
    }
   ],
   "source": [
    "COMBINE_harmonizer.column_info(df)"
   ]
  },
  {
   "cell_type": "markdown",
   "id": "17c8ca9d-2b09-413d-a8b2-a1131799c5b5",
   "metadata": {},
   "source": [
    "## 01-main-screening"
   ]
  },
  {
   "cell_type": "code",
   "execution_count": 9,
   "id": "5cd6f782-3592-4c8f-8b37-a53e9ef6884d",
   "metadata": {
    "execution": {
     "iopub.execute_input": "2025-01-21T19:15:01.970830Z",
     "iopub.status.busy": "2025-01-21T19:15:01.970732Z",
     "iopub.status.idle": "2025-01-21T19:15:01.972560Z",
     "shell.execute_reply": "2025-01-21T19:15:01.972291Z"
    }
   },
   "outputs": [],
   "source": [
    "base_filename = '01-02-screening.csv'"
   ]
  },
  {
   "cell_type": "code",
   "execution_count": 10,
   "id": "b1c558f7-0067-4e9f-8993-5656b41a4eaa",
   "metadata": {
    "execution": {
     "iopub.execute_input": "2025-01-21T19:15:01.973913Z",
     "iopub.status.busy": "2025-01-21T19:15:01.973820Z",
     "iopub.status.idle": "2025-01-21T19:15:02.094513Z",
     "shell.execute_reply": "2025-01-21T19:15:02.094112Z"
    }
   },
   "outputs": [
    {
     "name": "stdout",
     "output_type": "stream",
     "text": [
      "(0/33) normalize_value: column: center\n",
      "(1/33) normalize_value: column: subjectID\n",
      "(2/33) normalize_value: column: uniqueID\n",
      "(3/33) normalize_value: column: siteID\n",
      "(4/33) normalize_value: column: screenComment\n",
      "(5/33) normalize_value: column: birthDate\n",
      "(6/33) normalize_value: column: birthNumber\n",
      "(7/33) normalize_value: column: coreTempLess33p5COver1Hr_e\n",
      "(8/33) normalize_value: column: first6HrCoolByClinicalProtocol_e\n",
      "(9/33) normalize_value: column: chromosomalAbnormality_e\n",
      "(10/33) normalize_value: column: majorCongenitalAnomaly_e\n",
      "(11/33) normalize_value: column: birthWeightLessEq1800g_e\n",
      "(12/33) normalize_value: column: infantUnlikelySurvive_e\n",
      "(13/33) normalize_value: column: first60MinAllBloodGasPHGreater7p15BaseDeficitLess10mEqPerL_e\n",
      "(14/33) normalize_value: column: first60MinAnyBloodGasPHLessEq7_i\n",
      "(15/33) normalize_value: column: first60MinAnyBloodGasBaseDeficitGreaterEq16mEqPerL_i\n",
      "(16/33) normalize_value: column: historyPerinatalEvent_i\n",
      "(17/33) normalize_value: column: at10MinApgarLessEq5OrVent_i\n",
      "(18/33) normalize_value: column: randomEligible\n",
      "(19/33) normalize_value: column: noConsentReason\n",
      "(20/33) normalize_value: column: random\n",
      "(21/33) normalize_value: column: noRandomReasonText\n",
      "(22/33) normalize_value: column: randomTreatmentReceive\n",
      "(23/33) normalize_value: column: consentStatus\n",
      "(24/33) normalize_value: column: noRandomReason\n",
      "(25/33) normalize_value: column: randomDate\n",
      "(26/33) normalize_value: column: randomTime\n",
      "(27/33) normalize_value: column: randomNumber\n",
      "(28/33) normalize_value: column: randomTreatmentAssign\n",
      "(29/33) normalize_value: column: treatmentBlanketType\n",
      "(30/33) normalize_value: column: coreTempLess32p5COverEq2Hr_e\n",
      "(31/33) normalize_value: column: inOtherTrial\n",
      "(32/33) normalize_value: column: inOtherTrialText\n"
     ]
    }
   ],
   "source": [
    "filename = os.sep.join([input_dir, base_filename])\n",
    "df = pd.read_csv(filename, dtype='O')\n",
    "df = COMBINE_harmonizer.normalize_value(df, _VALUE_MAP, order_map=_ORDER_MAP)\n",
    "\n",
    "out_filename = os.sep.join([out_dir, base_filename])\n",
    "df.to_csv(out_filename, index=False)"
   ]
  },
  {
   "cell_type": "code",
   "execution_count": 11,
   "id": "4d2362ac-b2bb-4700-8b11-33ab4c37c746",
   "metadata": {
    "execution": {
     "iopub.execute_input": "2025-01-21T19:15:02.096495Z",
     "iopub.status.busy": "2025-01-21T19:15:02.096299Z",
     "iopub.status.idle": "2025-01-21T19:15:02.103868Z",
     "shell.execute_reply": "2025-01-21T19:15:02.103453Z"
    }
   },
   "outputs": [
    {
     "name": "stdout",
     "output_type": "stream",
     "text": [
      "(0/66) center: (364/0)\n",
      "(1/66) center.orig: (364/0)\n",
      "(2/66) subjectID: (364/0)\n",
      "(3/66) subjectID.orig: (364/0)\n",
      "(4/66) uniqueID: (364/0)\n",
      "(5/66) uniqueID.orig: (364/0)\n",
      "(6/66) siteID: (364/0)\n",
      "(7/66) siteID.orig: (364/0)\n",
      "(8/66) birthNumber: (364/0)\n",
      "(9/66) birthNumber.orig: (364/0)\n",
      "(10/66) screenComment: (364/0)\n",
      "(11/66) screenComment.orig: (48/316)\n",
      "(12/66) coreTempLess32p5COverEq2Hr_e: (364/0)\n",
      "(13/66) coreTempLess32p5COverEq2Hr_e.orig: (95/269)\n",
      "(14/66) coreTempLess33p5COver1Hr_e: (364/0)\n",
      "(15/66) coreTempLess33p5COver1Hr_e.orig: (269/95)\n",
      "(16/66) first6HrCoolByClinicalProtocol_e: (364/0)\n",
      "(17/66) first6HrCoolByClinicalProtocol_e.orig: (364/0)\n",
      "(18/66) chromosomalAbnormality_e: (364/0)\n",
      "(19/66) chromosomalAbnormality_e.orig: (364/0)\n",
      "(20/66) majorCongenitalAnomaly_e: (364/0)\n",
      "(21/66) majorCongenitalAnomaly_e.orig: (364/0)\n",
      "(22/66) birthWeightLessEq1800g_e: (364/0)\n",
      "(23/66) birthWeightLessEq1800g_e.orig: (364/0)\n",
      "(24/66) infantUnlikelySurvive_e: (364/0)\n",
      "(25/66) infantUnlikelySurvive_e.orig: (364/0)\n",
      "(26/66) first60MinAllBloodGasPHGreater7p15BaseDeficitLess10mEqPerL_e: (364/0)\n",
      "(27/66) first60MinAllBloodGasPHGreater7p15BaseDeficitLess10mEqPerL_e.orig: (351/13)\n",
      "(28/66) first60MinAnyBloodGasPHLessEq7_i: (364/0)\n",
      "(29/66) first60MinAnyBloodGasPHLessEq7_i.orig: (350/14)\n",
      "(30/66) first60MinAnyBloodGasBaseDeficitGreaterEq16mEqPerL_i: (364/0)\n",
      "(31/66) first60MinAnyBloodGasBaseDeficitGreaterEq16mEqPerL_i.orig: (340/24)\n",
      "(32/66) historyPerinatalEvent_i: (364/0)\n",
      "(33/66) historyPerinatalEvent_i.orig: (64/300)\n",
      "(34/66) at10MinApgarLessEq5OrVent_i: (364/0)\n",
      "(35/66) at10MinApgarLessEq5OrVent_i.orig: (64/300)\n",
      "(36/66) randomEligible: (364/0)\n",
      "(37/66) randomEligible.orig: (364/0)\n",
      "(38/66) consentStatus: (364/0)\n",
      "(39/66) consentStatus.orig: (364/0)\n",
      "(40/66) noConsentReason: (364/0)\n",
      "(41/66) noConsentReason.orig: (0/364)\n",
      "(42/66) random: (364/0)\n",
      "(43/66) random.orig: (364/0)\n",
      "(44/66) noRandomReason: (364/0)\n",
      "(45/66) noRandomReason.orig: (0/364)\n",
      "(46/66) noRandomReasonText: (364/0)\n",
      "(47/66) noRandomReasonText.orig: (0/364)\n",
      "(48/66) randomDate: (364/0)\n",
      "(49/66) randomDate.orig: (364/0)\n",
      "(50/66) randomTime: (364/0)\n",
      "(51/66) randomTime.orig: (363/1)\n",
      "(52/66) randomNumber: (364/0)\n",
      "(53/66) randomNumber.orig: (364/0)\n",
      "(54/66) randomTreatmentAssign: (364/0)\n",
      "(55/66) randomTreatmentAssign.orig: (364/0)\n",
      "(56/66) randomTreatmentReceive: (364/0)\n",
      "(57/66) randomTreatmentReceive.orig: (364/0)\n",
      "(58/66) treatmentBlanketType: (364/0)\n",
      "(59/66) treatmentBlanketType.orig: (364/0)\n",
      "(60/66) inOtherTrial: (364/0)\n",
      "(61/66) inOtherTrial.orig: (364/0)\n",
      "(62/66) inOtherTrialText: (364/0)\n",
      "(63/66) inOtherTrialText.orig: (8/356)\n",
      "(64/66) birthDate: (364/0)\n",
      "(65/66) birthDate.orig: (364/0)\n"
     ]
    }
   ],
   "source": [
    "COMBINE_harmonizer.column_info(df)"
   ]
  },
  {
   "cell_type": "markdown",
   "id": "6fdb80a3",
   "metadata": {},
   "source": [
    "## 01-12-neuro-exam"
   ]
  },
  {
   "cell_type": "code",
   "execution_count": 12,
   "id": "b9a6dfb8",
   "metadata": {
    "execution": {
     "iopub.execute_input": "2025-01-21T19:15:02.105813Z",
     "iopub.status.busy": "2025-01-21T19:15:02.105652Z",
     "iopub.status.idle": "2025-01-21T19:15:02.107610Z",
     "shell.execute_reply": "2025-01-21T19:15:02.107282Z"
    }
   },
   "outputs": [],
   "source": [
    "base_filename = '00-12-neuro-exam.csv'"
   ]
  },
  {
   "cell_type": "code",
   "execution_count": 13,
   "id": "c75cd034",
   "metadata": {
    "execution": {
     "iopub.execute_input": "2025-01-21T19:15:02.109243Z",
     "iopub.status.busy": "2025-01-21T19:15:02.109091Z",
     "iopub.status.idle": "2025-01-21T19:15:02.262619Z",
     "shell.execute_reply": "2025-01-21T19:15:02.262109Z"
    }
   },
   "outputs": [
    {
     "name": "stdout",
     "output_type": "stream",
     "text": [
      "(0/19) normalize_value: column: center\n",
      "(1/19) normalize_value: column: subjectID\n",
      "(2/19) normalize_value: column: uniqueID\n",
      "(3/19) normalize_value: column: pre_NeuroExamSeizure\n",
      "(4/19) normalize_value: column: pre_NeuroExam\n",
      "(5/19) normalize_value: column: pre_NeuroExamTone\n",
      "[WARN] unable to float: val (**/<class 'str'>) e: could not convert string to float: '**'\n",
      "[WARN] unable to get value: sheet_name: signOfHIETone value: ** value_float: ** value_int: **\n",
      "[WARN] unable to float: val (**/<class 'str'>) e: could not convert string to float: '**'\n",
      "[WARN] unable to get value: sheet_name: signOfHIETone value: ** value_float: ** value_int: **\n",
      "(6/19) normalize_value: column: pre_NeuroExamRespiration\n",
      "(7/19) normalize_value: column: pre_NeuroExamSignModerateSevereHIE3Category\n",
      "(8/19) normalize_value: column: pre_NeuroExamSedate\n",
      "(9/19) normalize_value: column: pre_NoNeuroExamReason\n",
      "(10/19) normalize_value: column: pre_NeuroExamLevelConsciousness\n",
      "(11/19) normalize_value: column: pre_NeuroExamSpontaneousActivity\n",
      "(12/19) normalize_value: column: pre_NeuroExamPosture\n",
      "(13/19) normalize_value: column: pre_NeuroExamSuck\n",
      "(14/19) normalize_value: column: pre_NeuroExamMoro\n",
      "(15/19) normalize_value: column: pre_NeuroExamPupils\n",
      "(16/19) normalize_value: column: pre_NeuroExamHeartRate\n",
      "(17/19) normalize_value: column: pre_NeuroExamDate\n",
      "(18/19) normalize_value: column: pre_NeuroExamTime\n"
     ]
    }
   ],
   "source": [
    "filename = os.sep.join([input_dir, base_filename])\n",
    "df = pd.read_csv(filename, dtype='O')\n",
    "df = COMBINE_harmonizer.normalize_value(df, _VALUE_MAP, order_map=_ORDER_MAP)\n",
    "\n",
    "out_filename = os.sep.join([out_dir, base_filename])\n",
    "df.to_csv(out_filename, index=False)"
   ]
  },
  {
   "cell_type": "code",
   "execution_count": 14,
   "id": "29e4e55a",
   "metadata": {
    "execution": {
     "iopub.execute_input": "2025-01-21T19:15:02.265357Z",
     "iopub.status.busy": "2025-01-21T19:15:02.265116Z",
     "iopub.status.idle": "2025-01-21T19:15:02.273636Z",
     "shell.execute_reply": "2025-01-21T19:15:02.273158Z"
    }
   },
   "outputs": [
    {
     "name": "stdout",
     "output_type": "stream",
     "text": [
      "(0/38) center: (1261/0)\n",
      "(1/38) center.orig: (1261/0)\n",
      "(2/38) subjectID: (1261/0)\n",
      "(3/38) subjectID.orig: (1261/0)\n",
      "(4/38) uniqueID: (1261/0)\n",
      "(5/38) uniqueID.orig: (1261/0)\n",
      "(6/38) pre_NeuroExam: (1261/0)\n",
      "(7/38) pre_NeuroExam.orig: (882/379)\n",
      "(8/38) pre_NoNeuroExamReason: (1261/0)\n",
      "(9/38) pre_NoNeuroExamReason.orig: (59/1202)\n",
      "(10/38) pre_NeuroExamSignModerateSevereHIE3Category: (1261/0)\n",
      "(11/38) pre_NeuroExamSignModerateSevereHIE3Category.orig: (797/464)\n",
      "(12/38) pre_NeuroExamLevelConsciousness: (1261/0)\n",
      "(13/38) pre_NeuroExamLevelConsciousness.orig: (797/464)\n",
      "(14/38) pre_NeuroExamSpontaneousActivity: (1261/0)\n",
      "(15/38) pre_NeuroExamSpontaneousActivity.orig: (797/464)\n",
      "(16/38) pre_NeuroExamPosture: (1261/0)\n",
      "(17/38) pre_NeuroExamPosture.orig: (791/470)\n",
      "(18/38) pre_NeuroExamTone: (1261/0)\n",
      "(19/38) pre_NeuroExamTone.orig: (797/464)\n",
      "(20/38) pre_NeuroExamSuck: (1261/0)\n",
      "(21/38) pre_NeuroExamSuck.orig: (786/475)\n",
      "(22/38) pre_NeuroExamMoro: (1261/0)\n",
      "(23/38) pre_NeuroExamMoro.orig: (774/487)\n",
      "(24/38) pre_NeuroExamPupils: (1261/0)\n",
      "(25/38) pre_NeuroExamPupils.orig: (775/486)\n",
      "(26/38) pre_NeuroExamHeartRate: (1261/0)\n",
      "(27/38) pre_NeuroExamHeartRate.orig: (797/464)\n",
      "(28/38) pre_NeuroExamRespiration: (1261/0)\n",
      "(29/38) pre_NeuroExamRespiration.orig: (797/464)\n",
      "(30/38) pre_NeuroExamDate: (1261/0)\n",
      "(31/38) pre_NeuroExamDate.orig: (797/464)\n",
      "(32/38) pre_NeuroExamTime: (1261/0)\n",
      "(33/38) pre_NeuroExamTime.orig: (782/479)\n",
      "(34/38) pre_NeuroExamSedate: (1261/0)\n",
      "(35/38) pre_NeuroExamSedate.orig: (797/464)\n",
      "(36/38) pre_NeuroExamSeizure: (1261/0)\n",
      "(37/38) pre_NeuroExamSeizure.orig: (882/379)\n"
     ]
    }
   ],
   "source": [
    "COMBINE_harmonizer.column_info(df)"
   ]
  },
  {
   "cell_type": "markdown",
   "id": "078f2799",
   "metadata": {},
   "source": [
    "## 01-12-neuro-exam"
   ]
  },
  {
   "cell_type": "code",
   "execution_count": 15,
   "id": "f50b1530",
   "metadata": {
    "execution": {
     "iopub.execute_input": "2025-01-21T19:15:02.275814Z",
     "iopub.status.busy": "2025-01-21T19:15:02.275614Z",
     "iopub.status.idle": "2025-01-21T19:15:02.277800Z",
     "shell.execute_reply": "2025-01-21T19:15:02.277419Z"
    }
   },
   "outputs": [],
   "source": [
    "base_filename = '01-12-neuro-exam.csv'"
   ]
  },
  {
   "cell_type": "code",
   "execution_count": 16,
   "id": "ced749f4",
   "metadata": {
    "execution": {
     "iopub.execute_input": "2025-01-21T19:15:02.279825Z",
     "iopub.status.busy": "2025-01-21T19:15:02.279649Z",
     "iopub.status.idle": "2025-01-21T19:15:02.409377Z",
     "shell.execute_reply": "2025-01-21T19:15:02.408243Z"
    }
   },
   "outputs": [
    {
     "name": "stdout",
     "output_type": "stream",
     "text": [
      "(0/19) normalize_value: column: center\n",
      "(1/19) normalize_value: column: subjectID\n",
      "(2/19) normalize_value: column: uniqueID\n",
      "(3/19) normalize_value: column: pre_NeuroExamSeizure\n",
      "(4/19) normalize_value: column: pre_NeuroExam\n",
      "(5/19) normalize_value: column: pre_NeuroExamTone\n",
      "(6/19) normalize_value: column: pre_NeuroExamRespiration\n",
      "(7/19) normalize_value: column: pre_NeuroExamSignModerateSevereHIE3Category\n",
      "(8/19) normalize_value: column: pre_NeuroExamSedate\n",
      "(9/19) normalize_value: column: pre_NoNeuroExamReason\n",
      "(10/19) normalize_value: column: pre_NeuroExamLevelConsciousness\n",
      "(11/19) normalize_value: column: pre_NeuroExamSpontaneousActivity\n",
      "(12/19) normalize_value: column: pre_NeuroExamPosture\n",
      "(13/19) normalize_value: column: pre_NeuroExamSuck\n",
      "(14/19) normalize_value: column: pre_NeuroExamMoro\n",
      "(15/19) normalize_value: column: pre_NeuroExamPupils\n",
      "(16/19) normalize_value: column: pre_NeuroExamHeartRate\n",
      "(17/19) normalize_value: column: pre_NeuroExamDate\n",
      "(18/19) normalize_value: column: pre_NeuroExamTime\n"
     ]
    }
   ],
   "source": [
    "filename = os.sep.join([input_dir, base_filename])\n",
    "df = pd.read_csv(filename, dtype='O')\n",
    "df = COMBINE_harmonizer.normalize_value(df, _VALUE_MAP, order_map=_ORDER_MAP)\n",
    "\n",
    "out_filename = os.sep.join([out_dir, base_filename])\n",
    "df.to_csv(out_filename, index=False)"
   ]
  },
  {
   "cell_type": "code",
   "execution_count": 17,
   "id": "c103ef58",
   "metadata": {
    "execution": {
     "iopub.execute_input": "2025-01-21T19:15:02.415476Z",
     "iopub.status.busy": "2025-01-21T19:15:02.414905Z",
     "iopub.status.idle": "2025-01-21T19:15:02.423824Z",
     "shell.execute_reply": "2025-01-21T19:15:02.423249Z"
    }
   },
   "outputs": [
    {
     "name": "stdout",
     "output_type": "stream",
     "text": [
      "(0/38) center: (364/0)\n",
      "(1/38) center.orig: (364/0)\n",
      "(2/38) subjectID: (364/0)\n",
      "(3/38) subjectID.orig: (364/0)\n",
      "(4/38) uniqueID: (364/0)\n",
      "(5/38) uniqueID.orig: (364/0)\n",
      "(6/38) pre_NeuroExam: (364/0)\n",
      "(7/38) pre_NeuroExam.orig: (364/0)\n",
      "(8/38) pre_NoNeuroExamReason: (364/0)\n",
      "(9/38) pre_NoNeuroExamReason.orig: (2/362)\n",
      "(10/38) pre_NeuroExamSignModerateSevereHIE3Category: (364/0)\n",
      "(11/38) pre_NeuroExamSignModerateSevereHIE3Category.orig: (362/2)\n",
      "(12/38) pre_NeuroExamLevelConsciousness: (364/0)\n",
      "(13/38) pre_NeuroExamLevelConsciousness.orig: (362/2)\n",
      "(14/38) pre_NeuroExamSpontaneousActivity: (364/0)\n",
      "(15/38) pre_NeuroExamSpontaneousActivity.orig: (362/2)\n",
      "(16/38) pre_NeuroExamPosture: (364/0)\n",
      "(17/38) pre_NeuroExamPosture.orig: (360/4)\n",
      "(18/38) pre_NeuroExamTone: (364/0)\n",
      "(19/38) pre_NeuroExamTone.orig: (362/2)\n",
      "(20/38) pre_NeuroExamSuck: (364/0)\n",
      "(21/38) pre_NeuroExamSuck.orig: (357/7)\n",
      "(22/38) pre_NeuroExamMoro: (364/0)\n",
      "(23/38) pre_NeuroExamMoro.orig: (348/16)\n",
      "(24/38) pre_NeuroExamPupils: (364/0)\n",
      "(25/38) pre_NeuroExamPupils.orig: (351/13)\n",
      "(26/38) pre_NeuroExamHeartRate: (364/0)\n",
      "(27/38) pre_NeuroExamHeartRate.orig: (362/2)\n",
      "(28/38) pre_NeuroExamRespiration: (364/0)\n",
      "(29/38) pre_NeuroExamRespiration.orig: (362/2)\n",
      "(30/38) pre_NeuroExamDate: (364/0)\n",
      "(31/38) pre_NeuroExamDate.orig: (362/2)\n",
      "(32/38) pre_NeuroExamTime: (364/0)\n",
      "(33/38) pre_NeuroExamTime.orig: (361/3)\n",
      "(34/38) pre_NeuroExamSedate: (364/0)\n",
      "(35/38) pre_NeuroExamSedate.orig: (362/2)\n",
      "(36/38) pre_NeuroExamSeizure: (364/0)\n",
      "(37/38) pre_NeuroExamSeizure.orig: (364/0)\n"
     ]
    }
   ],
   "source": [
    "COMBINE_harmonizer.column_info(df)"
   ]
  },
  {
   "cell_type": "markdown",
   "id": "4e623e91",
   "metadata": {},
   "source": [
    "## 01-03-maternal-demographics"
   ]
  },
  {
   "cell_type": "code",
   "execution_count": 18,
   "id": "8149e2df",
   "metadata": {
    "execution": {
     "iopub.execute_input": "2025-01-21T19:15:02.426303Z",
     "iopub.status.busy": "2025-01-21T19:15:02.426072Z",
     "iopub.status.idle": "2025-01-21T19:15:02.428628Z",
     "shell.execute_reply": "2025-01-21T19:15:02.428180Z"
    }
   },
   "outputs": [],
   "source": [
    "base_filename = '01-03-maternal-demographics.csv'"
   ]
  },
  {
   "cell_type": "code",
   "execution_count": 19,
   "id": "6571f108",
   "metadata": {
    "execution": {
     "iopub.execute_input": "2025-01-21T19:15:02.430806Z",
     "iopub.status.busy": "2025-01-21T19:15:02.430600Z",
     "iopub.status.idle": "2025-01-21T19:15:02.564228Z",
     "shell.execute_reply": "2025-01-21T19:15:02.561432Z"
    }
   },
   "outputs": [
    {
     "name": "stdout",
     "output_type": "stream",
     "text": [
      "(0/15) normalize_value: column: center\n",
      "(1/15) normalize_value: column: subjectID\n",
      "(2/15) normalize_value: column: uniqueID\n",
      "(3/15) normalize_value: column: motherAge_year\n",
      "(4/15) normalize_value: column: motherRace\n",
      "(5/15) normalize_value: column: motherRaceOther1\n",
      "(6/15) normalize_value: column: motherRaceOther2\n",
      "(7/15) normalize_value: column: motherRaceOther3\n",
      "(8/15) normalize_value: column: motherRaceOther4\n",
      "(9/15) normalize_value: column: motherRaceOther5\n",
      "(10/15) normalize_value: column: motherRaceOther6\n",
      "(11/15) normalize_value: column: motherEthnicity\n",
      "(12/15) normalize_value: column: motherMaritalStatus\n",
      "(13/15) normalize_value: column: motherEducation\n",
      "(14/15) normalize_value: column: motherInsurance\n"
     ]
    }
   ],
   "source": [
    "filename = os.sep.join([input_dir, base_filename])\n",
    "df = pd.read_csv(filename, dtype='O')\n",
    "df = COMBINE_harmonizer.normalize_value(df, _VALUE_MAP, order_map=_ORDER_MAP)\n",
    "\n",
    "out_filename = os.sep.join([out_dir, base_filename])\n",
    "df.to_csv(out_filename, index=False)"
   ]
  },
  {
   "cell_type": "code",
   "execution_count": 20,
   "id": "5673cf9b",
   "metadata": {
    "execution": {
     "iopub.execute_input": "2025-01-21T19:15:02.571632Z",
     "iopub.status.busy": "2025-01-21T19:15:02.570380Z",
     "iopub.status.idle": "2025-01-21T19:15:02.578478Z",
     "shell.execute_reply": "2025-01-21T19:15:02.577914Z"
    }
   },
   "outputs": [
    {
     "name": "stdout",
     "output_type": "stream",
     "text": [
      "(0/30) center: (364/0)\n",
      "(1/30) center.orig: (364/0)\n",
      "(2/30) subjectID: (364/0)\n",
      "(3/30) subjectID.orig: (364/0)\n",
      "(4/30) uniqueID: (364/0)\n",
      "(5/30) uniqueID.orig: (364/0)\n",
      "(6/30) motherAge_year: (364/0)\n",
      "(7/30) motherAge_year.orig: (364/0)\n",
      "(8/30) motherRace: (364/0)\n",
      "(9/30) motherRace.orig: (361/3)\n",
      "(10/30) motherRaceOther1: (364/0)\n",
      "(11/30) motherRaceOther1.orig: (1/363)\n",
      "(12/30) motherRaceOther2: (364/0)\n",
      "(13/30) motherRaceOther2.orig: (1/363)\n",
      "(14/30) motherRaceOther3: (364/0)\n",
      "(15/30) motherRaceOther3.orig: (0/364)\n",
      "(16/30) motherRaceOther4: (364/0)\n",
      "(17/30) motherRaceOther4.orig: (0/364)\n",
      "(18/30) motherRaceOther5: (364/0)\n",
      "(19/30) motherRaceOther5.orig: (0/364)\n",
      "(20/30) motherRaceOther6: (364/0)\n",
      "(21/30) motherRaceOther6.orig: (0/364)\n",
      "(22/30) motherEthnicity: (364/0)\n",
      "(23/30) motherEthnicity.orig: (364/0)\n",
      "(24/30) motherMaritalStatus: (364/0)\n",
      "(25/30) motherMaritalStatus.orig: (364/0)\n",
      "(26/30) motherEducation: (364/0)\n",
      "(27/30) motherEducation.orig: (363/1)\n",
      "(28/30) motherInsurance: (364/0)\n",
      "(29/30) motherInsurance.orig: (362/2)\n"
     ]
    }
   ],
   "source": [
    "COMBINE_harmonizer.column_info(df)"
   ]
  },
  {
   "cell_type": "markdown",
   "id": "4d11494f",
   "metadata": {},
   "source": [
    "## 01-04-pregnancy-history"
   ]
  },
  {
   "cell_type": "code",
   "execution_count": 21,
   "id": "c9d0ae71",
   "metadata": {
    "execution": {
     "iopub.execute_input": "2025-01-21T19:15:02.581006Z",
     "iopub.status.busy": "2025-01-21T19:15:02.580779Z",
     "iopub.status.idle": "2025-01-21T19:15:02.583205Z",
     "shell.execute_reply": "2025-01-21T19:15:02.582784Z"
    }
   },
   "outputs": [],
   "source": [
    "base_filename = '01-04-pregnancy-history.csv'"
   ]
  },
  {
   "cell_type": "code",
   "execution_count": 22,
   "id": "95763233",
   "metadata": {
    "execution": {
     "iopub.execute_input": "2025-01-21T19:15:02.585375Z",
     "iopub.status.busy": "2025-01-21T19:15:02.585163Z",
     "iopub.status.idle": "2025-01-21T19:15:02.707157Z",
     "shell.execute_reply": "2025-01-21T19:15:02.706824Z"
    }
   },
   "outputs": [
    {
     "name": "stdout",
     "output_type": "stream",
     "text": [
      "(0/12) normalize_value: column: center\n",
      "(1/12) normalize_value: column: subjectID\n",
      "(2/12) normalize_value: column: uniqueID\n",
      "(3/12) normalize_value: column: multipleBirth\n",
      "(4/12) normalize_value: column: prenatalCare\n",
      "(5/12) normalize_value: column: hypertensionEclampsia\n",
      "(6/12) normalize_value: column: antepartumHemorrhage\n",
      "(7/12) normalize_value: column: thyroidMalfunction\n",
      "(8/12) normalize_value: column: diabetes\n",
      "(9/12) normalize_value: column: gravida\n",
      "(10/12) normalize_value: column: parity\n",
      "(11/12) normalize_value: column: numFetus\n"
     ]
    }
   ],
   "source": [
    "filename = os.sep.join([input_dir, base_filename])\n",
    "df = pd.read_csv(filename, dtype='O')\n",
    "df = COMBINE_harmonizer.normalize_value(df, _VALUE_MAP, order_map=_ORDER_MAP)\n",
    "\n",
    "out_filename = os.sep.join([out_dir, base_filename])\n",
    "df.to_csv(out_filename, index=False)"
   ]
  },
  {
   "cell_type": "code",
   "execution_count": 23,
   "id": "538d99fa",
   "metadata": {
    "execution": {
     "iopub.execute_input": "2025-01-21T19:15:02.708801Z",
     "iopub.status.busy": "2025-01-21T19:15:02.708703Z",
     "iopub.status.idle": "2025-01-21T19:15:02.712136Z",
     "shell.execute_reply": "2025-01-21T19:15:02.711898Z"
    }
   },
   "outputs": [
    {
     "name": "stdout",
     "output_type": "stream",
     "text": [
      "(0/24) center: (364/0)\n",
      "(1/24) center.orig: (364/0)\n",
      "(2/24) subjectID: (364/0)\n",
      "(3/24) subjectID.orig: (364/0)\n",
      "(4/24) uniqueID: (364/0)\n",
      "(5/24) uniqueID.orig: (364/0)\n",
      "(6/24) gravida: (364/0)\n",
      "(7/24) gravida.orig: (364/0)\n",
      "(8/24) parity: (364/0)\n",
      "(9/24) parity.orig: (364/0)\n",
      "(10/24) multipleBirth: (364/0)\n",
      "(11/24) multipleBirth.orig: (364/0)\n",
      "(12/24) numFetus: (364/0)\n",
      "(13/24) numFetus.orig: (10/354)\n",
      "(14/24) prenatalCare: (364/0)\n",
      "(15/24) prenatalCare.orig: (364/0)\n",
      "(16/24) hypertensionEclampsia: (364/0)\n",
      "(17/24) hypertensionEclampsia.orig: (364/0)\n",
      "(18/24) antepartumHemorrhage: (364/0)\n",
      "(19/24) antepartumHemorrhage.orig: (364/0)\n",
      "(20/24) thyroidMalfunction: (364/0)\n",
      "(21/24) thyroidMalfunction.orig: (364/0)\n",
      "(22/24) diabetes: (364/0)\n",
      "(23/24) diabetes.orig: (364/0)\n"
     ]
    }
   ],
   "source": [
    "COMBINE_harmonizer.column_info(df)"
   ]
  },
  {
   "cell_type": "markdown",
   "id": "1b26a29a",
   "metadata": {},
   "source": [
    "## 01-05-labor-delivery"
   ]
  },
  {
   "cell_type": "code",
   "execution_count": 24,
   "id": "208391c2",
   "metadata": {
    "execution": {
     "iopub.execute_input": "2025-01-21T19:15:02.713458Z",
     "iopub.status.busy": "2025-01-21T19:15:02.713364Z",
     "iopub.status.idle": "2025-01-21T19:15:02.714882Z",
     "shell.execute_reply": "2025-01-21T19:15:02.714652Z"
    }
   },
   "outputs": [],
   "source": [
    "base_filename = '01-05-labor-delivery.csv'"
   ]
  },
  {
   "cell_type": "code",
   "execution_count": 25,
   "id": "c6e75122",
   "metadata": {
    "execution": {
     "iopub.execute_input": "2025-01-21T19:15:02.715957Z",
     "iopub.status.busy": "2025-01-21T19:15:02.715887Z",
     "iopub.status.idle": "2025-01-21T19:15:02.820267Z",
     "shell.execute_reply": "2025-01-21T19:15:02.819609Z"
    }
   },
   "outputs": [
    {
     "name": "stdout",
     "output_type": "stream",
     "text": [
      "(0/30) normalize_value: column: center\n",
      "(1/30) normalize_value: column: subjectID\n",
      "(2/30) normalize_value: column: uniqueID\n",
      "(3/30) normalize_value: column: fetalDecelerate\n",
      "(4/30) normalize_value: column: cordMishap\n",
      "(5/30) normalize_value: column: uterineRupture\n",
      "(6/30) normalize_value: column: shoulderDystocia\n",
      "(7/30) normalize_value: column: placentalProblem\n",
      "(8/30) normalize_value: column: maternalHemorrhage\n",
      "(9/30) normalize_value: column: maternalTrauma\n",
      "(10/30) normalize_value: column: maternalCardioRespiratoryArrest\n",
      "(11/30) normalize_value: column: maternalSeizure\n",
      "(12/30) normalize_value: column: pyrexiaOver37p6C\n",
      "(13/30) normalize_value: column: chorioamnionitis\n",
      "(14/30) normalize_value: column: placentalPathologyPerformed\n",
      "(15/30) normalize_value: column: histologicChorioamionitis\n",
      "(16/30) normalize_value: column: laborAntibiotics\n",
      "(17/30) normalize_value: column: ruptureBeforeDelivery\n",
      "(18/30) normalize_value: column: ruptureOver18Hr\n",
      "(19/30) normalize_value: column: maternalAdmissionDate\n",
      "(20/30) normalize_value: column: maternalAdmissionTime\n",
      "(21/30) normalize_value: column: laborAntibioticsCode1\n",
      "(22/30) normalize_value: column: laborAntibioticsCode2\n",
      "(23/30) normalize_value: column: laborAntibioticsCode3\n",
      "(24/30) normalize_value: column: laborAntibioticsCode4\n",
      "(25/30) normalize_value: column: laborAntibioticsCode5\n",
      "(26/30) normalize_value: column: laborAntibioticsCode6\n",
      "(27/30) normalize_value: column: ruptureDate\n",
      "(28/30) normalize_value: column: ruptureTime\n",
      "(29/30) normalize_value: column: deliveryMode\n"
     ]
    }
   ],
   "source": [
    "filename = os.sep.join([input_dir, base_filename])\n",
    "df = pd.read_csv(filename, dtype='O')\n",
    "df = COMBINE_harmonizer.normalize_value(df, _VALUE_MAP, order_map=_ORDER_MAP)\n",
    "\n",
    "out_filename = os.sep.join([out_dir, base_filename])\n",
    "df.to_csv(out_filename, index=False)"
   ]
  },
  {
   "cell_type": "code",
   "execution_count": 26,
   "id": "a2ac88ce",
   "metadata": {
    "execution": {
     "iopub.execute_input": "2025-01-21T19:15:02.823436Z",
     "iopub.status.busy": "2025-01-21T19:15:02.823160Z",
     "iopub.status.idle": "2025-01-21T19:15:02.835045Z",
     "shell.execute_reply": "2025-01-21T19:15:02.833828Z"
    }
   },
   "outputs": [
    {
     "data": {
      "text/plain": [
       "Index(['center', 'center.orig', 'subjectID', 'subjectID.orig', 'uniqueID',\n",
       "       'uniqueID.orig', 'maternalAdmissionDate', 'maternalAdmissionDate.orig',\n",
       "       'maternalAdmissionTime', 'maternalAdmissionTime.orig', 'ruptureDate',\n",
       "       'ruptureDate.orig', 'ruptureTime', 'ruptureTime.orig',\n",
       "       'ruptureOver18Hr', 'ruptureOver18Hr.orig', 'ruptureBeforeDelivery',\n",
       "       'ruptureBeforeDelivery.orig', 'deliveryMode', 'deliveryMode.orig',\n",
       "       'fetalDecelerate', 'fetalDecelerate.orig', 'cordMishap',\n",
       "       'cordMishap.orig', 'uterineRupture', 'uterineRupture.orig',\n",
       "       'shoulderDystocia', 'shoulderDystocia.orig', 'placentalProblem',\n",
       "       'placentalProblem.orig', 'maternalHemorrhage',\n",
       "       'maternalHemorrhage.orig', 'maternalTrauma', 'maternalTrauma.orig',\n",
       "       'maternalCardioRespiratoryArrest',\n",
       "       'maternalCardioRespiratoryArrest.orig', 'maternalSeizure',\n",
       "       'maternalSeizure.orig', 'pyrexiaOver37p6C', 'pyrexiaOver37p6C.orig',\n",
       "       'chorioamnionitis', 'chorioamnionitis.orig',\n",
       "       'placentalPathologyPerformed', 'placentalPathologyPerformed.orig',\n",
       "       'histologicChorioamionitis', 'histologicChorioamionitis.orig',\n",
       "       'laborAntibiotics', 'laborAntibiotics.orig', 'laborAntibioticsCode1',\n",
       "       'laborAntibioticsCode1.orig', 'laborAntibioticsCode2',\n",
       "       'laborAntibioticsCode2.orig', 'laborAntibioticsCode3',\n",
       "       'laborAntibioticsCode3.orig', 'laborAntibioticsCode4',\n",
       "       'laborAntibioticsCode4.orig', 'laborAntibioticsCode5',\n",
       "       'laborAntibioticsCode5.orig', 'laborAntibioticsCode6',\n",
       "       'laborAntibioticsCode6.orig'],\n",
       "      dtype='object')"
      ]
     },
     "execution_count": 26,
     "metadata": {},
     "output_type": "execute_result"
    }
   ],
   "source": [
    "df.columns"
   ]
  },
  {
   "cell_type": "code",
   "execution_count": 27,
   "id": "22cdef64",
   "metadata": {
    "execution": {
     "iopub.execute_input": "2025-01-21T19:15:02.840178Z",
     "iopub.status.busy": "2025-01-21T19:15:02.839873Z",
     "iopub.status.idle": "2025-01-21T19:15:02.849850Z",
     "shell.execute_reply": "2025-01-21T19:15:02.849403Z"
    }
   },
   "outputs": [
    {
     "name": "stdout",
     "output_type": "stream",
     "text": [
      "(0/60) center: (364/0)\n",
      "(1/60) center.orig: (364/0)\n",
      "(2/60) subjectID: (364/0)\n",
      "(3/60) subjectID.orig: (364/0)\n",
      "(4/60) uniqueID: (364/0)\n",
      "(5/60) uniqueID.orig: (364/0)\n",
      "(6/60) maternalAdmissionDate: (364/0)\n",
      "(7/60) maternalAdmissionDate.orig: (340/24)\n",
      "(8/60) maternalAdmissionTime: (364/0)\n",
      "(9/60) maternalAdmissionTime.orig: (288/76)\n",
      "(10/60) ruptureDate: (364/0)\n",
      "(11/60) ruptureDate.orig: (245/119)\n",
      "(12/60) ruptureTime: (364/0)\n",
      "(13/60) ruptureTime.orig: (220/144)\n",
      "(14/60) ruptureOver18Hr: (364/0)\n",
      "(15/60) ruptureOver18Hr.orig: (47/317)\n",
      "(16/60) ruptureBeforeDelivery: (364/0)\n",
      "(17/60) ruptureBeforeDelivery.orig: (364/0)\n",
      "(18/60) deliveryMode: (364/0)\n",
      "(19/60) deliveryMode.orig: (364/0)\n",
      "(20/60) fetalDecelerate: (364/0)\n",
      "(21/60) fetalDecelerate.orig: (364/0)\n",
      "(22/60) cordMishap: (364/0)\n",
      "(23/60) cordMishap.orig: (364/0)\n",
      "(24/60) uterineRupture: (364/0)\n",
      "(25/60) uterineRupture.orig: (364/0)\n",
      "(26/60) shoulderDystocia: (364/0)\n",
      "(27/60) shoulderDystocia.orig: (364/0)\n",
      "(28/60) placentalProblem: (364/0)\n",
      "(29/60) placentalProblem.orig: (364/0)\n",
      "(30/60) maternalHemorrhage: (364/0)\n",
      "(31/60) maternalHemorrhage.orig: (364/0)\n",
      "(32/60) maternalTrauma: (364/0)\n",
      "(33/60) maternalTrauma.orig: (364/0)\n",
      "(34/60) maternalCardioRespiratoryArrest: (364/0)\n",
      "(35/60) maternalCardioRespiratoryArrest.orig: (364/0)\n",
      "(36/60) maternalSeizure: (364/0)\n",
      "(37/60) maternalSeizure.orig: (364/0)\n",
      "(38/60) pyrexiaOver37p6C: (364/0)\n",
      "(39/60) pyrexiaOver37p6C.orig: (364/0)\n",
      "(40/60) chorioamnionitis: (364/0)\n",
      "(41/60) chorioamnionitis.orig: (364/0)\n",
      "(42/60) placentalPathologyPerformed: (364/0)\n",
      "(43/60) placentalPathologyPerformed.orig: (364/0)\n",
      "(44/60) histologicChorioamionitis: (364/0)\n",
      "(45/60) histologicChorioamionitis.orig: (198/166)\n",
      "(46/60) laborAntibiotics: (364/0)\n",
      "(47/60) laborAntibiotics.orig: (364/0)\n",
      "(48/60) laborAntibioticsCode1: (364/0)\n",
      "(49/60) laborAntibioticsCode1.orig: (85/279)\n",
      "(50/60) laborAntibioticsCode2: (364/0)\n",
      "(51/60) laborAntibioticsCode2.orig: (33/331)\n",
      "(52/60) laborAntibioticsCode3: (364/0)\n",
      "(53/60) laborAntibioticsCode3.orig: (8/356)\n",
      "(54/60) laborAntibioticsCode4: (364/0)\n",
      "(55/60) laborAntibioticsCode4.orig: (0/364)\n",
      "(56/60) laborAntibioticsCode5: (364/0)\n",
      "(57/60) laborAntibioticsCode5.orig: (0/364)\n",
      "(58/60) laborAntibioticsCode6: (364/0)\n",
      "(59/60) laborAntibioticsCode6.orig: (0/364)\n"
     ]
    }
   ],
   "source": [
    "COMBINE_harmonizer.column_info(df)"
   ]
  },
  {
   "cell_type": "markdown",
   "id": "5cdfa5f0",
   "metadata": {},
   "source": [
    "## 01-06-birth"
   ]
  },
  {
   "cell_type": "code",
   "execution_count": 28,
   "id": "3d84cf16",
   "metadata": {
    "execution": {
     "iopub.execute_input": "2025-01-21T19:15:02.852163Z",
     "iopub.status.busy": "2025-01-21T19:15:02.851943Z",
     "iopub.status.idle": "2025-01-21T19:15:02.854405Z",
     "shell.execute_reply": "2025-01-21T19:15:02.854018Z"
    }
   },
   "outputs": [],
   "source": [
    "base_filename = '01-06-birth.csv'"
   ]
  },
  {
   "cell_type": "code",
   "execution_count": 29,
   "id": "6178eb23",
   "metadata": {
    "execution": {
     "iopub.execute_input": "2025-01-21T19:15:02.856253Z",
     "iopub.status.busy": "2025-01-21T19:15:02.856071Z",
     "iopub.status.idle": "2025-01-21T19:15:03.012125Z",
     "shell.execute_reply": "2025-01-21T19:15:03.011672Z"
    }
   },
   "outputs": [
    {
     "name": "stdout",
     "output_type": "stream",
     "text": [
      "(0/49) normalize_value: column: center\n",
      "(1/49) normalize_value: column: subjectID\n",
      "(2/49) normalize_value: column: uniqueID\n",
      "(3/49) normalize_value: column: birthDate\n",
      "(4/49) normalize_value: column: encephalopathyLevel\n",
      "(5/49) normalize_value: column: infantOutborn\n",
      "(6/49) normalize_value: column: outbornInHospital\n",
      "(7/49) normalize_value: column: outbornOutHospital\n",
      "(8/49) normalize_value: column: deliveryOxygen\n",
      "(9/49) normalize_value: column: deliveryBaggingAndMask\n",
      "(10/49) normalize_value: column: deliveryChestCompression\n",
      "(11/49) normalize_value: column: deliveryIntubation\n",
      "(12/49) normalize_value: column: deliveryDrug\n",
      "(13/49) normalize_value: column: at10MinContinueResuscitation\n",
      "(14/49) normalize_value: column: at10MinOxygen\n",
      "(15/49) normalize_value: column: at10MinBaggingAndMask\n",
      "(16/49) normalize_value: column: at10MinChestCompression\n",
      "(17/49) normalize_value: column: at10MinIntubation\n",
      "(18/49) normalize_value: column: at10MinDrug\n",
      "(19/49) normalize_value: column: cordBloodGas\n",
      "(20/49) normalize_value: column: firstPostnatalBloodGas\n",
      "(21/49) normalize_value: column: birthTime\n",
      "(22/49) normalize_value: column: neonateAdmissionDate\n",
      "(23/49) normalize_value: column: neonateAdmissionTime\n",
      "(24/49) normalize_value: column: Apgar1min\n",
      "(25/49) normalize_value: column: Apgar5min\n",
      "(26/49) normalize_value: column: Apgar10min\n",
      "(27/49) normalize_value: column: Apgar15min\n",
      "(28/49) normalize_value: column: Apgar20min\n",
      "(29/49) normalize_value: column: birthWeight_g\n",
      "(30/49) normalize_value: column: birthLength_cm\n",
      "(31/49) normalize_value: column: birthHeadCircumference_cm\n",
      "(32/49) normalize_value: column: birthGestationalAge_week\n",
      "(33/49) normalize_value: column: infantSex\n",
      "(34/49) normalize_value: column: spontaneousRespirationTime\n",
      "(35/49) normalize_value: column: cordBloodGasSrc\n",
      "(36/49) normalize_value: column: cordBloodGasPH\n",
      "(37/49) normalize_value: column: cordBloodGasPCO2_mmHg\n",
      "(38/49) normalize_value: column: cordBloodGasPO2_mmHg\n",
      "(39/49) normalize_value: column: cordBloodGasHCO3_mEqPerL\n",
      "(40/49) normalize_value: column: cordBloodGasBaseDeficit_mEqPerL\n",
      "(41/49) normalize_value: column: firstPostnatalBloodGasSrc\n",
      "(42/49) normalize_value: column: firstPostnatalBloodGasDate\n",
      "(43/49) normalize_value: column: firstPostnatalBloodGasTime\n",
      "(44/49) normalize_value: column: firstPostnatalBloodGasPH\n",
      "(45/49) normalize_value: column: firstPostnatalBloodGasPCO2_mmHg\n",
      "(46/49) normalize_value: column: firstPostnatalBloodGasPO2_mmHg\n",
      "(47/49) normalize_value: column: firstPostnatalBloodGasHCO3_mEqPerL\n",
      "(48/49) normalize_value: column: firstPostnatalBloodGasBaseDeficit_mEqPerL\n"
     ]
    }
   ],
   "source": [
    "filename = os.sep.join([input_dir, base_filename])\n",
    "df = pd.read_csv(filename, dtype='O')\n",
    "df = COMBINE_harmonizer.normalize_value(df, _VALUE_MAP, order_map=_ORDER_MAP)\n",
    "\n",
    "# XXX hack for _is_delivery_resuscitation\n",
    "def _is_delivery_resuscitation(x):\n",
    "    for idx in ['deliveryOxygen', 'deliveryBaggingAndMask', 'deliveryChestCompression', 'deliveryIntubation', 'deliveryDrug']:\n",
    "        if x[idx] == 'TRUE':\n",
    "            return True\n",
    "\n",
    "    return False\n",
    "\n",
    "df.loc[:, 'deliveryResuscitation'] = 'FALSE'\n",
    "is_delivery_resuscitation = df.apply(lambda x: _is_delivery_resuscitation(x), axis=1)\n",
    "df.loc[is_delivery_resuscitation, 'deliveryResuscitation'] = 'TRUE'\n",
    "\n",
    "out_filename = os.sep.join([out_dir, base_filename])\n",
    "df.to_csv(out_filename, index=False)"
   ]
  },
  {
   "cell_type": "code",
   "execution_count": 30,
   "id": "53b29427",
   "metadata": {
    "execution": {
     "iopub.execute_input": "2025-01-21T19:15:03.014538Z",
     "iopub.status.busy": "2025-01-21T19:15:03.014311Z",
     "iopub.status.idle": "2025-01-21T19:15:03.024966Z",
     "shell.execute_reply": "2025-01-21T19:15:03.024593Z"
    }
   },
   "outputs": [
    {
     "name": "stdout",
     "output_type": "stream",
     "text": [
      "(0/99) center: (364/0)\n",
      "(1/99) center.orig: (364/0)\n",
      "(2/99) subjectID: (364/0)\n",
      "(3/99) subjectID.orig: (364/0)\n",
      "(4/99) uniqueID: (364/0)\n",
      "(5/99) uniqueID.orig: (364/0)\n",
      "(6/99) encephalopathyLevel: (364/0)\n",
      "(7/99) encephalopathyLevel.orig: (364/0)\n",
      "(8/99) birthTime: (364/0)\n",
      "(9/99) birthTime.orig: (364/0)\n",
      "(10/99) birthWeight_g: (364/0)\n",
      "(11/99) birthWeight_g.orig: (363/1)\n",
      "(12/99) birthLength_cm: (364/0)\n",
      "(13/99) birthLength_cm.orig: (340/24)\n",
      "(14/99) birthHeadCircumference_cm: (364/0)\n",
      "(15/99) birthHeadCircumference_cm.orig: (344/20)\n",
      "(16/99) birthGestationalAge_week: (364/0)\n",
      "(17/99) birthGestationalAge_week.orig: (363/1)\n",
      "(18/99) infantSex: (364/0)\n",
      "(19/99) infantSex.orig: (364/0)\n",
      "(20/99) infantOutborn: (364/0)\n",
      "(21/99) infantOutborn.orig: (364/0)\n",
      "(22/99) outbornInHospital: (364/0)\n",
      "(23/99) outbornInHospital.orig: (234/130)\n",
      "(24/99) outbornOutHospital: (364/0)\n",
      "(25/99) outbornOutHospital.orig: (234/130)\n",
      "(26/99) neonateAdmissionDate: (364/0)\n",
      "(27/99) neonateAdmissionDate.orig: (234/130)\n",
      "(28/99) neonateAdmissionTime: (364/0)\n",
      "(29/99) neonateAdmissionTime.orig: (231/133)\n",
      "(30/99) Apgar1min: (364/0)\n",
      "(31/99) Apgar1min.orig: (361/3)\n",
      "(32/99) Apgar5min: (364/0)\n",
      "(33/99) Apgar5min.orig: (361/3)\n",
      "(34/99) Apgar10min: (364/0)\n",
      "(35/99) Apgar10min.orig: (324/40)\n",
      "(36/99) Apgar15min: (364/0)\n",
      "(37/99) Apgar15min.orig: (123/241)\n",
      "(38/99) Apgar20min: (364/0)\n",
      "(39/99) Apgar20min.orig: (75/289)\n",
      "(40/99) deliveryOxygen: (364/0)\n",
      "(41/99) deliveryOxygen.orig: (364/0)\n",
      "(42/99) deliveryBaggingAndMask: (364/0)\n",
      "(43/99) deliveryBaggingAndMask.orig: (364/0)\n",
      "(44/99) deliveryChestCompression: (364/0)\n",
      "(45/99) deliveryChestCompression.orig: (364/0)\n",
      "(46/99) deliveryIntubation: (364/0)\n",
      "(47/99) deliveryIntubation.orig: (364/0)\n",
      "(48/99) deliveryDrug: (364/0)\n",
      "(49/99) deliveryDrug.orig: (364/0)\n",
      "(50/99) at10MinContinueResuscitation: (364/0)\n",
      "(51/99) at10MinContinueResuscitation.orig: (364/0)\n",
      "(52/99) at10MinOxygen: (364/0)\n",
      "(53/99) at10MinOxygen.orig: (315/49)\n",
      "(54/99) at10MinBaggingAndMask: (364/0)\n",
      "(55/99) at10MinBaggingAndMask.orig: (315/49)\n",
      "(56/99) at10MinChestCompression: (364/0)\n",
      "(57/99) at10MinChestCompression.orig: (315/49)\n",
      "(58/99) at10MinIntubation: (364/0)\n",
      "(59/99) at10MinIntubation.orig: (315/49)\n",
      "(60/99) at10MinDrug: (364/0)\n",
      "(61/99) at10MinDrug.orig: (315/49)\n",
      "(62/99) spontaneousRespirationTime: (364/0)\n",
      "(63/99) spontaneousRespirationTime.orig: (341/23)\n",
      "(64/99) cordBloodGas: (364/0)\n",
      "(65/99) cordBloodGas.orig: (364/0)\n",
      "(66/99) cordBloodGasSrc: (364/0)\n",
      "(67/99) cordBloodGasSrc.orig: (265/99)\n",
      "(68/99) cordBloodGasPH: (364/0)\n",
      "(69/99) cordBloodGasPH.orig: (289/75)\n",
      "(70/99) cordBloodGasPCO2_mmHg: (364/0)\n",
      "(71/99) cordBloodGasPCO2_mmHg.orig: (250/114)\n",
      "(72/99) birthDate: (364/0)\n",
      "(73/99) birthDate.orig: (364/0)\n",
      "(74/99) cordBloodGasPO2_mmHg: (364/0)\n",
      "(75/99) cordBloodGasPO2_mmHg.orig: (220/144)\n",
      "(76/99) cordBloodGasHCO3_mEqPerL: (364/0)\n",
      "(77/99) cordBloodGasHCO3_mEqPerL.orig: (212/152)\n",
      "(78/99) cordBloodGasBaseDeficit_mEqPerL: (364/0)\n",
      "(79/99) cordBloodGasBaseDeficit_mEqPerL.orig: (244/120)\n",
      "(80/99) firstPostnatalBloodGas: (364/0)\n",
      "(81/99) firstPostnatalBloodGas.orig: (364/0)\n",
      "(82/99) firstPostnatalBloodGasSrc: (364/0)\n",
      "(83/99) firstPostnatalBloodGasSrc.orig: (356/8)\n",
      "(84/99) firstPostnatalBloodGasDate: (364/0)\n",
      "(85/99) firstPostnatalBloodGasDate.orig: (361/3)\n",
      "(86/99) firstPostnatalBloodGasTime: (364/0)\n",
      "(87/99) firstPostnatalBloodGasTime.orig: (331/33)\n",
      "(88/99) firstPostnatalBloodGasPH: (364/0)\n",
      "(89/99) firstPostnatalBloodGasPH.orig: (358/6)\n",
      "(90/99) firstPostnatalBloodGasPCO2_mmHg: (364/0)\n",
      "(91/99) firstPostnatalBloodGasPCO2_mmHg.orig: (353/11)\n",
      "(92/99) firstPostnatalBloodGasPO2_mmHg: (364/0)\n",
      "(93/99) firstPostnatalBloodGasPO2_mmHg.orig: (341/23)\n",
      "(94/99) firstPostnatalBloodGasHCO3_mEqPerL: (364/0)\n",
      "(95/99) firstPostnatalBloodGasHCO3_mEqPerL.orig: (318/46)\n",
      "(96/99) firstPostnatalBloodGasBaseDeficit_mEqPerL: (364/0)\n",
      "(97/99) firstPostnatalBloodGasBaseDeficit_mEqPerL.orig: (340/24)\n",
      "(98/99) deliveryResuscitation: (364/0)\n"
     ]
    }
   ],
   "source": [
    "COMBINE_harmonizer.column_info(df)"
   ]
  },
  {
   "cell_type": "markdown",
   "id": "7d983ec3",
   "metadata": {},
   "source": [
    "## 01-07-pre-temperature"
   ]
  },
  {
   "cell_type": "code",
   "execution_count": 31,
   "id": "42259ff4",
   "metadata": {
    "execution": {
     "iopub.execute_input": "2025-01-21T19:15:03.027077Z",
     "iopub.status.busy": "2025-01-21T19:15:03.026889Z",
     "iopub.status.idle": "2025-01-21T19:15:03.029083Z",
     "shell.execute_reply": "2025-01-21T19:15:03.028723Z"
    }
   },
   "outputs": [],
   "source": [
    "base_filename = '01-07-pre-temperature.csv'"
   ]
  },
  {
   "cell_type": "code",
   "execution_count": 32,
   "id": "42c859a6",
   "metadata": {
    "execution": {
     "iopub.execute_input": "2025-01-21T19:15:03.030734Z",
     "iopub.status.busy": "2025-01-21T19:15:03.030577Z",
     "iopub.status.idle": "2025-01-21T19:15:03.149415Z",
     "shell.execute_reply": "2025-01-21T19:15:03.148851Z"
    }
   },
   "outputs": [
    {
     "name": "stdout",
     "output_type": "stream",
     "text": [
      "(0/25) normalize_value: column: center\n",
      "(1/25) normalize_value: column: subjectID\n",
      "(2/25) normalize_value: column: uniqueID\n",
      "(3/25) normalize_value: column: pre_CoolInitiate\n",
      "(4/25) normalize_value: column: pre_CoolbyIceGelPack\n",
      "(5/25) normalize_value: column: pre_CoolPassively\n",
      "(6/25) normalize_value: column: pre_CoolClinically\n",
      "(7/25) normalize_value: column: pre_AfterOvershootReach33p5C\n",
      "(8/25) normalize_value: column: targetTreatmentTemperature_C\n",
      "(9/25) normalize_value: column: pre_CoolInitiateDate\n",
      "(10/25) normalize_value: column: pre_CoolInitiateTime\n",
      "(11/25) normalize_value: column: pre_AfterOvershootReach33p5CDate\n",
      "(12/25) normalize_value: column: pre_AfterOvershootReach33p5CTime\n",
      "(13/25) normalize_value: column: pre_TemperatureMinDate\n",
      "(14/25) normalize_value: column: pre_TemperatureMinTime\n",
      "(15/25) normalize_value: column: pre_SkinTemperatureMin_C\n",
      "(16/25) normalize_value: column: pre_AxillaryTemperatureMin_C\n",
      "(17/25) normalize_value: column: pre_EsophagealTemperatureMin_C\n",
      "(18/25) normalize_value: column: pre_ServoSetMin_C\n",
      "(19/25) normalize_value: column: pre_TemperatureMaxDate\n",
      "(20/25) normalize_value: column: pre_TemperatureMaxTime\n",
      "(21/25) normalize_value: column: pre_SkinTemperatureMax_C\n",
      "(22/25) normalize_value: column: pre_AxillaryTemperatureMax_C\n",
      "(23/25) normalize_value: column: pre_EsophagealTemperatureMax_C\n",
      "(24/25) normalize_value: column: pre_ServoSetMax_C\n"
     ]
    }
   ],
   "source": [
    "filename = os.sep.join([input_dir, base_filename])\n",
    "df = pd.read_csv(filename, dtype='O')\n",
    "df = COMBINE_harmonizer.normalize_value(df, _VALUE_MAP, order_map=_ORDER_MAP)\n",
    "\n",
    "out_filename = os.sep.join([out_dir, base_filename])\n",
    "df.to_csv(out_filename, index=False)"
   ]
  },
  {
   "cell_type": "code",
   "execution_count": 33,
   "id": "5c5b6c6d",
   "metadata": {
    "execution": {
     "iopub.execute_input": "2025-01-21T19:15:03.152296Z",
     "iopub.status.busy": "2025-01-21T19:15:03.152026Z",
     "iopub.status.idle": "2025-01-21T19:15:03.160598Z",
     "shell.execute_reply": "2025-01-21T19:15:03.160167Z"
    }
   },
   "outputs": [
    {
     "name": "stdout",
     "output_type": "stream",
     "text": [
      "(0/50) center: (364/0)\n",
      "(1/50) center.orig: (364/0)\n",
      "(2/50) subjectID: (364/0)\n",
      "(3/50) subjectID.orig: (364/0)\n",
      "(4/50) uniqueID: (364/0)\n",
      "(5/50) uniqueID.orig: (364/0)\n",
      "(6/50) targetTreatmentTemperature_C: (364/0)\n",
      "(7/50) targetTreatmentTemperature_C.orig: (364/0)\n",
      "(8/50) pre_CoolInitiate: (364/0)\n",
      "(9/50) pre_CoolInitiate.orig: (364/0)\n",
      "(10/50) pre_CoolbyIceGelPack: (364/0)\n",
      "(11/50) pre_CoolbyIceGelPack.orig: (252/112)\n",
      "(12/50) pre_CoolPassively: (364/0)\n",
      "(13/50) pre_CoolPassively.orig: (252/112)\n",
      "(14/50) pre_CoolClinically: (364/0)\n",
      "(15/50) pre_CoolClinically.orig: (252/112)\n",
      "(16/50) pre_CoolInitiateDate: (364/0)\n",
      "(17/50) pre_CoolInitiateDate.orig: (201/163)\n",
      "(18/50) pre_CoolInitiateTime: (364/0)\n",
      "(19/50) pre_CoolInitiateTime.orig: (200/164)\n",
      "(20/50) pre_AfterOvershootReach33p5C: (364/0)\n",
      "(21/50) pre_AfterOvershootReach33p5C.orig: (364/0)\n",
      "(22/50) pre_AfterOvershootReach33p5CDate: (364/0)\n",
      "(23/50) pre_AfterOvershootReach33p5CDate.orig: (70/294)\n",
      "(24/50) pre_AfterOvershootReach33p5CTime: (364/0)\n",
      "(25/50) pre_AfterOvershootReach33p5CTime.orig: (69/295)\n",
      "(26/50) pre_TemperatureMinDate: (364/0)\n",
      "(27/50) pre_TemperatureMinDate.orig: (351/13)\n",
      "(28/50) pre_TemperatureMinTime: (364/0)\n",
      "(29/50) pre_TemperatureMinTime.orig: (348/16)\n",
      "(30/50) pre_SkinTemperatureMin_C: (364/0)\n",
      "(31/50) pre_SkinTemperatureMin_C.orig: (168/196)\n",
      "(32/50) pre_AxillaryTemperatureMin_C: (364/0)\n",
      "(33/50) pre_AxillaryTemperatureMin_C.orig: (231/133)\n",
      "(34/50) pre_EsophagealTemperatureMin_C: (364/0)\n",
      "(35/50) pre_EsophagealTemperatureMin_C.orig: (138/226)\n",
      "(36/50) pre_ServoSetMin_C: (364/0)\n",
      "(37/50) pre_ServoSetMin_C.orig: (164/200)\n",
      "(38/50) pre_TemperatureMaxDate: (364/0)\n",
      "(39/50) pre_TemperatureMaxDate.orig: (350/14)\n",
      "(40/50) pre_TemperatureMaxTime: (364/0)\n",
      "(41/50) pre_TemperatureMaxTime.orig: (340/24)\n",
      "(42/50) pre_SkinTemperatureMax_C: (364/0)\n",
      "(43/50) pre_SkinTemperatureMax_C.orig: (133/231)\n",
      "(44/50) pre_AxillaryTemperatureMax_C: (364/0)\n",
      "(45/50) pre_AxillaryTemperatureMax_C.orig: (279/85)\n",
      "(46/50) pre_EsophagealTemperatureMax_C: (364/0)\n",
      "(47/50) pre_EsophagealTemperatureMax_C.orig: (68/296)\n",
      "(48/50) pre_ServoSetMax_C: (364/0)\n",
      "(49/50) pre_ServoSetMax_C.orig: (119/245)\n"
     ]
    }
   ],
   "source": [
    "COMBINE_harmonizer.column_info(df)"
   ]
  },
  {
   "cell_type": "markdown",
   "id": "41edb43a",
   "metadata": {},
   "source": [
    "## 01-08-pre-cardiovascular"
   ]
  },
  {
   "cell_type": "code",
   "execution_count": 34,
   "id": "4c51dd25",
   "metadata": {
    "execution": {
     "iopub.execute_input": "2025-01-21T19:15:03.162958Z",
     "iopub.status.busy": "2025-01-21T19:15:03.162743Z",
     "iopub.status.idle": "2025-01-21T19:15:03.165298Z",
     "shell.execute_reply": "2025-01-21T19:15:03.164745Z"
    }
   },
   "outputs": [],
   "source": [
    "base_filename = '01-08-pre-cardiovascular.csv'"
   ]
  },
  {
   "cell_type": "code",
   "execution_count": 35,
   "id": "9aa82c36",
   "metadata": {
    "execution": {
     "iopub.execute_input": "2025-01-21T19:15:03.167588Z",
     "iopub.status.busy": "2025-01-21T19:15:03.167339Z",
     "iopub.status.idle": "2025-01-21T19:15:03.281539Z",
     "shell.execute_reply": "2025-01-21T19:15:03.280240Z"
    }
   },
   "outputs": [
    {
     "name": "stdout",
     "output_type": "stream",
     "text": [
      "(0/12) normalize_value: column: center\n",
      "(1/12) normalize_value: column: subjectID\n",
      "(2/12) normalize_value: column: uniqueID\n",
      "(3/12) normalize_value: column: pre_CardioVolumeExpand\n",
      "(4/12) normalize_value: column: pre_CardioInotropicAgent\n",
      "(5/12) normalize_value: column: pre_CardioBloodTransfusion\n",
      "(6/12) normalize_value: column: pre_CardioPlatelets\n",
      "(7/12) normalize_value: column: pre_CardioDate\n",
      "(8/12) normalize_value: column: pre_CardioTime\n",
      "(9/12) normalize_value: column: pre_CardioSystolicBloodPressure_mmHg\n",
      "(10/12) normalize_value: column: pre_CardioDiastolicBloodPressure_mmHg\n",
      "(11/12) normalize_value: column: pre_CardioHeartRate_BPM\n"
     ]
    }
   ],
   "source": [
    "filename = os.sep.join([input_dir, base_filename])\n",
    "df = pd.read_csv(filename, dtype='O')\n",
    "df = COMBINE_harmonizer.normalize_value(df, _VALUE_MAP, order_map=_ORDER_MAP)\n",
    "\n",
    "out_filename = os.sep.join([out_dir, base_filename])\n",
    "df.to_csv(out_filename, index=False)"
   ]
  },
  {
   "cell_type": "code",
   "execution_count": 36,
   "id": "8ac24705",
   "metadata": {
    "execution": {
     "iopub.execute_input": "2025-01-21T19:15:03.289684Z",
     "iopub.status.busy": "2025-01-21T19:15:03.289087Z",
     "iopub.status.idle": "2025-01-21T19:15:03.296406Z",
     "shell.execute_reply": "2025-01-21T19:15:03.295878Z"
    }
   },
   "outputs": [
    {
     "name": "stdout",
     "output_type": "stream",
     "text": [
      "(0/24) center: (357/0)\n",
      "(1/24) center.orig: (357/0)\n",
      "(2/24) subjectID: (357/0)\n",
      "(3/24) subjectID.orig: (357/0)\n",
      "(4/24) uniqueID: (357/0)\n",
      "(5/24) uniqueID.orig: (357/0)\n",
      "(6/24) pre_CardioDate: (357/0)\n",
      "(7/24) pre_CardioDate.orig: (357/0)\n",
      "(8/24) pre_CardioTime: (357/0)\n",
      "(9/24) pre_CardioTime.orig: (355/2)\n",
      "(10/24) pre_CardioSystolicBloodPressure_mmHg: (357/0)\n",
      "(11/24) pre_CardioSystolicBloodPressure_mmHg.orig: (350/7)\n",
      "(12/24) pre_CardioDiastolicBloodPressure_mmHg: (357/0)\n",
      "(13/24) pre_CardioDiastolicBloodPressure_mmHg.orig: (350/7)\n",
      "(14/24) pre_CardioHeartRate_BPM: (357/0)\n",
      "(15/24) pre_CardioHeartRate_BPM.orig: (351/6)\n",
      "(16/24) pre_CardioVolumeExpand: (357/0)\n",
      "(17/24) pre_CardioVolumeExpand.orig: (357/0)\n",
      "(18/24) pre_CardioInotropicAgent: (357/0)\n",
      "(19/24) pre_CardioInotropicAgent.orig: (357/0)\n",
      "(20/24) pre_CardioBloodTransfusion: (357/0)\n",
      "(21/24) pre_CardioBloodTransfusion.orig: (357/0)\n",
      "(22/24) pre_CardioPlatelets: (357/0)\n",
      "(23/24) pre_CardioPlatelets.orig: (357/0)\n"
     ]
    }
   ],
   "source": [
    "COMBINE_harmonizer.column_info(df)"
   ]
  },
  {
   "cell_type": "markdown",
   "id": "709cdf71",
   "metadata": {},
   "source": [
    "## 01-13-pre-respiratory"
   ]
  },
  {
   "cell_type": "code",
   "execution_count": 37,
   "id": "430f5da0",
   "metadata": {
    "execution": {
     "iopub.execute_input": "2025-01-21T19:15:03.299553Z",
     "iopub.status.busy": "2025-01-21T19:15:03.299067Z",
     "iopub.status.idle": "2025-01-21T19:15:03.301630Z",
     "shell.execute_reply": "2025-01-21T19:15:03.301236Z"
    }
   },
   "outputs": [],
   "source": [
    "# base_filename = '01-13-pre-respiratory.csv'"
   ]
  },
  {
   "cell_type": "code",
   "execution_count": 38,
   "id": "aa7a4467",
   "metadata": {
    "execution": {
     "iopub.execute_input": "2025-01-21T19:15:03.303387Z",
     "iopub.status.busy": "2025-01-21T19:15:03.303230Z",
     "iopub.status.idle": "2025-01-21T19:15:03.306072Z",
     "shell.execute_reply": "2025-01-21T19:15:03.305783Z"
    }
   },
   "outputs": [
    {
     "data": {
      "text/plain": [
       "\"\\nfilename = os.sep.join([input_dir, base_filename])\\ndf = pd.read_csv(filename, dtype='O')\\ndf = HIE_data.normalize_value(df, _VALUE_MAP, order_map=_ORDER_MAP)\\n\\nout_filename = os.sep.join([out_dir, base_filename])\\ndf.to_csv(out_filename, index=False)\\n\""
      ]
     },
     "execution_count": 38,
     "metadata": {},
     "output_type": "execute_result"
    }
   ],
   "source": [
    "'''\n",
    "filename = os.sep.join([input_dir, base_filename])\n",
    "df = pd.read_csv(filename, dtype='O')\n",
    "df = HIE_data.normalize_value(df, _VALUE_MAP, order_map=_ORDER_MAP)\n",
    "\n",
    "out_filename = os.sep.join([out_dir, base_filename])\n",
    "df.to_csv(out_filename, index=False)\n",
    "'''"
   ]
  },
  {
   "cell_type": "code",
   "execution_count": 39,
   "id": "68718b09",
   "metadata": {
    "execution": {
     "iopub.execute_input": "2025-01-21T19:15:03.307573Z",
     "iopub.status.busy": "2025-01-21T19:15:03.307443Z",
     "iopub.status.idle": "2025-01-21T19:15:03.309127Z",
     "shell.execute_reply": "2025-01-21T19:15:03.308804Z"
    }
   },
   "outputs": [],
   "source": [
    "# HIE_data.column_info(df)"
   ]
  },
  {
   "cell_type": "markdown",
   "id": "e2d74992",
   "metadata": {},
   "source": [
    "## 01-14-pre-blood-gas"
   ]
  },
  {
   "cell_type": "code",
   "execution_count": 40,
   "id": "390dde69",
   "metadata": {
    "execution": {
     "iopub.execute_input": "2025-01-21T19:15:03.310898Z",
     "iopub.status.busy": "2025-01-21T19:15:03.310706Z",
     "iopub.status.idle": "2025-01-21T19:15:03.312956Z",
     "shell.execute_reply": "2025-01-21T19:15:03.312606Z"
    }
   },
   "outputs": [],
   "source": [
    "# base_filename = '01-14-pre-blood-gas.csv'"
   ]
  },
  {
   "cell_type": "code",
   "execution_count": 41,
   "id": "b7db4a3d",
   "metadata": {
    "execution": {
     "iopub.execute_input": "2025-01-21T19:15:03.314484Z",
     "iopub.status.busy": "2025-01-21T19:15:03.314340Z",
     "iopub.status.idle": "2025-01-21T19:15:03.317322Z",
     "shell.execute_reply": "2025-01-21T19:15:03.316958Z"
    }
   },
   "outputs": [
    {
     "data": {
      "text/plain": [
       "\"\\nfilename = os.sep.join([input_dir, base_filename])\\ndf = pd.read_csv(filename, dtype='O')\\ndf = HIE_data.normalize_value(df, _VALUE_MAP, order_map=_ORDER_MAP)\\n\\nout_filename = os.sep.join([out_dir, base_filename])\\ndf.to_csv(out_filename, index=False)\\n\""
      ]
     },
     "execution_count": 41,
     "metadata": {},
     "output_type": "execute_result"
    }
   ],
   "source": [
    "'''\n",
    "filename = os.sep.join([input_dir, base_filename])\n",
    "df = pd.read_csv(filename, dtype='O')\n",
    "df = HIE_data.normalize_value(df, _VALUE_MAP, order_map=_ORDER_MAP)\n",
    "\n",
    "out_filename = os.sep.join([out_dir, base_filename])\n",
    "df.to_csv(out_filename, index=False)\n",
    "'''\n"
   ]
  },
  {
   "cell_type": "code",
   "execution_count": 42,
   "id": "a7638c47",
   "metadata": {
    "execution": {
     "iopub.execute_input": "2025-01-21T19:15:03.319049Z",
     "iopub.status.busy": "2025-01-21T19:15:03.318881Z",
     "iopub.status.idle": "2025-01-21T19:15:03.321086Z",
     "shell.execute_reply": "2025-01-21T19:15:03.320715Z"
    }
   },
   "outputs": [],
   "source": [
    "# HIE_data.column_info(df)"
   ]
  },
  {
   "cell_type": "markdown",
   "id": "d9f57460",
   "metadata": {},
   "source": [
    "## 01-15-pre-hematology"
   ]
  },
  {
   "cell_type": "code",
   "execution_count": 43,
   "id": "24992f59",
   "metadata": {
    "execution": {
     "iopub.execute_input": "2025-01-21T19:15:03.322893Z",
     "iopub.status.busy": "2025-01-21T19:15:03.322745Z",
     "iopub.status.idle": "2025-01-21T19:15:03.324470Z",
     "shell.execute_reply": "2025-01-21T19:15:03.324180Z"
    }
   },
   "outputs": [],
   "source": [
    "# base_filename = '01-15-pre-hematology.csv'"
   ]
  },
  {
   "cell_type": "code",
   "execution_count": 44,
   "id": "c98cd538",
   "metadata": {
    "execution": {
     "iopub.execute_input": "2025-01-21T19:15:03.325991Z",
     "iopub.status.busy": "2025-01-21T19:15:03.325858Z",
     "iopub.status.idle": "2025-01-21T19:15:03.328326Z",
     "shell.execute_reply": "2025-01-21T19:15:03.328031Z"
    }
   },
   "outputs": [
    {
     "data": {
      "text/plain": [
       "\"\\nfilename = os.sep.join([input_dir, base_filename])\\ndf = pd.read_csv(filename, dtype='O')\\ndf = HIE_data.normalize_value(df, _VALUE_MAP, order_map=_ORDER_MAP)\\n\\nout_filename = os.sep.join([out_dir, base_filename])\\ndf.to_csv(out_filename, index=False)\\n\""
      ]
     },
     "execution_count": 44,
     "metadata": {},
     "output_type": "execute_result"
    }
   ],
   "source": [
    "'''\n",
    "filename = os.sep.join([input_dir, base_filename])\n",
    "df = pd.read_csv(filename, dtype='O')\n",
    "df = HIE_data.normalize_value(df, _VALUE_MAP, order_map=_ORDER_MAP)\n",
    "\n",
    "out_filename = os.sep.join([out_dir, base_filename])\n",
    "df.to_csv(out_filename, index=False)\n",
    "'''"
   ]
  },
  {
   "cell_type": "code",
   "execution_count": 45,
   "id": "6609572f",
   "metadata": {
    "execution": {
     "iopub.execute_input": "2025-01-21T19:15:03.329833Z",
     "iopub.status.busy": "2025-01-21T19:15:03.329696Z",
     "iopub.status.idle": "2025-01-21T19:15:03.331434Z",
     "shell.execute_reply": "2025-01-21T19:15:03.331168Z"
    }
   },
   "outputs": [],
   "source": [
    "# HIE_data.column_info(df)"
   ]
  },
  {
   "cell_type": "markdown",
   "id": "59078e77",
   "metadata": {},
   "source": [
    "## 01-09-pre-infection"
   ]
  },
  {
   "cell_type": "code",
   "execution_count": 46,
   "id": "71d9925b",
   "metadata": {
    "execution": {
     "iopub.execute_input": "2025-01-21T19:15:03.332842Z",
     "iopub.status.busy": "2025-01-21T19:15:03.332730Z",
     "iopub.status.idle": "2025-01-21T19:15:03.334421Z",
     "shell.execute_reply": "2025-01-21T19:15:03.334163Z"
    }
   },
   "outputs": [],
   "source": [
    "base_filename = '01-09-pre-infection.csv'"
   ]
  },
  {
   "cell_type": "code",
   "execution_count": 47,
   "id": "969ed294",
   "metadata": {
    "execution": {
     "iopub.execute_input": "2025-01-21T19:15:03.335747Z",
     "iopub.status.busy": "2025-01-21T19:15:03.335651Z",
     "iopub.status.idle": "2025-01-21T19:15:03.431958Z",
     "shell.execute_reply": "2025-01-21T19:15:03.431505Z"
    }
   },
   "outputs": [
    {
     "name": "stdout",
     "output_type": "stream",
     "text": [
      "(0/7) normalize_value: column: center\n",
      "(1/7) normalize_value: column: subjectID\n",
      "(2/7) normalize_value: column: uniqueID\n",
      "(3/7) normalize_value: column: pre_Antibiotics\n",
      "(4/7) normalize_value: column: pre_AntibioticsCode1\n",
      "(5/7) normalize_value: column: pre_AntibioticsCode2\n",
      "(6/7) normalize_value: column: pre_AntibioticsCode3\n"
     ]
    }
   ],
   "source": [
    "filename = os.sep.join([input_dir, base_filename])\n",
    "df = pd.read_csv(filename, dtype='O')\n",
    "df = COMBINE_harmonizer.normalize_value(df, _VALUE_MAP, order_map=_ORDER_MAP)\n",
    "\n",
    "out_filename = os.sep.join([out_dir, base_filename])\n",
    "df.to_csv(out_filename, index=False)"
   ]
  },
  {
   "cell_type": "code",
   "execution_count": 48,
   "id": "d0a485cb",
   "metadata": {
    "execution": {
     "iopub.execute_input": "2025-01-21T19:15:03.434256Z",
     "iopub.status.busy": "2025-01-21T19:15:03.434041Z",
     "iopub.status.idle": "2025-01-21T19:15:03.438266Z",
     "shell.execute_reply": "2025-01-21T19:15:03.437835Z"
    }
   },
   "outputs": [
    {
     "name": "stdout",
     "output_type": "stream",
     "text": [
      "(0/14) center: (364/0)\n",
      "(1/14) center.orig: (364/0)\n",
      "(2/14) subjectID: (364/0)\n",
      "(3/14) subjectID.orig: (364/0)\n",
      "(4/14) uniqueID: (364/0)\n",
      "(5/14) uniqueID.orig: (364/0)\n",
      "(6/14) pre_Antibiotics: (364/0)\n",
      "(7/14) pre_Antibiotics.orig: (364/0)\n",
      "(8/14) pre_AntibioticsCode1: (364/0)\n",
      "(9/14) pre_AntibioticsCode1.orig: (308/56)\n",
      "(10/14) pre_AntibioticsCode2: (364/0)\n",
      "(11/14) pre_AntibioticsCode2.orig: (273/91)\n",
      "(12/14) pre_AntibioticsCode3: (364/0)\n",
      "(13/14) pre_AntibioticsCode3.orig: (8/356)\n"
     ]
    }
   ],
   "source": [
    "COMBINE_harmonizer.column_info(df)"
   ]
  },
  {
   "cell_type": "markdown",
   "id": "bd557ed2",
   "metadata": {},
   "source": [
    "## 01-10-pre-other-med"
   ]
  },
  {
   "cell_type": "code",
   "execution_count": 49,
   "id": "2703a0e3",
   "metadata": {
    "execution": {
     "iopub.execute_input": "2025-01-21T19:15:03.440548Z",
     "iopub.status.busy": "2025-01-21T19:15:03.440360Z",
     "iopub.status.idle": "2025-01-21T19:15:03.442825Z",
     "shell.execute_reply": "2025-01-21T19:15:03.442470Z"
    }
   },
   "outputs": [],
   "source": [
    "base_filename = '01-10-pre-other-med.csv'"
   ]
  },
  {
   "cell_type": "code",
   "execution_count": 50,
   "id": "c963b8d5",
   "metadata": {
    "execution": {
     "iopub.execute_input": "2025-01-21T19:15:03.444662Z",
     "iopub.status.busy": "2025-01-21T19:15:03.444478Z",
     "iopub.status.idle": "2025-01-21T19:15:03.553332Z",
     "shell.execute_reply": "2025-01-21T19:15:03.552288Z"
    }
   },
   "outputs": [
    {
     "name": "stdout",
     "output_type": "stream",
     "text": [
      "(0/17) normalize_value: column: center\n",
      "(1/17) normalize_value: column: subjectID\n",
      "(2/17) normalize_value: column: uniqueID\n",
      "(3/17) normalize_value: column: pre_Anticonvulsants1\n",
      "(4/17) normalize_value: column: pre_Anticonvulsants2\n",
      "(5/17) normalize_value: column: pre_Anticonvulsants3\n",
      "(6/17) normalize_value: column: pre_AnalgesicsSedatives1\n",
      "(7/17) normalize_value: column: pre_AnalgesicsSedatives2\n",
      "(8/17) normalize_value: column: pre_AnalgesicsSedatives3\n",
      "(9/17) normalize_value: column: pre_Antipyretics1\n",
      "(10/17) normalize_value: column: pre_Antipyretics2\n",
      "(11/17) normalize_value: column: pre_Antipyretics3\n",
      "(12/17) normalize_value: column: pre_Paralytics1\n",
      "(13/17) normalize_value: column: pre_Paralytics2\n",
      "(14/17) normalize_value: column: pre_Paralytics3\n",
      "(15/17) normalize_value: column: pre_OtherMedFluidIntake_ccPerKg\n",
      "(16/17) normalize_value: column: pre_OtherMedUrineOutput_ccPerKg\n"
     ]
    }
   ],
   "source": [
    "filename = os.sep.join([input_dir, base_filename])\n",
    "df = pd.read_csv(filename, dtype='O')\n",
    "df = COMBINE_harmonizer.normalize_value(df, _VALUE_MAP, order_map=_ORDER_MAP)\n",
    "\n",
    "out_filename = os.sep.join([out_dir, base_filename])\n",
    "df.to_csv(out_filename, index=False)"
   ]
  },
  {
   "cell_type": "code",
   "execution_count": 51,
   "id": "fbfe01e8",
   "metadata": {
    "execution": {
     "iopub.execute_input": "2025-01-21T19:15:03.559192Z",
     "iopub.status.busy": "2025-01-21T19:15:03.558902Z",
     "iopub.status.idle": "2025-01-21T19:15:03.566106Z",
     "shell.execute_reply": "2025-01-21T19:15:03.565590Z"
    }
   },
   "outputs": [
    {
     "name": "stdout",
     "output_type": "stream",
     "text": [
      "(0/34) center: (350/0)\n",
      "(1/34) center.orig: (350/0)\n",
      "(2/34) subjectID: (350/0)\n",
      "(3/34) subjectID.orig: (350/0)\n",
      "(4/34) uniqueID: (350/0)\n",
      "(5/34) uniqueID.orig: (350/0)\n",
      "(6/34) pre_Anticonvulsants1: (350/0)\n",
      "(7/34) pre_Anticonvulsants1.orig: (85/265)\n",
      "(8/34) pre_Anticonvulsants2: (350/0)\n",
      "(9/34) pre_Anticonvulsants2.orig: (13/337)\n",
      "(10/34) pre_Anticonvulsants3: (350/0)\n",
      "(11/34) pre_Anticonvulsants3.orig: (0/350)\n",
      "(12/34) pre_AnalgesicsSedatives1: (350/0)\n",
      "(13/34) pre_AnalgesicsSedatives1.orig: (74/276)\n",
      "(14/34) pre_AnalgesicsSedatives2: (350/0)\n",
      "(15/34) pre_AnalgesicsSedatives2.orig: (19/331)\n",
      "(16/34) pre_AnalgesicsSedatives3: (350/0)\n",
      "(17/34) pre_AnalgesicsSedatives3.orig: (1/349)\n",
      "(18/34) pre_Antipyretics1: (350/0)\n",
      "(19/34) pre_Antipyretics1.orig: (1/349)\n",
      "(20/34) pre_Antipyretics2: (350/0)\n",
      "(21/34) pre_Antipyretics2.orig: (0/350)\n",
      "(22/34) pre_Antipyretics3: (350/0)\n",
      "(23/34) pre_Antipyretics3.orig: (0/350)\n",
      "(24/34) pre_Paralytics1: (350/0)\n",
      "(25/34) pre_Paralytics1.orig: (2/348)\n",
      "(26/34) pre_Paralytics2: (350/0)\n",
      "(27/34) pre_Paralytics2.orig: (0/350)\n",
      "(28/34) pre_Paralytics3: (350/0)\n",
      "(29/34) pre_Paralytics3.orig: (0/350)\n",
      "(30/34) pre_OtherMedFluidIntake_ccPerKg: (350/0)\n",
      "(31/34) pre_OtherMedFluidIntake_ccPerKg.orig: (0/350)\n",
      "(32/34) pre_OtherMedUrineOutput_ccPerKg: (350/0)\n",
      "(33/34) pre_OtherMedUrineOutput_ccPerKg.orig: (0/350)\n"
     ]
    }
   ],
   "source": [
    "COMBINE_harmonizer.column_info(df)"
   ]
  },
  {
   "cell_type": "markdown",
   "id": "ceb557f0",
   "metadata": {},
   "source": [
    "## 01-11-pre-imaging"
   ]
  },
  {
   "cell_type": "code",
   "execution_count": 52,
   "id": "4ddfc622",
   "metadata": {
    "execution": {
     "iopub.execute_input": "2025-01-21T19:15:03.568925Z",
     "iopub.status.busy": "2025-01-21T19:15:03.568676Z",
     "iopub.status.idle": "2025-01-21T19:15:03.571205Z",
     "shell.execute_reply": "2025-01-21T19:15:03.570761Z"
    }
   },
   "outputs": [],
   "source": [
    "base_filename = '01-11-pre-imaging.csv'"
   ]
  },
  {
   "cell_type": "code",
   "execution_count": 53,
   "id": "19560b34",
   "metadata": {
    "execution": {
     "iopub.execute_input": "2025-01-21T19:15:03.573435Z",
     "iopub.status.busy": "2025-01-21T19:15:03.573234Z",
     "iopub.status.idle": "2025-01-21T19:15:03.703921Z",
     "shell.execute_reply": "2025-01-21T19:15:03.703259Z"
    }
   },
   "outputs": [
    {
     "name": "stdout",
     "output_type": "stream",
     "text": [
      "(0/39) normalize_value: column: center\n",
      "(1/39) normalize_value: column: subjectID\n",
      "(2/39) normalize_value: column: uniqueID\n",
      "(3/39) normalize_value: column: pre_HeadSonogram\n",
      "(4/39) normalize_value: column: pre_HeadSonogramResultText\n",
      "(5/39) normalize_value: column: pre_HeadCT\n",
      "(6/39) normalize_value: column: pre_HeadCTResultText\n",
      "(7/39) normalize_value: column: pre_BrainMRI\n",
      "(8/39) normalize_value: column: pre_BrainMRIResultText\n",
      "(9/39) normalize_value: column: pre_HeadSonogramDate\n",
      "(10/39) normalize_value: column: pre_HeadSonogramTime\n",
      "(11/39) normalize_value: column: pre_HeadSonogramResult1\n",
      "(12/39) normalize_value: column: pre_HeadSonogramResult2\n",
      "(13/39) normalize_value: column: pre_HeadSonogramResult3\n",
      "(14/39) normalize_value: column: pre_HeadSonogramResult4\n",
      "(15/39) normalize_value: column: pre_HeadSonogramResult5\n",
      "(16/39) normalize_value: column: pre_HeadSonogramResult6\n",
      "(17/39) normalize_value: column: pre_HeadSonogramResult7\n",
      "(18/39) normalize_value: column: pre_HeadSonogramResult8\n",
      "(19/39) normalize_value: column: pre_HeadCTDate\n",
      "(20/39) normalize_value: column: pre_HeadCTTime\n",
      "(21/39) normalize_value: column: pre_HeadCTResult1\n",
      "(22/39) normalize_value: column: pre_HeadCTResult2\n",
      "(23/39) normalize_value: column: pre_HeadCTResult3\n",
      "(24/39) normalize_value: column: pre_HeadCTResult4\n",
      "(25/39) normalize_value: column: pre_HeadCTResult5\n",
      "(26/39) normalize_value: column: pre_HeadCTResult6\n",
      "(27/39) normalize_value: column: pre_HeadCTResult7\n",
      "(28/39) normalize_value: column: pre_HeadCTResult8\n",
      "(29/39) normalize_value: column: pre_BrainMRIDate\n",
      "(30/39) normalize_value: column: pre_BrainMRITime\n",
      "(31/39) normalize_value: column: pre_BrainMRIResult1\n",
      "(32/39) normalize_value: column: pre_BrainMRIResult2\n",
      "(33/39) normalize_value: column: pre_BrainMRIResult3\n",
      "(34/39) normalize_value: column: pre_BrainMRIResult4\n",
      "(35/39) normalize_value: column: pre_BrainMRIResult5\n",
      "(36/39) normalize_value: column: pre_BrainMRIResult6\n",
      "(37/39) normalize_value: column: pre_BrainMRIResult7\n",
      "(38/39) normalize_value: column: pre_BrainMRIResult8\n"
     ]
    }
   ],
   "source": [
    "filename = os.sep.join([input_dir, base_filename])\n",
    "df = pd.read_csv(filename, dtype='O')\n",
    "df = COMBINE_harmonizer.normalize_value(df, _VALUE_MAP, order_map=_ORDER_MAP)\n",
    "\n",
    "out_filename = os.sep.join([out_dir, base_filename])\n",
    "df.to_csv(out_filename, index=False)"
   ]
  },
  {
   "cell_type": "code",
   "execution_count": 54,
   "id": "7e0b6b97",
   "metadata": {
    "execution": {
     "iopub.execute_input": "2025-01-21T19:15:03.707461Z",
     "iopub.status.busy": "2025-01-21T19:15:03.707169Z",
     "iopub.status.idle": "2025-01-21T19:15:03.717852Z",
     "shell.execute_reply": "2025-01-21T19:15:03.717404Z"
    }
   },
   "outputs": [
    {
     "name": "stdout",
     "output_type": "stream",
     "text": [
      "(0/78) center: (350/0)\n",
      "(1/78) center.orig: (350/0)\n",
      "(2/78) subjectID: (350/0)\n",
      "(3/78) subjectID.orig: (350/0)\n",
      "(4/78) uniqueID: (350/0)\n",
      "(5/78) uniqueID.orig: (350/0)\n",
      "(6/78) pre_HeadSonogram: (350/0)\n",
      "(7/78) pre_HeadSonogram.orig: (350/0)\n",
      "(8/78) pre_HeadSonogramDate: (350/0)\n",
      "(9/78) pre_HeadSonogramDate.orig: (17/333)\n",
      "(10/78) pre_HeadSonogramTime: (350/0)\n",
      "(11/78) pre_HeadSonogramTime.orig: (17/333)\n",
      "(12/78) pre_HeadSonogramResult1: (350/0)\n",
      "(13/78) pre_HeadSonogramResult1.orig: (16/334)\n",
      "(14/78) pre_HeadSonogramResult2: (350/0)\n",
      "(15/78) pre_HeadSonogramResult2.orig: (1/349)\n",
      "(16/78) pre_HeadSonogramResult3: (350/0)\n",
      "(17/78) pre_HeadSonogramResult3.orig: (0/350)\n",
      "(18/78) pre_HeadSonogramResult4: (350/0)\n",
      "(19/78) pre_HeadSonogramResult4.orig: (0/350)\n",
      "(20/78) pre_HeadSonogramResult5: (350/0)\n",
      "(21/78) pre_HeadSonogramResult5.orig: (0/350)\n",
      "(22/78) pre_HeadSonogramResult6: (350/0)\n",
      "(23/78) pre_HeadSonogramResult6.orig: (0/350)\n",
      "(24/78) pre_HeadSonogramResult7: (350/0)\n",
      "(25/78) pre_HeadSonogramResult7.orig: (0/350)\n",
      "(26/78) pre_HeadSonogramResult8: (350/0)\n",
      "(27/78) pre_HeadSonogramResult8.orig: (0/350)\n",
      "(28/78) pre_HeadSonogramResultText: (350/0)\n",
      "(29/78) pre_HeadSonogramResultText.orig: (3/347)\n",
      "(30/78) pre_HeadCT: (350/0)\n",
      "(31/78) pre_HeadCT.orig: (350/0)\n",
      "(32/78) pre_HeadCTDate: (350/0)\n",
      "(33/78) pre_HeadCTDate.orig: (2/348)\n",
      "(34/78) pre_HeadCTTime: (350/0)\n",
      "(35/78) pre_HeadCTTime.orig: (2/348)\n",
      "(36/78) pre_HeadCTResult1: (350/0)\n",
      "(37/78) pre_HeadCTResult1.orig: (2/348)\n",
      "(38/78) pre_HeadCTResult2: (350/0)\n",
      "(39/78) pre_HeadCTResult2.orig: (1/349)\n",
      "(40/78) pre_HeadCTResult3: (350/0)\n",
      "(41/78) pre_HeadCTResult3.orig: (1/349)\n",
      "(42/78) pre_HeadCTResult4: (350/0)\n",
      "(43/78) pre_HeadCTResult4.orig: (1/349)\n",
      "(44/78) pre_HeadCTResult5: (350/0)\n",
      "(45/78) pre_HeadCTResult5.orig: (0/350)\n",
      "(46/78) pre_HeadCTResult6: (350/0)\n",
      "(47/78) pre_HeadCTResult6.orig: (0/350)\n",
      "(48/78) pre_HeadCTResult7: (350/0)\n",
      "(49/78) pre_HeadCTResult7.orig: (0/350)\n",
      "(50/78) pre_HeadCTResult8: (350/0)\n",
      "(51/78) pre_HeadCTResult8.orig: (0/350)\n",
      "(52/78) pre_HeadCTResultText: (350/0)\n",
      "(53/78) pre_HeadCTResultText.orig: (2/348)\n",
      "(54/78) pre_BrainMRI: (350/0)\n",
      "(55/78) pre_BrainMRI.orig: (350/0)\n",
      "(56/78) pre_BrainMRIDate: (350/0)\n",
      "(57/78) pre_BrainMRIDate.orig: (0/350)\n",
      "(58/78) pre_BrainMRITime: (350/0)\n",
      "(59/78) pre_BrainMRITime.orig: (0/350)\n",
      "(60/78) pre_BrainMRIResult1: (350/0)\n",
      "(61/78) pre_BrainMRIResult1.orig: (0/350)\n",
      "(62/78) pre_BrainMRIResult2: (350/0)\n",
      "(63/78) pre_BrainMRIResult2.orig: (0/350)\n",
      "(64/78) pre_BrainMRIResult3: (350/0)\n",
      "(65/78) pre_BrainMRIResult3.orig: (0/350)\n",
      "(66/78) pre_BrainMRIResult4: (350/0)\n",
      "(67/78) pre_BrainMRIResult4.orig: (0/350)\n",
      "(68/78) pre_BrainMRIResult5: (350/0)\n",
      "(69/78) pre_BrainMRIResult5.orig: (0/350)\n",
      "(70/78) pre_BrainMRIResult6: (350/0)\n",
      "(71/78) pre_BrainMRIResult6.orig: (0/350)\n",
      "(72/78) pre_BrainMRIResult7: (350/0)\n",
      "(73/78) pre_BrainMRIResult7.orig: (0/350)\n",
      "(74/78) pre_BrainMRIResult8: (350/0)\n",
      "(75/78) pre_BrainMRIResult8.orig: (0/350)\n",
      "(76/78) pre_BrainMRIResultText: (350/0)\n",
      "(77/78) pre_BrainMRIResultText.orig: (0/350)\n"
     ]
    }
   ],
   "source": [
    "COMBINE_harmonizer.column_info(df)"
   ]
  },
  {
   "cell_type": "markdown",
   "id": "91cd90b4-436f-4261-8ff1-96ec0ac6e0c0",
   "metadata": {},
   "source": [
    "## 02-01-temperature"
   ]
  },
  {
   "cell_type": "code",
   "execution_count": 55,
   "id": "242bd512-0c8f-496a-9390-9aff449b4f68",
   "metadata": {
    "execution": {
     "iopub.execute_input": "2025-01-21T19:15:03.720314Z",
     "iopub.status.busy": "2025-01-21T19:15:03.720097Z",
     "iopub.status.idle": "2025-01-21T19:15:03.722353Z",
     "shell.execute_reply": "2025-01-21T19:15:03.721960Z"
    }
   },
   "outputs": [],
   "source": [
    "_FLATTEN_IDS = ['temperatureTimeSlot']\n",
    "base_filename = '02-01-temperature.csv'"
   ]
  },
  {
   "cell_type": "code",
   "execution_count": 56,
   "id": "76e4def5-3326-4426-993f-2bab5580d16c",
   "metadata": {
    "execution": {
     "iopub.execute_input": "2025-01-21T19:15:03.724229Z",
     "iopub.status.busy": "2025-01-21T19:15:03.724056Z",
     "iopub.status.idle": "2025-01-21T19:15:04.172115Z",
     "shell.execute_reply": "2025-01-21T19:15:04.171853Z"
    }
   },
   "outputs": [
    {
     "name": "stdout",
     "output_type": "stream",
     "text": [
      "(0/14) normalize_value: column: center\n",
      "(1/14) normalize_value: column: subjectID\n",
      "(2/14) normalize_value: column: uniqueID\n",
      "(3/14) normalize_value: column: alterationSkinIntegrity\n",
      "(4/14) normalize_value: column: shiver\n",
      "(5/14) normalize_value: column: temperatureTimeSlot\n",
      "(6/14) normalize_value: column: temperatureTimeSlotNoForm\n"
     ]
    },
    {
     "name": "stdout",
     "output_type": "stream",
     "text": [
      "(7/14) normalize_value: column: temperatureDate\n",
      "(8/14) normalize_value: column: temperatureTime\n",
      "(9/14) normalize_value: column: skinTemperature_C\n",
      "(10/14) normalize_value: column: axillaryTemperature_C\n",
      "(11/14) normalize_value: column: esophagealTemperature_C\n",
      "(12/14) normalize_value: column: blanketTemperature_C\n",
      "(13/14) normalize_value: column: servoSetTemperature_C\n"
     ]
    },
    {
     "name": "stdout",
     "output_type": "stream",
     "text": [
      "flatten_index: flatten_ids: ['temperatureTimeSlot'] unique_id_map: {np.int64(0): np.int64(0), np.int64(15): np.int64(15), np.int64(30): np.int64(30), np.int64(45): np.int64(45), np.int64(60): np.int64(60), np.int64(75): np.int64(75), np.int64(90): np.int64(90), np.int64(105): np.int64(105), np.int64(120): np.int64(120), np.int64(135): np.int64(135), np.int64(150): np.int64(150), np.int64(165): np.int64(165), np.int64(180): np.int64(180), np.int64(195): np.int64(195), np.int64(210): np.int64(210), np.int64(225): np.int64(225), np.int64(240): np.int64(240), np.int64(300): np.int64(300), np.int64(360): np.int64(360), np.int64(420): np.int64(420), np.int64(480): np.int64(480), np.int64(540): np.int64(540), np.int64(600): np.int64(600), np.int64(660): np.int64(660), np.int64(720): np.int64(720), np.int64(960): np.int64(960), np.int64(1200): np.int64(1200), np.int64(1440): np.int64(1440), np.int64(1680): np.int64(1680), np.int64(1920): np.int64(1920), np.int64(2160): np.int64(2160), np.int64(2400): np.int64(2400), np.int64(2640): np.int64(2640), np.int64(2880): np.int64(2880), np.int64(3120): np.int64(3120), np.int64(3360): np.int64(3360), np.int64(3600): np.int64(3600), np.int64(3840): np.int64(3840), np.int64(4080): np.int64(4080), np.int64(4320): np.int64(4320), np.int64(4440): np.int64(4440), np.int64(4560): np.int64(4560), np.int64(4680): np.int64(4680), np.int64(4800): np.int64(4800), np.int64(4920): np.int64(4920), np.int64(5040): np.int64(5040), np.int64(5160): np.int64(5160), np.int64(5280): np.int64(5280), np.int64(5400): np.int64(5400), np.int64(5520): np.int64(5520), np.int64(5640): np.int64(5640), np.int64(5760): np.int64(5760), np.int64(5880): np.int64(5880), np.int64(6000): np.int64(6000), np.int64(6120): np.int64(6120), np.int64(6240): np.int64(6240), np.int64(6360): np.int64(6360), np.int64(6480): np.int64(6480), np.int64(6600): np.int64(6600), np.int64(6720): np.int64(6720), np.int64(6840): np.int64(6840), np.int64(6960): np.int64(6960), np.int64(7080): np.int64(7080), np.int64(7200): np.int64(7200), np.int64(7320): np.int64(7320), np.int64(7440): np.int64(7440), np.int64(7560): np.int64(7560), np.int64(7680): np.int64(7680), np.int64(7800): np.int64(7800), np.int64(7920): np.int64(7920), np.int64(8040): np.int64(8040), np.int64(8160): np.int64(8160), np.int64(8280): np.int64(8280), np.int64(8400): np.int64(8400), np.int64(8520): np.int64(8520), np.int64(8640): np.int64(8640), np.int64(8760): np.int64(8760), np.int64(8880): np.int64(8880), np.int64(9000): np.int64(9000), np.int64(9120): np.int64(9120), np.int64(9240): np.int64(9240), np.int64(9360): np.int64(9360), np.int64(9480): np.int64(9480), np.int64(9600): np.int64(9600), np.int64(9720): np.int64(9720), np.int64(9840): np.int64(9840), np.int64(9960): np.int64(9960)} the_type: int64\n"
     ]
    }
   ],
   "source": [
    "filename = os.sep.join([input_dir, base_filename])\n",
    "df = pd.read_csv(filename, dtype='O')\n",
    "\n",
    "df['temperatureTimeSlot'] = df['temperatureTimeSlot'].apply(lambda x: str(int(float(x) * 60)))\n",
    "\n",
    "df = COMBINE_harmonizer.normalize_value(df, _VALUE_MAP, _FLATTEN_IDS, order_map=_ORDER_MAP)\n"
   ]
  },
  {
   "cell_type": "code",
   "execution_count": 57,
   "id": "7509019d-4d41-4acf-a7f4-e2cd47ecd9fb",
   "metadata": {
    "execution": {
     "iopub.execute_input": "2025-01-21T19:15:04.173553Z",
     "iopub.status.busy": "2025-01-21T19:15:04.173466Z",
     "iopub.status.idle": "2025-01-21T19:15:04.560843Z",
     "shell.execute_reply": "2025-01-21T19:15:04.559749Z"
    }
   },
   "outputs": [],
   "source": [
    "out_filename = os.sep.join([out_dir, base_filename])\n",
    "df.to_csv(out_filename, index=False)"
   ]
  },
  {
   "cell_type": "code",
   "execution_count": 58,
   "id": "274cf782",
   "metadata": {
    "execution": {
     "iopub.execute_input": "2025-01-21T19:15:04.574909Z",
     "iopub.status.busy": "2025-01-21T19:15:04.574496Z",
     "iopub.status.idle": "2025-01-21T19:15:04.608041Z",
     "shell.execute_reply": "2025-01-21T19:15:04.607617Z"
    }
   },
   "outputs": [
    {
     "name": "stdout",
     "output_type": "stream",
     "text": [
      "(0/29) center: (18275/0)\n",
      "(1/29) center.orig: (18275/0)\n",
      "(2/29) subjectID: (18275/0)\n",
      "(3/29) subjectID.orig: (18275/0)\n",
      "(4/29) uniqueID: (18275/0)\n",
      "(5/29) uniqueID.orig: (18275/0)\n",
      "(6/29) _flatten_index: (18275/0)\n",
      "(7/29) temperatureTimeSlot: (18275/0)\n",
      "(8/29) temperatureTimeSlot.orig: (18275/0)\n",
      "(9/29) temperatureTimeSlotNoForm: (18275/0)\n",
      "(10/29) temperatureTimeSlotNoForm.orig: (0/18275)\n",
      "(11/29) temperatureDate: (18275/0)\n",
      "(12/29) temperatureDate.orig: (18226/49)\n",
      "(13/29) temperatureTime: (18275/0)\n",
      "(14/29) temperatureTime.orig: (18168/107)\n",
      "(15/29) skinTemperature_C: (18275/0)\n",
      "(16/29) skinTemperature_C.orig: (17237/1038)\n",
      "(17/29) axillaryTemperature_C: (18275/0)\n",
      "(18/29) axillaryTemperature_C.orig: (250/18025)\n",
      "(19/29) esophagealTemperature_C: (18275/0)\n",
      "(20/29) esophagealTemperature_C.orig: (17723/552)\n",
      "(21/29) blanketTemperature_C: (18275/0)\n",
      "(22/29) blanketTemperature_C.orig: (17242/1033)\n",
      "(23/29) servoSetTemperature_C: (18275/0)\n",
      "(24/29) servoSetTemperature_C.orig: (17677/598)\n",
      "(25/29) alterationSkinIntegrity: (18275/0)\n",
      "(26/29) alterationSkinIntegrity.orig: (1335/16940)\n",
      "(27/29) shiver: (18275/0)\n",
      "(28/29) shiver.orig: (1335/16940)\n"
     ]
    }
   ],
   "source": [
    "COMBINE_harmonizer.column_info(df)"
   ]
  },
  {
   "cell_type": "markdown",
   "id": "4b560ac6",
   "metadata": {},
   "source": [
    "## 02-02-cardiovascular"
   ]
  },
  {
   "cell_type": "code",
   "execution_count": 59,
   "id": "e26964cc",
   "metadata": {
    "execution": {
     "iopub.execute_input": "2025-01-21T19:15:04.610255Z",
     "iopub.status.busy": "2025-01-21T19:15:04.610072Z",
     "iopub.status.idle": "2025-01-21T19:15:04.612258Z",
     "shell.execute_reply": "2025-01-21T19:15:04.611942Z"
    }
   },
   "outputs": [],
   "source": [
    "_FLATTEN_IDS = ['cardioTimeSlot']\n",
    "base_filename = '02-02-cardiovascular.csv'"
   ]
  },
  {
   "cell_type": "code",
   "execution_count": 60,
   "id": "8576aad5",
   "metadata": {
    "execution": {
     "iopub.execute_input": "2025-01-21T19:15:04.613910Z",
     "iopub.status.busy": "2025-01-21T19:15:04.613751Z",
     "iopub.status.idle": "2025-01-21T19:15:04.839157Z",
     "shell.execute_reply": "2025-01-21T19:15:04.838920Z"
    }
   },
   "outputs": [
    {
     "name": "stdout",
     "output_type": "stream",
     "text": [
      "(0/13) normalize_value: column: center\n",
      "(1/13) normalize_value: column: subjectID\n",
      "(2/13) normalize_value: column: uniqueID\n",
      "(3/13) normalize_value: column: cardioVolumeExpand\n",
      "(4/13) normalize_value: column: cardioInotropicAgent\n",
      "(5/13) normalize_value: column: cardioBloodTransfusion\n",
      "(6/13) normalize_value: column: cardioPlatelets\n",
      "(7/13) normalize_value: column: cardioTimeSlot\n",
      "(8/13) normalize_value: column: cardioDate\n",
      "(9/13) normalize_value: column: cardioTime\n",
      "(10/13) normalize_value: column: cardioSystolicBloodPressure_mmHg\n",
      "(11/13) normalize_value: column: cardioDiastolicBloodPressure_mmHg\n",
      "(12/13) normalize_value: column: cardioHeartRate_BPM\n",
      "flatten_index: flatten_ids: ['cardioTimeSlot'] unique_id_map: {np.int64(1): np.int64(1), np.int64(4): np.int64(4), np.int64(8): np.int64(8), np.int64(12): np.int64(12), np.int64(16): np.int64(16), np.int64(20): np.int64(20), np.int64(24): np.int64(24), np.int64(28): np.int64(28), np.int64(32): np.int64(32), np.int64(36): np.int64(36), np.int64(40): np.int64(40), np.int64(44): np.int64(44), np.int64(48): np.int64(48), np.int64(52): np.int64(52), np.int64(56): np.int64(56), np.int64(60): np.int64(60), np.int64(64): np.int64(64), np.int64(68): np.int64(68), np.int64(72): np.int64(72), np.int64(76): np.int64(76), np.int64(80): np.int64(80), np.int64(84): np.int64(84), np.int64(88): np.int64(88), np.int64(92): np.int64(92), np.int64(96): np.int64(96), np.int64(100): np.int64(100), np.int64(104): np.int64(104), np.int64(108): np.int64(108), np.int64(112): np.int64(112), np.int64(116): np.int64(116), np.int64(120): np.int64(120), np.int64(124): np.int64(124), np.int64(128): np.int64(128), np.int64(132): np.int64(132), np.int64(136): np.int64(136), np.int64(140): np.int64(140), np.int64(144): np.int64(144), np.int64(148): np.int64(148), np.int64(152): np.int64(152), np.int64(156): np.int64(156), np.int64(160): np.int64(160), np.int64(164): np.int64(164), np.int64(168): np.int64(168), np.int64(172): np.int64(172), np.int64(176): np.int64(176), np.int64(180): np.int64(180), np.int64(184): np.int64(184), np.int64(188): np.int64(188), np.int64(192): np.int64(192), np.int64(196): np.int64(196), np.int64(200): np.int64(200), np.int64(204): np.int64(204), np.int64(208): np.int64(208), np.int64(212): np.int64(212), np.int64(216): np.int64(216), np.int64(220): np.int64(220), np.int64(224): np.int64(224), np.int64(228): np.int64(228), np.int64(232): np.int64(232), np.int64(236): np.int64(236), np.int64(240): np.int64(240), np.int64(244): np.int64(244), np.int64(248): np.int64(248), np.int64(252): np.int64(252), np.int64(256): np.int64(256), np.int64(260): np.int64(260), np.int64(264): np.int64(264), np.int64(268): np.int64(268), np.int64(272): np.int64(272), np.int64(276): np.int64(276), np.int64(280): np.int64(280), np.int64(284): np.int64(284), np.int64(288): np.int64(288)} the_type: int64\n"
     ]
    }
   ],
   "source": [
    "filename = os.sep.join([input_dir, base_filename])\n",
    "df = pd.read_csv(filename, dtype='O')\n",
    "df = COMBINE_harmonizer.normalize_value(df, _VALUE_MAP, _FLATTEN_IDS, order_map=_ORDER_MAP)"
   ]
  },
  {
   "cell_type": "code",
   "execution_count": 61,
   "id": "bf061c3c",
   "metadata": {
    "execution": {
     "iopub.execute_input": "2025-01-21T19:15:04.840439Z",
     "iopub.status.busy": "2025-01-21T19:15:04.840348Z",
     "iopub.status.idle": "2025-01-21T19:15:04.842814Z",
     "shell.execute_reply": "2025-01-21T19:15:04.842581Z"
    }
   },
   "outputs": [
    {
     "name": "stdout",
     "output_type": "stream",
     "text": [
      "_flatten_index: ([  0   4   8  12  16  20  24  28  32  36  40  44  48  52  56  60  64  68\n",
      "  72  76  80  84  88  92  96 100 104 108 112 116 120 124 128 132 136 140\n",
      " 144 148 152 156 160 164 168 172 176 180 184 188 192 196 200 204 208 212\n",
      " 216 220 224 228 232 236 240 244 248 252 256 260 264 268 272 276 280 284\n",
      " 288] / int64)\n"
     ]
    }
   ],
   "source": [
    "# XXX hack for _flatten_index: 1 as 0\n",
    "is_flatten_index_1 = df[COMBINE_harmonizer.FLATTEN_INDEX] == 1\n",
    "df.loc[is_flatten_index_1, COMBINE_harmonizer.FLATTEN_INDEX] = 0\n",
    "\n",
    "print(f\"_flatten_index: ({df[COMBINE_harmonizer.FLATTEN_INDEX].unique()} / {df[COMBINE_harmonizer.FLATTEN_INDEX].dtype})\")"
   ]
  },
  {
   "cell_type": "code",
   "execution_count": 62,
   "id": "3aa52915",
   "metadata": {
    "execution": {
     "iopub.execute_input": "2025-01-21T19:15:04.843910Z",
     "iopub.status.busy": "2025-01-21T19:15:04.843838Z",
     "iopub.status.idle": "2025-01-21T19:15:05.084553Z",
     "shell.execute_reply": "2025-01-21T19:15:05.083608Z"
    }
   },
   "outputs": [],
   "source": [
    "out_filename = os.sep.join([out_dir, base_filename])\n",
    "df.to_csv(out_filename, index=False)"
   ]
  },
  {
   "cell_type": "code",
   "execution_count": 63,
   "id": "04481743",
   "metadata": {
    "execution": {
     "iopub.execute_input": "2025-01-21T19:15:05.091754Z",
     "iopub.status.busy": "2025-01-21T19:15:05.091441Z",
     "iopub.status.idle": "2025-01-21T19:15:05.108856Z",
     "shell.execute_reply": "2025-01-21T19:15:05.108464Z"
    }
   },
   "outputs": [
    {
     "name": "stdout",
     "output_type": "stream",
     "text": [
      "(0/27) center: (9573/0)\n",
      "(1/27) center.orig: (9573/0)\n",
      "(2/27) subjectID: (9573/0)\n",
      "(3/27) subjectID.orig: (9573/0)\n",
      "(4/27) uniqueID: (9573/0)\n",
      "(5/27) uniqueID.orig: (9573/0)\n",
      "(6/27) _flatten_index: (9573/0)\n",
      "(7/27) cardioTimeSlot: (9573/0)\n",
      "(8/27) cardioTimeSlot.orig: (9573/0)\n",
      "(9/27) cardioDate: (9573/0)\n",
      "(10/27) cardioDate.orig: (9565/8)\n",
      "(11/27) cardioTime: (9573/0)\n",
      "(12/27) cardioTime.orig: (9551/22)\n",
      "(13/27) cardioSystolicBloodPressure_mmHg: (9573/0)\n",
      "(14/27) cardioSystolicBloodPressure_mmHg.orig: (9087/486)\n",
      "(15/27) cardioDiastolicBloodPressure_mmHg: (9573/0)\n",
      "(16/27) cardioDiastolicBloodPressure_mmHg.orig: (9087/486)\n",
      "(17/27) cardioHeartRate_BPM: (9573/0)\n",
      "(18/27) cardioHeartRate_BPM.orig: (9460/113)\n",
      "(19/27) cardioVolumeExpand: (9573/0)\n",
      "(20/27) cardioVolumeExpand.orig: (9565/8)\n",
      "(21/27) cardioInotropicAgent: (9573/0)\n",
      "(22/27) cardioInotropicAgent.orig: (9565/8)\n",
      "(23/27) cardioBloodTransfusion: (9573/0)\n",
      "(24/27) cardioBloodTransfusion.orig: (9565/8)\n",
      "(25/27) cardioPlatelets: (9573/0)\n",
      "(26/27) cardioPlatelets.orig: (9565/8)\n"
     ]
    }
   ],
   "source": [
    "COMBINE_harmonizer.column_info(df)"
   ]
  },
  {
   "cell_type": "markdown",
   "id": "2a370b10",
   "metadata": {},
   "source": [
    "## 02-03-respiratory"
   ]
  },
  {
   "cell_type": "code",
   "execution_count": 64,
   "id": "8b4e3347",
   "metadata": {
    "execution": {
     "iopub.execute_input": "2025-01-21T19:15:05.110963Z",
     "iopub.status.busy": "2025-01-21T19:15:05.110771Z",
     "iopub.status.idle": "2025-01-21T19:15:05.113023Z",
     "shell.execute_reply": "2025-01-21T19:15:05.112648Z"
    }
   },
   "outputs": [],
   "source": [
    "_FLATTEN_IDS = ['respiratoryTimeSlot']\n",
    "base_filename = '02-03-respiratory.csv'"
   ]
  },
  {
   "cell_type": "code",
   "execution_count": 65,
   "id": "b2bba6c5",
   "metadata": {
    "execution": {
     "iopub.execute_input": "2025-01-21T19:15:05.114981Z",
     "iopub.status.busy": "2025-01-21T19:15:05.114794Z",
     "iopub.status.idle": "2025-01-21T19:15:05.236927Z",
     "shell.execute_reply": "2025-01-21T19:15:05.236677Z"
    }
   },
   "outputs": [
    {
     "name": "stdout",
     "output_type": "stream",
     "text": [
      "(0/12) normalize_value: column: center\n",
      "(1/12) normalize_value: column: subjectID\n",
      "(2/12) normalize_value: column: uniqueID\n",
      "(3/12) normalize_value: column: respiratoryTimeSlot\n",
      "(4/12) normalize_value: column: respiratoryDate\n",
      "(5/12) normalize_value: column: respiratoryTime\n",
      "(6/12) normalize_value: column: respiratorySupportType\n",
      "(7/12) normalize_value: column: respiratoryFiO2\n",
      "(8/12) normalize_value: column: respiratoryRate_Hz\n",
      "(9/12) normalize_value: column: respiratoryPIP_cmH2O\n",
      "(10/12) normalize_value: column: respiratoryMAP_cmH2O\n",
      "(11/12) normalize_value: column: respiratoryPEEP_cmH2O\n",
      "flatten_index: flatten_ids: ['respiratoryTimeSlot'] unique_id_map: {np.int64(1): np.int64(1), np.int64(24): np.int64(24), np.int64(48): np.int64(48), np.int64(72): np.int64(72), np.int64(96): np.int64(96), np.int64(120): np.int64(120), np.int64(144): np.int64(144), np.int64(168): np.int64(168), np.int64(192): np.int64(192), np.int64(216): np.int64(216)} the_type: int64\n"
     ]
    }
   ],
   "source": [
    "filename = os.sep.join([input_dir, base_filename])\n",
    "df = pd.read_csv(filename, dtype='O')\n",
    "df = COMBINE_harmonizer.normalize_value(df, _VALUE_MAP, _FLATTEN_IDS, order_map=_ORDER_MAP)"
   ]
  },
  {
   "cell_type": "code",
   "execution_count": 66,
   "id": "36070d8c",
   "metadata": {
    "execution": {
     "iopub.execute_input": "2025-01-21T19:15:05.238153Z",
     "iopub.status.busy": "2025-01-21T19:15:05.238077Z",
     "iopub.status.idle": "2025-01-21T19:15:05.240427Z",
     "shell.execute_reply": "2025-01-21T19:15:05.240214Z"
    }
   },
   "outputs": [
    {
     "name": "stdout",
     "output_type": "stream",
     "text": [
      "_flatten_index: ([  0  24  48  72  96 120 144 168 192 216] / int64)\n"
     ]
    }
   ],
   "source": [
    "# XXX hack for _flatten_index: 1 as 0\n",
    "is_flatten_index_1 = df[COMBINE_harmonizer.FLATTEN_INDEX] == 1\n",
    "df.loc[is_flatten_index_1, COMBINE_harmonizer.FLATTEN_INDEX] = 0\n",
    "\n",
    "print(f\"_flatten_index: ({df[COMBINE_harmonizer.FLATTEN_INDEX].unique()} / {df[COMBINE_harmonizer.FLATTEN_INDEX].dtype})\")"
   ]
  },
  {
   "cell_type": "code",
   "execution_count": 67,
   "id": "6fd1fe4c",
   "metadata": {
    "execution": {
     "iopub.execute_input": "2025-01-21T19:15:05.241590Z",
     "iopub.status.busy": "2025-01-21T19:15:05.241517Z",
     "iopub.status.idle": "2025-01-21T19:15:05.324745Z",
     "shell.execute_reply": "2025-01-21T19:15:05.324348Z"
    }
   },
   "outputs": [],
   "source": [
    "out_filename = os.sep.join([out_dir, base_filename])\n",
    "df.to_csv(out_filename, index=False)"
   ]
  },
  {
   "cell_type": "markdown",
   "id": "31f90938",
   "metadata": {},
   "source": [
    "## 02-04-blood-gas"
   ]
  },
  {
   "cell_type": "code",
   "execution_count": 68,
   "id": "4aa70d28",
   "metadata": {
    "execution": {
     "iopub.execute_input": "2025-01-21T19:15:05.326568Z",
     "iopub.status.busy": "2025-01-21T19:15:05.326421Z",
     "iopub.status.idle": "2025-01-21T19:15:05.328197Z",
     "shell.execute_reply": "2025-01-21T19:15:05.327927Z"
    }
   },
   "outputs": [],
   "source": [
    "_FLATTEN_IDS = ['bloodGasTimeSlot']\n",
    "base_filename = '02-04-blood-gas.csv'"
   ]
  },
  {
   "cell_type": "code",
   "execution_count": 69,
   "id": "7446e9bd",
   "metadata": {
    "execution": {
     "iopub.execute_input": "2025-01-21T19:15:05.329585Z",
     "iopub.status.busy": "2025-01-21T19:15:05.329470Z",
     "iopub.status.idle": "2025-01-21T19:15:05.567176Z",
     "shell.execute_reply": "2025-01-21T19:15:05.566948Z"
    }
   },
   "outputs": [
    {
     "name": "stdout",
     "output_type": "stream",
     "text": [
      "(0/17) normalize_value: column: center\n"
     ]
    },
    {
     "name": "stdout",
     "output_type": "stream",
     "text": [
      "(1/17) normalize_value: column: subjectID\n",
      "(2/17) normalize_value: column: uniqueID\n",
      "(3/17) normalize_value: column: bloodGasSrc\n",
      "[WARN] unable to get value: sheet_name: bloodGasSrc value: * value_float:  value_int: \n",
      "[WARN] unable to get value: sheet_name: bloodGasSrc value: * value_float:  value_int: \n",
      "[WARN] unable to get value: sheet_name: bloodGasSrc value: * value_float:  value_int: \n",
      "[WARN] unable to get value: sheet_name: bloodGasSrc value: * value_float:  value_int: \n",
      "[WARN] unable to get value: sheet_name: bloodGasSrc value: * value_float:  value_int: \n",
      "[WARN] unable to get value: sheet_name: bloodGasSrc value: * value_float:  value_int: \n",
      "[WARN] unable to get value: sheet_name: bloodGasSrc value: * value_float:  value_int: \n",
      "[WARN] unable to get value: sheet_name: bloodGasSrc value: * value_float:  value_int: \n",
      "[WARN] unable to get value: sheet_name: bloodGasSrc value: * value_float:  value_int: \n",
      "[WARN] unable to get value: sheet_name: bloodGasSrc value: * value_float:  value_int: \n",
      "[WARN] unable to get value: sheet_name: bloodGasSrc value: * value_float:  value_int: \n",
      "[WARN] unable to get value: sheet_name: bloodGasSrc value: * value_float:  value_int: \n",
      "[WARN] unable to get value: sheet_name: bloodGasSrc value: * value_float:  value_int: \n",
      "[WARN] unable to get value: sheet_name: bloodGasSrc value: * value_float:  value_int: \n",
      "[WARN] unable to get value: sheet_name: bloodGasSrc value: * value_float:  value_int: \n",
      "[WARN] unable to get value: sheet_name: bloodGasSrc value: * value_float:  value_int: \n",
      "[WARN] unable to get value: sheet_name: bloodGasSrc value: * value_float:  value_int: \n",
      "[WARN] unable to get value: sheet_name: bloodGasSrc value: * value_float:  value_int: \n",
      "[WARN] unable to get value: sheet_name: bloodGasSrc value: * value_float:  value_int: \n",
      "[WARN] unable to get value: sheet_name: bloodGasSrc value: * value_float:  value_int: \n",
      "[WARN] unable to get value: sheet_name: bloodGasSrc value: * value_float:  value_int: \n",
      "[WARN] unable to get value: sheet_name: bloodGasSrc value: * value_float:  value_int: \n",
      "[WARN] unable to get value: sheet_name: bloodGasSrc value: * value_float:  value_int: \n",
      "[WARN] unable to get value: sheet_name: bloodGasSrc value: * value_float:  value_int: \n",
      "[WARN] unable to get value: sheet_name: bloodGasSrc value: * value_float:  value_int: \n",
      "[WARN] unable to get value: sheet_name: bloodGasSrc value: * value_float:  value_int: \n",
      "[WARN] unable to get value: sheet_name: bloodGasSrc value: * value_float:  value_int: \n",
      "[WARN] unable to get value: sheet_name: bloodGasSrc value: * value_float:  value_int: \n",
      "[WARN] unable to get value: sheet_name: bloodGasSrc value: * value_float:  value_int: \n",
      "[WARN] unable to get value: sheet_name: bloodGasSrc value: * value_float:  value_int: \n",
      "[WARN] unable to get value: sheet_name: bloodGasSrc value: * value_float:  value_int: \n",
      "[WARN] unable to get value: sheet_name: bloodGasSrc value: * value_float:  value_int: \n",
      "[WARN] unable to get value: sheet_name: bloodGasSrc value: * value_float:  value_int: \n",
      "[WARN] unable to get value: sheet_name: bloodGasSrc value: * value_float:  value_int: \n",
      "[WARN] unable to get value: sheet_name: bloodGasSrc value: * value_float:  value_int: \n",
      "[WARN] unable to get value: sheet_name: bloodGasSrc value: * value_float:  value_int: \n",
      "[WARN] unable to get value: sheet_name: bloodGasSrc value: * value_float:  value_int: \n",
      "[WARN] unable to get value: sheet_name: bloodGasSrc value: * value_float:  value_int: \n",
      "[WARN] unable to get value: sheet_name: bloodGasSrc value: * value_float:  value_int: \n",
      "[WARN] unable to get value: sheet_name: bloodGasSrc value: * value_float:  value_int: \n",
      "[WARN] unable to get value: sheet_name: bloodGasSrc value: * value_float:  value_int: \n",
      "[WARN] unable to get value: sheet_name: bloodGasSrc value: * value_float:  value_int: \n",
      "[WARN] unable to get value: sheet_name: bloodGasSrc value: * value_float:  value_int: \n",
      "[WARN] unable to get value: sheet_name: bloodGasSrc value: * value_float:  value_int: \n",
      "[WARN] unable to get value: sheet_name: bloodGasSrc value: * value_float:  value_int: \n",
      "[WARN] unable to get value: sheet_name: bloodGasSrc value: * value_float:  value_int: \n",
      "[WARN] unable to get value: sheet_name: bloodGasSrc value: * value_float:  value_int: \n",
      "[WARN] unable to get value: sheet_name: bloodGasSrc value: * value_float:  value_int: \n",
      "[WARN] unable to get value: sheet_name: bloodGasSrc value: * value_float:  value_int: \n",
      "[WARN] unable to get value: sheet_name: bloodGasSrc value: * value_float:  value_int: \n",
      "[WARN] unable to get value: sheet_name: bloodGasSrc value: * value_float:  value_int: \n",
      "[WARN] unable to get value: sheet_name: bloodGasSrc value: * value_float:  value_int: \n",
      "[WARN] unable to get value: sheet_name: bloodGasSrc value: * value_float:  value_int: \n",
      "[WARN] unable to get value: sheet_name: bloodGasSrc value: * value_float:  value_int: \n",
      "[WARN] unable to get value: sheet_name: bloodGasSrc value: * value_float:  value_int: \n",
      "[WARN] unable to get value: sheet_name: bloodGasSrc value: * value_float:  value_int: \n",
      "[WARN] unable to get value: sheet_name: bloodGasSrc value: * value_float:  value_int: \n",
      "[WARN] unable to get value: sheet_name: bloodGasSrc value: * value_float:  value_int: \n",
      "[WARN] unable to get value: sheet_name: bloodGasSrc value: * value_float:  value_int: \n",
      "[WARN] unable to get value: sheet_name: bloodGasSrc value: * value_float:  value_int: \n",
      "[WARN] unable to get value: sheet_name: bloodGasSrc value: * value_float:  value_int: \n",
      "[WARN] unable to get value: sheet_name: bloodGasSrc value: * value_float:  value_int: \n",
      "[WARN] unable to get value: sheet_name: bloodGasSrc value: * value_float:  value_int: \n",
      "[WARN] unable to get value: sheet_name: bloodGasSrc value: * value_float:  value_int: \n",
      "[WARN] unable to get value: sheet_name: bloodGasSrc value: * value_float:  value_int: \n",
      "[WARN] unable to get value: sheet_name: bloodGasSrc value: * value_float:  value_int: \n",
      "[WARN] unable to get value: sheet_name: bloodGasSrc value: * value_float:  value_int: \n",
      "[WARN] unable to get value: sheet_name: bloodGasSrc value: * value_float:  value_int: \n",
      "[WARN] unable to get value: sheet_name: bloodGasSrc value: * value_float:  value_int: \n",
      "[WARN] unable to get value: sheet_name: bloodGasSrc value: * value_float:  value_int: \n",
      "[WARN] unable to get value: sheet_name: bloodGasSrc value: * value_float:  value_int: \n",
      "[WARN] unable to get value: sheet_name: bloodGasSrc value: * value_float:  value_int: \n",
      "[WARN] unable to get value: sheet_name: bloodGasSrc value: * value_float:  value_int: \n",
      "[WARN] unable to get value: sheet_name: bloodGasSrc value: * value_float:  value_int: \n",
      "[WARN] unable to get value: sheet_name: bloodGasSrc value: * value_float:  value_int: \n",
      "[WARN] unable to get value: sheet_name: bloodGasSrc value: * value_float:  value_int: \n",
      "[WARN] unable to get value: sheet_name: bloodGasSrc value: * value_float:  value_int: \n",
      "[WARN] unable to get value: sheet_name: bloodGasSrc value: * value_float:  value_int: \n",
      "[WARN] unable to get value: sheet_name: bloodGasSrc value: * value_float:  value_int: \n",
      "[WARN] unable to get value: sheet_name: bloodGasSrc value: * value_float:  value_int: \n",
      "[WARN] unable to get value: sheet_name: bloodGasSrc value: * value_float:  value_int: \n",
      "[WARN] unable to get value: sheet_name: bloodGasSrc value: * value_float:  value_int: \n",
      "[WARN] unable to get value: sheet_name: bloodGasSrc value: * value_float:  value_int: \n",
      "[WARN] unable to get value: sheet_name: bloodGasSrc value: * value_float:  value_int: \n",
      "[WARN] unable to get value: sheet_name: bloodGasSrc value: * value_float:  value_int: \n",
      "[WARN] unable to get value: sheet_name: bloodGasSrc value: * value_float:  value_int: \n",
      "[WARN] unable to get value: sheet_name: bloodGasSrc value: * value_float:  value_int: \n",
      "[WARN] unable to get value: sheet_name: bloodGasSrc value: * value_float:  value_int: \n",
      "[WARN] unable to get value: sheet_name: bloodGasSrc value: * value_float:  value_int: \n",
      "[WARN] unable to get value: sheet_name: bloodGasSrc value: * value_float:  value_int: \n",
      "[WARN] unable to get value: sheet_name: bloodGasSrc value: * value_float:  value_int: \n",
      "[WARN] unable to get value: sheet_name: bloodGasSrc value: * value_float:  value_int: \n",
      "[WARN] unable to get value: sheet_name: bloodGasSrc value: * value_float:  value_int: \n",
      "[WARN] unable to get value: sheet_name: bloodGasSrc value: * value_float:  value_int: \n",
      "[WARN] unable to get value: sheet_name: bloodGasSrc value: * value_float:  value_int: \n",
      "[WARN] unable to get value: sheet_name: bloodGasSrc value: * value_float:  value_int: \n",
      "[WARN] unable to get value: sheet_name: bloodGasSrc value: * value_float:  value_int: \n",
      "[WARN] unable to get value: sheet_name: bloodGasSrc value: * value_float:  value_int: \n",
      "[WARN] unable to get value: sheet_name: bloodGasSrc value: * value_float:  value_int: \n",
      "[WARN] unable to get value: sheet_name: bloodGasSrc value: * value_float:  value_int: \n",
      "[WARN] unable to get value: sheet_name: bloodGasSrc value: * value_float:  value_int: \n",
      "[WARN] unable to get value: sheet_name: bloodGasSrc value: * value_float:  value_int: \n",
      "[WARN] unable to get value: sheet_name: bloodGasSrc value: * value_float:  value_int: \n",
      "[WARN] unable to get value: sheet_name: bloodGasSrc value: * value_float:  value_int: \n",
      "[WARN] unable to get value: sheet_name: bloodGasSrc value: * value_float:  value_int: \n",
      "[WARN] unable to get value: sheet_name: bloodGasSrc value: * value_float:  value_int: \n",
      "[WARN] unable to get value: sheet_name: bloodGasSrc value: * value_float:  value_int: \n",
      "[WARN] unable to get value: sheet_name: bloodGasSrc value: * value_float:  value_int: \n",
      "[WARN] unable to get value: sheet_name: bloodGasSrc value: * value_float:  value_int: \n",
      "[WARN] unable to get value: sheet_name: bloodGasSrc value: * value_float:  value_int: \n",
      "[WARN] unable to get value: sheet_name: bloodGasSrc value: * value_float:  value_int: \n",
      "[WARN] unable to get value: sheet_name: bloodGasSrc value: * value_float:  value_int: \n",
      "[WARN] unable to get value: sheet_name: bloodGasSrc value: * value_float:  value_int: \n",
      "[WARN] unable to get value: sheet_name: bloodGasSrc value: * value_float:  value_int: \n",
      "[WARN] unable to get value: sheet_name: bloodGasSrc value: * value_float:  value_int: \n",
      "[WARN] unable to get value: sheet_name: bloodGasSrc value: * value_float:  value_int: \n",
      "[WARN] unable to get value: sheet_name: bloodGasSrc value: * value_float:  value_int: \n",
      "[WARN] unable to get value: sheet_name: bloodGasSrc value: * value_float:  value_int: \n",
      "[WARN] unable to get value: sheet_name: bloodGasSrc value: * value_float:  value_int: \n",
      "[WARN] unable to get value: sheet_name: bloodGasSrc value: * value_float:  value_int: \n",
      "[WARN] unable to get value: sheet_name: bloodGasSrc value: * value_float:  value_int: \n",
      "[WARN] unable to get value: sheet_name: bloodGasSrc value: * value_float:  value_int: \n",
      "[WARN] unable to get value: sheet_name: bloodGasSrc value: * value_float:  value_int: \n",
      "[WARN] unable to get value: sheet_name: bloodGasSrc value: * value_float:  value_int: \n",
      "[WARN] unable to get value: sheet_name: bloodGasSrc value: * value_float:  value_int: \n",
      "[WARN] unable to get value: sheet_name: bloodGasSrc value: * value_float:  value_int: \n",
      "[WARN] unable to get value: sheet_name: bloodGasSrc value: * value_float:  value_int: \n",
      "[WARN] unable to get value: sheet_name: bloodGasSrc value: * value_float:  value_int: \n",
      "[WARN] unable to get value: sheet_name: bloodGasSrc value: * value_float:  value_int: \n",
      "[WARN] unable to get value: sheet_name: bloodGasSrc value: * value_float:  value_int: \n",
      "[WARN] unable to get value: sheet_name: bloodGasSrc value: * value_float:  value_int: \n",
      "[WARN] unable to get value: sheet_name: bloodGasSrc value: * value_float:  value_int: \n",
      "[WARN] unable to get value: sheet_name: bloodGasSrc value: * value_float:  value_int: \n",
      "[WARN] unable to get value: sheet_name: bloodGasSrc value: * value_float:  value_int: \n",
      "[WARN] unable to get value: sheet_name: bloodGasSrc value: * value_float:  value_int: \n",
      "[WARN] unable to get value: sheet_name: bloodGasSrc value: * value_float:  value_int: \n",
      "[WARN] unable to get value: sheet_name: bloodGasSrc value: * value_float:  value_int: \n",
      "[WARN] unable to get value: sheet_name: bloodGasSrc value: * value_float:  value_int: \n",
      "[WARN] unable to get value: sheet_name: bloodGasSrc value: * value_float:  value_int: \n",
      "[WARN] unable to get value: sheet_name: bloodGasSrc value: * value_float:  value_int: \n",
      "[WARN] unable to get value: sheet_name: bloodGasSrc value: * value_float:  value_int: \n",
      "[WARN] unable to get value: sheet_name: bloodGasSrc value: * value_float:  value_int: \n",
      "[WARN] unable to get value: sheet_name: bloodGasSrc value: * value_float:  value_int: \n",
      "[WARN] unable to get value: sheet_name: bloodGasSrc value: * value_float:  value_int: \n",
      "[WARN] unable to get value: sheet_name: bloodGasSrc value: * value_float:  value_int: \n",
      "[WARN] unable to get value: sheet_name: bloodGasSrc value: * value_float:  value_int: \n",
      "[WARN] unable to get value: sheet_name: bloodGasSrc value: * value_float:  value_int: \n",
      "[WARN] unable to get value: sheet_name: bloodGasSrc value: * value_float:  value_int: \n",
      "[WARN] unable to get value: sheet_name: bloodGasSrc value: * value_float:  value_int: \n",
      "[WARN] unable to get value: sheet_name: bloodGasSrc value: * value_float:  value_int: \n",
      "[WARN] unable to get value: sheet_name: bloodGasSrc value: * value_float:  value_int: \n",
      "[WARN] unable to get value: sheet_name: bloodGasSrc value: * value_float:  value_int: \n",
      "[WARN] unable to get value: sheet_name: bloodGasSrc value: * value_float:  value_int: \n",
      "[WARN] unable to get value: sheet_name: bloodGasSrc value: * value_float:  value_int: \n",
      "[WARN] unable to get value: sheet_name: bloodGasSrc value: * value_float:  value_int: \n",
      "[WARN] unable to get value: sheet_name: bloodGasSrc value: * value_float:  value_int: \n",
      "[WARN] unable to get value: sheet_name: bloodGasSrc value: * value_float:  value_int: \n",
      "[WARN] unable to get value: sheet_name: bloodGasSrc value: * value_float:  value_int: \n",
      "[WARN] unable to get value: sheet_name: bloodGasSrc value: * value_float:  value_int: \n",
      "[WARN] unable to get value: sheet_name: bloodGasSrc value: * value_float:  value_int: \n",
      "[WARN] unable to get value: sheet_name: bloodGasSrc value: * value_float:  value_int: \n",
      "[WARN] unable to get value: sheet_name: bloodGasSrc value: * value_float:  value_int: \n",
      "[WARN] unable to get value: sheet_name: bloodGasSrc value: * value_float:  value_int: \n",
      "(4/17) normalize_value: column: bloodGasTimeSlot\n",
      "(5/17) normalize_value: column: bloodGasDate\n",
      "(6/17) normalize_value: column: bloodGasTime\n",
      "(7/17) normalize_value: column: bloodGasPH\n",
      "(8/17) normalize_value: column: bloodGasPCO2_mmHg\n",
      "(9/17) normalize_value: column: bloodGasPO2_mmHg\n",
      "(10/17) normalize_value: column: bloodGasHCO3_mEqPerL\n",
      "(11/17) normalize_value: column: bloodGasBaseDeficit_mEqPerL\n",
      "(12/17) normalize_value: column: bloodGasPHCorrect\n",
      "(13/17) normalize_value: column: bloodGasPCO2Correct_mmHg\n",
      "(14/17) normalize_value: column: bloodGasPO2Correct_mmHg\n",
      "(15/17) normalize_value: column: bloodGasHCO3Correct_mEqPerL\n",
      "(16/17) normalize_value: column: bloodGasBaseDeficitCorrect_mEqPerL\n",
      "flatten_index: flatten_ids: ['bloodGasTimeSlot'] unique_id_map: {np.int64(1): np.int64(1), np.int64(4): np.int64(4), np.int64(8): np.int64(8), np.int64(12): np.int64(12), np.int64(16): np.int64(16), np.int64(20): np.int64(20), np.int64(24): np.int64(24), np.int64(28): np.int64(28), np.int64(32): np.int64(32), np.int64(36): np.int64(36), np.int64(40): np.int64(40), np.int64(44): np.int64(44), np.int64(48): np.int64(48), np.int64(52): np.int64(52), np.int64(56): np.int64(56), np.int64(60): np.int64(60), np.int64(64): np.int64(64), np.int64(68): np.int64(68), np.int64(72): np.int64(72), np.int64(76): np.int64(76), np.int64(80): np.int64(80), np.int64(84): np.int64(84), np.int64(88): np.int64(88), np.int64(92): np.int64(92), np.int64(96): np.int64(96), np.int64(100): np.int64(100), np.int64(104): np.int64(104), np.int64(108): np.int64(108), np.int64(112): np.int64(112), np.int64(116): np.int64(116), np.int64(120): np.int64(120), np.int64(124): np.int64(124), np.int64(128): np.int64(128), np.int64(132): np.int64(132), np.int64(136): np.int64(136), np.int64(140): np.int64(140), np.int64(144): np.int64(144), np.int64(148): np.int64(148), np.int64(152): np.int64(152), np.int64(156): np.int64(156), np.int64(160): np.int64(160), np.int64(164): np.int64(164), np.int64(168): np.int64(168), np.int64(172): np.int64(172), np.int64(176): np.int64(176), np.int64(180): np.int64(180), np.int64(184): np.int64(184), np.int64(188): np.int64(188), np.int64(192): np.int64(192), np.int64(196): np.int64(196), np.int64(200): np.int64(200), np.int64(204): np.int64(204), np.int64(208): np.int64(208), np.int64(212): np.int64(212), np.int64(216): np.int64(216), np.int64(220): np.int64(220), np.int64(224): np.int64(224), np.int64(228): np.int64(228), np.int64(232): np.int64(232), np.int64(236): np.int64(236), np.int64(240): np.int64(240), np.int64(244): np.int64(244), np.int64(248): np.int64(248), np.int64(252): np.int64(252), np.int64(256): np.int64(256), np.int64(260): np.int64(260), np.int64(264): np.int64(264), np.int64(268): np.int64(268), np.int64(272): np.int64(272), np.int64(276): np.int64(276), np.int64(280): np.int64(280), np.int64(284): np.int64(284), np.int64(288): np.int64(288)} the_type: int64\n"
     ]
    }
   ],
   "source": [
    "filename = os.sep.join([input_dir, base_filename])\n",
    "df = pd.read_csv(filename, dtype='O')\n",
    "df = COMBINE_harmonizer.normalize_value(df, _VALUE_MAP, _FLATTEN_IDS, order_map=_ORDER_MAP)"
   ]
  },
  {
   "cell_type": "code",
   "execution_count": 70,
   "id": "dabb5181",
   "metadata": {
    "execution": {
     "iopub.execute_input": "2025-01-21T19:15:05.568504Z",
     "iopub.status.busy": "2025-01-21T19:15:05.568421Z",
     "iopub.status.idle": "2025-01-21T19:15:05.570830Z",
     "shell.execute_reply": "2025-01-21T19:15:05.570628Z"
    }
   },
   "outputs": [
    {
     "name": "stdout",
     "output_type": "stream",
     "text": [
      "_flatten_index: ([  0   4   8  12  16  20  24  28  32  36  40  44  48  52  56  60  64  68\n",
      "  72  76  80  84  88  92  96 100 104 108 112 116 120 124 128 132 136 140\n",
      " 144 148 152 156 160 164 168 172 176 180 184 188 192 196 200 204 208 212\n",
      " 216 220 224 228 232 236 240 244 248 252 256 260 264 268 272 276 280 284\n",
      " 288] / int64)\n"
     ]
    }
   ],
   "source": [
    "# XXX hack for _flatten_index: 1 as 0\n",
    "is_flatten_index_1 = df[COMBINE_harmonizer.FLATTEN_INDEX] == 1\n",
    "df.loc[is_flatten_index_1, COMBINE_harmonizer.FLATTEN_INDEX] = 0\n",
    "\n",
    "print(f\"_flatten_index: ({df[COMBINE_harmonizer.FLATTEN_INDEX].unique()} / {df[COMBINE_harmonizer.FLATTEN_INDEX].dtype})\")"
   ]
  },
  {
   "cell_type": "code",
   "execution_count": 71,
   "id": "fb09994b",
   "metadata": {
    "execution": {
     "iopub.execute_input": "2025-01-21T19:15:05.571938Z",
     "iopub.status.busy": "2025-01-21T19:15:05.571865Z",
     "iopub.status.idle": "2025-01-21T19:15:05.777891Z",
     "shell.execute_reply": "2025-01-21T19:15:05.777329Z"
    }
   },
   "outputs": [],
   "source": [
    "out_filename = os.sep.join([out_dir, base_filename])\n",
    "df.to_csv(out_filename, index=False)"
   ]
  },
  {
   "cell_type": "code",
   "execution_count": 72,
   "id": "87d8b901",
   "metadata": {
    "execution": {
     "iopub.execute_input": "2025-01-21T19:15:05.780514Z",
     "iopub.status.busy": "2025-01-21T19:15:05.780255Z",
     "iopub.status.idle": "2025-01-21T19:15:05.796953Z",
     "shell.execute_reply": "2025-01-21T19:15:05.796607Z"
    }
   },
   "outputs": [
    {
     "name": "stdout",
     "output_type": "stream",
     "text": [
      "(0/35) center: (9573/0)\n",
      "(1/35) center.orig: (9573/0)\n",
      "(2/35) subjectID: (9573/0)\n",
      "(3/35) subjectID.orig: (9573/0)\n",
      "(4/35) uniqueID: (9573/0)\n",
      "(5/35) uniqueID.orig: (9573/0)\n",
      "(6/35) _flatten_index: (9573/0)\n",
      "(7/35) bloodGasTimeSlot: (9573/0)\n",
      "(8/35) bloodGasTimeSlot.orig: (9573/0)\n",
      "(9/35) bloodGasDate: (9573/0)\n",
      "(10/35) bloodGasDate.orig: (5127/4446)\n",
      "(11/35) bloodGasTime: (9573/0)\n",
      "(12/35) bloodGasTime.orig: (4887/4686)\n",
      "(13/35) bloodGasSrc: (9573/0)\n",
      "(14/35) bloodGasSrc.orig: (3775/5798)\n",
      "(15/35) bloodGasPH: (9573/0)\n",
      "(16/35) bloodGasPH.orig: (2575/6998)\n",
      "(17/35) bloodGasPCO2_mmHg: (9573/0)\n",
      "(18/35) bloodGasPCO2_mmHg.orig: (2576/6997)\n",
      "(19/35) bloodGasPO2_mmHg: (9573/0)\n",
      "(20/35) bloodGasPO2_mmHg.orig: (2570/7003)\n",
      "(21/35) bloodGasHCO3_mEqPerL: (9573/0)\n",
      "(22/35) bloodGasHCO3_mEqPerL.orig: (2502/7071)\n",
      "(23/35) bloodGasBaseDeficit_mEqPerL: (9573/0)\n",
      "(24/35) bloodGasBaseDeficit_mEqPerL.orig: (2449/7124)\n",
      "(25/35) bloodGasPHCorrect: (9573/0)\n",
      "(26/35) bloodGasPHCorrect.orig: (3334/6239)\n",
      "(27/35) bloodGasPCO2Correct_mmHg: (9573/0)\n",
      "(28/35) bloodGasPCO2Correct_mmHg.orig: (3336/6237)\n",
      "(29/35) bloodGasPO2Correct_mmHg: (9573/0)\n",
      "(30/35) bloodGasPO2Correct_mmHg.orig: (3291/6282)\n",
      "(31/35) bloodGasHCO3Correct_mEqPerL: (9573/0)\n",
      "(32/35) bloodGasHCO3Correct_mEqPerL.orig: (2748/6825)\n",
      "(33/35) bloodGasBaseDeficitCorrect_mEqPerL: (9573/0)\n",
      "(34/35) bloodGasBaseDeficitCorrect_mEqPerL.orig: (2674/6899)\n"
     ]
    }
   ],
   "source": [
    "COMBINE_harmonizer.column_info(df)"
   ]
  },
  {
   "cell_type": "markdown",
   "id": "07b168c4",
   "metadata": {},
   "source": [
    "## 02-05-hematology"
   ]
  },
  {
   "cell_type": "code",
   "execution_count": 73,
   "id": "7e13e7a0",
   "metadata": {
    "execution": {
     "iopub.execute_input": "2025-01-21T19:15:05.798962Z",
     "iopub.status.busy": "2025-01-21T19:15:05.798786Z",
     "iopub.status.idle": "2025-01-21T19:15:05.801002Z",
     "shell.execute_reply": "2025-01-21T19:15:05.800682Z"
    }
   },
   "outputs": [],
   "source": [
    "_FLATTEN_IDS = ['hematologyTimeSlot']\n",
    "base_filename = '02-05-hematology.csv'"
   ]
  },
  {
   "cell_type": "code",
   "execution_count": 74,
   "id": "1095b3e8",
   "metadata": {
    "execution": {
     "iopub.execute_input": "2025-01-21T19:15:05.802487Z",
     "iopub.status.busy": "2025-01-21T19:15:05.802352Z",
     "iopub.status.idle": "2025-01-21T19:15:05.898802Z",
     "shell.execute_reply": "2025-01-21T19:15:05.898546Z"
    }
   },
   "outputs": [
    {
     "name": "stdout",
     "output_type": "stream",
     "text": [
      "(0/15) normalize_value: column: center\n",
      "(1/15) normalize_value: column: subjectID\n",
      "(2/15) normalize_value: column: uniqueID\n",
      "(3/15) normalize_value: column: hematology\n",
      "(4/15) normalize_value: column: hematologyTimeSlot\n",
      "(5/15) normalize_value: column: hematologyDate\n",
      "(6/15) normalize_value: column: hematologyTime\n",
      "(7/15) normalize_value: column: hematologyWBC\n",
      "(8/15) normalize_value: column: hematologyHemoglobin\n",
      "(9/15) normalize_value: column: hematologyPolymorphNeutrophilsDifferentialCount\n",
      "(10/15) normalize_value: column: hematologyMonocytes\n",
      "(11/15) normalize_value: column: hematologyLymphocytes\n",
      "(12/15) normalize_value: column: hematologyPlateletCount\n",
      "(13/15) normalize_value: column: hematologyPT_s\n",
      "(14/15) normalize_value: column: hematologyPTT_s\n",
      "flatten_index: flatten_ids: ['hematologyTimeSlot'] unique_id_map: {np.int64(1): np.int64(1), np.int64(24): np.int64(24), np.int64(48): np.int64(48), np.int64(72): np.int64(72), np.int64(96): np.int64(96), np.int64(120): np.int64(120), np.int64(144): np.int64(144), np.int64(168): np.int64(168), np.int64(192): np.int64(192), np.int64(216): np.int64(216)} the_type: int64\n"
     ]
    }
   ],
   "source": [
    "filename = os.sep.join([input_dir, base_filename])\n",
    "df = pd.read_csv(filename, dtype='O')\n",
    "df = COMBINE_harmonizer.normalize_value(df, _VALUE_MAP, _FLATTEN_IDS, order_map=_ORDER_MAP)"
   ]
  },
  {
   "cell_type": "code",
   "execution_count": 75,
   "id": "5f4c2733",
   "metadata": {
    "execution": {
     "iopub.execute_input": "2025-01-21T19:15:05.900037Z",
     "iopub.status.busy": "2025-01-21T19:15:05.899961Z",
     "iopub.status.idle": "2025-01-21T19:15:05.902253Z",
     "shell.execute_reply": "2025-01-21T19:15:05.902045Z"
    }
   },
   "outputs": [
    {
     "name": "stdout",
     "output_type": "stream",
     "text": [
      "_flatten_index: ([  0  24  48  72  96 120 144 168 192 216] / int64)\n"
     ]
    }
   ],
   "source": [
    "# XXX hack for _flatten_index: 1 as 0\n",
    "is_flatten_index_1 = df[COMBINE_harmonizer.FLATTEN_INDEX] == 1\n",
    "df.loc[is_flatten_index_1, COMBINE_harmonizer.FLATTEN_INDEX] = 0\n",
    "\n",
    "print(f\"_flatten_index: ({df[COMBINE_harmonizer.FLATTEN_INDEX].unique()} / {df[COMBINE_harmonizer.FLATTEN_INDEX].dtype})\")"
   ]
  },
  {
   "cell_type": "code",
   "execution_count": 76,
   "id": "73a4809d",
   "metadata": {
    "execution": {
     "iopub.execute_input": "2025-01-21T19:15:05.903380Z",
     "iopub.status.busy": "2025-01-21T19:15:05.903305Z",
     "iopub.status.idle": "2025-01-21T19:15:05.997051Z",
     "shell.execute_reply": "2025-01-21T19:15:05.996752Z"
    }
   },
   "outputs": [],
   "source": [
    "out_filename = os.sep.join([out_dir, base_filename])\n",
    "df.to_csv(out_filename, index=False)"
   ]
  },
  {
   "cell_type": "code",
   "execution_count": 77,
   "id": "ba7a1c73",
   "metadata": {
    "execution": {
     "iopub.execute_input": "2025-01-21T19:15:05.998541Z",
     "iopub.status.busy": "2025-01-21T19:15:05.998430Z",
     "iopub.status.idle": "2025-01-21T19:15:06.003257Z",
     "shell.execute_reply": "2025-01-21T19:15:06.003004Z"
    }
   },
   "outputs": [
    {
     "name": "stdout",
     "output_type": "stream",
     "text": [
      "(0/31) center: (1979/0)\n",
      "(1/31) center.orig: (1979/0)\n",
      "(2/31) subjectID: (1979/0)\n",
      "(3/31) subjectID.orig: (1979/0)\n",
      "(4/31) uniqueID: (1979/0)\n",
      "(5/31) uniqueID.orig: (1979/0)\n",
      "(6/31) _flatten_index: (1979/0)\n",
      "(7/31) hematology: (1979/0)\n",
      "(8/31) hematology.orig: (1951/28)\n",
      "(9/31) hematologyTimeSlot: (1979/0)\n",
      "(10/31) hematologyTimeSlot.orig: (1979/0)\n",
      "(11/31) hematologyDate: (1979/0)\n",
      "(12/31) hematologyDate.orig: (1979/0)\n",
      "(13/31) hematologyTime: (1979/0)\n",
      "(14/31) hematologyTime.orig: (1974/5)\n",
      "(15/31) hematologyWBC: (1979/0)\n",
      "(16/31) hematologyWBC.orig: (1239/740)\n",
      "(17/31) hematologyHemoglobin: (1979/0)\n",
      "(18/31) hematologyHemoglobin.orig: (1340/639)\n",
      "(19/31) hematologyPolymorphNeutrophilsDifferentialCount: (1979/0)\n",
      "(20/31) hematologyPolymorphNeutrophilsDifferentialCount.orig: (1067/912)\n",
      "(21/31) hematologyMonocytes: (1979/0)\n",
      "(22/31) hematologyMonocytes.orig: (1089/890)\n",
      "(23/31) hematologyLymphocytes: (1979/0)\n",
      "(24/31) hematologyLymphocytes.orig: (1112/867)\n",
      "(25/31) hematologyPlateletCount: (1979/0)\n",
      "(26/31) hematologyPlateletCount.orig: (1305/674)\n",
      "(27/31) hematologyPT_s: (1979/0)\n",
      "(28/31) hematologyPT_s.orig: (810/1169)\n",
      "(29/31) hematologyPTT_s: (1979/0)\n",
      "(30/31) hematologyPTT_s.orig: (776/1203)\n"
     ]
    }
   ],
   "source": [
    "COMBINE_harmonizer.column_info(df)"
   ]
  },
  {
   "cell_type": "markdown",
   "id": "c1187262",
   "metadata": {},
   "source": [
    "## 02-05_s-hematology"
   ]
  },
  {
   "cell_type": "code",
   "execution_count": 78,
   "id": "7bdfb6a7",
   "metadata": {
    "execution": {
     "iopub.execute_input": "2025-01-21T19:15:06.004661Z",
     "iopub.status.busy": "2025-01-21T19:15:06.004572Z",
     "iopub.status.idle": "2025-01-21T19:15:06.006308Z",
     "shell.execute_reply": "2025-01-21T19:15:06.006059Z"
    }
   },
   "outputs": [],
   "source": [
    "base_filename = '02-05_s-hematology.csv'"
   ]
  },
  {
   "cell_type": "code",
   "execution_count": 79,
   "id": "f2dc93bf",
   "metadata": {
    "execution": {
     "iopub.execute_input": "2025-01-21T19:15:06.007540Z",
     "iopub.status.busy": "2025-01-21T19:15:06.007451Z",
     "iopub.status.idle": "2025-01-21T19:15:06.108605Z",
     "shell.execute_reply": "2025-01-21T19:15:06.108144Z"
    }
   },
   "outputs": [
    {
     "name": "stdout",
     "output_type": "stream",
     "text": [
      "(0/7) normalize_value: column: center\n",
      "(1/7) normalize_value: column: subjectID\n",
      "(2/7) normalize_value: column: uniqueID\n",
      "(3/7) normalize_value: column: hematologyHematocritMin\n",
      "(4/7) normalize_value: column: hematologyHematocritMinDate\n",
      "(5/7) normalize_value: column: hematologyPlateletCountMin\n",
      "(6/7) normalize_value: column: hematologyPlateletCountMinDate\n"
     ]
    }
   ],
   "source": [
    "filename = os.sep.join([input_dir, base_filename])\n",
    "df = pd.read_csv(filename, dtype='O')\n",
    "df = COMBINE_harmonizer.normalize_value(df, _VALUE_MAP, order_map=_ORDER_MAP)\n",
    "\n",
    "out_filename = os.sep.join([out_dir, base_filename])\n",
    "df.to_csv(out_filename, index=False)"
   ]
  },
  {
   "cell_type": "code",
   "execution_count": 80,
   "id": "565486da",
   "metadata": {
    "execution": {
     "iopub.execute_input": "2025-01-21T19:15:06.110892Z",
     "iopub.status.busy": "2025-01-21T19:15:06.110674Z",
     "iopub.status.idle": "2025-01-21T19:15:06.114919Z",
     "shell.execute_reply": "2025-01-21T19:15:06.114499Z"
    }
   },
   "outputs": [
    {
     "name": "stdout",
     "output_type": "stream",
     "text": [
      "(0/14) center: (364/0)\n",
      "(1/14) center.orig: (364/0)\n",
      "(2/14) subjectID: (364/0)\n",
      "(3/14) subjectID.orig: (364/0)\n",
      "(4/14) uniqueID: (364/0)\n",
      "(5/14) uniqueID.orig: (364/0)\n",
      "(6/14) hematologyHematocritMin: (364/0)\n",
      "(7/14) hematologyHematocritMin.orig: (364/0)\n",
      "(8/14) hematologyHematocritMinDate: (364/0)\n",
      "(9/14) hematologyHematocritMinDate.orig: (364/0)\n",
      "(10/14) hematologyPlateletCountMin: (364/0)\n",
      "(11/14) hematologyPlateletCountMin.orig: (361/3)\n",
      "(12/14) hematologyPlateletCountMinDate: (364/0)\n",
      "(13/14) hematologyPlateletCountMinDate.orig: (361/3)\n"
     ]
    }
   ],
   "source": [
    "COMBINE_harmonizer.column_info(df)"
   ]
  },
  {
   "cell_type": "markdown",
   "id": "01eb5c75",
   "metadata": {},
   "source": [
    "## 02-06_s-blood-value"
   ]
  },
  {
   "cell_type": "code",
   "execution_count": 81,
   "id": "b54e4796",
   "metadata": {
    "execution": {
     "iopub.execute_input": "2025-01-21T19:15:06.117040Z",
     "iopub.status.busy": "2025-01-21T19:15:06.116879Z",
     "iopub.status.idle": "2025-01-21T19:15:06.119276Z",
     "shell.execute_reply": "2025-01-21T19:15:06.118901Z"
    }
   },
   "outputs": [],
   "source": [
    "base_filename = '02-06_s-blood-value.csv'"
   ]
  },
  {
   "cell_type": "code",
   "execution_count": 82,
   "id": "bb6698a2",
   "metadata": {
    "execution": {
     "iopub.execute_input": "2025-01-21T19:15:06.121075Z",
     "iopub.status.busy": "2025-01-21T19:15:06.120947Z",
     "iopub.status.idle": "2025-01-21T19:15:06.346906Z",
     "shell.execute_reply": "2025-01-21T19:15:06.346320Z"
    }
   },
   "outputs": [
    {
     "name": "stdout",
     "output_type": "stream",
     "text": [
      "(0/61) normalize_value: column: center\n",
      "(1/61) normalize_value: column: subjectID\n",
      "(2/61) normalize_value: column: uniqueID\n",
      "(3/61) normalize_value: column: bloodValuePHMin\n",
      "(4/61) normalize_value: column: bloodValuePHMinDate\n",
      "(5/61) normalize_value: column: bloodValuePHMax\n",
      "(6/61) normalize_value: column: bloodValuePHMaxDate\n",
      "(7/61) normalize_value: column: bloodValueHCO3Min_mEqPerL\n",
      "(8/61) normalize_value: column: bloodValueHCO3Min_mEqPerLDate\n",
      "(9/61) normalize_value: column: bloodValueBaseDeficitMax_mEqPerL\n",
      "(10/61) normalize_value: column: bloodValueBaseDeficitMax_mEqPerLDate\n",
      "(11/61) normalize_value: column: bloodValueSerumNaMin_mEqPerL\n",
      "(12/61) normalize_value: column: bloodValueSerumNaMin_mEqPerLDate\n",
      "(13/61) normalize_value: column: bloodValueSerumNaMax_mEqPerL\n",
      "(14/61) normalize_value: column: bloodValueSerumNaMax_mEqPerLDate\n",
      "(15/61) normalize_value: column: bloodValueSerumKMin_mEqPerL\n",
      "(16/61) normalize_value: column: bloodValueSerumKMin_mEqPerLDate\n",
      "(17/61) normalize_value: column: bloodValueSerumKMax_mEqPerL\n",
      "(18/61) normalize_value: column: bloodValueSerumKMax_mEqPerLDate\n",
      "(19/61) normalize_value: column: bloodValueClMin_mEqPerL\n",
      "(20/61) normalize_value: column: bloodValueClMin_mEqPerLDate\n",
      "(21/61) normalize_value: column: bloodValueClMax_mEqPerL\n",
      "(22/61) normalize_value: column: bloodValueClMax_mEqPerLDate\n",
      "(23/61) normalize_value: column: bloodValueBunBaseline_mgPerdL\n",
      "(24/61) normalize_value: column: bloodValueBunBaseline_mgPerdLDate\n",
      "(25/61) normalize_value: column: bloodValueBunMax_mgPerdL\n",
      "(26/61) normalize_value: column: bloodValueBunMax_mgPerdLDate\n",
      "(27/61) normalize_value: column: bloodValueCreatinineBaseline_mgPerdL\n",
      "(28/61) normalize_value: column: bloodValueCreatinineBaseline_mgPerdLDate\n",
      "(29/61) normalize_value: column: bloodValueCreatinineMax_mgPerdL\n",
      "(30/61) normalize_value: column: bloodValueCreatinineMax_mgPerdLDate\n",
      "(31/61) normalize_value: column: bloodValueGlucoseMin_mgPerdL\n",
      "(32/61) normalize_value: column: bloodValueGlucoseMin_mgPerdLDate\n",
      "(33/61) normalize_value: column: bloodValueGlucoseMax_mgPerdL\n",
      "(34/61) normalize_value: column: bloodValueGlucoseMax_mgPerdLDate\n",
      "(35/61) normalize_value: column: bloodValueTotalCaMin_mgPerdL\n",
      "(36/61) normalize_value: column: bloodValueTotalCaMin_mgPerdLDate\n",
      "(37/61) normalize_value: column: bloodValueTotalCaMax_mgPerdL\n",
      "(38/61) normalize_value: column: bloodValueTotalCaMax_mgPerdLDate\n",
      "(39/61) normalize_value: column: bloodValueIonCaMin_mgPerdL\n",
      "(40/61) normalize_value: column: bloodValueIonCaMin_mgPerdLDate\n",
      "(41/61) normalize_value: column: bloodValueIonCaMax_mgPerdL\n",
      "(42/61) normalize_value: column: bloodValueIonCaMax_mgPerdLDate\n",
      "(43/61) normalize_value: column: bloodValueASTSGOTBaseline_UPerL\n",
      "(44/61) normalize_value: column: bloodValueASTSGOTBaseline_UPerLDate\n",
      "(45/61) normalize_value: column: bloodValueASTSGOTMin_UPerL\n",
      "(46/61) normalize_value: column: bloodValueASTSGOTMin_UPerLDate\n",
      "(47/61) normalize_value: column: bloodValueASTSGOTMax_UPerL\n",
      "(48/61) normalize_value: column: bloodValueASTSGOTMax_UPerLDate\n",
      "(49/61) normalize_value: column: bloodValueALTSGPTBaseline_UPerL\n",
      "(50/61) normalize_value: column: bloodValueALTSGPTBaseline_UPerLDate\n",
      "(51/61) normalize_value: column: bloodValueALTSGPTMin_UPerL\n",
      "(52/61) normalize_value: column: bloodValueALTSGPTMin_UPerLDate\n",
      "(53/61) normalize_value: column: bloodValueALTSGPTMax_UPerL\n",
      "(54/61) normalize_value: column: bloodValueALTSGPTMax_UPerLDate\n",
      "(55/61) normalize_value: column: bloodValueTotalBilirubinBaseline_mgPerdL\n",
      "(56/61) normalize_value: column: bloodValueTotalBilirubinBaseline_mgPerdLDate\n",
      "(57/61) normalize_value: column: bloodValueTotalBilirubinMin_mgPerdL\n",
      "(58/61) normalize_value: column: bloodValueTotalBilirubinMin_mgPerdLDate\n",
      "(59/61) normalize_value: column: bloodValueTotalBilirubinMax_mgPerdL\n",
      "(60/61) normalize_value: column: bloodValueTotalBilirubinMax_mgPerdLDate\n"
     ]
    }
   ],
   "source": [
    "filename = os.sep.join([input_dir, base_filename])\n",
    "df = pd.read_csv(filename, dtype='O')\n",
    "df = COMBINE_harmonizer.normalize_value(df, _VALUE_MAP, order_map=_ORDER_MAP)\n",
    "\n",
    "out_filename = os.sep.join([out_dir, base_filename])\n",
    "df.to_csv(out_filename, index=False)"
   ]
  },
  {
   "cell_type": "markdown",
   "id": "2354548f",
   "metadata": {},
   "source": [
    "## 02-07-infection"
   ]
  },
  {
   "cell_type": "code",
   "execution_count": 83,
   "id": "d5006038",
   "metadata": {
    "execution": {
     "iopub.execute_input": "2025-01-21T19:15:06.350119Z",
     "iopub.status.busy": "2025-01-21T19:15:06.349813Z",
     "iopub.status.idle": "2025-01-21T19:15:06.352659Z",
     "shell.execute_reply": "2025-01-21T19:15:06.352223Z"
    }
   },
   "outputs": [],
   "source": [
    "_FLATTEN_IDS = ['positiveCultureNumber']\n",
    "base_filename = '02-07-infection.csv'"
   ]
  },
  {
   "cell_type": "code",
   "execution_count": 84,
   "id": "d4928279",
   "metadata": {
    "execution": {
     "iopub.execute_input": "2025-01-21T19:15:06.354921Z",
     "iopub.status.busy": "2025-01-21T19:15:06.354711Z",
     "iopub.status.idle": "2025-01-21T19:15:06.497557Z",
     "shell.execute_reply": "2025-01-21T19:15:06.496997Z"
    }
   },
   "outputs": [
    {
     "name": "stdout",
     "output_type": "stream",
     "text": [
      "(0/18) normalize_value: column: center\n",
      "(1/18) normalize_value: column: subjectID\n",
      "(2/18) normalize_value: column: uniqueID\n",
      "(3/18) normalize_value: column: positiveCultureNumber\n",
      "(4/18) normalize_value: column: positiveCultureSrc\n",
      "(5/18) normalize_value: column: positiveCultureDate\n",
      "(6/18) normalize_value: column: positiveCultureTime\n",
      "(7/18) normalize_value: column: positiveCultureOrganismCode1\n",
      "(8/18) normalize_value: column: positiveCultureOrganismCode2\n",
      "(9/18) normalize_value: column: positiveCultureOrganismCode3\n",
      "(10/18) normalize_value: column: antibiotics\n",
      "(11/18) normalize_value: column: rewarmingAntibiotics\n",
      "(12/18) normalize_value: column: antibioticsCode1\n",
      "(13/18) normalize_value: column: antibioticsCode2\n",
      "(14/18) normalize_value: column: antibioticsCode3\n",
      "(15/18) normalize_value: column: rewarmingAntibioticsCode1\n",
      "(16/18) normalize_value: column: rewarmingAntibioticsCode2\n",
      "(17/18) normalize_value: column: rewarmingAntibioticsCode3\n",
      "flatten_index: flatten_ids: ['positiveCultureNumber'] unique_id_map: {np.int64(1): np.int64(1)} the_type: int64\n"
     ]
    }
   ],
   "source": [
    "filename = os.sep.join([input_dir, base_filename])\n",
    "df = pd.read_csv(filename, dtype='O')\n",
    "df = COMBINE_harmonizer.normalize_value(df, _VALUE_MAP, _FLATTEN_IDS, order_map=_ORDER_MAP)\n",
    "\n",
    "out_filename = os.sep.join([out_dir, base_filename])\n",
    "df.to_csv(out_filename, index=False)"
   ]
  },
  {
   "cell_type": "code",
   "execution_count": 85,
   "id": "fad6bbe7",
   "metadata": {
    "execution": {
     "iopub.execute_input": "2025-01-21T19:15:06.500455Z",
     "iopub.status.busy": "2025-01-21T19:15:06.500166Z",
     "iopub.status.idle": "2025-01-21T19:15:06.507379Z",
     "shell.execute_reply": "2025-01-21T19:15:06.506973Z"
    }
   },
   "outputs": [
    {
     "name": "stdout",
     "output_type": "stream",
     "text": [
      "(0/37) center: (364/0)\n",
      "(1/37) center.orig: (364/0)\n",
      "(2/37) subjectID: (364/0)\n",
      "(3/37) subjectID.orig: (364/0)\n",
      "(4/37) uniqueID: (364/0)\n",
      "(5/37) uniqueID.orig: (364/0)\n",
      "(6/37) _flatten_index: (364/0)\n",
      "(7/37) positiveCultureNumber: (364/0)\n",
      "(8/37) positiveCultureNumber.orig: (364/0)\n",
      "(9/37) positiveCultureSrc: (364/0)\n",
      "(10/37) positiveCultureSrc.orig: (5/359)\n",
      "(11/37) positiveCultureDate: (364/0)\n",
      "(12/37) positiveCultureDate.orig: (5/359)\n",
      "(13/37) positiveCultureTime: (364/0)\n",
      "(14/37) positiveCultureTime.orig: (5/359)\n",
      "(15/37) positiveCultureOrganismCode1: (364/0)\n",
      "(16/37) positiveCultureOrganismCode1.orig: (5/359)\n",
      "(17/37) positiveCultureOrganismCode2: (364/0)\n",
      "(18/37) positiveCultureOrganismCode2.orig: (0/364)\n",
      "(19/37) positiveCultureOrganismCode3: (364/0)\n",
      "(20/37) positiveCultureOrganismCode3.orig: (0/364)\n",
      "(21/37) antibiotics: (364/0)\n",
      "(22/37) antibiotics.orig: (364/0)\n",
      "(23/37) antibioticsCode1: (364/0)\n",
      "(24/37) antibioticsCode1.orig: (152/212)\n",
      "(25/37) antibioticsCode2: (364/0)\n",
      "(26/37) antibioticsCode2.orig: (88/276)\n",
      "(27/37) antibioticsCode3: (364/0)\n",
      "(28/37) antibioticsCode3.orig: (14/350)\n",
      "(29/37) rewarmingAntibiotics: (364/0)\n",
      "(30/37) rewarmingAntibiotics.orig: (364/0)\n",
      "(31/37) rewarmingAntibioticsCode1: (364/0)\n",
      "(32/37) rewarmingAntibioticsCode1.orig: (16/348)\n",
      "(33/37) rewarmingAntibioticsCode2: (364/0)\n",
      "(34/37) rewarmingAntibioticsCode2.orig: (5/359)\n",
      "(35/37) rewarmingAntibioticsCode3: (364/0)\n",
      "(36/37) rewarmingAntibioticsCode3.orig: (0/364)\n"
     ]
    }
   ],
   "source": [
    "COMBINE_harmonizer.column_info(df)"
   ]
  },
  {
   "cell_type": "markdown",
   "id": "f946ac35",
   "metadata": {},
   "source": [
    "## 02-08-other-med"
   ]
  },
  {
   "cell_type": "code",
   "execution_count": 86,
   "id": "27e3f41d",
   "metadata": {
    "execution": {
     "iopub.execute_input": "2025-01-21T19:15:06.509762Z",
     "iopub.status.busy": "2025-01-21T19:15:06.509556Z",
     "iopub.status.idle": "2025-01-21T19:15:06.511911Z",
     "shell.execute_reply": "2025-01-21T19:15:06.511496Z"
    }
   },
   "outputs": [],
   "source": [
    "_FLATTEN_IDS = ['otherMedTimeSlot']\n",
    "base_filename = '02-08-other-med.csv'"
   ]
  },
  {
   "cell_type": "code",
   "execution_count": 87,
   "id": "9c3a6788",
   "metadata": {
    "execution": {
     "iopub.execute_input": "2025-01-21T19:15:06.514000Z",
     "iopub.status.busy": "2025-01-21T19:15:06.513829Z",
     "iopub.status.idle": "2025-01-21T19:15:06.618276Z",
     "shell.execute_reply": "2025-01-21T19:15:06.618024Z"
    }
   },
   "outputs": [
    {
     "name": "stdout",
     "output_type": "stream",
     "text": [
      "(0/18) normalize_value: column: center\n",
      "(1/18) normalize_value: column: subjectID\n",
      "(2/18) normalize_value: column: uniqueID\n",
      "(3/18) normalize_value: column: otherMedTimeSlot\n",
      "(4/18) normalize_value: column: anticonvulsants1\n",
      "(5/18) normalize_value: column: anticonvulsants2\n",
      "(6/18) normalize_value: column: anticonvulsants3\n",
      "(7/18) normalize_value: column: analgesicsSedatives1\n",
      "(8/18) normalize_value: column: analgesicsSedatives2\n",
      "(9/18) normalize_value: column: analgesicsSedatives3\n",
      "(10/18) normalize_value: column: antipyretics1\n",
      "(11/18) normalize_value: column: antipyretics2\n",
      "(12/18) normalize_value: column: antipyretics3\n",
      "(13/18) normalize_value: column: paralytics1\n",
      "(14/18) normalize_value: column: paralytics2\n",
      "(15/18) normalize_value: column: paralytics3\n",
      "(16/18) normalize_value: column: otherMedFluidIntake_ccPerKg\n",
      "(17/18) normalize_value: column: otherMedUrineOutput_ccPerKg\n",
      "flatten_index: flatten_ids: ['otherMedTimeSlot'] unique_id_map: {np.int64(1): np.int64(1), np.int64(24): np.int64(24), np.int64(48): np.int64(48), np.int64(72): np.int64(72), np.int64(96): np.int64(96), np.int64(120): np.int64(120), np.int64(144): np.int64(144), np.int64(168): np.int64(168), np.int64(192): np.int64(192), np.int64(216): np.int64(216)} the_type: int64\n"
     ]
    }
   ],
   "source": [
    "filename = os.sep.join([input_dir, base_filename])\n",
    "df = pd.read_csv(filename, dtype='O')\n",
    "df = COMBINE_harmonizer.normalize_value(df, _VALUE_MAP, _FLATTEN_IDS, order_map=_ORDER_MAP)"
   ]
  },
  {
   "cell_type": "code",
   "execution_count": 88,
   "id": "5bb43bb6",
   "metadata": {
    "execution": {
     "iopub.execute_input": "2025-01-21T19:15:06.619403Z",
     "iopub.status.busy": "2025-01-21T19:15:06.619327Z",
     "iopub.status.idle": "2025-01-21T19:15:06.621605Z",
     "shell.execute_reply": "2025-01-21T19:15:06.621389Z"
    }
   },
   "outputs": [
    {
     "name": "stdout",
     "output_type": "stream",
     "text": [
      "_flatten_index: ([  0  24  48  72  96 120 144 168 192 216] / int64)\n"
     ]
    }
   ],
   "source": [
    "# XXX hack for _flatten_index: 1 as 0\n",
    "is_flatten_index_1 = df[COMBINE_harmonizer.FLATTEN_INDEX] == 1\n",
    "df.loc[is_flatten_index_1, COMBINE_harmonizer.FLATTEN_INDEX] = 0\n",
    "\n",
    "print(f\"_flatten_index: ({df[COMBINE_harmonizer.FLATTEN_INDEX].unique()} / {df[COMBINE_harmonizer.FLATTEN_INDEX].dtype})\")"
   ]
  },
  {
   "cell_type": "code",
   "execution_count": 89,
   "id": "a021c1f3",
   "metadata": {
    "execution": {
     "iopub.execute_input": "2025-01-21T19:15:06.622725Z",
     "iopub.status.busy": "2025-01-21T19:15:06.622651Z",
     "iopub.status.idle": "2025-01-21T19:15:06.720106Z",
     "shell.execute_reply": "2025-01-21T19:15:06.719761Z"
    }
   },
   "outputs": [],
   "source": [
    "out_filename = os.sep.join([out_dir, base_filename])\n",
    "df.to_csv(out_filename, index=False)"
   ]
  },
  {
   "cell_type": "code",
   "execution_count": 90,
   "id": "e0ba3bab",
   "metadata": {
    "execution": {
     "iopub.execute_input": "2025-01-21T19:15:06.721708Z",
     "iopub.status.busy": "2025-01-21T19:15:06.721608Z",
     "iopub.status.idle": "2025-01-21T19:15:06.726656Z",
     "shell.execute_reply": "2025-01-21T19:15:06.726401Z"
    }
   },
   "outputs": [
    {
     "name": "stdout",
     "output_type": "stream",
     "text": [
      "(0/37) center: (1979/0)\n",
      "(1/37) center.orig: (1979/0)\n",
      "(2/37) subjectID: (1979/0)\n",
      "(3/37) subjectID.orig: (1979/0)\n",
      "(4/37) uniqueID: (1979/0)\n",
      "(5/37) uniqueID.orig: (1979/0)\n",
      "(6/37) _flatten_index: (1979/0)\n",
      "(7/37) otherMedTimeSlot: (1979/0)\n",
      "(8/37) otherMedTimeSlot.orig: (1979/0)\n",
      "(9/37) anticonvulsants1: (1979/0)\n",
      "(10/37) anticonvulsants1.orig: (628/1351)\n",
      "(11/37) anticonvulsants2: (1979/0)\n",
      "(12/37) anticonvulsants2.orig: (106/1873)\n",
      "(13/37) anticonvulsants3: (1979/0)\n",
      "(14/37) anticonvulsants3.orig: (12/1967)\n",
      "(15/37) analgesicsSedatives1: (1979/0)\n",
      "(16/37) analgesicsSedatives1.orig: (852/1127)\n",
      "(17/37) analgesicsSedatives2: (1979/0)\n",
      "(18/37) analgesicsSedatives2.orig: (279/1700)\n",
      "(19/37) analgesicsSedatives3: (1979/0)\n",
      "(20/37) analgesicsSedatives3.orig: (20/1959)\n",
      "(21/37) antipyretics1: (1979/0)\n",
      "(22/37) antipyretics1.orig: (9/1970)\n",
      "(23/37) antipyretics2: (1979/0)\n",
      "(24/37) antipyretics2.orig: (0/1979)\n",
      "(25/37) antipyretics3: (1979/0)\n",
      "(26/37) antipyretics3.orig: (0/1979)\n",
      "(27/37) paralytics1: (1979/0)\n",
      "(28/37) paralytics1.orig: (64/1915)\n",
      "(29/37) paralytics2: (1979/0)\n",
      "(30/37) paralytics2.orig: (1/1978)\n",
      "(31/37) paralytics3: (1979/0)\n",
      "(32/37) paralytics3.orig: (0/1979)\n",
      "(33/37) otherMedFluidIntake_ccPerKg: (1979/0)\n",
      "(34/37) otherMedFluidIntake_ccPerKg.orig: (1606/373)\n",
      "(35/37) otherMedUrineOutput_ccPerKg: (1979/0)\n",
      "(36/37) otherMedUrineOutput_ccPerKg.orig: (1603/376)\n"
     ]
    }
   ],
   "source": [
    "COMBINE_harmonizer.column_info(df)"
   ]
  },
  {
   "cell_type": "markdown",
   "id": "d39c84ea",
   "metadata": {},
   "source": [
    "## 02-09-imaging"
   ]
  },
  {
   "cell_type": "code",
   "execution_count": 91,
   "id": "538ae535",
   "metadata": {
    "execution": {
     "iopub.execute_input": "2025-01-21T19:15:06.727993Z",
     "iopub.status.busy": "2025-01-21T19:15:06.727886Z",
     "iopub.status.idle": "2025-01-21T19:15:06.729652Z",
     "shell.execute_reply": "2025-01-21T19:15:06.729410Z"
    }
   },
   "outputs": [],
   "source": [
    "_FLATTEN_IDS = ['imagingTimeSlot']\n",
    "base_filename = '02-09-imaging.csv'"
   ]
  },
  {
   "cell_type": "code",
   "execution_count": 92,
   "id": "ae908163",
   "metadata": {
    "execution": {
     "iopub.execute_input": "2025-01-21T19:15:06.730919Z",
     "iopub.status.busy": "2025-01-21T19:15:06.730829Z",
     "iopub.status.idle": "2025-01-21T19:15:06.792178Z",
     "shell.execute_reply": "2025-01-21T19:15:06.791932Z"
    }
   },
   "outputs": [
    {
     "name": "stdout",
     "output_type": "stream",
     "text": [
      "(0/40) normalize_value: column: center\n",
      "(1/40) normalize_value: column: subjectID\n",
      "(2/40) normalize_value: column: uniqueID\n",
      "(3/40) normalize_value: column: headSonogram\n",
      "(4/40) normalize_value: column: headSonogramResultText\n",
      "(5/40) normalize_value: column: headCT\n",
      "(6/40) normalize_value: column: headCTResultText\n",
      "(7/40) normalize_value: column: brainMRI\n",
      "(8/40) normalize_value: column: brainMRIResultText\n",
      "(9/40) normalize_value: column: imagingTimeSlot\n",
      "(10/40) normalize_value: column: headSonogramDate\n",
      "(11/40) normalize_value: column: headSonogramTime\n",
      "(12/40) normalize_value: column: headSonogramResult1\n",
      "(13/40) normalize_value: column: headSonogramResult2\n",
      "(14/40) normalize_value: column: headSonogramResult3\n",
      "(15/40) normalize_value: column: headSonogramResult4\n",
      "(16/40) normalize_value: column: headSonogramResult5\n",
      "(17/40) normalize_value: column: headSonogramResult6\n",
      "(18/40) normalize_value: column: headSonogramResult7\n",
      "(19/40) normalize_value: column: headSonogramResult8\n",
      "(20/40) normalize_value: column: headCTDate\n",
      "(21/40) normalize_value: column: headCTTime\n",
      "(22/40) normalize_value: column: headCTResult1\n",
      "(23/40) normalize_value: column: headCTResult2\n",
      "(24/40) normalize_value: column: headCTResult3\n",
      "(25/40) normalize_value: column: headCTResult4\n",
      "(26/40) normalize_value: column: headCTResult5\n",
      "(27/40) normalize_value: column: headCTResult6\n",
      "(28/40) normalize_value: column: headCTResult7\n",
      "(29/40) normalize_value: column: headCTResult8\n",
      "(30/40) normalize_value: column: brainMRIDate\n",
      "(31/40) normalize_value: column: brainMRITime\n",
      "(32/40) normalize_value: column: brainMRIResult1\n",
      "(33/40) normalize_value: column: brainMRIResult2\n",
      "(34/40) normalize_value: column: brainMRIResult3\n",
      "(35/40) normalize_value: column: brainMRIResult4\n",
      "(36/40) normalize_value: column: brainMRIResult5\n",
      "(37/40) normalize_value: column: brainMRIResult6\n",
      "(38/40) normalize_value: column: brainMRIResult7\n",
      "(39/40) normalize_value: column: brainMRIResult8\n"
     ]
    },
    {
     "name": "stdout",
     "output_type": "stream",
     "text": [
      "flatten_index: flatten_ids: ['imagingTimeSlot'] unique_id_map: {np.int64(2): np.int64(2)} the_type: int64\n"
     ]
    }
   ],
   "source": [
    "filename = os.sep.join([input_dir, base_filename])\n",
    "df = pd.read_csv(filename, dtype='O')\n",
    "df = COMBINE_harmonizer.normalize_value(df, _VALUE_MAP, _FLATTEN_IDS, order_map=_ORDER_MAP)"
   ]
  },
  {
   "cell_type": "code",
   "execution_count": 93,
   "id": "66403831",
   "metadata": {
    "execution": {
     "iopub.execute_input": "2025-01-21T19:15:06.793430Z",
     "iopub.status.busy": "2025-01-21T19:15:06.793339Z",
     "iopub.status.idle": "2025-01-21T19:15:06.795795Z",
     "shell.execute_reply": "2025-01-21T19:15:06.795572Z"
    }
   },
   "outputs": [
    {
     "name": "stdout",
     "output_type": "stream",
     "text": [
      "_flatten_index: ([1] / int64)\n"
     ]
    }
   ],
   "source": [
    "# XXX hack for _flatten_index: 2 as 1\n",
    "is_flatten_index_2 = df[COMBINE_harmonizer.FLATTEN_INDEX] == 2\n",
    "df.loc[is_flatten_index_2, COMBINE_harmonizer.FLATTEN_INDEX] = 1\n",
    "\n",
    "print(f\"_flatten_index: ({df[COMBINE_harmonizer.FLATTEN_INDEX].unique()} / {df[COMBINE_harmonizer.FLATTEN_INDEX].dtype})\")"
   ]
  },
  {
   "cell_type": "code",
   "execution_count": 94,
   "id": "4142ca9a",
   "metadata": {
    "execution": {
     "iopub.execute_input": "2025-01-21T19:15:06.797012Z",
     "iopub.status.busy": "2025-01-21T19:15:06.796932Z",
     "iopub.status.idle": "2025-01-21T19:15:06.853827Z",
     "shell.execute_reply": "2025-01-21T19:15:06.853467Z"
    }
   },
   "outputs": [],
   "source": [
    "out_filename = os.sep.join([out_dir, base_filename])\n",
    "df.to_csv(out_filename, index=False)"
   ]
  },
  {
   "cell_type": "code",
   "execution_count": 95,
   "id": "df1b33de",
   "metadata": {
    "execution": {
     "iopub.execute_input": "2025-01-21T19:15:06.855375Z",
     "iopub.status.busy": "2025-01-21T19:15:06.855260Z",
     "iopub.status.idle": "2025-01-21T19:15:06.862131Z",
     "shell.execute_reply": "2025-01-21T19:15:06.861830Z"
    }
   },
   "outputs": [
    {
     "name": "stdout",
     "output_type": "stream",
     "text": [
      "(0/81) center: (357/0)\n",
      "(1/81) center.orig: (357/0)\n",
      "(2/81) subjectID: (357/0)\n",
      "(3/81) subjectID.orig: (357/0)\n",
      "(4/81) uniqueID: (357/0)\n",
      "(5/81) uniqueID.orig: (357/0)\n",
      "(6/81) _flatten_index: (357/0)\n",
      "(7/81) imagingTimeSlot: (357/0)\n",
      "(8/81) imagingTimeSlot.orig: (357/0)\n",
      "(9/81) headSonogram: (357/0)\n",
      "(10/81) headSonogram.orig: (357/0)\n",
      "(11/81) headSonogramDate: (357/0)\n",
      "(12/81) headSonogramDate.orig: (176/181)\n",
      "(13/81) headSonogramTime: (357/0)\n",
      "(14/81) headSonogramTime.orig: (174/183)\n",
      "(15/81) headSonogramResult1: (357/0)\n",
      "(16/81) headSonogramResult1.orig: (174/183)\n",
      "(17/81) headSonogramResult2: (357/0)\n",
      "(18/81) headSonogramResult2.orig: (25/332)\n",
      "(19/81) headSonogramResult3: (357/0)\n",
      "(20/81) headSonogramResult3.orig: (3/354)\n",
      "(21/81) headSonogramResult4: (357/0)\n",
      "(22/81) headSonogramResult4.orig: (0/357)\n",
      "(23/81) headSonogramResult5: (357/0)\n",
      "(24/81) headSonogramResult5.orig: (0/357)\n",
      "(25/81) headSonogramResult6: (357/0)\n",
      "(26/81) headSonogramResult6.orig: (0/357)\n",
      "(27/81) headSonogramResult7: (357/0)\n",
      "(28/81) headSonogramResult7.orig: (0/357)\n",
      "(29/81) headSonogramResult8: (357/0)\n",
      "(30/81) headSonogramResult8.orig: (0/357)\n",
      "(31/81) headSonogramResultText: (357/0)\n",
      "(32/81) headSonogramResultText.orig: (23/334)\n",
      "(33/81) headCT: (357/0)\n",
      "(34/81) headCT.orig: (357/0)\n",
      "(35/81) headCTDate: (357/0)\n",
      "(36/81) headCTDate.orig: (2/355)\n",
      "(37/81) headCTTime: (357/0)\n",
      "(38/81) headCTTime.orig: (2/355)\n",
      "(39/81) headCTResult1: (357/0)\n",
      "(40/81) headCTResult1.orig: (2/355)\n",
      "(41/81) headCTResult2: (357/0)\n",
      "(42/81) headCTResult2.orig: (0/357)\n",
      "(43/81) headCTResult3: (357/0)\n",
      "(44/81) headCTResult3.orig: (0/357)\n",
      "(45/81) headCTResult4: (357/0)\n",
      "(46/81) headCTResult4.orig: (0/357)\n",
      "(47/81) headCTResult5: (357/0)\n",
      "(48/81) headCTResult5.orig: (0/357)\n",
      "(49/81) headCTResult6: (357/0)\n",
      "(50/81) headCTResult6.orig: (0/357)\n",
      "(51/81) headCTResult7: (357/0)\n",
      "(52/81) headCTResult7.orig: (0/357)\n",
      "(53/81) headCTResult8: (357/0)\n",
      "(54/81) headCTResult8.orig: (0/357)\n",
      "(55/81) headCTResultText: (357/0)\n",
      "(56/81) headCTResultText.orig: (0/357)\n",
      "(57/81) brainMRI: (357/0)\n",
      "(58/81) brainMRI.orig: (357/0)\n",
      "(59/81) brainMRIDate: (357/0)\n",
      "(60/81) brainMRIDate.orig: (1/356)\n",
      "(61/81) brainMRITime: (357/0)\n",
      "(62/81) brainMRITime.orig: (1/356)\n",
      "(63/81) brainMRIResult1: (357/0)\n",
      "(64/81) brainMRIResult1.orig: (1/356)\n",
      "(65/81) brainMRIResult2: (357/0)\n",
      "(66/81) brainMRIResult2.orig: (1/356)\n",
      "(67/81) brainMRIResult3: (357/0)\n",
      "(68/81) brainMRIResult3.orig: (1/356)\n",
      "(69/81) brainMRIResult4: (357/0)\n",
      "(70/81) brainMRIResult4.orig: (1/356)\n",
      "(71/81) brainMRIResult5: (357/0)\n",
      "(72/81) brainMRIResult5.orig: (0/357)\n",
      "(73/81) brainMRIResult6: (357/0)\n",
      "(74/81) brainMRIResult6.orig: (0/357)\n",
      "(75/81) brainMRIResult7: (357/0)\n",
      "(76/81) brainMRIResult7.orig: (0/357)\n",
      "(77/81) brainMRIResult8: (357/0)\n",
      "(78/81) brainMRIResult8.orig: (0/357)\n",
      "(79/81) brainMRIResultText: (357/0)\n",
      "(80/81) brainMRIResultText.orig: (0/357)\n"
     ]
    }
   ],
   "source": [
    "COMBINE_harmonizer.column_info(df)"
   ]
  },
  {
   "cell_type": "markdown",
   "id": "6c5ef658",
   "metadata": {},
   "source": [
    "## 03-01-post-normo-temperature"
   ]
  },
  {
   "cell_type": "code",
   "execution_count": 96,
   "id": "91e72293",
   "metadata": {
    "execution": {
     "iopub.execute_input": "2025-01-21T19:15:06.863671Z",
     "iopub.status.busy": "2025-01-21T19:15:06.863564Z",
     "iopub.status.idle": "2025-01-21T19:15:06.865558Z",
     "shell.execute_reply": "2025-01-21T19:15:06.865286Z"
    }
   },
   "outputs": [],
   "source": [
    "_FLATTEN_IDS = ['post_TemperatureTimeSlot']\n",
    "base_filename = '03-01-post-temperature.csv'"
   ]
  },
  {
   "cell_type": "code",
   "execution_count": 97,
   "id": "916206b7",
   "metadata": {
    "execution": {
     "iopub.execute_input": "2025-01-21T19:15:06.866925Z",
     "iopub.status.busy": "2025-01-21T19:15:06.866829Z",
     "iopub.status.idle": "2025-01-21T19:15:07.031858Z",
     "shell.execute_reply": "2025-01-21T19:15:07.031598Z"
    }
   },
   "outputs": [
    {
     "name": "stdout",
     "output_type": "stream",
     "text": [
      "(0/10) normalize_value: column: center\n",
      "(1/10) normalize_value: column: subjectID\n",
      "(2/10) normalize_value: column: uniqueID\n",
      "(3/10) normalize_value: column: post_AlterationSkinIntegrity\n",
      "(4/10) normalize_value: column: post_Shiver\n",
      "(5/10) normalize_value: column: post_TemperatureTimeSlot\n",
      "(6/10) normalize_value: column: post_TemperatureDate\n",
      "(7/10) normalize_value: column: post_TemperatureTime\n",
      "(8/10) normalize_value: column: post_SkinTemperature_C\n",
      "(9/10) normalize_value: column: post_AxillaryTemperature_C\n",
      "flatten_index: flatten_ids: ['post_TemperatureTimeSlot'] unique_id_map: {np.int64(4): np.int64(4), np.int64(5): np.int64(5), np.int64(6): np.int64(6), np.int64(7): np.int64(7), np.int64(8): np.int64(8), np.int64(9): np.int64(9), np.int64(10): np.int64(10)} the_type: int64\n"
     ]
    }
   ],
   "source": [
    "filename = os.sep.join([input_dir, base_filename])\n",
    "df = pd.read_csv(filename, dtype='O')\n",
    "df = COMBINE_harmonizer.normalize_value(df, _VALUE_MAP, _FLATTEN_IDS, order_map=_ORDER_MAP)\n",
    "\n",
    "out_filename = os.sep.join([out_dir, base_filename])\n",
    "df.to_csv(out_filename, index=False)"
   ]
  },
  {
   "cell_type": "code",
   "execution_count": 98,
   "id": "afef9aac",
   "metadata": {
    "execution": {
     "iopub.execute_input": "2025-01-21T19:15:07.033253Z",
     "iopub.status.busy": "2025-01-21T19:15:07.033145Z",
     "iopub.status.idle": "2025-01-21T19:15:07.183920Z",
     "shell.execute_reply": "2025-01-21T19:15:07.183595Z"
    }
   },
   "outputs": [
    {
     "name": "stdout",
     "output_type": "stream",
     "text": [
      "(0/10) normalize_value: column: center\n",
      "(1/10) normalize_value: column: subjectID\n",
      "(2/10) normalize_value: column: uniqueID\n",
      "(3/10) normalize_value: column: post_AlterationSkinIntegrity\n",
      "(4/10) normalize_value: column: post_Shiver\n",
      "(5/10) normalize_value: column: post_TemperatureTimeSlot\n",
      "(6/10) normalize_value: column: post_TemperatureDate\n",
      "(7/10) normalize_value: column: post_TemperatureTime\n",
      "(8/10) normalize_value: column: post_SkinTemperature_C\n",
      "(9/10) normalize_value: column: post_AxillaryTemperature_C\n",
      "flatten_index: flatten_ids: ['post_TemperatureTimeSlot'] unique_id_map: {np.int64(4): np.int64(4), np.int64(5): np.int64(5), np.int64(6): np.int64(6), np.int64(7): np.int64(7), np.int64(8): np.int64(8), np.int64(9): np.int64(9), np.int64(10): np.int64(10)} the_type: int64\n"
     ]
    }
   ],
   "source": [
    "filename = os.sep.join([input_dir, base_filename])\n",
    "df = pd.read_csv(filename, dtype='O')\n",
    "df = COMBINE_harmonizer.normalize_value(df, _VALUE_MAP, _FLATTEN_IDS, order_map=_ORDER_MAP)\n",
    "\n",
    "out_filename = os.sep.join([out_dir, base_filename])\n",
    "df.to_csv(out_filename, index=False)"
   ]
  },
  {
   "cell_type": "code",
   "execution_count": 99,
   "id": "b087e518",
   "metadata": {
    "execution": {
     "iopub.execute_input": "2025-01-21T19:15:07.185568Z",
     "iopub.status.busy": "2025-01-21T19:15:07.185462Z",
     "iopub.status.idle": "2025-01-21T19:15:07.189598Z",
     "shell.execute_reply": "2025-01-21T19:15:07.189329Z"
    }
   },
   "outputs": [
    {
     "name": "stdout",
     "output_type": "stream",
     "text": [
      "(0/21) center: (1883/0)\n",
      "(1/21) center.orig: (1883/0)\n",
      "(2/21) subjectID: (1883/0)\n",
      "(3/21) subjectID.orig: (1883/0)\n",
      "(4/21) uniqueID: (1883/0)\n",
      "(5/21) uniqueID.orig: (1883/0)\n",
      "(6/21) _flatten_index: (1883/0)\n",
      "(7/21) post_TemperatureTimeSlot: (1883/0)\n",
      "(8/21) post_TemperatureTimeSlot.orig: (1883/0)\n",
      "(9/21) post_TemperatureDate: (1883/0)\n",
      "(10/21) post_TemperatureDate.orig: (1847/36)\n",
      "(11/21) post_TemperatureTime: (1883/0)\n",
      "(12/21) post_TemperatureTime.orig: (1835/48)\n",
      "(13/21) post_SkinTemperature_C: (1883/0)\n",
      "(14/21) post_SkinTemperature_C.orig: (850/1033)\n",
      "(15/21) post_AxillaryTemperature_C: (1883/0)\n",
      "(16/21) post_AxillaryTemperature_C.orig: (1739/144)\n",
      "(17/21) post_AlterationSkinIntegrity: (1883/0)\n",
      "(18/21) post_AlterationSkinIntegrity.orig: (1847/36)\n",
      "(19/21) post_Shiver: (1883/0)\n",
      "(20/21) post_Shiver.orig: (1847/36)\n"
     ]
    }
   ],
   "source": [
    "COMBINE_harmonizer.column_info(df)"
   ]
  },
  {
   "cell_type": "markdown",
   "id": "793c0f76",
   "metadata": {},
   "source": [
    "## 03-01_s-post-temperature"
   ]
  },
  {
   "cell_type": "markdown",
   "id": "6f9aeb48",
   "metadata": {},
   "source": []
  },
  {
   "cell_type": "code",
   "execution_count": 100,
   "id": "4a69b3bc",
   "metadata": {
    "execution": {
     "iopub.execute_input": "2025-01-21T19:15:07.191097Z",
     "iopub.status.busy": "2025-01-21T19:15:07.191002Z",
     "iopub.status.idle": "2025-01-21T19:15:07.192684Z",
     "shell.execute_reply": "2025-01-21T19:15:07.192404Z"
    }
   },
   "outputs": [],
   "source": [
    "base_filename = '03-01_s-post-temperature.csv'"
   ]
  },
  {
   "cell_type": "code",
   "execution_count": 101,
   "id": "65e3ee46",
   "metadata": {
    "execution": {
     "iopub.execute_input": "2025-01-21T19:15:07.194019Z",
     "iopub.status.busy": "2025-01-21T19:15:07.193929Z",
     "iopub.status.idle": "2025-01-21T19:15:07.293873Z",
     "shell.execute_reply": "2025-01-21T19:15:07.293424Z"
    }
   },
   "outputs": [
    {
     "name": "stdout",
     "output_type": "stream",
     "text": [
      "(0/10) normalize_value: column: center\n",
      "(1/10) normalize_value: column: subjectID\n",
      "(2/10) normalize_value: column: uniqueID\n",
      "(3/10) normalize_value: column: normothermiaAtEndIntervention\n",
      "(4/10) normalize_value: column: noNormothermiaReason\n",
      "(5/10) normalize_value: column: coolAfterInterventionText\n",
      "(6/10) normalize_value: column: normothermiaDate\n",
      "(7/10) normalize_value: column: normothermiaTime\n",
      "(8/10) normalize_value: column: normothermiaAxillaryTemperature_C\n",
      "(9/10) normalize_value: column: coolAfterIntervention\n"
     ]
    }
   ],
   "source": [
    "filename = os.sep.join([input_dir, base_filename])\n",
    "df = pd.read_csv(filename, dtype='O')\n",
    "df = COMBINE_harmonizer.normalize_value(df, _VALUE_MAP, order_map=_ORDER_MAP)\n",
    "\n",
    "out_filename = os.sep.join([out_dir, base_filename])\n",
    "df.to_csv(out_filename, index=False)"
   ]
  },
  {
   "cell_type": "code",
   "execution_count": 102,
   "id": "bb7fa9cc-0549-4891-9aa7-d323b48a7a1b",
   "metadata": {
    "execution": {
     "iopub.execute_input": "2025-01-21T19:15:07.296018Z",
     "iopub.status.busy": "2025-01-21T19:15:07.295804Z",
     "iopub.status.idle": "2025-01-21T19:15:07.301075Z",
     "shell.execute_reply": "2025-01-21T19:15:07.300657Z"
    }
   },
   "outputs": [
    {
     "name": "stdout",
     "output_type": "stream",
     "text": [
      "(0/20) center: (364/0)\n",
      "(1/20) center.orig: (364/0)\n",
      "(2/20) subjectID: (364/0)\n",
      "(3/20) subjectID.orig: (364/0)\n",
      "(4/20) uniqueID: (364/0)\n",
      "(5/20) uniqueID.orig: (364/0)\n",
      "(6/20) normothermiaAtEndIntervention: (364/0)\n",
      "(7/20) normothermiaAtEndIntervention.orig: (364/0)\n",
      "(8/20) normothermiaDate: (364/0)\n",
      "(9/20) normothermiaDate.orig: (313/51)\n",
      "(10/20) normothermiaTime: (364/0)\n",
      "(11/20) normothermiaTime.orig: (313/51)\n",
      "(12/20) normothermiaAxillaryTemperature_C: (364/0)\n",
      "(13/20) normothermiaAxillaryTemperature_C.orig: (268/96)\n",
      "(14/20) noNormothermiaReason: (364/0)\n",
      "(15/20) noNormothermiaReason.orig: (50/314)\n",
      "(16/20) coolAfterIntervention: (364/0)\n",
      "(17/20) coolAfterIntervention.orig: (55/309)\n",
      "(18/20) coolAfterInterventionText: (364/0)\n",
      "(19/20) coolAfterInterventionText.orig: (25/339)\n"
     ]
    }
   ],
   "source": [
    "COMBINE_harmonizer.column_info(df)"
   ]
  },
  {
   "cell_type": "markdown",
   "id": "dd6e2499",
   "metadata": {},
   "source": [
    "## 03-02-post-blood-value"
   ]
  },
  {
   "cell_type": "code",
   "execution_count": 103,
   "id": "e235c0bf",
   "metadata": {
    "execution": {
     "iopub.execute_input": "2025-01-21T19:15:07.303318Z",
     "iopub.status.busy": "2025-01-21T19:15:07.303126Z",
     "iopub.status.idle": "2025-01-21T19:15:07.305498Z",
     "shell.execute_reply": "2025-01-21T19:15:07.305097Z"
    }
   },
   "outputs": [],
   "source": [
    "base_filename = '03-02-post-blood-value.csv'"
   ]
  },
  {
   "cell_type": "code",
   "execution_count": 104,
   "id": "b92d8c97",
   "metadata": {
    "execution": {
     "iopub.execute_input": "2025-01-21T19:15:07.307309Z",
     "iopub.status.busy": "2025-01-21T19:15:07.307127Z",
     "iopub.status.idle": "2025-01-21T19:15:07.429379Z",
     "shell.execute_reply": "2025-01-21T19:15:07.428327Z"
    }
   },
   "outputs": [
    {
     "name": "stdout",
     "output_type": "stream",
     "text": [
      "(0/9) normalize_value: column: center\n",
      "(1/9) normalize_value: column: subjectID\n",
      "(2/9) normalize_value: column: uniqueID\n",
      "(3/9) normalize_value: column: post_BloodValueASTSGOT_UPerL\n",
      "(4/9) normalize_value: column: post_BloodValueASTSGOT_UPerLDate\n",
      "(5/9) normalize_value: column: post_BloodValueALTSGPT_UPerL\n",
      "(6/9) normalize_value: column: post_BloodValueALTSGPT_UPerLDate\n",
      "(7/9) normalize_value: column: post_BloodValueTotalBilirubin_mgPerdL\n",
      "(8/9) normalize_value: column: post_BloodValueTotalBilirubin_mgPerdLDate\n"
     ]
    }
   ],
   "source": [
    "filename = os.sep.join([input_dir, base_filename])\n",
    "df = pd.read_csv(filename, dtype='O')\n",
    "df = COMBINE_harmonizer.normalize_value(df, _VALUE_MAP, order_map=_ORDER_MAP)\n",
    "\n",
    "out_filename = os.sep.join([out_dir, base_filename])\n",
    "df.to_csv(out_filename, index=False)"
   ]
  },
  {
   "cell_type": "code",
   "execution_count": 105,
   "id": "bf9d9640",
   "metadata": {
    "execution": {
     "iopub.execute_input": "2025-01-21T19:15:07.436203Z",
     "iopub.status.busy": "2025-01-21T19:15:07.435660Z",
     "iopub.status.idle": "2025-01-21T19:15:07.446455Z",
     "shell.execute_reply": "2025-01-21T19:15:07.445916Z"
    }
   },
   "outputs": [
    {
     "name": "stdout",
     "output_type": "stream",
     "text": [
      "(0/18) center: (364/0)\n",
      "(1/18) center.orig: (364/0)\n",
      "(2/18) subjectID: (364/0)\n",
      "(3/18) subjectID.orig: (364/0)\n",
      "(4/18) uniqueID: (364/0)\n",
      "(5/18) uniqueID.orig: (364/0)\n",
      "(6/18) post_BloodValueASTSGOT_UPerL: (364/0)\n",
      "(7/18) post_BloodValueASTSGOT_UPerL.orig: (272/92)\n",
      "(8/18) post_BloodValueASTSGOT_UPerLDate: (364/0)\n",
      "(9/18) post_BloodValueASTSGOT_UPerLDate.orig: (275/89)\n",
      "(10/18) post_BloodValueALTSGPT_UPerL: (364/0)\n",
      "(11/18) post_BloodValueALTSGPT_UPerL.orig: (278/86)\n",
      "(12/18) post_BloodValueALTSGPT_UPerLDate: (364/0)\n",
      "(13/18) post_BloodValueALTSGPT_UPerLDate.orig: (281/83)\n",
      "(14/18) post_BloodValueTotalBilirubin_mgPerdL: (364/0)\n",
      "(15/18) post_BloodValueTotalBilirubin_mgPerdL.orig: (281/83)\n",
      "(16/18) post_BloodValueTotalBilirubin_mgPerdLDate: (364/0)\n",
      "(17/18) post_BloodValueTotalBilirubin_mgPerdLDate.orig: (283/81)\n"
     ]
    }
   ],
   "source": [
    "COMBINE_harmonizer.column_info(df)\n"
   ]
  },
  {
   "cell_type": "markdown",
   "id": "1c25db66",
   "metadata": {},
   "source": [
    "## 03-03-post-imaging"
   ]
  },
  {
   "cell_type": "code",
   "execution_count": 106,
   "id": "098832cb",
   "metadata": {
    "execution": {
     "iopub.execute_input": "2025-01-21T19:15:07.449236Z",
     "iopub.status.busy": "2025-01-21T19:15:07.448975Z",
     "iopub.status.idle": "2025-01-21T19:15:07.451932Z",
     "shell.execute_reply": "2025-01-21T19:15:07.451392Z"
    }
   },
   "outputs": [],
   "source": [
    "base_filename = '03-03-post-imaging.csv'"
   ]
  },
  {
   "cell_type": "code",
   "execution_count": 107,
   "id": "2c39a597",
   "metadata": {
    "execution": {
     "iopub.execute_input": "2025-01-21T19:15:07.454426Z",
     "iopub.status.busy": "2025-01-21T19:15:07.454195Z",
     "iopub.status.idle": "2025-01-21T19:15:07.609757Z",
     "shell.execute_reply": "2025-01-21T19:15:07.608911Z"
    }
   },
   "outputs": [
    {
     "name": "stdout",
     "output_type": "stream",
     "text": [
      "(0/39) normalize_value: column: center\n",
      "(1/39) normalize_value: column: subjectID\n",
      "(2/39) normalize_value: column: uniqueID\n",
      "(3/39) normalize_value: column: post_HeadSonogram\n",
      "(4/39) normalize_value: column: post_HeadSonogramResultText\n",
      "(5/39) normalize_value: column: post_HeadCT\n",
      "(6/39) normalize_value: column: post_HeadCTResultText\n",
      "(7/39) normalize_value: column: post_BrainMRI\n",
      "(8/39) normalize_value: column: post_BrainMRIResultText\n",
      "(9/39) normalize_value: column: post_HeadSonogramDate\n",
      "(10/39) normalize_value: column: post_HeadSonogramTime\n",
      "(11/39) normalize_value: column: post_HeadSonogramResult1\n",
      "(12/39) normalize_value: column: post_HeadSonogramResult2\n",
      "(13/39) normalize_value: column: post_HeadSonogramResult3\n",
      "(14/39) normalize_value: column: post_HeadSonogramResult4\n",
      "(15/39) normalize_value: column: post_HeadSonogramResult5\n",
      "(16/39) normalize_value: column: post_HeadSonogramResult6\n",
      "(17/39) normalize_value: column: post_HeadSonogramResult7\n",
      "(18/39) normalize_value: column: post_HeadSonogramResult8\n",
      "(19/39) normalize_value: column: post_HeadCTDate\n",
      "(20/39) normalize_value: column: post_HeadCTTime\n",
      "(21/39) normalize_value: column: post_HeadCTResult1\n",
      "(22/39) normalize_value: column: post_HeadCTResult2\n",
      "(23/39) normalize_value: column: post_HeadCTResult3\n",
      "(24/39) normalize_value: column: post_HeadCTResult4\n",
      "(25/39) normalize_value: column: post_HeadCTResult5\n",
      "(26/39) normalize_value: column: post_HeadCTResult6\n",
      "(27/39) normalize_value: column: post_HeadCTResult7\n",
      "(28/39) normalize_value: column: post_HeadCTResult8\n",
      "(29/39) normalize_value: column: post_BrainMRIDate\n",
      "(30/39) normalize_value: column: post_BrainMRITime\n",
      "(31/39) normalize_value: column: post_BrainMRIResult1\n",
      "(32/39) normalize_value: column: post_BrainMRIResult2\n",
      "(33/39) normalize_value: column: post_BrainMRIResult3\n",
      "(34/39) normalize_value: column: post_BrainMRIResult4\n",
      "(35/39) normalize_value: column: post_BrainMRIResult5\n",
      "(36/39) normalize_value: column: post_BrainMRIResult6\n",
      "(37/39) normalize_value: column: post_BrainMRIResult7\n",
      "(38/39) normalize_value: column: post_BrainMRIResult8\n"
     ]
    }
   ],
   "source": [
    "filename = os.sep.join([input_dir, base_filename])\n",
    "df = pd.read_csv(filename, dtype='O')\n",
    "df = COMBINE_harmonizer.normalize_value(df, _VALUE_MAP, order_map=_ORDER_MAP)\n",
    "\n",
    "out_filename = os.sep.join([out_dir, base_filename])\n",
    "df.to_csv(out_filename, index=False)"
   ]
  },
  {
   "cell_type": "code",
   "execution_count": 108,
   "id": "cdd1e9c5",
   "metadata": {
    "execution": {
     "iopub.execute_input": "2025-01-21T19:15:07.616646Z",
     "iopub.status.busy": "2025-01-21T19:15:07.616240Z",
     "iopub.status.idle": "2025-01-21T19:15:07.630440Z",
     "shell.execute_reply": "2025-01-21T19:15:07.629922Z"
    }
   },
   "outputs": [
    {
     "name": "stdout",
     "output_type": "stream",
     "text": [
      "(0/78) center: (361/0)\n",
      "(1/78) center.orig: (361/0)\n",
      "(2/78) subjectID: (361/0)\n",
      "(3/78) subjectID.orig: (361/0)\n",
      "(4/78) uniqueID: (361/0)\n",
      "(5/78) uniqueID.orig: (361/0)\n",
      "(6/78) post_HeadSonogram: (361/0)\n",
      "(7/78) post_HeadSonogram.orig: (361/0)\n",
      "(8/78) post_HeadSonogramDate: (361/0)\n",
      "(9/78) post_HeadSonogramDate.orig: (148/213)\n",
      "(10/78) post_HeadSonogramTime: (361/0)\n",
      "(11/78) post_HeadSonogramTime.orig: (146/215)\n",
      "(12/78) post_HeadSonogramResult1: (361/0)\n",
      "(13/78) post_HeadSonogramResult1.orig: (147/214)\n",
      "(14/78) post_HeadSonogramResult2: (361/0)\n",
      "(15/78) post_HeadSonogramResult2.orig: (21/340)\n",
      "(16/78) post_HeadSonogramResult3: (361/0)\n",
      "(17/78) post_HeadSonogramResult3.orig: (8/353)\n",
      "(18/78) post_HeadSonogramResult4: (361/0)\n",
      "(19/78) post_HeadSonogramResult4.orig: (2/359)\n",
      "(20/78) post_HeadSonogramResult5: (361/0)\n",
      "(21/78) post_HeadSonogramResult5.orig: (0/361)\n",
      "(22/78) post_HeadSonogramResult6: (361/0)\n",
      "(23/78) post_HeadSonogramResult6.orig: (0/361)\n",
      "(24/78) post_HeadSonogramResult7: (361/0)\n",
      "(25/78) post_HeadSonogramResult7.orig: (0/361)\n",
      "(26/78) post_HeadSonogramResult8: (361/0)\n",
      "(27/78) post_HeadSonogramResult8.orig: (0/361)\n",
      "(28/78) post_HeadSonogramResultText: (361/0)\n",
      "(29/78) post_HeadSonogramResultText.orig: (14/347)\n",
      "(30/78) post_HeadCT: (361/0)\n",
      "(31/78) post_HeadCT.orig: (361/0)\n",
      "(32/78) post_HeadCTDate: (361/0)\n",
      "(33/78) post_HeadCTDate.orig: (2/359)\n",
      "(34/78) post_HeadCTTime: (361/0)\n",
      "(35/78) post_HeadCTTime.orig: (2/359)\n",
      "(36/78) post_HeadCTResult1: (361/0)\n",
      "(37/78) post_HeadCTResult1.orig: (2/359)\n",
      "(38/78) post_HeadCTResult2: (361/0)\n",
      "(39/78) post_HeadCTResult2.orig: (2/359)\n",
      "(40/78) post_HeadCTResult3: (361/0)\n",
      "(41/78) post_HeadCTResult3.orig: (1/360)\n",
      "(42/78) post_HeadCTResult4: (361/0)\n",
      "(43/78) post_HeadCTResult4.orig: (0/361)\n",
      "(44/78) post_HeadCTResult5: (361/0)\n",
      "(45/78) post_HeadCTResult5.orig: (0/361)\n",
      "(46/78) post_HeadCTResult6: (361/0)\n",
      "(47/78) post_HeadCTResult6.orig: (0/361)\n",
      "(48/78) post_HeadCTResult7: (361/0)\n",
      "(49/78) post_HeadCTResult7.orig: (0/361)\n",
      "(50/78) post_HeadCTResult8: (361/0)\n",
      "(51/78) post_HeadCTResult8.orig: (0/361)\n",
      "(52/78) post_HeadCTResultText: (361/0)\n",
      "(53/78) post_HeadCTResultText.orig: (1/360)\n",
      "(54/78) post_BrainMRI: (361/0)\n",
      "(55/78) post_BrainMRI.orig: (361/0)\n",
      "(56/78) post_BrainMRIDate: (361/0)\n",
      "(57/78) post_BrainMRIDate.orig: (321/40)\n",
      "(58/78) post_BrainMRITime: (361/0)\n",
      "(59/78) post_BrainMRITime.orig: (320/41)\n",
      "(60/78) post_BrainMRIResult1: (361/0)\n",
      "(61/78) post_BrainMRIResult1.orig: (321/40)\n",
      "(62/78) post_BrainMRIResult2: (361/0)\n",
      "(63/78) post_BrainMRIResult2.orig: (134/227)\n",
      "(64/78) post_BrainMRIResult3: (361/0)\n",
      "(65/78) post_BrainMRIResult3.orig: (78/283)\n",
      "(66/78) post_BrainMRIResult4: (361/0)\n",
      "(67/78) post_BrainMRIResult4.orig: (45/316)\n",
      "(68/78) post_BrainMRIResult5: (361/0)\n",
      "(69/78) post_BrainMRIResult5.orig: (15/346)\n",
      "(70/78) post_BrainMRIResult6: (361/0)\n",
      "(71/78) post_BrainMRIResult6.orig: (4/357)\n",
      "(72/78) post_BrainMRIResult7: (361/0)\n",
      "(73/78) post_BrainMRIResult7.orig: (2/359)\n",
      "(74/78) post_BrainMRIResult8: (361/0)\n",
      "(75/78) post_BrainMRIResult8.orig: (1/360)\n",
      "(76/78) post_BrainMRIResultText: (361/0)\n",
      "(77/78) post_BrainMRIResultText.orig: (83/278)\n"
     ]
    }
   ],
   "source": [
    "COMBINE_harmonizer.column_info(df)\n"
   ]
  },
  {
   "cell_type": "markdown",
   "id": "31d8e395",
   "metadata": {},
   "source": [
    "## 03-04-post-normo-neuro-exam"
   ]
  },
  {
   "cell_type": "code",
   "execution_count": 109,
   "id": "0ebcd2d6",
   "metadata": {
    "execution": {
     "iopub.execute_input": "2025-01-21T19:15:07.633011Z",
     "iopub.status.busy": "2025-01-21T19:15:07.632783Z",
     "iopub.status.idle": "2025-01-21T19:15:07.635228Z",
     "shell.execute_reply": "2025-01-21T19:15:07.634795Z"
    }
   },
   "outputs": [],
   "source": [
    "base_filename = '03-04-post-neuro-exam.csv'"
   ]
  },
  {
   "cell_type": "code",
   "execution_count": 110,
   "id": "99ac01f0",
   "metadata": {
    "execution": {
     "iopub.execute_input": "2025-01-21T19:15:07.637472Z",
     "iopub.status.busy": "2025-01-21T19:15:07.637267Z",
     "iopub.status.idle": "2025-01-21T19:15:07.764457Z",
     "shell.execute_reply": "2025-01-21T19:15:07.763085Z"
    }
   },
   "outputs": [
    {
     "name": "stdout",
     "output_type": "stream",
     "text": [
      "(0/21) normalize_value: column: center\n",
      "(1/21) normalize_value: column: subjectID\n",
      "(2/21) normalize_value: column: uniqueID\n",
      "(3/21) normalize_value: column: post_NeuroExamTone\n",
      "[WARN] unable to float: val (**/<class 'str'>) e: could not convert string to float: '**'\n",
      "[WARN] unable to get value: sheet_name: signOfHIETone value: ** value_float: ** value_int: **\n",
      "(4/21) normalize_value: column: post_NeuroExamRespiration\n",
      "[WARN] unable to float: val (**/<class 'str'>) e: could not convert string to float: '**'\n",
      "[WARN] unable to get value: sheet_name: signOfHIERespiratory value: ** value_float: ** value_int: **\n",
      "(5/21) normalize_value: column: post_NeuroExamSeizure\n",
      "(6/21) normalize_value: column: post_NeuroExamSedate\n",
      "(7/21) normalize_value: column: post_NeuroExamClonusSustained\n",
      "(8/21) normalize_value: column: post_NeuroExamFistedHand\n",
      "(9/21) normalize_value: column: post_NeuroExamAbnormalMovement\n",
      "(10/21) normalize_value: column: post_NeuroExamGagReflexAbsent\n",
      "(11/21) normalize_value: column: post_NeuroExamAsymTonicNeckReflex\n",
      "(12/21) normalize_value: column: post_NeuroExamDate\n",
      "(13/21) normalize_value: column: post_NeuroExamTime\n",
      "(14/21) normalize_value: column: post_NeuroExamLevelConsciousness\n",
      "(15/21) normalize_value: column: post_NeuroExamSpontaneousActivity\n",
      "(16/21) normalize_value: column: post_NeuroExamPosture\n",
      "(17/21) normalize_value: column: post_NeuroExamSuck\n",
      "(18/21) normalize_value: column: post_NeuroExamMoro\n",
      "(19/21) normalize_value: column: post_NeuroExamPupils\n",
      "(20/21) normalize_value: column: post_NeuroExamHeartRate\n"
     ]
    }
   ],
   "source": [
    "filename = os.sep.join([input_dir, base_filename])\n",
    "df = pd.read_csv(filename, dtype='O')\n",
    "df = COMBINE_harmonizer.normalize_value(df, _VALUE_MAP, order_map=_ORDER_MAP)\n",
    "\n",
    "out_filename = os.sep.join([out_dir, base_filename])\n",
    "df.to_csv(out_filename, index=False)"
   ]
  },
  {
   "cell_type": "code",
   "execution_count": 111,
   "id": "1ce4ff23",
   "metadata": {
    "execution": {
     "iopub.execute_input": "2025-01-21T19:15:07.768434Z",
     "iopub.status.busy": "2025-01-21T19:15:07.768117Z",
     "iopub.status.idle": "2025-01-21T19:15:07.776158Z",
     "shell.execute_reply": "2025-01-21T19:15:07.775734Z"
    }
   },
   "outputs": [
    {
     "name": "stdout",
     "output_type": "stream",
     "text": [
      "(0/42) center: (364/0)\n",
      "(1/42) center.orig: (364/0)\n",
      "(2/42) subjectID: (364/0)\n",
      "(3/42) subjectID.orig: (364/0)\n",
      "(4/42) uniqueID: (364/0)\n",
      "(5/42) uniqueID.orig: (364/0)\n",
      "(6/42) post_NeuroExamDate: (364/0)\n",
      "(7/42) post_NeuroExamDate.orig: (308/56)\n",
      "(8/42) post_NeuroExamTime: (364/0)\n",
      "(9/42) post_NeuroExamTime.orig: (307/57)\n",
      "(10/42) post_NeuroExamLevelConsciousness: (364/0)\n",
      "(11/42) post_NeuroExamLevelConsciousness.orig: (308/56)\n",
      "(12/42) post_NeuroExamSpontaneousActivity: (364/0)\n",
      "(13/42) post_NeuroExamSpontaneousActivity.orig: (308/56)\n",
      "(14/42) post_NeuroExamPosture: (364/0)\n",
      "(15/42) post_NeuroExamPosture.orig: (307/57)\n",
      "(16/42) post_NeuroExamTone: (364/0)\n",
      "(17/42) post_NeuroExamTone.orig: (308/56)\n",
      "(18/42) post_NeuroExamSuck: (364/0)\n",
      "(19/42) post_NeuroExamSuck.orig: (306/58)\n",
      "(20/42) post_NeuroExamMoro: (364/0)\n",
      "(21/42) post_NeuroExamMoro.orig: (289/75)\n",
      "(22/42) post_NeuroExamPupils: (364/0)\n",
      "(23/42) post_NeuroExamPupils.orig: (290/74)\n",
      "(24/42) post_NeuroExamHeartRate: (364/0)\n",
      "(25/42) post_NeuroExamHeartRate.orig: (306/58)\n",
      "(26/42) post_NeuroExamRespiration: (364/0)\n",
      "(27/42) post_NeuroExamRespiration.orig: (308/56)\n",
      "(28/42) post_NeuroExamSeizure: (364/0)\n",
      "(29/42) post_NeuroExamSeizure.orig: (308/56)\n",
      "(30/42) post_NeuroExamSedate: (364/0)\n",
      "(31/42) post_NeuroExamSedate.orig: (308/56)\n",
      "(32/42) post_NeuroExamClonusSustained: (364/0)\n",
      "(33/42) post_NeuroExamClonusSustained.orig: (308/56)\n",
      "(34/42) post_NeuroExamFistedHand: (364/0)\n",
      "(35/42) post_NeuroExamFistedHand.orig: (308/56)\n",
      "(36/42) post_NeuroExamAbnormalMovement: (364/0)\n",
      "(37/42) post_NeuroExamAbnormalMovement.orig: (308/56)\n",
      "(38/42) post_NeuroExamGagReflexAbsent: (364/0)\n",
      "(39/42) post_NeuroExamGagReflexAbsent.orig: (308/56)\n",
      "(40/42) post_NeuroExamAsymTonicNeckReflex: (364/0)\n",
      "(41/42) post_NeuroExamAsymTonicNeckReflex.orig: (0/364)\n"
     ]
    }
   ],
   "source": [
    "COMBINE_harmonizer.column_info(df)"
   ]
  },
  {
   "cell_type": "markdown",
   "id": "cac786da",
   "metadata": {},
   "source": [
    "## 03-05-mri"
   ]
  },
  {
   "cell_type": "code",
   "execution_count": 112,
   "id": "c276558c",
   "metadata": {
    "execution": {
     "iopub.execute_input": "2025-01-21T19:15:07.778570Z",
     "iopub.status.busy": "2025-01-21T19:15:07.778361Z",
     "iopub.status.idle": "2025-01-21T19:15:07.780739Z",
     "shell.execute_reply": "2025-01-21T19:15:07.780317Z"
    }
   },
   "outputs": [],
   "source": [
    "_FLATTEN_IDS = ['MRIReader']\n",
    "base_filename = '03-05-mri.csv'"
   ]
  },
  {
   "cell_type": "code",
   "execution_count": 113,
   "id": "9fb87f08",
   "metadata": {
    "execution": {
     "iopub.execute_input": "2025-01-21T19:15:07.782765Z",
     "iopub.status.busy": "2025-01-21T19:15:07.782589Z",
     "iopub.status.idle": "2025-01-21T19:15:07.945576Z",
     "shell.execute_reply": "2025-01-21T19:15:07.945358Z"
    }
   },
   "outputs": [
    {
     "name": "stdout",
     "output_type": "stream",
     "text": [
      "(0/77) normalize_value: column: center\n",
      "(1/77) normalize_value: column: subjectID\n",
      "(2/77) normalize_value: column: uniqueID\n",
      "(3/77) normalize_value: column: MRIIncrement\n",
      "(4/77) normalize_value: column: MRIReader\n",
      "(5/77) normalize_value: column: MRIReadDate\n",
      "(6/77) normalize_value: column: MRIDate\n",
      "(7/77) normalize_value: column: MRIStrength_T\n",
      "(8/77) normalize_value: column: MRIAdequateQuality\n",
      "(9/77) normalize_value: column: MRIAdequateQuality_c\n",
      "(10/77) normalize_value: column: MRIT1Axial\n",
      "(11/77) normalize_value: column: MRIT1Coronal\n",
      "(12/77) normalize_value: column: MRIT1Sagittal\n",
      "(13/77) normalize_value: column: MRIT1\n",
      "(14/77) normalize_value: column: MRIT2Axial\n",
      "(15/77) normalize_value: column: MRIT2Coronal\n",
      "(16/77) normalize_value: column: MRIT2Sagittal\n",
      "(17/77) normalize_value: column: MRIT2\n",
      "(18/77) normalize_value: column: MRIT2FLAIRAxial\n",
      "(19/77) normalize_value: column: MRIT2FLAIRCoronal\n",
      "(20/77) normalize_value: column: MRIT2FLAIRSagittal\n",
      "(21/77) normalize_value: column: MRIT2FLAIR\n",
      "(22/77) normalize_value: column: MRIGRESWIAxial\n",
      "(23/77) normalize_value: column: MRIGRESWICoronal\n",
      "(24/77) normalize_value: column: MRIGRESWISagittal\n",
      "(25/77) normalize_value: column: MRIGRESWI\n",
      "(26/77) normalize_value: column: MRISPGRAxial\n",
      "(27/77) normalize_value: column: MRISPGRCoronal\n",
      "(28/77) normalize_value: column: MRISPGRSagittal\n",
      "(29/77) normalize_value: column: MRISPGR\n",
      "(30/77) normalize_value: column: MRIDWI\n",
      "(31/77) normalize_value: column: MRIDWI_c\n",
      "(32/77) normalize_value: column: MRIADC\n",
      "(33/77) normalize_value: column: MRIADC_c\n",
      "(34/77) normalize_value: column: MRIOther\n",
      "(35/77) normalize_value: column: MRIOther_c\n",
      "(36/77) normalize_value: column: MRIOtherText\n",
      "(37/77) normalize_value: column: MRIOverallDiagnosis\n",
      "[WARN] unable to get value: sheet_name: MRIOverallDiagnosis value: - value_float:  value_int: \n",
      "[WARN] unable to get value: sheet_name: MRIOverallDiagnosis value: - value_float:  value_int: \n",
      "[WARN] unable to get value: sheet_name: MRIOverallDiagnosis value: - value_float:  value_int: \n",
      "[WARN] unable to get value: sheet_name: MRIOverallDiagnosis value: - value_float:  value_int: \n",
      "[WARN] unable to get value: sheet_name: MRIOverallDiagnosis value: - value_float:  value_int: \n",
      "[WARN] unable to get value: sheet_name: MRIOverallDiagnosis value: - value_float:  value_int: \n",
      "[WARN] unable to get value: sheet_name: MRIOverallDiagnosis value: - value_float:  value_int: \n",
      "[WARN] unable to get value: sheet_name: MRIOverallDiagnosis value: - value_float:  value_int: \n",
      "[WARN] unable to get value: sheet_name: MRIOverallDiagnosis value: - value_float:  value_int: \n",
      "[WARN] unable to get value: sheet_name: MRIOverallDiagnosis value: - value_float:  value_int: \n",
      "[WARN] unable to get value: sheet_name: MRIOverallDiagnosis value: - value_float:  value_int: \n",
      "[WARN] unable to get value: sheet_name: MRIOverallDiagnosis value: - value_float:  value_int: \n",
      "[WARN] unable to get value: sheet_name: MRIOverallDiagnosis value: - value_float:  value_int: \n",
      "[WARN] unable to get value: sheet_name: MRIOverallDiagnosis value: - value_float:  value_int: \n",
      "[WARN] unable to get value: sheet_name: MRIOverallDiagnosis value: - value_float:  value_int: \n",
      "[WARN] unable to get value: sheet_name: MRIOverallDiagnosis value: - value_float:  value_int: \n",
      "[WARN] unable to get value: sheet_name: MRIOverallDiagnosis value: - value_float:  value_int: \n",
      "[WARN] unable to get value: sheet_name: MRIOverallDiagnosis value: - value_float:  value_int: \n",
      "[WARN] unable to get value: sheet_name: MRIOverallDiagnosis value: - value_float:  value_int: \n",
      "[WARN] unable to get value: sheet_name: MRIOverallDiagnosis value: - value_float:  value_int: \n",
      "[WARN] unable to get value: sheet_name: MRIOverallDiagnosis value: - value_float:  value_int: \n",
      "[WARN] unable to get value: sheet_name: MRIOverallDiagnosis value: - value_float:  value_int: \n",
      "[WARN] unable to get value: sheet_name: MRIOverallDiagnosis value: - value_float:  value_int: \n",
      "[WARN] unable to get value: sheet_name: MRIOverallDiagnosis value: - value_float:  value_int: \n",
      "[WARN] unable to get value: sheet_name: MRIOverallDiagnosis value: - value_float:  value_int: \n",
      "[WARN] unable to get value: sheet_name: MRIOverallDiagnosis value: - value_float:  value_int: \n",
      "[WARN] unable to get value: sheet_name: MRIOverallDiagnosis value: - value_float:  value_int: \n",
      "[WARN] unable to get value: sheet_name: MRIOverallDiagnosis value: - value_float:  value_int: \n",
      "[WARN] unable to get value: sheet_name: MRIOverallDiagnosis value: - value_float:  value_int: \n",
      "[WARN] unable to get value: sheet_name: MRIOverallDiagnosis value: - value_float:  value_int: \n",
      "[WARN] unable to get value: sheet_name: MRIOverallDiagnosis value: - value_float:  value_int: \n",
      "[WARN] unable to get value: sheet_name: MRIOverallDiagnosis value: - value_float:  value_int: \n",
      "[WARN] unable to get value: sheet_name: MRIOverallDiagnosis value: - value_float:  value_int: \n",
      "[WARN] unable to get value: sheet_name: MRIOverallDiagnosis value: - value_float:  value_int: \n",
      "[WARN] unable to get value: sheet_name: MRIOverallDiagnosis value: - value_float:  value_int: \n",
      "[WARN] unable to get value: sheet_name: MRIOverallDiagnosis value: - value_float:  value_int: \n",
      "[WARN] unable to get value: sheet_name: MRIOverallDiagnosis value: - value_float:  value_int: \n",
      "[WARN] unable to get value: sheet_name: MRIOverallDiagnosis value: - value_float:  value_int: \n",
      "[WARN] unable to get value: sheet_name: MRIOverallDiagnosis value: - value_float:  value_int: \n",
      "[WARN] unable to get value: sheet_name: MRIOverallDiagnosis value: - value_float:  value_int: \n",
      "[WARN] unable to get value: sheet_name: MRIOverallDiagnosis value: - value_float:  value_int: \n",
      "[WARN] unable to get value: sheet_name: MRIOverallDiagnosis value: - value_float:  value_int: \n",
      "[WARN] unable to get value: sheet_name: MRIOverallDiagnosis value: - value_float:  value_int: \n",
      "[WARN] unable to get value: sheet_name: MRIOverallDiagnosis value: - value_float:  value_int: \n",
      "[WARN] unable to get value: sheet_name: MRIOverallDiagnosis value: - value_float:  value_int: \n",
      "[WARN] unable to get value: sheet_name: MRIOverallDiagnosis value: - value_float:  value_int: \n",
      "[WARN] unable to get value: sheet_name: MRIOverallDiagnosis value: - value_float:  value_int: \n",
      "[WARN] unable to get value: sheet_name: MRIOverallDiagnosis value: - value_float:  value_int: \n",
      "[WARN] unable to get value: sheet_name: MRIOverallDiagnosis value: - value_float:  value_int: \n",
      "[WARN] unable to get value: sheet_name: MRIOverallDiagnosis value: - value_float:  value_int: \n",
      "[WARN] unable to get value: sheet_name: MRIOverallDiagnosis value: - value_float:  value_int: \n",
      "[WARN] unable to get value: sheet_name: MRIOverallDiagnosis value: - value_float:  value_int: \n",
      "[WARN] unable to get value: sheet_name: MRIOverallDiagnosis value: - value_float:  value_int: \n",
      "[WARN] unable to get value: sheet_name: MRIOverallDiagnosis value: - value_float:  value_int: \n",
      "[WARN] unable to get value: sheet_name: MRIOverallDiagnosis value: - value_float:  value_int: \n",
      "[WARN] unable to get value: sheet_name: MRIOverallDiagnosis value: - value_float:  value_int: \n",
      "[WARN] unable to get value: sheet_name: MRIOverallDiagnosis value: - value_float:  value_int: \n",
      "[WARN] unable to get value: sheet_name: MRIOverallDiagnosis value: - value_float:  value_int: \n",
      "[WARN] unable to get value: sheet_name: MRIOverallDiagnosis value: - value_float:  value_int: \n",
      "[WARN] unable to get value: sheet_name: MRIOverallDiagnosis value: - value_float:  value_int: \n",
      "[WARN] unable to get value: sheet_name: MRIOverallDiagnosis value: - value_float:  value_int: \n",
      "[WARN] unable to get value: sheet_name: MRIOverallDiagnosis value: - value_float:  value_int: \n",
      "[WARN] unable to get value: sheet_name: MRIOverallDiagnosis value: - value_float:  value_int: \n",
      "[WARN] unable to get value: sheet_name: MRIOverallDiagnosis value: - value_float:  value_int: \n",
      "[WARN] unable to get value: sheet_name: MRIOverallDiagnosis value: - value_float:  value_int: \n",
      "[WARN] unable to get value: sheet_name: MRIOverallDiagnosis value: - value_float:  value_int: \n",
      "[WARN] unable to get value: sheet_name: MRIOverallDiagnosis value: - value_float:  value_int: \n",
      "[WARN] unable to get value: sheet_name: MRIOverallDiagnosis value: - value_float:  value_int: \n",
      "[WARN] unable to get value: sheet_name: MRIOverallDiagnosis value: - value_float:  value_int: \n",
      "[WARN] unable to get value: sheet_name: MRIOverallDiagnosis value: - value_float:  value_int: \n",
      "[WARN] unable to get value: sheet_name: MRIOverallDiagnosis value: - value_float:  value_int: \n",
      "[WARN] unable to get value: sheet_name: MRIOverallDiagnosis value: - value_float:  value_int: \n",
      "[WARN] unable to get value: sheet_name: MRIOverallDiagnosis value: - value_float:  value_int: \n",
      "[WARN] unable to get value: sheet_name: MRIOverallDiagnosis value: - value_float:  value_int: \n",
      "[WARN] unable to get value: sheet_name: MRIOverallDiagnosis value: - value_float:  value_int: \n",
      "[WARN] unable to get value: sheet_name: MRIOverallDiagnosis value: - value_float:  value_int: \n",
      "[WARN] unable to get value: sheet_name: MRIOverallDiagnosis value: - value_float:  value_int: \n",
      "[WARN] unable to get value: sheet_name: MRIOverallDiagnosis value: - value_float:  value_int: \n",
      "[WARN] unable to get value: sheet_name: MRIOverallDiagnosis value: - value_float:  value_int: \n",
      "[WARN] unable to get value: sheet_name: MRIOverallDiagnosis value: - value_float:  value_int: \n",
      "[WARN] unable to get value: sheet_name: MRIOverallDiagnosis value: - value_float:  value_int: \n",
      "[WARN] unable to get value: sheet_name: MRIOverallDiagnosis value: - value_float:  value_int: \n",
      "[WARN] unable to get value: sheet_name: MRIOverallDiagnosis value: - value_float:  value_int: \n",
      "[WARN] unable to get value: sheet_name: MRIOverallDiagnosis value: - value_float:  value_int: \n",
      "[WARN] unable to get value: sheet_name: MRIOverallDiagnosis value: - value_float:  value_int: \n",
      "[WARN] unable to get value: sheet_name: MRIOverallDiagnosis value: - value_float:  value_int: \n",
      "[WARN] unable to get value: sheet_name: MRIOverallDiagnosis value: - value_float:  value_int: \n",
      "[WARN] unable to get value: sheet_name: MRIOverallDiagnosis value: - value_float:  value_int: \n",
      "(38/77) normalize_value: column: MRIOverallDiagnosis_c\n",
      "(39/77) normalize_value: column: MRIAbnormal\n",
      "(40/77) normalize_value: column: MRIAbnormal_c\n",
      "(41/77) normalize_value: column: MRIMRS\n",
      "(42/77) normalize_value: column: MRIMRS_c\n",
      "(43/77) normalize_value: column: MRICerebralAtrophy\n",
      "(44/77) normalize_value: column: MRICerebralAtrophy_c\n",
      "(45/77) normalize_value: column: MRICerebralAtrophyRegion\n",
      "(46/77) normalize_value: column: MRICerebralAtrophyQualAssessCC\n",
      "[WARN] unable to get value: sheet_name: MRISeverity value: - value_float:  value_int: \n",
      "[WARN] unable to get value: sheet_name: MRISeverity value: - value_float:  value_int: \n",
      "[WARN] unable to get value: sheet_name: MRISeverity value: - value_float:  value_int: \n",
      "[WARN] unable to get value: sheet_name: MRISeverity value: - value_float:  value_int: \n",
      "[WARN] unable to get value: sheet_name: MRISeverity value: - value_float:  value_int: \n",
      "[WARN] unable to get value: sheet_name: MRISeverity value: - value_float:  value_int: \n",
      "[WARN] unable to get value: sheet_name: MRISeverity value: - value_float:  value_int: \n",
      "[WARN] unable to get value: sheet_name: MRISeverity value: - value_float:  value_int: \n",
      "[WARN] unable to get value: sheet_name: MRISeverity value: - value_float:  value_int: \n",
      "[WARN] unable to get value: sheet_name: MRISeverity value: - value_float:  value_int: \n",
      "[WARN] unable to get value: sheet_name: MRISeverity value: - value_float:  value_int: \n",
      "[WARN] unable to get value: sheet_name: MRISeverity value: - value_float:  value_int: \n",
      "[WARN] unable to get value: sheet_name: MRISeverity value: - value_float:  value_int: \n",
      "[WARN] unable to get value: sheet_name: MRISeverity value: - value_float:  value_int: \n",
      "[WARN] unable to get value: sheet_name: MRISeverity value: - value_float:  value_int: \n",
      "[WARN] unable to get value: sheet_name: MRISeverity value: - value_float:  value_int: \n",
      "[WARN] unable to get value: sheet_name: MRISeverity value: - value_float:  value_int: \n",
      "[WARN] unable to get value: sheet_name: MRISeverity value: - value_float:  value_int: \n",
      "[WARN] unable to get value: sheet_name: MRISeverity value: - value_float:  value_int: \n",
      "[WARN] unable to get value: sheet_name: MRISeverity value: - value_float:  value_int: \n",
      "(47/77) normalize_value: column: MRICerebralAtrophyQualAssessCC_c\n",
      "(48/77) normalize_value: column: MRICerebralAtrophyQualAssessVDLeft\n",
      "[WARN] unable to get value: sheet_name: MRISeverity value: - value_float:  value_int: \n",
      "[WARN] unable to get value: sheet_name: MRISeverity value: - value_float:  value_int: \n",
      "[WARN] unable to get value: sheet_name: MRISeverity value: - value_float:  value_int: \n",
      "[WARN] unable to get value: sheet_name: MRISeverity value: - value_float:  value_int: \n",
      "[WARN] unable to get value: sheet_name: MRISeverity value: - value_float:  value_int: \n",
      "[WARN] unable to get value: sheet_name: MRISeverity value: - value_float:  value_int: \n",
      "[WARN] unable to get value: sheet_name: MRISeverity value: - value_float:  value_int: \n",
      "[WARN] unable to get value: sheet_name: MRISeverity value: - value_float:  value_int: \n",
      "[WARN] unable to get value: sheet_name: MRISeverity value: - value_float:  value_int: \n",
      "[WARN] unable to get value: sheet_name: MRISeverity value: - value_float:  value_int: \n",
      "[WARN] unable to get value: sheet_name: MRISeverity value: - value_float:  value_int: \n",
      "[WARN] unable to get value: sheet_name: MRISeverity value: - value_float:  value_int: \n",
      "[WARN] unable to get value: sheet_name: MRISeverity value: - value_float:  value_int: \n",
      "[WARN] unable to get value: sheet_name: MRISeverity value: - value_float:  value_int: \n",
      "[WARN] unable to get value: sheet_name: MRISeverity value: - value_float:  value_int: \n",
      "[WARN] unable to get value: sheet_name: MRISeverity value: - value_float:  value_int: \n",
      "[WARN] unable to get value: sheet_name: MRISeverity value: - value_float:  value_int: \n",
      "[WARN] unable to get value: sheet_name: MRISeverity value: - value_float:  value_int: \n",
      "[WARN] unable to get value: sheet_name: MRISeverity value: - value_float:  value_int: \n",
      "[WARN] unable to get value: sheet_name: MRISeverity value: - value_float:  value_int: \n",
      "(49/77) normalize_value: column: MRICerebralAtrophyQualAssessVDLeft_c\n",
      "(50/77) normalize_value: column: MRICerebralAtrophyQualAssessVDRight\n",
      "[WARN] unable to get value: sheet_name: MRISeverity value: - value_float:  value_int: \n",
      "[WARN] unable to get value: sheet_name: MRISeverity value: - value_float:  value_int: \n",
      "[WARN] unable to get value: sheet_name: MRISeverity value: - value_float:  value_int: \n",
      "[WARN] unable to get value: sheet_name: MRISeverity value: - value_float:  value_int: \n",
      "[WARN] unable to get value: sheet_name: MRISeverity value: - value_float:  value_int: \n",
      "[WARN] unable to get value: sheet_name: MRISeverity value: - value_float:  value_int: \n",
      "[WARN] unable to get value: sheet_name: MRISeverity value: - value_float:  value_int: \n",
      "[WARN] unable to get value: sheet_name: MRISeverity value: - value_float:  value_int: \n",
      "[WARN] unable to get value: sheet_name: MRISeverity value: - value_float:  value_int: \n",
      "[WARN] unable to get value: sheet_name: MRISeverity value: - value_float:  value_int: \n",
      "[WARN] unable to get value: sheet_name: MRISeverity value: - value_float:  value_int: \n",
      "[WARN] unable to get value: sheet_name: MRISeverity value: - value_float:  value_int: \n",
      "[WARN] unable to get value: sheet_name: MRISeverity value: - value_float:  value_int: \n",
      "[WARN] unable to get value: sheet_name: MRISeverity value: - value_float:  value_int: \n",
      "[WARN] unable to get value: sheet_name: MRISeverity value: - value_float:  value_int: \n",
      "[WARN] unable to get value: sheet_name: MRISeverity value: - value_float:  value_int: \n",
      "[WARN] unable to get value: sheet_name: MRISeverity value: - value_float:  value_int: \n",
      "[WARN] unable to get value: sheet_name: MRISeverity value: - value_float:  value_int: \n",
      "[WARN] unable to get value: sheet_name: MRISeverity value: - value_float:  value_int: \n",
      "[WARN] unable to get value: sheet_name: MRISeverity value: - value_float:  value_int: \n",
      "[WARN] unable to get value: sheet_name: MRISeverity value: - value_float:  value_int: \n",
      "(51/77) normalize_value: column: MRICerebralAtrophyQualAssessVDRight_c\n",
      "(52/77) normalize_value: column: MRIInfarction\n",
      "(53/77) normalize_value: column: MRIInfarction_c\n",
      "(54/77) normalize_value: column: MRIInfarctionAterialTerritoryLeft\n",
      "(55/77) normalize_value: column: MRIInfarctionAterialTerritoryRight\n",
      "(56/77) normalize_value: column: MRIMidlineShift\n",
      "(57/77) normalize_value: column: MRIMidlineShift_c\n",
      "(58/77) normalize_value: column: MRICerebralAtrophyGlobalLocal\n",
      "[WARN] unable to get value: sheet_name: MRICerebralAtrophyGlobalLocal value: - value_float:  value_int: \n",
      "[WARN] unable to get value: sheet_name: MRICerebralAtrophyGlobalLocal value: - value_float:  value_int: \n",
      "[WARN] unable to get value: sheet_name: MRICerebralAtrophyGlobalLocal value: - value_float:  value_int: \n",
      "[WARN] unable to get value: sheet_name: MRICerebralAtrophyGlobalLocal value: - value_float:  value_int: \n",
      "[WARN] unable to get value: sheet_name: MRICerebralAtrophyGlobalLocal value: - value_float:  value_int: \n",
      "[WARN] unable to get value: sheet_name: MRICerebralAtrophyGlobalLocal value: - value_float:  value_int: \n",
      "[WARN] unable to get value: sheet_name: MRICerebralAtrophyGlobalLocal value: - value_float:  value_int: \n",
      "[WARN] unable to get value: sheet_name: MRICerebralAtrophyGlobalLocal value: - value_float:  value_int: \n",
      "[WARN] unable to get value: sheet_name: MRICerebralAtrophyGlobalLocal value: - value_float:  value_int: \n",
      "[WARN] unable to get value: sheet_name: MRICerebralAtrophyGlobalLocal value: - value_float:  value_int: \n",
      "[WARN] unable to get value: sheet_name: MRICerebralAtrophyGlobalLocal value: - value_float:  value_int: \n",
      "[WARN] unable to get value: sheet_name: MRICerebralAtrophyGlobalLocal value: - value_float:  value_int: \n",
      "[WARN] unable to get value: sheet_name: MRICerebralAtrophyGlobalLocal value: - value_float:  value_int: \n",
      "[WARN] unable to get value: sheet_name: MRICerebralAtrophyGlobalLocal value: - value_float:  value_int: \n",
      "[WARN] unable to get value: sheet_name: MRICerebralAtrophyGlobalLocal value: - value_float:  value_int: \n",
      "[WARN] unable to get value: sheet_name: MRICerebralAtrophyGlobalLocal value: - value_float:  value_int: \n",
      "[WARN] unable to get value: sheet_name: MRICerebralAtrophyGlobalLocal value: - value_float:  value_int: \n",
      "[WARN] unable to get value: sheet_name: MRICerebralAtrophyGlobalLocal value: - value_float:  value_int: \n",
      "[WARN] unable to get value: sheet_name: MRICerebralAtrophyGlobalLocal value: - value_float:  value_int: \n",
      "[WARN] unable to get value: sheet_name: MRICerebralAtrophyGlobalLocal value: - value_float:  value_int: \n",
      "[WARN] unable to get value: sheet_name: MRICerebralAtrophyGlobalLocal value: - value_float:  value_int: \n",
      "[WARN] unable to get value: sheet_name: MRICerebralAtrophyGlobalLocal value: - value_float:  value_int: \n",
      "[WARN] unable to get value: sheet_name: MRICerebralAtrophyGlobalLocal value: - value_float:  value_int: \n",
      "[WARN] unable to get value: sheet_name: MRICerebralAtrophyGlobalLocal value: - value_float:  value_int: \n",
      "[WARN] unable to get value: sheet_name: MRICerebralAtrophyGlobalLocal value: - value_float:  value_int: \n",
      "[WARN] unable to get value: sheet_name: MRICerebralAtrophyGlobalLocal value: - value_float:  value_int: \n",
      "[WARN] unable to get value: sheet_name: MRICerebralAtrophyGlobalLocal value: - value_float:  value_int: \n",
      "[WARN] unable to get value: sheet_name: MRICerebralAtrophyGlobalLocal value: - value_float:  value_int: \n",
      "[WARN] unable to get value: sheet_name: MRICerebralAtrophyGlobalLocal value: - value_float:  value_int: \n",
      "[WARN] unable to get value: sheet_name: MRICerebralAtrophyGlobalLocal value: - value_float:  value_int: \n",
      "[WARN] unable to get value: sheet_name: MRICerebralAtrophyGlobalLocal value: - value_float:  value_int: \n",
      "[WARN] unable to get value: sheet_name: MRICerebralAtrophyGlobalLocal value: - value_float:  value_int: \n",
      "[WARN] unable to get value: sheet_name: MRICerebralAtrophyGlobalLocal value: - value_float:  value_int: \n",
      "[WARN] unable to get value: sheet_name: MRICerebralAtrophyGlobalLocal value: - value_float:  value_int: \n",
      "[WARN] unable to get value: sheet_name: MRICerebralAtrophyGlobalLocal value: - value_float:  value_int: \n",
      "[WARN] unable to get value: sheet_name: MRICerebralAtrophyGlobalLocal value: - value_float:  value_int: \n",
      "[WARN] unable to get value: sheet_name: MRICerebralAtrophyGlobalLocal value: - value_float:  value_int: \n",
      "[WARN] unable to get value: sheet_name: MRICerebralAtrophyGlobalLocal value: - value_float:  value_int: \n",
      "[WARN] unable to get value: sheet_name: MRICerebralAtrophyGlobalLocal value: - value_float:  value_int: \n",
      "[WARN] unable to get value: sheet_name: MRICerebralAtrophyGlobalLocal value: - value_float:  value_int: \n",
      "[WARN] unable to get value: sheet_name: MRICerebralAtrophyGlobalLocal value: - value_float:  value_int: \n",
      "[WARN] unable to get value: sheet_name: MRICerebralAtrophyGlobalLocal value: - value_float:  value_int: \n",
      "[WARN] unable to get value: sheet_name: MRICerebralAtrophyGlobalLocal value: - value_float:  value_int: \n",
      "[WARN] unable to get value: sheet_name: MRICerebralAtrophyGlobalLocal value: - value_float:  value_int: \n",
      "[WARN] unable to get value: sheet_name: MRICerebralAtrophyGlobalLocal value: - value_float:  value_int: \n",
      "[WARN] unable to get value: sheet_name: MRICerebralAtrophyGlobalLocal value: - value_float:  value_int: \n",
      "[WARN] unable to get value: sheet_name: MRICerebralAtrophyGlobalLocal value: - value_float:  value_int: \n",
      "[WARN] unable to get value: sheet_name: MRICerebralAtrophyGlobalLocal value: - value_float:  value_int: \n",
      "[WARN] unable to get value: sheet_name: MRICerebralAtrophyGlobalLocal value: - value_float:  value_int: \n",
      "[WARN] unable to get value: sheet_name: MRICerebralAtrophyGlobalLocal value: - value_float:  value_int: \n",
      "[WARN] unable to get value: sheet_name: MRICerebralAtrophyGlobalLocal value: - value_float:  value_int: \n",
      "[WARN] unable to get value: sheet_name: MRICerebralAtrophyGlobalLocal value: - value_float:  value_int: \n",
      "[WARN] unable to get value: sheet_name: MRICerebralAtrophyGlobalLocal value: - value_float:  value_int: \n",
      "[WARN] unable to get value: sheet_name: MRICerebralAtrophyGlobalLocal value: - value_float:  value_int: \n",
      "[WARN] unable to get value: sheet_name: MRICerebralAtrophyGlobalLocal value: - value_float:  value_int: \n",
      "[WARN] unable to get value: sheet_name: MRICerebralAtrophyGlobalLocal value: - value_float:  value_int: \n",
      "[WARN] unable to get value: sheet_name: MRICerebralAtrophyGlobalLocal value: - value_float:  value_int: \n",
      "[WARN] unable to get value: sheet_name: MRICerebralAtrophyGlobalLocal value: - value_float:  value_int: \n",
      "[WARN] unable to get value: sheet_name: MRICerebralAtrophyGlobalLocal value: - value_float:  value_int: \n",
      "[WARN] unable to get value: sheet_name: MRICerebralAtrophyGlobalLocal value: - value_float:  value_int: \n",
      "[WARN] unable to get value: sheet_name: MRICerebralAtrophyGlobalLocal value: - value_float:  value_int: \n",
      "[WARN] unable to get value: sheet_name: MRICerebralAtrophyGlobalLocal value: - value_float:  value_int: \n",
      "[WARN] unable to get value: sheet_name: MRICerebralAtrophyGlobalLocal value: - value_float:  value_int: \n",
      "[WARN] unable to get value: sheet_name: MRICerebralAtrophyGlobalLocal value: - value_float:  value_int: \n",
      "[WARN] unable to get value: sheet_name: MRICerebralAtrophyGlobalLocal value: - value_float:  value_int: \n",
      "[WARN] unable to get value: sheet_name: MRICerebralAtrophyGlobalLocal value: - value_float:  value_int: \n",
      "[WARN] unable to get value: sheet_name: MRICerebralAtrophyGlobalLocal value: - value_float:  value_int: \n",
      "[WARN] unable to get value: sheet_name: MRICerebralAtrophyGlobalLocal value: - value_float:  value_int: \n",
      "[WARN] unable to get value: sheet_name: MRICerebralAtrophyGlobalLocal value: - value_float:  value_int: \n",
      "[WARN] unable to get value: sheet_name: MRICerebralAtrophyGlobalLocal value: - value_float:  value_int: \n",
      "[WARN] unable to get value: sheet_name: MRICerebralAtrophyGlobalLocal value: - value_float:  value_int: \n",
      "[WARN] unable to get value: sheet_name: MRICerebralAtrophyGlobalLocal value: - value_float:  value_int: \n",
      "[WARN] unable to get value: sheet_name: MRICerebralAtrophyGlobalLocal value: - value_float:  value_int: \n",
      "[WARN] unable to get value: sheet_name: MRICerebralAtrophyGlobalLocal value: - value_float:  value_int: \n",
      "[WARN] unable to get value: sheet_name: MRICerebralAtrophyGlobalLocal value: - value_float:  value_int: \n",
      "[WARN] unable to get value: sheet_name: MRICerebralAtrophyGlobalLocal value: - value_float:  value_int: \n",
      "[WARN] unable to get value: sheet_name: MRICerebralAtrophyGlobalLocal value: - value_float:  value_int: \n",
      "[WARN] unable to get value: sheet_name: MRICerebralAtrophyGlobalLocal value: - value_float:  value_int: \n",
      "[WARN] unable to get value: sheet_name: MRICerebralAtrophyGlobalLocal value: - value_float:  value_int: \n",
      "[WARN] unable to get value: sheet_name: MRICerebralAtrophyGlobalLocal value: - value_float:  value_int: \n",
      "[WARN] unable to get value: sheet_name: MRICerebralAtrophyGlobalLocal value: - value_float:  value_int: \n",
      "[WARN] unable to get value: sheet_name: MRICerebralAtrophyGlobalLocal value: - value_float:  value_int: \n",
      "[WARN] unable to get value: sheet_name: MRICerebralAtrophyGlobalLocal value: - value_float:  value_int: \n",
      "[WARN] unable to get value: sheet_name: MRICerebralAtrophyGlobalLocal value: - value_float:  value_int: \n",
      "[WARN] unable to get value: sheet_name: MRICerebralAtrophyGlobalLocal value: - value_float:  value_int: \n",
      "[WARN] unable to get value: sheet_name: MRICerebralAtrophyGlobalLocal value: - value_float:  value_int: \n",
      "[WARN] unable to get value: sheet_name: MRICerebralAtrophyGlobalLocal value: - value_float:  value_int: \n",
      "[WARN] unable to get value: sheet_name: MRICerebralAtrophyGlobalLocal value: - value_float:  value_int: \n",
      "[WARN] unable to get value: sheet_name: MRICerebralAtrophyGlobalLocal value: - value_float:  value_int: \n",
      "[WARN] unable to get value: sheet_name: MRICerebralAtrophyGlobalLocal value: - value_float:  value_int: \n",
      "[WARN] unable to get value: sheet_name: MRICerebralAtrophyGlobalLocal value: - value_float:  value_int: \n",
      "[WARN] unable to get value: sheet_name: MRICerebralAtrophyGlobalLocal value: - value_float:  value_int: \n",
      "[WARN] unable to get value: sheet_name: MRICerebralAtrophyGlobalLocal value: - value_float:  value_int: \n",
      "[WARN] unable to get value: sheet_name: MRICerebralAtrophyGlobalLocal value: - value_float:  value_int: \n",
      "[WARN] unable to get value: sheet_name: MRICerebralAtrophyGlobalLocal value: - value_float:  value_int: \n",
      "[WARN] unable to get value: sheet_name: MRICerebralAtrophyGlobalLocal value: - value_float:  value_int: \n",
      "[WARN] unable to get value: sheet_name: MRICerebralAtrophyGlobalLocal value: - value_float:  value_int: \n",
      "[WARN] unable to get value: sheet_name: MRICerebralAtrophyGlobalLocal value: - value_float:  value_int: \n",
      "[WARN] unable to get value: sheet_name: MRICerebralAtrophyGlobalLocal value: - value_float:  value_int: \n",
      "[WARN] unable to get value: sheet_name: MRICerebralAtrophyGlobalLocal value: - value_float:  value_int: \n",
      "[WARN] unable to get value: sheet_name: MRICerebralAtrophyGlobalLocal value: - value_float:  value_int: \n",
      "[WARN] unable to get value: sheet_name: MRICerebralAtrophyGlobalLocal value: - value_float:  value_int: \n",
      "[WARN] unable to get value: sheet_name: MRICerebralAtrophyGlobalLocal value: - value_float:  value_int: \n",
      "[WARN] unable to get value: sheet_name: MRICerebralAtrophyGlobalLocal value: - value_float:  value_int: \n",
      "[WARN] unable to get value: sheet_name: MRICerebralAtrophyGlobalLocal value: - value_float:  value_int: \n",
      "[WARN] unable to get value: sheet_name: MRICerebralAtrophyGlobalLocal value: - value_float:  value_int: \n",
      "[WARN] unable to get value: sheet_name: MRICerebralAtrophyGlobalLocal value: - value_float:  value_int: \n",
      "[WARN] unable to get value: sheet_name: MRICerebralAtrophyGlobalLocal value: - value_float:  value_int: \n",
      "[WARN] unable to get value: sheet_name: MRICerebralAtrophyGlobalLocal value: - value_float:  value_int: \n",
      "[WARN] unable to get value: sheet_name: MRICerebralAtrophyGlobalLocal value: - value_float:  value_int: \n",
      "[WARN] unable to get value: sheet_name: MRICerebralAtrophyGlobalLocal value: - value_float:  value_int: \n",
      "[WARN] unable to get value: sheet_name: MRICerebralAtrophyGlobalLocal value: - value_float:  value_int: \n",
      "[WARN] unable to get value: sheet_name: MRICerebralAtrophyGlobalLocal value: - value_float:  value_int: \n",
      "[WARN] unable to get value: sheet_name: MRICerebralAtrophyGlobalLocal value: - value_float:  value_int: \n",
      "[WARN] unable to get value: sheet_name: MRICerebralAtrophyGlobalLocal value: - value_float:  value_int: \n",
      "[WARN] unable to get value: sheet_name: MRICerebralAtrophyGlobalLocal value: - value_float:  value_int: \n",
      "[WARN] unable to get value: sheet_name: MRICerebralAtrophyGlobalLocal value: - value_float:  value_int: \n",
      "[WARN] unable to get value: sheet_name: MRICerebralAtrophyGlobalLocal value: - value_float:  value_int: \n",
      "[WARN] unable to get value: sheet_name: MRICerebralAtrophyGlobalLocal value: - value_float:  value_int: \n",
      "[WARN] unable to get value: sheet_name: MRICerebralAtrophyGlobalLocal value: - value_float:  value_int: \n",
      "[WARN] unable to get value: sheet_name: MRICerebralAtrophyGlobalLocal value: - value_float:  value_int: \n",
      "[WARN] unable to get value: sheet_name: MRICerebralAtrophyGlobalLocal value: - value_float:  value_int: \n",
      "[WARN] unable to get value: sheet_name: MRICerebralAtrophyGlobalLocal value: - value_float:  value_int: \n",
      "[WARN] unable to get value: sheet_name: MRICerebralAtrophyGlobalLocal value: - value_float:  value_int: \n",
      "[WARN] unable to get value: sheet_name: MRICerebralAtrophyGlobalLocal value: - value_float:  value_int: \n",
      "[WARN] unable to get value: sheet_name: MRICerebralAtrophyGlobalLocal value: - value_float:  value_int: \n",
      "[WARN] unable to get value: sheet_name: MRICerebralAtrophyGlobalLocal value: - value_float:  value_int: \n",
      "[WARN] unable to get value: sheet_name: MRICerebralAtrophyGlobalLocal value: - value_float:  value_int: \n",
      "[WARN] unable to get value: sheet_name: MRICerebralAtrophyGlobalLocal value: - value_float:  value_int: \n",
      "[WARN] unable to get value: sheet_name: MRICerebralAtrophyGlobalLocal value: - value_float:  value_int: \n",
      "[WARN] unable to get value: sheet_name: MRICerebralAtrophyGlobalLocal value: - value_float:  value_int: \n",
      "[WARN] unable to get value: sheet_name: MRICerebralAtrophyGlobalLocal value: - value_float:  value_int: \n",
      "[WARN] unable to get value: sheet_name: MRICerebralAtrophyGlobalLocal value: - value_float:  value_int: \n",
      "[WARN] unable to get value: sheet_name: MRICerebralAtrophyGlobalLocal value: - value_float:  value_int: \n",
      "[WARN] unable to get value: sheet_name: MRICerebralAtrophyGlobalLocal value: - value_float:  value_int: \n",
      "[WARN] unable to get value: sheet_name: MRICerebralAtrophyGlobalLocal value: - value_float:  value_int: \n",
      "[WARN] unable to get value: sheet_name: MRICerebralAtrophyGlobalLocal value: - value_float:  value_int: \n",
      "[WARN] unable to get value: sheet_name: MRICerebralAtrophyGlobalLocal value: - value_float:  value_int: \n",
      "[WARN] unable to get value: sheet_name: MRICerebralAtrophyGlobalLocal value: - value_float:  value_int: \n",
      "[WARN] unable to get value: sheet_name: MRICerebralAtrophyGlobalLocal value: - value_float:  value_int: \n",
      "[WARN] unable to get value: sheet_name: MRICerebralAtrophyGlobalLocal value: - value_float:  value_int: \n",
      "[WARN] unable to get value: sheet_name: MRICerebralAtrophyGlobalLocal value: - value_float:  value_int: \n",
      "[WARN] unable to get value: sheet_name: MRICerebralAtrophyGlobalLocal value: - value_float:  value_int: \n",
      "[WARN] unable to get value: sheet_name: MRICerebralAtrophyGlobalLocal value: - value_float:  value_int: \n",
      "[WARN] unable to get value: sheet_name: MRICerebralAtrophyGlobalLocal value: - value_float:  value_int: \n",
      "[WARN] unable to get value: sheet_name: MRICerebralAtrophyGlobalLocal value: - value_float:  value_int: \n",
      "[WARN] unable to get value: sheet_name: MRICerebralAtrophyGlobalLocal value: - value_float:  value_int: \n",
      "[WARN] unable to get value: sheet_name: MRICerebralAtrophyGlobalLocal value: - value_float:  value_int: \n",
      "[WARN] unable to get value: sheet_name: MRICerebralAtrophyGlobalLocal value: - value_float:  value_int: \n",
      "[WARN] unable to get value: sheet_name: MRICerebralAtrophyGlobalLocal value: - value_float:  value_int: \n",
      "[WARN] unable to get value: sheet_name: MRICerebralAtrophyGlobalLocal value: - value_float:  value_int: \n",
      "[WARN] unable to get value: sheet_name: MRICerebralAtrophyGlobalLocal value: - value_float:  value_int: \n",
      "[WARN] unable to get value: sheet_name: MRICerebralAtrophyGlobalLocal value: - value_float:  value_int: \n",
      "[WARN] unable to get value: sheet_name: MRICerebralAtrophyGlobalLocal value: - value_float:  value_int: \n",
      "[WARN] unable to get value: sheet_name: MRICerebralAtrophyGlobalLocal value: - value_float:  value_int: \n",
      "[WARN] unable to get value: sheet_name: MRICerebralAtrophyGlobalLocal value: - value_float:  value_int: \n",
      "[WARN] unable to get value: sheet_name: MRICerebralAtrophyGlobalLocal value: - value_float:  value_int: \n",
      "[WARN] unable to get value: sheet_name: MRICerebralAtrophyGlobalLocal value: - value_float:  value_int: \n",
      "[WARN] unable to get value: sheet_name: MRICerebralAtrophyGlobalLocal value: - value_float:  value_int: \n",
      "[WARN] unable to get value: sheet_name: MRICerebralAtrophyGlobalLocal value: - value_float:  value_int: \n",
      "[WARN] unable to get value: sheet_name: MRICerebralAtrophyGlobalLocal value: - value_float:  value_int: \n",
      "[WARN] unable to get value: sheet_name: MRICerebralAtrophyGlobalLocal value: - value_float:  value_int: \n",
      "[WARN] unable to get value: sheet_name: MRICerebralAtrophyGlobalLocal value: - value_float:  value_int: \n",
      "[WARN] unable to get value: sheet_name: MRICerebralAtrophyGlobalLocal value: - value_float:  value_int: \n",
      "[WARN] unable to get value: sheet_name: MRICerebralAtrophyGlobalLocal value: - value_float:  value_int: \n",
      "[WARN] unable to get value: sheet_name: MRICerebralAtrophyGlobalLocal value: - value_float:  value_int: \n",
      "[WARN] unable to get value: sheet_name: MRICerebralAtrophyGlobalLocal value: - value_float:  value_int: \n",
      "[WARN] unable to get value: sheet_name: MRICerebralAtrophyGlobalLocal value: - value_float:  value_int: \n",
      "[WARN] unable to get value: sheet_name: MRICerebralAtrophyGlobalLocal value: - value_float:  value_int: \n",
      "[WARN] unable to get value: sheet_name: MRICerebralAtrophyGlobalLocal value: - value_float:  value_int: \n",
      "[WARN] unable to get value: sheet_name: MRICerebralAtrophyGlobalLocal value: - value_float:  value_int: \n",
      "[WARN] unable to get value: sheet_name: MRICerebralAtrophyGlobalLocal value: - value_float:  value_int: \n",
      "[WARN] unable to get value: sheet_name: MRICerebralAtrophyGlobalLocal value: - value_float:  value_int: \n",
      "[WARN] unable to get value: sheet_name: MRICerebralAtrophyGlobalLocal value: - value_float:  value_int: \n",
      "[WARN] unable to get value: sheet_name: MRICerebralAtrophyGlobalLocal value: - value_float:  value_int: \n",
      "[WARN] unable to get value: sheet_name: MRICerebralAtrophyGlobalLocal value: - value_float:  value_int: \n",
      "[WARN] unable to get value: sheet_name: MRICerebralAtrophyGlobalLocal value: - value_float:  value_int: \n",
      "[WARN] unable to get value: sheet_name: MRICerebralAtrophyGlobalLocal value: - value_float:  value_int: \n",
      "[WARN] unable to get value: sheet_name: MRICerebralAtrophyGlobalLocal value: - value_float:  value_int: \n",
      "[WARN] unable to get value: sheet_name: MRICerebralAtrophyGlobalLocal value: - value_float:  value_int: \n",
      "[WARN] unable to get value: sheet_name: MRICerebralAtrophyGlobalLocal value: - value_float:  value_int: \n",
      "[WARN] unable to get value: sheet_name: MRICerebralAtrophyGlobalLocal value: - value_float:  value_int: \n",
      "[WARN] unable to get value: sheet_name: MRICerebralAtrophyGlobalLocal value: - value_float:  value_int: \n",
      "[WARN] unable to get value: sheet_name: MRICerebralAtrophyGlobalLocal value: - value_float:  value_int: \n",
      "[WARN] unable to get value: sheet_name: MRICerebralAtrophyGlobalLocal value: - value_float:  value_int: \n",
      "[WARN] unable to get value: sheet_name: MRICerebralAtrophyGlobalLocal value: - value_float:  value_int: \n",
      "[WARN] unable to get value: sheet_name: MRICerebralAtrophyGlobalLocal value: - value_float:  value_int: \n",
      "[WARN] unable to get value: sheet_name: MRICerebralAtrophyGlobalLocal value: - value_float:  value_int: \n",
      "[WARN] unable to get value: sheet_name: MRICerebralAtrophyGlobalLocal value: - value_float:  value_int: \n",
      "[WARN] unable to get value: sheet_name: MRICerebralAtrophyGlobalLocal value: - value_float:  value_int: \n",
      "[WARN] unable to get value: sheet_name: MRICerebralAtrophyGlobalLocal value: - value_float:  value_int: \n",
      "[WARN] unable to get value: sheet_name: MRICerebralAtrophyGlobalLocal value: - value_float:  value_int: \n",
      "[WARN] unable to get value: sheet_name: MRICerebralAtrophyGlobalLocal value: - value_float:  value_int: \n",
      "[WARN] unable to get value: sheet_name: MRICerebralAtrophyGlobalLocal value: - value_float:  value_int: \n",
      "[WARN] unable to get value: sheet_name: MRICerebralAtrophyGlobalLocal value: - value_float:  value_int: \n",
      "[WARN] unable to get value: sheet_name: MRICerebralAtrophyGlobalLocal value: - value_float:  value_int: \n",
      "[WARN] unable to get value: sheet_name: MRICerebralAtrophyGlobalLocal value: - value_float:  value_int: \n",
      "[WARN] unable to get value: sheet_name: MRICerebralAtrophyGlobalLocal value: - value_float:  value_int: \n",
      "[WARN] unable to get value: sheet_name: MRICerebralAtrophyGlobalLocal value: - value_float:  value_int: \n",
      "[WARN] unable to get value: sheet_name: MRICerebralAtrophyGlobalLocal value: - value_float:  value_int: \n",
      "[WARN] unable to get value: sheet_name: MRICerebralAtrophyGlobalLocal value: - value_float:  value_int: \n",
      "[WARN] unable to get value: sheet_name: MRICerebralAtrophyGlobalLocal value: - value_float:  value_int: \n",
      "[WARN] unable to get value: sheet_name: MRICerebralAtrophyGlobalLocal value: - value_float:  value_int: \n",
      "[WARN] unable to get value: sheet_name: MRICerebralAtrophyGlobalLocal value: - value_float:  value_int: \n",
      "[WARN] unable to get value: sheet_name: MRICerebralAtrophyGlobalLocal value: - value_float:  value_int: \n",
      "[WARN] unable to get value: sheet_name: MRICerebralAtrophyGlobalLocal value: - value_float:  value_int: \n",
      "[WARN] unable to get value: sheet_name: MRICerebralAtrophyGlobalLocal value: - value_float:  value_int: \n",
      "[WARN] unable to get value: sheet_name: MRICerebralAtrophyGlobalLocal value: - value_float:  value_int: \n",
      "[WARN] unable to get value: sheet_name: MRICerebralAtrophyGlobalLocal value: - value_float:  value_int: \n",
      "[WARN] unable to get value: sheet_name: MRICerebralAtrophyGlobalLocal value: - value_float:  value_int: \n",
      "[WARN] unable to get value: sheet_name: MRICerebralAtrophyGlobalLocal value: - value_float:  value_int: \n",
      "[WARN] unable to get value: sheet_name: MRICerebralAtrophyGlobalLocal value: - value_float:  value_int: \n",
      "[WARN] unable to get value: sheet_name: MRICerebralAtrophyGlobalLocal value: - value_float:  value_int: \n",
      "[WARN] unable to get value: sheet_name: MRICerebralAtrophyGlobalLocal value: - value_float:  value_int: \n",
      "[WARN] unable to get value: sheet_name: MRICerebralAtrophyGlobalLocal value: - value_float:  value_int: \n",
      "[WARN] unable to get value: sheet_name: MRICerebralAtrophyGlobalLocal value: - value_float:  value_int: \n",
      "[WARN] unable to get value: sheet_name: MRICerebralAtrophyGlobalLocal value: - value_float:  value_int: \n",
      "[WARN] unable to get value: sheet_name: MRICerebralAtrophyGlobalLocal value: - value_float:  value_int: \n",
      "[WARN] unable to get value: sheet_name: MRICerebralAtrophyGlobalLocal value: - value_float:  value_int: \n",
      "[WARN] unable to get value: sheet_name: MRICerebralAtrophyGlobalLocal value: - value_float:  value_int: \n",
      "[WARN] unable to get value: sheet_name: MRICerebralAtrophyGlobalLocal value: - value_float:  value_int: \n",
      "[WARN] unable to get value: sheet_name: MRICerebralAtrophyGlobalLocal value: - value_float:  value_int: \n",
      "[WARN] unable to get value: sheet_name: MRICerebralAtrophyGlobalLocal value: - value_float:  value_int: \n",
      "[WARN] unable to get value: sheet_name: MRICerebralAtrophyGlobalLocal value: - value_float:  value_int: \n",
      "[WARN] unable to get value: sheet_name: MRICerebralAtrophyGlobalLocal value: - value_float:  value_int: \n",
      "[WARN] unable to get value: sheet_name: MRICerebralAtrophyGlobalLocal value: - value_float:  value_int: \n",
      "[WARN] unable to get value: sheet_name: MRICerebralAtrophyGlobalLocal value: - value_float:  value_int: \n",
      "[WARN] unable to get value: sheet_name: MRICerebralAtrophyGlobalLocal value: - value_float:  value_int: \n",
      "[WARN] unable to get value: sheet_name: MRICerebralAtrophyGlobalLocal value: - value_float:  value_int: \n",
      "[WARN] unable to get value: sheet_name: MRICerebralAtrophyGlobalLocal value: - value_float:  value_int: \n",
      "[WARN] unable to get value: sheet_name: MRICerebralAtrophyGlobalLocal value: - value_float:  value_int: \n",
      "[WARN] unable to get value: sheet_name: MRICerebralAtrophyGlobalLocal value: - value_float:  value_int: \n",
      "[WARN] unable to get value: sheet_name: MRICerebralAtrophyGlobalLocal value: - value_float:  value_int: \n",
      "[WARN] unable to get value: sheet_name: MRICerebralAtrophyGlobalLocal value: - value_float:  value_int: \n",
      "[WARN] unable to get value: sheet_name: MRICerebralAtrophyGlobalLocal value: - value_float:  value_int: \n",
      "[WARN] unable to get value: sheet_name: MRICerebralAtrophyGlobalLocal value: - value_float:  value_int: \n",
      "[WARN] unable to get value: sheet_name: MRICerebralAtrophyGlobalLocal value: - value_float:  value_int: \n",
      "[WARN] unable to get value: sheet_name: MRICerebralAtrophyGlobalLocal value: - value_float:  value_int: \n",
      "[WARN] unable to get value: sheet_name: MRICerebralAtrophyGlobalLocal value: - value_float:  value_int: \n",
      "[WARN] unable to get value: sheet_name: MRICerebralAtrophyGlobalLocal value: - value_float:  value_int: \n",
      "[WARN] unable to get value: sheet_name: MRICerebralAtrophyGlobalLocal value: - value_float:  value_int: \n",
      "[WARN] unable to get value: sheet_name: MRICerebralAtrophyGlobalLocal value: - value_float:  value_int: \n",
      "[WARN] unable to get value: sheet_name: MRICerebralAtrophyGlobalLocal value: - value_float:  value_int: \n",
      "[WARN] unable to get value: sheet_name: MRICerebralAtrophyGlobalLocal value: - value_float:  value_int: \n",
      "[WARN] unable to get value: sheet_name: MRICerebralAtrophyGlobalLocal value: - value_float:  value_int: \n",
      "[WARN] unable to get value: sheet_name: MRICerebralAtrophyGlobalLocal value: - value_float:  value_int: \n",
      "[WARN] unable to get value: sheet_name: MRICerebralAtrophyGlobalLocal value: - value_float:  value_int: \n",
      "[WARN] unable to get value: sheet_name: MRICerebralAtrophyGlobalLocal value: - value_float:  value_int: \n",
      "[WARN] unable to get value: sheet_name: MRICerebralAtrophyGlobalLocal value: - value_float:  value_int: \n",
      "[WARN] unable to get value: sheet_name: MRICerebralAtrophyGlobalLocal value: - value_float:  value_int: \n",
      "[WARN] unable to get value: sheet_name: MRICerebralAtrophyGlobalLocal value: - value_float:  value_int: \n",
      "[WARN] unable to get value: sheet_name: MRICerebralAtrophyGlobalLocal value: - value_float:  value_int: \n",
      "[WARN] unable to get value: sheet_name: MRICerebralAtrophyGlobalLocal value: - value_float:  value_int: \n",
      "[WARN] unable to get value: sheet_name: MRICerebralAtrophyGlobalLocal value: - value_float:  value_int: \n",
      "[WARN] unable to get value: sheet_name: MRICerebralAtrophyGlobalLocal value: - value_float:  value_int: \n",
      "[WARN] unable to get value: sheet_name: MRICerebralAtrophyGlobalLocal value: - value_float:  value_int: \n",
      "[WARN] unable to get value: sheet_name: MRICerebralAtrophyGlobalLocal value: - value_float:  value_int: \n",
      "[WARN] unable to get value: sheet_name: MRICerebralAtrophyGlobalLocal value: - value_float:  value_int: \n",
      "[WARN] unable to get value: sheet_name: MRICerebralAtrophyGlobalLocal value: - value_float:  value_int: \n",
      "[WARN] unable to get value: sheet_name: MRICerebralAtrophyGlobalLocal value: - value_float:  value_int: \n",
      "[WARN] unable to get value: sheet_name: MRICerebralAtrophyGlobalLocal value: - value_float:  value_int: \n",
      "[WARN] unable to get value: sheet_name: MRICerebralAtrophyGlobalLocal value: - value_float:  value_int: \n",
      "[WARN] unable to get value: sheet_name: MRICerebralAtrophyGlobalLocal value: - value_float:  value_int: \n",
      "[WARN] unable to get value: sheet_name: MRICerebralAtrophyGlobalLocal value: - value_float:  value_int: \n",
      "[WARN] unable to get value: sheet_name: MRICerebralAtrophyGlobalLocal value: - value_float:  value_int: \n",
      "[WARN] unable to get value: sheet_name: MRICerebralAtrophyGlobalLocal value: - value_float:  value_int: \n",
      "[WARN] unable to get value: sheet_name: MRICerebralAtrophyGlobalLocal value: - value_float:  value_int: \n",
      "[WARN] unable to get value: sheet_name: MRICerebralAtrophyGlobalLocal value: - value_float:  value_int: \n",
      "[WARN] unable to get value: sheet_name: MRICerebralAtrophyGlobalLocal value: - value_float:  value_int: \n",
      "[WARN] unable to get value: sheet_name: MRICerebralAtrophyGlobalLocal value: - value_float:  value_int: \n",
      "[WARN] unable to get value: sheet_name: MRICerebralAtrophyGlobalLocal value: - value_float:  value_int: \n",
      "[WARN] unable to get value: sheet_name: MRICerebralAtrophyGlobalLocal value: - value_float:  value_int: \n",
      "[WARN] unable to get value: sheet_name: MRICerebralAtrophyGlobalLocal value: - value_float:  value_int: \n",
      "[WARN] unable to get value: sheet_name: MRICerebralAtrophyGlobalLocal value: - value_float:  value_int: \n",
      "[WARN] unable to get value: sheet_name: MRICerebralAtrophyGlobalLocal value: - value_float:  value_int: \n",
      "[WARN] unable to get value: sheet_name: MRICerebralAtrophyGlobalLocal value: - value_float:  value_int: \n",
      "[WARN] unable to get value: sheet_name: MRICerebralAtrophyGlobalLocal value: - value_float:  value_int: \n",
      "[WARN] unable to get value: sheet_name: MRICerebralAtrophyGlobalLocal value: - value_float:  value_int: \n",
      "[WARN] unable to get value: sheet_name: MRICerebralAtrophyGlobalLocal value: - value_float:  value_int: \n",
      "[WARN] unable to get value: sheet_name: MRICerebralAtrophyGlobalLocal value: - value_float:  value_int: \n",
      "[WARN] unable to get value: sheet_name: MRICerebralAtrophyGlobalLocal value: - value_float:  value_int: \n",
      "[WARN] unable to get value: sheet_name: MRICerebralAtrophyGlobalLocal value: - value_float:  value_int: \n",
      "[WARN] unable to get value: sheet_name: MRICerebralAtrophyGlobalLocal value: - value_float:  value_int: \n",
      "[WARN] unable to get value: sheet_name: MRICerebralAtrophyGlobalLocal value: - value_float:  value_int: \n",
      "[WARN] unable to get value: sheet_name: MRICerebralAtrophyGlobalLocal value: - value_float:  value_int: \n",
      "[WARN] unable to get value: sheet_name: MRICerebralAtrophyGlobalLocal value: - value_float:  value_int: \n",
      "[WARN] unable to get value: sheet_name: MRICerebralAtrophyGlobalLocal value: - value_float:  value_int: \n",
      "[WARN] unable to get value: sheet_name: MRICerebralAtrophyGlobalLocal value: - value_float:  value_int: \n",
      "[WARN] unable to get value: sheet_name: MRICerebralAtrophyGlobalLocal value: - value_float:  value_int: \n",
      "[WARN] unable to get value: sheet_name: MRICerebralAtrophyGlobalLocal value: - value_float:  value_int: \n",
      "[WARN] unable to get value: sheet_name: MRICerebralAtrophyGlobalLocal value: - value_float:  value_int: \n",
      "[WARN] unable to get value: sheet_name: MRICerebralAtrophyGlobalLocal value: - value_float:  value_int: \n",
      "[WARN] unable to get value: sheet_name: MRICerebralAtrophyGlobalLocal value: - value_float:  value_int: \n",
      "[WARN] unable to get value: sheet_name: MRICerebralAtrophyGlobalLocal value: - value_float:  value_int: \n",
      "[WARN] unable to get value: sheet_name: MRICerebralAtrophyGlobalLocal value: - value_float:  value_int: \n",
      "[WARN] unable to get value: sheet_name: MRICerebralAtrophyGlobalLocal value: - value_float:  value_int: \n",
      "[WARN] unable to get value: sheet_name: MRICerebralAtrophyGlobalLocal value: - value_float:  value_int: \n",
      "[WARN] unable to get value: sheet_name: MRICerebralAtrophyGlobalLocal value: - value_float:  value_int: \n",
      "[WARN] unable to get value: sheet_name: MRICerebralAtrophyGlobalLocal value: - value_float:  value_int: \n",
      "[WARN] unable to get value: sheet_name: MRICerebralAtrophyGlobalLocal value: - value_float:  value_int: \n",
      "[WARN] unable to get value: sheet_name: MRICerebralAtrophyGlobalLocal value: - value_float:  value_int: \n",
      "[WARN] unable to get value: sheet_name: MRICerebralAtrophyGlobalLocal value: - value_float:  value_int: \n",
      "[WARN] unable to get value: sheet_name: MRICerebralAtrophyGlobalLocal value: - value_float:  value_int: \n",
      "[WARN] unable to get value: sheet_name: MRICerebralAtrophyGlobalLocal value: - value_float:  value_int: \n",
      "[WARN] unable to get value: sheet_name: MRICerebralAtrophyGlobalLocal value: - value_float:  value_int: \n",
      "[WARN] unable to get value: sheet_name: MRICerebralAtrophyGlobalLocal value: - value_float:  value_int: \n",
      "[WARN] unable to get value: sheet_name: MRICerebralAtrophyGlobalLocal value: - value_float:  value_int: \n",
      "[WARN] unable to get value: sheet_name: MRICerebralAtrophyGlobalLocal value: - value_float:  value_int: \n",
      "[WARN] unable to get value: sheet_name: MRICerebralAtrophyGlobalLocal value: - value_float:  value_int: \n",
      "[WARN] unable to get value: sheet_name: MRICerebralAtrophyGlobalLocal value: - value_float:  value_int: \n",
      "[WARN] unable to get value: sheet_name: MRICerebralAtrophyGlobalLocal value: - value_float:  value_int: \n",
      "[WARN] unable to get value: sheet_name: MRICerebralAtrophyGlobalLocal value: - value_float:  value_int: \n",
      "[WARN] unable to get value: sheet_name: MRICerebralAtrophyGlobalLocal value: - value_float:  value_int: \n",
      "[WARN] unable to get value: sheet_name: MRICerebralAtrophyGlobalLocal value: - value_float:  value_int: \n",
      "[WARN] unable to get value: sheet_name: MRICerebralAtrophyGlobalLocal value: - value_float:  value_int: \n",
      "[WARN] unable to get value: sheet_name: MRICerebralAtrophyGlobalLocal value: - value_float:  value_int: \n",
      "[WARN] unable to get value: sheet_name: MRICerebralAtrophyGlobalLocal value: - value_float:  value_int: \n",
      "[WARN] unable to get value: sheet_name: MRICerebralAtrophyGlobalLocal value: - value_float:  value_int: \n",
      "[WARN] unable to get value: sheet_name: MRICerebralAtrophyGlobalLocal value: - value_float:  value_int: \n",
      "[WARN] unable to get value: sheet_name: MRICerebralAtrophyGlobalLocal value: - value_float:  value_int: \n",
      "[WARN] unable to get value: sheet_name: MRICerebralAtrophyGlobalLocal value: - value_float:  value_int: \n",
      "[WARN] unable to get value: sheet_name: MRICerebralAtrophyGlobalLocal value: - value_float:  value_int: \n",
      "[WARN] unable to get value: sheet_name: MRICerebralAtrophyGlobalLocal value: - value_float:  value_int: \n",
      "[WARN] unable to get value: sheet_name: MRICerebralAtrophyGlobalLocal value: - value_float:  value_int: \n",
      "[WARN] unable to get value: sheet_name: MRICerebralAtrophyGlobalLocal value: - value_float:  value_int: \n",
      "[WARN] unable to get value: sheet_name: MRICerebralAtrophyGlobalLocal value: - value_float:  value_int: \n",
      "[WARN] unable to get value: sheet_name: MRICerebralAtrophyGlobalLocal value: - value_float:  value_int: \n",
      "[WARN] unable to get value: sheet_name: MRICerebralAtrophyGlobalLocal value: - value_float:  value_int: \n",
      "[WARN] unable to get value: sheet_name: MRICerebralAtrophyGlobalLocal value: - value_float:  value_int: \n",
      "[WARN] unable to get value: sheet_name: MRICerebralAtrophyGlobalLocal value: - value_float:  value_int: \n",
      "[WARN] unable to get value: sheet_name: MRICerebralAtrophyGlobalLocal value: - value_float:  value_int: \n",
      "[WARN] unable to get value: sheet_name: MRICerebralAtrophyGlobalLocal value: - value_float:  value_int: \n",
      "[WARN] unable to get value: sheet_name: MRICerebralAtrophyGlobalLocal value: - value_float:  value_int: \n",
      "[WARN] unable to get value: sheet_name: MRICerebralAtrophyGlobalLocal value: - value_float:  value_int: \n",
      "[WARN] unable to get value: sheet_name: MRICerebralAtrophyGlobalLocal value: - value_float:  value_int: \n",
      "[WARN] unable to get value: sheet_name: MRICerebralAtrophyGlobalLocal value: - value_float:  value_int: \n",
      "[WARN] unable to get value: sheet_name: MRICerebralAtrophyGlobalLocal value: - value_float:  value_int: \n",
      "[WARN] unable to get value: sheet_name: MRICerebralAtrophyGlobalLocal value: - value_float:  value_int: \n",
      "[WARN] unable to get value: sheet_name: MRICerebralAtrophyGlobalLocal value: - value_float:  value_int: \n",
      "[WARN] unable to get value: sheet_name: MRICerebralAtrophyGlobalLocal value: - value_float:  value_int: \n",
      "[WARN] unable to get value: sheet_name: MRICerebralAtrophyGlobalLocal value: - value_float:  value_int: \n",
      "[WARN] unable to get value: sheet_name: MRICerebralAtrophyGlobalLocal value: - value_float:  value_int: \n",
      "[WARN] unable to get value: sheet_name: MRICerebralAtrophyGlobalLocal value: - value_float:  value_int: \n",
      "[WARN] unable to get value: sheet_name: MRICerebralAtrophyGlobalLocal value: - value_float:  value_int: \n",
      "[WARN] unable to get value: sheet_name: MRICerebralAtrophyGlobalLocal value: - value_float:  value_int: \n",
      "[WARN] unable to get value: sheet_name: MRICerebralAtrophyGlobalLocal value: - value_float:  value_int: \n",
      "[WARN] unable to get value: sheet_name: MRICerebralAtrophyGlobalLocal value: - value_float:  value_int: \n",
      "[WARN] unable to get value: sheet_name: MRICerebralAtrophyGlobalLocal value: - value_float:  value_int: \n",
      "[WARN] unable to get value: sheet_name: MRICerebralAtrophyGlobalLocal value: - value_float:  value_int: \n",
      "[WARN] unable to get value: sheet_name: MRICerebralAtrophyGlobalLocal value: - value_float:  value_int: \n",
      "[WARN] unable to get value: sheet_name: MRICerebralAtrophyGlobalLocal value: - value_float:  value_int: \n",
      "[WARN] unable to get value: sheet_name: MRICerebralAtrophyGlobalLocal value: - value_float:  value_int: \n",
      "[WARN] unable to get value: sheet_name: MRICerebralAtrophyGlobalLocal value: - value_float:  value_int: \n",
      "[WARN] unable to get value: sheet_name: MRICerebralAtrophyGlobalLocal value: - value_float:  value_int: \n",
      "[WARN] unable to get value: sheet_name: MRICerebralAtrophyGlobalLocal value: - value_float:  value_int: \n",
      "[WARN] unable to get value: sheet_name: MRICerebralAtrophyGlobalLocal value: - value_float:  value_int: \n",
      "[WARN] unable to get value: sheet_name: MRICerebralAtrophyGlobalLocal value: - value_float:  value_int: \n",
      "[WARN] unable to get value: sheet_name: MRICerebralAtrophyGlobalLocal value: - value_float:  value_int: \n",
      "[WARN] unable to get value: sheet_name: MRICerebralAtrophyGlobalLocal value: - value_float:  value_int: \n",
      "[WARN] unable to get value: sheet_name: MRICerebralAtrophyGlobalLocal value: - value_float:  value_int: \n",
      "[WARN] unable to get value: sheet_name: MRICerebralAtrophyGlobalLocal value: - value_float:  value_int: \n",
      "[WARN] unable to get value: sheet_name: MRICerebralAtrophyGlobalLocal value: - value_float:  value_int: \n",
      "[WARN] unable to get value: sheet_name: MRICerebralAtrophyGlobalLocal value: - value_float:  value_int: \n",
      "[WARN] unable to get value: sheet_name: MRICerebralAtrophyGlobalLocal value: - value_float:  value_int: \n",
      "[WARN] unable to get value: sheet_name: MRICerebralAtrophyGlobalLocal value: - value_float:  value_int: \n",
      "[WARN] unable to get value: sheet_name: MRICerebralAtrophyGlobalLocal value: - value_float:  value_int: \n",
      "[WARN] unable to get value: sheet_name: MRICerebralAtrophyGlobalLocal value: - value_float:  value_int: \n",
      "[WARN] unable to get value: sheet_name: MRICerebralAtrophyGlobalLocal value: - value_float:  value_int: \n",
      "[WARN] unable to get value: sheet_name: MRICerebralAtrophyGlobalLocal value: - value_float:  value_int: \n",
      "[WARN] unable to get value: sheet_name: MRICerebralAtrophyGlobalLocal value: - value_float:  value_int: \n",
      "[WARN] unable to get value: sheet_name: MRICerebralAtrophyGlobalLocal value: - value_float:  value_int: \n",
      "[WARN] unable to get value: sheet_name: MRICerebralAtrophyGlobalLocal value: - value_float:  value_int: \n",
      "[WARN] unable to get value: sheet_name: MRICerebralAtrophyGlobalLocal value: - value_float:  value_int: \n",
      "[WARN] unable to get value: sheet_name: MRICerebralAtrophyGlobalLocal value: - value_float:  value_int: \n",
      "[WARN] unable to get value: sheet_name: MRICerebralAtrophyGlobalLocal value: - value_float:  value_int: \n",
      "[WARN] unable to get value: sheet_name: MRICerebralAtrophyGlobalLocal value: - value_float:  value_int: \n",
      "[WARN] unable to get value: sheet_name: MRICerebralAtrophyGlobalLocal value: - value_float:  value_int: \n",
      "[WARN] unable to get value: sheet_name: MRICerebralAtrophyGlobalLocal value: - value_float:  value_int: \n",
      "[WARN] unable to get value: sheet_name: MRICerebralAtrophyGlobalLocal value: - value_float:  value_int: \n",
      "[WARN] unable to get value: sheet_name: MRICerebralAtrophyGlobalLocal value: - value_float:  value_int: \n",
      "[WARN] unable to get value: sheet_name: MRICerebralAtrophyGlobalLocal value: - value_float:  value_int: \n",
      "[WARN] unable to get value: sheet_name: MRICerebralAtrophyGlobalLocal value: - value_float:  value_int: \n",
      "[WARN] unable to get value: sheet_name: MRICerebralAtrophyGlobalLocal value: - value_float:  value_int: \n",
      "[WARN] unable to get value: sheet_name: MRICerebralAtrophyGlobalLocal value: - value_float:  value_int: \n",
      "[WARN] unable to get value: sheet_name: MRICerebralAtrophyGlobalLocal value: - value_float:  value_int: \n",
      "[WARN] unable to get value: sheet_name: MRICerebralAtrophyGlobalLocal value: - value_float:  value_int: \n",
      "[WARN] unable to get value: sheet_name: MRICerebralAtrophyGlobalLocal value: - value_float:  value_int: \n",
      "[WARN] unable to get value: sheet_name: MRICerebralAtrophyGlobalLocal value: - value_float:  value_int: \n",
      "[WARN] unable to get value: sheet_name: MRICerebralAtrophyGlobalLocal value: - value_float:  value_int: \n",
      "[WARN] unable to get value: sheet_name: MRICerebralAtrophyGlobalLocal value: - value_float:  value_int: \n",
      "[WARN] unable to get value: sheet_name: MRICerebralAtrophyGlobalLocal value: - value_float:  value_int: \n",
      "[WARN] unable to get value: sheet_name: MRICerebralAtrophyGlobalLocal value: - value_float:  value_int: \n",
      "[WARN] unable to get value: sheet_name: MRICerebralAtrophyGlobalLocal value: - value_float:  value_int: \n",
      "[WARN] unable to get value: sheet_name: MRICerebralAtrophyGlobalLocal value: - value_float:  value_int: \n",
      "[WARN] unable to get value: sheet_name: MRICerebralAtrophyGlobalLocal value: - value_float:  value_int: \n",
      "[WARN] unable to get value: sheet_name: MRICerebralAtrophyGlobalLocal value: - value_float:  value_int: \n",
      "[WARN] unable to get value: sheet_name: MRICerebralAtrophyGlobalLocal value: - value_float:  value_int: \n",
      "[WARN] unable to get value: sheet_name: MRICerebralAtrophyGlobalLocal value: - value_float:  value_int: \n",
      "[WARN] unable to get value: sheet_name: MRICerebralAtrophyGlobalLocal value: - value_float:  value_int: \n",
      "[WARN] unable to get value: sheet_name: MRICerebralAtrophyGlobalLocal value: - value_float:  value_int: \n",
      "[WARN] unable to get value: sheet_name: MRICerebralAtrophyGlobalLocal value: - value_float:  value_int: \n",
      "[WARN] unable to get value: sheet_name: MRICerebralAtrophyGlobalLocal value: - value_float:  value_int: \n",
      "[WARN] unable to get value: sheet_name: MRICerebralAtrophyGlobalLocal value: - value_float:  value_int: \n",
      "[WARN] unable to get value: sheet_name: MRICerebralAtrophyGlobalLocal value: - value_float:  value_int: \n",
      "[WARN] unable to get value: sheet_name: MRICerebralAtrophyGlobalLocal value: - value_float:  value_int: \n",
      "[WARN] unable to get value: sheet_name: MRICerebralAtrophyGlobalLocal value: - value_float:  value_int: \n",
      "[WARN] unable to get value: sheet_name: MRICerebralAtrophyGlobalLocal value: - value_float:  value_int: \n",
      "[WARN] unable to get value: sheet_name: MRICerebralAtrophyGlobalLocal value: - value_float:  value_int: \n",
      "[WARN] unable to get value: sheet_name: MRICerebralAtrophyGlobalLocal value: - value_float:  value_int: \n",
      "[WARN] unable to get value: sheet_name: MRICerebralAtrophyGlobalLocal value: - value_float:  value_int: \n",
      "[WARN] unable to get value: sheet_name: MRICerebralAtrophyGlobalLocal value: - value_float:  value_int: \n",
      "[WARN] unable to get value: sheet_name: MRICerebralAtrophyGlobalLocal value: - value_float:  value_int: \n",
      "[WARN] unable to get value: sheet_name: MRICerebralAtrophyGlobalLocal value: - value_float:  value_int: \n",
      "[WARN] unable to get value: sheet_name: MRICerebralAtrophyGlobalLocal value: - value_float:  value_int: \n",
      "[WARN] unable to get value: sheet_name: MRICerebralAtrophyGlobalLocal value: - value_float:  value_int: \n",
      "[WARN] unable to get value: sheet_name: MRICerebralAtrophyGlobalLocal value: - value_float:  value_int: \n",
      "[WARN] unable to get value: sheet_name: MRICerebralAtrophyGlobalLocal value: - value_float:  value_int: \n",
      "[WARN] unable to get value: sheet_name: MRICerebralAtrophyGlobalLocal value: - value_float:  value_int: \n",
      "[WARN] unable to get value: sheet_name: MRICerebralAtrophyGlobalLocal value: - value_float:  value_int: \n",
      "[WARN] unable to get value: sheet_name: MRICerebralAtrophyGlobalLocal value: - value_float:  value_int: \n",
      "[WARN] unable to get value: sheet_name: MRICerebralAtrophyGlobalLocal value: - value_float:  value_int: \n",
      "[WARN] unable to get value: sheet_name: MRICerebralAtrophyGlobalLocal value: - value_float:  value_int: \n",
      "[WARN] unable to get value: sheet_name: MRICerebralAtrophyGlobalLocal value: - value_float:  value_int: \n",
      "[WARN] unable to get value: sheet_name: MRICerebralAtrophyGlobalLocal value: - value_float:  value_int: \n",
      "[WARN] unable to get value: sheet_name: MRICerebralAtrophyGlobalLocal value: - value_float:  value_int: \n",
      "[WARN] unable to get value: sheet_name: MRICerebralAtrophyGlobalLocal value: - value_float:  value_int: \n",
      "[WARN] unable to get value: sheet_name: MRICerebralAtrophyGlobalLocal value: - value_float:  value_int: \n",
      "[WARN] unable to get value: sheet_name: MRICerebralAtrophyGlobalLocal value: - value_float:  value_int: \n",
      "[WARN] unable to get value: sheet_name: MRICerebralAtrophyGlobalLocal value: - value_float:  value_int: \n",
      "[WARN] unable to get value: sheet_name: MRICerebralAtrophyGlobalLocal value: - value_float:  value_int: \n",
      "[WARN] unable to get value: sheet_name: MRICerebralAtrophyGlobalLocal value: - value_float:  value_int: \n",
      "[WARN] unable to get value: sheet_name: MRICerebralAtrophyGlobalLocal value: - value_float:  value_int: \n",
      "[WARN] unable to get value: sheet_name: MRICerebralAtrophyGlobalLocal value: - value_float:  value_int: \n",
      "[WARN] unable to get value: sheet_name: MRICerebralAtrophyGlobalLocal value: - value_float:  value_int: \n",
      "[WARN] unable to get value: sheet_name: MRICerebralAtrophyGlobalLocal value: - value_float:  value_int: \n",
      "[WARN] unable to get value: sheet_name: MRICerebralAtrophyGlobalLocal value: - value_float:  value_int: \n",
      "[WARN] unable to get value: sheet_name: MRICerebralAtrophyGlobalLocal value: - value_float:  value_int: \n",
      "[WARN] unable to get value: sheet_name: MRICerebralAtrophyGlobalLocal value: - value_float:  value_int: \n",
      "[WARN] unable to get value: sheet_name: MRICerebralAtrophyGlobalLocal value: - value_float:  value_int: \n",
      "[WARN] unable to get value: sheet_name: MRICerebralAtrophyGlobalLocal value: - value_float:  value_int: \n",
      "[WARN] unable to get value: sheet_name: MRICerebralAtrophyGlobalLocal value: - value_float:  value_int: \n",
      "[WARN] unable to get value: sheet_name: MRICerebralAtrophyGlobalLocal value: - value_float:  value_int: \n",
      "[WARN] unable to get value: sheet_name: MRICerebralAtrophyGlobalLocal value: - value_float:  value_int: \n",
      "[WARN] unable to get value: sheet_name: MRICerebralAtrophyGlobalLocal value: - value_float:  value_int: \n",
      "[WARN] unable to get value: sheet_name: MRICerebralAtrophyGlobalLocal value: - value_float:  value_int: \n",
      "[WARN] unable to get value: sheet_name: MRICerebralAtrophyGlobalLocal value: - value_float:  value_int: \n",
      "[WARN] unable to get value: sheet_name: MRICerebralAtrophyGlobalLocal value: - value_float:  value_int: \n",
      "[WARN] unable to get value: sheet_name: MRICerebralAtrophyGlobalLocal value: - value_float:  value_int: \n",
      "[WARN] unable to get value: sheet_name: MRICerebralAtrophyGlobalLocal value: - value_float:  value_int: \n",
      "[WARN] unable to get value: sheet_name: MRICerebralAtrophyGlobalLocal value: - value_float:  value_int: \n",
      "[WARN] unable to get value: sheet_name: MRICerebralAtrophyGlobalLocal value: - value_float:  value_int: \n",
      "[WARN] unable to get value: sheet_name: MRICerebralAtrophyGlobalLocal value: - value_float:  value_int: \n",
      "[WARN] unable to get value: sheet_name: MRICerebralAtrophyGlobalLocal value: - value_float:  value_int: \n",
      "[WARN] unable to get value: sheet_name: MRICerebralAtrophyGlobalLocal value: - value_float:  value_int: \n",
      "[WARN] unable to get value: sheet_name: MRICerebralAtrophyGlobalLocal value: - value_float:  value_int: \n",
      "[WARN] unable to get value: sheet_name: MRICerebralAtrophyGlobalLocal value: - value_float:  value_int: \n",
      "[WARN] unable to get value: sheet_name: MRICerebralAtrophyGlobalLocal value: - value_float:  value_int: \n",
      "[WARN] unable to get value: sheet_name: MRICerebralAtrophyGlobalLocal value: - value_float:  value_int: \n",
      "[WARN] unable to get value: sheet_name: MRICerebralAtrophyGlobalLocal value: - value_float:  value_int: \n",
      "[WARN] unable to get value: sheet_name: MRICerebralAtrophyGlobalLocal value: - value_float:  value_int: \n",
      "[WARN] unable to get value: sheet_name: MRICerebralAtrophyGlobalLocal value: - value_float:  value_int: \n",
      "[WARN] unable to get value: sheet_name: MRICerebralAtrophyGlobalLocal value: - value_float:  value_int: \n",
      "[WARN] unable to get value: sheet_name: MRICerebralAtrophyGlobalLocal value: - value_float:  value_int: \n",
      "[WARN] unable to get value: sheet_name: MRICerebralAtrophyGlobalLocal value: - value_float:  value_int: \n",
      "[WARN] unable to get value: sheet_name: MRICerebralAtrophyGlobalLocal value: - value_float:  value_int: \n",
      "[WARN] unable to get value: sheet_name: MRICerebralAtrophyGlobalLocal value: - value_float:  value_int: \n",
      "[WARN] unable to get value: sheet_name: MRICerebralAtrophyGlobalLocal value: - value_float:  value_int: \n",
      "[WARN] unable to get value: sheet_name: MRICerebralAtrophyGlobalLocal value: - value_float:  value_int: \n",
      "[WARN] unable to get value: sheet_name: MRICerebralAtrophyGlobalLocal value: - value_float:  value_int: \n",
      "[WARN] unable to get value: sheet_name: MRICerebralAtrophyGlobalLocal value: - value_float:  value_int: \n",
      "[WARN] unable to get value: sheet_name: MRICerebralAtrophyGlobalLocal value: - value_float:  value_int: \n",
      "[WARN] unable to get value: sheet_name: MRICerebralAtrophyGlobalLocal value: - value_float:  value_int: \n",
      "[WARN] unable to get value: sheet_name: MRICerebralAtrophyGlobalLocal value: - value_float:  value_int: \n",
      "[WARN] unable to get value: sheet_name: MRICerebralAtrophyGlobalLocal value: - value_float:  value_int: \n",
      "[WARN] unable to get value: sheet_name: MRICerebralAtrophyGlobalLocal value: - value_float:  value_int: \n",
      "[WARN] unable to get value: sheet_name: MRICerebralAtrophyGlobalLocal value: - value_float:  value_int: \n",
      "[WARN] unable to get value: sheet_name: MRICerebralAtrophyGlobalLocal value: - value_float:  value_int: \n",
      "[WARN] unable to get value: sheet_name: MRICerebralAtrophyGlobalLocal value: - value_float:  value_int: \n",
      "[WARN] unable to get value: sheet_name: MRICerebralAtrophyGlobalLocal value: - value_float:  value_int: \n",
      "[WARN] unable to get value: sheet_name: MRICerebralAtrophyGlobalLocal value: - value_float:  value_int: \n",
      "[WARN] unable to get value: sheet_name: MRICerebralAtrophyGlobalLocal value: - value_float:  value_int: \n",
      "[WARN] unable to get value: sheet_name: MRICerebralAtrophyGlobalLocal value: - value_float:  value_int: \n",
      "[WARN] unable to get value: sheet_name: MRICerebralAtrophyGlobalLocal value: - value_float:  value_int: \n",
      "[WARN] unable to get value: sheet_name: MRICerebralAtrophyGlobalLocal value: - value_float:  value_int: \n",
      "[WARN] unable to get value: sheet_name: MRICerebralAtrophyGlobalLocal value: - value_float:  value_int: \n",
      "[WARN] unable to get value: sheet_name: MRICerebralAtrophyGlobalLocal value: - value_float:  value_int: \n",
      "[WARN] unable to get value: sheet_name: MRICerebralAtrophyGlobalLocal value: - value_float:  value_int: \n",
      "[WARN] unable to get value: sheet_name: MRICerebralAtrophyGlobalLocal value: - value_float:  value_int: \n",
      "[WARN] unable to get value: sheet_name: MRICerebralAtrophyGlobalLocal value: - value_float:  value_int: \n",
      "[WARN] unable to get value: sheet_name: MRICerebralAtrophyGlobalLocal value: - value_float:  value_int: \n",
      "[WARN] unable to get value: sheet_name: MRICerebralAtrophyGlobalLocal value: - value_float:  value_int: \n",
      "[WARN] unable to get value: sheet_name: MRICerebralAtrophyGlobalLocal value: - value_float:  value_int: \n",
      "[WARN] unable to get value: sheet_name: MRICerebralAtrophyGlobalLocal value: - value_float:  value_int: \n",
      "[WARN] unable to get value: sheet_name: MRICerebralAtrophyGlobalLocal value: - value_float:  value_int: \n",
      "[WARN] unable to get value: sheet_name: MRICerebralAtrophyGlobalLocal value: - value_float:  value_int: \n",
      "[WARN] unable to get value: sheet_name: MRICerebralAtrophyGlobalLocal value: - value_float:  value_int: \n",
      "[WARN] unable to get value: sheet_name: MRICerebralAtrophyGlobalLocal value: - value_float:  value_int: \n",
      "[WARN] unable to get value: sheet_name: MRICerebralAtrophyGlobalLocal value: - value_float:  value_int: \n",
      "[WARN] unable to get value: sheet_name: MRICerebralAtrophyGlobalLocal value: - value_float:  value_int: \n",
      "[WARN] unable to get value: sheet_name: MRICerebralAtrophyGlobalLocal value: - value_float:  value_int: \n",
      "[WARN] unable to get value: sheet_name: MRICerebralAtrophyGlobalLocal value: - value_float:  value_int: \n",
      "[WARN] unable to get value: sheet_name: MRICerebralAtrophyGlobalLocal value: - value_float:  value_int: \n",
      "[WARN] unable to get value: sheet_name: MRICerebralAtrophyGlobalLocal value: - value_float:  value_int: \n",
      "(59/77) normalize_value: column: MRICerebralAtrophyGlobalLocal_c\n",
      "(60/77) normalize_value: column: MRIBGT\n",
      "[WARN] unable to get value: sheet_name: MRISeverity value: - value_float:  value_int: \n",
      "[WARN] unable to get value: sheet_name: MRISeverity value: - value_float:  value_int: \n",
      "[WARN] unable to get value: sheet_name: MRISeverity value: - value_float:  value_int: \n",
      "[WARN] unable to get value: sheet_name: MRISeverity value: - value_float:  value_int: \n",
      "[WARN] unable to get value: sheet_name: MRISeverity value: - value_float:  value_int: \n",
      "[WARN] unable to get value: sheet_name: MRISeverity value: - value_float:  value_int: \n",
      "[WARN] unable to get value: sheet_name: MRISeverity value: - value_float:  value_int: \n",
      "[WARN] unable to get value: sheet_name: MRISeverity value: - value_float:  value_int: \n",
      "[WARN] unable to get value: sheet_name: MRISeverity value: - value_float:  value_int: \n",
      "[WARN] unable to get value: sheet_name: MRISeverity value: - value_float:  value_int: \n",
      "[WARN] unable to get value: sheet_name: MRISeverity value: - value_float:  value_int: \n",
      "[WARN] unable to get value: sheet_name: MRISeverity value: - value_float:  value_int: \n",
      "[WARN] unable to get value: sheet_name: MRISeverity value: - value_float:  value_int: \n",
      "[WARN] unable to get value: sheet_name: MRISeverity value: - value_float:  value_int: \n",
      "[WARN] unable to get value: sheet_name: MRISeverity value: - value_float:  value_int: \n",
      "[WARN] unable to get value: sheet_name: MRISeverity value: - value_float:  value_int: \n",
      "[WARN] unable to get value: sheet_name: MRISeverity value: - value_float:  value_int: \n",
      "[WARN] unable to get value: sheet_name: MRISeverity value: - value_float:  value_int: \n",
      "[WARN] unable to get value: sheet_name: MRISeverity value: - value_float:  value_int: \n",
      "[WARN] unable to get value: sheet_name: MRISeverity value: - value_float:  value_int: \n",
      "[WARN] unable to get value: sheet_name: MRISeverity value: - value_float:  value_int: \n",
      "[WARN] unable to get value: sheet_name: MRISeverity value: - value_float:  value_int: \n",
      "[WARN] unable to get value: sheet_name: MRISeverity value: - value_float:  value_int: \n",
      "[WARN] unable to get value: sheet_name: MRISeverity value: - value_float:  value_int: \n",
      "[WARN] unable to get value: sheet_name: MRISeverity value: - value_float:  value_int: \n",
      "[WARN] unable to get value: sheet_name: MRISeverity value: - value_float:  value_int: \n",
      "[WARN] unable to get value: sheet_name: MRISeverity value: - value_float:  value_int: \n",
      "[WARN] unable to get value: sheet_name: MRISeverity value: - value_float:  value_int: \n",
      "[WARN] unable to get value: sheet_name: MRISeverity value: - value_float:  value_int: \n",
      "[WARN] unable to get value: sheet_name: MRISeverity value: - value_float:  value_int: \n",
      "[WARN] unable to get value: sheet_name: MRISeverity value: - value_float:  value_int: \n",
      "[WARN] unable to get value: sheet_name: MRISeverity value: - value_float:  value_int: \n",
      "[WARN] unable to get value: sheet_name: MRISeverity value: - value_float:  value_int: \n",
      "[WARN] unable to get value: sheet_name: MRISeverity value: - value_float:  value_int: \n",
      "[WARN] unable to get value: sheet_name: MRISeverity value: - value_float:  value_int: \n",
      "[WARN] unable to get value: sheet_name: MRISeverity value: - value_float:  value_int: \n",
      "[WARN] unable to get value: sheet_name: MRISeverity value: - value_float:  value_int: \n",
      "[WARN] unable to get value: sheet_name: MRISeverity value: - value_float:  value_int: \n",
      "[WARN] unable to get value: sheet_name: MRISeverity value: - value_float:  value_int: \n",
      "[WARN] unable to get value: sheet_name: MRISeverity value: - value_float:  value_int: \n",
      "[WARN] unable to get value: sheet_name: MRISeverity value: - value_float:  value_int: \n",
      "[WARN] unable to get value: sheet_name: MRISeverity value: - value_float:  value_int: \n",
      "[WARN] unable to get value: sheet_name: MRISeverity value: - value_float:  value_int: \n",
      "[WARN] unable to get value: sheet_name: MRISeverity value: - value_float:  value_int: \n",
      "[WARN] unable to get value: sheet_name: MRISeverity value: - value_float:  value_int: \n",
      "[WARN] unable to get value: sheet_name: MRISeverity value: - value_float:  value_int: \n",
      "[WARN] unable to get value: sheet_name: MRISeverity value: - value_float:  value_int: \n",
      "[WARN] unable to get value: sheet_name: MRISeverity value: - value_float:  value_int: \n",
      "[WARN] unable to get value: sheet_name: MRISeverity value: - value_float:  value_int: \n",
      "(61/77) normalize_value: column: MRIBGT_c\n",
      "(62/77) normalize_value: column: MRIPLIC\n",
      "[WARN] unable to get value: sheet_name: MRIALICPLICSeverity value: - value_float:  value_int: \n",
      "[WARN] unable to get value: sheet_name: MRIALICPLICSeverity value: - value_float:  value_int: \n",
      "[WARN] unable to get value: sheet_name: MRIALICPLICSeverity value: - value_float:  value_int: \n",
      "[WARN] unable to get value: sheet_name: MRIALICPLICSeverity value: - value_float:  value_int: \n",
      "[WARN] unable to get value: sheet_name: MRIALICPLICSeverity value: - value_float:  value_int: \n",
      "[WARN] unable to get value: sheet_name: MRIALICPLICSeverity value: - value_float:  value_int: \n",
      "[WARN] unable to get value: sheet_name: MRIALICPLICSeverity value: - value_float:  value_int: \n",
      "[WARN] unable to get value: sheet_name: MRIALICPLICSeverity value: - value_float:  value_int: \n",
      "[WARN] unable to get value: sheet_name: MRIALICPLICSeverity value: - value_float:  value_int: \n",
      "[WARN] unable to get value: sheet_name: MRIALICPLICSeverity value: - value_float:  value_int: \n",
      "[WARN] unable to get value: sheet_name: MRIALICPLICSeverity value: - value_float:  value_int: \n",
      "[WARN] unable to get value: sheet_name: MRIALICPLICSeverity value: - value_float:  value_int: \n",
      "[WARN] unable to get value: sheet_name: MRIALICPLICSeverity value: - value_float:  value_int: \n",
      "[WARN] unable to get value: sheet_name: MRIALICPLICSeverity value: - value_float:  value_int: \n",
      "[WARN] unable to get value: sheet_name: MRIALICPLICSeverity value: - value_float:  value_int: \n",
      "[WARN] unable to get value: sheet_name: MRIALICPLICSeverity value: - value_float:  value_int: \n",
      "[WARN] unable to get value: sheet_name: MRIALICPLICSeverity value: - value_float:  value_int: \n",
      "[WARN] unable to get value: sheet_name: MRIALICPLICSeverity value: - value_float:  value_int: \n",
      "[WARN] unable to get value: sheet_name: MRIALICPLICSeverity value: - value_float:  value_int: \n",
      "[WARN] unable to get value: sheet_name: MRIALICPLICSeverity value: - value_float:  value_int: \n",
      "[WARN] unable to get value: sheet_name: MRIALICPLICSeverity value: - value_float:  value_int: \n",
      "[WARN] unable to get value: sheet_name: MRIALICPLICSeverity value: - value_float:  value_int: \n",
      "[WARN] unable to get value: sheet_name: MRIALICPLICSeverity value: - value_float:  value_int: \n",
      "[WARN] unable to get value: sheet_name: MRIALICPLICSeverity value: - value_float:  value_int: \n",
      "[WARN] unable to get value: sheet_name: MRIALICPLICSeverity value: - value_float:  value_int: \n",
      "[WARN] unable to get value: sheet_name: MRIALICPLICSeverity value: - value_float:  value_int: \n",
      "[WARN] unable to get value: sheet_name: MRIALICPLICSeverity value: - value_float:  value_int: \n",
      "[WARN] unable to get value: sheet_name: MRIALICPLICSeverity value: - value_float:  value_int: \n",
      "[WARN] unable to get value: sheet_name: MRIALICPLICSeverity value: - value_float:  value_int: \n",
      "[WARN] unable to get value: sheet_name: MRIALICPLICSeverity value: - value_float:  value_int: \n",
      "[WARN] unable to get value: sheet_name: MRIALICPLICSeverity value: - value_float:  value_int: \n",
      "[WARN] unable to get value: sheet_name: MRIALICPLICSeverity value: - value_float:  value_int: \n",
      "[WARN] unable to get value: sheet_name: MRIALICPLICSeverity value: - value_float:  value_int: \n",
      "[WARN] unable to get value: sheet_name: MRIALICPLICSeverity value: - value_float:  value_int: \n",
      "[WARN] unable to get value: sheet_name: MRIALICPLICSeverity value: - value_float:  value_int: \n",
      "[WARN] unable to get value: sheet_name: MRIALICPLICSeverity value: - value_float:  value_int: \n",
      "[WARN] unable to get value: sheet_name: MRIALICPLICSeverity value: - value_float:  value_int: \n",
      "[WARN] unable to get value: sheet_name: MRIALICPLICSeverity value: - value_float:  value_int: \n",
      "[WARN] unable to get value: sheet_name: MRIALICPLICSeverity value: - value_float:  value_int: \n",
      "[WARN] unable to get value: sheet_name: MRIALICPLICSeverity value: - value_float:  value_int: \n",
      "[WARN] unable to get value: sheet_name: MRIALICPLICSeverity value: - value_float:  value_int: \n",
      "[WARN] unable to get value: sheet_name: MRIALICPLICSeverity value: - value_float:  value_int: \n",
      "[WARN] unable to get value: sheet_name: MRIALICPLICSeverity value: - value_float:  value_int: \n",
      "[WARN] unable to get value: sheet_name: MRIALICPLICSeverity value: - value_float:  value_int: \n",
      "[WARN] unable to get value: sheet_name: MRIALICPLICSeverity value: - value_float:  value_int: \n",
      "[WARN] unable to get value: sheet_name: MRIALICPLICSeverity value: - value_float:  value_int: \n",
      "[WARN] unable to get value: sheet_name: MRIALICPLICSeverity value: - value_float:  value_int: \n",
      "[WARN] unable to get value: sheet_name: MRIALICPLICSeverity value: - value_float:  value_int: \n",
      "[WARN] unable to get value: sheet_name: MRIALICPLICSeverity value: - value_float:  value_int: \n",
      "(63/77) normalize_value: column: MRIPLIC_c\n",
      "(64/77) normalize_value: column: MRIWatershed\n",
      "[WARN] unable to get value: sheet_name: MRISeverity value: - value_float:  value_int: \n",
      "[WARN] unable to get value: sheet_name: MRISeverity value: - value_float:  value_int: \n",
      "[WARN] unable to get value: sheet_name: MRISeverity value: - value_float:  value_int: \n",
      "[WARN] unable to get value: sheet_name: MRISeverity value: - value_float:  value_int: \n",
      "[WARN] unable to get value: sheet_name: MRISeverity value: - value_float:  value_int: \n",
      "[WARN] unable to get value: sheet_name: MRISeverity value: - value_float:  value_int: \n",
      "[WARN] unable to get value: sheet_name: MRISeverity value: - value_float:  value_int: \n",
      "[WARN] unable to get value: sheet_name: MRISeverity value: - value_float:  value_int: \n",
      "[WARN] unable to get value: sheet_name: MRISeverity value: - value_float:  value_int: \n",
      "[WARN] unable to get value: sheet_name: MRISeverity value: - value_float:  value_int: \n",
      "[WARN] unable to get value: sheet_name: MRISeverity value: - value_float:  value_int: \n",
      "[WARN] unable to get value: sheet_name: MRISeverity value: - value_float:  value_int: \n",
      "[WARN] unable to get value: sheet_name: MRISeverity value: - value_float:  value_int: \n",
      "[WARN] unable to get value: sheet_name: MRISeverity value: - value_float:  value_int: \n",
      "[WARN] unable to get value: sheet_name: MRISeverity value: - value_float:  value_int: \n",
      "[WARN] unable to get value: sheet_name: MRISeverity value: - value_float:  value_int: \n",
      "[WARN] unable to get value: sheet_name: MRISeverity value: - value_float:  value_int: \n",
      "[WARN] unable to get value: sheet_name: MRISeverity value: - value_float:  value_int: \n",
      "[WARN] unable to get value: sheet_name: MRISeverity value: - value_float:  value_int: \n",
      "[WARN] unable to get value: sheet_name: MRISeverity value: - value_float:  value_int: \n",
      "[WARN] unable to get value: sheet_name: MRISeverity value: - value_float:  value_int: \n",
      "[WARN] unable to get value: sheet_name: MRISeverity value: - value_float:  value_int: \n",
      "[WARN] unable to get value: sheet_name: MRISeverity value: - value_float:  value_int: \n",
      "[WARN] unable to get value: sheet_name: MRISeverity value: - value_float:  value_int: \n",
      "[WARN] unable to get value: sheet_name: MRISeverity value: - value_float:  value_int: \n",
      "[WARN] unable to get value: sheet_name: MRISeverity value: - value_float:  value_int: \n",
      "[WARN] unable to get value: sheet_name: MRISeverity value: - value_float:  value_int: \n",
      "[WARN] unable to get value: sheet_name: MRISeverity value: - value_float:  value_int: \n",
      "[WARN] unable to get value: sheet_name: MRISeverity value: - value_float:  value_int: \n",
      "[WARN] unable to get value: sheet_name: MRISeverity value: - value_float:  value_int: \n",
      "[WARN] unable to get value: sheet_name: MRISeverity value: - value_float:  value_int: \n",
      "[WARN] unable to get value: sheet_name: MRISeverity value: - value_float:  value_int: \n",
      "[WARN] unable to get value: sheet_name: MRISeverity value: - value_float:  value_int: \n",
      "[WARN] unable to get value: sheet_name: MRISeverity value: - value_float:  value_int: \n",
      "[WARN] unable to get value: sheet_name: MRISeverity value: - value_float:  value_int: \n",
      "[WARN] unable to get value: sheet_name: MRISeverity value: - value_float:  value_int: \n",
      "[WARN] unable to get value: sheet_name: MRISeverity value: - value_float:  value_int: \n",
      "[WARN] unable to get value: sheet_name: MRISeverity value: - value_float:  value_int: \n",
      "[WARN] unable to get value: sheet_name: MRISeverity value: - value_float:  value_int: \n",
      "[WARN] unable to get value: sheet_name: MRISeverity value: - value_float:  value_int: \n",
      "[WARN] unable to get value: sheet_name: MRISeverity value: - value_float:  value_int: \n",
      "[WARN] unable to get value: sheet_name: MRISeverity value: - value_float:  value_int: \n",
      "[WARN] unable to get value: sheet_name: MRISeverity value: - value_float:  value_int: \n",
      "[WARN] unable to get value: sheet_name: MRISeverity value: - value_float:  value_int: \n",
      "[WARN] unable to get value: sheet_name: MRISeverity value: - value_float:  value_int: \n",
      "[WARN] unable to get value: sheet_name: MRISeverity value: - value_float:  value_int: \n",
      "[WARN] unable to get value: sheet_name: MRISeverity value: - value_float:  value_int: \n",
      "[WARN] unable to get value: sheet_name: MRISeverity value: - value_float:  value_int: \n",
      "[WARN] unable to get value: sheet_name: MRISeverity value: - value_float:  value_int: \n",
      "[WARN] unable to get value: sheet_name: MRISeverity value: - value_float:  value_int: \n",
      "[WARN] unable to get value: sheet_name: MRISeverity value: - value_float:  value_int: \n",
      "[WARN] unable to get value: sheet_name: MRISeverity value: - value_float:  value_int: \n",
      "[WARN] unable to get value: sheet_name: MRISeverity value: - value_float:  value_int: \n",
      "[WARN] unable to get value: sheet_name: MRISeverity value: - value_float:  value_int: \n",
      "[WARN] unable to get value: sheet_name: MRISeverity value: - value_float:  value_int: \n",
      "[WARN] unable to get value: sheet_name: MRISeverity value: - value_float:  value_int: \n",
      "[WARN] unable to get value: sheet_name: MRISeverity value: - value_float:  value_int: \n",
      "(65/77) normalize_value: column: MRIWatershed_c\n",
      "(66/77) normalize_value: column: MRIWhiteMatterInjury\n",
      "[WARN] unable to float: val (4 None/<class 'str'>) e: could not convert string to float: '4 None'\n",
      "[WARN] unable to get value: sheet_name: MRIInjurySeverity value: 4 None value_float: 4 None value_int: 4 None\n",
      "[WARN] unable to float: val (4 None/<class 'str'>) e: could not convert string to float: '4 None'\n",
      "[WARN] unable to get value: sheet_name: MRIInjurySeverity value: 4 None value_float: 4 None value_int: 4 None\n",
      "[WARN] unable to float: val (4 None/<class 'str'>) e: could not convert string to float: '4 None'\n",
      "[WARN] unable to get value: sheet_name: MRIInjurySeverity value: 4 None value_float: 4 None value_int: 4 None\n",
      "[WARN] unable to float: val (4 None/<class 'str'>) e: could not convert string to float: '4 None'\n",
      "[WARN] unable to get value: sheet_name: MRIInjurySeverity value: 4 None value_float: 4 None value_int: 4 None\n",
      "[WARN] unable to float: val (4 None/<class 'str'>) e: could not convert string to float: '4 None'\n",
      "[WARN] unable to get value: sheet_name: MRIInjurySeverity value: 4 None value_float: 4 None value_int: 4 None\n",
      "[WARN] unable to float: val (4 None/<class 'str'>) e: could not convert string to float: '4 None'\n",
      "[WARN] unable to get value: sheet_name: MRIInjurySeverity value: 4 None value_float: 4 None value_int: 4 None\n",
      "[WARN] unable to float: val (1 Mild/<class 'str'>) e: could not convert string to float: '1 Mild'\n",
      "[WARN] unable to get value: sheet_name: MRIInjurySeverity value: 1 Mild value_float: 1 Mild value_int: 1 Mild\n",
      "[WARN] unable to float: val (1 Mild/<class 'str'>) e: could not convert string to float: '1 Mild'\n",
      "[WARN] unable to get value: sheet_name: MRIInjurySeverity value: 1 Mild value_float: 1 Mild value_int: 1 Mild\n",
      "[WARN] unable to float: val (4 None/<class 'str'>) e: could not convert string to float: '4 None'\n",
      "[WARN] unable to get value: sheet_name: MRIInjurySeverity value: 4 None value_float: 4 None value_int: 4 None\n",
      "[WARN] unable to float: val (1 Mild/<class 'str'>) e: could not convert string to float: '1 Mild'\n",
      "[WARN] unable to get value: sheet_name: MRIInjurySeverity value: 1 Mild value_float: 1 Mild value_int: 1 Mild\n",
      "[WARN] unable to float: val (1 Mild/<class 'str'>) e: could not convert string to float: '1 Mild'\n",
      "[WARN] unable to get value: sheet_name: MRIInjurySeverity value: 1 Mild value_float: 1 Mild value_int: 1 Mild\n",
      "[WARN] unable to float: val (1 Mild/<class 'str'>) e: could not convert string to float: '1 Mild'\n",
      "[WARN] unable to get value: sheet_name: MRIInjurySeverity value: 1 Mild value_float: 1 Mild value_int: 1 Mild\n",
      "[WARN] unable to float: val (1 Mild/<class 'str'>) e: could not convert string to float: '1 Mild'\n",
      "[WARN] unable to get value: sheet_name: MRIInjurySeverity value: 1 Mild value_float: 1 Mild value_int: 1 Mild\n",
      "[WARN] unable to float: val (1 Mild/<class 'str'>) e: could not convert string to float: '1 Mild'\n",
      "[WARN] unable to get value: sheet_name: MRIInjurySeverity value: 1 Mild value_float: 1 Mild value_int: 1 Mild\n",
      "[WARN] unable to float: val (4 None/<class 'str'>) e: could not convert string to float: '4 None'\n",
      "[WARN] unable to get value: sheet_name: MRIInjurySeverity value: 4 None value_float: 4 None value_int: 4 None\n",
      "[WARN] unable to float: val (4 None/<class 'str'>) e: could not convert string to float: '4 None'\n",
      "[WARN] unable to get value: sheet_name: MRIInjurySeverity value: 4 None value_float: 4 None value_int: 4 None\n",
      "[WARN] unable to get value: sheet_name: MRIInjurySeverity value: - value_float:  value_int: \n",
      "[WARN] unable to get value: sheet_name: MRIInjurySeverity value: - value_float:  value_int: \n",
      "[WARN] unable to float: val (4 None/<class 'str'>) e: could not convert string to float: '4 None'\n",
      "[WARN] unable to get value: sheet_name: MRIInjurySeverity value: 4 None value_float: 4 None value_int: 4 None\n",
      "[WARN] unable to float: val (4 None/<class 'str'>) e: could not convert string to float: '4 None'\n",
      "[WARN] unable to get value: sheet_name: MRIInjurySeverity value: 4 None value_float: 4 None value_int: 4 None\n",
      "[WARN] unable to float: val (1 Mild/<class 'str'>) e: could not convert string to float: '1 Mild'\n",
      "[WARN] unable to get value: sheet_name: MRIInjurySeverity value: 1 Mild value_float: 1 Mild value_int: 1 Mild\n",
      "[WARN] unable to float: val (1 Mild/<class 'str'>) e: could not convert string to float: '1 Mild'\n",
      "[WARN] unable to get value: sheet_name: MRIInjurySeverity value: 1 Mild value_float: 1 Mild value_int: 1 Mild\n",
      "[WARN] unable to float: val (1 Mild/<class 'str'>) e: could not convert string to float: '1 Mild'\n",
      "[WARN] unable to get value: sheet_name: MRIInjurySeverity value: 1 Mild value_float: 1 Mild value_int: 1 Mild\n",
      "[WARN] unable to float: val (1 Mild/<class 'str'>) e: could not convert string to float: '1 Mild'\n",
      "[WARN] unable to get value: sheet_name: MRIInjurySeverity value: 1 Mild value_float: 1 Mild value_int: 1 Mild\n",
      "[WARN] unable to float: val (1 Mild/<class 'str'>) e: could not convert string to float: '1 Mild'\n",
      "[WARN] unable to get value: sheet_name: MRIInjurySeverity value: 1 Mild value_float: 1 Mild value_int: 1 Mild\n",
      "[WARN] unable to float: val (4 None/<class 'str'>) e: could not convert string to float: '4 None'\n",
      "[WARN] unable to get value: sheet_name: MRIInjurySeverity value: 4 None value_float: 4 None value_int: 4 None\n",
      "[WARN] unable to float: val (1 Mild/<class 'str'>) e: could not convert string to float: '1 Mild'\n",
      "[WARN] unable to get value: sheet_name: MRIInjurySeverity value: 1 Mild value_float: 1 Mild value_int: 1 Mild\n",
      "[WARN] unable to float: val (1 Mild/<class 'str'>) e: could not convert string to float: '1 Mild'\n",
      "[WARN] unable to get value: sheet_name: MRIInjurySeverity value: 1 Mild value_float: 1 Mild value_int: 1 Mild\n",
      "[WARN] unable to float: val (1 Mild/<class 'str'>) e: could not convert string to float: '1 Mild'\n",
      "[WARN] unable to get value: sheet_name: MRIInjurySeverity value: 1 Mild value_float: 1 Mild value_int: 1 Mild\n",
      "[WARN] unable to float: val (1 Mild/<class 'str'>) e: could not convert string to float: '1 Mild'\n",
      "[WARN] unable to get value: sheet_name: MRIInjurySeverity value: 1 Mild value_float: 1 Mild value_int: 1 Mild\n",
      "[WARN] unable to float: val (1 Mild/<class 'str'>) e: could not convert string to float: '1 Mild'\n",
      "[WARN] unable to get value: sheet_name: MRIInjurySeverity value: 1 Mild value_float: 1 Mild value_int: 1 Mild\n",
      "[WARN] unable to float: val (1 Mild/<class 'str'>) e: could not convert string to float: '1 Mild'\n",
      "[WARN] unable to get value: sheet_name: MRIInjurySeverity value: 1 Mild value_float: 1 Mild value_int: 1 Mild\n",
      "[WARN] unable to float: val (1 Mild/<class 'str'>) e: could not convert string to float: '1 Mild'\n",
      "[WARN] unable to get value: sheet_name: MRIInjurySeverity value: 1 Mild value_float: 1 Mild value_int: 1 Mild\n",
      "[WARN] unable to float: val (4 None/<class 'str'>) e: could not convert string to float: '4 None'\n",
      "[WARN] unable to get value: sheet_name: MRIInjurySeverity value: 4 None value_float: 4 None value_int: 4 None\n",
      "[WARN] unable to float: val (1 Mild/<class 'str'>) e: could not convert string to float: '1 Mild'\n",
      "[WARN] unable to get value: sheet_name: MRIInjurySeverity value: 1 Mild value_float: 1 Mild value_int: 1 Mild\n",
      "[WARN] unable to float: val (1 Mild/<class 'str'>) e: could not convert string to float: '1 Mild'\n",
      "[WARN] unable to get value: sheet_name: MRIInjurySeverity value: 1 Mild value_float: 1 Mild value_int: 1 Mild\n",
      "[WARN] unable to float: val (1 Mild/<class 'str'>) e: could not convert string to float: '1 Mild'\n",
      "[WARN] unable to get value: sheet_name: MRIInjurySeverity value: 1 Mild value_float: 1 Mild value_int: 1 Mild\n",
      "[WARN] unable to float: val (4 None/<class 'str'>) e: could not convert string to float: '4 None'\n",
      "[WARN] unable to get value: sheet_name: MRIInjurySeverity value: 4 None value_float: 4 None value_int: 4 None\n",
      "[WARN] unable to float: val (1 Mild/<class 'str'>) e: could not convert string to float: '1 Mild'\n",
      "[WARN] unable to get value: sheet_name: MRIInjurySeverity value: 1 Mild value_float: 1 Mild value_int: 1 Mild\n",
      "[WARN] unable to float: val (4 None/<class 'str'>) e: could not convert string to float: '4 None'\n",
      "[WARN] unable to get value: sheet_name: MRIInjurySeverity value: 4 None value_float: 4 None value_int: 4 None\n",
      "[WARN] unable to float: val (4 None/<class 'str'>) e: could not convert string to float: '4 None'\n",
      "[WARN] unable to get value: sheet_name: MRIInjurySeverity value: 4 None value_float: 4 None value_int: 4 None\n",
      "[WARN] unable to float: val (1 Mild/<class 'str'>) e: could not convert string to float: '1 Mild'\n",
      "[WARN] unable to get value: sheet_name: MRIInjurySeverity value: 1 Mild value_float: 1 Mild value_int: 1 Mild\n",
      "[WARN] unable to float: val (1 Mild/<class 'str'>) e: could not convert string to float: '1 Mild'\n",
      "[WARN] unable to get value: sheet_name: MRIInjurySeverity value: 1 Mild value_float: 1 Mild value_int: 1 Mild\n",
      "[WARN] unable to float: val (1 Mild/<class 'str'>) e: could not convert string to float: '1 Mild'\n",
      "[WARN] unable to get value: sheet_name: MRIInjurySeverity value: 1 Mild value_float: 1 Mild value_int: 1 Mild\n",
      "[WARN] unable to get value: sheet_name: MRIInjurySeverity value: - value_float:  value_int: \n",
      "[WARN] unable to get value: sheet_name: MRIInjurySeverity value: - value_float:  value_int: \n",
      "[WARN] unable to float: val (1 Mild/<class 'str'>) e: could not convert string to float: '1 Mild'\n",
      "[WARN] unable to get value: sheet_name: MRIInjurySeverity value: 1 Mild value_float: 1 Mild value_int: 1 Mild\n",
      "[WARN] unable to float: val (1 Mild/<class 'str'>) e: could not convert string to float: '1 Mild'\n",
      "[WARN] unable to get value: sheet_name: MRIInjurySeverity value: 1 Mild value_float: 1 Mild value_int: 1 Mild\n",
      "[WARN] unable to float: val (1 Mild/<class 'str'>) e: could not convert string to float: '1 Mild'\n",
      "[WARN] unable to get value: sheet_name: MRIInjurySeverity value: 1 Mild value_float: 1 Mild value_int: 1 Mild\n",
      "[WARN] unable to float: val (4 None/<class 'str'>) e: could not convert string to float: '4 None'\n",
      "[WARN] unable to get value: sheet_name: MRIInjurySeverity value: 4 None value_float: 4 None value_int: 4 None\n",
      "[WARN] unable to float: val (4 None/<class 'str'>) e: could not convert string to float: '4 None'\n",
      "[WARN] unable to get value: sheet_name: MRIInjurySeverity value: 4 None value_float: 4 None value_int: 4 None\n",
      "[WARN] unable to float: val (4 None/<class 'str'>) e: could not convert string to float: '4 None'\n",
      "[WARN] unable to get value: sheet_name: MRIInjurySeverity value: 4 None value_float: 4 None value_int: 4 None\n",
      "[WARN] unable to float: val (1 Mild/<class 'str'>) e: could not convert string to float: '1 Mild'\n",
      "[WARN] unable to get value: sheet_name: MRIInjurySeverity value: 1 Mild value_float: 1 Mild value_int: 1 Mild\n",
      "[WARN] unable to float: val (1 Mild/<class 'str'>) e: could not convert string to float: '1 Mild'\n",
      "[WARN] unable to get value: sheet_name: MRIInjurySeverity value: 1 Mild value_float: 1 Mild value_int: 1 Mild\n",
      "[WARN] unable to float: val (4 None/<class 'str'>) e: could not convert string to float: '4 None'\n",
      "[WARN] unable to get value: sheet_name: MRIInjurySeverity value: 4 None value_float: 4 None value_int: 4 None\n",
      "[WARN] unable to float: val (1 Mild/<class 'str'>) e: could not convert string to float: '1 Mild'\n",
      "[WARN] unable to get value: sheet_name: MRIInjurySeverity value: 1 Mild value_float: 1 Mild value_int: 1 Mild\n",
      "[WARN] unable to float: val (1 Mild/<class 'str'>) e: could not convert string to float: '1 Mild'\n",
      "[WARN] unable to get value: sheet_name: MRIInjurySeverity value: 1 Mild value_float: 1 Mild value_int: 1 Mild\n",
      "[WARN] unable to float: val (1 Mild/<class 'str'>) e: could not convert string to float: '1 Mild'\n",
      "[WARN] unable to get value: sheet_name: MRIInjurySeverity value: 1 Mild value_float: 1 Mild value_int: 1 Mild\n",
      "[WARN] unable to get value: sheet_name: MRIInjurySeverity value: - value_float:  value_int: \n",
      "[WARN] unable to get value: sheet_name: MRIInjurySeverity value: - value_float:  value_int: \n",
      "[WARN] unable to get value: sheet_name: MRIInjurySeverity value: - value_float:  value_int: \n",
      "[WARN] unable to float: val (4 None/<class 'str'>) e: could not convert string to float: '4 None'\n",
      "[WARN] unable to get value: sheet_name: MRIInjurySeverity value: 4 None value_float: 4 None value_int: 4 None\n",
      "[WARN] unable to float: val (1 Mild/<class 'str'>) e: could not convert string to float: '1 Mild'\n",
      "[WARN] unable to get value: sheet_name: MRIInjurySeverity value: 1 Mild value_float: 1 Mild value_int: 1 Mild\n",
      "[WARN] unable to float: val (1 Mild/<class 'str'>) e: could not convert string to float: '1 Mild'\n",
      "[WARN] unable to get value: sheet_name: MRIInjurySeverity value: 1 Mild value_float: 1 Mild value_int: 1 Mild\n",
      "[WARN] unable to float: val (1 Mild/<class 'str'>) e: could not convert string to float: '1 Mild'\n",
      "[WARN] unable to get value: sheet_name: MRIInjurySeverity value: 1 Mild value_float: 1 Mild value_int: 1 Mild\n",
      "[WARN] unable to float: val (4 None/<class 'str'>) e: could not convert string to float: '4 None'\n",
      "[WARN] unable to get value: sheet_name: MRIInjurySeverity value: 4 None value_float: 4 None value_int: 4 None\n",
      "[WARN] unable to float: val (4 None/<class 'str'>) e: could not convert string to float: '4 None'\n",
      "[WARN] unable to get value: sheet_name: MRIInjurySeverity value: 4 None value_float: 4 None value_int: 4 None\n",
      "[WARN] unable to float: val (4 None/<class 'str'>) e: could not convert string to float: '4 None'\n",
      "[WARN] unable to get value: sheet_name: MRIInjurySeverity value: 4 None value_float: 4 None value_int: 4 None\n",
      "[WARN] unable to get value: sheet_name: MRIInjurySeverity value: - value_float:  value_int: \n",
      "[WARN] unable to get value: sheet_name: MRIInjurySeverity value: - value_float:  value_int: \n",
      "[WARN] unable to get value: sheet_name: MRIInjurySeverity value: - value_float:  value_int: \n",
      "[WARN] unable to float: val (4 None/<class 'str'>) e: could not convert string to float: '4 None'\n",
      "[WARN] unable to get value: sheet_name: MRIInjurySeverity value: 4 None value_float: 4 None value_int: 4 None\n",
      "[WARN] unable to float: val (4 None/<class 'str'>) e: could not convert string to float: '4 None'\n",
      "[WARN] unable to get value: sheet_name: MRIInjurySeverity value: 4 None value_float: 4 None value_int: 4 None\n",
      "[WARN] unable to float: val (4 None/<class 'str'>) e: could not convert string to float: '4 None'\n",
      "[WARN] unable to get value: sheet_name: MRIInjurySeverity value: 4 None value_float: 4 None value_int: 4 None\n",
      "[WARN] unable to float: val (4 None/<class 'str'>) e: could not convert string to float: '4 None'\n",
      "[WARN] unable to get value: sheet_name: MRIInjurySeverity value: 4 None value_float: 4 None value_int: 4 None\n",
      "[WARN] unable to float: val (4 None/<class 'str'>) e: could not convert string to float: '4 None'\n",
      "[WARN] unable to get value: sheet_name: MRIInjurySeverity value: 4 None value_float: 4 None value_int: 4 None\n",
      "[WARN] unable to float: val (4 None/<class 'str'>) e: could not convert string to float: '4 None'\n",
      "[WARN] unable to get value: sheet_name: MRIInjurySeverity value: 4 None value_float: 4 None value_int: 4 None\n",
      "[WARN] unable to get value: sheet_name: MRIInjurySeverity value: - value_float:  value_int: \n",
      "[WARN] unable to float: val (1 Mild/<class 'str'>) e: could not convert string to float: '1 Mild'\n",
      "[WARN] unable to get value: sheet_name: MRIInjurySeverity value: 1 Mild value_float: 1 Mild value_int: 1 Mild\n",
      "[WARN] unable to float: val (4 None/<class 'str'>) e: could not convert string to float: '4 None'\n",
      "[WARN] unable to get value: sheet_name: MRIInjurySeverity value: 4 None value_float: 4 None value_int: 4 None\n",
      "[WARN] unable to float: val (1 Mild/<class 'str'>) e: could not convert string to float: '1 Mild'\n",
      "[WARN] unable to get value: sheet_name: MRIInjurySeverity value: 1 Mild value_float: 1 Mild value_int: 1 Mild\n",
      "[WARN] unable to get value: sheet_name: MRIInjurySeverity value: - value_float:  value_int: \n",
      "[WARN] unable to float: val (4 None/<class 'str'>) e: could not convert string to float: '4 None'\n",
      "[WARN] unable to get value: sheet_name: MRIInjurySeverity value: 4 None value_float: 4 None value_int: 4 None\n",
      "[WARN] unable to get value: sheet_name: MRIInjurySeverity value: - value_float:  value_int: \n",
      "[WARN] unable to get value: sheet_name: MRIInjurySeverity value: - value_float:  value_int: \n",
      "[WARN] unable to get value: sheet_name: MRIInjurySeverity value: - value_float:  value_int: \n",
      "[WARN] unable to float: val (4 None/<class 'str'>) e: could not convert string to float: '4 None'\n",
      "[WARN] unable to get value: sheet_name: MRIInjurySeverity value: 4 None value_float: 4 None value_int: 4 None\n",
      "[WARN] unable to float: val (1 Mild/<class 'str'>) e: could not convert string to float: '1 Mild'\n",
      "[WARN] unable to get value: sheet_name: MRIInjurySeverity value: 1 Mild value_float: 1 Mild value_int: 1 Mild\n",
      "[WARN] unable to float: val (4 None/<class 'str'>) e: could not convert string to float: '4 None'\n",
      "[WARN] unable to get value: sheet_name: MRIInjurySeverity value: 4 None value_float: 4 None value_int: 4 None\n",
      "[WARN] unable to float: val (4 None/<class 'str'>) e: could not convert string to float: '4 None'\n",
      "[WARN] unable to get value: sheet_name: MRIInjurySeverity value: 4 None value_float: 4 None value_int: 4 None\n",
      "[WARN] unable to float: val (4 None/<class 'str'>) e: could not convert string to float: '4 None'\n",
      "[WARN] unable to get value: sheet_name: MRIInjurySeverity value: 4 None value_float: 4 None value_int: 4 None\n",
      "[WARN] unable to float: val (4 None/<class 'str'>) e: could not convert string to float: '4 None'\n",
      "[WARN] unable to get value: sheet_name: MRIInjurySeverity value: 4 None value_float: 4 None value_int: 4 None\n",
      "[WARN] unable to float: val (4 None/<class 'str'>) e: could not convert string to float: '4 None'\n",
      "[WARN] unable to get value: sheet_name: MRIInjurySeverity value: 4 None value_float: 4 None value_int: 4 None\n",
      "[WARN] unable to float: val (4 None/<class 'str'>) e: could not convert string to float: '4 None'\n",
      "[WARN] unable to get value: sheet_name: MRIInjurySeverity value: 4 None value_float: 4 None value_int: 4 None\n",
      "[WARN] unable to float: val (4 None/<class 'str'>) e: could not convert string to float: '4 None'\n",
      "[WARN] unable to get value: sheet_name: MRIInjurySeverity value: 4 None value_float: 4 None value_int: 4 None\n",
      "[WARN] unable to float: val (4 None/<class 'str'>) e: could not convert string to float: '4 None'\n",
      "[WARN] unable to get value: sheet_name: MRIInjurySeverity value: 4 None value_float: 4 None value_int: 4 None\n",
      "[WARN] unable to float: val (4 None/<class 'str'>) e: could not convert string to float: '4 None'\n",
      "[WARN] unable to get value: sheet_name: MRIInjurySeverity value: 4 None value_float: 4 None value_int: 4 None\n",
      "[WARN] unable to float: val (4 None/<class 'str'>) e: could not convert string to float: '4 None'\n",
      "[WARN] unable to get value: sheet_name: MRIInjurySeverity value: 4 None value_float: 4 None value_int: 4 None\n",
      "[WARN] unable to float: val (1 Mild/<class 'str'>) e: could not convert string to float: '1 Mild'\n",
      "[WARN] unable to get value: sheet_name: MRIInjurySeverity value: 1 Mild value_float: 1 Mild value_int: 1 Mild\n",
      "[WARN] unable to float: val (1 Mild/<class 'str'>) e: could not convert string to float: '1 Mild'\n",
      "[WARN] unable to get value: sheet_name: MRIInjurySeverity value: 1 Mild value_float: 1 Mild value_int: 1 Mild\n",
      "[WARN] unable to float: val (1 Mild/<class 'str'>) e: could not convert string to float: '1 Mild'\n",
      "[WARN] unable to get value: sheet_name: MRIInjurySeverity value: 1 Mild value_float: 1 Mild value_int: 1 Mild\n",
      "[WARN] unable to float: val (1 Mild/<class 'str'>) e: could not convert string to float: '1 Mild'\n",
      "[WARN] unable to get value: sheet_name: MRIInjurySeverity value: 1 Mild value_float: 1 Mild value_int: 1 Mild\n",
      "[WARN] unable to float: val (1 Mild/<class 'str'>) e: could not convert string to float: '1 Mild'\n",
      "[WARN] unable to get value: sheet_name: MRIInjurySeverity value: 1 Mild value_float: 1 Mild value_int: 1 Mild\n",
      "[WARN] unable to float: val (1 Mild/<class 'str'>) e: could not convert string to float: '1 Mild'\n",
      "[WARN] unable to get value: sheet_name: MRIInjurySeverity value: 1 Mild value_float: 1 Mild value_int: 1 Mild\n",
      "[WARN] unable to float: val (4 None/<class 'str'>) e: could not convert string to float: '4 None'\n",
      "[WARN] unable to get value: sheet_name: MRIInjurySeverity value: 4 None value_float: 4 None value_int: 4 None\n",
      "[WARN] unable to get value: sheet_name: MRIInjurySeverity value: - value_float:  value_int: \n",
      "[WARN] unable to get value: sheet_name: MRIInjurySeverity value: - value_float:  value_int: \n",
      "[WARN] unable to get value: sheet_name: MRIInjurySeverity value: - value_float:  value_int: \n",
      "[WARN] unable to float: val (4 None/<class 'str'>) e: could not convert string to float: '4 None'\n",
      "[WARN] unable to get value: sheet_name: MRIInjurySeverity value: 4 None value_float: 4 None value_int: 4 None\n",
      "[WARN] unable to float: val (1 Mild/<class 'str'>) e: could not convert string to float: '1 Mild'\n",
      "[WARN] unable to get value: sheet_name: MRIInjurySeverity value: 1 Mild value_float: 1 Mild value_int: 1 Mild\n",
      "[WARN] unable to float: val (1 Mild/<class 'str'>) e: could not convert string to float: '1 Mild'\n",
      "[WARN] unable to get value: sheet_name: MRIInjurySeverity value: 1 Mild value_float: 1 Mild value_int: 1 Mild\n",
      "[WARN] unable to float: val (1 Mild/<class 'str'>) e: could not convert string to float: '1 Mild'\n",
      "[WARN] unable to get value: sheet_name: MRIInjurySeverity value: 1 Mild value_float: 1 Mild value_int: 1 Mild\n",
      "[WARN] unable to float: val (1 Mild/<class 'str'>) e: could not convert string to float: '1 Mild'\n",
      "[WARN] unable to get value: sheet_name: MRIInjurySeverity value: 1 Mild value_float: 1 Mild value_int: 1 Mild\n",
      "[WARN] unable to float: val (1 Mild/<class 'str'>) e: could not convert string to float: '1 Mild'\n",
      "[WARN] unable to get value: sheet_name: MRIInjurySeverity value: 1 Mild value_float: 1 Mild value_int: 1 Mild\n",
      "[WARN] unable to float: val (4 None/<class 'str'>) e: could not convert string to float: '4 None'\n",
      "[WARN] unable to get value: sheet_name: MRIInjurySeverity value: 4 None value_float: 4 None value_int: 4 None\n",
      "[WARN] unable to float: val (4 None/<class 'str'>) e: could not convert string to float: '4 None'\n",
      "[WARN] unable to get value: sheet_name: MRIInjurySeverity value: 4 None value_float: 4 None value_int: 4 None\n",
      "[WARN] unable to float: val (4 None/<class 'str'>) e: could not convert string to float: '4 None'\n",
      "[WARN] unable to get value: sheet_name: MRIInjurySeverity value: 4 None value_float: 4 None value_int: 4 None\n",
      "[WARN] unable to float: val (4 None/<class 'str'>) e: could not convert string to float: '4 None'\n",
      "[WARN] unable to get value: sheet_name: MRIInjurySeverity value: 4 None value_float: 4 None value_int: 4 None\n",
      "[WARN] unable to float: val (1 Mild/<class 'str'>) e: could not convert string to float: '1 Mild'\n",
      "[WARN] unable to get value: sheet_name: MRIInjurySeverity value: 1 Mild value_float: 1 Mild value_int: 1 Mild\n",
      "[WARN] unable to float: val (4 None/<class 'str'>) e: could not convert string to float: '4 None'\n",
      "[WARN] unable to get value: sheet_name: MRIInjurySeverity value: 4 None value_float: 4 None value_int: 4 None\n",
      "[WARN] unable to float: val (4 None/<class 'str'>) e: could not convert string to float: '4 None'\n",
      "[WARN] unable to get value: sheet_name: MRIInjurySeverity value: 4 None value_float: 4 None value_int: 4 None\n",
      "[WARN] unable to float: val (4 None/<class 'str'>) e: could not convert string to float: '4 None'\n",
      "[WARN] unable to get value: sheet_name: MRIInjurySeverity value: 4 None value_float: 4 None value_int: 4 None\n",
      "[WARN] unable to float: val (4 None/<class 'str'>) e: could not convert string to float: '4 None'\n",
      "[WARN] unable to get value: sheet_name: MRIInjurySeverity value: 4 None value_float: 4 None value_int: 4 None\n",
      "[WARN] unable to float: val (4 None/<class 'str'>) e: could not convert string to float: '4 None'\n",
      "[WARN] unable to get value: sheet_name: MRIInjurySeverity value: 4 None value_float: 4 None value_int: 4 None\n",
      "[WARN] unable to float: val (4 None/<class 'str'>) e: could not convert string to float: '4 None'\n",
      "[WARN] unable to get value: sheet_name: MRIInjurySeverity value: 4 None value_float: 4 None value_int: 4 None\n",
      "[WARN] unable to float: val (1 Mild/<class 'str'>) e: could not convert string to float: '1 Mild'\n",
      "[WARN] unable to get value: sheet_name: MRIInjurySeverity value: 1 Mild value_float: 1 Mild value_int: 1 Mild\n",
      "[WARN] unable to float: val (1 Mild/<class 'str'>) e: could not convert string to float: '1 Mild'\n",
      "[WARN] unable to get value: sheet_name: MRIInjurySeverity value: 1 Mild value_float: 1 Mild value_int: 1 Mild\n",
      "[WARN] unable to float: val (4 None/<class 'str'>) e: could not convert string to float: '4 None'\n",
      "[WARN] unable to get value: sheet_name: MRIInjurySeverity value: 4 None value_float: 4 None value_int: 4 None\n",
      "[WARN] unable to get value: sheet_name: MRIInjurySeverity value: - value_float:  value_int: \n",
      "[WARN] unable to get value: sheet_name: MRIInjurySeverity value: - value_float:  value_int: \n",
      "[WARN] unable to float: val (4 None/<class 'str'>) e: could not convert string to float: '4 None'\n",
      "[WARN] unable to get value: sheet_name: MRIInjurySeverity value: 4 None value_float: 4 None value_int: 4 None\n",
      "[WARN] unable to float: val (4 None/<class 'str'>) e: could not convert string to float: '4 None'\n",
      "[WARN] unable to get value: sheet_name: MRIInjurySeverity value: 4 None value_float: 4 None value_int: 4 None\n",
      "[WARN] unable to float: val (4 None/<class 'str'>) e: could not convert string to float: '4 None'\n",
      "[WARN] unable to get value: sheet_name: MRIInjurySeverity value: 4 None value_float: 4 None value_int: 4 None\n",
      "[WARN] unable to float: val (4 None/<class 'str'>) e: could not convert string to float: '4 None'\n",
      "[WARN] unable to get value: sheet_name: MRIInjurySeverity value: 4 None value_float: 4 None value_int: 4 None\n",
      "[WARN] unable to float: val (4 None/<class 'str'>) e: could not convert string to float: '4 None'\n",
      "[WARN] unable to get value: sheet_name: MRIInjurySeverity value: 4 None value_float: 4 None value_int: 4 None\n",
      "[WARN] unable to float: val (1 Mild/<class 'str'>) e: could not convert string to float: '1 Mild'\n",
      "[WARN] unable to get value: sheet_name: MRIInjurySeverity value: 1 Mild value_float: 1 Mild value_int: 1 Mild\n",
      "[WARN] unable to float: val (4 None/<class 'str'>) e: could not convert string to float: '4 None'\n",
      "[WARN] unable to get value: sheet_name: MRIInjurySeverity value: 4 None value_float: 4 None value_int: 4 None\n",
      "[WARN] unable to float: val (1 Mild/<class 'str'>) e: could not convert string to float: '1 Mild'\n",
      "[WARN] unable to get value: sheet_name: MRIInjurySeverity value: 1 Mild value_float: 1 Mild value_int: 1 Mild\n",
      "[WARN] unable to float: val (4 None/<class 'str'>) e: could not convert string to float: '4 None'\n",
      "[WARN] unable to get value: sheet_name: MRIInjurySeverity value: 4 None value_float: 4 None value_int: 4 None\n",
      "[WARN] unable to float: val (4 None/<class 'str'>) e: could not convert string to float: '4 None'\n",
      "[WARN] unable to get value: sheet_name: MRIInjurySeverity value: 4 None value_float: 4 None value_int: 4 None\n",
      "[WARN] unable to float: val (1 Mild/<class 'str'>) e: could not convert string to float: '1 Mild'\n",
      "[WARN] unable to get value: sheet_name: MRIInjurySeverity value: 1 Mild value_float: 1 Mild value_int: 1 Mild\n",
      "[WARN] unable to get value: sheet_name: MRIInjurySeverity value: - value_float:  value_int: \n",
      "[WARN] unable to float: val (4 None/<class 'str'>) e: could not convert string to float: '4 None'\n",
      "[WARN] unable to get value: sheet_name: MRIInjurySeverity value: 4 None value_float: 4 None value_int: 4 None\n",
      "[WARN] unable to float: val (4 None/<class 'str'>) e: could not convert string to float: '4 None'\n",
      "[WARN] unable to get value: sheet_name: MRIInjurySeverity value: 4 None value_float: 4 None value_int: 4 None\n",
      "[WARN] unable to float: val (4 None/<class 'str'>) e: could not convert string to float: '4 None'\n",
      "[WARN] unable to get value: sheet_name: MRIInjurySeverity value: 4 None value_float: 4 None value_int: 4 None\n",
      "[WARN] unable to float: val (4 None/<class 'str'>) e: could not convert string to float: '4 None'\n",
      "[WARN] unable to get value: sheet_name: MRIInjurySeverity value: 4 None value_float: 4 None value_int: 4 None\n",
      "[WARN] unable to float: val (4 None/<class 'str'>) e: could not convert string to float: '4 None'\n",
      "[WARN] unable to get value: sheet_name: MRIInjurySeverity value: 4 None value_float: 4 None value_int: 4 None\n",
      "[WARN] unable to float: val (4 None/<class 'str'>) e: could not convert string to float: '4 None'\n",
      "[WARN] unable to get value: sheet_name: MRIInjurySeverity value: 4 None value_float: 4 None value_int: 4 None\n",
      "[WARN] unable to float: val (4 None/<class 'str'>) e: could not convert string to float: '4 None'\n",
      "[WARN] unable to get value: sheet_name: MRIInjurySeverity value: 4 None value_float: 4 None value_int: 4 None\n",
      "[WARN] unable to float: val (4 None/<class 'str'>) e: could not convert string to float: '4 None'\n",
      "[WARN] unable to get value: sheet_name: MRIInjurySeverity value: 4 None value_float: 4 None value_int: 4 None\n",
      "[WARN] unable to float: val (4 None/<class 'str'>) e: could not convert string to float: '4 None'\n",
      "[WARN] unable to get value: sheet_name: MRIInjurySeverity value: 4 None value_float: 4 None value_int: 4 None\n",
      "[WARN] unable to float: val (1 Mild/<class 'str'>) e: could not convert string to float: '1 Mild'\n",
      "[WARN] unable to get value: sheet_name: MRIInjurySeverity value: 1 Mild value_float: 1 Mild value_int: 1 Mild\n",
      "[WARN] unable to float: val (1 Mild/<class 'str'>) e: could not convert string to float: '1 Mild'\n",
      "[WARN] unable to get value: sheet_name: MRIInjurySeverity value: 1 Mild value_float: 1 Mild value_int: 1 Mild\n",
      "[WARN] unable to float: val (1 Mild/<class 'str'>) e: could not convert string to float: '1 Mild'\n",
      "[WARN] unable to get value: sheet_name: MRIInjurySeverity value: 1 Mild value_float: 1 Mild value_int: 1 Mild\n",
      "[WARN] unable to get value: sheet_name: MRIInjurySeverity value: - value_float:  value_int: \n",
      "[WARN] unable to float: val (4 None/<class 'str'>) e: could not convert string to float: '4 None'\n",
      "[WARN] unable to get value: sheet_name: MRIInjurySeverity value: 4 None value_float: 4 None value_int: 4 None\n",
      "[WARN] unable to float: val (4 None/<class 'str'>) e: could not convert string to float: '4 None'\n",
      "[WARN] unable to get value: sheet_name: MRIInjurySeverity value: 4 None value_float: 4 None value_int: 4 None\n",
      "[WARN] unable to float: val (4 None/<class 'str'>) e: could not convert string to float: '4 None'\n",
      "[WARN] unable to get value: sheet_name: MRIInjurySeverity value: 4 None value_float: 4 None value_int: 4 None\n",
      "[WARN] unable to float: val (1 Mild/<class 'str'>) e: could not convert string to float: '1 Mild'\n",
      "[WARN] unable to get value: sheet_name: MRIInjurySeverity value: 1 Mild value_float: 1 Mild value_int: 1 Mild\n",
      "[WARN] unable to float: val (1 Mild/<class 'str'>) e: could not convert string to float: '1 Mild'\n",
      "[WARN] unable to get value: sheet_name: MRIInjurySeverity value: 1 Mild value_float: 1 Mild value_int: 1 Mild\n",
      "[WARN] unable to float: val (1 Mild/<class 'str'>) e: could not convert string to float: '1 Mild'\n",
      "[WARN] unable to get value: sheet_name: MRIInjurySeverity value: 1 Mild value_float: 1 Mild value_int: 1 Mild\n",
      "[WARN] unable to get value: sheet_name: MRIInjurySeverity value: - value_float:  value_int: \n",
      "[WARN] unable to float: val (4 None/<class 'str'>) e: could not convert string to float: '4 None'\n",
      "[WARN] unable to get value: sheet_name: MRIInjurySeverity value: 4 None value_float: 4 None value_int: 4 None\n",
      "[WARN] unable to float: val (4 None/<class 'str'>) e: could not convert string to float: '4 None'\n",
      "[WARN] unable to get value: sheet_name: MRIInjurySeverity value: 4 None value_float: 4 None value_int: 4 None\n",
      "[WARN] unable to float: val (4 None/<class 'str'>) e: could not convert string to float: '4 None'\n",
      "[WARN] unable to get value: sheet_name: MRIInjurySeverity value: 4 None value_float: 4 None value_int: 4 None\n",
      "[WARN] unable to float: val (4 None/<class 'str'>) e: could not convert string to float: '4 None'\n",
      "[WARN] unable to get value: sheet_name: MRIInjurySeverity value: 4 None value_float: 4 None value_int: 4 None\n",
      "[WARN] unable to float: val (4 None/<class 'str'>) e: could not convert string to float: '4 None'\n",
      "[WARN] unable to get value: sheet_name: MRIInjurySeverity value: 4 None value_float: 4 None value_int: 4 None\n",
      "[WARN] unable to float: val (1 Mild/<class 'str'>) e: could not convert string to float: '1 Mild'\n",
      "[WARN] unable to get value: sheet_name: MRIInjurySeverity value: 1 Mild value_float: 1 Mild value_int: 1 Mild\n",
      "[WARN] unable to get value: sheet_name: MRIInjurySeverity value: - value_float:  value_int: \n",
      "[WARN] unable to float: val (1 Mild/<class 'str'>) e: could not convert string to float: '1 Mild'\n",
      "[WARN] unable to get value: sheet_name: MRIInjurySeverity value: 1 Mild value_float: 1 Mild value_int: 1 Mild\n",
      "[WARN] unable to float: val (1 Mild/<class 'str'>) e: could not convert string to float: '1 Mild'\n",
      "[WARN] unable to get value: sheet_name: MRIInjurySeverity value: 1 Mild value_float: 1 Mild value_int: 1 Mild\n",
      "[WARN] unable to float: val (4 None/<class 'str'>) e: could not convert string to float: '4 None'\n",
      "[WARN] unable to get value: sheet_name: MRIInjurySeverity value: 4 None value_float: 4 None value_int: 4 None\n",
      "[WARN] unable to float: val (4 None/<class 'str'>) e: could not convert string to float: '4 None'\n",
      "[WARN] unable to get value: sheet_name: MRIInjurySeverity value: 4 None value_float: 4 None value_int: 4 None\n",
      "[WARN] unable to float: val (4 None/<class 'str'>) e: could not convert string to float: '4 None'\n",
      "[WARN] unable to get value: sheet_name: MRIInjurySeverity value: 4 None value_float: 4 None value_int: 4 None\n",
      "[WARN] unable to float: val (4 None/<class 'str'>) e: could not convert string to float: '4 None'\n",
      "[WARN] unable to get value: sheet_name: MRIInjurySeverity value: 4 None value_float: 4 None value_int: 4 None\n",
      "[WARN] unable to float: val (4 None/<class 'str'>) e: could not convert string to float: '4 None'\n",
      "[WARN] unable to get value: sheet_name: MRIInjurySeverity value: 4 None value_float: 4 None value_int: 4 None\n",
      "[WARN] unable to float: val (4 None/<class 'str'>) e: could not convert string to float: '4 None'\n",
      "[WARN] unable to get value: sheet_name: MRIInjurySeverity value: 4 None value_float: 4 None value_int: 4 None\n",
      "[WARN] unable to float: val (4 None/<class 'str'>) e: could not convert string to float: '4 None'\n",
      "[WARN] unable to get value: sheet_name: MRIInjurySeverity value: 4 None value_float: 4 None value_int: 4 None\n",
      "[WARN] unable to float: val (4 None/<class 'str'>) e: could not convert string to float: '4 None'\n",
      "[WARN] unable to get value: sheet_name: MRIInjurySeverity value: 4 None value_float: 4 None value_int: 4 None\n",
      "[WARN] unable to float: val (4 None/<class 'str'>) e: could not convert string to float: '4 None'\n",
      "[WARN] unable to get value: sheet_name: MRIInjurySeverity value: 4 None value_float: 4 None value_int: 4 None\n",
      "[WARN] unable to float: val (1 Mild/<class 'str'>) e: could not convert string to float: '1 Mild'\n",
      "[WARN] unable to get value: sheet_name: MRIInjurySeverity value: 1 Mild value_float: 1 Mild value_int: 1 Mild\n",
      "[WARN] unable to float: val (1 Mild/<class 'str'>) e: could not convert string to float: '1 Mild'\n",
      "[WARN] unable to get value: sheet_name: MRIInjurySeverity value: 1 Mild value_float: 1 Mild value_int: 1 Mild\n",
      "[WARN] unable to float: val (1 Mild/<class 'str'>) e: could not convert string to float: '1 Mild'\n",
      "[WARN] unable to get value: sheet_name: MRIInjurySeverity value: 1 Mild value_float: 1 Mild value_int: 1 Mild\n",
      "[WARN] unable to float: val (4 None/<class 'str'>) e: could not convert string to float: '4 None'\n",
      "[WARN] unable to get value: sheet_name: MRIInjurySeverity value: 4 None value_float: 4 None value_int: 4 None\n",
      "[WARN] unable to get value: sheet_name: MRIInjurySeverity value: - value_float:  value_int: \n",
      "[WARN] unable to get value: sheet_name: MRIInjurySeverity value: - value_float:  value_int: \n",
      "[WARN] unable to get value: sheet_name: MRIInjurySeverity value: - value_float:  value_int: \n",
      "[WARN] unable to float: val (1 Mild/<class 'str'>) e: could not convert string to float: '1 Mild'\n",
      "[WARN] unable to get value: sheet_name: MRIInjurySeverity value: 1 Mild value_float: 1 Mild value_int: 1 Mild\n",
      "[WARN] unable to float: val (1 Mild/<class 'str'>) e: could not convert string to float: '1 Mild'\n",
      "[WARN] unable to get value: sheet_name: MRIInjurySeverity value: 1 Mild value_float: 1 Mild value_int: 1 Mild\n",
      "[WARN] unable to float: val (1 Mild/<class 'str'>) e: could not convert string to float: '1 Mild'\n",
      "[WARN] unable to get value: sheet_name: MRIInjurySeverity value: 1 Mild value_float: 1 Mild value_int: 1 Mild\n",
      "[WARN] unable to float: val (1 Mild/<class 'str'>) e: could not convert string to float: '1 Mild'\n",
      "[WARN] unable to get value: sheet_name: MRIInjurySeverity value: 1 Mild value_float: 1 Mild value_int: 1 Mild\n",
      "[WARN] unable to float: val (1 Mild/<class 'str'>) e: could not convert string to float: '1 Mild'\n",
      "[WARN] unable to get value: sheet_name: MRIInjurySeverity value: 1 Mild value_float: 1 Mild value_int: 1 Mild\n",
      "[WARN] unable to float: val (1 Mild/<class 'str'>) e: could not convert string to float: '1 Mild'\n",
      "[WARN] unable to get value: sheet_name: MRIInjurySeverity value: 1 Mild value_float: 1 Mild value_int: 1 Mild\n",
      "[WARN] unable to float: val (1 Mild/<class 'str'>) e: could not convert string to float: '1 Mild'\n",
      "[WARN] unable to get value: sheet_name: MRIInjurySeverity value: 1 Mild value_float: 1 Mild value_int: 1 Mild\n",
      "[WARN] unable to float: val (1 Mild/<class 'str'>) e: could not convert string to float: '1 Mild'\n",
      "[WARN] unable to get value: sheet_name: MRIInjurySeverity value: 1 Mild value_float: 1 Mild value_int: 1 Mild\n",
      "[WARN] unable to float: val (4 None/<class 'str'>) e: could not convert string to float: '4 None'\n",
      "[WARN] unable to get value: sheet_name: MRIInjurySeverity value: 4 None value_float: 4 None value_int: 4 None\n",
      "[WARN] unable to float: val (4 None/<class 'str'>) e: could not convert string to float: '4 None'\n",
      "[WARN] unable to get value: sheet_name: MRIInjurySeverity value: 4 None value_float: 4 None value_int: 4 None\n",
      "[WARN] unable to float: val (4 None/<class 'str'>) e: could not convert string to float: '4 None'\n",
      "[WARN] unable to get value: sheet_name: MRIInjurySeverity value: 4 None value_float: 4 None value_int: 4 None\n",
      "[WARN] unable to float: val (4 None/<class 'str'>) e: could not convert string to float: '4 None'\n",
      "[WARN] unable to get value: sheet_name: MRIInjurySeverity value: 4 None value_float: 4 None value_int: 4 None\n",
      "[WARN] unable to float: val (4 None/<class 'str'>) e: could not convert string to float: '4 None'\n",
      "[WARN] unable to get value: sheet_name: MRIInjurySeverity value: 4 None value_float: 4 None value_int: 4 None\n",
      "[WARN] unable to float: val (4 None/<class 'str'>) e: could not convert string to float: '4 None'\n",
      "[WARN] unable to get value: sheet_name: MRIInjurySeverity value: 4 None value_float: 4 None value_int: 4 None\n",
      "[WARN] unable to get value: sheet_name: MRIInjurySeverity value: - value_float:  value_int: \n",
      "[WARN] unable to get value: sheet_name: MRIInjurySeverity value: - value_float:  value_int: \n",
      "[WARN] unable to get value: sheet_name: MRIInjurySeverity value: - value_float:  value_int: \n",
      "[WARN] unable to float: val (1 Mild/<class 'str'>) e: could not convert string to float: '1 Mild'\n",
      "[WARN] unable to get value: sheet_name: MRIInjurySeverity value: 1 Mild value_float: 1 Mild value_int: 1 Mild\n",
      "[WARN] unable to float: val (1 Mild/<class 'str'>) e: could not convert string to float: '1 Mild'\n",
      "[WARN] unable to get value: sheet_name: MRIInjurySeverity value: 1 Mild value_float: 1 Mild value_int: 1 Mild\n",
      "[WARN] unable to float: val (1 Mild/<class 'str'>) e: could not convert string to float: '1 Mild'\n",
      "[WARN] unable to get value: sheet_name: MRIInjurySeverity value: 1 Mild value_float: 1 Mild value_int: 1 Mild\n",
      "[WARN] unable to float: val (4 None/<class 'str'>) e: could not convert string to float: '4 None'\n",
      "[WARN] unable to get value: sheet_name: MRIInjurySeverity value: 4 None value_float: 4 None value_int: 4 None\n",
      "[WARN] unable to float: val (4 None/<class 'str'>) e: could not convert string to float: '4 None'\n",
      "[WARN] unable to get value: sheet_name: MRIInjurySeverity value: 4 None value_float: 4 None value_int: 4 None\n",
      "[WARN] unable to float: val (4 None/<class 'str'>) e: could not convert string to float: '4 None'\n",
      "[WARN] unable to get value: sheet_name: MRIInjurySeverity value: 4 None value_float: 4 None value_int: 4 None\n",
      "[WARN] unable to float: val (1 Mild/<class 'str'>) e: could not convert string to float: '1 Mild'\n",
      "[WARN] unable to get value: sheet_name: MRIInjurySeverity value: 1 Mild value_float: 1 Mild value_int: 1 Mild\n",
      "[WARN] unable to float: val (4 None/<class 'str'>) e: could not convert string to float: '4 None'\n",
      "[WARN] unable to get value: sheet_name: MRIInjurySeverity value: 4 None value_float: 4 None value_int: 4 None\n",
      "[WARN] unable to float: val (4 None/<class 'str'>) e: could not convert string to float: '4 None'\n",
      "[WARN] unable to get value: sheet_name: MRIInjurySeverity value: 4 None value_float: 4 None value_int: 4 None\n",
      "[WARN] unable to float: val (1 Mild/<class 'str'>) e: could not convert string to float: '1 Mild'\n",
      "[WARN] unable to get value: sheet_name: MRIInjurySeverity value: 1 Mild value_float: 1 Mild value_int: 1 Mild\n",
      "[WARN] unable to float: val (1 Mild/<class 'str'>) e: could not convert string to float: '1 Mild'\n",
      "[WARN] unable to get value: sheet_name: MRIInjurySeverity value: 1 Mild value_float: 1 Mild value_int: 1 Mild\n",
      "[WARN] unable to float: val (1 Mild/<class 'str'>) e: could not convert string to float: '1 Mild'\n",
      "[WARN] unable to get value: sheet_name: MRIInjurySeverity value: 1 Mild value_float: 1 Mild value_int: 1 Mild\n",
      "[WARN] unable to float: val (1 Mild/<class 'str'>) e: could not convert string to float: '1 Mild'\n",
      "[WARN] unable to get value: sheet_name: MRIInjurySeverity value: 1 Mild value_float: 1 Mild value_int: 1 Mild\n",
      "[WARN] unable to float: val (4 None/<class 'str'>) e: could not convert string to float: '4 None'\n",
      "[WARN] unable to get value: sheet_name: MRIInjurySeverity value: 4 None value_float: 4 None value_int: 4 None\n",
      "[WARN] unable to float: val (4 None/<class 'str'>) e: could not convert string to float: '4 None'\n",
      "[WARN] unable to get value: sheet_name: MRIInjurySeverity value: 4 None value_float: 4 None value_int: 4 None\n",
      "[WARN] unable to float: val (4 None/<class 'str'>) e: could not convert string to float: '4 None'\n",
      "[WARN] unable to get value: sheet_name: MRIInjurySeverity value: 4 None value_float: 4 None value_int: 4 None\n",
      "[WARN] unable to float: val (4 None/<class 'str'>) e: could not convert string to float: '4 None'\n",
      "[WARN] unable to get value: sheet_name: MRIInjurySeverity value: 4 None value_float: 4 None value_int: 4 None\n",
      "[WARN] unable to float: val (4 None/<class 'str'>) e: could not convert string to float: '4 None'\n",
      "[WARN] unable to get value: sheet_name: MRIInjurySeverity value: 4 None value_float: 4 None value_int: 4 None\n",
      "[WARN] unable to float: val (4 None/<class 'str'>) e: could not convert string to float: '4 None'\n",
      "[WARN] unable to get value: sheet_name: MRIInjurySeverity value: 4 None value_float: 4 None value_int: 4 None\n",
      "[WARN] unable to float: val (4 None/<class 'str'>) e: could not convert string to float: '4 None'\n",
      "[WARN] unable to get value: sheet_name: MRIInjurySeverity value: 4 None value_float: 4 None value_int: 4 None\n",
      "[WARN] unable to float: val (4 None/<class 'str'>) e: could not convert string to float: '4 None'\n",
      "[WARN] unable to get value: sheet_name: MRIInjurySeverity value: 4 None value_float: 4 None value_int: 4 None\n",
      "[WARN] unable to get value: sheet_name: MRIInjurySeverity value: - value_float:  value_int: \n",
      "[WARN] unable to get value: sheet_name: MRIInjurySeverity value: - value_float:  value_int: \n",
      "[WARN] unable to float: val (1 Mild/<class 'str'>) e: could not convert string to float: '1 Mild'\n",
      "[WARN] unable to get value: sheet_name: MRIInjurySeverity value: 1 Mild value_float: 1 Mild value_int: 1 Mild\n",
      "[WARN] unable to float: val (1 Mild/<class 'str'>) e: could not convert string to float: '1 Mild'\n",
      "[WARN] unable to get value: sheet_name: MRIInjurySeverity value: 1 Mild value_float: 1 Mild value_int: 1 Mild\n",
      "[WARN] unable to float: val (1 Mild/<class 'str'>) e: could not convert string to float: '1 Mild'\n",
      "[WARN] unable to get value: sheet_name: MRIInjurySeverity value: 1 Mild value_float: 1 Mild value_int: 1 Mild\n",
      "[WARN] unable to float: val (4 None/<class 'str'>) e: could not convert string to float: '4 None'\n",
      "[WARN] unable to get value: sheet_name: MRIInjurySeverity value: 4 None value_float: 4 None value_int: 4 None\n",
      "[WARN] unable to float: val (4 None/<class 'str'>) e: could not convert string to float: '4 None'\n",
      "[WARN] unable to get value: sheet_name: MRIInjurySeverity value: 4 None value_float: 4 None value_int: 4 None\n",
      "[WARN] unable to get value: sheet_name: MRIInjurySeverity value: - value_float:  value_int: \n",
      "[WARN] unable to get value: sheet_name: MRIInjurySeverity value: - value_float:  value_int: \n",
      "[WARN] unable to float: val (1 Mild/<class 'str'>) e: could not convert string to float: '1 Mild'\n",
      "[WARN] unable to get value: sheet_name: MRIInjurySeverity value: 1 Mild value_float: 1 Mild value_int: 1 Mild\n",
      "[WARN] unable to float: val (4 None/<class 'str'>) e: could not convert string to float: '4 None'\n",
      "[WARN] unable to get value: sheet_name: MRIInjurySeverity value: 4 None value_float: 4 None value_int: 4 None\n",
      "[WARN] unable to get value: sheet_name: MRIInjurySeverity value: - value_float:  value_int: \n",
      "[WARN] unable to float: val (4 None/<class 'str'>) e: could not convert string to float: '4 None'\n",
      "[WARN] unable to get value: sheet_name: MRIInjurySeverity value: 4 None value_float: 4 None value_int: 4 None\n",
      "[WARN] unable to float: val (1 Mild/<class 'str'>) e: could not convert string to float: '1 Mild'\n",
      "[WARN] unable to get value: sheet_name: MRIInjurySeverity value: 1 Mild value_float: 1 Mild value_int: 1 Mild\n",
      "[WARN] unable to float: val (1 Mild/<class 'str'>) e: could not convert string to float: '1 Mild'\n",
      "[WARN] unable to get value: sheet_name: MRIInjurySeverity value: 1 Mild value_float: 1 Mild value_int: 1 Mild\n",
      "[WARN] unable to float: val (1 Mild/<class 'str'>) e: could not convert string to float: '1 Mild'\n",
      "[WARN] unable to get value: sheet_name: MRIInjurySeverity value: 1 Mild value_float: 1 Mild value_int: 1 Mild\n",
      "[WARN] unable to float: val (1 Mild/<class 'str'>) e: could not convert string to float: '1 Mild'\n",
      "[WARN] unable to get value: sheet_name: MRIInjurySeverity value: 1 Mild value_float: 1 Mild value_int: 1 Mild\n",
      "[WARN] unable to float: val (1 Mild/<class 'str'>) e: could not convert string to float: '1 Mild'\n",
      "[WARN] unable to get value: sheet_name: MRIInjurySeverity value: 1 Mild value_float: 1 Mild value_int: 1 Mild\n",
      "[WARN] unable to float: val (4 None/<class 'str'>) e: could not convert string to float: '4 None'\n",
      "[WARN] unable to get value: sheet_name: MRIInjurySeverity value: 4 None value_float: 4 None value_int: 4 None\n",
      "[WARN] unable to float: val (4 None/<class 'str'>) e: could not convert string to float: '4 None'\n",
      "[WARN] unable to get value: sheet_name: MRIInjurySeverity value: 4 None value_float: 4 None value_int: 4 None\n",
      "[WARN] unable to float: val (4 None/<class 'str'>) e: could not convert string to float: '4 None'\n",
      "[WARN] unable to get value: sheet_name: MRIInjurySeverity value: 4 None value_float: 4 None value_int: 4 None\n",
      "[WARN] unable to float: val (1 Mild/<class 'str'>) e: could not convert string to float: '1 Mild'\n",
      "[WARN] unable to get value: sheet_name: MRIInjurySeverity value: 1 Mild value_float: 1 Mild value_int: 1 Mild\n",
      "[WARN] unable to float: val (1 Mild/<class 'str'>) e: could not convert string to float: '1 Mild'\n",
      "[WARN] unable to get value: sheet_name: MRIInjurySeverity value: 1 Mild value_float: 1 Mild value_int: 1 Mild\n",
      "[WARN] unable to float: val (1 Mild/<class 'str'>) e: could not convert string to float: '1 Mild'\n",
      "[WARN] unable to get value: sheet_name: MRIInjurySeverity value: 1 Mild value_float: 1 Mild value_int: 1 Mild\n",
      "[WARN] unable to float: val (1 Mild/<class 'str'>) e: could not convert string to float: '1 Mild'\n",
      "[WARN] unable to get value: sheet_name: MRIInjurySeverity value: 1 Mild value_float: 1 Mild value_int: 1 Mild\n",
      "[WARN] unable to float: val (1 Mild/<class 'str'>) e: could not convert string to float: '1 Mild'\n",
      "[WARN] unable to get value: sheet_name: MRIInjurySeverity value: 1 Mild value_float: 1 Mild value_int: 1 Mild\n",
      "[WARN] unable to float: val (1 Mild/<class 'str'>) e: could not convert string to float: '1 Mild'\n",
      "[WARN] unable to get value: sheet_name: MRIInjurySeverity value: 1 Mild value_float: 1 Mild value_int: 1 Mild\n",
      "[WARN] unable to float: val (4 None/<class 'str'>) e: could not convert string to float: '4 None'\n",
      "[WARN] unable to get value: sheet_name: MRIInjurySeverity value: 4 None value_float: 4 None value_int: 4 None\n",
      "[WARN] unable to float: val (4 None/<class 'str'>) e: could not convert string to float: '4 None'\n",
      "[WARN] unable to get value: sheet_name: MRIInjurySeverity value: 4 None value_float: 4 None value_int: 4 None\n",
      "[WARN] unable to float: val (4 None/<class 'str'>) e: could not convert string to float: '4 None'\n",
      "[WARN] unable to get value: sheet_name: MRIInjurySeverity value: 4 None value_float: 4 None value_int: 4 None\n",
      "[WARN] unable to float: val (1 Mild/<class 'str'>) e: could not convert string to float: '1 Mild'\n",
      "[WARN] unable to get value: sheet_name: MRIInjurySeverity value: 1 Mild value_float: 1 Mild value_int: 1 Mild\n",
      "[WARN] unable to float: val (4 None/<class 'str'>) e: could not convert string to float: '4 None'\n",
      "[WARN] unable to get value: sheet_name: MRIInjurySeverity value: 4 None value_float: 4 None value_int: 4 None\n",
      "[WARN] unable to float: val (4 None/<class 'str'>) e: could not convert string to float: '4 None'\n",
      "[WARN] unable to get value: sheet_name: MRIInjurySeverity value: 4 None value_float: 4 None value_int: 4 None\n",
      "[WARN] unable to float: val (4 None/<class 'str'>) e: could not convert string to float: '4 None'\n",
      "[WARN] unable to get value: sheet_name: MRIInjurySeverity value: 4 None value_float: 4 None value_int: 4 None\n",
      "[WARN] unable to float: val (4 None/<class 'str'>) e: could not convert string to float: '4 None'\n",
      "[WARN] unable to get value: sheet_name: MRIInjurySeverity value: 4 None value_float: 4 None value_int: 4 None\n",
      "[WARN] unable to float: val (4 None/<class 'str'>) e: could not convert string to float: '4 None'\n",
      "[WARN] unable to get value: sheet_name: MRIInjurySeverity value: 4 None value_float: 4 None value_int: 4 None\n",
      "[WARN] unable to float: val (4 None/<class 'str'>) e: could not convert string to float: '4 None'\n",
      "[WARN] unable to get value: sheet_name: MRIInjurySeverity value: 4 None value_float: 4 None value_int: 4 None\n",
      "[WARN] unable to float: val (4 None/<class 'str'>) e: could not convert string to float: '4 None'\n",
      "[WARN] unable to get value: sheet_name: MRIInjurySeverity value: 4 None value_float: 4 None value_int: 4 None\n",
      "[WARN] unable to float: val (4 None/<class 'str'>) e: could not convert string to float: '4 None'\n",
      "[WARN] unable to get value: sheet_name: MRIInjurySeverity value: 4 None value_float: 4 None value_int: 4 None\n",
      "[WARN] unable to float: val (4 None/<class 'str'>) e: could not convert string to float: '4 None'\n",
      "[WARN] unable to get value: sheet_name: MRIInjurySeverity value: 4 None value_float: 4 None value_int: 4 None\n",
      "[WARN] unable to float: val (1 Mild/<class 'str'>) e: could not convert string to float: '1 Mild'\n",
      "[WARN] unable to get value: sheet_name: MRIInjurySeverity value: 1 Mild value_float: 1 Mild value_int: 1 Mild\n",
      "[WARN] unable to float: val (1 Mild/<class 'str'>) e: could not convert string to float: '1 Mild'\n",
      "[WARN] unable to get value: sheet_name: MRIInjurySeverity value: 1 Mild value_float: 1 Mild value_int: 1 Mild\n",
      "[WARN] unable to float: val (1 Mild/<class 'str'>) e: could not convert string to float: '1 Mild'\n",
      "[WARN] unable to get value: sheet_name: MRIInjurySeverity value: 1 Mild value_float: 1 Mild value_int: 1 Mild\n",
      "[WARN] unable to float: val (1 Mild/<class 'str'>) e: could not convert string to float: '1 Mild'\n",
      "[WARN] unable to get value: sheet_name: MRIInjurySeverity value: 1 Mild value_float: 1 Mild value_int: 1 Mild\n",
      "[WARN] unable to float: val (1 Mild/<class 'str'>) e: could not convert string to float: '1 Mild'\n",
      "[WARN] unable to get value: sheet_name: MRIInjurySeverity value: 1 Mild value_float: 1 Mild value_int: 1 Mild\n",
      "[WARN] unable to float: val (4 None/<class 'str'>) e: could not convert string to float: '4 None'\n",
      "[WARN] unable to get value: sheet_name: MRIInjurySeverity value: 4 None value_float: 4 None value_int: 4 None\n",
      "[WARN] unable to float: val (4 None/<class 'str'>) e: could not convert string to float: '4 None'\n",
      "[WARN] unable to get value: sheet_name: MRIInjurySeverity value: 4 None value_float: 4 None value_int: 4 None\n",
      "[WARN] unable to float: val (4 None/<class 'str'>) e: could not convert string to float: '4 None'\n",
      "[WARN] unable to get value: sheet_name: MRIInjurySeverity value: 4 None value_float: 4 None value_int: 4 None\n",
      "[WARN] unable to float: val (1 Mild/<class 'str'>) e: could not convert string to float: '1 Mild'\n",
      "[WARN] unable to get value: sheet_name: MRIInjurySeverity value: 1 Mild value_float: 1 Mild value_int: 1 Mild\n",
      "[WARN] unable to float: val (4 None/<class 'str'>) e: could not convert string to float: '4 None'\n",
      "[WARN] unable to get value: sheet_name: MRIInjurySeverity value: 4 None value_float: 4 None value_int: 4 None\n",
      "[WARN] unable to float: val (4 None/<class 'str'>) e: could not convert string to float: '4 None'\n",
      "[WARN] unable to get value: sheet_name: MRIInjurySeverity value: 4 None value_float: 4 None value_int: 4 None\n",
      "[WARN] unable to float: val (4 None/<class 'str'>) e: could not convert string to float: '4 None'\n",
      "[WARN] unable to get value: sheet_name: MRIInjurySeverity value: 4 None value_float: 4 None value_int: 4 None\n",
      "[WARN] unable to float: val (4 None/<class 'str'>) e: could not convert string to float: '4 None'\n",
      "[WARN] unable to get value: sheet_name: MRIInjurySeverity value: 4 None value_float: 4 None value_int: 4 None\n",
      "[WARN] unable to float: val (4 None/<class 'str'>) e: could not convert string to float: '4 None'\n",
      "[WARN] unable to get value: sheet_name: MRIInjurySeverity value: 4 None value_float: 4 None value_int: 4 None\n",
      "[WARN] unable to float: val (4 None/<class 'str'>) e: could not convert string to float: '4 None'\n",
      "[WARN] unable to get value: sheet_name: MRIInjurySeverity value: 4 None value_float: 4 None value_int: 4 None\n",
      "[WARN] unable to get value: sheet_name: MRIInjurySeverity value: - value_float:  value_int: \n",
      "[WARN] unable to get value: sheet_name: MRIInjurySeverity value: - value_float:  value_int: \n",
      "[WARN] unable to float: val (4 None/<class 'str'>) e: could not convert string to float: '4 None'\n",
      "[WARN] unable to get value: sheet_name: MRIInjurySeverity value: 4 None value_float: 4 None value_int: 4 None\n",
      "[WARN] unable to float: val (4 None/<class 'str'>) e: could not convert string to float: '4 None'\n",
      "[WARN] unable to get value: sheet_name: MRIInjurySeverity value: 4 None value_float: 4 None value_int: 4 None\n",
      "[WARN] unable to float: val (4 None/<class 'str'>) e: could not convert string to float: '4 None'\n",
      "[WARN] unable to get value: sheet_name: MRIInjurySeverity value: 4 None value_float: 4 None value_int: 4 None\n",
      "[WARN] unable to get value: sheet_name: MRIInjurySeverity value: - value_float:  value_int: \n",
      "[WARN] unable to float: val (1 Mild/<class 'str'>) e: could not convert string to float: '1 Mild'\n",
      "[WARN] unable to get value: sheet_name: MRIInjurySeverity value: 1 Mild value_float: 1 Mild value_int: 1 Mild\n",
      "[WARN] unable to float: val (1 Mild/<class 'str'>) e: could not convert string to float: '1 Mild'\n",
      "[WARN] unable to get value: sheet_name: MRIInjurySeverity value: 1 Mild value_float: 1 Mild value_int: 1 Mild\n",
      "[WARN] unable to float: val (1 Mild/<class 'str'>) e: could not convert string to float: '1 Mild'\n",
      "[WARN] unable to get value: sheet_name: MRIInjurySeverity value: 1 Mild value_float: 1 Mild value_int: 1 Mild\n",
      "[WARN] unable to float: val (4 None/<class 'str'>) e: could not convert string to float: '4 None'\n",
      "[WARN] unable to get value: sheet_name: MRIInjurySeverity value: 4 None value_float: 4 None value_int: 4 None\n",
      "[WARN] unable to float: val (4 None/<class 'str'>) e: could not convert string to float: '4 None'\n",
      "[WARN] unable to get value: sheet_name: MRIInjurySeverity value: 4 None value_float: 4 None value_int: 4 None\n",
      "[WARN] unable to float: val (4 None/<class 'str'>) e: could not convert string to float: '4 None'\n",
      "[WARN] unable to get value: sheet_name: MRIInjurySeverity value: 4 None value_float: 4 None value_int: 4 None\n",
      "[WARN] unable to float: val (1 Mild/<class 'str'>) e: could not convert string to float: '1 Mild'\n",
      "[WARN] unable to get value: sheet_name: MRIInjurySeverity value: 1 Mild value_float: 1 Mild value_int: 1 Mild\n",
      "[WARN] unable to float: val (1 Mild/<class 'str'>) e: could not convert string to float: '1 Mild'\n",
      "[WARN] unable to get value: sheet_name: MRIInjurySeverity value: 1 Mild value_float: 1 Mild value_int: 1 Mild\n",
      "[WARN] unable to float: val (4 None/<class 'str'>) e: could not convert string to float: '4 None'\n",
      "[WARN] unable to get value: sheet_name: MRIInjurySeverity value: 4 None value_float: 4 None value_int: 4 None\n",
      "[WARN] unable to float: val (4 None/<class 'str'>) e: could not convert string to float: '4 None'\n",
      "[WARN] unable to get value: sheet_name: MRIInjurySeverity value: 4 None value_float: 4 None value_int: 4 None\n",
      "[WARN] unable to float: val (4 None/<class 'str'>) e: could not convert string to float: '4 None'\n",
      "[WARN] unable to get value: sheet_name: MRIInjurySeverity value: 4 None value_float: 4 None value_int: 4 None\n",
      "[WARN] unable to float: val (4 None/<class 'str'>) e: could not convert string to float: '4 None'\n",
      "[WARN] unable to get value: sheet_name: MRIInjurySeverity value: 4 None value_float: 4 None value_int: 4 None\n",
      "[WARN] unable to float: val (1 Mild/<class 'str'>) e: could not convert string to float: '1 Mild'\n",
      "[WARN] unable to get value: sheet_name: MRIInjurySeverity value: 1 Mild value_float: 1 Mild value_int: 1 Mild\n",
      "[WARN] unable to float: val (1 Mild/<class 'str'>) e: could not convert string to float: '1 Mild'\n",
      "[WARN] unable to get value: sheet_name: MRIInjurySeverity value: 1 Mild value_float: 1 Mild value_int: 1 Mild\n",
      "[WARN] unable to float: val (1 Mild/<class 'str'>) e: could not convert string to float: '1 Mild'\n",
      "[WARN] unable to get value: sheet_name: MRIInjurySeverity value: 1 Mild value_float: 1 Mild value_int: 1 Mild\n",
      "[WARN] unable to get value: sheet_name: MRIInjurySeverity value: - value_float:  value_int: \n",
      "[WARN] unable to float: val (4 None/<class 'str'>) e: could not convert string to float: '4 None'\n",
      "[WARN] unable to get value: sheet_name: MRIInjurySeverity value: 4 None value_float: 4 None value_int: 4 None\n",
      "[WARN] unable to float: val (4 None/<class 'str'>) e: could not convert string to float: '4 None'\n",
      "[WARN] unable to get value: sheet_name: MRIInjurySeverity value: 4 None value_float: 4 None value_int: 4 None\n",
      "[WARN] unable to float: val (4 None/<class 'str'>) e: could not convert string to float: '4 None'\n",
      "[WARN] unable to get value: sheet_name: MRIInjurySeverity value: 4 None value_float: 4 None value_int: 4 None\n",
      "[WARN] unable to float: val (4 None/<class 'str'>) e: could not convert string to float: '4 None'\n",
      "[WARN] unable to get value: sheet_name: MRIInjurySeverity value: 4 None value_float: 4 None value_int: 4 None\n",
      "[WARN] unable to float: val (4 None/<class 'str'>) e: could not convert string to float: '4 None'\n",
      "[WARN] unable to get value: sheet_name: MRIInjurySeverity value: 4 None value_float: 4 None value_int: 4 None\n",
      "[WARN] unable to float: val (4 None/<class 'str'>) e: could not convert string to float: '4 None'\n",
      "[WARN] unable to get value: sheet_name: MRIInjurySeverity value: 4 None value_float: 4 None value_int: 4 None\n",
      "[WARN] unable to float: val (4 None/<class 'str'>) e: could not convert string to float: '4 None'\n",
      "[WARN] unable to get value: sheet_name: MRIInjurySeverity value: 4 None value_float: 4 None value_int: 4 None\n",
      "[WARN] unable to float: val (1 Mild/<class 'str'>) e: could not convert string to float: '1 Mild'\n",
      "[WARN] unable to get value: sheet_name: MRIInjurySeverity value: 1 Mild value_float: 1 Mild value_int: 1 Mild\n",
      "[WARN] unable to float: val (4 None/<class 'str'>) e: could not convert string to float: '4 None'\n",
      "[WARN] unable to get value: sheet_name: MRIInjurySeverity value: 4 None value_float: 4 None value_int: 4 None\n",
      "[WARN] unable to float: val (4 None/<class 'str'>) e: could not convert string to float: '4 None'\n",
      "[WARN] unable to get value: sheet_name: MRIInjurySeverity value: 4 None value_float: 4 None value_int: 4 None\n",
      "[WARN] unable to float: val (4 None/<class 'str'>) e: could not convert string to float: '4 None'\n",
      "[WARN] unable to get value: sheet_name: MRIInjurySeverity value: 4 None value_float: 4 None value_int: 4 None\n",
      "[WARN] unable to float: val (1 Mild/<class 'str'>) e: could not convert string to float: '1 Mild'\n",
      "[WARN] unable to get value: sheet_name: MRIInjurySeverity value: 1 Mild value_float: 1 Mild value_int: 1 Mild\n",
      "[WARN] unable to float: val (4 None/<class 'str'>) e: could not convert string to float: '4 None'\n",
      "[WARN] unable to get value: sheet_name: MRIInjurySeverity value: 4 None value_float: 4 None value_int: 4 None\n",
      "[WARN] unable to float: val (4 None/<class 'str'>) e: could not convert string to float: '4 None'\n",
      "[WARN] unable to get value: sheet_name: MRIInjurySeverity value: 4 None value_float: 4 None value_int: 4 None\n",
      "[WARN] unable to float: val (4 None/<class 'str'>) e: could not convert string to float: '4 None'\n",
      "[WARN] unable to get value: sheet_name: MRIInjurySeverity value: 4 None value_float: 4 None value_int: 4 None\n",
      "[WARN] unable to get value: sheet_name: MRIInjurySeverity value: - value_float:  value_int: \n",
      "[WARN] unable to get value: sheet_name: MRIInjurySeverity value: - value_float:  value_int: \n",
      "[WARN] unable to float: val (4 None/<class 'str'>) e: could not convert string to float: '4 None'\n",
      "[WARN] unable to get value: sheet_name: MRIInjurySeverity value: 4 None value_float: 4 None value_int: 4 None\n",
      "[WARN] unable to float: val (4 None/<class 'str'>) e: could not convert string to float: '4 None'\n",
      "[WARN] unable to get value: sheet_name: MRIInjurySeverity value: 4 None value_float: 4 None value_int: 4 None\n",
      "[WARN] unable to float: val (4 None/<class 'str'>) e: could not convert string to float: '4 None'\n",
      "[WARN] unable to get value: sheet_name: MRIInjurySeverity value: 4 None value_float: 4 None value_int: 4 None\n",
      "[WARN] unable to get value: sheet_name: MRIInjurySeverity value: - value_float:  value_int: \n",
      "[WARN] unable to get value: sheet_name: MRIInjurySeverity value: - value_float:  value_int: \n",
      "[WARN] unable to get value: sheet_name: MRIInjurySeverity value: - value_float:  value_int: \n",
      "[WARN] unable to float: val (4 None/<class 'str'>) e: could not convert string to float: '4 None'\n",
      "[WARN] unable to get value: sheet_name: MRIInjurySeverity value: 4 None value_float: 4 None value_int: 4 None\n",
      "[WARN] unable to float: val (4 None/<class 'str'>) e: could not convert string to float: '4 None'\n",
      "[WARN] unable to get value: sheet_name: MRIInjurySeverity value: 4 None value_float: 4 None value_int: 4 None\n",
      "[WARN] unable to float: val (4 None/<class 'str'>) e: could not convert string to float: '4 None'\n",
      "[WARN] unable to get value: sheet_name: MRIInjurySeverity value: 4 None value_float: 4 None value_int: 4 None\n",
      "[WARN] unable to float: val (4 None/<class 'str'>) e: could not convert string to float: '4 None'\n",
      "[WARN] unable to get value: sheet_name: MRIInjurySeverity value: 4 None value_float: 4 None value_int: 4 None\n",
      "[WARN] unable to float: val (4 None/<class 'str'>) e: could not convert string to float: '4 None'\n",
      "[WARN] unable to get value: sheet_name: MRIInjurySeverity value: 4 None value_float: 4 None value_int: 4 None\n",
      "[WARN] unable to float: val (4 None/<class 'str'>) e: could not convert string to float: '4 None'\n",
      "[WARN] unable to get value: sheet_name: MRIInjurySeverity value: 4 None value_float: 4 None value_int: 4 None\n",
      "[WARN] unable to float: val (4 None/<class 'str'>) e: could not convert string to float: '4 None'\n",
      "[WARN] unable to get value: sheet_name: MRIInjurySeverity value: 4 None value_float: 4 None value_int: 4 None\n",
      "[WARN] unable to get value: sheet_name: MRIInjurySeverity value: - value_float:  value_int: \n",
      "[WARN] unable to float: val (1 Mild/<class 'str'>) e: could not convert string to float: '1 Mild'\n",
      "[WARN] unable to get value: sheet_name: MRIInjurySeverity value: 1 Mild value_float: 1 Mild value_int: 1 Mild\n",
      "[WARN] unable to get value: sheet_name: MRIInjurySeverity value: - value_float:  value_int: \n",
      "[WARN] unable to float: val (1 Mild/<class 'str'>) e: could not convert string to float: '1 Mild'\n",
      "[WARN] unable to get value: sheet_name: MRIInjurySeverity value: 1 Mild value_float: 1 Mild value_int: 1 Mild\n",
      "[WARN] unable to float: val (1 Mild/<class 'str'>) e: could not convert string to float: '1 Mild'\n",
      "[WARN] unable to get value: sheet_name: MRIInjurySeverity value: 1 Mild value_float: 1 Mild value_int: 1 Mild\n",
      "[WARN] unable to float: val (1 Mild/<class 'str'>) e: could not convert string to float: '1 Mild'\n",
      "[WARN] unable to get value: sheet_name: MRIInjurySeverity value: 1 Mild value_float: 1 Mild value_int: 1 Mild\n",
      "[WARN] unable to get value: sheet_name: MRIInjurySeverity value: - value_float:  value_int: \n",
      "[WARN] unable to float: val (4 None/<class 'str'>) e: could not convert string to float: '4 None'\n",
      "[WARN] unable to get value: sheet_name: MRIInjurySeverity value: 4 None value_float: 4 None value_int: 4 None\n",
      "[WARN] unable to float: val (4 None/<class 'str'>) e: could not convert string to float: '4 None'\n",
      "[WARN] unable to get value: sheet_name: MRIInjurySeverity value: 4 None value_float: 4 None value_int: 4 None\n",
      "[WARN] unable to float: val (4 None/<class 'str'>) e: could not convert string to float: '4 None'\n",
      "[WARN] unable to get value: sheet_name: MRIInjurySeverity value: 4 None value_float: 4 None value_int: 4 None\n",
      "[WARN] unable to float: val (4 None/<class 'str'>) e: could not convert string to float: '4 None'\n",
      "[WARN] unable to get value: sheet_name: MRIInjurySeverity value: 4 None value_float: 4 None value_int: 4 None\n",
      "[WARN] unable to float: val (4 None/<class 'str'>) e: could not convert string to float: '4 None'\n",
      "[WARN] unable to get value: sheet_name: MRIInjurySeverity value: 4 None value_float: 4 None value_int: 4 None\n",
      "[WARN] unable to float: val (4 None/<class 'str'>) e: could not convert string to float: '4 None'\n",
      "[WARN] unable to get value: sheet_name: MRIInjurySeverity value: 4 None value_float: 4 None value_int: 4 None\n",
      "[WARN] unable to float: val (4 None/<class 'str'>) e: could not convert string to float: '4 None'\n",
      "[WARN] unable to get value: sheet_name: MRIInjurySeverity value: 4 None value_float: 4 None value_int: 4 None\n",
      "[WARN] unable to float: val (4 None/<class 'str'>) e: could not convert string to float: '4 None'\n",
      "[WARN] unable to get value: sheet_name: MRIInjurySeverity value: 4 None value_float: 4 None value_int: 4 None\n",
      "[WARN] unable to get value: sheet_name: MRIInjurySeverity value: - value_float:  value_int: \n",
      "[WARN] unable to get value: sheet_name: MRIInjurySeverity value: - value_float:  value_int: \n",
      "[WARN] unable to get value: sheet_name: MRIInjurySeverity value: - value_float:  value_int: \n",
      "[WARN] unable to float: val (4 None/<class 'str'>) e: could not convert string to float: '4 None'\n",
      "[WARN] unable to get value: sheet_name: MRIInjurySeverity value: 4 None value_float: 4 None value_int: 4 None\n",
      "[WARN] unable to float: val (1 Mild/<class 'str'>) e: could not convert string to float: '1 Mild'\n",
      "[WARN] unable to get value: sheet_name: MRIInjurySeverity value: 1 Mild value_float: 1 Mild value_int: 1 Mild\n",
      "[WARN] unable to get value: sheet_name: MRIInjurySeverity value: - value_float:  value_int: \n",
      "[WARN] unable to get value: sheet_name: MRIInjurySeverity value: - value_float:  value_int: \n",
      "[WARN] unable to get value: sheet_name: MRIInjurySeverity value: - value_float:  value_int: \n",
      "[WARN] unable to get value: sheet_name: MRIInjurySeverity value: - value_float:  value_int: \n",
      "[WARN] unable to float: val (4 None/<class 'str'>) e: could not convert string to float: '4 None'\n",
      "[WARN] unable to get value: sheet_name: MRIInjurySeverity value: 4 None value_float: 4 None value_int: 4 None\n",
      "[WARN] unable to float: val (1 Mild/<class 'str'>) e: could not convert string to float: '1 Mild'\n",
      "[WARN] unable to get value: sheet_name: MRIInjurySeverity value: 1 Mild value_float: 1 Mild value_int: 1 Mild\n",
      "[WARN] unable to float: val (1 Mild/<class 'str'>) e: could not convert string to float: '1 Mild'\n",
      "[WARN] unable to get value: sheet_name: MRIInjurySeverity value: 1 Mild value_float: 1 Mild value_int: 1 Mild\n",
      "[WARN] unable to float: val (1 Mild/<class 'str'>) e: could not convert string to float: '1 Mild'\n",
      "[WARN] unable to get value: sheet_name: MRIInjurySeverity value: 1 Mild value_float: 1 Mild value_int: 1 Mild\n",
      "[WARN] unable to get value: sheet_name: MRIInjurySeverity value: - value_float:  value_int: \n",
      "[WARN] unable to get value: sheet_name: MRIInjurySeverity value: - value_float:  value_int: \n",
      "[WARN] unable to get value: sheet_name: MRIInjurySeverity value: - value_float:  value_int: \n",
      "[WARN] unable to get value: sheet_name: MRIInjurySeverity value: - value_float:  value_int: \n",
      "(67/77) normalize_value: column: MRIWhiteMatterInjury_c\n",
      "[WARN] unable to get value: sheet_name: MRIInjurySeverity value: 4 value_float: 4.0 value_int: 4\n",
      "[WARN] unable to get value: sheet_name: MRIInjurySeverity value: 4 value_float: 4.0 value_int: 4\n",
      "[WARN] unable to get value: sheet_name: MRIInjurySeverity value: 4 value_float: 4.0 value_int: 4\n",
      "[WARN] unable to get value: sheet_name: MRIInjurySeverity value: 4 value_float: 4.0 value_int: 4\n",
      "[WARN] unable to get value: sheet_name: MRIInjurySeverity value: 4 value_float: 4.0 value_int: 4\n",
      "[WARN] unable to get value: sheet_name: MRIInjurySeverity value: 4 value_float: 4.0 value_int: 4\n",
      "[WARN] unable to get value: sheet_name: MRIInjurySeverity value: 4 value_float: 4.0 value_int: 4\n",
      "[WARN] unable to get value: sheet_name: MRIInjurySeverity value: 4 value_float: 4.0 value_int: 4\n",
      "[WARN] unable to get value: sheet_name: MRIInjurySeverity value: 4 value_float: 4.0 value_int: 4\n",
      "[WARN] unable to get value: sheet_name: MRIInjurySeverity value: 4 value_float: 4.0 value_int: 4\n",
      "[WARN] unable to get value: sheet_name: MRIInjurySeverity value: 4 value_float: 4.0 value_int: 4\n",
      "[WARN] unable to get value: sheet_name: MRIInjurySeverity value: 4 value_float: 4.0 value_int: 4\n",
      "[WARN] unable to get value: sheet_name: MRIInjurySeverity value: 4 value_float: 4.0 value_int: 4\n",
      "[WARN] unable to get value: sheet_name: MRIInjurySeverity value: 4 value_float: 4.0 value_int: 4\n",
      "[WARN] unable to get value: sheet_name: MRIInjurySeverity value: 4 value_float: 4.0 value_int: 4\n",
      "[WARN] unable to get value: sheet_name: MRIInjurySeverity value: 4 value_float: 4.0 value_int: 4\n",
      "[WARN] unable to get value: sheet_name: MRIInjurySeverity value: 4 value_float: 4.0 value_int: 4\n",
      "[WARN] unable to get value: sheet_name: MRIInjurySeverity value: 4 value_float: 4.0 value_int: 4\n",
      "[WARN] unable to get value: sheet_name: MRIInjurySeverity value: 4 value_float: 4.0 value_int: 4\n",
      "[WARN] unable to get value: sheet_name: MRIInjurySeverity value: 4 value_float: 4.0 value_int: 4\n",
      "[WARN] unable to get value: sheet_name: MRIInjurySeverity value: 4 value_float: 4.0 value_int: 4\n",
      "[WARN] unable to get value: sheet_name: MRIInjurySeverity value: 4 value_float: 4.0 value_int: 4\n",
      "[WARN] unable to get value: sheet_name: MRIInjurySeverity value: 4 value_float: 4.0 value_int: 4\n",
      "[WARN] unable to get value: sheet_name: MRIInjurySeverity value: 4 value_float: 4.0 value_int: 4\n",
      "[WARN] unable to get value: sheet_name: MRIInjurySeverity value: 4 value_float: 4.0 value_int: 4\n",
      "[WARN] unable to get value: sheet_name: MRIInjurySeverity value: 4 value_float: 4.0 value_int: 4\n",
      "[WARN] unable to get value: sheet_name: MRIInjurySeverity value: 4 value_float: 4.0 value_int: 4\n",
      "[WARN] unable to get value: sheet_name: MRIInjurySeverity value: 4 value_float: 4.0 value_int: 4\n",
      "[WARN] unable to get value: sheet_name: MRIInjurySeverity value: 4 value_float: 4.0 value_int: 4\n",
      "[WARN] unable to get value: sheet_name: MRIInjurySeverity value: 4 value_float: 4.0 value_int: 4\n",
      "[WARN] unable to get value: sheet_name: MRIInjurySeverity value: 4 value_float: 4.0 value_int: 4\n",
      "[WARN] unable to get value: sheet_name: MRIInjurySeverity value: 4 value_float: 4.0 value_int: 4\n",
      "[WARN] unable to get value: sheet_name: MRIInjurySeverity value: 4 value_float: 4.0 value_int: 4\n",
      "[WARN] unable to get value: sheet_name: MRIInjurySeverity value: 4 value_float: 4.0 value_int: 4\n",
      "[WARN] unable to get value: sheet_name: MRIInjurySeverity value: 4 value_float: 4.0 value_int: 4\n",
      "[WARN] unable to get value: sheet_name: MRIInjurySeverity value: 4 value_float: 4.0 value_int: 4\n",
      "[WARN] unable to get value: sheet_name: MRIInjurySeverity value: 4 value_float: 4.0 value_int: 4\n",
      "[WARN] unable to get value: sheet_name: MRIInjurySeverity value: 4 value_float: 4.0 value_int: 4\n",
      "[WARN] unable to get value: sheet_name: MRIInjurySeverity value: 4 value_float: 4.0 value_int: 4\n",
      "[WARN] unable to get value: sheet_name: MRIInjurySeverity value: 4 value_float: 4.0 value_int: 4\n",
      "[WARN] unable to get value: sheet_name: MRIInjurySeverity value: 4 value_float: 4.0 value_int: 4\n",
      "[WARN] unable to get value: sheet_name: MRIInjurySeverity value: 4 value_float: 4.0 value_int: 4\n",
      "[WARN] unable to get value: sheet_name: MRIInjurySeverity value: 4 value_float: 4.0 value_int: 4\n",
      "[WARN] unable to get value: sheet_name: MRIInjurySeverity value: 4 value_float: 4.0 value_int: 4\n",
      "[WARN] unable to get value: sheet_name: MRIInjurySeverity value: 4 value_float: 4.0 value_int: 4\n",
      "[WARN] unable to get value: sheet_name: MRIInjurySeverity value: 4 value_float: 4.0 value_int: 4\n",
      "[WARN] unable to get value: sheet_name: MRIInjurySeverity value: 4 value_float: 4.0 value_int: 4\n",
      "[WARN] unable to get value: sheet_name: MRIInjurySeverity value: 4 value_float: 4.0 value_int: 4\n",
      "[WARN] unable to get value: sheet_name: MRIInjurySeverity value: 4 value_float: 4.0 value_int: 4\n",
      "[WARN] unable to get value: sheet_name: MRIInjurySeverity value: 4 value_float: 4.0 value_int: 4\n",
      "[WARN] unable to get value: sheet_name: MRIInjurySeverity value: 4 value_float: 4.0 value_int: 4\n",
      "[WARN] unable to get value: sheet_name: MRIInjurySeverity value: 4 value_float: 4.0 value_int: 4\n",
      "[WARN] unable to get value: sheet_name: MRIInjurySeverity value: 4 value_float: 4.0 value_int: 4\n",
      "[WARN] unable to get value: sheet_name: MRIInjurySeverity value: 4 value_float: 4.0 value_int: 4\n",
      "[WARN] unable to get value: sheet_name: MRIInjurySeverity value: 4 value_float: 4.0 value_int: 4\n",
      "[WARN] unable to get value: sheet_name: MRIInjurySeverity value: 4 value_float: 4.0 value_int: 4\n",
      "[WARN] unable to get value: sheet_name: MRIInjurySeverity value: 4 value_float: 4.0 value_int: 4\n",
      "[WARN] unable to get value: sheet_name: MRIInjurySeverity value: 4 value_float: 4.0 value_int: 4\n",
      "[WARN] unable to get value: sheet_name: MRIInjurySeverity value: 4 value_float: 4.0 value_int: 4\n",
      "[WARN] unable to get value: sheet_name: MRIInjurySeverity value: 4 value_float: 4.0 value_int: 4\n",
      "[WARN] unable to get value: sheet_name: MRIInjurySeverity value: 4 value_float: 4.0 value_int: 4\n",
      "[WARN] unable to get value: sheet_name: MRIInjurySeverity value: 4 value_float: 4.0 value_int: 4\n",
      "[WARN] unable to get value: sheet_name: MRIInjurySeverity value: 4 value_float: 4.0 value_int: 4\n",
      "[WARN] unable to get value: sheet_name: MRIInjurySeverity value: 4 value_float: 4.0 value_int: 4\n",
      "[WARN] unable to get value: sheet_name: MRIInjurySeverity value: 4 value_float: 4.0 value_int: 4\n",
      "[WARN] unable to get value: sheet_name: MRIInjurySeverity value: 4 value_float: 4.0 value_int: 4\n",
      "[WARN] unable to get value: sheet_name: MRIInjurySeverity value: 4 value_float: 4.0 value_int: 4\n",
      "[WARN] unable to get value: sheet_name: MRIInjurySeverity value: 4 value_float: 4.0 value_int: 4\n",
      "[WARN] unable to get value: sheet_name: MRIInjurySeverity value: 4 value_float: 4.0 value_int: 4\n",
      "[WARN] unable to get value: sheet_name: MRIInjurySeverity value: 4 value_float: 4.0 value_int: 4\n",
      "[WARN] unable to get value: sheet_name: MRIInjurySeverity value: 4 value_float: 4.0 value_int: 4\n",
      "[WARN] unable to get value: sheet_name: MRIInjurySeverity value: 4 value_float: 4.0 value_int: 4\n",
      "[WARN] unable to get value: sheet_name: MRIInjurySeverity value: 4 value_float: 4.0 value_int: 4\n",
      "[WARN] unable to get value: sheet_name: MRIInjurySeverity value: 4 value_float: 4.0 value_int: 4\n",
      "[WARN] unable to get value: sheet_name: MRIInjurySeverity value: 4 value_float: 4.0 value_int: 4\n",
      "[WARN] unable to get value: sheet_name: MRIInjurySeverity value: 4 value_float: 4.0 value_int: 4\n",
      "[WARN] unable to get value: sheet_name: MRIInjurySeverity value: 4 value_float: 4.0 value_int: 4\n",
      "[WARN] unable to get value: sheet_name: MRIInjurySeverity value: 4 value_float: 4.0 value_int: 4\n",
      "[WARN] unable to get value: sheet_name: MRIInjurySeverity value: 4 value_float: 4.0 value_int: 4\n",
      "[WARN] unable to get value: sheet_name: MRIInjurySeverity value: 4 value_float: 4.0 value_int: 4\n",
      "[WARN] unable to get value: sheet_name: MRIInjurySeverity value: 4 value_float: 4.0 value_int: 4\n",
      "[WARN] unable to get value: sheet_name: MRIInjurySeverity value: 4 value_float: 4.0 value_int: 4\n",
      "[WARN] unable to get value: sheet_name: MRIInjurySeverity value: 4 value_float: 4.0 value_int: 4\n",
      "[WARN] unable to get value: sheet_name: MRIInjurySeverity value: 4 value_float: 4.0 value_int: 4\n",
      "[WARN] unable to get value: sheet_name: MRIInjurySeverity value: 4 value_float: 4.0 value_int: 4\n",
      "[WARN] unable to get value: sheet_name: MRIInjurySeverity value: 4 value_float: 4.0 value_int: 4\n",
      "[WARN] unable to get value: sheet_name: MRIInjurySeverity value: 4 value_float: 4.0 value_int: 4\n",
      "[WARN] unable to get value: sheet_name: MRIInjurySeverity value: 4 value_float: 4.0 value_int: 4\n",
      "[WARN] unable to get value: sheet_name: MRIInjurySeverity value: 4 value_float: 4.0 value_int: 4\n",
      "[WARN] unable to get value: sheet_name: MRIInjurySeverity value: 4 value_float: 4.0 value_int: 4\n",
      "[WARN] unable to get value: sheet_name: MRIInjurySeverity value: 4 value_float: 4.0 value_int: 4\n",
      "[WARN] unable to get value: sheet_name: MRIInjurySeverity value: 4 value_float: 4.0 value_int: 4\n",
      "[WARN] unable to get value: sheet_name: MRIInjurySeverity value: 4 value_float: 4.0 value_int: 4\n",
      "[WARN] unable to get value: sheet_name: MRIInjurySeverity value: 4 value_float: 4.0 value_int: 4\n",
      "[WARN] unable to get value: sheet_name: MRIInjurySeverity value: 4 value_float: 4.0 value_int: 4\n",
      "[WARN] unable to get value: sheet_name: MRIInjurySeverity value: 4 value_float: 4.0 value_int: 4\n",
      "[WARN] unable to get value: sheet_name: MRIInjurySeverity value: 4 value_float: 4.0 value_int: 4\n",
      "[WARN] unable to get value: sheet_name: MRIInjurySeverity value: 4 value_float: 4.0 value_int: 4\n",
      "[WARN] unable to get value: sheet_name: MRIInjurySeverity value: 4 value_float: 4.0 value_int: 4\n",
      "[WARN] unable to get value: sheet_name: MRIInjurySeverity value: 4 value_float: 4.0 value_int: 4\n",
      "[WARN] unable to get value: sheet_name: MRIInjurySeverity value: 4 value_float: 4.0 value_int: 4\n",
      "[WARN] unable to get value: sheet_name: MRIInjurySeverity value: 4 value_float: 4.0 value_int: 4\n",
      "[WARN] unable to get value: sheet_name: MRIInjurySeverity value: 4 value_float: 4.0 value_int: 4\n",
      "[WARN] unable to get value: sheet_name: MRIInjurySeverity value: 4 value_float: 4.0 value_int: 4\n",
      "[WARN] unable to get value: sheet_name: MRIInjurySeverity value: 4 value_float: 4.0 value_int: 4\n",
      "[WARN] unable to get value: sheet_name: MRIInjurySeverity value: 4 value_float: 4.0 value_int: 4\n",
      "[WARN] unable to get value: sheet_name: MRIInjurySeverity value: 4 value_float: 4.0 value_int: 4\n",
      "[WARN] unable to get value: sheet_name: MRIInjurySeverity value: 4 value_float: 4.0 value_int: 4\n",
      "[WARN] unable to get value: sheet_name: MRIInjurySeverity value: 4 value_float: 4.0 value_int: 4\n",
      "[WARN] unable to get value: sheet_name: MRIInjurySeverity value: 4 value_float: 4.0 value_int: 4\n",
      "[WARN] unable to get value: sheet_name: MRIInjurySeverity value: 4 value_float: 4.0 value_int: 4\n",
      "[WARN] unable to get value: sheet_name: MRIInjurySeverity value: 4 value_float: 4.0 value_int: 4\n",
      "[WARN] unable to get value: sheet_name: MRIInjurySeverity value: 4 value_float: 4.0 value_int: 4\n",
      "[WARN] unable to get value: sheet_name: MRIInjurySeverity value: 4 value_float: 4.0 value_int: 4\n",
      "[WARN] unable to get value: sheet_name: MRIInjurySeverity value: 4 value_float: 4.0 value_int: 4\n",
      "[WARN] unable to get value: sheet_name: MRIInjurySeverity value: 4 value_float: 4.0 value_int: 4\n",
      "[WARN] unable to get value: sheet_name: MRIInjurySeverity value: 4 value_float: 4.0 value_int: 4\n",
      "[WARN] unable to get value: sheet_name: MRIInjurySeverity value: 4 value_float: 4.0 value_int: 4\n",
      "[WARN] unable to get value: sheet_name: MRIInjurySeverity value: 4 value_float: 4.0 value_int: 4\n",
      "[WARN] unable to get value: sheet_name: MRIInjurySeverity value: 4 value_float: 4.0 value_int: 4\n",
      "[WARN] unable to get value: sheet_name: MRIInjurySeverity value: 4 value_float: 4.0 value_int: 4\n",
      "[WARN] unable to get value: sheet_name: MRIInjurySeverity value: 4 value_float: 4.0 value_int: 4\n",
      "[WARN] unable to get value: sheet_name: MRIInjurySeverity value: 4 value_float: 4.0 value_int: 4\n",
      "[WARN] unable to get value: sheet_name: MRIInjurySeverity value: 4 value_float: 4.0 value_int: 4\n",
      "[WARN] unable to get value: sheet_name: MRIInjurySeverity value: 4 value_float: 4.0 value_int: 4\n",
      "[WARN] unable to get value: sheet_name: MRIInjurySeverity value: 4 value_float: 4.0 value_int: 4\n",
      "[WARN] unable to get value: sheet_name: MRIInjurySeverity value: 4 value_float: 4.0 value_int: 4\n",
      "[WARN] unable to get value: sheet_name: MRIInjurySeverity value: 4 value_float: 4.0 value_int: 4\n",
      "[WARN] unable to get value: sheet_name: MRIInjurySeverity value: 4 value_float: 4.0 value_int: 4\n",
      "[WARN] unable to get value: sheet_name: MRIInjurySeverity value: 4 value_float: 4.0 value_int: 4\n",
      "[WARN] unable to get value: sheet_name: MRIInjurySeverity value: 4 value_float: 4.0 value_int: 4\n",
      "[WARN] unable to get value: sheet_name: MRIInjurySeverity value: 4 value_float: 4.0 value_int: 4\n",
      "[WARN] unable to get value: sheet_name: MRIInjurySeverity value: 4 value_float: 4.0 value_int: 4\n",
      "[WARN] unable to get value: sheet_name: MRIInjurySeverity value: 4 value_float: 4.0 value_int: 4\n",
      "[WARN] unable to get value: sheet_name: MRIInjurySeverity value: 4 value_float: 4.0 value_int: 4\n",
      "[WARN] unable to get value: sheet_name: MRIInjurySeverity value: 4 value_float: 4.0 value_int: 4\n",
      "[WARN] unable to get value: sheet_name: MRIInjurySeverity value: 4 value_float: 4.0 value_int: 4\n",
      "[WARN] unable to get value: sheet_name: MRIInjurySeverity value: 4 value_float: 4.0 value_int: 4\n",
      "[WARN] unable to get value: sheet_name: MRIInjurySeverity value: 4 value_float: 4.0 value_int: 4\n",
      "[WARN] unable to get value: sheet_name: MRIInjurySeverity value: 4 value_float: 4.0 value_int: 4\n",
      "[WARN] unable to get value: sheet_name: MRIInjurySeverity value: 4 value_float: 4.0 value_int: 4\n",
      "[WARN] unable to get value: sheet_name: MRIInjurySeverity value: 4 value_float: 4.0 value_int: 4\n",
      "[WARN] unable to get value: sheet_name: MRIInjurySeverity value: 4 value_float: 4.0 value_int: 4\n",
      "[WARN] unable to get value: sheet_name: MRIInjurySeverity value: 4 value_float: 4.0 value_int: 4\n",
      "[WARN] unable to get value: sheet_name: MRIInjurySeverity value: 4 value_float: 4.0 value_int: 4\n",
      "[WARN] unable to get value: sheet_name: MRIInjurySeverity value: 4 value_float: 4.0 value_int: 4\n",
      "[WARN] unable to get value: sheet_name: MRIInjurySeverity value: 4 value_float: 4.0 value_int: 4\n",
      "[WARN] unable to get value: sheet_name: MRIInjurySeverity value: 4 value_float: 4.0 value_int: 4\n",
      "[WARN] unable to get value: sheet_name: MRIInjurySeverity value: 4 value_float: 4.0 value_int: 4\n",
      "[WARN] unable to get value: sheet_name: MRIInjurySeverity value: 4 value_float: 4.0 value_int: 4\n",
      "[WARN] unable to get value: sheet_name: MRIInjurySeverity value: 4 value_float: 4.0 value_int: 4\n",
      "[WARN] unable to get value: sheet_name: MRIInjurySeverity value: 4 value_float: 4.0 value_int: 4\n",
      "[WARN] unable to get value: sheet_name: MRIInjurySeverity value: 4 value_float: 4.0 value_int: 4\n",
      "[WARN] unable to get value: sheet_name: MRIInjurySeverity value: 4 value_float: 4.0 value_int: 4\n",
      "[WARN] unable to get value: sheet_name: MRIInjurySeverity value: 4 value_float: 4.0 value_int: 4\n",
      "[WARN] unable to get value: sheet_name: MRIInjurySeverity value: 4 value_float: 4.0 value_int: 4\n",
      "[WARN] unable to get value: sheet_name: MRIInjurySeverity value: 4 value_float: 4.0 value_int: 4\n",
      "[WARN] unable to get value: sheet_name: MRIInjurySeverity value: 4 value_float: 4.0 value_int: 4\n",
      "[WARN] unable to get value: sheet_name: MRIInjurySeverity value: 4 value_float: 4.0 value_int: 4\n",
      "[WARN] unable to get value: sheet_name: MRIInjurySeverity value: 4 value_float: 4.0 value_int: 4\n",
      "[WARN] unable to get value: sheet_name: MRIInjurySeverity value: 4 value_float: 4.0 value_int: 4\n",
      "[WARN] unable to get value: sheet_name: MRIInjurySeverity value: 4 value_float: 4.0 value_int: 4\n",
      "[WARN] unable to get value: sheet_name: MRIInjurySeverity value: 4 value_float: 4.0 value_int: 4\n",
      "[WARN] unable to get value: sheet_name: MRIInjurySeverity value: 4 value_float: 4.0 value_int: 4\n",
      "[WARN] unable to get value: sheet_name: MRIInjurySeverity value: 4 value_float: 4.0 value_int: 4\n",
      "[WARN] unable to get value: sheet_name: MRIInjurySeverity value: 4 value_float: 4.0 value_int: 4\n",
      "[WARN] unable to get value: sheet_name: MRIInjurySeverity value: 4 value_float: 4.0 value_int: 4\n",
      "[WARN] unable to get value: sheet_name: MRIInjurySeverity value: 4 value_float: 4.0 value_int: 4\n",
      "[WARN] unable to get value: sheet_name: MRIInjurySeverity value: 4 value_float: 4.0 value_int: 4\n",
      "[WARN] unable to get value: sheet_name: MRIInjurySeverity value: 4 value_float: 4.0 value_int: 4\n",
      "[WARN] unable to get value: sheet_name: MRIInjurySeverity value: 4 value_float: 4.0 value_int: 4\n",
      "[WARN] unable to get value: sheet_name: MRIInjurySeverity value: 4 value_float: 4.0 value_int: 4\n",
      "[WARN] unable to get value: sheet_name: MRIInjurySeverity value: 4 value_float: 4.0 value_int: 4\n",
      "[WARN] unable to get value: sheet_name: MRIInjurySeverity value: 4 value_float: 4.0 value_int: 4\n",
      "[WARN] unable to get value: sheet_name: MRIInjurySeverity value: 4 value_float: 4.0 value_int: 4\n",
      "[WARN] unable to get value: sheet_name: MRIInjurySeverity value: 4 value_float: 4.0 value_int: 4\n",
      "[WARN] unable to get value: sheet_name: MRIInjurySeverity value: 4 value_float: 4.0 value_int: 4\n",
      "[WARN] unable to get value: sheet_name: MRIInjurySeverity value: 4 value_float: 4.0 value_int: 4\n",
      "[WARN] unable to get value: sheet_name: MRIInjurySeverity value: 4 value_float: 4.0 value_int: 4\n",
      "[WARN] unable to get value: sheet_name: MRIInjurySeverity value: 4 value_float: 4.0 value_int: 4\n",
      "[WARN] unable to get value: sheet_name: MRIInjurySeverity value: 4 value_float: 4.0 value_int: 4\n",
      "(68/77) normalize_value: column: MRIComment\n",
      "(69/77) normalize_value: column: MRINRNPatternOfInjury\n",
      "[WARN] unable to get value: sheet_name: MRINRNPatternOfInjury value: - value_float:  value_int: \n",
      "[WARN] unable to get value: sheet_name: MRINRNPatternOfInjury value: - value_float:  value_int: \n",
      "[WARN] unable to get value: sheet_name: MRINRNPatternOfInjury value: - value_float:  value_int: \n",
      "[WARN] unable to get value: sheet_name: MRINRNPatternOfInjury value: - value_float:  value_int: \n",
      "(70/77) normalize_value: column: MRINRNPatternOfInjury_c\n",
      "(71/77) normalize_value: column: MRINRNPatternOfInjuryExtent\n",
      "[WARN] unable to get value: sheet_name: MRINRNPatternOfInjuryExtent value: - value_float:  value_int: \n",
      "[WARN] unable to get value: sheet_name: MRINRNPatternOfInjuryExtent value: - value_float:  value_int: \n",
      "[WARN] unable to get value: sheet_name: MRINRNPatternOfInjuryExtent value: - value_float:  value_int: \n",
      "[WARN] unable to get value: sheet_name: MRINRNPatternOfInjuryExtent value: - value_float:  value_int: \n",
      "[WARN] unable to get value: sheet_name: MRINRNPatternOfInjuryExtent value: - value_float:  value_int: \n",
      "[WARN] unable to get value: sheet_name: MRINRNPatternOfInjuryExtent value: - value_float:  value_int: \n",
      "[WARN] unable to get value: sheet_name: MRINRNPatternOfInjuryExtent value: - value_float:  value_int: \n",
      "[WARN] unable to get value: sheet_name: MRINRNPatternOfInjuryExtent value: - value_float:  value_int: \n",
      "[WARN] unable to get value: sheet_name: MRINRNPatternOfInjuryExtent value: - value_float:  value_int: \n",
      "[WARN] unable to get value: sheet_name: MRINRNPatternOfInjuryExtent value: - value_float:  value_int: \n",
      "[WARN] unable to get value: sheet_name: MRINRNPatternOfInjuryExtent value: - value_float:  value_int: \n",
      "[WARN] unable to get value: sheet_name: MRINRNPatternOfInjuryExtent value: - value_float:  value_int: \n",
      "[WARN] unable to get value: sheet_name: MRINRNPatternOfInjuryExtent value: - value_float:  value_int: \n",
      "[WARN] unable to get value: sheet_name: MRINRNPatternOfInjuryExtent value: - value_float:  value_int: \n",
      "[WARN] unable to get value: sheet_name: MRINRNPatternOfInjuryExtent value: - value_float:  value_int: \n",
      "[WARN] unable to get value: sheet_name: MRINRNPatternOfInjuryExtent value: - value_float:  value_int: \n",
      "[WARN] unable to get value: sheet_name: MRINRNPatternOfInjuryExtent value: - value_float:  value_int: \n",
      "[WARN] unable to get value: sheet_name: MRINRNPatternOfInjuryExtent value: - value_float:  value_int: \n",
      "[WARN] unable to get value: sheet_name: MRINRNPatternOfInjuryExtent value: - value_float:  value_int: \n",
      "[WARN] unable to get value: sheet_name: MRINRNPatternOfInjuryExtent value: - value_float:  value_int: \n",
      "[WARN] unable to get value: sheet_name: MRINRNPatternOfInjuryExtent value: - value_float:  value_int: \n",
      "[WARN] unable to get value: sheet_name: MRINRNPatternOfInjuryExtent value: - value_float:  value_int: \n",
      "[WARN] unable to get value: sheet_name: MRINRNPatternOfInjuryExtent value: - value_float:  value_int: \n",
      "[WARN] unable to get value: sheet_name: MRINRNPatternOfInjuryExtent value: - value_float:  value_int: \n",
      "[WARN] unable to get value: sheet_name: MRINRNPatternOfInjuryExtent value: - value_float:  value_int: \n",
      "[WARN] unable to get value: sheet_name: MRINRNPatternOfInjuryExtent value: - value_float:  value_int: \n",
      "[WARN] unable to get value: sheet_name: MRINRNPatternOfInjuryExtent value: - value_float:  value_int: \n",
      "[WARN] unable to get value: sheet_name: MRINRNPatternOfInjuryExtent value: - value_float:  value_int: \n",
      "[WARN] unable to get value: sheet_name: MRINRNPatternOfInjuryExtent value: - value_float:  value_int: \n",
      "[WARN] unable to get value: sheet_name: MRINRNPatternOfInjuryExtent value: - value_float:  value_int: \n",
      "[WARN] unable to get value: sheet_name: MRINRNPatternOfInjuryExtent value: - value_float:  value_int: \n",
      "[WARN] unable to get value: sheet_name: MRINRNPatternOfInjuryExtent value: - value_float:  value_int: \n",
      "[WARN] unable to get value: sheet_name: MRINRNPatternOfInjuryExtent value: - value_float:  value_int: \n",
      "[WARN] unable to get value: sheet_name: MRINRNPatternOfInjuryExtent value: - value_float:  value_int: \n",
      "[WARN] unable to get value: sheet_name: MRINRNPatternOfInjuryExtent value: - value_float:  value_int: \n",
      "[WARN] unable to get value: sheet_name: MRINRNPatternOfInjuryExtent value: - value_float:  value_int: \n",
      "[WARN] unable to get value: sheet_name: MRINRNPatternOfInjuryExtent value: - value_float:  value_int: \n",
      "[WARN] unable to get value: sheet_name: MRINRNPatternOfInjuryExtent value: - value_float:  value_int: \n",
      "[WARN] unable to get value: sheet_name: MRINRNPatternOfInjuryExtent value: - value_float:  value_int: \n",
      "[WARN] unable to get value: sheet_name: MRINRNPatternOfInjuryExtent value: - value_float:  value_int: \n",
      "[WARN] unable to get value: sheet_name: MRINRNPatternOfInjuryExtent value: - value_float:  value_int: \n",
      "[WARN] unable to get value: sheet_name: MRINRNPatternOfInjuryExtent value: - value_float:  value_int: \n",
      "[WARN] unable to get value: sheet_name: MRINRNPatternOfInjuryExtent value: - value_float:  value_int: \n",
      "[WARN] unable to get value: sheet_name: MRINRNPatternOfInjuryExtent value: - value_float:  value_int: \n",
      "[WARN] unable to get value: sheet_name: MRINRNPatternOfInjuryExtent value: - value_float:  value_int: \n",
      "[WARN] unable to get value: sheet_name: MRINRNPatternOfInjuryExtent value: - value_float:  value_int: \n",
      "[WARN] unable to get value: sheet_name: MRINRNPatternOfInjuryExtent value: - value_float:  value_int: \n",
      "[WARN] unable to get value: sheet_name: MRINRNPatternOfInjuryExtent value: - value_float:  value_int: \n",
      "[WARN] unable to get value: sheet_name: MRINRNPatternOfInjuryExtent value: - value_float:  value_int: \n",
      "[WARN] unable to get value: sheet_name: MRINRNPatternOfInjuryExtent value: - value_float:  value_int: \n",
      "[WARN] unable to get value: sheet_name: MRINRNPatternOfInjuryExtent value: - value_float:  value_int: \n",
      "[WARN] unable to get value: sheet_name: MRINRNPatternOfInjuryExtent value: - value_float:  value_int: \n",
      "[WARN] unable to get value: sheet_name: MRINRNPatternOfInjuryExtent value: - value_float:  value_int: \n",
      "[WARN] unable to get value: sheet_name: MRINRNPatternOfInjuryExtent value: - value_float:  value_int: \n",
      "[WARN] unable to get value: sheet_name: MRINRNPatternOfInjuryExtent value: - value_float:  value_int: \n",
      "[WARN] unable to get value: sheet_name: MRINRNPatternOfInjuryExtent value: - value_float:  value_int: \n",
      "[WARN] unable to get value: sheet_name: MRINRNPatternOfInjuryExtent value: - value_float:  value_int: \n",
      "[WARN] unable to get value: sheet_name: MRINRNPatternOfInjuryExtent value: - value_float:  value_int: \n",
      "[WARN] unable to get value: sheet_name: MRINRNPatternOfInjuryExtent value: - value_float:  value_int: \n",
      "[WARN] unable to get value: sheet_name: MRINRNPatternOfInjuryExtent value: - value_float:  value_int: \n",
      "[WARN] unable to get value: sheet_name: MRINRNPatternOfInjuryExtent value: - value_float:  value_int: \n",
      "[WARN] unable to get value: sheet_name: MRINRNPatternOfInjuryExtent value: - value_float:  value_int: \n",
      "[WARN] unable to get value: sheet_name: MRINRNPatternOfInjuryExtent value: - value_float:  value_int: \n",
      "[WARN] unable to get value: sheet_name: MRINRNPatternOfInjuryExtent value: - value_float:  value_int: \n",
      "[WARN] unable to get value: sheet_name: MRINRNPatternOfInjuryExtent value: - value_float:  value_int: \n",
      "[WARN] unable to get value: sheet_name: MRINRNPatternOfInjuryExtent value: - value_float:  value_int: \n",
      "[WARN] unable to get value: sheet_name: MRINRNPatternOfInjuryExtent value: - value_float:  value_int: \n",
      "[WARN] unable to get value: sheet_name: MRINRNPatternOfInjuryExtent value: - value_float:  value_int: \n",
      "[WARN] unable to get value: sheet_name: MRINRNPatternOfInjuryExtent value: - value_float:  value_int: \n",
      "[WARN] unable to get value: sheet_name: MRINRNPatternOfInjuryExtent value: - value_float:  value_int: \n",
      "[WARN] unable to get value: sheet_name: MRINRNPatternOfInjuryExtent value: - value_float:  value_int: \n",
      "[WARN] unable to get value: sheet_name: MRINRNPatternOfInjuryExtent value: - value_float:  value_int: \n",
      "[WARN] unable to get value: sheet_name: MRINRNPatternOfInjuryExtent value: - value_float:  value_int: \n",
      "[WARN] unable to get value: sheet_name: MRINRNPatternOfInjuryExtent value: - value_float:  value_int: \n",
      "[WARN] unable to get value: sheet_name: MRINRNPatternOfInjuryExtent value: - value_float:  value_int: \n",
      "[WARN] unable to get value: sheet_name: MRINRNPatternOfInjuryExtent value: - value_float:  value_int: \n",
      "[WARN] unable to get value: sheet_name: MRINRNPatternOfInjuryExtent value: - value_float:  value_int: \n",
      "[WARN] unable to get value: sheet_name: MRINRNPatternOfInjuryExtent value: - value_float:  value_int: \n",
      "[WARN] unable to get value: sheet_name: MRINRNPatternOfInjuryExtent value: - value_float:  value_int: \n",
      "[WARN] unable to get value: sheet_name: MRINRNPatternOfInjuryExtent value: - value_float:  value_int: \n",
      "[WARN] unable to get value: sheet_name: MRINRNPatternOfInjuryExtent value: - value_float:  value_int: \n",
      "[WARN] unable to get value: sheet_name: MRINRNPatternOfInjuryExtent value: - value_float:  value_int: \n",
      "[WARN] unable to get value: sheet_name: MRINRNPatternOfInjuryExtent value: - value_float:  value_int: \n",
      "[WARN] unable to get value: sheet_name: MRINRNPatternOfInjuryExtent value: - value_float:  value_int: \n",
      "[WARN] unable to get value: sheet_name: MRINRNPatternOfInjuryExtent value: - value_float:  value_int: \n",
      "[WARN] unable to get value: sheet_name: MRINRNPatternOfInjuryExtent value: - value_float:  value_int: \n",
      "[WARN] unable to get value: sheet_name: MRINRNPatternOfInjuryExtent value: - value_float:  value_int: \n",
      "[WARN] unable to get value: sheet_name: MRINRNPatternOfInjuryExtent value: - value_float:  value_int: \n",
      "[WARN] unable to get value: sheet_name: MRINRNPatternOfInjuryExtent value: - value_float:  value_int: \n",
      "[WARN] unable to get value: sheet_name: MRINRNPatternOfInjuryExtent value: - value_float:  value_int: \n",
      "[WARN] unable to get value: sheet_name: MRINRNPatternOfInjuryExtent value: - value_float:  value_int: \n",
      "[WARN] unable to get value: sheet_name: MRINRNPatternOfInjuryExtent value: - value_float:  value_int: \n",
      "[WARN] unable to get value: sheet_name: MRINRNPatternOfInjuryExtent value: - value_float:  value_int: \n",
      "[WARN] unable to get value: sheet_name: MRINRNPatternOfInjuryExtent value: - value_float:  value_int: \n",
      "[WARN] unable to get value: sheet_name: MRINRNPatternOfInjuryExtent value: - value_float:  value_int: \n",
      "[WARN] unable to get value: sheet_name: MRINRNPatternOfInjuryExtent value: - value_float:  value_int: \n",
      "[WARN] unable to get value: sheet_name: MRINRNPatternOfInjuryExtent value: - value_float:  value_int: \n",
      "[WARN] unable to get value: sheet_name: MRINRNPatternOfInjuryExtent value: - value_float:  value_int: \n",
      "[WARN] unable to get value: sheet_name: MRINRNPatternOfInjuryExtent value: - value_float:  value_int: \n",
      "[WARN] unable to get value: sheet_name: MRINRNPatternOfInjuryExtent value: - value_float:  value_int: \n",
      "[WARN] unable to get value: sheet_name: MRINRNPatternOfInjuryExtent value: - value_float:  value_int: \n",
      "[WARN] unable to get value: sheet_name: MRINRNPatternOfInjuryExtent value: - value_float:  value_int: \n",
      "[WARN] unable to get value: sheet_name: MRINRNPatternOfInjuryExtent value: - value_float:  value_int: \n",
      "[WARN] unable to get value: sheet_name: MRINRNPatternOfInjuryExtent value: - value_float:  value_int: \n",
      "[WARN] unable to get value: sheet_name: MRINRNPatternOfInjuryExtent value: - value_float:  value_int: \n",
      "[WARN] unable to get value: sheet_name: MRINRNPatternOfInjuryExtent value: - value_float:  value_int: \n",
      "[WARN] unable to get value: sheet_name: MRINRNPatternOfInjuryExtent value: - value_float:  value_int: \n",
      "[WARN] unable to get value: sheet_name: MRINRNPatternOfInjuryExtent value: - value_float:  value_int: \n",
      "[WARN] unable to get value: sheet_name: MRINRNPatternOfInjuryExtent value: - value_float:  value_int: \n",
      "[WARN] unable to get value: sheet_name: MRINRNPatternOfInjuryExtent value: - value_float:  value_int: \n",
      "[WARN] unable to get value: sheet_name: MRINRNPatternOfInjuryExtent value: - value_float:  value_int: \n",
      "[WARN] unable to get value: sheet_name: MRINRNPatternOfInjuryExtent value: - value_float:  value_int: \n",
      "[WARN] unable to get value: sheet_name: MRINRNPatternOfInjuryExtent value: - value_float:  value_int: \n",
      "[WARN] unable to get value: sheet_name: MRINRNPatternOfInjuryExtent value: - value_float:  value_int: \n",
      "[WARN] unable to get value: sheet_name: MRINRNPatternOfInjuryExtent value: - value_float:  value_int: \n",
      "[WARN] unable to get value: sheet_name: MRINRNPatternOfInjuryExtent value: - value_float:  value_int: \n",
      "[WARN] unable to get value: sheet_name: MRINRNPatternOfInjuryExtent value: - value_float:  value_int: \n",
      "[WARN] unable to get value: sheet_name: MRINRNPatternOfInjuryExtent value: - value_float:  value_int: \n",
      "[WARN] unable to get value: sheet_name: MRINRNPatternOfInjuryExtent value: - value_float:  value_int: \n",
      "[WARN] unable to get value: sheet_name: MRINRNPatternOfInjuryExtent value: - value_float:  value_int: \n",
      "[WARN] unable to get value: sheet_name: MRINRNPatternOfInjuryExtent value: - value_float:  value_int: \n",
      "[WARN] unable to get value: sheet_name: MRINRNPatternOfInjuryExtent value: - value_float:  value_int: \n",
      "[WARN] unable to get value: sheet_name: MRINRNPatternOfInjuryExtent value: - value_float:  value_int: \n",
      "[WARN] unable to get value: sheet_name: MRINRNPatternOfInjuryExtent value: - value_float:  value_int: \n",
      "[WARN] unable to get value: sheet_name: MRINRNPatternOfInjuryExtent value: - value_float:  value_int: \n",
      "[WARN] unable to get value: sheet_name: MRINRNPatternOfInjuryExtent value: - value_float:  value_int: \n",
      "[WARN] unable to get value: sheet_name: MRINRNPatternOfInjuryExtent value: - value_float:  value_int: \n",
      "[WARN] unable to get value: sheet_name: MRINRNPatternOfInjuryExtent value: - value_float:  value_int: \n",
      "[WARN] unable to get value: sheet_name: MRINRNPatternOfInjuryExtent value: - value_float:  value_int: \n",
      "[WARN] unable to get value: sheet_name: MRINRNPatternOfInjuryExtent value: - value_float:  value_int: \n",
      "[WARN] unable to get value: sheet_name: MRINRNPatternOfInjuryExtent value: - value_float:  value_int: \n",
      "[WARN] unable to get value: sheet_name: MRINRNPatternOfInjuryExtent value: - value_float:  value_int: \n",
      "[WARN] unable to get value: sheet_name: MRINRNPatternOfInjuryExtent value: - value_float:  value_int: \n",
      "[WARN] unable to get value: sheet_name: MRINRNPatternOfInjuryExtent value: - value_float:  value_int: \n",
      "[WARN] unable to get value: sheet_name: MRINRNPatternOfInjuryExtent value: - value_float:  value_int: \n",
      "[WARN] unable to get value: sheet_name: MRINRNPatternOfInjuryExtent value: - value_float:  value_int: \n",
      "[WARN] unable to get value: sheet_name: MRINRNPatternOfInjuryExtent value: - value_float:  value_int: \n",
      "[WARN] unable to get value: sheet_name: MRINRNPatternOfInjuryExtent value: - value_float:  value_int: \n",
      "[WARN] unable to get value: sheet_name: MRINRNPatternOfInjuryExtent value: - value_float:  value_int: \n",
      "[WARN] unable to get value: sheet_name: MRINRNPatternOfInjuryExtent value: - value_float:  value_int: \n",
      "[WARN] unable to get value: sheet_name: MRINRNPatternOfInjuryExtent value: - value_float:  value_int: \n",
      "[WARN] unable to get value: sheet_name: MRINRNPatternOfInjuryExtent value: - value_float:  value_int: \n",
      "[WARN] unable to get value: sheet_name: MRINRNPatternOfInjuryExtent value: - value_float:  value_int: \n",
      "[WARN] unable to get value: sheet_name: MRINRNPatternOfInjuryExtent value: - value_float:  value_int: \n",
      "[WARN] unable to get value: sheet_name: MRINRNPatternOfInjuryExtent value: - value_float:  value_int: \n",
      "[WARN] unable to get value: sheet_name: MRINRNPatternOfInjuryExtent value: - value_float:  value_int: \n",
      "[WARN] unable to get value: sheet_name: MRINRNPatternOfInjuryExtent value: - value_float:  value_int: \n",
      "[WARN] unable to get value: sheet_name: MRINRNPatternOfInjuryExtent value: - value_float:  value_int: \n",
      "[WARN] unable to get value: sheet_name: MRINRNPatternOfInjuryExtent value: - value_float:  value_int: \n",
      "[WARN] unable to get value: sheet_name: MRINRNPatternOfInjuryExtent value: - value_float:  value_int: \n",
      "[WARN] unable to get value: sheet_name: MRINRNPatternOfInjuryExtent value: - value_float:  value_int: \n",
      "[WARN] unable to get value: sheet_name: MRINRNPatternOfInjuryExtent value: - value_float:  value_int: \n",
      "[WARN] unable to get value: sheet_name: MRINRNPatternOfInjuryExtent value: - value_float:  value_int: \n",
      "[WARN] unable to get value: sheet_name: MRINRNPatternOfInjuryExtent value: - value_float:  value_int: \n",
      "[WARN] unable to get value: sheet_name: MRINRNPatternOfInjuryExtent value: - value_float:  value_int: \n",
      "[WARN] unable to get value: sheet_name: MRINRNPatternOfInjuryExtent value: - value_float:  value_int: \n",
      "[WARN] unable to get value: sheet_name: MRINRNPatternOfInjuryExtent value: - value_float:  value_int: \n",
      "[WARN] unable to get value: sheet_name: MRINRNPatternOfInjuryExtent value: - value_float:  value_int: \n",
      "[WARN] unable to get value: sheet_name: MRINRNPatternOfInjuryExtent value: - value_float:  value_int: \n",
      "[WARN] unable to get value: sheet_name: MRINRNPatternOfInjuryExtent value: - value_float:  value_int: \n",
      "[WARN] unable to get value: sheet_name: MRINRNPatternOfInjuryExtent value: - value_float:  value_int: \n",
      "[WARN] unable to get value: sheet_name: MRINRNPatternOfInjuryExtent value: - value_float:  value_int: \n",
      "[WARN] unable to get value: sheet_name: MRINRNPatternOfInjuryExtent value: - value_float:  value_int: \n",
      "[WARN] unable to get value: sheet_name: MRINRNPatternOfInjuryExtent value: - value_float:  value_int: \n",
      "[WARN] unable to get value: sheet_name: MRINRNPatternOfInjuryExtent value: - value_float:  value_int: \n",
      "[WARN] unable to get value: sheet_name: MRINRNPatternOfInjuryExtent value: - value_float:  value_int: \n",
      "[WARN] unable to get value: sheet_name: MRINRNPatternOfInjuryExtent value: - value_float:  value_int: \n",
      "[WARN] unable to get value: sheet_name: MRINRNPatternOfInjuryExtent value: - value_float:  value_int: \n",
      "[WARN] unable to get value: sheet_name: MRINRNPatternOfInjuryExtent value: - value_float:  value_int: \n",
      "[WARN] unable to get value: sheet_name: MRINRNPatternOfInjuryExtent value: - value_float:  value_int: \n",
      "[WARN] unable to get value: sheet_name: MRINRNPatternOfInjuryExtent value: - value_float:  value_int: \n",
      "[WARN] unable to get value: sheet_name: MRINRNPatternOfInjuryExtent value: - value_float:  value_int: \n",
      "[WARN] unable to get value: sheet_name: MRINRNPatternOfInjuryExtent value: - value_float:  value_int: \n",
      "[WARN] unable to get value: sheet_name: MRINRNPatternOfInjuryExtent value: - value_float:  value_int: \n",
      "[WARN] unable to get value: sheet_name: MRINRNPatternOfInjuryExtent value: - value_float:  value_int: \n",
      "[WARN] unable to get value: sheet_name: MRINRNPatternOfInjuryExtent value: - value_float:  value_int: \n",
      "[WARN] unable to get value: sheet_name: MRINRNPatternOfInjuryExtent value: - value_float:  value_int: \n",
      "[WARN] unable to get value: sheet_name: MRINRNPatternOfInjuryExtent value: - value_float:  value_int: \n",
      "[WARN] unable to get value: sheet_name: MRINRNPatternOfInjuryExtent value: - value_float:  value_int: \n",
      "[WARN] unable to get value: sheet_name: MRINRNPatternOfInjuryExtent value: - value_float:  value_int: \n",
      "[WARN] unable to get value: sheet_name: MRINRNPatternOfInjuryExtent value: - value_float:  value_int: \n",
      "[WARN] unable to get value: sheet_name: MRINRNPatternOfInjuryExtent value: - value_float:  value_int: \n",
      "[WARN] unable to get value: sheet_name: MRINRNPatternOfInjuryExtent value: - value_float:  value_int: \n",
      "[WARN] unable to get value: sheet_name: MRINRNPatternOfInjuryExtent value: - value_float:  value_int: \n",
      "[WARN] unable to get value: sheet_name: MRINRNPatternOfInjuryExtent value: - value_float:  value_int: \n",
      "[WARN] unable to get value: sheet_name: MRINRNPatternOfInjuryExtent value: - value_float:  value_int: \n",
      "[WARN] unable to get value: sheet_name: MRINRNPatternOfInjuryExtent value: - value_float:  value_int: \n",
      "[WARN] unable to get value: sheet_name: MRINRNPatternOfInjuryExtent value: - value_float:  value_int: \n",
      "[WARN] unable to get value: sheet_name: MRINRNPatternOfInjuryExtent value: - value_float:  value_int: \n",
      "[WARN] unable to get value: sheet_name: MRINRNPatternOfInjuryExtent value: - value_float:  value_int: \n",
      "[WARN] unable to get value: sheet_name: MRINRNPatternOfInjuryExtent value: - value_float:  value_int: \n",
      "[WARN] unable to get value: sheet_name: MRINRNPatternOfInjuryExtent value: - value_float:  value_int: \n",
      "[WARN] unable to get value: sheet_name: MRINRNPatternOfInjuryExtent value: - value_float:  value_int: \n",
      "[WARN] unable to get value: sheet_name: MRINRNPatternOfInjuryExtent value: - value_float:  value_int: \n",
      "[WARN] unable to get value: sheet_name: MRINRNPatternOfInjuryExtent value: - value_float:  value_int: \n",
      "[WARN] unable to get value: sheet_name: MRINRNPatternOfInjuryExtent value: - value_float:  value_int: \n",
      "[WARN] unable to get value: sheet_name: MRINRNPatternOfInjuryExtent value: - value_float:  value_int: \n",
      "[WARN] unable to get value: sheet_name: MRINRNPatternOfInjuryExtent value: - value_float:  value_int: \n",
      "[WARN] unable to get value: sheet_name: MRINRNPatternOfInjuryExtent value: - value_float:  value_int: \n",
      "[WARN] unable to get value: sheet_name: MRINRNPatternOfInjuryExtent value: - value_float:  value_int: \n",
      "[WARN] unable to get value: sheet_name: MRINRNPatternOfInjuryExtent value: - value_float:  value_int: \n",
      "[WARN] unable to get value: sheet_name: MRINRNPatternOfInjuryExtent value: - value_float:  value_int: \n",
      "[WARN] unable to get value: sheet_name: MRINRNPatternOfInjuryExtent value: - value_float:  value_int: \n",
      "[WARN] unable to get value: sheet_name: MRINRNPatternOfInjuryExtent value: - value_float:  value_int: \n",
      "[WARN] unable to get value: sheet_name: MRINRNPatternOfInjuryExtent value: - value_float:  value_int: \n",
      "[WARN] unable to get value: sheet_name: MRINRNPatternOfInjuryExtent value: - value_float:  value_int: \n",
      "[WARN] unable to get value: sheet_name: MRINRNPatternOfInjuryExtent value: - value_float:  value_int: \n",
      "[WARN] unable to get value: sheet_name: MRINRNPatternOfInjuryExtent value: - value_float:  value_int: \n",
      "[WARN] unable to get value: sheet_name: MRINRNPatternOfInjuryExtent value: - value_float:  value_int: \n",
      "[WARN] unable to get value: sheet_name: MRINRNPatternOfInjuryExtent value: - value_float:  value_int: \n",
      "[WARN] unable to get value: sheet_name: MRINRNPatternOfInjuryExtent value: - value_float:  value_int: \n",
      "[WARN] unable to get value: sheet_name: MRINRNPatternOfInjuryExtent value: - value_float:  value_int: \n",
      "[WARN] unable to get value: sheet_name: MRINRNPatternOfInjuryExtent value: - value_float:  value_int: \n",
      "[WARN] unable to get value: sheet_name: MRINRNPatternOfInjuryExtent value: - value_float:  value_int: \n",
      "[WARN] unable to get value: sheet_name: MRINRNPatternOfInjuryExtent value: - value_float:  value_int: \n",
      "[WARN] unable to get value: sheet_name: MRINRNPatternOfInjuryExtent value: - value_float:  value_int: \n",
      "[WARN] unable to get value: sheet_name: MRINRNPatternOfInjuryExtent value: - value_float:  value_int: \n",
      "[WARN] unable to get value: sheet_name: MRINRNPatternOfInjuryExtent value: - value_float:  value_int: \n",
      "[WARN] unable to get value: sheet_name: MRINRNPatternOfInjuryExtent value: - value_float:  value_int: \n",
      "[WARN] unable to get value: sheet_name: MRINRNPatternOfInjuryExtent value: - value_float:  value_int: \n",
      "[WARN] unable to get value: sheet_name: MRINRNPatternOfInjuryExtent value: - value_float:  value_int: \n",
      "[WARN] unable to get value: sheet_name: MRINRNPatternOfInjuryExtent value: - value_float:  value_int: \n",
      "[WARN] unable to get value: sheet_name: MRINRNPatternOfInjuryExtent value: - value_float:  value_int: \n",
      "[WARN] unable to get value: sheet_name: MRINRNPatternOfInjuryExtent value: - value_float:  value_int: \n",
      "[WARN] unable to get value: sheet_name: MRINRNPatternOfInjuryExtent value: - value_float:  value_int: \n",
      "[WARN] unable to get value: sheet_name: MRINRNPatternOfInjuryExtent value: - value_float:  value_int: \n",
      "[WARN] unable to get value: sheet_name: MRINRNPatternOfInjuryExtent value: - value_float:  value_int: \n",
      "[WARN] unable to get value: sheet_name: MRINRNPatternOfInjuryExtent value: - value_float:  value_int: \n",
      "[WARN] unable to get value: sheet_name: MRINRNPatternOfInjuryExtent value: - value_float:  value_int: \n",
      "[WARN] unable to get value: sheet_name: MRINRNPatternOfInjuryExtent value: - value_float:  value_int: \n",
      "[WARN] unable to get value: sheet_name: MRINRNPatternOfInjuryExtent value: - value_float:  value_int: \n",
      "[WARN] unable to get value: sheet_name: MRINRNPatternOfInjuryExtent value: - value_float:  value_int: \n",
      "[WARN] unable to get value: sheet_name: MRINRNPatternOfInjuryExtent value: - value_float:  value_int: \n",
      "[WARN] unable to get value: sheet_name: MRINRNPatternOfInjuryExtent value: - value_float:  value_int: \n",
      "[WARN] unable to get value: sheet_name: MRINRNPatternOfInjuryExtent value: - value_float:  value_int: \n",
      "[WARN] unable to get value: sheet_name: MRINRNPatternOfInjuryExtent value: - value_float:  value_int: \n",
      "[WARN] unable to get value: sheet_name: MRINRNPatternOfInjuryExtent value: - value_float:  value_int: \n",
      "[WARN] unable to get value: sheet_name: MRINRNPatternOfInjuryExtent value: - value_float:  value_int: \n",
      "[WARN] unable to get value: sheet_name: MRINRNPatternOfInjuryExtent value: - value_float:  value_int: \n",
      "[WARN] unable to get value: sheet_name: MRINRNPatternOfInjuryExtent value: - value_float:  value_int: \n",
      "[WARN] unable to get value: sheet_name: MRINRNPatternOfInjuryExtent value: - value_float:  value_int: \n",
      "[WARN] unable to get value: sheet_name: MRINRNPatternOfInjuryExtent value: - value_float:  value_int: \n",
      "[WARN] unable to get value: sheet_name: MRINRNPatternOfInjuryExtent value: - value_float:  value_int: \n",
      "[WARN] unable to get value: sheet_name: MRINRNPatternOfInjuryExtent value: - value_float:  value_int: \n",
      "[WARN] unable to get value: sheet_name: MRINRNPatternOfInjuryExtent value: - value_float:  value_int: \n",
      "[WARN] unable to get value: sheet_name: MRINRNPatternOfInjuryExtent value: - value_float:  value_int: \n",
      "[WARN] unable to get value: sheet_name: MRINRNPatternOfInjuryExtent value: - value_float:  value_int: \n",
      "[WARN] unable to get value: sheet_name: MRINRNPatternOfInjuryExtent value: - value_float:  value_int: \n",
      "[WARN] unable to get value: sheet_name: MRINRNPatternOfInjuryExtent value: - value_float:  value_int: \n",
      "[WARN] unable to get value: sheet_name: MRINRNPatternOfInjuryExtent value: - value_float:  value_int: \n",
      "[WARN] unable to get value: sheet_name: MRINRNPatternOfInjuryExtent value: - value_float:  value_int: \n",
      "[WARN] unable to get value: sheet_name: MRINRNPatternOfInjuryExtent value: - value_float:  value_int: \n",
      "[WARN] unable to get value: sheet_name: MRINRNPatternOfInjuryExtent value: - value_float:  value_int: \n",
      "[WARN] unable to get value: sheet_name: MRINRNPatternOfInjuryExtent value: - value_float:  value_int: \n",
      "[WARN] unable to get value: sheet_name: MRINRNPatternOfInjuryExtent value: - value_float:  value_int: \n",
      "[WARN] unable to get value: sheet_name: MRINRNPatternOfInjuryExtent value: - value_float:  value_int: \n",
      "[WARN] unable to get value: sheet_name: MRINRNPatternOfInjuryExtent value: - value_float:  value_int: \n",
      "[WARN] unable to get value: sheet_name: MRINRNPatternOfInjuryExtent value: - value_float:  value_int: \n",
      "[WARN] unable to get value: sheet_name: MRINRNPatternOfInjuryExtent value: - value_float:  value_int: \n",
      "[WARN] unable to get value: sheet_name: MRINRNPatternOfInjuryExtent value: - value_float:  value_int: \n",
      "[WARN] unable to get value: sheet_name: MRINRNPatternOfInjuryExtent value: - value_float:  value_int: \n",
      "(72/77) normalize_value: column: MRINRNPatternOfInjuryExtent_c\n",
      "(73/77) normalize_value: column: MRINRNPatternOfInjuryLateral\n",
      "[WARN] unable to get value: sheet_name: MRINRNPatternOfInjuryLateral value: - value_float:  value_int: \n",
      "[WARN] unable to get value: sheet_name: MRINRNPatternOfInjuryLateral value: - value_float:  value_int: \n",
      "[WARN] unable to get value: sheet_name: MRINRNPatternOfInjuryLateral value: - value_float:  value_int: \n",
      "[WARN] unable to get value: sheet_name: MRINRNPatternOfInjuryLateral value: - value_float:  value_int: \n",
      "[WARN] unable to get value: sheet_name: MRINRNPatternOfInjuryLateral value: - value_float:  value_int: \n",
      "[WARN] unable to get value: sheet_name: MRINRNPatternOfInjuryLateral value: - value_float:  value_int: \n",
      "[WARN] unable to get value: sheet_name: MRINRNPatternOfInjuryLateral value: - value_float:  value_int: \n",
      "[WARN] unable to get value: sheet_name: MRINRNPatternOfInjuryLateral value: - value_float:  value_int: \n",
      "[WARN] unable to get value: sheet_name: MRINRNPatternOfInjuryLateral value: - value_float:  value_int: \n",
      "[WARN] unable to get value: sheet_name: MRINRNPatternOfInjuryLateral value: - value_float:  value_int: \n",
      "[WARN] unable to get value: sheet_name: MRINRNPatternOfInjuryLateral value: - value_float:  value_int: \n",
      "[WARN] unable to get value: sheet_name: MRINRNPatternOfInjuryLateral value: - value_float:  value_int: \n",
      "[WARN] unable to get value: sheet_name: MRINRNPatternOfInjuryLateral value: - value_float:  value_int: \n",
      "[WARN] unable to get value: sheet_name: MRINRNPatternOfInjuryLateral value: - value_float:  value_int: \n",
      "[WARN] unable to get value: sheet_name: MRINRNPatternOfInjuryLateral value: - value_float:  value_int: \n",
      "[WARN] unable to get value: sheet_name: MRINRNPatternOfInjuryLateral value: - value_float:  value_int: \n",
      "[WARN] unable to get value: sheet_name: MRINRNPatternOfInjuryLateral value: - value_float:  value_int: \n",
      "[WARN] unable to get value: sheet_name: MRINRNPatternOfInjuryLateral value: - value_float:  value_int: \n",
      "[WARN] unable to get value: sheet_name: MRINRNPatternOfInjuryLateral value: - value_float:  value_int: \n",
      "[WARN] unable to get value: sheet_name: MRINRNPatternOfInjuryLateral value: - value_float:  value_int: \n",
      "[WARN] unable to get value: sheet_name: MRINRNPatternOfInjuryLateral value: - value_float:  value_int: \n",
      "[WARN] unable to get value: sheet_name: MRINRNPatternOfInjuryLateral value: - value_float:  value_int: \n",
      "[WARN] unable to get value: sheet_name: MRINRNPatternOfInjuryLateral value: - value_float:  value_int: \n",
      "[WARN] unable to get value: sheet_name: MRINRNPatternOfInjuryLateral value: - value_float:  value_int: \n",
      "[WARN] unable to get value: sheet_name: MRINRNPatternOfInjuryLateral value: - value_float:  value_int: \n",
      "[WARN] unable to get value: sheet_name: MRINRNPatternOfInjuryLateral value: - value_float:  value_int: \n",
      "[WARN] unable to get value: sheet_name: MRINRNPatternOfInjuryLateral value: - value_float:  value_int: \n",
      "[WARN] unable to get value: sheet_name: MRINRNPatternOfInjuryLateral value: - value_float:  value_int: \n",
      "[WARN] unable to get value: sheet_name: MRINRNPatternOfInjuryLateral value: - value_float:  value_int: \n",
      "[WARN] unable to get value: sheet_name: MRINRNPatternOfInjuryLateral value: - value_float:  value_int: \n",
      "[WARN] unable to get value: sheet_name: MRINRNPatternOfInjuryLateral value: - value_float:  value_int: \n",
      "[WARN] unable to get value: sheet_name: MRINRNPatternOfInjuryLateral value: - value_float:  value_int: \n",
      "[WARN] unable to get value: sheet_name: MRINRNPatternOfInjuryLateral value: - value_float:  value_int: \n",
      "[WARN] unable to get value: sheet_name: MRINRNPatternOfInjuryLateral value: - value_float:  value_int: \n",
      "[WARN] unable to get value: sheet_name: MRINRNPatternOfInjuryLateral value: - value_float:  value_int: \n",
      "[WARN] unable to get value: sheet_name: MRINRNPatternOfInjuryLateral value: - value_float:  value_int: \n",
      "[WARN] unable to get value: sheet_name: MRINRNPatternOfInjuryLateral value: - value_float:  value_int: \n",
      "[WARN] unable to get value: sheet_name: MRINRNPatternOfInjuryLateral value: - value_float:  value_int: \n",
      "[WARN] unable to get value: sheet_name: MRINRNPatternOfInjuryLateral value: - value_float:  value_int: \n",
      "[WARN] unable to get value: sheet_name: MRINRNPatternOfInjuryLateral value: - value_float:  value_int: \n",
      "[WARN] unable to get value: sheet_name: MRINRNPatternOfInjuryLateral value: - value_float:  value_int: \n",
      "[WARN] unable to get value: sheet_name: MRINRNPatternOfInjuryLateral value: - value_float:  value_int: \n",
      "[WARN] unable to get value: sheet_name: MRINRNPatternOfInjuryLateral value: - value_float:  value_int: \n",
      "[WARN] unable to get value: sheet_name: MRINRNPatternOfInjuryLateral value: - value_float:  value_int: \n",
      "[WARN] unable to get value: sheet_name: MRINRNPatternOfInjuryLateral value: - value_float:  value_int: \n",
      "[WARN] unable to get value: sheet_name: MRINRNPatternOfInjuryLateral value: - value_float:  value_int: \n",
      "[WARN] unable to get value: sheet_name: MRINRNPatternOfInjuryLateral value: - value_float:  value_int: \n",
      "[WARN] unable to get value: sheet_name: MRINRNPatternOfInjuryLateral value: - value_float:  value_int: \n",
      "[WARN] unable to get value: sheet_name: MRINRNPatternOfInjuryLateral value: - value_float:  value_int: \n",
      "[WARN] unable to get value: sheet_name: MRINRNPatternOfInjuryLateral value: - value_float:  value_int: \n",
      "[WARN] unable to get value: sheet_name: MRINRNPatternOfInjuryLateral value: - value_float:  value_int: \n",
      "[WARN] unable to get value: sheet_name: MRINRNPatternOfInjuryLateral value: - value_float:  value_int: \n",
      "[WARN] unable to get value: sheet_name: MRINRNPatternOfInjuryLateral value: - value_float:  value_int: \n",
      "[WARN] unable to get value: sheet_name: MRINRNPatternOfInjuryLateral value: - value_float:  value_int: \n",
      "[WARN] unable to get value: sheet_name: MRINRNPatternOfInjuryLateral value: - value_float:  value_int: \n",
      "[WARN] unable to get value: sheet_name: MRINRNPatternOfInjuryLateral value: - value_float:  value_int: \n",
      "[WARN] unable to get value: sheet_name: MRINRNPatternOfInjuryLateral value: - value_float:  value_int: \n",
      "[WARN] unable to get value: sheet_name: MRINRNPatternOfInjuryLateral value: - value_float:  value_int: \n",
      "[WARN] unable to get value: sheet_name: MRINRNPatternOfInjuryLateral value: - value_float:  value_int: \n",
      "[WARN] unable to get value: sheet_name: MRINRNPatternOfInjuryLateral value: - value_float:  value_int: \n",
      "[WARN] unable to get value: sheet_name: MRINRNPatternOfInjuryLateral value: - value_float:  value_int: \n",
      "[WARN] unable to get value: sheet_name: MRINRNPatternOfInjuryLateral value: - value_float:  value_int: \n",
      "[WARN] unable to get value: sheet_name: MRINRNPatternOfInjuryLateral value: - value_float:  value_int: \n",
      "[WARN] unable to get value: sheet_name: MRINRNPatternOfInjuryLateral value: - value_float:  value_int: \n",
      "[WARN] unable to get value: sheet_name: MRINRNPatternOfInjuryLateral value: - value_float:  value_int: \n",
      "[WARN] unable to get value: sheet_name: MRINRNPatternOfInjuryLateral value: - value_float:  value_int: \n",
      "[WARN] unable to get value: sheet_name: MRINRNPatternOfInjuryLateral value: - value_float:  value_int: \n",
      "[WARN] unable to get value: sheet_name: MRINRNPatternOfInjuryLateral value: - value_float:  value_int: \n",
      "[WARN] unable to get value: sheet_name: MRINRNPatternOfInjuryLateral value: - value_float:  value_int: \n",
      "[WARN] unable to get value: sheet_name: MRINRNPatternOfInjuryLateral value: - value_float:  value_int: \n",
      "[WARN] unable to get value: sheet_name: MRINRNPatternOfInjuryLateral value: - value_float:  value_int: \n",
      "[WARN] unable to get value: sheet_name: MRINRNPatternOfInjuryLateral value: - value_float:  value_int: \n",
      "[WARN] unable to get value: sheet_name: MRINRNPatternOfInjuryLateral value: - value_float:  value_int: \n",
      "[WARN] unable to get value: sheet_name: MRINRNPatternOfInjuryLateral value: - value_float:  value_int: \n",
      "[WARN] unable to get value: sheet_name: MRINRNPatternOfInjuryLateral value: - value_float:  value_int: \n",
      "[WARN] unable to get value: sheet_name: MRINRNPatternOfInjuryLateral value: - value_float:  value_int: \n",
      "[WARN] unable to get value: sheet_name: MRINRNPatternOfInjuryLateral value: - value_float:  value_int: \n",
      "[WARN] unable to get value: sheet_name: MRINRNPatternOfInjuryLateral value: - value_float:  value_int: \n",
      "[WARN] unable to get value: sheet_name: MRINRNPatternOfInjuryLateral value: - value_float:  value_int: \n",
      "[WARN] unable to get value: sheet_name: MRINRNPatternOfInjuryLateral value: - value_float:  value_int: \n",
      "[WARN] unable to get value: sheet_name: MRINRNPatternOfInjuryLateral value: - value_float:  value_int: \n",
      "[WARN] unable to get value: sheet_name: MRINRNPatternOfInjuryLateral value: - value_float:  value_int: \n",
      "[WARN] unable to get value: sheet_name: MRINRNPatternOfInjuryLateral value: - value_float:  value_int: \n",
      "[WARN] unable to get value: sheet_name: MRINRNPatternOfInjuryLateral value: - value_float:  value_int: \n",
      "[WARN] unable to get value: sheet_name: MRINRNPatternOfInjuryLateral value: - value_float:  value_int: \n",
      "[WARN] unable to get value: sheet_name: MRINRNPatternOfInjuryLateral value: - value_float:  value_int: \n",
      "[WARN] unable to get value: sheet_name: MRINRNPatternOfInjuryLateral value: - value_float:  value_int: \n",
      "[WARN] unable to get value: sheet_name: MRINRNPatternOfInjuryLateral value: - value_float:  value_int: \n",
      "[WARN] unable to get value: sheet_name: MRINRNPatternOfInjuryLateral value: - value_float:  value_int: \n",
      "[WARN] unable to get value: sheet_name: MRINRNPatternOfInjuryLateral value: - value_float:  value_int: \n",
      "[WARN] unable to get value: sheet_name: MRINRNPatternOfInjuryLateral value: - value_float:  value_int: \n",
      "[WARN] unable to get value: sheet_name: MRINRNPatternOfInjuryLateral value: - value_float:  value_int: \n",
      "[WARN] unable to get value: sheet_name: MRINRNPatternOfInjuryLateral value: - value_float:  value_int: \n",
      "[WARN] unable to get value: sheet_name: MRINRNPatternOfInjuryLateral value: - value_float:  value_int: \n",
      "[WARN] unable to get value: sheet_name: MRINRNPatternOfInjuryLateral value: - value_float:  value_int: \n",
      "[WARN] unable to get value: sheet_name: MRINRNPatternOfInjuryLateral value: - value_float:  value_int: \n",
      "[WARN] unable to get value: sheet_name: MRINRNPatternOfInjuryLateral value: - value_float:  value_int: \n",
      "[WARN] unable to get value: sheet_name: MRINRNPatternOfInjuryLateral value: - value_float:  value_int: \n",
      "[WARN] unable to get value: sheet_name: MRINRNPatternOfInjuryLateral value: - value_float:  value_int: \n",
      "[WARN] unable to get value: sheet_name: MRINRNPatternOfInjuryLateral value: - value_float:  value_int: \n",
      "[WARN] unable to get value: sheet_name: MRINRNPatternOfInjuryLateral value: - value_float:  value_int: \n",
      "[WARN] unable to get value: sheet_name: MRINRNPatternOfInjuryLateral value: - value_float:  value_int: \n",
      "[WARN] unable to get value: sheet_name: MRINRNPatternOfInjuryLateral value: - value_float:  value_int: \n",
      "[WARN] unable to get value: sheet_name: MRINRNPatternOfInjuryLateral value: - value_float:  value_int: \n",
      "[WARN] unable to get value: sheet_name: MRINRNPatternOfInjuryLateral value: - value_float:  value_int: \n",
      "[WARN] unable to get value: sheet_name: MRINRNPatternOfInjuryLateral value: - value_float:  value_int: \n",
      "[WARN] unable to get value: sheet_name: MRINRNPatternOfInjuryLateral value: - value_float:  value_int: \n",
      "[WARN] unable to get value: sheet_name: MRINRNPatternOfInjuryLateral value: - value_float:  value_int: \n",
      "[WARN] unable to get value: sheet_name: MRINRNPatternOfInjuryLateral value: - value_float:  value_int: \n",
      "[WARN] unable to get value: sheet_name: MRINRNPatternOfInjuryLateral value: - value_float:  value_int: \n",
      "[WARN] unable to get value: sheet_name: MRINRNPatternOfInjuryLateral value: - value_float:  value_int: \n",
      "[WARN] unable to get value: sheet_name: MRINRNPatternOfInjuryLateral value: - value_float:  value_int: \n",
      "[WARN] unable to get value: sheet_name: MRINRNPatternOfInjuryLateral value: - value_float:  value_int: \n",
      "[WARN] unable to get value: sheet_name: MRINRNPatternOfInjuryLateral value: - value_float:  value_int: \n",
      "[WARN] unable to get value: sheet_name: MRINRNPatternOfInjuryLateral value: - value_float:  value_int: \n",
      "[WARN] unable to get value: sheet_name: MRINRNPatternOfInjuryLateral value: - value_float:  value_int: \n",
      "[WARN] unable to get value: sheet_name: MRINRNPatternOfInjuryLateral value: - value_float:  value_int: \n",
      "[WARN] unable to get value: sheet_name: MRINRNPatternOfInjuryLateral value: - value_float:  value_int: \n",
      "[WARN] unable to get value: sheet_name: MRINRNPatternOfInjuryLateral value: - value_float:  value_int: \n",
      "[WARN] unable to get value: sheet_name: MRINRNPatternOfInjuryLateral value: - value_float:  value_int: \n",
      "[WARN] unable to get value: sheet_name: MRINRNPatternOfInjuryLateral value: - value_float:  value_int: \n",
      "[WARN] unable to get value: sheet_name: MRINRNPatternOfInjuryLateral value: - value_float:  value_int: \n",
      "[WARN] unable to get value: sheet_name: MRINRNPatternOfInjuryLateral value: - value_float:  value_int: \n",
      "[WARN] unable to get value: sheet_name: MRINRNPatternOfInjuryLateral value: - value_float:  value_int: \n",
      "[WARN] unable to get value: sheet_name: MRINRNPatternOfInjuryLateral value: - value_float:  value_int: \n",
      "[WARN] unable to get value: sheet_name: MRINRNPatternOfInjuryLateral value: - value_float:  value_int: \n",
      "[WARN] unable to get value: sheet_name: MRINRNPatternOfInjuryLateral value: - value_float:  value_int: \n",
      "[WARN] unable to get value: sheet_name: MRINRNPatternOfInjuryLateral value: - value_float:  value_int: \n",
      "[WARN] unable to get value: sheet_name: MRINRNPatternOfInjuryLateral value: - value_float:  value_int: \n",
      "[WARN] unable to get value: sheet_name: MRINRNPatternOfInjuryLateral value: - value_float:  value_int: \n",
      "[WARN] unable to get value: sheet_name: MRINRNPatternOfInjuryLateral value: - value_float:  value_int: \n",
      "[WARN] unable to get value: sheet_name: MRINRNPatternOfInjuryLateral value: - value_float:  value_int: \n",
      "[WARN] unable to get value: sheet_name: MRINRNPatternOfInjuryLateral value: - value_float:  value_int: \n",
      "[WARN] unable to get value: sheet_name: MRINRNPatternOfInjuryLateral value: - value_float:  value_int: \n",
      "[WARN] unable to get value: sheet_name: MRINRNPatternOfInjuryLateral value: - value_float:  value_int: \n",
      "[WARN] unable to get value: sheet_name: MRINRNPatternOfInjuryLateral value: - value_float:  value_int: \n",
      "[WARN] unable to get value: sheet_name: MRINRNPatternOfInjuryLateral value: - value_float:  value_int: \n",
      "[WARN] unable to get value: sheet_name: MRINRNPatternOfInjuryLateral value: - value_float:  value_int: \n",
      "[WARN] unable to get value: sheet_name: MRINRNPatternOfInjuryLateral value: - value_float:  value_int: \n",
      "[WARN] unable to get value: sheet_name: MRINRNPatternOfInjuryLateral value: - value_float:  value_int: \n",
      "[WARN] unable to get value: sheet_name: MRINRNPatternOfInjuryLateral value: - value_float:  value_int: \n",
      "[WARN] unable to get value: sheet_name: MRINRNPatternOfInjuryLateral value: - value_float:  value_int: \n",
      "[WARN] unable to get value: sheet_name: MRINRNPatternOfInjuryLateral value: - value_float:  value_int: \n",
      "[WARN] unable to get value: sheet_name: MRINRNPatternOfInjuryLateral value: - value_float:  value_int: \n",
      "[WARN] unable to get value: sheet_name: MRINRNPatternOfInjuryLateral value: - value_float:  value_int: \n",
      "[WARN] unable to get value: sheet_name: MRINRNPatternOfInjuryLateral value: - value_float:  value_int: \n",
      "[WARN] unable to get value: sheet_name: MRINRNPatternOfInjuryLateral value: - value_float:  value_int: \n",
      "[WARN] unable to get value: sheet_name: MRINRNPatternOfInjuryLateral value: - value_float:  value_int: \n",
      "[WARN] unable to get value: sheet_name: MRINRNPatternOfInjuryLateral value: - value_float:  value_int: \n",
      "[WARN] unable to get value: sheet_name: MRINRNPatternOfInjuryLateral value: - value_float:  value_int: \n",
      "[WARN] unable to get value: sheet_name: MRINRNPatternOfInjuryLateral value: - value_float:  value_int: \n",
      "[WARN] unable to get value: sheet_name: MRINRNPatternOfInjuryLateral value: - value_float:  value_int: \n",
      "[WARN] unable to get value: sheet_name: MRINRNPatternOfInjuryLateral value: - value_float:  value_int: \n",
      "[WARN] unable to get value: sheet_name: MRINRNPatternOfInjuryLateral value: - value_float:  value_int: \n",
      "[WARN] unable to get value: sheet_name: MRINRNPatternOfInjuryLateral value: - value_float:  value_int: \n",
      "[WARN] unable to get value: sheet_name: MRINRNPatternOfInjuryLateral value: - value_float:  value_int: \n",
      "[WARN] unable to get value: sheet_name: MRINRNPatternOfInjuryLateral value: - value_float:  value_int: \n",
      "[WARN] unable to get value: sheet_name: MRINRNPatternOfInjuryLateral value: - value_float:  value_int: \n",
      "[WARN] unable to get value: sheet_name: MRINRNPatternOfInjuryLateral value: - value_float:  value_int: \n",
      "[WARN] unable to get value: sheet_name: MRINRNPatternOfInjuryLateral value: - value_float:  value_int: \n",
      "[WARN] unable to get value: sheet_name: MRINRNPatternOfInjuryLateral value: - value_float:  value_int: \n",
      "[WARN] unable to get value: sheet_name: MRINRNPatternOfInjuryLateral value: - value_float:  value_int: \n",
      "[WARN] unable to get value: sheet_name: MRINRNPatternOfInjuryLateral value: - value_float:  value_int: \n",
      "[WARN] unable to get value: sheet_name: MRINRNPatternOfInjuryLateral value: - value_float:  value_int: \n",
      "[WARN] unable to get value: sheet_name: MRINRNPatternOfInjuryLateral value: - value_float:  value_int: \n",
      "[WARN] unable to get value: sheet_name: MRINRNPatternOfInjuryLateral value: - value_float:  value_int: \n",
      "[WARN] unable to get value: sheet_name: MRINRNPatternOfInjuryLateral value: - value_float:  value_int: \n",
      "(74/77) normalize_value: column: MRINRNPatternOfInjuryLateral_c\n",
      "(75/77) normalize_value: column: siteID\n",
      "(76/77) normalize_value: column: MRI_ID\n"
     ]
    },
    {
     "name": "stdout",
     "output_type": "stream",
     "text": [
      "flatten_index: flatten_ids: ['MRIReader'] unique_id_map: {'1': '1', '2': '2', '3': '3'} the_type: object\n"
     ]
    }
   ],
   "source": [
    "filename = os.sep.join([input_dir, base_filename])\n",
    "df = pd.read_csv(filename, dtype='O')\n",
    "df = COMBINE_harmonizer.normalize_value(df, _VALUE_MAP, _FLATTEN_IDS, order_map=_ORDER_MAP)"
   ]
  },
  {
   "cell_type": "code",
   "execution_count": 114,
   "id": "51e686ca",
   "metadata": {
    "execution": {
     "iopub.execute_input": "2025-01-21T19:15:07.946870Z",
     "iopub.status.busy": "2025-01-21T19:15:07.946780Z",
     "iopub.status.idle": "2025-01-21T19:15:08.054465Z",
     "shell.execute_reply": "2025-01-21T19:15:08.054167Z"
    }
   },
   "outputs": [],
   "source": [
    "out_filename = os.sep.join([out_dir, base_filename])\n",
    "df.to_csv(out_filename, index=False)"
   ]
  },
  {
   "cell_type": "code",
   "execution_count": 115,
   "id": "7994f3be",
   "metadata": {
    "execution": {
     "iopub.execute_input": "2025-01-21T19:15:08.056071Z",
     "iopub.status.busy": "2025-01-21T19:15:08.055968Z",
     "iopub.status.idle": "2025-01-21T19:15:08.066807Z",
     "shell.execute_reply": "2025-01-21T19:15:08.066547Z"
    }
   },
   "outputs": [
    {
     "name": "stdout",
     "output_type": "stream",
     "text": [
      "(0/155) center: (671/0)\n",
      "(1/155) center.orig: (671/0)\n",
      "(2/155) subjectID: (671/0)\n",
      "(3/155) subjectID.orig: (671/0)\n",
      "(4/155) uniqueID: (671/0)\n",
      "(5/155) uniqueID.orig: (671/0)\n",
      "(6/155) MRI_ID: (671/0)\n",
      "(7/155) MRI_ID.orig: (671/0)\n",
      "(8/155) _flatten_index: (671/0)\n",
      "(9/155) siteID: (671/0)\n",
      "(10/155) siteID.orig: (671/0)\n",
      "(11/155) MRIDate: (671/0)\n",
      "(12/155) MRIDate.orig: (594/77)\n",
      "(13/155) MRIIncrement: (671/0)\n",
      "(14/155) MRIIncrement.orig: (671/0)\n",
      "(15/155) MRIReader: (671/0)\n",
      "(16/155) MRIReader.orig: (671/0)\n",
      "(17/155) MRIReadDate: (671/0)\n",
      "(18/155) MRIReadDate.orig: (661/10)\n",
      "(19/155) MRIStrength_T: (671/0)\n",
      "(20/155) MRIStrength_T.orig: (256/415)\n",
      "(21/155) MRIAdequateQuality: (671/0)\n",
      "(22/155) MRIAdequateQuality.orig: (266/405)\n",
      "(23/155) MRIAdequateQuality_c: (671/0)\n",
      "(24/155) MRIAdequateQuality_c.orig: (670/1)\n",
      "(25/155) MRIT1Axial: (671/0)\n",
      "(26/155) MRIT1Axial.orig: (671/0)\n",
      "(27/155) MRIT1Coronal: (671/0)\n",
      "(28/155) MRIT1Coronal.orig: (671/0)\n",
      "(29/155) MRIT1Sagittal: (671/0)\n",
      "(30/155) MRIT1Sagittal.orig: (671/0)\n",
      "(31/155) MRIT1: (671/0)\n",
      "(32/155) MRIT1.orig: (671/0)\n",
      "(33/155) MRIT2Axial: (671/0)\n",
      "(34/155) MRIT2Axial.orig: (671/0)\n",
      "(35/155) MRIT2Coronal: (671/0)\n",
      "(36/155) MRIT2Coronal.orig: (671/0)\n",
      "(37/155) MRIT2Sagittal: (671/0)\n",
      "(38/155) MRIT2Sagittal.orig: (671/0)\n",
      "(39/155) MRIT2: (671/0)\n",
      "(40/155) MRIT2.orig: (671/0)\n",
      "(41/155) MRIT2FLAIRAxial: (671/0)\n",
      "(42/155) MRIT2FLAIRAxial.orig: (671/0)\n",
      "(43/155) MRIT2FLAIRCoronal: (671/0)\n",
      "(44/155) MRIT2FLAIRCoronal.orig: (671/0)\n",
      "(45/155) MRIT2FLAIRSagittal: (671/0)\n",
      "(46/155) MRIT2FLAIRSagittal.orig: (671/0)\n",
      "(47/155) MRIT2FLAIR: (671/0)\n",
      "(48/155) MRIT2FLAIR.orig: (671/0)\n",
      "(49/155) MRIGRESWIAxial: (671/0)\n",
      "(50/155) MRIGRESWIAxial.orig: (671/0)\n",
      "(51/155) MRIGRESWICoronal: (671/0)\n",
      "(52/155) MRIGRESWICoronal.orig: (671/0)\n",
      "(53/155) MRIGRESWISagittal: (671/0)\n",
      "(54/155) MRIGRESWISagittal.orig: (671/0)\n",
      "(55/155) MRIGRESWI: (671/0)\n",
      "(56/155) MRIGRESWI.orig: (671/0)\n",
      "(57/155) MRISPGRAxial: (671/0)\n",
      "(58/155) MRISPGRAxial.orig: (671/0)\n",
      "(59/155) MRISPGRCoronal: (671/0)\n",
      "(60/155) MRISPGRCoronal.orig: (671/0)\n",
      "(61/155) MRISPGRSagittal: (671/0)\n",
      "(62/155) MRISPGRSagittal.orig: (671/0)\n",
      "(63/155) MRISPGR: (671/0)\n",
      "(64/155) MRISPGR.orig: (671/0)\n",
      "(65/155) MRIDWI: (671/0)\n",
      "(66/155) MRIDWI.orig: (475/196)\n",
      "(67/155) MRIDWI_c: (671/0)\n",
      "(68/155) MRIDWI_c.orig: (671/0)\n",
      "(69/155) MRIADC: (671/0)\n",
      "(70/155) MRIADC.orig: (1/670)\n",
      "(71/155) MRIADC_c: (671/0)\n",
      "(72/155) MRIADC_c.orig: (669/2)\n",
      "(73/155) MRIMRS: (671/0)\n",
      "(74/155) MRIMRS.orig: (86/585)\n",
      "(75/155) MRIMRS_c: (671/0)\n",
      "(76/155) MRIMRS_c.orig: (669/2)\n",
      "(77/155) MRIOther: (671/0)\n",
      "(78/155) MRIOther.orig: (108/563)\n",
      "(79/155) MRIOther_c: (671/0)\n",
      "(80/155) MRIOther_c.orig: (669/2)\n",
      "(81/155) MRIOtherText: (671/0)\n",
      "(82/155) MRIOtherText.orig: (106/565)\n",
      "(83/155) MRIOverallDiagnosis: (671/0)\n",
      "(84/155) MRIOverallDiagnosis.orig: (671/0)\n",
      "(85/155) MRIOverallDiagnosis_c: (671/0)\n",
      "(86/155) MRIOverallDiagnosis_c.orig: (583/88)\n",
      "(87/155) MRIAbnormal: (671/0)\n",
      "(88/155) MRIAbnormal.orig: (483/188)\n",
      "(89/155) MRIAbnormal_c: (671/0)\n",
      "(90/155) MRIAbnormal_c.orig: (671/0)\n",
      "(91/155) MRICerebralAtrophy: (671/0)\n",
      "(92/155) MRICerebralAtrophy.orig: (514/157)\n",
      "(93/155) MRICerebralAtrophy_c: (671/0)\n",
      "(94/155) MRICerebralAtrophy_c.orig: (535/136)\n",
      "(95/155) MRICerebralAtrophyGlobalLocal: (671/0)\n",
      "(96/155) MRICerebralAtrophyGlobalLocal.orig: (535/136)\n",
      "(97/155) MRICerebralAtrophyGlobalLocal_c: (671/0)\n",
      "(98/155) MRICerebralAtrophyGlobalLocal_c.orig: (32/639)\n",
      "(99/155) MRICerebralAtrophyRegion: (671/0)\n",
      "(100/155) MRICerebralAtrophyRegion.orig: (5/666)\n",
      "(101/155) MRICerebralAtrophyQualAssessCC: (671/0)\n",
      "(102/155) MRICerebralAtrophyQualAssessCC.orig: (535/136)\n",
      "(103/155) MRICerebralAtrophyQualAssessCC_c: (671/0)\n",
      "(104/155) MRICerebralAtrophyQualAssessCC_c.orig: (515/156)\n",
      "(105/155) MRICerebralAtrophyQualAssessVDLeft: (671/0)\n",
      "(106/155) MRICerebralAtrophyQualAssessVDLeft.orig: (535/136)\n",
      "(107/155) MRICerebralAtrophyQualAssessVDLeft_c: (671/0)\n",
      "(108/155) MRICerebralAtrophyQualAssessVDLeft_c.orig: (515/156)\n",
      "(109/155) MRICerebralAtrophyQualAssessVDRight: (671/0)\n",
      "(110/155) MRICerebralAtrophyQualAssessVDRight.orig: (535/136)\n",
      "(111/155) MRICerebralAtrophyQualAssessVDRight_c: (671/0)\n",
      "(112/155) MRICerebralAtrophyQualAssessVDRight_c.orig: (514/157)\n",
      "(113/155) MRIInfarction: (671/0)\n",
      "(114/155) MRIInfarction.orig: (423/248)\n",
      "(115/155) MRIInfarction_c: (671/0)\n",
      "(116/155) MRIInfarction_c.orig: (535/136)\n",
      "(117/155) MRIInfarctionAterialTerritoryLeft: (671/0)\n",
      "(118/155) MRIInfarctionAterialTerritoryLeft.orig: (535/136)\n",
      "(119/155) MRIInfarctionAterialTerritoryRight: (671/0)\n",
      "(120/155) MRIInfarctionAterialTerritoryRight.orig: (535/136)\n",
      "(121/155) MRIMidlineShift: (671/0)\n",
      "(122/155) MRIMidlineShift.orig: (433/238)\n",
      "(123/155) MRIMidlineShift_c: (671/0)\n",
      "(124/155) MRIMidlineShift_c.orig: (535/136)\n",
      "(125/155) MRIBGT: (671/0)\n",
      "(126/155) MRIBGT.orig: (482/189)\n",
      "(127/155) MRIBGT_c: (671/0)\n",
      "(128/155) MRIBGT_c.orig: (433/238)\n",
      "(129/155) MRIPLIC: (671/0)\n",
      "(130/155) MRIPLIC.orig: (482/189)\n",
      "(131/155) MRIPLIC_c: (671/0)\n",
      "(132/155) MRIPLIC_c.orig: (433/238)\n",
      "(133/155) MRIWatershed: (671/0)\n",
      "(134/155) MRIWatershed.orig: (482/189)\n",
      "(135/155) MRIWatershed_c: (671/0)\n",
      "(136/155) MRIWatershed_c.orig: (425/246)\n",
      "(137/155) MRIWhiteMatterInjury: (671/0)\n",
      "(138/155) MRIWhiteMatterInjury.orig: (482/189)\n",
      "(139/155) MRIWhiteMatterInjury_c: (671/0)\n",
      "(140/155) MRIWhiteMatterInjury_c.orig: (424/247)\n",
      "(141/155) MRINRNPatternOfInjury: (671/0)\n",
      "(142/155) MRINRNPatternOfInjury.orig: (669/2)\n",
      "(143/155) MRINRNPatternOfInjury_c: (671/0)\n",
      "(144/155) MRINRNPatternOfInjury_c.orig: (665/6)\n",
      "(145/155) MRINRNPatternOfInjuryExtent: (671/0)\n",
      "(146/155) MRINRNPatternOfInjuryExtent.orig: (669/2)\n",
      "(147/155) MRINRNPatternOfInjuryExtent_c: (671/0)\n",
      "(148/155) MRINRNPatternOfInjuryExtent_c.orig: (408/263)\n",
      "(149/155) MRINRNPatternOfInjuryLateral: (671/0)\n",
      "(150/155) MRINRNPatternOfInjuryLateral.orig: (669/2)\n",
      "(151/155) MRINRNPatternOfInjuryLateral_c: (671/0)\n",
      "(152/155) MRINRNPatternOfInjuryLateral_c.orig: (502/169)\n",
      "(153/155) MRIComment: (671/0)\n",
      "(154/155) MRIComment.orig: (58/613)\n"
     ]
    }
   ],
   "source": [
    "COMBINE_harmonizer.column_info(df)"
   ]
  },
  {
   "cell_type": "markdown",
   "id": "e63d749e",
   "metadata": {},
   "source": [
    "## 03-05_s-mri"
   ]
  },
  {
   "cell_type": "code",
   "execution_count": 116,
   "id": "d3c31b5d",
   "metadata": {
    "execution": {
     "iopub.execute_input": "2025-01-21T19:15:08.068173Z",
     "iopub.status.busy": "2025-01-21T19:15:08.068082Z",
     "iopub.status.idle": "2025-01-21T19:15:08.069768Z",
     "shell.execute_reply": "2025-01-21T19:15:08.069541Z"
    }
   },
   "outputs": [],
   "source": [
    "base_filename = '03-05_s-mri.csv'"
   ]
  },
  {
   "cell_type": "code",
   "execution_count": 117,
   "id": "a95a6572",
   "metadata": {
    "execution": {
     "iopub.execute_input": "2025-01-21T19:15:08.071091Z",
     "iopub.status.busy": "2025-01-21T19:15:08.071004Z",
     "iopub.status.idle": "2025-01-21T19:15:08.123671Z",
     "shell.execute_reply": "2025-01-21T19:15:08.123389Z"
    }
   },
   "outputs": [
    {
     "name": "stdout",
     "output_type": "stream",
     "text": [
      "(0/17) normalize_value: column: center\n",
      "(1/17) normalize_value: column: subjectID\n",
      "(2/17) normalize_value: column: uniqueID\n",
      "(3/17) normalize_value: column: birthNumber\n",
      "(4/17) normalize_value: column: siteID\n",
      "(5/17) normalize_value: column: MRIAvailable\n",
      "(6/17) normalize_value: column: MRIAvailable_c\n",
      "(7/17) normalize_value: column: MRINoObtainReason\n",
      "[WARN] unable to get value: sheet_name: MRINoObtainReason value: - value_float:  value_int: \n",
      "[WARN] unable to get value: sheet_name: MRINoObtainReason value: - value_float:  value_int: \n",
      "[WARN] unable to get value: sheet_name: MRINoObtainReason value: - value_float:  value_int: \n",
      "[WARN] unable to get value: sheet_name: MRINoObtainReason value: - value_float:  value_int: \n",
      "[WARN] unable to get value: sheet_name: MRINoObtainReason value: - value_float:  value_int: \n",
      "[WARN] unable to get value: sheet_name: MRINoObtainReason value: - value_float:  value_int: \n",
      "[WARN] unable to get value: sheet_name: MRINoObtainReason value: - value_float:  value_int: \n",
      "[WARN] unable to get value: sheet_name: MRINoObtainReason value: - value_float:  value_int: \n",
      "[WARN] unable to get value: sheet_name: MRINoObtainReason value: - value_float:  value_int: \n",
      "[WARN] unable to get value: sheet_name: MRINoObtainReason value: - value_float:  value_int: \n",
      "[WARN] unable to get value: sheet_name: MRINoObtainReason value: - value_float:  value_int: \n",
      "[WARN] unable to get value: sheet_name: MRINoObtainReason value: - value_float:  value_int: \n",
      "[WARN] unable to get value: sheet_name: MRINoObtainReason value: - value_float:  value_int: \n",
      "[WARN] unable to get value: sheet_name: MRINoObtainReason value: - value_float:  value_int: \n",
      "[WARN] unable to get value: sheet_name: MRINoObtainReason value: - value_float:  value_int: \n",
      "[WARN] unable to get value: sheet_name: MRINoObtainReason value: - value_float:  value_int: \n",
      "[WARN] unable to get value: sheet_name: MRINoObtainReason value: - value_float:  value_int: \n",
      "[WARN] unable to get value: sheet_name: MRINoObtainReason value: - value_float:  value_int: \n",
      "[WARN] unable to get value: sheet_name: MRINoObtainReason value: - value_float:  value_int: \n",
      "[WARN] unable to get value: sheet_name: MRINoObtainReason value: - value_float:  value_int: \n",
      "[WARN] unable to get value: sheet_name: MRINoObtainReason value: - value_float:  value_int: \n",
      "[WARN] unable to get value: sheet_name: MRINoObtainReason value: - value_float:  value_int: \n",
      "[WARN] unable to get value: sheet_name: MRINoObtainReason value: - value_float:  value_int: \n",
      "[WARN] unable to get value: sheet_name: MRINoObtainReason value: - value_float:  value_int: \n",
      "[WARN] unable to get value: sheet_name: MRINoObtainReason value: - value_float:  value_int: \n",
      "[WARN] unable to get value: sheet_name: MRINoObtainReason value: - value_float:  value_int: \n",
      "[WARN] unable to get value: sheet_name: MRINoObtainReason value: - value_float:  value_int: \n",
      "[WARN] unable to get value: sheet_name: MRINoObtainReason value: - value_float:  value_int: \n",
      "[WARN] unable to get value: sheet_name: MRINoObtainReason value: - value_float:  value_int: \n",
      "[WARN] unable to get value: sheet_name: MRINoObtainReason value: - value_float:  value_int: \n",
      "[WARN] unable to get value: sheet_name: MRINoObtainReason value: - value_float:  value_int: \n",
      "[WARN] unable to get value: sheet_name: MRINoObtainReason value: - value_float:  value_int: \n",
      "[WARN] unable to get value: sheet_name: MRINoObtainReason value: - value_float:  value_int: \n",
      "[WARN] unable to get value: sheet_name: MRINoObtainReason value: - value_float:  value_int: \n",
      "[WARN] unable to get value: sheet_name: MRINoObtainReason value: - value_float:  value_int: \n",
      "[WARN] unable to get value: sheet_name: MRINoObtainReason value: - value_float:  value_int: \n",
      "[WARN] unable to get value: sheet_name: MRINoObtainReason value: - value_float:  value_int: \n",
      "[WARN] unable to get value: sheet_name: MRINoObtainReason value: - value_float:  value_int: \n",
      "[WARN] unable to get value: sheet_name: MRINoObtainReason value: - value_float:  value_int: \n",
      "[WARN] unable to get value: sheet_name: MRINoObtainReason value: - value_float:  value_int: \n",
      "[WARN] unable to get value: sheet_name: MRINoObtainReason value: - value_float:  value_int: \n",
      "[WARN] unable to get value: sheet_name: MRINoObtainReason value: - value_float:  value_int: \n",
      "[WARN] unable to get value: sheet_name: MRINoObtainReason value: - value_float:  value_int: \n",
      "[WARN] unable to get value: sheet_name: MRINoObtainReason value: - value_float:  value_int: \n",
      "[WARN] unable to get value: sheet_name: MRINoObtainReason value: - value_float:  value_int: \n",
      "[WARN] unable to get value: sheet_name: MRINoObtainReason value: - value_float:  value_int: \n",
      "[WARN] unable to get value: sheet_name: MRINoObtainReason value: - value_float:  value_int: \n",
      "[WARN] unable to get value: sheet_name: MRINoObtainReason value: - value_float:  value_int: \n",
      "[WARN] unable to get value: sheet_name: MRINoObtainReason value: - value_float:  value_int: \n",
      "[WARN] unable to get value: sheet_name: MRINoObtainReason value: - value_float:  value_int: \n",
      "[WARN] unable to get value: sheet_name: MRINoObtainReason value: - value_float:  value_int: \n",
      "[WARN] unable to get value: sheet_name: MRINoObtainReason value: - value_float:  value_int: \n",
      "[WARN] unable to get value: sheet_name: MRINoObtainReason value: - value_float:  value_int: \n",
      "[WARN] unable to get value: sheet_name: MRINoObtainReason value: - value_float:  value_int: \n",
      "[WARN] unable to get value: sheet_name: MRINoObtainReason value: - value_float:  value_int: \n",
      "[WARN] unable to get value: sheet_name: MRINoObtainReason value: - value_float:  value_int: \n",
      "[WARN] unable to get value: sheet_name: MRINoObtainReason value: - value_float:  value_int: \n",
      "[WARN] unable to get value: sheet_name: MRINoObtainReason value: - value_float:  value_int: \n",
      "[WARN] unable to get value: sheet_name: MRINoObtainReason value: - value_float:  value_int: \n",
      "[WARN] unable to get value: sheet_name: MRINoObtainReason value: - value_float:  value_int: \n",
      "[WARN] unable to get value: sheet_name: MRINoObtainReason value: - value_float:  value_int: \n",
      "[WARN] unable to get value: sheet_name: MRINoObtainReason value: - value_float:  value_int: \n",
      "[WARN] unable to get value: sheet_name: MRINoObtainReason value: - value_float:  value_int: \n",
      "[WARN] unable to get value: sheet_name: MRINoObtainReason value: - value_float:  value_int: \n",
      "[WARN] unable to get value: sheet_name: MRINoObtainReason value: - value_float:  value_int: \n",
      "[WARN] unable to get value: sheet_name: MRINoObtainReason value: - value_float:  value_int: \n",
      "[WARN] unable to get value: sheet_name: MRINoObtainReason value: - value_float:  value_int: \n",
      "[WARN] unable to get value: sheet_name: MRINoObtainReason value: - value_float:  value_int: \n",
      "[WARN] unable to get value: sheet_name: MRINoObtainReason value: - value_float:  value_int: \n",
      "[WARN] unable to get value: sheet_name: MRINoObtainReason value: - value_float:  value_int: \n",
      "[WARN] unable to get value: sheet_name: MRINoObtainReason value: - value_float:  value_int: \n",
      "[WARN] unable to get value: sheet_name: MRINoObtainReason value: - value_float:  value_int: \n",
      "[WARN] unable to get value: sheet_name: MRINoObtainReason value: - value_float:  value_int: \n",
      "[WARN] unable to get value: sheet_name: MRINoObtainReason value: - value_float:  value_int: \n",
      "[WARN] unable to get value: sheet_name: MRINoObtainReason value: - value_float:  value_int: \n",
      "[WARN] unable to get value: sheet_name: MRINoObtainReason value: - value_float:  value_int: \n",
      "[WARN] unable to get value: sheet_name: MRINoObtainReason value: - value_float:  value_int: \n",
      "[WARN] unable to get value: sheet_name: MRINoObtainReason value: - value_float:  value_int: \n",
      "[WARN] unable to get value: sheet_name: MRINoObtainReason value: - value_float:  value_int: \n",
      "[WARN] unable to get value: sheet_name: MRINoObtainReason value: - value_float:  value_int: \n",
      "[WARN] unable to get value: sheet_name: MRINoObtainReason value: - value_float:  value_int: \n",
      "[WARN] unable to get value: sheet_name: MRINoObtainReason value: - value_float:  value_int: \n",
      "[WARN] unable to get value: sheet_name: MRINoObtainReason value: - value_float:  value_int: \n",
      "[WARN] unable to get value: sheet_name: MRINoObtainReason value: - value_float:  value_int: \n",
      "[WARN] unable to get value: sheet_name: MRINoObtainReason value: - value_float:  value_int: \n",
      "[WARN] unable to get value: sheet_name: MRINoObtainReason value: - value_float:  value_int: \n",
      "[WARN] unable to get value: sheet_name: MRINoObtainReason value: - value_float:  value_int: \n",
      "[WARN] unable to get value: sheet_name: MRINoObtainReason value: - value_float:  value_int: \n",
      "[WARN] unable to get value: sheet_name: MRINoObtainReason value: - value_float:  value_int: \n",
      "[WARN] unable to get value: sheet_name: MRINoObtainReason value: - value_float:  value_int: \n",
      "[WARN] unable to get value: sheet_name: MRINoObtainReason value: - value_float:  value_int: \n",
      "[WARN] unable to get value: sheet_name: MRINoObtainReason value: - value_float:  value_int: \n",
      "[WARN] unable to get value: sheet_name: MRINoObtainReason value: - value_float:  value_int: \n",
      "[WARN] unable to get value: sheet_name: MRINoObtainReason value: - value_float:  value_int: \n",
      "[WARN] unable to get value: sheet_name: MRINoObtainReason value: - value_float:  value_int: \n",
      "[WARN] unable to get value: sheet_name: MRINoObtainReason value: - value_float:  value_int: \n",
      "[WARN] unable to get value: sheet_name: MRINoObtainReason value: - value_float:  value_int: \n",
      "[WARN] unable to get value: sheet_name: MRINoObtainReason value: - value_float:  value_int: \n",
      "[WARN] unable to get value: sheet_name: MRINoObtainReason value: - value_float:  value_int: \n",
      "[WARN] unable to get value: sheet_name: MRINoObtainReason value: - value_float:  value_int: \n",
      "[WARN] unable to get value: sheet_name: MRINoObtainReason value: - value_float:  value_int: \n",
      "[WARN] unable to get value: sheet_name: MRINoObtainReason value: - value_float:  value_int: \n",
      "[WARN] unable to get value: sheet_name: MRINoObtainReason value: - value_float:  value_int: \n",
      "[WARN] unable to get value: sheet_name: MRINoObtainReason value: - value_float:  value_int: \n",
      "[WARN] unable to get value: sheet_name: MRINoObtainReason value: - value_float:  value_int: \n",
      "[WARN] unable to get value: sheet_name: MRINoObtainReason value: - value_float:  value_int: \n",
      "[WARN] unable to get value: sheet_name: MRINoObtainReason value: - value_float:  value_int: \n",
      "[WARN] unable to get value: sheet_name: MRINoObtainReason value: - value_float:  value_int: \n",
      "[WARN] unable to get value: sheet_name: MRINoObtainReason value: - value_float:  value_int: \n",
      "[WARN] unable to get value: sheet_name: MRINoObtainReason value: - value_float:  value_int: \n",
      "[WARN] unable to get value: sheet_name: MRINoObtainReason value: - value_float:  value_int: \n",
      "[WARN] unable to get value: sheet_name: MRINoObtainReason value: - value_float:  value_int: \n",
      "[WARN] unable to get value: sheet_name: MRINoObtainReason value: - value_float:  value_int: \n",
      "[WARN] unable to get value: sheet_name: MRINoObtainReason value: - value_float:  value_int: \n",
      "[WARN] unable to get value: sheet_name: MRINoObtainReason value: - value_float:  value_int: \n",
      "[WARN] unable to get value: sheet_name: MRINoObtainReason value: - value_float:  value_int: \n",
      "[WARN] unable to get value: sheet_name: MRINoObtainReason value: - value_float:  value_int: \n",
      "[WARN] unable to get value: sheet_name: MRINoObtainReason value: - value_float:  value_int: \n",
      "[WARN] unable to get value: sheet_name: MRINoObtainReason value: - value_float:  value_int: \n",
      "[WARN] unable to get value: sheet_name: MRINoObtainReason value: - value_float:  value_int: \n",
      "[WARN] unable to get value: sheet_name: MRINoObtainReason value: - value_float:  value_int: \n",
      "[WARN] unable to get value: sheet_name: MRINoObtainReason value: - value_float:  value_int: \n",
      "[WARN] unable to get value: sheet_name: MRINoObtainReason value: - value_float:  value_int: \n",
      "[WARN] unable to get value: sheet_name: MRINoObtainReason value: - value_float:  value_int: \n",
      "[WARN] unable to get value: sheet_name: MRINoObtainReason value: - value_float:  value_int: \n",
      "[WARN] unable to get value: sheet_name: MRINoObtainReason value: - value_float:  value_int: \n",
      "[WARN] unable to get value: sheet_name: MRINoObtainReason value: - value_float:  value_int: \n",
      "[WARN] unable to get value: sheet_name: MRINoObtainReason value: - value_float:  value_int: \n",
      "[WARN] unable to get value: sheet_name: MRINoObtainReason value: - value_float:  value_int: \n",
      "[WARN] unable to get value: sheet_name: MRINoObtainReason value: - value_float:  value_int: \n",
      "[WARN] unable to get value: sheet_name: MRINoObtainReason value: - value_float:  value_int: \n",
      "[WARN] unable to get value: sheet_name: MRINoObtainReason value: - value_float:  value_int: \n",
      "[WARN] unable to get value: sheet_name: MRINoObtainReason value: - value_float:  value_int: \n",
      "[WARN] unable to get value: sheet_name: MRINoObtainReason value: - value_float:  value_int: \n",
      "[WARN] unable to get value: sheet_name: MRINoObtainReason value: - value_float:  value_int: \n",
      "[WARN] unable to get value: sheet_name: MRINoObtainReason value: - value_float:  value_int: \n",
      "[WARN] unable to get value: sheet_name: MRINoObtainReason value: - value_float:  value_int: \n",
      "[WARN] unable to get value: sheet_name: MRINoObtainReason value: - value_float:  value_int: \n",
      "[WARN] unable to get value: sheet_name: MRINoObtainReason value: - value_float:  value_int: \n",
      "[WARN] unable to get value: sheet_name: MRINoObtainReason value: - value_float:  value_int: \n",
      "[WARN] unable to get value: sheet_name: MRINoObtainReason value: - value_float:  value_int: \n",
      "[WARN] unable to get value: sheet_name: MRINoObtainReason value: - value_float:  value_int: \n",
      "[WARN] unable to get value: sheet_name: MRINoObtainReason value: - value_float:  value_int: \n",
      "[WARN] unable to get value: sheet_name: MRINoObtainReason value: - value_float:  value_int: \n",
      "[WARN] unable to get value: sheet_name: MRINoObtainReason value: - value_float:  value_int: \n",
      "[WARN] unable to get value: sheet_name: MRINoObtainReason value: - value_float:  value_int: \n",
      "[WARN] unable to get value: sheet_name: MRINoObtainReason value: - value_float:  value_int: \n",
      "[WARN] unable to get value: sheet_name: MRINoObtainReason value: - value_float:  value_int: \n",
      "[WARN] unable to get value: sheet_name: MRINoObtainReason value: - value_float:  value_int: \n",
      "[WARN] unable to get value: sheet_name: MRINoObtainReason value: - value_float:  value_int: \n",
      "[WARN] unable to get value: sheet_name: MRINoObtainReason value: - value_float:  value_int: \n",
      "[WARN] unable to get value: sheet_name: MRINoObtainReason value: - value_float:  value_int: \n",
      "[WARN] unable to get value: sheet_name: MRINoObtainReason value: - value_float:  value_int: \n",
      "[WARN] unable to get value: sheet_name: MRINoObtainReason value: - value_float:  value_int: \n",
      "[WARN] unable to get value: sheet_name: MRINoObtainReason value: - value_float:  value_int: \n",
      "[WARN] unable to get value: sheet_name: MRINoObtainReason value: - value_float:  value_int: \n",
      "[WARN] unable to get value: sheet_name: MRINoObtainReason value: - value_float:  value_int: \n",
      "[WARN] unable to get value: sheet_name: MRINoObtainReason value: - value_float:  value_int: \n",
      "[WARN] unable to get value: sheet_name: MRINoObtainReason value: - value_float:  value_int: \n",
      "[WARN] unable to get value: sheet_name: MRINoObtainReason value: - value_float:  value_int: \n",
      "[WARN] unable to get value: sheet_name: MRINoObtainReason value: - value_float:  value_int: \n",
      "[WARN] unable to get value: sheet_name: MRINoObtainReason value: - value_float:  value_int: \n",
      "[WARN] unable to get value: sheet_name: MRINoObtainReason value: - value_float:  value_int: \n",
      "[WARN] unable to get value: sheet_name: MRINoObtainReason value: - value_float:  value_int: \n",
      "[WARN] unable to get value: sheet_name: MRINoObtainReason value: - value_float:  value_int: \n",
      "[WARN] unable to get value: sheet_name: MRINoObtainReason value: - value_float:  value_int: \n",
      "[WARN] unable to get value: sheet_name: MRINoObtainReason value: - value_float:  value_int: \n",
      "[WARN] unable to get value: sheet_name: MRINoObtainReason value: - value_float:  value_int: \n",
      "[WARN] unable to get value: sheet_name: MRINoObtainReason value: - value_float:  value_int: \n",
      "[WARN] unable to get value: sheet_name: MRINoObtainReason value: - value_float:  value_int: \n",
      "[WARN] unable to get value: sheet_name: MRINoObtainReason value: - value_float:  value_int: \n",
      "[WARN] unable to get value: sheet_name: MRINoObtainReason value: - value_float:  value_int: \n",
      "[WARN] unable to get value: sheet_name: MRINoObtainReason value: - value_float:  value_int: \n",
      "[WARN] unable to get value: sheet_name: MRINoObtainReason value: - value_float:  value_int: \n",
      "[WARN] unable to get value: sheet_name: MRINoObtainReason value: - value_float:  value_int: \n",
      "[WARN] unable to get value: sheet_name: MRINoObtainReason value: - value_float:  value_int: \n",
      "[WARN] unable to get value: sheet_name: MRINoObtainReason value: - value_float:  value_int: \n",
      "[WARN] unable to get value: sheet_name: MRINoObtainReason value: - value_float:  value_int: \n",
      "[WARN] unable to get value: sheet_name: MRINoObtainReason value: - value_float:  value_int: \n",
      "[WARN] unable to get value: sheet_name: MRINoObtainReason value: - value_float:  value_int: \n",
      "[WARN] unable to get value: sheet_name: MRINoObtainReason value: - value_float:  value_int: \n",
      "[WARN] unable to get value: sheet_name: MRINoObtainReason value: - value_float:  value_int: \n",
      "[WARN] unable to get value: sheet_name: MRINoObtainReason value: - value_float:  value_int: \n",
      "[WARN] unable to get value: sheet_name: MRINoObtainReason value: - value_float:  value_int: \n",
      "[WARN] unable to get value: sheet_name: MRINoObtainReason value: - value_float:  value_int: \n",
      "[WARN] unable to get value: sheet_name: MRINoObtainReason value: - value_float:  value_int: \n",
      "[WARN] unable to get value: sheet_name: MRINoObtainReason value: - value_float:  value_int: \n",
      "[WARN] unable to get value: sheet_name: MRINoObtainReason value: - value_float:  value_int: \n",
      "[WARN] unable to get value: sheet_name: MRINoObtainReason value: - value_float:  value_int: \n",
      "[WARN] unable to get value: sheet_name: MRINoObtainReason value: - value_float:  value_int: \n",
      "[WARN] unable to get value: sheet_name: MRINoObtainReason value: - value_float:  value_int: \n",
      "[WARN] unable to get value: sheet_name: MRINoObtainReason value: - value_float:  value_int: \n",
      "[WARN] unable to get value: sheet_name: MRINoObtainReason value: - value_float:  value_int: \n",
      "[WARN] unable to get value: sheet_name: MRINoObtainReason value: - value_float:  value_int: \n",
      "[WARN] unable to get value: sheet_name: MRINoObtainReason value: - value_float:  value_int: \n",
      "[WARN] unable to get value: sheet_name: MRINoObtainReason value: - value_float:  value_int: \n",
      "[WARN] unable to get value: sheet_name: MRINoObtainReason value: - value_float:  value_int: \n",
      "[WARN] unable to get value: sheet_name: MRINoObtainReason value: - value_float:  value_int: \n",
      "[WARN] unable to get value: sheet_name: MRINoObtainReason value: - value_float:  value_int: \n",
      "[WARN] unable to get value: sheet_name: MRINoObtainReason value: - value_float:  value_int: \n",
      "[WARN] unable to get value: sheet_name: MRINoObtainReason value: - value_float:  value_int: \n",
      "[WARN] unable to get value: sheet_name: MRINoObtainReason value: - value_float:  value_int: \n",
      "[WARN] unable to get value: sheet_name: MRINoObtainReason value: - value_float:  value_int: \n",
      "[WARN] unable to get value: sheet_name: MRINoObtainReason value: - value_float:  value_int: \n",
      "[WARN] unable to get value: sheet_name: MRINoObtainReason value: - value_float:  value_int: \n",
      "[WARN] unable to get value: sheet_name: MRINoObtainReason value: - value_float:  value_int: \n",
      "[WARN] unable to get value: sheet_name: MRINoObtainReason value: - value_float:  value_int: \n",
      "[WARN] unable to get value: sheet_name: MRINoObtainReason value: - value_float:  value_int: \n",
      "[WARN] unable to get value: sheet_name: MRINoObtainReason value: - value_float:  value_int: \n",
      "[WARN] unable to get value: sheet_name: MRINoObtainReason value: - value_float:  value_int: \n",
      "[WARN] unable to get value: sheet_name: MRINoObtainReason value: - value_float:  value_int: \n",
      "[WARN] unable to get value: sheet_name: MRINoObtainReason value: - value_float:  value_int: \n",
      "[WARN] unable to get value: sheet_name: MRINoObtainReason value: - value_float:  value_int: \n",
      "[WARN] unable to get value: sheet_name: MRINoObtainReason value: - value_float:  value_int: \n",
      "[WARN] unable to get value: sheet_name: MRINoObtainReason value: - value_float:  value_int: \n",
      "[WARN] unable to get value: sheet_name: MRINoObtainReason value: - value_float:  value_int: \n",
      "[WARN] unable to get value: sheet_name: MRINoObtainReason value: - value_float:  value_int: \n",
      "[WARN] unable to get value: sheet_name: MRINoObtainReason value: - value_float:  value_int: \n",
      "[WARN] unable to get value: sheet_name: MRINoObtainReason value: - value_float:  value_int: \n",
      "[WARN] unable to get value: sheet_name: MRINoObtainReason value: - value_float:  value_int: \n",
      "[WARN] unable to get value: sheet_name: MRINoObtainReason value: - value_float:  value_int: \n",
      "[WARN] unable to get value: sheet_name: MRINoObtainReason value: - value_float:  value_int: \n",
      "[WARN] unable to get value: sheet_name: MRINoObtainReason value: - value_float:  value_int: \n",
      "[WARN] unable to get value: sheet_name: MRINoObtainReason value: - value_float:  value_int: \n",
      "[WARN] unable to get value: sheet_name: MRINoObtainReason value: - value_float:  value_int: \n",
      "[WARN] unable to get value: sheet_name: MRINoObtainReason value: - value_float:  value_int: \n",
      "[WARN] unable to get value: sheet_name: MRINoObtainReason value: - value_float:  value_int: \n",
      "[WARN] unable to get value: sheet_name: MRINoObtainReason value: - value_float:  value_int: \n",
      "[WARN] unable to get value: sheet_name: MRINoObtainReason value: - value_float:  value_int: \n",
      "[WARN] unable to get value: sheet_name: MRINoObtainReason value: - value_float:  value_int: \n",
      "[WARN] unable to get value: sheet_name: MRINoObtainReason value: - value_float:  value_int: \n",
      "[WARN] unable to get value: sheet_name: MRINoObtainReason value: - value_float:  value_int: \n",
      "[WARN] unable to get value: sheet_name: MRINoObtainReason value: - value_float:  value_int: \n",
      "[WARN] unable to get value: sheet_name: MRINoObtainReason value: - value_float:  value_int: \n",
      "[WARN] unable to get value: sheet_name: MRINoObtainReason value: - value_float:  value_int: \n",
      "[WARN] unable to get value: sheet_name: MRINoObtainReason value: - value_float:  value_int: \n",
      "[WARN] unable to get value: sheet_name: MRINoObtainReason value: - value_float:  value_int: \n",
      "[WARN] unable to get value: sheet_name: MRINoObtainReason value: - value_float:  value_int: \n",
      "[WARN] unable to get value: sheet_name: MRINoObtainReason value: - value_float:  value_int: \n",
      "[WARN] unable to get value: sheet_name: MRINoObtainReason value: - value_float:  value_int: \n",
      "[WARN] unable to get value: sheet_name: MRINoObtainReason value: - value_float:  value_int: \n",
      "[WARN] unable to get value: sheet_name: MRINoObtainReason value: - value_float:  value_int: \n",
      "[WARN] unable to get value: sheet_name: MRINoObtainReason value: - value_float:  value_int: \n",
      "[WARN] unable to get value: sheet_name: MRINoObtainReason value: - value_float:  value_int: \n",
      "[WARN] unable to get value: sheet_name: MRINoObtainReason value: - value_float:  value_int: \n",
      "[WARN] unable to get value: sheet_name: MRINoObtainReason value: - value_float:  value_int: \n",
      "[WARN] unable to get value: sheet_name: MRINoObtainReason value: - value_float:  value_int: \n",
      "[WARN] unable to get value: sheet_name: MRINoObtainReason value: - value_float:  value_int: \n",
      "[WARN] unable to get value: sheet_name: MRINoObtainReason value: - value_float:  value_int: \n",
      "[WARN] unable to get value: sheet_name: MRINoObtainReason value: - value_float:  value_int: \n",
      "[WARN] unable to get value: sheet_name: MRINoObtainReason value: - value_float:  value_int: \n",
      "[WARN] unable to get value: sheet_name: MRINoObtainReason value: - value_float:  value_int: \n",
      "[WARN] unable to get value: sheet_name: MRINoObtainReason value: - value_float:  value_int: \n",
      "[WARN] unable to get value: sheet_name: MRINoObtainReason value: - value_float:  value_int: \n",
      "[WARN] unable to get value: sheet_name: MRINoObtainReason value: - value_float:  value_int: \n",
      "[WARN] unable to get value: sheet_name: MRINoObtainReason value: - value_float:  value_int: \n",
      "[WARN] unable to get value: sheet_name: MRINoObtainReason value: - value_float:  value_int: \n",
      "[WARN] unable to get value: sheet_name: MRINoObtainReason value: - value_float:  value_int: \n",
      "[WARN] unable to get value: sheet_name: MRINoObtainReason value: - value_float:  value_int: \n",
      "[WARN] unable to get value: sheet_name: MRINoObtainReason value: - value_float:  value_int: \n",
      "[WARN] unable to get value: sheet_name: MRINoObtainReason value: - value_float:  value_int: \n",
      "[WARN] unable to get value: sheet_name: MRINoObtainReason value: - value_float:  value_int: \n",
      "[WARN] unable to get value: sheet_name: MRINoObtainReason value: - value_float:  value_int: \n",
      "[WARN] unable to get value: sheet_name: MRINoObtainReason value: - value_float:  value_int: \n",
      "[WARN] unable to get value: sheet_name: MRINoObtainReason value: - value_float:  value_int: \n",
      "[WARN] unable to get value: sheet_name: MRINoObtainReason value: - value_float:  value_int: \n",
      "[WARN] unable to get value: sheet_name: MRINoObtainReason value: - value_float:  value_int: \n",
      "[WARN] unable to get value: sheet_name: MRINoObtainReason value: - value_float:  value_int: \n",
      "[WARN] unable to get value: sheet_name: MRINoObtainReason value: - value_float:  value_int: \n",
      "[WARN] unable to get value: sheet_name: MRINoObtainReason value: - value_float:  value_int: \n",
      "[WARN] unable to get value: sheet_name: MRINoObtainReason value: - value_float:  value_int: \n",
      "[WARN] unable to get value: sheet_name: MRINoObtainReason value: - value_float:  value_int: \n",
      "[WARN] unable to get value: sheet_name: MRINoObtainReason value: - value_float:  value_int: \n",
      "[WARN] unable to get value: sheet_name: MRINoObtainReason value: - value_float:  value_int: \n",
      "[WARN] unable to get value: sheet_name: MRINoObtainReason value: - value_float:  value_int: \n",
      "[WARN] unable to get value: sheet_name: MRINoObtainReason value: - value_float:  value_int: \n",
      "[WARN] unable to get value: sheet_name: MRINoObtainReason value: - value_float:  value_int: \n",
      "[WARN] unable to get value: sheet_name: MRINoObtainReason value: - value_float:  value_int: \n",
      "[WARN] unable to get value: sheet_name: MRINoObtainReason value: - value_float:  value_int: \n",
      "[WARN] unable to get value: sheet_name: MRINoObtainReason value: - value_float:  value_int: \n",
      "[WARN] unable to get value: sheet_name: MRINoObtainReason value: - value_float:  value_int: \n",
      "[WARN] unable to get value: sheet_name: MRINoObtainReason value: - value_float:  value_int: \n",
      "[WARN] unable to get value: sheet_name: MRINoObtainReason value: - value_float:  value_int: \n",
      "[WARN] unable to get value: sheet_name: MRINoObtainReason value: - value_float:  value_int: \n",
      "[WARN] unable to get value: sheet_name: MRINoObtainReason value: - value_float:  value_int: \n",
      "[WARN] unable to get value: sheet_name: MRINoObtainReason value: - value_float:  value_int: \n",
      "[WARN] unable to get value: sheet_name: MRINoObtainReason value: - value_float:  value_int: \n",
      "[WARN] unable to get value: sheet_name: MRINoObtainReason value: - value_float:  value_int: \n",
      "[WARN] unable to get value: sheet_name: MRINoObtainReason value: - value_float:  value_int: \n",
      "[WARN] unable to get value: sheet_name: MRINoObtainReason value: - value_float:  value_int: \n",
      "[WARN] unable to get value: sheet_name: MRINoObtainReason value: - value_float:  value_int: \n",
      "[WARN] unable to get value: sheet_name: MRINoObtainReason value: - value_float:  value_int: \n",
      "[WARN] unable to get value: sheet_name: MRINoObtainReason value: - value_float:  value_int: \n",
      "[WARN] unable to get value: sheet_name: MRINoObtainReason value: - value_float:  value_int: \n",
      "[WARN] unable to get value: sheet_name: MRINoObtainReason value: - value_float:  value_int: \n",
      "[WARN] unable to get value: sheet_name: MRINoObtainReason value: - value_float:  value_int: \n",
      "[WARN] unable to get value: sheet_name: MRINoObtainReason value: - value_float:  value_int: \n",
      "[WARN] unable to get value: sheet_name: MRINoObtainReason value: - value_float:  value_int: \n",
      "[WARN] unable to get value: sheet_name: MRINoObtainReason value: - value_float:  value_int: \n",
      "[WARN] unable to get value: sheet_name: MRINoObtainReason value: - value_float:  value_int: \n",
      "[WARN] unable to get value: sheet_name: MRINoObtainReason value: - value_float:  value_int: \n",
      "[WARN] unable to get value: sheet_name: MRINoObtainReason value: - value_float:  value_int: \n",
      "[WARN] unable to get value: sheet_name: MRINoObtainReason value: - value_float:  value_int: \n",
      "[WARN] unable to get value: sheet_name: MRINoObtainReason value: - value_float:  value_int: \n",
      "[WARN] unable to get value: sheet_name: MRINoObtainReason value: - value_float:  value_int: \n",
      "[WARN] unable to get value: sheet_name: MRINoObtainReason value: - value_float:  value_int: \n",
      "[WARN] unable to get value: sheet_name: MRINoObtainReason value: - value_float:  value_int: \n",
      "[WARN] unable to get value: sheet_name: MRINoObtainReason value: - value_float:  value_int: \n",
      "[WARN] unable to get value: sheet_name: MRINoObtainReason value: - value_float:  value_int: \n",
      "[WARN] unable to get value: sheet_name: MRINoObtainReason value: - value_float:  value_int: \n",
      "[WARN] unable to get value: sheet_name: MRINoObtainReason value: - value_float:  value_int: \n",
      "[WARN] unable to get value: sheet_name: MRINoObtainReason value: - value_float:  value_int: \n",
      "[WARN] unable to get value: sheet_name: MRINoObtainReason value: - value_float:  value_int: \n",
      "[WARN] unable to get value: sheet_name: MRINoObtainReason value: - value_float:  value_int: \n",
      "[WARN] unable to get value: sheet_name: MRINoObtainReason value: - value_float:  value_int: \n",
      "[WARN] unable to get value: sheet_name: MRINoObtainReason value: - value_float:  value_int: \n",
      "[WARN] unable to get value: sheet_name: MRINoObtainReason value: - value_float:  value_int: \n",
      "(8/17) normalize_value: column: MRINoObtainReason_c\n",
      "(9/17) normalize_value: column: MRINoObtainReasonText\n",
      "(10/17) normalize_value: column: MRIObtainWindow\n",
      "[WARN] unable to get value: sheet_name: MRIObtainWindow value: - value_float:  value_int: \n",
      "[WARN] unable to get value: sheet_name: MRIObtainWindow value: - value_float:  value_int: \n",
      "[WARN] unable to get value: sheet_name: MRIObtainWindow value: - value_float:  value_int: \n",
      "[WARN] unable to get value: sheet_name: MRIObtainWindow value: - value_float:  value_int: \n",
      "[WARN] unable to get value: sheet_name: MRIObtainWindow value: - value_float:  value_int: \n",
      "[WARN] unable to get value: sheet_name: MRIObtainWindow value: - value_float:  value_int: \n",
      "[WARN] unable to get value: sheet_name: MRIObtainWindow value: - value_float:  value_int: \n",
      "[WARN] unable to get value: sheet_name: MRIObtainWindow value: - value_float:  value_int: \n",
      "[WARN] unable to get value: sheet_name: MRIObtainWindow value: - value_float:  value_int: \n",
      "[WARN] unable to get value: sheet_name: MRIObtainWindow value: - value_float:  value_int: \n",
      "[WARN] unable to get value: sheet_name: MRIObtainWindow value: - value_float:  value_int: \n",
      "[WARN] unable to get value: sheet_name: MRIObtainWindow value: - value_float:  value_int: \n",
      "[WARN] unable to get value: sheet_name: MRIObtainWindow value: - value_float:  value_int: \n",
      "[WARN] unable to get value: sheet_name: MRIObtainWindow value: - value_float:  value_int: \n",
      "[WARN] unable to get value: sheet_name: MRIObtainWindow value: - value_float:  value_int: \n",
      "[WARN] unable to get value: sheet_name: MRIObtainWindow value: - value_float:  value_int: \n",
      "[WARN] unable to get value: sheet_name: MRIObtainWindow value: - value_float:  value_int: \n",
      "[WARN] unable to get value: sheet_name: MRIObtainWindow value: - value_float:  value_int: \n",
      "[WARN] unable to get value: sheet_name: MRIObtainWindow value: - value_float:  value_int: \n",
      "[WARN] unable to get value: sheet_name: MRIObtainWindow value: - value_float:  value_int: \n",
      "[WARN] unable to get value: sheet_name: MRIObtainWindow value: - value_float:  value_int: \n",
      "[WARN] unable to get value: sheet_name: MRIObtainWindow value: - value_float:  value_int: \n",
      "[WARN] unable to get value: sheet_name: MRIObtainWindow value: - value_float:  value_int: \n",
      "[WARN] unable to get value: sheet_name: MRIObtainWindow value: - value_float:  value_int: \n",
      "[WARN] unable to get value: sheet_name: MRIObtainWindow value: - value_float:  value_int: \n",
      "[WARN] unable to get value: sheet_name: MRIObtainWindow value: - value_float:  value_int: \n",
      "[WARN] unable to get value: sheet_name: MRIObtainWindow value: - value_float:  value_int: \n",
      "[WARN] unable to get value: sheet_name: MRIObtainWindow value: - value_float:  value_int: \n",
      "[WARN] unable to get value: sheet_name: MRIObtainWindow value: - value_float:  value_int: \n",
      "[WARN] unable to get value: sheet_name: MRIObtainWindow value: - value_float:  value_int: \n",
      "[WARN] unable to get value: sheet_name: MRIObtainWindow value: - value_float:  value_int: \n",
      "[WARN] unable to get value: sheet_name: MRIObtainWindow value: - value_float:  value_int: \n",
      "[WARN] unable to get value: sheet_name: MRIObtainWindow value: - value_float:  value_int: \n",
      "[WARN] unable to get value: sheet_name: MRIObtainWindow value: - value_float:  value_int: \n",
      "[WARN] unable to get value: sheet_name: MRIObtainWindow value: - value_float:  value_int: \n",
      "[WARN] unable to get value: sheet_name: MRIObtainWindow value: - value_float:  value_int: \n",
      "[WARN] unable to get value: sheet_name: MRIObtainWindow value: - value_float:  value_int: \n",
      "[WARN] unable to get value: sheet_name: MRIObtainWindow value: - value_float:  value_int: \n",
      "[WARN] unable to get value: sheet_name: MRIObtainWindow value: - value_float:  value_int: \n",
      "[WARN] unable to get value: sheet_name: MRIObtainWindow value: - value_float:  value_int: \n",
      "[WARN] unable to get value: sheet_name: MRIObtainWindow value: - value_float:  value_int: \n",
      "[WARN] unable to get value: sheet_name: MRIObtainWindow value: - value_float:  value_int: \n",
      "[WARN] unable to get value: sheet_name: MRIObtainWindow value: - value_float:  value_int: \n",
      "[WARN] unable to get value: sheet_name: MRIObtainWindow value: - value_float:  value_int: \n",
      "[WARN] unable to get value: sheet_name: MRIObtainWindow value: - value_float:  value_int: \n",
      "[WARN] unable to get value: sheet_name: MRIObtainWindow value: - value_float:  value_int: \n",
      "[WARN] unable to get value: sheet_name: MRIObtainWindow value: - value_float:  value_int: \n",
      "[WARN] unable to get value: sheet_name: MRIObtainWindow value: - value_float:  value_int: \n",
      "[WARN] unable to get value: sheet_name: MRIObtainWindow value: - value_float:  value_int: \n",
      "[WARN] unable to get value: sheet_name: MRIObtainWindow value: - value_float:  value_int: \n",
      "[WARN] unable to get value: sheet_name: MRIObtainWindow value: - value_float:  value_int: \n",
      "[WARN] unable to get value: sheet_name: MRIObtainWindow value: - value_float:  value_int: \n",
      "[WARN] unable to get value: sheet_name: MRIObtainWindow value: - value_float:  value_int: \n",
      "[WARN] unable to get value: sheet_name: MRIObtainWindow value: - value_float:  value_int: \n",
      "[WARN] unable to get value: sheet_name: MRIObtainWindow value: - value_float:  value_int: \n",
      "[WARN] unable to get value: sheet_name: MRIObtainWindow value: - value_float:  value_int: \n",
      "[WARN] unable to get value: sheet_name: MRIObtainWindow value: - value_float:  value_int: \n",
      "[WARN] unable to get value: sheet_name: MRIObtainWindow value: - value_float:  value_int: \n",
      "[WARN] unable to get value: sheet_name: MRIObtainWindow value: - value_float:  value_int: \n",
      "[WARN] unable to get value: sheet_name: MRIObtainWindow value: - value_float:  value_int: \n",
      "[WARN] unable to get value: sheet_name: MRIObtainWindow value: - value_float:  value_int: \n",
      "[WARN] unable to get value: sheet_name: MRIObtainWindow value: - value_float:  value_int: \n",
      "[WARN] unable to get value: sheet_name: MRIObtainWindow value: - value_float:  value_int: \n",
      "[WARN] unable to get value: sheet_name: MRIObtainWindow value: - value_float:  value_int: \n",
      "[WARN] unable to get value: sheet_name: MRIObtainWindow value: - value_float:  value_int: \n",
      "[WARN] unable to get value: sheet_name: MRIObtainWindow value: - value_float:  value_int: \n",
      "[WARN] unable to get value: sheet_name: MRIObtainWindow value: - value_float:  value_int: \n",
      "[WARN] unable to get value: sheet_name: MRIObtainWindow value: - value_float:  value_int: \n",
      "[WARN] unable to get value: sheet_name: MRIObtainWindow value: - value_float:  value_int: \n",
      "[WARN] unable to get value: sheet_name: MRIObtainWindow value: - value_float:  value_int: \n",
      "[WARN] unable to get value: sheet_name: MRIObtainWindow value: - value_float:  value_int: \n",
      "[WARN] unable to get value: sheet_name: MRIObtainWindow value: - value_float:  value_int: \n",
      "[WARN] unable to get value: sheet_name: MRIObtainWindow value: - value_float:  value_int: \n",
      "[WARN] unable to get value: sheet_name: MRIObtainWindow value: - value_float:  value_int: \n",
      "[WARN] unable to get value: sheet_name: MRIObtainWindow value: - value_float:  value_int: \n",
      "[WARN] unable to get value: sheet_name: MRIObtainWindow value: - value_float:  value_int: \n",
      "[WARN] unable to get value: sheet_name: MRIObtainWindow value: - value_float:  value_int: \n",
      "[WARN] unable to get value: sheet_name: MRIObtainWindow value: - value_float:  value_int: \n",
      "[WARN] unable to get value: sheet_name: MRIObtainWindow value: - value_float:  value_int: \n",
      "[WARN] unable to get value: sheet_name: MRIObtainWindow value: - value_float:  value_int: \n",
      "[WARN] unable to get value: sheet_name: MRIObtainWindow value: - value_float:  value_int: \n",
      "[WARN] unable to get value: sheet_name: MRIObtainWindow value: - value_float:  value_int: \n",
      "[WARN] unable to get value: sheet_name: MRIObtainWindow value: - value_float:  value_int: \n",
      "[WARN] unable to get value: sheet_name: MRIObtainWindow value: - value_float:  value_int: \n",
      "[WARN] unable to get value: sheet_name: MRIObtainWindow value: - value_float:  value_int: \n",
      "[WARN] unable to get value: sheet_name: MRIObtainWindow value: - value_float:  value_int: \n",
      "[WARN] unable to get value: sheet_name: MRIObtainWindow value: - value_float:  value_int: \n",
      "[WARN] unable to get value: sheet_name: MRIObtainWindow value: - value_float:  value_int: \n",
      "[WARN] unable to get value: sheet_name: MRIObtainWindow value: - value_float:  value_int: \n",
      "[WARN] unable to get value: sheet_name: MRIObtainWindow value: - value_float:  value_int: \n",
      "[WARN] unable to get value: sheet_name: MRIObtainWindow value: - value_float:  value_int: \n",
      "[WARN] unable to get value: sheet_name: MRIObtainWindow value: - value_float:  value_int: \n",
      "[WARN] unable to get value: sheet_name: MRIObtainWindow value: - value_float:  value_int: \n",
      "[WARN] unable to get value: sheet_name: MRIObtainWindow value: - value_float:  value_int: \n",
      "[WARN] unable to get value: sheet_name: MRIObtainWindow value: - value_float:  value_int: \n",
      "[WARN] unable to get value: sheet_name: MRIObtainWindow value: - value_float:  value_int: \n",
      "[WARN] unable to get value: sheet_name: MRIObtainWindow value: - value_float:  value_int: \n",
      "[WARN] unable to get value: sheet_name: MRIObtainWindow value: - value_float:  value_int: \n",
      "[WARN] unable to get value: sheet_name: MRIObtainWindow value: - value_float:  value_int: \n",
      "[WARN] unable to get value: sheet_name: MRIObtainWindow value: - value_float:  value_int: \n",
      "[WARN] unable to get value: sheet_name: MRIObtainWindow value: - value_float:  value_int: \n",
      "[WARN] unable to get value: sheet_name: MRIObtainWindow value: - value_float:  value_int: \n",
      "[WARN] unable to get value: sheet_name: MRIObtainWindow value: - value_float:  value_int: \n",
      "[WARN] unable to get value: sheet_name: MRIObtainWindow value: - value_float:  value_int: \n",
      "[WARN] unable to get value: sheet_name: MRIObtainWindow value: - value_float:  value_int: \n",
      "[WARN] unable to get value: sheet_name: MRIObtainWindow value: - value_float:  value_int: \n",
      "[WARN] unable to get value: sheet_name: MRIObtainWindow value: - value_float:  value_int: \n",
      "[WARN] unable to get value: sheet_name: MRIObtainWindow value: - value_float:  value_int: \n",
      "[WARN] unable to get value: sheet_name: MRIObtainWindow value: - value_float:  value_int: \n",
      "[WARN] unable to get value: sheet_name: MRIObtainWindow value: - value_float:  value_int: \n",
      "[WARN] unable to get value: sheet_name: MRIObtainWindow value: - value_float:  value_int: \n",
      "[WARN] unable to get value: sheet_name: MRIObtainWindow value: - value_float:  value_int: \n",
      "[WARN] unable to get value: sheet_name: MRIObtainWindow value: - value_float:  value_int: \n",
      "[WARN] unable to get value: sheet_name: MRIObtainWindow value: - value_float:  value_int: \n",
      "[WARN] unable to get value: sheet_name: MRIObtainWindow value: - value_float:  value_int: \n",
      "[WARN] unable to get value: sheet_name: MRIObtainWindow value: - value_float:  value_int: \n",
      "[WARN] unable to get value: sheet_name: MRIObtainWindow value: - value_float:  value_int: \n",
      "[WARN] unable to get value: sheet_name: MRIObtainWindow value: - value_float:  value_int: \n",
      "[WARN] unable to get value: sheet_name: MRIObtainWindow value: - value_float:  value_int: \n",
      "[WARN] unable to get value: sheet_name: MRIObtainWindow value: - value_float:  value_int: \n",
      "[WARN] unable to get value: sheet_name: MRIObtainWindow value: - value_float:  value_int: \n",
      "[WARN] unable to get value: sheet_name: MRIObtainWindow value: - value_float:  value_int: \n",
      "[WARN] unable to get value: sheet_name: MRIObtainWindow value: - value_float:  value_int: \n",
      "[WARN] unable to get value: sheet_name: MRIObtainWindow value: - value_float:  value_int: \n",
      "[WARN] unable to get value: sheet_name: MRIObtainWindow value: - value_float:  value_int: \n",
      "[WARN] unable to get value: sheet_name: MRIObtainWindow value: - value_float:  value_int: \n",
      "[WARN] unable to get value: sheet_name: MRIObtainWindow value: - value_float:  value_int: \n",
      "(11/17) normalize_value: column: MRIObtainWindow_c\n",
      "(12/17) normalize_value: column: MRIObtainComment\n",
      "(13/17) normalize_value: column: MRIDate\n",
      "(14/17) normalize_value: column: MRITime\n",
      "(15/17) normalize_value: column: MRISendRTIDate\n",
      "(16/17) normalize_value: column: MRIReceiveRTIDate\n"
     ]
    }
   ],
   "source": [
    "filename = os.sep.join([input_dir, base_filename])\n",
    "df = pd.read_csv(filename, dtype='O')\n",
    "df = COMBINE_harmonizer.normalize_value(df, _VALUE_MAP, order_map=_ORDER_MAP)"
   ]
  },
  {
   "cell_type": "code",
   "execution_count": 118,
   "id": "054ad57d",
   "metadata": {
    "execution": {
     "iopub.execute_input": "2025-01-21T19:15:08.125112Z",
     "iopub.status.busy": "2025-01-21T19:15:08.125006Z",
     "iopub.status.idle": "2025-01-21T19:15:08.187125Z",
     "shell.execute_reply": "2025-01-21T19:15:08.186681Z"
    }
   },
   "outputs": [],
   "source": [
    "out_filename = os.sep.join([out_dir, base_filename])\n",
    "df.to_csv(out_filename, index=False)"
   ]
  },
  {
   "cell_type": "code",
   "execution_count": 119,
   "id": "b19b3b44",
   "metadata": {
    "execution": {
     "iopub.execute_input": "2025-01-21T19:15:08.189141Z",
     "iopub.status.busy": "2025-01-21T19:15:08.188959Z",
     "iopub.status.idle": "2025-01-21T19:15:08.193657Z",
     "shell.execute_reply": "2025-01-21T19:15:08.193356Z"
    }
   },
   "outputs": [
    {
     "name": "stdout",
     "output_type": "stream",
     "text": [
      "(0/34) center: (327/0)\n",
      "(1/34) center.orig: (327/0)\n",
      "(2/34) subjectID: (327/0)\n",
      "(3/34) subjectID.orig: (327/0)\n",
      "(4/34) uniqueID: (327/0)\n",
      "(5/34) uniqueID.orig: (327/0)\n",
      "(6/34) siteID: (327/0)\n",
      "(7/34) siteID.orig: (232/95)\n",
      "(8/34) birthNumber: (327/0)\n",
      "(9/34) birthNumber.orig: (327/0)\n",
      "(10/34) MRIDate: (327/0)\n",
      "(11/34) MRIDate.orig: (200/127)\n",
      "(12/34) MRITime: (327/0)\n",
      "(13/34) MRITime.orig: (200/127)\n",
      "(14/34) MRIAvailable: (327/0)\n",
      "(15/34) MRIAvailable.orig: (327/0)\n",
      "(16/34) MRIAvailable_c: (327/0)\n",
      "(17/34) MRIAvailable_c.orig: (327/0)\n",
      "(18/34) MRIObtainWindow: (327/0)\n",
      "(19/34) MRIObtainWindow.orig: (327/0)\n",
      "(20/34) MRIObtainWindow_c: (327/0)\n",
      "(21/34) MRIObtainWindow_c.orig: (200/127)\n",
      "(22/34) MRIObtainComment: (327/0)\n",
      "(23/34) MRIObtainComment.orig: (1/326)\n",
      "(24/34) MRISendRTIDate: (327/0)\n",
      "(25/34) MRISendRTIDate.orig: (200/127)\n",
      "(26/34) MRIReceiveRTIDate: (327/0)\n",
      "(27/34) MRIReceiveRTIDate.orig: (0/327)\n",
      "(28/34) MRINoObtainReason: (327/0)\n",
      "(29/34) MRINoObtainReason.orig: (327/0)\n",
      "(30/34) MRINoObtainReason_c: (327/0)\n",
      "(31/34) MRINoObtainReason_c.orig: (10/317)\n",
      "(32/34) MRINoObtainReasonText: (327/0)\n",
      "(33/34) MRINoObtainReasonText.orig: (5/322)\n"
     ]
    }
   ],
   "source": [
    "COMBINE_harmonizer.column_info(df)"
   ]
  },
  {
   "cell_type": "markdown",
   "id": "f196ae13",
   "metadata": {},
   "source": [
    "## 02-13-bradycardia"
   ]
  },
  {
   "cell_type": "code",
   "execution_count": 120,
   "id": "c815df68",
   "metadata": {
    "execution": {
     "iopub.execute_input": "2025-01-21T19:15:08.195432Z",
     "iopub.status.busy": "2025-01-21T19:15:08.195274Z",
     "iopub.status.idle": "2025-01-21T19:15:08.197289Z",
     "shell.execute_reply": "2025-01-21T19:15:08.196943Z"
    }
   },
   "outputs": [],
   "source": [
    "_FLATTEN_IDS = ['bradycardiaEventNumber']\n",
    "base_filename = '02-13-bradycardia.csv'"
   ]
  },
  {
   "cell_type": "code",
   "execution_count": 121,
   "id": "c7ff92bf",
   "metadata": {
    "execution": {
     "iopub.execute_input": "2025-01-21T19:15:08.199008Z",
     "iopub.status.busy": "2025-01-21T19:15:08.198854Z",
     "iopub.status.idle": "2025-01-21T19:15:08.310893Z",
     "shell.execute_reply": "2025-01-21T19:15:08.310343Z"
    }
   },
   "outputs": [
    {
     "name": "stdout",
     "output_type": "stream",
     "text": [
      "(0/13) normalize_value: column: center\n",
      "(1/13) normalize_value: column: subjectID\n",
      "(2/13) normalize_value: column: uniqueID\n",
      "(3/13) normalize_value: column: bradycardiaBelow70Over15min\n",
      "(4/13) normalize_value: column: bradycardiaEKG\n",
      "(5/13) normalize_value: column: bradycardiaEKGResultOtherText\n",
      "(6/13) normalize_value: column: bradycardiaAntiarrhythmiaMedication\n",
      "(7/13) normalize_value: column: bradycardiaEventNumber\n",
      "(8/13) normalize_value: column: bradycardiaEKGResult\n",
      "(9/13) normalize_value: column: bradycardiaDate\n",
      "(10/13) normalize_value: column: bradycardiaTime\n",
      "(11/13) normalize_value: column: bradycardiaDuration\n",
      "(12/13) normalize_value: column: bradycardiaHeartRateMin\n",
      "flatten_index: flatten_ids: ['bradycardiaEventNumber'] unique_id_map: {np.int64(1): np.int64(1), np.int64(2): np.int64(2), np.int64(3): np.int64(3), np.int64(4): np.int64(4), np.int64(5): np.int64(5), np.int64(6): np.int64(6), np.int64(7): np.int64(7), np.int64(8): np.int64(8), np.int64(9): np.int64(9), np.int64(10): np.int64(10)} the_type: int64\n"
     ]
    }
   ],
   "source": [
    "filename = os.sep.join([input_dir, base_filename])\n",
    "\n",
    "df = pd.read_csv(filename, dtype='O')\n",
    "df = COMBINE_harmonizer.normalize_value(df, _VALUE_MAP, _FLATTEN_IDS, order_map=_ORDER_MAP)\n",
    "\n",
    "out_filename = os.sep.join([out_dir, base_filename])\n",
    "df.to_csv(out_filename, index=False)"
   ]
  },
  {
   "cell_type": "code",
   "execution_count": 122,
   "id": "cb300464",
   "metadata": {
    "execution": {
     "iopub.execute_input": "2025-01-21T19:15:08.314052Z",
     "iopub.status.busy": "2025-01-21T19:15:08.313697Z",
     "iopub.status.idle": "2025-01-21T19:15:08.320236Z",
     "shell.execute_reply": "2025-01-21T19:15:08.319756Z"
    }
   },
   "outputs": [
    {
     "name": "stdout",
     "output_type": "stream",
     "text": [
      "(0/27) center: (210/0)\n",
      "(1/27) center.orig: (210/0)\n",
      "(2/27) subjectID: (210/0)\n",
      "(3/27) subjectID.orig: (210/0)\n",
      "(4/27) uniqueID: (210/0)\n",
      "(5/27) uniqueID.orig: (210/0)\n",
      "(6/27) _flatten_index: (210/0)\n",
      "(7/27) bradycardiaEventNumber: (210/0)\n",
      "(8/27) bradycardiaEventNumber.orig: (210/0)\n",
      "(9/27) bradycardiaBelow70Over15min: (210/0)\n",
      "(10/27) bradycardiaBelow70Over15min.orig: (210/0)\n",
      "(11/27) bradycardiaEKG: (210/0)\n",
      "(12/27) bradycardiaEKG.orig: (57/153)\n",
      "(13/27) bradycardiaEKGResult: (210/0)\n",
      "(14/27) bradycardiaEKGResult.orig: (3/207)\n",
      "(15/27) bradycardiaEKGResultOtherText: (210/0)\n",
      "(16/27) bradycardiaEKGResultOtherText.orig: (1/209)\n",
      "(17/27) bradycardiaAntiarrhythmiaMedication: (210/0)\n",
      "(18/27) bradycardiaAntiarrhythmiaMedication.orig: (57/153)\n",
      "(19/27) bradycardiaDate: (210/0)\n",
      "(20/27) bradycardiaDate.orig: (57/153)\n",
      "(21/27) bradycardiaTime: (210/0)\n",
      "(22/27) bradycardiaTime.orig: (57/153)\n",
      "(23/27) bradycardiaDuration: (210/0)\n",
      "(24/27) bradycardiaDuration.orig: (54/156)\n",
      "(25/27) bradycardiaHeartRateMin: (210/0)\n",
      "(26/27) bradycardiaHeartRateMin.orig: (54/156)\n"
     ]
    }
   ],
   "source": [
    "COMBINE_harmonizer.column_info(df)"
   ]
  },
  {
   "cell_type": "markdown",
   "id": "60977742",
   "metadata": {},
   "source": [
    "## 02-14-adverse-event"
   ]
  },
  {
   "cell_type": "code",
   "execution_count": 123,
   "id": "45697332",
   "metadata": {
    "execution": {
     "iopub.execute_input": "2025-01-21T19:15:08.323262Z",
     "iopub.status.busy": "2025-01-21T19:15:08.323003Z",
     "iopub.status.idle": "2025-01-21T19:15:08.325774Z",
     "shell.execute_reply": "2025-01-21T19:15:08.325332Z"
    }
   },
   "outputs": [],
   "source": [
    "_FLATTEN_IDS = ['adverseEventNumber']\n",
    "base_filename = '02-14-adverse-event.csv'"
   ]
  },
  {
   "cell_type": "code",
   "execution_count": 124,
   "id": "ae972136",
   "metadata": {
    "execution": {
     "iopub.execute_input": "2025-01-21T19:15:08.327829Z",
     "iopub.status.busy": "2025-01-21T19:15:08.327637Z",
     "iopub.status.idle": "2025-01-21T19:15:08.488108Z",
     "shell.execute_reply": "2025-01-21T19:15:08.487535Z"
    }
   },
   "outputs": [
    {
     "name": "stdout",
     "output_type": "stream",
     "text": [
      "(0/58) normalize_value: column: center\n",
      "(1/58) normalize_value: column: subjectID\n",
      "(2/58) normalize_value: column: uniqueID\n",
      "(3/58) normalize_value: column: SAECardiacExperienceComment\n",
      "(4/58) normalize_value: column: SAEMetabolicAcidosisComment\n",
      "(5/58) normalize_value: column: SAEThrombosisExperienceComment\n",
      "(6/58) normalize_value: column: SAEBleedingExperienceComment\n",
      "(7/58) normalize_value: column: SAEAlterationSkinIntegrityComment\n",
      "(8/58) normalize_value: column: SAEDeathComment\n",
      "(9/58) normalize_value: column: adverseEventNumber\n",
      "(10/58) normalize_value: column: SAECardiacExperienceOnsetDate\n",
      "(11/58) normalize_value: column: SAECardiacExperienceOnsetTime\n",
      "(12/58) normalize_value: column: SAECardiacExperienceResolveDate\n",
      "(13/58) normalize_value: column: SAECardiacExperienceResolveTime\n",
      "(14/58) normalize_value: column: SAECardiacExperienceDueToHypothermia\n",
      "(15/58) normalize_value: column: SAECardiacExperienceActionTaken\n",
      "(16/58) normalize_value: column: SAECardiacExperienceOutcome\n",
      "(17/58) normalize_value: column: SAEMetabolicAcidosisOnsetDate\n",
      "(18/58) normalize_value: column: SAEMetabolicAcidosisOnsetTime\n",
      "(19/58) normalize_value: column: SAEMetabolicAcidosisResolveDate\n",
      "(20/58) normalize_value: column: SAEMetabolicAcidosisResolveTime\n",
      "(21/58) normalize_value: column: SAEMetabolicAcidosisDueToHypothermia\n",
      "(22/58) normalize_value: column: SAEMetabolicAcidosisActionTaken\n",
      "(23/58) normalize_value: column: SAEMetabolicAcidosisOutcome\n",
      "(24/58) normalize_value: column: SAEThrombosisExperienceOnsetDate\n",
      "(25/58) normalize_value: column: SAEThrombosisExperienceOnsetTime\n",
      "(26/58) normalize_value: column: SAEThrombosisExperienceResolveDate\n",
      "(27/58) normalize_value: column: SAEThrombosisExperienceResolveTime\n",
      "(28/58) normalize_value: column: SAEThrombosisExperienceDueToHypothermia\n",
      "(29/58) normalize_value: column: SAEThrombosisExperienceActionTaken\n",
      "(30/58) normalize_value: column: SAEThrombosisExperienceOutcome\n",
      "(31/58) normalize_value: column: SAEBleedingExperienceOnsetDate\n",
      "(32/58) normalize_value: column: SAEBleedingExperienceOnsetTime\n",
      "(33/58) normalize_value: column: SAEBleedingExperienceResolveDate\n",
      "(34/58) normalize_value: column: SAEBleedingExperienceResolveTime\n",
      "(35/58) normalize_value: column: SAEBleedingExperienceDueToHypothermia\n",
      "(36/58) normalize_value: column: SAEBleedingExperienceActionTaken\n",
      "(37/58) normalize_value: column: SAEBleedingExperienceOutcome\n",
      "(38/58) normalize_value: column: SAEAlterationSkinIntegrity\n",
      "(39/58) normalize_value: column: SAEAlterationSkinIntegrityOnsetDate\n",
      "(40/58) normalize_value: column: SAEAlterationSkinIntegrityResolveDate\n",
      "(41/58) normalize_value: column: SAEAlterationSkinIntegrityDueToHypothermia\n",
      "(42/58) normalize_value: column: SAEAlterationSkinIntegrityActionTaken\n",
      "(43/58) normalize_value: column: SAEAlterationSkinIntegrityOutcome\n",
      "(44/58) normalize_value: column: SAEDeathDate\n",
      "(45/58) normalize_value: column: SAEDeathTime\n",
      "(46/58) normalize_value: column: SAEDeathDueToHypothermia\n",
      "(47/58) normalize_value: column: SAEDeathActionTaken\n",
      "(48/58) normalize_value: column: SAEDeathOutcome\n",
      "(49/58) normalize_value: column: SAEOther\n",
      "(50/58) normalize_value: column: SAEOtherComment\n",
      "(51/58) normalize_value: column: SAEOtherOnsetDate\n",
      "(52/58) normalize_value: column: SAEOtherOnsetTime\n",
      "(53/58) normalize_value: column: SAEOtherResolveDate\n",
      "(54/58) normalize_value: column: SAEOtherResolveTime\n",
      "(55/58) normalize_value: column: SAEOtherDueToHypothermia\n",
      "(56/58) normalize_value: column: SAEOtherActionTaken\n",
      "(57/58) normalize_value: column: SAEOtherOutcome\n",
      "flatten_index: flatten_ids: ['adverseEventNumber'] unique_id_map: {np.int64(1): np.int64(1), np.int64(2): np.int64(2), np.int64(3): np.int64(3), np.int64(4): np.int64(4), np.int64(5): np.int64(5)} the_type: int64\n"
     ]
    }
   ],
   "source": [
    "filename = os.sep.join([input_dir, base_filename])\n",
    "\n",
    "df = pd.read_csv(filename, dtype='O')\n",
    "df = COMBINE_harmonizer.normalize_value(df, _VALUE_MAP, _FLATTEN_IDS, order_map=_ORDER_MAP)\n",
    "\n",
    "out_filename = os.sep.join([out_dir, base_filename])\n",
    "df.to_csv(out_filename, index=False)"
   ]
  },
  {
   "cell_type": "code",
   "execution_count": 125,
   "id": "f375054f",
   "metadata": {
    "execution": {
     "iopub.execute_input": "2025-01-21T19:15:08.491603Z",
     "iopub.status.busy": "2025-01-21T19:15:08.491139Z",
     "iopub.status.idle": "2025-01-21T19:15:08.503468Z",
     "shell.execute_reply": "2025-01-21T19:15:08.503047Z"
    }
   },
   "outputs": [
    {
     "name": "stdout",
     "output_type": "stream",
     "text": [
      "(0/117) center: (93/0)\n",
      "(1/117) center.orig: (93/0)\n",
      "(2/117) subjectID: (93/0)\n",
      "(3/117) subjectID.orig: (93/0)\n",
      "(4/117) uniqueID: (93/0)\n",
      "(5/117) uniqueID.orig: (93/0)\n",
      "(6/117) _flatten_index: (93/0)\n",
      "(7/117) adverseEventNumber: (93/0)\n",
      "(8/117) adverseEventNumber.orig: (93/0)\n",
      "(9/117) SAECardiacExperienceOnsetDate: (93/0)\n",
      "(10/117) SAECardiacExperienceOnsetDate.orig: (12/81)\n",
      "(11/117) SAECardiacExperienceOnsetTime: (93/0)\n",
      "(12/117) SAECardiacExperienceOnsetTime.orig: (12/81)\n",
      "(13/117) SAECardiacExperienceResolveDate: (93/0)\n",
      "(14/117) SAECardiacExperienceResolveDate.orig: (11/82)\n",
      "(15/117) SAECardiacExperienceResolveTime: (93/0)\n",
      "(16/117) SAECardiacExperienceResolveTime.orig: (11/82)\n",
      "(17/117) SAECardiacExperienceDueToHypothermia: (93/0)\n",
      "(18/117) SAECardiacExperienceDueToHypothermia.orig: (12/81)\n",
      "(19/117) SAECardiacExperienceActionTaken: (93/0)\n",
      "(20/117) SAECardiacExperienceActionTaken.orig: (12/81)\n",
      "(21/117) SAECardiacExperienceOutcome: (93/0)\n",
      "(22/117) SAECardiacExperienceOutcome.orig: (12/81)\n",
      "(23/117) SAECardiacExperienceComment: (93/0)\n",
      "(24/117) SAECardiacExperienceComment.orig: (10/83)\n",
      "(25/117) SAEMetabolicAcidosisOnsetDate: (93/0)\n",
      "(26/117) SAEMetabolicAcidosisOnsetDate.orig: (8/85)\n",
      "(27/117) SAEMetabolicAcidosisOnsetTime: (93/0)\n",
      "(28/117) SAEMetabolicAcidosisOnsetTime.orig: (8/85)\n",
      "(29/117) SAEMetabolicAcidosisResolveDate: (93/0)\n",
      "(30/117) SAEMetabolicAcidosisResolveDate.orig: (5/88)\n",
      "(31/117) SAEMetabolicAcidosisResolveTime: (93/0)\n",
      "(32/117) SAEMetabolicAcidosisResolveTime.orig: (5/88)\n",
      "(33/117) SAEMetabolicAcidosisDueToHypothermia: (93/0)\n",
      "(34/117) SAEMetabolicAcidosisDueToHypothermia.orig: (8/85)\n",
      "(35/117) SAEMetabolicAcidosisActionTaken: (93/0)\n",
      "(36/117) SAEMetabolicAcidosisActionTaken.orig: (7/86)\n",
      "(37/117) SAEMetabolicAcidosisOutcome: (93/0)\n",
      "(38/117) SAEMetabolicAcidosisOutcome.orig: (8/85)\n",
      "(39/117) SAEMetabolicAcidosisComment: (93/0)\n",
      "(40/117) SAEMetabolicAcidosisComment.orig: (6/87)\n",
      "(41/117) SAEThrombosisExperienceOnsetDate: (93/0)\n",
      "(42/117) SAEThrombosisExperienceOnsetDate.orig: (1/92)\n",
      "(43/117) SAEThrombosisExperienceOnsetTime: (93/0)\n",
      "(44/117) SAEThrombosisExperienceOnsetTime.orig: (1/92)\n",
      "(45/117) SAEThrombosisExperienceResolveDate: (93/0)\n",
      "(46/117) SAEThrombosisExperienceResolveDate.orig: (0/93)\n",
      "(47/117) SAEThrombosisExperienceResolveTime: (93/0)\n",
      "(48/117) SAEThrombosisExperienceResolveTime.orig: (0/93)\n",
      "(49/117) SAEThrombosisExperienceDueToHypothermia: (93/0)\n",
      "(50/117) SAEThrombosisExperienceDueToHypothermia.orig: (1/92)\n",
      "(51/117) SAEThrombosisExperienceActionTaken: (93/0)\n",
      "(52/117) SAEThrombosisExperienceActionTaken.orig: (1/92)\n",
      "(53/117) SAEThrombosisExperienceOutcome: (93/0)\n",
      "(54/117) SAEThrombosisExperienceOutcome.orig: (1/92)\n",
      "(55/117) SAEThrombosisExperienceComment: (93/0)\n",
      "(56/117) SAEThrombosisExperienceComment.orig: (1/92)\n",
      "(57/117) SAEBleedingExperienceOnsetDate: (93/0)\n",
      "(58/117) SAEBleedingExperienceOnsetDate.orig: (7/86)\n",
      "(59/117) SAEBleedingExperienceOnsetTime: (93/0)\n",
      "(60/117) SAEBleedingExperienceOnsetTime.orig: (6/87)\n",
      "(61/117) SAEBleedingExperienceResolveDate: (93/0)\n",
      "(62/117) SAEBleedingExperienceResolveDate.orig: (2/91)\n",
      "(63/117) SAEBleedingExperienceResolveTime: (93/0)\n",
      "(64/117) SAEBleedingExperienceResolveTime.orig: (2/91)\n",
      "(65/117) SAEBleedingExperienceDueToHypothermia: (93/0)\n",
      "(66/117) SAEBleedingExperienceDueToHypothermia.orig: (7/86)\n",
      "(67/117) SAEBleedingExperienceActionTaken: (93/0)\n",
      "(68/117) SAEBleedingExperienceActionTaken.orig: (7/86)\n",
      "(69/117) SAEBleedingExperienceOutcome: (93/0)\n",
      "(70/117) SAEBleedingExperienceOutcome.orig: (7/86)\n",
      "(71/117) SAEBleedingExperienceComment: (93/0)\n",
      "(72/117) SAEBleedingExperienceComment.orig: (5/88)\n",
      "(73/117) SAEAlterationSkinIntegrity: (93/0)\n",
      "(74/117) SAEAlterationSkinIntegrity.orig: (19/74)\n",
      "(75/117) SAEAlterationSkinIntegrityOnsetDate: (93/0)\n",
      "(76/117) SAEAlterationSkinIntegrityOnsetDate.orig: (19/74)\n",
      "(77/117) SAEAlterationSkinIntegrityResolveDate: (93/0)\n",
      "(78/117) SAEAlterationSkinIntegrityResolveDate.orig: (15/78)\n",
      "(79/117) SAEAlterationSkinIntegrityDueToHypothermia: (93/0)\n",
      "(80/117) SAEAlterationSkinIntegrityDueToHypothermia.orig: (19/74)\n",
      "(81/117) SAEAlterationSkinIntegrityActionTaken: (93/0)\n",
      "(82/117) SAEAlterationSkinIntegrityActionTaken.orig: (19/74)\n",
      "(83/117) SAEAlterationSkinIntegrityOutcome: (93/0)\n",
      "(84/117) SAEAlterationSkinIntegrityOutcome.orig: (19/74)\n",
      "(85/117) SAEAlterationSkinIntegrityComment: (93/0)\n",
      "(86/117) SAEAlterationSkinIntegrityComment.orig: (9/84)\n",
      "(87/117) SAEDeathDate: (93/0)\n",
      "(88/117) SAEDeathDate.orig: (6/87)\n",
      "(89/117) SAEDeathTime: (93/0)\n",
      "(90/117) SAEDeathTime.orig: (6/87)\n",
      "(91/117) SAEDeathDueToHypothermia: (93/0)\n",
      "(92/117) SAEDeathDueToHypothermia.orig: (6/87)\n",
      "(93/117) SAEDeathActionTaken: (93/0)\n",
      "(94/117) SAEDeathActionTaken.orig: (6/87)\n",
      "(95/117) SAEDeathOutcome: (93/0)\n",
      "(96/117) SAEDeathOutcome.orig: (6/87)\n",
      "(97/117) SAEDeathComment: (93/0)\n",
      "(98/117) SAEDeathComment.orig: (5/88)\n",
      "(99/117) SAEOther: (93/0)\n",
      "(100/117) SAEOther.orig: (47/46)\n",
      "(101/117) SAEOtherOnsetDate: (93/0)\n",
      "(102/117) SAEOtherOnsetDate.orig: (47/46)\n",
      "(103/117) SAEOtherOnsetTime: (93/0)\n",
      "(104/117) SAEOtherOnsetTime.orig: (41/52)\n",
      "(105/117) SAEOtherResolveDate: (93/0)\n",
      "(106/117) SAEOtherResolveDate.orig: (15/78)\n",
      "(107/117) SAEOtherResolveTime: (93/0)\n",
      "(108/117) SAEOtherResolveTime.orig: (13/80)\n",
      "(109/117) SAEOtherDueToHypothermia: (93/0)\n",
      "(110/117) SAEOtherDueToHypothermia.orig: (47/46)\n",
      "(111/117) SAEOtherActionTaken: (93/0)\n",
      "(112/117) SAEOtherActionTaken.orig: (47/46)\n",
      "(113/117) SAEOtherOutcome: (93/0)\n",
      "(114/117) SAEOtherOutcome.orig: (47/46)\n",
      "(115/117) SAEOtherComment: (93/0)\n",
      "(116/117) SAEOtherComment.orig: (34/59)\n"
     ]
    }
   ],
   "source": [
    "COMBINE_harmonizer.column_info(df)"
   ]
  },
  {
   "cell_type": "markdown",
   "id": "20dcbd10",
   "metadata": {},
   "source": [
    "## 02-15-violation"
   ]
  },
  {
   "cell_type": "code",
   "execution_count": 126,
   "id": "c1723049",
   "metadata": {
    "execution": {
     "iopub.execute_input": "2025-01-21T19:15:08.505638Z",
     "iopub.status.busy": "2025-01-21T19:15:08.505455Z",
     "iopub.status.idle": "2025-01-21T19:15:08.507573Z",
     "shell.execute_reply": "2025-01-21T19:15:08.507200Z"
    }
   },
   "outputs": [],
   "source": [
    "_FLATTEN_IDS = ['violationNumber']\n",
    "base_filename = '02-15-violation.csv'"
   ]
  },
  {
   "cell_type": "code",
   "execution_count": 127,
   "id": "544f8b27",
   "metadata": {
    "execution": {
     "iopub.execute_input": "2025-01-21T19:15:08.509453Z",
     "iopub.status.busy": "2025-01-21T19:15:08.509277Z",
     "iopub.status.idle": "2025-01-21T19:15:08.634702Z",
     "shell.execute_reply": "2025-01-21T19:15:08.633484Z"
    }
   },
   "outputs": [
    {
     "name": "stdout",
     "output_type": "stream",
     "text": [
      "(0/12) normalize_value: column: center\n",
      "(1/12) normalize_value: column: subjectID\n",
      "(2/12) normalize_value: column: uniqueID\n",
      "(3/12) normalize_value: column: violationOtherText\n",
      "(4/12) normalize_value: column: violationOtherCirumstanceText\n",
      "(5/12) normalize_value: column: violationComment\n",
      "(6/12) normalize_value: column: violationNumber\n",
      "(7/12) normalize_value: column: violationDate\n",
      "(8/12) normalize_value: column: violationNature\n",
      "(9/12) normalize_value: column: violationTreatmentAssign\n",
      "(10/12) normalize_value: column: violationTreatmentReceive\n",
      "(11/12) normalize_value: column: violationCircumstance\n",
      "flatten_index: flatten_ids: ['violationNumber'] unique_id_map: {np.int64(1): np.int64(1), np.int64(2): np.int64(2), np.int64(3): np.int64(3), np.int64(4): np.int64(4)} the_type: int64\n"
     ]
    }
   ],
   "source": [
    "filename = os.sep.join([input_dir, base_filename])\n",
    "df = pd.read_csv(filename, dtype='O')\n",
    "df = COMBINE_harmonizer.normalize_value(df, _VALUE_MAP, _FLATTEN_IDS, order_map=_ORDER_MAP)\n",
    "\n",
    "out_filename = os.sep.join([out_dir, base_filename])\n",
    "df.to_csv(out_filename, index=False)"
   ]
  },
  {
   "cell_type": "code",
   "execution_count": 128,
   "id": "456020d3",
   "metadata": {
    "execution": {
     "iopub.execute_input": "2025-01-21T19:15:08.642661Z",
     "iopub.status.busy": "2025-01-21T19:15:08.642279Z",
     "iopub.status.idle": "2025-01-21T19:15:08.649682Z",
     "shell.execute_reply": "2025-01-21T19:15:08.649122Z"
    }
   },
   "outputs": [
    {
     "name": "stdout",
     "output_type": "stream",
     "text": [
      "(0/25) center: (104/0)\n",
      "(1/25) center.orig: (104/0)\n",
      "(2/25) subjectID: (104/0)\n",
      "(3/25) subjectID.orig: (104/0)\n",
      "(4/25) uniqueID: (104/0)\n",
      "(5/25) uniqueID.orig: (104/0)\n",
      "(6/25) _flatten_index: (104/0)\n",
      "(7/25) violationNumber: (104/0)\n",
      "(8/25) violationNumber.orig: (104/0)\n",
      "(9/25) violationDate: (104/0)\n",
      "(10/25) violationDate.orig: (104/0)\n",
      "(11/25) violationNature: (104/0)\n",
      "(12/25) violationNature.orig: (104/0)\n",
      "(13/25) violationTreatmentAssign: (104/0)\n",
      "(14/25) violationTreatmentAssign.orig: (0/104)\n",
      "(15/25) violationTreatmentReceive: (104/0)\n",
      "(16/25) violationTreatmentReceive.orig: (0/104)\n",
      "(17/25) violationOtherText: (104/0)\n",
      "(18/25) violationOtherText.orig: (102/2)\n",
      "(19/25) violationCircumstance: (104/0)\n",
      "(20/25) violationCircumstance.orig: (104/0)\n",
      "(21/25) violationOtherCirumstanceText: (104/0)\n",
      "(22/25) violationOtherCirumstanceText.orig: (94/10)\n",
      "(23/25) violationComment: (104/0)\n",
      "(24/25) violationComment.orig: (51/53)\n"
     ]
    }
   ],
   "source": [
    "COMBINE_harmonizer.column_info(df)"
   ]
  },
  {
   "cell_type": "markdown",
   "id": "282e23db",
   "metadata": {},
   "source": [
    "## 02-16-interrupt"
   ]
  },
  {
   "cell_type": "code",
   "execution_count": 129,
   "id": "34971ed1",
   "metadata": {
    "execution": {
     "iopub.execute_input": "2025-01-21T19:15:08.652581Z",
     "iopub.status.busy": "2025-01-21T19:15:08.652308Z",
     "iopub.status.idle": "2025-01-21T19:15:08.655744Z",
     "shell.execute_reply": "2025-01-21T19:15:08.655025Z"
    }
   },
   "outputs": [],
   "source": [
    "_FLATTEN_IDS = ['interruptNumber']\n",
    "base_filename = '02-16-interrupt.csv'"
   ]
  },
  {
   "cell_type": "code",
   "execution_count": 130,
   "id": "e30110f6",
   "metadata": {
    "execution": {
     "iopub.execute_input": "2025-01-21T19:15:08.658084Z",
     "iopub.status.busy": "2025-01-21T19:15:08.657903Z",
     "iopub.status.idle": "2025-01-21T19:15:08.771605Z",
     "shell.execute_reply": "2025-01-21T19:15:08.771018Z"
    }
   },
   "outputs": [
    {
     "name": "stdout",
     "output_type": "stream",
     "text": [
      "(0/12) normalize_value: column: center\n",
      "(1/12) normalize_value: column: subjectID\n",
      "(2/12) normalize_value: column: uniqueID\n",
      "(3/12) normalize_value: column: interrupt\n",
      "(4/12) normalize_value: column: interruptReasonText\n",
      "(5/12) normalize_value: column: interruptNumber\n",
      "(6/12) normalize_value: column: interruptReason\n",
      "(7/12) normalize_value: column: interruptDate\n",
      "(8/12) normalize_value: column: interruptTime\n",
      "(9/12) normalize_value: column: interruptRestartDate\n",
      "(10/12) normalize_value: column: interruptRestartTime\n",
      "(11/12) normalize_value: column: interruptRestartEsophagealTemperature_C\n",
      "flatten_index: flatten_ids: ['interruptNumber'] unique_id_map: {np.int64(1): np.int64(1), np.int64(2): np.int64(2)} the_type: int64\n"
     ]
    }
   ],
   "source": [
    "filename = os.sep.join([input_dir, base_filename])\n",
    "df = pd.read_csv(filename, dtype='O')\n",
    "df = COMBINE_harmonizer.normalize_value(df, _VALUE_MAP, _FLATTEN_IDS, order_map=_ORDER_MAP)\n",
    "\n",
    "out_filename = os.sep.join([out_dir, base_filename])\n",
    "df.to_csv(out_filename, index=False)\n"
   ]
  },
  {
   "cell_type": "code",
   "execution_count": 131,
   "id": "51c22a64",
   "metadata": {
    "execution": {
     "iopub.execute_input": "2025-01-21T19:15:08.774869Z",
     "iopub.status.busy": "2025-01-21T19:15:08.774563Z",
     "iopub.status.idle": "2025-01-21T19:15:08.780853Z",
     "shell.execute_reply": "2025-01-21T19:15:08.780393Z"
    }
   },
   "outputs": [
    {
     "name": "stdout",
     "output_type": "stream",
     "text": [
      "(0/25) center: (249/0)\n",
      "(1/25) center.orig: (249/0)\n",
      "(2/25) subjectID: (249/0)\n",
      "(3/25) subjectID.orig: (249/0)\n",
      "(4/25) uniqueID: (249/0)\n",
      "(5/25) uniqueID.orig: (249/0)\n",
      "(6/25) _flatten_index: (249/0)\n",
      "(7/25) interruptNumber: (249/0)\n",
      "(8/25) interruptNumber.orig: (249/0)\n",
      "(9/25) interrupt: (249/0)\n",
      "(10/25) interrupt.orig: (249/0)\n",
      "(11/25) interruptReason: (249/0)\n",
      "(12/25) interruptReason.orig: (20/229)\n",
      "(13/25) interruptReasonText: (249/0)\n",
      "(14/25) interruptReasonText.orig: (16/233)\n",
      "(15/25) interruptDate: (249/0)\n",
      "(16/25) interruptDate.orig: (20/229)\n",
      "(17/25) interruptTime: (249/0)\n",
      "(18/25) interruptTime.orig: (19/230)\n",
      "(19/25) interruptRestartDate: (249/0)\n",
      "(20/25) interruptRestartDate.orig: (14/235)\n",
      "(21/25) interruptRestartTime: (249/0)\n",
      "(22/25) interruptRestartTime.orig: (14/235)\n",
      "(23/25) interruptRestartEsophagealTemperature_C: (249/0)\n",
      "(24/25) interruptRestartEsophagealTemperature_C.orig: (12/237)\n"
     ]
    }
   ],
   "source": [
    "COMBINE_harmonizer.column_info(df)"
   ]
  },
  {
   "cell_type": "markdown",
   "id": "327a0972",
   "metadata": {},
   "source": [
    "## 02-17-discontinue"
   ]
  },
  {
   "cell_type": "code",
   "execution_count": 132,
   "id": "443ffe45",
   "metadata": {
    "execution": {
     "iopub.execute_input": "2025-01-21T19:15:08.783291Z",
     "iopub.status.busy": "2025-01-21T19:15:08.783073Z",
     "iopub.status.idle": "2025-01-21T19:15:08.785623Z",
     "shell.execute_reply": "2025-01-21T19:15:08.785145Z"
    }
   },
   "outputs": [],
   "source": [
    "base_filename = '02-17-discontinue.csv'"
   ]
  },
  {
   "cell_type": "code",
   "execution_count": 133,
   "id": "8610255a",
   "metadata": {
    "execution": {
     "iopub.execute_input": "2025-01-21T19:15:08.787901Z",
     "iopub.status.busy": "2025-01-21T19:15:08.787680Z",
     "iopub.status.idle": "2025-01-21T19:15:08.912523Z",
     "shell.execute_reply": "2025-01-21T19:15:08.910869Z"
    }
   },
   "outputs": [
    {
     "name": "stdout",
     "output_type": "stream",
     "text": [
      "(0/15) normalize_value: column: center\n",
      "(1/15) normalize_value: column: subjectID\n",
      "(2/15) normalize_value: column: uniqueID\n",
      "(3/15) normalize_value: column: discontinueBeforeEndPeriod\n",
      "(4/15) normalize_value: column: discontinueOtherText\n",
      "(5/15) normalize_value: column: discontinueDate\n",
      "(6/15) normalize_value: column: discontinueTime\n",
      "(7/15) normalize_value: column: discontinueParentsWithdraw\n",
      "(8/15) normalize_value: column: discontinuePhysicianWithdraw\n",
      "(9/15) normalize_value: column: discontinueAdverseEvent\n",
      "(10/15) normalize_value: column: discontinueECMO\n",
      "(11/15) normalize_value: column: discontinueDNR\n",
      "(12/15) normalize_value: column: discontinueWdrawSupport\n",
      "(13/15) normalize_value: column: discontinueDeath\n",
      "(14/15) normalize_value: column: discontinueOther\n"
     ]
    }
   ],
   "source": [
    "filename = os.sep.join([input_dir, base_filename])\n",
    "df = pd.read_csv(filename, dtype='O')\n",
    "df = COMBINE_harmonizer.normalize_value(df, _VALUE_MAP, order_map=_ORDER_MAP)\n",
    "\n",
    "out_filename = os.sep.join([out_dir, base_filename])\n",
    "df.to_csv(out_filename, index=False)"
   ]
  },
  {
   "cell_type": "code",
   "execution_count": 134,
   "id": "6a4a0e14",
   "metadata": {
    "execution": {
     "iopub.execute_input": "2025-01-21T19:15:08.919073Z",
     "iopub.status.busy": "2025-01-21T19:15:08.918553Z",
     "iopub.status.idle": "2025-01-21T19:15:08.926704Z",
     "shell.execute_reply": "2025-01-21T19:15:08.926114Z"
    }
   },
   "outputs": [
    {
     "name": "stdout",
     "output_type": "stream",
     "text": [
      "(0/30) center: (364/0)\n",
      "(1/30) center.orig: (364/0)\n",
      "(2/30) subjectID: (364/0)\n",
      "(3/30) subjectID.orig: (364/0)\n",
      "(4/30) uniqueID: (364/0)\n",
      "(5/30) uniqueID.orig: (364/0)\n",
      "(6/30) discontinueDate: (364/0)\n",
      "(7/30) discontinueDate.orig: (55/309)\n",
      "(8/30) discontinueTime: (364/0)\n",
      "(9/30) discontinueTime.orig: (55/309)\n",
      "(10/30) discontinueBeforeEndPeriod: (364/0)\n",
      "(11/30) discontinueBeforeEndPeriod.orig: (364/0)\n",
      "(12/30) discontinueParentsWithdraw: (364/0)\n",
      "(13/30) discontinueParentsWithdraw.orig: (53/311)\n",
      "(14/30) discontinuePhysicianWithdraw: (364/0)\n",
      "(15/30) discontinuePhysicianWithdraw.orig: (53/311)\n",
      "(16/30) discontinueAdverseEvent: (364/0)\n",
      "(17/30) discontinueAdverseEvent.orig: (53/311)\n",
      "(18/30) discontinueECMO: (364/0)\n",
      "(19/30) discontinueECMO.orig: (53/311)\n",
      "(20/30) discontinueDNR: (364/0)\n",
      "(21/30) discontinueDNR.orig: (53/311)\n",
      "(22/30) discontinueWdrawSupport: (364/0)\n",
      "(23/30) discontinueWdrawSupport.orig: (53/311)\n",
      "(24/30) discontinueDeath: (364/0)\n",
      "(25/30) discontinueDeath.orig: (53/311)\n",
      "(26/30) discontinueOther: (364/0)\n",
      "(27/30) discontinueOther.orig: (53/311)\n",
      "(28/30) discontinueOtherText: (364/0)\n",
      "(29/30) discontinueOtherText.orig: (9/355)\n"
     ]
    }
   ],
   "source": [
    "COMBINE_harmonizer.column_info(df)"
   ]
  },
  {
   "cell_type": "markdown",
   "id": "293c5659",
   "metadata": {},
   "source": [
    "## 04-16-wdraw-support"
   ]
  },
  {
   "cell_type": "code",
   "execution_count": 135,
   "id": "952cf7e6",
   "metadata": {
    "execution": {
     "iopub.execute_input": "2025-01-21T19:15:08.929637Z",
     "iopub.status.busy": "2025-01-21T19:15:08.929368Z",
     "iopub.status.idle": "2025-01-21T19:15:08.932206Z",
     "shell.execute_reply": "2025-01-21T19:15:08.931764Z"
    }
   },
   "outputs": [],
   "source": [
    "base_filename = '04-16-wdraw-support.csv'"
   ]
  },
  {
   "cell_type": "code",
   "execution_count": 136,
   "id": "1699636d",
   "metadata": {
    "execution": {
     "iopub.execute_input": "2025-01-21T19:15:08.934499Z",
     "iopub.status.busy": "2025-01-21T19:15:08.934291Z",
     "iopub.status.idle": "2025-01-21T19:15:09.062296Z",
     "shell.execute_reply": "2025-01-21T19:15:09.061231Z"
    }
   },
   "outputs": [
    {
     "name": "stdout",
     "output_type": "stream",
     "text": [
      "(0/16) normalize_value: column: center\n",
      "(1/16) normalize_value: column: subjectID\n",
      "(2/16) normalize_value: column: uniqueID\n",
      "(3/16) normalize_value: column: wdrawSupportDiscussedWithFamily\n",
      "(4/16) normalize_value: column: wdrawSupportRecommendSolelyByClinicalTeam\n",
      "(5/16) normalize_value: column: wdrawSupportNeurologicalExam\n",
      "(6/16) normalize_value: column: wdrawSupportImagingStudy\n",
      "(7/16) normalize_value: column: wdrawSupportEEGFinding\n",
      "(8/16) normalize_value: column: wdrawSupportMultisystemOrganFailureOtherThanCNS\n",
      "(9/16) normalize_value: column: wdrawSupportBrainBloodFlowScan\n",
      "(10/16) normalize_value: column: wdrawSupportParentWish\n",
      "(11/16) normalize_value: column: wdrawSupportOther\n",
      "(12/16) normalize_value: column: wdrawSupportOtherText\n",
      "(13/16) normalize_value: column: wdrawSupport\n",
      "(14/16) normalize_value: column: wdrawSupportDate\n",
      "(15/16) normalize_value: column: wdrawSupportTime\n"
     ]
    }
   ],
   "source": [
    "filename = os.sep.join([input_dir, base_filename])\n",
    "df = pd.read_csv(filename, dtype='O')\n",
    "df = COMBINE_harmonizer.normalize_value(df, _VALUE_MAP, order_map=_ORDER_MAP)\n",
    "\n",
    "out_filename = os.sep.join([out_dir, base_filename])\n",
    "df.to_csv(out_filename, index=False)"
   ]
  },
  {
   "cell_type": "code",
   "execution_count": 137,
   "id": "431e7f91",
   "metadata": {
    "execution": {
     "iopub.execute_input": "2025-01-21T19:15:09.070206Z",
     "iopub.status.busy": "2025-01-21T19:15:09.069492Z",
     "iopub.status.idle": "2025-01-21T19:15:09.081973Z",
     "shell.execute_reply": "2025-01-21T19:15:09.081385Z"
    }
   },
   "outputs": [
    {
     "name": "stdout",
     "output_type": "stream",
     "text": [
      "(0/32) center: (364/0)\n",
      "(1/32) center.orig: (364/0)\n",
      "(2/32) subjectID: (364/0)\n",
      "(3/32) subjectID.orig: (364/0)\n",
      "(4/32) uniqueID: (364/0)\n",
      "(5/32) uniqueID.orig: (364/0)\n",
      "(6/32) wdrawSupport: (364/0)\n",
      "(7/32) wdrawSupport.orig: (59/305)\n",
      "(8/32) wdrawSupportDate: (364/0)\n",
      "(9/32) wdrawSupportDate.orig: (44/320)\n",
      "(10/32) wdrawSupportTime: (364/0)\n",
      "(11/32) wdrawSupportTime.orig: (43/321)\n",
      "(12/32) wdrawSupportDiscussedWithFamily: (364/0)\n",
      "(13/32) wdrawSupportDiscussedWithFamily.orig: (364/0)\n",
      "(14/32) wdrawSupportRecommendSolelyByClinicalTeam: (364/0)\n",
      "(15/32) wdrawSupportRecommendSolelyByClinicalTeam.orig: (59/305)\n",
      "(16/32) wdrawSupportNeurologicalExam: (364/0)\n",
      "(17/32) wdrawSupportNeurologicalExam.orig: (59/305)\n",
      "(18/32) wdrawSupportImagingStudy: (364/0)\n",
      "(19/32) wdrawSupportImagingStudy.orig: (59/305)\n",
      "(20/32) wdrawSupportEEGFinding: (364/0)\n",
      "(21/32) wdrawSupportEEGFinding.orig: (59/305)\n",
      "(22/32) wdrawSupportMultisystemOrganFailureOtherThanCNS: (364/0)\n",
      "(23/32) wdrawSupportMultisystemOrganFailureOtherThanCNS.orig: (59/305)\n",
      "(24/32) wdrawSupportBrainBloodFlowScan: (364/0)\n",
      "(25/32) wdrawSupportBrainBloodFlowScan.orig: (59/305)\n",
      "(26/32) wdrawSupportParentWish: (364/0)\n",
      "(27/32) wdrawSupportParentWish.orig: (59/305)\n",
      "(28/32) wdrawSupportOther: (364/0)\n",
      "(29/32) wdrawSupportOther.orig: (59/305)\n",
      "(30/32) wdrawSupportOtherText: (364/0)\n",
      "(31/32) wdrawSupportOtherText.orig: (6/358)\n"
     ]
    }
   ],
   "source": [
    "COMBINE_harmonizer.column_info(df)"
   ]
  },
  {
   "cell_type": "markdown",
   "id": "433c5bd5",
   "metadata": {},
   "source": [
    "## 04-17-limit-care"
   ]
  },
  {
   "cell_type": "code",
   "execution_count": 138,
   "id": "6c3ea7b4",
   "metadata": {
    "execution": {
     "iopub.execute_input": "2025-01-21T19:15:09.084796Z",
     "iopub.status.busy": "2025-01-21T19:15:09.084526Z",
     "iopub.status.idle": "2025-01-21T19:15:09.087462Z",
     "shell.execute_reply": "2025-01-21T19:15:09.086977Z"
    }
   },
   "outputs": [],
   "source": [
    "base_filename = '04-17-limit-care.csv'"
   ]
  },
  {
   "cell_type": "code",
   "execution_count": 139,
   "id": "203920fa",
   "metadata": {
    "execution": {
     "iopub.execute_input": "2025-01-21T19:15:09.089651Z",
     "iopub.status.busy": "2025-01-21T19:15:09.089450Z",
     "iopub.status.idle": "2025-01-21T19:15:09.217407Z",
     "shell.execute_reply": "2025-01-21T19:15:09.216360Z"
    }
   },
   "outputs": [
    {
     "name": "stdout",
     "output_type": "stream",
     "text": [
      "(0/14) normalize_value: column: center\n",
      "(1/14) normalize_value: column: subjectID\n",
      "(2/14) normalize_value: column: uniqueID\n",
      "(3/14) normalize_value: column: limitCareDiscussedWithFamily\n",
      "(4/14) normalize_value: column: limitCareRecommendSolelyByClinicalTeam\n",
      "(5/14) normalize_value: column: limitCareAgreedByFamilyAndCareTeam\n",
      "(6/14) normalize_value: column: limitCareNoFurtherMechanicalVentilationAndIntubation\n",
      "(7/14) normalize_value: column: limitCareNoFurtherVentilationWithBagAndMask\n",
      "(8/14) normalize_value: column: limitCareNoFurtherMedicationsToSupportBP\n",
      "(9/14) normalize_value: column: limitCareNoFurtherChestCompression\n",
      "(10/14) normalize_value: column: limitCareNoFurtherEmergencyMedication\n",
      "(11/14) normalize_value: column: limitCareDNR\n",
      "(12/14) normalize_value: column: limitCareDNRDate\n",
      "(13/14) normalize_value: column: limitCareDNRTime\n"
     ]
    }
   ],
   "source": [
    "filename = os.sep.join([input_dir, base_filename])\n",
    "df = pd.read_csv(filename, dtype='O')\n",
    "df = COMBINE_harmonizer.normalize_value(df, _VALUE_MAP, order_map=_ORDER_MAP)\n",
    "\n",
    "out_filename = os.sep.join([out_dir, base_filename])\n",
    "df.to_csv(out_filename, index=False)"
   ]
  },
  {
   "cell_type": "code",
   "execution_count": 140,
   "id": "2512c070",
   "metadata": {
    "execution": {
     "iopub.execute_input": "2025-01-21T19:15:09.226334Z",
     "iopub.status.busy": "2025-01-21T19:15:09.225874Z",
     "iopub.status.idle": "2025-01-21T19:15:09.235820Z",
     "shell.execute_reply": "2025-01-21T19:15:09.235090Z"
    }
   },
   "outputs": [
    {
     "name": "stdout",
     "output_type": "stream",
     "text": [
      "(0/28) center: (364/0)\n",
      "(1/28) center.orig: (364/0)\n",
      "(2/28) subjectID: (364/0)\n",
      "(3/28) subjectID.orig: (364/0)\n",
      "(4/28) uniqueID: (364/0)\n",
      "(5/28) uniqueID.orig: (364/0)\n",
      "(6/28) limitCareDiscussedWithFamily: (364/0)\n",
      "(7/28) limitCareDiscussedWithFamily.orig: (364/0)\n",
      "(8/28) limitCareRecommendSolelyByClinicalTeam: (364/0)\n",
      "(9/28) limitCareRecommendSolelyByClinicalTeam.orig: (45/319)\n",
      "(10/28) limitCareAgreedByFamilyAndCareTeam: (364/0)\n",
      "(11/28) limitCareAgreedByFamilyAndCareTeam.orig: (45/319)\n",
      "(12/28) limitCareNoFurtherMechanicalVentilationAndIntubation: (364/0)\n",
      "(13/28) limitCareNoFurtherMechanicalVentilationAndIntubation.orig: (40/324)\n",
      "(14/28) limitCareNoFurtherVentilationWithBagAndMask: (364/0)\n",
      "(15/28) limitCareNoFurtherVentilationWithBagAndMask.orig: (40/324)\n",
      "(16/28) limitCareNoFurtherMedicationsToSupportBP: (364/0)\n",
      "(17/28) limitCareNoFurtherMedicationsToSupportBP.orig: (40/324)\n",
      "(18/28) limitCareNoFurtherChestCompression: (364/0)\n",
      "(19/28) limitCareNoFurtherChestCompression.orig: (40/324)\n",
      "(20/28) limitCareNoFurtherEmergencyMedication: (364/0)\n",
      "(21/28) limitCareNoFurtherEmergencyMedication.orig: (40/324)\n",
      "(22/28) limitCareDNR: (364/0)\n",
      "(23/28) limitCareDNR.orig: (45/319)\n",
      "(24/28) limitCareDNRDate: (364/0)\n",
      "(25/28) limitCareDNRDate.orig: (27/337)\n",
      "(26/28) limitCareDNRTime: (364/0)\n",
      "(27/28) limitCareDNRTime.orig: (22/342)\n"
     ]
    }
   ],
   "source": [
    "COMBINE_harmonizer.column_info(df)"
   ]
  },
  {
   "cell_type": "markdown",
   "id": "2d30d9de",
   "metadata": {},
   "source": [
    "## 04-01-status"
   ]
  },
  {
   "cell_type": "code",
   "execution_count": 141,
   "id": "a302a52d",
   "metadata": {
    "execution": {
     "iopub.execute_input": "2025-01-21T19:15:09.238665Z",
     "iopub.status.busy": "2025-01-21T19:15:09.238390Z",
     "iopub.status.idle": "2025-01-21T19:15:09.241014Z",
     "shell.execute_reply": "2025-01-21T19:15:09.240556Z"
    }
   },
   "outputs": [],
   "source": [
    "base_filename = '04-01-status.csv'"
   ]
  },
  {
   "cell_type": "code",
   "execution_count": 142,
   "id": "c1f14710",
   "metadata": {
    "execution": {
     "iopub.execute_input": "2025-01-21T19:15:09.243196Z",
     "iopub.status.busy": "2025-01-21T19:15:09.242967Z",
     "iopub.status.idle": "2025-01-21T19:15:09.390345Z",
     "shell.execute_reply": "2025-01-21T19:15:09.389708Z"
    }
   },
   "outputs": [
    {
     "name": "stdout",
     "output_type": "stream",
     "text": [
      "(0/30) normalize_value: column: center\n",
      "(1/30) normalize_value: column: subjectID\n",
      "(2/30) normalize_value: column: uniqueID\n",
      "(3/30) normalize_value: column: homeTherapyStatus\n",
      "(4/30) normalize_value: column: homeTherapyVentilator\n",
      "(5/30) normalize_value: column: homeTherapyOxygen\n",
      "(6/30) normalize_value: column: homeTherapyGavageTubeFeed\n",
      "(7/30) normalize_value: column: homeTherapyGastrostomyTubeFeed\n",
      "(8/30) normalize_value: column: homeTherapyTemperatureBlanket\n",
      "(9/30) normalize_value: column: homeTherapyAnticonvulsantMedication\n",
      "(10/30) normalize_value: column: homeTherapyOther\n",
      "(11/30) normalize_value: column: homeTherapyOtherText\n",
      "(12/30) normalize_value: column: deathAutopsy\n",
      "(13/30) normalize_value: column: deathCauseText\n",
      "(14/30) normalize_value: column: status\n",
      "(15/30) normalize_value: column: statusDate\n",
      "(16/30) normalize_value: column: dischargeWeight_g\n",
      "(17/30) normalize_value: column: dischargeLength_cm\n",
      "(18/30) normalize_value: column: dischargeHeadCircumference_cm\n",
      "(19/30) normalize_value: column: transferReason\n",
      "(20/30) normalize_value: column: transferOutcome\n",
      "(21/30) normalize_value: column: dischargeDate\n",
      "(22/30) normalize_value: column: deathDate\n",
      "(23/30) normalize_value: column: deathTime\n",
      "(24/30) normalize_value: column: deathCause\n",
      "(25/30) normalize_value: column: deathSrc\n",
      "(26/30) normalize_value: column: transferDate\n",
      "(27/30) normalize_value: column: transferWeight_g\n",
      "(28/30) normalize_value: column: transferLength_cm\n",
      "(29/30) normalize_value: column: transferHeadCircumference_cm\n"
     ]
    }
   ],
   "source": [
    "filename = os.sep.join([input_dir, base_filename])\n",
    "df = pd.read_csv(filename, dtype='O')\n",
    "df = COMBINE_harmonizer.normalize_value(df, _VALUE_MAP, order_map=_ORDER_MAP)\n",
    "\n",
    "out_filename = os.sep.join([out_dir, base_filename])\n",
    "df.to_csv(out_filename, index=False)"
   ]
  },
  {
   "cell_type": "code",
   "execution_count": 143,
   "id": "e3de1bab",
   "metadata": {
    "execution": {
     "iopub.execute_input": "2025-01-21T19:15:09.393636Z",
     "iopub.status.busy": "2025-01-21T19:15:09.393340Z",
     "iopub.status.idle": "2025-01-21T19:15:09.403199Z",
     "shell.execute_reply": "2025-01-21T19:15:09.402737Z"
    }
   },
   "outputs": [
    {
     "name": "stdout",
     "output_type": "stream",
     "text": [
      "(0/60) center: (364/0)\n",
      "(1/60) center.orig: (364/0)\n",
      "(2/60) subjectID: (364/0)\n",
      "(3/60) subjectID.orig: (364/0)\n",
      "(4/60) uniqueID: (364/0)\n",
      "(5/60) uniqueID.orig: (364/0)\n",
      "(6/60) status: (364/0)\n",
      "(7/60) status.orig: (364/0)\n",
      "(8/60) statusDate: (364/0)\n",
      "(9/60) statusDate.orig: (364/0)\n",
      "(10/60) dischargeDate: (364/0)\n",
      "(11/60) dischargeDate.orig: (290/74)\n",
      "(12/60) dischargeWeight_g: (364/0)\n",
      "(13/60) dischargeWeight_g.orig: (335/29)\n",
      "(14/60) dischargeLength_cm: (364/0)\n",
      "(15/60) dischargeLength_cm.orig: (316/48)\n",
      "(16/60) dischargeHeadCircumference_cm: (364/0)\n",
      "(17/60) dischargeHeadCircumference_cm.orig: (318/46)\n",
      "(18/60) transferReason: (364/0)\n",
      "(19/60) transferReason.orig: (26/338)\n",
      "(20/60) transferDate: (364/0)\n",
      "(21/60) transferDate.orig: (23/341)\n",
      "(22/60) transferWeight_g: (364/0)\n",
      "(23/60) transferWeight_g.orig: (24/340)\n",
      "(24/60) transferLength_cm: (364/0)\n",
      "(25/60) transferLength_cm.orig: (21/343)\n",
      "(26/60) transferHeadCircumference_cm: (364/0)\n",
      "(27/60) transferHeadCircumference_cm.orig: (22/342)\n",
      "(28/60) transferOutcome: (364/0)\n",
      "(29/60) transferOutcome.orig: (26/338)\n",
      "(30/60) homeTherapyStatus: (364/0)\n",
      "(31/60) homeTherapyStatus.orig: (314/50)\n",
      "(32/60) homeTherapyVentilator: (364/0)\n",
      "(33/60) homeTherapyVentilator.orig: (118/246)\n",
      "(34/60) homeTherapyOxygen: (364/0)\n",
      "(35/60) homeTherapyOxygen.orig: (118/246)\n",
      "(36/60) homeTherapyGavageTubeFeed: (364/0)\n",
      "(37/60) homeTherapyGavageTubeFeed.orig: (118/246)\n",
      "(38/60) homeTherapyGastrostomyTubeFeed: (364/0)\n",
      "(39/60) homeTherapyGastrostomyTubeFeed.orig: (118/246)\n",
      "(40/60) homeTherapyTemperatureBlanket: (364/0)\n",
      "(41/60) homeTherapyTemperatureBlanket.orig: (118/246)\n",
      "(42/60) homeTherapyAnticonvulsantMedication: (364/0)\n",
      "(43/60) homeTherapyAnticonvulsantMedication.orig: (118/246)\n",
      "(44/60) homeTherapyOther: (364/0)\n",
      "(45/60) homeTherapyOther.orig: (118/246)\n",
      "(46/60) homeTherapyOtherText: (364/0)\n",
      "(47/60) homeTherapyOtherText.orig: (36/328)\n",
      "(48/60) deathDate: (364/0)\n",
      "(49/60) deathDate.orig: (49/315)\n",
      "(50/60) deathTime: (364/0)\n",
      "(51/60) deathTime.orig: (49/315)\n",
      "(52/60) deathAutopsy: (364/0)\n",
      "(53/60) deathAutopsy.orig: (49/315)\n",
      "(54/60) deathCause: (364/0)\n",
      "(55/60) deathCause.orig: (49/315)\n",
      "(56/60) deathCauseText: (364/0)\n",
      "(57/60) deathCauseText.orig: (8/356)\n",
      "(58/60) deathSrc: (364/0)\n",
      "(59/60) deathSrc.orig: (49/315)\n"
     ]
    }
   ],
   "source": [
    "COMBINE_harmonizer.column_info(df)"
   ]
  },
  {
   "cell_type": "markdown",
   "id": "0afb5700",
   "metadata": {},
   "source": [
    "## 04-02-neuro-exam"
   ]
  },
  {
   "cell_type": "code",
   "execution_count": 144,
   "id": "521bed09",
   "metadata": {
    "execution": {
     "iopub.execute_input": "2025-01-21T19:15:09.405617Z",
     "iopub.status.busy": "2025-01-21T19:15:09.405408Z",
     "iopub.status.idle": "2025-01-21T19:15:09.407789Z",
     "shell.execute_reply": "2025-01-21T19:15:09.407377Z"
    }
   },
   "outputs": [],
   "source": [
    "base_filename = '04-02-neuro-exam.csv'"
   ]
  },
  {
   "cell_type": "code",
   "execution_count": 145,
   "id": "f0dc919e",
   "metadata": {
    "execution": {
     "iopub.execute_input": "2025-01-21T19:15:09.409980Z",
     "iopub.status.busy": "2025-01-21T19:15:09.409753Z",
     "iopub.status.idle": "2025-01-21T19:15:09.535198Z",
     "shell.execute_reply": "2025-01-21T19:15:09.534182Z"
    }
   },
   "outputs": [
    {
     "name": "stdout",
     "output_type": "stream",
     "text": [
      "(0/22) normalize_value: column: center\n",
      "(1/22) normalize_value: column: subjectID\n",
      "(2/22) normalize_value: column: uniqueID\n",
      "(3/22) normalize_value: column: dischargeNeuroExamTone\n",
      "[WARN] unable to float: val (**/<class 'str'>) e: could not convert string to float: '**'\n",
      "[WARN] unable to get value: sheet_name: signOfHIETone value: ** value_float: ** value_int: **\n",
      "[WARN] unable to float: val (**/<class 'str'>) e: could not convert string to float: '**'\n",
      "[WARN] unable to get value: sheet_name: signOfHIETone value: ** value_float: ** value_int: **\n",
      "(4/22) normalize_value: column: dischargeNeuroExamRespiration\n",
      "(5/22) normalize_value: column: dischargeNeuroExamSeizure\n",
      "(6/22) normalize_value: column: dischargeNeuroExamSedate\n",
      "(7/22) normalize_value: column: dischargeNeuroExamClonusSustained\n",
      "(8/22) normalize_value: column: dischargeNeuroExamFistedHand\n",
      "(9/22) normalize_value: column: dischargeNeuroExamAbnormalMovement\n",
      "(10/22) normalize_value: column: dischargeNeuroExamGagReflexAbsent\n",
      "(11/22) normalize_value: column: dischargeNeuroExamAsymTonicNeckReflex\n",
      "[WARN] unable to bool: val: (S/<class 'str'>)\n",
      "(12/22) normalize_value: column: dischargeNeuroExamStatus\n",
      "(13/22) normalize_value: column: dischargeNeuroExamDate\n",
      "(14/22) normalize_value: column: dischargeNeuroExamTime\n",
      "(15/22) normalize_value: column: dischargeNeuroExamLevelConsciousness\n",
      "(16/22) normalize_value: column: dischargeNeuroExamSpontaneousActivity\n",
      "(17/22) normalize_value: column: dischargeNeuroExamPosture\n",
      "(18/22) normalize_value: column: dischargeNeuroExamSuck\n",
      "(19/22) normalize_value: column: dischargeNeuroExamMoro\n",
      "(20/22) normalize_value: column: dischargeNeuroExamPupils\n",
      "(21/22) normalize_value: column: dischargeNeuroExamHeartRate\n"
     ]
    }
   ],
   "source": [
    "filename = os.sep.join([input_dir, base_filename])\n",
    "df = pd.read_csv(filename, dtype='O')\n",
    "df = COMBINE_harmonizer.normalize_value(df, _VALUE_MAP, order_map=_ORDER_MAP)\n",
    "\n",
    "out_filename = os.sep.join([out_dir, base_filename])\n",
    "df.to_csv(out_filename, index=False)"
   ]
  },
  {
   "cell_type": "code",
   "execution_count": 146,
   "id": "58b5e711",
   "metadata": {
    "execution": {
     "iopub.execute_input": "2025-01-21T19:15:09.540990Z",
     "iopub.status.busy": "2025-01-21T19:15:09.540685Z",
     "iopub.status.idle": "2025-01-21T19:15:09.548877Z",
     "shell.execute_reply": "2025-01-21T19:15:09.548390Z"
    }
   },
   "outputs": [
    {
     "name": "stdout",
     "output_type": "stream",
     "text": [
      "(0/44) center: (364/0)\n",
      "(1/44) center.orig: (364/0)\n",
      "(2/44) subjectID: (364/0)\n",
      "(3/44) subjectID.orig: (364/0)\n",
      "(4/44) uniqueID: (364/0)\n",
      "(5/44) uniqueID.orig: (364/0)\n",
      "(6/44) dischargeNeuroExamStatus: (364/0)\n",
      "(7/44) dischargeNeuroExamStatus.orig: (331/33)\n",
      "(8/44) dischargeNeuroExamDate: (364/0)\n",
      "(9/44) dischargeNeuroExamDate.orig: (333/31)\n",
      "(10/44) dischargeNeuroExamTime: (364/0)\n",
      "(11/44) dischargeNeuroExamTime.orig: (326/38)\n",
      "(12/44) dischargeNeuroExamLevelConsciousness: (364/0)\n",
      "(13/44) dischargeNeuroExamLevelConsciousness.orig: (333/31)\n",
      "(14/44) dischargeNeuroExamSpontaneousActivity: (364/0)\n",
      "(15/44) dischargeNeuroExamSpontaneousActivity.orig: (332/32)\n",
      "(16/44) dischargeNeuroExamPosture: (364/0)\n",
      "(17/44) dischargeNeuroExamPosture.orig: (332/32)\n",
      "(18/44) dischargeNeuroExamTone: (364/0)\n",
      "(19/44) dischargeNeuroExamTone.orig: (333/31)\n",
      "(20/44) dischargeNeuroExamSuck: (364/0)\n",
      "(21/44) dischargeNeuroExamSuck.orig: (332/32)\n",
      "(22/44) dischargeNeuroExamMoro: (364/0)\n",
      "(23/44) dischargeNeuroExamMoro.orig: (330/34)\n",
      "(24/44) dischargeNeuroExamPupils: (364/0)\n",
      "(25/44) dischargeNeuroExamPupils.orig: (328/36)\n",
      "(26/44) dischargeNeuroExamHeartRate: (364/0)\n",
      "(27/44) dischargeNeuroExamHeartRate.orig: (332/32)\n",
      "(28/44) dischargeNeuroExamRespiration: (364/0)\n",
      "(29/44) dischargeNeuroExamRespiration.orig: (333/31)\n",
      "(30/44) dischargeNeuroExamSeizure: (364/0)\n",
      "(31/44) dischargeNeuroExamSeizure.orig: (333/31)\n",
      "(32/44) dischargeNeuroExamClonusSustained: (364/0)\n",
      "(33/44) dischargeNeuroExamClonusSustained.orig: (333/31)\n",
      "(34/44) dischargeNeuroExamFistedHand: (364/0)\n",
      "(35/44) dischargeNeuroExamFistedHand.orig: (333/31)\n",
      "(36/44) dischargeNeuroExamAbnormalMovement: (364/0)\n",
      "(37/44) dischargeNeuroExamAbnormalMovement.orig: (333/31)\n",
      "(38/44) dischargeNeuroExamGagReflexAbsent: (364/0)\n",
      "(39/44) dischargeNeuroExamGagReflexAbsent.orig: (333/31)\n",
      "(40/44) dischargeNeuroExamSedate: (364/0)\n",
      "(41/44) dischargeNeuroExamSedate.orig: (333/31)\n",
      "(42/44) dischargeNeuroExamAsymTonicNeckReflex: (364/0)\n",
      "(43/44) dischargeNeuroExamAsymTonicNeckReflex.orig: (328/36)\n"
     ]
    }
   ],
   "source": [
    "COMBINE_harmonizer.column_info(df)"
   ]
  },
  {
   "cell_type": "markdown",
   "id": "73e8adb7",
   "metadata": {},
   "source": [
    "## 04-03-cardiovascular"
   ]
  },
  {
   "cell_type": "code",
   "execution_count": 147,
   "id": "f21ddf1b",
   "metadata": {
    "execution": {
     "iopub.execute_input": "2025-01-21T19:15:09.551709Z",
     "iopub.status.busy": "2025-01-21T19:15:09.551465Z",
     "iopub.status.idle": "2025-01-21T19:15:09.553933Z",
     "shell.execute_reply": "2025-01-21T19:15:09.553464Z"
    }
   },
   "outputs": [],
   "source": [
    "base_filename = '04-03-cardiovascular.csv'"
   ]
  },
  {
   "cell_type": "code",
   "execution_count": 148,
   "id": "c2b99d6c",
   "metadata": {
    "execution": {
     "iopub.execute_input": "2025-01-21T19:15:09.556111Z",
     "iopub.status.busy": "2025-01-21T19:15:09.555911Z",
     "iopub.status.idle": "2025-01-21T19:15:09.673918Z",
     "shell.execute_reply": "2025-01-21T19:15:09.673494Z"
    }
   },
   "outputs": [
    {
     "name": "stdout",
     "output_type": "stream",
     "text": [
      "(0/9) normalize_value: column: center\n",
      "(1/9) normalize_value: column: subjectID\n",
      "(2/9) normalize_value: column: uniqueID\n",
      "(3/9) normalize_value: column: dischargeCardiomegaly\n",
      "(4/9) normalize_value: column: dischargeCardiacFailure\n",
      "(5/9) normalize_value: column: dischargeCardiacDysfunctionByEcho\n",
      "(6/9) normalize_value: column: dischargeCardiacIschemiaByEKG\n",
      "(7/9) normalize_value: column: dischargeHypotension\n",
      "(8/9) normalize_value: column: dischargeArrhythmia\n"
     ]
    }
   ],
   "source": [
    "filename = os.sep.join([input_dir, base_filename])\n",
    "df = pd.read_csv(filename, dtype='O')\n",
    "df = COMBINE_harmonizer.normalize_value(df, _VALUE_MAP, order_map=_ORDER_MAP)\n",
    "\n",
    "out_filename = os.sep.join([out_dir, base_filename])\n",
    "df.to_csv(out_filename, index=False)"
   ]
  },
  {
   "cell_type": "code",
   "execution_count": 149,
   "id": "e479594e",
   "metadata": {
    "execution": {
     "iopub.execute_input": "2025-01-21T19:15:09.675981Z",
     "iopub.status.busy": "2025-01-21T19:15:09.675829Z",
     "iopub.status.idle": "2025-01-21T19:15:09.679800Z",
     "shell.execute_reply": "2025-01-21T19:15:09.679385Z"
    }
   },
   "outputs": [
    {
     "name": "stdout",
     "output_type": "stream",
     "text": [
      "(0/18) center: (364/0)\n",
      "(1/18) center.orig: (364/0)\n",
      "(2/18) subjectID: (364/0)\n",
      "(3/18) subjectID.orig: (364/0)\n",
      "(4/18) uniqueID: (364/0)\n",
      "(5/18) uniqueID.orig: (364/0)\n",
      "(6/18) dischargeCardiomegaly: (364/0)\n",
      "(7/18) dischargeCardiomegaly.orig: (364/0)\n",
      "(8/18) dischargeCardiacFailure: (364/0)\n",
      "(9/18) dischargeCardiacFailure.orig: (364/0)\n",
      "(10/18) dischargeCardiacDysfunctionByEcho: (364/0)\n",
      "(11/18) dischargeCardiacDysfunctionByEcho.orig: (364/0)\n",
      "(12/18) dischargeCardiacIschemiaByEKG: (364/0)\n",
      "(13/18) dischargeCardiacIschemiaByEKG.orig: (364/0)\n",
      "(14/18) dischargeHypotension: (364/0)\n",
      "(15/18) dischargeHypotension.orig: (364/0)\n",
      "(16/18) dischargeArrhythmia: (364/0)\n",
      "(17/18) dischargeArrhythmia.orig: (364/0)\n"
     ]
    }
   ],
   "source": [
    "COMBINE_harmonizer.column_info(df)"
   ]
  },
  {
   "cell_type": "markdown",
   "id": "22e90c2b",
   "metadata": {},
   "source": [
    "## 04-04-respiratory"
   ]
  },
  {
   "cell_type": "code",
   "execution_count": 150,
   "id": "1749a642",
   "metadata": {
    "execution": {
     "iopub.execute_input": "2025-01-21T19:15:09.681934Z",
     "iopub.status.busy": "2025-01-21T19:15:09.681781Z",
     "iopub.status.idle": "2025-01-21T19:15:09.684275Z",
     "shell.execute_reply": "2025-01-21T19:15:09.683848Z"
    }
   },
   "outputs": [],
   "source": [
    "base_filename = '04-04-respiratory.csv'"
   ]
  },
  {
   "cell_type": "code",
   "execution_count": 151,
   "id": "bff1b506",
   "metadata": {
    "execution": {
     "iopub.execute_input": "2025-01-21T19:15:09.686181Z",
     "iopub.status.busy": "2025-01-21T19:15:09.686004Z",
     "iopub.status.idle": "2025-01-21T19:15:09.812890Z",
     "shell.execute_reply": "2025-01-21T19:15:09.812108Z"
    }
   },
   "outputs": [
    {
     "name": "stdout",
     "output_type": "stream",
     "text": [
      "(0/13) normalize_value: column: center\n",
      "(1/13) normalize_value: column: subjectID\n",
      "(2/13) normalize_value: column: uniqueID\n",
      "(3/13) normalize_value: column: dischargeMeconiumAspirationSyndrome\n",
      "(4/13) normalize_value: column: dischargePPHN\n",
      "(5/13) normalize_value: column: dischargePulmonaryHemorrhage\n",
      "(6/13) normalize_value: column: dischargePenumonia\n",
      "(7/13) normalize_value: column: dischargeChronicLungDisease\n",
      "(8/13) normalize_value: column: dischargeECMO\n",
      "(9/13) normalize_value: column: dischargeINO\n",
      "(10/13) normalize_value: column: dischargeVentilator_day\n",
      "(11/13) normalize_value: column: dischargeOxygen_day\n",
      "(12/13) normalize_value: column: dischargeCPAP_day\n"
     ]
    }
   ],
   "source": [
    "filename = os.sep.join([input_dir, base_filename])\n",
    "df = pd.read_csv(filename, dtype='O')\n",
    "df = COMBINE_harmonizer.normalize_value(df, _VALUE_MAP, order_map=_ORDER_MAP)\n",
    "\n",
    "out_filename = os.sep.join([out_dir, base_filename])\n",
    "df.to_csv(out_filename, index=False)"
   ]
  },
  {
   "cell_type": "code",
   "execution_count": 152,
   "id": "f5021181",
   "metadata": {
    "execution": {
     "iopub.execute_input": "2025-01-21T19:15:09.818164Z",
     "iopub.status.busy": "2025-01-21T19:15:09.817615Z",
     "iopub.status.idle": "2025-01-21T19:15:09.827135Z",
     "shell.execute_reply": "2025-01-21T19:15:09.826612Z"
    }
   },
   "outputs": [
    {
     "name": "stdout",
     "output_type": "stream",
     "text": [
      "(0/26) center: (364/0)\n",
      "(1/26) center.orig: (364/0)\n",
      "(2/26) subjectID: (364/0)\n",
      "(3/26) subjectID.orig: (364/0)\n",
      "(4/26) uniqueID: (364/0)\n",
      "(5/26) uniqueID.orig: (364/0)\n",
      "(6/26) dischargeMeconiumAspirationSyndrome: (364/0)\n",
      "(7/26) dischargeMeconiumAspirationSyndrome.orig: (364/0)\n",
      "(8/26) dischargePPHN: (364/0)\n",
      "(9/26) dischargePPHN.orig: (364/0)\n",
      "(10/26) dischargePulmonaryHemorrhage: (364/0)\n",
      "(11/26) dischargePulmonaryHemorrhage.orig: (364/0)\n",
      "(12/26) dischargePenumonia: (364/0)\n",
      "(13/26) dischargePenumonia.orig: (364/0)\n",
      "(14/26) dischargeChronicLungDisease: (364/0)\n",
      "(15/26) dischargeChronicLungDisease.orig: (364/0)\n",
      "(16/26) dischargeECMO: (364/0)\n",
      "(17/26) dischargeECMO.orig: (364/0)\n",
      "(18/26) dischargeINO: (364/0)\n",
      "(19/26) dischargeINO.orig: (364/0)\n",
      "(20/26) dischargeVentilator_day: (364/0)\n",
      "(21/26) dischargeVentilator_day.orig: (364/0)\n",
      "(22/26) dischargeOxygen_day: (364/0)\n",
      "(23/26) dischargeOxygen_day.orig: (364/0)\n",
      "(24/26) dischargeCPAP_day: (364/0)\n",
      "(25/26) dischargeCPAP_day.orig: (364/0)\n"
     ]
    }
   ],
   "source": [
    "COMBINE_harmonizer.column_info(df)"
   ]
  },
  {
   "cell_type": "markdown",
   "id": "7a7e2b62",
   "metadata": {},
   "source": [
    "## 04-05-hematology"
   ]
  },
  {
   "cell_type": "code",
   "execution_count": 153,
   "id": "7c2d4caf",
   "metadata": {
    "execution": {
     "iopub.execute_input": "2025-01-21T19:15:09.831478Z",
     "iopub.status.busy": "2025-01-21T19:15:09.831084Z",
     "iopub.status.idle": "2025-01-21T19:15:09.837380Z",
     "shell.execute_reply": "2025-01-21T19:15:09.835647Z"
    }
   },
   "outputs": [],
   "source": [
    "base_filename = '04-05-hematology.csv'"
   ]
  },
  {
   "cell_type": "code",
   "execution_count": 154,
   "id": "1ee6c18f",
   "metadata": {
    "execution": {
     "iopub.execute_input": "2025-01-21T19:15:09.840953Z",
     "iopub.status.busy": "2025-01-21T19:15:09.840604Z",
     "iopub.status.idle": "2025-01-21T19:15:09.957894Z",
     "shell.execute_reply": "2025-01-21T19:15:09.956205Z"
    }
   },
   "outputs": [
    {
     "name": "stdout",
     "output_type": "stream",
     "text": [
      "(0/4) normalize_value: column: center\n",
      "(1/4) normalize_value: column: subjectID\n",
      "(2/4) normalize_value: column: uniqueID\n",
      "(3/4) normalize_value: column: dischargeDIC\n"
     ]
    }
   ],
   "source": [
    "filename = os.sep.join([input_dir, base_filename])\n",
    "df = pd.read_csv(filename, dtype='O')\n",
    "df = COMBINE_harmonizer.normalize_value(df, _VALUE_MAP, order_map=_ORDER_MAP)\n",
    "\n",
    "out_filename = os.sep.join([out_dir, base_filename])\n",
    "df.to_csv(out_filename, index=False)"
   ]
  },
  {
   "cell_type": "code",
   "execution_count": 155,
   "id": "1a666455",
   "metadata": {
    "execution": {
     "iopub.execute_input": "2025-01-21T19:15:09.966188Z",
     "iopub.status.busy": "2025-01-21T19:15:09.965581Z",
     "iopub.status.idle": "2025-01-21T19:15:09.975936Z",
     "shell.execute_reply": "2025-01-21T19:15:09.975184Z"
    }
   },
   "outputs": [
    {
     "name": "stdout",
     "output_type": "stream",
     "text": [
      "(0/8) center: (364/0)\n",
      "(1/8) center.orig: (364/0)\n",
      "(2/8) subjectID: (364/0)\n",
      "(3/8) subjectID.orig: (364/0)\n",
      "(4/8) uniqueID: (364/0)\n",
      "(5/8) uniqueID.orig: (364/0)\n",
      "(6/8) dischargeDIC: (364/0)\n",
      "(7/8) dischargeDIC.orig: (364/0)\n"
     ]
    }
   ],
   "source": [
    "COMBINE_harmonizer.column_info(df)"
   ]
  },
  {
   "cell_type": "markdown",
   "id": "fe67052e",
   "metadata": {},
   "source": [
    "## 04-06-metabolic"
   ]
  },
  {
   "cell_type": "code",
   "execution_count": 156,
   "id": "617befe0",
   "metadata": {
    "execution": {
     "iopub.execute_input": "2025-01-21T19:15:09.980096Z",
     "iopub.status.busy": "2025-01-21T19:15:09.979707Z",
     "iopub.status.idle": "2025-01-21T19:15:09.983250Z",
     "shell.execute_reply": "2025-01-21T19:15:09.982653Z"
    }
   },
   "outputs": [],
   "source": [
    "base_filename = '04-06-metabolic.csv'"
   ]
  },
  {
   "cell_type": "code",
   "execution_count": 157,
   "id": "b1fe8d4c",
   "metadata": {
    "execution": {
     "iopub.execute_input": "2025-01-21T19:15:09.985903Z",
     "iopub.status.busy": "2025-01-21T19:15:09.985700Z",
     "iopub.status.idle": "2025-01-21T19:15:10.110183Z",
     "shell.execute_reply": "2025-01-21T19:15:10.109893Z"
    }
   },
   "outputs": [
    {
     "name": "stdout",
     "output_type": "stream",
     "text": [
      "(0/6) normalize_value: column: center\n",
      "(1/6) normalize_value: column: subjectID\n",
      "(2/6) normalize_value: column: uniqueID\n",
      "(3/6) normalize_value: column: dischargeHypoglycemia\n",
      "(4/6) normalize_value: column: dischargeHypocalcemia\n",
      "(5/6) normalize_value: column: dischargeHypomagnesemia\n"
     ]
    }
   ],
   "source": [
    "filename = os.sep.join([input_dir, base_filename])\n",
    "df = pd.read_csv(filename, dtype='O')\n",
    "df = COMBINE_harmonizer.normalize_value(df, _VALUE_MAP, order_map=_ORDER_MAP)\n",
    "\n",
    "out_filename = os.sep.join([out_dir, base_filename])\n",
    "df.to_csv(out_filename, index=False)"
   ]
  },
  {
   "cell_type": "code",
   "execution_count": 158,
   "id": "f19240af",
   "metadata": {
    "execution": {
     "iopub.execute_input": "2025-01-21T19:15:10.111596Z",
     "iopub.status.busy": "2025-01-21T19:15:10.111491Z",
     "iopub.status.idle": "2025-01-21T19:15:10.114025Z",
     "shell.execute_reply": "2025-01-21T19:15:10.113781Z"
    }
   },
   "outputs": [
    {
     "name": "stdout",
     "output_type": "stream",
     "text": [
      "(0/12) center: (364/0)\n",
      "(1/12) center.orig: (364/0)\n",
      "(2/12) subjectID: (364/0)\n",
      "(3/12) subjectID.orig: (364/0)\n",
      "(4/12) uniqueID: (364/0)\n",
      "(5/12) uniqueID.orig: (364/0)\n",
      "(6/12) dischargeHypoglycemia: (364/0)\n",
      "(7/12) dischargeHypoglycemia.orig: (364/0)\n",
      "(8/12) dischargeHypocalcemia: (364/0)\n",
      "(9/12) dischargeHypocalcemia.orig: (364/0)\n",
      "(10/12) dischargeHypomagnesemia: (364/0)\n",
      "(11/12) dischargeHypomagnesemia.orig: (364/0)\n"
     ]
    }
   ],
   "source": [
    "COMBINE_harmonizer.column_info(df)"
   ]
  },
  {
   "cell_type": "markdown",
   "id": "b690697a",
   "metadata": {},
   "source": [
    "## 04-07-renal"
   ]
  },
  {
   "cell_type": "code",
   "execution_count": 159,
   "id": "ecd7a719",
   "metadata": {
    "execution": {
     "iopub.execute_input": "2025-01-21T19:15:10.115510Z",
     "iopub.status.busy": "2025-01-21T19:15:10.115386Z",
     "iopub.status.idle": "2025-01-21T19:15:10.117045Z",
     "shell.execute_reply": "2025-01-21T19:15:10.116813Z"
    }
   },
   "outputs": [],
   "source": [
    "base_filename = '04-07-renal.csv'"
   ]
  },
  {
   "cell_type": "code",
   "execution_count": 160,
   "id": "94417f58",
   "metadata": {
    "execution": {
     "iopub.execute_input": "2025-01-21T19:15:10.118642Z",
     "iopub.status.busy": "2025-01-21T19:15:10.118491Z",
     "iopub.status.idle": "2025-01-21T19:15:10.241693Z",
     "shell.execute_reply": "2025-01-21T19:15:10.241355Z"
    }
   },
   "outputs": [
    {
     "name": "stdout",
     "output_type": "stream",
     "text": [
      "(0/6) normalize_value: column: center\n",
      "(1/6) normalize_value: column: subjectID\n",
      "(2/6) normalize_value: column: uniqueID\n",
      "(3/6) normalize_value: column: dischargeOliguria\n",
      "(4/6) normalize_value: column: dischargeAnuria\n",
      "(5/6) normalize_value: column: dischargeDialysis\n"
     ]
    }
   ],
   "source": [
    "filename = os.sep.join([input_dir, base_filename])\n",
    "df = pd.read_csv(filename, dtype='O')\n",
    "df = COMBINE_harmonizer.normalize_value(df, _VALUE_MAP, order_map=_ORDER_MAP)\n",
    "\n",
    "out_filename = os.sep.join([out_dir, base_filename])\n",
    "df.to_csv(out_filename, index=False)"
   ]
  },
  {
   "cell_type": "code",
   "execution_count": 161,
   "id": "b6cc4d6e",
   "metadata": {
    "execution": {
     "iopub.execute_input": "2025-01-21T19:15:10.243639Z",
     "iopub.status.busy": "2025-01-21T19:15:10.243490Z",
     "iopub.status.idle": "2025-01-21T19:15:10.247355Z",
     "shell.execute_reply": "2025-01-21T19:15:10.246949Z"
    }
   },
   "outputs": [
    {
     "name": "stdout",
     "output_type": "stream",
     "text": [
      "(0/12) center: (364/0)\n",
      "(1/12) center.orig: (364/0)\n",
      "(2/12) subjectID: (364/0)\n",
      "(3/12) subjectID.orig: (364/0)\n",
      "(4/12) uniqueID: (364/0)\n",
      "(5/12) uniqueID.orig: (364/0)\n",
      "(6/12) dischargeOliguria: (364/0)\n",
      "(7/12) dischargeOliguria.orig: (364/0)\n",
      "(8/12) dischargeAnuria: (364/0)\n",
      "(9/12) dischargeAnuria.orig: (364/0)\n",
      "(10/12) dischargeDialysis: (364/0)\n",
      "(11/12) dischargeDialysis.orig: (364/0)\n"
     ]
    }
   ],
   "source": [
    "COMBINE_harmonizer.column_info(df)"
   ]
  },
  {
   "cell_type": "markdown",
   "id": "07281518",
   "metadata": {},
   "source": [
    "## 04-08-gastrointestinal"
   ]
  },
  {
   "cell_type": "code",
   "execution_count": 162,
   "id": "935d698d",
   "metadata": {
    "execution": {
     "iopub.execute_input": "2025-01-21T19:15:10.249839Z",
     "iopub.status.busy": "2025-01-21T19:15:10.249627Z",
     "iopub.status.idle": "2025-01-21T19:15:10.253045Z",
     "shell.execute_reply": "2025-01-21T19:15:10.252015Z"
    }
   },
   "outputs": [],
   "source": [
    "base_filename = '04-08-gastrointestinal.csv'"
   ]
  },
  {
   "cell_type": "code",
   "execution_count": 163,
   "id": "544b3f24",
   "metadata": {
    "execution": {
     "iopub.execute_input": "2025-01-21T19:15:10.258362Z",
     "iopub.status.busy": "2025-01-21T19:15:10.257893Z",
     "iopub.status.idle": "2025-01-21T19:15:10.372023Z",
     "shell.execute_reply": "2025-01-21T19:15:10.370649Z"
    }
   },
   "outputs": [
    {
     "name": "stdout",
     "output_type": "stream",
     "text": [
      "(0/9) normalize_value: column: center\n",
      "(1/9) normalize_value: column: subjectID\n",
      "(2/9) normalize_value: column: uniqueID\n",
      "(3/9) normalize_value: column: dischargeFullNippleFeed\n",
      "(4/9) normalize_value: column: dischargeNEC\n",
      "(5/9) normalize_value: column: dischargeHepaticDysfunction\n",
      "(6/9) normalize_value: column: dischargeEnteralFeedStart_day\n",
      "(7/9) normalize_value: column: dischargeTubeFeedingDuration_day\n",
      "(8/9) normalize_value: column: dischargeFullNippleFeed_day\n"
     ]
    }
   ],
   "source": [
    "filename = os.sep.join([input_dir, base_filename])\n",
    "df = pd.read_csv(filename, dtype='O')\n",
    "df = COMBINE_harmonizer.normalize_value(df, _VALUE_MAP, order_map=_ORDER_MAP)\n",
    "\n",
    "out_filename = os.sep.join([out_dir, base_filename])\n",
    "df.to_csv(out_filename, index=False)"
   ]
  },
  {
   "cell_type": "code",
   "execution_count": 164,
   "id": "cb72e684",
   "metadata": {
    "execution": {
     "iopub.execute_input": "2025-01-21T19:15:10.379730Z",
     "iopub.status.busy": "2025-01-21T19:15:10.378615Z",
     "iopub.status.idle": "2025-01-21T19:15:10.394808Z",
     "shell.execute_reply": "2025-01-21T19:15:10.393934Z"
    }
   },
   "outputs": [
    {
     "name": "stdout",
     "output_type": "stream",
     "text": [
      "(0/18) center: (364/0)\n",
      "(1/18) center.orig: (364/0)\n",
      "(2/18) subjectID: (364/0)\n",
      "(3/18) subjectID.orig: (364/0)\n",
      "(4/18) uniqueID: (364/0)\n",
      "(5/18) uniqueID.orig: (364/0)\n",
      "(6/18) dischargeEnteralFeedStart_day: (364/0)\n",
      "(7/18) dischargeEnteralFeedStart_day.orig: (337/27)\n",
      "(8/18) dischargeTubeFeedingDuration_day: (364/0)\n",
      "(9/18) dischargeTubeFeedingDuration_day.orig: (343/21)\n",
      "(10/18) dischargeFullNippleFeed: (364/0)\n",
      "(11/18) dischargeFullNippleFeed.orig: (364/0)\n",
      "(12/18) dischargeFullNippleFeed_day: (364/0)\n",
      "(13/18) dischargeFullNippleFeed_day.orig: (237/127)\n",
      "(14/18) dischargeNEC: (364/0)\n",
      "(15/18) dischargeNEC.orig: (364/0)\n",
      "(16/18) dischargeHepaticDysfunction: (364/0)\n",
      "(17/18) dischargeHepaticDysfunction.orig: (364/0)\n"
     ]
    }
   ],
   "source": [
    "COMBINE_harmonizer.column_info(df)"
   ]
  },
  {
   "cell_type": "markdown",
   "id": "ba78fb2f",
   "metadata": {},
   "source": [
    "## 04-09-skin"
   ]
  },
  {
   "cell_type": "code",
   "execution_count": 165,
   "id": "1ac8ff06",
   "metadata": {
    "execution": {
     "iopub.execute_input": "2025-01-21T19:15:10.399901Z",
     "iopub.status.busy": "2025-01-21T19:15:10.399580Z",
     "iopub.status.idle": "2025-01-21T19:15:10.402723Z",
     "shell.execute_reply": "2025-01-21T19:15:10.402195Z"
    }
   },
   "outputs": [],
   "source": [
    "base_filename = '04-09-skin.csv'"
   ]
  },
  {
   "cell_type": "code",
   "execution_count": 166,
   "id": "7e64fcf7",
   "metadata": {
    "execution": {
     "iopub.execute_input": "2025-01-21T19:15:10.405338Z",
     "iopub.status.busy": "2025-01-21T19:15:10.405136Z",
     "iopub.status.idle": "2025-01-21T19:15:10.533305Z",
     "shell.execute_reply": "2025-01-21T19:15:10.531880Z"
    }
   },
   "outputs": [
    {
     "name": "stdout",
     "output_type": "stream",
     "text": [
      "(0/16) normalize_value: column: center\n",
      "(1/16) normalize_value: column: subjectID\n",
      "(2/16) normalize_value: column: uniqueID\n",
      "(3/16) normalize_value: column: dischargeAlteredSkinItegrityPostIntervention\n",
      "(4/16) normalize_value: column: dischargeErythema\n",
      "(5/16) normalize_value: column: dischargeSclerema\n",
      "(6/16) normalize_value: column: dischargeCyanosis\n",
      "(7/16) normalize_value: column: dischargeSubFatNecrosis\n",
      "(8/16) normalize_value: column: dischargeErythemaOnsetDate\n",
      "(9/16) normalize_value: column: dischargeErythemaResolveDate\n",
      "(10/16) normalize_value: column: dischargeScleremaOnsetDate\n",
      "(11/16) normalize_value: column: dischargeScleremaResolveDate\n",
      "(12/16) normalize_value: column: dischargeCyanosisOnsetDate\n",
      "(13/16) normalize_value: column: dischargeCyanosisResolveDate\n",
      "(14/16) normalize_value: column: dischargeSubFatNecrosisOnsetDate\n",
      "(15/16) normalize_value: column: dischargeSubFatNecrosisResolveDate\n"
     ]
    }
   ],
   "source": [
    "filename = os.sep.join([input_dir, base_filename])\n",
    "df = pd.read_csv(filename, dtype='O')\n",
    "df = COMBINE_harmonizer.normalize_value(df, _VALUE_MAP, order_map=_ORDER_MAP)\n",
    "\n",
    "out_filename = os.sep.join([out_dir, base_filename])\n",
    "df.to_csv(out_filename, index=False)"
   ]
  },
  {
   "cell_type": "code",
   "execution_count": 167,
   "id": "8fe99c12",
   "metadata": {
    "execution": {
     "iopub.execute_input": "2025-01-21T19:15:10.540802Z",
     "iopub.status.busy": "2025-01-21T19:15:10.540428Z",
     "iopub.status.idle": "2025-01-21T19:15:10.549072Z",
     "shell.execute_reply": "2025-01-21T19:15:10.548551Z"
    }
   },
   "outputs": [
    {
     "name": "stdout",
     "output_type": "stream",
     "text": [
      "(0/32) center: (364/0)\n",
      "(1/32) center.orig: (364/0)\n",
      "(2/32) subjectID: (364/0)\n",
      "(3/32) subjectID.orig: (364/0)\n",
      "(4/32) uniqueID: (364/0)\n",
      "(5/32) uniqueID.orig: (364/0)\n",
      "(6/32) dischargeAlteredSkinItegrityPostIntervention: (364/0)\n",
      "(7/32) dischargeAlteredSkinItegrityPostIntervention.orig: (364/0)\n",
      "(8/32) dischargeErythema: (364/0)\n",
      "(9/32) dischargeErythema.orig: (28/336)\n",
      "(10/32) dischargeErythemaOnsetDate: (364/0)\n",
      "(11/32) dischargeErythemaOnsetDate.orig: (13/351)\n",
      "(12/32) dischargeErythemaResolveDate: (364/0)\n",
      "(13/32) dischargeErythemaResolveDate.orig: (10/354)\n",
      "(14/32) dischargeSclerema: (364/0)\n",
      "(15/32) dischargeSclerema.orig: (28/336)\n",
      "(16/32) dischargeScleremaOnsetDate: (364/0)\n",
      "(17/32) dischargeScleremaOnsetDate.orig: (0/364)\n",
      "(18/32) dischargeScleremaResolveDate: (364/0)\n",
      "(19/32) dischargeScleremaResolveDate.orig: (0/364)\n",
      "(20/32) dischargeCyanosis: (364/0)\n",
      "(21/32) dischargeCyanosis.orig: (28/336)\n",
      "(22/32) dischargeCyanosisOnsetDate: (364/0)\n",
      "(23/32) dischargeCyanosisOnsetDate.orig: (1/363)\n",
      "(24/32) dischargeCyanosisResolveDate: (364/0)\n",
      "(25/32) dischargeCyanosisResolveDate.orig: (1/363)\n",
      "(26/32) dischargeSubFatNecrosis: (364/0)\n",
      "(27/32) dischargeSubFatNecrosis.orig: (28/336)\n",
      "(28/32) dischargeSubFatNecrosisOnsetDate: (364/0)\n",
      "(29/32) dischargeSubFatNecrosisOnsetDate.orig: (15/349)\n",
      "(30/32) dischargeSubFatNecrosisResolveDate: (364/0)\n",
      "(31/32) dischargeSubFatNecrosisResolveDate.orig: (8/356)\n"
     ]
    }
   ],
   "source": [
    "COMBINE_harmonizer.column_info(df)"
   ]
  },
  {
   "cell_type": "markdown",
   "id": "ecf9792e",
   "metadata": {},
   "source": [
    "## 04-10-auditory"
   ]
  },
  {
   "cell_type": "code",
   "execution_count": 168,
   "id": "18c4d3ca",
   "metadata": {
    "execution": {
     "iopub.execute_input": "2025-01-21T19:15:10.552049Z",
     "iopub.status.busy": "2025-01-21T19:15:10.551781Z",
     "iopub.status.idle": "2025-01-21T19:15:10.554279Z",
     "shell.execute_reply": "2025-01-21T19:15:10.553860Z"
    }
   },
   "outputs": [],
   "source": [
    "base_filename = '04-10-auditory.csv'"
   ]
  },
  {
   "cell_type": "code",
   "execution_count": 169,
   "id": "06dcde1c",
   "metadata": {
    "execution": {
     "iopub.execute_input": "2025-01-21T19:15:10.556531Z",
     "iopub.status.busy": "2025-01-21T19:15:10.556304Z",
     "iopub.status.idle": "2025-01-21T19:15:10.679924Z",
     "shell.execute_reply": "2025-01-21T19:15:10.676640Z"
    }
   },
   "outputs": [
    {
     "name": "stdout",
     "output_type": "stream",
     "text": [
      "(0/5) normalize_value: column: center\n",
      "(1/5) normalize_value: column: subjectID\n",
      "(2/5) normalize_value: column: uniqueID\n",
      "(3/5) normalize_value: column: dischargeHearingTest\n",
      "(4/5) normalize_value: column: dischargeHearingTestNormal\n"
     ]
    }
   ],
   "source": [
    "filename = os.sep.join([input_dir, base_filename])\n",
    "df = pd.read_csv(filename, dtype='O')\n",
    "df = COMBINE_harmonizer.normalize_value(df, _VALUE_MAP, order_map=_ORDER_MAP)\n",
    "\n",
    "out_filename = os.sep.join([out_dir, base_filename])\n",
    "df.to_csv(out_filename, index=False)"
   ]
  },
  {
   "cell_type": "code",
   "execution_count": 170,
   "id": "38da0d17",
   "metadata": {
    "execution": {
     "iopub.execute_input": "2025-01-21T19:15:10.689748Z",
     "iopub.status.busy": "2025-01-21T19:15:10.689262Z",
     "iopub.status.idle": "2025-01-21T19:15:10.697441Z",
     "shell.execute_reply": "2025-01-21T19:15:10.696865Z"
    }
   },
   "outputs": [
    {
     "name": "stdout",
     "output_type": "stream",
     "text": [
      "(0/10) center: (364/0)\n",
      "(1/10) center.orig: (364/0)\n",
      "(2/10) subjectID: (364/0)\n",
      "(3/10) subjectID.orig: (364/0)\n",
      "(4/10) uniqueID: (364/0)\n",
      "(5/10) uniqueID.orig: (364/0)\n",
      "(6/10) dischargeHearingTest: (364/0)\n",
      "(7/10) dischargeHearingTest.orig: (364/0)\n",
      "(8/10) dischargeHearingTestNormal: (364/0)\n",
      "(9/10) dischargeHearingTestNormal.orig: (290/74)\n"
     ]
    }
   ],
   "source": [
    "COMBINE_harmonizer.column_info(df)"
   ]
  },
  {
   "cell_type": "markdown",
   "id": "6d8f3dfc",
   "metadata": {},
   "source": [
    "## 04-11. Surgery"
   ]
  },
  {
   "cell_type": "code",
   "execution_count": 171,
   "id": "777136ae",
   "metadata": {
    "execution": {
     "iopub.execute_input": "2025-01-21T19:15:10.700161Z",
     "iopub.status.busy": "2025-01-21T19:15:10.699950Z",
     "iopub.status.idle": "2025-01-21T19:15:10.702920Z",
     "shell.execute_reply": "2025-01-21T19:15:10.702440Z"
    }
   },
   "outputs": [],
   "source": [
    "base_filename = '04-11-surgery.csv'"
   ]
  },
  {
   "cell_type": "code",
   "execution_count": 172,
   "id": "80c4f7e3",
   "metadata": {
    "execution": {
     "iopub.execute_input": "2025-01-21T19:15:10.705589Z",
     "iopub.status.busy": "2025-01-21T19:15:10.705347Z",
     "iopub.status.idle": "2025-01-21T19:15:10.825901Z",
     "shell.execute_reply": "2025-01-21T19:15:10.824597Z"
    }
   },
   "outputs": [
    {
     "name": "stdout",
     "output_type": "stream",
     "text": [
      "(0/7) normalize_value: column: center\n",
      "(1/7) normalize_value: column: subjectID\n",
      "(2/7) normalize_value: column: uniqueID\n",
      "(3/7) normalize_value: column: dischargeMajorSurgery\n",
      "(4/7) normalize_value: column: dischargeSurgeryCode1\n",
      "(5/7) normalize_value: column: dischargeSurgeryCode2\n",
      "(6/7) normalize_value: column: dischargeSurgeryCode3\n"
     ]
    }
   ],
   "source": [
    "filename = os.sep.join([input_dir, base_filename])\n",
    "df = pd.read_csv(filename, dtype='O')\n",
    "df = COMBINE_harmonizer.normalize_value(df, _VALUE_MAP, order_map=_ORDER_MAP)\n",
    "\n",
    "out_filename = os.sep.join([out_dir, base_filename])\n",
    "df.to_csv(out_filename, index=False)"
   ]
  },
  {
   "cell_type": "code",
   "execution_count": 173,
   "id": "76363a14",
   "metadata": {
    "execution": {
     "iopub.execute_input": "2025-01-21T19:15:10.843429Z",
     "iopub.status.busy": "2025-01-21T19:15:10.843202Z",
     "iopub.status.idle": "2025-01-21T19:15:10.846873Z",
     "shell.execute_reply": "2025-01-21T19:15:10.846535Z"
    }
   },
   "outputs": [
    {
     "name": "stdout",
     "output_type": "stream",
     "text": [
      "(0/14) center: (364/0)\n",
      "(1/14) center.orig: (364/0)\n",
      "(2/14) subjectID: (364/0)\n",
      "(3/14) subjectID.orig: (364/0)\n",
      "(4/14) uniqueID: (364/0)\n",
      "(5/14) uniqueID.orig: (364/0)\n",
      "(6/14) dischargeMajorSurgery: (364/0)\n",
      "(7/14) dischargeMajorSurgery.orig: (364/0)\n",
      "(8/14) dischargeSurgeryCode1: (364/0)\n",
      "(9/14) dischargeSurgeryCode1.orig: (42/322)\n",
      "(10/14) dischargeSurgeryCode2: (364/0)\n",
      "(11/14) dischargeSurgeryCode2.orig: (12/352)\n",
      "(12/14) dischargeSurgeryCode3: (364/0)\n",
      "(13/14) dischargeSurgeryCode3.orig: (5/359)\n"
     ]
    }
   ],
   "source": [
    "COMBINE_harmonizer.column_info(df)"
   ]
  },
  {
   "cell_type": "markdown",
   "id": "bfc2157a",
   "metadata": {},
   "source": [
    "## 04-12-infection"
   ]
  },
  {
   "cell_type": "code",
   "execution_count": 174,
   "id": "6870ff12",
   "metadata": {
    "execution": {
     "iopub.execute_input": "2025-01-21T19:15:10.848977Z",
     "iopub.status.busy": "2025-01-21T19:15:10.848819Z",
     "iopub.status.idle": "2025-01-21T19:15:10.851304Z",
     "shell.execute_reply": "2025-01-21T19:15:10.850842Z"
    }
   },
   "outputs": [],
   "source": [
    "base_filename = '04-12-infection.csv'"
   ]
  },
  {
   "cell_type": "code",
   "execution_count": 175,
   "id": "5b0e9c5c",
   "metadata": {
    "execution": {
     "iopub.execute_input": "2025-01-21T19:15:10.853462Z",
     "iopub.status.busy": "2025-01-21T19:15:10.853246Z",
     "iopub.status.idle": "2025-01-21T19:15:10.978398Z",
     "shell.execute_reply": "2025-01-21T19:15:10.977056Z"
    }
   },
   "outputs": [
    {
     "name": "stdout",
     "output_type": "stream",
     "text": [
      "(0/11) normalize_value: column: center\n",
      "(1/11) normalize_value: column: subjectID\n",
      "(2/11) normalize_value: column: uniqueID\n",
      "(3/11) normalize_value: column: dischargeSepticemia\n",
      "(4/11) normalize_value: column: dischargeMeningitisEncephalitis\n",
      "(5/11) normalize_value: column: dischargeSepticemiaOrganismCode1\n",
      "(6/11) normalize_value: column: dischargeSepticemiaOrganismCode2\n",
      "(7/11) normalize_value: column: dischargeSepticemiaOrganismCode3\n",
      "(8/11) normalize_value: column: dischargeMeningitisOrganismCode1\n",
      "(9/11) normalize_value: column: dischargeMeningitisOrganismCode2\n",
      "(10/11) normalize_value: column: dischargeMeningitisOrganismCode3\n"
     ]
    }
   ],
   "source": [
    "filename = os.sep.join([input_dir, base_filename])\n",
    "df = pd.read_csv(filename, dtype='O')\n",
    "df = COMBINE_harmonizer.normalize_value(df, _VALUE_MAP, order_map=_ORDER_MAP)\n",
    "\n",
    "out_filename = os.sep.join([out_dir, base_filename])\n",
    "df.to_csv(out_filename, index=False)"
   ]
  },
  {
   "cell_type": "code",
   "execution_count": 176,
   "id": "cb4213d7",
   "metadata": {
    "execution": {
     "iopub.execute_input": "2025-01-21T19:15:10.987183Z",
     "iopub.status.busy": "2025-01-21T19:15:10.986447Z",
     "iopub.status.idle": "2025-01-21T19:15:11.007223Z",
     "shell.execute_reply": "2025-01-21T19:15:11.003340Z"
    }
   },
   "outputs": [
    {
     "name": "stdout",
     "output_type": "stream",
     "text": [
      "(0/22) center: (364/0)\n",
      "(1/22) center.orig: (364/0)\n",
      "(2/22) subjectID: (364/0)\n",
      "(3/22) subjectID.orig: (364/0)\n",
      "(4/22) uniqueID: (364/0)\n",
      "(5/22) uniqueID.orig: (364/0)\n",
      "(6/22) dischargeSepticemia: (364/0)\n",
      "(7/22) dischargeSepticemia.orig: (364/0)\n",
      "(8/22) dischargeSepticemiaOrganismCode1: (364/0)\n",
      "(9/22) dischargeSepticemiaOrganismCode1.orig: (13/351)\n",
      "(10/22) dischargeSepticemiaOrganismCode2: (364/0)\n",
      "(11/22) dischargeSepticemiaOrganismCode2.orig: (1/363)\n",
      "(12/22) dischargeSepticemiaOrganismCode3: (364/0)\n",
      "(13/22) dischargeSepticemiaOrganismCode3.orig: (0/364)\n",
      "(14/22) dischargeMeningitisEncephalitis: (364/0)\n",
      "(15/22) dischargeMeningitisEncephalitis.orig: (364/0)\n",
      "(16/22) dischargeMeningitisOrganismCode1: (364/0)\n",
      "(17/22) dischargeMeningitisOrganismCode1.orig: (0/364)\n",
      "(18/22) dischargeMeningitisOrganismCode2: (364/0)\n",
      "(19/22) dischargeMeningitisOrganismCode2.orig: (0/364)\n",
      "(20/22) dischargeMeningitisOrganismCode3: (364/0)\n",
      "(21/22) dischargeMeningitisOrganismCode3.orig: (0/364)\n"
     ]
    }
   ],
   "source": [
    "COMBINE_harmonizer.column_info(df)"
   ]
  },
  {
   "cell_type": "markdown",
   "id": "f9fc1256",
   "metadata": {},
   "source": [
    "## 04-13-seizure"
   ]
  },
  {
   "cell_type": "code",
   "execution_count": 177,
   "id": "2182206e",
   "metadata": {
    "execution": {
     "iopub.execute_input": "2025-01-21T19:15:11.011060Z",
     "iopub.status.busy": "2025-01-21T19:15:11.010762Z",
     "iopub.status.idle": "2025-01-21T19:15:11.013451Z",
     "shell.execute_reply": "2025-01-21T19:15:11.013000Z"
    }
   },
   "outputs": [],
   "source": [
    "base_filename = '04-13-seizure.csv'"
   ]
  },
  {
   "cell_type": "code",
   "execution_count": 178,
   "id": "2d1ca8c7",
   "metadata": {
    "execution": {
     "iopub.execute_input": "2025-01-21T19:15:11.015654Z",
     "iopub.status.busy": "2025-01-21T19:15:11.015444Z",
     "iopub.status.idle": "2025-01-21T19:15:11.160256Z",
     "shell.execute_reply": "2025-01-21T19:15:11.159219Z"
    }
   },
   "outputs": [
    {
     "name": "stdout",
     "output_type": "stream",
     "text": [
      "(0/17) normalize_value: column: center\n",
      "(1/17) normalize_value: column: subjectID\n",
      "(2/17) normalize_value: column: uniqueID\n",
      "(3/17) normalize_value: column: dischargeSeizure\n",
      "(4/17) normalize_value: column: dischargeSeizurePreIntervention\n",
      "(5/17) normalize_value: column: dischargeSeizureAfterBaseline\n",
      "(6/17) normalize_value: column: dischargeSeizureMaintenance\n",
      "(7/17) normalize_value: column: dischargeSeizureRewarming\n",
      "(8/17) normalize_value: column: dischargeSeizurePostIntervention\n",
      "(9/17) normalize_value: column: dischargeEEG\n",
      "(10/17) normalize_value: column: dischargeEEGFindingConsistentWithSeizure\n",
      "(11/17) normalize_value: column: dischargeEEGAbnormalBackgroundActivity\n",
      "(12/17) normalize_value: column: dischargeAnticonvulsantsOver72H\n",
      "(13/17) normalize_value: column: dischargeEEGFindingConsistentWithSeizureDate\n",
      "(14/17) normalize_value: column: dischargeEEGFindingConsistentWithSeizureTime\n",
      "(15/17) normalize_value: column: dischargeEEGAbnormalBackgroundActivityDate\n",
      "(16/17) normalize_value: column: dischargeEEGAbnormalBackgroundActivityTime\n"
     ]
    }
   ],
   "source": [
    "filename = os.sep.join([input_dir, base_filename])\n",
    "df = pd.read_csv(filename, dtype='O')\n",
    "df = COMBINE_harmonizer.normalize_value(df, _VALUE_MAP, order_map=_ORDER_MAP)\n",
    "\n",
    "out_filename = os.sep.join([out_dir, base_filename])\n",
    "df.to_csv(out_filename, index=False)"
   ]
  },
  {
   "cell_type": "code",
   "execution_count": 179,
   "id": "18e04360",
   "metadata": {
    "execution": {
     "iopub.execute_input": "2025-01-21T19:15:11.169259Z",
     "iopub.status.busy": "2025-01-21T19:15:11.168899Z",
     "iopub.status.idle": "2025-01-21T19:15:11.177476Z",
     "shell.execute_reply": "2025-01-21T19:15:11.176913Z"
    }
   },
   "outputs": [
    {
     "name": "stdout",
     "output_type": "stream",
     "text": [
      "(0/34) center: (364/0)\n",
      "(1/34) center.orig: (364/0)\n",
      "(2/34) subjectID: (364/0)\n",
      "(3/34) subjectID.orig: (364/0)\n",
      "(4/34) uniqueID: (364/0)\n",
      "(5/34) uniqueID.orig: (364/0)\n",
      "(6/34) dischargeSeizure: (364/0)\n",
      "(7/34) dischargeSeizure.orig: (364/0)\n",
      "(8/34) dischargeSeizurePreIntervention: (364/0)\n",
      "(9/34) dischargeSeizurePreIntervention.orig: (177/187)\n",
      "(10/34) dischargeSeizureAfterBaseline: (364/0)\n",
      "(11/34) dischargeSeizureAfterBaseline.orig: (177/187)\n",
      "(12/34) dischargeSeizureMaintenance: (364/0)\n",
      "(13/34) dischargeSeizureMaintenance.orig: (177/187)\n",
      "(14/34) dischargeSeizureRewarming: (364/0)\n",
      "(15/34) dischargeSeizureRewarming.orig: (177/187)\n",
      "(16/34) dischargeSeizurePostIntervention: (364/0)\n",
      "(17/34) dischargeSeizurePostIntervention.orig: (177/187)\n",
      "(18/34) dischargeEEG: (364/0)\n",
      "(19/34) dischargeEEG.orig: (364/0)\n",
      "(20/34) dischargeEEGFindingConsistentWithSeizure: (364/0)\n",
      "(21/34) dischargeEEGFindingConsistentWithSeizure.orig: (263/101)\n",
      "(22/34) dischargeEEGFindingConsistentWithSeizureDate: (364/0)\n",
      "(23/34) dischargeEEGFindingConsistentWithSeizureDate.orig: (73/291)\n",
      "(24/34) dischargeEEGFindingConsistentWithSeizureTime: (364/0)\n",
      "(25/34) dischargeEEGFindingConsistentWithSeizureTime.orig: (62/302)\n",
      "(26/34) dischargeEEGAbnormalBackgroundActivity: (364/0)\n",
      "(27/34) dischargeEEGAbnormalBackgroundActivity.orig: (285/79)\n",
      "(28/34) dischargeEEGAbnormalBackgroundActivityDate: (364/0)\n",
      "(29/34) dischargeEEGAbnormalBackgroundActivityDate.orig: (186/178)\n",
      "(30/34) dischargeEEGAbnormalBackgroundActivityTime: (364/0)\n",
      "(31/34) dischargeEEGAbnormalBackgroundActivityTime.orig: (161/203)\n",
      "(32/34) dischargeAnticonvulsantsOver72H: (364/0)\n",
      "(33/34) dischargeAnticonvulsantsOver72H.orig: (364/0)\n"
     ]
    }
   ],
   "source": [
    "COMBINE_harmonizer.column_info(df)"
   ]
  },
  {
   "cell_type": "markdown",
   "id": "fe14fa06",
   "metadata": {},
   "source": [
    "## 04-14-birth-defect"
   ]
  },
  {
   "cell_type": "code",
   "execution_count": 180,
   "id": "2cebf47a",
   "metadata": {
    "execution": {
     "iopub.execute_input": "2025-01-21T19:15:11.180581Z",
     "iopub.status.busy": "2025-01-21T19:15:11.180298Z",
     "iopub.status.idle": "2025-01-21T19:15:11.183188Z",
     "shell.execute_reply": "2025-01-21T19:15:11.182728Z"
    }
   },
   "outputs": [],
   "source": [
    "base_filename = '04-14-birth-defect.csv'"
   ]
  },
  {
   "cell_type": "code",
   "execution_count": 181,
   "id": "b2be217d",
   "metadata": {
    "execution": {
     "iopub.execute_input": "2025-01-21T19:15:11.185444Z",
     "iopub.status.busy": "2025-01-21T19:15:11.185219Z",
     "iopub.status.idle": "2025-01-21T19:15:11.300087Z",
     "shell.execute_reply": "2025-01-21T19:15:11.298972Z"
    }
   },
   "outputs": [
    {
     "name": "stdout",
     "output_type": "stream",
     "text": [
      "(0/7) normalize_value: column: center\n",
      "(1/7) normalize_value: column: subjectID\n",
      "(2/7) normalize_value: column: uniqueID\n",
      "(3/7) normalize_value: column: dischargeSyndromeMalformation\n",
      "(4/7) normalize_value: column: dischargeBirthDefectCode1\n",
      "(5/7) normalize_value: column: dischargeBirthDefectCode2\n",
      "(6/7) normalize_value: column: dischargeBirthDefectCode3\n"
     ]
    }
   ],
   "source": [
    "filename = os.sep.join([input_dir, base_filename])\n",
    "df = pd.read_csv(filename, dtype='O')\n",
    "df = COMBINE_harmonizer.normalize_value(df, _VALUE_MAP, order_map=_ORDER_MAP)\n",
    "\n",
    "out_filename = os.sep.join([out_dir, base_filename])\n",
    "df.to_csv(out_filename, index=False)"
   ]
  },
  {
   "cell_type": "code",
   "execution_count": 182,
   "id": "3fc54338",
   "metadata": {
    "execution": {
     "iopub.execute_input": "2025-01-21T19:15:11.304415Z",
     "iopub.status.busy": "2025-01-21T19:15:11.303749Z",
     "iopub.status.idle": "2025-01-21T19:15:11.311476Z",
     "shell.execute_reply": "2025-01-21T19:15:11.310753Z"
    }
   },
   "outputs": [
    {
     "name": "stdout",
     "output_type": "stream",
     "text": [
      "(0/14) center: (364/0)\n",
      "(1/14) center.orig: (364/0)\n",
      "(2/14) subjectID: (364/0)\n",
      "(3/14) subjectID.orig: (364/0)\n",
      "(4/14) uniqueID: (364/0)\n",
      "(5/14) uniqueID.orig: (364/0)\n",
      "(6/14) dischargeSyndromeMalformation: (364/0)\n",
      "(7/14) dischargeSyndromeMalformation.orig: (364/0)\n",
      "(8/14) dischargeBirthDefectCode1: (364/0)\n",
      "(9/14) dischargeBirthDefectCode1.orig: (11/353)\n",
      "(10/14) dischargeBirthDefectCode2: (364/0)\n",
      "(11/14) dischargeBirthDefectCode2.orig: (1/363)\n",
      "(12/14) dischargeBirthDefectCode3: (364/0)\n",
      "(13/14) dischargeBirthDefectCode3.orig: (0/364)\n"
     ]
    }
   ],
   "source": [
    "COMBINE_harmonizer.column_info(df)"
   ]
  },
  {
   "cell_type": "markdown",
   "id": "0e1fce93",
   "metadata": {},
   "source": [
    "## 04-15-home-therapy"
   ]
  },
  {
   "cell_type": "code",
   "execution_count": 183,
   "id": "b8bb5c43",
   "metadata": {
    "execution": {
     "iopub.execute_input": "2025-01-21T19:15:11.316029Z",
     "iopub.status.busy": "2025-01-21T19:15:11.315567Z",
     "iopub.status.idle": "2025-01-21T19:15:11.318603Z",
     "shell.execute_reply": "2025-01-21T19:15:11.318091Z"
    }
   },
   "outputs": [],
   "source": [
    "base_filename = '04-15-home-therapy.csv'"
   ]
  },
  {
   "cell_type": "code",
   "execution_count": 184,
   "id": "78eceabc",
   "metadata": {
    "execution": {
     "iopub.execute_input": "2025-01-21T19:15:11.321909Z",
     "iopub.status.busy": "2025-01-21T19:15:11.321650Z",
     "iopub.status.idle": "2025-01-21T19:15:11.443543Z",
     "shell.execute_reply": "2025-01-21T19:15:11.442760Z"
    }
   },
   "outputs": [
    {
     "name": "stdout",
     "output_type": "stream",
     "text": [
      "(0/12) normalize_value: column: center\n",
      "(1/12) normalize_value: column: subjectID\n",
      "(2/12) normalize_value: column: uniqueID\n",
      "(3/12) normalize_value: column: dischargeHomeTherapy\n",
      "(4/12) normalize_value: column: dischargeHomeTherapyVentilator\n",
      "(5/12) normalize_value: column: dischargeHomeTherapyOxygen\n",
      "(6/12) normalize_value: column: dischargeHomeTherapyGavageTubeFeed\n",
      "(7/12) normalize_value: column: dischargeHomeTherapyGastrostomyTubeFeed\n",
      "(8/12) normalize_value: column: dischargeHomeTherapyTemperatureBlanket\n",
      "(9/12) normalize_value: column: dischargeHomeTherapyAnticonvulsantMedication\n",
      "(10/12) normalize_value: column: dischargeHomeTherapyOther\n",
      "(11/12) normalize_value: column: dischargeHomeTherapyOtherText\n"
     ]
    }
   ],
   "source": [
    "filename = os.sep.join([input_dir, base_filename])\n",
    "df = pd.read_csv(filename, dtype='O')\n",
    "df = COMBINE_harmonizer.normalize_value(df, _VALUE_MAP, order_map=_ORDER_MAP)\n",
    "\n",
    "out_filename = os.sep.join([out_dir, base_filename])\n",
    "df.to_csv(out_filename, index=False)"
   ]
  },
  {
   "cell_type": "code",
   "execution_count": 185,
   "id": "972f089a",
   "metadata": {
    "execution": {
     "iopub.execute_input": "2025-01-21T19:15:11.449390Z",
     "iopub.status.busy": "2025-01-21T19:15:11.448939Z",
     "iopub.status.idle": "2025-01-21T19:15:11.464514Z",
     "shell.execute_reply": "2025-01-21T19:15:11.463974Z"
    }
   },
   "outputs": [
    {
     "name": "stdout",
     "output_type": "stream",
     "text": [
      "(0/24) center: (364/0)\n",
      "(1/24) center.orig: (364/0)\n",
      "(2/24) subjectID: (364/0)\n",
      "(3/24) subjectID.orig: (364/0)\n",
      "(4/24) uniqueID: (364/0)\n",
      "(5/24) uniqueID.orig: (364/0)\n",
      "(6/24) dischargeHomeTherapy: (364/0)\n",
      "(7/24) dischargeHomeTherapy.orig: (314/50)\n",
      "(8/24) dischargeHomeTherapyVentilator: (364/0)\n",
      "(9/24) dischargeHomeTherapyVentilator.orig: (118/246)\n",
      "(10/24) dischargeHomeTherapyOxygen: (364/0)\n",
      "(11/24) dischargeHomeTherapyOxygen.orig: (118/246)\n",
      "(12/24) dischargeHomeTherapyGavageTubeFeed: (364/0)\n",
      "(13/24) dischargeHomeTherapyGavageTubeFeed.orig: (118/246)\n",
      "(14/24) dischargeHomeTherapyGastrostomyTubeFeed: (364/0)\n",
      "(15/24) dischargeHomeTherapyGastrostomyTubeFeed.orig: (118/246)\n",
      "(16/24) dischargeHomeTherapyTemperatureBlanket: (364/0)\n",
      "(17/24) dischargeHomeTherapyTemperatureBlanket.orig: (118/246)\n",
      "(18/24) dischargeHomeTherapyAnticonvulsantMedication: (364/0)\n",
      "(19/24) dischargeHomeTherapyAnticonvulsantMedication.orig: (118/246)\n",
      "(20/24) dischargeHomeTherapyOther: (364/0)\n",
      "(21/24) dischargeHomeTherapyOther.orig: (118/246)\n",
      "(22/24) dischargeHomeTherapyOtherText: (364/0)\n",
      "(23/24) dischargeHomeTherapyOtherText.orig: (36/328)\n"
     ]
    }
   ],
   "source": [
    "COMBINE_harmonizer.column_info(df)"
   ]
  }
 ],
 "metadata": {
  "kernelspec": {
   "display_name": ".venv",
   "language": "python",
   "name": "python3"
  },
  "language_info": {
   "codemirror_mode": {
    "name": "ipython",
    "version": 3
   },
   "file_extension": ".py",
   "mimetype": "text/x-python",
   "name": "python",
   "nbconvert_exporter": "python",
   "pygments_lexer": "ipython3",
   "version": "3.13.0"
  }
 },
 "nbformat": 4,
 "nbformat_minor": 5
}
