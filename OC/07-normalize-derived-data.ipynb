{
 "cells": [
  {
   "cell_type": "code",
   "execution_count": 1,
   "id": "b489f506-fad1-426c-8c20-01483f08535c",
   "metadata": {
    "execution": {
     "iopub.execute_input": "2025-01-21T19:15:28.018112Z",
     "iopub.status.busy": "2025-01-21T19:15:28.017583Z",
     "iopub.status.idle": "2025-01-21T19:15:29.498470Z",
     "shell.execute_reply": "2025-01-21T19:15:29.498191Z"
    }
   },
   "outputs": [],
   "source": [
    "import pandas as pd\n",
    "pd.options.mode.copy_on_write = True\n",
    "import warnings\n",
    "warnings.simplefilter(action='ignore', category=pd.errors.PerformanceWarning)\n",
    "\n",
    "import os\n",
    "import re\n",
    "import pydoc\n",
    "\n",
    "import COMBINE_harmonizer\n",
    "from COMBINE_harmonizer import cfg"
   ]
  },
  {
   "cell_type": "markdown",
   "id": "d4fd686c-7c99-4fca-b7d1-8bb141cd477a",
   "metadata": {},
   "source": [
    "## 00-0. Variables"
   ]
  },
  {
   "cell_type": "code",
   "execution_count": 2,
   "id": "3656b37c-be73-4991-b22d-76138a285cef",
   "metadata": {
    "execution": {
     "iopub.execute_input": "2025-01-21T19:15:29.500242Z",
     "iopub.status.busy": "2025-01-21T19:15:29.500099Z",
     "iopub.status.idle": "2025-01-21T19:15:29.501937Z",
     "shell.execute_reply": "2025-01-21T19:15:29.501711Z"
    }
   },
   "outputs": [],
   "source": [
    "study_name = COMBINE_harmonizer.STUDY_OC\n",
    "sheet_name = COMBINE_harmonizer.SHEET_DERIVED_DATA\n",
    "\n",
    "root_dir = '..'"
   ]
  },
  {
   "cell_type": "code",
   "execution_count": 3,
   "id": "be0df9c3",
   "metadata": {
    "execution": {
     "iopub.execute_input": "2025-01-21T19:15:29.503222Z",
     "iopub.status.busy": "2025-01-21T19:15:29.503076Z",
     "iopub.status.idle": "2025-01-21T19:15:29.514942Z",
     "shell.execute_reply": "2025-01-21T19:15:29.514658Z"
    }
   },
   "outputs": [],
   "source": [
    "COMBINE_harmonizer.init(f'{root_dir}/config.yaml')"
   ]
  },
  {
   "cell_type": "code",
   "execution_count": 4,
   "id": "9203c541",
   "metadata": {
    "execution": {
     "iopub.execute_input": "2025-01-21T19:15:29.516407Z",
     "iopub.status.busy": "2025-01-21T19:15:29.516322Z",
     "iopub.status.idle": "2025-01-21T19:15:29.518088Z",
     "shell.execute_reply": "2025-01-21T19:15:29.517789Z"
    }
   },
   "outputs": [],
   "source": [
    "_FILENAMES = [\n",
    "    'analysis.csv',\n",
    "]"
   ]
  },
  {
   "cell_type": "code",
   "execution_count": 5,
   "id": "1aa45ae9-189d-4602-83cf-6c5e702b2e64",
   "metadata": {
    "execution": {
     "iopub.execute_input": "2025-01-21T19:15:29.519340Z",
     "iopub.status.busy": "2025-01-21T19:15:29.519249Z",
     "iopub.status.idle": "2025-01-21T19:15:29.529384Z",
     "shell.execute_reply": "2025-01-21T19:15:29.529083Z"
    }
   },
   "outputs": [],
   "source": [
    "input_dir = cfg.config[f'{study_name}_analysis_dir']\n",
    "data_dict_filename = f\"{root_dir}/{COMBINE_harmonizer.DATA_DICTIONARY_EXCEL}\"\n",
    "out_dir = f\"{cfg.config['out_dir']}/out-{study_name}\"\n",
    "\n",
    "os.makedirs(out_dir, exist_ok=True)"
   ]
  },
  {
   "cell_type": "markdown",
   "id": "b285c802-c2b9-425b-b38d-d220775e47a9",
   "metadata": {},
   "source": [
    "## 00-1. Column Map"
   ]
  },
  {
   "cell_type": "code",
   "execution_count": 6,
   "id": "77c974c4-8083-48e9-b0ad-fd1879f6be5a",
   "metadata": {
    "execution": {
     "iopub.execute_input": "2025-01-21T19:15:29.530948Z",
     "iopub.status.busy": "2025-01-21T19:15:29.530859Z",
     "iopub.status.idle": "2025-01-21T19:15:30.009630Z",
     "shell.execute_reply": "2025-01-21T19:15:30.009191Z"
    }
   },
   "outputs": [],
   "source": [
    "df_data_dict = COMBINE_harmonizer.load_data_dict(data_dict_filename, sheet_name=sheet_name)\n",
    "all_valid_columns = list(df_data_dict[COMBINE_harmonizer.DATA_DICT_VAR_NAME])\n",
    "column_map = {each[study_name]: each[COMBINE_harmonizer.DATA_DICT_VAR_NAME] for _, each in df_data_dict.iterrows()}"
   ]
  },
  {
   "cell_type": "markdown",
   "id": "b77a20a2-6214-431c-91e1-07d5cbca7ee8",
   "metadata": {},
   "source": [
    "## 00-2. df-dict from _FILENAMES"
   ]
  },
  {
   "cell_type": "code",
   "execution_count": 7,
   "id": "929d693d-3bf8-4811-8872-f9eb8880a58c",
   "metadata": {
    "execution": {
     "iopub.execute_input": "2025-01-21T19:15:30.011575Z",
     "iopub.status.busy": "2025-01-21T19:15:30.011423Z",
     "iopub.status.idle": "2025-01-21T19:15:30.068050Z",
     "shell.execute_reply": "2025-01-21T19:15:30.067754Z"
    }
   },
   "outputs": [],
   "source": [
    "df_dict = {filename: pd.read_csv(os.sep.join([input_dir, filename]), dtype='O').rename(columns=column_map) for filename in _FILENAMES}"
   ]
  },
  {
   "cell_type": "markdown",
   "id": "894ddec5",
   "metadata": {},
   "source": [
    "### 00-4. identifier-column"
   ]
  },
  {
   "cell_type": "code",
   "execution_count": 8,
   "id": "206666a5",
   "metadata": {
    "execution": {
     "iopub.execute_input": "2025-01-21T19:15:30.069996Z",
     "iopub.status.busy": "2025-01-21T19:15:30.069799Z",
     "iopub.status.idle": "2025-01-21T19:15:30.074094Z",
     "shell.execute_reply": "2025-01-21T19:15:30.073830Z"
    }
   },
   "outputs": [
    {
     "data": {
      "text/plain": [
       "['center', 'followupCenter', 'subjectID', 'followupID']"
      ]
     },
     "execution_count": 8,
     "metadata": {},
     "output_type": "execute_result"
    }
   ],
   "source": [
    "id_columns = COMBINE_harmonizer.get_columns(df_data_dict, 'Derived Data', 'Identity')\n",
    "id_columns"
   ]
  },
  {
   "cell_type": "markdown",
   "id": "0fca9b39-2323-450a-88e2-5a85d43ed62b",
   "metadata": {},
   "source": [
    "## 30. Secondary"
   ]
  },
  {
   "cell_type": "code",
   "execution_count": 9,
   "id": "6eea2bc7-1005-4d67-86af-56b7d1c9aca3",
   "metadata": {
    "execution": {
     "iopub.execute_input": "2025-01-21T19:15:30.075539Z",
     "iopub.status.busy": "2025-01-21T19:15:30.075454Z",
     "iopub.status.idle": "2025-01-21T19:15:30.081550Z",
     "shell.execute_reply": "2025-01-21T19:15:30.081276Z"
    }
   },
   "outputs": [],
   "source": [
    "df_analysis = df_dict['analysis.csv']\n",
    "df_analysis = COMBINE_harmonizer.valid_columns(df_analysis, all_valid_columns, debug_df=True, debug_columns=False)\n",
    "df_analysis = COMBINE_harmonizer.postprocess(df_analysis)"
   ]
  },
  {
   "cell_type": "markdown",
   "id": "1d48665a",
   "metadata": {},
   "source": [
    "## 30-01. Secondary"
   ]
  },
  {
   "cell_type": "code",
   "execution_count": 10,
   "id": "e23db89a",
   "metadata": {
    "execution": {
     "iopub.execute_input": "2025-01-21T19:15:30.082956Z",
     "iopub.status.busy": "2025-01-21T19:15:30.082863Z",
     "iopub.status.idle": "2025-01-21T19:15:30.085852Z",
     "shell.execute_reply": "2025-01-21T19:15:30.085552Z"
    }
   },
   "outputs": [
    {
     "data": {
      "text/plain": [
       "['acidosis',\n",
       " 'ageDeath_day',\n",
       " 'ageRand_hr',\n",
       " 'baselineAnticonvulsants',\n",
       " 'dischargeAnticonvulsants',\n",
       " 'inotropicAgent',\n",
       " 'perinatalSentinelEvent',\n",
       " 'dischargeSeizure',\n",
       " 'Apgar10minLt5',\n",
       " 'Apgar10minLte5',\n",
       " 'Apgar5minLte5',\n",
       " 'bloodGasBaseDeficit_mEqPerL',\n",
       " 'bloodGasPH',\n",
       " 'emergencyCSection',\n",
       " 'encephalopathyLevel',\n",
       " 'inotropicAgentBaseline',\n",
       " 'maleSex',\n",
       " 'maternalEducation',\n",
       " 'motherInsurancePublic',\n",
       " 'motherRace',\n",
       " 'treatmentAssignmentDuration_hr',\n",
       " 'treatmentAssignmentTemperature',\n",
       " 'bloodGasBaseDeficit_mEqPerLSrc',\n",
       " 'bloodGasPHSrc',\n",
       " 'usualCoolingTreatmentGroup',\n",
       " 'blindness',\n",
       " 'moderateSevereCerebralPalsy',\n",
       " 'cerebralPalsy',\n",
       " 'gastrostomyTube',\n",
       " 'grossMotorFunctionLevel',\n",
       " 'hearingImpairedWithAid',\n",
       " 'hearingImpairedLevel',\n",
       " 'multipleImpairment',\n",
       " 'afterDischargeSeizure',\n",
       " 'lengthOfStay_day']"
      ]
     },
     "execution_count": 10,
     "metadata": {},
     "output_type": "execute_result"
    }
   ],
   "source": [
    "secondary_columns = COMBINE_harmonizer.get_columns(df_data_dict, 'Derived Data', 'Secondary')\n",
    "all_secondary_columns = id_columns + secondary_columns\n",
    "secondary_columns"
   ]
  },
  {
   "cell_type": "code",
   "execution_count": 11,
   "id": "887e7955",
   "metadata": {
    "execution": {
     "iopub.execute_input": "2025-01-21T19:15:30.087366Z",
     "iopub.status.busy": "2025-01-21T19:15:30.087240Z",
     "iopub.status.idle": "2025-01-21T19:15:30.151839Z",
     "shell.execute_reply": "2025-01-21T19:15:30.151577Z"
    }
   },
   "outputs": [
    {
     "name": "stdout",
     "output_type": "stream",
     "text": [
      "(38/39) lengthOfStay_day not in df\n"
     ]
    }
   ],
   "source": [
    "df_secondary = COMBINE_harmonizer.valid_columns(df_analysis.copy(), all_secondary_columns, debug_df=False, debug_columns=True)\n",
    "\n",
    "# XXX treatmentAssignmentDuration_hr\n",
    "df_secondary.loc[:, 'treatmentAssignmentDuration_hr'] = df_secondary.loc[:, 'treatmentAssignmentDuration_hr'].apply(lambda x: re.sub('H', '', x))\n",
    "\n",
    "df_secondary = COMBINE_harmonizer.postprocess(df_secondary)\n",
    "\n",
    "out_filename = os.sep.join([out_dir, '30-01-secondary.csv'])\n",
    "df_secondary.to_csv(out_filename, index=False)"
   ]
  },
  {
   "cell_type": "markdown",
   "id": "18030df3",
   "metadata": {},
   "source": [
    "### 30-01-1. check empty"
   ]
  },
  {
   "cell_type": "code",
   "execution_count": 12,
   "id": "711f0f90",
   "metadata": {
    "execution": {
     "iopub.execute_input": "2025-01-21T19:15:30.153434Z",
     "iopub.status.busy": "2025-01-21T19:15:30.153329Z",
     "iopub.status.idle": "2025-01-21T19:15:30.158789Z",
     "shell.execute_reply": "2025-01-21T19:15:30.158531Z"
    }
   },
   "outputs": [
    {
     "name": "stdout",
     "output_type": "stream",
     "text": [
      "(0/39) column: center (364 / 0)\n",
      "(1/39) column: subjectID (364 / 0)\n",
      "(2/39) column: uniqueID (364 / 0)\n",
      "(3/39) column: followupID (315 / 49)\n",
      "(4/39) column: followupCenter (315 / 49)\n",
      "(5/39) column: treatmentAssignmentDuration_hr (364 / 0)\n",
      "(6/39) column: treatmentAssignmentTemperature (364 / 0)\n",
      "(7/39) column: encephalopathyLevel (364 / 0)\n",
      "(8/39) column: blindness (294 / 70)\n",
      "(9/39) column: hearingImpairedLevel (285 / 79)\n",
      "(10/39) column: hearingImpairedWithAid (294 / 70)\n",
      "(11/39) column: grossMotorFunctionLevel (285 / 79)\n",
      "(12/39) column: cerebralPalsy (294 / 70)\n",
      "(13/39) column: moderateSevereCerebralPalsy (294 / 70)\n",
      "(14/39) column: multipleImpairment (294 / 70)\n",
      "(15/39) column: gastrostomyTube (287 / 77)\n",
      "(16/39) column: ageDeath_day (49 / 315)\n",
      "(17/39) column: Apgar10minLt5 (324 / 40)\n",
      "(18/39) column: maternalEducation (313 / 51)\n",
      "(19/39) column: baselineAnticonvulsants (364 / 0)\n",
      "(20/39) column: inotropicAgentBaseline (362 / 2)\n",
      "(21/39) column: inotropicAgent (364 / 0)\n",
      "(22/39) column: emergencyCSection (364 / 0)\n",
      "(23/39) column: maleSex (364 / 0)\n",
      "(24/39) column: Apgar5minLte5 (361 / 3)\n",
      "(25/39) column: Apgar10minLte5 (324 / 40)\n",
      "(26/39) column: ageRand_hr (363 / 1)\n",
      "(27/39) column: dischargeAnticonvulsants (338 / 26)\n",
      "(28/39) column: dischargeSeizure (364 / 0)\n",
      "(29/39) column: afterDischargeSeizure (293 / 71)\n",
      "(30/39) column: motherInsurancePublic (359 / 5)\n",
      "(31/39) column: perinatalSentinelEvent (362 / 2)\n",
      "(32/39) column: acidosis (363 / 1)\n",
      "(33/39) column: usualCoolingTreatmentGroup (364 / 0)\n",
      "(34/39) column: bloodGasPH (363 / 1)\n",
      "(35/39) column: bloodGasPHSrc (363 / 1)\n",
      "(36/39) column: bloodGasBaseDeficit_mEqPerL (351 / 13)\n",
      "(37/39) column: bloodGasBaseDeficit_mEqPerLSrc (351 / 13)\n",
      "(38/39) column: motherRace (358 / 6)\n"
     ]
    }
   ],
   "source": [
    "COMBINE_harmonizer.check_empty(df_secondary)"
   ]
  },
  {
   "cell_type": "code",
   "execution_count": 13,
   "id": "59039e97",
   "metadata": {
    "execution": {
     "iopub.execute_input": "2025-01-21T19:15:30.160091Z",
     "iopub.status.busy": "2025-01-21T19:15:30.160006Z",
     "iopub.status.idle": "2025-01-21T19:15:30.163838Z",
     "shell.execute_reply": "2025-01-21T19:15:30.163543Z"
    }
   },
   "outputs": [
    {
     "name": "stdout",
     "output_type": "stream",
     "text": [
      "(0/39) center: (364/0)\n",
      "(1/39) subjectID: (364/0)\n",
      "(2/39) uniqueID: (364/0)\n",
      "(3/39) followupID: (315/49)\n",
      "(4/39) followupCenter: (315/49)\n",
      "(5/39) treatmentAssignmentDuration_hr: (364/0)\n",
      "(6/39) treatmentAssignmentTemperature: (364/0)\n",
      "(7/39) encephalopathyLevel: (364/0)\n",
      "(8/39) blindness: (294/70)\n",
      "(9/39) hearingImpairedLevel: (285/79)\n",
      "(10/39) hearingImpairedWithAid: (294/70)\n",
      "(11/39) grossMotorFunctionLevel: (285/79)\n",
      "(12/39) cerebralPalsy: (294/70)\n",
      "(13/39) moderateSevereCerebralPalsy: (294/70)\n",
      "(14/39) multipleImpairment: (294/70)\n",
      "(15/39) gastrostomyTube: (287/77)\n",
      "(16/39) ageDeath_day: (49/315)\n",
      "(17/39) Apgar10minLt5: (324/40)\n",
      "(18/39) maternalEducation: (313/51)\n",
      "(19/39) baselineAnticonvulsants: (364/0)\n",
      "(20/39) inotropicAgentBaseline: (362/2)\n",
      "(21/39) inotropicAgent: (364/0)\n",
      "(22/39) emergencyCSection: (364/0)\n",
      "(23/39) maleSex: (364/0)\n",
      "(24/39) Apgar5minLte5: (361/3)\n",
      "(25/39) Apgar10minLte5: (324/40)\n",
      "(26/39) ageRand_hr: (363/1)\n",
      "(27/39) dischargeAnticonvulsants: (338/26)\n",
      "(28/39) dischargeSeizure: (364/0)\n",
      "(29/39) afterDischargeSeizure: (293/71)\n",
      "(30/39) motherInsurancePublic: (359/5)\n",
      "(31/39) perinatalSentinelEvent: (362/2)\n",
      "(32/39) acidosis: (363/1)\n",
      "(33/39) usualCoolingTreatmentGroup: (364/0)\n",
      "(34/39) bloodGasPH: (363/1)\n",
      "(35/39) bloodGasPHSrc: (363/1)\n",
      "(36/39) bloodGasBaseDeficit_mEqPerL: (351/13)\n",
      "(37/39) bloodGasBaseDeficit_mEqPerLSrc: (351/13)\n",
      "(38/39) motherRace: (358/6)\n"
     ]
    }
   ],
   "source": [
    "COMBINE_harmonizer.column_info(df_secondary)"
   ]
  },
  {
   "cell_type": "markdown",
   "id": "de1a4fcd",
   "metadata": {},
   "source": [
    "## 30-02. Outcome"
   ]
  },
  {
   "cell_type": "code",
   "execution_count": 14,
   "id": "a008b35b",
   "metadata": {
    "execution": {
     "iopub.execute_input": "2025-01-21T19:15:30.165537Z",
     "iopub.status.busy": "2025-01-21T19:15:30.165424Z",
     "iopub.status.idle": "2025-01-21T19:15:30.168338Z",
     "shell.execute_reply": "2025-01-21T19:15:30.168092Z"
    }
   },
   "outputs": [
    {
     "data": {
      "text/plain": [
       "['flagAdjudicatedOutcome',\n",
       " 'normalPrimaryOutcome',\n",
       " 'BayleyIIILanguage',\n",
       " 'BayleyIIIMotor',\n",
       " 'BayleyIIICognitive',\n",
       " 'deathBeforeFollowup',\n",
       " 'deathBeforeDischarge',\n",
       " 'disabilityLevelSurvivor',\n",
       " 'disabilityLevel',\n",
       " 'moderateSevereDisabilityOrDeath',\n",
       " 'moderateSevereDisabilitySurvivor',\n",
       " 'disabilityLevelDeath',\n",
       " 'outcomeGroup']"
      ]
     },
     "execution_count": 14,
     "metadata": {},
     "output_type": "execute_result"
    }
   ],
   "source": [
    "outcome_columns = COMBINE_harmonizer.get_columns(df_data_dict, 'Derived Data', 'Outcome')\n",
    "all_outcome_columns = id_columns + outcome_columns\n",
    "outcome_columns"
   ]
  },
  {
   "cell_type": "code",
   "execution_count": 15,
   "id": "7220e1e4",
   "metadata": {
    "execution": {
     "iopub.execute_input": "2025-01-21T19:15:30.169616Z",
     "iopub.status.busy": "2025-01-21T19:15:30.169522Z",
     "iopub.status.idle": "2025-01-21T19:15:30.242400Z",
     "shell.execute_reply": "2025-01-21T19:15:30.242086Z"
    }
   },
   "outputs": [
    {
     "name": "stdout",
     "output_type": "stream",
     "text": [
      "(15/17) disabilityLevelDeath not in df\n"
     ]
    }
   ],
   "source": [
    "df_outcome = COMBINE_harmonizer.valid_columns(df_analysis.copy(), all_outcome_columns, debug_df=False, debug_columns=True)\n",
    "df_outcome = COMBINE_harmonizer.postprocess(df_outcome)\n",
    "\n",
    "out_filename = os.sep.join([out_dir, '30-02-outcome.csv'])\n",
    "df_outcome.to_csv(out_filename, index=False)"
   ]
  },
  {
   "cell_type": "markdown",
   "id": "7b80bfde",
   "metadata": {},
   "source": [
    "### 30-02-1. check empty"
   ]
  },
  {
   "cell_type": "code",
   "execution_count": 16,
   "id": "6e27c125",
   "metadata": {
    "execution": {
     "iopub.execute_input": "2025-01-21T19:15:30.244167Z",
     "iopub.status.busy": "2025-01-21T19:15:30.244027Z",
     "iopub.status.idle": "2025-01-21T19:15:30.247900Z",
     "shell.execute_reply": "2025-01-21T19:15:30.247583Z"
    }
   },
   "outputs": [
    {
     "name": "stdout",
     "output_type": "stream",
     "text": [
      "(0/17) column: center (364 / 0)\n",
      "(1/17) column: subjectID (364 / 0)\n",
      "(2/17) column: uniqueID (364 / 0)\n",
      "(3/17) column: followupID (315 / 49)\n",
      "(4/17) column: followupCenter (315 / 49)\n",
      "(5/17) column: BayleyIIICognitive (283 / 81)\n",
      "(6/17) column: BayleyIIILanguage (275 / 89)\n",
      "(7/17) column: BayleyIIIMotor (277 / 87)\n",
      "(8/17) column: deathBeforeFollowup (354 / 10)\n",
      "(9/17) column: normalPrimaryOutcome (285 / 79)\n",
      "(10/17) column: flagAdjudicatedOutcome (9 / 355)\n",
      "(11/17) column: deathBeforeDischarge (364 / 0)\n",
      "(12/17) column: moderateSevereDisabilitySurvivor (291 / 73)\n",
      "(13/17) column: disabilityLevelSurvivor (285 / 79)\n",
      "(14/17) column: moderateSevereDisabilityOrDeath (347 / 17)\n",
      "(15/17) column: disabilityLevel (341 / 23)\n",
      "(16/17) column: outcomeGroup (347 / 17)\n"
     ]
    }
   ],
   "source": [
    "COMBINE_harmonizer.check_empty(df_outcome)"
   ]
  },
  {
   "cell_type": "code",
   "execution_count": 17,
   "id": "bb385723",
   "metadata": {
    "execution": {
     "iopub.execute_input": "2025-01-21T19:15:30.249465Z",
     "iopub.status.busy": "2025-01-21T19:15:30.249363Z",
     "iopub.status.idle": "2025-01-21T19:15:30.252010Z",
     "shell.execute_reply": "2025-01-21T19:15:30.251762Z"
    }
   },
   "outputs": [
    {
     "name": "stdout",
     "output_type": "stream",
     "text": [
      "(0/17) center: (364/0)\n",
      "(1/17) subjectID: (364/0)\n",
      "(2/17) uniqueID: (364/0)\n",
      "(3/17) followupID: (315/49)\n",
      "(4/17) followupCenter: (315/49)\n",
      "(5/17) BayleyIIICognitive: (283/81)\n",
      "(6/17) BayleyIIILanguage: (275/89)\n",
      "(7/17) BayleyIIIMotor: (277/87)\n",
      "(8/17) deathBeforeFollowup: (354/10)\n",
      "(9/17) normalPrimaryOutcome: (285/79)\n",
      "(10/17) flagAdjudicatedOutcome: (9/355)\n",
      "(11/17) deathBeforeDischarge: (364/0)\n",
      "(12/17) moderateSevereDisabilitySurvivor: (291/73)\n",
      "(13/17) disabilityLevelSurvivor: (285/79)\n",
      "(14/17) moderateSevereDisabilityOrDeath: (347/17)\n",
      "(15/17) disabilityLevel: (341/23)\n",
      "(16/17) outcomeGroup: (347/17)\n"
     ]
    }
   ],
   "source": [
    "COMBINE_harmonizer.column_info(df_outcome)"
   ]
  },
  {
   "cell_type": "markdown",
   "id": "d7794557",
   "metadata": {},
   "source": [
    "## 30-03. MRI"
   ]
  },
  {
   "cell_type": "code",
   "execution_count": 18,
   "id": "4f46a00e",
   "metadata": {
    "execution": {
     "iopub.execute_input": "2025-01-21T19:15:30.253567Z",
     "iopub.status.busy": "2025-01-21T19:15:30.253463Z",
     "iopub.status.idle": "2025-01-21T19:15:30.256498Z",
     "shell.execute_reply": "2025-01-21T19:15:30.256231Z"
    }
   },
   "outputs": [
    {
     "data": {
      "text/plain": [
       "['MRINRNPatternOfInjuryMerge',\n",
       " 'MRINRNPatternOfInjuryAvg',\n",
       " 'MRINRNPatternOfInjuryMax',\n",
       " 'MRI2LevelPatternOfInjury',\n",
       " 'MRIAge_day',\n",
       " 'MRIOverallDiagnosis',\n",
       " 'MRINRNPatternOfInjury',\n",
       " 'MRIDate',\n",
       " 'MRITime',\n",
       " 'MRINotDone',\n",
       " 'MRIUnread',\n",
       " 'MRIAnalysis',\n",
       " 'abnormalMRIResult',\n",
       " 'MRINRNPatternOfInjuryWSvsBGTPLIC',\n",
       " 'cerebralLesion',\n",
       " 'cerebellarLesion',\n",
       " 'basalGangliaLesion',\n",
       " 'brainstemLesion',\n",
       " 'corpusCallosumLesion',\n",
       " 'cerebralLesionLobe',\n",
       " 'coronaRadiataLesion',\n",
       " 'edema',\n",
       " 'extraAxialLesion',\n",
       " 'extent',\n",
       " 'frontalParietalLesion',\n",
       " 'frontalLesion',\n",
       " 'lateralHemisphericDevastation',\n",
       " 'hippocampusLesion',\n",
       " 'hypothalamusLesion',\n",
       " 'insularLesion',\n",
       " 'laterality',\n",
       " 'BGT',\n",
       " 'PLIC',\n",
       " 'watershed',\n",
       " 'whiteMatterInjury',\n",
       " 'occipitalLesion',\n",
       " 'opticChiasmLesion',\n",
       " 'otherLesion',\n",
       " 'otherCerebralLesion',\n",
       " 'parasagittalLesion',\n",
       " 'parietalLesion',\n",
       " 'preirolandicLesion',\n",
       " 'perisylvianLesion',\n",
       " 'pituitaryLesion',\n",
       " 'parietalOccipitalLesion',\n",
       " 'parietalTemporalLesion',\n",
       " 'scalpLesion',\n",
       " 'thalamusLesion',\n",
       " 'temporalLesion',\n",
       " 'temporalOccipitalLesion',\n",
       " 'cerebralAtrophy',\n",
       " 'cererbalAtrophyQualAssessCC',\n",
       " 'cerebralAtrophyGlobalLocal',\n",
       " 'vascularTerritoryInfarction',\n",
       " 'vascularTerritoryInfarctionLeft',\n",
       " 'vascularTerritoryInfarctionRight',\n",
       " 'hemisphericDevastation',\n",
       " 'ventricularDilatation',\n",
       " 'vascularLesion',\n",
       " 'intraventricularLesion']"
      ]
     },
     "execution_count": 18,
     "metadata": {},
     "output_type": "execute_result"
    }
   ],
   "source": [
    "mri_columns = COMBINE_harmonizer.get_columns(df_data_dict, 'Derived Data', 'MRI Derived')\n",
    "all_mri_columns = id_columns + mri_columns\n",
    "mri_columns"
   ]
  },
  {
   "cell_type": "code",
   "execution_count": 19,
   "id": "e6eb7a1f",
   "metadata": {
    "execution": {
     "iopub.execute_input": "2025-01-21T19:15:30.257811Z",
     "iopub.status.busy": "2025-01-21T19:15:30.257725Z",
     "iopub.status.idle": "2025-01-21T19:15:30.327239Z",
     "shell.execute_reply": "2025-01-21T19:15:30.326896Z"
    }
   },
   "outputs": [
    {
     "name": "stdout",
     "output_type": "stream",
     "text": [
      "(4/64) MRINRNPatternOfInjuryMerge not in df\n",
      "(5/64) MRINRNPatternOfInjuryAvg not in df\n",
      "(6/64) MRINRNPatternOfInjuryMax not in df\n",
      "(11/64) MRIDate not in df\n",
      "(12/64) MRITime not in df\n",
      "(13/64) MRINotDone not in df\n",
      "(14/64) MRIUnread not in df\n",
      "(58/64) vascularTerritoryInfarctionLeft not in df\n",
      "(59/64) vascularTerritoryInfarctionRight not in df\n"
     ]
    }
   ],
   "source": [
    "df_mri = COMBINE_harmonizer.valid_columns(df_analysis.copy(), all_mri_columns, debug_df=False, debug_columns=True)\n",
    "df_mri = COMBINE_harmonizer.postprocess(df_mri)\n",
    "\n",
    "out_filename = os.sep.join([out_dir, '30-03-mri.csv'])\n",
    "df_mri.to_csv(out_filename, index=False)"
   ]
  },
  {
   "cell_type": "markdown",
   "id": "613035d0",
   "metadata": {},
   "source": [
    "### 30-03-1. check empty"
   ]
  },
  {
   "cell_type": "code",
   "execution_count": 20,
   "id": "cc6bff68",
   "metadata": {
    "execution": {
     "iopub.execute_input": "2025-01-21T19:15:30.329304Z",
     "iopub.status.busy": "2025-01-21T19:15:30.329130Z",
     "iopub.status.idle": "2025-01-21T19:15:30.337770Z",
     "shell.execute_reply": "2025-01-21T19:15:30.337448Z"
    }
   },
   "outputs": [
    {
     "name": "stdout",
     "output_type": "stream",
     "text": [
      "(0/56) column: center (364 / 0)\n",
      "(1/56) column: subjectID (364 / 0)\n",
      "(2/56) column: uniqueID (364 / 0)\n",
      "(3/56) column: followupID (315 / 49)\n",
      "(4/56) column: followupCenter (315 / 49)\n",
      "(5/56) column: otherCerebralLesion (298 / 66)\n",
      "(6/56) column: edema (298 / 66)\n",
      "(7/56) column: MRIOverallDiagnosis (298 / 66)\n",
      "(8/56) column: MRINRNPatternOfInjury (298 / 66)\n",
      "(9/56) column: MRIAge_day (298 / 66)\n",
      "(10/56) column: hemisphericDevastation (298 / 66)\n",
      "(11/56) column: frontalLesion (298 / 66)\n",
      "(12/56) column: parietalLesion (298 / 66)\n",
      "(13/56) column: temporalLesion (298 / 66)\n",
      "(14/56) column: occipitalLesion (298 / 66)\n",
      "(15/56) column: cerebralLesionLobe (298 / 66)\n",
      "(16/56) column: frontalParietalLesion (298 / 66)\n",
      "(17/56) column: parietalTemporalLesion (298 / 66)\n",
      "(18/56) column: temporalOccipitalLesion (298 / 66)\n",
      "(19/56) column: parasagittalLesion (298 / 66)\n",
      "(20/56) column: preirolandicLesion (298 / 66)\n",
      "(21/56) column: perisylvianLesion (298 / 66)\n",
      "(22/56) column: insularLesion (298 / 66)\n",
      "(23/56) column: intraventricularLesion (298 / 66)\n",
      "(24/56) column: cerebellarLesion (298 / 66)\n",
      "(25/56) column: coronaRadiataLesion (298 / 66)\n",
      "(26/56) column: hippocampusLesion (298 / 66)\n",
      "(27/56) column: brainstemLesion (298 / 66)\n",
      "(28/56) column: pituitaryLesion (298 / 66)\n",
      "(29/56) column: hypothalamusLesion (298 / 66)\n",
      "(30/56) column: opticChiasmLesion (298 / 66)\n",
      "(31/56) column: extraAxialLesion (298 / 66)\n",
      "(32/56) column: scalpLesion (298 / 66)\n",
      "(33/56) column: basalGangliaLesion (298 / 66)\n",
      "(34/56) column: thalamusLesion (298 / 66)\n",
      "(35/56) column: corpusCallosumLesion (298 / 66)\n",
      "(36/56) column: vascularLesion (298 / 66)\n",
      "(37/56) column: otherLesion (298 / 66)\n",
      "(38/56) column: parietalOccipitalLesion (298 / 66)\n",
      "(39/56) column: vascularTerritoryInfarction (267 / 97)\n",
      "(40/56) column: cerebralAtrophy (297 / 67)\n",
      "(41/56) column: cerebralAtrophyGlobalLocal (15 / 349)\n",
      "(42/56) column: cererbalAtrophyQualAssessCC (298 / 66)\n",
      "(43/56) column: ventricularDilatation (298 / 66)\n",
      "(44/56) column: BGT (298 / 66)\n",
      "(45/56) column: PLIC (298 / 66)\n",
      "(46/56) column: watershed (298 / 66)\n",
      "(47/56) column: whiteMatterInjury (298 / 66)\n",
      "(48/56) column: extent (169 / 195)\n",
      "(49/56) column: laterality (169 / 195)\n",
      "(50/56) column: lateralHemisphericDevastation (32 / 332)\n",
      "(51/56) column: cerebralLesion (298 / 66)\n",
      "(52/56) column: MRIAnalysis (298 / 66)\n",
      "(53/56) column: abnormalMRIResult (298 / 66)\n",
      "(54/56) column: MRINRNPatternOfInjuryWSvsBGTPLIC (296 / 68)\n",
      "(55/56) column: MRI2LevelPatternOfInjury (298 / 66)\n"
     ]
    }
   ],
   "source": [
    "COMBINE_harmonizer.check_empty(df_mri)"
   ]
  },
  {
   "cell_type": "code",
   "execution_count": 21,
   "id": "a89f6b40",
   "metadata": {
    "execution": {
     "iopub.execute_input": "2025-01-21T19:15:30.339395Z",
     "iopub.status.busy": "2025-01-21T19:15:30.339234Z",
     "iopub.status.idle": "2025-01-21T19:15:30.344346Z",
     "shell.execute_reply": "2025-01-21T19:15:30.344065Z"
    }
   },
   "outputs": [
    {
     "name": "stdout",
     "output_type": "stream",
     "text": [
      "(0/56) center: (364/0)\n",
      "(1/56) subjectID: (364/0)\n",
      "(2/56) uniqueID: (364/0)\n",
      "(3/56) followupID: (315/49)\n",
      "(4/56) followupCenter: (315/49)\n",
      "(5/56) otherCerebralLesion: (298/66)\n",
      "(6/56) edema: (298/66)\n",
      "(7/56) MRIOverallDiagnosis: (298/66)\n",
      "(8/56) MRINRNPatternOfInjury: (298/66)\n",
      "(9/56) MRIAge_day: (298/66)\n",
      "(10/56) hemisphericDevastation: (298/66)\n",
      "(11/56) frontalLesion: (298/66)\n",
      "(12/56) parietalLesion: (298/66)\n",
      "(13/56) temporalLesion: (298/66)\n",
      "(14/56) occipitalLesion: (298/66)\n",
      "(15/56) cerebralLesionLobe: (298/66)\n",
      "(16/56) frontalParietalLesion: (298/66)\n",
      "(17/56) parietalTemporalLesion: (298/66)\n",
      "(18/56) temporalOccipitalLesion: (298/66)\n",
      "(19/56) parasagittalLesion: (298/66)\n",
      "(20/56) preirolandicLesion: (298/66)\n",
      "(21/56) perisylvianLesion: (298/66)\n",
      "(22/56) insularLesion: (298/66)\n",
      "(23/56) intraventricularLesion: (298/66)\n",
      "(24/56) cerebellarLesion: (298/66)\n",
      "(25/56) coronaRadiataLesion: (298/66)\n",
      "(26/56) hippocampusLesion: (298/66)\n",
      "(27/56) brainstemLesion: (298/66)\n",
      "(28/56) pituitaryLesion: (298/66)\n",
      "(29/56) hypothalamusLesion: (298/66)\n",
      "(30/56) opticChiasmLesion: (298/66)\n",
      "(31/56) extraAxialLesion: (298/66)\n",
      "(32/56) scalpLesion: (298/66)\n",
      "(33/56) basalGangliaLesion: (298/66)\n",
      "(34/56) thalamusLesion: (298/66)\n",
      "(35/56) corpusCallosumLesion: (298/66)\n",
      "(36/56) vascularLesion: (298/66)\n",
      "(37/56) otherLesion: (298/66)\n",
      "(38/56) parietalOccipitalLesion: (298/66)\n",
      "(39/56) vascularTerritoryInfarction: (267/97)\n",
      "(40/56) cerebralAtrophy: (297/67)\n",
      "(41/56) cerebralAtrophyGlobalLocal: (15/349)\n",
      "(42/56) cererbalAtrophyQualAssessCC: (298/66)\n",
      "(43/56) ventricularDilatation: (298/66)\n",
      "(44/56) BGT: (298/66)\n",
      "(45/56) PLIC: (298/66)\n",
      "(46/56) watershed: (298/66)\n",
      "(47/56) whiteMatterInjury: (298/66)\n",
      "(48/56) extent: (169/195)\n",
      "(49/56) laterality: (169/195)\n",
      "(50/56) lateralHemisphericDevastation: (32/332)\n",
      "(51/56) cerebralLesion: (298/66)\n",
      "(52/56) MRIAnalysis: (298/66)\n",
      "(53/56) abnormalMRIResult: (298/66)\n",
      "(54/56) MRINRNPatternOfInjuryWSvsBGTPLIC: (296/68)\n",
      "(55/56) MRI2LevelPatternOfInjury: (298/66)\n"
     ]
    }
   ],
   "source": [
    "COMBINE_harmonizer.column_info(df_mri)"
   ]
  }
 ],
 "metadata": {
  "kernelspec": {
   "display_name": ".venv",
   "language": "python",
   "name": "python3"
  },
  "language_info": {
   "codemirror_mode": {
    "name": "ipython",
    "version": 3
   },
   "file_extension": ".py",
   "mimetype": "text/x-python",
   "name": "python",
   "nbconvert_exporter": "python",
   "pygments_lexer": "ipython3",
   "version": "3.13.0"
  }
 },
 "nbformat": 4,
 "nbformat_minor": 5
}
