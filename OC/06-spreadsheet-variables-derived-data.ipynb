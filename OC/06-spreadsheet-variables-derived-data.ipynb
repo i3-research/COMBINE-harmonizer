{
 "cells": [
  {
   "cell_type": "code",
   "execution_count": 1,
   "id": "5373e02d-9bc0-492a-a2ae-2ecb09327493",
   "metadata": {
    "execution": {
     "iopub.execute_input": "2025-01-22T14:48:52.670712Z",
     "iopub.status.busy": "2025-01-22T14:48:52.669577Z",
     "iopub.status.idle": "2025-01-22T14:48:53.890821Z",
     "shell.execute_reply": "2025-01-22T14:48:53.890465Z"
    },
    "tags": []
   },
   "outputs": [],
   "source": [
    "import pandas as pd\n",
    "pd.options.mode.copy_on_write = True\n",
    "import warnings\n",
    "warnings.simplefilter(action='ignore', category=pd.errors.PerformanceWarning)\n",
    "import os\n",
    "\n",
    "import COMBINE_harmonizer\n",
    "from COMBINE_harmonizer import cfg"
   ]
  },
  {
   "cell_type": "markdown",
   "id": "2c9643ad",
   "metadata": {},
   "source": [
    "## 01. init"
   ]
  },
  {
   "cell_type": "code",
   "execution_count": 2,
   "id": "8d8b7e90",
   "metadata": {
    "execution": {
     "iopub.execute_input": "2025-01-22T14:48:53.892979Z",
     "iopub.status.busy": "2025-01-22T14:48:53.892779Z",
     "iopub.status.idle": "2025-01-22T14:48:53.894768Z",
     "shell.execute_reply": "2025-01-22T14:48:53.894493Z"
    }
   },
   "outputs": [],
   "source": [
    "study_name = COMBINE_harmonizer.STUDY_OC\n",
    "sheet_name = COMBINE_harmonizer.SHEET_DERIVED_DATA\n",
    "\n",
    "root_dir = '..'"
   ]
  },
  {
   "cell_type": "code",
   "execution_count": 3,
   "id": "545defb8",
   "metadata": {
    "execution": {
     "iopub.execute_input": "2025-01-22T14:48:53.896311Z",
     "iopub.status.busy": "2025-01-22T14:48:53.896183Z",
     "iopub.status.idle": "2025-01-22T14:48:53.899758Z",
     "shell.execute_reply": "2025-01-22T14:48:53.899500Z"
    }
   },
   "outputs": [],
   "source": [
    "COMBINE_harmonizer.init(f'{root_dir}/config.yaml')"
   ]
  },
  {
   "cell_type": "markdown",
   "id": "3e109a38-3a4c-4923-9722-d0c287868f79",
   "metadata": {},
   "source": [
    "## 02. Dictionary"
   ]
  },
  {
   "cell_type": "code",
   "execution_count": 4,
   "id": "30610bbf-afc7-4824-aa35-a2933ed733cd",
   "metadata": {
    "execution": {
     "iopub.execute_input": "2025-01-22T14:48:53.901142Z",
     "iopub.status.busy": "2025-01-22T14:48:53.901056Z",
     "iopub.status.idle": "2025-01-22T14:48:53.902766Z",
     "shell.execute_reply": "2025-01-22T14:48:53.902513Z"
    },
    "tags": []
   },
   "outputs": [],
   "source": [
    "data_dict_filename = f'{root_dir}/Dictionary_HIE_clinical_variables.xlsx'"
   ]
  },
  {
   "cell_type": "code",
   "execution_count": 5,
   "id": "0e9f0649-2462-46b2-90fe-d3b901ee9d22",
   "metadata": {
    "execution": {
     "iopub.execute_input": "2025-01-22T14:48:53.904013Z",
     "iopub.status.busy": "2025-01-22T14:48:53.903910Z",
     "iopub.status.idle": "2025-01-22T14:48:54.349831Z",
     "shell.execute_reply": "2025-01-22T14:48:54.349474Z"
    },
    "tags": []
   },
   "outputs": [],
   "source": [
    "df_dict = COMBINE_harmonizer.load_data_dict(data_dict_filename, sheet_name)"
   ]
  },
  {
   "cell_type": "code",
   "execution_count": 6,
   "id": "9cadb09f-06c4-42be-898f-2bb023f31ce8",
   "metadata": {
    "execution": {
     "iopub.execute_input": "2025-01-22T14:48:54.351349Z",
     "iopub.status.busy": "2025-01-22T14:48:54.351256Z",
     "iopub.status.idle": "2025-01-22T14:48:54.352934Z",
     "shell.execute_reply": "2025-01-22T14:48:54.352741Z"
    },
    "tags": []
   },
   "outputs": [],
   "source": [
    "dict_columns = list(df_dict[study_name].unique())"
   ]
  },
  {
   "cell_type": "markdown",
   "id": "a71bc477-2840-4bb2-809d-69e4ccfef2b7",
   "metadata": {},
   "source": [
    "## 03. OC"
   ]
  },
  {
   "cell_type": "code",
   "execution_count": 7,
   "id": "6310a3d3-ffb2-4fe9-af9d-1221585e737d",
   "metadata": {
    "execution": {
     "iopub.execute_input": "2025-01-22T14:48:54.354030Z",
     "iopub.status.busy": "2025-01-22T14:48:54.353957Z",
     "iopub.status.idle": "2025-01-22T14:48:54.355500Z",
     "shell.execute_reply": "2025-01-22T14:48:54.355286Z"
    },
    "tags": []
   },
   "outputs": [],
   "source": [
    "the_dir = cfg.config[f'{study_name}_analysis_dir']"
   ]
  },
  {
   "cell_type": "code",
   "execution_count": 8,
   "id": "76e1f68c-ab99-4dd8-866a-6f47eae4e5f7",
   "metadata": {
    "execution": {
     "iopub.execute_input": "2025-01-22T14:48:54.356665Z",
     "iopub.status.busy": "2025-01-22T14:48:54.356584Z",
     "iopub.status.idle": "2025-01-22T14:48:54.397707Z",
     "shell.execute_reply": "2025-01-22T14:48:54.397412Z"
    },
    "tags": []
   },
   "outputs": [],
   "source": [
    "filenames = os.listdir(the_dir)\n",
    "filenames.sort()"
   ]
  },
  {
   "cell_type": "code",
   "execution_count": 9,
   "id": "b9978ba5-124f-47b3-b929-30965c8c6e7c",
   "metadata": {
    "execution": {
     "iopub.execute_input": "2025-01-22T14:48:54.398995Z",
     "iopub.status.busy": "2025-01-22T14:48:54.398909Z",
     "iopub.status.idle": "2025-01-22T14:48:54.490948Z",
     "shell.execute_reply": "2025-01-22T14:48:54.490601Z"
    },
    "tags": []
   },
   "outputs": [],
   "source": [
    "dfs = [pd.read_csv(os.sep.join([the_dir, each_filename])) for each_filename in filenames]"
   ]
  },
  {
   "cell_type": "markdown",
   "id": "6ccd5c98",
   "metadata": {},
   "source": [
    "### 03.1. check columns in each file"
   ]
  },
  {
   "cell_type": "code",
   "execution_count": 10,
   "id": "49108f3f-8055-4760-8cd0-2669262a93fa",
   "metadata": {
    "execution": {
     "iopub.execute_input": "2025-01-22T14:48:54.493217Z",
     "iopub.status.busy": "2025-01-22T14:48:54.493041Z",
     "iopub.status.idle": "2025-01-22T14:48:54.495627Z",
     "shell.execute_reply": "2025-01-22T14:48:54.495300Z"
    }
   },
   "outputs": [
    {
     "name": "stdout",
     "output_type": "stream",
     "text": [
      "(0/2) filename: analysis.csv columns: ['HTHRM_ID', 'CENTER', 'ocfolnum', 'fcenter', 'trt_dur', 'trt_temp', 'hie_fix', 'blindness', 'hearing', 'hear_imp', 'gross', 'cp_out', 'modsevcp', 'bayley3', 'b3_lang', 'b3_motor', 'mult_imp', 'death18', 'gas_tube', 'all_norm', 'adjudicate', 'age_death', 'apg10_lt5', 'mom_ed', 'anticon_0', 'inot_0', 'any_inot', 'ecsect', 'male', 'apgar5_5', 'apgar10_5', 'age_rand', 'hosp_die', 'any_antic', 'any_seiz', 'seiz_fu', 'disab_ms', 'disab_4', 'disab_die', 'disab_die4', 'other_cere', 'edema', 'use_od', 'use_pi', 'out_grp', 'use_MRIage', 'use_hemi', 'frontal', 'pariet', 'tempo', 'occip', 'cereb_any', 'fp_max', 'pt_max', 'to_max', 'para_max', 'per_max', 'peri_max', 'ins_max', 'vent_max', 'bel_max', 'cr_max', 'hip_max', 'bs_max', 'pit_max', 'hy_max', 'op_max', 'ex_max', 's_max', 'bg_max', 't_max', 'cc_max', 'vas_max', 'oth_max', 'po_max', 'use_infarc', 'use_atrophy', 'use_global', 'use_ccthin', 'use_vd', 'new_bgt', 'new_plic', 'new_water', 'new_wmi', 'extent_num', 'lateral_num', 'hemi_lat', 'all_cere', 'mri_subgrp', 'mri_abn', 'public', 'new_patt', 'MRI_2cat', 'any_pse', 'acidosis', 'usualc', 'dual_ph', 'use_ph', 'dual_base', 'use_base', 'race']\n",
      "(1/2) filename: ocout.csv columns: ['HTHRM_ID', 'CENTER', 'ocfolnum', 'fcenter', 'trt_dur', 'trt_temp', 'hie_fix', 'blindness', 'hearing', 'hear_imp', 'gross', 'cp_out', 'modsevcp', 'bayley3', 'b3_lang', 'b3_motor', 'mult_imp', 'death18', 'gas_tube', 'all_norm', 'adjudicate', 'age_death', 'apg10_lt5', 'mom_ed', 'anticon_0', 'inot_0', 'any_inot', 'ecsect', 'male', 'apgar5_5', 'apgar10_5', 'age_rand', 'hosp_die', 'any_antic', 'any_seiz', 'seiz_fu', 'disab_ms', 'disab_4', 'disab_die', 'disab_die4', 'other_cere', 'edema', 'use_od', 'use_pi', 'out_grp', 'use_MRIage', 'use_hemi', 'frontal', 'pariet', 'tempo', 'occip', 'cereb_any', 'fp_max', 'pt_max', 'to_max', 'para_max', 'per_max', 'peri_max', 'ins_max', 'vent_max', 'bel_max', 'cr_max', 'hip_max', 'bs_max', 'pit_max', 'hy_max', 'op_max', 'ex_max', 's_max', 'bg_max', 't_max', 'cc_max', 'vas_max', 'oth_max', 'po_max', 'use_infarc', 'use_atrophy', 'use_global', 'use_ccthin', 'use_vd', 'new_bgt', 'new_plic', 'new_water', 'new_wmi', 'extent_num', 'lateral_num', 'hemi_lat', 'all_cere', 'mri_subgrp', 'mri_abn', 'public', 'new_patt', 'MRI_2cat', 'any_pse', 'acidosis', 'usualc', 'dual_ph', 'use_ph', 'dual_base', 'use_base', 'race']\n"
     ]
    }
   ],
   "source": [
    "for idx, each_df in enumerate(dfs):\n",
    "    print(f'({idx}/{len(dfs)}) filename: {filenames[idx]} columns: {list(each_df.columns)}')"
   ]
  },
  {
   "cell_type": "markdown",
   "id": "2d9e5e81",
   "metadata": {},
   "source": [
    "### 03.2. all columns"
   ]
  },
  {
   "cell_type": "code",
   "execution_count": 11,
   "id": "ca197be2-3085-4e01-b0c2-e0fab55a4bf9",
   "metadata": {
    "execution": {
     "iopub.execute_input": "2025-01-22T14:48:54.497501Z",
     "iopub.status.busy": "2025-01-22T14:48:54.497349Z",
     "iopub.status.idle": "2025-01-22T14:48:54.505068Z",
     "shell.execute_reply": "2025-01-22T14:48:54.504735Z"
    }
   },
   "outputs": [],
   "source": [
    "all_columns = []\n",
    "for idx, each_df in enumerate(dfs):\n",
    "    all_columns += list(map(lambda x: {'column': x, 'idx': idx, 'filename': filenames[idx]}, list(each_df.columns)))\n",
    "df_columns = pd.DataFrame(all_columns)\n",
    "df_columns['column:filename'] = df_columns.apply(lambda x: f\"{x['column']}:{x['filename']}\", axis=1)\n",
    "df_columns['column:filename:idx'] = df_columns.apply(lambda x: f\"{x['column']}:{x['filename']}:{x['idx']}\", axis=1)\n",
    "df_columns.sort_values(by=['filename', 'column'], inplace=True)"
   ]
  },
  {
   "cell_type": "code",
   "execution_count": 12,
   "id": "69334595-218f-4f14-86d6-f429ef997c61",
   "metadata": {
    "execution": {
     "iopub.execute_input": "2025-01-22T14:48:54.506628Z",
     "iopub.status.busy": "2025-01-22T14:48:54.506517Z",
     "iopub.status.idle": "2025-01-22T14:48:54.514436Z",
     "shell.execute_reply": "2025-01-22T14:48:54.514113Z"
    }
   },
   "outputs": [
    {
     "data": {
      "text/html": [
       "<div>\n",
       "<style scoped>\n",
       "    .dataframe tbody tr th:only-of-type {\n",
       "        vertical-align: middle;\n",
       "    }\n",
       "\n",
       "    .dataframe tbody tr th {\n",
       "        vertical-align: top;\n",
       "    }\n",
       "\n",
       "    .dataframe thead th {\n",
       "        text-align: right;\n",
       "    }\n",
       "</style>\n",
       "<table border=\"1\" class=\"dataframe\">\n",
       "  <thead>\n",
       "    <tr style=\"text-align: right;\">\n",
       "      <th></th>\n",
       "      <th>column</th>\n",
       "      <th>idx</th>\n",
       "      <th>filename</th>\n",
       "      <th>column:filename</th>\n",
       "      <th>column:filename:idx</th>\n",
       "    </tr>\n",
       "  </thead>\n",
       "  <tbody>\n",
       "    <tr>\n",
       "      <th>1</th>\n",
       "      <td>CENTER</td>\n",
       "      <td>0</td>\n",
       "      <td>analysis.csv</td>\n",
       "      <td>CENTER:analysis.csv</td>\n",
       "      <td>CENTER:analysis.csv:0</td>\n",
       "    </tr>\n",
       "    <tr>\n",
       "      <th>0</th>\n",
       "      <td>HTHRM_ID</td>\n",
       "      <td>0</td>\n",
       "      <td>analysis.csv</td>\n",
       "      <td>HTHRM_ID:analysis.csv</td>\n",
       "      <td>HTHRM_ID:analysis.csv:0</td>\n",
       "    </tr>\n",
       "    <tr>\n",
       "      <th>92</th>\n",
       "      <td>MRI_2cat</td>\n",
       "      <td>0</td>\n",
       "      <td>analysis.csv</td>\n",
       "      <td>MRI_2cat:analysis.csv</td>\n",
       "      <td>MRI_2cat:analysis.csv:0</td>\n",
       "    </tr>\n",
       "    <tr>\n",
       "      <th>94</th>\n",
       "      <td>acidosis</td>\n",
       "      <td>0</td>\n",
       "      <td>analysis.csv</td>\n",
       "      <td>acidosis:analysis.csv</td>\n",
       "      <td>acidosis:analysis.csv:0</td>\n",
       "    </tr>\n",
       "    <tr>\n",
       "      <th>20</th>\n",
       "      <td>adjudicate</td>\n",
       "      <td>0</td>\n",
       "      <td>analysis.csv</td>\n",
       "      <td>adjudicate:analysis.csv</td>\n",
       "      <td>adjudicate:analysis.csv:0</td>\n",
       "    </tr>\n",
       "    <tr>\n",
       "      <th>...</th>\n",
       "      <td>...</td>\n",
       "      <td>...</td>\n",
       "      <td>...</td>\n",
       "      <td>...</td>\n",
       "      <td>...</td>\n",
       "    </tr>\n",
       "    <tr>\n",
       "      <th>144</th>\n",
       "      <td>use_pi</td>\n",
       "      <td>1</td>\n",
       "      <td>ocout.csv</td>\n",
       "      <td>use_pi:ocout.csv</td>\n",
       "      <td>use_pi:ocout.csv:1</td>\n",
       "    </tr>\n",
       "    <tr>\n",
       "      <th>180</th>\n",
       "      <td>use_vd</td>\n",
       "      <td>1</td>\n",
       "      <td>ocout.csv</td>\n",
       "      <td>use_vd:ocout.csv</td>\n",
       "      <td>use_vd:ocout.csv:1</td>\n",
       "    </tr>\n",
       "    <tr>\n",
       "      <th>196</th>\n",
       "      <td>usualc</td>\n",
       "      <td>1</td>\n",
       "      <td>ocout.csv</td>\n",
       "      <td>usualc:ocout.csv</td>\n",
       "      <td>usualc:ocout.csv:1</td>\n",
       "    </tr>\n",
       "    <tr>\n",
       "      <th>173</th>\n",
       "      <td>vas_max</td>\n",
       "      <td>1</td>\n",
       "      <td>ocout.csv</td>\n",
       "      <td>vas_max:ocout.csv</td>\n",
       "      <td>vas_max:ocout.csv:1</td>\n",
       "    </tr>\n",
       "    <tr>\n",
       "      <th>160</th>\n",
       "      <td>vent_max</td>\n",
       "      <td>1</td>\n",
       "      <td>ocout.csv</td>\n",
       "      <td>vent_max:ocout.csv</td>\n",
       "      <td>vent_max:ocout.csv:1</td>\n",
       "    </tr>\n",
       "  </tbody>\n",
       "</table>\n",
       "<p>202 rows × 5 columns</p>\n",
       "</div>"
      ],
      "text/plain": [
       "         column  idx      filename          column:filename  \\\n",
       "1        CENTER    0  analysis.csv      CENTER:analysis.csv   \n",
       "0      HTHRM_ID    0  analysis.csv    HTHRM_ID:analysis.csv   \n",
       "92     MRI_2cat    0  analysis.csv    MRI_2cat:analysis.csv   \n",
       "94     acidosis    0  analysis.csv    acidosis:analysis.csv   \n",
       "20   adjudicate    0  analysis.csv  adjudicate:analysis.csv   \n",
       "..          ...  ...           ...                      ...   \n",
       "144      use_pi    1     ocout.csv         use_pi:ocout.csv   \n",
       "180      use_vd    1     ocout.csv         use_vd:ocout.csv   \n",
       "196      usualc    1     ocout.csv         usualc:ocout.csv   \n",
       "173     vas_max    1     ocout.csv        vas_max:ocout.csv   \n",
       "160    vent_max    1     ocout.csv       vent_max:ocout.csv   \n",
       "\n",
       "           column:filename:idx  \n",
       "1        CENTER:analysis.csv:0  \n",
       "0      HTHRM_ID:analysis.csv:0  \n",
       "92     MRI_2cat:analysis.csv:0  \n",
       "94     acidosis:analysis.csv:0  \n",
       "20   adjudicate:analysis.csv:0  \n",
       "..                         ...  \n",
       "144         use_pi:ocout.csv:1  \n",
       "180         use_vd:ocout.csv:1  \n",
       "196         usualc:ocout.csv:1  \n",
       "173        vas_max:ocout.csv:1  \n",
       "160       vent_max:ocout.csv:1  \n",
       "\n",
       "[202 rows x 5 columns]"
      ]
     },
     "execution_count": 12,
     "metadata": {},
     "output_type": "execute_result"
    }
   ],
   "source": [
    "df_columns"
   ]
  },
  {
   "cell_type": "code",
   "execution_count": 13,
   "id": "f024c71b-6b5d-4ccc-ba86-ef7fa2723865",
   "metadata": {
    "execution": {
     "iopub.execute_input": "2025-01-22T14:48:54.516041Z",
     "iopub.status.busy": "2025-01-22T14:48:54.515905Z",
     "iopub.status.idle": "2025-01-22T14:48:54.522019Z",
     "shell.execute_reply": "2025-01-22T14:48:54.521735Z"
    }
   },
   "outputs": [
    {
     "data": {
      "text/html": [
       "<div>\n",
       "<style scoped>\n",
       "    .dataframe tbody tr th:only-of-type {\n",
       "        vertical-align: middle;\n",
       "    }\n",
       "\n",
       "    .dataframe tbody tr th {\n",
       "        vertical-align: top;\n",
       "    }\n",
       "\n",
       "    .dataframe thead th {\n",
       "        text-align: right;\n",
       "    }\n",
       "</style>\n",
       "<table border=\"1\" class=\"dataframe\">\n",
       "  <thead>\n",
       "    <tr style=\"text-align: right;\">\n",
       "      <th></th>\n",
       "      <th>count</th>\n",
       "    </tr>\n",
       "    <tr>\n",
       "      <th>column</th>\n",
       "      <th></th>\n",
       "    </tr>\n",
       "  </thead>\n",
       "  <tbody>\n",
       "    <tr>\n",
       "      <th>CENTER</th>\n",
       "      <td>2</td>\n",
       "    </tr>\n",
       "    <tr>\n",
       "      <th>new_wmi</th>\n",
       "      <td>2</td>\n",
       "    </tr>\n",
       "    <tr>\n",
       "      <th>peri_max</th>\n",
       "      <td>2</td>\n",
       "    </tr>\n",
       "    <tr>\n",
       "      <th>per_max</th>\n",
       "      <td>2</td>\n",
       "    </tr>\n",
       "    <tr>\n",
       "      <th>pariet</th>\n",
       "      <td>2</td>\n",
       "    </tr>\n",
       "    <tr>\n",
       "      <th>para_max</th>\n",
       "      <td>2</td>\n",
       "    </tr>\n",
       "    <tr>\n",
       "      <th>out_grp</th>\n",
       "      <td>2</td>\n",
       "    </tr>\n",
       "    <tr>\n",
       "      <th>other_cere</th>\n",
       "      <td>2</td>\n",
       "    </tr>\n",
       "    <tr>\n",
       "      <th>oth_max</th>\n",
       "      <td>2</td>\n",
       "    </tr>\n",
       "    <tr>\n",
       "      <th>op_max</th>\n",
       "      <td>2</td>\n",
       "    </tr>\n",
       "    <tr>\n",
       "      <th>ocfolnum</th>\n",
       "      <td>2</td>\n",
       "    </tr>\n",
       "    <tr>\n",
       "      <th>occip</th>\n",
       "      <td>2</td>\n",
       "    </tr>\n",
       "    <tr>\n",
       "      <th>new_water</th>\n",
       "      <td>2</td>\n",
       "    </tr>\n",
       "    <tr>\n",
       "      <th>inot_0</th>\n",
       "      <td>2</td>\n",
       "    </tr>\n",
       "    <tr>\n",
       "      <th>new_plic</th>\n",
       "      <td>2</td>\n",
       "    </tr>\n",
       "    <tr>\n",
       "      <th>new_patt</th>\n",
       "      <td>2</td>\n",
       "    </tr>\n",
       "    <tr>\n",
       "      <th>new_bgt</th>\n",
       "      <td>2</td>\n",
       "    </tr>\n",
       "    <tr>\n",
       "      <th>mult_imp</th>\n",
       "      <td>2</td>\n",
       "    </tr>\n",
       "    <tr>\n",
       "      <th>mri_subgrp</th>\n",
       "      <td>2</td>\n",
       "    </tr>\n",
       "    <tr>\n",
       "      <th>mri_abn</th>\n",
       "      <td>2</td>\n",
       "    </tr>\n",
       "  </tbody>\n",
       "</table>\n",
       "</div>"
      ],
      "text/plain": [
       "            count\n",
       "column           \n",
       "CENTER          2\n",
       "new_wmi         2\n",
       "peri_max        2\n",
       "per_max         2\n",
       "pariet          2\n",
       "para_max        2\n",
       "out_grp         2\n",
       "other_cere      2\n",
       "oth_max         2\n",
       "op_max          2\n",
       "ocfolnum        2\n",
       "occip           2\n",
       "new_water       2\n",
       "inot_0          2\n",
       "new_plic        2\n",
       "new_patt        2\n",
       "new_bgt         2\n",
       "mult_imp        2\n",
       "mri_subgrp      2\n",
       "mri_abn         2"
      ]
     },
     "execution_count": 13,
     "metadata": {},
     "output_type": "execute_result"
    }
   ],
   "source": [
    "df_columns_count = df_columns.groupby(['column']).agg(count=('column', 'count')).sort_values(by=['count'], ascending=False)\n",
    "df_columns_count.head(20)"
   ]
  },
  {
   "cell_type": "markdown",
   "id": "0363374f-7628-4cb8-8279-85aceeee2933",
   "metadata": {},
   "source": [
    "#### column not in dict"
   ]
  },
  {
   "cell_type": "code",
   "execution_count": 14,
   "id": "09ce2321-f69b-474d-8568-4877ca8a0d59",
   "metadata": {
    "execution": {
     "iopub.execute_input": "2025-01-22T14:48:54.523544Z",
     "iopub.status.busy": "2025-01-22T14:48:54.523410Z",
     "iopub.status.idle": "2025-01-22T14:48:54.527383Z",
     "shell.execute_reply": "2025-01-22T14:48:54.527002Z"
    }
   },
   "outputs": [
    {
     "data": {
      "text/html": [
       "<div>\n",
       "<style scoped>\n",
       "    .dataframe tbody tr th:only-of-type {\n",
       "        vertical-align: middle;\n",
       "    }\n",
       "\n",
       "    .dataframe tbody tr th {\n",
       "        vertical-align: top;\n",
       "    }\n",
       "\n",
       "    .dataframe thead th {\n",
       "        text-align: right;\n",
       "    }\n",
       "</style>\n",
       "<table border=\"1\" class=\"dataframe\">\n",
       "  <thead>\n",
       "    <tr style=\"text-align: right;\">\n",
       "      <th></th>\n",
       "      <th>column</th>\n",
       "      <th>idx</th>\n",
       "      <th>filename</th>\n",
       "      <th>column:filename</th>\n",
       "      <th>column:filename:idx</th>\n",
       "    </tr>\n",
       "  </thead>\n",
       "  <tbody>\n",
       "  </tbody>\n",
       "</table>\n",
       "</div>"
      ],
      "text/plain": [
       "Empty DataFrame\n",
       "Columns: [column, idx, filename, column:filename, column:filename:idx]\n",
       "Index: []"
      ]
     },
     "execution_count": 14,
     "metadata": {},
     "output_type": "execute_result"
    }
   ],
   "source": [
    "is_not_in_dict = df_columns['column'].isin(dict_columns) == False\n",
    "df_columns_not_in_dict = df_columns[is_not_in_dict]\n",
    "df_columns_not_in_dict"
   ]
  },
  {
   "cell_type": "code",
   "execution_count": 15,
   "id": "3e0bac5f-fb7a-4281-860f-b911d447e3e5",
   "metadata": {
    "execution": {
     "iopub.execute_input": "2025-01-22T14:48:54.528807Z",
     "iopub.status.busy": "2025-01-22T14:48:54.528693Z",
     "iopub.status.idle": "2025-01-22T14:48:54.530985Z",
     "shell.execute_reply": "2025-01-22T14:48:54.530732Z"
    }
   },
   "outputs": [
    {
     "data": {
      "text/plain": [
       "[]"
      ]
     },
     "execution_count": 15,
     "metadata": {},
     "output_type": "execute_result"
    }
   ],
   "source": [
    "columns_not_in_dict = list(df_columns_not_in_dict['column:filename:idx'].unique())\n",
    "# columns_not_in_dict.sort()\n",
    "columns_not_in_dict"
   ]
  },
  {
   "cell_type": "markdown",
   "id": "d5ee57c2-4833-45fd-87cb-613c5fa1b3d4",
   "metadata": {},
   "source": [
    "#### dict not in column"
   ]
  },
  {
   "cell_type": "code",
   "execution_count": 16,
   "id": "f7a8a7eb-dbd2-49e0-9264-5e5cf932b7ef",
   "metadata": {
    "execution": {
     "iopub.execute_input": "2025-01-22T14:48:54.532382Z",
     "iopub.status.busy": "2025-01-22T14:48:54.532295Z",
     "iopub.status.idle": "2025-01-22T14:48:54.536045Z",
     "shell.execute_reply": "2025-01-22T14:48:54.535821Z"
    }
   },
   "outputs": [
    {
     "data": {
      "text/html": [
       "<div>\n",
       "<style scoped>\n",
       "    .dataframe tbody tr th:only-of-type {\n",
       "        vertical-align: middle;\n",
       "    }\n",
       "\n",
       "    .dataframe tbody tr th {\n",
       "        vertical-align: top;\n",
       "    }\n",
       "\n",
       "    .dataframe thead th {\n",
       "        text-align: right;\n",
       "    }\n",
       "</style>\n",
       "<table border=\"1\" class=\"dataframe\">\n",
       "  <thead>\n",
       "    <tr style=\"text-align: right;\">\n",
       "      <th></th>\n",
       "      <th>Category</th>\n",
       "      <th>Subcategory</th>\n",
       "      <th>Standardized_VariableNames_Dictionary</th>\n",
       "      <th>type</th>\n",
       "      <th>Variable_Description</th>\n",
       "      <th>#studies w/ this var</th>\n",
       "      <th>redcap</th>\n",
       "      <th>comment</th>\n",
       "      <th>LH</th>\n",
       "      <th>OC</th>\n",
       "    </tr>\n",
       "  </thead>\n",
       "  <tbody>\n",
       "  </tbody>\n",
       "</table>\n",
       "</div>"
      ],
      "text/plain": [
       "Empty DataFrame\n",
       "Columns: [Category, Subcategory, Standardized_VariableNames_Dictionary, type, Variable_Description, #studies w/ this var, redcap, comment, LH, OC]\n",
       "Index: []"
      ]
     },
     "execution_count": 16,
     "metadata": {},
     "output_type": "execute_result"
    }
   ],
   "source": [
    "is_dict_not_in_columns = (df_dict['OC'].isin(df_columns['column']) == False) & (df_dict['OC'].isnull() == False)\n",
    "df_dict_not_in_columns = df_dict[is_dict_not_in_columns]\n",
    "df_dict_not_in_columns"
   ]
  },
  {
   "cell_type": "markdown",
   "id": "56a3ad43-bc8a-42a9-bfb9-c82482e94785",
   "metadata": {},
   "source": [
    "## 04. show column values"
   ]
  },
  {
   "cell_type": "code",
   "execution_count": 17,
   "id": "eb9717c4-3e3d-41cf-80fa-4112e67476c3",
   "metadata": {
    "execution": {
     "iopub.execute_input": "2025-01-22T14:48:54.537285Z",
     "iopub.status.busy": "2025-01-22T14:48:54.537203Z",
     "iopub.status.idle": "2025-01-22T14:48:54.539139Z",
     "shell.execute_reply": "2025-01-22T14:48:54.538871Z"
    }
   },
   "outputs": [
    {
     "data": {
      "text/plain": [
       "\"\\nfor idx, each_df in enumerate(dfs):\\n    for idx2, column in enumerate(each_df.columns):\\n        print(f'({idx}/{len(dfs)}/{filenames[idx]}) ({idx2}/{len(each_df.columns)} column: {column} value: {list(each_df[column].unique())}')\\n\""
      ]
     },
     "execution_count": 17,
     "metadata": {},
     "output_type": "execute_result"
    }
   ],
   "source": [
    "# XXX no show due to data privacy concern.\n",
    "\n",
    "'''\n",
    "for idx, each_df in enumerate(dfs):\n",
    "    for idx2, column in enumerate(each_df.columns):\n",
    "        print(f'({idx}/{len(dfs)}/{filenames[idx]}) ({idx2}/{len(each_df.columns)} column: {column} value: {list(each_df[column].unique())}')\n",
    "'''"
   ]
  }
 ],
 "metadata": {
  "kernelspec": {
   "display_name": ".venv",
   "language": "python",
   "name": "python3"
  },
  "language_info": {
   "codemirror_mode": {
    "name": "ipython",
    "version": 3
   },
   "file_extension": ".py",
   "mimetype": "text/x-python",
   "name": "python",
   "nbconvert_exporter": "python",
   "pygments_lexer": "ipython3",
   "version": "3.13.0"
  }
 },
 "nbformat": 4,
 "nbformat_minor": 5
}
