{
 "cells": [
  {
   "cell_type": "code",
   "execution_count": 1,
   "id": "5373e02d-9bc0-492a-a2ae-2ecb09327493",
   "metadata": {
    "execution": {
     "iopub.execute_input": "2025-01-21T18:22:59.618850Z",
     "iopub.status.busy": "2025-01-21T18:22:59.618633Z",
     "iopub.status.idle": "2025-01-21T18:23:00.616529Z",
     "shell.execute_reply": "2025-01-21T18:23:00.616237Z"
    },
    "tags": []
   },
   "outputs": [],
   "source": [
    "import pandas as pd\n",
    "import os\n",
    "\n",
    "import COMBINE_harmonizer\n",
    "from COMBINE_harmonizer import cfg"
   ]
  },
  {
   "cell_type": "markdown",
   "id": "d3bd4ee1",
   "metadata": {},
   "source": [
    "## 01. init"
   ]
  },
  {
   "cell_type": "code",
   "execution_count": 2,
   "id": "99b19c4f",
   "metadata": {
    "execution": {
     "iopub.execute_input": "2025-01-21T18:23:00.618174Z",
     "iopub.status.busy": "2025-01-21T18:23:00.618040Z",
     "iopub.status.idle": "2025-01-21T18:23:00.619776Z",
     "shell.execute_reply": "2025-01-21T18:23:00.619564Z"
    }
   },
   "outputs": [],
   "source": [
    "study_name = COMBINE_harmonizer.STUDY_OC\n",
    "sheet_name = COMBINE_harmonizer.SHEET_FOLLOW_UP\n",
    "\n",
    "root_dir = '..'"
   ]
  },
  {
   "cell_type": "code",
   "execution_count": 3,
   "id": "5fa89fc1",
   "metadata": {
    "execution": {
     "iopub.execute_input": "2025-01-21T18:23:00.620874Z",
     "iopub.status.busy": "2025-01-21T18:23:00.620796Z",
     "iopub.status.idle": "2025-01-21T18:23:00.624078Z",
     "shell.execute_reply": "2025-01-21T18:23:00.623837Z"
    }
   },
   "outputs": [],
   "source": [
    "COMBINE_harmonizer.init(f'{root_dir}/config.yaml')"
   ]
  },
  {
   "cell_type": "markdown",
   "id": "3e109a38-3a4c-4923-9722-d0c287868f79",
   "metadata": {},
   "source": [
    "## 02. Dictionary"
   ]
  },
  {
   "cell_type": "code",
   "execution_count": 4,
   "id": "30610bbf-afc7-4824-aa35-a2933ed733cd",
   "metadata": {
    "execution": {
     "iopub.execute_input": "2025-01-21T18:23:00.625210Z",
     "iopub.status.busy": "2025-01-21T18:23:00.625131Z",
     "iopub.status.idle": "2025-01-21T18:23:00.626615Z",
     "shell.execute_reply": "2025-01-21T18:23:00.626396Z"
    },
    "tags": []
   },
   "outputs": [],
   "source": [
    "data_dict_filename = f'{root_dir}/Dictionary_HIE_clinical_variables.xlsx'"
   ]
  },
  {
   "cell_type": "code",
   "execution_count": 5,
   "id": "0e9f0649-2462-46b2-90fe-d3b901ee9d22",
   "metadata": {
    "execution": {
     "iopub.execute_input": "2025-01-21T18:23:00.627668Z",
     "iopub.status.busy": "2025-01-21T18:23:00.627597Z",
     "iopub.status.idle": "2025-01-21T18:23:01.009053Z",
     "shell.execute_reply": "2025-01-21T18:23:01.008685Z"
    },
    "tags": []
   },
   "outputs": [],
   "source": [
    "df_dict = COMBINE_harmonizer.load_data_dict(data_dict_filename, sheet_name)"
   ]
  },
  {
   "cell_type": "code",
   "execution_count": 6,
   "id": "9cadb09f-06c4-42be-898f-2bb023f31ce8",
   "metadata": {
    "execution": {
     "iopub.execute_input": "2025-01-21T18:23:01.010561Z",
     "iopub.status.busy": "2025-01-21T18:23:01.010473Z",
     "iopub.status.idle": "2025-01-21T18:23:01.012176Z",
     "shell.execute_reply": "2025-01-21T18:23:01.011964Z"
    },
    "tags": []
   },
   "outputs": [],
   "source": [
    "dict_columns = list(df_dict[study_name].unique())"
   ]
  },
  {
   "cell_type": "markdown",
   "id": "a71bc477-2840-4bb2-809d-69e4ccfef2b7",
   "metadata": {},
   "source": [
    "## 03. OC"
   ]
  },
  {
   "cell_type": "code",
   "execution_count": 7,
   "id": "6310a3d3-ffb2-4fe9-af9d-1221585e737d",
   "metadata": {
    "execution": {
     "iopub.execute_input": "2025-01-21T18:23:01.013344Z",
     "iopub.status.busy": "2025-01-21T18:23:01.013262Z",
     "iopub.status.idle": "2025-01-21T18:23:01.014768Z",
     "shell.execute_reply": "2025-01-21T18:23:01.014532Z"
    },
    "tags": []
   },
   "outputs": [],
   "source": [
    "the_dir = cfg.config[f'{study_name}_follow_up_dir']"
   ]
  },
  {
   "cell_type": "code",
   "execution_count": 8,
   "id": "9e08200b",
   "metadata": {
    "execution": {
     "iopub.execute_input": "2025-01-21T18:23:01.015833Z",
     "iopub.status.busy": "2025-01-21T18:23:01.015760Z",
     "iopub.status.idle": "2025-01-21T18:23:01.066768Z",
     "shell.execute_reply": "2025-01-21T18:23:01.066519Z"
    }
   },
   "outputs": [],
   "source": [
    "filenames = os.listdir(the_dir)\n",
    "filenames.sort()"
   ]
  },
  {
   "cell_type": "code",
   "execution_count": 9,
   "id": "76e1f68c-ab99-4dd8-866a-6f47eae4e5f7",
   "metadata": {
    "execution": {
     "iopub.execute_input": "2025-01-21T18:23:01.068176Z",
     "iopub.status.busy": "2025-01-21T18:23:01.068080Z",
     "iopub.status.idle": "2025-01-21T18:23:01.318512Z",
     "shell.execute_reply": "2025-01-21T18:23:01.318163Z"
    },
    "tags": []
   },
   "outputs": [],
   "source": [
    "dfs = [pd.read_csv(os.sep.join([the_dir, each_filename])) for each_filename in filenames]"
   ]
  },
  {
   "cell_type": "markdown",
   "id": "8b878f62",
   "metadata": {},
   "source": [
    "### 03.1. check columns in each file"
   ]
  },
  {
   "cell_type": "code",
   "execution_count": 10,
   "id": "49108f3f-8055-4760-8cd0-2669262a93fa",
   "metadata": {
    "execution": {
     "iopub.execute_input": "2025-01-21T18:23:01.320325Z",
     "iopub.status.busy": "2025-01-21T18:23:01.320204Z",
     "iopub.status.idle": "2025-01-21T18:23:01.322169Z",
     "shell.execute_reply": "2025-01-21T18:23:01.321944Z"
    }
   },
   "outputs": [
    {
     "name": "stdout",
     "output_type": "stream",
     "text": [
      "(0/10) filename: of01.csv columns: ['LHFOLNUM', 'SITENM', 'LAST', 'FIRST', 'HTHRM_ID', 'PROTID02', 'PROTID03', 'PROTID04', 'PROTID05', 'PROTID06', 'PROTID07', 'PROTID08', 'PROTID09', 'PROTID10', 'PROTID11', 'PROTID12', 'PROTID13', 'PROTID14', 'PROTID15', 'PROTID16', 'PROTID17', 'PROTID18', 'PROTID19', 'PROTID20', 'REC_CMP', 'CENTER', 'BIRTHDT', 'VISITDT', 'BIRTHNM', 'PREVCNTR', 'CMP_DATE', 'CRT_DATE']\n",
      "(1/10) filename: of03.csv columns: ['LHFOLNUM', 'CFSUPER', 'NF3MONEY', 'CFWKPCAR', 'CFWKOCAR', 'CFSCCARE', 'CFSCADUL', 'CFOTHLAN', 'CFSECLAN', 'CFOTHSEC', 'CFNDNRSV', 'CFNDNRSH', 'CFNDOTPT', 'CFNDSPCH', 'CFNDEALY', 'CFNDSOCL', 'CFNDPUL', 'CFNDOPH', 'CFNDGAS', 'CFNDAUD', 'CFNDNEU', 'CFNDOTH', 'CFCVOSP', 'CFNDEVAL', 'CFREGDR', 'CFCCFAC', 'CFCAROT', 'CFTRDYCR', 'CFSPDYCR', 'CFHMDYCR', 'CFBBYSIT', 'CFINITS', 'REC_CMP', 'CENTER', 'CFVISDT', 'CFBRTHDT', 'CFCHRAGE', 'CFADJAGE', 'CFCARE', 'CFOCAR', 'CFMARITL', 'CFLIVING', 'CFPEOPLE', 'CFGRPCAR', 'CFGROCAR', 'CFINSUR', 'CFLANG', 'CFSECOND', 'CFNMPLLV', 'CFNURSEV', 'CFNURSEH', 'CFOTPT', 'CFSPEECH', 'CFEARLY', 'CFSOCIAL', 'CFCVPUL', 'CFCVOPH', 'CFCVGAS', 'CFCVAUD', 'CFCVNEU', 'CFCVOTH', 'CFEVAL', 'CFTRDCHR', 'CFSPDCHR', 'CFSPDCLC', 'CFHMDCHR', 'CFHMDCLC', 'CFBSITHR', 'CFBABSTR', 'CFPRRESP', 'CFPLACE', 'CFCOMPDT', 'CMP_DATE', 'CRT_DATE']\n",
      "(2/10) filename: of04.csv columns: ['LHFOLNUM', 'DFREHOSP', 'DFOPERAT', 'DFOPTYMP', 'DFOPTRAC', 'DFOP_EYE', 'DFOPHERN', 'DFOPGAST', 'DFOPFUND', 'DFOPSHUN', 'DFOPREAN', 'DFOPPDA', 'DFOPBRON', 'DFOPHYPO', 'DFOPOTH', 'DFOPOTHS', 'DFMEDIC', 'NF4OTHSP', 'DFSEIZ', 'DFRECVD', 'DFFLUSHT', 'DFRSVPRO', 'DFSELF', 'DFASSIST', 'DFTUBFED', 'DF_TPN', 'DF_MILK', 'DFTBLFOD', 'DFSFTFOD', 'DFLIQUID', 'DFTHKLQD', 'DFEQUIP', 'DFSTROLL', 'DFBRACES', 'DFWALKER', 'DFSTNDER', 'DFCNRCHR', 'NF4LOCSP', 'DFINITS', 'REC_CMP', 'OF4FTNEC', 'CENTER', 'DFTIMES', 'DFOPEYER', 'NF4NUTRI', 'NF4CALOR', 'NF4DIUR', 'NF4RFLUX', 'NF4BRONC', 'DFIHSTRD', 'DFOLSTRD', 'DFOASMA', 'DFALGYMD', 'NF4ANTCV', 'DFPRANTI', 'DFANTBIO', 'DFCNSPAT', 'DFBPMED', 'DFTHYRD', 'DFMRELAX', 'DFBOTOX', 'NF4OTMDS', 'DFAPNEA', 'DFOXYGEN', 'DFVENT', 'DFTUBE', 'DFTRACH', 'DFPLSEOX', 'DFPLACE', 'DFCOMPDT', 'CMP_DATE', 'CRT_DATE']\n",
      "(3/10) filename: of04a.csv columns: ['LHFOLNUM', 'DFINITSA', 'REC_CMP', 'CENTER', 'DFDISDT', 'DFBRDYDT', 'DFPLACEA', 'DFCMPDTA', 'CMP_DATE', 'CRT_DATE']\n",
      "(4/10) filename: of04ar.csv columns: ['LHFOLNUM', 'NF4AROTS', 'OFTIMICU', 'REC_CMP', 'CENTER', 'DFREADNM', 'DFTIMEA', 'DFCAUSE', 'OFLENOHS', 'CMP_DATE', 'CRT_DATE']\n",
      "(5/10) filename: of05.csv columns: ['LHFOLNUM', 'EFAUDIO', 'EFCONPEN', 'NF5VRA', 'NF5ABR', 'NF5UKHR', 'NF5DYSPH', 'NF5ASPIR', 'NF5ABVOC', 'NF5DROOL', 'NF5NPO', 'EFABREST', 'EFSHORTR', 'EFSLOWR', 'EFTREMRR', 'NF5SCISS', 'EFDGNORM', 'EFHYPOT', 'EFHYPERT', 'EFOTHER', 'NF5OCPSP', 'EFQUADR', 'EFDIPLEG', 'EFHEMRT', 'EFHEMLT', 'OF5DYSTO', 'OF5ATCHA', 'OF5ATAXI', 'OFCPUN', 'OFCPUNDE', 'OFCERPAL', 'OFCLPAL', 'EFCONGEN', 'EFCONGSP', 'NF5LOCSP', 'NF5FACSP', 'EFINITS', 'REC_CMP', 'CENTER', 'EFWEIGHT', 'EFLENGTH', 'EFHC', 'NF5STRRT', 'NF5STRLT', 'NF5NYSRT', 'NF5NYSLT', 'NF5ROVRT', 'NF5ROVLT', 'NF5TRKRT', 'NF5TRKLT', 'EFVISINR', 'EFVISINL', 'NF5VRART', 'NF5VRALT', 'NF5VRASN', 'NF5ABRRT', 'NF5ABRLT', 'NF5UKHRT', 'NF5UKHLT', 'EFHEARIM', 'EFHRDIS', 'OFIMPLAN', 'EFSWALL', 'NF5NCTRK', 'NF5UPEXR', 'NF5UPEXL', 'NF5HPKNR', 'NF5HPKNL', 'NF5ANKLR', 'NF5ANKLL', 'NF5GROSS', 'NF5HNDPF', 'NF5PRORF', 'NF5LMBUP', 'NF5LMBLW', 'NF5UPRRT', 'NF5UPRLT', 'NF5KNERT', 'NF5KNELT', 'NF5AKLRT', 'NF5AKLLT', 'NF5CLNRT', 'NF5CLNLT', 'NF5PLNRT', 'NF5PLNLT', 'EFAXISHD', 'EFAXTRNK', 'EFLWRLMB', 'EFUPRLMB', 'EFRHAND', 'EFLHAND', 'EFPLACE', 'NF5QUALT', 'NF5FACTR', 'EFCOMPDT', 'CMP_DATE', 'CRT_DATE']\n",
      "(6/10) filename: of09a.csv columns: ['LHFOLNUM', 'NF9ACSU', 'NF9ACSUS', 'NF9ALRC', 'NF9ALRCS', 'NF9ALEC', 'NF9ALECS', 'NF9AMFN', 'NF9AMFNS', 'NF9AMGR', 'NF9AMGRS', 'NF9ABSEN', 'NF9ABSIN', 'NF9ABSMK', 'NF9AINIT', 'REC_CMP', 'CENTER', 'NF9ACSUR', 'NF9ALRCR', 'NF9ALECR', 'NF9AMFNR', 'NF9AMGRR', 'NF9AAACS', 'NF9AAARC', 'NF9AAAEC', 'NF9AAAMF', 'NF9AAAMG', 'NF9ABSCR', 'NF9ABSCS', 'NF9ABSCC', 'NF9ABSRR', 'NF9ABSRS', 'NF9ABSER', 'NF9ABSES', 'NF9ABSLS', 'NF9ABSLC', 'NF9AMFRW', 'NF9AMFSS', 'NF9AMGRW', 'NF9AMGSS', 'NF9AMGSM', 'NF9AMCMP', 'NF9AWEC', 'NF9ADATE', 'CMP_DATE', 'CRT_DATE']\n",
      "(7/10) filename: of10.csv columns: ['LHFOLNUM', 'JFINITS', 'REC_CMP', 'CENTER', 'JFBRTDT', 'NF10VSDT', 'JFSTATUS', 'JFDTHDT', 'OFCAUSOD', 'JFREASN', 'JFCOMPDT', 'NF10CNTR', 'CMP_DATE', 'CRT_DATE']\n",
      "(8/10) filename: of11.csv columns: ['LHFOLNUM', 'KFSESDIS', 'KFSES18', 'KFMEDHIS', 'KFREADM', 'KFINFEXM', 'KFBAYLE3', 'KFSTATFM', 'KFLOSTFM', 'KFINITS', 'REC_CMP', 'CENTER', 'KFFSTDT', 'KFSECDT', 'KFCOMPDT', 'CMP_DATE', 'CRT_DATE']\n",
      "(9/10) filename: of12.csv columns: ['LHFOLNUM', 'LFOSOURC', 'LFALIVE', 'LFINTERV', 'LFCHART2', 'LFWALK', 'LFSITTIN', 'LFHEAD', 'LFSEE', 'LFEYEQ', 'NF12GLAS', 'LFHEAR', 'LFHEARQ', 'LFHEAIDQ', 'NF12C2WD', 'NF12C3WD', 'LFHYDROQ', 'LFCPQ', 'LFDEVDQ', 'LFLANDQ', 'LFWEIGHQ', 'LFSEIZUQ', 'LFBLINDQ', 'NF12BHPB', 'NF12BHDS', 'NF12MDPB', 'NF12MDDS', 'NF12NRPB', 'NF12NRDS', 'LFINITA', 'NF12CHBD', 'NF12CHMD', 'NF12CHND', 'NF12INIT', 'REC_CMP', 'CENTER', 'LFCONTDT', 'LFCOMPDT', 'LFADJAGE', 'LFDTHDT', 'LFINTDT', 'LFINTAGE', 'LFCHARDT', 'LFCHARAG', 'LFHEALTH', 'LFWKAGE', 'NF12NMWD', 'OF12GMFL', 'LFEYEC', 'LFHEARC', 'LFHEAIDC', 'LFHYDROC', 'LFCPC', 'LFDEVDEC', 'LFLANDEC', 'LFWEIGHC', 'LFSEIZUC', 'NF12BLND', 'NF12CHBH', 'NF12CHMM', 'NF12CHNR', 'OF12CHGM', 'CMP_DATE', 'CRT_DATE']\n"
     ]
    }
   ],
   "source": [
    "for idx, each_df in enumerate(dfs):\n",
    "    print(f'({idx}/{len(dfs)}) filename: {filenames[idx]} columns: {list(each_df.columns)}')"
   ]
  },
  {
   "cell_type": "markdown",
   "id": "c416cf0a",
   "metadata": {},
   "source": [
    "### 03.2 all columns"
   ]
  },
  {
   "cell_type": "code",
   "execution_count": 11,
   "id": "ca197be2-3085-4e01-b0c2-e0fab55a4bf9",
   "metadata": {
    "execution": {
     "iopub.execute_input": "2025-01-21T18:23:01.323570Z",
     "iopub.status.busy": "2025-01-21T18:23:01.323461Z",
     "iopub.status.idle": "2025-01-21T18:23:01.331017Z",
     "shell.execute_reply": "2025-01-21T18:23:01.330775Z"
    }
   },
   "outputs": [],
   "source": [
    "all_columns = []\n",
    "for idx, each_df in enumerate(dfs):\n",
    "    all_columns += list(map(lambda x: {'column': x, 'idx': idx, 'filename': filenames[idx]}, list(each_df.columns)))\n",
    "df_columns = pd.DataFrame(all_columns)\n",
    "df_columns['column:filename'] = df_columns.apply(lambda x: f\"{x['column']}:{x['filename']}\", axis=1)\n",
    "df_columns['column:filename:idx'] = df_columns.apply(lambda x: f\"{x['column']}:{x['filename']}:{x['idx']}\", axis=1)\n",
    "df_columns.sort_values(by=['filename', 'column'], inplace=True)"
   ]
  },
  {
   "cell_type": "code",
   "execution_count": 12,
   "id": "69334595-218f-4f14-86d6-f429ef997c61",
   "metadata": {
    "execution": {
     "iopub.execute_input": "2025-01-21T18:23:01.332353Z",
     "iopub.status.busy": "2025-01-21T18:23:01.332261Z",
     "iopub.status.idle": "2025-01-21T18:23:01.337773Z",
     "shell.execute_reply": "2025-01-21T18:23:01.337580Z"
    }
   },
   "outputs": [
    {
     "data": {
      "text/html": [
       "<div>\n",
       "<style scoped>\n",
       "    .dataframe tbody tr th:only-of-type {\n",
       "        vertical-align: middle;\n",
       "    }\n",
       "\n",
       "    .dataframe tbody tr th {\n",
       "        vertical-align: top;\n",
       "    }\n",
       "\n",
       "    .dataframe thead th {\n",
       "        text-align: right;\n",
       "    }\n",
       "</style>\n",
       "<table border=\"1\" class=\"dataframe\">\n",
       "  <thead>\n",
       "    <tr style=\"text-align: right;\">\n",
       "      <th></th>\n",
       "      <th>column</th>\n",
       "      <th>idx</th>\n",
       "      <th>filename</th>\n",
       "      <th>column:filename</th>\n",
       "      <th>column:filename:idx</th>\n",
       "    </tr>\n",
       "  </thead>\n",
       "  <tbody>\n",
       "    <tr>\n",
       "      <th>26</th>\n",
       "      <td>BIRTHDT</td>\n",
       "      <td>0</td>\n",
       "      <td>of01.csv</td>\n",
       "      <td>BIRTHDT:of01.csv</td>\n",
       "      <td>BIRTHDT:of01.csv:0</td>\n",
       "    </tr>\n",
       "    <tr>\n",
       "      <th>28</th>\n",
       "      <td>BIRTHNM</td>\n",
       "      <td>0</td>\n",
       "      <td>of01.csv</td>\n",
       "      <td>BIRTHNM:of01.csv</td>\n",
       "      <td>BIRTHNM:of01.csv:0</td>\n",
       "    </tr>\n",
       "    <tr>\n",
       "      <th>25</th>\n",
       "      <td>CENTER</td>\n",
       "      <td>0</td>\n",
       "      <td>of01.csv</td>\n",
       "      <td>CENTER:of01.csv</td>\n",
       "      <td>CENTER:of01.csv:0</td>\n",
       "    </tr>\n",
       "    <tr>\n",
       "      <th>30</th>\n",
       "      <td>CMP_DATE</td>\n",
       "      <td>0</td>\n",
       "      <td>of01.csv</td>\n",
       "      <td>CMP_DATE:of01.csv</td>\n",
       "      <td>CMP_DATE:of01.csv:0</td>\n",
       "    </tr>\n",
       "    <tr>\n",
       "      <th>31</th>\n",
       "      <td>CRT_DATE</td>\n",
       "      <td>0</td>\n",
       "      <td>of01.csv</td>\n",
       "      <td>CRT_DATE:of01.csv</td>\n",
       "      <td>CRT_DATE:of01.csv:0</td>\n",
       "    </tr>\n",
       "    <tr>\n",
       "      <th>...</th>\n",
       "      <td>...</td>\n",
       "      <td>...</td>\n",
       "      <td>...</td>\n",
       "      <td>...</td>\n",
       "      <td>...</td>\n",
       "    </tr>\n",
       "    <tr>\n",
       "      <th>401</th>\n",
       "      <td>NF12NRDS</td>\n",
       "      <td>9</td>\n",
       "      <td>of12.csv</td>\n",
       "      <td>NF12NRDS:of12.csv</td>\n",
       "      <td>NF12NRDS:of12.csv:9</td>\n",
       "    </tr>\n",
       "    <tr>\n",
       "      <th>400</th>\n",
       "      <td>NF12NRPB</td>\n",
       "      <td>9</td>\n",
       "      <td>of12.csv</td>\n",
       "      <td>NF12NRPB:of12.csv</td>\n",
       "      <td>NF12NRPB:of12.csv:9</td>\n",
       "    </tr>\n",
       "    <tr>\n",
       "      <th>434</th>\n",
       "      <td>OF12CHGM</td>\n",
       "      <td>9</td>\n",
       "      <td>of12.csv</td>\n",
       "      <td>OF12CHGM:of12.csv</td>\n",
       "      <td>OF12CHGM:of12.csv:9</td>\n",
       "    </tr>\n",
       "    <tr>\n",
       "      <th>420</th>\n",
       "      <td>OF12GMFL</td>\n",
       "      <td>9</td>\n",
       "      <td>of12.csv</td>\n",
       "      <td>OF12GMFL:of12.csv</td>\n",
       "      <td>OF12GMFL:of12.csv:9</td>\n",
       "    </tr>\n",
       "    <tr>\n",
       "      <th>407</th>\n",
       "      <td>REC_CMP</td>\n",
       "      <td>9</td>\n",
       "      <td>of12.csv</td>\n",
       "      <td>REC_CMP:of12.csv</td>\n",
       "      <td>REC_CMP:of12.csv:9</td>\n",
       "    </tr>\n",
       "  </tbody>\n",
       "</table>\n",
       "<p>437 rows × 5 columns</p>\n",
       "</div>"
      ],
      "text/plain": [
       "       column  idx  filename    column:filename  column:filename:idx\n",
       "26    BIRTHDT    0  of01.csv   BIRTHDT:of01.csv   BIRTHDT:of01.csv:0\n",
       "28    BIRTHNM    0  of01.csv   BIRTHNM:of01.csv   BIRTHNM:of01.csv:0\n",
       "25     CENTER    0  of01.csv    CENTER:of01.csv    CENTER:of01.csv:0\n",
       "30   CMP_DATE    0  of01.csv  CMP_DATE:of01.csv  CMP_DATE:of01.csv:0\n",
       "31   CRT_DATE    0  of01.csv  CRT_DATE:of01.csv  CRT_DATE:of01.csv:0\n",
       "..        ...  ...       ...                ...                  ...\n",
       "401  NF12NRDS    9  of12.csv  NF12NRDS:of12.csv  NF12NRDS:of12.csv:9\n",
       "400  NF12NRPB    9  of12.csv  NF12NRPB:of12.csv  NF12NRPB:of12.csv:9\n",
       "434  OF12CHGM    9  of12.csv  OF12CHGM:of12.csv  OF12CHGM:of12.csv:9\n",
       "420  OF12GMFL    9  of12.csv  OF12GMFL:of12.csv  OF12GMFL:of12.csv:9\n",
       "407   REC_CMP    9  of12.csv   REC_CMP:of12.csv   REC_CMP:of12.csv:9\n",
       "\n",
       "[437 rows x 5 columns]"
      ]
     },
     "execution_count": 12,
     "metadata": {},
     "output_type": "execute_result"
    }
   ],
   "source": [
    "df_columns"
   ]
  },
  {
   "cell_type": "code",
   "execution_count": 13,
   "id": "5e7be417",
   "metadata": {
    "execution": {
     "iopub.execute_input": "2025-01-21T18:23:01.338945Z",
     "iopub.status.busy": "2025-01-21T18:23:01.338865Z",
     "iopub.status.idle": "2025-01-21T18:23:01.343391Z",
     "shell.execute_reply": "2025-01-21T18:23:01.343197Z"
    }
   },
   "outputs": [
    {
     "data": {
      "text/html": [
       "<div>\n",
       "<style scoped>\n",
       "    .dataframe tbody tr th:only-of-type {\n",
       "        vertical-align: middle;\n",
       "    }\n",
       "\n",
       "    .dataframe tbody tr th {\n",
       "        vertical-align: top;\n",
       "    }\n",
       "\n",
       "    .dataframe thead th {\n",
       "        text-align: right;\n",
       "    }\n",
       "</style>\n",
       "<table border=\"1\" class=\"dataframe\">\n",
       "  <thead>\n",
       "    <tr style=\"text-align: right;\">\n",
       "      <th></th>\n",
       "      <th>count</th>\n",
       "    </tr>\n",
       "    <tr>\n",
       "      <th>column</th>\n",
       "      <th></th>\n",
       "    </tr>\n",
       "  </thead>\n",
       "  <tbody>\n",
       "    <tr>\n",
       "      <th>CENTER</th>\n",
       "      <td>10</td>\n",
       "    </tr>\n",
       "    <tr>\n",
       "      <th>REC_CMP</th>\n",
       "      <td>10</td>\n",
       "    </tr>\n",
       "    <tr>\n",
       "      <th>CRT_DATE</th>\n",
       "      <td>10</td>\n",
       "    </tr>\n",
       "    <tr>\n",
       "      <th>CMP_DATE</th>\n",
       "      <td>10</td>\n",
       "    </tr>\n",
       "    <tr>\n",
       "      <th>LHFOLNUM</th>\n",
       "      <td>10</td>\n",
       "    </tr>\n",
       "    <tr>\n",
       "      <th>BIRTHDT</th>\n",
       "      <td>1</td>\n",
       "    </tr>\n",
       "    <tr>\n",
       "      <th>NF4OTHSP</th>\n",
       "      <td>1</td>\n",
       "    </tr>\n",
       "    <tr>\n",
       "      <th>NF5AKLLT</th>\n",
       "      <td>1</td>\n",
       "    </tr>\n",
       "    <tr>\n",
       "      <th>NF5ABVOC</th>\n",
       "      <td>1</td>\n",
       "    </tr>\n",
       "    <tr>\n",
       "      <th>NF5ABRRT</th>\n",
       "      <td>1</td>\n",
       "    </tr>\n",
       "    <tr>\n",
       "      <th>NF5ABRLT</th>\n",
       "      <td>1</td>\n",
       "    </tr>\n",
       "    <tr>\n",
       "      <th>NF5ABR</th>\n",
       "      <td>1</td>\n",
       "    </tr>\n",
       "    <tr>\n",
       "      <th>NF4RFLUX</th>\n",
       "      <td>1</td>\n",
       "    </tr>\n",
       "    <tr>\n",
       "      <th>NF4OTMDS</th>\n",
       "      <td>1</td>\n",
       "    </tr>\n",
       "    <tr>\n",
       "      <th>NF4NUTRI</th>\n",
       "      <td>1</td>\n",
       "    </tr>\n",
       "    <tr>\n",
       "      <th>NF5ANKLL</th>\n",
       "      <td>1</td>\n",
       "    </tr>\n",
       "    <tr>\n",
       "      <th>NF4LOCSP</th>\n",
       "      <td>1</td>\n",
       "    </tr>\n",
       "    <tr>\n",
       "      <th>NF4DIUR</th>\n",
       "      <td>1</td>\n",
       "    </tr>\n",
       "    <tr>\n",
       "      <th>NF4CALOR</th>\n",
       "      <td>1</td>\n",
       "    </tr>\n",
       "    <tr>\n",
       "      <th>NF4BRONC</th>\n",
       "      <td>1</td>\n",
       "    </tr>\n",
       "  </tbody>\n",
       "</table>\n",
       "</div>"
      ],
      "text/plain": [
       "          count\n",
       "column         \n",
       "CENTER       10\n",
       "REC_CMP      10\n",
       "CRT_DATE     10\n",
       "CMP_DATE     10\n",
       "LHFOLNUM     10\n",
       "BIRTHDT       1\n",
       "NF4OTHSP      1\n",
       "NF5AKLLT      1\n",
       "NF5ABVOC      1\n",
       "NF5ABRRT      1\n",
       "NF5ABRLT      1\n",
       "NF5ABR        1\n",
       "NF4RFLUX      1\n",
       "NF4OTMDS      1\n",
       "NF4NUTRI      1\n",
       "NF5ANKLL      1\n",
       "NF4LOCSP      1\n",
       "NF4DIUR       1\n",
       "NF4CALOR      1\n",
       "NF4BRONC      1"
      ]
     },
     "execution_count": 13,
     "metadata": {},
     "output_type": "execute_result"
    }
   ],
   "source": [
    "df_columns_count = df_columns.groupby(['column']).agg(count=('column', 'count')).sort_values(by=['count'], ascending=False)\n",
    "df_columns_count.head(20)"
   ]
  },
  {
   "cell_type": "markdown",
   "id": "40acbcf5-b8eb-412a-9da9-573e7245403b",
   "metadata": {},
   "source": [
    "### 03.3 check LHFOLNUM"
   ]
  },
  {
   "cell_type": "code",
   "execution_count": 14,
   "id": "8fc95b09-c008-41f1-9fd9-12674077cb03",
   "metadata": {
    "execution": {
     "iopub.execute_input": "2025-01-21T18:23:01.344749Z",
     "iopub.status.busy": "2025-01-21T18:23:01.344670Z",
     "iopub.status.idle": "2025-01-21T18:23:01.347990Z",
     "shell.execute_reply": "2025-01-21T18:23:01.347792Z"
    }
   },
   "outputs": [
    {
     "data": {
      "text/html": [
       "<div>\n",
       "<style scoped>\n",
       "    .dataframe tbody tr th:only-of-type {\n",
       "        vertical-align: middle;\n",
       "    }\n",
       "\n",
       "    .dataframe tbody tr th {\n",
       "        vertical-align: top;\n",
       "    }\n",
       "\n",
       "    .dataframe thead th {\n",
       "        text-align: right;\n",
       "    }\n",
       "</style>\n",
       "<table border=\"1\" class=\"dataframe\">\n",
       "  <thead>\n",
       "    <tr style=\"text-align: right;\">\n",
       "      <th></th>\n",
       "      <th>column</th>\n",
       "      <th>idx</th>\n",
       "      <th>filename</th>\n",
       "      <th>column:filename</th>\n",
       "      <th>column:filename:idx</th>\n",
       "    </tr>\n",
       "  </thead>\n",
       "  <tbody>\n",
       "    <tr>\n",
       "      <th>0</th>\n",
       "      <td>LHFOLNUM</td>\n",
       "      <td>0</td>\n",
       "      <td>of01.csv</td>\n",
       "      <td>LHFOLNUM:of01.csv</td>\n",
       "      <td>LHFOLNUM:of01.csv:0</td>\n",
       "    </tr>\n",
       "    <tr>\n",
       "      <th>32</th>\n",
       "      <td>LHFOLNUM</td>\n",
       "      <td>1</td>\n",
       "      <td>of03.csv</td>\n",
       "      <td>LHFOLNUM:of03.csv</td>\n",
       "      <td>LHFOLNUM:of03.csv:1</td>\n",
       "    </tr>\n",
       "    <tr>\n",
       "      <th>106</th>\n",
       "      <td>LHFOLNUM</td>\n",
       "      <td>2</td>\n",
       "      <td>of04.csv</td>\n",
       "      <td>LHFOLNUM:of04.csv</td>\n",
       "      <td>LHFOLNUM:of04.csv:2</td>\n",
       "    </tr>\n",
       "    <tr>\n",
       "      <th>178</th>\n",
       "      <td>LHFOLNUM</td>\n",
       "      <td>3</td>\n",
       "      <td>of04a.csv</td>\n",
       "      <td>LHFOLNUM:of04a.csv</td>\n",
       "      <td>LHFOLNUM:of04a.csv:3</td>\n",
       "    </tr>\n",
       "    <tr>\n",
       "      <th>188</th>\n",
       "      <td>LHFOLNUM</td>\n",
       "      <td>4</td>\n",
       "      <td>of04ar.csv</td>\n",
       "      <td>LHFOLNUM:of04ar.csv</td>\n",
       "      <td>LHFOLNUM:of04ar.csv:4</td>\n",
       "    </tr>\n",
       "    <tr>\n",
       "      <th>199</th>\n",
       "      <td>LHFOLNUM</td>\n",
       "      <td>5</td>\n",
       "      <td>of05.csv</td>\n",
       "      <td>LHFOLNUM:of05.csv</td>\n",
       "      <td>LHFOLNUM:of05.csv:5</td>\n",
       "    </tr>\n",
       "    <tr>\n",
       "      <th>296</th>\n",
       "      <td>LHFOLNUM</td>\n",
       "      <td>6</td>\n",
       "      <td>of09a.csv</td>\n",
       "      <td>LHFOLNUM:of09a.csv</td>\n",
       "      <td>LHFOLNUM:of09a.csv:6</td>\n",
       "    </tr>\n",
       "    <tr>\n",
       "      <th>342</th>\n",
       "      <td>LHFOLNUM</td>\n",
       "      <td>7</td>\n",
       "      <td>of10.csv</td>\n",
       "      <td>LHFOLNUM:of10.csv</td>\n",
       "      <td>LHFOLNUM:of10.csv:7</td>\n",
       "    </tr>\n",
       "    <tr>\n",
       "      <th>356</th>\n",
       "      <td>LHFOLNUM</td>\n",
       "      <td>8</td>\n",
       "      <td>of11.csv</td>\n",
       "      <td>LHFOLNUM:of11.csv</td>\n",
       "      <td>LHFOLNUM:of11.csv:8</td>\n",
       "    </tr>\n",
       "    <tr>\n",
       "      <th>373</th>\n",
       "      <td>LHFOLNUM</td>\n",
       "      <td>9</td>\n",
       "      <td>of12.csv</td>\n",
       "      <td>LHFOLNUM:of12.csv</td>\n",
       "      <td>LHFOLNUM:of12.csv:9</td>\n",
       "    </tr>\n",
       "  </tbody>\n",
       "</table>\n",
       "</div>"
      ],
      "text/plain": [
       "       column  idx    filename      column:filename    column:filename:idx\n",
       "0    LHFOLNUM    0    of01.csv    LHFOLNUM:of01.csv    LHFOLNUM:of01.csv:0\n",
       "32   LHFOLNUM    1    of03.csv    LHFOLNUM:of03.csv    LHFOLNUM:of03.csv:1\n",
       "106  LHFOLNUM    2    of04.csv    LHFOLNUM:of04.csv    LHFOLNUM:of04.csv:2\n",
       "178  LHFOLNUM    3   of04a.csv   LHFOLNUM:of04a.csv   LHFOLNUM:of04a.csv:3\n",
       "188  LHFOLNUM    4  of04ar.csv  LHFOLNUM:of04ar.csv  LHFOLNUM:of04ar.csv:4\n",
       "199  LHFOLNUM    5    of05.csv    LHFOLNUM:of05.csv    LHFOLNUM:of05.csv:5\n",
       "296  LHFOLNUM    6   of09a.csv   LHFOLNUM:of09a.csv   LHFOLNUM:of09a.csv:6\n",
       "342  LHFOLNUM    7    of10.csv    LHFOLNUM:of10.csv    LHFOLNUM:of10.csv:7\n",
       "356  LHFOLNUM    8    of11.csv    LHFOLNUM:of11.csv    LHFOLNUM:of11.csv:8\n",
       "373  LHFOLNUM    9    of12.csv    LHFOLNUM:of12.csv    LHFOLNUM:of12.csv:9"
      ]
     },
     "execution_count": 14,
     "metadata": {},
     "output_type": "execute_result"
    }
   ],
   "source": [
    "is_LM3ID = df_columns['column'] == 'LHFOLNUM'\n",
    "df_columns[is_LM3ID]"
   ]
  },
  {
   "cell_type": "markdown",
   "id": "0363374f-7628-4cb8-8279-85aceeee2933",
   "metadata": {},
   "source": [
    "##### column not in dict"
   ]
  },
  {
   "cell_type": "code",
   "execution_count": 15,
   "id": "09ce2321-f69b-474d-8568-4877ca8a0d59",
   "metadata": {
    "execution": {
     "iopub.execute_input": "2025-01-21T18:23:01.349198Z",
     "iopub.status.busy": "2025-01-21T18:23:01.349120Z",
     "iopub.status.idle": "2025-01-21T18:23:01.352764Z",
     "shell.execute_reply": "2025-01-21T18:23:01.352562Z"
    }
   },
   "outputs": [
    {
     "data": {
      "text/html": [
       "<div>\n",
       "<style scoped>\n",
       "    .dataframe tbody tr th:only-of-type {\n",
       "        vertical-align: middle;\n",
       "    }\n",
       "\n",
       "    .dataframe tbody tr th {\n",
       "        vertical-align: top;\n",
       "    }\n",
       "\n",
       "    .dataframe thead th {\n",
       "        text-align: right;\n",
       "    }\n",
       "</style>\n",
       "<table border=\"1\" class=\"dataframe\">\n",
       "  <thead>\n",
       "    <tr style=\"text-align: right;\">\n",
       "      <th></th>\n",
       "      <th>column</th>\n",
       "      <th>idx</th>\n",
       "      <th>filename</th>\n",
       "      <th>column:filename</th>\n",
       "      <th>column:filename:idx</th>\n",
       "    </tr>\n",
       "  </thead>\n",
       "  <tbody>\n",
       "    <tr>\n",
       "      <th>30</th>\n",
       "      <td>CMP_DATE</td>\n",
       "      <td>0</td>\n",
       "      <td>of01.csv</td>\n",
       "      <td>CMP_DATE:of01.csv</td>\n",
       "      <td>CMP_DATE:of01.csv:0</td>\n",
       "    </tr>\n",
       "    <tr>\n",
       "      <th>31</th>\n",
       "      <td>CRT_DATE</td>\n",
       "      <td>0</td>\n",
       "      <td>of01.csv</td>\n",
       "      <td>CRT_DATE:of01.csv</td>\n",
       "      <td>CRT_DATE:of01.csv:0</td>\n",
       "    </tr>\n",
       "    <tr>\n",
       "      <th>3</th>\n",
       "      <td>FIRST</td>\n",
       "      <td>0</td>\n",
       "      <td>of01.csv</td>\n",
       "      <td>FIRST:of01.csv</td>\n",
       "      <td>FIRST:of01.csv:0</td>\n",
       "    </tr>\n",
       "    <tr>\n",
       "      <th>2</th>\n",
       "      <td>LAST</td>\n",
       "      <td>0</td>\n",
       "      <td>of01.csv</td>\n",
       "      <td>LAST:of01.csv</td>\n",
       "      <td>LAST:of01.csv:0</td>\n",
       "    </tr>\n",
       "    <tr>\n",
       "      <th>5</th>\n",
       "      <td>PROTID02</td>\n",
       "      <td>0</td>\n",
       "      <td>of01.csv</td>\n",
       "      <td>PROTID02:of01.csv</td>\n",
       "      <td>PROTID02:of01.csv:0</td>\n",
       "    </tr>\n",
       "    <tr>\n",
       "      <th>...</th>\n",
       "      <td>...</td>\n",
       "      <td>...</td>\n",
       "      <td>...</td>\n",
       "      <td>...</td>\n",
       "      <td>...</td>\n",
       "    </tr>\n",
       "    <tr>\n",
       "      <th>435</th>\n",
       "      <td>CMP_DATE</td>\n",
       "      <td>9</td>\n",
       "      <td>of12.csv</td>\n",
       "      <td>CMP_DATE:of12.csv</td>\n",
       "      <td>CMP_DATE:of12.csv:9</td>\n",
       "    </tr>\n",
       "    <tr>\n",
       "      <th>436</th>\n",
       "      <td>CRT_DATE</td>\n",
       "      <td>9</td>\n",
       "      <td>of12.csv</td>\n",
       "      <td>CRT_DATE:of12.csv</td>\n",
       "      <td>CRT_DATE:of12.csv:9</td>\n",
       "    </tr>\n",
       "    <tr>\n",
       "      <th>402</th>\n",
       "      <td>LFINITA</td>\n",
       "      <td>9</td>\n",
       "      <td>of12.csv</td>\n",
       "      <td>LFINITA:of12.csv</td>\n",
       "      <td>LFINITA:of12.csv:9</td>\n",
       "    </tr>\n",
       "    <tr>\n",
       "      <th>406</th>\n",
       "      <td>NF12INIT</td>\n",
       "      <td>9</td>\n",
       "      <td>of12.csv</td>\n",
       "      <td>NF12INIT:of12.csv</td>\n",
       "      <td>NF12INIT:of12.csv:9</td>\n",
       "    </tr>\n",
       "    <tr>\n",
       "      <th>407</th>\n",
       "      <td>REC_CMP</td>\n",
       "      <td>9</td>\n",
       "      <td>of12.csv</td>\n",
       "      <td>REC_CMP:of12.csv</td>\n",
       "      <td>REC_CMP:of12.csv:9</td>\n",
       "    </tr>\n",
       "  </tbody>\n",
       "</table>\n",
       "<p>75 rows × 5 columns</p>\n",
       "</div>"
      ],
      "text/plain": [
       "       column  idx  filename    column:filename  column:filename:idx\n",
       "30   CMP_DATE    0  of01.csv  CMP_DATE:of01.csv  CMP_DATE:of01.csv:0\n",
       "31   CRT_DATE    0  of01.csv  CRT_DATE:of01.csv  CRT_DATE:of01.csv:0\n",
       "3       FIRST    0  of01.csv     FIRST:of01.csv     FIRST:of01.csv:0\n",
       "2        LAST    0  of01.csv      LAST:of01.csv      LAST:of01.csv:0\n",
       "5    PROTID02    0  of01.csv  PROTID02:of01.csv  PROTID02:of01.csv:0\n",
       "..        ...  ...       ...                ...                  ...\n",
       "435  CMP_DATE    9  of12.csv  CMP_DATE:of12.csv  CMP_DATE:of12.csv:9\n",
       "436  CRT_DATE    9  of12.csv  CRT_DATE:of12.csv  CRT_DATE:of12.csv:9\n",
       "402   LFINITA    9  of12.csv   LFINITA:of12.csv   LFINITA:of12.csv:9\n",
       "406  NF12INIT    9  of12.csv  NF12INIT:of12.csv  NF12INIT:of12.csv:9\n",
       "407   REC_CMP    9  of12.csv   REC_CMP:of12.csv   REC_CMP:of12.csv:9\n",
       "\n",
       "[75 rows x 5 columns]"
      ]
     },
     "execution_count": 15,
     "metadata": {},
     "output_type": "execute_result"
    }
   ],
   "source": [
    "is_not_in_dict = df_columns['column'].isin(dict_columns) == False\n",
    "df_columns_not_in_dict = df_columns[is_not_in_dict]\n",
    "df_columns_not_in_dict"
   ]
  },
  {
   "cell_type": "code",
   "execution_count": 16,
   "id": "eb5aca1f-5b44-4e32-b7df-46d415e5263f",
   "metadata": {
    "execution": {
     "iopub.execute_input": "2025-01-21T18:23:01.353954Z",
     "iopub.status.busy": "2025-01-21T18:23:01.353881Z",
     "iopub.status.idle": "2025-01-21T18:23:01.356201Z",
     "shell.execute_reply": "2025-01-21T18:23:01.355982Z"
    }
   },
   "outputs": [
    {
     "data": {
      "text/plain": [
       "['CMP_DATE:of01.csv:0',\n",
       " 'CRT_DATE:of01.csv:0',\n",
       " 'FIRST:of01.csv:0',\n",
       " 'LAST:of01.csv:0',\n",
       " 'PROTID02:of01.csv:0',\n",
       " 'PROTID03:of01.csv:0',\n",
       " 'PROTID04:of01.csv:0',\n",
       " 'PROTID05:of01.csv:0',\n",
       " 'PROTID06:of01.csv:0',\n",
       " 'PROTID07:of01.csv:0',\n",
       " 'PROTID08:of01.csv:0',\n",
       " 'PROTID09:of01.csv:0',\n",
       " 'PROTID10:of01.csv:0',\n",
       " 'PROTID11:of01.csv:0',\n",
       " 'PROTID12:of01.csv:0',\n",
       " 'PROTID13:of01.csv:0',\n",
       " 'PROTID14:of01.csv:0',\n",
       " 'PROTID15:of01.csv:0',\n",
       " 'PROTID16:of01.csv:0',\n",
       " 'PROTID17:of01.csv:0',\n",
       " 'PROTID18:of01.csv:0',\n",
       " 'PROTID19:of01.csv:0',\n",
       " 'PROTID20:of01.csv:0',\n",
       " 'REC_CMP:of01.csv:0',\n",
       " 'CFINITS:of03.csv:1',\n",
       " 'CFPRRESP:of03.csv:1',\n",
       " 'CMP_DATE:of03.csv:1',\n",
       " 'CRT_DATE:of03.csv:1',\n",
       " 'REC_CMP:of03.csv:1',\n",
       " 'CMP_DATE:of04.csv:2',\n",
       " 'CRT_DATE:of04.csv:2',\n",
       " 'DFCOMPDT:of04.csv:2',\n",
       " 'DFINITS:of04.csv:2',\n",
       " 'DFPLACE:of04.csv:2',\n",
       " 'NF4LOCSP:of04.csv:2',\n",
       " 'REC_CMP:of04.csv:2',\n",
       " 'CMP_DATE:of04a.csv:3',\n",
       " 'CRT_DATE:of04a.csv:3',\n",
       " 'DFINITSA:of04a.csv:3',\n",
       " 'REC_CMP:of04a.csv:3',\n",
       " 'CMP_DATE:of04ar.csv:4',\n",
       " 'CRT_DATE:of04ar.csv:4',\n",
       " 'REC_CMP:of04ar.csv:4',\n",
       " 'CMP_DATE:of05.csv:5',\n",
       " 'CRT_DATE:of05.csv:5',\n",
       " 'EFINITS:of05.csv:5',\n",
       " 'REC_CMP:of05.csv:5',\n",
       " 'CMP_DATE:of09a.csv:6',\n",
       " 'CRT_DATE:of09a.csv:6',\n",
       " 'NF9AINIT:of09a.csv:6',\n",
       " 'REC_CMP:of09a.csv:6',\n",
       " 'CMP_DATE:of10.csv:7',\n",
       " 'CRT_DATE:of10.csv:7',\n",
       " 'JFCOMPDT:of10.csv:7',\n",
       " 'JFINITS:of10.csv:7',\n",
       " 'NF10CNTR:of10.csv:7',\n",
       " 'REC_CMP:of10.csv:7',\n",
       " 'CMP_DATE:of11.csv:8',\n",
       " 'CRT_DATE:of11.csv:8',\n",
       " 'KFBAYLE3:of11.csv:8',\n",
       " 'KFCOMPDT:of11.csv:8',\n",
       " 'KFINFEXM:of11.csv:8',\n",
       " 'KFINITS:of11.csv:8',\n",
       " 'KFLOSTFM:of11.csv:8',\n",
       " 'KFMEDHIS:of11.csv:8',\n",
       " 'KFREADM:of11.csv:8',\n",
       " 'KFSES18:of11.csv:8',\n",
       " 'KFSESDIS:of11.csv:8',\n",
       " 'KFSTATFM:of11.csv:8',\n",
       " 'REC_CMP:of11.csv:8',\n",
       " 'CMP_DATE:of12.csv:9',\n",
       " 'CRT_DATE:of12.csv:9',\n",
       " 'LFINITA:of12.csv:9',\n",
       " 'NF12INIT:of12.csv:9',\n",
       " 'REC_CMP:of12.csv:9']"
      ]
     },
     "execution_count": 16,
     "metadata": {},
     "output_type": "execute_result"
    }
   ],
   "source": [
    "columns_not_in_dict = list(df_columns_not_in_dict['column:filename:idx'].unique())\n",
    "# columns_not_in_dict.sort()\n",
    "columns_not_in_dict"
   ]
  },
  {
   "cell_type": "markdown",
   "id": "74bae715-1eb7-4e36-a20b-20c317c967b0",
   "metadata": {},
   "source": [
    "#### dict not in column"
   ]
  },
  {
   "cell_type": "code",
   "execution_count": 17,
   "id": "f53e36c7-4215-45fa-adec-9e48aee861b5",
   "metadata": {
    "execution": {
     "iopub.execute_input": "2025-01-21T18:23:01.357428Z",
     "iopub.status.busy": "2025-01-21T18:23:01.357331Z",
     "iopub.status.idle": "2025-01-21T18:23:01.360707Z",
     "shell.execute_reply": "2025-01-21T18:23:01.360479Z"
    }
   },
   "outputs": [
    {
     "data": {
      "text/html": [
       "<div>\n",
       "<style scoped>\n",
       "    .dataframe tbody tr th:only-of-type {\n",
       "        vertical-align: middle;\n",
       "    }\n",
       "\n",
       "    .dataframe tbody tr th {\n",
       "        vertical-align: top;\n",
       "    }\n",
       "\n",
       "    .dataframe thead th {\n",
       "        text-align: right;\n",
       "    }\n",
       "</style>\n",
       "<table border=\"1\" class=\"dataframe\">\n",
       "  <thead>\n",
       "    <tr style=\"text-align: right;\">\n",
       "      <th></th>\n",
       "      <th>Category</th>\n",
       "      <th>Subcategory</th>\n",
       "      <th>Standardized_VariableNames_Dictionary</th>\n",
       "      <th>type</th>\n",
       "      <th>Variable_Description</th>\n",
       "      <th>#studies w/ this var</th>\n",
       "      <th>redcap</th>\n",
       "      <th>comment</th>\n",
       "      <th>LH</th>\n",
       "      <th>OC</th>\n",
       "    </tr>\n",
       "  </thead>\n",
       "  <tbody>\n",
       "  </tbody>\n",
       "</table>\n",
       "</div>"
      ],
      "text/plain": [
       "Empty DataFrame\n",
       "Columns: [Category, Subcategory, Standardized_VariableNames_Dictionary, type, Variable_Description, #studies w/ this var, redcap, comment, LH, OC]\n",
       "Index: []"
      ]
     },
     "execution_count": 17,
     "metadata": {},
     "output_type": "execute_result"
    }
   ],
   "source": [
    "is_dict_not_in_columns = (df_dict['OC'].isin(df_columns['column']) == False) & (df_dict['OC'].isnull() == False)\n",
    "df_dict_not_in_columns = df_dict[is_dict_not_in_columns]\n",
    "df_dict_not_in_columns"
   ]
  },
  {
   "cell_type": "markdown",
   "id": "9b7262be-225e-4f45-90a5-bf8b87620aeb",
   "metadata": {},
   "source": [
    "## 04. show column values"
   ]
  },
  {
   "cell_type": "code",
   "execution_count": 18,
   "id": "83e57049-3d45-4d4f-8b3b-7b304fae5f12",
   "metadata": {
    "execution": {
     "iopub.execute_input": "2025-01-21T18:23:01.362052Z",
     "iopub.status.busy": "2025-01-21T18:23:01.361962Z",
     "iopub.status.idle": "2025-01-21T18:23:01.363923Z",
     "shell.execute_reply": "2025-01-21T18:23:01.363716Z"
    }
   },
   "outputs": [
    {
     "data": {
      "text/plain": [
       "\"\\nfor idx, each_df in enumerate(dfs):\\n    for idx2, column in enumerate(each_df.columns):\\n        print(f'({idx}/{len(dfs)}/{filenames[idx]}) ({idx2}/{len(each_df.columns)} column: {column} value: {list(each_df[column].unique())}')\\n\""
      ]
     },
     "execution_count": 18,
     "metadata": {},
     "output_type": "execute_result"
    }
   ],
   "source": [
    "# XXX no show due to data privacy concern.\n",
    "\n",
    "'''\n",
    "for idx, each_df in enumerate(dfs):\n",
    "    for idx2, column in enumerate(each_df.columns):\n",
    "        print(f'({idx}/{len(dfs)}/{filenames[idx]}) ({idx2}/{len(each_df.columns)} column: {column} value: {list(each_df[column].unique())}')\n",
    "'''"
   ]
  }
 ],
 "metadata": {
  "kernelspec": {
   "display_name": ".venv",
   "language": "python",
   "name": "python3"
  },
  "language_info": {
   "codemirror_mode": {
    "name": "ipython",
    "version": 3
   },
   "file_extension": ".py",
   "mimetype": "text/x-python",
   "name": "python",
   "nbconvert_exporter": "python",
   "pygments_lexer": "ipython3",
   "version": "3.13.0"
  }
 },
 "nbformat": 4,
 "nbformat_minor": 5
}
