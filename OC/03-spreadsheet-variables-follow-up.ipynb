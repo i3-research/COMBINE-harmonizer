{
 "cells": [
  {
   "cell_type": "code",
   "execution_count": 1,
   "id": "5373e02d-9bc0-492a-a2ae-2ecb09327493",
   "metadata": {
    "execution": {
     "iopub.execute_input": "2025-05-06T10:33:35.339354Z",
     "iopub.status.busy": "2025-05-06T10:33:35.338871Z",
     "iopub.status.idle": "2025-05-06T10:33:36.522908Z",
     "shell.execute_reply": "2025-05-06T10:33:36.522595Z"
    },
    "tags": []
   },
   "outputs": [],
   "source": [
    "import pandas as pd\n",
    "import os\n",
    "\n",
    "import COMBINE_harmonizer\n",
    "from COMBINE_harmonizer import cfg"
   ]
  },
  {
   "cell_type": "markdown",
   "id": "d3bd4ee1",
   "metadata": {},
   "source": [
    "## 01. init"
   ]
  },
  {
   "cell_type": "code",
   "execution_count": 2,
   "id": "99b19c4f",
   "metadata": {
    "execution": {
     "iopub.execute_input": "2025-05-06T10:33:36.524556Z",
     "iopub.status.busy": "2025-05-06T10:33:36.524420Z",
     "iopub.status.idle": "2025-05-06T10:33:36.526154Z",
     "shell.execute_reply": "2025-05-06T10:33:36.525954Z"
    }
   },
   "outputs": [],
   "source": [
    "study_name = COMBINE_harmonizer.STUDY_OC\n",
    "sheet_name = COMBINE_harmonizer.SHEET_FOLLOW_UP\n",
    "\n",
    "root_dir = '..'"
   ]
  },
  {
   "cell_type": "code",
   "execution_count": 3,
   "id": "5fa89fc1",
   "metadata": {
    "execution": {
     "iopub.execute_input": "2025-05-06T10:33:36.527273Z",
     "iopub.status.busy": "2025-05-06T10:33:36.527203Z",
     "iopub.status.idle": "2025-05-06T10:33:36.530385Z",
     "shell.execute_reply": "2025-05-06T10:33:36.530173Z"
    }
   },
   "outputs": [],
   "source": [
    "COMBINE_harmonizer.init(f'{root_dir}/config.yaml')"
   ]
  },
  {
   "cell_type": "markdown",
   "id": "3e109a38-3a4c-4923-9722-d0c287868f79",
   "metadata": {},
   "source": [
    "## 02. Dictionary"
   ]
  },
  {
   "cell_type": "code",
   "execution_count": 4,
   "id": "30610bbf-afc7-4824-aa35-a2933ed733cd",
   "metadata": {
    "execution": {
     "iopub.execute_input": "2025-05-06T10:33:36.531531Z",
     "iopub.status.busy": "2025-05-06T10:33:36.531456Z",
     "iopub.status.idle": "2025-05-06T10:33:36.533065Z",
     "shell.execute_reply": "2025-05-06T10:33:36.532839Z"
    },
    "tags": []
   },
   "outputs": [],
   "source": [
    "data_dict_filename = f'{root_dir}/Dictionary_HIE_clinical_variables.xlsx'"
   ]
  },
  {
   "cell_type": "code",
   "execution_count": 5,
   "id": "0e9f0649-2462-46b2-90fe-d3b901ee9d22",
   "metadata": {
    "execution": {
     "iopub.execute_input": "2025-05-06T10:33:36.534167Z",
     "iopub.status.busy": "2025-05-06T10:33:36.534093Z",
     "iopub.status.idle": "2025-05-06T10:33:36.889904Z",
     "shell.execute_reply": "2025-05-06T10:33:36.889555Z"
    },
    "tags": []
   },
   "outputs": [],
   "source": [
    "df_dict = COMBINE_harmonizer.load_data_dict(data_dict_filename, sheet_name)"
   ]
  },
  {
   "cell_type": "code",
   "execution_count": 6,
   "id": "9cadb09f-06c4-42be-898f-2bb023f31ce8",
   "metadata": {
    "execution": {
     "iopub.execute_input": "2025-05-06T10:33:36.891317Z",
     "iopub.status.busy": "2025-05-06T10:33:36.891241Z",
     "iopub.status.idle": "2025-05-06T10:33:36.892924Z",
     "shell.execute_reply": "2025-05-06T10:33:36.892677Z"
    },
    "tags": []
   },
   "outputs": [],
   "source": [
    "dict_columns = list(df_dict[study_name].unique())"
   ]
  },
  {
   "cell_type": "markdown",
   "id": "a71bc477-2840-4bb2-809d-69e4ccfef2b7",
   "metadata": {},
   "source": [
    "## 03. OC"
   ]
  },
  {
   "cell_type": "code",
   "execution_count": 7,
   "id": "6310a3d3-ffb2-4fe9-af9d-1221585e737d",
   "metadata": {
    "execution": {
     "iopub.execute_input": "2025-05-06T10:33:36.894186Z",
     "iopub.status.busy": "2025-05-06T10:33:36.894103Z",
     "iopub.status.idle": "2025-05-06T10:33:36.895619Z",
     "shell.execute_reply": "2025-05-06T10:33:36.895403Z"
    },
    "tags": []
   },
   "outputs": [],
   "source": [
    "the_dir = cfg.config[f'{study_name}_follow_up_dir']"
   ]
  },
  {
   "cell_type": "code",
   "execution_count": 8,
   "id": "9e08200b",
   "metadata": {
    "execution": {
     "iopub.execute_input": "2025-05-06T10:33:36.896690Z",
     "iopub.status.busy": "2025-05-06T10:33:36.896619Z",
     "iopub.status.idle": "2025-05-06T10:33:37.005485Z",
     "shell.execute_reply": "2025-05-06T10:33:37.005135Z"
    }
   },
   "outputs": [],
   "source": [
    "filenames = os.listdir(the_dir)\n",
    "filenames.sort()\n",
    "\n",
    "full_filenames = [os.sep.join([the_dir, each_filename]) for each_filename in filenames]"
   ]
  },
  {
   "cell_type": "code",
   "execution_count": 9,
   "id": "65974a67",
   "metadata": {
    "execution": {
     "iopub.execute_input": "2025-05-06T10:33:37.007245Z",
     "iopub.status.busy": "2025-05-06T10:33:37.007122Z",
     "iopub.status.idle": "2025-05-06T10:33:37.009144Z",
     "shell.execute_reply": "2025-05-06T10:33:37.008822Z"
    }
   },
   "outputs": [],
   "source": [
    "analysis_dir = cfg.config[f'{study_name}_analysis_dir']"
   ]
  },
  {
   "cell_type": "code",
   "execution_count": 10,
   "id": "fabeeb70",
   "metadata": {
    "execution": {
     "iopub.execute_input": "2025-05-06T10:33:37.010884Z",
     "iopub.status.busy": "2025-05-06T10:33:37.010725Z",
     "iopub.status.idle": "2025-05-06T10:33:37.034413Z",
     "shell.execute_reply": "2025-05-06T10:33:37.034066Z"
    }
   },
   "outputs": [],
   "source": [
    "analysis_filenames = os.listdir(analysis_dir)\n",
    "analysis_filenames.sort()\n",
    "\n",
    "full_analysis_filenames = [os.sep.join([analysis_dir, each_filename]) for each_filename in analysis_filenames]"
   ]
  },
  {
   "cell_type": "code",
   "execution_count": 11,
   "id": "76e1f68c-ab99-4dd8-866a-6f47eae4e5f7",
   "metadata": {
    "execution": {
     "iopub.execute_input": "2025-05-06T10:33:37.036337Z",
     "iopub.status.busy": "2025-05-06T10:33:37.036182Z",
     "iopub.status.idle": "2025-05-06T10:33:37.529762Z",
     "shell.execute_reply": "2025-05-06T10:33:37.528982Z"
    },
    "tags": []
   },
   "outputs": [],
   "source": [
    "all_filenames = filenames + analysis_filenames\n",
    "full_all_filenames = full_filenames + full_analysis_filenames\n",
    "dfs = [pd.read_csv(each_filename) for each_filename in full_all_filenames]"
   ]
  },
  {
   "cell_type": "markdown",
   "id": "8b878f62",
   "metadata": {},
   "source": [
    "### 03.1. check columns in each file"
   ]
  },
  {
   "cell_type": "code",
   "execution_count": 12,
   "id": "49108f3f-8055-4760-8cd0-2669262a93fa",
   "metadata": {
    "execution": {
     "iopub.execute_input": "2025-05-06T10:33:37.534313Z",
     "iopub.status.busy": "2025-05-06T10:33:37.533875Z",
     "iopub.status.idle": "2025-05-06T10:33:37.539681Z",
     "shell.execute_reply": "2025-05-06T10:33:37.539193Z"
    }
   },
   "outputs": [
    {
     "name": "stdout",
     "output_type": "stream",
     "text": [
      "(0/12) filename: of01.csv columns: ['LHFOLNUM', 'SITENM', 'LAST', 'FIRST', 'HTHRM_ID', 'PROTID02', 'PROTID03', 'PROTID04', 'PROTID05', 'PROTID06', 'PROTID07', 'PROTID08', 'PROTID09', 'PROTID10', 'PROTID11', 'PROTID12', 'PROTID13', 'PROTID14', 'PROTID15', 'PROTID16', 'PROTID17', 'PROTID18', 'PROTID19', 'PROTID20', 'REC_CMP', 'CENTER', 'BIRTHDT', 'VISITDT', 'BIRTHNM', 'PREVCNTR', 'CMP_DATE', 'CRT_DATE']\n",
      "(1/12) filename: of03.csv columns: ['LHFOLNUM', 'CFSUPER', 'NF3MONEY', 'CFWKPCAR', 'CFWKOCAR', 'CFSCCARE', 'CFSCADUL', 'CFOTHLAN', 'CFSECLAN', 'CFOTHSEC', 'CFNDNRSV', 'CFNDNRSH', 'CFNDOTPT', 'CFNDSPCH', 'CFNDEALY', 'CFNDSOCL', 'CFNDPUL', 'CFNDOPH', 'CFNDGAS', 'CFNDAUD', 'CFNDNEU', 'CFNDOTH', 'CFCVOSP', 'CFNDEVAL', 'CFREGDR', 'CFCCFAC', 'CFCAROT', 'CFTRDYCR', 'CFSPDYCR', 'CFHMDYCR', 'CFBBYSIT', 'CFINITS', 'REC_CMP', 'CENTER', 'CFVISDT', 'CFBRTHDT', 'CFCHRAGE', 'CFADJAGE', 'CFCARE', 'CFOCAR', 'CFMARITL', 'CFLIVING', 'CFPEOPLE', 'CFGRPCAR', 'CFGROCAR', 'CFINSUR', 'CFLANG', 'CFSECOND', 'CFNMPLLV', 'CFNURSEV', 'CFNURSEH', 'CFOTPT', 'CFSPEECH', 'CFEARLY', 'CFSOCIAL', 'CFCVPUL', 'CFCVOPH', 'CFCVGAS', 'CFCVAUD', 'CFCVNEU', 'CFCVOTH', 'CFEVAL', 'CFTRDCHR', 'CFSPDCHR', 'CFSPDCLC', 'CFHMDCHR', 'CFHMDCLC', 'CFBSITHR', 'CFBABSTR', 'CFPRRESP', 'CFPLACE', 'CFCOMPDT', 'CMP_DATE', 'CRT_DATE']\n",
      "(2/12) filename: of04.csv columns: ['LHFOLNUM', 'DFREHOSP', 'DFOPERAT', 'DFOPTYMP', 'DFOPTRAC', 'DFOP_EYE', 'DFOPHERN', 'DFOPGAST', 'DFOPFUND', 'DFOPSHUN', 'DFOPREAN', 'DFOPPDA', 'DFOPBRON', 'DFOPHYPO', 'DFOPOTH', 'DFOPOTHS', 'DFMEDIC', 'NF4OTHSP', 'DFSEIZ', 'DFRECVD', 'DFFLUSHT', 'DFRSVPRO', 'DFSELF', 'DFASSIST', 'DFTUBFED', 'DF_TPN', 'DF_MILK', 'DFTBLFOD', 'DFSFTFOD', 'DFLIQUID', 'DFTHKLQD', 'DFEQUIP', 'DFSTROLL', 'DFBRACES', 'DFWALKER', 'DFSTNDER', 'DFCNRCHR', 'NF4LOCSP', 'DFINITS', 'REC_CMP', 'OF4FTNEC', 'CENTER', 'DFTIMES', 'DFOPEYER', 'NF4NUTRI', 'NF4CALOR', 'NF4DIUR', 'NF4RFLUX', 'NF4BRONC', 'DFIHSTRD', 'DFOLSTRD', 'DFOASMA', 'DFALGYMD', 'NF4ANTCV', 'DFPRANTI', 'DFANTBIO', 'DFCNSPAT', 'DFBPMED', 'DFTHYRD', 'DFMRELAX', 'DFBOTOX', 'NF4OTMDS', 'DFAPNEA', 'DFOXYGEN', 'DFVENT', 'DFTUBE', 'DFTRACH', 'DFPLSEOX', 'DFPLACE', 'DFCOMPDT', 'CMP_DATE', 'CRT_DATE']\n",
      "(3/12) filename: of04a.csv columns: ['LHFOLNUM', 'DFINITSA', 'REC_CMP', 'CENTER', 'DFDISDT', 'DFBRDYDT', 'DFPLACEA', 'DFCMPDTA', 'CMP_DATE', 'CRT_DATE']\n",
      "(4/12) filename: of04ar.csv columns: ['LHFOLNUM', 'NF4AROTS', 'OFTIMICU', 'REC_CMP', 'CENTER', 'DFREADNM', 'DFTIMEA', 'DFCAUSE', 'OFLENOHS', 'CMP_DATE', 'CRT_DATE']\n",
      "(5/12) filename: of05.csv columns: ['LHFOLNUM', 'EFAUDIO', 'EFCONPEN', 'NF5VRA', 'NF5ABR', 'NF5UKHR', 'NF5DYSPH', 'NF5ASPIR', 'NF5ABVOC', 'NF5DROOL', 'NF5NPO', 'EFABREST', 'EFSHORTR', 'EFSLOWR', 'EFTREMRR', 'NF5SCISS', 'EFDGNORM', 'EFHYPOT', 'EFHYPERT', 'EFOTHER', 'NF5OCPSP', 'EFQUADR', 'EFDIPLEG', 'EFHEMRT', 'EFHEMLT', 'OF5DYSTO', 'OF5ATCHA', 'OF5ATAXI', 'OFCPUN', 'OFCPUNDE', 'OFCERPAL', 'OFCLPAL', 'EFCONGEN', 'EFCONGSP', 'NF5LOCSP', 'NF5FACSP', 'EFINITS', 'REC_CMP', 'CENTER', 'EFWEIGHT', 'EFLENGTH', 'EFHC', 'NF5STRRT', 'NF5STRLT', 'NF5NYSRT', 'NF5NYSLT', 'NF5ROVRT', 'NF5ROVLT', 'NF5TRKRT', 'NF5TRKLT', 'EFVISINR', 'EFVISINL', 'NF5VRART', 'NF5VRALT', 'NF5VRASN', 'NF5ABRRT', 'NF5ABRLT', 'NF5UKHRT', 'NF5UKHLT', 'EFHEARIM', 'EFHRDIS', 'OFIMPLAN', 'EFSWALL', 'NF5NCTRK', 'NF5UPEXR', 'NF5UPEXL', 'NF5HPKNR', 'NF5HPKNL', 'NF5ANKLR', 'NF5ANKLL', 'NF5GROSS', 'NF5HNDPF', 'NF5PRORF', 'NF5LMBUP', 'NF5LMBLW', 'NF5UPRRT', 'NF5UPRLT', 'NF5KNERT', 'NF5KNELT', 'NF5AKLRT', 'NF5AKLLT', 'NF5CLNRT', 'NF5CLNLT', 'NF5PLNRT', 'NF5PLNLT', 'EFAXISHD', 'EFAXTRNK', 'EFLWRLMB', 'EFUPRLMB', 'EFRHAND', 'EFLHAND', 'EFPLACE', 'NF5QUALT', 'NF5FACTR', 'EFCOMPDT', 'CMP_DATE', 'CRT_DATE']\n",
      "(6/12) filename: of09a.csv columns: ['LHFOLNUM', 'NF9ACSU', 'NF9ACSUS', 'NF9ALRC', 'NF9ALRCS', 'NF9ALEC', 'NF9ALECS', 'NF9AMFN', 'NF9AMFNS', 'NF9AMGR', 'NF9AMGRS', 'NF9ABSEN', 'NF9ABSIN', 'NF9ABSMK', 'NF9AINIT', 'REC_CMP', 'CENTER', 'NF9ACSUR', 'NF9ALRCR', 'NF9ALECR', 'NF9AMFNR', 'NF9AMGRR', 'NF9AAACS', 'NF9AAARC', 'NF9AAAEC', 'NF9AAAMF', 'NF9AAAMG', 'NF9ABSCR', 'NF9ABSCS', 'NF9ABSCC', 'NF9ABSRR', 'NF9ABSRS', 'NF9ABSER', 'NF9ABSES', 'NF9ABSLS', 'NF9ABSLC', 'NF9AMFRW', 'NF9AMFSS', 'NF9AMGRW', 'NF9AMGSS', 'NF9AMGSM', 'NF9AMCMP', 'NF9AWEC', 'NF9ADATE', 'CMP_DATE', 'CRT_DATE']\n",
      "(7/12) filename: of10.csv columns: ['LHFOLNUM', 'JFINITS', 'REC_CMP', 'CENTER', 'JFBRTDT', 'NF10VSDT', 'JFSTATUS', 'JFDTHDT', 'OFCAUSOD', 'JFREASN', 'JFCOMPDT', 'NF10CNTR', 'CMP_DATE', 'CRT_DATE']\n",
      "(8/12) filename: of11.csv columns: ['LHFOLNUM', 'KFSESDIS', 'KFSES18', 'KFMEDHIS', 'KFREADM', 'KFINFEXM', 'KFBAYLE3', 'KFSTATFM', 'KFLOSTFM', 'KFINITS', 'REC_CMP', 'CENTER', 'KFFSTDT', 'KFSECDT', 'KFCOMPDT', 'CMP_DATE', 'CRT_DATE']\n",
      "(9/12) filename: of12.csv columns: ['LHFOLNUM', 'LFOSOURC', 'LFALIVE', 'LFINTERV', 'LFCHART2', 'LFWALK', 'LFSITTIN', 'LFHEAD', 'LFSEE', 'LFEYEQ', 'NF12GLAS', 'LFHEAR', 'LFHEARQ', 'LFHEAIDQ', 'NF12C2WD', 'NF12C3WD', 'LFHYDROQ', 'LFCPQ', 'LFDEVDQ', 'LFLANDQ', 'LFWEIGHQ', 'LFSEIZUQ', 'LFBLINDQ', 'NF12BHPB', 'NF12BHDS', 'NF12MDPB', 'NF12MDDS', 'NF12NRPB', 'NF12NRDS', 'LFINITA', 'NF12CHBD', 'NF12CHMD', 'NF12CHND', 'NF12INIT', 'REC_CMP', 'CENTER', 'LFCONTDT', 'LFCOMPDT', 'LFADJAGE', 'LFDTHDT', 'LFINTDT', 'LFINTAGE', 'LFCHARDT', 'LFCHARAG', 'LFHEALTH', 'LFWKAGE', 'NF12NMWD', 'OF12GMFL', 'LFEYEC', 'LFHEARC', 'LFHEAIDC', 'LFHYDROC', 'LFCPC', 'LFDEVDEC', 'LFLANDEC', 'LFWEIGHC', 'LFSEIZUC', 'NF12BLND', 'NF12CHBH', 'NF12CHMM', 'NF12CHNR', 'OF12CHGM', 'CMP_DATE', 'CRT_DATE']\n",
      "(10/12) filename: analysis.csv columns: ['HTHRM_ID', 'CENTER', 'ocfolnum', 'fcenter', 'trt_dur', 'trt_temp', 'hie_fix', 'blindness', 'hearing', 'hear_imp', 'gross', 'cp_out', 'modsevcp', 'bayley3', 'b3_lang', 'b3_motor', 'mult_imp', 'death18', 'gas_tube', 'all_norm', 'adjudicate', 'age_death', 'apg10_lt5', 'mom_ed', 'anticon_0', 'inot_0', 'any_inot', 'ecsect', 'male', 'apgar5_5', 'apgar10_5', 'age_rand', 'hosp_die', 'any_antic', 'any_seiz', 'seiz_fu', 'disab_ms', 'disab_4', 'disab_die', 'disab_die4', 'other_cere', 'edema', 'use_od', 'use_pi', 'out_grp', 'use_MRIage', 'use_hemi', 'frontal', 'pariet', 'tempo', 'occip', 'cereb_any', 'fp_max', 'pt_max', 'to_max', 'para_max', 'per_max', 'peri_max', 'ins_max', 'vent_max', 'bel_max', 'cr_max', 'hip_max', 'bs_max', 'pit_max', 'hy_max', 'op_max', 'ex_max', 's_max', 'bg_max', 't_max', 'cc_max', 'vas_max', 'oth_max', 'po_max', 'use_infarc', 'use_atrophy', 'use_global', 'use_ccthin', 'use_vd', 'new_bgt', 'new_plic', 'new_water', 'new_wmi', 'extent_num', 'lateral_num', 'hemi_lat', 'all_cere', 'mri_subgrp', 'mri_abn', 'public', 'new_patt', 'MRI_2cat', 'any_pse', 'acidosis', 'usualc', 'dual_ph', 'use_ph', 'dual_base', 'use_base', 'race']\n",
      "(11/12) filename: ocout.csv columns: ['HTHRM_ID', 'CENTER', 'ocfolnum', 'fcenter', 'trt_dur', 'trt_temp', 'hie_fix', 'blindness', 'hearing', 'hear_imp', 'gross', 'cp_out', 'modsevcp', 'bayley3', 'b3_lang', 'b3_motor', 'mult_imp', 'death18', 'gas_tube', 'all_norm', 'adjudicate', 'age_death', 'apg10_lt5', 'mom_ed', 'anticon_0', 'inot_0', 'any_inot', 'ecsect', 'male', 'apgar5_5', 'apgar10_5', 'age_rand', 'hosp_die', 'any_antic', 'any_seiz', 'seiz_fu', 'disab_ms', 'disab_4', 'disab_die', 'disab_die4', 'other_cere', 'edema', 'use_od', 'use_pi', 'out_grp', 'use_MRIage', 'use_hemi', 'frontal', 'pariet', 'tempo', 'occip', 'cereb_any', 'fp_max', 'pt_max', 'to_max', 'para_max', 'per_max', 'peri_max', 'ins_max', 'vent_max', 'bel_max', 'cr_max', 'hip_max', 'bs_max', 'pit_max', 'hy_max', 'op_max', 'ex_max', 's_max', 'bg_max', 't_max', 'cc_max', 'vas_max', 'oth_max', 'po_max', 'use_infarc', 'use_atrophy', 'use_global', 'use_ccthin', 'use_vd', 'new_bgt', 'new_plic', 'new_water', 'new_wmi', 'extent_num', 'lateral_num', 'hemi_lat', 'all_cere', 'mri_subgrp', 'mri_abn', 'public', 'new_patt', 'MRI_2cat', 'any_pse', 'acidosis', 'usualc', 'dual_ph', 'use_ph', 'dual_base', 'use_base', 'race']\n"
     ]
    }
   ],
   "source": [
    "for idx, each_df in enumerate(dfs):\n",
    "    print(f'({idx}/{len(dfs)}) filename: {all_filenames[idx]} columns: {list(each_df.columns)}')"
   ]
  },
  {
   "cell_type": "markdown",
   "id": "c416cf0a",
   "metadata": {},
   "source": [
    "### 03.2 all columns"
   ]
  },
  {
   "cell_type": "code",
   "execution_count": 13,
   "id": "ca197be2-3085-4e01-b0c2-e0fab55a4bf9",
   "metadata": {
    "execution": {
     "iopub.execute_input": "2025-05-06T10:33:37.543398Z",
     "iopub.status.busy": "2025-05-06T10:33:37.543263Z",
     "iopub.status.idle": "2025-05-06T10:33:37.552644Z",
     "shell.execute_reply": "2025-05-06T10:33:37.552351Z"
    }
   },
   "outputs": [],
   "source": [
    "all_columns = []\n",
    "for idx, each_df in enumerate(dfs):\n",
    "    all_columns += list(map(lambda x: {'column': x, 'idx': idx, 'filename': all_filenames[idx]}, list(each_df.columns)))\n",
    "df_columns = pd.DataFrame(all_columns)\n",
    "df_columns['column:filename'] = df_columns.apply(lambda x: f\"{x['column']}:{x['filename']}\", axis=1)\n",
    "df_columns['column:filename:idx'] = df_columns.apply(lambda x: f\"{x['column']}:{x['filename']}:{x['idx']}\", axis=1)\n",
    "df_columns.sort_values(by=['filename', 'column'], inplace=True)"
   ]
  },
  {
   "cell_type": "code",
   "execution_count": 14,
   "id": "69334595-218f-4f14-86d6-f429ef997c61",
   "metadata": {
    "execution": {
     "iopub.execute_input": "2025-05-06T10:33:37.554187Z",
     "iopub.status.busy": "2025-05-06T10:33:37.554096Z",
     "iopub.status.idle": "2025-05-06T10:33:37.562936Z",
     "shell.execute_reply": "2025-05-06T10:33:37.562681Z"
    }
   },
   "outputs": [
    {
     "data": {
      "text/html": [
       "<div>\n",
       "<style scoped>\n",
       "    .dataframe tbody tr th:only-of-type {\n",
       "        vertical-align: middle;\n",
       "    }\n",
       "\n",
       "    .dataframe tbody tr th {\n",
       "        vertical-align: top;\n",
       "    }\n",
       "\n",
       "    .dataframe thead th {\n",
       "        text-align: right;\n",
       "    }\n",
       "</style>\n",
       "<table border=\"1\" class=\"dataframe\">\n",
       "  <thead>\n",
       "    <tr style=\"text-align: right;\">\n",
       "      <th></th>\n",
       "      <th>column</th>\n",
       "      <th>idx</th>\n",
       "      <th>filename</th>\n",
       "      <th>column:filename</th>\n",
       "      <th>column:filename:idx</th>\n",
       "    </tr>\n",
       "  </thead>\n",
       "  <tbody>\n",
       "    <tr>\n",
       "      <th>438</th>\n",
       "      <td>CENTER</td>\n",
       "      <td>10</td>\n",
       "      <td>analysis.csv</td>\n",
       "      <td>CENTER:analysis.csv</td>\n",
       "      <td>CENTER:analysis.csv:10</td>\n",
       "    </tr>\n",
       "    <tr>\n",
       "      <th>437</th>\n",
       "      <td>HTHRM_ID</td>\n",
       "      <td>10</td>\n",
       "      <td>analysis.csv</td>\n",
       "      <td>HTHRM_ID:analysis.csv</td>\n",
       "      <td>HTHRM_ID:analysis.csv:10</td>\n",
       "    </tr>\n",
       "    <tr>\n",
       "      <th>529</th>\n",
       "      <td>MRI_2cat</td>\n",
       "      <td>10</td>\n",
       "      <td>analysis.csv</td>\n",
       "      <td>MRI_2cat:analysis.csv</td>\n",
       "      <td>MRI_2cat:analysis.csv:10</td>\n",
       "    </tr>\n",
       "    <tr>\n",
       "      <th>531</th>\n",
       "      <td>acidosis</td>\n",
       "      <td>10</td>\n",
       "      <td>analysis.csv</td>\n",
       "      <td>acidosis:analysis.csv</td>\n",
       "      <td>acidosis:analysis.csv:10</td>\n",
       "    </tr>\n",
       "    <tr>\n",
       "      <th>457</th>\n",
       "      <td>adjudicate</td>\n",
       "      <td>10</td>\n",
       "      <td>analysis.csv</td>\n",
       "      <td>adjudicate:analysis.csv</td>\n",
       "      <td>adjudicate:analysis.csv:10</td>\n",
       "    </tr>\n",
       "    <tr>\n",
       "      <th>...</th>\n",
       "      <td>...</td>\n",
       "      <td>...</td>\n",
       "      <td>...</td>\n",
       "      <td>...</td>\n",
       "      <td>...</td>\n",
       "    </tr>\n",
       "    <tr>\n",
       "      <th>401</th>\n",
       "      <td>NF12NRDS</td>\n",
       "      <td>9</td>\n",
       "      <td>of12.csv</td>\n",
       "      <td>NF12NRDS:of12.csv</td>\n",
       "      <td>NF12NRDS:of12.csv:9</td>\n",
       "    </tr>\n",
       "    <tr>\n",
       "      <th>400</th>\n",
       "      <td>NF12NRPB</td>\n",
       "      <td>9</td>\n",
       "      <td>of12.csv</td>\n",
       "      <td>NF12NRPB:of12.csv</td>\n",
       "      <td>NF12NRPB:of12.csv:9</td>\n",
       "    </tr>\n",
       "    <tr>\n",
       "      <th>434</th>\n",
       "      <td>OF12CHGM</td>\n",
       "      <td>9</td>\n",
       "      <td>of12.csv</td>\n",
       "      <td>OF12CHGM:of12.csv</td>\n",
       "      <td>OF12CHGM:of12.csv:9</td>\n",
       "    </tr>\n",
       "    <tr>\n",
       "      <th>420</th>\n",
       "      <td>OF12GMFL</td>\n",
       "      <td>9</td>\n",
       "      <td>of12.csv</td>\n",
       "      <td>OF12GMFL:of12.csv</td>\n",
       "      <td>OF12GMFL:of12.csv:9</td>\n",
       "    </tr>\n",
       "    <tr>\n",
       "      <th>407</th>\n",
       "      <td>REC_CMP</td>\n",
       "      <td>9</td>\n",
       "      <td>of12.csv</td>\n",
       "      <td>REC_CMP:of12.csv</td>\n",
       "      <td>REC_CMP:of12.csv:9</td>\n",
       "    </tr>\n",
       "  </tbody>\n",
       "</table>\n",
       "<p>639 rows × 5 columns</p>\n",
       "</div>"
      ],
      "text/plain": [
       "         column  idx      filename          column:filename  \\\n",
       "438      CENTER   10  analysis.csv      CENTER:analysis.csv   \n",
       "437    HTHRM_ID   10  analysis.csv    HTHRM_ID:analysis.csv   \n",
       "529    MRI_2cat   10  analysis.csv    MRI_2cat:analysis.csv   \n",
       "531    acidosis   10  analysis.csv    acidosis:analysis.csv   \n",
       "457  adjudicate   10  analysis.csv  adjudicate:analysis.csv   \n",
       "..          ...  ...           ...                      ...   \n",
       "401    NF12NRDS    9      of12.csv        NF12NRDS:of12.csv   \n",
       "400    NF12NRPB    9      of12.csv        NF12NRPB:of12.csv   \n",
       "434    OF12CHGM    9      of12.csv        OF12CHGM:of12.csv   \n",
       "420    OF12GMFL    9      of12.csv        OF12GMFL:of12.csv   \n",
       "407     REC_CMP    9      of12.csv         REC_CMP:of12.csv   \n",
       "\n",
       "            column:filename:idx  \n",
       "438      CENTER:analysis.csv:10  \n",
       "437    HTHRM_ID:analysis.csv:10  \n",
       "529    MRI_2cat:analysis.csv:10  \n",
       "531    acidosis:analysis.csv:10  \n",
       "457  adjudicate:analysis.csv:10  \n",
       "..                          ...  \n",
       "401         NF12NRDS:of12.csv:9  \n",
       "400         NF12NRPB:of12.csv:9  \n",
       "434         OF12CHGM:of12.csv:9  \n",
       "420         OF12GMFL:of12.csv:9  \n",
       "407          REC_CMP:of12.csv:9  \n",
       "\n",
       "[639 rows x 5 columns]"
      ]
     },
     "execution_count": 14,
     "metadata": {},
     "output_type": "execute_result"
    }
   ],
   "source": [
    "df_columns"
   ]
  },
  {
   "cell_type": "code",
   "execution_count": 15,
   "id": "5e7be417",
   "metadata": {
    "execution": {
     "iopub.execute_input": "2025-05-06T10:33:37.564127Z",
     "iopub.status.busy": "2025-05-06T10:33:37.564042Z",
     "iopub.status.idle": "2025-05-06T10:33:37.569185Z",
     "shell.execute_reply": "2025-05-06T10:33:37.568924Z"
    }
   },
   "outputs": [
    {
     "data": {
      "text/html": [
       "<div>\n",
       "<style scoped>\n",
       "    .dataframe tbody tr th:only-of-type {\n",
       "        vertical-align: middle;\n",
       "    }\n",
       "\n",
       "    .dataframe tbody tr th {\n",
       "        vertical-align: top;\n",
       "    }\n",
       "\n",
       "    .dataframe thead th {\n",
       "        text-align: right;\n",
       "    }\n",
       "</style>\n",
       "<table border=\"1\" class=\"dataframe\">\n",
       "  <thead>\n",
       "    <tr style=\"text-align: right;\">\n",
       "      <th></th>\n",
       "      <th>_count</th>\n",
       "    </tr>\n",
       "    <tr>\n",
       "      <th>column</th>\n",
       "      <th></th>\n",
       "    </tr>\n",
       "  </thead>\n",
       "  <tbody>\n",
       "    <tr>\n",
       "      <th>CENTER</th>\n",
       "      <td>12</td>\n",
       "    </tr>\n",
       "    <tr>\n",
       "      <th>LHFOLNUM</th>\n",
       "      <td>10</td>\n",
       "    </tr>\n",
       "    <tr>\n",
       "      <th>REC_CMP</th>\n",
       "      <td>10</td>\n",
       "    </tr>\n",
       "    <tr>\n",
       "      <th>CRT_DATE</th>\n",
       "      <td>10</td>\n",
       "    </tr>\n",
       "    <tr>\n",
       "      <th>CMP_DATE</th>\n",
       "      <td>10</td>\n",
       "    </tr>\n",
       "    <tr>\n",
       "      <th>HTHRM_ID</th>\n",
       "      <td>3</td>\n",
       "    </tr>\n",
       "    <tr>\n",
       "      <th>vent_max</th>\n",
       "      <td>2</td>\n",
       "    </tr>\n",
       "    <tr>\n",
       "      <th>edema</th>\n",
       "      <td>2</td>\n",
       "    </tr>\n",
       "    <tr>\n",
       "      <th>death18</th>\n",
       "      <td>2</td>\n",
       "    </tr>\n",
       "    <tr>\n",
       "      <th>disab_4</th>\n",
       "      <td>2</td>\n",
       "    </tr>\n",
       "    <tr>\n",
       "      <th>disab_die</th>\n",
       "      <td>2</td>\n",
       "    </tr>\n",
       "    <tr>\n",
       "      <th>disab_die4</th>\n",
       "      <td>2</td>\n",
       "    </tr>\n",
       "    <tr>\n",
       "      <th>disab_ms</th>\n",
       "      <td>2</td>\n",
       "    </tr>\n",
       "    <tr>\n",
       "      <th>dual_base</th>\n",
       "      <td>2</td>\n",
       "    </tr>\n",
       "    <tr>\n",
       "      <th>dual_ph</th>\n",
       "      <td>2</td>\n",
       "    </tr>\n",
       "    <tr>\n",
       "      <th>ecsect</th>\n",
       "      <td>2</td>\n",
       "    </tr>\n",
       "    <tr>\n",
       "      <th>extent_num</th>\n",
       "      <td>2</td>\n",
       "    </tr>\n",
       "    <tr>\n",
       "      <th>ex_max</th>\n",
       "      <td>2</td>\n",
       "    </tr>\n",
       "    <tr>\n",
       "      <th>cp_out</th>\n",
       "      <td>2</td>\n",
       "    </tr>\n",
       "    <tr>\n",
       "      <th>fcenter</th>\n",
       "      <td>2</td>\n",
       "    </tr>\n",
       "  </tbody>\n",
       "</table>\n",
       "</div>"
      ],
      "text/plain": [
       "            _count\n",
       "column            \n",
       "CENTER          12\n",
       "LHFOLNUM        10\n",
       "REC_CMP         10\n",
       "CRT_DATE        10\n",
       "CMP_DATE        10\n",
       "HTHRM_ID         3\n",
       "vent_max         2\n",
       "edema            2\n",
       "death18          2\n",
       "disab_4          2\n",
       "disab_die        2\n",
       "disab_die4       2\n",
       "disab_ms         2\n",
       "dual_base        2\n",
       "dual_ph          2\n",
       "ecsect           2\n",
       "extent_num       2\n",
       "ex_max           2\n",
       "cp_out           2\n",
       "fcenter          2"
      ]
     },
     "execution_count": 15,
     "metadata": {},
     "output_type": "execute_result"
    }
   ],
   "source": [
    "df_columns_count = df_columns.groupby(['column']).agg(_count=('column', 'count')).sort_values(by=['_count'], ascending=False)\n",
    "df_columns_count.head(20)"
   ]
  },
  {
   "cell_type": "markdown",
   "id": "40acbcf5-b8eb-412a-9da9-573e7245403b",
   "metadata": {},
   "source": [
    "### 03.3 check LHFOLNUM"
   ]
  },
  {
   "cell_type": "code",
   "execution_count": 16,
   "id": "8fc95b09-c008-41f1-9fd9-12674077cb03",
   "metadata": {
    "execution": {
     "iopub.execute_input": "2025-05-06T10:33:37.570532Z",
     "iopub.status.busy": "2025-05-06T10:33:37.570451Z",
     "iopub.status.idle": "2025-05-06T10:33:37.574211Z",
     "shell.execute_reply": "2025-05-06T10:33:37.573955Z"
    }
   },
   "outputs": [
    {
     "data": {
      "text/html": [
       "<div>\n",
       "<style scoped>\n",
       "    .dataframe tbody tr th:only-of-type {\n",
       "        vertical-align: middle;\n",
       "    }\n",
       "\n",
       "    .dataframe tbody tr th {\n",
       "        vertical-align: top;\n",
       "    }\n",
       "\n",
       "    .dataframe thead th {\n",
       "        text-align: right;\n",
       "    }\n",
       "</style>\n",
       "<table border=\"1\" class=\"dataframe\">\n",
       "  <thead>\n",
       "    <tr style=\"text-align: right;\">\n",
       "      <th></th>\n",
       "      <th>column</th>\n",
       "      <th>idx</th>\n",
       "      <th>filename</th>\n",
       "      <th>column:filename</th>\n",
       "      <th>column:filename:idx</th>\n",
       "    </tr>\n",
       "  </thead>\n",
       "  <tbody>\n",
       "    <tr>\n",
       "      <th>0</th>\n",
       "      <td>LHFOLNUM</td>\n",
       "      <td>0</td>\n",
       "      <td>of01.csv</td>\n",
       "      <td>LHFOLNUM:of01.csv</td>\n",
       "      <td>LHFOLNUM:of01.csv:0</td>\n",
       "    </tr>\n",
       "    <tr>\n",
       "      <th>32</th>\n",
       "      <td>LHFOLNUM</td>\n",
       "      <td>1</td>\n",
       "      <td>of03.csv</td>\n",
       "      <td>LHFOLNUM:of03.csv</td>\n",
       "      <td>LHFOLNUM:of03.csv:1</td>\n",
       "    </tr>\n",
       "    <tr>\n",
       "      <th>106</th>\n",
       "      <td>LHFOLNUM</td>\n",
       "      <td>2</td>\n",
       "      <td>of04.csv</td>\n",
       "      <td>LHFOLNUM:of04.csv</td>\n",
       "      <td>LHFOLNUM:of04.csv:2</td>\n",
       "    </tr>\n",
       "    <tr>\n",
       "      <th>178</th>\n",
       "      <td>LHFOLNUM</td>\n",
       "      <td>3</td>\n",
       "      <td>of04a.csv</td>\n",
       "      <td>LHFOLNUM:of04a.csv</td>\n",
       "      <td>LHFOLNUM:of04a.csv:3</td>\n",
       "    </tr>\n",
       "    <tr>\n",
       "      <th>188</th>\n",
       "      <td>LHFOLNUM</td>\n",
       "      <td>4</td>\n",
       "      <td>of04ar.csv</td>\n",
       "      <td>LHFOLNUM:of04ar.csv</td>\n",
       "      <td>LHFOLNUM:of04ar.csv:4</td>\n",
       "    </tr>\n",
       "    <tr>\n",
       "      <th>199</th>\n",
       "      <td>LHFOLNUM</td>\n",
       "      <td>5</td>\n",
       "      <td>of05.csv</td>\n",
       "      <td>LHFOLNUM:of05.csv</td>\n",
       "      <td>LHFOLNUM:of05.csv:5</td>\n",
       "    </tr>\n",
       "    <tr>\n",
       "      <th>296</th>\n",
       "      <td>LHFOLNUM</td>\n",
       "      <td>6</td>\n",
       "      <td>of09a.csv</td>\n",
       "      <td>LHFOLNUM:of09a.csv</td>\n",
       "      <td>LHFOLNUM:of09a.csv:6</td>\n",
       "    </tr>\n",
       "    <tr>\n",
       "      <th>342</th>\n",
       "      <td>LHFOLNUM</td>\n",
       "      <td>7</td>\n",
       "      <td>of10.csv</td>\n",
       "      <td>LHFOLNUM:of10.csv</td>\n",
       "      <td>LHFOLNUM:of10.csv:7</td>\n",
       "    </tr>\n",
       "    <tr>\n",
       "      <th>356</th>\n",
       "      <td>LHFOLNUM</td>\n",
       "      <td>8</td>\n",
       "      <td>of11.csv</td>\n",
       "      <td>LHFOLNUM:of11.csv</td>\n",
       "      <td>LHFOLNUM:of11.csv:8</td>\n",
       "    </tr>\n",
       "    <tr>\n",
       "      <th>373</th>\n",
       "      <td>LHFOLNUM</td>\n",
       "      <td>9</td>\n",
       "      <td>of12.csv</td>\n",
       "      <td>LHFOLNUM:of12.csv</td>\n",
       "      <td>LHFOLNUM:of12.csv:9</td>\n",
       "    </tr>\n",
       "  </tbody>\n",
       "</table>\n",
       "</div>"
      ],
      "text/plain": [
       "       column  idx    filename      column:filename    column:filename:idx\n",
       "0    LHFOLNUM    0    of01.csv    LHFOLNUM:of01.csv    LHFOLNUM:of01.csv:0\n",
       "32   LHFOLNUM    1    of03.csv    LHFOLNUM:of03.csv    LHFOLNUM:of03.csv:1\n",
       "106  LHFOLNUM    2    of04.csv    LHFOLNUM:of04.csv    LHFOLNUM:of04.csv:2\n",
       "178  LHFOLNUM    3   of04a.csv   LHFOLNUM:of04a.csv   LHFOLNUM:of04a.csv:3\n",
       "188  LHFOLNUM    4  of04ar.csv  LHFOLNUM:of04ar.csv  LHFOLNUM:of04ar.csv:4\n",
       "199  LHFOLNUM    5    of05.csv    LHFOLNUM:of05.csv    LHFOLNUM:of05.csv:5\n",
       "296  LHFOLNUM    6   of09a.csv   LHFOLNUM:of09a.csv   LHFOLNUM:of09a.csv:6\n",
       "342  LHFOLNUM    7    of10.csv    LHFOLNUM:of10.csv    LHFOLNUM:of10.csv:7\n",
       "356  LHFOLNUM    8    of11.csv    LHFOLNUM:of11.csv    LHFOLNUM:of11.csv:8\n",
       "373  LHFOLNUM    9    of12.csv    LHFOLNUM:of12.csv    LHFOLNUM:of12.csv:9"
      ]
     },
     "execution_count": 16,
     "metadata": {},
     "output_type": "execute_result"
    }
   ],
   "source": [
    "is_LM3ID = df_columns['column'] == 'LHFOLNUM'\n",
    "df_columns[is_LM3ID]"
   ]
  },
  {
   "cell_type": "markdown",
   "id": "0363374f-7628-4cb8-8279-85aceeee2933",
   "metadata": {},
   "source": [
    "##### column not in dict"
   ]
  },
  {
   "cell_type": "code",
   "execution_count": 17,
   "id": "09ce2321-f69b-474d-8568-4877ca8a0d59",
   "metadata": {
    "execution": {
     "iopub.execute_input": "2025-05-06T10:33:37.575765Z",
     "iopub.status.busy": "2025-05-06T10:33:37.575608Z",
     "iopub.status.idle": "2025-05-06T10:33:37.580573Z",
     "shell.execute_reply": "2025-05-06T10:33:37.580241Z"
    }
   },
   "outputs": [
    {
     "data": {
      "text/html": [
       "<div>\n",
       "<style scoped>\n",
       "    .dataframe tbody tr th:only-of-type {\n",
       "        vertical-align: middle;\n",
       "    }\n",
       "\n",
       "    .dataframe tbody tr th {\n",
       "        vertical-align: top;\n",
       "    }\n",
       "\n",
       "    .dataframe thead th {\n",
       "        text-align: right;\n",
       "    }\n",
       "</style>\n",
       "<table border=\"1\" class=\"dataframe\">\n",
       "  <thead>\n",
       "    <tr style=\"text-align: right;\">\n",
       "      <th></th>\n",
       "      <th>column</th>\n",
       "      <th>idx</th>\n",
       "      <th>filename</th>\n",
       "      <th>column:filename</th>\n",
       "      <th>column:filename:idx</th>\n",
       "    </tr>\n",
       "  </thead>\n",
       "  <tbody>\n",
       "    <tr>\n",
       "      <th>529</th>\n",
       "      <td>MRI_2cat</td>\n",
       "      <td>10</td>\n",
       "      <td>analysis.csv</td>\n",
       "      <td>MRI_2cat:analysis.csv</td>\n",
       "      <td>MRI_2cat:analysis.csv:10</td>\n",
       "    </tr>\n",
       "    <tr>\n",
       "      <th>531</th>\n",
       "      <td>acidosis</td>\n",
       "      <td>10</td>\n",
       "      <td>analysis.csv</td>\n",
       "      <td>acidosis:analysis.csv</td>\n",
       "      <td>acidosis:analysis.csv:10</td>\n",
       "    </tr>\n",
       "    <tr>\n",
       "      <th>458</th>\n",
       "      <td>age_death</td>\n",
       "      <td>10</td>\n",
       "      <td>analysis.csv</td>\n",
       "      <td>age_death:analysis.csv</td>\n",
       "      <td>age_death:analysis.csv:10</td>\n",
       "    </tr>\n",
       "    <tr>\n",
       "      <th>468</th>\n",
       "      <td>age_rand</td>\n",
       "      <td>10</td>\n",
       "      <td>analysis.csv</td>\n",
       "      <td>age_rand:analysis.csv</td>\n",
       "      <td>age_rand:analysis.csv:10</td>\n",
       "    </tr>\n",
       "    <tr>\n",
       "      <th>524</th>\n",
       "      <td>all_cere</td>\n",
       "      <td>10</td>\n",
       "      <td>analysis.csv</td>\n",
       "      <td>all_cere:analysis.csv</td>\n",
       "      <td>all_cere:analysis.csv:10</td>\n",
       "    </tr>\n",
       "    <tr>\n",
       "      <th>...</th>\n",
       "      <td>...</td>\n",
       "      <td>...</td>\n",
       "      <td>...</td>\n",
       "      <td>...</td>\n",
       "      <td>...</td>\n",
       "    </tr>\n",
       "    <tr>\n",
       "      <th>435</th>\n",
       "      <td>CMP_DATE</td>\n",
       "      <td>9</td>\n",
       "      <td>of12.csv</td>\n",
       "      <td>CMP_DATE:of12.csv</td>\n",
       "      <td>CMP_DATE:of12.csv:9</td>\n",
       "    </tr>\n",
       "    <tr>\n",
       "      <th>436</th>\n",
       "      <td>CRT_DATE</td>\n",
       "      <td>9</td>\n",
       "      <td>of12.csv</td>\n",
       "      <td>CRT_DATE:of12.csv</td>\n",
       "      <td>CRT_DATE:of12.csv:9</td>\n",
       "    </tr>\n",
       "    <tr>\n",
       "      <th>402</th>\n",
       "      <td>LFINITA</td>\n",
       "      <td>9</td>\n",
       "      <td>of12.csv</td>\n",
       "      <td>LFINITA:of12.csv</td>\n",
       "      <td>LFINITA:of12.csv:9</td>\n",
       "    </tr>\n",
       "    <tr>\n",
       "      <th>406</th>\n",
       "      <td>NF12INIT</td>\n",
       "      <td>9</td>\n",
       "      <td>of12.csv</td>\n",
       "      <td>NF12INIT:of12.csv</td>\n",
       "      <td>NF12INIT:of12.csv:9</td>\n",
       "    </tr>\n",
       "    <tr>\n",
       "      <th>407</th>\n",
       "      <td>REC_CMP</td>\n",
       "      <td>9</td>\n",
       "      <td>of12.csv</td>\n",
       "      <td>REC_CMP:of12.csv</td>\n",
       "      <td>REC_CMP:of12.csv:9</td>\n",
       "    </tr>\n",
       "  </tbody>\n",
       "</table>\n",
       "<p>231 rows × 5 columns</p>\n",
       "</div>"
      ],
      "text/plain": [
       "        column  idx      filename         column:filename  \\\n",
       "529   MRI_2cat   10  analysis.csv   MRI_2cat:analysis.csv   \n",
       "531   acidosis   10  analysis.csv   acidosis:analysis.csv   \n",
       "458  age_death   10  analysis.csv  age_death:analysis.csv   \n",
       "468   age_rand   10  analysis.csv   age_rand:analysis.csv   \n",
       "524   all_cere   10  analysis.csv   all_cere:analysis.csv   \n",
       "..         ...  ...           ...                     ...   \n",
       "435   CMP_DATE    9      of12.csv       CMP_DATE:of12.csv   \n",
       "436   CRT_DATE    9      of12.csv       CRT_DATE:of12.csv   \n",
       "402    LFINITA    9      of12.csv        LFINITA:of12.csv   \n",
       "406   NF12INIT    9      of12.csv       NF12INIT:of12.csv   \n",
       "407    REC_CMP    9      of12.csv        REC_CMP:of12.csv   \n",
       "\n",
       "           column:filename:idx  \n",
       "529   MRI_2cat:analysis.csv:10  \n",
       "531   acidosis:analysis.csv:10  \n",
       "458  age_death:analysis.csv:10  \n",
       "468   age_rand:analysis.csv:10  \n",
       "524   all_cere:analysis.csv:10  \n",
       "..                         ...  \n",
       "435        CMP_DATE:of12.csv:9  \n",
       "436        CRT_DATE:of12.csv:9  \n",
       "402         LFINITA:of12.csv:9  \n",
       "406        NF12INIT:of12.csv:9  \n",
       "407         REC_CMP:of12.csv:9  \n",
       "\n",
       "[231 rows x 5 columns]"
      ]
     },
     "execution_count": 17,
     "metadata": {},
     "output_type": "execute_result"
    }
   ],
   "source": [
    "is_not_in_dict = df_columns['column'].isin(dict_columns) == False\n",
    "df_columns_not_in_dict = df_columns[is_not_in_dict]\n",
    "df_columns_not_in_dict"
   ]
  },
  {
   "cell_type": "code",
   "execution_count": 18,
   "id": "eb5aca1f-5b44-4e32-b7df-46d415e5263f",
   "metadata": {
    "execution": {
     "iopub.execute_input": "2025-05-06T10:33:37.581921Z",
     "iopub.status.busy": "2025-05-06T10:33:37.581819Z",
     "iopub.status.idle": "2025-05-06T10:33:37.585099Z",
     "shell.execute_reply": "2025-05-06T10:33:37.584816Z"
    }
   },
   "outputs": [
    {
     "data": {
      "text/plain": [
       "['MRI_2cat:analysis.csv:10',\n",
       " 'acidosis:analysis.csv:10',\n",
       " 'age_death:analysis.csv:10',\n",
       " 'age_rand:analysis.csv:10',\n",
       " 'all_cere:analysis.csv:10',\n",
       " 'anticon_0:analysis.csv:10',\n",
       " 'any_antic:analysis.csv:10',\n",
       " 'any_inot:analysis.csv:10',\n",
       " 'any_pse:analysis.csv:10',\n",
       " 'any_seiz:analysis.csv:10',\n",
       " 'apg10_lt5:analysis.csv:10',\n",
       " 'apgar10_5:analysis.csv:10',\n",
       " 'apgar5_5:analysis.csv:10',\n",
       " 'bel_max:analysis.csv:10',\n",
       " 'bg_max:analysis.csv:10',\n",
       " 'bs_max:analysis.csv:10',\n",
       " 'cc_max:analysis.csv:10',\n",
       " 'cereb_any:analysis.csv:10',\n",
       " 'cr_max:analysis.csv:10',\n",
       " 'dual_base:analysis.csv:10',\n",
       " 'dual_ph:analysis.csv:10',\n",
       " 'ecsect:analysis.csv:10',\n",
       " 'edema:analysis.csv:10',\n",
       " 'ex_max:analysis.csv:10',\n",
       " 'extent_num:analysis.csv:10',\n",
       " 'fcenter:analysis.csv:10',\n",
       " 'fp_max:analysis.csv:10',\n",
       " 'frontal:analysis.csv:10',\n",
       " 'hemi_lat:analysis.csv:10',\n",
       " 'hie_fix:analysis.csv:10',\n",
       " 'hip_max:analysis.csv:10',\n",
       " 'hy_max:analysis.csv:10',\n",
       " 'inot_0:analysis.csv:10',\n",
       " 'ins_max:analysis.csv:10',\n",
       " 'lateral_num:analysis.csv:10',\n",
       " 'male:analysis.csv:10',\n",
       " 'mom_ed:analysis.csv:10',\n",
       " 'mri_abn:analysis.csv:10',\n",
       " 'mri_subgrp:analysis.csv:10',\n",
       " 'new_bgt:analysis.csv:10',\n",
       " 'new_patt:analysis.csv:10',\n",
       " 'new_plic:analysis.csv:10',\n",
       " 'new_water:analysis.csv:10',\n",
       " 'new_wmi:analysis.csv:10',\n",
       " 'occip:analysis.csv:10',\n",
       " 'ocfolnum:analysis.csv:10',\n",
       " 'op_max:analysis.csv:10',\n",
       " 'oth_max:analysis.csv:10',\n",
       " 'other_cere:analysis.csv:10',\n",
       " 'para_max:analysis.csv:10',\n",
       " 'pariet:analysis.csv:10',\n",
       " 'per_max:analysis.csv:10',\n",
       " 'peri_max:analysis.csv:10',\n",
       " 'pit_max:analysis.csv:10',\n",
       " 'po_max:analysis.csv:10',\n",
       " 'pt_max:analysis.csv:10',\n",
       " 'public:analysis.csv:10',\n",
       " 'race:analysis.csv:10',\n",
       " 's_max:analysis.csv:10',\n",
       " 't_max:analysis.csv:10',\n",
       " 'tempo:analysis.csv:10',\n",
       " 'to_max:analysis.csv:10',\n",
       " 'trt_dur:analysis.csv:10',\n",
       " 'trt_temp:analysis.csv:10',\n",
       " 'use_MRIage:analysis.csv:10',\n",
       " 'use_atrophy:analysis.csv:10',\n",
       " 'use_base:analysis.csv:10',\n",
       " 'use_ccthin:analysis.csv:10',\n",
       " 'use_global:analysis.csv:10',\n",
       " 'use_hemi:analysis.csv:10',\n",
       " 'use_infarc:analysis.csv:10',\n",
       " 'use_od:analysis.csv:10',\n",
       " 'use_ph:analysis.csv:10',\n",
       " 'use_pi:analysis.csv:10',\n",
       " 'use_vd:analysis.csv:10',\n",
       " 'usualc:analysis.csv:10',\n",
       " 'vas_max:analysis.csv:10',\n",
       " 'vent_max:analysis.csv:10',\n",
       " 'MRI_2cat:ocout.csv:11',\n",
       " 'acidosis:ocout.csv:11',\n",
       " 'age_death:ocout.csv:11',\n",
       " 'age_rand:ocout.csv:11',\n",
       " 'all_cere:ocout.csv:11',\n",
       " 'anticon_0:ocout.csv:11',\n",
       " 'any_antic:ocout.csv:11',\n",
       " 'any_inot:ocout.csv:11',\n",
       " 'any_pse:ocout.csv:11',\n",
       " 'any_seiz:ocout.csv:11',\n",
       " 'apg10_lt5:ocout.csv:11',\n",
       " 'apgar10_5:ocout.csv:11',\n",
       " 'apgar5_5:ocout.csv:11',\n",
       " 'bel_max:ocout.csv:11',\n",
       " 'bg_max:ocout.csv:11',\n",
       " 'bs_max:ocout.csv:11',\n",
       " 'cc_max:ocout.csv:11',\n",
       " 'cereb_any:ocout.csv:11',\n",
       " 'cr_max:ocout.csv:11',\n",
       " 'dual_base:ocout.csv:11',\n",
       " 'dual_ph:ocout.csv:11',\n",
       " 'ecsect:ocout.csv:11',\n",
       " 'edema:ocout.csv:11',\n",
       " 'ex_max:ocout.csv:11',\n",
       " 'extent_num:ocout.csv:11',\n",
       " 'fcenter:ocout.csv:11',\n",
       " 'fp_max:ocout.csv:11',\n",
       " 'frontal:ocout.csv:11',\n",
       " 'hemi_lat:ocout.csv:11',\n",
       " 'hie_fix:ocout.csv:11',\n",
       " 'hip_max:ocout.csv:11',\n",
       " 'hy_max:ocout.csv:11',\n",
       " 'inot_0:ocout.csv:11',\n",
       " 'ins_max:ocout.csv:11',\n",
       " 'lateral_num:ocout.csv:11',\n",
       " 'male:ocout.csv:11',\n",
       " 'mom_ed:ocout.csv:11',\n",
       " 'mri_abn:ocout.csv:11',\n",
       " 'mri_subgrp:ocout.csv:11',\n",
       " 'new_bgt:ocout.csv:11',\n",
       " 'new_patt:ocout.csv:11',\n",
       " 'new_plic:ocout.csv:11',\n",
       " 'new_water:ocout.csv:11',\n",
       " 'new_wmi:ocout.csv:11',\n",
       " 'occip:ocout.csv:11',\n",
       " 'ocfolnum:ocout.csv:11',\n",
       " 'op_max:ocout.csv:11',\n",
       " 'oth_max:ocout.csv:11',\n",
       " 'other_cere:ocout.csv:11',\n",
       " 'para_max:ocout.csv:11',\n",
       " 'pariet:ocout.csv:11',\n",
       " 'per_max:ocout.csv:11',\n",
       " 'peri_max:ocout.csv:11',\n",
       " 'pit_max:ocout.csv:11',\n",
       " 'po_max:ocout.csv:11',\n",
       " 'pt_max:ocout.csv:11',\n",
       " 'public:ocout.csv:11',\n",
       " 'race:ocout.csv:11',\n",
       " 's_max:ocout.csv:11',\n",
       " 't_max:ocout.csv:11',\n",
       " 'tempo:ocout.csv:11',\n",
       " 'to_max:ocout.csv:11',\n",
       " 'trt_dur:ocout.csv:11',\n",
       " 'trt_temp:ocout.csv:11',\n",
       " 'use_MRIage:ocout.csv:11',\n",
       " 'use_atrophy:ocout.csv:11',\n",
       " 'use_base:ocout.csv:11',\n",
       " 'use_ccthin:ocout.csv:11',\n",
       " 'use_global:ocout.csv:11',\n",
       " 'use_hemi:ocout.csv:11',\n",
       " 'use_infarc:ocout.csv:11',\n",
       " 'use_od:ocout.csv:11',\n",
       " 'use_ph:ocout.csv:11',\n",
       " 'use_pi:ocout.csv:11',\n",
       " 'use_vd:ocout.csv:11',\n",
       " 'usualc:ocout.csv:11',\n",
       " 'vas_max:ocout.csv:11',\n",
       " 'vent_max:ocout.csv:11',\n",
       " 'CMP_DATE:of01.csv:0',\n",
       " 'CRT_DATE:of01.csv:0',\n",
       " 'FIRST:of01.csv:0',\n",
       " 'LAST:of01.csv:0',\n",
       " 'PROTID02:of01.csv:0',\n",
       " 'PROTID03:of01.csv:0',\n",
       " 'PROTID04:of01.csv:0',\n",
       " 'PROTID05:of01.csv:0',\n",
       " 'PROTID06:of01.csv:0',\n",
       " 'PROTID07:of01.csv:0',\n",
       " 'PROTID08:of01.csv:0',\n",
       " 'PROTID09:of01.csv:0',\n",
       " 'PROTID10:of01.csv:0',\n",
       " 'PROTID11:of01.csv:0',\n",
       " 'PROTID12:of01.csv:0',\n",
       " 'PROTID13:of01.csv:0',\n",
       " 'PROTID14:of01.csv:0',\n",
       " 'PROTID15:of01.csv:0',\n",
       " 'PROTID16:of01.csv:0',\n",
       " 'PROTID17:of01.csv:0',\n",
       " 'PROTID18:of01.csv:0',\n",
       " 'PROTID19:of01.csv:0',\n",
       " 'PROTID20:of01.csv:0',\n",
       " 'REC_CMP:of01.csv:0',\n",
       " 'CFINITS:of03.csv:1',\n",
       " 'CFPRRESP:of03.csv:1',\n",
       " 'CMP_DATE:of03.csv:1',\n",
       " 'CRT_DATE:of03.csv:1',\n",
       " 'REC_CMP:of03.csv:1',\n",
       " 'CMP_DATE:of04.csv:2',\n",
       " 'CRT_DATE:of04.csv:2',\n",
       " 'DFCOMPDT:of04.csv:2',\n",
       " 'DFINITS:of04.csv:2',\n",
       " 'DFPLACE:of04.csv:2',\n",
       " 'NF4LOCSP:of04.csv:2',\n",
       " 'REC_CMP:of04.csv:2',\n",
       " 'CMP_DATE:of04a.csv:3',\n",
       " 'CRT_DATE:of04a.csv:3',\n",
       " 'DFINITSA:of04a.csv:3',\n",
       " 'REC_CMP:of04a.csv:3',\n",
       " 'CMP_DATE:of04ar.csv:4',\n",
       " 'CRT_DATE:of04ar.csv:4',\n",
       " 'REC_CMP:of04ar.csv:4',\n",
       " 'CMP_DATE:of05.csv:5',\n",
       " 'CRT_DATE:of05.csv:5',\n",
       " 'EFINITS:of05.csv:5',\n",
       " 'REC_CMP:of05.csv:5',\n",
       " 'CMP_DATE:of09a.csv:6',\n",
       " 'CRT_DATE:of09a.csv:6',\n",
       " 'NF9AINIT:of09a.csv:6',\n",
       " 'REC_CMP:of09a.csv:6',\n",
       " 'CMP_DATE:of10.csv:7',\n",
       " 'CRT_DATE:of10.csv:7',\n",
       " 'JFCOMPDT:of10.csv:7',\n",
       " 'JFINITS:of10.csv:7',\n",
       " 'NF10CNTR:of10.csv:7',\n",
       " 'REC_CMP:of10.csv:7',\n",
       " 'CMP_DATE:of11.csv:8',\n",
       " 'CRT_DATE:of11.csv:8',\n",
       " 'KFBAYLE3:of11.csv:8',\n",
       " 'KFCOMPDT:of11.csv:8',\n",
       " 'KFINFEXM:of11.csv:8',\n",
       " 'KFINITS:of11.csv:8',\n",
       " 'KFLOSTFM:of11.csv:8',\n",
       " 'KFMEDHIS:of11.csv:8',\n",
       " 'KFREADM:of11.csv:8',\n",
       " 'KFSES18:of11.csv:8',\n",
       " 'KFSESDIS:of11.csv:8',\n",
       " 'KFSTATFM:of11.csv:8',\n",
       " 'REC_CMP:of11.csv:8',\n",
       " 'CMP_DATE:of12.csv:9',\n",
       " 'CRT_DATE:of12.csv:9',\n",
       " 'LFINITA:of12.csv:9',\n",
       " 'NF12INIT:of12.csv:9',\n",
       " 'REC_CMP:of12.csv:9']"
      ]
     },
     "execution_count": 18,
     "metadata": {},
     "output_type": "execute_result"
    }
   ],
   "source": [
    "columns_not_in_dict = list(df_columns_not_in_dict['column:filename:idx'].unique())\n",
    "# columns_not_in_dict.sort()\n",
    "columns_not_in_dict"
   ]
  },
  {
   "cell_type": "markdown",
   "id": "74bae715-1eb7-4e36-a20b-20c317c967b0",
   "metadata": {},
   "source": [
    "#### dict not in column"
   ]
  },
  {
   "cell_type": "code",
   "execution_count": 19,
   "id": "f53e36c7-4215-45fa-adec-9e48aee861b5",
   "metadata": {
    "execution": {
     "iopub.execute_input": "2025-05-06T10:33:37.586838Z",
     "iopub.status.busy": "2025-05-06T10:33:37.586745Z",
     "iopub.status.idle": "2025-05-06T10:33:37.590744Z",
     "shell.execute_reply": "2025-05-06T10:33:37.590234Z"
    }
   },
   "outputs": [
    {
     "data": {
      "text/html": [
       "<div>\n",
       "<style scoped>\n",
       "    .dataframe tbody tr th:only-of-type {\n",
       "        vertical-align: middle;\n",
       "    }\n",
       "\n",
       "    .dataframe tbody tr th {\n",
       "        vertical-align: top;\n",
       "    }\n",
       "\n",
       "    .dataframe thead th {\n",
       "        text-align: right;\n",
       "    }\n",
       "</style>\n",
       "<table border=\"1\" class=\"dataframe\">\n",
       "  <thead>\n",
       "    <tr style=\"text-align: right;\">\n",
       "      <th></th>\n",
       "      <th>Category</th>\n",
       "      <th>Subcategory</th>\n",
       "      <th>Standardized_VariableNames_Dictionary</th>\n",
       "      <th>type</th>\n",
       "      <th>Variable_Description</th>\n",
       "      <th>#studies w/ this var</th>\n",
       "      <th>redcap</th>\n",
       "      <th>comment</th>\n",
       "      <th>lower_var</th>\n",
       "      <th>var_eq_redcap</th>\n",
       "      <th>connect_redcap</th>\n",
       "      <th>LH</th>\n",
       "      <th>OC</th>\n",
       "    </tr>\n",
       "  </thead>\n",
       "  <tbody>\n",
       "  </tbody>\n",
       "</table>\n",
       "</div>"
      ],
      "text/plain": [
       "Empty DataFrame\n",
       "Columns: [Category, Subcategory, Standardized_VariableNames_Dictionary, type, Variable_Description, #studies w/ this var, redcap, comment, lower_var, var_eq_redcap, connect_redcap, LH, OC]\n",
       "Index: []"
      ]
     },
     "execution_count": 19,
     "metadata": {},
     "output_type": "execute_result"
    }
   ],
   "source": [
    "is_dict_not_in_columns = (df_dict['OC'].isin(df_columns['column']) == False) & (df_dict['OC'].isnull() == False)\n",
    "df_dict_not_in_columns = df_dict[is_dict_not_in_columns]\n",
    "df_dict_not_in_columns"
   ]
  },
  {
   "cell_type": "markdown",
   "id": "9b7262be-225e-4f45-90a5-bf8b87620aeb",
   "metadata": {},
   "source": [
    "## 04. show column values"
   ]
  },
  {
   "cell_type": "code",
   "execution_count": 20,
   "id": "83e57049-3d45-4d4f-8b3b-7b304fae5f12",
   "metadata": {
    "execution": {
     "iopub.execute_input": "2025-05-06T10:33:37.592600Z",
     "iopub.status.busy": "2025-05-06T10:33:37.592465Z",
     "iopub.status.idle": "2025-05-06T10:33:37.594932Z",
     "shell.execute_reply": "2025-05-06T10:33:37.594594Z"
    }
   },
   "outputs": [
    {
     "data": {
      "text/plain": [
       "\"\\nfor idx, each_df in enumerate(dfs):\\n    for idx2, column in enumerate(each_df.columns):\\n        print(f'({idx}/{len(dfs)}/{filenames[idx]}) ({idx2}/{len(each_df.columns)} column: {column} value: {list(each_df[column].unique())}')\\n\""
      ]
     },
     "execution_count": 20,
     "metadata": {},
     "output_type": "execute_result"
    }
   ],
   "source": [
    "# XXX no show due to data privacy concern.\n",
    "\n",
    "'''\n",
    "for idx, each_df in enumerate(dfs):\n",
    "    for idx2, column in enumerate(each_df.columns):\n",
    "        print(f'({idx}/{len(dfs)}/{filenames[idx]}) ({idx2}/{len(each_df.columns)} column: {column} value: {list(each_df[column].unique())}')\n",
    "'''"
   ]
  },
  {
   "cell_type": "code",
   "execution_count": null,
   "id": "b32b53a1",
   "metadata": {},
   "outputs": [],
   "source": []
  }
 ],
 "metadata": {
  "kernelspec": {
   "display_name": ".venv",
   "language": "python",
   "name": "python3"
  },
  "language_info": {
   "codemirror_mode": {
    "name": "ipython",
    "version": 3
   },
   "file_extension": ".py",
   "mimetype": "text/x-python",
   "name": "python",
   "nbconvert_exporter": "python",
   "pygments_lexer": "ipython3",
   "version": "3.13.2"
  }
 },
 "nbformat": 4,
 "nbformat_minor": 5
}
