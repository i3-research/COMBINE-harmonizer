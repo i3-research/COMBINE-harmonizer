{
 "cells": [
  {
   "cell_type": "code",
   "execution_count": 1,
   "id": "770ecab1-5dc1-4887-af18-6d1e1261889e",
   "metadata": {
    "tags": []
   },
   "outputs": [],
   "source": [
    "import pandas as pd\n",
    "pd.options.mode.copy_on_write = True\n",
    "import warnings\n",
    "warnings.simplefilter(action='ignore', category=pd.errors.PerformanceWarning)\n",
    "\n",
    "import urllib3\n",
    "urllib3.disable_warnings(urllib3.exceptions.InsecureRequestWarning)\n",
    "\n",
    "from tqdm import tqdm\n",
    "\n",
    "import COMBINE_harmonizer\n",
    "from COMBINE_harmonizer import cfg"
   ]
  },
  {
   "cell_type": "code",
   "execution_count": 2,
   "id": "6f843eb9",
   "metadata": {},
   "outputs": [],
   "source": [
    "root_dir = '../'\n",
    "\n",
    "cfg.init(filename=f\"{root_dir}/config.yaml\")\n",
    "\n",
    "input_dir = f\"{cfg.config['out_dir']}/out-publish-normalized\""
   ]
  },
  {
   "cell_type": "code",
   "execution_count": 3,
   "id": "04c76d46",
   "metadata": {},
   "outputs": [],
   "source": [
    "COMBINE_harmonizer.init_redcap(token=cfg.config[\"redcap_token\"], host=cfg.config[\"redcap_host\"])"
   ]
  },
  {
   "cell_type": "code",
   "execution_count": 4,
   "id": "f73f5212-39dc-47b0-afb4-326d2e8ac2b5",
   "metadata": {
    "scrolled": true,
    "tags": []
   },
   "outputs": [],
   "source": [
    "data_dict_filename = f'{root_dir}/Dictionary_HIE_clinical_variables.xlsx'\n",
    "_REDCAP_MAIN_MAP = COMBINE_harmonizer.build_redcap_column_map(data_dict_filename, COMBINE_harmonizer.SHEET_MAIN)"
   ]
  },
  {
   "cell_type": "code",
   "execution_count": 5,
   "id": "e4d339c5-5961-411e-8a02-484db185fb22",
   "metadata": {
    "tags": []
   },
   "outputs": [],
   "source": [
    "filename_infos: list[COMBINE_harmonizer.REDCapFilenameInfo] = [\n",
    "    {\n",
    "        'name': '01-02-screening.csv',\n",
    "        'data_dict': COMBINE_harmonizer.SHEET_MAIN,\n",
    "        'form_name': 'identifier',\n",
    "        'map': _REDCAP_MAIN_MAP,\n",
    "        'id': '01_02',\n",
    "        'category': COMBINE_harmonizer.CATEGORY_PRE_INTERVENTION,\n",
    "        'subcategory': COMBINE_harmonizer.SUBCATEGORY_IDENTITY,\n",
    "    },\n",
    "]"
   ]
  },
  {
   "cell_type": "markdown",
   "id": "6dd3fd2a-b4a2-4f76-b3e2-efe1778dab28",
   "metadata": {},
   "source": [
    "## 01-Main"
   ]
  },
  {
   "cell_type": "code",
   "execution_count": 6,
   "id": "c6de7a30-5152-40a8-b39b-4c46b3df0c43",
   "metadata": {
    "tags": []
   },
   "outputs": [],
   "source": [
    "filename_info = filename_infos[0]\n",
    "\n",
    "columns = ['_study', 'center', 'subjectID', 'uniqueID']\n",
    "column_name_map = {\n",
    "    '_study': 'study',\n",
    "    'center': 'center',\n",
    "    'subjectID': 'subject_id',\n",
    "    'uniqueID': 'unique_id',\n",
    "}\n",
    "df_records = COMBINE_harmonizer.redcap_normalize_filename_info(filename_info, input_dir, valid_columns=columns, column_name_map=column_name_map, exclude_columns=[])"
   ]
  },
  {
   "cell_type": "code",
   "execution_count": 7,
   "id": "9763490a-c7d2-4566-bce5-598ff435076e",
   "metadata": {
    "tags": []
   },
   "outputs": [],
   "source": [
    "all_records = [dict(row) for idx, row in df_records.iterrows()]"
   ]
  },
  {
   "cell_type": "code",
   "execution_count": 8,
   "id": "11699bed",
   "metadata": {},
   "outputs": [
    {
     "name": "stderr",
     "output_type": "stream",
     "text": [
      "100%|██████████| 532/532 [10:43<00:00,  1.21s/it]\n"
     ]
    }
   ],
   "source": [
    "for record in tqdm(all_records):\n",
    "    COMBINE_harmonizer.put_redcap_data('record', [record])"
   ]
  },
  {
   "cell_type": "code",
   "execution_count": null,
   "id": "06ff2925",
   "metadata": {},
   "outputs": [],
   "source": []
  }
 ],
 "metadata": {
  "kernelspec": {
   "display_name": ".venv",
   "language": "python",
   "name": "python3"
  },
  "language_info": {
   "codemirror_mode": {
    "name": "ipython",
    "version": 3
   },
   "file_extension": ".py",
   "mimetype": "text/x-python",
   "name": "python",
   "nbconvert_exporter": "python",
   "pygments_lexer": "ipython3",
   "version": "3.13.0"
  }
 },
 "nbformat": 4,
 "nbformat_minor": 5
}
