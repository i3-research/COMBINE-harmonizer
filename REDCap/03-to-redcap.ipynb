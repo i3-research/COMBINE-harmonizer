{
 "cells": [
  {
   "cell_type": "code",
   "execution_count": 1,
   "id": "770ecab1-5dc1-4887-af18-6d1e1261889e",
   "metadata": {
    "tags": []
   },
   "outputs": [],
   "source": [
    "import pandas as pd\n",
    "pd.options.mode.copy_on_write = True\n",
    "import warnings\n",
    "warnings.simplefilter(action='ignore', category=pd.errors.PerformanceWarning)\n",
    "\n",
    "import urllib3\n",
    "urllib3.disable_warnings(urllib3.exceptions.InsecureRequestWarning)\n",
    "\n",
    "from tqdm import tqdm\n",
    "\n",
    "import COMBINE_harmonizer\n",
    "from COMBINE_harmonizer import cfg"
   ]
  },
  {
   "cell_type": "markdown",
   "id": "1950f0e6",
   "metadata": {},
   "source": [
    "## 00. Init"
   ]
  },
  {
   "cell_type": "code",
   "execution_count": 2,
   "id": "88a84103",
   "metadata": {},
   "outputs": [],
   "source": [
    "root_dir = '../'\n",
    "\n",
    "cfg.init(filename=f\"{root_dir}/config.yaml\")\n",
    "\n",
    "input_dir = f\"{cfg.config['out_dir']}/out-publish-normalized\""
   ]
  },
  {
   "cell_type": "code",
   "execution_count": 3,
   "id": "5451c4a3",
   "metadata": {},
   "outputs": [],
   "source": [
    "COMBINE_harmonizer.init_redcap(token=cfg.config[\"redcap_token\"], host=cfg.config[\"redcap_host\"])"
   ]
  },
  {
   "cell_type": "markdown",
   "id": "5af545a6",
   "metadata": {},
   "source": [
    "## 01. Construct REDCap Sheet Column Map"
   ]
  },
  {
   "cell_type": "code",
   "execution_count": 4,
   "id": "f73f5212-39dc-47b0-afb4-326d2e8ac2b5",
   "metadata": {
    "scrolled": true,
    "tags": []
   },
   "outputs": [],
   "source": [
    "data_dict_filename = f'{root_dir}/Dictionary_HIE_clinical_variables.xlsx'\n",
    "_REDCAP_MAIN_COLUMN_MAP = COMBINE_harmonizer.build_redcap_column_map(data_dict_filename, COMBINE_harmonizer.SHEET_MAIN)\n",
    "_REDCAP_FOLLOWUP_COLUMN_MAP = COMBINE_harmonizer.build_redcap_column_map(data_dict_filename, COMBINE_harmonizer.SHEET_FOLLOW_UP)\n",
    "_REDCAP_ANALYSIS_COLUMN_MAP = COMBINE_harmonizer.build_redcap_column_map(data_dict_filename, COMBINE_harmonizer.SHEET_DERIVED_DATA)\n",
    "\n",
    "_REDCAP_SHEET_COLUMN_MAP = {\n",
    "    COMBINE_harmonizer.SHEET_MAIN: _REDCAP_MAIN_COLUMN_MAP,\n",
    "    COMBINE_harmonizer.SHEET_FOLLOW_UP: _REDCAP_FOLLOWUP_COLUMN_MAP,\n",
    "    COMBINE_harmonizer.SHEET_DERIVED_DATA: _REDCAP_ANALYSIS_COLUMN_MAP,\n",
    "}"
   ]
  },
  {
   "cell_type": "markdown",
   "id": "f1c77ab5",
   "metadata": {},
   "source": [
    "## 03. Construct Filename Infos"
   ]
  },
  {
   "cell_type": "code",
   "execution_count": 5,
   "id": "1448e453-222f-4979-82c2-cb4d6c715753",
   "metadata": {
    "tags": []
   },
   "outputs": [],
   "source": [
    "filename_infos = COMBINE_harmonizer.build_redcap_filename_infos(_REDCAP_SHEET_COLUMN_MAP)"
   ]
  },
  {
   "cell_type": "code",
   "execution_count": 6,
   "id": "229505ee",
   "metadata": {},
   "outputs": [
    {
     "data": {
      "text/plain": [
       "70"
      ]
     },
     "execution_count": 6,
     "metadata": {},
     "output_type": "execute_result"
    }
   ],
   "source": [
    "len(filename_infos)"
   ]
  },
  {
   "cell_type": "markdown",
   "id": "52a186e5",
   "metadata": {},
   "source": [
    "## 04. Normalize and Put to REDCap"
   ]
  },
  {
   "cell_type": "code",
   "execution_count": null,
   "id": "0c6f7369",
   "metadata": {},
   "outputs": [
    {
     "name": "stdout",
     "output_type": "stream",
     "text": [
      "[INFO] (0/2) 02-05_s-hematology.csv\n"
     ]
    },
    {
     "name": "stderr",
     "output_type": "stream",
     "text": [
      "532it [02:44,  3.24it/s]\n"
     ]
    },
    {
     "name": "stdout",
     "output_type": "stream",
     "text": [
      "[INFO] (1/2) 02-06_s-blood-value.csv\n"
     ]
    },
    {
     "name": "stderr",
     "output_type": "stream",
     "text": [
      "532it [04:17,  2.07it/s]\n"
     ]
    }
   ],
   "source": [
    "start_idx = 0\n",
    "end_idx = len(filename_infos)\n",
    "process_filename_infos = filename_infos[start_idx:end_idx]\n",
    "for idx, filename_info in enumerate(process_filename_infos):\n",
    "    print(f\"[INFO] ({idx}/{len(process_filename_infos)}) {filename_info['name']}\")\n",
    "    df_records = COMBINE_harmonizer.redcap_normalize_filename_info(filename_info, input_dir)\n",
    "\n",
    "    all_records = [dict(row) for _, row in df_records.iterrows()]\n",
    "    for idx2, record in tqdm(enumerate(all_records)):\n",
    "        COMBINE_harmonizer.put_redcap_data('record', [record])"
   ]
  },
  {
   "cell_type": "code",
   "execution_count": null,
   "id": "47f3902b",
   "metadata": {},
   "outputs": [],
   "source": []
  }
 ],
 "metadata": {
  "kernelspec": {
   "display_name": ".venv",
   "language": "python",
   "name": "python3"
  },
  "language_info": {
   "codemirror_mode": {
    "name": "ipython",
    "version": 3
   },
   "file_extension": ".py",
   "mimetype": "text/x-python",
   "name": "python",
   "nbconvert_exporter": "python",
   "pygments_lexer": "ipython3",
   "version": "3.13.0"
  }
 },
 "nbformat": 4,
 "nbformat_minor": 5
}
