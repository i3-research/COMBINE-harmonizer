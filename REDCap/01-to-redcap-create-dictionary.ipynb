{
 "cells": [
  {
   "cell_type": "code",
   "execution_count": 1,
   "id": "770ecab1-5dc1-4887-af18-6d1e1261889e",
   "metadata": {
    "execution": {
     "iopub.execute_input": "2025-05-04T13:45:51.688817Z",
     "iopub.status.busy": "2025-05-04T13:45:51.688628Z",
     "iopub.status.idle": "2025-05-04T13:45:52.426315Z",
     "shell.execute_reply": "2025-05-04T13:45:52.425934Z"
    },
    "tags": []
   },
   "outputs": [],
   "source": [
    "import pandas as pd\n",
    "pd.options.mode.copy_on_write = True\n",
    "import warnings\n",
    "warnings.simplefilter(action='ignore', category=pd.errors.PerformanceWarning)\n",
    "\n",
    "import urllib3\n",
    "urllib3.disable_warnings(urllib3.exceptions.InsecureRequestWarning)\n",
    "\n",
    "import COMBINE_harmonizer\n",
    "from COMBINE_harmonizer import cfg"
   ]
  },
  {
   "cell_type": "markdown",
   "id": "ce2eb5ab",
   "metadata": {},
   "source": [
    "## 00. Init"
   ]
  },
  {
   "cell_type": "code",
   "execution_count": 2,
   "id": "80bba0f3",
   "metadata": {
    "execution": {
     "iopub.execute_input": "2025-05-04T13:45:52.428017Z",
     "iopub.status.busy": "2025-05-04T13:45:52.427821Z",
     "iopub.status.idle": "2025-05-04T13:45:52.431458Z",
     "shell.execute_reply": "2025-05-04T13:45:52.431185Z"
    }
   },
   "outputs": [],
   "source": [
    "root_dir = '../'\n",
    "\n",
    "cfg.init(filename=f\"{root_dir}/config.yaml\")\n",
    "\n",
    "input_dir = f\"{cfg.config['out_dir']}/out-publish-normalized\""
   ]
  },
  {
   "cell_type": "code",
   "execution_count": 3,
   "id": "9f710b58",
   "metadata": {
    "execution": {
     "iopub.execute_input": "2025-05-04T13:45:52.432635Z",
     "iopub.status.busy": "2025-05-04T13:45:52.432444Z",
     "iopub.status.idle": "2025-05-04T13:45:52.434226Z",
     "shell.execute_reply": "2025-05-04T13:45:52.433966Z"
    }
   },
   "outputs": [],
   "source": [
    "COMBINE_harmonizer.init_redcap(token=cfg.config[\"redcap_token\"], host=cfg.config[\"redcap_host\"])"
   ]
  },
  {
   "cell_type": "markdown",
   "id": "da687ae4",
   "metadata": {},
   "source": [
    "## 01. Create Events Based on Categories"
   ]
  },
  {
   "cell_type": "code",
   "execution_count": 4,
   "id": "4b6aaeb7",
   "metadata": {
    "execution": {
     "iopub.execute_input": "2025-05-04T13:45:52.435301Z",
     "iopub.status.busy": "2025-05-04T13:45:52.435198Z",
     "iopub.status.idle": "2025-05-04T13:45:52.437033Z",
     "shell.execute_reply": "2025-05-04T13:45:52.436785Z"
    }
   },
   "outputs": [],
   "source": [
    "all_events = [COMBINE_harmonizer.redcap_event(event_name, category) for category, event_name in COMBINE_harmonizer.CATEGORY_EVENT_MAP.items()]"
   ]
  },
  {
   "cell_type": "code",
   "execution_count": 5,
   "id": "7b3424dc",
   "metadata": {
    "execution": {
     "iopub.execute_input": "2025-05-04T13:45:52.438114Z",
     "iopub.status.busy": "2025-05-04T13:45:52.438012Z",
     "iopub.status.idle": "2025-05-04T13:45:52.688576Z",
     "shell.execute_reply": "2025-05-04T13:45:52.688257Z"
    }
   },
   "outputs": [],
   "source": [
    "err, existing_events = COMBINE_harmonizer.get_redcap_data({'content': 'event'})\n",
    "existing_event_ids = [each['unique_event_name'] for each in existing_events]\n",
    "to_upload_events = list(filter(lambda x: x['unique_event_name'] not in existing_event_ids, all_events))"
   ]
  },
  {
   "cell_type": "code",
   "execution_count": 6,
   "id": "a8871917",
   "metadata": {
    "execution": {
     "iopub.execute_input": "2025-05-04T13:45:52.689817Z",
     "iopub.status.busy": "2025-05-04T13:45:52.689708Z",
     "iopub.status.idle": "2025-05-04T13:45:52.693030Z",
     "shell.execute_reply": "2025-05-04T13:45:52.692772Z"
    }
   },
   "outputs": [
    {
     "data": {
      "text/plain": [
       "5"
      ]
     },
     "execution_count": 6,
     "metadata": {},
     "output_type": "execute_result"
    }
   ],
   "source": [
    "len(to_upload_events)"
   ]
  },
  {
   "cell_type": "code",
   "execution_count": 7,
   "id": "8695a8d3",
   "metadata": {
    "execution": {
     "iopub.execute_input": "2025-05-04T13:45:52.694092Z",
     "iopub.status.busy": "2025-05-04T13:45:52.693988Z",
     "iopub.status.idle": "2025-05-04T13:45:52.892215Z",
     "shell.execute_reply": "2025-05-04T13:45:52.891689Z"
    }
   },
   "outputs": [],
   "source": [
    "if len(to_upload_events) > 0:\n",
    "    COMBINE_harmonizer.import_redcap_data('event', to_upload_events)"
   ]
  },
  {
   "cell_type": "markdown",
   "id": "b71e1d6c",
   "metadata": {},
   "source": [
    "## 02. Construct REDCap Sheet Column Map"
   ]
  },
  {
   "cell_type": "code",
   "execution_count": 8,
   "id": "f73f5212-39dc-47b0-afb4-326d2e8ac2b5",
   "metadata": {
    "execution": {
     "iopub.execute_input": "2025-05-04T13:45:52.894205Z",
     "iopub.status.busy": "2025-05-04T13:45:52.894026Z",
     "iopub.status.idle": "2025-05-04T13:45:54.827403Z",
     "shell.execute_reply": "2025-05-04T13:45:54.827048Z"
    },
    "scrolled": true,
    "tags": []
   },
   "outputs": [],
   "source": [
    "data_dict_filename = f'{root_dir}/Dictionary_HIE_clinical_variables.xlsx'\n",
    "_REDCAP_MAIN_COLUMN_MAP = COMBINE_harmonizer.build_redcap_column_map(data_dict_filename, COMBINE_harmonizer.SHEET_MAIN)\n",
    "_REDCAP_FOLLOWUP_COLUMN_MAP = COMBINE_harmonizer.build_redcap_column_map(data_dict_filename, COMBINE_harmonizer.SHEET_FOLLOW_UP)\n",
    "\n",
    "_REDCAP_SHEET_COLUMN_MAP = {\n",
    "    COMBINE_harmonizer.SHEET_MAIN: _REDCAP_MAIN_COLUMN_MAP,\n",
    "    COMBINE_harmonizer.SHEET_FOLLOW_UP: _REDCAP_FOLLOWUP_COLUMN_MAP,\n",
    "}"
   ]
  },
  {
   "cell_type": "markdown",
   "id": "5e5fbc60",
   "metadata": {},
   "source": [
    "## 03. Construct Filename Infos"
   ]
  },
  {
   "cell_type": "code",
   "execution_count": 9,
   "id": "e4d339c5-5961-411e-8a02-484db185fb22",
   "metadata": {
    "execution": {
     "iopub.execute_input": "2025-05-04T13:45:54.828824Z",
     "iopub.status.busy": "2025-05-04T13:45:54.828711Z",
     "iopub.status.idle": "2025-05-04T13:45:54.830777Z",
     "shell.execute_reply": "2025-05-04T13:45:54.830519Z"
    },
    "tags": []
   },
   "outputs": [],
   "source": [
    "filename_infos = COMBINE_harmonizer.build_redcap_filename_infos(_REDCAP_SHEET_COLUMN_MAP)"
   ]
  },
  {
   "cell_type": "markdown",
   "id": "ca03554f-9576-419d-8d02-ff9b15ff5a64",
   "metadata": {},
   "source": [
    "## 04. Construct All REDCap Columns"
   ]
  },
  {
   "cell_type": "code",
   "execution_count": 10,
   "id": "3fadd861-cfe5-475f-9bbb-9fff1ea68931",
   "metadata": {
    "execution": {
     "iopub.execute_input": "2025-05-04T13:45:54.831928Z",
     "iopub.status.busy": "2025-05-04T13:45:54.831826Z",
     "iopub.status.idle": "2025-05-04T13:45:55.173283Z",
     "shell.execute_reply": "2025-05-04T13:45:55.172944Z"
    },
    "tags": []
   },
   "outputs": [],
   "source": [
    "df_all_redcap_columns = COMBINE_harmonizer.all_redcap_columns(input_dir, filename_infos)"
   ]
  },
  {
   "cell_type": "code",
   "execution_count": 11,
   "id": "13e42d90-6210-4c34-8b71-6e4f82b3e9ee",
   "metadata": {
    "execution": {
     "iopub.execute_input": "2025-05-04T13:45:55.174531Z",
     "iopub.status.busy": "2025-05-04T13:45:55.174422Z",
     "iopub.status.idle": "2025-05-04T13:45:55.180860Z",
     "shell.execute_reply": "2025-05-04T13:45:55.180599Z"
    },
    "tags": []
   },
   "outputs": [
    {
     "data": {
      "text/html": [
       "<div>\n",
       "<style scoped>\n",
       "    .dataframe tbody tr th:only-of-type {\n",
       "        vertical-align: middle;\n",
       "    }\n",
       "\n",
       "    .dataframe tbody tr th {\n",
       "        vertical-align: top;\n",
       "    }\n",
       "\n",
       "    .dataframe thead th {\n",
       "        text-align: right;\n",
       "    }\n",
       "</style>\n",
       "<table border=\"1\" class=\"dataframe\">\n",
       "  <thead>\n",
       "    <tr style=\"text-align: right;\">\n",
       "      <th></th>\n",
       "      <th>count</th>\n",
       "    </tr>\n",
       "    <tr>\n",
       "      <th>field_name</th>\n",
       "      <th></th>\n",
       "    </tr>\n",
       "  </thead>\n",
       "  <tbody>\n",
       "  </tbody>\n",
       "</table>\n",
       "</div>"
      ],
      "text/plain": [
       "Empty DataFrame\n",
       "Columns: [count]\n",
       "Index: []"
      ]
     },
     "execution_count": 11,
     "metadata": {},
     "output_type": "execute_result"
    }
   ],
   "source": [
    "df_groupby = df_all_redcap_columns.groupby(['field_name']).agg(count=('field_name', 'count'))\n",
    "\n",
    "is_invalid = df_groupby['count'] > 1\n",
    "df_groupby[is_invalid]"
   ]
  },
  {
   "cell_type": "markdown",
   "id": "fba8e432",
   "metadata": {},
   "source": [
    "## 05. Construct df_form_names"
   ]
  },
  {
   "cell_type": "code",
   "execution_count": 12,
   "id": "bfbe9e5d",
   "metadata": {
    "execution": {
     "iopub.execute_input": "2025-05-04T13:45:55.182062Z",
     "iopub.status.busy": "2025-05-04T13:45:55.181882Z",
     "iopub.status.idle": "2025-05-04T13:45:55.186892Z",
     "shell.execute_reply": "2025-05-04T13:45:55.186636Z"
    }
   },
   "outputs": [
    {
     "data": {
      "text/html": [
       "<div>\n",
       "<style scoped>\n",
       "    .dataframe tbody tr th:only-of-type {\n",
       "        vertical-align: middle;\n",
       "    }\n",
       "\n",
       "    .dataframe tbody tr th {\n",
       "        vertical-align: top;\n",
       "    }\n",
       "\n",
       "    .dataframe thead th {\n",
       "        text-align: right;\n",
       "    }\n",
       "</style>\n",
       "<table border=\"1\" class=\"dataframe\">\n",
       "  <thead>\n",
       "    <tr style=\"text-align: right;\">\n",
       "      <th></th>\n",
       "      <th>form_name</th>\n",
       "      <th>form_category</th>\n",
       "      <th>form_repeated</th>\n",
       "    </tr>\n",
       "  </thead>\n",
       "  <tbody>\n",
       "    <tr>\n",
       "      <th>0</th>\n",
       "      <td>identifier</td>\n",
       "      <td>Pre-intervention</td>\n",
       "      <td>False</td>\n",
       "    </tr>\n",
       "    <tr>\n",
       "      <th>1</th>\n",
       "      <td>pre_screening</td>\n",
       "      <td>Pre-intervention</td>\n",
       "      <td>False</td>\n",
       "    </tr>\n",
       "    <tr>\n",
       "      <th>2</th>\n",
       "      <td>pre_maternal_demographics</td>\n",
       "      <td>Pre-intervention</td>\n",
       "      <td>False</td>\n",
       "    </tr>\n",
       "    <tr>\n",
       "      <th>3</th>\n",
       "      <td>pre_pregnancy_history</td>\n",
       "      <td>Pre-intervention</td>\n",
       "      <td>False</td>\n",
       "    </tr>\n",
       "    <tr>\n",
       "      <th>4</th>\n",
       "      <td>pre_labor_and_delivery</td>\n",
       "      <td>Pre-intervention</td>\n",
       "      <td>False</td>\n",
       "    </tr>\n",
       "    <tr>\n",
       "      <th>...</th>\n",
       "      <td>...</td>\n",
       "      <td>...</td>\n",
       "      <td>...</td>\n",
       "    </tr>\n",
       "    <tr>\n",
       "      <th>59</th>\n",
       "      <td>followup_status</td>\n",
       "      <td>Follow Up</td>\n",
       "      <td>False</td>\n",
       "    </tr>\n",
       "    <tr>\n",
       "      <th>60</th>\n",
       "      <td>followup_readmission</td>\n",
       "      <td>Follow Up</td>\n",
       "      <td>True</td>\n",
       "    </tr>\n",
       "    <tr>\n",
       "      <th>61</th>\n",
       "      <td>followup_lost_follow_up</td>\n",
       "      <td>Follow Up</td>\n",
       "      <td>False</td>\n",
       "    </tr>\n",
       "    <tr>\n",
       "      <th>62</th>\n",
       "      <td>followup_secondary_analysis</td>\n",
       "      <td>Follow Up</td>\n",
       "      <td>False</td>\n",
       "    </tr>\n",
       "    <tr>\n",
       "      <th>63</th>\n",
       "      <td>followup_outcome</td>\n",
       "      <td>Follow Up</td>\n",
       "      <td>False</td>\n",
       "    </tr>\n",
       "  </tbody>\n",
       "</table>\n",
       "<p>64 rows × 3 columns</p>\n",
       "</div>"
      ],
      "text/plain": [
       "                      form_name     form_category  form_repeated\n",
       "0                    identifier  Pre-intervention          False\n",
       "1                 pre_screening  Pre-intervention          False\n",
       "2     pre_maternal_demographics  Pre-intervention          False\n",
       "3         pre_pregnancy_history  Pre-intervention          False\n",
       "4        pre_labor_and_delivery  Pre-intervention          False\n",
       "..                          ...               ...            ...\n",
       "59              followup_status         Follow Up          False\n",
       "60         followup_readmission         Follow Up           True\n",
       "61      followup_lost_follow_up         Follow Up          False\n",
       "62  followup_secondary_analysis         Follow Up          False\n",
       "63             followup_outcome         Follow Up          False\n",
       "\n",
       "[64 rows x 3 columns]"
      ]
     },
     "execution_count": 12,
     "metadata": {},
     "output_type": "execute_result"
    }
   ],
   "source": [
    "columns = ['form_name', 'form_category', 'form_repeated']\n",
    "df_form_names = df_all_redcap_columns.drop_duplicates(columns)[columns].reset_index(drop=True)\n",
    "df_form_names"
   ]
  },
  {
   "cell_type": "markdown",
   "id": "2c1a2da5",
   "metadata": {},
   "source": [
    "## 06. Update REDCap Columns"
   ]
  },
  {
   "cell_type": "markdown",
   "id": "3795c861",
   "metadata": {},
   "source": [
    "### 06-1. clear invalid columns"
   ]
  },
  {
   "cell_type": "code",
   "execution_count": 13,
   "id": "f3fcda81",
   "metadata": {
    "execution": {
     "iopub.execute_input": "2025-05-04T13:45:55.188072Z",
     "iopub.status.busy": "2025-05-04T13:45:55.187898Z",
     "iopub.status.idle": "2025-05-04T13:45:55.189795Z",
     "shell.execute_reply": "2025-05-04T13:45:55.189545Z"
    }
   },
   "outputs": [],
   "source": [
    "for column in ['form_category', 'form_repeated']:\n",
    "    if column in df_all_redcap_columns:\n",
    "        del df_all_redcap_columns[column]"
   ]
  },
  {
   "cell_type": "markdown",
   "id": "d244f972",
   "metadata": {},
   "source": [
    "### 06-2. sort based on form_name"
   ]
  },
  {
   "cell_type": "code",
   "execution_count": 14,
   "id": "f739629d-f1d9-47ab-95c1-caacbc12174c",
   "metadata": {
    "execution": {
     "iopub.execute_input": "2025-05-04T13:45:55.190754Z",
     "iopub.status.busy": "2025-05-04T13:45:55.190656Z",
     "iopub.status.idle": "2025-05-04T13:45:55.194279Z",
     "shell.execute_reply": "2025-05-04T13:45:55.194007Z"
    },
    "tags": []
   },
   "outputs": [],
   "source": [
    "form_id_map = {each: idx for idx, each in enumerate(df_all_redcap_columns['form_name'].unique())}\n",
    "\n",
    "df_all_redcap_columns['form_id'] = df_all_redcap_columns['form_name'].apply(lambda x: form_id_map[x])\n",
    "df_all_redcap_columns['_index'] = df_all_redcap_columns.index\n",
    "\n",
    "df_all_redcap_columns = df_all_redcap_columns.sort_values(by=['form_id', '_index'])\n",
    "\n",
    "for column in ['form_id', '_index']:\n",
    "    del df_all_redcap_columns[column]"
   ]
  },
  {
   "cell_type": "markdown",
   "id": "156ea625",
   "metadata": {},
   "source": [
    "### 06-3. put to REDCap"
   ]
  },
  {
   "cell_type": "code",
   "execution_count": 15,
   "id": "dadacb0d",
   "metadata": {
    "execution": {
     "iopub.execute_input": "2025-05-04T13:45:55.195320Z",
     "iopub.status.busy": "2025-05-04T13:45:55.195089Z",
     "iopub.status.idle": "2025-05-04T13:45:55.250282Z",
     "shell.execute_reply": "2025-05-04T13:45:55.249956Z"
    }
   },
   "outputs": [],
   "source": [
    "all_redcap_columns = [dict(each) for idx, each in df_all_redcap_columns.iterrows()]"
   ]
  },
  {
   "cell_type": "code",
   "execution_count": 16,
   "id": "bb02a642-5d81-4a7a-ab2d-dd4b05cad18c",
   "metadata": {
    "execution": {
     "iopub.execute_input": "2025-05-04T13:45:55.251453Z",
     "iopub.status.busy": "2025-05-04T13:45:55.251352Z",
     "iopub.status.idle": "2025-05-04T13:45:59.773081Z",
     "shell.execute_reply": "2025-05-04T13:45:59.772720Z"
    },
    "tags": []
   },
   "outputs": [
    {
     "data": {
      "text/plain": [
       "(None, 1215)"
      ]
     },
     "execution_count": 16,
     "metadata": {},
     "output_type": "execute_result"
    }
   ],
   "source": [
    "COMBINE_harmonizer.put_redcap_data('metadata', all_redcap_columns)"
   ]
  },
  {
   "cell_type": "markdown",
   "id": "398f258a",
   "metadata": {},
   "source": [
    "## 07. Create Form-Event Mapping"
   ]
  },
  {
   "cell_type": "code",
   "execution_count": 17,
   "id": "f6ba63e3",
   "metadata": {
    "execution": {
     "iopub.execute_input": "2025-05-04T13:45:59.774375Z",
     "iopub.status.busy": "2025-05-04T13:45:59.774266Z",
     "iopub.status.idle": "2025-05-04T13:45:59.778290Z",
     "shell.execute_reply": "2025-05-04T13:45:59.778033Z"
    }
   },
   "outputs": [],
   "source": [
    "form_events = [COMBINE_harmonizer.redcap_form_event(row['form_name'], row['form_category']) for idx, row in df_form_names.iterrows()]"
   ]
  },
  {
   "cell_type": "code",
   "execution_count": 18,
   "id": "345121ae",
   "metadata": {
    "execution": {
     "iopub.execute_input": "2025-05-04T13:45:59.779470Z",
     "iopub.status.busy": "2025-05-04T13:45:59.779287Z",
     "iopub.status.idle": "2025-05-04T13:46:00.235293Z",
     "shell.execute_reply": "2025-05-04T13:46:00.234665Z"
    }
   },
   "outputs": [
    {
     "data": {
      "text/plain": [
       "(None, 64)"
      ]
     },
     "execution_count": 18,
     "metadata": {},
     "output_type": "execute_result"
    }
   ],
   "source": [
    "COMBINE_harmonizer.import_redcap_data('formEventMapping', form_events)"
   ]
  },
  {
   "cell_type": "markdown",
   "id": "74e2b8a1",
   "metadata": {},
   "source": [
    "## 08. Repeated Instruments"
   ]
  },
  {
   "cell_type": "code",
   "execution_count": 19,
   "id": "02eb6f09",
   "metadata": {
    "execution": {
     "iopub.execute_input": "2025-05-04T13:46:00.237505Z",
     "iopub.status.busy": "2025-05-04T13:46:00.237295Z",
     "iopub.status.idle": "2025-05-04T13:46:00.240683Z",
     "shell.execute_reply": "2025-05-04T13:46:00.240199Z"
    }
   },
   "outputs": [],
   "source": [
    "is_repeated_instrument = df_form_names['form_repeated']\n",
    "df_repeated_form_names = df_form_names[is_repeated_instrument]"
   ]
  },
  {
   "cell_type": "code",
   "execution_count": 20,
   "id": "82aad79e",
   "metadata": {
    "execution": {
     "iopub.execute_input": "2025-05-04T13:46:00.242892Z",
     "iopub.status.busy": "2025-05-04T13:46:00.242551Z",
     "iopub.status.idle": "2025-05-04T13:46:00.246807Z",
     "shell.execute_reply": "2025-05-04T13:46:00.246318Z"
    }
   },
   "outputs": [],
   "source": [
    "repeated_form_events = [COMBINE_harmonizer.redcap_repeated_form_event(row['form_name'], row['form_category']) for idx, row in df_repeated_form_names.iterrows()]"
   ]
  },
  {
   "cell_type": "code",
   "execution_count": 21,
   "id": "bfdfd469",
   "metadata": {
    "execution": {
     "iopub.execute_input": "2025-05-04T13:46:00.248872Z",
     "iopub.status.busy": "2025-05-04T13:46:00.248534Z",
     "iopub.status.idle": "2025-05-04T13:46:00.486314Z",
     "shell.execute_reply": "2025-05-04T13:46:00.485669Z"
    }
   },
   "outputs": [
    {
     "data": {
      "text/plain": [
       "(None, 17)"
      ]
     },
     "execution_count": 21,
     "metadata": {},
     "output_type": "execute_result"
    }
   ],
   "source": [
    "COMBINE_harmonizer.put_redcap_data('repeatingFormsEvents', repeated_form_events)"
   ]
  },
  {
   "cell_type": "code",
   "execution_count": null,
   "id": "910e597b",
   "metadata": {},
   "outputs": [],
   "source": []
  }
 ],
 "metadata": {
  "kernelspec": {
   "display_name": ".venv",
   "language": "python",
   "name": "python3"
  },
  "language_info": {
   "codemirror_mode": {
    "name": "ipython",
    "version": 3
   },
   "file_extension": ".py",
   "mimetype": "text/x-python",
   "name": "python",
   "nbconvert_exporter": "python",
   "pygments_lexer": "ipython3",
   "version": "3.12.3"
  }
 },
 "nbformat": 4,
 "nbformat_minor": 5
}
