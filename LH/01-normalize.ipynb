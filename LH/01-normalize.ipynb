{
 "cells": [
  {
   "cell_type": "code",
   "execution_count": 1,
   "id": "b489f506-fad1-426c-8c20-01483f08535c",
   "metadata": {
    "execution": {
     "iopub.execute_input": "2025-01-21T19:14:08.358388Z",
     "iopub.status.busy": "2025-01-21T19:14:08.358037Z",
     "iopub.status.idle": "2025-01-21T19:14:09.331475Z",
     "shell.execute_reply": "2025-01-21T19:14:09.331183Z"
    }
   },
   "outputs": [],
   "source": [
    "import pandas as pd\n",
    "pd.options.mode.copy_on_write = True\n",
    "import warnings\n",
    "warnings.simplefilter(action='ignore', category=pd.errors.PerformanceWarning)\n",
    "\n",
    "import os\n",
    "import re\n",
    "import pydoc\n",
    "\n",
    "import COMBINE_harmonizer\n",
    "from COMBINE_harmonizer import cfg"
   ]
  },
  {
   "cell_type": "markdown",
   "id": "d4fd686c-7c99-4fca-b7d1-8bb141cd477a",
   "metadata": {},
   "source": [
    "## 00-0. Variables"
   ]
  },
  {
   "cell_type": "code",
   "execution_count": 2,
   "id": "48d0618d-f788-4439-9571-5e92607aea9a",
   "metadata": {
    "execution": {
     "iopub.execute_input": "2025-01-21T19:14:09.333183Z",
     "iopub.status.busy": "2025-01-21T19:14:09.333043Z",
     "iopub.status.idle": "2025-01-21T19:14:09.334811Z",
     "shell.execute_reply": "2025-01-21T19:14:09.334609Z"
    }
   },
   "outputs": [],
   "source": [
    "study_name = COMBINE_harmonizer.STUDY_LH\n",
    "sheet_name = COMBINE_harmonizer.SHEET_MAIN\n",
    "\n",
    "root_dir = '..'"
   ]
  },
  {
   "cell_type": "code",
   "execution_count": 3,
   "id": "4d14b585",
   "metadata": {
    "execution": {
     "iopub.execute_input": "2025-01-21T19:14:09.335896Z",
     "iopub.status.busy": "2025-01-21T19:14:09.335825Z",
     "iopub.status.idle": "2025-01-21T19:14:09.339204Z",
     "shell.execute_reply": "2025-01-21T19:14:09.338992Z"
    }
   },
   "outputs": [],
   "source": [
    "COMBINE_harmonizer.init(f'{root_dir}/config.yaml')"
   ]
  },
  {
   "cell_type": "code",
   "execution_count": 4,
   "id": "fe65a0c3-3f8f-4064-a8c4-1faf39a43ed4",
   "metadata": {
    "execution": {
     "iopub.execute_input": "2025-01-21T19:14:09.340289Z",
     "iopub.status.busy": "2025-01-21T19:14:09.340215Z",
     "iopub.status.idle": "2025-01-21T19:14:09.342096Z",
     "shell.execute_reply": "2025-01-21T19:14:09.341890Z"
    }
   },
   "outputs": [],
   "source": [
    "_FILENAMES = [\n",
    "    'lh01.csv',\n",
    "    'lh02.csv',\n",
    "    'lh04.csv',\n",
    "    'lh05.csv',\n",
    "    'lh06.csv',\n",
    "    'lh06a.csv',\n",
    "    'lh06bg.csv',\n",
    "    'lh06cv.csv',\n",
    "    'lh06f.csv',\n",
    "    'lh06he.csv',\n",
    "    'lh06ht.csv',\n",
    "    'lh06om.csv',\n",
    "    'lh06rs.csv',\n",
    "    'lh06tr.csv',\n",
    "    'lh07.csv',\n",
    "    'lh09.csv',\n",
    "    'lh10.csv',\n",
    "    'lh11.csv',\n",
    "    'lh12.csv',\n",
    "    'lh13.csv',\n",
    "    'lh14.csv',\n",
    "    'lhmr01.csv',\n",
    "    'lhmr02.csv',\n",
    "    'lhmr03.csv',\n",
    "]\n",
    "\n",
    "# intended for single record per unique-id.\n",
    "_FILENAMES_MERGE = [\n",
    "    'lh01.csv',\n",
    "    'lh02.csv',\n",
    "    'lh04.csv',\n",
    "    'lh05.csv',\n",
    "    'lh06.csv',\n",
    "    'lh10.csv',\n",
    "    'lh11.csv',\n",
    "    'lh12.csv',\n",
    "    'lh13.csv',\n",
    "]\n",
    "\n",
    "# MRI intended for single record per unique-id.\n",
    "_MRI_FILENAMES_MERGE = [\n",
    "    'lhmr01.csv',\n",
    "    'lhmr02.csv',\n",
    "]\n",
    "\n",
    "_MRI_FILENAME = 'lhmr03.csv'"
   ]
  },
  {
   "cell_type": "code",
   "execution_count": 5,
   "id": "1aa45ae9-189d-4602-83cf-6c5e702b2e64",
   "metadata": {
    "execution": {
     "iopub.execute_input": "2025-01-21T19:14:09.343160Z",
     "iopub.status.busy": "2025-01-21T19:14:09.343076Z",
     "iopub.status.idle": "2025-01-21T19:14:09.353646Z",
     "shell.execute_reply": "2025-01-21T19:14:09.353429Z"
    }
   },
   "outputs": [],
   "source": [
    "input_dir = cfg.config[f'{study_name}_dir']\n",
    "data_dict_filename = f\"{root_dir}/{COMBINE_harmonizer.DATA_DICTIONARY_EXCEL}\"\n",
    "out_dir = f\"{cfg.config['out_dir']}/out-{study_name}\"\n",
    "\n",
    "os.makedirs(out_dir, exist_ok=True)"
   ]
  },
  {
   "cell_type": "markdown",
   "id": "b285c802-c2b9-425b-b38d-d220775e47a9",
   "metadata": {},
   "source": [
    "### 00-1. Column Map"
   ]
  },
  {
   "cell_type": "code",
   "execution_count": 6,
   "id": "77c974c4-8083-48e9-b0ad-fd1879f6be5a",
   "metadata": {
    "execution": {
     "iopub.execute_input": "2025-01-21T19:14:09.354782Z",
     "iopub.status.busy": "2025-01-21T19:14:09.354708Z",
     "iopub.status.idle": "2025-01-21T19:14:09.805778Z",
     "shell.execute_reply": "2025-01-21T19:14:09.805413Z"
    }
   },
   "outputs": [],
   "source": [
    "df_data_dict = COMBINE_harmonizer.load_data_dict(data_dict_filename, sheet_name=sheet_name)\n",
    "all_valid_columns = list(df_data_dict[COMBINE_harmonizer.DATA_DICT_VAR_NAME])\n",
    "column_map = {each[study_name]: each[COMBINE_harmonizer.DATA_DICT_VAR_NAME] for _, each in df_data_dict.iterrows()}"
   ]
  },
  {
   "cell_type": "markdown",
   "id": "b77a20a2-6214-431c-91e1-07d5cbca7ee8",
   "metadata": {},
   "source": [
    "### 00-2. df-dict from _FILENAMES"
   ]
  },
  {
   "cell_type": "code",
   "execution_count": 7,
   "id": "929d693d-3bf8-4811-8872-f9eb8880a58c",
   "metadata": {
    "execution": {
     "iopub.execute_input": "2025-01-21T19:14:09.807229Z",
     "iopub.status.busy": "2025-01-21T19:14:09.807142Z",
     "iopub.status.idle": "2025-01-21T19:14:10.068812Z",
     "shell.execute_reply": "2025-01-21T19:14:10.068399Z"
    }
   },
   "outputs": [],
   "source": [
    "df_dict = {filename: pd.read_csv(os.sep.join([input_dir, filename]), dtype='O').rename(columns=column_map) for filename in _FILENAMES}"
   ]
  },
  {
   "cell_type": "markdown",
   "id": "ad0e089a-a95b-44f0-b7a9-1c80cc85a484",
   "metadata": {},
   "source": [
    "### 00-3. df-all and df-main"
   ]
  },
  {
   "cell_type": "code",
   "execution_count": 8,
   "id": "7d00a1d9-b808-4af9-a5ca-d984bb5e03fd",
   "metadata": {
    "execution": {
     "iopub.execute_input": "2025-01-21T19:14:10.070636Z",
     "iopub.status.busy": "2025-01-21T19:14:10.070483Z",
     "iopub.status.idle": "2025-01-21T19:14:10.100953Z",
     "shell.execute_reply": "2025-01-21T19:14:10.100710Z"
    }
   },
   "outputs": [
    {
     "data": {
      "text/plain": [
       "(3088, 406)"
      ]
     },
     "execution_count": 8,
     "metadata": {},
     "output_type": "execute_result"
    }
   ],
   "source": [
    "df_all = None\n",
    "for idx, each_filename in enumerate(_FILENAMES_MERGE):\n",
    "    each_full_filename = os.sep.join([root_dir, each_filename])\n",
    "    each_df = df_dict[each_filename]\n",
    "    columns = list(each_df.columns)\n",
    "    each_filename_prefix = re.sub(r'\\.csv$', '', each_filename)\n",
    "\n",
    "    if df_all is None:\n",
    "        df_all = each_df\n",
    "    else:\n",
    "        df_all = df_all.merge(each_df, on=['center', 'subjectID'], how='outer', suffixes=['', ':' + each_filename_prefix])\n",
    "\n",
    "len(df_all), len(df_all.columns)"
   ]
  },
  {
   "cell_type": "code",
   "execution_count": 9,
   "id": "ae9a86c0-8cda-4362-953f-cb652e5bc1c1",
   "metadata": {
    "execution": {
     "iopub.execute_input": "2025-01-21T19:14:10.102165Z",
     "iopub.status.busy": "2025-01-21T19:14:10.102081Z",
     "iopub.status.idle": "2025-01-21T19:14:10.107365Z",
     "shell.execute_reply": "2025-01-21T19:14:10.107135Z"
    }
   },
   "outputs": [
    {
     "name": "stdout",
     "output_type": "stream",
     "text": [
      "to set main\n"
     ]
    },
    {
     "data": {
      "text/plain": [
       "(168, 406)"
      ]
     },
     "execution_count": 9,
     "metadata": {},
     "output_type": "execute_result"
    }
   ],
   "source": [
    "# main\n",
    "print('to set main')\n",
    "is_main = df_all['randomNumber'].isnull() == False\n",
    "\n",
    "df_main = df_all[is_main]\n",
    "len(df_main), len(df_main.columns)"
   ]
  },
  {
   "cell_type": "markdown",
   "id": "f5b6782a-4469-43e4-ad39-baf41819c11a",
   "metadata": {},
   "source": [
    "### 00-4. identifier-column"
   ]
  },
  {
   "cell_type": "code",
   "execution_count": 10,
   "id": "61a86c14-03a7-4ed9-960e-785a336c474b",
   "metadata": {
    "execution": {
     "iopub.execute_input": "2025-01-21T19:14:10.108587Z",
     "iopub.status.busy": "2025-01-21T19:14:10.108512Z",
     "iopub.status.idle": "2025-01-21T19:14:10.110913Z",
     "shell.execute_reply": "2025-01-21T19:14:10.110712Z"
    }
   },
   "outputs": [
    {
     "data": {
      "text/plain": [
       "['center', 'subjectID']"
      ]
     },
     "execution_count": 10,
     "metadata": {},
     "output_type": "execute_result"
    }
   ],
   "source": [
    "id_columns = COMBINE_harmonizer.get_columns(df_data_dict, 'Pre-intervention', 'Identity')\n",
    "id_columns"
   ]
  },
  {
   "cell_type": "markdown",
   "id": "f5ba0833-5c1b-4525-b3c0-3dbebd58b374",
   "metadata": {},
   "source": [
    "## 01-02. screening"
   ]
  },
  {
   "cell_type": "code",
   "execution_count": 11,
   "id": "d8e4550f-e2f8-4612-b53a-d4a045f16d1e",
   "metadata": {
    "execution": {
     "iopub.execute_input": "2025-01-21T19:14:10.112085Z",
     "iopub.status.busy": "2025-01-21T19:14:10.112007Z",
     "iopub.status.idle": "2025-01-21T19:14:10.114353Z",
     "shell.execute_reply": "2025-01-21T19:14:10.114155Z"
    }
   },
   "outputs": [
    {
     "data": {
      "text/plain": [
       "['siteID',\n",
       " 'birthDate',\n",
       " 'birthNumber',\n",
       " 'screenComment',\n",
       " 'coreTempLess32p5COverEq2Hr_e',\n",
       " 'coreTempLess33p5COver1Hr_e',\n",
       " 'coreTempLess34COver1Hr_e',\n",
       " 'first6HrCoolByClinicalProtocol_e',\n",
       " 'chromosomalAbnormality_e',\n",
       " 'majorCongenitalAnomaly_e',\n",
       " 'birthWeightLessEq1800g_e',\n",
       " 'infantUnlikelySurvive_e',\n",
       " 'first60MinAllBloodGasPHGreater7p15BaseDeficitLess10mEqPerL_e',\n",
       " 'postnatalAgeLess6HrOrGreater24Hr_e',\n",
       " 'enrolledConflictingTrial_e',\n",
       " 'first60MinAnyBloodGasPHLessEq7_i',\n",
       " 'first60MinAnyBloodGasBaseDeficitGreaterEq16mEqPerL_i',\n",
       " 'historyPerinatalEvent_i',\n",
       " 'at10MinApgarLessEq5OrVent_i',\n",
       " 'randomEligible',\n",
       " 'consentStatus',\n",
       " 'noConsentReason',\n",
       " 'noInStudyReason',\n",
       " 'random',\n",
       " 'noRandomReason',\n",
       " 'noRandomReasonText',\n",
       " 'randomDate',\n",
       " 'randomTime',\n",
       " 'randomNumber',\n",
       " 'randomTreatmentAssign',\n",
       " 'randomTreatmentReceive',\n",
       " 'treatmentBlanketType',\n",
       " 'inOtherTrial',\n",
       " 'inOtherTrialText']"
      ]
     },
     "execution_count": 11,
     "metadata": {},
     "output_type": "execute_result"
    }
   ],
   "source": [
    "screening_columns = COMBINE_harmonizer.get_columns(df_data_dict, 'Pre-intervention', 'Screening')\n",
    "all_screening_columns = id_columns + screening_columns\n",
    "screening_columns"
   ]
  },
  {
   "cell_type": "code",
   "execution_count": 12,
   "id": "7ede700d-a34c-4fd0-bfc6-435221b2e8f5",
   "metadata": {
    "execution": {
     "iopub.execute_input": "2025-01-21T19:14:10.115499Z",
     "iopub.status.busy": "2025-01-21T19:14:10.115428Z",
     "iopub.status.idle": "2025-01-21T19:14:10.284825Z",
     "shell.execute_reply": "2025-01-21T19:14:10.284438Z"
    }
   },
   "outputs": [
    {
     "name": "stdout",
     "output_type": "stream",
     "text": [
      "to set screening\n",
      "(5/36) screenComment not in df\n",
      "(6/36) coreTempLess32p5COverEq2Hr_e not in df\n",
      "(7/36) coreTempLess33p5COver1Hr_e not in df\n",
      "(21/36) randomEligible not in df\n",
      "(25/36) random not in df\n",
      "(26/36) noRandomReason not in df\n",
      "(27/36) noRandomReasonText not in df\n",
      "(32/36) randomTreatmentReceive not in df\n",
      "(33/36) treatmentBlanketType not in df\n",
      "(5/36) screenComment not in df\n",
      "(6/36) coreTempLess32p5COverEq2Hr_e not in df\n",
      "(7/36) coreTempLess33p5COver1Hr_e not in df\n",
      "(21/36) randomEligible not in df\n",
      "(25/36) random not in df\n",
      "(26/36) noRandomReason not in df\n",
      "(27/36) noRandomReasonText not in df\n",
      "(32/36) randomTreatmentReceive not in df\n",
      "(33/36) treatmentBlanketType not in df\n"
     ]
    }
   ],
   "source": [
    "# screening\n",
    "print('to set screening')\n",
    "df_screening = COMBINE_harmonizer.valid_columns(df_all, all_screening_columns)\n",
    "df_screening = COMBINE_harmonizer.postprocess(df_screening)\n",
    "\n",
    "out_filename = os.sep.join([out_dir, '00-02-screening.csv'])\n",
    "df_screening.to_csv(out_filename, index=False)\n",
    "\n",
    "df_main_screening = COMBINE_harmonizer.valid_columns(df_main, all_screening_columns)\n",
    "df_main_screening = COMBINE_harmonizer.postprocess(df_main_screening)\n",
    "\n",
    "out_filename = os.sep.join([out_dir, '01-02-screening.csv'])\n",
    "df_main_screening.to_csv(out_filename, index=False)"
   ]
  },
  {
   "cell_type": "markdown",
   "id": "da14e155-db10-4f30-970b-9548d360b2bc",
   "metadata": {},
   "source": [
    "### 01-02-1. check screening"
   ]
  },
  {
   "cell_type": "code",
   "execution_count": 13,
   "id": "4370e2f9-f57e-45f1-af7f-1bdc97e28fe8",
   "metadata": {
    "execution": {
     "iopub.execute_input": "2025-01-21T19:14:10.286876Z",
     "iopub.status.busy": "2025-01-21T19:14:10.286706Z",
     "iopub.status.idle": "2025-01-21T19:14:10.290639Z",
     "shell.execute_reply": "2025-01-21T19:14:10.290298Z"
    }
   },
   "outputs": [
    {
     "data": {
      "text/plain": [
       "(21, 656, 3088, 3088)"
      ]
     },
     "execution_count": 13,
     "metadata": {},
     "output_type": "execute_result"
    }
   ],
   "source": [
    "len(df_screening['center'].unique()), len(df_screening['subjectID'].unique()), len(df_screening['uniqueID'].unique()), len(df_screening)"
   ]
  },
  {
   "cell_type": "code",
   "execution_count": 14,
   "id": "8e691b77-1cef-42d8-8e11-de1eefc83cbd",
   "metadata": {
    "execution": {
     "iopub.execute_input": "2025-01-21T19:14:10.292307Z",
     "iopub.status.busy": "2025-01-21T19:14:10.292197Z",
     "iopub.status.idle": "2025-01-21T19:14:10.301275Z",
     "shell.execute_reply": "2025-01-21T19:14:10.300963Z"
    }
   },
   "outputs": [
    {
     "data": {
      "text/html": [
       "<div>\n",
       "<style scoped>\n",
       "    .dataframe tbody tr th:only-of-type {\n",
       "        vertical-align: middle;\n",
       "    }\n",
       "\n",
       "    .dataframe tbody tr th {\n",
       "        vertical-align: top;\n",
       "    }\n",
       "\n",
       "    .dataframe thead th {\n",
       "        text-align: right;\n",
       "    }\n",
       "</style>\n",
       "<table border=\"1\" class=\"dataframe\">\n",
       "  <thead>\n",
       "    <tr style=\"text-align: right;\">\n",
       "      <th></th>\n",
       "      <th>_count</th>\n",
       "    </tr>\n",
       "    <tr>\n",
       "      <th>uniqueID</th>\n",
       "      <th></th>\n",
       "    </tr>\n",
       "  </thead>\n",
       "  <tbody>\n",
       "  </tbody>\n",
       "</table>\n",
       "</div>"
      ],
      "text/plain": [
       "Empty DataFrame\n",
       "Columns: [_count]\n",
       "Index: []"
      ]
     },
     "execution_count": 14,
     "metadata": {},
     "output_type": "execute_result"
    }
   ],
   "source": [
    "df_screening_groupby = df_screening.groupby(['uniqueID']).agg(_count=('uniqueID', 'count'))\n",
    "\n",
    "is_invalid = df_screening_groupby['_count'] > 1\n",
    "df_screening_groupby[is_invalid]"
   ]
  },
  {
   "cell_type": "markdown",
   "id": "1c327177-5f4e-4a84-a36c-91ac4c33e221",
   "metadata": {},
   "source": [
    "### 01-02-2. check empty cells"
   ]
  },
  {
   "cell_type": "code",
   "execution_count": 15,
   "id": "163936b7-2777-41f1-bb70-6fac4b7098cc",
   "metadata": {
    "execution": {
     "iopub.execute_input": "2025-01-21T19:14:10.302783Z",
     "iopub.status.busy": "2025-01-21T19:14:10.302682Z",
     "iopub.status.idle": "2025-01-21T19:14:10.310871Z",
     "shell.execute_reply": "2025-01-21T19:14:10.310640Z"
    }
   },
   "outputs": [
    {
     "name": "stdout",
     "output_type": "stream",
     "text": [
      "(0/28) column: center (3088 / 0)\n",
      "(1/28) column: subjectID (3088 / 0)\n",
      "(2/28) column: uniqueID (3088 / 0)\n",
      "(3/28) column: siteID (3088 / 0)\n",
      "(4/28) column: birthDate (3088 / 0)\n",
      "(5/28) column: birthNumber (3087 / 1)\n",
      "(6/28) column: coreTempLess34COver1Hr_e (3088 / 0)\n",
      "(7/28) column: first6HrCoolByClinicalProtocol_e (1295 / 1793)\n",
      "(8/28) column: chromosomalAbnormality_e (3088 / 0)\n",
      "(9/28) column: majorCongenitalAnomaly_e (3088 / 0)\n",
      "(10/28) column: birthWeightLessEq1800g_e (3088 / 0)\n",
      "(11/28) column: infantUnlikelySurvive_e (3088 / 0)\n",
      "(12/28) column: first60MinAllBloodGasPHGreater7p15BaseDeficitLess10mEqPerL_e (2774 / 314)\n",
      "(13/28) column: postnatalAgeLess6HrOrGreater24Hr_e (3088 / 0)\n",
      "(14/28) column: enrolledConflictingTrial_e (2968 / 120)\n",
      "(15/28) column: first60MinAnyBloodGasPHLessEq7_i (1121 / 1967)\n",
      "(16/28) column: first60MinAnyBloodGasBaseDeficitGreaterEq16mEqPerL_i (1080 / 2008)\n",
      "(17/28) column: historyPerinatalEvent_i (632 / 2456)\n",
      "(18/28) column: at10MinApgarLessEq5OrVent_i (632 / 2456)\n",
      "(19/28) column: noConsentReason (13 / 3075)\n",
      "(20/28) column: noInStudyReason (1 / 3087)\n",
      "(21/28) column: consentStatus (3088 / 0)\n",
      "(22/28) column: randomDate (168 / 2920)\n",
      "(23/28) column: randomTime (168 / 2920)\n",
      "(24/28) column: randomNumber (168 / 2920)\n",
      "(25/28) column: randomTreatmentAssign (168 / 2920)\n",
      "(26/28) column: inOtherTrial (168 / 2920)\n",
      "(27/28) column: inOtherTrialText (2 / 3086)\n"
     ]
    }
   ],
   "source": [
    "COMBINE_harmonizer.check_empty(df_screening)"
   ]
  },
  {
   "cell_type": "markdown",
   "id": "f8d9c1fd-7d30-4e06-a404-72ff90366dca",
   "metadata": {},
   "source": [
    "### 01-02-3. check main-screening"
   ]
  },
  {
   "cell_type": "code",
   "execution_count": 16,
   "id": "1d36d01b-0a8b-4f6e-a515-d813c4618c0d",
   "metadata": {
    "execution": {
     "iopub.execute_input": "2025-01-21T19:14:10.312258Z",
     "iopub.status.busy": "2025-01-21T19:14:10.312169Z",
     "iopub.status.idle": "2025-01-21T19:14:10.315077Z",
     "shell.execute_reply": "2025-01-21T19:14:10.314758Z"
    }
   },
   "outputs": [
    {
     "data": {
      "text/plain": [
       "(21, 122, 168, 168)"
      ]
     },
     "execution_count": 16,
     "metadata": {},
     "output_type": "execute_result"
    }
   ],
   "source": [
    "len(df_main_screening['center'].unique()), len(df_main_screening['subjectID'].unique()), len(df_main_screening['uniqueID'].unique()), len(df_main_screening)"
   ]
  },
  {
   "cell_type": "code",
   "execution_count": 17,
   "id": "271b136d-4004-44c5-9d3f-f5e26f588909",
   "metadata": {
    "execution": {
     "iopub.execute_input": "2025-01-21T19:14:10.316732Z",
     "iopub.status.busy": "2025-01-21T19:14:10.316591Z",
     "iopub.status.idle": "2025-01-21T19:14:10.321673Z",
     "shell.execute_reply": "2025-01-21T19:14:10.321442Z"
    }
   },
   "outputs": [
    {
     "data": {
      "text/html": [
       "<div>\n",
       "<style scoped>\n",
       "    .dataframe tbody tr th:only-of-type {\n",
       "        vertical-align: middle;\n",
       "    }\n",
       "\n",
       "    .dataframe tbody tr th {\n",
       "        vertical-align: top;\n",
       "    }\n",
       "\n",
       "    .dataframe thead th {\n",
       "        text-align: right;\n",
       "    }\n",
       "</style>\n",
       "<table border=\"1\" class=\"dataframe\">\n",
       "  <thead>\n",
       "    <tr style=\"text-align: right;\">\n",
       "      <th></th>\n",
       "      <th>_count</th>\n",
       "    </tr>\n",
       "    <tr>\n",
       "      <th>uniqueID</th>\n",
       "      <th></th>\n",
       "    </tr>\n",
       "  </thead>\n",
       "  <tbody>\n",
       "  </tbody>\n",
       "</table>\n",
       "</div>"
      ],
      "text/plain": [
       "Empty DataFrame\n",
       "Columns: [_count]\n",
       "Index: []"
      ]
     },
     "execution_count": 17,
     "metadata": {},
     "output_type": "execute_result"
    }
   ],
   "source": [
    "df_main_screening_groupby = df_main_screening.groupby(['uniqueID']).agg(_count=('uniqueID', 'count'))\n",
    "\n",
    "is_invalid = df_main_screening_groupby['_count'] > 1\n",
    "df_main_screening_groupby[is_invalid]"
   ]
  },
  {
   "cell_type": "markdown",
   "id": "163fb000-06fc-4aa0-97a9-c73fa8baf7d4",
   "metadata": {},
   "source": [
    "### 01-02-4. check empty cells"
   ]
  },
  {
   "cell_type": "code",
   "execution_count": 18,
   "id": "e063a916-fdc6-489e-bd61-25e96c16f0d1",
   "metadata": {
    "execution": {
     "iopub.execute_input": "2025-01-21T19:14:10.323010Z",
     "iopub.status.busy": "2025-01-21T19:14:10.322917Z",
     "iopub.status.idle": "2025-01-21T19:14:10.326783Z",
     "shell.execute_reply": "2025-01-21T19:14:10.326534Z"
    }
   },
   "outputs": [
    {
     "name": "stdout",
     "output_type": "stream",
     "text": [
      "(0/28) column: center (168 / 0)\n",
      "(1/28) column: subjectID (168 / 0)\n",
      "(2/28) column: uniqueID (168 / 0)\n",
      "(3/28) column: siteID (168 / 0)\n",
      "(4/28) column: birthDate (168 / 0)\n",
      "(5/28) column: birthNumber (168 / 0)\n",
      "(6/28) column: coreTempLess34COver1Hr_e (168 / 0)\n",
      "(7/28) column: first6HrCoolByClinicalProtocol_e (0 / 168)\n",
      "(8/28) column: chromosomalAbnormality_e (168 / 0)\n",
      "(9/28) column: majorCongenitalAnomaly_e (168 / 0)\n",
      "(10/28) column: birthWeightLessEq1800g_e (168 / 0)\n",
      "(11/28) column: infantUnlikelySurvive_e (168 / 0)\n",
      "(12/28) column: first60MinAllBloodGasPHGreater7p15BaseDeficitLess10mEqPerL_e (153 / 15)\n",
      "(13/28) column: postnatalAgeLess6HrOrGreater24Hr_e (168 / 0)\n",
      "(14/28) column: enrolledConflictingTrial_e (162 / 6)\n",
      "(15/28) column: first60MinAnyBloodGasPHLessEq7_i (156 / 12)\n",
      "(16/28) column: first60MinAnyBloodGasBaseDeficitGreaterEq16mEqPerL_i (141 / 27)\n",
      "(17/28) column: historyPerinatalEvent_i (44 / 124)\n",
      "(18/28) column: at10MinApgarLessEq5OrVent_i (44 / 124)\n",
      "(19/28) column: noConsentReason (0 / 168)\n",
      "(20/28) column: noInStudyReason (0 / 168)\n",
      "(21/28) column: consentStatus (168 / 0)\n",
      "(22/28) column: randomDate (168 / 0)\n",
      "(23/28) column: randomTime (168 / 0)\n",
      "(24/28) column: randomNumber (168 / 0)\n",
      "(25/28) column: randomTreatmentAssign (168 / 0)\n",
      "(26/28) column: inOtherTrial (168 / 0)\n",
      "(27/28) column: inOtherTrialText (2 / 166)\n"
     ]
    }
   ],
   "source": [
    "COMBINE_harmonizer.check_empty(df_main_screening)"
   ]
  },
  {
   "cell_type": "code",
   "execution_count": 19,
   "id": "212d30f6",
   "metadata": {
    "execution": {
     "iopub.execute_input": "2025-01-21T19:14:10.327965Z",
     "iopub.status.busy": "2025-01-21T19:14:10.327883Z",
     "iopub.status.idle": "2025-01-21T19:14:10.330750Z",
     "shell.execute_reply": "2025-01-21T19:14:10.330531Z"
    }
   },
   "outputs": [
    {
     "name": "stdout",
     "output_type": "stream",
     "text": [
      "(0/28) center: (168/0)\n",
      "(1/28) subjectID: (168/0)\n",
      "(2/28) uniqueID: (168/0)\n",
      "(3/28) siteID: (168/0)\n",
      "(4/28) birthDate: (168/0)\n",
      "(5/28) birthNumber: (168/0)\n",
      "(6/28) coreTempLess34COver1Hr_e: (168/0)\n",
      "(7/28) first6HrCoolByClinicalProtocol_e: (0/168)\n",
      "(8/28) chromosomalAbnormality_e: (168/0)\n",
      "(9/28) majorCongenitalAnomaly_e: (168/0)\n",
      "(10/28) birthWeightLessEq1800g_e: (168/0)\n",
      "(11/28) infantUnlikelySurvive_e: (168/0)\n",
      "(12/28) first60MinAllBloodGasPHGreater7p15BaseDeficitLess10mEqPerL_e: (153/15)\n",
      "(13/28) postnatalAgeLess6HrOrGreater24Hr_e: (168/0)\n",
      "(14/28) enrolledConflictingTrial_e: (162/6)\n",
      "(15/28) first60MinAnyBloodGasPHLessEq7_i: (156/12)\n",
      "(16/28) first60MinAnyBloodGasBaseDeficitGreaterEq16mEqPerL_i: (141/27)\n",
      "(17/28) historyPerinatalEvent_i: (44/124)\n",
      "(18/28) at10MinApgarLessEq5OrVent_i: (44/124)\n",
      "(19/28) noConsentReason: (0/168)\n",
      "(20/28) noInStudyReason: (0/168)\n",
      "(21/28) consentStatus: (168/0)\n",
      "(22/28) randomDate: (168/0)\n",
      "(23/28) randomTime: (168/0)\n",
      "(24/28) randomNumber: (168/0)\n",
      "(25/28) randomTreatmentAssign: (168/0)\n",
      "(26/28) inOtherTrial: (168/0)\n",
      "(27/28) inOtherTrialText: (2/166)\n"
     ]
    }
   ],
   "source": [
    "COMBINE_harmonizer.column_info(df_main_screening)"
   ]
  },
  {
   "cell_type": "markdown",
   "id": "215666b2",
   "metadata": {},
   "source": [
    "## 01-12. Pre-intervention Neuro Exam"
   ]
  },
  {
   "cell_type": "code",
   "execution_count": 20,
   "id": "49a9c90e",
   "metadata": {
    "execution": {
     "iopub.execute_input": "2025-01-21T19:14:10.331908Z",
     "iopub.status.busy": "2025-01-21T19:14:10.331831Z",
     "iopub.status.idle": "2025-01-21T19:14:10.334357Z",
     "shell.execute_reply": "2025-01-21T19:14:10.334121Z"
    }
   },
   "outputs": [
    {
     "data": {
      "text/plain": [
       "['pre_NeuroExam',\n",
       " 'pre_NoNeuroExamReason',\n",
       " 'pre_NeuroExamSignModerateSevereHIE3Category',\n",
       " 'pre_NeuroExamLevelConsciousness',\n",
       " 'pre_NeuroExamSpontaneousActivity',\n",
       " 'pre_NeuroExamPosture',\n",
       " 'pre_NeuroExamTone',\n",
       " 'pre_NeuroExamSuck',\n",
       " 'pre_NeuroExamMoro',\n",
       " 'pre_NeuroExamPupils',\n",
       " 'pre_NeuroExamHeartRate',\n",
       " 'pre_NeuroExamRespiration',\n",
       " 'pre_NeuroExamDate',\n",
       " 'pre_NeuroExamTime',\n",
       " 'pre_NeuroExamSedate',\n",
       " 'pre_NeuroExamSeizure']"
      ]
     },
     "execution_count": 20,
     "metadata": {},
     "output_type": "execute_result"
    }
   ],
   "source": [
    "pre_neuro_columns = COMBINE_harmonizer.get_columns(df_data_dict, 'Pre-intervention', 'Neuro Exam')\n",
    "all_screening_neuro_columns = id_columns + pre_neuro_columns\n",
    "pre_neuro_columns"
   ]
  },
  {
   "cell_type": "code",
   "execution_count": 21,
   "id": "cf49f48e",
   "metadata": {
    "execution": {
     "iopub.execute_input": "2025-01-21T19:14:10.335523Z",
     "iopub.status.busy": "2025-01-21T19:14:10.335444Z",
     "iopub.status.idle": "2025-01-21T19:14:10.481743Z",
     "shell.execute_reply": "2025-01-21T19:14:10.481365Z"
    }
   },
   "outputs": [
    {
     "name": "stdout",
     "output_type": "stream",
     "text": [
      "to set pre-intervention neuro exam\n"
     ]
    }
   ],
   "source": [
    "print('to set pre-intervention neuro exam')\n",
    "df_pre_neuro = COMBINE_harmonizer.valid_columns(df_all, all_screening_neuro_columns)\n",
    "df_pre_neuro = COMBINE_harmonizer.postprocess(df_pre_neuro)\n",
    "\n",
    "out_filename = os.sep.join([out_dir, '00-12-neuro-exam.csv'])\n",
    "df_pre_neuro.to_csv(out_filename, index=False)\n",
    "\n",
    "df_main_pre_neuro = COMBINE_harmonizer.valid_columns(df_main, all_screening_neuro_columns)\n",
    "df_main_pre_neuro = COMBINE_harmonizer.postprocess(df_main_pre_neuro)\n",
    "\n",
    "out_filename = os.sep.join([out_dir, '01-12-neuro-exam.csv'])\n",
    "df_main_pre_neuro.to_csv(out_filename, index=False)"
   ]
  },
  {
   "cell_type": "markdown",
   "id": "38a11a42",
   "metadata": {},
   "source": [
    "### 01-12-1. check screening-neuro"
   ]
  },
  {
   "cell_type": "code",
   "execution_count": 22,
   "id": "3527b1d8",
   "metadata": {
    "execution": {
     "iopub.execute_input": "2025-01-21T19:14:10.483707Z",
     "iopub.status.busy": "2025-01-21T19:14:10.483538Z",
     "iopub.status.idle": "2025-01-21T19:14:10.487265Z",
     "shell.execute_reply": "2025-01-21T19:14:10.486950Z"
    }
   },
   "outputs": [
    {
     "data": {
      "text/plain": [
       "(21, 656, 3088, 3088)"
      ]
     },
     "execution_count": 22,
     "metadata": {},
     "output_type": "execute_result"
    }
   ],
   "source": [
    "len(df_pre_neuro['center'].unique()), len(df_pre_neuro['subjectID'].unique()), len(df_pre_neuro['uniqueID'].unique()), len(df_pre_neuro)"
   ]
  },
  {
   "cell_type": "code",
   "execution_count": 23,
   "id": "081dc6e3",
   "metadata": {
    "execution": {
     "iopub.execute_input": "2025-01-21T19:14:10.488766Z",
     "iopub.status.busy": "2025-01-21T19:14:10.488657Z",
     "iopub.status.idle": "2025-01-21T19:14:10.495454Z",
     "shell.execute_reply": "2025-01-21T19:14:10.495177Z"
    }
   },
   "outputs": [
    {
     "data": {
      "text/html": [
       "<div>\n",
       "<style scoped>\n",
       "    .dataframe tbody tr th:only-of-type {\n",
       "        vertical-align: middle;\n",
       "    }\n",
       "\n",
       "    .dataframe tbody tr th {\n",
       "        vertical-align: top;\n",
       "    }\n",
       "\n",
       "    .dataframe thead th {\n",
       "        text-align: right;\n",
       "    }\n",
       "</style>\n",
       "<table border=\"1\" class=\"dataframe\">\n",
       "  <thead>\n",
       "    <tr style=\"text-align: right;\">\n",
       "      <th></th>\n",
       "      <th>_count</th>\n",
       "    </tr>\n",
       "    <tr>\n",
       "      <th>uniqueID</th>\n",
       "      <th></th>\n",
       "    </tr>\n",
       "  </thead>\n",
       "  <tbody>\n",
       "  </tbody>\n",
       "</table>\n",
       "</div>"
      ],
      "text/plain": [
       "Empty DataFrame\n",
       "Columns: [_count]\n",
       "Index: []"
      ]
     },
     "execution_count": 23,
     "metadata": {},
     "output_type": "execute_result"
    }
   ],
   "source": [
    "df_pre_neuro_groupby = df_pre_neuro.groupby(['uniqueID']).agg(_count=('uniqueID', 'count'))\n",
    "\n",
    "is_invalid = df_pre_neuro_groupby['_count'] > 1\n",
    "df_pre_neuro_groupby[is_invalid]"
   ]
  },
  {
   "cell_type": "markdown",
   "id": "57902499",
   "metadata": {},
   "source": [
    "### 01-12-2. check empty cells"
   ]
  },
  {
   "cell_type": "code",
   "execution_count": 24,
   "id": "203d9ac2",
   "metadata": {
    "execution": {
     "iopub.execute_input": "2025-01-21T19:14:10.496888Z",
     "iopub.status.busy": "2025-01-21T19:14:10.496789Z",
     "iopub.status.idle": "2025-01-21T19:14:10.502782Z",
     "shell.execute_reply": "2025-01-21T19:14:10.502527Z"
    }
   },
   "outputs": [
    {
     "name": "stdout",
     "output_type": "stream",
     "text": [
      "(0/19) column: center (3088 / 0)\n",
      "(1/19) column: subjectID (3088 / 0)\n",
      "(2/19) column: uniqueID (3088 / 0)\n",
      "(3/19) column: pre_NeuroExamSeizure (816 / 2272)\n",
      "(4/19) column: pre_NeuroExam (816 / 2272)\n",
      "(5/19) column: pre_NeuroExamSignModerateSevereHIE3Category (734 / 2354)\n",
      "(6/19) column: pre_NeuroExamRespiration (734 / 2354)\n",
      "(7/19) column: pre_NeuroExamSedate (734 / 2354)\n",
      "(8/19) column: pre_NoNeuroExamReason (63 / 3025)\n",
      "(9/19) column: pre_NeuroExamLevelConsciousness (730 / 2358)\n",
      "(10/19) column: pre_NeuroExamSpontaneousActivity (730 / 2358)\n",
      "(11/19) column: pre_NeuroExamPosture (727 / 2361)\n",
      "(12/19) column: pre_NeuroExamTone (730 / 2358)\n",
      "(13/19) column: pre_NeuroExamSuck (719 / 2369)\n",
      "(14/19) column: pre_NeuroExamMoro (706 / 2382)\n",
      "(15/19) column: pre_NeuroExamPupils (711 / 2377)\n",
      "(16/19) column: pre_NeuroExamHeartRate (729 / 2359)\n",
      "(17/19) column: pre_NeuroExamDate (732 / 2356)\n",
      "(18/19) column: pre_NeuroExamTime (716 / 2372)\n"
     ]
    }
   ],
   "source": [
    "COMBINE_harmonizer.check_empty(df_pre_neuro)"
   ]
  },
  {
   "cell_type": "markdown",
   "id": "bb7ec04b",
   "metadata": {},
   "source": [
    "### 01-12-3. check main-screening-neuro"
   ]
  },
  {
   "cell_type": "code",
   "execution_count": 25,
   "id": "49327c5f",
   "metadata": {
    "execution": {
     "iopub.execute_input": "2025-01-21T19:14:10.504159Z",
     "iopub.status.busy": "2025-01-21T19:14:10.504068Z",
     "iopub.status.idle": "2025-01-21T19:14:10.506642Z",
     "shell.execute_reply": "2025-01-21T19:14:10.506409Z"
    }
   },
   "outputs": [
    {
     "data": {
      "text/plain": [
       "(21, 122, 168, 168)"
      ]
     },
     "execution_count": 25,
     "metadata": {},
     "output_type": "execute_result"
    }
   ],
   "source": [
    "len(df_main_pre_neuro['center'].unique()), len(df_main_pre_neuro['subjectID'].unique()), len(df_main_pre_neuro['uniqueID'].unique()), len(df_main_pre_neuro)"
   ]
  },
  {
   "cell_type": "code",
   "execution_count": 26,
   "id": "e3fd47c1",
   "metadata": {
    "execution": {
     "iopub.execute_input": "2025-01-21T19:14:10.507959Z",
     "iopub.status.busy": "2025-01-21T19:14:10.507871Z",
     "iopub.status.idle": "2025-01-21T19:14:10.512384Z",
     "shell.execute_reply": "2025-01-21T19:14:10.512119Z"
    }
   },
   "outputs": [
    {
     "data": {
      "text/html": [
       "<div>\n",
       "<style scoped>\n",
       "    .dataframe tbody tr th:only-of-type {\n",
       "        vertical-align: middle;\n",
       "    }\n",
       "\n",
       "    .dataframe tbody tr th {\n",
       "        vertical-align: top;\n",
       "    }\n",
       "\n",
       "    .dataframe thead th {\n",
       "        text-align: right;\n",
       "    }\n",
       "</style>\n",
       "<table border=\"1\" class=\"dataframe\">\n",
       "  <thead>\n",
       "    <tr style=\"text-align: right;\">\n",
       "      <th></th>\n",
       "      <th>_count</th>\n",
       "    </tr>\n",
       "    <tr>\n",
       "      <th>uniqueID</th>\n",
       "      <th></th>\n",
       "    </tr>\n",
       "  </thead>\n",
       "  <tbody>\n",
       "  </tbody>\n",
       "</table>\n",
       "</div>"
      ],
      "text/plain": [
       "Empty DataFrame\n",
       "Columns: [_count]\n",
       "Index: []"
      ]
     },
     "execution_count": 26,
     "metadata": {},
     "output_type": "execute_result"
    }
   ],
   "source": [
    "df_main_pre_neuro_groupby = df_main_pre_neuro.groupby(['uniqueID']).agg(_count=('uniqueID', 'count'))\n",
    "\n",
    "is_invalid = df_main_pre_neuro_groupby['_count'] > 1\n",
    "df_main_pre_neuro_groupby[is_invalid]"
   ]
  },
  {
   "cell_type": "markdown",
   "id": "7dae354e",
   "metadata": {},
   "source": [
    "### 01-12-4. check empty cells"
   ]
  },
  {
   "cell_type": "code",
   "execution_count": 27,
   "id": "185d0b4b",
   "metadata": {
    "execution": {
     "iopub.execute_input": "2025-01-21T19:14:10.513770Z",
     "iopub.status.busy": "2025-01-21T19:14:10.513688Z",
     "iopub.status.idle": "2025-01-21T19:14:10.516838Z",
     "shell.execute_reply": "2025-01-21T19:14:10.516600Z"
    }
   },
   "outputs": [
    {
     "name": "stdout",
     "output_type": "stream",
     "text": [
      "(0/19) column: center (168 / 0)\n",
      "(1/19) column: subjectID (168 / 0)\n",
      "(2/19) column: uniqueID (168 / 0)\n",
      "(3/19) column: pre_NeuroExamSeizure (168 / 0)\n",
      "(4/19) column: pre_NeuroExam (168 / 0)\n",
      "(5/19) column: pre_NeuroExamSignModerateSevereHIE3Category (168 / 0)\n",
      "(6/19) column: pre_NeuroExamRespiration (168 / 0)\n",
      "(7/19) column: pre_NeuroExamSedate (168 / 0)\n",
      "(8/19) column: pre_NoNeuroExamReason (0 / 168)\n",
      "(9/19) column: pre_NeuroExamLevelConsciousness (168 / 0)\n",
      "(10/19) column: pre_NeuroExamSpontaneousActivity (168 / 0)\n",
      "(11/19) column: pre_NeuroExamPosture (167 / 1)\n",
      "(12/19) column: pre_NeuroExamTone (168 / 0)\n",
      "(13/19) column: pre_NeuroExamSuck (168 / 0)\n",
      "(14/19) column: pre_NeuroExamMoro (164 / 4)\n",
      "(15/19) column: pre_NeuroExamPupils (164 / 4)\n",
      "(16/19) column: pre_NeuroExamHeartRate (167 / 1)\n",
      "(17/19) column: pre_NeuroExamDate (165 / 3)\n",
      "(18/19) column: pre_NeuroExamTime (164 / 4)\n"
     ]
    }
   ],
   "source": [
    "COMBINE_harmonizer.check_empty(df_main_pre_neuro)"
   ]
  },
  {
   "cell_type": "code",
   "execution_count": 28,
   "id": "09df1dae",
   "metadata": {
    "execution": {
     "iopub.execute_input": "2025-01-21T19:14:10.518030Z",
     "iopub.status.busy": "2025-01-21T19:14:10.517928Z",
     "iopub.status.idle": "2025-01-21T19:14:10.520427Z",
     "shell.execute_reply": "2025-01-21T19:14:10.520203Z"
    }
   },
   "outputs": [
    {
     "name": "stdout",
     "output_type": "stream",
     "text": [
      "(0/19) center: (168/0)\n",
      "(1/19) subjectID: (168/0)\n",
      "(2/19) uniqueID: (168/0)\n",
      "(3/19) pre_NeuroExamSeizure: (168/0)\n",
      "(4/19) pre_NeuroExam: (168/0)\n",
      "(5/19) pre_NeuroExamSignModerateSevereHIE3Category: (168/0)\n",
      "(6/19) pre_NeuroExamRespiration: (168/0)\n",
      "(7/19) pre_NeuroExamSedate: (168/0)\n",
      "(8/19) pre_NoNeuroExamReason: (0/168)\n",
      "(9/19) pre_NeuroExamLevelConsciousness: (168/0)\n",
      "(10/19) pre_NeuroExamSpontaneousActivity: (168/0)\n",
      "(11/19) pre_NeuroExamPosture: (167/1)\n",
      "(12/19) pre_NeuroExamTone: (168/0)\n",
      "(13/19) pre_NeuroExamSuck: (168/0)\n",
      "(14/19) pre_NeuroExamMoro: (164/4)\n",
      "(15/19) pre_NeuroExamPupils: (164/4)\n",
      "(16/19) pre_NeuroExamHeartRate: (167/1)\n",
      "(17/19) pre_NeuroExamDate: (165/3)\n",
      "(18/19) pre_NeuroExamTime: (164/4)\n"
     ]
    }
   ],
   "source": [
    "COMBINE_harmonizer.column_info(df_main_pre_neuro)"
   ]
  },
  {
   "cell_type": "code",
   "execution_count": null,
   "id": "b1fa412b-b9f3-4802-841c-576812478da1",
   "metadata": {},
   "outputs": [],
   "source": []
  },
  {
   "cell_type": "markdown",
   "id": "e41df56d-ba4f-4787-b876-31b8983cb584",
   "metadata": {},
   "source": [
    "## 01-03. Maternal Demographics"
   ]
  },
  {
   "cell_type": "code",
   "execution_count": 29,
   "id": "fa7a189d-9522-480d-b0fc-d344c7017cf7",
   "metadata": {
    "execution": {
     "iopub.execute_input": "2025-01-21T19:14:10.521772Z",
     "iopub.status.busy": "2025-01-21T19:14:10.521672Z",
     "iopub.status.idle": "2025-01-21T19:14:10.524128Z",
     "shell.execute_reply": "2025-01-21T19:14:10.523898Z"
    }
   },
   "outputs": [
    {
     "data": {
      "text/plain": [
       "['motherAge_year',\n",
       " 'motherRace',\n",
       " 'motherRaceOther1',\n",
       " 'motherRaceOther2',\n",
       " 'motherRaceOther3',\n",
       " 'motherRaceOther4',\n",
       " 'motherRaceOther5',\n",
       " 'motherRaceOther6',\n",
       " 'motherEthnicity',\n",
       " 'motherMaritalStatus',\n",
       " 'motherEducation',\n",
       " 'motherInsurance']"
      ]
     },
     "execution_count": 29,
     "metadata": {},
     "output_type": "execute_result"
    }
   ],
   "source": [
    "maternal_demographics_columns = COMBINE_harmonizer.get_columns(df_data_dict, 'Pre-intervention', 'Maternal Demographics')\n",
    "all_maternal_demographics_columns = id_columns + maternal_demographics_columns\n",
    "maternal_demographics_columns"
   ]
  },
  {
   "cell_type": "code",
   "execution_count": 30,
   "id": "97db7454-c491-4e1c-b591-7582c8e195a7",
   "metadata": {
    "execution": {
     "iopub.execute_input": "2025-01-21T19:14:10.525324Z",
     "iopub.status.busy": "2025-01-21T19:14:10.525228Z",
     "iopub.status.idle": "2025-01-21T19:14:10.604764Z",
     "shell.execute_reply": "2025-01-21T19:14:10.604456Z"
    }
   },
   "outputs": [
    {
     "name": "stdout",
     "output_type": "stream",
     "text": [
      "to set maternal demographics\n",
      "(8/14) motherRaceOther5 not in df\n",
      "(9/14) motherRaceOther6 not in df\n",
      "(13/14) motherInsurance not in df\n"
     ]
    }
   ],
   "source": [
    "print('to set maternal demographics')\n",
    "df_maternal_demographics = COMBINE_harmonizer.valid_columns(df_main, all_maternal_demographics_columns)\n",
    "df_maternal_demographics = COMBINE_harmonizer.postprocess(df_maternal_demographics)\n",
    "\n",
    "out_filename = os.sep.join([out_dir, '01-03-maternal-demographics.csv'])\n",
    "df_maternal_demographics.to_csv(out_filename, index=False)"
   ]
  },
  {
   "cell_type": "markdown",
   "id": "88ab3e16-816d-406d-8a6a-cc821fe6c877",
   "metadata": {},
   "source": [
    "### 01-03-2. check empty cells"
   ]
  },
  {
   "cell_type": "code",
   "execution_count": 31,
   "id": "391cd54a-1a32-4899-9bed-dfb4971c47fc",
   "metadata": {
    "execution": {
     "iopub.execute_input": "2025-01-21T19:14:10.606359Z",
     "iopub.status.busy": "2025-01-21T19:14:10.606254Z",
     "iopub.status.idle": "2025-01-21T19:14:10.609428Z",
     "shell.execute_reply": "2025-01-21T19:14:10.609151Z"
    }
   },
   "outputs": [
    {
     "name": "stdout",
     "output_type": "stream",
     "text": [
      "(0/12) column: center (168 / 0)\n",
      "(1/12) column: subjectID (168 / 0)\n",
      "(2/12) column: uniqueID (168 / 0)\n",
      "(3/12) column: motherAge_year (168 / 0)\n",
      "(4/12) column: motherRace (168 / 0)\n",
      "(5/12) column: motherRaceOther1 (0 / 168)\n",
      "(6/12) column: motherRaceOther2 (0 / 168)\n",
      "(7/12) column: motherRaceOther3 (0 / 168)\n",
      "(8/12) column: motherRaceOther4 (0 / 168)\n",
      "(9/12) column: motherEthnicity (168 / 0)\n",
      "(10/12) column: motherMaritalStatus (168 / 0)\n",
      "(11/12) column: motherEducation (167 / 1)\n"
     ]
    }
   ],
   "source": [
    "COMBINE_harmonizer.check_empty(df_maternal_demographics)"
   ]
  },
  {
   "cell_type": "code",
   "execution_count": 32,
   "id": "d3f5b6ba-b5b0-43ba-b1bc-1d571f81f205",
   "metadata": {
    "execution": {
     "iopub.execute_input": "2025-01-21T19:14:10.610820Z",
     "iopub.status.busy": "2025-01-21T19:14:10.610704Z",
     "iopub.status.idle": "2025-01-21T19:14:10.613149Z",
     "shell.execute_reply": "2025-01-21T19:14:10.612903Z"
    }
   },
   "outputs": [
    {
     "name": "stdout",
     "output_type": "stream",
     "text": [
      "(0/12) center: (168/0)\n",
      "(1/12) subjectID: (168/0)\n",
      "(2/12) uniqueID: (168/0)\n",
      "(3/12) motherAge_year: (168/0)\n",
      "(4/12) motherRace: (168/0)\n",
      "(5/12) motherRaceOther1: (0/168)\n",
      "(6/12) motherRaceOther2: (0/168)\n",
      "(7/12) motherRaceOther3: (0/168)\n",
      "(8/12) motherRaceOther4: (0/168)\n",
      "(9/12) motherEthnicity: (168/0)\n",
      "(10/12) motherMaritalStatus: (168/0)\n",
      "(11/12) motherEducation: (167/1)\n"
     ]
    }
   ],
   "source": [
    "COMBINE_harmonizer.column_info(df_maternal_demographics)"
   ]
  },
  {
   "cell_type": "code",
   "execution_count": null,
   "id": "6daa3d6f-97f1-4157-bbed-950c0ee54f06",
   "metadata": {},
   "outputs": [],
   "source": []
  },
  {
   "cell_type": "markdown",
   "id": "43a674bd",
   "metadata": {},
   "source": [
    "## 01-04. Pregnancy History"
   ]
  },
  {
   "cell_type": "code",
   "execution_count": 33,
   "id": "e90c2837-8b6a-4cb0-9e3b-fcc53fa30dd6",
   "metadata": {
    "execution": {
     "iopub.execute_input": "2025-01-21T19:14:10.614720Z",
     "iopub.status.busy": "2025-01-21T19:14:10.614606Z",
     "iopub.status.idle": "2025-01-21T19:14:10.617420Z",
     "shell.execute_reply": "2025-01-21T19:14:10.617155Z"
    }
   },
   "outputs": [
    {
     "data": {
      "text/plain": [
       "['gravida',\n",
       " 'parity',\n",
       " 'multipleBirth',\n",
       " 'numFetus',\n",
       " 'prenatalCare',\n",
       " 'hypertensionEclampsia',\n",
       " 'antepartumHemorrhage',\n",
       " 'thyroidMalfunction',\n",
       " 'diabetes']"
      ]
     },
     "execution_count": 33,
     "metadata": {},
     "output_type": "execute_result"
    }
   ],
   "source": [
    "pregnancy_history_columns = COMBINE_harmonizer.get_columns(df_data_dict, 'Pre-intervention', 'Pregnancy History')\n",
    "all_pregnancy_history_columns = id_columns + pregnancy_history_columns\n",
    "pregnancy_history_columns"
   ]
  },
  {
   "cell_type": "code",
   "execution_count": 34,
   "id": "860c18ba-cbfb-49db-a94b-0883f870ba25",
   "metadata": {
    "execution": {
     "iopub.execute_input": "2025-01-21T19:14:10.618674Z",
     "iopub.status.busy": "2025-01-21T19:14:10.618567Z",
     "iopub.status.idle": "2025-01-21T19:14:10.684697Z",
     "shell.execute_reply": "2025-01-21T19:14:10.684426Z"
    }
   },
   "outputs": [
    {
     "name": "stdout",
     "output_type": "stream",
     "text": [
      "to set pregnancy history\n"
     ]
    }
   ],
   "source": [
    "print('to set pregnancy history')\n",
    "df_pregnancy_history = COMBINE_harmonizer.valid_columns(df_main, all_pregnancy_history_columns)\n",
    "df_pregnancy_history = COMBINE_harmonizer.postprocess(df_pregnancy_history)\n",
    "\n",
    "out_filename = os.sep.join([out_dir, '01-04-pregnancy-history.csv'])\n",
    "df_pregnancy_history.to_csv(out_filename, index=False)"
   ]
  },
  {
   "cell_type": "markdown",
   "id": "8f097bac",
   "metadata": {},
   "source": [
    "### 01-04-2. check empty cells"
   ]
  },
  {
   "cell_type": "code",
   "execution_count": 35,
   "id": "53544503-213c-47b5-ab28-988db9e7a7a1",
   "metadata": {
    "execution": {
     "iopub.execute_input": "2025-01-21T19:14:10.686218Z",
     "iopub.status.busy": "2025-01-21T19:14:10.686123Z",
     "iopub.status.idle": "2025-01-21T19:14:10.689102Z",
     "shell.execute_reply": "2025-01-21T19:14:10.688849Z"
    }
   },
   "outputs": [
    {
     "name": "stdout",
     "output_type": "stream",
     "text": [
      "(0/12) column: center (168 / 0)\n",
      "(1/12) column: subjectID (168 / 0)\n",
      "(2/12) column: uniqueID (168 / 0)\n",
      "(3/12) column: multipleBirth (168 / 0)\n",
      "(4/12) column: prenatalCare (168 / 0)\n",
      "(5/12) column: hypertensionEclampsia (168 / 0)\n",
      "(6/12) column: antepartumHemorrhage (168 / 0)\n",
      "(7/12) column: thyroidMalfunction (168 / 0)\n",
      "(8/12) column: diabetes (168 / 0)\n",
      "(9/12) column: gravida (168 / 0)\n",
      "(10/12) column: parity (168 / 0)\n",
      "(11/12) column: numFetus (3 / 165)\n"
     ]
    }
   ],
   "source": [
    "COMBINE_harmonizer.check_empty(df_pregnancy_history)"
   ]
  },
  {
   "cell_type": "code",
   "execution_count": 36,
   "id": "67edb199",
   "metadata": {
    "execution": {
     "iopub.execute_input": "2025-01-21T19:14:10.690463Z",
     "iopub.status.busy": "2025-01-21T19:14:10.690350Z",
     "iopub.status.idle": "2025-01-21T19:14:10.692631Z",
     "shell.execute_reply": "2025-01-21T19:14:10.692396Z"
    }
   },
   "outputs": [
    {
     "name": "stdout",
     "output_type": "stream",
     "text": [
      "(0/12) center: (168/0)\n",
      "(1/12) subjectID: (168/0)\n",
      "(2/12) uniqueID: (168/0)\n",
      "(3/12) multipleBirth: (168/0)\n",
      "(4/12) prenatalCare: (168/0)\n",
      "(5/12) hypertensionEclampsia: (168/0)\n",
      "(6/12) antepartumHemorrhage: (168/0)\n",
      "(7/12) thyroidMalfunction: (168/0)\n",
      "(8/12) diabetes: (168/0)\n",
      "(9/12) gravida: (168/0)\n",
      "(10/12) parity: (168/0)\n",
      "(11/12) numFetus: (3/165)\n"
     ]
    }
   ],
   "source": [
    "COMBINE_harmonizer.column_info(df_pregnancy_history)"
   ]
  },
  {
   "cell_type": "markdown",
   "id": "4052c07a",
   "metadata": {},
   "source": [
    "## 01-05. Labor Delivery"
   ]
  },
  {
   "cell_type": "code",
   "execution_count": 37,
   "id": "778ac2e8",
   "metadata": {
    "execution": {
     "iopub.execute_input": "2025-01-21T19:14:10.693980Z",
     "iopub.status.busy": "2025-01-21T19:14:10.693875Z",
     "iopub.status.idle": "2025-01-21T19:14:10.696605Z",
     "shell.execute_reply": "2025-01-21T19:14:10.696384Z"
    }
   },
   "outputs": [
    {
     "data": {
      "text/plain": [
       "['maternalAdmissionDate',\n",
       " 'maternalAdmissionTime',\n",
       " 'ruptureDate',\n",
       " 'ruptureTime',\n",
       " 'ruptureOver18Hr',\n",
       " 'ruptureBeforeDelivery',\n",
       " 'labor',\n",
       " 'laborOnsetDate',\n",
       " 'laborOnsetTime',\n",
       " 'deliveryMode',\n",
       " 'fetalDecelerate',\n",
       " 'cordMishap',\n",
       " 'uterineRupture',\n",
       " 'shoulderDystocia',\n",
       " 'placentalProblem',\n",
       " 'maternalHemorrhage',\n",
       " 'maternalTrauma',\n",
       " 'maternalCardioRespiratoryArrest',\n",
       " 'maternalSeizure',\n",
       " 'pyrexiaOver37p6C',\n",
       " 'chorioamnionitis',\n",
       " 'placentalPathologyPerformed',\n",
       " 'histologicChorioamionitis',\n",
       " 'laborAntibiotics',\n",
       " 'laborAntibioticsCode1',\n",
       " 'laborAntibioticsCode2',\n",
       " 'laborAntibioticsCode3',\n",
       " 'laborAntibioticsCode4',\n",
       " 'laborAntibioticsCode5',\n",
       " 'laborAntibioticsCode6']"
      ]
     },
     "execution_count": 37,
     "metadata": {},
     "output_type": "execute_result"
    }
   ],
   "source": [
    "labor_delivery_columns = COMBINE_harmonizer.get_columns(df_data_dict, 'Pre-intervention', 'Labor Delivery')\n",
    "all_labor_delivery_columns = id_columns + labor_delivery_columns\n",
    "labor_delivery_columns"
   ]
  },
  {
   "cell_type": "code",
   "execution_count": 38,
   "id": "07ba138f",
   "metadata": {
    "execution": {
     "iopub.execute_input": "2025-01-21T19:14:10.697862Z",
     "iopub.status.busy": "2025-01-21T19:14:10.697751Z",
     "iopub.status.idle": "2025-01-21T19:14:10.766216Z",
     "shell.execute_reply": "2025-01-21T19:14:10.765899Z"
    }
   },
   "outputs": [
    {
     "name": "stdout",
     "output_type": "stream",
     "text": [
      "to set labor delivery\n",
      "(7/32) ruptureBeforeDelivery not in df\n",
      "(29/32) laborAntibioticsCode4 not in df\n",
      "(30/32) laborAntibioticsCode5 not in df\n",
      "(31/32) laborAntibioticsCode6 not in df\n"
     ]
    }
   ],
   "source": [
    "print('to set labor delivery')\n",
    "df_labor_delivery = COMBINE_harmonizer.valid_columns(df_main, all_labor_delivery_columns)\n",
    "df_labor_delivery = COMBINE_harmonizer.postprocess(df_labor_delivery)\n",
    "\n",
    "out_filename = os.sep.join([out_dir, '01-05-labor-delivery.csv'])\n",
    "df_labor_delivery.to_csv(out_filename, index=False)"
   ]
  },
  {
   "cell_type": "markdown",
   "id": "6518d88c",
   "metadata": {},
   "source": [
    "### 01-05-2. check empty cells"
   ]
  },
  {
   "cell_type": "code",
   "execution_count": 39,
   "id": "24f024d3",
   "metadata": {
    "execution": {
     "iopub.execute_input": "2025-01-21T19:14:10.768019Z",
     "iopub.status.busy": "2025-01-21T19:14:10.767896Z",
     "iopub.status.idle": "2025-01-21T19:14:10.772708Z",
     "shell.execute_reply": "2025-01-21T19:14:10.772414Z"
    }
   },
   "outputs": [
    {
     "name": "stdout",
     "output_type": "stream",
     "text": [
      "(0/29) column: center (168 / 0)\n",
      "(1/29) column: subjectID (168 / 0)\n",
      "(2/29) column: uniqueID (168 / 0)\n",
      "(3/29) column: fetalDecelerate (168 / 0)\n",
      "(4/29) column: cordMishap (168 / 0)\n",
      "(5/29) column: uterineRupture (168 / 0)\n",
      "(6/29) column: shoulderDystocia (168 / 0)\n",
      "(7/29) column: placentalProblem (168 / 0)\n",
      "(8/29) column: maternalHemorrhage (168 / 0)\n",
      "(9/29) column: maternalTrauma (168 / 0)\n",
      "(10/29) column: maternalCardioRespiratoryArrest (168 / 0)\n",
      "(11/29) column: maternalSeizure (168 / 0)\n",
      "(12/29) column: pyrexiaOver37p6C (168 / 0)\n",
      "(13/29) column: chorioamnionitis (168 / 0)\n",
      "(14/29) column: placentalPathologyPerformed (168 / 0)\n",
      "(15/29) column: histologicChorioamionitis (63 / 105)\n",
      "(16/29) column: laborAntibiotics (168 / 0)\n",
      "(17/29) column: ruptureOver18Hr (18 / 150)\n",
      "(18/29) column: labor (168 / 0)\n",
      "(19/29) column: laborAntibioticsCode1 (41 / 127)\n",
      "(20/29) column: laborAntibioticsCode2 (13 / 155)\n",
      "(21/29) column: laborAntibioticsCode3 (3 / 165)\n",
      "(22/29) column: ruptureDate (160 / 8)\n",
      "(23/29) column: ruptureTime (150 / 18)\n",
      "(24/29) column: laborOnsetDate (116 / 52)\n",
      "(25/29) column: laborOnsetTime (85 / 83)\n",
      "(26/29) column: deliveryMode (168 / 0)\n",
      "(27/29) column: maternalAdmissionDate (155 / 13)\n",
      "(28/29) column: maternalAdmissionTime (121 / 47)\n"
     ]
    }
   ],
   "source": [
    "COMBINE_harmonizer.check_empty(df_labor_delivery)"
   ]
  },
  {
   "cell_type": "code",
   "execution_count": 40,
   "id": "4ee21cdf",
   "metadata": {
    "execution": {
     "iopub.execute_input": "2025-01-21T19:14:10.774183Z",
     "iopub.status.busy": "2025-01-21T19:14:10.774073Z",
     "iopub.status.idle": "2025-01-21T19:14:10.777795Z",
     "shell.execute_reply": "2025-01-21T19:14:10.777479Z"
    }
   },
   "outputs": [
    {
     "name": "stdout",
     "output_type": "stream",
     "text": [
      "(0/29) center: (168/0)\n",
      "(1/29) subjectID: (168/0)\n",
      "(2/29) uniqueID: (168/0)\n",
      "(3/29) fetalDecelerate: (168/0)\n",
      "(4/29) cordMishap: (168/0)\n",
      "(5/29) uterineRupture: (168/0)\n",
      "(6/29) shoulderDystocia: (168/0)\n",
      "(7/29) placentalProblem: (168/0)\n",
      "(8/29) maternalHemorrhage: (168/0)\n",
      "(9/29) maternalTrauma: (168/0)\n",
      "(10/29) maternalCardioRespiratoryArrest: (168/0)\n",
      "(11/29) maternalSeizure: (168/0)\n",
      "(12/29) pyrexiaOver37p6C: (168/0)\n",
      "(13/29) chorioamnionitis: (168/0)\n",
      "(14/29) placentalPathologyPerformed: (168/0)\n",
      "(15/29) histologicChorioamionitis: (63/105)\n",
      "(16/29) laborAntibiotics: (168/0)\n",
      "(17/29) ruptureOver18Hr: (18/150)\n",
      "(18/29) labor: (168/0)\n",
      "(19/29) laborAntibioticsCode1: (41/127)\n",
      "(20/29) laborAntibioticsCode2: (13/155)\n",
      "(21/29) laborAntibioticsCode3: (3/165)\n",
      "(22/29) ruptureDate: (160/8)\n",
      "(23/29) ruptureTime: (150/18)\n",
      "(24/29) laborOnsetDate: (116/52)\n",
      "(25/29) laborOnsetTime: (85/83)\n",
      "(26/29) deliveryMode: (168/0)\n",
      "(27/29) maternalAdmissionDate: (155/13)\n",
      "(28/29) maternalAdmissionTime: (121/47)\n"
     ]
    }
   ],
   "source": [
    "COMBINE_harmonizer.column_info(df_labor_delivery)"
   ]
  },
  {
   "cell_type": "markdown",
   "id": "36b2c6c6",
   "metadata": {},
   "source": [
    "## 01-06. Birth"
   ]
  },
  {
   "cell_type": "code",
   "execution_count": 41,
   "id": "d0b5bac5",
   "metadata": {
    "execution": {
     "iopub.execute_input": "2025-01-21T19:14:10.779290Z",
     "iopub.status.busy": "2025-01-21T19:14:10.779189Z",
     "iopub.status.idle": "2025-01-21T19:14:10.782167Z",
     "shell.execute_reply": "2025-01-21T19:14:10.781904Z"
    }
   },
   "outputs": [
    {
     "data": {
      "text/plain": [
       "['encephalopathyLevel',\n",
       " 'randomInfantAge',\n",
       " 'birthDate',\n",
       " 'birthTime',\n",
       " 'birthWeight_g',\n",
       " 'birthLength_cm',\n",
       " 'birthHeadCircumference_cm',\n",
       " 'birthGestationalAge_week',\n",
       " 'infantSex',\n",
       " 'infantOutborn',\n",
       " 'outbornInHospital',\n",
       " 'outbornOutHospital',\n",
       " 'neonateAdmissionDate',\n",
       " 'neonateAdmissionTime',\n",
       " 'Apgar1min',\n",
       " 'Apgar5min',\n",
       " 'Apgar10min',\n",
       " 'Apgar15min',\n",
       " 'Apgar20min',\n",
       " 'deliveryResuscitation',\n",
       " 'deliveryOxygen',\n",
       " 'deliveryBaggingAndMask',\n",
       " 'deliveryChestCompression',\n",
       " 'deliveryIntubation',\n",
       " 'deliveryDrug',\n",
       " 'at10MinContinueResuscitation',\n",
       " 'at10MinOxygen',\n",
       " 'at10MinBaggingAndMask',\n",
       " 'at10MinChestCompression',\n",
       " 'at10MinIntubation',\n",
       " 'at10MinDrug',\n",
       " 'spontaneousRespirationTime',\n",
       " 'cordBloodGas',\n",
       " 'cordBloodGasSrc',\n",
       " 'cordBloodGasPH',\n",
       " 'cordBloodGasPCO2_mmHg',\n",
       " 'cordBloodGasPO2_mmHg',\n",
       " 'cordBloodGasHCO3_mEqPerL',\n",
       " 'cordBloodGasBaseDeficit_mEqPerL',\n",
       " 'firstPostnatalBloodGas',\n",
       " 'firstPostnatalBloodGasSrc',\n",
       " 'firstPostnatalBloodGasDate',\n",
       " 'firstPostnatalBloodGasTime',\n",
       " 'firstPostnatalBloodGasPH',\n",
       " 'firstPostnatalBloodGasPCO2_mmHg',\n",
       " 'firstPostnatalBloodGasPO2_mmHg',\n",
       " 'firstPostnatalBloodGasHCO3_mEqPerL',\n",
       " 'firstPostnatalBloodGasBaseDeficit_mEqPerL']"
      ]
     },
     "execution_count": 41,
     "metadata": {},
     "output_type": "execute_result"
    }
   ],
   "source": [
    "birth_columns = COMBINE_harmonizer.get_columns(df_data_dict, 'Pre-intervention', 'Birth')\n",
    "all_birth_columns = id_columns + birth_columns\n",
    "birth_columns"
   ]
  },
  {
   "cell_type": "code",
   "execution_count": 42,
   "id": "9f7f9b09",
   "metadata": {
    "execution": {
     "iopub.execute_input": "2025-01-21T19:14:10.783514Z",
     "iopub.status.busy": "2025-01-21T19:14:10.783418Z",
     "iopub.status.idle": "2025-01-21T19:14:10.854246Z",
     "shell.execute_reply": "2025-01-21T19:14:10.853834Z"
    }
   },
   "outputs": [
    {
     "name": "stdout",
     "output_type": "stream",
     "text": [
      "to set birth\n",
      "(19/50) Apgar15min not in df\n"
     ]
    }
   ],
   "source": [
    "print('to set birth')\n",
    "df_birth = COMBINE_harmonizer.valid_columns(df_main, all_birth_columns)\n",
    "df_birth = COMBINE_harmonizer.postprocess(df_birth)\n",
    "\n",
    "out_filename = os.sep.join([out_dir, '01-06-birth.csv'])\n",
    "df_birth.to_csv(out_filename, index=False)"
   ]
  },
  {
   "cell_type": "markdown",
   "id": "3c6594d7",
   "metadata": {},
   "source": [
    "### 01-06-2. check empty cells"
   ]
  },
  {
   "cell_type": "code",
   "execution_count": 43,
   "id": "48f626a1",
   "metadata": {
    "execution": {
     "iopub.execute_input": "2025-01-21T19:14:10.856609Z",
     "iopub.status.busy": "2025-01-21T19:14:10.856429Z",
     "iopub.status.idle": "2025-01-21T19:14:10.863683Z",
     "shell.execute_reply": "2025-01-21T19:14:10.863400Z"
    }
   },
   "outputs": [
    {
     "name": "stdout",
     "output_type": "stream",
     "text": [
      "(0/50) column: center (168 / 0)\n",
      "(1/50) column: subjectID (168 / 0)\n",
      "(2/50) column: uniqueID (168 / 0)\n",
      "(3/50) column: birthDate (168 / 0)\n",
      "(4/50) column: randomInfantAge (168 / 0)\n",
      "(5/50) column: encephalopathyLevel (168 / 0)\n",
      "(6/50) column: infantOutborn (168 / 0)\n",
      "(7/50) column: outbornInHospital (146 / 22)\n",
      "(8/50) column: outbornOutHospital (146 / 22)\n",
      "(9/50) column: deliveryResuscitation (168 / 0)\n",
      "(10/50) column: deliveryOxygen (166 / 2)\n",
      "(11/50) column: deliveryBaggingAndMask (166 / 2)\n",
      "(12/50) column: deliveryChestCompression (166 / 2)\n",
      "(13/50) column: deliveryIntubation (166 / 2)\n",
      "(14/50) column: deliveryDrug (166 / 2)\n",
      "(15/50) column: at10MinContinueResuscitation (166 / 2)\n",
      "(16/50) column: at10MinOxygen (116 / 52)\n",
      "(17/50) column: at10MinBaggingAndMask (116 / 52)\n",
      "(18/50) column: at10MinChestCompression (116 / 52)\n",
      "(19/50) column: at10MinIntubation (116 / 52)\n",
      "(20/50) column: at10MinDrug (116 / 52)\n",
      "(21/50) column: cordBloodGas (168 / 0)\n",
      "(22/50) column: firstPostnatalBloodGas (168 / 0)\n",
      "(23/50) column: birthTime (168 / 0)\n",
      "(24/50) column: neonateAdmissionDate (146 / 22)\n",
      "(25/50) column: neonateAdmissionTime (146 / 22)\n",
      "(26/50) column: Apgar1min (167 / 1)\n",
      "(27/50) column: Apgar5min (168 / 0)\n",
      "(28/50) column: Apgar10min (140 / 28)\n",
      "(29/50) column: Apgar20min (32 / 136)\n",
      "(30/50) column: birthWeight_g (168 / 0)\n",
      "(31/50) column: birthLength_cm (166 / 2)\n",
      "(32/50) column: birthHeadCircumference_cm (165 / 3)\n",
      "(33/50) column: birthGestationalAge_week (168 / 0)\n",
      "(34/50) column: infantSex (168 / 0)\n",
      "(35/50) column: spontaneousRespirationTime (163 / 5)\n",
      "(36/50) column: cordBloodGasSrc (106 / 62)\n",
      "(37/50) column: cordBloodGasPH (126 / 42)\n",
      "(38/50) column: cordBloodGasPCO2_mmHg (109 / 59)\n",
      "(39/50) column: cordBloodGasPO2_mmHg (100 / 68)\n",
      "(40/50) column: cordBloodGasHCO3_mEqPerL (87 / 81)\n",
      "(41/50) column: cordBloodGasBaseDeficit_mEqPerL (103 / 65)\n",
      "(42/50) column: firstPostnatalBloodGasSrc (153 / 15)\n",
      "(43/50) column: firstPostnatalBloodGasDate (159 / 9)\n",
      "(44/50) column: firstPostnatalBloodGasTime (150 / 18)\n",
      "(45/50) column: firstPostnatalBloodGasPH (158 / 10)\n",
      "(46/50) column: firstPostnatalBloodGasPCO2_mmHg (158 / 10)\n",
      "(47/50) column: firstPostnatalBloodGasPO2_mmHg (157 / 11)\n",
      "(48/50) column: firstPostnatalBloodGasHCO3_mEqPerL (149 / 19)\n",
      "(49/50) column: firstPostnatalBloodGasBaseDeficit_mEqPerL (155 / 13)\n"
     ]
    }
   ],
   "source": [
    "COMBINE_harmonizer.check_empty(df_birth)"
   ]
  },
  {
   "cell_type": "code",
   "execution_count": 44,
   "id": "f667825a",
   "metadata": {
    "execution": {
     "iopub.execute_input": "2025-01-21T19:14:10.865219Z",
     "iopub.status.busy": "2025-01-21T19:14:10.865112Z",
     "iopub.status.idle": "2025-01-21T19:14:10.869660Z",
     "shell.execute_reply": "2025-01-21T19:14:10.869391Z"
    }
   },
   "outputs": [
    {
     "name": "stdout",
     "output_type": "stream",
     "text": [
      "(0/50) center: (168/0)\n",
      "(1/50) subjectID: (168/0)\n",
      "(2/50) uniqueID: (168/0)\n",
      "(3/50) birthDate: (168/0)\n",
      "(4/50) randomInfantAge: (168/0)\n",
      "(5/50) encephalopathyLevel: (168/0)\n",
      "(6/50) infantOutborn: (168/0)\n",
      "(7/50) outbornInHospital: (146/22)\n",
      "(8/50) outbornOutHospital: (146/22)\n",
      "(9/50) deliveryResuscitation: (168/0)\n",
      "(10/50) deliveryOxygen: (166/2)\n",
      "(11/50) deliveryBaggingAndMask: (166/2)\n",
      "(12/50) deliveryChestCompression: (166/2)\n",
      "(13/50) deliveryIntubation: (166/2)\n",
      "(14/50) deliveryDrug: (166/2)\n",
      "(15/50) at10MinContinueResuscitation: (166/2)\n",
      "(16/50) at10MinOxygen: (116/52)\n",
      "(17/50) at10MinBaggingAndMask: (116/52)\n",
      "(18/50) at10MinChestCompression: (116/52)\n",
      "(19/50) at10MinIntubation: (116/52)\n",
      "(20/50) at10MinDrug: (116/52)\n",
      "(21/50) cordBloodGas: (168/0)\n",
      "(22/50) firstPostnatalBloodGas: (168/0)\n",
      "(23/50) birthTime: (168/0)\n",
      "(24/50) neonateAdmissionDate: (146/22)\n",
      "(25/50) neonateAdmissionTime: (146/22)\n",
      "(26/50) Apgar1min: (167/1)\n",
      "(27/50) Apgar5min: (168/0)\n",
      "(28/50) Apgar10min: (140/28)\n",
      "(29/50) Apgar20min: (32/136)\n",
      "(30/50) birthWeight_g: (168/0)\n",
      "(31/50) birthLength_cm: (166/2)\n",
      "(32/50) birthHeadCircumference_cm: (165/3)\n",
      "(33/50) birthGestationalAge_week: (168/0)\n",
      "(34/50) infantSex: (168/0)\n",
      "(35/50) spontaneousRespirationTime: (163/5)\n",
      "(36/50) cordBloodGasSrc: (106/62)\n",
      "(37/50) cordBloodGasPH: (126/42)\n",
      "(38/50) cordBloodGasPCO2_mmHg: (109/59)\n",
      "(39/50) cordBloodGasPO2_mmHg: (100/68)\n",
      "(40/50) cordBloodGasHCO3_mEqPerL: (87/81)\n",
      "(41/50) cordBloodGasBaseDeficit_mEqPerL: (103/65)\n",
      "(42/50) firstPostnatalBloodGasSrc: (153/15)\n",
      "(43/50) firstPostnatalBloodGasDate: (159/9)\n",
      "(44/50) firstPostnatalBloodGasTime: (150/18)\n",
      "(45/50) firstPostnatalBloodGasPH: (158/10)\n",
      "(46/50) firstPostnatalBloodGasPCO2_mmHg: (158/10)\n",
      "(47/50) firstPostnatalBloodGasPO2_mmHg: (157/11)\n",
      "(48/50) firstPostnatalBloodGasHCO3_mEqPerL: (149/19)\n",
      "(49/50) firstPostnatalBloodGasBaseDeficit_mEqPerL: (155/13)\n"
     ]
    }
   ],
   "source": [
    "COMBINE_harmonizer.column_info(df_birth)"
   ]
  },
  {
   "cell_type": "markdown",
   "id": "894087f9",
   "metadata": {},
   "source": [
    "## 01-07. Pre Intervention - Temperature"
   ]
  },
  {
   "cell_type": "code",
   "execution_count": 45,
   "id": "c235b22d",
   "metadata": {
    "execution": {
     "iopub.execute_input": "2025-01-21T19:14:10.871200Z",
     "iopub.status.busy": "2025-01-21T19:14:10.871099Z",
     "iopub.status.idle": "2025-01-21T19:14:10.874177Z",
     "shell.execute_reply": "2025-01-21T19:14:10.873898Z"
    }
   },
   "outputs": [
    {
     "data": {
      "text/plain": [
       "['targetTreatmentTemperature_C',\n",
       " 'pre_CoolInitiate',\n",
       " 'pre_CoolbyIceGelPack',\n",
       " 'pre_CoolPassively',\n",
       " 'pre_CoolClinically',\n",
       " 'pre_CoolInitiateDate',\n",
       " 'pre_CoolInitiateTime',\n",
       " 'pre_AfterOvershootReach33p5C',\n",
       " 'pre_AfterOvershootReach33p5CDate',\n",
       " 'pre_AfterOvershootReach33p5CTime',\n",
       " 'pre_TemperatureMinDate',\n",
       " 'pre_TemperatureMinTime',\n",
       " 'pre_SkinTemperatureMin_C',\n",
       " 'pre_AxillaryTemperatureMin_C',\n",
       " 'pre_EsophagealTemperatureMin_C',\n",
       " 'pre_ServoSetMin_C',\n",
       " 'pre_TemperatureMaxDate',\n",
       " 'pre_TemperatureMaxTime',\n",
       " 'pre_SkinTemperatureMax_C',\n",
       " 'pre_AxillaryTemperatureMax_C',\n",
       " 'pre_EsophagealTemperatureMax_C',\n",
       " 'pre_ServoSetMax_C']"
      ]
     },
     "execution_count": 45,
     "metadata": {},
     "output_type": "execute_result"
    }
   ],
   "source": [
    "temperature_pre_intervention_columns = COMBINE_harmonizer.get_columns(df_data_dict, 'Pre-intervention', 'Temperature')\n",
    "all_temperature_pre_intervention_columns = id_columns + temperature_pre_intervention_columns\n",
    "temperature_pre_intervention_columns"
   ]
  },
  {
   "cell_type": "code",
   "execution_count": 46,
   "id": "93ed3e4b",
   "metadata": {
    "execution": {
     "iopub.execute_input": "2025-01-21T19:14:10.875542Z",
     "iopub.status.busy": "2025-01-21T19:14:10.875445Z",
     "iopub.status.idle": "2025-01-21T19:14:10.884345Z",
     "shell.execute_reply": "2025-01-21T19:14:10.884057Z"
    }
   },
   "outputs": [],
   "source": [
    "df_temperature = df_dict['lh06tr.csv'].copy()\n",
    "\n",
    "temperatureTimeSlot_int = df_temperature['temperatureTimeSlot'].apply(COMBINE_harmonizer.to_int)\n",
    "is_pre_intervention_min = temperatureTimeSlot_int == 0\n",
    "is_pre_intervention_max = temperatureTimeSlot_int == 1\n",
    "\n",
    "# before_baseline_min\n",
    "df_temperature_pre_intervention_min = df_temperature[is_pre_intervention_min]\n",
    "pre_intervention_min_rename_map = {\n",
    "    'temperatureDate': 'pre_TemperatureMinDate',\n",
    "    'temperatureTime': 'pre_TemperatureMinTime',\n",
    "    'skinTemperature_C': 'pre_SkinTemperatureMin_C',\n",
    "    'axillaryTemperature_C': 'pre_AxillaryTemperatureMin_C',\n",
    "    'esophagealTemperature_C': 'pre_EsophagealTemperatureMin_C',\n",
    "    'servoSetTemperature_C': 'pre_ServoSetMin_C',\n",
    "}\n",
    "\n",
    "df_temperature_pre_intervention_min = df_temperature_pre_intervention_min.rename(columns=pre_intervention_min_rename_map)\n",
    "\n",
    "# before_baseline_max\n",
    "df_temperature_before_baseline_max = df_temperature[is_pre_intervention_max]\n",
    "before_baseline_max_rename_map = {\n",
    "    'temperatureDate': 'pre_TemperatureMaxDate',\n",
    "    'temperatureTime': 'pre_TemperatureMaxTime',\n",
    "    'skinTemperature_C': 'pre_SkinTemperatureMax_C',\n",
    "    'axillaryTemperature_C': 'pre_AxillaryTemperatureMax_C',\n",
    "    'esophagealTemperature_C': 'pre_EsophagealTemperatureMax_C',\n",
    "    'servoSetTemperature_C': 'pre_ServoSetMax_C',\n",
    "}\n",
    "df_temperature_before_baseline_max = df_temperature_before_baseline_max.rename(columns=before_baseline_max_rename_map)\n",
    "\n",
    "# merge\n",
    "merge_columns = ['center', 'subjectID']\n",
    "df_temperature_pre_intervention = df_temperature_pre_intervention_min.merge(df_temperature_before_baseline_max, on=merge_columns, how='outer')\n"
   ]
  },
  {
   "cell_type": "code",
   "execution_count": 47,
   "id": "5fa464a0",
   "metadata": {
    "execution": {
     "iopub.execute_input": "2025-01-21T19:14:10.885706Z",
     "iopub.status.busy": "2025-01-21T19:14:10.885610Z",
     "iopub.status.idle": "2025-01-21T19:14:10.956078Z",
     "shell.execute_reply": "2025-01-21T19:14:10.955755Z"
    }
   },
   "outputs": [
    {
     "name": "stdout",
     "output_type": "stream",
     "text": [
      "to set pre-baseline temperature\n",
      "(2/24) targetTreatmentTemperature_C not in df\n",
      "(3/24) pre_CoolInitiate not in df\n",
      "(4/24) pre_CoolbyIceGelPack not in df\n",
      "(5/24) pre_CoolPassively not in df\n",
      "(6/24) pre_CoolClinically not in df\n",
      "(7/24) pre_CoolInitiateDate not in df\n",
      "(8/24) pre_CoolInitiateTime not in df\n",
      "(9/24) pre_AfterOvershootReach33p5C not in df\n",
      "(10/24) pre_AfterOvershootReach33p5CDate not in df\n",
      "(11/24) pre_AfterOvershootReach33p5CTime not in df\n"
     ]
    }
   ],
   "source": [
    "print('to set pre-baseline temperature')\n",
    "df_temperature_pre_intervention = COMBINE_harmonizer.valid_columns(df_temperature_pre_intervention, all_temperature_pre_intervention_columns)\n",
    "df_temperature_pre_intervention = COMBINE_harmonizer.postprocess(df_temperature_pre_intervention)\n",
    "\n",
    "out_filename = os.sep.join([out_dir, '01-07-pre-temperature.csv'])\n",
    "df_temperature_pre_intervention.to_csv(out_filename, index=False)"
   ]
  },
  {
   "cell_type": "markdown",
   "id": "475e72dd",
   "metadata": {},
   "source": [
    "### 01-07-2. check empty cells"
   ]
  },
  {
   "cell_type": "code",
   "execution_count": 48,
   "id": "fb10fd4f",
   "metadata": {
    "execution": {
     "iopub.execute_input": "2025-01-21T19:14:10.957813Z",
     "iopub.status.busy": "2025-01-21T19:14:10.957696Z",
     "iopub.status.idle": "2025-01-21T19:14:10.961335Z",
     "shell.execute_reply": "2025-01-21T19:14:10.961045Z"
    }
   },
   "outputs": [
    {
     "name": "stdout",
     "output_type": "stream",
     "text": [
      "(0/15) column: center (155 / 0)\n",
      "(1/15) column: subjectID (155 / 0)\n",
      "(2/15) column: uniqueID (155 / 0)\n",
      "(3/15) column: pre_TemperatureMinDate (155 / 0)\n",
      "(4/15) column: pre_TemperatureMinTime (153 / 2)\n",
      "(5/15) column: pre_SkinTemperatureMin_C (66 / 89)\n",
      "(6/15) column: pre_AxillaryTemperatureMin_C (147 / 8)\n",
      "(7/15) column: pre_EsophagealTemperatureMin_C (0 / 155)\n",
      "(8/15) column: pre_ServoSetMin_C (69 / 86)\n",
      "(9/15) column: pre_TemperatureMaxDate (151 / 4)\n",
      "(10/15) column: pre_TemperatureMaxTime (148 / 7)\n",
      "(11/15) column: pre_SkinTemperatureMax_C (70 / 85)\n",
      "(12/15) column: pre_AxillaryTemperatureMax_C (139 / 16)\n",
      "(13/15) column: pre_EsophagealTemperatureMax_C (0 / 155)\n",
      "(14/15) column: pre_ServoSetMax_C (68 / 87)\n"
     ]
    }
   ],
   "source": [
    "COMBINE_harmonizer.check_empty(df_temperature_pre_intervention)"
   ]
  },
  {
   "cell_type": "code",
   "execution_count": 49,
   "id": "5e61cbfa",
   "metadata": {
    "execution": {
     "iopub.execute_input": "2025-01-21T19:14:10.962715Z",
     "iopub.status.busy": "2025-01-21T19:14:10.962600Z",
     "iopub.status.idle": "2025-01-21T19:14:10.965232Z",
     "shell.execute_reply": "2025-01-21T19:14:10.964977Z"
    }
   },
   "outputs": [
    {
     "name": "stdout",
     "output_type": "stream",
     "text": [
      "(0/15) center: (155/0)\n",
      "(1/15) subjectID: (155/0)\n",
      "(2/15) uniqueID: (155/0)\n",
      "(3/15) pre_TemperatureMinDate: (155/0)\n",
      "(4/15) pre_TemperatureMinTime: (153/2)\n",
      "(5/15) pre_SkinTemperatureMin_C: (66/89)\n",
      "(6/15) pre_AxillaryTemperatureMin_C: (147/8)\n",
      "(7/15) pre_EsophagealTemperatureMin_C: (0/155)\n",
      "(8/15) pre_ServoSetMin_C: (69/86)\n",
      "(9/15) pre_TemperatureMaxDate: (151/4)\n",
      "(10/15) pre_TemperatureMaxTime: (148/7)\n",
      "(11/15) pre_SkinTemperatureMax_C: (70/85)\n",
      "(12/15) pre_AxillaryTemperatureMax_C: (139/16)\n",
      "(13/15) pre_EsophagealTemperatureMax_C: (0/155)\n",
      "(14/15) pre_ServoSetMax_C: (68/87)\n"
     ]
    }
   ],
   "source": [
    "COMBINE_harmonizer.column_info(df_temperature_pre_intervention)"
   ]
  },
  {
   "cell_type": "markdown",
   "id": "1c81f760",
   "metadata": {},
   "source": [
    "## 01-08. Pre-intervention - Cardio"
   ]
  },
  {
   "cell_type": "code",
   "execution_count": 50,
   "id": "6817e3c9",
   "metadata": {
    "execution": {
     "iopub.execute_input": "2025-01-21T19:14:10.966698Z",
     "iopub.status.busy": "2025-01-21T19:14:10.966581Z",
     "iopub.status.idle": "2025-01-21T19:14:10.969470Z",
     "shell.execute_reply": "2025-01-21T19:14:10.969189Z"
    }
   },
   "outputs": [
    {
     "data": {
      "text/plain": [
       "['pre_CardioDate',\n",
       " 'pre_CardioTime',\n",
       " 'pre_CardioSystolicBloodPressure_mmHg',\n",
       " 'pre_CardioDiastolicBloodPressure_mmHg',\n",
       " 'pre_CardioHeartRate_BPM',\n",
       " 'pre_CardioVolumeExpand',\n",
       " 'pre_CardioInotropicAgent',\n",
       " 'pre_CardioBloodTransfusion',\n",
       " 'pre_CardioPlatelets']"
      ]
     },
     "execution_count": 50,
     "metadata": {},
     "output_type": "execute_result"
    }
   ],
   "source": [
    "cardio_pre_intervention_columns = COMBINE_harmonizer.get_columns(df_data_dict, 'Pre-intervention', 'Cardiovascular')\n",
    "all_cardio_pre_intervention_columns = id_columns + cardio_pre_intervention_columns\n",
    "cardio_pre_intervention_columns"
   ]
  },
  {
   "cell_type": "code",
   "execution_count": 51,
   "id": "3a851a7e",
   "metadata": {
    "execution": {
     "iopub.execute_input": "2025-01-21T19:14:10.970852Z",
     "iopub.status.busy": "2025-01-21T19:14:10.970726Z",
     "iopub.status.idle": "2025-01-21T19:14:11.044287Z",
     "shell.execute_reply": "2025-01-21T19:14:11.043993Z"
    }
   },
   "outputs": [
    {
     "name": "stdout",
     "output_type": "stream",
     "text": [
      "(5/15) REC_CMP not in columns\n",
      "(7/15) cardioTimeSlot not in columns\n",
      "(13/15) CMP_DATE not in columns\n",
      "(14/15) CRT_DATE not in columns\n"
     ]
    }
   ],
   "source": [
    "df_cardio = df_dict['lh06cv.csv'].copy()\n",
    "\n",
    "cardioTimeSlot_int = df_cardio['cardioTimeSlot'].apply(COMBINE_harmonizer.to_int)\n",
    "is_pre = cardioTimeSlot_int == 0\n",
    "df_cardio_pre_intervention = df_cardio[is_pre]\n",
    "pre_rename_map = {\n",
    "    'cardioDate': 'pre_CardioDate',\n",
    "    'cardioTime': 'pre_CardioTime',\n",
    "    'cardioSystolicBloodPressure_mmHg': 'pre_CardioSystolicBloodPressure_mmHg',\n",
    "    'cardioDiastolicBloodPressure_mmHg': 'pre_CardioDiastolicBloodPressure_mmHg',\n",
    "    'cardioHeartRate_BPM': 'pre_CardioHeartRate_BPM',\n",
    "    'cardioVolumeExpand': 'pre_CardioVolumeExpand',\n",
    "    'cardioInotropicAgent': 'pre_CardioInotropicAgent',\n",
    "    'cardioBloodTransfusion': 'pre_CardioBloodTransfusion',\n",
    "    'cardioPlatelets': 'pre_CardioPlatelets',\n",
    "}\n",
    "df_cardio_pre_intervention = df_cardio_pre_intervention.rename(columns=pre_rename_map)\n",
    "\n",
    "df_cardio_pre_intervention = COMBINE_harmonizer.valid_columns(df_cardio_pre_intervention, all_cardio_pre_intervention_columns, debug_df=True, debug_columns=True)\n",
    "df_cardio_pre_intervention = COMBINE_harmonizer.postprocess(df_cardio_pre_intervention)\n",
    "\n",
    "out_filename = os.sep.join([out_dir, '01-08-pre-cardiovascular.csv'])\n",
    "df_cardio_pre_intervention.to_csv(out_filename, index=False)"
   ]
  },
  {
   "cell_type": "markdown",
   "id": "400d098f",
   "metadata": {},
   "source": [
    "### 01-08-2. Check empty"
   ]
  },
  {
   "cell_type": "code",
   "execution_count": 52,
   "id": "792115e9",
   "metadata": {
    "execution": {
     "iopub.execute_input": "2025-01-21T19:14:11.045965Z",
     "iopub.status.busy": "2025-01-21T19:14:11.045845Z",
     "iopub.status.idle": "2025-01-21T19:14:11.049414Z",
     "shell.execute_reply": "2025-01-21T19:14:11.049128Z"
    }
   },
   "outputs": [
    {
     "name": "stdout",
     "output_type": "stream",
     "text": [
      "(0/12) column: center (167 / 0)\n",
      "(1/12) column: subjectID (167 / 0)\n",
      "(2/12) column: uniqueID (167 / 0)\n",
      "(3/12) column: pre_CardioVolumeExpand (167 / 0)\n",
      "(4/12) column: pre_CardioInotropicAgent (167 / 0)\n",
      "(5/12) column: pre_CardioBloodTransfusion (167 / 0)\n",
      "(6/12) column: pre_CardioPlatelets (167 / 0)\n",
      "(7/12) column: pre_CardioDate (167 / 0)\n",
      "(8/12) column: pre_CardioTime (164 / 3)\n",
      "(9/12) column: pre_CardioSystolicBloodPressure_mmHg (158 / 9)\n",
      "(10/12) column: pre_CardioDiastolicBloodPressure_mmHg (158 / 9)\n",
      "(11/12) column: pre_CardioHeartRate_BPM (162 / 5)\n"
     ]
    }
   ],
   "source": [
    "COMBINE_harmonizer.check_empty(df_cardio_pre_intervention)"
   ]
  },
  {
   "cell_type": "code",
   "execution_count": 53,
   "id": "30ee17f6",
   "metadata": {
    "execution": {
     "iopub.execute_input": "2025-01-21T19:14:11.050959Z",
     "iopub.status.busy": "2025-01-21T19:14:11.050816Z",
     "iopub.status.idle": "2025-01-21T19:14:11.053505Z",
     "shell.execute_reply": "2025-01-21T19:14:11.053240Z"
    }
   },
   "outputs": [
    {
     "name": "stdout",
     "output_type": "stream",
     "text": [
      "(0/12) center: (167/0)\n",
      "(1/12) subjectID: (167/0)\n",
      "(2/12) uniqueID: (167/0)\n",
      "(3/12) pre_CardioVolumeExpand: (167/0)\n",
      "(4/12) pre_CardioInotropicAgent: (167/0)\n",
      "(5/12) pre_CardioBloodTransfusion: (167/0)\n",
      "(6/12) pre_CardioPlatelets: (167/0)\n",
      "(7/12) pre_CardioDate: (167/0)\n",
      "(8/12) pre_CardioTime: (164/3)\n",
      "(9/12) pre_CardioSystolicBloodPressure_mmHg: (158/9)\n",
      "(10/12) pre_CardioDiastolicBloodPressure_mmHg: (158/9)\n",
      "(11/12) pre_CardioHeartRate_BPM: (162/5)\n"
     ]
    }
   ],
   "source": [
    "COMBINE_harmonizer.column_info(df_cardio_pre_intervention)"
   ]
  },
  {
   "cell_type": "code",
   "execution_count": null,
   "id": "4cdd8fbf",
   "metadata": {},
   "outputs": [],
   "source": []
  },
  {
   "cell_type": "markdown",
   "id": "d1295af1",
   "metadata": {},
   "source": [
    "## 01-09. Pre-intervention - Infection"
   ]
  },
  {
   "cell_type": "code",
   "execution_count": 54,
   "id": "ae070f7f",
   "metadata": {
    "execution": {
     "iopub.execute_input": "2025-01-21T19:14:11.055156Z",
     "iopub.status.busy": "2025-01-21T19:14:11.055015Z",
     "iopub.status.idle": "2025-01-21T19:14:11.057965Z",
     "shell.execute_reply": "2025-01-21T19:14:11.057695Z"
    }
   },
   "outputs": [
    {
     "data": {
      "text/plain": [
       "['pre_PositiveCulture',\n",
       " 'pre_PositiveCultureSrc',\n",
       " 'pre_PositiveCultureDate',\n",
       " 'pre_PositiveCultureTime',\n",
       " 'pre_PositiveCultureOrganismCode1',\n",
       " 'pre_PositiveCultureOrganismCode2',\n",
       " 'pre_PositiveCultureOrganismCode3',\n",
       " 'pre_Antibiotics',\n",
       " 'pre_AntibioticsCode1',\n",
       " 'pre_AntibioticsCode2',\n",
       " 'pre_AntibioticsCode3']"
      ]
     },
     "execution_count": 54,
     "metadata": {},
     "output_type": "execute_result"
    }
   ],
   "source": [
    "infection_pre_intervention_columns = COMBINE_harmonizer.get_columns(df_data_dict, 'Pre-intervention', 'Infection')\n",
    "all_infection_pre_intervention_columns = id_columns + infection_pre_intervention_columns\n",
    "infection_pre_intervention_columns"
   ]
  },
  {
   "cell_type": "code",
   "execution_count": 55,
   "id": "f12252da",
   "metadata": {
    "execution": {
     "iopub.execute_input": "2025-01-21T19:14:11.059338Z",
     "iopub.status.busy": "2025-01-21T19:14:11.059218Z",
     "iopub.status.idle": "2025-01-21T19:14:11.133420Z",
     "shell.execute_reply": "2025-01-21T19:14:11.133046Z"
    }
   },
   "outputs": [],
   "source": [
    "df_infection_pre_intervention = df_dict['lh06.csv']\n",
    "df_infection_pre_intervention = COMBINE_harmonizer.valid_columns(df_infection_pre_intervention, all_infection_pre_intervention_columns)\n",
    "df_infection_pre_intervention = COMBINE_harmonizer.postprocess(df_infection_pre_intervention)\n",
    "\n",
    "out_filename = os.sep.join([out_dir, '01-09-pre-infection.csv'])\n",
    "df_infection_pre_intervention.to_csv(out_filename, index=False)"
   ]
  },
  {
   "cell_type": "markdown",
   "id": "a134c711",
   "metadata": {},
   "source": [
    "### 01-09-2. check empty cells"
   ]
  },
  {
   "cell_type": "code",
   "execution_count": 56,
   "id": "7b4c6469",
   "metadata": {
    "execution": {
     "iopub.execute_input": "2025-01-21T19:14:11.135407Z",
     "iopub.status.busy": "2025-01-21T19:14:11.135228Z",
     "iopub.status.idle": "2025-01-21T19:14:11.139221Z",
     "shell.execute_reply": "2025-01-21T19:14:11.138839Z"
    }
   },
   "outputs": [
    {
     "name": "stdout",
     "output_type": "stream",
     "text": [
      "(0/14) column: center (168 / 0)\n",
      "(1/14) column: subjectID (168 / 0)\n",
      "(2/14) column: uniqueID (168 / 0)\n",
      "(3/14) column: pre_PositiveCulture (168 / 0)\n",
      "(4/14) column: pre_Antibiotics (166 / 2)\n",
      "(5/14) column: pre_PositiveCultureSrc (1 / 167)\n",
      "(6/14) column: pre_PositiveCultureDate (1 / 167)\n",
      "(7/14) column: pre_PositiveCultureTime (0 / 168)\n",
      "(8/14) column: pre_PositiveCultureOrganismCode1 (1 / 167)\n",
      "(9/14) column: pre_PositiveCultureOrganismCode2 (0 / 168)\n",
      "(10/14) column: pre_PositiveCultureOrganismCode3 (0 / 168)\n",
      "(11/14) column: pre_AntibioticsCode1 (146 / 22)\n",
      "(12/14) column: pre_AntibioticsCode2 (138 / 30)\n",
      "(13/14) column: pre_AntibioticsCode3 (10 / 158)\n"
     ]
    }
   ],
   "source": [
    "COMBINE_harmonizer.check_empty(df_infection_pre_intervention)"
   ]
  },
  {
   "cell_type": "code",
   "execution_count": 57,
   "id": "6635ef67",
   "metadata": {
    "execution": {
     "iopub.execute_input": "2025-01-21T19:14:11.140857Z",
     "iopub.status.busy": "2025-01-21T19:14:11.140739Z",
     "iopub.status.idle": "2025-01-21T19:14:11.143777Z",
     "shell.execute_reply": "2025-01-21T19:14:11.143439Z"
    }
   },
   "outputs": [
    {
     "name": "stdout",
     "output_type": "stream",
     "text": [
      "(0/14) center: (168/0)\n",
      "(1/14) subjectID: (168/0)\n",
      "(2/14) uniqueID: (168/0)\n",
      "(3/14) pre_PositiveCulture: (168/0)\n",
      "(4/14) pre_Antibiotics: (166/2)\n",
      "(5/14) pre_PositiveCultureSrc: (1/167)\n",
      "(6/14) pre_PositiveCultureDate: (1/167)\n",
      "(7/14) pre_PositiveCultureTime: (0/168)\n",
      "(8/14) pre_PositiveCultureOrganismCode1: (1/167)\n",
      "(9/14) pre_PositiveCultureOrganismCode2: (0/168)\n",
      "(10/14) pre_PositiveCultureOrganismCode3: (0/168)\n",
      "(11/14) pre_AntibioticsCode1: (146/22)\n",
      "(12/14) pre_AntibioticsCode2: (138/30)\n",
      "(13/14) pre_AntibioticsCode3: (10/158)\n"
     ]
    }
   ],
   "source": [
    "COMBINE_harmonizer.column_info(df_infection_pre_intervention)"
   ]
  },
  {
   "cell_type": "markdown",
   "id": "beffed12",
   "metadata": {},
   "source": [
    "## 01-10. Pre-intervention - Other Medication"
   ]
  },
  {
   "cell_type": "code",
   "execution_count": 58,
   "id": "b330e180",
   "metadata": {
    "execution": {
     "iopub.execute_input": "2025-01-21T19:14:11.145341Z",
     "iopub.status.busy": "2025-01-21T19:14:11.145214Z",
     "iopub.status.idle": "2025-01-21T19:14:11.148322Z",
     "shell.execute_reply": "2025-01-21T19:14:11.148024Z"
    }
   },
   "outputs": [
    {
     "data": {
      "text/plain": [
       "['pre_OtherMedTargetDate',\n",
       " 'pre_OtherMedTargetTime',\n",
       " 'pre_Anticonvulsants',\n",
       " 'pre_Anticonvulsants1',\n",
       " 'pre_Anticonvulsants2',\n",
       " 'pre_Anticonvulsants3',\n",
       " 'pre_Analgesics',\n",
       " 'pre_AnalgesicsSedatives1',\n",
       " 'pre_AnalgesicsSedatives2',\n",
       " 'pre_AnalgesicsSedatives3',\n",
       " 'pre_Antipyretics',\n",
       " 'pre_Antipyretics1',\n",
       " 'pre_Antipyretics2',\n",
       " 'pre_Antipyretics3',\n",
       " 'pre_Paralytics',\n",
       " 'pre_Paralytics1',\n",
       " 'pre_Paralytics2',\n",
       " 'pre_Paralytics3',\n",
       " 'pre_OtherMedFluidIntake_ccPerKg',\n",
       " 'pre_OtherMedUrineOutput_ccPerKg']"
      ]
     },
     "execution_count": 58,
     "metadata": {},
     "output_type": "execute_result"
    }
   ],
   "source": [
    "other_med_pre_intervention_columns = COMBINE_harmonizer.get_columns(df_data_dict, 'Pre-intervention', 'Other Medication')\n",
    "all_other_med_pre_intervention_columns = id_columns + other_med_pre_intervention_columns\n",
    "other_med_pre_intervention_columns"
   ]
  },
  {
   "cell_type": "code",
   "execution_count": 59,
   "id": "56955acc",
   "metadata": {
    "execution": {
     "iopub.execute_input": "2025-01-21T19:14:11.149785Z",
     "iopub.status.busy": "2025-01-21T19:14:11.149676Z",
     "iopub.status.idle": "2025-01-21T19:14:11.220638Z",
     "shell.execute_reply": "2025-01-21T19:14:11.220138Z"
    }
   },
   "outputs": [
    {
     "name": "stdout",
     "output_type": "stream",
     "text": [
      "(1/26) REC_CMP not in columns\n",
      "(3/26) otherMedTimeSlot not in columns\n",
      "(22/26) otherMedFluidIntake_ccPerKg not in columns\n",
      "(23/26) otherMedUrineOutput_ccPerKg not in columns\n",
      "(24/26) CMP_DATE not in columns\n",
      "(25/26) CRT_DATE not in columns\n",
      "(20/22) pre_OtherMedFluidIntake_ccPerKg not in df\n",
      "(21/22) pre_OtherMedUrineOutput_ccPerKg not in df\n"
     ]
    }
   ],
   "source": [
    "df_other_med = df_dict['lh06om.csv'].copy()\n",
    "\n",
    "otherMedTimeSlot_int = df_other_med['otherMedTimeSlot'].apply(COMBINE_harmonizer.to_int)\n",
    "is_pre = otherMedTimeSlot_int == 0\n",
    "df_other_med_pre_intervention = df_other_med[is_pre]\n",
    "pre_rename_map = {\n",
    "    'otherMedTargetDate': 'pre_OtherMedTargetDate',\n",
    "    'otherMedTargetTime': 'pre_OtherMedTargetTime',\n",
    "    'anticonvulsants': 'pre_Anticonvulsants',\n",
    "    'anticonvulsants1': 'pre_Anticonvulsants1',\n",
    "    'anticonvulsants2': 'pre_Anticonvulsants2',\n",
    "    'anticonvulsants3': 'pre_Anticonvulsants3',\n",
    "    'analgesics': 'pre_Analgesics',\n",
    "    'analgesicsSedatives1': 'pre_AnalgesicsSedatives1',\n",
    "    'analgesicsSedatives2': 'pre_AnalgesicsSedatives2',\n",
    "    'analgesicsSedatives3': 'pre_AnalgesicsSedatives3',\n",
    "    'antipyretics': 'pre_Antipyretics',\n",
    "    'antipyretics1': 'pre_Antipyretics1',\n",
    "    'antipyretics2': 'pre_Antipyretics2',\n",
    "    'antipyretics3': 'pre_Antipyretics3',\n",
    "    'paralytics': 'pre_Paralytics',\n",
    "    'paralytics1': 'pre_Paralytics1',\n",
    "    'paralytics2': 'pre_Paralytics2',\n",
    "    'paralytics3': 'pre_Paralytics3',\n",
    "    'otherMedFluidIntake': 'pre_OtherMedFluidIntake',\n",
    "    'otherMedUrineOutput': 'pre_OtherMedUrineOutput',\n",
    "}\n",
    "df_other_med_pre_intervention = df_other_med_pre_intervention.rename(columns=pre_rename_map)\n",
    "\n",
    "df_other_med_pre_intervention = COMBINE_harmonizer.valid_columns(df_other_med_pre_intervention, all_other_med_pre_intervention_columns, debug_df=True, debug_columns=True)\n",
    "df_other_med_pre_intervention = COMBINE_harmonizer.postprocess(df_other_med_pre_intervention)\n",
    "\n",
    "out_filename = os.sep.join([out_dir, '01-10-pre-other-med.csv'])\n",
    "df_other_med_pre_intervention.to_csv(out_filename, index=False)"
   ]
  },
  {
   "cell_type": "markdown",
   "id": "32ab1542",
   "metadata": {},
   "source": [
    "### 01-10-2. check empty cells"
   ]
  },
  {
   "cell_type": "code",
   "execution_count": 60,
   "id": "221a50f8",
   "metadata": {
    "execution": {
     "iopub.execute_input": "2025-01-21T19:14:11.222758Z",
     "iopub.status.busy": "2025-01-21T19:14:11.222575Z",
     "iopub.status.idle": "2025-01-21T19:14:11.227271Z",
     "shell.execute_reply": "2025-01-21T19:14:11.226941Z"
    }
   },
   "outputs": [
    {
     "name": "stdout",
     "output_type": "stream",
     "text": [
      "(0/21) column: center (142 / 0)\n",
      "(1/21) column: subjectID (142 / 0)\n",
      "(2/21) column: uniqueID (142 / 0)\n",
      "(3/21) column: pre_OtherMedTargetDate (3 / 139)\n",
      "(4/21) column: pre_OtherMedTargetTime (2 / 140)\n",
      "(5/21) column: pre_Anticonvulsants (1 / 141)\n",
      "(6/21) column: pre_Anticonvulsants1 (97 / 45)\n",
      "(7/21) column: pre_Anticonvulsants2 (15 / 127)\n",
      "(8/21) column: pre_Anticonvulsants3 (0 / 142)\n",
      "(9/21) column: pre_Analgesics (1 / 141)\n",
      "(10/21) column: pre_AnalgesicsSedatives1 (51 / 91)\n",
      "(11/21) column: pre_AnalgesicsSedatives2 (23 / 119)\n",
      "(12/21) column: pre_AnalgesicsSedatives3 (1 / 141)\n",
      "(13/21) column: pre_Antipyretics (0 / 142)\n",
      "(14/21) column: pre_Antipyretics1 (2 / 140)\n",
      "(15/21) column: pre_Antipyretics2 (0 / 142)\n",
      "(16/21) column: pre_Antipyretics3 (0 / 142)\n",
      "(17/21) column: pre_Paralytics (0 / 142)\n",
      "(18/21) column: pre_Paralytics1 (8 / 134)\n",
      "(19/21) column: pre_Paralytics2 (0 / 142)\n",
      "(20/21) column: pre_Paralytics3 (0 / 142)\n"
     ]
    }
   ],
   "source": [
    "COMBINE_harmonizer.check_empty(df_other_med_pre_intervention)"
   ]
  },
  {
   "cell_type": "code",
   "execution_count": 61,
   "id": "061c71c2",
   "metadata": {
    "execution": {
     "iopub.execute_input": "2025-01-21T19:14:11.228962Z",
     "iopub.status.busy": "2025-01-21T19:14:11.228816Z",
     "iopub.status.idle": "2025-01-21T19:14:11.231929Z",
     "shell.execute_reply": "2025-01-21T19:14:11.231637Z"
    }
   },
   "outputs": [
    {
     "name": "stdout",
     "output_type": "stream",
     "text": [
      "(0/21) center: (142/0)\n",
      "(1/21) subjectID: (142/0)\n",
      "(2/21) uniqueID: (142/0)\n",
      "(3/21) pre_OtherMedTargetDate: (3/139)\n",
      "(4/21) pre_OtherMedTargetTime: (2/140)\n",
      "(5/21) pre_Anticonvulsants: (1/141)\n",
      "(6/21) pre_Anticonvulsants1: (97/45)\n",
      "(7/21) pre_Anticonvulsants2: (15/127)\n",
      "(8/21) pre_Anticonvulsants3: (0/142)\n",
      "(9/21) pre_Analgesics: (1/141)\n",
      "(10/21) pre_AnalgesicsSedatives1: (51/91)\n",
      "(11/21) pre_AnalgesicsSedatives2: (23/119)\n",
      "(12/21) pre_AnalgesicsSedatives3: (1/141)\n",
      "(13/21) pre_Antipyretics: (0/142)\n",
      "(14/21) pre_Antipyretics1: (2/140)\n",
      "(15/21) pre_Antipyretics2: (0/142)\n",
      "(16/21) pre_Antipyretics3: (0/142)\n",
      "(17/21) pre_Paralytics: (0/142)\n",
      "(18/21) pre_Paralytics1: (8/134)\n",
      "(19/21) pre_Paralytics2: (0/142)\n",
      "(20/21) pre_Paralytics3: (0/142)\n"
     ]
    }
   ],
   "source": [
    "COMBINE_harmonizer.column_info(df_other_med_pre_intervention)"
   ]
  },
  {
   "cell_type": "code",
   "execution_count": null,
   "id": "ed859c1f",
   "metadata": {},
   "outputs": [],
   "source": []
  },
  {
   "cell_type": "markdown",
   "id": "d11c222c",
   "metadata": {},
   "source": [
    "## 01-11. Pre-intervention - Imaging"
   ]
  },
  {
   "cell_type": "code",
   "execution_count": 62,
   "id": "030dbf5a",
   "metadata": {
    "execution": {
     "iopub.execute_input": "2025-01-21T19:14:11.233585Z",
     "iopub.status.busy": "2025-01-21T19:14:11.233475Z",
     "iopub.status.idle": "2025-01-21T19:14:11.236824Z",
     "shell.execute_reply": "2025-01-21T19:14:11.236523Z"
    }
   },
   "outputs": [
    {
     "data": {
      "text/plain": [
       "['pre_HeadSonogram',\n",
       " 'pre_HeadSonogramDate',\n",
       " 'pre_HeadSonogramTime',\n",
       " 'pre_HeadSonogramResult1',\n",
       " 'pre_HeadSonogramResult2',\n",
       " 'pre_HeadSonogramResult3',\n",
       " 'pre_HeadSonogramResult4',\n",
       " 'pre_HeadSonogramResult5',\n",
       " 'pre_HeadSonogramResult6',\n",
       " 'pre_HeadSonogramResult7',\n",
       " 'pre_HeadSonogramResult8',\n",
       " 'pre_HeadSonogramResultText',\n",
       " 'pre_HeadCT',\n",
       " 'pre_HeadCTDate',\n",
       " 'pre_HeadCTTime',\n",
       " 'pre_HeadCTResult1',\n",
       " 'pre_HeadCTResult2',\n",
       " 'pre_HeadCTResult3',\n",
       " 'pre_HeadCTResult4',\n",
       " 'pre_HeadCTResult5',\n",
       " 'pre_HeadCTResult6',\n",
       " 'pre_HeadCTResult7',\n",
       " 'pre_HeadCTResult8',\n",
       " 'pre_HeadCTResultText',\n",
       " 'pre_BrainMRI',\n",
       " 'pre_BrainMRIDate',\n",
       " 'pre_BrainMRITime',\n",
       " 'pre_BrainMRIResult1',\n",
       " 'pre_BrainMRIResult2',\n",
       " 'pre_BrainMRIResult3',\n",
       " 'pre_BrainMRIResult4',\n",
       " 'pre_BrainMRIResult5',\n",
       " 'pre_BrainMRIResult6',\n",
       " 'pre_BrainMRIResult7',\n",
       " 'pre_BrainMRIResult8',\n",
       " 'pre_BrainMRIResultText']"
      ]
     },
     "execution_count": 62,
     "metadata": {},
     "output_type": "execute_result"
    }
   ],
   "source": [
    "imaging_pre_intervention_columns = COMBINE_harmonizer.get_columns(df_data_dict, 'Pre-intervention', 'Imaging')\n",
    "all_imaging_pre_intervention_columns = id_columns + imaging_pre_intervention_columns\n",
    "imaging_pre_intervention_columns"
   ]
  },
  {
   "cell_type": "code",
   "execution_count": 63,
   "id": "e94cb235",
   "metadata": {
    "execution": {
     "iopub.execute_input": "2025-01-21T19:14:11.238341Z",
     "iopub.status.busy": "2025-01-21T19:14:11.238207Z",
     "iopub.status.idle": "2025-01-21T19:14:11.307676Z",
     "shell.execute_reply": "2025-01-21T19:14:11.307342Z"
    }
   },
   "outputs": [
    {
     "name": "stdout",
     "output_type": "stream",
     "text": [
      "(7/42) REC_CMP not in columns\n",
      "(9/42) imagingTimeSlot not in columns\n",
      "(40/42) CMP_DATE not in columns\n",
      "(41/42) CRT_DATE not in columns\n"
     ]
    }
   ],
   "source": [
    "df_imaging = df_dict['lh09.csv'].copy()\n",
    "\n",
    "imagingTimeSlot_int = df_imaging['imagingTimeSlot'].apply(COMBINE_harmonizer.to_int)\n",
    "is_pre = imagingTimeSlot_int == 1\n",
    "df_imaging_pre_intervention = df_imaging[is_pre]\n",
    "pre_rename_map = {\n",
    "    'headSonogram': 'pre_HeadSonogram',\n",
    "    'headSonogramDate': 'pre_HeadSonogramDate',\n",
    "    'headSonogramTime': 'pre_HeadSonogramTime',\n",
    "    'headSonogramResult1': 'pre_HeadSonogramResult1',\n",
    "    'headSonogramResult2': 'pre_HeadSonogramResult2',\n",
    "    'headSonogramResult3': 'pre_HeadSonogramResult3',\n",
    "    'headSonogramResult4': 'pre_HeadSonogramResult4',\n",
    "    'headSonogramResult5': 'pre_HeadSonogramResult5',\n",
    "    'headSonogramResult6': 'pre_HeadSonogramResult6',\n",
    "    'headSonogramResult7': 'pre_HeadSonogramResult7',\n",
    "    'headSonogramResult8': 'pre_HeadSonogramResult8',\n",
    "    'headSonogramResultText': 'pre_HeadSonogramResultText',\n",
    "    'headCT': 'pre_HeadCT',\n",
    "    'headCTDate': 'pre_HeadCTDate',\n",
    "    'headCTTime': 'pre_HeadCTTime',\n",
    "    'headCTResult1': 'pre_HeadCTResult1',\n",
    "    'headCTResult2': 'pre_HeadCTResult2',\n",
    "    'headCTResult3': 'pre_HeadCTResult3',\n",
    "    'headCTResult4': 'pre_HeadCTResult4',\n",
    "    'headCTResult5': 'pre_HeadCTResult5',\n",
    "    'headCTResult6': 'pre_HeadCTResult6',\n",
    "    'headCTResult7': 'pre_HeadCTResult7',\n",
    "    'headCTResult8': 'pre_HeadCTResult8',\n",
    "    'headCTResultText': 'pre_HeadCTResultText',\n",
    "    'brainMRI': 'pre_BrainMRI',\n",
    "    'brainMRIDate': 'pre_BrainMRIDate',\n",
    "    'brainMRITime': 'pre_BrainMRITime',\n",
    "    'brainMRIResult1': 'pre_BrainMRIResult1',\n",
    "    'brainMRIResult2': 'pre_BrainMRIResult2',\n",
    "    'brainMRIResult3': 'pre_BrainMRIResult3',\n",
    "    'brainMRIResult4': 'pre_BrainMRIResult4',\n",
    "    'brainMRIResult5': 'pre_BrainMRIResult5',\n",
    "    'brainMRIResult6': 'pre_BrainMRIResult6',\n",
    "    'brainMRIResult7': 'pre_BrainMRIResult7',\n",
    "    'brainMRIResult8': 'pre_BrainMRIResult8',\n",
    "    'brainMRIResultText': 'pre_BrainMRIResultText'\n",
    "}\n",
    "df_imaging_pre_intervention = df_imaging_pre_intervention.rename(columns=pre_rename_map)\n",
    "\n",
    "df_imaging_pre_intervention = COMBINE_harmonizer.valid_columns(df_imaging_pre_intervention, all_imaging_pre_intervention_columns, debug_df=True, debug_columns=True)\n",
    "df_imaging_pre_intervention = COMBINE_harmonizer.postprocess(df_imaging_pre_intervention)\n",
    "\n",
    "out_filename = os.sep.join([out_dir, '01-11-pre-imaging.csv'])\n",
    "df_imaging_pre_intervention.to_csv(out_filename, index=False)"
   ]
  },
  {
   "cell_type": "markdown",
   "id": "f13fe5c5",
   "metadata": {},
   "source": [
    "### 01-11-2. check empty cells"
   ]
  },
  {
   "cell_type": "code",
   "execution_count": 64,
   "id": "521eb0b7",
   "metadata": {
    "execution": {
     "iopub.execute_input": "2025-01-21T19:14:11.309644Z",
     "iopub.status.busy": "2025-01-21T19:14:11.309480Z",
     "iopub.status.idle": "2025-01-21T19:14:11.316338Z",
     "shell.execute_reply": "2025-01-21T19:14:11.315910Z"
    }
   },
   "outputs": [
    {
     "name": "stdout",
     "output_type": "stream",
     "text": [
      "(0/39) column: center (168 / 0)\n",
      "(1/39) column: subjectID (168 / 0)\n",
      "(2/39) column: uniqueID (168 / 0)\n",
      "(3/39) column: pre_HeadSonogram (168 / 0)\n",
      "(4/39) column: pre_HeadSonogramResultText (4 / 164)\n",
      "(5/39) column: pre_HeadCT (168 / 0)\n",
      "(6/39) column: pre_HeadCTResultText (4 / 164)\n",
      "(7/39) column: pre_BrainMRI (168 / 0)\n",
      "(8/39) column: pre_BrainMRIResultText (2 / 166)\n",
      "(9/39) column: pre_HeadSonogramDate (30 / 138)\n",
      "(10/39) column: pre_HeadSonogramTime (27 / 141)\n",
      "(11/39) column: pre_HeadSonogramResult1 (29 / 139)\n",
      "(12/39) column: pre_HeadSonogramResult2 (5 / 163)\n",
      "(13/39) column: pre_HeadSonogramResult3 (1 / 167)\n",
      "(14/39) column: pre_HeadSonogramResult4 (1 / 167)\n",
      "(15/39) column: pre_HeadSonogramResult5 (0 / 168)\n",
      "(16/39) column: pre_HeadSonogramResult6 (0 / 168)\n",
      "(17/39) column: pre_HeadSonogramResult7 (0 / 168)\n",
      "(18/39) column: pre_HeadSonogramResult8 (0 / 168)\n",
      "(19/39) column: pre_HeadCTDate (14 / 154)\n",
      "(20/39) column: pre_HeadCTTime (12 / 156)\n",
      "(21/39) column: pre_HeadCTResult1 (14 / 154)\n",
      "(22/39) column: pre_HeadCTResult2 (7 / 161)\n",
      "(23/39) column: pre_HeadCTResult3 (4 / 164)\n",
      "(24/39) column: pre_HeadCTResult4 (1 / 167)\n",
      "(25/39) column: pre_HeadCTResult5 (0 / 168)\n",
      "(26/39) column: pre_HeadCTResult6 (0 / 168)\n",
      "(27/39) column: pre_HeadCTResult7 (0 / 168)\n",
      "(28/39) column: pre_HeadCTResult8 (0 / 168)\n",
      "(29/39) column: pre_BrainMRIDate (4 / 164)\n",
      "(30/39) column: pre_BrainMRITime (3 / 165)\n",
      "(31/39) column: pre_BrainMRIResult1 (4 / 164)\n",
      "(32/39) column: pre_BrainMRIResult2 (3 / 165)\n",
      "(33/39) column: pre_BrainMRIResult3 (2 / 166)\n",
      "(34/39) column: pre_BrainMRIResult4 (2 / 166)\n",
      "(35/39) column: pre_BrainMRIResult5 (1 / 167)\n",
      "(36/39) column: pre_BrainMRIResult6 (0 / 168)\n",
      "(37/39) column: pre_BrainMRIResult7 (0 / 168)\n",
      "(38/39) column: pre_BrainMRIResult8 (0 / 168)\n"
     ]
    }
   ],
   "source": [
    "COMBINE_harmonizer.check_empty(df_imaging_pre_intervention)"
   ]
  },
  {
   "cell_type": "code",
   "execution_count": 65,
   "id": "b4c1a841",
   "metadata": {
    "execution": {
     "iopub.execute_input": "2025-01-21T19:14:11.318016Z",
     "iopub.status.busy": "2025-01-21T19:14:11.317855Z",
     "iopub.status.idle": "2025-01-21T19:14:11.322460Z",
     "shell.execute_reply": "2025-01-21T19:14:11.322140Z"
    }
   },
   "outputs": [
    {
     "name": "stdout",
     "output_type": "stream",
     "text": [
      "(0/39) center: (168/0)\n",
      "(1/39) subjectID: (168/0)\n",
      "(2/39) uniqueID: (168/0)\n",
      "(3/39) pre_HeadSonogram: (168/0)\n",
      "(4/39) pre_HeadSonogramResultText: (4/164)\n",
      "(5/39) pre_HeadCT: (168/0)\n",
      "(6/39) pre_HeadCTResultText: (4/164)\n",
      "(7/39) pre_BrainMRI: (168/0)\n",
      "(8/39) pre_BrainMRIResultText: (2/166)\n",
      "(9/39) pre_HeadSonogramDate: (30/138)\n",
      "(10/39) pre_HeadSonogramTime: (27/141)\n",
      "(11/39) pre_HeadSonogramResult1: (29/139)\n",
      "(12/39) pre_HeadSonogramResult2: (5/163)\n",
      "(13/39) pre_HeadSonogramResult3: (1/167)\n",
      "(14/39) pre_HeadSonogramResult4: (1/167)\n",
      "(15/39) pre_HeadSonogramResult5: (0/168)\n",
      "(16/39) pre_HeadSonogramResult6: (0/168)\n",
      "(17/39) pre_HeadSonogramResult7: (0/168)\n",
      "(18/39) pre_HeadSonogramResult8: (0/168)\n",
      "(19/39) pre_HeadCTDate: (14/154)\n",
      "(20/39) pre_HeadCTTime: (12/156)\n",
      "(21/39) pre_HeadCTResult1: (14/154)\n",
      "(22/39) pre_HeadCTResult2: (7/161)\n",
      "(23/39) pre_HeadCTResult3: (4/164)\n",
      "(24/39) pre_HeadCTResult4: (1/167)\n",
      "(25/39) pre_HeadCTResult5: (0/168)\n",
      "(26/39) pre_HeadCTResult6: (0/168)\n",
      "(27/39) pre_HeadCTResult7: (0/168)\n",
      "(28/39) pre_HeadCTResult8: (0/168)\n",
      "(29/39) pre_BrainMRIDate: (4/164)\n",
      "(30/39) pre_BrainMRITime: (3/165)\n",
      "(31/39) pre_BrainMRIResult1: (4/164)\n",
      "(32/39) pre_BrainMRIResult2: (3/165)\n",
      "(33/39) pre_BrainMRIResult3: (2/166)\n",
      "(34/39) pre_BrainMRIResult4: (2/166)\n",
      "(35/39) pre_BrainMRIResult5: (1/167)\n",
      "(36/39) pre_BrainMRIResult6: (0/168)\n",
      "(37/39) pre_BrainMRIResult7: (0/168)\n",
      "(38/39) pre_BrainMRIResult8: (0/168)\n"
     ]
    }
   ],
   "source": [
    "COMBINE_harmonizer.column_info(df_imaging_pre_intervention)"
   ]
  },
  {
   "cell_type": "markdown",
   "id": "0fca9b39-2323-450a-88e2-5a85d43ed62b",
   "metadata": {},
   "source": [
    "## 02-01. Temperature"
   ]
  },
  {
   "cell_type": "code",
   "execution_count": 66,
   "id": "75197091-b93d-4d4b-96fb-525f835e47aa",
   "metadata": {
    "execution": {
     "iopub.execute_input": "2025-01-21T19:14:11.324035Z",
     "iopub.status.busy": "2025-01-21T19:14:11.323923Z",
     "iopub.status.idle": "2025-01-21T19:14:11.332091Z",
     "shell.execute_reply": "2025-01-21T19:14:11.331823Z"
    }
   },
   "outputs": [],
   "source": [
    "df_temperature = df_dict['lh06tr.csv'].copy()\n",
    "\n",
    "temperatureTimeSlot_int = df_temperature['temperatureTimeSlot'].apply(COMBINE_harmonizer.to_int)\n",
    "is_pre_intervention_min = temperatureTimeSlot_int == 0\n",
    "is_pre_intervention_max = temperatureTimeSlot_int == 1\n",
    "is_clinical_course = (is_pre_intervention_min == False) & (is_pre_intervention_max == False)\n",
    "\n",
    "# after_baseline\n",
    "df_temperature = df_temperature[is_clinical_course]\n"
   ]
  },
  {
   "cell_type": "code",
   "execution_count": 67,
   "id": "6e9a5572",
   "metadata": {
    "execution": {
     "iopub.execute_input": "2025-01-21T19:14:11.333668Z",
     "iopub.status.busy": "2025-01-21T19:14:11.333574Z",
     "iopub.status.idle": "2025-01-21T19:14:11.336456Z",
     "shell.execute_reply": "2025-01-21T19:14:11.336211Z"
    }
   },
   "outputs": [
    {
     "data": {
      "text/plain": [
       "['temperatureTimeSlot',\n",
       " 'temperatureTimeSlotNoForm',\n",
       " 'temperatureDate',\n",
       " 'temperatureTime',\n",
       " 'skinTemperature_C',\n",
       " 'axillaryTemperature_C',\n",
       " 'esophagealTemperature_C',\n",
       " 'blanketTemperature_C',\n",
       " 'servoSetTemperature_C',\n",
       " 'alterationSkinIntegrity',\n",
       " 'shiver']"
      ]
     },
     "execution_count": 67,
     "metadata": {},
     "output_type": "execute_result"
    }
   ],
   "source": [
    "temperatures_columns = COMBINE_harmonizer.get_columns(df_data_dict, 'Intervention', 'Temperature')\n",
    "all_temperatures_columns = id_columns + temperatures_columns\n",
    "temperatures_columns"
   ]
  },
  {
   "cell_type": "code",
   "execution_count": 68,
   "id": "1915883c",
   "metadata": {
    "execution": {
     "iopub.execute_input": "2025-01-21T19:14:11.337749Z",
     "iopub.status.busy": "2025-01-21T19:14:11.337661Z",
     "iopub.status.idle": "2025-01-21T19:14:11.486039Z",
     "shell.execute_reply": "2025-01-21T19:14:11.485691Z"
    }
   },
   "outputs": [
    {
     "name": "stdout",
     "output_type": "stream",
     "text": [
      "(1/13) REC_CMP not in columns\n",
      "(11/13) CMP_DATE not in columns\n",
      "(12/13) CRT_DATE not in columns\n",
      "(3/13) temperatureTimeSlotNoForm not in df\n",
      "(11/13) alterationSkinIntegrity not in df\n",
      "(12/13) shiver not in df\n"
     ]
    }
   ],
   "source": [
    "df_temperature = COMBINE_harmonizer.valid_columns(df_temperature, all_temperatures_columns, debug_df=True, debug_columns=True)\n",
    "df_temperature = COMBINE_harmonizer.postprocess(df_temperature)\n",
    "\n",
    "# XXX hack for center14 LH039 temperatureInterval == 90\n",
    "is_center14_LH039_temperatureInterval90 = (df_temperature['center'] == '14') & (df_temperature['subjectID'] == 'LH039') & (df_temperature['temperatureTimeSlot'].isin(['90', '90.0']))\n",
    "df_temperature.loc[is_center14_LH039_temperatureInterval90, 'temperatureDate'] = '2009-09-07'\n",
    "\n",
    "out_filename = os.sep.join([out_dir, '02-01-temperature.csv'])\n",
    "df_temperature.to_csv(out_filename, index=False)\n"
   ]
  },
  {
   "cell_type": "markdown",
   "id": "4872bf3e-ac32-446b-8a58-fe476f740ebe",
   "metadata": {},
   "source": [
    "### 02-01-1. check temperature"
   ]
  },
  {
   "cell_type": "code",
   "execution_count": 69,
   "id": "c1107900-da34-4c73-86f3-a38f3a361309",
   "metadata": {
    "execution": {
     "iopub.execute_input": "2025-01-21T19:14:11.487762Z",
     "iopub.status.busy": "2025-01-21T19:14:11.487643Z",
     "iopub.status.idle": "2025-01-21T19:14:11.494496Z",
     "shell.execute_reply": "2025-01-21T19:14:11.494242Z"
    }
   },
   "outputs": [
    {
     "data": {
      "text/html": [
       "<div>\n",
       "<style scoped>\n",
       "    .dataframe tbody tr th:only-of-type {\n",
       "        vertical-align: middle;\n",
       "    }\n",
       "\n",
       "    .dataframe tbody tr th {\n",
       "        vertical-align: top;\n",
       "    }\n",
       "\n",
       "    .dataframe thead th {\n",
       "        text-align: right;\n",
       "    }\n",
       "</style>\n",
       "<table border=\"1\" class=\"dataframe\">\n",
       "  <thead>\n",
       "    <tr style=\"text-align: right;\">\n",
       "      <th></th>\n",
       "      <th></th>\n",
       "      <th>_count</th>\n",
       "    </tr>\n",
       "    <tr>\n",
       "      <th>uniqueID</th>\n",
       "      <th>temperatureTimeSlot</th>\n",
       "      <th></th>\n",
       "    </tr>\n",
       "  </thead>\n",
       "  <tbody>\n",
       "  </tbody>\n",
       "</table>\n",
       "</div>"
      ],
      "text/plain": [
       "Empty DataFrame\n",
       "Columns: [_count]\n",
       "Index: []"
      ]
     },
     "execution_count": 69,
     "metadata": {},
     "output_type": "execute_result"
    }
   ],
   "source": [
    "df_temperature_groupby = df_temperature.groupby(['uniqueID', 'temperatureTimeSlot']).agg(_count=('uniqueID', 'count'))\n",
    "\n",
    "is_invalid = df_temperature_groupby['_count'] > 1\n",
    "df_temperature_groupby[is_invalid]"
   ]
  },
  {
   "cell_type": "code",
   "execution_count": null,
   "id": "aeb53fc9-5aa7-4285-889a-404a4995acfe",
   "metadata": {},
   "outputs": [],
   "source": []
  },
  {
   "cell_type": "markdown",
   "id": "56b763e7-faa0-4c08-bc17-35007c949eeb",
   "metadata": {},
   "source": [
    "### 02-01-2. check empty cells"
   ]
  },
  {
   "cell_type": "code",
   "execution_count": 70,
   "id": "506e9f6f-1874-4f4f-a23f-c642ef45133a",
   "metadata": {
    "execution": {
     "iopub.execute_input": "2025-01-21T19:14:11.496090Z",
     "iopub.status.busy": "2025-01-21T19:14:11.495997Z",
     "iopub.status.idle": "2025-01-21T19:14:11.502316Z",
     "shell.execute_reply": "2025-01-21T19:14:11.502054Z"
    }
   },
   "outputs": [
    {
     "name": "stdout",
     "output_type": "stream",
     "text": [
      "(0/11) column: center (6164 / 0)\n",
      "(1/11) column: subjectID (6164 / 0)\n",
      "(2/11) column: uniqueID (6164 / 0)\n",
      "(3/11) column: temperatureTimeSlot (6164 / 0)\n",
      "(4/11) column: temperatureDate (6137 / 27)\n",
      "(5/11) column: temperatureTime (6127 / 37)\n",
      "(6/11) column: skinTemperature_C (5683 / 481)\n",
      "(7/11) column: axillaryTemperature_C (4569 / 1595)\n",
      "(8/11) column: esophagealTemperature_C (5814 / 350)\n",
      "(9/11) column: blanketTemperature_C (3497 / 2667)\n",
      "(10/11) column: servoSetTemperature_C (4959 / 1205)\n"
     ]
    }
   ],
   "source": [
    "COMBINE_harmonizer.check_empty(df_temperature)"
   ]
  },
  {
   "cell_type": "code",
   "execution_count": 71,
   "id": "bf34a1ec-5f6f-4a17-a2f2-6b79b0487d23",
   "metadata": {
    "execution": {
     "iopub.execute_input": "2025-01-21T19:14:11.503646Z",
     "iopub.status.busy": "2025-01-21T19:14:11.503533Z",
     "iopub.status.idle": "2025-01-21T19:14:11.507735Z",
     "shell.execute_reply": "2025-01-21T19:14:11.507477Z"
    },
    "scrolled": true
   },
   "outputs": [
    {
     "name": "stdout",
     "output_type": "stream",
     "text": [
      "(0/11) center: (6164/0)\n",
      "(1/11) subjectID: (6164/0)\n",
      "(2/11) uniqueID: (6164/0)\n",
      "(3/11) temperatureTimeSlot: (6164/0)\n",
      "(4/11) temperatureDate: (6137/27)\n",
      "(5/11) temperatureTime: (6127/37)\n",
      "(6/11) skinTemperature_C: (5683/481)\n",
      "(7/11) axillaryTemperature_C: (4569/1595)\n",
      "(8/11) esophagealTemperature_C: (5814/350)\n",
      "(9/11) blanketTemperature_C: (3497/2667)\n",
      "(10/11) servoSetTemperature_C: (4959/1205)\n"
     ]
    }
   ],
   "source": [
    "COMBINE_harmonizer.column_info(df_temperature)"
   ]
  },
  {
   "cell_type": "markdown",
   "id": "e9030ef6-af0e-4d07-b06c-615ca82245f8",
   "metadata": {},
   "source": [
    "## 02-02. cardio"
   ]
  },
  {
   "cell_type": "code",
   "execution_count": 72,
   "id": "781634cb-7d42-4513-bb87-8a96835c7adf",
   "metadata": {
    "execution": {
     "iopub.execute_input": "2025-01-21T19:14:11.509033Z",
     "iopub.status.busy": "2025-01-21T19:14:11.508943Z",
     "iopub.status.idle": "2025-01-21T19:14:11.511461Z",
     "shell.execute_reply": "2025-01-21T19:14:11.511233Z"
    }
   },
   "outputs": [
    {
     "data": {
      "text/plain": [
       "['cardioTimeSlot',\n",
       " 'cardioDate',\n",
       " 'cardioTime',\n",
       " 'cardioSystolicBloodPressure_mmHg',\n",
       " 'cardioDiastolicBloodPressure_mmHg',\n",
       " 'cardioHeartRate_BPM',\n",
       " 'cardioVolumeExpand',\n",
       " 'cardioInotropicAgent',\n",
       " 'cardioBloodTransfusion',\n",
       " 'cardioPlatelets']"
      ]
     },
     "execution_count": 72,
     "metadata": {},
     "output_type": "execute_result"
    }
   ],
   "source": [
    "cardio_columns = COMBINE_harmonizer.get_columns(df_data_dict, 'Intervention', 'Cardiovascular')\n",
    "all_cardio_columns = id_columns + cardio_columns\n",
    "cardio_columns"
   ]
  },
  {
   "cell_type": "code",
   "execution_count": 73,
   "id": "e417fca8",
   "metadata": {
    "execution": {
     "iopub.execute_input": "2025-01-21T19:14:11.512688Z",
     "iopub.status.busy": "2025-01-21T19:14:11.512602Z",
     "iopub.status.idle": "2025-01-21T19:14:11.632621Z",
     "shell.execute_reply": "2025-01-21T19:14:11.632331Z"
    }
   },
   "outputs": [
    {
     "name": "stdout",
     "output_type": "stream",
     "text": [
      "(5/15) REC_CMP not in columns\n",
      "(13/15) CMP_DATE not in columns\n",
      "(14/15) CRT_DATE not in columns\n"
     ]
    }
   ],
   "source": [
    "df_cardio = df_dict['lh06cv.csv'].copy()\n",
    "\n",
    "cardioTimeSlot_int = df_cardio['cardioTimeSlot'].apply(COMBINE_harmonizer.to_int)\n",
    "is_pre = cardioTimeSlot_int == 0\n",
    "is_clinical_course = is_pre == False\n",
    "# after_baseline\n",
    "df_cardio = df_cardio[is_clinical_course]\n",
    "\n",
    "df_cardio = COMBINE_harmonizer.valid_columns(df_cardio, all_cardio_columns, debug_df=True, debug_columns=True)\n",
    "df_cardio = COMBINE_harmonizer.postprocess(df_cardio)\n",
    "\n",
    "out_filename = os.sep.join([out_dir, '02-02-cardiovascular.csv'])\n",
    "df_cardio.to_csv(out_filename, index=False)"
   ]
  },
  {
   "cell_type": "markdown",
   "id": "44d246af-5e91-4a3b-a63e-1b4a92281308",
   "metadata": {},
   "source": [
    "### 02-02-1. check cardio"
   ]
  },
  {
   "cell_type": "code",
   "execution_count": 74,
   "id": "d0544caa-f507-4f66-83b8-8fdd5c20f518",
   "metadata": {
    "execution": {
     "iopub.execute_input": "2025-01-21T19:14:11.634236Z",
     "iopub.status.busy": "2025-01-21T19:14:11.634131Z",
     "iopub.status.idle": "2025-01-21T19:14:11.639978Z",
     "shell.execute_reply": "2025-01-21T19:14:11.639701Z"
    }
   },
   "outputs": [
    {
     "data": {
      "text/html": [
       "<div>\n",
       "<style scoped>\n",
       "    .dataframe tbody tr th:only-of-type {\n",
       "        vertical-align: middle;\n",
       "    }\n",
       "\n",
       "    .dataframe tbody tr th {\n",
       "        vertical-align: top;\n",
       "    }\n",
       "\n",
       "    .dataframe thead th {\n",
       "        text-align: right;\n",
       "    }\n",
       "</style>\n",
       "<table border=\"1\" class=\"dataframe\">\n",
       "  <thead>\n",
       "    <tr style=\"text-align: right;\">\n",
       "      <th></th>\n",
       "      <th></th>\n",
       "      <th>_count</th>\n",
       "    </tr>\n",
       "    <tr>\n",
       "      <th>uniqueID</th>\n",
       "      <th>cardioTimeSlot</th>\n",
       "      <th></th>\n",
       "    </tr>\n",
       "  </thead>\n",
       "  <tbody>\n",
       "  </tbody>\n",
       "</table>\n",
       "</div>"
      ],
      "text/plain": [
       "Empty DataFrame\n",
       "Columns: [_count]\n",
       "Index: []"
      ]
     },
     "execution_count": 74,
     "metadata": {},
     "output_type": "execute_result"
    }
   ],
   "source": [
    "df_cardio_groupby = df_cardio.groupby(['uniqueID', 'cardioTimeSlot']).agg(_count=('uniqueID', 'count'))\n",
    "\n",
    "is_invalid = df_cardio_groupby['_count'] > 1\n",
    "df_cardio_groupby[is_invalid]"
   ]
  },
  {
   "cell_type": "markdown",
   "id": "9ce67642-f87d-4155-913f-89b6096fc6d5",
   "metadata": {},
   "source": [
    "### 02-02-2. check empty cells"
   ]
  },
  {
   "cell_type": "code",
   "execution_count": 75,
   "id": "0d9d5632-57c8-4c8e-940c-c1273a473b1c",
   "metadata": {
    "execution": {
     "iopub.execute_input": "2025-01-21T19:14:11.641437Z",
     "iopub.status.busy": "2025-01-21T19:14:11.641336Z",
     "iopub.status.idle": "2025-01-21T19:14:11.647141Z",
     "shell.execute_reply": "2025-01-21T19:14:11.646890Z"
    }
   },
   "outputs": [
    {
     "name": "stdout",
     "output_type": "stream",
     "text": [
      "(0/13) column: center (4056 / 0)\n",
      "(1/13) column: subjectID (4056 / 0)\n",
      "(2/13) column: uniqueID (4056 / 0)\n",
      "(3/13) column: cardioVolumeExpand (4056 / 0)\n",
      "(4/13) column: cardioInotropicAgent (4056 / 0)\n",
      "(5/13) column: cardioBloodTransfusion (4056 / 0)\n",
      "(6/13) column: cardioPlatelets (4056 / 0)\n",
      "(7/13) column: cardioTimeSlot (4056 / 0)\n",
      "(8/13) column: cardioDate (4053 / 3)\n",
      "(9/13) column: cardioTime (4053 / 3)\n",
      "(10/13) column: cardioSystolicBloodPressure_mmHg (3657 / 399)\n",
      "(11/13) column: cardioDiastolicBloodPressure_mmHg (3656 / 400)\n",
      "(12/13) column: cardioHeartRate_BPM (4025 / 31)\n"
     ]
    }
   ],
   "source": [
    "COMBINE_harmonizer.check_empty(df_cardio)"
   ]
  },
  {
   "cell_type": "code",
   "execution_count": 76,
   "id": "fd2235a1-b164-4229-8c18-d187f10d0921",
   "metadata": {
    "execution": {
     "iopub.execute_input": "2025-01-21T19:14:11.648389Z",
     "iopub.status.busy": "2025-01-21T19:14:11.648299Z",
     "iopub.status.idle": "2025-01-21T19:14:11.652110Z",
     "shell.execute_reply": "2025-01-21T19:14:11.651837Z"
    },
    "scrolled": true
   },
   "outputs": [
    {
     "name": "stdout",
     "output_type": "stream",
     "text": [
      "(0/13) center: (4056/0)\n",
      "(1/13) subjectID: (4056/0)\n",
      "(2/13) uniqueID: (4056/0)\n",
      "(3/13) cardioVolumeExpand: (4056/0)\n",
      "(4/13) cardioInotropicAgent: (4056/0)\n",
      "(5/13) cardioBloodTransfusion: (4056/0)\n",
      "(6/13) cardioPlatelets: (4056/0)\n",
      "(7/13) cardioTimeSlot: (4056/0)\n",
      "(8/13) cardioDate: (4053/3)\n",
      "(9/13) cardioTime: (4053/3)\n",
      "(10/13) cardioSystolicBloodPressure_mmHg: (3657/399)\n",
      "(11/13) cardioDiastolicBloodPressure_mmHg: (3656/400)\n",
      "(12/13) cardioHeartRate_BPM: (4025/31)\n"
     ]
    }
   ],
   "source": [
    "COMBINE_harmonizer.column_info(df_cardio)"
   ]
  },
  {
   "cell_type": "markdown",
   "id": "cbb4f4d1-ec71-4fdb-b323-35fabd584021",
   "metadata": {},
   "source": [
    "## 02-03. respiratory"
   ]
  },
  {
   "cell_type": "code",
   "execution_count": 77,
   "id": "72ca396f",
   "metadata": {
    "execution": {
     "iopub.execute_input": "2025-01-21T19:14:11.653454Z",
     "iopub.status.busy": "2025-01-21T19:14:11.653364Z",
     "iopub.status.idle": "2025-01-21T19:14:11.656044Z",
     "shell.execute_reply": "2025-01-21T19:14:11.655831Z"
    }
   },
   "outputs": [
    {
     "data": {
      "text/plain": [
       "['respiratoryTimeSlot',\n",
       " 'respiratoryDate',\n",
       " 'respiratoryTime',\n",
       " 'respiratorySupportType',\n",
       " 'respiratoryFiO2',\n",
       " 'respiratoryRate_Hz',\n",
       " 'respiratoryPIP_cmH2O',\n",
       " 'respiratoryMAP_cmH2O',\n",
       " 'respiratoryPEEP_cmH2O']"
      ]
     },
     "execution_count": 77,
     "metadata": {},
     "output_type": "execute_result"
    }
   ],
   "source": [
    "respiratory_columns = COMBINE_harmonizer.get_columns(df_data_dict, 'Intervention', 'Respiratory')\n",
    "all_respiratory_columns = id_columns + respiratory_columns\n",
    "respiratory_columns"
   ]
  },
  {
   "cell_type": "code",
   "execution_count": 78,
   "id": "04724217",
   "metadata": {
    "execution": {
     "iopub.execute_input": "2025-01-21T19:14:11.657175Z",
     "iopub.status.busy": "2025-01-21T19:14:11.657090Z",
     "iopub.status.idle": "2025-01-21T19:14:11.731968Z",
     "shell.execute_reply": "2025-01-21T19:14:11.731653Z"
    }
   },
   "outputs": [
    {
     "name": "stdout",
     "output_type": "stream",
     "text": [
      "(1/14) REC_CMP not in columns\n",
      "(12/14) CMP_DATE not in columns\n",
      "(13/14) CRT_DATE not in columns\n"
     ]
    }
   ],
   "source": [
    "df_respiratory = df_dict['lh06rs.csv'].copy()\n",
    "df_respiratory = COMBINE_harmonizer.valid_columns(df_respiratory, all_respiratory_columns, debug_df=True, debug_columns=True)\n",
    "df_respiratory = COMBINE_harmonizer.postprocess(df_respiratory)\n",
    "\n",
    "out_filename = os.sep.join([out_dir, '02-03-respiratory.csv'])\n",
    "df_respiratory.to_csv(out_filename, index=False)"
   ]
  },
  {
   "cell_type": "markdown",
   "id": "5ffc23a0",
   "metadata": {},
   "source": [
    "### 02-03-1. check respiratory"
   ]
  },
  {
   "cell_type": "code",
   "execution_count": 79,
   "id": "04cb9202",
   "metadata": {
    "execution": {
     "iopub.execute_input": "2025-01-21T19:14:11.733551Z",
     "iopub.status.busy": "2025-01-21T19:14:11.733440Z",
     "iopub.status.idle": "2025-01-21T19:14:11.739027Z",
     "shell.execute_reply": "2025-01-21T19:14:11.738756Z"
    }
   },
   "outputs": [
    {
     "data": {
      "text/html": [
       "<div>\n",
       "<style scoped>\n",
       "    .dataframe tbody tr th:only-of-type {\n",
       "        vertical-align: middle;\n",
       "    }\n",
       "\n",
       "    .dataframe tbody tr th {\n",
       "        vertical-align: top;\n",
       "    }\n",
       "\n",
       "    .dataframe thead th {\n",
       "        text-align: right;\n",
       "    }\n",
       "</style>\n",
       "<table border=\"1\" class=\"dataframe\">\n",
       "  <thead>\n",
       "    <tr style=\"text-align: right;\">\n",
       "      <th></th>\n",
       "      <th></th>\n",
       "      <th>_count</th>\n",
       "    </tr>\n",
       "    <tr>\n",
       "      <th>uniqueID</th>\n",
       "      <th>respiratoryTimeSlot</th>\n",
       "      <th></th>\n",
       "    </tr>\n",
       "  </thead>\n",
       "  <tbody>\n",
       "  </tbody>\n",
       "</table>\n",
       "</div>"
      ],
      "text/plain": [
       "Empty DataFrame\n",
       "Columns: [_count]\n",
       "Index: []"
      ]
     },
     "execution_count": 79,
     "metadata": {},
     "output_type": "execute_result"
    }
   ],
   "source": [
    "df_respiratory_groupby = df_respiratory.groupby(['uniqueID', 'respiratoryTimeSlot']).agg(_count=('uniqueID', 'count'))\n",
    "\n",
    "is_invalid = df_respiratory_groupby['_count'] > 1\n",
    "df_respiratory_groupby[is_invalid]"
   ]
  },
  {
   "cell_type": "markdown",
   "id": "ff6a7dd7",
   "metadata": {},
   "source": [
    "### 02-03-2. check empty cells"
   ]
  },
  {
   "cell_type": "code",
   "execution_count": 80,
   "id": "0fa025a0",
   "metadata": {
    "execution": {
     "iopub.execute_input": "2025-01-21T19:14:11.740493Z",
     "iopub.status.busy": "2025-01-21T19:14:11.740367Z",
     "iopub.status.idle": "2025-01-21T19:14:11.743604Z",
     "shell.execute_reply": "2025-01-21T19:14:11.743349Z"
    }
   },
   "outputs": [
    {
     "name": "stdout",
     "output_type": "stream",
     "text": [
      "(0/12) column: center (815 / 0)\n",
      "(1/12) column: subjectID (815 / 0)\n",
      "(2/12) column: uniqueID (815 / 0)\n",
      "(3/12) column: respiratoryTimeSlot (815 / 0)\n",
      "(4/12) column: respiratoryDate (814 / 1)\n",
      "(5/12) column: respiratoryTime (814 / 1)\n",
      "(6/12) column: respiratorySupportType (813 / 2)\n",
      "(7/12) column: respiratoryFiO2 (412 / 403)\n",
      "(8/12) column: respiratoryRate_Hz (275 / 540)\n",
      "(9/12) column: respiratoryPIP_cmH2O (269 / 546)\n",
      "(10/12) column: respiratoryMAP_cmH2O (262 / 553)\n",
      "(11/12) column: respiratoryPEEP_cmH2O (227 / 588)\n"
     ]
    }
   ],
   "source": [
    "COMBINE_harmonizer.check_empty(df_respiratory)"
   ]
  },
  {
   "cell_type": "code",
   "execution_count": 81,
   "id": "42320de1",
   "metadata": {
    "execution": {
     "iopub.execute_input": "2025-01-21T19:14:11.744862Z",
     "iopub.status.busy": "2025-01-21T19:14:11.744776Z",
     "iopub.status.idle": "2025-01-21T19:14:11.747286Z",
     "shell.execute_reply": "2025-01-21T19:14:11.747048Z"
    }
   },
   "outputs": [
    {
     "name": "stdout",
     "output_type": "stream",
     "text": [
      "(0/12) center: (815/0)\n",
      "(1/12) subjectID: (815/0)\n",
      "(2/12) uniqueID: (815/0)\n",
      "(3/12) respiratoryTimeSlot: (815/0)\n",
      "(4/12) respiratoryDate: (814/1)\n",
      "(5/12) respiratoryTime: (814/1)\n",
      "(6/12) respiratorySupportType: (813/2)\n",
      "(7/12) respiratoryFiO2: (412/403)\n",
      "(8/12) respiratoryRate_Hz: (275/540)\n",
      "(9/12) respiratoryPIP_cmH2O: (269/546)\n",
      "(10/12) respiratoryMAP_cmH2O: (262/553)\n",
      "(11/12) respiratoryPEEP_cmH2O: (227/588)\n"
     ]
    }
   ],
   "source": [
    "COMBINE_harmonizer.column_info(df_respiratory)"
   ]
  },
  {
   "cell_type": "markdown",
   "id": "22ae41ef-b69c-4d1f-bb07-2f3d882d0fd8",
   "metadata": {},
   "source": [
    "## 02-04. blood-gas"
   ]
  },
  {
   "cell_type": "code",
   "execution_count": 82,
   "id": "d8bc310e-c6ec-468d-870d-a821931db2e0",
   "metadata": {
    "execution": {
     "iopub.execute_input": "2025-01-21T19:14:11.748577Z",
     "iopub.status.busy": "2025-01-21T19:14:11.748488Z",
     "iopub.status.idle": "2025-01-21T19:14:11.751159Z",
     "shell.execute_reply": "2025-01-21T19:14:11.750947Z"
    }
   },
   "outputs": [
    {
     "data": {
      "text/plain": [
       "['bloodGasTimeSlot',\n",
       " 'bloodGasDate',\n",
       " 'bloodGasTime',\n",
       " 'bloodGasSrc',\n",
       " 'bloodGasPH',\n",
       " 'bloodGasPCO2_mmHg',\n",
       " 'bloodGasPO2_mmHg',\n",
       " 'bloodGasHCO3_mEqPerL',\n",
       " 'bloodGasBaseDeficit_mEqPerL',\n",
       " 'bloodGasPHCorrect',\n",
       " 'bloodGasPCO2Correct_mmHg',\n",
       " 'bloodGasPO2Correct_mmHg',\n",
       " 'bloodGasHCO3Correct_mEqPerL',\n",
       " 'bloodGasBaseDeficitCorrect_mEqPerL']"
      ]
     },
     "execution_count": 82,
     "metadata": {},
     "output_type": "execute_result"
    }
   ],
   "source": [
    "blood_gas_columns = COMBINE_harmonizer.get_columns(df_data_dict, 'Intervention', 'Blood Gas')\n",
    "all_blood_gas_columns = id_columns + blood_gas_columns\n",
    "blood_gas_columns"
   ]
  },
  {
   "cell_type": "code",
   "execution_count": 83,
   "id": "565d94b9",
   "metadata": {
    "execution": {
     "iopub.execute_input": "2025-01-21T19:14:11.752341Z",
     "iopub.status.busy": "2025-01-21T19:14:11.752258Z",
     "iopub.status.idle": "2025-01-21T19:14:11.830769Z",
     "shell.execute_reply": "2025-01-21T19:14:11.830439Z"
    }
   },
   "outputs": [
    {
     "name": "stdout",
     "output_type": "stream",
     "text": [
      "(1/13) REC_CMP not in columns\n",
      "(11/13) CMP_DATE not in columns\n",
      "(12/13) CRT_DATE not in columns\n",
      "(5/16) bloodGasSrc not in df\n",
      "(11/16) bloodGasPHCorrect not in df\n",
      "(12/16) bloodGasPCO2Correct_mmHg not in df\n",
      "(13/16) bloodGasPO2Correct_mmHg not in df\n",
      "(14/16) bloodGasHCO3Correct_mEqPerL not in df\n",
      "(15/16) bloodGasBaseDeficitCorrect_mEqPerL not in df\n"
     ]
    }
   ],
   "source": [
    "df_blood_gas = df_dict['lh06bg.csv']\n",
    "df_blood_gas = COMBINE_harmonizer.valid_columns(df_blood_gas, all_blood_gas_columns, debug_df=True, debug_columns=True)\n",
    "df_blood_gas = COMBINE_harmonizer.postprocess(df_blood_gas)\n",
    "\n",
    "out_filename = os.sep.join([out_dir, '02-04-blood-gas.csv'])\n",
    "df_blood_gas.to_csv(out_filename, index=False)"
   ]
  },
  {
   "cell_type": "markdown",
   "id": "3e64bec6-0b37-45e9-b6a8-775ed15c34f2",
   "metadata": {},
   "source": [
    "### 02-04-1. check blood-gas"
   ]
  },
  {
   "cell_type": "code",
   "execution_count": 84,
   "id": "f3d69fca-30a8-4d78-b361-afd6f7691d95",
   "metadata": {
    "execution": {
     "iopub.execute_input": "2025-01-21T19:14:11.832418Z",
     "iopub.status.busy": "2025-01-21T19:14:11.832279Z",
     "iopub.status.idle": "2025-01-21T19:14:11.838108Z",
     "shell.execute_reply": "2025-01-21T19:14:11.837832Z"
    }
   },
   "outputs": [
    {
     "data": {
      "text/html": [
       "<div>\n",
       "<style scoped>\n",
       "    .dataframe tbody tr th:only-of-type {\n",
       "        vertical-align: middle;\n",
       "    }\n",
       "\n",
       "    .dataframe tbody tr th {\n",
       "        vertical-align: top;\n",
       "    }\n",
       "\n",
       "    .dataframe thead th {\n",
       "        text-align: right;\n",
       "    }\n",
       "</style>\n",
       "<table border=\"1\" class=\"dataframe\">\n",
       "  <thead>\n",
       "    <tr style=\"text-align: right;\">\n",
       "      <th></th>\n",
       "      <th></th>\n",
       "      <th>_count</th>\n",
       "    </tr>\n",
       "    <tr>\n",
       "      <th>uniqueID</th>\n",
       "      <th>bloodGasTimeSlot</th>\n",
       "      <th></th>\n",
       "    </tr>\n",
       "  </thead>\n",
       "  <tbody>\n",
       "  </tbody>\n",
       "</table>\n",
       "</div>"
      ],
      "text/plain": [
       "Empty DataFrame\n",
       "Columns: [_count]\n",
       "Index: []"
      ]
     },
     "execution_count": 84,
     "metadata": {},
     "output_type": "execute_result"
    }
   ],
   "source": [
    "df_blood_gas_groupby = df_blood_gas.groupby(['uniqueID', 'bloodGasTimeSlot']).agg(_count=('uniqueID', 'count'))\n",
    "\n",
    "is_invalid = df_blood_gas_groupby['_count'] > 1\n",
    "df_blood_gas_groupby[is_invalid]"
   ]
  },
  {
   "cell_type": "markdown",
   "id": "84dbecc3-6912-44d7-9797-4f99f4cb20f9",
   "metadata": {},
   "source": [
    "### 02-04-2. check empty cells"
   ]
  },
  {
   "cell_type": "code",
   "execution_count": 85,
   "id": "0a1d179f-3d5d-44ea-bcc0-aac8a0182491",
   "metadata": {
    "execution": {
     "iopub.execute_input": "2025-01-21T19:14:11.839711Z",
     "iopub.status.busy": "2025-01-21T19:14:11.839607Z",
     "iopub.status.idle": "2025-01-21T19:14:11.843256Z",
     "shell.execute_reply": "2025-01-21T19:14:11.843005Z"
    }
   },
   "outputs": [
    {
     "name": "stdout",
     "output_type": "stream",
     "text": [
      "(0/11) column: center (1195 / 0)\n",
      "(1/11) column: subjectID (1195 / 0)\n",
      "(2/11) column: uniqueID (1195 / 0)\n",
      "(3/11) column: bloodGasTimeSlot (1195 / 0)\n",
      "(4/11) column: bloodGasDate (943 / 252)\n",
      "(5/11) column: bloodGasTime (891 / 304)\n",
      "(6/11) column: bloodGasPH (788 / 407)\n",
      "(7/11) column: bloodGasPCO2_mmHg (789 / 406)\n",
      "(8/11) column: bloodGasPO2_mmHg (784 / 411)\n",
      "(9/11) column: bloodGasHCO3_mEqPerL (775 / 420)\n",
      "(10/11) column: bloodGasBaseDeficit_mEqPerL (770 / 425)\n"
     ]
    }
   ],
   "source": [
    "COMBINE_harmonizer.check_empty(df_blood_gas)"
   ]
  },
  {
   "cell_type": "code",
   "execution_count": 86,
   "id": "1c02bcbf-fd7e-486b-a973-8797be8f6632",
   "metadata": {
    "execution": {
     "iopub.execute_input": "2025-01-21T19:14:11.844544Z",
     "iopub.status.busy": "2025-01-21T19:14:11.844431Z",
     "iopub.status.idle": "2025-01-21T19:14:11.847086Z",
     "shell.execute_reply": "2025-01-21T19:14:11.846825Z"
    },
    "scrolled": true
   },
   "outputs": [
    {
     "name": "stdout",
     "output_type": "stream",
     "text": [
      "(0/11) center: (1195/0)\n",
      "(1/11) subjectID: (1195/0)\n",
      "(2/11) uniqueID: (1195/0)\n",
      "(3/11) bloodGasTimeSlot: (1195/0)\n",
      "(4/11) bloodGasDate: (943/252)\n",
      "(5/11) bloodGasTime: (891/304)\n",
      "(6/11) bloodGasPH: (788/407)\n",
      "(7/11) bloodGasPCO2_mmHg: (789/406)\n",
      "(8/11) bloodGasPO2_mmHg: (784/411)\n",
      "(9/11) bloodGasHCO3_mEqPerL: (775/420)\n",
      "(10/11) bloodGasBaseDeficit_mEqPerL: (770/425)\n"
     ]
    }
   ],
   "source": [
    "COMBINE_harmonizer.column_info(df_blood_gas)"
   ]
  },
  {
   "cell_type": "markdown",
   "id": "c487564c-e591-49f9-9852-2a51974bda9d",
   "metadata": {},
   "source": [
    "## 02-05. hematology"
   ]
  },
  {
   "cell_type": "code",
   "execution_count": 87,
   "id": "3447fe35-b81f-4b54-8eea-000b603e83ac",
   "metadata": {
    "execution": {
     "iopub.execute_input": "2025-01-21T19:14:11.848414Z",
     "iopub.status.busy": "2025-01-21T19:14:11.848307Z",
     "iopub.status.idle": "2025-01-21T19:14:11.850949Z",
     "shell.execute_reply": "2025-01-21T19:14:11.850714Z"
    }
   },
   "outputs": [
    {
     "data": {
      "text/plain": [
       "['hematology',\n",
       " 'hematologyTimeSlot',\n",
       " 'hematologyDate',\n",
       " 'hematologyTime',\n",
       " 'hematologyWBC',\n",
       " 'hematologyHemoglobin',\n",
       " 'hematologyPolymorphNeutrophilsDifferentialCount',\n",
       " 'hematologyMonocytes',\n",
       " 'hematologyLymphocytes',\n",
       " 'hematologyPlateletCount',\n",
       " 'hematologyPT_s',\n",
       " 'hematologyPTT_s',\n",
       " 'hematologyHematocritMin',\n",
       " 'hematologyHematocritMinDate',\n",
       " 'hematologyPlateletCountMin',\n",
       " 'hematologyPlateletCountMinDate']"
      ]
     },
     "execution_count": 87,
     "metadata": {},
     "output_type": "execute_result"
    }
   ],
   "source": [
    "hematology_columns = COMBINE_harmonizer.get_columns(df_data_dict, 'Intervention', 'Hematology CBC')\n",
    "all_hematology_columns = id_columns + hematology_columns\n",
    "hematology_columns"
   ]
  },
  {
   "cell_type": "code",
   "execution_count": 88,
   "id": "454892c9",
   "metadata": {
    "execution": {
     "iopub.execute_input": "2025-01-21T19:14:11.852177Z",
     "iopub.status.busy": "2025-01-21T19:14:11.852049Z",
     "iopub.status.idle": "2025-01-21T19:14:11.929283Z",
     "shell.execute_reply": "2025-01-21T19:14:11.928969Z"
    }
   },
   "outputs": [
    {
     "name": "stdout",
     "output_type": "stream",
     "text": [
      "(1/16) REC_CMP not in columns\n",
      "(14/16) CMP_DATE not in columns\n",
      "(15/16) CRT_DATE not in columns\n",
      "(2/18) hematology not in df\n",
      "(14/18) hematologyHematocritMin not in df\n",
      "(15/18) hematologyHematocritMinDate not in df\n",
      "(16/18) hematologyPlateletCountMin not in df\n",
      "(17/18) hematologyPlateletCountMinDate not in df\n"
     ]
    }
   ],
   "source": [
    "df_hematology = df_dict['lh06he.csv'].copy()\n",
    "\n",
    "df_hematology = COMBINE_harmonizer.valid_columns(df_hematology, all_hematology_columns, debug_df=True, debug_columns=True)\n",
    "df_hematology = COMBINE_harmonizer.postprocess(df_hematology)\n",
    "\n",
    "out_filename = os.sep.join([out_dir, '02-05-hematology.csv'])\n",
    "df_hematology.to_csv(out_filename, index=False)"
   ]
  },
  {
   "cell_type": "markdown",
   "id": "aba3d0bb-bff8-4300-8765-2a293f1eefaf",
   "metadata": {},
   "source": [
    "### 02-05-1. check hematology"
   ]
  },
  {
   "cell_type": "code",
   "execution_count": 89,
   "id": "60996b57-c068-43de-bfd6-fc0a2e96a115",
   "metadata": {
    "execution": {
     "iopub.execute_input": "2025-01-21T19:14:11.930926Z",
     "iopub.status.busy": "2025-01-21T19:14:11.930814Z",
     "iopub.status.idle": "2025-01-21T19:14:11.936565Z",
     "shell.execute_reply": "2025-01-21T19:14:11.936283Z"
    }
   },
   "outputs": [
    {
     "data": {
      "text/html": [
       "<div>\n",
       "<style scoped>\n",
       "    .dataframe tbody tr th:only-of-type {\n",
       "        vertical-align: middle;\n",
       "    }\n",
       "\n",
       "    .dataframe tbody tr th {\n",
       "        vertical-align: top;\n",
       "    }\n",
       "\n",
       "    .dataframe thead th {\n",
       "        text-align: right;\n",
       "    }\n",
       "</style>\n",
       "<table border=\"1\" class=\"dataframe\">\n",
       "  <thead>\n",
       "    <tr style=\"text-align: right;\">\n",
       "      <th></th>\n",
       "      <th></th>\n",
       "      <th>_count</th>\n",
       "    </tr>\n",
       "    <tr>\n",
       "      <th>uniqueID</th>\n",
       "      <th>hematologyTimeSlot</th>\n",
       "      <th></th>\n",
       "    </tr>\n",
       "  </thead>\n",
       "  <tbody>\n",
       "  </tbody>\n",
       "</table>\n",
       "</div>"
      ],
      "text/plain": [
       "Empty DataFrame\n",
       "Columns: [_count]\n",
       "Index: []"
      ]
     },
     "execution_count": 89,
     "metadata": {},
     "output_type": "execute_result"
    }
   ],
   "source": [
    "df_hematology_groupby = df_hematology.groupby(['uniqueID', 'hematologyTimeSlot']).agg(_count=('uniqueID', 'count'))\n",
    "\n",
    "is_invalid = df_hematology_groupby['_count'] > 1\n",
    "df_hematology_groupby[is_invalid]"
   ]
  },
  {
   "cell_type": "markdown",
   "id": "3162c0b6-e0c2-4e63-b545-55e2567e389a",
   "metadata": {},
   "source": [
    "### 02-05-2. check empty cells"
   ]
  },
  {
   "cell_type": "code",
   "execution_count": 90,
   "id": "a546911c-1089-4f52-9215-5fae64e29861",
   "metadata": {
    "execution": {
     "iopub.execute_input": "2025-01-21T19:14:11.938083Z",
     "iopub.status.busy": "2025-01-21T19:14:11.937981Z",
     "iopub.status.idle": "2025-01-21T19:14:11.941811Z",
     "shell.execute_reply": "2025-01-21T19:14:11.941523Z"
    }
   },
   "outputs": [
    {
     "name": "stdout",
     "output_type": "stream",
     "text": [
      "(0/14) column: center (763 / 0)\n",
      "(1/14) column: subjectID (763 / 0)\n",
      "(2/14) column: uniqueID (763 / 0)\n",
      "(3/14) column: hematologyTimeSlot (763 / 0)\n",
      "(4/14) column: hematologyDate (625 / 138)\n",
      "(5/14) column: hematologyTime (564 / 199)\n",
      "(6/14) column: hematologyWBC (454 / 309)\n",
      "(7/14) column: hematologyHemoglobin (475 / 288)\n",
      "(8/14) column: hematologyPolymorphNeutrophilsDifferentialCount (400 / 363)\n",
      "(9/14) column: hematologyMonocytes (399 / 364)\n",
      "(10/14) column: hematologyLymphocytes (405 / 358)\n",
      "(11/14) column: hematologyPlateletCount (469 / 294)\n",
      "(12/14) column: hematologyPT_s (190 / 573)\n",
      "(13/14) column: hematologyPTT_s (179 / 584)\n"
     ]
    }
   ],
   "source": [
    "COMBINE_harmonizer.check_empty(df_hematology)"
   ]
  },
  {
   "cell_type": "code",
   "execution_count": 91,
   "id": "50b5a433-0ce2-448b-84e1-762ed9d09a82",
   "metadata": {
    "execution": {
     "iopub.execute_input": "2025-01-21T19:14:11.943143Z",
     "iopub.status.busy": "2025-01-21T19:14:11.943055Z",
     "iopub.status.idle": "2025-01-21T19:14:11.945782Z",
     "shell.execute_reply": "2025-01-21T19:14:11.945527Z"
    },
    "scrolled": true
   },
   "outputs": [
    {
     "name": "stdout",
     "output_type": "stream",
     "text": [
      "(0/14) center: (763/0)\n",
      "(1/14) subjectID: (763/0)\n",
      "(2/14) uniqueID: (763/0)\n",
      "(3/14) hematologyTimeSlot: (763/0)\n",
      "(4/14) hematologyDate: (625/138)\n",
      "(5/14) hematologyTime: (564/199)\n",
      "(6/14) hematologyWBC: (454/309)\n",
      "(7/14) hematologyHemoglobin: (475/288)\n",
      "(8/14) hematologyPolymorphNeutrophilsDifferentialCount: (400/363)\n",
      "(9/14) hematologyMonocytes: (399/364)\n",
      "(10/14) hematologyLymphocytes: (405/358)\n",
      "(11/14) hematologyPlateletCount: (469/294)\n",
      "(12/14) hematologyPT_s: (190/573)\n",
      "(13/14) hematologyPTT_s: (179/584)\n"
     ]
    }
   ],
   "source": [
    "COMBINE_harmonizer.column_info(df_hematology)"
   ]
  },
  {
   "cell_type": "markdown",
   "id": "800dd806",
   "metadata": {},
   "source": [
    "### 02-05-3. Hematology summary"
   ]
  },
  {
   "cell_type": "code",
   "execution_count": 92,
   "id": "fb5dbb6f",
   "metadata": {
    "execution": {
     "iopub.execute_input": "2025-01-21T19:14:11.947088Z",
     "iopub.status.busy": "2025-01-21T19:14:11.947000Z",
     "iopub.status.idle": "2025-01-21T19:14:12.020862Z",
     "shell.execute_reply": "2025-01-21T19:14:12.020536Z"
    }
   },
   "outputs": [
    {
     "name": "stdout",
     "output_type": "stream",
     "text": [
      "(2/18) hematology not in df\n",
      "(3/18) hematologyTimeSlot not in df\n",
      "(4/18) hematologyDate not in df\n",
      "(5/18) hematologyTime not in df\n",
      "(6/18) hematologyWBC not in df\n",
      "(7/18) hematologyHemoglobin not in df\n",
      "(8/18) hematologyPolymorphNeutrophilsDifferentialCount not in df\n",
      "(9/18) hematologyMonocytes not in df\n",
      "(10/18) hematologyLymphocytes not in df\n",
      "(11/18) hematologyPlateletCount not in df\n",
      "(12/18) hematologyPT_s not in df\n",
      "(13/18) hematologyPTT_s not in df\n",
      "(15/18) hematologyHematocritMinDate not in df\n",
      "(17/18) hematologyPlateletCountMinDate not in df\n"
     ]
    }
   ],
   "source": [
    "df_main_hematology = COMBINE_harmonizer.valid_columns(df_main, all_hematology_columns)\n",
    "df_main_hematology = COMBINE_harmonizer.postprocess(df_main_hematology)\n",
    "\n",
    "out_filename = os.sep.join([out_dir, '02-05_s-hematology.csv'])\n",
    "df_main_hematology.to_csv(out_filename, index=False)"
   ]
  },
  {
   "cell_type": "markdown",
   "id": "c994d5d2",
   "metadata": {},
   "source": [
    "### 02-05-4. check empty cells"
   ]
  },
  {
   "cell_type": "code",
   "execution_count": 93,
   "id": "70b6a875",
   "metadata": {
    "execution": {
     "iopub.execute_input": "2025-01-21T19:14:12.022601Z",
     "iopub.status.busy": "2025-01-21T19:14:12.022472Z",
     "iopub.status.idle": "2025-01-21T19:14:12.025656Z",
     "shell.execute_reply": "2025-01-21T19:14:12.025318Z"
    }
   },
   "outputs": [
    {
     "name": "stdout",
     "output_type": "stream",
     "text": [
      "(0/5) column: center (168 / 0)\n",
      "(1/5) column: subjectID (168 / 0)\n",
      "(2/5) column: uniqueID (168 / 0)\n",
      "(3/5) column: hematologyHematocritMin (163 / 5)\n",
      "(4/5) column: hematologyPlateletCountMin (161 / 7)\n"
     ]
    }
   ],
   "source": [
    "COMBINE_harmonizer.check_empty(df_main_hematology)"
   ]
  },
  {
   "cell_type": "code",
   "execution_count": 94,
   "id": "ee5d5c22",
   "metadata": {
    "execution": {
     "iopub.execute_input": "2025-01-21T19:14:12.027199Z",
     "iopub.status.busy": "2025-01-21T19:14:12.027047Z",
     "iopub.status.idle": "2025-01-21T19:14:12.029526Z",
     "shell.execute_reply": "2025-01-21T19:14:12.029213Z"
    }
   },
   "outputs": [
    {
     "name": "stdout",
     "output_type": "stream",
     "text": [
      "(0/5) center: (168/0)\n",
      "(1/5) subjectID: (168/0)\n",
      "(2/5) uniqueID: (168/0)\n",
      "(3/5) hematologyHematocritMin: (163/5)\n",
      "(4/5) hematologyPlateletCountMin: (161/7)\n"
     ]
    }
   ],
   "source": [
    "COMBINE_harmonizer.column_info(df_main_hematology)"
   ]
  },
  {
   "cell_type": "markdown",
   "id": "c6eae39d",
   "metadata": {},
   "source": [
    "## 02-06. Blood Value"
   ]
  },
  {
   "cell_type": "code",
   "execution_count": 95,
   "id": "340de25b",
   "metadata": {
    "execution": {
     "iopub.execute_input": "2025-01-21T19:14:12.031103Z",
     "iopub.status.busy": "2025-01-21T19:14:12.030964Z",
     "iopub.status.idle": "2025-01-21T19:14:12.034330Z",
     "shell.execute_reply": "2025-01-21T19:14:12.034054Z"
    }
   },
   "outputs": [
    {
     "data": {
      "text/plain": [
       "['bloodValueBunBaseline_mgPerdL',\n",
       " 'bloodValueBunBaseline_mgPerdLDate',\n",
       " 'bloodValueCreatinineBaseline_mgPerdL',\n",
       " 'bloodValueCreatinineBaseline_mgPerdLDate',\n",
       " 'bloodValueASTSGOTBaseline_UPerL',\n",
       " 'bloodValueASTSGOTBaseline_UPerLDate',\n",
       " 'bloodValueALTSGPTBaseline_UPerL',\n",
       " 'bloodValueALTSGPTBaseline_UPerLDate',\n",
       " 'bloodValueTotalBilirubinBaseline_mgPerdL',\n",
       " 'bloodValueTotalBilirubinBaseline_mgPerdLDate',\n",
       " 'bloodValuePHMin',\n",
       " 'bloodValuePHMinDate',\n",
       " 'bloodValueHCO3Min_mEqPerL',\n",
       " 'bloodValueHCO3Min_mEqPerLDate',\n",
       " 'bloodValueSerumNaMin_mEqPerL',\n",
       " 'bloodValueSerumNaMin_mEqPerLDate',\n",
       " 'bloodValueSerumKMin_mEqPerL',\n",
       " 'bloodValueSerumKMin_mEqPerLDate',\n",
       " 'bloodValueClMin_mEqPerL',\n",
       " 'bloodValueClMin_mEqPerLDate',\n",
       " 'bloodValueGlucoseMin_mgPerdL',\n",
       " 'bloodValueGlucoseMin_mgPerdLDate',\n",
       " 'bloodValueTotalCaMin_mgPerdL',\n",
       " 'bloodValueTotalCaMin_mgPerdLDate',\n",
       " 'bloodValueIonCaMin_mgPerdL',\n",
       " 'bloodValueIonCaMin_mgPerdLDate',\n",
       " 'bloodValueASTSGOTMin_UPerL',\n",
       " 'bloodValueASTSGOTMin_UPerLDate',\n",
       " 'bloodValueALTSGPTMin_UPerL',\n",
       " 'bloodValueALTSGPTMin_UPerLDate',\n",
       " 'bloodValueTotalBilirubinMin_mgPerdL',\n",
       " 'bloodValueTotalBilirubinMin_mgPerdLDate',\n",
       " 'bloodValuePHMax',\n",
       " 'bloodValuePHMaxDate',\n",
       " 'bloodValueBaseDeficitMax_mEqPerL',\n",
       " 'bloodValueBaseDeficitMax_mEqPerLDate',\n",
       " 'bloodValueSerumNaMax_mEqPerL',\n",
       " 'bloodValueSerumNaMax_mEqPerLDate',\n",
       " 'bloodValueSerumKMax_mEqPerL',\n",
       " 'bloodValueSerumKMax_mEqPerLDate',\n",
       " 'bloodValueClMax_mEqPerL',\n",
       " 'bloodValueClMax_mEqPerLDate',\n",
       " 'bloodValueBunMax_mgPerdL',\n",
       " 'bloodValueBunMax_mgPerdLDate',\n",
       " 'bloodValueCreatinineMax_mgPerdL',\n",
       " 'bloodValueCreatinineMax_mgPerdLDate',\n",
       " 'bloodValueGlucoseMax_mgPerdL',\n",
       " 'bloodValueGlucoseMax_mgPerdLDate',\n",
       " 'bloodValueTotalCaMax_mgPerdL',\n",
       " 'bloodValueTotalCaMax_mgPerdLDate',\n",
       " 'bloodValueIonCaMax_mgPerdL',\n",
       " 'bloodValueIonCaMax_mgPerdLDate',\n",
       " 'bloodValueASTSGOTMax_UPerL',\n",
       " 'bloodValueASTSGOTMax_UPerLDate',\n",
       " 'bloodValueALTSGPTMax_UPerL',\n",
       " 'bloodValueALTSGPTMax_UPerLDate',\n",
       " 'bloodValueTotalBilirubinMax_mgPerdL',\n",
       " 'bloodValueTotalBilirubinMax_mgPerdLDate']"
      ]
     },
     "execution_count": 95,
     "metadata": {},
     "output_type": "execute_result"
    }
   ],
   "source": [
    "blood_value_columns = COMBINE_harmonizer.get_columns(df_data_dict, 'Intervention', 'Blood Value')\n",
    "all_blood_value_columns = id_columns + blood_value_columns\n",
    "blood_value_columns"
   ]
  },
  {
   "cell_type": "code",
   "execution_count": 96,
   "id": "a14ccaa3",
   "metadata": {
    "execution": {
     "iopub.execute_input": "2025-01-21T19:14:12.035725Z",
     "iopub.status.busy": "2025-01-21T19:14:12.035622Z",
     "iopub.status.idle": "2025-01-21T19:14:12.108556Z",
     "shell.execute_reply": "2025-01-21T19:14:12.108226Z"
    }
   },
   "outputs": [
    {
     "name": "stdout",
     "output_type": "stream",
     "text": [
      "(2/60) bloodValueBunBaseline_mgPerdL not in df\n",
      "(3/60) bloodValueBunBaseline_mgPerdLDate not in df\n",
      "(4/60) bloodValueCreatinineBaseline_mgPerdL not in df\n",
      "(5/60) bloodValueCreatinineBaseline_mgPerdLDate not in df\n",
      "(6/60) bloodValueASTSGOTBaseline_UPerL not in df\n",
      "(7/60) bloodValueASTSGOTBaseline_UPerLDate not in df\n",
      "(8/60) bloodValueALTSGPTBaseline_UPerL not in df\n",
      "(9/60) bloodValueALTSGPTBaseline_UPerLDate not in df\n",
      "(10/60) bloodValueTotalBilirubinBaseline_mgPerdL not in df\n",
      "(11/60) bloodValueTotalBilirubinBaseline_mgPerdLDate not in df\n",
      "(28/60) bloodValueASTSGOTMin_UPerL not in df\n",
      "(29/60) bloodValueASTSGOTMin_UPerLDate not in df\n",
      "(30/60) bloodValueALTSGPTMin_UPerL not in df\n",
      "(31/60) bloodValueALTSGPTMin_UPerLDate not in df\n",
      "(32/60) bloodValueTotalBilirubinMin_mgPerdL not in df\n",
      "(33/60) bloodValueTotalBilirubinMin_mgPerdLDate not in df\n",
      "(50/60) bloodValueTotalCaMax_mgPerdL not in df\n",
      "(51/60) bloodValueTotalCaMax_mgPerdLDate not in df\n",
      "(52/60) bloodValueIonCaMax_mgPerdL not in df\n",
      "(53/60) bloodValueIonCaMax_mgPerdLDate not in df\n",
      "(58/60) bloodValueTotalBilirubinMax_mgPerdL not in df\n",
      "(59/60) bloodValueTotalBilirubinMax_mgPerdLDate not in df\n"
     ]
    }
   ],
   "source": [
    "df_main_blood_value = COMBINE_harmonizer.valid_columns(df_main, all_blood_value_columns)\n",
    "df_main_blood_value = COMBINE_harmonizer.postprocess(df_main_blood_value)\n",
    "\n",
    "out_filename = os.sep.join([out_dir, '02-06_s-blood-value.csv'])\n",
    "df_main_blood_value.to_csv(out_filename, index=False)\n"
   ]
  },
  {
   "cell_type": "markdown",
   "id": "b42874f5",
   "metadata": {},
   "source": [
    "### 02-06-2. check empty cells"
   ]
  },
  {
   "cell_type": "code",
   "execution_count": 97,
   "id": "e16a36a9",
   "metadata": {
    "execution": {
     "iopub.execute_input": "2025-01-21T19:14:12.110358Z",
     "iopub.status.busy": "2025-01-21T19:14:12.110236Z",
     "iopub.status.idle": "2025-01-21T19:14:12.116299Z",
     "shell.execute_reply": "2025-01-21T19:14:12.116046Z"
    }
   },
   "outputs": [
    {
     "name": "stdout",
     "output_type": "stream",
     "text": [
      "(0/39) column: center (168 / 0)\n",
      "(1/39) column: subjectID (168 / 0)\n",
      "(2/39) column: uniqueID (168 / 0)\n",
      "(3/39) column: bloodValuePHMin (156 / 12)\n",
      "(4/39) column: bloodValuePHMinDate (156 / 12)\n",
      "(5/39) column: bloodValuePHMax (155 / 13)\n",
      "(6/39) column: bloodValuePHMaxDate (155 / 13)\n",
      "(7/39) column: bloodValueHCO3Min_mEqPerL (155 / 13)\n",
      "(8/39) column: bloodValueHCO3Min_mEqPerLDate (155 / 13)\n",
      "(9/39) column: bloodValueBaseDeficitMax_mEqPerL (154 / 14)\n",
      "(10/39) column: bloodValueBaseDeficitMax_mEqPerLDate (154 / 14)\n",
      "(11/39) column: bloodValueSerumNaMin_mEqPerL (168 / 0)\n",
      "(12/39) column: bloodValueSerumNaMin_mEqPerLDate (168 / 0)\n",
      "(13/39) column: bloodValueSerumNaMax_mEqPerL (168 / 0)\n",
      "(14/39) column: bloodValueSerumNaMax_mEqPerLDate (168 / 0)\n",
      "(15/39) column: bloodValueSerumKMin_mEqPerL (168 / 0)\n",
      "(16/39) column: bloodValueSerumKMin_mEqPerLDate (168 / 0)\n",
      "(17/39) column: bloodValueSerumKMax_mEqPerL (166 / 2)\n",
      "(18/39) column: bloodValueSerumKMax_mEqPerLDate (167 / 1)\n",
      "(19/39) column: bloodValueClMin_mEqPerL (166 / 2)\n",
      "(20/39) column: bloodValueClMin_mEqPerLDate (166 / 2)\n",
      "(21/39) column: bloodValueClMax_mEqPerL (165 / 3)\n",
      "(22/39) column: bloodValueClMax_mEqPerLDate (165 / 3)\n",
      "(23/39) column: bloodValueBunMax_mgPerdL (164 / 4)\n",
      "(24/39) column: bloodValueBunMax_mgPerdLDate (164 / 4)\n",
      "(25/39) column: bloodValueCreatinineMax_mgPerdL (164 / 4)\n",
      "(26/39) column: bloodValueCreatinineMax_mgPerdLDate (164 / 4)\n",
      "(27/39) column: bloodValueGlucoseMin_mgPerdL (167 / 1)\n",
      "(28/39) column: bloodValueGlucoseMin_mgPerdLDate (167 / 1)\n",
      "(29/39) column: bloodValueGlucoseMax_mgPerdL (167 / 1)\n",
      "(30/39) column: bloodValueGlucoseMax_mgPerdLDate (167 / 1)\n",
      "(31/39) column: bloodValueTotalCaMin_mgPerdL (154 / 14)\n",
      "(32/39) column: bloodValueTotalCaMin_mgPerdLDate (154 / 14)\n",
      "(33/39) column: bloodValueIonCaMin_mgPerdL (104 / 64)\n",
      "(34/39) column: bloodValueIonCaMin_mgPerdLDate (104 / 64)\n",
      "(35/39) column: bloodValueASTSGOTMax_UPerL (134 / 34)\n",
      "(36/39) column: bloodValueASTSGOTMax_UPerLDate (137 / 31)\n",
      "(37/39) column: bloodValueALTSGPTMax_UPerL (142 / 26)\n",
      "(38/39) column: bloodValueALTSGPTMax_UPerLDate (143 / 25)\n"
     ]
    }
   ],
   "source": [
    "COMBINE_harmonizer.check_empty(df_main_blood_value)"
   ]
  },
  {
   "cell_type": "code",
   "execution_count": 98,
   "id": "6aef2a11",
   "metadata": {
    "execution": {
     "iopub.execute_input": "2025-01-21T19:14:12.117731Z",
     "iopub.status.busy": "2025-01-21T19:14:12.117614Z",
     "iopub.status.idle": "2025-01-21T19:14:12.121759Z",
     "shell.execute_reply": "2025-01-21T19:14:12.121469Z"
    }
   },
   "outputs": [
    {
     "name": "stdout",
     "output_type": "stream",
     "text": [
      "(0/39) center: (168/0)\n",
      "(1/39) subjectID: (168/0)\n",
      "(2/39) uniqueID: (168/0)\n",
      "(3/39) bloodValuePHMin: (156/12)\n",
      "(4/39) bloodValuePHMinDate: (156/12)\n",
      "(5/39) bloodValuePHMax: (155/13)\n",
      "(6/39) bloodValuePHMaxDate: (155/13)\n",
      "(7/39) bloodValueHCO3Min_mEqPerL: (155/13)\n",
      "(8/39) bloodValueHCO3Min_mEqPerLDate: (155/13)\n",
      "(9/39) bloodValueBaseDeficitMax_mEqPerL: (154/14)\n",
      "(10/39) bloodValueBaseDeficitMax_mEqPerLDate: (154/14)\n",
      "(11/39) bloodValueSerumNaMin_mEqPerL: (168/0)\n",
      "(12/39) bloodValueSerumNaMin_mEqPerLDate: (168/0)\n",
      "(13/39) bloodValueSerumNaMax_mEqPerL: (168/0)\n",
      "(14/39) bloodValueSerumNaMax_mEqPerLDate: (168/0)\n",
      "(15/39) bloodValueSerumKMin_mEqPerL: (168/0)\n",
      "(16/39) bloodValueSerumKMin_mEqPerLDate: (168/0)\n",
      "(17/39) bloodValueSerumKMax_mEqPerL: (166/2)\n",
      "(18/39) bloodValueSerumKMax_mEqPerLDate: (167/1)\n",
      "(19/39) bloodValueClMin_mEqPerL: (166/2)\n",
      "(20/39) bloodValueClMin_mEqPerLDate: (166/2)\n",
      "(21/39) bloodValueClMax_mEqPerL: (165/3)\n",
      "(22/39) bloodValueClMax_mEqPerLDate: (165/3)\n",
      "(23/39) bloodValueBunMax_mgPerdL: (164/4)\n",
      "(24/39) bloodValueBunMax_mgPerdLDate: (164/4)\n",
      "(25/39) bloodValueCreatinineMax_mgPerdL: (164/4)\n",
      "(26/39) bloodValueCreatinineMax_mgPerdLDate: (164/4)\n",
      "(27/39) bloodValueGlucoseMin_mgPerdL: (167/1)\n",
      "(28/39) bloodValueGlucoseMin_mgPerdLDate: (167/1)\n",
      "(29/39) bloodValueGlucoseMax_mgPerdL: (167/1)\n",
      "(30/39) bloodValueGlucoseMax_mgPerdLDate: (167/1)\n",
      "(31/39) bloodValueTotalCaMin_mgPerdL: (154/14)\n",
      "(32/39) bloodValueTotalCaMin_mgPerdLDate: (154/14)\n",
      "(33/39) bloodValueIonCaMin_mgPerdL: (104/64)\n",
      "(34/39) bloodValueIonCaMin_mgPerdLDate: (104/64)\n",
      "(35/39) bloodValueASTSGOTMax_UPerL: (134/34)\n",
      "(36/39) bloodValueASTSGOTMax_UPerLDate: (137/31)\n",
      "(37/39) bloodValueALTSGPTMax_UPerL: (142/26)\n",
      "(38/39) bloodValueALTSGPTMax_UPerLDate: (143/25)\n"
     ]
    }
   ],
   "source": [
    "COMBINE_harmonizer.column_info(df_main_blood_value)"
   ]
  },
  {
   "cell_type": "markdown",
   "id": "363a1815-a2f9-491c-aca1-a2ba778153c6",
   "metadata": {},
   "source": [
    "## 02-07. infection"
   ]
  },
  {
   "cell_type": "code",
   "execution_count": 99,
   "id": "bc4e25ec",
   "metadata": {
    "execution": {
     "iopub.execute_input": "2025-01-21T19:14:12.123258Z",
     "iopub.status.busy": "2025-01-21T19:14:12.123160Z",
     "iopub.status.idle": "2025-01-21T19:14:12.126045Z",
     "shell.execute_reply": "2025-01-21T19:14:12.125778Z"
    }
   },
   "outputs": [
    {
     "data": {
      "text/plain": [
       "['positiveCultureNumber',\n",
       " 'positiveCulture',\n",
       " 'positiveCultureSrc',\n",
       " 'positiveCultureDate',\n",
       " 'positiveCultureTime',\n",
       " 'positiveCultureOrganismCode1',\n",
       " 'positiveCultureOrganismCode2',\n",
       " 'positiveCultureOrganismCode3',\n",
       " 'antibiotics',\n",
       " 'antibioticsCode1',\n",
       " 'antibioticsCode2',\n",
       " 'antibioticsCode3',\n",
       " 'rewarmingAntibiotics',\n",
       " 'rewarmingAntibioticsCode1',\n",
       " 'rewarmingAntibioticsCode2',\n",
       " 'rewarmingAntibioticsCode3']"
      ]
     },
     "execution_count": 99,
     "metadata": {},
     "output_type": "execute_result"
    }
   ],
   "source": [
    "infection_columns = COMBINE_harmonizer.get_columns(df_data_dict, 'Intervention', 'Infection')\n",
    "all_infection_columns = id_columns + infection_columns\n",
    "infection_columns"
   ]
  },
  {
   "cell_type": "code",
   "execution_count": 100,
   "id": "76518950",
   "metadata": {
    "execution": {
     "iopub.execute_input": "2025-01-21T19:14:12.127429Z",
     "iopub.status.busy": "2025-01-21T19:14:12.127333Z",
     "iopub.status.idle": "2025-01-21T19:14:12.195617Z",
     "shell.execute_reply": "2025-01-21T19:14:12.195197Z"
    }
   },
   "outputs": [
    {
     "name": "stdout",
     "output_type": "stream",
     "text": [
      "(2/18) positiveCultureNumber not in df\n",
      "(14/18) rewarmingAntibiotics not in df\n",
      "(15/18) rewarmingAntibioticsCode1 not in df\n",
      "(16/18) rewarmingAntibioticsCode2 not in df\n",
      "(17/18) rewarmingAntibioticsCode3 not in df\n"
     ]
    }
   ],
   "source": [
    "df_infection = df_dict['lh06.csv'].copy()\n",
    "df_infection = COMBINE_harmonizer.valid_columns(df_infection, all_infection_columns)\n",
    "df_infection = COMBINE_harmonizer.postprocess(df_infection)\n",
    "\n",
    "### XXX add positive culture number as 1\n",
    "df_infection['positiveCultureNumber'] = 1\n",
    "\n",
    "out_filename = os.sep.join([out_dir, '02-07-infection.csv'])\n",
    "df_infection.to_csv(out_filename, index=False)"
   ]
  },
  {
   "cell_type": "markdown",
   "id": "a7fe16a1",
   "metadata": {},
   "source": [
    "### 02-07-2. check empty cells"
   ]
  },
  {
   "cell_type": "code",
   "execution_count": 101,
   "id": "bd13a590",
   "metadata": {
    "execution": {
     "iopub.execute_input": "2025-01-21T19:14:12.197688Z",
     "iopub.status.busy": "2025-01-21T19:14:12.197516Z",
     "iopub.status.idle": "2025-01-21T19:14:12.201250Z",
     "shell.execute_reply": "2025-01-21T19:14:12.200948Z"
    }
   },
   "outputs": [
    {
     "name": "stdout",
     "output_type": "stream",
     "text": [
      "(0/15) column: center (168 / 0)\n",
      "(1/15) column: subjectID (168 / 0)\n",
      "(2/15) column: uniqueID (168 / 0)\n",
      "(3/15) column: positiveCulture (163 / 5)\n",
      "(4/15) column: antibiotics (157 / 11)\n",
      "(5/15) column: positiveCultureSrc (2 / 166)\n",
      "(6/15) column: positiveCultureDate (2 / 166)\n",
      "(7/15) column: positiveCultureTime (2 / 166)\n",
      "(8/15) column: positiveCultureOrganismCode1 (2 / 166)\n",
      "(9/15) column: positiveCultureOrganismCode2 (0 / 168)\n",
      "(10/15) column: positiveCultureOrganismCode3 (0 / 168)\n",
      "(11/15) column: antibioticsCode1 (57 / 111)\n",
      "(12/15) column: antibioticsCode2 (30 / 138)\n",
      "(13/15) column: antibioticsCode3 (6 / 162)\n",
      "(14/15) column: positiveCultureNumber (168 / 0)\n"
     ]
    }
   ],
   "source": [
    "COMBINE_harmonizer.check_empty(df_infection)"
   ]
  },
  {
   "cell_type": "code",
   "execution_count": 102,
   "id": "9183db6b",
   "metadata": {
    "execution": {
     "iopub.execute_input": "2025-01-21T19:14:12.202722Z",
     "iopub.status.busy": "2025-01-21T19:14:12.202619Z",
     "iopub.status.idle": "2025-01-21T19:14:12.205491Z",
     "shell.execute_reply": "2025-01-21T19:14:12.205187Z"
    }
   },
   "outputs": [
    {
     "name": "stdout",
     "output_type": "stream",
     "text": [
      "(0/15) center: (168/0)\n",
      "(1/15) subjectID: (168/0)\n",
      "(2/15) uniqueID: (168/0)\n",
      "(3/15) positiveCulture: (163/5)\n",
      "(4/15) antibiotics: (157/11)\n",
      "(5/15) positiveCultureSrc: (2/166)\n",
      "(6/15) positiveCultureDate: (2/166)\n",
      "(7/15) positiveCultureTime: (2/166)\n",
      "(8/15) positiveCultureOrganismCode1: (2/166)\n",
      "(9/15) positiveCultureOrganismCode2: (0/168)\n",
      "(10/15) positiveCultureOrganismCode3: (0/168)\n",
      "(11/15) antibioticsCode1: (57/111)\n",
      "(12/15) antibioticsCode2: (30/138)\n",
      "(13/15) antibioticsCode3: (6/162)\n",
      "(14/15) positiveCultureNumber: (168/0)\n"
     ]
    }
   ],
   "source": [
    "COMBINE_harmonizer.column_info(df_infection)"
   ]
  },
  {
   "cell_type": "markdown",
   "id": "519bddc2-506e-4d02-ad7c-b7251d90591e",
   "metadata": {},
   "source": [
    "## 02-08. other-med"
   ]
  },
  {
   "cell_type": "code",
   "execution_count": 103,
   "id": "2af1adc0-50d8-41d6-bd7d-719550948aad",
   "metadata": {
    "execution": {
     "iopub.execute_input": "2025-01-21T19:14:12.206940Z",
     "iopub.status.busy": "2025-01-21T19:14:12.206842Z",
     "iopub.status.idle": "2025-01-21T19:14:12.209877Z",
     "shell.execute_reply": "2025-01-21T19:14:12.209605Z"
    }
   },
   "outputs": [
    {
     "data": {
      "text/plain": [
       "['otherMedTimeSlot',\n",
       " 'otherMedTargetDate',\n",
       " 'otherMedTargetTime',\n",
       " 'anticonvulsants',\n",
       " 'anticonvulsants1',\n",
       " 'anticonvulsants2',\n",
       " 'anticonvulsants3',\n",
       " 'analgesics',\n",
       " 'analgesicsSedatives1',\n",
       " 'analgesicsSedatives2',\n",
       " 'analgesicsSedatives3',\n",
       " 'antipyretics',\n",
       " 'antipyretics1',\n",
       " 'antipyretics2',\n",
       " 'antipyretics3',\n",
       " 'paralytics',\n",
       " 'paralytics1',\n",
       " 'paralytics2',\n",
       " 'paralytics3',\n",
       " 'otherMedFluidIntake_ccPerKg',\n",
       " 'otherMedUrineOutput_ccPerKg']"
      ]
     },
     "execution_count": 103,
     "metadata": {},
     "output_type": "execute_result"
    }
   ],
   "source": [
    "other_med_columns = COMBINE_harmonizer.get_columns(df_data_dict, 'Intervention', 'Other Medication')\n",
    "all_other_med_columns = id_columns + other_med_columns\n",
    "other_med_columns"
   ]
  },
  {
   "cell_type": "code",
   "execution_count": 104,
   "id": "e7dad2f0",
   "metadata": {
    "execution": {
     "iopub.execute_input": "2025-01-21T19:14:12.211217Z",
     "iopub.status.busy": "2025-01-21T19:14:12.211124Z",
     "iopub.status.idle": "2025-01-21T19:14:12.301831Z",
     "shell.execute_reply": "2025-01-21T19:14:12.301451Z"
    }
   },
   "outputs": [
    {
     "name": "stdout",
     "output_type": "stream",
     "text": [
      "(1/26) REC_CMP not in columns\n",
      "(24/26) CMP_DATE not in columns\n",
      "(25/26) CRT_DATE not in columns\n"
     ]
    }
   ],
   "source": [
    "df_other_med = df_dict['lh06om.csv'].copy()\n",
    "\n",
    "otherMedTimeSlot_int = df_other_med['otherMedTimeSlot'].apply(COMBINE_harmonizer.to_int)\n",
    "is_pre = otherMedTimeSlot_int == 0\n",
    "is_clinical_course = is_pre == False\n",
    "# after_baseline\n",
    "df_other_med = df_other_med[is_clinical_course]\n",
    "\n",
    "df_other_med = COMBINE_harmonizer.valid_columns(df_other_med, all_other_med_columns, debug_df=True, debug_columns=True)\n",
    "df_other_med = COMBINE_harmonizer.postprocess(df_other_med)\n",
    "\n",
    "out_filename = os.sep.join([out_dir, '02-08-other-med.csv'])\n",
    "df_other_med.to_csv(out_filename, index=False)"
   ]
  },
  {
   "cell_type": "markdown",
   "id": "fe878ba6-3767-45e3-952f-009cabbe0d25",
   "metadata": {},
   "source": [
    "### 02-08-1. check other-med"
   ]
  },
  {
   "cell_type": "code",
   "execution_count": 105,
   "id": "f46ef718-03ca-48ce-9f89-31719d0d5b83",
   "metadata": {
    "execution": {
     "iopub.execute_input": "2025-01-21T19:14:12.303777Z",
     "iopub.status.busy": "2025-01-21T19:14:12.303608Z",
     "iopub.status.idle": "2025-01-21T19:14:12.310259Z",
     "shell.execute_reply": "2025-01-21T19:14:12.309964Z"
    }
   },
   "outputs": [
    {
     "data": {
      "text/html": [
       "<div>\n",
       "<style scoped>\n",
       "    .dataframe tbody tr th:only-of-type {\n",
       "        vertical-align: middle;\n",
       "    }\n",
       "\n",
       "    .dataframe tbody tr th {\n",
       "        vertical-align: top;\n",
       "    }\n",
       "\n",
       "    .dataframe thead th {\n",
       "        text-align: right;\n",
       "    }\n",
       "</style>\n",
       "<table border=\"1\" class=\"dataframe\">\n",
       "  <thead>\n",
       "    <tr style=\"text-align: right;\">\n",
       "      <th></th>\n",
       "      <th></th>\n",
       "      <th>_count</th>\n",
       "    </tr>\n",
       "    <tr>\n",
       "      <th>uniqueID</th>\n",
       "      <th>otherMedTimeSlot</th>\n",
       "      <th></th>\n",
       "    </tr>\n",
       "  </thead>\n",
       "  <tbody>\n",
       "  </tbody>\n",
       "</table>\n",
       "</div>"
      ],
      "text/plain": [
       "Empty DataFrame\n",
       "Columns: [_count]\n",
       "Index: []"
      ]
     },
     "execution_count": 105,
     "metadata": {},
     "output_type": "execute_result"
    }
   ],
   "source": [
    "df_other_med_groupby = df_other_med.groupby(['uniqueID', 'otherMedTimeSlot']).agg(_count=('uniqueID', 'count'))\n",
    "\n",
    "is_invalid = df_other_med_groupby['_count'] > 1\n",
    "df_other_med_groupby[is_invalid]"
   ]
  },
  {
   "cell_type": "markdown",
   "id": "02491412-5c85-4732-b180-51588dd433e4",
   "metadata": {},
   "source": [
    "### 02-08-2. check empty cells"
   ]
  },
  {
   "cell_type": "code",
   "execution_count": 106,
   "id": "a06a0fe2-1952-45ba-86fc-b3658476f88e",
   "metadata": {
    "execution": {
     "iopub.execute_input": "2025-01-21T19:14:12.311941Z",
     "iopub.status.busy": "2025-01-21T19:14:12.311797Z",
     "iopub.status.idle": "2025-01-21T19:14:12.317541Z",
     "shell.execute_reply": "2025-01-21T19:14:12.317188Z"
    }
   },
   "outputs": [
    {
     "name": "stdout",
     "output_type": "stream",
     "text": [
      "(0/24) column: center (778 / 0)\n",
      "(1/24) column: subjectID (778 / 0)\n",
      "(2/24) column: uniqueID (778 / 0)\n",
      "(3/24) column: otherMedTimeSlot (778 / 0)\n",
      "(4/24) column: otherMedTargetDate (25 / 753)\n",
      "(5/24) column: otherMedTargetTime (25 / 753)\n",
      "(6/24) column: anticonvulsants (5 / 773)\n",
      "(7/24) column: anticonvulsants1 (421 / 357)\n",
      "(8/24) column: anticonvulsants2 (68 / 710)\n",
      "(9/24) column: anticonvulsants3 (10 / 768)\n",
      "(10/24) column: analgesics (6 / 772)\n",
      "(11/24) column: analgesicsSedatives1 (231 / 547)\n",
      "(12/24) column: analgesicsSedatives2 (76 / 702)\n",
      "(13/24) column: analgesicsSedatives3 (11 / 767)\n",
      "(14/24) column: antipyretics (0 / 778)\n",
      "(15/24) column: antipyretics1 (7 / 771)\n",
      "(16/24) column: antipyretics2 (0 / 778)\n",
      "(17/24) column: antipyretics3 (0 / 778)\n",
      "(18/24) column: paralytics (0 / 778)\n",
      "(19/24) column: paralytics1 (30 / 748)\n",
      "(20/24) column: paralytics2 (0 / 778)\n",
      "(21/24) column: paralytics3 (0 / 778)\n",
      "(22/24) column: otherMedFluidIntake_ccPerKg (630 / 148)\n",
      "(23/24) column: otherMedUrineOutput_ccPerKg (630 / 148)\n"
     ]
    }
   ],
   "source": [
    "COMBINE_harmonizer.check_empty(df_other_med)"
   ]
  },
  {
   "cell_type": "code",
   "execution_count": 107,
   "id": "30bc939c-70ca-44c9-a596-f5dbb43ae2b3",
   "metadata": {
    "execution": {
     "iopub.execute_input": "2025-01-21T19:14:12.319151Z",
     "iopub.status.busy": "2025-01-21T19:14:12.319013Z",
     "iopub.status.idle": "2025-01-21T19:14:12.322819Z",
     "shell.execute_reply": "2025-01-21T19:14:12.322506Z"
    }
   },
   "outputs": [
    {
     "name": "stdout",
     "output_type": "stream",
     "text": [
      "(0/24) center: (778/0)\n",
      "(1/24) subjectID: (778/0)\n",
      "(2/24) uniqueID: (778/0)\n",
      "(3/24) otherMedTimeSlot: (778/0)\n",
      "(4/24) otherMedTargetDate: (25/753)\n",
      "(5/24) otherMedTargetTime: (25/753)\n",
      "(6/24) anticonvulsants: (5/773)\n",
      "(7/24) anticonvulsants1: (421/357)\n",
      "(8/24) anticonvulsants2: (68/710)\n",
      "(9/24) anticonvulsants3: (10/768)\n",
      "(10/24) analgesics: (6/772)\n",
      "(11/24) analgesicsSedatives1: (231/547)\n",
      "(12/24) analgesicsSedatives2: (76/702)\n",
      "(13/24) analgesicsSedatives3: (11/767)\n",
      "(14/24) antipyretics: (0/778)\n",
      "(15/24) antipyretics1: (7/771)\n",
      "(16/24) antipyretics2: (0/778)\n",
      "(17/24) antipyretics3: (0/778)\n",
      "(18/24) paralytics: (0/778)\n",
      "(19/24) paralytics1: (30/748)\n",
      "(20/24) paralytics2: (0/778)\n",
      "(21/24) paralytics3: (0/778)\n",
      "(22/24) otherMedFluidIntake_ccPerKg: (630/148)\n",
      "(23/24) otherMedUrineOutput_ccPerKg: (630/148)\n"
     ]
    }
   ],
   "source": [
    "COMBINE_harmonizer.column_info(df_other_med)"
   ]
  },
  {
   "cell_type": "markdown",
   "id": "57cbe935",
   "metadata": {},
   "source": [
    "## 02-09. Imaging"
   ]
  },
  {
   "cell_type": "code",
   "execution_count": 108,
   "id": "24898b12",
   "metadata": {
    "execution": {
     "iopub.execute_input": "2025-01-21T19:14:12.324319Z",
     "iopub.status.busy": "2025-01-21T19:14:12.324216Z",
     "iopub.status.idle": "2025-01-21T19:14:12.327315Z",
     "shell.execute_reply": "2025-01-21T19:14:12.327068Z"
    }
   },
   "outputs": [
    {
     "data": {
      "text/plain": [
       "['imagingTimeSlot',\n",
       " 'headSonogram',\n",
       " 'headSonogramDate',\n",
       " 'headSonogramTime',\n",
       " 'headSonogramResult1',\n",
       " 'headSonogramResult2',\n",
       " 'headSonogramResult3',\n",
       " 'headSonogramResult4',\n",
       " 'headSonogramResult5',\n",
       " 'headSonogramResult6',\n",
       " 'headSonogramResult7',\n",
       " 'headSonogramResult8',\n",
       " 'headSonogramResultText',\n",
       " 'headCT',\n",
       " 'headCTDate',\n",
       " 'headCTTime',\n",
       " 'headCTResult1',\n",
       " 'headCTResult2',\n",
       " 'headCTResult3',\n",
       " 'headCTResult4',\n",
       " 'headCTResult5',\n",
       " 'headCTResult6',\n",
       " 'headCTResult7',\n",
       " 'headCTResult8',\n",
       " 'headCTResultText',\n",
       " 'brainMRI',\n",
       " 'brainMRIDate',\n",
       " 'brainMRITime',\n",
       " 'brainMRIResult1',\n",
       " 'brainMRIResult2',\n",
       " 'brainMRIResult3',\n",
       " 'brainMRIResult4',\n",
       " 'brainMRIResult5',\n",
       " 'brainMRIResult6',\n",
       " 'brainMRIResult7',\n",
       " 'brainMRIResult8',\n",
       " 'brainMRIResultText']"
      ]
     },
     "execution_count": 108,
     "metadata": {},
     "output_type": "execute_result"
    }
   ],
   "source": [
    "imaging_columns = COMBINE_harmonizer.get_columns(df_data_dict, 'Intervention', 'Imaging')\n",
    "all_imaging_columns = id_columns + imaging_columns\n",
    "imaging_columns"
   ]
  },
  {
   "cell_type": "code",
   "execution_count": 109,
   "id": "2cbe06d7",
   "metadata": {
    "execution": {
     "iopub.execute_input": "2025-01-21T19:14:12.328571Z",
     "iopub.status.busy": "2025-01-21T19:14:12.328487Z",
     "iopub.status.idle": "2025-01-21T19:14:12.400428Z",
     "shell.execute_reply": "2025-01-21T19:14:12.400082Z"
    }
   },
   "outputs": [
    {
     "name": "stdout",
     "output_type": "stream",
     "text": [
      "(7/42) REC_CMP not in columns\n",
      "(40/42) CMP_DATE not in columns\n",
      "(41/42) CRT_DATE not in columns\n"
     ]
    }
   ],
   "source": [
    "df_imaging = df_dict['lh09.csv'].copy()\n",
    "\n",
    "imagingTimeSlot_int = df_imaging['imagingTimeSlot'].apply(COMBINE_harmonizer.to_int)\n",
    "is_pre = imagingTimeSlot_int == 1\n",
    "is_post = imagingTimeSlot_int == 3\n",
    "is_clinical_course = (is_pre == False) & (is_post == False)\n",
    "df_imaging = df_imaging[is_clinical_course]\n",
    "\n",
    "df_imaging = COMBINE_harmonizer.valid_columns(df_imaging, all_imaging_columns, debug_df=True, debug_columns=True)\n",
    "df_imaging = COMBINE_harmonizer.postprocess(df_imaging)\n",
    "\n",
    "out_filename = os.sep.join([out_dir, '02-09-imaging.csv'])\n",
    "df_imaging.to_csv(out_filename, index=False)"
   ]
  },
  {
   "cell_type": "markdown",
   "id": "e89789bd",
   "metadata": {},
   "source": [
    "### 02-09-1. check imaging"
   ]
  },
  {
   "cell_type": "code",
   "execution_count": 110,
   "id": "fdbaad1e",
   "metadata": {
    "execution": {
     "iopub.execute_input": "2025-01-21T19:14:12.402222Z",
     "iopub.status.busy": "2025-01-21T19:14:12.402096Z",
     "iopub.status.idle": "2025-01-21T19:14:12.408333Z",
     "shell.execute_reply": "2025-01-21T19:14:12.408018Z"
    }
   },
   "outputs": [
    {
     "data": {
      "text/html": [
       "<div>\n",
       "<style scoped>\n",
       "    .dataframe tbody tr th:only-of-type {\n",
       "        vertical-align: middle;\n",
       "    }\n",
       "\n",
       "    .dataframe tbody tr th {\n",
       "        vertical-align: top;\n",
       "    }\n",
       "\n",
       "    .dataframe thead th {\n",
       "        text-align: right;\n",
       "    }\n",
       "</style>\n",
       "<table border=\"1\" class=\"dataframe\">\n",
       "  <thead>\n",
       "    <tr style=\"text-align: right;\">\n",
       "      <th></th>\n",
       "      <th></th>\n",
       "      <th>_count</th>\n",
       "    </tr>\n",
       "    <tr>\n",
       "      <th>uniqueID</th>\n",
       "      <th>imagingTimeSlot</th>\n",
       "      <th></th>\n",
       "    </tr>\n",
       "  </thead>\n",
       "  <tbody>\n",
       "  </tbody>\n",
       "</table>\n",
       "</div>"
      ],
      "text/plain": [
       "Empty DataFrame\n",
       "Columns: [_count]\n",
       "Index: []"
      ]
     },
     "execution_count": 110,
     "metadata": {},
     "output_type": "execute_result"
    }
   ],
   "source": [
    "df_imaging_groupby = df_imaging.groupby(['uniqueID', 'imagingTimeSlot']).agg(_count=('uniqueID', 'count'))\n",
    "\n",
    "is_invalid = df_imaging_groupby['_count'] > 1\n",
    "df_imaging_groupby[is_invalid]"
   ]
  },
  {
   "cell_type": "markdown",
   "id": "fffee34e",
   "metadata": {},
   "source": [
    "### 02-09-2. check empty cells"
   ]
  },
  {
   "cell_type": "code",
   "execution_count": 111,
   "id": "61478072",
   "metadata": {
    "execution": {
     "iopub.execute_input": "2025-01-21T19:14:12.409908Z",
     "iopub.status.busy": "2025-01-21T19:14:12.409790Z",
     "iopub.status.idle": "2025-01-21T19:14:12.414923Z",
     "shell.execute_reply": "2025-01-21T19:14:12.414644Z"
    }
   },
   "outputs": [
    {
     "name": "stdout",
     "output_type": "stream",
     "text": [
      "(0/40) column: center (168 / 0)\n",
      "(1/40) column: subjectID (168 / 0)\n",
      "(2/40) column: uniqueID (168 / 0)\n",
      "(3/40) column: headSonogram (168 / 0)\n",
      "(4/40) column: headSonogramResultText (9 / 159)\n",
      "(5/40) column: headCT (168 / 0)\n",
      "(6/40) column: headCTResultText (1 / 167)\n",
      "(7/40) column: brainMRI (168 / 0)\n",
      "(8/40) column: brainMRIResultText (10 / 158)\n",
      "(9/40) column: imagingTimeSlot (168 / 0)\n",
      "(10/40) column: headSonogramDate (79 / 89)\n",
      "(11/40) column: headSonogramTime (79 / 89)\n",
      "(12/40) column: headSonogramResult1 (79 / 89)\n",
      "(13/40) column: headSonogramResult2 (11 / 157)\n",
      "(14/40) column: headSonogramResult3 (3 / 165)\n",
      "(15/40) column: headSonogramResult4 (1 / 167)\n",
      "(16/40) column: headSonogramResult5 (0 / 168)\n",
      "(17/40) column: headSonogramResult6 (0 / 168)\n",
      "(18/40) column: headSonogramResult7 (0 / 168)\n",
      "(19/40) column: headSonogramResult8 (0 / 168)\n",
      "(20/40) column: headCTDate (5 / 163)\n",
      "(21/40) column: headCTTime (5 / 163)\n",
      "(22/40) column: headCTResult1 (5 / 163)\n",
      "(23/40) column: headCTResult2 (3 / 165)\n",
      "(24/40) column: headCTResult3 (1 / 167)\n",
      "(25/40) column: headCTResult4 (0 / 168)\n",
      "(26/40) column: headCTResult5 (0 / 168)\n",
      "(27/40) column: headCTResult6 (0 / 168)\n",
      "(28/40) column: headCTResult7 (0 / 168)\n",
      "(29/40) column: headCTResult8 (0 / 168)\n",
      "(30/40) column: brainMRIDate (21 / 147)\n",
      "(31/40) column: brainMRITime (20 / 148)\n",
      "(32/40) column: brainMRIResult1 (21 / 147)\n",
      "(33/40) column: brainMRIResult2 (12 / 156)\n",
      "(34/40) column: brainMRIResult3 (9 / 159)\n",
      "(35/40) column: brainMRIResult4 (7 / 161)\n",
      "(36/40) column: brainMRIResult5 (5 / 163)\n",
      "(37/40) column: brainMRIResult6 (5 / 163)\n",
      "(38/40) column: brainMRIResult7 (2 / 166)\n",
      "(39/40) column: brainMRIResult8 (1 / 167)\n"
     ]
    }
   ],
   "source": [
    "COMBINE_harmonizer.check_empty(df_imaging)"
   ]
  },
  {
   "cell_type": "code",
   "execution_count": 112,
   "id": "450175a2",
   "metadata": {
    "execution": {
     "iopub.execute_input": "2025-01-21T19:14:12.416264Z",
     "iopub.status.busy": "2025-01-21T19:14:12.416164Z",
     "iopub.status.idle": "2025-01-21T19:14:12.419740Z",
     "shell.execute_reply": "2025-01-21T19:14:12.419507Z"
    }
   },
   "outputs": [
    {
     "name": "stdout",
     "output_type": "stream",
     "text": [
      "(0/40) center: (168/0)\n",
      "(1/40) subjectID: (168/0)\n",
      "(2/40) uniqueID: (168/0)\n",
      "(3/40) headSonogram: (168/0)\n",
      "(4/40) headSonogramResultText: (9/159)\n",
      "(5/40) headCT: (168/0)\n",
      "(6/40) headCTResultText: (1/167)\n",
      "(7/40) brainMRI: (168/0)\n",
      "(8/40) brainMRIResultText: (10/158)\n",
      "(9/40) imagingTimeSlot: (168/0)\n",
      "(10/40) headSonogramDate: (79/89)\n",
      "(11/40) headSonogramTime: (79/89)\n",
      "(12/40) headSonogramResult1: (79/89)\n",
      "(13/40) headSonogramResult2: (11/157)\n",
      "(14/40) headSonogramResult3: (3/165)\n",
      "(15/40) headSonogramResult4: (1/167)\n",
      "(16/40) headSonogramResult5: (0/168)\n",
      "(17/40) headSonogramResult6: (0/168)\n",
      "(18/40) headSonogramResult7: (0/168)\n",
      "(19/40) headSonogramResult8: (0/168)\n",
      "(20/40) headCTDate: (5/163)\n",
      "(21/40) headCTTime: (5/163)\n",
      "(22/40) headCTResult1: (5/163)\n",
      "(23/40) headCTResult2: (3/165)\n",
      "(24/40) headCTResult3: (1/167)\n",
      "(25/40) headCTResult4: (0/168)\n",
      "(26/40) headCTResult5: (0/168)\n",
      "(27/40) headCTResult6: (0/168)\n",
      "(28/40) headCTResult7: (0/168)\n",
      "(29/40) headCTResult8: (0/168)\n",
      "(30/40) brainMRIDate: (21/147)\n",
      "(31/40) brainMRITime: (20/148)\n",
      "(32/40) brainMRIResult1: (21/147)\n",
      "(33/40) brainMRIResult2: (12/156)\n",
      "(34/40) brainMRIResult3: (9/159)\n",
      "(35/40) brainMRIResult4: (7/161)\n",
      "(36/40) brainMRIResult5: (5/163)\n",
      "(37/40) brainMRIResult6: (5/163)\n",
      "(38/40) brainMRIResult7: (2/166)\n",
      "(39/40) brainMRIResult8: (1/167)\n"
     ]
    }
   ],
   "source": [
    "COMBINE_harmonizer.column_info(df_imaging)"
   ]
  },
  {
   "cell_type": "markdown",
   "id": "1e751b6c",
   "metadata": {},
   "source": [
    "## 03-01. Post-intervention Temperature"
   ]
  },
  {
   "cell_type": "code",
   "execution_count": 113,
   "id": "4441988e",
   "metadata": {
    "execution": {
     "iopub.execute_input": "2025-01-21T19:14:12.421104Z",
     "iopub.status.busy": "2025-01-21T19:14:12.421021Z",
     "iopub.status.idle": "2025-01-21T19:14:12.423727Z",
     "shell.execute_reply": "2025-01-21T19:14:12.423492Z"
    }
   },
   "outputs": [
    {
     "data": {
      "text/plain": [
       "['post_TemperatureTimeSlot',\n",
       " 'post_TemperatureDate',\n",
       " 'post_TemperatureTime',\n",
       " 'post_SkinTemperature_C',\n",
       " 'post_AxillaryTemperature_C',\n",
       " 'post_AlterationSkinIntegrity',\n",
       " 'post_Shiver',\n",
       " 'normothermiaAtEndIntervention',\n",
       " 'normothermiaDate',\n",
       " 'normothermiaTime',\n",
       " 'normothermiaAxillaryTemperature_C',\n",
       " 'noNormothermiaReason',\n",
       " 'coolAfterIntervention',\n",
       " 'coolAfterInterventionText']"
      ]
     },
     "execution_count": 113,
     "metadata": {},
     "output_type": "execute_result"
    }
   ],
   "source": [
    "temperature_post_columns = COMBINE_harmonizer.get_columns(df_data_dict, 'Post-intervention', 'Temperature')\n",
    "all_temperature_post_columns = id_columns + temperature_post_columns\n",
    "temperature_post_columns"
   ]
  },
  {
   "cell_type": "code",
   "execution_count": 114,
   "id": "e4c98567",
   "metadata": {
    "execution": {
     "iopub.execute_input": "2025-01-21T19:14:12.424978Z",
     "iopub.status.busy": "2025-01-21T19:14:12.424890Z",
     "iopub.status.idle": "2025-01-21T19:14:12.498295Z",
     "shell.execute_reply": "2025-01-21T19:14:12.498003Z"
    }
   },
   "outputs": [
    {
     "name": "stdout",
     "output_type": "stream",
     "text": [
      "(1/10) REC_CMP not in columns\n",
      "(8/10) CMP_DATE not in columns\n",
      "(9/10) CRT_DATE not in columns\n",
      "(7/16) post_AlterationSkinIntegrity not in df\n",
      "(8/16) post_Shiver not in df\n",
      "(9/16) normothermiaAtEndIntervention not in df\n",
      "(10/16) normothermiaDate not in df\n",
      "(11/16) normothermiaTime not in df\n",
      "(12/16) normothermiaAxillaryTemperature_C not in df\n",
      "(13/16) noNormothermiaReason not in df\n",
      "(14/16) coolAfterIntervention not in df\n",
      "(15/16) coolAfterInterventionText not in df\n"
     ]
    }
   ],
   "source": [
    "df_temperature_post = df_dict['lh06ht.csv'].copy()\n",
    "df_temperature_post = COMBINE_harmonizer.valid_columns(df_temperature_post, all_temperature_post_columns, debug_df=True, debug_columns=True)\n",
    "df_temperature_post = COMBINE_harmonizer.postprocess(df_temperature_post)\n",
    "\n",
    "out_filename = os.sep.join([out_dir, '03-01-post-temperature.csv'])\n",
    "df_temperature_post.to_csv(out_filename, index=False)"
   ]
  },
  {
   "cell_type": "markdown",
   "id": "b5954711",
   "metadata": {},
   "source": [
    "### 03-01-1. check post-temperature"
   ]
  },
  {
   "cell_type": "code",
   "execution_count": 115,
   "id": "a7569215",
   "metadata": {
    "execution": {
     "iopub.execute_input": "2025-01-21T19:14:12.499849Z",
     "iopub.status.busy": "2025-01-21T19:14:12.499744Z",
     "iopub.status.idle": "2025-01-21T19:14:12.505507Z",
     "shell.execute_reply": "2025-01-21T19:14:12.505193Z"
    }
   },
   "outputs": [
    {
     "data": {
      "text/html": [
       "<div>\n",
       "<style scoped>\n",
       "    .dataframe tbody tr th:only-of-type {\n",
       "        vertical-align: middle;\n",
       "    }\n",
       "\n",
       "    .dataframe tbody tr th {\n",
       "        vertical-align: top;\n",
       "    }\n",
       "\n",
       "    .dataframe thead th {\n",
       "        text-align: right;\n",
       "    }\n",
       "</style>\n",
       "<table border=\"1\" class=\"dataframe\">\n",
       "  <thead>\n",
       "    <tr style=\"text-align: right;\">\n",
       "      <th></th>\n",
       "      <th></th>\n",
       "      <th>_count</th>\n",
       "    </tr>\n",
       "    <tr>\n",
       "      <th>uniqueID</th>\n",
       "      <th>post_TemperatureTimeSlot</th>\n",
       "      <th></th>\n",
       "    </tr>\n",
       "  </thead>\n",
       "  <tbody>\n",
       "  </tbody>\n",
       "</table>\n",
       "</div>"
      ],
      "text/plain": [
       "Empty DataFrame\n",
       "Columns: [_count]\n",
       "Index: []"
      ]
     },
     "execution_count": 115,
     "metadata": {},
     "output_type": "execute_result"
    }
   ],
   "source": [
    "df_temperature_post_groupby = df_temperature_post.groupby(['uniqueID', 'post_TemperatureTimeSlot']).agg(_count=('uniqueID', 'count'))\n",
    "\n",
    "is_invalid = df_temperature_post_groupby['_count'] > 1\n",
    "df_temperature_post_groupby[is_invalid]"
   ]
  },
  {
   "cell_type": "markdown",
   "id": "3469adf8",
   "metadata": {},
   "source": [
    "### 03-01-2. check empty cells"
   ]
  },
  {
   "cell_type": "code",
   "execution_count": 116,
   "id": "105a4aed",
   "metadata": {
    "execution": {
     "iopub.execute_input": "2025-01-21T19:14:12.506996Z",
     "iopub.status.busy": "2025-01-21T19:14:12.506879Z",
     "iopub.status.idle": "2025-01-21T19:14:12.509686Z",
     "shell.execute_reply": "2025-01-21T19:14:12.509422Z"
    }
   },
   "outputs": [
    {
     "name": "stdout",
     "output_type": "stream",
     "text": [
      "(0/8) column: center (450 / 0)\n",
      "(1/8) column: subjectID (450 / 0)\n",
      "(2/8) column: uniqueID (450 / 0)\n",
      "(3/8) column: post_TemperatureTimeSlot (450 / 0)\n",
      "(4/8) column: post_TemperatureDate (437 / 13)\n",
      "(5/8) column: post_TemperatureTime (432 / 18)\n",
      "(6/8) column: post_SkinTemperature_C (229 / 221)\n",
      "(7/8) column: post_AxillaryTemperature_C (417 / 33)\n"
     ]
    }
   ],
   "source": [
    "COMBINE_harmonizer.check_empty(df_temperature_post)"
   ]
  },
  {
   "cell_type": "code",
   "execution_count": 117,
   "id": "5630dd61",
   "metadata": {
    "execution": {
     "iopub.execute_input": "2025-01-21T19:14:12.511120Z",
     "iopub.status.busy": "2025-01-21T19:14:12.511003Z",
     "iopub.status.idle": "2025-01-21T19:14:12.513366Z",
     "shell.execute_reply": "2025-01-21T19:14:12.513091Z"
    }
   },
   "outputs": [
    {
     "name": "stdout",
     "output_type": "stream",
     "text": [
      "(0/8) center: (450/0)\n",
      "(1/8) subjectID: (450/0)\n",
      "(2/8) uniqueID: (450/0)\n",
      "(3/8) post_TemperatureTimeSlot: (450/0)\n",
      "(4/8) post_TemperatureDate: (437/13)\n",
      "(5/8) post_TemperatureTime: (432/18)\n",
      "(6/8) post_SkinTemperature_C: (229/221)\n",
      "(7/8) post_AxillaryTemperature_C: (417/33)\n"
     ]
    }
   ],
   "source": [
    "COMBINE_harmonizer.column_info(df_temperature_post)"
   ]
  },
  {
   "cell_type": "markdown",
   "id": "5bd48802",
   "metadata": {},
   "source": [
    "## 03-02. Post-intervention Blood Value"
   ]
  },
  {
   "cell_type": "code",
   "execution_count": null,
   "id": "74c6ed09",
   "metadata": {},
   "outputs": [],
   "source": []
  },
  {
   "cell_type": "markdown",
   "id": "47fc2a14-ac50-431a-8ea6-4284dcd05b61",
   "metadata": {},
   "source": [
    "## 03-03. Post-intervention Imaging"
   ]
  },
  {
   "cell_type": "code",
   "execution_count": 118,
   "id": "83c87148-f938-4764-98e4-bd309eee2fda",
   "metadata": {
    "execution": {
     "iopub.execute_input": "2025-01-21T19:14:12.514825Z",
     "iopub.status.busy": "2025-01-21T19:14:12.514721Z",
     "iopub.status.idle": "2025-01-21T19:14:12.517444Z",
     "shell.execute_reply": "2025-01-21T19:14:12.517204Z"
    }
   },
   "outputs": [
    {
     "data": {
      "text/plain": [
       "['post_HeadSonogram',\n",
       " 'post_HeadSonogramDate',\n",
       " 'post_HeadSonogramTime',\n",
       " 'post_HeadSonogramResult1',\n",
       " 'post_HeadSonogramResult2',\n",
       " 'post_HeadSonogramResult3',\n",
       " 'post_HeadSonogramResult4',\n",
       " 'post_HeadSonogramResult5',\n",
       " 'post_HeadSonogramResult6',\n",
       " 'post_HeadSonogramResult7',\n",
       " 'post_HeadSonogramResult8',\n",
       " 'post_HeadSonogramResultText',\n",
       " 'post_HeadCT',\n",
       " 'post_HeadCTDate',\n",
       " 'post_HeadCTTime',\n",
       " 'post_HeadCTResult1',\n",
       " 'post_HeadCTResult2',\n",
       " 'post_HeadCTResult3',\n",
       " 'post_HeadCTResult4',\n",
       " 'post_HeadCTResult5',\n",
       " 'post_HeadCTResult6',\n",
       " 'post_HeadCTResult7',\n",
       " 'post_HeadCTResult8',\n",
       " 'post_HeadCTResultText',\n",
       " 'post_BrainMRI',\n",
       " 'post_BrainMRIDate',\n",
       " 'post_BrainMRITime',\n",
       " 'post_BrainMRIResult1',\n",
       " 'post_BrainMRIResult2',\n",
       " 'post_BrainMRIResult3',\n",
       " 'post_BrainMRIResult4',\n",
       " 'post_BrainMRIResult5',\n",
       " 'post_BrainMRIResult6',\n",
       " 'post_BrainMRIResult7',\n",
       " 'post_BrainMRIResult8',\n",
       " 'post_BrainMRIResultText']"
      ]
     },
     "execution_count": 118,
     "metadata": {},
     "output_type": "execute_result"
    }
   ],
   "source": [
    "imaging_post_columns = COMBINE_harmonizer.get_columns(df_data_dict, 'Post-intervention', 'Imaging')\n",
    "all_imaging_post_columns = id_columns + imaging_post_columns\n",
    "imaging_post_columns"
   ]
  },
  {
   "cell_type": "code",
   "execution_count": 119,
   "id": "fe100618",
   "metadata": {
    "execution": {
     "iopub.execute_input": "2025-01-21T19:14:12.518756Z",
     "iopub.status.busy": "2025-01-21T19:14:12.518652Z",
     "iopub.status.idle": "2025-01-21T19:14:12.587647Z",
     "shell.execute_reply": "2025-01-21T19:14:12.587318Z"
    }
   },
   "outputs": [
    {
     "name": "stdout",
     "output_type": "stream",
     "text": [
      "(7/42) REC_CMP not in columns\n",
      "(9/42) imagingTimeSlot not in columns\n",
      "(40/42) CMP_DATE not in columns\n",
      "(41/42) CRT_DATE not in columns\n"
     ]
    }
   ],
   "source": [
    "df_imaging = df_dict['lh09.csv'].copy()\n",
    "\n",
    "imagingTimeSlot_int = df_imaging['imagingTimeSlot'].apply(COMBINE_harmonizer.to_int)\n",
    "is_post = imagingTimeSlot_int == 3\n",
    "df_imaging_post = df_imaging[is_post]\n",
    "post_rename_map = {\n",
    "    'headSonogram': 'post_HeadSonogram',\n",
    "    'headSonogramDate': 'post_HeadSonogramDate',\n",
    "    'headSonogramTime': 'post_HeadSonogramTime',\n",
    "    'headSonogramResult1': 'post_HeadSonogramResult1',\n",
    "    'headSonogramResult2': 'post_HeadSonogramResult2',\n",
    "    'headSonogramResult3': 'post_HeadSonogramResult3',\n",
    "    'headSonogramResult4': 'post_HeadSonogramResult4',\n",
    "    'headSonogramResult5': 'post_HeadSonogramResult5',\n",
    "    'headSonogramResult6': 'post_HeadSonogramResult6',\n",
    "    'headSonogramResult7': 'post_HeadSonogramResult7',\n",
    "    'headSonogramResult8': 'post_HeadSonogramResult8',\n",
    "    'headSonogramResultText': 'post_HeadSonogramResultText',\n",
    "    'headCT': 'post_HeadCT',\n",
    "    'headCTDate': 'post_HeadCTDate',\n",
    "    'headCTTime': 'post_HeadCTTime',\n",
    "    'headCTResult1': 'post_HeadCTResult1',\n",
    "    'headCTResult2': 'post_HeadCTResult2',\n",
    "    'headCTResult3': 'post_HeadCTResult3',\n",
    "    'headCTResult4': 'post_HeadCTResult4',\n",
    "    'headCTResult5': 'post_HeadCTResult5',\n",
    "    'headCTResult6': 'post_HeadCTResult6',\n",
    "    'headCTResult7': 'post_HeadCTResult7',\n",
    "    'headCTResult8': 'post_HeadCTResult8',\n",
    "    'headCTResultText': 'post_HeadCTResultText',\n",
    "    'brainMRI': 'post_BrainMRI',\n",
    "    'brainMRIDate': 'post_BrainMRIDate',\n",
    "    'brainMRITime': 'post_BrainMRITime',\n",
    "    'brainMRIResult1': 'post_BrainMRIResult1',\n",
    "    'brainMRIResult2': 'post_BrainMRIResult2',\n",
    "    'brainMRIResult3': 'post_BrainMRIResult3',\n",
    "    'brainMRIResult4': 'post_BrainMRIResult4',\n",
    "    'brainMRIResult5': 'post_BrainMRIResult5',\n",
    "    'brainMRIResult6': 'post_BrainMRIResult6',\n",
    "    'brainMRIResult7': 'post_BrainMRIResult7',\n",
    "    'brainMRIResult8': 'post_BrainMRIResult8',\n",
    "    'brainMRIResultText': 'post_BrainMRIResultText'\n",
    "}\n",
    "df_imaging_post = df_imaging_post.rename(columns=post_rename_map)\n",
    "\n",
    "df_imaging_post = COMBINE_harmonizer.valid_columns(df_imaging_post, all_imaging_post_columns, debug_df=True, debug_columns=True)\n",
    "df_imaging_post = COMBINE_harmonizer.postprocess(df_imaging_post)\n",
    "\n",
    "out_filename = os.sep.join([out_dir, '03-03-post-imaging.csv'])\n",
    "df_imaging_post.to_csv(out_filename, index=False)"
   ]
  },
  {
   "cell_type": "markdown",
   "id": "fbbf3777-1e43-4785-a88e-893bcbecef32",
   "metadata": {},
   "source": [
    "### 03-03-2. check empty cells"
   ]
  },
  {
   "cell_type": "code",
   "execution_count": 120,
   "id": "37ba6925-37c6-46ba-a671-52d626061f67",
   "metadata": {
    "execution": {
     "iopub.execute_input": "2025-01-21T19:14:12.589399Z",
     "iopub.status.busy": "2025-01-21T19:14:12.589286Z",
     "iopub.status.idle": "2025-01-21T19:14:12.594687Z",
     "shell.execute_reply": "2025-01-21T19:14:12.594440Z"
    }
   },
   "outputs": [
    {
     "name": "stdout",
     "output_type": "stream",
     "text": [
      "(0/39) column: center (168 / 0)\n",
      "(1/39) column: subjectID (168 / 0)\n",
      "(2/39) column: uniqueID (168 / 0)\n",
      "(3/39) column: post_HeadSonogram (168 / 0)\n",
      "(4/39) column: post_HeadSonogramResultText (1 / 167)\n",
      "(5/39) column: post_HeadCT (168 / 0)\n",
      "(6/39) column: post_HeadCTResultText (0 / 168)\n",
      "(7/39) column: post_BrainMRI (168 / 0)\n",
      "(8/39) column: post_BrainMRIResultText (37 / 131)\n",
      "(9/39) column: post_HeadSonogramDate (14 / 154)\n",
      "(10/39) column: post_HeadSonogramTime (14 / 154)\n",
      "(11/39) column: post_HeadSonogramResult1 (14 / 154)\n",
      "(12/39) column: post_HeadSonogramResult2 (3 / 165)\n",
      "(13/39) column: post_HeadSonogramResult3 (1 / 167)\n",
      "(14/39) column: post_HeadSonogramResult4 (0 / 168)\n",
      "(15/39) column: post_HeadSonogramResult5 (0 / 168)\n",
      "(16/39) column: post_HeadSonogramResult6 (0 / 168)\n",
      "(17/39) column: post_HeadSonogramResult7 (0 / 168)\n",
      "(18/39) column: post_HeadSonogramResult8 (0 / 168)\n",
      "(19/39) column: post_HeadCTDate (2 / 166)\n",
      "(20/39) column: post_HeadCTTime (2 / 166)\n",
      "(21/39) column: post_HeadCTResult1 (2 / 166)\n",
      "(22/39) column: post_HeadCTResult2 (0 / 168)\n",
      "(23/39) column: post_HeadCTResult3 (0 / 168)\n",
      "(24/39) column: post_HeadCTResult4 (0 / 168)\n",
      "(25/39) column: post_HeadCTResult5 (0 / 168)\n",
      "(26/39) column: post_HeadCTResult6 (0 / 168)\n",
      "(27/39) column: post_HeadCTResult7 (0 / 168)\n",
      "(28/39) column: post_HeadCTResult8 (0 / 168)\n",
      "(29/39) column: post_BrainMRIDate (131 / 37)\n",
      "(30/39) column: post_BrainMRITime (129 / 39)\n",
      "(31/39) column: post_BrainMRIResult1 (130 / 38)\n",
      "(32/39) column: post_BrainMRIResult2 (63 / 105)\n",
      "(33/39) column: post_BrainMRIResult3 (32 / 136)\n",
      "(34/39) column: post_BrainMRIResult4 (14 / 154)\n",
      "(35/39) column: post_BrainMRIResult5 (6 / 162)\n",
      "(36/39) column: post_BrainMRIResult6 (2 / 166)\n",
      "(37/39) column: post_BrainMRIResult7 (0 / 168)\n",
      "(38/39) column: post_BrainMRIResult8 (0 / 168)\n"
     ]
    }
   ],
   "source": [
    "COMBINE_harmonizer.check_empty(df_imaging_post)"
   ]
  },
  {
   "cell_type": "code",
   "execution_count": 121,
   "id": "6164f4fd-80f5-4530-a40d-4d62423dbfbf",
   "metadata": {
    "execution": {
     "iopub.execute_input": "2025-01-21T19:14:12.596090Z",
     "iopub.status.busy": "2025-01-21T19:14:12.595992Z",
     "iopub.status.idle": "2025-01-21T19:14:12.599789Z",
     "shell.execute_reply": "2025-01-21T19:14:12.599462Z"
    }
   },
   "outputs": [
    {
     "name": "stdout",
     "output_type": "stream",
     "text": [
      "(0/39) center: (168/0)\n",
      "(1/39) subjectID: (168/0)\n",
      "(2/39) uniqueID: (168/0)\n",
      "(3/39) post_HeadSonogram: (168/0)\n",
      "(4/39) post_HeadSonogramResultText: (1/167)\n",
      "(5/39) post_HeadCT: (168/0)\n",
      "(6/39) post_HeadCTResultText: (0/168)\n",
      "(7/39) post_BrainMRI: (168/0)\n",
      "(8/39) post_BrainMRIResultText: (37/131)\n",
      "(9/39) post_HeadSonogramDate: (14/154)\n",
      "(10/39) post_HeadSonogramTime: (14/154)\n",
      "(11/39) post_HeadSonogramResult1: (14/154)\n",
      "(12/39) post_HeadSonogramResult2: (3/165)\n",
      "(13/39) post_HeadSonogramResult3: (1/167)\n",
      "(14/39) post_HeadSonogramResult4: (0/168)\n",
      "(15/39) post_HeadSonogramResult5: (0/168)\n",
      "(16/39) post_HeadSonogramResult6: (0/168)\n",
      "(17/39) post_HeadSonogramResult7: (0/168)\n",
      "(18/39) post_HeadSonogramResult8: (0/168)\n",
      "(19/39) post_HeadCTDate: (2/166)\n",
      "(20/39) post_HeadCTTime: (2/166)\n",
      "(21/39) post_HeadCTResult1: (2/166)\n",
      "(22/39) post_HeadCTResult2: (0/168)\n",
      "(23/39) post_HeadCTResult3: (0/168)\n",
      "(24/39) post_HeadCTResult4: (0/168)\n",
      "(25/39) post_HeadCTResult5: (0/168)\n",
      "(26/39) post_HeadCTResult6: (0/168)\n",
      "(27/39) post_HeadCTResult7: (0/168)\n",
      "(28/39) post_HeadCTResult8: (0/168)\n",
      "(29/39) post_BrainMRIDate: (131/37)\n",
      "(30/39) post_BrainMRITime: (129/39)\n",
      "(31/39) post_BrainMRIResult1: (130/38)\n",
      "(32/39) post_BrainMRIResult2: (63/105)\n",
      "(33/39) post_BrainMRIResult3: (32/136)\n",
      "(34/39) post_BrainMRIResult4: (14/154)\n",
      "(35/39) post_BrainMRIResult5: (6/162)\n",
      "(36/39) post_BrainMRIResult6: (2/166)\n",
      "(37/39) post_BrainMRIResult7: (0/168)\n",
      "(38/39) post_BrainMRIResult8: (0/168)\n"
     ]
    }
   ],
   "source": [
    "COMBINE_harmonizer.column_info(df_imaging_post)"
   ]
  },
  {
   "cell_type": "code",
   "execution_count": null,
   "id": "a9b7990f-b026-416e-b269-df3e05090ec1",
   "metadata": {},
   "outputs": [],
   "source": []
  },
  {
   "cell_type": "markdown",
   "id": "c9e26378",
   "metadata": {},
   "source": [
    "## 03-04. Post-intervention Neuro Exam"
   ]
  },
  {
   "cell_type": "code",
   "execution_count": 122,
   "id": "f83e67b2",
   "metadata": {
    "execution": {
     "iopub.execute_input": "2025-01-21T19:14:12.601288Z",
     "iopub.status.busy": "2025-01-21T19:14:12.601199Z",
     "iopub.status.idle": "2025-01-21T19:14:12.603926Z",
     "shell.execute_reply": "2025-01-21T19:14:12.603691Z"
    }
   },
   "outputs": [
    {
     "data": {
      "text/plain": [
       "['post_NeuroExamSectionID',\n",
       " 'post_NeuroExam',\n",
       " 'post_NeuroExamDate',\n",
       " 'post_NeuroExamTime',\n",
       " 'post_NeuroExamLevelConsciousness',\n",
       " 'post_NeuroExamSpontaneousActivity',\n",
       " 'post_NeuroExamPosture',\n",
       " 'post_NeuroExamTone',\n",
       " 'post_NeuroExamSuck',\n",
       " 'post_NeuroExamMoro',\n",
       " 'post_NeuroExamPupils',\n",
       " 'post_NeuroExamHeartRate',\n",
       " 'post_NeuroExamRespiration',\n",
       " 'post_NeuroExamSeizure',\n",
       " 'post_NeuroExamSedate',\n",
       " 'post_NeuroExamClonusSustained',\n",
       " 'post_NeuroExamFistedHand',\n",
       " 'post_NeuroExamAbnormalMovement',\n",
       " 'post_NeuroExamGagReflexAbsent',\n",
       " 'post_NeuroExamHypertonia',\n",
       " 'post_NeuroExamAsymTonicNeckReflex']"
      ]
     },
     "execution_count": 122,
     "metadata": {},
     "output_type": "execute_result"
    }
   ],
   "source": [
    "neuro_exam_columns = COMBINE_harmonizer.get_columns(df_data_dict, 'Post-intervention', 'Neuro Exam')\n",
    "all_neuro_exam_columns = id_columns + neuro_exam_columns\n",
    "neuro_exam_columns"
   ]
  },
  {
   "cell_type": "code",
   "execution_count": 123,
   "id": "aad8f42e",
   "metadata": {
    "execution": {
     "iopub.execute_input": "2025-01-21T19:14:12.605191Z",
     "iopub.status.busy": "2025-01-21T19:14:12.605100Z",
     "iopub.status.idle": "2025-01-21T19:14:12.675336Z",
     "shell.execute_reply": "2025-01-21T19:14:12.674949Z"
    }
   },
   "outputs": [
    {
     "name": "stdout",
     "output_type": "stream",
     "text": [
      "(8/42) LH11NA_1 not in columns\n",
      "(9/42) dischargeNeuroExamSeizure not in columns\n",
      "(10/42) dischargeNeuroExamHypertonia not in columns\n",
      "(11/42) dischargeNeuroExamClonusSustained not in columns\n",
      "(12/42) dischargeNeuroExamFistedHand not in columns\n",
      "(13/42) dischargeNeuroExamAbnormalMovement not in columns\n",
      "(14/42) dischargeNeuroExamGagReflexAbsent not in columns\n",
      "(15/42) LH11NA_2 not in columns\n",
      "(16/42) REC_CMP not in columns\n",
      "(29/42) dischargeNeuroExamDate not in columns\n",
      "(30/42) dischargeNeuroExamTime not in columns\n",
      "(31/42) dischargeNeuroExamLevelConsciousness not in columns\n",
      "(32/42) dischargeNeuroExamSpontaneousActivity not in columns\n",
      "(33/42) dischargeNeuroExamPosture not in columns\n",
      "(34/42) dischargeNeuroExamTone not in columns\n",
      "(35/42) dischargeNeuroExamSuck not in columns\n",
      "(36/42) dischargeNeuroExamMoro not in columns\n",
      "(37/42) dischargeNeuroExamPupils not in columns\n",
      "(38/42) dischargeNeuroExamHeartRate not in columns\n",
      "(39/42) dischargeNeuroExamRespiration not in columns\n",
      "(40/42) CMP_DATE not in columns\n",
      "(41/42) CRT_DATE not in columns\n",
      "(2/23) post_NeuroExamSectionID not in df\n",
      "(3/23) post_NeuroExam not in df\n",
      "(22/23) post_NeuroExamAsymTonicNeckReflex not in df\n"
     ]
    }
   ],
   "source": [
    "df_neuro_exam = df_dict['lh11.csv'].copy()\n",
    "df_neuro_exam = COMBINE_harmonizer.valid_columns(df_neuro_exam, all_neuro_exam_columns, debug_df=True, debug_columns=True)\n",
    "df_neuro_exam = COMBINE_harmonizer.postprocess(df_neuro_exam)\n",
    "\n",
    "out_filename = os.sep.join([out_dir, '03-04-post-neuro-exam.csv'])\n",
    "df_neuro_exam.to_csv(out_filename, index=False)"
   ]
  },
  {
   "cell_type": "markdown",
   "id": "79e43909",
   "metadata": {},
   "source": [
    "### 03-04-1 check neuro exam"
   ]
  },
  {
   "cell_type": "code",
   "execution_count": 124,
   "id": "0a12aa71",
   "metadata": {
    "execution": {
     "iopub.execute_input": "2025-01-21T19:14:12.677064Z",
     "iopub.status.busy": "2025-01-21T19:14:12.676942Z",
     "iopub.status.idle": "2025-01-21T19:14:12.682634Z",
     "shell.execute_reply": "2025-01-21T19:14:12.682328Z"
    }
   },
   "outputs": [
    {
     "data": {
      "text/html": [
       "<div>\n",
       "<style scoped>\n",
       "    .dataframe tbody tr th:only-of-type {\n",
       "        vertical-align: middle;\n",
       "    }\n",
       "\n",
       "    .dataframe tbody tr th {\n",
       "        vertical-align: top;\n",
       "    }\n",
       "\n",
       "    .dataframe thead th {\n",
       "        text-align: right;\n",
       "    }\n",
       "</style>\n",
       "<table border=\"1\" class=\"dataframe\">\n",
       "  <thead>\n",
       "    <tr style=\"text-align: right;\">\n",
       "      <th></th>\n",
       "      <th>_count</th>\n",
       "    </tr>\n",
       "    <tr>\n",
       "      <th>uniqueID</th>\n",
       "      <th></th>\n",
       "    </tr>\n",
       "  </thead>\n",
       "  <tbody>\n",
       "  </tbody>\n",
       "</table>\n",
       "</div>"
      ],
      "text/plain": [
       "Empty DataFrame\n",
       "Columns: [_count]\n",
       "Index: []"
      ]
     },
     "execution_count": 124,
     "metadata": {},
     "output_type": "execute_result"
    }
   ],
   "source": [
    "df_neuro_exam_groupby = df_neuro_exam.groupby(['uniqueID']).agg(_count=('uniqueID', 'count'))\n",
    "\n",
    "is_invalid = df_neuro_exam_groupby['_count'] > 1\n",
    "df_neuro_exam_groupby[is_invalid]"
   ]
  },
  {
   "cell_type": "markdown",
   "id": "3c95c875",
   "metadata": {},
   "source": [
    "### 03-04-2. check empty cells"
   ]
  },
  {
   "cell_type": "code",
   "execution_count": 125,
   "id": "02849116",
   "metadata": {
    "execution": {
     "iopub.execute_input": "2025-01-21T19:14:12.684196Z",
     "iopub.status.busy": "2025-01-21T19:14:12.684077Z",
     "iopub.status.idle": "2025-01-21T19:14:12.687814Z",
     "shell.execute_reply": "2025-01-21T19:14:12.687511Z"
    }
   },
   "outputs": [
    {
     "name": "stdout",
     "output_type": "stream",
     "text": [
      "(0/21) column: center (163 / 0)\n",
      "(1/21) column: subjectID (163 / 0)\n",
      "(2/21) column: uniqueID (163 / 0)\n",
      "(3/21) column: post_NeuroExamSeizure (163 / 0)\n",
      "(4/21) column: post_NeuroExamSedate (163 / 0)\n",
      "(5/21) column: post_NeuroExamHypertonia (163 / 0)\n",
      "(6/21) column: post_NeuroExamClonusSustained (163 / 0)\n",
      "(7/21) column: post_NeuroExamFistedHand (163 / 0)\n",
      "(8/21) column: post_NeuroExamAbnormalMovement (163 / 0)\n",
      "(9/21) column: post_NeuroExamGagReflexAbsent (163 / 0)\n",
      "(10/21) column: post_NeuroExamDate (152 / 11)\n",
      "(11/21) column: post_NeuroExamTime (150 / 13)\n",
      "(12/21) column: post_NeuroExamLevelConsciousness (152 / 11)\n",
      "(13/21) column: post_NeuroExamSpontaneousActivity (152 / 11)\n",
      "(14/21) column: post_NeuroExamPosture (152 / 11)\n",
      "(15/21) column: post_NeuroExamTone (124 / 39)\n",
      "(16/21) column: post_NeuroExamSuck (149 / 14)\n",
      "(17/21) column: post_NeuroExamMoro (147 / 16)\n",
      "(18/21) column: post_NeuroExamPupils (151 / 12)\n",
      "(19/21) column: post_NeuroExamHeartRate (152 / 11)\n",
      "(20/21) column: post_NeuroExamRespiration (152 / 11)\n"
     ]
    }
   ],
   "source": [
    "COMBINE_harmonizer.check_empty(df_neuro_exam)"
   ]
  },
  {
   "cell_type": "code",
   "execution_count": 126,
   "id": "10a2f8c1",
   "metadata": {
    "execution": {
     "iopub.execute_input": "2025-01-21T19:14:12.689152Z",
     "iopub.status.busy": "2025-01-21T19:14:12.689055Z",
     "iopub.status.idle": "2025-01-21T19:14:12.691824Z",
     "shell.execute_reply": "2025-01-21T19:14:12.691603Z"
    }
   },
   "outputs": [
    {
     "name": "stdout",
     "output_type": "stream",
     "text": [
      "(0/21) center: (163/0)\n",
      "(1/21) subjectID: (163/0)\n",
      "(2/21) uniqueID: (163/0)\n",
      "(3/21) post_NeuroExamSeizure: (163/0)\n",
      "(4/21) post_NeuroExamSedate: (163/0)\n",
      "(5/21) post_NeuroExamHypertonia: (163/0)\n",
      "(6/21) post_NeuroExamClonusSustained: (163/0)\n",
      "(7/21) post_NeuroExamFistedHand: (163/0)\n",
      "(8/21) post_NeuroExamAbnormalMovement: (163/0)\n",
      "(9/21) post_NeuroExamGagReflexAbsent: (163/0)\n",
      "(10/21) post_NeuroExamDate: (152/11)\n",
      "(11/21) post_NeuroExamTime: (150/13)\n",
      "(12/21) post_NeuroExamLevelConsciousness: (152/11)\n",
      "(13/21) post_NeuroExamSpontaneousActivity: (152/11)\n",
      "(14/21) post_NeuroExamPosture: (152/11)\n",
      "(15/21) post_NeuroExamTone: (124/39)\n",
      "(16/21) post_NeuroExamSuck: (149/14)\n",
      "(17/21) post_NeuroExamMoro: (147/16)\n",
      "(18/21) post_NeuroExamPupils: (151/12)\n",
      "(19/21) post_NeuroExamHeartRate: (152/11)\n",
      "(20/21) post_NeuroExamRespiration: (152/11)\n"
     ]
    }
   ],
   "source": [
    "COMBINE_harmonizer.column_info(df_neuro_exam)"
   ]
  },
  {
   "cell_type": "code",
   "execution_count": null,
   "id": "20c8a884",
   "metadata": {},
   "outputs": [],
   "source": []
  },
  {
   "cell_type": "markdown",
   "id": "39d3632a-8776-4eed-8ec4-76b868ef452c",
   "metadata": {},
   "source": [
    "## 03-05. MRI"
   ]
  },
  {
   "cell_type": "code",
   "execution_count": 127,
   "id": "5972de58",
   "metadata": {
    "execution": {
     "iopub.execute_input": "2025-01-21T19:14:12.693329Z",
     "iopub.status.busy": "2025-01-21T19:14:12.693239Z",
     "iopub.status.idle": "2025-01-21T19:14:12.698358Z",
     "shell.execute_reply": "2025-01-21T19:14:12.698120Z"
    }
   },
   "outputs": [],
   "source": [
    "df_mri = df_dict[_MRI_FILENAME].copy()\n",
    "# split subjectID and subjectID-postfix\n",
    "df_mri['subjectID_with_postfix'] = df_mri['subjectID'].copy()\n",
    "df_mri['_subjectID_with_postfix_list'] = df_mri['subjectID'].apply(lambda x: x.split('-'))\n",
    "df_mri['subjectID'] = df_mri['_subjectID_with_postfix_list'].apply(lambda x: x[0])\n",
    "df_mri['subjectID_postfix'] = df_mri['_subjectID_with_postfix_list'].apply(lambda x: '' if len(x) == 1 else x[1])\n",
    "del df_mri['_subjectID_with_postfix_list']\n",
    "\n",
    "## XXX hack for removing duplicated record\n",
    "center_int = df_mri['center'].apply(COMBINE_harmonizer.to_int)\n",
    "is_invalid_mri = (center_int == 26) & (df_mri['subjectID'] == 'LH076') & (df_mri['MRIReadDate'] == '2017-02-28')\n",
    "is_valid_mri = is_invalid_mri == False\n",
    "df_mri = df_mri[is_valid_mri]\n"
   ]
  },
  {
   "cell_type": "code",
   "execution_count": 128,
   "id": "bb2369db",
   "metadata": {
    "execution": {
     "iopub.execute_input": "2025-01-21T19:14:12.699684Z",
     "iopub.status.busy": "2025-01-21T19:14:12.699588Z",
     "iopub.status.idle": "2025-01-21T19:14:12.702916Z",
     "shell.execute_reply": "2025-01-21T19:14:12.702710Z"
    }
   },
   "outputs": [
    {
     "data": {
      "text/plain": [
       "['center',\n",
       " 'subjectID',\n",
       " 'MRIAvailable',\n",
       " 'MRIAvailable_c',\n",
       " 'MRIObtain',\n",
       " 'MRIObtainWindow',\n",
       " 'MRIObtainWindow_c',\n",
       " 'MRIDate',\n",
       " 'MRITime',\n",
       " 'MRIObtainComment',\n",
       " 'MRISendRTIDate',\n",
       " 'MRIReceiveRTIDate',\n",
       " 'MRINoObtainReason',\n",
       " 'MRINoObtainReason_c',\n",
       " 'MRINoObtainReasonText',\n",
       " 'MRIRead',\n",
       " 'MRIScore',\n",
       " 'MRIIteration',\n",
       " 'MRIIncrement',\n",
       " 'MRIID',\n",
       " 'MRIReader',\n",
       " 'MRIReadDate',\n",
       " 'MRIStrength_T',\n",
       " 'MRIStrength_c',\n",
       " 'MRIAdequateQuality',\n",
       " 'MRIAdequateQuality_c',\n",
       " 'MRIT1Axial',\n",
       " 'MRIT1Axial_c',\n",
       " 'MRIT1Coronal',\n",
       " 'MRIT1Coronal_c',\n",
       " 'MRIT1Sagittal',\n",
       " 'MRIT1Sagittal_c',\n",
       " 'MRIT1',\n",
       " 'MRIT2Axial',\n",
       " 'MRIT2Axial_c',\n",
       " 'MRIT2Coronal',\n",
       " 'MRIT2Coronal_c',\n",
       " 'MRIT2Sagittal',\n",
       " 'MRIT2Sagittal_c',\n",
       " 'MRIT2',\n",
       " 'MRIT2FLAIRAxial',\n",
       " 'MRIT2FLAIRAxial_c',\n",
       " 'MRIT2FLAIRCoronal',\n",
       " 'MRIT2FLAIRCoronal_c',\n",
       " 'MRIT2FLAIRSagittal',\n",
       " 'MRIT2FLAIRSagittal_c',\n",
       " 'MRIT2FLAIR',\n",
       " 'MRIGRESWIAxial',\n",
       " 'MRIGRESWIAxial_c',\n",
       " 'MRIGRESWICoronal',\n",
       " 'MRIGRESWICoronal_c',\n",
       " 'MRIGRESWISagittal',\n",
       " 'MRIGRESWISagittal_c',\n",
       " 'MRIGRESWI',\n",
       " 'MRISPGRAxial',\n",
       " 'MRISPGRAxial_c',\n",
       " 'MRISPGRCoronal',\n",
       " 'MRISPGRCoronal_c',\n",
       " 'MRISPGRSagittal',\n",
       " 'MRISPGRSagittal_c',\n",
       " 'MRISPGR',\n",
       " 'MRIDWI',\n",
       " 'MRIDWI_c',\n",
       " 'MRIADC',\n",
       " 'MRIADC_c',\n",
       " 'MRIMRS',\n",
       " 'MRIMRS_c',\n",
       " 'MRIOther',\n",
       " 'MRIOther_c',\n",
       " 'MRIOtherText',\n",
       " 'MRIOverallDiagnosis',\n",
       " 'MRIOverallDiagnosis_c',\n",
       " 'MRIOverallDiagnosisText',\n",
       " 'MRIAbnormal',\n",
       " 'MRIAbnormal_c',\n",
       " 'MRILesionNumber',\n",
       " 'MRILesionHemisphere',\n",
       " 'MRILesionHemisphere_c',\n",
       " 'MRIAbnormalRegion1',\n",
       " 'MRIAbnormalRegion1_c',\n",
       " 'MRIAbnormalRegion2',\n",
       " 'MRIAbnormalRegion2_c',\n",
       " 'MRIAbnormalRegion3',\n",
       " 'MRIAbnormalRegion3_c',\n",
       " 'MRIAbnormalSide',\n",
       " 'MRIAbnormalSide_c',\n",
       " 'MRIAbnormalGrayMatterWhiteMatter',\n",
       " 'MRIAbnormalGrayMatterWhiteMatter_c',\n",
       " 'MRIAbnormalExtent1',\n",
       " 'MRIAbnormalExtent1_c',\n",
       " 'MRIAbnormalExtent2',\n",
       " 'MRIAbnormalExtent2_c',\n",
       " 'MRIAbnormalType',\n",
       " 'MRIAbnormalType_c',\n",
       " 'MRIAbnormalType2',\n",
       " 'MRIAbnormalType2_c',\n",
       " 'MRIAbnormalComment',\n",
       " 'MRICerebralAtrophy',\n",
       " 'MRICerebralAtrophy_c',\n",
       " 'MRICerebralAtrophyGlobalLocal',\n",
       " 'MRICerebralAtrophyGlobalLocal_c',\n",
       " 'MRICerebralAtrophyRegion',\n",
       " 'MRICerebralAtrophyQualAssessCC',\n",
       " 'MRICerebralAtrophyQualAssessCC_c',\n",
       " 'MRICerebralAtrophyQualAssessVDLeft',\n",
       " 'MRICerebralAtrophyQualAssessVDLeft_c',\n",
       " 'MRICerebralAtrophyQualAssessVDRight',\n",
       " 'MRICerebralAtrophyQualAssessVDRight_c',\n",
       " 'MRIInfarction',\n",
       " 'MRIInfarction_c',\n",
       " 'MRIInfarctionAterialTerritoryLeft',\n",
       " 'MRIInfarctionAterialTerritoryLeft_c',\n",
       " 'MRIInfarctionAterialTerritoryRight',\n",
       " 'MRIInfarctionAterialTerritoryRight_c',\n",
       " 'MRIInfarctionWatershedLeft',\n",
       " 'MRIInfarctionWatershedLeft_c',\n",
       " 'MRIInfarctionWatershedRight',\n",
       " 'MRIInfarctionWatershedRight_c',\n",
       " 'MRIMidlineShift',\n",
       " 'MRIMidlineShift_c',\n",
       " 'MRIBGT',\n",
       " 'MRIBGT_c',\n",
       " 'MRIPLIC',\n",
       " 'MRIPLIC_c',\n",
       " 'MRIALIC',\n",
       " 'MRIALIC_c',\n",
       " 'MRIWatershed',\n",
       " 'MRIWatershed_c',\n",
       " 'MRIWhiteMatterInjury',\n",
       " 'MRIWhiteMatterInjury_c',\n",
       " 'MRIFocalCorticalInjury',\n",
       " 'MRIFocalCorticalInjury_c',\n",
       " 'MRINRNPatternOfInjury',\n",
       " 'MRINRNPatternOfInjury_c',\n",
       " 'MRINRNPatternOfInjuryExtent',\n",
       " 'MRINRNPatternOfInjuryExtent_c',\n",
       " 'MRINRNPatternOfInjuryLateral',\n",
       " 'MRINRNPatternOfInjuryLateral_c',\n",
       " 'MRIComment',\n",
       " 'subjectID_with_postfix',\n",
       " 'subjectID_postfix']"
      ]
     },
     "execution_count": 128,
     "metadata": {},
     "output_type": "execute_result"
    }
   ],
   "source": [
    "mri3_columns = ['subjectID_with_postfix', 'subjectID_postfix']\n",
    "\n",
    "mri_columns = COMBINE_harmonizer.get_columns(df_data_dict, 'Post-intervention', 'MRI')\n",
    "all_mri_columns = list(dict.fromkeys(id_columns + mri_columns + mri3_columns))\n",
    "all_mri_columns"
   ]
  },
  {
   "cell_type": "code",
   "execution_count": 129,
   "id": "d326ac84",
   "metadata": {
    "execution": {
     "iopub.execute_input": "2025-01-21T19:14:12.704039Z",
     "iopub.status.busy": "2025-01-21T19:14:12.703955Z",
     "iopub.status.idle": "2025-01-21T19:14:12.773168Z",
     "shell.execute_reply": "2025-01-21T19:14:12.772912Z"
    }
   },
   "outputs": [
    {
     "name": "stdout",
     "output_type": "stream",
     "text": [
      "(2/96) LM3READ not in columns\n",
      "(52/96) siteID not in columns\n",
      "(90/96) FormStatus not in columns\n",
      "(91/96) DateComplete not in columns\n",
      "(92/96) DateCreated not in columns\n",
      "(93/96) KeyedUser not in columns\n",
      "(2/141) MRIAvailable not in df\n",
      "(3/141) MRIAvailable_c not in df\n",
      "(4/141) MRIObtain not in df\n",
      "(5/141) MRIObtainWindow not in df\n",
      "(6/141) MRIObtainWindow_c not in df\n",
      "(8/141) MRITime not in df\n",
      "(9/141) MRIObtainComment not in df\n",
      "(10/141) MRISendRTIDate not in df\n",
      "(11/141) MRIReceiveRTIDate not in df\n",
      "(12/141) MRINoObtainReason not in df\n",
      "(13/141) MRINoObtainReason_c not in df\n",
      "(14/141) MRINoObtainReasonText not in df\n",
      "(15/141) MRIRead not in df\n",
      "(16/141) MRIScore not in df\n",
      "(17/141) MRIIteration not in df\n",
      "(18/141) MRIIncrement not in df\n",
      "(32/141) MRIT1 not in df\n",
      "(39/141) MRIT2 not in df\n",
      "(46/141) MRIT2FLAIR not in df\n",
      "(53/141) MRIGRESWI not in df\n",
      "(60/141) MRISPGR not in df\n",
      "(65/141) MRIMRS not in df\n",
      "(66/141) MRIMRS_c not in df\n",
      "(75/141) MRILesionNumber not in df\n",
      "(76/141) MRILesionHemisphere not in df\n",
      "(77/141) MRILesionHemisphere_c not in df\n",
      "(78/141) MRIAbnormalRegion1 not in df\n",
      "(79/141) MRIAbnormalRegion1_c not in df\n",
      "(80/141) MRIAbnormalRegion2 not in df\n",
      "(81/141) MRIAbnormalRegion2_c not in df\n",
      "(82/141) MRIAbnormalRegion3 not in df\n",
      "(83/141) MRIAbnormalRegion3_c not in df\n",
      "(84/141) MRIAbnormalSide not in df\n",
      "(85/141) MRIAbnormalSide_c not in df\n",
      "(86/141) MRIAbnormalGrayMatterWhiteMatter not in df\n",
      "(87/141) MRIAbnormalGrayMatterWhiteMatter_c not in df\n",
      "(88/141) MRIAbnormalExtent1 not in df\n",
      "(89/141) MRIAbnormalExtent1_c not in df\n",
      "(90/141) MRIAbnormalExtent2 not in df\n",
      "(91/141) MRIAbnormalExtent2_c not in df\n",
      "(92/141) MRIAbnormalType not in df\n",
      "(93/141) MRIAbnormalType_c not in df\n",
      "(94/141) MRIAbnormalType2 not in df\n",
      "(95/141) MRIAbnormalType2_c not in df\n",
      "(96/141) MRIAbnormalComment not in df\n",
      "(99/141) MRICerebralAtrophyGlobalLocal not in df\n",
      "(100/141) MRICerebralAtrophyGlobalLocal_c not in df\n",
      "(134/141) MRINRNPatternOfInjuryExtent not in df\n",
      "(135/141) MRINRNPatternOfInjuryExtent_c not in df\n",
      "(136/141) MRINRNPatternOfInjuryLateral not in df\n",
      "(137/141) MRINRNPatternOfInjuryLateral_c not in df\n"
     ]
    }
   ],
   "source": [
    "df_mri = COMBINE_harmonizer.valid_columns(df_mri, all_mri_columns, debug_df=True, debug_columns=True)\n",
    "df_mri = COMBINE_harmonizer.postprocess(df_mri)\n",
    "df_mri['MRI_ID'] = df_mri.apply(lambda x: f\"{x['subjectID']}_Site{x['center']}\", axis=1)\n",
    "\n",
    "out_filename = os.sep.join([out_dir, '03-05-mri.csv'])\n",
    "df_mri.to_csv(out_filename, index=False)"
   ]
  },
  {
   "cell_type": "markdown",
   "id": "c59969da",
   "metadata": {},
   "source": [
    "### 03-05-1. check MRI"
   ]
  },
  {
   "cell_type": "code",
   "execution_count": 130,
   "id": "fc85dae1",
   "metadata": {
    "execution": {
     "iopub.execute_input": "2025-01-21T19:14:12.774690Z",
     "iopub.status.busy": "2025-01-21T19:14:12.774593Z",
     "iopub.status.idle": "2025-01-21T19:14:12.779660Z",
     "shell.execute_reply": "2025-01-21T19:14:12.779413Z"
    }
   },
   "outputs": [
    {
     "data": {
      "text/html": [
       "<div>\n",
       "<style scoped>\n",
       "    .dataframe tbody tr th:only-of-type {\n",
       "        vertical-align: middle;\n",
       "    }\n",
       "\n",
       "    .dataframe tbody tr th {\n",
       "        vertical-align: top;\n",
       "    }\n",
       "\n",
       "    .dataframe thead th {\n",
       "        text-align: right;\n",
       "    }\n",
       "</style>\n",
       "<table border=\"1\" class=\"dataframe\">\n",
       "  <thead>\n",
       "    <tr style=\"text-align: right;\">\n",
       "      <th></th>\n",
       "      <th></th>\n",
       "      <th>_count</th>\n",
       "    </tr>\n",
       "    <tr>\n",
       "      <th>uniqueID</th>\n",
       "      <th>MRIReader</th>\n",
       "      <th></th>\n",
       "    </tr>\n",
       "  </thead>\n",
       "  <tbody>\n",
       "  </tbody>\n",
       "</table>\n",
       "</div>"
      ],
      "text/plain": [
       "Empty DataFrame\n",
       "Columns: [_count]\n",
       "Index: []"
      ]
     },
     "execution_count": 130,
     "metadata": {},
     "output_type": "execute_result"
    }
   ],
   "source": [
    "df_mri_groupby = df_mri.groupby(['uniqueID', 'MRIReader']).agg(_count=('uniqueID', 'count'))\n",
    "\n",
    "is_invalid = df_mri_groupby['_count'] > 1\n",
    "df_mri_groupby[is_invalid]"
   ]
  },
  {
   "cell_type": "markdown",
   "id": "86353e5c",
   "metadata": {},
   "source": [
    "### 03-05-2. check empty"
   ]
  },
  {
   "cell_type": "code",
   "execution_count": 131,
   "id": "a0381ffc",
   "metadata": {
    "execution": {
     "iopub.execute_input": "2025-01-21T19:14:12.781140Z",
     "iopub.status.busy": "2025-01-21T19:14:12.781045Z",
     "iopub.status.idle": "2025-01-21T19:14:12.789939Z",
     "shell.execute_reply": "2025-01-21T19:14:12.789684Z"
    }
   },
   "outputs": [
    {
     "name": "stdout",
     "output_type": "stream",
     "text": [
      "(0/92) column: center (244 / 0)\n",
      "(1/92) column: subjectID (244 / 0)\n",
      "(2/92) column: uniqueID (244 / 0)\n",
      "(3/92) column: MRIReader (244 / 0)\n",
      "(4/92) column: MRIReadDate (244 / 0)\n",
      "(5/92) column: MRIDate (244 / 0)\n",
      "(6/92) column: MRIStrength_T (244 / 0)\n",
      "(7/92) column: MRIStrength_c (114 / 130)\n",
      "(8/92) column: MRIAdequateQuality (239 / 5)\n",
      "(9/92) column: MRIAdequateQuality_c (244 / 0)\n",
      "(10/92) column: MRIT1Axial (244 / 0)\n",
      "(11/92) column: MRIT1Axial_c (172 / 72)\n",
      "(12/92) column: MRIT1Coronal (244 / 0)\n",
      "(13/92) column: MRIT1Coronal_c (47 / 197)\n",
      "(14/92) column: MRIT1Sagittal (244 / 0)\n",
      "(15/92) column: MRIT1Sagittal_c (227 / 17)\n",
      "(16/92) column: MRIT2Axial (244 / 0)\n",
      "(17/92) column: MRIT2Axial_c (223 / 21)\n",
      "(18/92) column: MRIT2Coronal (244 / 0)\n",
      "(19/92) column: MRIT2Coronal_c (129 / 115)\n",
      "(20/92) column: MRIT2Sagittal (244 / 0)\n",
      "(21/92) column: MRIT2Sagittal_c (39 / 205)\n",
      "(22/92) column: MRIT2FLAIRAxial (244 / 0)\n",
      "(23/92) column: MRIT2FLAIRAxial_c (167 / 77)\n",
      "(24/92) column: MRIT2FLAIRCoronal (244 / 0)\n",
      "(25/92) column: MRIT2FLAIRCoronal_c (22 / 222)\n",
      "(26/92) column: MRIT2FLAIRSagittal (244 / 0)\n",
      "(27/92) column: MRIT2FLAIRSagittal_c (3 / 241)\n",
      "(28/92) column: MRIGRESWIAxial (244 / 0)\n",
      "(29/92) column: MRIGRESWIAxial_c (169 / 75)\n",
      "(30/92) column: MRIGRESWICoronal (244 / 0)\n",
      "(31/92) column: MRIGRESWICoronal_c (17 / 227)\n",
      "(32/92) column: MRIGRESWISagittal (244 / 0)\n",
      "(33/92) column: MRIGRESWISagittal_c (1 / 243)\n",
      "(34/92) column: MRISPGRAxial (244 / 0)\n",
      "(35/92) column: MRISPGRAxial_c (48 / 196)\n",
      "(36/92) column: MRISPGRCoronal (244 / 0)\n",
      "(37/92) column: MRISPGRCoronal_c (27 / 217)\n",
      "(38/92) column: MRISPGRSagittal (244 / 0)\n",
      "(39/92) column: MRISPGRSagittal_c (27 / 217)\n",
      "(40/92) column: MRIDWI (244 / 0)\n",
      "(41/92) column: MRIDWI_c (224 / 20)\n",
      "(42/92) column: MRIADC (244 / 0)\n",
      "(43/92) column: MRIADC_c (206 / 38)\n",
      "(44/92) column: MRIOther (244 / 0)\n",
      "(45/92) column: MRIOther_c (123 / 121)\n",
      "(46/92) column: MRIOtherText (137 / 107)\n",
      "(47/92) column: MRIOverallDiagnosis (244 / 0)\n",
      "(48/92) column: MRIOverallDiagnosis_c (243 / 1)\n",
      "(49/92) column: MRIAbnormal (231 / 13)\n",
      "(50/92) column: MRIAbnormal_c (244 / 0)\n",
      "(51/92) column: MRIID (244 / 0)\n",
      "(52/92) column: MRIOverallDiagnosisText (13 / 231)\n",
      "(53/92) column: MRICerebralAtrophy (234 / 10)\n",
      "(54/92) column: MRICerebralAtrophy_c (244 / 0)\n",
      "(55/92) column: MRICerebralAtrophyRegion (4 / 240)\n",
      "(56/92) column: MRICerebralAtrophyQualAssessCC (244 / 0)\n",
      "(57/92) column: MRICerebralAtrophyQualAssessCC_c (231 / 13)\n",
      "(58/92) column: MRICerebralAtrophyQualAssessVDLeft (244 / 0)\n",
      "(59/92) column: MRICerebralAtrophyQualAssessVDLeft_c (240 / 4)\n",
      "(60/92) column: MRICerebralAtrophyQualAssessVDRight (244 / 0)\n",
      "(61/92) column: MRICerebralAtrophyQualAssessVDRight_c (234 / 10)\n",
      "(62/92) column: MRIInfarction (205 / 39)\n",
      "(63/92) column: MRIInfarction_c (244 / 0)\n",
      "(64/92) column: MRIInfarctionAterialTerritoryLeft (244 / 0)\n",
      "(65/92) column: MRIInfarctionAterialTerritoryLeft_c (22 / 222)\n",
      "(66/92) column: MRIInfarctionAterialTerritoryRight (244 / 0)\n",
      "(67/92) column: MRIInfarctionAterialTerritoryRight_c (14 / 230)\n",
      "(68/92) column: MRIInfarctionWatershedLeft (244 / 0)\n",
      "(69/92) column: MRIInfarctionWatershedLeft_c (59 / 185)\n",
      "(70/92) column: MRIInfarctionWatershedRight (244 / 0)\n",
      "(71/92) column: MRIInfarctionWatershedRight_c (56 / 188)\n",
      "(72/92) column: MRIMidlineShift (229 / 15)\n",
      "(73/92) column: MRIMidlineShift_c (244 / 0)\n",
      "(74/92) column: MRIBGT (244 / 0)\n",
      "(75/92) column: MRIBGT_c (237 / 7)\n",
      "(76/92) column: MRIPLIC (244 / 0)\n",
      "(77/92) column: MRIPLIC_c (238 / 6)\n",
      "(78/92) column: MRIALIC (244 / 0)\n",
      "(79/92) column: MRIALIC_c (236 / 8)\n",
      "(80/92) column: MRIWatershed (244 / 0)\n",
      "(81/92) column: MRIWatershed_c (209 / 35)\n",
      "(82/92) column: MRIWhiteMatterInjury (244 / 0)\n",
      "(83/92) column: MRIWhiteMatterInjury_c (216 / 28)\n",
      "(84/92) column: MRIFocalCorticalInjury (244 / 0)\n",
      "(85/92) column: MRIFocalCorticalInjury_c (214 / 30)\n",
      "(86/92) column: MRINRNPatternOfInjury (244 / 0)\n",
      "(87/92) column: MRINRNPatternOfInjury_c (240 / 4)\n",
      "(88/92) column: MRIComment (195 / 49)\n",
      "(89/92) column: subjectID_with_postfix (244 / 0)\n",
      "(90/92) column: subjectID_postfix (244 / 0)\n",
      "(91/92) column: MRI_ID (244 / 0)\n"
     ]
    }
   ],
   "source": [
    "COMBINE_harmonizer.check_empty(df_mri)"
   ]
  },
  {
   "cell_type": "code",
   "execution_count": 132,
   "id": "754d7342",
   "metadata": {
    "execution": {
     "iopub.execute_input": "2025-01-21T19:14:12.791164Z",
     "iopub.status.busy": "2025-01-21T19:14:12.791080Z",
     "iopub.status.idle": "2025-01-21T19:14:12.796323Z",
     "shell.execute_reply": "2025-01-21T19:14:12.796113Z"
    }
   },
   "outputs": [
    {
     "name": "stdout",
     "output_type": "stream",
     "text": [
      "(0/92) center: (244/0)\n",
      "(1/92) subjectID: (244/0)\n",
      "(2/92) uniqueID: (244/0)\n",
      "(3/92) MRIReader: (244/0)\n",
      "(4/92) MRIReadDate: (244/0)\n",
      "(5/92) MRIDate: (244/0)\n",
      "(6/92) MRIStrength_T: (244/0)\n",
      "(7/92) MRIStrength_c: (114/130)\n",
      "(8/92) MRIAdequateQuality: (239/5)\n",
      "(9/92) MRIAdequateQuality_c: (244/0)\n",
      "(10/92) MRIT1Axial: (244/0)\n",
      "(11/92) MRIT1Axial_c: (172/72)\n",
      "(12/92) MRIT1Coronal: (244/0)\n",
      "(13/92) MRIT1Coronal_c: (47/197)\n",
      "(14/92) MRIT1Sagittal: (244/0)\n",
      "(15/92) MRIT1Sagittal_c: (227/17)\n",
      "(16/92) MRIT2Axial: (244/0)\n",
      "(17/92) MRIT2Axial_c: (223/21)\n",
      "(18/92) MRIT2Coronal: (244/0)\n",
      "(19/92) MRIT2Coronal_c: (129/115)\n",
      "(20/92) MRIT2Sagittal: (244/0)\n",
      "(21/92) MRIT2Sagittal_c: (39/205)\n",
      "(22/92) MRIT2FLAIRAxial: (244/0)\n",
      "(23/92) MRIT2FLAIRAxial_c: (167/77)\n",
      "(24/92) MRIT2FLAIRCoronal: (244/0)\n",
      "(25/92) MRIT2FLAIRCoronal_c: (22/222)\n",
      "(26/92) MRIT2FLAIRSagittal: (244/0)\n",
      "(27/92) MRIT2FLAIRSagittal_c: (3/241)\n",
      "(28/92) MRIGRESWIAxial: (244/0)\n",
      "(29/92) MRIGRESWIAxial_c: (169/75)\n",
      "(30/92) MRIGRESWICoronal: (244/0)\n",
      "(31/92) MRIGRESWICoronal_c: (17/227)\n",
      "(32/92) MRIGRESWISagittal: (244/0)\n",
      "(33/92) MRIGRESWISagittal_c: (1/243)\n",
      "(34/92) MRISPGRAxial: (244/0)\n",
      "(35/92) MRISPGRAxial_c: (48/196)\n",
      "(36/92) MRISPGRCoronal: (244/0)\n",
      "(37/92) MRISPGRCoronal_c: (27/217)\n",
      "(38/92) MRISPGRSagittal: (244/0)\n",
      "(39/92) MRISPGRSagittal_c: (27/217)\n",
      "(40/92) MRIDWI: (244/0)\n",
      "(41/92) MRIDWI_c: (224/20)\n",
      "(42/92) MRIADC: (244/0)\n",
      "(43/92) MRIADC_c: (206/38)\n",
      "(44/92) MRIOther: (244/0)\n",
      "(45/92) MRIOther_c: (123/121)\n",
      "(46/92) MRIOtherText: (137/107)\n",
      "(47/92) MRIOverallDiagnosis: (244/0)\n",
      "(48/92) MRIOverallDiagnosis_c: (243/1)\n",
      "(49/92) MRIAbnormal: (231/13)\n",
      "(50/92) MRIAbnormal_c: (244/0)\n",
      "(51/92) MRIID: (244/0)\n",
      "(52/92) MRIOverallDiagnosisText: (13/231)\n",
      "(53/92) MRICerebralAtrophy: (234/10)\n",
      "(54/92) MRICerebralAtrophy_c: (244/0)\n",
      "(55/92) MRICerebralAtrophyRegion: (4/240)\n",
      "(56/92) MRICerebralAtrophyQualAssessCC: (244/0)\n",
      "(57/92) MRICerebralAtrophyQualAssessCC_c: (231/13)\n",
      "(58/92) MRICerebralAtrophyQualAssessVDLeft: (244/0)\n",
      "(59/92) MRICerebralAtrophyQualAssessVDLeft_c: (240/4)\n",
      "(60/92) MRICerebralAtrophyQualAssessVDRight: (244/0)\n",
      "(61/92) MRICerebralAtrophyQualAssessVDRight_c: (234/10)\n",
      "(62/92) MRIInfarction: (205/39)\n",
      "(63/92) MRIInfarction_c: (244/0)\n",
      "(64/92) MRIInfarctionAterialTerritoryLeft: (244/0)\n",
      "(65/92) MRIInfarctionAterialTerritoryLeft_c: (22/222)\n",
      "(66/92) MRIInfarctionAterialTerritoryRight: (244/0)\n",
      "(67/92) MRIInfarctionAterialTerritoryRight_c: (14/230)\n",
      "(68/92) MRIInfarctionWatershedLeft: (244/0)\n",
      "(69/92) MRIInfarctionWatershedLeft_c: (59/185)\n",
      "(70/92) MRIInfarctionWatershedRight: (244/0)\n",
      "(71/92) MRIInfarctionWatershedRight_c: (56/188)\n",
      "(72/92) MRIMidlineShift: (229/15)\n",
      "(73/92) MRIMidlineShift_c: (244/0)\n",
      "(74/92) MRIBGT: (244/0)\n",
      "(75/92) MRIBGT_c: (237/7)\n",
      "(76/92) MRIPLIC: (244/0)\n",
      "(77/92) MRIPLIC_c: (238/6)\n",
      "(78/92) MRIALIC: (244/0)\n",
      "(79/92) MRIALIC_c: (236/8)\n",
      "(80/92) MRIWatershed: (244/0)\n",
      "(81/92) MRIWatershed_c: (209/35)\n",
      "(82/92) MRIWhiteMatterInjury: (244/0)\n",
      "(83/92) MRIWhiteMatterInjury_c: (216/28)\n",
      "(84/92) MRIFocalCorticalInjury: (244/0)\n",
      "(85/92) MRIFocalCorticalInjury_c: (214/30)\n",
      "(86/92) MRINRNPatternOfInjury: (244/0)\n",
      "(87/92) MRINRNPatternOfInjury_c: (240/4)\n",
      "(88/92) MRIComment: (195/49)\n",
      "(89/92) subjectID_with_postfix: (244/0)\n",
      "(90/92) subjectID_postfix: (244/0)\n",
      "(91/92) MRI_ID: (244/0)\n"
     ]
    }
   ],
   "source": [
    "COMBINE_harmonizer.column_info(df_mri)"
   ]
  },
  {
   "cell_type": "markdown",
   "id": "5270481c",
   "metadata": {},
   "source": [
    "### 03-05-3. MRI summary"
   ]
  },
  {
   "cell_type": "code",
   "execution_count": 133,
   "id": "13244d86",
   "metadata": {
    "execution": {
     "iopub.execute_input": "2025-01-21T19:14:12.797614Z",
     "iopub.status.busy": "2025-01-21T19:14:12.797536Z",
     "iopub.status.idle": "2025-01-21T19:14:12.867848Z",
     "shell.execute_reply": "2025-01-21T19:14:12.867396Z"
    }
   },
   "outputs": [
    {
     "name": "stdout",
     "output_type": "stream",
     "text": [
      "(0/2) filename: lhmr01.csv columns: ['subjectID', 'MRIAvailable', 'MRIObtain', 'MRINoObtainReason', 'LM1INIT', 'REC_CMP', 'center', 'MRIDate', 'MRITime', 'MRISendRTIDate', 'CMP_DATE', 'CRT_DATE']\n",
      "(1/2) filename: lhmr02.csv columns: ['subjectID', 'MRIRead', 'MRIScore', 'LM2INIT', 'REC_CMP', 'center', 'MRIDate', 'MRITime', 'CMP_DATE', 'CRT_DATE']\n"
     ]
    },
    {
     "name": "stdout",
     "output_type": "stream",
     "text": [
      "(4/20) LM1INIT not in columns\n",
      "(5/20) REC_CMP not in columns\n",
      "(10/20) CMP_DATE not in columns\n",
      "(11/20) CRT_DATE not in columns\n",
      "(14/20) LM2INIT not in columns\n",
      "(15/20) REC_CMP:lhmr02 not in columns\n",
      "(16/20) MRIDate:lhmr02 not in columns\n",
      "(17/20) MRITime:lhmr02 not in columns\n",
      "(18/20) CMP_DATE:lhmr02 not in columns\n",
      "(19/20) CRT_DATE:lhmr02 not in columns\n",
      "(3/141) MRIAvailable_c not in df\n",
      "(5/141) MRIObtainWindow not in df\n",
      "(6/141) MRIObtainWindow_c not in df\n",
      "(9/141) MRIObtainComment not in df\n",
      "(11/141) MRIReceiveRTIDate not in df\n",
      "(13/141) MRINoObtainReason_c not in df\n",
      "(14/141) MRINoObtainReasonText not in df\n",
      "(17/141) MRIIteration not in df\n",
      "(18/141) MRIIncrement not in df\n",
      "(19/141) MRIID not in df\n",
      "(20/141) MRIReader not in df\n",
      "(21/141) MRIReadDate not in df\n",
      "(22/141) MRIStrength_T not in df\n",
      "(23/141) MRIStrength_c not in df\n",
      "(24/141) MRIAdequateQuality not in df\n",
      "(25/141) MRIAdequateQuality_c not in df\n",
      "(26/141) MRIT1Axial not in df\n",
      "(27/141) MRIT1Axial_c not in df\n",
      "(28/141) MRIT1Coronal not in df\n",
      "(29/141) MRIT1Coronal_c not in df\n",
      "(30/141) MRIT1Sagittal not in df\n",
      "(31/141) MRIT1Sagittal_c not in df\n",
      "(32/141) MRIT1 not in df\n",
      "(33/141) MRIT2Axial not in df\n",
      "(34/141) MRIT2Axial_c not in df\n",
      "(35/141) MRIT2Coronal not in df\n",
      "(36/141) MRIT2Coronal_c not in df\n",
      "(37/141) MRIT2Sagittal not in df\n",
      "(38/141) MRIT2Sagittal_c not in df\n",
      "(39/141) MRIT2 not in df\n",
      "(40/141) MRIT2FLAIRAxial not in df\n",
      "(41/141) MRIT2FLAIRAxial_c not in df\n",
      "(42/141) MRIT2FLAIRCoronal not in df\n",
      "(43/141) MRIT2FLAIRCoronal_c not in df\n",
      "(44/141) MRIT2FLAIRSagittal not in df\n",
      "(45/141) MRIT2FLAIRSagittal_c not in df\n",
      "(46/141) MRIT2FLAIR not in df\n",
      "(47/141) MRIGRESWIAxial not in df\n",
      "(48/141) MRIGRESWIAxial_c not in df\n",
      "(49/141) MRIGRESWICoronal not in df\n",
      "(50/141) MRIGRESWICoronal_c not in df\n",
      "(51/141) MRIGRESWISagittal not in df\n",
      "(52/141) MRIGRESWISagittal_c not in df\n",
      "(53/141) MRIGRESWI not in df\n",
      "(54/141) MRISPGRAxial not in df\n",
      "(55/141) MRISPGRAxial_c not in df\n",
      "(56/141) MRISPGRCoronal not in df\n",
      "(57/141) MRISPGRCoronal_c not in df\n",
      "(58/141) MRISPGRSagittal not in df\n",
      "(59/141) MRISPGRSagittal_c not in df\n",
      "(60/141) MRISPGR not in df\n",
      "(61/141) MRIDWI not in df\n",
      "(62/141) MRIDWI_c not in df\n",
      "(63/141) MRIADC not in df\n",
      "(64/141) MRIADC_c not in df\n",
      "(65/141) MRIMRS not in df\n",
      "(66/141) MRIMRS_c not in df\n",
      "(67/141) MRIOther not in df\n",
      "(68/141) MRIOther_c not in df\n",
      "(69/141) MRIOtherText not in df\n",
      "(70/141) MRIOverallDiagnosis not in df\n",
      "(71/141) MRIOverallDiagnosis_c not in df\n",
      "(72/141) MRIOverallDiagnosisText not in df\n",
      "(73/141) MRIAbnormal not in df\n",
      "(74/141) MRIAbnormal_c not in df\n",
      "(75/141) MRILesionNumber not in df\n",
      "(76/141) MRILesionHemisphere not in df\n",
      "(77/141) MRILesionHemisphere_c not in df\n",
      "(78/141) MRIAbnormalRegion1 not in df\n",
      "(79/141) MRIAbnormalRegion1_c not in df\n",
      "(80/141) MRIAbnormalRegion2 not in df\n",
      "(81/141) MRIAbnormalRegion2_c not in df\n",
      "(82/141) MRIAbnormalRegion3 not in df\n",
      "(83/141) MRIAbnormalRegion3_c not in df\n",
      "(84/141) MRIAbnormalSide not in df\n",
      "(85/141) MRIAbnormalSide_c not in df\n",
      "(86/141) MRIAbnormalGrayMatterWhiteMatter not in df\n",
      "(87/141) MRIAbnormalGrayMatterWhiteMatter_c not in df\n",
      "(88/141) MRIAbnormalExtent1 not in df\n",
      "(89/141) MRIAbnormalExtent1_c not in df\n",
      "(90/141) MRIAbnormalExtent2 not in df\n",
      "(91/141) MRIAbnormalExtent2_c not in df\n",
      "(92/141) MRIAbnormalType not in df\n",
      "(93/141) MRIAbnormalType_c not in df\n",
      "(94/141) MRIAbnormalType2 not in df\n",
      "(95/141) MRIAbnormalType2_c not in df\n",
      "(96/141) MRIAbnormalComment not in df\n",
      "(97/141) MRICerebralAtrophy not in df\n",
      "(98/141) MRICerebralAtrophy_c not in df\n",
      "(99/141) MRICerebralAtrophyGlobalLocal not in df\n",
      "(100/141) MRICerebralAtrophyGlobalLocal_c not in df\n",
      "(101/141) MRICerebralAtrophyRegion not in df\n",
      "(102/141) MRICerebralAtrophyQualAssessCC not in df\n",
      "(103/141) MRICerebralAtrophyQualAssessCC_c not in df\n",
      "(104/141) MRICerebralAtrophyQualAssessVDLeft not in df\n",
      "(105/141) MRICerebralAtrophyQualAssessVDLeft_c not in df\n",
      "(106/141) MRICerebralAtrophyQualAssessVDRight not in df\n",
      "(107/141) MRICerebralAtrophyQualAssessVDRight_c not in df\n",
      "(108/141) MRIInfarction not in df\n",
      "(109/141) MRIInfarction_c not in df\n",
      "(110/141) MRIInfarctionAterialTerritoryLeft not in df\n",
      "(111/141) MRIInfarctionAterialTerritoryLeft_c not in df\n",
      "(112/141) MRIInfarctionAterialTerritoryRight not in df\n",
      "(113/141) MRIInfarctionAterialTerritoryRight_c not in df\n",
      "(114/141) MRIInfarctionWatershedLeft not in df\n",
      "(115/141) MRIInfarctionWatershedLeft_c not in df\n",
      "(116/141) MRIInfarctionWatershedRight not in df\n",
      "(117/141) MRIInfarctionWatershedRight_c not in df\n",
      "(118/141) MRIMidlineShift not in df\n",
      "(119/141) MRIMidlineShift_c not in df\n",
      "(120/141) MRIBGT not in df\n",
      "(121/141) MRIBGT_c not in df\n",
      "(122/141) MRIPLIC not in df\n",
      "(123/141) MRIPLIC_c not in df\n",
      "(124/141) MRIALIC not in df\n",
      "(125/141) MRIALIC_c not in df\n",
      "(126/141) MRIWatershed not in df\n",
      "(127/141) MRIWatershed_c not in df\n",
      "(128/141) MRIWhiteMatterInjury not in df\n",
      "(129/141) MRIWhiteMatterInjury_c not in df\n",
      "(130/141) MRIFocalCorticalInjury not in df\n",
      "(131/141) MRIFocalCorticalInjury_c not in df\n",
      "(132/141) MRINRNPatternOfInjury not in df\n",
      "(133/141) MRINRNPatternOfInjury_c not in df\n",
      "(134/141) MRINRNPatternOfInjuryExtent not in df\n",
      "(135/141) MRINRNPatternOfInjuryExtent_c not in df\n",
      "(136/141) MRINRNPatternOfInjuryLateral not in df\n",
      "(137/141) MRINRNPatternOfInjuryLateral_c not in df\n",
      "(138/141) MRIComment not in df\n",
      "(139/141) subjectID_with_postfix not in df\n",
      "(140/141) subjectID_postfix not in df\n"
     ]
    }
   ],
   "source": [
    "df_mri_s = None\n",
    "for idx, each_filename in enumerate(_MRI_FILENAMES_MERGE):\n",
    "    each_df = df_dict[each_filename]\n",
    "    columns = list(each_df.columns)\n",
    "    each_filename_prefix = re.sub(r'\\.csv$', '', each_filename)\n",
    "    print(f'({idx}/{len(_MRI_FILENAMES_MERGE)}) filename: {each_filename} columns: {columns}')\n",
    "\n",
    "    if df_mri_s is None:\n",
    "        df_mri_s = each_df\n",
    "    else:\n",
    "        df_mri_s = df_mri_s.merge(each_df, on=['center', 'subjectID'], how='outer', suffixes=['', ':' + each_filename_prefix])\n",
    "\n",
    "# postprocess\n",
    "df_mri_s = COMBINE_harmonizer.valid_columns(df_mri_s, all_mri_columns, debug_df=True, debug_columns=True)\n",
    "df_mri_s = COMBINE_harmonizer.postprocess(df_mri_s)\n",
    "\n",
    "out_filename = os.sep.join([out_dir, '03-05_s-mri.csv'])\n",
    "df_mri_s.to_csv(out_filename, index=False)"
   ]
  },
  {
   "cell_type": "markdown",
   "id": "6e313ffc-f4c8-44b1-9378-86c30428411f",
   "metadata": {},
   "source": [
    "### 03-05-4. check MRI Summary"
   ]
  },
  {
   "cell_type": "code",
   "execution_count": 134,
   "id": "e73b1699-3885-4450-a898-a4565f065767",
   "metadata": {
    "execution": {
     "iopub.execute_input": "2025-01-21T19:14:12.869597Z",
     "iopub.status.busy": "2025-01-21T19:14:12.869464Z",
     "iopub.status.idle": "2025-01-21T19:14:12.874785Z",
     "shell.execute_reply": "2025-01-21T19:14:12.874511Z"
    }
   },
   "outputs": [
    {
     "data": {
      "text/html": [
       "<div>\n",
       "<style scoped>\n",
       "    .dataframe tbody tr th:only-of-type {\n",
       "        vertical-align: middle;\n",
       "    }\n",
       "\n",
       "    .dataframe tbody tr th {\n",
       "        vertical-align: top;\n",
       "    }\n",
       "\n",
       "    .dataframe thead th {\n",
       "        text-align: right;\n",
       "    }\n",
       "</style>\n",
       "<table border=\"1\" class=\"dataframe\">\n",
       "  <thead>\n",
       "    <tr style=\"text-align: right;\">\n",
       "      <th></th>\n",
       "      <th>_count</th>\n",
       "    </tr>\n",
       "    <tr>\n",
       "      <th>uniqueID</th>\n",
       "      <th></th>\n",
       "    </tr>\n",
       "  </thead>\n",
       "  <tbody>\n",
       "  </tbody>\n",
       "</table>\n",
       "</div>"
      ],
      "text/plain": [
       "Empty DataFrame\n",
       "Columns: [_count]\n",
       "Index: []"
      ]
     },
     "execution_count": 134,
     "metadata": {},
     "output_type": "execute_result"
    }
   ],
   "source": [
    "df_mri_s_groupby = df_mri_s.groupby(['uniqueID']).agg(_count=('uniqueID', 'count'))\n",
    "\n",
    "is_invalid = df_mri_s_groupby['_count'] > 1\n",
    "df_mri_s_groupby[is_invalid]"
   ]
  },
  {
   "cell_type": "markdown",
   "id": "8799bd47-f6b1-4229-90b6-3222171633f6",
   "metadata": {},
   "source": [
    "### 03-05-5. check empty cells"
   ]
  },
  {
   "cell_type": "code",
   "execution_count": 135,
   "id": "548072ca-5c9a-4b33-8172-e4dd096315b0",
   "metadata": {
    "execution": {
     "iopub.execute_input": "2025-01-21T19:14:12.876239Z",
     "iopub.status.busy": "2025-01-21T19:14:12.876146Z",
     "iopub.status.idle": "2025-01-21T19:14:12.878849Z",
     "shell.execute_reply": "2025-01-21T19:14:12.878611Z"
    }
   },
   "outputs": [
    {
     "name": "stdout",
     "output_type": "stream",
     "text": [
      "(0/11) column: center (150 / 0)\n",
      "(1/11) column: subjectID (150 / 0)\n",
      "(2/11) column: uniqueID (150 / 0)\n",
      "(3/11) column: MRIAvailable (150 / 0)\n",
      "(4/11) column: MRIObtain (148 / 2)\n",
      "(5/11) column: MRINoObtainReason (1 / 149)\n",
      "(6/11) column: MRIDate (147 / 3)\n",
      "(7/11) column: MRITime (147 / 3)\n",
      "(8/11) column: MRISendRTIDate (146 / 4)\n",
      "(9/11) column: MRIRead (147 / 3)\n",
      "(10/11) column: MRIScore (147 / 3)\n"
     ]
    }
   ],
   "source": [
    "COMBINE_harmonizer.check_empty(df_mri_s)"
   ]
  },
  {
   "cell_type": "code",
   "execution_count": 136,
   "id": "32d215c7-cff7-4d3a-bc51-9231e522ea55",
   "metadata": {
    "execution": {
     "iopub.execute_input": "2025-01-21T19:14:12.880182Z",
     "iopub.status.busy": "2025-01-21T19:14:12.880072Z",
     "iopub.status.idle": "2025-01-21T19:14:12.882171Z",
     "shell.execute_reply": "2025-01-21T19:14:12.881929Z"
    }
   },
   "outputs": [
    {
     "name": "stdout",
     "output_type": "stream",
     "text": [
      "(0/11) center: (150/0)\n",
      "(1/11) subjectID: (150/0)\n",
      "(2/11) uniqueID: (150/0)\n",
      "(3/11) MRIAvailable: (150/0)\n",
      "(4/11) MRIObtain: (148/2)\n",
      "(5/11) MRINoObtainReason: (1/149)\n",
      "(6/11) MRIDate: (147/3)\n",
      "(7/11) MRITime: (147/3)\n",
      "(8/11) MRISendRTIDate: (146/4)\n",
      "(9/11) MRIRead: (147/3)\n",
      "(10/11) MRIScore: (147/3)\n"
     ]
    }
   ],
   "source": [
    "COMBINE_harmonizer.column_info(df_mri_s)"
   ]
  },
  {
   "cell_type": "markdown",
   "id": "0bd45967-4a74-4cad-8d66-f7e58fec3315",
   "metadata": {},
   "source": [
    "## 02-11. elevated temperature"
   ]
  },
  {
   "cell_type": "code",
   "execution_count": 137,
   "id": "4e812b88",
   "metadata": {
    "execution": {
     "iopub.execute_input": "2025-01-21T19:14:12.883518Z",
     "iopub.status.busy": "2025-01-21T19:14:12.883411Z",
     "iopub.status.idle": "2025-01-21T19:14:12.886037Z",
     "shell.execute_reply": "2025-01-21T19:14:12.885810Z"
    }
   },
   "outputs": [
    {
     "data": {
      "text/plain": [
       "['elevatedTempNumber',\n",
       " 'elevatedTempMin',\n",
       " 'elevatedTempDate',\n",
       " 'elevatedTempTime',\n",
       " 'elevatedTempSkinTemperature_C',\n",
       " 'elevatedTempAxillaryTemperature_C',\n",
       " 'elevatedTempEsophagealTemperature_C',\n",
       " 'elevatedTempServoSet_C',\n",
       " 'elevatedTempDevice',\n",
       " 'elevatedTempDeviceMode',\n",
       " 'elevatedTempAirTemperature_C',\n",
       " 'elevatedTempBath',\n",
       " 'elevatedTempNoBathReason',\n",
       " 'elevatedTempBlanketrol']"
      ]
     },
     "execution_count": 137,
     "metadata": {},
     "output_type": "execute_result"
    }
   ],
   "source": [
    "elevated_temperature_columns = COMBINE_harmonizer.get_columns(df_data_dict, 'Intervention', 'Elevated Temperature')\n",
    "all_elevated_temperature_columns = id_columns + elevated_temperature_columns\n",
    "elevated_temperature_columns"
   ]
  },
  {
   "cell_type": "code",
   "execution_count": 138,
   "id": "34bfef7b-68fa-4bab-b4c1-6deba3d90171",
   "metadata": {
    "execution": {
     "iopub.execute_input": "2025-01-21T19:14:12.887205Z",
     "iopub.status.busy": "2025-01-21T19:14:12.887109Z",
     "iopub.status.idle": "2025-01-21T19:14:12.958423Z",
     "shell.execute_reply": "2025-01-21T19:14:12.958106Z"
    }
   },
   "outputs": [
    {
     "name": "stdout",
     "output_type": "stream",
     "text": [
      "(3/19) REC_CMP not in columns\n",
      "(17/19) CMP_DATE not in columns\n",
      "(18/19) CRT_DATE not in columns\n"
     ]
    }
   ],
   "source": [
    "df_elevated_temperature = df_dict['lh06a.csv'].copy()\n",
    "df_elevated_temperature = COMBINE_harmonizer.valid_columns(df_elevated_temperature, all_elevated_temperature_columns, debug_df=True, debug_columns=True)\n",
    "df_elevated_temperature = COMBINE_harmonizer.postprocess(df_elevated_temperature)\n",
    "\n",
    "out_filename = os.sep.join([out_dir, '02-11-elevated-temperature.csv'])\n",
    "df_elevated_temperature.to_csv(out_filename, index=False)"
   ]
  },
  {
   "cell_type": "markdown",
   "id": "b39cf6c6-0289-40b4-874d-f6bb11bb80bd",
   "metadata": {},
   "source": [
    "### 02-11-1. check elevated temperature"
   ]
  },
  {
   "cell_type": "code",
   "execution_count": 139,
   "id": "3b94adfd-2a5b-416c-88e6-65afb3e71c9b",
   "metadata": {
    "execution": {
     "iopub.execute_input": "2025-01-21T19:14:12.960060Z",
     "iopub.status.busy": "2025-01-21T19:14:12.959950Z",
     "iopub.status.idle": "2025-01-21T19:14:12.965532Z",
     "shell.execute_reply": "2025-01-21T19:14:12.965262Z"
    }
   },
   "outputs": [
    {
     "data": {
      "text/html": [
       "<div>\n",
       "<style scoped>\n",
       "    .dataframe tbody tr th:only-of-type {\n",
       "        vertical-align: middle;\n",
       "    }\n",
       "\n",
       "    .dataframe tbody tr th {\n",
       "        vertical-align: top;\n",
       "    }\n",
       "\n",
       "    .dataframe thead th {\n",
       "        text-align: right;\n",
       "    }\n",
       "</style>\n",
       "<table border=\"1\" class=\"dataframe\">\n",
       "  <thead>\n",
       "    <tr style=\"text-align: right;\">\n",
       "      <th></th>\n",
       "      <th></th>\n",
       "      <th></th>\n",
       "      <th>_count</th>\n",
       "    </tr>\n",
       "    <tr>\n",
       "      <th>uniqueID</th>\n",
       "      <th>elevatedTempNumber</th>\n",
       "      <th>elevatedTempMin</th>\n",
       "      <th></th>\n",
       "    </tr>\n",
       "  </thead>\n",
       "  <tbody>\n",
       "  </tbody>\n",
       "</table>\n",
       "</div>"
      ],
      "text/plain": [
       "Empty DataFrame\n",
       "Columns: [_count]\n",
       "Index: []"
      ]
     },
     "execution_count": 139,
     "metadata": {},
     "output_type": "execute_result"
    }
   ],
   "source": [
    "df_elevated_temperature_groupby = df_elevated_temperature.groupby(['uniqueID', 'elevatedTempNumber', 'elevatedTempMin']).agg(_count=('uniqueID', 'count'))\n",
    "\n",
    "is_invalid = df_elevated_temperature_groupby['_count'] > 1\n",
    "df_elevated_temperature_groupby[is_invalid]"
   ]
  },
  {
   "cell_type": "markdown",
   "id": "68388af2-3644-4092-ac50-a12b1f8673fd",
   "metadata": {},
   "source": [
    "### 02-11-2. check empty cells"
   ]
  },
  {
   "cell_type": "code",
   "execution_count": 140,
   "id": "8db9146f-a426-4969-9129-84ff42ea0e1b",
   "metadata": {
    "execution": {
     "iopub.execute_input": "2025-01-21T19:14:12.967022Z",
     "iopub.status.busy": "2025-01-21T19:14:12.966924Z",
     "iopub.status.idle": "2025-01-21T19:14:12.970785Z",
     "shell.execute_reply": "2025-01-21T19:14:12.970458Z"
    }
   },
   "outputs": [
    {
     "name": "stdout",
     "output_type": "stream",
     "text": [
      "(0/17) column: center (445 / 0)\n",
      "(1/17) column: subjectID (445 / 0)\n",
      "(2/17) column: uniqueID (445 / 0)\n",
      "(3/17) column: elevatedTempBath (423 / 22)\n",
      "(4/17) column: elevatedTempBlanketrol (423 / 22)\n",
      "(5/17) column: elevatedTempNumber (445 / 0)\n",
      "(6/17) column: elevatedTempMin (445 / 0)\n",
      "(7/17) column: elevatedTempDate (407 / 38)\n",
      "(8/17) column: elevatedTempTime (396 / 49)\n",
      "(9/17) column: elevatedTempSkinTemperature_C (265 / 180)\n",
      "(10/17) column: elevatedTempAxillaryTemperature_C (259 / 186)\n",
      "(11/17) column: elevatedTempEsophagealTemperature_C (299 / 146)\n",
      "(12/17) column: elevatedTempServoSet_C (225 / 220)\n",
      "(13/17) column: elevatedTempDevice (334 / 111)\n",
      "(14/17) column: elevatedTempDeviceMode (334 / 111)\n",
      "(15/17) column: elevatedTempAirTemperature_C (0 / 445)\n",
      "(16/17) column: elevatedTempNoBathReason (302 / 143)\n"
     ]
    }
   ],
   "source": [
    "COMBINE_harmonizer.check_empty(df_elevated_temperature)"
   ]
  },
  {
   "cell_type": "code",
   "execution_count": 141,
   "id": "f708deb1-b7fa-4617-9586-178e94d83234",
   "metadata": {
    "execution": {
     "iopub.execute_input": "2025-01-21T19:14:12.972044Z",
     "iopub.status.busy": "2025-01-21T19:14:12.971959Z",
     "iopub.status.idle": "2025-01-21T19:14:12.974559Z",
     "shell.execute_reply": "2025-01-21T19:14:12.974295Z"
    }
   },
   "outputs": [
    {
     "name": "stdout",
     "output_type": "stream",
     "text": [
      "(0/17) center: (445/0)\n",
      "(1/17) subjectID: (445/0)\n",
      "(2/17) uniqueID: (445/0)\n",
      "(3/17) elevatedTempBath: (423/22)\n",
      "(4/17) elevatedTempBlanketrol: (423/22)\n",
      "(5/17) elevatedTempNumber: (445/0)\n",
      "(6/17) elevatedTempMin: (445/0)\n",
      "(7/17) elevatedTempDate: (407/38)\n",
      "(8/17) elevatedTempTime: (396/49)\n",
      "(9/17) elevatedTempSkinTemperature_C: (265/180)\n",
      "(10/17) elevatedTempAxillaryTemperature_C: (259/186)\n",
      "(11/17) elevatedTempEsophagealTemperature_C: (299/146)\n",
      "(12/17) elevatedTempServoSet_C: (225/220)\n",
      "(13/17) elevatedTempDevice: (334/111)\n",
      "(14/17) elevatedTempDeviceMode: (334/111)\n",
      "(15/17) elevatedTempAirTemperature_C: (0/445)\n",
      "(16/17) elevatedTempNoBathReason: (302/143)\n"
     ]
    }
   ],
   "source": [
    "COMBINE_harmonizer.column_info(df_elevated_temperature)"
   ]
  },
  {
   "cell_type": "markdown",
   "id": "013563b7-d587-46ae-bbf5-23b7315ff327",
   "metadata": {},
   "source": [
    "## 02-12. fluctuated temperature"
   ]
  },
  {
   "cell_type": "code",
   "execution_count": 142,
   "id": "121d05d8",
   "metadata": {
    "execution": {
     "iopub.execute_input": "2025-01-21T19:14:12.975883Z",
     "iopub.status.busy": "2025-01-21T19:14:12.975799Z",
     "iopub.status.idle": "2025-01-21T19:14:12.978387Z",
     "shell.execute_reply": "2025-01-21T19:14:12.978157Z"
    }
   },
   "outputs": [
    {
     "data": {
      "text/plain": [
       "['fluctuateTempNumber',\n",
       " 'fluctuateTempMin',\n",
       " 'fluctuateTempDate',\n",
       " 'fluctuateTempTime',\n",
       " 'fluctuateTempSkinTemperature_C',\n",
       " 'fluctuateTempAxillaryTemperature_C',\n",
       " 'fluctuateTempEsophagealTemperature_C',\n",
       " 'fluctuateTempBlanketrol_C',\n",
       " 'fluctuateTempServoSet_C']"
      ]
     },
     "execution_count": 142,
     "metadata": {},
     "output_type": "execute_result"
    }
   ],
   "source": [
    "fluctuated_temperature_columns = COMBINE_harmonizer.get_columns(df_data_dict, 'Intervention', 'Fluctuated Temperature')\n",
    "all_elevated_temperature_columns = id_columns + fluctuated_temperature_columns\n",
    "fluctuated_temperature_columns"
   ]
  },
  {
   "cell_type": "code",
   "execution_count": 143,
   "id": "ba2f5a5f-30e6-4e28-b117-685ba1800995",
   "metadata": {
    "execution": {
     "iopub.execute_input": "2025-01-21T19:14:12.979577Z",
     "iopub.status.busy": "2025-01-21T19:14:12.979490Z",
     "iopub.status.idle": "2025-01-21T19:14:13.046369Z",
     "shell.execute_reply": "2025-01-21T19:14:13.046074Z"
    }
   },
   "outputs": [],
   "source": [
    "df_fluctuated_temperature = df_dict['lh06f.csv'].copy()\n",
    "df_fluctuated_temperature = COMBINE_harmonizer.valid_columns(df_fluctuated_temperature, all_elevated_temperature_columns, debug_df=True, debug_columns=True)\n",
    "df_fluctuated_temperature = COMBINE_harmonizer.postprocess(df_fluctuated_temperature)\n",
    "\n",
    "out_filename = os.sep.join([out_dir, '02-12-fluctuated-temperature.csv'])\n",
    "df_fluctuated_temperature.to_csv(out_filename, index=False)"
   ]
  },
  {
   "cell_type": "markdown",
   "id": "9e9127ac-1f05-4744-833f-6d4b7f6275ce",
   "metadata": {},
   "source": [
    "### 02-12-1. check fluctuated temperature"
   ]
  },
  {
   "cell_type": "code",
   "execution_count": 144,
   "id": "75377a34-8540-49d8-85f4-1d7be5cc844e",
   "metadata": {
    "execution": {
     "iopub.execute_input": "2025-01-21T19:14:13.047976Z",
     "iopub.status.busy": "2025-01-21T19:14:13.047873Z",
     "iopub.status.idle": "2025-01-21T19:14:13.053750Z",
     "shell.execute_reply": "2025-01-21T19:14:13.053480Z"
    }
   },
   "outputs": [
    {
     "data": {
      "text/html": [
       "<div>\n",
       "<style scoped>\n",
       "    .dataframe tbody tr th:only-of-type {\n",
       "        vertical-align: middle;\n",
       "    }\n",
       "\n",
       "    .dataframe tbody tr th {\n",
       "        vertical-align: top;\n",
       "    }\n",
       "\n",
       "    .dataframe thead th {\n",
       "        text-align: right;\n",
       "    }\n",
       "</style>\n",
       "<table border=\"1\" class=\"dataframe\">\n",
       "  <thead>\n",
       "    <tr style=\"text-align: right;\">\n",
       "      <th></th>\n",
       "      <th></th>\n",
       "      <th></th>\n",
       "      <th>_count</th>\n",
       "    </tr>\n",
       "    <tr>\n",
       "      <th>uniqueID</th>\n",
       "      <th>fluctuateTempNumber</th>\n",
       "      <th>fluctuateTempMin</th>\n",
       "      <th></th>\n",
       "    </tr>\n",
       "  </thead>\n",
       "  <tbody>\n",
       "  </tbody>\n",
       "</table>\n",
       "</div>"
      ],
      "text/plain": [
       "Empty DataFrame\n",
       "Columns: [_count]\n",
       "Index: []"
      ]
     },
     "execution_count": 144,
     "metadata": {},
     "output_type": "execute_result"
    }
   ],
   "source": [
    "df_fluctuated_temperature_groupby = df_fluctuated_temperature.groupby(['uniqueID', 'fluctuateTempNumber', 'fluctuateTempMin']).agg(_count=('uniqueID', 'count'))\n",
    "\n",
    "is_invalid = df_fluctuated_temperature_groupby['_count'] > 1\n",
    "df_fluctuated_temperature_groupby[is_invalid]"
   ]
  },
  {
   "cell_type": "markdown",
   "id": "cf7918a2-70dd-4721-8635-34feca1d387e",
   "metadata": {},
   "source": [
    "### 02-12-2. check empty cells"
   ]
  },
  {
   "cell_type": "code",
   "execution_count": 145,
   "id": "99d4c91a-610e-44fc-8ae9-5663e67f454d",
   "metadata": {
    "execution": {
     "iopub.execute_input": "2025-01-21T19:14:13.055272Z",
     "iopub.status.busy": "2025-01-21T19:14:13.055153Z",
     "iopub.status.idle": "2025-01-21T19:14:13.058056Z",
     "shell.execute_reply": "2025-01-21T19:14:13.057805Z"
    }
   },
   "outputs": [
    {
     "name": "stdout",
     "output_type": "stream",
     "text": [
      "(0/12) column: center (54 / 0)\n",
      "(1/12) column: subjectID (54 / 0)\n",
      "(2/12) column: uniqueID (54 / 0)\n",
      "(3/12) column: fluctuateTempNumber (54 / 0)\n",
      "(4/12) column: fluctuateTempMin (54 / 0)\n",
      "(5/12) column: fluctuateTempDate (54 / 0)\n",
      "(6/12) column: fluctuateTempTime (54 / 0)\n",
      "(7/12) column: fluctuateTempSkinTemperature_C (33 / 21)\n",
      "(8/12) column: fluctuateTempAxillaryTemperature_C (11 / 43)\n",
      "(9/12) column: fluctuateTempEsophagealTemperature_C (38 / 16)\n",
      "(10/12) column: fluctuateTempBlanketrol_C (39 / 15)\n",
      "(11/12) column: fluctuateTempServoSet_C (40 / 14)\n"
     ]
    }
   ],
   "source": [
    "COMBINE_harmonizer.check_empty(df_fluctuated_temperature)"
   ]
  },
  {
   "cell_type": "code",
   "execution_count": 146,
   "id": "ebb0d6d1-ad87-4ed3-a40d-a434bb9dd972",
   "metadata": {
    "execution": {
     "iopub.execute_input": "2025-01-21T19:14:13.059435Z",
     "iopub.status.busy": "2025-01-21T19:14:13.059314Z",
     "iopub.status.idle": "2025-01-21T19:14:13.061803Z",
     "shell.execute_reply": "2025-01-21T19:14:13.061538Z"
    }
   },
   "outputs": [
    {
     "name": "stdout",
     "output_type": "stream",
     "text": [
      "(0/12) center: (54/0)\n",
      "(1/12) subjectID: (54/0)\n",
      "(2/12) uniqueID: (54/0)\n",
      "(3/12) fluctuateTempNumber: (54/0)\n",
      "(4/12) fluctuateTempMin: (54/0)\n",
      "(5/12) fluctuateTempDate: (54/0)\n",
      "(6/12) fluctuateTempTime: (54/0)\n",
      "(7/12) fluctuateTempSkinTemperature_C: (33/21)\n",
      "(8/12) fluctuateTempAxillaryTemperature_C: (11/43)\n",
      "(9/12) fluctuateTempEsophagealTemperature_C: (38/16)\n",
      "(10/12) fluctuateTempBlanketrol_C: (39/15)\n",
      "(11/12) fluctuateTempServoSet_C: (40/14)\n"
     ]
    }
   ],
   "source": [
    "COMBINE_harmonizer.column_info(df_fluctuated_temperature)"
   ]
  },
  {
   "cell_type": "markdown",
   "id": "3f489a18-8905-4bc5-9033-10e60db307f4",
   "metadata": {},
   "source": [
    "## 02-13. bradycardia"
   ]
  },
  {
   "cell_type": "code",
   "execution_count": null,
   "id": "b66196ca-a654-42b1-8bc7-ae3282844b05",
   "metadata": {},
   "outputs": [],
   "source": []
  },
  {
   "cell_type": "markdown",
   "id": "dd70adbe-3775-48ec-b880-f2195246f809",
   "metadata": {},
   "source": [
    "## 02-14. adverse event"
   ]
  },
  {
   "cell_type": "code",
   "execution_count": 147,
   "id": "1f18b6af",
   "metadata": {
    "execution": {
     "iopub.execute_input": "2025-01-21T19:14:13.063371Z",
     "iopub.status.busy": "2025-01-21T19:14:13.063268Z",
     "iopub.status.idle": "2025-01-21T19:14:13.066030Z",
     "shell.execute_reply": "2025-01-21T19:14:13.065799Z"
    }
   },
   "outputs": [
    {
     "data": {
      "text/plain": [
       "['adverseEventNumber',\n",
       " 'SAECardiacExperienceOnsetDate',\n",
       " 'SAECardiacExperienceOnsetTime',\n",
       " 'SAECardiacExperienceResolveDate',\n",
       " 'SAECardiacExperienceResolveTime',\n",
       " 'SAECardiacExperienceDueToHypothermia',\n",
       " 'SAECardiacExperienceActionTaken',\n",
       " 'SAECardiacExperienceOutcome',\n",
       " 'SAECardiacExperienceComment',\n",
       " 'SAEMetabolicAcidosisOnsetDate',\n",
       " 'SAEMetabolicAcidosisOnsetTime',\n",
       " 'SAEMetabolicAcidosisResolveDate',\n",
       " 'SAEMetabolicAcidosisResolveTime',\n",
       " 'SAEMetabolicAcidosisDueToHypothermia',\n",
       " 'SAEMetabolicAcidosisActionTaken',\n",
       " 'SAEMetabolicAcidosisOutcome',\n",
       " 'SAEMetabolicAcidosisComment',\n",
       " 'SAEThrombosisExperienceOnsetDate',\n",
       " 'SAEThrombosisExperienceOnsetTime',\n",
       " 'SAEThrombosisExperienceResolveDate',\n",
       " 'SAEThrombosisExperienceResolveTime',\n",
       " 'SAEThrombosisExperienceDueToHypothermia',\n",
       " 'SAEThrombosisExperienceActionTaken',\n",
       " 'SAEThrombosisExperienceOutcome',\n",
       " 'SAEThrombosisExperienceComment',\n",
       " 'SAEBleedingExperienceOnsetDate',\n",
       " 'SAEBleedingExperienceOnsetTime',\n",
       " 'SAEBleedingExperienceResolveDate',\n",
       " 'SAEBleedingExperienceResolveTime',\n",
       " 'SAEBleedingExperienceDueToHypothermia',\n",
       " 'SAEBleedingExperienceActionTaken',\n",
       " 'SAEBleedingExperienceOutcome',\n",
       " 'SAEBleedingExperienceComment',\n",
       " 'SAEAlterationSkinIntegrity',\n",
       " 'SAEAlterationSkinIntegrityOnsetDate',\n",
       " 'SAEAlterationSkinIntegrityResolveDate',\n",
       " 'SAEAlterationSkinIntegrityDueToHypothermia',\n",
       " 'SAEAlterationSkinIntegrityActionTaken',\n",
       " 'SAEAlterationSkinIntegrityOutcome',\n",
       " 'SAEAlterationSkinIntegrityComment',\n",
       " 'SAEDeathDate',\n",
       " 'SAEDeathTime',\n",
       " 'SAEDeathDueToHypothermia',\n",
       " 'SAEDeathActionTaken',\n",
       " 'SAEDeathOutcome',\n",
       " 'SAEDeathComment',\n",
       " 'SAEOther',\n",
       " 'SAEOtherOnsetDate',\n",
       " 'SAEOtherOnsetTime',\n",
       " 'SAEOtherResolveDate',\n",
       " 'SAEOtherResolveTime',\n",
       " 'SAEOtherDueToHypothermia',\n",
       " 'SAEOtherActionTaken',\n",
       " 'SAEOtherOutcome',\n",
       " 'SAEOtherComment']"
      ]
     },
     "execution_count": 147,
     "metadata": {},
     "output_type": "execute_result"
    }
   ],
   "source": [
    "adverse_event_columns = COMBINE_harmonizer.get_columns(df_data_dict, 'Intervention', 'Adverse Event')\n",
    "all_adverse_event_columns = id_columns + adverse_event_columns\n",
    "adverse_event_columns"
   ]
  },
  {
   "cell_type": "code",
   "execution_count": 148,
   "id": "dd71fd91-e9a3-4d57-b205-859038405e40",
   "metadata": {
    "execution": {
     "iopub.execute_input": "2025-01-21T19:14:13.067318Z",
     "iopub.status.busy": "2025-01-21T19:14:13.067212Z",
     "iopub.status.idle": "2025-01-21T19:14:13.146275Z",
     "shell.execute_reply": "2025-01-21T19:14:13.145951Z"
    }
   },
   "outputs": [
    {
     "name": "stdout",
     "output_type": "stream",
     "text": [
      "(8/59) LH7INIT not in columns\n",
      "(9/59) REC_CMP not in columns\n",
      "(48/59) CMP_DATE not in columns\n",
      "(49/59) CRT_DATE not in columns\n",
      "(36/57) SAEAlterationSkinIntegrityOnsetDate not in df\n",
      "(37/57) SAEAlterationSkinIntegrityResolveDate not in df\n"
     ]
    }
   ],
   "source": [
    "df_adverse_event = df_dict['lh07.csv'].copy()\n",
    "df_adverse_event = COMBINE_harmonizer.valid_columns(df_adverse_event, all_adverse_event_columns, debug_df=True, debug_columns=True)\n",
    "df_adverse_event = COMBINE_harmonizer.postprocess(df_adverse_event)\n",
    "\n",
    "out_filename = os.sep.join([out_dir, '02-14-adverse-event.csv'])\n",
    "df_adverse_event.to_csv(out_filename, index=False)"
   ]
  },
  {
   "cell_type": "markdown",
   "id": "d4d4999f-b974-47e7-bc4a-541a2cb35b11",
   "metadata": {},
   "source": [
    "### 02-14-1. check adverse event"
   ]
  },
  {
   "cell_type": "code",
   "execution_count": 149,
   "id": "d588ead9-46d9-4efa-8774-151063361375",
   "metadata": {
    "execution": {
     "iopub.execute_input": "2025-01-21T19:14:13.148191Z",
     "iopub.status.busy": "2025-01-21T19:14:13.148029Z",
     "iopub.status.idle": "2025-01-21T19:14:13.153919Z",
     "shell.execute_reply": "2025-01-21T19:14:13.153632Z"
    }
   },
   "outputs": [
    {
     "data": {
      "text/html": [
       "<div>\n",
       "<style scoped>\n",
       "    .dataframe tbody tr th:only-of-type {\n",
       "        vertical-align: middle;\n",
       "    }\n",
       "\n",
       "    .dataframe tbody tr th {\n",
       "        vertical-align: top;\n",
       "    }\n",
       "\n",
       "    .dataframe thead th {\n",
       "        text-align: right;\n",
       "    }\n",
       "</style>\n",
       "<table border=\"1\" class=\"dataframe\">\n",
       "  <thead>\n",
       "    <tr style=\"text-align: right;\">\n",
       "      <th></th>\n",
       "      <th></th>\n",
       "      <th>_count</th>\n",
       "    </tr>\n",
       "    <tr>\n",
       "      <th>uniqueID</th>\n",
       "      <th>adverseEventNumber</th>\n",
       "      <th></th>\n",
       "    </tr>\n",
       "  </thead>\n",
       "  <tbody>\n",
       "  </tbody>\n",
       "</table>\n",
       "</div>"
      ],
      "text/plain": [
       "Empty DataFrame\n",
       "Columns: [_count]\n",
       "Index: []"
      ]
     },
     "execution_count": 149,
     "metadata": {},
     "output_type": "execute_result"
    }
   ],
   "source": [
    "df_adverse_event_groupby = df_adverse_event.groupby(['uniqueID', 'adverseEventNumber']).agg(_count=('uniqueID', 'count'))\n",
    "\n",
    "is_invalid = df_adverse_event_groupby['_count'] > 1\n",
    "df_adverse_event_groupby[is_invalid]"
   ]
  },
  {
   "cell_type": "markdown",
   "id": "422d8553-1aa9-4467-9f70-8ea595ffbe1e",
   "metadata": {},
   "source": [
    "### 02-14-2. check empty cells"
   ]
  },
  {
   "cell_type": "code",
   "execution_count": 150,
   "id": "21705d3b-c652-4117-b8ab-951f204dea0e",
   "metadata": {
    "execution": {
     "iopub.execute_input": "2025-01-21T19:14:13.155510Z",
     "iopub.status.busy": "2025-01-21T19:14:13.155384Z",
     "iopub.status.idle": "2025-01-21T19:14:13.161821Z",
     "shell.execute_reply": "2025-01-21T19:14:13.161554Z"
    }
   },
   "outputs": [
    {
     "name": "stdout",
     "output_type": "stream",
     "text": [
      "(0/56) column: center (18 / 0)\n",
      "(1/56) column: subjectID (18 / 0)\n",
      "(2/56) column: uniqueID (18 / 0)\n",
      "(3/56) column: SAECardiacExperienceComment (0 / 18)\n",
      "(4/56) column: SAEMetabolicAcidosisComment (0 / 18)\n",
      "(5/56) column: SAEThrombosisExperienceComment (0 / 18)\n",
      "(6/56) column: SAEBleedingExperienceComment (4 / 14)\n",
      "(7/56) column: SAEAlterationSkinIntegrity (2 / 16)\n",
      "(8/56) column: SAEAlterationSkinIntegrityComment (2 / 16)\n",
      "(9/56) column: SAEDeathComment (6 / 12)\n",
      "(10/56) column: adverseEventNumber (18 / 0)\n",
      "(11/56) column: SAECardiacExperienceOnsetDate (0 / 18)\n",
      "(12/56) column: SAECardiacExperienceOnsetTime (0 / 18)\n",
      "(13/56) column: SAECardiacExperienceResolveDate (0 / 18)\n",
      "(14/56) column: SAECardiacExperienceResolveTime (0 / 18)\n",
      "(15/56) column: SAECardiacExperienceActionTaken (0 / 18)\n",
      "(16/56) column: SAECardiacExperienceOutcome (0 / 18)\n",
      "(17/56) column: SAECardiacExperienceDueToHypothermia (0 / 18)\n",
      "(18/56) column: SAEMetabolicAcidosisOnsetDate (0 / 18)\n",
      "(19/56) column: SAEMetabolicAcidosisOnsetTime (0 / 18)\n",
      "(20/56) column: SAEMetabolicAcidosisResolveDate (0 / 18)\n",
      "(21/56) column: SAEMetabolicAcidosisResolveTime (0 / 18)\n",
      "(22/56) column: SAEMetabolicAcidosisActionTaken (0 / 18)\n",
      "(23/56) column: SAEMetabolicAcidosisOutcome (0 / 18)\n",
      "(24/56) column: SAEMetabolicAcidosisDueToHypothermia (0 / 18)\n",
      "(25/56) column: SAEThrombosisExperienceOnsetDate (0 / 18)\n",
      "(26/56) column: SAEThrombosisExperienceOnsetTime (0 / 18)\n",
      "(27/56) column: SAEThrombosisExperienceResolveDate (0 / 18)\n",
      "(28/56) column: SAEThrombosisExperienceResolveTime (0 / 18)\n",
      "(29/56) column: SAEThrombosisExperienceActionTaken (0 / 18)\n",
      "(30/56) column: SAEThrombosisExperienceOutcome (0 / 18)\n",
      "(31/56) column: SAEThrombosisExperienceDueToHypothermia (0 / 18)\n",
      "(32/56) column: SAEBleedingExperienceOnsetDate (5 / 13)\n",
      "(33/56) column: SAEBleedingExperienceOnsetTime (4 / 14)\n",
      "(34/56) column: SAEBleedingExperienceResolveDate (4 / 14)\n",
      "(35/56) column: SAEBleedingExperienceResolveTime (4 / 14)\n",
      "(36/56) column: SAEBleedingExperienceActionTaken (5 / 13)\n",
      "(37/56) column: SAEBleedingExperienceOutcome (5 / 13)\n",
      "(38/56) column: SAEBleedingExperienceDueToHypothermia (5 / 13)\n",
      "(39/56) column: SAEAlterationSkinIntegrityActionTaken (1 / 17)\n",
      "(40/56) column: SAEAlterationSkinIntegrityOutcome (1 / 17)\n",
      "(41/56) column: SAEAlterationSkinIntegrityDueToHypothermia (1 / 17)\n",
      "(42/56) column: SAEDeathDate (11 / 7)\n",
      "(43/56) column: SAEDeathTime (11 / 7)\n",
      "(44/56) column: SAEDeathActionTaken (11 / 7)\n",
      "(45/56) column: SAEDeathOutcome (11 / 7)\n",
      "(46/56) column: SAEDeathDueToHypothermia (11 / 7)\n",
      "(47/56) column: SAEOther (4 / 14)\n",
      "(48/56) column: SAEOtherComment (2 / 16)\n",
      "(49/56) column: SAEOtherOnsetDate (4 / 14)\n",
      "(50/56) column: SAEOtherOnsetTime (4 / 14)\n",
      "(51/56) column: SAEOtherResolveDate (1 / 17)\n",
      "(52/56) column: SAEOtherResolveTime (1 / 17)\n",
      "(53/56) column: SAEOtherActionTaken (4 / 14)\n",
      "(54/56) column: SAEOtherOutcome (4 / 14)\n",
      "(55/56) column: SAEOtherDueToHypothermia (4 / 14)\n"
     ]
    }
   ],
   "source": [
    "COMBINE_harmonizer.check_empty(df_adverse_event)"
   ]
  },
  {
   "cell_type": "code",
   "execution_count": 151,
   "id": "4e1b41ff-d52d-4f00-9a46-51d2800bce83",
   "metadata": {
    "execution": {
     "iopub.execute_input": "2025-01-21T19:14:13.163170Z",
     "iopub.status.busy": "2025-01-21T19:14:13.163072Z",
     "iopub.status.idle": "2025-01-21T19:14:13.167249Z",
     "shell.execute_reply": "2025-01-21T19:14:13.166986Z"
    }
   },
   "outputs": [
    {
     "name": "stdout",
     "output_type": "stream",
     "text": [
      "(0/56) center: (18/0)\n",
      "(1/56) subjectID: (18/0)\n",
      "(2/56) uniqueID: (18/0)\n",
      "(3/56) SAECardiacExperienceComment: (0/18)\n",
      "(4/56) SAEMetabolicAcidosisComment: (0/18)\n",
      "(5/56) SAEThrombosisExperienceComment: (0/18)\n",
      "(6/56) SAEBleedingExperienceComment: (4/14)\n",
      "(7/56) SAEAlterationSkinIntegrity: (2/16)\n",
      "(8/56) SAEAlterationSkinIntegrityComment: (2/16)\n",
      "(9/56) SAEDeathComment: (6/12)\n",
      "(10/56) adverseEventNumber: (18/0)\n",
      "(11/56) SAECardiacExperienceOnsetDate: (0/18)\n",
      "(12/56) SAECardiacExperienceOnsetTime: (0/18)\n",
      "(13/56) SAECardiacExperienceResolveDate: (0/18)\n",
      "(14/56) SAECardiacExperienceResolveTime: (0/18)\n",
      "(15/56) SAECardiacExperienceActionTaken: (0/18)\n",
      "(16/56) SAECardiacExperienceOutcome: (0/18)\n",
      "(17/56) SAECardiacExperienceDueToHypothermia: (0/18)\n",
      "(18/56) SAEMetabolicAcidosisOnsetDate: (0/18)\n",
      "(19/56) SAEMetabolicAcidosisOnsetTime: (0/18)\n",
      "(20/56) SAEMetabolicAcidosisResolveDate: (0/18)\n",
      "(21/56) SAEMetabolicAcidosisResolveTime: (0/18)\n",
      "(22/56) SAEMetabolicAcidosisActionTaken: (0/18)\n",
      "(23/56) SAEMetabolicAcidosisOutcome: (0/18)\n",
      "(24/56) SAEMetabolicAcidosisDueToHypothermia: (0/18)\n",
      "(25/56) SAEThrombosisExperienceOnsetDate: (0/18)\n",
      "(26/56) SAEThrombosisExperienceOnsetTime: (0/18)\n",
      "(27/56) SAEThrombosisExperienceResolveDate: (0/18)\n",
      "(28/56) SAEThrombosisExperienceResolveTime: (0/18)\n",
      "(29/56) SAEThrombosisExperienceActionTaken: (0/18)\n",
      "(30/56) SAEThrombosisExperienceOutcome: (0/18)\n",
      "(31/56) SAEThrombosisExperienceDueToHypothermia: (0/18)\n",
      "(32/56) SAEBleedingExperienceOnsetDate: (5/13)\n",
      "(33/56) SAEBleedingExperienceOnsetTime: (4/14)\n",
      "(34/56) SAEBleedingExperienceResolveDate: (4/14)\n",
      "(35/56) SAEBleedingExperienceResolveTime: (4/14)\n",
      "(36/56) SAEBleedingExperienceActionTaken: (5/13)\n",
      "(37/56) SAEBleedingExperienceOutcome: (5/13)\n",
      "(38/56) SAEBleedingExperienceDueToHypothermia: (5/13)\n",
      "(39/56) SAEAlterationSkinIntegrityActionTaken: (1/17)\n",
      "(40/56) SAEAlterationSkinIntegrityOutcome: (1/17)\n",
      "(41/56) SAEAlterationSkinIntegrityDueToHypothermia: (1/17)\n",
      "(42/56) SAEDeathDate: (11/7)\n",
      "(43/56) SAEDeathTime: (11/7)\n",
      "(44/56) SAEDeathActionTaken: (11/7)\n",
      "(45/56) SAEDeathOutcome: (11/7)\n",
      "(46/56) SAEDeathDueToHypothermia: (11/7)\n",
      "(47/56) SAEOther: (4/14)\n",
      "(48/56) SAEOtherComment: (2/16)\n",
      "(49/56) SAEOtherOnsetDate: (4/14)\n",
      "(50/56) SAEOtherOnsetTime: (4/14)\n",
      "(51/56) SAEOtherResolveDate: (1/17)\n",
      "(52/56) SAEOtherResolveTime: (1/17)\n",
      "(53/56) SAEOtherActionTaken: (4/14)\n",
      "(54/56) SAEOtherOutcome: (4/14)\n",
      "(55/56) SAEOtherDueToHypothermia: (4/14)\n"
     ]
    }
   ],
   "source": [
    "COMBINE_harmonizer.column_info(df_adverse_event)"
   ]
  },
  {
   "cell_type": "markdown",
   "id": "353298dc-0d11-4201-bf53-c943bb80ea72",
   "metadata": {},
   "source": [
    "## 02-15. violation"
   ]
  },
  {
   "cell_type": "code",
   "execution_count": 152,
   "id": "c1e08a23-d8f4-420c-a82d-9e713d8039f5",
   "metadata": {
    "execution": {
     "iopub.execute_input": "2025-01-21T19:14:13.168639Z",
     "iopub.status.busy": "2025-01-21T19:14:13.168540Z",
     "iopub.status.idle": "2025-01-21T19:14:13.171240Z",
     "shell.execute_reply": "2025-01-21T19:14:13.171018Z"
    }
   },
   "outputs": [
    {
     "data": {
      "text/plain": [
       "['violationNumber',\n",
       " 'violationDate',\n",
       " 'violationNature',\n",
       " 'violationTreatmentAssign',\n",
       " 'violationTreatmentReceive',\n",
       " 'violationOtherText',\n",
       " 'violationCircumstance',\n",
       " 'violationOtherCirumstanceText',\n",
       " 'violationComment']"
      ]
     },
     "execution_count": 152,
     "metadata": {},
     "output_type": "execute_result"
    }
   ],
   "source": [
    "violation_columns = COMBINE_harmonizer.get_columns(df_data_dict, 'Intervention', 'Violation')\n",
    "all_violation_columns = id_columns + violation_columns\n",
    "violation_columns"
   ]
  },
  {
   "cell_type": "code",
   "execution_count": 153,
   "id": "a84515e2",
   "metadata": {
    "execution": {
     "iopub.execute_input": "2025-01-21T19:14:13.172471Z",
     "iopub.status.busy": "2025-01-21T19:14:13.172389Z",
     "iopub.status.idle": "2025-01-21T19:14:13.240329Z",
     "shell.execute_reply": "2025-01-21T19:14:13.240030Z"
    }
   },
   "outputs": [
    {
     "name": "stdout",
     "output_type": "stream",
     "text": [
      "(4/14) LH14NAME not in columns\n",
      "(5/14) LH14INIT not in columns\n",
      "(6/14) REC_CMP not in columns\n",
      "(12/14) CMP_DATE not in columns\n",
      "(13/14) CRT_DATE not in columns\n",
      "(5/11) violationTreatmentAssign not in df\n",
      "(6/11) violationTreatmentReceive not in df\n"
     ]
    }
   ],
   "source": [
    "df_violation = df_dict['lh14.csv'].copy()\n",
    "df_violation = COMBINE_harmonizer.valid_columns(df_violation, all_violation_columns, debug_df=True, debug_columns=True)\n",
    "df_violation = COMBINE_harmonizer.postprocess(df_violation)\n",
    "\n",
    "out_filename = os.sep.join([out_dir, '02-15-violation.csv'])\n",
    "df_violation.to_csv(out_filename, index=False)"
   ]
  },
  {
   "cell_type": "markdown",
   "id": "a92846e0-3d67-4a93-8446-485215f2c736",
   "metadata": {},
   "source": [
    "### 02-15-1. check violation"
   ]
  },
  {
   "cell_type": "code",
   "execution_count": 154,
   "id": "94ba2232-d1b2-48b6-ac25-c04d45f19033",
   "metadata": {
    "execution": {
     "iopub.execute_input": "2025-01-21T19:14:13.242170Z",
     "iopub.status.busy": "2025-01-21T19:14:13.242018Z",
     "iopub.status.idle": "2025-01-21T19:14:13.247768Z",
     "shell.execute_reply": "2025-01-21T19:14:13.247442Z"
    }
   },
   "outputs": [
    {
     "data": {
      "text/html": [
       "<div>\n",
       "<style scoped>\n",
       "    .dataframe tbody tr th:only-of-type {\n",
       "        vertical-align: middle;\n",
       "    }\n",
       "\n",
       "    .dataframe tbody tr th {\n",
       "        vertical-align: top;\n",
       "    }\n",
       "\n",
       "    .dataframe thead th {\n",
       "        text-align: right;\n",
       "    }\n",
       "</style>\n",
       "<table border=\"1\" class=\"dataframe\">\n",
       "  <thead>\n",
       "    <tr style=\"text-align: right;\">\n",
       "      <th></th>\n",
       "      <th></th>\n",
       "      <th>_count</th>\n",
       "    </tr>\n",
       "    <tr>\n",
       "      <th>uniqueID</th>\n",
       "      <th>violationNumber</th>\n",
       "      <th></th>\n",
       "    </tr>\n",
       "  </thead>\n",
       "  <tbody>\n",
       "  </tbody>\n",
       "</table>\n",
       "</div>"
      ],
      "text/plain": [
       "Empty DataFrame\n",
       "Columns: [_count]\n",
       "Index: []"
      ]
     },
     "execution_count": 154,
     "metadata": {},
     "output_type": "execute_result"
    }
   ],
   "source": [
    "df_violation_groupby = df_violation.groupby(['uniqueID', 'violationNumber']).agg(_count=('uniqueID', 'count'))\n",
    "\n",
    "is_invalid = df_violation_groupby['_count'] > 1\n",
    "df_violation_groupby[is_invalid]"
   ]
  },
  {
   "cell_type": "markdown",
   "id": "1b59c5a2-7e51-4432-9e69-ab9f01fc95e7",
   "metadata": {},
   "source": [
    "### 02-15-2. check empty cells"
   ]
  },
  {
   "cell_type": "code",
   "execution_count": 155,
   "id": "dbbedbdf-24f3-4232-9cd3-b634c29a0dc2",
   "metadata": {
    "execution": {
     "iopub.execute_input": "2025-01-21T19:14:13.249350Z",
     "iopub.status.busy": "2025-01-21T19:14:13.249210Z",
     "iopub.status.idle": "2025-01-21T19:14:13.251995Z",
     "shell.execute_reply": "2025-01-21T19:14:13.251740Z"
    }
   },
   "outputs": [
    {
     "name": "stdout",
     "output_type": "stream",
     "text": [
      "(0/10) column: center (52 / 0)\n",
      "(1/10) column: subjectID (52 / 0)\n",
      "(2/10) column: uniqueID (52 / 0)\n",
      "(3/10) column: violationOtherText (36 / 16)\n",
      "(4/10) column: violationOtherCirumstanceText (41 / 11)\n",
      "(5/10) column: violationComment (34 / 18)\n",
      "(6/10) column: violationNumber (52 / 0)\n",
      "(7/10) column: violationDate (52 / 0)\n",
      "(8/10) column: violationNature (52 / 0)\n",
      "(9/10) column: violationCircumstance (52 / 0)\n"
     ]
    }
   ],
   "source": [
    "COMBINE_harmonizer.check_empty(df_violation)"
   ]
  },
  {
   "cell_type": "code",
   "execution_count": 156,
   "id": "3d567f12-e6f1-49de-b5f4-02b3f4856535",
   "metadata": {
    "execution": {
     "iopub.execute_input": "2025-01-21T19:14:13.253403Z",
     "iopub.status.busy": "2025-01-21T19:14:13.253285Z",
     "iopub.status.idle": "2025-01-21T19:14:13.255622Z",
     "shell.execute_reply": "2025-01-21T19:14:13.255374Z"
    }
   },
   "outputs": [
    {
     "name": "stdout",
     "output_type": "stream",
     "text": [
      "(0/10) center: (52/0)\n",
      "(1/10) subjectID: (52/0)\n",
      "(2/10) uniqueID: (52/0)\n",
      "(3/10) violationOtherText: (36/16)\n",
      "(4/10) violationOtherCirumstanceText: (41/11)\n",
      "(5/10) violationComment: (34/18)\n",
      "(6/10) violationNumber: (52/0)\n",
      "(7/10) violationDate: (52/0)\n",
      "(8/10) violationNature: (52/0)\n",
      "(9/10) violationCircumstance: (52/0)\n"
     ]
    }
   ],
   "source": [
    "COMBINE_harmonizer.column_info(df_violation)"
   ]
  },
  {
   "cell_type": "markdown",
   "id": "601b03f8-be9a-485d-ba52-b2586f6954aa",
   "metadata": {},
   "source": [
    "## 02-16. Interrupt"
   ]
  },
  {
   "cell_type": "code",
   "execution_count": null,
   "id": "8ac5c7cc-2d01-47af-b74c-4ecf1293a971",
   "metadata": {},
   "outputs": [],
   "source": []
  },
  {
   "cell_type": "markdown",
   "id": "bf2fa428",
   "metadata": {},
   "source": [
    "## 02-17. Discontinue"
   ]
  },
  {
   "cell_type": "code",
   "execution_count": 157,
   "id": "5b1399c6",
   "metadata": {
    "execution": {
     "iopub.execute_input": "2025-01-21T19:14:13.257240Z",
     "iopub.status.busy": "2025-01-21T19:14:13.257123Z",
     "iopub.status.idle": "2025-01-21T19:14:13.259909Z",
     "shell.execute_reply": "2025-01-21T19:14:13.259658Z"
    }
   },
   "outputs": [
    {
     "data": {
      "text/plain": [
       "['discontinueDate',\n",
       " 'discontinueTime',\n",
       " 'discontinueBeforeEndPeriod',\n",
       " 'discontinueParentsWithdraw',\n",
       " 'discontinuePhysicianWithdraw',\n",
       " 'discontinueAdverseEvent',\n",
       " 'discontinueECMO',\n",
       " 'discontinueDNR',\n",
       " 'discontinueWdrawSupport',\n",
       " 'discontinueDeath',\n",
       " 'discontinueOther',\n",
       " 'discontinueOtherText']"
      ]
     },
     "execution_count": 157,
     "metadata": {},
     "output_type": "execute_result"
    }
   ],
   "source": [
    "discontinue_columns = COMBINE_harmonizer.get_columns(df_data_dict, 'Intervention', 'Discontinue')\n",
    "all_discontinue_columns = id_columns + discontinue_columns\n",
    "discontinue_columns"
   ]
  },
  {
   "cell_type": "code",
   "execution_count": 158,
   "id": "d4b6fbf3",
   "metadata": {
    "execution": {
     "iopub.execute_input": "2025-01-21T19:14:13.261166Z",
     "iopub.status.busy": "2025-01-21T19:14:13.261061Z",
     "iopub.status.idle": "2025-01-21T19:14:13.325804Z",
     "shell.execute_reply": "2025-01-21T19:14:13.325475Z"
    }
   },
   "outputs": [
    {
     "name": "stdout",
     "output_type": "stream",
     "text": [
      "(9/14) discontinueDNR not in df\n",
      "(10/14) discontinueWdrawSupport not in df\n"
     ]
    }
   ],
   "source": [
    "df_discontinue = COMBINE_harmonizer.valid_columns(df_main, all_discontinue_columns, debug_df=False, debug_columns=True)\n",
    "df_discontinue = COMBINE_harmonizer.postprocess(df_discontinue)\n",
    "\n",
    "out_filename = os.sep.join([out_dir, '02-17-discontinue.csv'])\n",
    "df_discontinue.to_csv(out_filename, index=False)"
   ]
  },
  {
   "cell_type": "markdown",
   "id": "6aed7f6d",
   "metadata": {},
   "source": [
    "### 02-17-1. check discontinue"
   ]
  },
  {
   "cell_type": "code",
   "execution_count": 159,
   "id": "4cb24da9",
   "metadata": {
    "execution": {
     "iopub.execute_input": "2025-01-21T19:14:13.327665Z",
     "iopub.status.busy": "2025-01-21T19:14:13.327511Z",
     "iopub.status.idle": "2025-01-21T19:14:13.333230Z",
     "shell.execute_reply": "2025-01-21T19:14:13.332916Z"
    }
   },
   "outputs": [
    {
     "data": {
      "text/html": [
       "<div>\n",
       "<style scoped>\n",
       "    .dataframe tbody tr th:only-of-type {\n",
       "        vertical-align: middle;\n",
       "    }\n",
       "\n",
       "    .dataframe tbody tr th {\n",
       "        vertical-align: top;\n",
       "    }\n",
       "\n",
       "    .dataframe thead th {\n",
       "        text-align: right;\n",
       "    }\n",
       "</style>\n",
       "<table border=\"1\" class=\"dataframe\">\n",
       "  <thead>\n",
       "    <tr style=\"text-align: right;\">\n",
       "      <th></th>\n",
       "      <th>_count</th>\n",
       "    </tr>\n",
       "    <tr>\n",
       "      <th>uniqueID</th>\n",
       "      <th></th>\n",
       "    </tr>\n",
       "  </thead>\n",
       "  <tbody>\n",
       "  </tbody>\n",
       "</table>\n",
       "</div>"
      ],
      "text/plain": [
       "Empty DataFrame\n",
       "Columns: [_count]\n",
       "Index: []"
      ]
     },
     "execution_count": 159,
     "metadata": {},
     "output_type": "execute_result"
    }
   ],
   "source": [
    "df_continue_groupby = df_discontinue.groupby(['uniqueID']).agg(_count=('uniqueID', 'count'))\n",
    "\n",
    "is_invalid = df_continue_groupby['_count'] > 1\n",
    "df_continue_groupby[is_invalid]"
   ]
  },
  {
   "cell_type": "markdown",
   "id": "cfb1323e",
   "metadata": {},
   "source": [
    "### 02-17-2. check empty cells"
   ]
  },
  {
   "cell_type": "code",
   "execution_count": 160,
   "id": "17a202dc",
   "metadata": {
    "execution": {
     "iopub.execute_input": "2025-01-21T19:14:13.334788Z",
     "iopub.status.busy": "2025-01-21T19:14:13.334657Z",
     "iopub.status.idle": "2025-01-21T19:14:13.337781Z",
     "shell.execute_reply": "2025-01-21T19:14:13.337519Z"
    }
   },
   "outputs": [
    {
     "name": "stdout",
     "output_type": "stream",
     "text": [
      "(0/13) column: center (168 / 0)\n",
      "(1/13) column: subjectID (168 / 0)\n",
      "(2/13) column: uniqueID (168 / 0)\n",
      "(3/13) column: discontinueBeforeEndPeriod (168 / 0)\n",
      "(4/13) column: discontinueParentsWithdraw (23 / 145)\n",
      "(5/13) column: discontinuePhysicianWithdraw (23 / 145)\n",
      "(6/13) column: discontinueAdverseEvent (23 / 145)\n",
      "(7/13) column: discontinueECMO (23 / 145)\n",
      "(8/13) column: discontinueDeath (23 / 145)\n",
      "(9/13) column: discontinueOther (23 / 145)\n",
      "(10/13) column: discontinueOtherText (9 / 159)\n",
      "(11/13) column: discontinueDate (23 / 145)\n",
      "(12/13) column: discontinueTime (23 / 145)\n"
     ]
    }
   ],
   "source": [
    "COMBINE_harmonizer.check_empty(df_discontinue)"
   ]
  },
  {
   "cell_type": "code",
   "execution_count": 161,
   "id": "fac4a4e3",
   "metadata": {
    "execution": {
     "iopub.execute_input": "2025-01-21T19:14:13.339110Z",
     "iopub.status.busy": "2025-01-21T19:14:13.339012Z",
     "iopub.status.idle": "2025-01-21T19:14:13.341485Z",
     "shell.execute_reply": "2025-01-21T19:14:13.341216Z"
    }
   },
   "outputs": [
    {
     "name": "stdout",
     "output_type": "stream",
     "text": [
      "(0/13) center: (168/0)\n",
      "(1/13) subjectID: (168/0)\n",
      "(2/13) uniqueID: (168/0)\n",
      "(3/13) discontinueBeforeEndPeriod: (168/0)\n",
      "(4/13) discontinueParentsWithdraw: (23/145)\n",
      "(5/13) discontinuePhysicianWithdraw: (23/145)\n",
      "(6/13) discontinueAdverseEvent: (23/145)\n",
      "(7/13) discontinueECMO: (23/145)\n",
      "(8/13) discontinueDeath: (23/145)\n",
      "(9/13) discontinueOther: (23/145)\n",
      "(10/13) discontinueOtherText: (9/159)\n",
      "(11/13) discontinueDate: (23/145)\n",
      "(12/13) discontinueTime: (23/145)\n"
     ]
    }
   ],
   "source": [
    "COMBINE_harmonizer.column_info(df_discontinue)"
   ]
  },
  {
   "cell_type": "markdown",
   "id": "5d778347",
   "metadata": {},
   "source": [
    "## 04-16. Wdraw Support"
   ]
  },
  {
   "cell_type": "code",
   "execution_count": 162,
   "id": "ab8160e5",
   "metadata": {
    "execution": {
     "iopub.execute_input": "2025-01-21T19:14:13.342884Z",
     "iopub.status.busy": "2025-01-21T19:14:13.342789Z",
     "iopub.status.idle": "2025-01-21T19:14:13.345511Z",
     "shell.execute_reply": "2025-01-21T19:14:13.345275Z"
    }
   },
   "outputs": [
    {
     "data": {
      "text/plain": [
       "['wdrawSupport',\n",
       " 'wdrawSupportDate',\n",
       " 'wdrawSupportTime',\n",
       " 'wdrawSupportDiscussedWithFamily',\n",
       " 'wdrawSupportRecommendSolelyByClinicalTeam',\n",
       " 'wdrawSupportNeurologicalExam',\n",
       " 'wdrawSupportImagingStudy',\n",
       " 'wdrawSupportEEGFinding',\n",
       " 'wdrawSupportMultisystemOrganFailureOtherThanCNS',\n",
       " 'wdrawSupportBrainBloodFlowScan',\n",
       " 'wdrawSupportParentWish',\n",
       " 'wdrawSupportOther',\n",
       " 'wdrawSupportOtherText']"
      ]
     },
     "execution_count": 162,
     "metadata": {},
     "output_type": "execute_result"
    }
   ],
   "source": [
    "wdraw_support_columns = COMBINE_harmonizer.get_columns(df_data_dict, 'NICU Discharge', 'Withdrawal of Support')\n",
    "all_wdraw_support_columns = id_columns + wdraw_support_columns\n",
    "wdraw_support_columns"
   ]
  },
  {
   "cell_type": "code",
   "execution_count": 163,
   "id": "3245b099",
   "metadata": {
    "execution": {
     "iopub.execute_input": "2025-01-21T19:14:13.346752Z",
     "iopub.status.busy": "2025-01-21T19:14:13.346666Z",
     "iopub.status.idle": "2025-01-21T19:14:13.411521Z",
     "shell.execute_reply": "2025-01-21T19:14:13.411221Z"
    }
   },
   "outputs": [],
   "source": [
    "df_wdraw_support = COMBINE_harmonizer.valid_columns(df_main, all_wdraw_support_columns, debug_df=False, debug_columns=True)\n",
    "df_wdraw_support = COMBINE_harmonizer.postprocess(df_wdraw_support)\n",
    "\n",
    "out_filename = os.sep.join([out_dir, '04-16-wdraw-support.csv'])\n",
    "df_wdraw_support.to_csv(out_filename, index=False)"
   ]
  },
  {
   "cell_type": "markdown",
   "id": "0dc91452",
   "metadata": {},
   "source": [
    "### 04-16-1. check wdraw support"
   ]
  },
  {
   "cell_type": "code",
   "execution_count": 164,
   "id": "9fb48ab0",
   "metadata": {
    "execution": {
     "iopub.execute_input": "2025-01-21T19:14:13.413197Z",
     "iopub.status.busy": "2025-01-21T19:14:13.413086Z",
     "iopub.status.idle": "2025-01-21T19:14:13.418593Z",
     "shell.execute_reply": "2025-01-21T19:14:13.418315Z"
    }
   },
   "outputs": [
    {
     "data": {
      "text/html": [
       "<div>\n",
       "<style scoped>\n",
       "    .dataframe tbody tr th:only-of-type {\n",
       "        vertical-align: middle;\n",
       "    }\n",
       "\n",
       "    .dataframe tbody tr th {\n",
       "        vertical-align: top;\n",
       "    }\n",
       "\n",
       "    .dataframe thead th {\n",
       "        text-align: right;\n",
       "    }\n",
       "</style>\n",
       "<table border=\"1\" class=\"dataframe\">\n",
       "  <thead>\n",
       "    <tr style=\"text-align: right;\">\n",
       "      <th></th>\n",
       "      <th>_count</th>\n",
       "    </tr>\n",
       "    <tr>\n",
       "      <th>uniqueID</th>\n",
       "      <th></th>\n",
       "    </tr>\n",
       "  </thead>\n",
       "  <tbody>\n",
       "  </tbody>\n",
       "</table>\n",
       "</div>"
      ],
      "text/plain": [
       "Empty DataFrame\n",
       "Columns: [_count]\n",
       "Index: []"
      ]
     },
     "execution_count": 164,
     "metadata": {},
     "output_type": "execute_result"
    }
   ],
   "source": [
    "df_wdraw_support_groupby = df_wdraw_support.groupby(['uniqueID']).agg(_count=('uniqueID', 'count'))\n",
    "\n",
    "is_invalid = df_wdraw_support_groupby['_count'] > 1\n",
    "df_wdraw_support_groupby[is_invalid]"
   ]
  },
  {
   "cell_type": "markdown",
   "id": "f230b5de",
   "metadata": {},
   "source": [
    "### 04-16-2. check empty cells"
   ]
  },
  {
   "cell_type": "code",
   "execution_count": 165,
   "id": "82653982",
   "metadata": {
    "execution": {
     "iopub.execute_input": "2025-01-21T19:14:13.420179Z",
     "iopub.status.busy": "2025-01-21T19:14:13.420038Z",
     "iopub.status.idle": "2025-01-21T19:14:13.423371Z",
     "shell.execute_reply": "2025-01-21T19:14:13.423080Z"
    }
   },
   "outputs": [
    {
     "name": "stdout",
     "output_type": "stream",
     "text": [
      "(0/16) column: center (168 / 0)\n",
      "(1/16) column: subjectID (168 / 0)\n",
      "(2/16) column: uniqueID (168 / 0)\n",
      "(3/16) column: wdrawSupportDiscussedWithFamily (168 / 0)\n",
      "(4/16) column: wdrawSupportNeurologicalExam (19 / 149)\n",
      "(5/16) column: wdrawSupportImagingStudy (19 / 149)\n",
      "(6/16) column: wdrawSupportEEGFinding (19 / 149)\n",
      "(7/16) column: wdrawSupportMultisystemOrganFailureOtherThanCNS (19 / 149)\n",
      "(8/16) column: wdrawSupportBrainBloodFlowScan (19 / 149)\n",
      "(9/16) column: wdrawSupportParentWish (19 / 149)\n",
      "(10/16) column: wdrawSupportOther (19 / 149)\n",
      "(11/16) column: wdrawSupportOtherText (1 / 167)\n",
      "(12/16) column: wdrawSupport (19 / 149)\n",
      "(13/16) column: wdrawSupportRecommendSolelyByClinicalTeam (19 / 149)\n",
      "(14/16) column: wdrawSupportDate (18 / 150)\n",
      "(15/16) column: wdrawSupportTime (18 / 150)\n"
     ]
    }
   ],
   "source": [
    "COMBINE_harmonizer.check_empty(df_wdraw_support)"
   ]
  },
  {
   "cell_type": "code",
   "execution_count": 166,
   "id": "323b07b4",
   "metadata": {
    "execution": {
     "iopub.execute_input": "2025-01-21T19:14:13.424805Z",
     "iopub.status.busy": "2025-01-21T19:14:13.424704Z",
     "iopub.status.idle": "2025-01-21T19:14:13.427432Z",
     "shell.execute_reply": "2025-01-21T19:14:13.427152Z"
    }
   },
   "outputs": [
    {
     "name": "stdout",
     "output_type": "stream",
     "text": [
      "(0/16) center: (168/0)\n",
      "(1/16) subjectID: (168/0)\n",
      "(2/16) uniqueID: (168/0)\n",
      "(3/16) wdrawSupportDiscussedWithFamily: (168/0)\n",
      "(4/16) wdrawSupportNeurologicalExam: (19/149)\n",
      "(5/16) wdrawSupportImagingStudy: (19/149)\n",
      "(6/16) wdrawSupportEEGFinding: (19/149)\n",
      "(7/16) wdrawSupportMultisystemOrganFailureOtherThanCNS: (19/149)\n",
      "(8/16) wdrawSupportBrainBloodFlowScan: (19/149)\n",
      "(9/16) wdrawSupportParentWish: (19/149)\n",
      "(10/16) wdrawSupportOther: (19/149)\n",
      "(11/16) wdrawSupportOtherText: (1/167)\n",
      "(12/16) wdrawSupport: (19/149)\n",
      "(13/16) wdrawSupportRecommendSolelyByClinicalTeam: (19/149)\n",
      "(14/16) wdrawSupportDate: (18/150)\n",
      "(15/16) wdrawSupportTime: (18/150)\n"
     ]
    }
   ],
   "source": [
    "COMBINE_harmonizer.column_info(df_wdraw_support)"
   ]
  },
  {
   "cell_type": "code",
   "execution_count": null,
   "id": "f5eff588",
   "metadata": {},
   "outputs": [],
   "source": []
  },
  {
   "cell_type": "markdown",
   "id": "92e9d9b9",
   "metadata": {},
   "source": [
    "## 04-17. Limitation of Care"
   ]
  },
  {
   "cell_type": "code",
   "execution_count": 167,
   "id": "9b972c58",
   "metadata": {
    "execution": {
     "iopub.execute_input": "2025-01-21T19:14:13.428875Z",
     "iopub.status.busy": "2025-01-21T19:14:13.428785Z",
     "iopub.status.idle": "2025-01-21T19:14:13.431447Z",
     "shell.execute_reply": "2025-01-21T19:14:13.431173Z"
    }
   },
   "outputs": [
    {
     "data": {
      "text/plain": [
       "['limitCareDiscussedWithFamily',\n",
       " 'limitCareRecommendSolelyByClinicalTeam',\n",
       " 'limitCareAgreedByFamilyAndCareTeam',\n",
       " 'limitCareNoFurtherMechanicalVentilationAndIntubation',\n",
       " 'limitCareNoFurtherVentilationWithBagAndMask',\n",
       " 'limitCareNoFurtherMedicationsToSupportBP',\n",
       " 'limitCareNoFurtherChestCompression',\n",
       " 'limitCareNoFurtherEmergencyMedication',\n",
       " 'limitCareDNR',\n",
       " 'limitCareDNRDate',\n",
       " 'limitCareDNRTime']"
      ]
     },
     "execution_count": 167,
     "metadata": {},
     "output_type": "execute_result"
    }
   ],
   "source": [
    "limit_care_columns = COMBINE_harmonizer.get_columns(df_data_dict, 'NICU Discharge', 'Limitation of Care')\n",
    "all_limit_care_columns = id_columns + limit_care_columns\n",
    "limit_care_columns"
   ]
  },
  {
   "cell_type": "code",
   "execution_count": 168,
   "id": "0a92c6c4",
   "metadata": {
    "execution": {
     "iopub.execute_input": "2025-01-21T19:14:13.432712Z",
     "iopub.status.busy": "2025-01-21T19:14:13.432624Z",
     "iopub.status.idle": "2025-01-21T19:14:13.499109Z",
     "shell.execute_reply": "2025-01-21T19:14:13.498780Z"
    }
   },
   "outputs": [],
   "source": [
    "df_limit_care = COMBINE_harmonizer.valid_columns(df_main, all_limit_care_columns, debug_df=False, debug_columns=True)\n",
    "df_limit_care = COMBINE_harmonizer.postprocess(df_limit_care)\n",
    "\n",
    "out_filename = os.sep.join([out_dir, '04-17-limit-care.csv'])\n",
    "df_limit_care.to_csv(out_filename, index=False)"
   ]
  },
  {
   "cell_type": "markdown",
   "id": "0f06d337",
   "metadata": {},
   "source": [
    "### 04-17-1. check limit care"
   ]
  },
  {
   "cell_type": "code",
   "execution_count": 169,
   "id": "7844cbc1",
   "metadata": {
    "execution": {
     "iopub.execute_input": "2025-01-21T19:14:13.500846Z",
     "iopub.status.busy": "2025-01-21T19:14:13.500723Z",
     "iopub.status.idle": "2025-01-21T19:14:13.506315Z",
     "shell.execute_reply": "2025-01-21T19:14:13.506007Z"
    }
   },
   "outputs": [
    {
     "data": {
      "text/html": [
       "<div>\n",
       "<style scoped>\n",
       "    .dataframe tbody tr th:only-of-type {\n",
       "        vertical-align: middle;\n",
       "    }\n",
       "\n",
       "    .dataframe tbody tr th {\n",
       "        vertical-align: top;\n",
       "    }\n",
       "\n",
       "    .dataframe thead th {\n",
       "        text-align: right;\n",
       "    }\n",
       "</style>\n",
       "<table border=\"1\" class=\"dataframe\">\n",
       "  <thead>\n",
       "    <tr style=\"text-align: right;\">\n",
       "      <th></th>\n",
       "      <th>_count</th>\n",
       "    </tr>\n",
       "    <tr>\n",
       "      <th>uniqueID</th>\n",
       "      <th></th>\n",
       "    </tr>\n",
       "  </thead>\n",
       "  <tbody>\n",
       "  </tbody>\n",
       "</table>\n",
       "</div>"
      ],
      "text/plain": [
       "Empty DataFrame\n",
       "Columns: [_count]\n",
       "Index: []"
      ]
     },
     "execution_count": 169,
     "metadata": {},
     "output_type": "execute_result"
    }
   ],
   "source": [
    "df_limit_care_groupby = df_limit_care.groupby(['uniqueID']).agg(_count=('uniqueID', 'count'))\n",
    "\n",
    "is_invalid = df_limit_care_groupby['_count'] > 1\n",
    "df_limit_care_groupby[is_invalid]"
   ]
  },
  {
   "cell_type": "markdown",
   "id": "6390c3d3",
   "metadata": {},
   "source": [
    "### 04-17-2. check empty cells"
   ]
  },
  {
   "cell_type": "code",
   "execution_count": 170,
   "id": "63e3d4fe",
   "metadata": {
    "execution": {
     "iopub.execute_input": "2025-01-21T19:14:13.507999Z",
     "iopub.status.busy": "2025-01-21T19:14:13.507853Z",
     "iopub.status.idle": "2025-01-21T19:14:13.511264Z",
     "shell.execute_reply": "2025-01-21T19:14:13.510964Z"
    }
   },
   "outputs": [
    {
     "name": "stdout",
     "output_type": "stream",
     "text": [
      "(0/14) column: center (168 / 0)\n",
      "(1/14) column: subjectID (168 / 0)\n",
      "(2/14) column: uniqueID (168 / 0)\n",
      "(3/14) column: limitCareDiscussedWithFamily (168 / 0)\n",
      "(4/14) column: limitCareAgreedByFamilyAndCareTeam (13 / 155)\n",
      "(5/14) column: limitCareNoFurtherMechanicalVentilationAndIntubation (13 / 155)\n",
      "(6/14) column: limitCareNoFurtherVentilationWithBagAndMask (13 / 155)\n",
      "(7/14) column: limitCareNoFurtherMedicationsToSupportBP (13 / 155)\n",
      "(8/14) column: limitCareNoFurtherChestCompression (13 / 155)\n",
      "(9/14) column: limitCareNoFurtherEmergencyMedication (13 / 155)\n",
      "(10/14) column: limitCareDNR (168 / 0)\n",
      "(11/14) column: limitCareRecommendSolelyByClinicalTeam (14 / 154)\n",
      "(12/14) column: limitCareDNRDate (15 / 153)\n",
      "(13/14) column: limitCareDNRTime (15 / 153)\n"
     ]
    }
   ],
   "source": [
    "COMBINE_harmonizer.check_empty(df_limit_care)"
   ]
  },
  {
   "cell_type": "code",
   "execution_count": 171,
   "id": "279ffebd",
   "metadata": {
    "execution": {
     "iopub.execute_input": "2025-01-21T19:14:13.512602Z",
     "iopub.status.busy": "2025-01-21T19:14:13.512509Z",
     "iopub.status.idle": "2025-01-21T19:14:13.514951Z",
     "shell.execute_reply": "2025-01-21T19:14:13.514691Z"
    }
   },
   "outputs": [
    {
     "name": "stdout",
     "output_type": "stream",
     "text": [
      "(0/14) center: (168/0)\n",
      "(1/14) subjectID: (168/0)\n",
      "(2/14) uniqueID: (168/0)\n",
      "(3/14) limitCareDiscussedWithFamily: (168/0)\n",
      "(4/14) limitCareAgreedByFamilyAndCareTeam: (13/155)\n",
      "(5/14) limitCareNoFurtherMechanicalVentilationAndIntubation: (13/155)\n",
      "(6/14) limitCareNoFurtherVentilationWithBagAndMask: (13/155)\n",
      "(7/14) limitCareNoFurtherMedicationsToSupportBP: (13/155)\n",
      "(8/14) limitCareNoFurtherChestCompression: (13/155)\n",
      "(9/14) limitCareNoFurtherEmergencyMedication: (13/155)\n",
      "(10/14) limitCareDNR: (168/0)\n",
      "(11/14) limitCareRecommendSolelyByClinicalTeam: (14/154)\n",
      "(12/14) limitCareDNRDate: (15/153)\n",
      "(13/14) limitCareDNRTime: (15/153)\n"
     ]
    }
   ],
   "source": [
    "COMBINE_harmonizer.column_info(df_limit_care)"
   ]
  },
  {
   "cell_type": "markdown",
   "id": "bfa66b49",
   "metadata": {},
   "source": [
    "## 04-01. Status"
   ]
  },
  {
   "cell_type": "code",
   "execution_count": 172,
   "id": "a35cf672",
   "metadata": {
    "execution": {
     "iopub.execute_input": "2025-01-21T19:14:13.516403Z",
     "iopub.status.busy": "2025-01-21T19:14:13.516305Z",
     "iopub.status.idle": "2025-01-21T19:14:13.519063Z",
     "shell.execute_reply": "2025-01-21T19:14:13.518830Z"
    }
   },
   "outputs": [
    {
     "data": {
      "text/plain": [
       "['status',\n",
       " 'statusDate',\n",
       " 'dischargeStatus',\n",
       " 'dischargeDate',\n",
       " 'dischargeWeight_g',\n",
       " 'dischargeLength_cm',\n",
       " 'dischargeHeadCircumference_cm',\n",
       " 'transferReason',\n",
       " 'transferDate',\n",
       " 'transferWeight_g',\n",
       " 'transferLength_cm',\n",
       " 'transferHeadCircumference_cm',\n",
       " 'transferOutcome',\n",
       " 'homeTherapyStatus',\n",
       " 'homeTherapyVentilator',\n",
       " 'homeTherapyOxygen',\n",
       " 'homeTherapyGavageTubeFeed',\n",
       " 'homeTherapyGastrostomyTubeFeed',\n",
       " 'homeTherapyTemperatureBlanket',\n",
       " 'homeTherapyAnticonvulsantMedication',\n",
       " 'homeTherapyOther',\n",
       " 'homeTherapyOtherText',\n",
       " 'deathDate',\n",
       " 'deathTime',\n",
       " 'deathAutopsy',\n",
       " 'deathCause',\n",
       " 'deathCauseText',\n",
       " 'deathSrc']"
      ]
     },
     "execution_count": 172,
     "metadata": {},
     "output_type": "execute_result"
    }
   ],
   "source": [
    "status_columns = COMBINE_harmonizer.get_columns(df_data_dict, 'NICU Discharge', 'Status')\n",
    "all_status_columns = id_columns + status_columns\n",
    "status_columns"
   ]
  },
  {
   "cell_type": "code",
   "execution_count": 173,
   "id": "261e7438",
   "metadata": {
    "execution": {
     "iopub.execute_input": "2025-01-21T19:14:13.520299Z",
     "iopub.status.busy": "2025-01-21T19:14:13.520210Z",
     "iopub.status.idle": "2025-01-21T19:14:13.522660Z",
     "shell.execute_reply": "2025-01-21T19:14:13.522420Z"
    }
   },
   "outputs": [
    {
     "name": "stdout",
     "output_type": "stream",
     "text": [
      "(3/30) statusDate not in df\n"
     ]
    }
   ],
   "source": [
    "df_status = COMBINE_harmonizer.valid_columns(df_main, all_status_columns, debug_df=False, debug_columns=True)\n"
   ]
  },
  {
   "cell_type": "code",
   "execution_count": 174,
   "id": "09b1527b",
   "metadata": {
    "execution": {
     "iopub.execute_input": "2025-01-21T19:14:13.523885Z",
     "iopub.status.busy": "2025-01-21T19:14:13.523801Z",
     "iopub.status.idle": "2025-01-21T19:14:13.526115Z",
     "shell.execute_reply": "2025-01-21T19:14:13.525864Z"
    }
   },
   "outputs": [
    {
     "data": {
      "text/plain": [
       "array(['1', '4', '2'], dtype=object)"
      ]
     },
     "execution_count": 174,
     "metadata": {},
     "output_type": "execute_result"
    }
   ],
   "source": [
    "df_status['status'].unique()"
   ]
  },
  {
   "cell_type": "code",
   "execution_count": 175,
   "id": "72593764",
   "metadata": {
    "execution": {
     "iopub.execute_input": "2025-01-21T19:14:13.527368Z",
     "iopub.status.busy": "2025-01-21T19:14:13.527283Z",
     "iopub.status.idle": "2025-01-21T19:14:13.598209Z",
     "shell.execute_reply": "2025-01-21T19:14:13.597909Z"
    }
   },
   "outputs": [],
   "source": [
    "# statusDate\n",
    "is_discharge = df_status['status'].isin(['1', '1.0'])\n",
    "df_status.loc[is_discharge, 'statusDate'] = df_status.loc[is_discharge, 'dischargeDate']\n",
    "\n",
    "is_transfer = df_status['status'].isin(['2', '2.0', '3', '3.0'])\n",
    "df_status.loc[is_transfer, 'statusDate'] = df_status.loc[is_transfer, 'transferDate']\n",
    "\n",
    "is_died = df_status['status'].isin(['4', '4.0'])\n",
    "df_status.loc[is_died, 'statusDate'] = df_status.loc[is_died, 'deathDate']\n",
    "\n",
    "df_status = COMBINE_harmonizer.postprocess(df_status)\n",
    "\n",
    "out_filename = os.sep.join([out_dir, '04-01-status.csv'])\n",
    "df_status.to_csv(out_filename, index=False)"
   ]
  },
  {
   "cell_type": "markdown",
   "id": "566a10ec",
   "metadata": {},
   "source": [
    "### 04-01-2. check empty cells"
   ]
  },
  {
   "cell_type": "code",
   "execution_count": 176,
   "id": "90ba7908",
   "metadata": {
    "execution": {
     "iopub.execute_input": "2025-01-21T19:14:13.599830Z",
     "iopub.status.busy": "2025-01-21T19:14:13.599715Z",
     "iopub.status.idle": "2025-01-21T19:14:13.604801Z",
     "shell.execute_reply": "2025-01-21T19:14:13.604541Z"
    }
   },
   "outputs": [
    {
     "name": "stdout",
     "output_type": "stream",
     "text": [
      "(0/31) column: center (168 / 0)\n",
      "(1/31) column: subjectID (168 / 0)\n",
      "(2/31) column: uniqueID (168 / 0)\n",
      "(3/31) column: homeTherapyStatus (15 / 153)\n",
      "(4/31) column: homeTherapyVentilator (13 / 155)\n",
      "(5/31) column: homeTherapyOxygen (13 / 155)\n",
      "(6/31) column: homeTherapyGavageTubeFeed (13 / 155)\n",
      "(7/31) column: homeTherapyGastrostomyTubeFeed (13 / 155)\n",
      "(8/31) column: homeTherapyTemperatureBlanket (13 / 155)\n",
      "(9/31) column: homeTherapyAnticonvulsantMedication (13 / 155)\n",
      "(10/31) column: homeTherapyOther (13 / 155)\n",
      "(11/31) column: homeTherapyOtherText (1 / 167)\n",
      "(12/31) column: deathAutopsy (16 / 152)\n",
      "(13/31) column: deathCauseText (3 / 165)\n",
      "(14/31) column: status (168 / 0)\n",
      "(15/31) column: dischargeDate (136 / 32)\n",
      "(16/31) column: dischargeWeight_g (136 / 32)\n",
      "(17/31) column: dischargeLength_cm (126 / 42)\n",
      "(18/31) column: dischargeHeadCircumference_cm (128 / 40)\n",
      "(19/31) column: transferReason (16 / 152)\n",
      "(20/31) column: transferDate (16 / 152)\n",
      "(21/31) column: transferWeight_g (16 / 152)\n",
      "(22/31) column: transferLength_cm (13 / 155)\n",
      "(23/31) column: transferHeadCircumference_cm (13 / 155)\n",
      "(24/31) column: transferOutcome (15 / 153)\n",
      "(25/31) column: deathDate (16 / 152)\n",
      "(26/31) column: deathTime (16 / 152)\n",
      "(27/31) column: deathCause (16 / 152)\n",
      "(28/31) column: deathSrc (16 / 152)\n",
      "(29/31) column: dischargeStatus (168 / 0)\n",
      "(30/31) column: statusDate (168 / 0)\n"
     ]
    }
   ],
   "source": [
    "COMBINE_harmonizer.check_empty(df_status)"
   ]
  },
  {
   "cell_type": "code",
   "execution_count": 177,
   "id": "b749133f",
   "metadata": {
    "execution": {
     "iopub.execute_input": "2025-01-21T19:14:13.606241Z",
     "iopub.status.busy": "2025-01-21T19:14:13.606138Z",
     "iopub.status.idle": "2025-01-21T19:14:13.609556Z",
     "shell.execute_reply": "2025-01-21T19:14:13.609301Z"
    }
   },
   "outputs": [
    {
     "name": "stdout",
     "output_type": "stream",
     "text": [
      "(0/31) center: (168/0)\n",
      "(1/31) subjectID: (168/0)\n",
      "(2/31) uniqueID: (168/0)\n",
      "(3/31) homeTherapyStatus: (15/153)\n",
      "(4/31) homeTherapyVentilator: (13/155)\n",
      "(5/31) homeTherapyOxygen: (13/155)\n",
      "(6/31) homeTherapyGavageTubeFeed: (13/155)\n",
      "(7/31) homeTherapyGastrostomyTubeFeed: (13/155)\n",
      "(8/31) homeTherapyTemperatureBlanket: (13/155)\n",
      "(9/31) homeTherapyAnticonvulsantMedication: (13/155)\n",
      "(10/31) homeTherapyOther: (13/155)\n",
      "(11/31) homeTherapyOtherText: (1/167)\n",
      "(12/31) deathAutopsy: (16/152)\n",
      "(13/31) deathCauseText: (3/165)\n",
      "(14/31) status: (168/0)\n",
      "(15/31) dischargeDate: (136/32)\n",
      "(16/31) dischargeWeight_g: (136/32)\n",
      "(17/31) dischargeLength_cm: (126/42)\n",
      "(18/31) dischargeHeadCircumference_cm: (128/40)\n",
      "(19/31) transferReason: (16/152)\n",
      "(20/31) transferDate: (16/152)\n",
      "(21/31) transferWeight_g: (16/152)\n",
      "(22/31) transferLength_cm: (13/155)\n",
      "(23/31) transferHeadCircumference_cm: (13/155)\n",
      "(24/31) transferOutcome: (15/153)\n",
      "(25/31) deathDate: (16/152)\n",
      "(26/31) deathTime: (16/152)\n",
      "(27/31) deathCause: (16/152)\n",
      "(28/31) deathSrc: (16/152)\n",
      "(29/31) dischargeStatus: (168/0)\n",
      "(30/31) statusDate: (168/0)\n"
     ]
    }
   ],
   "source": [
    "COMBINE_harmonizer.column_info(df_status)"
   ]
  },
  {
   "cell_type": "markdown",
   "id": "518a5ecf",
   "metadata": {},
   "source": [
    "## 04-02. Discharge Neuro Exam"
   ]
  },
  {
   "cell_type": "code",
   "execution_count": 178,
   "id": "e901b8b2",
   "metadata": {
    "execution": {
     "iopub.execute_input": "2025-01-21T19:14:13.610999Z",
     "iopub.status.busy": "2025-01-21T19:14:13.610901Z",
     "iopub.status.idle": "2025-01-21T19:14:13.613779Z",
     "shell.execute_reply": "2025-01-21T19:14:13.613514Z"
    }
   },
   "outputs": [
    {
     "data": {
      "text/plain": [
       "['dischargeNeuroExam',\n",
       " 'dischargeNeuroExamStatus',\n",
       " 'dischargeNeuroExamDate',\n",
       " 'dischargeNeuroExamTime',\n",
       " 'dischargeNeuroExamLevelConsciousness',\n",
       " 'dischargeNeuroExamSpontaneousActivity',\n",
       " 'dischargeNeuroExamPosture',\n",
       " 'dischargeNeuroExamTone',\n",
       " 'dischargeNeuroExamSuck',\n",
       " 'dischargeNeuroExamMoro',\n",
       " 'dischargeNeuroExamPupils',\n",
       " 'dischargeNeuroExamHeartRate',\n",
       " 'dischargeNeuroExamRespiration',\n",
       " 'dischargeNeuroExamSeizure',\n",
       " 'dischargeNeuroExamClonusSustained',\n",
       " 'dischargeNeuroExamFistedHand',\n",
       " 'dischargeNeuroExamAbnormalMovement',\n",
       " 'dischargeNeuroExamGagReflexAbsent',\n",
       " 'dischargeNeuroExamSedate',\n",
       " 'dischargeNeuroExamHypertonia',\n",
       " 'dischargeNeuroExamAsymTonicNeckReflex']"
      ]
     },
     "execution_count": 178,
     "metadata": {},
     "output_type": "execute_result"
    }
   ],
   "source": [
    "discharge_neuro_exam_columns = COMBINE_harmonizer.get_columns(df_data_dict, 'NICU Discharge', 'Neuro Exam')\n",
    "all_discharge_neuro_exam_columns = id_columns + discharge_neuro_exam_columns\n",
    "discharge_neuro_exam_columns"
   ]
  },
  {
   "cell_type": "code",
   "execution_count": 179,
   "id": "4fa942e2",
   "metadata": {
    "execution": {
     "iopub.execute_input": "2025-01-21T19:14:13.615136Z",
     "iopub.status.busy": "2025-01-21T19:14:13.615047Z",
     "iopub.status.idle": "2025-01-21T19:14:13.686718Z",
     "shell.execute_reply": "2025-01-21T19:14:13.686364Z"
    }
   },
   "outputs": [
    {
     "name": "stdout",
     "output_type": "stream",
     "text": [
      "(2/23) dischargeNeuroExam not in df\n",
      "(3/23) dischargeNeuroExamStatus not in df\n",
      "(20/23) dischargeNeuroExamSedate not in df\n",
      "(22/23) dischargeNeuroExamAsymTonicNeckReflex not in df\n"
     ]
    }
   ],
   "source": [
    "df_discharge_neuro_exam = COMBINE_harmonizer.valid_columns(df_main, all_discharge_neuro_exam_columns, debug_df=False, debug_columns=True)\n",
    "df_discharge_neuro_exam = COMBINE_harmonizer.postprocess(df_discharge_neuro_exam)\n",
    "\n",
    "out_filename = os.sep.join([out_dir, '04-02-neuro-exam.csv'])\n",
    "df_discharge_neuro_exam.to_csv(out_filename, index=False)"
   ]
  },
  {
   "cell_type": "markdown",
   "id": "8d9f6105",
   "metadata": {},
   "source": [
    "### 04-02-2. check empty cells"
   ]
  },
  {
   "cell_type": "code",
   "execution_count": 180,
   "id": "61e3d9cf",
   "metadata": {
    "execution": {
     "iopub.execute_input": "2025-01-21T19:14:13.688566Z",
     "iopub.status.busy": "2025-01-21T19:14:13.688418Z",
     "iopub.status.idle": "2025-01-21T19:14:13.692696Z",
     "shell.execute_reply": "2025-01-21T19:14:13.692423Z"
    }
   },
   "outputs": [
    {
     "name": "stdout",
     "output_type": "stream",
     "text": [
      "(0/20) column: center (168 / 0)\n",
      "(1/20) column: subjectID (168 / 0)\n",
      "(2/20) column: uniqueID (168 / 0)\n",
      "(3/20) column: dischargeNeuroExamSeizure (163 / 5)\n",
      "(4/20) column: dischargeNeuroExamHypertonia (163 / 5)\n",
      "(5/20) column: dischargeNeuroExamClonusSustained (163 / 5)\n",
      "(6/20) column: dischargeNeuroExamFistedHand (163 / 5)\n",
      "(7/20) column: dischargeNeuroExamAbnormalMovement (163 / 5)\n",
      "(8/20) column: dischargeNeuroExamGagReflexAbsent (163 / 5)\n",
      "(9/20) column: dischargeNeuroExamDate (157 / 11)\n",
      "(10/20) column: dischargeNeuroExamTime (153 / 15)\n",
      "(11/20) column: dischargeNeuroExamLevelConsciousness (157 / 11)\n",
      "(12/20) column: dischargeNeuroExamSpontaneousActivity (157 / 11)\n",
      "(13/20) column: dischargeNeuroExamPosture (157 / 11)\n",
      "(14/20) column: dischargeNeuroExamTone (129 / 39)\n",
      "(15/20) column: dischargeNeuroExamSuck (157 / 11)\n",
      "(16/20) column: dischargeNeuroExamMoro (155 / 13)\n",
      "(17/20) column: dischargeNeuroExamPupils (156 / 12)\n",
      "(18/20) column: dischargeNeuroExamHeartRate (153 / 15)\n",
      "(19/20) column: dischargeNeuroExamRespiration (157 / 11)\n"
     ]
    }
   ],
   "source": [
    "COMBINE_harmonizer.check_empty(df_discharge_neuro_exam)"
   ]
  },
  {
   "cell_type": "code",
   "execution_count": 181,
   "id": "57e612ad",
   "metadata": {
    "execution": {
     "iopub.execute_input": "2025-01-21T19:14:13.694155Z",
     "iopub.status.busy": "2025-01-21T19:14:13.694053Z",
     "iopub.status.idle": "2025-01-21T19:14:13.696969Z",
     "shell.execute_reply": "2025-01-21T19:14:13.696722Z"
    }
   },
   "outputs": [
    {
     "name": "stdout",
     "output_type": "stream",
     "text": [
      "(0/20) center: (168/0)\n",
      "(1/20) subjectID: (168/0)\n",
      "(2/20) uniqueID: (168/0)\n",
      "(3/20) dischargeNeuroExamSeizure: (163/5)\n",
      "(4/20) dischargeNeuroExamHypertonia: (163/5)\n",
      "(5/20) dischargeNeuroExamClonusSustained: (163/5)\n",
      "(6/20) dischargeNeuroExamFistedHand: (163/5)\n",
      "(7/20) dischargeNeuroExamAbnormalMovement: (163/5)\n",
      "(8/20) dischargeNeuroExamGagReflexAbsent: (163/5)\n",
      "(9/20) dischargeNeuroExamDate: (157/11)\n",
      "(10/20) dischargeNeuroExamTime: (153/15)\n",
      "(11/20) dischargeNeuroExamLevelConsciousness: (157/11)\n",
      "(12/20) dischargeNeuroExamSpontaneousActivity: (157/11)\n",
      "(13/20) dischargeNeuroExamPosture: (157/11)\n",
      "(14/20) dischargeNeuroExamTone: (129/39)\n",
      "(15/20) dischargeNeuroExamSuck: (157/11)\n",
      "(16/20) dischargeNeuroExamMoro: (155/13)\n",
      "(17/20) dischargeNeuroExamPupils: (156/12)\n",
      "(18/20) dischargeNeuroExamHeartRate: (153/15)\n",
      "(19/20) dischargeNeuroExamRespiration: (157/11)\n"
     ]
    }
   ],
   "source": [
    "COMBINE_harmonizer.column_info(df_discharge_neuro_exam)"
   ]
  },
  {
   "cell_type": "markdown",
   "id": "4280e63f",
   "metadata": {},
   "source": [
    "## 04-03. Discharge Cardiovascular"
   ]
  },
  {
   "cell_type": "code",
   "execution_count": 182,
   "id": "720d4ef7",
   "metadata": {
    "execution": {
     "iopub.execute_input": "2025-01-21T19:14:13.698424Z",
     "iopub.status.busy": "2025-01-21T19:14:13.698302Z",
     "iopub.status.idle": "2025-01-21T19:14:13.701136Z",
     "shell.execute_reply": "2025-01-21T19:14:13.700880Z"
    }
   },
   "outputs": [
    {
     "data": {
      "text/plain": [
       "['dischargeCardiomegaly',\n",
       " 'dischargeCardiacFailure',\n",
       " 'dischargeCardiacDysfunctionByEcho',\n",
       " 'dischargeCardiacIschemiaByEKG',\n",
       " 'dischargeHypotension',\n",
       " 'dischargeArrhythmia']"
      ]
     },
     "execution_count": 182,
     "metadata": {},
     "output_type": "execute_result"
    }
   ],
   "source": [
    "discharge_cardiovascular_columns = COMBINE_harmonizer.get_columns(df_data_dict, 'NICU Discharge', 'Cardiovascular')\n",
    "all_discharge_cardiovascular_columns = id_columns + discharge_cardiovascular_columns\n",
    "discharge_cardiovascular_columns"
   ]
  },
  {
   "cell_type": "code",
   "execution_count": 183,
   "id": "7bd94c56",
   "metadata": {
    "execution": {
     "iopub.execute_input": "2025-01-21T19:14:13.702587Z",
     "iopub.status.busy": "2025-01-21T19:14:13.702455Z",
     "iopub.status.idle": "2025-01-21T19:14:13.768349Z",
     "shell.execute_reply": "2025-01-21T19:14:13.768023Z"
    }
   },
   "outputs": [],
   "source": [
    "df_discharge_cardiovascular = COMBINE_harmonizer.valid_columns(df_main, all_discharge_cardiovascular_columns, debug_df=False, debug_columns=True)\n",
    "df_discharge_cardiovascular = COMBINE_harmonizer.postprocess(df_discharge_cardiovascular)\n",
    "\n",
    "out_filename = os.sep.join([out_dir, '04-03-cardiovascular.csv'])\n",
    "df_discharge_cardiovascular.to_csv(out_filename, index=False)"
   ]
  },
  {
   "cell_type": "markdown",
   "id": "71ef29c5",
   "metadata": {},
   "source": [
    "### 04-03-2. check empty cells"
   ]
  },
  {
   "cell_type": "code",
   "execution_count": 184,
   "id": "2bad7a2f",
   "metadata": {
    "execution": {
     "iopub.execute_input": "2025-01-21T19:14:13.770100Z",
     "iopub.status.busy": "2025-01-21T19:14:13.769975Z",
     "iopub.status.idle": "2025-01-21T19:14:13.773015Z",
     "shell.execute_reply": "2025-01-21T19:14:13.772733Z"
    }
   },
   "outputs": [
    {
     "name": "stdout",
     "output_type": "stream",
     "text": [
      "(0/9) column: center (168 / 0)\n",
      "(1/9) column: subjectID (168 / 0)\n",
      "(2/9) column: uniqueID (168 / 0)\n",
      "(3/9) column: dischargeCardiomegaly (168 / 0)\n",
      "(4/9) column: dischargeCardiacFailure (168 / 0)\n",
      "(5/9) column: dischargeCardiacDysfunctionByEcho (168 / 0)\n",
      "(6/9) column: dischargeCardiacIschemiaByEKG (168 / 0)\n",
      "(7/9) column: dischargeHypotension (168 / 0)\n",
      "(8/9) column: dischargeArrhythmia (168 / 0)\n"
     ]
    }
   ],
   "source": [
    "COMBINE_harmonizer.check_empty(df_discharge_cardiovascular)"
   ]
  },
  {
   "cell_type": "code",
   "execution_count": 185,
   "id": "60f77fa8",
   "metadata": {
    "execution": {
     "iopub.execute_input": "2025-01-21T19:14:13.774549Z",
     "iopub.status.busy": "2025-01-21T19:14:13.774406Z",
     "iopub.status.idle": "2025-01-21T19:14:13.776869Z",
     "shell.execute_reply": "2025-01-21T19:14:13.776598Z"
    }
   },
   "outputs": [
    {
     "name": "stdout",
     "output_type": "stream",
     "text": [
      "(0/9) center: (168/0)\n",
      "(1/9) subjectID: (168/0)\n",
      "(2/9) uniqueID: (168/0)\n",
      "(3/9) dischargeCardiomegaly: (168/0)\n",
      "(4/9) dischargeCardiacFailure: (168/0)\n",
      "(5/9) dischargeCardiacDysfunctionByEcho: (168/0)\n",
      "(6/9) dischargeCardiacIschemiaByEKG: (168/0)\n",
      "(7/9) dischargeHypotension: (168/0)\n",
      "(8/9) dischargeArrhythmia: (168/0)\n"
     ]
    }
   ],
   "source": [
    "COMBINE_harmonizer.column_info(df_discharge_cardiovascular)"
   ]
  },
  {
   "cell_type": "markdown",
   "id": "194b312c",
   "metadata": {},
   "source": [
    "## 04-04. Discharge Respiratory"
   ]
  },
  {
   "cell_type": "code",
   "execution_count": 186,
   "id": "40a1a51d",
   "metadata": {
    "execution": {
     "iopub.execute_input": "2025-01-21T19:14:13.778413Z",
     "iopub.status.busy": "2025-01-21T19:14:13.778293Z",
     "iopub.status.idle": "2025-01-21T19:14:13.781212Z",
     "shell.execute_reply": "2025-01-21T19:14:13.780918Z"
    }
   },
   "outputs": [
    {
     "data": {
      "text/plain": [
       "['dischargeMeconiumAspirationSyndrome',\n",
       " 'dischargePPHN',\n",
       " 'dischargePulmonaryHemorrhage',\n",
       " 'dischargePenumonia',\n",
       " 'dischargeChronicLungDisease',\n",
       " 'dischargeECMO',\n",
       " 'dischargeINO',\n",
       " 'dischargeVentilator_day',\n",
       " 'dischargeOxygen_day',\n",
       " 'dischargeCPAP_day',\n",
       " 'dischargePulmonaryStartDate1',\n",
       " 'dischargePulmonaryStartTime1',\n",
       " 'dischargePulmonaryEndDate1',\n",
       " 'dischargePulmonaryEndTime1',\n",
       " 'dischargePulmonaryStartDate2',\n",
       " 'dischargePulmonaryStartTime2',\n",
       " 'dischargePulmonaryEndDate2',\n",
       " 'dischargePulmonaryEndTime2',\n",
       " 'dischargePulmonaryStartDate3',\n",
       " 'dischargePulmonaryStartTime3',\n",
       " 'dischargePulmonaryEndDate3',\n",
       " 'dischargePulmonaryEndTime3']"
      ]
     },
     "execution_count": 186,
     "metadata": {},
     "output_type": "execute_result"
    }
   ],
   "source": [
    "discharge_respiratory_columns = COMBINE_harmonizer.get_columns(df_data_dict, 'NICU Discharge', 'Respiratory')\n",
    "all_discharge_respiratory_columns = id_columns + discharge_respiratory_columns\n",
    "discharge_respiratory_columns"
   ]
  },
  {
   "cell_type": "code",
   "execution_count": 187,
   "id": "2a448180",
   "metadata": {
    "execution": {
     "iopub.execute_input": "2025-01-21T19:14:13.782560Z",
     "iopub.status.busy": "2025-01-21T19:14:13.782442Z",
     "iopub.status.idle": "2025-01-21T19:14:13.848671Z",
     "shell.execute_reply": "2025-01-21T19:14:13.848303Z"
    }
   },
   "outputs": [],
   "source": [
    "df_discharge_respiratory = COMBINE_harmonizer.valid_columns(df_main, all_discharge_respiratory_columns, debug_df=False, debug_columns=True)\n",
    "df_discharge_respiratory = COMBINE_harmonizer.postprocess(df_discharge_respiratory)\n",
    "\n",
    "out_filename = os.sep.join([out_dir, '04-04-respiratory.csv'])\n",
    "df_discharge_respiratory.to_csv(out_filename, index=False)"
   ]
  },
  {
   "cell_type": "markdown",
   "id": "eb73ee7e",
   "metadata": {},
   "source": [
    "### 04-04-2. check empty cells"
   ]
  },
  {
   "cell_type": "code",
   "execution_count": 188,
   "id": "c8dc83d6",
   "metadata": {
    "execution": {
     "iopub.execute_input": "2025-01-21T19:14:13.850688Z",
     "iopub.status.busy": "2025-01-21T19:14:13.850527Z",
     "iopub.status.idle": "2025-01-21T19:14:13.855686Z",
     "shell.execute_reply": "2025-01-21T19:14:13.855402Z"
    }
   },
   "outputs": [
    {
     "name": "stdout",
     "output_type": "stream",
     "text": [
      "(0/25) column: center (168 / 0)\n",
      "(1/25) column: subjectID (168 / 0)\n",
      "(2/25) column: uniqueID (168 / 0)\n",
      "(3/25) column: dischargeMeconiumAspirationSyndrome (168 / 0)\n",
      "(4/25) column: dischargePPHN (168 / 0)\n",
      "(5/25) column: dischargePulmonaryHemorrhage (168 / 0)\n",
      "(6/25) column: dischargePenumonia (168 / 0)\n",
      "(7/25) column: dischargeChronicLungDisease (168 / 0)\n",
      "(8/25) column: dischargeECMO (168 / 0)\n",
      "(9/25) column: dischargeINO (168 / 0)\n",
      "(10/25) column: dischargeVentilator_day (168 / 0)\n",
      "(11/25) column: dischargeOxygen_day (168 / 0)\n",
      "(12/25) column: dischargeCPAP_day (168 / 0)\n",
      "(13/25) column: dischargePulmonaryStartDate1 (29 / 139)\n",
      "(14/25) column: dischargePulmonaryEndDate1 (28 / 140)\n",
      "(15/25) column: dischargePulmonaryStartTime1 (28 / 140)\n",
      "(16/25) column: dischargePulmonaryEndTime1 (27 / 141)\n",
      "(17/25) column: dischargePulmonaryStartDate2 (2 / 166)\n",
      "(18/25) column: dischargePulmonaryEndDate2 (2 / 166)\n",
      "(19/25) column: dischargePulmonaryStartTime2 (2 / 166)\n",
      "(20/25) column: dischargePulmonaryEndTime2 (2 / 166)\n",
      "(21/25) column: dischargePulmonaryStartDate3 (0 / 168)\n",
      "(22/25) column: dischargePulmonaryEndDate3 (0 / 168)\n",
      "(23/25) column: dischargePulmonaryStartTime3 (0 / 168)\n",
      "(24/25) column: dischargePulmonaryEndTime3 (0 / 168)\n"
     ]
    }
   ],
   "source": [
    "COMBINE_harmonizer.check_empty(df_discharge_respiratory)"
   ]
  },
  {
   "cell_type": "code",
   "execution_count": 189,
   "id": "2b1614b0",
   "metadata": {
    "execution": {
     "iopub.execute_input": "2025-01-21T19:14:13.857208Z",
     "iopub.status.busy": "2025-01-21T19:14:13.857067Z",
     "iopub.status.idle": "2025-01-21T19:14:13.860423Z",
     "shell.execute_reply": "2025-01-21T19:14:13.860102Z"
    }
   },
   "outputs": [
    {
     "name": "stdout",
     "output_type": "stream",
     "text": [
      "(0/25) center: (168/0)\n",
      "(1/25) subjectID: (168/0)\n",
      "(2/25) uniqueID: (168/0)\n",
      "(3/25) dischargeMeconiumAspirationSyndrome: (168/0)\n",
      "(4/25) dischargePPHN: (168/0)\n",
      "(5/25) dischargePulmonaryHemorrhage: (168/0)\n",
      "(6/25) dischargePenumonia: (168/0)\n",
      "(7/25) dischargeChronicLungDisease: (168/0)\n",
      "(8/25) dischargeECMO: (168/0)\n",
      "(9/25) dischargeINO: (168/0)\n",
      "(10/25) dischargeVentilator_day: (168/0)\n",
      "(11/25) dischargeOxygen_day: (168/0)\n",
      "(12/25) dischargeCPAP_day: (168/0)\n",
      "(13/25) dischargePulmonaryStartDate1: (29/139)\n",
      "(14/25) dischargePulmonaryEndDate1: (28/140)\n",
      "(15/25) dischargePulmonaryStartTime1: (28/140)\n",
      "(16/25) dischargePulmonaryEndTime1: (27/141)\n",
      "(17/25) dischargePulmonaryStartDate2: (2/166)\n",
      "(18/25) dischargePulmonaryEndDate2: (2/166)\n",
      "(19/25) dischargePulmonaryStartTime2: (2/166)\n",
      "(20/25) dischargePulmonaryEndTime2: (2/166)\n",
      "(21/25) dischargePulmonaryStartDate3: (0/168)\n",
      "(22/25) dischargePulmonaryEndDate3: (0/168)\n",
      "(23/25) dischargePulmonaryStartTime3: (0/168)\n",
      "(24/25) dischargePulmonaryEndTime3: (0/168)\n"
     ]
    }
   ],
   "source": [
    "COMBINE_harmonizer.column_info(df_discharge_respiratory)"
   ]
  },
  {
   "cell_type": "markdown",
   "id": "9ff939c9",
   "metadata": {},
   "source": [
    "## 04-05. Discharge Hematology"
   ]
  },
  {
   "cell_type": "code",
   "execution_count": 190,
   "id": "b6ceeb5a",
   "metadata": {
    "execution": {
     "iopub.execute_input": "2025-01-21T19:14:13.862117Z",
     "iopub.status.busy": "2025-01-21T19:14:13.861996Z",
     "iopub.status.idle": "2025-01-21T19:14:13.865155Z",
     "shell.execute_reply": "2025-01-21T19:14:13.864879Z"
    }
   },
   "outputs": [
    {
     "data": {
      "text/plain": [
       "['dischargeDIC']"
      ]
     },
     "execution_count": 190,
     "metadata": {},
     "output_type": "execute_result"
    }
   ],
   "source": [
    "discharge_hematology_columns = COMBINE_harmonizer.get_columns(df_data_dict, 'NICU Discharge', 'Hematology')\n",
    "all_discharge_hematology_columns = id_columns + discharge_hematology_columns\n",
    "discharge_hematology_columns"
   ]
  },
  {
   "cell_type": "code",
   "execution_count": 191,
   "id": "05a9cabc",
   "metadata": {
    "execution": {
     "iopub.execute_input": "2025-01-21T19:14:13.866528Z",
     "iopub.status.busy": "2025-01-21T19:14:13.866430Z",
     "iopub.status.idle": "2025-01-21T19:14:13.951832Z",
     "shell.execute_reply": "2025-01-21T19:14:13.951478Z"
    }
   },
   "outputs": [],
   "source": [
    "df_discharge_hematology = COMBINE_harmonizer.valid_columns(df_main, all_discharge_hematology_columns, debug_df=False, debug_columns=True)\n",
    "df_discharge_hematology = COMBINE_harmonizer.postprocess(df_discharge_hematology)\n",
    "\n",
    "out_filename = os.sep.join([out_dir, '04-05-hematology.csv'])\n",
    "df_discharge_hematology.to_csv(out_filename, index=False)"
   ]
  },
  {
   "cell_type": "markdown",
   "id": "8395ff5b",
   "metadata": {},
   "source": [
    "### 04-05-2. check empty cells"
   ]
  },
  {
   "cell_type": "code",
   "execution_count": 192,
   "id": "eded0be6",
   "metadata": {
    "execution": {
     "iopub.execute_input": "2025-01-21T19:14:13.953876Z",
     "iopub.status.busy": "2025-01-21T19:14:13.953700Z",
     "iopub.status.idle": "2025-01-21T19:14:13.956758Z",
     "shell.execute_reply": "2025-01-21T19:14:13.956400Z"
    }
   },
   "outputs": [
    {
     "name": "stdout",
     "output_type": "stream",
     "text": [
      "(0/4) column: center (168 / 0)\n",
      "(1/4) column: subjectID (168 / 0)\n",
      "(2/4) column: uniqueID (168 / 0)\n",
      "(3/4) column: dischargeDIC (168 / 0)\n"
     ]
    }
   ],
   "source": [
    "COMBINE_harmonizer.check_empty(df_discharge_hematology)"
   ]
  },
  {
   "cell_type": "code",
   "execution_count": 193,
   "id": "93e11def",
   "metadata": {
    "execution": {
     "iopub.execute_input": "2025-01-21T19:14:13.958568Z",
     "iopub.status.busy": "2025-01-21T19:14:13.958445Z",
     "iopub.status.idle": "2025-01-21T19:14:13.960798Z",
     "shell.execute_reply": "2025-01-21T19:14:13.960460Z"
    }
   },
   "outputs": [
    {
     "name": "stdout",
     "output_type": "stream",
     "text": [
      "(0/4) center: (168/0)\n",
      "(1/4) subjectID: (168/0)\n",
      "(2/4) uniqueID: (168/0)\n",
      "(3/4) dischargeDIC: (168/0)\n"
     ]
    }
   ],
   "source": [
    "COMBINE_harmonizer.column_info(df_discharge_hematology)"
   ]
  },
  {
   "cell_type": "markdown",
   "id": "d39df44d",
   "metadata": {},
   "source": [
    "## 04-06. Discharge Metabolic"
   ]
  },
  {
   "cell_type": "code",
   "execution_count": 194,
   "id": "7dc474b9",
   "metadata": {
    "execution": {
     "iopub.execute_input": "2025-01-21T19:14:13.962588Z",
     "iopub.status.busy": "2025-01-21T19:14:13.962473Z",
     "iopub.status.idle": "2025-01-21T19:14:13.965697Z",
     "shell.execute_reply": "2025-01-21T19:14:13.965423Z"
    }
   },
   "outputs": [
    {
     "data": {
      "text/plain": [
       "['dischargeHypoglycemia', 'dischargeHypocalcemia', 'dischargeHypomagnesemia']"
      ]
     },
     "execution_count": 194,
     "metadata": {},
     "output_type": "execute_result"
    }
   ],
   "source": [
    "discharge_metabolic_columns = COMBINE_harmonizer.get_columns(df_data_dict, 'NICU Discharge', 'Metabolic')\n",
    "all_discharge_metabolic_columns = id_columns + discharge_metabolic_columns\n",
    "discharge_metabolic_columns"
   ]
  },
  {
   "cell_type": "code",
   "execution_count": 195,
   "id": "a1ea9a64",
   "metadata": {
    "execution": {
     "iopub.execute_input": "2025-01-21T19:14:13.967168Z",
     "iopub.status.busy": "2025-01-21T19:14:13.967031Z",
     "iopub.status.idle": "2025-01-21T19:14:14.019717Z",
     "shell.execute_reply": "2025-01-21T19:14:14.019351Z"
    }
   },
   "outputs": [],
   "source": [
    "df_discharge_metabolic = COMBINE_harmonizer.valid_columns(df_main, all_discharge_metabolic_columns, debug_df=False, debug_columns=True)\n",
    "df_discharge_metabolic = COMBINE_harmonizer.postprocess(df_discharge_metabolic)\n",
    "\n",
    "out_filename = os.sep.join([out_dir, '04-06-metabolic.csv'])\n",
    "df_discharge_metabolic.to_csv(out_filename, index=False)"
   ]
  },
  {
   "cell_type": "markdown",
   "id": "05ef95a0",
   "metadata": {},
   "source": [
    "### 04-06-2. check empty cells"
   ]
  },
  {
   "cell_type": "code",
   "execution_count": 196,
   "id": "21be3278",
   "metadata": {
    "execution": {
     "iopub.execute_input": "2025-01-21T19:14:14.021704Z",
     "iopub.status.busy": "2025-01-21T19:14:14.021522Z",
     "iopub.status.idle": "2025-01-21T19:14:14.024767Z",
     "shell.execute_reply": "2025-01-21T19:14:14.024385Z"
    }
   },
   "outputs": [
    {
     "name": "stdout",
     "output_type": "stream",
     "text": [
      "(0/6) column: center (168 / 0)\n",
      "(1/6) column: subjectID (168 / 0)\n",
      "(2/6) column: uniqueID (168 / 0)\n",
      "(3/6) column: dischargeHypoglycemia (168 / 0)\n",
      "(4/6) column: dischargeHypocalcemia (168 / 0)\n",
      "(5/6) column: dischargeHypomagnesemia (168 / 0)\n"
     ]
    }
   ],
   "source": [
    "COMBINE_harmonizer.check_empty(df_discharge_metabolic)"
   ]
  },
  {
   "cell_type": "code",
   "execution_count": 197,
   "id": "d2f60e70",
   "metadata": {
    "execution": {
     "iopub.execute_input": "2025-01-21T19:14:14.026437Z",
     "iopub.status.busy": "2025-01-21T19:14:14.026319Z",
     "iopub.status.idle": "2025-01-21T19:14:14.028999Z",
     "shell.execute_reply": "2025-01-21T19:14:14.028674Z"
    }
   },
   "outputs": [
    {
     "name": "stdout",
     "output_type": "stream",
     "text": [
      "(0/6) center: (168/0)\n",
      "(1/6) subjectID: (168/0)\n",
      "(2/6) uniqueID: (168/0)\n",
      "(3/6) dischargeHypoglycemia: (168/0)\n",
      "(4/6) dischargeHypocalcemia: (168/0)\n",
      "(5/6) dischargeHypomagnesemia: (168/0)\n"
     ]
    }
   ],
   "source": [
    "COMBINE_harmonizer.column_info(df_discharge_metabolic)"
   ]
  },
  {
   "cell_type": "markdown",
   "id": "2ca171d0",
   "metadata": {},
   "source": [
    "## 04-07. Discharge Renal"
   ]
  },
  {
   "cell_type": "code",
   "execution_count": 198,
   "id": "483157a5",
   "metadata": {
    "execution": {
     "iopub.execute_input": "2025-01-21T19:14:14.030646Z",
     "iopub.status.busy": "2025-01-21T19:14:14.030531Z",
     "iopub.status.idle": "2025-01-21T19:14:14.033690Z",
     "shell.execute_reply": "2025-01-21T19:14:14.033394Z"
    }
   },
   "outputs": [
    {
     "data": {
      "text/plain": [
       "['dischargeOliguria', 'dischargeAnuria', 'dischargeDialysis']"
      ]
     },
     "execution_count": 198,
     "metadata": {},
     "output_type": "execute_result"
    }
   ],
   "source": [
    "discharge_renal_columns = COMBINE_harmonizer.get_columns(df_data_dict, 'NICU Discharge', 'Renal')\n",
    "all_discharge_renal_columns = id_columns + discharge_renal_columns\n",
    "discharge_renal_columns"
   ]
  },
  {
   "cell_type": "code",
   "execution_count": 199,
   "id": "729c9a10",
   "metadata": {
    "execution": {
     "iopub.execute_input": "2025-01-21T19:14:14.035139Z",
     "iopub.status.busy": "2025-01-21T19:14:14.035015Z",
     "iopub.status.idle": "2025-01-21T19:14:14.104656Z",
     "shell.execute_reply": "2025-01-21T19:14:14.104303Z"
    }
   },
   "outputs": [],
   "source": [
    "df_discharge_renal = COMBINE_harmonizer.valid_columns(df_main, all_discharge_renal_columns, debug_df=False, debug_columns=True)\n",
    "df_discharge_renal = COMBINE_harmonizer.postprocess(df_discharge_renal)\n",
    "\n",
    "out_filename = os.sep.join([out_dir, '04-07-renal.csv'])\n",
    "df_discharge_renal.to_csv(out_filename, index=False)"
   ]
  },
  {
   "cell_type": "markdown",
   "id": "6592e8a9",
   "metadata": {},
   "source": [
    "### 04-07-2. check empty cells"
   ]
  },
  {
   "cell_type": "code",
   "execution_count": 200,
   "id": "e3693a55",
   "metadata": {
    "execution": {
     "iopub.execute_input": "2025-01-21T19:14:14.106669Z",
     "iopub.status.busy": "2025-01-21T19:14:14.106488Z",
     "iopub.status.idle": "2025-01-21T19:14:14.109750Z",
     "shell.execute_reply": "2025-01-21T19:14:14.109412Z"
    }
   },
   "outputs": [
    {
     "name": "stdout",
     "output_type": "stream",
     "text": [
      "(0/6) column: center (168 / 0)\n",
      "(1/6) column: subjectID (168 / 0)\n",
      "(2/6) column: uniqueID (168 / 0)\n",
      "(3/6) column: dischargeOliguria (168 / 0)\n",
      "(4/6) column: dischargeAnuria (168 / 0)\n",
      "(5/6) column: dischargeDialysis (168 / 0)\n"
     ]
    }
   ],
   "source": [
    "COMBINE_harmonizer.check_empty(df_discharge_renal)"
   ]
  },
  {
   "cell_type": "code",
   "execution_count": 201,
   "id": "e26c9568",
   "metadata": {
    "execution": {
     "iopub.execute_input": "2025-01-21T19:14:14.111445Z",
     "iopub.status.busy": "2025-01-21T19:14:14.111300Z",
     "iopub.status.idle": "2025-01-21T19:14:14.114004Z",
     "shell.execute_reply": "2025-01-21T19:14:14.113702Z"
    }
   },
   "outputs": [
    {
     "name": "stdout",
     "output_type": "stream",
     "text": [
      "(0/6) center: (168/0)\n",
      "(1/6) subjectID: (168/0)\n",
      "(2/6) uniqueID: (168/0)\n",
      "(3/6) dischargeOliguria: (168/0)\n",
      "(4/6) dischargeAnuria: (168/0)\n",
      "(5/6) dischargeDialysis: (168/0)\n"
     ]
    }
   ],
   "source": [
    "COMBINE_harmonizer.column_info(df_discharge_renal)"
   ]
  },
  {
   "cell_type": "markdown",
   "id": "64efe8e6",
   "metadata": {},
   "source": [
    "## 04-08. Discharge Gastrointestinal"
   ]
  },
  {
   "cell_type": "code",
   "execution_count": 202,
   "id": "932f5ee7",
   "metadata": {
    "execution": {
     "iopub.execute_input": "2025-01-21T19:14:14.115710Z",
     "iopub.status.busy": "2025-01-21T19:14:14.115586Z",
     "iopub.status.idle": "2025-01-21T19:14:14.118944Z",
     "shell.execute_reply": "2025-01-21T19:14:14.118614Z"
    }
   },
   "outputs": [
    {
     "data": {
      "text/plain": [
       "['dischargeEnteralFeedStart_day',\n",
       " 'dischargeTubeFeedingDuration_day',\n",
       " 'dischargeFullNippleFeed',\n",
       " 'dischargeFullNippleFeed_day',\n",
       " 'dischargeNEC',\n",
       " 'dischargeHepaticDysfunction']"
      ]
     },
     "execution_count": 202,
     "metadata": {},
     "output_type": "execute_result"
    }
   ],
   "source": [
    "discharge_gastrointestinal_columns = COMBINE_harmonizer.get_columns(df_data_dict, 'NICU Discharge', 'Gastrointestinal')\n",
    "all_discharge_gastrointestinal_columns = id_columns + discharge_gastrointestinal_columns\n",
    "discharge_gastrointestinal_columns"
   ]
  },
  {
   "cell_type": "code",
   "execution_count": 203,
   "id": "6a6e512e",
   "metadata": {
    "execution": {
     "iopub.execute_input": "2025-01-21T19:14:14.120509Z",
     "iopub.status.busy": "2025-01-21T19:14:14.120368Z",
     "iopub.status.idle": "2025-01-21T19:14:14.206138Z",
     "shell.execute_reply": "2025-01-21T19:14:14.205721Z"
    }
   },
   "outputs": [
    {
     "name": "stdout",
     "output_type": "stream",
     "text": [
      "(2/8) dischargeEnteralFeedStart_day not in df\n",
      "(4/8) dischargeFullNippleFeed not in df\n"
     ]
    }
   ],
   "source": [
    "df_discharge_gastrointestinal = COMBINE_harmonizer.valid_columns(df_main, all_discharge_gastrointestinal_columns, debug_df=False, debug_columns=True)\n",
    "df_discharge_gastrointestinal = COMBINE_harmonizer.postprocess(df_discharge_gastrointestinal)\n",
    "\n",
    "out_filename = os.sep.join([out_dir, '04-08-gastrointestinal.csv'])\n",
    "df_discharge_gastrointestinal.to_csv(out_filename, index=False)"
   ]
  },
  {
   "cell_type": "markdown",
   "id": "fd35d93a",
   "metadata": {},
   "source": [
    "### 04-08-2. check empty cells"
   ]
  },
  {
   "cell_type": "code",
   "execution_count": 204,
   "id": "e28a32d9",
   "metadata": {
    "execution": {
     "iopub.execute_input": "2025-01-21T19:14:14.208514Z",
     "iopub.status.busy": "2025-01-21T19:14:14.208304Z",
     "iopub.status.idle": "2025-01-21T19:14:14.212228Z",
     "shell.execute_reply": "2025-01-21T19:14:14.211797Z"
    }
   },
   "outputs": [
    {
     "name": "stdout",
     "output_type": "stream",
     "text": [
      "(0/7) column: center (168 / 0)\n",
      "(1/7) column: subjectID (168 / 0)\n",
      "(2/7) column: uniqueID (168 / 0)\n",
      "(3/7) column: dischargeNEC (168 / 0)\n",
      "(4/7) column: dischargeHepaticDysfunction (168 / 0)\n",
      "(5/7) column: dischargeTubeFeedingDuration_day (165 / 3)\n",
      "(6/7) column: dischargeFullNippleFeed_day (137 / 31)\n"
     ]
    }
   ],
   "source": [
    "COMBINE_harmonizer.check_empty(df_discharge_gastrointestinal)"
   ]
  },
  {
   "cell_type": "code",
   "execution_count": 205,
   "id": "943c0923",
   "metadata": {
    "execution": {
     "iopub.execute_input": "2025-01-21T19:14:14.214097Z",
     "iopub.status.busy": "2025-01-21T19:14:14.213958Z",
     "iopub.status.idle": "2025-01-21T19:14:14.217020Z",
     "shell.execute_reply": "2025-01-21T19:14:14.216658Z"
    }
   },
   "outputs": [
    {
     "name": "stdout",
     "output_type": "stream",
     "text": [
      "(0/7) center: (168/0)\n",
      "(1/7) subjectID: (168/0)\n",
      "(2/7) uniqueID: (168/0)\n",
      "(3/7) dischargeNEC: (168/0)\n",
      "(4/7) dischargeHepaticDysfunction: (168/0)\n",
      "(5/7) dischargeTubeFeedingDuration_day: (165/3)\n",
      "(6/7) dischargeFullNippleFeed_day: (137/31)\n"
     ]
    }
   ],
   "source": [
    "COMBINE_harmonizer.column_info(df_discharge_gastrointestinal)"
   ]
  },
  {
   "cell_type": "markdown",
   "id": "1981aa2e",
   "metadata": {},
   "source": [
    "## 04-09. Skin"
   ]
  },
  {
   "cell_type": "code",
   "execution_count": 206,
   "id": "bef12414",
   "metadata": {
    "execution": {
     "iopub.execute_input": "2025-01-21T19:14:14.218981Z",
     "iopub.status.busy": "2025-01-21T19:14:14.218827Z",
     "iopub.status.idle": "2025-01-21T19:14:14.222317Z",
     "shell.execute_reply": "2025-01-21T19:14:14.222012Z"
    }
   },
   "outputs": [
    {
     "data": {
      "text/plain": [
       "['dischargeAlteredSkinItegrityPostIntervention',\n",
       " 'dischargeErythema',\n",
       " 'dischargeErythemaOnsetDate',\n",
       " 'dischargeErythemaResolveDate',\n",
       " 'dischargeSclerema',\n",
       " 'dischargeScleremaOnsetDate',\n",
       " 'dischargeScleremaResolveDate',\n",
       " 'dischargeCyanosis',\n",
       " 'dischargeCyanosisOnsetDate',\n",
       " 'dischargeCyanosisResolveDate',\n",
       " 'dischargeSubFatNecrosis',\n",
       " 'dischargeSubFatNecrosisOnsetDate',\n",
       " 'dischargeSubFatNecrosisResolveDate']"
      ]
     },
     "execution_count": 206,
     "metadata": {},
     "output_type": "execute_result"
    }
   ],
   "source": [
    "discharge_skin_columns = COMBINE_harmonizer.get_columns(df_data_dict, 'NICU Discharge', 'Skin')\n",
    "all_discharge_skin_columns = id_columns + discharge_skin_columns\n",
    "discharge_skin_columns"
   ]
  },
  {
   "cell_type": "code",
   "execution_count": 207,
   "id": "f88de9b1",
   "metadata": {
    "execution": {
     "iopub.execute_input": "2025-01-21T19:14:14.223922Z",
     "iopub.status.busy": "2025-01-21T19:14:14.223811Z",
     "iopub.status.idle": "2025-01-21T19:14:14.292399Z",
     "shell.execute_reply": "2025-01-21T19:14:14.291951Z"
    }
   },
   "outputs": [
    {
     "name": "stdout",
     "output_type": "stream",
     "text": [
      "(2/15) dischargeAlteredSkinItegrityPostIntervention not in df\n",
      "(3/15) dischargeErythema not in df\n",
      "(4/15) dischargeErythemaOnsetDate not in df\n",
      "(5/15) dischargeErythemaResolveDate not in df\n",
      "(6/15) dischargeSclerema not in df\n",
      "(7/15) dischargeScleremaOnsetDate not in df\n",
      "(8/15) dischargeScleremaResolveDate not in df\n",
      "(9/15) dischargeCyanosis not in df\n",
      "(10/15) dischargeCyanosisOnsetDate not in df\n",
      "(11/15) dischargeCyanosisResolveDate not in df\n",
      "(12/15) dischargeSubFatNecrosis not in df\n",
      "(13/15) dischargeSubFatNecrosisOnsetDate not in df\n",
      "(14/15) dischargeSubFatNecrosisResolveDate not in df\n"
     ]
    }
   ],
   "source": [
    "df_discharge_skin = COMBINE_harmonizer.valid_columns(df_main, all_discharge_skin_columns, debug_df=False, debug_columns=True)\n",
    "df_discharge_skin = COMBINE_harmonizer.postprocess(df_discharge_skin)\n",
    "\n",
    "out_filename = os.sep.join([out_dir, '04-09-skin.csv'])\n",
    "df_discharge_skin.to_csv(out_filename, index=False)"
   ]
  },
  {
   "cell_type": "markdown",
   "id": "78caf602",
   "metadata": {},
   "source": [
    "### 04-09-2. check empty cells"
   ]
  },
  {
   "cell_type": "code",
   "execution_count": 208,
   "id": "07be7b08",
   "metadata": {
    "execution": {
     "iopub.execute_input": "2025-01-21T19:14:14.294909Z",
     "iopub.status.busy": "2025-01-21T19:14:14.294694Z",
     "iopub.status.idle": "2025-01-21T19:14:14.297740Z",
     "shell.execute_reply": "2025-01-21T19:14:14.297388Z"
    }
   },
   "outputs": [
    {
     "name": "stdout",
     "output_type": "stream",
     "text": [
      "(0/3) column: center (168 / 0)\n",
      "(1/3) column: subjectID (168 / 0)\n",
      "(2/3) column: uniqueID (168 / 0)\n"
     ]
    }
   ],
   "source": [
    "COMBINE_harmonizer.check_empty(df_discharge_skin)"
   ]
  },
  {
   "cell_type": "code",
   "execution_count": 209,
   "id": "925a2680",
   "metadata": {
    "execution": {
     "iopub.execute_input": "2025-01-21T19:14:14.299857Z",
     "iopub.status.busy": "2025-01-21T19:14:14.299640Z",
     "iopub.status.idle": "2025-01-21T19:14:14.303153Z",
     "shell.execute_reply": "2025-01-21T19:14:14.302770Z"
    }
   },
   "outputs": [
    {
     "name": "stdout",
     "output_type": "stream",
     "text": [
      "(0/3) center: (168/0)\n",
      "(1/3) subjectID: (168/0)\n",
      "(2/3) uniqueID: (168/0)\n"
     ]
    }
   ],
   "source": [
    "COMBINE_harmonizer.column_info(df_discharge_skin)"
   ]
  },
  {
   "cell_type": "markdown",
   "id": "2e51bf83",
   "metadata": {},
   "source": [
    "## 04-10. Auditory"
   ]
  },
  {
   "cell_type": "code",
   "execution_count": 210,
   "id": "289704d9",
   "metadata": {
    "execution": {
     "iopub.execute_input": "2025-01-21T19:14:14.305027Z",
     "iopub.status.busy": "2025-01-21T19:14:14.304844Z",
     "iopub.status.idle": "2025-01-21T19:14:14.308868Z",
     "shell.execute_reply": "2025-01-21T19:14:14.308474Z"
    }
   },
   "outputs": [
    {
     "data": {
      "text/plain": [
       "['dischargeHearingTest', 'dischargeHearingTestNormal']"
      ]
     },
     "execution_count": 210,
     "metadata": {},
     "output_type": "execute_result"
    }
   ],
   "source": [
    "discharge_auditory_columns = COMBINE_harmonizer.get_columns(df_data_dict, 'NICU Discharge', 'Auditory')\n",
    "all_discharge_auditory_columns = id_columns + discharge_auditory_columns\n",
    "discharge_auditory_columns"
   ]
  },
  {
   "cell_type": "code",
   "execution_count": 211,
   "id": "bfdd28d8",
   "metadata": {
    "execution": {
     "iopub.execute_input": "2025-01-21T19:14:14.310736Z",
     "iopub.status.busy": "2025-01-21T19:14:14.310592Z",
     "iopub.status.idle": "2025-01-21T19:14:14.379305Z",
     "shell.execute_reply": "2025-01-21T19:14:14.378683Z"
    }
   },
   "outputs": [],
   "source": [
    "df_discharge_auditory = COMBINE_harmonizer.valid_columns(df_main, all_discharge_auditory_columns, debug_df=False, debug_columns=True)\n",
    "df_discharge_auditory = COMBINE_harmonizer.postprocess(df_discharge_auditory)\n",
    "\n",
    "out_filename = os.sep.join([out_dir, '04-10-auditory.csv'])\n",
    "df_discharge_auditory.to_csv(out_filename, index=False)"
   ]
  },
  {
   "cell_type": "markdown",
   "id": "2205ea18",
   "metadata": {},
   "source": [
    "### 04-10-2. check empty cells"
   ]
  },
  {
   "cell_type": "code",
   "execution_count": 212,
   "id": "7e129443",
   "metadata": {
    "execution": {
     "iopub.execute_input": "2025-01-21T19:14:14.381679Z",
     "iopub.status.busy": "2025-01-21T19:14:14.381459Z",
     "iopub.status.idle": "2025-01-21T19:14:14.385149Z",
     "shell.execute_reply": "2025-01-21T19:14:14.384688Z"
    }
   },
   "outputs": [
    {
     "name": "stdout",
     "output_type": "stream",
     "text": [
      "(0/5) column: center (168 / 0)\n",
      "(1/5) column: subjectID (168 / 0)\n",
      "(2/5) column: uniqueID (168 / 0)\n",
      "(3/5) column: dischargeHearingTest (168 / 0)\n",
      "(4/5) column: dischargeHearingTestNormal (131 / 37)\n"
     ]
    }
   ],
   "source": [
    "COMBINE_harmonizer.check_empty(df_discharge_auditory)"
   ]
  },
  {
   "cell_type": "code",
   "execution_count": 213,
   "id": "90bd018b",
   "metadata": {
    "execution": {
     "iopub.execute_input": "2025-01-21T19:14:14.386936Z",
     "iopub.status.busy": "2025-01-21T19:14:14.386798Z",
     "iopub.status.idle": "2025-01-21T19:14:14.389622Z",
     "shell.execute_reply": "2025-01-21T19:14:14.389269Z"
    }
   },
   "outputs": [
    {
     "name": "stdout",
     "output_type": "stream",
     "text": [
      "(0/5) center: (168/0)\n",
      "(1/5) subjectID: (168/0)\n",
      "(2/5) uniqueID: (168/0)\n",
      "(3/5) dischargeHearingTest: (168/0)\n",
      "(4/5) dischargeHearingTestNormal: (131/37)\n"
     ]
    }
   ],
   "source": [
    "COMBINE_harmonizer.column_info(df_discharge_auditory)"
   ]
  },
  {
   "cell_type": "markdown",
   "id": "4246f738",
   "metadata": {},
   "source": [
    "## 04-11. Surgery"
   ]
  },
  {
   "cell_type": "code",
   "execution_count": 214,
   "id": "c251d4de",
   "metadata": {
    "execution": {
     "iopub.execute_input": "2025-01-21T19:14:14.391457Z",
     "iopub.status.busy": "2025-01-21T19:14:14.391293Z",
     "iopub.status.idle": "2025-01-21T19:14:14.394750Z",
     "shell.execute_reply": "2025-01-21T19:14:14.394440Z"
    }
   },
   "outputs": [
    {
     "data": {
      "text/plain": [
       "['dischargeMajorSurgery',\n",
       " 'dischargeSurgeryCode1',\n",
       " 'dischargeSurgeryCode2',\n",
       " 'dischargeSurgeryCode3']"
      ]
     },
     "execution_count": 214,
     "metadata": {},
     "output_type": "execute_result"
    }
   ],
   "source": [
    "discharge_surgery_columns = COMBINE_harmonizer.get_columns(df_data_dict, 'NICU Discharge', 'Surgery')\n",
    "all_discharge_surgery_columns = id_columns + discharge_surgery_columns\n",
    "discharge_surgery_columns"
   ]
  },
  {
   "cell_type": "code",
   "execution_count": 215,
   "id": "719f91d1",
   "metadata": {
    "execution": {
     "iopub.execute_input": "2025-01-21T19:14:14.396365Z",
     "iopub.status.busy": "2025-01-21T19:14:14.396259Z",
     "iopub.status.idle": "2025-01-21T19:14:14.461793Z",
     "shell.execute_reply": "2025-01-21T19:14:14.461392Z"
    }
   },
   "outputs": [],
   "source": [
    "df_discharge_surgery = COMBINE_harmonizer.valid_columns(df_main, all_discharge_surgery_columns, debug_df=False, debug_columns=True)\n",
    "df_discharge_surgery = COMBINE_harmonizer.postprocess(df_discharge_surgery)\n",
    "\n",
    "out_filename = os.sep.join([out_dir, '04-11-surgery.csv'])\n",
    "df_discharge_surgery.to_csv(out_filename, index=False)"
   ]
  },
  {
   "cell_type": "markdown",
   "id": "aa2ec8fd",
   "metadata": {},
   "source": [
    "### 04-11-2. check empty cells"
   ]
  },
  {
   "cell_type": "code",
   "execution_count": 216,
   "id": "da390f37",
   "metadata": {
    "execution": {
     "iopub.execute_input": "2025-01-21T19:14:14.463967Z",
     "iopub.status.busy": "2025-01-21T19:14:14.463777Z",
     "iopub.status.idle": "2025-01-21T19:14:14.467352Z",
     "shell.execute_reply": "2025-01-21T19:14:14.466960Z"
    }
   },
   "outputs": [
    {
     "name": "stdout",
     "output_type": "stream",
     "text": [
      "(0/7) column: center (168 / 0)\n",
      "(1/7) column: subjectID (168 / 0)\n",
      "(2/7) column: uniqueID (168 / 0)\n",
      "(3/7) column: dischargeMajorSurgery (168 / 0)\n",
      "(4/7) column: dischargeSurgeryCode1 (9 / 159)\n",
      "(5/7) column: dischargeSurgeryCode2 (3 / 165)\n",
      "(6/7) column: dischargeSurgeryCode3 (0 / 168)\n"
     ]
    }
   ],
   "source": [
    "COMBINE_harmonizer.check_empty(df_discharge_surgery)"
   ]
  },
  {
   "cell_type": "code",
   "execution_count": 217,
   "id": "2bdaf0a2",
   "metadata": {
    "execution": {
     "iopub.execute_input": "2025-01-21T19:14:14.469125Z",
     "iopub.status.busy": "2025-01-21T19:14:14.469003Z",
     "iopub.status.idle": "2025-01-21T19:14:14.471748Z",
     "shell.execute_reply": "2025-01-21T19:14:14.471397Z"
    }
   },
   "outputs": [
    {
     "name": "stdout",
     "output_type": "stream",
     "text": [
      "(0/7) center: (168/0)\n",
      "(1/7) subjectID: (168/0)\n",
      "(2/7) uniqueID: (168/0)\n",
      "(3/7) dischargeMajorSurgery: (168/0)\n",
      "(4/7) dischargeSurgeryCode1: (9/159)\n",
      "(5/7) dischargeSurgeryCode2: (3/165)\n",
      "(6/7) dischargeSurgeryCode3: (0/168)\n"
     ]
    }
   ],
   "source": [
    "COMBINE_harmonizer.column_info(df_discharge_surgery)"
   ]
  },
  {
   "cell_type": "markdown",
   "id": "114899e6",
   "metadata": {},
   "source": [
    "## 04-12. Infection"
   ]
  },
  {
   "cell_type": "code",
   "execution_count": 218,
   "id": "fd36d770",
   "metadata": {
    "execution": {
     "iopub.execute_input": "2025-01-21T19:14:14.473695Z",
     "iopub.status.busy": "2025-01-21T19:14:14.473525Z",
     "iopub.status.idle": "2025-01-21T19:14:14.476979Z",
     "shell.execute_reply": "2025-01-21T19:14:14.476665Z"
    }
   },
   "outputs": [
    {
     "data": {
      "text/plain": [
       "['dischargeSepticemia',\n",
       " 'dischargeSepticemiaOrganismCode1',\n",
       " 'dischargeSepticemiaOrganismCode2',\n",
       " 'dischargeSepticemiaOrganismCode3',\n",
       " 'dischargeMeningitisEncephalitis',\n",
       " 'dischargeMeningitisOrganismCode1',\n",
       " 'dischargeMeningitisOrganismCode2',\n",
       " 'dischargeMeningitisOrganismCode3']"
      ]
     },
     "execution_count": 218,
     "metadata": {},
     "output_type": "execute_result"
    }
   ],
   "source": [
    "discharge_infection_columns = COMBINE_harmonizer.get_columns(df_data_dict, 'NICU Discharge', 'Infection')\n",
    "all_discharge_infection_columns = id_columns + discharge_infection_columns\n",
    "discharge_infection_columns"
   ]
  },
  {
   "cell_type": "code",
   "execution_count": 219,
   "id": "5e59ee57",
   "metadata": {
    "execution": {
     "iopub.execute_input": "2025-01-21T19:14:14.478461Z",
     "iopub.status.busy": "2025-01-21T19:14:14.478352Z",
     "iopub.status.idle": "2025-01-21T19:14:14.546360Z",
     "shell.execute_reply": "2025-01-21T19:14:14.545945Z"
    }
   },
   "outputs": [],
   "source": [
    "df_discharge_infection = COMBINE_harmonizer.valid_columns(df_main, all_discharge_infection_columns, debug_df=False, debug_columns=True)\n",
    "df_discharge_infection = COMBINE_harmonizer.postprocess(df_discharge_infection)\n",
    "\n",
    "out_filename = os.sep.join([out_dir, '04-12-infection.csv'])\n",
    "df_discharge_infection.to_csv(out_filename, index=False)"
   ]
  },
  {
   "cell_type": "markdown",
   "id": "2a66b720",
   "metadata": {},
   "source": [
    "### 04-12-2. check empty cells"
   ]
  },
  {
   "cell_type": "code",
   "execution_count": 220,
   "id": "4533174c",
   "metadata": {
    "execution": {
     "iopub.execute_input": "2025-01-21T19:14:14.548530Z",
     "iopub.status.busy": "2025-01-21T19:14:14.548352Z",
     "iopub.status.idle": "2025-01-21T19:14:14.552362Z",
     "shell.execute_reply": "2025-01-21T19:14:14.551983Z"
    }
   },
   "outputs": [
    {
     "name": "stdout",
     "output_type": "stream",
     "text": [
      "(0/11) column: center (168 / 0)\n",
      "(1/11) column: subjectID (168 / 0)\n",
      "(2/11) column: uniqueID (168 / 0)\n",
      "(3/11) column: dischargeSepticemia (168 / 0)\n",
      "(4/11) column: dischargeMeningitisEncephalitis (168 / 0)\n",
      "(5/11) column: dischargeSepticemiaOrganismCode1 (3 / 165)\n",
      "(6/11) column: dischargeSepticemiaOrganismCode2 (1 / 167)\n",
      "(7/11) column: dischargeSepticemiaOrganismCode3 (1 / 167)\n",
      "(8/11) column: dischargeMeningitisOrganismCode1 (2 / 166)\n",
      "(9/11) column: dischargeMeningitisOrganismCode2 (0 / 168)\n",
      "(10/11) column: dischargeMeningitisOrganismCode3 (0 / 168)\n"
     ]
    }
   ],
   "source": [
    "COMBINE_harmonizer.check_empty(df_discharge_infection)"
   ]
  },
  {
   "cell_type": "code",
   "execution_count": 221,
   "id": "3945ed84",
   "metadata": {
    "execution": {
     "iopub.execute_input": "2025-01-21T19:14:14.554049Z",
     "iopub.status.busy": "2025-01-21T19:14:14.553925Z",
     "iopub.status.idle": "2025-01-21T19:14:14.556959Z",
     "shell.execute_reply": "2025-01-21T19:14:14.556623Z"
    }
   },
   "outputs": [
    {
     "name": "stdout",
     "output_type": "stream",
     "text": [
      "(0/11) center: (168/0)\n",
      "(1/11) subjectID: (168/0)\n",
      "(2/11) uniqueID: (168/0)\n",
      "(3/11) dischargeSepticemia: (168/0)\n",
      "(4/11) dischargeMeningitisEncephalitis: (168/0)\n",
      "(5/11) dischargeSepticemiaOrganismCode1: (3/165)\n",
      "(6/11) dischargeSepticemiaOrganismCode2: (1/167)\n",
      "(7/11) dischargeSepticemiaOrganismCode3: (1/167)\n",
      "(8/11) dischargeMeningitisOrganismCode1: (2/166)\n",
      "(9/11) dischargeMeningitisOrganismCode2: (0/168)\n",
      "(10/11) dischargeMeningitisOrganismCode3: (0/168)\n"
     ]
    }
   ],
   "source": [
    "COMBINE_harmonizer.column_info(df_discharge_infection)"
   ]
  },
  {
   "cell_type": "markdown",
   "id": "e228b59e",
   "metadata": {},
   "source": [
    "## 04-13. Seizure"
   ]
  },
  {
   "cell_type": "code",
   "execution_count": 222,
   "id": "859cc8e1",
   "metadata": {
    "execution": {
     "iopub.execute_input": "2025-01-21T19:14:14.558879Z",
     "iopub.status.busy": "2025-01-21T19:14:14.558735Z",
     "iopub.status.idle": "2025-01-21T19:14:14.562209Z",
     "shell.execute_reply": "2025-01-21T19:14:14.561879Z"
    }
   },
   "outputs": [
    {
     "data": {
      "text/plain": [
       "['dischargeSeizure',\n",
       " 'dischargeSeizurePreIntervention',\n",
       " 'dischargeSeizureAfterBaseline',\n",
       " 'dischargeSeizureMaintenance',\n",
       " 'dischargeSeizureRewarming',\n",
       " 'dischargeSeizurePostIntervention',\n",
       " 'dischargeEEG',\n",
       " 'dischargeEEGFindingConsistentWithSeizure',\n",
       " 'dischargeEEGFindingConsistentWithSeizureDate',\n",
       " 'dischargeEEGFindingConsistentWithSeizureTime',\n",
       " 'dischargeEEGAbnormalBackgroundActivity',\n",
       " 'dischargeEEGAbnormalBackgroundActivityDate',\n",
       " 'dischargeEEGAbnormalBackgroundActivityTime',\n",
       " 'dischargeAnticonvulsantsOver72H']"
      ]
     },
     "execution_count": 222,
     "metadata": {},
     "output_type": "execute_result"
    }
   ],
   "source": [
    "discharge_neuro_columns = COMBINE_harmonizer.get_columns(df_data_dict, 'NICU Discharge', 'Seizure')\n",
    "all_discharge_neuro_columns = id_columns + discharge_neuro_columns\n",
    "discharge_neuro_columns"
   ]
  },
  {
   "cell_type": "code",
   "execution_count": 223,
   "id": "5e1081ef",
   "metadata": {
    "execution": {
     "iopub.execute_input": "2025-01-21T19:14:14.563752Z",
     "iopub.status.busy": "2025-01-21T19:14:14.563644Z",
     "iopub.status.idle": "2025-01-21T19:14:14.633713Z",
     "shell.execute_reply": "2025-01-21T19:14:14.633322Z"
    }
   },
   "outputs": [
    {
     "name": "stdout",
     "output_type": "stream",
     "text": [
      "(4/16) dischargeSeizureAfterBaseline not in df\n"
     ]
    }
   ],
   "source": [
    "df_discharge_neuro = COMBINE_harmonizer.valid_columns(df_main, all_discharge_neuro_columns, debug_df=False, debug_columns=True)\n",
    "df_discharge_neuro = COMBINE_harmonizer.postprocess(df_discharge_neuro)\n",
    "\n",
    "out_filename = os.sep.join([out_dir, '04-13-seizure.csv'])\n",
    "df_discharge_neuro.to_csv(out_filename, index=False)"
   ]
  },
  {
   "cell_type": "markdown",
   "id": "be94e2d7",
   "metadata": {},
   "source": [
    "### 04-13-2. check empty cells"
   ]
  },
  {
   "cell_type": "code",
   "execution_count": 224,
   "id": "d5533be2",
   "metadata": {
    "execution": {
     "iopub.execute_input": "2025-01-21T19:14:14.635824Z",
     "iopub.status.busy": "2025-01-21T19:14:14.635650Z",
     "iopub.status.idle": "2025-01-21T19:14:14.640197Z",
     "shell.execute_reply": "2025-01-21T19:14:14.639879Z"
    }
   },
   "outputs": [
    {
     "name": "stdout",
     "output_type": "stream",
     "text": [
      "(0/16) column: center (168 / 0)\n",
      "(1/16) column: subjectID (168 / 0)\n",
      "(2/16) column: uniqueID (168 / 0)\n",
      "(3/16) column: dischargeSeizure (168 / 0)\n",
      "(4/16) column: dischargeSeizurePreIntervention (128 / 40)\n",
      "(5/16) column: dischargeSeizureMaintenance (128 / 40)\n",
      "(6/16) column: dischargeSeizureRewarming (128 / 40)\n",
      "(7/16) column: dischargeSeizurePostIntervention (128 / 40)\n",
      "(8/16) column: dischargeEEG (168 / 0)\n",
      "(9/16) column: dischargeEEGFindingConsistentWithSeizure (139 / 29)\n",
      "(10/16) column: dischargeEEGAbnormalBackgroundActivity (168 / 0)\n",
      "(11/16) column: dischargeAnticonvulsantsOver72H (168 / 0)\n",
      "(12/16) column: dischargeEEGFindingConsistentWithSeizureDate (136 / 32)\n",
      "(13/16) column: dischargeEEGFindingConsistentWithSeizureTime (124 / 44)\n",
      "(14/16) column: dischargeEEGAbnormalBackgroundActivityDate (97 / 71)\n",
      "(15/16) column: dischargeEEGAbnormalBackgroundActivityTime (81 / 87)\n"
     ]
    }
   ],
   "source": [
    "COMBINE_harmonizer.check_empty(df_discharge_neuro)"
   ]
  },
  {
   "cell_type": "code",
   "execution_count": 225,
   "id": "0ba0ff5c",
   "metadata": {
    "execution": {
     "iopub.execute_input": "2025-01-21T19:14:14.641807Z",
     "iopub.status.busy": "2025-01-21T19:14:14.641688Z",
     "iopub.status.idle": "2025-01-21T19:14:14.644961Z",
     "shell.execute_reply": "2025-01-21T19:14:14.644640Z"
    }
   },
   "outputs": [
    {
     "name": "stdout",
     "output_type": "stream",
     "text": [
      "(0/16) center: (168/0)\n",
      "(1/16) subjectID: (168/0)\n",
      "(2/16) uniqueID: (168/0)\n",
      "(3/16) dischargeSeizure: (168/0)\n",
      "(4/16) dischargeSeizurePreIntervention: (128/40)\n",
      "(5/16) dischargeSeizureMaintenance: (128/40)\n",
      "(6/16) dischargeSeizureRewarming: (128/40)\n",
      "(7/16) dischargeSeizurePostIntervention: (128/40)\n",
      "(8/16) dischargeEEG: (168/0)\n",
      "(9/16) dischargeEEGFindingConsistentWithSeizure: (139/29)\n",
      "(10/16) dischargeEEGAbnormalBackgroundActivity: (168/0)\n",
      "(11/16) dischargeAnticonvulsantsOver72H: (168/0)\n",
      "(12/16) dischargeEEGFindingConsistentWithSeizureDate: (136/32)\n",
      "(13/16) dischargeEEGFindingConsistentWithSeizureTime: (124/44)\n",
      "(14/16) dischargeEEGAbnormalBackgroundActivityDate: (97/71)\n",
      "(15/16) dischargeEEGAbnormalBackgroundActivityTime: (81/87)\n"
     ]
    }
   ],
   "source": [
    "COMBINE_harmonizer.column_info(df_discharge_neuro)"
   ]
  },
  {
   "cell_type": "markdown",
   "id": "cbef8967",
   "metadata": {},
   "source": [
    "## 04-14. Birth Defect"
   ]
  },
  {
   "cell_type": "code",
   "execution_count": 226,
   "id": "6efe3bee",
   "metadata": {
    "execution": {
     "iopub.execute_input": "2025-01-21T19:14:14.646736Z",
     "iopub.status.busy": "2025-01-21T19:14:14.646574Z",
     "iopub.status.idle": "2025-01-21T19:14:14.649730Z",
     "shell.execute_reply": "2025-01-21T19:14:14.649417Z"
    }
   },
   "outputs": [
    {
     "data": {
      "text/plain": [
       "['dischargeSyndromeMalformation',\n",
       " 'dischargeBirthDefectCode1',\n",
       " 'dischargeBirthDefectCode2',\n",
       " 'dischargeBirthDefectCode3']"
      ]
     },
     "execution_count": 226,
     "metadata": {},
     "output_type": "execute_result"
    }
   ],
   "source": [
    "discharge_birth_defect_columns = COMBINE_harmonizer.get_columns(df_data_dict, 'NICU Discharge', 'Birth Defect')\n",
    "all_discharge_birth_defect_columns = id_columns + discharge_birth_defect_columns\n",
    "discharge_birth_defect_columns"
   ]
  },
  {
   "cell_type": "code",
   "execution_count": 227,
   "id": "7c8b5445",
   "metadata": {
    "execution": {
     "iopub.execute_input": "2025-01-21T19:14:14.651179Z",
     "iopub.status.busy": "2025-01-21T19:14:14.651061Z",
     "iopub.status.idle": "2025-01-21T19:14:14.722515Z",
     "shell.execute_reply": "2025-01-21T19:14:14.722042Z"
    }
   },
   "outputs": [],
   "source": [
    "df_discharge_birth_defect = COMBINE_harmonizer.valid_columns(df_main, all_discharge_birth_defect_columns, debug_df=False, debug_columns=True)\n",
    "df_discharge_birth_defect = COMBINE_harmonizer.postprocess(df_discharge_birth_defect)\n",
    "\n",
    "out_filename = os.sep.join([out_dir, '04-14-birth-defect.csv'])\n",
    "df_discharge_birth_defect.to_csv(out_filename, index=False)"
   ]
  },
  {
   "cell_type": "markdown",
   "id": "95191882",
   "metadata": {},
   "source": [
    "### 04-14-2. check empty cells"
   ]
  },
  {
   "cell_type": "code",
   "execution_count": 228,
   "id": "24201a37",
   "metadata": {
    "execution": {
     "iopub.execute_input": "2025-01-21T19:14:14.724929Z",
     "iopub.status.busy": "2025-01-21T19:14:14.724759Z",
     "iopub.status.idle": "2025-01-21T19:14:14.728224Z",
     "shell.execute_reply": "2025-01-21T19:14:14.727896Z"
    }
   },
   "outputs": [
    {
     "name": "stdout",
     "output_type": "stream",
     "text": [
      "(0/7) column: center (168 / 0)\n",
      "(1/7) column: subjectID (168 / 0)\n",
      "(2/7) column: uniqueID (168 / 0)\n",
      "(3/7) column: dischargeSyndromeMalformation (168 / 0)\n",
      "(4/7) column: dischargeBirthDefectCode1 (3 / 165)\n",
      "(5/7) column: dischargeBirthDefectCode2 (0 / 168)\n",
      "(6/7) column: dischargeBirthDefectCode3 (0 / 168)\n"
     ]
    }
   ],
   "source": [
    "COMBINE_harmonizer.check_empty(df_discharge_birth_defect)"
   ]
  },
  {
   "cell_type": "code",
   "execution_count": 229,
   "id": "908ff3c5",
   "metadata": {
    "execution": {
     "iopub.execute_input": "2025-01-21T19:14:14.729929Z",
     "iopub.status.busy": "2025-01-21T19:14:14.729796Z",
     "iopub.status.idle": "2025-01-21T19:14:14.732624Z",
     "shell.execute_reply": "2025-01-21T19:14:14.732325Z"
    }
   },
   "outputs": [
    {
     "name": "stdout",
     "output_type": "stream",
     "text": [
      "(0/7) center: (168/0)\n",
      "(1/7) subjectID: (168/0)\n",
      "(2/7) uniqueID: (168/0)\n",
      "(3/7) dischargeSyndromeMalformation: (168/0)\n",
      "(4/7) dischargeBirthDefectCode1: (3/165)\n",
      "(5/7) dischargeBirthDefectCode2: (0/168)\n",
      "(6/7) dischargeBirthDefectCode3: (0/168)\n"
     ]
    }
   ],
   "source": [
    "COMBINE_harmonizer.column_info(df_discharge_birth_defect)"
   ]
  },
  {
   "cell_type": "code",
   "execution_count": null,
   "id": "42997b61",
   "metadata": {},
   "outputs": [],
   "source": []
  },
  {
   "cell_type": "markdown",
   "id": "2bb14476",
   "metadata": {},
   "source": [
    "## 04-15. Home Therapy"
   ]
  },
  {
   "cell_type": "code",
   "execution_count": 230,
   "id": "cc10c047",
   "metadata": {
    "execution": {
     "iopub.execute_input": "2025-01-21T19:14:14.734402Z",
     "iopub.status.busy": "2025-01-21T19:14:14.734257Z",
     "iopub.status.idle": "2025-01-21T19:14:14.737478Z",
     "shell.execute_reply": "2025-01-21T19:14:14.737123Z"
    }
   },
   "outputs": [
    {
     "data": {
      "text/plain": [
       "['dischargeHomeTherapy',\n",
       " 'dischargeHomeTherapyVentilator',\n",
       " 'dischargeHomeTherapyOxygen',\n",
       " 'dischargeHomeTherapyGavageTubeFeed',\n",
       " 'dischargeHomeTherapyGastrostomyTubeFeed',\n",
       " 'dischargeHomeTherapyTemperatureBlanket',\n",
       " 'dischargeHomeTherapyAnticonvulsantMedication',\n",
       " 'dischargeHomeTherapyOther',\n",
       " 'dischargeHomeTherapyOtherText']"
      ]
     },
     "execution_count": 230,
     "metadata": {},
     "output_type": "execute_result"
    }
   ],
   "source": [
    "discharge_home_therapy_columns = COMBINE_harmonizer.get_columns(df_data_dict, 'NICU Discharge', 'Home Therapy')\n",
    "all_discharge_home_therapy_columns = id_columns + discharge_home_therapy_columns\n",
    "discharge_home_therapy_columns"
   ]
  },
  {
   "cell_type": "code",
   "execution_count": 231,
   "id": "515a7d25",
   "metadata": {
    "execution": {
     "iopub.execute_input": "2025-01-21T19:14:14.738872Z",
     "iopub.status.busy": "2025-01-21T19:14:14.738773Z",
     "iopub.status.idle": "2025-01-21T19:14:14.816562Z",
     "shell.execute_reply": "2025-01-21T19:14:14.815978Z"
    }
   },
   "outputs": [
    {
     "name": "stdout",
     "output_type": "stream",
     "text": [
      "(2/11) dischargeHomeTherapy not in df\n"
     ]
    }
   ],
   "source": [
    "df_discharge_home_therapy = COMBINE_harmonizer.valid_columns(df_main, all_discharge_home_therapy_columns, debug_df=False, debug_columns=True)\n",
    "df_discharge_home_therapy = COMBINE_harmonizer.postprocess(df_discharge_home_therapy)\n",
    "\n",
    "out_filename = os.sep.join([out_dir, '04-15-home-therapy.csv'])\n",
    "df_discharge_home_therapy.to_csv(out_filename, index=False)"
   ]
  },
  {
   "cell_type": "markdown",
   "id": "e3f0bbd0",
   "metadata": {},
   "source": [
    "### 04-15-2. check empty cells"
   ]
  },
  {
   "cell_type": "code",
   "execution_count": 232,
   "id": "e9fcbd4f",
   "metadata": {
    "execution": {
     "iopub.execute_input": "2025-01-21T19:14:14.818950Z",
     "iopub.status.busy": "2025-01-21T19:14:14.818732Z",
     "iopub.status.idle": "2025-01-21T19:14:14.823641Z",
     "shell.execute_reply": "2025-01-21T19:14:14.823272Z"
    }
   },
   "outputs": [
    {
     "name": "stdout",
     "output_type": "stream",
     "text": [
      "(0/11) column: center (168 / 0)\n",
      "(1/11) column: subjectID (168 / 0)\n",
      "(2/11) column: uniqueID (168 / 0)\n",
      "(3/11) column: dischargeHomeTherapyVentilator (140 / 28)\n",
      "(4/11) column: dischargeHomeTherapyOxygen (140 / 28)\n",
      "(5/11) column: dischargeHomeTherapyGavageTubeFeed (140 / 28)\n",
      "(6/11) column: dischargeHomeTherapyGastrostomyTubeFeed (140 / 28)\n",
      "(7/11) column: dischargeHomeTherapyTemperatureBlanket (140 / 28)\n",
      "(8/11) column: dischargeHomeTherapyAnticonvulsantMedication (140 / 28)\n",
      "(9/11) column: dischargeHomeTherapyOther (140 / 28)\n",
      "(10/11) column: dischargeHomeTherapyOtherText (11 / 157)\n"
     ]
    }
   ],
   "source": [
    "COMBINE_harmonizer.check_empty(df_discharge_home_therapy)"
   ]
  },
  {
   "cell_type": "code",
   "execution_count": 233,
   "id": "9f046aae",
   "metadata": {
    "execution": {
     "iopub.execute_input": "2025-01-21T19:14:14.825370Z",
     "iopub.status.busy": "2025-01-21T19:14:14.825242Z",
     "iopub.status.idle": "2025-01-21T19:14:14.828295Z",
     "shell.execute_reply": "2025-01-21T19:14:14.827985Z"
    }
   },
   "outputs": [
    {
     "name": "stdout",
     "output_type": "stream",
     "text": [
      "(0/11) center: (168/0)\n",
      "(1/11) subjectID: (168/0)\n",
      "(2/11) uniqueID: (168/0)\n",
      "(3/11) dischargeHomeTherapyVentilator: (140/28)\n",
      "(4/11) dischargeHomeTherapyOxygen: (140/28)\n",
      "(5/11) dischargeHomeTherapyGavageTubeFeed: (140/28)\n",
      "(6/11) dischargeHomeTherapyGastrostomyTubeFeed: (140/28)\n",
      "(7/11) dischargeHomeTherapyTemperatureBlanket: (140/28)\n",
      "(8/11) dischargeHomeTherapyAnticonvulsantMedication: (140/28)\n",
      "(9/11) dischargeHomeTherapyOther: (140/28)\n",
      "(10/11) dischargeHomeTherapyOtherText: (11/157)\n"
     ]
    }
   ],
   "source": [
    "COMBINE_harmonizer.column_info(df_discharge_home_therapy)"
   ]
  }
 ],
 "metadata": {
  "kernelspec": {
   "display_name": ".venv",
   "language": "python",
   "name": "python3"
  },
  "language_info": {
   "codemirror_mode": {
    "name": "ipython",
    "version": 3
   },
   "file_extension": ".py",
   "mimetype": "text/x-python",
   "name": "python",
   "nbconvert_exporter": "python",
   "pygments_lexer": "ipython3",
   "version": "3.13.0"
  }
 },
 "nbformat": 4,
 "nbformat_minor": 5
}
