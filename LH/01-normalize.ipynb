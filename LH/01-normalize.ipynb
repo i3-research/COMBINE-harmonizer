{
 "cells": [
  {
   "cell_type": "code",
   "execution_count": 1,
   "id": "b489f506-fad1-426c-8c20-01483f08535c",
   "metadata": {
    "execution": {
     "iopub.execute_input": "2025-05-10T00:13:39.005869Z",
     "iopub.status.busy": "2025-05-10T00:13:39.005414Z",
     "iopub.status.idle": "2025-05-10T00:13:40.244322Z",
     "shell.execute_reply": "2025-05-10T00:13:40.244042Z"
    }
   },
   "outputs": [],
   "source": [
    "import pandas as pd\n",
    "pd.options.mode.copy_on_write = True\n",
    "import warnings\n",
    "warnings.simplefilter(action='ignore', category=pd.errors.PerformanceWarning)\n",
    "\n",
    "import os\n",
    "import re\n",
    "import pydoc\n",
    "\n",
    "import COMBINE_harmonizer\n",
    "from COMBINE_harmonizer import cfg"
   ]
  },
  {
   "cell_type": "markdown",
   "id": "d4fd686c-7c99-4fca-b7d1-8bb141cd477a",
   "metadata": {},
   "source": [
    "## 00-0. Variables"
   ]
  },
  {
   "cell_type": "code",
   "execution_count": 2,
   "id": "48d0618d-f788-4439-9571-5e92607aea9a",
   "metadata": {
    "execution": {
     "iopub.execute_input": "2025-05-10T00:13:40.246052Z",
     "iopub.status.busy": "2025-05-10T00:13:40.245903Z",
     "iopub.status.idle": "2025-05-10T00:13:40.247746Z",
     "shell.execute_reply": "2025-05-10T00:13:40.247544Z"
    }
   },
   "outputs": [],
   "source": [
    "study_name = COMBINE_harmonizer.STUDY_LH\n",
    "sheet_name = COMBINE_harmonizer.SHEET_MAIN\n",
    "\n",
    "root_dir = '..'"
   ]
  },
  {
   "cell_type": "code",
   "execution_count": 3,
   "id": "4d14b585",
   "metadata": {
    "execution": {
     "iopub.execute_input": "2025-05-10T00:13:40.248938Z",
     "iopub.status.busy": "2025-05-10T00:13:40.248856Z",
     "iopub.status.idle": "2025-05-10T00:13:40.252197Z",
     "shell.execute_reply": "2025-05-10T00:13:40.251980Z"
    }
   },
   "outputs": [],
   "source": [
    "COMBINE_harmonizer.init(f'{root_dir}/config.yaml')"
   ]
  },
  {
   "cell_type": "code",
   "execution_count": 4,
   "id": "fe65a0c3-3f8f-4064-a8c4-1faf39a43ed4",
   "metadata": {
    "execution": {
     "iopub.execute_input": "2025-05-10T00:13:40.253466Z",
     "iopub.status.busy": "2025-05-10T00:13:40.253392Z",
     "iopub.status.idle": "2025-05-10T00:13:40.255705Z",
     "shell.execute_reply": "2025-05-10T00:13:40.255483Z"
    }
   },
   "outputs": [],
   "source": [
    "_FILENAMES = [\n",
    "    'lh01.csv',\n",
    "    'lh02.csv',\n",
    "    'lh04.csv',\n",
    "    'lh05.csv',\n",
    "    'lh06.csv',\n",
    "    'lh06a.csv',\n",
    "    'lh06bg.csv',\n",
    "    'lh06cv.csv',\n",
    "    'lh06f.csv',\n",
    "    'lh06he.csv',\n",
    "    'lh06ht.csv',\n",
    "    'lh06om.csv',\n",
    "    'lh06rs.csv',\n",
    "    'lh06tr.csv',\n",
    "    'lh07.csv',\n",
    "    'lh09.csv',\n",
    "    'lh10.csv',\n",
    "    'lh11.csv',\n",
    "    'lh12.csv',\n",
    "    'lh13.csv',\n",
    "    'lh14.csv',\n",
    "    'lhmr01.csv',\n",
    "    'lhmr02.csv',\n",
    "    'lhmr03.csv',\n",
    "]\n",
    "\n",
    "_ANALYSIS_FILENAMES = [\n",
    "    'analysis.csv',\n",
    "]\n",
    "\n",
    "# intended for single record per unique-id.\n",
    "_FILENAMES_MERGE = [\n",
    "    'lh01.csv',\n",
    "    'lh02.csv',\n",
    "    'lh04.csv',\n",
    "    'lh05.csv',\n",
    "    'lh06.csv',\n",
    "    'lh10.csv',\n",
    "    'lh11.csv',\n",
    "    'lh12.csv',\n",
    "    'lh13.csv',\n",
    "\n",
    "    'analysis.csv',\n",
    "]\n",
    "\n",
    "# MRI intended for single record per unique-id.\n",
    "_MRI_FILENAMES_MERGE = [\n",
    "    'lhmr01.csv',\n",
    "    'lhmr02.csv',\n",
    "\n",
    "    'analysis.csv',\n",
    "]\n",
    "\n",
    "_MRI_FILENAME = 'lhmr03.csv'\n"
   ]
  },
  {
   "cell_type": "code",
   "execution_count": 5,
   "id": "1aa45ae9-189d-4602-83cf-6c5e702b2e64",
   "metadata": {
    "execution": {
     "iopub.execute_input": "2025-05-10T00:13:40.256939Z",
     "iopub.status.busy": "2025-05-10T00:13:40.256857Z",
     "iopub.status.idle": "2025-05-10T00:13:40.270451Z",
     "shell.execute_reply": "2025-05-10T00:13:40.270239Z"
    }
   },
   "outputs": [],
   "source": [
    "input_dir = cfg.config[f'{study_name}_dir']\n",
    "input_analysis_dir = cfg.config[f'{study_name}_analysis_dir']\n",
    "\n",
    "data_dict_filename = f\"{root_dir}/{COMBINE_harmonizer.DATA_DICTIONARY_EXCEL}\"\n",
    "out_dir = f\"{cfg.config['out_dir']}/out-{study_name}\"\n",
    "\n",
    "os.makedirs(out_dir, exist_ok=True)"
   ]
  },
  {
   "cell_type": "markdown",
   "id": "b285c802-c2b9-425b-b38d-d220775e47a9",
   "metadata": {},
   "source": [
    "### 00-1. Column Map"
   ]
  },
  {
   "cell_type": "code",
   "execution_count": 6,
   "id": "77c974c4-8083-48e9-b0ad-fd1879f6be5a",
   "metadata": {
    "execution": {
     "iopub.execute_input": "2025-05-10T00:13:40.271770Z",
     "iopub.status.busy": "2025-05-10T00:13:40.271696Z",
     "iopub.status.idle": "2025-05-10T00:13:40.655584Z",
     "shell.execute_reply": "2025-05-10T00:13:40.655233Z"
    }
   },
   "outputs": [],
   "source": [
    "df_data_dict = COMBINE_harmonizer.load_data_dict(data_dict_filename, sheet_name=sheet_name)\n",
    "all_valid_columns = list(df_data_dict[COMBINE_harmonizer.DATA_DICT_VAR_NAME])\n",
    "column_map = {each[study_name]: each[COMBINE_harmonizer.DATA_DICT_VAR_NAME] for _, each in df_data_dict.iterrows()}"
   ]
  },
  {
   "cell_type": "markdown",
   "id": "b77a20a2-6214-431c-91e1-07d5cbca7ee8",
   "metadata": {},
   "source": [
    "### 00-2. df-dict from _FILENAMES and _ANALYSIS_FILENAMES"
   ]
  },
  {
   "cell_type": "code",
   "execution_count": 7,
   "id": "929d693d-3bf8-4811-8872-f9eb8880a58c",
   "metadata": {
    "execution": {
     "iopub.execute_input": "2025-05-10T00:13:40.657117Z",
     "iopub.status.busy": "2025-05-10T00:13:40.657026Z",
     "iopub.status.idle": "2025-05-10T00:13:40.968127Z",
     "shell.execute_reply": "2025-05-10T00:13:40.967706Z"
    }
   },
   "outputs": [],
   "source": [
    "df_dict = {\n",
    "    filename: pd.read_csv(os.sep.join([input_dir, filename]), dtype='O').rename(columns=column_map)\n",
    "    for filename in _FILENAMES\n",
    "}\n",
    "\n",
    "df_analysis_dict = {filename: pd.read_csv(os.sep.join([input_analysis_dir, filename]), dtype='O').rename(columns=column_map) for filename in _ANALYSIS_FILENAMES}\n",
    "\n",
    "df_dict.update(df_analysis_dict)\n"
   ]
  },
  {
   "cell_type": "markdown",
   "id": "ad0e089a-a95b-44f0-b7a9-1c80cc85a484",
   "metadata": {},
   "source": [
    "### 00-3. df-all and df-main"
   ]
  },
  {
   "cell_type": "code",
   "execution_count": 8,
   "id": "7d00a1d9-b808-4af9-a5ca-d984bb5e03fd",
   "metadata": {
    "execution": {
     "iopub.execute_input": "2025-05-10T00:13:40.970561Z",
     "iopub.status.busy": "2025-05-10T00:13:40.970361Z",
     "iopub.status.idle": "2025-05-10T00:13:41.016613Z",
     "shell.execute_reply": "2025-05-10T00:13:41.015692Z"
    }
   },
   "outputs": [
    {
     "data": {
      "text/plain": [
       "(3088, 452)"
      ]
     },
     "execution_count": 8,
     "metadata": {},
     "output_type": "execute_result"
    }
   ],
   "source": [
    "df_all = None\n",
    "for idx, each_filename in enumerate(_FILENAMES_MERGE):\n",
    "    each_df = df_dict[each_filename]\n",
    "    columns = list(each_df.columns)\n",
    "    each_filename_prefix = re.sub(r'\\.csv$', '', each_filename)\n",
    "\n",
    "    if df_all is None:\n",
    "        df_all = each_df\n",
    "    else:\n",
    "        df_all = df_all.merge(each_df, on=['center', 'subjectID'], how='outer', suffixes=['', ':' + each_filename_prefix])\n",
    "\n",
    "len(df_all), len(df_all.columns)"
   ]
  },
  {
   "cell_type": "markdown",
   "id": "c65be1c8",
   "metadata": {},
   "source": []
  },
  {
   "cell_type": "code",
   "execution_count": 9,
   "id": "ae9a86c0-8cda-4362-953f-cb652e5bc1c1",
   "metadata": {
    "execution": {
     "iopub.execute_input": "2025-05-10T00:13:41.019845Z",
     "iopub.status.busy": "2025-05-10T00:13:41.019499Z",
     "iopub.status.idle": "2025-05-10T00:13:41.026764Z",
     "shell.execute_reply": "2025-05-10T00:13:41.026465Z"
    }
   },
   "outputs": [
    {
     "name": "stdout",
     "output_type": "stream",
     "text": [
      "to set main\n"
     ]
    },
    {
     "data": {
      "text/plain": [
       "(168, 452)"
      ]
     },
     "execution_count": 9,
     "metadata": {},
     "output_type": "execute_result"
    }
   ],
   "source": [
    "# main\n",
    "print('to set main')\n",
    "is_main = df_all['randomNumber'].isnull() == False\n",
    "\n",
    "df_main = df_all[is_main]\n",
    "len(df_main), len(df_main.columns)"
   ]
  },
  {
   "cell_type": "markdown",
   "id": "f5b6782a-4469-43e4-ad39-baf41819c11a",
   "metadata": {},
   "source": [
    "### 00-4. identifier-column"
   ]
  },
  {
   "cell_type": "code",
   "execution_count": 10,
   "id": "61a86c14-03a7-4ed9-960e-785a336c474b",
   "metadata": {
    "execution": {
     "iopub.execute_input": "2025-05-10T00:13:41.028191Z",
     "iopub.status.busy": "2025-05-10T00:13:41.028089Z",
     "iopub.status.idle": "2025-05-10T00:13:41.030725Z",
     "shell.execute_reply": "2025-05-10T00:13:41.030454Z"
    }
   },
   "outputs": [
    {
     "data": {
      "text/plain": [
       "['center', 'subjectID']"
      ]
     },
     "execution_count": 10,
     "metadata": {},
     "output_type": "execute_result"
    }
   ],
   "source": [
    "id_columns = COMBINE_harmonizer.get_columns(df_data_dict, COMBINE_harmonizer.CATEGORY_PRE_INTERVENTION, COMBINE_harmonizer.SUBCATEGORY_IDENTITY)\n",
    "id_columns"
   ]
  },
  {
   "cell_type": "markdown",
   "id": "f5ba0833-5c1b-4525-b3c0-3dbebd58b374",
   "metadata": {},
   "source": [
    "## 01-02. screening"
   ]
  },
  {
   "cell_type": "code",
   "execution_count": 11,
   "id": "d8e4550f-e2f8-4612-b53a-d4a045f16d1e",
   "metadata": {
    "execution": {
     "iopub.execute_input": "2025-05-10T00:13:41.031966Z",
     "iopub.status.busy": "2025-05-10T00:13:41.031872Z",
     "iopub.status.idle": "2025-05-10T00:13:41.034470Z",
     "shell.execute_reply": "2025-05-10T00:13:41.034255Z"
    }
   },
   "outputs": [
    {
     "data": {
      "text/plain": [
       "['siteID',\n",
       " 'birthDate',\n",
       " 'birthNumber',\n",
       " 'screenComment',\n",
       " 'coreTempLess32p5CGreaterEq2Hr_e',\n",
       " 'coreTempLess33p5CGreater1Hr_e',\n",
       " 'coreTempLess34CGreater1Hr_e',\n",
       " 'first6HrCoolByClinicalProtocol_e',\n",
       " 'chromosomalAbnormality_e',\n",
       " 'majorCongenitalAnomaly_e',\n",
       " 'birthWeightLessEq1800g_e',\n",
       " 'infantUnlikelySurvive_e',\n",
       " 'first60MinAllBloodGasPHGreater7p15BaseDeficitLess10mEqPerL_e',\n",
       " 'postnatalAgeLess6HrOrGreater24Hr_e',\n",
       " 'enrolledConflictingTrial_e',\n",
       " 'first60MinAnyBloodGasPHLessEq7_i',\n",
       " 'first60MinAnyBloodGasBaseDeficitGreaterEq16mEqPerL_i',\n",
       " 'historyPerinatalEvent_i',\n",
       " 'at10MinApgarLessEq5OrVent_i',\n",
       " 'randomEligible',\n",
       " 'consentStatus',\n",
       " 'noConsentReason',\n",
       " 'noInStudyReason',\n",
       " 'random',\n",
       " 'noRandomReason',\n",
       " 'noRandomReasonText',\n",
       " 'randomDate',\n",
       " 'randomTime',\n",
       " 'ageRand_hr',\n",
       " 'randomNumber',\n",
       " 'randomTreatmentAssign',\n",
       " 'randomTreatmentReceive',\n",
       " 'treatmentBlanketType',\n",
       " 'treatmentAssignmentDuration_hr',\n",
       " 'treatmentAssignmentTemperature',\n",
       " 'usualCoolingTreatmentGroup',\n",
       " 'inOtherTrial',\n",
       " 'inOtherTrialText',\n",
       " 'consideredForHypothermia',\n",
       " 'hypothermia',\n",
       " 'noHypothermiaReason',\n",
       " 'noHypothermiaReasonOther',\n",
       " 'hypothermiaStandard',\n",
       " 'hypothermiaDeviationOther']"
      ]
     },
     "execution_count": 11,
     "metadata": {},
     "output_type": "execute_result"
    }
   ],
   "source": [
    "screening_columns = COMBINE_harmonizer.get_columns(\n",
    "    df_data_dict,\n",
    "    COMBINE_harmonizer.CATEGORY_PRE_INTERVENTION,\n",
    "    COMBINE_harmonizer.SUBCATEGORY_SCREENING)\n",
    "all_screening_columns = id_columns + screening_columns\n",
    "screening_columns"
   ]
  },
  {
   "cell_type": "code",
   "execution_count": 12,
   "id": "7ede700d-a34c-4fd0-bfc6-435221b2e8f5",
   "metadata": {
    "execution": {
     "iopub.execute_input": "2025-05-10T00:13:41.036374Z",
     "iopub.status.busy": "2025-05-10T00:13:41.036255Z",
     "iopub.status.idle": "2025-05-10T00:13:41.193379Z",
     "shell.execute_reply": "2025-05-10T00:13:41.193029Z"
    }
   },
   "outputs": [
    {
     "name": "stdout",
     "output_type": "stream",
     "text": [
      "to set screening\n",
      "(5/46) screenComment not in df\n",
      "(6/46) coreTempLess32p5CGreaterEq2Hr_e not in df\n",
      "(7/46) coreTempLess33p5CGreater1Hr_e not in df\n",
      "(21/46) randomEligible not in df\n",
      "(25/46) random not in df\n",
      "(26/46) noRandomReason not in df\n",
      "(27/46) noRandomReasonText not in df\n",
      "(30/46) ageRand_hr not in df\n",
      "(33/46) randomTreatmentReceive not in df\n",
      "(34/46) treatmentBlanketType not in df\n",
      "(35/46) treatmentAssignmentDuration_hr not in df\n",
      "(36/46) treatmentAssignmentTemperature not in df\n",
      "(37/46) usualCoolingTreatmentGroup not in df\n",
      "(40/46) consideredForHypothermia not in df\n",
      "(41/46) hypothermia not in df\n",
      "(42/46) noHypothermiaReason not in df\n",
      "(43/46) noHypothermiaReasonOther not in df\n",
      "(44/46) hypothermiaStandard not in df\n",
      "(45/46) hypothermiaDeviationOther not in df\n",
      "(5/46) screenComment not in df\n",
      "(6/46) coreTempLess32p5CGreaterEq2Hr_e not in df\n",
      "(7/46) coreTempLess33p5CGreater1Hr_e not in df\n",
      "(21/46) randomEligible not in df\n",
      "(25/46) random not in df\n",
      "(26/46) noRandomReason not in df\n",
      "(27/46) noRandomReasonText not in df\n",
      "(30/46) ageRand_hr not in df\n",
      "(33/46) randomTreatmentReceive not in df\n",
      "(34/46) treatmentBlanketType not in df\n",
      "(35/46) treatmentAssignmentDuration_hr not in df\n",
      "(36/46) treatmentAssignmentTemperature not in df\n",
      "(37/46) usualCoolingTreatmentGroup not in df\n",
      "(40/46) consideredForHypothermia not in df\n",
      "(41/46) hypothermia not in df\n",
      "(42/46) noHypothermiaReason not in df\n",
      "(43/46) noHypothermiaReasonOther not in df\n",
      "(44/46) hypothermiaStandard not in df\n",
      "(45/46) hypothermiaDeviationOther not in df\n"
     ]
    }
   ],
   "source": [
    "# screening\n",
    "print('to set screening')\n",
    "df_screening = COMBINE_harmonizer.valid_columns(df_all, all_screening_columns)\n",
    "df_screening = COMBINE_harmonizer.postprocess(df_screening)\n",
    "\n",
    "out_filename = os.sep.join([out_dir, '00-02-screening.csv'])\n",
    "df_screening.to_csv(out_filename, index=False)\n",
    "\n",
    "df_main_screening = COMBINE_harmonizer.valid_columns(df_main, all_screening_columns)\n",
    "df_main_screening = COMBINE_harmonizer.postprocess(df_main_screening)\n",
    "\n",
    "out_filename = os.sep.join([out_dir, '01-02-screening.csv'])\n",
    "df_main_screening.to_csv(out_filename, index=False)"
   ]
  },
  {
   "cell_type": "markdown",
   "id": "da14e155-db10-4f30-970b-9548d360b2bc",
   "metadata": {},
   "source": [
    "### 01-02-1. check screening"
   ]
  },
  {
   "cell_type": "code",
   "execution_count": 13,
   "id": "4370e2f9-f57e-45f1-af7f-1bdc97e28fe8",
   "metadata": {
    "execution": {
     "iopub.execute_input": "2025-05-10T00:13:41.194947Z",
     "iopub.status.busy": "2025-05-10T00:13:41.194848Z",
     "iopub.status.idle": "2025-05-10T00:13:41.198635Z",
     "shell.execute_reply": "2025-05-10T00:13:41.198321Z"
    }
   },
   "outputs": [
    {
     "data": {
      "text/plain": [
       "(21, 656, 3088, 3088)"
      ]
     },
     "execution_count": 13,
     "metadata": {},
     "output_type": "execute_result"
    }
   ],
   "source": [
    "len(df_screening['center'].unique()), len(df_screening['subjectID'].unique()), len(df_screening['uniqueID'].unique()), len(df_screening)"
   ]
  },
  {
   "cell_type": "code",
   "execution_count": 14,
   "id": "8e691b77-1cef-42d8-8e11-de1eefc83cbd",
   "metadata": {
    "execution": {
     "iopub.execute_input": "2025-05-10T00:13:41.200229Z",
     "iopub.status.busy": "2025-05-10T00:13:41.200115Z",
     "iopub.status.idle": "2025-05-10T00:13:41.208986Z",
     "shell.execute_reply": "2025-05-10T00:13:41.208626Z"
    }
   },
   "outputs": [
    {
     "data": {
      "text/html": [
       "<div>\n",
       "<style scoped>\n",
       "    .dataframe tbody tr th:only-of-type {\n",
       "        vertical-align: middle;\n",
       "    }\n",
       "\n",
       "    .dataframe tbody tr th {\n",
       "        vertical-align: top;\n",
       "    }\n",
       "\n",
       "    .dataframe thead th {\n",
       "        text-align: right;\n",
       "    }\n",
       "</style>\n",
       "<table border=\"1\" class=\"dataframe\">\n",
       "  <thead>\n",
       "    <tr style=\"text-align: right;\">\n",
       "      <th></th>\n",
       "      <th>_count</th>\n",
       "    </tr>\n",
       "    <tr>\n",
       "      <th>uniqueID</th>\n",
       "      <th></th>\n",
       "    </tr>\n",
       "  </thead>\n",
       "  <tbody>\n",
       "  </tbody>\n",
       "</table>\n",
       "</div>"
      ],
      "text/plain": [
       "Empty DataFrame\n",
       "Columns: [_count]\n",
       "Index: []"
      ]
     },
     "execution_count": 14,
     "metadata": {},
     "output_type": "execute_result"
    }
   ],
   "source": [
    "df_screening_groupby = df_screening.groupby(['uniqueID']).agg(_count=('uniqueID', 'count'))\n",
    "\n",
    "is_invalid = df_screening_groupby['_count'] > 1\n",
    "df_screening_groupby[is_invalid]"
   ]
  },
  {
   "cell_type": "markdown",
   "id": "1c327177-5f4e-4a84-a36c-91ac4c33e221",
   "metadata": {},
   "source": [
    "### 01-02-2. check empty cells"
   ]
  },
  {
   "cell_type": "code",
   "execution_count": 15,
   "id": "163936b7-2777-41f1-bb70-6fac4b7098cc",
   "metadata": {
    "execution": {
     "iopub.execute_input": "2025-05-10T00:13:41.210938Z",
     "iopub.status.busy": "2025-05-10T00:13:41.210785Z",
     "iopub.status.idle": "2025-05-10T00:13:41.220710Z",
     "shell.execute_reply": "2025-05-10T00:13:41.220433Z"
    }
   },
   "outputs": [
    {
     "name": "stdout",
     "output_type": "stream",
     "text": [
      "(0/28) column: center (3088 / 0)\n",
      "(1/28) column: subjectID (3088 / 0)\n",
      "(2/28) column: uniqueID (3088 / 0)\n",
      "(3/28) column: siteID (3088 / 0)\n",
      "(4/28) column: birthDate (3088 / 0)\n",
      "(5/28) column: birthNumber (3087 / 1)\n",
      "(6/28) column: coreTempLess34CGreater1Hr_e (3088 / 0)\n",
      "(7/28) column: first6HrCoolByClinicalProtocol_e (1295 / 1793)\n",
      "(8/28) column: chromosomalAbnormality_e (3088 / 0)\n",
      "(9/28) column: majorCongenitalAnomaly_e (3088 / 0)\n",
      "(10/28) column: birthWeightLessEq1800g_e (3088 / 0)\n",
      "(11/28) column: infantUnlikelySurvive_e (3088 / 0)\n",
      "(12/28) column: first60MinAllBloodGasPHGreater7p15BaseDeficitLess10mEqPerL_e (2774 / 314)\n",
      "(13/28) column: postnatalAgeLess6HrOrGreater24Hr_e (3088 / 0)\n",
      "(14/28) column: enrolledConflictingTrial_e (2968 / 120)\n",
      "(15/28) column: first60MinAnyBloodGasPHLessEq7_i (1121 / 1967)\n",
      "(16/28) column: first60MinAnyBloodGasBaseDeficitGreaterEq16mEqPerL_i (1080 / 2008)\n",
      "(17/28) column: historyPerinatalEvent_i (632 / 2456)\n",
      "(18/28) column: at10MinApgarLessEq5OrVent_i (632 / 2456)\n",
      "(19/28) column: noConsentReason (13 / 3075)\n",
      "(20/28) column: noInStudyReason (1 / 3087)\n",
      "(21/28) column: consentStatus (3088 / 0)\n",
      "(22/28) column: randomDate (168 / 2920)\n",
      "(23/28) column: randomTime (168 / 2920)\n",
      "(24/28) column: randomNumber (168 / 2920)\n",
      "(25/28) column: randomTreatmentAssign (168 / 2920)\n",
      "(26/28) column: inOtherTrial (168 / 2920)\n",
      "(27/28) column: inOtherTrialText (2 / 3086)\n"
     ]
    }
   ],
   "source": [
    "COMBINE_harmonizer.check_empty(df_screening)"
   ]
  },
  {
   "cell_type": "markdown",
   "id": "f8d9c1fd-7d30-4e06-a404-72ff90366dca",
   "metadata": {},
   "source": [
    "### 01-02-3. check main-screening"
   ]
  },
  {
   "cell_type": "code",
   "execution_count": 16,
   "id": "1d36d01b-0a8b-4f6e-a515-d813c4618c0d",
   "metadata": {
    "execution": {
     "iopub.execute_input": "2025-05-10T00:13:41.222485Z",
     "iopub.status.busy": "2025-05-10T00:13:41.222338Z",
     "iopub.status.idle": "2025-05-10T00:13:41.225909Z",
     "shell.execute_reply": "2025-05-10T00:13:41.225588Z"
    }
   },
   "outputs": [
    {
     "data": {
      "text/plain": [
       "(21, 122, 168, 168)"
      ]
     },
     "execution_count": 16,
     "metadata": {},
     "output_type": "execute_result"
    }
   ],
   "source": [
    "len(df_main_screening['center'].unique()), len(df_main_screening['subjectID'].unique()), len(df_main_screening['uniqueID'].unique()), len(df_main_screening)"
   ]
  },
  {
   "cell_type": "code",
   "execution_count": 17,
   "id": "271b136d-4004-44c5-9d3f-f5e26f588909",
   "metadata": {
    "execution": {
     "iopub.execute_input": "2025-05-10T00:13:41.227453Z",
     "iopub.status.busy": "2025-05-10T00:13:41.227345Z",
     "iopub.status.idle": "2025-05-10T00:13:41.233066Z",
     "shell.execute_reply": "2025-05-10T00:13:41.232702Z"
    }
   },
   "outputs": [
    {
     "data": {
      "text/html": [
       "<div>\n",
       "<style scoped>\n",
       "    .dataframe tbody tr th:only-of-type {\n",
       "        vertical-align: middle;\n",
       "    }\n",
       "\n",
       "    .dataframe tbody tr th {\n",
       "        vertical-align: top;\n",
       "    }\n",
       "\n",
       "    .dataframe thead th {\n",
       "        text-align: right;\n",
       "    }\n",
       "</style>\n",
       "<table border=\"1\" class=\"dataframe\">\n",
       "  <thead>\n",
       "    <tr style=\"text-align: right;\">\n",
       "      <th></th>\n",
       "      <th>_count</th>\n",
       "    </tr>\n",
       "    <tr>\n",
       "      <th>uniqueID</th>\n",
       "      <th></th>\n",
       "    </tr>\n",
       "  </thead>\n",
       "  <tbody>\n",
       "  </tbody>\n",
       "</table>\n",
       "</div>"
      ],
      "text/plain": [
       "Empty DataFrame\n",
       "Columns: [_count]\n",
       "Index: []"
      ]
     },
     "execution_count": 17,
     "metadata": {},
     "output_type": "execute_result"
    }
   ],
   "source": [
    "df_main_screening_groupby = df_main_screening.groupby(['uniqueID']).agg(_count=('uniqueID', 'count'))\n",
    "\n",
    "is_invalid = df_main_screening_groupby['_count'] > 1\n",
    "df_main_screening_groupby[is_invalid]"
   ]
  },
  {
   "cell_type": "markdown",
   "id": "163fb000-06fc-4aa0-97a9-c73fa8baf7d4",
   "metadata": {},
   "source": [
    "### 01-02-4. check empty cells"
   ]
  },
  {
   "cell_type": "code",
   "execution_count": 18,
   "id": "e063a916-fdc6-489e-bd61-25e96c16f0d1",
   "metadata": {
    "execution": {
     "iopub.execute_input": "2025-05-10T00:13:41.234840Z",
     "iopub.status.busy": "2025-05-10T00:13:41.234641Z",
     "iopub.status.idle": "2025-05-10T00:13:41.239255Z",
     "shell.execute_reply": "2025-05-10T00:13:41.238871Z"
    }
   },
   "outputs": [
    {
     "name": "stdout",
     "output_type": "stream",
     "text": [
      "(0/28) column: center (168 / 0)\n",
      "(1/28) column: subjectID (168 / 0)\n",
      "(2/28) column: uniqueID (168 / 0)\n",
      "(3/28) column: siteID (168 / 0)\n",
      "(4/28) column: birthDate (168 / 0)\n",
      "(5/28) column: birthNumber (168 / 0)\n",
      "(6/28) column: coreTempLess34CGreater1Hr_e (168 / 0)\n",
      "(7/28) column: first6HrCoolByClinicalProtocol_e (0 / 168)\n",
      "(8/28) column: chromosomalAbnormality_e (168 / 0)\n",
      "(9/28) column: majorCongenitalAnomaly_e (168 / 0)\n",
      "(10/28) column: birthWeightLessEq1800g_e (168 / 0)\n",
      "(11/28) column: infantUnlikelySurvive_e (168 / 0)\n",
      "(12/28) column: first60MinAllBloodGasPHGreater7p15BaseDeficitLess10mEqPerL_e (153 / 15)\n",
      "(13/28) column: postnatalAgeLess6HrOrGreater24Hr_e (168 / 0)\n",
      "(14/28) column: enrolledConflictingTrial_e (162 / 6)\n",
      "(15/28) column: first60MinAnyBloodGasPHLessEq7_i (156 / 12)\n",
      "(16/28) column: first60MinAnyBloodGasBaseDeficitGreaterEq16mEqPerL_i (141 / 27)\n",
      "(17/28) column: historyPerinatalEvent_i (44 / 124)\n",
      "(18/28) column: at10MinApgarLessEq5OrVent_i (44 / 124)\n",
      "(19/28) column: noConsentReason (0 / 168)\n",
      "(20/28) column: noInStudyReason (0 / 168)\n",
      "(21/28) column: consentStatus (168 / 0)\n",
      "(22/28) column: randomDate (168 / 0)\n",
      "(23/28) column: randomTime (168 / 0)\n",
      "(24/28) column: randomNumber (168 / 0)\n",
      "(25/28) column: randomTreatmentAssign (168 / 0)\n",
      "(26/28) column: inOtherTrial (168 / 0)\n",
      "(27/28) column: inOtherTrialText (2 / 166)\n"
     ]
    }
   ],
   "source": [
    "COMBINE_harmonizer.check_empty(df_main_screening)"
   ]
  },
  {
   "cell_type": "code",
   "execution_count": 19,
   "id": "212d30f6",
   "metadata": {
    "execution": {
     "iopub.execute_input": "2025-05-10T00:13:41.240824Z",
     "iopub.status.busy": "2025-05-10T00:13:41.240709Z",
     "iopub.status.idle": "2025-05-10T00:13:41.244183Z",
     "shell.execute_reply": "2025-05-10T00:13:41.243896Z"
    }
   },
   "outputs": [
    {
     "name": "stdout",
     "output_type": "stream",
     "text": [
      "(0/28) center: (168/0)\n",
      "(1/28) subjectID: (168/0)\n",
      "(2/28) uniqueID: (168/0)\n",
      "(3/28) siteID: (168/0)\n",
      "(4/28) birthDate: (168/0)\n",
      "(5/28) birthNumber: (168/0)\n",
      "(6/28) coreTempLess34CGreater1Hr_e: (168/0)\n",
      "(7/28) first6HrCoolByClinicalProtocol_e: (0/168)\n",
      "(8/28) chromosomalAbnormality_e: (168/0)\n",
      "(9/28) majorCongenitalAnomaly_e: (168/0)\n",
      "(10/28) birthWeightLessEq1800g_e: (168/0)\n",
      "(11/28) infantUnlikelySurvive_e: (168/0)\n",
      "(12/28) first60MinAllBloodGasPHGreater7p15BaseDeficitLess10mEqPerL_e: (153/15)\n",
      "(13/28) postnatalAgeLess6HrOrGreater24Hr_e: (168/0)\n",
      "(14/28) enrolledConflictingTrial_e: (162/6)\n",
      "(15/28) first60MinAnyBloodGasPHLessEq7_i: (156/12)\n",
      "(16/28) first60MinAnyBloodGasBaseDeficitGreaterEq16mEqPerL_i: (141/27)\n",
      "(17/28) historyPerinatalEvent_i: (44/124)\n",
      "(18/28) at10MinApgarLessEq5OrVent_i: (44/124)\n",
      "(19/28) noConsentReason: (0/168)\n",
      "(20/28) noInStudyReason: (0/168)\n",
      "(21/28) consentStatus: (168/0)\n",
      "(22/28) randomDate: (168/0)\n",
      "(23/28) randomTime: (168/0)\n",
      "(24/28) randomNumber: (168/0)\n",
      "(25/28) randomTreatmentAssign: (168/0)\n",
      "(26/28) inOtherTrial: (168/0)\n",
      "(27/28) inOtherTrialText: (2/166)\n"
     ]
    }
   ],
   "source": [
    "COMBINE_harmonizer.column_info(df_main_screening)"
   ]
  },
  {
   "cell_type": "markdown",
   "id": "215666b2",
   "metadata": {},
   "source": [
    "## 01-12. Pre-intervention Neuro Exam"
   ]
  },
  {
   "cell_type": "code",
   "execution_count": 20,
   "id": "49a9c90e",
   "metadata": {
    "execution": {
     "iopub.execute_input": "2025-05-10T00:13:41.245632Z",
     "iopub.status.busy": "2025-05-10T00:13:41.245521Z",
     "iopub.status.idle": "2025-05-10T00:13:41.248488Z",
     "shell.execute_reply": "2025-05-10T00:13:41.248236Z"
    }
   },
   "outputs": [
    {
     "data": {
      "text/plain": [
       "['pre_NeuroExam',\n",
       " 'pre_NoNeuroExamReason',\n",
       " 'pre_NeuroExamSignModerateSevereHIE3Category',\n",
       " 'pre_NeuroExamLevelConsciousness',\n",
       " 'pre_NeuroExamSpontaneousActivity',\n",
       " 'pre_NeuroExamPosture',\n",
       " 'pre_NeuroExamTone',\n",
       " 'pre_NeuroExamSuck',\n",
       " 'pre_NeuroExamMoro',\n",
       " 'pre_NeuroExamPupils',\n",
       " 'pre_NeuroExamHeartRate',\n",
       " 'pre_NeuroExamRespiration',\n",
       " 'pre_NeuroExamLevelConsciousnessScore',\n",
       " 'pre_NeuroExamSpontaneousActivityScore',\n",
       " 'pre_NeuroExamPostureScore',\n",
       " 'pre_NeuroExamToneScore',\n",
       " 'pre_NeuroExamSuckScore',\n",
       " 'pre_NeuroExamMoroScore',\n",
       " 'pre_NeuroExamPupilsScore',\n",
       " 'pre_NeuroExamHeartRateScore',\n",
       " 'pre_NeuroExamRespirationScore',\n",
       " 'pre_NeuroExamReflexScore',\n",
       " 'pre_NeuroExamANSScore',\n",
       " 'pre_TotalModifiedSarnatScore',\n",
       " 'pre_NeuroExamDate',\n",
       " 'pre_NeuroExamTime',\n",
       " 'pre_NeuroExamSedate',\n",
       " 'pre_NeuroExamSeizure']"
      ]
     },
     "execution_count": 20,
     "metadata": {},
     "output_type": "execute_result"
    }
   ],
   "source": [
    "pre_neuro_columns = COMBINE_harmonizer.get_columns(\n",
    "    df_data_dict,\n",
    "    COMBINE_harmonizer.CATEGORY_PRE_INTERVENTION,\n",
    "    COMBINE_harmonizer.SUBCATEGORY_NEURO_EXAM)\n",
    "all_screening_neuro_columns = id_columns + pre_neuro_columns\n",
    "pre_neuro_columns"
   ]
  },
  {
   "cell_type": "code",
   "execution_count": 21,
   "id": "cf49f48e",
   "metadata": {
    "execution": {
     "iopub.execute_input": "2025-05-10T00:13:41.249788Z",
     "iopub.status.busy": "2025-05-10T00:13:41.249680Z",
     "iopub.status.idle": "2025-05-10T00:13:41.396700Z",
     "shell.execute_reply": "2025-05-10T00:13:41.396172Z"
    }
   },
   "outputs": [
    {
     "name": "stdout",
     "output_type": "stream",
     "text": [
      "to set pre-intervention neuro exam\n",
      "(14/30) pre_NeuroExamLevelConsciousnessScore not in df\n",
      "(15/30) pre_NeuroExamSpontaneousActivityScore not in df\n",
      "(16/30) pre_NeuroExamPostureScore not in df\n",
      "(17/30) pre_NeuroExamToneScore not in df\n",
      "(18/30) pre_NeuroExamSuckScore not in df\n",
      "(19/30) pre_NeuroExamMoroScore not in df\n",
      "(20/30) pre_NeuroExamPupilsScore not in df\n",
      "(21/30) pre_NeuroExamHeartRateScore not in df\n",
      "(22/30) pre_NeuroExamRespirationScore not in df\n",
      "(23/30) pre_NeuroExamReflexScore not in df\n",
      "(24/30) pre_NeuroExamANSScore not in df\n",
      "(25/30) pre_TotalModifiedSarnatScore not in df\n",
      "(14/30) pre_NeuroExamLevelConsciousnessScore not in df\n",
      "(15/30) pre_NeuroExamSpontaneousActivityScore not in df\n",
      "(16/30) pre_NeuroExamPostureScore not in df\n",
      "(17/30) pre_NeuroExamToneScore not in df\n",
      "(18/30) pre_NeuroExamSuckScore not in df\n",
      "(19/30) pre_NeuroExamMoroScore not in df\n",
      "(20/30) pre_NeuroExamPupilsScore not in df\n",
      "(21/30) pre_NeuroExamHeartRateScore not in df\n",
      "(22/30) pre_NeuroExamRespirationScore not in df\n",
      "(23/30) pre_NeuroExamReflexScore not in df\n",
      "(24/30) pre_NeuroExamANSScore not in df\n",
      "(25/30) pre_TotalModifiedSarnatScore not in df\n"
     ]
    }
   ],
   "source": [
    "print('to set pre-intervention neuro exam')\n",
    "df_pre_neuro = COMBINE_harmonizer.valid_columns(df_all, all_screening_neuro_columns)\n",
    "df_pre_neuro = COMBINE_harmonizer.postprocess(df_pre_neuro)\n",
    "\n",
    "out_filename = os.sep.join([out_dir, '00-12-neuro-exam.csv'])\n",
    "df_pre_neuro.to_csv(out_filename, index=False)\n",
    "\n",
    "df_main_pre_neuro = COMBINE_harmonizer.valid_columns(df_main, all_screening_neuro_columns)\n",
    "df_main_pre_neuro = COMBINE_harmonizer.postprocess(df_main_pre_neuro)\n",
    "\n",
    "out_filename = os.sep.join([out_dir, '01-12-neuro-exam.csv'])\n",
    "df_main_pre_neuro.to_csv(out_filename, index=False)"
   ]
  },
  {
   "cell_type": "markdown",
   "id": "38a11a42",
   "metadata": {},
   "source": [
    "### 01-12-1. check screening-neuro"
   ]
  },
  {
   "cell_type": "code",
   "execution_count": 22,
   "id": "3527b1d8",
   "metadata": {
    "execution": {
     "iopub.execute_input": "2025-05-10T00:13:41.398905Z",
     "iopub.status.busy": "2025-05-10T00:13:41.398703Z",
     "iopub.status.idle": "2025-05-10T00:13:41.402479Z",
     "shell.execute_reply": "2025-05-10T00:13:41.402150Z"
    }
   },
   "outputs": [
    {
     "data": {
      "text/plain": [
       "(21, 656, 3088, 3088)"
      ]
     },
     "execution_count": 22,
     "metadata": {},
     "output_type": "execute_result"
    }
   ],
   "source": [
    "len(df_pre_neuro['center'].unique()), len(df_pre_neuro['subjectID'].unique()), len(df_pre_neuro['uniqueID'].unique()), len(df_pre_neuro)"
   ]
  },
  {
   "cell_type": "code",
   "execution_count": 23,
   "id": "081dc6e3",
   "metadata": {
    "execution": {
     "iopub.execute_input": "2025-05-10T00:13:41.404304Z",
     "iopub.status.busy": "2025-05-10T00:13:41.404179Z",
     "iopub.status.idle": "2025-05-10T00:13:41.412563Z",
     "shell.execute_reply": "2025-05-10T00:13:41.412240Z"
    }
   },
   "outputs": [
    {
     "data": {
      "text/html": [
       "<div>\n",
       "<style scoped>\n",
       "    .dataframe tbody tr th:only-of-type {\n",
       "        vertical-align: middle;\n",
       "    }\n",
       "\n",
       "    .dataframe tbody tr th {\n",
       "        vertical-align: top;\n",
       "    }\n",
       "\n",
       "    .dataframe thead th {\n",
       "        text-align: right;\n",
       "    }\n",
       "</style>\n",
       "<table border=\"1\" class=\"dataframe\">\n",
       "  <thead>\n",
       "    <tr style=\"text-align: right;\">\n",
       "      <th></th>\n",
       "      <th>_count</th>\n",
       "    </tr>\n",
       "    <tr>\n",
       "      <th>uniqueID</th>\n",
       "      <th></th>\n",
       "    </tr>\n",
       "  </thead>\n",
       "  <tbody>\n",
       "  </tbody>\n",
       "</table>\n",
       "</div>"
      ],
      "text/plain": [
       "Empty DataFrame\n",
       "Columns: [_count]\n",
       "Index: []"
      ]
     },
     "execution_count": 23,
     "metadata": {},
     "output_type": "execute_result"
    }
   ],
   "source": [
    "df_pre_neuro_groupby = df_pre_neuro.groupby(['uniqueID']).agg(_count=('uniqueID', 'count'))\n",
    "\n",
    "is_invalid = df_pre_neuro_groupby['_count'] > 1\n",
    "df_pre_neuro_groupby[is_invalid]"
   ]
  },
  {
   "cell_type": "markdown",
   "id": "57902499",
   "metadata": {},
   "source": [
    "### 01-12-2. check empty cells"
   ]
  },
  {
   "cell_type": "code",
   "execution_count": 24,
   "id": "203d9ac2",
   "metadata": {
    "execution": {
     "iopub.execute_input": "2025-05-10T00:13:41.414581Z",
     "iopub.status.busy": "2025-05-10T00:13:41.414403Z",
     "iopub.status.idle": "2025-05-10T00:13:41.421065Z",
     "shell.execute_reply": "2025-05-10T00:13:41.420778Z"
    }
   },
   "outputs": [
    {
     "name": "stdout",
     "output_type": "stream",
     "text": [
      "(0/19) column: center (3088 / 0)\n",
      "(1/19) column: subjectID (3088 / 0)\n",
      "(2/19) column: uniqueID (3088 / 0)\n",
      "(3/19) column: pre_NeuroExamSeizure (816 / 2272)\n",
      "(4/19) column: pre_NeuroExam (816 / 2272)\n",
      "(5/19) column: pre_NeuroExamSignModerateSevereHIE3Category (734 / 2354)\n",
      "(6/19) column: pre_NeuroExamRespiration (734 / 2354)\n",
      "(7/19) column: pre_NeuroExamSedate (734 / 2354)\n",
      "(8/19) column: pre_NoNeuroExamReason (63 / 3025)\n",
      "(9/19) column: pre_NeuroExamLevelConsciousness (730 / 2358)\n",
      "(10/19) column: pre_NeuroExamSpontaneousActivity (730 / 2358)\n",
      "(11/19) column: pre_NeuroExamPosture (727 / 2361)\n",
      "(12/19) column: pre_NeuroExamTone (730 / 2358)\n",
      "(13/19) column: pre_NeuroExamSuck (719 / 2369)\n",
      "(14/19) column: pre_NeuroExamMoro (706 / 2382)\n",
      "(15/19) column: pre_NeuroExamPupils (711 / 2377)\n",
      "(16/19) column: pre_NeuroExamHeartRate (729 / 2359)\n",
      "(17/19) column: pre_NeuroExamDate (732 / 2356)\n",
      "(18/19) column: pre_NeuroExamTime (716 / 2372)\n"
     ]
    }
   ],
   "source": [
    "COMBINE_harmonizer.check_empty(df_pre_neuro)"
   ]
  },
  {
   "cell_type": "markdown",
   "id": "bb7ec04b",
   "metadata": {},
   "source": [
    "### 01-12-3. check main-screening-neuro"
   ]
  },
  {
   "cell_type": "code",
   "execution_count": 25,
   "id": "49327c5f",
   "metadata": {
    "execution": {
     "iopub.execute_input": "2025-05-10T00:13:41.423056Z",
     "iopub.status.busy": "2025-05-10T00:13:41.422904Z",
     "iopub.status.idle": "2025-05-10T00:13:41.426209Z",
     "shell.execute_reply": "2025-05-10T00:13:41.425935Z"
    }
   },
   "outputs": [
    {
     "data": {
      "text/plain": [
       "(21, 122, 168, 168)"
      ]
     },
     "execution_count": 25,
     "metadata": {},
     "output_type": "execute_result"
    }
   ],
   "source": [
    "len(df_main_pre_neuro['center'].unique()), len(df_main_pre_neuro['subjectID'].unique()), len(df_main_pre_neuro['uniqueID'].unique()), len(df_main_pre_neuro)"
   ]
  },
  {
   "cell_type": "code",
   "execution_count": 26,
   "id": "e3fd47c1",
   "metadata": {
    "execution": {
     "iopub.execute_input": "2025-05-10T00:13:41.427802Z",
     "iopub.status.busy": "2025-05-10T00:13:41.427688Z",
     "iopub.status.idle": "2025-05-10T00:13:41.433309Z",
     "shell.execute_reply": "2025-05-10T00:13:41.432970Z"
    }
   },
   "outputs": [
    {
     "data": {
      "text/html": [
       "<div>\n",
       "<style scoped>\n",
       "    .dataframe tbody tr th:only-of-type {\n",
       "        vertical-align: middle;\n",
       "    }\n",
       "\n",
       "    .dataframe tbody tr th {\n",
       "        vertical-align: top;\n",
       "    }\n",
       "\n",
       "    .dataframe thead th {\n",
       "        text-align: right;\n",
       "    }\n",
       "</style>\n",
       "<table border=\"1\" class=\"dataframe\">\n",
       "  <thead>\n",
       "    <tr style=\"text-align: right;\">\n",
       "      <th></th>\n",
       "      <th>_count</th>\n",
       "    </tr>\n",
       "    <tr>\n",
       "      <th>uniqueID</th>\n",
       "      <th></th>\n",
       "    </tr>\n",
       "  </thead>\n",
       "  <tbody>\n",
       "  </tbody>\n",
       "</table>\n",
       "</div>"
      ],
      "text/plain": [
       "Empty DataFrame\n",
       "Columns: [_count]\n",
       "Index: []"
      ]
     },
     "execution_count": 26,
     "metadata": {},
     "output_type": "execute_result"
    }
   ],
   "source": [
    "df_main_pre_neuro_groupby = df_main_pre_neuro.groupby(['uniqueID']).agg(_count=('uniqueID', 'count'))\n",
    "\n",
    "is_invalid = df_main_pre_neuro_groupby['_count'] > 1\n",
    "df_main_pre_neuro_groupby[is_invalid]"
   ]
  },
  {
   "cell_type": "markdown",
   "id": "7dae354e",
   "metadata": {},
   "source": [
    "### 01-12-4. check empty cells"
   ]
  },
  {
   "cell_type": "code",
   "execution_count": 27,
   "id": "185d0b4b",
   "metadata": {
    "execution": {
     "iopub.execute_input": "2025-05-10T00:13:41.435096Z",
     "iopub.status.busy": "2025-05-10T00:13:41.434890Z",
     "iopub.status.idle": "2025-05-10T00:13:41.438879Z",
     "shell.execute_reply": "2025-05-10T00:13:41.438517Z"
    }
   },
   "outputs": [
    {
     "name": "stdout",
     "output_type": "stream",
     "text": [
      "(0/19) column: center (168 / 0)\n",
      "(1/19) column: subjectID (168 / 0)\n",
      "(2/19) column: uniqueID (168 / 0)\n",
      "(3/19) column: pre_NeuroExamSeizure (168 / 0)\n",
      "(4/19) column: pre_NeuroExam (168 / 0)\n",
      "(5/19) column: pre_NeuroExamSignModerateSevereHIE3Category (168 / 0)\n",
      "(6/19) column: pre_NeuroExamRespiration (168 / 0)\n",
      "(7/19) column: pre_NeuroExamSedate (168 / 0)\n",
      "(8/19) column: pre_NoNeuroExamReason (0 / 168)\n",
      "(9/19) column: pre_NeuroExamLevelConsciousness (168 / 0)\n",
      "(10/19) column: pre_NeuroExamSpontaneousActivity (168 / 0)\n",
      "(11/19) column: pre_NeuroExamPosture (167 / 1)\n",
      "(12/19) column: pre_NeuroExamTone (168 / 0)\n",
      "(13/19) column: pre_NeuroExamSuck (168 / 0)\n",
      "(14/19) column: pre_NeuroExamMoro (164 / 4)\n",
      "(15/19) column: pre_NeuroExamPupils (164 / 4)\n",
      "(16/19) column: pre_NeuroExamHeartRate (167 / 1)\n",
      "(17/19) column: pre_NeuroExamDate (165 / 3)\n",
      "(18/19) column: pre_NeuroExamTime (164 / 4)\n"
     ]
    }
   ],
   "source": [
    "COMBINE_harmonizer.check_empty(df_main_pre_neuro)"
   ]
  },
  {
   "cell_type": "code",
   "execution_count": 28,
   "id": "09df1dae",
   "metadata": {
    "execution": {
     "iopub.execute_input": "2025-05-10T00:13:41.440319Z",
     "iopub.status.busy": "2025-05-10T00:13:41.440222Z",
     "iopub.status.idle": "2025-05-10T00:13:41.442932Z",
     "shell.execute_reply": "2025-05-10T00:13:41.442678Z"
    }
   },
   "outputs": [
    {
     "name": "stdout",
     "output_type": "stream",
     "text": [
      "(0/19) center: (168/0)\n",
      "(1/19) subjectID: (168/0)\n",
      "(2/19) uniqueID: (168/0)\n",
      "(3/19) pre_NeuroExamSeizure: (168/0)\n",
      "(4/19) pre_NeuroExam: (168/0)\n",
      "(5/19) pre_NeuroExamSignModerateSevereHIE3Category: (168/0)\n",
      "(6/19) pre_NeuroExamRespiration: (168/0)\n",
      "(7/19) pre_NeuroExamSedate: (168/0)\n",
      "(8/19) pre_NoNeuroExamReason: (0/168)\n",
      "(9/19) pre_NeuroExamLevelConsciousness: (168/0)\n",
      "(10/19) pre_NeuroExamSpontaneousActivity: (168/0)\n",
      "(11/19) pre_NeuroExamPosture: (167/1)\n",
      "(12/19) pre_NeuroExamTone: (168/0)\n",
      "(13/19) pre_NeuroExamSuck: (168/0)\n",
      "(14/19) pre_NeuroExamMoro: (164/4)\n",
      "(15/19) pre_NeuroExamPupils: (164/4)\n",
      "(16/19) pre_NeuroExamHeartRate: (167/1)\n",
      "(17/19) pre_NeuroExamDate: (165/3)\n",
      "(18/19) pre_NeuroExamTime: (164/4)\n"
     ]
    }
   ],
   "source": [
    "COMBINE_harmonizer.column_info(df_main_pre_neuro)"
   ]
  },
  {
   "cell_type": "code",
   "execution_count": null,
   "id": "b1fa412b-b9f3-4802-841c-576812478da1",
   "metadata": {},
   "outputs": [],
   "source": []
  },
  {
   "cell_type": "markdown",
   "id": "e41df56d-ba4f-4787-b876-31b8983cb584",
   "metadata": {},
   "source": [
    "## 01-03. Maternal Demographics"
   ]
  },
  {
   "cell_type": "code",
   "execution_count": 29,
   "id": "fa7a189d-9522-480d-b0fc-d344c7017cf7",
   "metadata": {
    "execution": {
     "iopub.execute_input": "2025-05-10T00:13:41.444294Z",
     "iopub.status.busy": "2025-05-10T00:13:41.444210Z",
     "iopub.status.idle": "2025-05-10T00:13:41.446969Z",
     "shell.execute_reply": "2025-05-10T00:13:41.446706Z"
    }
   },
   "outputs": [
    {
     "data": {
      "text/plain": [
       "['motherAge_year',\n",
       " 'motherRace',\n",
       " 'motherRaceOther1',\n",
       " 'motherRaceOther2',\n",
       " 'motherRaceOther3',\n",
       " 'motherRaceOther4',\n",
       " 'motherRaceOther5',\n",
       " 'motherRaceOther6',\n",
       " 'motherRace2',\n",
       " 'motherEthnicity',\n",
       " 'motherMaritalStatus',\n",
       " 'motherEducation',\n",
       " 'motherEducation2',\n",
       " 'motherInsurance',\n",
       " 'motherInsurancePublic']"
      ]
     },
     "execution_count": 29,
     "metadata": {},
     "output_type": "execute_result"
    }
   ],
   "source": [
    "maternal_demographics_columns = COMBINE_harmonizer.get_columns(\n",
    "    df_data_dict,\n",
    "    COMBINE_harmonizer.CATEGORY_PRE_INTERVENTION,\n",
    "    COMBINE_harmonizer.SUBCATEGORY_MATERNAL_DEMOGRAPHICS)\n",
    "all_maternal_demographics_columns = id_columns + maternal_demographics_columns\n",
    "maternal_demographics_columns"
   ]
  },
  {
   "cell_type": "code",
   "execution_count": 30,
   "id": "97db7454-c491-4e1c-b591-7582c8e195a7",
   "metadata": {
    "execution": {
     "iopub.execute_input": "2025-05-10T00:13:41.448317Z",
     "iopub.status.busy": "2025-05-10T00:13:41.448229Z",
     "iopub.status.idle": "2025-05-10T00:13:41.514566Z",
     "shell.execute_reply": "2025-05-10T00:13:41.514221Z"
    }
   },
   "outputs": [
    {
     "name": "stdout",
     "output_type": "stream",
     "text": [
      "to set maternal demographics\n",
      "(8/17) motherRaceOther5 not in df\n",
      "(9/17) motherRaceOther6 not in df\n",
      "(10/17) motherRace2 not in df\n",
      "(14/17) motherEducation2 not in df\n",
      "(15/17) motherInsurance not in df\n",
      "(16/17) motherInsurancePublic not in df\n"
     ]
    }
   ],
   "source": [
    "print('to set maternal demographics')\n",
    "df_maternal_demographics = COMBINE_harmonizer.valid_columns(df_main, all_maternal_demographics_columns)\n",
    "df_maternal_demographics = COMBINE_harmonizer.postprocess(df_maternal_demographics)\n",
    "\n",
    "out_filename = os.sep.join([out_dir, '01-03-maternal-demographics.csv'])\n",
    "df_maternal_demographics.to_csv(out_filename, index=False)"
   ]
  },
  {
   "cell_type": "markdown",
   "id": "88ab3e16-816d-406d-8a6a-cc821fe6c877",
   "metadata": {},
   "source": [
    "### 01-03-2. check empty cells"
   ]
  },
  {
   "cell_type": "code",
   "execution_count": 31,
   "id": "391cd54a-1a32-4899-9bed-dfb4971c47fc",
   "metadata": {
    "execution": {
     "iopub.execute_input": "2025-05-10T00:13:41.516523Z",
     "iopub.status.busy": "2025-05-10T00:13:41.516371Z",
     "iopub.status.idle": "2025-05-10T00:13:41.520020Z",
     "shell.execute_reply": "2025-05-10T00:13:41.519715Z"
    }
   },
   "outputs": [
    {
     "name": "stdout",
     "output_type": "stream",
     "text": [
      "(0/12) column: center (168 / 0)\n",
      "(1/12) column: subjectID (168 / 0)\n",
      "(2/12) column: uniqueID (168 / 0)\n",
      "(3/12) column: motherAge_year (168 / 0)\n",
      "(4/12) column: motherRace (168 / 0)\n",
      "(5/12) column: motherRaceOther1 (0 / 168)\n",
      "(6/12) column: motherRaceOther2 (0 / 168)\n",
      "(7/12) column: motherRaceOther3 (0 / 168)\n",
      "(8/12) column: motherRaceOther4 (0 / 168)\n",
      "(9/12) column: motherEthnicity (168 / 0)\n",
      "(10/12) column: motherMaritalStatus (168 / 0)\n",
      "(11/12) column: motherEducation (167 / 1)\n"
     ]
    }
   ],
   "source": [
    "COMBINE_harmonizer.check_empty(df_maternal_demographics)"
   ]
  },
  {
   "cell_type": "code",
   "execution_count": 32,
   "id": "d3f5b6ba-b5b0-43ba-b1bc-1d571f81f205",
   "metadata": {
    "execution": {
     "iopub.execute_input": "2025-05-10T00:13:41.521624Z",
     "iopub.status.busy": "2025-05-10T00:13:41.521481Z",
     "iopub.status.idle": "2025-05-10T00:13:41.524474Z",
     "shell.execute_reply": "2025-05-10T00:13:41.524176Z"
    }
   },
   "outputs": [
    {
     "name": "stdout",
     "output_type": "stream",
     "text": [
      "(0/12) center: (168/0)\n",
      "(1/12) subjectID: (168/0)\n",
      "(2/12) uniqueID: (168/0)\n",
      "(3/12) motherAge_year: (168/0)\n",
      "(4/12) motherRace: (168/0)\n",
      "(5/12) motherRaceOther1: (0/168)\n",
      "(6/12) motherRaceOther2: (0/168)\n",
      "(7/12) motherRaceOther3: (0/168)\n",
      "(8/12) motherRaceOther4: (0/168)\n",
      "(9/12) motherEthnicity: (168/0)\n",
      "(10/12) motherMaritalStatus: (168/0)\n",
      "(11/12) motherEducation: (167/1)\n"
     ]
    }
   ],
   "source": [
    "COMBINE_harmonizer.column_info(df_maternal_demographics)"
   ]
  },
  {
   "cell_type": "code",
   "execution_count": null,
   "id": "6daa3d6f-97f1-4157-bbed-950c0ee54f06",
   "metadata": {},
   "outputs": [],
   "source": []
  },
  {
   "cell_type": "markdown",
   "id": "43a674bd",
   "metadata": {},
   "source": [
    "## 01-04. Pregnancy History"
   ]
  },
  {
   "cell_type": "code",
   "execution_count": 33,
   "id": "e90c2837-8b6a-4cb0-9e3b-fcc53fa30dd6",
   "metadata": {
    "execution": {
     "iopub.execute_input": "2025-05-10T00:13:41.526114Z",
     "iopub.status.busy": "2025-05-10T00:13:41.525983Z",
     "iopub.status.idle": "2025-05-10T00:13:41.529067Z",
     "shell.execute_reply": "2025-05-10T00:13:41.528782Z"
    }
   },
   "outputs": [
    {
     "data": {
      "text/plain": [
       "['gravida',\n",
       " 'parity',\n",
       " 'multipleBirth',\n",
       " 'numFetus',\n",
       " 'prenatalCare',\n",
       " 'hypertensionEclampsia',\n",
       " 'antepartumHemorrhage',\n",
       " 'thyroidMalfunction',\n",
       " 'diabetes']"
      ]
     },
     "execution_count": 33,
     "metadata": {},
     "output_type": "execute_result"
    }
   ],
   "source": [
    "pregnancy_history_columns = COMBINE_harmonizer.get_columns(\n",
    "    df_data_dict,\n",
    "    COMBINE_harmonizer.CATEGORY_PRE_INTERVENTION,\n",
    "    COMBINE_harmonizer.SUBCATEGORY_PREGNANCY_HISTORY)\n",
    "all_pregnancy_history_columns = id_columns + pregnancy_history_columns\n",
    "pregnancy_history_columns"
   ]
  },
  {
   "cell_type": "code",
   "execution_count": 34,
   "id": "860c18ba-cbfb-49db-a94b-0883f870ba25",
   "metadata": {
    "execution": {
     "iopub.execute_input": "2025-05-10T00:13:41.530645Z",
     "iopub.status.busy": "2025-05-10T00:13:41.530528Z",
     "iopub.status.idle": "2025-05-10T00:13:41.591117Z",
     "shell.execute_reply": "2025-05-10T00:13:41.590725Z"
    }
   },
   "outputs": [
    {
     "name": "stdout",
     "output_type": "stream",
     "text": [
      "to set pregnancy history\n"
     ]
    }
   ],
   "source": [
    "print('to set pregnancy history')\n",
    "df_pregnancy_history = COMBINE_harmonizer.valid_columns(df_main, all_pregnancy_history_columns)\n",
    "df_pregnancy_history = COMBINE_harmonizer.postprocess(df_pregnancy_history)\n",
    "\n",
    "out_filename = os.sep.join([out_dir, '01-04-pregnancy-history.csv'])\n",
    "df_pregnancy_history.to_csv(out_filename, index=False)"
   ]
  },
  {
   "cell_type": "markdown",
   "id": "8f097bac",
   "metadata": {},
   "source": [
    "### 01-04-2. check empty cells"
   ]
  },
  {
   "cell_type": "code",
   "execution_count": 35,
   "id": "53544503-213c-47b5-ab28-988db9e7a7a1",
   "metadata": {
    "execution": {
     "iopub.execute_input": "2025-05-10T00:13:41.592861Z",
     "iopub.status.busy": "2025-05-10T00:13:41.592710Z",
     "iopub.status.idle": "2025-05-10T00:13:41.595926Z",
     "shell.execute_reply": "2025-05-10T00:13:41.595564Z"
    }
   },
   "outputs": [
    {
     "name": "stdout",
     "output_type": "stream",
     "text": [
      "(0/12) column: center (168 / 0)\n",
      "(1/12) column: subjectID (168 / 0)\n",
      "(2/12) column: uniqueID (168 / 0)\n",
      "(3/12) column: multipleBirth (168 / 0)\n",
      "(4/12) column: prenatalCare (168 / 0)\n",
      "(5/12) column: hypertensionEclampsia (168 / 0)\n",
      "(6/12) column: antepartumHemorrhage (168 / 0)\n",
      "(7/12) column: thyroidMalfunction (168 / 0)\n",
      "(8/12) column: diabetes (168 / 0)\n",
      "(9/12) column: gravida (168 / 0)\n",
      "(10/12) column: parity (168 / 0)\n",
      "(11/12) column: numFetus (3 / 165)\n"
     ]
    }
   ],
   "source": [
    "COMBINE_harmonizer.check_empty(df_pregnancy_history)"
   ]
  },
  {
   "cell_type": "code",
   "execution_count": 36,
   "id": "67edb199",
   "metadata": {
    "execution": {
     "iopub.execute_input": "2025-05-10T00:13:41.597447Z",
     "iopub.status.busy": "2025-05-10T00:13:41.597334Z",
     "iopub.status.idle": "2025-05-10T00:13:41.600157Z",
     "shell.execute_reply": "2025-05-10T00:13:41.599891Z"
    }
   },
   "outputs": [
    {
     "name": "stdout",
     "output_type": "stream",
     "text": [
      "(0/12) center: (168/0)\n",
      "(1/12) subjectID: (168/0)\n",
      "(2/12) uniqueID: (168/0)\n",
      "(3/12) multipleBirth: (168/0)\n",
      "(4/12) prenatalCare: (168/0)\n",
      "(5/12) hypertensionEclampsia: (168/0)\n",
      "(6/12) antepartumHemorrhage: (168/0)\n",
      "(7/12) thyroidMalfunction: (168/0)\n",
      "(8/12) diabetes: (168/0)\n",
      "(9/12) gravida: (168/0)\n",
      "(10/12) parity: (168/0)\n",
      "(11/12) numFetus: (3/165)\n"
     ]
    }
   ],
   "source": [
    "COMBINE_harmonizer.column_info(df_pregnancy_history)"
   ]
  },
  {
   "cell_type": "markdown",
   "id": "4052c07a",
   "metadata": {},
   "source": [
    "## 01-05. Labor Delivery"
   ]
  },
  {
   "cell_type": "code",
   "execution_count": 37,
   "id": "778ac2e8",
   "metadata": {
    "execution": {
     "iopub.execute_input": "2025-05-10T00:13:41.601801Z",
     "iopub.status.busy": "2025-05-10T00:13:41.601697Z",
     "iopub.status.idle": "2025-05-10T00:13:41.605058Z",
     "shell.execute_reply": "2025-05-10T00:13:41.604796Z"
    }
   },
   "outputs": [
    {
     "data": {
      "text/plain": [
       "['maternalAdmissionDate',\n",
       " 'maternalAdmissionTime',\n",
       " 'ruptureDate',\n",
       " 'ruptureTime',\n",
       " 'ruptureGreater18Hr',\n",
       " 'ruptureBeforeDelivery',\n",
       " 'labor',\n",
       " 'laborOnsetDate',\n",
       " 'laborOnsetTime',\n",
       " 'deliveryMode',\n",
       " 'fetalDecelerate',\n",
       " 'cordMishap',\n",
       " 'uterineRupture',\n",
       " 'shoulderDystocia',\n",
       " 'placentalProblem',\n",
       " 'maternalHemorrhage',\n",
       " 'maternalTrauma',\n",
       " 'maternalCardioRespiratoryArrest',\n",
       " 'maternalSeizure',\n",
       " 'perinatalSentinelEvent',\n",
       " 'pyrexiaGreater37p6C',\n",
       " 'chorioamnionitis',\n",
       " 'placentalPathologyPerformed',\n",
       " 'histologicChorioamionitis',\n",
       " 'laborAntibiotics',\n",
       " 'laborAntibioticsCode1',\n",
       " 'laborAntibioticsCode2',\n",
       " 'laborAntibioticsCode3',\n",
       " 'laborAntibioticsCode4',\n",
       " 'laborAntibioticsCode5',\n",
       " 'laborAntibioticsCode6',\n",
       " 'emergencyCSection']"
      ]
     },
     "execution_count": 37,
     "metadata": {},
     "output_type": "execute_result"
    }
   ],
   "source": [
    "labor_delivery_columns = COMBINE_harmonizer.get_columns(\n",
    "    df_data_dict,\n",
    "    COMBINE_harmonizer.CATEGORY_PRE_INTERVENTION,\n",
    "    COMBINE_harmonizer.SUBCATEGORY_LABOR_AND_DELIVERY)\n",
    "all_labor_delivery_columns = id_columns + labor_delivery_columns\n",
    "labor_delivery_columns"
   ]
  },
  {
   "cell_type": "code",
   "execution_count": 38,
   "id": "07ba138f",
   "metadata": {
    "execution": {
     "iopub.execute_input": "2025-05-10T00:13:41.606441Z",
     "iopub.status.busy": "2025-05-10T00:13:41.606311Z",
     "iopub.status.idle": "2025-05-10T00:13:41.674624Z",
     "shell.execute_reply": "2025-05-10T00:13:41.674176Z"
    }
   },
   "outputs": [
    {
     "name": "stdout",
     "output_type": "stream",
     "text": [
      "to set labor delivery\n",
      "(7/34) ruptureBeforeDelivery not in df\n",
      "(21/34) perinatalSentinelEvent not in df\n",
      "(30/34) laborAntibioticsCode4 not in df\n",
      "(31/34) laborAntibioticsCode5 not in df\n",
      "(32/34) laborAntibioticsCode6 not in df\n",
      "(33/34) emergencyCSection not in df\n"
     ]
    }
   ],
   "source": [
    "print('to set labor delivery')\n",
    "df_labor_delivery = COMBINE_harmonizer.valid_columns(df_main, all_labor_delivery_columns)\n",
    "df_labor_delivery = COMBINE_harmonizer.postprocess(df_labor_delivery)\n",
    "\n",
    "out_filename = os.sep.join([out_dir, '01-05-labor-delivery.csv'])\n",
    "df_labor_delivery.to_csv(out_filename, index=False)"
   ]
  },
  {
   "cell_type": "markdown",
   "id": "6518d88c",
   "metadata": {},
   "source": [
    "### 01-05-2. check empty cells"
   ]
  },
  {
   "cell_type": "code",
   "execution_count": 39,
   "id": "24f024d3",
   "metadata": {
    "execution": {
     "iopub.execute_input": "2025-05-10T00:13:41.676709Z",
     "iopub.status.busy": "2025-05-10T00:13:41.676442Z",
     "iopub.status.idle": "2025-05-10T00:13:41.682156Z",
     "shell.execute_reply": "2025-05-10T00:13:41.681766Z"
    }
   },
   "outputs": [
    {
     "name": "stdout",
     "output_type": "stream",
     "text": [
      "(0/29) column: center (168 / 0)\n",
      "(1/29) column: subjectID (168 / 0)\n",
      "(2/29) column: uniqueID (168 / 0)\n",
      "(3/29) column: fetalDecelerate (168 / 0)\n",
      "(4/29) column: cordMishap (168 / 0)\n",
      "(5/29) column: uterineRupture (168 / 0)\n",
      "(6/29) column: shoulderDystocia (168 / 0)\n",
      "(7/29) column: placentalProblem (168 / 0)\n",
      "(8/29) column: maternalHemorrhage (168 / 0)\n",
      "(9/29) column: maternalTrauma (168 / 0)\n",
      "(10/29) column: maternalCardioRespiratoryArrest (168 / 0)\n",
      "(11/29) column: maternalSeizure (168 / 0)\n",
      "(12/29) column: pyrexiaGreater37p6C (168 / 0)\n",
      "(13/29) column: chorioamnionitis (168 / 0)\n",
      "(14/29) column: placentalPathologyPerformed (168 / 0)\n",
      "(15/29) column: histologicChorioamionitis (63 / 105)\n",
      "(16/29) column: laborAntibiotics (168 / 0)\n",
      "(17/29) column: ruptureGreater18Hr (18 / 150)\n",
      "(18/29) column: labor (168 / 0)\n",
      "(19/29) column: laborAntibioticsCode1 (41 / 127)\n",
      "(20/29) column: laborAntibioticsCode2 (13 / 155)\n",
      "(21/29) column: laborAntibioticsCode3 (3 / 165)\n",
      "(22/29) column: ruptureDate (160 / 8)\n",
      "(23/29) column: ruptureTime (150 / 18)\n",
      "(24/29) column: laborOnsetDate (116 / 52)\n",
      "(25/29) column: laborOnsetTime (85 / 83)\n",
      "(26/29) column: deliveryMode (168 / 0)\n",
      "(27/29) column: maternalAdmissionDate (155 / 13)\n",
      "(28/29) column: maternalAdmissionTime (121 / 47)\n"
     ]
    }
   ],
   "source": [
    "COMBINE_harmonizer.check_empty(df_labor_delivery)"
   ]
  },
  {
   "cell_type": "code",
   "execution_count": 40,
   "id": "4ee21cdf",
   "metadata": {
    "execution": {
     "iopub.execute_input": "2025-05-10T00:13:41.683834Z",
     "iopub.status.busy": "2025-05-10T00:13:41.683675Z",
     "iopub.status.idle": "2025-05-10T00:13:41.687968Z",
     "shell.execute_reply": "2025-05-10T00:13:41.687646Z"
    }
   },
   "outputs": [
    {
     "name": "stdout",
     "output_type": "stream",
     "text": [
      "(0/29) center: (168/0)\n",
      "(1/29) subjectID: (168/0)\n",
      "(2/29) uniqueID: (168/0)\n",
      "(3/29) fetalDecelerate: (168/0)\n",
      "(4/29) cordMishap: (168/0)\n",
      "(5/29) uterineRupture: (168/0)\n",
      "(6/29) shoulderDystocia: (168/0)\n",
      "(7/29) placentalProblem: (168/0)\n",
      "(8/29) maternalHemorrhage: (168/0)\n",
      "(9/29) maternalTrauma: (168/0)\n",
      "(10/29) maternalCardioRespiratoryArrest: (168/0)\n",
      "(11/29) maternalSeizure: (168/0)\n",
      "(12/29) pyrexiaGreater37p6C: (168/0)\n",
      "(13/29) chorioamnionitis: (168/0)\n",
      "(14/29) placentalPathologyPerformed: (168/0)\n",
      "(15/29) histologicChorioamionitis: (63/105)\n",
      "(16/29) laborAntibiotics: (168/0)\n",
      "(17/29) ruptureGreater18Hr: (18/150)\n",
      "(18/29) labor: (168/0)\n",
      "(19/29) laborAntibioticsCode1: (41/127)\n",
      "(20/29) laborAntibioticsCode2: (13/155)\n",
      "(21/29) laborAntibioticsCode3: (3/165)\n",
      "(22/29) ruptureDate: (160/8)\n",
      "(23/29) ruptureTime: (150/18)\n",
      "(24/29) laborOnsetDate: (116/52)\n",
      "(25/29) laborOnsetTime: (85/83)\n",
      "(26/29) deliveryMode: (168/0)\n",
      "(27/29) maternalAdmissionDate: (155/13)\n",
      "(28/29) maternalAdmissionTime: (121/47)\n"
     ]
    }
   ],
   "source": [
    "COMBINE_harmonizer.column_info(df_labor_delivery)"
   ]
  },
  {
   "cell_type": "markdown",
   "id": "36b2c6c6",
   "metadata": {},
   "source": [
    "## 01-06. Birth"
   ]
  },
  {
   "cell_type": "code",
   "execution_count": 41,
   "id": "d0b5bac5",
   "metadata": {
    "execution": {
     "iopub.execute_input": "2025-05-10T00:13:41.689699Z",
     "iopub.status.busy": "2025-05-10T00:13:41.689589Z",
     "iopub.status.idle": "2025-05-10T00:13:41.693199Z",
     "shell.execute_reply": "2025-05-10T00:13:41.692898Z"
    }
   },
   "outputs": [
    {
     "data": {
      "text/plain": [
       "['encephalopathyLevel',\n",
       " 'randomInfantAge',\n",
       " 'birthDate',\n",
       " 'birthTime',\n",
       " 'birthWeight_g',\n",
       " 'birthLength_cm',\n",
       " 'birthHeadCircumference_cm',\n",
       " 'birthGestationalAge_week',\n",
       " 'infantSex',\n",
       " 'maleSex',\n",
       " 'infantOutborn',\n",
       " 'outbornInHospital',\n",
       " 'outbornOutHospital',\n",
       " 'neonateAdmissionDate',\n",
       " 'neonateAdmissionTime',\n",
       " 'Apgar1min',\n",
       " 'Apgar5min',\n",
       " 'Apgar10min',\n",
       " 'Apgar15min',\n",
       " 'Apgar20min',\n",
       " 'deliveryResuscitation',\n",
       " 'deliveryOxygen',\n",
       " 'deliveryBaggingAndMask',\n",
       " 'deliveryChestCompression',\n",
       " 'deliveryIntubation',\n",
       " 'deliveryDrug',\n",
       " 'at10MinContinueResuscitation',\n",
       " 'at10MinOxygen',\n",
       " 'at10MinBaggingAndMask',\n",
       " 'at10MinChestCompression',\n",
       " 'at10MinIntubation',\n",
       " 'at10MinDrug',\n",
       " 'spontaneousRespirationTime',\n",
       " 'cordBloodGas',\n",
       " 'cordBloodGasSrc',\n",
       " 'cordBloodGasPH',\n",
       " 'cordBloodGasPCO2_mmHg',\n",
       " 'cordBloodGasPO2_mmHg',\n",
       " 'cordBloodGasHCO3_mEqPerL',\n",
       " 'cordBloodGasBaseDeficit_mEqPerL',\n",
       " 'firstPostnatalBloodGas',\n",
       " 'firstPostnatalBloodGasSrc',\n",
       " 'firstPostnatalBloodGasDate',\n",
       " 'firstPostnatalBloodGasTime',\n",
       " 'firstPostnatalBloodGasPH',\n",
       " 'firstPostnatalBloodGasPCO2_mmHg',\n",
       " 'firstPostnatalBloodGasPO2_mmHg',\n",
       " 'firstPostnatalBloodGasHCO3_mEqPerL',\n",
       " 'firstPostnatalBloodGasBaseDeficit_mEqPerL',\n",
       " 'acidosis',\n",
       " 'Apgar10minLess5',\n",
       " 'Apgar10minLessEq5',\n",
       " 'Apgar5minLessEq5',\n",
       " 'initBloodGasBaseDeficit_mEqPerL',\n",
       " 'initBloodGasBaseDeficit_mEqPerLSrc',\n",
       " 'initBloodGasPH',\n",
       " 'initBloodGasPHSrc']"
      ]
     },
     "execution_count": 41,
     "metadata": {},
     "output_type": "execute_result"
    }
   ],
   "source": [
    "birth_columns = COMBINE_harmonizer.get_columns(\n",
    "    df_data_dict,\n",
    "    COMBINE_harmonizer.CATEGORY_PRE_INTERVENTION,\n",
    "    COMBINE_harmonizer.SUBCATEGORY_BIRTH_INFORMATION)\n",
    "all_birth_columns = id_columns + birth_columns\n",
    "birth_columns"
   ]
  },
  {
   "cell_type": "code",
   "execution_count": 42,
   "id": "9f7f9b09",
   "metadata": {
    "execution": {
     "iopub.execute_input": "2025-05-10T00:13:41.694719Z",
     "iopub.status.busy": "2025-05-10T00:13:41.694577Z",
     "iopub.status.idle": "2025-05-10T00:13:41.755006Z",
     "shell.execute_reply": "2025-05-10T00:13:41.754555Z"
    }
   },
   "outputs": [
    {
     "name": "stdout",
     "output_type": "stream",
     "text": [
      "to set birth\n",
      "(11/59) maleSex not in df\n",
      "(20/59) Apgar15min not in df\n",
      "(51/59) acidosis not in df\n",
      "(52/59) Apgar10minLess5 not in df\n",
      "(53/59) Apgar10minLessEq5 not in df\n",
      "(54/59) Apgar5minLessEq5 not in df\n",
      "(55/59) initBloodGasBaseDeficit_mEqPerL not in df\n",
      "(56/59) initBloodGasBaseDeficit_mEqPerLSrc not in df\n",
      "(57/59) initBloodGasPH not in df\n",
      "(58/59) initBloodGasPHSrc not in df\n"
     ]
    }
   ],
   "source": [
    "print('to set birth')\n",
    "df_birth = COMBINE_harmonizer.valid_columns(df_main, all_birth_columns)\n",
    "df_birth = COMBINE_harmonizer.postprocess(df_birth)\n",
    "\n",
    "out_filename = os.sep.join([out_dir, '01-06-birth.csv'])\n",
    "df_birth.to_csv(out_filename, index=False)"
   ]
  },
  {
   "cell_type": "markdown",
   "id": "3c6594d7",
   "metadata": {},
   "source": [
    "### 01-06-2. check empty cells"
   ]
  },
  {
   "cell_type": "code",
   "execution_count": 43,
   "id": "48f626a1",
   "metadata": {
    "execution": {
     "iopub.execute_input": "2025-05-10T00:13:41.757152Z",
     "iopub.status.busy": "2025-05-10T00:13:41.756971Z",
     "iopub.status.idle": "2025-05-10T00:13:41.764128Z",
     "shell.execute_reply": "2025-05-10T00:13:41.763882Z"
    }
   },
   "outputs": [
    {
     "name": "stdout",
     "output_type": "stream",
     "text": [
      "(0/50) column: center (168 / 0)\n",
      "(1/50) column: subjectID (168 / 0)\n",
      "(2/50) column: uniqueID (168 / 0)\n",
      "(3/50) column: birthDate (168 / 0)\n",
      "(4/50) column: randomInfantAge (168 / 0)\n",
      "(5/50) column: encephalopathyLevel (168 / 0)\n",
      "(6/50) column: infantOutborn (168 / 0)\n",
      "(7/50) column: outbornInHospital (146 / 22)\n",
      "(8/50) column: outbornOutHospital (146 / 22)\n",
      "(9/50) column: deliveryResuscitation (168 / 0)\n",
      "(10/50) column: deliveryOxygen (166 / 2)\n",
      "(11/50) column: deliveryBaggingAndMask (166 / 2)\n",
      "(12/50) column: deliveryChestCompression (166 / 2)\n",
      "(13/50) column: deliveryIntubation (166 / 2)\n",
      "(14/50) column: deliveryDrug (166 / 2)\n",
      "(15/50) column: at10MinContinueResuscitation (166 / 2)\n",
      "(16/50) column: at10MinOxygen (116 / 52)\n",
      "(17/50) column: at10MinBaggingAndMask (116 / 52)\n",
      "(18/50) column: at10MinChestCompression (116 / 52)\n",
      "(19/50) column: at10MinIntubation (116 / 52)\n",
      "(20/50) column: at10MinDrug (116 / 52)\n",
      "(21/50) column: cordBloodGas (168 / 0)\n",
      "(22/50) column: firstPostnatalBloodGas (168 / 0)\n",
      "(23/50) column: birthTime (168 / 0)\n",
      "(24/50) column: neonateAdmissionDate (146 / 22)\n",
      "(25/50) column: neonateAdmissionTime (146 / 22)\n",
      "(26/50) column: Apgar1min (167 / 1)\n",
      "(27/50) column: Apgar5min (168 / 0)\n",
      "(28/50) column: Apgar10min (140 / 28)\n",
      "(29/50) column: Apgar20min (32 / 136)\n",
      "(30/50) column: birthWeight_g (168 / 0)\n",
      "(31/50) column: birthLength_cm (166 / 2)\n",
      "(32/50) column: birthHeadCircumference_cm (165 / 3)\n",
      "(33/50) column: birthGestationalAge_week (168 / 0)\n",
      "(34/50) column: infantSex (168 / 0)\n",
      "(35/50) column: spontaneousRespirationTime (163 / 5)\n",
      "(36/50) column: cordBloodGasSrc (106 / 62)\n",
      "(37/50) column: cordBloodGasPH (126 / 42)\n",
      "(38/50) column: cordBloodGasPCO2_mmHg (109 / 59)\n",
      "(39/50) column: cordBloodGasPO2_mmHg (100 / 68)\n",
      "(40/50) column: cordBloodGasHCO3_mEqPerL (87 / 81)\n",
      "(41/50) column: cordBloodGasBaseDeficit_mEqPerL (103 / 65)\n",
      "(42/50) column: firstPostnatalBloodGasSrc (153 / 15)\n",
      "(43/50) column: firstPostnatalBloodGasDate (159 / 9)\n",
      "(44/50) column: firstPostnatalBloodGasTime (150 / 18)\n",
      "(45/50) column: firstPostnatalBloodGasPH (158 / 10)\n",
      "(46/50) column: firstPostnatalBloodGasPCO2_mmHg (158 / 10)\n",
      "(47/50) column: firstPostnatalBloodGasPO2_mmHg (157 / 11)\n",
      "(48/50) column: firstPostnatalBloodGasHCO3_mEqPerL (149 / 19)\n",
      "(49/50) column: firstPostnatalBloodGasBaseDeficit_mEqPerL (155 / 13)\n"
     ]
    }
   ],
   "source": [
    "COMBINE_harmonizer.check_empty(df_birth)"
   ]
  },
  {
   "cell_type": "code",
   "execution_count": 44,
   "id": "f667825a",
   "metadata": {
    "execution": {
     "iopub.execute_input": "2025-05-10T00:13:41.765460Z",
     "iopub.status.busy": "2025-05-10T00:13:41.765363Z",
     "iopub.status.idle": "2025-05-10T00:13:41.770208Z",
     "shell.execute_reply": "2025-05-10T00:13:41.769891Z"
    }
   },
   "outputs": [
    {
     "name": "stdout",
     "output_type": "stream",
     "text": [
      "(0/50) center: (168/0)\n",
      "(1/50) subjectID: (168/0)\n",
      "(2/50) uniqueID: (168/0)\n",
      "(3/50) birthDate: (168/0)\n",
      "(4/50) randomInfantAge: (168/0)\n",
      "(5/50) encephalopathyLevel: (168/0)\n",
      "(6/50) infantOutborn: (168/0)\n",
      "(7/50) outbornInHospital: (146/22)\n",
      "(8/50) outbornOutHospital: (146/22)\n",
      "(9/50) deliveryResuscitation: (168/0)\n",
      "(10/50) deliveryOxygen: (166/2)\n",
      "(11/50) deliveryBaggingAndMask: (166/2)\n",
      "(12/50) deliveryChestCompression: (166/2)\n",
      "(13/50) deliveryIntubation: (166/2)\n",
      "(14/50) deliveryDrug: (166/2)\n",
      "(15/50) at10MinContinueResuscitation: (166/2)\n",
      "(16/50) at10MinOxygen: (116/52)\n",
      "(17/50) at10MinBaggingAndMask: (116/52)\n",
      "(18/50) at10MinChestCompression: (116/52)\n",
      "(19/50) at10MinIntubation: (116/52)\n",
      "(20/50) at10MinDrug: (116/52)\n",
      "(21/50) cordBloodGas: (168/0)\n",
      "(22/50) firstPostnatalBloodGas: (168/0)\n",
      "(23/50) birthTime: (168/0)\n",
      "(24/50) neonateAdmissionDate: (146/22)\n",
      "(25/50) neonateAdmissionTime: (146/22)\n",
      "(26/50) Apgar1min: (167/1)\n",
      "(27/50) Apgar5min: (168/0)\n",
      "(28/50) Apgar10min: (140/28)\n",
      "(29/50) Apgar20min: (32/136)\n",
      "(30/50) birthWeight_g: (168/0)\n",
      "(31/50) birthLength_cm: (166/2)\n",
      "(32/50) birthHeadCircumference_cm: (165/3)\n",
      "(33/50) birthGestationalAge_week: (168/0)\n",
      "(34/50) infantSex: (168/0)\n",
      "(35/50) spontaneousRespirationTime: (163/5)\n",
      "(36/50) cordBloodGasSrc: (106/62)\n",
      "(37/50) cordBloodGasPH: (126/42)\n",
      "(38/50) cordBloodGasPCO2_mmHg: (109/59)\n",
      "(39/50) cordBloodGasPO2_mmHg: (100/68)\n",
      "(40/50) cordBloodGasHCO3_mEqPerL: (87/81)\n",
      "(41/50) cordBloodGasBaseDeficit_mEqPerL: (103/65)\n",
      "(42/50) firstPostnatalBloodGasSrc: (153/15)\n",
      "(43/50) firstPostnatalBloodGasDate: (159/9)\n",
      "(44/50) firstPostnatalBloodGasTime: (150/18)\n",
      "(45/50) firstPostnatalBloodGasPH: (158/10)\n",
      "(46/50) firstPostnatalBloodGasPCO2_mmHg: (158/10)\n",
      "(47/50) firstPostnatalBloodGasPO2_mmHg: (157/11)\n",
      "(48/50) firstPostnatalBloodGasHCO3_mEqPerL: (149/19)\n",
      "(49/50) firstPostnatalBloodGasBaseDeficit_mEqPerL: (155/13)\n"
     ]
    }
   ],
   "source": [
    "COMBINE_harmonizer.column_info(df_birth)"
   ]
  },
  {
   "cell_type": "markdown",
   "id": "894087f9",
   "metadata": {},
   "source": [
    "## 01-07. Pre Intervention - Temperature"
   ]
  },
  {
   "cell_type": "code",
   "execution_count": 45,
   "id": "c235b22d",
   "metadata": {
    "execution": {
     "iopub.execute_input": "2025-05-10T00:13:41.771868Z",
     "iopub.status.busy": "2025-05-10T00:13:41.771758Z",
     "iopub.status.idle": "2025-05-10T00:13:41.775244Z",
     "shell.execute_reply": "2025-05-10T00:13:41.774983Z"
    }
   },
   "outputs": [
    {
     "data": {
      "text/plain": [
       "['targetTreatmentTemperature_C',\n",
       " 'pre_CoolInitiate',\n",
       " 'pre_CoolbyIceGelPack',\n",
       " 'pre_CoolPassively',\n",
       " 'pre_CoolClinically',\n",
       " 'pre_CoolInitiateDate',\n",
       " 'pre_CoolInitiateTime',\n",
       " 'pre_AfterOvershootReach33p5C',\n",
       " 'pre_AfterOvershootReach33p5CDate',\n",
       " 'pre_AfterOvershootReach33p5CTime',\n",
       " 'pre_TemperatureMinDate',\n",
       " 'pre_TemperatureMinTime',\n",
       " 'pre_SkinTemperatureMin_C',\n",
       " 'pre_AxillaryTemperatureMin_C',\n",
       " 'pre_EsophagealTemperatureMin_C',\n",
       " 'pre_ServoSetMin_C',\n",
       " 'pre_TemperatureMaxDate',\n",
       " 'pre_TemperatureMaxTime',\n",
       " 'pre_SkinTemperatureMax_C',\n",
       " 'pre_AxillaryTemperatureMax_C',\n",
       " 'pre_EsophagealTemperatureMax_C',\n",
       " 'pre_ServoSetMax_C']"
      ]
     },
     "execution_count": 45,
     "metadata": {},
     "output_type": "execute_result"
    }
   ],
   "source": [
    "temperature_pre_intervention_columns = COMBINE_harmonizer.get_columns(\n",
    "    df_data_dict,\n",
    "    COMBINE_harmonizer.CATEGORY_PRE_INTERVENTION,\n",
    "    COMBINE_harmonizer.SUBCATEGORY_TEMPERATURE)\n",
    "all_temperature_pre_intervention_columns = id_columns + temperature_pre_intervention_columns\n",
    "temperature_pre_intervention_columns"
   ]
  },
  {
   "cell_type": "code",
   "execution_count": 46,
   "id": "93ed3e4b",
   "metadata": {
    "execution": {
     "iopub.execute_input": "2025-05-10T00:13:41.776728Z",
     "iopub.status.busy": "2025-05-10T00:13:41.776579Z",
     "iopub.status.idle": "2025-05-10T00:13:41.785652Z",
     "shell.execute_reply": "2025-05-10T00:13:41.785357Z"
    }
   },
   "outputs": [],
   "source": [
    "df_temperature = df_dict['lh06tr.csv'].copy()\n",
    "\n",
    "temperatureTimeSlot_int = df_temperature['temperatureTimeSlot_min'].apply(COMBINE_harmonizer.to_int)\n",
    "is_pre_intervention_min = temperatureTimeSlot_int == 0\n",
    "is_pre_intervention_max = temperatureTimeSlot_int == 1\n",
    "\n",
    "# before_baseline_min\n",
    "df_temperature_pre_intervention_min = df_temperature[is_pre_intervention_min]\n",
    "pre_intervention_min_rename_map = {\n",
    "    'temperatureDate': 'pre_TemperatureMinDate',\n",
    "    'temperatureTime': 'pre_TemperatureMinTime',\n",
    "    'skinTemperature_C': 'pre_SkinTemperatureMin_C',\n",
    "    'axillaryTemperature_C': 'pre_AxillaryTemperatureMin_C',\n",
    "    'esophagealTemperature_C': 'pre_EsophagealTemperatureMin_C',\n",
    "    'servoSetTemperature_C': 'pre_ServoSetMin_C',\n",
    "}\n",
    "\n",
    "df_temperature_pre_intervention_min = df_temperature_pre_intervention_min.rename(columns=pre_intervention_min_rename_map)\n",
    "\n",
    "# before_baseline_max\n",
    "df_temperature_before_baseline_max = df_temperature[is_pre_intervention_max]\n",
    "before_baseline_max_rename_map = {\n",
    "    'temperatureDate': 'pre_TemperatureMaxDate',\n",
    "    'temperatureTime': 'pre_TemperatureMaxTime',\n",
    "    'skinTemperature_C': 'pre_SkinTemperatureMax_C',\n",
    "    'axillaryTemperature_C': 'pre_AxillaryTemperatureMax_C',\n",
    "    'esophagealTemperature_C': 'pre_EsophagealTemperatureMax_C',\n",
    "    'servoSetTemperature_C': 'pre_ServoSetMax_C',\n",
    "}\n",
    "df_temperature_before_baseline_max = df_temperature_before_baseline_max.rename(columns=before_baseline_max_rename_map)\n",
    "\n",
    "# merge\n",
    "merge_columns = ['center', 'subjectID']\n",
    "df_temperature_pre_intervention = df_temperature_pre_intervention_min.merge(df_temperature_before_baseline_max, on=merge_columns, how='outer')\n"
   ]
  },
  {
   "cell_type": "code",
   "execution_count": 47,
   "id": "5fa464a0",
   "metadata": {
    "execution": {
     "iopub.execute_input": "2025-05-10T00:13:41.787114Z",
     "iopub.status.busy": "2025-05-10T00:13:41.787019Z",
     "iopub.status.idle": "2025-05-10T00:13:41.861360Z",
     "shell.execute_reply": "2025-05-10T00:13:41.860934Z"
    }
   },
   "outputs": [
    {
     "name": "stdout",
     "output_type": "stream",
     "text": [
      "to set pre-baseline temperature\n",
      "(2/24) targetTreatmentTemperature_C not in df\n",
      "(3/24) pre_CoolInitiate not in df\n",
      "(4/24) pre_CoolbyIceGelPack not in df\n",
      "(5/24) pre_CoolPassively not in df\n",
      "(6/24) pre_CoolClinically not in df\n",
      "(7/24) pre_CoolInitiateDate not in df\n",
      "(8/24) pre_CoolInitiateTime not in df\n",
      "(9/24) pre_AfterOvershootReach33p5C not in df\n",
      "(10/24) pre_AfterOvershootReach33p5CDate not in df\n",
      "(11/24) pre_AfterOvershootReach33p5CTime not in df\n"
     ]
    }
   ],
   "source": [
    "print('to set pre-baseline temperature')\n",
    "df_temperature_pre_intervention = COMBINE_harmonizer.valid_columns(df_temperature_pre_intervention, all_temperature_pre_intervention_columns)\n",
    "df_temperature_pre_intervention = COMBINE_harmonizer.postprocess(df_temperature_pre_intervention)\n",
    "\n",
    "out_filename = os.sep.join([out_dir, '01-07-pre-temperature.csv'])\n",
    "df_temperature_pre_intervention.to_csv(out_filename, index=False)"
   ]
  },
  {
   "cell_type": "markdown",
   "id": "475e72dd",
   "metadata": {},
   "source": [
    "### 01-07-2. check empty cells"
   ]
  },
  {
   "cell_type": "code",
   "execution_count": 48,
   "id": "fb10fd4f",
   "metadata": {
    "execution": {
     "iopub.execute_input": "2025-05-10T00:13:41.863934Z",
     "iopub.status.busy": "2025-05-10T00:13:41.863777Z",
     "iopub.status.idle": "2025-05-10T00:13:41.868446Z",
     "shell.execute_reply": "2025-05-10T00:13:41.867972Z"
    }
   },
   "outputs": [
    {
     "name": "stdout",
     "output_type": "stream",
     "text": [
      "(0/15) column: center (155 / 0)\n",
      "(1/15) column: subjectID (155 / 0)\n",
      "(2/15) column: uniqueID (155 / 0)\n",
      "(3/15) column: pre_TemperatureMinDate (155 / 0)\n",
      "(4/15) column: pre_TemperatureMinTime (153 / 2)\n",
      "(5/15) column: pre_SkinTemperatureMin_C (66 / 89)\n",
      "(6/15) column: pre_AxillaryTemperatureMin_C (147 / 8)\n",
      "(7/15) column: pre_EsophagealTemperatureMin_C (0 / 155)\n",
      "(8/15) column: pre_ServoSetMin_C (69 / 86)\n",
      "(9/15) column: pre_TemperatureMaxDate (151 / 4)\n",
      "(10/15) column: pre_TemperatureMaxTime (148 / 7)\n",
      "(11/15) column: pre_SkinTemperatureMax_C (70 / 85)\n",
      "(12/15) column: pre_AxillaryTemperatureMax_C (139 / 16)\n",
      "(13/15) column: pre_EsophagealTemperatureMax_C (0 / 155)\n",
      "(14/15) column: pre_ServoSetMax_C (68 / 87)\n"
     ]
    }
   ],
   "source": [
    "COMBINE_harmonizer.check_empty(df_temperature_pre_intervention)"
   ]
  },
  {
   "cell_type": "code",
   "execution_count": 49,
   "id": "5e61cbfa",
   "metadata": {
    "execution": {
     "iopub.execute_input": "2025-05-10T00:13:41.872135Z",
     "iopub.status.busy": "2025-05-10T00:13:41.871977Z",
     "iopub.status.idle": "2025-05-10T00:13:41.874848Z",
     "shell.execute_reply": "2025-05-10T00:13:41.874575Z"
    }
   },
   "outputs": [
    {
     "name": "stdout",
     "output_type": "stream",
     "text": [
      "(0/15) center: (155/0)\n",
      "(1/15) subjectID: (155/0)\n",
      "(2/15) uniqueID: (155/0)\n",
      "(3/15) pre_TemperatureMinDate: (155/0)\n",
      "(4/15) pre_TemperatureMinTime: (153/2)\n",
      "(5/15) pre_SkinTemperatureMin_C: (66/89)\n",
      "(6/15) pre_AxillaryTemperatureMin_C: (147/8)\n",
      "(7/15) pre_EsophagealTemperatureMin_C: (0/155)\n",
      "(8/15) pre_ServoSetMin_C: (69/86)\n",
      "(9/15) pre_TemperatureMaxDate: (151/4)\n",
      "(10/15) pre_TemperatureMaxTime: (148/7)\n",
      "(11/15) pre_SkinTemperatureMax_C: (70/85)\n",
      "(12/15) pre_AxillaryTemperatureMax_C: (139/16)\n",
      "(13/15) pre_EsophagealTemperatureMax_C: (0/155)\n",
      "(14/15) pre_ServoSetMax_C: (68/87)\n"
     ]
    }
   ],
   "source": [
    "COMBINE_harmonizer.column_info(df_temperature_pre_intervention)"
   ]
  },
  {
   "cell_type": "markdown",
   "id": "1c81f760",
   "metadata": {},
   "source": [
    "## 01-08. Pre-intervention - Cardio"
   ]
  },
  {
   "cell_type": "code",
   "execution_count": 50,
   "id": "6817e3c9",
   "metadata": {
    "execution": {
     "iopub.execute_input": "2025-05-10T00:13:41.876204Z",
     "iopub.status.busy": "2025-05-10T00:13:41.876092Z",
     "iopub.status.idle": "2025-05-10T00:13:41.879017Z",
     "shell.execute_reply": "2025-05-10T00:13:41.878758Z"
    }
   },
   "outputs": [
    {
     "data": {
      "text/plain": [
       "['pre_CardioDate',\n",
       " 'pre_CardioTime',\n",
       " 'pre_CardioSystolicBloodPressure_mmHg',\n",
       " 'pre_CardioDiastolicBloodPressure_mmHg',\n",
       " 'pre_CardioHeartRate_BPM',\n",
       " 'pre_CardioVolumeExpand',\n",
       " 'pre_CardioInotropicAgent',\n",
       " 'pre_CardioBloodTransfusion',\n",
       " 'pre_CardioPlatelets',\n",
       " 'pre_InotropicAgent']"
      ]
     },
     "execution_count": 50,
     "metadata": {},
     "output_type": "execute_result"
    }
   ],
   "source": [
    "cardio_pre_intervention_columns = COMBINE_harmonizer.get_columns(\n",
    "    df_data_dict,\n",
    "    COMBINE_harmonizer.CATEGORY_PRE_INTERVENTION,\n",
    "    COMBINE_harmonizer.SUBCATEGORY_CARDIOVASCULAR)\n",
    "all_cardio_pre_intervention_columns = id_columns + cardio_pre_intervention_columns\n",
    "cardio_pre_intervention_columns"
   ]
  },
  {
   "cell_type": "code",
   "execution_count": 51,
   "id": "3a851a7e",
   "metadata": {
    "execution": {
     "iopub.execute_input": "2025-05-10T00:13:41.880418Z",
     "iopub.status.busy": "2025-05-10T00:13:41.880283Z",
     "iopub.status.idle": "2025-05-10T00:13:41.941072Z",
     "shell.execute_reply": "2025-05-10T00:13:41.940643Z"
    }
   },
   "outputs": [
    {
     "name": "stdout",
     "output_type": "stream",
     "text": [
      "(5/15) REC_CMP not in columns\n",
      "(7/15) cardioTimeSlot_min not in columns\n",
      "(13/15) CMP_DATE not in columns\n",
      "(14/15) CRT_DATE not in columns\n",
      "(11/12) pre_InotropicAgent not in df\n"
     ]
    }
   ],
   "source": [
    "df_cardio = df_dict['lh06cv.csv'].copy()\n",
    "\n",
    "cardioTimeSlot_int = df_cardio['cardioTimeSlot_min'].apply(COMBINE_harmonizer.to_int)\n",
    "is_pre = cardioTimeSlot_int == 0\n",
    "df_cardio_pre_intervention = df_cardio[is_pre]\n",
    "pre_rename_map = {\n",
    "    'cardioDate': 'pre_CardioDate',\n",
    "    'cardioTime': 'pre_CardioTime',\n",
    "    'cardioSystolicBloodPressure_mmHg': 'pre_CardioSystolicBloodPressure_mmHg',\n",
    "    'cardioDiastolicBloodPressure_mmHg': 'pre_CardioDiastolicBloodPressure_mmHg',\n",
    "    'cardioHeartRate_BPM': 'pre_CardioHeartRate_BPM',\n",
    "    'cardioVolumeExpand': 'pre_CardioVolumeExpand',\n",
    "    'cardioInotropicAgent': 'pre_CardioInotropicAgent',\n",
    "    'cardioBloodTransfusion': 'pre_CardioBloodTransfusion',\n",
    "    'cardioPlatelets': 'pre_CardioPlatelets',\n",
    "}\n",
    "df_cardio_pre_intervention = df_cardio_pre_intervention.rename(columns=pre_rename_map)\n",
    "\n",
    "df_cardio_pre_intervention = COMBINE_harmonizer.valid_columns(df_cardio_pre_intervention, all_cardio_pre_intervention_columns, debug_df=True, debug_columns=True)\n",
    "df_cardio_pre_intervention = COMBINE_harmonizer.postprocess(df_cardio_pre_intervention)\n",
    "\n",
    "out_filename = os.sep.join([out_dir, '01-08-pre-cardiovascular.csv'])\n",
    "df_cardio_pre_intervention.to_csv(out_filename, index=False)"
   ]
  },
  {
   "cell_type": "markdown",
   "id": "400d098f",
   "metadata": {},
   "source": [
    "### 01-08-2. Check empty"
   ]
  },
  {
   "cell_type": "code",
   "execution_count": 52,
   "id": "792115e9",
   "metadata": {
    "execution": {
     "iopub.execute_input": "2025-05-10T00:13:41.943231Z",
     "iopub.status.busy": "2025-05-10T00:13:41.943039Z",
     "iopub.status.idle": "2025-05-10T00:13:41.946969Z",
     "shell.execute_reply": "2025-05-10T00:13:41.946643Z"
    }
   },
   "outputs": [
    {
     "name": "stdout",
     "output_type": "stream",
     "text": [
      "(0/12) column: center (167 / 0)\n",
      "(1/12) column: subjectID (167 / 0)\n",
      "(2/12) column: uniqueID (167 / 0)\n",
      "(3/12) column: pre_CardioVolumeExpand (167 / 0)\n",
      "(4/12) column: pre_CardioInotropicAgent (167 / 0)\n",
      "(5/12) column: pre_CardioBloodTransfusion (167 / 0)\n",
      "(6/12) column: pre_CardioPlatelets (167 / 0)\n",
      "(7/12) column: pre_CardioDate (167 / 0)\n",
      "(8/12) column: pre_CardioTime (164 / 3)\n",
      "(9/12) column: pre_CardioSystolicBloodPressure_mmHg (158 / 9)\n",
      "(10/12) column: pre_CardioDiastolicBloodPressure_mmHg (158 / 9)\n",
      "(11/12) column: pre_CardioHeartRate_BPM (162 / 5)\n"
     ]
    }
   ],
   "source": [
    "COMBINE_harmonizer.check_empty(df_cardio_pre_intervention)"
   ]
  },
  {
   "cell_type": "code",
   "execution_count": 53,
   "id": "30ee17f6",
   "metadata": {
    "execution": {
     "iopub.execute_input": "2025-05-10T00:13:41.948493Z",
     "iopub.status.busy": "2025-05-10T00:13:41.948390Z",
     "iopub.status.idle": "2025-05-10T00:13:41.951248Z",
     "shell.execute_reply": "2025-05-10T00:13:41.950947Z"
    }
   },
   "outputs": [
    {
     "name": "stdout",
     "output_type": "stream",
     "text": [
      "(0/12) center: (167/0)\n",
      "(1/12) subjectID: (167/0)\n",
      "(2/12) uniqueID: (167/0)\n",
      "(3/12) pre_CardioVolumeExpand: (167/0)\n",
      "(4/12) pre_CardioInotropicAgent: (167/0)\n",
      "(5/12) pre_CardioBloodTransfusion: (167/0)\n",
      "(6/12) pre_CardioPlatelets: (167/0)\n",
      "(7/12) pre_CardioDate: (167/0)\n",
      "(8/12) pre_CardioTime: (164/3)\n",
      "(9/12) pre_CardioSystolicBloodPressure_mmHg: (158/9)\n",
      "(10/12) pre_CardioDiastolicBloodPressure_mmHg: (158/9)\n",
      "(11/12) pre_CardioHeartRate_BPM: (162/5)\n"
     ]
    }
   ],
   "source": [
    "COMBINE_harmonizer.column_info(df_cardio_pre_intervention)"
   ]
  },
  {
   "cell_type": "code",
   "execution_count": null,
   "id": "4cdd8fbf",
   "metadata": {},
   "outputs": [],
   "source": []
  },
  {
   "cell_type": "markdown",
   "id": "d1295af1",
   "metadata": {},
   "source": [
    "## 01-09. Pre-intervention - Infection"
   ]
  },
  {
   "cell_type": "code",
   "execution_count": 54,
   "id": "ae070f7f",
   "metadata": {
    "execution": {
     "iopub.execute_input": "2025-05-10T00:13:41.953680Z",
     "iopub.status.busy": "2025-05-10T00:13:41.953446Z",
     "iopub.status.idle": "2025-05-10T00:13:41.957093Z",
     "shell.execute_reply": "2025-05-10T00:13:41.956814Z"
    }
   },
   "outputs": [
    {
     "data": {
      "text/plain": [
       "['pre_PositiveCulture',\n",
       " 'pre_PositiveCultureSrc',\n",
       " 'pre_PositiveCultureDate',\n",
       " 'pre_PositiveCultureTime',\n",
       " 'pre_PositiveCultureOrganismCode1',\n",
       " 'pre_PositiveCultureOrganismCode2',\n",
       " 'pre_PositiveCultureOrganismCode3',\n",
       " 'pre_Antibiotics',\n",
       " 'pre_AntibioticsCode1',\n",
       " 'pre_AntibioticsCode2',\n",
       " 'pre_AntibioticsCode3']"
      ]
     },
     "execution_count": 54,
     "metadata": {},
     "output_type": "execute_result"
    }
   ],
   "source": [
    "infection_pre_intervention_columns = COMBINE_harmonizer.get_columns(\n",
    "    df_data_dict,\n",
    "    COMBINE_harmonizer.CATEGORY_PRE_INTERVENTION,\n",
    "    COMBINE_harmonizer.SUBCATEGORY_INFECTION)\n",
    "all_infection_pre_intervention_columns = id_columns + infection_pre_intervention_columns\n",
    "infection_pre_intervention_columns"
   ]
  },
  {
   "cell_type": "code",
   "execution_count": 55,
   "id": "f12252da",
   "metadata": {
    "execution": {
     "iopub.execute_input": "2025-05-10T00:13:41.958561Z",
     "iopub.status.busy": "2025-05-10T00:13:41.958443Z",
     "iopub.status.idle": "2025-05-10T00:13:42.018990Z",
     "shell.execute_reply": "2025-05-10T00:13:42.018576Z"
    }
   },
   "outputs": [],
   "source": [
    "df_infection_pre_intervention = df_dict['lh06.csv']\n",
    "df_infection_pre_intervention = COMBINE_harmonizer.valid_columns(df_infection_pre_intervention, all_infection_pre_intervention_columns)\n",
    "df_infection_pre_intervention = COMBINE_harmonizer.postprocess(df_infection_pre_intervention)\n",
    "\n",
    "out_filename = os.sep.join([out_dir, '01-09-pre-infection.csv'])\n",
    "df_infection_pre_intervention.to_csv(out_filename, index=False)"
   ]
  },
  {
   "cell_type": "markdown",
   "id": "a134c711",
   "metadata": {},
   "source": [
    "### 01-09-2. check empty cells"
   ]
  },
  {
   "cell_type": "code",
   "execution_count": 56,
   "id": "7b4c6469",
   "metadata": {
    "execution": {
     "iopub.execute_input": "2025-05-10T00:13:42.021405Z",
     "iopub.status.busy": "2025-05-10T00:13:42.021219Z",
     "iopub.status.idle": "2025-05-10T00:13:42.025437Z",
     "shell.execute_reply": "2025-05-10T00:13:42.025089Z"
    }
   },
   "outputs": [
    {
     "name": "stdout",
     "output_type": "stream",
     "text": [
      "(0/14) column: center (168 / 0)\n",
      "(1/14) column: subjectID (168 / 0)\n",
      "(2/14) column: uniqueID (168 / 0)\n",
      "(3/14) column: pre_PositiveCulture (168 / 0)\n",
      "(4/14) column: pre_Antibiotics (166 / 2)\n",
      "(5/14) column: pre_PositiveCultureSrc (1 / 167)\n",
      "(6/14) column: pre_PositiveCultureDate (1 / 167)\n",
      "(7/14) column: pre_PositiveCultureTime (0 / 168)\n",
      "(8/14) column: pre_PositiveCultureOrganismCode1 (1 / 167)\n",
      "(9/14) column: pre_PositiveCultureOrganismCode2 (0 / 168)\n",
      "(10/14) column: pre_PositiveCultureOrganismCode3 (0 / 168)\n",
      "(11/14) column: pre_AntibioticsCode1 (146 / 22)\n",
      "(12/14) column: pre_AntibioticsCode2 (138 / 30)\n",
      "(13/14) column: pre_AntibioticsCode3 (10 / 158)\n"
     ]
    }
   ],
   "source": [
    "COMBINE_harmonizer.check_empty(df_infection_pre_intervention)"
   ]
  },
  {
   "cell_type": "code",
   "execution_count": 57,
   "id": "6635ef67",
   "metadata": {
    "execution": {
     "iopub.execute_input": "2025-05-10T00:13:42.026980Z",
     "iopub.status.busy": "2025-05-10T00:13:42.026856Z",
     "iopub.status.idle": "2025-05-10T00:13:42.030096Z",
     "shell.execute_reply": "2025-05-10T00:13:42.029834Z"
    }
   },
   "outputs": [
    {
     "name": "stdout",
     "output_type": "stream",
     "text": [
      "(0/14) center: (168/0)\n",
      "(1/14) subjectID: (168/0)\n",
      "(2/14) uniqueID: (168/0)\n",
      "(3/14) pre_PositiveCulture: (168/0)\n",
      "(4/14) pre_Antibiotics: (166/2)\n",
      "(5/14) pre_PositiveCultureSrc: (1/167)\n",
      "(6/14) pre_PositiveCultureDate: (1/167)\n",
      "(7/14) pre_PositiveCultureTime: (0/168)\n",
      "(8/14) pre_PositiveCultureOrganismCode1: (1/167)\n",
      "(9/14) pre_PositiveCultureOrganismCode2: (0/168)\n",
      "(10/14) pre_PositiveCultureOrganismCode3: (0/168)\n",
      "(11/14) pre_AntibioticsCode1: (146/22)\n",
      "(12/14) pre_AntibioticsCode2: (138/30)\n",
      "(13/14) pre_AntibioticsCode3: (10/158)\n"
     ]
    }
   ],
   "source": [
    "COMBINE_harmonizer.column_info(df_infection_pre_intervention)"
   ]
  },
  {
   "cell_type": "markdown",
   "id": "beffed12",
   "metadata": {},
   "source": [
    "## 01-10. Pre-intervention - Other Medication"
   ]
  },
  {
   "cell_type": "code",
   "execution_count": 58,
   "id": "b330e180",
   "metadata": {
    "execution": {
     "iopub.execute_input": "2025-05-10T00:13:42.031654Z",
     "iopub.status.busy": "2025-05-10T00:13:42.031493Z",
     "iopub.status.idle": "2025-05-10T00:13:42.035330Z",
     "shell.execute_reply": "2025-05-10T00:13:42.034802Z"
    }
   },
   "outputs": [
    {
     "data": {
      "text/plain": [
       "['pre_OtherMedTargetDate',\n",
       " 'pre_OtherMedTargetTime',\n",
       " 'pre_Anticonvulsants',\n",
       " 'pre_Anticonvulsants1',\n",
       " 'pre_Anticonvulsants2',\n",
       " 'pre_Anticonvulsants3',\n",
       " 'pre_Anticonvulsants_b',\n",
       " 'pre_AnalgesicsSedatives',\n",
       " 'pre_AnalgesicsSedatives1',\n",
       " 'pre_AnalgesicsSedatives2',\n",
       " 'pre_AnalgesicsSedatives3',\n",
       " 'pre_Antipyretics1',\n",
       " 'pre_Antipyretics2',\n",
       " 'pre_Antipyretics3',\n",
       " 'pre_Paralytics1',\n",
       " 'pre_Paralytics2',\n",
       " 'pre_Paralytics3',\n",
       " 'pre_OtherMedFluidIntake_ccPerKg',\n",
       " 'pre_OtherMedUrineOutput_ccPerKg']"
      ]
     },
     "execution_count": 58,
     "metadata": {},
     "output_type": "execute_result"
    }
   ],
   "source": [
    "other_med_pre_intervention_columns = COMBINE_harmonizer.get_columns(\n",
    "    df_data_dict,\n",
    "    COMBINE_harmonizer.CATEGORY_PRE_INTERVENTION,\n",
    "    COMBINE_harmonizer.SUBCATEGORY_OTHER_MEDICINE)\n",
    "all_other_med_pre_intervention_columns = id_columns + other_med_pre_intervention_columns\n",
    "other_med_pre_intervention_columns"
   ]
  },
  {
   "cell_type": "code",
   "execution_count": 59,
   "id": "56955acc",
   "metadata": {
    "execution": {
     "iopub.execute_input": "2025-05-10T00:13:42.037037Z",
     "iopub.status.busy": "2025-05-10T00:13:42.036901Z",
     "iopub.status.idle": "2025-05-10T00:13:42.110502Z",
     "shell.execute_reply": "2025-05-10T00:13:42.110158Z"
    }
   },
   "outputs": [
    {
     "name": "stdout",
     "output_type": "stream",
     "text": [
      "(1/26) REC_CMP not in columns\n",
      "(3/26) otherMedTimeSlot_min not in columns\n",
      "(10/26) analgesicsSedatives not in columns\n",
      "(14/26) pre_Antipyretics not in columns\n",
      "(18/26) pre_Paralytics not in columns\n",
      "(22/26) otherMedFluidIntake_ccPerKg not in columns\n",
      "(23/26) otherMedUrineOutput_ccPerKg not in columns\n",
      "(24/26) CMP_DATE not in columns\n",
      "(25/26) CRT_DATE not in columns\n",
      "(8/21) pre_Anticonvulsants_b not in df\n",
      "(9/21) pre_AnalgesicsSedatives not in df\n",
      "(19/21) pre_OtherMedFluidIntake_ccPerKg not in df\n",
      "(20/21) pre_OtherMedUrineOutput_ccPerKg not in df\n"
     ]
    }
   ],
   "source": [
    "df_other_med = df_dict['lh06om.csv'].copy()\n",
    "\n",
    "otherMedTimeSlot_int = df_other_med['otherMedTimeSlot_min'].apply(COMBINE_harmonizer.to_int)\n",
    "is_pre = otherMedTimeSlot_int == 0\n",
    "df_other_med_pre_intervention = df_other_med[is_pre]\n",
    "pre_rename_map = {\n",
    "    'otherMedTargetDate': 'pre_OtherMedTargetDate',\n",
    "    'otherMedTargetTime': 'pre_OtherMedTargetTime',\n",
    "    'anticonvulsants': 'pre_Anticonvulsants',\n",
    "    'anticonvulsants1': 'pre_Anticonvulsants1',\n",
    "    'anticonvulsants2': 'pre_Anticonvulsants2',\n",
    "    'anticonvulsants3': 'pre_Anticonvulsants3',\n",
    "    'analgesics': 'pre_Analgesics',\n",
    "    'analgesicsSedatives1': 'pre_AnalgesicsSedatives1',\n",
    "    'analgesicsSedatives2': 'pre_AnalgesicsSedatives2',\n",
    "    'analgesicsSedatives3': 'pre_AnalgesicsSedatives3',\n",
    "    'antipyretics': 'pre_Antipyretics',\n",
    "    'antipyretics1': 'pre_Antipyretics1',\n",
    "    'antipyretics2': 'pre_Antipyretics2',\n",
    "    'antipyretics3': 'pre_Antipyretics3',\n",
    "    'paralytics': 'pre_Paralytics',\n",
    "    'paralytics1': 'pre_Paralytics1',\n",
    "    'paralytics2': 'pre_Paralytics2',\n",
    "    'paralytics3': 'pre_Paralytics3',\n",
    "    'otherMedFluidIntake': 'pre_OtherMedFluidIntake',\n",
    "    'otherMedUrineOutput': 'pre_OtherMedUrineOutput',\n",
    "}\n",
    "df_other_med_pre_intervention = df_other_med_pre_intervention.rename(columns=pre_rename_map)\n",
    "\n",
    "df_other_med_pre_intervention = COMBINE_harmonizer.valid_columns(df_other_med_pre_intervention, all_other_med_pre_intervention_columns, debug_df=True, debug_columns=True)\n",
    "df_other_med_pre_intervention = COMBINE_harmonizer.postprocess(df_other_med_pre_intervention)\n",
    "\n",
    "out_filename = os.sep.join([out_dir, '01-10-pre-other-med.csv'])\n",
    "df_other_med_pre_intervention.to_csv(out_filename, index=False)"
   ]
  },
  {
   "cell_type": "markdown",
   "id": "32ab1542",
   "metadata": {},
   "source": [
    "### 01-10-2. check empty cells"
   ]
  },
  {
   "cell_type": "code",
   "execution_count": 60,
   "id": "221a50f8",
   "metadata": {
    "execution": {
     "iopub.execute_input": "2025-05-10T00:13:42.112334Z",
     "iopub.status.busy": "2025-05-10T00:13:42.112197Z",
     "iopub.status.idle": "2025-05-10T00:13:42.115909Z",
     "shell.execute_reply": "2025-05-10T00:13:42.115483Z"
    }
   },
   "outputs": [
    {
     "name": "stdout",
     "output_type": "stream",
     "text": [
      "(0/18) column: center (142 / 0)\n",
      "(1/18) column: subjectID (142 / 0)\n",
      "(2/18) column: uniqueID (142 / 0)\n",
      "(3/18) column: pre_OtherMedTargetDate (3 / 139)\n",
      "(4/18) column: pre_OtherMedTargetTime (2 / 140)\n",
      "(5/18) column: pre_Anticonvulsants (1 / 141)\n",
      "(6/18) column: pre_Anticonvulsants1 (97 / 45)\n",
      "(7/18) column: pre_Anticonvulsants2 (15 / 127)\n",
      "(8/18) column: pre_Anticonvulsants3 (0 / 142)\n",
      "(9/18) column: pre_AnalgesicsSedatives1 (51 / 91)\n",
      "(10/18) column: pre_AnalgesicsSedatives2 (23 / 119)\n",
      "(11/18) column: pre_AnalgesicsSedatives3 (1 / 141)\n",
      "(12/18) column: pre_Antipyretics1 (2 / 140)\n",
      "(13/18) column: pre_Antipyretics2 (0 / 142)\n",
      "(14/18) column: pre_Antipyretics3 (0 / 142)\n",
      "(15/18) column: pre_Paralytics1 (8 / 134)\n",
      "(16/18) column: pre_Paralytics2 (0 / 142)\n",
      "(17/18) column: pre_Paralytics3 (0 / 142)\n"
     ]
    }
   ],
   "source": [
    "COMBINE_harmonizer.check_empty(df_other_med_pre_intervention)"
   ]
  },
  {
   "cell_type": "code",
   "execution_count": 61,
   "id": "061c71c2",
   "metadata": {
    "execution": {
     "iopub.execute_input": "2025-05-10T00:13:42.118066Z",
     "iopub.status.busy": "2025-05-10T00:13:42.117901Z",
     "iopub.status.idle": "2025-05-10T00:13:42.121679Z",
     "shell.execute_reply": "2025-05-10T00:13:42.121406Z"
    }
   },
   "outputs": [
    {
     "name": "stdout",
     "output_type": "stream",
     "text": [
      "(0/18) center: (142/0)\n",
      "(1/18) subjectID: (142/0)\n",
      "(2/18) uniqueID: (142/0)\n",
      "(3/18) pre_OtherMedTargetDate: (3/139)\n",
      "(4/18) pre_OtherMedTargetTime: (2/140)\n",
      "(5/18) pre_Anticonvulsants: (1/141)\n",
      "(6/18) pre_Anticonvulsants1: (97/45)\n",
      "(7/18) pre_Anticonvulsants2: (15/127)\n",
      "(8/18) pre_Anticonvulsants3: (0/142)\n",
      "(9/18) pre_AnalgesicsSedatives1: (51/91)\n",
      "(10/18) pre_AnalgesicsSedatives2: (23/119)\n",
      "(11/18) pre_AnalgesicsSedatives3: (1/141)\n",
      "(12/18) pre_Antipyretics1: (2/140)\n",
      "(13/18) pre_Antipyretics2: (0/142)\n",
      "(14/18) pre_Antipyretics3: (0/142)\n",
      "(15/18) pre_Paralytics1: (8/134)\n",
      "(16/18) pre_Paralytics2: (0/142)\n",
      "(17/18) pre_Paralytics3: (0/142)\n"
     ]
    }
   ],
   "source": [
    "COMBINE_harmonizer.column_info(df_other_med_pre_intervention)"
   ]
  },
  {
   "cell_type": "code",
   "execution_count": null,
   "id": "ed859c1f",
   "metadata": {},
   "outputs": [],
   "source": []
  },
  {
   "cell_type": "markdown",
   "id": "d11c222c",
   "metadata": {},
   "source": [
    "## 01-11. Pre-intervention - Imaging"
   ]
  },
  {
   "cell_type": "code",
   "execution_count": 62,
   "id": "030dbf5a",
   "metadata": {
    "execution": {
     "iopub.execute_input": "2025-05-10T00:13:42.123204Z",
     "iopub.status.busy": "2025-05-10T00:13:42.123089Z",
     "iopub.status.idle": "2025-05-10T00:13:42.126160Z",
     "shell.execute_reply": "2025-05-10T00:13:42.125883Z"
    }
   },
   "outputs": [
    {
     "data": {
      "text/plain": [
       "['pre_HeadSonogram',\n",
       " 'pre_HeadSonogramDate',\n",
       " 'pre_HeadSonogramTime',\n",
       " 'pre_HeadSonogramResult1',\n",
       " 'pre_HeadSonogramResult2',\n",
       " 'pre_HeadSonogramResult3',\n",
       " 'pre_HeadSonogramResult4',\n",
       " 'pre_HeadSonogramResult5',\n",
       " 'pre_HeadSonogramResult6',\n",
       " 'pre_HeadSonogramResult7',\n",
       " 'pre_HeadSonogramResult8',\n",
       " 'pre_HeadSonogramResultText',\n",
       " 'pre_HeadCT',\n",
       " 'pre_HeadCTDate',\n",
       " 'pre_HeadCTTime',\n",
       " 'pre_HeadCTResult1',\n",
       " 'pre_HeadCTResult2',\n",
       " 'pre_HeadCTResult3',\n",
       " 'pre_HeadCTResult4',\n",
       " 'pre_HeadCTResult5',\n",
       " 'pre_HeadCTResult6',\n",
       " 'pre_HeadCTResult7',\n",
       " 'pre_HeadCTResult8',\n",
       " 'pre_HeadCTResultText',\n",
       " 'pre_BrainMRI',\n",
       " 'pre_BrainMRIDate',\n",
       " 'pre_BrainMRITime',\n",
       " 'pre_BrainMRIResult1',\n",
       " 'pre_BrainMRIResult2',\n",
       " 'pre_BrainMRIResult3',\n",
       " 'pre_BrainMRIResult4',\n",
       " 'pre_BrainMRIResult5',\n",
       " 'pre_BrainMRIResult6',\n",
       " 'pre_BrainMRIResult7',\n",
       " 'pre_BrainMRIResult8',\n",
       " 'pre_BrainMRIResultText']"
      ]
     },
     "execution_count": 62,
     "metadata": {},
     "output_type": "execute_result"
    }
   ],
   "source": [
    "imaging_pre_intervention_columns = COMBINE_harmonizer.get_columns(\n",
    "    df_data_dict,\n",
    "    COMBINE_harmonizer.CATEGORY_PRE_INTERVENTION,\n",
    "    COMBINE_harmonizer.SUBCATEGORY_IMAGING_REPORT)\n",
    "all_imaging_pre_intervention_columns = id_columns + imaging_pre_intervention_columns\n",
    "imaging_pre_intervention_columns"
   ]
  },
  {
   "cell_type": "code",
   "execution_count": 63,
   "id": "e94cb235",
   "metadata": {
    "execution": {
     "iopub.execute_input": "2025-05-10T00:13:42.127538Z",
     "iopub.status.busy": "2025-05-10T00:13:42.127438Z",
     "iopub.status.idle": "2025-05-10T00:13:42.188178Z",
     "shell.execute_reply": "2025-05-10T00:13:42.187731Z"
    }
   },
   "outputs": [
    {
     "name": "stdout",
     "output_type": "stream",
     "text": [
      "(7/42) REC_CMP not in columns\n",
      "(9/42) imagingNumber not in columns\n",
      "(40/42) CMP_DATE not in columns\n",
      "(41/42) CRT_DATE not in columns\n"
     ]
    }
   ],
   "source": [
    "df_imaging = df_dict['lh09.csv'].copy()\n",
    "\n",
    "imagingTimeSlot_int = df_imaging['imagingNumber'].apply(COMBINE_harmonizer.to_int)\n",
    "is_pre = imagingTimeSlot_int == 1\n",
    "df_imaging_pre_intervention = df_imaging[is_pre]\n",
    "pre_rename_map = {\n",
    "    'headSonogram': 'pre_HeadSonogram',\n",
    "    'headSonogramDate': 'pre_HeadSonogramDate',\n",
    "    'headSonogramTime': 'pre_HeadSonogramTime',\n",
    "    'headSonogramResult1': 'pre_HeadSonogramResult1',\n",
    "    'headSonogramResult2': 'pre_HeadSonogramResult2',\n",
    "    'headSonogramResult3': 'pre_HeadSonogramResult3',\n",
    "    'headSonogramResult4': 'pre_HeadSonogramResult4',\n",
    "    'headSonogramResult5': 'pre_HeadSonogramResult5',\n",
    "    'headSonogramResult6': 'pre_HeadSonogramResult6',\n",
    "    'headSonogramResult7': 'pre_HeadSonogramResult7',\n",
    "    'headSonogramResult8': 'pre_HeadSonogramResult8',\n",
    "    'headSonogramResultText': 'pre_HeadSonogramResultText',\n",
    "    'headCT': 'pre_HeadCT',\n",
    "    'headCTDate': 'pre_HeadCTDate',\n",
    "    'headCTTime': 'pre_HeadCTTime',\n",
    "    'headCTResult1': 'pre_HeadCTResult1',\n",
    "    'headCTResult2': 'pre_HeadCTResult2',\n",
    "    'headCTResult3': 'pre_HeadCTResult3',\n",
    "    'headCTResult4': 'pre_HeadCTResult4',\n",
    "    'headCTResult5': 'pre_HeadCTResult5',\n",
    "    'headCTResult6': 'pre_HeadCTResult6',\n",
    "    'headCTResult7': 'pre_HeadCTResult7',\n",
    "    'headCTResult8': 'pre_HeadCTResult8',\n",
    "    'headCTResultText': 'pre_HeadCTResultText',\n",
    "    'brainMRI': 'pre_BrainMRI',\n",
    "    'brainMRIDate': 'pre_BrainMRIDate',\n",
    "    'brainMRITime': 'pre_BrainMRITime',\n",
    "    'brainMRIResult1': 'pre_BrainMRIResult1',\n",
    "    'brainMRIResult2': 'pre_BrainMRIResult2',\n",
    "    'brainMRIResult3': 'pre_BrainMRIResult3',\n",
    "    'brainMRIResult4': 'pre_BrainMRIResult4',\n",
    "    'brainMRIResult5': 'pre_BrainMRIResult5',\n",
    "    'brainMRIResult6': 'pre_BrainMRIResult6',\n",
    "    'brainMRIResult7': 'pre_BrainMRIResult7',\n",
    "    'brainMRIResult8': 'pre_BrainMRIResult8',\n",
    "    'brainMRIResultText': 'pre_BrainMRIResultText'\n",
    "}\n",
    "df_imaging_pre_intervention = df_imaging_pre_intervention.rename(columns=pre_rename_map)\n",
    "\n",
    "df_imaging_pre_intervention = COMBINE_harmonizer.valid_columns(df_imaging_pre_intervention, all_imaging_pre_intervention_columns, debug_df=True, debug_columns=True)\n",
    "df_imaging_pre_intervention = COMBINE_harmonizer.postprocess(df_imaging_pre_intervention)\n",
    "\n",
    "out_filename = os.sep.join([out_dir, '01-11-pre-imaging.csv'])\n",
    "df_imaging_pre_intervention.to_csv(out_filename, index=False)"
   ]
  },
  {
   "cell_type": "markdown",
   "id": "f13fe5c5",
   "metadata": {},
   "source": [
    "### 01-11-2. check empty cells"
   ]
  },
  {
   "cell_type": "code",
   "execution_count": 64,
   "id": "521eb0b7",
   "metadata": {
    "execution": {
     "iopub.execute_input": "2025-05-10T00:13:42.190469Z",
     "iopub.status.busy": "2025-05-10T00:13:42.190259Z",
     "iopub.status.idle": "2025-05-10T00:13:42.197573Z",
     "shell.execute_reply": "2025-05-10T00:13:42.197171Z"
    }
   },
   "outputs": [
    {
     "name": "stdout",
     "output_type": "stream",
     "text": [
      "(0/39) column: center (168 / 0)\n",
      "(1/39) column: subjectID (168 / 0)\n",
      "(2/39) column: uniqueID (168 / 0)\n",
      "(3/39) column: pre_HeadSonogram (168 / 0)\n",
      "(4/39) column: pre_HeadSonogramResultText (4 / 164)\n",
      "(5/39) column: pre_HeadCT (168 / 0)\n",
      "(6/39) column: pre_HeadCTResultText (4 / 164)\n",
      "(7/39) column: pre_BrainMRI (168 / 0)\n",
      "(8/39) column: pre_BrainMRIResultText (2 / 166)\n",
      "(9/39) column: pre_HeadSonogramDate (30 / 138)\n",
      "(10/39) column: pre_HeadSonogramTime (27 / 141)\n",
      "(11/39) column: pre_HeadSonogramResult1 (29 / 139)\n",
      "(12/39) column: pre_HeadSonogramResult2 (5 / 163)\n",
      "(13/39) column: pre_HeadSonogramResult3 (1 / 167)\n",
      "(14/39) column: pre_HeadSonogramResult4 (1 / 167)\n",
      "(15/39) column: pre_HeadSonogramResult5 (0 / 168)\n",
      "(16/39) column: pre_HeadSonogramResult6 (0 / 168)\n",
      "(17/39) column: pre_HeadSonogramResult7 (0 / 168)\n",
      "(18/39) column: pre_HeadSonogramResult8 (0 / 168)\n",
      "(19/39) column: pre_HeadCTDate (14 / 154)\n",
      "(20/39) column: pre_HeadCTTime (12 / 156)\n",
      "(21/39) column: pre_HeadCTResult1 (14 / 154)\n",
      "(22/39) column: pre_HeadCTResult2 (7 / 161)\n",
      "(23/39) column: pre_HeadCTResult3 (4 / 164)\n",
      "(24/39) column: pre_HeadCTResult4 (1 / 167)\n",
      "(25/39) column: pre_HeadCTResult5 (0 / 168)\n",
      "(26/39) column: pre_HeadCTResult6 (0 / 168)\n",
      "(27/39) column: pre_HeadCTResult7 (0 / 168)\n",
      "(28/39) column: pre_HeadCTResult8 (0 / 168)\n",
      "(29/39) column: pre_BrainMRIDate (4 / 164)\n",
      "(30/39) column: pre_BrainMRITime (3 / 165)\n",
      "(31/39) column: pre_BrainMRIResult1 (4 / 164)\n",
      "(32/39) column: pre_BrainMRIResult2 (3 / 165)\n",
      "(33/39) column: pre_BrainMRIResult3 (2 / 166)\n",
      "(34/39) column: pre_BrainMRIResult4 (2 / 166)\n",
      "(35/39) column: pre_BrainMRIResult5 (1 / 167)\n",
      "(36/39) column: pre_BrainMRIResult6 (0 / 168)\n",
      "(37/39) column: pre_BrainMRIResult7 (0 / 168)\n",
      "(38/39) column: pre_BrainMRIResult8 (0 / 168)\n"
     ]
    }
   ],
   "source": [
    "COMBINE_harmonizer.check_empty(df_imaging_pre_intervention)"
   ]
  },
  {
   "cell_type": "code",
   "execution_count": 65,
   "id": "b4c1a841",
   "metadata": {
    "execution": {
     "iopub.execute_input": "2025-05-10T00:13:42.199455Z",
     "iopub.status.busy": "2025-05-10T00:13:42.199274Z",
     "iopub.status.idle": "2025-05-10T00:13:42.204848Z",
     "shell.execute_reply": "2025-05-10T00:13:42.204402Z"
    }
   },
   "outputs": [
    {
     "name": "stdout",
     "output_type": "stream",
     "text": [
      "(0/39) center: (168/0)\n",
      "(1/39) subjectID: (168/0)\n",
      "(2/39) uniqueID: (168/0)\n",
      "(3/39) pre_HeadSonogram: (168/0)\n",
      "(4/39) pre_HeadSonogramResultText: (4/164)\n",
      "(5/39) pre_HeadCT: (168/0)\n",
      "(6/39) pre_HeadCTResultText: (4/164)\n",
      "(7/39) pre_BrainMRI: (168/0)\n",
      "(8/39) pre_BrainMRIResultText: (2/166)\n",
      "(9/39) pre_HeadSonogramDate: (30/138)\n",
      "(10/39) pre_HeadSonogramTime: (27/141)\n",
      "(11/39) pre_HeadSonogramResult1: (29/139)\n",
      "(12/39) pre_HeadSonogramResult2: (5/163)\n",
      "(13/39) pre_HeadSonogramResult3: (1/167)\n",
      "(14/39) pre_HeadSonogramResult4: (1/167)\n",
      "(15/39) pre_HeadSonogramResult5: (0/168)\n",
      "(16/39) pre_HeadSonogramResult6: (0/168)\n",
      "(17/39) pre_HeadSonogramResult7: (0/168)\n",
      "(18/39) pre_HeadSonogramResult8: (0/168)\n",
      "(19/39) pre_HeadCTDate: (14/154)\n",
      "(20/39) pre_HeadCTTime: (12/156)\n",
      "(21/39) pre_HeadCTResult1: (14/154)\n",
      "(22/39) pre_HeadCTResult2: (7/161)\n",
      "(23/39) pre_HeadCTResult3: (4/164)\n",
      "(24/39) pre_HeadCTResult4: (1/167)\n",
      "(25/39) pre_HeadCTResult5: (0/168)\n",
      "(26/39) pre_HeadCTResult6: (0/168)\n",
      "(27/39) pre_HeadCTResult7: (0/168)\n",
      "(28/39) pre_HeadCTResult8: (0/168)\n",
      "(29/39) pre_BrainMRIDate: (4/164)\n",
      "(30/39) pre_BrainMRITime: (3/165)\n",
      "(31/39) pre_BrainMRIResult1: (4/164)\n",
      "(32/39) pre_BrainMRIResult2: (3/165)\n",
      "(33/39) pre_BrainMRIResult3: (2/166)\n",
      "(34/39) pre_BrainMRIResult4: (2/166)\n",
      "(35/39) pre_BrainMRIResult5: (1/167)\n",
      "(36/39) pre_BrainMRIResult6: (0/168)\n",
      "(37/39) pre_BrainMRIResult7: (0/168)\n",
      "(38/39) pre_BrainMRIResult8: (0/168)\n"
     ]
    }
   ],
   "source": [
    "COMBINE_harmonizer.column_info(df_imaging_pre_intervention)"
   ]
  },
  {
   "cell_type": "markdown",
   "id": "0fca9b39-2323-450a-88e2-5a85d43ed62b",
   "metadata": {},
   "source": [
    "## 02-01. Temperature"
   ]
  },
  {
   "cell_type": "code",
   "execution_count": 66,
   "id": "75197091-b93d-4d4b-96fb-525f835e47aa",
   "metadata": {
    "execution": {
     "iopub.execute_input": "2025-05-10T00:13:42.208085Z",
     "iopub.status.busy": "2025-05-10T00:13:42.207739Z",
     "iopub.status.idle": "2025-05-10T00:13:42.216644Z",
     "shell.execute_reply": "2025-05-10T00:13:42.216321Z"
    }
   },
   "outputs": [],
   "source": [
    "df_temperature = df_dict['lh06tr.csv'].copy()\n",
    "\n",
    "temperatureTimeSlot_int = df_temperature['temperatureTimeSlot_min'].apply(COMBINE_harmonizer.to_int)\n",
    "is_pre_intervention_min = temperatureTimeSlot_int == 0\n",
    "is_pre_intervention_max = temperatureTimeSlot_int == 1\n",
    "is_clinical_course = (is_pre_intervention_min == False) & (is_pre_intervention_max == False)\n",
    "\n",
    "# after_baseline\n",
    "df_temperature = df_temperature[is_clinical_course]\n"
   ]
  },
  {
   "cell_type": "code",
   "execution_count": 67,
   "id": "6e9a5572",
   "metadata": {
    "execution": {
     "iopub.execute_input": "2025-05-10T00:13:42.218669Z",
     "iopub.status.busy": "2025-05-10T00:13:42.218491Z",
     "iopub.status.idle": "2025-05-10T00:13:42.222005Z",
     "shell.execute_reply": "2025-05-10T00:13:42.221662Z"
    }
   },
   "outputs": [
    {
     "data": {
      "text/plain": [
       "['temperatureTimeSlot_min',\n",
       " 'temperatureTimeSlotNoForm',\n",
       " 'temperatureDate',\n",
       " 'temperatureTime',\n",
       " 'skinTemperature_C',\n",
       " 'axillaryTemperature_C',\n",
       " 'esophagealTemperature_C',\n",
       " 'blanketTemperature_C',\n",
       " 'servoSetTemperature_C',\n",
       " 'alterationSkinIntegrity',\n",
       " 'shiver']"
      ]
     },
     "execution_count": 67,
     "metadata": {},
     "output_type": "execute_result"
    }
   ],
   "source": [
    "temperatures_columns = COMBINE_harmonizer.get_columns(df_data_dict, 'Intervention', 'Temperature')\n",
    "all_temperatures_columns = id_columns + temperatures_columns\n",
    "temperatures_columns"
   ]
  },
  {
   "cell_type": "code",
   "execution_count": 68,
   "id": "1915883c",
   "metadata": {
    "execution": {
     "iopub.execute_input": "2025-05-10T00:13:42.223755Z",
     "iopub.status.busy": "2025-05-10T00:13:42.223631Z",
     "iopub.status.idle": "2025-05-10T00:13:42.367169Z",
     "shell.execute_reply": "2025-05-10T00:13:42.366743Z"
    }
   },
   "outputs": [
    {
     "name": "stdout",
     "output_type": "stream",
     "text": [
      "(1/13) REC_CMP not in columns\n",
      "(11/13) CMP_DATE not in columns\n",
      "(12/13) CRT_DATE not in columns\n",
      "(3/13) temperatureTimeSlotNoForm not in df\n",
      "(11/13) alterationSkinIntegrity not in df\n",
      "(12/13) shiver not in df\n"
     ]
    }
   ],
   "source": [
    "df_temperature = COMBINE_harmonizer.valid_columns(df_temperature, all_temperatures_columns, debug_df=True, debug_columns=True)\n",
    "df_temperature = COMBINE_harmonizer.postprocess(df_temperature)\n",
    "\n",
    "# XXX hack for center14 LH039 temperatureInterval == 90\n",
    "is_center14_LH039_temperatureInterval90 = (df_temperature['center'] == '14') & (df_temperature['subjectID'] == 'LH039') & (df_temperature['temperatureTimeSlot_min'].isin(['90', '90.0']))\n",
    "df_temperature.loc[is_center14_LH039_temperatureInterval90, 'temperatureDate'] = '2009-09-07'\n",
    "\n",
    "out_filename = os.sep.join([out_dir, '02-01-temperature.csv'])\n",
    "df_temperature.to_csv(out_filename, index=False)\n"
   ]
  },
  {
   "cell_type": "markdown",
   "id": "4872bf3e-ac32-446b-8a58-fe476f740ebe",
   "metadata": {},
   "source": [
    "### 02-01-1. check temperature"
   ]
  },
  {
   "cell_type": "code",
   "execution_count": 69,
   "id": "c1107900-da34-4c73-86f3-a38f3a361309",
   "metadata": {
    "execution": {
     "iopub.execute_input": "2025-05-10T00:13:42.369752Z",
     "iopub.status.busy": "2025-05-10T00:13:42.369549Z",
     "iopub.status.idle": "2025-05-10T00:13:42.377425Z",
     "shell.execute_reply": "2025-05-10T00:13:42.377093Z"
    }
   },
   "outputs": [
    {
     "data": {
      "text/html": [
       "<div>\n",
       "<style scoped>\n",
       "    .dataframe tbody tr th:only-of-type {\n",
       "        vertical-align: middle;\n",
       "    }\n",
       "\n",
       "    .dataframe tbody tr th {\n",
       "        vertical-align: top;\n",
       "    }\n",
       "\n",
       "    .dataframe thead th {\n",
       "        text-align: right;\n",
       "    }\n",
       "</style>\n",
       "<table border=\"1\" class=\"dataframe\">\n",
       "  <thead>\n",
       "    <tr style=\"text-align: right;\">\n",
       "      <th></th>\n",
       "      <th></th>\n",
       "      <th>_count</th>\n",
       "    </tr>\n",
       "    <tr>\n",
       "      <th>uniqueID</th>\n",
       "      <th>temperatureTimeSlot_min</th>\n",
       "      <th></th>\n",
       "    </tr>\n",
       "  </thead>\n",
       "  <tbody>\n",
       "  </tbody>\n",
       "</table>\n",
       "</div>"
      ],
      "text/plain": [
       "Empty DataFrame\n",
       "Columns: [_count]\n",
       "Index: []"
      ]
     },
     "execution_count": 69,
     "metadata": {},
     "output_type": "execute_result"
    }
   ],
   "source": [
    "df_temperature_groupby = df_temperature.groupby(['uniqueID', 'temperatureTimeSlot_min']).agg(_count=('uniqueID', 'count'))\n",
    "\n",
    "is_invalid = df_temperature_groupby['_count'] > 1\n",
    "df_temperature_groupby[is_invalid]"
   ]
  },
  {
   "cell_type": "code",
   "execution_count": null,
   "id": "aeb53fc9-5aa7-4285-889a-404a4995acfe",
   "metadata": {},
   "outputs": [],
   "source": []
  },
  {
   "cell_type": "markdown",
   "id": "56b763e7-faa0-4c08-bc17-35007c949eeb",
   "metadata": {},
   "source": [
    "### 02-01-2. check empty cells"
   ]
  },
  {
   "cell_type": "code",
   "execution_count": 70,
   "id": "506e9f6f-1874-4f4f-a23f-c642ef45133a",
   "metadata": {
    "execution": {
     "iopub.execute_input": "2025-05-10T00:13:42.379378Z",
     "iopub.status.busy": "2025-05-10T00:13:42.379228Z",
     "iopub.status.idle": "2025-05-10T00:13:42.387037Z",
     "shell.execute_reply": "2025-05-10T00:13:42.386736Z"
    }
   },
   "outputs": [
    {
     "name": "stdout",
     "output_type": "stream",
     "text": [
      "(0/11) column: center (6164 / 0)\n",
      "(1/11) column: subjectID (6164 / 0)\n",
      "(2/11) column: uniqueID (6164 / 0)\n",
      "(3/11) column: temperatureTimeSlot_min (6164 / 0)\n",
      "(4/11) column: temperatureDate (6137 / 27)\n",
      "(5/11) column: temperatureTime (6127 / 37)\n",
      "(6/11) column: skinTemperature_C (5683 / 481)\n",
      "(7/11) column: axillaryTemperature_C (4569 / 1595)\n",
      "(8/11) column: esophagealTemperature_C (5814 / 350)\n",
      "(9/11) column: blanketTemperature_C (3497 / 2667)\n",
      "(10/11) column: servoSetTemperature_C (4959 / 1205)\n"
     ]
    }
   ],
   "source": [
    "COMBINE_harmonizer.check_empty(df_temperature)"
   ]
  },
  {
   "cell_type": "code",
   "execution_count": 71,
   "id": "bf34a1ec-5f6f-4a17-a2f2-6b79b0487d23",
   "metadata": {
    "execution": {
     "iopub.execute_input": "2025-05-10T00:13:42.388581Z",
     "iopub.status.busy": "2025-05-10T00:13:42.388393Z",
     "iopub.status.idle": "2025-05-10T00:13:42.393183Z",
     "shell.execute_reply": "2025-05-10T00:13:42.392882Z"
    },
    "scrolled": true
   },
   "outputs": [
    {
     "name": "stdout",
     "output_type": "stream",
     "text": [
      "(0/11) center: (6164/0)\n",
      "(1/11) subjectID: (6164/0)\n",
      "(2/11) uniqueID: (6164/0)\n",
      "(3/11) temperatureTimeSlot_min: (6164/0)\n",
      "(4/11) temperatureDate: (6137/27)\n",
      "(5/11) temperatureTime: (6127/37)\n",
      "(6/11) skinTemperature_C: (5683/481)\n",
      "(7/11) axillaryTemperature_C: (4569/1595)\n",
      "(8/11) esophagealTemperature_C: (5814/350)\n",
      "(9/11) blanketTemperature_C: (3497/2667)\n",
      "(10/11) servoSetTemperature_C: (4959/1205)\n"
     ]
    }
   ],
   "source": [
    "COMBINE_harmonizer.column_info(df_temperature)"
   ]
  },
  {
   "cell_type": "markdown",
   "id": "e9030ef6-af0e-4d07-b06c-615ca82245f8",
   "metadata": {},
   "source": [
    "## 02-02. cardio"
   ]
  },
  {
   "cell_type": "code",
   "execution_count": 72,
   "id": "781634cb-7d42-4513-bb87-8a96835c7adf",
   "metadata": {
    "execution": {
     "iopub.execute_input": "2025-05-10T00:13:42.394795Z",
     "iopub.status.busy": "2025-05-10T00:13:42.394653Z",
     "iopub.status.idle": "2025-05-10T00:13:42.397788Z",
     "shell.execute_reply": "2025-05-10T00:13:42.397499Z"
    }
   },
   "outputs": [
    {
     "data": {
      "text/plain": [
       "['cardioTimeSlot_min',\n",
       " 'cardioDate',\n",
       " 'cardioTime',\n",
       " 'cardioSystolicBloodPressure_mmHg',\n",
       " 'cardioDiastolicBloodPressure_mmHg',\n",
       " 'cardioHeartRate_BPM',\n",
       " 'cardioVolumeExpand',\n",
       " 'cardioInotropicAgent',\n",
       " 'cardioBloodTransfusion',\n",
       " 'cardioPlatelets']"
      ]
     },
     "execution_count": 72,
     "metadata": {},
     "output_type": "execute_result"
    }
   ],
   "source": [
    "cardio_columns = COMBINE_harmonizer.get_columns(df_data_dict, 'Intervention', 'Cardiovascular')\n",
    "all_cardio_columns = id_columns + cardio_columns\n",
    "cardio_columns"
   ]
  },
  {
   "cell_type": "code",
   "execution_count": 73,
   "id": "e417fca8",
   "metadata": {
    "execution": {
     "iopub.execute_input": "2025-05-10T00:13:42.399251Z",
     "iopub.status.busy": "2025-05-10T00:13:42.399159Z",
     "iopub.status.idle": "2025-05-10T00:13:42.511847Z",
     "shell.execute_reply": "2025-05-10T00:13:42.511517Z"
    }
   },
   "outputs": [
    {
     "name": "stdout",
     "output_type": "stream",
     "text": [
      "(5/15) REC_CMP not in columns\n",
      "(13/15) CMP_DATE not in columns\n",
      "(14/15) CRT_DATE not in columns\n"
     ]
    }
   ],
   "source": [
    "df_cardio = df_dict['lh06cv.csv'].copy()\n",
    "\n",
    "cardioTimeSlot_int = df_cardio['cardioTimeSlot_min'].apply(COMBINE_harmonizer.to_int)\n",
    "is_pre = cardioTimeSlot_int == 0\n",
    "is_clinical_course = is_pre == False\n",
    "# after_baseline\n",
    "df_cardio = df_cardio[is_clinical_course]\n",
    "\n",
    "df_cardio = COMBINE_harmonizer.valid_columns(df_cardio, all_cardio_columns, debug_df=True, debug_columns=True)\n",
    "df_cardio = COMBINE_harmonizer.postprocess(df_cardio)\n",
    "\n",
    "out_filename = os.sep.join([out_dir, '02-02-cardiovascular.csv'])\n",
    "df_cardio.to_csv(out_filename, index=False)"
   ]
  },
  {
   "cell_type": "markdown",
   "id": "44d246af-5e91-4a3b-a63e-1b4a92281308",
   "metadata": {},
   "source": [
    "### 02-02-1. check cardio"
   ]
  },
  {
   "cell_type": "code",
   "execution_count": 74,
   "id": "d0544caa-f507-4f66-83b8-8fdd5c20f518",
   "metadata": {
    "execution": {
     "iopub.execute_input": "2025-05-10T00:13:42.513518Z",
     "iopub.status.busy": "2025-05-10T00:13:42.513410Z",
     "iopub.status.idle": "2025-05-10T00:13:42.520384Z",
     "shell.execute_reply": "2025-05-10T00:13:42.520003Z"
    }
   },
   "outputs": [
    {
     "data": {
      "text/html": [
       "<div>\n",
       "<style scoped>\n",
       "    .dataframe tbody tr th:only-of-type {\n",
       "        vertical-align: middle;\n",
       "    }\n",
       "\n",
       "    .dataframe tbody tr th {\n",
       "        vertical-align: top;\n",
       "    }\n",
       "\n",
       "    .dataframe thead th {\n",
       "        text-align: right;\n",
       "    }\n",
       "</style>\n",
       "<table border=\"1\" class=\"dataframe\">\n",
       "  <thead>\n",
       "    <tr style=\"text-align: right;\">\n",
       "      <th></th>\n",
       "      <th></th>\n",
       "      <th>_count</th>\n",
       "    </tr>\n",
       "    <tr>\n",
       "      <th>uniqueID</th>\n",
       "      <th>cardioTimeSlot_min</th>\n",
       "      <th></th>\n",
       "    </tr>\n",
       "  </thead>\n",
       "  <tbody>\n",
       "  </tbody>\n",
       "</table>\n",
       "</div>"
      ],
      "text/plain": [
       "Empty DataFrame\n",
       "Columns: [_count]\n",
       "Index: []"
      ]
     },
     "execution_count": 74,
     "metadata": {},
     "output_type": "execute_result"
    }
   ],
   "source": [
    "df_cardio_groupby = df_cardio.groupby(['uniqueID', 'cardioTimeSlot_min']).agg(_count=('uniqueID', 'count'))\n",
    "\n",
    "is_invalid = df_cardio_groupby['_count'] > 1\n",
    "df_cardio_groupby[is_invalid]"
   ]
  },
  {
   "cell_type": "markdown",
   "id": "9ce67642-f87d-4155-913f-89b6096fc6d5",
   "metadata": {},
   "source": [
    "### 02-02-2. check empty cells"
   ]
  },
  {
   "cell_type": "code",
   "execution_count": 75,
   "id": "0d9d5632-57c8-4c8e-940c-c1273a473b1c",
   "metadata": {
    "execution": {
     "iopub.execute_input": "2025-05-10T00:13:42.522306Z",
     "iopub.status.busy": "2025-05-10T00:13:42.521941Z",
     "iopub.status.idle": "2025-05-10T00:13:42.527964Z",
     "shell.execute_reply": "2025-05-10T00:13:42.527665Z"
    }
   },
   "outputs": [
    {
     "name": "stdout",
     "output_type": "stream",
     "text": [
      "(0/13) column: center (4056 / 0)\n",
      "(1/13) column: subjectID (4056 / 0)\n",
      "(2/13) column: uniqueID (4056 / 0)\n",
      "(3/13) column: cardioVolumeExpand (4056 / 0)\n",
      "(4/13) column: cardioInotropicAgent (4056 / 0)\n",
      "(5/13) column: cardioBloodTransfusion (4056 / 0)\n",
      "(6/13) column: cardioPlatelets (4056 / 0)\n",
      "(7/13) column: cardioTimeSlot_min (4056 / 0)\n",
      "(8/13) column: cardioDate (4053 / 3)\n",
      "(9/13) column: cardioTime (4053 / 3)\n",
      "(10/13) column: cardioSystolicBloodPressure_mmHg (3657 / 399)\n",
      "(11/13) column: cardioDiastolicBloodPressure_mmHg (3656 / 400)\n",
      "(12/13) column: cardioHeartRate_BPM (4025 / 31)\n"
     ]
    }
   ],
   "source": [
    "COMBINE_harmonizer.check_empty(df_cardio)"
   ]
  },
  {
   "cell_type": "code",
   "execution_count": 76,
   "id": "fd2235a1-b164-4229-8c18-d187f10d0921",
   "metadata": {
    "execution": {
     "iopub.execute_input": "2025-05-10T00:13:42.529428Z",
     "iopub.status.busy": "2025-05-10T00:13:42.529291Z",
     "iopub.status.idle": "2025-05-10T00:13:42.533338Z",
     "shell.execute_reply": "2025-05-10T00:13:42.533077Z"
    },
    "scrolled": true
   },
   "outputs": [
    {
     "name": "stdout",
     "output_type": "stream",
     "text": [
      "(0/13) center: (4056/0)\n",
      "(1/13) subjectID: (4056/0)\n",
      "(2/13) uniqueID: (4056/0)\n",
      "(3/13) cardioVolumeExpand: (4056/0)\n",
      "(4/13) cardioInotropicAgent: (4056/0)\n",
      "(5/13) cardioBloodTransfusion: (4056/0)\n",
      "(6/13) cardioPlatelets: (4056/0)\n",
      "(7/13) cardioTimeSlot_min: (4056/0)\n",
      "(8/13) cardioDate: (4053/3)\n",
      "(9/13) cardioTime: (4053/3)\n",
      "(10/13) cardioSystolicBloodPressure_mmHg: (3657/399)\n",
      "(11/13) cardioDiastolicBloodPressure_mmHg: (3656/400)\n",
      "(12/13) cardioHeartRate_BPM: (4025/31)\n"
     ]
    }
   ],
   "source": [
    "COMBINE_harmonizer.column_info(df_cardio)"
   ]
  },
  {
   "cell_type": "markdown",
   "id": "cbb4f4d1-ec71-4fdb-b323-35fabd584021",
   "metadata": {},
   "source": [
    "## 02-03. respiratory"
   ]
  },
  {
   "cell_type": "code",
   "execution_count": 77,
   "id": "72ca396f",
   "metadata": {
    "execution": {
     "iopub.execute_input": "2025-05-10T00:13:42.535468Z",
     "iopub.status.busy": "2025-05-10T00:13:42.535341Z",
     "iopub.status.idle": "2025-05-10T00:13:42.538640Z",
     "shell.execute_reply": "2025-05-10T00:13:42.538236Z"
    }
   },
   "outputs": [
    {
     "data": {
      "text/plain": [
       "['respiratoryTimeSlot_min',\n",
       " 'respiratoryDate',\n",
       " 'respiratoryTime',\n",
       " 'respiratorySupportType',\n",
       " 'respiratoryFiO2',\n",
       " 'respiratoryRate_Hz',\n",
       " 'respiratoryPIP_cmH2O',\n",
       " 'respiratoryMAP_cmH2O',\n",
       " 'respiratoryPEEP_cmH2O']"
      ]
     },
     "execution_count": 77,
     "metadata": {},
     "output_type": "execute_result"
    }
   ],
   "source": [
    "respiratory_columns = COMBINE_harmonizer.get_columns(df_data_dict, 'Intervention', 'Respiratory')\n",
    "all_respiratory_columns = id_columns + respiratory_columns\n",
    "respiratory_columns"
   ]
  },
  {
   "cell_type": "code",
   "execution_count": 78,
   "id": "04724217",
   "metadata": {
    "execution": {
     "iopub.execute_input": "2025-05-10T00:13:42.540368Z",
     "iopub.status.busy": "2025-05-10T00:13:42.540235Z",
     "iopub.status.idle": "2025-05-10T00:13:42.607055Z",
     "shell.execute_reply": "2025-05-10T00:13:42.606696Z"
    }
   },
   "outputs": [
    {
     "name": "stdout",
     "output_type": "stream",
     "text": [
      "(1/14) REC_CMP not in columns\n",
      "(12/14) CMP_DATE not in columns\n",
      "(13/14) CRT_DATE not in columns\n"
     ]
    }
   ],
   "source": [
    "df_respiratory = df_dict['lh06rs.csv'].copy()\n",
    "df_respiratory = COMBINE_harmonizer.valid_columns(df_respiratory, all_respiratory_columns, debug_df=True, debug_columns=True)\n",
    "df_respiratory = COMBINE_harmonizer.postprocess(df_respiratory)\n",
    "\n",
    "out_filename = os.sep.join([out_dir, '02-03-respiratory.csv'])\n",
    "df_respiratory.to_csv(out_filename, index=False)"
   ]
  },
  {
   "cell_type": "markdown",
   "id": "5ffc23a0",
   "metadata": {},
   "source": [
    "### 02-03-1. check respiratory"
   ]
  },
  {
   "cell_type": "code",
   "execution_count": 79,
   "id": "04cb9202",
   "metadata": {
    "execution": {
     "iopub.execute_input": "2025-05-10T00:13:42.608751Z",
     "iopub.status.busy": "2025-05-10T00:13:42.608648Z",
     "iopub.status.idle": "2025-05-10T00:13:42.614832Z",
     "shell.execute_reply": "2025-05-10T00:13:42.614504Z"
    }
   },
   "outputs": [
    {
     "data": {
      "text/html": [
       "<div>\n",
       "<style scoped>\n",
       "    .dataframe tbody tr th:only-of-type {\n",
       "        vertical-align: middle;\n",
       "    }\n",
       "\n",
       "    .dataframe tbody tr th {\n",
       "        vertical-align: top;\n",
       "    }\n",
       "\n",
       "    .dataframe thead th {\n",
       "        text-align: right;\n",
       "    }\n",
       "</style>\n",
       "<table border=\"1\" class=\"dataframe\">\n",
       "  <thead>\n",
       "    <tr style=\"text-align: right;\">\n",
       "      <th></th>\n",
       "      <th></th>\n",
       "      <th>_count</th>\n",
       "    </tr>\n",
       "    <tr>\n",
       "      <th>uniqueID</th>\n",
       "      <th>respiratoryTimeSlot_min</th>\n",
       "      <th></th>\n",
       "    </tr>\n",
       "  </thead>\n",
       "  <tbody>\n",
       "  </tbody>\n",
       "</table>\n",
       "</div>"
      ],
      "text/plain": [
       "Empty DataFrame\n",
       "Columns: [_count]\n",
       "Index: []"
      ]
     },
     "execution_count": 79,
     "metadata": {},
     "output_type": "execute_result"
    }
   ],
   "source": [
    "df_respiratory_groupby = df_respiratory.groupby(['uniqueID', 'respiratoryTimeSlot_min']).agg(_count=('uniqueID', 'count'))\n",
    "\n",
    "is_invalid = df_respiratory_groupby['_count'] > 1\n",
    "df_respiratory_groupby[is_invalid]"
   ]
  },
  {
   "cell_type": "markdown",
   "id": "ff6a7dd7",
   "metadata": {},
   "source": [
    "### 02-03-2. check empty cells"
   ]
  },
  {
   "cell_type": "code",
   "execution_count": 80,
   "id": "0fa025a0",
   "metadata": {
    "execution": {
     "iopub.execute_input": "2025-05-10T00:13:42.616377Z",
     "iopub.status.busy": "2025-05-10T00:13:42.616236Z",
     "iopub.status.idle": "2025-05-10T00:13:42.619988Z",
     "shell.execute_reply": "2025-05-10T00:13:42.619706Z"
    }
   },
   "outputs": [
    {
     "name": "stdout",
     "output_type": "stream",
     "text": [
      "(0/12) column: center (815 / 0)\n",
      "(1/12) column: subjectID (815 / 0)\n",
      "(2/12) column: uniqueID (815 / 0)\n",
      "(3/12) column: respiratoryTimeSlot_min (815 / 0)\n",
      "(4/12) column: respiratoryDate (814 / 1)\n",
      "(5/12) column: respiratoryTime (814 / 1)\n",
      "(6/12) column: respiratorySupportType (813 / 2)\n",
      "(7/12) column: respiratoryFiO2 (412 / 403)\n",
      "(8/12) column: respiratoryRate_Hz (275 / 540)\n",
      "(9/12) column: respiratoryPIP_cmH2O (269 / 546)\n",
      "(10/12) column: respiratoryMAP_cmH2O (262 / 553)\n",
      "(11/12) column: respiratoryPEEP_cmH2O (227 / 588)\n"
     ]
    }
   ],
   "source": [
    "COMBINE_harmonizer.check_empty(df_respiratory)"
   ]
  },
  {
   "cell_type": "code",
   "execution_count": 81,
   "id": "42320de1",
   "metadata": {
    "execution": {
     "iopub.execute_input": "2025-05-10T00:13:42.621371Z",
     "iopub.status.busy": "2025-05-10T00:13:42.621285Z",
     "iopub.status.idle": "2025-05-10T00:13:42.624485Z",
     "shell.execute_reply": "2025-05-10T00:13:42.624182Z"
    }
   },
   "outputs": [
    {
     "name": "stdout",
     "output_type": "stream",
     "text": [
      "(0/12) center: (815/0)\n",
      "(1/12) subjectID: (815/0)\n",
      "(2/12) uniqueID: (815/0)\n",
      "(3/12) respiratoryTimeSlot_min: (815/0)\n",
      "(4/12) respiratoryDate: (814/1)\n",
      "(5/12) respiratoryTime: (814/1)\n",
      "(6/12) respiratorySupportType: (813/2)\n",
      "(7/12) respiratoryFiO2: (412/403)\n",
      "(8/12) respiratoryRate_Hz: (275/540)\n",
      "(9/12) respiratoryPIP_cmH2O: (269/546)\n",
      "(10/12) respiratoryMAP_cmH2O: (262/553)\n",
      "(11/12) respiratoryPEEP_cmH2O: (227/588)\n"
     ]
    }
   ],
   "source": [
    "COMBINE_harmonizer.column_info(df_respiratory)"
   ]
  },
  {
   "cell_type": "markdown",
   "id": "22ae41ef-b69c-4d1f-bb07-2f3d882d0fd8",
   "metadata": {},
   "source": [
    "## 02-04. blood-gas"
   ]
  },
  {
   "cell_type": "code",
   "execution_count": 82,
   "id": "d8bc310e-c6ec-468d-870d-a821931db2e0",
   "metadata": {
    "execution": {
     "iopub.execute_input": "2025-05-10T00:13:42.625776Z",
     "iopub.status.busy": "2025-05-10T00:13:42.625695Z",
     "iopub.status.idle": "2025-05-10T00:13:42.628754Z",
     "shell.execute_reply": "2025-05-10T00:13:42.628512Z"
    }
   },
   "outputs": [
    {
     "data": {
      "text/plain": [
       "['bloodGasTimeSlot_min',\n",
       " 'bloodGasDate',\n",
       " 'bloodGasTime',\n",
       " 'bloodGasSrc',\n",
       " 'bloodGasPH',\n",
       " 'bloodGasPCO2_mmHg',\n",
       " 'bloodGasPO2_mmHg',\n",
       " 'bloodGasHCO3_mEqPerL',\n",
       " 'bloodGasBaseDeficit_mEqPerL',\n",
       " 'bloodGasPHCorrect',\n",
       " 'bloodGasPCO2Correct_mmHg',\n",
       " 'bloodGasPO2Correct_mmHg',\n",
       " 'bloodGasHCO3Correct_mEqPerL',\n",
       " 'bloodGasBaseDeficitCorrect_mEqPerL']"
      ]
     },
     "execution_count": 82,
     "metadata": {},
     "output_type": "execute_result"
    }
   ],
   "source": [
    "blood_gas_columns = COMBINE_harmonizer.get_columns(df_data_dict, 'Intervention', 'Blood Gas')\n",
    "all_blood_gas_columns = id_columns + blood_gas_columns\n",
    "blood_gas_columns"
   ]
  },
  {
   "cell_type": "code",
   "execution_count": 83,
   "id": "565d94b9",
   "metadata": {
    "execution": {
     "iopub.execute_input": "2025-05-10T00:13:42.630237Z",
     "iopub.status.busy": "2025-05-10T00:13:42.630117Z",
     "iopub.status.idle": "2025-05-10T00:13:42.706912Z",
     "shell.execute_reply": "2025-05-10T00:13:42.706618Z"
    }
   },
   "outputs": [
    {
     "name": "stdout",
     "output_type": "stream",
     "text": [
      "(1/13) REC_CMP not in columns\n",
      "(11/13) CMP_DATE not in columns\n",
      "(12/13) CRT_DATE not in columns\n",
      "(5/16) bloodGasSrc not in df\n",
      "(11/16) bloodGasPHCorrect not in df\n",
      "(12/16) bloodGasPCO2Correct_mmHg not in df\n",
      "(13/16) bloodGasPO2Correct_mmHg not in df\n",
      "(14/16) bloodGasHCO3Correct_mEqPerL not in df\n",
      "(15/16) bloodGasBaseDeficitCorrect_mEqPerL not in df\n"
     ]
    }
   ],
   "source": [
    "df_blood_gas = df_dict['lh06bg.csv']\n",
    "df_blood_gas = COMBINE_harmonizer.valid_columns(df_blood_gas, all_blood_gas_columns, debug_df=True, debug_columns=True)\n",
    "df_blood_gas = COMBINE_harmonizer.postprocess(df_blood_gas)\n",
    "\n",
    "out_filename = os.sep.join([out_dir, '02-04-blood-gas.csv'])\n",
    "df_blood_gas.to_csv(out_filename, index=False)"
   ]
  },
  {
   "cell_type": "markdown",
   "id": "3e64bec6-0b37-45e9-b6a8-775ed15c34f2",
   "metadata": {},
   "source": [
    "### 02-04-1. check blood-gas"
   ]
  },
  {
   "cell_type": "code",
   "execution_count": 84,
   "id": "f3d69fca-30a8-4d78-b361-afd6f7691d95",
   "metadata": {
    "execution": {
     "iopub.execute_input": "2025-05-10T00:13:42.708353Z",
     "iopub.status.busy": "2025-05-10T00:13:42.708253Z",
     "iopub.status.idle": "2025-05-10T00:13:42.713809Z",
     "shell.execute_reply": "2025-05-10T00:13:42.713560Z"
    }
   },
   "outputs": [
    {
     "data": {
      "text/html": [
       "<div>\n",
       "<style scoped>\n",
       "    .dataframe tbody tr th:only-of-type {\n",
       "        vertical-align: middle;\n",
       "    }\n",
       "\n",
       "    .dataframe tbody tr th {\n",
       "        vertical-align: top;\n",
       "    }\n",
       "\n",
       "    .dataframe thead th {\n",
       "        text-align: right;\n",
       "    }\n",
       "</style>\n",
       "<table border=\"1\" class=\"dataframe\">\n",
       "  <thead>\n",
       "    <tr style=\"text-align: right;\">\n",
       "      <th></th>\n",
       "      <th></th>\n",
       "      <th>_count</th>\n",
       "    </tr>\n",
       "    <tr>\n",
       "      <th>uniqueID</th>\n",
       "      <th>bloodGasTimeSlot_min</th>\n",
       "      <th></th>\n",
       "    </tr>\n",
       "  </thead>\n",
       "  <tbody>\n",
       "  </tbody>\n",
       "</table>\n",
       "</div>"
      ],
      "text/plain": [
       "Empty DataFrame\n",
       "Columns: [_count]\n",
       "Index: []"
      ]
     },
     "execution_count": 84,
     "metadata": {},
     "output_type": "execute_result"
    }
   ],
   "source": [
    "df_blood_gas_groupby = df_blood_gas.groupby(['uniqueID', 'bloodGasTimeSlot_min']).agg(_count=('uniqueID', 'count'))\n",
    "\n",
    "is_invalid = df_blood_gas_groupby['_count'] > 1\n",
    "df_blood_gas_groupby[is_invalid]"
   ]
  },
  {
   "cell_type": "markdown",
   "id": "84dbecc3-6912-44d7-9797-4f99f4cb20f9",
   "metadata": {},
   "source": [
    "### 02-04-2. check empty cells"
   ]
  },
  {
   "cell_type": "code",
   "execution_count": 85,
   "id": "0a1d179f-3d5d-44ea-bcc0-aac8a0182491",
   "metadata": {
    "execution": {
     "iopub.execute_input": "2025-05-10T00:13:42.715256Z",
     "iopub.status.busy": "2025-05-10T00:13:42.715168Z",
     "iopub.status.idle": "2025-05-10T00:13:42.719077Z",
     "shell.execute_reply": "2025-05-10T00:13:42.718561Z"
    }
   },
   "outputs": [
    {
     "name": "stdout",
     "output_type": "stream",
     "text": [
      "(0/11) column: center (1195 / 0)\n",
      "(1/11) column: subjectID (1195 / 0)\n",
      "(2/11) column: uniqueID (1195 / 0)\n",
      "(3/11) column: bloodGasTimeSlot_min (1195 / 0)\n",
      "(4/11) column: bloodGasDate (943 / 252)\n",
      "(5/11) column: bloodGasTime (891 / 304)\n",
      "(6/11) column: bloodGasPH (788 / 407)\n",
      "(7/11) column: bloodGasPCO2_mmHg (789 / 406)\n",
      "(8/11) column: bloodGasPO2_mmHg (784 / 411)\n",
      "(9/11) column: bloodGasHCO3_mEqPerL (775 / 420)\n",
      "(10/11) column: bloodGasBaseDeficit_mEqPerL (770 / 425)\n"
     ]
    }
   ],
   "source": [
    "COMBINE_harmonizer.check_empty(df_blood_gas)"
   ]
  },
  {
   "cell_type": "code",
   "execution_count": 86,
   "id": "1c02bcbf-fd7e-486b-a973-8797be8f6632",
   "metadata": {
    "execution": {
     "iopub.execute_input": "2025-05-10T00:13:42.720599Z",
     "iopub.status.busy": "2025-05-10T00:13:42.720484Z",
     "iopub.status.idle": "2025-05-10T00:13:42.723653Z",
     "shell.execute_reply": "2025-05-10T00:13:42.723390Z"
    },
    "scrolled": true
   },
   "outputs": [
    {
     "name": "stdout",
     "output_type": "stream",
     "text": [
      "(0/11) center: (1195/0)\n",
      "(1/11) subjectID: (1195/0)\n",
      "(2/11) uniqueID: (1195/0)\n",
      "(3/11) bloodGasTimeSlot_min: (1195/0)\n",
      "(4/11) bloodGasDate: (943/252)\n",
      "(5/11) bloodGasTime: (891/304)\n",
      "(6/11) bloodGasPH: (788/407)\n",
      "(7/11) bloodGasPCO2_mmHg: (789/406)\n",
      "(8/11) bloodGasPO2_mmHg: (784/411)\n",
      "(9/11) bloodGasHCO3_mEqPerL: (775/420)\n",
      "(10/11) bloodGasBaseDeficit_mEqPerL: (770/425)\n"
     ]
    }
   ],
   "source": [
    "COMBINE_harmonizer.column_info(df_blood_gas)"
   ]
  },
  {
   "cell_type": "markdown",
   "id": "c487564c-e591-49f9-9852-2a51974bda9d",
   "metadata": {},
   "source": [
    "## 02-05. hematology"
   ]
  },
  {
   "cell_type": "code",
   "execution_count": 87,
   "id": "3447fe35-b81f-4b54-8eea-000b603e83ac",
   "metadata": {
    "execution": {
     "iopub.execute_input": "2025-05-10T00:13:42.725041Z",
     "iopub.status.busy": "2025-05-10T00:13:42.724944Z",
     "iopub.status.idle": "2025-05-10T00:13:42.728114Z",
     "shell.execute_reply": "2025-05-10T00:13:42.727860Z"
    }
   },
   "outputs": [
    {
     "data": {
      "text/plain": [
       "['hematology',\n",
       " 'hematologyTimeSlot_min',\n",
       " 'hematologyDate',\n",
       " 'hematologyTime',\n",
       " 'hematologyWBC_cPermuL',\n",
       " 'hematologyWBCMin_cPermuL',\n",
       " 'hematologyWBCMax_cPermuL',\n",
       " 'hematologyHemoglobin_gPerdL',\n",
       " 'hematologyPolymorphNeutrophils_cPermuL',\n",
       " 'hematologyMonocytes_cPermuL',\n",
       " 'hematologyLymphocytes_cPermuL',\n",
       " 'hematologyPlatelet_cPermuL',\n",
       " 'hematologyPT_s',\n",
       " 'hematologyPTT_s',\n",
       " 'hematologyHematocritMin',\n",
       " 'hematologyHematocritMinDate',\n",
       " 'hematologyHematocritMax',\n",
       " 'hematologyHematocritMaxDate',\n",
       " 'hematologyPlateletMin_cPermuL',\n",
       " 'hematologyPlateletMin_cPermuLDate']"
      ]
     },
     "execution_count": 87,
     "metadata": {},
     "output_type": "execute_result"
    }
   ],
   "source": [
    "hematology_columns = COMBINE_harmonizer.get_columns(df_data_dict, 'Intervention', 'Hematology CBC')\n",
    "all_hematology_columns = id_columns + hematology_columns\n",
    "hematology_columns"
   ]
  },
  {
   "cell_type": "code",
   "execution_count": 88,
   "id": "454892c9",
   "metadata": {
    "execution": {
     "iopub.execute_input": "2025-05-10T00:13:42.729403Z",
     "iopub.status.busy": "2025-05-10T00:13:42.729288Z",
     "iopub.status.idle": "2025-05-10T00:13:42.817560Z",
     "shell.execute_reply": "2025-05-10T00:13:42.817219Z"
    }
   },
   "outputs": [
    {
     "name": "stdout",
     "output_type": "stream",
     "text": [
      "(1/16) REC_CMP not in columns\n",
      "(14/16) CMP_DATE not in columns\n",
      "(15/16) CRT_DATE not in columns\n",
      "(2/22) hematology not in df\n",
      "(7/22) hematologyWBCMin_cPermuL not in df\n",
      "(8/22) hematologyWBCMax_cPermuL not in df\n",
      "(16/22) hematologyHematocritMin not in df\n",
      "(17/22) hematologyHematocritMinDate not in df\n",
      "(18/22) hematologyHematocritMax not in df\n",
      "(19/22) hematologyHematocritMaxDate not in df\n",
      "(20/22) hematologyPlateletMin_cPermuL not in df\n",
      "(21/22) hematologyPlateletMin_cPermuLDate not in df\n"
     ]
    }
   ],
   "source": [
    "df_hematology = df_dict['lh06he.csv'].copy()\n",
    "\n",
    "df_hematology = COMBINE_harmonizer.valid_columns(df_hematology, all_hematology_columns, debug_df=True, debug_columns=True)\n",
    "df_hematology = COMBINE_harmonizer.postprocess(df_hematology)\n",
    "\n",
    "out_filename = os.sep.join([out_dir, '02-05-hematology.csv'])\n",
    "df_hematology.to_csv(out_filename, index=False)"
   ]
  },
  {
   "cell_type": "markdown",
   "id": "aba3d0bb-bff8-4300-8765-2a293f1eefaf",
   "metadata": {},
   "source": [
    "### 02-05-1. check hematology"
   ]
  },
  {
   "cell_type": "code",
   "execution_count": 89,
   "id": "60996b57-c068-43de-bfd6-fc0a2e96a115",
   "metadata": {
    "execution": {
     "iopub.execute_input": "2025-05-10T00:13:42.819348Z",
     "iopub.status.busy": "2025-05-10T00:13:42.819241Z",
     "iopub.status.idle": "2025-05-10T00:13:42.825303Z",
     "shell.execute_reply": "2025-05-10T00:13:42.825015Z"
    }
   },
   "outputs": [
    {
     "data": {
      "text/html": [
       "<div>\n",
       "<style scoped>\n",
       "    .dataframe tbody tr th:only-of-type {\n",
       "        vertical-align: middle;\n",
       "    }\n",
       "\n",
       "    .dataframe tbody tr th {\n",
       "        vertical-align: top;\n",
       "    }\n",
       "\n",
       "    .dataframe thead th {\n",
       "        text-align: right;\n",
       "    }\n",
       "</style>\n",
       "<table border=\"1\" class=\"dataframe\">\n",
       "  <thead>\n",
       "    <tr style=\"text-align: right;\">\n",
       "      <th></th>\n",
       "      <th></th>\n",
       "      <th>_count</th>\n",
       "    </tr>\n",
       "    <tr>\n",
       "      <th>uniqueID</th>\n",
       "      <th>hematologyTimeSlot_min</th>\n",
       "      <th></th>\n",
       "    </tr>\n",
       "  </thead>\n",
       "  <tbody>\n",
       "  </tbody>\n",
       "</table>\n",
       "</div>"
      ],
      "text/plain": [
       "Empty DataFrame\n",
       "Columns: [_count]\n",
       "Index: []"
      ]
     },
     "execution_count": 89,
     "metadata": {},
     "output_type": "execute_result"
    }
   ],
   "source": [
    "df_hematology_groupby = df_hematology.groupby(['uniqueID', 'hematologyTimeSlot_min']).agg(_count=('uniqueID', 'count'))\n",
    "\n",
    "is_invalid = df_hematology_groupby['_count'] > 1\n",
    "df_hematology_groupby[is_invalid]"
   ]
  },
  {
   "cell_type": "markdown",
   "id": "3162c0b6-e0c2-4e63-b545-55e2567e389a",
   "metadata": {},
   "source": [
    "### 02-05-2. check empty cells"
   ]
  },
  {
   "cell_type": "code",
   "execution_count": 90,
   "id": "a546911c-1089-4f52-9215-5fae64e29861",
   "metadata": {
    "execution": {
     "iopub.execute_input": "2025-05-10T00:13:42.826911Z",
     "iopub.status.busy": "2025-05-10T00:13:42.826771Z",
     "iopub.status.idle": "2025-05-10T00:13:42.830401Z",
     "shell.execute_reply": "2025-05-10T00:13:42.830127Z"
    }
   },
   "outputs": [
    {
     "name": "stdout",
     "output_type": "stream",
     "text": [
      "(0/14) column: center (763 / 0)\n",
      "(1/14) column: subjectID (763 / 0)\n",
      "(2/14) column: uniqueID (763 / 0)\n",
      "(3/14) column: hematologyTimeSlot_min (763 / 0)\n",
      "(4/14) column: hematologyDate (625 / 138)\n",
      "(5/14) column: hematologyTime (564 / 199)\n",
      "(6/14) column: hematologyWBC_cPermuL (454 / 309)\n",
      "(7/14) column: hematologyHemoglobin_gPerdL (475 / 288)\n",
      "(8/14) column: hematologyPolymorphNeutrophils_cPermuL (400 / 363)\n",
      "(9/14) column: hematologyMonocytes_cPermuL (399 / 364)\n",
      "(10/14) column: hematologyLymphocytes_cPermuL (405 / 358)\n",
      "(11/14) column: hematologyPlatelet_cPermuL (469 / 294)\n",
      "(12/14) column: hematologyPT_s (190 / 573)\n",
      "(13/14) column: hematologyPTT_s (179 / 584)\n"
     ]
    }
   ],
   "source": [
    "COMBINE_harmonizer.check_empty(df_hematology)"
   ]
  },
  {
   "cell_type": "code",
   "execution_count": 91,
   "id": "50b5a433-0ce2-448b-84e1-762ed9d09a82",
   "metadata": {
    "execution": {
     "iopub.execute_input": "2025-05-10T00:13:42.831815Z",
     "iopub.status.busy": "2025-05-10T00:13:42.831719Z",
     "iopub.status.idle": "2025-05-10T00:13:42.834628Z",
     "shell.execute_reply": "2025-05-10T00:13:42.834325Z"
    },
    "scrolled": true
   },
   "outputs": [
    {
     "name": "stdout",
     "output_type": "stream",
     "text": [
      "(0/14) center: (763/0)\n",
      "(1/14) subjectID: (763/0)\n",
      "(2/14) uniqueID: (763/0)\n",
      "(3/14) hematologyTimeSlot_min: (763/0)\n",
      "(4/14) hematologyDate: (625/138)\n",
      "(5/14) hematologyTime: (564/199)\n",
      "(6/14) hematologyWBC_cPermuL: (454/309)\n",
      "(7/14) hematologyHemoglobin_gPerdL: (475/288)\n",
      "(8/14) hematologyPolymorphNeutrophils_cPermuL: (400/363)\n",
      "(9/14) hematologyMonocytes_cPermuL: (399/364)\n",
      "(10/14) hematologyLymphocytes_cPermuL: (405/358)\n",
      "(11/14) hematologyPlatelet_cPermuL: (469/294)\n",
      "(12/14) hematologyPT_s: (190/573)\n",
      "(13/14) hematologyPTT_s: (179/584)\n"
     ]
    }
   ],
   "source": [
    "COMBINE_harmonizer.column_info(df_hematology)"
   ]
  },
  {
   "cell_type": "markdown",
   "id": "800dd806",
   "metadata": {},
   "source": [
    "### 02-05-3. Hematology summary"
   ]
  },
  {
   "cell_type": "code",
   "execution_count": 92,
   "id": "fb5dbb6f",
   "metadata": {
    "execution": {
     "iopub.execute_input": "2025-05-10T00:13:42.836409Z",
     "iopub.status.busy": "2025-05-10T00:13:42.836294Z",
     "iopub.status.idle": "2025-05-10T00:13:42.897500Z",
     "shell.execute_reply": "2025-05-10T00:13:42.896980Z"
    }
   },
   "outputs": [
    {
     "name": "stdout",
     "output_type": "stream",
     "text": [
      "(2/22) hematology not in df\n",
      "(3/22) hematologyTimeSlot_min not in df\n",
      "(4/22) hematologyDate not in df\n",
      "(5/22) hematologyTime not in df\n",
      "(6/22) hematologyWBC_cPermuL not in df\n",
      "(7/22) hematologyWBCMin_cPermuL not in df\n",
      "(8/22) hematologyWBCMax_cPermuL not in df\n",
      "(9/22) hematologyHemoglobin_gPerdL not in df\n",
      "(10/22) hematologyPolymorphNeutrophils_cPermuL not in df\n",
      "(11/22) hematologyMonocytes_cPermuL not in df\n",
      "(12/22) hematologyLymphocytes_cPermuL not in df\n",
      "(13/22) hematologyPlatelet_cPermuL not in df\n",
      "(14/22) hematologyPT_s not in df\n",
      "(15/22) hematologyPTT_s not in df\n",
      "(17/22) hematologyHematocritMinDate not in df\n",
      "(18/22) hematologyHematocritMax not in df\n",
      "(19/22) hematologyHematocritMaxDate not in df\n",
      "(21/22) hematologyPlateletMin_cPermuLDate not in df\n"
     ]
    }
   ],
   "source": [
    "df_main_hematology = COMBINE_harmonizer.valid_columns(df_main, all_hematology_columns)\n",
    "df_main_hematology = COMBINE_harmonizer.postprocess(df_main_hematology)\n",
    "\n",
    "out_filename = os.sep.join([out_dir, '02-05_s-hematology.csv'])\n",
    "df_main_hematology.to_csv(out_filename, index=False)"
   ]
  },
  {
   "cell_type": "markdown",
   "id": "c994d5d2",
   "metadata": {},
   "source": [
    "### 02-05-4. check empty cells"
   ]
  },
  {
   "cell_type": "code",
   "execution_count": 93,
   "id": "70b6a875",
   "metadata": {
    "execution": {
     "iopub.execute_input": "2025-05-10T00:13:42.899380Z",
     "iopub.status.busy": "2025-05-10T00:13:42.899240Z",
     "iopub.status.idle": "2025-05-10T00:13:42.901936Z",
     "shell.execute_reply": "2025-05-10T00:13:42.901631Z"
    }
   },
   "outputs": [
    {
     "name": "stdout",
     "output_type": "stream",
     "text": [
      "(0/5) column: center (168 / 0)\n",
      "(1/5) column: subjectID (168 / 0)\n",
      "(2/5) column: uniqueID (168 / 0)\n",
      "(3/5) column: hematologyHematocritMin (163 / 5)\n",
      "(4/5) column: hematologyPlateletMin_cPermuL (161 / 7)\n"
     ]
    }
   ],
   "source": [
    "COMBINE_harmonizer.check_empty(df_main_hematology)"
   ]
  },
  {
   "cell_type": "code",
   "execution_count": 94,
   "id": "ee5d5c22",
   "metadata": {
    "execution": {
     "iopub.execute_input": "2025-05-10T00:13:42.903353Z",
     "iopub.status.busy": "2025-05-10T00:13:42.903214Z",
     "iopub.status.idle": "2025-05-10T00:13:42.905458Z",
     "shell.execute_reply": "2025-05-10T00:13:42.905133Z"
    }
   },
   "outputs": [
    {
     "name": "stdout",
     "output_type": "stream",
     "text": [
      "(0/5) center: (168/0)\n",
      "(1/5) subjectID: (168/0)\n",
      "(2/5) uniqueID: (168/0)\n",
      "(3/5) hematologyHematocritMin: (163/5)\n",
      "(4/5) hematologyPlateletMin_cPermuL: (161/7)\n"
     ]
    }
   ],
   "source": [
    "COMBINE_harmonizer.column_info(df_main_hematology)"
   ]
  },
  {
   "cell_type": "markdown",
   "id": "c6eae39d",
   "metadata": {},
   "source": [
    "## 02-06. Blood Value"
   ]
  },
  {
   "cell_type": "code",
   "execution_count": 95,
   "id": "340de25b",
   "metadata": {
    "execution": {
     "iopub.execute_input": "2025-05-10T00:13:42.907024Z",
     "iopub.status.busy": "2025-05-10T00:13:42.906895Z",
     "iopub.status.idle": "2025-05-10T00:13:42.910196Z",
     "shell.execute_reply": "2025-05-10T00:13:42.909893Z"
    }
   },
   "outputs": [
    {
     "data": {
      "text/plain": [
       "['bloodValueBunBaseline_mgPerdL',\n",
       " 'bloodValueBunBaseline_mgPerdLDate',\n",
       " 'bloodValueCreatinineBaseline_mgPerdL',\n",
       " 'bloodValueCreatinineBaseline_mgPerdLDate',\n",
       " 'bloodValueASTSGOTBaseline_UPerL',\n",
       " 'bloodValueASTSGOTBaseline_UPerLDate',\n",
       " 'bloodValueALTSGPTBaseline_UPerL',\n",
       " 'bloodValueALTSGPTBaseline_UPerLDate',\n",
       " 'bloodValueTotalBilirubinBaseline_mgPerdL',\n",
       " 'bloodValueTotalBilirubinBaseline_mgPerdLDate',\n",
       " 'bloodValuePHMin',\n",
       " 'bloodValuePHMinDate',\n",
       " 'bloodValueHCO3Min_mEqPerL',\n",
       " 'bloodValueHCO3Min_mEqPerLDate',\n",
       " 'bloodValueSerumNaMin_mEqPerL',\n",
       " 'bloodValueSerumNaMin_mEqPerLDate',\n",
       " 'bloodValueSerumKMin_mEqPerL',\n",
       " 'bloodValueSerumKMin_mEqPerLDate',\n",
       " 'bloodValueClMin_mEqPerL',\n",
       " 'bloodValueClMin_mEqPerLDate',\n",
       " 'bloodValueGlucoseMin_mgPerdL',\n",
       " 'bloodValueGlucoseMin_mgPerdLDate',\n",
       " 'bloodValueTotalCaMin_mgPerdL',\n",
       " 'bloodValueTotalCaMin_mgPerdLDate',\n",
       " 'bloodValueIonCaMin_mgPerdL',\n",
       " 'bloodValueIonCaMin_mgPerdLDate',\n",
       " 'bloodValueASTSGOTMin_UPerL',\n",
       " 'bloodValueASTSGOTMin_UPerLDate',\n",
       " 'bloodValueALTSGPTMin_UPerL',\n",
       " 'bloodValueALTSGPTMin_UPerLDate',\n",
       " 'bloodValueTotalBilirubinMin_mgPerdL',\n",
       " 'bloodValueTotalBilirubinMin_mgPerdLDate',\n",
       " 'bloodValuePHMax',\n",
       " 'bloodValuePHMaxDate',\n",
       " 'bloodValueBaseDeficitMax_mEqPerL',\n",
       " 'bloodValueBaseDeficitMax_mEqPerLDate',\n",
       " 'bloodValueSerumNaMax_mEqPerL',\n",
       " 'bloodValueSerumNaMax_mEqPerLDate',\n",
       " 'bloodValueSerumKMax_mEqPerL',\n",
       " 'bloodValueSerumKMax_mEqPerLDate',\n",
       " 'bloodValueClMax_mEqPerL',\n",
       " 'bloodValueClMax_mEqPerLDate',\n",
       " 'bloodValueBunMax_mgPerdL',\n",
       " 'bloodValueBunMax_mgPerdLDate',\n",
       " 'bloodValueCreatinineMax_mgPerdL',\n",
       " 'bloodValueCreatinineMax_mgPerdLDate',\n",
       " 'bloodValueGlucoseMax_mgPerdL',\n",
       " 'bloodValueGlucoseMax_mgPerdLDate',\n",
       " 'bloodValueTotalCaMax_mgPerdL',\n",
       " 'bloodValueTotalCaMax_mgPerdLDate',\n",
       " 'bloodValueIonCaMax_mgPerdL',\n",
       " 'bloodValueIonCaMax_mgPerdLDate',\n",
       " 'bloodValueASTSGOTMax_UPerL',\n",
       " 'bloodValueASTSGOTMax_UPerLDate',\n",
       " 'bloodValueALTSGPTMax_UPerL',\n",
       " 'bloodValueALTSGPTMax_UPerLDate',\n",
       " 'bloodValueTotalBilirubinMax_mgPerdL',\n",
       " 'bloodValueTotalBilirubinMax_mgPerdLDate']"
      ]
     },
     "execution_count": 95,
     "metadata": {},
     "output_type": "execute_result"
    }
   ],
   "source": [
    "blood_value_columns = COMBINE_harmonizer.get_columns(df_data_dict, 'Intervention', 'Blood Value')\n",
    "all_blood_value_columns = id_columns + blood_value_columns\n",
    "blood_value_columns"
   ]
  },
  {
   "cell_type": "code",
   "execution_count": 96,
   "id": "a14ccaa3",
   "metadata": {
    "execution": {
     "iopub.execute_input": "2025-05-10T00:13:42.911678Z",
     "iopub.status.busy": "2025-05-10T00:13:42.911581Z",
     "iopub.status.idle": "2025-05-10T00:13:42.982823Z",
     "shell.execute_reply": "2025-05-10T00:13:42.982307Z"
    }
   },
   "outputs": [
    {
     "name": "stdout",
     "output_type": "stream",
     "text": [
      "(2/60) bloodValueBunBaseline_mgPerdL not in df\n",
      "(3/60) bloodValueBunBaseline_mgPerdLDate not in df\n",
      "(4/60) bloodValueCreatinineBaseline_mgPerdL not in df\n",
      "(5/60) bloodValueCreatinineBaseline_mgPerdLDate not in df\n",
      "(6/60) bloodValueASTSGOTBaseline_UPerL not in df\n",
      "(7/60) bloodValueASTSGOTBaseline_UPerLDate not in df\n",
      "(8/60) bloodValueALTSGPTBaseline_UPerL not in df\n",
      "(9/60) bloodValueALTSGPTBaseline_UPerLDate not in df\n",
      "(10/60) bloodValueTotalBilirubinBaseline_mgPerdL not in df\n",
      "(11/60) bloodValueTotalBilirubinBaseline_mgPerdLDate not in df\n",
      "(28/60) bloodValueASTSGOTMin_UPerL not in df\n",
      "(29/60) bloodValueASTSGOTMin_UPerLDate not in df\n",
      "(30/60) bloodValueALTSGPTMin_UPerL not in df\n",
      "(31/60) bloodValueALTSGPTMin_UPerLDate not in df\n",
      "(32/60) bloodValueTotalBilirubinMin_mgPerdL not in df\n",
      "(33/60) bloodValueTotalBilirubinMin_mgPerdLDate not in df\n",
      "(50/60) bloodValueTotalCaMax_mgPerdL not in df\n",
      "(51/60) bloodValueTotalCaMax_mgPerdLDate not in df\n",
      "(52/60) bloodValueIonCaMax_mgPerdL not in df\n",
      "(53/60) bloodValueIonCaMax_mgPerdLDate not in df\n",
      "(58/60) bloodValueTotalBilirubinMax_mgPerdL not in df\n",
      "(59/60) bloodValueTotalBilirubinMax_mgPerdLDate not in df\n"
     ]
    }
   ],
   "source": [
    "df_main_blood_value = COMBINE_harmonizer.valid_columns(df_main, all_blood_value_columns)\n",
    "df_main_blood_value = COMBINE_harmonizer.postprocess(df_main_blood_value)\n",
    "\n",
    "out_filename = os.sep.join([out_dir, '02-06_s-blood-value.csv'])\n",
    "df_main_blood_value.to_csv(out_filename, index=False)\n"
   ]
  },
  {
   "cell_type": "markdown",
   "id": "b42874f5",
   "metadata": {},
   "source": [
    "### 02-06-2. check empty cells"
   ]
  },
  {
   "cell_type": "code",
   "execution_count": 97,
   "id": "e16a36a9",
   "metadata": {
    "execution": {
     "iopub.execute_input": "2025-05-10T00:13:42.985702Z",
     "iopub.status.busy": "2025-05-10T00:13:42.985512Z",
     "iopub.status.idle": "2025-05-10T00:13:42.993246Z",
     "shell.execute_reply": "2025-05-10T00:13:42.992812Z"
    }
   },
   "outputs": [
    {
     "name": "stdout",
     "output_type": "stream",
     "text": [
      "(0/39) column: center (168 / 0)\n",
      "(1/39) column: subjectID (168 / 0)\n",
      "(2/39) column: uniqueID (168 / 0)\n",
      "(3/39) column: bloodValuePHMin (156 / 12)\n",
      "(4/39) column: bloodValuePHMinDate (156 / 12)\n",
      "(5/39) column: bloodValuePHMax (155 / 13)\n",
      "(6/39) column: bloodValuePHMaxDate (155 / 13)\n",
      "(7/39) column: bloodValueHCO3Min_mEqPerL (155 / 13)\n",
      "(8/39) column: bloodValueHCO3Min_mEqPerLDate (155 / 13)\n",
      "(9/39) column: bloodValueBaseDeficitMax_mEqPerL (154 / 14)\n",
      "(10/39) column: bloodValueBaseDeficitMax_mEqPerLDate (154 / 14)\n",
      "(11/39) column: bloodValueSerumNaMin_mEqPerL (168 / 0)\n",
      "(12/39) column: bloodValueSerumNaMin_mEqPerLDate (168 / 0)\n",
      "(13/39) column: bloodValueSerumNaMax_mEqPerL (168 / 0)\n",
      "(14/39) column: bloodValueSerumNaMax_mEqPerLDate (168 / 0)\n",
      "(15/39) column: bloodValueSerumKMin_mEqPerL (168 / 0)\n",
      "(16/39) column: bloodValueSerumKMin_mEqPerLDate (168 / 0)\n",
      "(17/39) column: bloodValueSerumKMax_mEqPerL (166 / 2)\n",
      "(18/39) column: bloodValueSerumKMax_mEqPerLDate (167 / 1)\n",
      "(19/39) column: bloodValueClMin_mEqPerL (166 / 2)\n",
      "(20/39) column: bloodValueClMin_mEqPerLDate (166 / 2)\n",
      "(21/39) column: bloodValueClMax_mEqPerL (165 / 3)\n",
      "(22/39) column: bloodValueClMax_mEqPerLDate (165 / 3)\n",
      "(23/39) column: bloodValueBunMax_mgPerdL (164 / 4)\n",
      "(24/39) column: bloodValueBunMax_mgPerdLDate (164 / 4)\n",
      "(25/39) column: bloodValueCreatinineMax_mgPerdL (164 / 4)\n",
      "(26/39) column: bloodValueCreatinineMax_mgPerdLDate (164 / 4)\n",
      "(27/39) column: bloodValueGlucoseMin_mgPerdL (167 / 1)\n",
      "(28/39) column: bloodValueGlucoseMin_mgPerdLDate (167 / 1)\n",
      "(29/39) column: bloodValueGlucoseMax_mgPerdL (167 / 1)\n",
      "(30/39) column: bloodValueGlucoseMax_mgPerdLDate (167 / 1)\n",
      "(31/39) column: bloodValueTotalCaMin_mgPerdL (154 / 14)\n",
      "(32/39) column: bloodValueTotalCaMin_mgPerdLDate (154 / 14)\n",
      "(33/39) column: bloodValueIonCaMin_mgPerdL (104 / 64)\n",
      "(34/39) column: bloodValueIonCaMin_mgPerdLDate (104 / 64)\n",
      "(35/39) column: bloodValueASTSGOTMax_UPerL (134 / 34)\n",
      "(36/39) column: bloodValueASTSGOTMax_UPerLDate (137 / 31)\n",
      "(37/39) column: bloodValueALTSGPTMax_UPerL (142 / 26)\n",
      "(38/39) column: bloodValueALTSGPTMax_UPerLDate (143 / 25)\n"
     ]
    }
   ],
   "source": [
    "COMBINE_harmonizer.check_empty(df_main_blood_value)"
   ]
  },
  {
   "cell_type": "code",
   "execution_count": 98,
   "id": "6aef2a11",
   "metadata": {
    "execution": {
     "iopub.execute_input": "2025-05-10T00:13:42.995377Z",
     "iopub.status.busy": "2025-05-10T00:13:42.995204Z",
     "iopub.status.idle": "2025-05-10T00:13:42.999977Z",
     "shell.execute_reply": "2025-05-10T00:13:42.999634Z"
    }
   },
   "outputs": [
    {
     "name": "stdout",
     "output_type": "stream",
     "text": [
      "(0/39) center: (168/0)\n",
      "(1/39) subjectID: (168/0)\n",
      "(2/39) uniqueID: (168/0)\n",
      "(3/39) bloodValuePHMin: (156/12)\n",
      "(4/39) bloodValuePHMinDate: (156/12)\n",
      "(5/39) bloodValuePHMax: (155/13)\n",
      "(6/39) bloodValuePHMaxDate: (155/13)\n",
      "(7/39) bloodValueHCO3Min_mEqPerL: (155/13)\n",
      "(8/39) bloodValueHCO3Min_mEqPerLDate: (155/13)\n",
      "(9/39) bloodValueBaseDeficitMax_mEqPerL: (154/14)\n",
      "(10/39) bloodValueBaseDeficitMax_mEqPerLDate: (154/14)\n",
      "(11/39) bloodValueSerumNaMin_mEqPerL: (168/0)\n",
      "(12/39) bloodValueSerumNaMin_mEqPerLDate: (168/0)\n",
      "(13/39) bloodValueSerumNaMax_mEqPerL: (168/0)\n",
      "(14/39) bloodValueSerumNaMax_mEqPerLDate: (168/0)\n",
      "(15/39) bloodValueSerumKMin_mEqPerL: (168/0)\n",
      "(16/39) bloodValueSerumKMin_mEqPerLDate: (168/0)\n",
      "(17/39) bloodValueSerumKMax_mEqPerL: (166/2)\n",
      "(18/39) bloodValueSerumKMax_mEqPerLDate: (167/1)\n",
      "(19/39) bloodValueClMin_mEqPerL: (166/2)\n",
      "(20/39) bloodValueClMin_mEqPerLDate: (166/2)\n",
      "(21/39) bloodValueClMax_mEqPerL: (165/3)\n",
      "(22/39) bloodValueClMax_mEqPerLDate: (165/3)\n",
      "(23/39) bloodValueBunMax_mgPerdL: (164/4)\n",
      "(24/39) bloodValueBunMax_mgPerdLDate: (164/4)\n",
      "(25/39) bloodValueCreatinineMax_mgPerdL: (164/4)\n",
      "(26/39) bloodValueCreatinineMax_mgPerdLDate: (164/4)\n",
      "(27/39) bloodValueGlucoseMin_mgPerdL: (167/1)\n",
      "(28/39) bloodValueGlucoseMin_mgPerdLDate: (167/1)\n",
      "(29/39) bloodValueGlucoseMax_mgPerdL: (167/1)\n",
      "(30/39) bloodValueGlucoseMax_mgPerdLDate: (167/1)\n",
      "(31/39) bloodValueTotalCaMin_mgPerdL: (154/14)\n",
      "(32/39) bloodValueTotalCaMin_mgPerdLDate: (154/14)\n",
      "(33/39) bloodValueIonCaMin_mgPerdL: (104/64)\n",
      "(34/39) bloodValueIonCaMin_mgPerdLDate: (104/64)\n",
      "(35/39) bloodValueASTSGOTMax_UPerL: (134/34)\n",
      "(36/39) bloodValueASTSGOTMax_UPerLDate: (137/31)\n",
      "(37/39) bloodValueALTSGPTMax_UPerL: (142/26)\n",
      "(38/39) bloodValueALTSGPTMax_UPerLDate: (143/25)\n"
     ]
    }
   ],
   "source": [
    "COMBINE_harmonizer.column_info(df_main_blood_value)"
   ]
  },
  {
   "cell_type": "markdown",
   "id": "363a1815-a2f9-491c-aca1-a2ba778153c6",
   "metadata": {},
   "source": [
    "## 02-07. infection"
   ]
  },
  {
   "cell_type": "code",
   "execution_count": 99,
   "id": "bc4e25ec",
   "metadata": {
    "execution": {
     "iopub.execute_input": "2025-05-10T00:13:43.002347Z",
     "iopub.status.busy": "2025-05-10T00:13:43.002165Z",
     "iopub.status.idle": "2025-05-10T00:13:43.005801Z",
     "shell.execute_reply": "2025-05-10T00:13:43.005471Z"
    }
   },
   "outputs": [
    {
     "data": {
      "text/plain": [
       "['positiveCultureNumber',\n",
       " 'positiveCulture',\n",
       " 'positiveCultureSrc',\n",
       " 'positiveCultureDate',\n",
       " 'positiveCultureTime',\n",
       " 'positiveCultureOrganismCode1',\n",
       " 'positiveCultureOrganismCode2',\n",
       " 'positiveCultureOrganismCode3',\n",
       " 'antibiotics',\n",
       " 'antibioticsCode1',\n",
       " 'antibioticsCode2',\n",
       " 'antibioticsCode3',\n",
       " 'rewarmingAntibiotics',\n",
       " 'rewarmingAntibioticsCode1',\n",
       " 'rewarmingAntibioticsCode2',\n",
       " 'rewarmingAntibioticsCode3']"
      ]
     },
     "execution_count": 99,
     "metadata": {},
     "output_type": "execute_result"
    }
   ],
   "source": [
    "infection_columns = COMBINE_harmonizer.get_columns(df_data_dict, 'Intervention', 'Infection')\n",
    "all_infection_columns = id_columns + infection_columns\n",
    "infection_columns"
   ]
  },
  {
   "cell_type": "code",
   "execution_count": 100,
   "id": "76518950",
   "metadata": {
    "execution": {
     "iopub.execute_input": "2025-05-10T00:13:43.007357Z",
     "iopub.status.busy": "2025-05-10T00:13:43.007247Z",
     "iopub.status.idle": "2025-05-10T00:13:43.075778Z",
     "shell.execute_reply": "2025-05-10T00:13:43.075373Z"
    }
   },
   "outputs": [
    {
     "name": "stdout",
     "output_type": "stream",
     "text": [
      "(2/18) positiveCultureNumber not in df\n",
      "(14/18) rewarmingAntibiotics not in df\n",
      "(15/18) rewarmingAntibioticsCode1 not in df\n",
      "(16/18) rewarmingAntibioticsCode2 not in df\n",
      "(17/18) rewarmingAntibioticsCode3 not in df\n"
     ]
    }
   ],
   "source": [
    "df_infection = df_dict['lh06.csv'].copy()\n",
    "df_infection = COMBINE_harmonizer.valid_columns(df_infection, all_infection_columns)\n",
    "df_infection = COMBINE_harmonizer.postprocess(df_infection)\n",
    "\n",
    "### XXX add positive culture number as 1\n",
    "df_infection['positiveCultureNumber'] = 1\n",
    "\n",
    "out_filename = os.sep.join([out_dir, '02-07-infection.csv'])\n",
    "df_infection.to_csv(out_filename, index=False)"
   ]
  },
  {
   "cell_type": "markdown",
   "id": "a7fe16a1",
   "metadata": {},
   "source": [
    "### 02-07-2. check empty cells"
   ]
  },
  {
   "cell_type": "code",
   "execution_count": 101,
   "id": "bd13a590",
   "metadata": {
    "execution": {
     "iopub.execute_input": "2025-05-10T00:13:43.078383Z",
     "iopub.status.busy": "2025-05-10T00:13:43.078170Z",
     "iopub.status.idle": "2025-05-10T00:13:43.083325Z",
     "shell.execute_reply": "2025-05-10T00:13:43.082761Z"
    }
   },
   "outputs": [
    {
     "name": "stdout",
     "output_type": "stream",
     "text": [
      "(0/15) column: center (168 / 0)\n",
      "(1/15) column: subjectID (168 / 0)\n",
      "(2/15) column: uniqueID (168 / 0)\n",
      "(3/15) column: positiveCulture (163 / 5)\n",
      "(4/15) column: antibiotics (157 / 11)\n",
      "(5/15) column: positiveCultureSrc (2 / 166)\n",
      "(6/15) column: positiveCultureDate (2 / 166)\n",
      "(7/15) column: positiveCultureTime (2 / 166)\n",
      "(8/15) column: positiveCultureOrganismCode1 (2 / 166)\n",
      "(9/15) column: positiveCultureOrganismCode2 (0 / 168)\n",
      "(10/15) column: positiveCultureOrganismCode3 (0 / 168)\n",
      "(11/15) column: antibioticsCode1 (57 / 111)\n",
      "(12/15) column: antibioticsCode2 (30 / 138)\n",
      "(13/15) column: antibioticsCode3 (6 / 162)\n",
      "(14/15) column: positiveCultureNumber (168 / 0)\n"
     ]
    }
   ],
   "source": [
    "COMBINE_harmonizer.check_empty(df_infection)"
   ]
  },
  {
   "cell_type": "code",
   "execution_count": 102,
   "id": "9183db6b",
   "metadata": {
    "execution": {
     "iopub.execute_input": "2025-05-10T00:13:43.085851Z",
     "iopub.status.busy": "2025-05-10T00:13:43.085644Z",
     "iopub.status.idle": "2025-05-10T00:13:43.089093Z",
     "shell.execute_reply": "2025-05-10T00:13:43.088703Z"
    }
   },
   "outputs": [
    {
     "name": "stdout",
     "output_type": "stream",
     "text": [
      "(0/15) center: (168/0)\n",
      "(1/15) subjectID: (168/0)\n",
      "(2/15) uniqueID: (168/0)\n",
      "(3/15) positiveCulture: (163/5)\n",
      "(4/15) antibiotics: (157/11)\n",
      "(5/15) positiveCultureSrc: (2/166)\n",
      "(6/15) positiveCultureDate: (2/166)\n",
      "(7/15) positiveCultureTime: (2/166)\n",
      "(8/15) positiveCultureOrganismCode1: (2/166)\n",
      "(9/15) positiveCultureOrganismCode2: (0/168)\n",
      "(10/15) positiveCultureOrganismCode3: (0/168)\n",
      "(11/15) antibioticsCode1: (57/111)\n",
      "(12/15) antibioticsCode2: (30/138)\n",
      "(13/15) antibioticsCode3: (6/162)\n",
      "(14/15) positiveCultureNumber: (168/0)\n"
     ]
    }
   ],
   "source": [
    "COMBINE_harmonizer.column_info(df_infection)"
   ]
  },
  {
   "cell_type": "markdown",
   "id": "519bddc2-506e-4d02-ad7c-b7251d90591e",
   "metadata": {},
   "source": [
    "## 02-08. other-med"
   ]
  },
  {
   "cell_type": "code",
   "execution_count": 103,
   "id": "2af1adc0-50d8-41d6-bd7d-719550948aad",
   "metadata": {
    "execution": {
     "iopub.execute_input": "2025-05-10T00:13:43.091305Z",
     "iopub.status.busy": "2025-05-10T00:13:43.091137Z",
     "iopub.status.idle": "2025-05-10T00:13:43.095485Z",
     "shell.execute_reply": "2025-05-10T00:13:43.095111Z"
    }
   },
   "outputs": [
    {
     "data": {
      "text/plain": [
       "['otherMedTimeSlot_min',\n",
       " 'otherMedTargetDate',\n",
       " 'otherMedTargetTime',\n",
       " 'anticonvulsants',\n",
       " 'anticonvulsants1',\n",
       " 'anticonvulsants2',\n",
       " 'anticonvulsants3',\n",
       " 'analgesicsSedatives',\n",
       " 'analgesicsSedatives1',\n",
       " 'analgesicsSedatives2',\n",
       " 'analgesicsSedatives3',\n",
       " 'antipyretics',\n",
       " 'antipyretics1',\n",
       " 'antipyretics2',\n",
       " 'antipyretics3',\n",
       " 'paralytics',\n",
       " 'paralytics1',\n",
       " 'paralytics2',\n",
       " 'paralytics3',\n",
       " 'otherMedFluidIntake_ccPerKg',\n",
       " 'otherMedUrineOutput_ccPerKg']"
      ]
     },
     "execution_count": 103,
     "metadata": {},
     "output_type": "execute_result"
    }
   ],
   "source": [
    "other_med_columns = COMBINE_harmonizer.get_columns(df_data_dict, 'Intervention', 'Other Medication')\n",
    "all_other_med_columns = id_columns + other_med_columns\n",
    "other_med_columns"
   ]
  },
  {
   "cell_type": "code",
   "execution_count": 104,
   "id": "e7dad2f0",
   "metadata": {
    "execution": {
     "iopub.execute_input": "2025-05-10T00:13:43.097145Z",
     "iopub.status.busy": "2025-05-10T00:13:43.096965Z",
     "iopub.status.idle": "2025-05-10T00:13:43.164973Z",
     "shell.execute_reply": "2025-05-10T00:13:43.164511Z"
    }
   },
   "outputs": [
    {
     "name": "stdout",
     "output_type": "stream",
     "text": [
      "(1/26) REC_CMP not in columns\n",
      "(24/26) CMP_DATE not in columns\n",
      "(25/26) CRT_DATE not in columns\n"
     ]
    }
   ],
   "source": [
    "df_other_med = df_dict['lh06om.csv'].copy()\n",
    "\n",
    "otherMedTimeSlot_int = df_other_med['otherMedTimeSlot_min'].apply(COMBINE_harmonizer.to_int)\n",
    "is_pre = otherMedTimeSlot_int == 0\n",
    "is_clinical_course = is_pre == False\n",
    "# after_baseline\n",
    "df_other_med = df_other_med[is_clinical_course]\n",
    "\n",
    "df_other_med = COMBINE_harmonizer.valid_columns(df_other_med, all_other_med_columns, debug_df=True, debug_columns=True)\n",
    "df_other_med = COMBINE_harmonizer.postprocess(df_other_med)\n",
    "\n",
    "out_filename = os.sep.join([out_dir, '02-08-other-med.csv'])\n",
    "df_other_med.to_csv(out_filename, index=False)"
   ]
  },
  {
   "cell_type": "markdown",
   "id": "fe878ba6-3767-45e3-952f-009cabbe0d25",
   "metadata": {},
   "source": [
    "### 02-08-1. check other-med"
   ]
  },
  {
   "cell_type": "code",
   "execution_count": 105,
   "id": "f46ef718-03ca-48ce-9f89-31719d0d5b83",
   "metadata": {
    "execution": {
     "iopub.execute_input": "2025-05-10T00:13:43.167328Z",
     "iopub.status.busy": "2025-05-10T00:13:43.167129Z",
     "iopub.status.idle": "2025-05-10T00:13:43.177309Z",
     "shell.execute_reply": "2025-05-10T00:13:43.176856Z"
    }
   },
   "outputs": [
    {
     "data": {
      "text/html": [
       "<div>\n",
       "<style scoped>\n",
       "    .dataframe tbody tr th:only-of-type {\n",
       "        vertical-align: middle;\n",
       "    }\n",
       "\n",
       "    .dataframe tbody tr th {\n",
       "        vertical-align: top;\n",
       "    }\n",
       "\n",
       "    .dataframe thead th {\n",
       "        text-align: right;\n",
       "    }\n",
       "</style>\n",
       "<table border=\"1\" class=\"dataframe\">\n",
       "  <thead>\n",
       "    <tr style=\"text-align: right;\">\n",
       "      <th></th>\n",
       "      <th></th>\n",
       "      <th>_count</th>\n",
       "    </tr>\n",
       "    <tr>\n",
       "      <th>uniqueID</th>\n",
       "      <th>otherMedTimeSlot_min</th>\n",
       "      <th></th>\n",
       "    </tr>\n",
       "  </thead>\n",
       "  <tbody>\n",
       "  </tbody>\n",
       "</table>\n",
       "</div>"
      ],
      "text/plain": [
       "Empty DataFrame\n",
       "Columns: [_count]\n",
       "Index: []"
      ]
     },
     "execution_count": 105,
     "metadata": {},
     "output_type": "execute_result"
    }
   ],
   "source": [
    "df_other_med_groupby = df_other_med.groupby(['uniqueID', 'otherMedTimeSlot_min']).agg(_count=('uniqueID', 'count'))\n",
    "\n",
    "is_invalid = df_other_med_groupby['_count'] > 1\n",
    "df_other_med_groupby[is_invalid]"
   ]
  },
  {
   "cell_type": "markdown",
   "id": "02491412-5c85-4732-b180-51588dd433e4",
   "metadata": {},
   "source": [
    "### 02-08-2. check empty cells"
   ]
  },
  {
   "cell_type": "code",
   "execution_count": 106,
   "id": "a06a0fe2-1952-45ba-86fc-b3658476f88e",
   "metadata": {
    "execution": {
     "iopub.execute_input": "2025-05-10T00:13:43.179607Z",
     "iopub.status.busy": "2025-05-10T00:13:43.179404Z",
     "iopub.status.idle": "2025-05-10T00:13:43.186206Z",
     "shell.execute_reply": "2025-05-10T00:13:43.185787Z"
    }
   },
   "outputs": [
    {
     "name": "stdout",
     "output_type": "stream",
     "text": [
      "(0/24) column: center (778 / 0)\n",
      "(1/24) column: subjectID (778 / 0)\n",
      "(2/24) column: uniqueID (778 / 0)\n",
      "(3/24) column: otherMedTimeSlot_min (778 / 0)\n",
      "(4/24) column: otherMedTargetDate (25 / 753)\n",
      "(5/24) column: otherMedTargetTime (25 / 753)\n",
      "(6/24) column: anticonvulsants (5 / 773)\n",
      "(7/24) column: anticonvulsants1 (421 / 357)\n",
      "(8/24) column: anticonvulsants2 (68 / 710)\n",
      "(9/24) column: anticonvulsants3 (10 / 768)\n",
      "(10/24) column: analgesicsSedatives (6 / 772)\n",
      "(11/24) column: analgesicsSedatives1 (231 / 547)\n",
      "(12/24) column: analgesicsSedatives2 (76 / 702)\n",
      "(13/24) column: analgesicsSedatives3 (11 / 767)\n",
      "(14/24) column: antipyretics (0 / 778)\n",
      "(15/24) column: antipyretics1 (7 / 771)\n",
      "(16/24) column: antipyretics2 (0 / 778)\n",
      "(17/24) column: antipyretics3 (0 / 778)\n",
      "(18/24) column: paralytics (0 / 778)\n",
      "(19/24) column: paralytics1 (30 / 748)\n",
      "(20/24) column: paralytics2 (0 / 778)\n",
      "(21/24) column: paralytics3 (0 / 778)\n",
      "(22/24) column: otherMedFluidIntake_ccPerKg (630 / 148)\n",
      "(23/24) column: otherMedUrineOutput_ccPerKg (630 / 148)\n"
     ]
    }
   ],
   "source": [
    "COMBINE_harmonizer.check_empty(df_other_med)"
   ]
  },
  {
   "cell_type": "code",
   "execution_count": 107,
   "id": "30bc939c-70ca-44c9-a596-f5dbb43ae2b3",
   "metadata": {
    "execution": {
     "iopub.execute_input": "2025-05-10T00:13:43.187953Z",
     "iopub.status.busy": "2025-05-10T00:13:43.187792Z",
     "iopub.status.idle": "2025-05-10T00:13:43.192189Z",
     "shell.execute_reply": "2025-05-10T00:13:43.191911Z"
    }
   },
   "outputs": [
    {
     "name": "stdout",
     "output_type": "stream",
     "text": [
      "(0/24) center: (778/0)\n",
      "(1/24) subjectID: (778/0)\n",
      "(2/24) uniqueID: (778/0)\n",
      "(3/24) otherMedTimeSlot_min: (778/0)\n",
      "(4/24) otherMedTargetDate: (25/753)\n",
      "(5/24) otherMedTargetTime: (25/753)\n",
      "(6/24) anticonvulsants: (5/773)\n",
      "(7/24) anticonvulsants1: (421/357)\n",
      "(8/24) anticonvulsants2: (68/710)\n",
      "(9/24) anticonvulsants3: (10/768)\n",
      "(10/24) analgesicsSedatives: (6/772)\n",
      "(11/24) analgesicsSedatives1: (231/547)\n",
      "(12/24) analgesicsSedatives2: (76/702)\n",
      "(13/24) analgesicsSedatives3: (11/767)\n",
      "(14/24) antipyretics: (0/778)\n",
      "(15/24) antipyretics1: (7/771)\n",
      "(16/24) antipyretics2: (0/778)\n",
      "(17/24) antipyretics3: (0/778)\n",
      "(18/24) paralytics: (0/778)\n",
      "(19/24) paralytics1: (30/748)\n",
      "(20/24) paralytics2: (0/778)\n",
      "(21/24) paralytics3: (0/778)\n",
      "(22/24) otherMedFluidIntake_ccPerKg: (630/148)\n",
      "(23/24) otherMedUrineOutput_ccPerKg: (630/148)\n"
     ]
    }
   ],
   "source": [
    "COMBINE_harmonizer.column_info(df_other_med)"
   ]
  },
  {
   "cell_type": "markdown",
   "id": "57cbe935",
   "metadata": {},
   "source": [
    "## 02-09. Imaging"
   ]
  },
  {
   "cell_type": "code",
   "execution_count": 108,
   "id": "24898b12",
   "metadata": {
    "execution": {
     "iopub.execute_input": "2025-05-10T00:13:43.193999Z",
     "iopub.status.busy": "2025-05-10T00:13:43.193873Z",
     "iopub.status.idle": "2025-05-10T00:13:43.197697Z",
     "shell.execute_reply": "2025-05-10T00:13:43.197381Z"
    }
   },
   "outputs": [
    {
     "data": {
      "text/plain": [
       "['imagingNumber',\n",
       " 'headSonogram',\n",
       " 'headSonogramDate',\n",
       " 'headSonogramTime',\n",
       " 'headSonogramResult1',\n",
       " 'headSonogramResult2',\n",
       " 'headSonogramResult3',\n",
       " 'headSonogramResult4',\n",
       " 'headSonogramResult5',\n",
       " 'headSonogramResult6',\n",
       " 'headSonogramResult7',\n",
       " 'headSonogramResult8',\n",
       " 'headSonogramResultText',\n",
       " 'headCT',\n",
       " 'headCTDate',\n",
       " 'headCTTime',\n",
       " 'headCTResult1',\n",
       " 'headCTResult2',\n",
       " 'headCTResult3',\n",
       " 'headCTResult4',\n",
       " 'headCTResult5',\n",
       " 'headCTResult6',\n",
       " 'headCTResult7',\n",
       " 'headCTResult8',\n",
       " 'headCTResultText',\n",
       " 'brainMRI',\n",
       " 'brainMRIDate',\n",
       " 'brainMRITime',\n",
       " 'brainMRIResult1',\n",
       " 'brainMRIResult2',\n",
       " 'brainMRIResult3',\n",
       " 'brainMRIResult4',\n",
       " 'brainMRIResult5',\n",
       " 'brainMRIResult6',\n",
       " 'brainMRIResult7',\n",
       " 'brainMRIResult8',\n",
       " 'brainMRIResultText']"
      ]
     },
     "execution_count": 108,
     "metadata": {},
     "output_type": "execute_result"
    }
   ],
   "source": [
    "imaging_columns = COMBINE_harmonizer.get_columns(df_data_dict, 'Intervention', 'Imaging')\n",
    "all_imaging_columns = id_columns + imaging_columns\n",
    "imaging_columns"
   ]
  },
  {
   "cell_type": "code",
   "execution_count": 109,
   "id": "2cbe06d7",
   "metadata": {
    "execution": {
     "iopub.execute_input": "2025-05-10T00:13:43.199398Z",
     "iopub.status.busy": "2025-05-10T00:13:43.199266Z",
     "iopub.status.idle": "2025-05-10T00:13:43.264251Z",
     "shell.execute_reply": "2025-05-10T00:13:43.263764Z"
    }
   },
   "outputs": [
    {
     "name": "stdout",
     "output_type": "stream",
     "text": [
      "(7/42) REC_CMP not in columns\n",
      "(40/42) CMP_DATE not in columns\n",
      "(41/42) CRT_DATE not in columns\n"
     ]
    }
   ],
   "source": [
    "df_imaging = df_dict['lh09.csv'].copy()\n",
    "\n",
    "imagingTimeSlot_int = df_imaging['imagingNumber'].apply(COMBINE_harmonizer.to_int)\n",
    "is_pre = imagingTimeSlot_int == 1\n",
    "is_post = imagingTimeSlot_int == 3\n",
    "is_clinical_course = (is_pre == False) & (is_post == False)\n",
    "df_imaging = df_imaging[is_clinical_course]\n",
    "\n",
    "df_imaging = COMBINE_harmonizer.valid_columns(df_imaging, all_imaging_columns, debug_df=True, debug_columns=True)\n",
    "df_imaging = COMBINE_harmonizer.postprocess(df_imaging)\n",
    "\n",
    "out_filename = os.sep.join([out_dir, '02-09-imaging.csv'])\n",
    "df_imaging.to_csv(out_filename, index=False)"
   ]
  },
  {
   "cell_type": "markdown",
   "id": "e89789bd",
   "metadata": {},
   "source": [
    "### 02-09-1. check imaging"
   ]
  },
  {
   "cell_type": "code",
   "execution_count": 110,
   "id": "fdbaad1e",
   "metadata": {
    "execution": {
     "iopub.execute_input": "2025-05-10T00:13:43.266936Z",
     "iopub.status.busy": "2025-05-10T00:13:43.266737Z",
     "iopub.status.idle": "2025-05-10T00:13:43.275677Z",
     "shell.execute_reply": "2025-05-10T00:13:43.275276Z"
    }
   },
   "outputs": [
    {
     "data": {
      "text/html": [
       "<div>\n",
       "<style scoped>\n",
       "    .dataframe tbody tr th:only-of-type {\n",
       "        vertical-align: middle;\n",
       "    }\n",
       "\n",
       "    .dataframe tbody tr th {\n",
       "        vertical-align: top;\n",
       "    }\n",
       "\n",
       "    .dataframe thead th {\n",
       "        text-align: right;\n",
       "    }\n",
       "</style>\n",
       "<table border=\"1\" class=\"dataframe\">\n",
       "  <thead>\n",
       "    <tr style=\"text-align: right;\">\n",
       "      <th></th>\n",
       "      <th></th>\n",
       "      <th>_count</th>\n",
       "    </tr>\n",
       "    <tr>\n",
       "      <th>uniqueID</th>\n",
       "      <th>imagingNumber</th>\n",
       "      <th></th>\n",
       "    </tr>\n",
       "  </thead>\n",
       "  <tbody>\n",
       "  </tbody>\n",
       "</table>\n",
       "</div>"
      ],
      "text/plain": [
       "Empty DataFrame\n",
       "Columns: [_count]\n",
       "Index: []"
      ]
     },
     "execution_count": 110,
     "metadata": {},
     "output_type": "execute_result"
    }
   ],
   "source": [
    "df_imaging_groupby = df_imaging.groupby(['uniqueID', 'imagingNumber']).agg(_count=('uniqueID', 'count'))\n",
    "\n",
    "is_invalid = df_imaging_groupby['_count'] > 1\n",
    "df_imaging_groupby[is_invalid]"
   ]
  },
  {
   "cell_type": "markdown",
   "id": "fffee34e",
   "metadata": {},
   "source": [
    "### 02-09-2. check empty cells"
   ]
  },
  {
   "cell_type": "code",
   "execution_count": 111,
   "id": "61478072",
   "metadata": {
    "execution": {
     "iopub.execute_input": "2025-05-10T00:13:43.277786Z",
     "iopub.status.busy": "2025-05-10T00:13:43.277624Z",
     "iopub.status.idle": "2025-05-10T00:13:43.284102Z",
     "shell.execute_reply": "2025-05-10T00:13:43.283735Z"
    }
   },
   "outputs": [
    {
     "name": "stdout",
     "output_type": "stream",
     "text": [
      "(0/40) column: center (168 / 0)\n",
      "(1/40) column: subjectID (168 / 0)\n",
      "(2/40) column: uniqueID (168 / 0)\n",
      "(3/40) column: headSonogram (168 / 0)\n",
      "(4/40) column: headSonogramResultText (9 / 159)\n",
      "(5/40) column: headCT (168 / 0)\n",
      "(6/40) column: headCTResultText (1 / 167)\n",
      "(7/40) column: brainMRI (168 / 0)\n",
      "(8/40) column: brainMRIResultText (10 / 158)\n",
      "(9/40) column: imagingNumber (168 / 0)\n",
      "(10/40) column: headSonogramDate (79 / 89)\n",
      "(11/40) column: headSonogramTime (79 / 89)\n",
      "(12/40) column: headSonogramResult1 (79 / 89)\n",
      "(13/40) column: headSonogramResult2 (11 / 157)\n",
      "(14/40) column: headSonogramResult3 (3 / 165)\n",
      "(15/40) column: headSonogramResult4 (1 / 167)\n",
      "(16/40) column: headSonogramResult5 (0 / 168)\n",
      "(17/40) column: headSonogramResult6 (0 / 168)\n",
      "(18/40) column: headSonogramResult7 (0 / 168)\n",
      "(19/40) column: headSonogramResult8 (0 / 168)\n",
      "(20/40) column: headCTDate (5 / 163)\n",
      "(21/40) column: headCTTime (5 / 163)\n",
      "(22/40) column: headCTResult1 (5 / 163)\n",
      "(23/40) column: headCTResult2 (3 / 165)\n",
      "(24/40) column: headCTResult3 (1 / 167)\n",
      "(25/40) column: headCTResult4 (0 / 168)\n",
      "(26/40) column: headCTResult5 (0 / 168)\n",
      "(27/40) column: headCTResult6 (0 / 168)\n",
      "(28/40) column: headCTResult7 (0 / 168)\n",
      "(29/40) column: headCTResult8 (0 / 168)\n",
      "(30/40) column: brainMRIDate (21 / 147)\n",
      "(31/40) column: brainMRITime (20 / 148)\n",
      "(32/40) column: brainMRIResult1 (21 / 147)\n",
      "(33/40) column: brainMRIResult2 (12 / 156)\n",
      "(34/40) column: brainMRIResult3 (9 / 159)\n",
      "(35/40) column: brainMRIResult4 (7 / 161)\n",
      "(36/40) column: brainMRIResult5 (5 / 163)\n",
      "(37/40) column: brainMRIResult6 (5 / 163)\n",
      "(38/40) column: brainMRIResult7 (2 / 166)\n",
      "(39/40) column: brainMRIResult8 (1 / 167)\n"
     ]
    }
   ],
   "source": [
    "COMBINE_harmonizer.check_empty(df_imaging)"
   ]
  },
  {
   "cell_type": "code",
   "execution_count": 112,
   "id": "450175a2",
   "metadata": {
    "execution": {
     "iopub.execute_input": "2025-05-10T00:13:43.285983Z",
     "iopub.status.busy": "2025-05-10T00:13:43.285800Z",
     "iopub.status.idle": "2025-05-10T00:13:43.290156Z",
     "shell.execute_reply": "2025-05-10T00:13:43.289679Z"
    }
   },
   "outputs": [
    {
     "name": "stdout",
     "output_type": "stream",
     "text": [
      "(0/40) center: (168/0)\n",
      "(1/40) subjectID: (168/0)\n",
      "(2/40) uniqueID: (168/0)\n",
      "(3/40) headSonogram: (168/0)\n",
      "(4/40) headSonogramResultText: (9/159)\n",
      "(5/40) headCT: (168/0)\n",
      "(6/40) headCTResultText: (1/167)\n",
      "(7/40) brainMRI: (168/0)\n",
      "(8/40) brainMRIResultText: (10/158)\n",
      "(9/40) imagingNumber: (168/0)\n",
      "(10/40) headSonogramDate: (79/89)\n",
      "(11/40) headSonogramTime: (79/89)\n",
      "(12/40) headSonogramResult1: (79/89)\n",
      "(13/40) headSonogramResult2: (11/157)\n",
      "(14/40) headSonogramResult3: (3/165)\n",
      "(15/40) headSonogramResult4: (1/167)\n",
      "(16/40) headSonogramResult5: (0/168)\n",
      "(17/40) headSonogramResult6: (0/168)\n",
      "(18/40) headSonogramResult7: (0/168)\n",
      "(19/40) headSonogramResult8: (0/168)\n",
      "(20/40) headCTDate: (5/163)\n",
      "(21/40) headCTTime: (5/163)\n",
      "(22/40) headCTResult1: (5/163)\n",
      "(23/40) headCTResult2: (3/165)\n",
      "(24/40) headCTResult3: (1/167)\n",
      "(25/40) headCTResult4: (0/168)\n",
      "(26/40) headCTResult5: (0/168)\n",
      "(27/40) headCTResult6: (0/168)\n",
      "(28/40) headCTResult7: (0/168)\n",
      "(29/40) headCTResult8: (0/168)\n",
      "(30/40) brainMRIDate: (21/147)\n",
      "(31/40) brainMRITime: (20/148)\n",
      "(32/40) brainMRIResult1: (21/147)\n",
      "(33/40) brainMRIResult2: (12/156)\n",
      "(34/40) brainMRIResult3: (9/159)\n",
      "(35/40) brainMRIResult4: (7/161)\n",
      "(36/40) brainMRIResult5: (5/163)\n",
      "(37/40) brainMRIResult6: (5/163)\n",
      "(38/40) brainMRIResult7: (2/166)\n",
      "(39/40) brainMRIResult8: (1/167)\n"
     ]
    }
   ],
   "source": [
    "COMBINE_harmonizer.column_info(df_imaging)"
   ]
  },
  {
   "cell_type": "markdown",
   "id": "1e751b6c",
   "metadata": {},
   "source": [
    "## 03-01. Post-intervention Temperature"
   ]
  },
  {
   "cell_type": "code",
   "execution_count": 113,
   "id": "4441988e",
   "metadata": {
    "execution": {
     "iopub.execute_input": "2025-05-10T00:13:43.291981Z",
     "iopub.status.busy": "2025-05-10T00:13:43.291820Z",
     "iopub.status.idle": "2025-05-10T00:13:43.295073Z",
     "shell.execute_reply": "2025-05-10T00:13:43.294767Z"
    }
   },
   "outputs": [
    {
     "data": {
      "text/plain": [
       "['post_TemperatureTimeSlot_day',\n",
       " 'post_TemperatureDate',\n",
       " 'post_TemperatureTime',\n",
       " 'post_SkinTemperature_C',\n",
       " 'post_AxillaryTemperature_C',\n",
       " 'post_AlterationSkinIntegrity',\n",
       " 'post_Shiver',\n",
       " 'normothermiaAtEndIntervention',\n",
       " 'normothermiaDate',\n",
       " 'normothermiaTime',\n",
       " 'normothermiaAxillaryTemperature_C',\n",
       " 'noNormothermiaReason',\n",
       " 'coolAfterIntervention',\n",
       " 'coolAfterInterventionText']"
      ]
     },
     "execution_count": 113,
     "metadata": {},
     "output_type": "execute_result"
    }
   ],
   "source": [
    "temperature_post_columns = COMBINE_harmonizer.get_columns(df_data_dict, 'Post-intervention', 'Temperature')\n",
    "all_temperature_post_columns = id_columns + temperature_post_columns\n",
    "temperature_post_columns"
   ]
  },
  {
   "cell_type": "code",
   "execution_count": 114,
   "id": "e4c98567",
   "metadata": {
    "execution": {
     "iopub.execute_input": "2025-05-10T00:13:43.296582Z",
     "iopub.status.busy": "2025-05-10T00:13:43.296486Z",
     "iopub.status.idle": "2025-05-10T00:13:43.361087Z",
     "shell.execute_reply": "2025-05-10T00:13:43.360712Z"
    }
   },
   "outputs": [
    {
     "name": "stdout",
     "output_type": "stream",
     "text": [
      "(1/10) REC_CMP not in columns\n",
      "(8/10) CMP_DATE not in columns\n",
      "(9/10) CRT_DATE not in columns\n",
      "(7/16) post_AlterationSkinIntegrity not in df\n",
      "(8/16) post_Shiver not in df\n",
      "(9/16) normothermiaAtEndIntervention not in df\n",
      "(10/16) normothermiaDate not in df\n",
      "(11/16) normothermiaTime not in df\n",
      "(12/16) normothermiaAxillaryTemperature_C not in df\n",
      "(13/16) noNormothermiaReason not in df\n",
      "(14/16) coolAfterIntervention not in df\n",
      "(15/16) coolAfterInterventionText not in df\n"
     ]
    }
   ],
   "source": [
    "df_temperature_post = df_dict['lh06ht.csv'].copy()\n",
    "df_temperature_post = COMBINE_harmonizer.valid_columns(df_temperature_post, all_temperature_post_columns, debug_df=True, debug_columns=True)\n",
    "df_temperature_post = COMBINE_harmonizer.postprocess(df_temperature_post)\n",
    "\n",
    "out_filename = os.sep.join([out_dir, '03-01-post-temperature.csv'])\n",
    "df_temperature_post.to_csv(out_filename, index=False)"
   ]
  },
  {
   "cell_type": "markdown",
   "id": "b5954711",
   "metadata": {},
   "source": [
    "### 03-01-1. check post-temperature"
   ]
  },
  {
   "cell_type": "code",
   "execution_count": 115,
   "id": "a7569215",
   "metadata": {
    "execution": {
     "iopub.execute_input": "2025-05-10T00:13:43.363117Z",
     "iopub.status.busy": "2025-05-10T00:13:43.362965Z",
     "iopub.status.idle": "2025-05-10T00:13:43.369975Z",
     "shell.execute_reply": "2025-05-10T00:13:43.369663Z"
    }
   },
   "outputs": [
    {
     "data": {
      "text/html": [
       "<div>\n",
       "<style scoped>\n",
       "    .dataframe tbody tr th:only-of-type {\n",
       "        vertical-align: middle;\n",
       "    }\n",
       "\n",
       "    .dataframe tbody tr th {\n",
       "        vertical-align: top;\n",
       "    }\n",
       "\n",
       "    .dataframe thead th {\n",
       "        text-align: right;\n",
       "    }\n",
       "</style>\n",
       "<table border=\"1\" class=\"dataframe\">\n",
       "  <thead>\n",
       "    <tr style=\"text-align: right;\">\n",
       "      <th></th>\n",
       "      <th></th>\n",
       "      <th>_count</th>\n",
       "    </tr>\n",
       "    <tr>\n",
       "      <th>uniqueID</th>\n",
       "      <th>post_TemperatureTimeSlot_day</th>\n",
       "      <th></th>\n",
       "    </tr>\n",
       "  </thead>\n",
       "  <tbody>\n",
       "  </tbody>\n",
       "</table>\n",
       "</div>"
      ],
      "text/plain": [
       "Empty DataFrame\n",
       "Columns: [_count]\n",
       "Index: []"
      ]
     },
     "execution_count": 115,
     "metadata": {},
     "output_type": "execute_result"
    }
   ],
   "source": [
    "df_temperature_post_groupby = df_temperature_post.groupby(['uniqueID', 'post_TemperatureTimeSlot_day']).agg(_count=('uniqueID', 'count'))\n",
    "\n",
    "is_invalid = df_temperature_post_groupby['_count'] > 1\n",
    "df_temperature_post_groupby[is_invalid]"
   ]
  },
  {
   "cell_type": "markdown",
   "id": "3469adf8",
   "metadata": {},
   "source": [
    "### 03-01-2. check empty cells"
   ]
  },
  {
   "cell_type": "code",
   "execution_count": 116,
   "id": "105a4aed",
   "metadata": {
    "execution": {
     "iopub.execute_input": "2025-05-10T00:13:43.371701Z",
     "iopub.status.busy": "2025-05-10T00:13:43.371553Z",
     "iopub.status.idle": "2025-05-10T00:13:43.374928Z",
     "shell.execute_reply": "2025-05-10T00:13:43.374572Z"
    }
   },
   "outputs": [
    {
     "name": "stdout",
     "output_type": "stream",
     "text": [
      "(0/8) column: center (450 / 0)\n",
      "(1/8) column: subjectID (450 / 0)\n",
      "(2/8) column: uniqueID (450 / 0)\n",
      "(3/8) column: post_TemperatureTimeSlot_day (450 / 0)\n",
      "(4/8) column: post_TemperatureDate (437 / 13)\n",
      "(5/8) column: post_TemperatureTime (432 / 18)\n",
      "(6/8) column: post_SkinTemperature_C (229 / 221)\n",
      "(7/8) column: post_AxillaryTemperature_C (417 / 33)\n"
     ]
    }
   ],
   "source": [
    "COMBINE_harmonizer.check_empty(df_temperature_post)"
   ]
  },
  {
   "cell_type": "code",
   "execution_count": 117,
   "id": "5630dd61",
   "metadata": {
    "execution": {
     "iopub.execute_input": "2025-05-10T00:13:43.376374Z",
     "iopub.status.busy": "2025-05-10T00:13:43.376269Z",
     "iopub.status.idle": "2025-05-10T00:13:43.378963Z",
     "shell.execute_reply": "2025-05-10T00:13:43.378664Z"
    }
   },
   "outputs": [
    {
     "name": "stdout",
     "output_type": "stream",
     "text": [
      "(0/8) center: (450/0)\n",
      "(1/8) subjectID: (450/0)\n",
      "(2/8) uniqueID: (450/0)\n",
      "(3/8) post_TemperatureTimeSlot_day: (450/0)\n",
      "(4/8) post_TemperatureDate: (437/13)\n",
      "(5/8) post_TemperatureTime: (432/18)\n",
      "(6/8) post_SkinTemperature_C: (229/221)\n",
      "(7/8) post_AxillaryTemperature_C: (417/33)\n"
     ]
    }
   ],
   "source": [
    "COMBINE_harmonizer.column_info(df_temperature_post)"
   ]
  },
  {
   "cell_type": "markdown",
   "id": "5bd48802",
   "metadata": {},
   "source": [
    "## 03-02. Post-intervention Blood Value"
   ]
  },
  {
   "cell_type": "code",
   "execution_count": null,
   "id": "74c6ed09",
   "metadata": {},
   "outputs": [],
   "source": []
  },
  {
   "cell_type": "markdown",
   "id": "47fc2a14-ac50-431a-8ea6-4284dcd05b61",
   "metadata": {},
   "source": [
    "## 03-03. Post-intervention Imaging"
   ]
  },
  {
   "cell_type": "code",
   "execution_count": 118,
   "id": "83c87148-f938-4764-98e4-bd309eee2fda",
   "metadata": {
    "execution": {
     "iopub.execute_input": "2025-05-10T00:13:43.380922Z",
     "iopub.status.busy": "2025-05-10T00:13:43.380785Z",
     "iopub.status.idle": "2025-05-10T00:13:43.384250Z",
     "shell.execute_reply": "2025-05-10T00:13:43.383843Z"
    }
   },
   "outputs": [
    {
     "data": {
      "text/plain": [
       "['post_HeadSonogram',\n",
       " 'post_HeadSonogramDate',\n",
       " 'post_HeadSonogramTime',\n",
       " 'post_HeadSonogramResult1',\n",
       " 'post_HeadSonogramResult2',\n",
       " 'post_HeadSonogramResult3',\n",
       " 'post_HeadSonogramResult4',\n",
       " 'post_HeadSonogramResult5',\n",
       " 'post_HeadSonogramResult6',\n",
       " 'post_HeadSonogramResult7',\n",
       " 'post_HeadSonogramResult8',\n",
       " 'post_HeadSonogramResultText',\n",
       " 'post_HeadCT',\n",
       " 'post_HeadCTDate',\n",
       " 'post_HeadCTTime',\n",
       " 'post_HeadCTResult1',\n",
       " 'post_HeadCTResult2',\n",
       " 'post_HeadCTResult3',\n",
       " 'post_HeadCTResult4',\n",
       " 'post_HeadCTResult5',\n",
       " 'post_HeadCTResult6',\n",
       " 'post_HeadCTResult7',\n",
       " 'post_HeadCTResult8',\n",
       " 'post_HeadCTResultText',\n",
       " 'post_BrainMRI',\n",
       " 'post_BrainMRIDate',\n",
       " 'post_BrainMRITime',\n",
       " 'post_BrainMRIResult1',\n",
       " 'post_BrainMRIResult2',\n",
       " 'post_BrainMRIResult3',\n",
       " 'post_BrainMRIResult4',\n",
       " 'post_BrainMRIResult5',\n",
       " 'post_BrainMRIResult6',\n",
       " 'post_BrainMRIResult7',\n",
       " 'post_BrainMRIResult8',\n",
       " 'post_BrainMRIResultText']"
      ]
     },
     "execution_count": 118,
     "metadata": {},
     "output_type": "execute_result"
    }
   ],
   "source": [
    "imaging_post_columns = COMBINE_harmonizer.get_columns(df_data_dict, 'Post-intervention', 'Imaging')\n",
    "all_imaging_post_columns = id_columns + imaging_post_columns\n",
    "imaging_post_columns"
   ]
  },
  {
   "cell_type": "code",
   "execution_count": 119,
   "id": "fe100618",
   "metadata": {
    "execution": {
     "iopub.execute_input": "2025-05-10T00:13:43.386078Z",
     "iopub.status.busy": "2025-05-10T00:13:43.385970Z",
     "iopub.status.idle": "2025-05-10T00:13:43.454090Z",
     "shell.execute_reply": "2025-05-10T00:13:43.453642Z"
    }
   },
   "outputs": [
    {
     "name": "stdout",
     "output_type": "stream",
     "text": [
      "(7/42) REC_CMP not in columns\n",
      "(9/42) imagingNumber not in columns\n",
      "(40/42) CMP_DATE not in columns\n",
      "(41/42) CRT_DATE not in columns\n"
     ]
    }
   ],
   "source": [
    "df_imaging = df_dict['lh09.csv'].copy()\n",
    "\n",
    "imagingTimeSlot_int = df_imaging['imagingNumber'].apply(COMBINE_harmonizer.to_int)\n",
    "is_post = imagingTimeSlot_int == 3\n",
    "df_imaging_post = df_imaging[is_post]\n",
    "post_rename_map = {\n",
    "    'headSonogram': 'post_HeadSonogram',\n",
    "    'headSonogramDate': 'post_HeadSonogramDate',\n",
    "    'headSonogramTime': 'post_HeadSonogramTime',\n",
    "    'headSonogramResult1': 'post_HeadSonogramResult1',\n",
    "    'headSonogramResult2': 'post_HeadSonogramResult2',\n",
    "    'headSonogramResult3': 'post_HeadSonogramResult3',\n",
    "    'headSonogramResult4': 'post_HeadSonogramResult4',\n",
    "    'headSonogramResult5': 'post_HeadSonogramResult5',\n",
    "    'headSonogramResult6': 'post_HeadSonogramResult6',\n",
    "    'headSonogramResult7': 'post_HeadSonogramResult7',\n",
    "    'headSonogramResult8': 'post_HeadSonogramResult8',\n",
    "    'headSonogramResultText': 'post_HeadSonogramResultText',\n",
    "    'headCT': 'post_HeadCT',\n",
    "    'headCTDate': 'post_HeadCTDate',\n",
    "    'headCTTime': 'post_HeadCTTime',\n",
    "    'headCTResult1': 'post_HeadCTResult1',\n",
    "    'headCTResult2': 'post_HeadCTResult2',\n",
    "    'headCTResult3': 'post_HeadCTResult3',\n",
    "    'headCTResult4': 'post_HeadCTResult4',\n",
    "    'headCTResult5': 'post_HeadCTResult5',\n",
    "    'headCTResult6': 'post_HeadCTResult6',\n",
    "    'headCTResult7': 'post_HeadCTResult7',\n",
    "    'headCTResult8': 'post_HeadCTResult8',\n",
    "    'headCTResultText': 'post_HeadCTResultText',\n",
    "    'brainMRI': 'post_BrainMRI',\n",
    "    'brainMRIDate': 'post_BrainMRIDate',\n",
    "    'brainMRITime': 'post_BrainMRITime',\n",
    "    'brainMRIResult1': 'post_BrainMRIResult1',\n",
    "    'brainMRIResult2': 'post_BrainMRIResult2',\n",
    "    'brainMRIResult3': 'post_BrainMRIResult3',\n",
    "    'brainMRIResult4': 'post_BrainMRIResult4',\n",
    "    'brainMRIResult5': 'post_BrainMRIResult5',\n",
    "    'brainMRIResult6': 'post_BrainMRIResult6',\n",
    "    'brainMRIResult7': 'post_BrainMRIResult7',\n",
    "    'brainMRIResult8': 'post_BrainMRIResult8',\n",
    "    'brainMRIResultText': 'post_BrainMRIResultText'\n",
    "}\n",
    "df_imaging_post = df_imaging_post.rename(columns=post_rename_map)\n",
    "\n",
    "df_imaging_post = COMBINE_harmonizer.valid_columns(df_imaging_post, all_imaging_post_columns, debug_df=True, debug_columns=True)\n",
    "df_imaging_post = COMBINE_harmonizer.postprocess(df_imaging_post)\n",
    "\n",
    "out_filename = os.sep.join([out_dir, '03-03-post-imaging.csv'])\n",
    "df_imaging_post.to_csv(out_filename, index=False)"
   ]
  },
  {
   "cell_type": "markdown",
   "id": "fbbf3777-1e43-4785-a88e-893bcbecef32",
   "metadata": {},
   "source": [
    "### 03-03-2. check empty cells"
   ]
  },
  {
   "cell_type": "code",
   "execution_count": 120,
   "id": "37ba6925-37c6-46ba-a671-52d626061f67",
   "metadata": {
    "execution": {
     "iopub.execute_input": "2025-05-10T00:13:43.456384Z",
     "iopub.status.busy": "2025-05-10T00:13:43.456108Z",
     "iopub.status.idle": "2025-05-10T00:13:43.462161Z",
     "shell.execute_reply": "2025-05-10T00:13:43.461809Z"
    }
   },
   "outputs": [
    {
     "name": "stdout",
     "output_type": "stream",
     "text": [
      "(0/39) column: center (168 / 0)\n",
      "(1/39) column: subjectID (168 / 0)\n",
      "(2/39) column: uniqueID (168 / 0)\n",
      "(3/39) column: post_HeadSonogram (168 / 0)\n",
      "(4/39) column: post_HeadSonogramResultText (1 / 167)\n",
      "(5/39) column: post_HeadCT (168 / 0)\n",
      "(6/39) column: post_HeadCTResultText (0 / 168)\n",
      "(7/39) column: post_BrainMRI (168 / 0)\n",
      "(8/39) column: post_BrainMRIResultText (37 / 131)\n",
      "(9/39) column: post_HeadSonogramDate (14 / 154)\n",
      "(10/39) column: post_HeadSonogramTime (14 / 154)\n",
      "(11/39) column: post_HeadSonogramResult1 (14 / 154)\n",
      "(12/39) column: post_HeadSonogramResult2 (3 / 165)\n",
      "(13/39) column: post_HeadSonogramResult3 (1 / 167)\n",
      "(14/39) column: post_HeadSonogramResult4 (0 / 168)\n",
      "(15/39) column: post_HeadSonogramResult5 (0 / 168)\n",
      "(16/39) column: post_HeadSonogramResult6 (0 / 168)\n",
      "(17/39) column: post_HeadSonogramResult7 (0 / 168)\n",
      "(18/39) column: post_HeadSonogramResult8 (0 / 168)\n",
      "(19/39) column: post_HeadCTDate (2 / 166)\n",
      "(20/39) column: post_HeadCTTime (2 / 166)\n",
      "(21/39) column: post_HeadCTResult1 (2 / 166)\n",
      "(22/39) column: post_HeadCTResult2 (0 / 168)\n",
      "(23/39) column: post_HeadCTResult3 (0 / 168)\n",
      "(24/39) column: post_HeadCTResult4 (0 / 168)\n",
      "(25/39) column: post_HeadCTResult5 (0 / 168)\n",
      "(26/39) column: post_HeadCTResult6 (0 / 168)\n",
      "(27/39) column: post_HeadCTResult7 (0 / 168)\n",
      "(28/39) column: post_HeadCTResult8 (0 / 168)\n",
      "(29/39) column: post_BrainMRIDate (131 / 37)\n",
      "(30/39) column: post_BrainMRITime (129 / 39)\n",
      "(31/39) column: post_BrainMRIResult1 (130 / 38)\n",
      "(32/39) column: post_BrainMRIResult2 (63 / 105)\n",
      "(33/39) column: post_BrainMRIResult3 (32 / 136)\n",
      "(34/39) column: post_BrainMRIResult4 (14 / 154)\n",
      "(35/39) column: post_BrainMRIResult5 (6 / 162)\n",
      "(36/39) column: post_BrainMRIResult6 (2 / 166)\n",
      "(37/39) column: post_BrainMRIResult7 (0 / 168)\n",
      "(38/39) column: post_BrainMRIResult8 (0 / 168)\n"
     ]
    }
   ],
   "source": [
    "COMBINE_harmonizer.check_empty(df_imaging_post)"
   ]
  },
  {
   "cell_type": "code",
   "execution_count": 121,
   "id": "6164f4fd-80f5-4530-a40d-4d62423dbfbf",
   "metadata": {
    "execution": {
     "iopub.execute_input": "2025-05-10T00:13:43.463977Z",
     "iopub.status.busy": "2025-05-10T00:13:43.463814Z",
     "iopub.status.idle": "2025-05-10T00:13:43.468214Z",
     "shell.execute_reply": "2025-05-10T00:13:43.467762Z"
    }
   },
   "outputs": [
    {
     "name": "stdout",
     "output_type": "stream",
     "text": [
      "(0/39) center: (168/0)\n",
      "(1/39) subjectID: (168/0)\n",
      "(2/39) uniqueID: (168/0)\n",
      "(3/39) post_HeadSonogram: (168/0)\n",
      "(4/39) post_HeadSonogramResultText: (1/167)\n",
      "(5/39) post_HeadCT: (168/0)\n",
      "(6/39) post_HeadCTResultText: (0/168)\n",
      "(7/39) post_BrainMRI: (168/0)\n",
      "(8/39) post_BrainMRIResultText: (37/131)\n",
      "(9/39) post_HeadSonogramDate: (14/154)\n",
      "(10/39) post_HeadSonogramTime: (14/154)\n",
      "(11/39) post_HeadSonogramResult1: (14/154)\n",
      "(12/39) post_HeadSonogramResult2: (3/165)\n",
      "(13/39) post_HeadSonogramResult3: (1/167)\n",
      "(14/39) post_HeadSonogramResult4: (0/168)\n",
      "(15/39) post_HeadSonogramResult5: (0/168)\n",
      "(16/39) post_HeadSonogramResult6: (0/168)\n",
      "(17/39) post_HeadSonogramResult7: (0/168)\n",
      "(18/39) post_HeadSonogramResult8: (0/168)\n",
      "(19/39) post_HeadCTDate: (2/166)\n",
      "(20/39) post_HeadCTTime: (2/166)\n",
      "(21/39) post_HeadCTResult1: (2/166)\n",
      "(22/39) post_HeadCTResult2: (0/168)\n",
      "(23/39) post_HeadCTResult3: (0/168)\n",
      "(24/39) post_HeadCTResult4: (0/168)\n",
      "(25/39) post_HeadCTResult5: (0/168)\n",
      "(26/39) post_HeadCTResult6: (0/168)\n",
      "(27/39) post_HeadCTResult7: (0/168)\n",
      "(28/39) post_HeadCTResult8: (0/168)\n",
      "(29/39) post_BrainMRIDate: (131/37)\n",
      "(30/39) post_BrainMRITime: (129/39)\n",
      "(31/39) post_BrainMRIResult1: (130/38)\n",
      "(32/39) post_BrainMRIResult2: (63/105)\n",
      "(33/39) post_BrainMRIResult3: (32/136)\n",
      "(34/39) post_BrainMRIResult4: (14/154)\n",
      "(35/39) post_BrainMRIResult5: (6/162)\n",
      "(36/39) post_BrainMRIResult6: (2/166)\n",
      "(37/39) post_BrainMRIResult7: (0/168)\n",
      "(38/39) post_BrainMRIResult8: (0/168)\n"
     ]
    }
   ],
   "source": [
    "COMBINE_harmonizer.column_info(df_imaging_post)"
   ]
  },
  {
   "cell_type": "code",
   "execution_count": null,
   "id": "a9b7990f-b026-416e-b269-df3e05090ec1",
   "metadata": {},
   "outputs": [],
   "source": []
  },
  {
   "cell_type": "markdown",
   "id": "c9e26378",
   "metadata": {},
   "source": [
    "## 03-04. Post-intervention Neuro Exam"
   ]
  },
  {
   "cell_type": "code",
   "execution_count": 122,
   "id": "f83e67b2",
   "metadata": {
    "execution": {
     "iopub.execute_input": "2025-05-10T00:13:43.470122Z",
     "iopub.status.busy": "2025-05-10T00:13:43.469973Z",
     "iopub.status.idle": "2025-05-10T00:13:43.473599Z",
     "shell.execute_reply": "2025-05-10T00:13:43.473291Z"
    }
   },
   "outputs": [
    {
     "data": {
      "text/plain": [
       "['post_NeuroExamSectionID',\n",
       " 'post_NeuroExam',\n",
       " 'post_NeuroExamDate',\n",
       " 'post_NeuroExamTime',\n",
       " 'post_NeuroExamLevelConsciousness',\n",
       " 'post_NeuroExamSpontaneousActivity',\n",
       " 'post_NeuroExamPosture',\n",
       " 'post_NeuroExamTone',\n",
       " 'post_NeuroExamSuck',\n",
       " 'post_NeuroExamMoro',\n",
       " 'post_NeuroExamPupils',\n",
       " 'post_NeuroExamHeartRate',\n",
       " 'post_NeuroExamRespiration',\n",
       " 'post_NeuroExamSeizure',\n",
       " 'post_NeuroExamSedate',\n",
       " 'post_NeuroExamClonusSustained',\n",
       " 'post_NeuroExamFistedHand',\n",
       " 'post_NeuroExamAbnormalMovement',\n",
       " 'post_NeuroExamGagReflexAbsent',\n",
       " 'post_NeuroExamHypertonia',\n",
       " 'post_NeuroExamAsymTonicNeckReflex',\n",
       " 'post_NeuroExamLevelConsciousnessScore',\n",
       " 'post_NeuroExamSpontaneousActivityScore',\n",
       " 'post_NeuroExamPostureScore',\n",
       " 'post_NeuroExamToneScore',\n",
       " 'post_NeuroExamSuckScore',\n",
       " 'post_NeuroExamMoroScore',\n",
       " 'post_NeuroExamPupilsScore',\n",
       " 'post_NeuroExamHeartRateScore',\n",
       " 'post_NeuroExamRespirationScore',\n",
       " 'post_NeuroExamReflexScore',\n",
       " 'post_NeuroExamANSScore',\n",
       " 'post_TotalModifiedSarnatScore']"
      ]
     },
     "execution_count": 122,
     "metadata": {},
     "output_type": "execute_result"
    }
   ],
   "source": [
    "neuro_exam_columns = COMBINE_harmonizer.get_columns(df_data_dict, 'Post-intervention', 'Neuro Exam')\n",
    "all_neuro_exam_columns = id_columns + neuro_exam_columns\n",
    "neuro_exam_columns"
   ]
  },
  {
   "cell_type": "code",
   "execution_count": 123,
   "id": "aad8f42e",
   "metadata": {
    "execution": {
     "iopub.execute_input": "2025-05-10T00:13:43.474889Z",
     "iopub.status.busy": "2025-05-10T00:13:43.474799Z",
     "iopub.status.idle": "2025-05-10T00:13:43.531134Z",
     "shell.execute_reply": "2025-05-10T00:13:43.530683Z"
    }
   },
   "outputs": [
    {
     "name": "stdout",
     "output_type": "stream",
     "text": [
      "(8/42) LH11NA_1 not in columns\n",
      "(9/42) dischargeNeuroExamSeizure not in columns\n",
      "(10/42) dischargeNeuroExamHypertonia not in columns\n",
      "(11/42) dischargeNeuroExamClonusSustained not in columns\n",
      "(12/42) dischargeNeuroExamFistedHand not in columns\n",
      "(13/42) dischargeNeuroExamAbnormalMovement not in columns\n",
      "(14/42) dischargeNeuroExamGagReflexAbsent not in columns\n",
      "(15/42) LH11NA_2 not in columns\n",
      "(16/42) REC_CMP not in columns\n",
      "(29/42) dischargeNeuroExamDate not in columns\n",
      "(30/42) dischargeNeuroExamTime not in columns\n",
      "(31/42) dischargeNeuroExamLevelConsciousness not in columns\n",
      "(32/42) dischargeNeuroExamSpontaneousActivity not in columns\n",
      "(33/42) dischargeNeuroExamPosture not in columns\n",
      "(34/42) dischargeNeuroExamTone not in columns\n",
      "(35/42) dischargeNeuroExamSuck not in columns\n",
      "(36/42) dischargeNeuroExamMoro not in columns\n",
      "(37/42) dischargeNeuroExamPupils not in columns\n",
      "(38/42) dischargeNeuroExamHeartRate not in columns\n",
      "(39/42) dischargeNeuroExamRespiration not in columns\n",
      "(40/42) CMP_DATE not in columns\n",
      "(41/42) CRT_DATE not in columns\n",
      "(2/35) post_NeuroExamSectionID not in df\n",
      "(3/35) post_NeuroExam not in df\n",
      "(22/35) post_NeuroExamAsymTonicNeckReflex not in df\n",
      "(23/35) post_NeuroExamLevelConsciousnessScore not in df\n",
      "(24/35) post_NeuroExamSpontaneousActivityScore not in df\n",
      "(25/35) post_NeuroExamPostureScore not in df\n",
      "(26/35) post_NeuroExamToneScore not in df\n",
      "(27/35) post_NeuroExamSuckScore not in df\n",
      "(28/35) post_NeuroExamMoroScore not in df\n",
      "(29/35) post_NeuroExamPupilsScore not in df\n",
      "(30/35) post_NeuroExamHeartRateScore not in df\n",
      "(31/35) post_NeuroExamRespirationScore not in df\n",
      "(32/35) post_NeuroExamReflexScore not in df\n",
      "(33/35) post_NeuroExamANSScore not in df\n",
      "(34/35) post_TotalModifiedSarnatScore not in df\n"
     ]
    }
   ],
   "source": [
    "df_neuro_exam = df_dict['lh11.csv'].copy()\n",
    "df_neuro_exam = COMBINE_harmonizer.valid_columns(df_neuro_exam, all_neuro_exam_columns, debug_df=True, debug_columns=True)\n",
    "df_neuro_exam = COMBINE_harmonizer.postprocess(df_neuro_exam)\n",
    "\n",
    "out_filename = os.sep.join([out_dir, '03-04-post-neuro-exam.csv'])\n",
    "df_neuro_exam.to_csv(out_filename, index=False)"
   ]
  },
  {
   "cell_type": "markdown",
   "id": "79e43909",
   "metadata": {},
   "source": [
    "### 03-04-1 check neuro exam"
   ]
  },
  {
   "cell_type": "code",
   "execution_count": 124,
   "id": "0a12aa71",
   "metadata": {
    "execution": {
     "iopub.execute_input": "2025-05-10T00:13:43.533408Z",
     "iopub.status.busy": "2025-05-10T00:13:43.533086Z",
     "iopub.status.idle": "2025-05-10T00:13:43.539611Z",
     "shell.execute_reply": "2025-05-10T00:13:43.539050Z"
    }
   },
   "outputs": [
    {
     "data": {
      "text/html": [
       "<div>\n",
       "<style scoped>\n",
       "    .dataframe tbody tr th:only-of-type {\n",
       "        vertical-align: middle;\n",
       "    }\n",
       "\n",
       "    .dataframe tbody tr th {\n",
       "        vertical-align: top;\n",
       "    }\n",
       "\n",
       "    .dataframe thead th {\n",
       "        text-align: right;\n",
       "    }\n",
       "</style>\n",
       "<table border=\"1\" class=\"dataframe\">\n",
       "  <thead>\n",
       "    <tr style=\"text-align: right;\">\n",
       "      <th></th>\n",
       "      <th>_count</th>\n",
       "    </tr>\n",
       "    <tr>\n",
       "      <th>uniqueID</th>\n",
       "      <th></th>\n",
       "    </tr>\n",
       "  </thead>\n",
       "  <tbody>\n",
       "  </tbody>\n",
       "</table>\n",
       "</div>"
      ],
      "text/plain": [
       "Empty DataFrame\n",
       "Columns: [_count]\n",
       "Index: []"
      ]
     },
     "execution_count": 124,
     "metadata": {},
     "output_type": "execute_result"
    }
   ],
   "source": [
    "df_neuro_exam_groupby = df_neuro_exam.groupby(['uniqueID']).agg(_count=('uniqueID', 'count'))\n",
    "\n",
    "is_invalid = df_neuro_exam_groupby['_count'] > 1\n",
    "df_neuro_exam_groupby[is_invalid]"
   ]
  },
  {
   "cell_type": "markdown",
   "id": "3c95c875",
   "metadata": {},
   "source": [
    "### 03-04-2. check empty cells"
   ]
  },
  {
   "cell_type": "code",
   "execution_count": 125,
   "id": "02849116",
   "metadata": {
    "execution": {
     "iopub.execute_input": "2025-05-10T00:13:43.541703Z",
     "iopub.status.busy": "2025-05-10T00:13:43.541540Z",
     "iopub.status.idle": "2025-05-10T00:13:43.546140Z",
     "shell.execute_reply": "2025-05-10T00:13:43.545759Z"
    }
   },
   "outputs": [
    {
     "name": "stdout",
     "output_type": "stream",
     "text": [
      "(0/21) column: center (163 / 0)\n",
      "(1/21) column: subjectID (163 / 0)\n",
      "(2/21) column: uniqueID (163 / 0)\n",
      "(3/21) column: post_NeuroExamSeizure (163 / 0)\n",
      "(4/21) column: post_NeuroExamSedate (163 / 0)\n",
      "(5/21) column: post_NeuroExamHypertonia (163 / 0)\n",
      "(6/21) column: post_NeuroExamClonusSustained (163 / 0)\n",
      "(7/21) column: post_NeuroExamFistedHand (163 / 0)\n",
      "(8/21) column: post_NeuroExamAbnormalMovement (163 / 0)\n",
      "(9/21) column: post_NeuroExamGagReflexAbsent (163 / 0)\n",
      "(10/21) column: post_NeuroExamDate (152 / 11)\n",
      "(11/21) column: post_NeuroExamTime (150 / 13)\n",
      "(12/21) column: post_NeuroExamLevelConsciousness (152 / 11)\n",
      "(13/21) column: post_NeuroExamSpontaneousActivity (152 / 11)\n",
      "(14/21) column: post_NeuroExamPosture (152 / 11)\n",
      "(15/21) column: post_NeuroExamTone (124 / 39)\n",
      "(16/21) column: post_NeuroExamSuck (149 / 14)\n",
      "(17/21) column: post_NeuroExamMoro (147 / 16)\n",
      "(18/21) column: post_NeuroExamPupils (151 / 12)\n",
      "(19/21) column: post_NeuroExamHeartRate (152 / 11)\n",
      "(20/21) column: post_NeuroExamRespiration (152 / 11)\n"
     ]
    }
   ],
   "source": [
    "COMBINE_harmonizer.check_empty(df_neuro_exam)"
   ]
  },
  {
   "cell_type": "code",
   "execution_count": 126,
   "id": "10a2f8c1",
   "metadata": {
    "execution": {
     "iopub.execute_input": "2025-05-10T00:13:43.547745Z",
     "iopub.status.busy": "2025-05-10T00:13:43.547622Z",
     "iopub.status.idle": "2025-05-10T00:13:43.551117Z",
     "shell.execute_reply": "2025-05-10T00:13:43.550717Z"
    }
   },
   "outputs": [
    {
     "name": "stdout",
     "output_type": "stream",
     "text": [
      "(0/21) center: (163/0)\n",
      "(1/21) subjectID: (163/0)\n",
      "(2/21) uniqueID: (163/0)\n",
      "(3/21) post_NeuroExamSeizure: (163/0)\n",
      "(4/21) post_NeuroExamSedate: (163/0)\n",
      "(5/21) post_NeuroExamHypertonia: (163/0)\n",
      "(6/21) post_NeuroExamClonusSustained: (163/0)\n",
      "(7/21) post_NeuroExamFistedHand: (163/0)\n",
      "(8/21) post_NeuroExamAbnormalMovement: (163/0)\n",
      "(9/21) post_NeuroExamGagReflexAbsent: (163/0)\n",
      "(10/21) post_NeuroExamDate: (152/11)\n",
      "(11/21) post_NeuroExamTime: (150/13)\n",
      "(12/21) post_NeuroExamLevelConsciousness: (152/11)\n",
      "(13/21) post_NeuroExamSpontaneousActivity: (152/11)\n",
      "(14/21) post_NeuroExamPosture: (152/11)\n",
      "(15/21) post_NeuroExamTone: (124/39)\n",
      "(16/21) post_NeuroExamSuck: (149/14)\n",
      "(17/21) post_NeuroExamMoro: (147/16)\n",
      "(18/21) post_NeuroExamPupils: (151/12)\n",
      "(19/21) post_NeuroExamHeartRate: (152/11)\n",
      "(20/21) post_NeuroExamRespiration: (152/11)\n"
     ]
    }
   ],
   "source": [
    "COMBINE_harmonizer.column_info(df_neuro_exam)"
   ]
  },
  {
   "cell_type": "code",
   "execution_count": null,
   "id": "20c8a884",
   "metadata": {},
   "outputs": [],
   "source": []
  },
  {
   "cell_type": "markdown",
   "id": "39d3632a-8776-4eed-8ec4-76b868ef452c",
   "metadata": {},
   "source": [
    "## 03-05. MRI"
   ]
  },
  {
   "cell_type": "code",
   "execution_count": 127,
   "id": "5972de58",
   "metadata": {
    "execution": {
     "iopub.execute_input": "2025-05-10T00:13:43.553483Z",
     "iopub.status.busy": "2025-05-10T00:13:43.553351Z",
     "iopub.status.idle": "2025-05-10T00:13:43.561096Z",
     "shell.execute_reply": "2025-05-10T00:13:43.560756Z"
    }
   },
   "outputs": [],
   "source": [
    "df_mri = df_dict[_MRI_FILENAME].copy()\n",
    "# split subjectID and subjectID-postfix\n",
    "df_mri['subjectID_with_postfix'] = df_mri['subjectID'].copy()\n",
    "df_mri['_subjectID_with_postfix_list'] = df_mri['subjectID'].apply(lambda x: x.split('-'))\n",
    "df_mri['subjectID'] = df_mri['_subjectID_with_postfix_list'].apply(lambda x: x[0])\n",
    "df_mri['subjectID_postfix'] = df_mri['_subjectID_with_postfix_list'].apply(lambda x: '' if len(x) == 1 else x[1])\n",
    "del df_mri['_subjectID_with_postfix_list']\n",
    "\n",
    "## XXX hack for removing duplicated record\n",
    "center_int = df_mri['center'].apply(COMBINE_harmonizer.to_int)\n",
    "is_invalid_mri = (center_int == 26) & (df_mri['subjectID'] == 'LH076') & (df_mri['MRIReadDate'] == '2017-02-28')\n",
    "is_valid_mri = is_invalid_mri == False\n",
    "df_mri = df_mri[is_valid_mri]\n"
   ]
  },
  {
   "cell_type": "code",
   "execution_count": 128,
   "id": "bb2369db",
   "metadata": {
    "execution": {
     "iopub.execute_input": "2025-05-10T00:13:43.562644Z",
     "iopub.status.busy": "2025-05-10T00:13:43.562521Z",
     "iopub.status.idle": "2025-05-10T00:13:43.566112Z",
     "shell.execute_reply": "2025-05-10T00:13:43.565876Z"
    }
   },
   "outputs": [
    {
     "data": {
      "text/plain": [
       "['center',\n",
       " 'subjectID',\n",
       " 'MRIAvailable',\n",
       " 'MRIAvailable_c',\n",
       " 'MRIObtain',\n",
       " 'MRIObtainWindow',\n",
       " 'MRIObtainWindow_c',\n",
       " 'MRIDate',\n",
       " 'MRITime',\n",
       " 'MRIObtainComment',\n",
       " 'MRISendRTIDate',\n",
       " 'MRIReceiveRTIDate',\n",
       " 'MRINoObtainReason',\n",
       " 'MRINoObtainReason_c',\n",
       " 'MRINoObtainReasonText',\n",
       " 'MRIRead',\n",
       " 'MRIScore',\n",
       " 'MRIIteration',\n",
       " 'MRIIncrement',\n",
       " 'MRIID',\n",
       " 'MRIReader',\n",
       " 'MRIReadDate',\n",
       " 'MRIStrength_T',\n",
       " 'MRIStrength_c',\n",
       " 'MRIAdequateQuality',\n",
       " 'MRIAdequateQuality_c',\n",
       " 'MRIT1Axial',\n",
       " 'MRIT1Axial_c',\n",
       " 'MRIT1Coronal',\n",
       " 'MRIT1Coronal_c',\n",
       " 'MRIT1Sagittal',\n",
       " 'MRIT1Sagittal_c',\n",
       " 'MRIT1',\n",
       " 'MRIT2Axial',\n",
       " 'MRIT2Axial_c',\n",
       " 'MRIT2Coronal',\n",
       " 'MRIT2Coronal_c',\n",
       " 'MRIT2Sagittal',\n",
       " 'MRIT2Sagittal_c',\n",
       " 'MRIT2',\n",
       " 'MRIT2FLAIRAxial',\n",
       " 'MRIT2FLAIRAxial_c',\n",
       " 'MRIT2FLAIRCoronal',\n",
       " 'MRIT2FLAIRCoronal_c',\n",
       " 'MRIT2FLAIRSagittal',\n",
       " 'MRIT2FLAIRSagittal_c',\n",
       " 'MRIT2FLAIR',\n",
       " 'MRIGRESWIAxial',\n",
       " 'MRIGRESWIAxial_c',\n",
       " 'MRIGRESWICoronal',\n",
       " 'MRIGRESWICoronal_c',\n",
       " 'MRIGRESWISagittal',\n",
       " 'MRIGRESWISagittal_c',\n",
       " 'MRIGRESWI',\n",
       " 'MRISPGRAxial',\n",
       " 'MRISPGRAxial_c',\n",
       " 'MRISPGRCoronal',\n",
       " 'MRISPGRCoronal_c',\n",
       " 'MRISPGRSagittal',\n",
       " 'MRISPGRSagittal_c',\n",
       " 'MRISPGR',\n",
       " 'MRIDWI',\n",
       " 'MRIDWI_c',\n",
       " 'MRIADC',\n",
       " 'MRIADC_c',\n",
       " 'MRIMRS',\n",
       " 'MRIMRS_c',\n",
       " 'MRIOther',\n",
       " 'MRIOther_c',\n",
       " 'MRIOtherText',\n",
       " 'MRIOverallDiagnosis',\n",
       " 'MRIOverallDiagnosis_c',\n",
       " 'MRIOverallDiagnosisText',\n",
       " 'MRIAbnormal',\n",
       " 'MRIAbnormal_c',\n",
       " 'MRILesionNumber',\n",
       " 'MRILesionHemisphere',\n",
       " 'MRILesionHemisphere_c',\n",
       " 'MRIAbnormalRegion1',\n",
       " 'MRIAbnormalRegion1_c',\n",
       " 'MRIAbnormalRegion2',\n",
       " 'MRIAbnormalRegion2_c',\n",
       " 'MRIAbnormalRegion3',\n",
       " 'MRIAbnormalRegion3_c',\n",
       " 'MRIAbnormalSide',\n",
       " 'MRIAbnormalSide_c',\n",
       " 'MRIAbnormalGrayMatterWhiteMatter',\n",
       " 'MRIAbnormalGrayMatterWhiteMatter_c',\n",
       " 'MRIAbnormalExtent1',\n",
       " 'MRIAbnormalExtent1_c',\n",
       " 'MRIAbnormalExtent2',\n",
       " 'MRIAbnormalExtent2_c',\n",
       " 'MRIAbnormalType',\n",
       " 'MRIAbnormalType_c',\n",
       " 'MRIAbnormalType2',\n",
       " 'MRIAbnormalType2_c',\n",
       " 'MRIAbnormalComment',\n",
       " 'MRICerebralAtrophy',\n",
       " 'MRICerebralAtrophy_c',\n",
       " 'MRICerebralAtrophyGlobalLocal',\n",
       " 'MRICerebralAtrophyGlobalLocal_c',\n",
       " 'MRICerebralAtrophyRegion',\n",
       " 'MRICerebralAtrophyQualAssessCC',\n",
       " 'MRICerebralAtrophyQualAssessCC_c',\n",
       " 'MRICerebralAtrophyQualAssessVDLeft',\n",
       " 'MRICerebralAtrophyQualAssessVDLeft_c',\n",
       " 'MRICerebralAtrophyQualAssessVDRight',\n",
       " 'MRICerebralAtrophyQualAssessVDRight_c',\n",
       " 'MRIInfarction',\n",
       " 'MRIInfarction_c',\n",
       " 'MRIInfarctionArterialTerritoryLeft',\n",
       " 'MRIInfarctionArterialTerritoryLeft_c',\n",
       " 'MRIInfarctionArterialTerritoryRight',\n",
       " 'MRIInfarctionArterialTerritoryRight_c',\n",
       " 'MRIInfarctionWatershedLeft',\n",
       " 'MRIInfarctionWatershedLeft_c',\n",
       " 'MRIInfarctionWatershedRight',\n",
       " 'MRIInfarctionWatershedRight_c',\n",
       " 'MRIMidlineShift',\n",
       " 'MRIMidlineShift_c',\n",
       " 'MRIBGT',\n",
       " 'MRIBGT_c',\n",
       " 'MRIPLIC',\n",
       " 'MRIPLIC_c',\n",
       " 'MRIALIC',\n",
       " 'MRIALIC_c',\n",
       " 'MRIWatershed',\n",
       " 'MRIWatershed_c',\n",
       " 'MRIWhiteMatterInjury',\n",
       " 'MRIWhiteMatterInjury_c',\n",
       " 'MRIFocalCorticalInjury',\n",
       " 'MRIFocalCorticalInjury_c',\n",
       " 'MRINRNPatternOfInjury',\n",
       " 'MRINRNPatternOfInjury_c',\n",
       " 'MRINRNPatternOfInjuryExtent',\n",
       " 'MRINRNPatternOfInjuryExtent_c',\n",
       " 'MRINRNPatternOfInjuryLateral',\n",
       " 'MRINRNPatternOfInjuryLateral_c',\n",
       " 'MRIComment',\n",
       " 'MRINRNPatternOfInjuryMerge',\n",
       " 'MRINRNPatternOfInjuryAvg',\n",
       " 'MRINRNPatternOfInjuryMax',\n",
       " 'MRI2LevelPatternOfInjury',\n",
       " 'MRIAge_day',\n",
       " 'MRIOverallDiagnosisMerge',\n",
       " 'MRINotDone',\n",
       " 'MRIUnread',\n",
       " 'MRIAnalysis',\n",
       " 'MRIAbnormalResult',\n",
       " 'MRINRNPatternOfInjuryWSvsBGTPLIC',\n",
       " 'MRICerebralLesion',\n",
       " 'MRICerebellarLesion',\n",
       " 'MRIBasalGangliaLesion',\n",
       " 'MRIBrainstemLesion',\n",
       " 'MRICorpusCallosumLesion',\n",
       " 'MRICerebralLesionLobe',\n",
       " 'MRICoronaRadiataLesion',\n",
       " 'MRIEdema',\n",
       " 'MRIExtraAxialLesion',\n",
       " 'MRIExtent',\n",
       " 'MRIFrontalParietalLesion',\n",
       " 'MRIFrontalLesion',\n",
       " 'MRILateralHemisphericDevastation',\n",
       " 'MRIHippocampusLesion',\n",
       " 'MRIHypothalamusLesion',\n",
       " 'MRIInsularLesion',\n",
       " 'MRILateralityMerge',\n",
       " 'MRIBGTMerge',\n",
       " 'MRIPLICMerge',\n",
       " 'MRIWatershedMerge',\n",
       " 'MRIWhiteMatterInjuryMerge',\n",
       " 'MRIOccipitalLesion',\n",
       " 'MRIOpticChiasmLesion',\n",
       " 'MRIOtherLesion',\n",
       " 'MRIOtherCerebralLesion',\n",
       " 'MRIParasagittalLesion',\n",
       " 'MRIParietalLesion',\n",
       " 'MRIPreirolandicLesion',\n",
       " 'MRIPerisylvianLesion',\n",
       " 'MRIPituitaryLesion',\n",
       " 'MRIParietalOccipitalLesion',\n",
       " 'MRIParietalTemporalLesion',\n",
       " 'MRIScalpLesion',\n",
       " 'MRIThalamusLesion',\n",
       " 'MRITemporalLesion',\n",
       " 'MRITemporalOccipitalLesion',\n",
       " 'MRICerebralAtrophyMerge',\n",
       " 'MRICerebralAtrophyQualAssessCCMerge',\n",
       " 'MRICerebralAtrophyGlobalLocalMerge',\n",
       " 'MRIVascularTerritoryInfarctionMerge',\n",
       " 'MRIVascularTerritoryInfarctionLeftMerge',\n",
       " 'MRIVascularTerritoryInfarctionRightMerge',\n",
       " 'MRIHemisphericDevastation',\n",
       " 'MRIVentricularDilatation',\n",
       " 'MRIVascularLesion',\n",
       " 'MRIIntraventricularLesion',\n",
       " 'subjectID_with_postfix',\n",
       " 'subjectID_postfix']"
      ]
     },
     "execution_count": 128,
     "metadata": {},
     "output_type": "execute_result"
    }
   ],
   "source": [
    "mri3_columns = ['subjectID_with_postfix', 'subjectID_postfix']\n",
    "\n",
    "mri_columns = COMBINE_harmonizer.get_columns(df_data_dict, 'Post-intervention', 'MRI')\n",
    "all_mri_columns = list(dict.fromkeys(id_columns + mri_columns + mri3_columns))\n",
    "all_mri_columns"
   ]
  },
  {
   "cell_type": "code",
   "execution_count": 129,
   "id": "d326ac84",
   "metadata": {
    "execution": {
     "iopub.execute_input": "2025-05-10T00:13:43.567449Z",
     "iopub.status.busy": "2025-05-10T00:13:43.567349Z",
     "iopub.status.idle": "2025-05-10T00:13:43.659666Z",
     "shell.execute_reply": "2025-05-10T00:13:43.659252Z"
    }
   },
   "outputs": [
    {
     "name": "stdout",
     "output_type": "stream",
     "text": [
      "(2/96) LM3READ not in columns\n",
      "(52/96) siteID not in columns\n",
      "(90/96) FormStatus not in columns\n",
      "(91/96) DateComplete not in columns\n",
      "(92/96) DateCreated not in columns\n",
      "(93/96) KeyedUser not in columns\n",
      "(2/198) MRIAvailable not in df\n",
      "(3/198) MRIAvailable_c not in df\n",
      "(4/198) MRIObtain not in df\n",
      "(5/198) MRIObtainWindow not in df\n",
      "(6/198) MRIObtainWindow_c not in df\n",
      "(8/198) MRITime not in df\n",
      "(9/198) MRIObtainComment not in df\n",
      "(10/198) MRISendRTIDate not in df\n",
      "(11/198) MRIReceiveRTIDate not in df\n",
      "(12/198) MRINoObtainReason not in df\n",
      "(13/198) MRINoObtainReason_c not in df\n",
      "(14/198) MRINoObtainReasonText not in df\n",
      "(15/198) MRIRead not in df\n",
      "(16/198) MRIScore not in df\n",
      "(17/198) MRIIteration not in df\n",
      "(18/198) MRIIncrement not in df\n",
      "(32/198) MRIT1 not in df\n",
      "(39/198) MRIT2 not in df\n",
      "(46/198) MRIT2FLAIR not in df\n",
      "(53/198) MRIGRESWI not in df\n",
      "(60/198) MRISPGR not in df\n",
      "(65/198) MRIMRS not in df\n",
      "(66/198) MRIMRS_c not in df\n",
      "(75/198) MRILesionNumber not in df\n",
      "(76/198) MRILesionHemisphere not in df\n",
      "(77/198) MRILesionHemisphere_c not in df\n",
      "(78/198) MRIAbnormalRegion1 not in df\n",
      "(79/198) MRIAbnormalRegion1_c not in df\n",
      "(80/198) MRIAbnormalRegion2 not in df\n",
      "(81/198) MRIAbnormalRegion2_c not in df\n",
      "(82/198) MRIAbnormalRegion3 not in df\n",
      "(83/198) MRIAbnormalRegion3_c not in df\n",
      "(84/198) MRIAbnormalSide not in df\n",
      "(85/198) MRIAbnormalSide_c not in df\n",
      "(86/198) MRIAbnormalGrayMatterWhiteMatter not in df\n",
      "(87/198) MRIAbnormalGrayMatterWhiteMatter_c not in df\n",
      "(88/198) MRIAbnormalExtent1 not in df\n",
      "(89/198) MRIAbnormalExtent1_c not in df\n",
      "(90/198) MRIAbnormalExtent2 not in df\n",
      "(91/198) MRIAbnormalExtent2_c not in df\n",
      "(92/198) MRIAbnormalType not in df\n",
      "(93/198) MRIAbnormalType_c not in df\n",
      "(94/198) MRIAbnormalType2 not in df\n",
      "(95/198) MRIAbnormalType2_c not in df\n",
      "(96/198) MRIAbnormalComment not in df\n",
      "(99/198) MRICerebralAtrophyGlobalLocal not in df\n",
      "(100/198) MRICerebralAtrophyGlobalLocal_c not in df\n",
      "(134/198) MRINRNPatternOfInjuryExtent not in df\n",
      "(135/198) MRINRNPatternOfInjuryExtent_c not in df\n",
      "(136/198) MRINRNPatternOfInjuryLateral not in df\n",
      "(137/198) MRINRNPatternOfInjuryLateral_c not in df\n",
      "(139/198) MRINRNPatternOfInjuryMerge not in df\n",
      "(140/198) MRINRNPatternOfInjuryAvg not in df\n",
      "(141/198) MRINRNPatternOfInjuryMax not in df\n",
      "(142/198) MRI2LevelPatternOfInjury not in df\n",
      "(143/198) MRIAge_day not in df\n",
      "(144/198) MRIOverallDiagnosisMerge not in df\n",
      "(145/198) MRINotDone not in df\n",
      "(146/198) MRIUnread not in df\n",
      "(147/198) MRIAnalysis not in df\n",
      "(148/198) MRIAbnormalResult not in df\n",
      "(149/198) MRINRNPatternOfInjuryWSvsBGTPLIC not in df\n",
      "(150/198) MRICerebralLesion not in df\n",
      "(151/198) MRICerebellarLesion not in df\n",
      "(152/198) MRIBasalGangliaLesion not in df\n",
      "(153/198) MRIBrainstemLesion not in df\n",
      "(154/198) MRICorpusCallosumLesion not in df\n",
      "(155/198) MRICerebralLesionLobe not in df\n",
      "(156/198) MRICoronaRadiataLesion not in df\n",
      "(157/198) MRIEdema not in df\n",
      "(158/198) MRIExtraAxialLesion not in df\n",
      "(159/198) MRIExtent not in df\n",
      "(160/198) MRIFrontalParietalLesion not in df\n",
      "(161/198) MRIFrontalLesion not in df\n",
      "(162/198) MRILateralHemisphericDevastation not in df\n",
      "(163/198) MRIHippocampusLesion not in df\n",
      "(164/198) MRIHypothalamusLesion not in df\n",
      "(165/198) MRIInsularLesion not in df\n",
      "(166/198) MRILateralityMerge not in df\n",
      "(167/198) MRIBGTMerge not in df\n",
      "(168/198) MRIPLICMerge not in df\n",
      "(169/198) MRIWatershedMerge not in df\n",
      "(170/198) MRIWhiteMatterInjuryMerge not in df\n",
      "(171/198) MRIOccipitalLesion not in df\n",
      "(172/198) MRIOpticChiasmLesion not in df\n",
      "(173/198) MRIOtherLesion not in df\n",
      "(174/198) MRIOtherCerebralLesion not in df\n",
      "(175/198) MRIParasagittalLesion not in df\n",
      "(176/198) MRIParietalLesion not in df\n",
      "(177/198) MRIPreirolandicLesion not in df\n",
      "(178/198) MRIPerisylvianLesion not in df\n",
      "(179/198) MRIPituitaryLesion not in df\n",
      "(180/198) MRIParietalOccipitalLesion not in df\n",
      "(181/198) MRIParietalTemporalLesion not in df\n",
      "(182/198) MRIScalpLesion not in df\n",
      "(183/198) MRIThalamusLesion not in df\n",
      "(184/198) MRITemporalLesion not in df\n",
      "(185/198) MRITemporalOccipitalLesion not in df\n",
      "(186/198) MRICerebralAtrophyMerge not in df\n",
      "(187/198) MRICerebralAtrophyQualAssessCCMerge not in df\n",
      "(188/198) MRICerebralAtrophyGlobalLocalMerge not in df\n",
      "(189/198) MRIVascularTerritoryInfarctionMerge not in df\n",
      "(190/198) MRIVascularTerritoryInfarctionLeftMerge not in df\n",
      "(191/198) MRIVascularTerritoryInfarctionRightMerge not in df\n",
      "(192/198) MRIHemisphericDevastation not in df\n",
      "(193/198) MRIVentricularDilatation not in df\n",
      "(194/198) MRIVascularLesion not in df\n",
      "(195/198) MRIIntraventricularLesion not in df\n"
     ]
    }
   ],
   "source": [
    "df_mri = COMBINE_harmonizer.valid_columns(df_mri, all_mri_columns, debug_df=True, debug_columns=True)\n",
    "df_mri = COMBINE_harmonizer.postprocess(df_mri)\n",
    "df_mri['MRI_ID'] = df_mri.apply(lambda x: f\"{x['subjectID']}_Site{x['center']}\", axis=1)\n",
    "\n",
    "out_filename = os.sep.join([out_dir, '03-05-mri.csv'])\n",
    "df_mri.to_csv(out_filename, index=False)"
   ]
  },
  {
   "cell_type": "markdown",
   "id": "c59969da",
   "metadata": {},
   "source": [
    "### 03-05-1. check MRI"
   ]
  },
  {
   "cell_type": "code",
   "execution_count": 130,
   "id": "fc85dae1",
   "metadata": {
    "execution": {
     "iopub.execute_input": "2025-05-10T00:13:43.661790Z",
     "iopub.status.busy": "2025-05-10T00:13:43.661631Z",
     "iopub.status.idle": "2025-05-10T00:13:43.668530Z",
     "shell.execute_reply": "2025-05-10T00:13:43.668174Z"
    }
   },
   "outputs": [
    {
     "data": {
      "text/html": [
       "<div>\n",
       "<style scoped>\n",
       "    .dataframe tbody tr th:only-of-type {\n",
       "        vertical-align: middle;\n",
       "    }\n",
       "\n",
       "    .dataframe tbody tr th {\n",
       "        vertical-align: top;\n",
       "    }\n",
       "\n",
       "    .dataframe thead th {\n",
       "        text-align: right;\n",
       "    }\n",
       "</style>\n",
       "<table border=\"1\" class=\"dataframe\">\n",
       "  <thead>\n",
       "    <tr style=\"text-align: right;\">\n",
       "      <th></th>\n",
       "      <th></th>\n",
       "      <th>_count</th>\n",
       "    </tr>\n",
       "    <tr>\n",
       "      <th>uniqueID</th>\n",
       "      <th>MRIReader</th>\n",
       "      <th></th>\n",
       "    </tr>\n",
       "  </thead>\n",
       "  <tbody>\n",
       "  </tbody>\n",
       "</table>\n",
       "</div>"
      ],
      "text/plain": [
       "Empty DataFrame\n",
       "Columns: [_count]\n",
       "Index: []"
      ]
     },
     "execution_count": 130,
     "metadata": {},
     "output_type": "execute_result"
    }
   ],
   "source": [
    "df_mri_groupby = df_mri.groupby(['uniqueID', 'MRIReader']).agg(_count=('uniqueID', 'count'))\n",
    "\n",
    "is_invalid = df_mri_groupby['_count'] > 1\n",
    "df_mri_groupby[is_invalid]"
   ]
  },
  {
   "cell_type": "markdown",
   "id": "86353e5c",
   "metadata": {},
   "source": [
    "### 03-05-2. check empty"
   ]
  },
  {
   "cell_type": "code",
   "execution_count": 131,
   "id": "a0381ffc",
   "metadata": {
    "execution": {
     "iopub.execute_input": "2025-05-10T00:13:43.670452Z",
     "iopub.status.busy": "2025-05-10T00:13:43.670301Z",
     "iopub.status.idle": "2025-05-10T00:13:43.680984Z",
     "shell.execute_reply": "2025-05-10T00:13:43.680657Z"
    }
   },
   "outputs": [
    {
     "name": "stdout",
     "output_type": "stream",
     "text": [
      "(0/92) column: center (244 / 0)\n",
      "(1/92) column: subjectID (244 / 0)\n",
      "(2/92) column: uniqueID (244 / 0)\n",
      "(3/92) column: MRIReader (244 / 0)\n",
      "(4/92) column: MRIReadDate (244 / 0)\n",
      "(5/92) column: MRIDate (244 / 0)\n",
      "(6/92) column: MRIStrength_T (244 / 0)\n",
      "(7/92) column: MRIStrength_c (114 / 130)\n",
      "(8/92) column: MRIAdequateQuality (239 / 5)\n",
      "(9/92) column: MRIAdequateQuality_c (244 / 0)\n",
      "(10/92) column: MRIT1Axial (244 / 0)\n",
      "(11/92) column: MRIT1Axial_c (172 / 72)\n",
      "(12/92) column: MRIT1Coronal (244 / 0)\n",
      "(13/92) column: MRIT1Coronal_c (47 / 197)\n",
      "(14/92) column: MRIT1Sagittal (244 / 0)\n",
      "(15/92) column: MRIT1Sagittal_c (227 / 17)\n",
      "(16/92) column: MRIT2Axial (244 / 0)\n",
      "(17/92) column: MRIT2Axial_c (223 / 21)\n",
      "(18/92) column: MRIT2Coronal (244 / 0)\n",
      "(19/92) column: MRIT2Coronal_c (129 / 115)\n",
      "(20/92) column: MRIT2Sagittal (244 / 0)\n",
      "(21/92) column: MRIT2Sagittal_c (39 / 205)\n",
      "(22/92) column: MRIT2FLAIRAxial (244 / 0)\n",
      "(23/92) column: MRIT2FLAIRAxial_c (167 / 77)\n",
      "(24/92) column: MRIT2FLAIRCoronal (244 / 0)\n",
      "(25/92) column: MRIT2FLAIRCoronal_c (22 / 222)\n",
      "(26/92) column: MRIT2FLAIRSagittal (244 / 0)\n",
      "(27/92) column: MRIT2FLAIRSagittal_c (3 / 241)\n",
      "(28/92) column: MRIGRESWIAxial (244 / 0)\n",
      "(29/92) column: MRIGRESWIAxial_c (169 / 75)\n",
      "(30/92) column: MRIGRESWICoronal (244 / 0)\n",
      "(31/92) column: MRIGRESWICoronal_c (17 / 227)\n",
      "(32/92) column: MRIGRESWISagittal (244 / 0)\n",
      "(33/92) column: MRIGRESWISagittal_c (1 / 243)\n",
      "(34/92) column: MRISPGRAxial (244 / 0)\n",
      "(35/92) column: MRISPGRAxial_c (48 / 196)\n",
      "(36/92) column: MRISPGRCoronal (244 / 0)\n",
      "(37/92) column: MRISPGRCoronal_c (27 / 217)\n",
      "(38/92) column: MRISPGRSagittal (244 / 0)\n",
      "(39/92) column: MRISPGRSagittal_c (27 / 217)\n",
      "(40/92) column: MRIDWI (244 / 0)\n",
      "(41/92) column: MRIDWI_c (224 / 20)\n",
      "(42/92) column: MRIADC (244 / 0)\n",
      "(43/92) column: MRIADC_c (206 / 38)\n",
      "(44/92) column: MRIOther (244 / 0)\n",
      "(45/92) column: MRIOther_c (123 / 121)\n",
      "(46/92) column: MRIOtherText (137 / 107)\n",
      "(47/92) column: MRIOverallDiagnosis (244 / 0)\n",
      "(48/92) column: MRIOverallDiagnosis_c (243 / 1)\n",
      "(49/92) column: MRIAbnormal (231 / 13)\n",
      "(50/92) column: MRIAbnormal_c (244 / 0)\n",
      "(51/92) column: MRIID (244 / 0)\n",
      "(52/92) column: MRIOverallDiagnosisText (13 / 231)\n",
      "(53/92) column: MRICerebralAtrophy (234 / 10)\n",
      "(54/92) column: MRICerebralAtrophy_c (244 / 0)\n",
      "(55/92) column: MRICerebralAtrophyRegion (4 / 240)\n",
      "(56/92) column: MRICerebralAtrophyQualAssessCC (244 / 0)\n",
      "(57/92) column: MRICerebralAtrophyQualAssessCC_c (231 / 13)\n",
      "(58/92) column: MRICerebralAtrophyQualAssessVDLeft (244 / 0)\n",
      "(59/92) column: MRICerebralAtrophyQualAssessVDLeft_c (240 / 4)\n",
      "(60/92) column: MRICerebralAtrophyQualAssessVDRight (244 / 0)\n",
      "(61/92) column: MRICerebralAtrophyQualAssessVDRight_c (234 / 10)\n",
      "(62/92) column: MRIInfarction (205 / 39)\n",
      "(63/92) column: MRIInfarction_c (244 / 0)\n",
      "(64/92) column: MRIInfarctionArterialTerritoryLeft (244 / 0)\n",
      "(65/92) column: MRIInfarctionArterialTerritoryLeft_c (22 / 222)\n",
      "(66/92) column: MRIInfarctionArterialTerritoryRight (244 / 0)\n",
      "(67/92) column: MRIInfarctionArterialTerritoryRight_c (14 / 230)\n",
      "(68/92) column: MRIInfarctionWatershedLeft (244 / 0)\n",
      "(69/92) column: MRIInfarctionWatershedLeft_c (59 / 185)\n",
      "(70/92) column: MRIInfarctionWatershedRight (244 / 0)\n",
      "(71/92) column: MRIInfarctionWatershedRight_c (56 / 188)\n",
      "(72/92) column: MRIMidlineShift (229 / 15)\n",
      "(73/92) column: MRIMidlineShift_c (244 / 0)\n",
      "(74/92) column: MRIBGT (244 / 0)\n",
      "(75/92) column: MRIBGT_c (237 / 7)\n",
      "(76/92) column: MRIPLIC (244 / 0)\n",
      "(77/92) column: MRIPLIC_c (238 / 6)\n",
      "(78/92) column: MRIALIC (244 / 0)\n",
      "(79/92) column: MRIALIC_c (236 / 8)\n",
      "(80/92) column: MRIWatershed (244 / 0)\n",
      "(81/92) column: MRIWatershed_c (209 / 35)\n",
      "(82/92) column: MRIWhiteMatterInjury (244 / 0)\n",
      "(83/92) column: MRIWhiteMatterInjury_c (216 / 28)\n",
      "(84/92) column: MRIFocalCorticalInjury (244 / 0)\n",
      "(85/92) column: MRIFocalCorticalInjury_c (214 / 30)\n",
      "(86/92) column: MRINRNPatternOfInjury (244 / 0)\n",
      "(87/92) column: MRINRNPatternOfInjury_c (240 / 4)\n",
      "(88/92) column: MRIComment (195 / 49)\n",
      "(89/92) column: subjectID_with_postfix (244 / 0)\n",
      "(90/92) column: subjectID_postfix (244 / 0)\n",
      "(91/92) column: MRI_ID (244 / 0)\n"
     ]
    }
   ],
   "source": [
    "COMBINE_harmonizer.check_empty(df_mri)"
   ]
  },
  {
   "cell_type": "code",
   "execution_count": 132,
   "id": "754d7342",
   "metadata": {
    "execution": {
     "iopub.execute_input": "2025-05-10T00:13:43.682434Z",
     "iopub.status.busy": "2025-05-10T00:13:43.682331Z",
     "iopub.status.idle": "2025-05-10T00:13:43.688379Z",
     "shell.execute_reply": "2025-05-10T00:13:43.688103Z"
    }
   },
   "outputs": [
    {
     "name": "stdout",
     "output_type": "stream",
     "text": [
      "(0/92) center: (244/0)\n",
      "(1/92) subjectID: (244/0)\n",
      "(2/92) uniqueID: (244/0)\n",
      "(3/92) MRIReader: (244/0)\n",
      "(4/92) MRIReadDate: (244/0)\n",
      "(5/92) MRIDate: (244/0)\n",
      "(6/92) MRIStrength_T: (244/0)\n",
      "(7/92) MRIStrength_c: (114/130)\n",
      "(8/92) MRIAdequateQuality: (239/5)\n",
      "(9/92) MRIAdequateQuality_c: (244/0)\n",
      "(10/92) MRIT1Axial: (244/0)\n",
      "(11/92) MRIT1Axial_c: (172/72)\n",
      "(12/92) MRIT1Coronal: (244/0)\n",
      "(13/92) MRIT1Coronal_c: (47/197)\n",
      "(14/92) MRIT1Sagittal: (244/0)\n",
      "(15/92) MRIT1Sagittal_c: (227/17)\n",
      "(16/92) MRIT2Axial: (244/0)\n",
      "(17/92) MRIT2Axial_c: (223/21)\n",
      "(18/92) MRIT2Coronal: (244/0)\n",
      "(19/92) MRIT2Coronal_c: (129/115)\n",
      "(20/92) MRIT2Sagittal: (244/0)\n",
      "(21/92) MRIT2Sagittal_c: (39/205)\n",
      "(22/92) MRIT2FLAIRAxial: (244/0)\n",
      "(23/92) MRIT2FLAIRAxial_c: (167/77)\n",
      "(24/92) MRIT2FLAIRCoronal: (244/0)\n",
      "(25/92) MRIT2FLAIRCoronal_c: (22/222)\n",
      "(26/92) MRIT2FLAIRSagittal: (244/0)\n",
      "(27/92) MRIT2FLAIRSagittal_c: (3/241)\n",
      "(28/92) MRIGRESWIAxial: (244/0)\n",
      "(29/92) MRIGRESWIAxial_c: (169/75)\n",
      "(30/92) MRIGRESWICoronal: (244/0)\n",
      "(31/92) MRIGRESWICoronal_c: (17/227)\n",
      "(32/92) MRIGRESWISagittal: (244/0)\n",
      "(33/92) MRIGRESWISagittal_c: (1/243)\n",
      "(34/92) MRISPGRAxial: (244/0)\n",
      "(35/92) MRISPGRAxial_c: (48/196)\n",
      "(36/92) MRISPGRCoronal: (244/0)\n",
      "(37/92) MRISPGRCoronal_c: (27/217)\n",
      "(38/92) MRISPGRSagittal: (244/0)\n",
      "(39/92) MRISPGRSagittal_c: (27/217)\n",
      "(40/92) MRIDWI: (244/0)\n",
      "(41/92) MRIDWI_c: (224/20)\n",
      "(42/92) MRIADC: (244/0)\n",
      "(43/92) MRIADC_c: (206/38)\n",
      "(44/92) MRIOther: (244/0)\n",
      "(45/92) MRIOther_c: (123/121)\n",
      "(46/92) MRIOtherText: (137/107)\n",
      "(47/92) MRIOverallDiagnosis: (244/0)\n",
      "(48/92) MRIOverallDiagnosis_c: (243/1)\n",
      "(49/92) MRIAbnormal: (231/13)\n",
      "(50/92) MRIAbnormal_c: (244/0)\n",
      "(51/92) MRIID: (244/0)\n",
      "(52/92) MRIOverallDiagnosisText: (13/231)\n",
      "(53/92) MRICerebralAtrophy: (234/10)\n",
      "(54/92) MRICerebralAtrophy_c: (244/0)\n",
      "(55/92) MRICerebralAtrophyRegion: (4/240)\n",
      "(56/92) MRICerebralAtrophyQualAssessCC: (244/0)\n",
      "(57/92) MRICerebralAtrophyQualAssessCC_c: (231/13)\n",
      "(58/92) MRICerebralAtrophyQualAssessVDLeft: (244/0)\n",
      "(59/92) MRICerebralAtrophyQualAssessVDLeft_c: (240/4)\n",
      "(60/92) MRICerebralAtrophyQualAssessVDRight: (244/0)\n",
      "(61/92) MRICerebralAtrophyQualAssessVDRight_c: (234/10)\n",
      "(62/92) MRIInfarction: (205/39)\n",
      "(63/92) MRIInfarction_c: (244/0)\n",
      "(64/92) MRIInfarctionArterialTerritoryLeft: (244/0)\n",
      "(65/92) MRIInfarctionArterialTerritoryLeft_c: (22/222)\n",
      "(66/92) MRIInfarctionArterialTerritoryRight: (244/0)\n",
      "(67/92) MRIInfarctionArterialTerritoryRight_c: (14/230)\n",
      "(68/92) MRIInfarctionWatershedLeft: (244/0)\n",
      "(69/92) MRIInfarctionWatershedLeft_c: (59/185)\n",
      "(70/92) MRIInfarctionWatershedRight: (244/0)\n",
      "(71/92) MRIInfarctionWatershedRight_c: (56/188)\n",
      "(72/92) MRIMidlineShift: (229/15)\n",
      "(73/92) MRIMidlineShift_c: (244/0)\n",
      "(74/92) MRIBGT: (244/0)\n",
      "(75/92) MRIBGT_c: (237/7)\n",
      "(76/92) MRIPLIC: (244/0)\n",
      "(77/92) MRIPLIC_c: (238/6)\n",
      "(78/92) MRIALIC: (244/0)\n",
      "(79/92) MRIALIC_c: (236/8)\n",
      "(80/92) MRIWatershed: (244/0)\n",
      "(81/92) MRIWatershed_c: (209/35)\n",
      "(82/92) MRIWhiteMatterInjury: (244/0)\n",
      "(83/92) MRIWhiteMatterInjury_c: (216/28)\n",
      "(84/92) MRIFocalCorticalInjury: (244/0)\n",
      "(85/92) MRIFocalCorticalInjury_c: (214/30)\n",
      "(86/92) MRINRNPatternOfInjury: (244/0)\n",
      "(87/92) MRINRNPatternOfInjury_c: (240/4)\n",
      "(88/92) MRIComment: (195/49)\n",
      "(89/92) subjectID_with_postfix: (244/0)\n",
      "(90/92) subjectID_postfix: (244/0)\n",
      "(91/92) MRI_ID: (244/0)\n"
     ]
    }
   ],
   "source": [
    "COMBINE_harmonizer.column_info(df_mri)"
   ]
  },
  {
   "cell_type": "markdown",
   "id": "5270481c",
   "metadata": {},
   "source": [
    "### 03-05-3. MRI summary"
   ]
  },
  {
   "cell_type": "code",
   "execution_count": 133,
   "id": "13244d86",
   "metadata": {
    "execution": {
     "iopub.execute_input": "2025-05-10T00:13:43.690328Z",
     "iopub.status.busy": "2025-05-10T00:13:43.690185Z",
     "iopub.status.idle": "2025-05-10T00:13:43.752658Z",
     "shell.execute_reply": "2025-05-10T00:13:43.752312Z"
    }
   },
   "outputs": [
    {
     "name": "stdout",
     "output_type": "stream",
     "text": [
      "(0/3) filename: lhmr01.csv columns: ['subjectID', 'MRIAvailable', 'MRIObtain', 'MRINoObtainReason', 'LM1INIT', 'REC_CMP', 'center', 'MRIDate', 'MRITime', 'MRISendRTIDate', 'CMP_DATE', 'CRT_DATE']\n",
      "(1/3) filename: lhmr02.csv columns: ['subjectID', 'MRIRead', 'MRIScore', 'LM2INIT', 'REC_CMP', 'center', 'MRIDate', 'MRITime', 'CMP_DATE', 'CRT_DATE']\n",
      "(2/3) filename: analysis.csv columns: ['subjectID', 'center', 'fcenter', 'blindness', 'hearing', 'hear_imp', 'gross', 'cp_out', 'modsevcp', 'bayley3', 'death18', 'all_norm', 'hosp_die', 'dischargeAnticonvulsants', 'LHFOLNUM', 'any_seiz', 'seiz_fu', 'disab_ms', 'disab_4', 'disab_die', 'disab_die4', 'MRIDate', 'MRITime', 'MRIAge_day', 'MRIUnread', 'MRI_RDATE_PB', 'MRI_RDATE_NR', 'MRI_RDATE_WG', 'MRI_RDATE_LC', 'MRINRNPatternOfInjury', 'MRI_PATTERN_PB', 'MRI_PATTERN_NR', 'MRI_PATTERN_WG', 'MRI_PATTERN_LC', 'MRI2LevelPatternOfInjury', 'MRI_PCLASS_PB', 'MRI_PCLASS_NR', 'MRI_PCLASS_WG', 'MRI_PCLASS_LC', 'MRIVascularTerritoryInfarctionLeftMerge', 'MRI_INFARL_PB', 'MRI_INFARL_NR', 'MRI_INFARL_WG', 'MRIVascularTerritoryInfarctionRightMerge', 'MRI_INFARR_PB', 'MRI_INFARR_NR', 'MRI_INFARR_WG', 'MRINotDone']\n",
      "(4/66) LM1INIT not in columns\n",
      "(5/66) REC_CMP not in columns\n",
      "(10/66) CMP_DATE not in columns\n",
      "(11/66) CRT_DATE not in columns\n",
      "(14/66) LM2INIT not in columns\n",
      "(15/66) REC_CMP:lhmr02 not in columns\n",
      "(16/66) MRIDate:lhmr02 not in columns\n",
      "(17/66) MRITime:lhmr02 not in columns\n",
      "(18/66) CMP_DATE:lhmr02 not in columns\n",
      "(19/66) CRT_DATE:lhmr02 not in columns\n",
      "(20/66) fcenter not in columns\n",
      "(21/66) blindness not in columns\n",
      "(22/66) hearing not in columns\n",
      "(23/66) hear_imp not in columns\n",
      "(24/66) gross not in columns\n",
      "(25/66) cp_out not in columns\n",
      "(26/66) modsevcp not in columns\n",
      "(27/66) bayley3 not in columns\n",
      "(28/66) death18 not in columns\n",
      "(29/66) all_norm not in columns\n",
      "(30/66) hosp_die not in columns\n",
      "(31/66) dischargeAnticonvulsants not in columns\n",
      "(32/66) LHFOLNUM not in columns\n",
      "(33/66) any_seiz not in columns\n",
      "(34/66) seiz_fu not in columns\n",
      "(35/66) disab_ms not in columns\n",
      "(36/66) disab_4 not in columns\n",
      "(37/66) disab_die not in columns\n",
      "(38/66) disab_die4 not in columns\n",
      "(39/66) MRIDate:analysis not in columns\n",
      "(40/66) MRITime:analysis not in columns\n",
      "(43/66) MRI_RDATE_PB not in columns\n",
      "(44/66) MRI_RDATE_NR not in columns\n",
      "(45/66) MRI_RDATE_WG not in columns\n",
      "(46/66) MRI_RDATE_LC not in columns\n",
      "(48/66) MRI_PATTERN_PB not in columns\n",
      "(49/66) MRI_PATTERN_NR not in columns\n",
      "(50/66) MRI_PATTERN_WG not in columns\n",
      "(51/66) MRI_PATTERN_LC not in columns\n",
      "(53/66) MRI_PCLASS_PB not in columns\n",
      "(54/66) MRI_PCLASS_NR not in columns\n",
      "(55/66) MRI_PCLASS_WG not in columns\n",
      "(56/66) MRI_PCLASS_LC not in columns\n",
      "(58/66) MRI_INFARL_PB not in columns\n",
      "(59/66) MRI_INFARL_NR not in columns\n",
      "(60/66) MRI_INFARL_WG not in columns\n",
      "(62/66) MRI_INFARR_PB not in columns\n",
      "(63/66) MRI_INFARR_NR not in columns\n",
      "(64/66) MRI_INFARR_WG not in columns\n",
      "(3/198) MRIAvailable_c not in df\n",
      "(5/198) MRIObtainWindow not in df\n",
      "(6/198) MRIObtainWindow_c not in df\n",
      "(9/198) MRIObtainComment not in df\n",
      "(11/198) MRIReceiveRTIDate not in df\n",
      "(13/198) MRINoObtainReason_c not in df\n",
      "(14/198) MRINoObtainReasonText not in df\n",
      "(17/198) MRIIteration not in df\n",
      "(18/198) MRIIncrement not in df\n",
      "(19/198) MRIID not in df\n",
      "(20/198) MRIReader not in df\n",
      "(21/198) MRIReadDate not in df\n",
      "(22/198) MRIStrength_T not in df\n",
      "(23/198) MRIStrength_c not in df\n",
      "(24/198) MRIAdequateQuality not in df\n",
      "(25/198) MRIAdequateQuality_c not in df\n",
      "(26/198) MRIT1Axial not in df\n",
      "(27/198) MRIT1Axial_c not in df\n",
      "(28/198) MRIT1Coronal not in df\n",
      "(29/198) MRIT1Coronal_c not in df\n",
      "(30/198) MRIT1Sagittal not in df\n",
      "(31/198) MRIT1Sagittal_c not in df\n",
      "(32/198) MRIT1 not in df\n",
      "(33/198) MRIT2Axial not in df\n",
      "(34/198) MRIT2Axial_c not in df\n",
      "(35/198) MRIT2Coronal not in df\n",
      "(36/198) MRIT2Coronal_c not in df\n",
      "(37/198) MRIT2Sagittal not in df\n",
      "(38/198) MRIT2Sagittal_c not in df\n",
      "(39/198) MRIT2 not in df\n",
      "(40/198) MRIT2FLAIRAxial not in df\n",
      "(41/198) MRIT2FLAIRAxial_c not in df\n",
      "(42/198) MRIT2FLAIRCoronal not in df\n",
      "(43/198) MRIT2FLAIRCoronal_c not in df\n",
      "(44/198) MRIT2FLAIRSagittal not in df\n",
      "(45/198) MRIT2FLAIRSagittal_c not in df\n",
      "(46/198) MRIT2FLAIR not in df\n",
      "(47/198) MRIGRESWIAxial not in df\n",
      "(48/198) MRIGRESWIAxial_c not in df\n",
      "(49/198) MRIGRESWICoronal not in df\n",
      "(50/198) MRIGRESWICoronal_c not in df\n",
      "(51/198) MRIGRESWISagittal not in df\n",
      "(52/198) MRIGRESWISagittal_c not in df\n",
      "(53/198) MRIGRESWI not in df\n",
      "(54/198) MRISPGRAxial not in df\n",
      "(55/198) MRISPGRAxial_c not in df\n",
      "(56/198) MRISPGRCoronal not in df\n",
      "(57/198) MRISPGRCoronal_c not in df\n",
      "(58/198) MRISPGRSagittal not in df\n",
      "(59/198) MRISPGRSagittal_c not in df\n",
      "(60/198) MRISPGR not in df\n",
      "(61/198) MRIDWI not in df\n",
      "(62/198) MRIDWI_c not in df\n",
      "(63/198) MRIADC not in df\n",
      "(64/198) MRIADC_c not in df\n",
      "(65/198) MRIMRS not in df\n",
      "(66/198) MRIMRS_c not in df\n",
      "(67/198) MRIOther not in df\n",
      "(68/198) MRIOther_c not in df\n",
      "(69/198) MRIOtherText not in df\n",
      "(70/198) MRIOverallDiagnosis not in df\n",
      "(71/198) MRIOverallDiagnosis_c not in df\n",
      "(72/198) MRIOverallDiagnosisText not in df\n",
      "(73/198) MRIAbnormal not in df\n",
      "(74/198) MRIAbnormal_c not in df\n",
      "(75/198) MRILesionNumber not in df\n",
      "(76/198) MRILesionHemisphere not in df\n",
      "(77/198) MRILesionHemisphere_c not in df\n",
      "(78/198) MRIAbnormalRegion1 not in df\n",
      "(79/198) MRIAbnormalRegion1_c not in df\n",
      "(80/198) MRIAbnormalRegion2 not in df\n",
      "(81/198) MRIAbnormalRegion2_c not in df\n",
      "(82/198) MRIAbnormalRegion3 not in df\n",
      "(83/198) MRIAbnormalRegion3_c not in df\n",
      "(84/198) MRIAbnormalSide not in df\n",
      "(85/198) MRIAbnormalSide_c not in df\n",
      "(86/198) MRIAbnormalGrayMatterWhiteMatter not in df\n",
      "(87/198) MRIAbnormalGrayMatterWhiteMatter_c not in df\n",
      "(88/198) MRIAbnormalExtent1 not in df\n",
      "(89/198) MRIAbnormalExtent1_c not in df\n",
      "(90/198) MRIAbnormalExtent2 not in df\n",
      "(91/198) MRIAbnormalExtent2_c not in df\n",
      "(92/198) MRIAbnormalType not in df\n",
      "(93/198) MRIAbnormalType_c not in df\n",
      "(94/198) MRIAbnormalType2 not in df\n",
      "(95/198) MRIAbnormalType2_c not in df\n",
      "(96/198) MRIAbnormalComment not in df\n",
      "(97/198) MRICerebralAtrophy not in df\n",
      "(98/198) MRICerebralAtrophy_c not in df\n",
      "(99/198) MRICerebralAtrophyGlobalLocal not in df\n",
      "(100/198) MRICerebralAtrophyGlobalLocal_c not in df\n",
      "(101/198) MRICerebralAtrophyRegion not in df\n",
      "(102/198) MRICerebralAtrophyQualAssessCC not in df\n",
      "(103/198) MRICerebralAtrophyQualAssessCC_c not in df\n",
      "(104/198) MRICerebralAtrophyQualAssessVDLeft not in df\n",
      "(105/198) MRICerebralAtrophyQualAssessVDLeft_c not in df\n",
      "(106/198) MRICerebralAtrophyQualAssessVDRight not in df\n",
      "(107/198) MRICerebralAtrophyQualAssessVDRight_c not in df\n",
      "(108/198) MRIInfarction not in df\n",
      "(109/198) MRIInfarction_c not in df\n",
      "(110/198) MRIInfarctionArterialTerritoryLeft not in df\n",
      "(111/198) MRIInfarctionArterialTerritoryLeft_c not in df\n",
      "(112/198) MRIInfarctionArterialTerritoryRight not in df\n",
      "(113/198) MRIInfarctionArterialTerritoryRight_c not in df\n",
      "(114/198) MRIInfarctionWatershedLeft not in df\n",
      "(115/198) MRIInfarctionWatershedLeft_c not in df\n",
      "(116/198) MRIInfarctionWatershedRight not in df\n",
      "(117/198) MRIInfarctionWatershedRight_c not in df\n",
      "(118/198) MRIMidlineShift not in df\n",
      "(119/198) MRIMidlineShift_c not in df\n",
      "(120/198) MRIBGT not in df\n",
      "(121/198) MRIBGT_c not in df\n",
      "(122/198) MRIPLIC not in df\n",
      "(123/198) MRIPLIC_c not in df\n",
      "(124/198) MRIALIC not in df\n",
      "(125/198) MRIALIC_c not in df\n",
      "(126/198) MRIWatershed not in df\n",
      "(127/198) MRIWatershed_c not in df\n",
      "(128/198) MRIWhiteMatterInjury not in df\n",
      "(129/198) MRIWhiteMatterInjury_c not in df\n",
      "(130/198) MRIFocalCorticalInjury not in df\n",
      "(131/198) MRIFocalCorticalInjury_c not in df\n",
      "(133/198) MRINRNPatternOfInjury_c not in df\n",
      "(134/198) MRINRNPatternOfInjuryExtent not in df\n",
      "(135/198) MRINRNPatternOfInjuryExtent_c not in df\n",
      "(136/198) MRINRNPatternOfInjuryLateral not in df\n",
      "(137/198) MRINRNPatternOfInjuryLateral_c not in df\n",
      "(138/198) MRIComment not in df\n",
      "(139/198) MRINRNPatternOfInjuryMerge not in df\n",
      "(140/198) MRINRNPatternOfInjuryAvg not in df\n",
      "(141/198) MRINRNPatternOfInjuryMax not in df\n",
      "(144/198) MRIOverallDiagnosisMerge not in df\n",
      "(147/198) MRIAnalysis not in df\n",
      "(148/198) MRIAbnormalResult not in df\n",
      "(149/198) MRINRNPatternOfInjuryWSvsBGTPLIC not in df\n",
      "(150/198) MRICerebralLesion not in df\n",
      "(151/198) MRICerebellarLesion not in df\n",
      "(152/198) MRIBasalGangliaLesion not in df\n",
      "(153/198) MRIBrainstemLesion not in df\n",
      "(154/198) MRICorpusCallosumLesion not in df\n",
      "(155/198) MRICerebralLesionLobe not in df\n",
      "(156/198) MRICoronaRadiataLesion not in df\n",
      "(157/198) MRIEdema not in df\n",
      "(158/198) MRIExtraAxialLesion not in df\n",
      "(159/198) MRIExtent not in df\n",
      "(160/198) MRIFrontalParietalLesion not in df\n",
      "(161/198) MRIFrontalLesion not in df\n",
      "(162/198) MRILateralHemisphericDevastation not in df\n",
      "(163/198) MRIHippocampusLesion not in df\n",
      "(164/198) MRIHypothalamusLesion not in df\n",
      "(165/198) MRIInsularLesion not in df\n",
      "(166/198) MRILateralityMerge not in df\n",
      "(167/198) MRIBGTMerge not in df\n",
      "(168/198) MRIPLICMerge not in df\n",
      "(169/198) MRIWatershedMerge not in df\n",
      "(170/198) MRIWhiteMatterInjuryMerge not in df\n",
      "(171/198) MRIOccipitalLesion not in df\n",
      "(172/198) MRIOpticChiasmLesion not in df\n",
      "(173/198) MRIOtherLesion not in df\n",
      "(174/198) MRIOtherCerebralLesion not in df\n",
      "(175/198) MRIParasagittalLesion not in df\n",
      "(176/198) MRIParietalLesion not in df\n",
      "(177/198) MRIPreirolandicLesion not in df\n",
      "(178/198) MRIPerisylvianLesion not in df\n",
      "(179/198) MRIPituitaryLesion not in df\n",
      "(180/198) MRIParietalOccipitalLesion not in df\n",
      "(181/198) MRIParietalTemporalLesion not in df\n",
      "(182/198) MRIScalpLesion not in df\n",
      "(183/198) MRIThalamusLesion not in df\n",
      "(184/198) MRITemporalLesion not in df\n",
      "(185/198) MRITemporalOccipitalLesion not in df\n",
      "(186/198) MRICerebralAtrophyMerge not in df\n",
      "(187/198) MRICerebralAtrophyQualAssessCCMerge not in df\n",
      "(188/198) MRICerebralAtrophyGlobalLocalMerge not in df\n",
      "(189/198) MRIVascularTerritoryInfarctionMerge not in df\n",
      "(192/198) MRIHemisphericDevastation not in df\n",
      "(193/198) MRIVentricularDilatation not in df\n",
      "(194/198) MRIVascularLesion not in df\n",
      "(195/198) MRIIntraventricularLesion not in df\n",
      "(196/198) subjectID_with_postfix not in df\n",
      "(197/198) subjectID_postfix not in df\n"
     ]
    }
   ],
   "source": [
    "df_mri_s = None\n",
    "for idx, each_filename in enumerate(_MRI_FILENAMES_MERGE):\n",
    "    each_df = df_dict[each_filename]\n",
    "    columns = list(each_df.columns)\n",
    "    each_filename_prefix = re.sub(r'\\.csv$', '', each_filename)\n",
    "    print(f'({idx}/{len(_MRI_FILENAMES_MERGE)}) filename: {each_filename} columns: {columns}')\n",
    "\n",
    "    if df_mri_s is None:\n",
    "        df_mri_s = each_df\n",
    "    else:\n",
    "        df_mri_s = df_mri_s.merge(each_df, on=['center', 'subjectID'], how='outer', suffixes=['', ':' + each_filename_prefix])\n",
    "\n",
    "# postprocess\n",
    "df_mri_s = COMBINE_harmonizer.valid_columns(df_mri_s, all_mri_columns, debug_df=True, debug_columns=True)\n",
    "df_mri_s = COMBINE_harmonizer.postprocess(df_mri_s)\n",
    "\n",
    "out_filename = os.sep.join([out_dir, '03-05_s-mri.csv'])\n",
    "df_mri_s.to_csv(out_filename, index=False)"
   ]
  },
  {
   "cell_type": "markdown",
   "id": "6e313ffc-f4c8-44b1-9378-86c30428411f",
   "metadata": {},
   "source": [
    "### 03-05-4. check MRI Summary"
   ]
  },
  {
   "cell_type": "code",
   "execution_count": 134,
   "id": "e73b1699-3885-4450-a898-a4565f065767",
   "metadata": {
    "execution": {
     "iopub.execute_input": "2025-05-10T00:13:43.754463Z",
     "iopub.status.busy": "2025-05-10T00:13:43.754333Z",
     "iopub.status.idle": "2025-05-10T00:13:43.760133Z",
     "shell.execute_reply": "2025-05-10T00:13:43.759851Z"
    }
   },
   "outputs": [
    {
     "data": {
      "text/html": [
       "<div>\n",
       "<style scoped>\n",
       "    .dataframe tbody tr th:only-of-type {\n",
       "        vertical-align: middle;\n",
       "    }\n",
       "\n",
       "    .dataframe tbody tr th {\n",
       "        vertical-align: top;\n",
       "    }\n",
       "\n",
       "    .dataframe thead th {\n",
       "        text-align: right;\n",
       "    }\n",
       "</style>\n",
       "<table border=\"1\" class=\"dataframe\">\n",
       "  <thead>\n",
       "    <tr style=\"text-align: right;\">\n",
       "      <th></th>\n",
       "      <th>_count</th>\n",
       "    </tr>\n",
       "    <tr>\n",
       "      <th>uniqueID</th>\n",
       "      <th></th>\n",
       "    </tr>\n",
       "  </thead>\n",
       "  <tbody>\n",
       "  </tbody>\n",
       "</table>\n",
       "</div>"
      ],
      "text/plain": [
       "Empty DataFrame\n",
       "Columns: [_count]\n",
       "Index: []"
      ]
     },
     "execution_count": 134,
     "metadata": {},
     "output_type": "execute_result"
    }
   ],
   "source": [
    "df_mri_s_groupby = df_mri_s.groupby(['uniqueID']).agg(_count=('uniqueID', 'count'))\n",
    "\n",
    "is_invalid = df_mri_s_groupby['_count'] > 1\n",
    "df_mri_s_groupby[is_invalid]"
   ]
  },
  {
   "cell_type": "markdown",
   "id": "8799bd47-f6b1-4229-90b6-3222171633f6",
   "metadata": {},
   "source": [
    "### 03-05-5. check empty cells"
   ]
  },
  {
   "cell_type": "code",
   "execution_count": 135,
   "id": "548072ca-5c9a-4b33-8172-e4dd096315b0",
   "metadata": {
    "execution": {
     "iopub.execute_input": "2025-05-10T00:13:43.761783Z",
     "iopub.status.busy": "2025-05-10T00:13:43.761659Z",
     "iopub.status.idle": "2025-05-10T00:13:43.765192Z",
     "shell.execute_reply": "2025-05-10T00:13:43.764934Z"
    }
   },
   "outputs": [
    {
     "name": "stdout",
     "output_type": "stream",
     "text": [
      "(0/18) column: center (168 / 0)\n",
      "(1/18) column: subjectID (168 / 0)\n",
      "(2/18) column: uniqueID (168 / 0)\n",
      "(3/18) column: MRIAvailable (150 / 18)\n",
      "(4/18) column: MRIObtain (148 / 20)\n",
      "(5/18) column: MRINoObtainReason (1 / 167)\n",
      "(6/18) column: MRIDate (147 / 21)\n",
      "(7/18) column: MRITime (147 / 21)\n",
      "(8/18) column: MRISendRTIDate (146 / 22)\n",
      "(9/18) column: MRIRead (147 / 21)\n",
      "(10/18) column: MRIScore (147 / 21)\n",
      "(11/18) column: MRIAge_day (128 / 40)\n",
      "(12/18) column: MRIUnread (19 / 149)\n",
      "(13/18) column: MRINRNPatternOfInjury (128 / 40)\n",
      "(14/18) column: MRI2LevelPatternOfInjury (128 / 40)\n",
      "(15/18) column: MRIVascularTerritoryInfarctionLeftMerge (128 / 40)\n",
      "(16/18) column: MRIVascularTerritoryInfarctionRightMerge (128 / 40)\n",
      "(17/18) column: MRINotDone (21 / 147)\n"
     ]
    }
   ],
   "source": [
    "COMBINE_harmonizer.check_empty(df_mri_s)"
   ]
  },
  {
   "cell_type": "code",
   "execution_count": 136,
   "id": "32d215c7-cff7-4d3a-bc51-9231e522ea55",
   "metadata": {
    "execution": {
     "iopub.execute_input": "2025-05-10T00:13:43.766515Z",
     "iopub.status.busy": "2025-05-10T00:13:43.766414Z",
     "iopub.status.idle": "2025-05-10T00:13:43.769548Z",
     "shell.execute_reply": "2025-05-10T00:13:43.769192Z"
    }
   },
   "outputs": [
    {
     "name": "stdout",
     "output_type": "stream",
     "text": [
      "(0/18) center: (168/0)\n",
      "(1/18) subjectID: (168/0)\n",
      "(2/18) uniqueID: (168/0)\n",
      "(3/18) MRIAvailable: (150/18)\n",
      "(4/18) MRIObtain: (148/20)\n",
      "(5/18) MRINoObtainReason: (1/167)\n",
      "(6/18) MRIDate: (147/21)\n",
      "(7/18) MRITime: (147/21)\n",
      "(8/18) MRISendRTIDate: (146/22)\n",
      "(9/18) MRIRead: (147/21)\n",
      "(10/18) MRIScore: (147/21)\n",
      "(11/18) MRIAge_day: (128/40)\n",
      "(12/18) MRIUnread: (19/149)\n",
      "(13/18) MRINRNPatternOfInjury: (128/40)\n",
      "(14/18) MRI2LevelPatternOfInjury: (128/40)\n",
      "(15/18) MRIVascularTerritoryInfarctionLeftMerge: (128/40)\n",
      "(16/18) MRIVascularTerritoryInfarctionRightMerge: (128/40)\n",
      "(17/18) MRINotDone: (21/147)\n"
     ]
    }
   ],
   "source": [
    "COMBINE_harmonizer.column_info(df_mri_s)"
   ]
  },
  {
   "cell_type": "markdown",
   "id": "0bd45967-4a74-4cad-8d66-f7e58fec3315",
   "metadata": {},
   "source": [
    "## 02-11. elevated temperature"
   ]
  },
  {
   "cell_type": "code",
   "execution_count": 137,
   "id": "4e812b88",
   "metadata": {
    "execution": {
     "iopub.execute_input": "2025-05-10T00:13:43.771156Z",
     "iopub.status.busy": "2025-05-10T00:13:43.770944Z",
     "iopub.status.idle": "2025-05-10T00:13:43.774097Z",
     "shell.execute_reply": "2025-05-10T00:13:43.773849Z"
    }
   },
   "outputs": [
    {
     "data": {
      "text/plain": [
       "['elevatedTempNumber',\n",
       " 'elevatedTempMin',\n",
       " 'elevatedTempDate',\n",
       " 'elevatedTempTime',\n",
       " 'elevatedTempSkinTemperature_C',\n",
       " 'elevatedTempAxillaryTemperature_C',\n",
       " 'elevatedTempEsophagealTemperature_C',\n",
       " 'elevatedTempServoSet_C',\n",
       " 'elevatedTempDevice',\n",
       " 'elevatedTempDeviceMode',\n",
       " 'elevatedTempAirTemperature_C',\n",
       " 'elevatedTempBath',\n",
       " 'elevatedTempNoBathReason',\n",
       " 'elevatedTempBlanketrol']"
      ]
     },
     "execution_count": 137,
     "metadata": {},
     "output_type": "execute_result"
    }
   ],
   "source": [
    "elevated_temperature_columns = COMBINE_harmonizer.get_columns(df_data_dict, 'Intervention', 'Elevated Temperature')\n",
    "all_elevated_temperature_columns = id_columns + elevated_temperature_columns\n",
    "elevated_temperature_columns"
   ]
  },
  {
   "cell_type": "code",
   "execution_count": 138,
   "id": "34bfef7b-68fa-4bab-b4c1-6deba3d90171",
   "metadata": {
    "execution": {
     "iopub.execute_input": "2025-05-10T00:13:43.775310Z",
     "iopub.status.busy": "2025-05-10T00:13:43.775230Z",
     "iopub.status.idle": "2025-05-10T00:13:43.848886Z",
     "shell.execute_reply": "2025-05-10T00:13:43.848571Z"
    }
   },
   "outputs": [
    {
     "name": "stdout",
     "output_type": "stream",
     "text": [
      "(3/19) REC_CMP not in columns\n",
      "(17/19) CMP_DATE not in columns\n",
      "(18/19) CRT_DATE not in columns\n"
     ]
    }
   ],
   "source": [
    "df_elevated_temperature = df_dict['lh06a.csv'].copy()\n",
    "df_elevated_temperature = COMBINE_harmonizer.valid_columns(df_elevated_temperature, all_elevated_temperature_columns, debug_df=True, debug_columns=True)\n",
    "df_elevated_temperature = COMBINE_harmonizer.postprocess(df_elevated_temperature)\n",
    "\n",
    "out_filename = os.sep.join([out_dir, '02-11-elevated-temperature.csv'])\n",
    "df_elevated_temperature.to_csv(out_filename, index=False)"
   ]
  },
  {
   "cell_type": "markdown",
   "id": "b39cf6c6-0289-40b4-874d-f6bb11bb80bd",
   "metadata": {},
   "source": [
    "### 02-11-1. check elevated temperature"
   ]
  },
  {
   "cell_type": "code",
   "execution_count": 139,
   "id": "3b94adfd-2a5b-416c-88e6-65afb3e71c9b",
   "metadata": {
    "execution": {
     "iopub.execute_input": "2025-05-10T00:13:43.850636Z",
     "iopub.status.busy": "2025-05-10T00:13:43.850493Z",
     "iopub.status.idle": "2025-05-10T00:13:43.857080Z",
     "shell.execute_reply": "2025-05-10T00:13:43.856795Z"
    }
   },
   "outputs": [
    {
     "data": {
      "text/html": [
       "<div>\n",
       "<style scoped>\n",
       "    .dataframe tbody tr th:only-of-type {\n",
       "        vertical-align: middle;\n",
       "    }\n",
       "\n",
       "    .dataframe tbody tr th {\n",
       "        vertical-align: top;\n",
       "    }\n",
       "\n",
       "    .dataframe thead th {\n",
       "        text-align: right;\n",
       "    }\n",
       "</style>\n",
       "<table border=\"1\" class=\"dataframe\">\n",
       "  <thead>\n",
       "    <tr style=\"text-align: right;\">\n",
       "      <th></th>\n",
       "      <th></th>\n",
       "      <th></th>\n",
       "      <th>_count</th>\n",
       "    </tr>\n",
       "    <tr>\n",
       "      <th>uniqueID</th>\n",
       "      <th>elevatedTempNumber</th>\n",
       "      <th>elevatedTempMin</th>\n",
       "      <th></th>\n",
       "    </tr>\n",
       "  </thead>\n",
       "  <tbody>\n",
       "  </tbody>\n",
       "</table>\n",
       "</div>"
      ],
      "text/plain": [
       "Empty DataFrame\n",
       "Columns: [_count]\n",
       "Index: []"
      ]
     },
     "execution_count": 139,
     "metadata": {},
     "output_type": "execute_result"
    }
   ],
   "source": [
    "df_elevated_temperature_groupby = df_elevated_temperature.groupby(['uniqueID', 'elevatedTempNumber', 'elevatedTempMin']).agg(_count=('uniqueID', 'count'))\n",
    "\n",
    "is_invalid = df_elevated_temperature_groupby['_count'] > 1\n",
    "df_elevated_temperature_groupby[is_invalid]"
   ]
  },
  {
   "cell_type": "markdown",
   "id": "68388af2-3644-4092-ac50-a12b1f8673fd",
   "metadata": {},
   "source": [
    "### 02-11-2. check empty cells"
   ]
  },
  {
   "cell_type": "code",
   "execution_count": 140,
   "id": "8db9146f-a426-4969-9129-84ff42ea0e1b",
   "metadata": {
    "execution": {
     "iopub.execute_input": "2025-05-10T00:13:43.858563Z",
     "iopub.status.busy": "2025-05-10T00:13:43.858471Z",
     "iopub.status.idle": "2025-05-10T00:13:43.861966Z",
     "shell.execute_reply": "2025-05-10T00:13:43.861733Z"
    }
   },
   "outputs": [
    {
     "name": "stdout",
     "output_type": "stream",
     "text": [
      "(0/17) column: center (445 / 0)\n",
      "(1/17) column: subjectID (445 / 0)\n",
      "(2/17) column: uniqueID (445 / 0)\n",
      "(3/17) column: elevatedTempBath (423 / 22)\n",
      "(4/17) column: elevatedTempBlanketrol (423 / 22)\n",
      "(5/17) column: elevatedTempNumber (445 / 0)\n",
      "(6/17) column: elevatedTempMin (445 / 0)\n",
      "(7/17) column: elevatedTempDate (407 / 38)\n",
      "(8/17) column: elevatedTempTime (396 / 49)\n",
      "(9/17) column: elevatedTempSkinTemperature_C (265 / 180)\n",
      "(10/17) column: elevatedTempAxillaryTemperature_C (259 / 186)\n",
      "(11/17) column: elevatedTempEsophagealTemperature_C (299 / 146)\n",
      "(12/17) column: elevatedTempServoSet_C (225 / 220)\n",
      "(13/17) column: elevatedTempDevice (334 / 111)\n",
      "(14/17) column: elevatedTempDeviceMode (334 / 111)\n",
      "(15/17) column: elevatedTempAirTemperature_C (0 / 445)\n",
      "(16/17) column: elevatedTempNoBathReason (302 / 143)\n"
     ]
    }
   ],
   "source": [
    "COMBINE_harmonizer.check_empty(df_elevated_temperature)"
   ]
  },
  {
   "cell_type": "code",
   "execution_count": 141,
   "id": "f708deb1-b7fa-4617-9586-178e94d83234",
   "metadata": {
    "execution": {
     "iopub.execute_input": "2025-05-10T00:13:43.863157Z",
     "iopub.status.busy": "2025-05-10T00:13:43.863060Z",
     "iopub.status.idle": "2025-05-10T00:13:43.865606Z",
     "shell.execute_reply": "2025-05-10T00:13:43.865361Z"
    }
   },
   "outputs": [
    {
     "name": "stdout",
     "output_type": "stream",
     "text": [
      "(0/17) center: (445/0)\n",
      "(1/17) subjectID: (445/0)\n",
      "(2/17) uniqueID: (445/0)\n",
      "(3/17) elevatedTempBath: (423/22)\n",
      "(4/17) elevatedTempBlanketrol: (423/22)\n",
      "(5/17) elevatedTempNumber: (445/0)\n",
      "(6/17) elevatedTempMin: (445/0)\n",
      "(7/17) elevatedTempDate: (407/38)\n",
      "(8/17) elevatedTempTime: (396/49)\n",
      "(9/17) elevatedTempSkinTemperature_C: (265/180)\n",
      "(10/17) elevatedTempAxillaryTemperature_C: (259/186)\n",
      "(11/17) elevatedTempEsophagealTemperature_C: (299/146)\n",
      "(12/17) elevatedTempServoSet_C: (225/220)\n",
      "(13/17) elevatedTempDevice: (334/111)\n",
      "(14/17) elevatedTempDeviceMode: (334/111)\n",
      "(15/17) elevatedTempAirTemperature_C: (0/445)\n",
      "(16/17) elevatedTempNoBathReason: (302/143)\n"
     ]
    }
   ],
   "source": [
    "COMBINE_harmonizer.column_info(df_elevated_temperature)"
   ]
  },
  {
   "cell_type": "markdown",
   "id": "013563b7-d587-46ae-bbf5-23b7315ff327",
   "metadata": {},
   "source": [
    "## 02-12. fluctuated temperature"
   ]
  },
  {
   "cell_type": "code",
   "execution_count": 142,
   "id": "121d05d8",
   "metadata": {
    "execution": {
     "iopub.execute_input": "2025-05-10T00:13:43.866892Z",
     "iopub.status.busy": "2025-05-10T00:13:43.866793Z",
     "iopub.status.idle": "2025-05-10T00:13:43.869641Z",
     "shell.execute_reply": "2025-05-10T00:13:43.869402Z"
    }
   },
   "outputs": [
    {
     "data": {
      "text/plain": [
       "['fluctuateTempNumber',\n",
       " 'fluctuateTempMin',\n",
       " 'fluctuateTempDate',\n",
       " 'fluctuateTempTime',\n",
       " 'fluctuateTempSkinTemperature_C',\n",
       " 'fluctuateTempAxillaryTemperature_C',\n",
       " 'fluctuateTempEsophagealTemperature_C',\n",
       " 'fluctuateTempBlanketrol_C',\n",
       " 'fluctuateTempServoSet_C']"
      ]
     },
     "execution_count": 142,
     "metadata": {},
     "output_type": "execute_result"
    }
   ],
   "source": [
    "fluctuated_temperature_columns = COMBINE_harmonizer.get_columns(df_data_dict, 'Intervention', 'Fluctuated Temperature')\n",
    "all_elevated_temperature_columns = id_columns + fluctuated_temperature_columns\n",
    "fluctuated_temperature_columns"
   ]
  },
  {
   "cell_type": "code",
   "execution_count": 143,
   "id": "ba2f5a5f-30e6-4e28-b117-685ba1800995",
   "metadata": {
    "execution": {
     "iopub.execute_input": "2025-05-10T00:13:43.870940Z",
     "iopub.status.busy": "2025-05-10T00:13:43.870835Z",
     "iopub.status.idle": "2025-05-10T00:13:43.930478Z",
     "shell.execute_reply": "2025-05-10T00:13:43.930067Z"
    }
   },
   "outputs": [],
   "source": [
    "df_fluctuated_temperature = df_dict['lh06f.csv'].copy()\n",
    "df_fluctuated_temperature = COMBINE_harmonizer.valid_columns(df_fluctuated_temperature, all_elevated_temperature_columns, debug_df=True, debug_columns=True)\n",
    "df_fluctuated_temperature = COMBINE_harmonizer.postprocess(df_fluctuated_temperature)\n",
    "\n",
    "out_filename = os.sep.join([out_dir, '02-12-fluctuated-temperature.csv'])\n",
    "df_fluctuated_temperature.to_csv(out_filename, index=False)"
   ]
  },
  {
   "cell_type": "markdown",
   "id": "9e9127ac-1f05-4744-833f-6d4b7f6275ce",
   "metadata": {},
   "source": [
    "### 02-12-1. check fluctuated temperature"
   ]
  },
  {
   "cell_type": "code",
   "execution_count": 144,
   "id": "75377a34-8540-49d8-85f4-1d7be5cc844e",
   "metadata": {
    "execution": {
     "iopub.execute_input": "2025-05-10T00:13:43.932338Z",
     "iopub.status.busy": "2025-05-10T00:13:43.932198Z",
     "iopub.status.idle": "2025-05-10T00:13:43.938472Z",
     "shell.execute_reply": "2025-05-10T00:13:43.938176Z"
    }
   },
   "outputs": [
    {
     "data": {
      "text/html": [
       "<div>\n",
       "<style scoped>\n",
       "    .dataframe tbody tr th:only-of-type {\n",
       "        vertical-align: middle;\n",
       "    }\n",
       "\n",
       "    .dataframe tbody tr th {\n",
       "        vertical-align: top;\n",
       "    }\n",
       "\n",
       "    .dataframe thead th {\n",
       "        text-align: right;\n",
       "    }\n",
       "</style>\n",
       "<table border=\"1\" class=\"dataframe\">\n",
       "  <thead>\n",
       "    <tr style=\"text-align: right;\">\n",
       "      <th></th>\n",
       "      <th></th>\n",
       "      <th></th>\n",
       "      <th>_count</th>\n",
       "    </tr>\n",
       "    <tr>\n",
       "      <th>uniqueID</th>\n",
       "      <th>fluctuateTempNumber</th>\n",
       "      <th>fluctuateTempMin</th>\n",
       "      <th></th>\n",
       "    </tr>\n",
       "  </thead>\n",
       "  <tbody>\n",
       "  </tbody>\n",
       "</table>\n",
       "</div>"
      ],
      "text/plain": [
       "Empty DataFrame\n",
       "Columns: [_count]\n",
       "Index: []"
      ]
     },
     "execution_count": 144,
     "metadata": {},
     "output_type": "execute_result"
    }
   ],
   "source": [
    "df_fluctuated_temperature_groupby = df_fluctuated_temperature.groupby(['uniqueID', 'fluctuateTempNumber', 'fluctuateTempMin']).agg(_count=('uniqueID', 'count'))\n",
    "\n",
    "is_invalid = df_fluctuated_temperature_groupby['_count'] > 1\n",
    "df_fluctuated_temperature_groupby[is_invalid]"
   ]
  },
  {
   "cell_type": "markdown",
   "id": "cf7918a2-70dd-4721-8635-34feca1d387e",
   "metadata": {},
   "source": [
    "### 02-12-2. check empty cells"
   ]
  },
  {
   "cell_type": "code",
   "execution_count": 145,
   "id": "99d4c91a-610e-44fc-8ae9-5663e67f454d",
   "metadata": {
    "execution": {
     "iopub.execute_input": "2025-05-10T00:13:43.940125Z",
     "iopub.status.busy": "2025-05-10T00:13:43.939997Z",
     "iopub.status.idle": "2025-05-10T00:13:43.942907Z",
     "shell.execute_reply": "2025-05-10T00:13:43.942646Z"
    }
   },
   "outputs": [
    {
     "name": "stdout",
     "output_type": "stream",
     "text": [
      "(0/12) column: center (54 / 0)\n",
      "(1/12) column: subjectID (54 / 0)\n",
      "(2/12) column: uniqueID (54 / 0)\n",
      "(3/12) column: fluctuateTempNumber (54 / 0)\n",
      "(4/12) column: fluctuateTempMin (54 / 0)\n",
      "(5/12) column: fluctuateTempDate (54 / 0)\n",
      "(6/12) column: fluctuateTempTime (54 / 0)\n",
      "(7/12) column: fluctuateTempSkinTemperature_C (33 / 21)\n",
      "(8/12) column: fluctuateTempAxillaryTemperature_C (11 / 43)\n",
      "(9/12) column: fluctuateTempEsophagealTemperature_C (38 / 16)\n",
      "(10/12) column: fluctuateTempBlanketrol_C (39 / 15)\n",
      "(11/12) column: fluctuateTempServoSet_C (40 / 14)\n"
     ]
    }
   ],
   "source": [
    "COMBINE_harmonizer.check_empty(df_fluctuated_temperature)"
   ]
  },
  {
   "cell_type": "code",
   "execution_count": 146,
   "id": "ebb0d6d1-ad87-4ed3-a40d-a434bb9dd972",
   "metadata": {
    "execution": {
     "iopub.execute_input": "2025-05-10T00:13:43.944217Z",
     "iopub.status.busy": "2025-05-10T00:13:43.944107Z",
     "iopub.status.idle": "2025-05-10T00:13:43.946495Z",
     "shell.execute_reply": "2025-05-10T00:13:43.946248Z"
    }
   },
   "outputs": [
    {
     "name": "stdout",
     "output_type": "stream",
     "text": [
      "(0/12) center: (54/0)\n",
      "(1/12) subjectID: (54/0)\n",
      "(2/12) uniqueID: (54/0)\n",
      "(3/12) fluctuateTempNumber: (54/0)\n",
      "(4/12) fluctuateTempMin: (54/0)\n",
      "(5/12) fluctuateTempDate: (54/0)\n",
      "(6/12) fluctuateTempTime: (54/0)\n",
      "(7/12) fluctuateTempSkinTemperature_C: (33/21)\n",
      "(8/12) fluctuateTempAxillaryTemperature_C: (11/43)\n",
      "(9/12) fluctuateTempEsophagealTemperature_C: (38/16)\n",
      "(10/12) fluctuateTempBlanketrol_C: (39/15)\n",
      "(11/12) fluctuateTempServoSet_C: (40/14)\n"
     ]
    }
   ],
   "source": [
    "COMBINE_harmonizer.column_info(df_fluctuated_temperature)"
   ]
  },
  {
   "cell_type": "markdown",
   "id": "3f489a18-8905-4bc5-9033-10e60db307f4",
   "metadata": {},
   "source": [
    "## 02-13. bradycardia"
   ]
  },
  {
   "cell_type": "code",
   "execution_count": null,
   "id": "b66196ca-a654-42b1-8bc7-ae3282844b05",
   "metadata": {},
   "outputs": [],
   "source": []
  },
  {
   "cell_type": "markdown",
   "id": "dd70adbe-3775-48ec-b880-f2195246f809",
   "metadata": {},
   "source": [
    "## 02-14. adverse event"
   ]
  },
  {
   "cell_type": "code",
   "execution_count": 147,
   "id": "1f18b6af",
   "metadata": {
    "execution": {
     "iopub.execute_input": "2025-05-10T00:13:43.947956Z",
     "iopub.status.busy": "2025-05-10T00:13:43.947856Z",
     "iopub.status.idle": "2025-05-10T00:13:43.950709Z",
     "shell.execute_reply": "2025-05-10T00:13:43.950466Z"
    }
   },
   "outputs": [
    {
     "data": {
      "text/plain": [
       "['adverseEventNumber',\n",
       " 'SAECardiacExperienceOnsetDate',\n",
       " 'SAECardiacExperienceOnsetTime',\n",
       " 'SAECardiacExperienceResolveDate',\n",
       " 'SAECardiacExperienceResolveTime',\n",
       " 'SAECardiacExperienceDueToHypothermia',\n",
       " 'SAECardiacExperienceActionTaken',\n",
       " 'SAECardiacExperienceOutcome',\n",
       " 'SAECardiacExperienceComment',\n",
       " 'SAEMetabolicAcidosisOnsetDate',\n",
       " 'SAEMetabolicAcidosisOnsetTime',\n",
       " 'SAEMetabolicAcidosisResolveDate',\n",
       " 'SAEMetabolicAcidosisResolveTime',\n",
       " 'SAEMetabolicAcidosisDueToHypothermia',\n",
       " 'SAEMetabolicAcidosisActionTaken',\n",
       " 'SAEMetabolicAcidosisOutcome',\n",
       " 'SAEMetabolicAcidosisComment',\n",
       " 'SAEThrombosisExperienceOnsetDate',\n",
       " 'SAEThrombosisExperienceOnsetTime',\n",
       " 'SAEThrombosisExperienceResolveDate',\n",
       " 'SAEThrombosisExperienceResolveTime',\n",
       " 'SAEThrombosisExperienceDueToHypothermia',\n",
       " 'SAEThrombosisExperienceActionTaken',\n",
       " 'SAEThrombosisExperienceOutcome',\n",
       " 'SAEThrombosisExperienceComment',\n",
       " 'SAEBleedingExperienceOnsetDate',\n",
       " 'SAEBleedingExperienceOnsetTime',\n",
       " 'SAEBleedingExperienceResolveDate',\n",
       " 'SAEBleedingExperienceResolveTime',\n",
       " 'SAEBleedingExperienceDueToHypothermia',\n",
       " 'SAEBleedingExperienceActionTaken',\n",
       " 'SAEBleedingExperienceOutcome',\n",
       " 'SAEBleedingExperienceComment',\n",
       " 'SAEAlterationSkinIntegrity',\n",
       " 'SAEAlterationSkinIntegrityOnsetDate',\n",
       " 'SAEAlterationSkinIntegrityResolveDate',\n",
       " 'SAEAlterationSkinIntegrityDueToHypothermia',\n",
       " 'SAEAlterationSkinIntegrityActionTaken',\n",
       " 'SAEAlterationSkinIntegrityOutcome',\n",
       " 'SAEAlterationSkinIntegrityComment',\n",
       " 'SAEDeathDate',\n",
       " 'SAEDeathTime',\n",
       " 'SAEDeathDueToHypothermia',\n",
       " 'SAEDeathActionTaken',\n",
       " 'SAEDeathOutcome',\n",
       " 'SAEDeathComment',\n",
       " 'SAEOther',\n",
       " 'SAEOtherOnsetDate',\n",
       " 'SAEOtherOnsetTime',\n",
       " 'SAEOtherResolveDate',\n",
       " 'SAEOtherResolveTime',\n",
       " 'SAEOtherDueToHypothermia',\n",
       " 'SAEOtherActionTaken',\n",
       " 'SAEOtherOutcome',\n",
       " 'SAEOtherComment']"
      ]
     },
     "execution_count": 147,
     "metadata": {},
     "output_type": "execute_result"
    }
   ],
   "source": [
    "adverse_event_columns = COMBINE_harmonizer.get_columns(df_data_dict, 'Intervention', 'Adverse Event')\n",
    "all_adverse_event_columns = id_columns + adverse_event_columns\n",
    "adverse_event_columns"
   ]
  },
  {
   "cell_type": "code",
   "execution_count": 148,
   "id": "dd71fd91-e9a3-4d57-b205-859038405e40",
   "metadata": {
    "execution": {
     "iopub.execute_input": "2025-05-10T00:13:43.951945Z",
     "iopub.status.busy": "2025-05-10T00:13:43.951843Z",
     "iopub.status.idle": "2025-05-10T00:13:44.015653Z",
     "shell.execute_reply": "2025-05-10T00:13:44.015191Z"
    }
   },
   "outputs": [
    {
     "name": "stdout",
     "output_type": "stream",
     "text": [
      "(8/59) LH7INIT not in columns\n",
      "(9/59) REC_CMP not in columns\n",
      "(48/59) CMP_DATE not in columns\n",
      "(49/59) CRT_DATE not in columns\n",
      "(36/57) SAEAlterationSkinIntegrityOnsetDate not in df\n",
      "(37/57) SAEAlterationSkinIntegrityResolveDate not in df\n"
     ]
    }
   ],
   "source": [
    "df_adverse_event = df_dict['lh07.csv'].copy()\n",
    "df_adverse_event = COMBINE_harmonizer.valid_columns(df_adverse_event, all_adverse_event_columns, debug_df=True, debug_columns=True)\n",
    "df_adverse_event = COMBINE_harmonizer.postprocess(df_adverse_event)\n",
    "\n",
    "out_filename = os.sep.join([out_dir, '02-14-adverse-event.csv'])\n",
    "df_adverse_event.to_csv(out_filename, index=False)"
   ]
  },
  {
   "cell_type": "markdown",
   "id": "d4d4999f-b974-47e7-bc4a-541a2cb35b11",
   "metadata": {},
   "source": [
    "### 02-14-1. check adverse event"
   ]
  },
  {
   "cell_type": "code",
   "execution_count": 149,
   "id": "d588ead9-46d9-4efa-8774-151063361375",
   "metadata": {
    "execution": {
     "iopub.execute_input": "2025-05-10T00:13:44.017816Z",
     "iopub.status.busy": "2025-05-10T00:13:44.017490Z",
     "iopub.status.idle": "2025-05-10T00:13:44.023690Z",
     "shell.execute_reply": "2025-05-10T00:13:44.023412Z"
    }
   },
   "outputs": [
    {
     "data": {
      "text/html": [
       "<div>\n",
       "<style scoped>\n",
       "    .dataframe tbody tr th:only-of-type {\n",
       "        vertical-align: middle;\n",
       "    }\n",
       "\n",
       "    .dataframe tbody tr th {\n",
       "        vertical-align: top;\n",
       "    }\n",
       "\n",
       "    .dataframe thead th {\n",
       "        text-align: right;\n",
       "    }\n",
       "</style>\n",
       "<table border=\"1\" class=\"dataframe\">\n",
       "  <thead>\n",
       "    <tr style=\"text-align: right;\">\n",
       "      <th></th>\n",
       "      <th></th>\n",
       "      <th>_count</th>\n",
       "    </tr>\n",
       "    <tr>\n",
       "      <th>uniqueID</th>\n",
       "      <th>adverseEventNumber</th>\n",
       "      <th></th>\n",
       "    </tr>\n",
       "  </thead>\n",
       "  <tbody>\n",
       "  </tbody>\n",
       "</table>\n",
       "</div>"
      ],
      "text/plain": [
       "Empty DataFrame\n",
       "Columns: [_count]\n",
       "Index: []"
      ]
     },
     "execution_count": 149,
     "metadata": {},
     "output_type": "execute_result"
    }
   ],
   "source": [
    "df_adverse_event_groupby = df_adverse_event.groupby(['uniqueID', 'adverseEventNumber']).agg(_count=('uniqueID', 'count'))\n",
    "\n",
    "is_invalid = df_adverse_event_groupby['_count'] > 1\n",
    "df_adverse_event_groupby[is_invalid]"
   ]
  },
  {
   "cell_type": "markdown",
   "id": "422d8553-1aa9-4467-9f70-8ea595ffbe1e",
   "metadata": {},
   "source": [
    "### 02-14-2. check empty cells"
   ]
  },
  {
   "cell_type": "code",
   "execution_count": 150,
   "id": "21705d3b-c652-4117-b8ab-951f204dea0e",
   "metadata": {
    "execution": {
     "iopub.execute_input": "2025-05-10T00:13:44.025182Z",
     "iopub.status.busy": "2025-05-10T00:13:44.025071Z",
     "iopub.status.idle": "2025-05-10T00:13:44.031261Z",
     "shell.execute_reply": "2025-05-10T00:13:44.031006Z"
    }
   },
   "outputs": [
    {
     "name": "stdout",
     "output_type": "stream",
     "text": [
      "(0/56) column: center (18 / 0)\n",
      "(1/56) column: subjectID (18 / 0)\n",
      "(2/56) column: uniqueID (18 / 0)\n",
      "(3/56) column: SAECardiacExperienceComment (0 / 18)\n",
      "(4/56) column: SAEMetabolicAcidosisComment (0 / 18)\n",
      "(5/56) column: SAEThrombosisExperienceComment (0 / 18)\n",
      "(6/56) column: SAEBleedingExperienceComment (4 / 14)\n",
      "(7/56) column: SAEAlterationSkinIntegrity (2 / 16)\n",
      "(8/56) column: SAEAlterationSkinIntegrityComment (2 / 16)\n",
      "(9/56) column: SAEDeathComment (6 / 12)\n",
      "(10/56) column: adverseEventNumber (18 / 0)\n",
      "(11/56) column: SAECardiacExperienceOnsetDate (0 / 18)\n",
      "(12/56) column: SAECardiacExperienceOnsetTime (0 / 18)\n",
      "(13/56) column: SAECardiacExperienceResolveDate (0 / 18)\n",
      "(14/56) column: SAECardiacExperienceResolveTime (0 / 18)\n",
      "(15/56) column: SAECardiacExperienceActionTaken (0 / 18)\n",
      "(16/56) column: SAECardiacExperienceOutcome (0 / 18)\n",
      "(17/56) column: SAECardiacExperienceDueToHypothermia (0 / 18)\n",
      "(18/56) column: SAEMetabolicAcidosisOnsetDate (0 / 18)\n",
      "(19/56) column: SAEMetabolicAcidosisOnsetTime (0 / 18)\n",
      "(20/56) column: SAEMetabolicAcidosisResolveDate (0 / 18)\n",
      "(21/56) column: SAEMetabolicAcidosisResolveTime (0 / 18)\n",
      "(22/56) column: SAEMetabolicAcidosisActionTaken (0 / 18)\n",
      "(23/56) column: SAEMetabolicAcidosisOutcome (0 / 18)\n",
      "(24/56) column: SAEMetabolicAcidosisDueToHypothermia (0 / 18)\n",
      "(25/56) column: SAEThrombosisExperienceOnsetDate (0 / 18)\n",
      "(26/56) column: SAEThrombosisExperienceOnsetTime (0 / 18)\n",
      "(27/56) column: SAEThrombosisExperienceResolveDate (0 / 18)\n",
      "(28/56) column: SAEThrombosisExperienceResolveTime (0 / 18)\n",
      "(29/56) column: SAEThrombosisExperienceActionTaken (0 / 18)\n",
      "(30/56) column: SAEThrombosisExperienceOutcome (0 / 18)\n",
      "(31/56) column: SAEThrombosisExperienceDueToHypothermia (0 / 18)\n",
      "(32/56) column: SAEBleedingExperienceOnsetDate (5 / 13)\n",
      "(33/56) column: SAEBleedingExperienceOnsetTime (4 / 14)\n",
      "(34/56) column: SAEBleedingExperienceResolveDate (4 / 14)\n",
      "(35/56) column: SAEBleedingExperienceResolveTime (4 / 14)\n",
      "(36/56) column: SAEBleedingExperienceActionTaken (5 / 13)\n",
      "(37/56) column: SAEBleedingExperienceOutcome (5 / 13)\n",
      "(38/56) column: SAEBleedingExperienceDueToHypothermia (5 / 13)\n",
      "(39/56) column: SAEAlterationSkinIntegrityActionTaken (1 / 17)\n",
      "(40/56) column: SAEAlterationSkinIntegrityOutcome (1 / 17)\n",
      "(41/56) column: SAEAlterationSkinIntegrityDueToHypothermia (1 / 17)\n",
      "(42/56) column: SAEDeathDate (11 / 7)\n",
      "(43/56) column: SAEDeathTime (11 / 7)\n",
      "(44/56) column: SAEDeathActionTaken (11 / 7)\n",
      "(45/56) column: SAEDeathOutcome (11 / 7)\n",
      "(46/56) column: SAEDeathDueToHypothermia (11 / 7)\n",
      "(47/56) column: SAEOther (4 / 14)\n",
      "(48/56) column: SAEOtherComment (2 / 16)\n",
      "(49/56) column: SAEOtherOnsetDate (4 / 14)\n",
      "(50/56) column: SAEOtherOnsetTime (4 / 14)\n",
      "(51/56) column: SAEOtherResolveDate (1 / 17)\n",
      "(52/56) column: SAEOtherResolveTime (1 / 17)\n",
      "(53/56) column: SAEOtherActionTaken (4 / 14)\n",
      "(54/56) column: SAEOtherOutcome (4 / 14)\n",
      "(55/56) column: SAEOtherDueToHypothermia (4 / 14)\n"
     ]
    }
   ],
   "source": [
    "COMBINE_harmonizer.check_empty(df_adverse_event)"
   ]
  },
  {
   "cell_type": "code",
   "execution_count": 151,
   "id": "4e1b41ff-d52d-4f00-9a46-51d2800bce83",
   "metadata": {
    "execution": {
     "iopub.execute_input": "2025-05-10T00:13:44.032664Z",
     "iopub.status.busy": "2025-05-10T00:13:44.032559Z",
     "iopub.status.idle": "2025-05-10T00:13:44.037110Z",
     "shell.execute_reply": "2025-05-10T00:13:44.036839Z"
    }
   },
   "outputs": [
    {
     "name": "stdout",
     "output_type": "stream",
     "text": [
      "(0/56) center: (18/0)\n",
      "(1/56) subjectID: (18/0)\n",
      "(2/56) uniqueID: (18/0)\n",
      "(3/56) SAECardiacExperienceComment: (0/18)\n",
      "(4/56) SAEMetabolicAcidosisComment: (0/18)\n",
      "(5/56) SAEThrombosisExperienceComment: (0/18)\n",
      "(6/56) SAEBleedingExperienceComment: (4/14)\n",
      "(7/56) SAEAlterationSkinIntegrity: (2/16)\n",
      "(8/56) SAEAlterationSkinIntegrityComment: (2/16)\n",
      "(9/56) SAEDeathComment: (6/12)\n",
      "(10/56) adverseEventNumber: (18/0)\n",
      "(11/56) SAECardiacExperienceOnsetDate: (0/18)\n",
      "(12/56) SAECardiacExperienceOnsetTime: (0/18)\n",
      "(13/56) SAECardiacExperienceResolveDate: (0/18)\n",
      "(14/56) SAECardiacExperienceResolveTime: (0/18)\n",
      "(15/56) SAECardiacExperienceActionTaken: (0/18)\n",
      "(16/56) SAECardiacExperienceOutcome: (0/18)\n",
      "(17/56) SAECardiacExperienceDueToHypothermia: (0/18)\n",
      "(18/56) SAEMetabolicAcidosisOnsetDate: (0/18)\n",
      "(19/56) SAEMetabolicAcidosisOnsetTime: (0/18)\n",
      "(20/56) SAEMetabolicAcidosisResolveDate: (0/18)\n",
      "(21/56) SAEMetabolicAcidosisResolveTime: (0/18)\n",
      "(22/56) SAEMetabolicAcidosisActionTaken: (0/18)\n",
      "(23/56) SAEMetabolicAcidosisOutcome: (0/18)\n",
      "(24/56) SAEMetabolicAcidosisDueToHypothermia: (0/18)\n",
      "(25/56) SAEThrombosisExperienceOnsetDate: (0/18)\n",
      "(26/56) SAEThrombosisExperienceOnsetTime: (0/18)\n",
      "(27/56) SAEThrombosisExperienceResolveDate: (0/18)\n",
      "(28/56) SAEThrombosisExperienceResolveTime: (0/18)\n",
      "(29/56) SAEThrombosisExperienceActionTaken: (0/18)\n",
      "(30/56) SAEThrombosisExperienceOutcome: (0/18)\n",
      "(31/56) SAEThrombosisExperienceDueToHypothermia: (0/18)\n",
      "(32/56) SAEBleedingExperienceOnsetDate: (5/13)\n",
      "(33/56) SAEBleedingExperienceOnsetTime: (4/14)\n",
      "(34/56) SAEBleedingExperienceResolveDate: (4/14)\n",
      "(35/56) SAEBleedingExperienceResolveTime: (4/14)\n",
      "(36/56) SAEBleedingExperienceActionTaken: (5/13)\n",
      "(37/56) SAEBleedingExperienceOutcome: (5/13)\n",
      "(38/56) SAEBleedingExperienceDueToHypothermia: (5/13)\n",
      "(39/56) SAEAlterationSkinIntegrityActionTaken: (1/17)\n",
      "(40/56) SAEAlterationSkinIntegrityOutcome: (1/17)\n",
      "(41/56) SAEAlterationSkinIntegrityDueToHypothermia: (1/17)\n",
      "(42/56) SAEDeathDate: (11/7)\n",
      "(43/56) SAEDeathTime: (11/7)\n",
      "(44/56) SAEDeathActionTaken: (11/7)\n",
      "(45/56) SAEDeathOutcome: (11/7)\n",
      "(46/56) SAEDeathDueToHypothermia: (11/7)\n",
      "(47/56) SAEOther: (4/14)\n",
      "(48/56) SAEOtherComment: (2/16)\n",
      "(49/56) SAEOtherOnsetDate: (4/14)\n",
      "(50/56) SAEOtherOnsetTime: (4/14)\n",
      "(51/56) SAEOtherResolveDate: (1/17)\n",
      "(52/56) SAEOtherResolveTime: (1/17)\n",
      "(53/56) SAEOtherActionTaken: (4/14)\n",
      "(54/56) SAEOtherOutcome: (4/14)\n",
      "(55/56) SAEOtherDueToHypothermia: (4/14)\n"
     ]
    }
   ],
   "source": [
    "COMBINE_harmonizer.column_info(df_adverse_event)"
   ]
  },
  {
   "cell_type": "markdown",
   "id": "353298dc-0d11-4201-bf53-c943bb80ea72",
   "metadata": {},
   "source": [
    "## 02-15. violation"
   ]
  },
  {
   "cell_type": "code",
   "execution_count": 152,
   "id": "c1e08a23-d8f4-420c-a82d-9e713d8039f5",
   "metadata": {
    "execution": {
     "iopub.execute_input": "2025-05-10T00:13:44.038539Z",
     "iopub.status.busy": "2025-05-10T00:13:44.038440Z",
     "iopub.status.idle": "2025-05-10T00:13:44.041513Z",
     "shell.execute_reply": "2025-05-10T00:13:44.041277Z"
    }
   },
   "outputs": [
    {
     "data": {
      "text/plain": [
       "['violationNumber',\n",
       " 'violationDate',\n",
       " 'violationNature',\n",
       " 'violationTreatmentAssign',\n",
       " 'violationTreatmentReceive',\n",
       " 'violationOtherText',\n",
       " 'violationCircumstance',\n",
       " 'violationOtherCirumstanceText',\n",
       " 'violationComment']"
      ]
     },
     "execution_count": 152,
     "metadata": {},
     "output_type": "execute_result"
    }
   ],
   "source": [
    "violation_columns = COMBINE_harmonizer.get_columns(df_data_dict, 'Intervention', 'Violation')\n",
    "all_violation_columns = id_columns + violation_columns\n",
    "violation_columns"
   ]
  },
  {
   "cell_type": "code",
   "execution_count": 153,
   "id": "a84515e2",
   "metadata": {
    "execution": {
     "iopub.execute_input": "2025-05-10T00:13:44.042773Z",
     "iopub.status.busy": "2025-05-10T00:13:44.042686Z",
     "iopub.status.idle": "2025-05-10T00:13:44.099327Z",
     "shell.execute_reply": "2025-05-10T00:13:44.098924Z"
    }
   },
   "outputs": [
    {
     "name": "stdout",
     "output_type": "stream",
     "text": [
      "(4/14) LH14NAME not in columns\n",
      "(5/14) LH14INIT not in columns\n",
      "(6/14) REC_CMP not in columns\n",
      "(12/14) CMP_DATE not in columns\n",
      "(13/14) CRT_DATE not in columns\n",
      "(5/11) violationTreatmentAssign not in df\n",
      "(6/11) violationTreatmentReceive not in df\n"
     ]
    }
   ],
   "source": [
    "df_violation = df_dict['lh14.csv'].copy()\n",
    "df_violation = COMBINE_harmonizer.valid_columns(df_violation, all_violation_columns, debug_df=True, debug_columns=True)\n",
    "df_violation = COMBINE_harmonizer.postprocess(df_violation)\n",
    "\n",
    "out_filename = os.sep.join([out_dir, '02-15-violation.csv'])\n",
    "df_violation.to_csv(out_filename, index=False)"
   ]
  },
  {
   "cell_type": "markdown",
   "id": "a92846e0-3d67-4a93-8446-485215f2c736",
   "metadata": {},
   "source": [
    "### 02-15-1. check violation"
   ]
  },
  {
   "cell_type": "code",
   "execution_count": 154,
   "id": "94ba2232-d1b2-48b6-ac25-c04d45f19033",
   "metadata": {
    "execution": {
     "iopub.execute_input": "2025-05-10T00:13:44.101626Z",
     "iopub.status.busy": "2025-05-10T00:13:44.101399Z",
     "iopub.status.idle": "2025-05-10T00:13:44.107524Z",
     "shell.execute_reply": "2025-05-10T00:13:44.107243Z"
    }
   },
   "outputs": [
    {
     "data": {
      "text/html": [
       "<div>\n",
       "<style scoped>\n",
       "    .dataframe tbody tr th:only-of-type {\n",
       "        vertical-align: middle;\n",
       "    }\n",
       "\n",
       "    .dataframe tbody tr th {\n",
       "        vertical-align: top;\n",
       "    }\n",
       "\n",
       "    .dataframe thead th {\n",
       "        text-align: right;\n",
       "    }\n",
       "</style>\n",
       "<table border=\"1\" class=\"dataframe\">\n",
       "  <thead>\n",
       "    <tr style=\"text-align: right;\">\n",
       "      <th></th>\n",
       "      <th></th>\n",
       "      <th>_count</th>\n",
       "    </tr>\n",
       "    <tr>\n",
       "      <th>uniqueID</th>\n",
       "      <th>violationNumber</th>\n",
       "      <th></th>\n",
       "    </tr>\n",
       "  </thead>\n",
       "  <tbody>\n",
       "  </tbody>\n",
       "</table>\n",
       "</div>"
      ],
      "text/plain": [
       "Empty DataFrame\n",
       "Columns: [_count]\n",
       "Index: []"
      ]
     },
     "execution_count": 154,
     "metadata": {},
     "output_type": "execute_result"
    }
   ],
   "source": [
    "df_violation_groupby = df_violation.groupby(['uniqueID', 'violationNumber']).agg(_count=('uniqueID', 'count'))\n",
    "\n",
    "is_invalid = df_violation_groupby['_count'] > 1\n",
    "df_violation_groupby[is_invalid]"
   ]
  },
  {
   "cell_type": "markdown",
   "id": "1b59c5a2-7e51-4432-9e69-ab9f01fc95e7",
   "metadata": {},
   "source": [
    "### 02-15-2. check empty cells"
   ]
  },
  {
   "cell_type": "code",
   "execution_count": 155,
   "id": "dbbedbdf-24f3-4232-9cd3-b634c29a0dc2",
   "metadata": {
    "execution": {
     "iopub.execute_input": "2025-05-10T00:13:44.109129Z",
     "iopub.status.busy": "2025-05-10T00:13:44.108997Z",
     "iopub.status.idle": "2025-05-10T00:13:44.112037Z",
     "shell.execute_reply": "2025-05-10T00:13:44.111771Z"
    }
   },
   "outputs": [
    {
     "name": "stdout",
     "output_type": "stream",
     "text": [
      "(0/10) column: center (52 / 0)\n",
      "(1/10) column: subjectID (52 / 0)\n",
      "(2/10) column: uniqueID (52 / 0)\n",
      "(3/10) column: violationOtherText (36 / 16)\n",
      "(4/10) column: violationOtherCirumstanceText (41 / 11)\n",
      "(5/10) column: violationComment (34 / 18)\n",
      "(6/10) column: violationNumber (52 / 0)\n",
      "(7/10) column: violationDate (52 / 0)\n",
      "(8/10) column: violationNature (52 / 0)\n",
      "(9/10) column: violationCircumstance (52 / 0)\n"
     ]
    }
   ],
   "source": [
    "COMBINE_harmonizer.check_empty(df_violation)"
   ]
  },
  {
   "cell_type": "code",
   "execution_count": 156,
   "id": "3d567f12-e6f1-49de-b5f4-02b3f4856535",
   "metadata": {
    "execution": {
     "iopub.execute_input": "2025-05-10T00:13:44.113400Z",
     "iopub.status.busy": "2025-05-10T00:13:44.113300Z",
     "iopub.status.idle": "2025-05-10T00:13:44.115633Z",
     "shell.execute_reply": "2025-05-10T00:13:44.115373Z"
    }
   },
   "outputs": [
    {
     "name": "stdout",
     "output_type": "stream",
     "text": [
      "(0/10) center: (52/0)\n",
      "(1/10) subjectID: (52/0)\n",
      "(2/10) uniqueID: (52/0)\n",
      "(3/10) violationOtherText: (36/16)\n",
      "(4/10) violationOtherCirumstanceText: (41/11)\n",
      "(5/10) violationComment: (34/18)\n",
      "(6/10) violationNumber: (52/0)\n",
      "(7/10) violationDate: (52/0)\n",
      "(8/10) violationNature: (52/0)\n",
      "(9/10) violationCircumstance: (52/0)\n"
     ]
    }
   ],
   "source": [
    "COMBINE_harmonizer.column_info(df_violation)"
   ]
  },
  {
   "cell_type": "markdown",
   "id": "601b03f8-be9a-485d-ba52-b2586f6954aa",
   "metadata": {},
   "source": [
    "## 02-16. Interrupt"
   ]
  },
  {
   "cell_type": "code",
   "execution_count": null,
   "id": "8ac5c7cc-2d01-47af-b74c-4ecf1293a971",
   "metadata": {},
   "outputs": [],
   "source": []
  },
  {
   "cell_type": "markdown",
   "id": "bf2fa428",
   "metadata": {},
   "source": [
    "## 02-17. Discontinue"
   ]
  },
  {
   "cell_type": "code",
   "execution_count": 157,
   "id": "5b1399c6",
   "metadata": {
    "execution": {
     "iopub.execute_input": "2025-05-10T00:13:44.117087Z",
     "iopub.status.busy": "2025-05-10T00:13:44.116995Z",
     "iopub.status.idle": "2025-05-10T00:13:44.120351Z",
     "shell.execute_reply": "2025-05-10T00:13:44.120081Z"
    }
   },
   "outputs": [
    {
     "data": {
      "text/plain": [
       "['discontinueDate',\n",
       " 'discontinueTime',\n",
       " 'discontinueBeforeEndPeriod',\n",
       " 'discontinueParentsWithdraw',\n",
       " 'discontinuePhysicianWithdraw',\n",
       " 'discontinueAdverseEvent',\n",
       " 'discontinueECMO',\n",
       " 'discontinueDNR',\n",
       " 'discontinueWdrawSupport',\n",
       " 'discontinueDeath',\n",
       " 'discontinueOther',\n",
       " 'discontinueOtherText']"
      ]
     },
     "execution_count": 157,
     "metadata": {},
     "output_type": "execute_result"
    }
   ],
   "source": [
    "discontinue_columns = COMBINE_harmonizer.get_columns(df_data_dict, 'Intervention', 'Discontinue')\n",
    "all_discontinue_columns = id_columns + discontinue_columns\n",
    "discontinue_columns"
   ]
  },
  {
   "cell_type": "code",
   "execution_count": 158,
   "id": "d4b6fbf3",
   "metadata": {
    "execution": {
     "iopub.execute_input": "2025-05-10T00:13:44.121742Z",
     "iopub.status.busy": "2025-05-10T00:13:44.121635Z",
     "iopub.status.idle": "2025-05-10T00:13:44.177280Z",
     "shell.execute_reply": "2025-05-10T00:13:44.176980Z"
    }
   },
   "outputs": [
    {
     "name": "stdout",
     "output_type": "stream",
     "text": [
      "(9/14) discontinueDNR not in df\n",
      "(10/14) discontinueWdrawSupport not in df\n"
     ]
    }
   ],
   "source": [
    "df_discontinue = COMBINE_harmonizer.valid_columns(df_main, all_discontinue_columns, debug_df=False, debug_columns=True)\n",
    "df_discontinue = COMBINE_harmonizer.postprocess(df_discontinue)\n",
    "\n",
    "out_filename = os.sep.join([out_dir, '02-17-discontinue.csv'])\n",
    "df_discontinue.to_csv(out_filename, index=False)"
   ]
  },
  {
   "cell_type": "markdown",
   "id": "6aed7f6d",
   "metadata": {},
   "source": [
    "### 02-17-1. check discontinue"
   ]
  },
  {
   "cell_type": "code",
   "execution_count": 159,
   "id": "4cb24da9",
   "metadata": {
    "execution": {
     "iopub.execute_input": "2025-05-10T00:13:44.179096Z",
     "iopub.status.busy": "2025-05-10T00:13:44.178978Z",
     "iopub.status.idle": "2025-05-10T00:13:44.184808Z",
     "shell.execute_reply": "2025-05-10T00:13:44.184339Z"
    }
   },
   "outputs": [
    {
     "data": {
      "text/html": [
       "<div>\n",
       "<style scoped>\n",
       "    .dataframe tbody tr th:only-of-type {\n",
       "        vertical-align: middle;\n",
       "    }\n",
       "\n",
       "    .dataframe tbody tr th {\n",
       "        vertical-align: top;\n",
       "    }\n",
       "\n",
       "    .dataframe thead th {\n",
       "        text-align: right;\n",
       "    }\n",
       "</style>\n",
       "<table border=\"1\" class=\"dataframe\">\n",
       "  <thead>\n",
       "    <tr style=\"text-align: right;\">\n",
       "      <th></th>\n",
       "      <th>_count</th>\n",
       "    </tr>\n",
       "    <tr>\n",
       "      <th>uniqueID</th>\n",
       "      <th></th>\n",
       "    </tr>\n",
       "  </thead>\n",
       "  <tbody>\n",
       "  </tbody>\n",
       "</table>\n",
       "</div>"
      ],
      "text/plain": [
       "Empty DataFrame\n",
       "Columns: [_count]\n",
       "Index: []"
      ]
     },
     "execution_count": 159,
     "metadata": {},
     "output_type": "execute_result"
    }
   ],
   "source": [
    "df_continue_groupby = df_discontinue.groupby(['uniqueID']).agg(_count=('uniqueID', 'count'))\n",
    "\n",
    "is_invalid = df_continue_groupby['_count'] > 1\n",
    "df_continue_groupby[is_invalid]"
   ]
  },
  {
   "cell_type": "markdown",
   "id": "cfb1323e",
   "metadata": {},
   "source": [
    "### 02-17-2. check empty cells"
   ]
  },
  {
   "cell_type": "code",
   "execution_count": 160,
   "id": "17a202dc",
   "metadata": {
    "execution": {
     "iopub.execute_input": "2025-05-10T00:13:44.186488Z",
     "iopub.status.busy": "2025-05-10T00:13:44.186337Z",
     "iopub.status.idle": "2025-05-10T00:13:44.189571Z",
     "shell.execute_reply": "2025-05-10T00:13:44.189291Z"
    }
   },
   "outputs": [
    {
     "name": "stdout",
     "output_type": "stream",
     "text": [
      "(0/13) column: center (168 / 0)\n",
      "(1/13) column: subjectID (168 / 0)\n",
      "(2/13) column: uniqueID (168 / 0)\n",
      "(3/13) column: discontinueBeforeEndPeriod (168 / 0)\n",
      "(4/13) column: discontinueParentsWithdraw (23 / 145)\n",
      "(5/13) column: discontinuePhysicianWithdraw (23 / 145)\n",
      "(6/13) column: discontinueAdverseEvent (23 / 145)\n",
      "(7/13) column: discontinueECMO (23 / 145)\n",
      "(8/13) column: discontinueDeath (23 / 145)\n",
      "(9/13) column: discontinueOther (23 / 145)\n",
      "(10/13) column: discontinueOtherText (9 / 159)\n",
      "(11/13) column: discontinueDate (23 / 145)\n",
      "(12/13) column: discontinueTime (23 / 145)\n"
     ]
    }
   ],
   "source": [
    "COMBINE_harmonizer.check_empty(df_discontinue)"
   ]
  },
  {
   "cell_type": "code",
   "execution_count": 161,
   "id": "fac4a4e3",
   "metadata": {
    "execution": {
     "iopub.execute_input": "2025-05-10T00:13:44.190900Z",
     "iopub.status.busy": "2025-05-10T00:13:44.190812Z",
     "iopub.status.idle": "2025-05-10T00:13:44.193244Z",
     "shell.execute_reply": "2025-05-10T00:13:44.192971Z"
    }
   },
   "outputs": [
    {
     "name": "stdout",
     "output_type": "stream",
     "text": [
      "(0/13) center: (168/0)\n",
      "(1/13) subjectID: (168/0)\n",
      "(2/13) uniqueID: (168/0)\n",
      "(3/13) discontinueBeforeEndPeriod: (168/0)\n",
      "(4/13) discontinueParentsWithdraw: (23/145)\n",
      "(5/13) discontinuePhysicianWithdraw: (23/145)\n",
      "(6/13) discontinueAdverseEvent: (23/145)\n",
      "(7/13) discontinueECMO: (23/145)\n",
      "(8/13) discontinueDeath: (23/145)\n",
      "(9/13) discontinueOther: (23/145)\n",
      "(10/13) discontinueOtherText: (9/159)\n",
      "(11/13) discontinueDate: (23/145)\n",
      "(12/13) discontinueTime: (23/145)\n"
     ]
    }
   ],
   "source": [
    "COMBINE_harmonizer.column_info(df_discontinue)"
   ]
  },
  {
   "cell_type": "markdown",
   "id": "5d778347",
   "metadata": {},
   "source": [
    "## 04-16. Wdraw Support"
   ]
  },
  {
   "cell_type": "code",
   "execution_count": 162,
   "id": "ab8160e5",
   "metadata": {
    "execution": {
     "iopub.execute_input": "2025-05-10T00:13:44.194555Z",
     "iopub.status.busy": "2025-05-10T00:13:44.194467Z",
     "iopub.status.idle": "2025-05-10T00:13:44.197213Z",
     "shell.execute_reply": "2025-05-10T00:13:44.196978Z"
    }
   },
   "outputs": [
    {
     "data": {
      "text/plain": [
       "['wdrawSupport',\n",
       " 'wdrawSupportDate',\n",
       " 'wdrawSupportTime',\n",
       " 'wdrawSupportDiscussedWithFamily',\n",
       " 'wdrawSupportRecommendSolelyByClinicalTeam',\n",
       " 'wdrawSupportNeurologicalExam',\n",
       " 'wdrawSupportImagingStudy',\n",
       " 'wdrawSupportEEGFinding',\n",
       " 'wdrawSupportMultisystemOrganFailureOtherThanCNS',\n",
       " 'wdrawSupportBrainBloodFlowScan',\n",
       " 'wdrawSupportParentWish',\n",
       " 'wdrawSupportOther',\n",
       " 'wdrawSupportOtherText']"
      ]
     },
     "execution_count": 162,
     "metadata": {},
     "output_type": "execute_result"
    }
   ],
   "source": [
    "wdraw_support_columns = COMBINE_harmonizer.get_columns(df_data_dict, 'NICU Discharge', 'Withdrawal of Support')\n",
    "all_wdraw_support_columns = id_columns + wdraw_support_columns\n",
    "wdraw_support_columns"
   ]
  },
  {
   "cell_type": "code",
   "execution_count": 163,
   "id": "3245b099",
   "metadata": {
    "execution": {
     "iopub.execute_input": "2025-05-10T00:13:44.198559Z",
     "iopub.status.busy": "2025-05-10T00:13:44.198479Z",
     "iopub.status.idle": "2025-05-10T00:13:44.251601Z",
     "shell.execute_reply": "2025-05-10T00:13:44.251151Z"
    }
   },
   "outputs": [],
   "source": [
    "df_wdraw_support = COMBINE_harmonizer.valid_columns(df_main, all_wdraw_support_columns, debug_df=False, debug_columns=True)\n",
    "df_wdraw_support = COMBINE_harmonizer.postprocess(df_wdraw_support)\n",
    "\n",
    "out_filename = os.sep.join([out_dir, '04-16-wdraw-support.csv'])\n",
    "df_wdraw_support.to_csv(out_filename, index=False)"
   ]
  },
  {
   "cell_type": "markdown",
   "id": "0dc91452",
   "metadata": {},
   "source": [
    "### 04-16-1. check wdraw support"
   ]
  },
  {
   "cell_type": "code",
   "execution_count": 164,
   "id": "9fb48ab0",
   "metadata": {
    "execution": {
     "iopub.execute_input": "2025-05-10T00:13:44.253383Z",
     "iopub.status.busy": "2025-05-10T00:13:44.253225Z",
     "iopub.status.idle": "2025-05-10T00:13:44.259601Z",
     "shell.execute_reply": "2025-05-10T00:13:44.259312Z"
    }
   },
   "outputs": [
    {
     "data": {
      "text/html": [
       "<div>\n",
       "<style scoped>\n",
       "    .dataframe tbody tr th:only-of-type {\n",
       "        vertical-align: middle;\n",
       "    }\n",
       "\n",
       "    .dataframe tbody tr th {\n",
       "        vertical-align: top;\n",
       "    }\n",
       "\n",
       "    .dataframe thead th {\n",
       "        text-align: right;\n",
       "    }\n",
       "</style>\n",
       "<table border=\"1\" class=\"dataframe\">\n",
       "  <thead>\n",
       "    <tr style=\"text-align: right;\">\n",
       "      <th></th>\n",
       "      <th>_count</th>\n",
       "    </tr>\n",
       "    <tr>\n",
       "      <th>uniqueID</th>\n",
       "      <th></th>\n",
       "    </tr>\n",
       "  </thead>\n",
       "  <tbody>\n",
       "  </tbody>\n",
       "</table>\n",
       "</div>"
      ],
      "text/plain": [
       "Empty DataFrame\n",
       "Columns: [_count]\n",
       "Index: []"
      ]
     },
     "execution_count": 164,
     "metadata": {},
     "output_type": "execute_result"
    }
   ],
   "source": [
    "df_wdraw_support_groupby = df_wdraw_support.groupby(['uniqueID']).agg(_count=('uniqueID', 'count'))\n",
    "\n",
    "is_invalid = df_wdraw_support_groupby['_count'] > 1\n",
    "df_wdraw_support_groupby[is_invalid]"
   ]
  },
  {
   "cell_type": "markdown",
   "id": "f230b5de",
   "metadata": {},
   "source": [
    "### 04-16-2. check empty cells"
   ]
  },
  {
   "cell_type": "code",
   "execution_count": 165,
   "id": "82653982",
   "metadata": {
    "execution": {
     "iopub.execute_input": "2025-05-10T00:13:44.261207Z",
     "iopub.status.busy": "2025-05-10T00:13:44.261063Z",
     "iopub.status.idle": "2025-05-10T00:13:44.264574Z",
     "shell.execute_reply": "2025-05-10T00:13:44.264298Z"
    }
   },
   "outputs": [
    {
     "name": "stdout",
     "output_type": "stream",
     "text": [
      "(0/16) column: center (168 / 0)\n",
      "(1/16) column: subjectID (168 / 0)\n",
      "(2/16) column: uniqueID (168 / 0)\n",
      "(3/16) column: wdrawSupportDiscussedWithFamily (168 / 0)\n",
      "(4/16) column: wdrawSupportNeurologicalExam (19 / 149)\n",
      "(5/16) column: wdrawSupportImagingStudy (19 / 149)\n",
      "(6/16) column: wdrawSupportEEGFinding (19 / 149)\n",
      "(7/16) column: wdrawSupportMultisystemOrganFailureOtherThanCNS (19 / 149)\n",
      "(8/16) column: wdrawSupportBrainBloodFlowScan (19 / 149)\n",
      "(9/16) column: wdrawSupportParentWish (19 / 149)\n",
      "(10/16) column: wdrawSupportOther (19 / 149)\n",
      "(11/16) column: wdrawSupportOtherText (1 / 167)\n",
      "(12/16) column: wdrawSupport (19 / 149)\n",
      "(13/16) column: wdrawSupportRecommendSolelyByClinicalTeam (19 / 149)\n",
      "(14/16) column: wdrawSupportDate (18 / 150)\n",
      "(15/16) column: wdrawSupportTime (18 / 150)\n"
     ]
    }
   ],
   "source": [
    "COMBINE_harmonizer.check_empty(df_wdraw_support)"
   ]
  },
  {
   "cell_type": "code",
   "execution_count": 166,
   "id": "323b07b4",
   "metadata": {
    "execution": {
     "iopub.execute_input": "2025-05-10T00:13:44.265888Z",
     "iopub.status.busy": "2025-05-10T00:13:44.265789Z",
     "iopub.status.idle": "2025-05-10T00:13:44.268530Z",
     "shell.execute_reply": "2025-05-10T00:13:44.268283Z"
    }
   },
   "outputs": [
    {
     "name": "stdout",
     "output_type": "stream",
     "text": [
      "(0/16) center: (168/0)\n",
      "(1/16) subjectID: (168/0)\n",
      "(2/16) uniqueID: (168/0)\n",
      "(3/16) wdrawSupportDiscussedWithFamily: (168/0)\n",
      "(4/16) wdrawSupportNeurologicalExam: (19/149)\n",
      "(5/16) wdrawSupportImagingStudy: (19/149)\n",
      "(6/16) wdrawSupportEEGFinding: (19/149)\n",
      "(7/16) wdrawSupportMultisystemOrganFailureOtherThanCNS: (19/149)\n",
      "(8/16) wdrawSupportBrainBloodFlowScan: (19/149)\n",
      "(9/16) wdrawSupportParentWish: (19/149)\n",
      "(10/16) wdrawSupportOther: (19/149)\n",
      "(11/16) wdrawSupportOtherText: (1/167)\n",
      "(12/16) wdrawSupport: (19/149)\n",
      "(13/16) wdrawSupportRecommendSolelyByClinicalTeam: (19/149)\n",
      "(14/16) wdrawSupportDate: (18/150)\n",
      "(15/16) wdrawSupportTime: (18/150)\n"
     ]
    }
   ],
   "source": [
    "COMBINE_harmonizer.column_info(df_wdraw_support)"
   ]
  },
  {
   "cell_type": "code",
   "execution_count": null,
   "id": "f5eff588",
   "metadata": {},
   "outputs": [],
   "source": []
  },
  {
   "cell_type": "markdown",
   "id": "92e9d9b9",
   "metadata": {},
   "source": [
    "## 04-17. Limitation of Care"
   ]
  },
  {
   "cell_type": "code",
   "execution_count": 167,
   "id": "9b972c58",
   "metadata": {
    "execution": {
     "iopub.execute_input": "2025-05-10T00:13:44.270037Z",
     "iopub.status.busy": "2025-05-10T00:13:44.269952Z",
     "iopub.status.idle": "2025-05-10T00:13:44.272668Z",
     "shell.execute_reply": "2025-05-10T00:13:44.272417Z"
    }
   },
   "outputs": [
    {
     "data": {
      "text/plain": [
       "['limitCareDiscussedWithFamily',\n",
       " 'limitCareRecommendSolelyByClinicalTeam',\n",
       " 'limitCareAgreedByFamilyAndCareTeam',\n",
       " 'limitCareNoFurtherMechanicalVentilationAndIntubation',\n",
       " 'limitCareNoFurtherVentilationWithBagAndMask',\n",
       " 'limitCareNoFurtherMedicationsToSupportBP',\n",
       " 'limitCareNoFurtherChestCompression',\n",
       " 'limitCareNoFurtherEmergencyMedication',\n",
       " 'limitCareDNR',\n",
       " 'limitCareDNRDate',\n",
       " 'limitCareDNRTime']"
      ]
     },
     "execution_count": 167,
     "metadata": {},
     "output_type": "execute_result"
    }
   ],
   "source": [
    "limit_care_columns = COMBINE_harmonizer.get_columns(df_data_dict, 'NICU Discharge', 'Limitation of Care')\n",
    "all_limit_care_columns = id_columns + limit_care_columns\n",
    "limit_care_columns"
   ]
  },
  {
   "cell_type": "code",
   "execution_count": 168,
   "id": "0a92c6c4",
   "metadata": {
    "execution": {
     "iopub.execute_input": "2025-05-10T00:13:44.274013Z",
     "iopub.status.busy": "2025-05-10T00:13:44.273923Z",
     "iopub.status.idle": "2025-05-10T00:13:44.333155Z",
     "shell.execute_reply": "2025-05-10T00:13:44.332764Z"
    }
   },
   "outputs": [],
   "source": [
    "df_limit_care = COMBINE_harmonizer.valid_columns(df_main, all_limit_care_columns, debug_df=False, debug_columns=True)\n",
    "df_limit_care = COMBINE_harmonizer.postprocess(df_limit_care)\n",
    "\n",
    "out_filename = os.sep.join([out_dir, '04-17-limit-care.csv'])\n",
    "df_limit_care.to_csv(out_filename, index=False)"
   ]
  },
  {
   "cell_type": "markdown",
   "id": "0f06d337",
   "metadata": {},
   "source": [
    "### 04-17-1. check limit care"
   ]
  },
  {
   "cell_type": "code",
   "execution_count": 169,
   "id": "7844cbc1",
   "metadata": {
    "execution": {
     "iopub.execute_input": "2025-05-10T00:13:44.334902Z",
     "iopub.status.busy": "2025-05-10T00:13:44.334791Z",
     "iopub.status.idle": "2025-05-10T00:13:44.340641Z",
     "shell.execute_reply": "2025-05-10T00:13:44.340385Z"
    }
   },
   "outputs": [
    {
     "data": {
      "text/html": [
       "<div>\n",
       "<style scoped>\n",
       "    .dataframe tbody tr th:only-of-type {\n",
       "        vertical-align: middle;\n",
       "    }\n",
       "\n",
       "    .dataframe tbody tr th {\n",
       "        vertical-align: top;\n",
       "    }\n",
       "\n",
       "    .dataframe thead th {\n",
       "        text-align: right;\n",
       "    }\n",
       "</style>\n",
       "<table border=\"1\" class=\"dataframe\">\n",
       "  <thead>\n",
       "    <tr style=\"text-align: right;\">\n",
       "      <th></th>\n",
       "      <th>_count</th>\n",
       "    </tr>\n",
       "    <tr>\n",
       "      <th>uniqueID</th>\n",
       "      <th></th>\n",
       "    </tr>\n",
       "  </thead>\n",
       "  <tbody>\n",
       "  </tbody>\n",
       "</table>\n",
       "</div>"
      ],
      "text/plain": [
       "Empty DataFrame\n",
       "Columns: [_count]\n",
       "Index: []"
      ]
     },
     "execution_count": 169,
     "metadata": {},
     "output_type": "execute_result"
    }
   ],
   "source": [
    "df_limit_care_groupby = df_limit_care.groupby(['uniqueID']).agg(_count=('uniqueID', 'count'))\n",
    "\n",
    "is_invalid = df_limit_care_groupby['_count'] > 1\n",
    "df_limit_care_groupby[is_invalid]"
   ]
  },
  {
   "cell_type": "markdown",
   "id": "6390c3d3",
   "metadata": {},
   "source": [
    "### 04-17-2. check empty cells"
   ]
  },
  {
   "cell_type": "code",
   "execution_count": 170,
   "id": "63e3d4fe",
   "metadata": {
    "execution": {
     "iopub.execute_input": "2025-05-10T00:13:44.342084Z",
     "iopub.status.busy": "2025-05-10T00:13:44.341991Z",
     "iopub.status.idle": "2025-05-10T00:13:44.345114Z",
     "shell.execute_reply": "2025-05-10T00:13:44.344849Z"
    }
   },
   "outputs": [
    {
     "name": "stdout",
     "output_type": "stream",
     "text": [
      "(0/14) column: center (168 / 0)\n",
      "(1/14) column: subjectID (168 / 0)\n",
      "(2/14) column: uniqueID (168 / 0)\n",
      "(3/14) column: limitCareDiscussedWithFamily (168 / 0)\n",
      "(4/14) column: limitCareAgreedByFamilyAndCareTeam (13 / 155)\n",
      "(5/14) column: limitCareNoFurtherMechanicalVentilationAndIntubation (13 / 155)\n",
      "(6/14) column: limitCareNoFurtherVentilationWithBagAndMask (13 / 155)\n",
      "(7/14) column: limitCareNoFurtherMedicationsToSupportBP (13 / 155)\n",
      "(8/14) column: limitCareNoFurtherChestCompression (13 / 155)\n",
      "(9/14) column: limitCareNoFurtherEmergencyMedication (13 / 155)\n",
      "(10/14) column: limitCareDNR (168 / 0)\n",
      "(11/14) column: limitCareRecommendSolelyByClinicalTeam (14 / 154)\n",
      "(12/14) column: limitCareDNRDate (15 / 153)\n",
      "(13/14) column: limitCareDNRTime (15 / 153)\n"
     ]
    }
   ],
   "source": [
    "COMBINE_harmonizer.check_empty(df_limit_care)"
   ]
  },
  {
   "cell_type": "code",
   "execution_count": 171,
   "id": "279ffebd",
   "metadata": {
    "execution": {
     "iopub.execute_input": "2025-05-10T00:13:44.346436Z",
     "iopub.status.busy": "2025-05-10T00:13:44.346325Z",
     "iopub.status.idle": "2025-05-10T00:13:44.348857Z",
     "shell.execute_reply": "2025-05-10T00:13:44.348608Z"
    }
   },
   "outputs": [
    {
     "name": "stdout",
     "output_type": "stream",
     "text": [
      "(0/14) center: (168/0)\n",
      "(1/14) subjectID: (168/0)\n",
      "(2/14) uniqueID: (168/0)\n",
      "(3/14) limitCareDiscussedWithFamily: (168/0)\n",
      "(4/14) limitCareAgreedByFamilyAndCareTeam: (13/155)\n",
      "(5/14) limitCareNoFurtherMechanicalVentilationAndIntubation: (13/155)\n",
      "(6/14) limitCareNoFurtherVentilationWithBagAndMask: (13/155)\n",
      "(7/14) limitCareNoFurtherMedicationsToSupportBP: (13/155)\n",
      "(8/14) limitCareNoFurtherChestCompression: (13/155)\n",
      "(9/14) limitCareNoFurtherEmergencyMedication: (13/155)\n",
      "(10/14) limitCareDNR: (168/0)\n",
      "(11/14) limitCareRecommendSolelyByClinicalTeam: (14/154)\n",
      "(12/14) limitCareDNRDate: (15/153)\n",
      "(13/14) limitCareDNRTime: (15/153)\n"
     ]
    }
   ],
   "source": [
    "COMBINE_harmonizer.column_info(df_limit_care)"
   ]
  },
  {
   "cell_type": "markdown",
   "id": "bfa66b49",
   "metadata": {},
   "source": [
    "## 04-01. Status"
   ]
  },
  {
   "cell_type": "code",
   "execution_count": 172,
   "id": "a35cf672",
   "metadata": {
    "execution": {
     "iopub.execute_input": "2025-05-10T00:13:44.350236Z",
     "iopub.status.busy": "2025-05-10T00:13:44.350138Z",
     "iopub.status.idle": "2025-05-10T00:13:44.353121Z",
     "shell.execute_reply": "2025-05-10T00:13:44.352857Z"
    }
   },
   "outputs": [
    {
     "data": {
      "text/plain": [
       "['experimentStatus',\n",
       " 'status',\n",
       " 'statusDate',\n",
       " 'dischargeStatus',\n",
       " 'dischargeDate',\n",
       " 'dischargeWeight_g',\n",
       " 'dischargeLength_cm',\n",
       " 'dischargeHeadCircumference_cm',\n",
       " 'transferReason',\n",
       " 'transferDate',\n",
       " 'transferWeight_g',\n",
       " 'transferLength_cm',\n",
       " 'transferHeadCircumference_cm',\n",
       " 'transferOutcome',\n",
       " 'homeTherapyStatus',\n",
       " 'homeTherapyVentilator',\n",
       " 'homeTherapyOxygen',\n",
       " 'homeTherapyGavageTubeFeed',\n",
       " 'homeTherapyGastrostomyTubeFeed',\n",
       " 'homeTherapyTemperatureBlanket',\n",
       " 'homeTherapyAnticonvulsantMedication',\n",
       " 'homeTherapyOther',\n",
       " 'homeTherapyOtherText',\n",
       " 'deathDate',\n",
       " 'deathTime',\n",
       " 'deathAge_day',\n",
       " 'deathAutopsy',\n",
       " 'deathCause',\n",
       " 'deathCauseText',\n",
       " 'deathSrc',\n",
       " 'lengthOfStay_day']"
      ]
     },
     "execution_count": 172,
     "metadata": {},
     "output_type": "execute_result"
    }
   ],
   "source": [
    "status_columns = COMBINE_harmonizer.get_columns(df_data_dict, 'NICU Discharge', 'Status')\n",
    "all_status_columns = id_columns + status_columns\n",
    "status_columns"
   ]
  },
  {
   "cell_type": "code",
   "execution_count": 173,
   "id": "261e7438",
   "metadata": {
    "execution": {
     "iopub.execute_input": "2025-05-10T00:13:44.354532Z",
     "iopub.status.busy": "2025-05-10T00:13:44.354408Z",
     "iopub.status.idle": "2025-05-10T00:13:44.356864Z",
     "shell.execute_reply": "2025-05-10T00:13:44.356637Z"
    }
   },
   "outputs": [
    {
     "name": "stdout",
     "output_type": "stream",
     "text": [
      "(2/33) experimentStatus not in df\n",
      "(4/33) statusDate not in df\n",
      "(27/33) deathAge_day not in df\n",
      "(32/33) lengthOfStay_day not in df\n"
     ]
    }
   ],
   "source": [
    "df_status = COMBINE_harmonizer.valid_columns(df_main, all_status_columns, debug_df=False, debug_columns=True)\n"
   ]
  },
  {
   "cell_type": "code",
   "execution_count": 174,
   "id": "09b1527b",
   "metadata": {
    "execution": {
     "iopub.execute_input": "2025-05-10T00:13:44.358060Z",
     "iopub.status.busy": "2025-05-10T00:13:44.357967Z",
     "iopub.status.idle": "2025-05-10T00:13:44.360148Z",
     "shell.execute_reply": "2025-05-10T00:13:44.359890Z"
    }
   },
   "outputs": [
    {
     "data": {
      "text/plain": [
       "array(['1', '4', '2'], dtype=object)"
      ]
     },
     "execution_count": 174,
     "metadata": {},
     "output_type": "execute_result"
    }
   ],
   "source": [
    "df_status['status'].unique()"
   ]
  },
  {
   "cell_type": "code",
   "execution_count": 175,
   "id": "72593764",
   "metadata": {
    "execution": {
     "iopub.execute_input": "2025-05-10T00:13:44.361352Z",
     "iopub.status.busy": "2025-05-10T00:13:44.361246Z",
     "iopub.status.idle": "2025-05-10T00:13:44.417832Z",
     "shell.execute_reply": "2025-05-10T00:13:44.417503Z"
    }
   },
   "outputs": [],
   "source": [
    "# statusDate\n",
    "is_discharge = df_status['status'].isin(['1', '1.0'])\n",
    "df_status.loc[is_discharge, 'statusDate'] = df_status.loc[is_discharge, 'dischargeDate']\n",
    "\n",
    "is_transfer = df_status['status'].isin(['2', '2.0', '3', '3.0'])\n",
    "df_status.loc[is_transfer, 'statusDate'] = df_status.loc[is_transfer, 'transferDate']\n",
    "\n",
    "is_died = df_status['status'].isin(['4', '4.0'])\n",
    "df_status.loc[is_died, 'statusDate'] = df_status.loc[is_died, 'deathDate']\n",
    "\n",
    "df_status = COMBINE_harmonizer.postprocess(df_status)\n",
    "\n",
    "out_filename = os.sep.join([out_dir, '04-01-status.csv'])\n",
    "df_status.to_csv(out_filename, index=False)"
   ]
  },
  {
   "cell_type": "markdown",
   "id": "566a10ec",
   "metadata": {},
   "source": [
    "### 04-01-2. check empty cells"
   ]
  },
  {
   "cell_type": "code",
   "execution_count": 176,
   "id": "90ba7908",
   "metadata": {
    "execution": {
     "iopub.execute_input": "2025-05-10T00:13:44.419524Z",
     "iopub.status.busy": "2025-05-10T00:13:44.419430Z",
     "iopub.status.idle": "2025-05-10T00:13:44.424482Z",
     "shell.execute_reply": "2025-05-10T00:13:44.424207Z"
    }
   },
   "outputs": [
    {
     "name": "stdout",
     "output_type": "stream",
     "text": [
      "(0/31) column: center (168 / 0)\n",
      "(1/31) column: subjectID (168 / 0)\n",
      "(2/31) column: uniqueID (168 / 0)\n",
      "(3/31) column: homeTherapyStatus (15 / 153)\n",
      "(4/31) column: homeTherapyVentilator (13 / 155)\n",
      "(5/31) column: homeTherapyOxygen (13 / 155)\n",
      "(6/31) column: homeTherapyGavageTubeFeed (13 / 155)\n",
      "(7/31) column: homeTherapyGastrostomyTubeFeed (13 / 155)\n",
      "(8/31) column: homeTherapyTemperatureBlanket (13 / 155)\n",
      "(9/31) column: homeTherapyAnticonvulsantMedication (13 / 155)\n",
      "(10/31) column: homeTherapyOther (13 / 155)\n",
      "(11/31) column: homeTherapyOtherText (1 / 167)\n",
      "(12/31) column: deathAutopsy (16 / 152)\n",
      "(13/31) column: deathCauseText (3 / 165)\n",
      "(14/31) column: status (168 / 0)\n",
      "(15/31) column: dischargeDate (136 / 32)\n",
      "(16/31) column: dischargeWeight_g (136 / 32)\n",
      "(17/31) column: dischargeLength_cm (126 / 42)\n",
      "(18/31) column: dischargeHeadCircumference_cm (128 / 40)\n",
      "(19/31) column: transferReason (16 / 152)\n",
      "(20/31) column: transferDate (16 / 152)\n",
      "(21/31) column: transferWeight_g (16 / 152)\n",
      "(22/31) column: transferLength_cm (13 / 155)\n",
      "(23/31) column: transferHeadCircumference_cm (13 / 155)\n",
      "(24/31) column: transferOutcome (15 / 153)\n",
      "(25/31) column: deathDate (16 / 152)\n",
      "(26/31) column: deathTime (16 / 152)\n",
      "(27/31) column: deathCause (16 / 152)\n",
      "(28/31) column: deathSrc (16 / 152)\n",
      "(29/31) column: dischargeStatus (168 / 0)\n",
      "(30/31) column: statusDate (168 / 0)\n"
     ]
    }
   ],
   "source": [
    "COMBINE_harmonizer.check_empty(df_status)"
   ]
  },
  {
   "cell_type": "code",
   "execution_count": 177,
   "id": "b749133f",
   "metadata": {
    "execution": {
     "iopub.execute_input": "2025-05-10T00:13:44.425817Z",
     "iopub.status.busy": "2025-05-10T00:13:44.425729Z",
     "iopub.status.idle": "2025-05-10T00:13:44.429143Z",
     "shell.execute_reply": "2025-05-10T00:13:44.428889Z"
    }
   },
   "outputs": [
    {
     "name": "stdout",
     "output_type": "stream",
     "text": [
      "(0/31) center: (168/0)\n",
      "(1/31) subjectID: (168/0)\n",
      "(2/31) uniqueID: (168/0)\n",
      "(3/31) homeTherapyStatus: (15/153)\n",
      "(4/31) homeTherapyVentilator: (13/155)\n",
      "(5/31) homeTherapyOxygen: (13/155)\n",
      "(6/31) homeTherapyGavageTubeFeed: (13/155)\n",
      "(7/31) homeTherapyGastrostomyTubeFeed: (13/155)\n",
      "(8/31) homeTherapyTemperatureBlanket: (13/155)\n",
      "(9/31) homeTherapyAnticonvulsantMedication: (13/155)\n",
      "(10/31) homeTherapyOther: (13/155)\n",
      "(11/31) homeTherapyOtherText: (1/167)\n",
      "(12/31) deathAutopsy: (16/152)\n",
      "(13/31) deathCauseText: (3/165)\n",
      "(14/31) status: (168/0)\n",
      "(15/31) dischargeDate: (136/32)\n",
      "(16/31) dischargeWeight_g: (136/32)\n",
      "(17/31) dischargeLength_cm: (126/42)\n",
      "(18/31) dischargeHeadCircumference_cm: (128/40)\n",
      "(19/31) transferReason: (16/152)\n",
      "(20/31) transferDate: (16/152)\n",
      "(21/31) transferWeight_g: (16/152)\n",
      "(22/31) transferLength_cm: (13/155)\n",
      "(23/31) transferHeadCircumference_cm: (13/155)\n",
      "(24/31) transferOutcome: (15/153)\n",
      "(25/31) deathDate: (16/152)\n",
      "(26/31) deathTime: (16/152)\n",
      "(27/31) deathCause: (16/152)\n",
      "(28/31) deathSrc: (16/152)\n",
      "(29/31) dischargeStatus: (168/0)\n",
      "(30/31) statusDate: (168/0)\n"
     ]
    }
   ],
   "source": [
    "COMBINE_harmonizer.column_info(df_status)"
   ]
  },
  {
   "cell_type": "markdown",
   "id": "518a5ecf",
   "metadata": {},
   "source": [
    "## 04-12. Discharge Neuro Exam"
   ]
  },
  {
   "cell_type": "code",
   "execution_count": 178,
   "id": "e901b8b2",
   "metadata": {
    "execution": {
     "iopub.execute_input": "2025-05-10T00:13:44.430471Z",
     "iopub.status.busy": "2025-05-10T00:13:44.430388Z",
     "iopub.status.idle": "2025-05-10T00:13:44.433281Z",
     "shell.execute_reply": "2025-05-10T00:13:44.433047Z"
    }
   },
   "outputs": [
    {
     "data": {
      "text/plain": [
       "['dischargeNeuroExam',\n",
       " 'dischargeNeuroExamStatus',\n",
       " 'dischargeNeuroExamDate',\n",
       " 'dischargeNeuroExamTime',\n",
       " 'dischargeNeuroExamLevelConsciousness',\n",
       " 'dischargeNeuroExamSpontaneousActivity',\n",
       " 'dischargeNeuroExamPosture',\n",
       " 'dischargeNeuroExamTone',\n",
       " 'dischargeNeuroExamSuck',\n",
       " 'dischargeNeuroExamMoro',\n",
       " 'dischargeNeuroExamPupils',\n",
       " 'dischargeNeuroExamHeartRate',\n",
       " 'dischargeNeuroExamRespiration',\n",
       " 'dischargeNeuroExamSeizure',\n",
       " 'dischargeNeuroExamClonusSustained',\n",
       " 'dischargeNeuroExamFistedHand',\n",
       " 'dischargeNeuroExamAbnormalMovement',\n",
       " 'dischargeNeuroExamGagReflexAbsent',\n",
       " 'dischargeNeuroExamSedate',\n",
       " 'dischargeNeuroExamHypertonia',\n",
       " 'dischargeNeuroExamAsymTonicNeckReflex',\n",
       " 'dischargeNeuroExamLevelConsciousnessScore',\n",
       " 'dischargeNeuroExamSpontaneousActivityScore',\n",
       " 'dischargeNeuroExamPostureScore',\n",
       " 'dischargeNeuroExamToneScore',\n",
       " 'dischargeNeuroExamSuckScore',\n",
       " 'dischargeNeuroExamMoroScore',\n",
       " 'dischargeNeuroExamPupilsScore',\n",
       " 'dischargeNeuroExamHeartRateScore',\n",
       " 'dischargeNeuroExamRespirationScore',\n",
       " 'dischargeNeuroExamReflexScore',\n",
       " 'dischargeNeuroExamANSScore',\n",
       " 'dischargeTotalModifiedSarnatScore']"
      ]
     },
     "execution_count": 178,
     "metadata": {},
     "output_type": "execute_result"
    }
   ],
   "source": [
    "discharge_neuro_exam_columns = COMBINE_harmonizer.get_columns(\n",
    "    df_data_dict,\n",
    "    COMBINE_harmonizer.CATEGORY_NICU_DISCHARGE,\n",
    "    COMBINE_harmonizer.SUBCATEGORY_NEURO_EXAM)\n",
    "\n",
    "all_discharge_neuro_exam_columns = id_columns + discharge_neuro_exam_columns\n",
    "discharge_neuro_exam_columns"
   ]
  },
  {
   "cell_type": "code",
   "execution_count": 179,
   "id": "4fa942e2",
   "metadata": {
    "execution": {
     "iopub.execute_input": "2025-05-10T00:13:44.434542Z",
     "iopub.status.busy": "2025-05-10T00:13:44.434457Z",
     "iopub.status.idle": "2025-05-10T00:13:44.487945Z",
     "shell.execute_reply": "2025-05-10T00:13:44.487587Z"
    }
   },
   "outputs": [
    {
     "name": "stdout",
     "output_type": "stream",
     "text": [
      "(2/35) dischargeNeuroExam not in df\n",
      "(3/35) dischargeNeuroExamStatus not in df\n",
      "(20/35) dischargeNeuroExamSedate not in df\n",
      "(22/35) dischargeNeuroExamAsymTonicNeckReflex not in df\n",
      "(23/35) dischargeNeuroExamLevelConsciousnessScore not in df\n",
      "(24/35) dischargeNeuroExamSpontaneousActivityScore not in df\n",
      "(25/35) dischargeNeuroExamPostureScore not in df\n",
      "(26/35) dischargeNeuroExamToneScore not in df\n",
      "(27/35) dischargeNeuroExamSuckScore not in df\n",
      "(28/35) dischargeNeuroExamMoroScore not in df\n",
      "(29/35) dischargeNeuroExamPupilsScore not in df\n",
      "(30/35) dischargeNeuroExamHeartRateScore not in df\n",
      "(31/35) dischargeNeuroExamRespirationScore not in df\n",
      "(32/35) dischargeNeuroExamReflexScore not in df\n",
      "(33/35) dischargeNeuroExamANSScore not in df\n",
      "(34/35) dischargeTotalModifiedSarnatScore not in df\n"
     ]
    }
   ],
   "source": [
    "df_discharge_neuro_exam = COMBINE_harmonizer.valid_columns(df_main, all_discharge_neuro_exam_columns, debug_df=False, debug_columns=True)\n",
    "df_discharge_neuro_exam = COMBINE_harmonizer.postprocess(df_discharge_neuro_exam)\n",
    "\n",
    "out_filename = os.sep.join([out_dir, '04-12-neuro-exam.csv'])\n",
    "df_discharge_neuro_exam.to_csv(out_filename, index=False)"
   ]
  },
  {
   "cell_type": "markdown",
   "id": "8d9f6105",
   "metadata": {},
   "source": [
    "### 04-12-2. check empty cells"
   ]
  },
  {
   "cell_type": "code",
   "execution_count": 180,
   "id": "61e3d9cf",
   "metadata": {
    "execution": {
     "iopub.execute_input": "2025-05-10T00:13:44.489836Z",
     "iopub.status.busy": "2025-05-10T00:13:44.489691Z",
     "iopub.status.idle": "2025-05-10T00:13:44.494029Z",
     "shell.execute_reply": "2025-05-10T00:13:44.493731Z"
    }
   },
   "outputs": [
    {
     "name": "stdout",
     "output_type": "stream",
     "text": [
      "(0/20) column: center (168 / 0)\n",
      "(1/20) column: subjectID (168 / 0)\n",
      "(2/20) column: uniqueID (168 / 0)\n",
      "(3/20) column: dischargeNeuroExamSeizure (163 / 5)\n",
      "(4/20) column: dischargeNeuroExamHypertonia (163 / 5)\n",
      "(5/20) column: dischargeNeuroExamClonusSustained (163 / 5)\n",
      "(6/20) column: dischargeNeuroExamFistedHand (163 / 5)\n",
      "(7/20) column: dischargeNeuroExamAbnormalMovement (163 / 5)\n",
      "(8/20) column: dischargeNeuroExamGagReflexAbsent (163 / 5)\n",
      "(9/20) column: dischargeNeuroExamDate (157 / 11)\n",
      "(10/20) column: dischargeNeuroExamTime (153 / 15)\n",
      "(11/20) column: dischargeNeuroExamLevelConsciousness (157 / 11)\n",
      "(12/20) column: dischargeNeuroExamSpontaneousActivity (157 / 11)\n",
      "(13/20) column: dischargeNeuroExamPosture (157 / 11)\n",
      "(14/20) column: dischargeNeuroExamTone (129 / 39)\n",
      "(15/20) column: dischargeNeuroExamSuck (157 / 11)\n",
      "(16/20) column: dischargeNeuroExamMoro (155 / 13)\n",
      "(17/20) column: dischargeNeuroExamPupils (156 / 12)\n",
      "(18/20) column: dischargeNeuroExamHeartRate (153 / 15)\n",
      "(19/20) column: dischargeNeuroExamRespiration (157 / 11)\n"
     ]
    }
   ],
   "source": [
    "COMBINE_harmonizer.check_empty(df_discharge_neuro_exam)"
   ]
  },
  {
   "cell_type": "code",
   "execution_count": 181,
   "id": "57e612ad",
   "metadata": {
    "execution": {
     "iopub.execute_input": "2025-05-10T00:13:44.495489Z",
     "iopub.status.busy": "2025-05-10T00:13:44.495381Z",
     "iopub.status.idle": "2025-05-10T00:13:44.498358Z",
     "shell.execute_reply": "2025-05-10T00:13:44.498109Z"
    }
   },
   "outputs": [
    {
     "name": "stdout",
     "output_type": "stream",
     "text": [
      "(0/20) center: (168/0)\n",
      "(1/20) subjectID: (168/0)\n",
      "(2/20) uniqueID: (168/0)\n",
      "(3/20) dischargeNeuroExamSeizure: (163/5)\n",
      "(4/20) dischargeNeuroExamHypertonia: (163/5)\n",
      "(5/20) dischargeNeuroExamClonusSustained: (163/5)\n",
      "(6/20) dischargeNeuroExamFistedHand: (163/5)\n",
      "(7/20) dischargeNeuroExamAbnormalMovement: (163/5)\n",
      "(8/20) dischargeNeuroExamGagReflexAbsent: (163/5)\n",
      "(9/20) dischargeNeuroExamDate: (157/11)\n",
      "(10/20) dischargeNeuroExamTime: (153/15)\n",
      "(11/20) dischargeNeuroExamLevelConsciousness: (157/11)\n",
      "(12/20) dischargeNeuroExamSpontaneousActivity: (157/11)\n",
      "(13/20) dischargeNeuroExamPosture: (157/11)\n",
      "(14/20) dischargeNeuroExamTone: (129/39)\n",
      "(15/20) dischargeNeuroExamSuck: (157/11)\n",
      "(16/20) dischargeNeuroExamMoro: (155/13)\n",
      "(17/20) dischargeNeuroExamPupils: (156/12)\n",
      "(18/20) dischargeNeuroExamHeartRate: (153/15)\n",
      "(19/20) dischargeNeuroExamRespiration: (157/11)\n"
     ]
    }
   ],
   "source": [
    "COMBINE_harmonizer.column_info(df_discharge_neuro_exam)"
   ]
  },
  {
   "cell_type": "markdown",
   "id": "4280e63f",
   "metadata": {},
   "source": [
    "## 04-02. Discharge Cardiovascular"
   ]
  },
  {
   "cell_type": "code",
   "execution_count": 182,
   "id": "720d4ef7",
   "metadata": {
    "execution": {
     "iopub.execute_input": "2025-05-10T00:13:44.499754Z",
     "iopub.status.busy": "2025-05-10T00:13:44.499629Z",
     "iopub.status.idle": "2025-05-10T00:13:44.502682Z",
     "shell.execute_reply": "2025-05-10T00:13:44.502407Z"
    }
   },
   "outputs": [
    {
     "data": {
      "text/plain": [
       "['dischargeCardiomegaly',\n",
       " 'dischargeCardiacFailure',\n",
       " 'dischargeCardiacDysfunctionByEcho',\n",
       " 'dischargeCardiacIschemiaByEKG',\n",
       " 'dischargeHypotension',\n",
       " 'dischargeArrhythmia',\n",
       " 'dischargeInotropicAgent']"
      ]
     },
     "execution_count": 182,
     "metadata": {},
     "output_type": "execute_result"
    }
   ],
   "source": [
    "discharge_cardiovascular_columns = COMBINE_harmonizer.get_columns(\n",
    "    df_data_dict,\n",
    "    COMBINE_harmonizer.CATEGORY_NICU_DISCHARGE,\n",
    "    COMBINE_harmonizer.SUBCATEGORY_CARDIOVASCULAR)\n",
    "\n",
    "all_discharge_cardiovascular_columns = id_columns + discharge_cardiovascular_columns\n",
    "discharge_cardiovascular_columns"
   ]
  },
  {
   "cell_type": "code",
   "execution_count": 183,
   "id": "7bd94c56",
   "metadata": {
    "execution": {
     "iopub.execute_input": "2025-05-10T00:13:44.504165Z",
     "iopub.status.busy": "2025-05-10T00:13:44.503999Z",
     "iopub.status.idle": "2025-05-10T00:13:44.555253Z",
     "shell.execute_reply": "2025-05-10T00:13:44.554869Z"
    }
   },
   "outputs": [
    {
     "name": "stdout",
     "output_type": "stream",
     "text": [
      "(8/9) dischargeInotropicAgent not in df\n"
     ]
    }
   ],
   "source": [
    "df_discharge_cardiovascular = COMBINE_harmonizer.valid_columns(df_main, all_discharge_cardiovascular_columns, debug_df=False, debug_columns=True)\n",
    "df_discharge_cardiovascular = COMBINE_harmonizer.postprocess(df_discharge_cardiovascular)\n",
    "\n",
    "out_filename = os.sep.join([out_dir, '04-02-cardiovascular.csv'])\n",
    "df_discharge_cardiovascular.to_csv(out_filename, index=False)"
   ]
  },
  {
   "cell_type": "markdown",
   "id": "71ef29c5",
   "metadata": {},
   "source": [
    "### 04-02-2. check empty cells"
   ]
  },
  {
   "cell_type": "code",
   "execution_count": 184,
   "id": "2bad7a2f",
   "metadata": {
    "execution": {
     "iopub.execute_input": "2025-05-10T00:13:44.557289Z",
     "iopub.status.busy": "2025-05-10T00:13:44.557136Z",
     "iopub.status.idle": "2025-05-10T00:13:44.560365Z",
     "shell.execute_reply": "2025-05-10T00:13:44.560013Z"
    }
   },
   "outputs": [
    {
     "name": "stdout",
     "output_type": "stream",
     "text": [
      "(0/9) column: center (168 / 0)\n",
      "(1/9) column: subjectID (168 / 0)\n",
      "(2/9) column: uniqueID (168 / 0)\n",
      "(3/9) column: dischargeCardiomegaly (168 / 0)\n",
      "(4/9) column: dischargeCardiacFailure (168 / 0)\n",
      "(5/9) column: dischargeCardiacDysfunctionByEcho (168 / 0)\n",
      "(6/9) column: dischargeCardiacIschemiaByEKG (168 / 0)\n",
      "(7/9) column: dischargeHypotension (168 / 0)\n",
      "(8/9) column: dischargeArrhythmia (168 / 0)\n"
     ]
    }
   ],
   "source": [
    "COMBINE_harmonizer.check_empty(df_discharge_cardiovascular)"
   ]
  },
  {
   "cell_type": "code",
   "execution_count": 185,
   "id": "60f77fa8",
   "metadata": {
    "execution": {
     "iopub.execute_input": "2025-05-10T00:13:44.561838Z",
     "iopub.status.busy": "2025-05-10T00:13:44.561727Z",
     "iopub.status.idle": "2025-05-10T00:13:44.564397Z",
     "shell.execute_reply": "2025-05-10T00:13:44.564142Z"
    }
   },
   "outputs": [
    {
     "name": "stdout",
     "output_type": "stream",
     "text": [
      "(0/9) center: (168/0)\n",
      "(1/9) subjectID: (168/0)\n",
      "(2/9) uniqueID: (168/0)\n",
      "(3/9) dischargeCardiomegaly: (168/0)\n",
      "(4/9) dischargeCardiacFailure: (168/0)\n",
      "(5/9) dischargeCardiacDysfunctionByEcho: (168/0)\n",
      "(6/9) dischargeCardiacIschemiaByEKG: (168/0)\n",
      "(7/9) dischargeHypotension: (168/0)\n",
      "(8/9) dischargeArrhythmia: (168/0)\n"
     ]
    }
   ],
   "source": [
    "COMBINE_harmonizer.column_info(df_discharge_cardiovascular)"
   ]
  },
  {
   "cell_type": "markdown",
   "id": "194b312c",
   "metadata": {},
   "source": [
    "## 04-03. Discharge Respiratory"
   ]
  },
  {
   "cell_type": "code",
   "execution_count": 186,
   "id": "40a1a51d",
   "metadata": {
    "execution": {
     "iopub.execute_input": "2025-05-10T00:13:44.565936Z",
     "iopub.status.busy": "2025-05-10T00:13:44.565841Z",
     "iopub.status.idle": "2025-05-10T00:13:44.569276Z",
     "shell.execute_reply": "2025-05-10T00:13:44.568953Z"
    }
   },
   "outputs": [
    {
     "data": {
      "text/plain": [
       "['dischargeMeconiumAspirationSyndrome',\n",
       " 'dischargePPHN',\n",
       " 'dischargePulmonaryHemorrhage',\n",
       " 'dischargePenumonia',\n",
       " 'dischargeChronicLungDisease',\n",
       " 'dischargeECMO',\n",
       " 'dischargeINO',\n",
       " 'dischargeVentilator_day',\n",
       " 'dischargeOxygen_day',\n",
       " 'dischargeCPAP_day',\n",
       " 'dischargePulmonaryStartDate1',\n",
       " 'dischargePulmonaryStartTime1',\n",
       " 'dischargePulmonaryEndDate1',\n",
       " 'dischargePulmonaryEndTime1',\n",
       " 'dischargePulmonaryStartDate2',\n",
       " 'dischargePulmonaryStartTime2',\n",
       " 'dischargePulmonaryEndDate2',\n",
       " 'dischargePulmonaryEndTime2',\n",
       " 'dischargePulmonaryStartDate3',\n",
       " 'dischargePulmonaryStartTime3',\n",
       " 'dischargePulmonaryEndDate3',\n",
       " 'dischargePulmonaryEndTime3']"
      ]
     },
     "execution_count": 186,
     "metadata": {},
     "output_type": "execute_result"
    }
   ],
   "source": [
    "discharge_respiratory_columns = COMBINE_harmonizer.get_columns(\n",
    "    df_data_dict,\n",
    "    COMBINE_harmonizer.CATEGORY_NICU_DISCHARGE,\n",
    "    COMBINE_harmonizer.SUBCATEGORY_RESPIRATORY)\n",
    "\n",
    "all_discharge_respiratory_columns = id_columns + discharge_respiratory_columns\n",
    "discharge_respiratory_columns"
   ]
  },
  {
   "cell_type": "code",
   "execution_count": 187,
   "id": "2a448180",
   "metadata": {
    "execution": {
     "iopub.execute_input": "2025-05-10T00:13:44.570782Z",
     "iopub.status.busy": "2025-05-10T00:13:44.570656Z",
     "iopub.status.idle": "2025-05-10T00:13:44.626711Z",
     "shell.execute_reply": "2025-05-10T00:13:44.626337Z"
    }
   },
   "outputs": [],
   "source": [
    "df_discharge_respiratory = COMBINE_harmonizer.valid_columns(df_main, all_discharge_respiratory_columns, debug_df=False, debug_columns=True)\n",
    "df_discharge_respiratory = COMBINE_harmonizer.postprocess(df_discharge_respiratory)\n",
    "\n",
    "out_filename = os.sep.join([out_dir, '04-03-respiratory.csv'])\n",
    "df_discharge_respiratory.to_csv(out_filename, index=False)"
   ]
  },
  {
   "cell_type": "markdown",
   "id": "eb73ee7e",
   "metadata": {},
   "source": [
    "### 04-03-2. check empty cells"
   ]
  },
  {
   "cell_type": "code",
   "execution_count": 188,
   "id": "c8dc83d6",
   "metadata": {
    "execution": {
     "iopub.execute_input": "2025-05-10T00:13:44.628942Z",
     "iopub.status.busy": "2025-05-10T00:13:44.628765Z",
     "iopub.status.idle": "2025-05-10T00:13:44.634347Z",
     "shell.execute_reply": "2025-05-10T00:13:44.633916Z"
    }
   },
   "outputs": [
    {
     "name": "stdout",
     "output_type": "stream",
     "text": [
      "(0/25) column: center (168 / 0)\n",
      "(1/25) column: subjectID (168 / 0)\n",
      "(2/25) column: uniqueID (168 / 0)\n",
      "(3/25) column: dischargeMeconiumAspirationSyndrome (168 / 0)\n",
      "(4/25) column: dischargePPHN (168 / 0)\n",
      "(5/25) column: dischargePulmonaryHemorrhage (168 / 0)\n",
      "(6/25) column: dischargePenumonia (168 / 0)\n",
      "(7/25) column: dischargeChronicLungDisease (168 / 0)\n",
      "(8/25) column: dischargeECMO (168 / 0)\n",
      "(9/25) column: dischargeINO (168 / 0)\n",
      "(10/25) column: dischargeVentilator_day (168 / 0)\n",
      "(11/25) column: dischargeOxygen_day (168 / 0)\n",
      "(12/25) column: dischargeCPAP_day (168 / 0)\n",
      "(13/25) column: dischargePulmonaryStartDate1 (29 / 139)\n",
      "(14/25) column: dischargePulmonaryEndDate1 (28 / 140)\n",
      "(15/25) column: dischargePulmonaryStartTime1 (28 / 140)\n",
      "(16/25) column: dischargePulmonaryEndTime1 (27 / 141)\n",
      "(17/25) column: dischargePulmonaryStartDate2 (2 / 166)\n",
      "(18/25) column: dischargePulmonaryEndDate2 (2 / 166)\n",
      "(19/25) column: dischargePulmonaryStartTime2 (2 / 166)\n",
      "(20/25) column: dischargePulmonaryEndTime2 (2 / 166)\n",
      "(21/25) column: dischargePulmonaryStartDate3 (0 / 168)\n",
      "(22/25) column: dischargePulmonaryEndDate3 (0 / 168)\n",
      "(23/25) column: dischargePulmonaryStartTime3 (0 / 168)\n",
      "(24/25) column: dischargePulmonaryEndTime3 (0 / 168)\n"
     ]
    }
   ],
   "source": [
    "COMBINE_harmonizer.check_empty(df_discharge_respiratory)"
   ]
  },
  {
   "cell_type": "code",
   "execution_count": 189,
   "id": "2b1614b0",
   "metadata": {
    "execution": {
     "iopub.execute_input": "2025-05-10T00:13:44.636828Z",
     "iopub.status.busy": "2025-05-10T00:13:44.636617Z",
     "iopub.status.idle": "2025-05-10T00:13:44.640325Z",
     "shell.execute_reply": "2025-05-10T00:13:44.639912Z"
    }
   },
   "outputs": [
    {
     "name": "stdout",
     "output_type": "stream",
     "text": [
      "(0/25) center: (168/0)\n",
      "(1/25) subjectID: (168/0)\n",
      "(2/25) uniqueID: (168/0)\n",
      "(3/25) dischargeMeconiumAspirationSyndrome: (168/0)\n",
      "(4/25) dischargePPHN: (168/0)\n",
      "(5/25) dischargePulmonaryHemorrhage: (168/0)\n",
      "(6/25) dischargePenumonia: (168/0)\n",
      "(7/25) dischargeChronicLungDisease: (168/0)\n",
      "(8/25) dischargeECMO: (168/0)\n",
      "(9/25) dischargeINO: (168/0)\n",
      "(10/25) dischargeVentilator_day: (168/0)\n",
      "(11/25) dischargeOxygen_day: (168/0)\n",
      "(12/25) dischargeCPAP_day: (168/0)\n",
      "(13/25) dischargePulmonaryStartDate1: (29/139)\n",
      "(14/25) dischargePulmonaryEndDate1: (28/140)\n",
      "(15/25) dischargePulmonaryStartTime1: (28/140)\n",
      "(16/25) dischargePulmonaryEndTime1: (27/141)\n",
      "(17/25) dischargePulmonaryStartDate2: (2/166)\n",
      "(18/25) dischargePulmonaryEndDate2: (2/166)\n",
      "(19/25) dischargePulmonaryStartTime2: (2/166)\n",
      "(20/25) dischargePulmonaryEndTime2: (2/166)\n",
      "(21/25) dischargePulmonaryStartDate3: (0/168)\n",
      "(22/25) dischargePulmonaryEndDate3: (0/168)\n",
      "(23/25) dischargePulmonaryStartTime3: (0/168)\n",
      "(24/25) dischargePulmonaryEndTime3: (0/168)\n"
     ]
    }
   ],
   "source": [
    "COMBINE_harmonizer.column_info(df_discharge_respiratory)"
   ]
  },
  {
   "cell_type": "markdown",
   "id": "9ff939c9",
   "metadata": {},
   "source": [
    "## 04-04. Discharge Hematology"
   ]
  },
  {
   "cell_type": "code",
   "execution_count": 190,
   "id": "b6ceeb5a",
   "metadata": {
    "execution": {
     "iopub.execute_input": "2025-05-10T00:13:44.642316Z",
     "iopub.status.busy": "2025-05-10T00:13:44.642181Z",
     "iopub.status.idle": "2025-05-10T00:13:44.645852Z",
     "shell.execute_reply": "2025-05-10T00:13:44.645587Z"
    }
   },
   "outputs": [
    {
     "data": {
      "text/plain": [
       "['dischargeDIC']"
      ]
     },
     "execution_count": 190,
     "metadata": {},
     "output_type": "execute_result"
    }
   ],
   "source": [
    "discharge_hematology_columns = COMBINE_harmonizer.get_columns(\n",
    "    df_data_dict,\n",
    "    COMBINE_harmonizer.CATEGORY_NICU_DISCHARGE,\n",
    "    COMBINE_harmonizer.SUBCATEGORY_HEMATOLOGY)\n",
    "\n",
    "all_discharge_hematology_columns = id_columns + discharge_hematology_columns\n",
    "discharge_hematology_columns"
   ]
  },
  {
   "cell_type": "code",
   "execution_count": 191,
   "id": "05a9cabc",
   "metadata": {
    "execution": {
     "iopub.execute_input": "2025-05-10T00:13:44.647576Z",
     "iopub.status.busy": "2025-05-10T00:13:44.647351Z",
     "iopub.status.idle": "2025-05-10T00:13:44.767934Z",
     "shell.execute_reply": "2025-05-10T00:13:44.767406Z"
    }
   },
   "outputs": [],
   "source": [
    "df_discharge_hematology = COMBINE_harmonizer.valid_columns(df_main, all_discharge_hematology_columns, debug_df=False, debug_columns=True)\n",
    "df_discharge_hematology = COMBINE_harmonizer.postprocess(df_discharge_hematology)\n",
    "\n",
    "out_filename = os.sep.join([out_dir, '04-04-hematology.csv'])\n",
    "df_discharge_hematology.to_csv(out_filename, index=False)"
   ]
  },
  {
   "cell_type": "markdown",
   "id": "8395ff5b",
   "metadata": {},
   "source": [
    "### 04-04-2. check empty cells"
   ]
  },
  {
   "cell_type": "code",
   "execution_count": 192,
   "id": "eded0be6",
   "metadata": {
    "execution": {
     "iopub.execute_input": "2025-05-10T00:13:44.770753Z",
     "iopub.status.busy": "2025-05-10T00:13:44.770546Z",
     "iopub.status.idle": "2025-05-10T00:13:44.774803Z",
     "shell.execute_reply": "2025-05-10T00:13:44.774380Z"
    }
   },
   "outputs": [
    {
     "name": "stdout",
     "output_type": "stream",
     "text": [
      "(0/4) column: center (168 / 0)\n",
      "(1/4) column: subjectID (168 / 0)\n",
      "(2/4) column: uniqueID (168 / 0)\n",
      "(3/4) column: dischargeDIC (168 / 0)\n"
     ]
    }
   ],
   "source": [
    "COMBINE_harmonizer.check_empty(df_discharge_hematology)"
   ]
  },
  {
   "cell_type": "code",
   "execution_count": 193,
   "id": "93e11def",
   "metadata": {
    "execution": {
     "iopub.execute_input": "2025-05-10T00:13:44.776662Z",
     "iopub.status.busy": "2025-05-10T00:13:44.776523Z",
     "iopub.status.idle": "2025-05-10T00:13:44.779370Z",
     "shell.execute_reply": "2025-05-10T00:13:44.779000Z"
    }
   },
   "outputs": [
    {
     "name": "stdout",
     "output_type": "stream",
     "text": [
      "(0/4) center: (168/0)\n",
      "(1/4) subjectID: (168/0)\n",
      "(2/4) uniqueID: (168/0)\n",
      "(3/4) dischargeDIC: (168/0)\n"
     ]
    }
   ],
   "source": [
    "COMBINE_harmonizer.column_info(df_discharge_hematology)"
   ]
  },
  {
   "cell_type": "markdown",
   "id": "d39df44d",
   "metadata": {},
   "source": [
    "## 04-05. Discharge Metabolic"
   ]
  },
  {
   "cell_type": "code",
   "execution_count": 194,
   "id": "7dc474b9",
   "metadata": {
    "execution": {
     "iopub.execute_input": "2025-05-10T00:13:44.781481Z",
     "iopub.status.busy": "2025-05-10T00:13:44.781302Z",
     "iopub.status.idle": "2025-05-10T00:13:44.785458Z",
     "shell.execute_reply": "2025-05-10T00:13:44.784885Z"
    }
   },
   "outputs": [
    {
     "data": {
      "text/plain": [
       "['dischargeHypoglycemia', 'dischargeHypocalcemia', 'dischargeHypomagnesemia']"
      ]
     },
     "execution_count": 194,
     "metadata": {},
     "output_type": "execute_result"
    }
   ],
   "source": [
    "discharge_metabolic_columns = COMBINE_harmonizer.get_columns(\n",
    "    df_data_dict,\n",
    "    COMBINE_harmonizer.CATEGORY_NICU_DISCHARGE,\n",
    "    COMBINE_harmonizer.SUBCATEGORY_METABOLIC)\n",
    "\n",
    "all_discharge_metabolic_columns = id_columns + discharge_metabolic_columns\n",
    "discharge_metabolic_columns"
   ]
  },
  {
   "cell_type": "code",
   "execution_count": 195,
   "id": "a1ea9a64",
   "metadata": {
    "execution": {
     "iopub.execute_input": "2025-05-10T00:13:44.787704Z",
     "iopub.status.busy": "2025-05-10T00:13:44.787558Z",
     "iopub.status.idle": "2025-05-10T00:13:44.864602Z",
     "shell.execute_reply": "2025-05-10T00:13:44.863794Z"
    }
   },
   "outputs": [],
   "source": [
    "df_discharge_metabolic = COMBINE_harmonizer.valid_columns(df_main, all_discharge_metabolic_columns, debug_df=False, debug_columns=True)\n",
    "df_discharge_metabolic = COMBINE_harmonizer.postprocess(df_discharge_metabolic)\n",
    "\n",
    "out_filename = os.sep.join([out_dir, '04-05-metabolic.csv'])\n",
    "df_discharge_metabolic.to_csv(out_filename, index=False)"
   ]
  },
  {
   "cell_type": "markdown",
   "id": "05ef95a0",
   "metadata": {},
   "source": [
    "### 04-05-2. check empty cells"
   ]
  },
  {
   "cell_type": "code",
   "execution_count": 196,
   "id": "21be3278",
   "metadata": {
    "execution": {
     "iopub.execute_input": "2025-05-10T00:13:44.875276Z",
     "iopub.status.busy": "2025-05-10T00:13:44.874607Z",
     "iopub.status.idle": "2025-05-10T00:13:44.879939Z",
     "shell.execute_reply": "2025-05-10T00:13:44.879494Z"
    }
   },
   "outputs": [
    {
     "name": "stdout",
     "output_type": "stream",
     "text": [
      "(0/6) column: center (168 / 0)\n",
      "(1/6) column: subjectID (168 / 0)\n",
      "(2/6) column: uniqueID (168 / 0)\n",
      "(3/6) column: dischargeHypoglycemia (168 / 0)\n",
      "(4/6) column: dischargeHypocalcemia (168 / 0)\n",
      "(5/6) column: dischargeHypomagnesemia (168 / 0)\n"
     ]
    }
   ],
   "source": [
    "COMBINE_harmonizer.check_empty(df_discharge_metabolic)"
   ]
  },
  {
   "cell_type": "code",
   "execution_count": 197,
   "id": "d2f60e70",
   "metadata": {
    "execution": {
     "iopub.execute_input": "2025-05-10T00:13:44.881786Z",
     "iopub.status.busy": "2025-05-10T00:13:44.881603Z",
     "iopub.status.idle": "2025-05-10T00:13:44.885246Z",
     "shell.execute_reply": "2025-05-10T00:13:44.884142Z"
    }
   },
   "outputs": [
    {
     "name": "stdout",
     "output_type": "stream",
     "text": [
      "(0/6) center: (168/0)\n",
      "(1/6) subjectID: (168/0)\n",
      "(2/6) uniqueID: (168/0)\n",
      "(3/6) dischargeHypoglycemia: (168/0)\n",
      "(4/6) dischargeHypocalcemia: (168/0)\n",
      "(5/6) dischargeHypomagnesemia: (168/0)\n"
     ]
    }
   ],
   "source": [
    "COMBINE_harmonizer.column_info(df_discharge_metabolic)"
   ]
  },
  {
   "cell_type": "markdown",
   "id": "2ca171d0",
   "metadata": {},
   "source": [
    "## 04-06. Discharge Renal"
   ]
  },
  {
   "cell_type": "code",
   "execution_count": 198,
   "id": "483157a5",
   "metadata": {
    "execution": {
     "iopub.execute_input": "2025-05-10T00:13:44.887711Z",
     "iopub.status.busy": "2025-05-10T00:13:44.887565Z",
     "iopub.status.idle": "2025-05-10T00:13:44.891666Z",
     "shell.execute_reply": "2025-05-10T00:13:44.891340Z"
    }
   },
   "outputs": [
    {
     "data": {
      "text/plain": [
       "['dischargeOliguria', 'dischargeAnuria', 'dischargeDialysis']"
      ]
     },
     "execution_count": 198,
     "metadata": {},
     "output_type": "execute_result"
    }
   ],
   "source": [
    "discharge_renal_columns = COMBINE_harmonizer.get_columns(\n",
    "    df_data_dict,\n",
    "    COMBINE_harmonizer.CATEGORY_NICU_DISCHARGE,\n",
    "    COMBINE_harmonizer.SUBCATEGORY_RENAL)\n",
    "\n",
    "all_discharge_renal_columns = id_columns + discharge_renal_columns\n",
    "discharge_renal_columns"
   ]
  },
  {
   "cell_type": "code",
   "execution_count": 199,
   "id": "729c9a10",
   "metadata": {
    "execution": {
     "iopub.execute_input": "2025-05-10T00:13:44.893333Z",
     "iopub.status.busy": "2025-05-10T00:13:44.893186Z",
     "iopub.status.idle": "2025-05-10T00:13:44.951580Z",
     "shell.execute_reply": "2025-05-10T00:13:44.950953Z"
    }
   },
   "outputs": [],
   "source": [
    "df_discharge_renal = COMBINE_harmonizer.valid_columns(df_main, all_discharge_renal_columns, debug_df=False, debug_columns=True)\n",
    "df_discharge_renal = COMBINE_harmonizer.postprocess(df_discharge_renal)\n",
    "\n",
    "out_filename = os.sep.join([out_dir, '04-06-renal.csv'])\n",
    "df_discharge_renal.to_csv(out_filename, index=False)"
   ]
  },
  {
   "cell_type": "markdown",
   "id": "6592e8a9",
   "metadata": {},
   "source": [
    "### 04-06-2. check empty cells"
   ]
  },
  {
   "cell_type": "code",
   "execution_count": 200,
   "id": "e3693a55",
   "metadata": {
    "execution": {
     "iopub.execute_input": "2025-05-10T00:13:44.959929Z",
     "iopub.status.busy": "2025-05-10T00:13:44.959527Z",
     "iopub.status.idle": "2025-05-10T00:13:44.963064Z",
     "shell.execute_reply": "2025-05-10T00:13:44.962618Z"
    }
   },
   "outputs": [
    {
     "name": "stdout",
     "output_type": "stream",
     "text": [
      "(0/6) column: center (168 / 0)\n",
      "(1/6) column: subjectID (168 / 0)\n",
      "(2/6) column: uniqueID (168 / 0)\n",
      "(3/6) column: dischargeOliguria (168 / 0)\n",
      "(4/6) column: dischargeAnuria (168 / 0)\n",
      "(5/6) column: dischargeDialysis (168 / 0)\n"
     ]
    }
   ],
   "source": [
    "COMBINE_harmonizer.check_empty(df_discharge_renal)"
   ]
  },
  {
   "cell_type": "code",
   "execution_count": 201,
   "id": "e26c9568",
   "metadata": {
    "execution": {
     "iopub.execute_input": "2025-05-10T00:13:44.964827Z",
     "iopub.status.busy": "2025-05-10T00:13:44.964691Z",
     "iopub.status.idle": "2025-05-10T00:13:44.967438Z",
     "shell.execute_reply": "2025-05-10T00:13:44.967148Z"
    }
   },
   "outputs": [
    {
     "name": "stdout",
     "output_type": "stream",
     "text": [
      "(0/6) center: (168/0)\n",
      "(1/6) subjectID: (168/0)\n",
      "(2/6) uniqueID: (168/0)\n",
      "(3/6) dischargeOliguria: (168/0)\n",
      "(4/6) dischargeAnuria: (168/0)\n",
      "(5/6) dischargeDialysis: (168/0)\n"
     ]
    }
   ],
   "source": [
    "COMBINE_harmonizer.column_info(df_discharge_renal)"
   ]
  },
  {
   "cell_type": "markdown",
   "id": "64efe8e6",
   "metadata": {},
   "source": [
    "## 04-07. Discharge Gastrointestinal"
   ]
  },
  {
   "cell_type": "code",
   "execution_count": 202,
   "id": "932f5ee7",
   "metadata": {
    "execution": {
     "iopub.execute_input": "2025-05-10T00:13:44.970175Z",
     "iopub.status.busy": "2025-05-10T00:13:44.970013Z",
     "iopub.status.idle": "2025-05-10T00:13:44.973870Z",
     "shell.execute_reply": "2025-05-10T00:13:44.973523Z"
    }
   },
   "outputs": [
    {
     "data": {
      "text/plain": [
       "['dischargeEnteralFeedStart_day',\n",
       " 'dischargeTubeFeedingDuration_day',\n",
       " 'dischargeFullNippleFeed',\n",
       " 'dischargeFullNippleFeed_day',\n",
       " 'dischargeNEC',\n",
       " 'dischargeHepaticDysfunction']"
      ]
     },
     "execution_count": 202,
     "metadata": {},
     "output_type": "execute_result"
    }
   ],
   "source": [
    "discharge_gastrointestinal_columns = COMBINE_harmonizer.get_columns(\n",
    "    df_data_dict,\n",
    "    COMBINE_harmonizer.CATEGORY_NICU_DISCHARGE,\n",
    "    COMBINE_harmonizer.SUBCATEGORY_GASTROINTESTINAL)\n",
    "\n",
    "all_discharge_gastrointestinal_columns = id_columns + discharge_gastrointestinal_columns\n",
    "discharge_gastrointestinal_columns"
   ]
  },
  {
   "cell_type": "code",
   "execution_count": 203,
   "id": "6a6e512e",
   "metadata": {
    "execution": {
     "iopub.execute_input": "2025-05-10T00:13:44.975374Z",
     "iopub.status.busy": "2025-05-10T00:13:44.975256Z",
     "iopub.status.idle": "2025-05-10T00:13:45.035382Z",
     "shell.execute_reply": "2025-05-10T00:13:45.034537Z"
    }
   },
   "outputs": [
    {
     "name": "stdout",
     "output_type": "stream",
     "text": [
      "(2/8) dischargeEnteralFeedStart_day not in df\n",
      "(4/8) dischargeFullNippleFeed not in df\n"
     ]
    }
   ],
   "source": [
    "df_discharge_gastrointestinal = COMBINE_harmonizer.valid_columns(df_main, all_discharge_gastrointestinal_columns, debug_df=False, debug_columns=True)\n",
    "df_discharge_gastrointestinal = COMBINE_harmonizer.postprocess(df_discharge_gastrointestinal)\n",
    "\n",
    "out_filename = os.sep.join([out_dir, '04-07-gastrointestinal.csv'])\n",
    "df_discharge_gastrointestinal.to_csv(out_filename, index=False)"
   ]
  },
  {
   "cell_type": "markdown",
   "id": "fd35d93a",
   "metadata": {},
   "source": [
    "### 04-07-2. check empty cells"
   ]
  },
  {
   "cell_type": "code",
   "execution_count": 204,
   "id": "e28a32d9",
   "metadata": {
    "execution": {
     "iopub.execute_input": "2025-05-10T00:13:45.039054Z",
     "iopub.status.busy": "2025-05-10T00:13:45.038828Z",
     "iopub.status.idle": "2025-05-10T00:13:45.042312Z",
     "shell.execute_reply": "2025-05-10T00:13:45.041975Z"
    }
   },
   "outputs": [
    {
     "name": "stdout",
     "output_type": "stream",
     "text": [
      "(0/7) column: center (168 / 0)\n",
      "(1/7) column: subjectID (168 / 0)\n",
      "(2/7) column: uniqueID (168 / 0)\n",
      "(3/7) column: dischargeNEC (168 / 0)\n",
      "(4/7) column: dischargeHepaticDysfunction (168 / 0)\n",
      "(5/7) column: dischargeTubeFeedingDuration_day (165 / 3)\n",
      "(6/7) column: dischargeFullNippleFeed_day (137 / 31)\n"
     ]
    }
   ],
   "source": [
    "COMBINE_harmonizer.check_empty(df_discharge_gastrointestinal)"
   ]
  },
  {
   "cell_type": "code",
   "execution_count": 205,
   "id": "943c0923",
   "metadata": {
    "execution": {
     "iopub.execute_input": "2025-05-10T00:13:45.043947Z",
     "iopub.status.busy": "2025-05-10T00:13:45.043830Z",
     "iopub.status.idle": "2025-05-10T00:13:45.046665Z",
     "shell.execute_reply": "2025-05-10T00:13:45.046343Z"
    }
   },
   "outputs": [
    {
     "name": "stdout",
     "output_type": "stream",
     "text": [
      "(0/7) center: (168/0)\n",
      "(1/7) subjectID: (168/0)\n",
      "(2/7) uniqueID: (168/0)\n",
      "(3/7) dischargeNEC: (168/0)\n",
      "(4/7) dischargeHepaticDysfunction: (168/0)\n",
      "(5/7) dischargeTubeFeedingDuration_day: (165/3)\n",
      "(6/7) dischargeFullNippleFeed_day: (137/31)\n"
     ]
    }
   ],
   "source": [
    "COMBINE_harmonizer.column_info(df_discharge_gastrointestinal)"
   ]
  },
  {
   "cell_type": "markdown",
   "id": "1981aa2e",
   "metadata": {},
   "source": [
    "## 04-08. Skin"
   ]
  },
  {
   "cell_type": "code",
   "execution_count": 206,
   "id": "bef12414",
   "metadata": {
    "execution": {
     "iopub.execute_input": "2025-05-10T00:13:45.048436Z",
     "iopub.status.busy": "2025-05-10T00:13:45.048328Z",
     "iopub.status.idle": "2025-05-10T00:13:45.051997Z",
     "shell.execute_reply": "2025-05-10T00:13:45.051529Z"
    }
   },
   "outputs": [
    {
     "data": {
      "text/plain": [
       "['dischargeAlteredSkinItegrityPostIntervention',\n",
       " 'dischargeErythema',\n",
       " 'dischargeErythemaOnsetDate',\n",
       " 'dischargeErythemaResolveDate',\n",
       " 'dischargeSclerema',\n",
       " 'dischargeScleremaOnsetDate',\n",
       " 'dischargeScleremaResolveDate',\n",
       " 'dischargeCyanosis',\n",
       " 'dischargeCyanosisOnsetDate',\n",
       " 'dischargeCyanosisResolveDate',\n",
       " 'dischargeSubFatNecrosis',\n",
       " 'dischargeSubFatNecrosisOnsetDate',\n",
       " 'dischargeSubFatNecrosisResolveDate']"
      ]
     },
     "execution_count": 206,
     "metadata": {},
     "output_type": "execute_result"
    }
   ],
   "source": [
    "discharge_skin_columns = COMBINE_harmonizer.get_columns(\n",
    "    df_data_dict,\n",
    "    COMBINE_harmonizer.CATEGORY_NICU_DISCHARGE,\n",
    "    COMBINE_harmonizer.SUBCATEGORY_SKIN)\n",
    "\n",
    "all_discharge_skin_columns = id_columns + discharge_skin_columns\n",
    "discharge_skin_columns"
   ]
  },
  {
   "cell_type": "code",
   "execution_count": 207,
   "id": "f88de9b1",
   "metadata": {
    "execution": {
     "iopub.execute_input": "2025-05-10T00:13:45.053783Z",
     "iopub.status.busy": "2025-05-10T00:13:45.053627Z",
     "iopub.status.idle": "2025-05-10T00:13:45.105148Z",
     "shell.execute_reply": "2025-05-10T00:13:45.104642Z"
    }
   },
   "outputs": [
    {
     "name": "stdout",
     "output_type": "stream",
     "text": [
      "(2/15) dischargeAlteredSkinItegrityPostIntervention not in df\n",
      "(3/15) dischargeErythema not in df\n",
      "(4/15) dischargeErythemaOnsetDate not in df\n",
      "(5/15) dischargeErythemaResolveDate not in df\n",
      "(6/15) dischargeSclerema not in df\n",
      "(7/15) dischargeScleremaOnsetDate not in df\n",
      "(8/15) dischargeScleremaResolveDate not in df\n",
      "(9/15) dischargeCyanosis not in df\n",
      "(10/15) dischargeCyanosisOnsetDate not in df\n",
      "(11/15) dischargeCyanosisResolveDate not in df\n",
      "(12/15) dischargeSubFatNecrosis not in df\n",
      "(13/15) dischargeSubFatNecrosisOnsetDate not in df\n",
      "(14/15) dischargeSubFatNecrosisResolveDate not in df\n"
     ]
    }
   ],
   "source": [
    "df_discharge_skin = COMBINE_harmonizer.valid_columns(df_main, all_discharge_skin_columns, debug_df=False, debug_columns=True)\n",
    "df_discharge_skin = COMBINE_harmonizer.postprocess(df_discharge_skin)\n",
    "\n",
    "out_filename = os.sep.join([out_dir, '04-08-skin.csv'])\n",
    "df_discharge_skin.to_csv(out_filename, index=False)"
   ]
  },
  {
   "cell_type": "markdown",
   "id": "78caf602",
   "metadata": {},
   "source": [
    "### 04-08-2. check empty cells"
   ]
  },
  {
   "cell_type": "code",
   "execution_count": 208,
   "id": "07be7b08",
   "metadata": {
    "execution": {
     "iopub.execute_input": "2025-05-10T00:13:45.108070Z",
     "iopub.status.busy": "2025-05-10T00:13:45.107743Z",
     "iopub.status.idle": "2025-05-10T00:13:45.110812Z",
     "shell.execute_reply": "2025-05-10T00:13:45.110379Z"
    }
   },
   "outputs": [
    {
     "name": "stdout",
     "output_type": "stream",
     "text": [
      "(0/3) column: center (168 / 0)\n",
      "(1/3) column: subjectID (168 / 0)\n",
      "(2/3) column: uniqueID (168 / 0)\n"
     ]
    }
   ],
   "source": [
    "COMBINE_harmonizer.check_empty(df_discharge_skin)"
   ]
  },
  {
   "cell_type": "code",
   "execution_count": 209,
   "id": "925a2680",
   "metadata": {
    "execution": {
     "iopub.execute_input": "2025-05-10T00:13:45.112575Z",
     "iopub.status.busy": "2025-05-10T00:13:45.112452Z",
     "iopub.status.idle": "2025-05-10T00:13:45.115068Z",
     "shell.execute_reply": "2025-05-10T00:13:45.114682Z"
    }
   },
   "outputs": [
    {
     "name": "stdout",
     "output_type": "stream",
     "text": [
      "(0/3) center: (168/0)\n",
      "(1/3) subjectID: (168/0)\n",
      "(2/3) uniqueID: (168/0)\n"
     ]
    }
   ],
   "source": [
    "COMBINE_harmonizer.column_info(df_discharge_skin)"
   ]
  },
  {
   "cell_type": "markdown",
   "id": "2e51bf83",
   "metadata": {},
   "source": [
    "## 04-09. Auditory"
   ]
  },
  {
   "cell_type": "code",
   "execution_count": 210,
   "id": "289704d9",
   "metadata": {
    "execution": {
     "iopub.execute_input": "2025-05-10T00:13:45.116735Z",
     "iopub.status.busy": "2025-05-10T00:13:45.116619Z",
     "iopub.status.idle": "2025-05-10T00:13:45.120813Z",
     "shell.execute_reply": "2025-05-10T00:13:45.120213Z"
    }
   },
   "outputs": [
    {
     "data": {
      "text/plain": [
       "['dischargeHearingTest', 'dischargeHearingTestNormal']"
      ]
     },
     "execution_count": 210,
     "metadata": {},
     "output_type": "execute_result"
    }
   ],
   "source": [
    "discharge_auditory_columns = COMBINE_harmonizer.get_columns(\n",
    "    df_data_dict,\n",
    "    COMBINE_harmonizer.CATEGORY_NICU_DISCHARGE,\n",
    "    COMBINE_harmonizer.SUBCATEGORY_AUDITORY)\n",
    "\n",
    "all_discharge_auditory_columns = id_columns + discharge_auditory_columns\n",
    "discharge_auditory_columns"
   ]
  },
  {
   "cell_type": "code",
   "execution_count": 211,
   "id": "bfdd28d8",
   "metadata": {
    "execution": {
     "iopub.execute_input": "2025-05-10T00:13:45.122661Z",
     "iopub.status.busy": "2025-05-10T00:13:45.122435Z",
     "iopub.status.idle": "2025-05-10T00:13:45.190262Z",
     "shell.execute_reply": "2025-05-10T00:13:45.189561Z"
    }
   },
   "outputs": [],
   "source": [
    "df_discharge_auditory = COMBINE_harmonizer.valid_columns(df_main, all_discharge_auditory_columns, debug_df=False, debug_columns=True)\n",
    "df_discharge_auditory = COMBINE_harmonizer.postprocess(df_discharge_auditory)\n",
    "\n",
    "out_filename = os.sep.join([out_dir, '04-09-auditory.csv'])\n",
    "df_discharge_auditory.to_csv(out_filename, index=False)"
   ]
  },
  {
   "cell_type": "markdown",
   "id": "2205ea18",
   "metadata": {},
   "source": [
    "### 04-09-2. check empty cells"
   ]
  },
  {
   "cell_type": "code",
   "execution_count": 212,
   "id": "7e129443",
   "metadata": {
    "execution": {
     "iopub.execute_input": "2025-05-10T00:13:45.193684Z",
     "iopub.status.busy": "2025-05-10T00:13:45.193419Z",
     "iopub.status.idle": "2025-05-10T00:13:45.198280Z",
     "shell.execute_reply": "2025-05-10T00:13:45.197913Z"
    }
   },
   "outputs": [
    {
     "name": "stdout",
     "output_type": "stream",
     "text": [
      "(0/5) column: center (168 / 0)\n",
      "(1/5) column: subjectID (168 / 0)\n",
      "(2/5) column: uniqueID (168 / 0)\n",
      "(3/5) column: dischargeHearingTest (168 / 0)\n",
      "(4/5) column: dischargeHearingTestNormal (131 / 37)\n"
     ]
    }
   ],
   "source": [
    "COMBINE_harmonizer.check_empty(df_discharge_auditory)"
   ]
  },
  {
   "cell_type": "code",
   "execution_count": 213,
   "id": "90bd018b",
   "metadata": {
    "execution": {
     "iopub.execute_input": "2025-05-10T00:13:45.200045Z",
     "iopub.status.busy": "2025-05-10T00:13:45.199914Z",
     "iopub.status.idle": "2025-05-10T00:13:45.203366Z",
     "shell.execute_reply": "2025-05-10T00:13:45.202872Z"
    }
   },
   "outputs": [
    {
     "name": "stdout",
     "output_type": "stream",
     "text": [
      "(0/5) center: (168/0)\n",
      "(1/5) subjectID: (168/0)\n",
      "(2/5) uniqueID: (168/0)\n",
      "(3/5) dischargeHearingTest: (168/0)\n",
      "(4/5) dischargeHearingTestNormal: (131/37)\n"
     ]
    }
   ],
   "source": [
    "COMBINE_harmonizer.column_info(df_discharge_auditory)"
   ]
  },
  {
   "cell_type": "markdown",
   "id": "4246f738",
   "metadata": {},
   "source": [
    "## 04-10. Surgery"
   ]
  },
  {
   "cell_type": "code",
   "execution_count": 214,
   "id": "c251d4de",
   "metadata": {
    "execution": {
     "iopub.execute_input": "2025-05-10T00:13:45.205460Z",
     "iopub.status.busy": "2025-05-10T00:13:45.205288Z",
     "iopub.status.idle": "2025-05-10T00:13:45.208898Z",
     "shell.execute_reply": "2025-05-10T00:13:45.208572Z"
    }
   },
   "outputs": [
    {
     "data": {
      "text/plain": [
       "['dischargeMajorSurgery',\n",
       " 'dischargeSurgeryCode1',\n",
       " 'dischargeSurgeryCode2',\n",
       " 'dischargeSurgeryCode3']"
      ]
     },
     "execution_count": 214,
     "metadata": {},
     "output_type": "execute_result"
    }
   ],
   "source": [
    "discharge_surgery_columns = COMBINE_harmonizer.get_columns(\n",
    "    df_data_dict,\n",
    "    COMBINE_harmonizer.CATEGORY_NICU_DISCHARGE,\n",
    "    COMBINE_harmonizer.SUBCATEGORY_SURGERY)\n",
    "\n",
    "all_discharge_surgery_columns = id_columns + discharge_surgery_columns\n",
    "discharge_surgery_columns"
   ]
  },
  {
   "cell_type": "code",
   "execution_count": 215,
   "id": "719f91d1",
   "metadata": {
    "execution": {
     "iopub.execute_input": "2025-05-10T00:13:45.210610Z",
     "iopub.status.busy": "2025-05-10T00:13:45.210474Z",
     "iopub.status.idle": "2025-05-10T00:13:45.265839Z",
     "shell.execute_reply": "2025-05-10T00:13:45.265088Z"
    }
   },
   "outputs": [],
   "source": [
    "df_discharge_surgery = COMBINE_harmonizer.valid_columns(df_main, all_discharge_surgery_columns, debug_df=False, debug_columns=True)\n",
    "df_discharge_surgery = COMBINE_harmonizer.postprocess(df_discharge_surgery)\n",
    "\n",
    "out_filename = os.sep.join([out_dir, '04-10-surgery.csv'])\n",
    "df_discharge_surgery.to_csv(out_filename, index=False)"
   ]
  },
  {
   "cell_type": "markdown",
   "id": "aa2ec8fd",
   "metadata": {},
   "source": [
    "### 04-10-2. check empty cells"
   ]
  },
  {
   "cell_type": "code",
   "execution_count": 216,
   "id": "da390f37",
   "metadata": {
    "execution": {
     "iopub.execute_input": "2025-05-10T00:13:45.270810Z",
     "iopub.status.busy": "2025-05-10T00:13:45.270506Z",
     "iopub.status.idle": "2025-05-10T00:13:45.275807Z",
     "shell.execute_reply": "2025-05-10T00:13:45.275446Z"
    }
   },
   "outputs": [
    {
     "name": "stdout",
     "output_type": "stream",
     "text": [
      "(0/7) column: center (168 / 0)\n",
      "(1/7) column: subjectID (168 / 0)\n",
      "(2/7) column: uniqueID (168 / 0)\n",
      "(3/7) column: dischargeMajorSurgery (168 / 0)\n",
      "(4/7) column: dischargeSurgeryCode1 (9 / 159)\n",
      "(5/7) column: dischargeSurgeryCode2 (3 / 165)\n",
      "(6/7) column: dischargeSurgeryCode3 (0 / 168)\n"
     ]
    }
   ],
   "source": [
    "COMBINE_harmonizer.check_empty(df_discharge_surgery)"
   ]
  },
  {
   "cell_type": "code",
   "execution_count": 217,
   "id": "2bdaf0a2",
   "metadata": {
    "execution": {
     "iopub.execute_input": "2025-05-10T00:13:45.277612Z",
     "iopub.status.busy": "2025-05-10T00:13:45.277434Z",
     "iopub.status.idle": "2025-05-10T00:13:45.280368Z",
     "shell.execute_reply": "2025-05-10T00:13:45.280051Z"
    }
   },
   "outputs": [
    {
     "name": "stdout",
     "output_type": "stream",
     "text": [
      "(0/7) center: (168/0)\n",
      "(1/7) subjectID: (168/0)\n",
      "(2/7) uniqueID: (168/0)\n",
      "(3/7) dischargeMajorSurgery: (168/0)\n",
      "(4/7) dischargeSurgeryCode1: (9/159)\n",
      "(5/7) dischargeSurgeryCode2: (3/165)\n",
      "(6/7) dischargeSurgeryCode3: (0/168)\n"
     ]
    }
   ],
   "source": [
    "COMBINE_harmonizer.column_info(df_discharge_surgery)"
   ]
  },
  {
   "cell_type": "markdown",
   "id": "114899e6",
   "metadata": {},
   "source": [
    "## 04-11. Infection"
   ]
  },
  {
   "cell_type": "code",
   "execution_count": 218,
   "id": "fd36d770",
   "metadata": {
    "execution": {
     "iopub.execute_input": "2025-05-10T00:13:45.282205Z",
     "iopub.status.busy": "2025-05-10T00:13:45.282051Z",
     "iopub.status.idle": "2025-05-10T00:13:45.286035Z",
     "shell.execute_reply": "2025-05-10T00:13:45.285659Z"
    }
   },
   "outputs": [
    {
     "data": {
      "text/plain": [
       "['dischargeSepticemia',\n",
       " 'dischargeSepticemiaOrganismCode1',\n",
       " 'dischargeSepticemiaOrganismCode2',\n",
       " 'dischargeSepticemiaOrganismCode3',\n",
       " 'dischargeMeningitisEncephalitis',\n",
       " 'dischargeMeningitisOrganismCode1',\n",
       " 'dischargeMeningitisOrganismCode2',\n",
       " 'dischargeMeningitisOrganismCode3']"
      ]
     },
     "execution_count": 218,
     "metadata": {},
     "output_type": "execute_result"
    }
   ],
   "source": [
    "discharge_infection_columns = COMBINE_harmonizer.get_columns(\n",
    "    df_data_dict,\n",
    "    COMBINE_harmonizer.CATEGORY_NICU_DISCHARGE,\n",
    "    COMBINE_harmonizer.SUBCATEGORY_INFECTION)\n",
    "\n",
    "all_discharge_infection_columns = id_columns + discharge_infection_columns\n",
    "discharge_infection_columns"
   ]
  },
  {
   "cell_type": "code",
   "execution_count": 219,
   "id": "5e59ee57",
   "metadata": {
    "execution": {
     "iopub.execute_input": "2025-05-10T00:13:45.287885Z",
     "iopub.status.busy": "2025-05-10T00:13:45.287740Z",
     "iopub.status.idle": "2025-05-10T00:13:45.357785Z",
     "shell.execute_reply": "2025-05-10T00:13:45.356685Z"
    }
   },
   "outputs": [],
   "source": [
    "df_discharge_infection = COMBINE_harmonizer.valid_columns(df_main, all_discharge_infection_columns, debug_df=False, debug_columns=True)\n",
    "df_discharge_infection = COMBINE_harmonizer.postprocess(df_discharge_infection)\n",
    "\n",
    "out_filename = os.sep.join([out_dir, '04-11-infection.csv'])\n",
    "df_discharge_infection.to_csv(out_filename, index=False)"
   ]
  },
  {
   "cell_type": "markdown",
   "id": "2a66b720",
   "metadata": {},
   "source": [
    "### 04-11-2. check empty cells"
   ]
  },
  {
   "cell_type": "code",
   "execution_count": 220,
   "id": "4533174c",
   "metadata": {
    "execution": {
     "iopub.execute_input": "2025-05-10T00:13:45.364753Z",
     "iopub.status.busy": "2025-05-10T00:13:45.364215Z",
     "iopub.status.idle": "2025-05-10T00:13:45.369030Z",
     "shell.execute_reply": "2025-05-10T00:13:45.368700Z"
    }
   },
   "outputs": [
    {
     "name": "stdout",
     "output_type": "stream",
     "text": [
      "(0/11) column: center (168 / 0)\n",
      "(1/11) column: subjectID (168 / 0)\n",
      "(2/11) column: uniqueID (168 / 0)\n",
      "(3/11) column: dischargeSepticemia (168 / 0)\n",
      "(4/11) column: dischargeMeningitisEncephalitis (168 / 0)\n",
      "(5/11) column: dischargeSepticemiaOrganismCode1 (3 / 165)\n",
      "(6/11) column: dischargeSepticemiaOrganismCode2 (1 / 167)\n",
      "(7/11) column: dischargeSepticemiaOrganismCode3 (1 / 167)\n",
      "(8/11) column: dischargeMeningitisOrganismCode1 (2 / 166)\n",
      "(9/11) column: dischargeMeningitisOrganismCode2 (0 / 168)\n",
      "(10/11) column: dischargeMeningitisOrganismCode3 (0 / 168)\n"
     ]
    }
   ],
   "source": [
    "COMBINE_harmonizer.check_empty(df_discharge_infection)"
   ]
  },
  {
   "cell_type": "code",
   "execution_count": 221,
   "id": "3945ed84",
   "metadata": {
    "execution": {
     "iopub.execute_input": "2025-05-10T00:13:45.370501Z",
     "iopub.status.busy": "2025-05-10T00:13:45.370384Z",
     "iopub.status.idle": "2025-05-10T00:13:45.372889Z",
     "shell.execute_reply": "2025-05-10T00:13:45.372620Z"
    }
   },
   "outputs": [
    {
     "name": "stdout",
     "output_type": "stream",
     "text": [
      "(0/11) center: (168/0)\n",
      "(1/11) subjectID: (168/0)\n",
      "(2/11) uniqueID: (168/0)\n",
      "(3/11) dischargeSepticemia: (168/0)\n",
      "(4/11) dischargeMeningitisEncephalitis: (168/0)\n",
      "(5/11) dischargeSepticemiaOrganismCode1: (3/165)\n",
      "(6/11) dischargeSepticemiaOrganismCode2: (1/167)\n",
      "(7/11) dischargeSepticemiaOrganismCode3: (1/167)\n",
      "(8/11) dischargeMeningitisOrganismCode1: (2/166)\n",
      "(9/11) dischargeMeningitisOrganismCode2: (0/168)\n",
      "(10/11) dischargeMeningitisOrganismCode3: (0/168)\n"
     ]
    }
   ],
   "source": [
    "COMBINE_harmonizer.column_info(df_discharge_infection)"
   ]
  },
  {
   "cell_type": "markdown",
   "id": "e228b59e",
   "metadata": {},
   "source": [
    "## 04-13. Seizure"
   ]
  },
  {
   "cell_type": "code",
   "execution_count": 222,
   "id": "859cc8e1",
   "metadata": {
    "execution": {
     "iopub.execute_input": "2025-05-10T00:13:45.374390Z",
     "iopub.status.busy": "2025-05-10T00:13:45.374278Z",
     "iopub.status.idle": "2025-05-10T00:13:45.377262Z",
     "shell.execute_reply": "2025-05-10T00:13:45.376954Z"
    }
   },
   "outputs": [
    {
     "data": {
      "text/plain": [
       "['dischargeSeizure',\n",
       " 'dischargeSeizurePreIntervention',\n",
       " 'dischargeSeizureAfterBaseline',\n",
       " 'dischargeSeizureMaintenance',\n",
       " 'dischargeSeizureRewarming',\n",
       " 'dischargeSeizurePostIntervention',\n",
       " 'dischargeEEG',\n",
       " 'dischargeEEGFindingConsistentWithSeizure',\n",
       " 'dischargeEEGFindingConsistentWithSeizureDate',\n",
       " 'dischargeEEGFindingConsistentWithSeizureTime',\n",
       " 'dischargeEEGAbnormalBackgroundActivity',\n",
       " 'dischargeEEGAbnormalBackgroundActivityDate',\n",
       " 'dischargeEEGAbnormalBackgroundActivityTime',\n",
       " 'dischargeAnticonvulsantsGreater72H',\n",
       " 'dischargeAnticonvulsants']"
      ]
     },
     "execution_count": 222,
     "metadata": {},
     "output_type": "execute_result"
    }
   ],
   "source": [
    "discharge_seizure_columns = COMBINE_harmonizer.get_columns(\n",
    "    df_data_dict,\n",
    "    COMBINE_harmonizer.CATEGORY_NICU_DISCHARGE,\n",
    "    COMBINE_harmonizer.SUBCATEGORY_SEIZURE)\n",
    "\n",
    "all_discharge_seizure_columns = id_columns + discharge_seizure_columns\n",
    "discharge_seizure_columns"
   ]
  },
  {
   "cell_type": "code",
   "execution_count": 223,
   "id": "5e1081ef",
   "metadata": {
    "execution": {
     "iopub.execute_input": "2025-05-10T00:13:45.378554Z",
     "iopub.status.busy": "2025-05-10T00:13:45.378449Z",
     "iopub.status.idle": "2025-05-10T00:13:45.437231Z",
     "shell.execute_reply": "2025-05-10T00:13:45.436612Z"
    }
   },
   "outputs": [
    {
     "name": "stdout",
     "output_type": "stream",
     "text": [
      "(4/17) dischargeSeizureAfterBaseline not in df\n"
     ]
    }
   ],
   "source": [
    "df_discharge_seizure = COMBINE_harmonizer.valid_columns(df_main, all_discharge_seizure_columns, debug_df=False, debug_columns=True)\n",
    "df_discharge_seizure = COMBINE_harmonizer.postprocess(df_discharge_seizure)\n",
    "\n",
    "out_filename = os.sep.join([out_dir, '04-13-seizure.csv'])\n",
    "df_discharge_seizure.to_csv(out_filename, index=False)"
   ]
  },
  {
   "cell_type": "markdown",
   "id": "be94e2d7",
   "metadata": {},
   "source": [
    "### 04-13-2. check empty cells"
   ]
  },
  {
   "cell_type": "code",
   "execution_count": 224,
   "id": "d5533be2",
   "metadata": {
    "execution": {
     "iopub.execute_input": "2025-05-10T00:13:45.440905Z",
     "iopub.status.busy": "2025-05-10T00:13:45.440599Z",
     "iopub.status.idle": "2025-05-10T00:13:45.448789Z",
     "shell.execute_reply": "2025-05-10T00:13:45.448557Z"
    }
   },
   "outputs": [
    {
     "name": "stdout",
     "output_type": "stream",
     "text": [
      "(0/17) column: center (168 / 0)\n",
      "(1/17) column: subjectID (168 / 0)\n",
      "(2/17) column: uniqueID (168 / 0)\n",
      "(3/17) column: dischargeSeizure (168 / 0)\n",
      "(4/17) column: dischargeSeizurePreIntervention (128 / 40)\n",
      "(5/17) column: dischargeSeizureMaintenance (128 / 40)\n",
      "(6/17) column: dischargeSeizureRewarming (128 / 40)\n",
      "(7/17) column: dischargeSeizurePostIntervention (128 / 40)\n",
      "(8/17) column: dischargeEEG (168 / 0)\n",
      "(9/17) column: dischargeEEGFindingConsistentWithSeizure (139 / 29)\n",
      "(10/17) column: dischargeEEGAbnormalBackgroundActivity (168 / 0)\n",
      "(11/17) column: dischargeAnticonvulsantsGreater72H (168 / 0)\n",
      "(12/17) column: dischargeEEGFindingConsistentWithSeizureDate (136 / 32)\n",
      "(13/17) column: dischargeEEGFindingConsistentWithSeizureTime (124 / 44)\n",
      "(14/17) column: dischargeEEGAbnormalBackgroundActivityDate (97 / 71)\n",
      "(15/17) column: dischargeEEGAbnormalBackgroundActivityTime (81 / 87)\n",
      "(16/17) column: dischargeAnticonvulsants (164 / 4)\n"
     ]
    }
   ],
   "source": [
    "COMBINE_harmonizer.check_empty(df_discharge_seizure)"
   ]
  },
  {
   "cell_type": "code",
   "execution_count": 225,
   "id": "0ba0ff5c",
   "metadata": {
    "execution": {
     "iopub.execute_input": "2025-05-10T00:13:45.449991Z",
     "iopub.status.busy": "2025-05-10T00:13:45.449888Z",
     "iopub.status.idle": "2025-05-10T00:13:45.452429Z",
     "shell.execute_reply": "2025-05-10T00:13:45.452208Z"
    }
   },
   "outputs": [
    {
     "name": "stdout",
     "output_type": "stream",
     "text": [
      "(0/17) center: (168/0)\n",
      "(1/17) subjectID: (168/0)\n",
      "(2/17) uniqueID: (168/0)\n",
      "(3/17) dischargeSeizure: (168/0)\n",
      "(4/17) dischargeSeizurePreIntervention: (128/40)\n",
      "(5/17) dischargeSeizureMaintenance: (128/40)\n",
      "(6/17) dischargeSeizureRewarming: (128/40)\n",
      "(7/17) dischargeSeizurePostIntervention: (128/40)\n",
      "(8/17) dischargeEEG: (168/0)\n",
      "(9/17) dischargeEEGFindingConsistentWithSeizure: (139/29)\n",
      "(10/17) dischargeEEGAbnormalBackgroundActivity: (168/0)\n",
      "(11/17) dischargeAnticonvulsantsGreater72H: (168/0)\n",
      "(12/17) dischargeEEGFindingConsistentWithSeizureDate: (136/32)\n",
      "(13/17) dischargeEEGFindingConsistentWithSeizureTime: (124/44)\n",
      "(14/17) dischargeEEGAbnormalBackgroundActivityDate: (97/71)\n",
      "(15/17) dischargeEEGAbnormalBackgroundActivityTime: (81/87)\n",
      "(16/17) dischargeAnticonvulsants: (164/4)\n"
     ]
    }
   ],
   "source": [
    "COMBINE_harmonizer.column_info(df_discharge_seizure)"
   ]
  },
  {
   "cell_type": "markdown",
   "id": "cbef8967",
   "metadata": {},
   "source": [
    "## 04-14. Birth Defect"
   ]
  },
  {
   "cell_type": "code",
   "execution_count": 226,
   "id": "6efe3bee",
   "metadata": {
    "execution": {
     "iopub.execute_input": "2025-05-10T00:13:45.453661Z",
     "iopub.status.busy": "2025-05-10T00:13:45.453574Z",
     "iopub.status.idle": "2025-05-10T00:13:45.456239Z",
     "shell.execute_reply": "2025-05-10T00:13:45.455993Z"
    }
   },
   "outputs": [
    {
     "data": {
      "text/plain": [
       "['dischargeSyndromeMalformation',\n",
       " 'dischargeBirthDefectCode1',\n",
       " 'dischargeBirthDefectCode2',\n",
       " 'dischargeBirthDefectCode3']"
      ]
     },
     "execution_count": 226,
     "metadata": {},
     "output_type": "execute_result"
    }
   ],
   "source": [
    "discharge_birth_defect_columns = COMBINE_harmonizer.get_columns(\n",
    "    df_data_dict,\n",
    "    COMBINE_harmonizer.CATEGORY_NICU_DISCHARGE,\n",
    "    COMBINE_harmonizer.SUBCATEGORY_BIRTH_DEFECT)\n",
    "\n",
    "all_discharge_birth_defect_columns = id_columns + discharge_birth_defect_columns\n",
    "discharge_birth_defect_columns"
   ]
  },
  {
   "cell_type": "code",
   "execution_count": 227,
   "id": "7c8b5445",
   "metadata": {
    "execution": {
     "iopub.execute_input": "2025-05-10T00:13:45.457372Z",
     "iopub.status.busy": "2025-05-10T00:13:45.457286Z",
     "iopub.status.idle": "2025-05-10T00:13:45.513960Z",
     "shell.execute_reply": "2025-05-10T00:13:45.513272Z"
    }
   },
   "outputs": [],
   "source": [
    "df_discharge_birth_defect = COMBINE_harmonizer.valid_columns(df_main, all_discharge_birth_defect_columns, debug_df=False, debug_columns=True)\n",
    "df_discharge_birth_defect = COMBINE_harmonizer.postprocess(df_discharge_birth_defect)\n",
    "\n",
    "out_filename = os.sep.join([out_dir, '04-14-birth-defect.csv'])\n",
    "df_discharge_birth_defect.to_csv(out_filename, index=False)"
   ]
  },
  {
   "cell_type": "markdown",
   "id": "95191882",
   "metadata": {},
   "source": [
    "### 04-14-2. check empty cells"
   ]
  },
  {
   "cell_type": "code",
   "execution_count": 228,
   "id": "24201a37",
   "metadata": {
    "execution": {
     "iopub.execute_input": "2025-05-10T00:13:45.517337Z",
     "iopub.status.busy": "2025-05-10T00:13:45.517064Z",
     "iopub.status.idle": "2025-05-10T00:13:45.525034Z",
     "shell.execute_reply": "2025-05-10T00:13:45.524541Z"
    }
   },
   "outputs": [
    {
     "name": "stdout",
     "output_type": "stream",
     "text": [
      "(0/7) column: center (168 / 0)\n",
      "(1/7) column: subjectID (168 / 0)\n",
      "(2/7) column: uniqueID (168 / 0)\n",
      "(3/7) column: dischargeSyndromeMalformation (168 / 0)\n",
      "(4/7) column: dischargeBirthDefectCode1 (3 / 165)\n",
      "(5/7) column: dischargeBirthDefectCode2 (0 / 168)\n",
      "(6/7) column: dischargeBirthDefectCode3 (0 / 168)\n"
     ]
    }
   ],
   "source": [
    "COMBINE_harmonizer.check_empty(df_discharge_birth_defect)"
   ]
  },
  {
   "cell_type": "code",
   "execution_count": 229,
   "id": "908ff3c5",
   "metadata": {
    "execution": {
     "iopub.execute_input": "2025-05-10T00:13:45.527530Z",
     "iopub.status.busy": "2025-05-10T00:13:45.527413Z",
     "iopub.status.idle": "2025-05-10T00:13:45.529961Z",
     "shell.execute_reply": "2025-05-10T00:13:45.529639Z"
    }
   },
   "outputs": [
    {
     "name": "stdout",
     "output_type": "stream",
     "text": [
      "(0/7) center: (168/0)\n",
      "(1/7) subjectID: (168/0)\n",
      "(2/7) uniqueID: (168/0)\n",
      "(3/7) dischargeSyndromeMalformation: (168/0)\n",
      "(4/7) dischargeBirthDefectCode1: (3/165)\n",
      "(5/7) dischargeBirthDefectCode2: (0/168)\n",
      "(6/7) dischargeBirthDefectCode3: (0/168)\n"
     ]
    }
   ],
   "source": [
    "COMBINE_harmonizer.column_info(df_discharge_birth_defect)"
   ]
  },
  {
   "cell_type": "code",
   "execution_count": null,
   "id": "42997b61",
   "metadata": {},
   "outputs": [],
   "source": []
  },
  {
   "cell_type": "markdown",
   "id": "2bb14476",
   "metadata": {},
   "source": [
    "## 04-15. Home Therapy"
   ]
  },
  {
   "cell_type": "code",
   "execution_count": 230,
   "id": "cc10c047",
   "metadata": {
    "execution": {
     "iopub.execute_input": "2025-05-10T00:13:45.532171Z",
     "iopub.status.busy": "2025-05-10T00:13:45.532041Z",
     "iopub.status.idle": "2025-05-10T00:13:45.535429Z",
     "shell.execute_reply": "2025-05-10T00:13:45.535129Z"
    }
   },
   "outputs": [
    {
     "data": {
      "text/plain": [
       "['dischargeHomeTherapy',\n",
       " 'dischargeHomeTherapyVentilator',\n",
       " 'dischargeHomeTherapyOxygen',\n",
       " 'dischargeHomeTherapyGavageTubeFeed',\n",
       " 'dischargeHomeTherapyGastrostomyTubeFeed',\n",
       " 'dischargeHomeTherapyTemperatureBlanket',\n",
       " 'dischargeHomeTherapyAnticonvulsantMedication',\n",
       " 'dischargeHomeTherapyOther',\n",
       " 'dischargeHomeTherapyOtherText']"
      ]
     },
     "execution_count": 230,
     "metadata": {},
     "output_type": "execute_result"
    }
   ],
   "source": [
    "discharge_home_therapy_columns = COMBINE_harmonizer.get_columns(\n",
    "    df_data_dict,\n",
    "    COMBINE_harmonizer.CATEGORY_NICU_DISCHARGE,\n",
    "    COMBINE_harmonizer.SUBCATEGORY_HOME_THERAPY)\n",
    "\n",
    "all_discharge_home_therapy_columns = id_columns + discharge_home_therapy_columns\n",
    "discharge_home_therapy_columns"
   ]
  },
  {
   "cell_type": "code",
   "execution_count": 231,
   "id": "515a7d25",
   "metadata": {
    "execution": {
     "iopub.execute_input": "2025-05-10T00:13:45.536797Z",
     "iopub.status.busy": "2025-05-10T00:13:45.536706Z",
     "iopub.status.idle": "2025-05-10T00:13:45.598992Z",
     "shell.execute_reply": "2025-05-10T00:13:45.598219Z"
    }
   },
   "outputs": [
    {
     "name": "stdout",
     "output_type": "stream",
     "text": [
      "(2/11) dischargeHomeTherapy not in df\n"
     ]
    }
   ],
   "source": [
    "df_discharge_home_therapy = COMBINE_harmonizer.valid_columns(df_main, all_discharge_home_therapy_columns, debug_df=False, debug_columns=True)\n",
    "df_discharge_home_therapy = COMBINE_harmonizer.postprocess(df_discharge_home_therapy)\n",
    "\n",
    "out_filename = os.sep.join([out_dir, '04-15-home-therapy.csv'])\n",
    "df_discharge_home_therapy.to_csv(out_filename, index=False)"
   ]
  },
  {
   "cell_type": "markdown",
   "id": "e3f0bbd0",
   "metadata": {},
   "source": [
    "### 04-15-2. check empty cells"
   ]
  },
  {
   "cell_type": "code",
   "execution_count": 232,
   "id": "e9fcbd4f",
   "metadata": {
    "execution": {
     "iopub.execute_input": "2025-05-10T00:13:45.607154Z",
     "iopub.status.busy": "2025-05-10T00:13:45.606729Z",
     "iopub.status.idle": "2025-05-10T00:13:45.614023Z",
     "shell.execute_reply": "2025-05-10T00:13:45.613477Z"
    }
   },
   "outputs": [
    {
     "name": "stdout",
     "output_type": "stream",
     "text": [
      "(0/11) column: center (168 / 0)\n",
      "(1/11) column: subjectID (168 / 0)\n",
      "(2/11) column: uniqueID (168 / 0)\n",
      "(3/11) column: dischargeHomeTherapyVentilator (140 / 28)\n",
      "(4/11) column: dischargeHomeTherapyOxygen (140 / 28)\n",
      "(5/11) column: dischargeHomeTherapyGavageTubeFeed (140 / 28)\n",
      "(6/11) column: dischargeHomeTherapyGastrostomyTubeFeed (140 / 28)\n",
      "(7/11) column: dischargeHomeTherapyTemperatureBlanket (140 / 28)\n",
      "(8/11) column: dischargeHomeTherapyAnticonvulsantMedication (140 / 28)\n",
      "(9/11) column: dischargeHomeTherapyOther (140 / 28)\n",
      "(10/11) column: dischargeHomeTherapyOtherText (11 / 157)\n"
     ]
    }
   ],
   "source": [
    "COMBINE_harmonizer.check_empty(df_discharge_home_therapy)"
   ]
  },
  {
   "cell_type": "code",
   "execution_count": 233,
   "id": "9f046aae",
   "metadata": {
    "execution": {
     "iopub.execute_input": "2025-05-10T00:13:45.617070Z",
     "iopub.status.busy": "2025-05-10T00:13:45.616676Z",
     "iopub.status.idle": "2025-05-10T00:13:45.625227Z",
     "shell.execute_reply": "2025-05-10T00:13:45.624872Z"
    }
   },
   "outputs": [
    {
     "name": "stdout",
     "output_type": "stream",
     "text": [
      "(0/11) center: (168/0)\n",
      "(1/11) subjectID: (168/0)\n",
      "(2/11) uniqueID: (168/0)\n",
      "(3/11) dischargeHomeTherapyVentilator: (140/28)\n",
      "(4/11) dischargeHomeTherapyOxygen: (140/28)\n",
      "(5/11) dischargeHomeTherapyGavageTubeFeed: (140/28)\n",
      "(6/11) dischargeHomeTherapyGastrostomyTubeFeed: (140/28)\n",
      "(7/11) dischargeHomeTherapyTemperatureBlanket: (140/28)\n",
      "(8/11) dischargeHomeTherapyAnticonvulsantMedication: (140/28)\n",
      "(9/11) dischargeHomeTherapyOther: (140/28)\n",
      "(10/11) dischargeHomeTherapyOtherText: (11/157)\n"
     ]
    }
   ],
   "source": [
    "COMBINE_harmonizer.column_info(df_discharge_home_therapy)"
   ]
  },
  {
   "cell_type": "code",
   "execution_count": null,
   "id": "02f3c9f5",
   "metadata": {},
   "outputs": [],
   "source": []
  }
 ],
 "metadata": {
  "kernelspec": {
   "display_name": ".venv",
   "language": "python",
   "name": "python3"
  },
  "language_info": {
   "codemirror_mode": {
    "name": "ipython",
    "version": 3
   },
   "file_extension": ".py",
   "mimetype": "text/x-python",
   "name": "python",
   "nbconvert_exporter": "python",
   "pygments_lexer": "ipython3",
   "version": "3.13.2"
  }
 },
 "nbformat": 4,
 "nbformat_minor": 5
}
