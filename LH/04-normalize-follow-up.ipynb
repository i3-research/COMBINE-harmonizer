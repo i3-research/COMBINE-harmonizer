{
 "cells": [
  {
   "cell_type": "code",
   "execution_count": 1,
   "id": "b489f506-fad1-426c-8c20-01483f08535c",
   "metadata": {
    "execution": {
     "iopub.execute_input": "2025-01-21T19:14:29.687416Z",
     "iopub.status.busy": "2025-01-21T19:14:29.687045Z",
     "iopub.status.idle": "2025-01-21T19:14:30.739437Z",
     "shell.execute_reply": "2025-01-21T19:14:30.739041Z"
    }
   },
   "outputs": [],
   "source": [
    "import pandas as pd\n",
    "pd.options.mode.copy_on_write = True\n",
    "import warnings\n",
    "warnings.simplefilter(action='ignore', category=pd.errors.PerformanceWarning)\n",
    "\n",
    "import os\n",
    "import re\n",
    "import pydoc\n",
    "\n",
    "import COMBINE_harmonizer\n",
    "from COMBINE_harmonizer import cfg"
   ]
  },
  {
   "cell_type": "markdown",
   "id": "d4fd686c-7c99-4fca-b7d1-8bb141cd477a",
   "metadata": {},
   "source": [
    "## 00-0. Variables"
   ]
  },
  {
   "cell_type": "code",
   "execution_count": 2,
   "id": "3656b37c-be73-4991-b22d-76138a285cef",
   "metadata": {
    "execution": {
     "iopub.execute_input": "2025-01-21T19:14:30.741091Z",
     "iopub.status.busy": "2025-01-21T19:14:30.740955Z",
     "iopub.status.idle": "2025-01-21T19:14:30.742824Z",
     "shell.execute_reply": "2025-01-21T19:14:30.742581Z"
    }
   },
   "outputs": [],
   "source": [
    "study_name = COMBINE_harmonizer.STUDY_LH\n",
    "sheet_name = COMBINE_harmonizer.SHEET_FOLLOW_UP\n",
    "\n",
    "root_dir = '..'"
   ]
  },
  {
   "cell_type": "code",
   "execution_count": 3,
   "id": "7460d7d1",
   "metadata": {
    "execution": {
     "iopub.execute_input": "2025-01-21T19:14:30.743980Z",
     "iopub.status.busy": "2025-01-21T19:14:30.743904Z",
     "iopub.status.idle": "2025-01-21T19:14:30.747233Z",
     "shell.execute_reply": "2025-01-21T19:14:30.747023Z"
    }
   },
   "outputs": [],
   "source": [
    "COMBINE_harmonizer.init(f'{root_dir}/config.yaml')"
   ]
  },
  {
   "cell_type": "code",
   "execution_count": 4,
   "id": "f1320a9f",
   "metadata": {
    "execution": {
     "iopub.execute_input": "2025-01-21T19:14:30.748358Z",
     "iopub.status.busy": "2025-01-21T19:14:30.748290Z",
     "iopub.status.idle": "2025-01-21T19:14:30.749927Z",
     "shell.execute_reply": "2025-01-21T19:14:30.749718Z"
    }
   },
   "outputs": [],
   "source": [
    "_FILENAMES = [\n",
    "    'lf01.csv',\n",
    "    'lf03.csv',\n",
    "    'lf04.csv',\n",
    "    'lf04a.csv',\n",
    "    'lf04ar.csv',\n",
    "    'lf05.csv',\n",
    "    'lf09a.csv',\n",
    "    'lf10.csv',\n",
    "    'lf11.csv',\n",
    "    'lf12.csv',\n",
    "]\n",
    "\n",
    "_FILENAMES_MERGE = [\n",
    "    'lf01.csv',\n",
    "    'lf03.csv',\n",
    "    'lf04.csv',\n",
    "    'lf04a.csv',\n",
    "    'lf05.csv',\n",
    "    'lf09a.csv',\n",
    "    'lf10.csv',\n",
    "    'lf11.csv',\n",
    "    'lf12.csv',\n",
    "]\n"
   ]
  },
  {
   "cell_type": "code",
   "execution_count": 5,
   "id": "1aa45ae9-189d-4602-83cf-6c5e702b2e64",
   "metadata": {
    "execution": {
     "iopub.execute_input": "2025-01-21T19:14:30.750996Z",
     "iopub.status.busy": "2025-01-21T19:14:30.750929Z",
     "iopub.status.idle": "2025-01-21T19:14:30.760862Z",
     "shell.execute_reply": "2025-01-21T19:14:30.760664Z"
    }
   },
   "outputs": [],
   "source": [
    "input_dir = cfg.config[f'{study_name}_follow_up_dir']\n",
    "data_dict_filename = f\"{root_dir}/{COMBINE_harmonizer.DATA_DICTIONARY_EXCEL}\"\n",
    "out_dir = f\"{cfg.config['out_dir']}/out-{study_name}\"\n",
    "\n",
    "os.makedirs(out_dir, exist_ok=True)"
   ]
  },
  {
   "cell_type": "markdown",
   "id": "b285c802-c2b9-425b-b38d-d220775e47a9",
   "metadata": {},
   "source": [
    "## 00-1. Column Map"
   ]
  },
  {
   "cell_type": "code",
   "execution_count": 6,
   "id": "77c974c4-8083-48e9-b0ad-fd1879f6be5a",
   "metadata": {
    "execution": {
     "iopub.execute_input": "2025-01-21T19:14:30.762121Z",
     "iopub.status.busy": "2025-01-21T19:14:30.762044Z",
     "iopub.status.idle": "2025-01-21T19:14:31.205132Z",
     "shell.execute_reply": "2025-01-21T19:14:31.204795Z"
    }
   },
   "outputs": [],
   "source": [
    "df_data_dict = COMBINE_harmonizer.load_data_dict(data_dict_filename, sheet_name=sheet_name)\n",
    "all_valid_columns = list(df_data_dict[COMBINE_harmonizer.DATA_DICT_VAR_NAME])\n",
    "column_map = {each[study_name]: each[COMBINE_harmonizer.DATA_DICT_VAR_NAME] for _, each in df_data_dict.iterrows()}"
   ]
  },
  {
   "cell_type": "markdown",
   "id": "b77a20a2-6214-431c-91e1-07d5cbca7ee8",
   "metadata": {},
   "source": [
    "## 00-2. df-dict from _FILENAMES"
   ]
  },
  {
   "cell_type": "code",
   "execution_count": 7,
   "id": "929d693d-3bf8-4811-8872-f9eb8880a58c",
   "metadata": {
    "execution": {
     "iopub.execute_input": "2025-01-21T19:14:31.206591Z",
     "iopub.status.busy": "2025-01-21T19:14:31.206509Z",
     "iopub.status.idle": "2025-01-21T19:14:31.323138Z",
     "shell.execute_reply": "2025-01-21T19:14:31.322778Z"
    }
   },
   "outputs": [],
   "source": [
    "df_dict = {filename: pd.read_csv(os.sep.join([input_dir, filename]), dtype='O').rename(columns=column_map) for filename in _FILENAMES}"
   ]
  },
  {
   "cell_type": "markdown",
   "id": "8aa7171c",
   "metadata": {},
   "source": [
    "### 00-4. identifier-column"
   ]
  },
  {
   "cell_type": "code",
   "execution_count": 8,
   "id": "83b9b65b-30eb-43aa-be5e-f1a96446bee9",
   "metadata": {
    "execution": {
     "iopub.execute_input": "2025-01-21T19:14:31.324944Z",
     "iopub.status.busy": "2025-01-21T19:14:31.324789Z",
     "iopub.status.idle": "2025-01-21T19:14:31.329435Z",
     "shell.execute_reply": "2025-01-21T19:14:31.329019Z"
    }
   },
   "outputs": [
    {
     "data": {
      "text/plain": [
       "['followupCenter', 'siteID', 'center', 'subjectID', 'followupID']"
      ]
     },
     "execution_count": 8,
     "metadata": {},
     "output_type": "execute_result"
    }
   ],
   "source": [
    "id_columns = COMBINE_harmonizer.get_columns(df_data_dict, 'Follow Up', 'Identity')\n",
    "id_columns"
   ]
  },
  {
   "cell_type": "markdown",
   "id": "f5ba0833-5c1b-4525-b3c0-3dbebd58b374",
   "metadata": {},
   "source": [
    "## 20-01. follow-up"
   ]
  },
  {
   "cell_type": "code",
   "execution_count": 9,
   "id": "7ede700d-a34c-4fd0-bfc6-435221b2e8f5",
   "metadata": {
    "execution": {
     "iopub.execute_input": "2025-01-21T19:14:31.331311Z",
     "iopub.status.busy": "2025-01-21T19:14:31.331166Z",
     "iopub.status.idle": "2025-01-21T19:14:31.361859Z",
     "shell.execute_reply": "2025-01-21T19:14:31.361597Z"
    }
   },
   "outputs": [
    {
     "name": "stdout",
     "output_type": "stream",
     "text": [
      "to set follow-up\n",
      "(2/413) LAST not in columns\n",
      "(3/413) FIRST not in columns\n",
      "(5/413) PROTID02 not in columns\n",
      "(6/413) PROTID03 not in columns\n",
      "(7/413) PROTID04 not in columns\n",
      "(8/413) PROTID05 not in columns\n",
      "(9/413) PROTID06 not in columns\n",
      "(10/413) PROTID07 not in columns\n",
      "(11/413) PROTID08 not in columns\n",
      "(12/413) PROTID09 not in columns\n",
      "(13/413) PROTID10 not in columns\n",
      "(14/413) PROTID11 not in columns\n",
      "(15/413) PROTID12 not in columns\n",
      "(16/413) PROTID13 not in columns\n",
      "(17/413) PROTID14 not in columns\n",
      "(18/413) PROTID15 not in columns\n",
      "(19/413) PROTID16 not in columns\n",
      "(20/413) PROTID17 not in columns\n",
      "(21/413) PROTID18 not in columns\n",
      "(22/413) PROTID19 not in columns\n",
      "(23/413) PROTID20 not in columns\n",
      "(24/413) REC_CMP not in columns\n",
      "(30/413) CMP_DATE not in columns\n",
      "(31/413) CRT_DATE not in columns\n",
      "(64/413) CFINITS not in columns\n",
      "(65/413) REC_CMP:lf03 not in columns\n",
      "(105/413) CFPRRESP not in columns\n",
      "(108/413) CMP_DATE:lf03 not in columns\n",
      "(109/413) CRT_DATE:lf03 not in columns\n",
      "(146/413) NF4LOCSP not in columns\n",
      "(147/413) DFINITS not in columns\n",
      "(148/413) REC_CMP:lf04 not in columns\n",
      "(175/413) DFPLACE not in columns\n",
      "(176/413) DFCOMPDT not in columns\n",
      "(177/413) CMP_DATE:lf04 not in columns\n",
      "(178/413) CRT_DATE:lf04 not in columns\n",
      "(179/413) DFINITSA not in columns\n",
      "(180/413) REC_CMP:lf04a not in columns\n",
      "(185/413) CMP_DATE:lf04a not in columns\n",
      "(186/413) CRT_DATE:lf04a not in columns\n",
      "(223/413) EFINITS not in columns\n",
      "(224/413) REC_CMP:lf05 not in columns\n",
      "(281/413) CMP_DATE:lf05 not in columns\n",
      "(282/413) CRT_DATE:lf05 not in columns\n",
      "(296/413) NF9AINIT not in columns\n",
      "(297/413) REC_CMP:lf09a not in columns\n",
      "(325/413) CMP_DATE:lf09a not in columns\n",
      "(326/413) CRT_DATE:lf09a not in columns\n",
      "(327/413) JFINITS not in columns\n",
      "(328/413) REC_CMP:lf10 not in columns\n",
      "(334/413) JFCOMPDT not in columns\n",
      "(335/413) NF10CNTR not in columns\n",
      "(336/413) CMP_DATE:lf10 not in columns\n",
      "(337/413) CRT_DATE:lf10 not in columns\n",
      "(338/413) KFSESDIS not in columns\n",
      "(339/413) KFSES18 not in columns\n",
      "(340/413) KFMEDHIS not in columns\n",
      "(341/413) KFREADM not in columns\n",
      "(342/413) KFINFEXM not in columns\n",
      "(343/413) KFBAYLE3 not in columns\n",
      "(344/413) KFSTATFM not in columns\n",
      "(345/413) KFLOSTFM not in columns\n",
      "(346/413) KFINITS not in columns\n",
      "(347/413) REC_CMP:lf11 not in columns\n",
      "(350/413) KFCOMPDT not in columns\n",
      "(351/413) CMP_DATE:lf11 not in columns\n",
      "(352/413) CRT_DATE:lf11 not in columns\n",
      "(381/413) LFINITA not in columns\n",
      "(385/413) NF12INIT not in columns\n",
      "(386/413) REC_CMP:lf12 not in columns\n",
      "(411/413) CMP_DATE:lf12 not in columns\n",
      "(412/413) CRT_DATE:lf12 not in columns\n"
     ]
    }
   ],
   "source": [
    "df_all = None\n",
    "for idx, each_filename in enumerate(_FILENAMES_MERGE):\n",
    "    each_full_filename = os.sep.join([root_dir, each_filename])\n",
    "    each_df = df_dict[each_filename]\n",
    "    columns = list(each_df.columns)\n",
    "    each_filename_prefix = re.sub(r'\\.csv$', '', each_filename)\n",
    "    # print(f'({idx}/{len(_FILENAMES_MERGE)}) filename: {each_filename} columns: {columns}')\n",
    "\n",
    "    if df_all is None:\n",
    "        df_all = each_df\n",
    "    else:\n",
    "        df_all = df_all.merge(each_df, on=['followupCenter', 'followupID'], how='outer', suffixes=['', ':' + each_filename_prefix])\n",
    "\n",
    "# follow-up\n",
    "print('to set follow-up')\n",
    "df_follow_up = df_all\n",
    "\n",
    "df_follow_up = COMBINE_harmonizer.valid_columns(df_follow_up, all_valid_columns, debug_df=True, debug_columns=False)\n",
    "df_follow_up = COMBINE_harmonizer.postprocess(df_follow_up, subject_id_idx='followupID', center_id_idx='followupCenter')\n",
    "df_follow_up['center_orig'] = df_follow_up['center'].copy()\n",
    "df_follow_up['center'] = df_follow_up['center'].apply(COMBINE_harmonizer.to_center)\n",
    "df_follow_up['center'] = df_follow_up.apply(lambda x: x['center'] if isinstance(x['center'], str) and x['center'] != '' else x['followupCenter'], axis=1)\n"
   ]
  },
  {
   "cell_type": "markdown",
   "id": "35503a97",
   "metadata": {},
   "source": [
    "### 20-01-1. XXX hack for \"follow-up visit completed in another NRN center\""
   ]
  },
  {
   "cell_type": "code",
   "execution_count": 10,
   "id": "f1ff0dd2",
   "metadata": {
    "execution": {
     "iopub.execute_input": "2025-01-21T19:14:31.363555Z",
     "iopub.status.busy": "2025-01-21T19:14:31.363469Z",
     "iopub.status.idle": "2025-01-21T19:14:31.366089Z",
     "shell.execute_reply": "2025-01-21T19:14:31.365794Z"
    }
   },
   "outputs": [
    {
     "data": {
      "text/plain": [
       "(array(['1', '4', '5', '3'], dtype=object), 155)"
      ]
     },
     "execution_count": 10,
     "metadata": {},
     "output_type": "execute_result"
    }
   ],
   "source": [
    "df_follow_up['childFinalStatus'].unique(), len(df_follow_up)"
   ]
  },
  {
   "cell_type": "code",
   "execution_count": 11,
   "id": "cb047256",
   "metadata": {
    "execution": {
     "iopub.execute_input": "2025-01-21T19:14:31.367722Z",
     "iopub.status.busy": "2025-01-21T19:14:31.367569Z",
     "iopub.status.idle": "2025-01-21T19:14:31.372269Z",
     "shell.execute_reply": "2025-01-21T19:14:31.371968Z"
    }
   },
   "outputs": [
    {
     "data": {
      "text/plain": [
       "152"
      ]
     },
     "execution_count": 11,
     "metadata": {},
     "output_type": "execute_result"
    }
   ],
   "source": [
    "is_valid = df_follow_up['childFinalStatus'].isin(['5', '5.0']) == False\n",
    "df_follow_up = df_follow_up[is_valid]\n",
    "len(df_follow_up)"
   ]
  },
  {
   "cell_type": "markdown",
   "id": "f56ef29a",
   "metadata": {},
   "source": [
    "## 20-00. Follow-up"
   ]
  },
  {
   "cell_type": "code",
   "execution_count": 12,
   "id": "6c7a7641",
   "metadata": {
    "execution": {
     "iopub.execute_input": "2025-01-21T19:14:31.374134Z",
     "iopub.status.busy": "2025-01-21T19:14:31.373982Z",
     "iopub.status.idle": "2025-01-21T19:14:31.376884Z",
     "shell.execute_reply": "2025-01-21T19:14:31.376587Z"
    }
   },
   "outputs": [
    {
     "data": {
      "text/plain": [
       "['birthDate', 'visitDate', 'birthNumber', 'center_orig']"
      ]
     },
     "execution_count": 12,
     "metadata": {},
     "output_type": "execute_result"
    }
   ],
   "source": [
    "follow_up_columns = COMBINE_harmonizer.get_columns(df_data_dict, 'Follow Up', 'Follow Up')\n",
    "all_follow_up_columns = id_columns + follow_up_columns\n",
    "follow_up_columns"
   ]
  },
  {
   "cell_type": "code",
   "execution_count": 13,
   "id": "f86e82cd",
   "metadata": {
    "execution": {
     "iopub.execute_input": "2025-01-21T19:14:31.378498Z",
     "iopub.status.busy": "2025-01-21T19:14:31.378369Z",
     "iopub.status.idle": "2025-01-21T19:14:31.445069Z",
     "shell.execute_reply": "2025-01-21T19:14:31.444748Z"
    }
   },
   "outputs": [],
   "source": [
    "df_follow_up_follow_up = COMBINE_harmonizer.valid_columns(df_follow_up.copy(), all_follow_up_columns, debug_df=False, debug_columns=True)\n",
    "df_follow_up_follow_up = COMBINE_harmonizer.postprocess(df_follow_up_follow_up)\n",
    "\n",
    "out_filename = os.sep.join([out_dir, '20-00-follow-up.csv'])\n",
    "df_follow_up_follow_up.to_csv(out_filename, index=False)"
   ]
  },
  {
   "cell_type": "markdown",
   "id": "7b191b30",
   "metadata": {},
   "source": [
    "### 20-00-1. check empty"
   ]
  },
  {
   "cell_type": "code",
   "execution_count": 14,
   "id": "c36268bd",
   "metadata": {
    "execution": {
     "iopub.execute_input": "2025-01-21T19:14:31.446735Z",
     "iopub.status.busy": "2025-01-21T19:14:31.446636Z",
     "iopub.status.idle": "2025-01-21T19:14:31.449744Z",
     "shell.execute_reply": "2025-01-21T19:14:31.449464Z"
    }
   },
   "outputs": [
    {
     "name": "stdout",
     "output_type": "stream",
     "text": [
      "(0/10) column: center (152 / 0)\n",
      "(1/10) column: subjectID (152 / 0)\n",
      "(2/10) column: uniqueID (152 / 0)\n",
      "(3/10) column: followupCenter (152 / 0)\n",
      "(4/10) column: followupID (152 / 0)\n",
      "(5/10) column: siteID (152 / 0)\n",
      "(6/10) column: birthDate (152 / 0)\n",
      "(7/10) column: visitDate (145 / 7)\n",
      "(8/10) column: birthNumber (144 / 8)\n",
      "(9/10) column: center_orig (3 / 149)\n"
     ]
    }
   ],
   "source": [
    "COMBINE_harmonizer.check_empty(df_follow_up_follow_up)"
   ]
  },
  {
   "cell_type": "code",
   "execution_count": 15,
   "id": "4489c13e",
   "metadata": {
    "execution": {
     "iopub.execute_input": "2025-01-21T19:14:31.451119Z",
     "iopub.status.busy": "2025-01-21T19:14:31.451006Z",
     "iopub.status.idle": "2025-01-21T19:14:31.453307Z",
     "shell.execute_reply": "2025-01-21T19:14:31.453056Z"
    }
   },
   "outputs": [
    {
     "name": "stdout",
     "output_type": "stream",
     "text": [
      "(0/10) center: (152/0)\n",
      "(1/10) subjectID: (152/0)\n",
      "(2/10) uniqueID: (152/0)\n",
      "(3/10) followupCenter: (152/0)\n",
      "(4/10) followupID: (152/0)\n",
      "(5/10) siteID: (152/0)\n",
      "(6/10) birthDate: (152/0)\n",
      "(7/10) visitDate: (145/7)\n",
      "(8/10) birthNumber: (144/8)\n",
      "(9/10) center_orig: (3/149)\n"
     ]
    }
   ],
   "source": [
    "COMBINE_harmonizer.column_info(df_follow_up_follow_up)"
   ]
  },
  {
   "cell_type": "markdown",
   "id": "351f5220",
   "metadata": {},
   "source": [
    "## 20-01. SES"
   ]
  },
  {
   "cell_type": "code",
   "execution_count": 16,
   "id": "348ce9ca",
   "metadata": {
    "execution": {
     "iopub.execute_input": "2025-01-21T19:14:31.454720Z",
     "iopub.status.busy": "2025-01-21T19:14:31.454610Z",
     "iopub.status.idle": "2025-01-21T19:14:31.457646Z",
     "shell.execute_reply": "2025-01-21T19:14:31.457379Z"
    }
   },
   "outputs": [
    {
     "data": {
      "text/plain": [
       "['followupCenter',\n",
       " 'siteID',\n",
       " 'center',\n",
       " 'subjectID',\n",
       " 'followupID',\n",
       " 'SESVisitDate',\n",
       " 'SESBirthDate',\n",
       " 'chronologicalAge_mo',\n",
       " 'correctedAge_mo',\n",
       " 'underStateSupervision',\n",
       " 'primaryCaretaker',\n",
       " 'otherCaretaker',\n",
       " 'maritalStatusPrimaryCaretaker',\n",
       " 'livingArrangementChild',\n",
       " 'numberPeopleInChildHousehold',\n",
       " 'otherContributeMoneyToChildHousehold',\n",
       " 'educationPrimaryCaretaker',\n",
       " 'educationOtherCaretaker',\n",
       " 'workPrimaryCaretaker',\n",
       " 'workOtherCaretaker',\n",
       " 'inSchoolPrimaryCaretaker',\n",
       " 'inSchoolOtherCaretaker',\n",
       " 'totalIncomeChildHousehold',\n",
       " 'medicalInsuranceChild',\n",
       " 'primaryLanguageChild',\n",
       " 'primaryLanguageChildOtherText',\n",
       " 'isSecondaryLanguageChild',\n",
       " 'secondaryLanguageChild',\n",
       " 'secondaryLanguageChildOtherText',\n",
       " 'numberPlaceChildLive',\n",
       " 'zipcode',\n",
       " 'visitingNurseReceive',\n",
       " 'visitingNurseNeed',\n",
       " 'homeNurseReceive',\n",
       " 'homeNurseNeed',\n",
       " 'otPtReceive',\n",
       " 'otPtNeed',\n",
       " 'speechTherapyReceive',\n",
       " 'speechTherapyNeed',\n",
       " 'earlyInterventionReceive',\n",
       " 'earlyInterventionNeed',\n",
       " 'socialWorkForChildReceive',\n",
       " 'socialWorkForChildNeed',\n",
       " 'specialClinicReceive',\n",
       " 'specialClinicNeed',\n",
       " 'pulmonaryReceive',\n",
       " 'pulmonaryNeed',\n",
       " 'ophthalmologicReceive',\n",
       " 'ophthalmologicNeed',\n",
       " 'gastrointestinalReceive',\n",
       " 'gastrointestinalNeed',\n",
       " 'audiologicReceive',\n",
       " 'audiologicNeed',\n",
       " 'neurologicReceive',\n",
       " 'neurologicNeed',\n",
       " 'otherReceive',\n",
       " 'otherNeed',\n",
       " 'otherNeedText',\n",
       " 'neurodevelopmentReceive',\n",
       " 'neurodevelopmentNeed',\n",
       " 'prematureFollowupClinicReceive',\n",
       " 'prematureFollowupClinicNeed',\n",
       " 'regularDoctor',\n",
       " 'resideChronicCareFacility',\n",
       " 'takenCareOfByOther',\n",
       " 'traditionalCenterCare',\n",
       " 'traditionalCenterCareAvgHrPerWeek',\n",
       " 'medicalChildCare',\n",
       " 'medicalChildCareAvgHrPerWeek',\n",
       " 'medicalChildCareWhere',\n",
       " 'traditionalHomeCare',\n",
       " 'traditionalHomeCareAvgHrPerWeek',\n",
       " 'traditionalHomeCareWhose',\n",
       " 'babysitter',\n",
       " 'babysitterAvgHrPerWeek',\n",
       " 'babysitterRelation',\n",
       " 'SESInterviewWhere',\n",
       " 'SESInterviewDate']"
      ]
     },
     "execution_count": 16,
     "metadata": {},
     "output_type": "execute_result"
    }
   ],
   "source": [
    "ses_columns = COMBINE_harmonizer.get_columns(df_data_dict, 'Follow Up', 'SES')\n",
    "all_ses_columns = id_columns + ses_columns\n",
    "all_ses_columns"
   ]
  },
  {
   "cell_type": "code",
   "execution_count": 17,
   "id": "24105e95",
   "metadata": {
    "execution": {
     "iopub.execute_input": "2025-01-21T19:14:31.458855Z",
     "iopub.status.busy": "2025-01-21T19:14:31.458758Z",
     "iopub.status.idle": "2025-01-21T19:14:31.533081Z",
     "shell.execute_reply": "2025-01-21T19:14:31.532759Z"
    }
   },
   "outputs": [],
   "source": [
    "df_ses = COMBINE_harmonizer.valid_columns(df_follow_up.copy(), all_ses_columns, debug_df=False, debug_columns=True)\n",
    "df_ses = COMBINE_harmonizer.postprocess(df_ses)\n",
    "\n",
    "out_filename = os.sep.join([out_dir, '20-01-ses.csv'])\n",
    "df_ses.to_csv(out_filename, index=False)"
   ]
  },
  {
   "cell_type": "markdown",
   "id": "ef46773b",
   "metadata": {},
   "source": [
    "### 20-01-1. check empty"
   ]
  },
  {
   "cell_type": "code",
   "execution_count": 18,
   "id": "1968c3eb",
   "metadata": {
    "execution": {
     "iopub.execute_input": "2025-01-21T19:14:31.534976Z",
     "iopub.status.busy": "2025-01-21T19:14:31.534819Z",
     "iopub.status.idle": "2025-01-21T19:14:31.544297Z",
     "shell.execute_reply": "2025-01-21T19:14:31.543998Z"
    }
   },
   "outputs": [
    {
     "name": "stdout",
     "output_type": "stream",
     "text": [
      "(0/79) column: center (152 / 0)\n",
      "(1/79) column: subjectID (152 / 0)\n",
      "(2/79) column: uniqueID (152 / 0)\n",
      "(3/79) column: followupCenter (152 / 0)\n",
      "(4/79) column: followupID (152 / 0)\n",
      "(5/79) column: siteID (152 / 0)\n",
      "(6/79) column: underStateSupervision (142 / 10)\n",
      "(7/79) column: otherContributeMoneyToChildHousehold (142 / 10)\n",
      "(8/79) column: workPrimaryCaretaker (142 / 10)\n",
      "(9/79) column: workOtherCaretaker (127 / 25)\n",
      "(10/79) column: inSchoolPrimaryCaretaker (142 / 10)\n",
      "(11/79) column: inSchoolOtherCaretaker (127 / 25)\n",
      "(12/79) column: primaryLanguageChildOtherText (7 / 145)\n",
      "(13/79) column: isSecondaryLanguageChild (142 / 10)\n",
      "(14/79) column: secondaryLanguageChildOtherText (5 / 147)\n",
      "(15/79) column: visitingNurseNeed (142 / 10)\n",
      "(16/79) column: homeNurseNeed (142 / 10)\n",
      "(17/79) column: otPtNeed (142 / 10)\n",
      "(18/79) column: speechTherapyNeed (142 / 10)\n",
      "(19/79) column: earlyInterventionNeed (142 / 10)\n",
      "(20/79) column: socialWorkForChildNeed (142 / 10)\n",
      "(21/79) column: specialClinicNeed (142 / 10)\n",
      "(22/79) column: pulmonaryNeed (142 / 10)\n",
      "(23/79) column: ophthalmologicNeed (142 / 10)\n",
      "(24/79) column: gastrointestinalNeed (142 / 10)\n",
      "(25/79) column: audiologicNeed (142 / 10)\n",
      "(26/79) column: neurologicNeed (142 / 10)\n",
      "(27/79) column: otherNeed (142 / 10)\n",
      "(28/79) column: otherNeedText (34 / 118)\n",
      "(29/79) column: neurodevelopmentNeed (142 / 10)\n",
      "(30/79) column: prematureFollowupClinicNeed (142 / 10)\n",
      "(31/79) column: regularDoctor (142 / 10)\n",
      "(32/79) column: resideChronicCareFacility (142 / 10)\n",
      "(33/79) column: takenCareOfByOther (142 / 10)\n",
      "(34/79) column: traditionalCenterCare (68 / 84)\n",
      "(35/79) column: medicalChildCare (68 / 84)\n",
      "(36/79) column: traditionalHomeCare (68 / 84)\n",
      "(37/79) column: babysitter (68 / 84)\n",
      "(38/79) column: SESVisitDate (142 / 10)\n",
      "(39/79) column: SESBirthDate (142 / 10)\n",
      "(40/79) column: chronologicalAge_mo (142 / 10)\n",
      "(41/79) column: correctedAge_mo (141 / 11)\n",
      "(42/79) column: primaryCaretaker (142 / 10)\n",
      "(43/79) column: otherCaretaker (128 / 24)\n",
      "(44/79) column: maritalStatusPrimaryCaretaker (142 / 10)\n",
      "(45/79) column: livingArrangementChild (142 / 10)\n",
      "(46/79) column: numberPeopleInChildHousehold (142 / 10)\n",
      "(47/79) column: educationPrimaryCaretaker (142 / 10)\n",
      "(48/79) column: educationOtherCaretaker (128 / 24)\n",
      "(49/79) column: totalIncomeChildHousehold (132 / 20)\n",
      "(50/79) column: medicalInsuranceChild (142 / 10)\n",
      "(51/79) column: primaryLanguageChild (142 / 10)\n",
      "(52/79) column: secondaryLanguageChild (33 / 119)\n",
      "(53/79) column: numberPlaceChildLive (142 / 10)\n",
      "(54/79) column: zipcode (141 / 11)\n",
      "(55/79) column: visitingNurseReceive (141 / 11)\n",
      "(56/79) column: homeNurseReceive (141 / 11)\n",
      "(57/79) column: otPtReceive (142 / 10)\n",
      "(58/79) column: speechTherapyReceive (142 / 10)\n",
      "(59/79) column: earlyInterventionReceive (142 / 10)\n",
      "(60/79) column: socialWorkForChildReceive (141 / 11)\n",
      "(61/79) column: specialClinicReceive (141 / 11)\n",
      "(62/79) column: pulmonaryReceive (142 / 10)\n",
      "(63/79) column: ophthalmologicReceive (141 / 11)\n",
      "(64/79) column: gastrointestinalReceive (141 / 11)\n",
      "(65/79) column: audiologicReceive (141 / 11)\n",
      "(66/79) column: neurologicReceive (142 / 10)\n",
      "(67/79) column: otherReceive (141 / 11)\n",
      "(68/79) column: neurodevelopmentReceive (141 / 11)\n",
      "(69/79) column: prematureFollowupClinicReceive (139 / 13)\n",
      "(70/79) column: traditionalCenterCareAvgHrPerWeek (20 / 132)\n",
      "(71/79) column: medicalChildCareAvgHrPerWeek (1 / 151)\n",
      "(72/79) column: medicalChildCareWhere (1 / 151)\n",
      "(73/79) column: traditionalHomeCareAvgHrPerWeek (22 / 130)\n",
      "(74/79) column: traditionalHomeCareWhose (21 / 131)\n",
      "(75/79) column: babysitterAvgHrPerWeek (30 / 122)\n",
      "(76/79) column: babysitterRelation (30 / 122)\n",
      "(77/79) column: SESInterviewWhere (142 / 10)\n",
      "(78/79) column: SESInterviewDate (142 / 10)\n"
     ]
    }
   ],
   "source": [
    "COMBINE_harmonizer.check_empty(df_ses)"
   ]
  },
  {
   "cell_type": "code",
   "execution_count": 19,
   "id": "78c3a617",
   "metadata": {
    "execution": {
     "iopub.execute_input": "2025-01-21T19:14:31.545753Z",
     "iopub.status.busy": "2025-01-21T19:14:31.545650Z",
     "iopub.status.idle": "2025-01-21T19:14:31.551071Z",
     "shell.execute_reply": "2025-01-21T19:14:31.550805Z"
    }
   },
   "outputs": [
    {
     "name": "stdout",
     "output_type": "stream",
     "text": [
      "(0/79) center: (152/0)\n",
      "(1/79) subjectID: (152/0)\n",
      "(2/79) uniqueID: (152/0)\n",
      "(3/79) followupCenter: (152/0)\n",
      "(4/79) followupID: (152/0)\n",
      "(5/79) siteID: (152/0)\n",
      "(6/79) underStateSupervision: (142/10)\n",
      "(7/79) otherContributeMoneyToChildHousehold: (142/10)\n",
      "(8/79) workPrimaryCaretaker: (142/10)\n",
      "(9/79) workOtherCaretaker: (127/25)\n",
      "(10/79) inSchoolPrimaryCaretaker: (142/10)\n",
      "(11/79) inSchoolOtherCaretaker: (127/25)\n",
      "(12/79) primaryLanguageChildOtherText: (7/145)\n",
      "(13/79) isSecondaryLanguageChild: (142/10)\n",
      "(14/79) secondaryLanguageChildOtherText: (5/147)\n",
      "(15/79) visitingNurseNeed: (142/10)\n",
      "(16/79) homeNurseNeed: (142/10)\n",
      "(17/79) otPtNeed: (142/10)\n",
      "(18/79) speechTherapyNeed: (142/10)\n",
      "(19/79) earlyInterventionNeed: (142/10)\n",
      "(20/79) socialWorkForChildNeed: (142/10)\n",
      "(21/79) specialClinicNeed: (142/10)\n",
      "(22/79) pulmonaryNeed: (142/10)\n",
      "(23/79) ophthalmologicNeed: (142/10)\n",
      "(24/79) gastrointestinalNeed: (142/10)\n",
      "(25/79) audiologicNeed: (142/10)\n",
      "(26/79) neurologicNeed: (142/10)\n",
      "(27/79) otherNeed: (142/10)\n",
      "(28/79) otherNeedText: (34/118)\n",
      "(29/79) neurodevelopmentNeed: (142/10)\n",
      "(30/79) prematureFollowupClinicNeed: (142/10)\n",
      "(31/79) regularDoctor: (142/10)\n",
      "(32/79) resideChronicCareFacility: (142/10)\n",
      "(33/79) takenCareOfByOther: (142/10)\n",
      "(34/79) traditionalCenterCare: (68/84)\n",
      "(35/79) medicalChildCare: (68/84)\n",
      "(36/79) traditionalHomeCare: (68/84)\n",
      "(37/79) babysitter: (68/84)\n",
      "(38/79) SESVisitDate: (142/10)\n",
      "(39/79) SESBirthDate: (142/10)\n",
      "(40/79) chronologicalAge_mo: (142/10)\n",
      "(41/79) correctedAge_mo: (141/11)\n",
      "(42/79) primaryCaretaker: (142/10)\n",
      "(43/79) otherCaretaker: (128/24)\n",
      "(44/79) maritalStatusPrimaryCaretaker: (142/10)\n",
      "(45/79) livingArrangementChild: (142/10)\n",
      "(46/79) numberPeopleInChildHousehold: (142/10)\n",
      "(47/79) educationPrimaryCaretaker: (142/10)\n",
      "(48/79) educationOtherCaretaker: (128/24)\n",
      "(49/79) totalIncomeChildHousehold: (132/20)\n",
      "(50/79) medicalInsuranceChild: (142/10)\n",
      "(51/79) primaryLanguageChild: (142/10)\n",
      "(52/79) secondaryLanguageChild: (33/119)\n",
      "(53/79) numberPlaceChildLive: (142/10)\n",
      "(54/79) zipcode: (141/11)\n",
      "(55/79) visitingNurseReceive: (141/11)\n",
      "(56/79) homeNurseReceive: (141/11)\n",
      "(57/79) otPtReceive: (142/10)\n",
      "(58/79) speechTherapyReceive: (142/10)\n",
      "(59/79) earlyInterventionReceive: (142/10)\n",
      "(60/79) socialWorkForChildReceive: (141/11)\n",
      "(61/79) specialClinicReceive: (141/11)\n",
      "(62/79) pulmonaryReceive: (142/10)\n",
      "(63/79) ophthalmologicReceive: (141/11)\n",
      "(64/79) gastrointestinalReceive: (141/11)\n",
      "(65/79) audiologicReceive: (141/11)\n",
      "(66/79) neurologicReceive: (142/10)\n",
      "(67/79) otherReceive: (141/11)\n",
      "(68/79) neurodevelopmentReceive: (141/11)\n",
      "(69/79) prematureFollowupClinicReceive: (139/13)\n",
      "(70/79) traditionalCenterCareAvgHrPerWeek: (20/132)\n",
      "(71/79) medicalChildCareAvgHrPerWeek: (1/151)\n",
      "(72/79) medicalChildCareWhere: (1/151)\n",
      "(73/79) traditionalHomeCareAvgHrPerWeek: (22/130)\n",
      "(74/79) traditionalHomeCareWhose: (21/131)\n",
      "(75/79) babysitterAvgHrPerWeek: (30/122)\n",
      "(76/79) babysitterRelation: (30/122)\n",
      "(77/79) SESInterviewWhere: (142/10)\n",
      "(78/79) SESInterviewDate: (142/10)\n"
     ]
    }
   ],
   "source": [
    "COMBINE_harmonizer.column_info(df_ses)"
   ]
  },
  {
   "cell_type": "markdown",
   "id": "a62d0ee0",
   "metadata": {},
   "source": [
    "## 20-02. Medical History"
   ]
  },
  {
   "cell_type": "code",
   "execution_count": 20,
   "id": "686606f5",
   "metadata": {
    "execution": {
     "iopub.execute_input": "2025-01-21T19:14:31.552475Z",
     "iopub.status.busy": "2025-01-21T19:14:31.552383Z",
     "iopub.status.idle": "2025-01-21T19:14:31.555246Z",
     "shell.execute_reply": "2025-01-21T19:14:31.554998Z"
    }
   },
   "outputs": [
    {
     "data": {
      "text/plain": [
       "['rehospitalize',\n",
       " 'numberRehospitalize',\n",
       " 'operation',\n",
       " 'operationTypanostomyTube',\n",
       " 'operationTracheostomy',\n",
       " 'operationEyeSurgery',\n",
       " 'operationEyeSurgeryReason',\n",
       " 'operationHerniaSurgery',\n",
       " 'operationGastrostomyTube',\n",
       " 'operationFundoplication',\n",
       " 'operationShuntForHydrocephalus',\n",
       " 'operationReanastomosisOfLargeOrSmallIntenstine',\n",
       " 'operationPDALigation',\n",
       " 'operationBrochoscopy',\n",
       " 'operationHypospadiusRepair',\n",
       " 'operationOther',\n",
       " 'operationOtherText',\n",
       " 'medication',\n",
       " 'vitaminMineralSupplement',\n",
       " 'highCaloricFormula',\n",
       " 'diuretics',\n",
       " 'antiRefluxMedication',\n",
       " 'bronchodilator',\n",
       " 'inhaledSteroid',\n",
       " 'oralIvSteroid',\n",
       " 'otherAsthmaMedication',\n",
       " 'decongestantColdAllergyMedication',\n",
       " 'anticonvulsantMedication',\n",
       " 'prophylaticAntibiotics',\n",
       " 'antibiotics',\n",
       " 'constipationMedication',\n",
       " 'bloodPressureMedication',\n",
       " 'thyroidMedication',\n",
       " 'muscleRelaxants',\n",
       " 'botox',\n",
       " 'otherMedication',\n",
       " 'otherMedicationText',\n",
       " 'seizure',\n",
       " 'medicalEquipmentHomeUse',\n",
       " 'apneaMonitor',\n",
       " 'oxygen',\n",
       " 'ventilatorCPAP',\n",
       " 'gastrostomyTube',\n",
       " 'tracheostomy',\n",
       " 'pulseOximeter',\n",
       " 'fluShot',\n",
       " 'RSVProphylaxis',\n",
       " 'independentFeedSelf',\n",
       " 'assistedEatByMouth',\n",
       " 'tubeFeed',\n",
       " 'TPN',\n",
       " 'dietMilk',\n",
       " 'dietTableFood',\n",
       " 'dietSoftFood',\n",
       " 'dietLiquid',\n",
       " 'dietThickendLiquid',\n",
       " 'subcutaneousFatNecrosis',\n",
       " 'equipmentForStanding',\n",
       " 'adaptedStroller',\n",
       " 'bracesOrthotics',\n",
       " 'walker',\n",
       " 'stander',\n",
       " 'cornerChairTumblerForm']"
      ]
     },
     "execution_count": 20,
     "metadata": {},
     "output_type": "execute_result"
    }
   ],
   "source": [
    "medical_history_columns = COMBINE_harmonizer.get_columns(df_data_dict, 'Follow Up', 'Medical History')\n",
    "all_medical_history_columns = id_columns + medical_history_columns\n",
    "medical_history_columns"
   ]
  },
  {
   "cell_type": "code",
   "execution_count": 21,
   "id": "aceeb846",
   "metadata": {
    "execution": {
     "iopub.execute_input": "2025-01-21T19:14:31.556577Z",
     "iopub.status.busy": "2025-01-21T19:14:31.556483Z",
     "iopub.status.idle": "2025-01-21T19:14:31.634294Z",
     "shell.execute_reply": "2025-01-21T19:14:31.633913Z"
    }
   },
   "outputs": [
    {
     "name": "stdout",
     "output_type": "stream",
     "text": [
      "(61/68) subcutaneousFatNecrosis not in df\n"
     ]
    }
   ],
   "source": [
    "df_medical_history = COMBINE_harmonizer.valid_columns(df_follow_up.copy(), all_medical_history_columns, debug_df=False, debug_columns=True)\n",
    "df_medical_history = COMBINE_harmonizer.postprocess(df_medical_history)\n",
    "\n",
    "out_filename = os.sep.join([out_dir, '20-02-medical-history.csv'])\n",
    "df_medical_history.to_csv(out_filename, index=False)"
   ]
  },
  {
   "cell_type": "markdown",
   "id": "ae2bad39",
   "metadata": {},
   "source": [
    "### 20-02-1. check empty"
   ]
  },
  {
   "cell_type": "code",
   "execution_count": 22,
   "id": "55503575",
   "metadata": {
    "execution": {
     "iopub.execute_input": "2025-01-21T19:14:31.636315Z",
     "iopub.status.busy": "2025-01-21T19:14:31.636124Z",
     "iopub.status.idle": "2025-01-21T19:14:31.646484Z",
     "shell.execute_reply": "2025-01-21T19:14:31.646132Z"
    }
   },
   "outputs": [
    {
     "name": "stdout",
     "output_type": "stream",
     "text": [
      "(0/68) column: center (152 / 0)\n",
      "(1/68) column: subjectID (152 / 0)\n",
      "(2/68) column: uniqueID (152 / 0)\n",
      "(3/68) column: followupCenter (152 / 0)\n",
      "(4/68) column: followupID (152 / 0)\n",
      "(5/68) column: siteID (152 / 0)\n",
      "(6/68) column: rehospitalize (143 / 9)\n",
      "(7/68) column: operation (143 / 9)\n",
      "(8/68) column: operationTypanostomyTube (25 / 127)\n",
      "(9/68) column: operationTracheostomy (25 / 127)\n",
      "(10/68) column: operationEyeSurgery (25 / 127)\n",
      "(11/68) column: operationHerniaSurgery (25 / 127)\n",
      "(12/68) column: operationGastrostomyTube (25 / 127)\n",
      "(13/68) column: operationFundoplication (25 / 127)\n",
      "(14/68) column: operationShuntForHydrocephalus (25 / 127)\n",
      "(15/68) column: operationReanastomosisOfLargeOrSmallIntenstine (25 / 127)\n",
      "(16/68) column: operationPDALigation (25 / 127)\n",
      "(17/68) column: operationBrochoscopy (25 / 127)\n",
      "(18/68) column: operationHypospadiusRepair (25 / 127)\n",
      "(19/68) column: operationOther (25 / 127)\n",
      "(20/68) column: operationOtherText (12 / 140)\n",
      "(21/68) column: medication (143 / 9)\n",
      "(22/68) column: otherMedicationText (7 / 145)\n",
      "(23/68) column: seizure (143 / 9)\n",
      "(24/68) column: medicalEquipmentHomeUse (143 / 9)\n",
      "(25/68) column: fluShot (143 / 9)\n",
      "(26/68) column: RSVProphylaxis (143 / 9)\n",
      "(27/68) column: independentFeedSelf (143 / 9)\n",
      "(28/68) column: assistedEatByMouth (143 / 9)\n",
      "(29/68) column: tubeFeed (143 / 9)\n",
      "(30/68) column: TPN (143 / 9)\n",
      "(31/68) column: dietMilk (143 / 9)\n",
      "(32/68) column: dietTableFood (143 / 9)\n",
      "(33/68) column: dietSoftFood (143 / 9)\n",
      "(34/68) column: dietLiquid (143 / 9)\n",
      "(35/68) column: dietThickendLiquid (143 / 9)\n",
      "(36/68) column: equipmentForStanding (143 / 9)\n",
      "(37/68) column: adaptedStroller (18 / 134)\n",
      "(38/68) column: bracesOrthotics (18 / 134)\n",
      "(39/68) column: walker (18 / 134)\n",
      "(40/68) column: stander (18 / 134)\n",
      "(41/68) column: cornerChairTumblerForm (18 / 134)\n",
      "(42/68) column: numberRehospitalize (35 / 117)\n",
      "(43/68) column: operationEyeSurgeryReason (2 / 150)\n",
      "(44/68) column: vitaminMineralSupplement (84 / 68)\n",
      "(45/68) column: highCaloricFormula (84 / 68)\n",
      "(46/68) column: diuretics (84 / 68)\n",
      "(47/68) column: antiRefluxMedication (84 / 68)\n",
      "(48/68) column: bronchodilator (84 / 68)\n",
      "(49/68) column: inhaledSteroid (84 / 68)\n",
      "(50/68) column: oralIvSteroid (84 / 68)\n",
      "(51/68) column: otherAsthmaMedication (84 / 68)\n",
      "(52/68) column: decongestantColdAllergyMedication (84 / 68)\n",
      "(53/68) column: anticonvulsantMedication (84 / 68)\n",
      "(54/68) column: prophylaticAntibiotics (84 / 68)\n",
      "(55/68) column: antibiotics (84 / 68)\n",
      "(56/68) column: constipationMedication (84 / 68)\n",
      "(57/68) column: bloodPressureMedication (84 / 68)\n",
      "(58/68) column: thyroidMedication (84 / 68)\n",
      "(59/68) column: muscleRelaxants (84 / 68)\n",
      "(60/68) column: botox (84 / 68)\n",
      "(61/68) column: otherMedication (84 / 68)\n",
      "(62/68) column: apneaMonitor (12 / 140)\n",
      "(63/68) column: oxygen (12 / 140)\n",
      "(64/68) column: ventilatorCPAP (12 / 140)\n",
      "(65/68) column: gastrostomyTube (12 / 140)\n",
      "(66/68) column: tracheostomy (12 / 140)\n",
      "(67/68) column: pulseOximeter (12 / 140)\n"
     ]
    }
   ],
   "source": [
    "COMBINE_harmonizer.check_empty(df_medical_history)"
   ]
  },
  {
   "cell_type": "code",
   "execution_count": 23,
   "id": "e1f16822",
   "metadata": {
    "execution": {
     "iopub.execute_input": "2025-01-21T19:14:31.648248Z",
     "iopub.status.busy": "2025-01-21T19:14:31.648102Z",
     "iopub.status.idle": "2025-01-21T19:14:31.653829Z",
     "shell.execute_reply": "2025-01-21T19:14:31.653516Z"
    }
   },
   "outputs": [
    {
     "name": "stdout",
     "output_type": "stream",
     "text": [
      "(0/68) center: (152/0)\n",
      "(1/68) subjectID: (152/0)\n",
      "(2/68) uniqueID: (152/0)\n",
      "(3/68) followupCenter: (152/0)\n",
      "(4/68) followupID: (152/0)\n",
      "(5/68) siteID: (152/0)\n",
      "(6/68) rehospitalize: (143/9)\n",
      "(7/68) operation: (143/9)\n",
      "(8/68) operationTypanostomyTube: (25/127)\n",
      "(9/68) operationTracheostomy: (25/127)\n",
      "(10/68) operationEyeSurgery: (25/127)\n",
      "(11/68) operationHerniaSurgery: (25/127)\n",
      "(12/68) operationGastrostomyTube: (25/127)\n",
      "(13/68) operationFundoplication: (25/127)\n",
      "(14/68) operationShuntForHydrocephalus: (25/127)\n",
      "(15/68) operationReanastomosisOfLargeOrSmallIntenstine: (25/127)\n",
      "(16/68) operationPDALigation: (25/127)\n",
      "(17/68) operationBrochoscopy: (25/127)\n",
      "(18/68) operationHypospadiusRepair: (25/127)\n",
      "(19/68) operationOther: (25/127)\n",
      "(20/68) operationOtherText: (12/140)\n",
      "(21/68) medication: (143/9)\n",
      "(22/68) otherMedicationText: (7/145)\n",
      "(23/68) seizure: (143/9)\n",
      "(24/68) medicalEquipmentHomeUse: (143/9)\n",
      "(25/68) fluShot: (143/9)\n",
      "(26/68) RSVProphylaxis: (143/9)\n",
      "(27/68) independentFeedSelf: (143/9)\n",
      "(28/68) assistedEatByMouth: (143/9)\n",
      "(29/68) tubeFeed: (143/9)\n",
      "(30/68) TPN: (143/9)\n",
      "(31/68) dietMilk: (143/9)\n",
      "(32/68) dietTableFood: (143/9)\n",
      "(33/68) dietSoftFood: (143/9)\n",
      "(34/68) dietLiquid: (143/9)\n",
      "(35/68) dietThickendLiquid: (143/9)\n",
      "(36/68) equipmentForStanding: (143/9)\n",
      "(37/68) adaptedStroller: (18/134)\n",
      "(38/68) bracesOrthotics: (18/134)\n",
      "(39/68) walker: (18/134)\n",
      "(40/68) stander: (18/134)\n",
      "(41/68) cornerChairTumblerForm: (18/134)\n",
      "(42/68) numberRehospitalize: (35/117)\n",
      "(43/68) operationEyeSurgeryReason: (2/150)\n",
      "(44/68) vitaminMineralSupplement: (84/68)\n",
      "(45/68) highCaloricFormula: (84/68)\n",
      "(46/68) diuretics: (84/68)\n",
      "(47/68) antiRefluxMedication: (84/68)\n",
      "(48/68) bronchodilator: (84/68)\n",
      "(49/68) inhaledSteroid: (84/68)\n",
      "(50/68) oralIvSteroid: (84/68)\n",
      "(51/68) otherAsthmaMedication: (84/68)\n",
      "(52/68) decongestantColdAllergyMedication: (84/68)\n",
      "(53/68) anticonvulsantMedication: (84/68)\n",
      "(54/68) prophylaticAntibiotics: (84/68)\n",
      "(55/68) antibiotics: (84/68)\n",
      "(56/68) constipationMedication: (84/68)\n",
      "(57/68) bloodPressureMedication: (84/68)\n",
      "(58/68) thyroidMedication: (84/68)\n",
      "(59/68) muscleRelaxants: (84/68)\n",
      "(60/68) botox: (84/68)\n",
      "(61/68) otherMedication: (84/68)\n",
      "(62/68) apneaMonitor: (12/140)\n",
      "(63/68) oxygen: (12/140)\n",
      "(64/68) ventilatorCPAP: (12/140)\n",
      "(65/68) gastrostomyTube: (12/140)\n",
      "(66/68) tracheostomy: (12/140)\n",
      "(67/68) pulseOximeter: (12/140)\n"
     ]
    }
   ],
   "source": [
    "COMBINE_harmonizer.column_info(df_medical_history)"
   ]
  },
  {
   "cell_type": "markdown",
   "id": "a21f7424",
   "metadata": {},
   "source": [
    "## 20-03. Medical Exam"
   ]
  },
  {
   "cell_type": "code",
   "execution_count": 24,
   "id": "e924fe70",
   "metadata": {
    "execution": {
     "iopub.execute_input": "2025-01-21T19:14:31.655573Z",
     "iopub.status.busy": "2025-01-21T19:14:31.655423Z",
     "iopub.status.idle": "2025-01-21T19:14:31.658854Z",
     "shell.execute_reply": "2025-01-21T19:14:31.658558Z"
    }
   },
   "outputs": [
    {
     "data": {
      "text/plain": [
       "['weight_cm',\n",
       " 'length_cm',\n",
       " 'headCircumference_cm',\n",
       " 'strabismusRight',\n",
       " 'strabismusLeft',\n",
       " 'nystagmusRight',\n",
       " 'nystagmusLeft',\n",
       " 'rovingEyeMovementRight',\n",
       " 'rovingEyeMovementLeft',\n",
       " 'eyeTrackRight',\n",
       " 'eyeTrackLeft',\n",
       " 'visionRight',\n",
       " 'visionLeft',\n",
       " 'audiologicAssessment',\n",
       " 'audiologicPendingForAssessment',\n",
       " 'visualReinforcementAudiometry',\n",
       " 'VRARight',\n",
       " 'VRALeft',\n",
       " 'VRASoundField',\n",
       " 'ABR',\n",
       " 'ABRRight',\n",
       " 'ABRLeft',\n",
       " 'hearingTestUnknown',\n",
       " 'hearingTestUnknownRight',\n",
       " 'hearingTestUnknownLeft',\n",
       " 'hearingImpaired',\n",
       " 'hearingAidRequirement',\n",
       " 'hearingImplant',\n",
       " 'swallowing',\n",
       " 'dysphagia',\n",
       " 'aspiration',\n",
       " 'abnormalVoice',\n",
       " 'drooling',\n",
       " 'nothingByMouth',\n",
       " 'observedAbnormalMovement',\n",
       " 'observedAbnormalMovementShortJerky',\n",
       " 'observedAbnormalMovementSlowWrithing',\n",
       " 'observedAbnormalMovementTremor',\n",
       " 'passiveMuscleToneNeckTrunk',\n",
       " 'upperExtremityMuscleToneRight',\n",
       " 'upperExtremityMuscleToneLeft',\n",
       " 'lowerExtremityMuscleToneHipKneeRight',\n",
       " 'lowerExtremityMuscleToneHipKneeLeft',\n",
       " 'lowerExtremityMuscleToneAnkleRight',\n",
       " 'lowerExtremityMuscleToneAnkleLeft',\n",
       " 'scissoringLegs',\n",
       " 'handPreference',\n",
       " 'protectiveReaction',\n",
       " 'limbMovementUpperLimb',\n",
       " 'limbMovementLowerLimb',\n",
       " 'deepTendonReflexUpperExtremityRight',\n",
       " 'deepTendonReflexUpperExtremityLeft',\n",
       " 'deepTendonReflexKneeRight',\n",
       " 'deepTendonReflexKneeLeft',\n",
       " 'deepTendonReflexAnkleRight',\n",
       " 'deepTendonReflexAnkleLeft',\n",
       " 'ankleClonusRight',\n",
       " 'ankleClonusLeft',\n",
       " 'plantarReflexRight',\n",
       " 'plantarReflexLeft',\n",
       " 'axisHeadNeck',\n",
       " 'axisTrunk',\n",
       " 'lowerLimbFunction',\n",
       " 'upperLimbFunction',\n",
       " 'handFunctionRight',\n",
       " 'handFunctionLeft',\n",
       " 'neuralNormal',\n",
       " 'generalizedHypotonia',\n",
       " 'hypertonia',\n",
       " 'neuralOther',\n",
       " 'neuralOtherText',\n",
       " 'spasticDiplegia',\n",
       " 'spasticHemiplegiaRight',\n",
       " 'spasticHemiplegiaLeft',\n",
       " 'spasticQuadriplegia',\n",
       " 'spasticTriplegia',\n",
       " 'dystonia',\n",
       " 'athetosis',\n",
       " 'athetosisDystonia',\n",
       " 'hypotoniaAtaxia',\n",
       " 'spasticMonoplegia',\n",
       " 'mixedCerebralPalsy',\n",
       " 'cerebralPalsyUnclassified',\n",
       " 'cerebralPalsyUnclassifiedText',\n",
       " 'cerebralPalsy',\n",
       " 'cerebralPalsyClass',\n",
       " 'abrnomalityAffectingNeuroAssessment',\n",
       " 'abrnomalityAffectingNeuroAssessmentText',\n",
       " 'examWhere',\n",
       " 'examWhereOtherText',\n",
       " 'examQuality',\n",
       " 'examFactorAffecting',\n",
       " 'examFactorAffectingText',\n",
       " 'examCompleteDate']"
      ]
     },
     "execution_count": 24,
     "metadata": {},
     "output_type": "execute_result"
    }
   ],
   "source": [
    "medical_exam_columns = COMBINE_harmonizer.get_columns(df_data_dict, 'Follow Up', 'Medical Exam')\n",
    "all_medical_exam_columns = id_columns + medical_exam_columns\n",
    "medical_exam_columns"
   ]
  },
  {
   "cell_type": "code",
   "execution_count": 25,
   "id": "4e731f32",
   "metadata": {
    "execution": {
     "iopub.execute_input": "2025-01-21T19:14:31.660177Z",
     "iopub.status.busy": "2025-01-21T19:14:31.660078Z",
     "iopub.status.idle": "2025-01-21T19:14:31.737179Z",
     "shell.execute_reply": "2025-01-21T19:14:31.736797Z"
    }
   },
   "outputs": [
    {
     "name": "stdout",
     "output_type": "stream",
     "text": [
      "(32/99) hearingImplant not in df\n",
      "(81/99) dystonia not in df\n",
      "(82/99) athetosis not in df\n"
     ]
    }
   ],
   "source": [
    "df_medical_exam = COMBINE_harmonizer.valid_columns(df_follow_up.copy(), all_medical_exam_columns, debug_df=False, debug_columns=True)\n",
    "df_medical_exam = COMBINE_harmonizer.postprocess(df_medical_exam)\n",
    "\n",
    "out_filename = os.sep.join([out_dir, '20-03-medical-exam.csv'])\n",
    "df_medical_exam.to_csv(out_filename, index=False)"
   ]
  },
  {
   "cell_type": "markdown",
   "id": "77fc8ce4",
   "metadata": {},
   "source": [
    "### 20-03-1. check empty"
   ]
  },
  {
   "cell_type": "code",
   "execution_count": 26,
   "id": "003d9ec1",
   "metadata": {
    "execution": {
     "iopub.execute_input": "2025-01-21T19:14:31.739228Z",
     "iopub.status.busy": "2025-01-21T19:14:31.739049Z",
     "iopub.status.idle": "2025-01-21T19:14:31.750720Z",
     "shell.execute_reply": "2025-01-21T19:14:31.750420Z"
    }
   },
   "outputs": [
    {
     "name": "stdout",
     "output_type": "stream",
     "text": [
      "(0/97) column: center (152 / 0)\n",
      "(1/97) column: subjectID (152 / 0)\n",
      "(2/97) column: uniqueID (152 / 0)\n",
      "(3/97) column: followupCenter (152 / 0)\n",
      "(4/97) column: followupID (152 / 0)\n",
      "(5/97) column: siteID (152 / 0)\n",
      "(6/97) column: audiologicAssessment (141 / 11)\n",
      "(7/97) column: audiologicPendingForAssessment (90 / 62)\n",
      "(8/97) column: visualReinforcementAudiometry (36 / 116)\n",
      "(9/97) column: ABR (36 / 116)\n",
      "(10/97) column: hearingTestUnknown (51 / 101)\n",
      "(11/97) column: dysphagia (141 / 11)\n",
      "(12/97) column: aspiration (141 / 11)\n",
      "(13/97) column: abnormalVoice (141 / 11)\n",
      "(14/97) column: drooling (141 / 11)\n",
      "(15/97) column: nothingByMouth (141 / 11)\n",
      "(16/97) column: observedAbnormalMovement (141 / 11)\n",
      "(17/97) column: observedAbnormalMovementShortJerky (6 / 146)\n",
      "(18/97) column: observedAbnormalMovementSlowWrithing (6 / 146)\n",
      "(19/97) column: observedAbnormalMovementTremor (6 / 146)\n",
      "(20/97) column: scissoringLegs (141 / 11)\n",
      "(21/97) column: neuralNormal (141 / 11)\n",
      "(22/97) column: generalizedHypotonia (31 / 121)\n",
      "(23/97) column: hypertonia (31 / 121)\n",
      "(24/97) column: neuralOther (31 / 121)\n",
      "(25/97) column: neuralOtherText (13 / 139)\n",
      "(26/97) column: spasticDiplegia (32 / 120)\n",
      "(27/97) column: spasticHemiplegiaRight (32 / 120)\n",
      "(28/97) column: spasticHemiplegiaLeft (0 / 152)\n",
      "(29/97) column: spasticQuadriplegia (32 / 120)\n",
      "(30/97) column: spasticTriplegia (32 / 120)\n",
      "(31/97) column: athetosisDystonia (32 / 120)\n",
      "(32/97) column: hypotoniaAtaxia (32 / 120)\n",
      "(33/97) column: spasticMonoplegia (32 / 120)\n",
      "(34/97) column: mixedCerebralPalsy (32 / 120)\n",
      "(35/97) column: cerebralPalsyUnclassified (32 / 120)\n",
      "(36/97) column: cerebralPalsyUnclassifiedText (1 / 151)\n",
      "(37/97) column: cerebralPalsy (141 / 11)\n",
      "(38/97) column: abrnomalityAffectingNeuroAssessment (141 / 11)\n",
      "(39/97) column: abrnomalityAffectingNeuroAssessmentText (4 / 148)\n",
      "(40/97) column: examWhereOtherText (0 / 152)\n",
      "(41/97) column: examFactorAffectingText (0 / 152)\n",
      "(42/97) column: weight_cm (141 / 11)\n",
      "(43/97) column: length_cm (141 / 11)\n",
      "(44/97) column: headCircumference_cm (141 / 11)\n",
      "(45/97) column: strabismusRight (141 / 11)\n",
      "(46/97) column: strabismusLeft (141 / 11)\n",
      "(47/97) column: nystagmusRight (141 / 11)\n",
      "(48/97) column: nystagmusLeft (141 / 11)\n",
      "(49/97) column: rovingEyeMovementRight (141 / 11)\n",
      "(50/97) column: rovingEyeMovementLeft (141 / 11)\n",
      "(51/97) column: eyeTrackRight (141 / 11)\n",
      "(52/97) column: eyeTrackLeft (141 / 11)\n",
      "(53/97) column: visionRight (141 / 11)\n",
      "(54/97) column: visionLeft (141 / 11)\n",
      "(55/97) column: VRARight (21 / 131)\n",
      "(56/97) column: VRALeft (21 / 131)\n",
      "(57/97) column: VRASoundField (5 / 147)\n",
      "(58/97) column: ABRRight (9 / 143)\n",
      "(59/97) column: ABRLeft (9 / 143)\n",
      "(60/97) column: hearingTestUnknownRight (15 / 137)\n",
      "(61/97) column: hearingTestUnknownLeft (15 / 137)\n",
      "(62/97) column: hearingImpaired (141 / 11)\n",
      "(63/97) column: hearingAidRequirement (141 / 11)\n",
      "(64/97) column: swallowing (141 / 11)\n",
      "(65/97) column: passiveMuscleToneNeckTrunk (141 / 11)\n",
      "(66/97) column: upperExtremityMuscleToneRight (140 / 12)\n",
      "(67/97) column: upperExtremityMuscleToneLeft (140 / 12)\n",
      "(68/97) column: lowerExtremityMuscleToneHipKneeRight (140 / 12)\n",
      "(69/97) column: lowerExtremityMuscleToneHipKneeLeft (140 / 12)\n",
      "(70/97) column: lowerExtremityMuscleToneAnkleRight (141 / 11)\n",
      "(71/97) column: lowerExtremityMuscleToneAnkleLeft (141 / 11)\n",
      "(72/97) column: handPreference (141 / 11)\n",
      "(73/97) column: protectiveReaction (139 / 13)\n",
      "(74/97) column: limbMovementUpperLimb (141 / 11)\n",
      "(75/97) column: limbMovementLowerLimb (141 / 11)\n",
      "(76/97) column: deepTendonReflexUpperExtremityRight (138 / 14)\n",
      "(77/97) column: deepTendonReflexUpperExtremityLeft (137 / 15)\n",
      "(78/97) column: deepTendonReflexKneeRight (139 / 13)\n",
      "(79/97) column: deepTendonReflexKneeLeft (140 / 12)\n",
      "(80/97) column: deepTendonReflexAnkleRight (140 / 12)\n",
      "(81/97) column: deepTendonReflexAnkleLeft (140 / 12)\n",
      "(82/97) column: ankleClonusRight (140 / 12)\n",
      "(83/97) column: ankleClonusLeft (140 / 12)\n",
      "(84/97) column: plantarReflexRight (140 / 12)\n",
      "(85/97) column: plantarReflexLeft (140 / 12)\n",
      "(86/97) column: axisHeadNeck (141 / 11)\n",
      "(87/97) column: axisTrunk (141 / 11)\n",
      "(88/97) column: lowerLimbFunction (141 / 11)\n",
      "(89/97) column: upperLimbFunction (141 / 11)\n",
      "(90/97) column: handFunctionRight (141 / 11)\n",
      "(91/97) column: handFunctionLeft (141 / 11)\n",
      "(92/97) column: cerebralPalsyClass (25 / 127)\n",
      "(93/97) column: examWhere (141 / 11)\n",
      "(94/97) column: examQuality (141 / 11)\n",
      "(95/97) column: examFactorAffecting (15 / 137)\n",
      "(96/97) column: examCompleteDate (141 / 11)\n"
     ]
    }
   ],
   "source": [
    "COMBINE_harmonizer.check_empty(df_medical_exam)"
   ]
  },
  {
   "cell_type": "code",
   "execution_count": 27,
   "id": "9fb6559f",
   "metadata": {
    "execution": {
     "iopub.execute_input": "2025-01-21T19:14:31.752307Z",
     "iopub.status.busy": "2025-01-21T19:14:31.752172Z",
     "iopub.status.idle": "2025-01-21T19:14:31.758594Z",
     "shell.execute_reply": "2025-01-21T19:14:31.758313Z"
    }
   },
   "outputs": [
    {
     "name": "stdout",
     "output_type": "stream",
     "text": [
      "(0/97) center: (152/0)\n",
      "(1/97) subjectID: (152/0)\n",
      "(2/97) uniqueID: (152/0)\n",
      "(3/97) followupCenter: (152/0)\n",
      "(4/97) followupID: (152/0)\n",
      "(5/97) siteID: (152/0)\n",
      "(6/97) audiologicAssessment: (141/11)\n",
      "(7/97) audiologicPendingForAssessment: (90/62)\n",
      "(8/97) visualReinforcementAudiometry: (36/116)\n",
      "(9/97) ABR: (36/116)\n",
      "(10/97) hearingTestUnknown: (51/101)\n",
      "(11/97) dysphagia: (141/11)\n",
      "(12/97) aspiration: (141/11)\n",
      "(13/97) abnormalVoice: (141/11)\n",
      "(14/97) drooling: (141/11)\n",
      "(15/97) nothingByMouth: (141/11)\n",
      "(16/97) observedAbnormalMovement: (141/11)\n",
      "(17/97) observedAbnormalMovementShortJerky: (6/146)\n",
      "(18/97) observedAbnormalMovementSlowWrithing: (6/146)\n",
      "(19/97) observedAbnormalMovementTremor: (6/146)\n",
      "(20/97) scissoringLegs: (141/11)\n",
      "(21/97) neuralNormal: (141/11)\n",
      "(22/97) generalizedHypotonia: (31/121)\n",
      "(23/97) hypertonia: (31/121)\n",
      "(24/97) neuralOther: (31/121)\n",
      "(25/97) neuralOtherText: (13/139)\n",
      "(26/97) spasticDiplegia: (32/120)\n",
      "(27/97) spasticHemiplegiaRight: (32/120)\n",
      "(28/97) spasticHemiplegiaLeft: (0/152)\n",
      "(29/97) spasticQuadriplegia: (32/120)\n",
      "(30/97) spasticTriplegia: (32/120)\n",
      "(31/97) athetosisDystonia: (32/120)\n",
      "(32/97) hypotoniaAtaxia: (32/120)\n",
      "(33/97) spasticMonoplegia: (32/120)\n",
      "(34/97) mixedCerebralPalsy: (32/120)\n",
      "(35/97) cerebralPalsyUnclassified: (32/120)\n",
      "(36/97) cerebralPalsyUnclassifiedText: (1/151)\n",
      "(37/97) cerebralPalsy: (141/11)\n",
      "(38/97) abrnomalityAffectingNeuroAssessment: (141/11)\n",
      "(39/97) abrnomalityAffectingNeuroAssessmentText: (4/148)\n",
      "(40/97) examWhereOtherText: (0/152)\n",
      "(41/97) examFactorAffectingText: (0/152)\n",
      "(42/97) weight_cm: (141/11)\n",
      "(43/97) length_cm: (141/11)\n",
      "(44/97) headCircumference_cm: (141/11)\n",
      "(45/97) strabismusRight: (141/11)\n",
      "(46/97) strabismusLeft: (141/11)\n",
      "(47/97) nystagmusRight: (141/11)\n",
      "(48/97) nystagmusLeft: (141/11)\n",
      "(49/97) rovingEyeMovementRight: (141/11)\n",
      "(50/97) rovingEyeMovementLeft: (141/11)\n",
      "(51/97) eyeTrackRight: (141/11)\n",
      "(52/97) eyeTrackLeft: (141/11)\n",
      "(53/97) visionRight: (141/11)\n",
      "(54/97) visionLeft: (141/11)\n",
      "(55/97) VRARight: (21/131)\n",
      "(56/97) VRALeft: (21/131)\n",
      "(57/97) VRASoundField: (5/147)\n",
      "(58/97) ABRRight: (9/143)\n",
      "(59/97) ABRLeft: (9/143)\n",
      "(60/97) hearingTestUnknownRight: (15/137)\n",
      "(61/97) hearingTestUnknownLeft: (15/137)\n",
      "(62/97) hearingImpaired: (141/11)\n",
      "(63/97) hearingAidRequirement: (141/11)\n",
      "(64/97) swallowing: (141/11)\n",
      "(65/97) passiveMuscleToneNeckTrunk: (141/11)\n",
      "(66/97) upperExtremityMuscleToneRight: (140/12)\n",
      "(67/97) upperExtremityMuscleToneLeft: (140/12)\n",
      "(68/97) lowerExtremityMuscleToneHipKneeRight: (140/12)\n",
      "(69/97) lowerExtremityMuscleToneHipKneeLeft: (140/12)\n",
      "(70/97) lowerExtremityMuscleToneAnkleRight: (141/11)\n",
      "(71/97) lowerExtremityMuscleToneAnkleLeft: (141/11)\n",
      "(72/97) handPreference: (141/11)\n",
      "(73/97) protectiveReaction: (139/13)\n",
      "(74/97) limbMovementUpperLimb: (141/11)\n",
      "(75/97) limbMovementLowerLimb: (141/11)\n",
      "(76/97) deepTendonReflexUpperExtremityRight: (138/14)\n",
      "(77/97) deepTendonReflexUpperExtremityLeft: (137/15)\n",
      "(78/97) deepTendonReflexKneeRight: (139/13)\n",
      "(79/97) deepTendonReflexKneeLeft: (140/12)\n",
      "(80/97) deepTendonReflexAnkleRight: (140/12)\n",
      "(81/97) deepTendonReflexAnkleLeft: (140/12)\n",
      "(82/97) ankleClonusRight: (140/12)\n",
      "(83/97) ankleClonusLeft: (140/12)\n",
      "(84/97) plantarReflexRight: (140/12)\n",
      "(85/97) plantarReflexLeft: (140/12)\n",
      "(86/97) axisHeadNeck: (141/11)\n",
      "(87/97) axisTrunk: (141/11)\n",
      "(88/97) lowerLimbFunction: (141/11)\n",
      "(89/97) upperLimbFunction: (141/11)\n",
      "(90/97) handFunctionRight: (141/11)\n",
      "(91/97) handFunctionLeft: (141/11)\n",
      "(92/97) cerebralPalsyClass: (25/127)\n",
      "(93/97) examWhere: (141/11)\n",
      "(94/97) examQuality: (141/11)\n",
      "(95/97) examFactorAffecting: (15/137)\n",
      "(96/97) examCompleteDate: (141/11)\n"
     ]
    }
   ],
   "source": [
    "COMBINE_harmonizer.column_info(df_medical_exam)"
   ]
  },
  {
   "cell_type": "markdown",
   "id": "d569812c",
   "metadata": {},
   "source": [
    "## 20-04. Bayley-III"
   ]
  },
  {
   "cell_type": "code",
   "execution_count": 28,
   "id": "703abf91",
   "metadata": {
    "execution": {
     "iopub.execute_input": "2025-01-21T19:14:31.759995Z",
     "iopub.status.busy": "2025-01-21T19:14:31.759896Z",
     "iopub.status.idle": "2025-01-21T19:14:31.762984Z",
     "shell.execute_reply": "2025-01-21T19:14:31.762665Z"
    }
   },
   "outputs": [
    {
     "data": {
      "text/plain": [
       "['BayleyIIICognitiveSubtest',\n",
       " 'BayleyIIIReasonNoSuccessCognitiveSubtest',\n",
       " 'BayleyIIIReasonNoSuccessCognitiveSubtestText',\n",
       " 'BayleyIIILanguageReceptiveSubtest',\n",
       " 'BayleyIIIReasonNoSuccessLanguageReceptiveSubtest',\n",
       " 'BayleyIIIReasonNoSuccessLanguageReceptiveSubtestText',\n",
       " 'BayleyIIILanguageExpressiveSubtest',\n",
       " 'BayleyIIIReasonNoSuccessLanguageExpressiveSubtest',\n",
       " 'BayleyIIIReasonNoSuccessLanguageExpressiveSubtestText',\n",
       " 'BayleyIIIMotorFineSubtest',\n",
       " 'BayleyIIIReasonNoSuccessMotorFineSubtest',\n",
       " 'BayleyIIIReasonNoSuccessMotorFineSubtestText',\n",
       " 'BayleyIIIMotorGrossSubtest',\n",
       " 'BayleyIIIReasonNoSuccessMotorGrossSubtest',\n",
       " 'BayleyIIIReasonNoSuccessMotorGrossSubtestText',\n",
       " 'BayleyIIIAdjustedAgeForCognitiveTest',\n",
       " 'BayleyIIIAdjustedAgeForReceptiveCommunication',\n",
       " 'BayleyIIIAdjustedAgeForExpressiveCommunication',\n",
       " 'BayleyIIIAdjustedAgeForMotorFineSubtest',\n",
       " 'BayleyIIIAdjustedAgeForMotorGrossSubtest',\n",
       " 'BayleyIIICognitiveRaw',\n",
       " 'BayleyIIICognitiveScale',\n",
       " 'BayleyIIICognitiveComposite',\n",
       " 'BayleyIIIReceptiveRaw',\n",
       " 'BayleyIIIReceptiveScale',\n",
       " 'BayleyIIIExpressiveRaw',\n",
       " 'BayleyIIIExpressiveScale',\n",
       " 'BayleyIIISumLanguageScore',\n",
       " 'BayleyIIILanguageComposite',\n",
       " 'BayleyIIIMotorFineRaw',\n",
       " 'BayleyIIIMotorFineScale',\n",
       " 'BayleyIIIMotorGrossRaw',\n",
       " 'BayleyIIIMotorGrossScale',\n",
       " 'BayleyIIISumMotorScore',\n",
       " 'BayleyIIIMotorComposite',\n",
       " 'BayleyIIIInEnglish',\n",
       " 'BayleyIIIRequireInterpreter',\n",
       " 'BayleyIIIAdministratorMaskedToChildHistory',\n",
       " 'BayleyIIIWhere',\n",
       " 'BayleyIIIDate']"
      ]
     },
     "execution_count": 28,
     "metadata": {},
     "output_type": "execute_result"
    }
   ],
   "source": [
    "bayley_iii_columns = COMBINE_harmonizer.get_columns(df_data_dict, 'Follow Up', 'Bayley-III')\n",
    "all_bayley_iii_columns = id_columns + bayley_iii_columns\n",
    "bayley_iii_columns"
   ]
  },
  {
   "cell_type": "code",
   "execution_count": 29,
   "id": "86a5c711",
   "metadata": {
    "execution": {
     "iopub.execute_input": "2025-01-21T19:14:31.764397Z",
     "iopub.status.busy": "2025-01-21T19:14:31.764280Z",
     "iopub.status.idle": "2025-01-21T19:14:31.837351Z",
     "shell.execute_reply": "2025-01-21T19:14:31.836950Z"
    }
   },
   "outputs": [],
   "source": [
    "df_bayley_iii = COMBINE_harmonizer.valid_columns(df_follow_up.copy(), all_bayley_iii_columns, debug_df=False, debug_columns=True)\n",
    "df_bayley_iii = COMBINE_harmonizer.postprocess(df_bayley_iii)\n",
    "\n",
    "out_filename = os.sep.join([out_dir, '20-04-bayley-iii.csv'])\n",
    "df_bayley_iii.to_csv(out_filename, index=False)"
   ]
  },
  {
   "cell_type": "markdown",
   "id": "3498bf5d",
   "metadata": {},
   "source": [
    "### 20-04-1. check empty"
   ]
  },
  {
   "cell_type": "code",
   "execution_count": 30,
   "id": "92b6a0fa",
   "metadata": {
    "execution": {
     "iopub.execute_input": "2025-01-21T19:14:31.839530Z",
     "iopub.status.busy": "2025-01-21T19:14:31.839359Z",
     "iopub.status.idle": "2025-01-21T19:14:31.847139Z",
     "shell.execute_reply": "2025-01-21T19:14:31.846742Z"
    }
   },
   "outputs": [
    {
     "name": "stdout",
     "output_type": "stream",
     "text": [
      "(0/46) column: center (152 / 0)\n",
      "(1/46) column: subjectID (152 / 0)\n",
      "(2/46) column: uniqueID (152 / 0)\n",
      "(3/46) column: followupCenter (152 / 0)\n",
      "(4/46) column: followupID (152 / 0)\n",
      "(5/46) column: siteID (152 / 0)\n",
      "(6/46) column: BayleyIIICognitiveSubtest (141 / 11)\n",
      "(7/46) column: BayleyIIIReasonNoSuccessCognitiveSubtestText (0 / 152)\n",
      "(8/46) column: BayleyIIILanguageReceptiveSubtest (141 / 11)\n",
      "(9/46) column: BayleyIIIReasonNoSuccessLanguageReceptiveSubtestText (0 / 152)\n",
      "(10/46) column: BayleyIIILanguageExpressiveSubtest (141 / 11)\n",
      "(11/46) column: BayleyIIIReasonNoSuccessLanguageExpressiveSubtestText (0 / 152)\n",
      "(12/46) column: BayleyIIIMotorFineSubtest (141 / 11)\n",
      "(13/46) column: BayleyIIIReasonNoSuccessMotorFineSubtestText (0 / 152)\n",
      "(14/46) column: BayleyIIIMotorGrossSubtest (141 / 11)\n",
      "(15/46) column: BayleyIIIReasonNoSuccessMotorGrossSubtestText (0 / 152)\n",
      "(16/46) column: BayleyIIIInEnglish (140 / 12)\n",
      "(17/46) column: BayleyIIIRequireInterpreter (17 / 135)\n",
      "(18/46) column: BayleyIIIAdministratorMaskedToChildHistory (140 / 12)\n",
      "(19/46) column: BayleyIIIReasonNoSuccessCognitiveSubtest (9 / 143)\n",
      "(20/46) column: BayleyIIIReasonNoSuccessLanguageReceptiveSubtest (9 / 143)\n",
      "(21/46) column: BayleyIIIReasonNoSuccessLanguageExpressiveSubtest (10 / 142)\n",
      "(22/46) column: BayleyIIIReasonNoSuccessMotorFineSubtest (9 / 143)\n",
      "(23/46) column: BayleyIIIReasonNoSuccessMotorGrossSubtest (10 / 142)\n",
      "(24/46) column: BayleyIIIAdjustedAgeForCognitiveTest (138 / 14)\n",
      "(25/46) column: BayleyIIIAdjustedAgeForReceptiveCommunication (137 / 15)\n",
      "(26/46) column: BayleyIIIAdjustedAgeForExpressiveCommunication (137 / 15)\n",
      "(27/46) column: BayleyIIIAdjustedAgeForMotorFineSubtest (139 / 13)\n",
      "(28/46) column: BayleyIIIAdjustedAgeForMotorGrossSubtest (138 / 14)\n",
      "(29/46) column: BayleyIIICognitiveRaw (132 / 20)\n",
      "(30/46) column: BayleyIIICognitiveScale (132 / 20)\n",
      "(31/46) column: BayleyIIICognitiveComposite (138 / 14)\n",
      "(32/46) column: BayleyIIIReceptiveRaw (132 / 20)\n",
      "(33/46) column: BayleyIIIReceptiveScale (132 / 20)\n",
      "(34/46) column: BayleyIIIExpressiveRaw (131 / 21)\n",
      "(35/46) column: BayleyIIIExpressiveScale (131 / 21)\n",
      "(36/46) column: BayleyIIISumLanguageScore (130 / 22)\n",
      "(37/46) column: BayleyIIILanguageComposite (136 / 16)\n",
      "(38/46) column: BayleyIIIMotorFineRaw (132 / 20)\n",
      "(39/46) column: BayleyIIIMotorFineScale (132 / 20)\n",
      "(40/46) column: BayleyIIIMotorGrossRaw (131 / 21)\n",
      "(41/46) column: BayleyIIIMotorGrossScale (131 / 21)\n",
      "(42/46) column: BayleyIIISumMotorScore (131 / 21)\n",
      "(43/46) column: BayleyIIIMotorComposite (138 / 14)\n",
      "(44/46) column: BayleyIIIWhere (140 / 12)\n",
      "(45/46) column: BayleyIIIDate (140 / 12)\n"
     ]
    }
   ],
   "source": [
    "COMBINE_harmonizer.check_empty(df_bayley_iii)"
   ]
  },
  {
   "cell_type": "code",
   "execution_count": 31,
   "id": "d0a08370",
   "metadata": {
    "execution": {
     "iopub.execute_input": "2025-01-21T19:14:31.848811Z",
     "iopub.status.busy": "2025-01-21T19:14:31.848658Z",
     "iopub.status.idle": "2025-01-21T19:14:31.853603Z",
     "shell.execute_reply": "2025-01-21T19:14:31.853260Z"
    }
   },
   "outputs": [
    {
     "name": "stdout",
     "output_type": "stream",
     "text": [
      "(0/46) center: (152/0)\n",
      "(1/46) subjectID: (152/0)\n",
      "(2/46) uniqueID: (152/0)\n",
      "(3/46) followupCenter: (152/0)\n",
      "(4/46) followupID: (152/0)\n",
      "(5/46) siteID: (152/0)\n",
      "(6/46) BayleyIIICognitiveSubtest: (141/11)\n",
      "(7/46) BayleyIIIReasonNoSuccessCognitiveSubtestText: (0/152)\n",
      "(8/46) BayleyIIILanguageReceptiveSubtest: (141/11)\n",
      "(9/46) BayleyIIIReasonNoSuccessLanguageReceptiveSubtestText: (0/152)\n",
      "(10/46) BayleyIIILanguageExpressiveSubtest: (141/11)\n",
      "(11/46) BayleyIIIReasonNoSuccessLanguageExpressiveSubtestText: (0/152)\n",
      "(12/46) BayleyIIIMotorFineSubtest: (141/11)\n",
      "(13/46) BayleyIIIReasonNoSuccessMotorFineSubtestText: (0/152)\n",
      "(14/46) BayleyIIIMotorGrossSubtest: (141/11)\n",
      "(15/46) BayleyIIIReasonNoSuccessMotorGrossSubtestText: (0/152)\n",
      "(16/46) BayleyIIIInEnglish: (140/12)\n",
      "(17/46) BayleyIIIRequireInterpreter: (17/135)\n",
      "(18/46) BayleyIIIAdministratorMaskedToChildHistory: (140/12)\n",
      "(19/46) BayleyIIIReasonNoSuccessCognitiveSubtest: (9/143)\n",
      "(20/46) BayleyIIIReasonNoSuccessLanguageReceptiveSubtest: (9/143)\n",
      "(21/46) BayleyIIIReasonNoSuccessLanguageExpressiveSubtest: (10/142)\n",
      "(22/46) BayleyIIIReasonNoSuccessMotorFineSubtest: (9/143)\n",
      "(23/46) BayleyIIIReasonNoSuccessMotorGrossSubtest: (10/142)\n",
      "(24/46) BayleyIIIAdjustedAgeForCognitiveTest: (138/14)\n",
      "(25/46) BayleyIIIAdjustedAgeForReceptiveCommunication: (137/15)\n",
      "(26/46) BayleyIIIAdjustedAgeForExpressiveCommunication: (137/15)\n",
      "(27/46) BayleyIIIAdjustedAgeForMotorFineSubtest: (139/13)\n",
      "(28/46) BayleyIIIAdjustedAgeForMotorGrossSubtest: (138/14)\n",
      "(29/46) BayleyIIICognitiveRaw: (132/20)\n",
      "(30/46) BayleyIIICognitiveScale: (132/20)\n",
      "(31/46) BayleyIIICognitiveComposite: (138/14)\n",
      "(32/46) BayleyIIIReceptiveRaw: (132/20)\n",
      "(33/46) BayleyIIIReceptiveScale: (132/20)\n",
      "(34/46) BayleyIIIExpressiveRaw: (131/21)\n",
      "(35/46) BayleyIIIExpressiveScale: (131/21)\n",
      "(36/46) BayleyIIISumLanguageScore: (130/22)\n",
      "(37/46) BayleyIIILanguageComposite: (136/16)\n",
      "(38/46) BayleyIIIMotorFineRaw: (132/20)\n",
      "(39/46) BayleyIIIMotorFineScale: (132/20)\n",
      "(40/46) BayleyIIIMotorGrossRaw: (131/21)\n",
      "(41/46) BayleyIIIMotorGrossScale: (131/21)\n",
      "(42/46) BayleyIIISumMotorScore: (131/21)\n",
      "(43/46) BayleyIIIMotorComposite: (138/14)\n",
      "(44/46) BayleyIIIWhere: (140/12)\n",
      "(45/46) BayleyIIIDate: (140/12)\n"
     ]
    }
   ],
   "source": [
    "COMBINE_harmonizer.column_info(df_bayley_iii)"
   ]
  },
  {
   "cell_type": "markdown",
   "id": "772adefe",
   "metadata": {},
   "source": [
    "## 20-05. GMFCS"
   ]
  },
  {
   "cell_type": "code",
   "execution_count": 32,
   "id": "e3d9614c",
   "metadata": {
    "execution": {
     "iopub.execute_input": "2025-01-21T19:14:31.855298Z",
     "iopub.status.busy": "2025-01-21T19:14:31.855162Z",
     "iopub.status.idle": "2025-01-21T19:14:31.858173Z",
     "shell.execute_reply": "2025-01-21T19:14:31.857772Z"
    }
   },
   "outputs": [
    {
     "data": {
      "text/plain": [
       "['grossMotorFunctionLevel']"
      ]
     },
     "execution_count": 32,
     "metadata": {},
     "output_type": "execute_result"
    }
   ],
   "source": [
    "gmfcs_columns = COMBINE_harmonizer.get_columns(df_data_dict, 'Follow Up', 'GMFCS')\n",
    "all_gmfcs_columns = id_columns + gmfcs_columns\n",
    "gmfcs_columns"
   ]
  },
  {
   "cell_type": "code",
   "execution_count": 33,
   "id": "63d7c424",
   "metadata": {
    "execution": {
     "iopub.execute_input": "2025-01-21T19:14:31.859957Z",
     "iopub.status.busy": "2025-01-21T19:14:31.859836Z",
     "iopub.status.idle": "2025-01-21T19:14:31.927334Z",
     "shell.execute_reply": "2025-01-21T19:14:31.926876Z"
    }
   },
   "outputs": [],
   "source": [
    "df_gmfcs = COMBINE_harmonizer.valid_columns(df_follow_up.copy(), all_gmfcs_columns, debug_df=False, debug_columns=True)\n",
    "df_gmfcs = COMBINE_harmonizer.postprocess(df_gmfcs)\n",
    "\n",
    "out_filename = os.sep.join([out_dir, '20-05-gmfcs.csv'])\n",
    "df_gmfcs.to_csv(out_filename, index=False)"
   ]
  },
  {
   "cell_type": "markdown",
   "id": "2bd5ced8",
   "metadata": {},
   "source": [
    "### 20-05-1. check empty"
   ]
  },
  {
   "cell_type": "code",
   "execution_count": 34,
   "id": "197cb4fb",
   "metadata": {
    "execution": {
     "iopub.execute_input": "2025-01-21T19:14:31.929708Z",
     "iopub.status.busy": "2025-01-21T19:14:31.929509Z",
     "iopub.status.idle": "2025-01-21T19:14:31.933266Z",
     "shell.execute_reply": "2025-01-21T19:14:31.932926Z"
    }
   },
   "outputs": [
    {
     "name": "stdout",
     "output_type": "stream",
     "text": [
      "(0/7) column: center (152 / 0)\n",
      "(1/7) column: subjectID (152 / 0)\n",
      "(2/7) column: uniqueID (152 / 0)\n",
      "(3/7) column: followupCenter (152 / 0)\n",
      "(4/7) column: followupID (152 / 0)\n",
      "(5/7) column: siteID (152 / 0)\n",
      "(6/7) column: grossMotorFunctionLevel (141 / 11)\n"
     ]
    }
   ],
   "source": [
    "COMBINE_harmonizer.check_empty(df_gmfcs)"
   ]
  },
  {
   "cell_type": "code",
   "execution_count": 35,
   "id": "8b474737",
   "metadata": {
    "execution": {
     "iopub.execute_input": "2025-01-21T19:14:31.934964Z",
     "iopub.status.busy": "2025-01-21T19:14:31.934848Z",
     "iopub.status.idle": "2025-01-21T19:14:31.937731Z",
     "shell.execute_reply": "2025-01-21T19:14:31.937362Z"
    }
   },
   "outputs": [
    {
     "name": "stdout",
     "output_type": "stream",
     "text": [
      "(0/7) center: (152/0)\n",
      "(1/7) subjectID: (152/0)\n",
      "(2/7) uniqueID: (152/0)\n",
      "(3/7) followupCenter: (152/0)\n",
      "(4/7) followupID: (152/0)\n",
      "(5/7) siteID: (152/0)\n",
      "(6/7) grossMotorFunctionLevel: (141/11)\n"
     ]
    }
   ],
   "source": [
    "COMBINE_harmonizer.column_info(df_gmfcs)"
   ]
  },
  {
   "cell_type": "markdown",
   "id": "49a39c28",
   "metadata": {},
   "source": [
    "## 20-06. Status"
   ]
  },
  {
   "cell_type": "code",
   "execution_count": 36,
   "id": "c3323740",
   "metadata": {
    "execution": {
     "iopub.execute_input": "2025-01-21T19:14:31.939443Z",
     "iopub.status.busy": "2025-01-21T19:14:31.939323Z",
     "iopub.status.idle": "2025-01-21T19:14:31.942752Z",
     "shell.execute_reply": "2025-01-21T19:14:31.942413Z"
    }
   },
   "outputs": [
    {
     "data": {
      "text/plain": [
       "['statusVisitDate',\n",
       " 'statusBirthDate',\n",
       " 'childFinalStatus',\n",
       " 'deathDate',\n",
       " 'deathCause',\n",
       " 'reasonLossFollowUp',\n",
       " 'firstVisitDate',\n",
       " 'finalVisitDate']"
      ]
     },
     "execution_count": 36,
     "metadata": {},
     "output_type": "execute_result"
    }
   ],
   "source": [
    "status_columns = COMBINE_harmonizer.get_columns(df_data_dict, 'Follow Up', 'Status')\n",
    "all_status_columns = id_columns + status_columns\n",
    "status_columns"
   ]
  },
  {
   "cell_type": "code",
   "execution_count": 37,
   "id": "77df7f81",
   "metadata": {
    "execution": {
     "iopub.execute_input": "2025-01-21T19:14:31.944477Z",
     "iopub.status.busy": "2025-01-21T19:14:31.944322Z",
     "iopub.status.idle": "2025-01-21T19:14:32.019073Z",
     "shell.execute_reply": "2025-01-21T19:14:32.018546Z"
    }
   },
   "outputs": [
    {
     "name": "stdout",
     "output_type": "stream",
     "text": [
      "(9/13) deathCause not in df\n"
     ]
    }
   ],
   "source": [
    "df_status = COMBINE_harmonizer.valid_columns(df_follow_up.copy(), all_status_columns, debug_df=False, debug_columns=True)\n",
    "df_status = COMBINE_harmonizer.postprocess(df_status)\n",
    "\n",
    "out_filename = os.sep.join([out_dir, '20-06-status.csv'])\n",
    "df_status.to_csv(out_filename, index=False)"
   ]
  },
  {
   "cell_type": "markdown",
   "id": "f917ea48",
   "metadata": {},
   "source": [
    "### 20-06-1. check empty"
   ]
  },
  {
   "cell_type": "code",
   "execution_count": 38,
   "id": "2c41a946",
   "metadata": {
    "execution": {
     "iopub.execute_input": "2025-01-21T19:14:32.021173Z",
     "iopub.status.busy": "2025-01-21T19:14:32.021012Z",
     "iopub.status.idle": "2025-01-21T19:14:32.024623Z",
     "shell.execute_reply": "2025-01-21T19:14:32.024251Z"
    }
   },
   "outputs": [
    {
     "name": "stdout",
     "output_type": "stream",
     "text": [
      "(0/13) column: center (152 / 0)\n",
      "(1/13) column: subjectID (152 / 0)\n",
      "(2/13) column: uniqueID (152 / 0)\n",
      "(3/13) column: followupCenter (152 / 0)\n",
      "(4/13) column: followupID (152 / 0)\n",
      "(5/13) column: siteID (152 / 0)\n",
      "(6/13) column: statusBirthDate (152 / 0)\n",
      "(7/13) column: statusVisitDate (0 / 152)\n",
      "(8/13) column: childFinalStatus (152 / 0)\n",
      "(9/13) column: deathDate (2 / 150)\n",
      "(10/13) column: reasonLossFollowUp (9 / 143)\n",
      "(11/13) column: firstVisitDate (140 / 12)\n",
      "(12/13) column: finalVisitDate (140 / 12)\n"
     ]
    }
   ],
   "source": [
    "COMBINE_harmonizer.check_empty(df_status)"
   ]
  },
  {
   "cell_type": "code",
   "execution_count": 39,
   "id": "45d3ccaa",
   "metadata": {
    "execution": {
     "iopub.execute_input": "2025-01-21T19:14:32.026158Z",
     "iopub.status.busy": "2025-01-21T19:14:32.026049Z",
     "iopub.status.idle": "2025-01-21T19:14:32.028821Z",
     "shell.execute_reply": "2025-01-21T19:14:32.028532Z"
    }
   },
   "outputs": [
    {
     "name": "stdout",
     "output_type": "stream",
     "text": [
      "(0/13) center: (152/0)\n",
      "(1/13) subjectID: (152/0)\n",
      "(2/13) uniqueID: (152/0)\n",
      "(3/13) followupCenter: (152/0)\n",
      "(4/13) followupID: (152/0)\n",
      "(5/13) siteID: (152/0)\n",
      "(6/13) statusBirthDate: (152/0)\n",
      "(7/13) statusVisitDate: (0/152)\n",
      "(8/13) childFinalStatus: (152/0)\n",
      "(9/13) deathDate: (2/150)\n",
      "(10/13) reasonLossFollowUp: (9/143)\n",
      "(11/13) firstVisitDate: (140/12)\n",
      "(12/13) finalVisitDate: (140/12)\n"
     ]
    }
   ],
   "source": [
    "COMBINE_harmonizer.column_info(df_status)"
   ]
  },
  {
   "cell_type": "markdown",
   "id": "d50d72dc",
   "metadata": {},
   "source": [
    "## 20-08. Lost Follow-up"
   ]
  },
  {
   "cell_type": "code",
   "execution_count": 40,
   "id": "9e3e3444",
   "metadata": {
    "execution": {
     "iopub.execute_input": "2025-01-21T19:14:32.030328Z",
     "iopub.status.busy": "2025-01-21T19:14:32.030225Z",
     "iopub.status.idle": "2025-01-21T19:14:32.033521Z",
     "shell.execute_reply": "2025-01-21T19:14:32.033197Z"
    }
   },
   "outputs": [
    {
     "data": {
      "text/plain": [
       "['lostFollowUpInformationAvailableIndirectSrc',\n",
       " 'lostFollowUpLastContactDate',\n",
       " 'lostFollowUpFormCompleteDate',\n",
       " 'lostFollowUpChildAlive',\n",
       " 'lostFollowUpLastKnownAliveCorrectedAge_mo',\n",
       " 'lostFollowUpDeathDate',\n",
       " 'lostFollowUpInterview',\n",
       " 'lostFollowUpInterviewDate',\n",
       " 'lostFollowUpInterviewCorrectedAge_mo',\n",
       " 'lostFollowUpAnyQuestionCompleteChartReview',\n",
       " 'lostFollowUpChartReviewDate',\n",
       " 'lostFollowUpChartReviewCorrectedAge_mo',\n",
       " 'interviewChildHealth',\n",
       " 'interviewWalkAlone',\n",
       " 'interviewWalkAloneAge_mo',\n",
       " 'interviewSittingAlong',\n",
       " 'interviewHeadControl',\n",
       " 'interviewSee',\n",
       " 'interviewEyeExam',\n",
       " 'interviewNeedWearGlasses',\n",
       " 'interviewHear',\n",
       " 'interviewHearExam',\n",
       " 'interviewNeedWearHearingAid',\n",
       " 'interviewNumberWordVocabulary',\n",
       " 'interviewCombine2Words',\n",
       " 'interviewCombine3Words',\n",
       " 'interviewHydrocephalusShunt',\n",
       " 'interviewCerebralPalsy',\n",
       " 'interviewDevelopmentalDelay',\n",
       " 'interviewLanguageDelay',\n",
       " 'interviewPoorWeightGain',\n",
       " 'interviewSeizure',\n",
       " 'interviewBlindness',\n",
       " 'interviewOtherBehaviorProblem',\n",
       " 'interviewOtherBehaviorProblemText',\n",
       " 'interviewOtherMajorMedicalProblem',\n",
       " 'interviewOtherMajorMedicalProblemText',\n",
       " 'interviewOtherNeuraldevelopmentalProblem',\n",
       " 'interviewOtherNeuraldevelopmentalProblemText',\n",
       " 'interviewMotorGrossFunctionLevel',\n",
       " 'chartReviewEyeExam',\n",
       " 'chartReviewHearingExam',\n",
       " 'chartReviewNeedWearHearingAid',\n",
       " 'chartReviewHydrocephalusShunt',\n",
       " 'chartReviewCerebralPalsy',\n",
       " 'chartReviewDevelopmentalDelay',\n",
       " 'chartReviewLanguageDelay',\n",
       " 'chartReviewPoorWeightGain',\n",
       " 'chartReviewSeizure',\n",
       " 'chartReviewBlindness',\n",
       " 'chartReviewOtherBehaviorProblem',\n",
       " 'chartReviewOtherBehaviorProblemText',\n",
       " 'chartReviewOtherMajorMedicalProblem',\n",
       " 'chartReviewOtherMajorMedicalProblemText',\n",
       " 'chartReviewOtherNeuraldevelopmentalProblem',\n",
       " 'chartReviewOtherNeuraldevelopmentalProblemText',\n",
       " 'chartReviewMotorGrossFunctionLevel']"
      ]
     },
     "execution_count": 40,
     "metadata": {},
     "output_type": "execute_result"
    }
   ],
   "source": [
    "lost_columns = COMBINE_harmonizer.get_columns(df_data_dict, 'Follow Up', 'Lost Followup')\n",
    "all_lost_columns = id_columns + lost_columns\n",
    "lost_columns"
   ]
  },
  {
   "cell_type": "code",
   "execution_count": 41,
   "id": "1aa24334",
   "metadata": {
    "execution": {
     "iopub.execute_input": "2025-01-21T19:14:32.034886Z",
     "iopub.status.busy": "2025-01-21T19:14:32.034765Z",
     "iopub.status.idle": "2025-01-21T19:14:32.106882Z",
     "shell.execute_reply": "2025-01-21T19:14:32.106545Z"
    }
   },
   "outputs": [
    {
     "name": "stdout",
     "output_type": "stream",
     "text": [
      "(44/62) interviewMotorGrossFunctionLevel not in df\n",
      "(61/62) chartReviewMotorGrossFunctionLevel not in df\n"
     ]
    }
   ],
   "source": [
    "df_lost = COMBINE_harmonizer.valid_columns(df_follow_up.copy(), all_lost_columns, debug_df=False, debug_columns=True)\n",
    "df_lost = COMBINE_harmonizer.postprocess(df_lost)\n",
    "\n",
    "out_filename = os.sep.join([out_dir, '20-08-lost.csv'])\n",
    "df_lost.to_csv(out_filename, index=False)"
   ]
  },
  {
   "cell_type": "markdown",
   "id": "c3d84346",
   "metadata": {},
   "source": [
    "### 20-08-1. check empty"
   ]
  },
  {
   "cell_type": "code",
   "execution_count": 42,
   "id": "e5823ba7",
   "metadata": {
    "execution": {
     "iopub.execute_input": "2025-01-21T19:14:32.108797Z",
     "iopub.status.busy": "2025-01-21T19:14:32.108639Z",
     "iopub.status.idle": "2025-01-21T19:14:32.117079Z",
     "shell.execute_reply": "2025-01-21T19:14:32.116766Z"
    }
   },
   "outputs": [
    {
     "name": "stdout",
     "output_type": "stream",
     "text": [
      "(0/61) column: center (152 / 0)\n",
      "(1/61) column: subjectID (152 / 0)\n",
      "(2/61) column: uniqueID (152 / 0)\n",
      "(3/61) column: followupCenter (152 / 0)\n",
      "(4/61) column: followupID (152 / 0)\n",
      "(5/61) column: siteID (152 / 0)\n",
      "(6/61) column: lostFollowUpInformationAvailableIndirectSrc (10 / 142)\n",
      "(7/61) column: lostFollowUpChildAlive (7 / 145)\n",
      "(8/61) column: lostFollowUpInterview (6 / 146)\n",
      "(9/61) column: lostFollowUpAnyQuestionCompleteChartReview (6 / 146)\n",
      "(10/61) column: interviewWalkAlone (2 / 150)\n",
      "(11/61) column: interviewSittingAlong (0 / 152)\n",
      "(12/61) column: interviewHeadControl (0 / 152)\n",
      "(13/61) column: interviewSee (2 / 150)\n",
      "(14/61) column: interviewEyeExam (2 / 150)\n",
      "(15/61) column: interviewNeedWearGlasses (2 / 150)\n",
      "(16/61) column: interviewHear (2 / 150)\n",
      "(17/61) column: interviewHearExam (2 / 150)\n",
      "(18/61) column: interviewNeedWearHearingAid (0 / 152)\n",
      "(19/61) column: interviewCombine2Words (2 / 150)\n",
      "(20/61) column: interviewCombine3Words (2 / 150)\n",
      "(21/61) column: interviewHydrocephalusShunt (2 / 150)\n",
      "(22/61) column: interviewCerebralPalsy (2 / 150)\n",
      "(23/61) column: interviewDevelopmentalDelay (2 / 150)\n",
      "(24/61) column: interviewLanguageDelay (2 / 150)\n",
      "(25/61) column: interviewPoorWeightGain (2 / 150)\n",
      "(26/61) column: interviewSeizure (2 / 150)\n",
      "(27/61) column: interviewBlindness (2 / 150)\n",
      "(28/61) column: interviewOtherBehaviorProblem (2 / 150)\n",
      "(29/61) column: interviewOtherBehaviorProblemText (0 / 152)\n",
      "(30/61) column: interviewOtherMajorMedicalProblem (2 / 150)\n",
      "(31/61) column: interviewOtherMajorMedicalProblemText (0 / 152)\n",
      "(32/61) column: interviewOtherNeuraldevelopmentalProblem (2 / 150)\n",
      "(33/61) column: interviewOtherNeuraldevelopmentalProblemText (0 / 152)\n",
      "(34/61) column: chartReviewOtherBehaviorProblemText (0 / 152)\n",
      "(35/61) column: chartReviewOtherMajorMedicalProblemText (4 / 148)\n",
      "(36/61) column: chartReviewOtherNeuraldevelopmentalProblemText (2 / 150)\n",
      "(37/61) column: lostFollowUpLastContactDate (3 / 149)\n",
      "(38/61) column: lostFollowUpFormCompleteDate (3 / 149)\n",
      "(39/61) column: lostFollowUpLastKnownAliveCorrectedAge_mo (6 / 146)\n",
      "(40/61) column: lostFollowUpDeathDate (1 / 151)\n",
      "(41/61) column: lostFollowUpInterviewDate (2 / 150)\n",
      "(42/61) column: lostFollowUpInterviewCorrectedAge_mo (2 / 150)\n",
      "(43/61) column: lostFollowUpChartReviewDate (6 / 146)\n",
      "(44/61) column: lostFollowUpChartReviewCorrectedAge_mo (6 / 146)\n",
      "(45/61) column: interviewChildHealth (2 / 150)\n",
      "(46/61) column: interviewWalkAloneAge_mo (0 / 152)\n",
      "(47/61) column: interviewNumberWordVocabulary (1 / 151)\n",
      "(48/61) column: chartReviewEyeExam (6 / 146)\n",
      "(49/61) column: chartReviewHearingExam (6 / 146)\n",
      "(50/61) column: chartReviewNeedWearHearingAid (6 / 146)\n",
      "(51/61) column: chartReviewHydrocephalusShunt (6 / 146)\n",
      "(52/61) column: chartReviewCerebralPalsy (6 / 146)\n",
      "(53/61) column: chartReviewDevelopmentalDelay (6 / 146)\n",
      "(54/61) column: chartReviewLanguageDelay (6 / 146)\n",
      "(55/61) column: chartReviewPoorWeightGain (6 / 146)\n",
      "(56/61) column: chartReviewSeizure (6 / 146)\n",
      "(57/61) column: chartReviewBlindness (6 / 146)\n",
      "(58/61) column: chartReviewOtherBehaviorProblem (6 / 146)\n",
      "(59/61) column: chartReviewOtherMajorMedicalProblem (6 / 146)\n",
      "(60/61) column: chartReviewOtherNeuraldevelopmentalProblem (6 / 146)\n"
     ]
    }
   ],
   "source": [
    "COMBINE_harmonizer.check_empty(df_lost)"
   ]
  },
  {
   "cell_type": "code",
   "execution_count": 43,
   "id": "ada543df",
   "metadata": {
    "execution": {
     "iopub.execute_input": "2025-01-21T19:14:32.119103Z",
     "iopub.status.busy": "2025-01-21T19:14:32.118945Z",
     "iopub.status.idle": "2025-01-21T19:14:32.124831Z",
     "shell.execute_reply": "2025-01-21T19:14:32.124487Z"
    }
   },
   "outputs": [
    {
     "name": "stdout",
     "output_type": "stream",
     "text": [
      "(0/61) center: (152/0)\n",
      "(1/61) subjectID: (152/0)\n",
      "(2/61) uniqueID: (152/0)\n",
      "(3/61) followupCenter: (152/0)\n",
      "(4/61) followupID: (152/0)\n",
      "(5/61) siteID: (152/0)\n",
      "(6/61) lostFollowUpInformationAvailableIndirectSrc: (10/142)\n",
      "(7/61) lostFollowUpChildAlive: (7/145)\n",
      "(8/61) lostFollowUpInterview: (6/146)\n",
      "(9/61) lostFollowUpAnyQuestionCompleteChartReview: (6/146)\n",
      "(10/61) interviewWalkAlone: (2/150)\n",
      "(11/61) interviewSittingAlong: (0/152)\n",
      "(12/61) interviewHeadControl: (0/152)\n",
      "(13/61) interviewSee: (2/150)\n",
      "(14/61) interviewEyeExam: (2/150)\n",
      "(15/61) interviewNeedWearGlasses: (2/150)\n",
      "(16/61) interviewHear: (2/150)\n",
      "(17/61) interviewHearExam: (2/150)\n",
      "(18/61) interviewNeedWearHearingAid: (0/152)\n",
      "(19/61) interviewCombine2Words: (2/150)\n",
      "(20/61) interviewCombine3Words: (2/150)\n",
      "(21/61) interviewHydrocephalusShunt: (2/150)\n",
      "(22/61) interviewCerebralPalsy: (2/150)\n",
      "(23/61) interviewDevelopmentalDelay: (2/150)\n",
      "(24/61) interviewLanguageDelay: (2/150)\n",
      "(25/61) interviewPoorWeightGain: (2/150)\n",
      "(26/61) interviewSeizure: (2/150)\n",
      "(27/61) interviewBlindness: (2/150)\n",
      "(28/61) interviewOtherBehaviorProblem: (2/150)\n",
      "(29/61) interviewOtherBehaviorProblemText: (0/152)\n",
      "(30/61) interviewOtherMajorMedicalProblem: (2/150)\n",
      "(31/61) interviewOtherMajorMedicalProblemText: (0/152)\n",
      "(32/61) interviewOtherNeuraldevelopmentalProblem: (2/150)\n",
      "(33/61) interviewOtherNeuraldevelopmentalProblemText: (0/152)\n",
      "(34/61) chartReviewOtherBehaviorProblemText: (0/152)\n",
      "(35/61) chartReviewOtherMajorMedicalProblemText: (4/148)\n",
      "(36/61) chartReviewOtherNeuraldevelopmentalProblemText: (2/150)\n",
      "(37/61) lostFollowUpLastContactDate: (3/149)\n",
      "(38/61) lostFollowUpFormCompleteDate: (3/149)\n",
      "(39/61) lostFollowUpLastKnownAliveCorrectedAge_mo: (6/146)\n",
      "(40/61) lostFollowUpDeathDate: (1/151)\n",
      "(41/61) lostFollowUpInterviewDate: (2/150)\n",
      "(42/61) lostFollowUpInterviewCorrectedAge_mo: (2/150)\n",
      "(43/61) lostFollowUpChartReviewDate: (6/146)\n",
      "(44/61) lostFollowUpChartReviewCorrectedAge_mo: (6/146)\n",
      "(45/61) interviewChildHealth: (2/150)\n",
      "(46/61) interviewWalkAloneAge_mo: (0/152)\n",
      "(47/61) interviewNumberWordVocabulary: (1/151)\n",
      "(48/61) chartReviewEyeExam: (6/146)\n",
      "(49/61) chartReviewHearingExam: (6/146)\n",
      "(50/61) chartReviewNeedWearHearingAid: (6/146)\n",
      "(51/61) chartReviewHydrocephalusShunt: (6/146)\n",
      "(52/61) chartReviewCerebralPalsy: (6/146)\n",
      "(53/61) chartReviewDevelopmentalDelay: (6/146)\n",
      "(54/61) chartReviewLanguageDelay: (6/146)\n",
      "(55/61) chartReviewPoorWeightGain: (6/146)\n",
      "(56/61) chartReviewSeizure: (6/146)\n",
      "(57/61) chartReviewBlindness: (6/146)\n",
      "(58/61) chartReviewOtherBehaviorProblem: (6/146)\n",
      "(59/61) chartReviewOtherMajorMedicalProblem: (6/146)\n",
      "(60/61) chartReviewOtherNeuraldevelopmentalProblem: (6/146)\n"
     ]
    }
   ],
   "source": [
    "COMBINE_harmonizer.column_info(df_lost)"
   ]
  },
  {
   "cell_type": "markdown",
   "id": "0fca9b39-2323-450a-88e2-5a85d43ed62b",
   "metadata": {},
   "source": [
    "## 20-07. Readmission"
   ]
  },
  {
   "cell_type": "code",
   "execution_count": 44,
   "id": "c71ed528",
   "metadata": {
    "execution": {
     "iopub.execute_input": "2025-01-21T19:14:32.126741Z",
     "iopub.status.busy": "2025-01-21T19:14:32.126552Z",
     "iopub.status.idle": "2025-01-21T19:14:32.196989Z",
     "shell.execute_reply": "2025-01-21T19:14:32.196195Z"
    }
   },
   "outputs": [
    {
     "name": "stdout",
     "output_type": "stream",
     "text": [
      "(2/9) REC_CMP not in columns\n",
      "(7/9) CMP_DATE not in columns\n",
      "(8/9) CRT_DATE not in columns\n"
     ]
    }
   ],
   "source": [
    "df_readmission = df_dict['lf04ar.csv']\n",
    "df_readmission = COMBINE_harmonizer.valid_columns(df_readmission, all_valid_columns, debug_df=True, debug_columns=False)\n",
    "df_readmission = COMBINE_harmonizer.postprocess(df_readmission, subject_id_idx='followupID', center_id_idx='followupCenter')\n",
    "out_filename = os.sep.join([out_dir, '20-07-readmission.csv'])\n",
    "df_readmission.to_csv(out_filename, index=False)"
   ]
  },
  {
   "cell_type": "markdown",
   "id": "4872bf3e-ac32-446b-8a58-fe476f740ebe",
   "metadata": {},
   "source": [
    "### 20-07-1. check readmission"
   ]
  },
  {
   "cell_type": "code",
   "execution_count": 45,
   "id": "f0875202-d206-42e4-87bd-fa6c35daecb4",
   "metadata": {
    "execution": {
     "iopub.execute_input": "2025-01-21T19:14:32.201804Z",
     "iopub.status.busy": "2025-01-21T19:14:32.201386Z",
     "iopub.status.idle": "2025-01-21T19:14:32.207677Z",
     "shell.execute_reply": "2025-01-21T19:14:32.207195Z"
    }
   },
   "outputs": [
    {
     "data": {
      "text/plain": [
       "(12, 14, 29, 65)"
      ]
     },
     "execution_count": 45,
     "metadata": {},
     "output_type": "execute_result"
    }
   ],
   "source": [
    "len(df_readmission['followupCenter'].unique()), len(df_readmission['followupID'].unique()), len(df_readmission['uniqueID'].unique()), len(df_readmission)"
   ]
  },
  {
   "cell_type": "code",
   "execution_count": 46,
   "id": "c1107900-da34-4c73-86f3-a38f3a361309",
   "metadata": {
    "execution": {
     "iopub.execute_input": "2025-01-21T19:14:32.211111Z",
     "iopub.status.busy": "2025-01-21T19:14:32.210608Z",
     "iopub.status.idle": "2025-01-21T19:14:32.222889Z",
     "shell.execute_reply": "2025-01-21T19:14:32.222452Z"
    }
   },
   "outputs": [
    {
     "data": {
      "text/html": [
       "<div>\n",
       "<style scoped>\n",
       "    .dataframe tbody tr th:only-of-type {\n",
       "        vertical-align: middle;\n",
       "    }\n",
       "\n",
       "    .dataframe tbody tr th {\n",
       "        vertical-align: top;\n",
       "    }\n",
       "\n",
       "    .dataframe thead th {\n",
       "        text-align: right;\n",
       "    }\n",
       "</style>\n",
       "<table border=\"1\" class=\"dataframe\">\n",
       "  <thead>\n",
       "    <tr style=\"text-align: right;\">\n",
       "      <th></th>\n",
       "      <th></th>\n",
       "      <th>_count</th>\n",
       "    </tr>\n",
       "    <tr>\n",
       "      <th>uniqueID</th>\n",
       "      <th>readmissionNumber</th>\n",
       "      <th></th>\n",
       "    </tr>\n",
       "  </thead>\n",
       "  <tbody>\n",
       "  </tbody>\n",
       "</table>\n",
       "</div>"
      ],
      "text/plain": [
       "Empty DataFrame\n",
       "Columns: [_count]\n",
       "Index: []"
      ]
     },
     "execution_count": 46,
     "metadata": {},
     "output_type": "execute_result"
    }
   ],
   "source": [
    "df_readmission_groupby = df_readmission.groupby(['uniqueID', 'readmissionNumber']).agg(_count=('uniqueID', 'count'))\n",
    "\n",
    "is_invalid = df_readmission_groupby['_count'] > 1\n",
    "df_readmission_groupby[is_invalid]"
   ]
  },
  {
   "cell_type": "markdown",
   "id": "56b763e7-faa0-4c08-bc17-35007c949eeb",
   "metadata": {},
   "source": [
    "### 20-07-2. check empty cells"
   ]
  },
  {
   "cell_type": "code",
   "execution_count": 47,
   "id": "506e9f6f-1874-4f4f-a23f-c642ef45133a",
   "metadata": {
    "execution": {
     "iopub.execute_input": "2025-01-21T19:14:32.225196Z",
     "iopub.status.busy": "2025-01-21T19:14:32.225013Z",
     "iopub.status.idle": "2025-01-21T19:14:32.228486Z",
     "shell.execute_reply": "2025-01-21T19:14:32.228083Z"
    }
   },
   "outputs": [
    {
     "name": "stdout",
     "output_type": "stream",
     "text": [
      "(0/7) column: followupCenter (65 / 0)\n",
      "(1/7) column: followupID (65 / 0)\n",
      "(2/7) column: uniqueID (65 / 0)\n",
      "(3/7) column: readmissionPrimaryCauseOtherText (7 / 58)\n",
      "(4/7) column: readmissionNumber (65 / 0)\n",
      "(5/7) column: readmissionTimePeriod (65 / 0)\n",
      "(6/7) column: readmissionPrimaryCause (65 / 0)\n"
     ]
    }
   ],
   "source": [
    "COMBINE_harmonizer.check_empty(df_readmission)"
   ]
  },
  {
   "cell_type": "code",
   "execution_count": 48,
   "id": "bf34a1ec-5f6f-4a17-a2f2-6b79b0487d23",
   "metadata": {
    "execution": {
     "iopub.execute_input": "2025-01-21T19:14:32.230346Z",
     "iopub.status.busy": "2025-01-21T19:14:32.230201Z",
     "iopub.status.idle": "2025-01-21T19:14:32.233183Z",
     "shell.execute_reply": "2025-01-21T19:14:32.232863Z"
    }
   },
   "outputs": [
    {
     "name": "stdout",
     "output_type": "stream",
     "text": [
      "(0/7) followupCenter: (65/0)\n",
      "(1/7) followupID: (65/0)\n",
      "(2/7) uniqueID: (65/0)\n",
      "(3/7) readmissionPrimaryCauseOtherText: (7/58)\n",
      "(4/7) readmissionNumber: (65/0)\n",
      "(5/7) readmissionTimePeriod: (65/0)\n",
      "(6/7) readmissionPrimaryCause: (65/0)\n"
     ]
    }
   ],
   "source": [
    "COMBINE_harmonizer.column_info(df_readmission)"
   ]
  }
 ],
 "metadata": {
  "kernelspec": {
   "display_name": ".venv",
   "language": "python",
   "name": "python3"
  },
  "language_info": {
   "codemirror_mode": {
    "name": "ipython",
    "version": 3
   },
   "file_extension": ".py",
   "mimetype": "text/x-python",
   "name": "python",
   "nbconvert_exporter": "python",
   "pygments_lexer": "ipython3",
   "version": "3.13.0"
  }
 },
 "nbformat": 4,
 "nbformat_minor": 5
}
