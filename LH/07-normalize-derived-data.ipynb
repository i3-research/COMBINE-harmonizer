{
 "cells": [
  {
   "cell_type": "code",
   "execution_count": 1,
   "id": "b489f506-fad1-426c-8c20-01483f08535c",
   "metadata": {
    "execution": {
     "iopub.execute_input": "2025-01-22T14:48:08.429678Z",
     "iopub.status.busy": "2025-01-22T14:48:08.429544Z",
     "iopub.status.idle": "2025-01-22T14:48:09.458936Z",
     "shell.execute_reply": "2025-01-22T14:48:09.458670Z"
    }
   },
   "outputs": [],
   "source": [
    "import pandas as pd\n",
    "pd.options.mode.copy_on_write = True\n",
    "import warnings\n",
    "warnings.simplefilter(action='ignore', category=pd.errors.PerformanceWarning)\n",
    "\n",
    "import os\n",
    "import re\n",
    "import pydoc\n",
    "\n",
    "from datetime import datetime, timedelta\n",
    "\n",
    "import COMBINE_harmonizer\n",
    "from COMBINE_harmonizer import cfg"
   ]
  },
  {
   "cell_type": "markdown",
   "id": "d4fd686c-7c99-4fca-b7d1-8bb141cd477a",
   "metadata": {},
   "source": [
    "## 00-0. Variables"
   ]
  },
  {
   "cell_type": "code",
   "execution_count": 2,
   "id": "1aa45ae9-189d-4602-83cf-6c5e702b2e64",
   "metadata": {
    "execution": {
     "iopub.execute_input": "2025-01-22T14:48:09.460587Z",
     "iopub.status.busy": "2025-01-22T14:48:09.460447Z",
     "iopub.status.idle": "2025-01-22T14:48:09.462192Z",
     "shell.execute_reply": "2025-01-22T14:48:09.461964Z"
    }
   },
   "outputs": [],
   "source": [
    "study_name = COMBINE_harmonizer.STUDY_LH\n",
    "sheet_name = COMBINE_harmonizer.SHEET_DERIVED_DATA\n",
    "\n",
    "root_dir = '..'"
   ]
  },
  {
   "cell_type": "code",
   "execution_count": 3,
   "id": "99c0020c",
   "metadata": {
    "execution": {
     "iopub.execute_input": "2025-01-22T14:48:09.463279Z",
     "iopub.status.busy": "2025-01-22T14:48:09.463202Z",
     "iopub.status.idle": "2025-01-22T14:48:09.466363Z",
     "shell.execute_reply": "2025-01-22T14:48:09.466181Z"
    }
   },
   "outputs": [],
   "source": [
    "COMBINE_harmonizer.init(f'{root_dir}/config.yaml')"
   ]
  },
  {
   "cell_type": "code",
   "execution_count": 4,
   "id": "3176ae4e",
   "metadata": {
    "execution": {
     "iopub.execute_input": "2025-01-22T14:48:09.467480Z",
     "iopub.status.busy": "2025-01-22T14:48:09.467405Z",
     "iopub.status.idle": "2025-01-22T14:48:09.468917Z",
     "shell.execute_reply": "2025-01-22T14:48:09.468709Z"
    }
   },
   "outputs": [],
   "source": [
    "_FILENAMES = [\n",
    "    'analysis.csv',\n",
    "]"
   ]
  },
  {
   "cell_type": "code",
   "execution_count": 5,
   "id": "66228169",
   "metadata": {
    "execution": {
     "iopub.execute_input": "2025-01-22T14:48:09.469974Z",
     "iopub.status.busy": "2025-01-22T14:48:09.469901Z",
     "iopub.status.idle": "2025-01-22T14:48:09.480025Z",
     "shell.execute_reply": "2025-01-22T14:48:09.479822Z"
    }
   },
   "outputs": [],
   "source": [
    "input_dir = cfg.config[f'{study_name}_analysis_dir']\n",
    "data_dict_filename = f\"{root_dir}/{COMBINE_harmonizer.DATA_DICTIONARY_EXCEL}\"\n",
    "out_dir = f\"{cfg.config['out_dir']}/out-{study_name}\"\n",
    "\n",
    "os.makedirs(out_dir, exist_ok=True)"
   ]
  },
  {
   "cell_type": "markdown",
   "id": "b285c802-c2b9-425b-b38d-d220775e47a9",
   "metadata": {},
   "source": [
    "## 00-1. Column Map"
   ]
  },
  {
   "cell_type": "code",
   "execution_count": 6,
   "id": "77c974c4-8083-48e9-b0ad-fd1879f6be5a",
   "metadata": {
    "execution": {
     "iopub.execute_input": "2025-01-22T14:48:09.481227Z",
     "iopub.status.busy": "2025-01-22T14:48:09.481151Z",
     "iopub.status.idle": "2025-01-22T14:48:09.914785Z",
     "shell.execute_reply": "2025-01-22T14:48:09.914523Z"
    }
   },
   "outputs": [],
   "source": [
    "df_data_dict = COMBINE_harmonizer.load_data_dict(data_dict_filename, sheet_name=sheet_name)\n",
    "all_valid_columns = list(df_data_dict[COMBINE_harmonizer.DATA_DICT_VAR_NAME])\n",
    "column_map = {each[study_name]: each[COMBINE_harmonizer.DATA_DICT_VAR_NAME] for _, each in df_data_dict.iterrows()}"
   ]
  },
  {
   "cell_type": "markdown",
   "id": "b77a20a2-6214-431c-91e1-07d5cbca7ee8",
   "metadata": {},
   "source": [
    "## 00-2. df-dict from _FILENAMES"
   ]
  },
  {
   "cell_type": "code",
   "execution_count": 7,
   "id": "929d693d-3bf8-4811-8872-f9eb8880a58c",
   "metadata": {
    "execution": {
     "iopub.execute_input": "2025-01-22T14:48:09.916235Z",
     "iopub.status.busy": "2025-01-22T14:48:09.916151Z",
     "iopub.status.idle": "2025-01-22T14:48:09.948029Z",
     "shell.execute_reply": "2025-01-22T14:48:09.947778Z"
    }
   },
   "outputs": [],
   "source": [
    "df_dict = {filename: pd.read_csv(os.sep.join([input_dir, filename]), dtype='O').rename(columns=column_map) for filename in _FILENAMES}"
   ]
  },
  {
   "cell_type": "markdown",
   "id": "d949d9b1",
   "metadata": {},
   "source": [
    "### 00-4. identifier-column"
   ]
  },
  {
   "cell_type": "code",
   "execution_count": 8,
   "id": "eb9b4e26",
   "metadata": {
    "execution": {
     "iopub.execute_input": "2025-01-22T14:48:09.949355Z",
     "iopub.status.busy": "2025-01-22T14:48:09.949267Z",
     "iopub.status.idle": "2025-01-22T14:48:09.952544Z",
     "shell.execute_reply": "2025-01-22T14:48:09.952312Z"
    }
   },
   "outputs": [
    {
     "data": {
      "text/plain": [
       "['center', 'followupCenter', 'subjectID', 'followupID']"
      ]
     },
     "execution_count": 8,
     "metadata": {},
     "output_type": "execute_result"
    }
   ],
   "source": [
    "id_columns = COMBINE_harmonizer.get_columns(df_data_dict, 'Derived Data', 'Identity')\n",
    "id_columns"
   ]
  },
  {
   "cell_type": "markdown",
   "id": "0fca9b39-2323-450a-88e2-5a85d43ed62b",
   "metadata": {},
   "source": [
    "## 30. Secondary"
   ]
  },
  {
   "cell_type": "code",
   "execution_count": 9,
   "id": "5b836eab-978d-40c0-a621-fc1e68091b5b",
   "metadata": {
    "execution": {
     "iopub.execute_input": "2025-01-22T14:48:09.953803Z",
     "iopub.status.busy": "2025-01-22T14:48:09.953705Z",
     "iopub.status.idle": "2025-01-22T14:48:09.957461Z",
     "shell.execute_reply": "2025-01-22T14:48:09.957235Z"
    }
   },
   "outputs": [
    {
     "name": "stdout",
     "output_type": "stream",
     "text": [
      "(25/48) MRI_RDATE_PB not in columns\n",
      "(26/48) MRI_RDATE_NR not in columns\n",
      "(27/48) MRI_RDATE_WG not in columns\n",
      "(28/48) MRI_RDATE_LC not in columns\n",
      "(30/48) MRI_PATTERN_PB not in columns\n",
      "(31/48) MRI_PATTERN_NR not in columns\n",
      "(32/48) MRI_PATTERN_WG not in columns\n",
      "(33/48) MRI_PATTERN_LC not in columns\n",
      "(35/48) MRI_PCLASS_PB not in columns\n",
      "(36/48) MRI_PCLASS_NR not in columns\n",
      "(37/48) MRI_PCLASS_WG not in columns\n",
      "(38/48) MRI_PCLASS_LC not in columns\n",
      "(40/48) MRI_INFARL_PB not in columns\n",
      "(41/48) MRI_INFARL_NR not in columns\n",
      "(42/48) MRI_INFARL_WG not in columns\n",
      "(44/48) MRI_INFARR_PB not in columns\n",
      "(45/48) MRI_INFARR_NR not in columns\n",
      "(46/48) MRI_INFARR_WG not in columns\n"
     ]
    }
   ],
   "source": [
    "df_analysis = df_dict['analysis.csv']\n",
    "df_analysis = COMBINE_harmonizer.valid_columns(df_analysis, all_valid_columns, debug_df=True, debug_columns=False)\n",
    "df_analysis = COMBINE_harmonizer.postprocess(df_analysis)"
   ]
  },
  {
   "cell_type": "markdown",
   "id": "ac1533b8",
   "metadata": {},
   "source": [
    "## 30-01. Secondary"
   ]
  },
  {
   "cell_type": "code",
   "execution_count": 10,
   "id": "f0e725bb",
   "metadata": {
    "execution": {
     "iopub.execute_input": "2025-01-22T14:48:09.958639Z",
     "iopub.status.busy": "2025-01-22T14:48:09.958563Z",
     "iopub.status.idle": "2025-01-22T14:48:09.960816Z",
     "shell.execute_reply": "2025-01-22T14:48:09.960593Z"
    }
   },
   "outputs": [
    {
     "data": {
      "text/plain": [
       "['acidosis',\n",
       " 'ageDeath_day',\n",
       " 'ageRand_hr',\n",
       " 'baselineAnticonvulsants',\n",
       " 'dischargeAnticonvulsants',\n",
       " 'inotropicAgent',\n",
       " 'perinatalSentinelEvent',\n",
       " 'dischargeSeizure',\n",
       " 'Apgar10minLt5',\n",
       " 'Apgar10minLte5',\n",
       " 'Apgar5minLte5',\n",
       " 'bloodGasBaseDeficit_mEqPerL',\n",
       " 'bloodGasPH',\n",
       " 'emergencyCSection',\n",
       " 'encephalopathyLevel',\n",
       " 'inotropicAgentBaseline',\n",
       " 'maleSex',\n",
       " 'maternalEducation',\n",
       " 'motherInsurancePublic',\n",
       " 'motherRace',\n",
       " 'treatmentAssignmentDuration_hr',\n",
       " 'treatmentAssignmentTemperature',\n",
       " 'bloodGasBaseDeficit_mEqPerLSrc',\n",
       " 'bloodGasPHSrc',\n",
       " 'usualCoolingTreatmentGroup',\n",
       " 'blindness',\n",
       " 'moderateSevereCerebralPalsy',\n",
       " 'cerebralPalsy',\n",
       " 'gastrostomyTube',\n",
       " 'grossMotorFunctionLevel',\n",
       " 'hearingImpairedWithAid',\n",
       " 'hearingImpairedLevel',\n",
       " 'multipleImpairment',\n",
       " 'afterDischargeSeizure',\n",
       " 'lengthOfStay_day']"
      ]
     },
     "execution_count": 10,
     "metadata": {},
     "output_type": "execute_result"
    }
   ],
   "source": [
    "secondary_columns = COMBINE_harmonizer.get_columns(df_data_dict, 'Derived Data', 'Secondary')\n",
    "all_secondary_columns = id_columns + secondary_columns\n",
    "secondary_columns"
   ]
  },
  {
   "cell_type": "code",
   "execution_count": 11,
   "id": "bce2dbcc",
   "metadata": {
    "execution": {
     "iopub.execute_input": "2025-01-22T14:48:09.961889Z",
     "iopub.status.busy": "2025-01-22T14:48:09.961819Z",
     "iopub.status.idle": "2025-01-22T14:48:10.012883Z",
     "shell.execute_reply": "2025-01-22T14:48:10.012622Z"
    }
   },
   "outputs": [
    {
     "name": "stdout",
     "output_type": "stream",
     "text": [
      "(4/39) acidosis not in df\n",
      "(5/39) ageDeath_day not in df\n",
      "(6/39) ageRand_hr not in df\n",
      "(7/39) baselineAnticonvulsants not in df\n",
      "(9/39) inotropicAgent not in df\n",
      "(10/39) perinatalSentinelEvent not in df\n",
      "(12/39) Apgar10minLt5 not in df\n",
      "(13/39) Apgar10minLte5 not in df\n",
      "(14/39) Apgar5minLte5 not in df\n",
      "(15/39) bloodGasBaseDeficit_mEqPerL not in df\n",
      "(16/39) bloodGasPH not in df\n",
      "(17/39) emergencyCSection not in df\n",
      "(18/39) encephalopathyLevel not in df\n",
      "(19/39) inotropicAgentBaseline not in df\n",
      "(20/39) maleSex not in df\n",
      "(21/39) maternalEducation not in df\n",
      "(22/39) motherInsurancePublic not in df\n",
      "(23/39) motherRace not in df\n",
      "(24/39) treatmentAssignmentDuration_hr not in df\n",
      "(25/39) treatmentAssignmentTemperature not in df\n",
      "(26/39) bloodGasBaseDeficit_mEqPerLSrc not in df\n",
      "(27/39) bloodGasPHSrc not in df\n",
      "(28/39) usualCoolingTreatmentGroup not in df\n",
      "(32/39) gastrostomyTube not in df\n",
      "(36/39) multipleImpairment not in df\n",
      "(38/39) lengthOfStay_day not in df\n"
     ]
    }
   ],
   "source": [
    "df_secondary = COMBINE_harmonizer.valid_columns(df_analysis.copy(), all_secondary_columns, debug_df=False, debug_columns=True)\n",
    "df_secondary = COMBINE_harmonizer.postprocess(df_secondary)\n",
    "\n",
    "out_filename = os.sep.join([out_dir, '30-01-secondary.csv'])\n",
    "df_secondary.to_csv(out_filename, index=False)"
   ]
  },
  {
   "cell_type": "markdown",
   "id": "49c4ef77",
   "metadata": {},
   "source": [
    "### 30-01-1. check empty"
   ]
  },
  {
   "cell_type": "code",
   "execution_count": 12,
   "id": "fe2eb78f",
   "metadata": {
    "execution": {
     "iopub.execute_input": "2025-01-22T14:48:10.014273Z",
     "iopub.status.busy": "2025-01-22T14:48:10.014180Z",
     "iopub.status.idle": "2025-01-22T14:48:10.017370Z",
     "shell.execute_reply": "2025-01-22T14:48:10.017162Z"
    }
   },
   "outputs": [
    {
     "name": "stdout",
     "output_type": "stream",
     "text": [
      "(0/14) column: center (168 / 0)\n",
      "(1/14) column: subjectID (168 / 0)\n",
      "(2/14) column: uniqueID (168 / 0)\n",
      "(3/14) column: followupCenter (151 / 17)\n",
      "(4/14) column: blindness (141 / 27)\n",
      "(5/14) column: hearingImpairedLevel (141 / 27)\n",
      "(6/14) column: hearingImpairedWithAid (141 / 27)\n",
      "(7/14) column: grossMotorFunctionLevel (141 / 27)\n",
      "(8/14) column: cerebralPalsy (141 / 27)\n",
      "(9/14) column: moderateSevereCerebralPalsy (141 / 27)\n",
      "(10/14) column: dischargeAnticonvulsants (164 / 4)\n",
      "(11/14) column: followupID (133 / 35)\n",
      "(12/14) column: dischargeSeizure (168 / 0)\n",
      "(13/14) column: afterDischargeSeizure (143 / 25)\n"
     ]
    }
   ],
   "source": [
    "COMBINE_harmonizer.check_empty(df_secondary)"
   ]
  },
  {
   "cell_type": "code",
   "execution_count": 13,
   "id": "c121f9c6",
   "metadata": {
    "execution": {
     "iopub.execute_input": "2025-01-22T14:48:10.018737Z",
     "iopub.status.busy": "2025-01-22T14:48:10.018621Z",
     "iopub.status.idle": "2025-01-22T14:48:10.020959Z",
     "shell.execute_reply": "2025-01-22T14:48:10.020731Z"
    }
   },
   "outputs": [
    {
     "name": "stdout",
     "output_type": "stream",
     "text": [
      "(0/14) center: (168/0)\n",
      "(1/14) subjectID: (168/0)\n",
      "(2/14) uniqueID: (168/0)\n",
      "(3/14) followupCenter: (151/17)\n",
      "(4/14) blindness: (141/27)\n",
      "(5/14) hearingImpairedLevel: (141/27)\n",
      "(6/14) hearingImpairedWithAid: (141/27)\n",
      "(7/14) grossMotorFunctionLevel: (141/27)\n",
      "(8/14) cerebralPalsy: (141/27)\n",
      "(9/14) moderateSevereCerebralPalsy: (141/27)\n",
      "(10/14) dischargeAnticonvulsants: (164/4)\n",
      "(11/14) followupID: (133/35)\n",
      "(12/14) dischargeSeizure: (168/0)\n",
      "(13/14) afterDischargeSeizure: (143/25)\n"
     ]
    }
   ],
   "source": [
    "COMBINE_harmonizer.column_info(df_secondary)"
   ]
  },
  {
   "cell_type": "markdown",
   "id": "069d093c",
   "metadata": {},
   "source": [
    "## 30-02. Outcome"
   ]
  },
  {
   "cell_type": "code",
   "execution_count": 14,
   "id": "823f5892",
   "metadata": {
    "execution": {
     "iopub.execute_input": "2025-01-22T14:48:10.022226Z",
     "iopub.status.busy": "2025-01-22T14:48:10.022124Z",
     "iopub.status.idle": "2025-01-22T14:48:10.024626Z",
     "shell.execute_reply": "2025-01-22T14:48:10.024419Z"
    }
   },
   "outputs": [
    {
     "data": {
      "text/plain": [
       "['flagAdjudicatedOutcome',\n",
       " 'normalPrimaryOutcome',\n",
       " 'BayleyIIILanguage',\n",
       " 'BayleyIIIMotor',\n",
       " 'BayleyIIICognitive',\n",
       " 'deathBeforeFollowup',\n",
       " 'deathBeforeDischarge',\n",
       " 'disabilityLevelSurvivor',\n",
       " 'disabilityLevel',\n",
       " 'moderateSevereDisabilityOrDeath',\n",
       " 'moderateSevereDisabilitySurvivor',\n",
       " 'disabilityLevelDeath',\n",
       " 'outcomeGroup']"
      ]
     },
     "execution_count": 14,
     "metadata": {},
     "output_type": "execute_result"
    }
   ],
   "source": [
    "outcome_columns = COMBINE_harmonizer.get_columns(df_data_dict, 'Derived Data', 'Outcome')\n",
    "all_outcome_columns = id_columns + outcome_columns\n",
    "outcome_columns"
   ]
  },
  {
   "cell_type": "code",
   "execution_count": 15,
   "id": "ac9f5f9b",
   "metadata": {
    "execution": {
     "iopub.execute_input": "2025-01-22T14:48:10.025747Z",
     "iopub.status.busy": "2025-01-22T14:48:10.025659Z",
     "iopub.status.idle": "2025-01-22T14:48:10.087627Z",
     "shell.execute_reply": "2025-01-22T14:48:10.087354Z"
    }
   },
   "outputs": [
    {
     "name": "stdout",
     "output_type": "stream",
     "text": [
      "(4/17) flagAdjudicatedOutcome not in df\n",
      "(6/17) BayleyIIILanguage not in df\n",
      "(7/17) BayleyIIIMotor not in df\n",
      "(15/17) disabilityLevelDeath not in df\n",
      "(16/17) outcomeGroup not in df\n"
     ]
    }
   ],
   "source": [
    "df_outcome = COMBINE_harmonizer.valid_columns(df_analysis.copy(), all_outcome_columns, debug_df=False, debug_columns=True)\n",
    "df_outcome = COMBINE_harmonizer.postprocess(df_outcome)\n",
    "\n",
    "out_filename = os.sep.join([out_dir, '30-02-outcome.csv'])\n",
    "df_outcome.to_csv(out_filename, index=False)"
   ]
  },
  {
   "cell_type": "markdown",
   "id": "a6533da8",
   "metadata": {},
   "source": [
    "### 30-02-1. check empty"
   ]
  },
  {
   "cell_type": "code",
   "execution_count": 16,
   "id": "72bdb610",
   "metadata": {
    "execution": {
     "iopub.execute_input": "2025-01-22T14:48:10.089235Z",
     "iopub.status.busy": "2025-01-22T14:48:10.089128Z",
     "iopub.status.idle": "2025-01-22T14:48:10.092506Z",
     "shell.execute_reply": "2025-01-22T14:48:10.092237Z"
    }
   },
   "outputs": [
    {
     "name": "stdout",
     "output_type": "stream",
     "text": [
      "(0/13) column: center (168 / 0)\n",
      "(1/13) column: subjectID (168 / 0)\n",
      "(2/13) column: uniqueID (168 / 0)\n",
      "(3/13) column: followupCenter (151 / 17)\n",
      "(4/13) column: BayleyIIICognitive (138 / 30)\n",
      "(5/13) column: deathBeforeFollowup (165 / 3)\n",
      "(6/13) column: normalPrimaryOutcome (139 / 29)\n",
      "(7/13) column: deathBeforeDischarge (167 / 1)\n",
      "(8/13) column: followupID (133 / 35)\n",
      "(9/13) column: moderateSevereDisabilitySurvivor (139 / 29)\n",
      "(10/13) column: disabilityLevelSurvivor (139 / 29)\n",
      "(11/13) column: moderateSevereDisabilityOrDeath (157 / 11)\n",
      "(12/13) column: disabilityLevel (157 / 11)\n"
     ]
    }
   ],
   "source": [
    "COMBINE_harmonizer.check_empty(df_outcome)"
   ]
  },
  {
   "cell_type": "code",
   "execution_count": 17,
   "id": "f2ff2c13",
   "metadata": {
    "execution": {
     "iopub.execute_input": "2025-01-22T14:48:10.093884Z",
     "iopub.status.busy": "2025-01-22T14:48:10.093766Z",
     "iopub.status.idle": "2025-01-22T14:48:10.096196Z",
     "shell.execute_reply": "2025-01-22T14:48:10.095945Z"
    }
   },
   "outputs": [
    {
     "name": "stdout",
     "output_type": "stream",
     "text": [
      "(0/13) center: (168/0)\n",
      "(1/13) subjectID: (168/0)\n",
      "(2/13) uniqueID: (168/0)\n",
      "(3/13) followupCenter: (151/17)\n",
      "(4/13) BayleyIIICognitive: (138/30)\n",
      "(5/13) deathBeforeFollowup: (165/3)\n",
      "(6/13) normalPrimaryOutcome: (139/29)\n",
      "(7/13) deathBeforeDischarge: (167/1)\n",
      "(8/13) followupID: (133/35)\n",
      "(9/13) moderateSevereDisabilitySurvivor: (139/29)\n",
      "(10/13) disabilityLevelSurvivor: (139/29)\n",
      "(11/13) moderateSevereDisabilityOrDeath: (157/11)\n",
      "(12/13) disabilityLevel: (157/11)\n"
     ]
    }
   ],
   "source": [
    "COMBINE_harmonizer.column_info(df_outcome)"
   ]
  },
  {
   "cell_type": "markdown",
   "id": "a00850f7",
   "metadata": {},
   "source": [
    "## 30-03. MRI"
   ]
  },
  {
   "cell_type": "code",
   "execution_count": 18,
   "id": "1e5df0df",
   "metadata": {
    "execution": {
     "iopub.execute_input": "2025-01-22T14:48:10.097628Z",
     "iopub.status.busy": "2025-01-22T14:48:10.097520Z",
     "iopub.status.idle": "2025-01-22T14:48:10.100299Z",
     "shell.execute_reply": "2025-01-22T14:48:10.100046Z"
    }
   },
   "outputs": [
    {
     "data": {
      "text/plain": [
       "['MRINRNPatternOfInjuryMerge',\n",
       " 'MRINRNPatternOfInjuryAvg',\n",
       " 'MRINRNPatternOfInjuryMax',\n",
       " 'MRI2LevelPatternOfInjury',\n",
       " 'MRIAge_day',\n",
       " 'MRIOverallDiagnosis',\n",
       " 'MRINRNPatternOfInjury',\n",
       " 'MRIDate',\n",
       " 'MRITime',\n",
       " 'MRINotDone',\n",
       " 'MRIUnread',\n",
       " 'MRIAnalysis',\n",
       " 'abnormalMRIResult',\n",
       " 'MRINRNPatternOfInjuryWSvsBGTPLIC',\n",
       " 'cerebralLesion',\n",
       " 'cerebellarLesion',\n",
       " 'basalGangliaLesion',\n",
       " 'brainstemLesion',\n",
       " 'corpusCallosumLesion',\n",
       " 'cerebralLesionLobe',\n",
       " 'coronaRadiataLesion',\n",
       " 'edema',\n",
       " 'extraAxialLesion',\n",
       " 'extent',\n",
       " 'frontalParietalLesion',\n",
       " 'frontalLesion',\n",
       " 'lateralHemisphericDevastation',\n",
       " 'hippocampusLesion',\n",
       " 'hypothalamusLesion',\n",
       " 'insularLesion',\n",
       " 'laterality',\n",
       " 'BGT',\n",
       " 'PLIC',\n",
       " 'watershed',\n",
       " 'whiteMatterInjury',\n",
       " 'occipitalLesion',\n",
       " 'opticChiasmLesion',\n",
       " 'otherLesion',\n",
       " 'otherCerebralLesion',\n",
       " 'parasagittalLesion',\n",
       " 'parietalLesion',\n",
       " 'preirolandicLesion',\n",
       " 'perisylvianLesion',\n",
       " 'pituitaryLesion',\n",
       " 'parietalOccipitalLesion',\n",
       " 'parietalTemporalLesion',\n",
       " 'scalpLesion',\n",
       " 'thalamusLesion',\n",
       " 'temporalLesion',\n",
       " 'temporalOccipitalLesion',\n",
       " 'cerebralAtrophy',\n",
       " 'cererbalAtrophyQualAssessCC',\n",
       " 'cerebralAtrophyGlobalLocal',\n",
       " 'vascularTerritoryInfarction',\n",
       " 'vascularTerritoryInfarctionLeft',\n",
       " 'vascularTerritoryInfarctionRight',\n",
       " 'hemisphericDevastation',\n",
       " 'ventricularDilatation',\n",
       " 'vascularLesion',\n",
       " 'intraventricularLesion']"
      ]
     },
     "execution_count": 18,
     "metadata": {},
     "output_type": "execute_result"
    }
   ],
   "source": [
    "mri_columns = COMBINE_harmonizer.get_columns(df_data_dict, 'Derived Data', 'MRI Derived')\n",
    "all_mri_columns = id_columns + mri_columns\n",
    "mri_columns"
   ]
  },
  {
   "cell_type": "code",
   "execution_count": 19,
   "id": "34060fa0",
   "metadata": {
    "execution": {
     "iopub.execute_input": "2025-01-22T14:48:10.101578Z",
     "iopub.status.busy": "2025-01-22T14:48:10.101470Z",
     "iopub.status.idle": "2025-01-22T14:48:10.164721Z",
     "shell.execute_reply": "2025-01-22T14:48:10.164418Z"
    }
   },
   "outputs": [
    {
     "name": "stdout",
     "output_type": "stream",
     "text": [
      "(4/64) MRINRNPatternOfInjuryMerge not in df\n",
      "(5/64) MRINRNPatternOfInjuryAvg not in df\n",
      "(6/64) MRINRNPatternOfInjuryMax not in df\n",
      "(9/64) MRIOverallDiagnosis not in df\n",
      "(15/64) MRIAnalysis not in df\n",
      "(16/64) abnormalMRIResult not in df\n",
      "(17/64) MRINRNPatternOfInjuryWSvsBGTPLIC not in df\n",
      "(18/64) cerebralLesion not in df\n",
      "(19/64) cerebellarLesion not in df\n",
      "(20/64) basalGangliaLesion not in df\n",
      "(21/64) brainstemLesion not in df\n",
      "(22/64) corpusCallosumLesion not in df\n",
      "(23/64) cerebralLesionLobe not in df\n",
      "(24/64) coronaRadiataLesion not in df\n",
      "(25/64) edema not in df\n",
      "(26/64) extraAxialLesion not in df\n",
      "(27/64) extent not in df\n",
      "(28/64) frontalParietalLesion not in df\n",
      "(29/64) frontalLesion not in df\n",
      "(30/64) lateralHemisphericDevastation not in df\n",
      "(31/64) hippocampusLesion not in df\n",
      "(32/64) hypothalamusLesion not in df\n",
      "(33/64) insularLesion not in df\n",
      "(34/64) laterality not in df\n",
      "(35/64) BGT not in df\n",
      "(36/64) PLIC not in df\n",
      "(37/64) watershed not in df\n",
      "(38/64) whiteMatterInjury not in df\n",
      "(39/64) occipitalLesion not in df\n",
      "(40/64) opticChiasmLesion not in df\n",
      "(41/64) otherLesion not in df\n",
      "(42/64) otherCerebralLesion not in df\n",
      "(43/64) parasagittalLesion not in df\n",
      "(44/64) parietalLesion not in df\n",
      "(45/64) preirolandicLesion not in df\n",
      "(46/64) perisylvianLesion not in df\n",
      "(47/64) pituitaryLesion not in df\n",
      "(48/64) parietalOccipitalLesion not in df\n",
      "(49/64) parietalTemporalLesion not in df\n",
      "(50/64) scalpLesion not in df\n",
      "(51/64) thalamusLesion not in df\n",
      "(52/64) temporalLesion not in df\n",
      "(53/64) temporalOccipitalLesion not in df\n",
      "(54/64) cerebralAtrophy not in df\n",
      "(55/64) cererbalAtrophyQualAssessCC not in df\n",
      "(56/64) cerebralAtrophyGlobalLocal not in df\n",
      "(57/64) vascularTerritoryInfarction not in df\n",
      "(60/64) hemisphericDevastation not in df\n",
      "(61/64) ventricularDilatation not in df\n",
      "(62/64) vascularLesion not in df\n",
      "(63/64) intraventricularLesion not in df\n"
     ]
    }
   ],
   "source": [
    "df_mri = COMBINE_harmonizer.valid_columns(df_analysis.copy(), all_mri_columns, debug_df=False, debug_columns=True)\n",
    "\n",
    "# XXX MRI_DATE\n",
    "def _convert_mri_date(the_date_number):\n",
    "    if pd.isnull(the_date_number) or the_date_number == '':\n",
    "        return ''\n",
    "\n",
    "    try:\n",
    "        the_date_number = int(float(the_date_number))\n",
    "    except Exception as e:\n",
    "        return the_date_number\n",
    "\n",
    "    the_datetime = datetime(1960, 1, 1) + timedelta(days=the_date_number)\n",
    "    return the_datetime.strftime('%Y-%m-%d')\n",
    "\n",
    "df_mri['MRIDate'] = df_mri['MRIDate'].apply(lambda x: _convert_mri_date(x))\n",
    "\n",
    "df_mri = COMBINE_harmonizer.postprocess(df_mri)\n",
    "\n",
    "out_filename = os.sep.join([out_dir, '30-03-mri.csv'])\n",
    "df_mri.to_csv(out_filename, index=False)"
   ]
  },
  {
   "cell_type": "markdown",
   "id": "0e937d45",
   "metadata": {},
   "source": [
    "### 30-03-1. check empty"
   ]
  },
  {
   "cell_type": "code",
   "execution_count": 20,
   "id": "d8826afd",
   "metadata": {
    "execution": {
     "iopub.execute_input": "2025-01-22T14:48:10.166402Z",
     "iopub.status.busy": "2025-01-22T14:48:10.166284Z",
     "iopub.status.idle": "2025-01-22T14:48:10.169920Z",
     "shell.execute_reply": "2025-01-22T14:48:10.169628Z"
    }
   },
   "outputs": [
    {
     "name": "stdout",
     "output_type": "stream",
     "text": [
      "(0/14) column: center (168 / 0)\n",
      "(1/14) column: subjectID (168 / 0)\n",
      "(2/14) column: uniqueID (168 / 0)\n",
      "(3/14) column: followupCenter (151 / 17)\n",
      "(4/14) column: followupID (133 / 35)\n",
      "(5/14) column: MRIDate (168 / 0)\n",
      "(6/14) column: MRITime (147 / 21)\n",
      "(7/14) column: MRIAge_day (128 / 40)\n",
      "(8/14) column: MRIUnread (19 / 149)\n",
      "(9/14) column: MRINRNPatternOfInjury (128 / 40)\n",
      "(10/14) column: MRI2LevelPatternOfInjury (128 / 40)\n",
      "(11/14) column: vascularTerritoryInfarctionLeft (128 / 40)\n",
      "(12/14) column: vascularTerritoryInfarctionRight (128 / 40)\n",
      "(13/14) column: MRINotDone (21 / 147)\n"
     ]
    }
   ],
   "source": [
    "COMBINE_harmonizer.check_empty(df_mri)"
   ]
  },
  {
   "cell_type": "code",
   "execution_count": 21,
   "id": "8f864dd5",
   "metadata": {
    "execution": {
     "iopub.execute_input": "2025-01-22T14:48:10.171437Z",
     "iopub.status.busy": "2025-01-22T14:48:10.171295Z",
     "iopub.status.idle": "2025-01-22T14:48:10.174222Z",
     "shell.execute_reply": "2025-01-22T14:48:10.173916Z"
    }
   },
   "outputs": [
    {
     "name": "stdout",
     "output_type": "stream",
     "text": [
      "(0/14) center: (168/0)\n",
      "(1/14) subjectID: (168/0)\n",
      "(2/14) uniqueID: (168/0)\n",
      "(3/14) followupCenter: (151/17)\n",
      "(4/14) followupID: (133/35)\n",
      "(5/14) MRIDate: (168/0)\n",
      "(6/14) MRITime: (147/21)\n",
      "(7/14) MRIAge_day: (128/40)\n",
      "(8/14) MRIUnread: (19/149)\n",
      "(9/14) MRINRNPatternOfInjury: (128/40)\n",
      "(10/14) MRI2LevelPatternOfInjury: (128/40)\n",
      "(11/14) vascularTerritoryInfarctionLeft: (128/40)\n",
      "(12/14) vascularTerritoryInfarctionRight: (128/40)\n",
      "(13/14) MRINotDone: (21/147)\n"
     ]
    }
   ],
   "source": [
    "COMBINE_harmonizer.column_info(df_mri)"
   ]
  }
 ],
 "metadata": {
  "kernelspec": {
   "display_name": ".venv",
   "language": "python",
   "name": "python3"
  },
  "language_info": {
   "codemirror_mode": {
    "name": "ipython",
    "version": 3
   },
   "file_extension": ".py",
   "mimetype": "text/x-python",
   "name": "python",
   "nbconvert_exporter": "python",
   "pygments_lexer": "ipython3",
   "version": "3.13.0"
  }
 },
 "nbformat": 4,
 "nbformat_minor": 5
}
