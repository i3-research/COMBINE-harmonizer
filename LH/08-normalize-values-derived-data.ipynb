{
 "cells": [
  {
   "cell_type": "code",
   "execution_count": 1,
   "id": "a1b89c2a-b1ac-4fdb-ac87-81d6a3c8d05f",
   "metadata": {
    "execution": {
     "iopub.execute_input": "2025-02-04T10:53:44.208019Z",
     "iopub.status.busy": "2025-02-04T10:53:44.207528Z",
     "iopub.status.idle": "2025-02-04T10:53:45.211109Z",
     "shell.execute_reply": "2025-02-04T10:53:45.210858Z"
    }
   },
   "outputs": [],
   "source": [
    "import pandas as pd\n",
    "pd.options.mode.copy_on_write = True\n",
    "import warnings\n",
    "warnings.simplefilter(action='ignore', category=pd.errors.PerformanceWarning)\n",
    "\n",
    "import os\n",
    "import re\n",
    "import pydoc\n",
    "\n",
    "import COMBINE_harmonizer\n",
    "from COMBINE_harmonizer import cfg"
   ]
  },
  {
   "cell_type": "markdown",
   "id": "363af912",
   "metadata": {},
   "source": [
    "## 00-0. Variables"
   ]
  },
  {
   "cell_type": "code",
   "execution_count": 2,
   "id": "1442d86e-0c3e-407e-8c66-c3dce77cc0a0",
   "metadata": {
    "execution": {
     "iopub.execute_input": "2025-02-04T10:53:45.212682Z",
     "iopub.status.busy": "2025-02-04T10:53:45.212551Z",
     "iopub.status.idle": "2025-02-04T10:53:45.214288Z",
     "shell.execute_reply": "2025-02-04T10:53:45.214055Z"
    }
   },
   "outputs": [],
   "source": [
    "study_name = COMBINE_harmonizer.STUDY_LH\n",
    "sheet_name = COMBINE_harmonizer.SHEET_DERIVED_DATA\n",
    "\n",
    "root_dir = '..'"
   ]
  },
  {
   "cell_type": "code",
   "execution_count": 3,
   "id": "53b6919d",
   "metadata": {
    "execution": {
     "iopub.execute_input": "2025-02-04T10:53:45.215393Z",
     "iopub.status.busy": "2025-02-04T10:53:45.215319Z",
     "iopub.status.idle": "2025-02-04T10:53:45.218552Z",
     "shell.execute_reply": "2025-02-04T10:53:45.218356Z"
    }
   },
   "outputs": [],
   "source": [
    "COMBINE_harmonizer.init(f'{root_dir}/config.yaml')"
   ]
  },
  {
   "cell_type": "code",
   "execution_count": 4,
   "id": "1d360cb7",
   "metadata": {
    "execution": {
     "iopub.execute_input": "2025-02-04T10:53:45.219676Z",
     "iopub.status.busy": "2025-02-04T10:53:45.219594Z",
     "iopub.status.idle": "2025-02-04T10:53:45.231869Z",
     "shell.execute_reply": "2025-02-04T10:53:45.231677Z"
    }
   },
   "outputs": [],
   "source": [
    "input_dir = f\"{cfg.config['out_dir']}/out-{study_name}\"\n",
    "data_dict_filename = f\"{root_dir}/{COMBINE_harmonizer.DATA_DICTIONARY_EXCEL}\"\n",
    "out_dir = f\"{cfg.config['out_dir']}/out-{study_name}-normalized\"\n",
    "\n",
    "os.makedirs(out_dir, exist_ok=True)"
   ]
  },
  {
   "cell_type": "code",
   "execution_count": 5,
   "id": "47c09f9e-de55-4f9d-a8d8-0f64b4ac8b3e",
   "metadata": {
    "execution": {
     "iopub.execute_input": "2025-02-04T10:53:45.233008Z",
     "iopub.status.busy": "2025-02-04T10:53:45.232935Z",
     "iopub.status.idle": "2025-02-04T10:53:46.020257Z",
     "shell.execute_reply": "2025-02-04T10:53:46.020007Z"
    }
   },
   "outputs": [
    {
     "name": "stdout",
     "output_type": "stream",
     "text": [
      "[WARN] unable to float: val (3a/<class 'str'>) e: could not convert string to float: '3a'\n",
      "[WARN] unable to int: val (3a/<class 'str'>) e: could not convert string to float: '3a'\n",
      "[WARN] unable to float: val (3b/<class 'str'>) e: could not convert string to float: '3b'\n",
      "[WARN] unable to int: val (3b/<class 'str'>) e: could not convert string to float: '3b'\n",
      "[WARN] unable to float: val (1 Global/<class 'str'>) e: could not convert string to float: '1 Global'\n",
      "[WARN] unable to int: val (1 Global/<class 'str'>) e: could not convert string to float: '1 Global'\n",
      "[WARN] unable to float: val (2 Localized/<class 'str'>) e: could not convert string to float: '2 Localized'\n",
      "[WARN] unable to int: val (2 Localized/<class 'str'>) e: could not convert string to float: '2 Localized'\n",
      "[WARN] unable to float: val (1 Global/<class 'str'>) e: could not convert string to float: '1 Global'\n",
      "[WARN] unable to int: val (1 Global/<class 'str'>) e: could not convert string to float: '1 Global'\n",
      "[WARN] unable to float: val (2 Localized/<class 'str'>) e: could not convert string to float: '2 Localized'\n",
      "[WARN] unable to int: val (2 Localized/<class 'str'>) e: could not convert string to float: '2 Localized'\n",
      "[WARN] unable to float: val (MILD DIFFYSE HEMISPHERIC/<class 'str'>) e: could not convert string to float: 'MILD DIFFYSE HEMISPHERIC'\n",
      "[WARN] unable to int: val (MILD DIFFYSE HEMISPHERIC/<class 'str'>) e: could not convert string to float: 'MILD DIFFYSE HEMISPHERIC'\n",
      "[WARN] unable to float: val (DIFFUSE/<class 'str'>) e: could not convert string to float: 'DIFFUSE'\n",
      "[WARN] unable to int: val (DIFFUSE/<class 'str'>) e: could not convert string to float: 'DIFFUSE'\n",
      "[WARN] unable to float: val (LT HEMISPHERIC/<class 'str'>) e: could not convert string to float: 'LT HEMISPHERIC'\n",
      "[WARN] unable to int: val (LT HEMISPHERIC/<class 'str'>) e: could not convert string to float: 'LT HEMISPHERIC'\n",
      "[WARN] unable to float: val (1 None/<class 'str'>) e: could not convert string to float: '1 None'\n",
      "[WARN] unable to int: val (1 None/<class 'str'>) e: could not convert string to float: '1 None'\n",
      "[WARN] unable to float: val (1 Normal/<class 'str'>) e: could not convert string to float: '1 Normal'\n",
      "[WARN] unable to int: val (1 Normal/<class 'str'>) e: could not convert string to float: '1 Normal'\n",
      "[WARN] unable to float: val (1 Nominal/<class 'str'>) e: could not convert string to float: '1 Nominal'\n",
      "[WARN] unable to int: val (1 Nominal/<class 'str'>) e: could not convert string to float: '1 Nominal'\n",
      "[WARN] unable to float: val (2 Equivocal/<class 'str'>) e: could not convert string to float: '2 Equivocal'\n",
      "[WARN] unable to int: val (2 Equivocal/<class 'str'>) e: could not convert string to float: '2 Equivocal'\n",
      "[WARN] unable to float: val (2 Mild/<class 'str'>) e: could not convert string to float: '2 Mild'\n",
      "[WARN] unable to int: val (2 Mild/<class 'str'>) e: could not convert string to float: '2 Mild'\n",
      "[WARN] unable to float: val (2 Minimal/<class 'str'>) e: could not convert string to float: '2 Minimal'\n",
      "[WARN] unable to int: val (2 Minimal/<class 'str'>) e: could not convert string to float: '2 Minimal'\n",
      "[WARN] unable to float: val (3 Moderate/<class 'str'>) e: could not convert string to float: '3 Moderate'\n",
      "[WARN] unable to int: val (3 Moderate/<class 'str'>) e: could not convert string to float: '3 Moderate'\n",
      "[WARN] unable to float: val (4 Severe/<class 'str'>) e: could not convert string to float: '4 Severe'\n",
      "[WARN] unable to int: val (4 Severe/<class 'str'>) e: could not convert string to float: '4 Severe'\n",
      "[WARN] unable to float: val (1 Normal/<class 'str'>) e: could not convert string to float: '1 Normal'\n",
      "[WARN] unable to int: val (1 Normal/<class 'str'>) e: could not convert string to float: '1 Normal'\n",
      "[WARN] unable to float: val (2 Equivocal/<class 'str'>) e: could not convert string to float: '2 Equivocal'\n",
      "[WARN] unable to int: val (2 Equivocal/<class 'str'>) e: could not convert string to float: '2 Equivocal'\n",
      "[WARN] unable to float: val (3 Abnormal/<class 'str'>) e: could not convert string to float: '3 Abnormal'\n",
      "[WARN] unable to int: val (3 Abnormal/<class 'str'>) e: could not convert string to float: '3 Abnormal'\n",
      "[WARN] unable to float: val (1 Minimal/<class 'str'>) e: could not convert string to float: '1 Minimal'\n",
      "[WARN] unable to int: val (1 Minimal/<class 'str'>) e: could not convert string to float: '1 Minimal'\n",
      "[WARN] unable to float: val (2 Moderate/<class 'str'>) e: could not convert string to float: '2 Moderate'\n",
      "[WARN] unable to int: val (2 Moderate/<class 'str'>) e: could not convert string to float: '2 Moderate'\n",
      "[WARN] unable to float: val (3 Severe/<class 'str'>) e: could not convert string to float: '3 Severe'\n",
      "[WARN] unable to int: val (3 Severe/<class 'str'>) e: could not convert string to float: '3 Severe'\n",
      "[WARN] unable to float: val (1 0/<class 'str'>) e: could not convert string to float: '1 0'\n",
      "[WARN] unable to int: val (1 0/<class 'str'>) e: could not convert string to float: '1 0'\n",
      "[WARN] unable to float: val (2 1A/<class 'str'>) e: could not convert string to float: '2 1A'\n",
      "[WARN] unable to int: val (2 1A/<class 'str'>) e: could not convert string to float: '2 1A'\n",
      "[WARN] unable to float: val (3 1B/<class 'str'>) e: could not convert string to float: '3 1B'\n",
      "[WARN] unable to int: val (3 1B/<class 'str'>) e: could not convert string to float: '3 1B'\n",
      "[WARN] unable to float: val (4 2A/<class 'str'>) e: could not convert string to float: '4 2A'\n",
      "[WARN] unable to int: val (4 2A/<class 'str'>) e: could not convert string to float: '4 2A'\n",
      "[WARN] unable to float: val (5 2B/<class 'str'>) e: could not convert string to float: '5 2B'\n",
      "[WARN] unable to int: val (5 2B/<class 'str'>) e: could not convert string to float: '5 2B'\n",
      "[WARN] unable to float: val (6 3/<class 'str'>) e: could not convert string to float: '6 3'\n",
      "[WARN] unable to int: val (6 3/<class 'str'>) e: could not convert string to float: '6 3'\n",
      "[WARN] unable to float: val (BG Basal Ganglia/<class 'str'>) e: could not convert string to float: 'BG Basal Ganglia'\n",
      "[WARN] unable to int: val (BG Basal Ganglia/<class 'str'>) e: could not convert string to float: 'BG Basal Ganglia'\n",
      "[WARN] unable to float: val (BG/<class 'str'>) e: could not convert string to float: 'BG'\n",
      "[WARN] unable to int: val (BG/<class 'str'>) e: could not convert string to float: 'BG'\n",
      "[WARN] unable to float: val (T Thalamus/<class 'str'>) e: could not convert string to float: 'T Thalamus'\n",
      "[WARN] unable to int: val (T Thalamus/<class 'str'>) e: could not convert string to float: 'T Thalamus'\n",
      "[WARN] unable to float: val (T/<class 'str'>) e: could not convert string to float: 'T'\n",
      "[WARN] unable to int: val (T/<class 'str'>) e: could not convert string to float: 'T'\n",
      "[WARN] unable to float: val (PERI Perisylvian/<class 'str'>) e: could not convert string to float: 'PERI Perisylvian'\n",
      "[WARN] unable to int: val (PERI Perisylvian/<class 'str'>) e: could not convert string to float: 'PERI Perisylvian'\n",
      "[WARN] unable to float: val (PERI/<class 'str'>) e: could not convert string to float: 'PERI'\n",
      "[WARN] unable to int: val (PERI/<class 'str'>) e: could not convert string to float: 'PERI'\n",
      "[WARN] unable to float: val (CR Corona Radiata/<class 'str'>) e: could not convert string to float: 'CR Corona Radiata'\n",
      "[WARN] unable to int: val (CR Corona Radiata/<class 'str'>) e: could not convert string to float: 'CR Corona Radiata'\n",
      "[WARN] unable to float: val (CR/<class 'str'>) e: could not convert string to float: 'CR'\n",
      "[WARN] unable to int: val (CR/<class 'str'>) e: could not convert string to float: 'CR'\n",
      "[WARN] unable to float: val (PER Perirolandic/<class 'str'>) e: could not convert string to float: 'PER Perirolandic'\n",
      "[WARN] unable to int: val (PER Perirolandic/<class 'str'>) e: could not convert string to float: 'PER Perirolandic'\n",
      "[WARN] unable to float: val (PER/<class 'str'>) e: could not convert string to float: 'PER'\n",
      "[WARN] unable to int: val (PER/<class 'str'>) e: could not convert string to float: 'PER'\n",
      "[WARN] unable to float: val (FP Frontal-parietal/<class 'str'>) e: could not convert string to float: 'FP Frontal-parietal'\n",
      "[WARN] unable to int: val (FP Frontal-parietal/<class 'str'>) e: could not convert string to float: 'FP Frontal-parietal'\n",
      "[WARN] unable to float: val (FP/<class 'str'>) e: could not convert string to float: 'FP'\n",
      "[WARN] unable to int: val (FP/<class 'str'>) e: could not convert string to float: 'FP'\n",
      "[WARN] unable to float: val (PT Parietal-temporal/<class 'str'>) e: could not convert string to float: 'PT Parietal-temporal'\n",
      "[WARN] unable to int: val (PT Parietal-temporal/<class 'str'>) e: could not convert string to float: 'PT Parietal-temporal'\n",
      "[WARN] unable to float: val (PT/<class 'str'>) e: could not convert string to float: 'PT'\n",
      "[WARN] unable to int: val (PT/<class 'str'>) e: could not convert string to float: 'PT'\n",
      "[WARN] unable to float: val (PO Parietal-occipital/<class 'str'>) e: could not convert string to float: 'PO Parietal-occipital'\n",
      "[WARN] unable to int: val (PO Parietal-occipital/<class 'str'>) e: could not convert string to float: 'PO Parietal-occipital'\n",
      "[WARN] unable to float: val (PO/<class 'str'>) e: could not convert string to float: 'PO'\n",
      "[WARN] unable to int: val (PO/<class 'str'>) e: could not convert string to float: 'PO'\n",
      "[WARN] unable to float: val (TO Temporal-occipital/<class 'str'>) e: could not convert string to float: 'TO Temporal-occipital'\n",
      "[WARN] unable to int: val (TO Temporal-occipital/<class 'str'>) e: could not convert string to float: 'TO Temporal-occipital'\n",
      "[WARN] unable to float: val (TO/<class 'str'>) e: could not convert string to float: 'TO'\n",
      "[WARN] unable to int: val (TO/<class 'str'>) e: could not convert string to float: 'TO'\n",
      "[WARN] unable to float: val (BEL Cerebellar/<class 'str'>) e: could not convert string to float: 'BEL Cerebellar'\n",
      "[WARN] unable to int: val (BEL Cerebellar/<class 'str'>) e: could not convert string to float: 'BEL Cerebellar'\n",
      "[WARN] unable to float: val (BEL/<class 'str'>) e: could not convert string to float: 'BEL'\n",
      "[WARN] unable to int: val (BEL/<class 'str'>) e: could not convert string to float: 'BEL'\n",
      "[WARN] unable to float: val (VENT Intraventricular/<class 'str'>) e: could not convert string to float: 'VENT Intraventricular'\n",
      "[WARN] unable to int: val (VENT Intraventricular/<class 'str'>) e: could not convert string to float: 'VENT Intraventricular'\n",
      "[WARN] unable to float: val (VENT/<class 'str'>) e: could not convert string to float: 'VENT'\n",
      "[WARN] unable to int: val (VENT/<class 'str'>) e: could not convert string to float: 'VENT'\n",
      "[WARN] unable to float: val (TM Temporal/<class 'str'>) e: could not convert string to float: 'TM Temporal'\n",
      "[WARN] unable to int: val (TM Temporal/<class 'str'>) e: could not convert string to float: 'TM Temporal'\n",
      "[WARN] unable to float: val (TM/<class 'str'>) e: could not convert string to float: 'TM'\n",
      "[WARN] unable to int: val (TM/<class 'str'>) e: could not convert string to float: 'TM'\n",
      "[WARN] unable to float: val (O Occipital/<class 'str'>) e: could not convert string to float: 'O Occipital'\n",
      "[WARN] unable to int: val (O Occipital/<class 'str'>) e: could not convert string to float: 'O Occipital'\n",
      "[WARN] unable to float: val (O/<class 'str'>) e: could not convert string to float: 'O'\n",
      "[WARN] unable to int: val (O/<class 'str'>) e: could not convert string to float: 'O'\n",
      "[WARN] unable to float: val (INS Insular/<class 'str'>) e: could not convert string to float: 'INS Insular'\n",
      "[WARN] unable to int: val (INS Insular/<class 'str'>) e: could not convert string to float: 'INS Insular'\n",
      "[WARN] unable to float: val (INS/<class 'str'>) e: could not convert string to float: 'INS'\n",
      "[WARN] unable to int: val (INS/<class 'str'>) e: could not convert string to float: 'INS'\n",
      "[WARN] unable to float: val (F Frontal/<class 'str'>) e: could not convert string to float: 'F Frontal'\n",
      "[WARN] unable to int: val (F Frontal/<class 'str'>) e: could not convert string to float: 'F Frontal'\n",
      "[WARN] unable to float: val (F/<class 'str'>) e: could not convert string to float: 'F'\n",
      "[WARN] unable to int: val (F/<class 'str'>) e: could not convert string to float: 'F'\n",
      "[WARN] unable to float: val (CC Corpus Callosum/<class 'str'>) e: could not convert string to float: 'CC Corpus Callosum'\n",
      "[WARN] unable to int: val (CC Corpus Callosum/<class 'str'>) e: could not convert string to float: 'CC Corpus Callosum'\n",
      "[WARN] unable to float: val (CC/<class 'str'>) e: could not convert string to float: 'CC'\n",
      "[WARN] unable to int: val (CC/<class 'str'>) e: could not convert string to float: 'CC'\n",
      "[WARN] unable to float: val (BS Brainstem/<class 'str'>) e: could not convert string to float: 'BS Brainstem'\n",
      "[WARN] unable to int: val (BS Brainstem/<class 'str'>) e: could not convert string to float: 'BS Brainstem'\n",
      "[WARN] unable to float: val (BS/<class 'str'>) e: could not convert string to float: 'BS'\n",
      "[WARN] unable to int: val (BS/<class 'str'>) e: could not convert string to float: 'BS'\n",
      "[WARN] unable to float: val (HIP Hippocampus/<class 'str'>) e: could not convert string to float: 'HIP Hippocampus'\n",
      "[WARN] unable to int: val (HIP Hippocampus/<class 'str'>) e: could not convert string to float: 'HIP Hippocampus'\n",
      "[WARN] unable to float: val (HIP/<class 'str'>) e: could not convert string to float: 'HIP'\n",
      "[WARN] unable to int: val (HIP/<class 'str'>) e: could not convert string to float: 'HIP'\n",
      "[WARN] unable to float: val (PL PLIC/<class 'str'>) e: could not convert string to float: 'PL PLIC'\n",
      "[WARN] unable to int: val (PL PLIC/<class 'str'>) e: could not convert string to float: 'PL PLIC'\n",
      "[WARN] unable to float: val (PL/<class 'str'>) e: could not convert string to float: 'PL'\n",
      "[WARN] unable to int: val (PL/<class 'str'>) e: could not convert string to float: 'PL'\n",
      "[WARN] unable to float: val (EX Extra-Axial/<class 'str'>) e: could not convert string to float: 'EX Extra-Axial'\n",
      "[WARN] unable to int: val (EX Extra-Axial/<class 'str'>) e: could not convert string to float: 'EX Extra-Axial'\n",
      "[WARN] unable to float: val (EX/<class 'str'>) e: could not convert string to float: 'EX'\n",
      "[WARN] unable to int: val (EX/<class 'str'>) e: could not convert string to float: 'EX'\n",
      "[WARN] unable to float: val (S Scalp/<class 'str'>) e: could not convert string to float: 'S Scalp'\n",
      "[WARN] unable to int: val (S Scalp/<class 'str'>) e: could not convert string to float: 'S Scalp'\n",
      "[WARN] unable to float: val (S/<class 'str'>) e: could not convert string to float: 'S'\n",
      "[WARN] unable to int: val (S/<class 'str'>) e: could not convert string to float: 'S'\n",
      "[WARN] unable to float: val (PARA Parasagittal area/<class 'str'>) e: could not convert string to float: 'PARA Parasagittal area'\n",
      "[WARN] unable to int: val (PARA Parasagittal area/<class 'str'>) e: could not convert string to float: 'PARA Parasagittal area'\n",
      "[WARN] unable to float: val (PARA/<class 'str'>) e: could not convert string to float: 'PARA'\n",
      "[WARN] unable to int: val (PARA/<class 'str'>) e: could not convert string to float: 'PARA'\n",
      "[WARN] unable to float: val (P Parietal/<class 'str'>) e: could not convert string to float: 'P Parietal'\n",
      "[WARN] unable to int: val (P Parietal/<class 'str'>) e: could not convert string to float: 'P Parietal'\n",
      "[WARN] unable to float: val (P/<class 'str'>) e: could not convert string to float: 'P'\n",
      "[WARN] unable to int: val (P/<class 'str'>) e: could not convert string to float: 'P'\n",
      "[WARN] unable to float: val (C Cerebral/<class 'str'>) e: could not convert string to float: 'C Cerebral'\n",
      "[WARN] unable to int: val (C Cerebral/<class 'str'>) e: could not convert string to float: 'C Cerebral'\n",
      "[WARN] unable to float: val (C/<class 'str'>) e: could not convert string to float: 'C'\n",
      "[WARN] unable to int: val (C/<class 'str'>) e: could not convert string to float: 'C'\n",
      "[WARN] unable to float: val (1 Right only/<class 'str'>) e: could not convert string to float: '1 Right only'\n",
      "[WARN] unable to int: val (1 Right only/<class 'str'>) e: could not convert string to float: '1 Right only'\n",
      "[WARN] unable to float: val (2 Left only/<class 'str'>) e: could not convert string to float: '2 Left only'\n",
      "[WARN] unable to int: val (2 Left only/<class 'str'>) e: could not convert string to float: '2 Left only'\n",
      "[WARN] unable to float: val (3 Right greater than left/<class 'str'>) e: could not convert string to float: '3 Right greater than left'\n",
      "[WARN] unable to int: val (3 Right greater than left/<class 'str'>) e: could not convert string to float: '3 Right greater than left'\n",
      "[WARN] unable to float: val (4 Left greater than right/<class 'str'>) e: could not convert string to float: '4 Left greater than right'\n",
      "[WARN] unable to int: val (4 Left greater than right/<class 'str'>) e: could not convert string to float: '4 Left greater than right'\n",
      "[WARN] unable to float: val (5 Right and left, equally/<class 'str'>) e: could not convert string to float: '5 Right and left, equally'\n",
      "[WARN] unable to int: val (5 Right and left, equally/<class 'str'>) e: could not convert string to float: '5 Right and left, equally'\n",
      "[WARN] unable to float: val (1 Gray matter/<class 'str'>) e: could not convert string to float: '1 Gray matter'\n",
      "[WARN] unable to int: val (1 Gray matter/<class 'str'>) e: could not convert string to float: '1 Gray matter'\n",
      "[WARN] unable to float: val (2 White matter/<class 'str'>) e: could not convert string to float: '2 White matter'\n",
      "[WARN] unable to int: val (2 White matter/<class 'str'>) e: could not convert string to float: '2 White matter'\n",
      "[WARN] unable to float: val (3 Gray matter + White matter/<class 'str'>) e: could not convert string to float: '3 Gray matter + White matter'\n",
      "[WARN] unable to int: val (3 Gray matter + White matter/<class 'str'>) e: could not convert string to float: '3 Gray matter + White matter'\n",
      "[WARN] unable to float: val (1 Mild/<class 'str'>) e: could not convert string to float: '1 Mild'\n",
      "[WARN] unable to int: val (1 Mild/<class 'str'>) e: could not convert string to float: '1 Mild'\n",
      "[WARN] unable to float: val (2 Moderate/<class 'str'>) e: could not convert string to float: '2 Moderate'\n",
      "[WARN] unable to int: val (2 Moderate/<class 'str'>) e: could not convert string to float: '2 Moderate'\n",
      "[WARN] unable to float: val (3 Extensive/<class 'str'>) e: could not convert string to float: '3 Extensive'\n",
      "[WARN] unable to int: val (3 Extensive/<class 'str'>) e: could not convert string to float: '3 Extensive'\n",
      "[WARN] unable to float: val (1 Cystic/<class 'str'>) e: could not convert string to float: '1 Cystic'\n",
      "[WARN] unable to int: val (1 Cystic/<class 'str'>) e: could not convert string to float: '1 Cystic'\n",
      "[WARN] unable to float: val (2 Non-Cystic/<class 'str'>) e: could not convert string to float: '2 Non-Cystic'\n",
      "[WARN] unable to int: val (2 Non-Cystic/<class 'str'>) e: could not convert string to float: '2 Non-Cystic'\n",
      "[WARN] unable to float: val (3 Hemorrhage/<class 'str'>) e: could not convert string to float: '3 Hemorrhage'\n",
      "[WARN] unable to int: val (3 Hemorrhage/<class 'str'>) e: could not convert string to float: '3 Hemorrhage'\n",
      "[WARN] unable to float: val (4 Edema/<class 'str'>) e: could not convert string to float: '4 Edema'\n",
      "[WARN] unable to int: val (4 Edema/<class 'str'>) e: could not convert string to float: '4 Edema'\n",
      "[WARN] unable to float: val (5 Infarct/<class 'str'>) e: could not convert string to float: '5 Infarct'\n",
      "[WARN] unable to int: val (5 Infarct/<class 'str'>) e: could not convert string to float: '5 Infarct'\n",
      "[WARN] unable to float: val (6 Gliosis/<class 'str'>) e: could not convert string to float: '6 Gliosis'\n",
      "[WARN] unable to int: val (6 Gliosis/<class 'str'>) e: could not convert string to float: '6 Gliosis'\n",
      "[WARN] unable to float: val (N/<class 'str'>) e: could not convert string to float: 'N'\n",
      "[WARN] unable to int: val (N/<class 'str'>) e: could not convert string to float: 'N'\n",
      "[WARN] unable to float: val (Y/<class 'str'>) e: could not convert string to float: 'Y'\n",
      "[WARN] unable to int: val (Y/<class 'str'>) e: could not convert string to float: 'Y'\n",
      "[WARN] unable to float: val (Normal/<class 'str'>) e: could not convert string to float: 'Normal'\n",
      "[WARN] unable to int: val (Normal/<class 'str'>) e: could not convert string to float: 'Normal'\n",
      "[WARN] unable to float: val (Mild/<class 'str'>) e: could not convert string to float: 'Mild'\n",
      "[WARN] unable to int: val (Mild/<class 'str'>) e: could not convert string to float: 'Mild'\n",
      "[WARN] unable to float: val (Moderate/<class 'str'>) e: could not convert string to float: 'Moderate'\n",
      "[WARN] unable to int: val (Moderate/<class 'str'>) e: could not convert string to float: 'Moderate'\n",
      "[WARN] unable to float: val (Severe/<class 'str'>) e: could not convert string to float: 'Severe'\n",
      "[WARN] unable to int: val (Severe/<class 'str'>) e: could not convert string to float: 'Severe'\n",
      "[WARN] unable to float: val (PB/<class 'str'>) e: could not convert string to float: 'PB'\n",
      "[WARN] unable to int: val (PB/<class 'str'>) e: could not convert string to float: 'PB'\n",
      "[WARN] unable to float: val (NR/<class 'str'>) e: could not convert string to float: 'NR'\n",
      "[WARN] unable to int: val (NR/<class 'str'>) e: could not convert string to float: 'NR'\n"
     ]
    },
    {
     "name": "stdout",
     "output_type": "stream",
     "text": [
      "build_value_map: (1334/148) variable: center type: center\n",
      "build_value_map: (1335/148) variable: followupCenter type: center\n",
      "build_value_map: (1336/148) variable: subjectID type: text\n",
      "build_value_map: (1337/148) variable: followupID type: text\n",
      "build_value_map: (1338/148) variable: acidosis type: bool\n",
      "build_value_map: (1339/148) variable: ageDeath_day type: int\n",
      "build_value_map: (1340/148) variable: ageRand_hr type: float\n",
      "build_value_map: (1341/148) variable: baselineAnticonvulsants type: bool\n",
      "build_value_map: (1342/148) variable: dischargeAnticonvulsants type: bool\n",
      "build_value_map: (1343/148) variable: inotropicAgent type: bool\n",
      "build_value_map: (1344/148) variable: perinatalSentinelEvent type: bool\n",
      "build_value_map: (1345/148) variable: dischargeSeizure type: bool\n",
      "build_value_map: (1346/148) variable: Apgar10minLt5 type: bool\n",
      "build_value_map: (1347/148) variable: Apgar10minLte5 type: bool\n",
      "build_value_map: (1348/148) variable: Apgar5minLte5 type: bool\n",
      "build_value_map: (1349/148) variable: bloodGasBaseDeficit_mEqPerL type: float\n",
      "build_value_map: (1350/148) variable: bloodGasPH type: float\n",
      "build_value_map: (1351/148) variable: emergencyCSection type: bool\n",
      "build_value_map: (1352/148) variable: encephalopathyLevel type: encephalopathyLevel\n",
      "build_value_map: (1353/148) variable: inotropicAgentBaseline type: bool\n",
      "build_value_map: (1354/148) variable: maleSex type: bool\n",
      "build_value_map: (1355/148) variable: maternalEducation type: education2\n",
      "build_value_map: (1356/148) variable: motherInsurancePublic type: bool\n",
      "build_value_map: (1357/148) variable: motherRace type: race2\n",
      "build_value_map: (1358/148) variable: treatmentAssignmentDuration_hr type: int\n",
      "build_value_map: (1359/148) variable: treatmentAssignmentTemperature type: float\n",
      "build_value_map: (1360/148) variable: bloodGasBaseDeficit_mEqPerLSrc type: bloodGasSrc2\n",
      "build_value_map: (1361/148) variable: bloodGasPHSrc type: bloodGasSrc2\n",
      "build_value_map: (1362/148) variable: usualCoolingTreatmentGroup type: bool\n",
      "build_value_map: (1363/148) variable: blindness type: bool\n",
      "build_value_map: (1364/148) variable: moderateSevereCerebralPalsy type: bool\n",
      "build_value_map: (1365/148) variable: cerebralPalsy type: bool\n",
      "build_value_map: (1366/148) variable: gastrostomyTube type: bool\n",
      "build_value_map: (1367/148) variable: grossMotorFunctionLevel type: severity\n",
      "build_value_map: (1368/148) variable: hearingImpairedWithAid type: bool\n",
      "build_value_map: (1369/148) variable: hearingImpairedLevel type: severity\n",
      "build_value_map: (1370/148) variable: multipleImpairment type: bool\n",
      "build_value_map: (1371/148) variable: afterDischargeSeizure type: bool\n",
      "build_value_map: (1372/148) variable: lengthOfStay_day type: int\n",
      "build_value_map: (1373/148) variable: flagAdjudicatedOutcome type: flagAdjudicatedOutcome\n",
      "build_value_map: (1374/148) variable: normalPrimaryOutcome type: bool\n",
      "build_value_map: (1375/148) variable: BayleyIIILanguage type: severity\n",
      "build_value_map: (1376/148) variable: BayleyIIIMotor type: severity\n",
      "build_value_map: (1377/148) variable: BayleyIIICognitive type: severity\n",
      "build_value_map: (1378/148) variable: deathBeforeFollowup type: bool\n",
      "build_value_map: (1379/148) variable: deathBeforeDischarge type: bool\n",
      "build_value_map: (1380/148) variable: disabilityLevelSurvivor type: severity\n",
      "build_value_map: (1381/148) variable: disabilityLevel type: severity\n",
      "build_value_map: (1382/148) variable: moderateSevereDisabilityOrDeath type: bool\n",
      "build_value_map: (1383/148) variable: moderateSevereDisabilitySurvivor type: bool\n",
      "build_value_map: (1384/148) variable: disabilityLevelDeath type: severity\n",
      "build_value_map: (1385/148) variable: outcomeGroup type: outcomeGroup\n",
      "build_value_map: (1386/148) variable: pre_NeuroExamLevelConsciousnessScore type: int\n",
      "build_value_map: (1387/148) variable: pre_NeuroExamSpontaneousActivityScore type: int\n",
      "build_value_map: (1388/148) variable: pre_NeuroExamPostureScore type: int\n",
      "build_value_map: (1389/148) variable: pre_NeuroExamToneScore type: int\n",
      "build_value_map: (1390/148) variable: pre_NeuroExamSuckScore type: int\n",
      "build_value_map: (1391/148) variable: pre_NeuroExamMoroScore type: int\n",
      "build_value_map: (1392/148) variable: pre_NeuroExamPupilsScore type: int\n",
      "build_value_map: (1393/148) variable: pre_NeuroExamHeartRateScore type: int\n",
      "build_value_map: (1394/148) variable: pre_NeuroExamRespirationScore type: int\n",
      "build_value_map: (1395/148) variable: pre_NeuroExamReflexScore type: int\n",
      "build_value_map: (1396/148) variable: pre_NeuroExamANSScore type: int\n",
      "build_value_map: (1397/148) variable: pre_TotalModifiedSarnatScore type: int\n",
      "build_value_map: (1398/148) variable: post_NeuroExamLevelConsciousnessScore type: int\n",
      "build_value_map: (1399/148) variable: post_NeuroExamSpontaneousActivityScore type: int\n",
      "build_value_map: (1400/148) variable: post_NeuroExamPostureScore type: int\n",
      "build_value_map: (1401/148) variable: post_NeuroExamToneScore type: int\n",
      "build_value_map: (1402/148) variable: post_NeuroExamSuckScore type: int\n",
      "build_value_map: (1403/148) variable: post_NeuroExamMoroScore type: int\n",
      "build_value_map: (1404/148) variable: post_NeuroExamPupilsScore type: int\n",
      "build_value_map: (1405/148) variable: post_NeuroExamHeartRateScore type: int\n",
      "build_value_map: (1406/148) variable: post_NeuroExamRespirationScore type: int\n",
      "build_value_map: (1407/148) variable: post_NeuroExamReflexScore type: int\n",
      "build_value_map: (1408/148) variable: post_NeuroExamANSScore type: int\n",
      "build_value_map: (1409/148) variable: post_TotalModifiedSarnatScore type: int\n",
      "build_value_map: (1410/148) variable: dischargeNeuroExamLevelConsciousnessScore type: int\n",
      "build_value_map: (1411/148) variable: dischargeNeuroExamSpontaneousActivityScore type: int\n",
      "build_value_map: (1412/148) variable: dischargeNeuroExamPostureScore type: int\n",
      "build_value_map: (1413/148) variable: dischargeNeuroExamToneScore type: int\n",
      "build_value_map: (1414/148) variable: dischargeNeuroExamSuckScore type: int\n",
      "build_value_map: (1415/148) variable: dischargeNeuroExamMoroScore type: int\n",
      "build_value_map: (1416/148) variable: dischargeNeuroExamPupilsScore type: int\n",
      "build_value_map: (1417/148) variable: dischargeNeuroExamHeartRateScore type: int\n",
      "build_value_map: (1418/148) variable: dischargeNeuroExamRespirationScore type: int\n",
      "build_value_map: (1419/148) variable: dischargeNeuroExamReflexScore type: int\n",
      "build_value_map: (1420/148) variable: dischargeNeuroExamANSScore type: int\n",
      "build_value_map: (1421/148) variable: dischargeTotalModifiedSarnatScore type: int\n",
      "build_value_map: (1422/148) variable: MRINRNPatternOfInjuryMerge type: MRINRNPatternOfInjury\n",
      "build_value_map: (1423/148) variable: MRINRNPatternOfInjuryAvg type: float\n",
      "build_value_map: (1424/148) variable: MRINRNPatternOfInjuryMax type: float\n",
      "build_value_map: (1425/148) variable: MRI2LevelPatternOfInjury type: MRI2LevelPatternOfInjury\n",
      "build_value_map: (1426/148) variable: MRIAge_day type: int\n",
      "build_value_map: (1427/148) variable: MRIOverallDiagnosis type: MRIOverallDiagnosis\n",
      "build_value_map: (1428/148) variable: MRINRNPatternOfInjury type: MRINRNPatternOfInjury\n",
      "build_value_map: (1429/148) variable: MRIDate type: date\n",
      "build_value_map: (1430/148) variable: MRITime type: time\n",
      "build_value_map: (1431/148) variable: MRINotDone type: bool\n",
      "build_value_map: (1432/148) variable: MRIUnread type: bool\n",
      "build_value_map: (1433/148) variable: MRIAnalysis type: bool\n",
      "build_value_map: (1434/148) variable: abnormalMRIResult type: bool\n",
      "build_value_map: (1435/148) variable: MRINRNPatternOfInjuryWSvsBGTPLIC type: MRINRNPatternOfInjuryWSvsBGT\n",
      "build_value_map: (1436/148) variable: cerebralLesion type: bool\n",
      "build_value_map: (1437/148) variable: cerebellarLesion type: lesion\n",
      "build_value_map: (1438/148) variable: basalGangliaLesion type: lesion\n",
      "build_value_map: (1439/148) variable: brainstemLesion type: lesion\n",
      "build_value_map: (1440/148) variable: corpusCallosumLesion type: lesion\n",
      "build_value_map: (1441/148) variable: cerebralLesionLobe type: lesion\n",
      "build_value_map: (1442/148) variable: coronaRadiataLesion type: lesion\n",
      "build_value_map: (1443/148) variable: edema type: lesion\n",
      "build_value_map: (1444/148) variable: extraAxialLesion type: lesion\n",
      "build_value_map: (1445/148) variable: extent type: extent\n",
      "build_value_map: (1446/148) variable: frontalParietalLesion type: lesion\n",
      "build_value_map: (1447/148) variable: frontalLesion type: lesion\n",
      "build_value_map: (1448/148) variable: lateralHemisphericDevastation type: lateral\n",
      "build_value_map: (1449/148) variable: hippocampusLesion type: lesion\n",
      "build_value_map: (1450/148) variable: hypothalamusLesion type: lesion\n",
      "build_value_map: (1451/148) variable: insularLesion type: lesion\n",
      "build_value_map: (1452/148) variable: laterality type: lateral\n",
      "build_value_map: (1453/148) variable: BGT type: BGT\n",
      "build_value_map: (1454/148) variable: PLIC type: PLIC\n",
      "build_value_map: (1455/148) variable: watershed type: watershed\n",
      "build_value_map: (1456/148) variable: whiteMatterInjury type: whiteMatterInjury\n",
      "build_value_map: (1457/148) variable: occipitalLesion type: lesion\n",
      "build_value_map: (1458/148) variable: opticChiasmLesion type: lesion\n",
      "build_value_map: (1459/148) variable: otherLesion type: lesion\n",
      "build_value_map: (1460/148) variable: otherCerebralLesion type: lesion\n",
      "build_value_map: (1461/148) variable: parasagittalLesion type: lesion\n",
      "build_value_map: (1462/148) variable: parietalLesion type: lesion\n",
      "build_value_map: (1463/148) variable: preirolandicLesion type: lesion\n",
      "build_value_map: (1464/148) variable: perisylvianLesion type: lesion\n",
      "build_value_map: (1465/148) variable: pituitaryLesion type: lesion\n",
      "build_value_map: (1466/148) variable: parietalOccipitalLesion type: lesion\n",
      "build_value_map: (1467/148) variable: parietalTemporalLesion type: lesion\n",
      "build_value_map: (1468/148) variable: scalpLesion type: lesion\n",
      "build_value_map: (1469/148) variable: thalamusLesion type: lesion\n",
      "build_value_map: (1470/148) variable: temporalLesion type: lesion\n",
      "build_value_map: (1471/148) variable: temporalOccipitalLesion type: lesion\n",
      "build_value_map: (1472/148) variable: cerebralAtrophy type: bool\n",
      "build_value_map: (1473/148) variable: cererbalAtrophyQualAssessCC type: cererbalAtrophyQualAssessCC\n",
      "build_value_map: (1474/148) variable: cerebralAtrophyGlobalLocal type: cerebralAtrophyGlobalLocal\n",
      "build_value_map: (1475/148) variable: vascularTerritoryInfarction type: bool\n",
      "build_value_map: (1476/148) variable: vascularTerritoryInfarctionLeft type: bool\n",
      "build_value_map: (1477/148) variable: vascularTerritoryInfarctionRight type: bool\n",
      "build_value_map: (1478/148) variable: hemisphericDevastation type: bool\n",
      "build_value_map: (1479/148) variable: ventricularDilatation type: ventricularDilatation\n",
      "build_value_map: (1480/148) variable: vascularLesion type: lesion\n",
      "build_value_map: (1481/148) variable: intraventricularLesion type: lesion\n"
     ]
    }
   ],
   "source": [
    "COMBINE_harmonizer.init_mapping(data_dict_filename, study_name)\n",
    "_VALUE_MAP = COMBINE_harmonizer.build_value_map(data_dict_filename, sheet_name)"
   ]
  },
  {
   "cell_type": "code",
   "execution_count": 6,
   "id": "4dfeb330",
   "metadata": {
    "execution": {
     "iopub.execute_input": "2025-02-04T10:53:46.021696Z",
     "iopub.status.busy": "2025-02-04T10:53:46.021596Z",
     "iopub.status.idle": "2025-02-04T10:53:46.398564Z",
     "shell.execute_reply": "2025-02-04T10:53:46.398263Z"
    }
   },
   "outputs": [],
   "source": [
    "_ORDER_MAP = COMBINE_harmonizer.build_order_map(data_dict_filename, sheet_name)"
   ]
  },
  {
   "cell_type": "markdown",
   "id": "63d60297-2ae3-4df4-80f3-9517b7c0aadb",
   "metadata": {},
   "source": [
    "## 30-01-secondary"
   ]
  },
  {
   "cell_type": "code",
   "execution_count": 7,
   "id": "eaf61696-b804-46b5-bfda-b9f4fed51e73",
   "metadata": {
    "execution": {
     "iopub.execute_input": "2025-02-04T10:53:46.399987Z",
     "iopub.status.busy": "2025-02-04T10:53:46.399908Z",
     "iopub.status.idle": "2025-02-04T10:53:46.401567Z",
     "shell.execute_reply": "2025-02-04T10:53:46.401363Z"
    }
   },
   "outputs": [],
   "source": [
    "base_filename = '30-01-secondary.csv'"
   ]
  },
  {
   "cell_type": "code",
   "execution_count": 8,
   "id": "0885e33f-33a6-4831-89c9-b7cdb6faefa5",
   "metadata": {
    "execution": {
     "iopub.execute_input": "2025-02-04T10:53:46.402701Z",
     "iopub.status.busy": "2025-02-04T10:53:46.402629Z",
     "iopub.status.idle": "2025-02-04T10:53:46.495423Z",
     "shell.execute_reply": "2025-02-04T10:53:46.495077Z"
    }
   },
   "outputs": [
    {
     "name": "stdout",
     "output_type": "stream",
     "text": [
      "(0/14) normalize_value: column: center\n",
      "(1/14) normalize_value: column: subjectID\n",
      "(2/14) normalize_value: column: uniqueID\n",
      "(3/14) normalize_value: column: followupCenter\n",
      "(4/14) normalize_value: column: blindness\n",
      "(5/14) normalize_value: column: hearingImpairedLevel\n",
      "(6/14) normalize_value: column: hearingImpairedWithAid\n",
      "(7/14) normalize_value: column: grossMotorFunctionLevel\n",
      "(8/14) normalize_value: column: cerebralPalsy\n",
      "(9/14) normalize_value: column: moderateSevereCerebralPalsy\n",
      "(10/14) normalize_value: column: dischargeAnticonvulsants\n",
      "(11/14) normalize_value: column: followupID\n",
      "(12/14) normalize_value: column: dischargeSeizure\n",
      "(13/14) normalize_value: column: afterDischargeSeizure\n"
     ]
    }
   ],
   "source": [
    "filename = os.sep.join([input_dir, base_filename])\n",
    "df = pd.read_csv(filename, dtype='O')\n",
    "df = COMBINE_harmonizer.normalize_value(df, _VALUE_MAP, order_map=_ORDER_MAP)\n",
    "\n",
    "out_filename = os.sep.join([out_dir, base_filename])\n",
    "df.to_csv(out_filename, index=False)"
   ]
  },
  {
   "cell_type": "code",
   "execution_count": 9,
   "id": "25887f6c-87ee-4b60-b895-403bf8b82ec0",
   "metadata": {
    "execution": {
     "iopub.execute_input": "2025-02-04T10:53:46.497110Z",
     "iopub.status.busy": "2025-02-04T10:53:46.496983Z",
     "iopub.status.idle": "2025-02-04T10:53:46.500638Z",
     "shell.execute_reply": "2025-02-04T10:53:46.500353Z"
    }
   },
   "outputs": [
    {
     "name": "stdout",
     "output_type": "stream",
     "text": [
      "(0/28) center: (168/0)\n",
      "(1/28) center.orig: (168/0)\n",
      "(2/28) subjectID: (168/0)\n",
      "(3/28) subjectID.orig: (168/0)\n",
      "(4/28) uniqueID: (168/0)\n",
      "(5/28) uniqueID.orig: (168/0)\n",
      "(6/28) followupCenter: (168/0)\n",
      "(7/28) followupCenter.orig: (151/17)\n",
      "(8/28) followupID: (168/0)\n",
      "(9/28) followupID.orig: (133/35)\n",
      "(10/28) dischargeAnticonvulsants: (168/0)\n",
      "(11/28) dischargeAnticonvulsants.orig: (164/4)\n",
      "(12/28) dischargeSeizure: (168/0)\n",
      "(13/28) dischargeSeizure.orig: (168/0)\n",
      "(14/28) blindness: (168/0)\n",
      "(15/28) blindness.orig: (141/27)\n",
      "(16/28) moderateSevereCerebralPalsy: (168/0)\n",
      "(17/28) moderateSevereCerebralPalsy.orig: (141/27)\n",
      "(18/28) cerebralPalsy: (168/0)\n",
      "(19/28) cerebralPalsy.orig: (141/27)\n",
      "(20/28) grossMotorFunctionLevel: (168/0)\n",
      "(21/28) grossMotorFunctionLevel.orig: (141/27)\n",
      "(22/28) hearingImpairedWithAid: (168/0)\n",
      "(23/28) hearingImpairedWithAid.orig: (141/27)\n",
      "(24/28) hearingImpairedLevel: (168/0)\n",
      "(25/28) hearingImpairedLevel.orig: (141/27)\n",
      "(26/28) afterDischargeSeizure: (168/0)\n",
      "(27/28) afterDischargeSeizure.orig: (143/25)\n"
     ]
    }
   ],
   "source": [
    "COMBINE_harmonizer.column_info(df)"
   ]
  },
  {
   "cell_type": "markdown",
   "id": "ae04f098",
   "metadata": {},
   "source": [
    "## 30-02. Outcome"
   ]
  },
  {
   "cell_type": "code",
   "execution_count": 10,
   "id": "471a07b1",
   "metadata": {
    "execution": {
     "iopub.execute_input": "2025-02-04T10:53:46.502229Z",
     "iopub.status.busy": "2025-02-04T10:53:46.502117Z",
     "iopub.status.idle": "2025-02-04T10:53:46.504294Z",
     "shell.execute_reply": "2025-02-04T10:53:46.503873Z"
    }
   },
   "outputs": [],
   "source": [
    "base_filename = '30-02-outcome.csv'"
   ]
  },
  {
   "cell_type": "code",
   "execution_count": 11,
   "id": "413a672c",
   "metadata": {
    "execution": {
     "iopub.execute_input": "2025-02-04T10:53:46.506067Z",
     "iopub.status.busy": "2025-02-04T10:53:46.505896Z",
     "iopub.status.idle": "2025-02-04T10:53:46.671187Z",
     "shell.execute_reply": "2025-02-04T10:53:46.670324Z"
    }
   },
   "outputs": [
    {
     "name": "stdout",
     "output_type": "stream",
     "text": [
      "(0/13) normalize_value: column: center\n",
      "(1/13) normalize_value: column: subjectID\n",
      "(2/13) normalize_value: column: uniqueID\n",
      "(3/13) normalize_value: column: followupCenter\n",
      "(4/13) normalize_value: column: BayleyIIICognitive\n",
      "(5/13) normalize_value: column: deathBeforeFollowup\n",
      "(6/13) normalize_value: column: normalPrimaryOutcome\n",
      "(7/13) normalize_value: column: deathBeforeDischarge\n",
      "(8/13) normalize_value: column: followupID\n",
      "(9/13) normalize_value: column: moderateSevereDisabilitySurvivor\n",
      "(10/13) normalize_value: column: disabilityLevelSurvivor\n",
      "(11/13) normalize_value: column: moderateSevereDisabilityOrDeath\n",
      "(12/13) normalize_value: column: disabilityLevel\n"
     ]
    }
   ],
   "source": [
    "filename = os.sep.join([input_dir, base_filename])\n",
    "df = pd.read_csv(filename, dtype='O')\n",
    "df = COMBINE_harmonizer.normalize_value(df, _VALUE_MAP, order_map=_ORDER_MAP)\n",
    "\n",
    "out_filename = os.sep.join([out_dir, base_filename])\n",
    "df.to_csv(out_filename, index=False)"
   ]
  },
  {
   "cell_type": "code",
   "execution_count": 12,
   "id": "7e45c608",
   "metadata": {
    "execution": {
     "iopub.execute_input": "2025-02-04T10:53:46.675253Z",
     "iopub.status.busy": "2025-02-04T10:53:46.674799Z",
     "iopub.status.idle": "2025-02-04T10:53:46.683184Z",
     "shell.execute_reply": "2025-02-04T10:53:46.682831Z"
    }
   },
   "outputs": [
    {
     "name": "stdout",
     "output_type": "stream",
     "text": [
      "(0/26) center: (168/0)\n",
      "(1/26) center.orig: (168/0)\n",
      "(2/26) subjectID: (168/0)\n",
      "(3/26) subjectID.orig: (168/0)\n",
      "(4/26) uniqueID: (168/0)\n",
      "(5/26) uniqueID.orig: (168/0)\n",
      "(6/26) followupCenter: (168/0)\n",
      "(7/26) followupCenter.orig: (151/17)\n",
      "(8/26) followupID: (168/0)\n",
      "(9/26) followupID.orig: (133/35)\n",
      "(10/26) normalPrimaryOutcome: (168/0)\n",
      "(11/26) normalPrimaryOutcome.orig: (139/29)\n",
      "(12/26) BayleyIIICognitive: (168/0)\n",
      "(13/26) BayleyIIICognitive.orig: (138/30)\n",
      "(14/26) deathBeforeFollowup: (168/0)\n",
      "(15/26) deathBeforeFollowup.orig: (165/3)\n",
      "(16/26) deathBeforeDischarge: (168/0)\n",
      "(17/26) deathBeforeDischarge.orig: (167/1)\n",
      "(18/26) disabilityLevelSurvivor: (168/0)\n",
      "(19/26) disabilityLevelSurvivor.orig: (139/29)\n",
      "(20/26) disabilityLevel: (168/0)\n",
      "(21/26) disabilityLevel.orig: (157/11)\n",
      "(22/26) moderateSevereDisabilityOrDeath: (168/0)\n",
      "(23/26) moderateSevereDisabilityOrDeath.orig: (157/11)\n",
      "(24/26) moderateSevereDisabilitySurvivor: (168/0)\n",
      "(25/26) moderateSevereDisabilitySurvivor.orig: (139/29)\n"
     ]
    }
   ],
   "source": [
    "COMBINE_harmonizer.column_info(df)"
   ]
  },
  {
   "cell_type": "markdown",
   "id": "505c98f7",
   "metadata": {},
   "source": [
    "## 30-03. Analysis-MRI"
   ]
  },
  {
   "cell_type": "code",
   "execution_count": 13,
   "id": "f7b9d3f3",
   "metadata": {
    "execution": {
     "iopub.execute_input": "2025-02-04T10:53:46.685192Z",
     "iopub.status.busy": "2025-02-04T10:53:46.685026Z",
     "iopub.status.idle": "2025-02-04T10:53:46.687212Z",
     "shell.execute_reply": "2025-02-04T10:53:46.686850Z"
    }
   },
   "outputs": [],
   "source": [
    "base_filename = '30-03-mri.csv'"
   ]
  },
  {
   "cell_type": "code",
   "execution_count": 14,
   "id": "45a0b7b7",
   "metadata": {
    "execution": {
     "iopub.execute_input": "2025-02-04T10:53:46.688969Z",
     "iopub.status.busy": "2025-02-04T10:53:46.688806Z",
     "iopub.status.idle": "2025-02-04T10:53:46.780634Z",
     "shell.execute_reply": "2025-02-04T10:53:46.779567Z"
    }
   },
   "outputs": [
    {
     "name": "stdout",
     "output_type": "stream",
     "text": [
      "(0/14) normalize_value: column: center\n",
      "(1/14) normalize_value: column: subjectID\n",
      "(2/14) normalize_value: column: uniqueID\n",
      "(3/14) normalize_value: column: followupCenter\n",
      "(4/14) normalize_value: column: followupID\n",
      "(5/14) normalize_value: column: MRIDate\n",
      "(6/14) normalize_value: column: MRITime\n",
      "(7/14) normalize_value: column: MRIAge_day\n",
      "(8/14) normalize_value: column: MRIUnread\n",
      "(9/14) normalize_value: column: MRINRNPatternOfInjury\n",
      "(10/14) normalize_value: column: MRI2LevelPatternOfInjury\n",
      "(11/14) normalize_value: column: vascularTerritoryInfarctionLeft\n",
      "(12/14) normalize_value: column: vascularTerritoryInfarctionRight\n",
      "(13/14) normalize_value: column: MRINotDone\n"
     ]
    }
   ],
   "source": [
    "filename = os.sep.join([input_dir, base_filename])\n",
    "df = pd.read_csv(filename, dtype='O')\n",
    "df = COMBINE_harmonizer.normalize_value(df, _VALUE_MAP, order_map=_ORDER_MAP)\n",
    "\n",
    "out_filename = os.sep.join([out_dir, base_filename])\n",
    "df.to_csv(out_filename, index=False)"
   ]
  },
  {
   "cell_type": "code",
   "execution_count": 15,
   "id": "de78c5e5",
   "metadata": {
    "execution": {
     "iopub.execute_input": "2025-02-04T10:53:46.789001Z",
     "iopub.status.busy": "2025-02-04T10:53:46.787756Z",
     "iopub.status.idle": "2025-02-04T10:53:46.801892Z",
     "shell.execute_reply": "2025-02-04T10:53:46.801480Z"
    }
   },
   "outputs": [
    {
     "name": "stdout",
     "output_type": "stream",
     "text": [
      "(0/28) center: (168/0)\n",
      "(1/28) center.orig: (168/0)\n",
      "(2/28) subjectID: (168/0)\n",
      "(3/28) subjectID.orig: (168/0)\n",
      "(4/28) uniqueID: (168/0)\n",
      "(5/28) uniqueID.orig: (168/0)\n",
      "(6/28) followupCenter: (168/0)\n",
      "(7/28) followupCenter.orig: (151/17)\n",
      "(8/28) followupID: (168/0)\n",
      "(9/28) followupID.orig: (133/35)\n",
      "(10/28) MRI2LevelPatternOfInjury: (168/0)\n",
      "(11/28) MRI2LevelPatternOfInjury.orig: (128/40)\n",
      "(12/28) MRIAge_day: (168/0)\n",
      "(13/28) MRIAge_day.orig: (128/40)\n",
      "(14/28) MRINRNPatternOfInjury: (168/0)\n",
      "(15/28) MRINRNPatternOfInjury.orig: (128/40)\n",
      "(16/28) MRIDate: (168/0)\n",
      "(17/28) MRIDate.orig: (147/21)\n",
      "(18/28) MRITime: (168/0)\n",
      "(19/28) MRITime.orig: (147/21)\n",
      "(20/28) MRINotDone: (168/0)\n",
      "(21/28) MRINotDone.orig: (21/147)\n",
      "(22/28) MRIUnread: (168/0)\n",
      "(23/28) MRIUnread.orig: (19/149)\n",
      "(24/28) vascularTerritoryInfarctionLeft: (168/0)\n",
      "(25/28) vascularTerritoryInfarctionLeft.orig: (128/40)\n",
      "(26/28) vascularTerritoryInfarctionRight: (168/0)\n",
      "(27/28) vascularTerritoryInfarctionRight.orig: (128/40)\n"
     ]
    }
   ],
   "source": [
    "COMBINE_harmonizer.column_info(df)"
   ]
  }
 ],
 "metadata": {
  "kernelspec": {
   "display_name": ".venv",
   "language": "python",
   "name": "python3"
  },
  "language_info": {
   "codemirror_mode": {
    "name": "ipython",
    "version": 3
   },
   "file_extension": ".py",
   "mimetype": "text/x-python",
   "name": "python",
   "nbconvert_exporter": "python",
   "pygments_lexer": "ipython3",
   "version": "3.13.0"
  }
 },
 "nbformat": 4,
 "nbformat_minor": 5
}
