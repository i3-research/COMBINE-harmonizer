{
 "cells": [
  {
   "cell_type": "code",
   "execution_count": 1,
   "id": "e09240e0-d873-402a-b49d-003e22345862",
   "metadata": {
    "execution": {
     "iopub.execute_input": "2025-05-15T04:29:33.298048Z",
     "iopub.status.busy": "2025-05-15T04:29:33.297857Z",
     "iopub.status.idle": "2025-05-15T04:29:34.573116Z",
     "shell.execute_reply": "2025-05-15T04:29:34.572844Z"
    },
    "tags": []
   },
   "outputs": [],
   "source": [
    "import pandas as pd\n",
    "import os\n",
    "\n",
    "import COMBINE_harmonizer\n",
    "from COMBINE_harmonizer import cfg"
   ]
  },
  {
   "cell_type": "markdown",
   "id": "a1b78a94-380a-4c46-9fd0-ffd84b54d66f",
   "metadata": {
    "tags": []
   },
   "source": [
    "## 01. init"
   ]
  },
  {
   "cell_type": "code",
   "execution_count": 2,
   "id": "7a2d3d8b",
   "metadata": {
    "execution": {
     "iopub.execute_input": "2025-05-15T04:29:34.574961Z",
     "iopub.status.busy": "2025-05-15T04:29:34.574816Z",
     "iopub.status.idle": "2025-05-15T04:29:34.576625Z",
     "shell.execute_reply": "2025-05-15T04:29:34.576415Z"
    }
   },
   "outputs": [],
   "source": [
    "study_name = COMBINE_harmonizer.STUDY_LH\n",
    "sheet_name = COMBINE_harmonizer.SHEET_FOLLOW_UP\n",
    "\n",
    "root_dir = '..'"
   ]
  },
  {
   "cell_type": "code",
   "execution_count": 3,
   "id": "5707a451-fb1f-475b-b612-5eb8b8a5b5a5",
   "metadata": {
    "execution": {
     "iopub.execute_input": "2025-05-15T04:29:34.577785Z",
     "iopub.status.busy": "2025-05-15T04:29:34.577715Z",
     "iopub.status.idle": "2025-05-15T04:29:34.581194Z",
     "shell.execute_reply": "2025-05-15T04:29:34.580907Z"
    },
    "tags": []
   },
   "outputs": [],
   "source": [
    "COMBINE_harmonizer.init(f'{root_dir}/config.yaml')"
   ]
  },
  {
   "cell_type": "markdown",
   "id": "3e109a38-3a4c-4923-9722-d0c287868f79",
   "metadata": {},
   "source": [
    "## 02. Dictionary"
   ]
  },
  {
   "cell_type": "code",
   "execution_count": 4,
   "id": "052bcb2d-b3bf-43e6-89d1-4ae04ac01f87",
   "metadata": {
    "execution": {
     "iopub.execute_input": "2025-05-15T04:29:34.582641Z",
     "iopub.status.busy": "2025-05-15T04:29:34.582554Z",
     "iopub.status.idle": "2025-05-15T04:29:34.584272Z",
     "shell.execute_reply": "2025-05-15T04:29:34.584064Z"
    },
    "tags": []
   },
   "outputs": [],
   "source": [
    "data_dict_filename = f'{root_dir}/Dictionary_HIE_clinical_variables.xlsx'"
   ]
  },
  {
   "cell_type": "code",
   "execution_count": 5,
   "id": "0e9f0649-2462-46b2-90fe-d3b901ee9d22",
   "metadata": {
    "execution": {
     "iopub.execute_input": "2025-05-15T04:29:34.585354Z",
     "iopub.status.busy": "2025-05-15T04:29:34.585280Z",
     "iopub.status.idle": "2025-05-15T04:29:34.963870Z",
     "shell.execute_reply": "2025-05-15T04:29:34.963403Z"
    },
    "tags": []
   },
   "outputs": [],
   "source": [
    "df_dict = COMBINE_harmonizer.load_data_dict(data_dict_filename, sheet_name)"
   ]
  },
  {
   "cell_type": "code",
   "execution_count": 6,
   "id": "9cadb09f-06c4-42be-898f-2bb023f31ce8",
   "metadata": {
    "execution": {
     "iopub.execute_input": "2025-05-15T04:29:34.965626Z",
     "iopub.status.busy": "2025-05-15T04:29:34.965496Z",
     "iopub.status.idle": "2025-05-15T04:29:34.967404Z",
     "shell.execute_reply": "2025-05-15T04:29:34.967169Z"
    },
    "tags": []
   },
   "outputs": [],
   "source": [
    "dict_columns = list(df_dict[study_name].unique())"
   ]
  },
  {
   "cell_type": "markdown",
   "id": "a71bc477-2840-4bb2-809d-69e4ccfef2b7",
   "metadata": {},
   "source": [
    "## 03. LH"
   ]
  },
  {
   "cell_type": "code",
   "execution_count": 7,
   "id": "6310a3d3-ffb2-4fe9-af9d-1221585e737d",
   "metadata": {
    "execution": {
     "iopub.execute_input": "2025-05-15T04:29:34.968653Z",
     "iopub.status.busy": "2025-05-15T04:29:34.968567Z",
     "iopub.status.idle": "2025-05-15T04:29:34.970107Z",
     "shell.execute_reply": "2025-05-15T04:29:34.969890Z"
    },
    "tags": []
   },
   "outputs": [],
   "source": [
    "the_dir = cfg.config[f'{study_name}_follow_up_dir']"
   ]
  },
  {
   "cell_type": "code",
   "execution_count": 8,
   "id": "76e1f68c-ab99-4dd8-866a-6f47eae4e5f7",
   "metadata": {
    "execution": {
     "iopub.execute_input": "2025-05-15T04:29:34.971238Z",
     "iopub.status.busy": "2025-05-15T04:29:34.971168Z",
     "iopub.status.idle": "2025-05-15T04:29:35.038513Z",
     "shell.execute_reply": "2025-05-15T04:29:35.038082Z"
    },
    "tags": []
   },
   "outputs": [],
   "source": [
    "filenames = os.listdir(the_dir)\n",
    "filenames.sort()\n",
    "\n",
    "full_filenames = [os.sep.join([the_dir, each_filename]) for each_filename in filenames]"
   ]
  },
  {
   "cell_type": "code",
   "execution_count": 9,
   "id": "06a6698d",
   "metadata": {
    "execution": {
     "iopub.execute_input": "2025-05-15T04:29:35.040230Z",
     "iopub.status.busy": "2025-05-15T04:29:35.040100Z",
     "iopub.status.idle": "2025-05-15T04:29:35.041924Z",
     "shell.execute_reply": "2025-05-15T04:29:35.041667Z"
    }
   },
   "outputs": [],
   "source": [
    "analysis_dir = cfg.config[f'{study_name}_analysis_dir']"
   ]
  },
  {
   "cell_type": "code",
   "execution_count": 10,
   "id": "db4d81e0",
   "metadata": {
    "execution": {
     "iopub.execute_input": "2025-05-15T04:29:35.043225Z",
     "iopub.status.busy": "2025-05-15T04:29:35.043118Z",
     "iopub.status.idle": "2025-05-15T04:29:35.052820Z",
     "shell.execute_reply": "2025-05-15T04:29:35.052487Z"
    }
   },
   "outputs": [],
   "source": [
    "analysis_filenames = os.listdir(analysis_dir)\n",
    "analysis_filenames.sort()\n",
    "\n",
    "full_analysis_filenames = [os.sep.join([analysis_dir, each_filename]) for each_filename in analysis_filenames]"
   ]
  },
  {
   "cell_type": "code",
   "execution_count": 11,
   "id": "cb71dcd3-6411-484d-b284-720a3ad59c4b",
   "metadata": {
    "execution": {
     "iopub.execute_input": "2025-05-15T04:29:35.054275Z",
     "iopub.status.busy": "2025-05-15T04:29:35.054181Z",
     "iopub.status.idle": "2025-05-15T04:29:35.441296Z",
     "shell.execute_reply": "2025-05-15T04:29:35.440789Z"
    },
    "tags": []
   },
   "outputs": [],
   "source": [
    "all_filenames = filenames + analysis_filenames\n",
    "full_all_filenames = full_filenames + full_analysis_filenames\n",
    "dfs = [pd.read_csv(each_filename) for each_filename in full_all_filenames]"
   ]
  },
  {
   "cell_type": "markdown",
   "id": "beb790b4-4816-4a90-bfe2-6e4d4e79efb0",
   "metadata": {},
   "source": [
    "### 03.1. check columns in each file"
   ]
  },
  {
   "cell_type": "code",
   "execution_count": 12,
   "id": "e60a48aa-f698-4a9d-87ca-5f08808e69d2",
   "metadata": {
    "execution": {
     "iopub.execute_input": "2025-05-15T04:29:35.444336Z",
     "iopub.status.busy": "2025-05-15T04:29:35.444079Z",
     "iopub.status.idle": "2025-05-15T04:29:35.448358Z",
     "shell.execute_reply": "2025-05-15T04:29:35.447849Z"
    }
   },
   "outputs": [
    {
     "name": "stdout",
     "output_type": "stream",
     "text": [
      "(0/12) filename: lf01.csv columns: ['LHFOLNUM', 'SITENM', 'LAST', 'FIRST', 'HTHRM_ID', 'PROTID02', 'PROTID03', 'PROTID04', 'PROTID05', 'PROTID06', 'PROTID07', 'PROTID08', 'PROTID09', 'PROTID10', 'PROTID11', 'PROTID12', 'PROTID13', 'PROTID14', 'PROTID15', 'PROTID16', 'PROTID17', 'PROTID18', 'PROTID19', 'PROTID20', 'REC_CMP', 'CENTER', 'BIRTHDT', 'VISITDT', 'BIRTHNM', 'PREVCNTR', 'CMP_DATE', 'CRT_DATE']\n",
      "(1/12) filename: lf03.csv columns: ['LHFOLNUM', 'CFSUPER', 'NF3MONEY', 'CFWKPCAR', 'CFWKOCAR', 'CFSCCARE', 'CFSCADUL', 'CFOTHLAN', 'CFSECLAN', 'CFOTHSEC', 'CFNDNRSV', 'CFNDNRSH', 'CFNDOTPT', 'CFNDSPCH', 'CFNDEALY', 'CFNDSOCL', 'CFNDCLIN', 'CFNDPUL', 'CFNDOPH', 'CFNDGAS', 'CFNDAUD', 'CFNDNEU', 'CFNDOTH', 'CFCVOSP', 'CFNDEVAL', 'CFNDPFU', 'CFREGDR', 'CFCCFAC', 'CFCAROT', 'CFTRDYCR', 'CFSPDYCR', 'CFHMDYCR', 'CFBBYSIT', 'CFINITS', 'REC_CMP', 'CENTER', 'CFVISDT', 'CFBRTHDT', 'CFCHRAGE', 'CFADJAGE', 'CFCARE', 'CFOCAR', 'CFMARITL', 'CFLIVING', 'CFPEOPLE', 'CFGRPCAR', 'CFGROCAR', 'CFINCOME', 'CFINSUR', 'CFLANG', 'CFSECOND', 'CFNMPLLV', 'NF3ZIP3', 'CFNURSEV', 'CFNURSEH', 'CFOTPT', 'CFSPEECH', 'CFEARLY', 'CFSOCIAL', 'CFCLINIC', 'CFCVPUL', 'CFCVOPH', 'CFCVGAS', 'CFCVAUD', 'CFCVNEU', 'CFCVOTH', 'CFEVAL', 'CFPREFU', 'CFTRDCHR', 'CFSPDCHR', 'CFSPDCLC', 'CFHMDCHR', 'CFHMDCLC', 'CFBSITHR', 'CFBABSTR', 'CFPRRESP', 'CFPLACE', 'CFCOMPDT', 'CMP_DATE', 'CRT_DATE']\n",
      "(2/12) filename: lf04.csv columns: ['LHFOLNUM', 'DFREHOSP', 'DFOPERAT', 'DFOPTYMP', 'DFOPTRAC', 'DFOP_EYE', 'DFOPHERN', 'DFOPGAST', 'DFOPFUND', 'DFOPSHUN', 'DFOPREAN', 'DFOPPDA', 'DFOPBRON', 'DFOPHYPO', 'DFOPOTH', 'DFOPOTHS', 'DFMEDIC', 'NF4OTHSP', 'DFSEIZ', 'DFRECVD', 'DFFLUSHT', 'DFRSVPRO', 'DFSELF', 'DFASSIST', 'DFTUBFED', 'DF_TPN', 'DF_MILK', 'DFTBLFOD', 'DFSFTFOD', 'DFLIQUID', 'DFTHKLQD', 'DFEQUIP', 'DFSTROLL', 'DFBRACES', 'DFWALKER', 'DFSTNDER', 'DFCNRCHR', 'NF4LOCSP', 'DFINITS', 'REC_CMP', 'CENTER', 'DFTIMES', 'DFOPEYER', 'NF4NUTRI', 'NF4CALOR', 'NF4DIUR', 'NF4RFLUX', 'NF4BRONC', 'DFIHSTRD', 'DFOLSTRD', 'DFOASMA', 'DFALGYMD', 'NF4ANTCV', 'DFPRANTI', 'DFANTBIO', 'DFCNSPAT', 'DFBPMED', 'DFTHYRD', 'DFMRELAX', 'DFBOTOX', 'NF4OTMDS', 'DFAPNEA', 'DFOXYGEN', 'DFVENT', 'DFTUBE', 'DFTRACH', 'DFPLSEOX', 'DFPLACE', 'DFCOMPDT', 'CMP_DATE', 'CRT_DATE']\n",
      "(3/12) filename: lf04a.csv columns: ['LHFOLNUM', 'DFINITSA', 'REC_CMP', 'CENTER', 'DFDISDT', 'DFBRDYDT', 'DFPLACEA', 'DFCMPDTA', 'CMP_DATE', 'CRT_DATE']\n",
      "(4/12) filename: lf04ar.csv columns: ['LHFOLNUM', 'NF4AROTS', 'REC_CMP', 'CENTER', 'DFREADNM', 'DFTIMEA', 'DFCAUSE', 'CMP_DATE', 'CRT_DATE']\n",
      "(5/12) filename: lf05.csv columns: ['LHFOLNUM', 'EFAUDIO', 'EFCONPEN', 'NF5VRA', 'NF5ABR', 'NF5UKHR', 'NF5DYSPH', 'NF5ASPIR', 'NF5ABVOC', 'NF5DROOL', 'NF5NPO', 'EFABREST', 'EFSHORTR', 'EFSLOWR', 'EFTREMRR', 'NF5SCISS', 'EFDGNORM', 'EFHYPOT', 'EFHYPERT', 'EFOTHER', 'NF5OCPSP', 'EFDIPLEG', 'EFHEMRT', 'EFHEMLT', 'EFQUADR', 'EFTRIPLE', 'EFATHETO', 'NF5HYPTN', 'NF5MNPLG', 'NF5MXCP', 'NF5CPUN', 'NF5CPSP', 'EFCERPAL', 'EFCONGEN', 'EFCONGSP', 'NF5LOCSP', 'NF5FACSP', 'EFINITS', 'REC_CMP', 'CENTER', 'EFWEIGHT', 'EFLENGTH', 'EFHC', 'NF5STRRT', 'NF5STRLT', 'NF5NYSRT', 'NF5NYSLT', 'NF5ROVRT', 'NF5ROVLT', 'NF5TRKRT', 'NF5TRKLT', 'EFVISINR', 'EFVISINL', 'NF5VRART', 'NF5VRALT', 'NF5VRASN', 'NF5ABRRT', 'NF5ABRLT', 'NF5UKHRT', 'NF5UKHLT', 'EFHEARIM', 'EFHRDIS', 'EFSWALL', 'NF5NCTRK', 'NF5UPEXR', 'NF5UPEXL', 'NF5HPKNR', 'NF5HPKNL', 'NF5ANKLR', 'NF5ANKLL', 'NF5GROSS', 'NF5HNDPF', 'NF5PRORF', 'NF5LMBUP', 'NF5LMBLW', 'NF5UPRRT', 'NF5UPRLT', 'NF5KNERT', 'NF5KNELT', 'NF5AKLRT', 'NF5AKLLT', 'NF5CLNRT', 'NF5CLNLT', 'NF5PLNRT', 'NF5PLNLT', 'EFAXISHD', 'EFAXTRNK', 'EFLWRLMB', 'EFUPRLMB', 'EFRHAND', 'EFLHAND', 'EFCERGR', 'EFPLACE', 'NF5QUALT', 'NF5FACTR', 'EFCOMPDT', 'CMP_DATE', 'CRT_DATE']\n",
      "(6/12) filename: lf09a.csv columns: ['LHFOLNUM', 'NF9ACSU', 'NF9ACSUS', 'NF9ALRC', 'NF9ALRCS', 'NF9ALEC', 'NF9ALECS', 'NF9AMFN', 'NF9AMFNS', 'NF9AMGR', 'NF9AMGRS', 'NF9ABSEN', 'NF9ABSIN', 'NF9ABSMK', 'NF9AINIT', 'REC_CMP', 'CENTER', 'NF9ACSUR', 'NF9ALRCR', 'NF9ALECR', 'NF9AMFNR', 'NF9AMGRR', 'NF9AAACS', 'NF9AAARC', 'NF9AAAEC', 'NF9AAAMF', 'NF9AAAMG', 'NF9ABSCR', 'NF9ABSCS', 'NF9ABSCC', 'NF9ABSRR', 'NF9ABSRS', 'NF9ABSER', 'NF9ABSES', 'NF9ABSLS', 'NF9ABSLC', 'NF9AMFRW', 'NF9AMFSS', 'NF9AMGRW', 'NF9AMGSS', 'NF9AMGSM', 'NF9AMCMP', 'NF9AWEC', 'NF9ADATE', 'CMP_DATE', 'CRT_DATE']\n",
      "(7/12) filename: lf10.csv columns: ['LHFOLNUM', 'JFINITS', 'REC_CMP', 'CENTER', 'JFBRTDT', 'NF10VSDT', 'JFSTATUS', 'JFDTHDT', 'JFREASN', 'JFCOMPDT', 'NF10CNTR', 'CMP_DATE', 'CRT_DATE']\n",
      "(8/12) filename: lf11.csv columns: ['LHFOLNUM', 'KFSESDIS', 'KFSES18', 'KFMEDHIS', 'KFREADM', 'KFINFEXM', 'KFBAYLE3', 'KFSTATFM', 'KFLOSTFM', 'KFINITS', 'REC_CMP', 'CENTER', 'KFFSTDT', 'KFSECDT', 'KFCOMPDT', 'CMP_DATE', 'CRT_DATE']\n",
      "(9/12) filename: lf12.csv columns: ['LHFOLNUM', 'LFOSOURC', 'LFALIVE', 'LFINTERV', 'LFCHART2', 'LFWALK', 'LFSITTIN', 'LFHEAD', 'LFSEE', 'LFEYEQ', 'NF12GLAS', 'LFHEAR', 'LFHEARQ', 'LFHEAIDQ', 'NF12C2WD', 'NF12C3WD', 'LFHYDROQ', 'LFCPQ', 'LFDEVDQ', 'LFLANDQ', 'LFWEIGHQ', 'LFSEIZUQ', 'LFBLINDQ', 'NF12BHPB', 'NF12BHDS', 'NF12MDPB', 'NF12MDDS', 'NF12NRPB', 'NF12NRDS', 'LFINITA', 'NF12CHBD', 'NF12CHMD', 'NF12CHND', 'NF12INIT', 'REC_CMP', 'CENTER', 'LFCONTDT', 'LFCOMPDT', 'LFADJAGE', 'LFDTHDT', 'LFINTDT', 'LFINTAGE', 'LFCHARDT', 'LFCHARAG', 'LFHEALTH', 'LFWKAGE', 'NF12NMWD', 'LFEYEC', 'LFHEARC', 'LFHEAIDC', 'LFHYDROC', 'LFCPC', 'LFDEVDEC', 'LFLANDEC', 'LFWEIGHC', 'LFSEIZUC', 'NF12BLND', 'NF12CHBH', 'NF12CHMM', 'NF12CHNR', 'CMP_DATE', 'CRT_DATE']\n",
      "(10/12) filename: analysis.csv columns: ['HTHRM_ID', 'CENTER', 'fcenter', 'blindness', 'hearing', 'hear_imp', 'gross', 'cp_out', 'modsevcp', 'bayley3', 'death18', 'all_norm', 'hosp_die', 'any_antic', 'LHFOLNUM', 'any_seiz', 'seiz_fu', 'disab_ms', 'disab_4', 'disab_die', 'disab_die4', 'MRI_DATE', 'MRI_TIME', 'MRI_AGED', 'MRI_UNREAD', 'MRI_RDATE_PB', 'MRI_RDATE_NR', 'MRI_RDATE_WG', 'MRI_RDATE_LC', 'MRI_PATTERN', 'MRI_PATTERN_PB', 'MRI_PATTERN_NR', 'MRI_PATTERN_WG', 'MRI_PATTERN_LC', 'MRI_PCLASS', 'MRI_PCLASS_PB', 'MRI_PCLASS_NR', 'MRI_PCLASS_WG', 'MRI_PCLASS_LC', 'MRI_INFARL', 'MRI_INFARL_PB', 'MRI_INFARL_NR', 'MRI_INFARL_WG', 'MRI_INFARR', 'MRI_INFARR_PB', 'MRI_INFARR_NR', 'MRI_INFARR_WG', 'MRI_NOTDONE']\n",
      "(11/12) filename: mrilh.csv columns: ['HTHRM_ID', 'CENTER', 'fcenter', 'blindness', 'hearing', 'hear_imp', 'gross', 'cp_out', 'modsevcp', 'bayley3', 'death18', 'all_norm', 'hosp_die', 'any_antic', 'LHFOLNUM', 'any_seiz', 'seiz_fu', 'disab_ms', 'disab_4', 'disab_die', 'disab_die4', 'MRI_DATE', 'MRI_TIME', 'MRI_AGED', 'MRI_UNREAD', 'MRI_RDATE_PB', 'MRI_RDATE_NR', 'MRI_RDATE_WG', 'MRI_RDATE_LC', 'MRI_PATTERN', 'MRI_PATTERN_PB', 'MRI_PATTERN_NR', 'MRI_PATTERN_WG', 'MRI_PATTERN_LC', 'MRI_PCLASS', 'MRI_PCLASS_PB', 'MRI_PCLASS_NR', 'MRI_PCLASS_WG', 'MRI_PCLASS_LC', 'MRI_INFARL', 'MRI_INFARL_PB', 'MRI_INFARL_NR', 'MRI_INFARL_WG', 'MRI_INFARR', 'MRI_INFARR_PB', 'MRI_INFARR_NR', 'MRI_INFARR_WG', 'MRI_NOTDONE']\n"
     ]
    }
   ],
   "source": [
    "for idx, each_df in enumerate(dfs):\n",
    "    print(f'({idx}/{len(dfs)}) filename: {all_filenames[idx]} columns: {list(each_df.columns)}')"
   ]
  },
  {
   "cell_type": "markdown",
   "id": "4fd83236-89d6-4858-89c8-f7532b3351a2",
   "metadata": {},
   "source": [
    "### 03.2 all columns"
   ]
  },
  {
   "cell_type": "code",
   "execution_count": 13,
   "id": "8cd1e78a-8b58-4490-9746-6d7462d1bbd9",
   "metadata": {
    "execution": {
     "iopub.execute_input": "2025-05-15T04:29:35.451581Z",
     "iopub.status.busy": "2025-05-15T04:29:35.451017Z",
     "iopub.status.idle": "2025-05-15T04:29:35.465406Z",
     "shell.execute_reply": "2025-05-15T04:29:35.465031Z"
    }
   },
   "outputs": [],
   "source": [
    "all_columns = []\n",
    "for idx, each_df in enumerate(dfs):\n",
    "    all_columns += list(map(lambda x: {'column': x, 'idx': idx, 'filename': all_filenames[idx]}, list(each_df.columns)))\n",
    "df_columns = pd.DataFrame(all_columns)\n",
    "df_columns['column:filename'] = df_columns.apply(lambda x: f\"{x['column']}:{x['filename']}\", axis=1)\n",
    "df_columns['column:filename:idx'] = df_columns.apply(lambda x: f\"{x['column']}:{x['filename']}:{x['idx']}\", axis=1)\n",
    "df_columns.sort_values(by=['filename', 'column'], inplace=True)"
   ]
  },
  {
   "cell_type": "code",
   "execution_count": 14,
   "id": "69334595-218f-4f14-86d6-f429ef997c61",
   "metadata": {
    "execution": {
     "iopub.execute_input": "2025-05-15T04:29:35.467155Z",
     "iopub.status.busy": "2025-05-15T04:29:35.466996Z",
     "iopub.status.idle": "2025-05-15T04:29:35.474932Z",
     "shell.execute_reply": "2025-05-15T04:29:35.474658Z"
    }
   },
   "outputs": [
    {
     "data": {
      "text/html": [
       "<div>\n",
       "<style scoped>\n",
       "    .dataframe tbody tr th:only-of-type {\n",
       "        vertical-align: middle;\n",
       "    }\n",
       "\n",
       "    .dataframe tbody tr th {\n",
       "        vertical-align: top;\n",
       "    }\n",
       "\n",
       "    .dataframe thead th {\n",
       "        text-align: right;\n",
       "    }\n",
       "</style>\n",
       "<table border=\"1\" class=\"dataframe\">\n",
       "  <thead>\n",
       "    <tr style=\"text-align: right;\">\n",
       "      <th></th>\n",
       "      <th>column</th>\n",
       "      <th>idx</th>\n",
       "      <th>filename</th>\n",
       "      <th>column:filename</th>\n",
       "      <th>column:filename:idx</th>\n",
       "    </tr>\n",
       "  </thead>\n",
       "  <tbody>\n",
       "    <tr>\n",
       "      <th>439</th>\n",
       "      <td>CENTER</td>\n",
       "      <td>10</td>\n",
       "      <td>analysis.csv</td>\n",
       "      <td>CENTER:analysis.csv</td>\n",
       "      <td>CENTER:analysis.csv:10</td>\n",
       "    </tr>\n",
       "    <tr>\n",
       "      <th>438</th>\n",
       "      <td>HTHRM_ID</td>\n",
       "      <td>10</td>\n",
       "      <td>analysis.csv</td>\n",
       "      <td>HTHRM_ID:analysis.csv</td>\n",
       "      <td>HTHRM_ID:analysis.csv:10</td>\n",
       "    </tr>\n",
       "    <tr>\n",
       "      <th>452</th>\n",
       "      <td>LHFOLNUM</td>\n",
       "      <td>10</td>\n",
       "      <td>analysis.csv</td>\n",
       "      <td>LHFOLNUM:analysis.csv</td>\n",
       "      <td>LHFOLNUM:analysis.csv:10</td>\n",
       "    </tr>\n",
       "    <tr>\n",
       "      <th>461</th>\n",
       "      <td>MRI_AGED</td>\n",
       "      <td>10</td>\n",
       "      <td>analysis.csv</td>\n",
       "      <td>MRI_AGED:analysis.csv</td>\n",
       "      <td>MRI_AGED:analysis.csv:10</td>\n",
       "    </tr>\n",
       "    <tr>\n",
       "      <th>459</th>\n",
       "      <td>MRI_DATE</td>\n",
       "      <td>10</td>\n",
       "      <td>analysis.csv</td>\n",
       "      <td>MRI_DATE:analysis.csv</td>\n",
       "      <td>MRI_DATE:analysis.csv:10</td>\n",
       "    </tr>\n",
       "    <tr>\n",
       "      <th>...</th>\n",
       "      <td>...</td>\n",
       "      <td>...</td>\n",
       "      <td>...</td>\n",
       "      <td>...</td>\n",
       "      <td>...</td>\n",
       "    </tr>\n",
       "    <tr>\n",
       "      <th>491</th>\n",
       "      <td>hear_imp</td>\n",
       "      <td>11</td>\n",
       "      <td>mrilh.csv</td>\n",
       "      <td>hear_imp:mrilh.csv</td>\n",
       "      <td>hear_imp:mrilh.csv:11</td>\n",
       "    </tr>\n",
       "    <tr>\n",
       "      <th>490</th>\n",
       "      <td>hearing</td>\n",
       "      <td>11</td>\n",
       "      <td>mrilh.csv</td>\n",
       "      <td>hearing:mrilh.csv</td>\n",
       "      <td>hearing:mrilh.csv:11</td>\n",
       "    </tr>\n",
       "    <tr>\n",
       "      <th>498</th>\n",
       "      <td>hosp_die</td>\n",
       "      <td>11</td>\n",
       "      <td>mrilh.csv</td>\n",
       "      <td>hosp_die:mrilh.csv</td>\n",
       "      <td>hosp_die:mrilh.csv:11</td>\n",
       "    </tr>\n",
       "    <tr>\n",
       "      <th>494</th>\n",
       "      <td>modsevcp</td>\n",
       "      <td>11</td>\n",
       "      <td>mrilh.csv</td>\n",
       "      <td>modsevcp:mrilh.csv</td>\n",
       "      <td>modsevcp:mrilh.csv:11</td>\n",
       "    </tr>\n",
       "    <tr>\n",
       "      <th>502</th>\n",
       "      <td>seiz_fu</td>\n",
       "      <td>11</td>\n",
       "      <td>mrilh.csv</td>\n",
       "      <td>seiz_fu:mrilh.csv</td>\n",
       "      <td>seiz_fu:mrilh.csv:11</td>\n",
       "    </tr>\n",
       "  </tbody>\n",
       "</table>\n",
       "<p>534 rows × 5 columns</p>\n",
       "</div>"
      ],
      "text/plain": [
       "       column  idx      filename        column:filename  \\\n",
       "439    CENTER   10  analysis.csv    CENTER:analysis.csv   \n",
       "438  HTHRM_ID   10  analysis.csv  HTHRM_ID:analysis.csv   \n",
       "452  LHFOLNUM   10  analysis.csv  LHFOLNUM:analysis.csv   \n",
       "461  MRI_AGED   10  analysis.csv  MRI_AGED:analysis.csv   \n",
       "459  MRI_DATE   10  analysis.csv  MRI_DATE:analysis.csv   \n",
       "..        ...  ...           ...                    ...   \n",
       "491  hear_imp   11     mrilh.csv     hear_imp:mrilh.csv   \n",
       "490   hearing   11     mrilh.csv      hearing:mrilh.csv   \n",
       "498  hosp_die   11     mrilh.csv     hosp_die:mrilh.csv   \n",
       "494  modsevcp   11     mrilh.csv     modsevcp:mrilh.csv   \n",
       "502   seiz_fu   11     mrilh.csv      seiz_fu:mrilh.csv   \n",
       "\n",
       "          column:filename:idx  \n",
       "439    CENTER:analysis.csv:10  \n",
       "438  HTHRM_ID:analysis.csv:10  \n",
       "452  LHFOLNUM:analysis.csv:10  \n",
       "461  MRI_AGED:analysis.csv:10  \n",
       "459  MRI_DATE:analysis.csv:10  \n",
       "..                        ...  \n",
       "491     hear_imp:mrilh.csv:11  \n",
       "490      hearing:mrilh.csv:11  \n",
       "498     hosp_die:mrilh.csv:11  \n",
       "494     modsevcp:mrilh.csv:11  \n",
       "502      seiz_fu:mrilh.csv:11  \n",
       "\n",
       "[534 rows x 5 columns]"
      ]
     },
     "execution_count": 14,
     "metadata": {},
     "output_type": "execute_result"
    }
   ],
   "source": [
    "df_columns"
   ]
  },
  {
   "cell_type": "code",
   "execution_count": 15,
   "id": "fbd3caaf-03f2-4945-acb5-8fcdf6802d86",
   "metadata": {
    "execution": {
     "iopub.execute_input": "2025-05-15T04:29:35.476379Z",
     "iopub.status.busy": "2025-05-15T04:29:35.476281Z",
     "iopub.status.idle": "2025-05-15T04:29:35.482924Z",
     "shell.execute_reply": "2025-05-15T04:29:35.482639Z"
    }
   },
   "outputs": [
    {
     "data": {
      "text/html": [
       "<div>\n",
       "<style scoped>\n",
       "    .dataframe tbody tr th:only-of-type {\n",
       "        vertical-align: middle;\n",
       "    }\n",
       "\n",
       "    .dataframe tbody tr th {\n",
       "        vertical-align: top;\n",
       "    }\n",
       "\n",
       "    .dataframe thead th {\n",
       "        text-align: right;\n",
       "    }\n",
       "</style>\n",
       "<table border=\"1\" class=\"dataframe\">\n",
       "  <thead>\n",
       "    <tr style=\"text-align: right;\">\n",
       "      <th></th>\n",
       "      <th>_count</th>\n",
       "    </tr>\n",
       "    <tr>\n",
       "      <th>column</th>\n",
       "      <th></th>\n",
       "    </tr>\n",
       "  </thead>\n",
       "  <tbody>\n",
       "    <tr>\n",
       "      <th>CENTER</th>\n",
       "      <td>12</td>\n",
       "    </tr>\n",
       "    <tr>\n",
       "      <th>LHFOLNUM</th>\n",
       "      <td>12</td>\n",
       "    </tr>\n",
       "    <tr>\n",
       "      <th>CRT_DATE</th>\n",
       "      <td>10</td>\n",
       "    </tr>\n",
       "    <tr>\n",
       "      <th>CMP_DATE</th>\n",
       "      <td>10</td>\n",
       "    </tr>\n",
       "    <tr>\n",
       "      <th>REC_CMP</th>\n",
       "      <td>10</td>\n",
       "    </tr>\n",
       "    <tr>\n",
       "      <th>HTHRM_ID</th>\n",
       "      <td>3</td>\n",
       "    </tr>\n",
       "    <tr>\n",
       "      <th>seiz_fu</th>\n",
       "      <td>2</td>\n",
       "    </tr>\n",
       "    <tr>\n",
       "      <th>MRI_NOTDONE</th>\n",
       "      <td>2</td>\n",
       "    </tr>\n",
       "    <tr>\n",
       "      <th>MRI_INFARR_WG</th>\n",
       "      <td>2</td>\n",
       "    </tr>\n",
       "    <tr>\n",
       "      <th>MRI_INFARR_PB</th>\n",
       "      <td>2</td>\n",
       "    </tr>\n",
       "    <tr>\n",
       "      <th>MRI_INFARR_NR</th>\n",
       "      <td>2</td>\n",
       "    </tr>\n",
       "    <tr>\n",
       "      <th>MRI_INFARL_WG</th>\n",
       "      <td>2</td>\n",
       "    </tr>\n",
       "    <tr>\n",
       "      <th>MRI_INFARR</th>\n",
       "      <td>2</td>\n",
       "    </tr>\n",
       "    <tr>\n",
       "      <th>MRI_PATTERN_LC</th>\n",
       "      <td>2</td>\n",
       "    </tr>\n",
       "    <tr>\n",
       "      <th>MRI_INFARL_PB</th>\n",
       "      <td>2</td>\n",
       "    </tr>\n",
       "    <tr>\n",
       "      <th>MRI_INFARL_NR</th>\n",
       "      <td>2</td>\n",
       "    </tr>\n",
       "    <tr>\n",
       "      <th>MRI_INFARL</th>\n",
       "      <td>2</td>\n",
       "    </tr>\n",
       "    <tr>\n",
       "      <th>MRI_DATE</th>\n",
       "      <td>2</td>\n",
       "    </tr>\n",
       "    <tr>\n",
       "      <th>MRI_PATTERN</th>\n",
       "      <td>2</td>\n",
       "    </tr>\n",
       "    <tr>\n",
       "      <th>MRI_PATTERN_WG</th>\n",
       "      <td>2</td>\n",
       "    </tr>\n",
       "  </tbody>\n",
       "</table>\n",
       "</div>"
      ],
      "text/plain": [
       "                _count\n",
       "column                \n",
       "CENTER              12\n",
       "LHFOLNUM            12\n",
       "CRT_DATE            10\n",
       "CMP_DATE            10\n",
       "REC_CMP             10\n",
       "HTHRM_ID             3\n",
       "seiz_fu              2\n",
       "MRI_NOTDONE          2\n",
       "MRI_INFARR_WG        2\n",
       "MRI_INFARR_PB        2\n",
       "MRI_INFARR_NR        2\n",
       "MRI_INFARL_WG        2\n",
       "MRI_INFARR           2\n",
       "MRI_PATTERN_LC       2\n",
       "MRI_INFARL_PB        2\n",
       "MRI_INFARL_NR        2\n",
       "MRI_INFARL           2\n",
       "MRI_DATE             2\n",
       "MRI_PATTERN          2\n",
       "MRI_PATTERN_WG       2"
      ]
     },
     "execution_count": 15,
     "metadata": {},
     "output_type": "execute_result"
    }
   ],
   "source": [
    "df_columns_count = df_columns.groupby(['column']).agg(_count=('column', 'count')).sort_values(by=['_count'], ascending=False)\n",
    "df_columns_count.head(20)"
   ]
  },
  {
   "cell_type": "markdown",
   "id": "2474eca4-e00d-4f45-874f-2110f08f0ce0",
   "metadata": {},
   "source": [
    "### 03.3 check LHFOLNUM"
   ]
  },
  {
   "cell_type": "code",
   "execution_count": 16,
   "id": "a184686e-ccef-4469-8ef6-01d5d87754d1",
   "metadata": {
    "execution": {
     "iopub.execute_input": "2025-05-15T04:29:35.484471Z",
     "iopub.status.busy": "2025-05-15T04:29:35.484343Z",
     "iopub.status.idle": "2025-05-15T04:29:35.488859Z",
     "shell.execute_reply": "2025-05-15T04:29:35.488598Z"
    }
   },
   "outputs": [
    {
     "data": {
      "text/html": [
       "<div>\n",
       "<style scoped>\n",
       "    .dataframe tbody tr th:only-of-type {\n",
       "        vertical-align: middle;\n",
       "    }\n",
       "\n",
       "    .dataframe tbody tr th {\n",
       "        vertical-align: top;\n",
       "    }\n",
       "\n",
       "    .dataframe thead th {\n",
       "        text-align: right;\n",
       "    }\n",
       "</style>\n",
       "<table border=\"1\" class=\"dataframe\">\n",
       "  <thead>\n",
       "    <tr style=\"text-align: right;\">\n",
       "      <th></th>\n",
       "      <th>column</th>\n",
       "      <th>idx</th>\n",
       "      <th>filename</th>\n",
       "      <th>column:filename</th>\n",
       "      <th>column:filename:idx</th>\n",
       "    </tr>\n",
       "  </thead>\n",
       "  <tbody>\n",
       "    <tr>\n",
       "      <th>452</th>\n",
       "      <td>LHFOLNUM</td>\n",
       "      <td>10</td>\n",
       "      <td>analysis.csv</td>\n",
       "      <td>LHFOLNUM:analysis.csv</td>\n",
       "      <td>LHFOLNUM:analysis.csv:10</td>\n",
       "    </tr>\n",
       "    <tr>\n",
       "      <th>0</th>\n",
       "      <td>LHFOLNUM</td>\n",
       "      <td>0</td>\n",
       "      <td>lf01.csv</td>\n",
       "      <td>LHFOLNUM:lf01.csv</td>\n",
       "      <td>LHFOLNUM:lf01.csv:0</td>\n",
       "    </tr>\n",
       "    <tr>\n",
       "      <th>32</th>\n",
       "      <td>LHFOLNUM</td>\n",
       "      <td>1</td>\n",
       "      <td>lf03.csv</td>\n",
       "      <td>LHFOLNUM:lf03.csv</td>\n",
       "      <td>LHFOLNUM:lf03.csv:1</td>\n",
       "    </tr>\n",
       "    <tr>\n",
       "      <th>112</th>\n",
       "      <td>LHFOLNUM</td>\n",
       "      <td>2</td>\n",
       "      <td>lf04.csv</td>\n",
       "      <td>LHFOLNUM:lf04.csv</td>\n",
       "      <td>LHFOLNUM:lf04.csv:2</td>\n",
       "    </tr>\n",
       "    <tr>\n",
       "      <th>183</th>\n",
       "      <td>LHFOLNUM</td>\n",
       "      <td>3</td>\n",
       "      <td>lf04a.csv</td>\n",
       "      <td>LHFOLNUM:lf04a.csv</td>\n",
       "      <td>LHFOLNUM:lf04a.csv:3</td>\n",
       "    </tr>\n",
       "    <tr>\n",
       "      <th>193</th>\n",
       "      <td>LHFOLNUM</td>\n",
       "      <td>4</td>\n",
       "      <td>lf04ar.csv</td>\n",
       "      <td>LHFOLNUM:lf04ar.csv</td>\n",
       "      <td>LHFOLNUM:lf04ar.csv:4</td>\n",
       "    </tr>\n",
       "    <tr>\n",
       "      <th>202</th>\n",
       "      <td>LHFOLNUM</td>\n",
       "      <td>5</td>\n",
       "      <td>lf05.csv</td>\n",
       "      <td>LHFOLNUM:lf05.csv</td>\n",
       "      <td>LHFOLNUM:lf05.csv:5</td>\n",
       "    </tr>\n",
       "    <tr>\n",
       "      <th>300</th>\n",
       "      <td>LHFOLNUM</td>\n",
       "      <td>6</td>\n",
       "      <td>lf09a.csv</td>\n",
       "      <td>LHFOLNUM:lf09a.csv</td>\n",
       "      <td>LHFOLNUM:lf09a.csv:6</td>\n",
       "    </tr>\n",
       "    <tr>\n",
       "      <th>346</th>\n",
       "      <td>LHFOLNUM</td>\n",
       "      <td>7</td>\n",
       "      <td>lf10.csv</td>\n",
       "      <td>LHFOLNUM:lf10.csv</td>\n",
       "      <td>LHFOLNUM:lf10.csv:7</td>\n",
       "    </tr>\n",
       "    <tr>\n",
       "      <th>359</th>\n",
       "      <td>LHFOLNUM</td>\n",
       "      <td>8</td>\n",
       "      <td>lf11.csv</td>\n",
       "      <td>LHFOLNUM:lf11.csv</td>\n",
       "      <td>LHFOLNUM:lf11.csv:8</td>\n",
       "    </tr>\n",
       "    <tr>\n",
       "      <th>376</th>\n",
       "      <td>LHFOLNUM</td>\n",
       "      <td>9</td>\n",
       "      <td>lf12.csv</td>\n",
       "      <td>LHFOLNUM:lf12.csv</td>\n",
       "      <td>LHFOLNUM:lf12.csv:9</td>\n",
       "    </tr>\n",
       "    <tr>\n",
       "      <th>500</th>\n",
       "      <td>LHFOLNUM</td>\n",
       "      <td>11</td>\n",
       "      <td>mrilh.csv</td>\n",
       "      <td>LHFOLNUM:mrilh.csv</td>\n",
       "      <td>LHFOLNUM:mrilh.csv:11</td>\n",
       "    </tr>\n",
       "  </tbody>\n",
       "</table>\n",
       "</div>"
      ],
      "text/plain": [
       "       column  idx      filename        column:filename  \\\n",
       "452  LHFOLNUM   10  analysis.csv  LHFOLNUM:analysis.csv   \n",
       "0    LHFOLNUM    0      lf01.csv      LHFOLNUM:lf01.csv   \n",
       "32   LHFOLNUM    1      lf03.csv      LHFOLNUM:lf03.csv   \n",
       "112  LHFOLNUM    2      lf04.csv      LHFOLNUM:lf04.csv   \n",
       "183  LHFOLNUM    3     lf04a.csv     LHFOLNUM:lf04a.csv   \n",
       "193  LHFOLNUM    4    lf04ar.csv    LHFOLNUM:lf04ar.csv   \n",
       "202  LHFOLNUM    5      lf05.csv      LHFOLNUM:lf05.csv   \n",
       "300  LHFOLNUM    6     lf09a.csv     LHFOLNUM:lf09a.csv   \n",
       "346  LHFOLNUM    7      lf10.csv      LHFOLNUM:lf10.csv   \n",
       "359  LHFOLNUM    8      lf11.csv      LHFOLNUM:lf11.csv   \n",
       "376  LHFOLNUM    9      lf12.csv      LHFOLNUM:lf12.csv   \n",
       "500  LHFOLNUM   11     mrilh.csv     LHFOLNUM:mrilh.csv   \n",
       "\n",
       "          column:filename:idx  \n",
       "452  LHFOLNUM:analysis.csv:10  \n",
       "0         LHFOLNUM:lf01.csv:0  \n",
       "32        LHFOLNUM:lf03.csv:1  \n",
       "112       LHFOLNUM:lf04.csv:2  \n",
       "183      LHFOLNUM:lf04a.csv:3  \n",
       "193     LHFOLNUM:lf04ar.csv:4  \n",
       "202       LHFOLNUM:lf05.csv:5  \n",
       "300      LHFOLNUM:lf09a.csv:6  \n",
       "346       LHFOLNUM:lf10.csv:7  \n",
       "359       LHFOLNUM:lf11.csv:8  \n",
       "376       LHFOLNUM:lf12.csv:9  \n",
       "500     LHFOLNUM:mrilh.csv:11  "
      ]
     },
     "execution_count": 16,
     "metadata": {},
     "output_type": "execute_result"
    }
   ],
   "source": [
    "is_LHFOLNUM = df_columns['column'] == 'LHFOLNUM'\n",
    "df_columns[is_LHFOLNUM]"
   ]
  },
  {
   "cell_type": "markdown",
   "id": "0363374f-7628-4cb8-8279-85aceeee2933",
   "metadata": {},
   "source": [
    "##### column not in dict"
   ]
  },
  {
   "cell_type": "code",
   "execution_count": 17,
   "id": "09ce2321-f69b-474d-8568-4877ca8a0d59",
   "metadata": {
    "execution": {
     "iopub.execute_input": "2025-05-15T04:29:35.490262Z",
     "iopub.status.busy": "2025-05-15T04:29:35.490166Z",
     "iopub.status.idle": "2025-05-15T04:29:35.494626Z",
     "shell.execute_reply": "2025-05-15T04:29:35.494393Z"
    }
   },
   "outputs": [
    {
     "data": {
      "text/html": [
       "<div>\n",
       "<style scoped>\n",
       "    .dataframe tbody tr th:only-of-type {\n",
       "        vertical-align: middle;\n",
       "    }\n",
       "\n",
       "    .dataframe tbody tr th {\n",
       "        vertical-align: top;\n",
       "    }\n",
       "\n",
       "    .dataframe thead th {\n",
       "        text-align: right;\n",
       "    }\n",
       "</style>\n",
       "<table border=\"1\" class=\"dataframe\">\n",
       "  <thead>\n",
       "    <tr style=\"text-align: right;\">\n",
       "      <th></th>\n",
       "      <th>column</th>\n",
       "      <th>idx</th>\n",
       "      <th>filename</th>\n",
       "      <th>column:filename</th>\n",
       "      <th>column:filename:idx</th>\n",
       "    </tr>\n",
       "  </thead>\n",
       "  <tbody>\n",
       "    <tr>\n",
       "      <th>461</th>\n",
       "      <td>MRI_AGED</td>\n",
       "      <td>10</td>\n",
       "      <td>analysis.csv</td>\n",
       "      <td>MRI_AGED:analysis.csv</td>\n",
       "      <td>MRI_AGED:analysis.csv:10</td>\n",
       "    </tr>\n",
       "    <tr>\n",
       "      <th>459</th>\n",
       "      <td>MRI_DATE</td>\n",
       "      <td>10</td>\n",
       "      <td>analysis.csv</td>\n",
       "      <td>MRI_DATE:analysis.csv</td>\n",
       "      <td>MRI_DATE:analysis.csv:10</td>\n",
       "    </tr>\n",
       "    <tr>\n",
       "      <th>477</th>\n",
       "      <td>MRI_INFARL</td>\n",
       "      <td>10</td>\n",
       "      <td>analysis.csv</td>\n",
       "      <td>MRI_INFARL:analysis.csv</td>\n",
       "      <td>MRI_INFARL:analysis.csv:10</td>\n",
       "    </tr>\n",
       "    <tr>\n",
       "      <th>479</th>\n",
       "      <td>MRI_INFARL_NR</td>\n",
       "      <td>10</td>\n",
       "      <td>analysis.csv</td>\n",
       "      <td>MRI_INFARL_NR:analysis.csv</td>\n",
       "      <td>MRI_INFARL_NR:analysis.csv:10</td>\n",
       "    </tr>\n",
       "    <tr>\n",
       "      <th>478</th>\n",
       "      <td>MRI_INFARL_PB</td>\n",
       "      <td>10</td>\n",
       "      <td>analysis.csv</td>\n",
       "      <td>MRI_INFARL_PB:analysis.csv</td>\n",
       "      <td>MRI_INFARL_PB:analysis.csv:10</td>\n",
       "    </tr>\n",
       "    <tr>\n",
       "      <th>...</th>\n",
       "      <td>...</td>\n",
       "      <td>...</td>\n",
       "      <td>...</td>\n",
       "      <td>...</td>\n",
       "      <td>...</td>\n",
       "    </tr>\n",
       "    <tr>\n",
       "      <th>508</th>\n",
       "      <td>MRI_TIME</td>\n",
       "      <td>11</td>\n",
       "      <td>mrilh.csv</td>\n",
       "      <td>MRI_TIME:mrilh.csv</td>\n",
       "      <td>MRI_TIME:mrilh.csv:11</td>\n",
       "    </tr>\n",
       "    <tr>\n",
       "      <th>510</th>\n",
       "      <td>MRI_UNREAD</td>\n",
       "      <td>11</td>\n",
       "      <td>mrilh.csv</td>\n",
       "      <td>MRI_UNREAD:mrilh.csv</td>\n",
       "      <td>MRI_UNREAD:mrilh.csv:11</td>\n",
       "    </tr>\n",
       "    <tr>\n",
       "      <th>499</th>\n",
       "      <td>any_antic</td>\n",
       "      <td>11</td>\n",
       "      <td>mrilh.csv</td>\n",
       "      <td>any_antic:mrilh.csv</td>\n",
       "      <td>any_antic:mrilh.csv:11</td>\n",
       "    </tr>\n",
       "    <tr>\n",
       "      <th>501</th>\n",
       "      <td>any_seiz</td>\n",
       "      <td>11</td>\n",
       "      <td>mrilh.csv</td>\n",
       "      <td>any_seiz:mrilh.csv</td>\n",
       "      <td>any_seiz:mrilh.csv:11</td>\n",
       "    </tr>\n",
       "    <tr>\n",
       "      <th>488</th>\n",
       "      <td>fcenter</td>\n",
       "      <td>11</td>\n",
       "      <td>mrilh.csv</td>\n",
       "      <td>fcenter:mrilh.csv</td>\n",
       "      <td>fcenter:mrilh.csv:11</td>\n",
       "    </tr>\n",
       "  </tbody>\n",
       "</table>\n",
       "<p>135 rows × 5 columns</p>\n",
       "</div>"
      ],
      "text/plain": [
       "            column  idx      filename             column:filename  \\\n",
       "461       MRI_AGED   10  analysis.csv       MRI_AGED:analysis.csv   \n",
       "459       MRI_DATE   10  analysis.csv       MRI_DATE:analysis.csv   \n",
       "477     MRI_INFARL   10  analysis.csv     MRI_INFARL:analysis.csv   \n",
       "479  MRI_INFARL_NR   10  analysis.csv  MRI_INFARL_NR:analysis.csv   \n",
       "478  MRI_INFARL_PB   10  analysis.csv  MRI_INFARL_PB:analysis.csv   \n",
       "..             ...  ...           ...                         ...   \n",
       "508       MRI_TIME   11     mrilh.csv          MRI_TIME:mrilh.csv   \n",
       "510     MRI_UNREAD   11     mrilh.csv        MRI_UNREAD:mrilh.csv   \n",
       "499      any_antic   11     mrilh.csv         any_antic:mrilh.csv   \n",
       "501       any_seiz   11     mrilh.csv          any_seiz:mrilh.csv   \n",
       "488        fcenter   11     mrilh.csv           fcenter:mrilh.csv   \n",
       "\n",
       "               column:filename:idx  \n",
       "461       MRI_AGED:analysis.csv:10  \n",
       "459       MRI_DATE:analysis.csv:10  \n",
       "477     MRI_INFARL:analysis.csv:10  \n",
       "479  MRI_INFARL_NR:analysis.csv:10  \n",
       "478  MRI_INFARL_PB:analysis.csv:10  \n",
       "..                             ...  \n",
       "508          MRI_TIME:mrilh.csv:11  \n",
       "510        MRI_UNREAD:mrilh.csv:11  \n",
       "499         any_antic:mrilh.csv:11  \n",
       "501          any_seiz:mrilh.csv:11  \n",
       "488           fcenter:mrilh.csv:11  \n",
       "\n",
       "[135 rows x 5 columns]"
      ]
     },
     "execution_count": 17,
     "metadata": {},
     "output_type": "execute_result"
    }
   ],
   "source": [
    "is_not_in_dict = df_columns['column'].isin(dict_columns) == False\n",
    "df_columns_not_in_dict = df_columns[is_not_in_dict]\n",
    "df_columns_not_in_dict"
   ]
  },
  {
   "cell_type": "code",
   "execution_count": 18,
   "id": "f28d1f26-8b94-4453-ad15-1b77a9b2aa18",
   "metadata": {
    "execution": {
     "iopub.execute_input": "2025-05-15T04:29:35.495880Z",
     "iopub.status.busy": "2025-05-15T04:29:35.495793Z",
     "iopub.status.idle": "2025-05-15T04:29:35.498827Z",
     "shell.execute_reply": "2025-05-15T04:29:35.498552Z"
    }
   },
   "outputs": [
    {
     "data": {
      "text/plain": [
       "['MRI_AGED:analysis.csv:10',\n",
       " 'MRI_DATE:analysis.csv:10',\n",
       " 'MRI_INFARL:analysis.csv:10',\n",
       " 'MRI_INFARL_NR:analysis.csv:10',\n",
       " 'MRI_INFARL_PB:analysis.csv:10',\n",
       " 'MRI_INFARL_WG:analysis.csv:10',\n",
       " 'MRI_INFARR:analysis.csv:10',\n",
       " 'MRI_INFARR_NR:analysis.csv:10',\n",
       " 'MRI_INFARR_PB:analysis.csv:10',\n",
       " 'MRI_INFARR_WG:analysis.csv:10',\n",
       " 'MRI_NOTDONE:analysis.csv:10',\n",
       " 'MRI_PATTERN:analysis.csv:10',\n",
       " 'MRI_PATTERN_LC:analysis.csv:10',\n",
       " 'MRI_PATTERN_NR:analysis.csv:10',\n",
       " 'MRI_PATTERN_PB:analysis.csv:10',\n",
       " 'MRI_PATTERN_WG:analysis.csv:10',\n",
       " 'MRI_PCLASS:analysis.csv:10',\n",
       " 'MRI_PCLASS_LC:analysis.csv:10',\n",
       " 'MRI_PCLASS_NR:analysis.csv:10',\n",
       " 'MRI_PCLASS_PB:analysis.csv:10',\n",
       " 'MRI_PCLASS_WG:analysis.csv:10',\n",
       " 'MRI_RDATE_LC:analysis.csv:10',\n",
       " 'MRI_RDATE_NR:analysis.csv:10',\n",
       " 'MRI_RDATE_PB:analysis.csv:10',\n",
       " 'MRI_RDATE_WG:analysis.csv:10',\n",
       " 'MRI_TIME:analysis.csv:10',\n",
       " 'MRI_UNREAD:analysis.csv:10',\n",
       " 'any_antic:analysis.csv:10',\n",
       " 'any_seiz:analysis.csv:10',\n",
       " 'fcenter:analysis.csv:10',\n",
       " 'CMP_DATE:lf01.csv:0',\n",
       " 'CRT_DATE:lf01.csv:0',\n",
       " 'FIRST:lf01.csv:0',\n",
       " 'LAST:lf01.csv:0',\n",
       " 'PROTID02:lf01.csv:0',\n",
       " 'PROTID03:lf01.csv:0',\n",
       " 'PROTID04:lf01.csv:0',\n",
       " 'PROTID05:lf01.csv:0',\n",
       " 'PROTID06:lf01.csv:0',\n",
       " 'PROTID07:lf01.csv:0',\n",
       " 'PROTID08:lf01.csv:0',\n",
       " 'PROTID09:lf01.csv:0',\n",
       " 'PROTID10:lf01.csv:0',\n",
       " 'PROTID11:lf01.csv:0',\n",
       " 'PROTID12:lf01.csv:0',\n",
       " 'PROTID13:lf01.csv:0',\n",
       " 'PROTID14:lf01.csv:0',\n",
       " 'PROTID15:lf01.csv:0',\n",
       " 'PROTID16:lf01.csv:0',\n",
       " 'PROTID17:lf01.csv:0',\n",
       " 'PROTID18:lf01.csv:0',\n",
       " 'PROTID19:lf01.csv:0',\n",
       " 'PROTID20:lf01.csv:0',\n",
       " 'REC_CMP:lf01.csv:0',\n",
       " 'CFINITS:lf03.csv:1',\n",
       " 'CFPRRESP:lf03.csv:1',\n",
       " 'CMP_DATE:lf03.csv:1',\n",
       " 'CRT_DATE:lf03.csv:1',\n",
       " 'REC_CMP:lf03.csv:1',\n",
       " 'CMP_DATE:lf04.csv:2',\n",
       " 'CRT_DATE:lf04.csv:2',\n",
       " 'DFCOMPDT:lf04.csv:2',\n",
       " 'DFINITS:lf04.csv:2',\n",
       " 'DFPLACE:lf04.csv:2',\n",
       " 'NF4LOCSP:lf04.csv:2',\n",
       " 'REC_CMP:lf04.csv:2',\n",
       " 'CMP_DATE:lf04a.csv:3',\n",
       " 'CRT_DATE:lf04a.csv:3',\n",
       " 'DFINITSA:lf04a.csv:3',\n",
       " 'REC_CMP:lf04a.csv:3',\n",
       " 'CMP_DATE:lf04ar.csv:4',\n",
       " 'CRT_DATE:lf04ar.csv:4',\n",
       " 'REC_CMP:lf04ar.csv:4',\n",
       " 'CMP_DATE:lf05.csv:5',\n",
       " 'CRT_DATE:lf05.csv:5',\n",
       " 'EFINITS:lf05.csv:5',\n",
       " 'REC_CMP:lf05.csv:5',\n",
       " 'CMP_DATE:lf09a.csv:6',\n",
       " 'CRT_DATE:lf09a.csv:6',\n",
       " 'NF9AINIT:lf09a.csv:6',\n",
       " 'REC_CMP:lf09a.csv:6',\n",
       " 'CMP_DATE:lf10.csv:7',\n",
       " 'CRT_DATE:lf10.csv:7',\n",
       " 'JFCOMPDT:lf10.csv:7',\n",
       " 'JFINITS:lf10.csv:7',\n",
       " 'NF10CNTR:lf10.csv:7',\n",
       " 'REC_CMP:lf10.csv:7',\n",
       " 'CMP_DATE:lf11.csv:8',\n",
       " 'CRT_DATE:lf11.csv:8',\n",
       " 'KFBAYLE3:lf11.csv:8',\n",
       " 'KFCOMPDT:lf11.csv:8',\n",
       " 'KFINFEXM:lf11.csv:8',\n",
       " 'KFINITS:lf11.csv:8',\n",
       " 'KFLOSTFM:lf11.csv:8',\n",
       " 'KFMEDHIS:lf11.csv:8',\n",
       " 'KFREADM:lf11.csv:8',\n",
       " 'KFSES18:lf11.csv:8',\n",
       " 'KFSESDIS:lf11.csv:8',\n",
       " 'KFSTATFM:lf11.csv:8',\n",
       " 'REC_CMP:lf11.csv:8',\n",
       " 'CMP_DATE:lf12.csv:9',\n",
       " 'CRT_DATE:lf12.csv:9',\n",
       " 'LFINITA:lf12.csv:9',\n",
       " 'NF12INIT:lf12.csv:9',\n",
       " 'REC_CMP:lf12.csv:9',\n",
       " 'MRI_AGED:mrilh.csv:11',\n",
       " 'MRI_DATE:mrilh.csv:11',\n",
       " 'MRI_INFARL:mrilh.csv:11',\n",
       " 'MRI_INFARL_NR:mrilh.csv:11',\n",
       " 'MRI_INFARL_PB:mrilh.csv:11',\n",
       " 'MRI_INFARL_WG:mrilh.csv:11',\n",
       " 'MRI_INFARR:mrilh.csv:11',\n",
       " 'MRI_INFARR_NR:mrilh.csv:11',\n",
       " 'MRI_INFARR_PB:mrilh.csv:11',\n",
       " 'MRI_INFARR_WG:mrilh.csv:11',\n",
       " 'MRI_NOTDONE:mrilh.csv:11',\n",
       " 'MRI_PATTERN:mrilh.csv:11',\n",
       " 'MRI_PATTERN_LC:mrilh.csv:11',\n",
       " 'MRI_PATTERN_NR:mrilh.csv:11',\n",
       " 'MRI_PATTERN_PB:mrilh.csv:11',\n",
       " 'MRI_PATTERN_WG:mrilh.csv:11',\n",
       " 'MRI_PCLASS:mrilh.csv:11',\n",
       " 'MRI_PCLASS_LC:mrilh.csv:11',\n",
       " 'MRI_PCLASS_NR:mrilh.csv:11',\n",
       " 'MRI_PCLASS_PB:mrilh.csv:11',\n",
       " 'MRI_PCLASS_WG:mrilh.csv:11',\n",
       " 'MRI_RDATE_LC:mrilh.csv:11',\n",
       " 'MRI_RDATE_NR:mrilh.csv:11',\n",
       " 'MRI_RDATE_PB:mrilh.csv:11',\n",
       " 'MRI_RDATE_WG:mrilh.csv:11',\n",
       " 'MRI_TIME:mrilh.csv:11',\n",
       " 'MRI_UNREAD:mrilh.csv:11',\n",
       " 'any_antic:mrilh.csv:11',\n",
       " 'any_seiz:mrilh.csv:11',\n",
       " 'fcenter:mrilh.csv:11']"
      ]
     },
     "execution_count": 18,
     "metadata": {},
     "output_type": "execute_result"
    }
   ],
   "source": [
    "columns_not_in_dict = list(df_columns_not_in_dict['column:filename:idx'].unique())\n",
    "# columns_not_in_dict.sort()\n",
    "columns_not_in_dict"
   ]
  },
  {
   "cell_type": "markdown",
   "id": "74bae715-1eb7-4e36-a20b-20c317c967b0",
   "metadata": {},
   "source": [
    "#### dict not in column"
   ]
  },
  {
   "cell_type": "code",
   "execution_count": 19,
   "id": "f53e36c7-4215-45fa-adec-9e48aee861b5",
   "metadata": {
    "execution": {
     "iopub.execute_input": "2025-05-15T04:29:35.500304Z",
     "iopub.status.busy": "2025-05-15T04:29:35.500175Z",
     "iopub.status.idle": "2025-05-15T04:29:35.504132Z",
     "shell.execute_reply": "2025-05-15T04:29:35.503901Z"
    }
   },
   "outputs": [
    {
     "data": {
      "text/html": [
       "<div>\n",
       "<style scoped>\n",
       "    .dataframe tbody tr th:only-of-type {\n",
       "        vertical-align: middle;\n",
       "    }\n",
       "\n",
       "    .dataframe tbody tr th {\n",
       "        vertical-align: top;\n",
       "    }\n",
       "\n",
       "    .dataframe thead th {\n",
       "        text-align: right;\n",
       "    }\n",
       "</style>\n",
       "<table border=\"1\" class=\"dataframe\">\n",
       "  <thead>\n",
       "    <tr style=\"text-align: right;\">\n",
       "      <th></th>\n",
       "      <th>Category</th>\n",
       "      <th>Subcategory</th>\n",
       "      <th>Standardized_VariableNames_Dictionary</th>\n",
       "      <th>type</th>\n",
       "      <th>Variable_Description</th>\n",
       "      <th>#studies w/ this var</th>\n",
       "      <th>redcap</th>\n",
       "      <th>comment</th>\n",
       "      <th>lower_var</th>\n",
       "      <th>var_eq_redcap</th>\n",
       "      <th>connect_redcap</th>\n",
       "      <th>LH</th>\n",
       "      <th>OC</th>\n",
       "    </tr>\n",
       "  </thead>\n",
       "  <tbody>\n",
       "  </tbody>\n",
       "</table>\n",
       "</div>"
      ],
      "text/plain": [
       "Empty DataFrame\n",
       "Columns: [Category, Subcategory, Standardized_VariableNames_Dictionary, type, Variable_Description, #studies w/ this var, redcap, comment, lower_var, var_eq_redcap, connect_redcap, LH, OC]\n",
       "Index: []"
      ]
     },
     "execution_count": 19,
     "metadata": {},
     "output_type": "execute_result"
    }
   ],
   "source": [
    "is_dict_not_in_columns = (df_dict[study_name].isin(df_columns['column']) == False) & (df_dict[study_name].isnull() == False)\n",
    "df_dict_not_in_columns = df_dict[is_dict_not_in_columns]\n",
    "df_dict_not_in_columns"
   ]
  },
  {
   "cell_type": "markdown",
   "id": "9b7262be-225e-4f45-90a5-bf8b87620aeb",
   "metadata": {},
   "source": [
    "## 04. show column values"
   ]
  },
  {
   "cell_type": "code",
   "execution_count": 20,
   "id": "83e57049-3d45-4d4f-8b3b-7b304fae5f12",
   "metadata": {
    "execution": {
     "iopub.execute_input": "2025-05-15T04:29:35.505374Z",
     "iopub.status.busy": "2025-05-15T04:29:35.505293Z",
     "iopub.status.idle": "2025-05-15T04:29:35.507142Z",
     "shell.execute_reply": "2025-05-15T04:29:35.506910Z"
    }
   },
   "outputs": [
    {
     "data": {
      "text/plain": [
       "\"\\nfor idx, each_df in enumerate(dfs):\\n    for idx2, column in enumerate(each_df.columns):\\n        print(f'({idx}/{len(dfs)}/{filenames[idx]}) ({idx2}/{len(each_df.columns)} column: {column} value: {list(each_df[column].unique())}')\\n\""
      ]
     },
     "execution_count": 20,
     "metadata": {},
     "output_type": "execute_result"
    }
   ],
   "source": [
    "# XXX no show due to data privacy concern.\n",
    "\n",
    "'''\n",
    "for idx, each_df in enumerate(dfs):\n",
    "    for idx2, column in enumerate(each_df.columns):\n",
    "        print(f'({idx}/{len(dfs)}/{filenames[idx]}) ({idx2}/{len(each_df.columns)} column: {column} value: {list(each_df[column].unique())}')\n",
    "'''"
   ]
  },
  {
   "cell_type": "code",
   "execution_count": null,
   "id": "72f4a7f1",
   "metadata": {},
   "outputs": [],
   "source": []
  }
 ],
 "metadata": {
  "kernelspec": {
   "display_name": ".venv",
   "language": "python",
   "name": "python3"
  },
  "language_info": {
   "codemirror_mode": {
    "name": "ipython",
    "version": 3
   },
   "file_extension": ".py",
   "mimetype": "text/x-python",
   "name": "python",
   "nbconvert_exporter": "python",
   "pygments_lexer": "ipython3",
   "version": "3.13.2"
  }
 },
 "nbformat": 4,
 "nbformat_minor": 5
}
