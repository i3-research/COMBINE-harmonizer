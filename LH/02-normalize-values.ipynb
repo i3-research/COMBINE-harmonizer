{
 "cells": [
  {
   "cell_type": "code",
   "execution_count": 1,
   "id": "a1b89c2a-b1ac-4fdb-ac87-81d6a3c8d05f",
   "metadata": {
    "execution": {
     "iopub.execute_input": "2025-01-21T19:14:15.766490Z",
     "iopub.status.busy": "2025-01-21T19:14:15.766285Z",
     "iopub.status.idle": "2025-01-21T19:14:16.741460Z",
     "shell.execute_reply": "2025-01-21T19:14:16.741146Z"
    }
   },
   "outputs": [],
   "source": [
    "import pandas as pd\n",
    "pd.options.mode.copy_on_write = True\n",
    "import warnings\n",
    "warnings.simplefilter(action='ignore', category=pd.errors.PerformanceWarning)\n",
    "\n",
    "import os\n",
    "import re\n",
    "import pydoc\n",
    "\n",
    "import COMBINE_harmonizer\n",
    "from COMBINE_harmonizer import cfg"
   ]
  },
  {
   "cell_type": "markdown",
   "id": "0c8620ad",
   "metadata": {},
   "source": [
    "## 00-0. Variables"
   ]
  },
  {
   "cell_type": "code",
   "execution_count": 2,
   "id": "8d2ab326",
   "metadata": {
    "execution": {
     "iopub.execute_input": "2025-01-21T19:14:16.743055Z",
     "iopub.status.busy": "2025-01-21T19:14:16.742918Z",
     "iopub.status.idle": "2025-01-21T19:14:16.746337Z",
     "shell.execute_reply": "2025-01-21T19:14:16.746137Z"
    }
   },
   "outputs": [],
   "source": [
    "study_name = COMBINE_harmonizer.STUDY_LH\n",
    "sheet_name = COMBINE_harmonizer.SHEET_MAIN\n",
    "\n",
    "root_dir = '..'\n",
    "COMBINE_harmonizer.init(f'{root_dir}/config.yaml')\n"
   ]
  },
  {
   "cell_type": "code",
   "execution_count": 3,
   "id": "57b3dc7c-b96f-4c67-9158-da6eb4de1564",
   "metadata": {
    "execution": {
     "iopub.execute_input": "2025-01-21T19:14:16.747528Z",
     "iopub.status.busy": "2025-01-21T19:14:16.747447Z",
     "iopub.status.idle": "2025-01-21T19:14:16.761418Z",
     "shell.execute_reply": "2025-01-21T19:14:16.761195Z"
    }
   },
   "outputs": [],
   "source": [
    "input_dir = f\"{cfg.config['out_dir']}/out-{study_name}\"\n",
    "data_dict_filename = f\"{root_dir}/{COMBINE_harmonizer.DATA_DICTIONARY_EXCEL}\"\n",
    "out_dir = f\"{cfg.config['out_dir']}/out-{study_name}-normalized\"\n",
    "\n",
    "os.makedirs(out_dir, exist_ok=True)\n"
   ]
  },
  {
   "cell_type": "code",
   "execution_count": 4,
   "id": "47c09f9e-de55-4f9d-a8d8-0f64b4ac8b3e",
   "metadata": {
    "execution": {
     "iopub.execute_input": "2025-01-21T19:14:16.762547Z",
     "iopub.status.busy": "2025-01-21T19:14:16.762472Z",
     "iopub.status.idle": "2025-01-21T19:14:17.573465Z",
     "shell.execute_reply": "2025-01-21T19:14:17.573199Z"
    }
   },
   "outputs": [
    {
     "name": "stdout",
     "output_type": "stream",
     "text": [
      "[WARN] unable to float: val (3a/<class 'str'>) e: could not convert string to float: '3a'\n",
      "[WARN] unable to int: val (3a/<class 'str'>) e: could not convert string to float: '3a'\n",
      "[WARN] unable to float: val (3b/<class 'str'>) e: could not convert string to float: '3b'\n",
      "[WARN] unable to int: val (3b/<class 'str'>) e: could not convert string to float: '3b'\n",
      "[WARN] unable to float: val (1 Global/<class 'str'>) e: could not convert string to float: '1 Global'\n",
      "[WARN] unable to int: val (1 Global/<class 'str'>) e: could not convert string to float: '1 Global'\n",
      "[WARN] unable to float: val (2 Localized/<class 'str'>) e: could not convert string to float: '2 Localized'\n",
      "[WARN] unable to int: val (2 Localized/<class 'str'>) e: could not convert string to float: '2 Localized'\n",
      "[WARN] unable to float: val (1 Global/<class 'str'>) e: could not convert string to float: '1 Global'\n",
      "[WARN] unable to int: val (1 Global/<class 'str'>) e: could not convert string to float: '1 Global'\n",
      "[WARN] unable to float: val (2 Localized/<class 'str'>) e: could not convert string to float: '2 Localized'\n",
      "[WARN] unable to int: val (2 Localized/<class 'str'>) e: could not convert string to float: '2 Localized'\n",
      "[WARN] unable to float: val (MILD DIFFYSE HEMISPHERIC/<class 'str'>) e: could not convert string to float: 'MILD DIFFYSE HEMISPHERIC'\n",
      "[WARN] unable to int: val (MILD DIFFYSE HEMISPHERIC/<class 'str'>) e: could not convert string to float: 'MILD DIFFYSE HEMISPHERIC'\n",
      "[WARN] unable to float: val (DIFFUSE/<class 'str'>) e: could not convert string to float: 'DIFFUSE'\n",
      "[WARN] unable to int: val (DIFFUSE/<class 'str'>) e: could not convert string to float: 'DIFFUSE'\n",
      "[WARN] unable to float: val (LT HEMISPHERIC/<class 'str'>) e: could not convert string to float: 'LT HEMISPHERIC'\n",
      "[WARN] unable to int: val (LT HEMISPHERIC/<class 'str'>) e: could not convert string to float: 'LT HEMISPHERIC'\n",
      "[WARN] unable to float: val (1 None/<class 'str'>) e: could not convert string to float: '1 None'\n",
      "[WARN] unable to int: val (1 None/<class 'str'>) e: could not convert string to float: '1 None'\n",
      "[WARN] unable to float: val (1 Normal/<class 'str'>) e: could not convert string to float: '1 Normal'\n",
      "[WARN] unable to int: val (1 Normal/<class 'str'>) e: could not convert string to float: '1 Normal'\n",
      "[WARN] unable to float: val (1 Nominal/<class 'str'>) e: could not convert string to float: '1 Nominal'\n",
      "[WARN] unable to int: val (1 Nominal/<class 'str'>) e: could not convert string to float: '1 Nominal'\n",
      "[WARN] unable to float: val (2 Equivocal/<class 'str'>) e: could not convert string to float: '2 Equivocal'\n",
      "[WARN] unable to int: val (2 Equivocal/<class 'str'>) e: could not convert string to float: '2 Equivocal'\n",
      "[WARN] unable to float: val (2 Mild/<class 'str'>) e: could not convert string to float: '2 Mild'\n",
      "[WARN] unable to int: val (2 Mild/<class 'str'>) e: could not convert string to float: '2 Mild'\n",
      "[WARN] unable to float: val (2 Minimal/<class 'str'>) e: could not convert string to float: '2 Minimal'\n",
      "[WARN] unable to int: val (2 Minimal/<class 'str'>) e: could not convert string to float: '2 Minimal'\n",
      "[WARN] unable to float: val (3 Moderate/<class 'str'>) e: could not convert string to float: '3 Moderate'\n",
      "[WARN] unable to int: val (3 Moderate/<class 'str'>) e: could not convert string to float: '3 Moderate'\n",
      "[WARN] unable to float: val (4 Severe/<class 'str'>) e: could not convert string to float: '4 Severe'\n",
      "[WARN] unable to int: val (4 Severe/<class 'str'>) e: could not convert string to float: '4 Severe'\n",
      "[WARN] unable to float: val (1 Normal/<class 'str'>) e: could not convert string to float: '1 Normal'\n",
      "[WARN] unable to int: val (1 Normal/<class 'str'>) e: could not convert string to float: '1 Normal'\n",
      "[WARN] unable to float: val (2 Equivocal/<class 'str'>) e: could not convert string to float: '2 Equivocal'\n",
      "[WARN] unable to int: val (2 Equivocal/<class 'str'>) e: could not convert string to float: '2 Equivocal'\n",
      "[WARN] unable to float: val (3 Abnormal/<class 'str'>) e: could not convert string to float: '3 Abnormal'\n",
      "[WARN] unable to int: val (3 Abnormal/<class 'str'>) e: could not convert string to float: '3 Abnormal'\n",
      "[WARN] unable to float: val (1 Minimal/<class 'str'>) e: could not convert string to float: '1 Minimal'\n",
      "[WARN] unable to int: val (1 Minimal/<class 'str'>) e: could not convert string to float: '1 Minimal'\n",
      "[WARN] unable to float: val (2 Moderate/<class 'str'>) e: could not convert string to float: '2 Moderate'\n",
      "[WARN] unable to int: val (2 Moderate/<class 'str'>) e: could not convert string to float: '2 Moderate'\n",
      "[WARN] unable to float: val (3 Severe/<class 'str'>) e: could not convert string to float: '3 Severe'\n",
      "[WARN] unable to int: val (3 Severe/<class 'str'>) e: could not convert string to float: '3 Severe'\n",
      "[WARN] unable to float: val (1 0/<class 'str'>) e: could not convert string to float: '1 0'\n",
      "[WARN] unable to int: val (1 0/<class 'str'>) e: could not convert string to float: '1 0'\n",
      "[WARN] unable to float: val (2 1A/<class 'str'>) e: could not convert string to float: '2 1A'\n",
      "[WARN] unable to int: val (2 1A/<class 'str'>) e: could not convert string to float: '2 1A'\n",
      "[WARN] unable to float: val (3 1B/<class 'str'>) e: could not convert string to float: '3 1B'\n",
      "[WARN] unable to int: val (3 1B/<class 'str'>) e: could not convert string to float: '3 1B'\n",
      "[WARN] unable to float: val (4 2A/<class 'str'>) e: could not convert string to float: '4 2A'\n",
      "[WARN] unable to int: val (4 2A/<class 'str'>) e: could not convert string to float: '4 2A'\n",
      "[WARN] unable to float: val (5 2B/<class 'str'>) e: could not convert string to float: '5 2B'\n",
      "[WARN] unable to int: val (5 2B/<class 'str'>) e: could not convert string to float: '5 2B'\n",
      "[WARN] unable to float: val (6 3/<class 'str'>) e: could not convert string to float: '6 3'\n",
      "[WARN] unable to int: val (6 3/<class 'str'>) e: could not convert string to float: '6 3'\n",
      "[WARN] unable to float: val (BG Basal Ganglia/<class 'str'>) e: could not convert string to float: 'BG Basal Ganglia'\n",
      "[WARN] unable to int: val (BG Basal Ganglia/<class 'str'>) e: could not convert string to float: 'BG Basal Ganglia'\n",
      "[WARN] unable to float: val (BG/<class 'str'>) e: could not convert string to float: 'BG'\n",
      "[WARN] unable to int: val (BG/<class 'str'>) e: could not convert string to float: 'BG'\n",
      "[WARN] unable to float: val (T Thalamus/<class 'str'>) e: could not convert string to float: 'T Thalamus'\n",
      "[WARN] unable to int: val (T Thalamus/<class 'str'>) e: could not convert string to float: 'T Thalamus'\n",
      "[WARN] unable to float: val (T/<class 'str'>) e: could not convert string to float: 'T'\n",
      "[WARN] unable to int: val (T/<class 'str'>) e: could not convert string to float: 'T'\n",
      "[WARN] unable to float: val (PERI Perisylvian/<class 'str'>) e: could not convert string to float: 'PERI Perisylvian'\n",
      "[WARN] unable to int: val (PERI Perisylvian/<class 'str'>) e: could not convert string to float: 'PERI Perisylvian'\n",
      "[WARN] unable to float: val (PERI/<class 'str'>) e: could not convert string to float: 'PERI'\n",
      "[WARN] unable to int: val (PERI/<class 'str'>) e: could not convert string to float: 'PERI'\n",
      "[WARN] unable to float: val (CR Corona Radiata/<class 'str'>) e: could not convert string to float: 'CR Corona Radiata'\n",
      "[WARN] unable to int: val (CR Corona Radiata/<class 'str'>) e: could not convert string to float: 'CR Corona Radiata'\n",
      "[WARN] unable to float: val (CR/<class 'str'>) e: could not convert string to float: 'CR'\n",
      "[WARN] unable to int: val (CR/<class 'str'>) e: could not convert string to float: 'CR'\n",
      "[WARN] unable to float: val (PER Perirolandic/<class 'str'>) e: could not convert string to float: 'PER Perirolandic'\n",
      "[WARN] unable to int: val (PER Perirolandic/<class 'str'>) e: could not convert string to float: 'PER Perirolandic'\n",
      "[WARN] unable to float: val (PER/<class 'str'>) e: could not convert string to float: 'PER'\n",
      "[WARN] unable to int: val (PER/<class 'str'>) e: could not convert string to float: 'PER'\n",
      "[WARN] unable to float: val (FP Frontal-parietal/<class 'str'>) e: could not convert string to float: 'FP Frontal-parietal'\n",
      "[WARN] unable to int: val (FP Frontal-parietal/<class 'str'>) e: could not convert string to float: 'FP Frontal-parietal'\n",
      "[WARN] unable to float: val (FP/<class 'str'>) e: could not convert string to float: 'FP'\n",
      "[WARN] unable to int: val (FP/<class 'str'>) e: could not convert string to float: 'FP'\n",
      "[WARN] unable to float: val (PT Parietal-temporal/<class 'str'>) e: could not convert string to float: 'PT Parietal-temporal'\n",
      "[WARN] unable to int: val (PT Parietal-temporal/<class 'str'>) e: could not convert string to float: 'PT Parietal-temporal'\n",
      "[WARN] unable to float: val (PT/<class 'str'>) e: could not convert string to float: 'PT'\n",
      "[WARN] unable to int: val (PT/<class 'str'>) e: could not convert string to float: 'PT'\n",
      "[WARN] unable to float: val (PO Parietal-occipital/<class 'str'>) e: could not convert string to float: 'PO Parietal-occipital'\n",
      "[WARN] unable to int: val (PO Parietal-occipital/<class 'str'>) e: could not convert string to float: 'PO Parietal-occipital'\n",
      "[WARN] unable to float: val (PO/<class 'str'>) e: could not convert string to float: 'PO'\n",
      "[WARN] unable to int: val (PO/<class 'str'>) e: could not convert string to float: 'PO'\n",
      "[WARN] unable to float: val (TO Temporal-occipital/<class 'str'>) e: could not convert string to float: 'TO Temporal-occipital'\n",
      "[WARN] unable to int: val (TO Temporal-occipital/<class 'str'>) e: could not convert string to float: 'TO Temporal-occipital'\n",
      "[WARN] unable to float: val (TO/<class 'str'>) e: could not convert string to float: 'TO'\n",
      "[WARN] unable to int: val (TO/<class 'str'>) e: could not convert string to float: 'TO'\n",
      "[WARN] unable to float: val (BEL Cerebellar/<class 'str'>) e: could not convert string to float: 'BEL Cerebellar'\n",
      "[WARN] unable to int: val (BEL Cerebellar/<class 'str'>) e: could not convert string to float: 'BEL Cerebellar'\n",
      "[WARN] unable to float: val (BEL/<class 'str'>) e: could not convert string to float: 'BEL'\n",
      "[WARN] unable to int: val (BEL/<class 'str'>) e: could not convert string to float: 'BEL'\n",
      "[WARN] unable to float: val (VENT Intraventricular/<class 'str'>) e: could not convert string to float: 'VENT Intraventricular'\n",
      "[WARN] unable to int: val (VENT Intraventricular/<class 'str'>) e: could not convert string to float: 'VENT Intraventricular'\n",
      "[WARN] unable to float: val (VENT/<class 'str'>) e: could not convert string to float: 'VENT'\n",
      "[WARN] unable to int: val (VENT/<class 'str'>) e: could not convert string to float: 'VENT'\n",
      "[WARN] unable to float: val (TM Temporal/<class 'str'>) e: could not convert string to float: 'TM Temporal'\n",
      "[WARN] unable to int: val (TM Temporal/<class 'str'>) e: could not convert string to float: 'TM Temporal'\n",
      "[WARN] unable to float: val (TM/<class 'str'>) e: could not convert string to float: 'TM'\n",
      "[WARN] unable to int: val (TM/<class 'str'>) e: could not convert string to float: 'TM'\n",
      "[WARN] unable to float: val (O Occipital/<class 'str'>) e: could not convert string to float: 'O Occipital'\n",
      "[WARN] unable to int: val (O Occipital/<class 'str'>) e: could not convert string to float: 'O Occipital'\n",
      "[WARN] unable to float: val (O/<class 'str'>) e: could not convert string to float: 'O'\n",
      "[WARN] unable to int: val (O/<class 'str'>) e: could not convert string to float: 'O'\n",
      "[WARN] unable to float: val (INS Insular/<class 'str'>) e: could not convert string to float: 'INS Insular'\n",
      "[WARN] unable to int: val (INS Insular/<class 'str'>) e: could not convert string to float: 'INS Insular'\n",
      "[WARN] unable to float: val (INS/<class 'str'>) e: could not convert string to float: 'INS'\n",
      "[WARN] unable to int: val (INS/<class 'str'>) e: could not convert string to float: 'INS'\n",
      "[WARN] unable to float: val (F Frontal/<class 'str'>) e: could not convert string to float: 'F Frontal'\n",
      "[WARN] unable to int: val (F Frontal/<class 'str'>) e: could not convert string to float: 'F Frontal'\n",
      "[WARN] unable to float: val (F/<class 'str'>) e: could not convert string to float: 'F'\n",
      "[WARN] unable to int: val (F/<class 'str'>) e: could not convert string to float: 'F'\n",
      "[WARN] unable to float: val (CC Corpus Callosum/<class 'str'>) e: could not convert string to float: 'CC Corpus Callosum'\n",
      "[WARN] unable to int: val (CC Corpus Callosum/<class 'str'>) e: could not convert string to float: 'CC Corpus Callosum'\n",
      "[WARN] unable to float: val (CC/<class 'str'>) e: could not convert string to float: 'CC'\n",
      "[WARN] unable to int: val (CC/<class 'str'>) e: could not convert string to float: 'CC'\n",
      "[WARN] unable to float: val (BS Brainstem/<class 'str'>) e: could not convert string to float: 'BS Brainstem'\n",
      "[WARN] unable to int: val (BS Brainstem/<class 'str'>) e: could not convert string to float: 'BS Brainstem'\n",
      "[WARN] unable to float: val (BS/<class 'str'>) e: could not convert string to float: 'BS'\n",
      "[WARN] unable to int: val (BS/<class 'str'>) e: could not convert string to float: 'BS'\n",
      "[WARN] unable to float: val (HIP Hippocampus/<class 'str'>) e: could not convert string to float: 'HIP Hippocampus'\n",
      "[WARN] unable to int: val (HIP Hippocampus/<class 'str'>) e: could not convert string to float: 'HIP Hippocampus'\n",
      "[WARN] unable to float: val (HIP/<class 'str'>) e: could not convert string to float: 'HIP'\n",
      "[WARN] unable to int: val (HIP/<class 'str'>) e: could not convert string to float: 'HIP'\n",
      "[WARN] unable to float: val (PL PLIC/<class 'str'>) e: could not convert string to float: 'PL PLIC'\n",
      "[WARN] unable to int: val (PL PLIC/<class 'str'>) e: could not convert string to float: 'PL PLIC'\n",
      "[WARN] unable to float: val (PL/<class 'str'>) e: could not convert string to float: 'PL'\n",
      "[WARN] unable to int: val (PL/<class 'str'>) e: could not convert string to float: 'PL'\n",
      "[WARN] unable to float: val (EX Extra-Axial/<class 'str'>) e: could not convert string to float: 'EX Extra-Axial'\n",
      "[WARN] unable to int: val (EX Extra-Axial/<class 'str'>) e: could not convert string to float: 'EX Extra-Axial'\n",
      "[WARN] unable to float: val (EX/<class 'str'>) e: could not convert string to float: 'EX'\n",
      "[WARN] unable to int: val (EX/<class 'str'>) e: could not convert string to float: 'EX'\n",
      "[WARN] unable to float: val (S Scalp/<class 'str'>) e: could not convert string to float: 'S Scalp'\n",
      "[WARN] unable to int: val (S Scalp/<class 'str'>) e: could not convert string to float: 'S Scalp'\n",
      "[WARN] unable to float: val (S/<class 'str'>) e: could not convert string to float: 'S'\n",
      "[WARN] unable to int: val (S/<class 'str'>) e: could not convert string to float: 'S'\n",
      "[WARN] unable to float: val (PARA Parasagittal area/<class 'str'>) e: could not convert string to float: 'PARA Parasagittal area'\n",
      "[WARN] unable to int: val (PARA Parasagittal area/<class 'str'>) e: could not convert string to float: 'PARA Parasagittal area'\n",
      "[WARN] unable to float: val (PARA/<class 'str'>) e: could not convert string to float: 'PARA'\n",
      "[WARN] unable to int: val (PARA/<class 'str'>) e: could not convert string to float: 'PARA'\n",
      "[WARN] unable to float: val (P Parietal/<class 'str'>) e: could not convert string to float: 'P Parietal'\n",
      "[WARN] unable to int: val (P Parietal/<class 'str'>) e: could not convert string to float: 'P Parietal'\n",
      "[WARN] unable to float: val (P/<class 'str'>) e: could not convert string to float: 'P'\n",
      "[WARN] unable to int: val (P/<class 'str'>) e: could not convert string to float: 'P'\n",
      "[WARN] unable to float: val (C Cerebral/<class 'str'>) e: could not convert string to float: 'C Cerebral'\n",
      "[WARN] unable to int: val (C Cerebral/<class 'str'>) e: could not convert string to float: 'C Cerebral'\n",
      "[WARN] unable to float: val (C/<class 'str'>) e: could not convert string to float: 'C'\n",
      "[WARN] unable to int: val (C/<class 'str'>) e: could not convert string to float: 'C'\n",
      "[WARN] unable to float: val (1 Right only/<class 'str'>) e: could not convert string to float: '1 Right only'\n",
      "[WARN] unable to int: val (1 Right only/<class 'str'>) e: could not convert string to float: '1 Right only'\n",
      "[WARN] unable to float: val (2 Left only/<class 'str'>) e: could not convert string to float: '2 Left only'\n",
      "[WARN] unable to int: val (2 Left only/<class 'str'>) e: could not convert string to float: '2 Left only'\n",
      "[WARN] unable to float: val (3 Right greater than left/<class 'str'>) e: could not convert string to float: '3 Right greater than left'\n",
      "[WARN] unable to int: val (3 Right greater than left/<class 'str'>) e: could not convert string to float: '3 Right greater than left'\n",
      "[WARN] unable to float: val (4 Left greater than right/<class 'str'>) e: could not convert string to float: '4 Left greater than right'\n",
      "[WARN] unable to int: val (4 Left greater than right/<class 'str'>) e: could not convert string to float: '4 Left greater than right'\n",
      "[WARN] unable to float: val (5 Right and left, equally/<class 'str'>) e: could not convert string to float: '5 Right and left, equally'\n",
      "[WARN] unable to int: val (5 Right and left, equally/<class 'str'>) e: could not convert string to float: '5 Right and left, equally'\n",
      "[WARN] unable to float: val (1 Gray matter/<class 'str'>) e: could not convert string to float: '1 Gray matter'\n",
      "[WARN] unable to int: val (1 Gray matter/<class 'str'>) e: could not convert string to float: '1 Gray matter'\n",
      "[WARN] unable to float: val (2 White matter/<class 'str'>) e: could not convert string to float: '2 White matter'\n",
      "[WARN] unable to int: val (2 White matter/<class 'str'>) e: could not convert string to float: '2 White matter'\n",
      "[WARN] unable to float: val (3 Gray matter + White matter/<class 'str'>) e: could not convert string to float: '3 Gray matter + White matter'\n",
      "[WARN] unable to int: val (3 Gray matter + White matter/<class 'str'>) e: could not convert string to float: '3 Gray matter + White matter'\n",
      "[WARN] unable to float: val (1 Mild/<class 'str'>) e: could not convert string to float: '1 Mild'\n",
      "[WARN] unable to int: val (1 Mild/<class 'str'>) e: could not convert string to float: '1 Mild'\n",
      "[WARN] unable to float: val (2 Moderate/<class 'str'>) e: could not convert string to float: '2 Moderate'\n",
      "[WARN] unable to int: val (2 Moderate/<class 'str'>) e: could not convert string to float: '2 Moderate'\n",
      "[WARN] unable to float: val (3 Extensive/<class 'str'>) e: could not convert string to float: '3 Extensive'\n",
      "[WARN] unable to int: val (3 Extensive/<class 'str'>) e: could not convert string to float: '3 Extensive'\n",
      "[WARN] unable to float: val (1 Cystic/<class 'str'>) e: could not convert string to float: '1 Cystic'\n",
      "[WARN] unable to int: val (1 Cystic/<class 'str'>) e: could not convert string to float: '1 Cystic'\n",
      "[WARN] unable to float: val (2 Non-Cystic/<class 'str'>) e: could not convert string to float: '2 Non-Cystic'\n",
      "[WARN] unable to int: val (2 Non-Cystic/<class 'str'>) e: could not convert string to float: '2 Non-Cystic'\n",
      "[WARN] unable to float: val (3 Hemorrhage/<class 'str'>) e: could not convert string to float: '3 Hemorrhage'\n",
      "[WARN] unable to int: val (3 Hemorrhage/<class 'str'>) e: could not convert string to float: '3 Hemorrhage'\n",
      "[WARN] unable to float: val (4 Edema/<class 'str'>) e: could not convert string to float: '4 Edema'\n",
      "[WARN] unable to int: val (4 Edema/<class 'str'>) e: could not convert string to float: '4 Edema'\n",
      "[WARN] unable to float: val (5 Infarct/<class 'str'>) e: could not convert string to float: '5 Infarct'\n",
      "[WARN] unable to int: val (5 Infarct/<class 'str'>) e: could not convert string to float: '5 Infarct'\n",
      "[WARN] unable to float: val (6 Gliosis/<class 'str'>) e: could not convert string to float: '6 Gliosis'\n",
      "[WARN] unable to int: val (6 Gliosis/<class 'str'>) e: could not convert string to float: '6 Gliosis'\n",
      "[WARN] unable to float: val (N/<class 'str'>) e: could not convert string to float: 'N'\n",
      "[WARN] unable to int: val (N/<class 'str'>) e: could not convert string to float: 'N'\n",
      "[WARN] unable to float: val (Y/<class 'str'>) e: could not convert string to float: 'Y'\n",
      "[WARN] unable to int: val (Y/<class 'str'>) e: could not convert string to float: 'Y'\n",
      "[WARN] unable to float: val (Normal/<class 'str'>) e: could not convert string to float: 'Normal'\n",
      "[WARN] unable to int: val (Normal/<class 'str'>) e: could not convert string to float: 'Normal'\n",
      "[WARN] unable to float: val (Mild/<class 'str'>) e: could not convert string to float: 'Mild'\n",
      "[WARN] unable to int: val (Mild/<class 'str'>) e: could not convert string to float: 'Mild'\n",
      "[WARN] unable to float: val (Moderate/<class 'str'>) e: could not convert string to float: 'Moderate'\n",
      "[WARN] unable to int: val (Moderate/<class 'str'>) e: could not convert string to float: 'Moderate'\n",
      "[WARN] unable to float: val (Severe/<class 'str'>) e: could not convert string to float: 'Severe'\n",
      "[WARN] unable to int: val (Severe/<class 'str'>) e: could not convert string to float: 'Severe'\n",
      "[WARN] unable to float: val (PB/<class 'str'>) e: could not convert string to float: 'PB'\n",
      "[WARN] unable to int: val (PB/<class 'str'>) e: could not convert string to float: 'PB'\n",
      "[WARN] unable to float: val (NR/<class 'str'>) e: could not convert string to float: 'NR'\n",
      "[WARN] unable to int: val (NR/<class 'str'>) e: could not convert string to float: 'NR'\n"
     ]
    },
    {
     "name": "stdout",
     "output_type": "stream",
     "text": [
      "build_value_map: (0/979) variable: center type: center\n",
      "build_value_map: (1/979) variable: subjectID type: text\n",
      "build_value_map: (2/979) variable: siteID type: text\n",
      "build_value_map: (3/979) variable: birthDate type: date\n",
      "build_value_map: (4/979) variable: birthNumber type: int\n",
      "build_value_map: (5/979) variable: screenComment type: text\n",
      "build_value_map: (6/979) variable: coreTempLess32p5COverEq2Hr_e type: bool\n",
      "build_value_map: (7/979) variable: coreTempLess33p5COver1Hr_e type: bool\n",
      "build_value_map: (8/979) variable: coreTempLess34COver1Hr_e type: bool\n",
      "build_value_map: (9/979) variable: first6HrCoolByClinicalProtocol_e type: bool\n",
      "build_value_map: (10/979) variable: chromosomalAbnormality_e type: bool\n",
      "build_value_map: (11/979) variable: majorCongenitalAnomaly_e type: bool\n",
      "build_value_map: (12/979) variable: birthWeightLessEq1800g_e type: bool\n",
      "build_value_map: (13/979) variable: infantUnlikelySurvive_e type: bool\n",
      "build_value_map: (14/979) variable: first60MinAllBloodGasPHGreater7p15BaseDeficitLess10mEqPerL_e type: bool\n",
      "build_value_map: (15/979) variable: postnatalAgeLess6HrOrGreater24Hr_e type: bool\n",
      "build_value_map: (16/979) variable: enrolledConflictingTrial_e type: bool\n",
      "build_value_map: (17/979) variable: first60MinAnyBloodGasPHLessEq7_i type: bool\n",
      "build_value_map: (18/979) variable: first60MinAnyBloodGasBaseDeficitGreaterEq16mEqPerL_i type: bool\n",
      "build_value_map: (19/979) variable: historyPerinatalEvent_i type: bool\n",
      "build_value_map: (20/979) variable: at10MinApgarLessEq5OrVent_i type: bool\n",
      "build_value_map: (21/979) variable: randomEligible type: bool\n",
      "build_value_map: (22/979) variable: consentStatus type: consentStatus\n",
      "build_value_map: (23/979) variable: noConsentReason type: text\n",
      "build_value_map: (24/979) variable: noInStudyReason type: text\n",
      "build_value_map: (25/979) variable: random type: bool\n",
      "build_value_map: (26/979) variable: noRandomReason type: text\n",
      "build_value_map: (27/979) variable: noRandomReasonText type: text\n",
      "build_value_map: (28/979) variable: randomDate type: date\n",
      "build_value_map: (29/979) variable: randomTime type: time\n",
      "build_value_map: (30/979) variable: randomNumber type: text\n",
      "build_value_map: (31/979) variable: randomTreatmentAssign type: treatmentAssign\n",
      "build_value_map: (32/979) variable: randomTreatmentReceive type: bool\n",
      "build_value_map: (33/979) variable: treatmentBlanketType type: blanketType\n",
      "build_value_map: (34/979) variable: inOtherTrial type: bool\n",
      "build_value_map: (35/979) variable: inOtherTrialText type: text\n",
      "build_value_map: (36/979) variable: motherAge_year type: int\n",
      "build_value_map: (37/979) variable: motherRace type: race\n",
      "build_value_map: (38/979) variable: motherRaceOther1 type: race\n",
      "build_value_map: (39/979) variable: motherRaceOther2 type: race\n",
      "build_value_map: (40/979) variable: motherRaceOther3 type: race\n",
      "build_value_map: (41/979) variable: motherRaceOther4 type: race\n",
      "build_value_map: (42/979) variable: motherRaceOther5 type: race\n",
      "build_value_map: (43/979) variable: motherRaceOther6 type: race\n",
      "build_value_map: (44/979) variable: motherEthnicity type: ethnicity\n",
      "build_value_map: (45/979) variable: motherMaritalStatus type: maritalStatus\n",
      "build_value_map: (46/979) variable: motherEducation type: education\n",
      "build_value_map: (47/979) variable: motherInsurance type: insurance\n",
      "build_value_map: (48/979) variable: gravida type: int\n",
      "build_value_map: (49/979) variable: parity type: int\n",
      "build_value_map: (50/979) variable: multipleBirth type: bool\n",
      "build_value_map: (51/979) variable: numFetus type: int\n",
      "build_value_map: (52/979) variable: prenatalCare type: bool\n",
      "build_value_map: (53/979) variable: hypertensionEclampsia type: bool\n",
      "build_value_map: (54/979) variable: antepartumHemorrhage type: bool\n",
      "build_value_map: (55/979) variable: thyroidMalfunction type: bool\n",
      "build_value_map: (56/979) variable: diabetes type: bool\n",
      "build_value_map: (57/979) variable: maternalAdmissionDate type: date\n",
      "build_value_map: (58/979) variable: maternalAdmissionTime type: time\n",
      "build_value_map: (59/979) variable: ruptureDate type: date\n",
      "build_value_map: (60/979) variable: ruptureTime type: time\n",
      "build_value_map: (61/979) variable: ruptureOver18Hr type: bool\n",
      "build_value_map: (62/979) variable: ruptureBeforeDelivery type: bool\n",
      "build_value_map: (63/979) variable: labor type: bool\n",
      "build_value_map: (64/979) variable: laborOnsetDate type: date\n",
      "build_value_map: (65/979) variable: laborOnsetTime type: time\n",
      "build_value_map: (66/979) variable: deliveryMode type: deliveryMode\n",
      "build_value_map: (67/979) variable: fetalDecelerate type: bool\n",
      "build_value_map: (68/979) variable: cordMishap type: bool\n",
      "build_value_map: (69/979) variable: uterineRupture type: bool\n",
      "build_value_map: (70/979) variable: shoulderDystocia type: bool\n",
      "build_value_map: (71/979) variable: placentalProblem type: bool\n",
      "build_value_map: (72/979) variable: maternalHemorrhage type: bool\n",
      "build_value_map: (73/979) variable: maternalTrauma type: bool\n",
      "build_value_map: (74/979) variable: maternalCardioRespiratoryArrest type: bool\n",
      "build_value_map: (75/979) variable: maternalSeizure type: bool\n",
      "build_value_map: (76/979) variable: pyrexiaOver37p6C type: bool\n",
      "build_value_map: (77/979) variable: chorioamnionitis type: bool\n",
      "build_value_map: (78/979) variable: placentalPathologyPerformed type: bool\n",
      "build_value_map: (79/979) variable: histologicChorioamionitis type: bool\n",
      "build_value_map: (80/979) variable: laborAntibiotics type: bool\n",
      "build_value_map: (81/979) variable: laborAntibioticsCode1 type: antibiotics\n",
      "build_value_map: (82/979) variable: laborAntibioticsCode2 type: antibiotics\n",
      "build_value_map: (83/979) variable: laborAntibioticsCode3 type: antibiotics\n",
      "build_value_map: (84/979) variable: laborAntibioticsCode4 type: antibiotics\n",
      "build_value_map: (85/979) variable: laborAntibioticsCode5 type: antibiotics\n",
      "build_value_map: (86/979) variable: laborAntibioticsCode6 type: antibiotics\n",
      "build_value_map: (87/979) variable: encephalopathyLevel type: encephalopathyLevel\n",
      "build_value_map: (88/979) variable: randomInfantAge type: infantAge\n",
      "build_value_map: (89/979) variable: birthDate type: date\n",
      "build_value_map: (90/979) variable: birthTime type: time\n",
      "build_value_map: (91/979) variable: birthWeight_g type: float\n",
      "build_value_map: (92/979) variable: birthLength_cm type: float\n",
      "build_value_map: (93/979) variable: birthHeadCircumference_cm type: float\n",
      "build_value_map: (94/979) variable: birthGestationalAge_week type: int\n",
      "build_value_map: (95/979) variable: infantSex type: infantSex\n",
      "build_value_map: (96/979) variable: infantOutborn type: bool\n",
      "build_value_map: (97/979) variable: outbornInHospital type: bool\n",
      "build_value_map: (98/979) variable: outbornOutHospital type: bool\n",
      "build_value_map: (99/979) variable: neonateAdmissionDate type: date\n",
      "build_value_map: (100/979) variable: neonateAdmissionTime type: time\n",
      "build_value_map: (101/979) variable: Apgar1min type: int\n",
      "build_value_map: (102/979) variable: Apgar5min type: int\n",
      "build_value_map: (103/979) variable: Apgar10min type: int\n",
      "build_value_map: (104/979) variable: Apgar15min type: int\n",
      "build_value_map: (105/979) variable: Apgar20min type: int\n",
      "build_value_map: (106/979) variable: deliveryResuscitation type: bool\n",
      "build_value_map: (107/979) variable: deliveryOxygen type: bool\n",
      "build_value_map: (108/979) variable: deliveryBaggingAndMask type: bool\n",
      "build_value_map: (109/979) variable: deliveryChestCompression type: bool\n",
      "build_value_map: (110/979) variable: deliveryIntubation type: bool\n",
      "build_value_map: (111/979) variable: deliveryDrug type: bool\n",
      "build_value_map: (112/979) variable: at10MinContinueResuscitation type: bool\n",
      "build_value_map: (113/979) variable: at10MinOxygen type: bool\n",
      "build_value_map: (114/979) variable: at10MinBaggingAndMask type: bool\n",
      "build_value_map: (115/979) variable: at10MinChestCompression type: bool\n",
      "build_value_map: (116/979) variable: at10MinIntubation type: bool\n",
      "build_value_map: (117/979) variable: at10MinDrug type: bool\n",
      "build_value_map: (118/979) variable: spontaneousRespirationTime type: spontaneousRespirationTime\n",
      "build_value_map: (119/979) variable: cordBloodGas type: bool\n",
      "build_value_map: (120/979) variable: cordBloodGasSrc type: cordBloodGasSrc\n",
      "build_value_map: (121/979) variable: cordBloodGasPH type: float\n",
      "build_value_map: (122/979) variable: cordBloodGasPCO2_mmHg type: float\n",
      "build_value_map: (123/979) variable: cordBloodGasPO2_mmHg type: float\n",
      "build_value_map: (124/979) variable: cordBloodGasHCO3_mEqPerL type: float\n",
      "build_value_map: (125/979) variable: cordBloodGasBaseDeficit_mEqPerL type: float\n",
      "build_value_map: (126/979) variable: firstPostnatalBloodGas type: bool\n",
      "build_value_map: (127/979) variable: firstPostnatalBloodGasSrc type: bloodGasSrc\n",
      "build_value_map: (128/979) variable: firstPostnatalBloodGasDate type: date\n",
      "build_value_map: (129/979) variable: firstPostnatalBloodGasTime type: time\n",
      "build_value_map: (130/979) variable: firstPostnatalBloodGasPH type: float\n",
      "build_value_map: (131/979) variable: firstPostnatalBloodGasPCO2_mmHg type: float\n",
      "build_value_map: (132/979) variable: firstPostnatalBloodGasPO2_mmHg type: float\n",
      "build_value_map: (133/979) variable: firstPostnatalBloodGasHCO3_mEqPerL type: float\n",
      "build_value_map: (134/979) variable: firstPostnatalBloodGasBaseDeficit_mEqPerL type: float\n",
      "build_value_map: (135/979) variable: targetTreatmentTemperature_C type: targetTreatmentTemperature\n",
      "build_value_map: (136/979) variable: pre_CoolInitiate type: bool\n",
      "build_value_map: (137/979) variable: pre_CoolbyIceGelPack type: bool\n",
      "build_value_map: (138/979) variable: pre_CoolPassively type: bool\n",
      "build_value_map: (139/979) variable: pre_CoolClinically type: bool\n",
      "build_value_map: (140/979) variable: pre_CoolInitiateDate type: date\n",
      "build_value_map: (141/979) variable: pre_CoolInitiateTime type: time\n",
      "build_value_map: (142/979) variable: pre_AfterOvershootReach33p5C type: bool\n",
      "build_value_map: (143/979) variable: pre_AfterOvershootReach33p5CDate type: date\n",
      "build_value_map: (144/979) variable: pre_AfterOvershootReach33p5CTime type: time\n",
      "build_value_map: (145/979) variable: pre_TemperatureMinDate type: date\n",
      "build_value_map: (146/979) variable: pre_TemperatureMinTime type: time\n",
      "build_value_map: (147/979) variable: pre_SkinTemperatureMin_C type: float\n",
      "build_value_map: (148/979) variable: pre_AxillaryTemperatureMin_C type: float\n",
      "build_value_map: (149/979) variable: pre_EsophagealTemperatureMin_C type: float\n",
      "build_value_map: (150/979) variable: pre_ServoSetMin_C type: float\n",
      "build_value_map: (151/979) variable: pre_TemperatureMaxDate type: date\n",
      "build_value_map: (152/979) variable: pre_TemperatureMaxTime type: time\n",
      "build_value_map: (153/979) variable: pre_SkinTemperatureMax_C type: float\n",
      "build_value_map: (154/979) variable: pre_AxillaryTemperatureMax_C type: float\n",
      "build_value_map: (155/979) variable: pre_EsophagealTemperatureMax_C type: float\n",
      "build_value_map: (156/979) variable: pre_ServoSetMax_C type: float\n",
      "build_value_map: (157/979) variable: pre_CardioDate type: date\n",
      "build_value_map: (158/979) variable: pre_CardioTime type: time\n",
      "build_value_map: (159/979) variable: pre_CardioSystolicBloodPressure_mmHg type: float\n",
      "build_value_map: (160/979) variable: pre_CardioDiastolicBloodPressure_mmHg type: float\n",
      "build_value_map: (161/979) variable: pre_CardioHeartRate_BPM type: float\n",
      "build_value_map: (162/979) variable: pre_CardioVolumeExpand type: bool\n",
      "build_value_map: (163/979) variable: pre_CardioInotropicAgent type: bool\n",
      "build_value_map: (164/979) variable: pre_CardioBloodTransfusion type: bool\n",
      "build_value_map: (165/979) variable: pre_CardioPlatelets type: bool\n",
      "build_value_map: (166/979) variable: pre_RespiratoryDate type: date\n",
      "build_value_map: (167/979) variable: pre_RespiratoryTime type: time\n",
      "build_value_map: (168/979) variable: pre_RespiratorySupportType type: respiratorySupportType\n",
      "build_value_map: (169/979) variable: pre_RespiratoryFiO2 type: float\n",
      "build_value_map: (170/979) variable: pre_RespiratoryRate_Hz type: float\n",
      "build_value_map: (171/979) variable: pre_RespiratoryPIP_cmH2O type: float\n",
      "build_value_map: (172/979) variable: pre_RespiratoryMAP_cmH2O type: float\n",
      "build_value_map: (173/979) variable: pre_RespiratoryPEEP_cmH2O type: float\n",
      "build_value_map: (174/979) variable: pre_BloodGasDate type: date\n",
      "build_value_map: (175/979) variable: pre_BloodGasTime type: time\n",
      "build_value_map: (176/979) variable: pre_BloodGasSrc type: bloodGasSrc\n",
      "build_value_map: (177/979) variable: pre_BloodGasPH type: float\n",
      "build_value_map: (178/979) variable: pre_BloodGasPCO2_mmHg type: float\n",
      "build_value_map: (179/979) variable: pre_BloodGasPO2_mmHg type: float\n",
      "build_value_map: (180/979) variable: pre_BloodGasHCO3_mEqPerL type: float\n",
      "build_value_map: (181/979) variable: pre_BloodGasBaseDeficit_mEqPerL type: float\n",
      "build_value_map: (182/979) variable: pre_BloodGasPHCorrect type: float\n",
      "build_value_map: (183/979) variable: pre_BloodGasPCO2Correct_mmHg type: float\n",
      "build_value_map: (184/979) variable: pre_BloodGasPO2Correct_mmHg type: float\n",
      "build_value_map: (185/979) variable: pre_BloodGasHCO3Correct_mEqPerL type: float\n",
      "build_value_map: (186/979) variable: pre_BloodGasBaseDeficitCorrect_mEqPerL type: float\n",
      "build_value_map: (187/979) variable: pre_Hematology type: bool\n",
      "build_value_map: (188/979) variable: pre_HematologyDate type: date\n",
      "build_value_map: (189/979) variable: pre_HematologyTime type: time\n",
      "build_value_map: (190/979) variable: pre_HematologyWBC type: float\n",
      "build_value_map: (191/979) variable: pre_HematologyHemoglobin type: float\n",
      "build_value_map: (192/979) variable: pre_HematologyPolymorphNeutrophilsDifferentialCount type: float\n",
      "build_value_map: (193/979) variable: pre_HematologyMonocytes type: float\n",
      "build_value_map: (194/979) variable: pre_HematologyLymphocytes type: float\n",
      "build_value_map: (195/979) variable: pre_HematologyPlateletCount type: float\n",
      "build_value_map: (196/979) variable: pre_HematologyPT_s type: float\n",
      "build_value_map: (197/979) variable: pre_HematologyPTT_s type: float\n",
      "build_value_map: (198/979) variable: pre_PositiveCulture type: bool\n",
      "build_value_map: (199/979) variable: pre_PositiveCultureSrc type: positiveCultureSrc\n",
      "build_value_map: (200/979) variable: pre_PositiveCultureDate type: date\n",
      "build_value_map: (201/979) variable: pre_PositiveCultureTime type: time\n",
      "build_value_map: (202/979) variable: pre_PositiveCultureOrganismCode1 type: positiveCultureOrganism\n",
      "build_value_map: (203/979) variable: pre_PositiveCultureOrganismCode2 type: positiveCultureOrganism\n",
      "build_value_map: (204/979) variable: pre_PositiveCultureOrganismCode3 type: positiveCultureOrganism\n",
      "build_value_map: (205/979) variable: pre_Antibiotics type: bool\n",
      "build_value_map: (206/979) variable: pre_AntibioticsCode1 type: antibiotics\n",
      "build_value_map: (207/979) variable: pre_AntibioticsCode2 type: antibiotics\n",
      "build_value_map: (208/979) variable: pre_AntibioticsCode3 type: antibiotics\n",
      "build_value_map: (209/979) variable: pre_OtherMedTargetDate type: date\n",
      "build_value_map: (210/979) variable: pre_OtherMedTargetTime type: time\n",
      "build_value_map: (211/979) variable: pre_Anticonvulsants type: anticonvulsants\n",
      "build_value_map: (212/979) variable: pre_Anticonvulsants1 type: anticonvulsants\n",
      "build_value_map: (213/979) variable: pre_Anticonvulsants2 type: anticonvulsants\n",
      "build_value_map: (214/979) variable: pre_Anticonvulsants3 type: anticonvulsants\n",
      "build_value_map: (215/979) variable: pre_Analgesics type: analgesics\n",
      "build_value_map: (216/979) variable: pre_AnalgesicsSedatives1 type: analgesics\n",
      "build_value_map: (217/979) variable: pre_AnalgesicsSedatives2 type: analgesics\n",
      "build_value_map: (218/979) variable: pre_AnalgesicsSedatives3 type: analgesics\n",
      "build_value_map: (219/979) variable: pre_Antipyretics type: antipyretics\n",
      "build_value_map: (220/979) variable: pre_Antipyretics1 type: antipyretics\n",
      "build_value_map: (221/979) variable: pre_Antipyretics2 type: antipyretics\n",
      "build_value_map: (222/979) variable: pre_Antipyretics3 type: antipyretics\n",
      "build_value_map: (223/979) variable: pre_Paralytics type: paralytics\n",
      "build_value_map: (224/979) variable: pre_Paralytics1 type: paralytics\n",
      "build_value_map: (225/979) variable: pre_Paralytics2 type: paralytics\n",
      "build_value_map: (226/979) variable: pre_Paralytics3 type: paralytics\n",
      "build_value_map: (227/979) variable: pre_OtherMedFluidIntake_ccPerKg type: float\n",
      "build_value_map: (228/979) variable: pre_OtherMedUrineOutput_ccPerKg type: float\n",
      "build_value_map: (229/979) variable: pre_HeadSonogram type: bool\n",
      "build_value_map: (230/979) variable: pre_HeadSonogramDate type: date\n",
      "build_value_map: (231/979) variable: pre_HeadSonogramTime type: time\n",
      "build_value_map: (232/979) variable: pre_HeadSonogramResult1 type: imaging\n",
      "build_value_map: (233/979) variable: pre_HeadSonogramResult2 type: imaging\n",
      "build_value_map: (234/979) variable: pre_HeadSonogramResult3 type: imaging\n",
      "build_value_map: (235/979) variable: pre_HeadSonogramResult4 type: imaging\n",
      "build_value_map: (236/979) variable: pre_HeadSonogramResult5 type: imaging\n",
      "build_value_map: (237/979) variable: pre_HeadSonogramResult6 type: imaging\n",
      "build_value_map: (238/979) variable: pre_HeadSonogramResult7 type: imaging\n",
      "build_value_map: (239/979) variable: pre_HeadSonogramResult8 type: imaging\n",
      "build_value_map: (240/979) variable: pre_HeadSonogramResultText type: text\n",
      "build_value_map: (241/979) variable: pre_HeadCT type: bool\n",
      "build_value_map: (242/979) variable: pre_HeadCTDate type: date\n",
      "build_value_map: (243/979) variable: pre_HeadCTTime type: time\n",
      "build_value_map: (244/979) variable: pre_HeadCTResult1 type: imaging\n",
      "build_value_map: (245/979) variable: pre_HeadCTResult2 type: imaging\n",
      "build_value_map: (246/979) variable: pre_HeadCTResult3 type: imaging\n",
      "build_value_map: (247/979) variable: pre_HeadCTResult4 type: imaging\n",
      "build_value_map: (248/979) variable: pre_HeadCTResult5 type: imaging\n",
      "build_value_map: (249/979) variable: pre_HeadCTResult6 type: imaging\n",
      "build_value_map: (250/979) variable: pre_HeadCTResult7 type: imaging\n",
      "build_value_map: (251/979) variable: pre_HeadCTResult8 type: imaging\n",
      "build_value_map: (252/979) variable: pre_HeadCTResultText type: text\n",
      "build_value_map: (253/979) variable: pre_BrainMRI type: bool\n",
      "build_value_map: (254/979) variable: pre_BrainMRIDate type: date\n",
      "build_value_map: (255/979) variable: pre_BrainMRITime type: time\n",
      "build_value_map: (256/979) variable: pre_BrainMRIResult1 type: imaging\n",
      "build_value_map: (257/979) variable: pre_BrainMRIResult2 type: imaging\n",
      "build_value_map: (258/979) variable: pre_BrainMRIResult3 type: imaging\n",
      "build_value_map: (259/979) variable: pre_BrainMRIResult4 type: imaging\n",
      "build_value_map: (260/979) variable: pre_BrainMRIResult5 type: imaging\n",
      "build_value_map: (261/979) variable: pre_BrainMRIResult6 type: imaging\n",
      "build_value_map: (262/979) variable: pre_BrainMRIResult7 type: imaging\n",
      "build_value_map: (263/979) variable: pre_BrainMRIResult8 type: imaging\n",
      "build_value_map: (264/979) variable: pre_BrainMRIResultText type: text\n",
      "build_value_map: (265/979) variable: pre_NeuroExam type: bool\n",
      "build_value_map: (266/979) variable: pre_NoNeuroExamReason type: noNeuroExamReason\n",
      "build_value_map: (267/979) variable: pre_NeuroExamSignModerateSevereHIE3Category type: bool\n",
      "build_value_map: (268/979) variable: pre_NeuroExamLevelConsciousness type: signOfHIELvlOfCons\n",
      "build_value_map: (269/979) variable: pre_NeuroExamSpontaneousActivity type: signOfHIESpontaneousActivity\n",
      "build_value_map: (270/979) variable: pre_NeuroExamPosture type: signOfHIEPosture\n",
      "build_value_map: (271/979) variable: pre_NeuroExamTone type: signOfHIETone\n",
      "build_value_map: (272/979) variable: pre_NeuroExamSuck type: signOfHIESuck\n",
      "build_value_map: (273/979) variable: pre_NeuroExamMoro type: signOfHIEMoro\n",
      "build_value_map: (274/979) variable: pre_NeuroExamPupils type: signOfHIEPupils\n",
      "build_value_map: (275/979) variable: pre_NeuroExamHeartRate type: signOfHIEHeartRate\n",
      "build_value_map: (276/979) variable: pre_NeuroExamRespiration type: signOfHIERespiratory\n",
      "build_value_map: (277/979) variable: pre_NeuroExamDate type: date\n",
      "build_value_map: (278/979) variable: pre_NeuroExamTime type: time\n",
      "build_value_map: (279/979) variable: pre_NeuroExamSedate type: bool\n",
      "build_value_map: (280/979) variable: pre_NeuroExamSeizure type: bool\n",
      "build_value_map: (281/979) variable: temperatureTimeSlot type: int\n",
      "build_value_map: (282/979) variable: temperatureTimeSlotNoForm type: bool\n",
      "build_value_map: (283/979) variable: temperatureDate type: date\n",
      "build_value_map: (284/979) variable: temperatureTime type: time\n",
      "build_value_map: (285/979) variable: skinTemperature_C type: float\n",
      "build_value_map: (286/979) variable: axillaryTemperature_C type: float\n",
      "build_value_map: (287/979) variable: esophagealTemperature_C type: float\n",
      "build_value_map: (288/979) variable: blanketTemperature_C type: float\n",
      "build_value_map: (289/979) variable: servoSetTemperature_C type: float\n",
      "build_value_map: (290/979) variable: alterationSkinIntegrity type: bool\n",
      "build_value_map: (291/979) variable: shiver type: bool\n",
      "build_value_map: (292/979) variable: cardioTimeSlot type: int\n",
      "build_value_map: (293/979) variable: cardioDate type: date\n",
      "build_value_map: (294/979) variable: cardioTime type: time\n",
      "build_value_map: (295/979) variable: cardioSystolicBloodPressure_mmHg type: float\n",
      "build_value_map: (296/979) variable: cardioDiastolicBloodPressure_mmHg type: float\n",
      "build_value_map: (297/979) variable: cardioHeartRate_BPM type: float\n",
      "build_value_map: (298/979) variable: cardioVolumeExpand type: bool\n",
      "build_value_map: (299/979) variable: cardioInotropicAgent type: bool\n",
      "build_value_map: (300/979) variable: cardioBloodTransfusion type: bool\n",
      "build_value_map: (301/979) variable: cardioPlatelets type: bool\n",
      "build_value_map: (302/979) variable: respiratoryTimeSlot type: int\n",
      "build_value_map: (303/979) variable: respiratoryDate type: date\n",
      "build_value_map: (304/979) variable: respiratoryTime type: time\n",
      "build_value_map: (305/979) variable: respiratorySupportType type: respiratorySupportType\n",
      "build_value_map: (306/979) variable: respiratoryFiO2 type: float\n",
      "build_value_map: (307/979) variable: respiratoryRate_Hz type: float\n",
      "build_value_map: (308/979) variable: respiratoryPIP_cmH2O type: float\n",
      "build_value_map: (309/979) variable: respiratoryMAP_cmH2O type: float\n",
      "build_value_map: (310/979) variable: respiratoryPEEP_cmH2O type: float\n",
      "build_value_map: (311/979) variable: bloodGasTimeSlot type: int\n",
      "build_value_map: (312/979) variable: bloodGasDate type: date\n",
      "build_value_map: (313/979) variable: bloodGasTime type: time\n",
      "build_value_map: (314/979) variable: bloodGasSrc type: bloodGasSrc\n",
      "build_value_map: (315/979) variable: bloodGasPH type: float\n",
      "build_value_map: (316/979) variable: bloodGasPCO2_mmHg type: float\n",
      "build_value_map: (317/979) variable: bloodGasPO2_mmHg type: float\n",
      "build_value_map: (318/979) variable: bloodGasHCO3_mEqPerL type: float\n",
      "build_value_map: (319/979) variable: bloodGasBaseDeficit_mEqPerL type: float\n",
      "build_value_map: (320/979) variable: bloodGasPHCorrect type: float\n",
      "build_value_map: (321/979) variable: bloodGasPCO2Correct_mmHg type: float\n",
      "build_value_map: (322/979) variable: bloodGasPO2Correct_mmHg type: float\n",
      "build_value_map: (323/979) variable: bloodGasHCO3Correct_mEqPerL type: float\n",
      "build_value_map: (324/979) variable: bloodGasBaseDeficitCorrect_mEqPerL type: float\n",
      "build_value_map: (325/979) variable: hematology type: bool\n",
      "build_value_map: (326/979) variable: hematologyTimeSlot type: int\n",
      "build_value_map: (327/979) variable: hematologyDate type: date\n",
      "build_value_map: (328/979) variable: hematologyTime type: time\n",
      "build_value_map: (329/979) variable: hematologyWBC type: float\n",
      "build_value_map: (330/979) variable: hematologyHemoglobin type: float\n",
      "build_value_map: (331/979) variable: hematologyPolymorphNeutrophilsDifferentialCount type: float\n",
      "build_value_map: (332/979) variable: hematologyMonocytes type: float\n",
      "build_value_map: (333/979) variable: hematologyLymphocytes type: float\n",
      "build_value_map: (334/979) variable: hematologyPlateletCount type: float\n",
      "build_value_map: (335/979) variable: hematologyPT_s type: float\n",
      "build_value_map: (336/979) variable: hematologyPTT_s type: float\n",
      "build_value_map: (337/979) variable: hematologyHematocritMin type: float\n",
      "build_value_map: (338/979) variable: hematologyHematocritMinDate type: date\n",
      "build_value_map: (339/979) variable: hematologyPlateletCountMin type: float\n",
      "build_value_map: (340/979) variable: hematologyPlateletCountMinDate type: date\n",
      "build_value_map: (341/979) variable: bloodValueBunBaseline_mgPerdL type: float\n",
      "build_value_map: (342/979) variable: bloodValueBunBaseline_mgPerdLDate type: date\n",
      "build_value_map: (343/979) variable: bloodValueCreatinineBaseline_mgPerdL type: float\n",
      "build_value_map: (344/979) variable: bloodValueCreatinineBaseline_mgPerdLDate type: date\n",
      "build_value_map: (345/979) variable: bloodValueASTSGOTBaseline_UPerL type: float\n",
      "build_value_map: (346/979) variable: bloodValueASTSGOTBaseline_UPerLDate type: date\n",
      "build_value_map: (347/979) variable: bloodValueALTSGPTBaseline_UPerL type: float\n",
      "build_value_map: (348/979) variable: bloodValueALTSGPTBaseline_UPerLDate type: date\n",
      "build_value_map: (349/979) variable: bloodValueTotalBilirubinBaseline_mgPerdL type: float\n",
      "build_value_map: (350/979) variable: bloodValueTotalBilirubinBaseline_mgPerdLDate type: date\n",
      "build_value_map: (351/979) variable: bloodValuePHMin type: float\n",
      "build_value_map: (352/979) variable: bloodValuePHMinDate type: date\n",
      "build_value_map: (353/979) variable: bloodValueHCO3Min_mEqPerL type: float\n",
      "build_value_map: (354/979) variable: bloodValueHCO3Min_mEqPerLDate type: date\n",
      "build_value_map: (355/979) variable: bloodValueSerumNaMin_mEqPerL type: float\n",
      "build_value_map: (356/979) variable: bloodValueSerumNaMin_mEqPerLDate type: date\n",
      "build_value_map: (357/979) variable: bloodValueSerumKMin_mEqPerL type: float\n",
      "build_value_map: (358/979) variable: bloodValueSerumKMin_mEqPerLDate type: date\n",
      "build_value_map: (359/979) variable: bloodValueClMin_mEqPerL type: float\n",
      "build_value_map: (360/979) variable: bloodValueClMin_mEqPerLDate type: date\n",
      "build_value_map: (361/979) variable: bloodValueGlucoseMin_mgPerdL type: float\n",
      "build_value_map: (362/979) variable: bloodValueGlucoseMin_mgPerdLDate type: date\n",
      "build_value_map: (363/979) variable: bloodValueTotalCaMin_mgPerdL type: float\n",
      "build_value_map: (364/979) variable: bloodValueTotalCaMin_mgPerdLDate type: date\n",
      "build_value_map: (365/979) variable: bloodValueIonCaMin_mgPerdL type: float\n",
      "build_value_map: (366/979) variable: bloodValueIonCaMin_mgPerdLDate type: date\n",
      "build_value_map: (367/979) variable: bloodValueASTSGOTMin_UPerL type: float\n",
      "build_value_map: (368/979) variable: bloodValueASTSGOTMin_UPerLDate type: date\n",
      "build_value_map: (369/979) variable: bloodValueALTSGPTMin_UPerL type: float\n",
      "build_value_map: (370/979) variable: bloodValueALTSGPTMin_UPerLDate type: date\n",
      "build_value_map: (371/979) variable: bloodValueTotalBilirubinMin_mgPerdL type: float\n",
      "build_value_map: (372/979) variable: bloodValueTotalBilirubinMin_mgPerdLDate type: date\n",
      "build_value_map: (373/979) variable: bloodValuePHMax type: float\n",
      "build_value_map: (374/979) variable: bloodValuePHMaxDate type: date\n",
      "build_value_map: (375/979) variable: bloodValueBaseDeficitMax_mEqPerL type: float\n",
      "build_value_map: (376/979) variable: bloodValueBaseDeficitMax_mEqPerLDate type: date\n",
      "build_value_map: (377/979) variable: bloodValueSerumNaMax_mEqPerL type: float\n",
      "build_value_map: (378/979) variable: bloodValueSerumNaMax_mEqPerLDate type: date\n",
      "build_value_map: (379/979) variable: bloodValueSerumKMax_mEqPerL type: float\n",
      "build_value_map: (380/979) variable: bloodValueSerumKMax_mEqPerLDate type: date\n",
      "build_value_map: (381/979) variable: bloodValueClMax_mEqPerL type: float\n",
      "build_value_map: (382/979) variable: bloodValueClMax_mEqPerLDate type: date\n",
      "build_value_map: (383/979) variable: bloodValueBunMax_mgPerdL type: float\n",
      "build_value_map: (384/979) variable: bloodValueBunMax_mgPerdLDate type: date\n",
      "build_value_map: (385/979) variable: bloodValueCreatinineMax_mgPerdL type: float\n",
      "build_value_map: (386/979) variable: bloodValueCreatinineMax_mgPerdLDate type: date\n",
      "build_value_map: (387/979) variable: bloodValueGlucoseMax_mgPerdL type: float\n",
      "build_value_map: (388/979) variable: bloodValueGlucoseMax_mgPerdLDate type: date\n",
      "build_value_map: (389/979) variable: bloodValueTotalCaMax_mgPerdL type: float\n",
      "build_value_map: (390/979) variable: bloodValueTotalCaMax_mgPerdLDate type: date\n",
      "build_value_map: (391/979) variable: bloodValueIonCaMax_mgPerdL type: float\n",
      "build_value_map: (392/979) variable: bloodValueIonCaMax_mgPerdLDate type: date\n",
      "build_value_map: (393/979) variable: bloodValueASTSGOTMax_UPerL type: float\n",
      "build_value_map: (394/979) variable: bloodValueASTSGOTMax_UPerLDate type: date\n",
      "build_value_map: (395/979) variable: bloodValueALTSGPTMax_UPerL type: float\n",
      "build_value_map: (396/979) variable: bloodValueALTSGPTMax_UPerLDate type: date\n",
      "build_value_map: (397/979) variable: bloodValueTotalBilirubinMax_mgPerdL type: float\n",
      "build_value_map: (398/979) variable: bloodValueTotalBilirubinMax_mgPerdLDate type: date\n",
      "build_value_map: (399/979) variable: positiveCultureNumber type: int\n",
      "build_value_map: (400/979) variable: positiveCulture type: bool\n",
      "build_value_map: (401/979) variable: positiveCultureSrc type: positiveCultureSrc\n",
      "build_value_map: (402/979) variable: positiveCultureDate type: date\n",
      "build_value_map: (403/979) variable: positiveCultureTime type: time\n",
      "build_value_map: (404/979) variable: positiveCultureOrganismCode1 type: positiveCultureOrganism\n",
      "build_value_map: (405/979) variable: positiveCultureOrganismCode2 type: positiveCultureOrganism\n",
      "build_value_map: (406/979) variable: positiveCultureOrganismCode3 type: positiveCultureOrganism\n",
      "build_value_map: (407/979) variable: antibiotics type: bool\n",
      "build_value_map: (408/979) variable: antibioticsCode1 type: antibiotics\n",
      "build_value_map: (409/979) variable: antibioticsCode2 type: antibiotics\n",
      "build_value_map: (410/979) variable: antibioticsCode3 type: antibiotics\n",
      "build_value_map: (411/979) variable: rewarmingAntibiotics type: bool\n",
      "build_value_map: (412/979) variable: rewarmingAntibioticsCode1 type: antibiotics\n",
      "build_value_map: (413/979) variable: rewarmingAntibioticsCode2 type: antibiotics\n",
      "build_value_map: (414/979) variable: rewarmingAntibioticsCode3 type: antibiotics\n",
      "build_value_map: (415/979) variable: otherMedTimeSlot type: int\n",
      "build_value_map: (416/979) variable: otherMedTargetDate type: date\n",
      "build_value_map: (417/979) variable: otherMedTargetTime type: time\n",
      "build_value_map: (418/979) variable: anticonvulsants type: anticonvulsants\n",
      "build_value_map: (419/979) variable: anticonvulsants1 type: anticonvulsants\n",
      "build_value_map: (420/979) variable: anticonvulsants2 type: anticonvulsants\n",
      "build_value_map: (421/979) variable: anticonvulsants3 type: anticonvulsants\n",
      "build_value_map: (422/979) variable: analgesics type: analgesics\n",
      "build_value_map: (423/979) variable: analgesicsSedatives1 type: analgesics\n",
      "build_value_map: (424/979) variable: analgesicsSedatives2 type: analgesics\n",
      "build_value_map: (425/979) variable: analgesicsSedatives3 type: analgesics\n",
      "build_value_map: (426/979) variable: antipyretics type: antipyretics\n",
      "build_value_map: (427/979) variable: antipyretics1 type: antipyretics\n",
      "build_value_map: (428/979) variable: antipyretics2 type: antipyretics\n",
      "build_value_map: (429/979) variable: antipyretics3 type: antipyretics\n",
      "build_value_map: (430/979) variable: paralytics type: paralytics\n",
      "build_value_map: (431/979) variable: paralytics1 type: paralytics\n",
      "build_value_map: (432/979) variable: paralytics2 type: paralytics\n",
      "build_value_map: (433/979) variable: paralytics3 type: paralytics\n",
      "build_value_map: (434/979) variable: otherMedFluidIntake_ccPerKg type: float\n",
      "build_value_map: (435/979) variable: otherMedUrineOutput_ccPerKg type: float\n",
      "build_value_map: (436/979) variable: imagingTimeSlot type: int\n",
      "build_value_map: (437/979) variable: headSonogram type: bool\n",
      "build_value_map: (438/979) variable: headSonogramDate type: date\n",
      "build_value_map: (439/979) variable: headSonogramTime type: time\n",
      "build_value_map: (440/979) variable: headSonogramResult1 type: imaging\n",
      "build_value_map: (441/979) variable: headSonogramResult2 type: imaging\n",
      "build_value_map: (442/979) variable: headSonogramResult3 type: imaging\n",
      "build_value_map: (443/979) variable: headSonogramResult4 type: imaging\n",
      "build_value_map: (444/979) variable: headSonogramResult5 type: imaging\n",
      "build_value_map: (445/979) variable: headSonogramResult6 type: imaging\n",
      "build_value_map: (446/979) variable: headSonogramResult7 type: imaging\n",
      "build_value_map: (447/979) variable: headSonogramResult8 type: imaging\n",
      "build_value_map: (448/979) variable: headSonogramResultText type: text\n",
      "build_value_map: (449/979) variable: headCT type: bool\n",
      "build_value_map: (450/979) variable: headCTDate type: date\n",
      "build_value_map: (451/979) variable: headCTTime type: time\n",
      "build_value_map: (452/979) variable: headCTResult1 type: imaging\n",
      "build_value_map: (453/979) variable: headCTResult2 type: imaging\n",
      "build_value_map: (454/979) variable: headCTResult3 type: imaging\n",
      "build_value_map: (455/979) variable: headCTResult4 type: imaging\n",
      "build_value_map: (456/979) variable: headCTResult5 type: imaging\n",
      "build_value_map: (457/979) variable: headCTResult6 type: imaging\n",
      "build_value_map: (458/979) variable: headCTResult7 type: imaging\n",
      "build_value_map: (459/979) variable: headCTResult8 type: imaging\n",
      "build_value_map: (460/979) variable: headCTResultText type: text\n",
      "build_value_map: (461/979) variable: brainMRI type: bool\n",
      "build_value_map: (462/979) variable: brainMRIDate type: date\n",
      "build_value_map: (463/979) variable: brainMRITime type: time\n",
      "build_value_map: (464/979) variable: brainMRIResult1 type: imaging\n",
      "build_value_map: (465/979) variable: brainMRIResult2 type: imaging\n",
      "build_value_map: (466/979) variable: brainMRIResult3 type: imaging\n",
      "build_value_map: (467/979) variable: brainMRIResult4 type: imaging\n",
      "build_value_map: (468/979) variable: brainMRIResult5 type: imaging\n",
      "build_value_map: (469/979) variable: brainMRIResult6 type: imaging\n",
      "build_value_map: (470/979) variable: brainMRIResult7 type: imaging\n",
      "build_value_map: (471/979) variable: brainMRIResult8 type: imaging\n",
      "build_value_map: (472/979) variable: brainMRIResultText type: text\n",
      "build_value_map: (473/979) variable: elevatedTempNumber type: int\n",
      "build_value_map: (474/979) variable: elevatedTempMin type: int\n",
      "build_value_map: (475/979) variable: elevatedTempDate type: date\n",
      "build_value_map: (476/979) variable: elevatedTempTime type: time\n",
      "build_value_map: (477/979) variable: elevatedTempSkinTemperature_C type: float\n",
      "build_value_map: (478/979) variable: elevatedTempAxillaryTemperature_C type: float\n",
      "build_value_map: (479/979) variable: elevatedTempEsophagealTemperature_C type: float\n",
      "build_value_map: (480/979) variable: elevatedTempServoSet_C type: float\n",
      "build_value_map: (481/979) variable: elevatedTempDevice type: elevatedTempDevice\n",
      "build_value_map: (482/979) variable: elevatedTempDeviceMode type: elevatedTempDeviceMode\n",
      "build_value_map: (483/979) variable: elevatedTempAirTemperature_C type: float\n",
      "build_value_map: (484/979) variable: elevatedTempBath type: bool\n",
      "build_value_map: (485/979) variable: elevatedTempNoBathReason type: elevatedTempNoBathReason\n",
      "build_value_map: (486/979) variable: elevatedTempBlanketrol type: bool\n",
      "build_value_map: (487/979) variable: fluctuateTempNumber type: int\n",
      "build_value_map: (488/979) variable: fluctuateTempMin type: int\n",
      "build_value_map: (489/979) variable: fluctuateTempDate type: date\n",
      "build_value_map: (490/979) variable: fluctuateTempTime type: time\n",
      "build_value_map: (491/979) variable: fluctuateTempSkinTemperature_C type: float\n",
      "build_value_map: (492/979) variable: fluctuateTempAxillaryTemperature_C type: float\n",
      "build_value_map: (493/979) variable: fluctuateTempEsophagealTemperature_C type: float\n",
      "build_value_map: (494/979) variable: fluctuateTempBlanketrol_C type: float\n",
      "build_value_map: (495/979) variable: fluctuateTempServoSet_C type: float\n",
      "build_value_map: (496/979) variable: bradycardiaEventNumber type: int\n",
      "build_value_map: (497/979) variable: bradycardiaBelow70Over15min type: bool\n",
      "build_value_map: (498/979) variable: bradycardiaEKG type: bool\n",
      "build_value_map: (499/979) variable: bradycardiaEKGResult type: bradycardiaEKGResult\n",
      "build_value_map: (500/979) variable: bradycardiaEKGResultOtherText type: text\n",
      "build_value_map: (501/979) variable: bradycardiaAntiarrhythmiaMedication type: bool\n",
      "build_value_map: (502/979) variable: bradycardiaDate type: date\n",
      "build_value_map: (503/979) variable: bradycardiaTime type: time\n",
      "build_value_map: (504/979) variable: bradycardiaDuration type: bradycardiaDuration\n",
      "build_value_map: (505/979) variable: bradycardiaHeartRateMin type: bradycardiaHeartRateMin\n",
      "build_value_map: (506/979) variable: adverseEventNumber type: int\n",
      "build_value_map: (507/979) variable: SAECardiacExperienceOnsetDate type: date\n",
      "build_value_map: (508/979) variable: SAECardiacExperienceOnsetTime type: time\n",
      "build_value_map: (509/979) variable: SAECardiacExperienceResolveDate type: date\n",
      "build_value_map: (510/979) variable: SAECardiacExperienceResolveTime type: time\n",
      "build_value_map: (511/979) variable: SAECardiacExperienceDueToHypothermia type: SAEAttributable\n",
      "build_value_map: (512/979) variable: SAECardiacExperienceActionTaken type: SAEAction\n",
      "build_value_map: (513/979) variable: SAECardiacExperienceOutcome type: SAEOutcome\n",
      "build_value_map: (514/979) variable: SAECardiacExperienceComment type: text\n",
      "build_value_map: (515/979) variable: SAEMetabolicAcidosisOnsetDate type: date\n",
      "build_value_map: (516/979) variable: SAEMetabolicAcidosisOnsetTime type: time\n",
      "build_value_map: (517/979) variable: SAEMetabolicAcidosisResolveDate type: date\n",
      "build_value_map: (518/979) variable: SAEMetabolicAcidosisResolveTime type: time\n",
      "build_value_map: (519/979) variable: SAEMetabolicAcidosisDueToHypothermia type: SAEAttributable\n",
      "build_value_map: (520/979) variable: SAEMetabolicAcidosisActionTaken type: SAEAction\n",
      "build_value_map: (521/979) variable: SAEMetabolicAcidosisOutcome type: SAEOutcome\n",
      "build_value_map: (522/979) variable: SAEMetabolicAcidosisComment type: text\n",
      "build_value_map: (523/979) variable: SAEThrombosisExperienceOnsetDate type: date\n",
      "build_value_map: (524/979) variable: SAEThrombosisExperienceOnsetTime type: time\n",
      "build_value_map: (525/979) variable: SAEThrombosisExperienceResolveDate type: date\n",
      "build_value_map: (526/979) variable: SAEThrombosisExperienceResolveTime type: time\n",
      "build_value_map: (527/979) variable: SAEThrombosisExperienceDueToHypothermia type: SAEAttributable\n",
      "build_value_map: (528/979) variable: SAEThrombosisExperienceActionTaken type: SAEAction\n",
      "build_value_map: (529/979) variable: SAEThrombosisExperienceOutcome type: SAEOutcome\n",
      "build_value_map: (530/979) variable: SAEThrombosisExperienceComment type: text\n",
      "build_value_map: (531/979) variable: SAEBleedingExperienceOnsetDate type: date\n",
      "build_value_map: (532/979) variable: SAEBleedingExperienceOnsetTime type: time\n",
      "build_value_map: (533/979) variable: SAEBleedingExperienceResolveDate type: date\n",
      "build_value_map: (534/979) variable: SAEBleedingExperienceResolveTime type: time\n",
      "build_value_map: (535/979) variable: SAEBleedingExperienceDueToHypothermia type: SAEAttributable\n",
      "build_value_map: (536/979) variable: SAEBleedingExperienceActionTaken type: SAEAction\n",
      "build_value_map: (537/979) variable: SAEBleedingExperienceOutcome type: SAEOutcome\n",
      "build_value_map: (538/979) variable: SAEBleedingExperienceComment type: text\n",
      "build_value_map: (539/979) variable: SAEAlterationSkinIntegrity type: SAEAlterationSkinIntegrity\n",
      "build_value_map: (540/979) variable: SAEAlterationSkinIntegrityOnsetDate type: date\n",
      "build_value_map: (541/979) variable: SAEAlterationSkinIntegrityResolveDate type: date\n",
      "build_value_map: (542/979) variable: SAEAlterationSkinIntegrityDueToHypothermia type: SAEAttributable\n",
      "build_value_map: (543/979) variable: SAEAlterationSkinIntegrityActionTaken type: SAEAction\n",
      "build_value_map: (544/979) variable: SAEAlterationSkinIntegrityOutcome type: SAEOutcome\n",
      "build_value_map: (545/979) variable: SAEAlterationSkinIntegrityComment type: text\n",
      "build_value_map: (546/979) variable: SAEDeathDate type: date\n",
      "build_value_map: (547/979) variable: SAEDeathTime type: time\n",
      "build_value_map: (548/979) variable: SAEDeathDueToHypothermia type: SAEAttributable\n",
      "build_value_map: (549/979) variable: SAEDeathActionTaken type: SAEAction\n",
      "build_value_map: (550/979) variable: SAEDeathOutcome type: SAEOutcome\n",
      "build_value_map: (551/979) variable: SAEDeathComment type: text\n",
      "build_value_map: (552/979) variable: SAEOther type: text\n",
      "build_value_map: (553/979) variable: SAEOtherOnsetDate type: date\n",
      "build_value_map: (554/979) variable: SAEOtherOnsetTime type: time\n",
      "build_value_map: (555/979) variable: SAEOtherResolveDate type: date\n",
      "build_value_map: (556/979) variable: SAEOtherResolveTime type: time\n",
      "build_value_map: (557/979) variable: SAEOtherDueToHypothermia type: SAEAttributable\n",
      "build_value_map: (558/979) variable: SAEOtherActionTaken type: SAEAction\n",
      "build_value_map: (559/979) variable: SAEOtherOutcome type: SAEOutcome\n",
      "build_value_map: (560/979) variable: SAEOtherComment type: text\n",
      "build_value_map: (561/979) variable: violationNumber type: int\n",
      "build_value_map: (562/979) variable: violationDate type: date\n",
      "build_value_map: (563/979) variable: violationNature type: violationNature\n",
      "build_value_map: (564/979) variable: violationTreatmentAssign type: bool\n",
      "build_value_map: (565/979) variable: violationTreatmentReceive type: bool\n",
      "build_value_map: (566/979) variable: violationOtherText type: text\n",
      "build_value_map: (567/979) variable: violationCircumstance type: violationCircumstance\n",
      "build_value_map: (568/979) variable: violationOtherCirumstanceText type: text\n",
      "build_value_map: (569/979) variable: violationComment type: text\n",
      "build_value_map: (570/979) variable: interruptNumber type: int\n",
      "build_value_map: (571/979) variable: interrupt type: bool\n",
      "build_value_map: (572/979) variable: interruptReason type: interruptReason\n",
      "build_value_map: (573/979) variable: interruptReasonText type: text\n",
      "build_value_map: (574/979) variable: interruptDate type: date\n",
      "build_value_map: (575/979) variable: interruptTime type: time\n",
      "build_value_map: (576/979) variable: interruptRestartDate type: date\n",
      "build_value_map: (577/979) variable: interruptRestartTime type: time\n",
      "build_value_map: (578/979) variable: interruptRestartEsophagealTemperature_C type: float\n",
      "build_value_map: (579/979) variable: discontinueDate type: date\n",
      "build_value_map: (580/979) variable: discontinueTime type: time\n",
      "build_value_map: (581/979) variable: discontinueBeforeEndPeriod type: bool\n",
      "build_value_map: (582/979) variable: discontinueParentsWithdraw type: bool\n",
      "build_value_map: (583/979) variable: discontinuePhysicianWithdraw type: bool\n",
      "build_value_map: (584/979) variable: discontinueAdverseEvent type: bool\n",
      "build_value_map: (585/979) variable: discontinueECMO type: bool\n",
      "build_value_map: (586/979) variable: discontinueDNR type: bool\n",
      "build_value_map: (587/979) variable: discontinueWdrawSupport type: bool\n",
      "build_value_map: (588/979) variable: discontinueDeath type: bool\n",
      "build_value_map: (589/979) variable: discontinueOther type: bool\n",
      "build_value_map: (590/979) variable: discontinueOtherText type: text\n",
      "build_value_map: (591/979) variable: post_TemperatureTimeSlot type: int\n",
      "build_value_map: (592/979) variable: post_TemperatureDate type: date\n",
      "build_value_map: (593/979) variable: post_TemperatureTime type: time\n",
      "build_value_map: (594/979) variable: post_SkinTemperature_C type: float\n",
      "build_value_map: (595/979) variable: post_AxillaryTemperature_C type: float\n",
      "build_value_map: (596/979) variable: post_AlterationSkinIntegrity type: bool\n",
      "build_value_map: (597/979) variable: post_Shiver type: bool\n",
      "build_value_map: (598/979) variable: normothermiaAtEndIntervention type: bool\n",
      "build_value_map: (599/979) variable: normothermiaDate type: date\n",
      "build_value_map: (600/979) variable: normothermiaTime type: time\n",
      "build_value_map: (601/979) variable: normothermiaAxillaryTemperature_C type: float\n",
      "build_value_map: (602/979) variable: noNormothermiaReason type: text\n",
      "build_value_map: (603/979) variable: coolAfterIntervention type: coolAfterIntervention\n",
      "build_value_map: (604/979) variable: coolAfterInterventionText type: text\n",
      "build_value_map: (605/979) variable: post_BloodValueASTSGOT_UPerL type: float\n",
      "build_value_map: (606/979) variable: post_BloodValueASTSGOT_UPerLDate type: date\n",
      "build_value_map: (607/979) variable: post_BloodValueALTSGPT_UPerL type: float\n",
      "build_value_map: (608/979) variable: post_BloodValueALTSGPT_UPerLDate type: date\n",
      "build_value_map: (609/979) variable: post_BloodValueTotalBilirubin_mgPerdL type: float\n",
      "build_value_map: (610/979) variable: post_BloodValueTotalBilirubin_mgPerdLDate type: date\n",
      "build_value_map: (611/979) variable: post_HeadSonogram type: bool\n",
      "build_value_map: (612/979) variable: post_HeadSonogramDate type: date\n",
      "build_value_map: (613/979) variable: post_HeadSonogramTime type: time\n",
      "build_value_map: (614/979) variable: post_HeadSonogramResult1 type: imaging\n",
      "build_value_map: (615/979) variable: post_HeadSonogramResult2 type: imaging\n",
      "build_value_map: (616/979) variable: post_HeadSonogramResult3 type: imaging\n",
      "build_value_map: (617/979) variable: post_HeadSonogramResult4 type: imaging\n",
      "build_value_map: (618/979) variable: post_HeadSonogramResult5 type: imaging\n",
      "build_value_map: (619/979) variable: post_HeadSonogramResult6 type: imaging\n",
      "build_value_map: (620/979) variable: post_HeadSonogramResult7 type: imaging\n",
      "build_value_map: (621/979) variable: post_HeadSonogramResult8 type: imaging\n",
      "build_value_map: (622/979) variable: post_HeadSonogramResultText type: text\n",
      "build_value_map: (623/979) variable: post_HeadCT type: bool\n",
      "build_value_map: (624/979) variable: post_HeadCTDate type: date\n",
      "build_value_map: (625/979) variable: post_HeadCTTime type: time\n",
      "build_value_map: (626/979) variable: post_HeadCTResult1 type: imaging\n",
      "build_value_map: (627/979) variable: post_HeadCTResult2 type: imaging\n",
      "build_value_map: (628/979) variable: post_HeadCTResult3 type: imaging\n",
      "build_value_map: (629/979) variable: post_HeadCTResult4 type: imaging\n",
      "build_value_map: (630/979) variable: post_HeadCTResult5 type: imaging\n",
      "build_value_map: (631/979) variable: post_HeadCTResult6 type: imaging\n",
      "build_value_map: (632/979) variable: post_HeadCTResult7 type: imaging\n",
      "build_value_map: (633/979) variable: post_HeadCTResult8 type: imaging\n",
      "build_value_map: (634/979) variable: post_HeadCTResultText type: text\n",
      "build_value_map: (635/979) variable: post_BrainMRI type: bool\n",
      "build_value_map: (636/979) variable: post_BrainMRIDate type: date\n",
      "build_value_map: (637/979) variable: post_BrainMRITime type: time\n",
      "build_value_map: (638/979) variable: post_BrainMRIResult1 type: imaging\n",
      "build_value_map: (639/979) variable: post_BrainMRIResult2 type: imaging\n",
      "build_value_map: (640/979) variable: post_BrainMRIResult3 type: imaging\n",
      "build_value_map: (641/979) variable: post_BrainMRIResult4 type: imaging\n",
      "build_value_map: (642/979) variable: post_BrainMRIResult5 type: imaging\n",
      "build_value_map: (643/979) variable: post_BrainMRIResult6 type: imaging\n",
      "build_value_map: (644/979) variable: post_BrainMRIResult7 type: imaging\n",
      "build_value_map: (645/979) variable: post_BrainMRIResult8 type: imaging\n",
      "build_value_map: (646/979) variable: post_BrainMRIResultText type: text\n",
      "build_value_map: (647/979) variable: post_NeuroExamSectionID type: text\n",
      "build_value_map: (648/979) variable: post_NeuroExam type: bool\n",
      "build_value_map: (649/979) variable: post_NeuroExamDate type: date\n",
      "build_value_map: (650/979) variable: post_NeuroExamTime type: time\n",
      "build_value_map: (651/979) variable: post_NeuroExamLevelConsciousness type: signOfHIELvlOfCons\n",
      "build_value_map: (652/979) variable: post_NeuroExamSpontaneousActivity type: signOfHIESpontaneousActivity\n",
      "build_value_map: (653/979) variable: post_NeuroExamPosture type: signOfHIEPosture\n",
      "build_value_map: (654/979) variable: post_NeuroExamTone type: signOfHIETone\n",
      "build_value_map: (655/979) variable: post_NeuroExamSuck type: signOfHIESuck\n",
      "build_value_map: (656/979) variable: post_NeuroExamMoro type: signOfHIEMoro\n",
      "build_value_map: (657/979) variable: post_NeuroExamPupils type: signOfHIEPupils\n",
      "build_value_map: (658/979) variable: post_NeuroExamHeartRate type: signOfHIEHeartRate\n",
      "build_value_map: (659/979) variable: post_NeuroExamRespiration type: signOfHIERespiratory\n",
      "build_value_map: (660/979) variable: post_NeuroExamSeizure type: bool\n",
      "build_value_map: (661/979) variable: post_NeuroExamSedate type: bool\n",
      "build_value_map: (662/979) variable: post_NeuroExamClonusSustained type: bool\n",
      "build_value_map: (663/979) variable: post_NeuroExamFistedHand type: bool\n",
      "build_value_map: (664/979) variable: post_NeuroExamAbnormalMovement type: bool\n",
      "build_value_map: (665/979) variable: post_NeuroExamGagReflexAbsent type: bool\n",
      "build_value_map: (666/979) variable: post_NeuroExamHypertonia type: bool\n",
      "build_value_map: (667/979) variable: post_NeuroExamAsymTonicNeckReflex type: bool\n",
      "build_value_map: (668/979) variable: subjectID type: text\n",
      "build_value_map: (669/979) variable: MRIAvailable type: bool\n",
      "build_value_map: (670/979) variable: MRIAvailable_c type: bool\n",
      "build_value_map: (671/979) variable: MRIObtain type: bool\n",
      "build_value_map: (672/979) variable: MRIObtainWindow type: MRIObtainWindow\n",
      "build_value_map: (673/979) variable: MRIObtainWindow_c type: MRIObtainWindow\n",
      "build_value_map: (674/979) variable: MRIDate type: date\n",
      "build_value_map: (675/979) variable: MRITime type: time\n",
      "build_value_map: (676/979) variable: MRIObtainComment type: text\n",
      "build_value_map: (677/979) variable: MRISendRTIDate type: date\n",
      "build_value_map: (678/979) variable: MRIReceiveRTIDate type: date\n",
      "build_value_map: (679/979) variable: MRINoObtainReason type: MRINoObtainReason\n",
      "build_value_map: (680/979) variable: MRINoObtainReason_c type: MRINoObtainReason\n",
      "build_value_map: (681/979) variable: MRINoObtainReasonText type: text\n",
      "build_value_map: (682/979) variable: MRIDate type: date\n",
      "build_value_map: (683/979) variable: MRITime type: time\n",
      "build_value_map: (684/979) variable: MRIRead type: bool\n",
      "build_value_map: (685/979) variable: MRIScore type: MRINRNPatternOfInjury\n",
      "build_value_map: (686/979) variable: MRIIteration type: text\n",
      "build_value_map: (687/979) variable: MRIIncrement type: int\n",
      "build_value_map: (688/979) variable: center type: center\n",
      "build_value_map: (689/979) variable: MRIID type: text\n",
      "build_value_map: (690/979) variable: subjectID type: text\n",
      "build_value_map: (691/979) variable: MRIReader type: MRIReader\n",
      "build_value_map: (692/979) variable: MRIReadDate type: date\n",
      "build_value_map: (693/979) variable: MRIDate type: date\n",
      "build_value_map: (694/979) variable: MRIStrength_T type: float\n",
      "build_value_map: (695/979) variable: MRIStrength_c type: int\n",
      "build_value_map: (696/979) variable: MRIAdequateQuality type: bool\n",
      "build_value_map: (697/979) variable: MRIAdequateQuality_c type: bool\n",
      "build_value_map: (698/979) variable: MRIT1Axial type: bool\n",
      "build_value_map: (699/979) variable: MRIT1Axial_c type: bool\n",
      "build_value_map: (700/979) variable: MRIT1Coronal type: bool\n",
      "build_value_map: (701/979) variable: MRIT1Coronal_c type: bool\n",
      "build_value_map: (702/979) variable: MRIT1Sagittal type: bool\n",
      "build_value_map: (703/979) variable: MRIT1Sagittal_c type: bool\n",
      "build_value_map: (704/979) variable: MRIT1 type: bool\n",
      "build_value_map: (705/979) variable: MRIT2Axial type: bool\n",
      "build_value_map: (706/979) variable: MRIT2Axial_c type: bool\n",
      "build_value_map: (707/979) variable: MRIT2Coronal type: bool\n",
      "build_value_map: (708/979) variable: MRIT2Coronal_c type: bool\n",
      "build_value_map: (709/979) variable: MRIT2Sagittal type: bool\n",
      "build_value_map: (710/979) variable: MRIT2Sagittal_c type: bool\n",
      "build_value_map: (711/979) variable: MRIT2 type: bool\n",
      "build_value_map: (712/979) variable: MRIT2FLAIRAxial type: bool\n",
      "build_value_map: (713/979) variable: MRIT2FLAIRAxial_c type: bool\n",
      "build_value_map: (714/979) variable: MRIT2FLAIRCoronal type: bool\n",
      "build_value_map: (715/979) variable: MRIT2FLAIRCoronal_c type: bool\n",
      "build_value_map: (716/979) variable: MRIT2FLAIRSagittal type: bool\n",
      "build_value_map: (717/979) variable: MRIT2FLAIRSagittal_c type: bool\n",
      "build_value_map: (718/979) variable: MRIT2FLAIR type: bool\n",
      "build_value_map: (719/979) variable: MRIGRESWIAxial type: bool\n",
      "build_value_map: (720/979) variable: MRIGRESWIAxial_c type: bool\n",
      "build_value_map: (721/979) variable: MRIGRESWICoronal type: bool\n",
      "build_value_map: (722/979) variable: MRIGRESWICoronal_c type: bool\n",
      "build_value_map: (723/979) variable: MRIGRESWISagittal type: bool\n",
      "build_value_map: (724/979) variable: MRIGRESWISagittal_c type: bool\n",
      "build_value_map: (725/979) variable: MRIGRESWI type: bool\n",
      "build_value_map: (726/979) variable: MRISPGRAxial type: bool\n",
      "build_value_map: (727/979) variable: MRISPGRAxial_c type: bool\n",
      "build_value_map: (728/979) variable: MRISPGRCoronal type: bool\n",
      "build_value_map: (729/979) variable: MRISPGRCoronal_c type: bool\n",
      "build_value_map: (730/979) variable: MRISPGRSagittal type: bool\n",
      "build_value_map: (731/979) variable: MRISPGRSagittal_c type: bool\n",
      "build_value_map: (732/979) variable: MRISPGR type: bool\n",
      "build_value_map: (733/979) variable: MRIDWI type: bool\n",
      "build_value_map: (734/979) variable: MRIDWI_c type: bool\n",
      "build_value_map: (735/979) variable: MRIADC type: bool\n",
      "build_value_map: (736/979) variable: MRIADC_c type: bool\n",
      "build_value_map: (737/979) variable: MRIMRS type: bool\n",
      "build_value_map: (738/979) variable: MRIMRS_c type: bool\n",
      "build_value_map: (739/979) variable: MRIOther type: bool\n",
      "build_value_map: (740/979) variable: MRIOther_c type: bool\n",
      "build_value_map: (741/979) variable: MRIOtherText type: text\n",
      "build_value_map: (742/979) variable: MRIOverallDiagnosis type: MRIOverallDiagnosis\n",
      "build_value_map: (743/979) variable: MRIOverallDiagnosis_c type: int\n",
      "build_value_map: (744/979) variable: MRIOverallDiagnosisText type: text\n",
      "build_value_map: (745/979) variable: MRIAbnormal type: bool\n",
      "build_value_map: (746/979) variable: MRIAbnormal_c type: bool\n",
      "build_value_map: (747/979) variable: MRILesionNumber type: int\n",
      "build_value_map: (748/979) variable: MRILesionHemisphere type: bool\n",
      "build_value_map: (749/979) variable: MRILesionHemisphere_c type: bool\n",
      "build_value_map: (750/979) variable: MRIAbnormalRegion1 type: MRIAbnormalRegion\n",
      "build_value_map: (751/979) variable: MRIAbnormalRegion1_c type: MRIAbnormalRegion\n",
      "build_value_map: (752/979) variable: MRIAbnormalRegion2 type: MRIAbnormalRegion\n",
      "build_value_map: (753/979) variable: MRIAbnormalRegion2_c type: MRIAbnormalRegion\n",
      "build_value_map: (754/979) variable: MRIAbnormalRegion3 type: MRIAbnormalRegion\n",
      "build_value_map: (755/979) variable: MRIAbnormalRegion3_c type: MRIAbnormalRegion\n",
      "build_value_map: (756/979) variable: MRIAbnormalSide type: MRIAbnormalSide\n",
      "build_value_map: (757/979) variable: MRIAbnormalSide_c type: MRIAbnormalSide\n",
      "build_value_map: (758/979) variable: MRIAbnormalGrayMatterWhiteMatter type: MRIAbnormalGMWM\n",
      "build_value_map: (759/979) variable: MRIAbnormalGrayMatterWhiteMatter_c type: MRIAbnormalGMWM\n",
      "build_value_map: (760/979) variable: MRIAbnormalExtent1 type: MRIAbnormalExtent\n",
      "build_value_map: (761/979) variable: MRIAbnormalExtent1_c type: MRIAbnormalExtent\n",
      "build_value_map: (762/979) variable: MRIAbnormalExtent2 type: MRIAbnormalExtent\n",
      "build_value_map: (763/979) variable: MRIAbnormalExtent2_c type: MRIAbnormalExtent\n",
      "build_value_map: (764/979) variable: MRIAbnormalType type: MRIAbnormalType\n",
      "build_value_map: (765/979) variable: MRIAbnormalType_c type: MRIAbnormalType\n",
      "build_value_map: (766/979) variable: MRIAbnormalType2 type: MRIAbnormalType\n",
      "build_value_map: (767/979) variable: MRIAbnormalType2_c type: MRIAbnormalType\n",
      "build_value_map: (768/979) variable: MRIAbnormalComment type: text\n",
      "build_value_map: (769/979) variable: MRICerebralAtrophy type: bool\n",
      "build_value_map: (770/979) variable: MRICerebralAtrophy_c type: bool\n",
      "build_value_map: (771/979) variable: MRICerebralAtrophyGlobalLocal type: MRICerebralAtrophyGlobalLocal\n",
      "build_value_map: (772/979) variable: MRICerebralAtrophyGlobalLocal_c type: MRICerebralAtrophyGlobalLocal\n",
      "build_value_map: (773/979) variable: MRICerebralAtrophyRegion type: MRICerebralAtrophyRegion\n",
      "build_value_map: (774/979) variable: MRICerebralAtrophyQualAssessCC type: MRISeverity\n",
      "build_value_map: (775/979) variable: MRICerebralAtrophyQualAssessCC_c type: MRISeverity\n",
      "build_value_map: (776/979) variable: MRICerebralAtrophyQualAssessVDLeft type: MRISeverity\n",
      "build_value_map: (777/979) variable: MRICerebralAtrophyQualAssessVDLeft_c type: MRISeverity\n",
      "build_value_map: (778/979) variable: MRICerebralAtrophyQualAssessVDRight type: MRISeverity\n",
      "build_value_map: (779/979) variable: MRICerebralAtrophyQualAssessVDRight_c type: MRISeverity\n",
      "build_value_map: (780/979) variable: MRIInfarction type: bool\n",
      "build_value_map: (781/979) variable: MRIInfarction_c type: bool\n",
      "build_value_map: (782/979) variable: MRIInfarctionAterialTerritoryLeft type: bool\n",
      "build_value_map: (783/979) variable: MRIInfarctionAterialTerritoryLeft_c type: bool\n",
      "build_value_map: (784/979) variable: MRIInfarctionAterialTerritoryRight type: bool\n",
      "build_value_map: (785/979) variable: MRIInfarctionAterialTerritoryRight_c type: bool\n",
      "build_value_map: (786/979) variable: MRIInfarctionWatershedLeft type: bool\n",
      "build_value_map: (787/979) variable: MRIInfarctionWatershedLeft_c type: bool\n",
      "build_value_map: (788/979) variable: MRIInfarctionWatershedRight type: bool\n",
      "build_value_map: (789/979) variable: MRIInfarctionWatershedRight_c type: bool\n",
      "build_value_map: (790/979) variable: MRIMidlineShift type: bool\n",
      "build_value_map: (791/979) variable: MRIMidlineShift_c type: bool\n",
      "build_value_map: (792/979) variable: MRIBGT type: MRISeverity\n",
      "build_value_map: (793/979) variable: MRIBGT_c type: MRISeverity\n",
      "build_value_map: (794/979) variable: MRIPLIC type: MRIALICPLICSeverity\n",
      "build_value_map: (795/979) variable: MRIPLIC_c type: MRIALICPLICSeverity\n",
      "build_value_map: (796/979) variable: MRIALIC type: MRIALICPLICSeverity\n",
      "build_value_map: (797/979) variable: MRIALIC_c type: MRIALICPLICSeverity\n",
      "build_value_map: (798/979) variable: MRIWatershed type: MRISeverity\n",
      "build_value_map: (799/979) variable: MRIWatershed_c type: MRISeverity\n",
      "build_value_map: (800/979) variable: MRIWhiteMatterInjury type: MRIInjurySeverity\n",
      "build_value_map: (801/979) variable: MRIWhiteMatterInjury_c type: MRIInjurySeverity\n",
      "build_value_map: (802/979) variable: MRIFocalCorticalInjury type: MRIInjurySeverity\n",
      "build_value_map: (803/979) variable: MRIFocalCorticalInjury_c type: MRIInjurySeverity\n",
      "build_value_map: (804/979) variable: MRINRNPatternOfInjury type: MRINRNPatternOfInjury\n",
      "build_value_map: (805/979) variable: MRINRNPatternOfInjury_c type: MRINRNPatternOfInjury\n",
      "build_value_map: (806/979) variable: MRINRNPatternOfInjuryExtent type: MRINRNPatternOfInjuryExtent\n",
      "build_value_map: (807/979) variable: MRINRNPatternOfInjuryExtent_c type: MRINRNPatternOfInjuryExtent\n",
      "build_value_map: (808/979) variable: MRINRNPatternOfInjuryLateral type: MRINRNPatternOfInjuryLateral\n",
      "build_value_map: (809/979) variable: MRINRNPatternOfInjuryLateral_c type: MRINRNPatternOfInjuryLateral\n",
      "build_value_map: (810/979) variable: MRIComment type: text\n",
      "build_value_map: (811/979) variable: status type: status\n",
      "build_value_map: (812/979) variable: statusDate type: date\n",
      "build_value_map: (813/979) variable: dischargeStatus type: status\n",
      "build_value_map: (814/979) variable: dischargeDate type: date\n",
      "build_value_map: (815/979) variable: dischargeWeight_g type: float\n",
      "build_value_map: (816/979) variable: dischargeLength_cm type: float\n",
      "build_value_map: (817/979) variable: dischargeHeadCircumference_cm type: float\n",
      "build_value_map: (818/979) variable: transferReason type: transferReason\n",
      "build_value_map: (819/979) variable: transferDate type: date\n",
      "build_value_map: (820/979) variable: transferWeight_g type: float\n",
      "build_value_map: (821/979) variable: transferLength_cm type: float\n",
      "build_value_map: (822/979) variable: transferHeadCircumference_cm type: float\n",
      "build_value_map: (823/979) variable: transferOutcome type: transferOutcome\n",
      "build_value_map: (824/979) variable: homeTherapyStatus type: bool\n",
      "build_value_map: (825/979) variable: homeTherapyVentilator type: bool\n",
      "build_value_map: (826/979) variable: homeTherapyOxygen type: bool\n",
      "build_value_map: (827/979) variable: homeTherapyGavageTubeFeed type: bool\n",
      "build_value_map: (828/979) variable: homeTherapyGastrostomyTubeFeed type: bool\n",
      "build_value_map: (829/979) variable: homeTherapyTemperatureBlanket type: bool\n",
      "build_value_map: (830/979) variable: homeTherapyAnticonvulsantMedication type: bool\n",
      "build_value_map: (831/979) variable: homeTherapyOther type: bool\n",
      "build_value_map: (832/979) variable: homeTherapyOtherText type: text\n",
      "build_value_map: (833/979) variable: deathDate type: date\n",
      "build_value_map: (834/979) variable: deathTime type: time\n",
      "build_value_map: (835/979) variable: deathAutopsy type: bool\n",
      "build_value_map: (836/979) variable: deathCause type: deathCause\n",
      "build_value_map: (837/979) variable: deathCauseText type: text\n",
      "build_value_map: (838/979) variable: deathSrc type: deathSrc\n",
      "build_value_map: (839/979) variable: dischargeNeuroExam type: bool\n",
      "build_value_map: (840/979) variable: dischargeNeuroExamStatus type: dischargeNeuroExamStatus\n",
      "build_value_map: (841/979) variable: dischargeNeuroExamDate type: date\n",
      "build_value_map: (842/979) variable: dischargeNeuroExamTime type: time\n",
      "build_value_map: (843/979) variable: dischargeNeuroExamLevelConsciousness type: signOfHIELvlOfCons\n",
      "build_value_map: (844/979) variable: dischargeNeuroExamSpontaneousActivity type: signOfHIESpontaneousActivity\n",
      "build_value_map: (845/979) variable: dischargeNeuroExamPosture type: signOfHIEPosture\n",
      "build_value_map: (846/979) variable: dischargeNeuroExamTone type: signOfHIETone\n",
      "build_value_map: (847/979) variable: dischargeNeuroExamSuck type: signOfHIESuck\n",
      "build_value_map: (848/979) variable: dischargeNeuroExamMoro type: signOfHIEMoro\n",
      "build_value_map: (849/979) variable: dischargeNeuroExamPupils type: signOfHIEPupils\n",
      "build_value_map: (850/979) variable: dischargeNeuroExamHeartRate type: signOfHIEHeartRate\n",
      "build_value_map: (851/979) variable: dischargeNeuroExamRespiration type: signOfHIERespiratory\n",
      "build_value_map: (852/979) variable: dischargeNeuroExamSeizure type: bool\n",
      "build_value_map: (853/979) variable: dischargeNeuroExamClonusSustained type: bool\n",
      "build_value_map: (854/979) variable: dischargeNeuroExamFistedHand type: bool\n",
      "build_value_map: (855/979) variable: dischargeNeuroExamAbnormalMovement type: bool\n",
      "build_value_map: (856/979) variable: dischargeNeuroExamGagReflexAbsent type: bool\n",
      "build_value_map: (857/979) variable: dischargeNeuroExamSedate type: bool\n",
      "build_value_map: (858/979) variable: dischargeNeuroExamHypertonia type: bool\n",
      "build_value_map: (859/979) variable: dischargeNeuroExamAsymTonicNeckReflex type: bool\n",
      "build_value_map: (860/979) variable: dischargeCardiomegaly type: bool\n",
      "build_value_map: (861/979) variable: dischargeCardiacFailure type: bool\n",
      "build_value_map: (862/979) variable: dischargeCardiacDysfunctionByEcho type: bool\n",
      "build_value_map: (863/979) variable: dischargeCardiacIschemiaByEKG type: bool\n",
      "build_value_map: (864/979) variable: dischargeHypotension type: bool\n",
      "build_value_map: (865/979) variable: dischargeArrhythmia type: bool\n",
      "build_value_map: (866/979) variable: dischargeMeconiumAspirationSyndrome type: bool\n",
      "build_value_map: (867/979) variable: dischargePPHN type: bool\n",
      "build_value_map: (868/979) variable: dischargePulmonaryHemorrhage type: bool\n",
      "build_value_map: (869/979) variable: dischargePenumonia type: bool\n",
      "build_value_map: (870/979) variable: dischargeChronicLungDisease type: bool\n",
      "build_value_map: (871/979) variable: dischargeECMO type: bool\n",
      "build_value_map: (872/979) variable: dischargeINO type: bool\n",
      "build_value_map: (873/979) variable: dischargeVentilator_day type: int\n",
      "build_value_map: (874/979) variable: dischargeOxygen_day type: int\n",
      "build_value_map: (875/979) variable: dischargeCPAP_day type: int\n",
      "build_value_map: (876/979) variable: dischargePulmonaryStartDate1 type: date\n",
      "build_value_map: (877/979) variable: dischargePulmonaryStartTime1 type: time\n",
      "build_value_map: (878/979) variable: dischargePulmonaryEndDate1 type: date\n",
      "build_value_map: (879/979) variable: dischargePulmonaryEndTime1 type: time\n",
      "build_value_map: (880/979) variable: dischargePulmonaryStartDate2 type: date\n",
      "build_value_map: (881/979) variable: dischargePulmonaryStartTime2 type: time\n",
      "build_value_map: (882/979) variable: dischargePulmonaryEndDate2 type: date\n",
      "build_value_map: (883/979) variable: dischargePulmonaryEndTime2 type: time\n",
      "build_value_map: (884/979) variable: dischargePulmonaryStartDate3 type: date\n",
      "build_value_map: (885/979) variable: dischargePulmonaryStartTime3 type: time\n",
      "build_value_map: (886/979) variable: dischargePulmonaryEndDate3 type: date\n",
      "build_value_map: (887/979) variable: dischargePulmonaryEndTime3 type: time\n",
      "build_value_map: (888/979) variable: dischargeDIC type: bool\n",
      "build_value_map: (889/979) variable: dischargeHypoglycemia type: bool\n",
      "build_value_map: (890/979) variable: dischargeHypocalcemia type: bool\n",
      "build_value_map: (891/979) variable: dischargeHypomagnesemia type: bool\n",
      "build_value_map: (892/979) variable: dischargeOliguria type: bool\n",
      "build_value_map: (893/979) variable: dischargeAnuria type: bool\n",
      "build_value_map: (894/979) variable: dischargeDialysis type: bool\n",
      "build_value_map: (895/979) variable: dischargeEnteralFeedStart_day type: int\n",
      "build_value_map: (896/979) variable: dischargeTubeFeedingDuration_day type: int\n",
      "build_value_map: (897/979) variable: dischargeFullNippleFeed type: bool\n",
      "build_value_map: (898/979) variable: dischargeFullNippleFeed_day type: int\n",
      "build_value_map: (899/979) variable: dischargeNEC type: bool\n",
      "build_value_map: (900/979) variable: dischargeHepaticDysfunction type: bool\n",
      "build_value_map: (901/979) variable: dischargeAlteredSkinItegrityPostIntervention type: bool\n",
      "build_value_map: (902/979) variable: dischargeErythema type: bool\n",
      "build_value_map: (903/979) variable: dischargeErythemaOnsetDate type: date\n",
      "build_value_map: (904/979) variable: dischargeErythemaResolveDate type: date\n",
      "build_value_map: (905/979) variable: dischargeSclerema type: bool\n",
      "build_value_map: (906/979) variable: dischargeScleremaOnsetDate type: date\n",
      "build_value_map: (907/979) variable: dischargeScleremaResolveDate type: date\n",
      "build_value_map: (908/979) variable: dischargeCyanosis type: bool\n",
      "build_value_map: (909/979) variable: dischargeCyanosisOnsetDate type: date\n",
      "build_value_map: (910/979) variable: dischargeCyanosisResolveDate type: date\n",
      "build_value_map: (911/979) variable: dischargeSubFatNecrosis type: bool\n",
      "build_value_map: (912/979) variable: dischargeSubFatNecrosisOnsetDate type: date\n",
      "build_value_map: (913/979) variable: dischargeSubFatNecrosisResolveDate type: date\n",
      "build_value_map: (914/979) variable: dischargeHearingTest type: bool\n",
      "build_value_map: (915/979) variable: dischargeHearingTestNormal type: bool\n",
      "build_value_map: (916/979) variable: dischargeMajorSurgery type: bool\n",
      "build_value_map: (917/979) variable: dischargeSurgeryCode1 type: surgery\n",
      "build_value_map: (918/979) variable: dischargeSurgeryCode2 type: surgery\n",
      "build_value_map: (919/979) variable: dischargeSurgeryCode3 type: surgery\n",
      "build_value_map: (920/979) variable: dischargeSepticemia type: bool\n",
      "build_value_map: (921/979) variable: dischargeSepticemiaOrganismCode1 type: positiveCultureOrganism\n",
      "build_value_map: (922/979) variable: dischargeSepticemiaOrganismCode2 type: positiveCultureOrganism\n",
      "build_value_map: (923/979) variable: dischargeSepticemiaOrganismCode3 type: positiveCultureOrganism\n",
      "build_value_map: (924/979) variable: dischargeMeningitisEncephalitis type: bool\n",
      "build_value_map: (925/979) variable: dischargeMeningitisOrganismCode1 type: positiveCultureOrganism\n",
      "build_value_map: (926/979) variable: dischargeMeningitisOrganismCode2 type: positiveCultureOrganism\n",
      "build_value_map: (927/979) variable: dischargeMeningitisOrganismCode3 type: positiveCultureOrganism\n",
      "build_value_map: (928/979) variable: dischargeSeizure type: bool\n",
      "build_value_map: (929/979) variable: dischargeSeizurePreIntervention type: bool\n",
      "build_value_map: (930/979) variable: dischargeSeizureAfterBaseline type: bool\n",
      "build_value_map: (931/979) variable: dischargeSeizureMaintenance type: bool\n",
      "build_value_map: (932/979) variable: dischargeSeizureRewarming type: bool\n",
      "build_value_map: (933/979) variable: dischargeSeizurePostIntervention type: bool\n",
      "build_value_map: (934/979) variable: dischargeEEG type: bool\n",
      "build_value_map: (935/979) variable: dischargeEEGFindingConsistentWithSeizure type: bool\n",
      "build_value_map: (936/979) variable: dischargeEEGFindingConsistentWithSeizureDate type: date\n",
      "build_value_map: (937/979) variable: dischargeEEGFindingConsistentWithSeizureTime type: time\n",
      "build_value_map: (938/979) variable: dischargeEEGAbnormalBackgroundActivity type: bool\n",
      "build_value_map: (939/979) variable: dischargeEEGAbnormalBackgroundActivityDate type: date\n",
      "build_value_map: (940/979) variable: dischargeEEGAbnormalBackgroundActivityTime type: time\n",
      "build_value_map: (941/979) variable: dischargeAnticonvulsantsOver72H type: bool\n",
      "build_value_map: (942/979) variable: dischargeSyndromeMalformation type: bool\n",
      "build_value_map: (943/979) variable: dischargeBirthDefectCode1 type: birthDefect\n",
      "build_value_map: (944/979) variable: dischargeBirthDefectCode2 type: birthDefect\n",
      "build_value_map: (945/979) variable: dischargeBirthDefectCode3 type: birthDefect\n",
      "build_value_map: (946/979) variable: dischargeHomeTherapy type: bool\n",
      "build_value_map: (947/979) variable: dischargeHomeTherapyVentilator type: bool\n",
      "build_value_map: (948/979) variable: dischargeHomeTherapyOxygen type: bool\n",
      "build_value_map: (949/979) variable: dischargeHomeTherapyGavageTubeFeed type: bool\n",
      "build_value_map: (950/979) variable: dischargeHomeTherapyGastrostomyTubeFeed type: bool\n",
      "build_value_map: (951/979) variable: dischargeHomeTherapyTemperatureBlanket type: bool\n",
      "build_value_map: (952/979) variable: dischargeHomeTherapyAnticonvulsantMedication type: bool\n",
      "build_value_map: (953/979) variable: dischargeHomeTherapyOther type: bool\n",
      "build_value_map: (954/979) variable: dischargeHomeTherapyOtherText type: text\n",
      "build_value_map: (955/979) variable: wdrawSupport type: bool\n",
      "build_value_map: (956/979) variable: wdrawSupportDate type: date\n",
      "build_value_map: (957/979) variable: wdrawSupportTime type: time\n",
      "build_value_map: (958/979) variable: wdrawSupportDiscussedWithFamily type: bool\n",
      "build_value_map: (959/979) variable: wdrawSupportRecommendSolelyByClinicalTeam type: bool\n",
      "build_value_map: (960/979) variable: wdrawSupportNeurologicalExam type: bool\n",
      "build_value_map: (961/979) variable: wdrawSupportImagingStudy type: bool\n",
      "build_value_map: (962/979) variable: wdrawSupportEEGFinding type: bool\n",
      "build_value_map: (963/979) variable: wdrawSupportMultisystemOrganFailureOtherThanCNS type: bool\n",
      "build_value_map: (964/979) variable: wdrawSupportBrainBloodFlowScan type: bool\n",
      "build_value_map: (965/979) variable: wdrawSupportParentWish type: bool\n",
      "build_value_map: (966/979) variable: wdrawSupportOther type: bool\n",
      "build_value_map: (967/979) variable: wdrawSupportOtherText type: text\n",
      "build_value_map: (968/979) variable: limitCareDiscussedWithFamily type: bool\n",
      "build_value_map: (969/979) variable: limitCareRecommendSolelyByClinicalTeam type: bool\n",
      "build_value_map: (970/979) variable: limitCareAgreedByFamilyAndCareTeam type: bool\n",
      "build_value_map: (971/979) variable: limitCareNoFurtherMechanicalVentilationAndIntubation type: bool\n",
      "build_value_map: (972/979) variable: limitCareNoFurtherVentilationWithBagAndMask type: bool\n",
      "build_value_map: (973/979) variable: limitCareNoFurtherMedicationsToSupportBP type: bool\n",
      "build_value_map: (974/979) variable: limitCareNoFurtherChestCompression type: bool\n",
      "build_value_map: (975/979) variable: limitCareNoFurtherEmergencyMedication type: bool\n",
      "build_value_map: (976/979) variable: limitCareDNR type: bool\n",
      "build_value_map: (977/979) variable: limitCareDNRDate type: date\n",
      "build_value_map: (978/979) variable: limitCareDNRTime type: time\n"
     ]
    }
   ],
   "source": [
    "COMBINE_harmonizer.init_mapping(data_dict_filename, study_name)\n",
    "_VALUE_MAP = COMBINE_harmonizer.build_value_map(data_dict_filename, sheet_name)"
   ]
  },
  {
   "cell_type": "code",
   "execution_count": 5,
   "id": "7587d588-6886-45c0-8054-2c9e32088edb",
   "metadata": {
    "execution": {
     "iopub.execute_input": "2025-01-21T19:14:17.574776Z",
     "iopub.status.busy": "2025-01-21T19:14:17.574681Z",
     "iopub.status.idle": "2025-01-21T19:14:17.963996Z",
     "shell.execute_reply": "2025-01-21T19:14:17.963665Z"
    }
   },
   "outputs": [],
   "source": [
    "_ORDER_MAP = COMBINE_harmonizer.build_order_map(data_dict_filename, sheet_name)"
   ]
  },
  {
   "cell_type": "markdown",
   "id": "b795442b-729b-4e74-b9b4-59cfecdacb83",
   "metadata": {},
   "source": [
    "## 00-screening"
   ]
  },
  {
   "cell_type": "code",
   "execution_count": 6,
   "id": "eaf61696-b804-46b5-bfda-b9f4fed51e73",
   "metadata": {
    "execution": {
     "iopub.execute_input": "2025-01-21T19:14:17.965532Z",
     "iopub.status.busy": "2025-01-21T19:14:17.965449Z",
     "iopub.status.idle": "2025-01-21T19:14:17.967089Z",
     "shell.execute_reply": "2025-01-21T19:14:17.966872Z"
    }
   },
   "outputs": [],
   "source": [
    "base_filename = '00-02-screening.csv'"
   ]
  },
  {
   "cell_type": "code",
   "execution_count": 7,
   "id": "0885e33f-33a6-4831-89c9-b7cdb6faefa5",
   "metadata": {
    "execution": {
     "iopub.execute_input": "2025-01-21T19:14:17.968201Z",
     "iopub.status.busy": "2025-01-21T19:14:17.968120Z",
     "iopub.status.idle": "2025-01-21T19:14:18.171970Z",
     "shell.execute_reply": "2025-01-21T19:14:18.171634Z"
    }
   },
   "outputs": [
    {
     "name": "stdout",
     "output_type": "stream",
     "text": [
      "(0/28) normalize_value: column: center\n",
      "(1/28) normalize_value: column: subjectID\n",
      "(2/28) normalize_value: column: uniqueID\n",
      "(3/28) normalize_value: column: siteID\n",
      "(4/28) normalize_value: column: birthDate\n",
      "(5/28) normalize_value: column: birthNumber\n",
      "(6/28) normalize_value: column: coreTempLess34COver1Hr_e\n",
      "(7/28) normalize_value: column: first6HrCoolByClinicalProtocol_e\n",
      "(8/28) normalize_value: column: chromosomalAbnormality_e\n",
      "(9/28) normalize_value: column: majorCongenitalAnomaly_e\n",
      "(10/28) normalize_value: column: birthWeightLessEq1800g_e\n",
      "(11/28) normalize_value: column: infantUnlikelySurvive_e\n",
      "(12/28) normalize_value: column: first60MinAllBloodGasPHGreater7p15BaseDeficitLess10mEqPerL_e\n",
      "(13/28) normalize_value: column: postnatalAgeLess6HrOrGreater24Hr_e\n",
      "(14/28) normalize_value: column: enrolledConflictingTrial_e\n",
      "(15/28) normalize_value: column: first60MinAnyBloodGasPHLessEq7_i\n",
      "(16/28) normalize_value: column: first60MinAnyBloodGasBaseDeficitGreaterEq16mEqPerL_i\n",
      "(17/28) normalize_value: column: historyPerinatalEvent_i\n",
      "(18/28) normalize_value: column: at10MinApgarLessEq5OrVent_i\n",
      "(19/28) normalize_value: column: noConsentReason\n",
      "(20/28) normalize_value: column: noInStudyReason\n",
      "(21/28) normalize_value: column: consentStatus\n",
      "(22/28) normalize_value: column: randomDate\n",
      "(23/28) normalize_value: column: randomTime\n",
      "(24/28) normalize_value: column: randomNumber\n",
      "(25/28) normalize_value: column: randomTreatmentAssign\n",
      "(26/28) normalize_value: column: inOtherTrial\n",
      "(27/28) normalize_value: column: inOtherTrialText\n"
     ]
    }
   ],
   "source": [
    "filename = os.sep.join([input_dir, base_filename])\n",
    "df = pd.read_csv(filename, dtype='O')\n",
    "df = COMBINE_harmonizer.normalize_value(df, _VALUE_MAP, order_map=_ORDER_MAP)\n",
    "\n",
    "out_filename = os.sep.join([out_dir, base_filename])\n",
    "df.to_csv(out_filename, index=False)"
   ]
  },
  {
   "cell_type": "code",
   "execution_count": 8,
   "id": "25887f6c-87ee-4b60-b895-403bf8b82ec0",
   "metadata": {
    "execution": {
     "iopub.execute_input": "2025-01-21T19:14:18.173660Z",
     "iopub.status.busy": "2025-01-21T19:14:18.173509Z",
     "iopub.status.idle": "2025-01-21T19:14:18.182508Z",
     "shell.execute_reply": "2025-01-21T19:14:18.182245Z"
    }
   },
   "outputs": [
    {
     "name": "stdout",
     "output_type": "stream",
     "text": [
      "(0/56) center: (3088/0)\n",
      "(1/56) center.orig: (3088/0)\n",
      "(2/56) subjectID: (3088/0)\n",
      "(3/56) subjectID.orig: (3088/0)\n",
      "(4/56) uniqueID: (3088/0)\n",
      "(5/56) uniqueID.orig: (3088/0)\n",
      "(6/56) siteID: (3088/0)\n",
      "(7/56) siteID.orig: (3088/0)\n",
      "(8/56) birthNumber: (3088/0)\n",
      "(9/56) birthNumber.orig: (3087/1)\n",
      "(10/56) coreTempLess34COver1Hr_e: (3088/0)\n",
      "(11/56) coreTempLess34COver1Hr_e.orig: (3088/0)\n",
      "(12/56) first6HrCoolByClinicalProtocol_e: (3088/0)\n",
      "(13/56) first6HrCoolByClinicalProtocol_e.orig: (1295/1793)\n",
      "(14/56) chromosomalAbnormality_e: (3088/0)\n",
      "(15/56) chromosomalAbnormality_e.orig: (3088/0)\n",
      "(16/56) majorCongenitalAnomaly_e: (3088/0)\n",
      "(17/56) majorCongenitalAnomaly_e.orig: (3088/0)\n",
      "(18/56) birthWeightLessEq1800g_e: (3088/0)\n",
      "(19/56) birthWeightLessEq1800g_e.orig: (3088/0)\n",
      "(20/56) infantUnlikelySurvive_e: (3088/0)\n",
      "(21/56) infantUnlikelySurvive_e.orig: (3088/0)\n",
      "(22/56) first60MinAllBloodGasPHGreater7p15BaseDeficitLess10mEqPerL_e: (3088/0)\n",
      "(23/56) first60MinAllBloodGasPHGreater7p15BaseDeficitLess10mEqPerL_e.orig: (2774/314)\n",
      "(24/56) postnatalAgeLess6HrOrGreater24Hr_e: (3088/0)\n",
      "(25/56) postnatalAgeLess6HrOrGreater24Hr_e.orig: (3088/0)\n",
      "(26/56) enrolledConflictingTrial_e: (3088/0)\n",
      "(27/56) enrolledConflictingTrial_e.orig: (2968/120)\n",
      "(28/56) first60MinAnyBloodGasPHLessEq7_i: (3088/0)\n",
      "(29/56) first60MinAnyBloodGasPHLessEq7_i.orig: (1121/1967)\n",
      "(30/56) first60MinAnyBloodGasBaseDeficitGreaterEq16mEqPerL_i: (3088/0)\n",
      "(31/56) first60MinAnyBloodGasBaseDeficitGreaterEq16mEqPerL_i.orig: (1080/2008)\n",
      "(32/56) historyPerinatalEvent_i: (3088/0)\n",
      "(33/56) historyPerinatalEvent_i.orig: (632/2456)\n",
      "(34/56) at10MinApgarLessEq5OrVent_i: (3088/0)\n",
      "(35/56) at10MinApgarLessEq5OrVent_i.orig: (632/2456)\n",
      "(36/56) consentStatus: (3088/0)\n",
      "(37/56) consentStatus.orig: (3088/0)\n",
      "(38/56) noConsentReason: (3088/0)\n",
      "(39/56) noConsentReason.orig: (13/3075)\n",
      "(40/56) noInStudyReason: (3088/0)\n",
      "(41/56) noInStudyReason.orig: (1/3087)\n",
      "(42/56) randomDate: (3088/0)\n",
      "(43/56) randomDate.orig: (168/2920)\n",
      "(44/56) randomTime: (3088/0)\n",
      "(45/56) randomTime.orig: (168/2920)\n",
      "(46/56) randomNumber: (3088/0)\n",
      "(47/56) randomNumber.orig: (168/2920)\n",
      "(48/56) randomTreatmentAssign: (3088/0)\n",
      "(49/56) randomTreatmentAssign.orig: (168/2920)\n",
      "(50/56) inOtherTrial: (3088/0)\n",
      "(51/56) inOtherTrial.orig: (168/2920)\n",
      "(52/56) inOtherTrialText: (3088/0)\n",
      "(53/56) inOtherTrialText.orig: (2/3086)\n",
      "(54/56) birthDate: (3088/0)\n",
      "(55/56) birthDate.orig: (3088/0)\n"
     ]
    }
   ],
   "source": [
    "COMBINE_harmonizer.column_info(df)"
   ]
  },
  {
   "cell_type": "markdown",
   "id": "b8f305bc-97b4-432e-aca9-21a7aab9f718",
   "metadata": {},
   "source": [
    "## 01-main-screening"
   ]
  },
  {
   "cell_type": "code",
   "execution_count": 9,
   "id": "fc31dadd-ccfa-4ddd-a9c0-ca33d827af19",
   "metadata": {
    "execution": {
     "iopub.execute_input": "2025-01-21T19:14:18.183975Z",
     "iopub.status.busy": "2025-01-21T19:14:18.183884Z",
     "iopub.status.idle": "2025-01-21T19:14:18.185557Z",
     "shell.execute_reply": "2025-01-21T19:14:18.185312Z"
    }
   },
   "outputs": [],
   "source": [
    "base_filename = '01-02-screening.csv'"
   ]
  },
  {
   "cell_type": "code",
   "execution_count": 10,
   "id": "18fae323-aa8a-4983-9b69-e278b0bc82c9",
   "metadata": {
    "execution": {
     "iopub.execute_input": "2025-01-21T19:14:18.186850Z",
     "iopub.status.busy": "2025-01-21T19:14:18.186753Z",
     "iopub.status.idle": "2025-01-21T19:14:18.297774Z",
     "shell.execute_reply": "2025-01-21T19:14:18.297171Z"
    }
   },
   "outputs": [
    {
     "name": "stdout",
     "output_type": "stream",
     "text": [
      "(0/28) normalize_value: column: center\n",
      "(1/28) normalize_value: column: subjectID\n",
      "(2/28) normalize_value: column: uniqueID\n",
      "(3/28) normalize_value: column: siteID\n",
      "(4/28) normalize_value: column: birthDate\n",
      "(5/28) normalize_value: column: birthNumber\n",
      "(6/28) normalize_value: column: coreTempLess34COver1Hr_e\n",
      "(7/28) normalize_value: column: first6HrCoolByClinicalProtocol_e\n",
      "(8/28) normalize_value: column: chromosomalAbnormality_e\n",
      "(9/28) normalize_value: column: majorCongenitalAnomaly_e\n",
      "(10/28) normalize_value: column: birthWeightLessEq1800g_e\n",
      "(11/28) normalize_value: column: infantUnlikelySurvive_e\n",
      "(12/28) normalize_value: column: first60MinAllBloodGasPHGreater7p15BaseDeficitLess10mEqPerL_e\n",
      "(13/28) normalize_value: column: postnatalAgeLess6HrOrGreater24Hr_e\n",
      "(14/28) normalize_value: column: enrolledConflictingTrial_e\n",
      "(15/28) normalize_value: column: first60MinAnyBloodGasPHLessEq7_i\n",
      "(16/28) normalize_value: column: first60MinAnyBloodGasBaseDeficitGreaterEq16mEqPerL_i\n",
      "(17/28) normalize_value: column: historyPerinatalEvent_i\n",
      "(18/28) normalize_value: column: at10MinApgarLessEq5OrVent_i\n",
      "(19/28) normalize_value: column: noConsentReason\n",
      "(20/28) normalize_value: column: noInStudyReason\n",
      "(21/28) normalize_value: column: consentStatus\n",
      "(22/28) normalize_value: column: randomDate\n",
      "(23/28) normalize_value: column: randomTime\n",
      "(24/28) normalize_value: column: randomNumber\n",
      "(25/28) normalize_value: column: randomTreatmentAssign\n",
      "(26/28) normalize_value: column: inOtherTrial\n",
      "(27/28) normalize_value: column: inOtherTrialText\n"
     ]
    }
   ],
   "source": [
    "filename = os.sep.join([input_dir, base_filename])\n",
    "df = pd.read_csv(filename, dtype='O')\n",
    "df = COMBINE_harmonizer.normalize_value(df, _VALUE_MAP, order_map=_ORDER_MAP)\n",
    "\n",
    "out_filename = os.sep.join([out_dir, base_filename])\n",
    "df.to_csv(out_filename, index=False)"
   ]
  },
  {
   "cell_type": "code",
   "execution_count": 11,
   "id": "eb626c25-c20d-487c-9fe4-c0b79c17f8ce",
   "metadata": {
    "execution": {
     "iopub.execute_input": "2025-01-21T19:14:18.300629Z",
     "iopub.status.busy": "2025-01-21T19:14:18.300273Z",
     "iopub.status.idle": "2025-01-21T19:14:18.305577Z",
     "shell.execute_reply": "2025-01-21T19:14:18.305184Z"
    }
   },
   "outputs": [
    {
     "name": "stdout",
     "output_type": "stream",
     "text": [
      "(0/56) center: (168/0)\n",
      "(1/56) center.orig: (168/0)\n",
      "(2/56) subjectID: (168/0)\n",
      "(3/56) subjectID.orig: (168/0)\n",
      "(4/56) uniqueID: (168/0)\n",
      "(5/56) uniqueID.orig: (168/0)\n",
      "(6/56) siteID: (168/0)\n",
      "(7/56) siteID.orig: (168/0)\n",
      "(8/56) birthNumber: (168/0)\n",
      "(9/56) birthNumber.orig: (168/0)\n",
      "(10/56) coreTempLess34COver1Hr_e: (168/0)\n",
      "(11/56) coreTempLess34COver1Hr_e.orig: (168/0)\n",
      "(12/56) first6HrCoolByClinicalProtocol_e: (168/0)\n",
      "(13/56) first6HrCoolByClinicalProtocol_e.orig: (0/168)\n",
      "(14/56) chromosomalAbnormality_e: (168/0)\n",
      "(15/56) chromosomalAbnormality_e.orig: (168/0)\n",
      "(16/56) majorCongenitalAnomaly_e: (168/0)\n",
      "(17/56) majorCongenitalAnomaly_e.orig: (168/0)\n",
      "(18/56) birthWeightLessEq1800g_e: (168/0)\n",
      "(19/56) birthWeightLessEq1800g_e.orig: (168/0)\n",
      "(20/56) infantUnlikelySurvive_e: (168/0)\n",
      "(21/56) infantUnlikelySurvive_e.orig: (168/0)\n",
      "(22/56) first60MinAllBloodGasPHGreater7p15BaseDeficitLess10mEqPerL_e: (168/0)\n",
      "(23/56) first60MinAllBloodGasPHGreater7p15BaseDeficitLess10mEqPerL_e.orig: (153/15)\n",
      "(24/56) postnatalAgeLess6HrOrGreater24Hr_e: (168/0)\n",
      "(25/56) postnatalAgeLess6HrOrGreater24Hr_e.orig: (168/0)\n",
      "(26/56) enrolledConflictingTrial_e: (168/0)\n",
      "(27/56) enrolledConflictingTrial_e.orig: (162/6)\n",
      "(28/56) first60MinAnyBloodGasPHLessEq7_i: (168/0)\n",
      "(29/56) first60MinAnyBloodGasPHLessEq7_i.orig: (156/12)\n",
      "(30/56) first60MinAnyBloodGasBaseDeficitGreaterEq16mEqPerL_i: (168/0)\n",
      "(31/56) first60MinAnyBloodGasBaseDeficitGreaterEq16mEqPerL_i.orig: (141/27)\n",
      "(32/56) historyPerinatalEvent_i: (168/0)\n",
      "(33/56) historyPerinatalEvent_i.orig: (44/124)\n",
      "(34/56) at10MinApgarLessEq5OrVent_i: (168/0)\n",
      "(35/56) at10MinApgarLessEq5OrVent_i.orig: (44/124)\n",
      "(36/56) consentStatus: (168/0)\n",
      "(37/56) consentStatus.orig: (168/0)\n",
      "(38/56) noConsentReason: (168/0)\n",
      "(39/56) noConsentReason.orig: (0/168)\n",
      "(40/56) noInStudyReason: (168/0)\n",
      "(41/56) noInStudyReason.orig: (0/168)\n",
      "(42/56) randomDate: (168/0)\n",
      "(43/56) randomDate.orig: (168/0)\n",
      "(44/56) randomTime: (168/0)\n",
      "(45/56) randomTime.orig: (168/0)\n",
      "(46/56) randomNumber: (168/0)\n",
      "(47/56) randomNumber.orig: (168/0)\n",
      "(48/56) randomTreatmentAssign: (168/0)\n",
      "(49/56) randomTreatmentAssign.orig: (168/0)\n",
      "(50/56) inOtherTrial: (168/0)\n",
      "(51/56) inOtherTrial.orig: (168/0)\n",
      "(52/56) inOtherTrialText: (168/0)\n",
      "(53/56) inOtherTrialText.orig: (2/166)\n",
      "(54/56) birthDate: (168/0)\n",
      "(55/56) birthDate.orig: (168/0)\n"
     ]
    }
   ],
   "source": [
    "COMBINE_harmonizer.column_info(df)"
   ]
  },
  {
   "cell_type": "markdown",
   "id": "11a2cc5f",
   "metadata": {},
   "source": [
    "## 01-12-neuro-exam"
   ]
  },
  {
   "cell_type": "code",
   "execution_count": 12,
   "id": "3e7c5a4e",
   "metadata": {
    "execution": {
     "iopub.execute_input": "2025-01-21T19:14:18.307379Z",
     "iopub.status.busy": "2025-01-21T19:14:18.307221Z",
     "iopub.status.idle": "2025-01-21T19:14:18.309379Z",
     "shell.execute_reply": "2025-01-21T19:14:18.308863Z"
    }
   },
   "outputs": [],
   "source": [
    "base_filename = '00-12-neuro-exam.csv'"
   ]
  },
  {
   "cell_type": "code",
   "execution_count": 13,
   "id": "baaa7dd6",
   "metadata": {
    "execution": {
     "iopub.execute_input": "2025-01-21T19:14:18.311413Z",
     "iopub.status.busy": "2025-01-21T19:14:18.311238Z",
     "iopub.status.idle": "2025-01-21T19:14:18.453989Z",
     "shell.execute_reply": "2025-01-21T19:14:18.453583Z"
    }
   },
   "outputs": [
    {
     "name": "stdout",
     "output_type": "stream",
     "text": [
      "(0/19) normalize_value: column: center\n",
      "(1/19) normalize_value: column: subjectID\n",
      "(2/19) normalize_value: column: uniqueID\n",
      "(3/19) normalize_value: column: pre_NeuroExamSeizure\n",
      "(4/19) normalize_value: column: pre_NeuroExam\n",
      "(5/19) normalize_value: column: pre_NeuroExamSignModerateSevereHIE3Category\n",
      "(6/19) normalize_value: column: pre_NeuroExamRespiration\n",
      "[WARN] unable to float: val (**/<class 'str'>) e: could not convert string to float: '**'\n",
      "[WARN] unable to get value: sheet_name: signOfHIERespiratory value: ** value_float: ** value_int: **\n",
      "[WARN] unable to float: val (**/<class 'str'>) e: could not convert string to float: '**'\n",
      "[WARN] unable to get value: sheet_name: signOfHIERespiratory value: ** value_float: ** value_int: **\n",
      "[WARN] unable to float: val (**/<class 'str'>) e: could not convert string to float: '**'\n",
      "[WARN] unable to get value: sheet_name: signOfHIERespiratory value: ** value_float: ** value_int: **\n",
      "[WARN] unable to float: val (**/<class 'str'>) e: could not convert string to float: '**'\n",
      "[WARN] unable to get value: sheet_name: signOfHIERespiratory value: ** value_float: ** value_int: **\n",
      "[WARN] unable to float: val (**/<class 'str'>) e: could not convert string to float: '**'\n",
      "[WARN] unable to get value: sheet_name: signOfHIERespiratory value: ** value_float: ** value_int: **\n",
      "[WARN] unable to float: val (**/<class 'str'>) e: could not convert string to float: '**'\n",
      "[WARN] unable to get value: sheet_name: signOfHIERespiratory value: ** value_float: ** value_int: **\n",
      "(7/19) normalize_value: column: pre_NeuroExamSedate\n",
      "(8/19) normalize_value: column: pre_NoNeuroExamReason\n",
      "(9/19) normalize_value: column: pre_NeuroExamLevelConsciousness\n",
      "(10/19) normalize_value: column: pre_NeuroExamSpontaneousActivity\n",
      "(11/19) normalize_value: column: pre_NeuroExamPosture\n",
      "(12/19) normalize_value: column: pre_NeuroExamTone\n",
      "(13/19) normalize_value: column: pre_NeuroExamSuck\n",
      "(14/19) normalize_value: column: pre_NeuroExamMoro\n",
      "(15/19) normalize_value: column: pre_NeuroExamPupils\n",
      "(16/19) normalize_value: column: pre_NeuroExamHeartRate\n",
      "(17/19) normalize_value: column: pre_NeuroExamDate\n",
      "(18/19) normalize_value: column: pre_NeuroExamTime\n"
     ]
    }
   ],
   "source": [
    "filename = os.sep.join([input_dir, base_filename])\n",
    "df = pd.read_csv(filename, dtype='O')\n",
    "df = COMBINE_harmonizer.normalize_value(df, _VALUE_MAP, order_map=_ORDER_MAP)\n",
    "\n",
    "out_filename = os.sep.join([out_dir, base_filename])\n",
    "df.to_csv(out_filename, index=False)"
   ]
  },
  {
   "cell_type": "code",
   "execution_count": 14,
   "id": "3110587a",
   "metadata": {
    "execution": {
     "iopub.execute_input": "2025-01-21T19:14:18.455489Z",
     "iopub.status.busy": "2025-01-21T19:14:18.455400Z",
     "iopub.status.idle": "2025-01-21T19:14:18.461218Z",
     "shell.execute_reply": "2025-01-21T19:14:18.460871Z"
    }
   },
   "outputs": [
    {
     "name": "stdout",
     "output_type": "stream",
     "text": [
      "(0/38) center: (3088/0)\n",
      "(1/38) center.orig: (3088/0)\n",
      "(2/38) subjectID: (3088/0)\n",
      "(3/38) subjectID.orig: (3088/0)\n",
      "(4/38) uniqueID: (3088/0)\n",
      "(5/38) uniqueID.orig: (3088/0)\n",
      "(6/38) pre_NeuroExam: (3088/0)\n",
      "(7/38) pre_NeuroExam.orig: (816/2272)\n",
      "(8/38) pre_NoNeuroExamReason: (3088/0)\n",
      "(9/38) pre_NoNeuroExamReason.orig: (63/3025)\n",
      "(10/38) pre_NeuroExamSignModerateSevereHIE3Category: (3088/0)\n",
      "(11/38) pre_NeuroExamSignModerateSevereHIE3Category.orig: (734/2354)\n",
      "(12/38) pre_NeuroExamLevelConsciousness: (3088/0)\n",
      "(13/38) pre_NeuroExamLevelConsciousness.orig: (730/2358)\n",
      "(14/38) pre_NeuroExamSpontaneousActivity: (3088/0)\n",
      "(15/38) pre_NeuroExamSpontaneousActivity.orig: (730/2358)\n",
      "(16/38) pre_NeuroExamPosture: (3088/0)\n",
      "(17/38) pre_NeuroExamPosture.orig: (727/2361)\n",
      "(18/38) pre_NeuroExamTone: (3088/0)\n",
      "(19/38) pre_NeuroExamTone.orig: (730/2358)\n",
      "(20/38) pre_NeuroExamSuck: (3088/0)\n",
      "(21/38) pre_NeuroExamSuck.orig: (719/2369)\n",
      "(22/38) pre_NeuroExamMoro: (3088/0)\n",
      "(23/38) pre_NeuroExamMoro.orig: (706/2382)\n",
      "(24/38) pre_NeuroExamPupils: (3088/0)\n",
      "(25/38) pre_NeuroExamPupils.orig: (711/2377)\n",
      "(26/38) pre_NeuroExamHeartRate: (3088/0)\n",
      "(27/38) pre_NeuroExamHeartRate.orig: (729/2359)\n",
      "(28/38) pre_NeuroExamRespiration: (3088/0)\n",
      "(29/38) pre_NeuroExamRespiration.orig: (734/2354)\n",
      "(30/38) pre_NeuroExamDate: (3088/0)\n",
      "(31/38) pre_NeuroExamDate.orig: (732/2356)\n",
      "(32/38) pre_NeuroExamTime: (3088/0)\n",
      "(33/38) pre_NeuroExamTime.orig: (716/2372)\n",
      "(34/38) pre_NeuroExamSedate: (3088/0)\n",
      "(35/38) pre_NeuroExamSedate.orig: (734/2354)\n",
      "(36/38) pre_NeuroExamSeizure: (3088/0)\n",
      "(37/38) pre_NeuroExamSeizure.orig: (816/2272)\n"
     ]
    }
   ],
   "source": [
    "COMBINE_harmonizer.column_info(df)"
   ]
  },
  {
   "cell_type": "markdown",
   "id": "af9d23ee",
   "metadata": {},
   "source": [
    "## 01-12-neuro-exam"
   ]
  },
  {
   "cell_type": "code",
   "execution_count": 15,
   "id": "3d474558",
   "metadata": {
    "execution": {
     "iopub.execute_input": "2025-01-21T19:14:18.462881Z",
     "iopub.status.busy": "2025-01-21T19:14:18.462726Z",
     "iopub.status.idle": "2025-01-21T19:14:18.464817Z",
     "shell.execute_reply": "2025-01-21T19:14:18.464477Z"
    }
   },
   "outputs": [],
   "source": [
    "base_filename = '01-12-neuro-exam.csv'"
   ]
  },
  {
   "cell_type": "code",
   "execution_count": 16,
   "id": "ffa42033",
   "metadata": {
    "execution": {
     "iopub.execute_input": "2025-01-21T19:14:18.466235Z",
     "iopub.status.busy": "2025-01-21T19:14:18.466109Z",
     "iopub.status.idle": "2025-01-21T19:14:18.554966Z",
     "shell.execute_reply": "2025-01-21T19:14:18.554597Z"
    }
   },
   "outputs": [
    {
     "name": "stdout",
     "output_type": "stream",
     "text": [
      "(0/19) normalize_value: column: center\n",
      "(1/19) normalize_value: column: subjectID\n",
      "(2/19) normalize_value: column: uniqueID\n",
      "(3/19) normalize_value: column: pre_NeuroExamSeizure\n",
      "(4/19) normalize_value: column: pre_NeuroExam\n",
      "(5/19) normalize_value: column: pre_NeuroExamSignModerateSevereHIE3Category\n",
      "(6/19) normalize_value: column: pre_NeuroExamRespiration\n",
      "[WARN] unable to float: val (**/<class 'str'>) e: could not convert string to float: '**'\n",
      "[WARN] unable to get value: sheet_name: signOfHIERespiratory value: ** value_float: ** value_int: **\n",
      "(7/19) normalize_value: column: pre_NeuroExamSedate\n",
      "(8/19) normalize_value: column: pre_NoNeuroExamReason\n",
      "(9/19) normalize_value: column: pre_NeuroExamLevelConsciousness\n",
      "(10/19) normalize_value: column: pre_NeuroExamSpontaneousActivity\n",
      "(11/19) normalize_value: column: pre_NeuroExamPosture\n",
      "(12/19) normalize_value: column: pre_NeuroExamTone\n",
      "(13/19) normalize_value: column: pre_NeuroExamSuck\n",
      "(14/19) normalize_value: column: pre_NeuroExamMoro\n",
      "(15/19) normalize_value: column: pre_NeuroExamPupils\n",
      "(16/19) normalize_value: column: pre_NeuroExamHeartRate\n",
      "(17/19) normalize_value: column: pre_NeuroExamDate\n",
      "(18/19) normalize_value: column: pre_NeuroExamTime\n"
     ]
    }
   ],
   "source": [
    "filename = os.sep.join([input_dir, base_filename])\n",
    "df = pd.read_csv(filename, dtype='O')\n",
    "df = COMBINE_harmonizer.normalize_value(df, _VALUE_MAP, order_map=_ORDER_MAP)\n",
    "\n",
    "out_filename = os.sep.join([out_dir, base_filename])\n",
    "df.to_csv(out_filename, index=False)"
   ]
  },
  {
   "cell_type": "code",
   "execution_count": 17,
   "id": "a7d4712f",
   "metadata": {
    "execution": {
     "iopub.execute_input": "2025-01-21T19:14:18.557060Z",
     "iopub.status.busy": "2025-01-21T19:14:18.556749Z",
     "iopub.status.idle": "2025-01-21T19:14:18.560905Z",
     "shell.execute_reply": "2025-01-21T19:14:18.560630Z"
    }
   },
   "outputs": [
    {
     "name": "stdout",
     "output_type": "stream",
     "text": [
      "(0/38) center: (168/0)\n",
      "(1/38) center.orig: (168/0)\n",
      "(2/38) subjectID: (168/0)\n",
      "(3/38) subjectID.orig: (168/0)\n",
      "(4/38) uniqueID: (168/0)\n",
      "(5/38) uniqueID.orig: (168/0)\n",
      "(6/38) pre_NeuroExam: (168/0)\n",
      "(7/38) pre_NeuroExam.orig: (168/0)\n",
      "(8/38) pre_NoNeuroExamReason: (168/0)\n",
      "(9/38) pre_NoNeuroExamReason.orig: (0/168)\n",
      "(10/38) pre_NeuroExamSignModerateSevereHIE3Category: (168/0)\n",
      "(11/38) pre_NeuroExamSignModerateSevereHIE3Category.orig: (168/0)\n",
      "(12/38) pre_NeuroExamLevelConsciousness: (168/0)\n",
      "(13/38) pre_NeuroExamLevelConsciousness.orig: (168/0)\n",
      "(14/38) pre_NeuroExamSpontaneousActivity: (168/0)\n",
      "(15/38) pre_NeuroExamSpontaneousActivity.orig: (168/0)\n",
      "(16/38) pre_NeuroExamPosture: (168/0)\n",
      "(17/38) pre_NeuroExamPosture.orig: (167/1)\n",
      "(18/38) pre_NeuroExamTone: (168/0)\n",
      "(19/38) pre_NeuroExamTone.orig: (168/0)\n",
      "(20/38) pre_NeuroExamSuck: (168/0)\n",
      "(21/38) pre_NeuroExamSuck.orig: (168/0)\n",
      "(22/38) pre_NeuroExamMoro: (168/0)\n",
      "(23/38) pre_NeuroExamMoro.orig: (164/4)\n",
      "(24/38) pre_NeuroExamPupils: (168/0)\n",
      "(25/38) pre_NeuroExamPupils.orig: (164/4)\n",
      "(26/38) pre_NeuroExamHeartRate: (168/0)\n",
      "(27/38) pre_NeuroExamHeartRate.orig: (167/1)\n",
      "(28/38) pre_NeuroExamRespiration: (168/0)\n",
      "(29/38) pre_NeuroExamRespiration.orig: (168/0)\n",
      "(30/38) pre_NeuroExamDate: (168/0)\n",
      "(31/38) pre_NeuroExamDate.orig: (165/3)\n",
      "(32/38) pre_NeuroExamTime: (168/0)\n",
      "(33/38) pre_NeuroExamTime.orig: (164/4)\n",
      "(34/38) pre_NeuroExamSedate: (168/0)\n",
      "(35/38) pre_NeuroExamSedate.orig: (168/0)\n",
      "(36/38) pre_NeuroExamSeizure: (168/0)\n",
      "(37/38) pre_NeuroExamSeizure.orig: (168/0)\n"
     ]
    }
   ],
   "source": [
    "COMBINE_harmonizer.column_info(df)"
   ]
  },
  {
   "cell_type": "markdown",
   "id": "2bc10135-e37e-4f90-a980-7b6a0d4547fc",
   "metadata": {},
   "source": [
    "## 01-03-maternal-demographics"
   ]
  },
  {
   "cell_type": "code",
   "execution_count": 18,
   "id": "9341d24b-3c1d-4a54-bc2d-2ef593733aa7",
   "metadata": {
    "execution": {
     "iopub.execute_input": "2025-01-21T19:14:18.562403Z",
     "iopub.status.busy": "2025-01-21T19:14:18.562305Z",
     "iopub.status.idle": "2025-01-21T19:14:18.564305Z",
     "shell.execute_reply": "2025-01-21T19:14:18.563809Z"
    }
   },
   "outputs": [],
   "source": [
    "base_filename = '01-03-maternal-demographics.csv'"
   ]
  },
  {
   "cell_type": "code",
   "execution_count": 19,
   "id": "4acc765d-076e-49eb-b7a0-60fe08f407e9",
   "metadata": {
    "execution": {
     "iopub.execute_input": "2025-01-21T19:14:18.566413Z",
     "iopub.status.busy": "2025-01-21T19:14:18.566184Z",
     "iopub.status.idle": "2025-01-21T19:14:18.666613Z",
     "shell.execute_reply": "2025-01-21T19:14:18.665579Z"
    }
   },
   "outputs": [
    {
     "name": "stdout",
     "output_type": "stream",
     "text": [
      "(0/12) normalize_value: column: center\n",
      "(1/12) normalize_value: column: subjectID\n",
      "(2/12) normalize_value: column: uniqueID\n",
      "(3/12) normalize_value: column: motherAge_year\n",
      "(4/12) normalize_value: column: motherRace\n",
      "(5/12) normalize_value: column: motherRaceOther1\n",
      "(6/12) normalize_value: column: motherRaceOther2\n",
      "(7/12) normalize_value: column: motherRaceOther3\n",
      "(8/12) normalize_value: column: motherRaceOther4\n",
      "(9/12) normalize_value: column: motherEthnicity\n",
      "(10/12) normalize_value: column: motherMaritalStatus\n",
      "(11/12) normalize_value: column: motherEducation\n"
     ]
    }
   ],
   "source": [
    "filename = os.sep.join([input_dir, base_filename])\n",
    "df = pd.read_csv(filename, dtype='O')\n",
    "df = COMBINE_harmonizer.normalize_value(df, _VALUE_MAP, order_map=_ORDER_MAP)\n",
    "\n",
    "out_filename = os.sep.join([out_dir, base_filename])\n",
    "df.to_csv(out_filename, index=False)"
   ]
  },
  {
   "cell_type": "code",
   "execution_count": 20,
   "id": "59878d7b-d779-4149-800d-bce22a3abbd9",
   "metadata": {
    "execution": {
     "iopub.execute_input": "2025-01-21T19:14:18.671783Z",
     "iopub.status.busy": "2025-01-21T19:14:18.671457Z",
     "iopub.status.idle": "2025-01-21T19:14:18.681125Z",
     "shell.execute_reply": "2025-01-21T19:14:18.680581Z"
    }
   },
   "outputs": [
    {
     "name": "stdout",
     "output_type": "stream",
     "text": [
      "(0/24) center: (168/0)\n",
      "(1/24) center.orig: (168/0)\n",
      "(2/24) subjectID: (168/0)\n",
      "(3/24) subjectID.orig: (168/0)\n",
      "(4/24) uniqueID: (168/0)\n",
      "(5/24) uniqueID.orig: (168/0)\n",
      "(6/24) motherAge_year: (168/0)\n",
      "(7/24) motherAge_year.orig: (168/0)\n",
      "(8/24) motherRace: (168/0)\n",
      "(9/24) motherRace.orig: (168/0)\n",
      "(10/24) motherRaceOther1: (168/0)\n",
      "(11/24) motherRaceOther1.orig: (0/168)\n",
      "(12/24) motherRaceOther2: (168/0)\n",
      "(13/24) motherRaceOther2.orig: (0/168)\n",
      "(14/24) motherRaceOther3: (168/0)\n",
      "(15/24) motherRaceOther3.orig: (0/168)\n",
      "(16/24) motherRaceOther4: (168/0)\n",
      "(17/24) motherRaceOther4.orig: (0/168)\n",
      "(18/24) motherEthnicity: (168/0)\n",
      "(19/24) motherEthnicity.orig: (168/0)\n",
      "(20/24) motherMaritalStatus: (168/0)\n",
      "(21/24) motherMaritalStatus.orig: (168/0)\n",
      "(22/24) motherEducation: (168/0)\n",
      "(23/24) motherEducation.orig: (167/1)\n"
     ]
    }
   ],
   "source": [
    "COMBINE_harmonizer.column_info(df)"
   ]
  },
  {
   "cell_type": "markdown",
   "id": "cc9d42e2-3d1c-4c2c-b137-4fa470d76a2e",
   "metadata": {},
   "source": [
    "## 01-04-pregnancy-history"
   ]
  },
  {
   "cell_type": "code",
   "execution_count": 21,
   "id": "c6ad1872-3cbd-4e20-b142-d3a65267dc88",
   "metadata": {
    "execution": {
     "iopub.execute_input": "2025-01-21T19:14:18.684995Z",
     "iopub.status.busy": "2025-01-21T19:14:18.684495Z",
     "iopub.status.idle": "2025-01-21T19:14:18.687511Z",
     "shell.execute_reply": "2025-01-21T19:14:18.687127Z"
    }
   },
   "outputs": [],
   "source": [
    "base_filename = '01-04-pregnancy-history.csv'"
   ]
  },
  {
   "cell_type": "code",
   "execution_count": 22,
   "id": "f56137aa-3d2f-48aa-b214-c6ec003b2e44",
   "metadata": {
    "execution": {
     "iopub.execute_input": "2025-01-21T19:14:18.689709Z",
     "iopub.status.busy": "2025-01-21T19:14:18.689540Z",
     "iopub.status.idle": "2025-01-21T19:14:18.788990Z",
     "shell.execute_reply": "2025-01-21T19:14:18.787664Z"
    }
   },
   "outputs": [
    {
     "name": "stdout",
     "output_type": "stream",
     "text": [
      "(0/12) normalize_value: column: center\n",
      "(1/12) normalize_value: column: subjectID\n",
      "(2/12) normalize_value: column: uniqueID\n",
      "(3/12) normalize_value: column: multipleBirth\n",
      "(4/12) normalize_value: column: prenatalCare\n",
      "(5/12) normalize_value: column: hypertensionEclampsia\n",
      "(6/12) normalize_value: column: antepartumHemorrhage\n",
      "(7/12) normalize_value: column: thyroidMalfunction\n",
      "(8/12) normalize_value: column: diabetes\n",
      "(9/12) normalize_value: column: gravida\n",
      "(10/12) normalize_value: column: parity\n",
      "(11/12) normalize_value: column: numFetus\n"
     ]
    }
   ],
   "source": [
    "filename = os.sep.join([input_dir, base_filename])\n",
    "df = pd.read_csv(filename, dtype='O')\n",
    "df = COMBINE_harmonizer.normalize_value(df, _VALUE_MAP, order_map=_ORDER_MAP)\n",
    "\n",
    "out_filename = os.sep.join([out_dir, base_filename])\n",
    "df.to_csv(out_filename, index=False)"
   ]
  },
  {
   "cell_type": "code",
   "execution_count": 23,
   "id": "e52fd8ee-3ca8-4447-bb4f-7846b759e01f",
   "metadata": {
    "execution": {
     "iopub.execute_input": "2025-01-21T19:14:18.796072Z",
     "iopub.status.busy": "2025-01-21T19:14:18.795029Z",
     "iopub.status.idle": "2025-01-21T19:14:18.806017Z",
     "shell.execute_reply": "2025-01-21T19:14:18.805426Z"
    }
   },
   "outputs": [
    {
     "name": "stdout",
     "output_type": "stream",
     "text": [
      "(0/24) center: (168/0)\n",
      "(1/24) center.orig: (168/0)\n",
      "(2/24) subjectID: (168/0)\n",
      "(3/24) subjectID.orig: (168/0)\n",
      "(4/24) uniqueID: (168/0)\n",
      "(5/24) uniqueID.orig: (168/0)\n",
      "(6/24) gravida: (168/0)\n",
      "(7/24) gravida.orig: (168/0)\n",
      "(8/24) parity: (168/0)\n",
      "(9/24) parity.orig: (168/0)\n",
      "(10/24) multipleBirth: (168/0)\n",
      "(11/24) multipleBirth.orig: (168/0)\n",
      "(12/24) numFetus: (168/0)\n",
      "(13/24) numFetus.orig: (3/165)\n",
      "(14/24) prenatalCare: (168/0)\n",
      "(15/24) prenatalCare.orig: (168/0)\n",
      "(16/24) hypertensionEclampsia: (168/0)\n",
      "(17/24) hypertensionEclampsia.orig: (168/0)\n",
      "(18/24) antepartumHemorrhage: (168/0)\n",
      "(19/24) antepartumHemorrhage.orig: (168/0)\n",
      "(20/24) thyroidMalfunction: (168/0)\n",
      "(21/24) thyroidMalfunction.orig: (168/0)\n",
      "(22/24) diabetes: (168/0)\n",
      "(23/24) diabetes.orig: (168/0)\n"
     ]
    }
   ],
   "source": [
    "COMBINE_harmonizer.column_info(df)"
   ]
  },
  {
   "cell_type": "markdown",
   "id": "413d4c6b-4b78-4531-869c-d54732e5ab20",
   "metadata": {},
   "source": [
    "## 01-05-labor-delivery"
   ]
  },
  {
   "cell_type": "code",
   "execution_count": 24,
   "id": "1d0d5895-da1b-48d8-852d-70c3f0bd2448",
   "metadata": {
    "execution": {
     "iopub.execute_input": "2025-01-21T19:14:18.809950Z",
     "iopub.status.busy": "2025-01-21T19:14:18.809483Z",
     "iopub.status.idle": "2025-01-21T19:14:18.812350Z",
     "shell.execute_reply": "2025-01-21T19:14:18.811918Z"
    }
   },
   "outputs": [],
   "source": [
    "base_filename = '01-05-labor-delivery.csv'"
   ]
  },
  {
   "cell_type": "code",
   "execution_count": 25,
   "id": "728a3f5c-5d9b-4f3e-8325-8c643c23ff50",
   "metadata": {
    "execution": {
     "iopub.execute_input": "2025-01-21T19:14:18.814583Z",
     "iopub.status.busy": "2025-01-21T19:14:18.814379Z",
     "iopub.status.idle": "2025-01-21T19:14:18.954191Z",
     "shell.execute_reply": "2025-01-21T19:14:18.953086Z"
    }
   },
   "outputs": [
    {
     "name": "stdout",
     "output_type": "stream",
     "text": [
      "(0/29) normalize_value: column: center\n",
      "(1/29) normalize_value: column: subjectID\n",
      "(2/29) normalize_value: column: uniqueID\n",
      "(3/29) normalize_value: column: fetalDecelerate\n",
      "(4/29) normalize_value: column: cordMishap\n",
      "(5/29) normalize_value: column: uterineRupture\n",
      "(6/29) normalize_value: column: shoulderDystocia\n",
      "(7/29) normalize_value: column: placentalProblem\n",
      "(8/29) normalize_value: column: maternalHemorrhage\n",
      "(9/29) normalize_value: column: maternalTrauma\n",
      "(10/29) normalize_value: column: maternalCardioRespiratoryArrest\n",
      "(11/29) normalize_value: column: maternalSeizure\n",
      "(12/29) normalize_value: column: pyrexiaOver37p6C\n",
      "(13/29) normalize_value: column: chorioamnionitis\n",
      "(14/29) normalize_value: column: placentalPathologyPerformed\n",
      "(15/29) normalize_value: column: histologicChorioamionitis\n",
      "(16/29) normalize_value: column: laborAntibiotics\n",
      "(17/29) normalize_value: column: ruptureOver18Hr\n",
      "(18/29) normalize_value: column: labor\n",
      "(19/29) normalize_value: column: laborAntibioticsCode1\n",
      "(20/29) normalize_value: column: laborAntibioticsCode2\n",
      "(21/29) normalize_value: column: laborAntibioticsCode3\n",
      "(22/29) normalize_value: column: ruptureDate\n",
      "(23/29) normalize_value: column: ruptureTime\n",
      "(24/29) normalize_value: column: laborOnsetDate\n",
      "(25/29) normalize_value: column: laborOnsetTime\n",
      "(26/29) normalize_value: column: deliveryMode\n",
      "(27/29) normalize_value: column: maternalAdmissionDate\n",
      "(28/29) normalize_value: column: maternalAdmissionTime\n"
     ]
    }
   ],
   "source": [
    "filename = os.sep.join([input_dir, base_filename])\n",
    "df = pd.read_csv(filename, dtype='O')\n",
    "df = COMBINE_harmonizer.normalize_value(df, _VALUE_MAP, order_map=_ORDER_MAP)\n",
    "\n",
    "out_filename = os.sep.join([out_dir, base_filename])\n",
    "df.to_csv(out_filename, index=False)"
   ]
  },
  {
   "cell_type": "code",
   "execution_count": 26,
   "id": "9e533ca7-0519-4784-8c55-08383be90a35",
   "metadata": {
    "execution": {
     "iopub.execute_input": "2025-01-21T19:14:18.960055Z",
     "iopub.status.busy": "2025-01-21T19:14:18.959547Z",
     "iopub.status.idle": "2025-01-21T19:14:18.974470Z",
     "shell.execute_reply": "2025-01-21T19:14:18.973923Z"
    }
   },
   "outputs": [
    {
     "name": "stdout",
     "output_type": "stream",
     "text": [
      "(0/58) center: (168/0)\n",
      "(1/58) center.orig: (168/0)\n",
      "(2/58) subjectID: (168/0)\n",
      "(3/58) subjectID.orig: (168/0)\n",
      "(4/58) uniqueID: (168/0)\n",
      "(5/58) uniqueID.orig: (168/0)\n",
      "(6/58) maternalAdmissionDate: (168/0)\n",
      "(7/58) maternalAdmissionDate.orig: (155/13)\n",
      "(8/58) maternalAdmissionTime: (168/0)\n",
      "(9/58) maternalAdmissionTime.orig: (121/47)\n",
      "(10/58) ruptureDate: (168/0)\n",
      "(11/58) ruptureDate.orig: (160/8)\n",
      "(12/58) ruptureTime: (168/0)\n",
      "(13/58) ruptureTime.orig: (150/18)\n",
      "(14/58) ruptureOver18Hr: (168/0)\n",
      "(15/58) ruptureOver18Hr.orig: (18/150)\n",
      "(16/58) labor: (168/0)\n",
      "(17/58) labor.orig: (168/0)\n",
      "(18/58) laborOnsetDate: (168/0)\n",
      "(19/58) laborOnsetDate.orig: (116/52)\n",
      "(20/58) laborOnsetTime: (168/0)\n",
      "(21/58) laborOnsetTime.orig: (85/83)\n",
      "(22/58) deliveryMode: (168/0)\n",
      "(23/58) deliveryMode.orig: (168/0)\n",
      "(24/58) fetalDecelerate: (168/0)\n",
      "(25/58) fetalDecelerate.orig: (168/0)\n",
      "(26/58) cordMishap: (168/0)\n",
      "(27/58) cordMishap.orig: (168/0)\n",
      "(28/58) uterineRupture: (168/0)\n",
      "(29/58) uterineRupture.orig: (168/0)\n",
      "(30/58) shoulderDystocia: (168/0)\n",
      "(31/58) shoulderDystocia.orig: (168/0)\n",
      "(32/58) placentalProblem: (168/0)\n",
      "(33/58) placentalProblem.orig: (168/0)\n",
      "(34/58) maternalHemorrhage: (168/0)\n",
      "(35/58) maternalHemorrhage.orig: (168/0)\n",
      "(36/58) maternalTrauma: (168/0)\n",
      "(37/58) maternalTrauma.orig: (168/0)\n",
      "(38/58) maternalCardioRespiratoryArrest: (168/0)\n",
      "(39/58) maternalCardioRespiratoryArrest.orig: (168/0)\n",
      "(40/58) maternalSeizure: (168/0)\n",
      "(41/58) maternalSeizure.orig: (168/0)\n",
      "(42/58) pyrexiaOver37p6C: (168/0)\n",
      "(43/58) pyrexiaOver37p6C.orig: (168/0)\n",
      "(44/58) chorioamnionitis: (168/0)\n",
      "(45/58) chorioamnionitis.orig: (168/0)\n",
      "(46/58) placentalPathologyPerformed: (168/0)\n",
      "(47/58) placentalPathologyPerformed.orig: (168/0)\n",
      "(48/58) histologicChorioamionitis: (168/0)\n",
      "(49/58) histologicChorioamionitis.orig: (63/105)\n",
      "(50/58) laborAntibiotics: (168/0)\n",
      "(51/58) laborAntibiotics.orig: (168/0)\n",
      "(52/58) laborAntibioticsCode1: (168/0)\n",
      "(53/58) laborAntibioticsCode1.orig: (41/127)\n",
      "(54/58) laborAntibioticsCode2: (168/0)\n",
      "(55/58) laborAntibioticsCode2.orig: (13/155)\n",
      "(56/58) laborAntibioticsCode3: (168/0)\n",
      "(57/58) laborAntibioticsCode3.orig: (3/165)\n"
     ]
    }
   ],
   "source": [
    "COMBINE_harmonizer.column_info(df)"
   ]
  },
  {
   "cell_type": "markdown",
   "id": "a7becdeb-e0eb-413d-91f1-415f1481a474",
   "metadata": {},
   "source": [
    "## 01-06-birth"
   ]
  },
  {
   "cell_type": "code",
   "execution_count": 27,
   "id": "bf8cb36a-bec6-4329-83b3-b6a6a4243378",
   "metadata": {
    "execution": {
     "iopub.execute_input": "2025-01-21T19:14:18.976933Z",
     "iopub.status.busy": "2025-01-21T19:14:18.976700Z",
     "iopub.status.idle": "2025-01-21T19:14:18.979741Z",
     "shell.execute_reply": "2025-01-21T19:14:18.979069Z"
    }
   },
   "outputs": [],
   "source": [
    "base_filename = '01-06-birth.csv'"
   ]
  },
  {
   "cell_type": "code",
   "execution_count": 28,
   "id": "16d89896-97c9-49e0-a38e-9716887425c0",
   "metadata": {
    "execution": {
     "iopub.execute_input": "2025-01-21T19:14:18.982652Z",
     "iopub.status.busy": "2025-01-21T19:14:18.982432Z",
     "iopub.status.idle": "2025-01-21T19:14:19.121089Z",
     "shell.execute_reply": "2025-01-21T19:14:19.120527Z"
    }
   },
   "outputs": [
    {
     "name": "stdout",
     "output_type": "stream",
     "text": [
      "(0/50) normalize_value: column: center\n",
      "(1/50) normalize_value: column: subjectID\n",
      "(2/50) normalize_value: column: uniqueID\n",
      "(3/50) normalize_value: column: birthDate\n",
      "(4/50) normalize_value: column: randomInfantAge\n",
      "(5/50) normalize_value: column: encephalopathyLevel\n",
      "(6/50) normalize_value: column: infantOutborn\n",
      "(7/50) normalize_value: column: outbornInHospital\n",
      "(8/50) normalize_value: column: outbornOutHospital\n",
      "(9/50) normalize_value: column: deliveryResuscitation\n",
      "(10/50) normalize_value: column: deliveryOxygen\n",
      "(11/50) normalize_value: column: deliveryBaggingAndMask\n",
      "(12/50) normalize_value: column: deliveryChestCompression\n",
      "(13/50) normalize_value: column: deliveryIntubation\n",
      "(14/50) normalize_value: column: deliveryDrug\n",
      "(15/50) normalize_value: column: at10MinContinueResuscitation\n",
      "(16/50) normalize_value: column: at10MinOxygen\n",
      "(17/50) normalize_value: column: at10MinBaggingAndMask\n",
      "(18/50) normalize_value: column: at10MinChestCompression\n",
      "(19/50) normalize_value: column: at10MinIntubation\n",
      "(20/50) normalize_value: column: at10MinDrug\n",
      "(21/50) normalize_value: column: cordBloodGas\n",
      "(22/50) normalize_value: column: firstPostnatalBloodGas\n",
      "(23/50) normalize_value: column: birthTime\n",
      "(24/50) normalize_value: column: neonateAdmissionDate\n",
      "(25/50) normalize_value: column: neonateAdmissionTime\n",
      "(26/50) normalize_value: column: Apgar1min\n",
      "(27/50) normalize_value: column: Apgar5min\n",
      "(28/50) normalize_value: column: Apgar10min\n",
      "(29/50) normalize_value: column: Apgar20min\n",
      "(30/50) normalize_value: column: birthWeight_g\n",
      "(31/50) normalize_value: column: birthLength_cm\n",
      "(32/50) normalize_value: column: birthHeadCircumference_cm\n",
      "(33/50) normalize_value: column: birthGestationalAge_week\n",
      "(34/50) normalize_value: column: infantSex\n",
      "(35/50) normalize_value: column: spontaneousRespirationTime\n",
      "(36/50) normalize_value: column: cordBloodGasSrc\n",
      "(37/50) normalize_value: column: cordBloodGasPH\n",
      "(38/50) normalize_value: column: cordBloodGasPCO2_mmHg\n",
      "(39/50) normalize_value: column: cordBloodGasPO2_mmHg\n",
      "(40/50) normalize_value: column: cordBloodGasHCO3_mEqPerL\n",
      "(41/50) normalize_value: column: cordBloodGasBaseDeficit_mEqPerL\n",
      "(42/50) normalize_value: column: firstPostnatalBloodGasSrc\n",
      "(43/50) normalize_value: column: firstPostnatalBloodGasDate\n",
      "(44/50) normalize_value: column: firstPostnatalBloodGasTime\n",
      "(45/50) normalize_value: column: firstPostnatalBloodGasPH\n",
      "(46/50) normalize_value: column: firstPostnatalBloodGasPCO2_mmHg\n",
      "(47/50) normalize_value: column: firstPostnatalBloodGasPO2_mmHg\n",
      "(48/50) normalize_value: column: firstPostnatalBloodGasHCO3_mEqPerL\n",
      "(49/50) normalize_value: column: firstPostnatalBloodGasBaseDeficit_mEqPerL\n"
     ]
    }
   ],
   "source": [
    "filename = os.sep.join([input_dir, base_filename])\n",
    "df = pd.read_csv(filename, dtype='O')\n",
    "df = COMBINE_harmonizer.normalize_value(df, _VALUE_MAP, order_map=_ORDER_MAP)\n",
    "\n",
    "out_filename = os.sep.join([out_dir, base_filename])\n",
    "df.to_csv(out_filename, index=False)"
   ]
  },
  {
   "cell_type": "code",
   "execution_count": 29,
   "id": "9b9d493e-f2e7-4b00-91bb-4d55725c0296",
   "metadata": {
    "execution": {
     "iopub.execute_input": "2025-01-21T19:14:19.124066Z",
     "iopub.status.busy": "2025-01-21T19:14:19.123789Z",
     "iopub.status.idle": "2025-01-21T19:14:19.135811Z",
     "shell.execute_reply": "2025-01-21T19:14:19.135352Z"
    }
   },
   "outputs": [
    {
     "name": "stdout",
     "output_type": "stream",
     "text": [
      "(0/100) center: (168/0)\n",
      "(1/100) center.orig: (168/0)\n",
      "(2/100) subjectID: (168/0)\n",
      "(3/100) subjectID.orig: (168/0)\n",
      "(4/100) uniqueID: (168/0)\n",
      "(5/100) uniqueID.orig: (168/0)\n",
      "(6/100) encephalopathyLevel: (168/0)\n",
      "(7/100) encephalopathyLevel.orig: (168/0)\n",
      "(8/100) randomInfantAge: (168/0)\n",
      "(9/100) randomInfantAge.orig: (168/0)\n",
      "(10/100) birthTime: (168/0)\n",
      "(11/100) birthTime.orig: (168/0)\n",
      "(12/100) birthWeight_g: (168/0)\n",
      "(13/100) birthWeight_g.orig: (168/0)\n",
      "(14/100) birthLength_cm: (168/0)\n",
      "(15/100) birthLength_cm.orig: (166/2)\n",
      "(16/100) birthHeadCircumference_cm: (168/0)\n",
      "(17/100) birthHeadCircumference_cm.orig: (165/3)\n",
      "(18/100) birthGestationalAge_week: (168/0)\n",
      "(19/100) birthGestationalAge_week.orig: (168/0)\n",
      "(20/100) infantSex: (168/0)\n",
      "(21/100) infantSex.orig: (168/0)\n",
      "(22/100) infantOutborn: (168/0)\n",
      "(23/100) infantOutborn.orig: (168/0)\n",
      "(24/100) outbornInHospital: (168/0)\n",
      "(25/100) outbornInHospital.orig: (146/22)\n",
      "(26/100) outbornOutHospital: (168/0)\n",
      "(27/100) outbornOutHospital.orig: (146/22)\n",
      "(28/100) neonateAdmissionDate: (168/0)\n",
      "(29/100) neonateAdmissionDate.orig: (146/22)\n",
      "(30/100) neonateAdmissionTime: (168/0)\n",
      "(31/100) neonateAdmissionTime.orig: (146/22)\n",
      "(32/100) Apgar1min: (168/0)\n",
      "(33/100) Apgar1min.orig: (167/1)\n",
      "(34/100) Apgar5min: (168/0)\n",
      "(35/100) Apgar5min.orig: (168/0)\n",
      "(36/100) Apgar10min: (168/0)\n",
      "(37/100) Apgar10min.orig: (140/28)\n",
      "(38/100) Apgar20min: (168/0)\n",
      "(39/100) Apgar20min.orig: (32/136)\n",
      "(40/100) deliveryResuscitation: (168/0)\n",
      "(41/100) deliveryResuscitation.orig: (168/0)\n",
      "(42/100) deliveryOxygen: (168/0)\n",
      "(43/100) deliveryOxygen.orig: (166/2)\n",
      "(44/100) deliveryBaggingAndMask: (168/0)\n",
      "(45/100) deliveryBaggingAndMask.orig: (166/2)\n",
      "(46/100) deliveryChestCompression: (168/0)\n",
      "(47/100) deliveryChestCompression.orig: (166/2)\n",
      "(48/100) deliveryIntubation: (168/0)\n",
      "(49/100) deliveryIntubation.orig: (166/2)\n",
      "(50/100) deliveryDrug: (168/0)\n",
      "(51/100) deliveryDrug.orig: (166/2)\n",
      "(52/100) at10MinContinueResuscitation: (168/0)\n",
      "(53/100) at10MinContinueResuscitation.orig: (166/2)\n",
      "(54/100) at10MinOxygen: (168/0)\n",
      "(55/100) at10MinOxygen.orig: (116/52)\n",
      "(56/100) at10MinBaggingAndMask: (168/0)\n",
      "(57/100) at10MinBaggingAndMask.orig: (116/52)\n",
      "(58/100) at10MinChestCompression: (168/0)\n",
      "(59/100) at10MinChestCompression.orig: (116/52)\n",
      "(60/100) at10MinIntubation: (168/0)\n",
      "(61/100) at10MinIntubation.orig: (116/52)\n",
      "(62/100) at10MinDrug: (168/0)\n",
      "(63/100) at10MinDrug.orig: (116/52)\n",
      "(64/100) spontaneousRespirationTime: (168/0)\n",
      "(65/100) spontaneousRespirationTime.orig: (163/5)\n",
      "(66/100) cordBloodGas: (168/0)\n",
      "(67/100) cordBloodGas.orig: (168/0)\n",
      "(68/100) cordBloodGasSrc: (168/0)\n",
      "(69/100) cordBloodGasSrc.orig: (106/62)\n",
      "(70/100) cordBloodGasPH: (168/0)\n",
      "(71/100) cordBloodGasPH.orig: (126/42)\n",
      "(72/100) cordBloodGasPCO2_mmHg: (168/0)\n",
      "(73/100) cordBloodGasPCO2_mmHg.orig: (109/59)\n",
      "(74/100) birthDate: (168/0)\n",
      "(75/100) birthDate.orig: (168/0)\n",
      "(76/100) cordBloodGasPO2_mmHg: (168/0)\n",
      "(77/100) cordBloodGasPO2_mmHg.orig: (100/68)\n",
      "(78/100) cordBloodGasHCO3_mEqPerL: (168/0)\n",
      "(79/100) cordBloodGasHCO3_mEqPerL.orig: (87/81)\n",
      "(80/100) cordBloodGasBaseDeficit_mEqPerL: (168/0)\n",
      "(81/100) cordBloodGasBaseDeficit_mEqPerL.orig: (103/65)\n",
      "(82/100) firstPostnatalBloodGas: (168/0)\n",
      "(83/100) firstPostnatalBloodGas.orig: (168/0)\n",
      "(84/100) firstPostnatalBloodGasSrc: (168/0)\n",
      "(85/100) firstPostnatalBloodGasSrc.orig: (153/15)\n",
      "(86/100) firstPostnatalBloodGasDate: (168/0)\n",
      "(87/100) firstPostnatalBloodGasDate.orig: (159/9)\n",
      "(88/100) firstPostnatalBloodGasTime: (168/0)\n",
      "(89/100) firstPostnatalBloodGasTime.orig: (150/18)\n",
      "(90/100) firstPostnatalBloodGasPH: (168/0)\n",
      "(91/100) firstPostnatalBloodGasPH.orig: (158/10)\n",
      "(92/100) firstPostnatalBloodGasPCO2_mmHg: (168/0)\n",
      "(93/100) firstPostnatalBloodGasPCO2_mmHg.orig: (158/10)\n",
      "(94/100) firstPostnatalBloodGasPO2_mmHg: (168/0)\n",
      "(95/100) firstPostnatalBloodGasPO2_mmHg.orig: (157/11)\n",
      "(96/100) firstPostnatalBloodGasHCO3_mEqPerL: (168/0)\n",
      "(97/100) firstPostnatalBloodGasHCO3_mEqPerL.orig: (149/19)\n",
      "(98/100) firstPostnatalBloodGasBaseDeficit_mEqPerL: (168/0)\n",
      "(99/100) firstPostnatalBloodGasBaseDeficit_mEqPerL.orig: (155/13)\n"
     ]
    }
   ],
   "source": [
    "COMBINE_harmonizer.column_info(df)"
   ]
  },
  {
   "cell_type": "markdown",
   "id": "4e341db1-5d6d-4f6f-8889-6bae0f2620f5",
   "metadata": {},
   "source": [
    "## 01-07-pre-temperature"
   ]
  },
  {
   "cell_type": "code",
   "execution_count": 30,
   "id": "7caae46a-897e-45ac-8ad4-b04fce9a8fe3",
   "metadata": {
    "execution": {
     "iopub.execute_input": "2025-01-21T19:14:19.138146Z",
     "iopub.status.busy": "2025-01-21T19:14:19.137940Z",
     "iopub.status.idle": "2025-01-21T19:14:19.140244Z",
     "shell.execute_reply": "2025-01-21T19:14:19.139860Z"
    }
   },
   "outputs": [],
   "source": [
    "base_filename = '01-07-pre-temperature.csv'"
   ]
  },
  {
   "cell_type": "code",
   "execution_count": 31,
   "id": "21382b2a-fcb2-4c44-85bf-f3b3675fde4a",
   "metadata": {
    "execution": {
     "iopub.execute_input": "2025-01-21T19:14:19.142273Z",
     "iopub.status.busy": "2025-01-21T19:14:19.142080Z",
     "iopub.status.idle": "2025-01-21T19:14:19.251165Z",
     "shell.execute_reply": "2025-01-21T19:14:19.250097Z"
    }
   },
   "outputs": [
    {
     "name": "stdout",
     "output_type": "stream",
     "text": [
      "(0/15) normalize_value: column: center\n",
      "(1/15) normalize_value: column: subjectID\n",
      "(2/15) normalize_value: column: uniqueID\n",
      "(3/15) normalize_value: column: pre_TemperatureMinDate\n",
      "(4/15) normalize_value: column: pre_TemperatureMinTime\n",
      "(5/15) normalize_value: column: pre_SkinTemperatureMin_C\n",
      "(6/15) normalize_value: column: pre_AxillaryTemperatureMin_C\n",
      "(7/15) normalize_value: column: pre_EsophagealTemperatureMin_C\n",
      "(8/15) normalize_value: column: pre_ServoSetMin_C\n",
      "(9/15) normalize_value: column: pre_TemperatureMaxDate\n",
      "(10/15) normalize_value: column: pre_TemperatureMaxTime\n",
      "(11/15) normalize_value: column: pre_SkinTemperatureMax_C\n",
      "(12/15) normalize_value: column: pre_AxillaryTemperatureMax_C\n",
      "(13/15) normalize_value: column: pre_EsophagealTemperatureMax_C\n",
      "(14/15) normalize_value: column: pre_ServoSetMax_C\n"
     ]
    }
   ],
   "source": [
    "filename = os.sep.join([input_dir, base_filename])\n",
    "df = pd.read_csv(filename, dtype='O')\n",
    "df = COMBINE_harmonizer.normalize_value(df, _VALUE_MAP, order_map=_ORDER_MAP)\n",
    "\n",
    "out_filename = os.sep.join([out_dir, base_filename])\n",
    "df.to_csv(out_filename, index=False)"
   ]
  },
  {
   "cell_type": "code",
   "execution_count": 32,
   "id": "3701043a-66c4-49d9-a552-13fef1d14a44",
   "metadata": {
    "execution": {
     "iopub.execute_input": "2025-01-21T19:14:19.258639Z",
     "iopub.status.busy": "2025-01-21T19:14:19.258244Z",
     "iopub.status.idle": "2025-01-21T19:14:19.267232Z",
     "shell.execute_reply": "2025-01-21T19:14:19.266698Z"
    }
   },
   "outputs": [
    {
     "name": "stdout",
     "output_type": "stream",
     "text": [
      "(0/30) center: (155/0)\n",
      "(1/30) center.orig: (155/0)\n",
      "(2/30) subjectID: (155/0)\n",
      "(3/30) subjectID.orig: (155/0)\n",
      "(4/30) uniqueID: (155/0)\n",
      "(5/30) uniqueID.orig: (155/0)\n",
      "(6/30) pre_TemperatureMinDate: (155/0)\n",
      "(7/30) pre_TemperatureMinDate.orig: (155/0)\n",
      "(8/30) pre_TemperatureMinTime: (155/0)\n",
      "(9/30) pre_TemperatureMinTime.orig: (153/2)\n",
      "(10/30) pre_SkinTemperatureMin_C: (155/0)\n",
      "(11/30) pre_SkinTemperatureMin_C.orig: (66/89)\n",
      "(12/30) pre_AxillaryTemperatureMin_C: (155/0)\n",
      "(13/30) pre_AxillaryTemperatureMin_C.orig: (147/8)\n",
      "(14/30) pre_EsophagealTemperatureMin_C: (155/0)\n",
      "(15/30) pre_EsophagealTemperatureMin_C.orig: (0/155)\n",
      "(16/30) pre_ServoSetMin_C: (155/0)\n",
      "(17/30) pre_ServoSetMin_C.orig: (69/86)\n",
      "(18/30) pre_TemperatureMaxDate: (155/0)\n",
      "(19/30) pre_TemperatureMaxDate.orig: (151/4)\n",
      "(20/30) pre_TemperatureMaxTime: (155/0)\n",
      "(21/30) pre_TemperatureMaxTime.orig: (148/7)\n",
      "(22/30) pre_SkinTemperatureMax_C: (155/0)\n",
      "(23/30) pre_SkinTemperatureMax_C.orig: (70/85)\n",
      "(24/30) pre_AxillaryTemperatureMax_C: (155/0)\n",
      "(25/30) pre_AxillaryTemperatureMax_C.orig: (139/16)\n",
      "(26/30) pre_EsophagealTemperatureMax_C: (155/0)\n",
      "(27/30) pre_EsophagealTemperatureMax_C.orig: (0/155)\n",
      "(28/30) pre_ServoSetMax_C: (155/0)\n",
      "(29/30) pre_ServoSetMax_C.orig: (68/87)\n"
     ]
    }
   ],
   "source": [
    "COMBINE_harmonizer.column_info(df)"
   ]
  },
  {
   "cell_type": "markdown",
   "id": "1f93fd83-3cd0-4e80-ac30-19c30bcfdcb7",
   "metadata": {},
   "source": [
    "## 01-08-pre-cardiovascular"
   ]
  },
  {
   "cell_type": "code",
   "execution_count": 33,
   "id": "a192a8b3-8715-42c4-a036-725982aad489",
   "metadata": {
    "execution": {
     "iopub.execute_input": "2025-01-21T19:14:19.269934Z",
     "iopub.status.busy": "2025-01-21T19:14:19.269713Z",
     "iopub.status.idle": "2025-01-21T19:14:19.272529Z",
     "shell.execute_reply": "2025-01-21T19:14:19.272047Z"
    }
   },
   "outputs": [],
   "source": [
    "base_filename = '01-08-pre-cardiovascular.csv'"
   ]
  },
  {
   "cell_type": "code",
   "execution_count": 34,
   "id": "5373f14e-00a3-449c-8f13-bec4ba14fc41",
   "metadata": {
    "execution": {
     "iopub.execute_input": "2025-01-21T19:14:19.274840Z",
     "iopub.status.busy": "2025-01-21T19:14:19.274629Z",
     "iopub.status.idle": "2025-01-21T19:14:19.392928Z",
     "shell.execute_reply": "2025-01-21T19:14:19.392006Z"
    }
   },
   "outputs": [
    {
     "name": "stdout",
     "output_type": "stream",
     "text": [
      "(0/12) normalize_value: column: center\n",
      "(1/12) normalize_value: column: subjectID\n",
      "(2/12) normalize_value: column: uniqueID\n",
      "(3/12) normalize_value: column: pre_CardioVolumeExpand\n",
      "(4/12) normalize_value: column: pre_CardioInotropicAgent\n",
      "(5/12) normalize_value: column: pre_CardioBloodTransfusion\n",
      "(6/12) normalize_value: column: pre_CardioPlatelets\n",
      "(7/12) normalize_value: column: pre_CardioDate\n",
      "(8/12) normalize_value: column: pre_CardioTime\n",
      "(9/12) normalize_value: column: pre_CardioSystolicBloodPressure_mmHg\n",
      "(10/12) normalize_value: column: pre_CardioDiastolicBloodPressure_mmHg\n",
      "(11/12) normalize_value: column: pre_CardioHeartRate_BPM\n"
     ]
    }
   ],
   "source": [
    "filename = os.sep.join([input_dir, base_filename])\n",
    "df = pd.read_csv(filename, dtype='O')\n",
    "df = COMBINE_harmonizer.normalize_value(df, _VALUE_MAP, order_map=_ORDER_MAP)\n",
    "\n",
    "out_filename = os.sep.join([out_dir, base_filename])\n",
    "df.to_csv(out_filename, index=False)"
   ]
  },
  {
   "cell_type": "code",
   "execution_count": 35,
   "id": "7f84094c-a09c-4c7a-a62a-ee0eadf99721",
   "metadata": {
    "execution": {
     "iopub.execute_input": "2025-01-21T19:14:19.398317Z",
     "iopub.status.busy": "2025-01-21T19:14:19.397783Z",
     "iopub.status.idle": "2025-01-21T19:14:19.411771Z",
     "shell.execute_reply": "2025-01-21T19:14:19.410886Z"
    }
   },
   "outputs": [
    {
     "name": "stdout",
     "output_type": "stream",
     "text": [
      "(0/24) center: (167/0)\n",
      "(1/24) center.orig: (167/0)\n",
      "(2/24) subjectID: (167/0)\n",
      "(3/24) subjectID.orig: (167/0)\n",
      "(4/24) uniqueID: (167/0)\n",
      "(5/24) uniqueID.orig: (167/0)\n",
      "(6/24) pre_CardioDate: (167/0)\n",
      "(7/24) pre_CardioDate.orig: (167/0)\n",
      "(8/24) pre_CardioTime: (167/0)\n",
      "(9/24) pre_CardioTime.orig: (164/3)\n",
      "(10/24) pre_CardioSystolicBloodPressure_mmHg: (167/0)\n",
      "(11/24) pre_CardioSystolicBloodPressure_mmHg.orig: (158/9)\n",
      "(12/24) pre_CardioDiastolicBloodPressure_mmHg: (167/0)\n",
      "(13/24) pre_CardioDiastolicBloodPressure_mmHg.orig: (158/9)\n",
      "(14/24) pre_CardioHeartRate_BPM: (167/0)\n",
      "(15/24) pre_CardioHeartRate_BPM.orig: (162/5)\n",
      "(16/24) pre_CardioVolumeExpand: (167/0)\n",
      "(17/24) pre_CardioVolumeExpand.orig: (167/0)\n",
      "(18/24) pre_CardioInotropicAgent: (167/0)\n",
      "(19/24) pre_CardioInotropicAgent.orig: (167/0)\n",
      "(20/24) pre_CardioBloodTransfusion: (167/0)\n",
      "(21/24) pre_CardioBloodTransfusion.orig: (167/0)\n",
      "(22/24) pre_CardioPlatelets: (167/0)\n",
      "(23/24) pre_CardioPlatelets.orig: (167/0)\n"
     ]
    }
   ],
   "source": [
    "COMBINE_harmonizer.column_info(df)"
   ]
  },
  {
   "cell_type": "markdown",
   "id": "10a9640d-9caa-4f81-8bff-f32274b6edfd",
   "metadata": {},
   "source": [
    "## 01-09-pre-infection"
   ]
  },
  {
   "cell_type": "code",
   "execution_count": 36,
   "id": "81b5d18f-376a-42ea-aebe-46783673a116",
   "metadata": {
    "execution": {
     "iopub.execute_input": "2025-01-21T19:14:19.416973Z",
     "iopub.status.busy": "2025-01-21T19:14:19.416376Z",
     "iopub.status.idle": "2025-01-21T19:14:19.419570Z",
     "shell.execute_reply": "2025-01-21T19:14:19.418996Z"
    }
   },
   "outputs": [],
   "source": [
    "base_filename = '01-09-pre-infection.csv'"
   ]
  },
  {
   "cell_type": "code",
   "execution_count": 37,
   "id": "62e87bc0-0576-4ef0-9188-f50f4179f979",
   "metadata": {
    "execution": {
     "iopub.execute_input": "2025-01-21T19:14:19.421997Z",
     "iopub.status.busy": "2025-01-21T19:14:19.421819Z",
     "iopub.status.idle": "2025-01-21T19:14:19.543234Z",
     "shell.execute_reply": "2025-01-21T19:14:19.542403Z"
    }
   },
   "outputs": [
    {
     "name": "stdout",
     "output_type": "stream",
     "text": [
      "(0/14) normalize_value: column: center\n",
      "(1/14) normalize_value: column: subjectID\n",
      "(2/14) normalize_value: column: uniqueID\n",
      "(3/14) normalize_value: column: pre_PositiveCulture\n",
      "(4/14) normalize_value: column: pre_Antibiotics\n",
      "(5/14) normalize_value: column: pre_PositiveCultureSrc\n",
      "(6/14) normalize_value: column: pre_PositiveCultureDate\n",
      "(7/14) normalize_value: column: pre_PositiveCultureTime\n",
      "(8/14) normalize_value: column: pre_PositiveCultureOrganismCode1\n",
      "(9/14) normalize_value: column: pre_PositiveCultureOrganismCode2\n",
      "(10/14) normalize_value: column: pre_PositiveCultureOrganismCode3\n",
      "(11/14) normalize_value: column: pre_AntibioticsCode1\n",
      "(12/14) normalize_value: column: pre_AntibioticsCode2\n",
      "(13/14) normalize_value: column: pre_AntibioticsCode3\n"
     ]
    }
   ],
   "source": [
    "filename = os.sep.join([input_dir, base_filename])\n",
    "df = pd.read_csv(filename, dtype='O')\n",
    "df = COMBINE_harmonizer.normalize_value(df, _VALUE_MAP, order_map=_ORDER_MAP)\n",
    "\n",
    "out_filename = os.sep.join([out_dir, base_filename])\n",
    "df.to_csv(out_filename, index=False)"
   ]
  },
  {
   "cell_type": "code",
   "execution_count": 38,
   "id": "0d0f107b-f274-439d-94ce-bbc5a7c5b728",
   "metadata": {
    "execution": {
     "iopub.execute_input": "2025-01-21T19:14:19.558504Z",
     "iopub.status.busy": "2025-01-21T19:14:19.558273Z",
     "iopub.status.idle": "2025-01-21T19:14:19.563286Z",
     "shell.execute_reply": "2025-01-21T19:14:19.562721Z"
    }
   },
   "outputs": [
    {
     "name": "stdout",
     "output_type": "stream",
     "text": [
      "(0/28) center: (168/0)\n",
      "(1/28) center.orig: (168/0)\n",
      "(2/28) subjectID: (168/0)\n",
      "(3/28) subjectID.orig: (168/0)\n",
      "(4/28) uniqueID: (168/0)\n",
      "(5/28) uniqueID.orig: (168/0)\n",
      "(6/28) pre_PositiveCulture: (168/0)\n",
      "(7/28) pre_PositiveCulture.orig: (168/0)\n",
      "(8/28) pre_PositiveCultureSrc: (168/0)\n",
      "(9/28) pre_PositiveCultureSrc.orig: (1/167)\n",
      "(10/28) pre_PositiveCultureDate: (168/0)\n",
      "(11/28) pre_PositiveCultureDate.orig: (1/167)\n",
      "(12/28) pre_PositiveCultureTime: (168/0)\n",
      "(13/28) pre_PositiveCultureTime.orig: (0/168)\n",
      "(14/28) pre_PositiveCultureOrganismCode1: (168/0)\n",
      "(15/28) pre_PositiveCultureOrganismCode1.orig: (1/167)\n",
      "(16/28) pre_PositiveCultureOrganismCode2: (168/0)\n",
      "(17/28) pre_PositiveCultureOrganismCode2.orig: (0/168)\n",
      "(18/28) pre_PositiveCultureOrganismCode3: (168/0)\n",
      "(19/28) pre_PositiveCultureOrganismCode3.orig: (0/168)\n",
      "(20/28) pre_Antibiotics: (168/0)\n",
      "(21/28) pre_Antibiotics.orig: (166/2)\n",
      "(22/28) pre_AntibioticsCode1: (168/0)\n",
      "(23/28) pre_AntibioticsCode1.orig: (146/22)\n",
      "(24/28) pre_AntibioticsCode2: (168/0)\n",
      "(25/28) pre_AntibioticsCode2.orig: (138/30)\n",
      "(26/28) pre_AntibioticsCode3: (168/0)\n",
      "(27/28) pre_AntibioticsCode3.orig: (10/158)\n"
     ]
    }
   ],
   "source": [
    "COMBINE_harmonizer.column_info(df)"
   ]
  },
  {
   "cell_type": "markdown",
   "id": "b82db3af-5c44-4a40-a037-e13a88c43ec1",
   "metadata": {},
   "source": [
    "## 01-10-pre-other-med"
   ]
  },
  {
   "cell_type": "code",
   "execution_count": 39,
   "id": "515b8bd3-88c1-443c-a5c3-0d01b5cb98a1",
   "metadata": {
    "execution": {
     "iopub.execute_input": "2025-01-21T19:14:19.566174Z",
     "iopub.status.busy": "2025-01-21T19:14:19.565918Z",
     "iopub.status.idle": "2025-01-21T19:14:19.568568Z",
     "shell.execute_reply": "2025-01-21T19:14:19.568062Z"
    }
   },
   "outputs": [],
   "source": [
    "base_filename = '01-10-pre-other-med.csv'"
   ]
  },
  {
   "cell_type": "code",
   "execution_count": 40,
   "id": "0b8bcf88-026c-4607-a681-cbd1700962dc",
   "metadata": {
    "execution": {
     "iopub.execute_input": "2025-01-21T19:14:19.571230Z",
     "iopub.status.busy": "2025-01-21T19:14:19.570991Z",
     "iopub.status.idle": "2025-01-21T19:14:19.692983Z",
     "shell.execute_reply": "2025-01-21T19:14:19.691978Z"
    }
   },
   "outputs": [
    {
     "name": "stdout",
     "output_type": "stream",
     "text": [
      "(0/21) normalize_value: column: center\n",
      "(1/21) normalize_value: column: subjectID\n",
      "(2/21) normalize_value: column: uniqueID\n",
      "(3/21) normalize_value: column: pre_OtherMedTargetDate\n",
      "(4/21) normalize_value: column: pre_OtherMedTargetTime\n",
      "(5/21) normalize_value: column: pre_Anticonvulsants\n",
      "(6/21) normalize_value: column: pre_Anticonvulsants1\n",
      "(7/21) normalize_value: column: pre_Anticonvulsants2\n",
      "(8/21) normalize_value: column: pre_Anticonvulsants3\n",
      "(9/21) normalize_value: column: pre_Analgesics\n",
      "(10/21) normalize_value: column: pre_AnalgesicsSedatives1\n",
      "(11/21) normalize_value: column: pre_AnalgesicsSedatives2\n",
      "(12/21) normalize_value: column: pre_AnalgesicsSedatives3\n",
      "(13/21) normalize_value: column: pre_Antipyretics\n",
      "(14/21) normalize_value: column: pre_Antipyretics1\n",
      "(15/21) normalize_value: column: pre_Antipyretics2\n",
      "(16/21) normalize_value: column: pre_Antipyretics3\n",
      "(17/21) normalize_value: column: pre_Paralytics\n",
      "(18/21) normalize_value: column: pre_Paralytics1\n",
      "(19/21) normalize_value: column: pre_Paralytics2\n",
      "(20/21) normalize_value: column: pre_Paralytics3\n"
     ]
    }
   ],
   "source": [
    "filename = os.sep.join([input_dir, base_filename])\n",
    "df = pd.read_csv(filename, dtype='O')\n",
    "df = COMBINE_harmonizer.normalize_value(df, _VALUE_MAP, order_map=_ORDER_MAP)\n",
    "\n",
    "out_filename = os.sep.join([out_dir, base_filename])\n",
    "df.to_csv(out_filename, index=False)"
   ]
  },
  {
   "cell_type": "code",
   "execution_count": 41,
   "id": "69214592-0f7f-4b31-bc71-2e9891a8eaf7",
   "metadata": {
    "execution": {
     "iopub.execute_input": "2025-01-21T19:14:19.699205Z",
     "iopub.status.busy": "2025-01-21T19:14:19.698532Z",
     "iopub.status.idle": "2025-01-21T19:14:19.712602Z",
     "shell.execute_reply": "2025-01-21T19:14:19.712094Z"
    }
   },
   "outputs": [
    {
     "name": "stdout",
     "output_type": "stream",
     "text": [
      "(0/42) center: (142/0)\n",
      "(1/42) center.orig: (142/0)\n",
      "(2/42) subjectID: (142/0)\n",
      "(3/42) subjectID.orig: (142/0)\n",
      "(4/42) uniqueID: (142/0)\n",
      "(5/42) uniqueID.orig: (142/0)\n",
      "(6/42) pre_OtherMedTargetDate: (142/0)\n",
      "(7/42) pre_OtherMedTargetDate.orig: (3/139)\n",
      "(8/42) pre_OtherMedTargetTime: (142/0)\n",
      "(9/42) pre_OtherMedTargetTime.orig: (2/140)\n",
      "(10/42) pre_Anticonvulsants: (142/0)\n",
      "(11/42) pre_Anticonvulsants.orig: (1/141)\n",
      "(12/42) pre_Anticonvulsants1: (142/0)\n",
      "(13/42) pre_Anticonvulsants1.orig: (97/45)\n",
      "(14/42) pre_Anticonvulsants2: (142/0)\n",
      "(15/42) pre_Anticonvulsants2.orig: (15/127)\n",
      "(16/42) pre_Anticonvulsants3: (142/0)\n",
      "(17/42) pre_Anticonvulsants3.orig: (0/142)\n",
      "(18/42) pre_Analgesics: (142/0)\n",
      "(19/42) pre_Analgesics.orig: (1/141)\n",
      "(20/42) pre_AnalgesicsSedatives1: (142/0)\n",
      "(21/42) pre_AnalgesicsSedatives1.orig: (51/91)\n",
      "(22/42) pre_AnalgesicsSedatives2: (142/0)\n",
      "(23/42) pre_AnalgesicsSedatives2.orig: (23/119)\n",
      "(24/42) pre_AnalgesicsSedatives3: (142/0)\n",
      "(25/42) pre_AnalgesicsSedatives3.orig: (1/141)\n",
      "(26/42) pre_Antipyretics: (142/0)\n",
      "(27/42) pre_Antipyretics.orig: (0/142)\n",
      "(28/42) pre_Antipyretics1: (142/0)\n",
      "(29/42) pre_Antipyretics1.orig: (2/140)\n",
      "(30/42) pre_Antipyretics2: (142/0)\n",
      "(31/42) pre_Antipyretics2.orig: (0/142)\n",
      "(32/42) pre_Antipyretics3: (142/0)\n",
      "(33/42) pre_Antipyretics3.orig: (0/142)\n",
      "(34/42) pre_Paralytics: (142/0)\n",
      "(35/42) pre_Paralytics.orig: (0/142)\n",
      "(36/42) pre_Paralytics1: (142/0)\n",
      "(37/42) pre_Paralytics1.orig: (8/134)\n",
      "(38/42) pre_Paralytics2: (142/0)\n",
      "(39/42) pre_Paralytics2.orig: (0/142)\n",
      "(40/42) pre_Paralytics3: (142/0)\n",
      "(41/42) pre_Paralytics3.orig: (0/142)\n"
     ]
    }
   ],
   "source": [
    "COMBINE_harmonizer.column_info(df)"
   ]
  },
  {
   "cell_type": "markdown",
   "id": "1f8197d2",
   "metadata": {},
   "source": [
    "## 01-11-pre-imaging"
   ]
  },
  {
   "cell_type": "code",
   "execution_count": 42,
   "id": "c32a6755",
   "metadata": {
    "execution": {
     "iopub.execute_input": "2025-01-21T19:14:19.715538Z",
     "iopub.status.busy": "2025-01-21T19:14:19.715304Z",
     "iopub.status.idle": "2025-01-21T19:14:19.717988Z",
     "shell.execute_reply": "2025-01-21T19:14:19.717531Z"
    }
   },
   "outputs": [],
   "source": [
    "base_filename = '01-11-pre-imaging.csv'"
   ]
  },
  {
   "cell_type": "code",
   "execution_count": 43,
   "id": "6bf2d734",
   "metadata": {
    "execution": {
     "iopub.execute_input": "2025-01-21T19:14:19.720228Z",
     "iopub.status.busy": "2025-01-21T19:14:19.720016Z",
     "iopub.status.idle": "2025-01-21T19:14:19.857170Z",
     "shell.execute_reply": "2025-01-21T19:14:19.855840Z"
    }
   },
   "outputs": [
    {
     "name": "stdout",
     "output_type": "stream",
     "text": [
      "(0/39) normalize_value: column: center\n",
      "(1/39) normalize_value: column: subjectID\n",
      "(2/39) normalize_value: column: uniqueID\n",
      "(3/39) normalize_value: column: pre_HeadSonogram\n",
      "(4/39) normalize_value: column: pre_HeadSonogramResultText\n",
      "(5/39) normalize_value: column: pre_HeadCT\n",
      "(6/39) normalize_value: column: pre_HeadCTResultText\n",
      "(7/39) normalize_value: column: pre_BrainMRI\n",
      "(8/39) normalize_value: column: pre_BrainMRIResultText\n",
      "(9/39) normalize_value: column: pre_HeadSonogramDate\n",
      "(10/39) normalize_value: column: pre_HeadSonogramTime\n",
      "(11/39) normalize_value: column: pre_HeadSonogramResult1\n",
      "(12/39) normalize_value: column: pre_HeadSonogramResult2\n",
      "(13/39) normalize_value: column: pre_HeadSonogramResult3\n",
      "(14/39) normalize_value: column: pre_HeadSonogramResult4\n",
      "(15/39) normalize_value: column: pre_HeadSonogramResult5\n",
      "(16/39) normalize_value: column: pre_HeadSonogramResult6\n",
      "(17/39) normalize_value: column: pre_HeadSonogramResult7\n",
      "(18/39) normalize_value: column: pre_HeadSonogramResult8\n",
      "(19/39) normalize_value: column: pre_HeadCTDate\n",
      "(20/39) normalize_value: column: pre_HeadCTTime\n",
      "(21/39) normalize_value: column: pre_HeadCTResult1\n",
      "(22/39) normalize_value: column: pre_HeadCTResult2\n",
      "(23/39) normalize_value: column: pre_HeadCTResult3\n",
      "(24/39) normalize_value: column: pre_HeadCTResult4\n",
      "(25/39) normalize_value: column: pre_HeadCTResult5\n",
      "(26/39) normalize_value: column: pre_HeadCTResult6\n",
      "(27/39) normalize_value: column: pre_HeadCTResult7\n",
      "(28/39) normalize_value: column: pre_HeadCTResult8\n",
      "(29/39) normalize_value: column: pre_BrainMRIDate\n",
      "(30/39) normalize_value: column: pre_BrainMRITime\n",
      "(31/39) normalize_value: column: pre_BrainMRIResult1\n",
      "(32/39) normalize_value: column: pre_BrainMRIResult2\n",
      "(33/39) normalize_value: column: pre_BrainMRIResult3\n",
      "(34/39) normalize_value: column: pre_BrainMRIResult4\n",
      "(35/39) normalize_value: column: pre_BrainMRIResult5\n",
      "(36/39) normalize_value: column: pre_BrainMRIResult6\n",
      "(37/39) normalize_value: column: pre_BrainMRIResult7\n",
      "(38/39) normalize_value: column: pre_BrainMRIResult8\n"
     ]
    }
   ],
   "source": [
    "filename = os.sep.join([input_dir, base_filename])\n",
    "df = pd.read_csv(filename, dtype='O')\n",
    "df = COMBINE_harmonizer.normalize_value(df, _VALUE_MAP, order_map=_ORDER_MAP)\n",
    "\n",
    "out_filename = os.sep.join([out_dir, base_filename])\n",
    "df.to_csv(out_filename, index=False)"
   ]
  },
  {
   "cell_type": "code",
   "execution_count": 44,
   "id": "404a4f77",
   "metadata": {
    "execution": {
     "iopub.execute_input": "2025-01-21T19:14:19.861246Z",
     "iopub.status.busy": "2025-01-21T19:14:19.860939Z",
     "iopub.status.idle": "2025-01-21T19:14:19.876558Z",
     "shell.execute_reply": "2025-01-21T19:14:19.875915Z"
    }
   },
   "outputs": [
    {
     "name": "stdout",
     "output_type": "stream",
     "text": [
      "(0/78) center: (168/0)\n",
      "(1/78) center.orig: (168/0)\n",
      "(2/78) subjectID: (168/0)\n",
      "(3/78) subjectID.orig: (168/0)\n",
      "(4/78) uniqueID: (168/0)\n",
      "(5/78) uniqueID.orig: (168/0)\n",
      "(6/78) pre_HeadSonogram: (168/0)\n",
      "(7/78) pre_HeadSonogram.orig: (168/0)\n",
      "(8/78) pre_HeadSonogramDate: (168/0)\n",
      "(9/78) pre_HeadSonogramDate.orig: (30/138)\n",
      "(10/78) pre_HeadSonogramTime: (168/0)\n",
      "(11/78) pre_HeadSonogramTime.orig: (27/141)\n",
      "(12/78) pre_HeadSonogramResult1: (168/0)\n",
      "(13/78) pre_HeadSonogramResult1.orig: (29/139)\n",
      "(14/78) pre_HeadSonogramResult2: (168/0)\n",
      "(15/78) pre_HeadSonogramResult2.orig: (5/163)\n",
      "(16/78) pre_HeadSonogramResult3: (168/0)\n",
      "(17/78) pre_HeadSonogramResult3.orig: (1/167)\n",
      "(18/78) pre_HeadSonogramResult4: (168/0)\n",
      "(19/78) pre_HeadSonogramResult4.orig: (1/167)\n",
      "(20/78) pre_HeadSonogramResult5: (168/0)\n",
      "(21/78) pre_HeadSonogramResult5.orig: (0/168)\n",
      "(22/78) pre_HeadSonogramResult6: (168/0)\n",
      "(23/78) pre_HeadSonogramResult6.orig: (0/168)\n",
      "(24/78) pre_HeadSonogramResult7: (168/0)\n",
      "(25/78) pre_HeadSonogramResult7.orig: (0/168)\n",
      "(26/78) pre_HeadSonogramResult8: (168/0)\n",
      "(27/78) pre_HeadSonogramResult8.orig: (0/168)\n",
      "(28/78) pre_HeadSonogramResultText: (168/0)\n",
      "(29/78) pre_HeadSonogramResultText.orig: (4/164)\n",
      "(30/78) pre_HeadCT: (168/0)\n",
      "(31/78) pre_HeadCT.orig: (168/0)\n",
      "(32/78) pre_HeadCTDate: (168/0)\n",
      "(33/78) pre_HeadCTDate.orig: (14/154)\n",
      "(34/78) pre_HeadCTTime: (168/0)\n",
      "(35/78) pre_HeadCTTime.orig: (12/156)\n",
      "(36/78) pre_HeadCTResult1: (168/0)\n",
      "(37/78) pre_HeadCTResult1.orig: (14/154)\n",
      "(38/78) pre_HeadCTResult2: (168/0)\n",
      "(39/78) pre_HeadCTResult2.orig: (7/161)\n",
      "(40/78) pre_HeadCTResult3: (168/0)\n",
      "(41/78) pre_HeadCTResult3.orig: (4/164)\n",
      "(42/78) pre_HeadCTResult4: (168/0)\n",
      "(43/78) pre_HeadCTResult4.orig: (1/167)\n",
      "(44/78) pre_HeadCTResult5: (168/0)\n",
      "(45/78) pre_HeadCTResult5.orig: (0/168)\n",
      "(46/78) pre_HeadCTResult6: (168/0)\n",
      "(47/78) pre_HeadCTResult6.orig: (0/168)\n",
      "(48/78) pre_HeadCTResult7: (168/0)\n",
      "(49/78) pre_HeadCTResult7.orig: (0/168)\n",
      "(50/78) pre_HeadCTResult8: (168/0)\n",
      "(51/78) pre_HeadCTResult8.orig: (0/168)\n",
      "(52/78) pre_HeadCTResultText: (168/0)\n",
      "(53/78) pre_HeadCTResultText.orig: (4/164)\n",
      "(54/78) pre_BrainMRI: (168/0)\n",
      "(55/78) pre_BrainMRI.orig: (168/0)\n",
      "(56/78) pre_BrainMRIDate: (168/0)\n",
      "(57/78) pre_BrainMRIDate.orig: (4/164)\n",
      "(58/78) pre_BrainMRITime: (168/0)\n",
      "(59/78) pre_BrainMRITime.orig: (3/165)\n",
      "(60/78) pre_BrainMRIResult1: (168/0)\n",
      "(61/78) pre_BrainMRIResult1.orig: (4/164)\n",
      "(62/78) pre_BrainMRIResult2: (168/0)\n",
      "(63/78) pre_BrainMRIResult2.orig: (3/165)\n",
      "(64/78) pre_BrainMRIResult3: (168/0)\n",
      "(65/78) pre_BrainMRIResult3.orig: (2/166)\n",
      "(66/78) pre_BrainMRIResult4: (168/0)\n",
      "(67/78) pre_BrainMRIResult4.orig: (2/166)\n",
      "(68/78) pre_BrainMRIResult5: (168/0)\n",
      "(69/78) pre_BrainMRIResult5.orig: (1/167)\n",
      "(70/78) pre_BrainMRIResult6: (168/0)\n",
      "(71/78) pre_BrainMRIResult6.orig: (0/168)\n",
      "(72/78) pre_BrainMRIResult7: (168/0)\n",
      "(73/78) pre_BrainMRIResult7.orig: (0/168)\n",
      "(74/78) pre_BrainMRIResult8: (168/0)\n",
      "(75/78) pre_BrainMRIResult8.orig: (0/168)\n",
      "(76/78) pre_BrainMRIResultText: (168/0)\n",
      "(77/78) pre_BrainMRIResultText.orig: (2/166)\n"
     ]
    }
   ],
   "source": [
    "COMBINE_harmonizer.column_info(df)"
   ]
  },
  {
   "cell_type": "markdown",
   "id": "ae353568-f637-4c8d-aeb5-d80debd66742",
   "metadata": {},
   "source": [
    "## 02-01-temperature"
   ]
  },
  {
   "cell_type": "code",
   "execution_count": 45,
   "id": "d4686357-372f-4ca6-b8c9-3273ca33b42d",
   "metadata": {
    "execution": {
     "iopub.execute_input": "2025-01-21T19:14:19.879398Z",
     "iopub.status.busy": "2025-01-21T19:14:19.879177Z",
     "iopub.status.idle": "2025-01-21T19:14:19.881784Z",
     "shell.execute_reply": "2025-01-21T19:14:19.881331Z"
    }
   },
   "outputs": [],
   "source": [
    "_FLATTEN_IDS = ['temperatureTimeSlot']\n",
    "base_filename = '02-01-temperature.csv'"
   ]
  },
  {
   "cell_type": "code",
   "execution_count": 46,
   "id": "b582a72d-bd32-41b4-b27d-d1a7b6f8758b",
   "metadata": {
    "execution": {
     "iopub.execute_input": "2025-01-21T19:14:19.884107Z",
     "iopub.status.busy": "2025-01-21T19:14:19.883885Z",
     "iopub.status.idle": "2025-01-21T19:14:20.062187Z",
     "shell.execute_reply": "2025-01-21T19:14:20.061916Z"
    }
   },
   "outputs": [
    {
     "name": "stdout",
     "output_type": "stream",
     "text": [
      "(0/11) normalize_value: column: center\n",
      "(1/11) normalize_value: column: subjectID\n",
      "(2/11) normalize_value: column: uniqueID\n",
      "(3/11) normalize_value: column: temperatureTimeSlot\n",
      "(4/11) normalize_value: column: temperatureDate\n",
      "(5/11) normalize_value: column: temperatureTime\n",
      "(6/11) normalize_value: column: skinTemperature_C\n",
      "(7/11) normalize_value: column: axillaryTemperature_C\n",
      "(8/11) normalize_value: column: esophagealTemperature_C\n",
      "(9/11) normalize_value: column: blanketTemperature_C\n",
      "(10/11) normalize_value: column: servoSetTemperature_C\n",
      "flatten_index: flatten_ids: ['temperatureTimeSlot'] unique_id_map: {np.int64(2): np.int64(2), np.int64(15): np.int64(15), np.int64(30): np.int64(30), np.int64(45): np.int64(45), np.int64(60): np.int64(60), np.int64(75): np.int64(75), np.int64(90): np.int64(90), np.int64(105): np.int64(105), np.int64(120): np.int64(120), np.int64(135): np.int64(135), np.int64(150): np.int64(150), np.int64(165): np.int64(165), np.int64(180): np.int64(180), np.int64(240): np.int64(240), np.int64(300): np.int64(300), np.int64(360): np.int64(360), np.int64(420): np.int64(420), np.int64(480): np.int64(480), np.int64(540): np.int64(540), np.int64(600): np.int64(600), np.int64(660): np.int64(660), np.int64(720): np.int64(720), np.int64(960): np.int64(960), np.int64(1200): np.int64(1200), np.int64(1440): np.int64(1440), np.int64(1680): np.int64(1680), np.int64(1920): np.int64(1920), np.int64(2160): np.int64(2160), np.int64(2400): np.int64(2400), np.int64(2640): np.int64(2640), np.int64(2880): np.int64(2880), np.int64(3120): np.int64(3120), np.int64(3360): np.int64(3360), np.int64(3600): np.int64(3600), np.int64(3840): np.int64(3840), np.int64(4080): np.int64(4080), np.int64(4320): np.int64(4320), np.int64(4560): np.int64(4560), np.int64(4800): np.int64(4800), np.int64(5040): np.int64(5040), np.int64(5280): np.int64(5280), np.int64(5520): np.int64(5520), np.int64(5760): np.int64(5760), np.int64(6000): np.int64(6000), np.int64(6240): np.int64(6240), np.int64(6480): np.int64(6480), np.int64(6720): np.int64(6720), np.int64(6960): np.int64(6960), np.int64(7200): np.int64(7200), np.int64(7440): np.int64(7440)} the_type: int64\n"
     ]
    }
   ],
   "source": [
    "filename = os.sep.join([input_dir, base_filename])\n",
    "df = pd.read_csv(filename, dtype='O')\n",
    "df = COMBINE_harmonizer.normalize_value(df, _VALUE_MAP, _FLATTEN_IDS, order_map=_ORDER_MAP)"
   ]
  },
  {
   "cell_type": "code",
   "execution_count": 47,
   "id": "3f5f2fa5-fe5b-4327-82e1-9f42b83a9212",
   "metadata": {
    "execution": {
     "iopub.execute_input": "2025-01-21T19:14:20.063434Z",
     "iopub.status.busy": "2025-01-21T19:14:20.063363Z",
     "iopub.status.idle": "2025-01-21T19:14:20.065679Z",
     "shell.execute_reply": "2025-01-21T19:14:20.065475Z"
    }
   },
   "outputs": [
    {
     "name": "stdout",
     "output_type": "stream",
     "text": [
      "_flatten_index: ([   0  240  480  720  960 1200 1440 1680 1920 2160 2400 2640 2880 3120\n",
      " 3360 3600 3840 4080 4320 4560 4800 5040 5280 5520 5760 6000 6240 6480\n",
      "   15   30   45   60   75   90  105  120  135  150  165  180  300  360\n",
      "  420  540  600  660 6720 6960 7200 7440] / int64)\n"
     ]
    }
   ],
   "source": [
    "# XXX hack for _flatten_index: 2 as 0\n",
    "is_flatten_index_2 = df[COMBINE_harmonizer.FLATTEN_INDEX] == 2\n",
    "df.loc[is_flatten_index_2, COMBINE_harmonizer.FLATTEN_INDEX] = 0\n",
    "\n",
    "print(f\"_flatten_index: ({df[COMBINE_harmonizer.FLATTEN_INDEX].unique()} / {df[COMBINE_harmonizer.FLATTEN_INDEX].dtype})\")"
   ]
  },
  {
   "cell_type": "code",
   "execution_count": 48,
   "id": "8d20b251-2f9d-4c4e-b156-28eb3906b1e4",
   "metadata": {
    "execution": {
     "iopub.execute_input": "2025-01-21T19:14:20.066765Z",
     "iopub.status.busy": "2025-01-21T19:14:20.066698Z",
     "iopub.status.idle": "2025-01-21T19:14:20.223922Z",
     "shell.execute_reply": "2025-01-21T19:14:20.223559Z"
    }
   },
   "outputs": [],
   "source": [
    "out_filename = os.sep.join([out_dir, base_filename])\n",
    "df.to_csv(out_filename, index=False)"
   ]
  },
  {
   "cell_type": "code",
   "execution_count": 49,
   "id": "66a19492-1faa-4c11-880e-1a1f598d1466",
   "metadata": {
    "execution": {
     "iopub.execute_input": "2025-01-21T19:14:20.225826Z",
     "iopub.status.busy": "2025-01-21T19:14:20.225657Z",
     "iopub.status.idle": "2025-01-21T19:14:20.232959Z",
     "shell.execute_reply": "2025-01-21T19:14:20.232690Z"
    }
   },
   "outputs": [
    {
     "name": "stdout",
     "output_type": "stream",
     "text": [
      "(0/23) center: (6164/0)\n",
      "(1/23) center.orig: (6164/0)\n",
      "(2/23) subjectID: (6164/0)\n",
      "(3/23) subjectID.orig: (6164/0)\n",
      "(4/23) uniqueID: (6164/0)\n",
      "(5/23) uniqueID.orig: (6164/0)\n",
      "(6/23) _flatten_index: (6164/0)\n",
      "(7/23) temperatureTimeSlot: (6164/0)\n",
      "(8/23) temperatureTimeSlot.orig: (6164/0)\n",
      "(9/23) temperatureDate: (6164/0)\n",
      "(10/23) temperatureDate.orig: (6137/27)\n",
      "(11/23) temperatureTime: (6164/0)\n",
      "(12/23) temperatureTime.orig: (6127/37)\n",
      "(13/23) skinTemperature_C: (6164/0)\n",
      "(14/23) skinTemperature_C.orig: (5683/481)\n",
      "(15/23) axillaryTemperature_C: (6164/0)\n",
      "(16/23) axillaryTemperature_C.orig: (4569/1595)\n",
      "(17/23) esophagealTemperature_C: (6164/0)\n",
      "(18/23) esophagealTemperature_C.orig: (5814/350)\n",
      "(19/23) blanketTemperature_C: (6164/0)\n",
      "(20/23) blanketTemperature_C.orig: (3497/2667)\n",
      "(21/23) servoSetTemperature_C: (6164/0)\n",
      "(22/23) servoSetTemperature_C.orig: (4959/1205)\n"
     ]
    }
   ],
   "source": [
    "COMBINE_harmonizer.column_info(df)"
   ]
  },
  {
   "cell_type": "markdown",
   "id": "c583e395-90b7-4c37-8cb9-d9eb99f831cc",
   "metadata": {},
   "source": [
    "## 02-02-cardiovascular"
   ]
  },
  {
   "cell_type": "code",
   "execution_count": 50,
   "id": "e442364a-4653-4988-8bdd-4eb98cb7b691",
   "metadata": {
    "execution": {
     "iopub.execute_input": "2025-01-21T19:14:20.234652Z",
     "iopub.status.busy": "2025-01-21T19:14:20.234504Z",
     "iopub.status.idle": "2025-01-21T19:14:20.236340Z",
     "shell.execute_reply": "2025-01-21T19:14:20.236078Z"
    }
   },
   "outputs": [],
   "source": [
    "_FLATTEN_IDS = ['cardioTimeSlot']\n",
    "base_filename = '02-02-cardiovascular.csv'"
   ]
  },
  {
   "cell_type": "code",
   "execution_count": 51,
   "id": "14d0cbbe-df6c-4005-aee1-042dd3135fba",
   "metadata": {
    "execution": {
     "iopub.execute_input": "2025-01-21T19:14:20.237704Z",
     "iopub.status.busy": "2025-01-21T19:14:20.237589Z",
     "iopub.status.idle": "2025-01-21T19:14:20.373642Z",
     "shell.execute_reply": "2025-01-21T19:14:20.373368Z"
    }
   },
   "outputs": [
    {
     "name": "stdout",
     "output_type": "stream",
     "text": [
      "(0/13) normalize_value: column: center\n",
      "(1/13) normalize_value: column: subjectID\n",
      "(2/13) normalize_value: column: uniqueID\n",
      "(3/13) normalize_value: column: cardioVolumeExpand\n",
      "(4/13) normalize_value: column: cardioInotropicAgent\n",
      "(5/13) normalize_value: column: cardioBloodTransfusion\n",
      "(6/13) normalize_value: column: cardioPlatelets\n",
      "(7/13) normalize_value: column: cardioTimeSlot\n",
      "(8/13) normalize_value: column: cardioDate\n",
      "(9/13) normalize_value: column: cardioTime\n",
      "(10/13) normalize_value: column: cardioSystolicBloodPressure_mmHg\n",
      "(11/13) normalize_value: column: cardioDiastolicBloodPressure_mmHg\n",
      "(12/13) normalize_value: column: cardioHeartRate_BPM\n",
      "flatten_index: flatten_ids: ['cardioTimeSlot'] unique_id_map: {np.int64(1): np.int64(1), np.int64(4): np.int64(4), np.int64(8): np.int64(8), np.int64(12): np.int64(12), np.int64(16): np.int64(16), np.int64(20): np.int64(20), np.int64(24): np.int64(24), np.int64(28): np.int64(28), np.int64(32): np.int64(32), np.int64(36): np.int64(36), np.int64(40): np.int64(40), np.int64(44): np.int64(44), np.int64(48): np.int64(48), np.int64(52): np.int64(52), np.int64(56): np.int64(56), np.int64(60): np.int64(60), np.int64(64): np.int64(64), np.int64(68): np.int64(68), np.int64(72): np.int64(72), np.int64(76): np.int64(76), np.int64(80): np.int64(80), np.int64(84): np.int64(84), np.int64(88): np.int64(88), np.int64(92): np.int64(92), np.int64(96): np.int64(96)} the_type: int64\n"
     ]
    }
   ],
   "source": [
    "filename = os.sep.join([input_dir, base_filename])\n",
    "df = pd.read_csv(filename, dtype='O')\n",
    "df = COMBINE_harmonizer.normalize_value(df, _VALUE_MAP, _FLATTEN_IDS, order_map=_ORDER_MAP)"
   ]
  },
  {
   "cell_type": "code",
   "execution_count": 52,
   "id": "0e7a1525",
   "metadata": {
    "execution": {
     "iopub.execute_input": "2025-01-21T19:14:20.374963Z",
     "iopub.status.busy": "2025-01-21T19:14:20.374879Z",
     "iopub.status.idle": "2025-01-21T19:14:20.377330Z",
     "shell.execute_reply": "2025-01-21T19:14:20.377091Z"
    }
   },
   "outputs": [
    {
     "name": "stdout",
     "output_type": "stream",
     "text": [
      "_flatten_index: ([ 0  4  8 12 16 20 24 28 32 36 40 44 48 52 56 60 64 68 72 76 80 84 88 92\n",
      " 96] / int64)\n"
     ]
    }
   ],
   "source": [
    "# XXX hack for _flatten_index: 1 as 0\n",
    "is_flatten_index_1 = df[COMBINE_harmonizer.FLATTEN_INDEX] == 1\n",
    "df.loc[is_flatten_index_1, COMBINE_harmonizer.FLATTEN_INDEX] = 0\n",
    "\n",
    "print(f\"_flatten_index: ({df[COMBINE_harmonizer.FLATTEN_INDEX].unique()} / {df[COMBINE_harmonizer.FLATTEN_INDEX].dtype})\")"
   ]
  },
  {
   "cell_type": "code",
   "execution_count": 53,
   "id": "ea899141",
   "metadata": {
    "execution": {
     "iopub.execute_input": "2025-01-21T19:14:20.378450Z",
     "iopub.status.busy": "2025-01-21T19:14:20.378377Z",
     "iopub.status.idle": "2025-01-21T19:14:20.508577Z",
     "shell.execute_reply": "2025-01-21T19:14:20.508237Z"
    }
   },
   "outputs": [],
   "source": [
    "out_filename = os.sep.join([out_dir, base_filename])\n",
    "df.to_csv(out_filename, index=False)"
   ]
  },
  {
   "cell_type": "code",
   "execution_count": 54,
   "id": "6f8ea815-77b8-436b-b7a4-bb7e8443453c",
   "metadata": {
    "execution": {
     "iopub.execute_input": "2025-01-21T19:14:20.510406Z",
     "iopub.status.busy": "2025-01-21T19:14:20.510278Z",
     "iopub.status.idle": "2025-01-21T19:14:20.517443Z",
     "shell.execute_reply": "2025-01-21T19:14:20.517166Z"
    }
   },
   "outputs": [
    {
     "name": "stdout",
     "output_type": "stream",
     "text": [
      "(0/27) center: (4056/0)\n",
      "(1/27) center.orig: (4056/0)\n",
      "(2/27) subjectID: (4056/0)\n",
      "(3/27) subjectID.orig: (4056/0)\n",
      "(4/27) uniqueID: (4056/0)\n",
      "(5/27) uniqueID.orig: (4056/0)\n",
      "(6/27) _flatten_index: (4056/0)\n",
      "(7/27) cardioTimeSlot: (4056/0)\n",
      "(8/27) cardioTimeSlot.orig: (4056/0)\n",
      "(9/27) cardioDate: (4056/0)\n",
      "(10/27) cardioDate.orig: (4053/3)\n",
      "(11/27) cardioTime: (4056/0)\n",
      "(12/27) cardioTime.orig: (4053/3)\n",
      "(13/27) cardioSystolicBloodPressure_mmHg: (4056/0)\n",
      "(14/27) cardioSystolicBloodPressure_mmHg.orig: (3657/399)\n",
      "(15/27) cardioDiastolicBloodPressure_mmHg: (4056/0)\n",
      "(16/27) cardioDiastolicBloodPressure_mmHg.orig: (3656/400)\n",
      "(17/27) cardioHeartRate_BPM: (4056/0)\n",
      "(18/27) cardioHeartRate_BPM.orig: (4025/31)\n",
      "(19/27) cardioVolumeExpand: (4056/0)\n",
      "(20/27) cardioVolumeExpand.orig: (4056/0)\n",
      "(21/27) cardioInotropicAgent: (4056/0)\n",
      "(22/27) cardioInotropicAgent.orig: (4056/0)\n",
      "(23/27) cardioBloodTransfusion: (4056/0)\n",
      "(24/27) cardioBloodTransfusion.orig: (4056/0)\n",
      "(25/27) cardioPlatelets: (4056/0)\n",
      "(26/27) cardioPlatelets.orig: (4056/0)\n"
     ]
    }
   ],
   "source": [
    "COMBINE_harmonizer.column_info(df)"
   ]
  },
  {
   "cell_type": "markdown",
   "id": "08e7303a-488a-4f06-99b2-fc02e8144db3",
   "metadata": {},
   "source": [
    "## 02-03-respiratory"
   ]
  },
  {
   "cell_type": "code",
   "execution_count": 55,
   "id": "e9949f4d",
   "metadata": {
    "execution": {
     "iopub.execute_input": "2025-01-21T19:14:20.519034Z",
     "iopub.status.busy": "2025-01-21T19:14:20.518931Z",
     "iopub.status.idle": "2025-01-21T19:14:20.520793Z",
     "shell.execute_reply": "2025-01-21T19:14:20.520495Z"
    }
   },
   "outputs": [],
   "source": [
    "_FLATTEN_IDS = ['respiratoryTimeSlot']\n",
    "base_filename = '02-03-respiratory.csv'"
   ]
  },
  {
   "cell_type": "code",
   "execution_count": 56,
   "id": "74f1f164",
   "metadata": {
    "execution": {
     "iopub.execute_input": "2025-01-21T19:14:20.522307Z",
     "iopub.status.busy": "2025-01-21T19:14:20.522163Z",
     "iopub.status.idle": "2025-01-21T19:14:20.635966Z",
     "shell.execute_reply": "2025-01-21T19:14:20.635547Z"
    }
   },
   "outputs": [
    {
     "name": "stdout",
     "output_type": "stream",
     "text": [
      "(0/12) normalize_value: column: center\n",
      "(1/12) normalize_value: column: subjectID\n",
      "(2/12) normalize_value: column: uniqueID\n",
      "(3/12) normalize_value: column: respiratoryTimeSlot\n",
      "(4/12) normalize_value: column: respiratoryDate\n",
      "(5/12) normalize_value: column: respiratoryTime\n",
      "(6/12) normalize_value: column: respiratorySupportType\n",
      "(7/12) normalize_value: column: respiratoryFiO2\n",
      "(8/12) normalize_value: column: respiratoryRate_Hz\n",
      "(9/12) normalize_value: column: respiratoryPIP_cmH2O\n",
      "(10/12) normalize_value: column: respiratoryMAP_cmH2O\n",
      "(11/12) normalize_value: column: respiratoryPEEP_cmH2O\n",
      "flatten_index: flatten_ids: ['respiratoryTimeSlot'] unique_id_map: {np.int64(0): np.int64(0), np.int64(24): np.int64(24), np.int64(48): np.int64(48), np.int64(72): np.int64(72), np.int64(96): np.int64(96)} the_type: int64\n"
     ]
    }
   ],
   "source": [
    "filename = os.sep.join([input_dir, base_filename])\n",
    "df = pd.read_csv(filename, dtype='O')\n",
    "df = COMBINE_harmonizer.normalize_value(df, _VALUE_MAP, _FLATTEN_IDS, order_map=_ORDER_MAP)\n",
    "\n",
    "out_filename = os.sep.join([out_dir, base_filename])\n",
    "df.to_csv(out_filename, index=False)"
   ]
  },
  {
   "cell_type": "code",
   "execution_count": 57,
   "id": "96310b27",
   "metadata": {
    "execution": {
     "iopub.execute_input": "2025-01-21T19:14:20.637633Z",
     "iopub.status.busy": "2025-01-21T19:14:20.637505Z",
     "iopub.status.idle": "2025-01-21T19:14:20.641872Z",
     "shell.execute_reply": "2025-01-21T19:14:20.641561Z"
    }
   },
   "outputs": [
    {
     "name": "stdout",
     "output_type": "stream",
     "text": [
      "(0/25) center: (815/0)\n",
      "(1/25) center.orig: (815/0)\n",
      "(2/25) subjectID: (815/0)\n",
      "(3/25) subjectID.orig: (815/0)\n",
      "(4/25) uniqueID: (815/0)\n",
      "(5/25) uniqueID.orig: (815/0)\n",
      "(6/25) _flatten_index: (815/0)\n",
      "(7/25) respiratoryTimeSlot: (815/0)\n",
      "(8/25) respiratoryTimeSlot.orig: (815/0)\n",
      "(9/25) respiratoryDate: (815/0)\n",
      "(10/25) respiratoryDate.orig: (814/1)\n",
      "(11/25) respiratoryTime: (815/0)\n",
      "(12/25) respiratoryTime.orig: (814/1)\n",
      "(13/25) respiratorySupportType: (815/0)\n",
      "(14/25) respiratorySupportType.orig: (813/2)\n",
      "(15/25) respiratoryFiO2: (815/0)\n",
      "(16/25) respiratoryFiO2.orig: (412/403)\n",
      "(17/25) respiratoryRate_Hz: (815/0)\n",
      "(18/25) respiratoryRate_Hz.orig: (275/540)\n",
      "(19/25) respiratoryPIP_cmH2O: (815/0)\n",
      "(20/25) respiratoryPIP_cmH2O.orig: (269/546)\n",
      "(21/25) respiratoryMAP_cmH2O: (815/0)\n",
      "(22/25) respiratoryMAP_cmH2O.orig: (262/553)\n",
      "(23/25) respiratoryPEEP_cmH2O: (815/0)\n",
      "(24/25) respiratoryPEEP_cmH2O.orig: (227/588)\n"
     ]
    }
   ],
   "source": [
    "COMBINE_harmonizer.column_info(df)"
   ]
  },
  {
   "cell_type": "markdown",
   "id": "ed9226e5-8bf2-4d95-b027-eaa4b86c4327",
   "metadata": {},
   "source": [
    "## 02-04-blood-gas"
   ]
  },
  {
   "cell_type": "code",
   "execution_count": 58,
   "id": "ca6889d6-ccc9-469f-9475-45866653bdaa",
   "metadata": {
    "execution": {
     "iopub.execute_input": "2025-01-21T19:14:20.643540Z",
     "iopub.status.busy": "2025-01-21T19:14:20.643429Z",
     "iopub.status.idle": "2025-01-21T19:14:20.645457Z",
     "shell.execute_reply": "2025-01-21T19:14:20.645163Z"
    }
   },
   "outputs": [],
   "source": [
    "_FLATTEN_IDS = ['bloodGasTimeSlot']\n",
    "base_filename = '02-04-blood-gas.csv'\n"
   ]
  },
  {
   "cell_type": "code",
   "execution_count": 59,
   "id": "a7f1372c",
   "metadata": {
    "execution": {
     "iopub.execute_input": "2025-01-21T19:14:20.646931Z",
     "iopub.status.busy": "2025-01-21T19:14:20.646829Z",
     "iopub.status.idle": "2025-01-21T19:14:20.804015Z",
     "shell.execute_reply": "2025-01-21T19:14:20.803621Z"
    }
   },
   "outputs": [
    {
     "name": "stdout",
     "output_type": "stream",
     "text": [
      "(0/11) normalize_value: column: center\n",
      "(1/11) normalize_value: column: subjectID\n",
      "(2/11) normalize_value: column: uniqueID\n",
      "(3/11) normalize_value: column: bloodGasTimeSlot\n",
      "(4/11) normalize_value: column: bloodGasDate\n",
      "(5/11) normalize_value: column: bloodGasTime\n",
      "(6/11) normalize_value: column: bloodGasPH\n",
      "(7/11) normalize_value: column: bloodGasPCO2_mmHg\n",
      "(8/11) normalize_value: column: bloodGasPO2_mmHg\n",
      "(9/11) normalize_value: column: bloodGasHCO3_mEqPerL\n",
      "(10/11) normalize_value: column: bloodGasBaseDeficit_mEqPerL\n",
      "flatten_index: flatten_ids: ['bloodGasTimeSlot'] unique_id_map: {np.int64(0): np.int64(0), np.int64(4): np.int64(4), np.int64(8): np.int64(8), np.int64(12): np.int64(12), np.int64(24): np.int64(24), np.int64(48): np.int64(48), np.int64(72): np.int64(72), np.int64(96): np.int64(96)} the_type: int64\n"
     ]
    }
   ],
   "source": [
    "filename = os.sep.join([input_dir, base_filename])\n",
    "df = pd.read_csv(filename, dtype='O')\n",
    "df = COMBINE_harmonizer.normalize_value(df, _VALUE_MAP, _FLATTEN_IDS, order_map=_ORDER_MAP)\n",
    "\n",
    "out_filename = os.sep.join([out_dir, base_filename])\n",
    "df.to_csv(out_filename, index=False)"
   ]
  },
  {
   "cell_type": "markdown",
   "id": "617d24d0-a76e-478d-a485-cb3644119f24",
   "metadata": {},
   "source": [
    "## 02-05-hematology"
   ]
  },
  {
   "cell_type": "code",
   "execution_count": 60,
   "id": "ca86f91d-1fcf-44ce-817b-fd5da58bf697",
   "metadata": {
    "execution": {
     "iopub.execute_input": "2025-01-21T19:14:20.805684Z",
     "iopub.status.busy": "2025-01-21T19:14:20.805587Z",
     "iopub.status.idle": "2025-01-21T19:14:20.807584Z",
     "shell.execute_reply": "2025-01-21T19:14:20.807209Z"
    }
   },
   "outputs": [],
   "source": [
    "_FLATTEN_IDS = ['hematologyTimeSlot']\n",
    "base_filename = '02-05-hematology.csv'"
   ]
  },
  {
   "cell_type": "code",
   "execution_count": 61,
   "id": "90e78fce-1a16-4cfa-b8ee-094fed920ec5",
   "metadata": {
    "execution": {
     "iopub.execute_input": "2025-01-21T19:14:20.809252Z",
     "iopub.status.busy": "2025-01-21T19:14:20.809148Z",
     "iopub.status.idle": "2025-01-21T19:14:20.948053Z",
     "shell.execute_reply": "2025-01-21T19:14:20.947586Z"
    }
   },
   "outputs": [
    {
     "name": "stdout",
     "output_type": "stream",
     "text": [
      "(0/14) normalize_value: column: center\n",
      "(1/14) normalize_value: column: subjectID\n",
      "(2/14) normalize_value: column: uniqueID\n",
      "(3/14) normalize_value: column: hematologyTimeSlot\n",
      "(4/14) normalize_value: column: hematologyDate\n",
      "(5/14) normalize_value: column: hematologyTime\n",
      "(6/14) normalize_value: column: hematologyWBC\n",
      "(7/14) normalize_value: column: hematologyHemoglobin\n",
      "(8/14) normalize_value: column: hematologyPolymorphNeutrophilsDifferentialCount\n",
      "(9/14) normalize_value: column: hematologyMonocytes\n",
      "(10/14) normalize_value: column: hematologyLymphocytes\n",
      "(11/14) normalize_value: column: hematologyPlateletCount\n",
      "(12/14) normalize_value: column: hematologyPT_s\n",
      "(13/14) normalize_value: column: hematologyPTT_s\n",
      "flatten_index: flatten_ids: ['hematologyTimeSlot'] unique_id_map: {np.int64(0): np.int64(0), np.int64(24): np.int64(24), np.int64(48): np.int64(48), np.int64(72): np.int64(72), np.int64(96): np.int64(96)} the_type: int64\n"
     ]
    }
   ],
   "source": [
    "filename = os.sep.join([input_dir, base_filename])\n",
    "df = pd.read_csv(filename, dtype='O')\n",
    "df = COMBINE_harmonizer.normalize_value(df, _VALUE_MAP, _FLATTEN_IDS, order_map=_ORDER_MAP)\n",
    "\n",
    "out_filename = os.sep.join([out_dir, base_filename])\n",
    "df.to_csv(out_filename, index=False)"
   ]
  },
  {
   "cell_type": "code",
   "execution_count": 62,
   "id": "f873293c-00b3-4bc2-b2de-fa749d464fc2",
   "metadata": {
    "execution": {
     "iopub.execute_input": "2025-01-21T19:14:20.950260Z",
     "iopub.status.busy": "2025-01-21T19:14:20.950045Z",
     "iopub.status.idle": "2025-01-21T19:14:20.956234Z",
     "shell.execute_reply": "2025-01-21T19:14:20.955836Z"
    }
   },
   "outputs": [
    {
     "name": "stdout",
     "output_type": "stream",
     "text": [
      "(0/29) center: (763/0)\n",
      "(1/29) center.orig: (763/0)\n",
      "(2/29) subjectID: (763/0)\n",
      "(3/29) subjectID.orig: (763/0)\n",
      "(4/29) uniqueID: (763/0)\n",
      "(5/29) uniqueID.orig: (763/0)\n",
      "(6/29) _flatten_index: (763/0)\n",
      "(7/29) hematologyTimeSlot: (763/0)\n",
      "(8/29) hematologyTimeSlot.orig: (763/0)\n",
      "(9/29) hematologyDate: (763/0)\n",
      "(10/29) hematologyDate.orig: (625/138)\n",
      "(11/29) hematologyTime: (763/0)\n",
      "(12/29) hematologyTime.orig: (564/199)\n",
      "(13/29) hematologyWBC: (763/0)\n",
      "(14/29) hematologyWBC.orig: (454/309)\n",
      "(15/29) hematologyHemoglobin: (763/0)\n",
      "(16/29) hematologyHemoglobin.orig: (475/288)\n",
      "(17/29) hematologyPolymorphNeutrophilsDifferentialCount: (763/0)\n",
      "(18/29) hematologyPolymorphNeutrophilsDifferentialCount.orig: (400/363)\n",
      "(19/29) hematologyMonocytes: (763/0)\n",
      "(20/29) hematologyMonocytes.orig: (399/364)\n",
      "(21/29) hematologyLymphocytes: (763/0)\n",
      "(22/29) hematologyLymphocytes.orig: (405/358)\n",
      "(23/29) hematologyPlateletCount: (763/0)\n",
      "(24/29) hematologyPlateletCount.orig: (469/294)\n",
      "(25/29) hematologyPT_s: (763/0)\n",
      "(26/29) hematologyPT_s.orig: (190/573)\n",
      "(27/29) hematologyPTT_s: (763/0)\n",
      "(28/29) hematologyPTT_s.orig: (179/584)\n"
     ]
    }
   ],
   "source": [
    "COMBINE_harmonizer.column_info(df)"
   ]
  },
  {
   "cell_type": "markdown",
   "id": "a1c68fc3",
   "metadata": {},
   "source": [
    "## 02-05_s-hematology"
   ]
  },
  {
   "cell_type": "code",
   "execution_count": 63,
   "id": "7f296f2a",
   "metadata": {
    "execution": {
     "iopub.execute_input": "2025-01-21T19:14:20.958315Z",
     "iopub.status.busy": "2025-01-21T19:14:20.958131Z",
     "iopub.status.idle": "2025-01-21T19:14:20.960277Z",
     "shell.execute_reply": "2025-01-21T19:14:20.959906Z"
    }
   },
   "outputs": [],
   "source": [
    "base_filename = '02-05_s-hematology.csv'"
   ]
  },
  {
   "cell_type": "code",
   "execution_count": 64,
   "id": "456d17fa",
   "metadata": {
    "execution": {
     "iopub.execute_input": "2025-01-21T19:14:20.962099Z",
     "iopub.status.busy": "2025-01-21T19:14:20.961936Z",
     "iopub.status.idle": "2025-01-21T19:14:21.060544Z",
     "shell.execute_reply": "2025-01-21T19:14:21.059066Z"
    }
   },
   "outputs": [
    {
     "name": "stdout",
     "output_type": "stream",
     "text": [
      "(0/5) normalize_value: column: center\n",
      "(1/5) normalize_value: column: subjectID\n",
      "(2/5) normalize_value: column: uniqueID\n",
      "(3/5) normalize_value: column: hematologyHematocritMin\n",
      "(4/5) normalize_value: column: hematologyPlateletCountMin\n"
     ]
    }
   ],
   "source": [
    "filename = os.sep.join([input_dir, base_filename])\n",
    "df = pd.read_csv(filename, dtype='O')\n",
    "df = COMBINE_harmonizer.normalize_value(df, _VALUE_MAP, order_map=_ORDER_MAP)\n",
    "\n",
    "out_filename = os.sep.join([out_dir, base_filename])\n",
    "df.to_csv(out_filename, index=False)"
   ]
  },
  {
   "cell_type": "code",
   "execution_count": 65,
   "id": "8c98ce8c",
   "metadata": {
    "execution": {
     "iopub.execute_input": "2025-01-21T19:14:21.066148Z",
     "iopub.status.busy": "2025-01-21T19:14:21.065511Z",
     "iopub.status.idle": "2025-01-21T19:14:21.073610Z",
     "shell.execute_reply": "2025-01-21T19:14:21.073035Z"
    }
   },
   "outputs": [
    {
     "name": "stdout",
     "output_type": "stream",
     "text": [
      "(0/10) center: (168/0)\n",
      "(1/10) center.orig: (168/0)\n",
      "(2/10) subjectID: (168/0)\n",
      "(3/10) subjectID.orig: (168/0)\n",
      "(4/10) uniqueID: (168/0)\n",
      "(5/10) uniqueID.orig: (168/0)\n",
      "(6/10) hematologyHematocritMin: (168/0)\n",
      "(7/10) hematologyHematocritMin.orig: (163/5)\n",
      "(8/10) hematologyPlateletCountMin: (168/0)\n",
      "(9/10) hematologyPlateletCountMin.orig: (161/7)\n"
     ]
    }
   ],
   "source": [
    "COMBINE_harmonizer.column_info(df)"
   ]
  },
  {
   "cell_type": "markdown",
   "id": "ab42fc35",
   "metadata": {},
   "source": [
    "## 02-06_s-blood-value"
   ]
  },
  {
   "cell_type": "code",
   "execution_count": 66,
   "id": "44f88a98",
   "metadata": {
    "execution": {
     "iopub.execute_input": "2025-01-21T19:14:21.076343Z",
     "iopub.status.busy": "2025-01-21T19:14:21.076140Z",
     "iopub.status.idle": "2025-01-21T19:14:21.079144Z",
     "shell.execute_reply": "2025-01-21T19:14:21.078625Z"
    }
   },
   "outputs": [],
   "source": [
    "base_filename = '02-06_s-blood-value.csv'"
   ]
  },
  {
   "cell_type": "code",
   "execution_count": 67,
   "id": "940d54a8",
   "metadata": {
    "execution": {
     "iopub.execute_input": "2025-01-21T19:14:21.081430Z",
     "iopub.status.busy": "2025-01-21T19:14:21.081225Z",
     "iopub.status.idle": "2025-01-21T19:14:21.236690Z",
     "shell.execute_reply": "2025-01-21T19:14:21.235673Z"
    }
   },
   "outputs": [
    {
     "name": "stdout",
     "output_type": "stream",
     "text": [
      "(0/39) normalize_value: column: center\n",
      "(1/39) normalize_value: column: subjectID\n",
      "(2/39) normalize_value: column: uniqueID\n",
      "(3/39) normalize_value: column: bloodValuePHMin\n",
      "(4/39) normalize_value: column: bloodValuePHMinDate\n",
      "(5/39) normalize_value: column: bloodValuePHMax\n",
      "(6/39) normalize_value: column: bloodValuePHMaxDate\n",
      "(7/39) normalize_value: column: bloodValueHCO3Min_mEqPerL\n",
      "(8/39) normalize_value: column: bloodValueHCO3Min_mEqPerLDate\n",
      "(9/39) normalize_value: column: bloodValueBaseDeficitMax_mEqPerL\n",
      "(10/39) normalize_value: column: bloodValueBaseDeficitMax_mEqPerLDate\n",
      "(11/39) normalize_value: column: bloodValueSerumNaMin_mEqPerL\n",
      "(12/39) normalize_value: column: bloodValueSerumNaMin_mEqPerLDate\n",
      "(13/39) normalize_value: column: bloodValueSerumNaMax_mEqPerL\n",
      "(14/39) normalize_value: column: bloodValueSerumNaMax_mEqPerLDate\n",
      "(15/39) normalize_value: column: bloodValueSerumKMin_mEqPerL\n",
      "(16/39) normalize_value: column: bloodValueSerumKMin_mEqPerLDate\n",
      "(17/39) normalize_value: column: bloodValueSerumKMax_mEqPerL\n",
      "(18/39) normalize_value: column: bloodValueSerumKMax_mEqPerLDate\n",
      "(19/39) normalize_value: column: bloodValueClMin_mEqPerL\n",
      "(20/39) normalize_value: column: bloodValueClMin_mEqPerLDate\n",
      "(21/39) normalize_value: column: bloodValueClMax_mEqPerL\n",
      "(22/39) normalize_value: column: bloodValueClMax_mEqPerLDate\n",
      "(23/39) normalize_value: column: bloodValueBunMax_mgPerdL\n",
      "(24/39) normalize_value: column: bloodValueBunMax_mgPerdLDate\n",
      "(25/39) normalize_value: column: bloodValueCreatinineMax_mgPerdL\n",
      "(26/39) normalize_value: column: bloodValueCreatinineMax_mgPerdLDate\n",
      "(27/39) normalize_value: column: bloodValueGlucoseMin_mgPerdL\n",
      "(28/39) normalize_value: column: bloodValueGlucoseMin_mgPerdLDate\n",
      "(29/39) normalize_value: column: bloodValueGlucoseMax_mgPerdL\n",
      "(30/39) normalize_value: column: bloodValueGlucoseMax_mgPerdLDate\n",
      "(31/39) normalize_value: column: bloodValueTotalCaMin_mgPerdL\n",
      "(32/39) normalize_value: column: bloodValueTotalCaMin_mgPerdLDate\n",
      "(33/39) normalize_value: column: bloodValueIonCaMin_mgPerdL\n",
      "(34/39) normalize_value: column: bloodValueIonCaMin_mgPerdLDate\n",
      "(35/39) normalize_value: column: bloodValueASTSGOTMax_UPerL\n",
      "(36/39) normalize_value: column: bloodValueASTSGOTMax_UPerLDate\n",
      "(37/39) normalize_value: column: bloodValueALTSGPTMax_UPerL\n",
      "(38/39) normalize_value: column: bloodValueALTSGPTMax_UPerLDate\n"
     ]
    }
   ],
   "source": [
    "filename = os.sep.join([input_dir, base_filename])\n",
    "df = pd.read_csv(filename, dtype='O')\n",
    "df = COMBINE_harmonizer.normalize_value(df, _VALUE_MAP, order_map=_ORDER_MAP)\n",
    "\n",
    "out_filename = os.sep.join([out_dir, base_filename])\n",
    "df.to_csv(out_filename, index=False)"
   ]
  },
  {
   "cell_type": "code",
   "execution_count": 68,
   "id": "7b11e612",
   "metadata": {
    "execution": {
     "iopub.execute_input": "2025-01-21T19:14:21.243327Z",
     "iopub.status.busy": "2025-01-21T19:14:21.242735Z",
     "iopub.status.idle": "2025-01-21T19:14:21.255073Z",
     "shell.execute_reply": "2025-01-21T19:14:21.254513Z"
    }
   },
   "outputs": [
    {
     "name": "stdout",
     "output_type": "stream",
     "text": [
      "(0/78) center: (168/0)\n",
      "(1/78) center.orig: (168/0)\n",
      "(2/78) subjectID: (168/0)\n",
      "(3/78) subjectID.orig: (168/0)\n",
      "(4/78) uniqueID: (168/0)\n",
      "(5/78) uniqueID.orig: (168/0)\n",
      "(6/78) bloodValuePHMin: (168/0)\n",
      "(7/78) bloodValuePHMin.orig: (156/12)\n",
      "(8/78) bloodValuePHMinDate: (168/0)\n",
      "(9/78) bloodValuePHMinDate.orig: (156/12)\n",
      "(10/78) bloodValueHCO3Min_mEqPerL: (168/0)\n",
      "(11/78) bloodValueHCO3Min_mEqPerL.orig: (155/13)\n",
      "(12/78) bloodValueHCO3Min_mEqPerLDate: (168/0)\n",
      "(13/78) bloodValueHCO3Min_mEqPerLDate.orig: (155/13)\n",
      "(14/78) bloodValueSerumNaMin_mEqPerL: (168/0)\n",
      "(15/78) bloodValueSerumNaMin_mEqPerL.orig: (168/0)\n",
      "(16/78) bloodValueSerumNaMin_mEqPerLDate: (168/0)\n",
      "(17/78) bloodValueSerumNaMin_mEqPerLDate.orig: (168/0)\n",
      "(18/78) bloodValueSerumKMin_mEqPerL: (168/0)\n",
      "(19/78) bloodValueSerumKMin_mEqPerL.orig: (168/0)\n",
      "(20/78) bloodValueSerumKMin_mEqPerLDate: (168/0)\n",
      "(21/78) bloodValueSerumKMin_mEqPerLDate.orig: (168/0)\n",
      "(22/78) bloodValueClMin_mEqPerL: (168/0)\n",
      "(23/78) bloodValueClMin_mEqPerL.orig: (166/2)\n",
      "(24/78) bloodValueClMin_mEqPerLDate: (168/0)\n",
      "(25/78) bloodValueClMin_mEqPerLDate.orig: (166/2)\n",
      "(26/78) bloodValueGlucoseMin_mgPerdL: (168/0)\n",
      "(27/78) bloodValueGlucoseMin_mgPerdL.orig: (167/1)\n",
      "(28/78) bloodValueGlucoseMin_mgPerdLDate: (168/0)\n",
      "(29/78) bloodValueGlucoseMin_mgPerdLDate.orig: (167/1)\n",
      "(30/78) bloodValueTotalCaMin_mgPerdL: (168/0)\n",
      "(31/78) bloodValueTotalCaMin_mgPerdL.orig: (154/14)\n",
      "(32/78) bloodValueTotalCaMin_mgPerdLDate: (168/0)\n",
      "(33/78) bloodValueTotalCaMin_mgPerdLDate.orig: (154/14)\n",
      "(34/78) bloodValueIonCaMin_mgPerdL: (168/0)\n",
      "(35/78) bloodValueIonCaMin_mgPerdL.orig: (104/64)\n",
      "(36/78) bloodValueIonCaMin_mgPerdLDate: (168/0)\n",
      "(37/78) bloodValueIonCaMin_mgPerdLDate.orig: (104/64)\n",
      "(38/78) bloodValuePHMax: (168/0)\n",
      "(39/78) bloodValuePHMax.orig: (155/13)\n",
      "(40/78) bloodValuePHMaxDate: (168/0)\n",
      "(41/78) bloodValuePHMaxDate.orig: (155/13)\n",
      "(42/78) bloodValueBaseDeficitMax_mEqPerL: (168/0)\n",
      "(43/78) bloodValueBaseDeficitMax_mEqPerL.orig: (154/14)\n",
      "(44/78) bloodValueBaseDeficitMax_mEqPerLDate: (168/0)\n",
      "(45/78) bloodValueBaseDeficitMax_mEqPerLDate.orig: (154/14)\n",
      "(46/78) bloodValueSerumNaMax_mEqPerL: (168/0)\n",
      "(47/78) bloodValueSerumNaMax_mEqPerL.orig: (168/0)\n",
      "(48/78) bloodValueSerumNaMax_mEqPerLDate: (168/0)\n",
      "(49/78) bloodValueSerumNaMax_mEqPerLDate.orig: (168/0)\n",
      "(50/78) bloodValueSerumKMax_mEqPerL: (168/0)\n",
      "(51/78) bloodValueSerumKMax_mEqPerL.orig: (166/2)\n",
      "(52/78) bloodValueSerumKMax_mEqPerLDate: (168/0)\n",
      "(53/78) bloodValueSerumKMax_mEqPerLDate.orig: (167/1)\n",
      "(54/78) bloodValueClMax_mEqPerL: (168/0)\n",
      "(55/78) bloodValueClMax_mEqPerL.orig: (165/3)\n",
      "(56/78) bloodValueClMax_mEqPerLDate: (168/0)\n",
      "(57/78) bloodValueClMax_mEqPerLDate.orig: (165/3)\n",
      "(58/78) bloodValueBunMax_mgPerdL: (168/0)\n",
      "(59/78) bloodValueBunMax_mgPerdL.orig: (164/4)\n",
      "(60/78) bloodValueBunMax_mgPerdLDate: (168/0)\n",
      "(61/78) bloodValueBunMax_mgPerdLDate.orig: (164/4)\n",
      "(62/78) bloodValueCreatinineMax_mgPerdL: (168/0)\n",
      "(63/78) bloodValueCreatinineMax_mgPerdL.orig: (164/4)\n",
      "(64/78) bloodValueCreatinineMax_mgPerdLDate: (168/0)\n",
      "(65/78) bloodValueCreatinineMax_mgPerdLDate.orig: (164/4)\n",
      "(66/78) bloodValueGlucoseMax_mgPerdL: (168/0)\n",
      "(67/78) bloodValueGlucoseMax_mgPerdL.orig: (167/1)\n",
      "(68/78) bloodValueGlucoseMax_mgPerdLDate: (168/0)\n",
      "(69/78) bloodValueGlucoseMax_mgPerdLDate.orig: (167/1)\n",
      "(70/78) bloodValueASTSGOTMax_UPerL: (168/0)\n",
      "(71/78) bloodValueASTSGOTMax_UPerL.orig: (134/34)\n",
      "(72/78) bloodValueASTSGOTMax_UPerLDate: (168/0)\n",
      "(73/78) bloodValueASTSGOTMax_UPerLDate.orig: (137/31)\n",
      "(74/78) bloodValueALTSGPTMax_UPerL: (168/0)\n",
      "(75/78) bloodValueALTSGPTMax_UPerL.orig: (142/26)\n",
      "(76/78) bloodValueALTSGPTMax_UPerLDate: (168/0)\n",
      "(77/78) bloodValueALTSGPTMax_UPerLDate.orig: (143/25)\n"
     ]
    }
   ],
   "source": [
    "COMBINE_harmonizer.column_info(df)"
   ]
  },
  {
   "cell_type": "markdown",
   "id": "009acd4c",
   "metadata": {},
   "source": [
    "## 02-07-infection"
   ]
  },
  {
   "cell_type": "code",
   "execution_count": 69,
   "id": "ad68b607",
   "metadata": {
    "execution": {
     "iopub.execute_input": "2025-01-21T19:14:21.257952Z",
     "iopub.status.busy": "2025-01-21T19:14:21.257728Z",
     "iopub.status.idle": "2025-01-21T19:14:21.260312Z",
     "shell.execute_reply": "2025-01-21T19:14:21.259894Z"
    }
   },
   "outputs": [],
   "source": [
    "_FLATTEN_IDS = ['positiveCultureNumber']\n",
    "base_filename = '02-07-infection.csv'"
   ]
  },
  {
   "cell_type": "code",
   "execution_count": 70,
   "id": "1a5fafc2",
   "metadata": {
    "execution": {
     "iopub.execute_input": "2025-01-21T19:14:21.262455Z",
     "iopub.status.busy": "2025-01-21T19:14:21.262252Z",
     "iopub.status.idle": "2025-01-21T19:14:21.378550Z",
     "shell.execute_reply": "2025-01-21T19:14:21.377612Z"
    }
   },
   "outputs": [
    {
     "name": "stdout",
     "output_type": "stream",
     "text": [
      "(0/15) normalize_value: column: center\n",
      "(1/15) normalize_value: column: subjectID\n",
      "(2/15) normalize_value: column: uniqueID\n",
      "(3/15) normalize_value: column: positiveCulture\n",
      "(4/15) normalize_value: column: antibiotics\n",
      "(5/15) normalize_value: column: positiveCultureSrc\n",
      "(6/15) normalize_value: column: positiveCultureDate\n",
      "(7/15) normalize_value: column: positiveCultureTime\n",
      "(8/15) normalize_value: column: positiveCultureOrganismCode1\n",
      "(9/15) normalize_value: column: positiveCultureOrganismCode2\n",
      "(10/15) normalize_value: column: positiveCultureOrganismCode3\n",
      "(11/15) normalize_value: column: antibioticsCode1\n",
      "(12/15) normalize_value: column: antibioticsCode2\n",
      "(13/15) normalize_value: column: antibioticsCode3\n",
      "(14/15) normalize_value: column: positiveCultureNumber\n",
      "flatten_index: flatten_ids: ['positiveCultureNumber'] unique_id_map: {np.int64(1): np.int64(1)} the_type: int64\n"
     ]
    }
   ],
   "source": [
    "filename = os.sep.join([input_dir, base_filename])\n",
    "df = pd.read_csv(filename, dtype='O')\n",
    "df = COMBINE_harmonizer.normalize_value(df, _VALUE_MAP, _FLATTEN_IDS, order_map=_ORDER_MAP)\n",
    "\n",
    "out_filename = os.sep.join([out_dir, base_filename])\n",
    "df.to_csv(out_filename, index=False)"
   ]
  },
  {
   "cell_type": "code",
   "execution_count": 71,
   "id": "969e23ca",
   "metadata": {
    "execution": {
     "iopub.execute_input": "2025-01-21T19:14:21.381607Z",
     "iopub.status.busy": "2025-01-21T19:14:21.381299Z",
     "iopub.status.idle": "2025-01-21T19:14:21.387582Z",
     "shell.execute_reply": "2025-01-21T19:14:21.387014Z"
    }
   },
   "outputs": [
    {
     "name": "stdout",
     "output_type": "stream",
     "text": [
      "(0/31) center: (168/0)\n",
      "(1/31) center.orig: (168/0)\n",
      "(2/31) subjectID: (168/0)\n",
      "(3/31) subjectID.orig: (168/0)\n",
      "(4/31) uniqueID: (168/0)\n",
      "(5/31) uniqueID.orig: (168/0)\n",
      "(6/31) _flatten_index: (168/0)\n",
      "(7/31) positiveCultureNumber: (168/0)\n",
      "(8/31) positiveCultureNumber.orig: (168/0)\n",
      "(9/31) positiveCulture: (168/0)\n",
      "(10/31) positiveCulture.orig: (163/5)\n",
      "(11/31) positiveCultureSrc: (168/0)\n",
      "(12/31) positiveCultureSrc.orig: (2/166)\n",
      "(13/31) positiveCultureDate: (168/0)\n",
      "(14/31) positiveCultureDate.orig: (2/166)\n",
      "(15/31) positiveCultureTime: (168/0)\n",
      "(16/31) positiveCultureTime.orig: (2/166)\n",
      "(17/31) positiveCultureOrganismCode1: (168/0)\n",
      "(18/31) positiveCultureOrganismCode1.orig: (2/166)\n",
      "(19/31) positiveCultureOrganismCode2: (168/0)\n",
      "(20/31) positiveCultureOrganismCode2.orig: (0/168)\n",
      "(21/31) positiveCultureOrganismCode3: (168/0)\n",
      "(22/31) positiveCultureOrganismCode3.orig: (0/168)\n",
      "(23/31) antibiotics: (168/0)\n",
      "(24/31) antibiotics.orig: (157/11)\n",
      "(25/31) antibioticsCode1: (168/0)\n",
      "(26/31) antibioticsCode1.orig: (57/111)\n",
      "(27/31) antibioticsCode2: (168/0)\n",
      "(28/31) antibioticsCode2.orig: (30/138)\n",
      "(29/31) antibioticsCode3: (168/0)\n",
      "(30/31) antibioticsCode3.orig: (6/162)\n"
     ]
    }
   ],
   "source": [
    "COMBINE_harmonizer.column_info(df)"
   ]
  },
  {
   "cell_type": "markdown",
   "id": "0fa24578-fd75-48d7-9d91-e720bb3413b7",
   "metadata": {},
   "source": [
    "## 02-08-other-med"
   ]
  },
  {
   "cell_type": "code",
   "execution_count": 72,
   "id": "89c7041e-6680-445e-b56c-22ae7c523c4a",
   "metadata": {
    "execution": {
     "iopub.execute_input": "2025-01-21T19:14:21.389925Z",
     "iopub.status.busy": "2025-01-21T19:14:21.389685Z",
     "iopub.status.idle": "2025-01-21T19:14:21.392398Z",
     "shell.execute_reply": "2025-01-21T19:14:21.391935Z"
    }
   },
   "outputs": [],
   "source": [
    "_FLATTEN_IDS = ['otherMedTimeSlot']\n",
    "base_filename = '02-08-other-med.csv'"
   ]
  },
  {
   "cell_type": "code",
   "execution_count": 73,
   "id": "df235fc3-afda-483c-8cc7-fcef088f9872",
   "metadata": {
    "execution": {
     "iopub.execute_input": "2025-01-21T19:14:21.394656Z",
     "iopub.status.busy": "2025-01-21T19:14:21.394424Z",
     "iopub.status.idle": "2025-01-21T19:14:21.481768Z",
     "shell.execute_reply": "2025-01-21T19:14:21.481497Z"
    }
   },
   "outputs": [
    {
     "name": "stdout",
     "output_type": "stream",
     "text": [
      "(0/24) normalize_value: column: center\n",
      "(1/24) normalize_value: column: subjectID\n",
      "(2/24) normalize_value: column: uniqueID\n",
      "(3/24) normalize_value: column: otherMedTimeSlot\n",
      "(4/24) normalize_value: column: otherMedTargetDate\n",
      "(5/24) normalize_value: column: otherMedTargetTime\n",
      "(6/24) normalize_value: column: anticonvulsants\n",
      "(7/24) normalize_value: column: anticonvulsants1\n",
      "(8/24) normalize_value: column: anticonvulsants2\n",
      "(9/24) normalize_value: column: anticonvulsants3\n",
      "(10/24) normalize_value: column: analgesics\n",
      "(11/24) normalize_value: column: analgesicsSedatives1\n",
      "(12/24) normalize_value: column: analgesicsSedatives2\n",
      "(13/24) normalize_value: column: analgesicsSedatives3\n",
      "(14/24) normalize_value: column: antipyretics\n",
      "(15/24) normalize_value: column: antipyretics1\n",
      "(16/24) normalize_value: column: antipyretics2\n",
      "(17/24) normalize_value: column: antipyretics3\n",
      "(18/24) normalize_value: column: paralytics\n",
      "(19/24) normalize_value: column: paralytics1\n",
      "(20/24) normalize_value: column: paralytics2\n",
      "(21/24) normalize_value: column: paralytics3\n",
      "(22/24) normalize_value: column: otherMedFluidIntake_ccPerKg\n",
      "(23/24) normalize_value: column: otherMedUrineOutput_ccPerKg\n"
     ]
    },
    {
     "name": "stdout",
     "output_type": "stream",
     "text": [
      "flatten_index: flatten_ids: ['otherMedTimeSlot'] unique_id_map: {np.int64(1): np.int64(1), np.int64(24): np.int64(24), np.int64(48): np.int64(48), np.int64(72): np.int64(72), np.int64(96): np.int64(96)} the_type: int64\n"
     ]
    }
   ],
   "source": [
    "filename = os.sep.join([input_dir, base_filename])\n",
    "df = pd.read_csv(filename, dtype='O')\n",
    "df = COMBINE_harmonizer.normalize_value(df, _VALUE_MAP, _FLATTEN_IDS, order_map=_ORDER_MAP)"
   ]
  },
  {
   "cell_type": "code",
   "execution_count": 74,
   "id": "c2b10431-efcb-4a8a-a3cb-7c9ebce668c9",
   "metadata": {
    "execution": {
     "iopub.execute_input": "2025-01-21T19:14:21.483255Z",
     "iopub.status.busy": "2025-01-21T19:14:21.483157Z",
     "iopub.status.idle": "2025-01-21T19:14:21.486119Z",
     "shell.execute_reply": "2025-01-21T19:14:21.485859Z"
    }
   },
   "outputs": [
    {
     "name": "stdout",
     "output_type": "stream",
     "text": [
      "_flatten_index: ([ 0 24 48 72 96] / int64)\n"
     ]
    }
   ],
   "source": [
    "# XXX hack for _flatten_index: 1 as 0\n",
    "is_flatten_index_1 = df[COMBINE_harmonizer.FLATTEN_INDEX] == 1\n",
    "df.loc[is_flatten_index_1, COMBINE_harmonizer.FLATTEN_INDEX] = 0\n",
    "\n",
    "print(f\"_flatten_index: ({df[COMBINE_harmonizer.FLATTEN_INDEX].unique()} / {df[COMBINE_harmonizer.FLATTEN_INDEX].dtype})\")"
   ]
  },
  {
   "cell_type": "code",
   "execution_count": 75,
   "id": "5bc7f8cb",
   "metadata": {
    "execution": {
     "iopub.execute_input": "2025-01-21T19:14:21.487433Z",
     "iopub.status.busy": "2025-01-21T19:14:21.487341Z",
     "iopub.status.idle": "2025-01-21T19:14:21.554853Z",
     "shell.execute_reply": "2025-01-21T19:14:21.554476Z"
    }
   },
   "outputs": [],
   "source": [
    "out_filename = os.sep.join([out_dir, base_filename])\n",
    "df.to_csv(out_filename, index=False)"
   ]
  },
  {
   "cell_type": "code",
   "execution_count": 76,
   "id": "933f394f-8d05-4b9a-835f-b04d82be1d9e",
   "metadata": {
    "execution": {
     "iopub.execute_input": "2025-01-21T19:14:21.556916Z",
     "iopub.status.busy": "2025-01-21T19:14:21.556732Z",
     "iopub.status.idle": "2025-01-21T19:14:21.563394Z",
     "shell.execute_reply": "2025-01-21T19:14:21.563070Z"
    }
   },
   "outputs": [
    {
     "name": "stdout",
     "output_type": "stream",
     "text": [
      "(0/49) center: (778/0)\n",
      "(1/49) center.orig: (778/0)\n",
      "(2/49) subjectID: (778/0)\n",
      "(3/49) subjectID.orig: (778/0)\n",
      "(4/49) uniqueID: (778/0)\n",
      "(5/49) uniqueID.orig: (778/0)\n",
      "(6/49) _flatten_index: (778/0)\n",
      "(7/49) otherMedTimeSlot: (778/0)\n",
      "(8/49) otherMedTimeSlot.orig: (778/0)\n",
      "(9/49) otherMedTargetDate: (778/0)\n",
      "(10/49) otherMedTargetDate.orig: (25/753)\n",
      "(11/49) otherMedTargetTime: (778/0)\n",
      "(12/49) otherMedTargetTime.orig: (25/753)\n",
      "(13/49) anticonvulsants: (778/0)\n",
      "(14/49) anticonvulsants.orig: (5/773)\n",
      "(15/49) anticonvulsants1: (778/0)\n",
      "(16/49) anticonvulsants1.orig: (421/357)\n",
      "(17/49) anticonvulsants2: (778/0)\n",
      "(18/49) anticonvulsants2.orig: (68/710)\n",
      "(19/49) anticonvulsants3: (778/0)\n",
      "(20/49) anticonvulsants3.orig: (10/768)\n",
      "(21/49) analgesics: (778/0)\n",
      "(22/49) analgesics.orig: (6/772)\n",
      "(23/49) analgesicsSedatives1: (778/0)\n",
      "(24/49) analgesicsSedatives1.orig: (231/547)\n",
      "(25/49) analgesicsSedatives2: (778/0)\n",
      "(26/49) analgesicsSedatives2.orig: (76/702)\n",
      "(27/49) analgesicsSedatives3: (778/0)\n",
      "(28/49) analgesicsSedatives3.orig: (11/767)\n",
      "(29/49) antipyretics: (778/0)\n",
      "(30/49) antipyretics.orig: (0/778)\n",
      "(31/49) antipyretics1: (778/0)\n",
      "(32/49) antipyretics1.orig: (7/771)\n",
      "(33/49) antipyretics2: (778/0)\n",
      "(34/49) antipyretics2.orig: (0/778)\n",
      "(35/49) antipyretics3: (778/0)\n",
      "(36/49) antipyretics3.orig: (0/778)\n",
      "(37/49) paralytics: (778/0)\n",
      "(38/49) paralytics.orig: (0/778)\n",
      "(39/49) paralytics1: (778/0)\n",
      "(40/49) paralytics1.orig: (30/748)\n",
      "(41/49) paralytics2: (778/0)\n",
      "(42/49) paralytics2.orig: (0/778)\n",
      "(43/49) paralytics3: (778/0)\n",
      "(44/49) paralytics3.orig: (0/778)\n",
      "(45/49) otherMedFluidIntake_ccPerKg: (778/0)\n",
      "(46/49) otherMedFluidIntake_ccPerKg.orig: (630/148)\n",
      "(47/49) otherMedUrineOutput_ccPerKg: (778/0)\n",
      "(48/49) otherMedUrineOutput_ccPerKg.orig: (630/148)\n"
     ]
    }
   ],
   "source": [
    "COMBINE_harmonizer.column_info(df)"
   ]
  },
  {
   "cell_type": "markdown",
   "id": "96979eb7-e230-44be-b874-a28005c20671",
   "metadata": {},
   "source": [
    "## 02-09-imaging"
   ]
  },
  {
   "cell_type": "code",
   "execution_count": 77,
   "id": "9d5c4fdb-c438-4d70-8461-8d48d035d880",
   "metadata": {
    "execution": {
     "iopub.execute_input": "2025-01-21T19:14:21.565323Z",
     "iopub.status.busy": "2025-01-21T19:14:21.565167Z",
     "iopub.status.idle": "2025-01-21T19:14:21.567240Z",
     "shell.execute_reply": "2025-01-21T19:14:21.566905Z"
    }
   },
   "outputs": [],
   "source": [
    "_FLATTEN_IDS = ['imagingTimeSlot']\n",
    "base_filename = '02-09-imaging.csv'"
   ]
  },
  {
   "cell_type": "code",
   "execution_count": 78,
   "id": "7f69d619-a860-4598-9f26-b3118431f365",
   "metadata": {
    "execution": {
     "iopub.execute_input": "2025-01-21T19:14:21.568914Z",
     "iopub.status.busy": "2025-01-21T19:14:21.568761Z",
     "iopub.status.idle": "2025-01-21T19:14:21.615412Z",
     "shell.execute_reply": "2025-01-21T19:14:21.615136Z"
    }
   },
   "outputs": [
    {
     "name": "stdout",
     "output_type": "stream",
     "text": [
      "(0/40) normalize_value: column: center\n",
      "(1/40) normalize_value: column: subjectID\n",
      "(2/40) normalize_value: column: uniqueID\n",
      "(3/40) normalize_value: column: headSonogram\n",
      "(4/40) normalize_value: column: headSonogramResultText\n",
      "(5/40) normalize_value: column: headCT\n",
      "(6/40) normalize_value: column: headCTResultText\n",
      "(7/40) normalize_value: column: brainMRI\n",
      "(8/40) normalize_value: column: brainMRIResultText\n",
      "(9/40) normalize_value: column: imagingTimeSlot\n",
      "(10/40) normalize_value: column: headSonogramDate\n",
      "(11/40) normalize_value: column: headSonogramTime\n",
      "(12/40) normalize_value: column: headSonogramResult1\n",
      "(13/40) normalize_value: column: headSonogramResult2\n",
      "(14/40) normalize_value: column: headSonogramResult3\n",
      "(15/40) normalize_value: column: headSonogramResult4\n",
      "(16/40) normalize_value: column: headSonogramResult5\n",
      "(17/40) normalize_value: column: headSonogramResult6\n",
      "(18/40) normalize_value: column: headSonogramResult7\n",
      "(19/40) normalize_value: column: headSonogramResult8\n",
      "(20/40) normalize_value: column: headCTDate\n",
      "(21/40) normalize_value: column: headCTTime\n",
      "(22/40) normalize_value: column: headCTResult1\n",
      "(23/40) normalize_value: column: headCTResult2\n",
      "(24/40) normalize_value: column: headCTResult3\n",
      "(25/40) normalize_value: column: headCTResult4\n",
      "(26/40) normalize_value: column: headCTResult5\n",
      "(27/40) normalize_value: column: headCTResult6\n",
      "(28/40) normalize_value: column: headCTResult7\n",
      "(29/40) normalize_value: column: headCTResult8\n",
      "(30/40) normalize_value: column: brainMRIDate\n",
      "(31/40) normalize_value: column: brainMRITime\n",
      "(32/40) normalize_value: column: brainMRIResult1\n",
      "(33/40) normalize_value: column: brainMRIResult2\n",
      "(34/40) normalize_value: column: brainMRIResult3\n",
      "(35/40) normalize_value: column: brainMRIResult4\n",
      "(36/40) normalize_value: column: brainMRIResult5\n",
      "(37/40) normalize_value: column: brainMRIResult6\n",
      "(38/40) normalize_value: column: brainMRIResult7\n",
      "(39/40) normalize_value: column: brainMRIResult8\n",
      "flatten_index: flatten_ids: ['imagingTimeSlot'] unique_id_map: {np.int64(2): np.int64(2)} the_type: int64\n"
     ]
    }
   ],
   "source": [
    "filename = os.sep.join([input_dir, base_filename])\n",
    "df = pd.read_csv(filename, dtype='O')\n",
    "df = COMBINE_harmonizer.normalize_value(df, _VALUE_MAP, _FLATTEN_IDS, order_map=_ORDER_MAP)"
   ]
  },
  {
   "cell_type": "code",
   "execution_count": 79,
   "id": "e1c8e210-fbf7-4703-8dd2-34313e92dfe0",
   "metadata": {
    "execution": {
     "iopub.execute_input": "2025-01-21T19:14:21.616822Z",
     "iopub.status.busy": "2025-01-21T19:14:21.616715Z",
     "iopub.status.idle": "2025-01-21T19:14:21.619467Z",
     "shell.execute_reply": "2025-01-21T19:14:21.619184Z"
    }
   },
   "outputs": [
    {
     "name": "stdout",
     "output_type": "stream",
     "text": [
      "_flatten_index: ([1] / int64)\n"
     ]
    }
   ],
   "source": [
    "# XXX hack for _flatten_index: 2 as 1\n",
    "is_flatten_index_2 = df[COMBINE_harmonizer.FLATTEN_INDEX] == 2\n",
    "df.loc[is_flatten_index_2, COMBINE_harmonizer.FLATTEN_INDEX] = 1\n",
    "\n",
    "print(f\"_flatten_index: ({df[COMBINE_harmonizer.FLATTEN_INDEX].unique()} / {df[COMBINE_harmonizer.FLATTEN_INDEX].dtype})\")"
   ]
  },
  {
   "cell_type": "code",
   "execution_count": 80,
   "id": "a8e0cfc4",
   "metadata": {
    "execution": {
     "iopub.execute_input": "2025-01-21T19:14:21.620900Z",
     "iopub.status.busy": "2025-01-21T19:14:21.620802Z",
     "iopub.status.idle": "2025-01-21T19:14:21.675306Z",
     "shell.execute_reply": "2025-01-21T19:14:21.674954Z"
    }
   },
   "outputs": [],
   "source": [
    "out_filename = os.sep.join([out_dir, base_filename])\n",
    "df.to_csv(out_filename, index=False)"
   ]
  },
  {
   "cell_type": "code",
   "execution_count": 81,
   "id": "ceedb750-826a-4736-964c-e58fc600f4b9",
   "metadata": {
    "execution": {
     "iopub.execute_input": "2025-01-21T19:14:21.677255Z",
     "iopub.status.busy": "2025-01-21T19:14:21.677092Z",
     "iopub.status.idle": "2025-01-21T19:14:21.683462Z",
     "shell.execute_reply": "2025-01-21T19:14:21.683196Z"
    }
   },
   "outputs": [
    {
     "name": "stdout",
     "output_type": "stream",
     "text": [
      "(0/81) center: (168/0)\n",
      "(1/81) center.orig: (168/0)\n",
      "(2/81) subjectID: (168/0)\n",
      "(3/81) subjectID.orig: (168/0)\n",
      "(4/81) uniqueID: (168/0)\n",
      "(5/81) uniqueID.orig: (168/0)\n",
      "(6/81) _flatten_index: (168/0)\n",
      "(7/81) imagingTimeSlot: (168/0)\n",
      "(8/81) imagingTimeSlot.orig: (168/0)\n",
      "(9/81) headSonogram: (168/0)\n",
      "(10/81) headSonogram.orig: (168/0)\n",
      "(11/81) headSonogramDate: (168/0)\n",
      "(12/81) headSonogramDate.orig: (79/89)\n",
      "(13/81) headSonogramTime: (168/0)\n",
      "(14/81) headSonogramTime.orig: (79/89)\n",
      "(15/81) headSonogramResult1: (168/0)\n",
      "(16/81) headSonogramResult1.orig: (79/89)\n",
      "(17/81) headSonogramResult2: (168/0)\n",
      "(18/81) headSonogramResult2.orig: (11/157)\n",
      "(19/81) headSonogramResult3: (168/0)\n",
      "(20/81) headSonogramResult3.orig: (3/165)\n",
      "(21/81) headSonogramResult4: (168/0)\n",
      "(22/81) headSonogramResult4.orig: (1/167)\n",
      "(23/81) headSonogramResult5: (168/0)\n",
      "(24/81) headSonogramResult5.orig: (0/168)\n",
      "(25/81) headSonogramResult6: (168/0)\n",
      "(26/81) headSonogramResult6.orig: (0/168)\n",
      "(27/81) headSonogramResult7: (168/0)\n",
      "(28/81) headSonogramResult7.orig: (0/168)\n",
      "(29/81) headSonogramResult8: (168/0)\n",
      "(30/81) headSonogramResult8.orig: (0/168)\n",
      "(31/81) headSonogramResultText: (168/0)\n",
      "(32/81) headSonogramResultText.orig: (9/159)\n",
      "(33/81) headCT: (168/0)\n",
      "(34/81) headCT.orig: (168/0)\n",
      "(35/81) headCTDate: (168/0)\n",
      "(36/81) headCTDate.orig: (5/163)\n",
      "(37/81) headCTTime: (168/0)\n",
      "(38/81) headCTTime.orig: (5/163)\n",
      "(39/81) headCTResult1: (168/0)\n",
      "(40/81) headCTResult1.orig: (5/163)\n",
      "(41/81) headCTResult2: (168/0)\n",
      "(42/81) headCTResult2.orig: (3/165)\n",
      "(43/81) headCTResult3: (168/0)\n",
      "(44/81) headCTResult3.orig: (1/167)\n",
      "(45/81) headCTResult4: (168/0)\n",
      "(46/81) headCTResult4.orig: (0/168)\n",
      "(47/81) headCTResult5: (168/0)\n",
      "(48/81) headCTResult5.orig: (0/168)\n",
      "(49/81) headCTResult6: (168/0)\n",
      "(50/81) headCTResult6.orig: (0/168)\n",
      "(51/81) headCTResult7: (168/0)\n",
      "(52/81) headCTResult7.orig: (0/168)\n",
      "(53/81) headCTResult8: (168/0)\n",
      "(54/81) headCTResult8.orig: (0/168)\n",
      "(55/81) headCTResultText: (168/0)\n",
      "(56/81) headCTResultText.orig: (1/167)\n",
      "(57/81) brainMRI: (168/0)\n",
      "(58/81) brainMRI.orig: (168/0)\n",
      "(59/81) brainMRIDate: (168/0)\n",
      "(60/81) brainMRIDate.orig: (21/147)\n",
      "(61/81) brainMRITime: (168/0)\n",
      "(62/81) brainMRITime.orig: (20/148)\n",
      "(63/81) brainMRIResult1: (168/0)\n",
      "(64/81) brainMRIResult1.orig: (21/147)\n",
      "(65/81) brainMRIResult2: (168/0)\n",
      "(66/81) brainMRIResult2.orig: (12/156)\n",
      "(67/81) brainMRIResult3: (168/0)\n",
      "(68/81) brainMRIResult3.orig: (9/159)\n",
      "(69/81) brainMRIResult4: (168/0)\n",
      "(70/81) brainMRIResult4.orig: (7/161)\n",
      "(71/81) brainMRIResult5: (168/0)\n",
      "(72/81) brainMRIResult5.orig: (5/163)\n",
      "(73/81) brainMRIResult6: (168/0)\n",
      "(74/81) brainMRIResult6.orig: (5/163)\n",
      "(75/81) brainMRIResult7: (168/0)\n",
      "(76/81) brainMRIResult7.orig: (2/166)\n",
      "(77/81) brainMRIResult8: (168/0)\n",
      "(78/81) brainMRIResult8.orig: (1/167)\n",
      "(79/81) brainMRIResultText: (168/0)\n",
      "(80/81) brainMRIResultText.orig: (10/158)\n"
     ]
    }
   ],
   "source": [
    "COMBINE_harmonizer.column_info(df)"
   ]
  },
  {
   "cell_type": "markdown",
   "id": "e6286874",
   "metadata": {},
   "source": [
    "## 03-01-post-intervention-temperature"
   ]
  },
  {
   "cell_type": "code",
   "execution_count": 82,
   "id": "89f296dc",
   "metadata": {
    "execution": {
     "iopub.execute_input": "2025-01-21T19:14:21.685196Z",
     "iopub.status.busy": "2025-01-21T19:14:21.685048Z",
     "iopub.status.idle": "2025-01-21T19:14:21.686865Z",
     "shell.execute_reply": "2025-01-21T19:14:21.686567Z"
    }
   },
   "outputs": [],
   "source": [
    "_FLATTEN_IDS = ['post_TemperatureTimeSlot']\n",
    "base_filename = '03-01-post-temperature.csv'"
   ]
  },
  {
   "cell_type": "code",
   "execution_count": 83,
   "id": "df769381",
   "metadata": {
    "execution": {
     "iopub.execute_input": "2025-01-21T19:14:21.688363Z",
     "iopub.status.busy": "2025-01-21T19:14:21.688242Z",
     "iopub.status.idle": "2025-01-21T19:14:21.799140Z",
     "shell.execute_reply": "2025-01-21T19:14:21.798706Z"
    }
   },
   "outputs": [
    {
     "name": "stdout",
     "output_type": "stream",
     "text": [
      "(0/8) normalize_value: column: center\n",
      "(1/8) normalize_value: column: subjectID\n",
      "(2/8) normalize_value: column: uniqueID\n",
      "(3/8) normalize_value: column: post_TemperatureTimeSlot\n",
      "(4/8) normalize_value: column: post_TemperatureDate\n",
      "(5/8) normalize_value: column: post_TemperatureTime\n",
      "(6/8) normalize_value: column: post_SkinTemperature_C\n",
      "(7/8) normalize_value: column: post_AxillaryTemperature_C\n",
      "flatten_index: flatten_ids: ['post_TemperatureTimeSlot'] unique_id_map: {np.int64(5): np.int64(5), np.int64(6): np.int64(6), np.int64(7): np.int64(7)} the_type: int64\n"
     ]
    }
   ],
   "source": [
    "filename = os.sep.join([input_dir, base_filename])\n",
    "df = pd.read_csv(filename, dtype='O')\n",
    "df = COMBINE_harmonizer.normalize_value(df, _VALUE_MAP, _FLATTEN_IDS, order_map=_ORDER_MAP)\n",
    "\n",
    "out_filename = os.sep.join([out_dir, base_filename])\n",
    "df.to_csv(out_filename, index=False)"
   ]
  },
  {
   "cell_type": "code",
   "execution_count": 84,
   "id": "6cff8f7a",
   "metadata": {
    "execution": {
     "iopub.execute_input": "2025-01-21T19:14:21.801545Z",
     "iopub.status.busy": "2025-01-21T19:14:21.801349Z",
     "iopub.status.idle": "2025-01-21T19:14:21.806369Z",
     "shell.execute_reply": "2025-01-21T19:14:21.805867Z"
    }
   },
   "outputs": [
    {
     "name": "stdout",
     "output_type": "stream",
     "text": [
      "(0/17) center: (450/0)\n",
      "(1/17) center.orig: (450/0)\n",
      "(2/17) subjectID: (450/0)\n",
      "(3/17) subjectID.orig: (450/0)\n",
      "(4/17) uniqueID: (450/0)\n",
      "(5/17) uniqueID.orig: (450/0)\n",
      "(6/17) _flatten_index: (450/0)\n",
      "(7/17) post_TemperatureTimeSlot: (450/0)\n",
      "(8/17) post_TemperatureTimeSlot.orig: (450/0)\n",
      "(9/17) post_TemperatureDate: (450/0)\n",
      "(10/17) post_TemperatureDate.orig: (437/13)\n",
      "(11/17) post_TemperatureTime: (450/0)\n",
      "(12/17) post_TemperatureTime.orig: (432/18)\n",
      "(13/17) post_SkinTemperature_C: (450/0)\n",
      "(14/17) post_SkinTemperature_C.orig: (229/221)\n",
      "(15/17) post_AxillaryTemperature_C: (450/0)\n",
      "(16/17) post_AxillaryTemperature_C.orig: (417/33)\n"
     ]
    }
   ],
   "source": [
    "COMBINE_harmonizer.column_info(df)"
   ]
  },
  {
   "cell_type": "markdown",
   "id": "2d2bd544",
   "metadata": {},
   "source": [
    "## 03-03-post-intervention-imaging"
   ]
  },
  {
   "cell_type": "code",
   "execution_count": 85,
   "id": "90ab8ac8",
   "metadata": {
    "execution": {
     "iopub.execute_input": "2025-01-21T19:14:21.808568Z",
     "iopub.status.busy": "2025-01-21T19:14:21.808379Z",
     "iopub.status.idle": "2025-01-21T19:14:21.810835Z",
     "shell.execute_reply": "2025-01-21T19:14:21.810321Z"
    }
   },
   "outputs": [],
   "source": [
    "base_filename = '03-03-post-imaging.csv'"
   ]
  },
  {
   "cell_type": "code",
   "execution_count": 86,
   "id": "496990d3",
   "metadata": {
    "execution": {
     "iopub.execute_input": "2025-01-21T19:14:21.812638Z",
     "iopub.status.busy": "2025-01-21T19:14:21.812468Z",
     "iopub.status.idle": "2025-01-21T19:14:21.932471Z",
     "shell.execute_reply": "2025-01-21T19:14:21.931892Z"
    }
   },
   "outputs": [
    {
     "name": "stdout",
     "output_type": "stream",
     "text": [
      "(0/39) normalize_value: column: center\n",
      "(1/39) normalize_value: column: subjectID\n",
      "(2/39) normalize_value: column: uniqueID\n",
      "(3/39) normalize_value: column: post_HeadSonogram\n",
      "(4/39) normalize_value: column: post_HeadSonogramResultText\n",
      "(5/39) normalize_value: column: post_HeadCT\n",
      "(6/39) normalize_value: column: post_HeadCTResultText\n",
      "(7/39) normalize_value: column: post_BrainMRI\n",
      "(8/39) normalize_value: column: post_BrainMRIResultText\n",
      "(9/39) normalize_value: column: post_HeadSonogramDate\n",
      "(10/39) normalize_value: column: post_HeadSonogramTime\n",
      "(11/39) normalize_value: column: post_HeadSonogramResult1\n",
      "(12/39) normalize_value: column: post_HeadSonogramResult2\n",
      "(13/39) normalize_value: column: post_HeadSonogramResult3\n",
      "(14/39) normalize_value: column: post_HeadSonogramResult4\n",
      "(15/39) normalize_value: column: post_HeadSonogramResult5\n",
      "(16/39) normalize_value: column: post_HeadSonogramResult6\n",
      "(17/39) normalize_value: column: post_HeadSonogramResult7\n",
      "(18/39) normalize_value: column: post_HeadSonogramResult8\n",
      "(19/39) normalize_value: column: post_HeadCTDate\n",
      "(20/39) normalize_value: column: post_HeadCTTime\n",
      "(21/39) normalize_value: column: post_HeadCTResult1\n",
      "(22/39) normalize_value: column: post_HeadCTResult2\n",
      "(23/39) normalize_value: column: post_HeadCTResult3\n",
      "(24/39) normalize_value: column: post_HeadCTResult4\n",
      "(25/39) normalize_value: column: post_HeadCTResult5\n",
      "(26/39) normalize_value: column: post_HeadCTResult6\n",
      "(27/39) normalize_value: column: post_HeadCTResult7\n",
      "(28/39) normalize_value: column: post_HeadCTResult8\n",
      "(29/39) normalize_value: column: post_BrainMRIDate\n",
      "(30/39) normalize_value: column: post_BrainMRITime\n",
      "(31/39) normalize_value: column: post_BrainMRIResult1\n",
      "(32/39) normalize_value: column: post_BrainMRIResult2\n",
      "(33/39) normalize_value: column: post_BrainMRIResult3\n",
      "(34/39) normalize_value: column: post_BrainMRIResult4\n",
      "(35/39) normalize_value: column: post_BrainMRIResult5\n",
      "(36/39) normalize_value: column: post_BrainMRIResult6\n",
      "(37/39) normalize_value: column: post_BrainMRIResult7\n",
      "(38/39) normalize_value: column: post_BrainMRIResult8\n"
     ]
    }
   ],
   "source": [
    "filename = os.sep.join([input_dir, base_filename])\n",
    "df = pd.read_csv(filename, dtype='O')\n",
    "df = COMBINE_harmonizer.normalize_value(df, _VALUE_MAP, order_map=_ORDER_MAP)\n",
    "\n",
    "out_filename = os.sep.join([out_dir, base_filename])\n",
    "df.to_csv(out_filename, index=False)"
   ]
  },
  {
   "cell_type": "code",
   "execution_count": 87,
   "id": "bfdc27d9",
   "metadata": {
    "execution": {
     "iopub.execute_input": "2025-01-21T19:14:21.935643Z",
     "iopub.status.busy": "2025-01-21T19:14:21.935362Z",
     "iopub.status.idle": "2025-01-21T19:14:21.945260Z",
     "shell.execute_reply": "2025-01-21T19:14:21.944807Z"
    }
   },
   "outputs": [
    {
     "name": "stdout",
     "output_type": "stream",
     "text": [
      "(0/78) center: (168/0)\n",
      "(1/78) center.orig: (168/0)\n",
      "(2/78) subjectID: (168/0)\n",
      "(3/78) subjectID.orig: (168/0)\n",
      "(4/78) uniqueID: (168/0)\n",
      "(5/78) uniqueID.orig: (168/0)\n",
      "(6/78) post_HeadSonogram: (168/0)\n",
      "(7/78) post_HeadSonogram.orig: (168/0)\n",
      "(8/78) post_HeadSonogramDate: (168/0)\n",
      "(9/78) post_HeadSonogramDate.orig: (14/154)\n",
      "(10/78) post_HeadSonogramTime: (168/0)\n",
      "(11/78) post_HeadSonogramTime.orig: (14/154)\n",
      "(12/78) post_HeadSonogramResult1: (168/0)\n",
      "(13/78) post_HeadSonogramResult1.orig: (14/154)\n",
      "(14/78) post_HeadSonogramResult2: (168/0)\n",
      "(15/78) post_HeadSonogramResult2.orig: (3/165)\n",
      "(16/78) post_HeadSonogramResult3: (168/0)\n",
      "(17/78) post_HeadSonogramResult3.orig: (1/167)\n",
      "(18/78) post_HeadSonogramResult4: (168/0)\n",
      "(19/78) post_HeadSonogramResult4.orig: (0/168)\n",
      "(20/78) post_HeadSonogramResult5: (168/0)\n",
      "(21/78) post_HeadSonogramResult5.orig: (0/168)\n",
      "(22/78) post_HeadSonogramResult6: (168/0)\n",
      "(23/78) post_HeadSonogramResult6.orig: (0/168)\n",
      "(24/78) post_HeadSonogramResult7: (168/0)\n",
      "(25/78) post_HeadSonogramResult7.orig: (0/168)\n",
      "(26/78) post_HeadSonogramResult8: (168/0)\n",
      "(27/78) post_HeadSonogramResult8.orig: (0/168)\n",
      "(28/78) post_HeadSonogramResultText: (168/0)\n",
      "(29/78) post_HeadSonogramResultText.orig: (1/167)\n",
      "(30/78) post_HeadCT: (168/0)\n",
      "(31/78) post_HeadCT.orig: (168/0)\n",
      "(32/78) post_HeadCTDate: (168/0)\n",
      "(33/78) post_HeadCTDate.orig: (2/166)\n",
      "(34/78) post_HeadCTTime: (168/0)\n",
      "(35/78) post_HeadCTTime.orig: (2/166)\n",
      "(36/78) post_HeadCTResult1: (168/0)\n",
      "(37/78) post_HeadCTResult1.orig: (2/166)\n",
      "(38/78) post_HeadCTResult2: (168/0)\n",
      "(39/78) post_HeadCTResult2.orig: (0/168)\n",
      "(40/78) post_HeadCTResult3: (168/0)\n",
      "(41/78) post_HeadCTResult3.orig: (0/168)\n",
      "(42/78) post_HeadCTResult4: (168/0)\n",
      "(43/78) post_HeadCTResult4.orig: (0/168)\n",
      "(44/78) post_HeadCTResult5: (168/0)\n",
      "(45/78) post_HeadCTResult5.orig: (0/168)\n",
      "(46/78) post_HeadCTResult6: (168/0)\n",
      "(47/78) post_HeadCTResult6.orig: (0/168)\n",
      "(48/78) post_HeadCTResult7: (168/0)\n",
      "(49/78) post_HeadCTResult7.orig: (0/168)\n",
      "(50/78) post_HeadCTResult8: (168/0)\n",
      "(51/78) post_HeadCTResult8.orig: (0/168)\n",
      "(52/78) post_HeadCTResultText: (168/0)\n",
      "(53/78) post_HeadCTResultText.orig: (0/168)\n",
      "(54/78) post_BrainMRI: (168/0)\n",
      "(55/78) post_BrainMRI.orig: (168/0)\n",
      "(56/78) post_BrainMRIDate: (168/0)\n",
      "(57/78) post_BrainMRIDate.orig: (131/37)\n",
      "(58/78) post_BrainMRITime: (168/0)\n",
      "(59/78) post_BrainMRITime.orig: (129/39)\n",
      "(60/78) post_BrainMRIResult1: (168/0)\n",
      "(61/78) post_BrainMRIResult1.orig: (130/38)\n",
      "(62/78) post_BrainMRIResult2: (168/0)\n",
      "(63/78) post_BrainMRIResult2.orig: (63/105)\n",
      "(64/78) post_BrainMRIResult3: (168/0)\n",
      "(65/78) post_BrainMRIResult3.orig: (32/136)\n",
      "(66/78) post_BrainMRIResult4: (168/0)\n",
      "(67/78) post_BrainMRIResult4.orig: (14/154)\n",
      "(68/78) post_BrainMRIResult5: (168/0)\n",
      "(69/78) post_BrainMRIResult5.orig: (6/162)\n",
      "(70/78) post_BrainMRIResult6: (168/0)\n",
      "(71/78) post_BrainMRIResult6.orig: (2/166)\n",
      "(72/78) post_BrainMRIResult7: (168/0)\n",
      "(73/78) post_BrainMRIResult7.orig: (0/168)\n",
      "(74/78) post_BrainMRIResult8: (168/0)\n",
      "(75/78) post_BrainMRIResult8.orig: (0/168)\n",
      "(76/78) post_BrainMRIResultText: (168/0)\n",
      "(77/78) post_BrainMRIResultText.orig: (37/131)\n"
     ]
    }
   ],
   "source": [
    "COMBINE_harmonizer.column_info(df)\n"
   ]
  },
  {
   "cell_type": "markdown",
   "id": "5ea7cd2d",
   "metadata": {},
   "source": [
    "## 03-04-post-intervention-neuro-exam"
   ]
  },
  {
   "cell_type": "code",
   "execution_count": 88,
   "id": "7a1b15e7",
   "metadata": {
    "execution": {
     "iopub.execute_input": "2025-01-21T19:14:21.947392Z",
     "iopub.status.busy": "2025-01-21T19:14:21.947204Z",
     "iopub.status.idle": "2025-01-21T19:14:21.949395Z",
     "shell.execute_reply": "2025-01-21T19:14:21.949020Z"
    }
   },
   "outputs": [],
   "source": [
    "base_filename = '03-04-post-neuro-exam.csv'"
   ]
  },
  {
   "cell_type": "code",
   "execution_count": 89,
   "id": "5b0a4b24",
   "metadata": {
    "execution": {
     "iopub.execute_input": "2025-01-21T19:14:21.951482Z",
     "iopub.status.busy": "2025-01-21T19:14:21.951306Z",
     "iopub.status.idle": "2025-01-21T19:14:22.070060Z",
     "shell.execute_reply": "2025-01-21T19:14:22.068995Z"
    }
   },
   "outputs": [
    {
     "name": "stdout",
     "output_type": "stream",
     "text": [
      "(0/21) normalize_value: column: center\n",
      "(1/21) normalize_value: column: subjectID\n",
      "(2/21) normalize_value: column: uniqueID\n",
      "(3/21) normalize_value: column: post_NeuroExamSeizure\n",
      "(4/21) normalize_value: column: post_NeuroExamSedate\n",
      "(5/21) normalize_value: column: post_NeuroExamHypertonia\n",
      "(6/21) normalize_value: column: post_NeuroExamClonusSustained\n",
      "(7/21) normalize_value: column: post_NeuroExamFistedHand\n",
      "(8/21) normalize_value: column: post_NeuroExamAbnormalMovement\n",
      "(9/21) normalize_value: column: post_NeuroExamGagReflexAbsent\n",
      "(10/21) normalize_value: column: post_NeuroExamDate\n",
      "(11/21) normalize_value: column: post_NeuroExamTime\n",
      "(12/21) normalize_value: column: post_NeuroExamLevelConsciousness\n",
      "(13/21) normalize_value: column: post_NeuroExamSpontaneousActivity\n",
      "(14/21) normalize_value: column: post_NeuroExamPosture\n",
      "(15/21) normalize_value: column: post_NeuroExamTone\n",
      "(16/21) normalize_value: column: post_NeuroExamSuck\n",
      "(17/21) normalize_value: column: post_NeuroExamMoro\n",
      "(18/21) normalize_value: column: post_NeuroExamPupils\n",
      "(19/21) normalize_value: column: post_NeuroExamHeartRate\n",
      "(20/21) normalize_value: column: post_NeuroExamRespiration\n"
     ]
    }
   ],
   "source": [
    "filename = os.sep.join([input_dir, base_filename])\n",
    "df = pd.read_csv(filename, dtype='O')\n",
    "df = COMBINE_harmonizer.normalize_value(df, _VALUE_MAP, order_map=_ORDER_MAP)\n",
    "\n",
    "out_filename = os.sep.join([out_dir, base_filename])\n",
    "df.to_csv(out_filename, index=False)"
   ]
  },
  {
   "cell_type": "code",
   "execution_count": 90,
   "id": "fb4029cb",
   "metadata": {
    "execution": {
     "iopub.execute_input": "2025-01-21T19:14:22.076998Z",
     "iopub.status.busy": "2025-01-21T19:14:22.076608Z",
     "iopub.status.idle": "2025-01-21T19:14:22.090985Z",
     "shell.execute_reply": "2025-01-21T19:14:22.090375Z"
    }
   },
   "outputs": [
    {
     "name": "stdout",
     "output_type": "stream",
     "text": [
      "(0/42) center: (163/0)\n",
      "(1/42) center.orig: (163/0)\n",
      "(2/42) subjectID: (163/0)\n",
      "(3/42) subjectID.orig: (163/0)\n",
      "(4/42) uniqueID: (163/0)\n",
      "(5/42) uniqueID.orig: (163/0)\n",
      "(6/42) post_NeuroExamDate: (163/0)\n",
      "(7/42) post_NeuroExamDate.orig: (152/11)\n",
      "(8/42) post_NeuroExamTime: (163/0)\n",
      "(9/42) post_NeuroExamTime.orig: (150/13)\n",
      "(10/42) post_NeuroExamLevelConsciousness: (163/0)\n",
      "(11/42) post_NeuroExamLevelConsciousness.orig: (152/11)\n",
      "(12/42) post_NeuroExamSpontaneousActivity: (163/0)\n",
      "(13/42) post_NeuroExamSpontaneousActivity.orig: (152/11)\n",
      "(14/42) post_NeuroExamPosture: (163/0)\n",
      "(15/42) post_NeuroExamPosture.orig: (152/11)\n",
      "(16/42) post_NeuroExamTone: (163/0)\n",
      "(17/42) post_NeuroExamTone.orig: (124/39)\n",
      "(18/42) post_NeuroExamSuck: (163/0)\n",
      "(19/42) post_NeuroExamSuck.orig: (149/14)\n",
      "(20/42) post_NeuroExamMoro: (163/0)\n",
      "(21/42) post_NeuroExamMoro.orig: (147/16)\n",
      "(22/42) post_NeuroExamPupils: (163/0)\n",
      "(23/42) post_NeuroExamPupils.orig: (151/12)\n",
      "(24/42) post_NeuroExamHeartRate: (163/0)\n",
      "(25/42) post_NeuroExamHeartRate.orig: (152/11)\n",
      "(26/42) post_NeuroExamRespiration: (163/0)\n",
      "(27/42) post_NeuroExamRespiration.orig: (152/11)\n",
      "(28/42) post_NeuroExamSeizure: (163/0)\n",
      "(29/42) post_NeuroExamSeizure.orig: (163/0)\n",
      "(30/42) post_NeuroExamSedate: (163/0)\n",
      "(31/42) post_NeuroExamSedate.orig: (163/0)\n",
      "(32/42) post_NeuroExamClonusSustained: (163/0)\n",
      "(33/42) post_NeuroExamClonusSustained.orig: (163/0)\n",
      "(34/42) post_NeuroExamFistedHand: (163/0)\n",
      "(35/42) post_NeuroExamFistedHand.orig: (163/0)\n",
      "(36/42) post_NeuroExamAbnormalMovement: (163/0)\n",
      "(37/42) post_NeuroExamAbnormalMovement.orig: (163/0)\n",
      "(38/42) post_NeuroExamGagReflexAbsent: (163/0)\n",
      "(39/42) post_NeuroExamGagReflexAbsent.orig: (163/0)\n",
      "(40/42) post_NeuroExamHypertonia: (163/0)\n",
      "(41/42) post_NeuroExamHypertonia.orig: (163/0)\n"
     ]
    }
   ],
   "source": [
    "COMBINE_harmonizer.column_info(df)"
   ]
  },
  {
   "cell_type": "markdown",
   "id": "ee4ae16a-44dc-4344-a6ae-094da02df7be",
   "metadata": {},
   "source": [
    "## 03-05-mri"
   ]
  },
  {
   "cell_type": "code",
   "execution_count": 91,
   "id": "cf23d8f5-3fbb-4f05-96b6-bb681b51192b",
   "metadata": {
    "execution": {
     "iopub.execute_input": "2025-01-21T19:14:22.093825Z",
     "iopub.status.busy": "2025-01-21T19:14:22.093561Z",
     "iopub.status.idle": "2025-01-21T19:14:22.096588Z",
     "shell.execute_reply": "2025-01-21T19:14:22.096011Z"
    }
   },
   "outputs": [],
   "source": [
    "_FLATTEN_IDS = ['MRIReader']\n",
    "base_filename = '03-05-mri.csv'"
   ]
  },
  {
   "cell_type": "code",
   "execution_count": 92,
   "id": "1018d524-7c1d-4fb7-b2a8-1de60351e131",
   "metadata": {
    "execution": {
     "iopub.execute_input": "2025-01-21T19:14:22.098950Z",
     "iopub.status.busy": "2025-01-21T19:14:22.098779Z",
     "iopub.status.idle": "2025-01-21T19:14:22.256089Z",
     "shell.execute_reply": "2025-01-21T19:14:22.255842Z"
    }
   },
   "outputs": [
    {
     "name": "stdout",
     "output_type": "stream",
     "text": [
      "(0/92) normalize_value: column: center\n",
      "(1/92) normalize_value: column: subjectID\n",
      "(2/92) normalize_value: column: uniqueID\n",
      "(3/92) normalize_value: column: MRIReader\n",
      "(4/92) normalize_value: column: MRIReadDate\n",
      "(5/92) normalize_value: column: MRIDate\n",
      "(6/92) normalize_value: column: MRIStrength_T\n",
      "(7/92) normalize_value: column: MRIStrength_c\n",
      "(8/92) normalize_value: column: MRIAdequateQuality\n",
      "(9/92) normalize_value: column: MRIAdequateQuality_c\n",
      "(10/92) normalize_value: column: MRIT1Axial\n",
      "(11/92) normalize_value: column: MRIT1Axial_c\n",
      "(12/92) normalize_value: column: MRIT1Coronal\n",
      "(13/92) normalize_value: column: MRIT1Coronal_c\n",
      "(14/92) normalize_value: column: MRIT1Sagittal\n",
      "(15/92) normalize_value: column: MRIT1Sagittal_c\n",
      "(16/92) normalize_value: column: MRIT2Axial\n",
      "(17/92) normalize_value: column: MRIT2Axial_c\n",
      "(18/92) normalize_value: column: MRIT2Coronal\n",
      "(19/92) normalize_value: column: MRIT2Coronal_c\n",
      "(20/92) normalize_value: column: MRIT2Sagittal\n",
      "(21/92) normalize_value: column: MRIT2Sagittal_c\n",
      "(22/92) normalize_value: column: MRIT2FLAIRAxial\n",
      "(23/92) normalize_value: column: MRIT2FLAIRAxial_c\n",
      "(24/92) normalize_value: column: MRIT2FLAIRCoronal\n",
      "(25/92) normalize_value: column: MRIT2FLAIRCoronal_c\n",
      "(26/92) normalize_value: column: MRIT2FLAIRSagittal\n",
      "(27/92) normalize_value: column: MRIT2FLAIRSagittal_c\n",
      "(28/92) normalize_value: column: MRIGRESWIAxial\n",
      "(29/92) normalize_value: column: MRIGRESWIAxial_c\n",
      "(30/92) normalize_value: column: MRIGRESWICoronal\n",
      "(31/92) normalize_value: column: MRIGRESWICoronal_c\n",
      "(32/92) normalize_value: column: MRIGRESWISagittal\n",
      "(33/92) normalize_value: column: MRIGRESWISagittal_c\n",
      "(34/92) normalize_value: column: MRISPGRAxial\n",
      "(35/92) normalize_value: column: MRISPGRAxial_c\n",
      "(36/92) normalize_value: column: MRISPGRCoronal\n",
      "(37/92) normalize_value: column: MRISPGRCoronal_c\n",
      "(38/92) normalize_value: column: MRISPGRSagittal\n",
      "(39/92) normalize_value: column: MRISPGRSagittal_c\n",
      "(40/92) normalize_value: column: MRIDWI\n",
      "(41/92) normalize_value: column: MRIDWI_c\n",
      "(42/92) normalize_value: column: MRIADC\n",
      "(43/92) normalize_value: column: MRIADC_c\n",
      "(44/92) normalize_value: column: MRIOther\n",
      "(45/92) normalize_value: column: MRIOther_c\n",
      "(46/92) normalize_value: column: MRIOtherText\n",
      "(47/92) normalize_value: column: MRIOverallDiagnosis\n",
      "[WARN] unable to float: val (2 Abnormal/<class 'str'>) e: could not convert string to float: '2 Abnormal'\n",
      "[WARN] unable to get value: sheet_name: MRIOverallDiagnosis value: 2 Abnormal value_float: 2 Abnormal value_int: 2 Abnormal\n",
      "[WARN] unable to float: val (2 Abnormal/<class 'str'>) e: could not convert string to float: '2 Abnormal'\n",
      "[WARN] unable to get value: sheet_name: MRIOverallDiagnosis value: 2 Abnormal value_float: 2 Abnormal value_int: 2 Abnormal\n",
      "[WARN] unable to float: val (2 Abnormal/<class 'str'>) e: could not convert string to float: '2 Abnormal'\n",
      "[WARN] unable to get value: sheet_name: MRIOverallDiagnosis value: 2 Abnormal value_float: 2 Abnormal value_int: 2 Abnormal\n",
      "[WARN] unable to float: val (1 Normal/<class 'str'>) e: could not convert string to float: '1 Normal'\n",
      "[WARN] unable to get value: sheet_name: MRIOverallDiagnosis value: 1 Normal value_float: 1 Normal value_int: 1 Normal\n",
      "[WARN] unable to float: val (1 Normal/<class 'str'>) e: could not convert string to float: '1 Normal'\n",
      "[WARN] unable to get value: sheet_name: MRIOverallDiagnosis value: 1 Normal value_float: 1 Normal value_int: 1 Normal\n",
      "[WARN] unable to float: val (2 Abnormal/<class 'str'>) e: could not convert string to float: '2 Abnormal'\n",
      "[WARN] unable to get value: sheet_name: MRIOverallDiagnosis value: 2 Abnormal value_float: 2 Abnormal value_int: 2 Abnormal\n",
      "[WARN] unable to float: val (3 Normal with other findings/<class 'str'>) e: could not convert string to float: '3 Normal with other findings'\n",
      "[WARN] unable to get value: sheet_name: MRIOverallDiagnosis value: 3 Normal with other findings value_float: 3 Normal with other findings value_int: 3 Normal with other findings\n",
      "[WARN] unable to float: val (2 Abnormal/<class 'str'>) e: could not convert string to float: '2 Abnormal'\n",
      "[WARN] unable to get value: sheet_name: MRIOverallDiagnosis value: 2 Abnormal value_float: 2 Abnormal value_int: 2 Abnormal\n",
      "[WARN] unable to float: val (2 Abnormal/<class 'str'>) e: could not convert string to float: '2 Abnormal'\n",
      "[WARN] unable to get value: sheet_name: MRIOverallDiagnosis value: 2 Abnormal value_float: 2 Abnormal value_int: 2 Abnormal\n",
      "[WARN] unable to float: val (1 Normal/<class 'str'>) e: could not convert string to float: '1 Normal'\n",
      "[WARN] unable to get value: sheet_name: MRIOverallDiagnosis value: 1 Normal value_float: 1 Normal value_int: 1 Normal\n",
      "[WARN] unable to float: val (2 Abnormal/<class 'str'>) e: could not convert string to float: '2 Abnormal'\n",
      "[WARN] unable to get value: sheet_name: MRIOverallDiagnosis value: 2 Abnormal value_float: 2 Abnormal value_int: 2 Abnormal\n",
      "[WARN] unable to float: val (2 Abnormal/<class 'str'>) e: could not convert string to float: '2 Abnormal'\n",
      "[WARN] unable to get value: sheet_name: MRIOverallDiagnosis value: 2 Abnormal value_float: 2 Abnormal value_int: 2 Abnormal\n",
      "[WARN] unable to float: val (2 Abnormal/<class 'str'>) e: could not convert string to float: '2 Abnormal'\n",
      "[WARN] unable to get value: sheet_name: MRIOverallDiagnosis value: 2 Abnormal value_float: 2 Abnormal value_int: 2 Abnormal\n",
      "[WARN] unable to float: val (2 Abnormal/<class 'str'>) e: could not convert string to float: '2 Abnormal'\n",
      "[WARN] unable to get value: sheet_name: MRIOverallDiagnosis value: 2 Abnormal value_float: 2 Abnormal value_int: 2 Abnormal\n",
      "[WARN] unable to float: val (2 Abnormal/<class 'str'>) e: could not convert string to float: '2 Abnormal'\n",
      "[WARN] unable to get value: sheet_name: MRIOverallDiagnosis value: 2 Abnormal value_float: 2 Abnormal value_int: 2 Abnormal\n",
      "[WARN] unable to float: val (1 Normal/<class 'str'>) e: could not convert string to float: '1 Normal'\n",
      "[WARN] unable to get value: sheet_name: MRIOverallDiagnosis value: 1 Normal value_float: 1 Normal value_int: 1 Normal\n",
      "[WARN] unable to float: val (2 Abnormal/<class 'str'>) e: could not convert string to float: '2 Abnormal'\n",
      "[WARN] unable to get value: sheet_name: MRIOverallDiagnosis value: 2 Abnormal value_float: 2 Abnormal value_int: 2 Abnormal\n",
      "[WARN] unable to float: val (2 Abnormal/<class 'str'>) e: could not convert string to float: '2 Abnormal'\n",
      "[WARN] unable to get value: sheet_name: MRIOverallDiagnosis value: 2 Abnormal value_float: 2 Abnormal value_int: 2 Abnormal\n",
      "[WARN] unable to float: val (2 Abnormal/<class 'str'>) e: could not convert string to float: '2 Abnormal'\n",
      "[WARN] unable to get value: sheet_name: MRIOverallDiagnosis value: 2 Abnormal value_float: 2 Abnormal value_int: 2 Abnormal\n",
      "[WARN] unable to float: val (2 Abnormal/<class 'str'>) e: could not convert string to float: '2 Abnormal'\n",
      "[WARN] unable to get value: sheet_name: MRIOverallDiagnosis value: 2 Abnormal value_float: 2 Abnormal value_int: 2 Abnormal\n",
      "[WARN] unable to get value: sheet_name: MRIOverallDiagnosis value: - value_float:  value_int: \n",
      "[WARN] unable to float: val (2 Abnormal/<class 'str'>) e: could not convert string to float: '2 Abnormal'\n",
      "[WARN] unable to get value: sheet_name: MRIOverallDiagnosis value: 2 Abnormal value_float: 2 Abnormal value_int: 2 Abnormal\n",
      "[WARN] unable to float: val (2 Abnormal/<class 'str'>) e: could not convert string to float: '2 Abnormal'\n",
      "[WARN] unable to get value: sheet_name: MRIOverallDiagnosis value: 2 Abnormal value_float: 2 Abnormal value_int: 2 Abnormal\n",
      "[WARN] unable to float: val (2 Abnormal/<class 'str'>) e: could not convert string to float: '2 Abnormal'\n",
      "[WARN] unable to get value: sheet_name: MRIOverallDiagnosis value: 2 Abnormal value_float: 2 Abnormal value_int: 2 Abnormal\n",
      "[WARN] unable to float: val (2 Abnormal/<class 'str'>) e: could not convert string to float: '2 Abnormal'\n",
      "[WARN] unable to get value: sheet_name: MRIOverallDiagnosis value: 2 Abnormal value_float: 2 Abnormal value_int: 2 Abnormal\n",
      "[WARN] unable to float: val (2 Abnormal/<class 'str'>) e: could not convert string to float: '2 Abnormal'\n",
      "[WARN] unable to get value: sheet_name: MRIOverallDiagnosis value: 2 Abnormal value_float: 2 Abnormal value_int: 2 Abnormal\n",
      "[WARN] unable to float: val (2 Abnormal/<class 'str'>) e: could not convert string to float: '2 Abnormal'\n",
      "[WARN] unable to get value: sheet_name: MRIOverallDiagnosis value: 2 Abnormal value_float: 2 Abnormal value_int: 2 Abnormal\n",
      "[WARN] unable to float: val (2 Abnormal/<class 'str'>) e: could not convert string to float: '2 Abnormal'\n",
      "[WARN] unable to get value: sheet_name: MRIOverallDiagnosis value: 2 Abnormal value_float: 2 Abnormal value_int: 2 Abnormal\n",
      "[WARN] unable to float: val (2 Abnormal/<class 'str'>) e: could not convert string to float: '2 Abnormal'\n",
      "[WARN] unable to get value: sheet_name: MRIOverallDiagnosis value: 2 Abnormal value_float: 2 Abnormal value_int: 2 Abnormal\n",
      "[WARN] unable to float: val (2 Abnormal/<class 'str'>) e: could not convert string to float: '2 Abnormal'\n",
      "[WARN] unable to get value: sheet_name: MRIOverallDiagnosis value: 2 Abnormal value_float: 2 Abnormal value_int: 2 Abnormal\n",
      "[WARN] unable to float: val (2 Abnormal/<class 'str'>) e: could not convert string to float: '2 Abnormal'\n",
      "[WARN] unable to get value: sheet_name: MRIOverallDiagnosis value: 2 Abnormal value_float: 2 Abnormal value_int: 2 Abnormal\n",
      "[WARN] unable to float: val (3 Normal with other findings/<class 'str'>) e: could not convert string to float: '3 Normal with other findings'\n",
      "[WARN] unable to get value: sheet_name: MRIOverallDiagnosis value: 3 Normal with other findings value_float: 3 Normal with other findings value_int: 3 Normal with other findings\n",
      "[WARN] unable to float: val (2 Abnormal/<class 'str'>) e: could not convert string to float: '2 Abnormal'\n",
      "[WARN] unable to get value: sheet_name: MRIOverallDiagnosis value: 2 Abnormal value_float: 2 Abnormal value_int: 2 Abnormal\n",
      "[WARN] unable to float: val (2 Abnormal/<class 'str'>) e: could not convert string to float: '2 Abnormal'\n",
      "[WARN] unable to get value: sheet_name: MRIOverallDiagnosis value: 2 Abnormal value_float: 2 Abnormal value_int: 2 Abnormal\n",
      "[WARN] unable to float: val (3 Normal with other findings/<class 'str'>) e: could not convert string to float: '3 Normal with other findings'\n",
      "[WARN] unable to get value: sheet_name: MRIOverallDiagnosis value: 3 Normal with other findings value_float: 3 Normal with other findings value_int: 3 Normal with other findings\n",
      "[WARN] unable to float: val (2 Abnormal/<class 'str'>) e: could not convert string to float: '2 Abnormal'\n",
      "[WARN] unable to get value: sheet_name: MRIOverallDiagnosis value: 2 Abnormal value_float: 2 Abnormal value_int: 2 Abnormal\n",
      "[WARN] unable to float: val (1 Normal/<class 'str'>) e: could not convert string to float: '1 Normal'\n",
      "[WARN] unable to get value: sheet_name: MRIOverallDiagnosis value: 1 Normal value_float: 1 Normal value_int: 1 Normal\n",
      "[WARN] unable to float: val (2 Abnormal/<class 'str'>) e: could not convert string to float: '2 Abnormal'\n",
      "[WARN] unable to get value: sheet_name: MRIOverallDiagnosis value: 2 Abnormal value_float: 2 Abnormal value_int: 2 Abnormal\n",
      "[WARN] unable to float: val (2 Abnormal/<class 'str'>) e: could not convert string to float: '2 Abnormal'\n",
      "[WARN] unable to get value: sheet_name: MRIOverallDiagnosis value: 2 Abnormal value_float: 2 Abnormal value_int: 2 Abnormal\n",
      "[WARN] unable to float: val (2 Abnormal/<class 'str'>) e: could not convert string to float: '2 Abnormal'\n",
      "[WARN] unable to get value: sheet_name: MRIOverallDiagnosis value: 2 Abnormal value_float: 2 Abnormal value_int: 2 Abnormal\n",
      "[WARN] unable to float: val (2 Abnormal/<class 'str'>) e: could not convert string to float: '2 Abnormal'\n",
      "[WARN] unable to get value: sheet_name: MRIOverallDiagnosis value: 2 Abnormal value_float: 2 Abnormal value_int: 2 Abnormal\n",
      "[WARN] unable to float: val (3 Normal with other findings/<class 'str'>) e: could not convert string to float: '3 Normal with other findings'\n",
      "[WARN] unable to get value: sheet_name: MRIOverallDiagnosis value: 3 Normal with other findings value_float: 3 Normal with other findings value_int: 3 Normal with other findings\n",
      "[WARN] unable to float: val (2 Abnormal/<class 'str'>) e: could not convert string to float: '2 Abnormal'\n",
      "[WARN] unable to get value: sheet_name: MRIOverallDiagnosis value: 2 Abnormal value_float: 2 Abnormal value_int: 2 Abnormal\n",
      "[WARN] unable to float: val (2 Abnormal/<class 'str'>) e: could not convert string to float: '2 Abnormal'\n",
      "[WARN] unable to get value: sheet_name: MRIOverallDiagnosis value: 2 Abnormal value_float: 2 Abnormal value_int: 2 Abnormal\n",
      "[WARN] unable to float: val (1 Normal/<class 'str'>) e: could not convert string to float: '1 Normal'\n",
      "[WARN] unable to get value: sheet_name: MRIOverallDiagnosis value: 1 Normal value_float: 1 Normal value_int: 1 Normal\n",
      "[WARN] unable to float: val (2 Abnormal/<class 'str'>) e: could not convert string to float: '2 Abnormal'\n",
      "[WARN] unable to get value: sheet_name: MRIOverallDiagnosis value: 2 Abnormal value_float: 2 Abnormal value_int: 2 Abnormal\n",
      "[WARN] unable to float: val (3 Normal with other findings/<class 'str'>) e: could not convert string to float: '3 Normal with other findings'\n",
      "[WARN] unable to get value: sheet_name: MRIOverallDiagnosis value: 3 Normal with other findings value_float: 3 Normal with other findings value_int: 3 Normal with other findings\n",
      "[WARN] unable to float: val (1 Normal/<class 'str'>) e: could not convert string to float: '1 Normal'\n",
      "[WARN] unable to get value: sheet_name: MRIOverallDiagnosis value: 1 Normal value_float: 1 Normal value_int: 1 Normal\n",
      "[WARN] unable to float: val (1 Normal/<class 'str'>) e: could not convert string to float: '1 Normal'\n",
      "[WARN] unable to get value: sheet_name: MRIOverallDiagnosis value: 1 Normal value_float: 1 Normal value_int: 1 Normal\n",
      "[WARN] unable to float: val (1 Normal/<class 'str'>) e: could not convert string to float: '1 Normal'\n",
      "[WARN] unable to get value: sheet_name: MRIOverallDiagnosis value: 1 Normal value_float: 1 Normal value_int: 1 Normal\n",
      "[WARN] unable to float: val (2 Abnormal/<class 'str'>) e: could not convert string to float: '2 Abnormal'\n",
      "[WARN] unable to get value: sheet_name: MRIOverallDiagnosis value: 2 Abnormal value_float: 2 Abnormal value_int: 2 Abnormal\n",
      "[WARN] unable to float: val (2 Abnormal/<class 'str'>) e: could not convert string to float: '2 Abnormal'\n",
      "[WARN] unable to get value: sheet_name: MRIOverallDiagnosis value: 2 Abnormal value_float: 2 Abnormal value_int: 2 Abnormal\n",
      "[WARN] unable to float: val (2 Abnormal/<class 'str'>) e: could not convert string to float: '2 Abnormal'\n",
      "[WARN] unable to get value: sheet_name: MRIOverallDiagnosis value: 2 Abnormal value_float: 2 Abnormal value_int: 2 Abnormal\n",
      "[WARN] unable to float: val (2 Abnormal/<class 'str'>) e: could not convert string to float: '2 Abnormal'\n",
      "[WARN] unable to get value: sheet_name: MRIOverallDiagnosis value: 2 Abnormal value_float: 2 Abnormal value_int: 2 Abnormal\n",
      "[WARN] unable to float: val (2 Abnormal/<class 'str'>) e: could not convert string to float: '2 Abnormal'\n",
      "[WARN] unable to get value: sheet_name: MRIOverallDiagnosis value: 2 Abnormal value_float: 2 Abnormal value_int: 2 Abnormal\n",
      "[WARN] unable to float: val (2 Abnormal/<class 'str'>) e: could not convert string to float: '2 Abnormal'\n",
      "[WARN] unable to get value: sheet_name: MRIOverallDiagnosis value: 2 Abnormal value_float: 2 Abnormal value_int: 2 Abnormal\n",
      "[WARN] unable to float: val (2 Abnormal/<class 'str'>) e: could not convert string to float: '2 Abnormal'\n",
      "[WARN] unable to get value: sheet_name: MRIOverallDiagnosis value: 2 Abnormal value_float: 2 Abnormal value_int: 2 Abnormal\n",
      "[WARN] unable to float: val (1 Normal/<class 'str'>) e: could not convert string to float: '1 Normal'\n",
      "[WARN] unable to get value: sheet_name: MRIOverallDiagnosis value: 1 Normal value_float: 1 Normal value_int: 1 Normal\n",
      "[WARN] unable to float: val (2 Abnormal/<class 'str'>) e: could not convert string to float: '2 Abnormal'\n",
      "[WARN] unable to get value: sheet_name: MRIOverallDiagnosis value: 2 Abnormal value_float: 2 Abnormal value_int: 2 Abnormal\n",
      "[WARN] unable to float: val (2 Abnormal/<class 'str'>) e: could not convert string to float: '2 Abnormal'\n",
      "[WARN] unable to get value: sheet_name: MRIOverallDiagnosis value: 2 Abnormal value_float: 2 Abnormal value_int: 2 Abnormal\n",
      "[WARN] unable to float: val (1 Normal/<class 'str'>) e: could not convert string to float: '1 Normal'\n",
      "[WARN] unable to get value: sheet_name: MRIOverallDiagnosis value: 1 Normal value_float: 1 Normal value_int: 1 Normal\n",
      "[WARN] unable to float: val (3 Normal with other findings/<class 'str'>) e: could not convert string to float: '3 Normal with other findings'\n",
      "[WARN] unable to get value: sheet_name: MRIOverallDiagnosis value: 3 Normal with other findings value_float: 3 Normal with other findings value_int: 3 Normal with other findings\n",
      "[WARN] unable to float: val (2 Abnormal/<class 'str'>) e: could not convert string to float: '2 Abnormal'\n",
      "[WARN] unable to get value: sheet_name: MRIOverallDiagnosis value: 2 Abnormal value_float: 2 Abnormal value_int: 2 Abnormal\n",
      "[WARN] unable to float: val (2 Abnormal/<class 'str'>) e: could not convert string to float: '2 Abnormal'\n",
      "[WARN] unable to get value: sheet_name: MRIOverallDiagnosis value: 2 Abnormal value_float: 2 Abnormal value_int: 2 Abnormal\n",
      "[WARN] unable to float: val (2 Abnormal/<class 'str'>) e: could not convert string to float: '2 Abnormal'\n",
      "[WARN] unable to get value: sheet_name: MRIOverallDiagnosis value: 2 Abnormal value_float: 2 Abnormal value_int: 2 Abnormal\n",
      "[WARN] unable to float: val (1 Normal/<class 'str'>) e: could not convert string to float: '1 Normal'\n",
      "[WARN] unable to get value: sheet_name: MRIOverallDiagnosis value: 1 Normal value_float: 1 Normal value_int: 1 Normal\n",
      "[WARN] unable to float: val (2 Abnormal/<class 'str'>) e: could not convert string to float: '2 Abnormal'\n",
      "[WARN] unable to get value: sheet_name: MRIOverallDiagnosis value: 2 Abnormal value_float: 2 Abnormal value_int: 2 Abnormal\n",
      "[WARN] unable to float: val (2 Abnormal/<class 'str'>) e: could not convert string to float: '2 Abnormal'\n",
      "[WARN] unable to get value: sheet_name: MRIOverallDiagnosis value: 2 Abnormal value_float: 2 Abnormal value_int: 2 Abnormal\n",
      "[WARN] unable to float: val (2 Abnormal/<class 'str'>) e: could not convert string to float: '2 Abnormal'\n",
      "[WARN] unable to get value: sheet_name: MRIOverallDiagnosis value: 2 Abnormal value_float: 2 Abnormal value_int: 2 Abnormal\n",
      "[WARN] unable to float: val (2 Abnormal/<class 'str'>) e: could not convert string to float: '2 Abnormal'\n",
      "[WARN] unable to get value: sheet_name: MRIOverallDiagnosis value: 2 Abnormal value_float: 2 Abnormal value_int: 2 Abnormal\n",
      "[WARN] unable to float: val (2 Abnormal/<class 'str'>) e: could not convert string to float: '2 Abnormal'\n",
      "[WARN] unable to get value: sheet_name: MRIOverallDiagnosis value: 2 Abnormal value_float: 2 Abnormal value_int: 2 Abnormal\n",
      "[WARN] unable to float: val (2 Abnormal/<class 'str'>) e: could not convert string to float: '2 Abnormal'\n",
      "[WARN] unable to get value: sheet_name: MRIOverallDiagnosis value: 2 Abnormal value_float: 2 Abnormal value_int: 2 Abnormal\n",
      "[WARN] unable to float: val (2 Abnormal/<class 'str'>) e: could not convert string to float: '2 Abnormal'\n",
      "[WARN] unable to get value: sheet_name: MRIOverallDiagnosis value: 2 Abnormal value_float: 2 Abnormal value_int: 2 Abnormal\n",
      "[WARN] unable to float: val (Permanently Missing/<class 'str'>) e: could not convert string to float: 'Permanently Missing'\n",
      "[WARN] unable to get value: sheet_name: MRIOverallDiagnosis value: Permanently Missing value_float: Permanently Missing value_int: Permanently Missing\n",
      "[WARN] unable to float: val (2 Abnormal/<class 'str'>) e: could not convert string to float: '2 Abnormal'\n",
      "[WARN] unable to get value: sheet_name: MRIOverallDiagnosis value: 2 Abnormal value_float: 2 Abnormal value_int: 2 Abnormal\n",
      "[WARN] unable to float: val (2 Abnormal/<class 'str'>) e: could not convert string to float: '2 Abnormal'\n",
      "[WARN] unable to get value: sheet_name: MRIOverallDiagnosis value: 2 Abnormal value_float: 2 Abnormal value_int: 2 Abnormal\n",
      "[WARN] unable to float: val (2 Abnormal/<class 'str'>) e: could not convert string to float: '2 Abnormal'\n",
      "[WARN] unable to get value: sheet_name: MRIOverallDiagnosis value: 2 Abnormal value_float: 2 Abnormal value_int: 2 Abnormal\n",
      "[WARN] unable to float: val (1 Normal/<class 'str'>) e: could not convert string to float: '1 Normal'\n",
      "[WARN] unable to get value: sheet_name: MRIOverallDiagnosis value: 1 Normal value_float: 1 Normal value_int: 1 Normal\n",
      "[WARN] unable to float: val (2 Abnormal/<class 'str'>) e: could not convert string to float: '2 Abnormal'\n",
      "[WARN] unable to get value: sheet_name: MRIOverallDiagnosis value: 2 Abnormal value_float: 2 Abnormal value_int: 2 Abnormal\n",
      "[WARN] unable to float: val (2 Abnormal/<class 'str'>) e: could not convert string to float: '2 Abnormal'\n",
      "[WARN] unable to get value: sheet_name: MRIOverallDiagnosis value: 2 Abnormal value_float: 2 Abnormal value_int: 2 Abnormal\n",
      "[WARN] unable to float: val (2 Abnormal/<class 'str'>) e: could not convert string to float: '2 Abnormal'\n",
      "[WARN] unable to get value: sheet_name: MRIOverallDiagnosis value: 2 Abnormal value_float: 2 Abnormal value_int: 2 Abnormal\n",
      "[WARN] unable to float: val (2 Abnormal/<class 'str'>) e: could not convert string to float: '2 Abnormal'\n",
      "[WARN] unable to get value: sheet_name: MRIOverallDiagnosis value: 2 Abnormal value_float: 2 Abnormal value_int: 2 Abnormal\n",
      "[WARN] unable to float: val (2 Abnormal/<class 'str'>) e: could not convert string to float: '2 Abnormal'\n",
      "[WARN] unable to get value: sheet_name: MRIOverallDiagnosis value: 2 Abnormal value_float: 2 Abnormal value_int: 2 Abnormal\n",
      "[WARN] unable to float: val (2 Abnormal/<class 'str'>) e: could not convert string to float: '2 Abnormal'\n",
      "[WARN] unable to get value: sheet_name: MRIOverallDiagnosis value: 2 Abnormal value_float: 2 Abnormal value_int: 2 Abnormal\n",
      "[WARN] unable to float: val (1 Normal/<class 'str'>) e: could not convert string to float: '1 Normal'\n",
      "[WARN] unable to get value: sheet_name: MRIOverallDiagnosis value: 1 Normal value_float: 1 Normal value_int: 1 Normal\n",
      "[WARN] unable to float: val (1 Normal/<class 'str'>) e: could not convert string to float: '1 Normal'\n",
      "[WARN] unable to get value: sheet_name: MRIOverallDiagnosis value: 1 Normal value_float: 1 Normal value_int: 1 Normal\n",
      "[WARN] unable to float: val (2 Abnormal/<class 'str'>) e: could not convert string to float: '2 Abnormal'\n",
      "[WARN] unable to get value: sheet_name: MRIOverallDiagnosis value: 2 Abnormal value_float: 2 Abnormal value_int: 2 Abnormal\n",
      "[WARN] unable to float: val (1 Normal/<class 'str'>) e: could not convert string to float: '1 Normal'\n",
      "[WARN] unable to get value: sheet_name: MRIOverallDiagnosis value: 1 Normal value_float: 1 Normal value_int: 1 Normal\n",
      "[WARN] unable to float: val (2 Abnormal/<class 'str'>) e: could not convert string to float: '2 Abnormal'\n",
      "[WARN] unable to get value: sheet_name: MRIOverallDiagnosis value: 2 Abnormal value_float: 2 Abnormal value_int: 2 Abnormal\n",
      "[WARN] unable to float: val (2 Abnormal/<class 'str'>) e: could not convert string to float: '2 Abnormal'\n",
      "[WARN] unable to get value: sheet_name: MRIOverallDiagnosis value: 2 Abnormal value_float: 2 Abnormal value_int: 2 Abnormal\n",
      "[WARN] unable to float: val (2 Abnormal/<class 'str'>) e: could not convert string to float: '2 Abnormal'\n",
      "[WARN] unable to get value: sheet_name: MRIOverallDiagnosis value: 2 Abnormal value_float: 2 Abnormal value_int: 2 Abnormal\n",
      "[WARN] unable to float: val (Permanently Missing/<class 'str'>) e: could not convert string to float: 'Permanently Missing'\n",
      "[WARN] unable to get value: sheet_name: MRIOverallDiagnosis value: Permanently Missing value_float: Permanently Missing value_int: Permanently Missing\n",
      "[WARN] unable to float: val (2 Abnormal/<class 'str'>) e: could not convert string to float: '2 Abnormal'\n",
      "[WARN] unable to get value: sheet_name: MRIOverallDiagnosis value: 2 Abnormal value_float: 2 Abnormal value_int: 2 Abnormal\n",
      "[WARN] unable to float: val (2 Abnormal/<class 'str'>) e: could not convert string to float: '2 Abnormal'\n",
      "[WARN] unable to get value: sheet_name: MRIOverallDiagnosis value: 2 Abnormal value_float: 2 Abnormal value_int: 2 Abnormal\n",
      "[WARN] unable to float: val (1 Normal/<class 'str'>) e: could not convert string to float: '1 Normal'\n",
      "[WARN] unable to get value: sheet_name: MRIOverallDiagnosis value: 1 Normal value_float: 1 Normal value_int: 1 Normal\n",
      "[WARN] unable to float: val (2 Abnormal/<class 'str'>) e: could not convert string to float: '2 Abnormal'\n",
      "[WARN] unable to get value: sheet_name: MRIOverallDiagnosis value: 2 Abnormal value_float: 2 Abnormal value_int: 2 Abnormal\n",
      "[WARN] unable to float: val (2 Abnormal/<class 'str'>) e: could not convert string to float: '2 Abnormal'\n",
      "[WARN] unable to get value: sheet_name: MRIOverallDiagnosis value: 2 Abnormal value_float: 2 Abnormal value_int: 2 Abnormal\n",
      "[WARN] unable to float: val (2 Abnormal/<class 'str'>) e: could not convert string to float: '2 Abnormal'\n",
      "[WARN] unable to get value: sheet_name: MRIOverallDiagnosis value: 2 Abnormal value_float: 2 Abnormal value_int: 2 Abnormal\n",
      "[WARN] unable to float: val (2 Abnormal/<class 'str'>) e: could not convert string to float: '2 Abnormal'\n",
      "[WARN] unable to get value: sheet_name: MRIOverallDiagnosis value: 2 Abnormal value_float: 2 Abnormal value_int: 2 Abnormal\n",
      "[WARN] unable to float: val (2 Abnormal/<class 'str'>) e: could not convert string to float: '2 Abnormal'\n",
      "[WARN] unable to get value: sheet_name: MRIOverallDiagnosis value: 2 Abnormal value_float: 2 Abnormal value_int: 2 Abnormal\n",
      "[WARN] unable to float: val (2 Abnormal/<class 'str'>) e: could not convert string to float: '2 Abnormal'\n",
      "[WARN] unable to get value: sheet_name: MRIOverallDiagnosis value: 2 Abnormal value_float: 2 Abnormal value_int: 2 Abnormal\n",
      "[WARN] unable to float: val (2 Abnormal/<class 'str'>) e: could not convert string to float: '2 Abnormal'\n",
      "[WARN] unable to get value: sheet_name: MRIOverallDiagnosis value: 2 Abnormal value_float: 2 Abnormal value_int: 2 Abnormal\n",
      "[WARN] unable to float: val (2 Abnormal/<class 'str'>) e: could not convert string to float: '2 Abnormal'\n",
      "[WARN] unable to get value: sheet_name: MRIOverallDiagnosis value: 2 Abnormal value_float: 2 Abnormal value_int: 2 Abnormal\n",
      "[WARN] unable to float: val (1 Normal/<class 'str'>) e: could not convert string to float: '1 Normal'\n",
      "[WARN] unable to get value: sheet_name: MRIOverallDiagnosis value: 1 Normal value_float: 1 Normal value_int: 1 Normal\n",
      "[WARN] unable to float: val (1 Normal/<class 'str'>) e: could not convert string to float: '1 Normal'\n",
      "[WARN] unable to get value: sheet_name: MRIOverallDiagnosis value: 1 Normal value_float: 1 Normal value_int: 1 Normal\n",
      "[WARN] unable to float: val (2 Abnormal/<class 'str'>) e: could not convert string to float: '2 Abnormal'\n",
      "[WARN] unable to get value: sheet_name: MRIOverallDiagnosis value: 2 Abnormal value_float: 2 Abnormal value_int: 2 Abnormal\n",
      "[WARN] unable to float: val (2 Abnormal/<class 'str'>) e: could not convert string to float: '2 Abnormal'\n",
      "[WARN] unable to get value: sheet_name: MRIOverallDiagnosis value: 2 Abnormal value_float: 2 Abnormal value_int: 2 Abnormal\n",
      "[WARN] unable to float: val (2 Abnormal/<class 'str'>) e: could not convert string to float: '2 Abnormal'\n",
      "[WARN] unable to get value: sheet_name: MRIOverallDiagnosis value: 2 Abnormal value_float: 2 Abnormal value_int: 2 Abnormal\n",
      "[WARN] unable to float: val (2 Abnormal/<class 'str'>) e: could not convert string to float: '2 Abnormal'\n",
      "[WARN] unable to get value: sheet_name: MRIOverallDiagnosis value: 2 Abnormal value_float: 2 Abnormal value_int: 2 Abnormal\n",
      "[WARN] unable to float: val (2 Abnormal/<class 'str'>) e: could not convert string to float: '2 Abnormal'\n",
      "[WARN] unable to get value: sheet_name: MRIOverallDiagnosis value: 2 Abnormal value_float: 2 Abnormal value_int: 2 Abnormal\n",
      "[WARN] unable to float: val (1 Normal/<class 'str'>) e: could not convert string to float: '1 Normal'\n",
      "[WARN] unable to get value: sheet_name: MRIOverallDiagnosis value: 1 Normal value_float: 1 Normal value_int: 1 Normal\n",
      "[WARN] unable to float: val (2 Abnormal/<class 'str'>) e: could not convert string to float: '2 Abnormal'\n",
      "[WARN] unable to get value: sheet_name: MRIOverallDiagnosis value: 2 Abnormal value_float: 2 Abnormal value_int: 2 Abnormal\n",
      "[WARN] unable to float: val (1 Normal/<class 'str'>) e: could not convert string to float: '1 Normal'\n",
      "[WARN] unable to get value: sheet_name: MRIOverallDiagnosis value: 1 Normal value_float: 1 Normal value_int: 1 Normal\n",
      "[WARN] unable to float: val (2 Abnormal/<class 'str'>) e: could not convert string to float: '2 Abnormal'\n",
      "[WARN] unable to get value: sheet_name: MRIOverallDiagnosis value: 2 Abnormal value_float: 2 Abnormal value_int: 2 Abnormal\n",
      "[WARN] unable to float: val (3 Normal with other findings/<class 'str'>) e: could not convert string to float: '3 Normal with other findings'\n",
      "[WARN] unable to get value: sheet_name: MRIOverallDiagnosis value: 3 Normal with other findings value_float: 3 Normal with other findings value_int: 3 Normal with other findings\n",
      "[WARN] unable to float: val (2 Abnormal/<class 'str'>) e: could not convert string to float: '2 Abnormal'\n",
      "[WARN] unable to get value: sheet_name: MRIOverallDiagnosis value: 2 Abnormal value_float: 2 Abnormal value_int: 2 Abnormal\n",
      "[WARN] unable to float: val (2 Abnormal/<class 'str'>) e: could not convert string to float: '2 Abnormal'\n",
      "[WARN] unable to get value: sheet_name: MRIOverallDiagnosis value: 2 Abnormal value_float: 2 Abnormal value_int: 2 Abnormal\n",
      "[WARN] unable to float: val (2 Abnormal/<class 'str'>) e: could not convert string to float: '2 Abnormal'\n",
      "[WARN] unable to get value: sheet_name: MRIOverallDiagnosis value: 2 Abnormal value_float: 2 Abnormal value_int: 2 Abnormal\n",
      "[WARN] unable to float: val (2 Abnormal/<class 'str'>) e: could not convert string to float: '2 Abnormal'\n",
      "[WARN] unable to get value: sheet_name: MRIOverallDiagnosis value: 2 Abnormal value_float: 2 Abnormal value_int: 2 Abnormal\n",
      "[WARN] unable to float: val (2 Abnormal/<class 'str'>) e: could not convert string to float: '2 Abnormal'\n",
      "[WARN] unable to get value: sheet_name: MRIOverallDiagnosis value: 2 Abnormal value_float: 2 Abnormal value_int: 2 Abnormal\n",
      "[WARN] unable to float: val (2 Abnormal/<class 'str'>) e: could not convert string to float: '2 Abnormal'\n",
      "[WARN] unable to get value: sheet_name: MRIOverallDiagnosis value: 2 Abnormal value_float: 2 Abnormal value_int: 2 Abnormal\n",
      "[WARN] unable to float: val (2 Abnormal/<class 'str'>) e: could not convert string to float: '2 Abnormal'\n",
      "[WARN] unable to get value: sheet_name: MRIOverallDiagnosis value: 2 Abnormal value_float: 2 Abnormal value_int: 2 Abnormal\n",
      "[WARN] unable to float: val (1 Normal/<class 'str'>) e: could not convert string to float: '1 Normal'\n",
      "[WARN] unable to get value: sheet_name: MRIOverallDiagnosis value: 1 Normal value_float: 1 Normal value_int: 1 Normal\n",
      "[WARN] unable to float: val (2 Abnormal/<class 'str'>) e: could not convert string to float: '2 Abnormal'\n",
      "[WARN] unable to get value: sheet_name: MRIOverallDiagnosis value: 2 Abnormal value_float: 2 Abnormal value_int: 2 Abnormal\n",
      "[WARN] unable to float: val (2 Abnormal/<class 'str'>) e: could not convert string to float: '2 Abnormal'\n",
      "[WARN] unable to get value: sheet_name: MRIOverallDiagnosis value: 2 Abnormal value_float: 2 Abnormal value_int: 2 Abnormal\n",
      "[WARN] unable to float: val (2 Abnormal/<class 'str'>) e: could not convert string to float: '2 Abnormal'\n",
      "[WARN] unable to get value: sheet_name: MRIOverallDiagnosis value: 2 Abnormal value_float: 2 Abnormal value_int: 2 Abnormal\n",
      "[WARN] unable to float: val (2 Abnormal/<class 'str'>) e: could not convert string to float: '2 Abnormal'\n",
      "[WARN] unable to get value: sheet_name: MRIOverallDiagnosis value: 2 Abnormal value_float: 2 Abnormal value_int: 2 Abnormal\n",
      "[WARN] unable to float: val (1 Normal/<class 'str'>) e: could not convert string to float: '1 Normal'\n",
      "[WARN] unable to get value: sheet_name: MRIOverallDiagnosis value: 1 Normal value_float: 1 Normal value_int: 1 Normal\n",
      "[WARN] unable to float: val (3 Normal with other findings/<class 'str'>) e: could not convert string to float: '3 Normal with other findings'\n",
      "[WARN] unable to get value: sheet_name: MRIOverallDiagnosis value: 3 Normal with other findings value_float: 3 Normal with other findings value_int: 3 Normal with other findings\n",
      "[WARN] unable to float: val (2 Abnormal/<class 'str'>) e: could not convert string to float: '2 Abnormal'\n",
      "[WARN] unable to get value: sheet_name: MRIOverallDiagnosis value: 2 Abnormal value_float: 2 Abnormal value_int: 2 Abnormal\n",
      "[WARN] unable to float: val (1 Normal/<class 'str'>) e: could not convert string to float: '1 Normal'\n",
      "[WARN] unable to get value: sheet_name: MRIOverallDiagnosis value: 1 Normal value_float: 1 Normal value_int: 1 Normal\n",
      "[WARN] unable to float: val (1 Normal/<class 'str'>) e: could not convert string to float: '1 Normal'\n",
      "[WARN] unable to get value: sheet_name: MRIOverallDiagnosis value: 1 Normal value_float: 1 Normal value_int: 1 Normal\n",
      "[WARN] unable to float: val (1 Normal/<class 'str'>) e: could not convert string to float: '1 Normal'\n",
      "[WARN] unable to get value: sheet_name: MRIOverallDiagnosis value: 1 Normal value_float: 1 Normal value_int: 1 Normal\n",
      "[WARN] unable to float: val (2 Abnormal/<class 'str'>) e: could not convert string to float: '2 Abnormal'\n",
      "[WARN] unable to get value: sheet_name: MRIOverallDiagnosis value: 2 Abnormal value_float: 2 Abnormal value_int: 2 Abnormal\n",
      "[WARN] unable to float: val (2 Abnormal/<class 'str'>) e: could not convert string to float: '2 Abnormal'\n",
      "[WARN] unable to get value: sheet_name: MRIOverallDiagnosis value: 2 Abnormal value_float: 2 Abnormal value_int: 2 Abnormal\n",
      "[WARN] unable to float: val (1 Normal/<class 'str'>) e: could not convert string to float: '1 Normal'\n",
      "[WARN] unable to get value: sheet_name: MRIOverallDiagnosis value: 1 Normal value_float: 1 Normal value_int: 1 Normal\n",
      "[WARN] unable to float: val (2 Abnormal/<class 'str'>) e: could not convert string to float: '2 Abnormal'\n",
      "[WARN] unable to get value: sheet_name: MRIOverallDiagnosis value: 2 Abnormal value_float: 2 Abnormal value_int: 2 Abnormal\n",
      "[WARN] unable to float: val (2 Abnormal/<class 'str'>) e: could not convert string to float: '2 Abnormal'\n",
      "[WARN] unable to get value: sheet_name: MRIOverallDiagnosis value: 2 Abnormal value_float: 2 Abnormal value_int: 2 Abnormal\n",
      "[WARN] unable to float: val (2 Abnormal/<class 'str'>) e: could not convert string to float: '2 Abnormal'\n",
      "[WARN] unable to get value: sheet_name: MRIOverallDiagnosis value: 2 Abnormal value_float: 2 Abnormal value_int: 2 Abnormal\n",
      "[WARN] unable to float: val (2 Abnormal/<class 'str'>) e: could not convert string to float: '2 Abnormal'\n",
      "[WARN] unable to get value: sheet_name: MRIOverallDiagnosis value: 2 Abnormal value_float: 2 Abnormal value_int: 2 Abnormal\n",
      "[WARN] unable to float: val (2 Abnormal/<class 'str'>) e: could not convert string to float: '2 Abnormal'\n",
      "[WARN] unable to get value: sheet_name: MRIOverallDiagnosis value: 2 Abnormal value_float: 2 Abnormal value_int: 2 Abnormal\n",
      "[WARN] unable to float: val (2 Abnormal/<class 'str'>) e: could not convert string to float: '2 Abnormal'\n",
      "[WARN] unable to get value: sheet_name: MRIOverallDiagnosis value: 2 Abnormal value_float: 2 Abnormal value_int: 2 Abnormal\n",
      "[WARN] unable to float: val (2 Abnormal/<class 'str'>) e: could not convert string to float: '2 Abnormal'\n",
      "[WARN] unable to get value: sheet_name: MRIOverallDiagnosis value: 2 Abnormal value_float: 2 Abnormal value_int: 2 Abnormal\n",
      "[WARN] unable to float: val (2 Abnormal/<class 'str'>) e: could not convert string to float: '2 Abnormal'\n",
      "[WARN] unable to get value: sheet_name: MRIOverallDiagnosis value: 2 Abnormal value_float: 2 Abnormal value_int: 2 Abnormal\n",
      "[WARN] unable to float: val (2 Abnormal/<class 'str'>) e: could not convert string to float: '2 Abnormal'\n",
      "[WARN] unable to get value: sheet_name: MRIOverallDiagnosis value: 2 Abnormal value_float: 2 Abnormal value_int: 2 Abnormal\n",
      "[WARN] unable to float: val (2 Abnormal/<class 'str'>) e: could not convert string to float: '2 Abnormal'\n",
      "[WARN] unable to get value: sheet_name: MRIOverallDiagnosis value: 2 Abnormal value_float: 2 Abnormal value_int: 2 Abnormal\n",
      "[WARN] unable to float: val (2 Abnormal/<class 'str'>) e: could not convert string to float: '2 Abnormal'\n",
      "[WARN] unable to get value: sheet_name: MRIOverallDiagnosis value: 2 Abnormal value_float: 2 Abnormal value_int: 2 Abnormal\n",
      "[WARN] unable to float: val (2 Abnormal/<class 'str'>) e: could not convert string to float: '2 Abnormal'\n",
      "[WARN] unable to get value: sheet_name: MRIOverallDiagnosis value: 2 Abnormal value_float: 2 Abnormal value_int: 2 Abnormal\n",
      "[WARN] unable to float: val (2 Abnormal/<class 'str'>) e: could not convert string to float: '2 Abnormal'\n",
      "[WARN] unable to get value: sheet_name: MRIOverallDiagnosis value: 2 Abnormal value_float: 2 Abnormal value_int: 2 Abnormal\n",
      "[WARN] unable to float: val (2 Abnormal/<class 'str'>) e: could not convert string to float: '2 Abnormal'\n",
      "[WARN] unable to get value: sheet_name: MRIOverallDiagnosis value: 2 Abnormal value_float: 2 Abnormal value_int: 2 Abnormal\n",
      "[WARN] unable to float: val (2 Abnormal/<class 'str'>) e: could not convert string to float: '2 Abnormal'\n",
      "[WARN] unable to get value: sheet_name: MRIOverallDiagnosis value: 2 Abnormal value_float: 2 Abnormal value_int: 2 Abnormal\n",
      "[WARN] unable to float: val (1 Normal/<class 'str'>) e: could not convert string to float: '1 Normal'\n",
      "[WARN] unable to get value: sheet_name: MRIOverallDiagnosis value: 1 Normal value_float: 1 Normal value_int: 1 Normal\n",
      "[WARN] unable to float: val (2 Abnormal/<class 'str'>) e: could not convert string to float: '2 Abnormal'\n",
      "[WARN] unable to get value: sheet_name: MRIOverallDiagnosis value: 2 Abnormal value_float: 2 Abnormal value_int: 2 Abnormal\n",
      "[WARN] unable to float: val (2 Abnormal/<class 'str'>) e: could not convert string to float: '2 Abnormal'\n",
      "[WARN] unable to get value: sheet_name: MRIOverallDiagnosis value: 2 Abnormal value_float: 2 Abnormal value_int: 2 Abnormal\n",
      "[WARN] unable to float: val (2 Abnormal/<class 'str'>) e: could not convert string to float: '2 Abnormal'\n",
      "[WARN] unable to get value: sheet_name: MRIOverallDiagnosis value: 2 Abnormal value_float: 2 Abnormal value_int: 2 Abnormal\n",
      "[WARN] unable to float: val (2 Abnormal/<class 'str'>) e: could not convert string to float: '2 Abnormal'\n",
      "[WARN] unable to get value: sheet_name: MRIOverallDiagnosis value: 2 Abnormal value_float: 2 Abnormal value_int: 2 Abnormal\n",
      "[WARN] unable to float: val (2 Abnormal/<class 'str'>) e: could not convert string to float: '2 Abnormal'\n",
      "[WARN] unable to get value: sheet_name: MRIOverallDiagnosis value: 2 Abnormal value_float: 2 Abnormal value_int: 2 Abnormal\n",
      "[WARN] unable to float: val (2 Abnormal/<class 'str'>) e: could not convert string to float: '2 Abnormal'\n",
      "[WARN] unable to get value: sheet_name: MRIOverallDiagnosis value: 2 Abnormal value_float: 2 Abnormal value_int: 2 Abnormal\n",
      "[WARN] unable to float: val (2 Abnormal/<class 'str'>) e: could not convert string to float: '2 Abnormal'\n",
      "[WARN] unable to get value: sheet_name: MRIOverallDiagnosis value: 2 Abnormal value_float: 2 Abnormal value_int: 2 Abnormal\n",
      "[WARN] unable to float: val (2 Abnormal/<class 'str'>) e: could not convert string to float: '2 Abnormal'\n",
      "[WARN] unable to get value: sheet_name: MRIOverallDiagnosis value: 2 Abnormal value_float: 2 Abnormal value_int: 2 Abnormal\n",
      "[WARN] unable to float: val (1 Normal/<class 'str'>) e: could not convert string to float: '1 Normal'\n",
      "[WARN] unable to get value: sheet_name: MRIOverallDiagnosis value: 1 Normal value_float: 1 Normal value_int: 1 Normal\n",
      "[WARN] unable to float: val (2 Abnormal/<class 'str'>) e: could not convert string to float: '2 Abnormal'\n",
      "[WARN] unable to get value: sheet_name: MRIOverallDiagnosis value: 2 Abnormal value_float: 2 Abnormal value_int: 2 Abnormal\n",
      "[WARN] unable to float: val (2 Abnormal/<class 'str'>) e: could not convert string to float: '2 Abnormal'\n",
      "[WARN] unable to get value: sheet_name: MRIOverallDiagnosis value: 2 Abnormal value_float: 2 Abnormal value_int: 2 Abnormal\n",
      "[WARN] unable to float: val (3 Normal with other findings/<class 'str'>) e: could not convert string to float: '3 Normal with other findings'\n",
      "[WARN] unable to get value: sheet_name: MRIOverallDiagnosis value: 3 Normal with other findings value_float: 3 Normal with other findings value_int: 3 Normal with other findings\n",
      "[WARN] unable to float: val (2 Abnormal/<class 'str'>) e: could not convert string to float: '2 Abnormal'\n",
      "[WARN] unable to get value: sheet_name: MRIOverallDiagnosis value: 2 Abnormal value_float: 2 Abnormal value_int: 2 Abnormal\n",
      "[WARN] unable to float: val (2 Abnormal/<class 'str'>) e: could not convert string to float: '2 Abnormal'\n",
      "[WARN] unable to get value: sheet_name: MRIOverallDiagnosis value: 2 Abnormal value_float: 2 Abnormal value_int: 2 Abnormal\n",
      "[WARN] unable to float: val (2 Abnormal/<class 'str'>) e: could not convert string to float: '2 Abnormal'\n",
      "[WARN] unable to get value: sheet_name: MRIOverallDiagnosis value: 2 Abnormal value_float: 2 Abnormal value_int: 2 Abnormal\n",
      "[WARN] unable to float: val (2 Abnormal/<class 'str'>) e: could not convert string to float: '2 Abnormal'\n",
      "[WARN] unable to get value: sheet_name: MRIOverallDiagnosis value: 2 Abnormal value_float: 2 Abnormal value_int: 2 Abnormal\n",
      "[WARN] unable to float: val (2 Abnormal/<class 'str'>) e: could not convert string to float: '2 Abnormal'\n",
      "[WARN] unable to get value: sheet_name: MRIOverallDiagnosis value: 2 Abnormal value_float: 2 Abnormal value_int: 2 Abnormal\n",
      "[WARN] unable to float: val (3 Normal with other findings/<class 'str'>) e: could not convert string to float: '3 Normal with other findings'\n",
      "[WARN] unable to get value: sheet_name: MRIOverallDiagnosis value: 3 Normal with other findings value_float: 3 Normal with other findings value_int: 3 Normal with other findings\n",
      "[WARN] unable to float: val (1 Normal/<class 'str'>) e: could not convert string to float: '1 Normal'\n",
      "[WARN] unable to get value: sheet_name: MRIOverallDiagnosis value: 1 Normal value_float: 1 Normal value_int: 1 Normal\n",
      "[WARN] unable to float: val (2 Abnormal/<class 'str'>) e: could not convert string to float: '2 Abnormal'\n",
      "[WARN] unable to get value: sheet_name: MRIOverallDiagnosis value: 2 Abnormal value_float: 2 Abnormal value_int: 2 Abnormal\n",
      "[WARN] unable to float: val (3 Normal with other findings/<class 'str'>) e: could not convert string to float: '3 Normal with other findings'\n",
      "[WARN] unable to get value: sheet_name: MRIOverallDiagnosis value: 3 Normal with other findings value_float: 3 Normal with other findings value_int: 3 Normal with other findings\n",
      "[WARN] unable to float: val (2 Abnormal/<class 'str'>) e: could not convert string to float: '2 Abnormal'\n",
      "[WARN] unable to get value: sheet_name: MRIOverallDiagnosis value: 2 Abnormal value_float: 2 Abnormal value_int: 2 Abnormal\n",
      "[WARN] unable to float: val (2 Abnormal/<class 'str'>) e: could not convert string to float: '2 Abnormal'\n",
      "[WARN] unable to get value: sheet_name: MRIOverallDiagnosis value: 2 Abnormal value_float: 2 Abnormal value_int: 2 Abnormal\n",
      "[WARN] unable to float: val (2 Abnormal/<class 'str'>) e: could not convert string to float: '2 Abnormal'\n",
      "[WARN] unable to get value: sheet_name: MRIOverallDiagnosis value: 2 Abnormal value_float: 2 Abnormal value_int: 2 Abnormal\n",
      "[WARN] unable to float: val (2 Abnormal/<class 'str'>) e: could not convert string to float: '2 Abnormal'\n",
      "[WARN] unable to get value: sheet_name: MRIOverallDiagnosis value: 2 Abnormal value_float: 2 Abnormal value_int: 2 Abnormal\n",
      "[WARN] unable to float: val (2 Abnormal/<class 'str'>) e: could not convert string to float: '2 Abnormal'\n",
      "[WARN] unable to get value: sheet_name: MRIOverallDiagnosis value: 2 Abnormal value_float: 2 Abnormal value_int: 2 Abnormal\n",
      "[WARN] unable to float: val (2 Abnormal/<class 'str'>) e: could not convert string to float: '2 Abnormal'\n",
      "[WARN] unable to get value: sheet_name: MRIOverallDiagnosis value: 2 Abnormal value_float: 2 Abnormal value_int: 2 Abnormal\n",
      "[WARN] unable to float: val (2 Abnormal/<class 'str'>) e: could not convert string to float: '2 Abnormal'\n",
      "[WARN] unable to get value: sheet_name: MRIOverallDiagnosis value: 2 Abnormal value_float: 2 Abnormal value_int: 2 Abnormal\n",
      "[WARN] unable to float: val (2 Abnormal/<class 'str'>) e: could not convert string to float: '2 Abnormal'\n",
      "[WARN] unable to get value: sheet_name: MRIOverallDiagnosis value: 2 Abnormal value_float: 2 Abnormal value_int: 2 Abnormal\n",
      "[WARN] unable to float: val (2 Abnormal/<class 'str'>) e: could not convert string to float: '2 Abnormal'\n",
      "[WARN] unable to get value: sheet_name: MRIOverallDiagnosis value: 2 Abnormal value_float: 2 Abnormal value_int: 2 Abnormal\n",
      "[WARN] unable to float: val (2 Abnormal/<class 'str'>) e: could not convert string to float: '2 Abnormal'\n",
      "[WARN] unable to get value: sheet_name: MRIOverallDiagnosis value: 2 Abnormal value_float: 2 Abnormal value_int: 2 Abnormal\n",
      "[WARN] unable to float: val (3 Normal with other findings/<class 'str'>) e: could not convert string to float: '3 Normal with other findings'\n",
      "[WARN] unable to get value: sheet_name: MRIOverallDiagnosis value: 3 Normal with other findings value_float: 3 Normal with other findings value_int: 3 Normal with other findings\n",
      "[WARN] unable to float: val (2 Abnormal/<class 'str'>) e: could not convert string to float: '2 Abnormal'\n",
      "[WARN] unable to get value: sheet_name: MRIOverallDiagnosis value: 2 Abnormal value_float: 2 Abnormal value_int: 2 Abnormal\n",
      "[WARN] unable to float: val (2 Abnormal/<class 'str'>) e: could not convert string to float: '2 Abnormal'\n",
      "[WARN] unable to get value: sheet_name: MRIOverallDiagnosis value: 2 Abnormal value_float: 2 Abnormal value_int: 2 Abnormal\n",
      "[WARN] unable to float: val (1 Normal/<class 'str'>) e: could not convert string to float: '1 Normal'\n",
      "[WARN] unable to get value: sheet_name: MRIOverallDiagnosis value: 1 Normal value_float: 1 Normal value_int: 1 Normal\n",
      "[WARN] unable to float: val (2 Abnormal/<class 'str'>) e: could not convert string to float: '2 Abnormal'\n",
      "[WARN] unable to get value: sheet_name: MRIOverallDiagnosis value: 2 Abnormal value_float: 2 Abnormal value_int: 2 Abnormal\n",
      "[WARN] unable to float: val (2 Abnormal/<class 'str'>) e: could not convert string to float: '2 Abnormal'\n",
      "[WARN] unable to get value: sheet_name: MRIOverallDiagnosis value: 2 Abnormal value_float: 2 Abnormal value_int: 2 Abnormal\n",
      "[WARN] unable to float: val (2 Abnormal/<class 'str'>) e: could not convert string to float: '2 Abnormal'\n",
      "[WARN] unable to get value: sheet_name: MRIOverallDiagnosis value: 2 Abnormal value_float: 2 Abnormal value_int: 2 Abnormal\n",
      "[WARN] unable to float: val (2 Abnormal/<class 'str'>) e: could not convert string to float: '2 Abnormal'\n",
      "[WARN] unable to get value: sheet_name: MRIOverallDiagnosis value: 2 Abnormal value_float: 2 Abnormal value_int: 2 Abnormal\n",
      "[WARN] unable to float: val (3 Normal with other findings/<class 'str'>) e: could not convert string to float: '3 Normal with other findings'\n",
      "[WARN] unable to get value: sheet_name: MRIOverallDiagnosis value: 3 Normal with other findings value_float: 3 Normal with other findings value_int: 3 Normal with other findings\n",
      "[WARN] unable to float: val (2 Abnormal/<class 'str'>) e: could not convert string to float: '2 Abnormal'\n",
      "[WARN] unable to get value: sheet_name: MRIOverallDiagnosis value: 2 Abnormal value_float: 2 Abnormal value_int: 2 Abnormal\n",
      "[WARN] unable to float: val (2 Abnormal/<class 'str'>) e: could not convert string to float: '2 Abnormal'\n",
      "[WARN] unable to get value: sheet_name: MRIOverallDiagnosis value: 2 Abnormal value_float: 2 Abnormal value_int: 2 Abnormal\n",
      "[WARN] unable to float: val (2 Abnormal/<class 'str'>) e: could not convert string to float: '2 Abnormal'\n",
      "[WARN] unable to get value: sheet_name: MRIOverallDiagnosis value: 2 Abnormal value_float: 2 Abnormal value_int: 2 Abnormal\n",
      "[WARN] unable to float: val (2 Abnormal/<class 'str'>) e: could not convert string to float: '2 Abnormal'\n",
      "[WARN] unable to get value: sheet_name: MRIOverallDiagnosis value: 2 Abnormal value_float: 2 Abnormal value_int: 2 Abnormal\n",
      "[WARN] unable to float: val (2 Abnormal/<class 'str'>) e: could not convert string to float: '2 Abnormal'\n",
      "[WARN] unable to get value: sheet_name: MRIOverallDiagnosis value: 2 Abnormal value_float: 2 Abnormal value_int: 2 Abnormal\n",
      "[WARN] unable to float: val (2 Abnormal/<class 'str'>) e: could not convert string to float: '2 Abnormal'\n",
      "[WARN] unable to get value: sheet_name: MRIOverallDiagnosis value: 2 Abnormal value_float: 2 Abnormal value_int: 2 Abnormal\n",
      "[WARN] unable to float: val (2 Abnormal/<class 'str'>) e: could not convert string to float: '2 Abnormal'\n",
      "[WARN] unable to get value: sheet_name: MRIOverallDiagnosis value: 2 Abnormal value_float: 2 Abnormal value_int: 2 Abnormal\n",
      "[WARN] unable to float: val (2 Abnormal/<class 'str'>) e: could not convert string to float: '2 Abnormal'\n",
      "[WARN] unable to get value: sheet_name: MRIOverallDiagnosis value: 2 Abnormal value_float: 2 Abnormal value_int: 2 Abnormal\n",
      "[WARN] unable to float: val (2 Abnormal/<class 'str'>) e: could not convert string to float: '2 Abnormal'\n",
      "[WARN] unable to get value: sheet_name: MRIOverallDiagnosis value: 2 Abnormal value_float: 2 Abnormal value_int: 2 Abnormal\n",
      "[WARN] unable to float: val (2 Abnormal/<class 'str'>) e: could not convert string to float: '2 Abnormal'\n",
      "[WARN] unable to get value: sheet_name: MRIOverallDiagnosis value: 2 Abnormal value_float: 2 Abnormal value_int: 2 Abnormal\n",
      "[WARN] unable to float: val (1 Normal/<class 'str'>) e: could not convert string to float: '1 Normal'\n",
      "[WARN] unable to get value: sheet_name: MRIOverallDiagnosis value: 1 Normal value_float: 1 Normal value_int: 1 Normal\n",
      "[WARN] unable to float: val (2 Abnormal/<class 'str'>) e: could not convert string to float: '2 Abnormal'\n",
      "[WARN] unable to get value: sheet_name: MRIOverallDiagnosis value: 2 Abnormal value_float: 2 Abnormal value_int: 2 Abnormal\n",
      "[WARN] unable to float: val (1 Normal/<class 'str'>) e: could not convert string to float: '1 Normal'\n",
      "[WARN] unable to get value: sheet_name: MRIOverallDiagnosis value: 1 Normal value_float: 1 Normal value_int: 1 Normal\n",
      "[WARN] unable to float: val (2 Abnormal/<class 'str'>) e: could not convert string to float: '2 Abnormal'\n",
      "[WARN] unable to get value: sheet_name: MRIOverallDiagnosis value: 2 Abnormal value_float: 2 Abnormal value_int: 2 Abnormal\n",
      "[WARN] unable to float: val (3 Normal with other findings/<class 'str'>) e: could not convert string to float: '3 Normal with other findings'\n",
      "[WARN] unable to get value: sheet_name: MRIOverallDiagnosis value: 3 Normal with other findings value_float: 3 Normal with other findings value_int: 3 Normal with other findings\n",
      "[WARN] unable to float: val (2 Abnormal/<class 'str'>) e: could not convert string to float: '2 Abnormal'\n",
      "[WARN] unable to get value: sheet_name: MRIOverallDiagnosis value: 2 Abnormal value_float: 2 Abnormal value_int: 2 Abnormal\n",
      "[WARN] unable to float: val (2 Abnormal/<class 'str'>) e: could not convert string to float: '2 Abnormal'\n",
      "[WARN] unable to get value: sheet_name: MRIOverallDiagnosis value: 2 Abnormal value_float: 2 Abnormal value_int: 2 Abnormal\n",
      "[WARN] unable to float: val (2 Abnormal/<class 'str'>) e: could not convert string to float: '2 Abnormal'\n",
      "[WARN] unable to get value: sheet_name: MRIOverallDiagnosis value: 2 Abnormal value_float: 2 Abnormal value_int: 2 Abnormal\n",
      "[WARN] unable to float: val (2 Abnormal/<class 'str'>) e: could not convert string to float: '2 Abnormal'\n",
      "[WARN] unable to get value: sheet_name: MRIOverallDiagnosis value: 2 Abnormal value_float: 2 Abnormal value_int: 2 Abnormal\n",
      "[WARN] unable to float: val (1 Normal/<class 'str'>) e: could not convert string to float: '1 Normal'\n",
      "[WARN] unable to get value: sheet_name: MRIOverallDiagnosis value: 1 Normal value_float: 1 Normal value_int: 1 Normal\n",
      "[WARN] unable to float: val (2 Abnormal/<class 'str'>) e: could not convert string to float: '2 Abnormal'\n",
      "[WARN] unable to get value: sheet_name: MRIOverallDiagnosis value: 2 Abnormal value_float: 2 Abnormal value_int: 2 Abnormal\n",
      "[WARN] unable to float: val (2 Abnormal/<class 'str'>) e: could not convert string to float: '2 Abnormal'\n",
      "[WARN] unable to get value: sheet_name: MRIOverallDiagnosis value: 2 Abnormal value_float: 2 Abnormal value_int: 2 Abnormal\n",
      "[WARN] unable to float: val (2 Abnormal/<class 'str'>) e: could not convert string to float: '2 Abnormal'\n",
      "[WARN] unable to get value: sheet_name: MRIOverallDiagnosis value: 2 Abnormal value_float: 2 Abnormal value_int: 2 Abnormal\n",
      "[WARN] unable to float: val (2 Abnormal/<class 'str'>) e: could not convert string to float: '2 Abnormal'\n",
      "[WARN] unable to get value: sheet_name: MRIOverallDiagnosis value: 2 Abnormal value_float: 2 Abnormal value_int: 2 Abnormal\n",
      "[WARN] unable to float: val (2 Abnormal/<class 'str'>) e: could not convert string to float: '2 Abnormal'\n",
      "[WARN] unable to get value: sheet_name: MRIOverallDiagnosis value: 2 Abnormal value_float: 2 Abnormal value_int: 2 Abnormal\n",
      "[WARN] unable to float: val (2 Abnormal/<class 'str'>) e: could not convert string to float: '2 Abnormal'\n",
      "[WARN] unable to get value: sheet_name: MRIOverallDiagnosis value: 2 Abnormal value_float: 2 Abnormal value_int: 2 Abnormal\n",
      "[WARN] unable to float: val (1 Normal/<class 'str'>) e: could not convert string to float: '1 Normal'\n",
      "[WARN] unable to get value: sheet_name: MRIOverallDiagnosis value: 1 Normal value_float: 1 Normal value_int: 1 Normal\n",
      "[WARN] unable to float: val (2 Abnormal/<class 'str'>) e: could not convert string to float: '2 Abnormal'\n",
      "[WARN] unable to get value: sheet_name: MRIOverallDiagnosis value: 2 Abnormal value_float: 2 Abnormal value_int: 2 Abnormal\n",
      "[WARN] unable to float: val (2 Abnormal/<class 'str'>) e: could not convert string to float: '2 Abnormal'\n",
      "[WARN] unable to get value: sheet_name: MRIOverallDiagnosis value: 2 Abnormal value_float: 2 Abnormal value_int: 2 Abnormal\n",
      "[WARN] unable to float: val (2 Abnormal/<class 'str'>) e: could not convert string to float: '2 Abnormal'\n",
      "[WARN] unable to get value: sheet_name: MRIOverallDiagnosis value: 2 Abnormal value_float: 2 Abnormal value_int: 2 Abnormal\n",
      "[WARN] unable to float: val (2 Abnormal/<class 'str'>) e: could not convert string to float: '2 Abnormal'\n",
      "[WARN] unable to get value: sheet_name: MRIOverallDiagnosis value: 2 Abnormal value_float: 2 Abnormal value_int: 2 Abnormal\n",
      "[WARN] unable to float: val (1 Normal/<class 'str'>) e: could not convert string to float: '1 Normal'\n",
      "[WARN] unable to get value: sheet_name: MRIOverallDiagnosis value: 1 Normal value_float: 1 Normal value_int: 1 Normal\n",
      "[WARN] unable to float: val (2 Abnormal/<class 'str'>) e: could not convert string to float: '2 Abnormal'\n",
      "[WARN] unable to get value: sheet_name: MRIOverallDiagnosis value: 2 Abnormal value_float: 2 Abnormal value_int: 2 Abnormal\n",
      "[WARN] unable to float: val (2 Abnormal/<class 'str'>) e: could not convert string to float: '2 Abnormal'\n",
      "[WARN] unable to get value: sheet_name: MRIOverallDiagnosis value: 2 Abnormal value_float: 2 Abnormal value_int: 2 Abnormal\n",
      "[WARN] unable to float: val (2 Abnormal/<class 'str'>) e: could not convert string to float: '2 Abnormal'\n",
      "[WARN] unable to get value: sheet_name: MRIOverallDiagnosis value: 2 Abnormal value_float: 2 Abnormal value_int: 2 Abnormal\n",
      "[WARN] unable to float: val (2 Abnormal/<class 'str'>) e: could not convert string to float: '2 Abnormal'\n",
      "[WARN] unable to get value: sheet_name: MRIOverallDiagnosis value: 2 Abnormal value_float: 2 Abnormal value_int: 2 Abnormal\n",
      "[WARN] unable to float: val (2 Abnormal/<class 'str'>) e: could not convert string to float: '2 Abnormal'\n",
      "[WARN] unable to get value: sheet_name: MRIOverallDiagnosis value: 2 Abnormal value_float: 2 Abnormal value_int: 2 Abnormal\n",
      "[WARN] unable to float: val (2 Abnormal/<class 'str'>) e: could not convert string to float: '2 Abnormal'\n",
      "[WARN] unable to get value: sheet_name: MRIOverallDiagnosis value: 2 Abnormal value_float: 2 Abnormal value_int: 2 Abnormal\n",
      "[WARN] unable to float: val (2 Abnormal/<class 'str'>) e: could not convert string to float: '2 Abnormal'\n",
      "[WARN] unable to get value: sheet_name: MRIOverallDiagnosis value: 2 Abnormal value_float: 2 Abnormal value_int: 2 Abnormal\n",
      "[WARN] unable to float: val (2 Abnormal/<class 'str'>) e: could not convert string to float: '2 Abnormal'\n",
      "[WARN] unable to get value: sheet_name: MRIOverallDiagnosis value: 2 Abnormal value_float: 2 Abnormal value_int: 2 Abnormal\n",
      "[WARN] unable to float: val (2 Abnormal/<class 'str'>) e: could not convert string to float: '2 Abnormal'\n",
      "[WARN] unable to get value: sheet_name: MRIOverallDiagnosis value: 2 Abnormal value_float: 2 Abnormal value_int: 2 Abnormal\n",
      "[WARN] unable to float: val (2 Abnormal/<class 'str'>) e: could not convert string to float: '2 Abnormal'\n",
      "[WARN] unable to get value: sheet_name: MRIOverallDiagnosis value: 2 Abnormal value_float: 2 Abnormal value_int: 2 Abnormal\n",
      "[WARN] unable to float: val (2 Abnormal/<class 'str'>) e: could not convert string to float: '2 Abnormal'\n",
      "[WARN] unable to get value: sheet_name: MRIOverallDiagnosis value: 2 Abnormal value_float: 2 Abnormal value_int: 2 Abnormal\n",
      "[WARN] unable to float: val (2 Abnormal/<class 'str'>) e: could not convert string to float: '2 Abnormal'\n",
      "[WARN] unable to get value: sheet_name: MRIOverallDiagnosis value: 2 Abnormal value_float: 2 Abnormal value_int: 2 Abnormal\n",
      "[WARN] unable to float: val (2 Abnormal/<class 'str'>) e: could not convert string to float: '2 Abnormal'\n",
      "[WARN] unable to get value: sheet_name: MRIOverallDiagnosis value: 2 Abnormal value_float: 2 Abnormal value_int: 2 Abnormal\n",
      "[WARN] unable to float: val (1 Normal/<class 'str'>) e: could not convert string to float: '1 Normal'\n",
      "[WARN] unable to get value: sheet_name: MRIOverallDiagnosis value: 1 Normal value_float: 1 Normal value_int: 1 Normal\n",
      "[WARN] unable to float: val (Permanently Missing/<class 'str'>) e: could not convert string to float: 'Permanently Missing'\n",
      "[WARN] unable to get value: sheet_name: MRIOverallDiagnosis value: Permanently Missing value_float: Permanently Missing value_int: Permanently Missing\n",
      "[WARN] unable to float: val (1 Normal/<class 'str'>) e: could not convert string to float: '1 Normal'\n",
      "[WARN] unable to get value: sheet_name: MRIOverallDiagnosis value: 1 Normal value_float: 1 Normal value_int: 1 Normal\n",
      "[WARN] unable to float: val (3 Normal with other findings/<class 'str'>) e: could not convert string to float: '3 Normal with other findings'\n",
      "[WARN] unable to get value: sheet_name: MRIOverallDiagnosis value: 3 Normal with other findings value_float: 3 Normal with other findings value_int: 3 Normal with other findings\n",
      "[WARN] unable to float: val (2 Abnormal/<class 'str'>) e: could not convert string to float: '2 Abnormal'\n",
      "[WARN] unable to get value: sheet_name: MRIOverallDiagnosis value: 2 Abnormal value_float: 2 Abnormal value_int: 2 Abnormal\n",
      "[WARN] unable to float: val (2 Abnormal/<class 'str'>) e: could not convert string to float: '2 Abnormal'\n",
      "[WARN] unable to get value: sheet_name: MRIOverallDiagnosis value: 2 Abnormal value_float: 2 Abnormal value_int: 2 Abnormal\n",
      "[WARN] unable to float: val (2 Abnormal/<class 'str'>) e: could not convert string to float: '2 Abnormal'\n",
      "[WARN] unable to get value: sheet_name: MRIOverallDiagnosis value: 2 Abnormal value_float: 2 Abnormal value_int: 2 Abnormal\n",
      "(48/92) normalize_value: column: MRIOverallDiagnosis_c\n",
      "(49/92) normalize_value: column: MRIAbnormal\n",
      "(50/92) normalize_value: column: MRIAbnormal_c\n",
      "(51/92) normalize_value: column: MRIID\n",
      "(52/92) normalize_value: column: MRIOverallDiagnosisText\n",
      "(53/92) normalize_value: column: MRICerebralAtrophy\n",
      "(54/92) normalize_value: column: MRICerebralAtrophy_c\n",
      "(55/92) normalize_value: column: MRICerebralAtrophyRegion\n",
      "(56/92) normalize_value: column: MRICerebralAtrophyQualAssessCC\n",
      "[WARN] unable to get value: sheet_name: MRISeverity value: - value_float:  value_int: \n",
      "[WARN] unable to get value: sheet_name: MRISeverity value: - value_float:  value_int: \n",
      "[WARN] unable to get value: sheet_name: MRISeverity value: - value_float:  value_int: \n",
      "[WARN] unable to get value: sheet_name: MRISeverity value: - value_float:  value_int: \n",
      "[WARN] unable to get value: sheet_name: MRISeverity value: - value_float:  value_int: \n",
      "[WARN] unable to get value: sheet_name: MRISeverity value: - value_float:  value_int: \n",
      "[WARN] unable to get value: sheet_name: MRISeverity value: - value_float:  value_int: \n",
      "[WARN] unable to get value: sheet_name: MRISeverity value: - value_float:  value_int: \n",
      "[WARN] unable to get value: sheet_name: MRISeverity value: - value_float:  value_int: \n",
      "[WARN] unable to get value: sheet_name: MRISeverity value: - value_float:  value_int: \n",
      "[WARN] unable to get value: sheet_name: MRISeverity value: - value_float:  value_int: \n",
      "[WARN] unable to get value: sheet_name: MRISeverity value: - value_float:  value_int: \n",
      "[WARN] unable to get value: sheet_name: MRISeverity value: - value_float:  value_int: \n",
      "(57/92) normalize_value: column: MRICerebralAtrophyQualAssessCC_c\n",
      "(58/92) normalize_value: column: MRICerebralAtrophyQualAssessVDLeft\n",
      "[WARN] unable to get value: sheet_name: MRISeverity value: - value_float:  value_int: \n",
      "[WARN] unable to get value: sheet_name: MRISeverity value: - value_float:  value_int: \n",
      "[WARN] unable to get value: sheet_name: MRISeverity value: - value_float:  value_int: \n",
      "[WARN] unable to get value: sheet_name: MRISeverity value: - value_float:  value_int: \n",
      "(59/92) normalize_value: column: MRICerebralAtrophyQualAssessVDLeft_c\n",
      "(60/92) normalize_value: column: MRICerebralAtrophyQualAssessVDRight\n",
      "[WARN] unable to get value: sheet_name: MRISeverity value: - value_float:  value_int: \n",
      "[WARN] unable to get value: sheet_name: MRISeverity value: - value_float:  value_int: \n",
      "[WARN] unable to get value: sheet_name: MRISeverity value: - value_float:  value_int: \n",
      "[WARN] unable to get value: sheet_name: MRISeverity value: - value_float:  value_int: \n",
      "[WARN] unable to get value: sheet_name: MRISeverity value: - value_float:  value_int: \n",
      "[WARN] unable to get value: sheet_name: MRISeverity value: - value_float:  value_int: \n",
      "[WARN] unable to get value: sheet_name: MRISeverity value: - value_float:  value_int: \n",
      "[WARN] unable to get value: sheet_name: MRISeverity value: - value_float:  value_int: \n",
      "[WARN] unable to get value: sheet_name: MRISeverity value: - value_float:  value_int: \n",
      "[WARN] unable to get value: sheet_name: MRISeverity value: - value_float:  value_int: \n",
      "(61/92) normalize_value: column: MRICerebralAtrophyQualAssessVDRight_c\n",
      "(62/92) normalize_value: column: MRIInfarction\n",
      "[WARN] unable to bool: val: (Permanently Missing/<class 'str'>)\n",
      "(63/92) normalize_value: column: MRIInfarction_c\n",
      "(64/92) normalize_value: column: MRIInfarctionAterialTerritoryLeft\n",
      "(65/92) normalize_value: column: MRIInfarctionAterialTerritoryLeft_c\n",
      "(66/92) normalize_value: column: MRIInfarctionAterialTerritoryRight\n",
      "(67/92) normalize_value: column: MRIInfarctionAterialTerritoryRight_c\n",
      "(68/92) normalize_value: column: MRIInfarctionWatershedLeft\n",
      "(69/92) normalize_value: column: MRIInfarctionWatershedLeft_c\n",
      "(70/92) normalize_value: column: MRIInfarctionWatershedRight\n",
      "(71/92) normalize_value: column: MRIInfarctionWatershedRight_c\n",
      "(72/92) normalize_value: column: MRIMidlineShift\n",
      "(73/92) normalize_value: column: MRIMidlineShift_c\n",
      "(74/92) normalize_value: column: MRIBGT\n",
      "[WARN] unable to get value: sheet_name: MRISeverity value: - value_float:  value_int: \n",
      "[WARN] unable to get value: sheet_name: MRISeverity value: - value_float:  value_int: \n",
      "[WARN] unable to get value: sheet_name: MRISeverity value: - value_float:  value_int: \n",
      "[WARN] unable to get value: sheet_name: MRISeverity value: - value_float:  value_int: \n",
      "[WARN] unable to get value: sheet_name: MRISeverity value: - value_float:  value_int: \n",
      "[WARN] unable to float: val (5 N/A/<class 'str'>) e: could not convert string to float: '5 N/A'\n",
      "[WARN] unable to get value: sheet_name: MRISeverity value: 5 N/A value_float: 5 N/A value_int: 5 N/A\n",
      "[WARN] unable to float: val (5 N/A/<class 'str'>) e: could not convert string to float: '5 N/A'\n",
      "[WARN] unable to get value: sheet_name: MRISeverity value: 5 N/A value_float: 5 N/A value_int: 5 N/A\n",
      "[WARN] unable to float: val (5 N/A/<class 'str'>) e: could not convert string to float: '5 N/A'\n",
      "[WARN] unable to get value: sheet_name: MRISeverity value: 5 N/A value_float: 5 N/A value_int: 5 N/A\n",
      "[WARN] unable to get value: sheet_name: MRISeverity value: - value_float:  value_int: \n",
      "[WARN] unable to float: val (5 N/A/<class 'str'>) e: could not convert string to float: '5 N/A'\n",
      "[WARN] unable to get value: sheet_name: MRISeverity value: 5 N/A value_float: 5 N/A value_int: 5 N/A\n",
      "[WARN] unable to float: val (5 N/A/<class 'str'>) e: could not convert string to float: '5 N/A'\n",
      "[WARN] unable to get value: sheet_name: MRISeverity value: 5 N/A value_float: 5 N/A value_int: 5 N/A\n",
      "[WARN] unable to float: val (5 N/A/<class 'str'>) e: could not convert string to float: '5 N/A'\n",
      "[WARN] unable to get value: sheet_name: MRISeverity value: 5 N/A value_float: 5 N/A value_int: 5 N/A\n",
      "[WARN] unable to float: val (5 N/A/<class 'str'>) e: could not convert string to float: '5 N/A'\n",
      "[WARN] unable to get value: sheet_name: MRISeverity value: 5 N/A value_float: 5 N/A value_int: 5 N/A\n",
      "[WARN] unable to float: val (5 N/A/<class 'str'>) e: could not convert string to float: '5 N/A'\n",
      "[WARN] unable to get value: sheet_name: MRISeverity value: 5 N/A value_float: 5 N/A value_int: 5 N/A\n",
      "[WARN] unable to get value: sheet_name: MRISeverity value: - value_float:  value_int: \n",
      "[WARN] unable to float: val (5 N/A/<class 'str'>) e: could not convert string to float: '5 N/A'\n",
      "[WARN] unable to get value: sheet_name: MRISeverity value: 5 N/A value_float: 5 N/A value_int: 5 N/A\n",
      "[WARN] unable to float: val (5 N/A/<class 'str'>) e: could not convert string to float: '5 N/A'\n",
      "[WARN] unable to get value: sheet_name: MRISeverity value: 5 N/A value_float: 5 N/A value_int: 5 N/A\n",
      "[WARN] unable to float: val (5 N/A/<class 'str'>) e: could not convert string to float: '5 N/A'\n",
      "[WARN] unable to get value: sheet_name: MRISeverity value: 5 N/A value_float: 5 N/A value_int: 5 N/A\n",
      "[WARN] unable to float: val (5 N/A/<class 'str'>) e: could not convert string to float: '5 N/A'\n",
      "[WARN] unable to get value: sheet_name: MRISeverity value: 5 N/A value_float: 5 N/A value_int: 5 N/A\n",
      "(75/92) normalize_value: column: MRIBGT_c\n",
      "[WARN] unable to get value: sheet_name: MRISeverity value: 5 value_float: 5.0 value_int: 5\n",
      "[WARN] unable to get value: sheet_name: MRISeverity value: 5 value_float: 5.0 value_int: 5\n",
      "[WARN] unable to get value: sheet_name: MRISeverity value: 5 value_float: 5.0 value_int: 5\n",
      "[WARN] unable to get value: sheet_name: MRISeverity value: 5 value_float: 5.0 value_int: 5\n",
      "[WARN] unable to get value: sheet_name: MRISeverity value: 5 value_float: 5.0 value_int: 5\n",
      "[WARN] unable to get value: sheet_name: MRISeverity value: 5 value_float: 5.0 value_int: 5\n",
      "[WARN] unable to get value: sheet_name: MRISeverity value: 5 value_float: 5.0 value_int: 5\n",
      "[WARN] unable to get value: sheet_name: MRISeverity value: 5 value_float: 5.0 value_int: 5\n",
      "[WARN] unable to get value: sheet_name: MRISeverity value: 5 value_float: 5.0 value_int: 5\n",
      "[WARN] unable to get value: sheet_name: MRISeverity value: 5 value_float: 5.0 value_int: 5\n",
      "[WARN] unable to get value: sheet_name: MRISeverity value: 5 value_float: 5.0 value_int: 5\n",
      "[WARN] unable to get value: sheet_name: MRISeverity value: 5 value_float: 5.0 value_int: 5\n",
      "(76/92) normalize_value: column: MRIPLIC\n",
      "[WARN] unable to get value: sheet_name: MRIALICPLICSeverity value: - value_float:  value_int: \n",
      "[WARN] unable to get value: sheet_name: MRIALICPLICSeverity value: - value_float:  value_int: \n",
      "[WARN] unable to float: val (4 N/A/<class 'str'>) e: could not convert string to float: '4 N/A'\n",
      "[WARN] unable to get value: sheet_name: MRIALICPLICSeverity value: 4 N/A value_float: 4 N/A value_int: 4 N/A\n",
      "[WARN] unable to get value: sheet_name: MRIALICPLICSeverity value: - value_float:  value_int: \n",
      "[WARN] unable to float: val (4 N/A/<class 'str'>) e: could not convert string to float: '4 N/A'\n",
      "[WARN] unable to get value: sheet_name: MRIALICPLICSeverity value: 4 N/A value_float: 4 N/A value_int: 4 N/A\n",
      "[WARN] unable to get value: sheet_name: MRIALICPLICSeverity value: - value_float:  value_int: \n",
      "[WARN] unable to float: val (4 N/A/<class 'str'>) e: could not convert string to float: '4 N/A'\n",
      "[WARN] unable to get value: sheet_name: MRIALICPLICSeverity value: 4 N/A value_float: 4 N/A value_int: 4 N/A\n",
      "[WARN] unable to float: val (4 N/A/<class 'str'>) e: could not convert string to float: '4 N/A'\n",
      "[WARN] unable to get value: sheet_name: MRIALICPLICSeverity value: 4 N/A value_float: 4 N/A value_int: 4 N/A\n",
      "[WARN] unable to float: val (4 N/A/<class 'str'>) e: could not convert string to float: '4 N/A'\n",
      "[WARN] unable to get value: sheet_name: MRIALICPLICSeverity value: 4 N/A value_float: 4 N/A value_int: 4 N/A\n",
      "[WARN] unable to float: val (4 N/A/<class 'str'>) e: could not convert string to float: '4 N/A'\n",
      "[WARN] unable to get value: sheet_name: MRIALICPLICSeverity value: 4 N/A value_float: 4 N/A value_int: 4 N/A\n",
      "[WARN] unable to float: val (4 N/A/<class 'str'>) e: could not convert string to float: '4 N/A'\n",
      "[WARN] unable to get value: sheet_name: MRIALICPLICSeverity value: 4 N/A value_float: 4 N/A value_int: 4 N/A\n",
      "[WARN] unable to float: val (4 N/A/<class 'str'>) e: could not convert string to float: '4 N/A'\n",
      "[WARN] unable to get value: sheet_name: MRIALICPLICSeverity value: 4 N/A value_float: 4 N/A value_int: 4 N/A\n",
      "[WARN] unable to float: val (4 N/A/<class 'str'>) e: could not convert string to float: '4 N/A'\n",
      "[WARN] unable to get value: sheet_name: MRIALICPLICSeverity value: 4 N/A value_float: 4 N/A value_int: 4 N/A\n",
      "[WARN] unable to float: val (4 N/A/<class 'str'>) e: could not convert string to float: '4 N/A'\n",
      "[WARN] unable to get value: sheet_name: MRIALICPLICSeverity value: 4 N/A value_float: 4 N/A value_int: 4 N/A\n",
      "[WARN] unable to get value: sheet_name: MRIALICPLICSeverity value: - value_float:  value_int: \n",
      "[WARN] unable to float: val (4 N/A/<class 'str'>) e: could not convert string to float: '4 N/A'\n",
      "[WARN] unable to get value: sheet_name: MRIALICPLICSeverity value: 4 N/A value_float: 4 N/A value_int: 4 N/A\n",
      "[WARN] unable to float: val (4 N/A/<class 'str'>) e: could not convert string to float: '4 N/A'\n",
      "[WARN] unable to get value: sheet_name: MRIALICPLICSeverity value: 4 N/A value_float: 4 N/A value_int: 4 N/A\n",
      "[WARN] unable to get value: sheet_name: MRIALICPLICSeverity value: - value_float:  value_int: \n",
      "[WARN] unable to float: val (4 N/A/<class 'str'>) e: could not convert string to float: '4 N/A'\n",
      "[WARN] unable to get value: sheet_name: MRIALICPLICSeverity value: 4 N/A value_float: 4 N/A value_int: 4 N/A\n",
      "(77/92) normalize_value: column: MRIPLIC_c\n",
      "[WARN] unable to get value: sheet_name: MRIALICPLICSeverity value: 4 value_float: 4.0 value_int: 4\n",
      "[WARN] unable to get value: sheet_name: MRIALICPLICSeverity value: 4 value_float: 4.0 value_int: 4\n",
      "[WARN] unable to get value: sheet_name: MRIALICPLICSeverity value: 4 value_float: 4.0 value_int: 4\n",
      "[WARN] unable to get value: sheet_name: MRIALICPLICSeverity value: 4 value_float: 4.0 value_int: 4\n",
      "[WARN] unable to get value: sheet_name: MRIALICPLICSeverity value: 4 value_float: 4.0 value_int: 4\n",
      "[WARN] unable to get value: sheet_name: MRIALICPLICSeverity value: 4 value_float: 4.0 value_int: 4\n",
      "[WARN] unable to get value: sheet_name: MRIALICPLICSeverity value: 4 value_float: 4.0 value_int: 4\n",
      "[WARN] unable to get value: sheet_name: MRIALICPLICSeverity value: 4 value_float: 4.0 value_int: 4\n",
      "[WARN] unable to get value: sheet_name: MRIALICPLICSeverity value: 4 value_float: 4.0 value_int: 4\n",
      "[WARN] unable to get value: sheet_name: MRIALICPLICSeverity value: 4 value_float: 4.0 value_int: 4\n",
      "[WARN] unable to get value: sheet_name: MRIALICPLICSeverity value: 4 value_float: 4.0 value_int: 4\n",
      "[WARN] unable to get value: sheet_name: MRIALICPLICSeverity value: 4 value_float: 4.0 value_int: 4\n",
      "[WARN] unable to get value: sheet_name: MRIALICPLICSeverity value: 4 value_float: 4.0 value_int: 4\n",
      "(78/92) normalize_value: column: MRIALIC\n",
      "[WARN] unable to get value: sheet_name: MRIALICPLICSeverity value: - value_float:  value_int: \n",
      "[WARN] unable to get value: sheet_name: MRIALICPLICSeverity value: - value_float:  value_int: \n",
      "[WARN] unable to get value: sheet_name: MRIALICPLICSeverity value: - value_float:  value_int: \n",
      "[WARN] unable to get value: sheet_name: MRIALICPLICSeverity value: - value_float:  value_int: \n",
      "[WARN] unable to float: val (4 N/A/<class 'str'>) e: could not convert string to float: '4 N/A'\n",
      "[WARN] unable to get value: sheet_name: MRIALICPLICSeverity value: 4 N/A value_float: 4 N/A value_int: 4 N/A\n",
      "[WARN] unable to float: val (4 N/A/<class 'str'>) e: could not convert string to float: '4 N/A'\n",
      "[WARN] unable to get value: sheet_name: MRIALICPLICSeverity value: 4 N/A value_float: 4 N/A value_int: 4 N/A\n",
      "[WARN] unable to float: val (4 N/A/<class 'str'>) e: could not convert string to float: '4 N/A'\n",
      "[WARN] unable to get value: sheet_name: MRIALICPLICSeverity value: 4 N/A value_float: 4 N/A value_int: 4 N/A\n",
      "[WARN] unable to float: val (4 N/A/<class 'str'>) e: could not convert string to float: '4 N/A'\n",
      "[WARN] unable to get value: sheet_name: MRIALICPLICSeverity value: 4 N/A value_float: 4 N/A value_int: 4 N/A\n",
      "[WARN] unable to get value: sheet_name: MRIALICPLICSeverity value: - value_float:  value_int: \n",
      "[WARN] unable to float: val (4 N/A/<class 'str'>) e: could not convert string to float: '4 N/A'\n",
      "[WARN] unable to get value: sheet_name: MRIALICPLICSeverity value: 4 N/A value_float: 4 N/A value_int: 4 N/A\n",
      "[WARN] unable to float: val (4 N/A/<class 'str'>) e: could not convert string to float: '4 N/A'\n",
      "[WARN] unable to get value: sheet_name: MRIALICPLICSeverity value: 4 N/A value_float: 4 N/A value_int: 4 N/A\n",
      "[WARN] unable to get value: sheet_name: MRIALICPLICSeverity value: - value_float:  value_int: \n",
      "[WARN] unable to float: val (4 N/A/<class 'str'>) e: could not convert string to float: '4 N/A'\n",
      "[WARN] unable to get value: sheet_name: MRIALICPLICSeverity value: 4 N/A value_float: 4 N/A value_int: 4 N/A\n",
      "[WARN] unable to float: val (4 N/A/<class 'str'>) e: could not convert string to float: '4 N/A'\n",
      "[WARN] unable to get value: sheet_name: MRIALICPLICSeverity value: 4 N/A value_float: 4 N/A value_int: 4 N/A\n",
      "[WARN] unable to get value: sheet_name: MRIALICPLICSeverity value: - value_float:  value_int: \n",
      "[WARN] unable to get value: sheet_name: MRIALICPLICSeverity value: - value_float:  value_int: \n",
      "(79/92) normalize_value: column: MRIALIC_c\n",
      "[WARN] unable to get value: sheet_name: MRIALICPLICSeverity value: 4 value_float: 4.0 value_int: 4\n",
      "[WARN] unable to get value: sheet_name: MRIALICPLICSeverity value: 4 value_float: 4.0 value_int: 4\n",
      "[WARN] unable to get value: sheet_name: MRIALICPLICSeverity value: 4 value_float: 4.0 value_int: 4\n",
      "[WARN] unable to get value: sheet_name: MRIALICPLICSeverity value: 4 value_float: 4.0 value_int: 4\n",
      "[WARN] unable to get value: sheet_name: MRIALICPLICSeverity value: 4 value_float: 4.0 value_int: 4\n",
      "[WARN] unable to get value: sheet_name: MRIALICPLICSeverity value: 4 value_float: 4.0 value_int: 4\n",
      "[WARN] unable to get value: sheet_name: MRIALICPLICSeverity value: 4 value_float: 4.0 value_int: 4\n",
      "[WARN] unable to get value: sheet_name: MRIALICPLICSeverity value: 4 value_float: 4.0 value_int: 4\n",
      "(80/92) normalize_value: column: MRIWatershed\n",
      "[WARN] unable to get value: sheet_name: MRISeverity value: - value_float:  value_int: \n",
      "[WARN] unable to get value: sheet_name: MRISeverity value: - value_float:  value_int: \n",
      "[WARN] unable to get value: sheet_name: MRISeverity value: - value_float:  value_int: \n",
      "[WARN] unable to float: val (Permanently Missing/<class 'str'>) e: could not convert string to float: 'Permanently Missing'\n",
      "[WARN] unable to get value: sheet_name: MRISeverity value: Permanently Missing value_float: Permanently Missing value_int: Permanently Missing\n",
      "[WARN] unable to get value: sheet_name: MRISeverity value: - value_float:  value_int: \n",
      "[WARN] unable to get value: sheet_name: MRISeverity value: - value_float:  value_int: \n",
      "[WARN] unable to get value: sheet_name: MRISeverity value: - value_float:  value_int: \n",
      "[WARN] unable to get value: sheet_name: MRISeverity value: - value_float:  value_int: \n",
      "[WARN] unable to get value: sheet_name: MRISeverity value: - value_float:  value_int: \n",
      "[WARN] unable to get value: sheet_name: MRISeverity value: - value_float:  value_int: \n",
      "[WARN] unable to get value: sheet_name: MRISeverity value: - value_float:  value_int: \n",
      "[WARN] unable to get value: sheet_name: MRISeverity value: - value_float:  value_int: \n",
      "[WARN] unable to get value: sheet_name: MRISeverity value: - value_float:  value_int: \n",
      "[WARN] unable to get value: sheet_name: MRISeverity value: - value_float:  value_int: \n",
      "[WARN] unable to get value: sheet_name: MRISeverity value: - value_float:  value_int: \n",
      "[WARN] unable to get value: sheet_name: MRISeverity value: - value_float:  value_int: \n",
      "[WARN] unable to get value: sheet_name: MRISeverity value: - value_float:  value_int: \n",
      "[WARN] unable to get value: sheet_name: MRISeverity value: - value_float:  value_int: \n",
      "[WARN] unable to get value: sheet_name: MRISeverity value: - value_float:  value_int: \n",
      "[WARN] unable to get value: sheet_name: MRISeverity value: - value_float:  value_int: \n",
      "[WARN] unable to get value: sheet_name: MRISeverity value: - value_float:  value_int: \n",
      "[WARN] unable to get value: sheet_name: MRISeverity value: - value_float:  value_int: \n",
      "[WARN] unable to get value: sheet_name: MRISeverity value: - value_float:  value_int: \n",
      "[WARN] unable to get value: sheet_name: MRISeverity value: - value_float:  value_int: \n",
      "[WARN] unable to get value: sheet_name: MRISeverity value: - value_float:  value_int: \n",
      "[WARN] unable to get value: sheet_name: MRISeverity value: - value_float:  value_int: \n",
      "[WARN] unable to get value: sheet_name: MRISeverity value: - value_float:  value_int: \n",
      "[WARN] unable to get value: sheet_name: MRISeverity value: - value_float:  value_int: \n",
      "[WARN] unable to get value: sheet_name: MRISeverity value: - value_float:  value_int: \n",
      "[WARN] unable to get value: sheet_name: MRISeverity value: - value_float:  value_int: \n",
      "[WARN] unable to get value: sheet_name: MRISeverity value: - value_float:  value_int: \n",
      "[WARN] unable to get value: sheet_name: MRISeverity value: - value_float:  value_int: \n",
      "[WARN] unable to get value: sheet_name: MRISeverity value: - value_float:  value_int: \n",
      "[WARN] unable to get value: sheet_name: MRISeverity value: - value_float:  value_int: \n",
      "[WARN] unable to get value: sheet_name: MRISeverity value: - value_float:  value_int: \n",
      "[WARN] unable to get value: sheet_name: MRISeverity value: - value_float:  value_int: \n",
      "(81/92) normalize_value: column: MRIWatershed_c\n",
      "[WARN] unable to get value: sheet_name: MRISeverity value: * value_float:  value_int: \n",
      "(82/92) normalize_value: column: MRIWhiteMatterInjury\n",
      "[WARN] unable to float: val (4 N/A/<class 'str'>) e: could not convert string to float: '4 N/A'\n",
      "[WARN] unable to get value: sheet_name: MRIInjurySeverity value: 4 N/A value_float: 4 N/A value_int: 4 N/A\n",
      "[WARN] unable to float: val (4 N/A/<class 'str'>) e: could not convert string to float: '4 N/A'\n",
      "[WARN] unable to get value: sheet_name: MRIInjurySeverity value: 4 N/A value_float: 4 N/A value_int: 4 N/A\n",
      "[WARN] unable to float: val (4 N/A/<class 'str'>) e: could not convert string to float: '4 N/A'\n",
      "[WARN] unable to get value: sheet_name: MRIInjurySeverity value: 4 N/A value_float: 4 N/A value_int: 4 N/A\n",
      "[WARN] unable to float: val (4 N/A/<class 'str'>) e: could not convert string to float: '4 N/A'\n",
      "[WARN] unable to get value: sheet_name: MRIInjurySeverity value: 4 N/A value_float: 4 N/A value_int: 4 N/A\n",
      "[WARN] unable to float: val (4 N/A/<class 'str'>) e: could not convert string to float: '4 N/A'\n",
      "[WARN] unable to get value: sheet_name: MRIInjurySeverity value: 4 N/A value_float: 4 N/A value_int: 4 N/A\n",
      "[WARN] unable to float: val (4 N/A/<class 'str'>) e: could not convert string to float: '4 N/A'\n",
      "[WARN] unable to get value: sheet_name: MRIInjurySeverity value: 4 N/A value_float: 4 N/A value_int: 4 N/A\n",
      "[WARN] unable to float: val (4 N/A/<class 'str'>) e: could not convert string to float: '4 N/A'\n",
      "[WARN] unable to get value: sheet_name: MRIInjurySeverity value: 4 N/A value_float: 4 N/A value_int: 4 N/A\n",
      "[WARN] unable to float: val (4 N/A/<class 'str'>) e: could not convert string to float: '4 N/A'\n",
      "[WARN] unable to get value: sheet_name: MRIInjurySeverity value: 4 N/A value_float: 4 N/A value_int: 4 N/A\n",
      "[WARN] unable to get value: sheet_name: MRIInjurySeverity value: - value_float:  value_int: \n",
      "[WARN] unable to float: val (4 N/A/<class 'str'>) e: could not convert string to float: '4 N/A'\n",
      "[WARN] unable to get value: sheet_name: MRIInjurySeverity value: 4 N/A value_float: 4 N/A value_int: 4 N/A\n",
      "[WARN] unable to float: val (4 N/A/<class 'str'>) e: could not convert string to float: '4 N/A'\n",
      "[WARN] unable to get value: sheet_name: MRIInjurySeverity value: 4 N/A value_float: 4 N/A value_int: 4 N/A\n",
      "[WARN] unable to get value: sheet_name: MRIInjurySeverity value: - value_float:  value_int: \n",
      "[WARN] unable to float: val (4 N/A/<class 'str'>) e: could not convert string to float: '4 N/A'\n",
      "[WARN] unable to get value: sheet_name: MRIInjurySeverity value: 4 N/A value_float: 4 N/A value_int: 4 N/A\n",
      "[WARN] unable to float: val (4 N/A/<class 'str'>) e: could not convert string to float: '4 N/A'\n",
      "[WARN] unable to get value: sheet_name: MRIInjurySeverity value: 4 N/A value_float: 4 N/A value_int: 4 N/A\n",
      "[WARN] unable to float: val (4 N/A/<class 'str'>) e: could not convert string to float: '4 N/A'\n",
      "[WARN] unable to get value: sheet_name: MRIInjurySeverity value: 4 N/A value_float: 4 N/A value_int: 4 N/A\n",
      "[WARN] unable to float: val (4 N/A/<class 'str'>) e: could not convert string to float: '4 N/A'\n",
      "[WARN] unable to get value: sheet_name: MRIInjurySeverity value: 4 N/A value_float: 4 N/A value_int: 4 N/A\n",
      "[WARN] unable to float: val (4 N/A/<class 'str'>) e: could not convert string to float: '4 N/A'\n",
      "[WARN] unable to get value: sheet_name: MRIInjurySeverity value: 4 N/A value_float: 4 N/A value_int: 4 N/A\n",
      "[WARN] unable to float: val (4 N/A/<class 'str'>) e: could not convert string to float: '4 N/A'\n",
      "[WARN] unable to get value: sheet_name: MRIInjurySeverity value: 4 N/A value_float: 4 N/A value_int: 4 N/A\n",
      "[WARN] unable to float: val (4 N/A/<class 'str'>) e: could not convert string to float: '4 N/A'\n",
      "[WARN] unable to get value: sheet_name: MRIInjurySeverity value: 4 N/A value_float: 4 N/A value_int: 4 N/A\n",
      "[WARN] unable to float: val (4 N/A/<class 'str'>) e: could not convert string to float: '4 N/A'\n",
      "[WARN] unable to get value: sheet_name: MRIInjurySeverity value: 4 N/A value_float: 4 N/A value_int: 4 N/A\n",
      "[WARN] unable to float: val (4 N/A/<class 'str'>) e: could not convert string to float: '4 N/A'\n",
      "[WARN] unable to get value: sheet_name: MRIInjurySeverity value: 4 N/A value_float: 4 N/A value_int: 4 N/A\n",
      "[WARN] unable to float: val (4 N/A/<class 'str'>) e: could not convert string to float: '4 N/A'\n",
      "[WARN] unable to get value: sheet_name: MRIInjurySeverity value: 4 N/A value_float: 4 N/A value_int: 4 N/A\n",
      "[WARN] unable to float: val (4 N/A/<class 'str'>) e: could not convert string to float: '4 N/A'\n",
      "[WARN] unable to get value: sheet_name: MRIInjurySeverity value: 4 N/A value_float: 4 N/A value_int: 4 N/A\n",
      "[WARN] unable to float: val (4 N/A/<class 'str'>) e: could not convert string to float: '4 N/A'\n",
      "[WARN] unable to get value: sheet_name: MRIInjurySeverity value: 4 N/A value_float: 4 N/A value_int: 4 N/A\n",
      "[WARN] unable to float: val (4 N/A/<class 'str'>) e: could not convert string to float: '4 N/A'\n",
      "[WARN] unable to get value: sheet_name: MRIInjurySeverity value: 4 N/A value_float: 4 N/A value_int: 4 N/A\n",
      "[WARN] unable to float: val (4 N/A/<class 'str'>) e: could not convert string to float: '4 N/A'\n",
      "[WARN] unable to get value: sheet_name: MRIInjurySeverity value: 4 N/A value_float: 4 N/A value_int: 4 N/A\n",
      "[WARN] unable to float: val (4 N/A/<class 'str'>) e: could not convert string to float: '4 N/A'\n",
      "[WARN] unable to get value: sheet_name: MRIInjurySeverity value: 4 N/A value_float: 4 N/A value_int: 4 N/A\n",
      "[WARN] unable to float: val (4 N/A/<class 'str'>) e: could not convert string to float: '4 N/A'\n",
      "[WARN] unable to get value: sheet_name: MRIInjurySeverity value: 4 N/A value_float: 4 N/A value_int: 4 N/A\n",
      "[WARN] unable to float: val (4 N/A/<class 'str'>) e: could not convert string to float: '4 N/A'\n",
      "[WARN] unable to get value: sheet_name: MRIInjurySeverity value: 4 N/A value_float: 4 N/A value_int: 4 N/A\n",
      "[WARN] unable to float: val (4 N/A/<class 'str'>) e: could not convert string to float: '4 N/A'\n",
      "[WARN] unable to get value: sheet_name: MRIInjurySeverity value: 4 N/A value_float: 4 N/A value_int: 4 N/A\n",
      "[WARN] unable to float: val (4 N/A/<class 'str'>) e: could not convert string to float: '4 N/A'\n",
      "[WARN] unable to get value: sheet_name: MRIInjurySeverity value: 4 N/A value_float: 4 N/A value_int: 4 N/A\n",
      "[WARN] unable to float: val (4 N/A/<class 'str'>) e: could not convert string to float: '4 N/A'\n",
      "[WARN] unable to get value: sheet_name: MRIInjurySeverity value: 4 N/A value_float: 4 N/A value_int: 4 N/A\n",
      "[WARN] unable to float: val (4 N/A/<class 'str'>) e: could not convert string to float: '4 N/A'\n",
      "[WARN] unable to get value: sheet_name: MRIInjurySeverity value: 4 N/A value_float: 4 N/A value_int: 4 N/A\n",
      "[WARN] unable to float: val (4 N/A/<class 'str'>) e: could not convert string to float: '4 N/A'\n",
      "[WARN] unable to get value: sheet_name: MRIInjurySeverity value: 4 N/A value_float: 4 N/A value_int: 4 N/A\n",
      "[WARN] unable to float: val (4 N/A/<class 'str'>) e: could not convert string to float: '4 N/A'\n",
      "[WARN] unable to get value: sheet_name: MRIInjurySeverity value: 4 N/A value_float: 4 N/A value_int: 4 N/A\n",
      "[WARN] unable to get value: sheet_name: MRIInjurySeverity value: - value_float:  value_int: \n",
      "[WARN] unable to float: val (4 N/A/<class 'str'>) e: could not convert string to float: '4 N/A'\n",
      "[WARN] unable to get value: sheet_name: MRIInjurySeverity value: 4 N/A value_float: 4 N/A value_int: 4 N/A\n",
      "[WARN] unable to float: val (4 N/A/<class 'str'>) e: could not convert string to float: '4 N/A'\n",
      "[WARN] unable to get value: sheet_name: MRIInjurySeverity value: 4 N/A value_float: 4 N/A value_int: 4 N/A\n",
      "[WARN] unable to float: val (4 N/A/<class 'str'>) e: could not convert string to float: '4 N/A'\n",
      "[WARN] unable to get value: sheet_name: MRIInjurySeverity value: 4 N/A value_float: 4 N/A value_int: 4 N/A\n",
      "[WARN] unable to float: val (4 N/A/<class 'str'>) e: could not convert string to float: '4 N/A'\n",
      "[WARN] unable to get value: sheet_name: MRIInjurySeverity value: 4 N/A value_float: 4 N/A value_int: 4 N/A\n",
      "[WARN] unable to float: val (4 N/A/<class 'str'>) e: could not convert string to float: '4 N/A'\n",
      "[WARN] unable to get value: sheet_name: MRIInjurySeverity value: 4 N/A value_float: 4 N/A value_int: 4 N/A\n",
      "[WARN] unable to float: val (4 N/A/<class 'str'>) e: could not convert string to float: '4 N/A'\n",
      "[WARN] unable to get value: sheet_name: MRIInjurySeverity value: 4 N/A value_float: 4 N/A value_int: 4 N/A\n",
      "[WARN] unable to float: val (4 N/A/<class 'str'>) e: could not convert string to float: '4 N/A'\n",
      "[WARN] unable to get value: sheet_name: MRIInjurySeverity value: 4 N/A value_float: 4 N/A value_int: 4 N/A\n",
      "[WARN] unable to float: val (4 N/A/<class 'str'>) e: could not convert string to float: '4 N/A'\n",
      "[WARN] unable to get value: sheet_name: MRIInjurySeverity value: 4 N/A value_float: 4 N/A value_int: 4 N/A\n",
      "[WARN] unable to get value: sheet_name: MRIInjurySeverity value: - value_float:  value_int: \n",
      "[WARN] unable to float: val (4 N/A/<class 'str'>) e: could not convert string to float: '4 N/A'\n",
      "[WARN] unable to get value: sheet_name: MRIInjurySeverity value: 4 N/A value_float: 4 N/A value_int: 4 N/A\n",
      "[WARN] unable to float: val (4 N/A/<class 'str'>) e: could not convert string to float: '4 N/A'\n",
      "[WARN] unable to get value: sheet_name: MRIInjurySeverity value: 4 N/A value_float: 4 N/A value_int: 4 N/A\n",
      "[WARN] unable to float: val (4 N/A/<class 'str'>) e: could not convert string to float: '4 N/A'\n",
      "[WARN] unable to get value: sheet_name: MRIInjurySeverity value: 4 N/A value_float: 4 N/A value_int: 4 N/A\n",
      "[WARN] unable to float: val (4 N/A/<class 'str'>) e: could not convert string to float: '4 N/A'\n",
      "[WARN] unable to get value: sheet_name: MRIInjurySeverity value: 4 N/A value_float: 4 N/A value_int: 4 N/A\n",
      "[WARN] unable to float: val (4 N/A/<class 'str'>) e: could not convert string to float: '4 N/A'\n",
      "[WARN] unable to get value: sheet_name: MRIInjurySeverity value: 4 N/A value_float: 4 N/A value_int: 4 N/A\n",
      "[WARN] unable to float: val (4 N/A/<class 'str'>) e: could not convert string to float: '4 N/A'\n",
      "[WARN] unable to get value: sheet_name: MRIInjurySeverity value: 4 N/A value_float: 4 N/A value_int: 4 N/A\n",
      "[WARN] unable to float: val (4 N/A/<class 'str'>) e: could not convert string to float: '4 N/A'\n",
      "[WARN] unable to get value: sheet_name: MRIInjurySeverity value: 4 N/A value_float: 4 N/A value_int: 4 N/A\n",
      "[WARN] unable to float: val (4 N/A/<class 'str'>) e: could not convert string to float: '4 N/A'\n",
      "[WARN] unable to get value: sheet_name: MRIInjurySeverity value: 4 N/A value_float: 4 N/A value_int: 4 N/A\n",
      "[WARN] unable to float: val (4 N/A/<class 'str'>) e: could not convert string to float: '4 N/A'\n",
      "[WARN] unable to get value: sheet_name: MRIInjurySeverity value: 4 N/A value_float: 4 N/A value_int: 4 N/A\n",
      "[WARN] unable to float: val (4 N/A/<class 'str'>) e: could not convert string to float: '4 N/A'\n",
      "[WARN] unable to get value: sheet_name: MRIInjurySeverity value: 4 N/A value_float: 4 N/A value_int: 4 N/A\n",
      "[WARN] unable to float: val (4 N/A/<class 'str'>) e: could not convert string to float: '4 N/A'\n",
      "[WARN] unable to get value: sheet_name: MRIInjurySeverity value: 4 N/A value_float: 4 N/A value_int: 4 N/A\n",
      "[WARN] unable to float: val (4 N/A/<class 'str'>) e: could not convert string to float: '4 N/A'\n",
      "[WARN] unable to get value: sheet_name: MRIInjurySeverity value: 4 N/A value_float: 4 N/A value_int: 4 N/A\n",
      "[WARN] unable to float: val (4 N/A/<class 'str'>) e: could not convert string to float: '4 N/A'\n",
      "[WARN] unable to get value: sheet_name: MRIInjurySeverity value: 4 N/A value_float: 4 N/A value_int: 4 N/A\n",
      "[WARN] unable to float: val (4 N/A/<class 'str'>) e: could not convert string to float: '4 N/A'\n",
      "[WARN] unable to get value: sheet_name: MRIInjurySeverity value: 4 N/A value_float: 4 N/A value_int: 4 N/A\n",
      "[WARN] unable to float: val (4 N/A/<class 'str'>) e: could not convert string to float: '4 N/A'\n",
      "[WARN] unable to get value: sheet_name: MRIInjurySeverity value: 4 N/A value_float: 4 N/A value_int: 4 N/A\n",
      "[WARN] unable to float: val (4 N/A/<class 'str'>) e: could not convert string to float: '4 N/A'\n",
      "[WARN] unable to get value: sheet_name: MRIInjurySeverity value: 4 N/A value_float: 4 N/A value_int: 4 N/A\n",
      "[WARN] unable to float: val (4 N/A/<class 'str'>) e: could not convert string to float: '4 N/A'\n",
      "[WARN] unable to get value: sheet_name: MRIInjurySeverity value: 4 N/A value_float: 4 N/A value_int: 4 N/A\n",
      "[WARN] unable to float: val (4 N/A/<class 'str'>) e: could not convert string to float: '4 N/A'\n",
      "[WARN] unable to get value: sheet_name: MRIInjurySeverity value: 4 N/A value_float: 4 N/A value_int: 4 N/A\n",
      "[WARN] unable to float: val (4 N/A/<class 'str'>) e: could not convert string to float: '4 N/A'\n",
      "[WARN] unable to get value: sheet_name: MRIInjurySeverity value: 4 N/A value_float: 4 N/A value_int: 4 N/A\n",
      "[WARN] unable to get value: sheet_name: MRIInjurySeverity value: - value_float:  value_int: \n",
      "[WARN] unable to float: val (4 N/A/<class 'str'>) e: could not convert string to float: '4 N/A'\n",
      "[WARN] unable to get value: sheet_name: MRIInjurySeverity value: 4 N/A value_float: 4 N/A value_int: 4 N/A\n",
      "[WARN] unable to get value: sheet_name: MRIInjurySeverity value: - value_float:  value_int: \n",
      "[WARN] unable to get value: sheet_name: MRIInjurySeverity value: - value_float:  value_int: \n",
      "[WARN] unable to float: val (4 N/A/<class 'str'>) e: could not convert string to float: '4 N/A'\n",
      "[WARN] unable to get value: sheet_name: MRIInjurySeverity value: 4 N/A value_float: 4 N/A value_int: 4 N/A\n",
      "[WARN] unable to float: val (4 N/A/<class 'str'>) e: could not convert string to float: '4 N/A'\n",
      "[WARN] unable to get value: sheet_name: MRIInjurySeverity value: 4 N/A value_float: 4 N/A value_int: 4 N/A\n",
      "[WARN] unable to float: val (4 N/A/<class 'str'>) e: could not convert string to float: '4 N/A'\n",
      "[WARN] unable to get value: sheet_name: MRIInjurySeverity value: 4 N/A value_float: 4 N/A value_int: 4 N/A\n",
      "[WARN] unable to float: val (4 N/A/<class 'str'>) e: could not convert string to float: '4 N/A'\n",
      "[WARN] unable to get value: sheet_name: MRIInjurySeverity value: 4 N/A value_float: 4 N/A value_int: 4 N/A\n",
      "[WARN] unable to float: val (4 N/A/<class 'str'>) e: could not convert string to float: '4 N/A'\n",
      "[WARN] unable to get value: sheet_name: MRIInjurySeverity value: 4 N/A value_float: 4 N/A value_int: 4 N/A\n",
      "[WARN] unable to float: val (4 N/A/<class 'str'>) e: could not convert string to float: '4 N/A'\n",
      "[WARN] unable to get value: sheet_name: MRIInjurySeverity value: 4 N/A value_float: 4 N/A value_int: 4 N/A\n",
      "[WARN] unable to float: val (4 N/A/<class 'str'>) e: could not convert string to float: '4 N/A'\n",
      "[WARN] unable to get value: sheet_name: MRIInjurySeverity value: 4 N/A value_float: 4 N/A value_int: 4 N/A\n",
      "[WARN] unable to float: val (4 N/A/<class 'str'>) e: could not convert string to float: '4 N/A'\n",
      "[WARN] unable to get value: sheet_name: MRIInjurySeverity value: 4 N/A value_float: 4 N/A value_int: 4 N/A\n",
      "[WARN] unable to float: val (4 N/A/<class 'str'>) e: could not convert string to float: '4 N/A'\n",
      "[WARN] unable to get value: sheet_name: MRIInjurySeverity value: 4 N/A value_float: 4 N/A value_int: 4 N/A\n",
      "[WARN] unable to get value: sheet_name: MRIInjurySeverity value: - value_float:  value_int: \n",
      "[WARN] unable to get value: sheet_name: MRIInjurySeverity value: - value_float:  value_int: \n",
      "[WARN] unable to get value: sheet_name: MRIInjurySeverity value: - value_float:  value_int: \n",
      "[WARN] unable to float: val (4 N/A/<class 'str'>) e: could not convert string to float: '4 N/A'\n",
      "[WARN] unable to get value: sheet_name: MRIInjurySeverity value: 4 N/A value_float: 4 N/A value_int: 4 N/A\n",
      "[WARN] unable to float: val (4 N/A/<class 'str'>) e: could not convert string to float: '4 N/A'\n",
      "[WARN] unable to get value: sheet_name: MRIInjurySeverity value: 4 N/A value_float: 4 N/A value_int: 4 N/A\n",
      "[WARN] unable to get value: sheet_name: MRIInjurySeverity value: - value_float:  value_int: \n",
      "[WARN] unable to get value: sheet_name: MRIInjurySeverity value: - value_float:  value_int: \n",
      "[WARN] unable to float: val (4 N/A/<class 'str'>) e: could not convert string to float: '4 N/A'\n",
      "[WARN] unable to get value: sheet_name: MRIInjurySeverity value: 4 N/A value_float: 4 N/A value_int: 4 N/A\n",
      "[WARN] unable to float: val (4 N/A/<class 'str'>) e: could not convert string to float: '4 N/A'\n",
      "[WARN] unable to get value: sheet_name: MRIInjurySeverity value: 4 N/A value_float: 4 N/A value_int: 4 N/A\n",
      "[WARN] unable to float: val (4 N/A/<class 'str'>) e: could not convert string to float: '4 N/A'\n",
      "[WARN] unable to get value: sheet_name: MRIInjurySeverity value: 4 N/A value_float: 4 N/A value_int: 4 N/A\n",
      "[WARN] unable to get value: sheet_name: MRIInjurySeverity value: - value_float:  value_int: \n",
      "[WARN] unable to get value: sheet_name: MRIInjurySeverity value: - value_float:  value_int: \n",
      "[WARN] unable to get value: sheet_name: MRIInjurySeverity value: - value_float:  value_int: \n",
      "[WARN] unable to get value: sheet_name: MRIInjurySeverity value: - value_float:  value_int: \n",
      "[WARN] unable to get value: sheet_name: MRIInjurySeverity value: - value_float:  value_int: \n",
      "[WARN] unable to get value: sheet_name: MRIInjurySeverity value: - value_float:  value_int: \n",
      "[WARN] unable to get value: sheet_name: MRIInjurySeverity value: - value_float:  value_int: \n",
      "[WARN] unable to float: val (4 N/A/<class 'str'>) e: could not convert string to float: '4 N/A'\n",
      "[WARN] unable to get value: sheet_name: MRIInjurySeverity value: 4 N/A value_float: 4 N/A value_int: 4 N/A\n",
      "[WARN] unable to float: val (4 N/A/<class 'str'>) e: could not convert string to float: '4 N/A'\n",
      "[WARN] unable to get value: sheet_name: MRIInjurySeverity value: 4 N/A value_float: 4 N/A value_int: 4 N/A\n",
      "[WARN] unable to get value: sheet_name: MRIInjurySeverity value: - value_float:  value_int: \n",
      "[WARN] unable to get value: sheet_name: MRIInjurySeverity value: - value_float:  value_int: \n",
      "[WARN] unable to get value: sheet_name: MRIInjurySeverity value: - value_float:  value_int: \n",
      "[WARN] unable to float: val (4 N/A/<class 'str'>) e: could not convert string to float: '4 N/A'\n",
      "[WARN] unable to get value: sheet_name: MRIInjurySeverity value: 4 N/A value_float: 4 N/A value_int: 4 N/A\n",
      "[WARN] unable to float: val (4 N/A/<class 'str'>) e: could not convert string to float: '4 N/A'\n",
      "[WARN] unable to get value: sheet_name: MRIInjurySeverity value: 4 N/A value_float: 4 N/A value_int: 4 N/A\n",
      "[WARN] unable to float: val (4 N/A/<class 'str'>) e: could not convert string to float: '4 N/A'\n",
      "[WARN] unable to get value: sheet_name: MRIInjurySeverity value: 4 N/A value_float: 4 N/A value_int: 4 N/A\n",
      "[WARN] unable to float: val (4 N/A/<class 'str'>) e: could not convert string to float: '4 N/A'\n",
      "[WARN] unable to get value: sheet_name: MRIInjurySeverity value: 4 N/A value_float: 4 N/A value_int: 4 N/A\n",
      "[WARN] unable to float: val (4 N/A/<class 'str'>) e: could not convert string to float: '4 N/A'\n",
      "[WARN] unable to get value: sheet_name: MRIInjurySeverity value: 4 N/A value_float: 4 N/A value_int: 4 N/A\n",
      "[WARN] unable to float: val (4 N/A/<class 'str'>) e: could not convert string to float: '4 N/A'\n",
      "[WARN] unable to get value: sheet_name: MRIInjurySeverity value: 4 N/A value_float: 4 N/A value_int: 4 N/A\n",
      "[WARN] unable to get value: sheet_name: MRIInjurySeverity value: - value_float:  value_int: \n",
      "[WARN] unable to get value: sheet_name: MRIInjurySeverity value: - value_float:  value_int: \n",
      "[WARN] unable to get value: sheet_name: MRIInjurySeverity value: - value_float:  value_int: \n",
      "[WARN] unable to get value: sheet_name: MRIInjurySeverity value: - value_float:  value_int: \n",
      "[WARN] unable to get value: sheet_name: MRIInjurySeverity value: - value_float:  value_int: \n",
      "[WARN] unable to float: val (4 N/A/<class 'str'>) e: could not convert string to float: '4 N/A'\n",
      "[WARN] unable to get value: sheet_name: MRIInjurySeverity value: 4 N/A value_float: 4 N/A value_int: 4 N/A\n",
      "[WARN] unable to float: val (4 N/A/<class 'str'>) e: could not convert string to float: '4 N/A'\n",
      "[WARN] unable to get value: sheet_name: MRIInjurySeverity value: 4 N/A value_float: 4 N/A value_int: 4 N/A\n",
      "[WARN] unable to float: val (4 N/A/<class 'str'>) e: could not convert string to float: '4 N/A'\n",
      "[WARN] unable to get value: sheet_name: MRIInjurySeverity value: 4 N/A value_float: 4 N/A value_int: 4 N/A\n",
      "[WARN] unable to float: val (4 N/A/<class 'str'>) e: could not convert string to float: '4 N/A'\n",
      "[WARN] unable to get value: sheet_name: MRIInjurySeverity value: 4 N/A value_float: 4 N/A value_int: 4 N/A\n",
      "[WARN] unable to float: val (4 N/A/<class 'str'>) e: could not convert string to float: '4 N/A'\n",
      "[WARN] unable to get value: sheet_name: MRIInjurySeverity value: 4 N/A value_float: 4 N/A value_int: 4 N/A\n",
      "[WARN] unable to float: val (4 N/A/<class 'str'>) e: could not convert string to float: '4 N/A'\n",
      "[WARN] unable to get value: sheet_name: MRIInjurySeverity value: 4 N/A value_float: 4 N/A value_int: 4 N/A\n",
      "[WARN] unable to get value: sheet_name: MRIInjurySeverity value: - value_float:  value_int: \n",
      "[WARN] unable to float: val (4 N/A/<class 'str'>) e: could not convert string to float: '4 N/A'\n",
      "[WARN] unable to get value: sheet_name: MRIInjurySeverity value: 4 N/A value_float: 4 N/A value_int: 4 N/A\n",
      "[WARN] unable to float: val (4 N/A/<class 'str'>) e: could not convert string to float: '4 N/A'\n",
      "[WARN] unable to get value: sheet_name: MRIInjurySeverity value: 4 N/A value_float: 4 N/A value_int: 4 N/A\n",
      "(83/92) normalize_value: column: MRIWhiteMatterInjury_c\n",
      "[WARN] unable to get value: sheet_name: MRIInjurySeverity value: 4 value_float: 4.0 value_int: 4\n",
      "[WARN] unable to get value: sheet_name: MRIInjurySeverity value: 4 value_float: 4.0 value_int: 4\n",
      "[WARN] unable to get value: sheet_name: MRIInjurySeverity value: 4 value_float: 4.0 value_int: 4\n",
      "[WARN] unable to get value: sheet_name: MRIInjurySeverity value: 4 value_float: 4.0 value_int: 4\n",
      "[WARN] unable to get value: sheet_name: MRIInjurySeverity value: 4 value_float: 4.0 value_int: 4\n",
      "[WARN] unable to get value: sheet_name: MRIInjurySeverity value: 4 value_float: 4.0 value_int: 4\n",
      "[WARN] unable to get value: sheet_name: MRIInjurySeverity value: 4 value_float: 4.0 value_int: 4\n",
      "[WARN] unable to get value: sheet_name: MRIInjurySeverity value: 4 value_float: 4.0 value_int: 4\n",
      "[WARN] unable to get value: sheet_name: MRIInjurySeverity value: 4 value_float: 4.0 value_int: 4\n",
      "[WARN] unable to get value: sheet_name: MRIInjurySeverity value: 4 value_float: 4.0 value_int: 4\n",
      "[WARN] unable to get value: sheet_name: MRIInjurySeverity value: 4 value_float: 4.0 value_int: 4\n",
      "[WARN] unable to get value: sheet_name: MRIInjurySeverity value: 4 value_float: 4.0 value_int: 4\n",
      "[WARN] unable to get value: sheet_name: MRIInjurySeverity value: 4 value_float: 4.0 value_int: 4\n",
      "[WARN] unable to get value: sheet_name: MRIInjurySeverity value: 4 value_float: 4.0 value_int: 4\n",
      "[WARN] unable to get value: sheet_name: MRIInjurySeverity value: 4 value_float: 4.0 value_int: 4\n",
      "[WARN] unable to get value: sheet_name: MRIInjurySeverity value: 4 value_float: 4.0 value_int: 4\n",
      "[WARN] unable to get value: sheet_name: MRIInjurySeverity value: 4 value_float: 4.0 value_int: 4\n",
      "[WARN] unable to get value: sheet_name: MRIInjurySeverity value: 4 value_float: 4.0 value_int: 4\n",
      "[WARN] unable to get value: sheet_name: MRIInjurySeverity value: 4 value_float: 4.0 value_int: 4\n",
      "[WARN] unable to get value: sheet_name: MRIInjurySeverity value: 4 value_float: 4.0 value_int: 4\n",
      "[WARN] unable to get value: sheet_name: MRIInjurySeverity value: 4 value_float: 4.0 value_int: 4\n",
      "[WARN] unable to get value: sheet_name: MRIInjurySeverity value: 4 value_float: 4.0 value_int: 4\n",
      "[WARN] unable to get value: sheet_name: MRIInjurySeverity value: 4 value_float: 4.0 value_int: 4\n",
      "[WARN] unable to get value: sheet_name: MRIInjurySeverity value: 4 value_float: 4.0 value_int: 4\n",
      "[WARN] unable to get value: sheet_name: MRIInjurySeverity value: 4 value_float: 4.0 value_int: 4\n",
      "[WARN] unable to get value: sheet_name: MRIInjurySeverity value: 4 value_float: 4.0 value_int: 4\n",
      "[WARN] unable to get value: sheet_name: MRIInjurySeverity value: 4 value_float: 4.0 value_int: 4\n",
      "[WARN] unable to get value: sheet_name: MRIInjurySeverity value: 4 value_float: 4.0 value_int: 4\n",
      "[WARN] unable to get value: sheet_name: MRIInjurySeverity value: 4 value_float: 4.0 value_int: 4\n",
      "[WARN] unable to get value: sheet_name: MRIInjurySeverity value: 4 value_float: 4.0 value_int: 4\n",
      "[WARN] unable to get value: sheet_name: MRIInjurySeverity value: 4 value_float: 4.0 value_int: 4\n",
      "[WARN] unable to get value: sheet_name: MRIInjurySeverity value: 4 value_float: 4.0 value_int: 4\n",
      "[WARN] unable to get value: sheet_name: MRIInjurySeverity value: 4 value_float: 4.0 value_int: 4\n",
      "[WARN] unable to get value: sheet_name: MRIInjurySeverity value: 4 value_float: 4.0 value_int: 4\n",
      "[WARN] unable to get value: sheet_name: MRIInjurySeverity value: 4 value_float: 4.0 value_int: 4\n",
      "[WARN] unable to get value: sheet_name: MRIInjurySeverity value: 4 value_float: 4.0 value_int: 4\n",
      "[WARN] unable to get value: sheet_name: MRIInjurySeverity value: 4 value_float: 4.0 value_int: 4\n",
      "[WARN] unable to get value: sheet_name: MRIInjurySeverity value: 4 value_float: 4.0 value_int: 4\n",
      "[WARN] unable to get value: sheet_name: MRIInjurySeverity value: 4 value_float: 4.0 value_int: 4\n",
      "[WARN] unable to get value: sheet_name: MRIInjurySeverity value: 4 value_float: 4.0 value_int: 4\n",
      "[WARN] unable to get value: sheet_name: MRIInjurySeverity value: 4 value_float: 4.0 value_int: 4\n",
      "[WARN] unable to get value: sheet_name: MRIInjurySeverity value: 4 value_float: 4.0 value_int: 4\n",
      "[WARN] unable to get value: sheet_name: MRIInjurySeverity value: 4 value_float: 4.0 value_int: 4\n",
      "[WARN] unable to get value: sheet_name: MRIInjurySeverity value: 4 value_float: 4.0 value_int: 4\n",
      "[WARN] unable to get value: sheet_name: MRIInjurySeverity value: 4 value_float: 4.0 value_int: 4\n",
      "[WARN] unable to get value: sheet_name: MRIInjurySeverity value: 4 value_float: 4.0 value_int: 4\n",
      "[WARN] unable to get value: sheet_name: MRIInjurySeverity value: 4 value_float: 4.0 value_int: 4\n",
      "[WARN] unable to get value: sheet_name: MRIInjurySeverity value: 4 value_float: 4.0 value_int: 4\n",
      "[WARN] unable to get value: sheet_name: MRIInjurySeverity value: 4 value_float: 4.0 value_int: 4\n",
      "[WARN] unable to get value: sheet_name: MRIInjurySeverity value: 4 value_float: 4.0 value_int: 4\n",
      "[WARN] unable to get value: sheet_name: MRIInjurySeverity value: 4 value_float: 4.0 value_int: 4\n",
      "[WARN] unable to get value: sheet_name: MRIInjurySeverity value: 4 value_float: 4.0 value_int: 4\n",
      "[WARN] unable to get value: sheet_name: MRIInjurySeverity value: 4 value_float: 4.0 value_int: 4\n",
      "[WARN] unable to get value: sheet_name: MRIInjurySeverity value: 4 value_float: 4.0 value_int: 4\n",
      "[WARN] unable to get value: sheet_name: MRIInjurySeverity value: 4 value_float: 4.0 value_int: 4\n",
      "[WARN] unable to get value: sheet_name: MRIInjurySeverity value: 4 value_float: 4.0 value_int: 4\n",
      "[WARN] unable to get value: sheet_name: MRIInjurySeverity value: 4 value_float: 4.0 value_int: 4\n",
      "[WARN] unable to get value: sheet_name: MRIInjurySeverity value: 4 value_float: 4.0 value_int: 4\n",
      "[WARN] unable to get value: sheet_name: MRIInjurySeverity value: 4 value_float: 4.0 value_int: 4\n",
      "[WARN] unable to get value: sheet_name: MRIInjurySeverity value: 4 value_float: 4.0 value_int: 4\n",
      "[WARN] unable to get value: sheet_name: MRIInjurySeverity value: 4 value_float: 4.0 value_int: 4\n",
      "[WARN] unable to get value: sheet_name: MRIInjurySeverity value: 4 value_float: 4.0 value_int: 4\n",
      "[WARN] unable to get value: sheet_name: MRIInjurySeverity value: 4 value_float: 4.0 value_int: 4\n",
      "[WARN] unable to get value: sheet_name: MRIInjurySeverity value: 4 value_float: 4.0 value_int: 4\n",
      "[WARN] unable to get value: sheet_name: MRIInjurySeverity value: 4 value_float: 4.0 value_int: 4\n",
      "[WARN] unable to get value: sheet_name: MRIInjurySeverity value: 4 value_float: 4.0 value_int: 4\n",
      "[WARN] unable to get value: sheet_name: MRIInjurySeverity value: 4 value_float: 4.0 value_int: 4\n",
      "[WARN] unable to get value: sheet_name: MRIInjurySeverity value: 4 value_float: 4.0 value_int: 4\n",
      "[WARN] unable to get value: sheet_name: MRIInjurySeverity value: 4 value_float: 4.0 value_int: 4\n",
      "[WARN] unable to get value: sheet_name: MRIInjurySeverity value: 4 value_float: 4.0 value_int: 4\n",
      "[WARN] unable to get value: sheet_name: MRIInjurySeverity value: 4 value_float: 4.0 value_int: 4\n",
      "[WARN] unable to get value: sheet_name: MRIInjurySeverity value: 4 value_float: 4.0 value_int: 4\n",
      "[WARN] unable to get value: sheet_name: MRIInjurySeverity value: 4 value_float: 4.0 value_int: 4\n",
      "[WARN] unable to get value: sheet_name: MRIInjurySeverity value: 4 value_float: 4.0 value_int: 4\n",
      "[WARN] unable to get value: sheet_name: MRIInjurySeverity value: 4 value_float: 4.0 value_int: 4\n",
      "[WARN] unable to get value: sheet_name: MRIInjurySeverity value: 4 value_float: 4.0 value_int: 4\n",
      "[WARN] unable to get value: sheet_name: MRIInjurySeverity value: 4 value_float: 4.0 value_int: 4\n",
      "[WARN] unable to get value: sheet_name: MRIInjurySeverity value: 4 value_float: 4.0 value_int: 4\n",
      "[WARN] unable to get value: sheet_name: MRIInjurySeverity value: 4 value_float: 4.0 value_int: 4\n",
      "[WARN] unable to get value: sheet_name: MRIInjurySeverity value: 4 value_float: 4.0 value_int: 4\n",
      "[WARN] unable to get value: sheet_name: MRIInjurySeverity value: 4 value_float: 4.0 value_int: 4\n",
      "[WARN] unable to get value: sheet_name: MRIInjurySeverity value: 4 value_float: 4.0 value_int: 4\n",
      "[WARN] unable to get value: sheet_name: MRIInjurySeverity value: 4 value_float: 4.0 value_int: 4\n",
      "[WARN] unable to get value: sheet_name: MRIInjurySeverity value: 4 value_float: 4.0 value_int: 4\n",
      "[WARN] unable to get value: sheet_name: MRIInjurySeverity value: 4 value_float: 4.0 value_int: 4\n",
      "[WARN] unable to get value: sheet_name: MRIInjurySeverity value: 4 value_float: 4.0 value_int: 4\n",
      "[WARN] unable to get value: sheet_name: MRIInjurySeverity value: 4 value_float: 4.0 value_int: 4\n",
      "[WARN] unable to get value: sheet_name: MRIInjurySeverity value: 4 value_float: 4.0 value_int: 4\n",
      "[WARN] unable to get value: sheet_name: MRIInjurySeverity value: 4 value_float: 4.0 value_int: 4\n",
      "[WARN] unable to get value: sheet_name: MRIInjurySeverity value: 4 value_float: 4.0 value_int: 4\n",
      "[WARN] unable to get value: sheet_name: MRIInjurySeverity value: 4 value_float: 4.0 value_int: 4\n",
      "(84/92) normalize_value: column: MRIFocalCorticalInjury\n",
      "[WARN] unable to float: val (4 N/A/<class 'str'>) e: could not convert string to float: '4 N/A'\n",
      "[WARN] unable to get value: sheet_name: MRIInjurySeverity value: 4 N/A value_float: 4 N/A value_int: 4 N/A\n",
      "[WARN] unable to float: val (4 N/A/<class 'str'>) e: could not convert string to float: '4 N/A'\n",
      "[WARN] unable to get value: sheet_name: MRIInjurySeverity value: 4 N/A value_float: 4 N/A value_int: 4 N/A\n",
      "[WARN] unable to float: val (4 N/A/<class 'str'>) e: could not convert string to float: '4 N/A'\n",
      "[WARN] unable to get value: sheet_name: MRIInjurySeverity value: 4 N/A value_float: 4 N/A value_int: 4 N/A\n",
      "[WARN] unable to float: val (4 N/A/<class 'str'>) e: could not convert string to float: '4 N/A'\n",
      "[WARN] unable to get value: sheet_name: MRIInjurySeverity value: 4 N/A value_float: 4 N/A value_int: 4 N/A\n",
      "[WARN] unable to float: val (4 N/A/<class 'str'>) e: could not convert string to float: '4 N/A'\n",
      "[WARN] unable to get value: sheet_name: MRIInjurySeverity value: 4 N/A value_float: 4 N/A value_int: 4 N/A\n",
      "[WARN] unable to float: val (4 N/A/<class 'str'>) e: could not convert string to float: '4 N/A'\n",
      "[WARN] unable to get value: sheet_name: MRIInjurySeverity value: 4 N/A value_float: 4 N/A value_int: 4 N/A\n",
      "[WARN] unable to float: val (4 N/A/<class 'str'>) e: could not convert string to float: '4 N/A'\n",
      "[WARN] unable to get value: sheet_name: MRIInjurySeverity value: 4 N/A value_float: 4 N/A value_int: 4 N/A\n",
      "[WARN] unable to float: val (4 N/A/<class 'str'>) e: could not convert string to float: '4 N/A'\n",
      "[WARN] unable to get value: sheet_name: MRIInjurySeverity value: 4 N/A value_float: 4 N/A value_int: 4 N/A\n",
      "[WARN] unable to float: val (4 N/A/<class 'str'>) e: could not convert string to float: '4 N/A'\n",
      "[WARN] unable to get value: sheet_name: MRIInjurySeverity value: 4 N/A value_float: 4 N/A value_int: 4 N/A\n",
      "[WARN] unable to get value: sheet_name: MRIInjurySeverity value: - value_float:  value_int: \n",
      "[WARN] unable to float: val (4 N/A/<class 'str'>) e: could not convert string to float: '4 N/A'\n",
      "[WARN] unable to get value: sheet_name: MRIInjurySeverity value: 4 N/A value_float: 4 N/A value_int: 4 N/A\n",
      "[WARN] unable to float: val (4 N/A/<class 'str'>) e: could not convert string to float: '4 N/A'\n",
      "[WARN] unable to get value: sheet_name: MRIInjurySeverity value: 4 N/A value_float: 4 N/A value_int: 4 N/A\n",
      "[WARN] unable to get value: sheet_name: MRIInjurySeverity value: - value_float:  value_int: \n",
      "[WARN] unable to float: val (4 N/A/<class 'str'>) e: could not convert string to float: '4 N/A'\n",
      "[WARN] unable to get value: sheet_name: MRIInjurySeverity value: 4 N/A value_float: 4 N/A value_int: 4 N/A\n",
      "[WARN] unable to float: val (4 N/A/<class 'str'>) e: could not convert string to float: '4 N/A'\n",
      "[WARN] unable to get value: sheet_name: MRIInjurySeverity value: 4 N/A value_float: 4 N/A value_int: 4 N/A\n",
      "[WARN] unable to float: val (4 N/A/<class 'str'>) e: could not convert string to float: '4 N/A'\n",
      "[WARN] unable to get value: sheet_name: MRIInjurySeverity value: 4 N/A value_float: 4 N/A value_int: 4 N/A\n",
      "[WARN] unable to float: val (4 N/A/<class 'str'>) e: could not convert string to float: '4 N/A'\n",
      "[WARN] unable to get value: sheet_name: MRIInjurySeverity value: 4 N/A value_float: 4 N/A value_int: 4 N/A\n",
      "[WARN] unable to float: val (4 N/A/<class 'str'>) e: could not convert string to float: '4 N/A'\n",
      "[WARN] unable to get value: sheet_name: MRIInjurySeverity value: 4 N/A value_float: 4 N/A value_int: 4 N/A\n",
      "[WARN] unable to float: val (4 N/A/<class 'str'>) e: could not convert string to float: '4 N/A'\n",
      "[WARN] unable to get value: sheet_name: MRIInjurySeverity value: 4 N/A value_float: 4 N/A value_int: 4 N/A\n",
      "[WARN] unable to float: val (4 N/A/<class 'str'>) e: could not convert string to float: '4 N/A'\n",
      "[WARN] unable to get value: sheet_name: MRIInjurySeverity value: 4 N/A value_float: 4 N/A value_int: 4 N/A\n",
      "[WARN] unable to float: val (4 N/A/<class 'str'>) e: could not convert string to float: '4 N/A'\n",
      "[WARN] unable to get value: sheet_name: MRIInjurySeverity value: 4 N/A value_float: 4 N/A value_int: 4 N/A\n",
      "[WARN] unable to float: val (4 N/A/<class 'str'>) e: could not convert string to float: '4 N/A'\n",
      "[WARN] unable to get value: sheet_name: MRIInjurySeverity value: 4 N/A value_float: 4 N/A value_int: 4 N/A\n",
      "[WARN] unable to float: val (4 N/A/<class 'str'>) e: could not convert string to float: '4 N/A'\n",
      "[WARN] unable to get value: sheet_name: MRIInjurySeverity value: 4 N/A value_float: 4 N/A value_int: 4 N/A\n",
      "[WARN] unable to float: val (4 N/A/<class 'str'>) e: could not convert string to float: '4 N/A'\n",
      "[WARN] unable to get value: sheet_name: MRIInjurySeverity value: 4 N/A value_float: 4 N/A value_int: 4 N/A\n",
      "[WARN] unable to float: val (4 N/A/<class 'str'>) e: could not convert string to float: '4 N/A'\n",
      "[WARN] unable to get value: sheet_name: MRIInjurySeverity value: 4 N/A value_float: 4 N/A value_int: 4 N/A\n",
      "[WARN] unable to float: val (4 N/A/<class 'str'>) e: could not convert string to float: '4 N/A'\n",
      "[WARN] unable to get value: sheet_name: MRIInjurySeverity value: 4 N/A value_float: 4 N/A value_int: 4 N/A\n",
      "[WARN] unable to get value: sheet_name: MRIInjurySeverity value: - value_float:  value_int: \n",
      "[WARN] unable to float: val (4 N/A/<class 'str'>) e: could not convert string to float: '4 N/A'\n",
      "[WARN] unable to get value: sheet_name: MRIInjurySeverity value: 4 N/A value_float: 4 N/A value_int: 4 N/A\n",
      "[WARN] unable to float: val (4 N/A/<class 'str'>) e: could not convert string to float: '4 N/A'\n",
      "[WARN] unable to get value: sheet_name: MRIInjurySeverity value: 4 N/A value_float: 4 N/A value_int: 4 N/A\n",
      "[WARN] unable to float: val (4 N/A/<class 'str'>) e: could not convert string to float: '4 N/A'\n",
      "[WARN] unable to get value: sheet_name: MRIInjurySeverity value: 4 N/A value_float: 4 N/A value_int: 4 N/A\n",
      "[WARN] unable to float: val (4 N/A/<class 'str'>) e: could not convert string to float: '4 N/A'\n",
      "[WARN] unable to get value: sheet_name: MRIInjurySeverity value: 4 N/A value_float: 4 N/A value_int: 4 N/A\n",
      "[WARN] unable to float: val (4 N/A/<class 'str'>) e: could not convert string to float: '4 N/A'\n",
      "[WARN] unable to get value: sheet_name: MRIInjurySeverity value: 4 N/A value_float: 4 N/A value_int: 4 N/A\n",
      "[WARN] unable to float: val (4 N/A/<class 'str'>) e: could not convert string to float: '4 N/A'\n",
      "[WARN] unable to get value: sheet_name: MRIInjurySeverity value: 4 N/A value_float: 4 N/A value_int: 4 N/A\n",
      "[WARN] unable to float: val (4 N/A/<class 'str'>) e: could not convert string to float: '4 N/A'\n",
      "[WARN] unable to get value: sheet_name: MRIInjurySeverity value: 4 N/A value_float: 4 N/A value_int: 4 N/A\n",
      "[WARN] unable to float: val (4 N/A/<class 'str'>) e: could not convert string to float: '4 N/A'\n",
      "[WARN] unable to get value: sheet_name: MRIInjurySeverity value: 4 N/A value_float: 4 N/A value_int: 4 N/A\n",
      "[WARN] unable to float: val (4 N/A/<class 'str'>) e: could not convert string to float: '4 N/A'\n",
      "[WARN] unable to get value: sheet_name: MRIInjurySeverity value: 4 N/A value_float: 4 N/A value_int: 4 N/A\n",
      "[WARN] unable to float: val (4 N/A/<class 'str'>) e: could not convert string to float: '4 N/A'\n",
      "[WARN] unable to get value: sheet_name: MRIInjurySeverity value: 4 N/A value_float: 4 N/A value_int: 4 N/A\n",
      "[WARN] unable to float: val (4 N/A/<class 'str'>) e: could not convert string to float: '4 N/A'\n",
      "[WARN] unable to get value: sheet_name: MRIInjurySeverity value: 4 N/A value_float: 4 N/A value_int: 4 N/A\n",
      "[WARN] unable to float: val (4 N/A/<class 'str'>) e: could not convert string to float: '4 N/A'\n",
      "[WARN] unable to get value: sheet_name: MRIInjurySeverity value: 4 N/A value_float: 4 N/A value_int: 4 N/A\n",
      "[WARN] unable to get value: sheet_name: MRIInjurySeverity value: - value_float:  value_int: \n",
      "[WARN] unable to float: val (4 N/A/<class 'str'>) e: could not convert string to float: '4 N/A'\n",
      "[WARN] unable to get value: sheet_name: MRIInjurySeverity value: 4 N/A value_float: 4 N/A value_int: 4 N/A\n",
      "[WARN] unable to float: val (4 N/A/<class 'str'>) e: could not convert string to float: '4 N/A'\n",
      "[WARN] unable to get value: sheet_name: MRIInjurySeverity value: 4 N/A value_float: 4 N/A value_int: 4 N/A\n",
      "[WARN] unable to float: val (4 N/A/<class 'str'>) e: could not convert string to float: '4 N/A'\n",
      "[WARN] unable to get value: sheet_name: MRIInjurySeverity value: 4 N/A value_float: 4 N/A value_int: 4 N/A\n",
      "[WARN] unable to float: val (4 N/A/<class 'str'>) e: could not convert string to float: '4 N/A'\n",
      "[WARN] unable to get value: sheet_name: MRIInjurySeverity value: 4 N/A value_float: 4 N/A value_int: 4 N/A\n",
      "[WARN] unable to float: val (4 N/A/<class 'str'>) e: could not convert string to float: '4 N/A'\n",
      "[WARN] unable to get value: sheet_name: MRIInjurySeverity value: 4 N/A value_float: 4 N/A value_int: 4 N/A\n",
      "[WARN] unable to float: val (4 N/A/<class 'str'>) e: could not convert string to float: '4 N/A'\n",
      "[WARN] unable to get value: sheet_name: MRIInjurySeverity value: 4 N/A value_float: 4 N/A value_int: 4 N/A\n",
      "[WARN] unable to float: val (4 N/A/<class 'str'>) e: could not convert string to float: '4 N/A'\n",
      "[WARN] unable to get value: sheet_name: MRIInjurySeverity value: 4 N/A value_float: 4 N/A value_int: 4 N/A\n",
      "[WARN] unable to float: val (4 N/A/<class 'str'>) e: could not convert string to float: '4 N/A'\n",
      "[WARN] unable to get value: sheet_name: MRIInjurySeverity value: 4 N/A value_float: 4 N/A value_int: 4 N/A\n",
      "[WARN] unable to float: val (4 N/A/<class 'str'>) e: could not convert string to float: '4 N/A'\n",
      "[WARN] unable to get value: sheet_name: MRIInjurySeverity value: 4 N/A value_float: 4 N/A value_int: 4 N/A\n",
      "[WARN] unable to get value: sheet_name: MRIInjurySeverity value: - value_float:  value_int: \n",
      "[WARN] unable to float: val (4 N/A/<class 'str'>) e: could not convert string to float: '4 N/A'\n",
      "[WARN] unable to get value: sheet_name: MRIInjurySeverity value: 4 N/A value_float: 4 N/A value_int: 4 N/A\n",
      "[WARN] unable to float: val (4 N/A/<class 'str'>) e: could not convert string to float: '4 N/A'\n",
      "[WARN] unable to get value: sheet_name: MRIInjurySeverity value: 4 N/A value_float: 4 N/A value_int: 4 N/A\n",
      "[WARN] unable to float: val (4 N/A/<class 'str'>) e: could not convert string to float: '4 N/A'\n",
      "[WARN] unable to get value: sheet_name: MRIInjurySeverity value: 4 N/A value_float: 4 N/A value_int: 4 N/A\n",
      "[WARN] unable to float: val (4 N/A/<class 'str'>) e: could not convert string to float: '4 N/A'\n",
      "[WARN] unable to get value: sheet_name: MRIInjurySeverity value: 4 N/A value_float: 4 N/A value_int: 4 N/A\n",
      "[WARN] unable to float: val (4 N/A/<class 'str'>) e: could not convert string to float: '4 N/A'\n",
      "[WARN] unable to get value: sheet_name: MRIInjurySeverity value: 4 N/A value_float: 4 N/A value_int: 4 N/A\n",
      "[WARN] unable to float: val (4 N/A/<class 'str'>) e: could not convert string to float: '4 N/A'\n",
      "[WARN] unable to get value: sheet_name: MRIInjurySeverity value: 4 N/A value_float: 4 N/A value_int: 4 N/A\n",
      "[WARN] unable to float: val (4 N/A/<class 'str'>) e: could not convert string to float: '4 N/A'\n",
      "[WARN] unable to get value: sheet_name: MRIInjurySeverity value: 4 N/A value_float: 4 N/A value_int: 4 N/A\n",
      "[WARN] unable to float: val (4 N/A/<class 'str'>) e: could not convert string to float: '4 N/A'\n",
      "[WARN] unable to get value: sheet_name: MRIInjurySeverity value: 4 N/A value_float: 4 N/A value_int: 4 N/A\n",
      "[WARN] unable to float: val (4 N/A/<class 'str'>) e: could not convert string to float: '4 N/A'\n",
      "[WARN] unable to get value: sheet_name: MRIInjurySeverity value: 4 N/A value_float: 4 N/A value_int: 4 N/A\n",
      "[WARN] unable to float: val (4 N/A/<class 'str'>) e: could not convert string to float: '4 N/A'\n",
      "[WARN] unable to get value: sheet_name: MRIInjurySeverity value: 4 N/A value_float: 4 N/A value_int: 4 N/A\n",
      "[WARN] unable to float: val (4 N/A/<class 'str'>) e: could not convert string to float: '4 N/A'\n",
      "[WARN] unable to get value: sheet_name: MRIInjurySeverity value: 4 N/A value_float: 4 N/A value_int: 4 N/A\n",
      "[WARN] unable to get value: sheet_name: MRIInjurySeverity value: - value_float:  value_int: \n",
      "[WARN] unable to float: val (4 N/A/<class 'str'>) e: could not convert string to float: '4 N/A'\n",
      "[WARN] unable to get value: sheet_name: MRIInjurySeverity value: 4 N/A value_float: 4 N/A value_int: 4 N/A\n",
      "[WARN] unable to float: val (4 N/A/<class 'str'>) e: could not convert string to float: '4 N/A'\n",
      "[WARN] unable to get value: sheet_name: MRIInjurySeverity value: 4 N/A value_float: 4 N/A value_int: 4 N/A\n",
      "[WARN] unable to float: val (4 N/A/<class 'str'>) e: could not convert string to float: '4 N/A'\n",
      "[WARN] unable to get value: sheet_name: MRIInjurySeverity value: 4 N/A value_float: 4 N/A value_int: 4 N/A\n",
      "[WARN] unable to float: val (4 N/A/<class 'str'>) e: could not convert string to float: '4 N/A'\n",
      "[WARN] unable to get value: sheet_name: MRIInjurySeverity value: 4 N/A value_float: 4 N/A value_int: 4 N/A\n",
      "[WARN] unable to float: val (4 N/A/<class 'str'>) e: could not convert string to float: '4 N/A'\n",
      "[WARN] unable to get value: sheet_name: MRIInjurySeverity value: 4 N/A value_float: 4 N/A value_int: 4 N/A\n",
      "[WARN] unable to float: val (4 N/A/<class 'str'>) e: could not convert string to float: '4 N/A'\n",
      "[WARN] unable to get value: sheet_name: MRIInjurySeverity value: 4 N/A value_float: 4 N/A value_int: 4 N/A\n",
      "[WARN] unable to float: val (4 N/A/<class 'str'>) e: could not convert string to float: '4 N/A'\n",
      "[WARN] unable to get value: sheet_name: MRIInjurySeverity value: 4 N/A value_float: 4 N/A value_int: 4 N/A\n",
      "[WARN] unable to float: val (4 N/A/<class 'str'>) e: could not convert string to float: '4 N/A'\n",
      "[WARN] unable to get value: sheet_name: MRIInjurySeverity value: 4 N/A value_float: 4 N/A value_int: 4 N/A\n",
      "[WARN] unable to float: val (4 N/A/<class 'str'>) e: could not convert string to float: '4 N/A'\n",
      "[WARN] unable to get value: sheet_name: MRIInjurySeverity value: 4 N/A value_float: 4 N/A value_int: 4 N/A\n",
      "[WARN] unable to float: val (4 N/A/<class 'str'>) e: could not convert string to float: '4 N/A'\n",
      "[WARN] unable to get value: sheet_name: MRIInjurySeverity value: 4 N/A value_float: 4 N/A value_int: 4 N/A\n",
      "[WARN] unable to float: val (4 N/A/<class 'str'>) e: could not convert string to float: '4 N/A'\n",
      "[WARN] unable to get value: sheet_name: MRIInjurySeverity value: 4 N/A value_float: 4 N/A value_int: 4 N/A\n",
      "[WARN] unable to get value: sheet_name: MRIInjurySeverity value: - value_float:  value_int: \n",
      "[WARN] unable to float: val (4 N/A/<class 'str'>) e: could not convert string to float: '4 N/A'\n",
      "[WARN] unable to get value: sheet_name: MRIInjurySeverity value: 4 N/A value_float: 4 N/A value_int: 4 N/A\n",
      "[WARN] unable to get value: sheet_name: MRIInjurySeverity value: - value_float:  value_int: \n",
      "[WARN] unable to get value: sheet_name: MRIInjurySeverity value: - value_float:  value_int: \n",
      "[WARN] unable to float: val (4 N/A/<class 'str'>) e: could not convert string to float: '4 N/A'\n",
      "[WARN] unable to get value: sheet_name: MRIInjurySeverity value: 4 N/A value_float: 4 N/A value_int: 4 N/A\n",
      "[WARN] unable to float: val (4 N/A/<class 'str'>) e: could not convert string to float: '4 N/A'\n",
      "[WARN] unable to get value: sheet_name: MRIInjurySeverity value: 4 N/A value_float: 4 N/A value_int: 4 N/A\n",
      "[WARN] unable to float: val (4 N/A/<class 'str'>) e: could not convert string to float: '4 N/A'\n",
      "[WARN] unable to get value: sheet_name: MRIInjurySeverity value: 4 N/A value_float: 4 N/A value_int: 4 N/A\n",
      "[WARN] unable to float: val (4 N/A/<class 'str'>) e: could not convert string to float: '4 N/A'\n",
      "[WARN] unable to get value: sheet_name: MRIInjurySeverity value: 4 N/A value_float: 4 N/A value_int: 4 N/A\n",
      "[WARN] unable to float: val (4 N/A/<class 'str'>) e: could not convert string to float: '4 N/A'\n",
      "[WARN] unable to get value: sheet_name: MRIInjurySeverity value: 4 N/A value_float: 4 N/A value_int: 4 N/A\n",
      "[WARN] unable to float: val (4 N/A/<class 'str'>) e: could not convert string to float: '4 N/A'\n",
      "[WARN] unable to get value: sheet_name: MRIInjurySeverity value: 4 N/A value_float: 4 N/A value_int: 4 N/A\n",
      "[WARN] unable to float: val (4 N/A/<class 'str'>) e: could not convert string to float: '4 N/A'\n",
      "[WARN] unable to get value: sheet_name: MRIInjurySeverity value: 4 N/A value_float: 4 N/A value_int: 4 N/A\n",
      "[WARN] unable to float: val (4 N/A/<class 'str'>) e: could not convert string to float: '4 N/A'\n",
      "[WARN] unable to get value: sheet_name: MRIInjurySeverity value: 4 N/A value_float: 4 N/A value_int: 4 N/A\n",
      "[WARN] unable to float: val (4 N/A/<class 'str'>) e: could not convert string to float: '4 N/A'\n",
      "[WARN] unable to get value: sheet_name: MRIInjurySeverity value: 4 N/A value_float: 4 N/A value_int: 4 N/A\n",
      "[WARN] unable to float: val (4 N/A/<class 'str'>) e: could not convert string to float: '4 N/A'\n",
      "[WARN] unable to get value: sheet_name: MRIInjurySeverity value: 4 N/A value_float: 4 N/A value_int: 4 N/A\n",
      "[WARN] unable to float: val (4 N/A/<class 'str'>) e: could not convert string to float: '4 N/A'\n",
      "[WARN] unable to get value: sheet_name: MRIInjurySeverity value: 4 N/A value_float: 4 N/A value_int: 4 N/A\n",
      "[WARN] unable to float: val (4 N/A/<class 'str'>) e: could not convert string to float: '4 N/A'\n",
      "[WARN] unable to get value: sheet_name: MRIInjurySeverity value: 4 N/A value_float: 4 N/A value_int: 4 N/A\n",
      "[WARN] unable to float: val (4 N/A/<class 'str'>) e: could not convert string to float: '4 N/A'\n",
      "[WARN] unable to get value: sheet_name: MRIInjurySeverity value: 4 N/A value_float: 4 N/A value_int: 4 N/A\n",
      "[WARN] unable to float: val (4 N/A/<class 'str'>) e: could not convert string to float: '4 N/A'\n",
      "[WARN] unable to get value: sheet_name: MRIInjurySeverity value: 4 N/A value_float: 4 N/A value_int: 4 N/A\n",
      "[WARN] unable to get value: sheet_name: MRIInjurySeverity value: - value_float:  value_int: \n",
      "[WARN] unable to get value: sheet_name: MRIInjurySeverity value: - value_float:  value_int: \n",
      "[WARN] unable to get value: sheet_name: MRIInjurySeverity value: - value_float:  value_int: \n",
      "[WARN] unable to float: val (4 N/A/<class 'str'>) e: could not convert string to float: '4 N/A'\n",
      "[WARN] unable to get value: sheet_name: MRIInjurySeverity value: 4 N/A value_float: 4 N/A value_int: 4 N/A\n",
      "[WARN] unable to get value: sheet_name: MRIInjurySeverity value: - value_float:  value_int: \n",
      "[WARN] unable to float: val (4 N/A/<class 'str'>) e: could not convert string to float: '4 N/A'\n",
      "[WARN] unable to get value: sheet_name: MRIInjurySeverity value: 4 N/A value_float: 4 N/A value_int: 4 N/A\n",
      "[WARN] unable to float: val (4 N/A/<class 'str'>) e: could not convert string to float: '4 N/A'\n",
      "[WARN] unable to get value: sheet_name: MRIInjurySeverity value: 4 N/A value_float: 4 N/A value_int: 4 N/A\n",
      "[WARN] unable to float: val (4 N/A/<class 'str'>) e: could not convert string to float: '4 N/A'\n",
      "[WARN] unable to get value: sheet_name: MRIInjurySeverity value: 4 N/A value_float: 4 N/A value_int: 4 N/A\n",
      "[WARN] unable to get value: sheet_name: MRIInjurySeverity value: - value_float:  value_int: \n",
      "[WARN] unable to get value: sheet_name: MRIInjurySeverity value: - value_float:  value_int: \n",
      "[WARN] unable to float: val (4 N/A/<class 'str'>) e: could not convert string to float: '4 N/A'\n",
      "[WARN] unable to get value: sheet_name: MRIInjurySeverity value: 4 N/A value_float: 4 N/A value_int: 4 N/A\n",
      "[WARN] unable to float: val (4 N/A/<class 'str'>) e: could not convert string to float: '4 N/A'\n",
      "[WARN] unable to get value: sheet_name: MRIInjurySeverity value: 4 N/A value_float: 4 N/A value_int: 4 N/A\n",
      "[WARN] unable to float: val (4 N/A/<class 'str'>) e: could not convert string to float: '4 N/A'\n",
      "[WARN] unable to get value: sheet_name: MRIInjurySeverity value: 4 N/A value_float: 4 N/A value_int: 4 N/A\n",
      "[WARN] unable to float: val (4 N/A/<class 'str'>) e: could not convert string to float: '4 N/A'\n",
      "[WARN] unable to get value: sheet_name: MRIInjurySeverity value: 4 N/A value_float: 4 N/A value_int: 4 N/A\n",
      "[WARN] unable to float: val (4 N/A/<class 'str'>) e: could not convert string to float: '4 N/A'\n",
      "[WARN] unable to get value: sheet_name: MRIInjurySeverity value: 4 N/A value_float: 4 N/A value_int: 4 N/A\n",
      "[WARN] unable to float: val (4 N/A/<class 'str'>) e: could not convert string to float: '4 N/A'\n",
      "[WARN] unable to get value: sheet_name: MRIInjurySeverity value: 4 N/A value_float: 4 N/A value_int: 4 N/A\n",
      "[WARN] unable to float: val (4 N/A/<class 'str'>) e: could not convert string to float: '4 N/A'\n",
      "[WARN] unable to get value: sheet_name: MRIInjurySeverity value: 4 N/A value_float: 4 N/A value_int: 4 N/A\n",
      "[WARN] unable to float: val (4 N/A/<class 'str'>) e: could not convert string to float: '4 N/A'\n",
      "[WARN] unable to get value: sheet_name: MRIInjurySeverity value: 4 N/A value_float: 4 N/A value_int: 4 N/A\n",
      "[WARN] unable to get value: sheet_name: MRIInjurySeverity value: - value_float:  value_int: \n",
      "[WARN] unable to get value: sheet_name: MRIInjurySeverity value: - value_float:  value_int: \n",
      "[WARN] unable to get value: sheet_name: MRIInjurySeverity value: - value_float:  value_int: \n",
      "[WARN] unable to get value: sheet_name: MRIInjurySeverity value: - value_float:  value_int: \n",
      "[WARN] unable to get value: sheet_name: MRIInjurySeverity value: - value_float:  value_int: \n",
      "[WARN] unable to get value: sheet_name: MRIInjurySeverity value: - value_float:  value_int: \n",
      "[WARN] unable to float: val (4 N/A/<class 'str'>) e: could not convert string to float: '4 N/A'\n",
      "[WARN] unable to get value: sheet_name: MRIInjurySeverity value: 4 N/A value_float: 4 N/A value_int: 4 N/A\n",
      "[WARN] unable to float: val (4 N/A/<class 'str'>) e: could not convert string to float: '4 N/A'\n",
      "[WARN] unable to get value: sheet_name: MRIInjurySeverity value: 4 N/A value_float: 4 N/A value_int: 4 N/A\n",
      "[WARN] unable to float: val (4 N/A/<class 'str'>) e: could not convert string to float: '4 N/A'\n",
      "[WARN] unable to get value: sheet_name: MRIInjurySeverity value: 4 N/A value_float: 4 N/A value_int: 4 N/A\n",
      "[WARN] unable to get value: sheet_name: MRIInjurySeverity value: - value_float:  value_int: \n",
      "[WARN] unable to float: val (4 N/A/<class 'str'>) e: could not convert string to float: '4 N/A'\n",
      "[WARN] unable to get value: sheet_name: MRIInjurySeverity value: 4 N/A value_float: 4 N/A value_int: 4 N/A\n",
      "[WARN] unable to float: val (4 N/A/<class 'str'>) e: could not convert string to float: '4 N/A'\n",
      "[WARN] unable to get value: sheet_name: MRIInjurySeverity value: 4 N/A value_float: 4 N/A value_int: 4 N/A\n",
      "[WARN] unable to float: val (4 N/A/<class 'str'>) e: could not convert string to float: '4 N/A'\n",
      "[WARN] unable to get value: sheet_name: MRIInjurySeverity value: 4 N/A value_float: 4 N/A value_int: 4 N/A\n",
      "[WARN] unable to float: val (4 N/A/<class 'str'>) e: could not convert string to float: '4 N/A'\n",
      "[WARN] unable to get value: sheet_name: MRIInjurySeverity value: 4 N/A value_float: 4 N/A value_int: 4 N/A\n",
      "[WARN] unable to get value: sheet_name: MRIInjurySeverity value: - value_float:  value_int: \n",
      "[WARN] unable to float: val (4 N/A/<class 'str'>) e: could not convert string to float: '4 N/A'\n",
      "[WARN] unable to get value: sheet_name: MRIInjurySeverity value: 4 N/A value_float: 4 N/A value_int: 4 N/A\n",
      "[WARN] unable to get value: sheet_name: MRIInjurySeverity value: - value_float:  value_int: \n",
      "[WARN] unable to get value: sheet_name: MRIInjurySeverity value: - value_float:  value_int: \n",
      "[WARN] unable to float: val (4 N/A/<class 'str'>) e: could not convert string to float: '4 N/A'\n",
      "[WARN] unable to get value: sheet_name: MRIInjurySeverity value: 4 N/A value_float: 4 N/A value_int: 4 N/A\n",
      "[WARN] unable to float: val (4 N/A/<class 'str'>) e: could not convert string to float: '4 N/A'\n",
      "[WARN] unable to get value: sheet_name: MRIInjurySeverity value: 4 N/A value_float: 4 N/A value_int: 4 N/A\n",
      "[WARN] unable to float: val (4 N/A/<class 'str'>) e: could not convert string to float: '4 N/A'\n",
      "[WARN] unable to get value: sheet_name: MRIInjurySeverity value: 4 N/A value_float: 4 N/A value_int: 4 N/A\n",
      "[WARN] unable to float: val (4 N/A/<class 'str'>) e: could not convert string to float: '4 N/A'\n",
      "[WARN] unable to get value: sheet_name: MRIInjurySeverity value: 4 N/A value_float: 4 N/A value_int: 4 N/A\n",
      "[WARN] unable to get value: sheet_name: MRIInjurySeverity value: - value_float:  value_int: \n",
      "[WARN] unable to get value: sheet_name: MRIInjurySeverity value: - value_float:  value_int: \n",
      "[WARN] unable to get value: sheet_name: MRIInjurySeverity value: - value_float:  value_int: \n",
      "[WARN] unable to get value: sheet_name: MRIInjurySeverity value: - value_float:  value_int: \n",
      "[WARN] unable to float: val (4 N/A/<class 'str'>) e: could not convert string to float: '4 N/A'\n",
      "[WARN] unable to get value: sheet_name: MRIInjurySeverity value: 4 N/A value_float: 4 N/A value_int: 4 N/A\n",
      "[WARN] unable to float: val (4 N/A/<class 'str'>) e: could not convert string to float: '4 N/A'\n",
      "[WARN] unable to get value: sheet_name: MRIInjurySeverity value: 4 N/A value_float: 4 N/A value_int: 4 N/A\n",
      "[WARN] unable to float: val (4 N/A/<class 'str'>) e: could not convert string to float: '4 N/A'\n",
      "[WARN] unable to get value: sheet_name: MRIInjurySeverity value: 4 N/A value_float: 4 N/A value_int: 4 N/A\n",
      "[WARN] unable to float: val (4 N/A/<class 'str'>) e: could not convert string to float: '4 N/A'\n",
      "[WARN] unable to get value: sheet_name: MRIInjurySeverity value: 4 N/A value_float: 4 N/A value_int: 4 N/A\n",
      "[WARN] unable to float: val (4 N/A/<class 'str'>) e: could not convert string to float: '4 N/A'\n",
      "[WARN] unable to get value: sheet_name: MRIInjurySeverity value: 4 N/A value_float: 4 N/A value_int: 4 N/A\n",
      "[WARN] unable to float: val (4 N/A/<class 'str'>) e: could not convert string to float: '4 N/A'\n",
      "[WARN] unable to get value: sheet_name: MRIInjurySeverity value: 4 N/A value_float: 4 N/A value_int: 4 N/A\n",
      "[WARN] unable to get value: sheet_name: MRIInjurySeverity value: - value_float:  value_int: \n",
      "[WARN] unable to float: val (4 N/A/<class 'str'>) e: could not convert string to float: '4 N/A'\n",
      "[WARN] unable to get value: sheet_name: MRIInjurySeverity value: 4 N/A value_float: 4 N/A value_int: 4 N/A\n",
      "[WARN] unable to float: val (4 N/A/<class 'str'>) e: could not convert string to float: '4 N/A'\n",
      "[WARN] unable to get value: sheet_name: MRIInjurySeverity value: 4 N/A value_float: 4 N/A value_int: 4 N/A\n",
      "[WARN] unable to float: val (4 N/A/<class 'str'>) e: could not convert string to float: '4 N/A'\n",
      "[WARN] unable to get value: sheet_name: MRIInjurySeverity value: 4 N/A value_float: 4 N/A value_int: 4 N/A\n",
      "[WARN] unable to float: val (4 N/A/<class 'str'>) e: could not convert string to float: '4 N/A'\n",
      "[WARN] unable to get value: sheet_name: MRIInjurySeverity value: 4 N/A value_float: 4 N/A value_int: 4 N/A\n",
      "(85/92) normalize_value: column: MRIFocalCorticalInjury_c\n",
      "[WARN] unable to get value: sheet_name: MRIInjurySeverity value: 4 value_float: 4.0 value_int: 4\n",
      "[WARN] unable to get value: sheet_name: MRIInjurySeverity value: 4 value_float: 4.0 value_int: 4\n",
      "[WARN] unable to get value: sheet_name: MRIInjurySeverity value: 4 value_float: 4.0 value_int: 4\n",
      "[WARN] unable to get value: sheet_name: MRIInjurySeverity value: 4 value_float: 4.0 value_int: 4\n",
      "[WARN] unable to get value: sheet_name: MRIInjurySeverity value: 4 value_float: 4.0 value_int: 4\n",
      "[WARN] unable to get value: sheet_name: MRIInjurySeverity value: 4 value_float: 4.0 value_int: 4\n",
      "[WARN] unable to get value: sheet_name: MRIInjurySeverity value: 4 value_float: 4.0 value_int: 4\n",
      "[WARN] unable to get value: sheet_name: MRIInjurySeverity value: 4 value_float: 4.0 value_int: 4\n",
      "[WARN] unable to get value: sheet_name: MRIInjurySeverity value: 4 value_float: 4.0 value_int: 4\n",
      "[WARN] unable to get value: sheet_name: MRIInjurySeverity value: 4 value_float: 4.0 value_int: 4\n",
      "[WARN] unable to get value: sheet_name: MRIInjurySeverity value: 4 value_float: 4.0 value_int: 4\n",
      "[WARN] unable to get value: sheet_name: MRIInjurySeverity value: 4 value_float: 4.0 value_int: 4\n",
      "[WARN] unable to get value: sheet_name: MRIInjurySeverity value: 4 value_float: 4.0 value_int: 4\n",
      "[WARN] unable to get value: sheet_name: MRIInjurySeverity value: 4 value_float: 4.0 value_int: 4\n",
      "[WARN] unable to get value: sheet_name: MRIInjurySeverity value: 4 value_float: 4.0 value_int: 4\n",
      "[WARN] unable to get value: sheet_name: MRIInjurySeverity value: 4 value_float: 4.0 value_int: 4\n",
      "[WARN] unable to get value: sheet_name: MRIInjurySeverity value: 4 value_float: 4.0 value_int: 4\n",
      "[WARN] unable to get value: sheet_name: MRIInjurySeverity value: 4 value_float: 4.0 value_int: 4\n",
      "[WARN] unable to get value: sheet_name: MRIInjurySeverity value: 4 value_float: 4.0 value_int: 4\n",
      "[WARN] unable to get value: sheet_name: MRIInjurySeverity value: 4 value_float: 4.0 value_int: 4\n",
      "[WARN] unable to get value: sheet_name: MRIInjurySeverity value: 4 value_float: 4.0 value_int: 4\n",
      "[WARN] unable to get value: sheet_name: MRIInjurySeverity value: 4 value_float: 4.0 value_int: 4\n",
      "[WARN] unable to get value: sheet_name: MRIInjurySeverity value: 4 value_float: 4.0 value_int: 4\n",
      "[WARN] unable to get value: sheet_name: MRIInjurySeverity value: 4 value_float: 4.0 value_int: 4\n",
      "[WARN] unable to get value: sheet_name: MRIInjurySeverity value: 4 value_float: 4.0 value_int: 4\n",
      "[WARN] unable to get value: sheet_name: MRIInjurySeverity value: 4 value_float: 4.0 value_int: 4\n",
      "[WARN] unable to get value: sheet_name: MRIInjurySeverity value: 4 value_float: 4.0 value_int: 4\n",
      "[WARN] unable to get value: sheet_name: MRIInjurySeverity value: 4 value_float: 4.0 value_int: 4\n",
      "[WARN] unable to get value: sheet_name: MRIInjurySeverity value: 4 value_float: 4.0 value_int: 4\n",
      "[WARN] unable to get value: sheet_name: MRIInjurySeverity value: 4 value_float: 4.0 value_int: 4\n",
      "[WARN] unable to get value: sheet_name: MRIInjurySeverity value: 4 value_float: 4.0 value_int: 4\n",
      "[WARN] unable to get value: sheet_name: MRIInjurySeverity value: 4 value_float: 4.0 value_int: 4\n",
      "[WARN] unable to get value: sheet_name: MRIInjurySeverity value: 4 value_float: 4.0 value_int: 4\n",
      "[WARN] unable to get value: sheet_name: MRIInjurySeverity value: 4 value_float: 4.0 value_int: 4\n",
      "[WARN] unable to get value: sheet_name: MRIInjurySeverity value: 4 value_float: 4.0 value_int: 4\n",
      "[WARN] unable to get value: sheet_name: MRIInjurySeverity value: 4 value_float: 4.0 value_int: 4\n",
      "[WARN] unable to get value: sheet_name: MRIInjurySeverity value: 4 value_float: 4.0 value_int: 4\n",
      "[WARN] unable to get value: sheet_name: MRIInjurySeverity value: 4 value_float: 4.0 value_int: 4\n",
      "[WARN] unable to get value: sheet_name: MRIInjurySeverity value: 4 value_float: 4.0 value_int: 4\n",
      "[WARN] unable to get value: sheet_name: MRIInjurySeverity value: 4 value_float: 4.0 value_int: 4\n",
      "[WARN] unable to get value: sheet_name: MRIInjurySeverity value: 4 value_float: 4.0 value_int: 4\n",
      "[WARN] unable to get value: sheet_name: MRIInjurySeverity value: 4 value_float: 4.0 value_int: 4\n",
      "[WARN] unable to get value: sheet_name: MRIInjurySeverity value: 4 value_float: 4.0 value_int: 4\n",
      "[WARN] unable to get value: sheet_name: MRIInjurySeverity value: 4 value_float: 4.0 value_int: 4\n",
      "[WARN] unable to get value: sheet_name: MRIInjurySeverity value: 4 value_float: 4.0 value_int: 4\n",
      "[WARN] unable to get value: sheet_name: MRIInjurySeverity value: 4 value_float: 4.0 value_int: 4\n",
      "[WARN] unable to get value: sheet_name: MRIInjurySeverity value: 4 value_float: 4.0 value_int: 4\n",
      "[WARN] unable to get value: sheet_name: MRIInjurySeverity value: 4 value_float: 4.0 value_int: 4\n",
      "[WARN] unable to get value: sheet_name: MRIInjurySeverity value: 4 value_float: 4.0 value_int: 4\n",
      "[WARN] unable to get value: sheet_name: MRIInjurySeverity value: 4 value_float: 4.0 value_int: 4\n",
      "[WARN] unable to get value: sheet_name: MRIInjurySeverity value: 4 value_float: 4.0 value_int: 4\n",
      "[WARN] unable to get value: sheet_name: MRIInjurySeverity value: 4 value_float: 4.0 value_int: 4\n",
      "[WARN] unable to get value: sheet_name: MRIInjurySeverity value: 4 value_float: 4.0 value_int: 4\n",
      "[WARN] unable to get value: sheet_name: MRIInjurySeverity value: 4 value_float: 4.0 value_int: 4\n",
      "[WARN] unable to get value: sheet_name: MRIInjurySeverity value: 4 value_float: 4.0 value_int: 4\n",
      "[WARN] unable to get value: sheet_name: MRIInjurySeverity value: 4 value_float: 4.0 value_int: 4\n",
      "[WARN] unable to get value: sheet_name: MRIInjurySeverity value: 4 value_float: 4.0 value_int: 4\n",
      "[WARN] unable to get value: sheet_name: MRIInjurySeverity value: 4 value_float: 4.0 value_int: 4\n",
      "[WARN] unable to get value: sheet_name: MRIInjurySeverity value: 4 value_float: 4.0 value_int: 4\n",
      "[WARN] unable to get value: sheet_name: MRIInjurySeverity value: 4 value_float: 4.0 value_int: 4\n",
      "[WARN] unable to get value: sheet_name: MRIInjurySeverity value: 4 value_float: 4.0 value_int: 4\n",
      "[WARN] unable to get value: sheet_name: MRIInjurySeverity value: 4 value_float: 4.0 value_int: 4\n",
      "[WARN] unable to get value: sheet_name: MRIInjurySeverity value: 4 value_float: 4.0 value_int: 4\n",
      "[WARN] unable to get value: sheet_name: MRIInjurySeverity value: 4 value_float: 4.0 value_int: 4\n",
      "[WARN] unable to get value: sheet_name: MRIInjurySeverity value: 4 value_float: 4.0 value_int: 4\n",
      "[WARN] unable to get value: sheet_name: MRIInjurySeverity value: 4 value_float: 4.0 value_int: 4\n",
      "[WARN] unable to get value: sheet_name: MRIInjurySeverity value: 4 value_float: 4.0 value_int: 4\n",
      "[WARN] unable to get value: sheet_name: MRIInjurySeverity value: 4 value_float: 4.0 value_int: 4\n",
      "[WARN] unable to get value: sheet_name: MRIInjurySeverity value: 4 value_float: 4.0 value_int: 4\n",
      "[WARN] unable to get value: sheet_name: MRIInjurySeverity value: 4 value_float: 4.0 value_int: 4\n",
      "[WARN] unable to get value: sheet_name: MRIInjurySeverity value: 4 value_float: 4.0 value_int: 4\n",
      "[WARN] unable to get value: sheet_name: MRIInjurySeverity value: 4 value_float: 4.0 value_int: 4\n",
      "[WARN] unable to get value: sheet_name: MRIInjurySeverity value: 4 value_float: 4.0 value_int: 4\n",
      "[WARN] unable to get value: sheet_name: MRIInjurySeverity value: 4 value_float: 4.0 value_int: 4\n",
      "[WARN] unable to get value: sheet_name: MRIInjurySeverity value: 4 value_float: 4.0 value_int: 4\n",
      "[WARN] unable to get value: sheet_name: MRIInjurySeverity value: 4 value_float: 4.0 value_int: 4\n",
      "[WARN] unable to get value: sheet_name: MRIInjurySeverity value: 4 value_float: 4.0 value_int: 4\n",
      "[WARN] unable to get value: sheet_name: MRIInjurySeverity value: 4 value_float: 4.0 value_int: 4\n",
      "[WARN] unable to get value: sheet_name: MRIInjurySeverity value: 4 value_float: 4.0 value_int: 4\n",
      "[WARN] unable to get value: sheet_name: MRIInjurySeverity value: 4 value_float: 4.0 value_int: 4\n",
      "[WARN] unable to get value: sheet_name: MRIInjurySeverity value: 4 value_float: 4.0 value_int: 4\n",
      "[WARN] unable to get value: sheet_name: MRIInjurySeverity value: 4 value_float: 4.0 value_int: 4\n",
      "[WARN] unable to get value: sheet_name: MRIInjurySeverity value: 4 value_float: 4.0 value_int: 4\n",
      "[WARN] unable to get value: sheet_name: MRIInjurySeverity value: 4 value_float: 4.0 value_int: 4\n",
      "[WARN] unable to get value: sheet_name: MRIInjurySeverity value: 4 value_float: 4.0 value_int: 4\n",
      "[WARN] unable to get value: sheet_name: MRIInjurySeverity value: 4 value_float: 4.0 value_int: 4\n",
      "[WARN] unable to get value: sheet_name: MRIInjurySeverity value: 4 value_float: 4.0 value_int: 4\n",
      "[WARN] unable to get value: sheet_name: MRIInjurySeverity value: 4 value_float: 4.0 value_int: 4\n",
      "[WARN] unable to get value: sheet_name: MRIInjurySeverity value: 4 value_float: 4.0 value_int: 4\n",
      "[WARN] unable to get value: sheet_name: MRIInjurySeverity value: 4 value_float: 4.0 value_int: 4\n",
      "[WARN] unable to get value: sheet_name: MRIInjurySeverity value: 4 value_float: 4.0 value_int: 4\n",
      "[WARN] unable to get value: sheet_name: MRIInjurySeverity value: 4 value_float: 4.0 value_int: 4\n",
      "[WARN] unable to get value: sheet_name: MRIInjurySeverity value: 4 value_float: 4.0 value_int: 4\n",
      "[WARN] unable to get value: sheet_name: MRIInjurySeverity value: 4 value_float: 4.0 value_int: 4\n",
      "[WARN] unable to get value: sheet_name: MRIInjurySeverity value: 4 value_float: 4.0 value_int: 4\n",
      "[WARN] unable to get value: sheet_name: MRIInjurySeverity value: 4 value_float: 4.0 value_int: 4\n",
      "[WARN] unable to get value: sheet_name: MRIInjurySeverity value: 4 value_float: 4.0 value_int: 4\n",
      "[WARN] unable to get value: sheet_name: MRIInjurySeverity value: 4 value_float: 4.0 value_int: 4\n",
      "[WARN] unable to get value: sheet_name: MRIInjurySeverity value: 4 value_float: 4.0 value_int: 4\n",
      "[WARN] unable to get value: sheet_name: MRIInjurySeverity value: 4 value_float: 4.0 value_int: 4\n",
      "[WARN] unable to get value: sheet_name: MRIInjurySeverity value: 4 value_float: 4.0 value_int: 4\n",
      "[WARN] unable to get value: sheet_name: MRIInjurySeverity value: 4 value_float: 4.0 value_int: 4\n",
      "[WARN] unable to get value: sheet_name: MRIInjurySeverity value: 4 value_float: 4.0 value_int: 4\n",
      "[WARN] unable to get value: sheet_name: MRIInjurySeverity value: 4 value_float: 4.0 value_int: 4\n",
      "[WARN] unable to get value: sheet_name: MRIInjurySeverity value: 4 value_float: 4.0 value_int: 4\n",
      "[WARN] unable to get value: sheet_name: MRIInjurySeverity value: 4 value_float: 4.0 value_int: 4\n",
      "[WARN] unable to get value: sheet_name: MRIInjurySeverity value: 4 value_float: 4.0 value_int: 4\n",
      "[WARN] unable to get value: sheet_name: MRIInjurySeverity value: 4 value_float: 4.0 value_int: 4\n",
      "[WARN] unable to get value: sheet_name: MRIInjurySeverity value: 4 value_float: 4.0 value_int: 4\n",
      "[WARN] unable to get value: sheet_name: MRIInjurySeverity value: 4 value_float: 4.0 value_int: 4\n",
      "[WARN] unable to get value: sheet_name: MRIInjurySeverity value: 4 value_float: 4.0 value_int: 4\n",
      "[WARN] unable to get value: sheet_name: MRIInjurySeverity value: 4 value_float: 4.0 value_int: 4\n",
      "[WARN] unable to get value: sheet_name: MRIInjurySeverity value: 4 value_float: 4.0 value_int: 4\n",
      "[WARN] unable to get value: sheet_name: MRIInjurySeverity value: 4 value_float: 4.0 value_int: 4\n",
      "[WARN] unable to get value: sheet_name: MRIInjurySeverity value: 4 value_float: 4.0 value_int: 4\n",
      "[WARN] unable to get value: sheet_name: MRIInjurySeverity value: 4 value_float: 4.0 value_int: 4\n",
      "(86/92) normalize_value: column: MRINRNPatternOfInjury\n",
      "[WARN] unable to float: val (7 N/A/<class 'str'>) e: could not convert string to float: '7 N/A'\n",
      "[WARN] unable to get value: sheet_name: MRINRNPatternOfInjury value: 7 N/A value_float: 7 N/A value_int: 7 N/A\n",
      "[WARN] unable to get value: sheet_name: MRINRNPatternOfInjury value: - value_float:  value_int: \n",
      "[WARN] unable to float: val (7 N/A/<class 'str'>) e: could not convert string to float: '7 N/A'\n",
      "[WARN] unable to get value: sheet_name: MRINRNPatternOfInjury value: 7 N/A value_float: 7 N/A value_int: 7 N/A\n",
      "[WARN] unable to float: val (7 N/A/<class 'str'>) e: could not convert string to float: '7 N/A'\n",
      "[WARN] unable to get value: sheet_name: MRINRNPatternOfInjury value: 7 N/A value_float: 7 N/A value_int: 7 N/A\n",
      "[WARN] unable to get value: sheet_name: MRINRNPatternOfInjury value: - value_float:  value_int: \n",
      "[WARN] unable to get value: sheet_name: MRINRNPatternOfInjury value: - value_float:  value_int: \n",
      "[WARN] unable to get value: sheet_name: MRINRNPatternOfInjury value: - value_float:  value_int: \n",
      "[WARN] unable to float: val (7 N/A/<class 'str'>) e: could not convert string to float: '7 N/A'\n",
      "[WARN] unable to get value: sheet_name: MRINRNPatternOfInjury value: 7 N/A value_float: 7 N/A value_int: 7 N/A\n",
      "[WARN] unable to float: val (Temporarily Missing/<class 'str'>) e: could not convert string to float: 'Temporarily Missing'\n",
      "[WARN] unable to get value: sheet_name: MRINRNPatternOfInjury value: Temporarily Missing value_float: Temporarily Missing value_int: Temporarily Missing\n",
      "[WARN] unable to float: val (7 N/A/<class 'str'>) e: could not convert string to float: '7 N/A'\n",
      "[WARN] unable to get value: sheet_name: MRINRNPatternOfInjury value: 7 N/A value_float: 7 N/A value_int: 7 N/A\n",
      "[WARN] unable to float: val (7 N/A/<class 'str'>) e: could not convert string to float: '7 N/A'\n",
      "[WARN] unable to get value: sheet_name: MRINRNPatternOfInjury value: 7 N/A value_float: 7 N/A value_int: 7 N/A\n",
      "(87/92) normalize_value: column: MRINRNPatternOfInjury_c\n",
      "[WARN] unable to get value: sheet_name: MRINRNPatternOfInjury value: 7 value_float: 7.0 value_int: 7\n",
      "[WARN] unable to get value: sheet_name: MRINRNPatternOfInjury value: 7 value_float: 7.0 value_int: 7\n",
      "[WARN] unable to get value: sheet_name: MRINRNPatternOfInjury value: 7 value_float: 7.0 value_int: 7\n",
      "[WARN] unable to get value: sheet_name: MRINRNPatternOfInjury value: 7 value_float: 7.0 value_int: 7\n",
      "[WARN] unable to float: val (?/<class 'str'>) e: could not convert string to float: '?'\n",
      "[WARN] unable to get value: sheet_name: MRINRNPatternOfInjury value: ? value_float: ? value_int: ?\n",
      "[WARN] unable to get value: sheet_name: MRINRNPatternOfInjury value: 7 value_float: 7.0 value_int: 7\n",
      "[WARN] unable to get value: sheet_name: MRINRNPatternOfInjury value: 7 value_float: 7.0 value_int: 7\n",
      "(88/92) normalize_value: column: MRIComment\n",
      "(89/92) normalize_value: column: subjectID_with_postfix\n",
      "(90/92) normalize_value: column: subjectID_postfix\n",
      "(91/92) normalize_value: column: MRI_ID\n"
     ]
    },
    {
     "name": "stdout",
     "output_type": "stream",
     "text": [
      "flatten_index: flatten_ids: ['MRIReader'] unique_id_map: {'1': '1', '2': '2'} the_type: object\n",
      "[WARN] not in order_map: subjectID_with_postfix\n",
      "[WARN] not in order_map: subjectID_postfix\n",
      "[WARN] not in order_map: subjectID_with_postfix\n",
      "[WARN] not in order_map: subjectID_postfix\n"
     ]
    }
   ],
   "source": [
    "filename = os.sep.join([input_dir, base_filename])\n",
    "df = pd.read_csv(filename, dtype='O')\n",
    "df = COMBINE_harmonizer.normalize_value(df, _VALUE_MAP, _FLATTEN_IDS, order_map=_ORDER_MAP)\n"
   ]
  },
  {
   "cell_type": "code",
   "execution_count": 93,
   "id": "042cad5d",
   "metadata": {
    "execution": {
     "iopub.execute_input": "2025-01-21T19:14:22.257308Z",
     "iopub.status.busy": "2025-01-21T19:14:22.257230Z",
     "iopub.status.idle": "2025-01-21T19:14:22.552900Z",
     "shell.execute_reply": "2025-01-21T19:14:22.551194Z"
    }
   },
   "outputs": [],
   "source": [
    "out_filename = os.sep.join([out_dir, base_filename])\n",
    "df.to_csv(out_filename, index=False)"
   ]
  },
  {
   "cell_type": "code",
   "execution_count": 94,
   "id": "9834e2b0-73c3-45ac-83bd-6b1b0d71cc16",
   "metadata": {
    "execution": {
     "iopub.execute_input": "2025-01-21T19:14:22.561402Z",
     "iopub.status.busy": "2025-01-21T19:14:22.560889Z",
     "iopub.status.idle": "2025-01-21T19:14:22.585653Z",
     "shell.execute_reply": "2025-01-21T19:14:22.585183Z"
    }
   },
   "outputs": [
    {
     "name": "stdout",
     "output_type": "stream",
     "text": [
      "(0/185) center: (244/0)\n",
      "(1/185) center.orig: (244/0)\n",
      "(2/185) subjectID: (244/0)\n",
      "(3/185) subjectID.orig: (244/0)\n",
      "(4/185) uniqueID: (244/0)\n",
      "(5/185) uniqueID.orig: (244/0)\n",
      "(6/185) MRI_ID: (244/0)\n",
      "(7/185) MRI_ID.orig: (244/0)\n",
      "(8/185) _flatten_index: (244/0)\n",
      "(9/185) MRIDate: (244/0)\n",
      "(10/185) MRIDate.orig: (244/0)\n",
      "(11/185) MRIID: (244/0)\n",
      "(12/185) MRIID.orig: (244/0)\n",
      "(13/185) MRIReader: (244/0)\n",
      "(14/185) MRIReader.orig: (244/0)\n",
      "(15/185) MRIReadDate: (244/0)\n",
      "(16/185) MRIReadDate.orig: (244/0)\n",
      "(17/185) MRIStrength_T: (244/0)\n",
      "(18/185) MRIStrength_T.orig: (244/0)\n",
      "(19/185) MRIStrength_c: (244/0)\n",
      "(20/185) MRIStrength_c.orig: (114/130)\n",
      "(21/185) MRIAdequateQuality: (244/0)\n",
      "(22/185) MRIAdequateQuality.orig: (239/5)\n",
      "(23/185) MRIAdequateQuality_c: (244/0)\n",
      "(24/185) MRIAdequateQuality_c.orig: (244/0)\n",
      "(25/185) MRIT1Axial: (244/0)\n",
      "(26/185) MRIT1Axial.orig: (244/0)\n",
      "(27/185) MRIT1Axial_c: (244/0)\n",
      "(28/185) MRIT1Axial_c.orig: (172/72)\n",
      "(29/185) MRIT1Coronal: (244/0)\n",
      "(30/185) MRIT1Coronal.orig: (244/0)\n",
      "(31/185) MRIT1Coronal_c: (244/0)\n",
      "(32/185) MRIT1Coronal_c.orig: (47/197)\n",
      "(33/185) MRIT1Sagittal: (244/0)\n",
      "(34/185) MRIT1Sagittal.orig: (244/0)\n",
      "(35/185) MRIT1Sagittal_c: (244/0)\n",
      "(36/185) MRIT1Sagittal_c.orig: (227/17)\n",
      "(37/185) MRIT2Axial: (244/0)\n",
      "(38/185) MRIT2Axial.orig: (244/0)\n",
      "(39/185) MRIT2Axial_c: (244/0)\n",
      "(40/185) MRIT2Axial_c.orig: (223/21)\n",
      "(41/185) MRIT2Coronal: (244/0)\n",
      "(42/185) MRIT2Coronal.orig: (244/0)\n",
      "(43/185) MRIT2Coronal_c: (244/0)\n",
      "(44/185) MRIT2Coronal_c.orig: (129/115)\n",
      "(45/185) MRIT2Sagittal: (244/0)\n",
      "(46/185) MRIT2Sagittal.orig: (244/0)\n",
      "(47/185) MRIT2Sagittal_c: (244/0)\n",
      "(48/185) MRIT2Sagittal_c.orig: (39/205)\n",
      "(49/185) MRIT2FLAIRAxial: (244/0)\n",
      "(50/185) MRIT2FLAIRAxial.orig: (244/0)\n",
      "(51/185) MRIT2FLAIRAxial_c: (244/0)\n",
      "(52/185) MRIT2FLAIRAxial_c.orig: (167/77)\n",
      "(53/185) MRIT2FLAIRCoronal: (244/0)\n",
      "(54/185) MRIT2FLAIRCoronal.orig: (244/0)\n",
      "(55/185) MRIT2FLAIRCoronal_c: (244/0)\n",
      "(56/185) MRIT2FLAIRCoronal_c.orig: (22/222)\n",
      "(57/185) MRIT2FLAIRSagittal: (244/0)\n",
      "(58/185) MRIT2FLAIRSagittal.orig: (244/0)\n",
      "(59/185) MRIT2FLAIRSagittal_c: (244/0)\n",
      "(60/185) MRIT2FLAIRSagittal_c.orig: (3/241)\n",
      "(61/185) MRIGRESWIAxial: (244/0)\n",
      "(62/185) MRIGRESWIAxial.orig: (244/0)\n",
      "(63/185) MRIGRESWIAxial_c: (244/0)\n",
      "(64/185) MRIGRESWIAxial_c.orig: (169/75)\n",
      "(65/185) MRIGRESWICoronal: (244/0)\n",
      "(66/185) MRIGRESWICoronal.orig: (244/0)\n",
      "(67/185) MRIGRESWICoronal_c: (244/0)\n",
      "(68/185) MRIGRESWICoronal_c.orig: (17/227)\n",
      "(69/185) MRIGRESWISagittal: (244/0)\n",
      "(70/185) MRIGRESWISagittal.orig: (244/0)\n",
      "(71/185) MRIGRESWISagittal_c: (244/0)\n",
      "(72/185) MRIGRESWISagittal_c.orig: (1/243)\n",
      "(73/185) MRISPGRAxial: (244/0)\n",
      "(74/185) MRISPGRAxial.orig: (244/0)\n",
      "(75/185) MRISPGRAxial_c: (244/0)\n",
      "(76/185) MRISPGRAxial_c.orig: (48/196)\n",
      "(77/185) MRISPGRCoronal: (244/0)\n",
      "(78/185) MRISPGRCoronal.orig: (244/0)\n",
      "(79/185) MRISPGRCoronal_c: (244/0)\n",
      "(80/185) MRISPGRCoronal_c.orig: (27/217)\n",
      "(81/185) MRISPGRSagittal: (244/0)\n",
      "(82/185) MRISPGRSagittal.orig: (244/0)\n",
      "(83/185) MRISPGRSagittal_c: (244/0)\n",
      "(84/185) MRISPGRSagittal_c.orig: (27/217)\n",
      "(85/185) MRIDWI: (244/0)\n",
      "(86/185) MRIDWI.orig: (244/0)\n",
      "(87/185) MRIDWI_c: (244/0)\n",
      "(88/185) MRIDWI_c.orig: (224/20)\n",
      "(89/185) MRIADC: (244/0)\n",
      "(90/185) MRIADC.orig: (244/0)\n",
      "(91/185) MRIADC_c: (244/0)\n",
      "(92/185) MRIADC_c.orig: (206/38)\n",
      "(93/185) MRIOther: (244/0)\n",
      "(94/185) MRIOther.orig: (244/0)\n",
      "(95/185) MRIOther_c: (244/0)\n",
      "(96/185) MRIOther_c.orig: (123/121)\n",
      "(97/185) MRIOtherText: (244/0)\n",
      "(98/185) MRIOtherText.orig: (137/107)\n",
      "(99/185) MRIOverallDiagnosis: (244/0)\n",
      "(100/185) MRIOverallDiagnosis.orig: (244/0)\n",
      "(101/185) MRIOverallDiagnosis_c: (244/0)\n",
      "(102/185) MRIOverallDiagnosis_c.orig: (243/1)\n",
      "(103/185) MRIOverallDiagnosisText: (244/0)\n",
      "(104/185) MRIOverallDiagnosisText.orig: (13/231)\n",
      "(105/185) MRIAbnormal: (244/0)\n",
      "(106/185) MRIAbnormal.orig: (231/13)\n",
      "(107/185) MRIAbnormal_c: (244/0)\n",
      "(108/185) MRIAbnormal_c.orig: (244/0)\n",
      "(109/185) MRICerebralAtrophy: (244/0)\n",
      "(110/185) MRICerebralAtrophy.orig: (234/10)\n",
      "(111/185) MRICerebralAtrophy_c: (244/0)\n",
      "(112/185) MRICerebralAtrophy_c.orig: (244/0)\n",
      "(113/185) MRICerebralAtrophyRegion: (244/0)\n",
      "(114/185) MRICerebralAtrophyRegion.orig: (4/240)\n",
      "(115/185) MRICerebralAtrophyQualAssessCC: (244/0)\n",
      "(116/185) MRICerebralAtrophyQualAssessCC.orig: (244/0)\n",
      "(117/185) MRICerebralAtrophyQualAssessCC_c: (244/0)\n",
      "(118/185) MRICerebralAtrophyQualAssessCC_c.orig: (231/13)\n",
      "(119/185) MRICerebralAtrophyQualAssessVDLeft: (244/0)\n",
      "(120/185) MRICerebralAtrophyQualAssessVDLeft.orig: (244/0)\n",
      "(121/185) MRICerebralAtrophyQualAssessVDLeft_c: (244/0)\n",
      "(122/185) MRICerebralAtrophyQualAssessVDLeft_c.orig: (240/4)\n",
      "(123/185) MRICerebralAtrophyQualAssessVDRight: (244/0)\n",
      "(124/185) MRICerebralAtrophyQualAssessVDRight.orig: (244/0)\n",
      "(125/185) MRICerebralAtrophyQualAssessVDRight_c: (244/0)\n",
      "(126/185) MRICerebralAtrophyQualAssessVDRight_c.orig: (234/10)\n",
      "(127/185) MRIInfarction: (244/0)\n",
      "(128/185) MRIInfarction.orig: (205/39)\n",
      "(129/185) MRIInfarction_c: (244/0)\n",
      "(130/185) MRIInfarction_c.orig: (244/0)\n",
      "(131/185) MRIInfarctionAterialTerritoryLeft: (244/0)\n",
      "(132/185) MRIInfarctionAterialTerritoryLeft.orig: (244/0)\n",
      "(133/185) MRIInfarctionAterialTerritoryLeft_c: (244/0)\n",
      "(134/185) MRIInfarctionAterialTerritoryLeft_c.orig: (22/222)\n",
      "(135/185) MRIInfarctionAterialTerritoryRight: (244/0)\n",
      "(136/185) MRIInfarctionAterialTerritoryRight.orig: (244/0)\n",
      "(137/185) MRIInfarctionAterialTerritoryRight_c: (244/0)\n",
      "(138/185) MRIInfarctionAterialTerritoryRight_c.orig: (14/230)\n",
      "(139/185) MRIInfarctionWatershedLeft: (244/0)\n",
      "(140/185) MRIInfarctionWatershedLeft.orig: (244/0)\n",
      "(141/185) MRIInfarctionWatershedLeft_c: (244/0)\n",
      "(142/185) MRIInfarctionWatershedLeft_c.orig: (59/185)\n",
      "(143/185) MRIInfarctionWatershedRight: (244/0)\n",
      "(144/185) MRIInfarctionWatershedRight.orig: (244/0)\n",
      "(145/185) MRIInfarctionWatershedRight_c: (244/0)\n",
      "(146/185) MRIInfarctionWatershedRight_c.orig: (56/188)\n",
      "(147/185) MRIMidlineShift: (244/0)\n",
      "(148/185) MRIMidlineShift.orig: (229/15)\n",
      "(149/185) MRIMidlineShift_c: (244/0)\n",
      "(150/185) MRIMidlineShift_c.orig: (244/0)\n",
      "(151/185) MRIBGT: (244/0)\n",
      "(152/185) MRIBGT.orig: (244/0)\n",
      "(153/185) MRIBGT_c: (244/0)\n",
      "(154/185) MRIBGT_c.orig: (237/7)\n",
      "(155/185) MRIPLIC: (244/0)\n",
      "(156/185) MRIPLIC.orig: (244/0)\n",
      "(157/185) MRIPLIC_c: (244/0)\n",
      "(158/185) MRIPLIC_c.orig: (238/6)\n",
      "(159/185) MRIALIC: (244/0)\n",
      "(160/185) MRIALIC.orig: (244/0)\n",
      "(161/185) MRIALIC_c: (244/0)\n",
      "(162/185) MRIALIC_c.orig: (236/8)\n",
      "(163/185) MRIWatershed: (244/0)\n",
      "(164/185) MRIWatershed.orig: (244/0)\n",
      "(165/185) MRIWatershed_c: (244/0)\n",
      "(166/185) MRIWatershed_c.orig: (209/35)\n",
      "(167/185) MRIWhiteMatterInjury: (244/0)\n",
      "(168/185) MRIWhiteMatterInjury.orig: (244/0)\n",
      "(169/185) MRIWhiteMatterInjury_c: (244/0)\n",
      "(170/185) MRIWhiteMatterInjury_c.orig: (216/28)\n",
      "(171/185) MRIFocalCorticalInjury: (244/0)\n",
      "(172/185) MRIFocalCorticalInjury.orig: (244/0)\n",
      "(173/185) MRIFocalCorticalInjury_c: (244/0)\n",
      "(174/185) MRIFocalCorticalInjury_c.orig: (214/30)\n",
      "(175/185) MRINRNPatternOfInjury: (244/0)\n",
      "(176/185) MRINRNPatternOfInjury.orig: (244/0)\n",
      "(177/185) MRINRNPatternOfInjury_c: (244/0)\n",
      "(178/185) MRINRNPatternOfInjury_c.orig: (240/4)\n",
      "(179/185) MRIComment: (244/0)\n",
      "(180/185) MRIComment.orig: (195/49)\n",
      "(181/185) subjectID_with_postfix: (244/0)\n",
      "(182/185) subjectID_with_postfix.orig: (244/0)\n",
      "(183/185) subjectID_postfix: (244/0)\n",
      "(184/185) subjectID_postfix.orig: (244/0)\n"
     ]
    }
   ],
   "source": [
    "COMBINE_harmonizer.column_info(df)"
   ]
  },
  {
   "cell_type": "markdown",
   "id": "8053205e-d11e-4b12-9538-c8036ce41271",
   "metadata": {},
   "source": [
    "## 03-05_s-mri"
   ]
  },
  {
   "cell_type": "code",
   "execution_count": 95,
   "id": "1cda4803-0302-49bd-b6fd-f6d79a3da54d",
   "metadata": {
    "execution": {
     "iopub.execute_input": "2025-01-21T19:14:22.588081Z",
     "iopub.status.busy": "2025-01-21T19:14:22.587883Z",
     "iopub.status.idle": "2025-01-21T19:14:22.590238Z",
     "shell.execute_reply": "2025-01-21T19:14:22.589825Z"
    }
   },
   "outputs": [],
   "source": [
    "base_filename = '03-05_s-mri.csv'"
   ]
  },
  {
   "cell_type": "code",
   "execution_count": 96,
   "id": "156bd06b-72db-466d-be2e-08faa2348e6d",
   "metadata": {
    "execution": {
     "iopub.execute_input": "2025-01-21T19:14:22.592265Z",
     "iopub.status.busy": "2025-01-21T19:14:22.592073Z",
     "iopub.status.idle": "2025-01-21T19:14:22.644503Z",
     "shell.execute_reply": "2025-01-21T19:14:22.644063Z"
    }
   },
   "outputs": [
    {
     "name": "stdout",
     "output_type": "stream",
     "text": [
      "(0/11) normalize_value: column: center\n",
      "(1/11) normalize_value: column: subjectID\n",
      "(2/11) normalize_value: column: uniqueID\n",
      "(3/11) normalize_value: column: MRIAvailable\n",
      "(4/11) normalize_value: column: MRIObtain\n",
      "(5/11) normalize_value: column: MRINoObtainReason\n",
      "[WARN] unable to float: val (no arrangement with satellite site/<class 'str'>) e: could not convert string to float: 'no arrangement with satellite site'\n",
      "[WARN] unable to get value: sheet_name: MRINoObtainReason value: no arrangement with satellite site value_float: no arrangement with satellite site value_int: no arrangement with satellite site\n",
      "(6/11) normalize_value: column: MRIDate\n",
      "(7/11) normalize_value: column: MRITime\n",
      "(8/11) normalize_value: column: MRISendRTIDate\n",
      "(9/11) normalize_value: column: MRIRead\n",
      "(10/11) normalize_value: column: MRIScore\n",
      "[WARN] unable to float: val (1A/<class 'str'>) e: could not convert string to float: '1A'\n",
      "[WARN] unable to get value: sheet_name: MRINRNPatternOfInjury value: 1A value_float: 1A value_int: 1A\n",
      "[WARN] unable to float: val (1B/<class 'str'>) e: could not convert string to float: '1B'\n",
      "[WARN] unable to get value: sheet_name: MRINRNPatternOfInjury value: 1B value_float: 1B value_int: 1B\n",
      "[WARN] unable to float: val (1B/<class 'str'>) e: could not convert string to float: '1B'\n",
      "[WARN] unable to get value: sheet_name: MRINRNPatternOfInjury value: 1B value_float: 1B value_int: 1B\n",
      "[WARN] unable to float: val (2A/<class 'str'>) e: could not convert string to float: '2A'\n",
      "[WARN] unable to get value: sheet_name: MRINRNPatternOfInjury value: 2A value_float: 2A value_int: 2A\n",
      "[WARN] unable to float: val (2B/<class 'str'>) e: could not convert string to float: '2B'\n",
      "[WARN] unable to get value: sheet_name: MRINRNPatternOfInjury value: 2B value_float: 2B value_int: 2B\n",
      "[WARN] unable to float: val (1A/<class 'str'>) e: could not convert string to float: '1A'\n",
      "[WARN] unable to get value: sheet_name: MRINRNPatternOfInjury value: 1A value_float: 1A value_int: 1A\n",
      "[WARN] unable to float: val (1A/<class 'str'>) e: could not convert string to float: '1A'\n",
      "[WARN] unable to get value: sheet_name: MRINRNPatternOfInjury value: 1A value_float: 1A value_int: 1A\n",
      "[WARN] unable to float: val (2A/<class 'str'>) e: could not convert string to float: '2A'\n",
      "[WARN] unable to get value: sheet_name: MRINRNPatternOfInjury value: 2A value_float: 2A value_int: 2A\n",
      "[WARN] unable to get value: sheet_name: MRINRNPatternOfInjury value: 0 value_float: 0.0 value_int: 0\n",
      "[WARN] unable to float: val (2B/<class 'str'>) e: could not convert string to float: '2B'\n",
      "[WARN] unable to get value: sheet_name: MRINRNPatternOfInjury value: 2B value_float: 2B value_int: 2B\n",
      "[WARN] unable to float: val (2B/<class 'str'>) e: could not convert string to float: '2B'\n",
      "[WARN] unable to get value: sheet_name: MRINRNPatternOfInjury value: 2B value_float: 2B value_int: 2B\n",
      "[WARN] unable to float: val (2A/<class 'str'>) e: could not convert string to float: '2A'\n",
      "[WARN] unable to get value: sheet_name: MRINRNPatternOfInjury value: 2A value_float: 2A value_int: 2A\n",
      "[WARN] unable to get value: sheet_name: MRINRNPatternOfInjury value: 0 value_float: 0.0 value_int: 0\n",
      "[WARN] unable to float: val (2B/<class 'str'>) e: could not convert string to float: '2B'\n",
      "[WARN] unable to get value: sheet_name: MRINRNPatternOfInjury value: 2B value_float: 2B value_int: 2B\n",
      "[WARN] unable to get value: sheet_name: MRINRNPatternOfInjury value: 0 value_float: 0.0 value_int: 0\n",
      "[WARN] unable to get value: sheet_name: MRINRNPatternOfInjury value: 0 value_float: 0.0 value_int: 0\n",
      "[WARN] unable to float: val (2A/<class 'str'>) e: could not convert string to float: '2A'\n",
      "[WARN] unable to get value: sheet_name: MRINRNPatternOfInjury value: 2A value_float: 2A value_int: 2A\n",
      "[WARN] unable to float: val (1A/<class 'str'>) e: could not convert string to float: '1A'\n",
      "[WARN] unable to get value: sheet_name: MRINRNPatternOfInjury value: 1A value_float: 1A value_int: 1A\n",
      "[WARN] unable to get value: sheet_name: MRINRNPatternOfInjury value: 0 value_float: 0.0 value_int: 0\n",
      "[WARN] unable to float: val (2B/<class 'str'>) e: could not convert string to float: '2B'\n",
      "[WARN] unable to get value: sheet_name: MRINRNPatternOfInjury value: 2B value_float: 2B value_int: 2B\n",
      "[WARN] unable to float: val (1B/<class 'str'>) e: could not convert string to float: '1B'\n",
      "[WARN] unable to get value: sheet_name: MRINRNPatternOfInjury value: 1B value_float: 1B value_int: 1B\n",
      "[WARN] unable to float: val (1B/<class 'str'>) e: could not convert string to float: '1B'\n",
      "[WARN] unable to get value: sheet_name: MRINRNPatternOfInjury value: 1B value_float: 1B value_int: 1B\n",
      "[WARN] unable to float: val (1A/<class 'str'>) e: could not convert string to float: '1A'\n",
      "[WARN] unable to get value: sheet_name: MRINRNPatternOfInjury value: 1A value_float: 1A value_int: 1A\n",
      "[WARN] unable to float: val (1B/<class 'str'>) e: could not convert string to float: '1B'\n",
      "[WARN] unable to get value: sheet_name: MRINRNPatternOfInjury value: 1B value_float: 1B value_int: 1B\n",
      "[WARN] unable to get value: sheet_name: MRINRNPatternOfInjury value: 0 value_float: 0.0 value_int: 0\n",
      "[WARN] unable to float: val (2B/<class 'str'>) e: could not convert string to float: '2B'\n",
      "[WARN] unable to get value: sheet_name: MRINRNPatternOfInjury value: 2B value_float: 2B value_int: 2B\n",
      "[WARN] unable to get value: sheet_name: MRINRNPatternOfInjury value: 0 value_float: 0.0 value_int: 0\n",
      "[WARN] unable to get value: sheet_name: MRINRNPatternOfInjury value: 0 value_float: 0.0 value_int: 0\n",
      "[WARN] unable to float: val (2B/<class 'str'>) e: could not convert string to float: '2B'\n",
      "[WARN] unable to get value: sheet_name: MRINRNPatternOfInjury value: 2B value_float: 2B value_int: 2B\n",
      "[WARN] unable to float: val (2B/<class 'str'>) e: could not convert string to float: '2B'\n",
      "[WARN] unable to get value: sheet_name: MRINRNPatternOfInjury value: 2B value_float: 2B value_int: 2B\n",
      "[WARN] unable to float: val (2B/<class 'str'>) e: could not convert string to float: '2B'\n",
      "[WARN] unable to get value: sheet_name: MRINRNPatternOfInjury value: 2B value_float: 2B value_int: 2B\n",
      "[WARN] unable to float: val (2B/<class 'str'>) e: could not convert string to float: '2B'\n",
      "[WARN] unable to get value: sheet_name: MRINRNPatternOfInjury value: 2B value_float: 2B value_int: 2B\n",
      "[WARN] unable to float: val (2A/<class 'str'>) e: could not convert string to float: '2A'\n",
      "[WARN] unable to get value: sheet_name: MRINRNPatternOfInjury value: 2A value_float: 2A value_int: 2A\n",
      "[WARN] unable to get value: sheet_name: MRINRNPatternOfInjury value: 0 value_float: 0.0 value_int: 0\n",
      "[WARN] unable to get value: sheet_name: MRINRNPatternOfInjury value: 0 value_float: 0.0 value_int: 0\n",
      "[WARN] unable to get value: sheet_name: MRINRNPatternOfInjury value: 0 value_float: 0.0 value_int: 0\n",
      "[WARN] unable to get value: sheet_name: MRINRNPatternOfInjury value: 0 value_float: 0.0 value_int: 0\n",
      "[WARN] unable to get value: sheet_name: MRINRNPatternOfInjury value: 0 value_float: 0.0 value_int: 0\n",
      "[WARN] unable to float: val (2A/<class 'str'>) e: could not convert string to float: '2A'\n",
      "[WARN] unable to get value: sheet_name: MRINRNPatternOfInjury value: 2A value_float: 2A value_int: 2A\n",
      "[WARN] unable to get value: sheet_name: MRINRNPatternOfInjury value: 0 value_float: 0.0 value_int: 0\n",
      "[WARN] unable to float: val (2B/<class 'str'>) e: could not convert string to float: '2B'\n",
      "[WARN] unable to get value: sheet_name: MRINRNPatternOfInjury value: 2B value_float: 2B value_int: 2B\n",
      "[WARN] unable to get value: sheet_name: MRINRNPatternOfInjury value: 0 value_float: 0.0 value_int: 0\n",
      "[WARN] unable to float: val (2B/<class 'str'>) e: could not convert string to float: '2B'\n",
      "[WARN] unable to get value: sheet_name: MRINRNPatternOfInjury value: 2B value_float: 2B value_int: 2B\n",
      "[WARN] unable to float: val (1A/<class 'str'>) e: could not convert string to float: '1A'\n",
      "[WARN] unable to get value: sheet_name: MRINRNPatternOfInjury value: 1A value_float: 1A value_int: 1A\n",
      "[WARN] unable to get value: sheet_name: MRINRNPatternOfInjury value: 0 value_float: 0.0 value_int: 0\n",
      "[WARN] unable to float: val (1B/<class 'str'>) e: could not convert string to float: '1B'\n",
      "[WARN] unable to get value: sheet_name: MRINRNPatternOfInjury value: 1B value_float: 1B value_int: 1B\n",
      "[WARN] unable to get value: sheet_name: MRINRNPatternOfInjury value: 0 value_float: 0.0 value_int: 0\n",
      "[WARN] unable to float: val (2B/<class 'str'>) e: could not convert string to float: '2B'\n",
      "[WARN] unable to get value: sheet_name: MRINRNPatternOfInjury value: 2B value_float: 2B value_int: 2B\n",
      "[WARN] unable to float: val (2B/<class 'str'>) e: could not convert string to float: '2B'\n",
      "[WARN] unable to get value: sheet_name: MRINRNPatternOfInjury value: 2B value_float: 2B value_int: 2B\n",
      "[WARN] unable to float: val (1B/<class 'str'>) e: could not convert string to float: '1B'\n",
      "[WARN] unable to get value: sheet_name: MRINRNPatternOfInjury value: 1B value_float: 1B value_int: 1B\n",
      "[WARN] unable to float: val (2A/<class 'str'>) e: could not convert string to float: '2A'\n",
      "[WARN] unable to get value: sheet_name: MRINRNPatternOfInjury value: 2A value_float: 2A value_int: 2A\n",
      "[WARN] unable to float: val (2B/<class 'str'>) e: could not convert string to float: '2B'\n",
      "[WARN] unable to get value: sheet_name: MRINRNPatternOfInjury value: 2B value_float: 2B value_int: 2B\n",
      "[WARN] unable to float: val (2B/<class 'str'>) e: could not convert string to float: '2B'\n",
      "[WARN] unable to get value: sheet_name: MRINRNPatternOfInjury value: 2B value_float: 2B value_int: 2B\n",
      "[WARN] unable to get value: sheet_name: MRINRNPatternOfInjury value: 0 value_float: 0.0 value_int: 0\n",
      "[WARN] unable to get value: sheet_name: MRINRNPatternOfInjury value: 0 value_float: 0.0 value_int: 0\n",
      "[WARN] unable to float: val (2B/<class 'str'>) e: could not convert string to float: '2B'\n",
      "[WARN] unable to get value: sheet_name: MRINRNPatternOfInjury value: 2B value_float: 2B value_int: 2B\n",
      "[WARN] unable to get value: sheet_name: MRINRNPatternOfInjury value: 0 value_float: 0.0 value_int: 0\n",
      "[WARN] unable to float: val (1B/<class 'str'>) e: could not convert string to float: '1B'\n",
      "[WARN] unable to get value: sheet_name: MRINRNPatternOfInjury value: 1B value_float: 1B value_int: 1B\n",
      "[WARN] unable to float: val (1A/<class 'str'>) e: could not convert string to float: '1A'\n",
      "[WARN] unable to get value: sheet_name: MRINRNPatternOfInjury value: 1A value_float: 1A value_int: 1A\n",
      "[WARN] unable to float: val (1A/<class 'str'>) e: could not convert string to float: '1A'\n",
      "[WARN] unable to get value: sheet_name: MRINRNPatternOfInjury value: 1A value_float: 1A value_int: 1A\n",
      "[WARN] unable to float: val (1B/<class 'str'>) e: could not convert string to float: '1B'\n",
      "[WARN] unable to get value: sheet_name: MRINRNPatternOfInjury value: 1B value_float: 1B value_int: 1B\n",
      "[WARN] unable to float: val (2B/<class 'str'>) e: could not convert string to float: '2B'\n",
      "[WARN] unable to get value: sheet_name: MRINRNPatternOfInjury value: 2B value_float: 2B value_int: 2B\n",
      "[WARN] unable to get value: sheet_name: MRINRNPatternOfInjury value: 0 value_float: 0.0 value_int: 0\n",
      "[WARN] unable to float: val (1A/<class 'str'>) e: could not convert string to float: '1A'\n",
      "[WARN] unable to get value: sheet_name: MRINRNPatternOfInjury value: 1A value_float: 1A value_int: 1A\n",
      "[WARN] unable to float: val (1A/<class 'str'>) e: could not convert string to float: '1A'\n",
      "[WARN] unable to get value: sheet_name: MRINRNPatternOfInjury value: 1A value_float: 1A value_int: 1A\n",
      "[WARN] unable to float: val (1A/<class 'str'>) e: could not convert string to float: '1A'\n",
      "[WARN] unable to get value: sheet_name: MRINRNPatternOfInjury value: 1A value_float: 1A value_int: 1A\n",
      "[WARN] unable to float: val (2B/<class 'str'>) e: could not convert string to float: '2B'\n",
      "[WARN] unable to get value: sheet_name: MRINRNPatternOfInjury value: 2B value_float: 2B value_int: 2B\n",
      "[WARN] unable to float: val (2B/<class 'str'>) e: could not convert string to float: '2B'\n",
      "[WARN] unable to get value: sheet_name: MRINRNPatternOfInjury value: 2B value_float: 2B value_int: 2B\n",
      "[WARN] unable to float: val (1B/<class 'str'>) e: could not convert string to float: '1B'\n",
      "[WARN] unable to get value: sheet_name: MRINRNPatternOfInjury value: 1B value_float: 1B value_int: 1B\n",
      "[WARN] unable to float: val (2B/<class 'str'>) e: could not convert string to float: '2B'\n",
      "[WARN] unable to get value: sheet_name: MRINRNPatternOfInjury value: 2B value_float: 2B value_int: 2B\n",
      "[WARN] unable to get value: sheet_name: MRINRNPatternOfInjury value: 0 value_float: 0.0 value_int: 0\n",
      "[WARN] unable to float: val (2B/<class 'str'>) e: could not convert string to float: '2B'\n",
      "[WARN] unable to get value: sheet_name: MRINRNPatternOfInjury value: 2B value_float: 2B value_int: 2B\n",
      "[WARN] unable to float: val (2B/<class 'str'>) e: could not convert string to float: '2B'\n",
      "[WARN] unable to get value: sheet_name: MRINRNPatternOfInjury value: 2B value_float: 2B value_int: 2B\n",
      "[WARN] unable to float: val (1A/<class 'str'>) e: could not convert string to float: '1A'\n",
      "[WARN] unable to get value: sheet_name: MRINRNPatternOfInjury value: 1A value_float: 1A value_int: 1A\n",
      "[WARN] unable to get value: sheet_name: MRINRNPatternOfInjury value: 0 value_float: 0.0 value_int: 0\n",
      "[WARN] unable to get value: sheet_name: MRINRNPatternOfInjury value: 0 value_float: 0.0 value_int: 0\n",
      "[WARN] unable to get value: sheet_name: MRINRNPatternOfInjury value: 0 value_float: 0.0 value_int: 0\n",
      "[WARN] unable to float: val (2A/<class 'str'>) e: could not convert string to float: '2A'\n",
      "[WARN] unable to get value: sheet_name: MRINRNPatternOfInjury value: 2A value_float: 2A value_int: 2A\n",
      "[WARN] unable to float: val (2A/<class 'str'>) e: could not convert string to float: '2A'\n",
      "[WARN] unable to get value: sheet_name: MRINRNPatternOfInjury value: 2A value_float: 2A value_int: 2A\n",
      "[WARN] unable to float: val (2A/<class 'str'>) e: could not convert string to float: '2A'\n",
      "[WARN] unable to get value: sheet_name: MRINRNPatternOfInjury value: 2A value_float: 2A value_int: 2A\n",
      "[WARN] unable to float: val (1A/<class 'str'>) e: could not convert string to float: '1A'\n",
      "[WARN] unable to get value: sheet_name: MRINRNPatternOfInjury value: 1A value_float: 1A value_int: 1A\n",
      "[WARN] unable to float: val (2B/<class 'str'>) e: could not convert string to float: '2B'\n",
      "[WARN] unable to get value: sheet_name: MRINRNPatternOfInjury value: 2B value_float: 2B value_int: 2B\n",
      "[WARN] unable to get value: sheet_name: MRINRNPatternOfInjury value: 0 value_float: 0.0 value_int: 0\n",
      "[WARN] unable to get value: sheet_name: MRINRNPatternOfInjury value: 0 value_float: 0.0 value_int: 0\n",
      "[WARN] unable to get value: sheet_name: MRINRNPatternOfInjury value: 0 value_float: 0.0 value_int: 0\n",
      "[WARN] unable to float: val (2A/<class 'str'>) e: could not convert string to float: '2A'\n",
      "[WARN] unable to get value: sheet_name: MRINRNPatternOfInjury value: 2A value_float: 2A value_int: 2A\n",
      "[WARN] unable to float: val (2B/<class 'str'>) e: could not convert string to float: '2B'\n",
      "[WARN] unable to get value: sheet_name: MRINRNPatternOfInjury value: 2B value_float: 2B value_int: 2B\n",
      "[WARN] unable to float: val (1B/<class 'str'>) e: could not convert string to float: '1B'\n",
      "[WARN] unable to get value: sheet_name: MRINRNPatternOfInjury value: 1B value_float: 1B value_int: 1B\n",
      "[WARN] unable to float: val (1B/<class 'str'>) e: could not convert string to float: '1B'\n",
      "[WARN] unable to get value: sheet_name: MRINRNPatternOfInjury value: 1B value_float: 1B value_int: 1B\n",
      "[WARN] unable to get value: sheet_name: MRINRNPatternOfInjury value: 0 value_float: 0.0 value_int: 0\n",
      "[WARN] unable to float: val (2B/<class 'str'>) e: could not convert string to float: '2B'\n",
      "[WARN] unable to get value: sheet_name: MRINRNPatternOfInjury value: 2B value_float: 2B value_int: 2B\n",
      "[WARN] unable to float: val (1A/<class 'str'>) e: could not convert string to float: '1A'\n",
      "[WARN] unable to get value: sheet_name: MRINRNPatternOfInjury value: 1A value_float: 1A value_int: 1A\n",
      "[WARN] unable to float: val (2A/<class 'str'>) e: could not convert string to float: '2A'\n",
      "[WARN] unable to get value: sheet_name: MRINRNPatternOfInjury value: 2A value_float: 2A value_int: 2A\n",
      "[WARN] unable to float: val (1B/<class 'str'>) e: could not convert string to float: '1B'\n",
      "[WARN] unable to get value: sheet_name: MRINRNPatternOfInjury value: 1B value_float: 1B value_int: 1B\n",
      "[WARN] unable to get value: sheet_name: MRINRNPatternOfInjury value: 0 value_float: 0.0 value_int: 0\n",
      "[WARN] unable to get value: sheet_name: MRINRNPatternOfInjury value: 0 value_float: 0.0 value_int: 0\n",
      "[WARN] unable to float: val (1B/<class 'str'>) e: could not convert string to float: '1B'\n",
      "[WARN] unable to get value: sheet_name: MRINRNPatternOfInjury value: 1B value_float: 1B value_int: 1B\n",
      "[WARN] unable to float: val (2A/<class 'str'>) e: could not convert string to float: '2A'\n",
      "[WARN] unable to get value: sheet_name: MRINRNPatternOfInjury value: 2A value_float: 2A value_int: 2A\n",
      "[WARN] unable to float: val (1B/<class 'str'>) e: could not convert string to float: '1B'\n",
      "[WARN] unable to get value: sheet_name: MRINRNPatternOfInjury value: 1B value_float: 1B value_int: 1B\n",
      "[WARN] unable to get value: sheet_name: MRINRNPatternOfInjury value: 0 value_float: 0.0 value_int: 0\n",
      "[WARN] unable to float: val (2A/<class 'str'>) e: could not convert string to float: '2A'\n",
      "[WARN] unable to get value: sheet_name: MRINRNPatternOfInjury value: 2A value_float: 2A value_int: 2A\n",
      "[WARN] unable to get value: sheet_name: MRINRNPatternOfInjury value: 0 value_float: 0.0 value_int: 0\n",
      "[WARN] unable to get value: sheet_name: MRINRNPatternOfInjury value: 0 value_float: 0.0 value_int: 0\n",
      "[WARN] unable to float: val (1A/<class 'str'>) e: could not convert string to float: '1A'\n",
      "[WARN] unable to get value: sheet_name: MRINRNPatternOfInjury value: 1A value_float: 1A value_int: 1A\n",
      "[WARN] unable to float: val (1A/<class 'str'>) e: could not convert string to float: '1A'\n",
      "[WARN] unable to get value: sheet_name: MRINRNPatternOfInjury value: 1A value_float: 1A value_int: 1A\n",
      "[WARN] unable to float: val (1B/<class 'str'>) e: could not convert string to float: '1B'\n",
      "[WARN] unable to get value: sheet_name: MRINRNPatternOfInjury value: 1B value_float: 1B value_int: 1B\n",
      "[WARN] unable to get value: sheet_name: MRINRNPatternOfInjury value: 0 value_float: 0.0 value_int: 0\n",
      "[WARN] unable to float: val (2A/<class 'str'>) e: could not convert string to float: '2A'\n",
      "[WARN] unable to get value: sheet_name: MRINRNPatternOfInjury value: 2A value_float: 2A value_int: 2A\n",
      "[WARN] unable to float: val (1A/<class 'str'>) e: could not convert string to float: '1A'\n",
      "[WARN] unable to get value: sheet_name: MRINRNPatternOfInjury value: 1A value_float: 1A value_int: 1A\n",
      "[WARN] unable to float: val (2B/<class 'str'>) e: could not convert string to float: '2B'\n",
      "[WARN] unable to get value: sheet_name: MRINRNPatternOfInjury value: 2B value_float: 2B value_int: 2B\n",
      "[WARN] unable to float: val (2B/<class 'str'>) e: could not convert string to float: '2B'\n",
      "[WARN] unable to get value: sheet_name: MRINRNPatternOfInjury value: 2B value_float: 2B value_int: 2B\n",
      "[WARN] unable to float: val (2B/<class 'str'>) e: could not convert string to float: '2B'\n",
      "[WARN] unable to get value: sheet_name: MRINRNPatternOfInjury value: 2B value_float: 2B value_int: 2B\n",
      "[WARN] unable to get value: sheet_name: MRINRNPatternOfInjury value: 0 value_float: 0.0 value_int: 0\n",
      "[WARN] unable to float: val (1A/<class 'str'>) e: could not convert string to float: '1A'\n",
      "[WARN] unable to get value: sheet_name: MRINRNPatternOfInjury value: 1A value_float: 1A value_int: 1A\n",
      "[WARN] unable to float: val (1A/<class 'str'>) e: could not convert string to float: '1A'\n",
      "[WARN] unable to get value: sheet_name: MRINRNPatternOfInjury value: 1A value_float: 1A value_int: 1A\n",
      "[WARN] unable to get value: sheet_name: MRINRNPatternOfInjury value: 0 value_float: 0.0 value_int: 0\n",
      "[WARN] unable to get value: sheet_name: MRINRNPatternOfInjury value: 0 value_float: 0.0 value_int: 0\n",
      "[WARN] unable to float: val (1A/<class 'str'>) e: could not convert string to float: '1A'\n",
      "[WARN] unable to get value: sheet_name: MRINRNPatternOfInjury value: 1A value_float: 1A value_int: 1A\n",
      "[WARN] unable to get value: sheet_name: MRINRNPatternOfInjury value: 0 value_float: 0.0 value_int: 0\n",
      "[WARN] unable to float: val (2B/<class 'str'>) e: could not convert string to float: '2B'\n",
      "[WARN] unable to get value: sheet_name: MRINRNPatternOfInjury value: 2B value_float: 2B value_int: 2B\n",
      "[WARN] unable to float: val (2A/<class 'str'>) e: could not convert string to float: '2A'\n",
      "[WARN] unable to get value: sheet_name: MRINRNPatternOfInjury value: 2A value_float: 2A value_int: 2A\n",
      "[WARN] unable to float: val (1A/<class 'str'>) e: could not convert string to float: '1A'\n",
      "[WARN] unable to get value: sheet_name: MRINRNPatternOfInjury value: 1A value_float: 1A value_int: 1A\n",
      "[WARN] unable to float: val (1A/<class 'str'>) e: could not convert string to float: '1A'\n",
      "[WARN] unable to get value: sheet_name: MRINRNPatternOfInjury value: 1A value_float: 1A value_int: 1A\n",
      "[WARN] unable to get value: sheet_name: MRINRNPatternOfInjury value: 0 value_float: 0.0 value_int: 0\n",
      "[WARN] unable to get value: sheet_name: MRINRNPatternOfInjury value: 0 value_float: 0.0 value_int: 0\n",
      "[WARN] unable to get value: sheet_name: MRINRNPatternOfInjury value: 0 value_float: 0.0 value_int: 0\n",
      "[WARN] unable to float: val (2B/<class 'str'>) e: could not convert string to float: '2B'\n",
      "[WARN] unable to get value: sheet_name: MRINRNPatternOfInjury value: 2B value_float: 2B value_int: 2B\n",
      "[WARN] unable to float: val (2B/<class 'str'>) e: could not convert string to float: '2B'\n",
      "[WARN] unable to get value: sheet_name: MRINRNPatternOfInjury value: 2B value_float: 2B value_int: 2B\n",
      "[WARN] unable to float: val (1A/<class 'str'>) e: could not convert string to float: '1A'\n",
      "[WARN] unable to get value: sheet_name: MRINRNPatternOfInjury value: 1A value_float: 1A value_int: 1A\n",
      "[WARN] unable to float: val (2B/<class 'str'>) e: could not convert string to float: '2B'\n",
      "[WARN] unable to get value: sheet_name: MRINRNPatternOfInjury value: 2B value_float: 2B value_int: 2B\n",
      "[WARN] unable to float: val (2B/<class 'str'>) e: could not convert string to float: '2B'\n",
      "[WARN] unable to get value: sheet_name: MRINRNPatternOfInjury value: 2B value_float: 2B value_int: 2B\n",
      "[WARN] unable to get value: sheet_name: MRINRNPatternOfInjury value: 0 value_float: 0.0 value_int: 0\n",
      "[WARN] unable to float: val (1A/<class 'str'>) e: could not convert string to float: '1A'\n",
      "[WARN] unable to get value: sheet_name: MRINRNPatternOfInjury value: 1A value_float: 1A value_int: 1A\n",
      "[WARN] unable to float: val (2A/<class 'str'>) e: could not convert string to float: '2A'\n",
      "[WARN] unable to get value: sheet_name: MRINRNPatternOfInjury value: 2A value_float: 2A value_int: 2A\n",
      "[WARN] unable to float: val (2A/<class 'str'>) e: could not convert string to float: '2A'\n",
      "[WARN] unable to get value: sheet_name: MRINRNPatternOfInjury value: 2A value_float: 2A value_int: 2A\n",
      "[WARN] unable to float: val (2A/<class 'str'>) e: could not convert string to float: '2A'\n",
      "[WARN] unable to get value: sheet_name: MRINRNPatternOfInjury value: 2A value_float: 2A value_int: 2A\n",
      "[WARN] unable to get value: sheet_name: MRINRNPatternOfInjury value: 0 value_float: 0.0 value_int: 0\n"
     ]
    }
   ],
   "source": [
    "filename = os.sep.join([input_dir, base_filename])\n",
    "df = pd.read_csv(filename, dtype='O')\n",
    "df = COMBINE_harmonizer.normalize_value(df, _VALUE_MAP, order_map=_ORDER_MAP)"
   ]
  },
  {
   "cell_type": "code",
   "execution_count": 97,
   "id": "254d7bc7-a07a-4934-9da3-9568bf3e83db",
   "metadata": {
    "execution": {
     "iopub.execute_input": "2025-01-21T19:14:22.646791Z",
     "iopub.status.busy": "2025-01-21T19:14:22.646572Z",
     "iopub.status.idle": "2025-01-21T19:14:22.708322Z",
     "shell.execute_reply": "2025-01-21T19:14:22.707907Z"
    }
   },
   "outputs": [],
   "source": [
    "out_filename = os.sep.join([out_dir, base_filename])\n",
    "df.to_csv(out_filename, index=False)"
   ]
  },
  {
   "cell_type": "code",
   "execution_count": 98,
   "id": "676bc6b3-70a6-4b3a-b889-a5e1cb4b62b3",
   "metadata": {
    "execution": {
     "iopub.execute_input": "2025-01-21T19:14:22.710474Z",
     "iopub.status.busy": "2025-01-21T19:14:22.710310Z",
     "iopub.status.idle": "2025-01-21T19:14:22.714674Z",
     "shell.execute_reply": "2025-01-21T19:14:22.714034Z"
    }
   },
   "outputs": [
    {
     "name": "stdout",
     "output_type": "stream",
     "text": [
      "(0/22) center: (150/0)\n",
      "(1/22) center.orig: (150/0)\n",
      "(2/22) subjectID: (150/0)\n",
      "(3/22) subjectID.orig: (150/0)\n",
      "(4/22) uniqueID: (150/0)\n",
      "(5/22) uniqueID.orig: (150/0)\n",
      "(6/22) MRIDate: (150/0)\n",
      "(7/22) MRIDate.orig: (147/3)\n",
      "(8/22) MRITime: (150/0)\n",
      "(9/22) MRITime.orig: (147/3)\n",
      "(10/22) MRIAvailable: (150/0)\n",
      "(11/22) MRIAvailable.orig: (150/0)\n",
      "(12/22) MRIObtain: (150/0)\n",
      "(13/22) MRIObtain.orig: (148/2)\n",
      "(14/22) MRISendRTIDate: (150/0)\n",
      "(15/22) MRISendRTIDate.orig: (146/4)\n",
      "(16/22) MRINoObtainReason: (150/0)\n",
      "(17/22) MRINoObtainReason.orig: (1/149)\n",
      "(18/22) MRIRead: (150/0)\n",
      "(19/22) MRIRead.orig: (147/3)\n",
      "(20/22) MRIScore: (150/0)\n",
      "(21/22) MRIScore.orig: (147/3)\n"
     ]
    }
   ],
   "source": [
    "COMBINE_harmonizer.column_info(df)"
   ]
  },
  {
   "cell_type": "markdown",
   "id": "1c57c05a-9dfc-4f21-8655-37118b1bd94a",
   "metadata": {},
   "source": [
    "## 02-11-elevated-temperature"
   ]
  },
  {
   "cell_type": "code",
   "execution_count": 99,
   "id": "8612179c-6c4b-4230-be5c-68f2b0ecd22e",
   "metadata": {
    "execution": {
     "iopub.execute_input": "2025-01-21T19:14:22.717167Z",
     "iopub.status.busy": "2025-01-21T19:14:22.716990Z",
     "iopub.status.idle": "2025-01-21T19:14:22.719702Z",
     "shell.execute_reply": "2025-01-21T19:14:22.719265Z"
    }
   },
   "outputs": [],
   "source": [
    "_FLATTEN_IDS = ['elevatedTempNumber', 'elevatedTempMin']\n",
    "base_filename = '02-11-elevated-temperature.csv'"
   ]
  },
  {
   "cell_type": "code",
   "execution_count": 100,
   "id": "c318f745-3e02-4ad9-a084-2abb3aa35c83",
   "metadata": {
    "execution": {
     "iopub.execute_input": "2025-01-21T19:14:22.722065Z",
     "iopub.status.busy": "2025-01-21T19:14:22.721849Z",
     "iopub.status.idle": "2025-01-21T19:14:22.875156Z",
     "shell.execute_reply": "2025-01-21T19:14:22.874332Z"
    }
   },
   "outputs": [
    {
     "name": "stdout",
     "output_type": "stream",
     "text": [
      "(0/17) normalize_value: column: center\n",
      "(1/17) normalize_value: column: subjectID\n",
      "(2/17) normalize_value: column: uniqueID\n",
      "(3/17) normalize_value: column: elevatedTempBath\n",
      "(4/17) normalize_value: column: elevatedTempBlanketrol\n",
      "(5/17) normalize_value: column: elevatedTempNumber\n",
      "(6/17) normalize_value: column: elevatedTempMin\n",
      "(7/17) normalize_value: column: elevatedTempDate\n",
      "(8/17) normalize_value: column: elevatedTempTime\n",
      "(9/17) normalize_value: column: elevatedTempSkinTemperature_C\n",
      "(10/17) normalize_value: column: elevatedTempAxillaryTemperature_C\n",
      "(11/17) normalize_value: column: elevatedTempEsophagealTemperature_C\n",
      "(12/17) normalize_value: column: elevatedTempServoSet_C\n",
      "(13/17) normalize_value: column: elevatedTempDevice\n",
      "(14/17) normalize_value: column: elevatedTempDeviceMode\n",
      "(15/17) normalize_value: column: elevatedTempAirTemperature_C\n",
      "(16/17) normalize_value: column: elevatedTempNoBathReason\n",
      "flatten_index: flatten_ids: ['elevatedTempNumber', 'elevatedTempMin'] unique_id_map: {'1@0': '1@0', '1@120': '1@120', '1@150': '1@150', '1@180': '1@180', '1@210': '1@210', '1@240': '1@240', '1@30': '1@30', '1@60': '1@60', '1@90': '1@90', '2@0': '2@0', '2@120': '2@120', '2@150': '2@150', '2@180': '2@180', '2@210': '2@210', '2@240': '2@240', '2@30': '2@30', '2@60': '2@60', '2@90': '2@90', '3@0': '3@0', '3@120': '3@120', '3@150': '3@150', '3@180': '3@180', '3@210': '3@210', '3@240': '3@240', '3@30': '3@30', '3@60': '3@60', '3@90': '3@90', '4@0': '4@0', '4@120': '4@120', '4@150': '4@150', '4@180': '4@180', '4@210': '4@210', '4@240': '4@240', '4@30': '4@30', '4@60': '4@60', '4@90': '4@90', '5@0': '5@0', '5@120': '5@120', '5@150': '5@150', '5@180': '5@180', '5@210': '5@210', '5@240': '5@240', '5@30': '5@30', '5@60': '5@60', '5@90': '5@90'} the_type: object\n"
     ]
    }
   ],
   "source": [
    "filename = os.sep.join([input_dir, base_filename])\n",
    "df = pd.read_csv(filename, dtype='O')\n",
    "df = COMBINE_harmonizer.normalize_value(df, _VALUE_MAP, _FLATTEN_IDS, order_map=_ORDER_MAP)\n",
    "\n",
    "out_filename = os.sep.join([out_dir, base_filename])\n",
    "df.to_csv(out_filename, index=False)"
   ]
  },
  {
   "cell_type": "code",
   "execution_count": 101,
   "id": "2aee6e93-05d6-4e48-8e5e-06fee30e093f",
   "metadata": {
    "execution": {
     "iopub.execute_input": "2025-01-21T19:14:22.882405Z",
     "iopub.status.busy": "2025-01-21T19:14:22.881749Z",
     "iopub.status.idle": "2025-01-21T19:14:22.890622Z",
     "shell.execute_reply": "2025-01-21T19:14:22.890004Z"
    }
   },
   "outputs": [
    {
     "name": "stdout",
     "output_type": "stream",
     "text": [
      "(0/35) center: (445/0)\n",
      "(1/35) center.orig: (445/0)\n",
      "(2/35) subjectID: (445/0)\n",
      "(3/35) subjectID.orig: (445/0)\n",
      "(4/35) uniqueID: (445/0)\n",
      "(5/35) uniqueID.orig: (445/0)\n",
      "(6/35) _flatten_index: (445/0)\n",
      "(7/35) elevatedTempNumber: (445/0)\n",
      "(8/35) elevatedTempNumber.orig: (445/0)\n",
      "(9/35) elevatedTempMin: (445/0)\n",
      "(10/35) elevatedTempMin.orig: (445/0)\n",
      "(11/35) elevatedTempDate: (445/0)\n",
      "(12/35) elevatedTempDate.orig: (407/38)\n",
      "(13/35) elevatedTempTime: (445/0)\n",
      "(14/35) elevatedTempTime.orig: (396/49)\n",
      "(15/35) elevatedTempSkinTemperature_C: (445/0)\n",
      "(16/35) elevatedTempSkinTemperature_C.orig: (265/180)\n",
      "(17/35) elevatedTempAxillaryTemperature_C: (445/0)\n",
      "(18/35) elevatedTempAxillaryTemperature_C.orig: (259/186)\n",
      "(19/35) elevatedTempEsophagealTemperature_C: (445/0)\n",
      "(20/35) elevatedTempEsophagealTemperature_C.orig: (299/146)\n",
      "(21/35) elevatedTempServoSet_C: (445/0)\n",
      "(22/35) elevatedTempServoSet_C.orig: (225/220)\n",
      "(23/35) elevatedTempDevice: (445/0)\n",
      "(24/35) elevatedTempDevice.orig: (334/111)\n",
      "(25/35) elevatedTempDeviceMode: (445/0)\n",
      "(26/35) elevatedTempDeviceMode.orig: (334/111)\n",
      "(27/35) elevatedTempAirTemperature_C: (445/0)\n",
      "(28/35) elevatedTempAirTemperature_C.orig: (0/445)\n",
      "(29/35) elevatedTempBath: (445/0)\n",
      "(30/35) elevatedTempBath.orig: (423/22)\n",
      "(31/35) elevatedTempNoBathReason: (445/0)\n",
      "(32/35) elevatedTempNoBathReason.orig: (302/143)\n",
      "(33/35) elevatedTempBlanketrol: (445/0)\n",
      "(34/35) elevatedTempBlanketrol.orig: (423/22)\n"
     ]
    }
   ],
   "source": [
    "COMBINE_harmonizer.column_info(df)"
   ]
  },
  {
   "cell_type": "markdown",
   "id": "fe75177b-091a-4de6-beeb-05306f7ffec7",
   "metadata": {},
   "source": [
    "## 02-12-fluctuated-temperature"
   ]
  },
  {
   "cell_type": "code",
   "execution_count": 102,
   "id": "d0f88e9a-992e-4625-a916-6318967229fe",
   "metadata": {
    "execution": {
     "iopub.execute_input": "2025-01-21T19:14:22.893036Z",
     "iopub.status.busy": "2025-01-21T19:14:22.892814Z",
     "iopub.status.idle": "2025-01-21T19:14:22.895297Z",
     "shell.execute_reply": "2025-01-21T19:14:22.894836Z"
    }
   },
   "outputs": [],
   "source": [
    "_FLATTEN_IDS = ['fluctuateTempNumber', 'fluctuateTempMin']\n",
    "base_filename = '02-12-fluctuated-temperature.csv'"
   ]
  },
  {
   "cell_type": "code",
   "execution_count": 103,
   "id": "e4f1f253-0290-4356-9f3e-4ad7cb733dfc",
   "metadata": {
    "execution": {
     "iopub.execute_input": "2025-01-21T19:14:22.897571Z",
     "iopub.status.busy": "2025-01-21T19:14:22.897359Z",
     "iopub.status.idle": "2025-01-21T19:14:23.005118Z",
     "shell.execute_reply": "2025-01-21T19:14:23.003161Z"
    }
   },
   "outputs": [
    {
     "name": "stdout",
     "output_type": "stream",
     "text": [
      "(0/12) normalize_value: column: center\n",
      "(1/12) normalize_value: column: subjectID\n",
      "(2/12) normalize_value: column: uniqueID\n",
      "(3/12) normalize_value: column: fluctuateTempNumber\n",
      "(4/12) normalize_value: column: fluctuateTempMin\n",
      "(5/12) normalize_value: column: fluctuateTempDate\n",
      "(6/12) normalize_value: column: fluctuateTempTime\n",
      "(7/12) normalize_value: column: fluctuateTempSkinTemperature_C\n",
      "(8/12) normalize_value: column: fluctuateTempAxillaryTemperature_C\n",
      "(9/12) normalize_value: column: fluctuateTempEsophagealTemperature_C\n",
      "(10/12) normalize_value: column: fluctuateTempBlanketrol_C\n",
      "(11/12) normalize_value: column: fluctuateTempServoSet_C\n",
      "flatten_index: flatten_ids: ['fluctuateTempNumber', 'fluctuateTempMin'] unique_id_map: {'1@10': '1@10', '1@20': '1@20', '1@30': '1@30', '1@40': '1@40', '1@50': '1@50', '1@60': '1@60', '2@10': '2@10', '2@20': '2@20', '2@30': '2@30', '2@40': '2@40', '2@50': '2@50', '2@60': '2@60', '3@10': '3@10', '3@20': '3@20', '3@30': '3@30', '3@40': '3@40', '3@50': '3@50', '3@60': '3@60', '4@10': '4@10', '4@20': '4@20', '4@30': '4@30', '4@40': '4@40', '4@50': '4@50', '4@60': '4@60', '5@10': '5@10', '5@20': '5@20', '5@30': '5@30', '5@40': '5@40', '5@50': '5@50', '5@60': '5@60', '6@10': '6@10', '6@20': '6@20', '6@30': '6@30', '6@40': '6@40', '6@50': '6@50', '6@60': '6@60'} the_type: object\n"
     ]
    }
   ],
   "source": [
    "filename = os.sep.join([input_dir, base_filename])\n",
    "df = pd.read_csv(filename, dtype='O')\n",
    "df = COMBINE_harmonizer.normalize_value(df, _VALUE_MAP, _FLATTEN_IDS, order_map=_ORDER_MAP)\n",
    "\n",
    "out_filename = os.sep.join([out_dir, base_filename])\n",
    "df.to_csv(out_filename, index=False)"
   ]
  },
  {
   "cell_type": "markdown",
   "id": "b71d5803-86b8-47da-b05a-6ea918dc0065",
   "metadata": {},
   "source": [
    "## 02-14-adverse-event"
   ]
  },
  {
   "cell_type": "code",
   "execution_count": 104,
   "id": "5b1dddc1-fe53-42d8-8d9f-6462abc1757f",
   "metadata": {
    "execution": {
     "iopub.execute_input": "2025-01-21T19:14:23.010268Z",
     "iopub.status.busy": "2025-01-21T19:14:23.009907Z",
     "iopub.status.idle": "2025-01-21T19:14:23.014671Z",
     "shell.execute_reply": "2025-01-21T19:14:23.013596Z"
    }
   },
   "outputs": [],
   "source": [
    "_FLATTEN_IDS = ['adverseEventNumber']\n",
    "base_filename = '02-14-adverse-event.csv'\n"
   ]
  },
  {
   "cell_type": "code",
   "execution_count": 105,
   "id": "0a8a964b",
   "metadata": {
    "execution": {
     "iopub.execute_input": "2025-01-21T19:14:23.018562Z",
     "iopub.status.busy": "2025-01-21T19:14:23.018240Z",
     "iopub.status.idle": "2025-01-21T19:14:23.162093Z",
     "shell.execute_reply": "2025-01-21T19:14:23.160198Z"
    }
   },
   "outputs": [
    {
     "name": "stdout",
     "output_type": "stream",
     "text": [
      "(0/56) normalize_value: column: center\n",
      "(1/56) normalize_value: column: subjectID\n",
      "(2/56) normalize_value: column: uniqueID\n",
      "(3/56) normalize_value: column: SAECardiacExperienceComment\n",
      "(4/56) normalize_value: column: SAEMetabolicAcidosisComment\n",
      "(5/56) normalize_value: column: SAEThrombosisExperienceComment\n",
      "(6/56) normalize_value: column: SAEBleedingExperienceComment\n",
      "(7/56) normalize_value: column: SAEAlterationSkinIntegrity\n",
      "(8/56) normalize_value: column: SAEAlterationSkinIntegrityComment\n",
      "(9/56) normalize_value: column: SAEDeathComment\n",
      "(10/56) normalize_value: column: adverseEventNumber\n",
      "(11/56) normalize_value: column: SAECardiacExperienceOnsetDate\n",
      "(12/56) normalize_value: column: SAECardiacExperienceOnsetTime\n",
      "(13/56) normalize_value: column: SAECardiacExperienceResolveDate\n",
      "(14/56) normalize_value: column: SAECardiacExperienceResolveTime\n",
      "(15/56) normalize_value: column: SAECardiacExperienceActionTaken\n",
      "(16/56) normalize_value: column: SAECardiacExperienceOutcome\n",
      "(17/56) normalize_value: column: SAECardiacExperienceDueToHypothermia\n",
      "(18/56) normalize_value: column: SAEMetabolicAcidosisOnsetDate\n",
      "(19/56) normalize_value: column: SAEMetabolicAcidosisOnsetTime\n",
      "(20/56) normalize_value: column: SAEMetabolicAcidosisResolveDate\n",
      "(21/56) normalize_value: column: SAEMetabolicAcidosisResolveTime\n",
      "(22/56) normalize_value: column: SAEMetabolicAcidosisActionTaken\n",
      "(23/56) normalize_value: column: SAEMetabolicAcidosisOutcome\n",
      "(24/56) normalize_value: column: SAEMetabolicAcidosisDueToHypothermia\n",
      "(25/56) normalize_value: column: SAEThrombosisExperienceOnsetDate\n",
      "(26/56) normalize_value: column: SAEThrombosisExperienceOnsetTime\n",
      "(27/56) normalize_value: column: SAEThrombosisExperienceResolveDate\n",
      "(28/56) normalize_value: column: SAEThrombosisExperienceResolveTime\n",
      "(29/56) normalize_value: column: SAEThrombosisExperienceActionTaken\n",
      "(30/56) normalize_value: column: SAEThrombosisExperienceOutcome\n",
      "(31/56) normalize_value: column: SAEThrombosisExperienceDueToHypothermia\n",
      "(32/56) normalize_value: column: SAEBleedingExperienceOnsetDate\n",
      "(33/56) normalize_value: column: SAEBleedingExperienceOnsetTime\n",
      "(34/56) normalize_value: column: SAEBleedingExperienceResolveDate\n",
      "(35/56) normalize_value: column: SAEBleedingExperienceResolveTime\n",
      "(36/56) normalize_value: column: SAEBleedingExperienceActionTaken\n",
      "(37/56) normalize_value: column: SAEBleedingExperienceOutcome\n",
      "(38/56) normalize_value: column: SAEBleedingExperienceDueToHypothermia\n",
      "(39/56) normalize_value: column: SAEAlterationSkinIntegrityActionTaken\n",
      "(40/56) normalize_value: column: SAEAlterationSkinIntegrityOutcome\n",
      "(41/56) normalize_value: column: SAEAlterationSkinIntegrityDueToHypothermia\n",
      "(42/56) normalize_value: column: SAEDeathDate\n",
      "(43/56) normalize_value: column: SAEDeathTime\n",
      "(44/56) normalize_value: column: SAEDeathActionTaken\n",
      "(45/56) normalize_value: column: SAEDeathOutcome\n",
      "(46/56) normalize_value: column: SAEDeathDueToHypothermia\n",
      "(47/56) normalize_value: column: SAEOther\n",
      "(48/56) normalize_value: column: SAEOtherComment\n",
      "(49/56) normalize_value: column: SAEOtherOnsetDate\n",
      "(50/56) normalize_value: column: SAEOtherOnsetTime\n",
      "(51/56) normalize_value: column: SAEOtherResolveDate\n",
      "(52/56) normalize_value: column: SAEOtherResolveTime\n",
      "(53/56) normalize_value: column: SAEOtherActionTaken\n",
      "(54/56) normalize_value: column: SAEOtherOutcome\n",
      "(55/56) normalize_value: column: SAEOtherDueToHypothermia\n",
      "flatten_index: flatten_ids: ['adverseEventNumber'] unique_id_map: {np.int64(1): np.int64(1), np.int64(2): np.int64(2)} the_type: int64\n"
     ]
    }
   ],
   "source": [
    "filename = os.sep.join([input_dir, base_filename])\n",
    "\n",
    "df = pd.read_csv(filename, dtype='O')\n",
    "df = COMBINE_harmonizer.normalize_value(df, _VALUE_MAP, _FLATTEN_IDS, order_map=_ORDER_MAP)\n",
    "\n",
    "out_filename = os.sep.join([out_dir, base_filename])\n",
    "df.to_csv(out_filename, index=False)"
   ]
  },
  {
   "cell_type": "code",
   "execution_count": 106,
   "id": "7e646893-bdcc-451a-b9a1-7a3f4418a570",
   "metadata": {
    "execution": {
     "iopub.execute_input": "2025-01-21T19:14:23.184602Z",
     "iopub.status.busy": "2025-01-21T19:14:23.184090Z",
     "iopub.status.idle": "2025-01-21T19:14:23.199056Z",
     "shell.execute_reply": "2025-01-21T19:14:23.198026Z"
    }
   },
   "outputs": [
    {
     "name": "stdout",
     "output_type": "stream",
     "text": [
      "(0/113) center: (18/0)\n",
      "(1/113) center.orig: (18/0)\n",
      "(2/113) subjectID: (18/0)\n",
      "(3/113) subjectID.orig: (18/0)\n",
      "(4/113) uniqueID: (18/0)\n",
      "(5/113) uniqueID.orig: (18/0)\n",
      "(6/113) _flatten_index: (18/0)\n",
      "(7/113) adverseEventNumber: (18/0)\n",
      "(8/113) adverseEventNumber.orig: (18/0)\n",
      "(9/113) SAECardiacExperienceOnsetDate: (18/0)\n",
      "(10/113) SAECardiacExperienceOnsetDate.orig: (0/18)\n",
      "(11/113) SAECardiacExperienceOnsetTime: (18/0)\n",
      "(12/113) SAECardiacExperienceOnsetTime.orig: (0/18)\n",
      "(13/113) SAECardiacExperienceResolveDate: (18/0)\n",
      "(14/113) SAECardiacExperienceResolveDate.orig: (0/18)\n",
      "(15/113) SAECardiacExperienceResolveTime: (18/0)\n",
      "(16/113) SAECardiacExperienceResolveTime.orig: (0/18)\n",
      "(17/113) SAECardiacExperienceDueToHypothermia: (18/0)\n",
      "(18/113) SAECardiacExperienceDueToHypothermia.orig: (0/18)\n",
      "(19/113) SAECardiacExperienceActionTaken: (18/0)\n",
      "(20/113) SAECardiacExperienceActionTaken.orig: (0/18)\n",
      "(21/113) SAECardiacExperienceOutcome: (18/0)\n",
      "(22/113) SAECardiacExperienceOutcome.orig: (0/18)\n",
      "(23/113) SAECardiacExperienceComment: (18/0)\n",
      "(24/113) SAECardiacExperienceComment.orig: (0/18)\n",
      "(25/113) SAEMetabolicAcidosisOnsetDate: (18/0)\n",
      "(26/113) SAEMetabolicAcidosisOnsetDate.orig: (0/18)\n",
      "(27/113) SAEMetabolicAcidosisOnsetTime: (18/0)\n",
      "(28/113) SAEMetabolicAcidosisOnsetTime.orig: (0/18)\n",
      "(29/113) SAEMetabolicAcidosisResolveDate: (18/0)\n",
      "(30/113) SAEMetabolicAcidosisResolveDate.orig: (0/18)\n",
      "(31/113) SAEMetabolicAcidosisResolveTime: (18/0)\n",
      "(32/113) SAEMetabolicAcidosisResolveTime.orig: (0/18)\n",
      "(33/113) SAEMetabolicAcidosisDueToHypothermia: (18/0)\n",
      "(34/113) SAEMetabolicAcidosisDueToHypothermia.orig: (0/18)\n",
      "(35/113) SAEMetabolicAcidosisActionTaken: (18/0)\n",
      "(36/113) SAEMetabolicAcidosisActionTaken.orig: (0/18)\n",
      "(37/113) SAEMetabolicAcidosisOutcome: (18/0)\n",
      "(38/113) SAEMetabolicAcidosisOutcome.orig: (0/18)\n",
      "(39/113) SAEMetabolicAcidosisComment: (18/0)\n",
      "(40/113) SAEMetabolicAcidosisComment.orig: (0/18)\n",
      "(41/113) SAEThrombosisExperienceOnsetDate: (18/0)\n",
      "(42/113) SAEThrombosisExperienceOnsetDate.orig: (0/18)\n",
      "(43/113) SAEThrombosisExperienceOnsetTime: (18/0)\n",
      "(44/113) SAEThrombosisExperienceOnsetTime.orig: (0/18)\n",
      "(45/113) SAEThrombosisExperienceResolveDate: (18/0)\n",
      "(46/113) SAEThrombosisExperienceResolveDate.orig: (0/18)\n",
      "(47/113) SAEThrombosisExperienceResolveTime: (18/0)\n",
      "(48/113) SAEThrombosisExperienceResolveTime.orig: (0/18)\n",
      "(49/113) SAEThrombosisExperienceDueToHypothermia: (18/0)\n",
      "(50/113) SAEThrombosisExperienceDueToHypothermia.orig: (0/18)\n",
      "(51/113) SAEThrombosisExperienceActionTaken: (18/0)\n",
      "(52/113) SAEThrombosisExperienceActionTaken.orig: (0/18)\n",
      "(53/113) SAEThrombosisExperienceOutcome: (18/0)\n",
      "(54/113) SAEThrombosisExperienceOutcome.orig: (0/18)\n",
      "(55/113) SAEThrombosisExperienceComment: (18/0)\n",
      "(56/113) SAEThrombosisExperienceComment.orig: (0/18)\n",
      "(57/113) SAEBleedingExperienceOnsetDate: (18/0)\n",
      "(58/113) SAEBleedingExperienceOnsetDate.orig: (5/13)\n",
      "(59/113) SAEBleedingExperienceOnsetTime: (18/0)\n",
      "(60/113) SAEBleedingExperienceOnsetTime.orig: (4/14)\n",
      "(61/113) SAEBleedingExperienceResolveDate: (18/0)\n",
      "(62/113) SAEBleedingExperienceResolveDate.orig: (4/14)\n",
      "(63/113) SAEBleedingExperienceResolveTime: (18/0)\n",
      "(64/113) SAEBleedingExperienceResolveTime.orig: (4/14)\n",
      "(65/113) SAEBleedingExperienceDueToHypothermia: (18/0)\n",
      "(66/113) SAEBleedingExperienceDueToHypothermia.orig: (5/13)\n",
      "(67/113) SAEBleedingExperienceActionTaken: (18/0)\n",
      "(68/113) SAEBleedingExperienceActionTaken.orig: (5/13)\n",
      "(69/113) SAEBleedingExperienceOutcome: (18/0)\n",
      "(70/113) SAEBleedingExperienceOutcome.orig: (5/13)\n",
      "(71/113) SAEBleedingExperienceComment: (18/0)\n",
      "(72/113) SAEBleedingExperienceComment.orig: (4/14)\n",
      "(73/113) SAEAlterationSkinIntegrity: (18/0)\n",
      "(74/113) SAEAlterationSkinIntegrity.orig: (2/16)\n",
      "(75/113) SAEAlterationSkinIntegrityDueToHypothermia: (18/0)\n",
      "(76/113) SAEAlterationSkinIntegrityDueToHypothermia.orig: (1/17)\n",
      "(77/113) SAEAlterationSkinIntegrityActionTaken: (18/0)\n",
      "(78/113) SAEAlterationSkinIntegrityActionTaken.orig: (1/17)\n",
      "(79/113) SAEAlterationSkinIntegrityOutcome: (18/0)\n",
      "(80/113) SAEAlterationSkinIntegrityOutcome.orig: (1/17)\n",
      "(81/113) SAEAlterationSkinIntegrityComment: (18/0)\n",
      "(82/113) SAEAlterationSkinIntegrityComment.orig: (2/16)\n",
      "(83/113) SAEDeathDate: (18/0)\n",
      "(84/113) SAEDeathDate.orig: (11/7)\n",
      "(85/113) SAEDeathTime: (18/0)\n",
      "(86/113) SAEDeathTime.orig: (11/7)\n",
      "(87/113) SAEDeathDueToHypothermia: (18/0)\n",
      "(88/113) SAEDeathDueToHypothermia.orig: (11/7)\n",
      "(89/113) SAEDeathActionTaken: (18/0)\n",
      "(90/113) SAEDeathActionTaken.orig: (11/7)\n",
      "(91/113) SAEDeathOutcome: (18/0)\n",
      "(92/113) SAEDeathOutcome.orig: (11/7)\n",
      "(93/113) SAEDeathComment: (18/0)\n",
      "(94/113) SAEDeathComment.orig: (6/12)\n",
      "(95/113) SAEOther: (18/0)\n",
      "(96/113) SAEOther.orig: (4/14)\n",
      "(97/113) SAEOtherOnsetDate: (18/0)\n",
      "(98/113) SAEOtherOnsetDate.orig: (4/14)\n",
      "(99/113) SAEOtherOnsetTime: (18/0)\n",
      "(100/113) SAEOtherOnsetTime.orig: (4/14)\n",
      "(101/113) SAEOtherResolveDate: (18/0)\n",
      "(102/113) SAEOtherResolveDate.orig: (1/17)\n",
      "(103/113) SAEOtherResolveTime: (18/0)\n",
      "(104/113) SAEOtherResolveTime.orig: (1/17)\n",
      "(105/113) SAEOtherDueToHypothermia: (18/0)\n",
      "(106/113) SAEOtherDueToHypothermia.orig: (4/14)\n",
      "(107/113) SAEOtherActionTaken: (18/0)\n",
      "(108/113) SAEOtherActionTaken.orig: (4/14)\n",
      "(109/113) SAEOtherOutcome: (18/0)\n",
      "(110/113) SAEOtherOutcome.orig: (4/14)\n",
      "(111/113) SAEOtherComment: (18/0)\n",
      "(112/113) SAEOtherComment.orig: (2/16)\n"
     ]
    }
   ],
   "source": [
    "COMBINE_harmonizer.column_info(df)"
   ]
  },
  {
   "cell_type": "markdown",
   "id": "43c5c4b0-83cd-4590-9f23-3459a83ac433",
   "metadata": {},
   "source": [
    "## 02-15-violation"
   ]
  },
  {
   "cell_type": "code",
   "execution_count": 107,
   "id": "67e4e435-42a4-4531-adb3-e1bb5532331d",
   "metadata": {
    "execution": {
     "iopub.execute_input": "2025-01-21T19:14:23.201185Z",
     "iopub.status.busy": "2025-01-21T19:14:23.201071Z",
     "iopub.status.idle": "2025-01-21T19:14:23.203437Z",
     "shell.execute_reply": "2025-01-21T19:14:23.202978Z"
    }
   },
   "outputs": [],
   "source": [
    "_FLATTEN_IDS = ['violationNumber']\n",
    "base_filename = '02-15-violation.csv'"
   ]
  },
  {
   "cell_type": "code",
   "execution_count": 108,
   "id": "59778700-1068-4fdd-beba-f96c22f43f2a",
   "metadata": {
    "execution": {
     "iopub.execute_input": "2025-01-21T19:14:23.205812Z",
     "iopub.status.busy": "2025-01-21T19:14:23.205654Z",
     "iopub.status.idle": "2025-01-21T19:14:23.295207Z",
     "shell.execute_reply": "2025-01-21T19:14:23.294295Z"
    }
   },
   "outputs": [
    {
     "name": "stdout",
     "output_type": "stream",
     "text": [
      "(0/10) normalize_value: column: center\n",
      "(1/10) normalize_value: column: subjectID\n",
      "(2/10) normalize_value: column: uniqueID\n",
      "(3/10) normalize_value: column: violationOtherText\n",
      "(4/10) normalize_value: column: violationOtherCirumstanceText\n",
      "(5/10) normalize_value: column: violationComment\n",
      "(6/10) normalize_value: column: violationNumber\n",
      "(7/10) normalize_value: column: violationDate\n",
      "(8/10) normalize_value: column: violationNature\n",
      "(9/10) normalize_value: column: violationCircumstance\n",
      "flatten_index: flatten_ids: ['violationNumber'] unique_id_map: {np.int64(1): np.int64(1), np.int64(2): np.int64(2), np.int64(3): np.int64(3)} the_type: int64\n"
     ]
    }
   ],
   "source": [
    "filename = os.sep.join([input_dir, base_filename])\n",
    "df = pd.read_csv(filename, dtype='O')\n",
    "df = COMBINE_harmonizer.normalize_value(df, _VALUE_MAP, _FLATTEN_IDS, order_map=_ORDER_MAP)\n",
    "\n",
    "out_filename = os.sep.join([out_dir, base_filename])\n",
    "df.to_csv(out_filename, index=False)"
   ]
  },
  {
   "cell_type": "code",
   "execution_count": 109,
   "id": "866611a2-31f6-45a4-9d96-0609fe873999",
   "metadata": {
    "execution": {
     "iopub.execute_input": "2025-01-21T19:14:23.299290Z",
     "iopub.status.busy": "2025-01-21T19:14:23.298904Z",
     "iopub.status.idle": "2025-01-21T19:14:23.307439Z",
     "shell.execute_reply": "2025-01-21T19:14:23.306934Z"
    }
   },
   "outputs": [
    {
     "name": "stdout",
     "output_type": "stream",
     "text": [
      "(0/21) center: (52/0)\n",
      "(1/21) center.orig: (52/0)\n",
      "(2/21) subjectID: (52/0)\n",
      "(3/21) subjectID.orig: (52/0)\n",
      "(4/21) uniqueID: (52/0)\n",
      "(5/21) uniqueID.orig: (52/0)\n",
      "(6/21) _flatten_index: (52/0)\n",
      "(7/21) violationNumber: (52/0)\n",
      "(8/21) violationNumber.orig: (52/0)\n",
      "(9/21) violationDate: (52/0)\n",
      "(10/21) violationDate.orig: (52/0)\n",
      "(11/21) violationNature: (52/0)\n",
      "(12/21) violationNature.orig: (52/0)\n",
      "(13/21) violationOtherText: (52/0)\n",
      "(14/21) violationOtherText.orig: (36/16)\n",
      "(15/21) violationCircumstance: (52/0)\n",
      "(16/21) violationCircumstance.orig: (52/0)\n",
      "(17/21) violationOtherCirumstanceText: (52/0)\n",
      "(18/21) violationOtherCirumstanceText.orig: (41/11)\n",
      "(19/21) violationComment: (52/0)\n",
      "(20/21) violationComment.orig: (34/18)\n"
     ]
    }
   ],
   "source": [
    "COMBINE_harmonizer.column_info(df)"
   ]
  },
  {
   "cell_type": "markdown",
   "id": "46f41fab",
   "metadata": {},
   "source": [
    "## 02-17-discontinue"
   ]
  },
  {
   "cell_type": "code",
   "execution_count": 110,
   "id": "e5767691",
   "metadata": {
    "execution": {
     "iopub.execute_input": "2025-01-21T19:14:23.310666Z",
     "iopub.status.busy": "2025-01-21T19:14:23.310417Z",
     "iopub.status.idle": "2025-01-21T19:14:23.312745Z",
     "shell.execute_reply": "2025-01-21T19:14:23.312398Z"
    }
   },
   "outputs": [],
   "source": [
    "base_filename = '02-17-discontinue.csv'"
   ]
  },
  {
   "cell_type": "code",
   "execution_count": 111,
   "id": "1e61781b",
   "metadata": {
    "execution": {
     "iopub.execute_input": "2025-01-21T19:14:23.314342Z",
     "iopub.status.busy": "2025-01-21T19:14:23.314195Z",
     "iopub.status.idle": "2025-01-21T19:14:23.414963Z",
     "shell.execute_reply": "2025-01-21T19:14:23.414346Z"
    }
   },
   "outputs": [
    {
     "name": "stdout",
     "output_type": "stream",
     "text": [
      "(0/13) normalize_value: column: center\n",
      "(1/13) normalize_value: column: subjectID\n",
      "(2/13) normalize_value: column: uniqueID\n",
      "(3/13) normalize_value: column: discontinueBeforeEndPeriod\n",
      "(4/13) normalize_value: column: discontinueParentsWithdraw\n",
      "(5/13) normalize_value: column: discontinuePhysicianWithdraw\n",
      "(6/13) normalize_value: column: discontinueAdverseEvent\n",
      "(7/13) normalize_value: column: discontinueECMO\n",
      "(8/13) normalize_value: column: discontinueDeath\n",
      "(9/13) normalize_value: column: discontinueOther\n",
      "(10/13) normalize_value: column: discontinueOtherText\n",
      "(11/13) normalize_value: column: discontinueDate\n",
      "(12/13) normalize_value: column: discontinueTime\n"
     ]
    }
   ],
   "source": [
    "filename = os.sep.join([input_dir, base_filename])\n",
    "df = pd.read_csv(filename, dtype='O')\n",
    "df = COMBINE_harmonizer.normalize_value(df, _VALUE_MAP, order_map=_ORDER_MAP)\n",
    "\n",
    "out_filename = os.sep.join([out_dir, base_filename])\n",
    "df.to_csv(out_filename, index=False)"
   ]
  },
  {
   "cell_type": "code",
   "execution_count": 112,
   "id": "66ad75ad",
   "metadata": {
    "execution": {
     "iopub.execute_input": "2025-01-21T19:14:23.418642Z",
     "iopub.status.busy": "2025-01-21T19:14:23.418322Z",
     "iopub.status.idle": "2025-01-21T19:14:23.426221Z",
     "shell.execute_reply": "2025-01-21T19:14:23.425596Z"
    }
   },
   "outputs": [
    {
     "name": "stdout",
     "output_type": "stream",
     "text": [
      "(0/26) center: (168/0)\n",
      "(1/26) center.orig: (168/0)\n",
      "(2/26) subjectID: (168/0)\n",
      "(3/26) subjectID.orig: (168/0)\n",
      "(4/26) uniqueID: (168/0)\n",
      "(5/26) uniqueID.orig: (168/0)\n",
      "(6/26) discontinueDate: (168/0)\n",
      "(7/26) discontinueDate.orig: (23/145)\n",
      "(8/26) discontinueTime: (168/0)\n",
      "(9/26) discontinueTime.orig: (23/145)\n",
      "(10/26) discontinueBeforeEndPeriod: (168/0)\n",
      "(11/26) discontinueBeforeEndPeriod.orig: (168/0)\n",
      "(12/26) discontinueParentsWithdraw: (168/0)\n",
      "(13/26) discontinueParentsWithdraw.orig: (23/145)\n",
      "(14/26) discontinuePhysicianWithdraw: (168/0)\n",
      "(15/26) discontinuePhysicianWithdraw.orig: (23/145)\n",
      "(16/26) discontinueAdverseEvent: (168/0)\n",
      "(17/26) discontinueAdverseEvent.orig: (23/145)\n",
      "(18/26) discontinueECMO: (168/0)\n",
      "(19/26) discontinueECMO.orig: (23/145)\n",
      "(20/26) discontinueDeath: (168/0)\n",
      "(21/26) discontinueDeath.orig: (23/145)\n",
      "(22/26) discontinueOther: (168/0)\n",
      "(23/26) discontinueOther.orig: (23/145)\n",
      "(24/26) discontinueOtherText: (168/0)\n",
      "(25/26) discontinueOtherText.orig: (9/159)\n"
     ]
    }
   ],
   "source": [
    "COMBINE_harmonizer.column_info(df)"
   ]
  },
  {
   "cell_type": "markdown",
   "id": "daf303d7",
   "metadata": {},
   "source": [
    "## 04-16-wdraw-support"
   ]
  },
  {
   "cell_type": "code",
   "execution_count": 113,
   "id": "8ece0163",
   "metadata": {
    "execution": {
     "iopub.execute_input": "2025-01-21T19:14:23.430428Z",
     "iopub.status.busy": "2025-01-21T19:14:23.429948Z",
     "iopub.status.idle": "2025-01-21T19:14:23.433590Z",
     "shell.execute_reply": "2025-01-21T19:14:23.433027Z"
    }
   },
   "outputs": [],
   "source": [
    "base_filename = '04-16-wdraw-support.csv'"
   ]
  },
  {
   "cell_type": "code",
   "execution_count": 114,
   "id": "55f3fc7a",
   "metadata": {
    "execution": {
     "iopub.execute_input": "2025-01-21T19:14:23.436371Z",
     "iopub.status.busy": "2025-01-21T19:14:23.436123Z",
     "iopub.status.idle": "2025-01-21T19:14:23.541752Z",
     "shell.execute_reply": "2025-01-21T19:14:23.541027Z"
    }
   },
   "outputs": [
    {
     "name": "stdout",
     "output_type": "stream",
     "text": [
      "(0/16) normalize_value: column: center\n",
      "(1/16) normalize_value: column: subjectID\n",
      "(2/16) normalize_value: column: uniqueID\n",
      "(3/16) normalize_value: column: wdrawSupportDiscussedWithFamily\n",
      "(4/16) normalize_value: column: wdrawSupportNeurologicalExam\n",
      "(5/16) normalize_value: column: wdrawSupportImagingStudy\n",
      "(6/16) normalize_value: column: wdrawSupportEEGFinding\n",
      "(7/16) normalize_value: column: wdrawSupportMultisystemOrganFailureOtherThanCNS\n",
      "(8/16) normalize_value: column: wdrawSupportBrainBloodFlowScan\n",
      "(9/16) normalize_value: column: wdrawSupportParentWish\n",
      "(10/16) normalize_value: column: wdrawSupportOther\n",
      "(11/16) normalize_value: column: wdrawSupportOtherText\n",
      "(12/16) normalize_value: column: wdrawSupport\n",
      "(13/16) normalize_value: column: wdrawSupportRecommendSolelyByClinicalTeam\n",
      "(14/16) normalize_value: column: wdrawSupportDate\n",
      "(15/16) normalize_value: column: wdrawSupportTime\n"
     ]
    }
   ],
   "source": [
    "filename = os.sep.join([input_dir, base_filename])\n",
    "df = pd.read_csv(filename, dtype='O')\n",
    "df = COMBINE_harmonizer.normalize_value(df, _VALUE_MAP, order_map=_ORDER_MAP)\n",
    "\n",
    "out_filename = os.sep.join([out_dir, base_filename])\n",
    "df.to_csv(out_filename, index=False)"
   ]
  },
  {
   "cell_type": "code",
   "execution_count": 115,
   "id": "7eab4bde",
   "metadata": {
    "execution": {
     "iopub.execute_input": "2025-01-21T19:14:23.547812Z",
     "iopub.status.busy": "2025-01-21T19:14:23.546832Z",
     "iopub.status.idle": "2025-01-21T19:14:23.557772Z",
     "shell.execute_reply": "2025-01-21T19:14:23.557014Z"
    }
   },
   "outputs": [
    {
     "name": "stdout",
     "output_type": "stream",
     "text": [
      "(0/32) center: (168/0)\n",
      "(1/32) center.orig: (168/0)\n",
      "(2/32) subjectID: (168/0)\n",
      "(3/32) subjectID.orig: (168/0)\n",
      "(4/32) uniqueID: (168/0)\n",
      "(5/32) uniqueID.orig: (168/0)\n",
      "(6/32) wdrawSupport: (168/0)\n",
      "(7/32) wdrawSupport.orig: (19/149)\n",
      "(8/32) wdrawSupportDate: (168/0)\n",
      "(9/32) wdrawSupportDate.orig: (18/150)\n",
      "(10/32) wdrawSupportTime: (168/0)\n",
      "(11/32) wdrawSupportTime.orig: (18/150)\n",
      "(12/32) wdrawSupportDiscussedWithFamily: (168/0)\n",
      "(13/32) wdrawSupportDiscussedWithFamily.orig: (168/0)\n",
      "(14/32) wdrawSupportRecommendSolelyByClinicalTeam: (168/0)\n",
      "(15/32) wdrawSupportRecommendSolelyByClinicalTeam.orig: (19/149)\n",
      "(16/32) wdrawSupportNeurologicalExam: (168/0)\n",
      "(17/32) wdrawSupportNeurologicalExam.orig: (19/149)\n",
      "(18/32) wdrawSupportImagingStudy: (168/0)\n",
      "(19/32) wdrawSupportImagingStudy.orig: (19/149)\n",
      "(20/32) wdrawSupportEEGFinding: (168/0)\n",
      "(21/32) wdrawSupportEEGFinding.orig: (19/149)\n",
      "(22/32) wdrawSupportMultisystemOrganFailureOtherThanCNS: (168/0)\n",
      "(23/32) wdrawSupportMultisystemOrganFailureOtherThanCNS.orig: (19/149)\n",
      "(24/32) wdrawSupportBrainBloodFlowScan: (168/0)\n",
      "(25/32) wdrawSupportBrainBloodFlowScan.orig: (19/149)\n",
      "(26/32) wdrawSupportParentWish: (168/0)\n",
      "(27/32) wdrawSupportParentWish.orig: (19/149)\n",
      "(28/32) wdrawSupportOther: (168/0)\n",
      "(29/32) wdrawSupportOther.orig: (19/149)\n",
      "(30/32) wdrawSupportOtherText: (168/0)\n",
      "(31/32) wdrawSupportOtherText.orig: (1/167)\n"
     ]
    }
   ],
   "source": [
    "COMBINE_harmonizer.column_info(df)"
   ]
  },
  {
   "cell_type": "markdown",
   "id": "2ee8dbdd",
   "metadata": {},
   "source": [
    "## 04-17-limit-care"
   ]
  },
  {
   "cell_type": "code",
   "execution_count": 116,
   "id": "1544db87",
   "metadata": {
    "execution": {
     "iopub.execute_input": "2025-01-21T19:14:23.561886Z",
     "iopub.status.busy": "2025-01-21T19:14:23.561577Z",
     "iopub.status.idle": "2025-01-21T19:14:23.565792Z",
     "shell.execute_reply": "2025-01-21T19:14:23.565229Z"
    }
   },
   "outputs": [],
   "source": [
    "base_filename = '04-17-limit-care.csv'"
   ]
  },
  {
   "cell_type": "code",
   "execution_count": 117,
   "id": "bf313da9",
   "metadata": {
    "execution": {
     "iopub.execute_input": "2025-01-21T19:14:23.567828Z",
     "iopub.status.busy": "2025-01-21T19:14:23.567673Z",
     "iopub.status.idle": "2025-01-21T19:14:23.686056Z",
     "shell.execute_reply": "2025-01-21T19:14:23.685387Z"
    }
   },
   "outputs": [
    {
     "name": "stdout",
     "output_type": "stream",
     "text": [
      "(0/14) normalize_value: column: center\n",
      "(1/14) normalize_value: column: subjectID\n",
      "(2/14) normalize_value: column: uniqueID\n",
      "(3/14) normalize_value: column: limitCareDiscussedWithFamily\n",
      "(4/14) normalize_value: column: limitCareAgreedByFamilyAndCareTeam\n",
      "(5/14) normalize_value: column: limitCareNoFurtherMechanicalVentilationAndIntubation\n",
      "(6/14) normalize_value: column: limitCareNoFurtherVentilationWithBagAndMask\n",
      "(7/14) normalize_value: column: limitCareNoFurtherMedicationsToSupportBP\n",
      "(8/14) normalize_value: column: limitCareNoFurtherChestCompression\n",
      "(9/14) normalize_value: column: limitCareNoFurtherEmergencyMedication\n",
      "(10/14) normalize_value: column: limitCareDNR\n",
      "(11/14) normalize_value: column: limitCareRecommendSolelyByClinicalTeam\n",
      "(12/14) normalize_value: column: limitCareDNRDate\n",
      "(13/14) normalize_value: column: limitCareDNRTime\n"
     ]
    }
   ],
   "source": [
    "filename = os.sep.join([input_dir, base_filename])\n",
    "df = pd.read_csv(filename, dtype='O')\n",
    "df = COMBINE_harmonizer.normalize_value(df, _VALUE_MAP, order_map=_ORDER_MAP)\n",
    "\n",
    "out_filename = os.sep.join([out_dir, base_filename])\n",
    "df.to_csv(out_filename, index=False)"
   ]
  },
  {
   "cell_type": "code",
   "execution_count": 118,
   "id": "fca9cb1f",
   "metadata": {
    "execution": {
     "iopub.execute_input": "2025-01-21T19:14:23.690003Z",
     "iopub.status.busy": "2025-01-21T19:14:23.689409Z",
     "iopub.status.idle": "2025-01-21T19:14:23.695742Z",
     "shell.execute_reply": "2025-01-21T19:14:23.695226Z"
    }
   },
   "outputs": [
    {
     "name": "stdout",
     "output_type": "stream",
     "text": [
      "(0/28) center: (168/0)\n",
      "(1/28) center.orig: (168/0)\n",
      "(2/28) subjectID: (168/0)\n",
      "(3/28) subjectID.orig: (168/0)\n",
      "(4/28) uniqueID: (168/0)\n",
      "(5/28) uniqueID.orig: (168/0)\n",
      "(6/28) limitCareDiscussedWithFamily: (168/0)\n",
      "(7/28) limitCareDiscussedWithFamily.orig: (168/0)\n",
      "(8/28) limitCareRecommendSolelyByClinicalTeam: (168/0)\n",
      "(9/28) limitCareRecommendSolelyByClinicalTeam.orig: (14/154)\n",
      "(10/28) limitCareAgreedByFamilyAndCareTeam: (168/0)\n",
      "(11/28) limitCareAgreedByFamilyAndCareTeam.orig: (13/155)\n",
      "(12/28) limitCareNoFurtherMechanicalVentilationAndIntubation: (168/0)\n",
      "(13/28) limitCareNoFurtherMechanicalVentilationAndIntubation.orig: (13/155)\n",
      "(14/28) limitCareNoFurtherVentilationWithBagAndMask: (168/0)\n",
      "(15/28) limitCareNoFurtherVentilationWithBagAndMask.orig: (13/155)\n",
      "(16/28) limitCareNoFurtherMedicationsToSupportBP: (168/0)\n",
      "(17/28) limitCareNoFurtherMedicationsToSupportBP.orig: (13/155)\n",
      "(18/28) limitCareNoFurtherChestCompression: (168/0)\n",
      "(19/28) limitCareNoFurtherChestCompression.orig: (13/155)\n",
      "(20/28) limitCareNoFurtherEmergencyMedication: (168/0)\n",
      "(21/28) limitCareNoFurtherEmergencyMedication.orig: (13/155)\n",
      "(22/28) limitCareDNR: (168/0)\n",
      "(23/28) limitCareDNR.orig: (168/0)\n",
      "(24/28) limitCareDNRDate: (168/0)\n",
      "(25/28) limitCareDNRDate.orig: (15/153)\n",
      "(26/28) limitCareDNRTime: (168/0)\n",
      "(27/28) limitCareDNRTime.orig: (15/153)\n"
     ]
    }
   ],
   "source": [
    "COMBINE_harmonizer.column_info(df)"
   ]
  },
  {
   "cell_type": "markdown",
   "id": "1b138b85",
   "metadata": {},
   "source": [
    "## 04-01-status"
   ]
  },
  {
   "cell_type": "code",
   "execution_count": 119,
   "id": "236e4bce",
   "metadata": {
    "execution": {
     "iopub.execute_input": "2025-01-21T19:14:23.698289Z",
     "iopub.status.busy": "2025-01-21T19:14:23.698038Z",
     "iopub.status.idle": "2025-01-21T19:14:23.700907Z",
     "shell.execute_reply": "2025-01-21T19:14:23.700460Z"
    }
   },
   "outputs": [],
   "source": [
    "base_filename = '04-01-status.csv'"
   ]
  },
  {
   "cell_type": "code",
   "execution_count": 120,
   "id": "3e2ef14e",
   "metadata": {
    "execution": {
     "iopub.execute_input": "2025-01-21T19:14:23.703308Z",
     "iopub.status.busy": "2025-01-21T19:14:23.703017Z",
     "iopub.status.idle": "2025-01-21T19:14:23.826972Z",
     "shell.execute_reply": "2025-01-21T19:14:23.825830Z"
    }
   },
   "outputs": [
    {
     "name": "stdout",
     "output_type": "stream",
     "text": [
      "(0/31) normalize_value: column: center\n",
      "(1/31) normalize_value: column: subjectID\n",
      "(2/31) normalize_value: column: uniqueID\n",
      "(3/31) normalize_value: column: homeTherapyStatus\n",
      "(4/31) normalize_value: column: homeTherapyVentilator\n",
      "(5/31) normalize_value: column: homeTherapyOxygen\n",
      "(6/31) normalize_value: column: homeTherapyGavageTubeFeed\n",
      "(7/31) normalize_value: column: homeTherapyGastrostomyTubeFeed\n",
      "(8/31) normalize_value: column: homeTherapyTemperatureBlanket\n",
      "(9/31) normalize_value: column: homeTherapyAnticonvulsantMedication\n",
      "(10/31) normalize_value: column: homeTherapyOther\n",
      "(11/31) normalize_value: column: homeTherapyOtherText\n",
      "(12/31) normalize_value: column: deathAutopsy\n",
      "(13/31) normalize_value: column: deathCauseText\n",
      "(14/31) normalize_value: column: status\n",
      "(15/31) normalize_value: column: dischargeDate\n",
      "(16/31) normalize_value: column: dischargeWeight_g\n",
      "(17/31) normalize_value: column: dischargeLength_cm\n",
      "(18/31) normalize_value: column: dischargeHeadCircumference_cm\n",
      "(19/31) normalize_value: column: transferReason\n",
      "(20/31) normalize_value: column: transferDate\n",
      "(21/31) normalize_value: column: transferWeight_g\n",
      "(22/31) normalize_value: column: transferLength_cm\n",
      "(23/31) normalize_value: column: transferHeadCircumference_cm\n",
      "(24/31) normalize_value: column: transferOutcome\n",
      "(25/31) normalize_value: column: deathDate\n",
      "(26/31) normalize_value: column: deathTime\n",
      "(27/31) normalize_value: column: deathCause\n",
      "(28/31) normalize_value: column: deathSrc\n",
      "(29/31) normalize_value: column: dischargeStatus\n",
      "(30/31) normalize_value: column: statusDate\n"
     ]
    }
   ],
   "source": [
    "filename = os.sep.join([input_dir, base_filename])\n",
    "df = pd.read_csv(filename, dtype='O')\n",
    "df = COMBINE_harmonizer.normalize_value(df, _VALUE_MAP, order_map=_ORDER_MAP)\n",
    "\n",
    "out_filename = os.sep.join([out_dir, base_filename])\n",
    "df.to_csv(out_filename, index=False)"
   ]
  },
  {
   "cell_type": "code",
   "execution_count": 121,
   "id": "415bcf61",
   "metadata": {
    "execution": {
     "iopub.execute_input": "2025-01-21T19:14:23.831964Z",
     "iopub.status.busy": "2025-01-21T19:14:23.831558Z",
     "iopub.status.idle": "2025-01-21T19:14:23.840717Z",
     "shell.execute_reply": "2025-01-21T19:14:23.840210Z"
    }
   },
   "outputs": [
    {
     "name": "stdout",
     "output_type": "stream",
     "text": [
      "(0/62) center: (168/0)\n",
      "(1/62) center.orig: (168/0)\n",
      "(2/62) subjectID: (168/0)\n",
      "(3/62) subjectID.orig: (168/0)\n",
      "(4/62) uniqueID: (168/0)\n",
      "(5/62) uniqueID.orig: (168/0)\n",
      "(6/62) status: (168/0)\n",
      "(7/62) status.orig: (168/0)\n",
      "(8/62) statusDate: (168/0)\n",
      "(9/62) statusDate.orig: (168/0)\n",
      "(10/62) dischargeStatus: (168/0)\n",
      "(11/62) dischargeStatus.orig: (168/0)\n",
      "(12/62) dischargeDate: (168/0)\n",
      "(13/62) dischargeDate.orig: (136/32)\n",
      "(14/62) dischargeWeight_g: (168/0)\n",
      "(15/62) dischargeWeight_g.orig: (136/32)\n",
      "(16/62) dischargeLength_cm: (168/0)\n",
      "(17/62) dischargeLength_cm.orig: (126/42)\n",
      "(18/62) dischargeHeadCircumference_cm: (168/0)\n",
      "(19/62) dischargeHeadCircumference_cm.orig: (128/40)\n",
      "(20/62) transferReason: (168/0)\n",
      "(21/62) transferReason.orig: (16/152)\n",
      "(22/62) transferDate: (168/0)\n",
      "(23/62) transferDate.orig: (16/152)\n",
      "(24/62) transferWeight_g: (168/0)\n",
      "(25/62) transferWeight_g.orig: (16/152)\n",
      "(26/62) transferLength_cm: (168/0)\n",
      "(27/62) transferLength_cm.orig: (13/155)\n",
      "(28/62) transferHeadCircumference_cm: (168/0)\n",
      "(29/62) transferHeadCircumference_cm.orig: (13/155)\n",
      "(30/62) transferOutcome: (168/0)\n",
      "(31/62) transferOutcome.orig: (15/153)\n",
      "(32/62) homeTherapyStatus: (168/0)\n",
      "(33/62) homeTherapyStatus.orig: (15/153)\n",
      "(34/62) homeTherapyVentilator: (168/0)\n",
      "(35/62) homeTherapyVentilator.orig: (13/155)\n",
      "(36/62) homeTherapyOxygen: (168/0)\n",
      "(37/62) homeTherapyOxygen.orig: (13/155)\n",
      "(38/62) homeTherapyGavageTubeFeed: (168/0)\n",
      "(39/62) homeTherapyGavageTubeFeed.orig: (13/155)\n",
      "(40/62) homeTherapyGastrostomyTubeFeed: (168/0)\n",
      "(41/62) homeTherapyGastrostomyTubeFeed.orig: (13/155)\n",
      "(42/62) homeTherapyTemperatureBlanket: (168/0)\n",
      "(43/62) homeTherapyTemperatureBlanket.orig: (13/155)\n",
      "(44/62) homeTherapyAnticonvulsantMedication: (168/0)\n",
      "(45/62) homeTherapyAnticonvulsantMedication.orig: (13/155)\n",
      "(46/62) homeTherapyOther: (168/0)\n",
      "(47/62) homeTherapyOther.orig: (13/155)\n",
      "(48/62) homeTherapyOtherText: (168/0)\n",
      "(49/62) homeTherapyOtherText.orig: (1/167)\n",
      "(50/62) deathDate: (168/0)\n",
      "(51/62) deathDate.orig: (16/152)\n",
      "(52/62) deathTime: (168/0)\n",
      "(53/62) deathTime.orig: (16/152)\n",
      "(54/62) deathAutopsy: (168/0)\n",
      "(55/62) deathAutopsy.orig: (16/152)\n",
      "(56/62) deathCause: (168/0)\n",
      "(57/62) deathCause.orig: (16/152)\n",
      "(58/62) deathCauseText: (168/0)\n",
      "(59/62) deathCauseText.orig: (3/165)\n",
      "(60/62) deathSrc: (168/0)\n",
      "(61/62) deathSrc.orig: (16/152)\n"
     ]
    }
   ],
   "source": [
    "COMBINE_harmonizer.column_info(df)"
   ]
  },
  {
   "cell_type": "markdown",
   "id": "5c74cbec",
   "metadata": {},
   "source": [
    "## 04-02-neuro-exam"
   ]
  },
  {
   "cell_type": "code",
   "execution_count": 122,
   "id": "a0368e45",
   "metadata": {
    "execution": {
     "iopub.execute_input": "2025-01-21T19:14:23.843419Z",
     "iopub.status.busy": "2025-01-21T19:14:23.843212Z",
     "iopub.status.idle": "2025-01-21T19:14:23.845603Z",
     "shell.execute_reply": "2025-01-21T19:14:23.845190Z"
    }
   },
   "outputs": [],
   "source": [
    "base_filename = '04-02-neuro-exam.csv'"
   ]
  },
  {
   "cell_type": "code",
   "execution_count": 123,
   "id": "0b30963e",
   "metadata": {
    "execution": {
     "iopub.execute_input": "2025-01-21T19:14:23.847632Z",
     "iopub.status.busy": "2025-01-21T19:14:23.847445Z",
     "iopub.status.idle": "2025-01-21T19:14:23.978137Z",
     "shell.execute_reply": "2025-01-21T19:14:23.977003Z"
    }
   },
   "outputs": [
    {
     "name": "stdout",
     "output_type": "stream",
     "text": [
      "(0/20) normalize_value: column: center\n",
      "(1/20) normalize_value: column: subjectID\n",
      "(2/20) normalize_value: column: uniqueID\n",
      "(3/20) normalize_value: column: dischargeNeuroExamSeizure\n",
      "(4/20) normalize_value: column: dischargeNeuroExamHypertonia\n",
      "(5/20) normalize_value: column: dischargeNeuroExamClonusSustained\n",
      "(6/20) normalize_value: column: dischargeNeuroExamFistedHand\n",
      "(7/20) normalize_value: column: dischargeNeuroExamAbnormalMovement\n",
      "(8/20) normalize_value: column: dischargeNeuroExamGagReflexAbsent\n",
      "(9/20) normalize_value: column: dischargeNeuroExamDate\n",
      "(10/20) normalize_value: column: dischargeNeuroExamTime\n",
      "(11/20) normalize_value: column: dischargeNeuroExamLevelConsciousness\n",
      "(12/20) normalize_value: column: dischargeNeuroExamSpontaneousActivity\n",
      "(13/20) normalize_value: column: dischargeNeuroExamPosture\n",
      "(14/20) normalize_value: column: dischargeNeuroExamTone\n",
      "(15/20) normalize_value: column: dischargeNeuroExamSuck\n",
      "(16/20) normalize_value: column: dischargeNeuroExamMoro\n",
      "(17/20) normalize_value: column: dischargeNeuroExamPupils\n",
      "(18/20) normalize_value: column: dischargeNeuroExamHeartRate\n",
      "(19/20) normalize_value: column: dischargeNeuroExamRespiration\n"
     ]
    }
   ],
   "source": [
    "filename = os.sep.join([input_dir, base_filename])\n",
    "df = pd.read_csv(filename, dtype='O')\n",
    "df = COMBINE_harmonizer.normalize_value(df, _VALUE_MAP, order_map=_ORDER_MAP)\n",
    "\n",
    "out_filename = os.sep.join([out_dir, base_filename])\n",
    "df.to_csv(out_filename, index=False)"
   ]
  },
  {
   "cell_type": "code",
   "execution_count": 124,
   "id": "61d32888",
   "metadata": {
    "execution": {
     "iopub.execute_input": "2025-01-21T19:14:23.984921Z",
     "iopub.status.busy": "2025-01-21T19:14:23.984277Z",
     "iopub.status.idle": "2025-01-21T19:14:23.998447Z",
     "shell.execute_reply": "2025-01-21T19:14:23.997785Z"
    }
   },
   "outputs": [
    {
     "name": "stdout",
     "output_type": "stream",
     "text": [
      "(0/40) center: (168/0)\n",
      "(1/40) center.orig: (168/0)\n",
      "(2/40) subjectID: (168/0)\n",
      "(3/40) subjectID.orig: (168/0)\n",
      "(4/40) uniqueID: (168/0)\n",
      "(5/40) uniqueID.orig: (168/0)\n",
      "(6/40) dischargeNeuroExamDate: (168/0)\n",
      "(7/40) dischargeNeuroExamDate.orig: (157/11)\n",
      "(8/40) dischargeNeuroExamTime: (168/0)\n",
      "(9/40) dischargeNeuroExamTime.orig: (153/15)\n",
      "(10/40) dischargeNeuroExamLevelConsciousness: (168/0)\n",
      "(11/40) dischargeNeuroExamLevelConsciousness.orig: (157/11)\n",
      "(12/40) dischargeNeuroExamSpontaneousActivity: (168/0)\n",
      "(13/40) dischargeNeuroExamSpontaneousActivity.orig: (157/11)\n",
      "(14/40) dischargeNeuroExamPosture: (168/0)\n",
      "(15/40) dischargeNeuroExamPosture.orig: (157/11)\n",
      "(16/40) dischargeNeuroExamTone: (168/0)\n",
      "(17/40) dischargeNeuroExamTone.orig: (129/39)\n",
      "(18/40) dischargeNeuroExamSuck: (168/0)\n",
      "(19/40) dischargeNeuroExamSuck.orig: (157/11)\n",
      "(20/40) dischargeNeuroExamMoro: (168/0)\n",
      "(21/40) dischargeNeuroExamMoro.orig: (155/13)\n",
      "(22/40) dischargeNeuroExamPupils: (168/0)\n",
      "(23/40) dischargeNeuroExamPupils.orig: (156/12)\n",
      "(24/40) dischargeNeuroExamHeartRate: (168/0)\n",
      "(25/40) dischargeNeuroExamHeartRate.orig: (153/15)\n",
      "(26/40) dischargeNeuroExamRespiration: (168/0)\n",
      "(27/40) dischargeNeuroExamRespiration.orig: (157/11)\n",
      "(28/40) dischargeNeuroExamSeizure: (168/0)\n",
      "(29/40) dischargeNeuroExamSeizure.orig: (163/5)\n",
      "(30/40) dischargeNeuroExamClonusSustained: (168/0)\n",
      "(31/40) dischargeNeuroExamClonusSustained.orig: (163/5)\n",
      "(32/40) dischargeNeuroExamFistedHand: (168/0)\n",
      "(33/40) dischargeNeuroExamFistedHand.orig: (163/5)\n",
      "(34/40) dischargeNeuroExamAbnormalMovement: (168/0)\n",
      "(35/40) dischargeNeuroExamAbnormalMovement.orig: (163/5)\n",
      "(36/40) dischargeNeuroExamGagReflexAbsent: (168/0)\n",
      "(37/40) dischargeNeuroExamGagReflexAbsent.orig: (163/5)\n",
      "(38/40) dischargeNeuroExamHypertonia: (168/0)\n",
      "(39/40) dischargeNeuroExamHypertonia.orig: (163/5)\n"
     ]
    }
   ],
   "source": [
    "COMBINE_harmonizer.column_info(df)"
   ]
  },
  {
   "cell_type": "code",
   "execution_count": null,
   "id": "ad63d1da",
   "metadata": {},
   "outputs": [],
   "source": []
  },
  {
   "cell_type": "markdown",
   "id": "50246e11",
   "metadata": {},
   "source": [
    "## 04-03-cardiovascular"
   ]
  },
  {
   "cell_type": "code",
   "execution_count": 125,
   "id": "a5fbaa5b",
   "metadata": {
    "execution": {
     "iopub.execute_input": "2025-01-21T19:14:24.001782Z",
     "iopub.status.busy": "2025-01-21T19:14:24.001526Z",
     "iopub.status.idle": "2025-01-21T19:14:24.004461Z",
     "shell.execute_reply": "2025-01-21T19:14:24.003793Z"
    }
   },
   "outputs": [],
   "source": [
    "base_filename = '04-03-cardiovascular.csv'"
   ]
  },
  {
   "cell_type": "code",
   "execution_count": 126,
   "id": "38da5c93",
   "metadata": {
    "execution": {
     "iopub.execute_input": "2025-01-21T19:14:24.007032Z",
     "iopub.status.busy": "2025-01-21T19:14:24.006768Z",
     "iopub.status.idle": "2025-01-21T19:14:24.106307Z",
     "shell.execute_reply": "2025-01-21T19:14:24.105184Z"
    }
   },
   "outputs": [
    {
     "name": "stdout",
     "output_type": "stream",
     "text": [
      "(0/9) normalize_value: column: center\n",
      "(1/9) normalize_value: column: subjectID\n",
      "(2/9) normalize_value: column: uniqueID\n",
      "(3/9) normalize_value: column: dischargeCardiomegaly\n",
      "(4/9) normalize_value: column: dischargeCardiacFailure\n",
      "(5/9) normalize_value: column: dischargeCardiacDysfunctionByEcho\n",
      "(6/9) normalize_value: column: dischargeCardiacIschemiaByEKG\n",
      "(7/9) normalize_value: column: dischargeHypotension\n",
      "(8/9) normalize_value: column: dischargeArrhythmia\n"
     ]
    }
   ],
   "source": [
    "filename = os.sep.join([input_dir, base_filename])\n",
    "df = pd.read_csv(filename, dtype='O')\n",
    "df = COMBINE_harmonizer.normalize_value(df, _VALUE_MAP, order_map=_ORDER_MAP)\n",
    "\n",
    "out_filename = os.sep.join([out_dir, base_filename])\n",
    "df.to_csv(out_filename, index=False)"
   ]
  },
  {
   "cell_type": "code",
   "execution_count": 127,
   "id": "009e7505",
   "metadata": {
    "execution": {
     "iopub.execute_input": "2025-01-21T19:14:24.112834Z",
     "iopub.status.busy": "2025-01-21T19:14:24.112509Z",
     "iopub.status.idle": "2025-01-21T19:14:24.125496Z",
     "shell.execute_reply": "2025-01-21T19:14:24.124582Z"
    }
   },
   "outputs": [
    {
     "name": "stdout",
     "output_type": "stream",
     "text": [
      "(0/18) center: (168/0)\n",
      "(1/18) center.orig: (168/0)\n",
      "(2/18) subjectID: (168/0)\n",
      "(3/18) subjectID.orig: (168/0)\n",
      "(4/18) uniqueID: (168/0)\n",
      "(5/18) uniqueID.orig: (168/0)\n",
      "(6/18) dischargeCardiomegaly: (168/0)\n",
      "(7/18) dischargeCardiomegaly.orig: (168/0)\n",
      "(8/18) dischargeCardiacFailure: (168/0)\n",
      "(9/18) dischargeCardiacFailure.orig: (168/0)\n",
      "(10/18) dischargeCardiacDysfunctionByEcho: (168/0)\n",
      "(11/18) dischargeCardiacDysfunctionByEcho.orig: (168/0)\n",
      "(12/18) dischargeCardiacIschemiaByEKG: (168/0)\n",
      "(13/18) dischargeCardiacIschemiaByEKG.orig: (168/0)\n",
      "(14/18) dischargeHypotension: (168/0)\n",
      "(15/18) dischargeHypotension.orig: (168/0)\n",
      "(16/18) dischargeArrhythmia: (168/0)\n",
      "(17/18) dischargeArrhythmia.orig: (168/0)\n"
     ]
    }
   ],
   "source": [
    "COMBINE_harmonizer.column_info(df)"
   ]
  },
  {
   "cell_type": "markdown",
   "id": "1d956789",
   "metadata": {},
   "source": [
    "## 04-04-respiratory"
   ]
  },
  {
   "cell_type": "code",
   "execution_count": 128,
   "id": "d7569ffd",
   "metadata": {
    "execution": {
     "iopub.execute_input": "2025-01-21T19:14:24.129478Z",
     "iopub.status.busy": "2025-01-21T19:14:24.129142Z",
     "iopub.status.idle": "2025-01-21T19:14:24.131853Z",
     "shell.execute_reply": "2025-01-21T19:14:24.131402Z"
    }
   },
   "outputs": [],
   "source": [
    "base_filename = '04-04-respiratory.csv'"
   ]
  },
  {
   "cell_type": "code",
   "execution_count": 129,
   "id": "795d2424",
   "metadata": {
    "execution": {
     "iopub.execute_input": "2025-01-21T19:14:24.134619Z",
     "iopub.status.busy": "2025-01-21T19:14:24.134300Z",
     "iopub.status.idle": "2025-01-21T19:14:24.263337Z",
     "shell.execute_reply": "2025-01-21T19:14:24.262592Z"
    }
   },
   "outputs": [
    {
     "name": "stdout",
     "output_type": "stream",
     "text": [
      "(0/25) normalize_value: column: center\n",
      "(1/25) normalize_value: column: subjectID\n",
      "(2/25) normalize_value: column: uniqueID\n",
      "(3/25) normalize_value: column: dischargeMeconiumAspirationSyndrome\n",
      "(4/25) normalize_value: column: dischargePPHN\n",
      "(5/25) normalize_value: column: dischargePulmonaryHemorrhage\n",
      "(6/25) normalize_value: column: dischargePenumonia\n",
      "(7/25) normalize_value: column: dischargeChronicLungDisease\n",
      "(8/25) normalize_value: column: dischargeECMO\n",
      "(9/25) normalize_value: column: dischargeINO\n",
      "(10/25) normalize_value: column: dischargeVentilator_day\n",
      "(11/25) normalize_value: column: dischargeOxygen_day\n",
      "(12/25) normalize_value: column: dischargeCPAP_day\n",
      "(13/25) normalize_value: column: dischargePulmonaryStartDate1\n",
      "(14/25) normalize_value: column: dischargePulmonaryEndDate1\n",
      "(15/25) normalize_value: column: dischargePulmonaryStartTime1\n",
      "(16/25) normalize_value: column: dischargePulmonaryEndTime1\n",
      "(17/25) normalize_value: column: dischargePulmonaryStartDate2\n",
      "(18/25) normalize_value: column: dischargePulmonaryEndDate2\n",
      "(19/25) normalize_value: column: dischargePulmonaryStartTime2\n",
      "(20/25) normalize_value: column: dischargePulmonaryEndTime2\n",
      "(21/25) normalize_value: column: dischargePulmonaryStartDate3\n",
      "(22/25) normalize_value: column: dischargePulmonaryEndDate3\n",
      "(23/25) normalize_value: column: dischargePulmonaryStartTime3\n",
      "(24/25) normalize_value: column: dischargePulmonaryEndTime3\n"
     ]
    }
   ],
   "source": [
    "filename = os.sep.join([input_dir, base_filename])\n",
    "df = pd.read_csv(filename, dtype='O')\n",
    "df = COMBINE_harmonizer.normalize_value(df, _VALUE_MAP, order_map=_ORDER_MAP)\n",
    "\n",
    "out_filename = os.sep.join([out_dir, base_filename])\n",
    "df.to_csv(out_filename, index=False)"
   ]
  },
  {
   "cell_type": "code",
   "execution_count": 130,
   "id": "4446aaae",
   "metadata": {
    "execution": {
     "iopub.execute_input": "2025-01-21T19:14:24.268864Z",
     "iopub.status.busy": "2025-01-21T19:14:24.268438Z",
     "iopub.status.idle": "2025-01-21T19:14:24.279863Z",
     "shell.execute_reply": "2025-01-21T19:14:24.279258Z"
    }
   },
   "outputs": [
    {
     "name": "stdout",
     "output_type": "stream",
     "text": [
      "(0/50) center: (168/0)\n",
      "(1/50) center.orig: (168/0)\n",
      "(2/50) subjectID: (168/0)\n",
      "(3/50) subjectID.orig: (168/0)\n",
      "(4/50) uniqueID: (168/0)\n",
      "(5/50) uniqueID.orig: (168/0)\n",
      "(6/50) dischargeMeconiumAspirationSyndrome: (168/0)\n",
      "(7/50) dischargeMeconiumAspirationSyndrome.orig: (168/0)\n",
      "(8/50) dischargePPHN: (168/0)\n",
      "(9/50) dischargePPHN.orig: (168/0)\n",
      "(10/50) dischargePulmonaryHemorrhage: (168/0)\n",
      "(11/50) dischargePulmonaryHemorrhage.orig: (168/0)\n",
      "(12/50) dischargePenumonia: (168/0)\n",
      "(13/50) dischargePenumonia.orig: (168/0)\n",
      "(14/50) dischargeChronicLungDisease: (168/0)\n",
      "(15/50) dischargeChronicLungDisease.orig: (168/0)\n",
      "(16/50) dischargeECMO: (168/0)\n",
      "(17/50) dischargeECMO.orig: (168/0)\n",
      "(18/50) dischargeINO: (168/0)\n",
      "(19/50) dischargeINO.orig: (168/0)\n",
      "(20/50) dischargeVentilator_day: (168/0)\n",
      "(21/50) dischargeVentilator_day.orig: (168/0)\n",
      "(22/50) dischargeOxygen_day: (168/0)\n",
      "(23/50) dischargeOxygen_day.orig: (168/0)\n",
      "(24/50) dischargeCPAP_day: (168/0)\n",
      "(25/50) dischargeCPAP_day.orig: (168/0)\n",
      "(26/50) dischargePulmonaryStartDate1: (168/0)\n",
      "(27/50) dischargePulmonaryStartDate1.orig: (29/139)\n",
      "(28/50) dischargePulmonaryStartTime1: (168/0)\n",
      "(29/50) dischargePulmonaryStartTime1.orig: (28/140)\n",
      "(30/50) dischargePulmonaryEndDate1: (168/0)\n",
      "(31/50) dischargePulmonaryEndDate1.orig: (28/140)\n",
      "(32/50) dischargePulmonaryEndTime1: (168/0)\n",
      "(33/50) dischargePulmonaryEndTime1.orig: (27/141)\n",
      "(34/50) dischargePulmonaryStartDate2: (168/0)\n",
      "(35/50) dischargePulmonaryStartDate2.orig: (2/166)\n",
      "(36/50) dischargePulmonaryStartTime2: (168/0)\n",
      "(37/50) dischargePulmonaryStartTime2.orig: (2/166)\n",
      "(38/50) dischargePulmonaryEndDate2: (168/0)\n",
      "(39/50) dischargePulmonaryEndDate2.orig: (2/166)\n",
      "(40/50) dischargePulmonaryEndTime2: (168/0)\n",
      "(41/50) dischargePulmonaryEndTime2.orig: (2/166)\n",
      "(42/50) dischargePulmonaryStartDate3: (168/0)\n",
      "(43/50) dischargePulmonaryStartDate3.orig: (0/168)\n",
      "(44/50) dischargePulmonaryStartTime3: (168/0)\n",
      "(45/50) dischargePulmonaryStartTime3.orig: (0/168)\n",
      "(46/50) dischargePulmonaryEndDate3: (168/0)\n",
      "(47/50) dischargePulmonaryEndDate3.orig: (0/168)\n",
      "(48/50) dischargePulmonaryEndTime3: (168/0)\n",
      "(49/50) dischargePulmonaryEndTime3.orig: (0/168)\n"
     ]
    }
   ],
   "source": [
    "COMBINE_harmonizer.column_info(df)"
   ]
  },
  {
   "cell_type": "markdown",
   "id": "6279d4f0",
   "metadata": {},
   "source": [
    "## 04-05-hematology"
   ]
  },
  {
   "cell_type": "code",
   "execution_count": 131,
   "id": "b1b01ab8",
   "metadata": {
    "execution": {
     "iopub.execute_input": "2025-01-21T19:14:24.282613Z",
     "iopub.status.busy": "2025-01-21T19:14:24.282323Z",
     "iopub.status.idle": "2025-01-21T19:14:24.285735Z",
     "shell.execute_reply": "2025-01-21T19:14:24.285136Z"
    }
   },
   "outputs": [],
   "source": [
    "base_filename = '04-05-hematology.csv'"
   ]
  },
  {
   "cell_type": "code",
   "execution_count": 132,
   "id": "48fc9c7f",
   "metadata": {
    "execution": {
     "iopub.execute_input": "2025-01-21T19:14:24.288679Z",
     "iopub.status.busy": "2025-01-21T19:14:24.288414Z",
     "iopub.status.idle": "2025-01-21T19:14:24.398855Z",
     "shell.execute_reply": "2025-01-21T19:14:24.391129Z"
    }
   },
   "outputs": [
    {
     "name": "stdout",
     "output_type": "stream",
     "text": [
      "(0/4) normalize_value: column: center\n",
      "(1/4) normalize_value: column: subjectID\n",
      "(2/4) normalize_value: column: uniqueID\n",
      "(3/4) normalize_value: column: dischargeDIC\n"
     ]
    }
   ],
   "source": [
    "filename = os.sep.join([input_dir, base_filename])\n",
    "df = pd.read_csv(filename, dtype='O')\n",
    "df = COMBINE_harmonizer.normalize_value(df, _VALUE_MAP, order_map=_ORDER_MAP)\n",
    "\n",
    "out_filename = os.sep.join([out_dir, base_filename])\n",
    "df.to_csv(out_filename, index=False)"
   ]
  },
  {
   "cell_type": "code",
   "execution_count": 133,
   "id": "d7c681f7",
   "metadata": {
    "execution": {
     "iopub.execute_input": "2025-01-21T19:14:24.404637Z",
     "iopub.status.busy": "2025-01-21T19:14:24.403472Z",
     "iopub.status.idle": "2025-01-21T19:14:24.417328Z",
     "shell.execute_reply": "2025-01-21T19:14:24.416771Z"
    }
   },
   "outputs": [
    {
     "name": "stdout",
     "output_type": "stream",
     "text": [
      "(0/8) center: (168/0)\n",
      "(1/8) center.orig: (168/0)\n",
      "(2/8) subjectID: (168/0)\n",
      "(3/8) subjectID.orig: (168/0)\n",
      "(4/8) uniqueID: (168/0)\n",
      "(5/8) uniqueID.orig: (168/0)\n",
      "(6/8) dischargeDIC: (168/0)\n",
      "(7/8) dischargeDIC.orig: (168/0)\n"
     ]
    }
   ],
   "source": [
    "COMBINE_harmonizer.column_info(df)"
   ]
  },
  {
   "cell_type": "markdown",
   "id": "2edc88d7",
   "metadata": {},
   "source": [
    "## 04-06-metabolic"
   ]
  },
  {
   "cell_type": "code",
   "execution_count": 134,
   "id": "0f411fa6",
   "metadata": {
    "execution": {
     "iopub.execute_input": "2025-01-21T19:14:24.419969Z",
     "iopub.status.busy": "2025-01-21T19:14:24.419653Z",
     "iopub.status.idle": "2025-01-21T19:14:24.422901Z",
     "shell.execute_reply": "2025-01-21T19:14:24.422312Z"
    }
   },
   "outputs": [],
   "source": [
    "base_filename = '04-06-metabolic.csv'"
   ]
  },
  {
   "cell_type": "code",
   "execution_count": 135,
   "id": "109e3cc3",
   "metadata": {
    "execution": {
     "iopub.execute_input": "2025-01-21T19:14:24.425415Z",
     "iopub.status.busy": "2025-01-21T19:14:24.425192Z",
     "iopub.status.idle": "2025-01-21T19:14:24.545425Z",
     "shell.execute_reply": "2025-01-21T19:14:24.543787Z"
    }
   },
   "outputs": [
    {
     "name": "stdout",
     "output_type": "stream",
     "text": [
      "(0/6) normalize_value: column: center\n",
      "(1/6) normalize_value: column: subjectID\n",
      "(2/6) normalize_value: column: uniqueID\n",
      "(3/6) normalize_value: column: dischargeHypoglycemia\n",
      "(4/6) normalize_value: column: dischargeHypocalcemia\n",
      "(5/6) normalize_value: column: dischargeHypomagnesemia\n"
     ]
    }
   ],
   "source": [
    "filename = os.sep.join([input_dir, base_filename])\n",
    "df = pd.read_csv(filename, dtype='O')\n",
    "df = COMBINE_harmonizer.normalize_value(df, _VALUE_MAP, order_map=_ORDER_MAP)\n",
    "\n",
    "out_filename = os.sep.join([out_dir, base_filename])\n",
    "df.to_csv(out_filename, index=False)"
   ]
  },
  {
   "cell_type": "code",
   "execution_count": 136,
   "id": "7391274e",
   "metadata": {
    "execution": {
     "iopub.execute_input": "2025-01-21T19:14:24.561479Z",
     "iopub.status.busy": "2025-01-21T19:14:24.560714Z",
     "iopub.status.idle": "2025-01-21T19:14:24.569285Z",
     "shell.execute_reply": "2025-01-21T19:14:24.568665Z"
    }
   },
   "outputs": [
    {
     "name": "stdout",
     "output_type": "stream",
     "text": [
      "(0/12) center: (168/0)\n",
      "(1/12) center.orig: (168/0)\n",
      "(2/12) subjectID: (168/0)\n",
      "(3/12) subjectID.orig: (168/0)\n",
      "(4/12) uniqueID: (168/0)\n",
      "(5/12) uniqueID.orig: (168/0)\n",
      "(6/12) dischargeHypoglycemia: (168/0)\n",
      "(7/12) dischargeHypoglycemia.orig: (168/0)\n",
      "(8/12) dischargeHypocalcemia: (168/0)\n",
      "(9/12) dischargeHypocalcemia.orig: (168/0)\n",
      "(10/12) dischargeHypomagnesemia: (168/0)\n",
      "(11/12) dischargeHypomagnesemia.orig: (168/0)\n"
     ]
    }
   ],
   "source": [
    "COMBINE_harmonizer.column_info(df)"
   ]
  },
  {
   "cell_type": "markdown",
   "id": "7b7580ab",
   "metadata": {},
   "source": [
    "## 04-07-renal"
   ]
  },
  {
   "cell_type": "code",
   "execution_count": 137,
   "id": "b729a351",
   "metadata": {
    "execution": {
     "iopub.execute_input": "2025-01-21T19:14:24.574750Z",
     "iopub.status.busy": "2025-01-21T19:14:24.574446Z",
     "iopub.status.idle": "2025-01-21T19:14:24.577402Z",
     "shell.execute_reply": "2025-01-21T19:14:24.576853Z"
    }
   },
   "outputs": [],
   "source": [
    "base_filename = '04-07-renal.csv'"
   ]
  },
  {
   "cell_type": "code",
   "execution_count": 138,
   "id": "2fb7e0d8",
   "metadata": {
    "execution": {
     "iopub.execute_input": "2025-01-21T19:14:24.580157Z",
     "iopub.status.busy": "2025-01-21T19:14:24.579866Z",
     "iopub.status.idle": "2025-01-21T19:14:24.696720Z",
     "shell.execute_reply": "2025-01-21T19:14:24.696073Z"
    }
   },
   "outputs": [
    {
     "name": "stdout",
     "output_type": "stream",
     "text": [
      "(0/6) normalize_value: column: center\n",
      "(1/6) normalize_value: column: subjectID\n",
      "(2/6) normalize_value: column: uniqueID\n",
      "(3/6) normalize_value: column: dischargeOliguria\n",
      "(4/6) normalize_value: column: dischargeAnuria\n",
      "(5/6) normalize_value: column: dischargeDialysis\n"
     ]
    }
   ],
   "source": [
    "filename = os.sep.join([input_dir, base_filename])\n",
    "df = pd.read_csv(filename, dtype='O')\n",
    "df = COMBINE_harmonizer.normalize_value(df, _VALUE_MAP, order_map=_ORDER_MAP)\n",
    "\n",
    "out_filename = os.sep.join([out_dir, base_filename])\n",
    "df.to_csv(out_filename, index=False)"
   ]
  },
  {
   "cell_type": "code",
   "execution_count": 139,
   "id": "86bc3e0a",
   "metadata": {
    "execution": {
     "iopub.execute_input": "2025-01-21T19:14:24.703666Z",
     "iopub.status.busy": "2025-01-21T19:14:24.703227Z",
     "iopub.status.idle": "2025-01-21T19:14:24.708032Z",
     "shell.execute_reply": "2025-01-21T19:14:24.707668Z"
    }
   },
   "outputs": [
    {
     "name": "stdout",
     "output_type": "stream",
     "text": [
      "(0/12) center: (168/0)\n",
      "(1/12) center.orig: (168/0)\n",
      "(2/12) subjectID: (168/0)\n",
      "(3/12) subjectID.orig: (168/0)\n",
      "(4/12) uniqueID: (168/0)\n",
      "(5/12) uniqueID.orig: (168/0)\n",
      "(6/12) dischargeOliguria: (168/0)\n",
      "(7/12) dischargeOliguria.orig: (168/0)\n",
      "(8/12) dischargeAnuria: (168/0)\n",
      "(9/12) dischargeAnuria.orig: (168/0)\n",
      "(10/12) dischargeDialysis: (168/0)\n",
      "(11/12) dischargeDialysis.orig: (168/0)\n"
     ]
    }
   ],
   "source": [
    "COMBINE_harmonizer.column_info(df)"
   ]
  },
  {
   "cell_type": "markdown",
   "id": "41b51ecd",
   "metadata": {},
   "source": [
    "## 04-08-gastrointestinal"
   ]
  },
  {
   "cell_type": "code",
   "execution_count": 140,
   "id": "3dee18f8",
   "metadata": {
    "execution": {
     "iopub.execute_input": "2025-01-21T19:14:24.709984Z",
     "iopub.status.busy": "2025-01-21T19:14:24.709780Z",
     "iopub.status.idle": "2025-01-21T19:14:24.712104Z",
     "shell.execute_reply": "2025-01-21T19:14:24.711729Z"
    }
   },
   "outputs": [],
   "source": [
    "base_filename = '04-08-gastrointestinal.csv'"
   ]
  },
  {
   "cell_type": "code",
   "execution_count": 141,
   "id": "d07d418d",
   "metadata": {
    "execution": {
     "iopub.execute_input": "2025-01-21T19:14:24.714374Z",
     "iopub.status.busy": "2025-01-21T19:14:24.714148Z",
     "iopub.status.idle": "2025-01-21T19:14:24.823522Z",
     "shell.execute_reply": "2025-01-21T19:14:24.822439Z"
    }
   },
   "outputs": [
    {
     "name": "stdout",
     "output_type": "stream",
     "text": [
      "(0/7) normalize_value: column: center\n",
      "(1/7) normalize_value: column: subjectID\n",
      "(2/7) normalize_value: column: uniqueID\n",
      "(3/7) normalize_value: column: dischargeNEC\n",
      "(4/7) normalize_value: column: dischargeHepaticDysfunction\n",
      "(5/7) normalize_value: column: dischargeTubeFeedingDuration_day\n",
      "(6/7) normalize_value: column: dischargeFullNippleFeed_day\n"
     ]
    }
   ],
   "source": [
    "filename = os.sep.join([input_dir, base_filename])\n",
    "df = pd.read_csv(filename, dtype='O')\n",
    "df = COMBINE_harmonizer.normalize_value(df, _VALUE_MAP, order_map=_ORDER_MAP)\n",
    "\n",
    "out_filename = os.sep.join([out_dir, base_filename])\n",
    "df.to_csv(out_filename, index=False)"
   ]
  },
  {
   "cell_type": "code",
   "execution_count": 142,
   "id": "f67ccabb",
   "metadata": {
    "execution": {
     "iopub.execute_input": "2025-01-21T19:14:24.833553Z",
     "iopub.status.busy": "2025-01-21T19:14:24.833052Z",
     "iopub.status.idle": "2025-01-21T19:14:24.844264Z",
     "shell.execute_reply": "2025-01-21T19:14:24.843582Z"
    }
   },
   "outputs": [
    {
     "name": "stdout",
     "output_type": "stream",
     "text": [
      "(0/14) center: (168/0)\n",
      "(1/14) center.orig: (168/0)\n",
      "(2/14) subjectID: (168/0)\n",
      "(3/14) subjectID.orig: (168/0)\n",
      "(4/14) uniqueID: (168/0)\n",
      "(5/14) uniqueID.orig: (168/0)\n",
      "(6/14) dischargeTubeFeedingDuration_day: (168/0)\n",
      "(7/14) dischargeTubeFeedingDuration_day.orig: (165/3)\n",
      "(8/14) dischargeFullNippleFeed_day: (168/0)\n",
      "(9/14) dischargeFullNippleFeed_day.orig: (137/31)\n",
      "(10/14) dischargeNEC: (168/0)\n",
      "(11/14) dischargeNEC.orig: (168/0)\n",
      "(12/14) dischargeHepaticDysfunction: (168/0)\n",
      "(13/14) dischargeHepaticDysfunction.orig: (168/0)\n"
     ]
    }
   ],
   "source": [
    "COMBINE_harmonizer.column_info(df)"
   ]
  },
  {
   "cell_type": "markdown",
   "id": "f6d92643",
   "metadata": {},
   "source": [
    "## 04-09-skin"
   ]
  },
  {
   "cell_type": "code",
   "execution_count": 143,
   "id": "667a64c4",
   "metadata": {
    "execution": {
     "iopub.execute_input": "2025-01-21T19:14:24.848548Z",
     "iopub.status.busy": "2025-01-21T19:14:24.848316Z",
     "iopub.status.idle": "2025-01-21T19:14:24.850877Z",
     "shell.execute_reply": "2025-01-21T19:14:24.850299Z"
    }
   },
   "outputs": [],
   "source": [
    "base_filename = '04-09-skin.csv'"
   ]
  },
  {
   "cell_type": "code",
   "execution_count": 144,
   "id": "59ee327a",
   "metadata": {
    "execution": {
     "iopub.execute_input": "2025-01-21T19:14:24.853561Z",
     "iopub.status.busy": "2025-01-21T19:14:24.853303Z",
     "iopub.status.idle": "2025-01-21T19:14:24.953700Z",
     "shell.execute_reply": "2025-01-21T19:14:24.952445Z"
    }
   },
   "outputs": [
    {
     "name": "stdout",
     "output_type": "stream",
     "text": [
      "(0/3) normalize_value: column: center\n",
      "(1/3) normalize_value: column: subjectID\n",
      "(2/3) normalize_value: column: uniqueID\n"
     ]
    }
   ],
   "source": [
    "filename = os.sep.join([input_dir, base_filename])\n",
    "df = pd.read_csv(filename, dtype='O')\n",
    "df = COMBINE_harmonizer.normalize_value(df, _VALUE_MAP, order_map=_ORDER_MAP)\n",
    "\n",
    "out_filename = os.sep.join([out_dir, base_filename])\n",
    "df.to_csv(out_filename, index=False)"
   ]
  },
  {
   "cell_type": "code",
   "execution_count": 145,
   "id": "5f5808f9",
   "metadata": {
    "execution": {
     "iopub.execute_input": "2025-01-21T19:14:24.959366Z",
     "iopub.status.busy": "2025-01-21T19:14:24.958773Z",
     "iopub.status.idle": "2025-01-21T19:14:24.965618Z",
     "shell.execute_reply": "2025-01-21T19:14:24.964970Z"
    }
   },
   "outputs": [
    {
     "name": "stdout",
     "output_type": "stream",
     "text": [
      "(0/6) center: (168/0)\n",
      "(1/6) center.orig: (168/0)\n",
      "(2/6) subjectID: (168/0)\n",
      "(3/6) subjectID.orig: (168/0)\n",
      "(4/6) uniqueID: (168/0)\n",
      "(5/6) uniqueID.orig: (168/0)\n"
     ]
    }
   ],
   "source": [
    "COMBINE_harmonizer.column_info(df)"
   ]
  },
  {
   "cell_type": "markdown",
   "id": "7598fa22",
   "metadata": {},
   "source": [
    "## 04-10-auditory"
   ]
  },
  {
   "cell_type": "code",
   "execution_count": 146,
   "id": "297255a8",
   "metadata": {
    "execution": {
     "iopub.execute_input": "2025-01-21T19:14:24.969656Z",
     "iopub.status.busy": "2025-01-21T19:14:24.969280Z",
     "iopub.status.idle": "2025-01-21T19:14:24.973203Z",
     "shell.execute_reply": "2025-01-21T19:14:24.972526Z"
    }
   },
   "outputs": [],
   "source": [
    "base_filename = '04-10-auditory.csv'"
   ]
  },
  {
   "cell_type": "code",
   "execution_count": 147,
   "id": "8304ca79",
   "metadata": {
    "execution": {
     "iopub.execute_input": "2025-01-21T19:14:24.976365Z",
     "iopub.status.busy": "2025-01-21T19:14:24.975812Z",
     "iopub.status.idle": "2025-01-21T19:14:25.086602Z",
     "shell.execute_reply": "2025-01-21T19:14:25.085288Z"
    }
   },
   "outputs": [
    {
     "name": "stdout",
     "output_type": "stream",
     "text": [
      "(0/5) normalize_value: column: center\n",
      "(1/5) normalize_value: column: subjectID\n",
      "(2/5) normalize_value: column: uniqueID\n",
      "(3/5) normalize_value: column: dischargeHearingTest\n",
      "(4/5) normalize_value: column: dischargeHearingTestNormal\n"
     ]
    }
   ],
   "source": [
    "filename = os.sep.join([input_dir, base_filename])\n",
    "df = pd.read_csv(filename, dtype='O')\n",
    "df = COMBINE_harmonizer.normalize_value(df, _VALUE_MAP, order_map=_ORDER_MAP)\n",
    "\n",
    "out_filename = os.sep.join([out_dir, base_filename])\n",
    "df.to_csv(out_filename, index=False)"
   ]
  },
  {
   "cell_type": "code",
   "execution_count": 148,
   "id": "703b71b0",
   "metadata": {
    "execution": {
     "iopub.execute_input": "2025-01-21T19:14:25.093695Z",
     "iopub.status.busy": "2025-01-21T19:14:25.092958Z",
     "iopub.status.idle": "2025-01-21T19:14:25.102917Z",
     "shell.execute_reply": "2025-01-21T19:14:25.101513Z"
    }
   },
   "outputs": [
    {
     "name": "stdout",
     "output_type": "stream",
     "text": [
      "(0/10) center: (168/0)\n",
      "(1/10) center.orig: (168/0)\n",
      "(2/10) subjectID: (168/0)\n",
      "(3/10) subjectID.orig: (168/0)\n",
      "(4/10) uniqueID: (168/0)\n",
      "(5/10) uniqueID.orig: (168/0)\n",
      "(6/10) dischargeHearingTest: (168/0)\n",
      "(7/10) dischargeHearingTest.orig: (168/0)\n",
      "(8/10) dischargeHearingTestNormal: (168/0)\n",
      "(9/10) dischargeHearingTestNormal.orig: (131/37)\n"
     ]
    }
   ],
   "source": [
    "COMBINE_harmonizer.column_info(df)"
   ]
  },
  {
   "cell_type": "markdown",
   "id": "ad73bc2c",
   "metadata": {},
   "source": [
    "## 04-11. Surgery"
   ]
  },
  {
   "cell_type": "code",
   "execution_count": 149,
   "id": "8b748f48",
   "metadata": {
    "execution": {
     "iopub.execute_input": "2025-01-21T19:14:25.105975Z",
     "iopub.status.busy": "2025-01-21T19:14:25.105746Z",
     "iopub.status.idle": "2025-01-21T19:14:25.108735Z",
     "shell.execute_reply": "2025-01-21T19:14:25.108205Z"
    }
   },
   "outputs": [],
   "source": [
    "base_filename = '04-11-surgery.csv'"
   ]
  },
  {
   "cell_type": "code",
   "execution_count": 150,
   "id": "16aa3862",
   "metadata": {
    "execution": {
     "iopub.execute_input": "2025-01-21T19:14:25.111227Z",
     "iopub.status.busy": "2025-01-21T19:14:25.110995Z",
     "iopub.status.idle": "2025-01-21T19:14:25.234219Z",
     "shell.execute_reply": "2025-01-21T19:14:25.233226Z"
    }
   },
   "outputs": [
    {
     "name": "stdout",
     "output_type": "stream",
     "text": [
      "(0/7) normalize_value: column: center\n",
      "(1/7) normalize_value: column: subjectID\n",
      "(2/7) normalize_value: column: uniqueID\n",
      "(3/7) normalize_value: column: dischargeMajorSurgery\n",
      "(4/7) normalize_value: column: dischargeSurgeryCode1\n",
      "(5/7) normalize_value: column: dischargeSurgeryCode2\n",
      "(6/7) normalize_value: column: dischargeSurgeryCode3\n"
     ]
    }
   ],
   "source": [
    "filename = os.sep.join([input_dir, base_filename])\n",
    "df = pd.read_csv(filename, dtype='O')\n",
    "df = COMBINE_harmonizer.normalize_value(df, _VALUE_MAP, order_map=_ORDER_MAP)\n",
    "\n",
    "out_filename = os.sep.join([out_dir, base_filename])\n",
    "df.to_csv(out_filename, index=False)"
   ]
  },
  {
   "cell_type": "code",
   "execution_count": 151,
   "id": "3c7f838b",
   "metadata": {
    "execution": {
     "iopub.execute_input": "2025-01-21T19:14:25.239773Z",
     "iopub.status.busy": "2025-01-21T19:14:25.239082Z",
     "iopub.status.idle": "2025-01-21T19:14:25.248708Z",
     "shell.execute_reply": "2025-01-21T19:14:25.248001Z"
    }
   },
   "outputs": [
    {
     "name": "stdout",
     "output_type": "stream",
     "text": [
      "(0/14) center: (168/0)\n",
      "(1/14) center.orig: (168/0)\n",
      "(2/14) subjectID: (168/0)\n",
      "(3/14) subjectID.orig: (168/0)\n",
      "(4/14) uniqueID: (168/0)\n",
      "(5/14) uniqueID.orig: (168/0)\n",
      "(6/14) dischargeMajorSurgery: (168/0)\n",
      "(7/14) dischargeMajorSurgery.orig: (168/0)\n",
      "(8/14) dischargeSurgeryCode1: (168/0)\n",
      "(9/14) dischargeSurgeryCode1.orig: (9/159)\n",
      "(10/14) dischargeSurgeryCode2: (168/0)\n",
      "(11/14) dischargeSurgeryCode2.orig: (3/165)\n",
      "(12/14) dischargeSurgeryCode3: (168/0)\n",
      "(13/14) dischargeSurgeryCode3.orig: (0/168)\n"
     ]
    }
   ],
   "source": [
    "COMBINE_harmonizer.column_info(df)"
   ]
  },
  {
   "cell_type": "markdown",
   "id": "4977412b",
   "metadata": {},
   "source": [
    "## 04-12-infection"
   ]
  },
  {
   "cell_type": "code",
   "execution_count": 152,
   "id": "b0fdcb77",
   "metadata": {
    "execution": {
     "iopub.execute_input": "2025-01-21T19:14:25.251933Z",
     "iopub.status.busy": "2025-01-21T19:14:25.251653Z",
     "iopub.status.idle": "2025-01-21T19:14:25.254780Z",
     "shell.execute_reply": "2025-01-21T19:14:25.254210Z"
    }
   },
   "outputs": [],
   "source": [
    "base_filename = '04-12-infection.csv'"
   ]
  },
  {
   "cell_type": "code",
   "execution_count": 153,
   "id": "6da3699c",
   "metadata": {
    "execution": {
     "iopub.execute_input": "2025-01-21T19:14:25.257366Z",
     "iopub.status.busy": "2025-01-21T19:14:25.257185Z",
     "iopub.status.idle": "2025-01-21T19:14:25.365477Z",
     "shell.execute_reply": "2025-01-21T19:14:25.364646Z"
    }
   },
   "outputs": [
    {
     "name": "stdout",
     "output_type": "stream",
     "text": [
      "(0/11) normalize_value: column: center\n",
      "(1/11) normalize_value: column: subjectID\n",
      "(2/11) normalize_value: column: uniqueID\n",
      "(3/11) normalize_value: column: dischargeSepticemia\n",
      "(4/11) normalize_value: column: dischargeMeningitisEncephalitis\n",
      "(5/11) normalize_value: column: dischargeSepticemiaOrganismCode1\n",
      "(6/11) normalize_value: column: dischargeSepticemiaOrganismCode2\n",
      "(7/11) normalize_value: column: dischargeSepticemiaOrganismCode3\n",
      "(8/11) normalize_value: column: dischargeMeningitisOrganismCode1\n",
      "(9/11) normalize_value: column: dischargeMeningitisOrganismCode2\n",
      "(10/11) normalize_value: column: dischargeMeningitisOrganismCode3\n"
     ]
    }
   ],
   "source": [
    "filename = os.sep.join([input_dir, base_filename])\n",
    "df = pd.read_csv(filename, dtype='O')\n",
    "df = COMBINE_harmonizer.normalize_value(df, _VALUE_MAP, order_map=_ORDER_MAP)\n",
    "\n",
    "out_filename = os.sep.join([out_dir, base_filename])\n",
    "df.to_csv(out_filename, index=False)"
   ]
  },
  {
   "cell_type": "code",
   "execution_count": 154,
   "id": "1926873b",
   "metadata": {
    "execution": {
     "iopub.execute_input": "2025-01-21T19:14:25.371291Z",
     "iopub.status.busy": "2025-01-21T19:14:25.370714Z",
     "iopub.status.idle": "2025-01-21T19:14:25.381354Z",
     "shell.execute_reply": "2025-01-21T19:14:25.380771Z"
    }
   },
   "outputs": [
    {
     "name": "stdout",
     "output_type": "stream",
     "text": [
      "(0/22) center: (168/0)\n",
      "(1/22) center.orig: (168/0)\n",
      "(2/22) subjectID: (168/0)\n",
      "(3/22) subjectID.orig: (168/0)\n",
      "(4/22) uniqueID: (168/0)\n",
      "(5/22) uniqueID.orig: (168/0)\n",
      "(6/22) dischargeSepticemia: (168/0)\n",
      "(7/22) dischargeSepticemia.orig: (168/0)\n",
      "(8/22) dischargeSepticemiaOrganismCode1: (168/0)\n",
      "(9/22) dischargeSepticemiaOrganismCode1.orig: (3/165)\n",
      "(10/22) dischargeSepticemiaOrganismCode2: (168/0)\n",
      "(11/22) dischargeSepticemiaOrganismCode2.orig: (1/167)\n",
      "(12/22) dischargeSepticemiaOrganismCode3: (168/0)\n",
      "(13/22) dischargeSepticemiaOrganismCode3.orig: (1/167)\n",
      "(14/22) dischargeMeningitisEncephalitis: (168/0)\n",
      "(15/22) dischargeMeningitisEncephalitis.orig: (168/0)\n",
      "(16/22) dischargeMeningitisOrganismCode1: (168/0)\n",
      "(17/22) dischargeMeningitisOrganismCode1.orig: (2/166)\n",
      "(18/22) dischargeMeningitisOrganismCode2: (168/0)\n",
      "(19/22) dischargeMeningitisOrganismCode2.orig: (0/168)\n",
      "(20/22) dischargeMeningitisOrganismCode3: (168/0)\n",
      "(21/22) dischargeMeningitisOrganismCode3.orig: (0/168)\n"
     ]
    }
   ],
   "source": [
    "COMBINE_harmonizer.column_info(df)"
   ]
  },
  {
   "cell_type": "markdown",
   "id": "b962bb0d",
   "metadata": {},
   "source": [
    "## 04-13-seizure"
   ]
  },
  {
   "cell_type": "code",
   "execution_count": 155,
   "id": "39e0cb3b",
   "metadata": {
    "execution": {
     "iopub.execute_input": "2025-01-21T19:14:25.387317Z",
     "iopub.status.busy": "2025-01-21T19:14:25.386708Z",
     "iopub.status.idle": "2025-01-21T19:14:25.392600Z",
     "shell.execute_reply": "2025-01-21T19:14:25.390585Z"
    }
   },
   "outputs": [],
   "source": [
    "base_filename = '04-13-seizure.csv'"
   ]
  },
  {
   "cell_type": "code",
   "execution_count": 156,
   "id": "1cc37bc7",
   "metadata": {
    "execution": {
     "iopub.execute_input": "2025-01-21T19:14:25.397413Z",
     "iopub.status.busy": "2025-01-21T19:14:25.397074Z",
     "iopub.status.idle": "2025-01-21T19:14:25.526951Z",
     "shell.execute_reply": "2025-01-21T19:14:25.526054Z"
    }
   },
   "outputs": [
    {
     "name": "stdout",
     "output_type": "stream",
     "text": [
      "(0/16) normalize_value: column: center\n",
      "(1/16) normalize_value: column: subjectID\n",
      "(2/16) normalize_value: column: uniqueID\n",
      "(3/16) normalize_value: column: dischargeSeizure\n",
      "(4/16) normalize_value: column: dischargeSeizurePreIntervention\n",
      "(5/16) normalize_value: column: dischargeSeizureMaintenance\n",
      "(6/16) normalize_value: column: dischargeSeizureRewarming\n",
      "(7/16) normalize_value: column: dischargeSeizurePostIntervention\n",
      "(8/16) normalize_value: column: dischargeEEG\n",
      "(9/16) normalize_value: column: dischargeEEGFindingConsistentWithSeizure\n",
      "(10/16) normalize_value: column: dischargeEEGAbnormalBackgroundActivity\n",
      "(11/16) normalize_value: column: dischargeAnticonvulsantsOver72H\n",
      "(12/16) normalize_value: column: dischargeEEGFindingConsistentWithSeizureDate\n",
      "(13/16) normalize_value: column: dischargeEEGFindingConsistentWithSeizureTime\n",
      "(14/16) normalize_value: column: dischargeEEGAbnormalBackgroundActivityDate\n",
      "(15/16) normalize_value: column: dischargeEEGAbnormalBackgroundActivityTime\n"
     ]
    }
   ],
   "source": [
    "filename = os.sep.join([input_dir, base_filename])\n",
    "df = pd.read_csv(filename, dtype='O')\n",
    "df = COMBINE_harmonizer.normalize_value(df, _VALUE_MAP, order_map=_ORDER_MAP)\n",
    "\n",
    "out_filename = os.sep.join([out_dir, base_filename])\n",
    "df.to_csv(out_filename, index=False)"
   ]
  },
  {
   "cell_type": "code",
   "execution_count": 157,
   "id": "71b510a2",
   "metadata": {
    "execution": {
     "iopub.execute_input": "2025-01-21T19:14:25.530662Z",
     "iopub.status.busy": "2025-01-21T19:14:25.530327Z",
     "iopub.status.idle": "2025-01-21T19:14:25.540336Z",
     "shell.execute_reply": "2025-01-21T19:14:25.539743Z"
    }
   },
   "outputs": [
    {
     "name": "stdout",
     "output_type": "stream",
     "text": [
      "(0/32) center: (168/0)\n",
      "(1/32) center.orig: (168/0)\n",
      "(2/32) subjectID: (168/0)\n",
      "(3/32) subjectID.orig: (168/0)\n",
      "(4/32) uniqueID: (168/0)\n",
      "(5/32) uniqueID.orig: (168/0)\n",
      "(6/32) dischargeSeizure: (168/0)\n",
      "(7/32) dischargeSeizure.orig: (168/0)\n",
      "(8/32) dischargeSeizurePreIntervention: (168/0)\n",
      "(9/32) dischargeSeizurePreIntervention.orig: (128/40)\n",
      "(10/32) dischargeSeizureMaintenance: (168/0)\n",
      "(11/32) dischargeSeizureMaintenance.orig: (128/40)\n",
      "(12/32) dischargeSeizureRewarming: (168/0)\n",
      "(13/32) dischargeSeizureRewarming.orig: (128/40)\n",
      "(14/32) dischargeSeizurePostIntervention: (168/0)\n",
      "(15/32) dischargeSeizurePostIntervention.orig: (128/40)\n",
      "(16/32) dischargeEEG: (168/0)\n",
      "(17/32) dischargeEEG.orig: (168/0)\n",
      "(18/32) dischargeEEGFindingConsistentWithSeizure: (168/0)\n",
      "(19/32) dischargeEEGFindingConsistentWithSeizure.orig: (139/29)\n",
      "(20/32) dischargeEEGFindingConsistentWithSeizureDate: (168/0)\n",
      "(21/32) dischargeEEGFindingConsistentWithSeizureDate.orig: (136/32)\n",
      "(22/32) dischargeEEGFindingConsistentWithSeizureTime: (168/0)\n",
      "(23/32) dischargeEEGFindingConsistentWithSeizureTime.orig: (124/44)\n",
      "(24/32) dischargeEEGAbnormalBackgroundActivity: (168/0)\n",
      "(25/32) dischargeEEGAbnormalBackgroundActivity.orig: (168/0)\n",
      "(26/32) dischargeEEGAbnormalBackgroundActivityDate: (168/0)\n",
      "(27/32) dischargeEEGAbnormalBackgroundActivityDate.orig: (97/71)\n",
      "(28/32) dischargeEEGAbnormalBackgroundActivityTime: (168/0)\n",
      "(29/32) dischargeEEGAbnormalBackgroundActivityTime.orig: (81/87)\n",
      "(30/32) dischargeAnticonvulsantsOver72H: (168/0)\n",
      "(31/32) dischargeAnticonvulsantsOver72H.orig: (168/0)\n"
     ]
    }
   ],
   "source": [
    "COMBINE_harmonizer.column_info(df)"
   ]
  },
  {
   "cell_type": "markdown",
   "id": "736cf7fa",
   "metadata": {},
   "source": [
    "## 04-14-birth-defect"
   ]
  },
  {
   "cell_type": "code",
   "execution_count": 158,
   "id": "829f639f",
   "metadata": {
    "execution": {
     "iopub.execute_input": "2025-01-21T19:14:25.543470Z",
     "iopub.status.busy": "2025-01-21T19:14:25.543199Z",
     "iopub.status.idle": "2025-01-21T19:14:25.546085Z",
     "shell.execute_reply": "2025-01-21T19:14:25.545650Z"
    }
   },
   "outputs": [],
   "source": [
    "base_filename = '04-14-birth-defect.csv'"
   ]
  },
  {
   "cell_type": "code",
   "execution_count": 159,
   "id": "7cca34da",
   "metadata": {
    "execution": {
     "iopub.execute_input": "2025-01-21T19:14:25.548495Z",
     "iopub.status.busy": "2025-01-21T19:14:25.548289Z",
     "iopub.status.idle": "2025-01-21T19:14:25.676928Z",
     "shell.execute_reply": "2025-01-21T19:14:25.673722Z"
    }
   },
   "outputs": [
    {
     "name": "stdout",
     "output_type": "stream",
     "text": [
      "(0/7) normalize_value: column: center\n",
      "(1/7) normalize_value: column: subjectID\n",
      "(2/7) normalize_value: column: uniqueID\n",
      "(3/7) normalize_value: column: dischargeSyndromeMalformation\n",
      "(4/7) normalize_value: column: dischargeBirthDefectCode1\n",
      "(5/7) normalize_value: column: dischargeBirthDefectCode2\n",
      "(6/7) normalize_value: column: dischargeBirthDefectCode3\n"
     ]
    }
   ],
   "source": [
    "filename = os.sep.join([input_dir, base_filename])\n",
    "df = pd.read_csv(filename, dtype='O')\n",
    "df = COMBINE_harmonizer.normalize_value(df, _VALUE_MAP, order_map=_ORDER_MAP)\n",
    "\n",
    "out_filename = os.sep.join([out_dir, base_filename])\n",
    "df.to_csv(out_filename, index=False)"
   ]
  },
  {
   "cell_type": "code",
   "execution_count": 160,
   "id": "21ef994d",
   "metadata": {
    "execution": {
     "iopub.execute_input": "2025-01-21T19:14:25.684688Z",
     "iopub.status.busy": "2025-01-21T19:14:25.683423Z",
     "iopub.status.idle": "2025-01-21T19:14:25.697359Z",
     "shell.execute_reply": "2025-01-21T19:14:25.696726Z"
    }
   },
   "outputs": [
    {
     "name": "stdout",
     "output_type": "stream",
     "text": [
      "(0/14) center: (168/0)\n",
      "(1/14) center.orig: (168/0)\n",
      "(2/14) subjectID: (168/0)\n",
      "(3/14) subjectID.orig: (168/0)\n",
      "(4/14) uniqueID: (168/0)\n",
      "(5/14) uniqueID.orig: (168/0)\n",
      "(6/14) dischargeSyndromeMalformation: (168/0)\n",
      "(7/14) dischargeSyndromeMalformation.orig: (168/0)\n",
      "(8/14) dischargeBirthDefectCode1: (168/0)\n",
      "(9/14) dischargeBirthDefectCode1.orig: (3/165)\n",
      "(10/14) dischargeBirthDefectCode2: (168/0)\n",
      "(11/14) dischargeBirthDefectCode2.orig: (0/168)\n",
      "(12/14) dischargeBirthDefectCode3: (168/0)\n",
      "(13/14) dischargeBirthDefectCode3.orig: (0/168)\n"
     ]
    }
   ],
   "source": [
    "COMBINE_harmonizer.column_info(df)"
   ]
  },
  {
   "cell_type": "markdown",
   "id": "66bba331",
   "metadata": {},
   "source": [
    "## 04-15-home-therapy"
   ]
  },
  {
   "cell_type": "code",
   "execution_count": 161,
   "id": "f0453640",
   "metadata": {
    "execution": {
     "iopub.execute_input": "2025-01-21T19:14:25.700432Z",
     "iopub.status.busy": "2025-01-21T19:14:25.700154Z",
     "iopub.status.idle": "2025-01-21T19:14:25.703067Z",
     "shell.execute_reply": "2025-01-21T19:14:25.702550Z"
    }
   },
   "outputs": [],
   "source": [
    "base_filename = '04-15-home-therapy.csv'"
   ]
  },
  {
   "cell_type": "code",
   "execution_count": 162,
   "id": "b2a749e0",
   "metadata": {
    "execution": {
     "iopub.execute_input": "2025-01-21T19:14:25.705650Z",
     "iopub.status.busy": "2025-01-21T19:14:25.705425Z",
     "iopub.status.idle": "2025-01-21T19:14:25.824066Z",
     "shell.execute_reply": "2025-01-21T19:14:25.823393Z"
    }
   },
   "outputs": [
    {
     "name": "stdout",
     "output_type": "stream",
     "text": [
      "(0/11) normalize_value: column: center\n",
      "(1/11) normalize_value: column: subjectID\n",
      "(2/11) normalize_value: column: uniqueID\n",
      "(3/11) normalize_value: column: dischargeHomeTherapyVentilator\n",
      "(4/11) normalize_value: column: dischargeHomeTherapyOxygen\n",
      "(5/11) normalize_value: column: dischargeHomeTherapyGavageTubeFeed\n",
      "(6/11) normalize_value: column: dischargeHomeTherapyGastrostomyTubeFeed\n",
      "(7/11) normalize_value: column: dischargeHomeTherapyTemperatureBlanket\n",
      "(8/11) normalize_value: column: dischargeHomeTherapyAnticonvulsantMedication\n",
      "(9/11) normalize_value: column: dischargeHomeTherapyOther\n",
      "(10/11) normalize_value: column: dischargeHomeTherapyOtherText\n"
     ]
    }
   ],
   "source": [
    "filename = os.sep.join([input_dir, base_filename])\n",
    "df = pd.read_csv(filename, dtype='O')\n",
    "df = COMBINE_harmonizer.normalize_value(df, _VALUE_MAP, order_map=_ORDER_MAP)\n",
    "\n",
    "out_filename = os.sep.join([out_dir, base_filename])\n",
    "df.to_csv(out_filename, index=False)"
   ]
  },
  {
   "cell_type": "code",
   "execution_count": 163,
   "id": "a4936752",
   "metadata": {
    "execution": {
     "iopub.execute_input": "2025-01-21T19:14:25.836435Z",
     "iopub.status.busy": "2025-01-21T19:14:25.834532Z",
     "iopub.status.idle": "2025-01-21T19:14:25.850773Z",
     "shell.execute_reply": "2025-01-21T19:14:25.848470Z"
    }
   },
   "outputs": [
    {
     "name": "stdout",
     "output_type": "stream",
     "text": [
      "(0/22) center: (168/0)\n",
      "(1/22) center.orig: (168/0)\n",
      "(2/22) subjectID: (168/0)\n",
      "(3/22) subjectID.orig: (168/0)\n",
      "(4/22) uniqueID: (168/0)\n",
      "(5/22) uniqueID.orig: (168/0)\n",
      "(6/22) dischargeHomeTherapyVentilator: (168/0)\n",
      "(7/22) dischargeHomeTherapyVentilator.orig: (140/28)\n",
      "(8/22) dischargeHomeTherapyOxygen: (168/0)\n",
      "(9/22) dischargeHomeTherapyOxygen.orig: (140/28)\n",
      "(10/22) dischargeHomeTherapyGavageTubeFeed: (168/0)\n",
      "(11/22) dischargeHomeTherapyGavageTubeFeed.orig: (140/28)\n",
      "(12/22) dischargeHomeTherapyGastrostomyTubeFeed: (168/0)\n",
      "(13/22) dischargeHomeTherapyGastrostomyTubeFeed.orig: (140/28)\n",
      "(14/22) dischargeHomeTherapyTemperatureBlanket: (168/0)\n",
      "(15/22) dischargeHomeTherapyTemperatureBlanket.orig: (140/28)\n",
      "(16/22) dischargeHomeTherapyAnticonvulsantMedication: (168/0)\n",
      "(17/22) dischargeHomeTherapyAnticonvulsantMedication.orig: (140/28)\n",
      "(18/22) dischargeHomeTherapyOther: (168/0)\n",
      "(19/22) dischargeHomeTherapyOther.orig: (140/28)\n",
      "(20/22) dischargeHomeTherapyOtherText: (168/0)\n",
      "(21/22) dischargeHomeTherapyOtherText.orig: (11/157)\n"
     ]
    }
   ],
   "source": [
    "COMBINE_harmonizer.column_info(df)"
   ]
  }
 ],
 "metadata": {
  "kernelspec": {
   "display_name": ".venv",
   "language": "python",
   "name": "python3"
  },
  "language_info": {
   "codemirror_mode": {
    "name": "ipython",
    "version": 3
   },
   "file_extension": ".py",
   "mimetype": "text/x-python",
   "name": "python",
   "nbconvert_exporter": "python",
   "pygments_lexer": "ipython3",
   "version": "3.13.0"
  }
 },
 "nbformat": 4,
 "nbformat_minor": 5
}
