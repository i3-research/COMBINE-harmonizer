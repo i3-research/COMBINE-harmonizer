{
 "cells": [
  {
   "cell_type": "code",
   "execution_count": 1,
   "id": "2ae20373-d94c-4574-93dc-330bbbf2d673",
   "metadata": {
    "execution": {
     "iopub.execute_input": "2025-02-04T10:52:38.420005Z",
     "iopub.status.busy": "2025-02-04T10:52:38.418385Z",
     "iopub.status.idle": "2025-02-04T10:52:38.467322Z",
     "shell.execute_reply": "2025-02-04T10:52:38.466619Z"
    },
    "tags": [],
    "vscode": {
     "languageId": "r"
    }
   },
   "outputs": [
    {
     "data": {
      "text/plain": [
       "               _                           \n",
       "platform       aarch64-apple-darwin20      \n",
       "arch           aarch64                     \n",
       "os             darwin20                    \n",
       "system         aarch64, darwin20           \n",
       "status                                     \n",
       "major          4                           \n",
       "minor          4.2                         \n",
       "year           2024                        \n",
       "month          10                          \n",
       "day            31                          \n",
       "svn rev        87279                       \n",
       "language       R                           \n",
       "version.string R version 4.4.2 (2024-10-31)\n",
       "nickname       Pile of Leaves              "
      ]
     },
     "metadata": {},
     "output_type": "display_data"
    }
   ],
   "source": [
    "version"
   ]
  },
  {
   "cell_type": "code",
   "execution_count": 2,
   "id": "8e6fdb8d",
   "metadata": {
    "execution": {
     "iopub.execute_input": "2025-02-04T10:52:38.480777Z",
     "iopub.status.busy": "2025-02-04T10:52:38.469074Z",
     "iopub.status.idle": "2025-02-04T10:52:38.665370Z",
     "shell.execute_reply": "2025-02-04T10:52:38.664582Z"
    },
    "vscode": {
     "languageId": "r"
    }
   },
   "outputs": [],
   "source": [
    "library(haven)\n",
    "library(yaml)"
   ]
  },
  {
   "cell_type": "markdown",
   "id": "c68a3990-456e-4e7c-9ab7-944aa68ac243",
   "metadata": {
    "tags": []
   },
   "source": [
    "## 00. Read cfg"
   ]
  },
  {
   "cell_type": "code",
   "execution_count": 3,
   "id": "d20e26c8-1848-4e74-b310-2a20ee8ec940",
   "metadata": {
    "execution": {
     "iopub.execute_input": "2025-02-04T10:52:38.667726Z",
     "iopub.status.busy": "2025-02-04T10:52:38.667243Z",
     "iopub.status.idle": "2025-02-04T10:52:38.674101Z",
     "shell.execute_reply": "2025-02-04T10:52:38.673423Z"
    },
    "tags": [],
    "vscode": {
     "languageId": "r"
    }
   },
   "outputs": [],
   "source": [
    "cfg_filename <- c(\"../config.yaml\")\n",
    "cfg <- yaml::read_yaml(cfg_filename)"
   ]
  },
  {
   "cell_type": "markdown",
   "id": "31b4bf72",
   "metadata": {},
   "source": [
    "## 01. sas_to_csv"
   ]
  },
  {
   "cell_type": "code",
   "execution_count": 4,
   "id": "e9165797",
   "metadata": {
    "execution": {
     "iopub.execute_input": "2025-02-04T10:52:38.676240Z",
     "iopub.status.busy": "2025-02-04T10:52:38.675746Z",
     "iopub.status.idle": "2025-02-04T10:52:38.680867Z",
     "shell.execute_reply": "2025-02-04T10:52:38.680244Z"
    },
    "vscode": {
     "languageId": "r"
    }
   },
   "outputs": [],
   "source": [
    "sas_to_csv <- function(sas_dir, csv_dir) {\n",
    "    filenames <- list.files(sas_dir, pattern = \"*.sas7bdat\")\n",
    "\n",
    "    if (!dir.exists(csv_dir)) {\n",
    "        dir.create(csv_dir, recursive = TRUE)\n",
    "    }\n",
    "\n",
    "    for (filename in filenames) {\n",
    "        full_filename <- file.path(sas_dir, filename)\n",
    "        df <- haven::read_sas(full_filename)\n",
    "\n",
    "        # XXX hack for possible '_' in the filename.\n",
    "        out_filename <- gsub(\"_\", \"\", gsub(\"\\\\.sas7bdat$\", \".csv\", filename))\n",
    "        full_out_filename <- file.path(csv_dir, out_filename)\n",
    "        print(paste(\"out_filename:\", out_filename))\n",
    "        write.csv(df, full_out_filename, row.names = FALSE, na = \"\")\n",
    "    }\n",
    "}"
   ]
  },
  {
   "cell_type": "markdown",
   "id": "d4054f2c",
   "metadata": {},
   "source": [
    "## 02. LH ClinicalData"
   ]
  },
  {
   "cell_type": "code",
   "execution_count": 5,
   "id": "cc88a2aa-99fd-4a60-b8d5-6741afdd985d",
   "metadata": {
    "execution": {
     "iopub.execute_input": "2025-02-04T10:52:38.683126Z",
     "iopub.status.busy": "2025-02-04T10:52:38.682609Z",
     "iopub.status.idle": "2025-02-04T10:52:45.078818Z",
     "shell.execute_reply": "2025-02-04T10:52:45.077080Z"
    },
    "tags": [],
    "vscode": {
     "languageId": "r"
    }
   },
   "outputs": [
    {
     "name": "stdout",
     "output_type": "stream",
     "text": [
      "[1] \"out_filename: lh01.csv\"\n",
      "[1] \"out_filename: lh02.csv\"\n",
      "[1] \"out_filename: lh04.csv\"\n",
      "[1] \"out_filename: lh05.csv\"\n",
      "[1] \"out_filename: lh06bg.csv\"\n",
      "[1] \"out_filename: lh06cv.csv\"\n",
      "[1] \"out_filename: lh06he.csv\"\n",
      "[1] \"out_filename: lh06ht.csv\"\n",
      "[1] \"out_filename: lh06om.csv\"\n",
      "[1] \"out_filename: lh06rs.csv\"\n",
      "[1] \"out_filename: lh06tr.csv\"\n",
      "[1] \"out_filename: lh06.csv\"\n",
      "[1] \"out_filename: lh06a.csv\"\n",
      "[1] \"out_filename: lh06f.csv\"\n",
      "[1] \"out_filename: lh07.csv\"\n",
      "[1] \"out_filename: lh09.csv\"\n",
      "[1] \"out_filename: lh10.csv\"\n",
      "[1] \"out_filename: lh11.csv\"\n",
      "[1] \"out_filename: lh12.csv\"\n",
      "[1] \"out_filename: lh13.csv\"\n",
      "[1] \"out_filename: lh14.csv\"\n",
      "[1] \"out_filename: lhmr01.csv\"\n",
      "[1] \"out_filename: lhmr02.csv\"\n",
      "[1] \"out_filename: lhmr03b.csv\"\n",
      "[1] \"out_filename: lhmr03.csv\"\n",
      "[1] \"out_filename: lhmr03a.csv\"\n",
      "[1] \"out_filename: lhmr03c.csv\"\n"
     ]
    }
   ],
   "source": [
    "out_dir <- file.path(cfg$out_dir, \"csv\", \"LH\", \"ClinicalData\")\n",
    "sas_to_csv(cfg$LH_sas_dir, out_dir)"
   ]
  },
  {
   "cell_type": "markdown",
   "id": "567b204a",
   "metadata": {},
   "source": [
    "## 03. LH FollowUp"
   ]
  },
  {
   "cell_type": "code",
   "execution_count": 6,
   "id": "f879f587-b052-4193-b826-96852822a258",
   "metadata": {
    "execution": {
     "iopub.execute_input": "2025-02-04T10:52:45.083681Z",
     "iopub.status.busy": "2025-02-04T10:52:45.082654Z",
     "iopub.status.idle": "2025-02-04T10:52:46.557988Z",
     "shell.execute_reply": "2025-02-04T10:52:46.556524Z"
    },
    "tags": [],
    "vscode": {
     "languageId": "r"
    }
   },
   "outputs": [
    {
     "name": "stdout",
     "output_type": "stream",
     "text": [
      "[1] \"out_filename: lf01.csv\"\n",
      "[1] \"out_filename: lf03.csv\"\n",
      "[1] \"out_filename: lf04.csv\"\n",
      "[1] \"out_filename: lf04a.csv\"\n",
      "[1] \"out_filename: lf04ar.csv\"\n",
      "[1] \"out_filename: lf05.csv\"\n",
      "[1] \"out_filename: lf09a.csv\"\n",
      "[1] \"out_filename: lf10.csv\"\n",
      "[1] \"out_filename: lf11.csv\"\n",
      "[1] \"out_filename: lf12.csv\"\n"
     ]
    }
   ],
   "source": [
    "out_dir <- file.path(cfg$out_dir, \"csv\", \"LH\", \"FollowUp\")\n",
    "sas_to_csv(cfg$LH_follow_up_sas_dir, out_dir)"
   ]
  },
  {
   "cell_type": "markdown",
   "id": "61ea9754",
   "metadata": {},
   "source": [
    "## 04. LH Analysis"
   ]
  },
  {
   "cell_type": "code",
   "execution_count": 7,
   "id": "b227e0b1",
   "metadata": {
    "execution": {
     "iopub.execute_input": "2025-02-04T10:52:46.563298Z",
     "iopub.status.busy": "2025-02-04T10:52:46.562475Z",
     "iopub.status.idle": "2025-02-04T10:52:46.759064Z",
     "shell.execute_reply": "2025-02-04T10:52:46.757538Z"
    },
    "vscode": {
     "languageId": "r"
    }
   },
   "outputs": [
    {
     "name": "stdout",
     "output_type": "stream",
     "text": [
      "[1] \"out_filename: mrilh.csv\"\n"
     ]
    }
   ],
   "source": [
    "out_dir <- file.path(cfg$out_dir, \"csv\", \"LH\", \"Analysis\")\n",
    "sas_to_csv(cfg$LH_analysis_sas_dir, out_dir)"
   ]
  },
  {
   "cell_type": "code",
   "execution_count": 8,
   "id": "03769f82",
   "metadata": {
    "execution": {
     "iopub.execute_input": "2025-02-04T10:52:46.763408Z",
     "iopub.status.busy": "2025-02-04T10:52:46.762356Z",
     "iopub.status.idle": "2025-02-04T10:52:46.789026Z",
     "shell.execute_reply": "2025-02-04T10:52:46.787720Z"
    },
    "vscode": {
     "languageId": "r"
    }
   },
   "outputs": [],
   "source": [
    "# XXX ensure analysis.csv\n",
    "expected_filename <- file.path(cfg$out_dir, \"csv\", \"LH\", \"Analysis\", \"analysis.csv\")\n",
    "if (!file.exists(expected_filename)) {\n",
    "    mrilh_filename <- file.path(cfg$out_dir, \"csv\", \"LH\", \"Analysis\", \"mrilh.csv\")\n",
    "    file.rename(mrilh_filename, expected_filename)\n",
    "}"
   ]
  }
 ],
 "metadata": {
  "kernelspec": {
   "display_name": "R",
   "language": "R",
   "name": "ir"
  },
  "language_info": {
   "codemirror_mode": "r",
   "file_extension": ".r",
   "mimetype": "text/x-r-source",
   "name": "R",
   "pygments_lexer": "r",
   "version": "4.4.2"
  }
 },
 "nbformat": 4,
 "nbformat_minor": 5
}
