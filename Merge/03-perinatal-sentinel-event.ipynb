{
 "cells": [
  {
   "cell_type": "code",
   "execution_count": 1,
   "id": "beb66f07-a2b2-4aca-8a87-46f850f8fb28",
   "metadata": {
    "execution": {
     "iopub.execute_input": "2025-05-10T00:15:15.494651Z",
     "iopub.status.busy": "2025-05-10T00:15:15.494453Z",
     "iopub.status.idle": "2025-05-10T00:15:16.826600Z",
     "shell.execute_reply": "2025-05-10T00:15:16.826319Z"
    }
   },
   "outputs": [],
   "source": [
    "import pandas as pd\n",
    "import numpy as np\n",
    "pd.options.mode.copy_on_write = True\n",
    "import warnings\n",
    "warnings.simplefilter(action='ignore', category=pd.errors.PerformanceWarning)\n",
    "\n",
    "import COMBINE_harmonizer\n",
    "from COMBINE_harmonizer import cfg"
   ]
  },
  {
   "cell_type": "markdown",
   "id": "bae482f2-9dca-4fd7-9f97-01fbeab51016",
   "metadata": {},
   "source": [
    "## 01. init"
   ]
  },
  {
   "cell_type": "code",
   "execution_count": 2,
   "id": "ce3199d5-8cf8-4f38-a574-4842a003d56d",
   "metadata": {
    "execution": {
     "iopub.execute_input": "2025-05-10T00:15:16.828332Z",
     "iopub.status.busy": "2025-05-10T00:15:16.828174Z",
     "iopub.status.idle": "2025-05-10T00:15:16.829985Z",
     "shell.execute_reply": "2025-05-10T00:15:16.829764Z"
    }
   },
   "outputs": [],
   "source": [
    "root_dir = '../'"
   ]
  },
  {
   "cell_type": "code",
   "execution_count": 3,
   "id": "b5d48bb1-566e-47bc-afaa-4c6e104b9dde",
   "metadata": {
    "execution": {
     "iopub.execute_input": "2025-05-10T00:15:16.831059Z",
     "iopub.status.busy": "2025-05-10T00:15:16.830982Z",
     "iopub.status.idle": "2025-05-10T00:15:16.834389Z",
     "shell.execute_reply": "2025-05-10T00:15:16.834154Z"
    }
   },
   "outputs": [],
   "source": [
    "COMBINE_harmonizer.init(f'{root_dir}/config.yaml')"
   ]
  },
  {
   "cell_type": "code",
   "execution_count": 4,
   "id": "2fcadce3-c7b9-4e0e-8d56-edc9f0ee31a6",
   "metadata": {
    "execution": {
     "iopub.execute_input": "2025-05-10T00:15:16.835629Z",
     "iopub.status.busy": "2025-05-10T00:15:16.835544Z",
     "iopub.status.idle": "2025-05-10T00:15:16.837118Z",
     "shell.execute_reply": "2025-05-10T00:15:16.836908Z"
    }
   },
   "outputs": [],
   "source": [
    "data_dict_filename = f\"{root_dir}/{COMBINE_harmonizer.DATA_DICTIONARY_EXCEL}\"\n",
    "out_dir = cfg.config['out_dir']"
   ]
  },
  {
   "cell_type": "markdown",
   "id": "3ea80432-5e1e-4325-8372-79216a42b658",
   "metadata": {},
   "source": [
    "## 01-05. labor-delivery"
   ]
  },
  {
   "cell_type": "code",
   "execution_count": 5,
   "id": "5e5bf4c5-318e-415f-abb9-4c4e64d62b3a",
   "metadata": {
    "execution": {
     "iopub.execute_input": "2025-05-10T00:15:16.838253Z",
     "iopub.status.busy": "2025-05-10T00:15:16.838182Z",
     "iopub.status.idle": "2025-05-10T00:15:16.839654Z",
     "shell.execute_reply": "2025-05-10T00:15:16.839391Z"
    }
   },
   "outputs": [],
   "source": [
    "base_filename = '01-05-labor-delivery.csv'"
   ]
  },
  {
   "cell_type": "code",
   "execution_count": 6,
   "id": "ec8e423b-0ed5-46ce-96e7-875eb03c56e9",
   "metadata": {
    "execution": {
     "iopub.execute_input": "2025-05-10T00:15:16.840829Z",
     "iopub.status.busy": "2025-05-10T00:15:16.840728Z",
     "iopub.status.idle": "2025-05-10T00:15:16.887492Z",
     "shell.execute_reply": "2025-05-10T00:15:16.887194Z"
    }
   },
   "outputs": [],
   "source": [
    "full_filename = f'{out_dir}/out-merged-normalized/{base_filename}'\n",
    "df_labor_delivery = pd.read_csv(full_filename, dtype='O')"
   ]
  },
  {
   "cell_type": "code",
   "execution_count": 7,
   "id": "e9732023-6a9c-4266-a15e-2e78b535ec6a",
   "metadata": {
    "execution": {
     "iopub.execute_input": "2025-05-10T00:15:16.888900Z",
     "iopub.status.busy": "2025-05-10T00:15:16.888809Z",
     "iopub.status.idle": "2025-05-10T00:15:16.892109Z",
     "shell.execute_reply": "2025-05-10T00:15:16.891864Z"
    }
   },
   "outputs": [
    {
     "data": {
      "text/plain": [
       "Index(['_study', 'center', 'subjectID', 'uniqueID', 'maternalAdmissionDate',\n",
       "       'maternalAdmissionTime', 'ruptureDate', 'ruptureTime',\n",
       "       'ruptureGreater18Hr', 'ruptureBeforeDelivery', 'labor',\n",
       "       'laborOnsetDate', 'laborOnsetTime', 'deliveryMode', 'fetalDecelerate',\n",
       "       'cordMishap', 'uterineRupture', 'shoulderDystocia', 'placentalProblem',\n",
       "       'maternalHemorrhage', 'maternalTrauma',\n",
       "       'maternalCardioRespiratoryArrest', 'maternalSeizure',\n",
       "       'perinatalSentinelEvent', 'pyrexiaGreater37p6C', 'chorioamnionitis',\n",
       "       'placentalPathologyPerformed', 'histologicChorioamionitis',\n",
       "       'laborAntibiotics', 'laborAntibioticsCode1', 'laborAntibioticsCode2',\n",
       "       'laborAntibioticsCode3', 'laborAntibioticsCode4',\n",
       "       'laborAntibioticsCode5', 'laborAntibioticsCode6', 'emergencyCSection'],\n",
       "      dtype='object')"
      ]
     },
     "execution_count": 7,
     "metadata": {},
     "output_type": "execute_result"
    }
   ],
   "source": [
    "df_labor_delivery.columns"
   ]
  },
  {
   "cell_type": "code",
   "execution_count": 8,
   "id": "ab7a6859-46df-4d79-aba8-14b7c5edae14",
   "metadata": {
    "execution": {
     "iopub.execute_input": "2025-05-10T00:15:16.893312Z",
     "iopub.status.busy": "2025-05-10T00:15:16.893235Z",
     "iopub.status.idle": "2025-05-10T00:15:16.894958Z",
     "shell.execute_reply": "2025-05-10T00:15:16.894730Z"
    }
   },
   "outputs": [],
   "source": [
    "pse_columns = [\n",
    "    'cordMishap',\n",
    "    'uterineRupture',\n",
    "    'placentalProblem',\n",
    "    'shoulderDystocia',\n",
    "    'maternalHemorrhage',\n",
    "    'maternalTrauma',\n",
    "    'maternalCardioRespiratoryArrest',\n",
    "    'maternalSeizure',\n",
    "]"
   ]
  },
  {
   "cell_type": "code",
   "execution_count": 9,
   "id": "15cb8353-162b-45a5-a8bd-4dabadda8116",
   "metadata": {
    "execution": {
     "iopub.execute_input": "2025-05-10T00:15:16.896243Z",
     "iopub.status.busy": "2025-05-10T00:15:16.896158Z",
     "iopub.status.idle": "2025-05-10T00:15:16.897970Z",
     "shell.execute_reply": "2025-05-10T00:15:16.897747Z"
    }
   },
   "outputs": [],
   "source": [
    "def _pse(x):\n",
    "    for column in pse_columns:\n",
    "        if x[column] == 'TRUE':\n",
    "            return 'TRUE'\n",
    "    return 'FALSE'"
   ]
  },
  {
   "cell_type": "code",
   "execution_count": 10,
   "id": "3e1cde2d-2d87-484d-abae-e5501efc4d1a",
   "metadata": {
    "execution": {
     "iopub.execute_input": "2025-05-10T00:15:16.899427Z",
     "iopub.status.busy": "2025-05-10T00:15:16.899344Z",
     "iopub.status.idle": "2025-05-10T00:15:16.905600Z",
     "shell.execute_reply": "2025-05-10T00:15:16.905375Z"
    }
   },
   "outputs": [],
   "source": [
    "df_pse = df_labor_delivery[COMBINE_harmonizer.FLATTEN_MERGE_COLUMNS + pse_columns]\n",
    "df_pse.loc[:, 'perinatalSentinelEvent'] = df_pse.apply(lambda x: _pse(x), axis=1)"
   ]
  },
  {
   "cell_type": "markdown",
   "id": "0007036f-1051-4be1-a7ff-a4c789fe90f1",
   "metadata": {},
   "source": [
    "## to csv"
   ]
  },
  {
   "cell_type": "code",
   "execution_count": 11,
   "id": "1b45d106-8acb-47f6-935f-907ec4180812",
   "metadata": {
    "execution": {
     "iopub.execute_input": "2025-05-10T00:15:16.906862Z",
     "iopub.status.busy": "2025-05-10T00:15:16.906789Z",
     "iopub.status.idle": "2025-05-10T00:15:16.968558Z",
     "shell.execute_reply": "2025-05-10T00:15:16.968221Z"
    }
   },
   "outputs": [],
   "source": [
    "out_filename = f'{out_dir}/out-merged-normalized/01-05_1-pse.csv'\n",
    "df_pse.to_csv(out_filename, index=False)"
   ]
  },
  {
   "cell_type": "code",
   "execution_count": null,
   "id": "a212ad81",
   "metadata": {},
   "outputs": [],
   "source": []
  }
 ],
 "metadata": {
  "kernelspec": {
   "display_name": ".venv",
   "language": "python",
   "name": "python3"
  },
  "language_info": {
   "codemirror_mode": {
    "name": "ipython",
    "version": 3
   },
   "file_extension": ".py",
   "mimetype": "text/x-python",
   "name": "python",
   "nbconvert_exporter": "python",
   "pygments_lexer": "ipython3",
   "version": "3.13.2"
  }
 },
 "nbformat": 4,
 "nbformat_minor": 5
}
