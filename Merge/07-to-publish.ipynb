{
 "cells": [
  {
   "cell_type": "code",
   "execution_count": 1,
   "metadata": {
    "execution": {
     "iopub.execute_input": "2025-01-22T14:49:37.123984Z",
     "iopub.status.busy": "2025-01-22T14:49:37.123454Z",
     "iopub.status.idle": "2025-01-22T14:49:38.126331Z",
     "shell.execute_reply": "2025-01-22T14:49:38.126060Z"
    }
   },
   "outputs": [],
   "source": [
    "import pandas as pd\n",
    "pd.options.mode.copy_on_write = True\n",
    "import warnings\n",
    "warnings.simplefilter(action='ignore', category=pd.errors.PerformanceWarning)\n",
    "import os\n",
    "import re\n",
    "\n",
    "import COMBINE_harmonizer\n",
    "from COMBINE_harmonizer import cfg"
   ]
  },
  {
   "cell_type": "markdown",
   "metadata": {},
   "source": [
    "## 01. Init"
   ]
  },
  {
   "cell_type": "code",
   "execution_count": 2,
   "metadata": {
    "execution": {
     "iopub.execute_input": "2025-01-22T14:49:38.127863Z",
     "iopub.status.busy": "2025-01-22T14:49:38.127720Z",
     "iopub.status.idle": "2025-01-22T14:49:38.129508Z",
     "shell.execute_reply": "2025-01-22T14:49:38.129302Z"
    }
   },
   "outputs": [],
   "source": [
    "root_dir = '../'"
   ]
  },
  {
   "cell_type": "code",
   "execution_count": 3,
   "metadata": {
    "execution": {
     "iopub.execute_input": "2025-01-22T14:49:38.130617Z",
     "iopub.status.busy": "2025-01-22T14:49:38.130544Z",
     "iopub.status.idle": "2025-01-22T14:49:38.135046Z",
     "shell.execute_reply": "2025-01-22T14:49:38.134839Z"
    }
   },
   "outputs": [
    {
     "data": {
      "text/plain": [
       "{'out_dir': '/Volumes/neuro/labs/grantlab/research/chuanheng.hsiao/HIE-out',\n",
       " 'LH_sas_dir': '/Volumes/neuro/labs/grantlab/research/HIE_NRN_data/transferred_from_RTI/Late_Hypothermia/Clinical_Data',\n",
       " 'OC_sas_dir': '/Volumes/neuro/labs/grantlab/research/HIE_NRN_data/transferred_from_RTI/Optimizing_Cooling/Clinical Data',\n",
       " 'LH_follow_up_sas_dir': '/Volumes/neuro/labs/grantlab/research/HIE_NRN_data/transferred_from_RTI/Late_Hypothermia_Follow-up/Clinical Data',\n",
       " 'OC_follow_up_sas_dir': '/Volumes/neuro/labs/grantlab/research/HIE_NRN_data/transferred_from_RTI/Optimizing_Cooling_Follow-up/Clinical Data',\n",
       " 'LH_analysis_sas_dir': '/Volumes/neuro/labs/grantlab/research/HIE_NRN_data/transferred_from_RTI/Late_Hypothermia/Analysis_Data/Data Files',\n",
       " 'OC_analysis_sas_dir': '/Volumes/neuro/labs/grantlab/research/HIE_NRN_data/transferred_from_RTI/Optimizing_Cooling/Analysis Data/Data Files',\n",
       " 'LH_dir': '/Volumes/neuro/labs/grantlab/research/chuanheng.hsiao/HIE-out/csv/LH/ClinicalData',\n",
       " 'OC_dir': '/Volumes/neuro/labs/grantlab/research/chuanheng.hsiao/HIE-out/csv/OC/ClinicalData',\n",
       " 'LH_follow_up_dir': '/Volumes/neuro/labs/grantlab/research/chuanheng.hsiao/HIE-out/csv/LH/FollowUp',\n",
       " 'OC_follow_up_dir': '/Volumes/neuro/labs/grantlab/research/chuanheng.hsiao/HIE-out/csv/OC/FollowUp',\n",
       " 'LH_analysis_dir': '/Volumes/neuro/labs/grantlab/research/chuanheng.hsiao/HIE-out/csv/LH/Analysis',\n",
       " 'OC_analysis_dir': '/Volumes/neuro/labs/grantlab/research/chuanheng.hsiao/HIE-out/csv/OC/Analysis',\n",
       " 'dictionary_map': {'MRIReader': [{'name': '1', 'LH': 'PB', 'OC': '1'},\n",
       "   {'name': '2', 'LH': 'NR', 'OC': '2'},\n",
       "   {'name': '3', 'OC': '3'}]},\n",
       " 'redcap_token': '52709ACF965ADF89C6513D192C49CEE7',\n",
       " 'redcap_host': 'https://redcap-qi.tch.harvard.edu/redcap_edc/api/'}"
      ]
     },
     "execution_count": 3,
     "metadata": {},
     "output_type": "execute_result"
    }
   ],
   "source": [
    "COMBINE_harmonizer.init(f'{root_dir}/config.yaml')\n",
    "cfg.config"
   ]
  },
  {
   "cell_type": "markdown",
   "metadata": {},
   "source": [
    "## 02. Dictionary"
   ]
  },
  {
   "cell_type": "code",
   "execution_count": 4,
   "metadata": {
    "execution": {
     "iopub.execute_input": "2025-01-22T14:49:38.136194Z",
     "iopub.status.busy": "2025-01-22T14:49:38.136123Z",
     "iopub.status.idle": "2025-01-22T14:49:38.137679Z",
     "shell.execute_reply": "2025-01-22T14:49:38.137479Z"
    }
   },
   "outputs": [],
   "source": [
    "data_dict_filename = f\"{root_dir}/{COMBINE_harmonizer.DATA_DICTIONARY_EXCEL}\"\n",
    "out_dir = cfg.config['out_dir']"
   ]
  },
  {
   "cell_type": "code",
   "execution_count": 5,
   "metadata": {
    "execution": {
     "iopub.execute_input": "2025-01-22T14:49:38.138767Z",
     "iopub.status.busy": "2025-01-22T14:49:38.138702Z",
     "iopub.status.idle": "2025-01-22T14:49:38.140123Z",
     "shell.execute_reply": "2025-01-22T14:49:38.139917Z"
    }
   },
   "outputs": [],
   "source": [
    "data_dict_filename = f'{root_dir}/Dictionary_HIE_clinical_variables.xlsx'"
   ]
  },
  {
   "cell_type": "code",
   "execution_count": 6,
   "metadata": {
    "execution": {
     "iopub.execute_input": "2025-01-22T14:49:38.141229Z",
     "iopub.status.busy": "2025-01-22T14:49:38.141147Z",
     "iopub.status.idle": "2025-01-22T14:49:39.332654Z",
     "shell.execute_reply": "2025-01-22T14:49:39.332244Z"
    }
   },
   "outputs": [],
   "source": [
    "df_dict_main = COMBINE_harmonizer.load_data_dict(data_dict_filename, sheet_name=COMBINE_harmonizer.SHEET_MAIN)\n",
    "df_dict_followup = COMBINE_harmonizer.load_data_dict(data_dict_filename, sheet_name=COMBINE_harmonizer.SHEET_FOLLOW_UP)\n",
    "df_dict_derived_data = COMBINE_harmonizer.load_data_dict(data_dict_filename, sheet_name=COMBINE_harmonizer.SHEET_DERIVED_DATA)"
   ]
  },
  {
   "cell_type": "code",
   "execution_count": 7,
   "metadata": {
    "execution": {
     "iopub.execute_input": "2025-01-22T14:49:39.334153Z",
     "iopub.status.busy": "2025-01-22T14:49:39.334069Z",
     "iopub.status.idle": "2025-01-22T14:49:39.337881Z",
     "shell.execute_reply": "2025-01-22T14:49:39.337665Z"
    }
   },
   "outputs": [],
   "source": [
    "is_main_datetime = df_dict_main['type'].isin(['date', 'time'])\n",
    "df_dict_main = df_dict_main[is_main_datetime].drop_duplicates(['Standardized_VariableNames_Dictionary']).set_index('Standardized_VariableNames_Dictionary')\n",
    "\n",
    "is_followup_datetime = df_dict_followup['type'].isin(['date', 'time'])\n",
    "df_dict_followup = df_dict_followup[is_followup_datetime].drop_duplicates(['Standardized_VariableNames_Dictionary']).set_index('Standardized_VariableNames_Dictionary')\n",
    "\n",
    "is_derived_data_datetime = df_dict_derived_data['type'].isin(['date', 'time'])\n",
    "df_dict_derived_data = df_dict_derived_data[is_derived_data_datetime].drop_duplicates(['Standardized_VariableNames_Dictionary']).set_index('Standardized_VariableNames_Dictionary')\n"
   ]
  },
  {
   "cell_type": "code",
   "execution_count": 8,
   "metadata": {
    "execution": {
     "iopub.execute_input": "2025-01-22T14:49:39.339065Z",
     "iopub.status.busy": "2025-01-22T14:49:39.338993Z",
     "iopub.status.idle": "2025-01-22T14:49:39.344451Z",
     "shell.execute_reply": "2025-01-22T14:49:39.344244Z"
    }
   },
   "outputs": [
    {
     "data": {
      "text/html": [
       "<div>\n",
       "<style scoped>\n",
       "    .dataframe tbody tr th:only-of-type {\n",
       "        vertical-align: middle;\n",
       "    }\n",
       "\n",
       "    .dataframe tbody tr th {\n",
       "        vertical-align: top;\n",
       "    }\n",
       "\n",
       "    .dataframe thead th {\n",
       "        text-align: right;\n",
       "    }\n",
       "</style>\n",
       "<table border=\"1\" class=\"dataframe\">\n",
       "  <thead>\n",
       "    <tr style=\"text-align: right;\">\n",
       "      <th></th>\n",
       "      <th>Category</th>\n",
       "      <th>Subcategory</th>\n",
       "      <th>type</th>\n",
       "      <th>Variable_Description</th>\n",
       "      <th>#studies w/ this var</th>\n",
       "      <th>redcap</th>\n",
       "      <th>comment</th>\n",
       "      <th>LH</th>\n",
       "      <th>OC</th>\n",
       "    </tr>\n",
       "    <tr>\n",
       "      <th>Standardized_VariableNames_Dictionary</th>\n",
       "      <th></th>\n",
       "      <th></th>\n",
       "      <th></th>\n",
       "      <th></th>\n",
       "      <th></th>\n",
       "      <th></th>\n",
       "      <th></th>\n",
       "      <th></th>\n",
       "      <th></th>\n",
       "    </tr>\n",
       "  </thead>\n",
       "  <tbody>\n",
       "    <tr>\n",
       "      <th>birthDate</th>\n",
       "      <td>Pre-intervention</td>\n",
       "      <td>Screening</td>\n",
       "      <td>date</td>\n",
       "      <td>birth date</td>\n",
       "      <td>2</td>\n",
       "      <td>birth_date</td>\n",
       "      <td>NaN</td>\n",
       "      <td>BIRTHDT</td>\n",
       "      <td>BIRTHDT</td>\n",
       "    </tr>\n",
       "    <tr>\n",
       "      <th>randomDate</th>\n",
       "      <td>Pre-intervention</td>\n",
       "      <td>Screening</td>\n",
       "      <td>date</td>\n",
       "      <td>Date of Randomization</td>\n",
       "      <td>2</td>\n",
       "      <td>random_date</td>\n",
       "      <td>NaN</td>\n",
       "      <td>LH2RANDT</td>\n",
       "      <td>OC2RANDT</td>\n",
       "    </tr>\n",
       "    <tr>\n",
       "      <th>randomTime</th>\n",
       "      <td>Pre-intervention</td>\n",
       "      <td>Screening</td>\n",
       "      <td>time</td>\n",
       "      <td>Time of Randomization (24hr)</td>\n",
       "      <td>2</td>\n",
       "      <td>random_time</td>\n",
       "      <td>NaN</td>\n",
       "      <td>LH2RANTM</td>\n",
       "      <td>OC2RANTM</td>\n",
       "    </tr>\n",
       "    <tr>\n",
       "      <th>maternalAdmissionDate</th>\n",
       "      <td>Pre-intervention</td>\n",
       "      <td>Labor Delivery</td>\n",
       "      <td>date</td>\n",
       "      <td>Date of maternal admission</td>\n",
       "      <td>2</td>\n",
       "      <td>maternal_admission_date</td>\n",
       "      <td>NaN</td>\n",
       "      <td>LH4ADMDT</td>\n",
       "      <td>OC4ADAT</td>\n",
       "    </tr>\n",
       "    <tr>\n",
       "      <th>maternalAdmissionTime</th>\n",
       "      <td>Pre-intervention</td>\n",
       "      <td>Labor Delivery</td>\n",
       "      <td>time</td>\n",
       "      <td>Time of maternal admission</td>\n",
       "      <td>2</td>\n",
       "      <td>maternal_admission_time</td>\n",
       "      <td>NaN</td>\n",
       "      <td>LH4ADMTM</td>\n",
       "      <td>OC4ATIM</td>\n",
       "    </tr>\n",
       "    <tr>\n",
       "      <th>...</th>\n",
       "      <td>...</td>\n",
       "      <td>...</td>\n",
       "      <td>...</td>\n",
       "      <td>...</td>\n",
       "      <td>...</td>\n",
       "      <td>...</td>\n",
       "      <td>...</td>\n",
       "      <td>...</td>\n",
       "      <td>...</td>\n",
       "    </tr>\n",
       "    <tr>\n",
       "      <th>dischargeEEGAbnormalBackgroundActivityTime</th>\n",
       "      <td>NICU Discharge</td>\n",
       "      <td>Seizure</td>\n",
       "      <td>time</td>\n",
       "      <td>Abnormal Bkg activity: Time</td>\n",
       "      <td>2</td>\n",
       "      <td>discharge_eeg_abnormal_background_activity_time</td>\n",
       "      <td>NaN</td>\n",
       "      <td>LH13ATIM</td>\n",
       "      <td>OC13ATIM</td>\n",
       "    </tr>\n",
       "    <tr>\n",
       "      <th>wdrawSupportDate</th>\n",
       "      <td>NICU Discharge</td>\n",
       "      <td>Withdrawal of Support</td>\n",
       "      <td>date</td>\n",
       "      <td>Date support withdrawn</td>\n",
       "      <td>2</td>\n",
       "      <td>wdraw_support_date</td>\n",
       "      <td>NaN</td>\n",
       "      <td>LH12DWIT</td>\n",
       "      <td>OC13SWDD</td>\n",
       "    </tr>\n",
       "    <tr>\n",
       "      <th>wdrawSupportTime</th>\n",
       "      <td>NICU Discharge</td>\n",
       "      <td>Withdrawal of Support</td>\n",
       "      <td>time</td>\n",
       "      <td>Time support withdrawn</td>\n",
       "      <td>2</td>\n",
       "      <td>wdraw_support_time</td>\n",
       "      <td>NaN</td>\n",
       "      <td>LH12TWIT</td>\n",
       "      <td>OC13SWDT</td>\n",
       "    </tr>\n",
       "    <tr>\n",
       "      <th>limitCareDNRDate</th>\n",
       "      <td>NICU Discharge</td>\n",
       "      <td>Limitation of Care</td>\n",
       "      <td>date</td>\n",
       "      <td>Date of DNR order</td>\n",
       "      <td>2</td>\n",
       "      <td>limit_care_dnr_date</td>\n",
       "      <td>NaN</td>\n",
       "      <td>LH12DDNR</td>\n",
       "      <td>OC13DNRD</td>\n",
       "    </tr>\n",
       "    <tr>\n",
       "      <th>limitCareDNRTime</th>\n",
       "      <td>NICU Discharge</td>\n",
       "      <td>Limitation of Care</td>\n",
       "      <td>time</td>\n",
       "      <td>Time of DNR order</td>\n",
       "      <td>2</td>\n",
       "      <td>limit_care_dnr_time</td>\n",
       "      <td>NaN</td>\n",
       "      <td>LH12TDNR</td>\n",
       "      <td>OC13DNRT</td>\n",
       "    </tr>\n",
       "  </tbody>\n",
       "</table>\n",
       "<p>185 rows × 9 columns</p>\n",
       "</div>"
      ],
      "text/plain": [
       "                                                    Category  \\\n",
       "Standardized_VariableNames_Dictionary                          \n",
       "birthDate                                   Pre-intervention   \n",
       "randomDate                                  Pre-intervention   \n",
       "randomTime                                  Pre-intervention   \n",
       "maternalAdmissionDate                       Pre-intervention   \n",
       "maternalAdmissionTime                       Pre-intervention   \n",
       "...                                                      ...   \n",
       "dischargeEEGAbnormalBackgroundActivityTime    NICU Discharge   \n",
       "wdrawSupportDate                              NICU Discharge   \n",
       "wdrawSupportTime                              NICU Discharge   \n",
       "limitCareDNRDate                              NICU Discharge   \n",
       "limitCareDNRTime                              NICU Discharge   \n",
       "\n",
       "                                                      Subcategory  type  \\\n",
       "Standardized_VariableNames_Dictionary                                     \n",
       "birthDate                                               Screening  date   \n",
       "randomDate                                              Screening  date   \n",
       "randomTime                                              Screening  time   \n",
       "maternalAdmissionDate                              Labor Delivery  date   \n",
       "maternalAdmissionTime                              Labor Delivery  time   \n",
       "...                                                           ...   ...   \n",
       "dischargeEEGAbnormalBackgroundActivityTime                Seizure  time   \n",
       "wdrawSupportDate                            Withdrawal of Support  date   \n",
       "wdrawSupportTime                            Withdrawal of Support  time   \n",
       "limitCareDNRDate                               Limitation of Care  date   \n",
       "limitCareDNRTime                               Limitation of Care  time   \n",
       "\n",
       "                                                    Variable_Description  \\\n",
       "Standardized_VariableNames_Dictionary                                      \n",
       "birthDate                                                     birth date   \n",
       "randomDate                                         Date of Randomization   \n",
       "randomTime                                  Time of Randomization (24hr)   \n",
       "maternalAdmissionDate                         Date of maternal admission   \n",
       "maternalAdmissionTime                         Time of maternal admission   \n",
       "...                                                                  ...   \n",
       "dischargeEEGAbnormalBackgroundActivityTime   Abnormal Bkg activity: Time   \n",
       "wdrawSupportDate                                  Date support withdrawn   \n",
       "wdrawSupportTime                                  Time support withdrawn   \n",
       "limitCareDNRDate                                       Date of DNR order   \n",
       "limitCareDNRTime                                       Time of DNR order   \n",
       "\n",
       "                                           #studies w/ this var  \\\n",
       "Standardized_VariableNames_Dictionary                             \n",
       "birthDate                                                     2   \n",
       "randomDate                                                    2   \n",
       "randomTime                                                    2   \n",
       "maternalAdmissionDate                                         2   \n",
       "maternalAdmissionTime                                         2   \n",
       "...                                                         ...   \n",
       "dischargeEEGAbnormalBackgroundActivityTime                    2   \n",
       "wdrawSupportDate                                              2   \n",
       "wdrawSupportTime                                              2   \n",
       "limitCareDNRDate                                              2   \n",
       "limitCareDNRTime                                              2   \n",
       "\n",
       "                                                                                     redcap  \\\n",
       "Standardized_VariableNames_Dictionary                                                         \n",
       "birthDate                                                                        birth_date   \n",
       "randomDate                                                                      random_date   \n",
       "randomTime                                                                      random_time   \n",
       "maternalAdmissionDate                                               maternal_admission_date   \n",
       "maternalAdmissionTime                                               maternal_admission_time   \n",
       "...                                                                                     ...   \n",
       "dischargeEEGAbnormalBackgroundActivityTime  discharge_eeg_abnormal_background_activity_time   \n",
       "wdrawSupportDate                                                         wdraw_support_date   \n",
       "wdrawSupportTime                                                         wdraw_support_time   \n",
       "limitCareDNRDate                                                        limit_care_dnr_date   \n",
       "limitCareDNRTime                                                        limit_care_dnr_time   \n",
       "\n",
       "                                           comment        LH        OC  \n",
       "Standardized_VariableNames_Dictionary                                   \n",
       "birthDate                                      NaN   BIRTHDT   BIRTHDT  \n",
       "randomDate                                     NaN  LH2RANDT  OC2RANDT  \n",
       "randomTime                                     NaN  LH2RANTM  OC2RANTM  \n",
       "maternalAdmissionDate                          NaN  LH4ADMDT   OC4ADAT  \n",
       "maternalAdmissionTime                          NaN  LH4ADMTM   OC4ATIM  \n",
       "...                                            ...       ...       ...  \n",
       "dischargeEEGAbnormalBackgroundActivityTime     NaN  LH13ATIM  OC13ATIM  \n",
       "wdrawSupportDate                               NaN  LH12DWIT  OC13SWDD  \n",
       "wdrawSupportTime                               NaN  LH12TWIT  OC13SWDT  \n",
       "limitCareDNRDate                               NaN  LH12DDNR  OC13DNRD  \n",
       "limitCareDNRTime                               NaN  LH12TDNR  OC13DNRT  \n",
       "\n",
       "[185 rows x 9 columns]"
      ]
     },
     "execution_count": 8,
     "metadata": {},
     "output_type": "execute_result"
    }
   ],
   "source": [
    "df_dict_main"
   ]
  },
  {
   "cell_type": "markdown",
   "metadata": {},
   "source": [
    "## 03. Load 01-06-birth.csv"
   ]
  },
  {
   "cell_type": "code",
   "execution_count": 9,
   "metadata": {
    "execution": {
     "iopub.execute_input": "2025-01-22T14:49:39.345649Z",
     "iopub.status.busy": "2025-01-22T14:49:39.345577Z",
     "iopub.status.idle": "2025-01-22T14:49:39.393192Z",
     "shell.execute_reply": "2025-01-22T14:49:39.392931Z"
    }
   },
   "outputs": [
    {
     "data": {
      "text/html": [
       "<div>\n",
       "<style scoped>\n",
       "    .dataframe tbody tr th:only-of-type {\n",
       "        vertical-align: middle;\n",
       "    }\n",
       "\n",
       "    .dataframe tbody tr th {\n",
       "        vertical-align: top;\n",
       "    }\n",
       "\n",
       "    .dataframe thead th {\n",
       "        text-align: right;\n",
       "    }\n",
       "</style>\n",
       "<table border=\"1\" class=\"dataframe\">\n",
       "  <thead>\n",
       "    <tr style=\"text-align: right;\">\n",
       "      <th></th>\n",
       "      <th>_study</th>\n",
       "      <th>uniqueID</th>\n",
       "      <th>birthDate</th>\n",
       "      <th>birthTime</th>\n",
       "    </tr>\n",
       "  </thead>\n",
       "  <tbody>\n",
       "    <tr>\n",
       "      <th>0</th>\n",
       "      <td>LH</td>\n",
       "      <td>11:LH006</td>\n",
       "      <td>2009-03-31</td>\n",
       "      <td>11:29:00</td>\n",
       "    </tr>\n",
       "    <tr>\n",
       "      <th>1</th>\n",
       "      <td>LH</td>\n",
       "      <td>11:LH011</td>\n",
       "      <td>2009-11-03</td>\n",
       "      <td>18:57:00</td>\n",
       "    </tr>\n",
       "    <tr>\n",
       "      <th>2</th>\n",
       "      <td>LH</td>\n",
       "      <td>11:LH023</td>\n",
       "      <td>2010-10-20</td>\n",
       "      <td>00:38:00</td>\n",
       "    </tr>\n",
       "    <tr>\n",
       "      <th>3</th>\n",
       "      <td>LH</td>\n",
       "      <td>11:LH030</td>\n",
       "      <td>2011-03-23</td>\n",
       "      <td>09:12:00</td>\n",
       "    </tr>\n",
       "    <tr>\n",
       "      <th>4</th>\n",
       "      <td>LH</td>\n",
       "      <td>11:LH033</td>\n",
       "      <td>2011-04-30</td>\n",
       "      <td>18:05:00</td>\n",
       "    </tr>\n",
       "    <tr>\n",
       "      <th>...</th>\n",
       "      <td>...</td>\n",
       "      <td>...</td>\n",
       "      <td>...</td>\n",
       "      <td>...</td>\n",
       "    </tr>\n",
       "    <tr>\n",
       "      <th>527</th>\n",
       "      <td>OC</td>\n",
       "      <td>09:OC0691</td>\n",
       "      <td>2013-04-23</td>\n",
       "      <td>16:02:00</td>\n",
       "    </tr>\n",
       "    <tr>\n",
       "      <th>528</th>\n",
       "      <td>OC</td>\n",
       "      <td>09:OC0701</td>\n",
       "      <td>2013-05-06</td>\n",
       "      <td>14:07:00</td>\n",
       "    </tr>\n",
       "    <tr>\n",
       "      <th>529</th>\n",
       "      <td>OC</td>\n",
       "      <td>09:OC0731</td>\n",
       "      <td>2013-06-13</td>\n",
       "      <td>02:41:00</td>\n",
       "    </tr>\n",
       "    <tr>\n",
       "      <th>530</th>\n",
       "      <td>OC</td>\n",
       "      <td>09:OC0771</td>\n",
       "      <td>2013-09-05</td>\n",
       "      <td>08:00:00</td>\n",
       "    </tr>\n",
       "    <tr>\n",
       "      <th>531</th>\n",
       "      <td>OC</td>\n",
       "      <td>09:OC0801</td>\n",
       "      <td>2013-09-30</td>\n",
       "      <td>14:24:00</td>\n",
       "    </tr>\n",
       "  </tbody>\n",
       "</table>\n",
       "<p>532 rows × 4 columns</p>\n",
       "</div>"
      ],
      "text/plain": [
       "    _study   uniqueID   birthDate birthTime\n",
       "0       LH   11:LH006  2009-03-31  11:29:00\n",
       "1       LH   11:LH011  2009-11-03  18:57:00\n",
       "2       LH   11:LH023  2010-10-20  00:38:00\n",
       "3       LH   11:LH030  2011-03-23  09:12:00\n",
       "4       LH   11:LH033  2011-04-30  18:05:00\n",
       "..     ...        ...         ...       ...\n",
       "527     OC  09:OC0691  2013-04-23  16:02:00\n",
       "528     OC  09:OC0701  2013-05-06  14:07:00\n",
       "529     OC  09:OC0731  2013-06-13  02:41:00\n",
       "530     OC  09:OC0771  2013-09-05  08:00:00\n",
       "531     OC  09:OC0801  2013-09-30  14:24:00\n",
       "\n",
       "[532 rows x 4 columns]"
      ]
     },
     "execution_count": 9,
     "metadata": {},
     "output_type": "execute_result"
    }
   ],
   "source": [
    "filename = f'{out_dir}/out-merged-normalized/01-06-birth.csv'\n",
    "\n",
    "df_birth = pd.read_csv(filename)\n",
    "\n",
    "columns = ['_study', 'uniqueID', 'birthDate', 'birthTime']\n",
    "df_birth = df_birth[columns]\n",
    "df_birth"
   ]
  },
  {
   "cell_type": "markdown",
   "metadata": {},
   "source": [
    "## 04. Update Date and Time"
   ]
  },
  {
   "cell_type": "code",
   "execution_count": 10,
   "metadata": {
    "execution": {
     "iopub.execute_input": "2025-01-22T14:49:39.394663Z",
     "iopub.status.busy": "2025-01-22T14:49:39.394568Z",
     "iopub.status.idle": "2025-01-22T14:49:39.399052Z",
     "shell.execute_reply": "2025-01-22T14:49:39.398797Z"
    }
   },
   "outputs": [],
   "source": [
    "def _get_data_dict(data_dict_type):\n",
    "    if data_dict_type == COMBINE_harmonizer.SHEET_MAIN:\n",
    "        return df_dict_main\n",
    "    elif data_dict_type == COMBINE_harmonizer.SHEET_FOLLOW_UP:\n",
    "        return df_dict_followup\n",
    "    elif data_dict_type == COMBINE_harmonizer.SHEET_DERIVED_DATA:\n",
    "        return df_dict_derived_data\n",
    "    return None\n",
    "\n",
    "\n",
    "def _process_date_time(df: pd.DataFrame, df_dict: pd.DataFrame, df_birth: pd.DataFrame, filename_info: dict) -> pd.DataFrame:\n",
    "    time_columns = [column for column in df.columns if column not in ['birthDate', 'birthTime'] and column in df_dict.index and df_dict.loc[column, 'type'] == 'time']\n",
    "    time_date_columns = [f\"{re.sub('Time', 'Date', column)}\" for column in time_columns]\n",
    "    date_columns = [column for column in df.columns if column not in ['birthDate', 'birthTime'] and column in df_dict.index and column not in time_columns and column not in time_date_columns]\n",
    "\n",
    "    # check validity of time_date_columns\n",
    "    for time_column in time_date_columns:\n",
    "        if time_column not in df.columns:\n",
    "            print(f\"[WARN] no time_date_column: time_date_column: {time_column} filename: {filename_info['name']}\")\n",
    "\n",
    "    print(f\"{filename_info['name']}: time_columns: {time_columns} time_date_columns: {time_date_columns} date_columns: {date_columns}\")\n",
    "\n",
    "    # merge\n",
    "    df_merge = df.merge(df_birth, on=['_study', 'uniqueID'], how='left', suffixes=['.df', ''])\n",
    "\n",
    "    # date columns\n",
    "    for time_column in date_columns:\n",
    "        df_merge.loc[:, time_column] = df_merge.apply(lambda x: COMBINE_harmonizer.date_to_day(x[time_column], x['birthDate']) , axis=1)\n",
    "\n",
    "    # time columns\n",
    "    for time_column in time_columns:\n",
    "        date_column = re.sub('Time', 'Date', time_column)\n",
    "        datetime_s = df_merge.apply(lambda x: COMBINE_harmonizer.datetime_to_day_hr(x[date_column], x[time_column], x['birthDate'], x['birthTime']) , axis=1)\n",
    "        df_merge.loc[:, date_column] = datetime_s.apply(lambda x: x[0])\n",
    "        df_merge.loc[:, time_column] = datetime_s.apply(lambda x: x[1])\n",
    "\n",
    "    # remove birthDate and birthTime\n",
    "    for column in ['birthDate', 'birthTime']:\n",
    "        del df_merge[column]\n",
    "\n",
    "    # restore birthDate\n",
    "    if 'birthDate.df' in df_merge:\n",
    "        df_merge['birthDate'] = df_merge['birthDate.df'].apply(lambda x: COMBINE_harmonizer.anonymize_birth_date(x))\n",
    "        del df_merge['birthDate.df']\n",
    "\n",
    "    # restore birthTime\n",
    "    if 'birthTime.df' in df_merge:\n",
    "        df_merge['birthTime'] = df_merge['birthTime.df'].apply(lambda x: COMBINE_harmonizer.anonymize_birth_time(x))\n",
    "        del df_merge['birthTime.df']\n",
    "\n",
    "    return df_merge\n"
   ]
  },
  {
   "cell_type": "markdown",
   "metadata": {},
   "source": [
    "## 05. Remove columns"
   ]
  },
  {
   "cell_type": "code",
   "execution_count": 11,
   "metadata": {
    "execution": {
     "iopub.execute_input": "2025-01-22T14:49:39.400334Z",
     "iopub.status.busy": "2025-01-22T14:49:39.400246Z",
     "iopub.status.idle": "2025-01-22T14:49:39.402080Z",
     "shell.execute_reply": "2025-01-22T14:49:39.401861Z"
    }
   },
   "outputs": [],
   "source": [
    "def _process_remove_columns(df: pd.DataFrame) -> pd.DataFrame:\n",
    "    valid_columns = [column for column in df.columns if column not in COMBINE_harmonizer.REMOVE_COLUMNS]\n",
    "\n",
    "    return df[valid_columns]"
   ]
  },
  {
   "cell_type": "markdown",
   "metadata": {},
   "source": [
    "## 06. Process file"
   ]
  },
  {
   "cell_type": "code",
   "execution_count": 12,
   "metadata": {
    "execution": {
     "iopub.execute_input": "2025-01-22T14:49:39.403287Z",
     "iopub.status.busy": "2025-01-22T14:49:39.403207Z",
     "iopub.status.idle": "2025-01-22T14:49:50.551698Z",
     "shell.execute_reply": "2025-01-22T14:49:50.549952Z"
    }
   },
   "outputs": [
    {
     "name": "stdout",
     "output_type": "stream",
     "text": [
      "01-02-screening.csv: time_columns: ['randomTime'] time_date_columns: ['randomDate'] date_columns: []\n",
      "01-03-maternal-demographics.csv: time_columns: [] time_date_columns: [] date_columns: []\n"
     ]
    },
    {
     "name": "stdout",
     "output_type": "stream",
     "text": [
      "01-04-pregnancy-history.csv: time_columns: [] time_date_columns: [] date_columns: []\n",
      "01-05-labor-delivery.csv: time_columns: ['maternalAdmissionTime', 'ruptureTime', 'laborOnsetTime'] time_date_columns: ['maternalAdmissionDate', 'ruptureDate', 'laborOnsetDate'] date_columns: []\n"
     ]
    },
    {
     "name": "stdout",
     "output_type": "stream",
     "text": [
      "01-06-birth.csv: time_columns: ['neonateAdmissionTime', 'firstPostnatalBloodGasTime'] time_date_columns: ['neonateAdmissionDate', 'firstPostnatalBloodGasDate'] date_columns: []\n",
      "01-07-pre-temperature.csv: time_columns: ['pre_CoolInitiateTime', 'pre_AfterOvershootReach33p5CTime', 'pre_TemperatureMinTime', 'pre_TemperatureMaxTime'] time_date_columns: ['pre_CoolInitiateDate', 'pre_AfterOvershootReach33p5CDate', 'pre_TemperatureMinDate', 'pre_TemperatureMaxDate'] date_columns: []\n"
     ]
    },
    {
     "name": "stdout",
     "output_type": "stream",
     "text": [
      "01-08-pre-cardiovascular.csv: time_columns: ['pre_CardioTime'] time_date_columns: ['pre_CardioDate'] date_columns: []\n",
      "01-09-pre-infection.csv: time_columns: ['pre_PositiveCultureTime'] time_date_columns: ['pre_PositiveCultureDate'] date_columns: []\n"
     ]
    },
    {
     "name": "stdout",
     "output_type": "stream",
     "text": [
      "01-10-pre-other-med.csv: time_columns: ['pre_OtherMedTargetTime'] time_date_columns: ['pre_OtherMedTargetDate'] date_columns: []\n",
      "01-11-pre-imaging.csv: time_columns: ['pre_HeadSonogramTime', 'pre_HeadCTTime', 'pre_BrainMRITime'] time_date_columns: ['pre_HeadSonogramDate', 'pre_HeadCTDate', 'pre_BrainMRIDate'] date_columns: []\n"
     ]
    },
    {
     "name": "stdout",
     "output_type": "stream",
     "text": [
      "01-12-neuro-exam.csv: time_columns: ['pre_NeuroExamTime'] time_date_columns: ['pre_NeuroExamDate'] date_columns: []\n",
      "02-01-temperature.csv: time_columns: ['temperatureTime'] time_date_columns: ['temperatureDate'] date_columns: []\n"
     ]
    },
    {
     "name": "stdout",
     "output_type": "stream",
     "text": [
      "02-02-cardiovascular.csv: time_columns: ['cardioTime'] time_date_columns: ['cardioDate'] date_columns: []\n"
     ]
    },
    {
     "name": "stdout",
     "output_type": "stream",
     "text": [
      "02-03-respiratory.csv: time_columns: ['respiratoryTime'] time_date_columns: ['respiratoryDate'] date_columns: []\n",
      "02-04-blood-gas.csv: time_columns: ['bloodGasTime'] time_date_columns: ['bloodGasDate'] date_columns: []\n"
     ]
    },
    {
     "name": "stdout",
     "output_type": "stream",
     "text": [
      "02-05-hematology.csv: time_columns: ['hematologyTime'] time_date_columns: ['hematologyDate'] date_columns: []\n",
      "02-05_s-hematology.csv: time_columns: [] time_date_columns: [] date_columns: ['hematologyHematocritMinDate', 'hematologyPlateletCountMinDate']\n"
     ]
    },
    {
     "name": "stdout",
     "output_type": "stream",
     "text": [
      "02-06_s-blood-value.csv: time_columns: [] time_date_columns: [] date_columns: ['bloodValueBunBaseline_mgPerdLDate', 'bloodValueCreatinineBaseline_mgPerdLDate', 'bloodValueASTSGOTBaseline_UPerLDate', 'bloodValueALTSGPTBaseline_UPerLDate', 'bloodValueTotalBilirubinBaseline_mgPerdLDate', 'bloodValuePHMinDate', 'bloodValueHCO3Min_mEqPerLDate', 'bloodValueSerumNaMin_mEqPerLDate', 'bloodValueSerumKMin_mEqPerLDate', 'bloodValueClMin_mEqPerLDate', 'bloodValueGlucoseMin_mgPerdLDate', 'bloodValueTotalCaMin_mgPerdLDate', 'bloodValueIonCaMin_mgPerdLDate', 'bloodValueASTSGOTMin_UPerLDate', 'bloodValueALTSGPTMin_UPerLDate', 'bloodValueTotalBilirubinMin_mgPerdLDate', 'bloodValuePHMaxDate', 'bloodValueBaseDeficitMax_mEqPerLDate', 'bloodValueSerumNaMax_mEqPerLDate', 'bloodValueSerumKMax_mEqPerLDate', 'bloodValueClMax_mEqPerLDate', 'bloodValueBunMax_mgPerdLDate', 'bloodValueCreatinineMax_mgPerdLDate', 'bloodValueGlucoseMax_mgPerdLDate', 'bloodValueTotalCaMax_mgPerdLDate', 'bloodValueIonCaMax_mgPerdLDate', 'bloodValueASTSGOTMax_UPerLDate', 'bloodValueALTSGPTMax_UPerLDate', 'bloodValueTotalBilirubinMax_mgPerdLDate']\n"
     ]
    },
    {
     "name": "stdout",
     "output_type": "stream",
     "text": [
      "02-07-infection.csv: time_columns: ['positiveCultureTime'] time_date_columns: ['positiveCultureDate'] date_columns: []\n",
      "02-08-other-med.csv: time_columns: ['otherMedTargetTime'] time_date_columns: ['otherMedTargetDate'] date_columns: []\n"
     ]
    },
    {
     "name": "stdout",
     "output_type": "stream",
     "text": [
      "02-09-imaging.csv: time_columns: ['headSonogramTime', 'headCTTime', 'brainMRITime'] time_date_columns: ['headSonogramDate', 'headCTDate', 'brainMRIDate'] date_columns: []\n",
      "02-11-elevated-temperature.csv: time_columns: ['elevatedTempTime'] time_date_columns: ['elevatedTempDate'] date_columns: []\n"
     ]
    },
    {
     "name": "stdout",
     "output_type": "stream",
     "text": [
      "02-12-fluctuated-temperature.csv: time_columns: ['fluctuateTempTime'] time_date_columns: ['fluctuateTempDate'] date_columns: []\n",
      "02-13-bradycardia.csv: time_columns: ['bradycardiaTime'] time_date_columns: ['bradycardiaDate'] date_columns: []\n"
     ]
    },
    {
     "name": "stdout",
     "output_type": "stream",
     "text": [
      "02-14-adverse-event.csv: time_columns: ['SAECardiacExperienceOnsetTime', 'SAECardiacExperienceResolveTime', 'SAEMetabolicAcidosisOnsetTime', 'SAEMetabolicAcidosisResolveTime', 'SAEThrombosisExperienceOnsetTime', 'SAEThrombosisExperienceResolveTime', 'SAEBleedingExperienceOnsetTime', 'SAEBleedingExperienceResolveTime', 'SAEDeathTime', 'SAEOtherOnsetTime', 'SAEOtherResolveTime'] time_date_columns: ['SAECardiacExperienceOnsetDate', 'SAECardiacExperienceResolveDate', 'SAEMetabolicAcidosisOnsetDate', 'SAEMetabolicAcidosisResolveDate', 'SAEThrombosisExperienceOnsetDate', 'SAEThrombosisExperienceResolveDate', 'SAEBleedingExperienceOnsetDate', 'SAEBleedingExperienceResolveDate', 'SAEDeathDate', 'SAEOtherOnsetDate', 'SAEOtherResolveDate'] date_columns: ['SAEAlterationSkinIntegrityOnsetDate', 'SAEAlterationSkinIntegrityResolveDate']\n",
      "02-15-violation.csv: time_columns: [] time_date_columns: [] date_columns: ['violationDate']\n"
     ]
    },
    {
     "name": "stdout",
     "output_type": "stream",
     "text": [
      "02-16-interrupt.csv: time_columns: ['interruptTime', 'interruptRestartTime'] time_date_columns: ['interruptDate', 'interruptRestartDate'] date_columns: []\n"
     ]
    },
    {
     "name": "stdout",
     "output_type": "stream",
     "text": [
      "02-17-discontinue.csv: time_columns: ['discontinueTime'] time_date_columns: ['discontinueDate'] date_columns: []\n"
     ]
    },
    {
     "name": "stdout",
     "output_type": "stream",
     "text": [
      "03-01-post-temperature.csv: time_columns: ['post_TemperatureTime'] time_date_columns: ['post_TemperatureDate'] date_columns: []\n",
      "03-01_s-post-temperature.csv: time_columns: ['normothermiaTime'] time_date_columns: ['normothermiaDate'] date_columns: []\n"
     ]
    },
    {
     "name": "stdout",
     "output_type": "stream",
     "text": [
      "03-02-post-blood-value.csv: time_columns: [] time_date_columns: [] date_columns: ['post_BloodValueASTSGOT_UPerLDate', 'post_BloodValueALTSGPT_UPerLDate', 'post_BloodValueTotalBilirubin_mgPerdLDate']\n",
      "03-03-post-imaging.csv: time_columns: ['post_HeadSonogramTime', 'post_HeadCTTime', 'post_BrainMRITime'] time_date_columns: ['post_HeadSonogramDate', 'post_HeadCTDate', 'post_BrainMRIDate'] date_columns: []\n"
     ]
    },
    {
     "name": "stdout",
     "output_type": "stream",
     "text": [
      "03-04-post-neuro-exam.csv: time_columns: ['post_NeuroExamTime'] time_date_columns: ['post_NeuroExamDate'] date_columns: []\n",
      "03-05-mri.csv: time_columns: [] time_date_columns: [] date_columns: ['MRIDate', 'MRIReadDate']\n"
     ]
    },
    {
     "name": "stdout",
     "output_type": "stream",
     "text": [
      "03-05_s-mri.csv: time_columns: ['MRITime'] time_date_columns: ['MRIDate'] date_columns: ['MRISendRTIDate', 'MRIReceiveRTIDate']\n",
      "[WARN] datetime_to_day_hr: unable to strptime (with %S): the_date: 2010-11-01 the_time: 17:04\n",
      "[WARN] datetime_to_day_hr: unable to strptime (with %S): the_date: 2010-11-11 the_time: 17:00\n",
      "[WARN] datetime_to_day_hr: unable to strptime (with %S): the_date: 2010-11-21 the_time: 11:07\n",
      "[WARN] datetime_to_day_hr: unable to strptime (with %S): the_date: 2011-01-03 the_time: 17:00\n",
      "[WARN] datetime_to_day_hr: unable to strptime (with %S): the_date: 2011-02-07 the_time: 16:52\n",
      "[WARN] datetime_to_day_hr: unable to strptime (with %S): the_date: 2011-03-11 the_time: 20:45\n",
      "[WARN] datetime_to_day_hr: unable to strptime (with %S): the_date: 2011-04-14 the_time: 18:46\n",
      "[WARN] datetime_to_day_hr: unable to strptime (with %S): the_date: 2011-08-04 the_time: 22:22\n",
      "[WARN] datetime_to_day_hr: unable to strptime (with %S): the_date: 2011-11-04 the_time: 22:13\n",
      "[WARN] datetime_to_day_hr: unable to strptime (with %S): the_date: 2011-11-21 the_time: 21:00\n",
      "[WARN] datetime_to_day_hr: unable to strptime (with %S): the_date: 2012-02-06 the_time: 22:20\n",
      "[WARN] datetime_to_day_hr: unable to strptime (with %S): the_date: 2012-02-29 the_time: 06:34\n",
      "[WARN] datetime_to_day_hr: unable to strptime (with %S): the_date: 2012-04-13 the_time: 17:59\n",
      "[WARN] datetime_to_day_hr: unable to strptime (with %S): the_date: 2012-05-02 the_time: 14:24\n",
      "[WARN] datetime_to_day_hr: unable to strptime (with %S): the_date: 2012-05-18 the_time: 10:12\n",
      "[WARN] datetime_to_day_hr: unable to strptime (with %S): the_date: 2012-07-27 the_time: 22:46\n",
      "[WARN] datetime_to_day_hr: unable to strptime (with %S): the_date: 2012-09-18 the_time: 14:03\n",
      "[WARN] datetime_to_day_hr: unable to strptime (with %S): the_date: 2012-10-14 the_time: 11:43\n",
      "[WARN] datetime_to_day_hr: unable to strptime (with %S): the_date: 2012-11-02 the_time: 15:19\n",
      "[WARN] datetime_to_day_hr: unable to strptime (with %S): the_date: 2012-11-10 the_time: 09:20\n",
      "[WARN] datetime_to_day_hr: unable to strptime (with %S): the_date: 2012-12-31 the_time: 14:34\n",
      "[WARN] datetime_to_day_hr: unable to strptime (with %S): the_date: 2013-02-21 the_time: 14:46\n",
      "[WARN] datetime_to_day_hr: unable to strptime (with %S): the_date: 2013-02-27 the_time: 06:01\n",
      "[WARN] datetime_to_day_hr: unable to strptime (with %S): the_date: 2013-03-14 the_time: 22:27\n",
      "[WARN] datetime_to_day_hr: unable to strptime (with %S): the_date: 2013-04-02 the_time: 15:30\n",
      "[WARN] datetime_to_day_hr: unable to strptime (with %S): the_date: 2013-04-29 the_time: 22:28\n",
      "[WARN] datetime_to_day_hr: unable to strptime (with %S): the_date: 2013-06-03 the_time: 21:50\n",
      "[WARN] datetime_to_day_hr: unable to strptime (with %S): the_date: 2013-07-16 the_time: 20:15\n",
      "[WARN] datetime_to_day_hr: unable to strptime (with %S): the_date: 2013-07-22 the_time: 20:20\n",
      "[WARN] datetime_to_day_hr: unable to strptime (with %S): the_date: 2013-08-09 the_time: 16:02\n",
      "[WARN] datetime_to_day_hr: unable to strptime (with %S): the_date: 2013-09-16 the_time: 15:45\n",
      "[WARN] datetime_to_day_hr: unable to strptime (with %S): the_date: 2011-07-19 the_time: 16:01\n",
      "[WARN] datetime_to_day_hr: unable to strptime (with %S): the_date: 2011-07-11 the_time: 16:45\n",
      "[WARN] datetime_to_day_hr: unable to strptime (with %S): the_date: 2011-12-20 the_time: 15:56\n",
      "[WARN] datetime_to_day_hr: unable to strptime (with %S): the_date: 2012-02-01 the_time: 19:37\n",
      "[WARN] datetime_to_day_hr: unable to strptime (with %S): the_date: 2012-02-20 the_time: 19:52\n",
      "[WARN] datetime_to_day_hr: unable to strptime (with %S): the_date: 2012-03-30 the_time: 09:55\n",
      "[WARN] datetime_to_day_hr: unable to strptime (with %S): the_date: 2012-06-13 the_time: 04:23\n",
      "[WARN] datetime_to_day_hr: unable to strptime (with %S): the_date: 2012-06-18 the_time: 19:36\n",
      "[WARN] datetime_to_day_hr: unable to strptime (with %S): the_date: 2012-08-10 the_time: 22:51\n",
      "[WARN] datetime_to_day_hr: unable to strptime (with %S): the_date: 2012-08-14 the_time: 05:28\n",
      "[WARN] datetime_to_day_hr: unable to strptime (with %S): the_date: 2012-09-22 the_time: 21:43\n",
      "[WARN] datetime_to_day_hr: unable to strptime (with %S): the_date: 2012-10-03 the_time: 03:21\n",
      "[WARN] datetime_to_day_hr: unable to strptime (with %S): the_date: 2012-10-23 the_time: 21:00\n",
      "[WARN] datetime_to_day_hr: unable to strptime (with %S): the_date: 2012-12-05 the_time: 21:49\n",
      "[WARN] datetime_to_day_hr: unable to strptime (with %S): the_date: 2013-01-24 the_time: 20:20\n",
      "[WARN] datetime_to_day_hr: unable to strptime (with %S): the_date: 2013-03-15 the_time: 04:54\n",
      "[WARN] datetime_to_day_hr: unable to strptime (with %S): the_date: 2013-04-18 the_time: 06:07\n",
      "[WARN] datetime_to_day_hr: unable to strptime (with %S): the_date: 2013-04-29 the_time: 22:08\n",
      "[WARN] datetime_to_day_hr: unable to strptime (with %S): the_date: 2013-05-28 the_time: 01:47\n",
      "[WARN] datetime_to_day_hr: unable to strptime (with %S): the_date: 2013-07-10 the_time: 17:54\n",
      "[WARN] datetime_to_day_hr: unable to strptime (with %S): the_date: 2013-08-20 the_time: 12:46\n",
      "[WARN] datetime_to_day_hr: unable to strptime (with %S): the_date: 2013-09-24 the_time: 06:19\n",
      "[WARN] datetime_to_day_hr: unable to strptime (with %S): the_date: 2013-10-04 the_time: 09:12\n",
      "[WARN] datetime_to_day_hr: unable to strptime (with %S): the_date: 2013-09-28 the_time: 04:28\n",
      "[WARN] datetime_to_day_hr: unable to strptime (with %S): the_date: 2013-11-01 the_time: 08:03\n",
      "[WARN] datetime_to_day_hr: unable to strptime (with %S): the_date: 2013-11-28 the_time: 10:34\n",
      "[WARN] datetime_to_day_hr: unable to strptime (with %S): the_date: 2013-11-28 the_time: 09:04\n",
      "[WARN] datetime_to_day_hr: unable to strptime (with %S): the_date: 2012-02-14 the_time: 11:06\n",
      "[WARN] datetime_to_day_hr: unable to strptime (with %S): the_date: 2012-03-07 the_time: 10:33\n",
      "[WARN] datetime_to_day_hr: unable to strptime (with %S): the_date: 2012-04-11 the_time: 11:31\n",
      "[WARN] datetime_to_day_hr: unable to strptime (with %S): the_date: 2012-04-28 the_time: 11:42\n",
      "[WARN] datetime_to_day_hr: unable to strptime (with %S): the_date: 2012-05-11 the_time: 15:58\n",
      "[WARN] datetime_to_day_hr: unable to strptime (with %S): the_date: 2012-06-21 the_time: 08:32\n",
      "[WARN] datetime_to_day_hr: unable to strptime (with %S): the_date: 2012-10-01 the_time: 08:47\n",
      "[WARN] datetime_to_day_hr: unable to strptime (with %S): the_date: 2013-02-14 the_time: 09:22\n",
      "[WARN] datetime_to_day_hr: unable to strptime (with %S): the_date: 2013-02-13 the_time: 14:00\n",
      "[WARN] datetime_to_day_hr: unable to strptime (with %S): the_date: 2013-03-07 the_time: 11:55\n",
      "[WARN] datetime_to_day_hr: unable to strptime (with %S): the_date: 2013-09-09 the_time: 10:30\n",
      "[WARN] datetime_to_day_hr: unable to strptime (with %S): the_date: 2013-09-12 the_time: 15:48\n",
      "[WARN] datetime_to_day_hr: unable to strptime (with %S): the_date: 2013-06-07 the_time: 15:59\n",
      "[WARN] datetime_to_day_hr: unable to strptime (with %S): the_date: 2013-05-13 the_time: 11:11\n",
      "[WARN] datetime_to_day_hr: unable to strptime (with %S): the_date: 2013-04-30 the_time: 14:35\n",
      "[WARN] datetime_to_day_hr: unable to strptime (with %S): the_date: 2013-03-12 the_time: 21:43\n",
      "[WARN] datetime_to_day_hr: unable to strptime (with %S): the_date: 2013-01-04 the_time: 14:36\n",
      "[WARN] datetime_to_day_hr: unable to strptime (with %S): the_date: 2012-12-17 the_time: 05:11\n",
      "[WARN] datetime_to_day_hr: unable to strptime (with %S): the_date: 2012-08-09 the_time: 07:00\n",
      "[WARN] datetime_to_day_hr: unable to strptime (with %S): the_date: 2012-07-11 the_time: 13:59\n",
      "[WARN] datetime_to_day_hr: unable to strptime (with %S): the_date: 2012-06-10 the_time: 14:38\n",
      "[WARN] datetime_to_day_hr: unable to strptime (with %S): the_date: 2012-01-30 the_time: 10:43\n",
      "[WARN] datetime_to_day_hr: unable to strptime (with %S): the_date: 2011-12-22 the_time: 11:11\n",
      "[WARN] datetime_to_day_hr: unable to strptime (with %S): the_date: 2011-08-15 the_time: 14:10\n",
      "[WARN] datetime_to_day_hr: unable to strptime (with %S): the_date: 2011-07-26 the_time: 22:26\n",
      "[WARN] datetime_to_day_hr: unable to strptime (with %S): the_date: 2011-06-09 the_time: 12:35\n",
      "[WARN] datetime_to_day_hr: unable to strptime (with %S): the_date: 2011-05-03 the_time: 12:23\n",
      "[WARN] datetime_to_day_hr: unable to strptime (with %S): the_date: 2011-10-03 the_time: 21:09\n",
      "[WARN] datetime_to_day_hr: unable to strptime (with %S): the_date: 2011-11-24 the_time: 09:18\n",
      "[WARN] datetime_to_day_hr: unable to strptime (with %S): the_date: 2012-01-12 the_time: 12:43\n",
      "[WARN] datetime_to_day_hr: unable to strptime (with %S): the_date: 2012-04-23 the_time: 22:49\n",
      "[WARN] datetime_to_day_hr: unable to strptime (with %S): the_date: 2012-05-16 the_time: 10:24\n",
      "[WARN] datetime_to_day_hr: unable to strptime (with %S): the_date: 2012-09-10 the_time: 16:21\n",
      "[WARN] datetime_to_day_hr: unable to strptime (with %S): the_date: 2012-09-28 the_time: 20:13\n",
      "[WARN] datetime_to_day_hr: unable to strptime (with %S): the_date: 2013-01-18 the_time: 18:14\n",
      "[WARN] datetime_to_day_hr: unable to strptime (with %S): the_date: 2013-01-17 the_time: 14:01\n",
      "[WARN] datetime_to_day_hr: unable to strptime (with %S): the_date: 2013-06-06 the_time: 12:59\n",
      "[WARN] datetime_to_day_hr: unable to strptime (with %S): the_date: 2013-06-17 the_time: 22:00\n",
      "[WARN] datetime_to_day_hr: unable to strptime (with %S): the_date: 2013-07-30 the_time: 16:50\n",
      "[WARN] datetime_to_day_hr: unable to strptime (with %S): the_date: 2013-09-10 the_time: 15:07\n",
      "[WARN] datetime_to_day_hr: unable to strptime (with %S): the_date: 2013-10-14 the_time: 14:09\n",
      "[WARN] datetime_to_day_hr: unable to strptime (with %S): the_date: 2013-11-06 the_time: 19:33\n",
      "[WARN] datetime_to_day_hr: unable to strptime (with %S): the_date: 2013-06-14 the_time: 10:01\n",
      "[WARN] datetime_to_day_hr: unable to strptime (with %S): the_date: 2013-06-24 the_time: 21:29\n",
      "[WARN] datetime_to_day_hr: unable to strptime (with %S): the_date: 2011-11-03 the_time: 12:15\n",
      "[WARN] datetime_to_day_hr: unable to strptime (with %S): the_date: 2011-12-29 the_time: 21:21\n",
      "[WARN] datetime_to_day_hr: unable to strptime (with %S): the_date: 2011-12-06 the_time: 22:09\n",
      "[WARN] datetime_to_day_hr: unable to strptime (with %S): the_date: 2011-12-05 the_time: 10:02\n",
      "[WARN] datetime_to_day_hr: unable to strptime (with %S): the_date: 2012-01-31 the_time: 10:37\n",
      "[WARN] datetime_to_day_hr: unable to strptime (with %S): the_date: 2012-03-28 the_time: 09:50\n",
      "[WARN] datetime_to_day_hr: unable to strptime (with %S): the_date: 2012-04-25 the_time: 15:14\n",
      "[WARN] datetime_to_day_hr: unable to strptime (with %S): the_date: 2012-10-11 the_time: 14:40\n",
      "[WARN] datetime_to_day_hr: unable to strptime (with %S): the_date: 2013-01-18 the_time: 18:26\n",
      "[WARN] datetime_to_day_hr: unable to strptime (with %S): the_date: 2013-02-15 the_time: 15:16\n",
      "[WARN] datetime_to_day_hr: unable to strptime (with %S): the_date: 2013-02-28 the_time: 14:30\n",
      "[WARN] datetime_to_day_hr: unable to strptime (with %S): the_date: 2013-06-27 the_time: 19:16\n",
      "[WARN] datetime_to_day_hr: unable to strptime (with %S): the_date: 2013-08-05 the_time: 17:43\n",
      "[WARN] datetime_to_day_hr: unable to strptime (with %S): the_date: 2013-08-26 the_time: 13:00\n",
      "[WARN] datetime_to_day_hr: unable to strptime (with %S): the_date: 2013-10-22 the_time: 14:39\n",
      "[WARN] datetime_to_day_hr: unable to strptime (with %S): the_date: 2013-10-28 the_time: 16:29\n",
      "[WARN] datetime_to_day_hr: unable to strptime (with %S): the_date: 2013-09-23 the_time: 17:00\n",
      "[WARN] datetime_to_day_hr: unable to strptime (with %S): the_date: 2011-09-26 the_time: 16:30\n",
      "[WARN] datetime_to_day_hr: unable to strptime (with %S): the_date: 2011-10-19 the_time: 13:55\n",
      "[WARN] datetime_to_day_hr: unable to strptime (with %S): the_date: 2011-11-08 the_time: 16:23\n",
      "[WARN] datetime_to_day_hr: unable to strptime (with %S): the_date: 2011-11-23 the_time: 17:30\n",
      "[WARN] datetime_to_day_hr: unable to strptime (with %S): the_date: 2011-12-16 the_time: 17:54\n",
      "[WARN] datetime_to_day_hr: unable to strptime (with %S): the_date: 2012-04-02 the_time: 11:55\n",
      "[WARN] datetime_to_day_hr: unable to strptime (with %S): the_date: 2012-12-31 the_time: 15:51\n",
      "[WARN] datetime_to_day_hr: unable to strptime (with %S): the_date: 2013-08-14 the_time: 15:23\n",
      "[WARN] datetime_to_day_hr: unable to strptime (with %S): the_date: 2013-09-06 the_time: 08:12\n",
      "[WARN] datetime_to_day_hr: unable to strptime (with %S): the_date: 2012-09-18 the_time: 04:00\n",
      "[WARN] datetime_to_day_hr: unable to strptime (with %S): the_date: 2012-10-06 the_time: 01:10\n",
      "[WARN] datetime_to_day_hr: unable to strptime (with %S): the_date: 2013-03-26 the_time: 15:36\n",
      "[WARN] datetime_to_day_hr: unable to strptime (with %S): the_date: 2013-04-22 the_time: 03:04\n",
      "[WARN] datetime_to_day_hr: unable to strptime (with %S): the_date: 2013-09-01 the_time: 01:45\n",
      "[WARN] datetime_to_day_hr: unable to strptime (with %S): the_date: 2011-10-10 the_time: 17:20\n",
      "[WARN] datetime_to_day_hr: unable to strptime (with %S): the_date: 2011-10-17 the_time: 20:20\n",
      "[WARN] datetime_to_day_hr: unable to strptime (with %S): the_date: 2011-12-08 the_time: 18:20\n",
      "[WARN] datetime_to_day_hr: unable to strptime (with %S): the_date: 2012-01-09 the_time: 20:00\n",
      "[WARN] datetime_to_day_hr: unable to strptime (with %S): the_date: 2012-05-23 the_time: 14:56\n",
      "[WARN] datetime_to_day_hr: unable to strptime (with %S): the_date: 2012-07-13 the_time: 21:00\n",
      "[WARN] datetime_to_day_hr: unable to strptime (with %S): the_date: 2012-08-09 the_time: 14:00\n",
      "[WARN] datetime_to_day_hr: unable to strptime (with %S): the_date: 2012-08-30 the_time: 10:00\n",
      "[WARN] datetime_to_day_hr: unable to strptime (with %S): the_date: 2012-09-18 the_time: 11:10\n",
      "[WARN] datetime_to_day_hr: unable to strptime (with %S): the_date: 2012-12-18 the_time: 19:33\n",
      "[WARN] datetime_to_day_hr: unable to strptime (with %S): the_date: 2013-01-22 the_time: 17:15\n",
      "[WARN] datetime_to_day_hr: unable to strptime (with %S): the_date: 2013-01-25 the_time: 18:20\n",
      "[WARN] datetime_to_day_hr: unable to strptime (with %S): the_date: 2013-02-15 the_time: 20:10\n",
      "[WARN] datetime_to_day_hr: unable to strptime (with %S): the_date: 2013-04-13 the_time: 13:00\n",
      "[WARN] datetime_to_day_hr: unable to strptime (with %S): the_date: 2013-05-01 the_time: 17:28\n",
      "[WARN] datetime_to_day_hr: unable to strptime (with %S): the_date: 2013-06-10 the_time: 21:39\n",
      "[WARN] datetime_to_day_hr: unable to strptime (with %S): the_date: 2013-08-06 the_time: 20:25\n",
      "[WARN] datetime_to_day_hr: unable to strptime (with %S): the_date: 2013-08-15 the_time: 20:10\n",
      "[WARN] datetime_to_day_hr: unable to strptime (with %S): the_date: 2013-09-03 the_time: 17:36\n",
      "[WARN] datetime_to_day_hr: unable to strptime (with %S): the_date: 2013-09-24 the_time: 20:45\n",
      "[WARN] datetime_to_day_hr: unable to strptime (with %S): the_date: 2011-07-13 the_time: 08:30\n",
      "[WARN] datetime_to_day_hr: unable to strptime (with %S): the_date: 2011-07-15 the_time: 17:21\n",
      "[WARN] datetime_to_day_hr: unable to strptime (with %S): the_date: 2011-08-08 the_time: 08:29\n",
      "[WARN] datetime_to_day_hr: unable to strptime (with %S): the_date: 2011-08-09 the_time: 13:17\n",
      "[WARN] datetime_to_day_hr: unable to strptime (with %S): the_date: 2011-08-24 the_time: 10:26\n",
      "[WARN] datetime_to_day_hr: unable to strptime (with %S): the_date: 2011-08-29 the_time: 08:59\n",
      "[WARN] datetime_to_day_hr: unable to strptime (with %S): the_date: 2011-08-26 the_time: 07:54\n",
      "[WARN] datetime_to_day_hr: unable to strptime (with %S): the_date: 2011-10-18 the_time: 17:00\n",
      "[WARN] datetime_to_day_hr: unable to strptime (with %S): the_date: 2011-10-26 the_time: 08:35\n",
      "[WARN] datetime_to_day_hr: unable to strptime (with %S): the_date: 2011-12-20 the_time: 08:30\n",
      "[WARN] datetime_to_day_hr: unable to strptime (with %S): the_date: 2011-12-22 the_time: 08:31\n",
      "[WARN] datetime_to_day_hr: unable to strptime (with %S): the_date: 2012-06-21 the_time: 14:48\n",
      "[WARN] datetime_to_day_hr: unable to strptime (with %S): the_date: 2012-08-16 the_time: 09:34\n",
      "[WARN] datetime_to_day_hr: unable to strptime (with %S): the_date: 2012-09-19 the_time: 13:51\n",
      "[WARN] datetime_to_day_hr: unable to strptime (with %S): the_date: 2012-10-05 the_time: 11:48\n",
      "[WARN] datetime_to_day_hr: unable to strptime (with %S): the_date: 2012-12-10 the_time: 10:51\n",
      "[WARN] datetime_to_day_hr: unable to strptime (with %S): the_date: 2012-12-18 the_time: 11:53\n",
      "[WARN] datetime_to_day_hr: unable to strptime (with %S): the_date: 2012-12-18 the_time: 18:04\n",
      "[WARN] datetime_to_day_hr: unable to strptime (with %S): the_date: 2012-12-27 the_time: 08:19\n",
      "[WARN] datetime_to_day_hr: unable to strptime (with %S): the_date: 2013-01-10 the_time: 15:17\n",
      "[WARN] datetime_to_day_hr: unable to strptime (with %S): the_date: 2013-04-04 the_time: 13:20\n",
      "[WARN] datetime_to_day_hr: unable to strptime (with %S): the_date: 2013-04-19 the_time: 12:58\n",
      "[WARN] datetime_to_day_hr: unable to strptime (with %S): the_date: 2013-09-04 the_time: 17:35\n",
      "[WARN] datetime_to_day_hr: unable to strptime (with %S): the_date: 2013-09-30 the_time: 14:39\n",
      "[WARN] datetime_to_day_hr: unable to strptime (with %S): the_date: 2013-10-29 the_time: 09:46\n",
      "[WARN] datetime_to_day_hr: unable to strptime (with %S): the_date: 2011-05-04 the_time: 15:12\n",
      "[WARN] datetime_to_day_hr: unable to strptime (with %S): the_date: 2011-10-16 the_time: 11:05\n",
      "[WARN] datetime_to_day_hr: unable to strptime (with %S): the_date: 2011-10-25 the_time: 14:33\n",
      "[WARN] datetime_to_day_hr: unable to strptime (with %S): the_date: 2011-11-01 the_time: 21:29\n",
      "[WARN] datetime_to_day_hr: unable to strptime (with %S): the_date: 2011-11-28 the_time: 19:17\n",
      "[WARN] datetime_to_day_hr: unable to strptime (with %S): the_date: 2012-01-10 the_time: 17:13\n",
      "[WARN] datetime_to_day_hr: unable to strptime (with %S): the_date: 2012-02-22 the_time: 17:44\n",
      "[WARN] datetime_to_day_hr: unable to strptime (with %S): the_date: 2012-05-07 the_time: 14:20\n",
      "[WARN] datetime_to_day_hr: unable to strptime (with %S): the_date: 2012-07-12 the_time: 09:00\n",
      "[WARN] datetime_to_day_hr: unable to strptime (with %S): the_date: 2012-07-19 the_time: 14:39\n",
      "[WARN] datetime_to_day_hr: unable to strptime (with %S): the_date: 2012-08-07 the_time: 14:56\n",
      "[WARN] datetime_to_day_hr: unable to strptime (with %S): the_date: 2012-08-08 the_time: 18:41\n",
      "[WARN] datetime_to_day_hr: unable to strptime (with %S): the_date: 2012-08-23 the_time: 13:35\n",
      "[WARN] datetime_to_day_hr: unable to strptime (with %S): the_date: 2012-10-23 the_time: 18:27\n",
      "[WARN] datetime_to_day_hr: unable to strptime (with %S): the_date: 2012-11-16 the_time: 15:32\n",
      "[WARN] datetime_to_day_hr: unable to strptime (with %S): the_date: 2013-04-02 the_time: 12:22\n",
      "[WARN] datetime_to_day_hr: unable to strptime (with %S): the_date: 2013-04-22 the_time: 15:18\n",
      "[WARN] datetime_to_day_hr: unable to strptime (with %S): the_date: 2013-05-04 the_time: 16:38\n",
      "[WARN] datetime_to_day_hr: unable to strptime (with %S): the_date: 2013-05-17 the_time: 15:26\n",
      "[WARN] datetime_to_day_hr: unable to strptime (with %S): the_date: 2013-06-22 the_time: 14:39\n",
      "[WARN] datetime_to_day_hr: unable to strptime (with %S): the_date: 2013-09-11 the_time: 18:15\n",
      "[WARN] datetime_to_day_hr: unable to strptime (with %S): the_date: 2013-10-08 the_time: 19:22\n",
      "04-01-status.csv: time_columns: ['deathTime'] time_date_columns: ['deathDate'] date_columns: ['statusDate', 'dischargeDate', 'transferDate']\n"
     ]
    },
    {
     "name": "stdout",
     "output_type": "stream",
     "text": [
      "04-03-cardiovascular.csv: time_columns: [] time_date_columns: [] date_columns: []\n",
      "04-04-respiratory.csv: time_columns: ['dischargePulmonaryStartTime1', 'dischargePulmonaryEndTime1', 'dischargePulmonaryStartTime2', 'dischargePulmonaryEndTime2', 'dischargePulmonaryStartTime3', 'dischargePulmonaryEndTime3'] time_date_columns: ['dischargePulmonaryStartDate1', 'dischargePulmonaryEndDate1', 'dischargePulmonaryStartDate2', 'dischargePulmonaryEndDate2', 'dischargePulmonaryStartDate3', 'dischargePulmonaryEndDate3'] date_columns: []\n"
     ]
    },
    {
     "name": "stdout",
     "output_type": "stream",
     "text": [
      "04-05-hematology.csv: time_columns: [] time_date_columns: [] date_columns: []\n",
      "04-06-metabolic.csv: time_columns: [] time_date_columns: [] date_columns: []\n"
     ]
    },
    {
     "name": "stdout",
     "output_type": "stream",
     "text": [
      "04-07-renal.csv: time_columns: [] time_date_columns: [] date_columns: []\n"
     ]
    },
    {
     "name": "stdout",
     "output_type": "stream",
     "text": [
      "04-08-gastrointestinal.csv: time_columns: [] time_date_columns: [] date_columns: []\n",
      "04-09-skin.csv: time_columns: [] time_date_columns: [] date_columns: ['dischargeErythemaOnsetDate', 'dischargeErythemaResolveDate', 'dischargeScleremaOnsetDate', 'dischargeScleremaResolveDate', 'dischargeCyanosisOnsetDate', 'dischargeCyanosisResolveDate', 'dischargeSubFatNecrosisOnsetDate', 'dischargeSubFatNecrosisResolveDate']\n"
     ]
    },
    {
     "name": "stdout",
     "output_type": "stream",
     "text": [
      "04-10-auditory.csv: time_columns: [] time_date_columns: [] date_columns: []\n",
      "04-11-surgery.csv: time_columns: [] time_date_columns: [] date_columns: []\n"
     ]
    },
    {
     "name": "stdout",
     "output_type": "stream",
     "text": [
      "04-12-infection.csv: time_columns: [] time_date_columns: [] date_columns: []\n",
      "04-02-neuro-exam.csv: time_columns: ['dischargeNeuroExamTime'] time_date_columns: ['dischargeNeuroExamDate'] date_columns: []\n"
     ]
    },
    {
     "name": "stdout",
     "output_type": "stream",
     "text": [
      "04-13-seizure.csv: time_columns: ['dischargeEEGFindingConsistentWithSeizureTime', 'dischargeEEGAbnormalBackgroundActivityTime'] time_date_columns: ['dischargeEEGFindingConsistentWithSeizureDate', 'dischargeEEGAbnormalBackgroundActivityDate'] date_columns: []\n",
      "04-14-birth-defect.csv: time_columns: [] time_date_columns: [] date_columns: []\n"
     ]
    },
    {
     "name": "stdout",
     "output_type": "stream",
     "text": [
      "04-15-home-therapy.csv: time_columns: [] time_date_columns: [] date_columns: []\n",
      "04-16-wdraw-support.csv: time_columns: ['wdrawSupportTime'] time_date_columns: ['wdrawSupportDate'] date_columns: []\n"
     ]
    },
    {
     "name": "stdout",
     "output_type": "stream",
     "text": [
      "04-17-limit-care.csv: time_columns: ['limitCareDNRTime'] time_date_columns: ['limitCareDNRDate'] date_columns: []\n",
      "20-00-follow-up.csv: time_columns: [] time_date_columns: [] date_columns: ['visitDate']\n"
     ]
    },
    {
     "name": "stdout",
     "output_type": "stream",
     "text": [
      "20-01-ses.csv: time_columns: [] time_date_columns: [] date_columns: ['SESVisitDate', 'SESBirthDate', 'SESInterviewDate']\n"
     ]
    },
    {
     "name": "stdout",
     "output_type": "stream",
     "text": [
      "20-02-medical-history.csv: time_columns: [] time_date_columns: [] date_columns: []\n",
      "20-03-medical-exam.csv: time_columns: [] time_date_columns: [] date_columns: ['examCompleteDate']\n"
     ]
    },
    {
     "name": "stdout",
     "output_type": "stream",
     "text": [
      "20-04-bayley-iii.csv: time_columns: [] time_date_columns: [] date_columns: ['BayleyIIIDate']\n",
      "20-05-gmfcs.csv: time_columns: [] time_date_columns: [] date_columns: []\n"
     ]
    },
    {
     "name": "stdout",
     "output_type": "stream",
     "text": [
      "20-06-status.csv: time_columns: [] time_date_columns: [] date_columns: ['statusVisitDate', 'statusBirthDate', 'deathDate', 'firstVisitDate', 'finalVisitDate']\n",
      "20-07-readmission.csv: time_columns: [] time_date_columns: [] date_columns: []\n"
     ]
    },
    {
     "name": "stdout",
     "output_type": "stream",
     "text": [
      "20-08-lost.csv: time_columns: [] time_date_columns: [] date_columns: ['lostFollowUpLastContactDate', 'lostFollowUpFormCompleteDate', 'lostFollowUpDeathDate', 'lostFollowUpInterviewDate', 'lostFollowUpChartReviewDate']\n",
      "30-01-secondary.csv: time_columns: [] time_date_columns: [] date_columns: []\n"
     ]
    },
    {
     "name": "stdout",
     "output_type": "stream",
     "text": [
      "30-02-outcome.csv: time_columns: [] time_date_columns: [] date_columns: []\n",
      "30-03-mri.csv: time_columns: ['MRITime'] time_date_columns: ['MRIDate'] date_columns: []\n"
     ]
    },
    {
     "name": "stdout",
     "output_type": "stream",
     "text": [
      "31-02-total-modified-sarnat.csv: time_columns: [] time_date_columns: [] date_columns: []\n",
      "31-03-mri.csv: time_columns: [] time_date_columns: [] date_columns: []\n"
     ]
    },
    {
     "name": "stdout",
     "output_type": "stream",
     "text": [
      "31-04-pse.csv: time_columns: [] time_date_columns: [] date_columns: []\n",
      "31-05-disability-level-death.csv: time_columns: [] time_date_columns: [] date_columns: []\n"
     ]
    },
    {
     "name": "stdout",
     "output_type": "stream",
     "text": [
      "31-06-emergency-csection.csv: time_columns: [] time_date_columns: [] date_columns: []\n"
     ]
    }
   ],
   "source": [
    "def _process_filename_info(filename_info):\n",
    "    if not filename_info.get('is_merge', True):\n",
    "        return\n",
    "\n",
    "    filename = f'{out_dir}/out-merged-normalized/{filename_info['name']}'\n",
    "    if not os.path.exists(filename):\n",
    "        return\n",
    "\n",
    "    df = pd.read_csv(filename, dtype='O')\n",
    "    df_dict = _get_data_dict(filename_info['data_dict'])\n",
    "\n",
    "    df_after_date_time = _process_date_time(df, df_dict, df_birth, filename_info)\n",
    "\n",
    "    df_after_remove_columns = _process_remove_columns(df_after_date_time)\n",
    "\n",
    "    os.makedirs(f'{out_dir}/out-publish-normalized', exist_ok=True)\n",
    "    out_filename = f\"{out_dir}/out-publish-normalized/{filename_info['name']}\"\n",
    "    df_after_remove_columns.to_csv(out_filename, index=False)\n",
    "\n",
    "\n",
    "for filename_info in COMBINE_harmonizer.FILENAME_INFOS:\n",
    "    _process_filename_info(filename_info)"
   ]
  }
 ],
 "metadata": {
  "kernelspec": {
   "display_name": ".venv",
   "language": "python",
   "name": "python3"
  },
  "language_info": {
   "codemirror_mode": {
    "name": "ipython",
    "version": 3
   },
   "file_extension": ".py",
   "mimetype": "text/x-python",
   "name": "python",
   "nbconvert_exporter": "python",
   "pygments_lexer": "ipython3",
   "version": "3.13.0"
  }
 },
 "nbformat": 4,
 "nbformat_minor": 2
}
