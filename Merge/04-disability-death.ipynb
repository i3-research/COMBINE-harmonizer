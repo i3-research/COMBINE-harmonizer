{
 "cells": [
  {
   "cell_type": "code",
   "execution_count": 1,
   "metadata": {
    "execution": {
     "iopub.execute_input": "2025-01-21T19:16:04.766902Z",
     "iopub.status.busy": "2025-01-21T19:16:04.766516Z",
     "iopub.status.idle": "2025-01-21T19:16:05.850860Z",
     "shell.execute_reply": "2025-01-21T19:16:05.850494Z"
    }
   },
   "outputs": [],
   "source": [
    "import pandas as pd\n",
    "pd.options.mode.copy_on_write = True\n",
    "import warnings\n",
    "warnings.simplefilter(action='ignore', category=pd.errors.PerformanceWarning)\n",
    "import os\n",
    "\n",
    "import itertools\n",
    "\n",
    "import COMBINE_harmonizer\n",
    "from COMBINE_harmonizer import cfg"
   ]
  },
  {
   "cell_type": "markdown",
   "metadata": {},
   "source": [
    "## 01. init"
   ]
  },
  {
   "cell_type": "code",
   "execution_count": 2,
   "metadata": {
    "execution": {
     "iopub.execute_input": "2025-01-21T19:16:05.852532Z",
     "iopub.status.busy": "2025-01-21T19:16:05.852400Z",
     "iopub.status.idle": "2025-01-21T19:16:05.854360Z",
     "shell.execute_reply": "2025-01-21T19:16:05.853898Z"
    }
   },
   "outputs": [],
   "source": [
    "root_dir = '../'"
   ]
  },
  {
   "cell_type": "code",
   "execution_count": 3,
   "metadata": {
    "execution": {
     "iopub.execute_input": "2025-01-21T19:16:05.855507Z",
     "iopub.status.busy": "2025-01-21T19:16:05.855421Z",
     "iopub.status.idle": "2025-01-21T19:16:05.858717Z",
     "shell.execute_reply": "2025-01-21T19:16:05.858495Z"
    }
   },
   "outputs": [],
   "source": [
    "COMBINE_harmonizer.init(f'{root_dir}/config.yaml')"
   ]
  },
  {
   "cell_type": "code",
   "execution_count": 4,
   "metadata": {
    "execution": {
     "iopub.execute_input": "2025-01-21T19:16:05.859877Z",
     "iopub.status.busy": "2025-01-21T19:16:05.859804Z",
     "iopub.status.idle": "2025-01-21T19:16:05.862669Z",
     "shell.execute_reply": "2025-01-21T19:16:05.862466Z"
    }
   },
   "outputs": [
    {
     "data": {
      "text/plain": [
       "{'out_dir': '/Volumes/neuro/labs/grantlab/research/chuanheng.hsiao/HIE-out',\n",
       " 'LH_sas_dir': '/Volumes/neuro/labs/grantlab/research/HIE_NRN_data/transferred_from_RTI/Late_Hypothermia/Clinical_Data',\n",
       " 'OC_sas_dir': '/Volumes/neuro/labs/grantlab/research/HIE_NRN_data/transferred_from_RTI/Optimizing_Cooling/Clinical Data',\n",
       " 'LH_follow_up_sas_dir': '/Volumes/neuro/labs/grantlab/research/HIE_NRN_data/transferred_from_RTI/Late_Hypothermia_Follow-up/Clinical Data',\n",
       " 'OC_follow_up_sas_dir': '/Volumes/neuro/labs/grantlab/research/HIE_NRN_data/transferred_from_RTI/Optimizing_Cooling_Follow-up/Clinical Data',\n",
       " 'LH_analysis_sas_dir': '/Volumes/neuro/labs/grantlab/research/HIE_NRN_data/transferred_from_RTI/Late_Hypothermia/Analysis_Data/Data Files',\n",
       " 'OC_analysis_sas_dir': '/Volumes/neuro/labs/grantlab/research/HIE_NRN_data/transferred_from_RTI/Optimizing_Cooling/Analysis Data/Data Files',\n",
       " 'LH_dir': '/Volumes/neuro/labs/grantlab/research/chuanheng.hsiao/HIE-out/csv/LH/ClinicalData',\n",
       " 'OC_dir': '/Volumes/neuro/labs/grantlab/research/chuanheng.hsiao/HIE-out/csv/OC/ClinicalData',\n",
       " 'LH_follow_up_dir': '/Volumes/neuro/labs/grantlab/research/chuanheng.hsiao/HIE-out/csv/LH/FollowUp',\n",
       " 'OC_follow_up_dir': '/Volumes/neuro/labs/grantlab/research/chuanheng.hsiao/HIE-out/csv/OC/FollowUp',\n",
       " 'LH_analysis_dir': '/Volumes/neuro/labs/grantlab/research/chuanheng.hsiao/HIE-out/csv/LH/Analysis',\n",
       " 'OC_analysis_dir': '/Volumes/neuro/labs/grantlab/research/chuanheng.hsiao/HIE-out/csv/OC/Analysis',\n",
       " 'dictionary_map': {'MRIReader': [{'name': '1', 'LH': 'PB', 'OC': '1'},\n",
       "   {'name': '2', 'LH': 'NR', 'OC': '2'},\n",
       "   {'name': '3', 'OC': '3'}]},\n",
       " 'redcap_token': '52709ACF965ADF89C6513D192C49CEE7',\n",
       " 'redcap_host': 'https://redcap-qi.tch.harvard.edu/redcap_edc/api/'}"
      ]
     },
     "execution_count": 4,
     "metadata": {},
     "output_type": "execute_result"
    }
   ],
   "source": [
    "cfg.config"
   ]
  },
  {
   "cell_type": "markdown",
   "metadata": {},
   "source": [
    "## 02. filename"
   ]
  },
  {
   "cell_type": "code",
   "execution_count": 5,
   "metadata": {
    "execution": {
     "iopub.execute_input": "2025-01-21T19:16:05.863822Z",
     "iopub.status.busy": "2025-01-21T19:16:05.863748Z",
     "iopub.status.idle": "2025-01-21T19:16:05.887874Z",
     "shell.execute_reply": "2025-01-21T19:16:05.887623Z"
    }
   },
   "outputs": [],
   "source": [
    "out_dir = cfg.config['out_dir']\n",
    "outcome_filename = f'{out_dir}/out-merged-normalized/30-02-outcome.csv'\n",
    "\n",
    "df = pd.read_csv(outcome_filename)"
   ]
  },
  {
   "cell_type": "code",
   "execution_count": 6,
   "metadata": {
    "execution": {
     "iopub.execute_input": "2025-01-21T19:16:05.889092Z",
     "iopub.status.busy": "2025-01-21T19:16:05.889017Z",
     "iopub.status.idle": "2025-01-21T19:16:05.891568Z",
     "shell.execute_reply": "2025-01-21T19:16:05.891349Z"
    }
   },
   "outputs": [
    {
     "data": {
      "text/plain": [
       "0      severe\n",
       "1      severe\n",
       "2      normal\n",
       "3        mild\n",
       "4      normal\n",
       "        ...  \n",
       "527       NaN\n",
       "528    normal\n",
       "529    severe\n",
       "530    normal\n",
       "531    normal\n",
       "Name: disabilityLevel, Length: 532, dtype: object"
      ]
     },
     "execution_count": 6,
     "metadata": {},
     "output_type": "execute_result"
    }
   ],
   "source": [
    "df['disabilityLevel']"
   ]
  },
  {
   "cell_type": "code",
   "execution_count": 7,
   "metadata": {
    "execution": {
     "iopub.execute_input": "2025-01-21T19:16:05.892695Z",
     "iopub.status.busy": "2025-01-21T19:16:05.892618Z",
     "iopub.status.idle": "2025-01-21T19:16:05.894421Z",
     "shell.execute_reply": "2025-01-21T19:16:05.894217Z"
    }
   },
   "outputs": [
    {
     "name": "stderr",
     "output_type": "stream",
     "text": [
      "/var/folders/84/vxdpc5mx2cqdr6zvp8p_tygc0000gn/T/ipykernel_18862/3580702884.py:1: FutureWarning: Downcasting object dtype arrays on .fillna, .ffill, .bfill is deprecated and will change in a future version. Call result.infer_objects(copy=False) instead. To opt-in to the future behavior, set `pd.set_option('future.no_silent_downcasting', True)`\n",
      "  is_death_before_followup = df['deathBeforeFollowup'].copy().fillna(False)\n"
     ]
    }
   ],
   "source": [
    "is_death_before_followup = df['deathBeforeFollowup'].copy().fillna(False)"
   ]
  },
  {
   "cell_type": "code",
   "execution_count": 8,
   "metadata": {
    "execution": {
     "iopub.execute_input": "2025-01-21T19:16:05.895504Z",
     "iopub.status.busy": "2025-01-21T19:16:05.895430Z",
     "iopub.status.idle": "2025-01-21T19:16:05.897744Z",
     "shell.execute_reply": "2025-01-21T19:16:05.897541Z"
    }
   },
   "outputs": [
    {
     "data": {
      "text/plain": [
       "0       True\n",
       "1      False\n",
       "2      False\n",
       "3      False\n",
       "4      False\n",
       "       ...  \n",
       "527    False\n",
       "528    False\n",
       "529     True\n",
       "530    False\n",
       "531    False\n",
       "Name: deathBeforeFollowup, Length: 532, dtype: bool"
      ]
     },
     "execution_count": 8,
     "metadata": {},
     "output_type": "execute_result"
    }
   ],
   "source": [
    "is_death_before_followup"
   ]
  },
  {
   "cell_type": "code",
   "execution_count": 9,
   "metadata": {
    "execution": {
     "iopub.execute_input": "2025-01-21T19:16:05.898786Z",
     "iopub.status.busy": "2025-01-21T19:16:05.898717Z",
     "iopub.status.idle": "2025-01-21T19:16:05.900775Z",
     "shell.execute_reply": "2025-01-21T19:16:05.900577Z"
    }
   },
   "outputs": [],
   "source": [
    "df['disabilityLevelDeath'] = df['disabilityLevel'].copy()\n",
    "df.loc[is_death_before_followup, 'disabilityLevelDeath'] = 'death'"
   ]
  },
  {
   "cell_type": "code",
   "execution_count": 10,
   "metadata": {
    "execution": {
     "iopub.execute_input": "2025-01-21T19:16:05.901837Z",
     "iopub.status.busy": "2025-01-21T19:16:05.901766Z",
     "iopub.status.idle": "2025-01-21T19:16:05.906837Z",
     "shell.execute_reply": "2025-01-21T19:16:05.906622Z"
    }
   },
   "outputs": [
    {
     "data": {
      "text/html": [
       "<div>\n",
       "<style scoped>\n",
       "    .dataframe tbody tr th:only-of-type {\n",
       "        vertical-align: middle;\n",
       "    }\n",
       "\n",
       "    .dataframe tbody tr th {\n",
       "        vertical-align: top;\n",
       "    }\n",
       "\n",
       "    .dataframe thead th {\n",
       "        text-align: right;\n",
       "    }\n",
       "</style>\n",
       "<table border=\"1\" class=\"dataframe\">\n",
       "  <thead>\n",
       "    <tr style=\"text-align: right;\">\n",
       "      <th></th>\n",
       "      <th>disabilityLevel</th>\n",
       "      <th>deathBeforeFollowup</th>\n",
       "      <th>disabilityLevelDeath</th>\n",
       "    </tr>\n",
       "  </thead>\n",
       "  <tbody>\n",
       "    <tr>\n",
       "      <th>0</th>\n",
       "      <td>severe</td>\n",
       "      <td>True</td>\n",
       "      <td>death</td>\n",
       "    </tr>\n",
       "    <tr>\n",
       "      <th>1</th>\n",
       "      <td>severe</td>\n",
       "      <td>False</td>\n",
       "      <td>severe</td>\n",
       "    </tr>\n",
       "    <tr>\n",
       "      <th>2</th>\n",
       "      <td>normal</td>\n",
       "      <td>False</td>\n",
       "      <td>normal</td>\n",
       "    </tr>\n",
       "    <tr>\n",
       "      <th>3</th>\n",
       "      <td>mild</td>\n",
       "      <td>False</td>\n",
       "      <td>mild</td>\n",
       "    </tr>\n",
       "    <tr>\n",
       "      <th>4</th>\n",
       "      <td>normal</td>\n",
       "      <td>False</td>\n",
       "      <td>normal</td>\n",
       "    </tr>\n",
       "    <tr>\n",
       "      <th>...</th>\n",
       "      <td>...</td>\n",
       "      <td>...</td>\n",
       "      <td>...</td>\n",
       "    </tr>\n",
       "    <tr>\n",
       "      <th>527</th>\n",
       "      <td>NaN</td>\n",
       "      <td>False</td>\n",
       "      <td>NaN</td>\n",
       "    </tr>\n",
       "    <tr>\n",
       "      <th>528</th>\n",
       "      <td>normal</td>\n",
       "      <td>False</td>\n",
       "      <td>normal</td>\n",
       "    </tr>\n",
       "    <tr>\n",
       "      <th>529</th>\n",
       "      <td>severe</td>\n",
       "      <td>True</td>\n",
       "      <td>death</td>\n",
       "    </tr>\n",
       "    <tr>\n",
       "      <th>530</th>\n",
       "      <td>normal</td>\n",
       "      <td>False</td>\n",
       "      <td>normal</td>\n",
       "    </tr>\n",
       "    <tr>\n",
       "      <th>531</th>\n",
       "      <td>normal</td>\n",
       "      <td>False</td>\n",
       "      <td>normal</td>\n",
       "    </tr>\n",
       "  </tbody>\n",
       "</table>\n",
       "<p>532 rows × 3 columns</p>\n",
       "</div>"
      ],
      "text/plain": [
       "    disabilityLevel deathBeforeFollowup disabilityLevelDeath\n",
       "0            severe                True                death\n",
       "1            severe               False               severe\n",
       "2            normal               False               normal\n",
       "3              mild               False                 mild\n",
       "4            normal               False               normal\n",
       "..              ...                 ...                  ...\n",
       "527             NaN               False                  NaN\n",
       "528          normal               False               normal\n",
       "529          severe                True                death\n",
       "530          normal               False               normal\n",
       "531          normal               False               normal\n",
       "\n",
       "[532 rows x 3 columns]"
      ]
     },
     "execution_count": 10,
     "metadata": {},
     "output_type": "execute_result"
    }
   ],
   "source": [
    "columns = ['disabilityLevel', 'deathBeforeFollowup', 'disabilityLevelDeath']\n",
    "df[columns]"
   ]
  },
  {
   "cell_type": "code",
   "execution_count": 11,
   "metadata": {
    "execution": {
     "iopub.execute_input": "2025-01-21T19:16:05.907949Z",
     "iopub.status.busy": "2025-01-21T19:16:05.907871Z",
     "iopub.status.idle": "2025-01-21T19:16:05.959528Z",
     "shell.execute_reply": "2025-01-21T19:16:05.959252Z"
    }
   },
   "outputs": [],
   "source": [
    "columns = ['_study', 'center', 'subjectID', 'uniqueID', 'followupCenter', 'disabilityLevelDeath']\n",
    "\n",
    "df_out = df[columns]\n",
    "for idx in ['center', 'followupCenter']:\n",
    "    df_out[idx] = df_out[idx].astype('O')\n",
    "    df_out.loc[:, idx] = df_out[idx].apply(COMBINE_harmonizer.to_center)\n",
    "\n",
    "out_filename = f'{out_dir}/out-merged-normalized/31-05-disability-level-death.csv'\n",
    "df_out.to_csv(out_filename, index=False)"
   ]
  }
 ],
 "metadata": {
  "kernelspec": {
   "display_name": ".venv",
   "language": "python",
   "name": "python3"
  },
  "language_info": {
   "codemirror_mode": {
    "name": "ipython",
    "version": 3
   },
   "file_extension": ".py",
   "mimetype": "text/x-python",
   "name": "python",
   "nbconvert_exporter": "python",
   "pygments_lexer": "ipython3",
   "version": "3.13.0"
  }
 },
 "nbformat": 4,
 "nbformat_minor": 2
}
