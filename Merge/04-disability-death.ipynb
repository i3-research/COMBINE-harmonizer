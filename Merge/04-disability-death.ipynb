{
 "cells": [
  {
   "cell_type": "code",
   "execution_count": 1,
   "metadata": {
    "execution": {
     "iopub.execute_input": "2025-05-10T00:15:18.014292Z",
     "iopub.status.busy": "2025-05-10T00:15:18.013533Z",
     "iopub.status.idle": "2025-05-10T00:15:19.312567Z",
     "shell.execute_reply": "2025-05-10T00:15:19.312208Z"
    }
   },
   "outputs": [],
   "source": [
    "import pandas as pd\n",
    "pd.options.mode.copy_on_write = True\n",
    "pd.set_option('future.no_silent_downcasting', True)\n",
    "import warnings\n",
    "warnings.simplefilter(action='ignore', category=pd.errors.PerformanceWarning)\n",
    "\n",
    "import COMBINE_harmonizer\n",
    "from COMBINE_harmonizer import cfg"
   ]
  },
  {
   "cell_type": "markdown",
   "metadata": {},
   "source": [
    "## 01. init"
   ]
  },
  {
   "cell_type": "code",
   "execution_count": 2,
   "metadata": {
    "execution": {
     "iopub.execute_input": "2025-05-10T00:15:19.314487Z",
     "iopub.status.busy": "2025-05-10T00:15:19.314297Z",
     "iopub.status.idle": "2025-05-10T00:15:19.316011Z",
     "shell.execute_reply": "2025-05-10T00:15:19.315802Z"
    }
   },
   "outputs": [],
   "source": [
    "root_dir = '../'"
   ]
  },
  {
   "cell_type": "code",
   "execution_count": 3,
   "metadata": {
    "execution": {
     "iopub.execute_input": "2025-05-10T00:15:19.317170Z",
     "iopub.status.busy": "2025-05-10T00:15:19.317090Z",
     "iopub.status.idle": "2025-05-10T00:15:19.322775Z",
     "shell.execute_reply": "2025-05-10T00:15:19.322571Z"
    }
   },
   "outputs": [],
   "source": [
    "COMBINE_harmonizer.init(f'{root_dir}/config.yaml')"
   ]
  },
  {
   "cell_type": "markdown",
   "metadata": {},
   "source": [
    "## 02. filename"
   ]
  },
  {
   "cell_type": "code",
   "execution_count": 4,
   "metadata": {
    "execution": {
     "iopub.execute_input": "2025-05-10T00:15:19.324020Z",
     "iopub.status.busy": "2025-05-10T00:15:19.323940Z",
     "iopub.status.idle": "2025-05-10T00:15:19.403880Z",
     "shell.execute_reply": "2025-05-10T00:15:19.403526Z"
    }
   },
   "outputs": [],
   "source": [
    "out_dir = cfg.config['out_dir']\n",
    "outcome_filename = f'{out_dir}/out-merged-normalized/20-10-outcome.csv'\n",
    "\n",
    "df = pd.read_csv(outcome_filename)"
   ]
  },
  {
   "cell_type": "code",
   "execution_count": 5,
   "metadata": {
    "execution": {
     "iopub.execute_input": "2025-05-10T00:15:19.405672Z",
     "iopub.status.busy": "2025-05-10T00:15:19.405531Z",
     "iopub.status.idle": "2025-05-10T00:15:19.407996Z",
     "shell.execute_reply": "2025-05-10T00:15:19.407727Z"
    }
   },
   "outputs": [],
   "source": [
    "is_death_before_followup = df['deathBeforeFollowup'].copy().fillna(False)"
   ]
  },
  {
   "cell_type": "code",
   "execution_count": 6,
   "metadata": {
    "execution": {
     "iopub.execute_input": "2025-05-10T00:15:19.409477Z",
     "iopub.status.busy": "2025-05-10T00:15:19.409333Z",
     "iopub.status.idle": "2025-05-10T00:15:19.412215Z",
     "shell.execute_reply": "2025-05-10T00:15:19.411902Z"
    }
   },
   "outputs": [],
   "source": [
    "df['disabilityLevelDeath'] = df['disabilityLevelDeath4Category'].copy()\n",
    "df.loc[is_death_before_followup, 'disabilityLevelDeath'] = 'death'"
   ]
  },
  {
   "cell_type": "code",
   "execution_count": 7,
   "metadata": {
    "execution": {
     "iopub.execute_input": "2025-05-10T00:15:19.413678Z",
     "iopub.status.busy": "2025-05-10T00:15:19.413538Z",
     "iopub.status.idle": "2025-05-10T00:15:19.423640Z",
     "shell.execute_reply": "2025-05-10T00:15:19.423395Z"
    }
   },
   "outputs": [
    {
     "data": {
      "text/html": [
       "<div>\n",
       "<style scoped>\n",
       "    .dataframe tbody tr th:only-of-type {\n",
       "        vertical-align: middle;\n",
       "    }\n",
       "\n",
       "    .dataframe tbody tr th {\n",
       "        vertical-align: top;\n",
       "    }\n",
       "\n",
       "    .dataframe thead th {\n",
       "        text-align: right;\n",
       "    }\n",
       "</style>\n",
       "<table border=\"1\" class=\"dataframe\">\n",
       "  <thead>\n",
       "    <tr style=\"text-align: right;\">\n",
       "      <th></th>\n",
       "      <th>uniqueID</th>\n",
       "      <th>disabilityLevelDeath4Category</th>\n",
       "      <th>deathBeforeFollowup</th>\n",
       "      <th>disabilityLevelDeath</th>\n",
       "    </tr>\n",
       "  </thead>\n",
       "  <tbody>\n",
       "    <tr>\n",
       "      <th>0</th>\n",
       "      <td>03:LH087</td>\n",
       "      <td>severe</td>\n",
       "      <td>True</td>\n",
       "      <td>death</td>\n",
       "    </tr>\n",
       "    <tr>\n",
       "      <th>1</th>\n",
       "      <td>03:LH088</td>\n",
       "      <td>severe</td>\n",
       "      <td>False</td>\n",
       "      <td>severe</td>\n",
       "    </tr>\n",
       "    <tr>\n",
       "      <th>2</th>\n",
       "      <td>03:LH092</td>\n",
       "      <td>normal</td>\n",
       "      <td>False</td>\n",
       "      <td>normal</td>\n",
       "    </tr>\n",
       "    <tr>\n",
       "      <th>3</th>\n",
       "      <td>03:LH094</td>\n",
       "      <td>mild</td>\n",
       "      <td>False</td>\n",
       "      <td>mild</td>\n",
       "    </tr>\n",
       "    <tr>\n",
       "      <th>4</th>\n",
       "      <td>03:LH098</td>\n",
       "      <td>normal</td>\n",
       "      <td>False</td>\n",
       "      <td>normal</td>\n",
       "    </tr>\n",
       "    <tr>\n",
       "      <th>...</th>\n",
       "      <td>...</td>\n",
       "      <td>...</td>\n",
       "      <td>...</td>\n",
       "      <td>...</td>\n",
       "    </tr>\n",
       "    <tr>\n",
       "      <th>527</th>\n",
       "      <td>31:OC3411</td>\n",
       "      <td>NaN</td>\n",
       "      <td>False</td>\n",
       "      <td>NaN</td>\n",
       "    </tr>\n",
       "    <tr>\n",
       "      <th>528</th>\n",
       "      <td>31:OC3441</td>\n",
       "      <td>normal</td>\n",
       "      <td>False</td>\n",
       "      <td>normal</td>\n",
       "    </tr>\n",
       "    <tr>\n",
       "      <th>529</th>\n",
       "      <td>31:OC3471</td>\n",
       "      <td>severe</td>\n",
       "      <td>True</td>\n",
       "      <td>death</td>\n",
       "    </tr>\n",
       "    <tr>\n",
       "      <th>530</th>\n",
       "      <td>31:OC3551</td>\n",
       "      <td>normal</td>\n",
       "      <td>False</td>\n",
       "      <td>normal</td>\n",
       "    </tr>\n",
       "    <tr>\n",
       "      <th>531</th>\n",
       "      <td>31:OC3561</td>\n",
       "      <td>normal</td>\n",
       "      <td>False</td>\n",
       "      <td>normal</td>\n",
       "    </tr>\n",
       "  </tbody>\n",
       "</table>\n",
       "<p>532 rows × 4 columns</p>\n",
       "</div>"
      ],
      "text/plain": [
       "      uniqueID disabilityLevelDeath4Category deathBeforeFollowup  \\\n",
       "0     03:LH087                        severe                True   \n",
       "1     03:LH088                        severe               False   \n",
       "2     03:LH092                        normal               False   \n",
       "3     03:LH094                          mild               False   \n",
       "4     03:LH098                        normal               False   \n",
       "..         ...                           ...                 ...   \n",
       "527  31:OC3411                           NaN               False   \n",
       "528  31:OC3441                        normal               False   \n",
       "529  31:OC3471                        severe                True   \n",
       "530  31:OC3551                        normal               False   \n",
       "531  31:OC3561                        normal               False   \n",
       "\n",
       "    disabilityLevelDeath  \n",
       "0                  death  \n",
       "1                 severe  \n",
       "2                 normal  \n",
       "3                   mild  \n",
       "4                 normal  \n",
       "..                   ...  \n",
       "527                  NaN  \n",
       "528               normal  \n",
       "529                death  \n",
       "530               normal  \n",
       "531               normal  \n",
       "\n",
       "[532 rows x 4 columns]"
      ]
     },
     "execution_count": 7,
     "metadata": {},
     "output_type": "execute_result"
    }
   ],
   "source": [
    "columns = ['uniqueID', 'disabilityLevelDeath4Category', 'deathBeforeFollowup', 'disabilityLevelDeath']\n",
    "df[columns]"
   ]
  },
  {
   "cell_type": "code",
   "execution_count": 8,
   "metadata": {
    "execution": {
     "iopub.execute_input": "2025-05-10T00:15:19.425018Z",
     "iopub.status.busy": "2025-05-10T00:15:19.424924Z",
     "iopub.status.idle": "2025-05-10T00:15:19.481494Z",
     "shell.execute_reply": "2025-05-10T00:15:19.481122Z"
    }
   },
   "outputs": [],
   "source": [
    "columns = ['_study', 'center', 'subjectID', 'uniqueID', 'followupCenter', 'disabilityLevelDeath']\n",
    "\n",
    "df_out = df[columns]\n",
    "for idx in ['center', 'followupCenter']:\n",
    "    df_out[idx] = df_out[idx].astype('O')\n",
    "    df_out.loc[:, idx] = df_out[idx].apply(COMBINE_harmonizer.to_center)\n",
    "\n",
    "out_filename = f'{out_dir}/out-merged-normalized/20-10_1-disability-level-death.csv'\n",
    "df_out.to_csv(out_filename, index=False)"
   ]
  },
  {
   "cell_type": "code",
   "execution_count": null,
   "metadata": {},
   "outputs": [],
   "source": []
  }
 ],
 "metadata": {
  "kernelspec": {
   "display_name": ".venv",
   "language": "python",
   "name": "python3"
  },
  "language_info": {
   "codemirror_mode": {
    "name": "ipython",
    "version": 3
   },
   "file_extension": ".py",
   "mimetype": "text/x-python",
   "name": "python",
   "nbconvert_exporter": "python",
   "pygments_lexer": "ipython3",
   "version": "3.13.2"
  }
 },
 "nbformat": 4,
 "nbformat_minor": 2
}
