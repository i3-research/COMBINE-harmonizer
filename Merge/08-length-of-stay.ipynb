{
 "cells": [
  {
   "cell_type": "code",
   "execution_count": 1,
   "metadata": {
    "execution": {
     "iopub.execute_input": "2025-05-10T00:15:37.478303Z",
     "iopub.status.busy": "2025-05-10T00:15:37.477883Z",
     "iopub.status.idle": "2025-05-10T00:15:38.764019Z",
     "shell.execute_reply": "2025-05-10T00:15:38.763702Z"
    }
   },
   "outputs": [],
   "source": [
    "import pandas as pd\n",
    "pd.options.mode.copy_on_write = True\n",
    "import warnings\n",
    "warnings.simplefilter(action='ignore', category=pd.errors.PerformanceWarning)\n",
    "\n",
    "import COMBINE_harmonizer\n",
    "from COMBINE_harmonizer import cfg"
   ]
  },
  {
   "cell_type": "markdown",
   "metadata": {},
   "source": [
    "## 01. Init"
   ]
  },
  {
   "cell_type": "code",
   "execution_count": 2,
   "metadata": {
    "execution": {
     "iopub.execute_input": "2025-05-10T00:15:38.765738Z",
     "iopub.status.busy": "2025-05-10T00:15:38.765601Z",
     "iopub.status.idle": "2025-05-10T00:15:38.767244Z",
     "shell.execute_reply": "2025-05-10T00:15:38.767041Z"
    }
   },
   "outputs": [],
   "source": [
    "root_dir = '../'"
   ]
  },
  {
   "cell_type": "code",
   "execution_count": 3,
   "metadata": {
    "execution": {
     "iopub.execute_input": "2025-05-10T00:15:38.768338Z",
     "iopub.status.busy": "2025-05-10T00:15:38.768262Z",
     "iopub.status.idle": "2025-05-10T00:15:38.771659Z",
     "shell.execute_reply": "2025-05-10T00:15:38.771421Z"
    }
   },
   "outputs": [],
   "source": [
    "COMBINE_harmonizer.init(f'{root_dir}/config.yaml')"
   ]
  },
  {
   "cell_type": "markdown",
   "metadata": {},
   "source": [
    "## 02. Load 04-01-status.csv"
   ]
  },
  {
   "cell_type": "code",
   "execution_count": 4,
   "metadata": {
    "execution": {
     "iopub.execute_input": "2025-05-10T00:15:38.773003Z",
     "iopub.status.busy": "2025-05-10T00:15:38.772923Z",
     "iopub.status.idle": "2025-05-10T00:15:38.818323Z",
     "shell.execute_reply": "2025-05-10T00:15:38.818031Z"
    }
   },
   "outputs": [],
   "source": [
    "out_dir = cfg.config['out_dir']\n",
    "filename = f'{out_dir}/out-publish-normalized/04-01-status.csv'\n",
    "\n",
    "df_status = pd.read_csv(filename, dtype='O')"
   ]
  },
  {
   "cell_type": "markdown",
   "metadata": {},
   "source": [
    "### 02.1 merge transfer "
   ]
  },
  {
   "cell_type": "code",
   "execution_count": 5,
   "metadata": {
    "execution": {
     "iopub.execute_input": "2025-05-10T00:15:38.819953Z",
     "iopub.status.busy": "2025-05-10T00:15:38.819862Z",
     "iopub.status.idle": "2025-05-10T00:15:38.880869Z",
     "shell.execute_reply": "2025-05-10T00:15:38.880368Z"
    }
   },
   "outputs": [],
   "source": [
    "is_transfer = df_status['status'].isin(['transfer to another hospital', 'transfer'])\n",
    "df_status.loc[is_transfer, 'lengthOfStay_day'] = df_status.loc[is_transfer, 'transferDate']\n",
    "df_status.loc[is_transfer == False, 'lengthOfStay_day'] = df_status.loc[is_transfer == False, 'statusDate']\n",
    "\n",
    "\n",
    "columns = ['_study', 'center', 'subjectID', 'uniqueID', 'lengthOfStay_day']\n",
    "df_out = df_status[columns]\n",
    "\n",
    "out_filename = f'{out_dir}/out-publish-normalized/04-01_1-length-of-stay.csv'\n",
    "df_out.to_csv(out_filename, index=False)"
   ]
  }
 ],
 "metadata": {
  "kernelspec": {
   "display_name": ".venv",
   "language": "python",
   "name": "python3"
  },
  "language_info": {
   "codemirror_mode": {
    "name": "ipython",
    "version": 3
   },
   "file_extension": ".py",
   "mimetype": "text/x-python",
   "name": "python",
   "nbconvert_exporter": "python",
   "pygments_lexer": "ipython3",
   "version": "3.13.2"
  }
 },
 "nbformat": 4,
 "nbformat_minor": 2
}
