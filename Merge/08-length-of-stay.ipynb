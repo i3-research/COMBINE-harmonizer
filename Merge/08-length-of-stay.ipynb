{
 "cells": [
  {
   "cell_type": "code",
   "execution_count": 1,
   "metadata": {
    "execution": {
     "iopub.execute_input": "2025-02-04T10:55:23.551102Z",
     "iopub.status.busy": "2025-02-04T10:55:23.550839Z",
     "iopub.status.idle": "2025-02-04T10:55:24.716886Z",
     "shell.execute_reply": "2025-02-04T10:55:24.716431Z"
    }
   },
   "outputs": [],
   "source": [
    "import pandas as pd\n",
    "pd.options.mode.copy_on_write = True\n",
    "import warnings\n",
    "warnings.simplefilter(action='ignore', category=pd.errors.PerformanceWarning)\n",
    "\n",
    "import COMBINE_harmonizer\n",
    "from COMBINE_harmonizer import cfg"
   ]
  },
  {
   "cell_type": "markdown",
   "metadata": {},
   "source": [
    "## 01. Init"
   ]
  },
  {
   "cell_type": "code",
   "execution_count": 2,
   "metadata": {
    "execution": {
     "iopub.execute_input": "2025-02-04T10:55:24.718981Z",
     "iopub.status.busy": "2025-02-04T10:55:24.718660Z",
     "iopub.status.idle": "2025-02-04T10:55:24.720756Z",
     "shell.execute_reply": "2025-02-04T10:55:24.720493Z"
    }
   },
   "outputs": [],
   "source": [
    "root_dir = '../'"
   ]
  },
  {
   "cell_type": "code",
   "execution_count": 3,
   "metadata": {
    "execution": {
     "iopub.execute_input": "2025-02-04T10:55:24.721953Z",
     "iopub.status.busy": "2025-02-04T10:55:24.721820Z",
     "iopub.status.idle": "2025-02-04T10:55:24.726674Z",
     "shell.execute_reply": "2025-02-04T10:55:24.726456Z"
    }
   },
   "outputs": [
    {
     "data": {
      "text/plain": [
       "{'out_dir': '/Volumes/neuro/labs/grantlab/research/chuanheng.hsiao/HIE-out',\n",
       " 'LH_sas_dir': '/Volumes/neuro/labs/grantlab/research/HIE_NRN_data/transferred_from_RTI/Late_Hypothermia/Clinical_Data',\n",
       " 'OC_sas_dir': '/Volumes/neuro/labs/grantlab/research/HIE_NRN_data/transferred_from_RTI/Optimizing_Cooling/Clinical Data',\n",
       " 'LH_follow_up_sas_dir': '/Volumes/neuro/labs/grantlab/research/HIE_NRN_data/transferred_from_RTI/Late_Hypothermia_Follow-up/Clinical Data',\n",
       " 'OC_follow_up_sas_dir': '/Volumes/neuro/labs/grantlab/research/HIE_NRN_data/transferred_from_RTI/Optimizing_Cooling_Follow-up/Clinical Data',\n",
       " 'LH_analysis_sas_dir': '/Volumes/neuro/labs/grantlab/research/HIE_NRN_data/transferred_from_RTI/Late_Hypothermia/Analysis_Data/Data Files',\n",
       " 'OC_analysis_sas_dir': '/Volumes/neuro/labs/grantlab/research/HIE_NRN_data/transferred_from_RTI/Optimizing_Cooling/Analysis Data/Data Files',\n",
       " 'LH_dir': '/Volumes/neuro/labs/grantlab/research/chuanheng.hsiao/HIE-out/csv/LH/ClinicalData',\n",
       " 'OC_dir': '/Volumes/neuro/labs/grantlab/research/chuanheng.hsiao/HIE-out/csv/OC/ClinicalData',\n",
       " 'LH_follow_up_dir': '/Volumes/neuro/labs/grantlab/research/chuanheng.hsiao/HIE-out/csv/LH/FollowUp',\n",
       " 'OC_follow_up_dir': '/Volumes/neuro/labs/grantlab/research/chuanheng.hsiao/HIE-out/csv/OC/FollowUp',\n",
       " 'LH_analysis_dir': '/Volumes/neuro/labs/grantlab/research/chuanheng.hsiao/HIE-out/csv/LH/Analysis',\n",
       " 'OC_analysis_dir': '/Volumes/neuro/labs/grantlab/research/chuanheng.hsiao/HIE-out/csv/OC/Analysis',\n",
       " 'dictionary_map': {'MRIReader': [{'name': '1', 'LH': 'PB', 'OC': '1'},\n",
       "   {'name': '2', 'LH': 'NR', 'OC': '2'},\n",
       "   {'name': '3', 'OC': '3'}]},\n",
       " 'redcap_token': '52709ACF965ADF89C6513D192C49CEE7',\n",
       " 'redcap_host': 'https://redcap-qi.tch.harvard.edu/redcap_edc/api/'}"
      ]
     },
     "execution_count": 3,
     "metadata": {},
     "output_type": "execute_result"
    }
   ],
   "source": [
    "COMBINE_harmonizer.init(f'{root_dir}/config.yaml')\n",
    "cfg.config"
   ]
  },
  {
   "cell_type": "markdown",
   "metadata": {},
   "source": [
    "## 02. Load 04-01-status.csv"
   ]
  },
  {
   "cell_type": "code",
   "execution_count": 4,
   "metadata": {
    "execution": {
     "iopub.execute_input": "2025-02-04T10:55:24.727861Z",
     "iopub.status.busy": "2025-02-04T10:55:24.727783Z",
     "iopub.status.idle": "2025-02-04T10:55:24.756780Z",
     "shell.execute_reply": "2025-02-04T10:55:24.756527Z"
    }
   },
   "outputs": [],
   "source": [
    "out_dir = cfg.config['out_dir']\n",
    "filename = f'{out_dir}/out-publish-normalized/04-01-status.csv'\n",
    "\n",
    "df_status = pd.read_csv(filename, dtype='O')"
   ]
  },
  {
   "cell_type": "code",
   "execution_count": 5,
   "metadata": {
    "execution": {
     "iopub.execute_input": "2025-02-04T10:55:24.758081Z",
     "iopub.status.busy": "2025-02-04T10:55:24.757998Z",
     "iopub.status.idle": "2025-02-04T10:55:24.815114Z",
     "shell.execute_reply": "2025-02-04T10:55:24.814632Z"
    }
   },
   "outputs": [],
   "source": [
    "is_transfer = df_status['status'].isin(['transfer to another hospital', 'transfer'])\n",
    "df_status.loc[is_transfer, 'lengthOfStay_day'] = df_status.loc[is_transfer, 'transferDate']\n",
    "df_status.loc[is_transfer == False, 'lengthOfStay_day'] = df_status.loc[is_transfer == False, 'statusDate']\n",
    "\n",
    "columns = ['_study', 'center', 'subjectID', 'uniqueID', 'lengthOfStay_day']\n",
    "df_out = df_status[columns]\n",
    "\n",
    "out_filename = f'{out_dir}/out-publish-normalized/31-07-length-of-stay.csv'\n",
    "df_out.to_csv(out_filename, index=False)"
   ]
  }
 ],
 "metadata": {
  "kernelspec": {
   "display_name": ".venv",
   "language": "python",
   "name": "python3"
  },
  "language_info": {
   "codemirror_mode": {
    "name": "ipython",
    "version": 3
   },
   "file_extension": ".py",
   "mimetype": "text/x-python",
   "name": "python",
   "nbconvert_exporter": "python",
   "pygments_lexer": "ipython3",
   "version": "3.13.0"
  }
 },
 "nbformat": 4,
 "nbformat_minor": 2
}
