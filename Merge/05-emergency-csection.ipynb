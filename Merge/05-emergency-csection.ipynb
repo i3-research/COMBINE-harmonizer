{
 "cells": [
  {
   "cell_type": "code",
   "execution_count": 1,
   "id": "beb66f07-a2b2-4aca-8a87-46f850f8fb28",
   "metadata": {
    "execution": {
     "iopub.execute_input": "2025-05-06T10:34:26.169193Z",
     "iopub.status.busy": "2025-05-06T10:34:26.168861Z",
     "iopub.status.idle": "2025-05-06T10:34:27.484377Z",
     "shell.execute_reply": "2025-05-06T10:34:27.483962Z"
    }
   },
   "outputs": [],
   "source": [
    "import pandas as pd\n",
    "import numpy as np\n",
    "pd.options.mode.copy_on_write = True\n",
    "import warnings\n",
    "warnings.simplefilter(action='ignore', category=pd.errors.PerformanceWarning)\n",
    "\n",
    "import COMBINE_harmonizer\n",
    "from COMBINE_harmonizer import cfg"
   ]
  },
  {
   "cell_type": "markdown",
   "id": "bae482f2-9dca-4fd7-9f97-01fbeab51016",
   "metadata": {},
   "source": [
    "## 01. init"
   ]
  },
  {
   "cell_type": "code",
   "execution_count": 2,
   "id": "ce3199d5-8cf8-4f38-a574-4842a003d56d",
   "metadata": {
    "execution": {
     "iopub.execute_input": "2025-05-06T10:34:27.486357Z",
     "iopub.status.busy": "2025-05-06T10:34:27.486174Z",
     "iopub.status.idle": "2025-05-06T10:34:27.488006Z",
     "shell.execute_reply": "2025-05-06T10:34:27.487781Z"
    }
   },
   "outputs": [],
   "source": [
    "root_dir = '../'"
   ]
  },
  {
   "cell_type": "code",
   "execution_count": 3,
   "id": "b5d48bb1-566e-47bc-afaa-4c6e104b9dde",
   "metadata": {
    "execution": {
     "iopub.execute_input": "2025-05-06T10:34:27.490084Z",
     "iopub.status.busy": "2025-05-06T10:34:27.489885Z",
     "iopub.status.idle": "2025-05-06T10:34:27.493612Z",
     "shell.execute_reply": "2025-05-06T10:34:27.493291Z"
    }
   },
   "outputs": [],
   "source": [
    "COMBINE_harmonizer.init(f'{root_dir}/config.yaml')"
   ]
  },
  {
   "cell_type": "code",
   "execution_count": 4,
   "id": "2fcadce3-c7b9-4e0e-8d56-edc9f0ee31a6",
   "metadata": {
    "execution": {
     "iopub.execute_input": "2025-05-06T10:34:27.494950Z",
     "iopub.status.busy": "2025-05-06T10:34:27.494861Z",
     "iopub.status.idle": "2025-05-06T10:34:27.496613Z",
     "shell.execute_reply": "2025-05-06T10:34:27.496345Z"
    }
   },
   "outputs": [],
   "source": [
    "data_dict_filename = f\"{root_dir}/{COMBINE_harmonizer.DATA_DICTIONARY_EXCEL}\"\n",
    "out_dir = cfg.config['out_dir']\n"
   ]
  },
  {
   "cell_type": "markdown",
   "id": "3ea80432-5e1e-4325-8372-79216a42b658",
   "metadata": {},
   "source": [
    "## 01-05. labor-delivery"
   ]
  },
  {
   "cell_type": "code",
   "execution_count": 5,
   "id": "5e5bf4c5-318e-415f-abb9-4c4e64d62b3a",
   "metadata": {
    "execution": {
     "iopub.execute_input": "2025-05-06T10:34:27.497939Z",
     "iopub.status.busy": "2025-05-06T10:34:27.497856Z",
     "iopub.status.idle": "2025-05-06T10:34:27.499461Z",
     "shell.execute_reply": "2025-05-06T10:34:27.499228Z"
    }
   },
   "outputs": [],
   "source": [
    "base_filename = '01-05-labor-delivery.csv'"
   ]
  },
  {
   "cell_type": "code",
   "execution_count": 6,
   "id": "ec8e423b-0ed5-46ce-96e7-875eb03c56e9",
   "metadata": {
    "execution": {
     "iopub.execute_input": "2025-05-06T10:34:27.500754Z",
     "iopub.status.busy": "2025-05-06T10:34:27.500676Z",
     "iopub.status.idle": "2025-05-06T10:34:27.566058Z",
     "shell.execute_reply": "2025-05-06T10:34:27.565664Z"
    }
   },
   "outputs": [],
   "source": [
    "full_filename = f'{out_dir}/out-merged-normalized/{base_filename}'\n",
    "df_labor_delivery = pd.read_csv(full_filename, dtype='O')"
   ]
  },
  {
   "cell_type": "code",
   "execution_count": 7,
   "id": "ab7a6859-46df-4d79-aba8-14b7c5edae14",
   "metadata": {
    "execution": {
     "iopub.execute_input": "2025-05-06T10:34:27.567910Z",
     "iopub.status.busy": "2025-05-06T10:34:27.567759Z",
     "iopub.status.idle": "2025-05-06T10:34:27.569658Z",
     "shell.execute_reply": "2025-05-06T10:34:27.569280Z"
    }
   },
   "outputs": [],
   "source": [
    "emergency_csection = [\n",
    "    'deliveryMode',\n",
    "]"
   ]
  },
  {
   "cell_type": "code",
   "execution_count": 8,
   "id": "15cb8353-162b-45a5-a8bd-4dabadda8116",
   "metadata": {
    "execution": {
     "iopub.execute_input": "2025-05-06T10:34:27.571282Z",
     "iopub.status.busy": "2025-05-06T10:34:27.571148Z",
     "iopub.status.idle": "2025-05-06T10:34:27.573291Z",
     "shell.execute_reply": "2025-05-06T10:34:27.572895Z"
    }
   },
   "outputs": [],
   "source": [
    "def _emergency_csection(x):\n",
    "    return 'TRUE' if x['deliveryMode'] == 'emergent cesarean' else 'FALSE'"
   ]
  },
  {
   "cell_type": "code",
   "execution_count": 9,
   "id": "3e1cde2d-2d87-484d-abae-e5501efc4d1a",
   "metadata": {
    "execution": {
     "iopub.execute_input": "2025-05-06T10:34:27.575612Z",
     "iopub.status.busy": "2025-05-06T10:34:27.575465Z",
     "iopub.status.idle": "2025-05-06T10:34:27.580401Z",
     "shell.execute_reply": "2025-05-06T10:34:27.580012Z"
    }
   },
   "outputs": [],
   "source": [
    "df_emergency_csection = df_labor_delivery[COMBINE_harmonizer.FLATTEN_MERGE_COLUMNS + emergency_csection]\n",
    "df_emergency_csection['emergencyCSection'] = df_emergency_csection.apply(lambda x: _emergency_csection(x), axis=1)"
   ]
  },
  {
   "cell_type": "markdown",
   "id": "0007036f-1051-4be1-a7ff-a4c789fe90f1",
   "metadata": {},
   "source": [
    "## to csv"
   ]
  },
  {
   "cell_type": "code",
   "execution_count": 10,
   "id": "1b45d106-8acb-47f6-935f-907ec4180812",
   "metadata": {
    "execution": {
     "iopub.execute_input": "2025-05-06T10:34:27.582060Z",
     "iopub.status.busy": "2025-05-06T10:34:27.581933Z",
     "iopub.status.idle": "2025-05-06T10:34:27.687162Z",
     "shell.execute_reply": "2025-05-06T10:34:27.686582Z"
    }
   },
   "outputs": [],
   "source": [
    "out_filename = f'{out_dir}/out-merged-normalized/01-05_2-emergency-csection.csv'\n",
    "df_emergency_csection.to_csv(out_filename, index=False)"
   ]
  },
  {
   "cell_type": "code",
   "execution_count": null,
   "id": "f6c1fdd0",
   "metadata": {},
   "outputs": [],
   "source": []
  }
 ],
 "metadata": {
  "kernelspec": {
   "display_name": ".venv",
   "language": "python",
   "name": "python3"
  },
  "language_info": {
   "codemirror_mode": {
    "name": "ipython",
    "version": 3
   },
   "file_extension": ".py",
   "mimetype": "text/x-python",
   "name": "python",
   "nbconvert_exporter": "python",
   "pygments_lexer": "ipython3",
   "version": "3.13.2"
  }
 },
 "nbformat": 4,
 "nbformat_minor": 5
}
