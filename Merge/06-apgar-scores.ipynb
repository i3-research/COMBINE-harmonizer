{
 "cells": [
  {
   "cell_type": "code",
   "execution_count": 1,
   "id": "497ba1b7",
   "metadata": {
    "execution": {
     "iopub.execute_input": "2025-05-15T04:30:58.301505Z",
     "iopub.status.busy": "2025-05-15T04:30:58.301381Z",
     "iopub.status.idle": "2025-05-15T04:30:59.596274Z",
     "shell.execute_reply": "2025-05-15T04:30:59.595848Z"
    }
   },
   "outputs": [],
   "source": [
    "import pandas as pd\n",
    "import numpy as np\n",
    "pd.options.mode.copy_on_write = True\n",
    "import warnings\n",
    "warnings.simplefilter(action='ignore', category=pd.errors.PerformanceWarning)\n",
    "\n",
    "import COMBINE_harmonizer\n",
    "from COMBINE_harmonizer import cfg"
   ]
  },
  {
   "cell_type": "markdown",
   "id": "857aa82f",
   "metadata": {},
   "source": [
    "## 01. init"
   ]
  },
  {
   "cell_type": "code",
   "execution_count": 2,
   "id": "2e1ea624",
   "metadata": {
    "execution": {
     "iopub.execute_input": "2025-05-15T04:30:59.597880Z",
     "iopub.status.busy": "2025-05-15T04:30:59.597744Z",
     "iopub.status.idle": "2025-05-15T04:30:59.599455Z",
     "shell.execute_reply": "2025-05-15T04:30:59.599230Z"
    }
   },
   "outputs": [],
   "source": [
    "root_dir = '../'"
   ]
  },
  {
   "cell_type": "code",
   "execution_count": null,
   "id": "9ac9f090",
   "metadata": {},
   "outputs": [],
   "source": []
  },
  {
   "cell_type": "code",
   "execution_count": 3,
   "id": "54370d30",
   "metadata": {
    "execution": {
     "iopub.execute_input": "2025-05-15T04:30:59.600978Z",
     "iopub.status.busy": "2025-05-15T04:30:59.600882Z",
     "iopub.status.idle": "2025-05-15T04:30:59.604270Z",
     "shell.execute_reply": "2025-05-15T04:30:59.604012Z"
    }
   },
   "outputs": [],
   "source": [
    "COMBINE_harmonizer.init(f'{root_dir}/config.yaml')"
   ]
  },
  {
   "cell_type": "code",
   "execution_count": 4,
   "id": "aee9e944",
   "metadata": {
    "execution": {
     "iopub.execute_input": "2025-05-15T04:30:59.605500Z",
     "iopub.status.busy": "2025-05-15T04:30:59.605424Z",
     "iopub.status.idle": "2025-05-15T04:30:59.606995Z",
     "shell.execute_reply": "2025-05-15T04:30:59.606784Z"
    }
   },
   "outputs": [],
   "source": [
    "data_dict_filename = f\"{root_dir}/{COMBINE_harmonizer.DATA_DICTIONARY_EXCEL}\"\n",
    "out_dir = cfg.config['out_dir']"
   ]
  },
  {
   "cell_type": "markdown",
   "id": "d5a160c1",
   "metadata": {},
   "source": [
    "## 01-06. birth"
   ]
  },
  {
   "cell_type": "code",
   "execution_count": 5,
   "id": "57467515",
   "metadata": {
    "execution": {
     "iopub.execute_input": "2025-05-15T04:30:59.608149Z",
     "iopub.status.busy": "2025-05-15T04:30:59.608054Z",
     "iopub.status.idle": "2025-05-15T04:30:59.609542Z",
     "shell.execute_reply": "2025-05-15T04:30:59.609329Z"
    }
   },
   "outputs": [],
   "source": [
    "base_filename = '01-06-birth.csv'"
   ]
  },
  {
   "cell_type": "code",
   "execution_count": 6,
   "id": "145e1638",
   "metadata": {
    "execution": {
     "iopub.execute_input": "2025-05-15T04:30:59.610767Z",
     "iopub.status.busy": "2025-05-15T04:30:59.610678Z",
     "iopub.status.idle": "2025-05-15T04:30:59.678431Z",
     "shell.execute_reply": "2025-05-15T04:30:59.678064Z"
    }
   },
   "outputs": [],
   "source": [
    "full_filename = f'{out_dir}/out-merged-normalized/{base_filename}'\n",
    "df_birth = pd.read_csv(full_filename, dtype='O')"
   ]
  },
  {
   "cell_type": "code",
   "execution_count": 7,
   "id": "b1f6bfc8",
   "metadata": {
    "execution": {
     "iopub.execute_input": "2025-05-15T04:30:59.679997Z",
     "iopub.status.busy": "2025-05-15T04:30:59.679898Z",
     "iopub.status.idle": "2025-05-15T04:30:59.683543Z",
     "shell.execute_reply": "2025-05-15T04:30:59.683308Z"
    }
   },
   "outputs": [
    {
     "data": {
      "text/plain": [
       "Index(['_study', 'center', 'subjectID', 'uniqueID', 'encephalopathyLevel',\n",
       "       'randomInfantAge', 'birthTime', 'birthWeight_g', 'birthLength_cm',\n",
       "       'birthHeadCircumference_cm', 'birthGestationalAge_week', 'infantSex',\n",
       "       'maleSex', 'infantOutborn', 'outbornInHospital', 'outbornOutHospital',\n",
       "       'neonateAdmissionDate', 'neonateAdmissionTime', 'Apgar1min',\n",
       "       'Apgar5min', 'Apgar10min', 'Apgar15min', 'Apgar20min',\n",
       "       'deliveryResuscitation', 'deliveryOxygen', 'deliveryBaggingAndMask',\n",
       "       'deliveryChestCompression', 'deliveryIntubation', 'deliveryDrug',\n",
       "       'at10MinContinueResuscitation', 'at10MinOxygen',\n",
       "       'at10MinBaggingAndMask', 'at10MinChestCompression', 'at10MinIntubation',\n",
       "       'at10MinDrug', 'spontaneousRespirationTime', 'cordBloodGas',\n",
       "       'cordBloodGasSrc', 'cordBloodGasPH', 'cordBloodGasPCO2_mmHg',\n",
       "       'cordBloodGasPO2_mmHg', 'cordBloodGasHCO3_mEqPerL',\n",
       "       'cordBloodGasBaseDeficit_mEqPerL', 'firstPostnatalBloodGas',\n",
       "       'firstPostnatalBloodGasSrc', 'firstPostnatalBloodGasDate',\n",
       "       'firstPostnatalBloodGasTime', 'firstPostnatalBloodGasPH',\n",
       "       'firstPostnatalBloodGasPCO2_mmHg', 'firstPostnatalBloodGasPO2_mmHg',\n",
       "       'firstPostnatalBloodGasHCO3_mEqPerL',\n",
       "       'firstPostnatalBloodGasBaseDeficit_mEqPerL', 'acidosis',\n",
       "       'Apgar10minLess5', 'Apgar10minLessEq5', 'Apgar5minLessEq5',\n",
       "       'initBloodGasBaseDeficit_mEqPerL', 'initBloodGasBaseDeficit_mEqPerLSrc',\n",
       "       'initBloodGasPH', 'initBloodGasPHSrc', 'birthDate'],\n",
       "      dtype='object')"
      ]
     },
     "execution_count": 7,
     "metadata": {},
     "output_type": "execute_result"
    }
   ],
   "source": [
    "df_birth.columns"
   ]
  },
  {
   "cell_type": "code",
   "execution_count": 8,
   "id": "000ee8fa",
   "metadata": {
    "execution": {
     "iopub.execute_input": "2025-05-15T04:30:59.684918Z",
     "iopub.status.busy": "2025-05-15T04:30:59.684823Z",
     "iopub.status.idle": "2025-05-15T04:30:59.686750Z",
     "shell.execute_reply": "2025-05-15T04:30:59.686505Z"
    }
   },
   "outputs": [],
   "source": [
    "apgar5min_10min_columns = [\n",
    "    'Apgar5min',\n",
    "    'Apgar10min',\n",
    "]"
   ]
  },
  {
   "cell_type": "code",
   "execution_count": 9,
   "id": "4499ac87",
   "metadata": {
    "execution": {
     "iopub.execute_input": "2025-05-15T04:30:59.687982Z",
     "iopub.status.busy": "2025-05-15T04:30:59.687890Z",
     "iopub.status.idle": "2025-05-15T04:30:59.690348Z",
     "shell.execute_reply": "2025-05-15T04:30:59.690115Z"
    }
   },
   "outputs": [
    {
     "data": {
      "text/plain": [
       "dtype('O')"
      ]
     },
     "execution_count": 9,
     "metadata": {},
     "output_type": "execute_result"
    }
   ],
   "source": [
    "df_birth['Apgar5min'].dtype"
   ]
  },
  {
   "cell_type": "code",
   "execution_count": 10,
   "id": "91a1d54a",
   "metadata": {
    "execution": {
     "iopub.execute_input": "2025-05-15T04:30:59.691565Z",
     "iopub.status.busy": "2025-05-15T04:30:59.691450Z",
     "iopub.status.idle": "2025-05-15T04:30:59.695493Z",
     "shell.execute_reply": "2025-05-15T04:30:59.695256Z"
    }
   },
   "outputs": [],
   "source": [
    "df_apgar = df_birth[COMBINE_harmonizer.FLATTEN_MERGE_COLUMNS + apgar5min_10min_columns]\n",
    "df_apgar.loc[:, 'Apgar5min_float'] = df_apgar['Apgar5min'].astype(float)\n",
    "df_apgar.loc[:, 'Apgar10min_float'] = df_apgar['Apgar10min'].astype(float)\n",
    "df_apgar.loc[:, 'Apgar10minLess5'] = df_apgar['Apgar10min_float'] < 5\n",
    "df_apgar.loc[:, 'Apgar10minLessEq5'] = df_apgar['Apgar10min_float'] <= 5\n",
    "df_apgar.loc[:, 'Apgar5minLessEq5'] = df_apgar['Apgar5min_float'] <= 5\n",
    "\n",
    "del df_apgar['Apgar5min_float']\n",
    "del df_apgar['Apgar10min_float']\n"
   ]
  },
  {
   "cell_type": "markdown",
   "id": "28890049",
   "metadata": {},
   "source": [
    "## to csv"
   ]
  },
  {
   "cell_type": "code",
   "execution_count": 11,
   "id": "90bebd72",
   "metadata": {
    "execution": {
     "iopub.execute_input": "2025-05-15T04:30:59.696882Z",
     "iopub.status.busy": "2025-05-15T04:30:59.696698Z",
     "iopub.status.idle": "2025-05-15T04:30:59.752887Z",
     "shell.execute_reply": "2025-05-15T04:30:59.752459Z"
    }
   },
   "outputs": [],
   "source": [
    "out_filename = f'{out_dir}/out-merged-normalized/01-06_1-apgar.csv'\n",
    "df_apgar.to_csv(out_filename, index=False)"
   ]
  },
  {
   "cell_type": "code",
   "execution_count": null,
   "id": "f1b3abb4",
   "metadata": {},
   "outputs": [],
   "source": []
  }
 ],
 "metadata": {
  "kernelspec": {
   "display_name": ".venv",
   "language": "python",
   "name": "python3"
  },
  "language_info": {
   "codemirror_mode": {
    "name": "ipython",
    "version": 3
   },
   "file_extension": ".py",
   "mimetype": "text/x-python",
   "name": "python",
   "nbconvert_exporter": "python",
   "pygments_lexer": "ipython3",
   "version": "3.13.2"
  }
 },
 "nbformat": 4,
 "nbformat_minor": 5
}
