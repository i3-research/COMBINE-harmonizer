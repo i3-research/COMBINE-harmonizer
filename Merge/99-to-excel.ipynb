{
 "cells": [
  {
   "cell_type": "code",
   "execution_count": 1,
   "id": "3445cbb4-43fa-4cd3-9c19-2db96cf33c90",
   "metadata": {
    "execution": {
     "iopub.execute_input": "2025-02-04T10:55:26.007087Z",
     "iopub.status.busy": "2025-02-04T10:55:26.006185Z",
     "iopub.status.idle": "2025-02-04T10:55:27.086209Z",
     "shell.execute_reply": "2025-02-04T10:55:27.085927Z"
    }
   },
   "outputs": [],
   "source": [
    "import pandas as pd\n",
    "pd.options.mode.copy_on_write = True\n",
    "import warnings\n",
    "warnings.simplefilter(action='ignore', category=pd.errors.PerformanceWarning)\n",
    "import os\n",
    "\n",
    "import re\n",
    "import time\n",
    "\n",
    "import itertools\n",
    "\n",
    "import COMBINE_harmonizer\n",
    "from COMBINE_harmonizer import cfg"
   ]
  },
  {
   "cell_type": "markdown",
   "id": "51e67149",
   "metadata": {},
   "source": [
    "## 01. init"
   ]
  },
  {
   "cell_type": "code",
   "execution_count": 2,
   "id": "244f3e24",
   "metadata": {
    "execution": {
     "iopub.execute_input": "2025-02-04T10:55:27.087825Z",
     "iopub.status.busy": "2025-02-04T10:55:27.087684Z",
     "iopub.status.idle": "2025-02-04T10:55:27.089415Z",
     "shell.execute_reply": "2025-02-04T10:55:27.089178Z"
    }
   },
   "outputs": [],
   "source": [
    "root_dir = '../'"
   ]
  },
  {
   "cell_type": "code",
   "execution_count": 3,
   "id": "e201509a",
   "metadata": {
    "execution": {
     "iopub.execute_input": "2025-02-04T10:55:27.090600Z",
     "iopub.status.busy": "2025-02-04T10:55:27.090525Z",
     "iopub.status.idle": "2025-02-04T10:55:27.093741Z",
     "shell.execute_reply": "2025-02-04T10:55:27.093548Z"
    }
   },
   "outputs": [],
   "source": [
    "COMBINE_harmonizer.init(f'{root_dir}/config.yaml')\n",
    "\n",
    "out_dir = f\"{cfg.config['out_dir']}/out-publish-normalized\""
   ]
  },
  {
   "cell_type": "markdown",
   "id": "a75311ec",
   "metadata": {},
   "source": [
    "## 02. variables"
   ]
  },
  {
   "cell_type": "code",
   "execution_count": 4,
   "id": "4d8c7f3e-c869-4eea-a9e8-59f50fdee5d9",
   "metadata": {
    "execution": {
     "iopub.execute_input": "2025-02-04T10:55:27.094917Z",
     "iopub.status.busy": "2025-02-04T10:55:27.094847Z",
     "iopub.status.idle": "2025-02-04T10:55:27.096297Z",
     "shell.execute_reply": "2025-02-04T10:55:27.096101Z"
    }
   },
   "outputs": [],
   "source": [
    "filename_infos = COMBINE_harmonizer.FILENAME_INFOS"
   ]
  },
  {
   "cell_type": "markdown",
   "id": "78786538",
   "metadata": {},
   "source": [
    "## 03. Functions"
   ]
  },
  {
   "cell_type": "markdown",
   "id": "ed1f86f7-8644-42f9-9908-08b1c863afa3",
   "metadata": {},
   "source": [
    "### 03-3. process filename info"
   ]
  },
  {
   "cell_type": "code",
   "execution_count": 5,
   "id": "c08e65e5-8569-4609-bf5d-170222a54303",
   "metadata": {
    "execution": {
     "iopub.execute_input": "2025-02-04T10:55:27.097495Z",
     "iopub.status.busy": "2025-02-04T10:55:27.097419Z",
     "iopub.status.idle": "2025-02-04T10:55:27.099725Z",
     "shell.execute_reply": "2025-02-04T10:55:27.099466Z"
    }
   },
   "outputs": [],
   "source": [
    "def _process_filename_info(filename_info):\n",
    "    # 1. read df\n",
    "    filename = filename_info['name']\n",
    "    full_filename = os.sep.join([out_dir, filename])\n",
    "    df =  pd.read_csv(full_filename, dtype='O')\n",
    "    df = df.fillna('')\n",
    "    valid_columns = list(filter(lambda column: not column.endswith('.orig'), df.columns))\n",
    "    df = df[valid_columns]\n",
    "\n",
    "    # 2. prefix.\n",
    "    prefix = COMBINE_harmonizer.flatten_filename_prefix(filename)\n",
    "    print(f'[INFO] _process_filename_info: filename: {filename} prefix: {prefix}')\n",
    "\n",
    "    if COMBINE_harmonizer.FLATTEN_INDEX not in df:\n",
    "        # 4. with prefix\n",
    "        df_with_prefix = COMBINE_harmonizer.flatten_columns_with_prefix(df.copy(), prefix)\n",
    "\n",
    "        return df, df_with_prefix\n",
    "\n",
    "    # 3. flatten.\n",
    "    df_flatten = COMBINE_harmonizer.flatten(df)\n",
    "\n",
    "    # 4. with prefix.\n",
    "    df_flatten_with_prefix = COMBINE_harmonizer.flatten_columns_with_prefix(df_flatten, prefix)\n",
    "\n",
    "    return df, df_flatten_with_prefix"
   ]
  },
  {
   "cell_type": "markdown",
   "id": "b20a7049",
   "metadata": {},
   "source": [
    "## 04. Process"
   ]
  },
  {
   "cell_type": "code",
   "execution_count": 6,
   "id": "3a024f1c-d1cb-467e-a2ce-cd681143760b",
   "metadata": {
    "execution": {
     "iopub.execute_input": "2025-02-04T10:55:27.101281Z",
     "iopub.status.busy": "2025-02-04T10:55:27.101192Z",
     "iopub.status.idle": "2025-02-04T10:56:08.153904Z",
     "shell.execute_reply": "2025-02-04T10:56:08.153037Z"
    }
   },
   "outputs": [
    {
     "name": "stdout",
     "output_type": "stream",
     "text": [
      "(2/72) filename: 01-02-screening.csv name: 01-02 sheet_name: 01-02-screening\n",
      "[INFO] _process_filename_info: filename: 01-02-screening.csv prefix: 01-02\n",
      "(2/72) to df.excel\n",
      "(2/72) after df.excel\n",
      "(2/72) to merge\n",
      "(2/72) after merge: groupby: 532 is_invalid: 0\n",
      "(3/72) filename: 01-03-maternal-demographics.csv name: 01-03 sheet_name: 01-03-maternal-demographics\n",
      "[INFO] _process_filename_info: filename: 01-03-maternal-demographics.csv prefix: 01-03\n",
      "(3/72) to df.excel\n",
      "(3/72) after df.excel\n",
      "(3/72) to merge\n"
     ]
    },
    {
     "name": "stdout",
     "output_type": "stream",
     "text": [
      "(3/72) after merge: groupby: 532 is_invalid: 0\n",
      "(4/72) filename: 01-04-pregnancy-history.csv name: 01-04 sheet_name: 01-04-pregnancy-history\n",
      "[INFO] _process_filename_info: filename: 01-04-pregnancy-history.csv prefix: 01-04\n",
      "(4/72) to df.excel\n",
      "(4/72) after df.excel\n",
      "(4/72) to merge\n",
      "(4/72) after merge: groupby: 532 is_invalid: 0\n",
      "(5/72) filename: 01-05-labor-delivery.csv name: 01-05 sheet_name: 01-05-labor-delivery\n",
      "[INFO] _process_filename_info: filename: 01-05-labor-delivery.csv prefix: 01-05\n",
      "(5/72) to df.excel\n",
      "(5/72) after df.excel\n",
      "(5/72) to merge\n",
      "(5/72) after merge: groupby: 532 is_invalid: 0\n",
      "(6/72) filename: 01-06-birth.csv name: 01-06 sheet_name: 01-06-birth\n",
      "[INFO] _process_filename_info: filename: 01-06-birth.csv prefix: 01-06\n",
      "(6/72) to df.excel\n"
     ]
    },
    {
     "name": "stdout",
     "output_type": "stream",
     "text": [
      "(6/72) after df.excel\n",
      "(6/72) to merge\n",
      "(6/72) after merge: groupby: 532 is_invalid: 0\n",
      "(7/72) filename: 01-07-pre-temperature.csv name: 01-07 sheet_name: 01-07-pre-temperature\n",
      "[INFO] _process_filename_info: filename: 01-07-pre-temperature.csv prefix: 01-07\n",
      "(7/72) to df.excel\n",
      "(7/72) after df.excel\n",
      "(7/72) to merge\n",
      "(7/72) after merge: groupby: 532 is_invalid: 0\n",
      "(8/72) filename: 01-08-pre-cardiovascular.csv name: 01-08 sheet_name: 01-08-pre-cardiovascular\n",
      "[INFO] _process_filename_info: filename: 01-08-pre-cardiovascular.csv prefix: 01-08\n",
      "(8/72) to df.excel\n",
      "(8/72) after df.excel\n",
      "(8/72) to merge\n",
      "(8/72) after merge: groupby: 532 is_invalid: 0\n",
      "(9/72) filename: 01-09-pre-infection.csv name: 01-09 sheet_name: 01-09-pre-infection\n",
      "[INFO] _process_filename_info: filename: 01-09-pre-infection.csv prefix: 01-09\n",
      "(9/72) to df.excel\n",
      "(9/72) after df.excel\n",
      "(9/72) to merge\n",
      "(9/72) after merge: groupby: 532 is_invalid: 0\n",
      "(10/72) filename: 01-10-pre-other-med.csv name: 01-10 sheet_name: 01-10-pre-other-med\n"
     ]
    },
    {
     "name": "stdout",
     "output_type": "stream",
     "text": [
      "[INFO] _process_filename_info: filename: 01-10-pre-other-med.csv prefix: 01-10\n",
      "(10/72) to df.excel\n",
      "(10/72) after df.excel\n",
      "(10/72) to merge\n",
      "(10/72) after merge: groupby: 532 is_invalid: 0\n",
      "(11/72) filename: 01-11-pre-imaging.csv name: 01-11 sheet_name: 01-11-pre-imaging\n",
      "[INFO] _process_filename_info: filename: 01-11-pre-imaging.csv prefix: 01-11\n",
      "(11/72) to df.excel\n",
      "(11/72) after df.excel\n",
      "(11/72) to merge\n",
      "(11/72) after merge: groupby: 532 is_invalid: 0\n",
      "(12/72) filename: 01-12-neuro-exam.csv name: 01-12 sheet_name: 01-12-neuro-exam\n",
      "[INFO] _process_filename_info: filename: 01-12-neuro-exam.csv prefix: 01-12\n",
      "(12/72) to df.excel\n",
      "(12/72) after df.excel\n",
      "(12/72) to merge\n"
     ]
    },
    {
     "name": "stdout",
     "output_type": "stream",
     "text": [
      "(12/72) after merge: groupby: 532 is_invalid: 0\n",
      "(13/72) filename: 02-01-temperature.csv name: 02-01 sheet_name: 02-01-temperature\n",
      "[INFO] _process_filename_info: filename: 02-01-temperature.csv prefix: 02-01\n",
      "_flatten: to pivot_table: df: 24439\n"
     ]
    },
    {
     "name": "stdout",
     "output_type": "stream",
     "text": [
      "_flatten: after pivot_table: time: 5.083479166030884\n",
      "_flatten: after to_flat_index\n",
      "(13/72) to df.excel\n"
     ]
    },
    {
     "name": "stdout",
     "output_type": "stream",
     "text": [
      "(13/72) after df.excel\n",
      "(13/72) to merge\n",
      "(13/72) after merge: groupby: 532 is_invalid: 0\n",
      "(14/72) filename: 02-02-cardiovascular.csv name: 02-02 sheet_name: 02-02-cardiovascular\n",
      "[INFO] _process_filename_info: filename: 02-02-cardiovascular.csv prefix: 02-02\n",
      "_flatten: to pivot_table: df: 13629\n"
     ]
    },
    {
     "name": "stdout",
     "output_type": "stream",
     "text": [
      "_flatten: after pivot_table: time: 2.5332798957824707\n",
      "_flatten: after to_flat_index\n",
      "(14/72) to df.excel\n"
     ]
    },
    {
     "name": "stdout",
     "output_type": "stream",
     "text": [
      "(14/72) after df.excel\n",
      "(14/72) to merge\n",
      "(14/72) after merge: groupby: 532 is_invalid: 0\n",
      "(15/72) filename: 02-03-respiratory.csv name: 02-03 sheet_name: 02-03-respiratory\n",
      "[INFO] _process_filename_info: filename: 02-03-respiratory.csv prefix: 02-03\n",
      "_flatten: to pivot_table: df: 2794\n"
     ]
    },
    {
     "name": "stdout",
     "output_type": "stream",
     "text": [
      "_flatten: after pivot_table: time: 0.47173500061035156\n",
      "_flatten: after to_flat_index\n",
      "(15/72) to df.excel\n",
      "(15/72) after df.excel\n",
      "(15/72) to merge\n",
      "(15/72) after merge: groupby: 532 is_invalid: 0\n",
      "(16/72) filename: 02-04-blood-gas.csv name: 02-04 sheet_name: 02-04-blood-gas\n",
      "[INFO] _process_filename_info: filename: 02-04-blood-gas.csv prefix: 02-04\n",
      "_flatten: to pivot_table: df: 10768\n"
     ]
    },
    {
     "name": "stdout",
     "output_type": "stream",
     "text": [
      "_flatten: after pivot_table: time: 2.8220341205596924\n",
      "_flatten: after to_flat_index\n",
      "(16/72) to df.excel\n"
     ]
    },
    {
     "name": "stdout",
     "output_type": "stream",
     "text": [
      "(16/72) after df.excel\n",
      "(16/72) to merge\n",
      "(16/72) after merge: groupby: 532 is_invalid: 0\n",
      "(17/72) filename: 02-05-hematology.csv name: 02-05 sheet_name: 02-05-hematology\n",
      "[INFO] _process_filename_info: filename: 02-05-hematology.csv prefix: 02-05\n",
      "_flatten: to pivot_table: df: 2742\n"
     ]
    },
    {
     "name": "stdout",
     "output_type": "stream",
     "text": [
      "_flatten: after pivot_table: time: 0.611903190612793\n",
      "_flatten: after to_flat_index\n",
      "(17/72) to df.excel\n"
     ]
    },
    {
     "name": "stdout",
     "output_type": "stream",
     "text": [
      "(17/72) after df.excel\n",
      "(17/72) to merge\n",
      "(17/72) after merge: groupby: 532 is_invalid: 0\n",
      "(18/72) filename: 02-05_s-hematology.csv name: 02-05_s sheet_name: 02-05_s-hematology\n",
      "[INFO] _process_filename_info: filename: 02-05_s-hematology.csv prefix: 02-05_s\n",
      "(18/72) to df.excel\n",
      "(18/72) after df.excel\n",
      "(18/72) to merge\n",
      "(18/72) after merge: groupby: 532 is_invalid: 0\n",
      "(19/72) filename: 02-06_s-blood-value.csv name: 02-06_s sheet_name: 02-06_s-blood-value\n",
      "[INFO] _process_filename_info: filename: 02-06_s-blood-value.csv prefix: 02-06_s\n",
      "(19/72) to df.excel\n",
      "(19/72) after df.excel\n",
      "(19/72) to merge\n",
      "(19/72) after merge: groupby: 532 is_invalid: 0\n",
      "(20/72) filename: 02-07-infection.csv name: 02-07 sheet_name: 02-07-infection\n"
     ]
    },
    {
     "name": "stdout",
     "output_type": "stream",
     "text": [
      "[INFO] _process_filename_info: filename: 02-07-infection.csv prefix: 02-07\n",
      "_flatten: to pivot_table: df: 532\n",
      "_flatten: after pivot_table: time: 0.159027099609375\n",
      "_flatten: after to_flat_index\n",
      "(20/72) to df.excel\n",
      "(20/72) after df.excel\n",
      "(20/72) to merge\n",
      "(20/72) after merge: groupby: 532 is_invalid: 0\n",
      "(21/72) filename: 02-08-other-med.csv name: 02-08 sheet_name: 02-08-other-med\n"
     ]
    },
    {
     "name": "stdout",
     "output_type": "stream",
     "text": [
      "[INFO] _process_filename_info: filename: 02-08-other-med.csv prefix: 02-08\n",
      "_flatten: to pivot_table: df: 2757\n"
     ]
    },
    {
     "name": "stdout",
     "output_type": "stream",
     "text": [
      "_flatten: after pivot_table: time: 1.0726828575134277\n",
      "_flatten: after to_flat_index\n",
      "(21/72) to df.excel\n"
     ]
    },
    {
     "name": "stdout",
     "output_type": "stream",
     "text": [
      "(21/72) after df.excel\n",
      "(21/72) to merge\n",
      "(21/72) after merge: groupby: 532 is_invalid: 0\n",
      "(22/72) filename: 02-09-imaging.csv name: 02-09 sheet_name: 02-09-imaging\n",
      "[INFO] _process_filename_info: filename: 02-09-imaging.csv prefix: 02-09\n",
      "_flatten: to pivot_table: df: 525\n"
     ]
    },
    {
     "name": "stdout",
     "output_type": "stream",
     "text": [
      "_flatten: after pivot_table: time: 0.36118173599243164\n",
      "_flatten: after to_flat_index\n",
      "(22/72) to df.excel\n",
      "(22/72) after df.excel\n",
      "(22/72) to merge\n",
      "(22/72) after merge: groupby: 532 is_invalid: 0\n",
      "(23/72) filename: 02-11-elevated-temperature.csv name: 02-11 sheet_name: 02-11-elevated-temperature\n",
      "[INFO] _process_filename_info: filename: 02-11-elevated-temperature.csv prefix: 02-11\n",
      "_flatten: to pivot_table: df: 445\n"
     ]
    },
    {
     "name": "stdout",
     "output_type": "stream",
     "text": [
      "_flatten: after pivot_table: time: 0.12108683586120605\n",
      "_flatten: after to_flat_index\n",
      "(23/72) to df.excel\n",
      "(23/72) after df.excel\n",
      "(23/72) to merge\n",
      "(23/72) after merge: groupby: 532 is_invalid: 0\n",
      "(24/72) filename: 02-12-fluctuated-temperature.csv name: 02-12 sheet_name: 02-12-fluctuated-temperature\n",
      "[INFO] _process_filename_info: filename: 02-12-fluctuated-temperature.csv prefix: 02-12\n",
      "_flatten: to pivot_table: df: 54\n",
      "_flatten: after pivot_table: time: 0.011566162109375\n",
      "_flatten: after to_flat_index\n",
      "(24/72) to df.excel\n",
      "(24/72) after df.excel\n",
      "(24/72) to merge\n",
      "(24/72) after merge: groupby: 532 is_invalid: 0\n",
      "(25/72) filename: 02-13-bradycardia.csv name: 02-13 sheet_name: 02-13-bradycardia\n",
      "[INFO] _process_filename_info: filename: 02-13-bradycardia.csv prefix: 02-13\n",
      "_flatten: to pivot_table: df: 210\n",
      "_flatten: after pivot_table: time: 0.0409541130065918\n",
      "_flatten: after to_flat_index\n",
      "(25/72) to df.excel\n",
      "(25/72) after df.excel\n",
      "(25/72) to merge\n",
      "(25/72) after merge: groupby: 532 is_invalid: 0\n",
      "(26/72) filename: 02-14-adverse-event.csv name: 02-14 sheet_name: 02-14-adverse-event\n",
      "[INFO] _process_filename_info: filename: 02-14-adverse-event.csv prefix: 02-14\n",
      "_flatten: to pivot_table: df: 111\n",
      "_flatten: after pivot_table: time: 0.11716985702514648\n",
      "_flatten: after to_flat_index\n"
     ]
    },
    {
     "name": "stdout",
     "output_type": "stream",
     "text": [
      "(26/72) to df.excel\n",
      "(26/72) after df.excel\n",
      "(26/72) to merge\n",
      "(26/72) after merge: groupby: 532 is_invalid: 0\n",
      "(27/72) filename: 02-15-violation.csv name: 02-15 sheet_name: 02-15-violation\n",
      "[INFO] _process_filename_info: filename: 02-15-violation.csv prefix: 02-15\n",
      "_flatten: to pivot_table: df: 156\n",
      "_flatten: after pivot_table: time: 0.027667999267578125\n",
      "_flatten: after to_flat_index\n",
      "(27/72) to df.excel\n",
      "(27/72) after df.excel\n",
      "(27/72) to merge\n",
      "(27/72) after merge: groupby: 532 is_invalid: 0\n",
      "(28/72) filename: 02-16-interrupt.csv name: 02-16 sheet_name: 02-16-interrupt\n",
      "[INFO] _process_filename_info: filename: 02-16-interrupt.csv prefix: 02-16\n",
      "_flatten: to pivot_table: df: 249\n",
      "_flatten: after pivot_table: time: 0.04288196563720703\n",
      "_flatten: after to_flat_index\n",
      "(28/72) to df.excel\n",
      "(28/72) after df.excel\n",
      "(28/72) to merge\n",
      "(28/72) after merge: groupby: 532 is_invalid: 0\n",
      "(29/72) filename: 02-17-discontinue.csv name: 02-17 sheet_name: 02-17-discontinue\n",
      "[INFO] _process_filename_info: filename: 02-17-discontinue.csv prefix: 02-17\n",
      "(29/72) to df.excel\n"
     ]
    },
    {
     "name": "stdout",
     "output_type": "stream",
     "text": [
      "(29/72) after df.excel\n",
      "(29/72) to merge\n",
      "(29/72) after merge: groupby: 532 is_invalid: 0\n",
      "(30/72) filename: 03-01-post-temperature.csv name: 03-01 sheet_name: 03-01-post-temperature\n",
      "[INFO] _process_filename_info: filename: 03-01-post-temperature.csv prefix: 03-01\n",
      "_flatten: to pivot_table: df: 2333\n"
     ]
    },
    {
     "name": "stdout",
     "output_type": "stream",
     "text": [
      "_flatten: after pivot_table: time: 0.32451725006103516\n",
      "_flatten: after to_flat_index\n",
      "(30/72) to df.excel\n",
      "(30/72) after df.excel\n",
      "(30/72) to merge\n",
      "(30/72) after merge: groupby: 532 is_invalid: 0\n",
      "(31/72) filename: 03-01_s-post-temperature.csv name: 03-01_s sheet_name: 03-01_s-post-temperature\n",
      "[INFO] _process_filename_info: filename: 03-01_s-post-temperature.csv prefix: 03-01_s\n",
      "(31/72) to df.excel\n",
      "(31/72) after df.excel\n",
      "(31/72) to merge\n",
      "(31/72) after merge: groupby: 532 is_invalid: 0\n",
      "(32/72) filename: 03-02-post-blood-value.csv name: 03-02 sheet_name: 03-02-post-blood-value\n",
      "[INFO] _process_filename_info: filename: 03-02-post-blood-value.csv prefix: 03-02\n",
      "(32/72) to df.excel\n",
      "(32/72) after df.excel\n",
      "(32/72) to merge\n",
      "(32/72) after merge: groupby: 532 is_invalid: 0\n",
      "(33/72) filename: 03-03-post-imaging.csv name: 03-03 sheet_name: 03-03-post-imaging\n"
     ]
    },
    {
     "name": "stdout",
     "output_type": "stream",
     "text": [
      "[INFO] _process_filename_info: filename: 03-03-post-imaging.csv prefix: 03-03\n",
      "(33/72) to df.excel\n",
      "(33/72) after df.excel\n",
      "(33/72) to merge\n",
      "(33/72) after merge: groupby: 532 is_invalid: 0\n",
      "(34/72) filename: 03-04-post-neuro-exam.csv name: 03-04 sheet_name: 03-04-post-neuro-exam\n",
      "[INFO] _process_filename_info: filename: 03-04-post-neuro-exam.csv prefix: 03-04\n",
      "(34/72) to df.excel\n",
      "(34/72) after df.excel\n",
      "(34/72) to merge\n",
      "(34/72) after merge: groupby: 532 is_invalid: 0\n",
      "(35/72) filename: 03-05-mri.csv name: 03-05 sheet_name: 03-05-mri\n",
      "[INFO] _process_filename_info: filename: 03-05-mri.csv prefix: 03-05\n",
      "_flatten: to pivot_table: df: 915\n"
     ]
    },
    {
     "name": "stdout",
     "output_type": "stream",
     "text": [
      "_flatten: after pivot_table: time: 1.7250490188598633\n",
      "_flatten: after to_flat_index\n",
      "(35/72) to df.excel\n"
     ]
    },
    {
     "name": "stdout",
     "output_type": "stream",
     "text": [
      "(35/72) after df.excel\n",
      "(35/72) to merge\n",
      "(35/72) after merge: groupby: 532 is_invalid: 0\n",
      "(36/72) filename: 03-05_s-mri.csv name: 03-05_s sheet_name: 03-05_s-mri\n",
      "[INFO] _process_filename_info: filename: 03-05_s-mri.csv prefix: 03-05_s\n",
      "(36/72) to df.excel\n",
      "(36/72) after df.excel\n",
      "(36/72) to merge\n",
      "(36/72) after merge: groupby: 532 is_invalid: 0\n",
      "(37/72) filename: 04-01-status.csv name: 04-01 sheet_name: 04-01-status\n",
      "[INFO] _process_filename_info: filename: 04-01-status.csv prefix: 04-01\n",
      "(37/72) to df.excel\n",
      "(37/72) after df.excel\n",
      "(37/72) to merge\n",
      "(37/72) after merge: groupby: 532 is_invalid: 0\n",
      "(38/72) filename: 04-03-cardiovascular.csv name: 04-03 sheet_name: 04-03-cardiovascular\n",
      "[INFO] _process_filename_info: filename: 04-03-cardiovascular.csv prefix: 04-03\n",
      "(38/72) to df.excel\n"
     ]
    },
    {
     "name": "stdout",
     "output_type": "stream",
     "text": [
      "(38/72) after df.excel\n",
      "(38/72) to merge\n",
      "(38/72) after merge: groupby: 532 is_invalid: 0\n",
      "(39/72) filename: 04-04-respiratory.csv name: 04-04 sheet_name: 04-04-respiratory\n",
      "[INFO] _process_filename_info: filename: 04-04-respiratory.csv prefix: 04-04\n",
      "(39/72) to df.excel\n",
      "(39/72) after df.excel\n",
      "(39/72) to merge\n",
      "(39/72) after merge: groupby: 532 is_invalid: 0\n",
      "(40/72) filename: 04-05-hematology.csv name: 04-05 sheet_name: 04-05-hematology\n",
      "[INFO] _process_filename_info: filename: 04-05-hematology.csv prefix: 04-05\n",
      "(40/72) to df.excel\n",
      "(40/72) after df.excel\n",
      "(40/72) to merge\n",
      "(40/72) after merge: groupby: 532 is_invalid: 0\n",
      "(41/72) filename: 04-06-metabolic.csv name: 04-06 sheet_name: 04-06-metabolic\n",
      "[INFO] _process_filename_info: filename: 04-06-metabolic.csv prefix: 04-06\n",
      "(41/72) to df.excel\n",
      "(41/72) after df.excel\n",
      "(41/72) to merge\n",
      "(41/72) after merge: groupby: 532 is_invalid: 0\n",
      "(42/72) filename: 04-07-renal.csv name: 04-07 sheet_name: 04-07-renal\n",
      "[INFO] _process_filename_info: filename: 04-07-renal.csv prefix: 04-07\n",
      "(42/72) to df.excel\n",
      "(42/72) after df.excel\n",
      "(42/72) to merge\n",
      "(42/72) after merge: groupby: 532 is_invalid: 0\n",
      "(43/72) filename: 04-08-gastrointestinal.csv name: 04-08 sheet_name: 04-08-gastrointestinal\n"
     ]
    },
    {
     "name": "stdout",
     "output_type": "stream",
     "text": [
      "[INFO] _process_filename_info: filename: 04-08-gastrointestinal.csv prefix: 04-08\n",
      "(43/72) to df.excel\n",
      "(43/72) after df.excel\n",
      "(43/72) to merge\n",
      "(43/72) after merge: groupby: 532 is_invalid: 0\n",
      "(44/72) filename: 04-09-skin.csv name: 04-09 sheet_name: 04-09-skin\n",
      "[INFO] _process_filename_info: filename: 04-09-skin.csv prefix: 04-09\n",
      "(44/72) to df.excel\n",
      "(44/72) after df.excel\n",
      "(44/72) to merge\n",
      "(44/72) after merge: groupby: 532 is_invalid: 0\n",
      "(45/72) filename: 04-10-auditory.csv name: 04-10 sheet_name: 04-10-auditory\n",
      "[INFO] _process_filename_info: filename: 04-10-auditory.csv prefix: 04-10\n",
      "(45/72) to df.excel\n",
      "(45/72) after df.excel\n",
      "(45/72) to merge\n",
      "(45/72) after merge: groupby: 532 is_invalid: 0\n",
      "(46/72) filename: 04-11-surgery.csv name: 04-11 sheet_name: 04-11-surgery\n",
      "[INFO] _process_filename_info: filename: 04-11-surgery.csv prefix: 04-11\n",
      "(46/72) to df.excel\n",
      "(46/72) after df.excel\n",
      "(46/72) to merge\n",
      "(46/72) after merge: groupby: 532 is_invalid: 0\n",
      "(47/72) filename: 04-12-infection.csv name: 04-12 sheet_name: 04-12-infection\n",
      "[INFO] _process_filename_info: filename: 04-12-infection.csv prefix: 04-12\n",
      "(47/72) to df.excel\n"
     ]
    },
    {
     "name": "stdout",
     "output_type": "stream",
     "text": [
      "(47/72) after df.excel\n",
      "(47/72) to merge\n",
      "(47/72) after merge: groupby: 532 is_invalid: 0\n",
      "(48/72) filename: 04-02-neuro-exam.csv name: 04-02 sheet_name: 04-02-neuro-exam\n",
      "[INFO] _process_filename_info: filename: 04-02-neuro-exam.csv prefix: 04-02\n",
      "(48/72) to df.excel\n",
      "(48/72) after df.excel\n",
      "(48/72) to merge\n",
      "(48/72) after merge: groupby: 532 is_invalid: 0\n",
      "(49/72) filename: 04-13-seizure.csv name: 04-13 sheet_name: 04-13-seizure\n",
      "[INFO] _process_filename_info: filename: 04-13-seizure.csv prefix: 04-13\n",
      "(49/72) to df.excel\n",
      "(49/72) after df.excel\n",
      "(49/72) to merge\n",
      "(49/72) after merge: groupby: 532 is_invalid: 0\n",
      "(50/72) filename: 04-14-birth-defect.csv name: 04-14 sheet_name: 04-14-birth-defect\n",
      "[INFO] _process_filename_info: filename: 04-14-birth-defect.csv prefix: 04-14\n",
      "(50/72) to df.excel\n",
      "(50/72) after df.excel\n",
      "(50/72) to merge\n",
      "(50/72) after merge: groupby: 532 is_invalid: 0\n",
      "(51/72) filename: 04-15-home-therapy.csv name: 04-15 sheet_name: 04-15-home-therapy\n"
     ]
    },
    {
     "name": "stdout",
     "output_type": "stream",
     "text": [
      "[INFO] _process_filename_info: filename: 04-15-home-therapy.csv prefix: 04-15\n",
      "(51/72) to df.excel\n",
      "(51/72) after df.excel\n",
      "(51/72) to merge\n",
      "(51/72) after merge: groupby: 532 is_invalid: 0\n",
      "(52/72) filename: 04-16-wdraw-support.csv name: 04-16 sheet_name: 04-16-wdraw-support\n",
      "[INFO] _process_filename_info: filename: 04-16-wdraw-support.csv prefix: 04-16\n",
      "(52/72) to df.excel\n",
      "(52/72) after df.excel\n",
      "(52/72) to merge\n",
      "(52/72) after merge: groupby: 532 is_invalid: 0\n",
      "(53/72) filename: 04-17-limit-care.csv name: 04-17 sheet_name: 04-17-limit-care\n",
      "[INFO] _process_filename_info: filename: 04-17-limit-care.csv prefix: 04-17\n",
      "(53/72) to df.excel\n",
      "(53/72) after df.excel\n",
      "(53/72) to merge\n",
      "(53/72) after merge: groupby: 532 is_invalid: 0\n",
      "(54/72) filename: 20-00-follow-up.csv name: 20-00 sheet_name: 20-00-follow-up\n",
      "[INFO] _process_filename_info: filename: 20-00-follow-up.csv prefix: 20-00\n",
      "(54/72) to df.excel\n",
      "(54/72) after df.excel\n",
      "(54/72) to merge\n",
      "(54/72) after merge: groupby: 532 is_invalid: 0\n",
      "(55/72) filename: 20-01-ses.csv name: 20-01 sheet_name: 20-01-ses\n"
     ]
    },
    {
     "name": "stdout",
     "output_type": "stream",
     "text": [
      "[INFO] _process_filename_info: filename: 20-01-ses.csv prefix: 20-01\n",
      "(55/72) to df.excel\n",
      "(55/72) after df.excel\n",
      "(55/72) to merge\n",
      "(55/72) after merge: groupby: 532 is_invalid: 0\n",
      "(56/72) filename: 20-02-medical-history.csv name: 20-02 sheet_name: 20-02-medical-history\n",
      "[INFO] _process_filename_info: filename: 20-02-medical-history.csv prefix: 20-02\n",
      "(56/72) to df.excel\n"
     ]
    },
    {
     "name": "stdout",
     "output_type": "stream",
     "text": [
      "(56/72) after df.excel\n",
      "(56/72) to merge\n",
      "(56/72) after merge: groupby: 532 is_invalid: 0\n",
      "(57/72) filename: 20-03-medical-exam.csv name: 20-03 sheet_name: 20-03-medical-exam\n",
      "[INFO] _process_filename_info: filename: 20-03-medical-exam.csv prefix: 20-03\n",
      "(57/72) to df.excel\n",
      "(57/72) after df.excel\n",
      "(57/72) to merge\n"
     ]
    },
    {
     "name": "stdout",
     "output_type": "stream",
     "text": [
      "(57/72) after merge: groupby: 532 is_invalid: 0\n",
      "(58/72) filename: 20-04-bayley-iii.csv name: 20-04 sheet_name: 20-04-bayley-iii\n",
      "[INFO] _process_filename_info: filename: 20-04-bayley-iii.csv prefix: 20-04\n",
      "(58/72) to df.excel\n",
      "(58/72) after df.excel\n",
      "(58/72) to merge\n",
      "(58/72) after merge: groupby: 532 is_invalid: 0\n",
      "(59/72) filename: 20-05-gmfcs.csv name: 20-05 sheet_name: 20-05-gmfcs\n",
      "[INFO] _process_filename_info: filename: 20-05-gmfcs.csv prefix: 20-05\n",
      "(59/72) to df.excel\n",
      "(59/72) after df.excel\n",
      "(59/72) to merge\n",
      "(59/72) after merge: groupby: 532 is_invalid: 0\n",
      "(60/72) filename: 20-06-status.csv name: 20-06 sheet_name: 20-06-status\n",
      "[INFO] _process_filename_info: filename: 20-06-status.csv prefix: 20-06\n",
      "(60/72) to df.excel\n",
      "(60/72) after df.excel\n",
      "(60/72) to merge\n"
     ]
    },
    {
     "name": "stdout",
     "output_type": "stream",
     "text": [
      "(60/72) after merge: groupby: 532 is_invalid: 0\n",
      "(61/72) filename: 20-07-readmission.csv name: 20-07 sheet_name: 20-07-readmission\n",
      "[INFO] _process_filename_info: filename: 20-07-readmission.csv prefix: 20-07\n",
      "_flatten: to pivot_table: df: 212\n",
      "_flatten: after pivot_table: time: 0.030686140060424805\n",
      "_flatten: after to_flat_index\n",
      "(61/72) to df.excel\n",
      "(61/72) after df.excel\n",
      "(61/72) to merge\n",
      "(61/72) after merge: groupby: 532 is_invalid: 0\n",
      "(62/72) filename: 20-08-lost.csv name: 20-08 sheet_name: 20-08-lost\n",
      "[INFO] _process_filename_info: filename: 20-08-lost.csv prefix: 20-08\n",
      "(62/72) to df.excel\n",
      "(62/72) after df.excel\n",
      "(62/72) to merge\n",
      "(62/72) after merge: groupby: 532 is_invalid: 0\n",
      "(63/72) filename: 30-01-secondary.csv name: 30-01 sheet_name: 30-01-secondary\n"
     ]
    },
    {
     "name": "stdout",
     "output_type": "stream",
     "text": [
      "[INFO] _process_filename_info: filename: 30-01-secondary.csv prefix: 30-01\n",
      "(63/72) to df.excel\n",
      "(63/72) after df.excel\n",
      "(63/72) to merge\n",
      "(63/72) after merge: groupby: 532 is_invalid: 0\n",
      "(64/72) filename: 30-02-outcome.csv name: 30-02 sheet_name: 30-02-outcome\n",
      "[INFO] _process_filename_info: filename: 30-02-outcome.csv prefix: 30-02\n",
      "(64/72) to df.excel\n",
      "(64/72) after df.excel\n",
      "(64/72) to merge\n",
      "(64/72) after merge: groupby: 532 is_invalid: 0\n",
      "(65/72) filename: 30-03-mri.csv name: 30-03 sheet_name: 30-03-mri\n",
      "[INFO] _process_filename_info: filename: 30-03-mri.csv prefix: 30-03\n",
      "(65/72) to df.excel\n"
     ]
    },
    {
     "name": "stdout",
     "output_type": "stream",
     "text": [
      "(65/72) after df.excel\n",
      "(65/72) to merge\n",
      "(65/72) after merge: groupby: 532 is_invalid: 0\n",
      "(66/72) filename: 31-02-total-modified-sarnat.csv name: 31-02 sheet_name: 31-02-total-modified-sarnat\n",
      "[INFO] _process_filename_info: filename: 31-02-total-modified-sarnat.csv prefix: 31-02\n",
      "(66/72) to df.excel\n",
      "(66/72) after df.excel\n",
      "(66/72) to merge\n",
      "(66/72) after merge: groupby: 532 is_invalid: 0\n",
      "(67/72) filename: 31-03-mri.csv name: 31-03 sheet_name: 31-03-mri\n",
      "[INFO] _process_filename_info: filename: 31-03-mri.csv prefix: 31-03\n",
      "(67/72) to df.excel\n",
      "(67/72) after df.excel\n",
      "(67/72) to merge\n",
      "(67/72) after merge: groupby: 532 is_invalid: 0\n",
      "(68/72) filename: 31-04-pse.csv name: 31-04 sheet_name: 31-04-pse\n",
      "[INFO] _process_filename_info: filename: 31-04-pse.csv prefix: 31-04\n",
      "(68/72) to df.excel\n"
     ]
    },
    {
     "name": "stdout",
     "output_type": "stream",
     "text": [
      "(68/72) after df.excel\n",
      "(68/72) to merge\n",
      "(68/72) after merge: groupby: 532 is_invalid: 0\n",
      "(69/72) filename: 31-05-disability-level-death.csv name: 31-05 sheet_name: 31-05-disability-level-death\n",
      "[INFO] _process_filename_info: filename: 31-05-disability-level-death.csv prefix: 31-05\n",
      "(69/72) to df.excel\n",
      "(69/72) after df.excel\n",
      "(69/72) to merge\n",
      "(69/72) after merge: groupby: 532 is_invalid: 0\n",
      "(70/72) filename: 31-06-emergency-csection.csv name: 31-06 sheet_name: 31-06-emergency-csection\n",
      "[INFO] _process_filename_info: filename: 31-06-emergency-csection.csv prefix: 31-06\n",
      "(70/72) to df.excel\n",
      "(70/72) after df.excel\n",
      "(70/72) to merge\n",
      "(70/72) after merge: groupby: 532 is_invalid: 0\n",
      "(71/72) filename: 31-07-length-of-stay.csv name: 31-07 sheet_name: 31-07-length-of-stay\n"
     ]
    },
    {
     "name": "stdout",
     "output_type": "stream",
     "text": [
      "[INFO] _process_filename_info: filename: 31-07-length-of-stay.csv prefix: 31-07\n",
      "(71/72) to df.excel\n",
      "(71/72) after df.excel\n",
      "(71/72) to merge\n",
      "(71/72) after merge: groupby: 532 is_invalid: 0\n"
     ]
    },
    {
     "name": "stdout",
     "output_type": "stream",
     "text": [
      "merged columns: 6131\n"
     ]
    },
    {
     "name": "stdout",
     "output_type": "stream",
     "text": [
      "to excel.close\n"
     ]
    },
    {
     "name": "stdout",
     "output_type": "stream",
     "text": [
      "done\n"
     ]
    }
   ],
   "source": [
    "out_filename = os.sep.join([out_dir, 'zz-merged.xlsx'])\n",
    "excel = pd.ExcelWriter(out_filename, engine='xlsxwriter')\n",
    "\n",
    "df_merge = None\n",
    "for idx, filename_info in enumerate(filename_infos):\n",
    "    if not filename_info.get('is_merge', True):\n",
    "        continue\n",
    "\n",
    "    # 1. names\n",
    "    filename = filename_info['name']\n",
    "    prefix = COMBINE_harmonizer.flatten_filename_prefix(filename)\n",
    "    sheet_name = COMBINE_harmonizer.flatten_sheet_name(filename)\n",
    "    print(f\"({idx}/{len(filename_infos)}) filename: {filename_info['name']} name: {prefix} sheet_name: {sheet_name}\")\n",
    "\n",
    "    # 2. process file info.\n",
    "    # df for sheet in excel.\n",
    "    # df_flatten for merging as the flattened csv.\n",
    "    df, df_flatten = _process_filename_info(filename_info)\n",
    "\n",
    "    # 3. to excel.\n",
    "    print(f'({idx}/{len(filename_infos)}) to df.excel')\n",
    "    df.to_excel(excel, sheet_name=sheet_name)\n",
    "    print(f'({idx}/{len(filename_infos)}) after df.excel')\n",
    "\n",
    "    # 4. to merge.\n",
    "    print(f'({idx}/{len(filename_infos)}) to merge')\n",
    "    if df_merge is None:\n",
    "        df_merge = df_flatten\n",
    "    else:\n",
    "        df_merge = df_merge.merge(df_flatten, on=COMBINE_harmonizer.FLATTEN_MERGE_COLUMNS, how='outer')\n",
    "\n",
    "    # 5. check that unique-id is still unique.\n",
    "    df_groupby = df_merge.groupby(COMBINE_harmonizer.FLATTEN_MERGE_COLUMNS).agg(count=('_study', 'count'))\n",
    "    is_invalid = df_groupby['count'] > 1\n",
    "    print(f'({idx}/{len(filename_infos)}) after merge: groupby: {len(df_groupby)} is_invalid: {is_invalid.sum()}')\n",
    "\n",
    "# save to csv.\n",
    "out_filename = os.sep.join([out_dir, 'zz-merged-flatten.csv'])\n",
    "df_merge.to_csv(out_filename, index=False)\n",
    "\n",
    "# merge to excel.\n",
    "print(f'merged columns: {len(df_merge.columns)}')\n",
    "# df_merge = df_merge.transpose()\n",
    "df_merge.to_excel(excel, sheet_name='flatten')\n",
    "\n",
    "# close excel.\n",
    "print('to excel.close')\n",
    "excel.close()\n",
    "print('done')"
   ]
  },
  {
   "cell_type": "code",
   "execution_count": null,
   "id": "ffdf5536-4993-48a2-b363-963252c83863",
   "metadata": {},
   "outputs": [],
   "source": []
  }
 ],
 "metadata": {
  "kernelspec": {
   "display_name": ".venv",
   "language": "python",
   "name": "python3"
  },
  "language_info": {
   "codemirror_mode": {
    "name": "ipython",
    "version": 3
   },
   "file_extension": ".py",
   "mimetype": "text/x-python",
   "name": "python",
   "nbconvert_exporter": "python",
   "pygments_lexer": "ipython3",
   "version": "3.13.0"
  }
 },
 "nbformat": 4,
 "nbformat_minor": 5
}
