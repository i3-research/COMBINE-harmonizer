{
 "cells": [
  {
   "cell_type": "code",
   "execution_count": 1,
   "id": "7eda6fb9-1ae9-4f41-851f-f643d557cdff",
   "metadata": {},
   "outputs": [],
   "source": [
    "import pandas as pd\n",
    "import os\n",
    "\n",
    "import COMBINE_harmonizer\n",
    "from COMBINE_harmonizer import cfg"
   ]
  },
  {
   "cell_type": "markdown",
   "id": "f2443ad2-e75e-42df-9d3f-b0280cc166b4",
   "metadata": {},
   "source": [
    "## 01. init"
   ]
  },
  {
   "cell_type": "code",
   "execution_count": 2,
   "id": "d88dff75-1d87-41e0-8fab-bd3417408936",
   "metadata": {},
   "outputs": [],
   "source": [
    "root_dir = '../'\n",
    "COMBINE_harmonizer.init(f'{root_dir}/config.yaml')"
   ]
  },
  {
   "cell_type": "code",
   "execution_count": 3,
   "id": "e85657c7-3318-45e7-b348-a5ca8f876fe3",
   "metadata": {},
   "outputs": [],
   "source": [
    "excel_filename = f'{root_dir}/Dictionary_HIE_clinical_variables.xlsx'"
   ]
  },
  {
   "cell_type": "code",
   "execution_count": 4,
   "id": "998e55aa-0e28-46ef-a7c9-3040684c779a",
   "metadata": {},
   "outputs": [
    {
     "data": {
      "text/plain": [
       "Index(['Category', 'Subcategory', 'Standardized_VariableNames_Dictionary',\n",
       "       'type', 'Variable_Description', '#studies w/ this var', 'redcap',\n",
       "       'comment', 'lower_var', 'var_eq_redcap', 'connect_redcap',\n",
       "       'snakecase_var', 'PREVENT', 'HEAL', 'LH', 'OC', 'BONBID', 'PBI',\n",
       "       'Florida', 'MARBLE', 'EMBRACE', 'HELIX', 'NBS - Peeples', 'NINDS'],\n",
       "      dtype='object')"
      ]
     },
     "execution_count": 4,
     "metadata": {},
     "output_type": "execute_result"
    }
   ],
   "source": [
    "df_dict = COMBINE_harmonizer.load_data_dict(excel_filename, COMBINE_harmonizer.SHEET_FOLLOW_UP)\n",
    "df_dict.columns"
   ]
  },
  {
   "cell_type": "code",
   "execution_count": 5,
   "id": "e34feefa",
   "metadata": {},
   "outputs": [
    {
     "data": {
      "text/plain": [
       "array(['Follow Up'], dtype=object)"
      ]
     },
     "execution_count": 5,
     "metadata": {},
     "output_type": "execute_result"
    }
   ],
   "source": [
    "df_dict[COMBINE_harmonizer.DATA_DICT_CATEGORY].unique()"
   ]
  },
  {
   "cell_type": "markdown",
   "id": "5dbf3621-969b-4c0a-a3d5-3054ab8780f8",
   "metadata": {},
   "source": [
    "## 02. duplicated columns"
   ]
  },
  {
   "cell_type": "code",
   "execution_count": 6,
   "id": "405a5fe7-9dda-4adc-9928-c21548d979de",
   "metadata": {},
   "outputs": [
    {
     "data": {
      "text/html": [
       "<div>\n",
       "<style scoped>\n",
       "    .dataframe tbody tr th:only-of-type {\n",
       "        vertical-align: middle;\n",
       "    }\n",
       "\n",
       "    .dataframe tbody tr th {\n",
       "        vertical-align: top;\n",
       "    }\n",
       "\n",
       "    .dataframe thead th {\n",
       "        text-align: right;\n",
       "    }\n",
       "</style>\n",
       "<table border=\"1\" class=\"dataframe\">\n",
       "  <thead>\n",
       "    <tr style=\"text-align: right;\">\n",
       "      <th></th>\n",
       "      <th>Standardized_VariableNames_Dictionary</th>\n",
       "      <th>_count</th>\n",
       "    </tr>\n",
       "  </thead>\n",
       "  <tbody>\n",
       "  </tbody>\n",
       "</table>\n",
       "</div>"
      ],
      "text/plain": [
       "Empty DataFrame\n",
       "Columns: [Standardized_VariableNames_Dictionary, _count]\n",
       "Index: []"
      ]
     },
     "execution_count": 6,
     "metadata": {},
     "output_type": "execute_result"
    }
   ],
   "source": [
    "df_dict_groupby = df_dict.groupby([COMBINE_harmonizer.DATA_DICT_VAR_NAME], as_index=False).agg(_count=(COMBINE_harmonizer.DATA_DICT_VAR_NAME, 'count'))\n",
    "is_invalid = df_dict_groupby['_count'] > 1\n",
    "df_dict_groupby[is_invalid]"
   ]
  },
  {
   "cell_type": "code",
   "execution_count": null,
   "id": "8e9f4f1e",
   "metadata": {},
   "outputs": [],
   "source": []
  }
 ],
 "metadata": {
  "kernelspec": {
   "display_name": ".venv",
   "language": "python",
   "name": "python3"
  },
  "language_info": {
   "codemirror_mode": {
    "name": "ipython",
    "version": 3
   },
   "file_extension": ".py",
   "mimetype": "text/x-python",
   "name": "python",
   "nbconvert_exporter": "python",
   "pygments_lexer": "ipython3",
   "version": "3.13.2"
  }
 },
 "nbformat": 4,
 "nbformat_minor": 5
}
