{
 "cells": [
  {
   "cell_type": "code",
   "execution_count": 1,
   "id": "7eda6fb9-1ae9-4f41-851f-f643d557cdff",
   "metadata": {},
   "outputs": [],
   "source": [
    "import pandas as pd\n",
    "import os\n",
    "\n",
    "import COMBINE_harmonizer\n",
    "from COMBINE_harmonizer import cfg"
   ]
  },
  {
   "cell_type": "markdown",
   "id": "f2443ad2-e75e-42df-9d3f-b0280cc166b4",
   "metadata": {},
   "source": [
    "## 01. init"
   ]
  },
  {
   "cell_type": "code",
   "execution_count": 2,
   "id": "d88dff75-1d87-41e0-8fab-bd3417408936",
   "metadata": {},
   "outputs": [],
   "source": [
    "root_dir = '../'\n",
    "COMBINE_harmonizer.init(f'{root_dir}/config.yaml')"
   ]
  },
  {
   "cell_type": "code",
   "execution_count": 3,
   "id": "e85657c7-3318-45e7-b348-a5ca8f876fe3",
   "metadata": {},
   "outputs": [],
   "source": [
    "excel_filename = f'{root_dir}/Dictionary_HIE_clinical_variables.xlsx'"
   ]
  },
  {
   "cell_type": "code",
   "execution_count": 4,
   "id": "998e55aa-0e28-46ef-a7c9-3040684c779a",
   "metadata": {},
   "outputs": [
    {
     "name": "stderr",
     "output_type": "stream",
     "text": [
      "/Users/chhsiao/bch/i3/COMBINE-harmonizer/COMBINE_harmonizer/utils_data_dict.py:46: SettingWithCopyWarning: \n",
      "A value is trying to be set on a copy of a slice from a DataFrame\n",
      "\n",
      "See the caveats in the documentation: https://pandas.pydata.org/pandas-docs/stable/user_guide/indexing.html#returning-a-view-versus-a-copy\n",
      "  df.loc[idx, constants.CATEGORY] = category\n"
     ]
    },
    {
     "data": {
      "text/plain": [
       "Index(['Category', 'Subcategory', 'Standardized_VariableNames_Dictionary',\n",
       "       'type', 'Variable_Description', '#studies w/ this var', 'redcap',\n",
       "       'comment', 'lower_var', 'var_eq_redcap', 'connect_redcap',\n",
       "       'snakecase_var', 'PREVENT', 'NINDS', 'HEAL', 'LH', 'OC', 'BONBID',\n",
       "       'PBI', 'Florida', 'MARBLE', 'EMBRACE', 'HELIX'],\n",
       "      dtype='object')"
      ]
     },
     "execution_count": 4,
     "metadata": {},
     "output_type": "execute_result"
    }
   ],
   "source": [
    "df_dict = COMBINE_harmonizer.load_data_dict(excel_filename, COMBINE_harmonizer.SHEET_MAIN)\n",
    "df_dict.columns"
   ]
  },
  {
   "cell_type": "code",
   "execution_count": 5,
   "id": "18e5306d",
   "metadata": {},
   "outputs": [
    {
     "data": {
      "text/plain": [
       "array(['Pre-intervention', 'Intervention', 'Post-intervention',\n",
       "       'NICU Discharge'], dtype=object)"
      ]
     },
     "execution_count": 5,
     "metadata": {},
     "output_type": "execute_result"
    }
   ],
   "source": [
    "df_dict[COMBINE_harmonizer.CATEGORY].unique()"
   ]
  },
  {
   "cell_type": "markdown",
   "id": "5dbf3621-969b-4c0a-a3d5-3054ab8780f8",
   "metadata": {},
   "source": [
    "## 02. duplicated columns"
   ]
  },
  {
   "cell_type": "code",
   "execution_count": 6,
   "id": "405a5fe7-9dda-4adc-9928-c21548d979de",
   "metadata": {},
   "outputs": [
    {
     "data": {
      "text/html": [
       "<div>\n",
       "<style scoped>\n",
       "    .dataframe tbody tr th:only-of-type {\n",
       "        vertical-align: middle;\n",
       "    }\n",
       "\n",
       "    .dataframe tbody tr th {\n",
       "        vertical-align: top;\n",
       "    }\n",
       "\n",
       "    .dataframe thead th {\n",
       "        text-align: right;\n",
       "    }\n",
       "</style>\n",
       "<table border=\"1\" class=\"dataframe\">\n",
       "  <thead>\n",
       "    <tr style=\"text-align: right;\">\n",
       "      <th></th>\n",
       "      <th>Standardized_VariableNames_Dictionary</th>\n",
       "      <th>count</th>\n",
       "    </tr>\n",
       "  </thead>\n",
       "  <tbody>\n",
       "    <tr>\n",
       "      <th>63</th>\n",
       "      <td>MRIDate</td>\n",
       "      <td>3</td>\n",
       "    </tr>\n",
       "    <tr>\n",
       "      <th>172</th>\n",
       "      <td>MRITime</td>\n",
       "      <td>2</td>\n",
       "    </tr>\n",
       "    <tr>\n",
       "      <th>365</th>\n",
       "      <td>birthDate</td>\n",
       "      <td>2</td>\n",
       "    </tr>\n",
       "    <tr>\n",
       "      <th>487</th>\n",
       "      <td>center</td>\n",
       "      <td>2</td>\n",
       "    </tr>\n",
       "    <tr>\n",
       "      <th>1136</th>\n",
       "      <td>subjectID</td>\n",
       "      <td>3</td>\n",
       "    </tr>\n",
       "  </tbody>\n",
       "</table>\n",
       "</div>"
      ],
      "text/plain": [
       "     Standardized_VariableNames_Dictionary  count\n",
       "63                                 MRIDate      3\n",
       "172                                MRITime      2\n",
       "365                              birthDate      2\n",
       "487                                 center      2\n",
       "1136                             subjectID      3"
      ]
     },
     "execution_count": 6,
     "metadata": {},
     "output_type": "execute_result"
    }
   ],
   "source": [
    "df_dict['count'] = 1\n",
    "df_dict_groupby = df_dict.groupby(['Standardized_VariableNames_Dictionary'], as_index=False).agg({'count': 'sum'})\n",
    "is_invalid = df_dict_groupby['count'] > 1\n",
    "df_dict_groupby[is_invalid]"
   ]
  },
  {
   "cell_type": "code",
   "execution_count": 7,
   "id": "88f55a63-eb2b-4675-b8e4-221c9d8dfd65",
   "metadata": {},
   "outputs": [
    {
     "data": {
      "text/html": [
       "<div>\n",
       "<style scoped>\n",
       "    .dataframe tbody tr th:only-of-type {\n",
       "        vertical-align: middle;\n",
       "    }\n",
       "\n",
       "    .dataframe tbody tr th {\n",
       "        vertical-align: top;\n",
       "    }\n",
       "\n",
       "    .dataframe thead th {\n",
       "        text-align: right;\n",
       "    }\n",
       "</style>\n",
       "<table border=\"1\" class=\"dataframe\">\n",
       "  <thead>\n",
       "    <tr style=\"text-align: right;\">\n",
       "      <th></th>\n",
       "      <th>Standardized_VariableNames_Dictionary</th>\n",
       "      <th>type</th>\n",
       "    </tr>\n",
       "  </thead>\n",
       "  <tbody>\n",
       "    <tr>\n",
       "      <th>805</th>\n",
       "      <td>MRIDate</td>\n",
       "      <td>date</td>\n",
       "    </tr>\n",
       "    <tr>\n",
       "      <th>813</th>\n",
       "      <td>MRIDate</td>\n",
       "      <td>date</td>\n",
       "    </tr>\n",
       "    <tr>\n",
       "      <th>832</th>\n",
       "      <td>MRIDate</td>\n",
       "      <td>date</td>\n",
       "    </tr>\n",
       "    <tr>\n",
       "      <th>806</th>\n",
       "      <td>MRITime</td>\n",
       "      <td>time</td>\n",
       "    </tr>\n",
       "    <tr>\n",
       "      <th>814</th>\n",
       "      <td>MRITime</td>\n",
       "      <td>time</td>\n",
       "    </tr>\n",
       "    <tr>\n",
       "      <th>4</th>\n",
       "      <td>birthDate</td>\n",
       "      <td>date</td>\n",
       "    </tr>\n",
       "    <tr>\n",
       "      <th>135</th>\n",
       "      <td>birthDate</td>\n",
       "      <td>date</td>\n",
       "    </tr>\n",
       "    <tr>\n",
       "      <th>136</th>\n",
       "      <td>birthTime</td>\n",
       "      <td>time</td>\n",
       "    </tr>\n",
       "    <tr>\n",
       "      <th>0</th>\n",
       "      <td>center</td>\n",
       "      <td>center</td>\n",
       "    </tr>\n",
       "    <tr>\n",
       "      <th>823</th>\n",
       "      <td>center</td>\n",
       "      <td>center</td>\n",
       "    </tr>\n",
       "    <tr>\n",
       "      <th>1</th>\n",
       "      <td>subjectID</td>\n",
       "      <td>text</td>\n",
       "    </tr>\n",
       "    <tr>\n",
       "      <th>799</th>\n",
       "      <td>subjectID</td>\n",
       "      <td>text</td>\n",
       "    </tr>\n",
       "    <tr>\n",
       "      <th>825</th>\n",
       "      <td>subjectID</td>\n",
       "      <td>text</td>\n",
       "    </tr>\n",
       "  </tbody>\n",
       "</table>\n",
       "</div>"
      ],
      "text/plain": [
       "    Standardized_VariableNames_Dictionary    type\n",
       "805                               MRIDate    date\n",
       "813                               MRIDate    date\n",
       "832                               MRIDate    date\n",
       "806                               MRITime    time\n",
       "814                               MRITime    time\n",
       "4                               birthDate    date\n",
       "135                             birthDate    date\n",
       "136                             birthTime    time\n",
       "0                                  center  center\n",
       "823                                center  center\n",
       "1                               subjectID    text\n",
       "799                             subjectID    text\n",
       "825                             subjectID    text"
      ]
     },
     "execution_count": 7,
     "metadata": {},
     "output_type": "execute_result"
    }
   ],
   "source": [
    "invalid_columns = list(df_dict_groupby[is_invalid]['Standardized_VariableNames_Dictionary']) + ['birthTime']\n",
    "\n",
    "is_invalid_df_dict = df_dict['Standardized_VariableNames_Dictionary'].isin(invalid_columns)\n",
    "columns = ['Standardized_VariableNames_Dictionary', 'type']\n",
    "df_dict[is_invalid_df_dict][columns].sort_values(by=['Standardized_VariableNames_Dictionary'])"
   ]
  }
 ],
 "metadata": {
  "kernelspec": {
   "display_name": ".venv",
   "language": "python",
   "name": "python3"
  },
  "language_info": {
   "codemirror_mode": {
    "name": "ipython",
    "version": 3
   },
   "file_extension": ".py",
   "mimetype": "text/x-python",
   "name": "python",
   "nbconvert_exporter": "python",
   "pygments_lexer": "ipython3",
   "version": "3.13.0"
  }
 },
 "nbformat": 4,
 "nbformat_minor": 5
}
